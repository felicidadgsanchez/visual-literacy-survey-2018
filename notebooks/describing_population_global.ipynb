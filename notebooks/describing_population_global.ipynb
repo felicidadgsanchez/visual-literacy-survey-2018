{
 "cells": [
  {
   "cell_type": "markdown",
   "metadata": {},
   "source": [
    "# Describing the population that completed the survey"
   ]
  },
  {
   "cell_type": "code",
   "execution_count": 1,
   "metadata": {},
   "outputs": [
    {
     "name": "stdout",
     "output_type": "stream",
     "text": [
      "Importing Jupyter notebook from data_preparation.ipynb\n"
     ]
    }
   ],
   "source": [
    "import nbimporter\n",
    "from data_preparation import *"
   ]
  },
  {
   "cell_type": "code",
   "execution_count": 2,
   "metadata": {},
   "outputs": [
    {
     "data": {
      "text/html": [
       "<script type=\"text/javascript\">window.PlotlyConfig = {MathJaxConfig: 'local'};</script><script type=\"text/javascript\">if (window.MathJax) {MathJax.Hub.Config({SVG: {font: \"STIX-Web\"}});}</script><script>requirejs.config({paths: { 'plotly': ['https://cdn.plot.ly/plotly-latest.min']},});if(!window._Plotly) {require(['plotly'],function(plotly) {window._Plotly=plotly;});}</script>"
      ],
      "text/vnd.plotly.v1+html": [
       "<script type=\"text/javascript\">window.PlotlyConfig = {MathJaxConfig: 'local'};</script><script type=\"text/javascript\">if (window.MathJax) {MathJax.Hub.Config({SVG: {font: \"STIX-Web\"}});}</script><script>requirejs.config({paths: { 'plotly': ['https://cdn.plot.ly/plotly-latest.min']},});if(!window._Plotly) {require(['plotly'],function(plotly) {window._Plotly=plotly;});}</script>"
      ]
     },
     "metadata": {},
     "output_type": "display_data"
    }
   ],
   "source": [
    "%matplotlib inline\n",
    "\n",
    "import numpy as np\n",
    "import pandas as pd\n",
    "\n",
    "from scipy import stats\n",
    "\n",
    "import colorlover as cl\n",
    "from plotly.offline import download_plotlyjs, init_notebook_mode, plot, iplot\n",
    "import plotly.graph_objs as go\n",
    "init_notebook_mode(connected=True)\n",
    "\n",
    "import matplotlib.pyplot as plt\n",
    "plt.style.use('fivethirtyeight')\n",
    "pd.options.display.max_rows = 500"
   ]
  },
  {
   "cell_type": "code",
   "execution_count": 3,
   "metadata": {},
   "outputs": [],
   "source": [
    "data_complete_en = get_dataframe_analysis_en(True)\n",
    "data_complete_esp = get_dataframe_analysis_esp(True)\n",
    "\n",
    "data_incomplete_en_1, data_incomplete_en_2 = read_en_incomplete_survey_datasets()\n",
    "data_incomplete_en = merge_2_dataframes(data_incomplete_en_1, data_incomplete_en_2)\n",
    "data_incomplete_esp_1, data_incomplete_esp_2 = read_esp_incomplete_survey_datasets()\n",
    "data_incomplete_esp = merge_2_dataframes(data_incomplete_esp_1, data_incomplete_esp_2)"
   ]
  },
  {
   "cell_type": "markdown",
   "metadata": {},
   "source": [
    "## First of all, we check if the data shape is what we expect.\n",
    "\n",
    "767 persons completed the survey. Each respondent could filled 125 possible variables"
   ]
  },
  {
   "cell_type": "code",
   "execution_count": 4,
   "metadata": {},
   "outputs": [
    {
     "data": {
      "text/plain": [
       "(767, 125)"
      ]
     },
     "metadata": {},
     "output_type": "display_data"
    },
    {
     "data": {
      "text/plain": [
       "(767, 125)"
      ]
     },
     "metadata": {},
     "output_type": "display_data"
    }
   ],
   "source": [
    "display(data_complete_en.shape)\n",
    "display(data_complete_esp.shape)"
   ]
  },
  {
   "cell_type": "markdown",
   "metadata": {},
   "source": [
    "Also, we check the total population that participated in the study, and we find the percentage of people who completed the survey vs. those who not."
   ]
  },
  {
   "cell_type": "code",
   "execution_count": 5,
   "metadata": {},
   "outputs": [
    {
     "name": "stdout",
     "output_type": "stream",
     "text": [
      "Participants who started the survey: 1821\n",
      "Participants who completed the survey: 767\n",
      "Ratio participants who completed the survey vs. total: 42.12%\n"
     ]
    }
   ],
   "source": [
    "print(\n",
    "    f\"Participants who started the survey: {len(data_incomplete_en.index)}\")\n",
    "print(f\"Participants who completed the survey: {len(data_complete_en.index)}\")\n",
    "\n",
    "print(\n",
    "    f\"Ratio participants who completed the survey vs. total: {round(len(data_complete_en.index)/len(data_incomplete_en.index)*100,2)}%\")"
   ]
  },
  {
   "cell_type": "markdown",
   "metadata": {},
   "source": [
    "## Analyzing the balance between genders\n",
    "\n",
    "Possible responses: \n",
    "  * 0 = Male\n",
    "  * 1 = Female\n",
    "  * 2 = Other"
   ]
  },
  {
   "cell_type": "code",
   "execution_count": 6,
   "metadata": {
    "scrolled": false
   },
   "outputs": [
    {
     "name": "stdout",
     "output_type": "stream",
     "text": [
      "Describing the variable Gender\n"
     ]
    },
    {
     "data": {
      "text/plain": [
       "count        767\n",
       "unique         3\n",
       "top       Female\n",
       "freq         403\n",
       "Name: Gender, dtype: object"
      ]
     },
     "metadata": {},
     "output_type": "display_data"
    },
    {
     "name": "stdout",
     "output_type": "stream",
     "text": [
      "Count of each value in Gender expresed as gender / amount\n"
     ]
    },
    {
     "data": {
      "text/plain": [
       "Female    403\n",
       "Male      358\n",
       "Other       6\n",
       "Name: Gender, dtype: int64"
      ]
     },
     "metadata": {},
     "output_type": "display_data"
    },
    {
     "name": "stdout",
     "output_type": "stream",
     "text": [
      "Percentage of each value in Gender expresed as gender / percentage\n"
     ]
    },
    {
     "data": {
      "text/plain": [
       "Female    52.54\n",
       "Male      46.68\n",
       "Other      0.78\n",
       "Name: Gender, dtype: float64"
      ]
     },
     "metadata": {},
     "output_type": "display_data"
    },
    {
     "data": {
      "application/vnd.plotly.v1+json": {
       "config": {
        "linkText": "Export to plot.ly",
        "plotlyServerURL": "https://plot.ly",
        "showLink": false
       },
       "data": [
        {
         "marker": {
          "color": [
           "rgb(102,194,165)",
           "rgb(254,224,139)",
           "rgb(244,109,67)"
          ]
         },
         "name": "Gender",
         "text": [
          52.54,
          46.68,
          0.7799999999999999
         ],
         "type": "bar",
         "uid": "ec0b1796-c3e7-44c6-8d59-5272ddd0e1d8",
         "x": [
          "Female",
          "Male",
          "Other"
         ],
         "y": [
          403,
          358,
          6
         ]
        }
       ],
       "layout": {
        "bargap": 0.2,
        "xaxis": {
         "title": {
          "text": "Gender"
         }
        },
        "yaxis": {
         "title": {
          "text": "Total"
         }
        }
       }
      },
      "text/html": [
       "<div id=\"6307ba28-6921-488d-83b8-8edbd7b2f1a0\" style=\"height: 525px; width: 100%;\" class=\"plotly-graph-div\"></div><script type=\"text/javascript\">require([\"plotly\"], function(Plotly) { window.PLOTLYENV=window.PLOTLYENV || {};window.PLOTLYENV.BASE_URL=\"https://plot.ly\";\n",
       "if (document.getElementById(\"6307ba28-6921-488d-83b8-8edbd7b2f1a0\")) {\n",
       "    Plotly.newPlot(\"6307ba28-6921-488d-83b8-8edbd7b2f1a0\", [{\"marker\": {\"color\": [\"rgb(102,194,165)\", \"rgb(254,224,139)\", \"rgb(244,109,67)\"]}, \"name\": \"Gender\", \"text\": [52.54, 46.68, 0.7799999999999999], \"x\": [\"Female\", \"Male\", \"Other\"], \"y\": [403, 358, 6], \"type\": \"bar\", \"uid\": \"ec0b1796-c3e7-44c6-8d59-5272ddd0e1d8\"}], {\"bargap\": 0.2, \"xaxis\": {\"title\": {\"text\": \"Gender\"}}, \"yaxis\": {\"title\": {\"text\": \"Total\"}}}, {\"showLink\": false, \"linkText\": \"Export to plot.ly\", \"plotlyServerURL\": \"https://plot.ly\"}); \n",
       "}\n",
       "});</script><script type=\"text/javascript\">window.addEventListener(\"resize\", function(){if (document.getElementById(\"6307ba28-6921-488d-83b8-8edbd7b2f1a0\")) {window._Plotly.Plots.resize(document.getElementById(\"6307ba28-6921-488d-83b8-8edbd7b2f1a0\"));};})</script>"
      ],
      "text/vnd.plotly.v1+html": [
       "<div id=\"6307ba28-6921-488d-83b8-8edbd7b2f1a0\" style=\"height: 525px; width: 100%;\" class=\"plotly-graph-div\"></div><script type=\"text/javascript\">require([\"plotly\"], function(Plotly) { window.PLOTLYENV=window.PLOTLYENV || {};window.PLOTLYENV.BASE_URL=\"https://plot.ly\";\n",
       "if (document.getElementById(\"6307ba28-6921-488d-83b8-8edbd7b2f1a0\")) {\n",
       "    Plotly.newPlot(\"6307ba28-6921-488d-83b8-8edbd7b2f1a0\", [{\"marker\": {\"color\": [\"rgb(102,194,165)\", \"rgb(254,224,139)\", \"rgb(244,109,67)\"]}, \"name\": \"Gender\", \"text\": [52.54, 46.68, 0.7799999999999999], \"x\": [\"Female\", \"Male\", \"Other\"], \"y\": [403, 358, 6], \"type\": \"bar\", \"uid\": \"ec0b1796-c3e7-44c6-8d59-5272ddd0e1d8\"}], {\"bargap\": 0.2, \"xaxis\": {\"title\": {\"text\": \"Gender\"}}, \"yaxis\": {\"title\": {\"text\": \"Total\"}}}, {\"showLink\": false, \"linkText\": \"Export to plot.ly\", \"plotlyServerURL\": \"https://plot.ly\"}); \n",
       "}\n",
       "});</script><script type=\"text/javascript\">window.addEventListener(\"resize\", function(){if (document.getElementById(\"6307ba28-6921-488d-83b8-8edbd7b2f1a0\")) {window._Plotly.Plots.resize(document.getElementById(\"6307ba28-6921-488d-83b8-8edbd7b2f1a0\"));};})</script>"
      ]
     },
     "metadata": {},
     "output_type": "display_data"
    }
   ],
   "source": [
    "colors_gender = {0: cl.scales['9']['div']['Spectral'][7],\n",
    "                 1: cl.scales['9']['div']['Spectral'][3],\n",
    "                 2: cl.scales['9']['div']['Spectral'][1]}\n",
    "\n",
    "colors_gender_list = [cl.scales['9']['div']['Spectral'][7], cl.scales['9']\n",
    "                      ['div']['Spectral'][3], cl.scales['9']['div']['Spectral'][1]]\n",
    "\n",
    "names_gender = ['Male', 'Female', 'Other']\n",
    "values_gender = [0, 1, 2]\n",
    "\n",
    "data_complete_en['Gender'].replace(values_gender, names_gender, inplace=True)\n",
    "\n",
    "print('Describing the variable Gender')\n",
    "display(data_complete_en['Gender'].describe())\n",
    "print('Count of each value in Gender expresed as gender / amount')\n",
    "display(data_complete_en['Gender'].value_counts().sort_index())\n",
    "print('Percentage of each value in Gender expresed as gender / percentage')\n",
    "display(data_complete_en['Gender'].value_counts(\n",
    "    normalize=True).sort_index().round(4) * 100)\n",
    "\n",
    "labels_gender = ['Male', 'Female', 'Other']\n",
    "tickvals_gender = ['0', '1', '2']\n",
    "\n",
    "data1 = [go.Bar(x=sorted(data_complete_en['Gender'].unique()),\n",
    "                y=data_complete_en['Gender'].value_counts().sort_index(),\n",
    "                text=(data_complete_en['Gender'].value_counts(\n",
    "                    normalize=True).sort_index().round(4) * 100),\n",
    "                marker=dict(color=colors_gender_list),\n",
    "                name='Gender')]\n",
    "layout1 = go.Layout(\n",
    "    xaxis=go.layout.XAxis(\n",
    "        title='Gender'\n",
    "    ),\n",
    "    yaxis=go.layout.YAxis(\n",
    "        title=\"Total\"),\n",
    "    bargap=0.2\n",
    ")\n",
    "fig1 = go.Figure(data=data1, layout=layout1)\n",
    "iplot(fig1)\n",
    "plt.show()"
   ]
  },
  {
   "cell_type": "markdown",
   "metadata": {},
   "source": [
    "## Analyzing the distribution of age in the population"
   ]
  },
  {
   "cell_type": "code",
   "execution_count": 7,
   "metadata": {
    "scrolled": false
   },
   "outputs": [
    {
     "name": "stdout",
     "output_type": "stream",
     "text": [
      "Describing the variable Age\n"
     ]
    },
    {
     "data": {
      "text/plain": [
       "count    767.000000\n",
       "mean      32.653194\n",
       "std       12.463825\n",
       "min       13.000000\n",
       "25%       24.000000\n",
       "50%       30.000000\n",
       "75%       38.000000\n",
       "max       81.000000\n",
       "Name: Age, dtype: float64"
      ]
     },
     "metadata": {},
     "output_type": "display_data"
    },
    {
     "name": "stdout",
     "output_type": "stream",
     "text": [
      "Count of each value in Age expresed as age / amount\n"
     ]
    },
    {
     "data": {
      "text/plain": [
       "13     5\n",
       "14    28\n",
       "15    18\n",
       "16    10\n",
       "17     5\n",
       "18    11\n",
       "19    12\n",
       "20    11\n",
       "21    24\n",
       "22    16\n",
       "23    20\n",
       "24    39\n",
       "25    21\n",
       "26    31\n",
       "27    38\n",
       "28    39\n",
       "29    32\n",
       "30    38\n",
       "31    24\n",
       "32    24\n",
       "33    24\n",
       "34    26\n",
       "35    28\n",
       "36    17\n",
       "37    18\n",
       "38    19\n",
       "39    15\n",
       "40     9\n",
       "41     9\n",
       "42    12\n",
       "43    12\n",
       "44     8\n",
       "45     8\n",
       "46    15\n",
       "47     9\n",
       "48     5\n",
       "49     4\n",
       "50     6\n",
       "51     6\n",
       "52     2\n",
       "53     8\n",
       "54     4\n",
       "55     7\n",
       "56     5\n",
       "57     6\n",
       "58     1\n",
       "59     2\n",
       "60     5\n",
       "61     3\n",
       "62     7\n",
       "63     1\n",
       "64     3\n",
       "65     2\n",
       "66     2\n",
       "67     4\n",
       "68     1\n",
       "69     2\n",
       "70     1\n",
       "71     1\n",
       "73     1\n",
       "78     1\n",
       "81     2\n",
       "Name: Age, dtype: int64"
      ]
     },
     "metadata": {},
     "output_type": "display_data"
    },
    {
     "name": "stdout",
     "output_type": "stream",
     "text": [
      "Percentage of each value in Age expresed as age / percentage\n"
     ]
    },
    {
     "data": {
      "text/plain": [
       "13    0.65\n",
       "14    3.65\n",
       "15    2.35\n",
       "16    1.30\n",
       "17    0.65\n",
       "18    1.43\n",
       "19    1.56\n",
       "20    1.43\n",
       "21    3.13\n",
       "22    2.09\n",
       "23    2.61\n",
       "24    5.08\n",
       "25    2.74\n",
       "26    4.04\n",
       "27    4.95\n",
       "28    5.08\n",
       "29    4.17\n",
       "30    4.95\n",
       "31    3.13\n",
       "32    3.13\n",
       "33    3.13\n",
       "34    3.39\n",
       "35    3.65\n",
       "36    2.22\n",
       "37    2.35\n",
       "38    2.48\n",
       "39    1.96\n",
       "40    1.17\n",
       "41    1.17\n",
       "42    1.56\n",
       "43    1.56\n",
       "44    1.04\n",
       "45    1.04\n",
       "46    1.96\n",
       "47    1.17\n",
       "48    0.65\n",
       "49    0.52\n",
       "50    0.78\n",
       "51    0.78\n",
       "52    0.26\n",
       "53    1.04\n",
       "54    0.52\n",
       "55    0.91\n",
       "56    0.65\n",
       "57    0.78\n",
       "58    0.13\n",
       "59    0.26\n",
       "60    0.65\n",
       "61    0.39\n",
       "62    0.91\n",
       "63    0.13\n",
       "64    0.39\n",
       "65    0.26\n",
       "66    0.26\n",
       "67    0.52\n",
       "68    0.13\n",
       "69    0.26\n",
       "70    0.13\n",
       "71    0.13\n",
       "73    0.13\n",
       "78    0.13\n",
       "81    0.26\n",
       "Name: Age, dtype: float64"
      ]
     },
     "metadata": {},
     "output_type": "display_data"
    },
    {
     "data": {
      "application/vnd.plotly.v1+json": {
       "config": {
        "linkText": "Export to plot.ly",
        "plotlyServerURL": "https://plot.ly",
        "showLink": false
       },
       "data": [
        {
         "marker": {
          "color": [
           "hsl(147.27999999999997, 42.84%, 62.760000000000005%)",
           "hsl(18.2, 90.52%, 62.24%)",
           "hsl(47.2, 98.4%, 79.0%)",
           "hsl(74.16000000000001, 77.56%, 76.76%)",
           "hsl(147.27999999999997, 42.84%, 62.760000000000005%)",
           "hsl(67.2, 85.60000000000001%, 79.0%)",
           "hsl(64.32000000000001, 91.35999999999999%, 82.19999999999999%)",
           "hsl(67.2, 85.60000000000001%, 79.0%)",
           "hsl(27.799999999999997, 96.28%, 67.36%)",
           "hsl(57.44, 99.68%, 85.4%)",
           "hsl(37.4, 97.56%, 73.04%)",
           "hsl(353.0, 64.0%, 53.0%)",
           "hsl(32.6, 97.24%, 70.16%)",
           "hsl(13.160000000000025, 87.03999999999999%, 59.72%)",
           "hsl(359.72, 71.68%, 55.24%)",
           "hsl(353.0, 64.0%, 53.0%)",
           "hsl(6.439999999999998, 79.36%, 57.480000000000004%)",
           "hsl(359.72, 71.68%, 55.24%)",
           "hsl(27.799999999999997, 96.28%, 67.36%)",
           "hsl(27.799999999999997, 96.28%, 67.36%)",
           "hsl(27.799999999999997, 96.28%, 67.36%)",
           "hsl(23.0, 93.4%, 64.8%)",
           "hsl(18.2, 90.52%, 62.24%)",
           "hsl(52.32, 99.04%, 82.2%)",
           "hsl(47.2, 98.4%, 79.0%)",
           "hsl(42.2, 97.88%, 75.92%)",
           "hsl(61.44, 97.12%, 85.4%)",
           "hsl(87.92000000000002, 65.71999999999998%, 76.12%)",
           "hsl(87.92000000000002, 65.71999999999998%, 76.12%)",
           "hsl(64.32000000000001, 91.35999999999999%, 82.19999999999999%)",
           "hsl(64.32000000000001, 91.35999999999999%, 82.19999999999999%)",
           "hsl(101.67999999999999, 53.88000000000001%, 75.48%)",
           "hsl(101.67999999999999, 53.88000000000001%, 75.48%)",
           "hsl(61.44, 97.12%, 85.4%)",
           "hsl(87.92000000000002, 65.71999999999998%, 76.12%)",
           "hsl(147.27999999999997, 42.84%, 62.760000000000005%)",
           "hsl(162.64000000000001, 42.64%, 57.519999999999996%)",
           "hsl(131.60000000000002, 43.8%, 68.19999999999999%)",
           "hsl(131.60000000000002, 43.8%, 68.19999999999999%)",
           "hsl(188.88, 52.879999999999995%, 49.84%)",
           "hsl(101.67999999999999, 53.88000000000001%, 75.48%)",
           "hsl(162.64000000000001, 42.64%, 57.519999999999996%)",
           "hsl(115.92, 44.76%, 73.64%)",
           "hsl(147.27999999999997, 42.84%, 62.760000000000005%)",
           "hsl(131.60000000000002, 43.8%, 68.19999999999999%)",
           "hsl(202.0, 58.0%, 46.0%)",
           "hsl(188.88, 52.879999999999995%, 49.84%)",
           "hsl(147.27999999999997, 42.84%, 62.760000000000005%)",
           "hsl(175.76000000000002, 47.760000000000005%, 53.67999999999999%)",
           "hsl(115.92, 44.76%, 73.64%)",
           "hsl(202.0, 58.0%, 46.0%)",
           "hsl(175.76000000000002, 47.760000000000005%, 53.67999999999999%)",
           "hsl(188.88, 52.879999999999995%, 49.84%)",
           "hsl(188.88, 52.879999999999995%, 49.84%)",
           "hsl(162.64000000000001, 42.64%, 57.519999999999996%)",
           "hsl(202.0, 58.0%, 46.0%)",
           "hsl(188.88, 52.879999999999995%, 49.84%)",
           "hsl(202.0, 58.0%, 46.0%)",
           "hsl(202.0, 58.0%, 46.0%)",
           "hsl(202.0, 58.0%, 46.0%)",
           "hsl(202.0, 58.0%, 46.0%)",
           "hsl(188.88, 52.879999999999995%, 49.84%)"
          ]
         },
         "name": "Age",
         "text": [
          0.65,
          3.65,
          2.35,
          1.3,
          0.65,
          1.43,
          1.5599999999999998,
          1.43,
          3.1300000000000003,
          2.09,
          2.6100000000000003,
          5.08,
          2.74,
          4.04,
          4.95,
          5.08,
          4.17,
          4.95,
          3.1300000000000003,
          3.1300000000000003,
          3.1300000000000003,
          3.39,
          3.65,
          2.22,
          2.35,
          2.48,
          1.96,
          1.17,
          1.17,
          1.5599999999999998,
          1.5599999999999998,
          1.04,
          1.04,
          1.96,
          1.17,
          0.65,
          0.52,
          0.7799999999999999,
          0.7799999999999999,
          0.26,
          1.04,
          0.52,
          0.91,
          0.65,
          0.7799999999999999,
          0.13,
          0.26,
          0.65,
          0.38999999999999996,
          0.91,
          0.13,
          0.38999999999999996,
          0.26,
          0.26,
          0.52,
          0.13,
          0.26,
          0.13,
          0.13,
          0.13,
          0.13,
          0.26
         ],
         "type": "bar",
         "uid": "bd64b8a4-8821-48fd-8b37-4ad1d1e8b966",
         "x": [
          37,
          62,
          28,
          31,
          24,
          20,
          30,
          42,
          32,
          60,
          35,
          23,
          41,
          22,
          33,
          46,
          21,
          29,
          36,
          38,
          19,
          43,
          25,
          50,
          57,
          67,
          53,
          44,
          70,
          18,
          27,
          64,
          15,
          17,
          16,
          14,
          48,
          51,
          26,
          34,
          61,
          55,
          52,
          47,
          39,
          45,
          13,
          81,
          40,
          49,
          56,
          59,
          54,
          69,
          65,
          63,
          66,
          73,
          71,
          68,
          58,
          78
         ],
         "y": [
          5,
          28,
          18,
          10,
          5,
          11,
          12,
          11,
          24,
          16,
          20,
          39,
          21,
          31,
          38,
          39,
          32,
          38,
          24,
          24,
          24,
          26,
          28,
          17,
          18,
          19,
          15,
          9,
          9,
          12,
          12,
          8,
          8,
          15,
          9,
          5,
          4,
          6,
          6,
          2,
          8,
          4,
          7,
          5,
          6,
          1,
          2,
          5,
          3,
          7,
          1,
          3,
          2,
          2,
          4,
          1,
          2,
          1,
          1,
          1,
          1,
          2
         ]
        }
       ],
       "layout": {
        "bargap": 0.2,
        "xaxis": {
         "title": {
          "text": "Age"
         }
        },
        "yaxis": {
         "title": {
          "text": "Total"
         }
        }
       }
      },
      "text/html": [
       "<div id=\"1faf1c06-9a87-432b-ba59-9d7bd6997049\" style=\"height: 525px; width: 100%;\" class=\"plotly-graph-div\"></div><script type=\"text/javascript\">require([\"plotly\"], function(Plotly) { window.PLOTLYENV=window.PLOTLYENV || {};window.PLOTLYENV.BASE_URL=\"https://plot.ly\";\n",
       "if (document.getElementById(\"1faf1c06-9a87-432b-ba59-9d7bd6997049\")) {\n",
       "    Plotly.newPlot(\"1faf1c06-9a87-432b-ba59-9d7bd6997049\", [{\"marker\": {\"color\": [\"hsl(147.27999999999997, 42.84%, 62.760000000000005%)\", \"hsl(18.2, 90.52%, 62.24%)\", \"hsl(47.2, 98.4%, 79.0%)\", \"hsl(74.16000000000001, 77.56%, 76.76%)\", \"hsl(147.27999999999997, 42.84%, 62.760000000000005%)\", \"hsl(67.2, 85.60000000000001%, 79.0%)\", \"hsl(64.32000000000001, 91.35999999999999%, 82.19999999999999%)\", \"hsl(67.2, 85.60000000000001%, 79.0%)\", \"hsl(27.799999999999997, 96.28%, 67.36%)\", \"hsl(57.44, 99.68%, 85.4%)\", \"hsl(37.4, 97.56%, 73.04%)\", \"hsl(353.0, 64.0%, 53.0%)\", \"hsl(32.6, 97.24%, 70.16%)\", \"hsl(13.160000000000025, 87.03999999999999%, 59.72%)\", \"hsl(359.72, 71.68%, 55.24%)\", \"hsl(353.0, 64.0%, 53.0%)\", \"hsl(6.439999999999998, 79.36%, 57.480000000000004%)\", \"hsl(359.72, 71.68%, 55.24%)\", \"hsl(27.799999999999997, 96.28%, 67.36%)\", \"hsl(27.799999999999997, 96.28%, 67.36%)\", \"hsl(27.799999999999997, 96.28%, 67.36%)\", \"hsl(23.0, 93.4%, 64.8%)\", \"hsl(18.2, 90.52%, 62.24%)\", \"hsl(52.32, 99.04%, 82.2%)\", \"hsl(47.2, 98.4%, 79.0%)\", \"hsl(42.2, 97.88%, 75.92%)\", \"hsl(61.44, 97.12%, 85.4%)\", \"hsl(87.92000000000002, 65.71999999999998%, 76.12%)\", \"hsl(87.92000000000002, 65.71999999999998%, 76.12%)\", \"hsl(64.32000000000001, 91.35999999999999%, 82.19999999999999%)\", \"hsl(64.32000000000001, 91.35999999999999%, 82.19999999999999%)\", \"hsl(101.67999999999999, 53.88000000000001%, 75.48%)\", \"hsl(101.67999999999999, 53.88000000000001%, 75.48%)\", \"hsl(61.44, 97.12%, 85.4%)\", \"hsl(87.92000000000002, 65.71999999999998%, 76.12%)\", \"hsl(147.27999999999997, 42.84%, 62.760000000000005%)\", \"hsl(162.64000000000001, 42.64%, 57.519999999999996%)\", \"hsl(131.60000000000002, 43.8%, 68.19999999999999%)\", \"hsl(131.60000000000002, 43.8%, 68.19999999999999%)\", \"hsl(188.88, 52.879999999999995%, 49.84%)\", \"hsl(101.67999999999999, 53.88000000000001%, 75.48%)\", \"hsl(162.64000000000001, 42.64%, 57.519999999999996%)\", \"hsl(115.92, 44.76%, 73.64%)\", \"hsl(147.27999999999997, 42.84%, 62.760000000000005%)\", \"hsl(131.60000000000002, 43.8%, 68.19999999999999%)\", \"hsl(202.0, 58.0%, 46.0%)\", \"hsl(188.88, 52.879999999999995%, 49.84%)\", \"hsl(147.27999999999997, 42.84%, 62.760000000000005%)\", \"hsl(175.76000000000002, 47.760000000000005%, 53.67999999999999%)\", \"hsl(115.92, 44.76%, 73.64%)\", \"hsl(202.0, 58.0%, 46.0%)\", \"hsl(175.76000000000002, 47.760000000000005%, 53.67999999999999%)\", \"hsl(188.88, 52.879999999999995%, 49.84%)\", \"hsl(188.88, 52.879999999999995%, 49.84%)\", \"hsl(162.64000000000001, 42.64%, 57.519999999999996%)\", \"hsl(202.0, 58.0%, 46.0%)\", \"hsl(188.88, 52.879999999999995%, 49.84%)\", \"hsl(202.0, 58.0%, 46.0%)\", \"hsl(202.0, 58.0%, 46.0%)\", \"hsl(202.0, 58.0%, 46.0%)\", \"hsl(202.0, 58.0%, 46.0%)\", \"hsl(188.88, 52.879999999999995%, 49.84%)\"]}, \"name\": \"Age\", \"text\": [0.65, 3.65, 2.35, 1.3, 0.65, 1.43, 1.5599999999999998, 1.43, 3.1300000000000003, 2.09, 2.6100000000000003, 5.08, 2.74, 4.04, 4.95, 5.08, 4.17, 4.95, 3.1300000000000003, 3.1300000000000003, 3.1300000000000003, 3.39, 3.65, 2.22, 2.35, 2.48, 1.96, 1.17, 1.17, 1.5599999999999998, 1.5599999999999998, 1.04, 1.04, 1.96, 1.17, 0.65, 0.52, 0.7799999999999999, 0.7799999999999999, 0.26, 1.04, 0.52, 0.91, 0.65, 0.7799999999999999, 0.13, 0.26, 0.65, 0.38999999999999996, 0.91, 0.13, 0.38999999999999996, 0.26, 0.26, 0.52, 0.13, 0.26, 0.13, 0.13, 0.13, 0.13, 0.26], \"x\": [37, 62, 28, 31, 24, 20, 30, 42, 32, 60, 35, 23, 41, 22, 33, 46, 21, 29, 36, 38, 19, 43, 25, 50, 57, 67, 53, 44, 70, 18, 27, 64, 15, 17, 16, 14, 48, 51, 26, 34, 61, 55, 52, 47, 39, 45, 13, 81, 40, 49, 56, 59, 54, 69, 65, 63, 66, 73, 71, 68, 58, 78], \"y\": [5, 28, 18, 10, 5, 11, 12, 11, 24, 16, 20, 39, 21, 31, 38, 39, 32, 38, 24, 24, 24, 26, 28, 17, 18, 19, 15, 9, 9, 12, 12, 8, 8, 15, 9, 5, 4, 6, 6, 2, 8, 4, 7, 5, 6, 1, 2, 5, 3, 7, 1, 3, 2, 2, 4, 1, 2, 1, 1, 1, 1, 2], \"type\": \"bar\", \"uid\": \"bd64b8a4-8821-48fd-8b37-4ad1d1e8b966\"}], {\"bargap\": 0.2, \"xaxis\": {\"title\": {\"text\": \"Age\"}}, \"yaxis\": {\"title\": {\"text\": \"Total\"}}}, {\"showLink\": false, \"linkText\": \"Export to plot.ly\", \"plotlyServerURL\": \"https://plot.ly\"}); \n",
       "}\n",
       "});</script><script type=\"text/javascript\">window.addEventListener(\"resize\", function(){if (document.getElementById(\"1faf1c06-9a87-432b-ba59-9d7bd6997049\")) {window._Plotly.Plots.resize(document.getElementById(\"1faf1c06-9a87-432b-ba59-9d7bd6997049\"));};})</script>"
      ],
      "text/vnd.plotly.v1+html": [
       "<div id=\"1faf1c06-9a87-432b-ba59-9d7bd6997049\" style=\"height: 525px; width: 100%;\" class=\"plotly-graph-div\"></div><script type=\"text/javascript\">require([\"plotly\"], function(Plotly) { window.PLOTLYENV=window.PLOTLYENV || {};window.PLOTLYENV.BASE_URL=\"https://plot.ly\";\n",
       "if (document.getElementById(\"1faf1c06-9a87-432b-ba59-9d7bd6997049\")) {\n",
       "    Plotly.newPlot(\"1faf1c06-9a87-432b-ba59-9d7bd6997049\", [{\"marker\": {\"color\": [\"hsl(147.27999999999997, 42.84%, 62.760000000000005%)\", \"hsl(18.2, 90.52%, 62.24%)\", \"hsl(47.2, 98.4%, 79.0%)\", \"hsl(74.16000000000001, 77.56%, 76.76%)\", \"hsl(147.27999999999997, 42.84%, 62.760000000000005%)\", \"hsl(67.2, 85.60000000000001%, 79.0%)\", \"hsl(64.32000000000001, 91.35999999999999%, 82.19999999999999%)\", \"hsl(67.2, 85.60000000000001%, 79.0%)\", \"hsl(27.799999999999997, 96.28%, 67.36%)\", \"hsl(57.44, 99.68%, 85.4%)\", \"hsl(37.4, 97.56%, 73.04%)\", \"hsl(353.0, 64.0%, 53.0%)\", \"hsl(32.6, 97.24%, 70.16%)\", \"hsl(13.160000000000025, 87.03999999999999%, 59.72%)\", \"hsl(359.72, 71.68%, 55.24%)\", \"hsl(353.0, 64.0%, 53.0%)\", \"hsl(6.439999999999998, 79.36%, 57.480000000000004%)\", \"hsl(359.72, 71.68%, 55.24%)\", \"hsl(27.799999999999997, 96.28%, 67.36%)\", \"hsl(27.799999999999997, 96.28%, 67.36%)\", \"hsl(27.799999999999997, 96.28%, 67.36%)\", \"hsl(23.0, 93.4%, 64.8%)\", \"hsl(18.2, 90.52%, 62.24%)\", \"hsl(52.32, 99.04%, 82.2%)\", \"hsl(47.2, 98.4%, 79.0%)\", \"hsl(42.2, 97.88%, 75.92%)\", \"hsl(61.44, 97.12%, 85.4%)\", \"hsl(87.92000000000002, 65.71999999999998%, 76.12%)\", \"hsl(87.92000000000002, 65.71999999999998%, 76.12%)\", \"hsl(64.32000000000001, 91.35999999999999%, 82.19999999999999%)\", \"hsl(64.32000000000001, 91.35999999999999%, 82.19999999999999%)\", \"hsl(101.67999999999999, 53.88000000000001%, 75.48%)\", \"hsl(101.67999999999999, 53.88000000000001%, 75.48%)\", \"hsl(61.44, 97.12%, 85.4%)\", \"hsl(87.92000000000002, 65.71999999999998%, 76.12%)\", \"hsl(147.27999999999997, 42.84%, 62.760000000000005%)\", \"hsl(162.64000000000001, 42.64%, 57.519999999999996%)\", \"hsl(131.60000000000002, 43.8%, 68.19999999999999%)\", \"hsl(131.60000000000002, 43.8%, 68.19999999999999%)\", \"hsl(188.88, 52.879999999999995%, 49.84%)\", \"hsl(101.67999999999999, 53.88000000000001%, 75.48%)\", \"hsl(162.64000000000001, 42.64%, 57.519999999999996%)\", \"hsl(115.92, 44.76%, 73.64%)\", \"hsl(147.27999999999997, 42.84%, 62.760000000000005%)\", \"hsl(131.60000000000002, 43.8%, 68.19999999999999%)\", \"hsl(202.0, 58.0%, 46.0%)\", \"hsl(188.88, 52.879999999999995%, 49.84%)\", \"hsl(147.27999999999997, 42.84%, 62.760000000000005%)\", \"hsl(175.76000000000002, 47.760000000000005%, 53.67999999999999%)\", \"hsl(115.92, 44.76%, 73.64%)\", \"hsl(202.0, 58.0%, 46.0%)\", \"hsl(175.76000000000002, 47.760000000000005%, 53.67999999999999%)\", \"hsl(188.88, 52.879999999999995%, 49.84%)\", \"hsl(188.88, 52.879999999999995%, 49.84%)\", \"hsl(162.64000000000001, 42.64%, 57.519999999999996%)\", \"hsl(202.0, 58.0%, 46.0%)\", \"hsl(188.88, 52.879999999999995%, 49.84%)\", \"hsl(202.0, 58.0%, 46.0%)\", \"hsl(202.0, 58.0%, 46.0%)\", \"hsl(202.0, 58.0%, 46.0%)\", \"hsl(202.0, 58.0%, 46.0%)\", \"hsl(188.88, 52.879999999999995%, 49.84%)\"]}, \"name\": \"Age\", \"text\": [0.65, 3.65, 2.35, 1.3, 0.65, 1.43, 1.5599999999999998, 1.43, 3.1300000000000003, 2.09, 2.6100000000000003, 5.08, 2.74, 4.04, 4.95, 5.08, 4.17, 4.95, 3.1300000000000003, 3.1300000000000003, 3.1300000000000003, 3.39, 3.65, 2.22, 2.35, 2.48, 1.96, 1.17, 1.17, 1.5599999999999998, 1.5599999999999998, 1.04, 1.04, 1.96, 1.17, 0.65, 0.52, 0.7799999999999999, 0.7799999999999999, 0.26, 1.04, 0.52, 0.91, 0.65, 0.7799999999999999, 0.13, 0.26, 0.65, 0.38999999999999996, 0.91, 0.13, 0.38999999999999996, 0.26, 0.26, 0.52, 0.13, 0.26, 0.13, 0.13, 0.13, 0.13, 0.26], \"x\": [37, 62, 28, 31, 24, 20, 30, 42, 32, 60, 35, 23, 41, 22, 33, 46, 21, 29, 36, 38, 19, 43, 25, 50, 57, 67, 53, 44, 70, 18, 27, 64, 15, 17, 16, 14, 48, 51, 26, 34, 61, 55, 52, 47, 39, 45, 13, 81, 40, 49, 56, 59, 54, 69, 65, 63, 66, 73, 71, 68, 58, 78], \"y\": [5, 28, 18, 10, 5, 11, 12, 11, 24, 16, 20, 39, 21, 31, 38, 39, 32, 38, 24, 24, 24, 26, 28, 17, 18, 19, 15, 9, 9, 12, 12, 8, 8, 15, 9, 5, 4, 6, 6, 2, 8, 4, 7, 5, 6, 1, 2, 5, 3, 7, 1, 3, 2, 2, 4, 1, 2, 1, 1, 1, 1, 2], \"type\": \"bar\", \"uid\": \"bd64b8a4-8821-48fd-8b37-4ad1d1e8b966\"}], {\"bargap\": 0.2, \"xaxis\": {\"title\": {\"text\": \"Age\"}}, \"yaxis\": {\"title\": {\"text\": \"Total\"}}}, {\"showLink\": false, \"linkText\": \"Export to plot.ly\", \"plotlyServerURL\": \"https://plot.ly\"}); \n",
       "}\n",
       "});</script><script type=\"text/javascript\">window.addEventListener(\"resize\", function(){if (document.getElementById(\"1faf1c06-9a87-432b-ba59-9d7bd6997049\")) {window._Plotly.Plots.resize(document.getElementById(\"1faf1c06-9a87-432b-ba59-9d7bd6997049\"));};})</script>"
      ]
     },
     "metadata": {},
     "output_type": "display_data"
    }
   ],
   "source": [
    "print('Describing the variable Age')\n",
    "display(data_complete_en['Age'].describe())\n",
    "print('Count of each value in Age expresed as age / amount')\n",
    "display(data_complete_en['Age'].value_counts().sort_index())\n",
    "print('Percentage of each value in Age expresed as age / percentage')\n",
    "display(data_complete_en['Age'].value_counts(\n",
    "    normalize=True).sort_index().round(4) * 100)\n",
    "\n",
    "color_scale = cl.interp(cl.scales['9']['div']['Spectral'], data_complete_en['Age'].value_counts().nunique())\n",
    "values_list = data_complete_en['Age'].value_counts().unique()\n",
    "color_list = []\n",
    "for value in data_complete_en['Age'].value_counts().sort_index():\n",
    "    color_list.append(color_scale[list(values_list).index(value)])\n",
    "\n",
    "data2 = [go.Bar(x=data_complete_en['Age'].unique(),\n",
    "                y=data_complete_en['Age'].value_counts().sort_index(),\n",
    "                text=(data_complete_en['Age'].value_counts(\n",
    "                    normalize=True).sort_index().round(4) * 100),\n",
    "                # marker=dict(color=cl.interp(cl.scales['9']['div']['Spectral'], data_complete_en['Age'].nunique())),\n",
    "                # marker=dict(color=cl.scales['9']['div']['Spectral'][7]),\n",
    "                marker=dict(color=color_list),\n",
    "                name='Age')]\n",
    "layout2 = go.Layout(\n",
    "    xaxis=go.layout.XAxis(\n",
    "        title='Age'\n",
    "    ),\n",
    "    yaxis=go.layout.YAxis(\n",
    "        title=\"Total\"),\n",
    "    bargap=0.2,\n",
    ")\n",
    "fig2 = go.Figure(data=data2, layout=layout2)\n",
    "iplot(fig2)\n",
    "plt.show()"
   ]
  },
  {
   "cell_type": "markdown",
   "metadata": {},
   "source": [
    "## Distribution of age divided by gender"
   ]
  },
  {
   "cell_type": "code",
   "execution_count": 8,
   "metadata": {},
   "outputs": [
    {
     "data": {
      "application/vnd.plotly.v1+json": {
       "config": {
        "linkText": "Export to plot.ly",
        "plotlyServerURL": "https://plot.ly",
        "showLink": false
       },
       "data": [
        {
         "hoverinfo": "x",
         "marker": {
          "color": "rgb(102,194,165)"
         },
         "name": "Men",
         "orientation": "h",
         "type": "bar",
         "uid": "0bd002c3-6557-4c1f-a75e-714751b54d1b",
         "x": [
          1,
          18,
          8,
          5,
          2,
          5,
          5,
          4,
          10,
          7,
          12,
          12,
          9,
          16,
          19,
          25,
          21,
          21,
          11,
          13,
          11,
          14,
          9,
          11,
          7,
          8,
          11,
          5,
          4,
          7,
          4,
          3,
          2,
          3,
          6,
          1,
          2,
          1,
          2,
          3,
          1,
          3,
          3,
          1,
          2,
          1,
          1,
          1,
          1,
          2,
          1,
          1,
          1,
          1
         ],
         "y": [
          37,
          62,
          28,
          31,
          24,
          20,
          30,
          42,
          32,
          60,
          35,
          23,
          41,
          22,
          33,
          46,
          21,
          29,
          36,
          38,
          19,
          43,
          25,
          50,
          57,
          67,
          53,
          44,
          70,
          18,
          27,
          64,
          15,
          17,
          16,
          14,
          48,
          51,
          26,
          34,
          61,
          55,
          52,
          47,
          39,
          45,
          13,
          81,
          40,
          49,
          56,
          59,
          54,
          69,
          65,
          63,
          66,
          73,
          71,
          68,
          58,
          78
         ]
        },
        {
         "hoverinfo": "text",
         "marker": {
          "color": "rgb(254,224,139)"
         },
         "name": "Women",
         "orientation": "h",
         "text": [
          4,
          9,
          10,
          5,
          3,
          6,
          7,
          6,
          13,
          8,
          8,
          27,
          12,
          15,
          19,
          13,
          11,
          17,
          13,
          11,
          13,
          12,
          19,
          5,
          11,
          11,
          4,
          4,
          5,
          5,
          8,
          5,
          6,
          12,
          3,
          4,
          2,
          5,
          4,
          2,
          5,
          3,
          7,
          5,
          3,
          1,
          2,
          2,
          2,
          5,
          2,
          1,
          1,
          2,
          1,
          1,
          1,
          2
         ],
         "type": "bar",
         "uid": "01a2c0b7-7f01-43aa-ad83-632628040c3a",
         "x": [
          -4,
          -9,
          -10,
          -5,
          -3,
          -6,
          -7,
          -6,
          -13,
          -8,
          -8,
          -27,
          -12,
          -15,
          -19,
          -13,
          -11,
          -17,
          -13,
          -11,
          -13,
          -12,
          -19,
          -5,
          -11,
          -11,
          -4,
          -4,
          -5,
          -5,
          -8,
          -5,
          -6,
          -12,
          -3,
          -4,
          -2,
          -5,
          -4,
          -2,
          -5,
          -3,
          -7,
          -5,
          -3,
          -1,
          -2,
          -2,
          -2,
          -5,
          -2,
          -1,
          -1,
          -2,
          -1,
          -1,
          -1,
          -2
         ],
         "y": [
          37,
          62,
          28,
          31,
          24,
          20,
          30,
          42,
          32,
          60,
          35,
          23,
          41,
          22,
          33,
          46,
          21,
          29,
          36,
          38,
          19,
          43,
          25,
          50,
          57,
          67,
          53,
          44,
          70,
          18,
          27,
          64,
          15,
          17,
          16,
          14,
          48,
          51,
          26,
          34,
          61,
          55,
          52,
          47,
          39,
          45,
          13,
          81,
          40,
          49,
          56,
          59,
          54,
          69,
          65,
          63,
          66,
          73,
          71,
          68,
          58,
          78
         ]
        }
       ],
       "layout": {
        "bargap": 0.1,
        "barmode": "overlay",
        "xaxis": {
         "range": [
          -35,
          35
         ],
         "ticktext": [
          30,
          20,
          10,
          0,
          10,
          20,
          30
         ],
         "tickvals": [
          -30,
          -20,
          -10,
          0,
          10,
          20,
          30
         ],
         "title": {
          "text": "Total"
         }
        },
        "yaxis": {
         "title": {
          "text": "Age"
         }
        }
       }
      },
      "text/html": [
       "<div id=\"17414dfb-4fa6-4ec8-8912-9abb5c041ba4\" style=\"height: 525px; width: 100%;\" class=\"plotly-graph-div\"></div><script type=\"text/javascript\">require([\"plotly\"], function(Plotly) { window.PLOTLYENV=window.PLOTLYENV || {};window.PLOTLYENV.BASE_URL=\"https://plot.ly\";\n",
       "if (document.getElementById(\"17414dfb-4fa6-4ec8-8912-9abb5c041ba4\")) {\n",
       "    Plotly.newPlot(\"17414dfb-4fa6-4ec8-8912-9abb5c041ba4\", [{\"hoverinfo\": \"x\", \"marker\": {\"color\": \"rgb(102,194,165)\"}, \"name\": \"Men\", \"orientation\": \"h\", \"x\": [1, 18, 8, 5, 2, 5, 5, 4, 10, 7, 12, 12, 9, 16, 19, 25, 21, 21, 11, 13, 11, 14, 9, 11, 7, 8, 11, 5, 4, 7, 4, 3, 2, 3, 6, 1, 2, 1, 2, 3, 1, 3, 3, 1, 2, 1, 1, 1, 1, 2, 1, 1, 1, 1], \"y\": [37, 62, 28, 31, 24, 20, 30, 42, 32, 60, 35, 23, 41, 22, 33, 46, 21, 29, 36, 38, 19, 43, 25, 50, 57, 67, 53, 44, 70, 18, 27, 64, 15, 17, 16, 14, 48, 51, 26, 34, 61, 55, 52, 47, 39, 45, 13, 81, 40, 49, 56, 59, 54, 69, 65, 63, 66, 73, 71, 68, 58, 78], \"type\": \"bar\", \"uid\": \"0bd002c3-6557-4c1f-a75e-714751b54d1b\"}, {\"hoverinfo\": \"text\", \"marker\": {\"color\": \"rgb(254,224,139)\"}, \"name\": \"Women\", \"orientation\": \"h\", \"text\": [4.0, 9.0, 10.0, 5.0, 3.0, 6.0, 7.0, 6.0, 13.0, 8.0, 8.0, 27.0, 12.0, 15.0, 19.0, 13.0, 11.0, 17.0, 13.0, 11.0, 13.0, 12.0, 19.0, 5.0, 11.0, 11.0, 4.0, 4.0, 5.0, 5.0, 8.0, 5.0, 6.0, 12.0, 3.0, 4.0, 2.0, 5.0, 4.0, 2.0, 5.0, 3.0, 7.0, 5.0, 3.0, 1.0, 2.0, 2.0, 2.0, 5.0, 2.0, 1.0, 1.0, 2.0, 1.0, 1.0, 1.0, 2.0], \"x\": [-4, -9, -10, -5, -3, -6, -7, -6, -13, -8, -8, -27, -12, -15, -19, -13, -11, -17, -13, -11, -13, -12, -19, -5, -11, -11, -4, -4, -5, -5, -8, -5, -6, -12, -3, -4, -2, -5, -4, -2, -5, -3, -7, -5, -3, -1, -2, -2, -2, -5, -2, -1, -1, -2, -1, -1, -1, -2], \"y\": [37, 62, 28, 31, 24, 20, 30, 42, 32, 60, 35, 23, 41, 22, 33, 46, 21, 29, 36, 38, 19, 43, 25, 50, 57, 67, 53, 44, 70, 18, 27, 64, 15, 17, 16, 14, 48, 51, 26, 34, 61, 55, 52, 47, 39, 45, 13, 81, 40, 49, 56, 59, 54, 69, 65, 63, 66, 73, 71, 68, 58, 78], \"type\": \"bar\", \"uid\": \"01a2c0b7-7f01-43aa-ad83-632628040c3a\"}], {\"bargap\": 0.1, \"barmode\": \"overlay\", \"xaxis\": {\"range\": [-35, 35], \"ticktext\": [30, 20, 10, 0, 10, 20, 30], \"tickvals\": [-30, -20, -10, 0, 10, 20, 30], \"title\": {\"text\": \"Total\"}}, \"yaxis\": {\"title\": {\"text\": \"Age\"}}}, {\"showLink\": false, \"linkText\": \"Export to plot.ly\", \"plotlyServerURL\": \"https://plot.ly\"}); \n",
       "}\n",
       "});</script><script type=\"text/javascript\">window.addEventListener(\"resize\", function(){if (document.getElementById(\"17414dfb-4fa6-4ec8-8912-9abb5c041ba4\")) {window._Plotly.Plots.resize(document.getElementById(\"17414dfb-4fa6-4ec8-8912-9abb5c041ba4\"));};})</script>"
      ],
      "text/vnd.plotly.v1+html": [
       "<div id=\"17414dfb-4fa6-4ec8-8912-9abb5c041ba4\" style=\"height: 525px; width: 100%;\" class=\"plotly-graph-div\"></div><script type=\"text/javascript\">require([\"plotly\"], function(Plotly) { window.PLOTLYENV=window.PLOTLYENV || {};window.PLOTLYENV.BASE_URL=\"https://plot.ly\";\n",
       "if (document.getElementById(\"17414dfb-4fa6-4ec8-8912-9abb5c041ba4\")) {\n",
       "    Plotly.newPlot(\"17414dfb-4fa6-4ec8-8912-9abb5c041ba4\", [{\"hoverinfo\": \"x\", \"marker\": {\"color\": \"rgb(102,194,165)\"}, \"name\": \"Men\", \"orientation\": \"h\", \"x\": [1, 18, 8, 5, 2, 5, 5, 4, 10, 7, 12, 12, 9, 16, 19, 25, 21, 21, 11, 13, 11, 14, 9, 11, 7, 8, 11, 5, 4, 7, 4, 3, 2, 3, 6, 1, 2, 1, 2, 3, 1, 3, 3, 1, 2, 1, 1, 1, 1, 2, 1, 1, 1, 1], \"y\": [37, 62, 28, 31, 24, 20, 30, 42, 32, 60, 35, 23, 41, 22, 33, 46, 21, 29, 36, 38, 19, 43, 25, 50, 57, 67, 53, 44, 70, 18, 27, 64, 15, 17, 16, 14, 48, 51, 26, 34, 61, 55, 52, 47, 39, 45, 13, 81, 40, 49, 56, 59, 54, 69, 65, 63, 66, 73, 71, 68, 58, 78], \"type\": \"bar\", \"uid\": \"0bd002c3-6557-4c1f-a75e-714751b54d1b\"}, {\"hoverinfo\": \"text\", \"marker\": {\"color\": \"rgb(254,224,139)\"}, \"name\": \"Women\", \"orientation\": \"h\", \"text\": [4.0, 9.0, 10.0, 5.0, 3.0, 6.0, 7.0, 6.0, 13.0, 8.0, 8.0, 27.0, 12.0, 15.0, 19.0, 13.0, 11.0, 17.0, 13.0, 11.0, 13.0, 12.0, 19.0, 5.0, 11.0, 11.0, 4.0, 4.0, 5.0, 5.0, 8.0, 5.0, 6.0, 12.0, 3.0, 4.0, 2.0, 5.0, 4.0, 2.0, 5.0, 3.0, 7.0, 5.0, 3.0, 1.0, 2.0, 2.0, 2.0, 5.0, 2.0, 1.0, 1.0, 2.0, 1.0, 1.0, 1.0, 2.0], \"x\": [-4, -9, -10, -5, -3, -6, -7, -6, -13, -8, -8, -27, -12, -15, -19, -13, -11, -17, -13, -11, -13, -12, -19, -5, -11, -11, -4, -4, -5, -5, -8, -5, -6, -12, -3, -4, -2, -5, -4, -2, -5, -3, -7, -5, -3, -1, -2, -2, -2, -5, -2, -1, -1, -2, -1, -1, -1, -2], \"y\": [37, 62, 28, 31, 24, 20, 30, 42, 32, 60, 35, 23, 41, 22, 33, 46, 21, 29, 36, 38, 19, 43, 25, 50, 57, 67, 53, 44, 70, 18, 27, 64, 15, 17, 16, 14, 48, 51, 26, 34, 61, 55, 52, 47, 39, 45, 13, 81, 40, 49, 56, 59, 54, 69, 65, 63, 66, 73, 71, 68, 58, 78], \"type\": \"bar\", \"uid\": \"01a2c0b7-7f01-43aa-ad83-632628040c3a\"}], {\"bargap\": 0.1, \"barmode\": \"overlay\", \"xaxis\": {\"range\": [-35, 35], \"ticktext\": [30, 20, 10, 0, 10, 20, 30], \"tickvals\": [-30, -20, -10, 0, 10, 20, 30], \"title\": {\"text\": \"Total\"}}, \"yaxis\": {\"title\": {\"text\": \"Age\"}}}, {\"showLink\": false, \"linkText\": \"Export to plot.ly\", \"plotlyServerURL\": \"https://plot.ly\"}); \n",
       "}\n",
       "});</script><script type=\"text/javascript\">window.addEventListener(\"resize\", function(){if (document.getElementById(\"17414dfb-4fa6-4ec8-8912-9abb5c041ba4\")) {window._Plotly.Plots.resize(document.getElementById(\"17414dfb-4fa6-4ec8-8912-9abb5c041ba4\"));};})</script>"
      ]
     },
     "metadata": {},
     "output_type": "display_data"
    }
   ],
   "source": [
    "data_complete_en['Gender'].replace(names_gender, values_gender, inplace=True)\n",
    "\n",
    "layout3 = go.Layout(yaxis=go.layout.YAxis(title='Age'),\n",
    "                    xaxis=go.layout.XAxis(\n",
    "    range=[-35, 35],\n",
    "    tickvals=[-30, -20, -10, 0, 10, 20, 30],\n",
    "    ticktext=[30, 20, 10, 0, 10, 20, 30],\n",
    "    title='Total'),\n",
    "    barmode='overlay',\n",
    "    bargap=0.1)\n",
    "\n",
    "data3 = [go.Bar(y=data_complete_en['Age'].unique(),\n",
    "                x=data_complete_en[data_complete_en['Gender']\n",
    "                                   == 0]['Age'].value_counts().sort_index(),\n",
    "                orientation='h',\n",
    "                name='Men',\n",
    "                hoverinfo='x',\n",
    "                # marker=dict(color='powderblue')\n",
    "                marker=dict(color=colors_gender_list[0]),\n",
    "                ),\n",
    "         go.Bar(y=data_complete_en['Age'].unique(),\n",
    "                x=-data_complete_en[data_complete_en['Gender']\n",
    "                                    == 1]['Age'].value_counts().sort_index(),\n",
    "                orientation='h',\n",
    "                name='Women',\n",
    "                text=data_complete_en[data_complete_en['Gender']\n",
    "                                      == 1]['Age'].value_counts().sort_index(),\n",
    "                hoverinfo='text',\n",
    "                # marker=dict(color='seagreen')\n",
    "                marker=dict(color=colors_gender_list[1]),\n",
    "                )]\n",
    "\n",
    "fig3 = go.Figure(data=data3, layout=layout3)\n",
    "iplot(fig3)\n",
    "plt.show()"
   ]
  },
  {
   "cell_type": "markdown",
   "metadata": {},
   "source": [
    "## Distribution of educational level in the population"
   ]
  },
  {
   "cell_type": "code",
   "execution_count": 9,
   "metadata": {},
   "outputs": [
    {
     "name": "stdout",
     "output_type": "stream",
     "text": [
      "Describing the variable Educational level\n"
     ]
    },
    {
     "data": {
      "text/plain": [
       "count                         767\n",
       "unique                          6\n",
       "top       University <br>graduate\n",
       "freq                          431\n",
       "Name: Educational level, dtype: object"
      ]
     },
     "metadata": {},
     "output_type": "display_data"
    },
    {
     "name": "stdout",
     "output_type": "stream",
     "text": [
      "Count of each value in Age expresed as educational level / amount\n"
     ]
    },
    {
     "data": {
      "text/plain": [
       "University <br>graduate                                 431\n",
       "University <br>without <br>graduating                   155\n",
       "Unfinished <br>Compulsory<br>Secondary <br>Education     77\n",
       "Completed <br>Compulsory<br>Secondary <br>Education      48\n",
       "Vocational <br>Training                                  42\n",
       "Primary <br>education                                    14\n",
       "Name: Educational level, dtype: int64"
      ]
     },
     "metadata": {},
     "output_type": "display_data"
    },
    {
     "name": "stdout",
     "output_type": "stream",
     "text": [
      "Percentage of each value in Age expresed as educational level / percentage\n"
     ]
    },
    {
     "data": {
      "text/plain": [
       "University <br>graduate                                 56.19\n",
       "University <br>without <br>graduating                   20.21\n",
       "Unfinished <br>Compulsory<br>Secondary <br>Education    10.04\n",
       "Completed <br>Compulsory<br>Secondary <br>Education      6.26\n",
       "Vocational <br>Training                                  5.48\n",
       "Primary <br>education                                    1.83\n",
       "Name: Educational level, dtype: float64"
      ]
     },
     "metadata": {},
     "output_type": "display_data"
    },
    {
     "data": {
      "application/vnd.plotly.v1+json": {
       "config": {
        "linkText": "Export to plot.ly",
        "plotlyServerURL": "https://plot.ly",
        "showLink": false
       },
       "data": [
        {
         "marker": {
          "color": [
           "rgb(213,62,79)",
           "rgb(252,141,89)",
           "rgb(254,224,139)",
           "rgb(230,245,152)",
           "rgb(153,213,148)",
           "rgb(50,136,189)"
          ]
         },
         "name": "Educational level",
         "text": [
          6.260000000000001,
          1.83,
          10.040000000000001,
          56.19,
          20.21,
          5.48
         ],
         "type": "bar",
         "uid": "c7e4e218-5c24-423f-a634-0d23b328928e",
         "x": [
          "University <br>graduate",
          "University <br>without <br>graduating",
          "Completed <br>Compulsory<br>Secondary <br>Education",
          "Vocational <br>Training",
          "Unfinished <br>Compulsory<br>Secondary <br>Education",
          "Primary <br>education"
         ],
         "y": [
          431,
          155,
          77,
          48,
          42,
          14
         ]
        }
       ],
       "layout": {
        "bargap": 0.2,
        "xaxis": {
         "title": {
          "text": "Educational level"
         }
        },
        "yaxis": {
         "title": {
          "text": "Total"
         }
        }
       }
      },
      "text/html": [
       "<div id=\"70d059e8-4a2e-4756-9582-929bc11898fe\" style=\"height: 525px; width: 100%;\" class=\"plotly-graph-div\"></div><script type=\"text/javascript\">require([\"plotly\"], function(Plotly) { window.PLOTLYENV=window.PLOTLYENV || {};window.PLOTLYENV.BASE_URL=\"https://plot.ly\";\n",
       "if (document.getElementById(\"70d059e8-4a2e-4756-9582-929bc11898fe\")) {\n",
       "    Plotly.newPlot(\"70d059e8-4a2e-4756-9582-929bc11898fe\", [{\"marker\": {\"color\": [\"rgb(213,62,79)\", \"rgb(252,141,89)\", \"rgb(254,224,139)\", \"rgb(230,245,152)\", \"rgb(153,213,148)\", \"rgb(50,136,189)\"]}, \"name\": \"Educational level\", \"text\": [6.260000000000001, 1.83, 10.040000000000001, 56.19, 20.21, 5.48], \"x\": [\"University <br>graduate\", \"University <br>without <br>graduating\", \"Completed <br>Compulsory<br>Secondary <br>Education\", \"Vocational <br>Training\", \"Unfinished <br>Compulsory<br>Secondary <br>Education\", \"Primary <br>education\"], \"y\": [431, 155, 77, 48, 42, 14], \"type\": \"bar\", \"uid\": \"c7e4e218-5c24-423f-a634-0d23b328928e\"}], {\"bargap\": 0.2, \"xaxis\": {\"title\": {\"text\": \"Educational level\"}}, \"yaxis\": {\"title\": {\"text\": \"Total\"}}}, {\"showLink\": false, \"linkText\": \"Export to plot.ly\", \"plotlyServerURL\": \"https://plot.ly\"}); \n",
       "}\n",
       "});</script><script type=\"text/javascript\">window.addEventListener(\"resize\", function(){if (document.getElementById(\"70d059e8-4a2e-4756-9582-929bc11898fe\")) {window._Plotly.Plots.resize(document.getElementById(\"70d059e8-4a2e-4756-9582-929bc11898fe\"));};})</script>"
      ],
      "text/vnd.plotly.v1+html": [
       "<div id=\"70d059e8-4a2e-4756-9582-929bc11898fe\" style=\"height: 525px; width: 100%;\" class=\"plotly-graph-div\"></div><script type=\"text/javascript\">require([\"plotly\"], function(Plotly) { window.PLOTLYENV=window.PLOTLYENV || {};window.PLOTLYENV.BASE_URL=\"https://plot.ly\";\n",
       "if (document.getElementById(\"70d059e8-4a2e-4756-9582-929bc11898fe\")) {\n",
       "    Plotly.newPlot(\"70d059e8-4a2e-4756-9582-929bc11898fe\", [{\"marker\": {\"color\": [\"rgb(213,62,79)\", \"rgb(252,141,89)\", \"rgb(254,224,139)\", \"rgb(230,245,152)\", \"rgb(153,213,148)\", \"rgb(50,136,189)\"]}, \"name\": \"Educational level\", \"text\": [6.260000000000001, 1.83, 10.040000000000001, 56.19, 20.21, 5.48], \"x\": [\"University <br>graduate\", \"University <br>without <br>graduating\", \"Completed <br>Compulsory<br>Secondary <br>Education\", \"Vocational <br>Training\", \"Unfinished <br>Compulsory<br>Secondary <br>Education\", \"Primary <br>education\"], \"y\": [431, 155, 77, 48, 42, 14], \"type\": \"bar\", \"uid\": \"c7e4e218-5c24-423f-a634-0d23b328928e\"}], {\"bargap\": 0.2, \"xaxis\": {\"title\": {\"text\": \"Educational level\"}}, \"yaxis\": {\"title\": {\"text\": \"Total\"}}}, {\"showLink\": false, \"linkText\": \"Export to plot.ly\", \"plotlyServerURL\": \"https://plot.ly\"}); \n",
       "}\n",
       "});</script><script type=\"text/javascript\">window.addEventListener(\"resize\", function(){if (document.getElementById(\"70d059e8-4a2e-4756-9582-929bc11898fe\")) {window._Plotly.Plots.resize(document.getElementById(\"70d059e8-4a2e-4756-9582-929bc11898fe\"));};})</script>"
      ]
     },
     "metadata": {},
     "output_type": "display_data"
    }
   ],
   "source": [
    "labels_edulevel = ['Primary <br>education', 'Unfinished <br>Compulsory<br>Secondary <br>Education', 'Completed <br>Compulsory<br>Secondary <br>Education',\n",
    "                   'Vocational <br>Training', 'University <br>without <br>graduating', 'University <br>graduate']\n",
    "tickvals_edulevel = [0, 1, 2, 3, 4, 5]\n",
    "\n",
    "data_complete_en['Educational level'].replace(\n",
    "    tickvals_edulevel, labels_edulevel, inplace=True)\n",
    "\n",
    "print('Describing the variable Educational level')\n",
    "display(data_complete_en['Educational level'].describe())\n",
    "print('Count of each value in Age expresed as educational level / amount')\n",
    "display(data_complete_en['Educational level'].value_counts())\n",
    "print('Percentage of each value in Age expresed as educational level / percentage')\n",
    "display(data_complete_en['Educational level'].value_counts(\n",
    "    normalize=True).round(4) * 100)\n",
    "\n",
    "\n",
    "data4 = [go.Bar(x=data_complete_en['Educational level'].unique(),\n",
    "                y=data_complete_en['Educational level'].value_counts(),\n",
    "                text=(data_complete_en['Educational level'].value_counts(\n",
    "                    normalize=True).sort_index().round(4) * 100),\n",
    "                marker=dict(color=cl.scales['6']['div']['Spectral']),\n",
    "                name='Educational level')]\n",
    "layout4 = go.Layout(\n",
    "    xaxis=go.layout.XAxis(\n",
    "        title='Educational level',\n",
    "    ),\n",
    "    yaxis=go.layout.YAxis(\n",
    "        title=\"Total\"),\n",
    "    bargap=0.2,\n",
    ")\n",
    "fig4 = go.Figure(data=data4, layout=layout4)\n",
    "iplot(fig4)\n",
    "plt.show()"
   ]
  },
  {
   "cell_type": "markdown",
   "metadata": {},
   "source": [
    "## Distribution of educational level by gender in the population"
   ]
  },
  {
   "cell_type": "code",
   "execution_count": 10,
   "metadata": {},
   "outputs": [
    {
     "data": {
      "application/vnd.plotly.v1+json": {
       "config": {
        "linkText": "Export to plot.ly",
        "plotlyServerURL": "https://plot.ly",
        "showLink": false
       },
       "data": [
        {
         "hoverinfo": "x",
         "marker": {
          "color": "rgb(102,194,165)"
         },
         "name": "Men",
         "orientation": "h",
         "type": "bar",
         "uid": "10602851-0b73-46ad-b0a3-a850289a6b90",
         "x": [
          210,
          69,
          41,
          18,
          17,
          3
         ],
         "y": [
          "University <br>graduate",
          "University <br>without <br>graduating",
          "Completed <br>Compulsory<br>Secondary <br>Education",
          "Vocational <br>Training",
          "Unfinished <br>Compulsory<br>Secondary <br>Education",
          "Primary <br>education"
         ]
        },
        {
         "hoverinfo": "text",
         "marker": {
          "color": "rgb(254,224,139)"
         },
         "name": "Women",
         "orientation": "h",
         "text": [
          220,
          82,
          35,
          31,
          24,
          11
         ],
         "type": "bar",
         "uid": "bf1af1b4-9293-4ec0-9fc3-4c984a96cdc5",
         "x": [
          -220,
          -82,
          -35,
          -31,
          -24,
          -11
         ],
         "y": [
          "University <br>graduate",
          "University <br>without <br>graduating",
          "Completed <br>Compulsory<br>Secondary <br>Education",
          "Vocational <br>Training",
          "Unfinished <br>Compulsory<br>Secondary <br>Education",
          "Primary <br>education"
         ]
        }
       ],
       "layout": {
        "bargap": 0.3,
        "barmode": "overlay",
        "xaxis": {
         "range": [
          -250,
          250
         ],
         "ticktext": [
          200,
          100,
          50,
          0,
          50,
          100,
          200
         ],
         "tickvals": [
          -200,
          -100,
          50,
          0,
          50,
          100,
          200
         ],
         "title": {
          "text": "Total"
         }
        },
        "yaxis": {
         "title": {
          "text": "Educational level"
         }
        }
       }
      },
      "text/html": [
       "<div id=\"84f3dfa1-28fc-47a5-b453-dac7eb19677f\" style=\"height: 525px; width: 100%;\" class=\"plotly-graph-div\"></div><script type=\"text/javascript\">require([\"plotly\"], function(Plotly) { window.PLOTLYENV=window.PLOTLYENV || {};window.PLOTLYENV.BASE_URL=\"https://plot.ly\";\n",
       "if (document.getElementById(\"84f3dfa1-28fc-47a5-b453-dac7eb19677f\")) {\n",
       "    Plotly.newPlot(\"84f3dfa1-28fc-47a5-b453-dac7eb19677f\", [{\"hoverinfo\": \"x\", \"marker\": {\"color\": \"rgb(102,194,165)\"}, \"name\": \"Men\", \"orientation\": \"h\", \"x\": [210, 69, 41, 18, 17, 3], \"y\": [\"University <br>graduate\", \"University <br>without <br>graduating\", \"Completed <br>Compulsory<br>Secondary <br>Education\", \"Vocational <br>Training\", \"Unfinished <br>Compulsory<br>Secondary <br>Education\", \"Primary <br>education\"], \"type\": \"bar\", \"uid\": \"10602851-0b73-46ad-b0a3-a850289a6b90\"}, {\"hoverinfo\": \"text\", \"marker\": {\"color\": \"rgb(254,224,139)\"}, \"name\": \"Women\", \"orientation\": \"h\", \"text\": [220.0, 82.0, 35.0, 31.0, 24.0, 11.0], \"x\": [-220, -82, -35, -31, -24, -11], \"y\": [\"University <br>graduate\", \"University <br>without <br>graduating\", \"Completed <br>Compulsory<br>Secondary <br>Education\", \"Vocational <br>Training\", \"Unfinished <br>Compulsory<br>Secondary <br>Education\", \"Primary <br>education\"], \"type\": \"bar\", \"uid\": \"bf1af1b4-9293-4ec0-9fc3-4c984a96cdc5\"}], {\"bargap\": 0.3, \"barmode\": \"overlay\", \"xaxis\": {\"range\": [-250, 250], \"ticktext\": [200, 100, 50, 0, 50, 100, 200], \"tickvals\": [-200, -100, 50, 0, 50, 100, 200], \"title\": {\"text\": \"Total\"}}, \"yaxis\": {\"title\": {\"text\": \"Educational level\"}}}, {\"showLink\": false, \"linkText\": \"Export to plot.ly\", \"plotlyServerURL\": \"https://plot.ly\"}); \n",
       "}\n",
       "});</script><script type=\"text/javascript\">window.addEventListener(\"resize\", function(){if (document.getElementById(\"84f3dfa1-28fc-47a5-b453-dac7eb19677f\")) {window._Plotly.Plots.resize(document.getElementById(\"84f3dfa1-28fc-47a5-b453-dac7eb19677f\"));};})</script>"
      ],
      "text/vnd.plotly.v1+html": [
       "<div id=\"84f3dfa1-28fc-47a5-b453-dac7eb19677f\" style=\"height: 525px; width: 100%;\" class=\"plotly-graph-div\"></div><script type=\"text/javascript\">require([\"plotly\"], function(Plotly) { window.PLOTLYENV=window.PLOTLYENV || {};window.PLOTLYENV.BASE_URL=\"https://plot.ly\";\n",
       "if (document.getElementById(\"84f3dfa1-28fc-47a5-b453-dac7eb19677f\")) {\n",
       "    Plotly.newPlot(\"84f3dfa1-28fc-47a5-b453-dac7eb19677f\", [{\"hoverinfo\": \"x\", \"marker\": {\"color\": \"rgb(102,194,165)\"}, \"name\": \"Men\", \"orientation\": \"h\", \"x\": [210, 69, 41, 18, 17, 3], \"y\": [\"University <br>graduate\", \"University <br>without <br>graduating\", \"Completed <br>Compulsory<br>Secondary <br>Education\", \"Vocational <br>Training\", \"Unfinished <br>Compulsory<br>Secondary <br>Education\", \"Primary <br>education\"], \"type\": \"bar\", \"uid\": \"10602851-0b73-46ad-b0a3-a850289a6b90\"}, {\"hoverinfo\": \"text\", \"marker\": {\"color\": \"rgb(254,224,139)\"}, \"name\": \"Women\", \"orientation\": \"h\", \"text\": [220.0, 82.0, 35.0, 31.0, 24.0, 11.0], \"x\": [-220, -82, -35, -31, -24, -11], \"y\": [\"University <br>graduate\", \"University <br>without <br>graduating\", \"Completed <br>Compulsory<br>Secondary <br>Education\", \"Vocational <br>Training\", \"Unfinished <br>Compulsory<br>Secondary <br>Education\", \"Primary <br>education\"], \"type\": \"bar\", \"uid\": \"bf1af1b4-9293-4ec0-9fc3-4c984a96cdc5\"}], {\"bargap\": 0.3, \"barmode\": \"overlay\", \"xaxis\": {\"range\": [-250, 250], \"ticktext\": [200, 100, 50, 0, 50, 100, 200], \"tickvals\": [-200, -100, 50, 0, 50, 100, 200], \"title\": {\"text\": \"Total\"}}, \"yaxis\": {\"title\": {\"text\": \"Educational level\"}}}, {\"showLink\": false, \"linkText\": \"Export to plot.ly\", \"plotlyServerURL\": \"https://plot.ly\"}); \n",
       "}\n",
       "});</script><script type=\"text/javascript\">window.addEventListener(\"resize\", function(){if (document.getElementById(\"84f3dfa1-28fc-47a5-b453-dac7eb19677f\")) {window._Plotly.Plots.resize(document.getElementById(\"84f3dfa1-28fc-47a5-b453-dac7eb19677f\"));};})</script>"
      ]
     },
     "metadata": {},
     "output_type": "display_data"
    }
   ],
   "source": [
    "layout5 = go.Layout(yaxis=go.layout.YAxis(title='Educational level'),\n",
    "                    xaxis=go.layout.XAxis(\n",
    "    range=[-250, 250],\n",
    "    tickvals=[-200, -100, 50, 0, 50, 100, 200],\n",
    "    ticktext=[200, 100, 50, 0, 50, 100, 200],\n",
    "    title='Total'),\n",
    "    barmode='overlay',\n",
    "    bargap=0.3)\n",
    "\n",
    "data5 = [go.Bar(y=data_complete_en['Educational level'].unique(),\n",
    "                x=data_complete_en[data_complete_en['Gender']\n",
    "                                   == 0]['Educational level'].value_counts(),\n",
    "                orientation='h',\n",
    "                name='Men',\n",
    "                hoverinfo='x',\n",
    "                # marker=dict(color='powderblue')\n",
    "                marker=dict(color=colors_gender_list[0]),\n",
    "                ),\n",
    "         go.Bar(y=data_complete_en['Educational level'].unique(),\n",
    "                x=-data_complete_en[data_complete_en['Gender']\n",
    "                                    == 1]['Educational level'].value_counts(),\n",
    "                orientation='h',\n",
    "                name='Women',\n",
    "                text=data_complete_en[data_complete_en['Gender']\n",
    "                                      == 1]['Educational level'].value_counts(),\n",
    "                hoverinfo='text',\n",
    "                # marker=dict(color='seagreen')\n",
    "                marker=dict(color=colors_gender_list[1]),\n",
    "                )]\n",
    "\n",
    "fig5 = go.Figure(data=data5, layout=layout5)\n",
    "iplot(fig5)\n",
    "plt.show()"
   ]
  },
  {
   "cell_type": "markdown",
   "metadata": {},
   "source": [
    "# Distribution of educational level by gender and age "
   ]
  },
  {
   "cell_type": "code",
   "execution_count": 11,
   "metadata": {},
   "outputs": [
    {
     "data": {
      "application/vnd.plotly.v1+json": {
       "config": {
        "linkText": "Export to plot.ly",
        "plotlyServerURL": "https://plot.ly",
        "showLink": false
       },
       "data": [
        {
         "marker": {
          "color": "rgb(102,194,165)",
          "opacity": [
           [
            0.7
           ],
           [
            0.7
           ],
           [
            0.7
           ],
           [
            0.7
           ],
           [
            0.7
           ],
           [
            0.7
           ],
           [
            0.7
           ],
           [
            0.7
           ],
           [
            0.7
           ],
           [
            0.7
           ],
           [
            0.7
           ],
           [
            0.7
           ],
           [
            0.7
           ],
           [
            0.7
           ],
           [
            0.7
           ],
           [
            0.7
           ],
           [
            0.7
           ],
           [
            0.7
           ],
           [
            0.7
           ],
           [
            0.7
           ],
           [
            0.7
           ],
           [
            0.7
           ],
           [
            0.7
           ],
           [
            0.7
           ],
           [
            0.7
           ],
           [
            0.7
           ],
           [
            0.7
           ],
           [
            0.7
           ],
           [
            0.7
           ],
           [
            0.7
           ],
           [
            0.7
           ],
           [
            0.7
           ],
           [
            0.7
           ],
           [
            0.7
           ],
           [
            0.7
           ],
           [
            0.7
           ],
           [
            0.7
           ],
           [
            0.7
           ],
           [
            0.7
           ],
           [
            0.7
           ],
           [
            0.7
           ],
           [
            0.7
           ],
           [
            0.7
           ],
           [
            0.7
           ],
           [
            0.7
           ],
           [
            0.7
           ],
           [
            0.7
           ],
           [
            0.7
           ],
           [
            0.7
           ],
           [
            0.7
           ],
           [
            0.7
           ],
           [
            0.7
           ],
           [
            0.7
           ],
           [
            0.7
           ],
           [
            0.7
           ],
           [
            0.7
           ],
           [
            0.7
           ],
           [
            0.7
           ],
           [
            0.7
           ],
           [
            0.7
           ],
           [
            0.7
           ],
           [
            0.7
           ],
           [
            0.7
           ],
           [
            0.7
           ],
           [
            0.7
           ],
           [
            0.7
           ],
           [
            0.7
           ],
           [
            0.7
           ],
           [
            0.7
           ],
           [
            0.7
           ],
           [
            0.7
           ],
           [
            0.7
           ],
           [
            0.7
           ],
           [
            0.7
           ],
           [
            0.7
           ],
           [
            0.7
           ],
           [
            0.7
           ],
           [
            0.7
           ],
           [
            0.7
           ],
           [
            0.7
           ],
           [
            0.7
           ],
           [
            0.7
           ],
           [
            0.7
           ],
           [
            0.7
           ],
           [
            0.7
           ],
           [
            0.7
           ],
           [
            0.7
           ],
           [
            0.7
           ],
           [
            0.7
           ],
           [
            0.7
           ],
           [
            0.7
           ],
           [
            0.7
           ],
           [
            0.7
           ],
           [
            0.7
           ],
           [
            0.7
           ],
           [
            0.7
           ],
           [
            0.7
           ],
           [
            0.7
           ],
           [
            0.7
           ],
           [
            0.7
           ],
           [
            0.7
           ],
           [
            0.7
           ],
           [
            0.7
           ],
           [
            0.7
           ],
           [
            0.7
           ],
           [
            0.7
           ],
           [
            0.7
           ],
           [
            0.7
           ],
           [
            0.7
           ],
           [
            0.7
           ],
           [
            0.7
           ],
           [
            0.7
           ],
           [
            0.7
           ],
           [
            0.7
           ],
           [
            0.7
           ],
           [
            0.7
           ],
           [
            0.7
           ],
           [
            0.7
           ],
           [
            0.7
           ],
           [
            0.7
           ],
           [
            0.7
           ],
           [
            0.7
           ],
           [
            0.7
           ],
           [
            0.7
           ],
           [
            0.7
           ],
           [
            0.7
           ],
           [
            0.7
           ],
           [
            0.7
           ],
           [
            0.7
           ],
           [
            0.7
           ],
           [
            0.7
           ],
           [
            0.7
           ],
           [
            0.7
           ],
           [
            0.7
           ],
           [
            0.7
           ],
           [
            0.7
           ],
           [
            0.7
           ],
           [
            0.7
           ],
           [
            0.7
           ],
           [
            0.7
           ],
           [
            0.7
           ],
           [
            0.7
           ],
           [
            0.7
           ],
           [
            0.7
           ],
           [
            0.7
           ],
           [
            0.7
           ],
           [
            0.7
           ],
           [
            0.7
           ],
           [
            0.7
           ],
           [
            0.7
           ],
           [
            0.7
           ],
           [
            0.7
           ],
           [
            0.7
           ],
           [
            0.7
           ],
           [
            0.7
           ],
           [
            0.7
           ],
           [
            0.7
           ],
           [
            0.7
           ],
           [
            0.7
           ],
           [
            0.7
           ],
           [
            0.7
           ],
           [
            0.7
           ],
           [
            0.7
           ],
           [
            0.7
           ],
           [
            0.7
           ],
           [
            0.7
           ],
           [
            0.7
           ],
           [
            0.7
           ],
           [
            0.7
           ],
           [
            0.7
           ],
           [
            0.7
           ],
           [
            0.7
           ],
           [
            0.7
           ],
           [
            0.7
           ],
           [
            0.7
           ],
           [
            0.7
           ],
           [
            0.7
           ],
           [
            0.7
           ],
           [
            0.7
           ],
           [
            0.7
           ],
           [
            0.7
           ],
           [
            0.7
           ],
           [
            0.7
           ],
           [
            0.7
           ],
           [
            0.7
           ],
           [
            0.7
           ],
           [
            0.7
           ],
           [
            0.7
           ],
           [
            0.7
           ],
           [
            0.7
           ],
           [
            0.7
           ],
           [
            0.7
           ],
           [
            0.7
           ],
           [
            0.7
           ],
           [
            0.7
           ],
           [
            0.7
           ],
           [
            0.7
           ],
           [
            0.7
           ],
           [
            0.7
           ],
           [
            0.7
           ],
           [
            0.7
           ],
           [
            0.7
           ],
           [
            0.7
           ],
           [
            0.7
           ],
           [
            0.7
           ],
           [
            0.7
           ],
           [
            0.7
           ],
           [
            0.7
           ],
           [
            0.7
           ],
           [
            0.7
           ],
           [
            0.7
           ],
           [
            0.7
           ],
           [
            0.7
           ],
           [
            0.7
           ],
           [
            0.7
           ],
           [
            0.7
           ],
           [
            0.7
           ],
           [
            0.7
           ],
           [
            0.7
           ],
           [
            0.7
           ],
           [
            0.7
           ],
           [
            0.7
           ],
           [
            0.7
           ],
           [
            0.7
           ],
           [
            0.7
           ],
           [
            0.7
           ],
           [
            0.7
           ],
           [
            0.7
           ],
           [
            0.7
           ],
           [
            0.7
           ],
           [
            0.7
           ],
           [
            0.7
           ],
           [
            0.7
           ],
           [
            0.7
           ],
           [
            0.7
           ],
           [
            0.7
           ],
           [
            0.7
           ],
           [
            0.7
           ],
           [
            0.7
           ],
           [
            0.7
           ],
           [
            0.7
           ],
           [
            0.7
           ],
           [
            0.7
           ],
           [
            0.7
           ],
           [
            0.7
           ],
           [
            0.7
           ],
           [
            0.7
           ],
           [
            0.7
           ],
           [
            0.7
           ],
           [
            0.7
           ],
           [
            0.7
           ],
           [
            0.7
           ],
           [
            0.7
           ],
           [
            0.7
           ],
           [
            0.7
           ],
           [
            0.7
           ],
           [
            0.7
           ],
           [
            0.7
           ],
           [
            0.7
           ],
           [
            0.7
           ],
           [
            0.7
           ],
           [
            0.7
           ],
           [
            0.7
           ],
           [
            0.7
           ],
           [
            0.7
           ],
           [
            0.7
           ],
           [
            0.7
           ],
           [
            0.7
           ],
           [
            0.7
           ],
           [
            0.7
           ],
           [
            0.7
           ],
           [
            0.7
           ],
           [
            0.7
           ],
           [
            0.7
           ],
           [
            0.7
           ],
           [
            0.7
           ],
           [
            0.7
           ],
           [
            0.7
           ],
           [
            0.7
           ],
           [
            0.7
           ],
           [
            0.7
           ],
           [
            0.7
           ],
           [
            0.7
           ],
           [
            0.7
           ],
           [
            0.7
           ],
           [
            0.7
           ],
           [
            0.7
           ],
           [
            0.7
           ],
           [
            0.7
           ],
           [
            0.7
           ],
           [
            0.7
           ],
           [
            0.7
           ],
           [
            0.7
           ],
           [
            0.7
           ],
           [
            0.7
           ],
           [
            0.7
           ],
           [
            0.7
           ],
           [
            0.7
           ],
           [
            0.7
           ],
           [
            0.7
           ],
           [
            0.7
           ],
           [
            0.7
           ],
           [
            0.7
           ],
           [
            0.7
           ],
           [
            0.7
           ],
           [
            0.7
           ],
           [
            0.7
           ],
           [
            0.7
           ],
           [
            0.7
           ],
           [
            0.7
           ],
           [
            0.7
           ],
           [
            0.7
           ],
           [
            0.7
           ],
           [
            0.7
           ],
           [
            0.7
           ],
           [
            0.7
           ],
           [
            0.7
           ],
           [
            0.7
           ],
           [
            0.7
           ],
           [
            0.7
           ],
           [
            0.7
           ],
           [
            0.7
           ],
           [
            0.7
           ],
           [
            0.7
           ],
           [
            0.7
           ],
           [
            0.7
           ],
           [
            0.7
           ],
           [
            0.7
           ],
           [
            0.7
           ],
           [
            0.7
           ],
           [
            0.7
           ],
           [
            0.7
           ],
           [
            0.7
           ],
           [
            0.7
           ],
           [
            0.7
           ],
           [
            0.7
           ],
           [
            0.7
           ],
           [
            0.7
           ],
           [
            0.7
           ],
           [
            0.7
           ],
           [
            0.7
           ],
           [
            0.7
           ],
           [
            0.7
           ],
           [
            0.7
           ],
           [
            0.7
           ],
           [
            0.7
           ],
           [
            0.7
           ],
           [
            0.7
           ],
           [
            0.7
           ],
           [
            0.7
           ],
           [
            0.7
           ],
           [
            0.7
           ],
           [
            0.7
           ],
           [
            0.7
           ],
           [
            0.7
           ],
           [
            0.7
           ],
           [
            0.7
           ],
           [
            0.7
           ],
           [
            0.7
           ],
           [
            0.7
           ],
           [
            0.7
           ],
           [
            0.7
           ],
           [
            0.7
           ],
           [
            0.7
           ],
           [
            0.7
           ],
           [
            0.7
           ],
           [
            0.7
           ],
           [
            0.7
           ],
           [
            0.7
           ],
           [
            0.7
           ],
           [
            0.7
           ],
           [
            0.7
           ],
           [
            0.7
           ],
           [
            0.7
           ],
           [
            0.7
           ],
           [
            0.7
           ],
           [
            0.7
           ],
           [
            0.7
           ],
           [
            0.7
           ],
           [
            0.7
           ],
           [
            0.7
           ],
           [
            0.7
           ],
           [
            0.7
           ],
           [
            0.7
           ],
           [
            0.7
           ],
           [
            0.7
           ],
           [
            0.7
           ],
           [
            0.7
           ],
           [
            0.7
           ],
           [
            0.7
           ],
           [
            0.7
           ],
           [
            0.7
           ],
           [
            0.7
           ],
           [
            0.7
           ],
           [
            0.7
           ],
           [
            0.7
           ],
           [
            0.7
           ],
           [
            0.7
           ],
           [
            0.7
           ],
           [
            0.7
           ],
           [
            0.7
           ],
           [
            0.7
           ],
           [
            0.7
           ],
           [
            0.7
           ],
           [
            0.7
           ],
           [
            0.7
           ],
           [
            0.7
           ],
           [
            0.7
           ],
           [
            0.7
           ],
           [
            0.7
           ],
           [
            0.7
           ],
           [
            0.7
           ],
           [
            0.7
           ],
           [
            0.7
           ],
           [
            0.7
           ],
           [
            0.7
           ],
           [
            0.7
           ],
           [
            0.7
           ],
           [
            0.7
           ],
           [
            0.7
           ],
           [
            0.7
           ],
           [
            0.7
           ],
           [
            0.7
           ],
           [
            0.7
           ],
           [
            0.7
           ],
           [
            0.7
           ],
           [
            0.7
           ],
           [
            0.7
           ],
           [
            0.7
           ],
           [
            0.7
           ],
           [
            0.7
           ],
           [
            0.7
           ],
           [
            0.7
           ],
           [
            0.7
           ],
           [
            0.7
           ],
           [
            0.7
           ],
           [
            0.7
           ],
           [
            0.7
           ],
           [
            0.7
           ],
           [
            0.7
           ],
           [
            0.7
           ],
           [
            0.7
           ],
           [
            0.7
           ],
           [
            0.7
           ],
           [
            0.7
           ],
           [
            0.7
           ],
           [
            0.7
           ],
           [
            0.7
           ],
           [
            0.7
           ],
           [
            0.7
           ],
           [
            0.7
           ],
           [
            0.7
           ],
           [
            0.7
           ],
           [
            0.7
           ],
           [
            0.7
           ],
           [
            0.7
           ],
           [
            0.7
           ],
           [
            0.7
           ],
           [
            0.7
           ],
           [
            0.7
           ],
           [
            0.7
           ],
           [
            0.7
           ],
           [
            0.7
           ],
           [
            0.7
           ],
           [
            0.7
           ],
           [
            0.7
           ],
           [
            0.7
           ],
           [
            0.7
           ],
           [
            0.7
           ],
           [
            0.7
           ],
           [
            0.7
           ],
           [
            0.7
           ],
           [
            0.7
           ],
           [
            0.7
           ],
           [
            0.7
           ],
           [
            0.7
           ],
           [
            0.7
           ],
           [
            0.7
           ],
           [
            0.7
           ],
           [
            0.7
           ],
           [
            0.7
           ],
           [
            0.7
           ],
           [
            0.7
           ],
           [
            0.7
           ],
           [
            0.7
           ],
           [
            0.7
           ],
           [
            0.7
           ],
           [
            0.7
           ],
           [
            0.7
           ],
           [
            0.7
           ],
           [
            0.7
           ],
           [
            0.7
           ],
           [
            0.7
           ],
           [
            0.7
           ],
           [
            0.7
           ],
           [
            0.7
           ],
           [
            0.7
           ],
           [
            0.7
           ],
           [
            0.7
           ],
           [
            0.7
           ],
           [
            0.7
           ],
           [
            0.7
           ],
           [
            0.7
           ],
           [
            0.7
           ],
           [
            0.7
           ],
           [
            0.7
           ],
           [
            0.7
           ],
           [
            0.7
           ],
           [
            0.7
           ],
           [
            0.7
           ],
           [
            0.7
           ],
           [
            0.7
           ],
           [
            0.7
           ],
           [
            0.7
           ],
           [
            0.7
           ],
           [
            0.7
           ],
           [
            0.7
           ],
           [
            0.7
           ],
           [
            0.7
           ],
           [
            0.7
           ],
           [
            0.7
           ],
           [
            0.7
           ],
           [
            0.7
           ],
           [
            0.7
           ],
           [
            0.7
           ],
           [
            0.7
           ],
           [
            0.7
           ],
           [
            0.7
           ],
           [
            0.7
           ],
           [
            0.7
           ],
           [
            0.7
           ],
           [
            0.7
           ],
           [
            0.7
           ],
           [
            0.7
           ],
           [
            0.7
           ],
           [
            0.7
           ],
           [
            0.7
           ],
           [
            0.7
           ],
           [
            0.7
           ],
           [
            0.7
           ],
           [
            0.7
           ],
           [
            0.7
           ],
           [
            0.7
           ],
           [
            0.7
           ],
           [
            0.7
           ],
           [
            0.7
           ],
           [
            0.7
           ],
           [
            0.7
           ],
           [
            0.7
           ],
           [
            0.7
           ],
           [
            0.7
           ],
           [
            0.7
           ],
           [
            0.7
           ],
           [
            0.7
           ],
           [
            0.7
           ],
           [
            0.7
           ],
           [
            0.7
           ],
           [
            0.7
           ],
           [
            0.7
           ],
           [
            0.7
           ],
           [
            0.7
           ],
           [
            0.7
           ],
           [
            0.7
           ],
           [
            0.7
           ],
           [
            0.7
           ],
           [
            0.7
           ],
           [
            0.7
           ],
           [
            0.7
           ],
           [
            0.7
           ],
           [
            0.7
           ],
           [
            0.7
           ],
           [
            0.7
           ],
           [
            0.7
           ],
           [
            0.7
           ],
           [
            0.7
           ],
           [
            0.7
           ],
           [
            0.7
           ],
           [
            0.7
           ],
           [
            0.7
           ],
           [
            0.7
           ],
           [
            0.7
           ],
           [
            0.7
           ],
           [
            0.7
           ],
           [
            0.7
           ],
           [
            0.7
           ],
           [
            0.7
           ],
           [
            0.7
           ],
           [
            0.7
           ],
           [
            0.7
           ],
           [
            0.7
           ],
           [
            0.7
           ],
           [
            0.7
           ],
           [
            0.7
           ],
           [
            0.7
           ],
           [
            0.7
           ],
           [
            0.7
           ],
           [
            0.7
           ],
           [
            0.7
           ],
           [
            0.7
           ],
           [
            0.7
           ],
           [
            0.7
           ],
           [
            0.7
           ],
           [
            0.7
           ],
           [
            0.7
           ],
           [
            0.7
           ],
           [
            0.7
           ],
           [
            0.7
           ],
           [
            0.7
           ],
           [
            0.7
           ],
           [
            0.7
           ],
           [
            0.7
           ],
           [
            0.7
           ],
           [
            0.7
           ],
           [
            0.7
           ],
           [
            0.7
           ],
           [
            0.7
           ],
           [
            0.7
           ],
           [
            0.7
           ],
           [
            0.7
           ],
           [
            0.7
           ],
           [
            0.7
           ],
           [
            0.7
           ],
           [
            0.7
           ],
           [
            0.7
           ],
           [
            0.7
           ],
           [
            0.7
           ],
           [
            0.7
           ],
           [
            0.7
           ],
           [
            0.7
           ],
           [
            0.7
           ],
           [
            0.7
           ],
           [
            0.7
           ],
           [
            0.7
           ],
           [
            0.7
           ],
           [
            0.7
           ],
           [
            0.7
           ],
           [
            0.7
           ],
           [
            0.7
           ],
           [
            0.7
           ],
           [
            0.7
           ],
           [
            0.7
           ],
           [
            0.7
           ],
           [
            0.7
           ],
           [
            0.7
           ],
           [
            0.7
           ],
           [
            0.7
           ],
           [
            0.7
           ],
           [
            0.7
           ],
           [
            0.7
           ],
           [
            0.7
           ],
           [
            0.7
           ],
           [
            0.7
           ],
           [
            0.7
           ],
           [
            0.7
           ],
           [
            0.7
           ],
           [
            0.7
           ],
           [
            0.7
           ],
           [
            0.7
           ],
           [
            0.7
           ],
           [
            0.7
           ],
           [
            0.7
           ],
           [
            0.7
           ],
           [
            0.7
           ],
           [
            0.7
           ],
           [
            0.7
           ],
           [
            0.7
           ],
           [
            0.7
           ],
           [
            0.7
           ],
           [
            0.7
           ],
           [
            0.7
           ],
           [
            0.7
           ],
           [
            0.7
           ],
           [
            0.7
           ],
           [
            0.7
           ],
           [
            0.7
           ],
           [
            0.7
           ],
           [
            0.7
           ],
           [
            0.7
           ],
           [
            0.7
           ],
           [
            0.7
           ],
           [
            0.7
           ],
           [
            0.7
           ],
           [
            0.7
           ],
           [
            0.7
           ],
           [
            0.7
           ],
           [
            0.7
           ],
           [
            0.7
           ],
           [
            0.7
           ],
           [
            0.7
           ],
           [
            0.7
           ],
           [
            0.7
           ],
           [
            0.7
           ],
           [
            0.7
           ],
           [
            0.7
           ],
           [
            0.7
           ],
           [
            0.7
           ],
           [
            0.7
           ],
           [
            0.7
           ],
           [
            0.7
           ],
           [
            0.7
           ],
           [
            0.7
           ],
           [
            0.7
           ],
           [
            0.7
           ],
           [
            0.7
           ],
           [
            0.7
           ],
           [
            0.7
           ],
           [
            0.7
           ],
           [
            0.7
           ],
           [
            0.7
           ],
           [
            0.7
           ],
           [
            0.7
           ],
           [
            0.7
           ],
           [
            0.7
           ],
           [
            0.7
           ],
           [
            0.7
           ],
           [
            0.7
           ],
           [
            0.7
           ],
           [
            0.7
           ],
           [
            0.7
           ],
           [
            0.7
           ],
           [
            0.7
           ],
           [
            0.7
           ],
           [
            0.7
           ],
           [
            0.7
           ],
           [
            0.7
           ],
           [
            0.7
           ],
           [
            0.7
           ],
           [
            0.7
           ],
           [
            0.7
           ],
           [
            0.7
           ],
           [
            0.7
           ],
           [
            0.7
           ],
           [
            0.7
           ],
           [
            0.7
           ],
           [
            0.7
           ],
           [
            0.7
           ],
           [
            0.7
           ],
           [
            0.7
           ],
           [
            0.7
           ],
           [
            0.7
           ],
           [
            0.7
           ],
           [
            0.7
           ],
           [
            0.7
           ],
           [
            0.7
           ],
           [
            0.7
           ],
           [
            0.7
           ],
           [
            0.7
           ],
           [
            0.7
           ],
           [
            0.7
           ],
           [
            0.7
           ],
           [
            0.7
           ],
           [
            0.7
           ],
           [
            0.7
           ],
           [
            0.7
           ],
           [
            0.7
           ],
           [
            0.7
           ],
           [
            0.7
           ],
           [
            0.7
           ],
           [
            0.7
           ],
           [
            0.7
           ],
           [
            0.7
           ],
           [
            0.7
           ],
           [
            0.7
           ],
           [
            0.7
           ],
           [
            0.7
           ],
           [
            0.7
           ],
           [
            0.7
           ]
          ],
          "size": [
           20,
           10,
           10,
           5,
           5,
           5,
           5,
           5,
           5,
           5,
           5,
           5,
           5,
           5,
           5,
           90,
           40,
           25,
           15,
           10,
           5,
           5,
           5,
           5,
           5,
           100,
           90,
           80,
           60,
           50,
           50,
           50,
           45,
           40,
           40,
           40,
           40,
           35,
           30,
           25,
           25,
           20,
           20,
           20,
           15,
           15,
           15,
           15,
           15,
           15,
           10,
           10,
           10,
           10,
           5,
           5,
           5,
           5,
           5,
           5,
           5,
           5,
           5,
           5,
           5,
           5,
           35,
           30,
           25,
           25,
           20,
           15,
           15,
           15,
           15,
           15,
           10,
           10,
           10,
           10,
           10,
           10,
           10,
           5,
           5,
           5,
           5,
           5,
           5,
           5,
           5,
           5,
           5,
           5,
           5,
           5,
           10,
           10,
           5,
           5,
           5,
           5,
           5,
           5,
           5,
           5,
           5,
           5,
           5,
           5,
           5,
           5
          ]
         },
         "mode": "markers",
         "name": "Male",
         "type": "scatter",
         "uid": "778c6005-2784-44b8-83e8-89478047caa6",
         "x": [
          "University <br>graduate",
          "University <br>graduate",
          "University <br>graduate",
          "University <br>graduate",
          "University <br>without <br>graduating",
          "University <br>without <br>graduating",
          "University <br>graduate",
          "University <br>graduate",
          "University <br>graduate",
          "University <br>without <br>graduating",
          "University <br>graduate",
          "University <br>graduate",
          "University <br>graduate",
          "Unfinished <br>Compulsory<br>Secondary <br>Education",
          "University <br>graduate",
          "University <br>without <br>graduating",
          "University <br>without <br>graduating",
          "Vocational <br>Training",
          "University <br>without <br>graduating",
          "University <br>without <br>graduating",
          "University <br>graduate",
          "Unfinished <br>Compulsory<br>Secondary <br>Education",
          "Unfinished <br>Compulsory<br>Secondary <br>Education",
          "Unfinished <br>Compulsory<br>Secondary <br>Education",
          "Unfinished <br>Compulsory<br>Secondary <br>Education",
          "Unfinished <br>Compulsory<br>Secondary <br>Education",
          "University <br>graduate",
          "Unfinished <br>Compulsory<br>Secondary <br>Education",
          "University <br>without <br>graduating",
          "University <br>graduate",
          "University <br>graduate",
          "University <br>graduate",
          "University <br>graduate",
          "University <br>without <br>graduating",
          "University <br>graduate",
          "University <br>without <br>graduating",
          "Unfinished <br>Compulsory<br>Secondary <br>Education",
          "Unfinished <br>Compulsory<br>Secondary <br>Education",
          "Unfinished <br>Compulsory<br>Secondary <br>Education",
          "Unfinished <br>Compulsory<br>Secondary <br>Education",
          "Unfinished <br>Compulsory<br>Secondary <br>Education",
          "Unfinished <br>Compulsory<br>Secondary <br>Education",
          "Unfinished <br>Compulsory<br>Secondary <br>Education",
          "Unfinished <br>Compulsory<br>Secondary <br>Education",
          "Unfinished <br>Compulsory<br>Secondary <br>Education",
          "University <br>graduate",
          "University <br>graduate",
          "University <br>without <br>graduating",
          "Unfinished <br>Compulsory<br>Secondary <br>Education",
          "Unfinished <br>Compulsory<br>Secondary <br>Education",
          "Unfinished <br>Compulsory<br>Secondary <br>Education",
          "Unfinished <br>Compulsory<br>Secondary <br>Education",
          "Unfinished <br>Compulsory<br>Secondary <br>Education",
          "Unfinished <br>Compulsory<br>Secondary <br>Education",
          "University <br>without <br>graduating",
          "University <br>without <br>graduating",
          "University <br>graduate",
          "University <br>graduate",
          "University <br>without <br>graduating",
          "University <br>without <br>graduating",
          "University <br>without <br>graduating",
          "Unfinished <br>Compulsory<br>Secondary <br>Education",
          "University <br>graduate",
          "University <br>graduate",
          "University <br>graduate",
          "University <br>graduate",
          "Vocational <br>Training",
          "University <br>graduate",
          "University <br>without <br>graduating",
          "University <br>graduate",
          "University <br>graduate",
          "University <br>graduate",
          "University <br>graduate",
          "University <br>without <br>graduating",
          "University <br>without <br>graduating",
          "University <br>without <br>graduating",
          "Unfinished <br>Compulsory<br>Secondary <br>Education",
          "Unfinished <br>Compulsory<br>Secondary <br>Education",
          "Unfinished <br>Compulsory<br>Secondary <br>Education",
          "Unfinished <br>Compulsory<br>Secondary <br>Education",
          "Unfinished <br>Compulsory<br>Secondary <br>Education",
          "University <br>without <br>graduating",
          "University <br>graduate",
          "Vocational <br>Training",
          "University <br>without <br>graduating",
          "Unfinished <br>Compulsory<br>Secondary <br>Education",
          "Unfinished <br>Compulsory<br>Secondary <br>Education",
          "Unfinished <br>Compulsory<br>Secondary <br>Education",
          "Unfinished <br>Compulsory<br>Secondary <br>Education",
          "Unfinished <br>Compulsory<br>Secondary <br>Education",
          "Unfinished <br>Compulsory<br>Secondary <br>Education",
          "Unfinished <br>Compulsory<br>Secondary <br>Education",
          "Unfinished <br>Compulsory<br>Secondary <br>Education",
          "Unfinished <br>Compulsory<br>Secondary <br>Education",
          "Unfinished <br>Compulsory<br>Secondary <br>Education",
          "University <br>without <br>graduating",
          "University <br>without <br>graduating",
          "Vocational <br>Training",
          "University <br>without <br>graduating",
          "University <br>without <br>graduating",
          "University <br>graduate",
          "University <br>without <br>graduating",
          "University <br>graduate",
          "University <br>graduate",
          "University <br>graduate",
          "University <br>graduate",
          "University <br>graduate",
          "University <br>graduate",
          "University <br>without <br>graduating",
          "University <br>without <br>graduating",
          "University <br>graduate",
          "University <br>graduate",
          "University <br>graduate",
          "University <br>graduate",
          "University <br>graduate",
          "University <br>graduate",
          "University <br>without <br>graduating",
          "University <br>graduate",
          "University <br>graduate",
          "University <br>graduate",
          "University <br>graduate",
          "University <br>graduate",
          "Vocational <br>Training",
          "University <br>without <br>graduating",
          "University <br>without <br>graduating",
          "University <br>graduate",
          "University <br>graduate",
          "University <br>without <br>graduating",
          "Completed <br>Compulsory<br>Secondary <br>Education",
          "University <br>graduate",
          "University <br>graduate",
          "University <br>graduate",
          "Completed <br>Compulsory<br>Secondary <br>Education",
          "Vocational <br>Training",
          "University <br>without <br>graduating",
          "University <br>graduate",
          "University <br>graduate",
          "University <br>graduate",
          "University <br>graduate",
          "University <br>graduate",
          "University <br>graduate",
          "University <br>graduate",
          "Vocational <br>Training",
          "University <br>graduate",
          "Completed <br>Compulsory<br>Secondary <br>Education",
          "Primary <br>education",
          "University <br>graduate",
          "University <br>graduate",
          "University <br>graduate",
          "University <br>graduate",
          "University <br>without <br>graduating",
          "University <br>graduate",
          "University <br>without <br>graduating",
          "University <br>graduate",
          "University <br>without <br>graduating",
          "University <br>graduate",
          "Vocational <br>Training",
          "University <br>graduate",
          "University <br>without <br>graduating",
          "Completed <br>Compulsory<br>Secondary <br>Education",
          "University <br>without <br>graduating",
          "University <br>graduate",
          "University <br>graduate",
          "University <br>graduate",
          "Completed <br>Compulsory<br>Secondary <br>Education",
          "University <br>without <br>graduating",
          "University <br>without <br>graduating",
          "University <br>graduate",
          "University <br>graduate",
          "University <br>graduate",
          "University <br>graduate",
          "University <br>without <br>graduating",
          "Completed <br>Compulsory<br>Secondary <br>Education",
          "Completed <br>Compulsory<br>Secondary <br>Education",
          "University <br>without <br>graduating",
          "University <br>graduate",
          "University <br>graduate",
          "University <br>graduate",
          "University <br>graduate",
          "University <br>graduate",
          "Primary <br>education",
          "University <br>graduate",
          "University <br>graduate",
          "University <br>without <br>graduating",
          "Completed <br>Compulsory<br>Secondary <br>Education",
          "University <br>graduate",
          "University <br>graduate",
          "University <br>graduate",
          "University <br>graduate",
          "University <br>graduate",
          "University <br>graduate",
          "University <br>graduate",
          "University <br>without <br>graduating",
          "University <br>graduate",
          "University <br>graduate",
          "University <br>graduate",
          "University <br>graduate",
          "University <br>without <br>graduating",
          "University <br>graduate",
          "University <br>graduate",
          "University <br>graduate",
          "University <br>graduate",
          "University <br>graduate",
          "University <br>graduate",
          "University <br>graduate",
          "University <br>without <br>graduating",
          "University <br>graduate",
          "University <br>without <br>graduating",
          "University <br>graduate",
          "University <br>graduate",
          "University <br>graduate",
          "University <br>graduate",
          "University <br>graduate",
          "University <br>graduate",
          "University <br>graduate",
          "Vocational <br>Training",
          "University <br>graduate",
          "University <br>without <br>graduating",
          "University <br>graduate",
          "University <br>graduate",
          "University <br>graduate",
          "University <br>graduate",
          "University <br>graduate",
          "Vocational <br>Training",
          "University <br>without <br>graduating",
          "University <br>graduate",
          "University <br>graduate",
          "Completed <br>Compulsory<br>Secondary <br>Education",
          "University <br>without <br>graduating",
          "University <br>graduate",
          "University <br>graduate",
          "University <br>graduate",
          "University <br>graduate",
          "Vocational <br>Training",
          "University <br>graduate",
          "University <br>graduate",
          "University <br>without <br>graduating",
          "University <br>without <br>graduating",
          "University <br>graduate",
          "University <br>graduate",
          "University <br>graduate",
          "Vocational <br>Training",
          "University <br>graduate",
          "University <br>graduate",
          "University <br>without <br>graduating",
          "University <br>graduate",
          "University <br>graduate",
          "University <br>graduate",
          "Unfinished <br>Compulsory<br>Secondary <br>Education",
          "University <br>graduate",
          "University <br>without <br>graduating",
          "University <br>graduate",
          "University <br>without <br>graduating",
          "University <br>graduate",
          "University <br>graduate",
          "University <br>graduate",
          "University <br>graduate",
          "University <br>without <br>graduating",
          "University <br>graduate",
          "University <br>graduate",
          "University <br>graduate",
          "University <br>graduate",
          "University <br>graduate",
          "University <br>graduate",
          "University <br>graduate",
          "University <br>graduate",
          "University <br>graduate",
          "University <br>graduate",
          "Vocational <br>Training",
          "Vocational <br>Training",
          "University <br>graduate",
          "University <br>graduate",
          "University <br>graduate",
          "Vocational <br>Training",
          "University <br>graduate",
          "University <br>graduate",
          "University <br>graduate",
          "University <br>graduate",
          "Completed <br>Compulsory<br>Secondary <br>Education",
          "University <br>graduate",
          "University <br>graduate",
          "Completed <br>Compulsory<br>Secondary <br>Education",
          "University <br>graduate",
          "Completed <br>Compulsory<br>Secondary <br>Education",
          "University <br>graduate",
          "University <br>graduate",
          "University <br>graduate",
          "University <br>graduate",
          "Completed <br>Compulsory<br>Secondary <br>Education",
          "University <br>graduate",
          "University <br>graduate",
          "Primary <br>education",
          "University <br>graduate",
          "University <br>graduate",
          "University <br>graduate",
          "University <br>graduate",
          "Completed <br>Compulsory<br>Secondary <br>Education",
          "University <br>graduate",
          "University <br>graduate",
          "University <br>without <br>graduating",
          "University <br>graduate",
          "University <br>graduate",
          "University <br>graduate",
          "Vocational <br>Training",
          "University <br>graduate",
          "University <br>graduate",
          "University <br>graduate",
          "University <br>graduate",
          "University <br>graduate",
          "Unfinished <br>Compulsory<br>Secondary <br>Education",
          "University <br>graduate",
          "University <br>without <br>graduating",
          "University <br>graduate",
          "University <br>graduate",
          "University <br>graduate",
          "University <br>without <br>graduating",
          "Completed <br>Compulsory<br>Secondary <br>Education",
          "University <br>graduate",
          "Vocational <br>Training",
          "University <br>without <br>graduating",
          "Vocational <br>Training",
          "University <br>graduate",
          "University <br>graduate",
          "University <br>graduate",
          "Completed <br>Compulsory<br>Secondary <br>Education",
          "University <br>graduate",
          "University <br>graduate",
          "University <br>without <br>graduating",
          "University <br>graduate",
          "University <br>graduate",
          "University <br>without <br>graduating",
          "University <br>without <br>graduating",
          "University <br>graduate",
          "University <br>graduate",
          "University <br>without <br>graduating",
          "University <br>graduate",
          "University <br>graduate",
          "University <br>graduate",
          "University <br>graduate",
          "University <br>without <br>graduating",
          "University <br>graduate",
          "University <br>graduate",
          "University <br>graduate",
          "University <br>graduate",
          "University <br>without <br>graduating",
          "University <br>without <br>graduating",
          "Completed <br>Compulsory<br>Secondary <br>Education",
          "University <br>graduate",
          "University <br>graduate",
          "University <br>graduate",
          "Unfinished <br>Compulsory<br>Secondary <br>Education",
          "University <br>graduate",
          "University <br>without <br>graduating",
          "University <br>graduate",
          "University <br>graduate",
          "University <br>graduate",
          "University <br>graduate",
          "University <br>graduate"
         ],
         "y": [
          37,
          62,
          28,
          30,
          60,
          20,
          31,
          33,
          23,
          21,
          29,
          29,
          36,
          38,
          33,
          19,
          25,
          67,
          23,
          70,
          36,
          17,
          17,
          18,
          15,
          15,
          23,
          14,
          21,
          30,
          53,
          29,
          30,
          20,
          30,
          20,
          15,
          14,
          14,
          14,
          14,
          14,
          15,
          14,
          15,
          31,
          30,
          19,
          16,
          16,
          15,
          16,
          18,
          15,
          19,
          34,
          35,
          38,
          20,
          23,
          21,
          18,
          61,
          57,
          41,
          26,
          46,
          28,
          22,
          47,
          42,
          31,
          28,
          23,
          18,
          21,
          14,
          15,
          16,
          14,
          14,
          24,
          64,
          32,
          21,
          13,
          14,
          16,
          14,
          14,
          14,
          14,
          14,
          14,
          14,
          19,
          18,
          45,
          21,
          21,
          27,
          28,
          32,
          29,
          22,
          29,
          21,
          28,
          26,
          27,
          32,
          32,
          40,
          27,
          26,
          31,
          34,
          25,
          28,
          30,
          46,
          28,
          28,
          30,
          24,
          27,
          38,
          31,
          24,
          28,
          46,
          26,
          22,
          38,
          26,
          27,
          40,
          26,
          34,
          31,
          29,
          32,
          47,
          34,
          28,
          36,
          34,
          33,
          43,
          35,
          39,
          42,
          32,
          33,
          24,
          24,
          47,
          27,
          47,
          24,
          29,
          34,
          29,
          39,
          42,
          43,
          42,
          28,
          35,
          36,
          24,
          22,
          27,
          53,
          28,
          31,
          60,
          34,
          39,
          69,
          21,
          43,
          34,
          19,
          30,
          29,
          33,
          65,
          30,
          38,
          28,
          47,
          23,
          39,
          30,
          39,
          29,
          22,
          42,
          37,
          36,
          44,
          36,
          29,
          63,
          32,
          37,
          27,
          35,
          26,
          32,
          32,
          28,
          33,
          29,
          39,
          35,
          31,
          25,
          36,
          36,
          30,
          30,
          34,
          27,
          57,
          44,
          36,
          29,
          29,
          29,
          36,
          28,
          38,
          37,
          28,
          54,
          28,
          41,
          28,
          39,
          27,
          38,
          33,
          42,
          35,
          45,
          30,
          27,
          30,
          23,
          44,
          25,
          27,
          26,
          25,
          23,
          38,
          35,
          24,
          33,
          31,
          32,
          53,
          28,
          21,
          41,
          29,
          51,
          31,
          30,
          28,
          37,
          49,
          26,
          26,
          26,
          33,
          27,
          30,
          22,
          34,
          24,
          27,
          24,
          22,
          28,
          60,
          39,
          39,
          43,
          33,
          25,
          40,
          40,
          26,
          26,
          33,
          39,
          23,
          35,
          29,
          34,
          42,
          39,
          51,
          23,
          32,
          41,
          29,
          27,
          67,
          27,
          32,
          27,
          36,
          34,
          47,
          30,
          62,
          35,
          49,
          71,
          31,
          23,
          68,
          50,
          30,
          30,
          40,
          30,
          66,
          37,
          57,
          25,
          30,
          29,
          32,
          24,
          48,
          28,
          26,
          29,
          28,
          25,
          37,
          27,
          28,
          23,
          27,
          26,
          26,
          25,
          29,
          28,
          34,
          24,
          34
         ]
        },
        {
         "marker": {
          "color": "rgb(254,224,139)",
          "opacity": [
           [
            0.7
           ],
           [
            0.7
           ],
           [
            0.7
           ],
           [
            0.7
           ],
           [
            0.7
           ],
           [
            0.7
           ],
           [
            0.7
           ],
           [
            0.7
           ],
           [
            0.7
           ],
           [
            0.7
           ],
           [
            0.7
           ],
           [
            0.7
           ],
           [
            0.7
           ],
           [
            0.7
           ],
           [
            0.7
           ],
           [
            0.7
           ],
           [
            0.7
           ],
           [
            0.7
           ],
           [
            0.7
           ],
           [
            0.7
           ],
           [
            0.7
           ],
           [
            0.7
           ],
           [
            0.7
           ],
           [
            0.7
           ],
           [
            0.7
           ],
           [
            0.7
           ],
           [
            0.7
           ],
           [
            0.7
           ],
           [
            0.7
           ],
           [
            0.7
           ],
           [
            0.7
           ],
           [
            0.7
           ],
           [
            0.7
           ],
           [
            0.7
           ],
           [
            0.7
           ],
           [
            0.7
           ],
           [
            0.7
           ],
           [
            0.7
           ],
           [
            0.7
           ],
           [
            0.7
           ],
           [
            0.7
           ],
           [
            0.7
           ],
           [
            0.7
           ],
           [
            0.7
           ],
           [
            0.7
           ],
           [
            0.7
           ],
           [
            0.7
           ],
           [
            0.7
           ],
           [
            0.7
           ],
           [
            0.7
           ],
           [
            0.7
           ],
           [
            0.7
           ],
           [
            0.7
           ],
           [
            0.7
           ],
           [
            0.7
           ],
           [
            0.7
           ],
           [
            0.7
           ],
           [
            0.7
           ],
           [
            0.7
           ],
           [
            0.7
           ],
           [
            0.7
           ],
           [
            0.7
           ],
           [
            0.7
           ],
           [
            0.7
           ],
           [
            0.7
           ],
           [
            0.7
           ],
           [
            0.7
           ],
           [
            0.7
           ],
           [
            0.7
           ],
           [
            0.7
           ],
           [
            0.7
           ],
           [
            0.7
           ],
           [
            0.7
           ],
           [
            0.7
           ],
           [
            0.7
           ],
           [
            0.7
           ],
           [
            0.7
           ],
           [
            0.7
           ],
           [
            0.7
           ],
           [
            0.7
           ],
           [
            0.7
           ],
           [
            0.7
           ],
           [
            0.7
           ],
           [
            0.7
           ],
           [
            0.7
           ],
           [
            0.7
           ],
           [
            0.7
           ],
           [
            0.7
           ],
           [
            0.7
           ],
           [
            0.7
           ],
           [
            0.7
           ],
           [
            0.7
           ],
           [
            0.7
           ],
           [
            0.7
           ],
           [
            0.7
           ],
           [
            0.7
           ],
           [
            0.7
           ],
           [
            0.7
           ],
           [
            0.7
           ],
           [
            0.7
           ],
           [
            0.7
           ],
           [
            0.7
           ],
           [
            0.7
           ],
           [
            0.7
           ],
           [
            0.7
           ],
           [
            0.7
           ],
           [
            0.7
           ],
           [
            0.7
           ],
           [
            0.7
           ],
           [
            0.7
           ],
           [
            0.7
           ],
           [
            0.7
           ],
           [
            0.7
           ],
           [
            0.7
           ],
           [
            0.7
           ],
           [
            0.7
           ],
           [
            0.7
           ],
           [
            0.7
           ],
           [
            0.7
           ],
           [
            0.7
           ],
           [
            0.7
           ],
           [
            0.7
           ],
           [
            0.7
           ],
           [
            0.7
           ],
           [
            0.7
           ],
           [
            0.7
           ],
           [
            0.7
           ],
           [
            0.7
           ],
           [
            0.7
           ],
           [
            0.7
           ],
           [
            0.7
           ],
           [
            0.7
           ],
           [
            0.7
           ],
           [
            0.7
           ],
           [
            0.7
           ],
           [
            0.7
           ],
           [
            0.7
           ],
           [
            0.7
           ],
           [
            0.7
           ],
           [
            0.7
           ],
           [
            0.7
           ],
           [
            0.7
           ],
           [
            0.7
           ],
           [
            0.7
           ],
           [
            0.7
           ],
           [
            0.7
           ],
           [
            0.7
           ],
           [
            0.7
           ],
           [
            0.7
           ],
           [
            0.7
           ],
           [
            0.7
           ],
           [
            0.7
           ],
           [
            0.7
           ],
           [
            0.7
           ],
           [
            0.7
           ],
           [
            0.7
           ],
           [
            0.7
           ],
           [
            0.7
           ],
           [
            0.7
           ],
           [
            0.7
           ],
           [
            0.7
           ],
           [
            0.7
           ],
           [
            0.7
           ],
           [
            0.7
           ],
           [
            0.7
           ],
           [
            0.7
           ],
           [
            0.7
           ],
           [
            0.7
           ],
           [
            0.7
           ],
           [
            0.7
           ],
           [
            0.7
           ],
           [
            0.7
           ],
           [
            0.7
           ],
           [
            0.7
           ],
           [
            0.7
           ],
           [
            0.7
           ],
           [
            0.7
           ],
           [
            0.7
           ],
           [
            0.7
           ],
           [
            0.7
           ],
           [
            0.7
           ],
           [
            0.7
           ],
           [
            0.7
           ],
           [
            0.7
           ],
           [
            0.7
           ],
           [
            0.7
           ],
           [
            0.7
           ],
           [
            0.7
           ],
           [
            0.7
           ],
           [
            0.7
           ],
           [
            0.7
           ],
           [
            0.7
           ],
           [
            0.7
           ],
           [
            0.7
           ],
           [
            0.7
           ],
           [
            0.7
           ],
           [
            0.7
           ],
           [
            0.7
           ],
           [
            0.7
           ],
           [
            0.7
           ],
           [
            0.7
           ],
           [
            0.7
           ],
           [
            0.7
           ],
           [
            0.7
           ],
           [
            0.7
           ],
           [
            0.7
           ],
           [
            0.7
           ],
           [
            0.7
           ],
           [
            0.7
           ],
           [
            0.7
           ],
           [
            0.7
           ],
           [
            0.7
           ],
           [
            0.7
           ],
           [
            0.7
           ],
           [
            0.7
           ],
           [
            0.7
           ],
           [
            0.7
           ],
           [
            0.7
           ],
           [
            0.7
           ],
           [
            0.7
           ],
           [
            0.7
           ],
           [
            0.7
           ],
           [
            0.7
           ],
           [
            0.7
           ],
           [
            0.7
           ],
           [
            0.7
           ],
           [
            0.7
           ],
           [
            0.7
           ],
           [
            0.7
           ],
           [
            0.7
           ],
           [
            0.7
           ],
           [
            0.7
           ],
           [
            0.7
           ],
           [
            0.7
           ],
           [
            0.7
           ],
           [
            0.7
           ],
           [
            0.7
           ],
           [
            0.7
           ],
           [
            0.7
           ],
           [
            0.7
           ],
           [
            0.7
           ],
           [
            0.7
           ],
           [
            0.7
           ],
           [
            0.7
           ],
           [
            0.7
           ],
           [
            0.7
           ],
           [
            0.7
           ],
           [
            0.7
           ],
           [
            0.7
           ],
           [
            0.7
           ],
           [
            0.7
           ],
           [
            0.7
           ],
           [
            0.7
           ],
           [
            0.7
           ],
           [
            0.7
           ],
           [
            0.7
           ],
           [
            0.7
           ],
           [
            0.7
           ],
           [
            0.7
           ],
           [
            0.7
           ],
           [
            0.7
           ],
           [
            0.7
           ],
           [
            0.7
           ],
           [
            0.7
           ],
           [
            0.7
           ],
           [
            0.7
           ],
           [
            0.7
           ],
           [
            0.7
           ],
           [
            0.7
           ],
           [
            0.7
           ],
           [
            0.7
           ],
           [
            0.7
           ],
           [
            0.7
           ],
           [
            0.7
           ],
           [
            0.7
           ],
           [
            0.7
           ],
           [
            0.7
           ],
           [
            0.7
           ],
           [
            0.7
           ],
           [
            0.7
           ],
           [
            0.7
           ],
           [
            0.7
           ],
           [
            0.7
           ],
           [
            0.7
           ],
           [
            0.7
           ],
           [
            0.7
           ],
           [
            0.7
           ],
           [
            0.7
           ],
           [
            0.7
           ],
           [
            0.7
           ],
           [
            0.7
           ],
           [
            0.7
           ],
           [
            0.7
           ],
           [
            0.7
           ],
           [
            0.7
           ],
           [
            0.7
           ],
           [
            0.7
           ],
           [
            0.7
           ],
           [
            0.7
           ],
           [
            0.7
           ],
           [
            0.7
           ],
           [
            0.7
           ],
           [
            0.7
           ],
           [
            0.7
           ],
           [
            0.7
           ],
           [
            0.7
           ],
           [
            0.7
           ],
           [
            0.7
           ],
           [
            0.7
           ],
           [
            0.7
           ],
           [
            0.7
           ],
           [
            0.7
           ],
           [
            0.7
           ],
           [
            0.7
           ],
           [
            0.7
           ],
           [
            0.7
           ],
           [
            0.7
           ],
           [
            0.7
           ],
           [
            0.7
           ],
           [
            0.7
           ],
           [
            0.7
           ],
           [
            0.7
           ],
           [
            0.7
           ],
           [
            0.7
           ],
           [
            0.7
           ],
           [
            0.7
           ],
           [
            0.7
           ],
           [
            0.7
           ],
           [
            0.7
           ],
           [
            0.7
           ],
           [
            0.7
           ],
           [
            0.7
           ],
           [
            0.7
           ],
           [
            0.7
           ],
           [
            0.7
           ],
           [
            0.7
           ],
           [
            0.7
           ],
           [
            0.7
           ],
           [
            0.7
           ],
           [
            0.7
           ],
           [
            0.7
           ],
           [
            0.7
           ],
           [
            0.7
           ],
           [
            0.7
           ],
           [
            0.7
           ],
           [
            0.7
           ],
           [
            0.7
           ],
           [
            0.7
           ],
           [
            0.7
           ],
           [
            0.7
           ],
           [
            0.7
           ],
           [
            0.7
           ],
           [
            0.7
           ],
           [
            0.7
           ],
           [
            0.7
           ],
           [
            0.7
           ],
           [
            0.7
           ],
           [
            0.7
           ],
           [
            0.7
           ],
           [
            0.7
           ],
           [
            0.7
           ],
           [
            0.7
           ],
           [
            0.7
           ],
           [
            0.7
           ],
           [
            0.7
           ],
           [
            0.7
           ],
           [
            0.7
           ],
           [
            0.7
           ],
           [
            0.7
           ],
           [
            0.7
           ],
           [
            0.7
           ],
           [
            0.7
           ],
           [
            0.7
           ],
           [
            0.7
           ],
           [
            0.7
           ],
           [
            0.7
           ],
           [
            0.7
           ],
           [
            0.7
           ],
           [
            0.7
           ],
           [
            0.7
           ],
           [
            0.7
           ],
           [
            0.7
           ],
           [
            0.7
           ],
           [
            0.7
           ],
           [
            0.7
           ],
           [
            0.7
           ],
           [
            0.7
           ],
           [
            0.7
           ],
           [
            0.7
           ],
           [
            0.7
           ],
           [
            0.7
           ],
           [
            0.7
           ],
           [
            0.7
           ],
           [
            0.7
           ],
           [
            0.7
           ],
           [
            0.7
           ],
           [
            0.7
           ],
           [
            0.7
           ],
           [
            0.7
           ],
           [
            0.7
           ],
           [
            0.7
           ],
           [
            0.7
           ],
           [
            0.7
           ],
           [
            0.7
           ],
           [
            0.7
           ],
           [
            0.7
           ],
           [
            0.7
           ],
           [
            0.7
           ],
           [
            0.7
           ],
           [
            0.7
           ],
           [
            0.7
           ],
           [
            0.7
           ],
           [
            0.7
           ],
           [
            0.7
           ],
           [
            0.7
           ],
           [
            0.7
           ],
           [
            0.7
           ],
           [
            0.7
           ],
           [
            0.7
           ],
           [
            0.7
           ],
           [
            0.7
           ],
           [
            0.7
           ],
           [
            0.7
           ],
           [
            0.7
           ],
           [
            0.7
           ],
           [
            0.7
           ],
           [
            0.7
           ],
           [
            0.7
           ],
           [
            0.7
           ],
           [
            0.7
           ],
           [
            0.7
           ],
           [
            0.7
           ],
           [
            0.7
           ],
           [
            0.7
           ],
           [
            0.7
           ],
           [
            0.7
           ],
           [
            0.7
           ],
           [
            0.7
           ],
           [
            0.7
           ],
           [
            0.7
           ],
           [
            0.7
           ],
           [
            0.7
           ],
           [
            0.7
           ],
           [
            0.7
           ],
           [
            0.7
           ],
           [
            0.7
           ],
           [
            0.7
           ],
           [
            0.7
           ],
           [
            0.7
           ],
           [
            0.7
           ],
           [
            0.7
           ],
           [
            0.7
           ],
           [
            0.7
           ],
           [
            0.7
           ],
           [
            0.7
           ],
           [
            0.7
           ],
           [
            0.7
           ],
           [
            0.7
           ],
           [
            0.7
           ],
           [
            0.7
           ],
           [
            0.7
           ],
           [
            0.7
           ],
           [
            0.7
           ],
           [
            0.7
           ],
           [
            0.7
           ],
           [
            0.7
           ],
           [
            0.7
           ],
           [
            0.7
           ],
           [
            0.7
           ],
           [
            0.7
           ],
           [
            0.7
           ],
           [
            0.7
           ],
           [
            0.7
           ],
           [
            0.7
           ],
           [
            0.7
           ],
           [
            0.7
           ],
           [
            0.7
           ],
           [
            0.7
           ],
           [
            0.7
           ],
           [
            0.7
           ],
           [
            0.7
           ],
           [
            0.7
           ],
           [
            0.7
           ],
           [
            0.7
           ],
           [
            0.7
           ],
           [
            0.7
           ],
           [
            0.7
           ],
           [
            0.7
           ],
           [
            0.7
           ],
           [
            0.7
           ],
           [
            0.7
           ],
           [
            0.7
           ],
           [
            0.7
           ],
           [
            0.7
           ],
           [
            0.7
           ],
           [
            0.7
           ],
           [
            0.7
           ],
           [
            0.7
           ],
           [
            0.7
           ],
           [
            0.7
           ],
           [
            0.7
           ],
           [
            0.7
           ],
           [
            0.7
           ],
           [
            0.7
           ],
           [
            0.7
           ],
           [
            0.7
           ],
           [
            0.7
           ],
           [
            0.7
           ],
           [
            0.7
           ],
           [
            0.7
           ],
           [
            0.7
           ],
           [
            0.7
           ],
           [
            0.7
           ],
           [
            0.7
           ],
           [
            0.7
           ],
           [
            0.7
           ],
           [
            0.7
           ],
           [
            0.7
           ],
           [
            0.7
           ],
           [
            0.7
           ],
           [
            0.7
           ],
           [
            0.7
           ],
           [
            0.7
           ],
           [
            0.7
           ],
           [
            0.7
           ],
           [
            0.7
           ],
           [
            0.7
           ],
           [
            0.7
           ],
           [
            0.7
           ],
           [
            0.7
           ],
           [
            0.7
           ],
           [
            0.7
           ],
           [
            0.7
           ],
           [
            0.7
           ],
           [
            0.7
           ],
           [
            0.7
           ],
           [
            0.7
           ],
           [
            0.7
           ],
           [
            0.7
           ],
           [
            0.7
           ],
           [
            0.7
           ],
           [
            0.7
           ],
           [
            0.7
           ],
           [
            0.7
           ],
           [
            0.7
           ],
           [
            0.7
           ],
           [
            0.7
           ],
           [
            0.7
           ],
           [
            0.7
           ],
           [
            0.7
           ],
           [
            0.7
           ],
           [
            0.7
           ],
           [
            0.7
           ],
           [
            0.7
           ],
           [
            0.7
           ],
           [
            0.7
           ],
           [
            0.7
           ],
           [
            0.7
           ],
           [
            0.7
           ],
           [
            0.7
           ],
           [
            0.7
           ],
           [
            0.7
           ],
           [
            0.7
           ],
           [
            0.7
           ],
           [
            0.7
           ],
           [
            0.7
           ],
           [
            0.7
           ],
           [
            0.7
           ],
           [
            0.7
           ],
           [
            0.7
           ],
           [
            0.7
           ],
           [
            0.7
           ],
           [
            0.7
           ],
           [
            0.7
           ],
           [
            0.7
           ],
           [
            0.7
           ],
           [
            0.7
           ],
           [
            0.7
           ],
           [
            0.7
           ],
           [
            0.7
           ],
           [
            0.7
           ],
           [
            0.7
           ],
           [
            0.7
           ],
           [
            0.7
           ],
           [
            0.7
           ],
           [
            0.7
           ],
           [
            0.7
           ],
           [
            0.7
           ],
           [
            0.7
           ],
           [
            0.7
           ],
           [
            0.7
           ],
           [
            0.7
           ],
           [
            0.7
           ],
           [
            0.7
           ],
           [
            0.7
           ],
           [
            0.7
           ],
           [
            0.7
           ],
           [
            0.7
           ],
           [
            0.7
           ],
           [
            0.7
           ],
           [
            0.7
           ],
           [
            0.7
           ],
           [
            0.7
           ],
           [
            0.7
           ],
           [
            0.7
           ],
           [
            0.7
           ],
           [
            0.7
           ],
           [
            0.7
           ],
           [
            0.7
           ],
           [
            0.7
           ],
           [
            0.7
           ],
           [
            0.7
           ],
           [
            0.7
           ],
           [
            0.7
           ],
           [
            0.7
           ],
           [
            0.7
           ],
           [
            0.7
           ],
           [
            0.7
           ],
           [
            0.7
           ],
           [
            0.7
           ],
           [
            0.7
           ],
           [
            0.7
           ],
           [
            0.7
           ],
           [
            0.7
           ],
           [
            0.7
           ],
           [
            0.7
           ],
           [
            0.7
           ],
           [
            0.7
           ],
           [
            0.7
           ],
           [
            0.7
           ],
           [
            0.7
           ],
           [
            0.7
           ],
           [
            0.7
           ],
           [
            0.7
           ],
           [
            0.7
           ],
           [
            0.7
           ],
           [
            0.7
           ],
           [
            0.7
           ],
           [
            0.7
           ],
           [
            0.7
           ],
           [
            0.7
           ],
           [
            0.7
           ],
           [
            0.7
           ],
           [
            0.7
           ],
           [
            0.7
           ],
           [
            0.7
           ],
           [
            0.7
           ],
           [
            0.7
           ],
           [
            0.7
           ],
           [
            0.7
           ],
           [
            0.7
           ],
           [
            0.7
           ],
           [
            0.7
           ],
           [
            0.7
           ],
           [
            0.7
           ],
           [
            0.7
           ],
           [
            0.7
           ],
           [
            0.7
           ],
           [
            0.7
           ],
           [
            0.7
           ],
           [
            0.7
           ],
           [
            0.7
           ],
           [
            0.7
           ],
           [
            0.7
           ],
           [
            0.7
           ],
           [
            0.7
           ],
           [
            0.7
           ],
           [
            0.7
           ],
           [
            0.7
           ],
           [
            0.7
           ],
           [
            0.7
           ],
           [
            0.7
           ],
           [
            0.7
           ],
           [
            0.7
           ],
           [
            0.7
           ],
           [
            0.7
           ],
           [
            0.7
           ],
           [
            0.7
           ],
           [
            0.7
           ],
           [
            0.7
           ],
           [
            0.7
           ],
           [
            0.7
           ],
           [
            0.7
           ],
           [
            0.7
           ],
           [
            0.7
           ],
           [
            0.7
           ],
           [
            0.7
           ],
           [
            0.7
           ],
           [
            0.7
           ],
           [
            0.7
           ],
           [
            0.7
           ],
           [
            0.7
           ],
           [
            0.7
           ],
           [
            0.7
           ],
           [
            0.7
           ],
           [
            0.7
           ],
           [
            0.7
           ],
           [
            0.7
           ],
           [
            0.7
           ],
           [
            0.7
           ],
           [
            0.7
           ],
           [
            0.7
           ],
           [
            0.7
           ],
           [
            0.7
           ],
           [
            0.7
           ],
           [
            0.7
           ],
           [
            0.7
           ],
           [
            0.7
           ],
           [
            0.7
           ],
           [
            0.7
           ],
           [
            0.7
           ],
           [
            0.7
           ],
           [
            0.7
           ],
           [
            0.7
           ],
           [
            0.7
           ],
           [
            0.7
           ],
           [
            0.7
           ],
           [
            0.7
           ],
           [
            0.7
           ],
           [
            0.7
           ],
           [
            0.7
           ],
           [
            0.7
           ],
           [
            0.7
           ],
           [
            0.7
           ],
           [
            0.7
           ],
           [
            0.7
           ],
           [
            0.7
           ],
           [
            0.7
           ],
           [
            0.7
           ],
           [
            0.7
           ],
           [
            0.7
           ],
           [
            0.7
           ],
           [
            0.7
           ],
           [
            0.7
           ],
           [
            0.7
           ],
           [
            0.7
           ],
           [
            0.7
           ],
           [
            0.7
           ],
           [
            0.7
           ],
           [
            0.7
           ],
           [
            0.7
           ],
           [
            0.7
           ],
           [
            0.7
           ],
           [
            0.7
           ],
           [
            0.7
           ],
           [
            0.7
           ],
           [
            0.7
           ],
           [
            0.7
           ],
           [
            0.7
           ],
           [
            0.7
           ],
           [
            0.7
           ],
           [
            0.7
           ],
           [
            0.7
           ],
           [
            0.7
           ],
           [
            0.7
           ],
           [
            0.7
           ],
           [
            0.7
           ],
           [
            0.7
           ],
           [
            0.7
           ],
           [
            0.7
           ],
           [
            0.7
           ],
           [
            0.7
           ],
           [
            0.7
           ],
           [
            0.7
           ],
           [
            0.7
           ],
           [
            0.7
           ],
           [
            0.7
           ]
          ],
          "size": [
           15,
           15,
           10,
           10,
           10,
           5,
           5,
           5,
           5,
           5,
           5,
           5,
           5,
           5,
           5,
           5,
           5,
           5,
           5,
           5,
           5,
           5,
           5,
           5,
           10,
           10,
           5,
           5,
           5,
           5,
           5,
           5,
           5,
           50,
           45,
           25,
           20,
           15,
           10,
           5,
           5,
           110,
           80,
           60,
           50,
           50,
           45,
           45,
           45,
           40,
           40,
           40,
           40,
           40,
           35,
           35,
           30,
           25,
           20,
           20,
           20,
           15,
           15,
           15,
           15,
           15,
           15,
           15,
           10,
           10,
           10,
           10,
           10,
           10,
           10,
           10,
           5,
           5,
           5,
           5,
           5,
           5,
           5,
           5,
           5,
           60,
           35,
           30,
           25,
           25,
           20,
           20,
           10,
           10,
           10,
           10,
           10,
           10,
           10,
           10,
           10,
           10,
           10,
           10,
           5,
           5,
           5,
           5,
           5,
           5,
           5,
           5,
           5,
           5,
           5,
           5,
           5,
           5,
           5,
           15,
           10,
           10,
           10,
           10,
           10,
           10,
           5,
           5,
           5,
           5,
           5,
           5,
           5,
           5,
           5
          ]
         },
         "mode": "markers",
         "name": "Female",
         "type": "scatter",
         "uid": "fb8156a2-ce73-43ae-b3c5-bf95186430bc",
         "x": [
          "University <br>graduate",
          "University <br>without <br>graduating",
          "University <br>graduate",
          "University <br>graduate",
          "University <br>graduate",
          "University <br>graduate",
          "University <br>graduate",
          "University <br>graduate",
          "University <br>graduate",
          "Completed <br>Compulsory<br>Secondary <br>Education",
          "Completed <br>Compulsory<br>Secondary <br>Education",
          "Vocational <br>Training",
          "University <br>without <br>graduating",
          "University <br>graduate",
          "University <br>graduate",
          "University <br>graduate",
          "University <br>graduate",
          "University <br>without <br>graduating",
          "University <br>graduate",
          "University <br>without <br>graduating",
          "Completed <br>Compulsory<br>Secondary <br>Education",
          "Vocational <br>Training",
          "University <br>graduate",
          "University <br>without <br>graduating",
          "Vocational <br>Training",
          "Primary <br>education",
          "University <br>without <br>graduating",
          "University <br>graduate",
          "Unfinished <br>Compulsory<br>Secondary <br>Education",
          "Unfinished <br>Compulsory<br>Secondary <br>Education",
          "Unfinished <br>Compulsory<br>Secondary <br>Education",
          "Unfinished <br>Compulsory<br>Secondary <br>Education",
          "Unfinished <br>Compulsory<br>Secondary <br>Education",
          "Unfinished <br>Compulsory<br>Secondary <br>Education",
          "University <br>graduate",
          "University <br>graduate",
          "Vocational <br>Training",
          "University <br>graduate",
          "University <br>without <br>graduating",
          "University <br>without <br>graduating",
          "University <br>without <br>graduating",
          "University <br>graduate",
          "University <br>graduate",
          "University <br>graduate",
          "University <br>without <br>graduating",
          "University <br>graduate",
          "University <br>without <br>graduating",
          "University <br>graduate",
          "University <br>graduate",
          "University <br>graduate",
          "University <br>without <br>graduating",
          "University <br>without <br>graduating",
          "University <br>without <br>graduating",
          "University <br>without <br>graduating",
          "University <br>without <br>graduating",
          "University <br>without <br>graduating",
          "University <br>without <br>graduating",
          "University <br>without <br>graduating",
          "Unfinished <br>Compulsory<br>Secondary <br>Education",
          "Unfinished <br>Compulsory<br>Secondary <br>Education",
          "Unfinished <br>Compulsory<br>Secondary <br>Education",
          "University <br>graduate",
          "University <br>graduate",
          "Unfinished <br>Compulsory<br>Secondary <br>Education",
          "Unfinished <br>Compulsory<br>Secondary <br>Education",
          "Unfinished <br>Compulsory<br>Secondary <br>Education",
          "Unfinished <br>Compulsory<br>Secondary <br>Education",
          "Unfinished <br>Compulsory<br>Secondary <br>Education",
          "Unfinished <br>Compulsory<br>Secondary <br>Education",
          "University <br>without <br>graduating",
          "Unfinished <br>Compulsory<br>Secondary <br>Education",
          "University <br>graduate",
          "University <br>without <br>graduating",
          "University <br>graduate",
          "Vocational <br>Training",
          "University <br>graduate",
          "University <br>graduate",
          "University <br>graduate",
          "University <br>graduate",
          "University <br>graduate",
          "Vocational <br>Training",
          "University <br>graduate",
          "Vocational <br>Training",
          "Vocational <br>Training",
          "Completed <br>Compulsory<br>Secondary <br>Education",
          "University <br>without <br>graduating",
          "University <br>graduate",
          "University <br>graduate",
          "University <br>graduate",
          "Completed <br>Compulsory<br>Secondary <br>Education",
          "University <br>without <br>graduating",
          "University <br>without <br>graduating",
          "University <br>without <br>graduating",
          "University <br>without <br>graduating",
          "University <br>without <br>graduating",
          "University <br>without <br>graduating",
          "University <br>graduate",
          "University <br>graduate",
          "University <br>graduate",
          "University <br>graduate",
          "University <br>graduate",
          "University <br>graduate",
          "University <br>graduate",
          "University <br>graduate",
          "University <br>graduate",
          "University <br>graduate",
          "University <br>graduate",
          "University <br>graduate",
          "University <br>graduate",
          "University <br>without <br>graduating",
          "University <br>graduate",
          "University <br>without <br>graduating",
          "University <br>graduate",
          "University <br>graduate",
          "University <br>without <br>graduating",
          "Vocational <br>Training",
          "University <br>without <br>graduating",
          "University <br>without <br>graduating",
          "Unfinished <br>Compulsory<br>Secondary <br>Education",
          "Unfinished <br>Compulsory<br>Secondary <br>Education",
          "Unfinished <br>Compulsory<br>Secondary <br>Education",
          "University <br>graduate",
          "Completed <br>Compulsory<br>Secondary <br>Education",
          "Vocational <br>Training",
          "Unfinished <br>Compulsory<br>Secondary <br>Education",
          "Unfinished <br>Compulsory<br>Secondary <br>Education",
          "Unfinished <br>Compulsory<br>Secondary <br>Education",
          "Unfinished <br>Compulsory<br>Secondary <br>Education",
          "Unfinished <br>Compulsory<br>Secondary <br>Education",
          "Unfinished <br>Compulsory<br>Secondary <br>Education",
          "Unfinished <br>Compulsory<br>Secondary <br>Education",
          "Unfinished <br>Compulsory<br>Secondary <br>Education",
          "Unfinished <br>Compulsory<br>Secondary <br>Education",
          "Unfinished <br>Compulsory<br>Secondary <br>Education",
          "Unfinished <br>Compulsory<br>Secondary <br>Education",
          "Unfinished <br>Compulsory<br>Secondary <br>Education",
          "University <br>graduate",
          "University <br>without <br>graduating",
          "University <br>without <br>graduating",
          "University <br>without <br>graduating",
          "Vocational <br>Training",
          "University <br>graduate",
          "University <br>without <br>graduating",
          "University <br>graduate",
          "University <br>graduate",
          "University <br>graduate",
          "University <br>graduate",
          "Primary <br>education",
          "University <br>graduate",
          "University <br>graduate",
          "University <br>graduate",
          "University <br>graduate",
          "University <br>graduate",
          "University <br>without <br>graduating",
          "Completed <br>Compulsory<br>Secondary <br>Education",
          "University <br>graduate",
          "University <br>without <br>graduating",
          "Completed <br>Compulsory<br>Secondary <br>Education",
          "University <br>graduate",
          "University <br>graduate",
          "Vocational <br>Training",
          "University <br>graduate",
          "University <br>graduate",
          "University <br>graduate",
          "University <br>graduate",
          "University <br>without <br>graduating",
          "University <br>graduate",
          "University <br>graduate",
          "University <br>graduate",
          "University <br>graduate",
          "University <br>graduate",
          "University <br>graduate",
          "University <br>graduate",
          "University <br>graduate",
          "University <br>graduate",
          "University <br>graduate",
          "University <br>graduate",
          "University <br>graduate",
          "Completed <br>Compulsory<br>Secondary <br>Education",
          "University <br>without <br>graduating",
          "University <br>graduate",
          "University <br>graduate",
          "Unfinished <br>Compulsory<br>Secondary <br>Education",
          "University <br>graduate",
          "University <br>graduate",
          "University <br>graduate",
          "Primary <br>education",
          "Vocational <br>Training",
          "University <br>graduate",
          "University <br>graduate",
          "Vocational <br>Training",
          "University <br>graduate",
          "University <br>graduate",
          "Vocational <br>Training",
          "University <br>graduate",
          "University <br>graduate",
          "University <br>graduate",
          "University <br>graduate",
          "University <br>graduate",
          "Primary <br>education",
          "University <br>graduate",
          "Completed <br>Compulsory<br>Secondary <br>Education",
          "University <br>graduate",
          "Vocational <br>Training",
          "Primary <br>education",
          "University <br>without <br>graduating",
          "University <br>graduate",
          "University <br>graduate",
          "University <br>graduate",
          "Completed <br>Compulsory<br>Secondary <br>Education",
          "University <br>graduate",
          "University <br>without <br>graduating",
          "Completed <br>Compulsory<br>Secondary <br>Education",
          "University <br>graduate",
          "University <br>graduate",
          "University <br>graduate",
          "University <br>graduate",
          "University <br>graduate",
          "University <br>without <br>graduating",
          "University <br>without <br>graduating",
          "University <br>graduate",
          "University <br>without <br>graduating",
          "University <br>graduate",
          "University <br>graduate",
          "University <br>graduate",
          "Completed <br>Compulsory<br>Secondary <br>Education",
          "University <br>without <br>graduating",
          "University <br>graduate",
          "University <br>graduate",
          "University <br>graduate",
          "University <br>graduate",
          "University <br>graduate",
          "Vocational <br>Training",
          "University <br>graduate",
          "University <br>graduate",
          "University <br>graduate",
          "University <br>graduate",
          "University <br>graduate",
          "University <br>graduate",
          "University <br>graduate",
          "Completed <br>Compulsory<br>Secondary <br>Education",
          "University <br>without <br>graduating",
          "Completed <br>Compulsory<br>Secondary <br>Education",
          "University <br>graduate",
          "University <br>graduate",
          "University <br>graduate",
          "University <br>without <br>graduating",
          "University <br>graduate",
          "University <br>graduate",
          "Primary <br>education",
          "University <br>graduate",
          "Completed <br>Compulsory<br>Secondary <br>Education",
          "University <br>without <br>graduating",
          "Completed <br>Compulsory<br>Secondary <br>Education",
          "University <br>graduate",
          "Completed <br>Compulsory<br>Secondary <br>Education",
          "University <br>without <br>graduating",
          "University <br>graduate",
          "Completed <br>Compulsory<br>Secondary <br>Education",
          "University <br>graduate",
          "Primary <br>education",
          "University <br>graduate",
          "University <br>graduate",
          "University <br>graduate",
          "University <br>without <br>graduating",
          "University <br>graduate",
          "Completed <br>Compulsory<br>Secondary <br>Education",
          "University <br>without <br>graduating",
          "University <br>graduate",
          "University <br>graduate",
          "University <br>graduate",
          "University <br>without <br>graduating",
          "Completed <br>Compulsory<br>Secondary <br>Education",
          "University <br>graduate",
          "University <br>graduate",
          "University <br>without <br>graduating",
          "University <br>graduate",
          "Vocational <br>Training",
          "University <br>without <br>graduating",
          "University <br>graduate",
          "Completed <br>Compulsory<br>Secondary <br>Education",
          "Primary <br>education",
          "University <br>graduate",
          "University <br>graduate",
          "University <br>graduate",
          "University <br>graduate",
          "University <br>graduate",
          "University <br>graduate",
          "University <br>without <br>graduating",
          "University <br>graduate",
          "University <br>graduate",
          "Vocational <br>Training",
          "University <br>without <br>graduating",
          "University <br>without <br>graduating",
          "Primary <br>education",
          "University <br>without <br>graduating",
          "University <br>graduate",
          "Completed <br>Compulsory<br>Secondary <br>Education",
          "University <br>graduate",
          "University <br>without <br>graduating",
          "University <br>graduate",
          "University <br>graduate",
          "University <br>graduate",
          "University <br>graduate",
          "Vocational <br>Training",
          "Unfinished <br>Compulsory<br>Secondary <br>Education",
          "University <br>without <br>graduating",
          "University <br>graduate",
          "University <br>graduate",
          "University <br>graduate",
          "University <br>graduate",
          "Completed <br>Compulsory<br>Secondary <br>Education",
          "University <br>without <br>graduating",
          "University <br>without <br>graduating",
          "University <br>graduate",
          "University <br>graduate",
          "University <br>graduate",
          "University <br>graduate",
          "University <br>graduate",
          "Completed <br>Compulsory<br>Secondary <br>Education",
          "University <br>without <br>graduating",
          "University <br>without <br>graduating",
          "University <br>graduate",
          "University <br>without <br>graduating",
          "University <br>graduate",
          "University <br>graduate",
          "University <br>graduate",
          "Completed <br>Compulsory<br>Secondary <br>Education",
          "University <br>graduate",
          "University <br>graduate",
          "University <br>graduate",
          "University <br>graduate",
          "University <br>graduate",
          "University <br>graduate",
          "University <br>graduate",
          "University <br>graduate",
          "Completed <br>Compulsory<br>Secondary <br>Education",
          "Unfinished <br>Compulsory<br>Secondary <br>Education",
          "University <br>without <br>graduating",
          "Vocational <br>Training",
          "University <br>without <br>graduating",
          "University <br>without <br>graduating",
          "Completed <br>Compulsory<br>Secondary <br>Education",
          "University <br>without <br>graduating",
          "University <br>graduate",
          "University <br>without <br>graduating",
          "University <br>without <br>graduating",
          "Primary <br>education",
          "University <br>graduate",
          "Unfinished <br>Compulsory<br>Secondary <br>Education",
          "University <br>graduate",
          "University <br>graduate",
          "University <br>graduate",
          "University <br>without <br>graduating",
          "University <br>without <br>graduating",
          "Primary <br>education",
          "University <br>graduate",
          "University <br>graduate",
          "University <br>graduate",
          "University <br>graduate",
          "University <br>without <br>graduating",
          "University <br>graduate",
          "University <br>graduate",
          "Vocational <br>Training",
          "University <br>graduate",
          "University <br>graduate",
          "University <br>graduate",
          "University <br>graduate",
          "Completed <br>Compulsory<br>Secondary <br>Education",
          "University <br>graduate",
          "University <br>graduate",
          "University <br>graduate",
          "University <br>graduate",
          "University <br>graduate",
          "University <br>graduate",
          "Completed <br>Compulsory<br>Secondary <br>Education",
          "University <br>without <br>graduating",
          "University <br>graduate",
          "University <br>graduate",
          "University <br>graduate",
          "Vocational <br>Training",
          "University <br>graduate",
          "Vocational <br>Training",
          "University <br>graduate",
          "University <br>graduate",
          "University <br>without <br>graduating",
          "University <br>graduate",
          "University <br>without <br>graduating",
          "University <br>graduate",
          "University <br>graduate",
          "University <br>without <br>graduating",
          "University <br>graduate",
          "University <br>graduate",
          "Completed <br>Compulsory<br>Secondary <br>Education",
          "University <br>without <br>graduating",
          "University <br>graduate",
          "University <br>graduate",
          "University <br>graduate",
          "University <br>graduate",
          "University <br>graduate",
          "University <br>graduate",
          "University <br>graduate",
          "University <br>without <br>graduating"
         ],
         "y": [
          31,
          24,
          30,
          42,
          32,
          30,
          31,
          35,
          23,
          28,
          41,
          32,
          22,
          33,
          46,
          24,
          43,
          21,
          50,
          57,
          46,
          53,
          44,
          18,
          27,
          64,
          18,
          23,
          15,
          15,
          15,
          16,
          16,
          17,
          31,
          35,
          32,
          31,
          21,
          22,
          20,
          35,
          48,
          29,
          42,
          28,
          21,
          28,
          27,
          62,
          19,
          21,
          22,
          23,
          18,
          19,
          18,
          51,
          15,
          15,
          14,
          26,
          34,
          17,
          17,
          16,
          15,
          15,
          16,
          19,
          16,
          35,
          38,
          34,
          30,
          34,
          41,
          35,
          35,
          36,
          46,
          32,
          55,
          34,
          37,
          21,
          52,
          31,
          25,
          31,
          20,
          19,
          19,
          19,
          18,
          20,
          39,
          44,
          28,
          41,
          57,
          55,
          28,
          61,
          62,
          43,
          39,
          46,
          55,
          21,
          45,
          27,
          46,
          32,
          21,
          26,
          19,
          21,
          15,
          13,
          15,
          30,
          62,
          24,
          14,
          14,
          14,
          14,
          13,
          13,
          14,
          14,
          14,
          15,
          14,
          13,
          53,
          21,
          21,
          81,
          42,
          26,
          27,
          27,
          26,
          37,
          32,
          25,
          29,
          30,
          29,
          37,
          28,
          22,
          27,
          44,
          35,
          35,
          27,
          35,
          61,
          27,
          31,
          23,
          33,
          22,
          37,
          31,
          30,
          24,
          49,
          32,
          35,
          41,
          26,
          30,
          35,
          35,
          22,
          39,
          33,
          37,
          21,
          30,
          27,
          56,
          35,
          24,
          36,
          24,
          34,
          30,
          33,
          55,
          26,
          25,
          37,
          46,
          59,
          25,
          23,
          29,
          32,
          55,
          27,
          26,
          23,
          26,
          51,
          62,
          51,
          30,
          60,
          54,
          48,
          32,
          26,
          29,
          39,
          40,
          31,
          21,
          56,
          24,
          34,
          43,
          56,
          34,
          46,
          35,
          49,
          28,
          33,
          26,
          29,
          47,
          27,
          28,
          43,
          54,
          31,
          24,
          40,
          30,
          38,
          38,
          23,
          24,
          24,
          30,
          24,
          29,
          26,
          52,
          29,
          51,
          56,
          22,
          30,
          22,
          37,
          24,
          38,
          25,
          28,
          46,
          46,
          48,
          33,
          24,
          33,
          32,
          36,
          33,
          45,
          42,
          34,
          38,
          20,
          37,
          20,
          44,
          27,
          30,
          57,
          40,
          34,
          24,
          66,
          46,
          35,
          20,
          38,
          30,
          28,
          27,
          56,
          24,
          45,
          59,
          27,
          33,
          41,
          31,
          64,
          34,
          81,
          43,
          38,
          24,
          46,
          25,
          29,
          67,
          69,
          73,
          30,
          38,
          42,
          31,
          50,
          55,
          32,
          25,
          53,
          45,
          35,
          46,
          33,
          25,
          45,
          62,
          24,
          27,
          30,
          50,
          28,
          43,
          33,
          50,
          40,
          47,
          55,
          26,
          48,
          67,
          27,
          28,
          38,
          43,
          47,
          24,
          38,
          27,
          21,
          43,
          36,
          60,
          25,
          25,
          45,
          29,
          24,
          27,
          44,
          54,
          37,
          58,
          65,
          34,
          53,
          35,
          78,
          33,
          23,
          18,
          36,
          24,
          37,
          26,
          53,
          25,
          38,
          24,
          28,
          37,
          35,
          33,
          31,
          29,
          25,
          35,
          50,
          26,
          26,
          24,
          24,
          34,
          24,
          24,
          24,
          24,
          27
         ]
        },
        {
         "marker": {
          "color": "rgb(244,109,67)",
          "opacity": [
           [
            0.7
           ],
           [
            0.7
           ],
           [
            0.7
           ],
           [
            0.7
           ],
           [
            0.7
           ],
           [
            0.7
           ],
           [
            0.7
           ],
           [
            0.7
           ],
           [
            0.7
           ],
           [
            0.7
           ],
           [
            0.7
           ],
           [
            0.7
           ],
           [
            0.7
           ],
           [
            0.7
           ],
           [
            0.7
           ],
           [
            0.7
           ],
           [
            0.7
           ],
           [
            0.7
           ],
           [
            0.7
           ],
           [
            0.7
           ],
           [
            0.7
           ],
           [
            0.7
           ],
           [
            0.7
           ],
           [
            0.7
           ],
           [
            0.7
           ],
           [
            0.7
           ],
           [
            0.7
           ],
           [
            0.7
           ],
           [
            0.7
           ],
           [
            0.7
           ],
           [
            0.7
           ],
           [
            0.7
           ],
           [
            0.7
           ],
           [
            0.7
           ],
           [
            0.7
           ],
           [
            0.7
           ],
           [
            0.7
           ],
           [
            0.7
           ],
           [
            0.7
           ],
           [
            0.7
           ],
           [
            0.7
           ],
           [
            0.7
           ],
           [
            0.7
           ],
           [
            0.7
           ],
           [
            0.7
           ],
           [
            0.7
           ],
           [
            0.7
           ],
           [
            0.7
           ],
           [
            0.7
           ],
           [
            0.7
           ],
           [
            0.7
           ],
           [
            0.7
           ],
           [
            0.7
           ],
           [
            0.7
           ],
           [
            0.7
           ],
           [
            0.7
           ],
           [
            0.7
           ],
           [
            0.7
           ],
           [
            0.7
           ],
           [
            0.7
           ],
           [
            0.7
           ],
           [
            0.7
           ],
           [
            0.7
           ],
           [
            0.7
           ],
           [
            0.7
           ],
           [
            0.7
           ],
           [
            0.7
           ],
           [
            0.7
           ],
           [
            0.7
           ],
           [
            0.7
           ],
           [
            0.7
           ],
           [
            0.7
           ],
           [
            0.7
           ],
           [
            0.7
           ],
           [
            0.7
           ],
           [
            0.7
           ],
           [
            0.7
           ],
           [
            0.7
           ],
           [
            0.7
           ],
           [
            0.7
           ],
           [
            0.7
           ],
           [
            0.7
           ],
           [
            0.7
           ],
           [
            0.7
           ],
           [
            0.7
           ],
           [
            0.7
           ],
           [
            0.7
           ],
           [
            0.7
           ],
           [
            0.7
           ],
           [
            0.7
           ],
           [
            0.7
           ],
           [
            0.7
           ],
           [
            0.7
           ],
           [
            0.7
           ],
           [
            0.7
           ],
           [
            0.7
           ],
           [
            0.7
           ],
           [
            0.7
           ],
           [
            0.7
           ],
           [
            0.7
           ],
           [
            0.7
           ],
           [
            0.7
           ],
           [
            0.7
           ],
           [
            0.7
           ],
           [
            0.7
           ],
           [
            0.7
           ],
           [
            0.7
           ],
           [
            0.7
           ],
           [
            0.7
           ],
           [
            0.7
           ],
           [
            0.7
           ],
           [
            0.7
           ],
           [
            0.7
           ],
           [
            0.7
           ],
           [
            0.7
           ],
           [
            0.7
           ],
           [
            0.7
           ],
           [
            0.7
           ],
           [
            0.7
           ],
           [
            0.7
           ],
           [
            0.7
           ],
           [
            0.7
           ],
           [
            0.7
           ],
           [
            0.7
           ],
           [
            0.7
           ],
           [
            0.7
           ],
           [
            0.7
           ],
           [
            0.7
           ],
           [
            0.7
           ],
           [
            0.7
           ],
           [
            0.7
           ],
           [
            0.7
           ],
           [
            0.7
           ],
           [
            0.7
           ],
           [
            0.7
           ],
           [
            0.7
           ],
           [
            0.7
           ],
           [
            0.7
           ],
           [
            0.7
           ],
           [
            0.7
           ],
           [
            0.7
           ],
           [
            0.7
           ],
           [
            0.7
           ],
           [
            0.7
           ],
           [
            0.7
           ],
           [
            0.7
           ],
           [
            0.7
           ],
           [
            0.7
           ],
           [
            0.7
           ],
           [
            0.7
           ],
           [
            0.7
           ],
           [
            0.7
           ],
           [
            0.7
           ],
           [
            0.7
           ],
           [
            0.7
           ],
           [
            0.7
           ],
           [
            0.7
           ],
           [
            0.7
           ],
           [
            0.7
           ],
           [
            0.7
           ],
           [
            0.7
           ],
           [
            0.7
           ],
           [
            0.7
           ],
           [
            0.7
           ],
           [
            0.7
           ],
           [
            0.7
           ],
           [
            0.7
           ],
           [
            0.7
           ],
           [
            0.7
           ],
           [
            0.7
           ],
           [
            0.7
           ],
           [
            0.7
           ],
           [
            0.7
           ],
           [
            0.7
           ],
           [
            0.7
           ],
           [
            0.7
           ],
           [
            0.7
           ],
           [
            0.7
           ],
           [
            0.7
           ],
           [
            0.7
           ],
           [
            0.7
           ],
           [
            0.7
           ],
           [
            0.7
           ],
           [
            0.7
           ],
           [
            0.7
           ],
           [
            0.7
           ],
           [
            0.7
           ],
           [
            0.7
           ],
           [
            0.7
           ],
           [
            0.7
           ],
           [
            0.7
           ],
           [
            0.7
           ],
           [
            0.7
           ],
           [
            0.7
           ],
           [
            0.7
           ],
           [
            0.7
           ],
           [
            0.7
           ],
           [
            0.7
           ],
           [
            0.7
           ],
           [
            0.7
           ],
           [
            0.7
           ],
           [
            0.7
           ],
           [
            0.7
           ],
           [
            0.7
           ],
           [
            0.7
           ],
           [
            0.7
           ],
           [
            0.7
           ],
           [
            0.7
           ],
           [
            0.7
           ],
           [
            0.7
           ],
           [
            0.7
           ],
           [
            0.7
           ],
           [
            0.7
           ],
           [
            0.7
           ],
           [
            0.7
           ],
           [
            0.7
           ],
           [
            0.7
           ],
           [
            0.7
           ],
           [
            0.7
           ],
           [
            0.7
           ],
           [
            0.7
           ],
           [
            0.7
           ],
           [
            0.7
           ],
           [
            0.7
           ],
           [
            0.7
           ],
           [
            0.7
           ],
           [
            0.7
           ],
           [
            0.7
           ],
           [
            0.7
           ],
           [
            0.7
           ],
           [
            0.7
           ],
           [
            0.7
           ],
           [
            0.7
           ],
           [
            0.7
           ],
           [
            0.7
           ],
           [
            0.7
           ],
           [
            0.7
           ],
           [
            0.7
           ],
           [
            0.7
           ],
           [
            0.7
           ],
           [
            0.7
           ],
           [
            0.7
           ],
           [
            0.7
           ],
           [
            0.7
           ],
           [
            0.7
           ],
           [
            0.7
           ],
           [
            0.7
           ],
           [
            0.7
           ],
           [
            0.7
           ],
           [
            0.7
           ],
           [
            0.7
           ],
           [
            0.7
           ],
           [
            0.7
           ],
           [
            0.7
           ],
           [
            0.7
           ],
           [
            0.7
           ],
           [
            0.7
           ],
           [
            0.7
           ],
           [
            0.7
           ],
           [
            0.7
           ],
           [
            0.7
           ],
           [
            0.7
           ],
           [
            0.7
           ],
           [
            0.7
           ],
           [
            0.7
           ],
           [
            0.7
           ],
           [
            0.7
           ],
           [
            0.7
           ],
           [
            0.7
           ],
           [
            0.7
           ],
           [
            0.7
           ],
           [
            0.7
           ],
           [
            0.7
           ],
           [
            0.7
           ],
           [
            0.7
           ],
           [
            0.7
           ],
           [
            0.7
           ],
           [
            0.7
           ],
           [
            0.7
           ],
           [
            0.7
           ],
           [
            0.7
           ],
           [
            0.7
           ],
           [
            0.7
           ],
           [
            0.7
           ],
           [
            0.7
           ],
           [
            0.7
           ],
           [
            0.7
           ],
           [
            0.7
           ],
           [
            0.7
           ],
           [
            0.7
           ],
           [
            0.7
           ],
           [
            0.7
           ],
           [
            0.7
           ],
           [
            0.7
           ],
           [
            0.7
           ],
           [
            0.7
           ],
           [
            0.7
           ],
           [
            0.7
           ],
           [
            0.7
           ],
           [
            0.7
           ],
           [
            0.7
           ],
           [
            0.7
           ],
           [
            0.7
           ],
           [
            0.7
           ],
           [
            0.7
           ],
           [
            0.7
           ],
           [
            0.7
           ],
           [
            0.7
           ],
           [
            0.7
           ],
           [
            0.7
           ],
           [
            0.7
           ],
           [
            0.7
           ],
           [
            0.7
           ],
           [
            0.7
           ],
           [
            0.7
           ],
           [
            0.7
           ],
           [
            0.7
           ],
           [
            0.7
           ],
           [
            0.7
           ],
           [
            0.7
           ],
           [
            0.7
           ],
           [
            0.7
           ],
           [
            0.7
           ],
           [
            0.7
           ],
           [
            0.7
           ],
           [
            0.7
           ],
           [
            0.7
           ],
           [
            0.7
           ],
           [
            0.7
           ],
           [
            0.7
           ],
           [
            0.7
           ],
           [
            0.7
           ],
           [
            0.7
           ],
           [
            0.7
           ],
           [
            0.7
           ],
           [
            0.7
           ],
           [
            0.7
           ],
           [
            0.7
           ],
           [
            0.7
           ],
           [
            0.7
           ],
           [
            0.7
           ],
           [
            0.7
           ],
           [
            0.7
           ],
           [
            0.7
           ],
           [
            0.7
           ],
           [
            0.7
           ],
           [
            0.7
           ],
           [
            0.7
           ],
           [
            0.7
           ],
           [
            0.7
           ],
           [
            0.7
           ],
           [
            0.7
           ],
           [
            0.7
           ],
           [
            0.7
           ],
           [
            0.7
           ],
           [
            0.7
           ],
           [
            0.7
           ],
           [
            0.7
           ],
           [
            0.7
           ],
           [
            0.7
           ],
           [
            0.7
           ],
           [
            0.7
           ],
           [
            0.7
           ],
           [
            0.7
           ],
           [
            0.7
           ],
           [
            0.7
           ],
           [
            0.7
           ],
           [
            0.7
           ],
           [
            0.7
           ],
           [
            0.7
           ],
           [
            0.7
           ],
           [
            0.7
           ],
           [
            0.7
           ],
           [
            0.7
           ],
           [
            0.7
           ],
           [
            0.7
           ],
           [
            0.7
           ],
           [
            0.7
           ],
           [
            0.7
           ],
           [
            0.7
           ],
           [
            0.7
           ],
           [
            0.7
           ],
           [
            0.7
           ],
           [
            0.7
           ],
           [
            0.7
           ],
           [
            0.7
           ],
           [
            0.7
           ],
           [
            0.7
           ],
           [
            0.7
           ],
           [
            0.7
           ],
           [
            0.7
           ],
           [
            0.7
           ],
           [
            0.7
           ],
           [
            0.7
           ],
           [
            0.7
           ],
           [
            0.7
           ],
           [
            0.7
           ],
           [
            0.7
           ],
           [
            0.7
           ],
           [
            0.7
           ],
           [
            0.7
           ],
           [
            0.7
           ],
           [
            0.7
           ],
           [
            0.7
           ],
           [
            0.7
           ],
           [
            0.7
           ],
           [
            0.7
           ],
           [
            0.7
           ],
           [
            0.7
           ],
           [
            0.7
           ],
           [
            0.7
           ],
           [
            0.7
           ],
           [
            0.7
           ],
           [
            0.7
           ],
           [
            0.7
           ],
           [
            0.7
           ],
           [
            0.7
           ],
           [
            0.7
           ],
           [
            0.7
           ],
           [
            0.7
           ],
           [
            0.7
           ],
           [
            0.7
           ],
           [
            0.7
           ],
           [
            0.7
           ],
           [
            0.7
           ],
           [
            0.7
           ],
           [
            0.7
           ],
           [
            0.7
           ],
           [
            0.7
           ],
           [
            0.7
           ],
           [
            0.7
           ],
           [
            0.7
           ],
           [
            0.7
           ],
           [
            0.7
           ],
           [
            0.7
           ],
           [
            0.7
           ],
           [
            0.7
           ],
           [
            0.7
           ],
           [
            0.7
           ],
           [
            0.7
           ],
           [
            0.7
           ],
           [
            0.7
           ],
           [
            0.7
           ],
           [
            0.7
           ],
           [
            0.7
           ],
           [
            0.7
           ],
           [
            0.7
           ],
           [
            0.7
           ],
           [
            0.7
           ],
           [
            0.7
           ],
           [
            0.7
           ],
           [
            0.7
           ],
           [
            0.7
           ],
           [
            0.7
           ],
           [
            0.7
           ],
           [
            0.7
           ],
           [
            0.7
           ],
           [
            0.7
           ],
           [
            0.7
           ],
           [
            0.7
           ],
           [
            0.7
           ],
           [
            0.7
           ],
           [
            0.7
           ],
           [
            0.7
           ],
           [
            0.7
           ],
           [
            0.7
           ],
           [
            0.7
           ],
           [
            0.7
           ],
           [
            0.7
           ],
           [
            0.7
           ],
           [
            0.7
           ],
           [
            0.7
           ],
           [
            0.7
           ],
           [
            0.7
           ],
           [
            0.7
           ],
           [
            0.7
           ],
           [
            0.7
           ],
           [
            0.7
           ],
           [
            0.7
           ],
           [
            0.7
           ],
           [
            0.7
           ],
           [
            0.7
           ],
           [
            0.7
           ],
           [
            0.7
           ],
           [
            0.7
           ],
           [
            0.7
           ],
           [
            0.7
           ],
           [
            0.7
           ],
           [
            0.7
           ],
           [
            0.7
           ],
           [
            0.7
           ],
           [
            0.7
           ],
           [
            0.7
           ],
           [
            0.7
           ],
           [
            0.7
           ],
           [
            0.7
           ],
           [
            0.7
           ],
           [
            0.7
           ],
           [
            0.7
           ],
           [
            0.7
           ],
           [
            0.7
           ],
           [
            0.7
           ],
           [
            0.7
           ],
           [
            0.7
           ],
           [
            0.7
           ],
           [
            0.7
           ],
           [
            0.7
           ],
           [
            0.7
           ],
           [
            0.7
           ],
           [
            0.7
           ],
           [
            0.7
           ],
           [
            0.7
           ],
           [
            0.7
           ],
           [
            0.7
           ],
           [
            0.7
           ],
           [
            0.7
           ],
           [
            0.7
           ],
           [
            0.7
           ],
           [
            0.7
           ],
           [
            0.7
           ],
           [
            0.7
           ],
           [
            0.7
           ],
           [
            0.7
           ],
           [
            0.7
           ],
           [
            0.7
           ],
           [
            0.7
           ],
           [
            0.7
           ],
           [
            0.7
           ],
           [
            0.7
           ],
           [
            0.7
           ],
           [
            0.7
           ],
           [
            0.7
           ],
           [
            0.7
           ],
           [
            0.7
           ],
           [
            0.7
           ],
           [
            0.7
           ],
           [
            0.7
           ],
           [
            0.7
           ],
           [
            0.7
           ],
           [
            0.7
           ],
           [
            0.7
           ],
           [
            0.7
           ],
           [
            0.7
           ],
           [
            0.7
           ],
           [
            0.7
           ],
           [
            0.7
           ],
           [
            0.7
           ],
           [
            0.7
           ],
           [
            0.7
           ],
           [
            0.7
           ],
           [
            0.7
           ],
           [
            0.7
           ],
           [
            0.7
           ],
           [
            0.7
           ],
           [
            0.7
           ],
           [
            0.7
           ],
           [
            0.7
           ],
           [
            0.7
           ],
           [
            0.7
           ],
           [
            0.7
           ],
           [
            0.7
           ],
           [
            0.7
           ],
           [
            0.7
           ],
           [
            0.7
           ],
           [
            0.7
           ],
           [
            0.7
           ],
           [
            0.7
           ],
           [
            0.7
           ],
           [
            0.7
           ],
           [
            0.7
           ],
           [
            0.7
           ],
           [
            0.7
           ],
           [
            0.7
           ],
           [
            0.7
           ],
           [
            0.7
           ],
           [
            0.7
           ],
           [
            0.7
           ],
           [
            0.7
           ],
           [
            0.7
           ],
           [
            0.7
           ],
           [
            0.7
           ],
           [
            0.7
           ],
           [
            0.7
           ],
           [
            0.7
           ],
           [
            0.7
           ],
           [
            0.7
           ],
           [
            0.7
           ],
           [
            0.7
           ],
           [
            0.7
           ],
           [
            0.7
           ],
           [
            0.7
           ],
           [
            0.7
           ],
           [
            0.7
           ],
           [
            0.7
           ],
           [
            0.7
           ],
           [
            0.7
           ],
           [
            0.7
           ],
           [
            0.7
           ],
           [
            0.7
           ],
           [
            0.7
           ],
           [
            0.7
           ],
           [
            0.7
           ],
           [
            0.7
           ],
           [
            0.7
           ],
           [
            0.7
           ],
           [
            0.7
           ],
           [
            0.7
           ],
           [
            0.7
           ],
           [
            0.7
           ],
           [
            0.7
           ],
           [
            0.7
           ],
           [
            0.7
           ],
           [
            0.7
           ],
           [
            0.7
           ],
           [
            0.7
           ],
           [
            0.7
           ],
           [
            0.7
           ],
           [
            0.7
           ],
           [
            0.7
           ],
           [
            0.7
           ],
           [
            0.7
           ],
           [
            0.7
           ],
           [
            0.7
           ],
           [
            0.7
           ],
           [
            0.7
           ],
           [
            0.7
           ],
           [
            0.7
           ],
           [
            0.7
           ],
           [
            0.7
           ],
           [
            0.7
           ],
           [
            0.7
           ],
           [
            0.7
           ],
           [
            0.7
           ],
           [
            0.7
           ],
           [
            0.7
           ],
           [
            0.7
           ],
           [
            0.7
           ],
           [
            0.7
           ],
           [
            0.7
           ],
           [
            0.7
           ],
           [
            0.7
           ],
           [
            0.7
           ],
           [
            0.7
           ],
           [
            0.7
           ],
           [
            0.7
           ],
           [
            0.7
           ],
           [
            0.7
           ],
           [
            0.7
           ],
           [
            0.7
           ],
           [
            0.7
           ],
           [
            0.7
           ],
           [
            0.7
           ],
           [
            0.7
           ],
           [
            0.7
           ],
           [
            0.7
           ],
           [
            0.7
           ],
           [
            0.7
           ],
           [
            0.7
           ],
           [
            0.7
           ],
           [
            0.7
           ],
           [
            0.7
           ],
           [
            0.7
           ],
           [
            0.7
           ],
           [
            0.7
           ],
           [
            0.7
           ],
           [
            0.7
           ],
           [
            0.7
           ],
           [
            0.7
           ],
           [
            0.7
           ],
           [
            0.7
           ],
           [
            0.7
           ],
           [
            0.7
           ],
           [
            0.7
           ],
           [
            0.7
           ],
           [
            0.7
           ],
           [
            0.7
           ],
           [
            0.7
           ],
           [
            0.7
           ],
           [
            0.7
           ],
           [
            0.7
           ],
           [
            0.7
           ],
           [
            0.7
           ],
           [
            0.7
           ],
           [
            0.7
           ],
           [
            0.7
           ],
           [
            0.7
           ],
           [
            0.7
           ],
           [
            0.7
           ],
           [
            0.7
           ],
           [
            0.7
           ],
           [
            0.7
           ],
           [
            0.7
           ],
           [
            0.7
           ],
           [
            0.7
           ],
           [
            0.7
           ],
           [
            0.7
           ],
           [
            0.7
           ],
           [
            0.7
           ],
           [
            0.7
           ],
           [
            0.7
           ],
           [
            0.7
           ],
           [
            0.7
           ],
           [
            0.7
           ],
           [
            0.7
           ],
           [
            0.7
           ],
           [
            0.7
           ],
           [
            0.7
           ],
           [
            0.7
           ],
           [
            0.7
           ],
           [
            0.7
           ],
           [
            0.7
           ],
           [
            0.7
           ],
           [
            0.7
           ],
           [
            0.7
           ],
           [
            0.7
           ],
           [
            0.7
           ],
           [
            0.7
           ],
           [
            0.7
           ],
           [
            0.7
           ],
           [
            0.7
           ],
           [
            0.7
           ],
           [
            0.7
           ],
           [
            0.7
           ],
           [
            0.7
           ],
           [
            0.7
           ],
           [
            0.7
           ],
           [
            0.7
           ],
           [
            0.7
           ],
           [
            0.7
           ],
           [
            0.7
           ],
           [
            0.7
           ],
           [
            0.7
           ],
           [
            0.7
           ],
           [
            0.7
           ],
           [
            0.7
           ],
           [
            0.7
           ],
           [
            0.7
           ],
           [
            0.7
           ],
           [
            0.7
           ],
           [
            0.7
           ],
           [
            0.7
           ],
           [
            0.7
           ],
           [
            0.7
           ],
           [
            0.7
           ],
           [
            0.7
           ],
           [
            0.7
           ],
           [
            0.7
           ],
           [
            0.7
           ],
           [
            0.7
           ],
           [
            0.7
           ],
           [
            0.7
           ],
           [
            0.7
           ],
           [
            0.7
           ],
           [
            0.7
           ],
           [
            0.7
           ],
           [
            0.7
           ],
           [
            0.7
           ],
           [
            0.7
           ],
           [
            0.7
           ],
           [
            0.7
           ],
           [
            0.7
           ],
           [
            0.7
           ],
           [
            0.7
           ],
           [
            0.7
           ],
           [
            0.7
           ],
           [
            0.7
           ],
           [
            0.7
           ]
          ],
          "size": [
           5,
           5,
           5,
           5,
           5,
           5
          ]
         },
         "mode": "markers",
         "name": "Other",
         "type": "scatter",
         "uid": "fd3285c2-37d2-4af7-8367-fbe3af2b41a9",
         "x": [
          "University <br>without <br>graduating",
          "University <br>without <br>graduating",
          "Unfinished <br>Compulsory<br>Secondary <br>Education",
          "University <br>without <br>graduating",
          "University <br>without <br>graduating",
          "University <br>graduate"
         ],
         "y": [
          20,
          36,
          14,
          22,
          21,
          28
         ]
        }
       ],
       "layout": {
        "xaxis": {
         "title": {
          "text": "Educational level"
         }
        },
        "yaxis": {
         "title": {
          "text": "Age"
         }
        }
       }
      },
      "text/html": [
       "<div id=\"2cabd2d8-187c-437f-b927-35a7a2277df3\" style=\"height: 525px; width: 100%;\" class=\"plotly-graph-div\"></div><script type=\"text/javascript\">require([\"plotly\"], function(Plotly) { window.PLOTLYENV=window.PLOTLYENV || {};window.PLOTLYENV.BASE_URL=\"https://plot.ly\";\n",
       "if (document.getElementById(\"2cabd2d8-187c-437f-b927-35a7a2277df3\")) {\n",
       "    Plotly.newPlot(\"2cabd2d8-187c-437f-b927-35a7a2277df3\", [{\"marker\": {\"color\": \"rgb(102,194,165)\", \"opacity\": [[0.7], [0.7], [0.7], [0.7], [0.7], [0.7], [0.7], [0.7], [0.7], [0.7], [0.7], [0.7], [0.7], [0.7], [0.7], [0.7], [0.7], [0.7], [0.7], [0.7], [0.7], [0.7], [0.7], [0.7], [0.7], [0.7], [0.7], [0.7], [0.7], [0.7], [0.7], [0.7], [0.7], [0.7], [0.7], [0.7], [0.7], [0.7], [0.7], [0.7], [0.7], [0.7], [0.7], [0.7], [0.7], [0.7], [0.7], [0.7], [0.7], [0.7], [0.7], [0.7], [0.7], [0.7], [0.7], [0.7], [0.7], [0.7], [0.7], [0.7], [0.7], [0.7], [0.7], [0.7], [0.7], [0.7], [0.7], [0.7], [0.7], [0.7], [0.7], [0.7], [0.7], [0.7], [0.7], [0.7], [0.7], [0.7], [0.7], [0.7], [0.7], [0.7], [0.7], [0.7], [0.7], [0.7], [0.7], [0.7], [0.7], [0.7], [0.7], [0.7], [0.7], [0.7], [0.7], [0.7], [0.7], [0.7], [0.7], [0.7], [0.7], [0.7], [0.7], [0.7], [0.7], [0.7], [0.7], [0.7], [0.7], [0.7], [0.7], [0.7], [0.7], [0.7], [0.7], [0.7], [0.7], [0.7], [0.7], [0.7], [0.7], [0.7], [0.7], [0.7], [0.7], [0.7], [0.7], [0.7], [0.7], [0.7], [0.7], [0.7], [0.7], [0.7], [0.7], [0.7], [0.7], [0.7], [0.7], [0.7], [0.7], [0.7], [0.7], [0.7], [0.7], [0.7], [0.7], [0.7], [0.7], [0.7], [0.7], [0.7], [0.7], [0.7], [0.7], [0.7], [0.7], [0.7], [0.7], [0.7], [0.7], [0.7], [0.7], [0.7], [0.7], [0.7], [0.7], [0.7], [0.7], [0.7], [0.7], [0.7], [0.7], [0.7], [0.7], [0.7], [0.7], [0.7], [0.7], [0.7], [0.7], [0.7], [0.7], [0.7], [0.7], [0.7], [0.7], [0.7], [0.7], [0.7], [0.7], [0.7], [0.7], [0.7], [0.7], [0.7], [0.7], [0.7], [0.7], [0.7], [0.7], [0.7], [0.7], [0.7], [0.7], [0.7], [0.7], [0.7], [0.7], [0.7], [0.7], [0.7], [0.7], [0.7], [0.7], [0.7], [0.7], [0.7], [0.7], [0.7], [0.7], [0.7], [0.7], [0.7], [0.7], [0.7], [0.7], [0.7], [0.7], [0.7], [0.7], [0.7], [0.7], [0.7], [0.7], [0.7], [0.7], [0.7], [0.7], [0.7], [0.7], [0.7], [0.7], [0.7], [0.7], [0.7], [0.7], [0.7], [0.7], [0.7], [0.7], [0.7], [0.7], [0.7], [0.7], [0.7], [0.7], [0.7], [0.7], [0.7], [0.7], [0.7], [0.7], [0.7], [0.7], [0.7], [0.7], [0.7], [0.7], [0.7], [0.7], [0.7], [0.7], [0.7], [0.7], [0.7], [0.7], [0.7], [0.7], [0.7], [0.7], [0.7], [0.7], [0.7], [0.7], [0.7], [0.7], [0.7], [0.7], [0.7], [0.7], [0.7], [0.7], [0.7], [0.7], [0.7], [0.7], [0.7], [0.7], [0.7], [0.7], [0.7], [0.7], [0.7], [0.7], [0.7], [0.7], [0.7], [0.7], [0.7], [0.7], [0.7], [0.7], [0.7], [0.7], [0.7], [0.7], [0.7], [0.7], [0.7], [0.7], [0.7], [0.7], [0.7], [0.7], [0.7], [0.7], [0.7], [0.7], [0.7], [0.7], [0.7], [0.7], [0.7], [0.7], [0.7], [0.7], [0.7], [0.7], [0.7], [0.7], [0.7], [0.7], [0.7], [0.7], [0.7], [0.7], [0.7], [0.7], [0.7], [0.7], [0.7], [0.7], [0.7], [0.7], [0.7], [0.7], [0.7], [0.7], [0.7], [0.7], [0.7], [0.7], [0.7], [0.7], [0.7], [0.7], [0.7], [0.7], [0.7], [0.7], [0.7], [0.7], [0.7], [0.7], [0.7], [0.7], [0.7], [0.7], [0.7], [0.7], [0.7], [0.7], [0.7], [0.7], [0.7], [0.7], [0.7], [0.7], [0.7], [0.7], [0.7], [0.7], [0.7], [0.7], [0.7], [0.7], [0.7], [0.7], [0.7], [0.7], [0.7], [0.7], [0.7], [0.7], [0.7], [0.7], [0.7], [0.7], [0.7], [0.7], [0.7], [0.7], [0.7], [0.7], [0.7], [0.7], [0.7], [0.7], [0.7], [0.7], [0.7], [0.7], [0.7], [0.7], [0.7], [0.7], [0.7], [0.7], [0.7], [0.7], [0.7], [0.7], [0.7], [0.7], [0.7], [0.7], [0.7], [0.7], [0.7], [0.7], [0.7], [0.7], [0.7], [0.7], [0.7], [0.7], [0.7], [0.7], [0.7], [0.7], [0.7], [0.7], [0.7], [0.7], [0.7], [0.7], [0.7], [0.7], [0.7], [0.7], [0.7], [0.7], [0.7], [0.7], [0.7], [0.7], [0.7], [0.7], [0.7], [0.7], [0.7], [0.7], [0.7], [0.7], [0.7], [0.7], [0.7], [0.7], [0.7], [0.7], [0.7], [0.7], [0.7], [0.7], [0.7], [0.7], [0.7], [0.7], [0.7], [0.7], [0.7], [0.7], [0.7], [0.7], [0.7], [0.7], [0.7], [0.7], [0.7], [0.7], [0.7], [0.7], [0.7], [0.7], [0.7], [0.7], [0.7], [0.7], [0.7], [0.7], [0.7], [0.7], [0.7], [0.7], [0.7], [0.7], [0.7], [0.7], [0.7], [0.7], [0.7], [0.7], [0.7], [0.7], [0.7], [0.7], [0.7], [0.7], [0.7], [0.7], [0.7], [0.7], [0.7], [0.7], [0.7], [0.7], [0.7], [0.7], [0.7], [0.7], [0.7], [0.7], [0.7], [0.7], [0.7], [0.7], [0.7], [0.7], [0.7], [0.7], [0.7], [0.7], [0.7], [0.7], [0.7], [0.7], [0.7], [0.7], [0.7], [0.7], [0.7], [0.7], [0.7], [0.7], [0.7], [0.7], [0.7], [0.7], [0.7], [0.7], [0.7], [0.7], [0.7], [0.7], [0.7], [0.7], [0.7], [0.7], [0.7], [0.7], [0.7], [0.7], [0.7], [0.7], [0.7], [0.7], [0.7], [0.7], [0.7], [0.7], [0.7], [0.7], [0.7], [0.7], [0.7], [0.7], [0.7], [0.7], [0.7], [0.7], [0.7], [0.7], [0.7], [0.7], [0.7], [0.7], [0.7], [0.7], [0.7], [0.7], [0.7], [0.7], [0.7], [0.7], [0.7], [0.7], [0.7], [0.7], [0.7], [0.7], [0.7], [0.7], [0.7], [0.7], [0.7], [0.7], [0.7], [0.7], [0.7], [0.7], [0.7], [0.7], [0.7], [0.7], [0.7], [0.7], [0.7], [0.7], [0.7], [0.7], [0.7], [0.7], [0.7], [0.7], [0.7], [0.7], [0.7], [0.7], [0.7], [0.7], [0.7], [0.7], [0.7], [0.7], [0.7], [0.7], [0.7], [0.7], [0.7], [0.7], [0.7], [0.7], [0.7], [0.7], [0.7], [0.7], [0.7], [0.7], [0.7], [0.7], [0.7], [0.7], [0.7], [0.7], [0.7], [0.7], [0.7], [0.7], [0.7], [0.7], [0.7], [0.7], [0.7], [0.7], [0.7], [0.7], [0.7], [0.7], [0.7], [0.7], [0.7], [0.7], [0.7], [0.7], [0.7], [0.7], [0.7], [0.7], [0.7], [0.7], [0.7], [0.7], [0.7], [0.7], [0.7], [0.7], [0.7], [0.7], [0.7], [0.7], [0.7], [0.7], [0.7], [0.7], [0.7], [0.7], [0.7], [0.7], [0.7], [0.7], [0.7], [0.7], [0.7], [0.7], [0.7], [0.7], [0.7], [0.7], [0.7], [0.7], [0.7], [0.7], [0.7], [0.7], [0.7], [0.7], [0.7], [0.7], [0.7], [0.7], [0.7], [0.7], [0.7], [0.7], [0.7], [0.7], [0.7], [0.7], [0.7], [0.7], [0.7], [0.7], [0.7], [0.7], [0.7], [0.7], [0.7], [0.7], [0.7], [0.7], [0.7], [0.7], [0.7], [0.7], [0.7], [0.7]], \"size\": [20, 10, 10, 5, 5, 5, 5, 5, 5, 5, 5, 5, 5, 5, 5, 90, 40, 25, 15, 10, 5, 5, 5, 5, 5, 100, 90, 80, 60, 50, 50, 50, 45, 40, 40, 40, 40, 35, 30, 25, 25, 20, 20, 20, 15, 15, 15, 15, 15, 15, 10, 10, 10, 10, 5, 5, 5, 5, 5, 5, 5, 5, 5, 5, 5, 5, 35, 30, 25, 25, 20, 15, 15, 15, 15, 15, 10, 10, 10, 10, 10, 10, 10, 5, 5, 5, 5, 5, 5, 5, 5, 5, 5, 5, 5, 5, 10, 10, 5, 5, 5, 5, 5, 5, 5, 5, 5, 5, 5, 5, 5, 5]}, \"mode\": \"markers\", \"name\": \"Male\", \"x\": [\"University <br>graduate\", \"University <br>graduate\", \"University <br>graduate\", \"University <br>graduate\", \"University <br>without <br>graduating\", \"University <br>without <br>graduating\", \"University <br>graduate\", \"University <br>graduate\", \"University <br>graduate\", \"University <br>without <br>graduating\", \"University <br>graduate\", \"University <br>graduate\", \"University <br>graduate\", \"Unfinished <br>Compulsory<br>Secondary <br>Education\", \"University <br>graduate\", \"University <br>without <br>graduating\", \"University <br>without <br>graduating\", \"Vocational <br>Training\", \"University <br>without <br>graduating\", \"University <br>without <br>graduating\", \"University <br>graduate\", \"Unfinished <br>Compulsory<br>Secondary <br>Education\", \"Unfinished <br>Compulsory<br>Secondary <br>Education\", \"Unfinished <br>Compulsory<br>Secondary <br>Education\", \"Unfinished <br>Compulsory<br>Secondary <br>Education\", \"Unfinished <br>Compulsory<br>Secondary <br>Education\", \"University <br>graduate\", \"Unfinished <br>Compulsory<br>Secondary <br>Education\", \"University <br>without <br>graduating\", \"University <br>graduate\", \"University <br>graduate\", \"University <br>graduate\", \"University <br>graduate\", \"University <br>without <br>graduating\", \"University <br>graduate\", \"University <br>without <br>graduating\", \"Unfinished <br>Compulsory<br>Secondary <br>Education\", \"Unfinished <br>Compulsory<br>Secondary <br>Education\", \"Unfinished <br>Compulsory<br>Secondary <br>Education\", \"Unfinished <br>Compulsory<br>Secondary <br>Education\", \"Unfinished <br>Compulsory<br>Secondary <br>Education\", \"Unfinished <br>Compulsory<br>Secondary <br>Education\", \"Unfinished <br>Compulsory<br>Secondary <br>Education\", \"Unfinished <br>Compulsory<br>Secondary <br>Education\", \"Unfinished <br>Compulsory<br>Secondary <br>Education\", \"University <br>graduate\", \"University <br>graduate\", \"University <br>without <br>graduating\", \"Unfinished <br>Compulsory<br>Secondary <br>Education\", \"Unfinished <br>Compulsory<br>Secondary <br>Education\", \"Unfinished <br>Compulsory<br>Secondary <br>Education\", \"Unfinished <br>Compulsory<br>Secondary <br>Education\", \"Unfinished <br>Compulsory<br>Secondary <br>Education\", \"Unfinished <br>Compulsory<br>Secondary <br>Education\", \"University <br>without <br>graduating\", \"University <br>without <br>graduating\", \"University <br>graduate\", \"University <br>graduate\", \"University <br>without <br>graduating\", \"University <br>without <br>graduating\", \"University <br>without <br>graduating\", \"Unfinished <br>Compulsory<br>Secondary <br>Education\", \"University <br>graduate\", \"University <br>graduate\", \"University <br>graduate\", \"University <br>graduate\", \"Vocational <br>Training\", \"University <br>graduate\", \"University <br>without <br>graduating\", \"University <br>graduate\", \"University <br>graduate\", \"University <br>graduate\", \"University <br>graduate\", \"University <br>without <br>graduating\", \"University <br>without <br>graduating\", \"University <br>without <br>graduating\", \"Unfinished <br>Compulsory<br>Secondary <br>Education\", \"Unfinished <br>Compulsory<br>Secondary <br>Education\", \"Unfinished <br>Compulsory<br>Secondary <br>Education\", \"Unfinished <br>Compulsory<br>Secondary <br>Education\", \"Unfinished <br>Compulsory<br>Secondary <br>Education\", \"University <br>without <br>graduating\", \"University <br>graduate\", \"Vocational <br>Training\", \"University <br>without <br>graduating\", \"Unfinished <br>Compulsory<br>Secondary <br>Education\", \"Unfinished <br>Compulsory<br>Secondary <br>Education\", \"Unfinished <br>Compulsory<br>Secondary <br>Education\", \"Unfinished <br>Compulsory<br>Secondary <br>Education\", \"Unfinished <br>Compulsory<br>Secondary <br>Education\", \"Unfinished <br>Compulsory<br>Secondary <br>Education\", \"Unfinished <br>Compulsory<br>Secondary <br>Education\", \"Unfinished <br>Compulsory<br>Secondary <br>Education\", \"Unfinished <br>Compulsory<br>Secondary <br>Education\", \"Unfinished <br>Compulsory<br>Secondary <br>Education\", \"University <br>without <br>graduating\", \"University <br>without <br>graduating\", \"Vocational <br>Training\", \"University <br>without <br>graduating\", \"University <br>without <br>graduating\", \"University <br>graduate\", \"University <br>without <br>graduating\", \"University <br>graduate\", \"University <br>graduate\", \"University <br>graduate\", \"University <br>graduate\", \"University <br>graduate\", \"University <br>graduate\", \"University <br>without <br>graduating\", \"University <br>without <br>graduating\", \"University <br>graduate\", \"University <br>graduate\", \"University <br>graduate\", \"University <br>graduate\", \"University <br>graduate\", \"University <br>graduate\", \"University <br>without <br>graduating\", \"University <br>graduate\", \"University <br>graduate\", \"University <br>graduate\", \"University <br>graduate\", \"University <br>graduate\", \"Vocational <br>Training\", \"University <br>without <br>graduating\", \"University <br>without <br>graduating\", \"University <br>graduate\", \"University <br>graduate\", \"University <br>without <br>graduating\", \"Completed <br>Compulsory<br>Secondary <br>Education\", \"University <br>graduate\", \"University <br>graduate\", \"University <br>graduate\", \"Completed <br>Compulsory<br>Secondary <br>Education\", \"Vocational <br>Training\", \"University <br>without <br>graduating\", \"University <br>graduate\", \"University <br>graduate\", \"University <br>graduate\", \"University <br>graduate\", \"University <br>graduate\", \"University <br>graduate\", \"University <br>graduate\", \"Vocational <br>Training\", \"University <br>graduate\", \"Completed <br>Compulsory<br>Secondary <br>Education\", \"Primary <br>education\", \"University <br>graduate\", \"University <br>graduate\", \"University <br>graduate\", \"University <br>graduate\", \"University <br>without <br>graduating\", \"University <br>graduate\", \"University <br>without <br>graduating\", \"University <br>graduate\", \"University <br>without <br>graduating\", \"University <br>graduate\", \"Vocational <br>Training\", \"University <br>graduate\", \"University <br>without <br>graduating\", \"Completed <br>Compulsory<br>Secondary <br>Education\", \"University <br>without <br>graduating\", \"University <br>graduate\", \"University <br>graduate\", \"University <br>graduate\", \"Completed <br>Compulsory<br>Secondary <br>Education\", \"University <br>without <br>graduating\", \"University <br>without <br>graduating\", \"University <br>graduate\", \"University <br>graduate\", \"University <br>graduate\", \"University <br>graduate\", \"University <br>without <br>graduating\", \"Completed <br>Compulsory<br>Secondary <br>Education\", \"Completed <br>Compulsory<br>Secondary <br>Education\", \"University <br>without <br>graduating\", \"University <br>graduate\", \"University <br>graduate\", \"University <br>graduate\", \"University <br>graduate\", \"University <br>graduate\", \"Primary <br>education\", \"University <br>graduate\", \"University <br>graduate\", \"University <br>without <br>graduating\", \"Completed <br>Compulsory<br>Secondary <br>Education\", \"University <br>graduate\", \"University <br>graduate\", \"University <br>graduate\", \"University <br>graduate\", \"University <br>graduate\", \"University <br>graduate\", \"University <br>graduate\", \"University <br>without <br>graduating\", \"University <br>graduate\", \"University <br>graduate\", \"University <br>graduate\", \"University <br>graduate\", \"University <br>without <br>graduating\", \"University <br>graduate\", \"University <br>graduate\", \"University <br>graduate\", \"University <br>graduate\", \"University <br>graduate\", \"University <br>graduate\", \"University <br>graduate\", \"University <br>without <br>graduating\", \"University <br>graduate\", \"University <br>without <br>graduating\", \"University <br>graduate\", \"University <br>graduate\", \"University <br>graduate\", \"University <br>graduate\", \"University <br>graduate\", \"University <br>graduate\", \"University <br>graduate\", \"Vocational <br>Training\", \"University <br>graduate\", \"University <br>without <br>graduating\", \"University <br>graduate\", \"University <br>graduate\", \"University <br>graduate\", \"University <br>graduate\", \"University <br>graduate\", \"Vocational <br>Training\", \"University <br>without <br>graduating\", \"University <br>graduate\", \"University <br>graduate\", \"Completed <br>Compulsory<br>Secondary <br>Education\", \"University <br>without <br>graduating\", \"University <br>graduate\", \"University <br>graduate\", \"University <br>graduate\", \"University <br>graduate\", \"Vocational <br>Training\", \"University <br>graduate\", \"University <br>graduate\", \"University <br>without <br>graduating\", \"University <br>without <br>graduating\", \"University <br>graduate\", \"University <br>graduate\", \"University <br>graduate\", \"Vocational <br>Training\", \"University <br>graduate\", \"University <br>graduate\", \"University <br>without <br>graduating\", \"University <br>graduate\", \"University <br>graduate\", \"University <br>graduate\", \"Unfinished <br>Compulsory<br>Secondary <br>Education\", \"University <br>graduate\", \"University <br>without <br>graduating\", \"University <br>graduate\", \"University <br>without <br>graduating\", \"University <br>graduate\", \"University <br>graduate\", \"University <br>graduate\", \"University <br>graduate\", \"University <br>without <br>graduating\", \"University <br>graduate\", \"University <br>graduate\", \"University <br>graduate\", \"University <br>graduate\", \"University <br>graduate\", \"University <br>graduate\", \"University <br>graduate\", \"University <br>graduate\", \"University <br>graduate\", \"University <br>graduate\", \"Vocational <br>Training\", \"Vocational <br>Training\", \"University <br>graduate\", \"University <br>graduate\", \"University <br>graduate\", \"Vocational <br>Training\", \"University <br>graduate\", \"University <br>graduate\", \"University <br>graduate\", \"University <br>graduate\", \"Completed <br>Compulsory<br>Secondary <br>Education\", \"University <br>graduate\", \"University <br>graduate\", \"Completed <br>Compulsory<br>Secondary <br>Education\", \"University <br>graduate\", \"Completed <br>Compulsory<br>Secondary <br>Education\", \"University <br>graduate\", \"University <br>graduate\", \"University <br>graduate\", \"University <br>graduate\", \"Completed <br>Compulsory<br>Secondary <br>Education\", \"University <br>graduate\", \"University <br>graduate\", \"Primary <br>education\", \"University <br>graduate\", \"University <br>graduate\", \"University <br>graduate\", \"University <br>graduate\", \"Completed <br>Compulsory<br>Secondary <br>Education\", \"University <br>graduate\", \"University <br>graduate\", \"University <br>without <br>graduating\", \"University <br>graduate\", \"University <br>graduate\", \"University <br>graduate\", \"Vocational <br>Training\", \"University <br>graduate\", \"University <br>graduate\", \"University <br>graduate\", \"University <br>graduate\", \"University <br>graduate\", \"Unfinished <br>Compulsory<br>Secondary <br>Education\", \"University <br>graduate\", \"University <br>without <br>graduating\", \"University <br>graduate\", \"University <br>graduate\", \"University <br>graduate\", \"University <br>without <br>graduating\", \"Completed <br>Compulsory<br>Secondary <br>Education\", \"University <br>graduate\", \"Vocational <br>Training\", \"University <br>without <br>graduating\", \"Vocational <br>Training\", \"University <br>graduate\", \"University <br>graduate\", \"University <br>graduate\", \"Completed <br>Compulsory<br>Secondary <br>Education\", \"University <br>graduate\", \"University <br>graduate\", \"University <br>without <br>graduating\", \"University <br>graduate\", \"University <br>graduate\", \"University <br>without <br>graduating\", \"University <br>without <br>graduating\", \"University <br>graduate\", \"University <br>graduate\", \"University <br>without <br>graduating\", \"University <br>graduate\", \"University <br>graduate\", \"University <br>graduate\", \"University <br>graduate\", \"University <br>without <br>graduating\", \"University <br>graduate\", \"University <br>graduate\", \"University <br>graduate\", \"University <br>graduate\", \"University <br>without <br>graduating\", \"University <br>without <br>graduating\", \"Completed <br>Compulsory<br>Secondary <br>Education\", \"University <br>graduate\", \"University <br>graduate\", \"University <br>graduate\", \"Unfinished <br>Compulsory<br>Secondary <br>Education\", \"University <br>graduate\", \"University <br>without <br>graduating\", \"University <br>graduate\", \"University <br>graduate\", \"University <br>graduate\", \"University <br>graduate\", \"University <br>graduate\"], \"y\": [37, 62, 28, 30, 60, 20, 31, 33, 23, 21, 29, 29, 36, 38, 33, 19, 25, 67, 23, 70, 36, 17, 17, 18, 15, 15, 23, 14, 21, 30, 53, 29, 30, 20, 30, 20, 15, 14, 14, 14, 14, 14, 15, 14, 15, 31, 30, 19, 16, 16, 15, 16, 18, 15, 19, 34, 35, 38, 20, 23, 21, 18, 61, 57, 41, 26, 46, 28, 22, 47, 42, 31, 28, 23, 18, 21, 14, 15, 16, 14, 14, 24, 64, 32, 21, 13, 14, 16, 14, 14, 14, 14, 14, 14, 14, 19, 18, 45, 21, 21, 27, 28, 32, 29, 22, 29, 21, 28, 26, 27, 32, 32, 40, 27, 26, 31, 34, 25, 28, 30, 46, 28, 28, 30, 24, 27, 38, 31, 24, 28, 46, 26, 22, 38, 26, 27, 40, 26, 34, 31, 29, 32, 47, 34, 28, 36, 34, 33, 43, 35, 39, 42, 32, 33, 24, 24, 47, 27, 47, 24, 29, 34, 29, 39, 42, 43, 42, 28, 35, 36, 24, 22, 27, 53, 28, 31, 60, 34, 39, 69, 21, 43, 34, 19, 30, 29, 33, 65, 30, 38, 28, 47, 23, 39, 30, 39, 29, 22, 42, 37, 36, 44, 36, 29, 63, 32, 37, 27, 35, 26, 32, 32, 28, 33, 29, 39, 35, 31, 25, 36, 36, 30, 30, 34, 27, 57, 44, 36, 29, 29, 29, 36, 28, 38, 37, 28, 54, 28, 41, 28, 39, 27, 38, 33, 42, 35, 45, 30, 27, 30, 23, 44, 25, 27, 26, 25, 23, 38, 35, 24, 33, 31, 32, 53, 28, 21, 41, 29, 51, 31, 30, 28, 37, 49, 26, 26, 26, 33, 27, 30, 22, 34, 24, 27, 24, 22, 28, 60, 39, 39, 43, 33, 25, 40, 40, 26, 26, 33, 39, 23, 35, 29, 34, 42, 39, 51, 23, 32, 41, 29, 27, 67, 27, 32, 27, 36, 34, 47, 30, 62, 35, 49, 71, 31, 23, 68, 50, 30, 30, 40, 30, 66, 37, 57, 25, 30, 29, 32, 24, 48, 28, 26, 29, 28, 25, 37, 27, 28, 23, 27, 26, 26, 25, 29, 28, 34, 24, 34], \"type\": \"scatter\", \"uid\": \"1f8bf0f8-f5a1-4060-ab24-8105f4096986\"}, {\"marker\": {\"color\": \"rgb(254,224,139)\", \"opacity\": [[0.7], [0.7], [0.7], [0.7], [0.7], [0.7], [0.7], [0.7], [0.7], [0.7], [0.7], [0.7], [0.7], [0.7], [0.7], [0.7], [0.7], [0.7], [0.7], [0.7], [0.7], [0.7], [0.7], [0.7], [0.7], [0.7], [0.7], [0.7], [0.7], [0.7], [0.7], [0.7], [0.7], [0.7], [0.7], [0.7], [0.7], [0.7], [0.7], [0.7], [0.7], [0.7], [0.7], [0.7], [0.7], [0.7], [0.7], [0.7], [0.7], [0.7], [0.7], [0.7], [0.7], [0.7], [0.7], [0.7], [0.7], [0.7], [0.7], [0.7], [0.7], [0.7], [0.7], [0.7], [0.7], [0.7], [0.7], [0.7], [0.7], [0.7], [0.7], [0.7], [0.7], [0.7], [0.7], [0.7], [0.7], [0.7], [0.7], [0.7], [0.7], [0.7], [0.7], [0.7], [0.7], [0.7], [0.7], [0.7], [0.7], [0.7], [0.7], [0.7], [0.7], [0.7], [0.7], [0.7], [0.7], [0.7], [0.7], [0.7], [0.7], [0.7], [0.7], [0.7], [0.7], [0.7], [0.7], [0.7], [0.7], [0.7], [0.7], [0.7], [0.7], [0.7], [0.7], [0.7], [0.7], [0.7], [0.7], [0.7], [0.7], [0.7], [0.7], [0.7], [0.7], [0.7], [0.7], [0.7], [0.7], [0.7], [0.7], [0.7], [0.7], [0.7], [0.7], [0.7], [0.7], [0.7], [0.7], [0.7], [0.7], [0.7], [0.7], [0.7], [0.7], [0.7], [0.7], [0.7], [0.7], [0.7], [0.7], [0.7], [0.7], [0.7], [0.7], [0.7], [0.7], [0.7], [0.7], [0.7], [0.7], [0.7], [0.7], [0.7], [0.7], [0.7], [0.7], [0.7], [0.7], [0.7], [0.7], [0.7], [0.7], [0.7], [0.7], [0.7], [0.7], [0.7], [0.7], [0.7], [0.7], [0.7], [0.7], [0.7], [0.7], [0.7], [0.7], [0.7], [0.7], [0.7], [0.7], [0.7], [0.7], [0.7], [0.7], [0.7], [0.7], [0.7], [0.7], [0.7], [0.7], [0.7], [0.7], [0.7], [0.7], [0.7], [0.7], [0.7], [0.7], [0.7], [0.7], [0.7], [0.7], [0.7], [0.7], [0.7], [0.7], [0.7], [0.7], [0.7], [0.7], [0.7], [0.7], [0.7], [0.7], [0.7], [0.7], [0.7], [0.7], [0.7], [0.7], [0.7], [0.7], [0.7], [0.7], [0.7], [0.7], [0.7], [0.7], [0.7], [0.7], [0.7], [0.7], [0.7], [0.7], [0.7], [0.7], [0.7], [0.7], [0.7], [0.7], [0.7], [0.7], [0.7], [0.7], [0.7], [0.7], [0.7], [0.7], [0.7], [0.7], [0.7], [0.7], [0.7], [0.7], [0.7], [0.7], [0.7], [0.7], [0.7], [0.7], [0.7], [0.7], [0.7], [0.7], [0.7], [0.7], [0.7], [0.7], [0.7], [0.7], [0.7], [0.7], [0.7], [0.7], [0.7], [0.7], [0.7], [0.7], [0.7], [0.7], [0.7], [0.7], [0.7], [0.7], [0.7], [0.7], [0.7], [0.7], [0.7], [0.7], [0.7], [0.7], [0.7], [0.7], [0.7], [0.7], [0.7], [0.7], [0.7], [0.7], [0.7], [0.7], [0.7], [0.7], [0.7], [0.7], [0.7], [0.7], [0.7], [0.7], [0.7], [0.7], [0.7], [0.7], [0.7], [0.7], [0.7], [0.7], [0.7], [0.7], [0.7], [0.7], [0.7], [0.7], [0.7], [0.7], [0.7], [0.7], [0.7], [0.7], [0.7], [0.7], [0.7], [0.7], [0.7], [0.7], [0.7], [0.7], [0.7], [0.7], [0.7], [0.7], [0.7], [0.7], [0.7], [0.7], [0.7], [0.7], [0.7], [0.7], [0.7], [0.7], [0.7], [0.7], [0.7], [0.7], [0.7], [0.7], [0.7], [0.7], [0.7], [0.7], [0.7], [0.7], [0.7], [0.7], [0.7], [0.7], [0.7], [0.7], [0.7], [0.7], [0.7], [0.7], [0.7], [0.7], [0.7], [0.7], [0.7], [0.7], [0.7], [0.7], [0.7], [0.7], [0.7], [0.7], [0.7], [0.7], [0.7], [0.7], [0.7], [0.7], [0.7], [0.7], [0.7], [0.7], [0.7], [0.7], [0.7], [0.7], [0.7], [0.7], [0.7], [0.7], [0.7], [0.7], [0.7], [0.7], [0.7], [0.7], [0.7], [0.7], [0.7], [0.7], [0.7], [0.7], [0.7], [0.7], [0.7], [0.7], [0.7], [0.7], [0.7], [0.7], [0.7], [0.7], [0.7], [0.7], [0.7], [0.7], [0.7], [0.7], [0.7], [0.7], [0.7], [0.7], [0.7], [0.7], [0.7], [0.7], [0.7], [0.7], [0.7], [0.7], [0.7], [0.7], [0.7], [0.7], [0.7], [0.7], [0.7], [0.7], [0.7], [0.7], [0.7], [0.7], [0.7], [0.7], [0.7], [0.7], [0.7], [0.7], [0.7], [0.7], [0.7], [0.7], [0.7], [0.7], [0.7], [0.7], [0.7], [0.7], [0.7], [0.7], [0.7], [0.7], [0.7], [0.7], [0.7], [0.7], [0.7], [0.7], [0.7], [0.7], [0.7], [0.7], [0.7], [0.7], [0.7], [0.7], [0.7], [0.7], [0.7], [0.7], [0.7], [0.7], [0.7], [0.7], [0.7], [0.7], [0.7], [0.7], [0.7], [0.7], [0.7], [0.7], [0.7], [0.7], [0.7], [0.7], [0.7], [0.7], [0.7], [0.7], [0.7], [0.7], [0.7], [0.7], [0.7], [0.7], [0.7], [0.7], [0.7], [0.7], [0.7], [0.7], [0.7], [0.7], [0.7], [0.7], [0.7], [0.7], [0.7], [0.7], [0.7], [0.7], [0.7], [0.7], [0.7], [0.7], [0.7], [0.7], [0.7], [0.7], [0.7], [0.7], [0.7], [0.7], [0.7], [0.7], [0.7], [0.7], [0.7], [0.7], [0.7], [0.7], [0.7], [0.7], [0.7], [0.7], [0.7], [0.7], [0.7], [0.7], [0.7], [0.7], [0.7], [0.7], [0.7], [0.7], [0.7], [0.7], [0.7], [0.7], [0.7], [0.7], [0.7], [0.7], [0.7], [0.7], [0.7], [0.7], [0.7], [0.7], [0.7], [0.7], [0.7], [0.7], [0.7], [0.7], [0.7], [0.7], [0.7], [0.7], [0.7], [0.7], [0.7], [0.7], [0.7], [0.7], [0.7], [0.7], [0.7], [0.7], [0.7], [0.7], [0.7], [0.7], [0.7], [0.7], [0.7], [0.7], [0.7], [0.7], [0.7], [0.7], [0.7], [0.7], [0.7], [0.7], [0.7], [0.7], [0.7], [0.7], [0.7], [0.7], [0.7], [0.7], [0.7], [0.7], [0.7], [0.7], [0.7], [0.7], [0.7], [0.7], [0.7], [0.7], [0.7], [0.7], [0.7], [0.7], [0.7], [0.7], [0.7], [0.7], [0.7], [0.7], [0.7], [0.7], [0.7], [0.7], [0.7], [0.7], [0.7], [0.7], [0.7], [0.7], [0.7], [0.7], [0.7], [0.7], [0.7], [0.7], [0.7], [0.7], [0.7], [0.7], [0.7], [0.7], [0.7], [0.7], [0.7], [0.7], [0.7], [0.7], [0.7], [0.7], [0.7], [0.7], [0.7], [0.7], [0.7], [0.7], [0.7], [0.7], [0.7], [0.7], [0.7], [0.7], [0.7], [0.7], [0.7], [0.7], [0.7], [0.7], [0.7], [0.7], [0.7], [0.7], [0.7], [0.7], [0.7], [0.7], [0.7], [0.7], [0.7], [0.7], [0.7], [0.7], [0.7], [0.7], [0.7], [0.7], [0.7], [0.7], [0.7], [0.7], [0.7], [0.7], [0.7], [0.7], [0.7], [0.7], [0.7], [0.7], [0.7], [0.7], [0.7], [0.7], [0.7], [0.7], [0.7], [0.7], [0.7], [0.7], [0.7], [0.7], [0.7], [0.7], [0.7], [0.7], [0.7], [0.7], [0.7], [0.7], [0.7], [0.7], [0.7], [0.7], [0.7], [0.7], [0.7], [0.7], [0.7], [0.7]], \"size\": [15, 15, 10, 10, 10, 5, 5, 5, 5, 5, 5, 5, 5, 5, 5, 5, 5, 5, 5, 5, 5, 5, 5, 5, 10, 10, 5, 5, 5, 5, 5, 5, 5, 50, 45, 25, 20, 15, 10, 5, 5, 110, 80, 60, 50, 50, 45, 45, 45, 40, 40, 40, 40, 40, 35, 35, 30, 25, 20, 20, 20, 15, 15, 15, 15, 15, 15, 15, 10, 10, 10, 10, 10, 10, 10, 10, 5, 5, 5, 5, 5, 5, 5, 5, 5, 60, 35, 30, 25, 25, 20, 20, 10, 10, 10, 10, 10, 10, 10, 10, 10, 10, 10, 10, 5, 5, 5, 5, 5, 5, 5, 5, 5, 5, 5, 5, 5, 5, 5, 15, 10, 10, 10, 10, 10, 10, 5, 5, 5, 5, 5, 5, 5, 5, 5]}, \"mode\": \"markers\", \"name\": \"Female\", \"x\": [\"University <br>graduate\", \"University <br>without <br>graduating\", \"University <br>graduate\", \"University <br>graduate\", \"University <br>graduate\", \"University <br>graduate\", \"University <br>graduate\", \"University <br>graduate\", \"University <br>graduate\", \"Completed <br>Compulsory<br>Secondary <br>Education\", \"Completed <br>Compulsory<br>Secondary <br>Education\", \"Vocational <br>Training\", \"University <br>without <br>graduating\", \"University <br>graduate\", \"University <br>graduate\", \"University <br>graduate\", \"University <br>graduate\", \"University <br>without <br>graduating\", \"University <br>graduate\", \"University <br>without <br>graduating\", \"Completed <br>Compulsory<br>Secondary <br>Education\", \"Vocational <br>Training\", \"University <br>graduate\", \"University <br>without <br>graduating\", \"Vocational <br>Training\", \"Primary <br>education\", \"University <br>without <br>graduating\", \"University <br>graduate\", \"Unfinished <br>Compulsory<br>Secondary <br>Education\", \"Unfinished <br>Compulsory<br>Secondary <br>Education\", \"Unfinished <br>Compulsory<br>Secondary <br>Education\", \"Unfinished <br>Compulsory<br>Secondary <br>Education\", \"Unfinished <br>Compulsory<br>Secondary <br>Education\", \"Unfinished <br>Compulsory<br>Secondary <br>Education\", \"University <br>graduate\", \"University <br>graduate\", \"Vocational <br>Training\", \"University <br>graduate\", \"University <br>without <br>graduating\", \"University <br>without <br>graduating\", \"University <br>without <br>graduating\", \"University <br>graduate\", \"University <br>graduate\", \"University <br>graduate\", \"University <br>without <br>graduating\", \"University <br>graduate\", \"University <br>without <br>graduating\", \"University <br>graduate\", \"University <br>graduate\", \"University <br>graduate\", \"University <br>without <br>graduating\", \"University <br>without <br>graduating\", \"University <br>without <br>graduating\", \"University <br>without <br>graduating\", \"University <br>without <br>graduating\", \"University <br>without <br>graduating\", \"University <br>without <br>graduating\", \"University <br>without <br>graduating\", \"Unfinished <br>Compulsory<br>Secondary <br>Education\", \"Unfinished <br>Compulsory<br>Secondary <br>Education\", \"Unfinished <br>Compulsory<br>Secondary <br>Education\", \"University <br>graduate\", \"University <br>graduate\", \"Unfinished <br>Compulsory<br>Secondary <br>Education\", \"Unfinished <br>Compulsory<br>Secondary <br>Education\", \"Unfinished <br>Compulsory<br>Secondary <br>Education\", \"Unfinished <br>Compulsory<br>Secondary <br>Education\", \"Unfinished <br>Compulsory<br>Secondary <br>Education\", \"Unfinished <br>Compulsory<br>Secondary <br>Education\", \"University <br>without <br>graduating\", \"Unfinished <br>Compulsory<br>Secondary <br>Education\", \"University <br>graduate\", \"University <br>without <br>graduating\", \"University <br>graduate\", \"Vocational <br>Training\", \"University <br>graduate\", \"University <br>graduate\", \"University <br>graduate\", \"University <br>graduate\", \"University <br>graduate\", \"Vocational <br>Training\", \"University <br>graduate\", \"Vocational <br>Training\", \"Vocational <br>Training\", \"Completed <br>Compulsory<br>Secondary <br>Education\", \"University <br>without <br>graduating\", \"University <br>graduate\", \"University <br>graduate\", \"University <br>graduate\", \"Completed <br>Compulsory<br>Secondary <br>Education\", \"University <br>without <br>graduating\", \"University <br>without <br>graduating\", \"University <br>without <br>graduating\", \"University <br>without <br>graduating\", \"University <br>without <br>graduating\", \"University <br>without <br>graduating\", \"University <br>graduate\", \"University <br>graduate\", \"University <br>graduate\", \"University <br>graduate\", \"University <br>graduate\", \"University <br>graduate\", \"University <br>graduate\", \"University <br>graduate\", \"University <br>graduate\", \"University <br>graduate\", \"University <br>graduate\", \"University <br>graduate\", \"University <br>graduate\", \"University <br>without <br>graduating\", \"University <br>graduate\", \"University <br>without <br>graduating\", \"University <br>graduate\", \"University <br>graduate\", \"University <br>without <br>graduating\", \"Vocational <br>Training\", \"University <br>without <br>graduating\", \"University <br>without <br>graduating\", \"Unfinished <br>Compulsory<br>Secondary <br>Education\", \"Unfinished <br>Compulsory<br>Secondary <br>Education\", \"Unfinished <br>Compulsory<br>Secondary <br>Education\", \"University <br>graduate\", \"Completed <br>Compulsory<br>Secondary <br>Education\", \"Vocational <br>Training\", \"Unfinished <br>Compulsory<br>Secondary <br>Education\", \"Unfinished <br>Compulsory<br>Secondary <br>Education\", \"Unfinished <br>Compulsory<br>Secondary <br>Education\", \"Unfinished <br>Compulsory<br>Secondary <br>Education\", \"Unfinished <br>Compulsory<br>Secondary <br>Education\", \"Unfinished <br>Compulsory<br>Secondary <br>Education\", \"Unfinished <br>Compulsory<br>Secondary <br>Education\", \"Unfinished <br>Compulsory<br>Secondary <br>Education\", \"Unfinished <br>Compulsory<br>Secondary <br>Education\", \"Unfinished <br>Compulsory<br>Secondary <br>Education\", \"Unfinished <br>Compulsory<br>Secondary <br>Education\", \"Unfinished <br>Compulsory<br>Secondary <br>Education\", \"University <br>graduate\", \"University <br>without <br>graduating\", \"University <br>without <br>graduating\", \"University <br>without <br>graduating\", \"Vocational <br>Training\", \"University <br>graduate\", \"University <br>without <br>graduating\", \"University <br>graduate\", \"University <br>graduate\", \"University <br>graduate\", \"University <br>graduate\", \"Primary <br>education\", \"University <br>graduate\", \"University <br>graduate\", \"University <br>graduate\", \"University <br>graduate\", \"University <br>graduate\", \"University <br>without <br>graduating\", \"Completed <br>Compulsory<br>Secondary <br>Education\", \"University <br>graduate\", \"University <br>without <br>graduating\", \"Completed <br>Compulsory<br>Secondary <br>Education\", \"University <br>graduate\", \"University <br>graduate\", \"Vocational <br>Training\", \"University <br>graduate\", \"University <br>graduate\", \"University <br>graduate\", \"University <br>graduate\", \"University <br>without <br>graduating\", \"University <br>graduate\", \"University <br>graduate\", \"University <br>graduate\", \"University <br>graduate\", \"University <br>graduate\", \"University <br>graduate\", \"University <br>graduate\", \"University <br>graduate\", \"University <br>graduate\", \"University <br>graduate\", \"University <br>graduate\", \"University <br>graduate\", \"Completed <br>Compulsory<br>Secondary <br>Education\", \"University <br>without <br>graduating\", \"University <br>graduate\", \"University <br>graduate\", \"Unfinished <br>Compulsory<br>Secondary <br>Education\", \"University <br>graduate\", \"University <br>graduate\", \"University <br>graduate\", \"Primary <br>education\", \"Vocational <br>Training\", \"University <br>graduate\", \"University <br>graduate\", \"Vocational <br>Training\", \"University <br>graduate\", \"University <br>graduate\", \"Vocational <br>Training\", \"University <br>graduate\", \"University <br>graduate\", \"University <br>graduate\", \"University <br>graduate\", \"University <br>graduate\", \"Primary <br>education\", \"University <br>graduate\", \"Completed <br>Compulsory<br>Secondary <br>Education\", \"University <br>graduate\", \"Vocational <br>Training\", \"Primary <br>education\", \"University <br>without <br>graduating\", \"University <br>graduate\", \"University <br>graduate\", \"University <br>graduate\", \"Completed <br>Compulsory<br>Secondary <br>Education\", \"University <br>graduate\", \"University <br>without <br>graduating\", \"Completed <br>Compulsory<br>Secondary <br>Education\", \"University <br>graduate\", \"University <br>graduate\", \"University <br>graduate\", \"University <br>graduate\", \"University <br>graduate\", \"University <br>without <br>graduating\", \"University <br>without <br>graduating\", \"University <br>graduate\", \"University <br>without <br>graduating\", \"University <br>graduate\", \"University <br>graduate\", \"University <br>graduate\", \"Completed <br>Compulsory<br>Secondary <br>Education\", \"University <br>without <br>graduating\", \"University <br>graduate\", \"University <br>graduate\", \"University <br>graduate\", \"University <br>graduate\", \"University <br>graduate\", \"Vocational <br>Training\", \"University <br>graduate\", \"University <br>graduate\", \"University <br>graduate\", \"University <br>graduate\", \"University <br>graduate\", \"University <br>graduate\", \"University <br>graduate\", \"Completed <br>Compulsory<br>Secondary <br>Education\", \"University <br>without <br>graduating\", \"Completed <br>Compulsory<br>Secondary <br>Education\", \"University <br>graduate\", \"University <br>graduate\", \"University <br>graduate\", \"University <br>without <br>graduating\", \"University <br>graduate\", \"University <br>graduate\", \"Primary <br>education\", \"University <br>graduate\", \"Completed <br>Compulsory<br>Secondary <br>Education\", \"University <br>without <br>graduating\", \"Completed <br>Compulsory<br>Secondary <br>Education\", \"University <br>graduate\", \"Completed <br>Compulsory<br>Secondary <br>Education\", \"University <br>without <br>graduating\", \"University <br>graduate\", \"Completed <br>Compulsory<br>Secondary <br>Education\", \"University <br>graduate\", \"Primary <br>education\", \"University <br>graduate\", \"University <br>graduate\", \"University <br>graduate\", \"University <br>without <br>graduating\", \"University <br>graduate\", \"Completed <br>Compulsory<br>Secondary <br>Education\", \"University <br>without <br>graduating\", \"University <br>graduate\", \"University <br>graduate\", \"University <br>graduate\", \"University <br>without <br>graduating\", \"Completed <br>Compulsory<br>Secondary <br>Education\", \"University <br>graduate\", \"University <br>graduate\", \"University <br>without <br>graduating\", \"University <br>graduate\", \"Vocational <br>Training\", \"University <br>without <br>graduating\", \"University <br>graduate\", \"Completed <br>Compulsory<br>Secondary <br>Education\", \"Primary <br>education\", \"University <br>graduate\", \"University <br>graduate\", \"University <br>graduate\", \"University <br>graduate\", \"University <br>graduate\", \"University <br>graduate\", \"University <br>without <br>graduating\", \"University <br>graduate\", \"University <br>graduate\", \"Vocational <br>Training\", \"University <br>without <br>graduating\", \"University <br>without <br>graduating\", \"Primary <br>education\", \"University <br>without <br>graduating\", \"University <br>graduate\", \"Completed <br>Compulsory<br>Secondary <br>Education\", \"University <br>graduate\", \"University <br>without <br>graduating\", \"University <br>graduate\", \"University <br>graduate\", \"University <br>graduate\", \"University <br>graduate\", \"Vocational <br>Training\", \"Unfinished <br>Compulsory<br>Secondary <br>Education\", \"University <br>without <br>graduating\", \"University <br>graduate\", \"University <br>graduate\", \"University <br>graduate\", \"University <br>graduate\", \"Completed <br>Compulsory<br>Secondary <br>Education\", \"University <br>without <br>graduating\", \"University <br>without <br>graduating\", \"University <br>graduate\", \"University <br>graduate\", \"University <br>graduate\", \"University <br>graduate\", \"University <br>graduate\", \"Completed <br>Compulsory<br>Secondary <br>Education\", \"University <br>without <br>graduating\", \"University <br>without <br>graduating\", \"University <br>graduate\", \"University <br>without <br>graduating\", \"University <br>graduate\", \"University <br>graduate\", \"University <br>graduate\", \"Completed <br>Compulsory<br>Secondary <br>Education\", \"University <br>graduate\", \"University <br>graduate\", \"University <br>graduate\", \"University <br>graduate\", \"University <br>graduate\", \"University <br>graduate\", \"University <br>graduate\", \"University <br>graduate\", \"Completed <br>Compulsory<br>Secondary <br>Education\", \"Unfinished <br>Compulsory<br>Secondary <br>Education\", \"University <br>without <br>graduating\", \"Vocational <br>Training\", \"University <br>without <br>graduating\", \"University <br>without <br>graduating\", \"Completed <br>Compulsory<br>Secondary <br>Education\", \"University <br>without <br>graduating\", \"University <br>graduate\", \"University <br>without <br>graduating\", \"University <br>without <br>graduating\", \"Primary <br>education\", \"University <br>graduate\", \"Unfinished <br>Compulsory<br>Secondary <br>Education\", \"University <br>graduate\", \"University <br>graduate\", \"University <br>graduate\", \"University <br>without <br>graduating\", \"University <br>without <br>graduating\", \"Primary <br>education\", \"University <br>graduate\", \"University <br>graduate\", \"University <br>graduate\", \"University <br>graduate\", \"University <br>without <br>graduating\", \"University <br>graduate\", \"University <br>graduate\", \"Vocational <br>Training\", \"University <br>graduate\", \"University <br>graduate\", \"University <br>graduate\", \"University <br>graduate\", \"Completed <br>Compulsory<br>Secondary <br>Education\", \"University <br>graduate\", \"University <br>graduate\", \"University <br>graduate\", \"University <br>graduate\", \"University <br>graduate\", \"University <br>graduate\", \"Completed <br>Compulsory<br>Secondary <br>Education\", \"University <br>without <br>graduating\", \"University <br>graduate\", \"University <br>graduate\", \"University <br>graduate\", \"Vocational <br>Training\", \"University <br>graduate\", \"Vocational <br>Training\", \"University <br>graduate\", \"University <br>graduate\", \"University <br>without <br>graduating\", \"University <br>graduate\", \"University <br>without <br>graduating\", \"University <br>graduate\", \"University <br>graduate\", \"University <br>without <br>graduating\", \"University <br>graduate\", \"University <br>graduate\", \"Completed <br>Compulsory<br>Secondary <br>Education\", \"University <br>without <br>graduating\", \"University <br>graduate\", \"University <br>graduate\", \"University <br>graduate\", \"University <br>graduate\", \"University <br>graduate\", \"University <br>graduate\", \"University <br>graduate\", \"University <br>without <br>graduating\"], \"y\": [31, 24, 30, 42, 32, 30, 31, 35, 23, 28, 41, 32, 22, 33, 46, 24, 43, 21, 50, 57, 46, 53, 44, 18, 27, 64, 18, 23, 15, 15, 15, 16, 16, 17, 31, 35, 32, 31, 21, 22, 20, 35, 48, 29, 42, 28, 21, 28, 27, 62, 19, 21, 22, 23, 18, 19, 18, 51, 15, 15, 14, 26, 34, 17, 17, 16, 15, 15, 16, 19, 16, 35, 38, 34, 30, 34, 41, 35, 35, 36, 46, 32, 55, 34, 37, 21, 52, 31, 25, 31, 20, 19, 19, 19, 18, 20, 39, 44, 28, 41, 57, 55, 28, 61, 62, 43, 39, 46, 55, 21, 45, 27, 46, 32, 21, 26, 19, 21, 15, 13, 15, 30, 62, 24, 14, 14, 14, 14, 13, 13, 14, 14, 14, 15, 14, 13, 53, 21, 21, 81, 42, 26, 27, 27, 26, 37, 32, 25, 29, 30, 29, 37, 28, 22, 27, 44, 35, 35, 27, 35, 61, 27, 31, 23, 33, 22, 37, 31, 30, 24, 49, 32, 35, 41, 26, 30, 35, 35, 22, 39, 33, 37, 21, 30, 27, 56, 35, 24, 36, 24, 34, 30, 33, 55, 26, 25, 37, 46, 59, 25, 23, 29, 32, 55, 27, 26, 23, 26, 51, 62, 51, 30, 60, 54, 48, 32, 26, 29, 39, 40, 31, 21, 56, 24, 34, 43, 56, 34, 46, 35, 49, 28, 33, 26, 29, 47, 27, 28, 43, 54, 31, 24, 40, 30, 38, 38, 23, 24, 24, 30, 24, 29, 26, 52, 29, 51, 56, 22, 30, 22, 37, 24, 38, 25, 28, 46, 46, 48, 33, 24, 33, 32, 36, 33, 45, 42, 34, 38, 20, 37, 20, 44, 27, 30, 57, 40, 34, 24, 66, 46, 35, 20, 38, 30, 28, 27, 56, 24, 45, 59, 27, 33, 41, 31, 64, 34, 81, 43, 38, 24, 46, 25, 29, 67, 69, 73, 30, 38, 42, 31, 50, 55, 32, 25, 53, 45, 35, 46, 33, 25, 45, 62, 24, 27, 30, 50, 28, 43, 33, 50, 40, 47, 55, 26, 48, 67, 27, 28, 38, 43, 47, 24, 38, 27, 21, 43, 36, 60, 25, 25, 45, 29, 24, 27, 44, 54, 37, 58, 65, 34, 53, 35, 78, 33, 23, 18, 36, 24, 37, 26, 53, 25, 38, 24, 28, 37, 35, 33, 31, 29, 25, 35, 50, 26, 26, 24, 24, 34, 24, 24, 24, 24, 27], \"type\": \"scatter\", \"uid\": \"6c9262cb-b567-4dc8-ab62-87284518e56d\"}, {\"marker\": {\"color\": \"rgb(244,109,67)\", \"opacity\": [[0.7], [0.7], [0.7], [0.7], [0.7], [0.7], [0.7], [0.7], [0.7], [0.7], [0.7], [0.7], [0.7], [0.7], [0.7], [0.7], [0.7], [0.7], [0.7], [0.7], [0.7], [0.7], [0.7], [0.7], [0.7], [0.7], [0.7], [0.7], [0.7], [0.7], [0.7], [0.7], [0.7], [0.7], [0.7], [0.7], [0.7], [0.7], [0.7], [0.7], [0.7], [0.7], [0.7], [0.7], [0.7], [0.7], [0.7], [0.7], [0.7], [0.7], [0.7], [0.7], [0.7], [0.7], [0.7], [0.7], [0.7], [0.7], [0.7], [0.7], [0.7], [0.7], [0.7], [0.7], [0.7], [0.7], [0.7], [0.7], [0.7], [0.7], [0.7], [0.7], [0.7], [0.7], [0.7], [0.7], [0.7], [0.7], [0.7], [0.7], [0.7], [0.7], [0.7], [0.7], [0.7], [0.7], [0.7], [0.7], [0.7], [0.7], [0.7], [0.7], [0.7], [0.7], [0.7], [0.7], [0.7], [0.7], [0.7], [0.7], [0.7], [0.7], [0.7], [0.7], [0.7], [0.7], [0.7], [0.7], [0.7], [0.7], [0.7], [0.7], [0.7], [0.7], [0.7], [0.7], [0.7], [0.7], [0.7], [0.7], [0.7], [0.7], [0.7], [0.7], [0.7], [0.7], [0.7], [0.7], [0.7], [0.7], [0.7], [0.7], [0.7], [0.7], [0.7], [0.7], [0.7], [0.7], [0.7], [0.7], [0.7], [0.7], [0.7], [0.7], [0.7], [0.7], [0.7], [0.7], [0.7], [0.7], [0.7], [0.7], [0.7], [0.7], [0.7], [0.7], [0.7], [0.7], [0.7], [0.7], [0.7], [0.7], [0.7], [0.7], [0.7], [0.7], [0.7], [0.7], [0.7], [0.7], [0.7], [0.7], [0.7], [0.7], [0.7], [0.7], [0.7], [0.7], [0.7], [0.7], [0.7], [0.7], [0.7], [0.7], [0.7], [0.7], [0.7], [0.7], [0.7], [0.7], [0.7], [0.7], [0.7], [0.7], [0.7], [0.7], [0.7], [0.7], [0.7], [0.7], [0.7], [0.7], [0.7], [0.7], [0.7], [0.7], [0.7], [0.7], [0.7], [0.7], [0.7], [0.7], [0.7], [0.7], [0.7], [0.7], [0.7], [0.7], [0.7], [0.7], [0.7], [0.7], [0.7], [0.7], [0.7], [0.7], [0.7], [0.7], [0.7], [0.7], [0.7], [0.7], [0.7], [0.7], [0.7], [0.7], [0.7], [0.7], [0.7], [0.7], [0.7], [0.7], [0.7], [0.7], [0.7], [0.7], [0.7], [0.7], [0.7], [0.7], [0.7], [0.7], [0.7], [0.7], [0.7], [0.7], [0.7], [0.7], [0.7], [0.7], [0.7], [0.7], [0.7], [0.7], [0.7], [0.7], [0.7], [0.7], [0.7], [0.7], [0.7], [0.7], [0.7], [0.7], [0.7], [0.7], [0.7], [0.7], [0.7], [0.7], [0.7], [0.7], [0.7], [0.7], [0.7], [0.7], [0.7], [0.7], [0.7], [0.7], [0.7], [0.7], [0.7], [0.7], [0.7], [0.7], [0.7], [0.7], [0.7], [0.7], [0.7], [0.7], [0.7], [0.7], [0.7], [0.7], [0.7], [0.7], [0.7], [0.7], [0.7], [0.7], [0.7], [0.7], [0.7], [0.7], [0.7], [0.7], [0.7], [0.7], [0.7], [0.7], [0.7], [0.7], [0.7], [0.7], [0.7], [0.7], [0.7], [0.7], [0.7], [0.7], [0.7], [0.7], [0.7], [0.7], [0.7], [0.7], [0.7], [0.7], [0.7], [0.7], [0.7], [0.7], [0.7], [0.7], [0.7], [0.7], [0.7], [0.7], [0.7], [0.7], [0.7], [0.7], [0.7], [0.7], [0.7], [0.7], [0.7], [0.7], [0.7], [0.7], [0.7], [0.7], [0.7], [0.7], [0.7], [0.7], [0.7], [0.7], [0.7], [0.7], [0.7], [0.7], [0.7], [0.7], [0.7], [0.7], [0.7], [0.7], [0.7], [0.7], [0.7], [0.7], [0.7], [0.7], [0.7], [0.7], [0.7], [0.7], [0.7], [0.7], [0.7], [0.7], [0.7], [0.7], [0.7], [0.7], [0.7], [0.7], [0.7], [0.7], [0.7], [0.7], [0.7], [0.7], [0.7], [0.7], [0.7], [0.7], [0.7], [0.7], [0.7], [0.7], [0.7], [0.7], [0.7], [0.7], [0.7], [0.7], [0.7], [0.7], [0.7], [0.7], [0.7], [0.7], [0.7], [0.7], [0.7], [0.7], [0.7], [0.7], [0.7], [0.7], [0.7], [0.7], [0.7], [0.7], [0.7], [0.7], [0.7], [0.7], [0.7], [0.7], [0.7], [0.7], [0.7], [0.7], [0.7], [0.7], [0.7], [0.7], [0.7], [0.7], [0.7], [0.7], [0.7], [0.7], [0.7], [0.7], [0.7], [0.7], [0.7], [0.7], [0.7], [0.7], [0.7], [0.7], [0.7], [0.7], [0.7], [0.7], [0.7], [0.7], [0.7], [0.7], [0.7], [0.7], [0.7], [0.7], [0.7], [0.7], [0.7], [0.7], [0.7], [0.7], [0.7], [0.7], [0.7], [0.7], [0.7], [0.7], [0.7], [0.7], [0.7], [0.7], [0.7], [0.7], [0.7], [0.7], [0.7], [0.7], [0.7], [0.7], [0.7], [0.7], [0.7], [0.7], [0.7], [0.7], [0.7], [0.7], [0.7], [0.7], [0.7], [0.7], [0.7], [0.7], [0.7], [0.7], [0.7], [0.7], [0.7], [0.7], [0.7], [0.7], [0.7], [0.7], [0.7], [0.7], [0.7], [0.7], [0.7], [0.7], [0.7], [0.7], [0.7], [0.7], [0.7], [0.7], [0.7], [0.7], [0.7], [0.7], [0.7], [0.7], [0.7], [0.7], [0.7], [0.7], [0.7], [0.7], [0.7], [0.7], [0.7], [0.7], [0.7], [0.7], [0.7], [0.7], [0.7], [0.7], [0.7], [0.7], [0.7], [0.7], [0.7], [0.7], [0.7], [0.7], [0.7], [0.7], [0.7], [0.7], [0.7], [0.7], [0.7], [0.7], [0.7], [0.7], [0.7], [0.7], [0.7], [0.7], [0.7], [0.7], [0.7], [0.7], [0.7], [0.7], [0.7], [0.7], [0.7], [0.7], [0.7], [0.7], [0.7], [0.7], [0.7], [0.7], [0.7], [0.7], [0.7], [0.7], [0.7], [0.7], [0.7], [0.7], [0.7], [0.7], [0.7], [0.7], [0.7], [0.7], [0.7], [0.7], [0.7], [0.7], [0.7], [0.7], [0.7], [0.7], [0.7], [0.7], [0.7], [0.7], [0.7], [0.7], [0.7], [0.7], [0.7], [0.7], [0.7], [0.7], [0.7], [0.7], [0.7], [0.7], [0.7], [0.7], [0.7], [0.7], [0.7], [0.7], [0.7], [0.7], [0.7], [0.7], [0.7], [0.7], [0.7], [0.7], [0.7], [0.7], [0.7], [0.7], [0.7], [0.7], [0.7], [0.7], [0.7], [0.7], [0.7], [0.7], [0.7], [0.7], [0.7], [0.7], [0.7], [0.7], [0.7], [0.7], [0.7], [0.7], [0.7], [0.7], [0.7], [0.7], [0.7], [0.7], [0.7], [0.7], [0.7], [0.7], [0.7], [0.7], [0.7], [0.7], [0.7], [0.7], [0.7], [0.7], [0.7], [0.7], [0.7], [0.7], [0.7], [0.7], [0.7], [0.7], [0.7], [0.7], [0.7], [0.7], [0.7], [0.7], [0.7], [0.7], [0.7], [0.7], [0.7], [0.7], [0.7], [0.7], [0.7], [0.7], [0.7], [0.7], [0.7], [0.7], [0.7], [0.7], [0.7], [0.7], [0.7], [0.7], [0.7], [0.7], [0.7], [0.7], [0.7], [0.7], [0.7], [0.7], [0.7], [0.7], [0.7], [0.7], [0.7], [0.7], [0.7], [0.7], [0.7], [0.7], [0.7], [0.7], [0.7], [0.7], [0.7], [0.7], [0.7], [0.7], [0.7], [0.7], [0.7], [0.7], [0.7], [0.7], [0.7], [0.7], [0.7], [0.7], [0.7], [0.7], [0.7], [0.7], [0.7]], \"size\": [5, 5, 5, 5, 5, 5]}, \"mode\": \"markers\", \"name\": \"Other\", \"x\": [\"University <br>without <br>graduating\", \"University <br>without <br>graduating\", \"Unfinished <br>Compulsory<br>Secondary <br>Education\", \"University <br>without <br>graduating\", \"University <br>without <br>graduating\", \"University <br>graduate\"], \"y\": [20, 36, 14, 22, 21, 28], \"type\": \"scatter\", \"uid\": \"cb4d2c1f-79b2-4e7f-8c77-7166c069f902\"}], {\"xaxis\": {\"title\": {\"text\": \"Educational level\"}}, \"yaxis\": {\"title\": {\"text\": \"Age\"}}}, {\"showLink\": false, \"linkText\": \"Export to plot.ly\", \"plotlyServerURL\": \"https://plot.ly\"}); \n",
       "}\n",
       "});</script><script type=\"text/javascript\">window.addEventListener(\"resize\", function(){if (document.getElementById(\"2cabd2d8-187c-437f-b927-35a7a2277df3\")) {window._Plotly.Plots.resize(document.getElementById(\"2cabd2d8-187c-437f-b927-35a7a2277df3\"));};})</script>"
      ],
      "text/vnd.plotly.v1+html": [
       "<div id=\"2cabd2d8-187c-437f-b927-35a7a2277df3\" style=\"height: 525px; width: 100%;\" class=\"plotly-graph-div\"></div><script type=\"text/javascript\">require([\"plotly\"], function(Plotly) { window.PLOTLYENV=window.PLOTLYENV || {};window.PLOTLYENV.BASE_URL=\"https://plot.ly\";\n",
       "if (document.getElementById(\"2cabd2d8-187c-437f-b927-35a7a2277df3\")) {\n",
       "    Plotly.newPlot(\"2cabd2d8-187c-437f-b927-35a7a2277df3\", [{\"marker\": {\"color\": \"rgb(102,194,165)\", \"opacity\": [[0.7], [0.7], [0.7], [0.7], [0.7], [0.7], [0.7], [0.7], [0.7], [0.7], [0.7], [0.7], [0.7], [0.7], [0.7], [0.7], [0.7], [0.7], [0.7], [0.7], [0.7], [0.7], [0.7], [0.7], [0.7], [0.7], [0.7], [0.7], [0.7], [0.7], [0.7], [0.7], [0.7], [0.7], [0.7], [0.7], [0.7], [0.7], [0.7], [0.7], [0.7], [0.7], [0.7], [0.7], [0.7], [0.7], [0.7], [0.7], [0.7], [0.7], [0.7], [0.7], [0.7], [0.7], [0.7], [0.7], [0.7], [0.7], [0.7], [0.7], [0.7], [0.7], [0.7], [0.7], [0.7], [0.7], [0.7], [0.7], [0.7], [0.7], [0.7], [0.7], [0.7], [0.7], [0.7], [0.7], [0.7], [0.7], [0.7], [0.7], [0.7], [0.7], [0.7], [0.7], [0.7], [0.7], [0.7], [0.7], [0.7], [0.7], [0.7], [0.7], [0.7], [0.7], [0.7], [0.7], [0.7], [0.7], [0.7], [0.7], [0.7], [0.7], [0.7], [0.7], [0.7], [0.7], [0.7], [0.7], [0.7], [0.7], [0.7], [0.7], [0.7], [0.7], [0.7], [0.7], [0.7], [0.7], [0.7], [0.7], [0.7], [0.7], [0.7], [0.7], [0.7], [0.7], [0.7], [0.7], [0.7], [0.7], [0.7], [0.7], [0.7], [0.7], [0.7], [0.7], [0.7], [0.7], [0.7], [0.7], [0.7], [0.7], [0.7], [0.7], [0.7], [0.7], [0.7], [0.7], [0.7], [0.7], [0.7], [0.7], [0.7], [0.7], [0.7], [0.7], [0.7], [0.7], [0.7], [0.7], [0.7], [0.7], [0.7], [0.7], [0.7], [0.7], [0.7], [0.7], [0.7], [0.7], [0.7], [0.7], [0.7], [0.7], [0.7], [0.7], [0.7], [0.7], [0.7], [0.7], [0.7], [0.7], [0.7], [0.7], [0.7], [0.7], [0.7], [0.7], [0.7], [0.7], [0.7], [0.7], [0.7], [0.7], [0.7], [0.7], [0.7], [0.7], [0.7], [0.7], [0.7], [0.7], [0.7], [0.7], [0.7], [0.7], [0.7], [0.7], [0.7], [0.7], [0.7], [0.7], [0.7], [0.7], [0.7], [0.7], [0.7], [0.7], [0.7], [0.7], [0.7], [0.7], [0.7], [0.7], [0.7], [0.7], [0.7], [0.7], [0.7], [0.7], [0.7], [0.7], [0.7], [0.7], [0.7], [0.7], [0.7], [0.7], [0.7], [0.7], [0.7], [0.7], [0.7], [0.7], [0.7], [0.7], [0.7], [0.7], [0.7], [0.7], [0.7], [0.7], [0.7], [0.7], [0.7], [0.7], [0.7], [0.7], [0.7], [0.7], [0.7], [0.7], [0.7], [0.7], [0.7], [0.7], [0.7], [0.7], [0.7], [0.7], [0.7], [0.7], [0.7], [0.7], [0.7], [0.7], [0.7], [0.7], [0.7], [0.7], [0.7], [0.7], [0.7], [0.7], [0.7], [0.7], [0.7], [0.7], [0.7], [0.7], [0.7], [0.7], [0.7], [0.7], [0.7], [0.7], [0.7], [0.7], [0.7], [0.7], [0.7], [0.7], [0.7], [0.7], [0.7], [0.7], [0.7], [0.7], [0.7], [0.7], [0.7], [0.7], [0.7], [0.7], [0.7], [0.7], [0.7], [0.7], [0.7], [0.7], [0.7], [0.7], [0.7], [0.7], [0.7], [0.7], [0.7], [0.7], [0.7], [0.7], [0.7], [0.7], [0.7], [0.7], [0.7], [0.7], [0.7], [0.7], [0.7], [0.7], [0.7], [0.7], [0.7], [0.7], [0.7], [0.7], [0.7], [0.7], [0.7], [0.7], [0.7], [0.7], [0.7], [0.7], [0.7], [0.7], [0.7], [0.7], [0.7], [0.7], [0.7], [0.7], [0.7], [0.7], [0.7], [0.7], [0.7], [0.7], [0.7], [0.7], [0.7], [0.7], [0.7], [0.7], [0.7], [0.7], [0.7], [0.7], [0.7], [0.7], [0.7], [0.7], [0.7], [0.7], [0.7], [0.7], [0.7], [0.7], [0.7], [0.7], [0.7], [0.7], [0.7], [0.7], [0.7], [0.7], [0.7], [0.7], [0.7], [0.7], [0.7], [0.7], [0.7], [0.7], [0.7], [0.7], [0.7], [0.7], [0.7], [0.7], [0.7], [0.7], [0.7], [0.7], [0.7], [0.7], [0.7], [0.7], [0.7], [0.7], [0.7], [0.7], [0.7], [0.7], [0.7], [0.7], [0.7], [0.7], [0.7], [0.7], [0.7], [0.7], [0.7], [0.7], [0.7], [0.7], [0.7], [0.7], [0.7], [0.7], [0.7], [0.7], [0.7], [0.7], [0.7], [0.7], [0.7], [0.7], [0.7], [0.7], [0.7], [0.7], [0.7], [0.7], [0.7], [0.7], [0.7], [0.7], [0.7], [0.7], [0.7], [0.7], [0.7], [0.7], [0.7], [0.7], [0.7], [0.7], [0.7], [0.7], [0.7], [0.7], [0.7], [0.7], [0.7], [0.7], [0.7], [0.7], [0.7], [0.7], [0.7], [0.7], [0.7], [0.7], [0.7], [0.7], [0.7], [0.7], [0.7], [0.7], [0.7], [0.7], [0.7], [0.7], [0.7], [0.7], [0.7], [0.7], [0.7], [0.7], [0.7], [0.7], [0.7], [0.7], [0.7], [0.7], [0.7], [0.7], [0.7], [0.7], [0.7], [0.7], [0.7], [0.7], [0.7], [0.7], [0.7], [0.7], [0.7], [0.7], [0.7], [0.7], [0.7], [0.7], [0.7], [0.7], [0.7], [0.7], [0.7], [0.7], [0.7], [0.7], [0.7], [0.7], [0.7], [0.7], [0.7], [0.7], [0.7], [0.7], [0.7], [0.7], [0.7], [0.7], [0.7], [0.7], [0.7], [0.7], [0.7], [0.7], [0.7], [0.7], [0.7], [0.7], [0.7], [0.7], [0.7], [0.7], [0.7], [0.7], [0.7], [0.7], [0.7], [0.7], [0.7], [0.7], [0.7], [0.7], [0.7], [0.7], [0.7], [0.7], [0.7], [0.7], [0.7], [0.7], [0.7], [0.7], [0.7], [0.7], [0.7], [0.7], [0.7], [0.7], [0.7], [0.7], [0.7], [0.7], [0.7], [0.7], [0.7], [0.7], [0.7], [0.7], [0.7], [0.7], [0.7], [0.7], [0.7], [0.7], [0.7], [0.7], [0.7], [0.7], [0.7], [0.7], [0.7], [0.7], [0.7], [0.7], [0.7], [0.7], [0.7], [0.7], [0.7], [0.7], [0.7], [0.7], [0.7], [0.7], [0.7], [0.7], [0.7], [0.7], [0.7], [0.7], [0.7], [0.7], [0.7], [0.7], [0.7], [0.7], [0.7], [0.7], [0.7], [0.7], [0.7], [0.7], [0.7], [0.7], [0.7], [0.7], [0.7], [0.7], [0.7], [0.7], [0.7], [0.7], [0.7], [0.7], [0.7], [0.7], [0.7], [0.7], [0.7], [0.7], [0.7], [0.7], [0.7], [0.7], [0.7], [0.7], [0.7], [0.7], [0.7], [0.7], [0.7], [0.7], [0.7], [0.7], [0.7], [0.7], [0.7], [0.7], [0.7], [0.7], [0.7], [0.7], [0.7], [0.7], [0.7], [0.7], [0.7], [0.7], [0.7], [0.7], [0.7], [0.7], [0.7], [0.7], [0.7], [0.7], [0.7], [0.7], [0.7], [0.7], [0.7], [0.7], [0.7], [0.7], [0.7], [0.7], [0.7], [0.7], [0.7], [0.7], [0.7], [0.7], [0.7], [0.7], [0.7], [0.7], [0.7], [0.7], [0.7], [0.7], [0.7], [0.7], [0.7], [0.7], [0.7], [0.7], [0.7], [0.7], [0.7], [0.7], [0.7], [0.7], [0.7], [0.7], [0.7], [0.7], [0.7], [0.7], [0.7], [0.7], [0.7], [0.7], [0.7], [0.7], [0.7], [0.7], [0.7], [0.7], [0.7], [0.7], [0.7], [0.7], [0.7], [0.7], [0.7], [0.7], [0.7], [0.7], [0.7], [0.7], [0.7], [0.7], [0.7], [0.7], [0.7], [0.7], [0.7], [0.7], [0.7], [0.7], [0.7]], \"size\": [20, 10, 10, 5, 5, 5, 5, 5, 5, 5, 5, 5, 5, 5, 5, 90, 40, 25, 15, 10, 5, 5, 5, 5, 5, 100, 90, 80, 60, 50, 50, 50, 45, 40, 40, 40, 40, 35, 30, 25, 25, 20, 20, 20, 15, 15, 15, 15, 15, 15, 10, 10, 10, 10, 5, 5, 5, 5, 5, 5, 5, 5, 5, 5, 5, 5, 35, 30, 25, 25, 20, 15, 15, 15, 15, 15, 10, 10, 10, 10, 10, 10, 10, 5, 5, 5, 5, 5, 5, 5, 5, 5, 5, 5, 5, 5, 10, 10, 5, 5, 5, 5, 5, 5, 5, 5, 5, 5, 5, 5, 5, 5]}, \"mode\": \"markers\", \"name\": \"Male\", \"x\": [\"University <br>graduate\", \"University <br>graduate\", \"University <br>graduate\", \"University <br>graduate\", \"University <br>without <br>graduating\", \"University <br>without <br>graduating\", \"University <br>graduate\", \"University <br>graduate\", \"University <br>graduate\", \"University <br>without <br>graduating\", \"University <br>graduate\", \"University <br>graduate\", \"University <br>graduate\", \"Unfinished <br>Compulsory<br>Secondary <br>Education\", \"University <br>graduate\", \"University <br>without <br>graduating\", \"University <br>without <br>graduating\", \"Vocational <br>Training\", \"University <br>without <br>graduating\", \"University <br>without <br>graduating\", \"University <br>graduate\", \"Unfinished <br>Compulsory<br>Secondary <br>Education\", \"Unfinished <br>Compulsory<br>Secondary <br>Education\", \"Unfinished <br>Compulsory<br>Secondary <br>Education\", \"Unfinished <br>Compulsory<br>Secondary <br>Education\", \"Unfinished <br>Compulsory<br>Secondary <br>Education\", \"University <br>graduate\", \"Unfinished <br>Compulsory<br>Secondary <br>Education\", \"University <br>without <br>graduating\", \"University <br>graduate\", \"University <br>graduate\", \"University <br>graduate\", \"University <br>graduate\", \"University <br>without <br>graduating\", \"University <br>graduate\", \"University <br>without <br>graduating\", \"Unfinished <br>Compulsory<br>Secondary <br>Education\", \"Unfinished <br>Compulsory<br>Secondary <br>Education\", \"Unfinished <br>Compulsory<br>Secondary <br>Education\", \"Unfinished <br>Compulsory<br>Secondary <br>Education\", \"Unfinished <br>Compulsory<br>Secondary <br>Education\", \"Unfinished <br>Compulsory<br>Secondary <br>Education\", \"Unfinished <br>Compulsory<br>Secondary <br>Education\", \"Unfinished <br>Compulsory<br>Secondary <br>Education\", \"Unfinished <br>Compulsory<br>Secondary <br>Education\", \"University <br>graduate\", \"University <br>graduate\", \"University <br>without <br>graduating\", \"Unfinished <br>Compulsory<br>Secondary <br>Education\", \"Unfinished <br>Compulsory<br>Secondary <br>Education\", \"Unfinished <br>Compulsory<br>Secondary <br>Education\", \"Unfinished <br>Compulsory<br>Secondary <br>Education\", \"Unfinished <br>Compulsory<br>Secondary <br>Education\", \"Unfinished <br>Compulsory<br>Secondary <br>Education\", \"University <br>without <br>graduating\", \"University <br>without <br>graduating\", \"University <br>graduate\", \"University <br>graduate\", \"University <br>without <br>graduating\", \"University <br>without <br>graduating\", \"University <br>without <br>graduating\", \"Unfinished <br>Compulsory<br>Secondary <br>Education\", \"University <br>graduate\", \"University <br>graduate\", \"University <br>graduate\", \"University <br>graduate\", \"Vocational <br>Training\", \"University <br>graduate\", \"University <br>without <br>graduating\", \"University <br>graduate\", \"University <br>graduate\", \"University <br>graduate\", \"University <br>graduate\", \"University <br>without <br>graduating\", \"University <br>without <br>graduating\", \"University <br>without <br>graduating\", \"Unfinished <br>Compulsory<br>Secondary <br>Education\", \"Unfinished <br>Compulsory<br>Secondary <br>Education\", \"Unfinished <br>Compulsory<br>Secondary <br>Education\", \"Unfinished <br>Compulsory<br>Secondary <br>Education\", \"Unfinished <br>Compulsory<br>Secondary <br>Education\", \"University <br>without <br>graduating\", \"University <br>graduate\", \"Vocational <br>Training\", \"University <br>without <br>graduating\", \"Unfinished <br>Compulsory<br>Secondary <br>Education\", \"Unfinished <br>Compulsory<br>Secondary <br>Education\", \"Unfinished <br>Compulsory<br>Secondary <br>Education\", \"Unfinished <br>Compulsory<br>Secondary <br>Education\", \"Unfinished <br>Compulsory<br>Secondary <br>Education\", \"Unfinished <br>Compulsory<br>Secondary <br>Education\", \"Unfinished <br>Compulsory<br>Secondary <br>Education\", \"Unfinished <br>Compulsory<br>Secondary <br>Education\", \"Unfinished <br>Compulsory<br>Secondary <br>Education\", \"Unfinished <br>Compulsory<br>Secondary <br>Education\", \"University <br>without <br>graduating\", \"University <br>without <br>graduating\", \"Vocational <br>Training\", \"University <br>without <br>graduating\", \"University <br>without <br>graduating\", \"University <br>graduate\", \"University <br>without <br>graduating\", \"University <br>graduate\", \"University <br>graduate\", \"University <br>graduate\", \"University <br>graduate\", \"University <br>graduate\", \"University <br>graduate\", \"University <br>without <br>graduating\", \"University <br>without <br>graduating\", \"University <br>graduate\", \"University <br>graduate\", \"University <br>graduate\", \"University <br>graduate\", \"University <br>graduate\", \"University <br>graduate\", \"University <br>without <br>graduating\", \"University <br>graduate\", \"University <br>graduate\", \"University <br>graduate\", \"University <br>graduate\", \"University <br>graduate\", \"Vocational <br>Training\", \"University <br>without <br>graduating\", \"University <br>without <br>graduating\", \"University <br>graduate\", \"University <br>graduate\", \"University <br>without <br>graduating\", \"Completed <br>Compulsory<br>Secondary <br>Education\", \"University <br>graduate\", \"University <br>graduate\", \"University <br>graduate\", \"Completed <br>Compulsory<br>Secondary <br>Education\", \"Vocational <br>Training\", \"University <br>without <br>graduating\", \"University <br>graduate\", \"University <br>graduate\", \"University <br>graduate\", \"University <br>graduate\", \"University <br>graduate\", \"University <br>graduate\", \"University <br>graduate\", \"Vocational <br>Training\", \"University <br>graduate\", \"Completed <br>Compulsory<br>Secondary <br>Education\", \"Primary <br>education\", \"University <br>graduate\", \"University <br>graduate\", \"University <br>graduate\", \"University <br>graduate\", \"University <br>without <br>graduating\", \"University <br>graduate\", \"University <br>without <br>graduating\", \"University <br>graduate\", \"University <br>without <br>graduating\", \"University <br>graduate\", \"Vocational <br>Training\", \"University <br>graduate\", \"University <br>without <br>graduating\", \"Completed <br>Compulsory<br>Secondary <br>Education\", \"University <br>without <br>graduating\", \"University <br>graduate\", \"University <br>graduate\", \"University <br>graduate\", \"Completed <br>Compulsory<br>Secondary <br>Education\", \"University <br>without <br>graduating\", \"University <br>without <br>graduating\", \"University <br>graduate\", \"University <br>graduate\", \"University <br>graduate\", \"University <br>graduate\", \"University <br>without <br>graduating\", \"Completed <br>Compulsory<br>Secondary <br>Education\", \"Completed <br>Compulsory<br>Secondary <br>Education\", \"University <br>without <br>graduating\", \"University <br>graduate\", \"University <br>graduate\", \"University <br>graduate\", \"University <br>graduate\", \"University <br>graduate\", \"Primary <br>education\", \"University <br>graduate\", \"University <br>graduate\", \"University <br>without <br>graduating\", \"Completed <br>Compulsory<br>Secondary <br>Education\", \"University <br>graduate\", \"University <br>graduate\", \"University <br>graduate\", \"University <br>graduate\", \"University <br>graduate\", \"University <br>graduate\", \"University <br>graduate\", \"University <br>without <br>graduating\", \"University <br>graduate\", \"University <br>graduate\", \"University <br>graduate\", \"University <br>graduate\", \"University <br>without <br>graduating\", \"University <br>graduate\", \"University <br>graduate\", \"University <br>graduate\", \"University <br>graduate\", \"University <br>graduate\", \"University <br>graduate\", \"University <br>graduate\", \"University <br>without <br>graduating\", \"University <br>graduate\", \"University <br>without <br>graduating\", \"University <br>graduate\", \"University <br>graduate\", \"University <br>graduate\", \"University <br>graduate\", \"University <br>graduate\", \"University <br>graduate\", \"University <br>graduate\", \"Vocational <br>Training\", \"University <br>graduate\", \"University <br>without <br>graduating\", \"University <br>graduate\", \"University <br>graduate\", \"University <br>graduate\", \"University <br>graduate\", \"University <br>graduate\", \"Vocational <br>Training\", \"University <br>without <br>graduating\", \"University <br>graduate\", \"University <br>graduate\", \"Completed <br>Compulsory<br>Secondary <br>Education\", \"University <br>without <br>graduating\", \"University <br>graduate\", \"University <br>graduate\", \"University <br>graduate\", \"University <br>graduate\", \"Vocational <br>Training\", \"University <br>graduate\", \"University <br>graduate\", \"University <br>without <br>graduating\", \"University <br>without <br>graduating\", \"University <br>graduate\", \"University <br>graduate\", \"University <br>graduate\", \"Vocational <br>Training\", \"University <br>graduate\", \"University <br>graduate\", \"University <br>without <br>graduating\", \"University <br>graduate\", \"University <br>graduate\", \"University <br>graduate\", \"Unfinished <br>Compulsory<br>Secondary <br>Education\", \"University <br>graduate\", \"University <br>without <br>graduating\", \"University <br>graduate\", \"University <br>without <br>graduating\", \"University <br>graduate\", \"University <br>graduate\", \"University <br>graduate\", \"University <br>graduate\", \"University <br>without <br>graduating\", \"University <br>graduate\", \"University <br>graduate\", \"University <br>graduate\", \"University <br>graduate\", \"University <br>graduate\", \"University <br>graduate\", \"University <br>graduate\", \"University <br>graduate\", \"University <br>graduate\", \"University <br>graduate\", \"Vocational <br>Training\", \"Vocational <br>Training\", \"University <br>graduate\", \"University <br>graduate\", \"University <br>graduate\", \"Vocational <br>Training\", \"University <br>graduate\", \"University <br>graduate\", \"University <br>graduate\", \"University <br>graduate\", \"Completed <br>Compulsory<br>Secondary <br>Education\", \"University <br>graduate\", \"University <br>graduate\", \"Completed <br>Compulsory<br>Secondary <br>Education\", \"University <br>graduate\", \"Completed <br>Compulsory<br>Secondary <br>Education\", \"University <br>graduate\", \"University <br>graduate\", \"University <br>graduate\", \"University <br>graduate\", \"Completed <br>Compulsory<br>Secondary <br>Education\", \"University <br>graduate\", \"University <br>graduate\", \"Primary <br>education\", \"University <br>graduate\", \"University <br>graduate\", \"University <br>graduate\", \"University <br>graduate\", \"Completed <br>Compulsory<br>Secondary <br>Education\", \"University <br>graduate\", \"University <br>graduate\", \"University <br>without <br>graduating\", \"University <br>graduate\", \"University <br>graduate\", \"University <br>graduate\", \"Vocational <br>Training\", \"University <br>graduate\", \"University <br>graduate\", \"University <br>graduate\", \"University <br>graduate\", \"University <br>graduate\", \"Unfinished <br>Compulsory<br>Secondary <br>Education\", \"University <br>graduate\", \"University <br>without <br>graduating\", \"University <br>graduate\", \"University <br>graduate\", \"University <br>graduate\", \"University <br>without <br>graduating\", \"Completed <br>Compulsory<br>Secondary <br>Education\", \"University <br>graduate\", \"Vocational <br>Training\", \"University <br>without <br>graduating\", \"Vocational <br>Training\", \"University <br>graduate\", \"University <br>graduate\", \"University <br>graduate\", \"Completed <br>Compulsory<br>Secondary <br>Education\", \"University <br>graduate\", \"University <br>graduate\", \"University <br>without <br>graduating\", \"University <br>graduate\", \"University <br>graduate\", \"University <br>without <br>graduating\", \"University <br>without <br>graduating\", \"University <br>graduate\", \"University <br>graduate\", \"University <br>without <br>graduating\", \"University <br>graduate\", \"University <br>graduate\", \"University <br>graduate\", \"University <br>graduate\", \"University <br>without <br>graduating\", \"University <br>graduate\", \"University <br>graduate\", \"University <br>graduate\", \"University <br>graduate\", \"University <br>without <br>graduating\", \"University <br>without <br>graduating\", \"Completed <br>Compulsory<br>Secondary <br>Education\", \"University <br>graduate\", \"University <br>graduate\", \"University <br>graduate\", \"Unfinished <br>Compulsory<br>Secondary <br>Education\", \"University <br>graduate\", \"University <br>without <br>graduating\", \"University <br>graduate\", \"University <br>graduate\", \"University <br>graduate\", \"University <br>graduate\", \"University <br>graduate\"], \"y\": [37, 62, 28, 30, 60, 20, 31, 33, 23, 21, 29, 29, 36, 38, 33, 19, 25, 67, 23, 70, 36, 17, 17, 18, 15, 15, 23, 14, 21, 30, 53, 29, 30, 20, 30, 20, 15, 14, 14, 14, 14, 14, 15, 14, 15, 31, 30, 19, 16, 16, 15, 16, 18, 15, 19, 34, 35, 38, 20, 23, 21, 18, 61, 57, 41, 26, 46, 28, 22, 47, 42, 31, 28, 23, 18, 21, 14, 15, 16, 14, 14, 24, 64, 32, 21, 13, 14, 16, 14, 14, 14, 14, 14, 14, 14, 19, 18, 45, 21, 21, 27, 28, 32, 29, 22, 29, 21, 28, 26, 27, 32, 32, 40, 27, 26, 31, 34, 25, 28, 30, 46, 28, 28, 30, 24, 27, 38, 31, 24, 28, 46, 26, 22, 38, 26, 27, 40, 26, 34, 31, 29, 32, 47, 34, 28, 36, 34, 33, 43, 35, 39, 42, 32, 33, 24, 24, 47, 27, 47, 24, 29, 34, 29, 39, 42, 43, 42, 28, 35, 36, 24, 22, 27, 53, 28, 31, 60, 34, 39, 69, 21, 43, 34, 19, 30, 29, 33, 65, 30, 38, 28, 47, 23, 39, 30, 39, 29, 22, 42, 37, 36, 44, 36, 29, 63, 32, 37, 27, 35, 26, 32, 32, 28, 33, 29, 39, 35, 31, 25, 36, 36, 30, 30, 34, 27, 57, 44, 36, 29, 29, 29, 36, 28, 38, 37, 28, 54, 28, 41, 28, 39, 27, 38, 33, 42, 35, 45, 30, 27, 30, 23, 44, 25, 27, 26, 25, 23, 38, 35, 24, 33, 31, 32, 53, 28, 21, 41, 29, 51, 31, 30, 28, 37, 49, 26, 26, 26, 33, 27, 30, 22, 34, 24, 27, 24, 22, 28, 60, 39, 39, 43, 33, 25, 40, 40, 26, 26, 33, 39, 23, 35, 29, 34, 42, 39, 51, 23, 32, 41, 29, 27, 67, 27, 32, 27, 36, 34, 47, 30, 62, 35, 49, 71, 31, 23, 68, 50, 30, 30, 40, 30, 66, 37, 57, 25, 30, 29, 32, 24, 48, 28, 26, 29, 28, 25, 37, 27, 28, 23, 27, 26, 26, 25, 29, 28, 34, 24, 34], \"type\": \"scatter\", \"uid\": \"1f8bf0f8-f5a1-4060-ab24-8105f4096986\"}, {\"marker\": {\"color\": \"rgb(254,224,139)\", \"opacity\": [[0.7], [0.7], [0.7], [0.7], [0.7], [0.7], [0.7], [0.7], [0.7], [0.7], [0.7], [0.7], [0.7], [0.7], [0.7], [0.7], [0.7], [0.7], [0.7], [0.7], [0.7], [0.7], [0.7], [0.7], [0.7], [0.7], [0.7], [0.7], [0.7], [0.7], [0.7], [0.7], [0.7], [0.7], [0.7], [0.7], [0.7], [0.7], [0.7], [0.7], [0.7], [0.7], [0.7], [0.7], [0.7], [0.7], [0.7], [0.7], [0.7], [0.7], [0.7], [0.7], [0.7], [0.7], [0.7], [0.7], [0.7], [0.7], [0.7], [0.7], [0.7], [0.7], [0.7], [0.7], [0.7], [0.7], [0.7], [0.7], [0.7], [0.7], [0.7], [0.7], [0.7], [0.7], [0.7], [0.7], [0.7], [0.7], [0.7], [0.7], [0.7], [0.7], [0.7], [0.7], [0.7], [0.7], [0.7], [0.7], [0.7], [0.7], [0.7], [0.7], [0.7], [0.7], [0.7], [0.7], [0.7], [0.7], [0.7], [0.7], [0.7], [0.7], [0.7], [0.7], [0.7], [0.7], [0.7], [0.7], [0.7], [0.7], [0.7], [0.7], [0.7], [0.7], [0.7], [0.7], [0.7], [0.7], [0.7], [0.7], [0.7], [0.7], [0.7], [0.7], [0.7], [0.7], [0.7], [0.7], [0.7], [0.7], [0.7], [0.7], [0.7], [0.7], [0.7], [0.7], [0.7], [0.7], [0.7], [0.7], [0.7], [0.7], [0.7], [0.7], [0.7], [0.7], [0.7], [0.7], [0.7], [0.7], [0.7], [0.7], [0.7], [0.7], [0.7], [0.7], [0.7], [0.7], [0.7], [0.7], [0.7], [0.7], [0.7], [0.7], [0.7], [0.7], [0.7], [0.7], [0.7], [0.7], [0.7], [0.7], [0.7], [0.7], [0.7], [0.7], [0.7], [0.7], [0.7], [0.7], [0.7], [0.7], [0.7], [0.7], [0.7], [0.7], [0.7], [0.7], [0.7], [0.7], [0.7], [0.7], [0.7], [0.7], [0.7], [0.7], [0.7], [0.7], [0.7], [0.7], [0.7], [0.7], [0.7], [0.7], [0.7], [0.7], [0.7], [0.7], [0.7], [0.7], [0.7], [0.7], [0.7], [0.7], [0.7], [0.7], [0.7], [0.7], [0.7], [0.7], [0.7], [0.7], [0.7], [0.7], [0.7], [0.7], [0.7], [0.7], [0.7], [0.7], [0.7], [0.7], [0.7], [0.7], [0.7], [0.7], [0.7], [0.7], [0.7], [0.7], [0.7], [0.7], [0.7], [0.7], [0.7], [0.7], [0.7], [0.7], [0.7], [0.7], [0.7], [0.7], [0.7], [0.7], [0.7], [0.7], [0.7], [0.7], [0.7], [0.7], [0.7], [0.7], [0.7], [0.7], [0.7], [0.7], [0.7], [0.7], [0.7], [0.7], [0.7], [0.7], [0.7], [0.7], [0.7], [0.7], [0.7], [0.7], [0.7], [0.7], [0.7], [0.7], [0.7], [0.7], [0.7], [0.7], [0.7], [0.7], [0.7], [0.7], [0.7], [0.7], [0.7], [0.7], [0.7], [0.7], [0.7], [0.7], [0.7], [0.7], [0.7], [0.7], [0.7], [0.7], [0.7], [0.7], [0.7], [0.7], [0.7], [0.7], [0.7], [0.7], [0.7], [0.7], [0.7], [0.7], [0.7], [0.7], [0.7], [0.7], [0.7], [0.7], [0.7], [0.7], [0.7], [0.7], [0.7], [0.7], [0.7], [0.7], [0.7], [0.7], [0.7], [0.7], [0.7], [0.7], [0.7], [0.7], [0.7], [0.7], [0.7], [0.7], [0.7], [0.7], [0.7], [0.7], [0.7], [0.7], [0.7], [0.7], [0.7], [0.7], [0.7], [0.7], [0.7], [0.7], [0.7], [0.7], [0.7], [0.7], [0.7], [0.7], [0.7], [0.7], [0.7], [0.7], [0.7], [0.7], [0.7], [0.7], [0.7], [0.7], [0.7], [0.7], [0.7], [0.7], [0.7], [0.7], [0.7], [0.7], [0.7], [0.7], [0.7], [0.7], [0.7], [0.7], [0.7], [0.7], [0.7], [0.7], [0.7], [0.7], [0.7], [0.7], [0.7], [0.7], [0.7], [0.7], [0.7], [0.7], [0.7], [0.7], [0.7], [0.7], [0.7], [0.7], [0.7], [0.7], [0.7], [0.7], [0.7], [0.7], [0.7], [0.7], [0.7], [0.7], [0.7], [0.7], [0.7], [0.7], [0.7], [0.7], [0.7], [0.7], [0.7], [0.7], [0.7], [0.7], [0.7], [0.7], [0.7], [0.7], [0.7], [0.7], [0.7], [0.7], [0.7], [0.7], [0.7], [0.7], [0.7], [0.7], [0.7], [0.7], [0.7], [0.7], [0.7], [0.7], [0.7], [0.7], [0.7], [0.7], [0.7], [0.7], [0.7], [0.7], [0.7], [0.7], [0.7], [0.7], [0.7], [0.7], [0.7], [0.7], [0.7], [0.7], [0.7], [0.7], [0.7], [0.7], [0.7], [0.7], [0.7], [0.7], [0.7], [0.7], [0.7], [0.7], [0.7], [0.7], [0.7], [0.7], [0.7], [0.7], [0.7], [0.7], [0.7], [0.7], [0.7], [0.7], [0.7], [0.7], [0.7], [0.7], [0.7], [0.7], [0.7], [0.7], [0.7], [0.7], [0.7], [0.7], [0.7], [0.7], [0.7], [0.7], [0.7], [0.7], [0.7], [0.7], [0.7], [0.7], [0.7], [0.7], [0.7], [0.7], [0.7], [0.7], [0.7], [0.7], [0.7], [0.7], [0.7], [0.7], [0.7], [0.7], [0.7], [0.7], [0.7], [0.7], [0.7], [0.7], [0.7], [0.7], [0.7], [0.7], [0.7], [0.7], [0.7], [0.7], [0.7], [0.7], [0.7], [0.7], [0.7], [0.7], [0.7], [0.7], [0.7], [0.7], [0.7], [0.7], [0.7], [0.7], [0.7], [0.7], [0.7], [0.7], [0.7], [0.7], [0.7], [0.7], [0.7], [0.7], [0.7], [0.7], [0.7], [0.7], [0.7], [0.7], [0.7], [0.7], [0.7], [0.7], [0.7], [0.7], [0.7], [0.7], [0.7], [0.7], [0.7], [0.7], [0.7], [0.7], [0.7], [0.7], [0.7], [0.7], [0.7], [0.7], [0.7], [0.7], [0.7], [0.7], [0.7], [0.7], [0.7], [0.7], [0.7], [0.7], [0.7], [0.7], [0.7], [0.7], [0.7], [0.7], [0.7], [0.7], [0.7], [0.7], [0.7], [0.7], [0.7], [0.7], [0.7], [0.7], [0.7], [0.7], [0.7], [0.7], [0.7], [0.7], [0.7], [0.7], [0.7], [0.7], [0.7], [0.7], [0.7], [0.7], [0.7], [0.7], [0.7], [0.7], [0.7], [0.7], [0.7], [0.7], [0.7], [0.7], [0.7], [0.7], [0.7], [0.7], [0.7], [0.7], [0.7], [0.7], [0.7], [0.7], [0.7], [0.7], [0.7], [0.7], [0.7], [0.7], [0.7], [0.7], [0.7], [0.7], [0.7], [0.7], [0.7], [0.7], [0.7], [0.7], [0.7], [0.7], [0.7], [0.7], [0.7], [0.7], [0.7], [0.7], [0.7], [0.7], [0.7], [0.7], [0.7], [0.7], [0.7], [0.7], [0.7], [0.7], [0.7], [0.7], [0.7], [0.7], [0.7], [0.7], [0.7], [0.7], [0.7], [0.7], [0.7], [0.7], [0.7], [0.7], [0.7], [0.7], [0.7], [0.7], [0.7], [0.7], [0.7], [0.7], [0.7], [0.7], [0.7], [0.7], [0.7], [0.7], [0.7], [0.7], [0.7], [0.7], [0.7], [0.7], [0.7], [0.7], [0.7], [0.7], [0.7], [0.7], [0.7], [0.7], [0.7], [0.7], [0.7], [0.7], [0.7], [0.7], [0.7], [0.7], [0.7], [0.7], [0.7], [0.7], [0.7], [0.7], [0.7], [0.7], [0.7], [0.7], [0.7], [0.7], [0.7], [0.7], [0.7], [0.7], [0.7], [0.7], [0.7], [0.7], [0.7], [0.7], [0.7], [0.7], [0.7], [0.7], [0.7], [0.7], [0.7], [0.7], [0.7], [0.7], [0.7]], \"size\": [15, 15, 10, 10, 10, 5, 5, 5, 5, 5, 5, 5, 5, 5, 5, 5, 5, 5, 5, 5, 5, 5, 5, 5, 10, 10, 5, 5, 5, 5, 5, 5, 5, 50, 45, 25, 20, 15, 10, 5, 5, 110, 80, 60, 50, 50, 45, 45, 45, 40, 40, 40, 40, 40, 35, 35, 30, 25, 20, 20, 20, 15, 15, 15, 15, 15, 15, 15, 10, 10, 10, 10, 10, 10, 10, 10, 5, 5, 5, 5, 5, 5, 5, 5, 5, 60, 35, 30, 25, 25, 20, 20, 10, 10, 10, 10, 10, 10, 10, 10, 10, 10, 10, 10, 5, 5, 5, 5, 5, 5, 5, 5, 5, 5, 5, 5, 5, 5, 5, 15, 10, 10, 10, 10, 10, 10, 5, 5, 5, 5, 5, 5, 5, 5, 5]}, \"mode\": \"markers\", \"name\": \"Female\", \"x\": [\"University <br>graduate\", \"University <br>without <br>graduating\", \"University <br>graduate\", \"University <br>graduate\", \"University <br>graduate\", \"University <br>graduate\", \"University <br>graduate\", \"University <br>graduate\", \"University <br>graduate\", \"Completed <br>Compulsory<br>Secondary <br>Education\", \"Completed <br>Compulsory<br>Secondary <br>Education\", \"Vocational <br>Training\", \"University <br>without <br>graduating\", \"University <br>graduate\", \"University <br>graduate\", \"University <br>graduate\", \"University <br>graduate\", \"University <br>without <br>graduating\", \"University <br>graduate\", \"University <br>without <br>graduating\", \"Completed <br>Compulsory<br>Secondary <br>Education\", \"Vocational <br>Training\", \"University <br>graduate\", \"University <br>without <br>graduating\", \"Vocational <br>Training\", \"Primary <br>education\", \"University <br>without <br>graduating\", \"University <br>graduate\", \"Unfinished <br>Compulsory<br>Secondary <br>Education\", \"Unfinished <br>Compulsory<br>Secondary <br>Education\", \"Unfinished <br>Compulsory<br>Secondary <br>Education\", \"Unfinished <br>Compulsory<br>Secondary <br>Education\", \"Unfinished <br>Compulsory<br>Secondary <br>Education\", \"Unfinished <br>Compulsory<br>Secondary <br>Education\", \"University <br>graduate\", \"University <br>graduate\", \"Vocational <br>Training\", \"University <br>graduate\", \"University <br>without <br>graduating\", \"University <br>without <br>graduating\", \"University <br>without <br>graduating\", \"University <br>graduate\", \"University <br>graduate\", \"University <br>graduate\", \"University <br>without <br>graduating\", \"University <br>graduate\", \"University <br>without <br>graduating\", \"University <br>graduate\", \"University <br>graduate\", \"University <br>graduate\", \"University <br>without <br>graduating\", \"University <br>without <br>graduating\", \"University <br>without <br>graduating\", \"University <br>without <br>graduating\", \"University <br>without <br>graduating\", \"University <br>without <br>graduating\", \"University <br>without <br>graduating\", \"University <br>without <br>graduating\", \"Unfinished <br>Compulsory<br>Secondary <br>Education\", \"Unfinished <br>Compulsory<br>Secondary <br>Education\", \"Unfinished <br>Compulsory<br>Secondary <br>Education\", \"University <br>graduate\", \"University <br>graduate\", \"Unfinished <br>Compulsory<br>Secondary <br>Education\", \"Unfinished <br>Compulsory<br>Secondary <br>Education\", \"Unfinished <br>Compulsory<br>Secondary <br>Education\", \"Unfinished <br>Compulsory<br>Secondary <br>Education\", \"Unfinished <br>Compulsory<br>Secondary <br>Education\", \"Unfinished <br>Compulsory<br>Secondary <br>Education\", \"University <br>without <br>graduating\", \"Unfinished <br>Compulsory<br>Secondary <br>Education\", \"University <br>graduate\", \"University <br>without <br>graduating\", \"University <br>graduate\", \"Vocational <br>Training\", \"University <br>graduate\", \"University <br>graduate\", \"University <br>graduate\", \"University <br>graduate\", \"University <br>graduate\", \"Vocational <br>Training\", \"University <br>graduate\", \"Vocational <br>Training\", \"Vocational <br>Training\", \"Completed <br>Compulsory<br>Secondary <br>Education\", \"University <br>without <br>graduating\", \"University <br>graduate\", \"University <br>graduate\", \"University <br>graduate\", \"Completed <br>Compulsory<br>Secondary <br>Education\", \"University <br>without <br>graduating\", \"University <br>without <br>graduating\", \"University <br>without <br>graduating\", \"University <br>without <br>graduating\", \"University <br>without <br>graduating\", \"University <br>without <br>graduating\", \"University <br>graduate\", \"University <br>graduate\", \"University <br>graduate\", \"University <br>graduate\", \"University <br>graduate\", \"University <br>graduate\", \"University <br>graduate\", \"University <br>graduate\", \"University <br>graduate\", \"University <br>graduate\", \"University <br>graduate\", \"University <br>graduate\", \"University <br>graduate\", \"University <br>without <br>graduating\", \"University <br>graduate\", \"University <br>without <br>graduating\", \"University <br>graduate\", \"University <br>graduate\", \"University <br>without <br>graduating\", \"Vocational <br>Training\", \"University <br>without <br>graduating\", \"University <br>without <br>graduating\", \"Unfinished <br>Compulsory<br>Secondary <br>Education\", \"Unfinished <br>Compulsory<br>Secondary <br>Education\", \"Unfinished <br>Compulsory<br>Secondary <br>Education\", \"University <br>graduate\", \"Completed <br>Compulsory<br>Secondary <br>Education\", \"Vocational <br>Training\", \"Unfinished <br>Compulsory<br>Secondary <br>Education\", \"Unfinished <br>Compulsory<br>Secondary <br>Education\", \"Unfinished <br>Compulsory<br>Secondary <br>Education\", \"Unfinished <br>Compulsory<br>Secondary <br>Education\", \"Unfinished <br>Compulsory<br>Secondary <br>Education\", \"Unfinished <br>Compulsory<br>Secondary <br>Education\", \"Unfinished <br>Compulsory<br>Secondary <br>Education\", \"Unfinished <br>Compulsory<br>Secondary <br>Education\", \"Unfinished <br>Compulsory<br>Secondary <br>Education\", \"Unfinished <br>Compulsory<br>Secondary <br>Education\", \"Unfinished <br>Compulsory<br>Secondary <br>Education\", \"Unfinished <br>Compulsory<br>Secondary <br>Education\", \"University <br>graduate\", \"University <br>without <br>graduating\", \"University <br>without <br>graduating\", \"University <br>without <br>graduating\", \"Vocational <br>Training\", \"University <br>graduate\", \"University <br>without <br>graduating\", \"University <br>graduate\", \"University <br>graduate\", \"University <br>graduate\", \"University <br>graduate\", \"Primary <br>education\", \"University <br>graduate\", \"University <br>graduate\", \"University <br>graduate\", \"University <br>graduate\", \"University <br>graduate\", \"University <br>without <br>graduating\", \"Completed <br>Compulsory<br>Secondary <br>Education\", \"University <br>graduate\", \"University <br>without <br>graduating\", \"Completed <br>Compulsory<br>Secondary <br>Education\", \"University <br>graduate\", \"University <br>graduate\", \"Vocational <br>Training\", \"University <br>graduate\", \"University <br>graduate\", \"University <br>graduate\", \"University <br>graduate\", \"University <br>without <br>graduating\", \"University <br>graduate\", \"University <br>graduate\", \"University <br>graduate\", \"University <br>graduate\", \"University <br>graduate\", \"University <br>graduate\", \"University <br>graduate\", \"University <br>graduate\", \"University <br>graduate\", \"University <br>graduate\", \"University <br>graduate\", \"University <br>graduate\", \"Completed <br>Compulsory<br>Secondary <br>Education\", \"University <br>without <br>graduating\", \"University <br>graduate\", \"University <br>graduate\", \"Unfinished <br>Compulsory<br>Secondary <br>Education\", \"University <br>graduate\", \"University <br>graduate\", \"University <br>graduate\", \"Primary <br>education\", \"Vocational <br>Training\", \"University <br>graduate\", \"University <br>graduate\", \"Vocational <br>Training\", \"University <br>graduate\", \"University <br>graduate\", \"Vocational <br>Training\", \"University <br>graduate\", \"University <br>graduate\", \"University <br>graduate\", \"University <br>graduate\", \"University <br>graduate\", \"Primary <br>education\", \"University <br>graduate\", \"Completed <br>Compulsory<br>Secondary <br>Education\", \"University <br>graduate\", \"Vocational <br>Training\", \"Primary <br>education\", \"University <br>without <br>graduating\", \"University <br>graduate\", \"University <br>graduate\", \"University <br>graduate\", \"Completed <br>Compulsory<br>Secondary <br>Education\", \"University <br>graduate\", \"University <br>without <br>graduating\", \"Completed <br>Compulsory<br>Secondary <br>Education\", \"University <br>graduate\", \"University <br>graduate\", \"University <br>graduate\", \"University <br>graduate\", \"University <br>graduate\", \"University <br>without <br>graduating\", \"University <br>without <br>graduating\", \"University <br>graduate\", \"University <br>without <br>graduating\", \"University <br>graduate\", \"University <br>graduate\", \"University <br>graduate\", \"Completed <br>Compulsory<br>Secondary <br>Education\", \"University <br>without <br>graduating\", \"University <br>graduate\", \"University <br>graduate\", \"University <br>graduate\", \"University <br>graduate\", \"University <br>graduate\", \"Vocational <br>Training\", \"University <br>graduate\", \"University <br>graduate\", \"University <br>graduate\", \"University <br>graduate\", \"University <br>graduate\", \"University <br>graduate\", \"University <br>graduate\", \"Completed <br>Compulsory<br>Secondary <br>Education\", \"University <br>without <br>graduating\", \"Completed <br>Compulsory<br>Secondary <br>Education\", \"University <br>graduate\", \"University <br>graduate\", \"University <br>graduate\", \"University <br>without <br>graduating\", \"University <br>graduate\", \"University <br>graduate\", \"Primary <br>education\", \"University <br>graduate\", \"Completed <br>Compulsory<br>Secondary <br>Education\", \"University <br>without <br>graduating\", \"Completed <br>Compulsory<br>Secondary <br>Education\", \"University <br>graduate\", \"Completed <br>Compulsory<br>Secondary <br>Education\", \"University <br>without <br>graduating\", \"University <br>graduate\", \"Completed <br>Compulsory<br>Secondary <br>Education\", \"University <br>graduate\", \"Primary <br>education\", \"University <br>graduate\", \"University <br>graduate\", \"University <br>graduate\", \"University <br>without <br>graduating\", \"University <br>graduate\", \"Completed <br>Compulsory<br>Secondary <br>Education\", \"University <br>without <br>graduating\", \"University <br>graduate\", \"University <br>graduate\", \"University <br>graduate\", \"University <br>without <br>graduating\", \"Completed <br>Compulsory<br>Secondary <br>Education\", \"University <br>graduate\", \"University <br>graduate\", \"University <br>without <br>graduating\", \"University <br>graduate\", \"Vocational <br>Training\", \"University <br>without <br>graduating\", \"University <br>graduate\", \"Completed <br>Compulsory<br>Secondary <br>Education\", \"Primary <br>education\", \"University <br>graduate\", \"University <br>graduate\", \"University <br>graduate\", \"University <br>graduate\", \"University <br>graduate\", \"University <br>graduate\", \"University <br>without <br>graduating\", \"University <br>graduate\", \"University <br>graduate\", \"Vocational <br>Training\", \"University <br>without <br>graduating\", \"University <br>without <br>graduating\", \"Primary <br>education\", \"University <br>without <br>graduating\", \"University <br>graduate\", \"Completed <br>Compulsory<br>Secondary <br>Education\", \"University <br>graduate\", \"University <br>without <br>graduating\", \"University <br>graduate\", \"University <br>graduate\", \"University <br>graduate\", \"University <br>graduate\", \"Vocational <br>Training\", \"Unfinished <br>Compulsory<br>Secondary <br>Education\", \"University <br>without <br>graduating\", \"University <br>graduate\", \"University <br>graduate\", \"University <br>graduate\", \"University <br>graduate\", \"Completed <br>Compulsory<br>Secondary <br>Education\", \"University <br>without <br>graduating\", \"University <br>without <br>graduating\", \"University <br>graduate\", \"University <br>graduate\", \"University <br>graduate\", \"University <br>graduate\", \"University <br>graduate\", \"Completed <br>Compulsory<br>Secondary <br>Education\", \"University <br>without <br>graduating\", \"University <br>without <br>graduating\", \"University <br>graduate\", \"University <br>without <br>graduating\", \"University <br>graduate\", \"University <br>graduate\", \"University <br>graduate\", \"Completed <br>Compulsory<br>Secondary <br>Education\", \"University <br>graduate\", \"University <br>graduate\", \"University <br>graduate\", \"University <br>graduate\", \"University <br>graduate\", \"University <br>graduate\", \"University <br>graduate\", \"University <br>graduate\", \"Completed <br>Compulsory<br>Secondary <br>Education\", \"Unfinished <br>Compulsory<br>Secondary <br>Education\", \"University <br>without <br>graduating\", \"Vocational <br>Training\", \"University <br>without <br>graduating\", \"University <br>without <br>graduating\", \"Completed <br>Compulsory<br>Secondary <br>Education\", \"University <br>without <br>graduating\", \"University <br>graduate\", \"University <br>without <br>graduating\", \"University <br>without <br>graduating\", \"Primary <br>education\", \"University <br>graduate\", \"Unfinished <br>Compulsory<br>Secondary <br>Education\", \"University <br>graduate\", \"University <br>graduate\", \"University <br>graduate\", \"University <br>without <br>graduating\", \"University <br>without <br>graduating\", \"Primary <br>education\", \"University <br>graduate\", \"University <br>graduate\", \"University <br>graduate\", \"University <br>graduate\", \"University <br>without <br>graduating\", \"University <br>graduate\", \"University <br>graduate\", \"Vocational <br>Training\", \"University <br>graduate\", \"University <br>graduate\", \"University <br>graduate\", \"University <br>graduate\", \"Completed <br>Compulsory<br>Secondary <br>Education\", \"University <br>graduate\", \"University <br>graduate\", \"University <br>graduate\", \"University <br>graduate\", \"University <br>graduate\", \"University <br>graduate\", \"Completed <br>Compulsory<br>Secondary <br>Education\", \"University <br>without <br>graduating\", \"University <br>graduate\", \"University <br>graduate\", \"University <br>graduate\", \"Vocational <br>Training\", \"University <br>graduate\", \"Vocational <br>Training\", \"University <br>graduate\", \"University <br>graduate\", \"University <br>without <br>graduating\", \"University <br>graduate\", \"University <br>without <br>graduating\", \"University <br>graduate\", \"University <br>graduate\", \"University <br>without <br>graduating\", \"University <br>graduate\", \"University <br>graduate\", \"Completed <br>Compulsory<br>Secondary <br>Education\", \"University <br>without <br>graduating\", \"University <br>graduate\", \"University <br>graduate\", \"University <br>graduate\", \"University <br>graduate\", \"University <br>graduate\", \"University <br>graduate\", \"University <br>graduate\", \"University <br>without <br>graduating\"], \"y\": [31, 24, 30, 42, 32, 30, 31, 35, 23, 28, 41, 32, 22, 33, 46, 24, 43, 21, 50, 57, 46, 53, 44, 18, 27, 64, 18, 23, 15, 15, 15, 16, 16, 17, 31, 35, 32, 31, 21, 22, 20, 35, 48, 29, 42, 28, 21, 28, 27, 62, 19, 21, 22, 23, 18, 19, 18, 51, 15, 15, 14, 26, 34, 17, 17, 16, 15, 15, 16, 19, 16, 35, 38, 34, 30, 34, 41, 35, 35, 36, 46, 32, 55, 34, 37, 21, 52, 31, 25, 31, 20, 19, 19, 19, 18, 20, 39, 44, 28, 41, 57, 55, 28, 61, 62, 43, 39, 46, 55, 21, 45, 27, 46, 32, 21, 26, 19, 21, 15, 13, 15, 30, 62, 24, 14, 14, 14, 14, 13, 13, 14, 14, 14, 15, 14, 13, 53, 21, 21, 81, 42, 26, 27, 27, 26, 37, 32, 25, 29, 30, 29, 37, 28, 22, 27, 44, 35, 35, 27, 35, 61, 27, 31, 23, 33, 22, 37, 31, 30, 24, 49, 32, 35, 41, 26, 30, 35, 35, 22, 39, 33, 37, 21, 30, 27, 56, 35, 24, 36, 24, 34, 30, 33, 55, 26, 25, 37, 46, 59, 25, 23, 29, 32, 55, 27, 26, 23, 26, 51, 62, 51, 30, 60, 54, 48, 32, 26, 29, 39, 40, 31, 21, 56, 24, 34, 43, 56, 34, 46, 35, 49, 28, 33, 26, 29, 47, 27, 28, 43, 54, 31, 24, 40, 30, 38, 38, 23, 24, 24, 30, 24, 29, 26, 52, 29, 51, 56, 22, 30, 22, 37, 24, 38, 25, 28, 46, 46, 48, 33, 24, 33, 32, 36, 33, 45, 42, 34, 38, 20, 37, 20, 44, 27, 30, 57, 40, 34, 24, 66, 46, 35, 20, 38, 30, 28, 27, 56, 24, 45, 59, 27, 33, 41, 31, 64, 34, 81, 43, 38, 24, 46, 25, 29, 67, 69, 73, 30, 38, 42, 31, 50, 55, 32, 25, 53, 45, 35, 46, 33, 25, 45, 62, 24, 27, 30, 50, 28, 43, 33, 50, 40, 47, 55, 26, 48, 67, 27, 28, 38, 43, 47, 24, 38, 27, 21, 43, 36, 60, 25, 25, 45, 29, 24, 27, 44, 54, 37, 58, 65, 34, 53, 35, 78, 33, 23, 18, 36, 24, 37, 26, 53, 25, 38, 24, 28, 37, 35, 33, 31, 29, 25, 35, 50, 26, 26, 24, 24, 34, 24, 24, 24, 24, 27], \"type\": \"scatter\", \"uid\": \"6c9262cb-b567-4dc8-ab62-87284518e56d\"}, {\"marker\": {\"color\": \"rgb(244,109,67)\", \"opacity\": [[0.7], [0.7], [0.7], [0.7], [0.7], [0.7], [0.7], [0.7], [0.7], [0.7], [0.7], [0.7], [0.7], [0.7], [0.7], [0.7], [0.7], [0.7], [0.7], [0.7], [0.7], [0.7], [0.7], [0.7], [0.7], [0.7], [0.7], [0.7], [0.7], [0.7], [0.7], [0.7], [0.7], [0.7], [0.7], [0.7], [0.7], [0.7], [0.7], [0.7], [0.7], [0.7], [0.7], [0.7], [0.7], [0.7], [0.7], [0.7], [0.7], [0.7], [0.7], [0.7], [0.7], [0.7], [0.7], [0.7], [0.7], [0.7], [0.7], [0.7], [0.7], [0.7], [0.7], [0.7], [0.7], [0.7], [0.7], [0.7], [0.7], [0.7], [0.7], [0.7], [0.7], [0.7], [0.7], [0.7], [0.7], [0.7], [0.7], [0.7], [0.7], [0.7], [0.7], [0.7], [0.7], [0.7], [0.7], [0.7], [0.7], [0.7], [0.7], [0.7], [0.7], [0.7], [0.7], [0.7], [0.7], [0.7], [0.7], [0.7], [0.7], [0.7], [0.7], [0.7], [0.7], [0.7], [0.7], [0.7], [0.7], [0.7], [0.7], [0.7], [0.7], [0.7], [0.7], [0.7], [0.7], [0.7], [0.7], [0.7], [0.7], [0.7], [0.7], [0.7], [0.7], [0.7], [0.7], [0.7], [0.7], [0.7], [0.7], [0.7], [0.7], [0.7], [0.7], [0.7], [0.7], [0.7], [0.7], [0.7], [0.7], [0.7], [0.7], [0.7], [0.7], [0.7], [0.7], [0.7], [0.7], [0.7], [0.7], [0.7], [0.7], [0.7], [0.7], [0.7], [0.7], [0.7], [0.7], [0.7], [0.7], [0.7], [0.7], [0.7], [0.7], [0.7], [0.7], [0.7], [0.7], [0.7], [0.7], [0.7], [0.7], [0.7], [0.7], [0.7], [0.7], [0.7], [0.7], [0.7], [0.7], [0.7], [0.7], [0.7], [0.7], [0.7], [0.7], [0.7], [0.7], [0.7], [0.7], [0.7], [0.7], [0.7], [0.7], [0.7], [0.7], [0.7], [0.7], [0.7], [0.7], [0.7], [0.7], [0.7], [0.7], [0.7], [0.7], [0.7], [0.7], [0.7], [0.7], [0.7], [0.7], [0.7], [0.7], [0.7], [0.7], [0.7], [0.7], [0.7], [0.7], [0.7], [0.7], [0.7], [0.7], [0.7], [0.7], [0.7], [0.7], [0.7], [0.7], [0.7], [0.7], [0.7], [0.7], [0.7], [0.7], [0.7], [0.7], [0.7], [0.7], [0.7], [0.7], [0.7], [0.7], [0.7], [0.7], [0.7], [0.7], [0.7], [0.7], [0.7], [0.7], [0.7], [0.7], [0.7], [0.7], [0.7], [0.7], [0.7], [0.7], [0.7], [0.7], [0.7], [0.7], [0.7], [0.7], [0.7], [0.7], [0.7], [0.7], [0.7], [0.7], [0.7], [0.7], [0.7], [0.7], [0.7], [0.7], [0.7], [0.7], [0.7], [0.7], [0.7], [0.7], [0.7], [0.7], [0.7], [0.7], [0.7], [0.7], [0.7], [0.7], [0.7], [0.7], [0.7], [0.7], [0.7], [0.7], [0.7], [0.7], [0.7], [0.7], [0.7], [0.7], [0.7], [0.7], [0.7], [0.7], [0.7], [0.7], [0.7], [0.7], [0.7], [0.7], [0.7], [0.7], [0.7], [0.7], [0.7], [0.7], [0.7], [0.7], [0.7], [0.7], [0.7], [0.7], [0.7], [0.7], [0.7], [0.7], [0.7], [0.7], [0.7], [0.7], [0.7], [0.7], [0.7], [0.7], [0.7], [0.7], [0.7], [0.7], [0.7], [0.7], [0.7], [0.7], [0.7], [0.7], [0.7], [0.7], [0.7], [0.7], [0.7], [0.7], [0.7], [0.7], [0.7], [0.7], [0.7], [0.7], [0.7], [0.7], [0.7], [0.7], [0.7], [0.7], [0.7], [0.7], [0.7], [0.7], [0.7], [0.7], [0.7], [0.7], [0.7], [0.7], [0.7], [0.7], [0.7], [0.7], [0.7], [0.7], [0.7], [0.7], [0.7], [0.7], [0.7], [0.7], [0.7], [0.7], [0.7], [0.7], [0.7], [0.7], [0.7], [0.7], [0.7], [0.7], [0.7], [0.7], [0.7], [0.7], [0.7], [0.7], [0.7], [0.7], [0.7], [0.7], [0.7], [0.7], [0.7], [0.7], [0.7], [0.7], [0.7], [0.7], [0.7], [0.7], [0.7], [0.7], [0.7], [0.7], [0.7], [0.7], [0.7], [0.7], [0.7], [0.7], [0.7], [0.7], [0.7], [0.7], [0.7], [0.7], [0.7], [0.7], [0.7], [0.7], [0.7], [0.7], [0.7], [0.7], [0.7], [0.7], [0.7], [0.7], [0.7], [0.7], [0.7], [0.7], [0.7], [0.7], [0.7], [0.7], [0.7], [0.7], [0.7], [0.7], [0.7], [0.7], [0.7], [0.7], [0.7], [0.7], [0.7], [0.7], [0.7], [0.7], [0.7], [0.7], [0.7], [0.7], [0.7], [0.7], [0.7], [0.7], [0.7], [0.7], [0.7], [0.7], [0.7], [0.7], [0.7], [0.7], [0.7], [0.7], [0.7], [0.7], [0.7], [0.7], [0.7], [0.7], [0.7], [0.7], [0.7], [0.7], [0.7], [0.7], [0.7], [0.7], [0.7], [0.7], [0.7], [0.7], [0.7], [0.7], [0.7], [0.7], [0.7], [0.7], [0.7], [0.7], [0.7], [0.7], [0.7], [0.7], [0.7], [0.7], [0.7], [0.7], [0.7], [0.7], [0.7], [0.7], [0.7], [0.7], [0.7], [0.7], [0.7], [0.7], [0.7], [0.7], [0.7], [0.7], [0.7], [0.7], [0.7], [0.7], [0.7], [0.7], [0.7], [0.7], [0.7], [0.7], [0.7], [0.7], [0.7], [0.7], [0.7], [0.7], [0.7], [0.7], [0.7], [0.7], [0.7], [0.7], [0.7], [0.7], [0.7], [0.7], [0.7], [0.7], [0.7], [0.7], [0.7], [0.7], [0.7], [0.7], [0.7], [0.7], [0.7], [0.7], [0.7], [0.7], [0.7], [0.7], [0.7], [0.7], [0.7], [0.7], [0.7], [0.7], [0.7], [0.7], [0.7], [0.7], [0.7], [0.7], [0.7], [0.7], [0.7], [0.7], [0.7], [0.7], [0.7], [0.7], [0.7], [0.7], [0.7], [0.7], [0.7], [0.7], [0.7], [0.7], [0.7], [0.7], [0.7], [0.7], [0.7], [0.7], [0.7], [0.7], [0.7], [0.7], [0.7], [0.7], [0.7], [0.7], [0.7], [0.7], [0.7], [0.7], [0.7], [0.7], [0.7], [0.7], [0.7], [0.7], [0.7], [0.7], [0.7], [0.7], [0.7], [0.7], [0.7], [0.7], [0.7], [0.7], [0.7], [0.7], [0.7], [0.7], [0.7], [0.7], [0.7], [0.7], [0.7], [0.7], [0.7], [0.7], [0.7], [0.7], [0.7], [0.7], [0.7], [0.7], [0.7], [0.7], [0.7], [0.7], [0.7], [0.7], [0.7], [0.7], [0.7], [0.7], [0.7], [0.7], [0.7], [0.7], [0.7], [0.7], [0.7], [0.7], [0.7], [0.7], [0.7], [0.7], [0.7], [0.7], [0.7], [0.7], [0.7], [0.7], [0.7], [0.7], [0.7], [0.7], [0.7], [0.7], [0.7], [0.7], [0.7], [0.7], [0.7], [0.7], [0.7], [0.7], [0.7], [0.7], [0.7], [0.7], [0.7], [0.7], [0.7], [0.7], [0.7], [0.7], [0.7], [0.7], [0.7], [0.7], [0.7], [0.7], [0.7], [0.7], [0.7], [0.7], [0.7], [0.7], [0.7], [0.7], [0.7], [0.7], [0.7], [0.7], [0.7], [0.7], [0.7], [0.7], [0.7], [0.7], [0.7], [0.7], [0.7], [0.7], [0.7], [0.7], [0.7], [0.7], [0.7], [0.7], [0.7], [0.7], [0.7], [0.7], [0.7], [0.7], [0.7], [0.7], [0.7], [0.7], [0.7], [0.7], [0.7], [0.7], [0.7], [0.7], [0.7], [0.7], [0.7], [0.7], [0.7], [0.7], [0.7], [0.7]], \"size\": [5, 5, 5, 5, 5, 5]}, \"mode\": \"markers\", \"name\": \"Other\", \"x\": [\"University <br>without <br>graduating\", \"University <br>without <br>graduating\", \"Unfinished <br>Compulsory<br>Secondary <br>Education\", \"University <br>without <br>graduating\", \"University <br>without <br>graduating\", \"University <br>graduate\"], \"y\": [20, 36, 14, 22, 21, 28], \"type\": \"scatter\", \"uid\": \"cb4d2c1f-79b2-4e7f-8c77-7166c069f902\"}], {\"xaxis\": {\"title\": {\"text\": \"Educational level\"}}, \"yaxis\": {\"title\": {\"text\": \"Age\"}}}, {\"showLink\": false, \"linkText\": \"Export to plot.ly\", \"plotlyServerURL\": \"https://plot.ly\"}); \n",
       "}\n",
       "});</script><script type=\"text/javascript\">window.addEventListener(\"resize\", function(){if (document.getElementById(\"2cabd2d8-187c-437f-b927-35a7a2277df3\")) {window._Plotly.Plots.resize(document.getElementById(\"2cabd2d8-187c-437f-b927-35a7a2277df3\"));};})</script>"
      ]
     },
     "metadata": {},
     "output_type": "display_data"
    }
   ],
   "source": [
    "fig6 = {\n",
    "    'data': [\n",
    "        {\n",
    "            'x': data_complete_en[data_complete_en['Gender'] == gender]['Educational level'],\n",
    "            'y': data_complete_en[data_complete_en['Gender'] == gender]['Age'],\n",
    "            'name': gender,\n",
    "            'mode': 'markers',\n",
    "            'marker': dict(\n",
    "                opacity=np.full((len(data_complete_en.index), 1), 0.7),\n",
    "                color=colors_gender[gender],\n",
    "                size=(data_complete_en[(data_complete_en['Gender'] == gender)].groupby(\n",
    "                    ['Educational level'])['Age'].value_counts() * 5)\n",
    "            ),\n",
    "            'name': names_gender[gender]\n",
    "        } for gender in data_complete_en['Gender'].unique()\n",
    "    ],\n",
    "    'layout': {\n",
    "        'xaxis': {\n",
    "            'title': 'Educational level'},\n",
    "        'yaxis': {'title': \"Age\"}\n",
    "\n",
    "    }\n",
    "}\n",
    "\n",
    "iplot(fig6)\n",
    "plt.show()"
   ]
  },
  {
   "cell_type": "markdown",
   "metadata": {},
   "source": [
    "## Distribution of the origin of the participants "
   ]
  },
  {
   "cell_type": "code",
   "execution_count": 12,
   "metadata": {
    "scrolled": false
   },
   "outputs": [
    {
     "name": "stdout",
     "output_type": "stream",
     "text": [
      "Describing the variable Nationality\n"
     ]
    },
    {
     "data": {
      "text/plain": [
       "count     767\n",
       "unique     34\n",
       "top       USA\n",
       "freq      306\n",
       "Name: Nationality, dtype: object"
      ]
     },
     "metadata": {},
     "output_type": "display_data"
    },
    {
     "name": "stdout",
     "output_type": "stream",
     "text": [
      "Count of each value in Nationality expresed as nationality / amount\n"
     ]
    },
    {
     "data": {
      "text/plain": [
       "USA               306\n",
       "Spain             217\n",
       "India             120\n",
       "Unknown            38\n",
       "France             19\n",
       "Italy              11\n",
       "England            10\n",
       "Canada              9\n",
       "Venezuela           4\n",
       "Niger               4\n",
       "Brazil              3\n",
       "Dominican Rep.      2\n",
       "Russia              2\n",
       "Ireland             2\n",
       "Cuba                1\n",
       "China               1\n",
       "Germany             1\n",
       "The Bahamas         1\n",
       "Indonesia           1\n",
       "Argentina           1\n",
       "Australia           1\n",
       "Mexico              1\n",
       "Iceland             1\n",
       "Ukraine             1\n",
       "Slovakia            1\n",
       "Pakistan            1\n",
       "Sudan               1\n",
       "Colombia            1\n",
       "Macedonia           1\n",
       "Chile               1\n",
       "New Zealand         1\n",
       "Albania             1\n",
       "Austria             1\n",
       "Scotland            1\n",
       "Name: Nationality, dtype: int64"
      ]
     },
     "metadata": {},
     "output_type": "display_data"
    },
    {
     "name": "stdout",
     "output_type": "stream",
     "text": [
      "Percentage of each value in Nationality expresed as nationality / percentage\n"
     ]
    },
    {
     "data": {
      "text/plain": [
       "USA               39.90\n",
       "Spain             28.29\n",
       "India             15.65\n",
       "Unknown            4.95\n",
       "France             2.48\n",
       "Italy              1.43\n",
       "England            1.30\n",
       "Canada             1.17\n",
       "Venezuela          0.52\n",
       "Niger              0.52\n",
       "Brazil             0.39\n",
       "Dominican Rep.     0.26\n",
       "Russia             0.26\n",
       "Ireland            0.26\n",
       "Cuba               0.13\n",
       "China              0.13\n",
       "Germany            0.13\n",
       "The Bahamas        0.13\n",
       "Indonesia          0.13\n",
       "Argentina          0.13\n",
       "Australia          0.13\n",
       "Mexico             0.13\n",
       "Iceland            0.13\n",
       "Ukraine            0.13\n",
       "Slovakia           0.13\n",
       "Pakistan           0.13\n",
       "Sudan              0.13\n",
       "Colombia           0.13\n",
       "Macedonia          0.13\n",
       "Chile              0.13\n",
       "New Zealand        0.13\n",
       "Albania            0.13\n",
       "Austria            0.13\n",
       "Scotland           0.13\n",
       "Name: Nationality, dtype: float64"
      ]
     },
     "metadata": {},
     "output_type": "display_data"
    },
    {
     "data": {
      "application/vnd.plotly.v1+json": {
       "config": {
        "linkText": "Export to plot.ly",
        "plotlyServerURL": "https://plot.ly",
        "showLink": false
       },
       "data": [
        {
         "marker": {
          "color": [
           "hsl(353.0, 64.0%, 53.0%)",
           "hsl(358.09090909090907, 69.81818181818181%, 54.696969696969695%)",
           "hsl(3.181818181818187, 75.63636363636364%, 56.39393939393939%)",
           "hsl(8.272727272727252, 81.45454545454545%, 58.09090909090909%)",
           "hsl(13.363636363636374, 87.27272727272728%, 59.78787878787879%)",
           "hsl(17.181818181818183, 89.9090909090909%, 61.696969696969695%)",
           "hsl(20.81818181818182, 92.0909090909091%, 63.63636363636364%)",
           "hsl(24.454545454545453, 94.27272727272728%, 65.57575757575758%)",
           "hsl(28.090909090909093, 96.45454545454545%, 67.51515151515152%)",
           "hsl(31.727272727272727, 97.18181818181819%, 69.63636363636364%)",
           "hsl(35.36363636363637, 97.42424242424242%, 71.81818181818181%)",
           "hsl(39.0, 97.66666666666667%, 74.0%)",
           "hsl(42.63636363636364, 97.9090909090909%, 76.18181818181819%)",
           "hsl(46.42424242424242, 98.3030303030303%, 78.51515151515152%)",
           "hsl(50.303030303030305, 98.78787878787878%, 80.93939393939394%)",
           "hsl(54.18181818181818, 99.27272727272727%, 83.36363636363636%)",
           "hsl(58.06060606060606, 99.75757575757575%, 85.78787878787878%)",
           "hsl(61.09090909090909, 97.81818181818181%, 85.78787878787878%)",
           "hsl(63.272727272727266, 93.45454545454547%, 83.36363636363637%)",
           "hsl(65.45454545454545, 89.09090909090908%, 80.93939393939394%)",
           "hsl(67.63636363636364, 84.72727272727272%, 78.51515151515152%)",
           "hsl(72.9090909090909, 78.63636363636364%, 76.81818181818181%)",
           "hsl(83.33333333333331, 69.66666666666669%, 76.33333333333333%)",
           "hsl(93.75757575757578, 60.69696969696968%, 75.84848484848484%)",
           "hsl(104.18181818181819, 51.72727272727272%, 75.36363636363636%)",
           "hsl(114.96969696969697, 44.81818181818182%, 73.96969696969697%)",
           "hsl(126.84848484848483, 44.09090909090909%, 69.84848484848486%)",
           "hsl(138.72727272727275, 43.36363636363636%, 65.72727272727272%)",
           "hsl(150.60606060606062, 42.63636363636363%, 61.6060606060606%)",
           "hsl(162.24242424242425, 42.484848484848484%, 57.63636363636364%)",
           "hsl(172.1818181818182, 46.36363636363636%, 54.727272727272734%)",
           "hsl(182.12121212121212, 50.24242424242425%, 51.81818181818181%)",
           "hsl(192.06060606060606, 54.121212121212125%, 48.90909090909091%)",
           "hsl(202.0, 58.0%, 46.0%)"
          ]
         },
         "name": "Nationality",
         "text": [
          0.13,
          0.13,
          0.13,
          0.13,
          0.38999999999999996,
          1.17,
          0.13,
          0.13,
          0.13,
          0.13,
          0.26,
          1.3,
          2.48,
          0.13,
          0.13,
          15.65,
          0.13,
          0.26,
          1.43,
          0.13,
          0.13,
          0.13,
          0.52,
          0.13,
          0.26,
          0.13,
          0.13,
          28.29,
          0.13,
          0.13,
          39.900000000000006,
          0.13,
          4.95,
          0.52
         ],
         "type": "bar",
         "uid": "0fa5a7d1-ca65-492a-908c-89f9ae3e6f7f",
         "x": [
          "Albania",
          "Argentina",
          "Australia",
          "Austria",
          "Brazil",
          "Canada",
          "Chile",
          "China",
          "Colombia",
          "Cuba",
          "Dominican Rep.",
          "England",
          "France",
          "Germany",
          "Iceland",
          "India",
          "Indonesia",
          "Ireland",
          "Italy",
          "Macedonia",
          "Mexico",
          "New Zealand",
          "Niger",
          "Pakistan",
          "Russia",
          "Scotland",
          "Slovakia",
          "Spain",
          "Sudan",
          "The Bahamas",
          "USA",
          "Ukraine",
          "Unknown",
          "Venezuela"
         ],
         "y": [
          1,
          1,
          1,
          1,
          3,
          9,
          1,
          1,
          1,
          1,
          2,
          10,
          19,
          1,
          1,
          120,
          1,
          2,
          11,
          1,
          1,
          1,
          4,
          1,
          2,
          1,
          1,
          217,
          1,
          1,
          306,
          1,
          38,
          4
         ]
        }
       ],
       "layout": {
        "bargap": 0.2,
        "xaxis": {
         "title": {
          "text": "Nationality"
         }
        },
        "yaxis": {
         "title": {
          "text": "Total"
         }
        }
       }
      },
      "text/html": [
       "<div id=\"6e8ca673-8d8a-478b-902a-894d0e326294\" style=\"height: 525px; width: 100%;\" class=\"plotly-graph-div\"></div><script type=\"text/javascript\">require([\"plotly\"], function(Plotly) { window.PLOTLYENV=window.PLOTLYENV || {};window.PLOTLYENV.BASE_URL=\"https://plot.ly\";\n",
       "if (document.getElementById(\"6e8ca673-8d8a-478b-902a-894d0e326294\")) {\n",
       "    Plotly.newPlot(\"6e8ca673-8d8a-478b-902a-894d0e326294\", [{\"marker\": {\"color\": [\"hsl(353.0, 64.0%, 53.0%)\", \"hsl(358.09090909090907, 69.81818181818181%, 54.696969696969695%)\", \"hsl(3.181818181818187, 75.63636363636364%, 56.39393939393939%)\", \"hsl(8.272727272727252, 81.45454545454545%, 58.09090909090909%)\", \"hsl(13.363636363636374, 87.27272727272728%, 59.78787878787879%)\", \"hsl(17.181818181818183, 89.9090909090909%, 61.696969696969695%)\", \"hsl(20.81818181818182, 92.0909090909091%, 63.63636363636364%)\", \"hsl(24.454545454545453, 94.27272727272728%, 65.57575757575758%)\", \"hsl(28.090909090909093, 96.45454545454545%, 67.51515151515152%)\", \"hsl(31.727272727272727, 97.18181818181819%, 69.63636363636364%)\", \"hsl(35.36363636363637, 97.42424242424242%, 71.81818181818181%)\", \"hsl(39.0, 97.66666666666667%, 74.0%)\", \"hsl(42.63636363636364, 97.9090909090909%, 76.18181818181819%)\", \"hsl(46.42424242424242, 98.3030303030303%, 78.51515151515152%)\", \"hsl(50.303030303030305, 98.78787878787878%, 80.93939393939394%)\", \"hsl(54.18181818181818, 99.27272727272727%, 83.36363636363636%)\", \"hsl(58.06060606060606, 99.75757575757575%, 85.78787878787878%)\", \"hsl(61.09090909090909, 97.81818181818181%, 85.78787878787878%)\", \"hsl(63.272727272727266, 93.45454545454547%, 83.36363636363637%)\", \"hsl(65.45454545454545, 89.09090909090908%, 80.93939393939394%)\", \"hsl(67.63636363636364, 84.72727272727272%, 78.51515151515152%)\", \"hsl(72.9090909090909, 78.63636363636364%, 76.81818181818181%)\", \"hsl(83.33333333333331, 69.66666666666669%, 76.33333333333333%)\", \"hsl(93.75757575757578, 60.69696969696968%, 75.84848484848484%)\", \"hsl(104.18181818181819, 51.72727272727272%, 75.36363636363636%)\", \"hsl(114.96969696969697, 44.81818181818182%, 73.96969696969697%)\", \"hsl(126.84848484848483, 44.09090909090909%, 69.84848484848486%)\", \"hsl(138.72727272727275, 43.36363636363636%, 65.72727272727272%)\", \"hsl(150.60606060606062, 42.63636363636363%, 61.6060606060606%)\", \"hsl(162.24242424242425, 42.484848484848484%, 57.63636363636364%)\", \"hsl(172.1818181818182, 46.36363636363636%, 54.727272727272734%)\", \"hsl(182.12121212121212, 50.24242424242425%, 51.81818181818181%)\", \"hsl(192.06060606060606, 54.121212121212125%, 48.90909090909091%)\", \"hsl(202.0, 58.0%, 46.0%)\"]}, \"name\": \"Nationality\", \"text\": [0.13, 0.13, 0.13, 0.13, 0.38999999999999996, 1.17, 0.13, 0.13, 0.13, 0.13, 0.26, 1.3, 2.48, 0.13, 0.13, 15.65, 0.13, 0.26, 1.43, 0.13, 0.13, 0.13, 0.52, 0.13, 0.26, 0.13, 0.13, 28.29, 0.13, 0.13, 39.900000000000006, 0.13, 4.95, 0.52], \"x\": [\"Albania\", \"Argentina\", \"Australia\", \"Austria\", \"Brazil\", \"Canada\", \"Chile\", \"China\", \"Colombia\", \"Cuba\", \"Dominican Rep.\", \"England\", \"France\", \"Germany\", \"Iceland\", \"India\", \"Indonesia\", \"Ireland\", \"Italy\", \"Macedonia\", \"Mexico\", \"New Zealand\", \"Niger\", \"Pakistan\", \"Russia\", \"Scotland\", \"Slovakia\", \"Spain\", \"Sudan\", \"The Bahamas\", \"USA\", \"Ukraine\", \"Unknown\", \"Venezuela\"], \"y\": [1, 1, 1, 1, 3, 9, 1, 1, 1, 1, 2, 10, 19, 1, 1, 120, 1, 2, 11, 1, 1, 1, 4, 1, 2, 1, 1, 217, 1, 1, 306, 1, 38, 4], \"type\": \"bar\", \"uid\": \"0fa5a7d1-ca65-492a-908c-89f9ae3e6f7f\"}], {\"bargap\": 0.2, \"xaxis\": {\"title\": {\"text\": \"Nationality\"}}, \"yaxis\": {\"title\": {\"text\": \"Total\"}}}, {\"showLink\": false, \"linkText\": \"Export to plot.ly\", \"plotlyServerURL\": \"https://plot.ly\"}); \n",
       "}\n",
       "});</script><script type=\"text/javascript\">window.addEventListener(\"resize\", function(){if (document.getElementById(\"6e8ca673-8d8a-478b-902a-894d0e326294\")) {window._Plotly.Plots.resize(document.getElementById(\"6e8ca673-8d8a-478b-902a-894d0e326294\"));};})</script>"
      ],
      "text/vnd.plotly.v1+html": [
       "<div id=\"6e8ca673-8d8a-478b-902a-894d0e326294\" style=\"height: 525px; width: 100%;\" class=\"plotly-graph-div\"></div><script type=\"text/javascript\">require([\"plotly\"], function(Plotly) { window.PLOTLYENV=window.PLOTLYENV || {};window.PLOTLYENV.BASE_URL=\"https://plot.ly\";\n",
       "if (document.getElementById(\"6e8ca673-8d8a-478b-902a-894d0e326294\")) {\n",
       "    Plotly.newPlot(\"6e8ca673-8d8a-478b-902a-894d0e326294\", [{\"marker\": {\"color\": [\"hsl(353.0, 64.0%, 53.0%)\", \"hsl(358.09090909090907, 69.81818181818181%, 54.696969696969695%)\", \"hsl(3.181818181818187, 75.63636363636364%, 56.39393939393939%)\", \"hsl(8.272727272727252, 81.45454545454545%, 58.09090909090909%)\", \"hsl(13.363636363636374, 87.27272727272728%, 59.78787878787879%)\", \"hsl(17.181818181818183, 89.9090909090909%, 61.696969696969695%)\", \"hsl(20.81818181818182, 92.0909090909091%, 63.63636363636364%)\", \"hsl(24.454545454545453, 94.27272727272728%, 65.57575757575758%)\", \"hsl(28.090909090909093, 96.45454545454545%, 67.51515151515152%)\", \"hsl(31.727272727272727, 97.18181818181819%, 69.63636363636364%)\", \"hsl(35.36363636363637, 97.42424242424242%, 71.81818181818181%)\", \"hsl(39.0, 97.66666666666667%, 74.0%)\", \"hsl(42.63636363636364, 97.9090909090909%, 76.18181818181819%)\", \"hsl(46.42424242424242, 98.3030303030303%, 78.51515151515152%)\", \"hsl(50.303030303030305, 98.78787878787878%, 80.93939393939394%)\", \"hsl(54.18181818181818, 99.27272727272727%, 83.36363636363636%)\", \"hsl(58.06060606060606, 99.75757575757575%, 85.78787878787878%)\", \"hsl(61.09090909090909, 97.81818181818181%, 85.78787878787878%)\", \"hsl(63.272727272727266, 93.45454545454547%, 83.36363636363637%)\", \"hsl(65.45454545454545, 89.09090909090908%, 80.93939393939394%)\", \"hsl(67.63636363636364, 84.72727272727272%, 78.51515151515152%)\", \"hsl(72.9090909090909, 78.63636363636364%, 76.81818181818181%)\", \"hsl(83.33333333333331, 69.66666666666669%, 76.33333333333333%)\", \"hsl(93.75757575757578, 60.69696969696968%, 75.84848484848484%)\", \"hsl(104.18181818181819, 51.72727272727272%, 75.36363636363636%)\", \"hsl(114.96969696969697, 44.81818181818182%, 73.96969696969697%)\", \"hsl(126.84848484848483, 44.09090909090909%, 69.84848484848486%)\", \"hsl(138.72727272727275, 43.36363636363636%, 65.72727272727272%)\", \"hsl(150.60606060606062, 42.63636363636363%, 61.6060606060606%)\", \"hsl(162.24242424242425, 42.484848484848484%, 57.63636363636364%)\", \"hsl(172.1818181818182, 46.36363636363636%, 54.727272727272734%)\", \"hsl(182.12121212121212, 50.24242424242425%, 51.81818181818181%)\", \"hsl(192.06060606060606, 54.121212121212125%, 48.90909090909091%)\", \"hsl(202.0, 58.0%, 46.0%)\"]}, \"name\": \"Nationality\", \"text\": [0.13, 0.13, 0.13, 0.13, 0.38999999999999996, 1.17, 0.13, 0.13, 0.13, 0.13, 0.26, 1.3, 2.48, 0.13, 0.13, 15.65, 0.13, 0.26, 1.43, 0.13, 0.13, 0.13, 0.52, 0.13, 0.26, 0.13, 0.13, 28.29, 0.13, 0.13, 39.900000000000006, 0.13, 4.95, 0.52], \"x\": [\"Albania\", \"Argentina\", \"Australia\", \"Austria\", \"Brazil\", \"Canada\", \"Chile\", \"China\", \"Colombia\", \"Cuba\", \"Dominican Rep.\", \"England\", \"France\", \"Germany\", \"Iceland\", \"India\", \"Indonesia\", \"Ireland\", \"Italy\", \"Macedonia\", \"Mexico\", \"New Zealand\", \"Niger\", \"Pakistan\", \"Russia\", \"Scotland\", \"Slovakia\", \"Spain\", \"Sudan\", \"The Bahamas\", \"USA\", \"Ukraine\", \"Unknown\", \"Venezuela\"], \"y\": [1, 1, 1, 1, 3, 9, 1, 1, 1, 1, 2, 10, 19, 1, 1, 120, 1, 2, 11, 1, 1, 1, 4, 1, 2, 1, 1, 217, 1, 1, 306, 1, 38, 4], \"type\": \"bar\", \"uid\": \"0fa5a7d1-ca65-492a-908c-89f9ae3e6f7f\"}], {\"bargap\": 0.2, \"xaxis\": {\"title\": {\"text\": \"Nationality\"}}, \"yaxis\": {\"title\": {\"text\": \"Total\"}}}, {\"showLink\": false, \"linkText\": \"Export to plot.ly\", \"plotlyServerURL\": \"https://plot.ly\"}); \n",
       "}\n",
       "});</script><script type=\"text/javascript\">window.addEventListener(\"resize\", function(){if (document.getElementById(\"6e8ca673-8d8a-478b-902a-894d0e326294\")) {window._Plotly.Plots.resize(document.getElementById(\"6e8ca673-8d8a-478b-902a-894d0e326294\"));};})</script>"
      ]
     },
     "metadata": {},
     "output_type": "display_data"
    }
   ],
   "source": [
    "data_complete_nationality = data_complete_en.copy(deep=True)\n",
    "\n",
    "data_complete_nationality[['Nationality']] = data_complete_nationality[[\n",
    "    'Nationality']].fillna(value=33)\n",
    "\n",
    "data_complete_nationality[['Nationality']] = pd.to_numeric(\n",
    "    data_complete_nationality['Nationality'], downcast='signed', errors='coerce')\n",
    "\n",
    "# display(data_complete_nationality['Nationality'].describe())\n",
    "# display(data_complete_nationality['Nationality'].value_counts().sort_index())\n",
    "\n",
    "\n",
    "labels_nationality = ['Spain', 'Colombia', 'Mexico', 'Dominican Rep.', 'Austria',\n",
    "                      'Chile', 'France', 'Canada', 'Niger', 'China',\n",
    "                      'Australia', 'Russia', 'Germany', 'Brazil', 'USA',\n",
    "                      'India', 'Slovakia', 'Italy', 'England', 'Cuba', 'Ukraine',\n",
    "                      'Venezuela', 'Indonesia', 'Albania',\n",
    "                      'Pakistan', 'The Bahamas', 'Argentina',\n",
    "                      'Iceland', 'Scotland', 'Sudan', 'New Zealand', 'Ireland',\n",
    "                      'Macedonia', 'Unknown']\n",
    "tickvals_nationality = [0, 1, 2, 3, 4, 5, 6, 7, 8, 9, 10, 11,\n",
    "                        12, 13, 14, 15, 16, 17, 18, 19, 20, 21,\n",
    "                        22, 23, 24, 25, 26, 27, 28, 29, 30, 31,\n",
    "                        32, 33]\n",
    "\n",
    "data_complete_nationality['Nationality'].replace(\n",
    "    tickvals_nationality, labels_nationality, inplace=True)\n",
    "\n",
    "\n",
    "print('Describing the variable Nationality')\n",
    "display(data_complete_nationality['Nationality'].describe())\n",
    "print('Count of each value in Nationality expresed as nationality / amount')\n",
    "display(data_complete_nationality['Nationality'].value_counts())\n",
    "print('Percentage of each value in Nationality expresed as nationality / percentage')\n",
    "display(data_complete_nationality['Nationality'].value_counts(\n",
    "    normalize=True).round(4) * 100)\n",
    "\n",
    "data7 = [go.Bar(x=sorted(data_complete_nationality['Nationality'].unique()),\n",
    "                y=data_complete_nationality['Nationality'].value_counts(\n",
    ").sort_index(),\n",
    "    text=(data_complete_nationality['Nationality'].value_counts(\n",
    "        normalize=True).sort_index().round(4) * 100),\n",
    "    marker=dict(color=cl.interp(cl.scales['9']['div']['Spectral'], data_complete_nationality['Nationality'].nunique())),            \n",
    "    name='Nationality')]\n",
    "layout7 = go.Layout(\n",
    "    xaxis=go.layout.XAxis(\n",
    "        # ticktext=labels_nationality,\n",
    "        # tickvals=tickvals_nationality,\n",
    "        title='Nationality'\n",
    "    ),\n",
    "    yaxis=go.layout.YAxis(\n",
    "        title=\"Total\"),\n",
    "    bargap=0.2,\n",
    ")\n",
    "fig7 = go.Figure(data=data7, layout=layout7)\n",
    "iplot(fig7)\n",
    "plt.show()"
   ]
  },
  {
   "cell_type": "markdown",
   "metadata": {},
   "source": [
    "## Distribution of age based on nationality and gender"
   ]
  },
  {
   "cell_type": "code",
   "execution_count": 13,
   "metadata": {
    "scrolled": false
   },
   "outputs": [
    {
     "data": {
      "application/vnd.plotly.v1+json": {
       "config": {
        "linkText": "Export to plot.ly",
        "plotlyServerURL": "https://plot.ly",
        "showLink": false
       },
       "data": [
        {
         "marker": {
          "color": "rgb(102,194,165)",
          "opacity": [
           [
            0.7
           ],
           [
            0.7
           ],
           [
            0.7
           ],
           [
            0.7
           ],
           [
            0.7
           ],
           [
            0.7
           ],
           [
            0.7
           ],
           [
            0.7
           ],
           [
            0.7
           ],
           [
            0.7
           ],
           [
            0.7
           ],
           [
            0.7
           ],
           [
            0.7
           ],
           [
            0.7
           ],
           [
            0.7
           ],
           [
            0.7
           ],
           [
            0.7
           ],
           [
            0.7
           ],
           [
            0.7
           ],
           [
            0.7
           ],
           [
            0.7
           ],
           [
            0.7
           ],
           [
            0.7
           ],
           [
            0.7
           ],
           [
            0.7
           ],
           [
            0.7
           ],
           [
            0.7
           ],
           [
            0.7
           ],
           [
            0.7
           ],
           [
            0.7
           ],
           [
            0.7
           ],
           [
            0.7
           ],
           [
            0.7
           ],
           [
            0.7
           ],
           [
            0.7
           ],
           [
            0.7
           ],
           [
            0.7
           ],
           [
            0.7
           ],
           [
            0.7
           ],
           [
            0.7
           ],
           [
            0.7
           ],
           [
            0.7
           ],
           [
            0.7
           ],
           [
            0.7
           ],
           [
            0.7
           ],
           [
            0.7
           ],
           [
            0.7
           ],
           [
            0.7
           ],
           [
            0.7
           ],
           [
            0.7
           ],
           [
            0.7
           ],
           [
            0.7
           ],
           [
            0.7
           ],
           [
            0.7
           ],
           [
            0.7
           ],
           [
            0.7
           ],
           [
            0.7
           ],
           [
            0.7
           ],
           [
            0.7
           ],
           [
            0.7
           ],
           [
            0.7
           ],
           [
            0.7
           ],
           [
            0.7
           ],
           [
            0.7
           ],
           [
            0.7
           ],
           [
            0.7
           ],
           [
            0.7
           ],
           [
            0.7
           ],
           [
            0.7
           ],
           [
            0.7
           ],
           [
            0.7
           ],
           [
            0.7
           ],
           [
            0.7
           ],
           [
            0.7
           ],
           [
            0.7
           ],
           [
            0.7
           ],
           [
            0.7
           ],
           [
            0.7
           ],
           [
            0.7
           ],
           [
            0.7
           ],
           [
            0.7
           ],
           [
            0.7
           ],
           [
            0.7
           ],
           [
            0.7
           ],
           [
            0.7
           ],
           [
            0.7
           ],
           [
            0.7
           ],
           [
            0.7
           ],
           [
            0.7
           ],
           [
            0.7
           ],
           [
            0.7
           ],
           [
            0.7
           ],
           [
            0.7
           ],
           [
            0.7
           ],
           [
            0.7
           ],
           [
            0.7
           ],
           [
            0.7
           ],
           [
            0.7
           ],
           [
            0.7
           ],
           [
            0.7
           ],
           [
            0.7
           ],
           [
            0.7
           ],
           [
            0.7
           ],
           [
            0.7
           ],
           [
            0.7
           ],
           [
            0.7
           ],
           [
            0.7
           ],
           [
            0.7
           ],
           [
            0.7
           ],
           [
            0.7
           ],
           [
            0.7
           ],
           [
            0.7
           ],
           [
            0.7
           ],
           [
            0.7
           ],
           [
            0.7
           ],
           [
            0.7
           ],
           [
            0.7
           ],
           [
            0.7
           ],
           [
            0.7
           ],
           [
            0.7
           ],
           [
            0.7
           ],
           [
            0.7
           ],
           [
            0.7
           ],
           [
            0.7
           ],
           [
            0.7
           ],
           [
            0.7
           ],
           [
            0.7
           ],
           [
            0.7
           ],
           [
            0.7
           ],
           [
            0.7
           ],
           [
            0.7
           ],
           [
            0.7
           ],
           [
            0.7
           ],
           [
            0.7
           ],
           [
            0.7
           ],
           [
            0.7
           ],
           [
            0.7
           ],
           [
            0.7
           ],
           [
            0.7
           ],
           [
            0.7
           ],
           [
            0.7
           ],
           [
            0.7
           ],
           [
            0.7
           ],
           [
            0.7
           ],
           [
            0.7
           ],
           [
            0.7
           ],
           [
            0.7
           ],
           [
            0.7
           ],
           [
            0.7
           ],
           [
            0.7
           ],
           [
            0.7
           ],
           [
            0.7
           ],
           [
            0.7
           ],
           [
            0.7
           ],
           [
            0.7
           ],
           [
            0.7
           ],
           [
            0.7
           ],
           [
            0.7
           ],
           [
            0.7
           ],
           [
            0.7
           ],
           [
            0.7
           ],
           [
            0.7
           ],
           [
            0.7
           ],
           [
            0.7
           ],
           [
            0.7
           ],
           [
            0.7
           ],
           [
            0.7
           ],
           [
            0.7
           ],
           [
            0.7
           ],
           [
            0.7
           ],
           [
            0.7
           ],
           [
            0.7
           ],
           [
            0.7
           ],
           [
            0.7
           ],
           [
            0.7
           ],
           [
            0.7
           ],
           [
            0.7
           ],
           [
            0.7
           ],
           [
            0.7
           ],
           [
            0.7
           ],
           [
            0.7
           ],
           [
            0.7
           ],
           [
            0.7
           ],
           [
            0.7
           ],
           [
            0.7
           ],
           [
            0.7
           ],
           [
            0.7
           ],
           [
            0.7
           ],
           [
            0.7
           ],
           [
            0.7
           ],
           [
            0.7
           ],
           [
            0.7
           ],
           [
            0.7
           ],
           [
            0.7
           ],
           [
            0.7
           ],
           [
            0.7
           ],
           [
            0.7
           ],
           [
            0.7
           ],
           [
            0.7
           ],
           [
            0.7
           ],
           [
            0.7
           ],
           [
            0.7
           ],
           [
            0.7
           ],
           [
            0.7
           ],
           [
            0.7
           ],
           [
            0.7
           ],
           [
            0.7
           ],
           [
            0.7
           ],
           [
            0.7
           ],
           [
            0.7
           ],
           [
            0.7
           ],
           [
            0.7
           ],
           [
            0.7
           ],
           [
            0.7
           ],
           [
            0.7
           ],
           [
            0.7
           ],
           [
            0.7
           ],
           [
            0.7
           ],
           [
            0.7
           ],
           [
            0.7
           ],
           [
            0.7
           ],
           [
            0.7
           ],
           [
            0.7
           ],
           [
            0.7
           ],
           [
            0.7
           ],
           [
            0.7
           ],
           [
            0.7
           ],
           [
            0.7
           ],
           [
            0.7
           ],
           [
            0.7
           ],
           [
            0.7
           ],
           [
            0.7
           ],
           [
            0.7
           ],
           [
            0.7
           ],
           [
            0.7
           ],
           [
            0.7
           ],
           [
            0.7
           ],
           [
            0.7
           ],
           [
            0.7
           ],
           [
            0.7
           ],
           [
            0.7
           ],
           [
            0.7
           ],
           [
            0.7
           ],
           [
            0.7
           ],
           [
            0.7
           ],
           [
            0.7
           ],
           [
            0.7
           ],
           [
            0.7
           ],
           [
            0.7
           ],
           [
            0.7
           ],
           [
            0.7
           ],
           [
            0.7
           ],
           [
            0.7
           ],
           [
            0.7
           ],
           [
            0.7
           ],
           [
            0.7
           ],
           [
            0.7
           ],
           [
            0.7
           ],
           [
            0.7
           ],
           [
            0.7
           ],
           [
            0.7
           ],
           [
            0.7
           ],
           [
            0.7
           ],
           [
            0.7
           ],
           [
            0.7
           ],
           [
            0.7
           ],
           [
            0.7
           ],
           [
            0.7
           ],
           [
            0.7
           ],
           [
            0.7
           ],
           [
            0.7
           ],
           [
            0.7
           ],
           [
            0.7
           ],
           [
            0.7
           ],
           [
            0.7
           ],
           [
            0.7
           ],
           [
            0.7
           ],
           [
            0.7
           ],
           [
            0.7
           ],
           [
            0.7
           ],
           [
            0.7
           ],
           [
            0.7
           ],
           [
            0.7
           ],
           [
            0.7
           ],
           [
            0.7
           ],
           [
            0.7
           ],
           [
            0.7
           ],
           [
            0.7
           ],
           [
            0.7
           ],
           [
            0.7
           ],
           [
            0.7
           ],
           [
            0.7
           ],
           [
            0.7
           ],
           [
            0.7
           ],
           [
            0.7
           ],
           [
            0.7
           ],
           [
            0.7
           ],
           [
            0.7
           ],
           [
            0.7
           ],
           [
            0.7
           ],
           [
            0.7
           ],
           [
            0.7
           ],
           [
            0.7
           ],
           [
            0.7
           ],
           [
            0.7
           ],
           [
            0.7
           ],
           [
            0.7
           ],
           [
            0.7
           ],
           [
            0.7
           ],
           [
            0.7
           ],
           [
            0.7
           ],
           [
            0.7
           ],
           [
            0.7
           ],
           [
            0.7
           ],
           [
            0.7
           ],
           [
            0.7
           ],
           [
            0.7
           ],
           [
            0.7
           ],
           [
            0.7
           ],
           [
            0.7
           ],
           [
            0.7
           ],
           [
            0.7
           ],
           [
            0.7
           ],
           [
            0.7
           ],
           [
            0.7
           ],
           [
            0.7
           ],
           [
            0.7
           ],
           [
            0.7
           ],
           [
            0.7
           ],
           [
            0.7
           ],
           [
            0.7
           ],
           [
            0.7
           ],
           [
            0.7
           ],
           [
            0.7
           ],
           [
            0.7
           ],
           [
            0.7
           ],
           [
            0.7
           ],
           [
            0.7
           ],
           [
            0.7
           ],
           [
            0.7
           ],
           [
            0.7
           ],
           [
            0.7
           ],
           [
            0.7
           ],
           [
            0.7
           ],
           [
            0.7
           ],
           [
            0.7
           ],
           [
            0.7
           ],
           [
            0.7
           ],
           [
            0.7
           ],
           [
            0.7
           ],
           [
            0.7
           ],
           [
            0.7
           ],
           [
            0.7
           ],
           [
            0.7
           ],
           [
            0.7
           ],
           [
            0.7
           ],
           [
            0.7
           ],
           [
            0.7
           ],
           [
            0.7
           ],
           [
            0.7
           ],
           [
            0.7
           ],
           [
            0.7
           ],
           [
            0.7
           ],
           [
            0.7
           ],
           [
            0.7
           ],
           [
            0.7
           ],
           [
            0.7
           ],
           [
            0.7
           ],
           [
            0.7
           ],
           [
            0.7
           ],
           [
            0.7
           ],
           [
            0.7
           ],
           [
            0.7
           ],
           [
            0.7
           ],
           [
            0.7
           ],
           [
            0.7
           ],
           [
            0.7
           ],
           [
            0.7
           ],
           [
            0.7
           ],
           [
            0.7
           ],
           [
            0.7
           ],
           [
            0.7
           ],
           [
            0.7
           ],
           [
            0.7
           ],
           [
            0.7
           ],
           [
            0.7
           ],
           [
            0.7
           ],
           [
            0.7
           ],
           [
            0.7
           ],
           [
            0.7
           ],
           [
            0.7
           ],
           [
            0.7
           ],
           [
            0.7
           ],
           [
            0.7
           ],
           [
            0.7
           ],
           [
            0.7
           ],
           [
            0.7
           ],
           [
            0.7
           ],
           [
            0.7
           ],
           [
            0.7
           ],
           [
            0.7
           ],
           [
            0.7
           ],
           [
            0.7
           ],
           [
            0.7
           ],
           [
            0.7
           ],
           [
            0.7
           ],
           [
            0.7
           ],
           [
            0.7
           ],
           [
            0.7
           ],
           [
            0.7
           ],
           [
            0.7
           ],
           [
            0.7
           ],
           [
            0.7
           ],
           [
            0.7
           ],
           [
            0.7
           ],
           [
            0.7
           ],
           [
            0.7
           ],
           [
            0.7
           ],
           [
            0.7
           ],
           [
            0.7
           ],
           [
            0.7
           ],
           [
            0.7
           ],
           [
            0.7
           ],
           [
            0.7
           ],
           [
            0.7
           ],
           [
            0.7
           ],
           [
            0.7
           ],
           [
            0.7
           ],
           [
            0.7
           ],
           [
            0.7
           ],
           [
            0.7
           ],
           [
            0.7
           ],
           [
            0.7
           ],
           [
            0.7
           ],
           [
            0.7
           ],
           [
            0.7
           ],
           [
            0.7
           ],
           [
            0.7
           ],
           [
            0.7
           ],
           [
            0.7
           ],
           [
            0.7
           ],
           [
            0.7
           ],
           [
            0.7
           ],
           [
            0.7
           ],
           [
            0.7
           ],
           [
            0.7
           ],
           [
            0.7
           ],
           [
            0.7
           ],
           [
            0.7
           ],
           [
            0.7
           ],
           [
            0.7
           ],
           [
            0.7
           ],
           [
            0.7
           ],
           [
            0.7
           ],
           [
            0.7
           ],
           [
            0.7
           ],
           [
            0.7
           ],
           [
            0.7
           ],
           [
            0.7
           ],
           [
            0.7
           ],
           [
            0.7
           ],
           [
            0.7
           ],
           [
            0.7
           ],
           [
            0.7
           ],
           [
            0.7
           ],
           [
            0.7
           ],
           [
            0.7
           ],
           [
            0.7
           ],
           [
            0.7
           ],
           [
            0.7
           ],
           [
            0.7
           ],
           [
            0.7
           ],
           [
            0.7
           ],
           [
            0.7
           ],
           [
            0.7
           ],
           [
            0.7
           ],
           [
            0.7
           ],
           [
            0.7
           ],
           [
            0.7
           ],
           [
            0.7
           ],
           [
            0.7
           ],
           [
            0.7
           ],
           [
            0.7
           ],
           [
            0.7
           ],
           [
            0.7
           ],
           [
            0.7
           ],
           [
            0.7
           ],
           [
            0.7
           ],
           [
            0.7
           ],
           [
            0.7
           ],
           [
            0.7
           ],
           [
            0.7
           ],
           [
            0.7
           ],
           [
            0.7
           ],
           [
            0.7
           ],
           [
            0.7
           ],
           [
            0.7
           ],
           [
            0.7
           ],
           [
            0.7
           ],
           [
            0.7
           ],
           [
            0.7
           ],
           [
            0.7
           ],
           [
            0.7
           ],
           [
            0.7
           ],
           [
            0.7
           ],
           [
            0.7
           ],
           [
            0.7
           ],
           [
            0.7
           ],
           [
            0.7
           ],
           [
            0.7
           ],
           [
            0.7
           ],
           [
            0.7
           ],
           [
            0.7
           ],
           [
            0.7
           ],
           [
            0.7
           ],
           [
            0.7
           ],
           [
            0.7
           ],
           [
            0.7
           ],
           [
            0.7
           ],
           [
            0.7
           ],
           [
            0.7
           ],
           [
            0.7
           ],
           [
            0.7
           ],
           [
            0.7
           ],
           [
            0.7
           ],
           [
            0.7
           ],
           [
            0.7
           ],
           [
            0.7
           ],
           [
            0.7
           ],
           [
            0.7
           ],
           [
            0.7
           ],
           [
            0.7
           ],
           [
            0.7
           ],
           [
            0.7
           ],
           [
            0.7
           ],
           [
            0.7
           ],
           [
            0.7
           ],
           [
            0.7
           ],
           [
            0.7
           ],
           [
            0.7
           ],
           [
            0.7
           ],
           [
            0.7
           ],
           [
            0.7
           ],
           [
            0.7
           ],
           [
            0.7
           ],
           [
            0.7
           ],
           [
            0.7
           ],
           [
            0.7
           ],
           [
            0.7
           ],
           [
            0.7
           ],
           [
            0.7
           ],
           [
            0.7
           ],
           [
            0.7
           ],
           [
            0.7
           ],
           [
            0.7
           ],
           [
            0.7
           ],
           [
            0.7
           ],
           [
            0.7
           ],
           [
            0.7
           ],
           [
            0.7
           ],
           [
            0.7
           ],
           [
            0.7
           ],
           [
            0.7
           ],
           [
            0.7
           ],
           [
            0.7
           ],
           [
            0.7
           ],
           [
            0.7
           ],
           [
            0.7
           ],
           [
            0.7
           ],
           [
            0.7
           ],
           [
            0.7
           ],
           [
            0.7
           ],
           [
            0.7
           ],
           [
            0.7
           ],
           [
            0.7
           ],
           [
            0.7
           ],
           [
            0.7
           ],
           [
            0.7
           ],
           [
            0.7
           ],
           [
            0.7
           ],
           [
            0.7
           ],
           [
            0.7
           ],
           [
            0.7
           ],
           [
            0.7
           ],
           [
            0.7
           ],
           [
            0.7
           ],
           [
            0.7
           ],
           [
            0.7
           ],
           [
            0.7
           ],
           [
            0.7
           ],
           [
            0.7
           ],
           [
            0.7
           ],
           [
            0.7
           ],
           [
            0.7
           ],
           [
            0.7
           ],
           [
            0.7
           ],
           [
            0.7
           ],
           [
            0.7
           ],
           [
            0.7
           ],
           [
            0.7
           ],
           [
            0.7
           ],
           [
            0.7
           ],
           [
            0.7
           ],
           [
            0.7
           ],
           [
            0.7
           ],
           [
            0.7
           ],
           [
            0.7
           ],
           [
            0.7
           ],
           [
            0.7
           ],
           [
            0.7
           ],
           [
            0.7
           ],
           [
            0.7
           ],
           [
            0.7
           ],
           [
            0.7
           ],
           [
            0.7
           ],
           [
            0.7
           ],
           [
            0.7
           ],
           [
            0.7
           ],
           [
            0.7
           ],
           [
            0.7
           ],
           [
            0.7
           ],
           [
            0.7
           ],
           [
            0.7
           ],
           [
            0.7
           ],
           [
            0.7
           ],
           [
            0.7
           ],
           [
            0.7
           ],
           [
            0.7
           ],
           [
            0.7
           ],
           [
            0.7
           ],
           [
            0.7
           ],
           [
            0.7
           ],
           [
            0.7
           ],
           [
            0.7
           ],
           [
            0.7
           ],
           [
            0.7
           ],
           [
            0.7
           ],
           [
            0.7
           ],
           [
            0.7
           ],
           [
            0.7
           ],
           [
            0.7
           ],
           [
            0.7
           ],
           [
            0.7
           ],
           [
            0.7
           ],
           [
            0.7
           ],
           [
            0.7
           ],
           [
            0.7
           ],
           [
            0.7
           ],
           [
            0.7
           ],
           [
            0.7
           ],
           [
            0.7
           ],
           [
            0.7
           ],
           [
            0.7
           ],
           [
            0.7
           ],
           [
            0.7
           ],
           [
            0.7
           ],
           [
            0.7
           ],
           [
            0.7
           ],
           [
            0.7
           ],
           [
            0.7
           ],
           [
            0.7
           ],
           [
            0.7
           ],
           [
            0.7
           ],
           [
            0.7
           ],
           [
            0.7
           ],
           [
            0.7
           ],
           [
            0.7
           ],
           [
            0.7
           ],
           [
            0.7
           ],
           [
            0.7
           ],
           [
            0.7
           ],
           [
            0.7
           ],
           [
            0.7
           ],
           [
            0.7
           ],
           [
            0.7
           ],
           [
            0.7
           ],
           [
            0.7
           ],
           [
            0.7
           ],
           [
            0.7
           ],
           [
            0.7
           ],
           [
            0.7
           ],
           [
            0.7
           ],
           [
            0.7
           ],
           [
            0.7
           ],
           [
            0.7
           ],
           [
            0.7
           ],
           [
            0.7
           ],
           [
            0.7
           ],
           [
            0.7
           ],
           [
            0.7
           ],
           [
            0.7
           ],
           [
            0.7
           ],
           [
            0.7
           ],
           [
            0.7
           ],
           [
            0.7
           ],
           [
            0.7
           ],
           [
            0.7
           ],
           [
            0.7
           ],
           [
            0.7
           ],
           [
            0.7
           ],
           [
            0.7
           ],
           [
            0.7
           ],
           [
            0.7
           ],
           [
            0.7
           ],
           [
            0.7
           ],
           [
            0.7
           ],
           [
            0.7
           ],
           [
            0.7
           ],
           [
            0.7
           ],
           [
            0.7
           ],
           [
            0.7
           ],
           [
            0.7
           ],
           [
            0.7
           ],
           [
            0.7
           ],
           [
            0.7
           ],
           [
            0.7
           ],
           [
            0.7
           ],
           [
            0.7
           ],
           [
            0.7
           ],
           [
            0.7
           ],
           [
            0.7
           ],
           [
            0.7
           ],
           [
            0.7
           ],
           [
            0.7
           ],
           [
            0.7
           ],
           [
            0.7
           ],
           [
            0.7
           ],
           [
            0.7
           ],
           [
            0.7
           ],
           [
            0.7
           ],
           [
            0.7
           ],
           [
            0.7
           ],
           [
            0.7
           ],
           [
            0.7
           ],
           [
            0.7
           ],
           [
            0.7
           ],
           [
            0.7
           ],
           [
            0.7
           ],
           [
            0.7
           ],
           [
            0.7
           ],
           [
            0.7
           ],
           [
            0.7
           ],
           [
            0.7
           ],
           [
            0.7
           ],
           [
            0.7
           ],
           [
            0.7
           ],
           [
            0.7
           ],
           [
            0.7
           ],
           [
            0.7
           ],
           [
            0.7
           ],
           [
            0.7
           ],
           [
            0.7
           ],
           [
            0.7
           ],
           [
            0.7
           ],
           [
            0.7
           ],
           [
            0.7
           ],
           [
            0.7
           ],
           [
            0.7
           ],
           [
            0.7
           ],
           [
            0.7
           ],
           [
            0.7
           ],
           [
            0.7
           ],
           [
            0.7
           ],
           [
            0.7
           ],
           [
            0.7
           ],
           [
            0.7
           ],
           [
            0.7
           ]
          ],
          "size": [
           85,
           35,
           35,
           20,
           20,
           20,
           20,
           20,
           15,
           15,
           15,
           15,
           10,
           10,
           10,
           10,
           5,
           5,
           5,
           5,
           5,
           5,
           5,
           5,
           5,
           5,
           5,
           5,
           5,
           5,
           5,
           5,
           5,
           5,
           5,
           5,
           5,
           5,
           5,
           5,
           5,
           5,
           5,
           5,
           5,
           5,
           5,
           5,
           5,
           5,
           5,
           5,
           5,
           5,
           5,
           5,
           5,
           70,
           65,
           45,
           40,
           40,
           35,
           35,
           30,
           30,
           25,
           25,
           25,
           20,
           20,
           20,
           20,
           20,
           20,
           10,
           10,
           10,
           10,
           10,
           10,
           10,
           10,
           5,
           5,
           5,
           5,
           5,
           5,
           5,
           5,
           5,
           5,
           5,
           5,
           5,
           5,
           5,
           55,
           35,
           25,
           25,
           20,
           20,
           15,
           15,
           15,
           10,
           10,
           10,
           10,
           10,
           10,
           10,
           10,
           10,
           5,
           5,
           5,
           5,
           5,
           5,
           5,
           5,
           10,
           10,
           10,
           5,
           5,
           5,
           5,
           5,
           5,
           5,
           5,
           5,
           5,
           5,
           5,
           5,
           5,
           5,
           5,
           5,
           5,
           5,
           5,
           5
          ]
         },
         "mode": "markers",
         "name": "Male",
         "type": "scatter",
         "uid": "09df42c3-8387-423f-a087-8be3059d14f9",
         "x": [
          0,
          0,
          0,
          3,
          0,
          0,
          0,
          0,
          0,
          0,
          0,
          0,
          0,
          0,
          0,
          0,
          0,
          0,
          0,
          0,
          0,
          0,
          0,
          0,
          0,
          0,
          6,
          0,
          0,
          0,
          0,
          0,
          0,
          0,
          0,
          0,
          0,
          0,
          0,
          0,
          0,
          0,
          0,
          0,
          0,
          0,
          0,
          6,
          0,
          0,
          0,
          0,
          0,
          0,
          0,
          0,
          0,
          0,
          0,
          0,
          0,
          8,
          0,
          0,
          10,
          6,
          0,
          0,
          0,
          0,
          0,
          0,
          0,
          0,
          0,
          0,
          0,
          8,
          8,
          0,
          0,
          0,
          0,
          0,
          0,
          0,
          0,
          0,
          0,
          0,
          0,
          9,
          0,
          0,
          0,
          0,
          0,
          14,
          0,
          0,
          14,
          16,
          15,
          17,
          15,
          33,
          15,
          15,
          15,
          14,
          14,
          14,
          15,
          14,
          14,
          15,
          14,
          14,
          14,
          14,
          14,
          14,
          15,
          14,
          14,
          14,
          14,
          14,
          14,
          14,
          14,
          15,
          15,
          14,
          33,
          14,
          17,
          7,
          14,
          14,
          14,
          14,
          14,
          15,
          15,
          33,
          15,
          18,
          15,
          13,
          14,
          14,
          15,
          14,
          14,
          15,
          14,
          8,
          14,
          15,
          17,
          15,
          14,
          14,
          15,
          0,
          14,
          14,
          14,
          15,
          23,
          2,
          15,
          14,
          33,
          14,
          14,
          15,
          14,
          14,
          33,
          14,
          14,
          13,
          14,
          14,
          14,
          7,
          14,
          14,
          15,
          14,
          14,
          14,
          14,
          15,
          15,
          17,
          15,
          15,
          26,
          15,
          14,
          15,
          14,
          14,
          14,
          27,
          14,
          14,
          7,
          14,
          15,
          15,
          14,
          14,
          15,
          14,
          15,
          15,
          14,
          15,
          14,
          7,
          14,
          14,
          14,
          14,
          15,
          14,
          6,
          15,
          17,
          14,
          14,
          14,
          14,
          18,
          14,
          17,
          14,
          14,
          15,
          15,
          14,
          14,
          14,
          14,
          14,
          14,
          11,
          15,
          14,
          14,
          14,
          15,
          29,
          14,
          14,
          15,
          14,
          14,
          15,
          15,
          15,
          18,
          15,
          15,
          14,
          14,
          14,
          15,
          15,
          14,
          14,
          15,
          14,
          14,
          14,
          14,
          17,
          14,
          18,
          17,
          15,
          14,
          15,
          14,
          15,
          14,
          14,
          14,
          14,
          32,
          14,
          18,
          14,
          15,
          14,
          18,
          15,
          15,
          14,
          14,
          14,
          14,
          22,
          14,
          14,
          14,
          7,
          14,
          14,
          14,
          14,
          14,
          14,
          14,
          14,
          14,
          6,
          14,
          14,
          15,
          15,
          14,
          14,
          21,
          14,
          21,
          14,
          14,
          14,
          14,
          15,
          14,
          15,
          14,
          15,
          14,
          15,
          15,
          15,
          15,
          15,
          14,
          14,
          15,
          15,
          15,
          14,
          15,
          14,
          14,
          14,
          14,
          14,
          14
         ],
         "y": [
          37,
          62,
          28,
          30,
          60,
          20,
          31,
          33,
          23,
          21,
          29,
          29,
          36,
          38,
          33,
          19,
          25,
          67,
          23,
          70,
          36,
          17,
          17,
          18,
          15,
          15,
          23,
          14,
          21,
          30,
          53,
          29,
          30,
          20,
          30,
          20,
          15,
          14,
          14,
          14,
          14,
          14,
          15,
          14,
          15,
          31,
          30,
          19,
          16,
          16,
          15,
          16,
          18,
          15,
          19,
          34,
          35,
          38,
          20,
          23,
          21,
          18,
          61,
          57,
          41,
          26,
          46,
          28,
          22,
          47,
          42,
          31,
          28,
          23,
          18,
          21,
          14,
          15,
          16,
          14,
          14,
          24,
          64,
          32,
          21,
          13,
          14,
          16,
          14,
          14,
          14,
          14,
          14,
          14,
          14,
          19,
          18,
          45,
          21,
          21,
          27,
          28,
          32,
          29,
          22,
          29,
          21,
          28,
          26,
          27,
          32,
          32,
          40,
          27,
          26,
          31,
          34,
          25,
          28,
          30,
          46,
          28,
          28,
          30,
          24,
          27,
          38,
          31,
          24,
          28,
          46,
          26,
          22,
          38,
          26,
          27,
          40,
          26,
          34,
          31,
          29,
          32,
          47,
          34,
          28,
          36,
          34,
          33,
          43,
          35,
          39,
          42,
          32,
          33,
          24,
          24,
          47,
          27,
          47,
          24,
          29,
          34,
          29,
          39,
          42,
          43,
          42,
          28,
          35,
          36,
          24,
          22,
          27,
          53,
          28,
          31,
          60,
          34,
          39,
          69,
          21,
          43,
          34,
          19,
          30,
          29,
          33,
          65,
          30,
          38,
          28,
          47,
          23,
          39,
          30,
          39,
          29,
          22,
          42,
          37,
          36,
          44,
          36,
          29,
          63,
          32,
          37,
          27,
          35,
          26,
          32,
          32,
          28,
          33,
          29,
          39,
          35,
          31,
          25,
          36,
          36,
          30,
          30,
          34,
          27,
          57,
          44,
          36,
          29,
          29,
          29,
          36,
          28,
          38,
          37,
          28,
          54,
          28,
          41,
          28,
          39,
          27,
          38,
          33,
          42,
          35,
          45,
          30,
          27,
          30,
          23,
          44,
          25,
          27,
          26,
          25,
          23,
          38,
          35,
          24,
          33,
          31,
          32,
          53,
          28,
          21,
          41,
          29,
          51,
          31,
          30,
          28,
          37,
          49,
          26,
          26,
          26,
          33,
          27,
          30,
          22,
          34,
          24,
          27,
          24,
          22,
          28,
          60,
          39,
          39,
          43,
          33,
          25,
          40,
          40,
          26,
          26,
          33,
          39,
          23,
          35,
          29,
          34,
          42,
          39,
          51,
          23,
          32,
          41,
          29,
          27,
          67,
          27,
          32,
          27,
          36,
          34,
          47,
          30,
          62,
          35,
          49,
          71,
          31,
          23,
          68,
          50,
          30,
          30,
          40,
          30,
          66,
          37,
          57,
          25,
          30,
          29,
          32,
          24,
          48,
          28,
          26,
          29,
          28,
          25,
          37,
          27,
          28,
          23,
          27,
          26,
          26,
          25,
          29,
          28,
          34,
          24,
          34
         ]
        },
        {
         "marker": {
          "color": "rgb(254,224,139)",
          "opacity": [
           [
            0.7
           ],
           [
            0.7
           ],
           [
            0.7
           ],
           [
            0.7
           ],
           [
            0.7
           ],
           [
            0.7
           ],
           [
            0.7
           ],
           [
            0.7
           ],
           [
            0.7
           ],
           [
            0.7
           ],
           [
            0.7
           ],
           [
            0.7
           ],
           [
            0.7
           ],
           [
            0.7
           ],
           [
            0.7
           ],
           [
            0.7
           ],
           [
            0.7
           ],
           [
            0.7
           ],
           [
            0.7
           ],
           [
            0.7
           ],
           [
            0.7
           ],
           [
            0.7
           ],
           [
            0.7
           ],
           [
            0.7
           ],
           [
            0.7
           ],
           [
            0.7
           ],
           [
            0.7
           ],
           [
            0.7
           ],
           [
            0.7
           ],
           [
            0.7
           ],
           [
            0.7
           ],
           [
            0.7
           ],
           [
            0.7
           ],
           [
            0.7
           ],
           [
            0.7
           ],
           [
            0.7
           ],
           [
            0.7
           ],
           [
            0.7
           ],
           [
            0.7
           ],
           [
            0.7
           ],
           [
            0.7
           ],
           [
            0.7
           ],
           [
            0.7
           ],
           [
            0.7
           ],
           [
            0.7
           ],
           [
            0.7
           ],
           [
            0.7
           ],
           [
            0.7
           ],
           [
            0.7
           ],
           [
            0.7
           ],
           [
            0.7
           ],
           [
            0.7
           ],
           [
            0.7
           ],
           [
            0.7
           ],
           [
            0.7
           ],
           [
            0.7
           ],
           [
            0.7
           ],
           [
            0.7
           ],
           [
            0.7
           ],
           [
            0.7
           ],
           [
            0.7
           ],
           [
            0.7
           ],
           [
            0.7
           ],
           [
            0.7
           ],
           [
            0.7
           ],
           [
            0.7
           ],
           [
            0.7
           ],
           [
            0.7
           ],
           [
            0.7
           ],
           [
            0.7
           ],
           [
            0.7
           ],
           [
            0.7
           ],
           [
            0.7
           ],
           [
            0.7
           ],
           [
            0.7
           ],
           [
            0.7
           ],
           [
            0.7
           ],
           [
            0.7
           ],
           [
            0.7
           ],
           [
            0.7
           ],
           [
            0.7
           ],
           [
            0.7
           ],
           [
            0.7
           ],
           [
            0.7
           ],
           [
            0.7
           ],
           [
            0.7
           ],
           [
            0.7
           ],
           [
            0.7
           ],
           [
            0.7
           ],
           [
            0.7
           ],
           [
            0.7
           ],
           [
            0.7
           ],
           [
            0.7
           ],
           [
            0.7
           ],
           [
            0.7
           ],
           [
            0.7
           ],
           [
            0.7
           ],
           [
            0.7
           ],
           [
            0.7
           ],
           [
            0.7
           ],
           [
            0.7
           ],
           [
            0.7
           ],
           [
            0.7
           ],
           [
            0.7
           ],
           [
            0.7
           ],
           [
            0.7
           ],
           [
            0.7
           ],
           [
            0.7
           ],
           [
            0.7
           ],
           [
            0.7
           ],
           [
            0.7
           ],
           [
            0.7
           ],
           [
            0.7
           ],
           [
            0.7
           ],
           [
            0.7
           ],
           [
            0.7
           ],
           [
            0.7
           ],
           [
            0.7
           ],
           [
            0.7
           ],
           [
            0.7
           ],
           [
            0.7
           ],
           [
            0.7
           ],
           [
            0.7
           ],
           [
            0.7
           ],
           [
            0.7
           ],
           [
            0.7
           ],
           [
            0.7
           ],
           [
            0.7
           ],
           [
            0.7
           ],
           [
            0.7
           ],
           [
            0.7
           ],
           [
            0.7
           ],
           [
            0.7
           ],
           [
            0.7
           ],
           [
            0.7
           ],
           [
            0.7
           ],
           [
            0.7
           ],
           [
            0.7
           ],
           [
            0.7
           ],
           [
            0.7
           ],
           [
            0.7
           ],
           [
            0.7
           ],
           [
            0.7
           ],
           [
            0.7
           ],
           [
            0.7
           ],
           [
            0.7
           ],
           [
            0.7
           ],
           [
            0.7
           ],
           [
            0.7
           ],
           [
            0.7
           ],
           [
            0.7
           ],
           [
            0.7
           ],
           [
            0.7
           ],
           [
            0.7
           ],
           [
            0.7
           ],
           [
            0.7
           ],
           [
            0.7
           ],
           [
            0.7
           ],
           [
            0.7
           ],
           [
            0.7
           ],
           [
            0.7
           ],
           [
            0.7
           ],
           [
            0.7
           ],
           [
            0.7
           ],
           [
            0.7
           ],
           [
            0.7
           ],
           [
            0.7
           ],
           [
            0.7
           ],
           [
            0.7
           ],
           [
            0.7
           ],
           [
            0.7
           ],
           [
            0.7
           ],
           [
            0.7
           ],
           [
            0.7
           ],
           [
            0.7
           ],
           [
            0.7
           ],
           [
            0.7
           ],
           [
            0.7
           ],
           [
            0.7
           ],
           [
            0.7
           ],
           [
            0.7
           ],
           [
            0.7
           ],
           [
            0.7
           ],
           [
            0.7
           ],
           [
            0.7
           ],
           [
            0.7
           ],
           [
            0.7
           ],
           [
            0.7
           ],
           [
            0.7
           ],
           [
            0.7
           ],
           [
            0.7
           ],
           [
            0.7
           ],
           [
            0.7
           ],
           [
            0.7
           ],
           [
            0.7
           ],
           [
            0.7
           ],
           [
            0.7
           ],
           [
            0.7
           ],
           [
            0.7
           ],
           [
            0.7
           ],
           [
            0.7
           ],
           [
            0.7
           ],
           [
            0.7
           ],
           [
            0.7
           ],
           [
            0.7
           ],
           [
            0.7
           ],
           [
            0.7
           ],
           [
            0.7
           ],
           [
            0.7
           ],
           [
            0.7
           ],
           [
            0.7
           ],
           [
            0.7
           ],
           [
            0.7
           ],
           [
            0.7
           ],
           [
            0.7
           ],
           [
            0.7
           ],
           [
            0.7
           ],
           [
            0.7
           ],
           [
            0.7
           ],
           [
            0.7
           ],
           [
            0.7
           ],
           [
            0.7
           ],
           [
            0.7
           ],
           [
            0.7
           ],
           [
            0.7
           ],
           [
            0.7
           ],
           [
            0.7
           ],
           [
            0.7
           ],
           [
            0.7
           ],
           [
            0.7
           ],
           [
            0.7
           ],
           [
            0.7
           ],
           [
            0.7
           ],
           [
            0.7
           ],
           [
            0.7
           ],
           [
            0.7
           ],
           [
            0.7
           ],
           [
            0.7
           ],
           [
            0.7
           ],
           [
            0.7
           ],
           [
            0.7
           ],
           [
            0.7
           ],
           [
            0.7
           ],
           [
            0.7
           ],
           [
            0.7
           ],
           [
            0.7
           ],
           [
            0.7
           ],
           [
            0.7
           ],
           [
            0.7
           ],
           [
            0.7
           ],
           [
            0.7
           ],
           [
            0.7
           ],
           [
            0.7
           ],
           [
            0.7
           ],
           [
            0.7
           ],
           [
            0.7
           ],
           [
            0.7
           ],
           [
            0.7
           ],
           [
            0.7
           ],
           [
            0.7
           ],
           [
            0.7
           ],
           [
            0.7
           ],
           [
            0.7
           ],
           [
            0.7
           ],
           [
            0.7
           ],
           [
            0.7
           ],
           [
            0.7
           ],
           [
            0.7
           ],
           [
            0.7
           ],
           [
            0.7
           ],
           [
            0.7
           ],
           [
            0.7
           ],
           [
            0.7
           ],
           [
            0.7
           ],
           [
            0.7
           ],
           [
            0.7
           ],
           [
            0.7
           ],
           [
            0.7
           ],
           [
            0.7
           ],
           [
            0.7
           ],
           [
            0.7
           ],
           [
            0.7
           ],
           [
            0.7
           ],
           [
            0.7
           ],
           [
            0.7
           ],
           [
            0.7
           ],
           [
            0.7
           ],
           [
            0.7
           ],
           [
            0.7
           ],
           [
            0.7
           ],
           [
            0.7
           ],
           [
            0.7
           ],
           [
            0.7
           ],
           [
            0.7
           ],
           [
            0.7
           ],
           [
            0.7
           ],
           [
            0.7
           ],
           [
            0.7
           ],
           [
            0.7
           ],
           [
            0.7
           ],
           [
            0.7
           ],
           [
            0.7
           ],
           [
            0.7
           ],
           [
            0.7
           ],
           [
            0.7
           ],
           [
            0.7
           ],
           [
            0.7
           ],
           [
            0.7
           ],
           [
            0.7
           ],
           [
            0.7
           ],
           [
            0.7
           ],
           [
            0.7
           ],
           [
            0.7
           ],
           [
            0.7
           ],
           [
            0.7
           ],
           [
            0.7
           ],
           [
            0.7
           ],
           [
            0.7
           ],
           [
            0.7
           ],
           [
            0.7
           ],
           [
            0.7
           ],
           [
            0.7
           ],
           [
            0.7
           ],
           [
            0.7
           ],
           [
            0.7
           ],
           [
            0.7
           ],
           [
            0.7
           ],
           [
            0.7
           ],
           [
            0.7
           ],
           [
            0.7
           ],
           [
            0.7
           ],
           [
            0.7
           ],
           [
            0.7
           ],
           [
            0.7
           ],
           [
            0.7
           ],
           [
            0.7
           ],
           [
            0.7
           ],
           [
            0.7
           ],
           [
            0.7
           ],
           [
            0.7
           ],
           [
            0.7
           ],
           [
            0.7
           ],
           [
            0.7
           ],
           [
            0.7
           ],
           [
            0.7
           ],
           [
            0.7
           ],
           [
            0.7
           ],
           [
            0.7
           ],
           [
            0.7
           ],
           [
            0.7
           ],
           [
            0.7
           ],
           [
            0.7
           ],
           [
            0.7
           ],
           [
            0.7
           ],
           [
            0.7
           ],
           [
            0.7
           ],
           [
            0.7
           ],
           [
            0.7
           ],
           [
            0.7
           ],
           [
            0.7
           ],
           [
            0.7
           ],
           [
            0.7
           ],
           [
            0.7
           ],
           [
            0.7
           ],
           [
            0.7
           ],
           [
            0.7
           ],
           [
            0.7
           ],
           [
            0.7
           ],
           [
            0.7
           ],
           [
            0.7
           ],
           [
            0.7
           ],
           [
            0.7
           ],
           [
            0.7
           ],
           [
            0.7
           ],
           [
            0.7
           ],
           [
            0.7
           ],
           [
            0.7
           ],
           [
            0.7
           ],
           [
            0.7
           ],
           [
            0.7
           ],
           [
            0.7
           ],
           [
            0.7
           ],
           [
            0.7
           ],
           [
            0.7
           ],
           [
            0.7
           ],
           [
            0.7
           ],
           [
            0.7
           ],
           [
            0.7
           ],
           [
            0.7
           ],
           [
            0.7
           ],
           [
            0.7
           ],
           [
            0.7
           ],
           [
            0.7
           ],
           [
            0.7
           ],
           [
            0.7
           ],
           [
            0.7
           ],
           [
            0.7
           ],
           [
            0.7
           ],
           [
            0.7
           ],
           [
            0.7
           ],
           [
            0.7
           ],
           [
            0.7
           ],
           [
            0.7
           ],
           [
            0.7
           ],
           [
            0.7
           ],
           [
            0.7
           ],
           [
            0.7
           ],
           [
            0.7
           ],
           [
            0.7
           ],
           [
            0.7
           ],
           [
            0.7
           ],
           [
            0.7
           ],
           [
            0.7
           ],
           [
            0.7
           ],
           [
            0.7
           ],
           [
            0.7
           ],
           [
            0.7
           ],
           [
            0.7
           ],
           [
            0.7
           ],
           [
            0.7
           ],
           [
            0.7
           ],
           [
            0.7
           ],
           [
            0.7
           ],
           [
            0.7
           ],
           [
            0.7
           ],
           [
            0.7
           ],
           [
            0.7
           ],
           [
            0.7
           ],
           [
            0.7
           ],
           [
            0.7
           ],
           [
            0.7
           ],
           [
            0.7
           ],
           [
            0.7
           ],
           [
            0.7
           ],
           [
            0.7
           ],
           [
            0.7
           ],
           [
            0.7
           ],
           [
            0.7
           ],
           [
            0.7
           ],
           [
            0.7
           ],
           [
            0.7
           ],
           [
            0.7
           ],
           [
            0.7
           ],
           [
            0.7
           ],
           [
            0.7
           ],
           [
            0.7
           ],
           [
            0.7
           ],
           [
            0.7
           ],
           [
            0.7
           ],
           [
            0.7
           ],
           [
            0.7
           ],
           [
            0.7
           ],
           [
            0.7
           ],
           [
            0.7
           ],
           [
            0.7
           ],
           [
            0.7
           ],
           [
            0.7
           ],
           [
            0.7
           ],
           [
            0.7
           ],
           [
            0.7
           ],
           [
            0.7
           ],
           [
            0.7
           ],
           [
            0.7
           ],
           [
            0.7
           ],
           [
            0.7
           ],
           [
            0.7
           ],
           [
            0.7
           ],
           [
            0.7
           ],
           [
            0.7
           ],
           [
            0.7
           ],
           [
            0.7
           ],
           [
            0.7
           ],
           [
            0.7
           ],
           [
            0.7
           ],
           [
            0.7
           ],
           [
            0.7
           ],
           [
            0.7
           ],
           [
            0.7
           ],
           [
            0.7
           ],
           [
            0.7
           ],
           [
            0.7
           ],
           [
            0.7
           ],
           [
            0.7
           ],
           [
            0.7
           ],
           [
            0.7
           ],
           [
            0.7
           ],
           [
            0.7
           ],
           [
            0.7
           ],
           [
            0.7
           ],
           [
            0.7
           ],
           [
            0.7
           ],
           [
            0.7
           ],
           [
            0.7
           ],
           [
            0.7
           ],
           [
            0.7
           ],
           [
            0.7
           ],
           [
            0.7
           ],
           [
            0.7
           ],
           [
            0.7
           ],
           [
            0.7
           ],
           [
            0.7
           ],
           [
            0.7
           ],
           [
            0.7
           ],
           [
            0.7
           ],
           [
            0.7
           ],
           [
            0.7
           ],
           [
            0.7
           ],
           [
            0.7
           ],
           [
            0.7
           ],
           [
            0.7
           ],
           [
            0.7
           ],
           [
            0.7
           ],
           [
            0.7
           ],
           [
            0.7
           ],
           [
            0.7
           ],
           [
            0.7
           ],
           [
            0.7
           ],
           [
            0.7
           ],
           [
            0.7
           ],
           [
            0.7
           ],
           [
            0.7
           ],
           [
            0.7
           ],
           [
            0.7
           ],
           [
            0.7
           ],
           [
            0.7
           ],
           [
            0.7
           ],
           [
            0.7
           ],
           [
            0.7
           ],
           [
            0.7
           ],
           [
            0.7
           ],
           [
            0.7
           ],
           [
            0.7
           ],
           [
            0.7
           ],
           [
            0.7
           ],
           [
            0.7
           ],
           [
            0.7
           ],
           [
            0.7
           ],
           [
            0.7
           ],
           [
            0.7
           ],
           [
            0.7
           ],
           [
            0.7
           ],
           [
            0.7
           ],
           [
            0.7
           ],
           [
            0.7
           ],
           [
            0.7
           ],
           [
            0.7
           ],
           [
            0.7
           ],
           [
            0.7
           ],
           [
            0.7
           ],
           [
            0.7
           ],
           [
            0.7
           ],
           [
            0.7
           ],
           [
            0.7
           ],
           [
            0.7
           ],
           [
            0.7
           ],
           [
            0.7
           ],
           [
            0.7
           ],
           [
            0.7
           ],
           [
            0.7
           ],
           [
            0.7
           ],
           [
            0.7
           ],
           [
            0.7
           ],
           [
            0.7
           ],
           [
            0.7
           ],
           [
            0.7
           ],
           [
            0.7
           ],
           [
            0.7
           ],
           [
            0.7
           ],
           [
            0.7
           ],
           [
            0.7
           ],
           [
            0.7
           ],
           [
            0.7
           ],
           [
            0.7
           ],
           [
            0.7
           ],
           [
            0.7
           ],
           [
            0.7
           ],
           [
            0.7
           ],
           [
            0.7
           ],
           [
            0.7
           ],
           [
            0.7
           ],
           [
            0.7
           ],
           [
            0.7
           ],
           [
            0.7
           ],
           [
            0.7
           ],
           [
            0.7
           ],
           [
            0.7
           ],
           [
            0.7
           ],
           [
            0.7
           ],
           [
            0.7
           ],
           [
            0.7
           ],
           [
            0.7
           ],
           [
            0.7
           ],
           [
            0.7
           ],
           [
            0.7
           ],
           [
            0.7
           ],
           [
            0.7
           ],
           [
            0.7
           ],
           [
            0.7
           ],
           [
            0.7
           ],
           [
            0.7
           ],
           [
            0.7
           ],
           [
            0.7
           ],
           [
            0.7
           ],
           [
            0.7
           ],
           [
            0.7
           ],
           [
            0.7
           ],
           [
            0.7
           ],
           [
            0.7
           ],
           [
            0.7
           ],
           [
            0.7
           ],
           [
            0.7
           ],
           [
            0.7
           ],
           [
            0.7
           ],
           [
            0.7
           ],
           [
            0.7
           ],
           [
            0.7
           ],
           [
            0.7
           ],
           [
            0.7
           ],
           [
            0.7
           ],
           [
            0.7
           ],
           [
            0.7
           ],
           [
            0.7
           ],
           [
            0.7
           ],
           [
            0.7
           ],
           [
            0.7
           ],
           [
            0.7
           ],
           [
            0.7
           ],
           [
            0.7
           ],
           [
            0.7
           ],
           [
            0.7
           ],
           [
            0.7
           ],
           [
            0.7
           ],
           [
            0.7
           ],
           [
            0.7
           ],
           [
            0.7
           ],
           [
            0.7
           ],
           [
            0.7
           ],
           [
            0.7
           ],
           [
            0.7
           ],
           [
            0.7
           ],
           [
            0.7
           ],
           [
            0.7
           ],
           [
            0.7
           ],
           [
            0.7
           ],
           [
            0.7
           ],
           [
            0.7
           ],
           [
            0.7
           ],
           [
            0.7
           ],
           [
            0.7
           ],
           [
            0.7
           ],
           [
            0.7
           ],
           [
            0.7
           ],
           [
            0.7
           ],
           [
            0.7
           ],
           [
            0.7
           ],
           [
            0.7
           ],
           [
            0.7
           ],
           [
            0.7
           ],
           [
            0.7
           ],
           [
            0.7
           ],
           [
            0.7
           ],
           [
            0.7
           ],
           [
            0.7
           ],
           [
            0.7
           ],
           [
            0.7
           ],
           [
            0.7
           ],
           [
            0.7
           ],
           [
            0.7
           ],
           [
            0.7
           ],
           [
            0.7
           ],
           [
            0.7
           ],
           [
            0.7
           ],
           [
            0.7
           ],
           [
            0.7
           ],
           [
            0.7
           ],
           [
            0.7
           ],
           [
            0.7
           ],
           [
            0.7
           ],
           [
            0.7
           ],
           [
            0.7
           ],
           [
            0.7
           ],
           [
            0.7
           ],
           [
            0.7
           ],
           [
            0.7
           ],
           [
            0.7
           ],
           [
            0.7
           ],
           [
            0.7
           ],
           [
            0.7
           ],
           [
            0.7
           ],
           [
            0.7
           ],
           [
            0.7
           ],
           [
            0.7
           ],
           [
            0.7
           ],
           [
            0.7
           ],
           [
            0.7
           ],
           [
            0.7
           ],
           [
            0.7
           ],
           [
            0.7
           ],
           [
            0.7
           ],
           [
            0.7
           ],
           [
            0.7
           ],
           [
            0.7
           ],
           [
            0.7
           ],
           [
            0.7
           ],
           [
            0.7
           ],
           [
            0.7
           ],
           [
            0.7
           ],
           [
            0.7
           ],
           [
            0.7
           ],
           [
            0.7
           ],
           [
            0.7
           ],
           [
            0.7
           ],
           [
            0.7
           ],
           [
            0.7
           ],
           [
            0.7
           ],
           [
            0.7
           ],
           [
            0.7
           ],
           [
            0.7
           ],
           [
            0.7
           ],
           [
            0.7
           ],
           [
            0.7
           ],
           [
            0.7
           ],
           [
            0.7
           ],
           [
            0.7
           ],
           [
            0.7
           ],
           [
            0.7
           ],
           [
            0.7
           ],
           [
            0.7
           ],
           [
            0.7
           ],
           [
            0.7
           ],
           [
            0.7
           ],
           [
            0.7
           ],
           [
            0.7
           ],
           [
            0.7
           ],
           [
            0.7
           ],
           [
            0.7
           ],
           [
            0.7
           ],
           [
            0.7
           ],
           [
            0.7
           ],
           [
            0.7
           ],
           [
            0.7
           ],
           [
            0.7
           ],
           [
            0.7
           ],
           [
            0.7
           ],
           [
            0.7
           ],
           [
            0.7
           ],
           [
            0.7
           ],
           [
            0.7
           ],
           [
            0.7
           ],
           [
            0.7
           ],
           [
            0.7
           ],
           [
            0.7
           ],
           [
            0.7
           ],
           [
            0.7
           ],
           [
            0.7
           ],
           [
            0.7
           ],
           [
            0.7
           ],
           [
            0.7
           ],
           [
            0.7
           ],
           [
            0.7
           ],
           [
            0.7
           ],
           [
            0.7
           ],
           [
            0.7
           ],
           [
            0.7
           ],
           [
            0.7
           ],
           [
            0.7
           ],
           [
            0.7
           ]
          ],
          "size": [
           50,
           45,
           30,
           30,
           30,
           30,
           25,
           25,
           20,
           20,
           20,
           20,
           15,
           15,
           15,
           15,
           15,
           15,
           15,
           15,
           10,
           10,
           10,
           10,
           10,
           10,
           10,
           10,
           5,
           5,
           5,
           5,
           5,
           5,
           5,
           5,
           5,
           5,
           5,
           5,
           5,
           5,
           5,
           5,
           5,
           25,
           15,
           15,
           5,
           5,
           5,
           5,
           5,
           5,
           5,
           5,
           5,
           60,
           55,
           45,
           35,
           30,
           30,
           30,
           30,
           30,
           30,
           25,
           20,
           20,
           20,
           15,
           15,
           15,
           15,
           15,
           15,
           15,
           15,
           15,
           15,
           10,
           10,
           10,
           10,
           10,
           10,
           10,
           10,
           10,
           10,
           10,
           5,
           5,
           5,
           5,
           5,
           5,
           5,
           5,
           5,
           5,
           5,
           5,
           5,
           5,
           85,
           30,
           25,
           25,
           15,
           15,
           10,
           10,
           10,
           5,
           5,
           5,
           5,
           5,
           5,
           5,
           5,
           5,
           5,
           5,
           5,
           5,
           5,
           5,
           5,
           5,
           5,
           5,
           5,
           5,
           25,
           10,
           10,
           10,
           10,
           10,
           5,
           5,
           5,
           5,
           5,
           5,
           5,
           5,
           5,
           5,
           5,
           5,
           5,
           5,
           5,
           5,
           5,
           5
          ]
         },
         "mode": "markers",
         "name": "Female",
         "type": "scatter",
         "uid": "17474d96-92c4-4cd4-9366-81f300f77416",
         "x": [
          0,
          0,
          0,
          1,
          3,
          0,
          0,
          0,
          0,
          0,
          0,
          0,
          0,
          4,
          5,
          0,
          0,
          0,
          0,
          0,
          0,
          0,
          0,
          0,
          0,
          0,
          0,
          0,
          0,
          0,
          0,
          0,
          0,
          0,
          0,
          0,
          0,
          0,
          6,
          6,
          6,
          0,
          0,
          0,
          0,
          0,
          6,
          0,
          0,
          0,
          0,
          0,
          0,
          0,
          0,
          0,
          0,
          0,
          0,
          0,
          0,
          0,
          0,
          0,
          0,
          0,
          0,
          0,
          0,
          6,
          0,
          0,
          0,
          0,
          0,
          0,
          0,
          0,
          0,
          0,
          0,
          0,
          0,
          0,
          0,
          6,
          0,
          0,
          6,
          0,
          6,
          6,
          6,
          6,
          6,
          6,
          0,
          0,
          0,
          0,
          0,
          0,
          0,
          0,
          0,
          0,
          0,
          0,
          0,
          11,
          0,
          0,
          0,
          13,
          0,
          0,
          6,
          0,
          0,
          0,
          0,
          0,
          0,
          0,
          0,
          0,
          0,
          0,
          0,
          0,
          0,
          0,
          0,
          0,
          0,
          0,
          0,
          0,
          0,
          14,
          33,
          14,
          14,
          14,
          14,
          15,
          15,
          14,
          14,
          15,
          15,
          14,
          14,
          14,
          14,
          14,
          14,
          33,
          14,
          14,
          14,
          18,
          33,
          33,
          15,
          14,
          14,
          15,
          15,
          15,
          14,
          15,
          14,
          14,
          14,
          15,
          14,
          14,
          14,
          33,
          14,
          15,
          14,
          15,
          14,
          12,
          14,
          7,
          14,
          15,
          14,
          0,
          15,
          14,
          15,
          14,
          14,
          14,
          14,
          14,
          14,
          15,
          21,
          14,
          14,
          33,
          14,
          14,
          14,
          33,
          14,
          14,
          14,
          14,
          14,
          33,
          24,
          14,
          14,
          15,
          15,
          14,
          14,
          14,
          14,
          14,
          7,
          14,
          14,
          14,
          14,
          33,
          14,
          14,
          15,
          14,
          14,
          33,
          25,
          14,
          33,
          14,
          33,
          14,
          15,
          14,
          14,
          14,
          15,
          14,
          15,
          15,
          18,
          33,
          15,
          14,
          33,
          17,
          14,
          14,
          33,
          15,
          15,
          14,
          0,
          14,
          14,
          14,
          14,
          15,
          14,
          14,
          14,
          15,
          18,
          14,
          15,
          17,
          0,
          15,
          33,
          14,
          15,
          15,
          14,
          14,
          15,
          15,
          14,
          14,
          15,
          33,
          14,
          14,
          33,
          14,
          14,
          20,
          14,
          14,
          30,
          15,
          14,
          14,
          14,
          14,
          14,
          14,
          14,
          15,
          14,
          14,
          14,
          18,
          14,
          14,
          14,
          14,
          14,
          14,
          33,
          33,
          33,
          14,
          31,
          14,
          14,
          33,
          14,
          14,
          14,
          14,
          21,
          14,
          15,
          14,
          14,
          14,
          33,
          14,
          14,
          14,
          14,
          17,
          14,
          33,
          14,
          33,
          14,
          33,
          14,
          14,
          31,
          14,
          7,
          33,
          14,
          14,
          14,
          14,
          14,
          14,
          15,
          33,
          14,
          14,
          14,
          14,
          14,
          14,
          14,
          14,
          14,
          14,
          19,
          14,
          33,
          15,
          14,
          14,
          33,
          33,
          14,
          15,
          33,
          14,
          14,
          15,
          15,
          14,
          15,
          14,
          14,
          33,
          14,
          15,
          15,
          14,
          15,
          15,
          15,
          15,
          14
         ],
         "y": [
          31,
          24,
          30,
          42,
          32,
          30,
          31,
          35,
          23,
          28,
          41,
          32,
          22,
          33,
          46,
          24,
          43,
          21,
          50,
          57,
          46,
          53,
          44,
          18,
          27,
          64,
          18,
          23,
          15,
          15,
          15,
          16,
          16,
          17,
          31,
          35,
          32,
          31,
          21,
          22,
          20,
          35,
          48,
          29,
          42,
          28,
          21,
          28,
          27,
          62,
          19,
          21,
          22,
          23,
          18,
          19,
          18,
          51,
          15,
          15,
          14,
          26,
          34,
          17,
          17,
          16,
          15,
          15,
          16,
          19,
          16,
          35,
          38,
          34,
          30,
          34,
          41,
          35,
          35,
          36,
          46,
          32,
          55,
          34,
          37,
          21,
          52,
          31,
          25,
          31,
          20,
          19,
          19,
          19,
          18,
          20,
          39,
          44,
          28,
          41,
          57,
          55,
          28,
          61,
          62,
          43,
          39,
          46,
          55,
          21,
          45,
          27,
          46,
          32,
          21,
          26,
          19,
          21,
          15,
          13,
          15,
          30,
          62,
          24,
          14,
          14,
          14,
          14,
          13,
          13,
          14,
          14,
          14,
          15,
          14,
          13,
          53,
          21,
          21,
          81,
          42,
          26,
          27,
          27,
          26,
          37,
          32,
          25,
          29,
          30,
          29,
          37,
          28,
          22,
          27,
          44,
          35,
          35,
          27,
          35,
          61,
          27,
          31,
          23,
          33,
          22,
          37,
          31,
          30,
          24,
          49,
          32,
          35,
          41,
          26,
          30,
          35,
          35,
          22,
          39,
          33,
          37,
          21,
          30,
          27,
          56,
          35,
          24,
          36,
          24,
          34,
          30,
          33,
          55,
          26,
          25,
          37,
          46,
          59,
          25,
          23,
          29,
          32,
          55,
          27,
          26,
          23,
          26,
          51,
          62,
          51,
          30,
          60,
          54,
          48,
          32,
          26,
          29,
          39,
          40,
          31,
          21,
          56,
          24,
          34,
          43,
          56,
          34,
          46,
          35,
          49,
          28,
          33,
          26,
          29,
          47,
          27,
          28,
          43,
          54,
          31,
          24,
          40,
          30,
          38,
          38,
          23,
          24,
          24,
          30,
          24,
          29,
          26,
          52,
          29,
          51,
          56,
          22,
          30,
          22,
          37,
          24,
          38,
          25,
          28,
          46,
          46,
          48,
          33,
          24,
          33,
          32,
          36,
          33,
          45,
          42,
          34,
          38,
          20,
          37,
          20,
          44,
          27,
          30,
          57,
          40,
          34,
          24,
          66,
          46,
          35,
          20,
          38,
          30,
          28,
          27,
          56,
          24,
          45,
          59,
          27,
          33,
          41,
          31,
          64,
          34,
          81,
          43,
          38,
          24,
          46,
          25,
          29,
          67,
          69,
          73,
          30,
          38,
          42,
          31,
          50,
          55,
          32,
          25,
          53,
          45,
          35,
          46,
          33,
          25,
          45,
          62,
          24,
          27,
          30,
          50,
          28,
          43,
          33,
          50,
          40,
          47,
          55,
          26,
          48,
          67,
          27,
          28,
          38,
          43,
          47,
          24,
          38,
          27,
          21,
          43,
          36,
          60,
          25,
          25,
          45,
          29,
          24,
          27,
          44,
          54,
          37,
          58,
          65,
          34,
          53,
          35,
          78,
          33,
          23,
          18,
          36,
          24,
          37,
          26,
          53,
          25,
          38,
          24,
          28,
          37,
          35,
          33,
          31,
          29,
          25,
          35,
          50,
          26,
          26,
          24,
          24,
          34,
          24,
          24,
          24,
          24,
          27
         ]
        },
        {
         "marker": {
          "color": "rgb(244,109,67)",
          "opacity": [
           [
            0.7
           ],
           [
            0.7
           ],
           [
            0.7
           ],
           [
            0.7
           ],
           [
            0.7
           ],
           [
            0.7
           ],
           [
            0.7
           ],
           [
            0.7
           ],
           [
            0.7
           ],
           [
            0.7
           ],
           [
            0.7
           ],
           [
            0.7
           ],
           [
            0.7
           ],
           [
            0.7
           ],
           [
            0.7
           ],
           [
            0.7
           ],
           [
            0.7
           ],
           [
            0.7
           ],
           [
            0.7
           ],
           [
            0.7
           ],
           [
            0.7
           ],
           [
            0.7
           ],
           [
            0.7
           ],
           [
            0.7
           ],
           [
            0.7
           ],
           [
            0.7
           ],
           [
            0.7
           ],
           [
            0.7
           ],
           [
            0.7
           ],
           [
            0.7
           ],
           [
            0.7
           ],
           [
            0.7
           ],
           [
            0.7
           ],
           [
            0.7
           ],
           [
            0.7
           ],
           [
            0.7
           ],
           [
            0.7
           ],
           [
            0.7
           ],
           [
            0.7
           ],
           [
            0.7
           ],
           [
            0.7
           ],
           [
            0.7
           ],
           [
            0.7
           ],
           [
            0.7
           ],
           [
            0.7
           ],
           [
            0.7
           ],
           [
            0.7
           ],
           [
            0.7
           ],
           [
            0.7
           ],
           [
            0.7
           ],
           [
            0.7
           ],
           [
            0.7
           ],
           [
            0.7
           ],
           [
            0.7
           ],
           [
            0.7
           ],
           [
            0.7
           ],
           [
            0.7
           ],
           [
            0.7
           ],
           [
            0.7
           ],
           [
            0.7
           ],
           [
            0.7
           ],
           [
            0.7
           ],
           [
            0.7
           ],
           [
            0.7
           ],
           [
            0.7
           ],
           [
            0.7
           ],
           [
            0.7
           ],
           [
            0.7
           ],
           [
            0.7
           ],
           [
            0.7
           ],
           [
            0.7
           ],
           [
            0.7
           ],
           [
            0.7
           ],
           [
            0.7
           ],
           [
            0.7
           ],
           [
            0.7
           ],
           [
            0.7
           ],
           [
            0.7
           ],
           [
            0.7
           ],
           [
            0.7
           ],
           [
            0.7
           ],
           [
            0.7
           ],
           [
            0.7
           ],
           [
            0.7
           ],
           [
            0.7
           ],
           [
            0.7
           ],
           [
            0.7
           ],
           [
            0.7
           ],
           [
            0.7
           ],
           [
            0.7
           ],
           [
            0.7
           ],
           [
            0.7
           ],
           [
            0.7
           ],
           [
            0.7
           ],
           [
            0.7
           ],
           [
            0.7
           ],
           [
            0.7
           ],
           [
            0.7
           ],
           [
            0.7
           ],
           [
            0.7
           ],
           [
            0.7
           ],
           [
            0.7
           ],
           [
            0.7
           ],
           [
            0.7
           ],
           [
            0.7
           ],
           [
            0.7
           ],
           [
            0.7
           ],
           [
            0.7
           ],
           [
            0.7
           ],
           [
            0.7
           ],
           [
            0.7
           ],
           [
            0.7
           ],
           [
            0.7
           ],
           [
            0.7
           ],
           [
            0.7
           ],
           [
            0.7
           ],
           [
            0.7
           ],
           [
            0.7
           ],
           [
            0.7
           ],
           [
            0.7
           ],
           [
            0.7
           ],
           [
            0.7
           ],
           [
            0.7
           ],
           [
            0.7
           ],
           [
            0.7
           ],
           [
            0.7
           ],
           [
            0.7
           ],
           [
            0.7
           ],
           [
            0.7
           ],
           [
            0.7
           ],
           [
            0.7
           ],
           [
            0.7
           ],
           [
            0.7
           ],
           [
            0.7
           ],
           [
            0.7
           ],
           [
            0.7
           ],
           [
            0.7
           ],
           [
            0.7
           ],
           [
            0.7
           ],
           [
            0.7
           ],
           [
            0.7
           ],
           [
            0.7
           ],
           [
            0.7
           ],
           [
            0.7
           ],
           [
            0.7
           ],
           [
            0.7
           ],
           [
            0.7
           ],
           [
            0.7
           ],
           [
            0.7
           ],
           [
            0.7
           ],
           [
            0.7
           ],
           [
            0.7
           ],
           [
            0.7
           ],
           [
            0.7
           ],
           [
            0.7
           ],
           [
            0.7
           ],
           [
            0.7
           ],
           [
            0.7
           ],
           [
            0.7
           ],
           [
            0.7
           ],
           [
            0.7
           ],
           [
            0.7
           ],
           [
            0.7
           ],
           [
            0.7
           ],
           [
            0.7
           ],
           [
            0.7
           ],
           [
            0.7
           ],
           [
            0.7
           ],
           [
            0.7
           ],
           [
            0.7
           ],
           [
            0.7
           ],
           [
            0.7
           ],
           [
            0.7
           ],
           [
            0.7
           ],
           [
            0.7
           ],
           [
            0.7
           ],
           [
            0.7
           ],
           [
            0.7
           ],
           [
            0.7
           ],
           [
            0.7
           ],
           [
            0.7
           ],
           [
            0.7
           ],
           [
            0.7
           ],
           [
            0.7
           ],
           [
            0.7
           ],
           [
            0.7
           ],
           [
            0.7
           ],
           [
            0.7
           ],
           [
            0.7
           ],
           [
            0.7
           ],
           [
            0.7
           ],
           [
            0.7
           ],
           [
            0.7
           ],
           [
            0.7
           ],
           [
            0.7
           ],
           [
            0.7
           ],
           [
            0.7
           ],
           [
            0.7
           ],
           [
            0.7
           ],
           [
            0.7
           ],
           [
            0.7
           ],
           [
            0.7
           ],
           [
            0.7
           ],
           [
            0.7
           ],
           [
            0.7
           ],
           [
            0.7
           ],
           [
            0.7
           ],
           [
            0.7
           ],
           [
            0.7
           ],
           [
            0.7
           ],
           [
            0.7
           ],
           [
            0.7
           ],
           [
            0.7
           ],
           [
            0.7
           ],
           [
            0.7
           ],
           [
            0.7
           ],
           [
            0.7
           ],
           [
            0.7
           ],
           [
            0.7
           ],
           [
            0.7
           ],
           [
            0.7
           ],
           [
            0.7
           ],
           [
            0.7
           ],
           [
            0.7
           ],
           [
            0.7
           ],
           [
            0.7
           ],
           [
            0.7
           ],
           [
            0.7
           ],
           [
            0.7
           ],
           [
            0.7
           ],
           [
            0.7
           ],
           [
            0.7
           ],
           [
            0.7
           ],
           [
            0.7
           ],
           [
            0.7
           ],
           [
            0.7
           ],
           [
            0.7
           ],
           [
            0.7
           ],
           [
            0.7
           ],
           [
            0.7
           ],
           [
            0.7
           ],
           [
            0.7
           ],
           [
            0.7
           ],
           [
            0.7
           ],
           [
            0.7
           ],
           [
            0.7
           ],
           [
            0.7
           ],
           [
            0.7
           ],
           [
            0.7
           ],
           [
            0.7
           ],
           [
            0.7
           ],
           [
            0.7
           ],
           [
            0.7
           ],
           [
            0.7
           ],
           [
            0.7
           ],
           [
            0.7
           ],
           [
            0.7
           ],
           [
            0.7
           ],
           [
            0.7
           ],
           [
            0.7
           ],
           [
            0.7
           ],
           [
            0.7
           ],
           [
            0.7
           ],
           [
            0.7
           ],
           [
            0.7
           ],
           [
            0.7
           ],
           [
            0.7
           ],
           [
            0.7
           ],
           [
            0.7
           ],
           [
            0.7
           ],
           [
            0.7
           ],
           [
            0.7
           ],
           [
            0.7
           ],
           [
            0.7
           ],
           [
            0.7
           ],
           [
            0.7
           ],
           [
            0.7
           ],
           [
            0.7
           ],
           [
            0.7
           ],
           [
            0.7
           ],
           [
            0.7
           ],
           [
            0.7
           ],
           [
            0.7
           ],
           [
            0.7
           ],
           [
            0.7
           ],
           [
            0.7
           ],
           [
            0.7
           ],
           [
            0.7
           ],
           [
            0.7
           ],
           [
            0.7
           ],
           [
            0.7
           ],
           [
            0.7
           ],
           [
            0.7
           ],
           [
            0.7
           ],
           [
            0.7
           ],
           [
            0.7
           ],
           [
            0.7
           ],
           [
            0.7
           ],
           [
            0.7
           ],
           [
            0.7
           ],
           [
            0.7
           ],
           [
            0.7
           ],
           [
            0.7
           ],
           [
            0.7
           ],
           [
            0.7
           ],
           [
            0.7
           ],
           [
            0.7
           ],
           [
            0.7
           ],
           [
            0.7
           ],
           [
            0.7
           ],
           [
            0.7
           ],
           [
            0.7
           ],
           [
            0.7
           ],
           [
            0.7
           ],
           [
            0.7
           ],
           [
            0.7
           ],
           [
            0.7
           ],
           [
            0.7
           ],
           [
            0.7
           ],
           [
            0.7
           ],
           [
            0.7
           ],
           [
            0.7
           ],
           [
            0.7
           ],
           [
            0.7
           ],
           [
            0.7
           ],
           [
            0.7
           ],
           [
            0.7
           ],
           [
            0.7
           ],
           [
            0.7
           ],
           [
            0.7
           ],
           [
            0.7
           ],
           [
            0.7
           ],
           [
            0.7
           ],
           [
            0.7
           ],
           [
            0.7
           ],
           [
            0.7
           ],
           [
            0.7
           ],
           [
            0.7
           ],
           [
            0.7
           ],
           [
            0.7
           ],
           [
            0.7
           ],
           [
            0.7
           ],
           [
            0.7
           ],
           [
            0.7
           ],
           [
            0.7
           ],
           [
            0.7
           ],
           [
            0.7
           ],
           [
            0.7
           ],
           [
            0.7
           ],
           [
            0.7
           ],
           [
            0.7
           ],
           [
            0.7
           ],
           [
            0.7
           ],
           [
            0.7
           ],
           [
            0.7
           ],
           [
            0.7
           ],
           [
            0.7
           ],
           [
            0.7
           ],
           [
            0.7
           ],
           [
            0.7
           ],
           [
            0.7
           ],
           [
            0.7
           ],
           [
            0.7
           ],
           [
            0.7
           ],
           [
            0.7
           ],
           [
            0.7
           ],
           [
            0.7
           ],
           [
            0.7
           ],
           [
            0.7
           ],
           [
            0.7
           ],
           [
            0.7
           ],
           [
            0.7
           ],
           [
            0.7
           ],
           [
            0.7
           ],
           [
            0.7
           ],
           [
            0.7
           ],
           [
            0.7
           ],
           [
            0.7
           ],
           [
            0.7
           ],
           [
            0.7
           ],
           [
            0.7
           ],
           [
            0.7
           ],
           [
            0.7
           ],
           [
            0.7
           ],
           [
            0.7
           ],
           [
            0.7
           ],
           [
            0.7
           ],
           [
            0.7
           ],
           [
            0.7
           ],
           [
            0.7
           ],
           [
            0.7
           ],
           [
            0.7
           ],
           [
            0.7
           ],
           [
            0.7
           ],
           [
            0.7
           ],
           [
            0.7
           ],
           [
            0.7
           ],
           [
            0.7
           ],
           [
            0.7
           ],
           [
            0.7
           ],
           [
            0.7
           ],
           [
            0.7
           ],
           [
            0.7
           ],
           [
            0.7
           ],
           [
            0.7
           ],
           [
            0.7
           ],
           [
            0.7
           ],
           [
            0.7
           ],
           [
            0.7
           ],
           [
            0.7
           ],
           [
            0.7
           ],
           [
            0.7
           ],
           [
            0.7
           ],
           [
            0.7
           ],
           [
            0.7
           ],
           [
            0.7
           ],
           [
            0.7
           ],
           [
            0.7
           ],
           [
            0.7
           ],
           [
            0.7
           ],
           [
            0.7
           ],
           [
            0.7
           ],
           [
            0.7
           ],
           [
            0.7
           ],
           [
            0.7
           ],
           [
            0.7
           ],
           [
            0.7
           ],
           [
            0.7
           ],
           [
            0.7
           ],
           [
            0.7
           ],
           [
            0.7
           ],
           [
            0.7
           ],
           [
            0.7
           ],
           [
            0.7
           ],
           [
            0.7
           ],
           [
            0.7
           ],
           [
            0.7
           ],
           [
            0.7
           ],
           [
            0.7
           ],
           [
            0.7
           ],
           [
            0.7
           ],
           [
            0.7
           ],
           [
            0.7
           ],
           [
            0.7
           ],
           [
            0.7
           ],
           [
            0.7
           ],
           [
            0.7
           ],
           [
            0.7
           ],
           [
            0.7
           ],
           [
            0.7
           ],
           [
            0.7
           ],
           [
            0.7
           ],
           [
            0.7
           ],
           [
            0.7
           ],
           [
            0.7
           ],
           [
            0.7
           ],
           [
            0.7
           ],
           [
            0.7
           ],
           [
            0.7
           ],
           [
            0.7
           ],
           [
            0.7
           ],
           [
            0.7
           ],
           [
            0.7
           ],
           [
            0.7
           ],
           [
            0.7
           ],
           [
            0.7
           ],
           [
            0.7
           ],
           [
            0.7
           ],
           [
            0.7
           ],
           [
            0.7
           ],
           [
            0.7
           ],
           [
            0.7
           ],
           [
            0.7
           ],
           [
            0.7
           ],
           [
            0.7
           ],
           [
            0.7
           ],
           [
            0.7
           ],
           [
            0.7
           ],
           [
            0.7
           ],
           [
            0.7
           ],
           [
            0.7
           ],
           [
            0.7
           ],
           [
            0.7
           ],
           [
            0.7
           ],
           [
            0.7
           ],
           [
            0.7
           ],
           [
            0.7
           ],
           [
            0.7
           ],
           [
            0.7
           ],
           [
            0.7
           ],
           [
            0.7
           ],
           [
            0.7
           ],
           [
            0.7
           ],
           [
            0.7
           ],
           [
            0.7
           ],
           [
            0.7
           ],
           [
            0.7
           ],
           [
            0.7
           ],
           [
            0.7
           ],
           [
            0.7
           ],
           [
            0.7
           ],
           [
            0.7
           ],
           [
            0.7
           ],
           [
            0.7
           ],
           [
            0.7
           ],
           [
            0.7
           ],
           [
            0.7
           ],
           [
            0.7
           ],
           [
            0.7
           ],
           [
            0.7
           ],
           [
            0.7
           ],
           [
            0.7
           ],
           [
            0.7
           ],
           [
            0.7
           ],
           [
            0.7
           ],
           [
            0.7
           ],
           [
            0.7
           ],
           [
            0.7
           ],
           [
            0.7
           ],
           [
            0.7
           ],
           [
            0.7
           ],
           [
            0.7
           ],
           [
            0.7
           ],
           [
            0.7
           ],
           [
            0.7
           ],
           [
            0.7
           ],
           [
            0.7
           ],
           [
            0.7
           ],
           [
            0.7
           ],
           [
            0.7
           ],
           [
            0.7
           ],
           [
            0.7
           ],
           [
            0.7
           ],
           [
            0.7
           ],
           [
            0.7
           ],
           [
            0.7
           ],
           [
            0.7
           ],
           [
            0.7
           ],
           [
            0.7
           ],
           [
            0.7
           ],
           [
            0.7
           ],
           [
            0.7
           ],
           [
            0.7
           ],
           [
            0.7
           ],
           [
            0.7
           ],
           [
            0.7
           ],
           [
            0.7
           ],
           [
            0.7
           ],
           [
            0.7
           ],
           [
            0.7
           ],
           [
            0.7
           ],
           [
            0.7
           ],
           [
            0.7
           ],
           [
            0.7
           ],
           [
            0.7
           ],
           [
            0.7
           ],
           [
            0.7
           ],
           [
            0.7
           ],
           [
            0.7
           ],
           [
            0.7
           ],
           [
            0.7
           ],
           [
            0.7
           ],
           [
            0.7
           ],
           [
            0.7
           ],
           [
            0.7
           ],
           [
            0.7
           ],
           [
            0.7
           ],
           [
            0.7
           ],
           [
            0.7
           ],
           [
            0.7
           ],
           [
            0.7
           ],
           [
            0.7
           ],
           [
            0.7
           ],
           [
            0.7
           ],
           [
            0.7
           ],
           [
            0.7
           ],
           [
            0.7
           ],
           [
            0.7
           ],
           [
            0.7
           ],
           [
            0.7
           ],
           [
            0.7
           ],
           [
            0.7
           ],
           [
            0.7
           ],
           [
            0.7
           ],
           [
            0.7
           ],
           [
            0.7
           ],
           [
            0.7
           ],
           [
            0.7
           ],
           [
            0.7
           ],
           [
            0.7
           ],
           [
            0.7
           ],
           [
            0.7
           ],
           [
            0.7
           ],
           [
            0.7
           ],
           [
            0.7
           ],
           [
            0.7
           ],
           [
            0.7
           ],
           [
            0.7
           ],
           [
            0.7
           ],
           [
            0.7
           ],
           [
            0.7
           ],
           [
            0.7
           ],
           [
            0.7
           ],
           [
            0.7
           ],
           [
            0.7
           ],
           [
            0.7
           ],
           [
            0.7
           ],
           [
            0.7
           ],
           [
            0.7
           ],
           [
            0.7
           ],
           [
            0.7
           ],
           [
            0.7
           ],
           [
            0.7
           ],
           [
            0.7
           ],
           [
            0.7
           ],
           [
            0.7
           ],
           [
            0.7
           ],
           [
            0.7
           ],
           [
            0.7
           ],
           [
            0.7
           ],
           [
            0.7
           ],
           [
            0.7
           ],
           [
            0.7
           ],
           [
            0.7
           ],
           [
            0.7
           ],
           [
            0.7
           ],
           [
            0.7
           ],
           [
            0.7
           ],
           [
            0.7
           ],
           [
            0.7
           ],
           [
            0.7
           ],
           [
            0.7
           ],
           [
            0.7
           ],
           [
            0.7
           ],
           [
            0.7
           ],
           [
            0.7
           ],
           [
            0.7
           ],
           [
            0.7
           ],
           [
            0.7
           ],
           [
            0.7
           ],
           [
            0.7
           ],
           [
            0.7
           ],
           [
            0.7
           ],
           [
            0.7
           ],
           [
            0.7
           ],
           [
            0.7
           ],
           [
            0.7
           ],
           [
            0.7
           ],
           [
            0.7
           ],
           [
            0.7
           ],
           [
            0.7
           ],
           [
            0.7
           ],
           [
            0.7
           ],
           [
            0.7
           ],
           [
            0.7
           ],
           [
            0.7
           ],
           [
            0.7
           ],
           [
            0.7
           ],
           [
            0.7
           ],
           [
            0.7
           ],
           [
            0.7
           ],
           [
            0.7
           ],
           [
            0.7
           ],
           [
            0.7
           ],
           [
            0.7
           ],
           [
            0.7
           ],
           [
            0.7
           ],
           [
            0.7
           ],
           [
            0.7
           ],
           [
            0.7
           ],
           [
            0.7
           ],
           [
            0.7
           ],
           [
            0.7
           ],
           [
            0.7
           ],
           [
            0.7
           ],
           [
            0.7
           ],
           [
            0.7
           ],
           [
            0.7
           ],
           [
            0.7
           ],
           [
            0.7
           ],
           [
            0.7
           ],
           [
            0.7
           ],
           [
            0.7
           ],
           [
            0.7
           ],
           [
            0.7
           ],
           [
            0.7
           ],
           [
            0.7
           ],
           [
            0.7
           ],
           [
            0.7
           ],
           [
            0.7
           ],
           [
            0.7
           ],
           [
            0.7
           ],
           [
            0.7
           ],
           [
            0.7
           ],
           [
            0.7
           ],
           [
            0.7
           ],
           [
            0.7
           ],
           [
            0.7
           ],
           [
            0.7
           ],
           [
            0.7
           ],
           [
            0.7
           ],
           [
            0.7
           ],
           [
            0.7
           ],
           [
            0.7
           ],
           [
            0.7
           ],
           [
            0.7
           ],
           [
            0.7
           ],
           [
            0.7
           ],
           [
            0.7
           ],
           [
            0.7
           ],
           [
            0.7
           ],
           [
            0.7
           ],
           [
            0.7
           ],
           [
            0.7
           ],
           [
            0.7
           ],
           [
            0.7
           ],
           [
            0.7
           ],
           [
            0.7
           ],
           [
            0.7
           ],
           [
            0.7
           ],
           [
            0.7
           ],
           [
            0.7
           ],
           [
            0.7
           ],
           [
            0.7
           ],
           [
            0.7
           ],
           [
            0.7
           ],
           [
            0.7
           ],
           [
            0.7
           ],
           [
            0.7
           ],
           [
            0.7
           ],
           [
            0.7
           ],
           [
            0.7
           ],
           [
            0.7
           ],
           [
            0.7
           ],
           [
            0.7
           ],
           [
            0.7
           ],
           [
            0.7
           ],
           [
            0.7
           ],
           [
            0.7
           ],
           [
            0.7
           ],
           [
            0.7
           ],
           [
            0.7
           ],
           [
            0.7
           ],
           [
            0.7
           ],
           [
            0.7
           ],
           [
            0.7
           ],
           [
            0.7
           ],
           [
            0.7
           ],
           [
            0.7
           ],
           [
            0.7
           ],
           [
            0.7
           ],
           [
            0.7
           ],
           [
            0.7
           ],
           [
            0.7
           ],
           [
            0.7
           ],
           [
            0.7
           ],
           [
            0.7
           ],
           [
            0.7
           ],
           [
            0.7
           ],
           [
            0.7
           ],
           [
            0.7
           ],
           [
            0.7
           ],
           [
            0.7
           ],
           [
            0.7
           ],
           [
            0.7
           ],
           [
            0.7
           ],
           [
            0.7
           ]
          ],
          "size": [
           5,
           5,
           5,
           5,
           5,
           5
          ]
         },
         "mode": "markers",
         "name": "Other",
         "type": "scatter",
         "uid": "b29fd492-86fd-4ece-b9fe-cfa86362256d",
         "x": [
          0,
          0,
          0,
          7,
          0,
          28
         ],
         "y": [
          20,
          36,
          14,
          22,
          21,
          28
         ]
        }
       ],
       "layout": {
        "xaxis": {
         "ticktext": [
          "Spain",
          "Colombia",
          "Mexico",
          "Dominican Rep.",
          "Austria",
          "Chile",
          "France",
          "Canada",
          "Niger",
          "China",
          "Australia",
          "Russia",
          "Germany",
          "Brazil",
          "USA",
          "India",
          "Slovakia",
          "Italy",
          "England",
          "Cuba",
          "Ukraine",
          "Venezuela",
          "Indonesia",
          "Albania",
          "Pakistan",
          "The Bahamas",
          "Argentina",
          "Iceland",
          "Scotland",
          "Sudan",
          "New Zealand",
          "Ireland",
          "Macedonia",
          "Unknown"
         ],
         "tickvals": [
          0,
          1,
          2,
          3,
          4,
          5,
          6,
          7,
          8,
          9,
          10,
          11,
          12,
          13,
          14,
          15,
          16,
          17,
          18,
          19,
          20,
          21,
          22,
          23,
          24,
          25,
          26,
          27,
          28,
          29,
          30,
          31,
          32,
          33
         ],
         "title": {
          "text": "Nationality"
         }
        },
        "yaxis": {
         "title": {
          "text": "Age"
         }
        }
       }
      },
      "text/html": [
       "<div id=\"a9ab1c52-10b0-4d39-b954-eb4104e5ead2\" style=\"height: 525px; width: 100%;\" class=\"plotly-graph-div\"></div><script type=\"text/javascript\">require([\"plotly\"], function(Plotly) { window.PLOTLYENV=window.PLOTLYENV || {};window.PLOTLYENV.BASE_URL=\"https://plot.ly\";\n",
       "if (document.getElementById(\"a9ab1c52-10b0-4d39-b954-eb4104e5ead2\")) {\n",
       "    Plotly.newPlot(\"a9ab1c52-10b0-4d39-b954-eb4104e5ead2\", [{\"marker\": {\"color\": \"rgb(102,194,165)\", \"opacity\": [[0.7], [0.7], [0.7], [0.7], [0.7], [0.7], [0.7], [0.7], [0.7], [0.7], [0.7], [0.7], [0.7], [0.7], [0.7], [0.7], [0.7], [0.7], [0.7], [0.7], [0.7], [0.7], [0.7], [0.7], [0.7], [0.7], [0.7], [0.7], [0.7], [0.7], [0.7], [0.7], [0.7], [0.7], [0.7], [0.7], [0.7], [0.7], [0.7], [0.7], [0.7], [0.7], [0.7], [0.7], [0.7], [0.7], [0.7], [0.7], [0.7], [0.7], [0.7], [0.7], [0.7], [0.7], [0.7], [0.7], [0.7], [0.7], [0.7], [0.7], [0.7], [0.7], [0.7], [0.7], [0.7], [0.7], [0.7], [0.7], [0.7], [0.7], [0.7], [0.7], [0.7], [0.7], [0.7], [0.7], [0.7], [0.7], [0.7], [0.7], [0.7], [0.7], [0.7], [0.7], [0.7], [0.7], [0.7], [0.7], [0.7], [0.7], [0.7], [0.7], [0.7], [0.7], [0.7], [0.7], [0.7], [0.7], [0.7], [0.7], [0.7], [0.7], [0.7], [0.7], [0.7], [0.7], [0.7], [0.7], [0.7], [0.7], [0.7], [0.7], [0.7], [0.7], [0.7], [0.7], [0.7], [0.7], [0.7], [0.7], [0.7], [0.7], [0.7], [0.7], [0.7], [0.7], [0.7], [0.7], [0.7], [0.7], [0.7], [0.7], [0.7], [0.7], [0.7], [0.7], [0.7], [0.7], [0.7], [0.7], [0.7], [0.7], [0.7], [0.7], [0.7], [0.7], [0.7], [0.7], [0.7], [0.7], [0.7], [0.7], [0.7], [0.7], [0.7], [0.7], [0.7], [0.7], [0.7], [0.7], [0.7], [0.7], [0.7], [0.7], [0.7], [0.7], [0.7], [0.7], [0.7], [0.7], [0.7], [0.7], [0.7], [0.7], [0.7], [0.7], [0.7], [0.7], [0.7], [0.7], [0.7], [0.7], [0.7], [0.7], [0.7], [0.7], [0.7], [0.7], [0.7], [0.7], [0.7], [0.7], [0.7], [0.7], [0.7], [0.7], [0.7], [0.7], [0.7], [0.7], [0.7], [0.7], [0.7], [0.7], [0.7], [0.7], [0.7], [0.7], [0.7], [0.7], [0.7], [0.7], [0.7], [0.7], [0.7], [0.7], [0.7], [0.7], [0.7], [0.7], [0.7], [0.7], [0.7], [0.7], [0.7], [0.7], [0.7], [0.7], [0.7], [0.7], [0.7], [0.7], [0.7], [0.7], [0.7], [0.7], [0.7], [0.7], [0.7], [0.7], [0.7], [0.7], [0.7], [0.7], [0.7], [0.7], [0.7], [0.7], [0.7], [0.7], [0.7], [0.7], [0.7], [0.7], [0.7], [0.7], [0.7], [0.7], [0.7], [0.7], [0.7], [0.7], [0.7], [0.7], [0.7], [0.7], [0.7], [0.7], [0.7], [0.7], [0.7], [0.7], [0.7], [0.7], [0.7], [0.7], [0.7], [0.7], [0.7], [0.7], [0.7], [0.7], [0.7], [0.7], [0.7], [0.7], [0.7], [0.7], [0.7], [0.7], [0.7], [0.7], [0.7], [0.7], [0.7], [0.7], [0.7], [0.7], [0.7], [0.7], [0.7], [0.7], [0.7], [0.7], [0.7], [0.7], [0.7], [0.7], [0.7], [0.7], [0.7], [0.7], [0.7], [0.7], [0.7], [0.7], [0.7], [0.7], [0.7], [0.7], [0.7], [0.7], [0.7], [0.7], [0.7], [0.7], [0.7], [0.7], [0.7], [0.7], [0.7], [0.7], [0.7], [0.7], [0.7], [0.7], [0.7], [0.7], [0.7], [0.7], [0.7], [0.7], [0.7], [0.7], [0.7], [0.7], [0.7], [0.7], [0.7], [0.7], [0.7], [0.7], [0.7], [0.7], [0.7], [0.7], [0.7], [0.7], [0.7], [0.7], [0.7], [0.7], [0.7], [0.7], [0.7], [0.7], [0.7], [0.7], [0.7], [0.7], [0.7], [0.7], [0.7], [0.7], [0.7], [0.7], [0.7], [0.7], [0.7], [0.7], [0.7], [0.7], [0.7], [0.7], [0.7], [0.7], [0.7], [0.7], [0.7], [0.7], [0.7], [0.7], [0.7], [0.7], [0.7], [0.7], [0.7], [0.7], [0.7], [0.7], [0.7], [0.7], [0.7], [0.7], [0.7], [0.7], [0.7], [0.7], [0.7], [0.7], [0.7], [0.7], [0.7], [0.7], [0.7], [0.7], [0.7], [0.7], [0.7], [0.7], [0.7], [0.7], [0.7], [0.7], [0.7], [0.7], [0.7], [0.7], [0.7], [0.7], [0.7], [0.7], [0.7], [0.7], [0.7], [0.7], [0.7], [0.7], [0.7], [0.7], [0.7], [0.7], [0.7], [0.7], [0.7], [0.7], [0.7], [0.7], [0.7], [0.7], [0.7], [0.7], [0.7], [0.7], [0.7], [0.7], [0.7], [0.7], [0.7], [0.7], [0.7], [0.7], [0.7], [0.7], [0.7], [0.7], [0.7], [0.7], [0.7], [0.7], [0.7], [0.7], [0.7], [0.7], [0.7], [0.7], [0.7], [0.7], [0.7], [0.7], [0.7], [0.7], [0.7], [0.7], [0.7], [0.7], [0.7], [0.7], [0.7], [0.7], [0.7], [0.7], [0.7], [0.7], [0.7], [0.7], [0.7], [0.7], [0.7], [0.7], [0.7], [0.7], [0.7], [0.7], [0.7], [0.7], [0.7], [0.7], [0.7], [0.7], [0.7], [0.7], [0.7], [0.7], [0.7], [0.7], [0.7], [0.7], [0.7], [0.7], [0.7], [0.7], [0.7], [0.7], [0.7], [0.7], [0.7], [0.7], [0.7], [0.7], [0.7], [0.7], [0.7], [0.7], [0.7], [0.7], [0.7], [0.7], [0.7], [0.7], [0.7], [0.7], [0.7], [0.7], [0.7], [0.7], [0.7], [0.7], [0.7], [0.7], [0.7], [0.7], [0.7], [0.7], [0.7], [0.7], [0.7], [0.7], [0.7], [0.7], [0.7], [0.7], [0.7], [0.7], [0.7], [0.7], [0.7], [0.7], [0.7], [0.7], [0.7], [0.7], [0.7], [0.7], [0.7], [0.7], [0.7], [0.7], [0.7], [0.7], [0.7], [0.7], [0.7], [0.7], [0.7], [0.7], [0.7], [0.7], [0.7], [0.7], [0.7], [0.7], [0.7], [0.7], [0.7], [0.7], [0.7], [0.7], [0.7], [0.7], [0.7], [0.7], [0.7], [0.7], [0.7], [0.7], [0.7], [0.7], [0.7], [0.7], [0.7], [0.7], [0.7], [0.7], [0.7], [0.7], [0.7], [0.7], [0.7], [0.7], [0.7], [0.7], [0.7], [0.7], [0.7], [0.7], [0.7], [0.7], [0.7], [0.7], [0.7], [0.7], [0.7], [0.7], [0.7], [0.7], [0.7], [0.7], [0.7], [0.7], [0.7], [0.7], [0.7], [0.7], [0.7], [0.7], [0.7], [0.7], [0.7], [0.7], [0.7], [0.7], [0.7], [0.7], [0.7], [0.7], [0.7], [0.7], [0.7], [0.7], [0.7], [0.7], [0.7], [0.7], [0.7], [0.7], [0.7], [0.7], [0.7], [0.7], [0.7], [0.7], [0.7], [0.7], [0.7], [0.7], [0.7], [0.7], [0.7], [0.7], [0.7], [0.7], [0.7], [0.7], [0.7], [0.7], [0.7], [0.7], [0.7], [0.7], [0.7], [0.7], [0.7], [0.7], [0.7], [0.7], [0.7], [0.7], [0.7], [0.7], [0.7], [0.7], [0.7], [0.7], [0.7], [0.7], [0.7], [0.7], [0.7], [0.7], [0.7], [0.7], [0.7], [0.7], [0.7], [0.7], [0.7], [0.7], [0.7], [0.7], [0.7], [0.7], [0.7], [0.7], [0.7], [0.7], [0.7], [0.7], [0.7], [0.7], [0.7], [0.7], [0.7], [0.7], [0.7], [0.7], [0.7], [0.7], [0.7], [0.7], [0.7], [0.7], [0.7], [0.7], [0.7], [0.7], [0.7], [0.7], [0.7], [0.7], [0.7], [0.7], [0.7], [0.7], [0.7], [0.7], [0.7], [0.7], [0.7], [0.7], [0.7], [0.7], [0.7], [0.7], [0.7], [0.7], [0.7]], \"size\": [85, 35, 35, 20, 20, 20, 20, 20, 15, 15, 15, 15, 10, 10, 10, 10, 5, 5, 5, 5, 5, 5, 5, 5, 5, 5, 5, 5, 5, 5, 5, 5, 5, 5, 5, 5, 5, 5, 5, 5, 5, 5, 5, 5, 5, 5, 5, 5, 5, 5, 5, 5, 5, 5, 5, 5, 5, 70, 65, 45, 40, 40, 35, 35, 30, 30, 25, 25, 25, 20, 20, 20, 20, 20, 20, 10, 10, 10, 10, 10, 10, 10, 10, 5, 5, 5, 5, 5, 5, 5, 5, 5, 5, 5, 5, 5, 5, 5, 55, 35, 25, 25, 20, 20, 15, 15, 15, 10, 10, 10, 10, 10, 10, 10, 10, 10, 5, 5, 5, 5, 5, 5, 5, 5, 10, 10, 10, 5, 5, 5, 5, 5, 5, 5, 5, 5, 5, 5, 5, 5, 5, 5, 5, 5, 5, 5, 5, 5]}, \"mode\": \"markers\", \"name\": \"Male\", \"x\": [0, 0, 0, 3, 0, 0, 0, 0, 0, 0, 0, 0, 0, 0, 0, 0, 0, 0, 0, 0, 0, 0, 0, 0, 0, 0, 6, 0, 0, 0, 0, 0, 0, 0, 0, 0, 0, 0, 0, 0, 0, 0, 0, 0, 0, 0, 0, 6, 0, 0, 0, 0, 0, 0, 0, 0, 0, 0, 0, 0, 0, 8, 0, 0, 10, 6, 0, 0, 0, 0, 0, 0, 0, 0, 0, 0, 0, 8, 8, 0, 0, 0, 0, 0, 0, 0, 0, 0, 0, 0, 0, 9, 0, 0, 0, 0, 0, 14, 0, 0, 14, 16, 15, 17, 15, 33, 15, 15, 15, 14, 14, 14, 15, 14, 14, 15, 14, 14, 14, 14, 14, 14, 15, 14, 14, 14, 14, 14, 14, 14, 14, 15, 15, 14, 33, 14, 17, 7, 14, 14, 14, 14, 14, 15, 15, 33, 15, 18, 15, 13, 14, 14, 15, 14, 14, 15, 14, 8, 14, 15, 17, 15, 14, 14, 15, 0, 14, 14, 14, 15, 23, 2, 15, 14, 33, 14, 14, 15, 14, 14, 33, 14, 14, 13, 14, 14, 14, 7, 14, 14, 15, 14, 14, 14, 14, 15, 15, 17, 15, 15, 26, 15, 14, 15, 14, 14, 14, 27, 14, 14, 7, 14, 15, 15, 14, 14, 15, 14, 15, 15, 14, 15, 14, 7, 14, 14, 14, 14, 15, 14, 6, 15, 17, 14, 14, 14, 14, 18, 14, 17, 14, 14, 15, 15, 14, 14, 14, 14, 14, 14, 11, 15, 14, 14, 14, 15, 29, 14, 14, 15, 14, 14, 15, 15, 15, 18, 15, 15, 14, 14, 14, 15, 15, 14, 14, 15, 14, 14, 14, 14, 17, 14, 18, 17, 15, 14, 15, 14, 15, 14, 14, 14, 14, 32, 14, 18, 14, 15, 14, 18, 15, 15, 14, 14, 14, 14, 22, 14, 14, 14, 7, 14, 14, 14, 14, 14, 14, 14, 14, 14, 6, 14, 14, 15, 15, 14, 14, 21, 14, 21, 14, 14, 14, 14, 15, 14, 15, 14, 15, 14, 15, 15, 15, 15, 15, 14, 14, 15, 15, 15, 14, 15, 14, 14, 14, 14, 14, 14], \"y\": [37, 62, 28, 30, 60, 20, 31, 33, 23, 21, 29, 29, 36, 38, 33, 19, 25, 67, 23, 70, 36, 17, 17, 18, 15, 15, 23, 14, 21, 30, 53, 29, 30, 20, 30, 20, 15, 14, 14, 14, 14, 14, 15, 14, 15, 31, 30, 19, 16, 16, 15, 16, 18, 15, 19, 34, 35, 38, 20, 23, 21, 18, 61, 57, 41, 26, 46, 28, 22, 47, 42, 31, 28, 23, 18, 21, 14, 15, 16, 14, 14, 24, 64, 32, 21, 13, 14, 16, 14, 14, 14, 14, 14, 14, 14, 19, 18, 45, 21, 21, 27, 28, 32, 29, 22, 29, 21, 28, 26, 27, 32, 32, 40, 27, 26, 31, 34, 25, 28, 30, 46, 28, 28, 30, 24, 27, 38, 31, 24, 28, 46, 26, 22, 38, 26, 27, 40, 26, 34, 31, 29, 32, 47, 34, 28, 36, 34, 33, 43, 35, 39, 42, 32, 33, 24, 24, 47, 27, 47, 24, 29, 34, 29, 39, 42, 43, 42, 28, 35, 36, 24, 22, 27, 53, 28, 31, 60, 34, 39, 69, 21, 43, 34, 19, 30, 29, 33, 65, 30, 38, 28, 47, 23, 39, 30, 39, 29, 22, 42, 37, 36, 44, 36, 29, 63, 32, 37, 27, 35, 26, 32, 32, 28, 33, 29, 39, 35, 31, 25, 36, 36, 30, 30, 34, 27, 57, 44, 36, 29, 29, 29, 36, 28, 38, 37, 28, 54, 28, 41, 28, 39, 27, 38, 33, 42, 35, 45, 30, 27, 30, 23, 44, 25, 27, 26, 25, 23, 38, 35, 24, 33, 31, 32, 53, 28, 21, 41, 29, 51, 31, 30, 28, 37, 49, 26, 26, 26, 33, 27, 30, 22, 34, 24, 27, 24, 22, 28, 60, 39, 39, 43, 33, 25, 40, 40, 26, 26, 33, 39, 23, 35, 29, 34, 42, 39, 51, 23, 32, 41, 29, 27, 67, 27, 32, 27, 36, 34, 47, 30, 62, 35, 49, 71, 31, 23, 68, 50, 30, 30, 40, 30, 66, 37, 57, 25, 30, 29, 32, 24, 48, 28, 26, 29, 28, 25, 37, 27, 28, 23, 27, 26, 26, 25, 29, 28, 34, 24, 34], \"type\": \"scatter\", \"uid\": \"539086a2-51c1-4035-87c9-a7cef3224847\"}, {\"marker\": {\"color\": \"rgb(254,224,139)\", \"opacity\": [[0.7], [0.7], [0.7], [0.7], [0.7], [0.7], [0.7], [0.7], [0.7], [0.7], [0.7], [0.7], [0.7], [0.7], [0.7], [0.7], [0.7], [0.7], [0.7], [0.7], [0.7], [0.7], [0.7], [0.7], [0.7], [0.7], [0.7], [0.7], [0.7], [0.7], [0.7], [0.7], [0.7], [0.7], [0.7], [0.7], [0.7], [0.7], [0.7], [0.7], [0.7], [0.7], [0.7], [0.7], [0.7], [0.7], [0.7], [0.7], [0.7], [0.7], [0.7], [0.7], [0.7], [0.7], [0.7], [0.7], [0.7], [0.7], [0.7], [0.7], [0.7], [0.7], [0.7], [0.7], [0.7], [0.7], [0.7], [0.7], [0.7], [0.7], [0.7], [0.7], [0.7], [0.7], [0.7], [0.7], [0.7], [0.7], [0.7], [0.7], [0.7], [0.7], [0.7], [0.7], [0.7], [0.7], [0.7], [0.7], [0.7], [0.7], [0.7], [0.7], [0.7], [0.7], [0.7], [0.7], [0.7], [0.7], [0.7], [0.7], [0.7], [0.7], [0.7], [0.7], [0.7], [0.7], [0.7], [0.7], [0.7], [0.7], [0.7], [0.7], [0.7], [0.7], [0.7], [0.7], [0.7], [0.7], [0.7], [0.7], [0.7], [0.7], [0.7], [0.7], [0.7], [0.7], [0.7], [0.7], [0.7], [0.7], [0.7], [0.7], [0.7], [0.7], [0.7], [0.7], [0.7], [0.7], [0.7], [0.7], [0.7], [0.7], [0.7], [0.7], [0.7], [0.7], [0.7], [0.7], [0.7], [0.7], [0.7], [0.7], [0.7], [0.7], [0.7], [0.7], [0.7], [0.7], [0.7], [0.7], [0.7], [0.7], [0.7], [0.7], [0.7], [0.7], [0.7], [0.7], [0.7], [0.7], [0.7], [0.7], [0.7], [0.7], [0.7], [0.7], [0.7], [0.7], [0.7], [0.7], [0.7], [0.7], [0.7], [0.7], [0.7], [0.7], [0.7], [0.7], [0.7], [0.7], [0.7], [0.7], [0.7], [0.7], [0.7], [0.7], [0.7], [0.7], [0.7], [0.7], [0.7], [0.7], [0.7], [0.7], [0.7], [0.7], [0.7], [0.7], [0.7], [0.7], [0.7], [0.7], [0.7], [0.7], [0.7], [0.7], [0.7], [0.7], [0.7], [0.7], [0.7], [0.7], [0.7], [0.7], [0.7], [0.7], [0.7], [0.7], [0.7], [0.7], [0.7], [0.7], [0.7], [0.7], [0.7], [0.7], [0.7], [0.7], [0.7], [0.7], [0.7], [0.7], [0.7], [0.7], [0.7], [0.7], [0.7], [0.7], [0.7], [0.7], [0.7], [0.7], [0.7], [0.7], [0.7], [0.7], [0.7], [0.7], [0.7], [0.7], [0.7], [0.7], [0.7], [0.7], [0.7], [0.7], [0.7], [0.7], [0.7], [0.7], [0.7], [0.7], [0.7], [0.7], [0.7], [0.7], [0.7], [0.7], [0.7], [0.7], [0.7], [0.7], [0.7], [0.7], [0.7], [0.7], [0.7], [0.7], [0.7], [0.7], [0.7], [0.7], [0.7], [0.7], [0.7], [0.7], [0.7], [0.7], [0.7], [0.7], [0.7], [0.7], [0.7], [0.7], [0.7], [0.7], [0.7], [0.7], [0.7], [0.7], [0.7], [0.7], [0.7], [0.7], [0.7], [0.7], [0.7], [0.7], [0.7], [0.7], [0.7], [0.7], [0.7], [0.7], [0.7], [0.7], [0.7], [0.7], [0.7], [0.7], [0.7], [0.7], [0.7], [0.7], [0.7], [0.7], [0.7], [0.7], [0.7], [0.7], [0.7], [0.7], [0.7], [0.7], [0.7], [0.7], [0.7], [0.7], [0.7], [0.7], [0.7], [0.7], [0.7], [0.7], [0.7], [0.7], [0.7], [0.7], [0.7], [0.7], [0.7], [0.7], [0.7], [0.7], [0.7], [0.7], [0.7], [0.7], [0.7], [0.7], [0.7], [0.7], [0.7], [0.7], [0.7], [0.7], [0.7], [0.7], [0.7], [0.7], [0.7], [0.7], [0.7], [0.7], [0.7], [0.7], [0.7], [0.7], [0.7], [0.7], [0.7], [0.7], [0.7], [0.7], [0.7], [0.7], [0.7], [0.7], [0.7], [0.7], [0.7], [0.7], [0.7], [0.7], [0.7], [0.7], [0.7], [0.7], [0.7], [0.7], [0.7], [0.7], [0.7], [0.7], [0.7], [0.7], [0.7], [0.7], [0.7], [0.7], [0.7], [0.7], [0.7], [0.7], [0.7], [0.7], [0.7], [0.7], [0.7], [0.7], [0.7], [0.7], [0.7], [0.7], [0.7], [0.7], [0.7], [0.7], [0.7], [0.7], [0.7], [0.7], [0.7], [0.7], [0.7], [0.7], [0.7], [0.7], [0.7], [0.7], [0.7], [0.7], [0.7], [0.7], [0.7], [0.7], [0.7], [0.7], [0.7], [0.7], [0.7], [0.7], [0.7], [0.7], [0.7], [0.7], [0.7], [0.7], [0.7], [0.7], [0.7], [0.7], [0.7], [0.7], [0.7], [0.7], [0.7], [0.7], [0.7], [0.7], [0.7], [0.7], [0.7], [0.7], [0.7], [0.7], [0.7], [0.7], [0.7], [0.7], [0.7], [0.7], [0.7], [0.7], [0.7], [0.7], [0.7], [0.7], [0.7], [0.7], [0.7], [0.7], [0.7], [0.7], [0.7], [0.7], [0.7], [0.7], [0.7], [0.7], [0.7], [0.7], [0.7], [0.7], [0.7], [0.7], [0.7], [0.7], [0.7], [0.7], [0.7], [0.7], [0.7], [0.7], [0.7], [0.7], [0.7], [0.7], [0.7], [0.7], [0.7], [0.7], [0.7], [0.7], [0.7], [0.7], [0.7], [0.7], [0.7], [0.7], [0.7], [0.7], [0.7], [0.7], [0.7], [0.7], [0.7], [0.7], [0.7], [0.7], [0.7], [0.7], [0.7], [0.7], [0.7], [0.7], [0.7], [0.7], [0.7], [0.7], [0.7], [0.7], [0.7], [0.7], [0.7], [0.7], [0.7], [0.7], [0.7], [0.7], [0.7], [0.7], [0.7], [0.7], [0.7], [0.7], [0.7], [0.7], [0.7], [0.7], [0.7], [0.7], [0.7], [0.7], [0.7], [0.7], [0.7], [0.7], [0.7], [0.7], [0.7], [0.7], [0.7], [0.7], [0.7], [0.7], [0.7], [0.7], [0.7], [0.7], [0.7], [0.7], [0.7], [0.7], [0.7], [0.7], [0.7], [0.7], [0.7], [0.7], [0.7], [0.7], [0.7], [0.7], [0.7], [0.7], [0.7], [0.7], [0.7], [0.7], [0.7], [0.7], [0.7], [0.7], [0.7], [0.7], [0.7], [0.7], [0.7], [0.7], [0.7], [0.7], [0.7], [0.7], [0.7], [0.7], [0.7], [0.7], [0.7], [0.7], [0.7], [0.7], [0.7], [0.7], [0.7], [0.7], [0.7], [0.7], [0.7], [0.7], [0.7], [0.7], [0.7], [0.7], [0.7], [0.7], [0.7], [0.7], [0.7], [0.7], [0.7], [0.7], [0.7], [0.7], [0.7], [0.7], [0.7], [0.7], [0.7], [0.7], [0.7], [0.7], [0.7], [0.7], [0.7], [0.7], [0.7], [0.7], [0.7], [0.7], [0.7], [0.7], [0.7], [0.7], [0.7], [0.7], [0.7], [0.7], [0.7], [0.7], [0.7], [0.7], [0.7], [0.7], [0.7], [0.7], [0.7], [0.7], [0.7], [0.7], [0.7], [0.7], [0.7], [0.7], [0.7], [0.7], [0.7], [0.7], [0.7], [0.7], [0.7], [0.7], [0.7], [0.7], [0.7], [0.7], [0.7], [0.7], [0.7], [0.7], [0.7], [0.7], [0.7], [0.7], [0.7], [0.7], [0.7], [0.7], [0.7], [0.7], [0.7], [0.7], [0.7], [0.7], [0.7], [0.7], [0.7], [0.7], [0.7], [0.7], [0.7], [0.7], [0.7], [0.7], [0.7], [0.7], [0.7], [0.7], [0.7], [0.7], [0.7], [0.7], [0.7], [0.7], [0.7], [0.7], [0.7], [0.7], [0.7], [0.7], [0.7], [0.7], [0.7], [0.7], [0.7], [0.7], [0.7]], \"size\": [50, 45, 30, 30, 30, 30, 25, 25, 20, 20, 20, 20, 15, 15, 15, 15, 15, 15, 15, 15, 10, 10, 10, 10, 10, 10, 10, 10, 5, 5, 5, 5, 5, 5, 5, 5, 5, 5, 5, 5, 5, 5, 5, 5, 5, 25, 15, 15, 5, 5, 5, 5, 5, 5, 5, 5, 5, 60, 55, 45, 35, 30, 30, 30, 30, 30, 30, 25, 20, 20, 20, 15, 15, 15, 15, 15, 15, 15, 15, 15, 15, 10, 10, 10, 10, 10, 10, 10, 10, 10, 10, 10, 5, 5, 5, 5, 5, 5, 5, 5, 5, 5, 5, 5, 5, 5, 85, 30, 25, 25, 15, 15, 10, 10, 10, 5, 5, 5, 5, 5, 5, 5, 5, 5, 5, 5, 5, 5, 5, 5, 5, 5, 5, 5, 5, 5, 25, 10, 10, 10, 10, 10, 5, 5, 5, 5, 5, 5, 5, 5, 5, 5, 5, 5, 5, 5, 5, 5, 5, 5]}, \"mode\": \"markers\", \"name\": \"Female\", \"x\": [0, 0, 0, 1, 3, 0, 0, 0, 0, 0, 0, 0, 0, 4, 5, 0, 0, 0, 0, 0, 0, 0, 0, 0, 0, 0, 0, 0, 0, 0, 0, 0, 0, 0, 0, 0, 0, 0, 6, 6, 6, 0, 0, 0, 0, 0, 6, 0, 0, 0, 0, 0, 0, 0, 0, 0, 0, 0, 0, 0, 0, 0, 0, 0, 0, 0, 0, 0, 0, 6, 0, 0, 0, 0, 0, 0, 0, 0, 0, 0, 0, 0, 0, 0, 0, 6, 0, 0, 6, 0, 6, 6, 6, 6, 6, 6, 0, 0, 0, 0, 0, 0, 0, 0, 0, 0, 0, 0, 0, 11, 0, 0, 0, 13, 0, 0, 6, 0, 0, 0, 0, 0, 0, 0, 0, 0, 0, 0, 0, 0, 0, 0, 0, 0, 0, 0, 0, 0, 0, 14, 33, 14, 14, 14, 14, 15, 15, 14, 14, 15, 15, 14, 14, 14, 14, 14, 14, 33, 14, 14, 14, 18, 33, 33, 15, 14, 14, 15, 15, 15, 14, 15, 14, 14, 14, 15, 14, 14, 14, 33, 14, 15, 14, 15, 14, 12, 14, 7, 14, 15, 14, 0, 15, 14, 15, 14, 14, 14, 14, 14, 14, 15, 21, 14, 14, 33, 14, 14, 14, 33, 14, 14, 14, 14, 14, 33, 24, 14, 14, 15, 15, 14, 14, 14, 14, 14, 7, 14, 14, 14, 14, 33, 14, 14, 15, 14, 14, 33, 25, 14, 33, 14, 33, 14, 15, 14, 14, 14, 15, 14, 15, 15, 18, 33, 15, 14, 33, 17, 14, 14, 33, 15, 15, 14, 0, 14, 14, 14, 14, 15, 14, 14, 14, 15, 18, 14, 15, 17, 0, 15, 33, 14, 15, 15, 14, 14, 15, 15, 14, 14, 15, 33, 14, 14, 33, 14, 14, 20, 14, 14, 30, 15, 14, 14, 14, 14, 14, 14, 14, 15, 14, 14, 14, 18, 14, 14, 14, 14, 14, 14, 33, 33, 33, 14, 31, 14, 14, 33, 14, 14, 14, 14, 21, 14, 15, 14, 14, 14, 33, 14, 14, 14, 14, 17, 14, 33, 14, 33, 14, 33, 14, 14, 31, 14, 7, 33, 14, 14, 14, 14, 14, 14, 15, 33, 14, 14, 14, 14, 14, 14, 14, 14, 14, 14, 19, 14, 33, 15, 14, 14, 33, 33, 14, 15, 33, 14, 14, 15, 15, 14, 15, 14, 14, 33, 14, 15, 15, 14, 15, 15, 15, 15, 14], \"y\": [31, 24, 30, 42, 32, 30, 31, 35, 23, 28, 41, 32, 22, 33, 46, 24, 43, 21, 50, 57, 46, 53, 44, 18, 27, 64, 18, 23, 15, 15, 15, 16, 16, 17, 31, 35, 32, 31, 21, 22, 20, 35, 48, 29, 42, 28, 21, 28, 27, 62, 19, 21, 22, 23, 18, 19, 18, 51, 15, 15, 14, 26, 34, 17, 17, 16, 15, 15, 16, 19, 16, 35, 38, 34, 30, 34, 41, 35, 35, 36, 46, 32, 55, 34, 37, 21, 52, 31, 25, 31, 20, 19, 19, 19, 18, 20, 39, 44, 28, 41, 57, 55, 28, 61, 62, 43, 39, 46, 55, 21, 45, 27, 46, 32, 21, 26, 19, 21, 15, 13, 15, 30, 62, 24, 14, 14, 14, 14, 13, 13, 14, 14, 14, 15, 14, 13, 53, 21, 21, 81, 42, 26, 27, 27, 26, 37, 32, 25, 29, 30, 29, 37, 28, 22, 27, 44, 35, 35, 27, 35, 61, 27, 31, 23, 33, 22, 37, 31, 30, 24, 49, 32, 35, 41, 26, 30, 35, 35, 22, 39, 33, 37, 21, 30, 27, 56, 35, 24, 36, 24, 34, 30, 33, 55, 26, 25, 37, 46, 59, 25, 23, 29, 32, 55, 27, 26, 23, 26, 51, 62, 51, 30, 60, 54, 48, 32, 26, 29, 39, 40, 31, 21, 56, 24, 34, 43, 56, 34, 46, 35, 49, 28, 33, 26, 29, 47, 27, 28, 43, 54, 31, 24, 40, 30, 38, 38, 23, 24, 24, 30, 24, 29, 26, 52, 29, 51, 56, 22, 30, 22, 37, 24, 38, 25, 28, 46, 46, 48, 33, 24, 33, 32, 36, 33, 45, 42, 34, 38, 20, 37, 20, 44, 27, 30, 57, 40, 34, 24, 66, 46, 35, 20, 38, 30, 28, 27, 56, 24, 45, 59, 27, 33, 41, 31, 64, 34, 81, 43, 38, 24, 46, 25, 29, 67, 69, 73, 30, 38, 42, 31, 50, 55, 32, 25, 53, 45, 35, 46, 33, 25, 45, 62, 24, 27, 30, 50, 28, 43, 33, 50, 40, 47, 55, 26, 48, 67, 27, 28, 38, 43, 47, 24, 38, 27, 21, 43, 36, 60, 25, 25, 45, 29, 24, 27, 44, 54, 37, 58, 65, 34, 53, 35, 78, 33, 23, 18, 36, 24, 37, 26, 53, 25, 38, 24, 28, 37, 35, 33, 31, 29, 25, 35, 50, 26, 26, 24, 24, 34, 24, 24, 24, 24, 27], \"type\": \"scatter\", \"uid\": \"81484c9a-e5a1-4a8e-82af-eed29df8fe5a\"}, {\"marker\": {\"color\": \"rgb(244,109,67)\", \"opacity\": [[0.7], [0.7], [0.7], [0.7], [0.7], [0.7], [0.7], [0.7], [0.7], [0.7], [0.7], [0.7], [0.7], [0.7], [0.7], [0.7], [0.7], [0.7], [0.7], [0.7], [0.7], [0.7], [0.7], [0.7], [0.7], [0.7], [0.7], [0.7], [0.7], [0.7], [0.7], [0.7], [0.7], [0.7], [0.7], [0.7], [0.7], [0.7], [0.7], [0.7], [0.7], [0.7], [0.7], [0.7], [0.7], [0.7], [0.7], [0.7], [0.7], [0.7], [0.7], [0.7], [0.7], [0.7], [0.7], [0.7], [0.7], [0.7], [0.7], [0.7], [0.7], [0.7], [0.7], [0.7], [0.7], [0.7], [0.7], [0.7], [0.7], [0.7], [0.7], [0.7], [0.7], [0.7], [0.7], [0.7], [0.7], [0.7], [0.7], [0.7], [0.7], [0.7], [0.7], [0.7], [0.7], [0.7], [0.7], [0.7], [0.7], [0.7], [0.7], [0.7], [0.7], [0.7], [0.7], [0.7], [0.7], [0.7], [0.7], [0.7], [0.7], [0.7], [0.7], [0.7], [0.7], [0.7], [0.7], [0.7], [0.7], [0.7], [0.7], [0.7], [0.7], [0.7], [0.7], [0.7], [0.7], [0.7], [0.7], [0.7], [0.7], [0.7], [0.7], [0.7], [0.7], [0.7], [0.7], [0.7], [0.7], [0.7], [0.7], [0.7], [0.7], [0.7], [0.7], [0.7], [0.7], [0.7], [0.7], [0.7], [0.7], [0.7], [0.7], [0.7], [0.7], [0.7], [0.7], [0.7], [0.7], [0.7], [0.7], [0.7], [0.7], [0.7], [0.7], [0.7], [0.7], [0.7], [0.7], [0.7], [0.7], [0.7], [0.7], [0.7], [0.7], [0.7], [0.7], [0.7], [0.7], [0.7], [0.7], [0.7], [0.7], [0.7], [0.7], [0.7], [0.7], [0.7], [0.7], [0.7], [0.7], [0.7], [0.7], [0.7], [0.7], [0.7], [0.7], [0.7], [0.7], [0.7], [0.7], [0.7], [0.7], [0.7], [0.7], [0.7], [0.7], [0.7], [0.7], [0.7], [0.7], [0.7], [0.7], [0.7], [0.7], [0.7], [0.7], [0.7], [0.7], [0.7], [0.7], [0.7], [0.7], [0.7], [0.7], [0.7], [0.7], [0.7], [0.7], [0.7], [0.7], [0.7], [0.7], [0.7], [0.7], [0.7], [0.7], [0.7], [0.7], [0.7], [0.7], [0.7], [0.7], [0.7], [0.7], [0.7], [0.7], [0.7], [0.7], [0.7], [0.7], [0.7], [0.7], [0.7], [0.7], [0.7], [0.7], [0.7], [0.7], [0.7], [0.7], [0.7], [0.7], [0.7], [0.7], [0.7], [0.7], [0.7], [0.7], [0.7], [0.7], [0.7], [0.7], [0.7], [0.7], [0.7], [0.7], [0.7], [0.7], [0.7], [0.7], [0.7], [0.7], [0.7], [0.7], [0.7], [0.7], [0.7], [0.7], [0.7], [0.7], [0.7], [0.7], [0.7], [0.7], [0.7], [0.7], [0.7], [0.7], [0.7], [0.7], [0.7], [0.7], [0.7], [0.7], [0.7], [0.7], [0.7], [0.7], [0.7], [0.7], [0.7], [0.7], [0.7], [0.7], [0.7], [0.7], [0.7], [0.7], [0.7], [0.7], [0.7], [0.7], [0.7], [0.7], [0.7], [0.7], [0.7], [0.7], [0.7], [0.7], [0.7], [0.7], [0.7], [0.7], [0.7], [0.7], [0.7], [0.7], [0.7], [0.7], [0.7], [0.7], [0.7], [0.7], [0.7], [0.7], [0.7], [0.7], [0.7], [0.7], [0.7], [0.7], [0.7], [0.7], [0.7], [0.7], [0.7], [0.7], [0.7], [0.7], [0.7], [0.7], [0.7], [0.7], [0.7], [0.7], [0.7], [0.7], [0.7], [0.7], [0.7], [0.7], [0.7], [0.7], [0.7], [0.7], [0.7], [0.7], [0.7], [0.7], [0.7], [0.7], [0.7], [0.7], [0.7], [0.7], [0.7], [0.7], [0.7], [0.7], [0.7], [0.7], [0.7], [0.7], [0.7], [0.7], [0.7], [0.7], [0.7], [0.7], [0.7], [0.7], [0.7], [0.7], [0.7], [0.7], [0.7], [0.7], [0.7], [0.7], [0.7], [0.7], [0.7], [0.7], [0.7], [0.7], [0.7], [0.7], [0.7], [0.7], [0.7], [0.7], [0.7], [0.7], [0.7], [0.7], [0.7], [0.7], [0.7], [0.7], [0.7], [0.7], [0.7], [0.7], [0.7], [0.7], [0.7], [0.7], [0.7], [0.7], [0.7], [0.7], [0.7], [0.7], [0.7], [0.7], [0.7], [0.7], [0.7], [0.7], [0.7], [0.7], [0.7], [0.7], [0.7], [0.7], [0.7], [0.7], [0.7], [0.7], [0.7], [0.7], [0.7], [0.7], [0.7], [0.7], [0.7], [0.7], [0.7], [0.7], [0.7], [0.7], [0.7], [0.7], [0.7], [0.7], [0.7], [0.7], [0.7], [0.7], [0.7], [0.7], [0.7], [0.7], [0.7], [0.7], [0.7], [0.7], [0.7], [0.7], [0.7], [0.7], [0.7], [0.7], [0.7], [0.7], [0.7], [0.7], [0.7], [0.7], [0.7], [0.7], [0.7], [0.7], [0.7], [0.7], [0.7], [0.7], [0.7], [0.7], [0.7], [0.7], [0.7], [0.7], [0.7], [0.7], [0.7], [0.7], [0.7], [0.7], [0.7], [0.7], [0.7], [0.7], [0.7], [0.7], [0.7], [0.7], [0.7], [0.7], [0.7], [0.7], [0.7], [0.7], [0.7], [0.7], [0.7], [0.7], [0.7], [0.7], [0.7], [0.7], [0.7], [0.7], [0.7], [0.7], [0.7], [0.7], [0.7], [0.7], [0.7], [0.7], [0.7], [0.7], [0.7], [0.7], [0.7], [0.7], [0.7], [0.7], [0.7], [0.7], [0.7], [0.7], [0.7], [0.7], [0.7], [0.7], [0.7], [0.7], [0.7], [0.7], [0.7], [0.7], [0.7], [0.7], [0.7], [0.7], [0.7], [0.7], [0.7], [0.7], [0.7], [0.7], [0.7], [0.7], [0.7], [0.7], [0.7], [0.7], [0.7], [0.7], [0.7], [0.7], [0.7], [0.7], [0.7], [0.7], [0.7], [0.7], [0.7], [0.7], [0.7], [0.7], [0.7], [0.7], [0.7], [0.7], [0.7], [0.7], [0.7], [0.7], [0.7], [0.7], [0.7], [0.7], [0.7], [0.7], [0.7], [0.7], [0.7], [0.7], [0.7], [0.7], [0.7], [0.7], [0.7], [0.7], [0.7], [0.7], [0.7], [0.7], [0.7], [0.7], [0.7], [0.7], [0.7], [0.7], [0.7], [0.7], [0.7], [0.7], [0.7], [0.7], [0.7], [0.7], [0.7], [0.7], [0.7], [0.7], [0.7], [0.7], [0.7], [0.7], [0.7], [0.7], [0.7], [0.7], [0.7], [0.7], [0.7], [0.7], [0.7], [0.7], [0.7], [0.7], [0.7], [0.7], [0.7], [0.7], [0.7], [0.7], [0.7], [0.7], [0.7], [0.7], [0.7], [0.7], [0.7], [0.7], [0.7], [0.7], [0.7], [0.7], [0.7], [0.7], [0.7], [0.7], [0.7], [0.7], [0.7], [0.7], [0.7], [0.7], [0.7], [0.7], [0.7], [0.7], [0.7], [0.7], [0.7], [0.7], [0.7], [0.7], [0.7], [0.7], [0.7], [0.7], [0.7], [0.7], [0.7], [0.7], [0.7], [0.7], [0.7], [0.7], [0.7], [0.7], [0.7], [0.7], [0.7], [0.7], [0.7], [0.7], [0.7], [0.7], [0.7], [0.7], [0.7], [0.7], [0.7], [0.7], [0.7], [0.7], [0.7], [0.7], [0.7], [0.7], [0.7], [0.7], [0.7], [0.7], [0.7], [0.7], [0.7], [0.7], [0.7], [0.7], [0.7], [0.7], [0.7], [0.7], [0.7], [0.7], [0.7], [0.7], [0.7], [0.7], [0.7], [0.7], [0.7], [0.7], [0.7], [0.7], [0.7], [0.7], [0.7], [0.7], [0.7], [0.7], [0.7], [0.7], [0.7], [0.7], [0.7], [0.7]], \"size\": [5, 5, 5, 5, 5, 5]}, \"mode\": \"markers\", \"name\": \"Other\", \"x\": [0, 0, 0, 7, 0, 28], \"y\": [20, 36, 14, 22, 21, 28], \"type\": \"scatter\", \"uid\": \"06996257-45a1-4556-98a1-305f2ac4a0f7\"}], {\"xaxis\": {\"ticktext\": [\"Spain\", \"Colombia\", \"Mexico\", \"Dominican Rep.\", \"Austria\", \"Chile\", \"France\", \"Canada\", \"Niger\", \"China\", \"Australia\", \"Russia\", \"Germany\", \"Brazil\", \"USA\", \"India\", \"Slovakia\", \"Italy\", \"England\", \"Cuba\", \"Ukraine\", \"Venezuela\", \"Indonesia\", \"Albania\", \"Pakistan\", \"The Bahamas\", \"Argentina\", \"Iceland\", \"Scotland\", \"Sudan\", \"New Zealand\", \"Ireland\", \"Macedonia\", \"Unknown\"], \"tickvals\": [0, 1, 2, 3, 4, 5, 6, 7, 8, 9, 10, 11, 12, 13, 14, 15, 16, 17, 18, 19, 20, 21, 22, 23, 24, 25, 26, 27, 28, 29, 30, 31, 32, 33], \"title\": {\"text\": \"Nationality\"}}, \"yaxis\": {\"title\": {\"text\": \"Age\"}}}, {\"showLink\": false, \"linkText\": \"Export to plot.ly\", \"plotlyServerURL\": \"https://plot.ly\"}); \n",
       "}\n",
       "});</script><script type=\"text/javascript\">window.addEventListener(\"resize\", function(){if (document.getElementById(\"a9ab1c52-10b0-4d39-b954-eb4104e5ead2\")) {window._Plotly.Plots.resize(document.getElementById(\"a9ab1c52-10b0-4d39-b954-eb4104e5ead2\"));};})</script>"
      ],
      "text/vnd.plotly.v1+html": [
       "<div id=\"a9ab1c52-10b0-4d39-b954-eb4104e5ead2\" style=\"height: 525px; width: 100%;\" class=\"plotly-graph-div\"></div><script type=\"text/javascript\">require([\"plotly\"], function(Plotly) { window.PLOTLYENV=window.PLOTLYENV || {};window.PLOTLYENV.BASE_URL=\"https://plot.ly\";\n",
       "if (document.getElementById(\"a9ab1c52-10b0-4d39-b954-eb4104e5ead2\")) {\n",
       "    Plotly.newPlot(\"a9ab1c52-10b0-4d39-b954-eb4104e5ead2\", [{\"marker\": {\"color\": \"rgb(102,194,165)\", \"opacity\": [[0.7], [0.7], [0.7], [0.7], [0.7], [0.7], [0.7], [0.7], [0.7], [0.7], [0.7], [0.7], [0.7], [0.7], [0.7], [0.7], [0.7], [0.7], [0.7], [0.7], [0.7], [0.7], [0.7], [0.7], [0.7], [0.7], [0.7], [0.7], [0.7], [0.7], [0.7], [0.7], [0.7], [0.7], [0.7], [0.7], [0.7], [0.7], [0.7], [0.7], [0.7], [0.7], [0.7], [0.7], [0.7], [0.7], [0.7], [0.7], [0.7], [0.7], [0.7], [0.7], [0.7], [0.7], [0.7], [0.7], [0.7], [0.7], [0.7], [0.7], [0.7], [0.7], [0.7], [0.7], [0.7], [0.7], [0.7], [0.7], [0.7], [0.7], [0.7], [0.7], [0.7], [0.7], [0.7], [0.7], [0.7], [0.7], [0.7], [0.7], [0.7], [0.7], [0.7], [0.7], [0.7], [0.7], [0.7], [0.7], [0.7], [0.7], [0.7], [0.7], [0.7], [0.7], [0.7], [0.7], [0.7], [0.7], [0.7], [0.7], [0.7], [0.7], [0.7], [0.7], [0.7], [0.7], [0.7], [0.7], [0.7], [0.7], [0.7], [0.7], [0.7], [0.7], [0.7], [0.7], [0.7], [0.7], [0.7], [0.7], [0.7], [0.7], [0.7], [0.7], [0.7], [0.7], [0.7], [0.7], [0.7], [0.7], [0.7], [0.7], [0.7], [0.7], [0.7], [0.7], [0.7], [0.7], [0.7], [0.7], [0.7], [0.7], [0.7], [0.7], [0.7], [0.7], [0.7], [0.7], [0.7], [0.7], [0.7], [0.7], [0.7], [0.7], [0.7], [0.7], [0.7], [0.7], [0.7], [0.7], [0.7], [0.7], [0.7], [0.7], [0.7], [0.7], [0.7], [0.7], [0.7], [0.7], [0.7], [0.7], [0.7], [0.7], [0.7], [0.7], [0.7], [0.7], [0.7], [0.7], [0.7], [0.7], [0.7], [0.7], [0.7], [0.7], [0.7], [0.7], [0.7], [0.7], [0.7], [0.7], [0.7], [0.7], [0.7], [0.7], [0.7], [0.7], [0.7], [0.7], [0.7], [0.7], [0.7], [0.7], [0.7], [0.7], [0.7], [0.7], [0.7], [0.7], [0.7], [0.7], [0.7], [0.7], [0.7], [0.7], [0.7], [0.7], [0.7], [0.7], [0.7], [0.7], [0.7], [0.7], [0.7], [0.7], [0.7], [0.7], [0.7], [0.7], [0.7], [0.7], [0.7], [0.7], [0.7], [0.7], [0.7], [0.7], [0.7], [0.7], [0.7], [0.7], [0.7], [0.7], [0.7], [0.7], [0.7], [0.7], [0.7], [0.7], [0.7], [0.7], [0.7], [0.7], [0.7], [0.7], [0.7], [0.7], [0.7], [0.7], [0.7], [0.7], [0.7], [0.7], [0.7], [0.7], [0.7], [0.7], [0.7], [0.7], [0.7], [0.7], [0.7], [0.7], [0.7], [0.7], [0.7], [0.7], [0.7], [0.7], [0.7], [0.7], [0.7], [0.7], [0.7], [0.7], [0.7], [0.7], [0.7], [0.7], [0.7], [0.7], [0.7], [0.7], [0.7], [0.7], [0.7], [0.7], [0.7], [0.7], [0.7], [0.7], [0.7], [0.7], [0.7], [0.7], [0.7], [0.7], [0.7], [0.7], [0.7], [0.7], [0.7], [0.7], [0.7], [0.7], [0.7], [0.7], [0.7], [0.7], [0.7], [0.7], [0.7], [0.7], [0.7], [0.7], [0.7], [0.7], [0.7], [0.7], [0.7], [0.7], [0.7], [0.7], [0.7], [0.7], [0.7], [0.7], [0.7], [0.7], [0.7], [0.7], [0.7], [0.7], [0.7], [0.7], [0.7], [0.7], [0.7], [0.7], [0.7], [0.7], [0.7], [0.7], [0.7], [0.7], [0.7], [0.7], [0.7], [0.7], [0.7], [0.7], [0.7], [0.7], [0.7], [0.7], [0.7], [0.7], [0.7], [0.7], [0.7], [0.7], [0.7], [0.7], [0.7], [0.7], [0.7], [0.7], [0.7], [0.7], [0.7], [0.7], [0.7], [0.7], [0.7], [0.7], [0.7], [0.7], [0.7], [0.7], [0.7], [0.7], [0.7], [0.7], [0.7], [0.7], [0.7], [0.7], [0.7], [0.7], [0.7], [0.7], [0.7], [0.7], [0.7], [0.7], [0.7], [0.7], [0.7], [0.7], [0.7], [0.7], [0.7], [0.7], [0.7], [0.7], [0.7], [0.7], [0.7], [0.7], [0.7], [0.7], [0.7], [0.7], [0.7], [0.7], [0.7], [0.7], [0.7], [0.7], [0.7], [0.7], [0.7], [0.7], [0.7], [0.7], [0.7], [0.7], [0.7], [0.7], [0.7], [0.7], [0.7], [0.7], [0.7], [0.7], [0.7], [0.7], [0.7], [0.7], [0.7], [0.7], [0.7], [0.7], [0.7], [0.7], [0.7], [0.7], [0.7], [0.7], [0.7], [0.7], [0.7], [0.7], [0.7], [0.7], [0.7], [0.7], [0.7], [0.7], [0.7], [0.7], [0.7], [0.7], [0.7], [0.7], [0.7], [0.7], [0.7], [0.7], [0.7], [0.7], [0.7], [0.7], [0.7], [0.7], [0.7], [0.7], [0.7], [0.7], [0.7], [0.7], [0.7], [0.7], [0.7], [0.7], [0.7], [0.7], [0.7], [0.7], [0.7], [0.7], [0.7], [0.7], [0.7], [0.7], [0.7], [0.7], [0.7], [0.7], [0.7], [0.7], [0.7], [0.7], [0.7], [0.7], [0.7], [0.7], [0.7], [0.7], [0.7], [0.7], [0.7], [0.7], [0.7], [0.7], [0.7], [0.7], [0.7], [0.7], [0.7], [0.7], [0.7], [0.7], [0.7], [0.7], [0.7], [0.7], [0.7], [0.7], [0.7], [0.7], [0.7], [0.7], [0.7], [0.7], [0.7], [0.7], [0.7], [0.7], [0.7], [0.7], [0.7], [0.7], [0.7], [0.7], [0.7], [0.7], [0.7], [0.7], [0.7], [0.7], [0.7], [0.7], [0.7], [0.7], [0.7], [0.7], [0.7], [0.7], [0.7], [0.7], [0.7], [0.7], [0.7], [0.7], [0.7], [0.7], [0.7], [0.7], [0.7], [0.7], [0.7], [0.7], [0.7], [0.7], [0.7], [0.7], [0.7], [0.7], [0.7], [0.7], [0.7], [0.7], [0.7], [0.7], [0.7], [0.7], [0.7], [0.7], [0.7], [0.7], [0.7], [0.7], [0.7], [0.7], [0.7], [0.7], [0.7], [0.7], [0.7], [0.7], [0.7], [0.7], [0.7], [0.7], [0.7], [0.7], [0.7], [0.7], [0.7], [0.7], [0.7], [0.7], [0.7], [0.7], [0.7], [0.7], [0.7], [0.7], [0.7], [0.7], [0.7], [0.7], [0.7], [0.7], [0.7], [0.7], [0.7], [0.7], [0.7], [0.7], [0.7], [0.7], [0.7], [0.7], [0.7], [0.7], [0.7], [0.7], [0.7], [0.7], [0.7], [0.7], [0.7], [0.7], [0.7], [0.7], [0.7], [0.7], [0.7], [0.7], [0.7], [0.7], [0.7], [0.7], [0.7], [0.7], [0.7], [0.7], [0.7], [0.7], [0.7], [0.7], [0.7], [0.7], [0.7], [0.7], [0.7], [0.7], [0.7], [0.7], [0.7], [0.7], [0.7], [0.7], [0.7], [0.7], [0.7], [0.7], [0.7], [0.7], [0.7], [0.7], [0.7], [0.7], [0.7], [0.7], [0.7], [0.7], [0.7], [0.7], [0.7], [0.7], [0.7], [0.7], [0.7], [0.7], [0.7], [0.7], [0.7], [0.7], [0.7], [0.7], [0.7], [0.7], [0.7], [0.7], [0.7], [0.7], [0.7], [0.7], [0.7], [0.7], [0.7], [0.7], [0.7], [0.7], [0.7], [0.7], [0.7], [0.7], [0.7], [0.7], [0.7], [0.7], [0.7], [0.7], [0.7], [0.7], [0.7], [0.7], [0.7], [0.7], [0.7], [0.7], [0.7], [0.7], [0.7], [0.7], [0.7], [0.7], [0.7], [0.7], [0.7], [0.7], [0.7], [0.7], [0.7], [0.7], [0.7], [0.7], [0.7], [0.7], [0.7], [0.7], [0.7]], \"size\": [85, 35, 35, 20, 20, 20, 20, 20, 15, 15, 15, 15, 10, 10, 10, 10, 5, 5, 5, 5, 5, 5, 5, 5, 5, 5, 5, 5, 5, 5, 5, 5, 5, 5, 5, 5, 5, 5, 5, 5, 5, 5, 5, 5, 5, 5, 5, 5, 5, 5, 5, 5, 5, 5, 5, 5, 5, 70, 65, 45, 40, 40, 35, 35, 30, 30, 25, 25, 25, 20, 20, 20, 20, 20, 20, 10, 10, 10, 10, 10, 10, 10, 10, 5, 5, 5, 5, 5, 5, 5, 5, 5, 5, 5, 5, 5, 5, 5, 55, 35, 25, 25, 20, 20, 15, 15, 15, 10, 10, 10, 10, 10, 10, 10, 10, 10, 5, 5, 5, 5, 5, 5, 5, 5, 10, 10, 10, 5, 5, 5, 5, 5, 5, 5, 5, 5, 5, 5, 5, 5, 5, 5, 5, 5, 5, 5, 5, 5]}, \"mode\": \"markers\", \"name\": \"Male\", \"x\": [0, 0, 0, 3, 0, 0, 0, 0, 0, 0, 0, 0, 0, 0, 0, 0, 0, 0, 0, 0, 0, 0, 0, 0, 0, 0, 6, 0, 0, 0, 0, 0, 0, 0, 0, 0, 0, 0, 0, 0, 0, 0, 0, 0, 0, 0, 0, 6, 0, 0, 0, 0, 0, 0, 0, 0, 0, 0, 0, 0, 0, 8, 0, 0, 10, 6, 0, 0, 0, 0, 0, 0, 0, 0, 0, 0, 0, 8, 8, 0, 0, 0, 0, 0, 0, 0, 0, 0, 0, 0, 0, 9, 0, 0, 0, 0, 0, 14, 0, 0, 14, 16, 15, 17, 15, 33, 15, 15, 15, 14, 14, 14, 15, 14, 14, 15, 14, 14, 14, 14, 14, 14, 15, 14, 14, 14, 14, 14, 14, 14, 14, 15, 15, 14, 33, 14, 17, 7, 14, 14, 14, 14, 14, 15, 15, 33, 15, 18, 15, 13, 14, 14, 15, 14, 14, 15, 14, 8, 14, 15, 17, 15, 14, 14, 15, 0, 14, 14, 14, 15, 23, 2, 15, 14, 33, 14, 14, 15, 14, 14, 33, 14, 14, 13, 14, 14, 14, 7, 14, 14, 15, 14, 14, 14, 14, 15, 15, 17, 15, 15, 26, 15, 14, 15, 14, 14, 14, 27, 14, 14, 7, 14, 15, 15, 14, 14, 15, 14, 15, 15, 14, 15, 14, 7, 14, 14, 14, 14, 15, 14, 6, 15, 17, 14, 14, 14, 14, 18, 14, 17, 14, 14, 15, 15, 14, 14, 14, 14, 14, 14, 11, 15, 14, 14, 14, 15, 29, 14, 14, 15, 14, 14, 15, 15, 15, 18, 15, 15, 14, 14, 14, 15, 15, 14, 14, 15, 14, 14, 14, 14, 17, 14, 18, 17, 15, 14, 15, 14, 15, 14, 14, 14, 14, 32, 14, 18, 14, 15, 14, 18, 15, 15, 14, 14, 14, 14, 22, 14, 14, 14, 7, 14, 14, 14, 14, 14, 14, 14, 14, 14, 6, 14, 14, 15, 15, 14, 14, 21, 14, 21, 14, 14, 14, 14, 15, 14, 15, 14, 15, 14, 15, 15, 15, 15, 15, 14, 14, 15, 15, 15, 14, 15, 14, 14, 14, 14, 14, 14], \"y\": [37, 62, 28, 30, 60, 20, 31, 33, 23, 21, 29, 29, 36, 38, 33, 19, 25, 67, 23, 70, 36, 17, 17, 18, 15, 15, 23, 14, 21, 30, 53, 29, 30, 20, 30, 20, 15, 14, 14, 14, 14, 14, 15, 14, 15, 31, 30, 19, 16, 16, 15, 16, 18, 15, 19, 34, 35, 38, 20, 23, 21, 18, 61, 57, 41, 26, 46, 28, 22, 47, 42, 31, 28, 23, 18, 21, 14, 15, 16, 14, 14, 24, 64, 32, 21, 13, 14, 16, 14, 14, 14, 14, 14, 14, 14, 19, 18, 45, 21, 21, 27, 28, 32, 29, 22, 29, 21, 28, 26, 27, 32, 32, 40, 27, 26, 31, 34, 25, 28, 30, 46, 28, 28, 30, 24, 27, 38, 31, 24, 28, 46, 26, 22, 38, 26, 27, 40, 26, 34, 31, 29, 32, 47, 34, 28, 36, 34, 33, 43, 35, 39, 42, 32, 33, 24, 24, 47, 27, 47, 24, 29, 34, 29, 39, 42, 43, 42, 28, 35, 36, 24, 22, 27, 53, 28, 31, 60, 34, 39, 69, 21, 43, 34, 19, 30, 29, 33, 65, 30, 38, 28, 47, 23, 39, 30, 39, 29, 22, 42, 37, 36, 44, 36, 29, 63, 32, 37, 27, 35, 26, 32, 32, 28, 33, 29, 39, 35, 31, 25, 36, 36, 30, 30, 34, 27, 57, 44, 36, 29, 29, 29, 36, 28, 38, 37, 28, 54, 28, 41, 28, 39, 27, 38, 33, 42, 35, 45, 30, 27, 30, 23, 44, 25, 27, 26, 25, 23, 38, 35, 24, 33, 31, 32, 53, 28, 21, 41, 29, 51, 31, 30, 28, 37, 49, 26, 26, 26, 33, 27, 30, 22, 34, 24, 27, 24, 22, 28, 60, 39, 39, 43, 33, 25, 40, 40, 26, 26, 33, 39, 23, 35, 29, 34, 42, 39, 51, 23, 32, 41, 29, 27, 67, 27, 32, 27, 36, 34, 47, 30, 62, 35, 49, 71, 31, 23, 68, 50, 30, 30, 40, 30, 66, 37, 57, 25, 30, 29, 32, 24, 48, 28, 26, 29, 28, 25, 37, 27, 28, 23, 27, 26, 26, 25, 29, 28, 34, 24, 34], \"type\": \"scatter\", \"uid\": \"539086a2-51c1-4035-87c9-a7cef3224847\"}, {\"marker\": {\"color\": \"rgb(254,224,139)\", \"opacity\": [[0.7], [0.7], [0.7], [0.7], [0.7], [0.7], [0.7], [0.7], [0.7], [0.7], [0.7], [0.7], [0.7], [0.7], [0.7], [0.7], [0.7], [0.7], [0.7], [0.7], [0.7], [0.7], [0.7], [0.7], [0.7], [0.7], [0.7], [0.7], [0.7], [0.7], [0.7], [0.7], [0.7], [0.7], [0.7], [0.7], [0.7], [0.7], [0.7], [0.7], [0.7], [0.7], [0.7], [0.7], [0.7], [0.7], [0.7], [0.7], [0.7], [0.7], [0.7], [0.7], [0.7], [0.7], [0.7], [0.7], [0.7], [0.7], [0.7], [0.7], [0.7], [0.7], [0.7], [0.7], [0.7], [0.7], [0.7], [0.7], [0.7], [0.7], [0.7], [0.7], [0.7], [0.7], [0.7], [0.7], [0.7], [0.7], [0.7], [0.7], [0.7], [0.7], [0.7], [0.7], [0.7], [0.7], [0.7], [0.7], [0.7], [0.7], [0.7], [0.7], [0.7], [0.7], [0.7], [0.7], [0.7], [0.7], [0.7], [0.7], [0.7], [0.7], [0.7], [0.7], [0.7], [0.7], [0.7], [0.7], [0.7], [0.7], [0.7], [0.7], [0.7], [0.7], [0.7], [0.7], [0.7], [0.7], [0.7], [0.7], [0.7], [0.7], [0.7], [0.7], [0.7], [0.7], [0.7], [0.7], [0.7], [0.7], [0.7], [0.7], [0.7], [0.7], [0.7], [0.7], [0.7], [0.7], [0.7], [0.7], [0.7], [0.7], [0.7], [0.7], [0.7], [0.7], [0.7], [0.7], [0.7], [0.7], [0.7], [0.7], [0.7], [0.7], [0.7], [0.7], [0.7], [0.7], [0.7], [0.7], [0.7], [0.7], [0.7], [0.7], [0.7], [0.7], [0.7], [0.7], [0.7], [0.7], [0.7], [0.7], [0.7], [0.7], [0.7], [0.7], [0.7], [0.7], [0.7], [0.7], [0.7], [0.7], [0.7], [0.7], [0.7], [0.7], [0.7], [0.7], [0.7], [0.7], [0.7], [0.7], [0.7], [0.7], [0.7], [0.7], [0.7], [0.7], [0.7], [0.7], [0.7], [0.7], [0.7], [0.7], [0.7], [0.7], [0.7], [0.7], [0.7], [0.7], [0.7], [0.7], [0.7], [0.7], [0.7], [0.7], [0.7], [0.7], [0.7], [0.7], [0.7], [0.7], [0.7], [0.7], [0.7], [0.7], [0.7], [0.7], [0.7], [0.7], [0.7], [0.7], [0.7], [0.7], [0.7], [0.7], [0.7], [0.7], [0.7], [0.7], [0.7], [0.7], [0.7], [0.7], [0.7], [0.7], [0.7], [0.7], [0.7], [0.7], [0.7], [0.7], [0.7], [0.7], [0.7], [0.7], [0.7], [0.7], [0.7], [0.7], [0.7], [0.7], [0.7], [0.7], [0.7], [0.7], [0.7], [0.7], [0.7], [0.7], [0.7], [0.7], [0.7], [0.7], [0.7], [0.7], [0.7], [0.7], [0.7], [0.7], [0.7], [0.7], [0.7], [0.7], [0.7], [0.7], [0.7], [0.7], [0.7], [0.7], [0.7], [0.7], [0.7], [0.7], [0.7], [0.7], [0.7], [0.7], [0.7], [0.7], [0.7], [0.7], [0.7], [0.7], [0.7], [0.7], [0.7], [0.7], [0.7], [0.7], [0.7], [0.7], [0.7], [0.7], [0.7], [0.7], [0.7], [0.7], [0.7], [0.7], [0.7], [0.7], [0.7], [0.7], [0.7], [0.7], [0.7], [0.7], [0.7], [0.7], [0.7], [0.7], [0.7], [0.7], [0.7], [0.7], [0.7], [0.7], [0.7], [0.7], [0.7], [0.7], [0.7], [0.7], [0.7], [0.7], [0.7], [0.7], [0.7], [0.7], [0.7], [0.7], [0.7], [0.7], [0.7], [0.7], [0.7], [0.7], [0.7], [0.7], [0.7], [0.7], [0.7], [0.7], [0.7], [0.7], [0.7], [0.7], [0.7], [0.7], [0.7], [0.7], [0.7], [0.7], [0.7], [0.7], [0.7], [0.7], [0.7], [0.7], [0.7], [0.7], [0.7], [0.7], [0.7], [0.7], [0.7], [0.7], [0.7], [0.7], [0.7], [0.7], [0.7], [0.7], [0.7], [0.7], [0.7], [0.7], [0.7], [0.7], [0.7], [0.7], [0.7], [0.7], [0.7], [0.7], [0.7], [0.7], [0.7], [0.7], [0.7], [0.7], [0.7], [0.7], [0.7], [0.7], [0.7], [0.7], [0.7], [0.7], [0.7], [0.7], [0.7], [0.7], [0.7], [0.7], [0.7], [0.7], [0.7], [0.7], [0.7], [0.7], [0.7], [0.7], [0.7], [0.7], [0.7], [0.7], [0.7], [0.7], [0.7], [0.7], [0.7], [0.7], [0.7], [0.7], [0.7], [0.7], [0.7], [0.7], [0.7], [0.7], [0.7], [0.7], [0.7], [0.7], [0.7], [0.7], [0.7], [0.7], [0.7], [0.7], [0.7], [0.7], [0.7], [0.7], [0.7], [0.7], [0.7], [0.7], [0.7], [0.7], [0.7], [0.7], [0.7], [0.7], [0.7], [0.7], [0.7], [0.7], [0.7], [0.7], [0.7], [0.7], [0.7], [0.7], [0.7], [0.7], [0.7], [0.7], [0.7], [0.7], [0.7], [0.7], [0.7], [0.7], [0.7], [0.7], [0.7], [0.7], [0.7], [0.7], [0.7], [0.7], [0.7], [0.7], [0.7], [0.7], [0.7], [0.7], [0.7], [0.7], [0.7], [0.7], [0.7], [0.7], [0.7], [0.7], [0.7], [0.7], [0.7], [0.7], [0.7], [0.7], [0.7], [0.7], [0.7], [0.7], [0.7], [0.7], [0.7], [0.7], [0.7], [0.7], [0.7], [0.7], [0.7], [0.7], [0.7], [0.7], [0.7], [0.7], [0.7], [0.7], [0.7], [0.7], [0.7], [0.7], [0.7], [0.7], [0.7], [0.7], [0.7], [0.7], [0.7], [0.7], [0.7], [0.7], [0.7], [0.7], [0.7], [0.7], [0.7], [0.7], [0.7], [0.7], [0.7], [0.7], [0.7], [0.7], [0.7], [0.7], [0.7], [0.7], [0.7], [0.7], [0.7], [0.7], [0.7], [0.7], [0.7], [0.7], [0.7], [0.7], [0.7], [0.7], [0.7], [0.7], [0.7], [0.7], [0.7], [0.7], [0.7], [0.7], [0.7], [0.7], [0.7], [0.7], [0.7], [0.7], [0.7], [0.7], [0.7], [0.7], [0.7], [0.7], [0.7], [0.7], [0.7], [0.7], [0.7], [0.7], [0.7], [0.7], [0.7], [0.7], [0.7], [0.7], [0.7], [0.7], [0.7], [0.7], [0.7], [0.7], [0.7], [0.7], [0.7], [0.7], [0.7], [0.7], [0.7], [0.7], [0.7], [0.7], [0.7], [0.7], [0.7], [0.7], [0.7], [0.7], [0.7], [0.7], [0.7], [0.7], [0.7], [0.7], [0.7], [0.7], [0.7], [0.7], [0.7], [0.7], [0.7], [0.7], [0.7], [0.7], [0.7], [0.7], [0.7], [0.7], [0.7], [0.7], [0.7], [0.7], [0.7], [0.7], [0.7], [0.7], [0.7], [0.7], [0.7], [0.7], [0.7], [0.7], [0.7], [0.7], [0.7], [0.7], [0.7], [0.7], [0.7], [0.7], [0.7], [0.7], [0.7], [0.7], [0.7], [0.7], [0.7], [0.7], [0.7], [0.7], [0.7], [0.7], [0.7], [0.7], [0.7], [0.7], [0.7], [0.7], [0.7], [0.7], [0.7], [0.7], [0.7], [0.7], [0.7], [0.7], [0.7], [0.7], [0.7], [0.7], [0.7], [0.7], [0.7], [0.7], [0.7], [0.7], [0.7], [0.7], [0.7], [0.7], [0.7], [0.7], [0.7], [0.7], [0.7], [0.7], [0.7], [0.7], [0.7], [0.7], [0.7], [0.7], [0.7], [0.7], [0.7], [0.7], [0.7], [0.7], [0.7], [0.7], [0.7], [0.7], [0.7], [0.7], [0.7], [0.7], [0.7], [0.7], [0.7], [0.7], [0.7], [0.7], [0.7], [0.7], [0.7], [0.7], [0.7], [0.7], [0.7], [0.7], [0.7], [0.7], [0.7], [0.7], [0.7]], \"size\": [50, 45, 30, 30, 30, 30, 25, 25, 20, 20, 20, 20, 15, 15, 15, 15, 15, 15, 15, 15, 10, 10, 10, 10, 10, 10, 10, 10, 5, 5, 5, 5, 5, 5, 5, 5, 5, 5, 5, 5, 5, 5, 5, 5, 5, 25, 15, 15, 5, 5, 5, 5, 5, 5, 5, 5, 5, 60, 55, 45, 35, 30, 30, 30, 30, 30, 30, 25, 20, 20, 20, 15, 15, 15, 15, 15, 15, 15, 15, 15, 15, 10, 10, 10, 10, 10, 10, 10, 10, 10, 10, 10, 5, 5, 5, 5, 5, 5, 5, 5, 5, 5, 5, 5, 5, 5, 85, 30, 25, 25, 15, 15, 10, 10, 10, 5, 5, 5, 5, 5, 5, 5, 5, 5, 5, 5, 5, 5, 5, 5, 5, 5, 5, 5, 5, 5, 25, 10, 10, 10, 10, 10, 5, 5, 5, 5, 5, 5, 5, 5, 5, 5, 5, 5, 5, 5, 5, 5, 5, 5]}, \"mode\": \"markers\", \"name\": \"Female\", \"x\": [0, 0, 0, 1, 3, 0, 0, 0, 0, 0, 0, 0, 0, 4, 5, 0, 0, 0, 0, 0, 0, 0, 0, 0, 0, 0, 0, 0, 0, 0, 0, 0, 0, 0, 0, 0, 0, 0, 6, 6, 6, 0, 0, 0, 0, 0, 6, 0, 0, 0, 0, 0, 0, 0, 0, 0, 0, 0, 0, 0, 0, 0, 0, 0, 0, 0, 0, 0, 0, 6, 0, 0, 0, 0, 0, 0, 0, 0, 0, 0, 0, 0, 0, 0, 0, 6, 0, 0, 6, 0, 6, 6, 6, 6, 6, 6, 0, 0, 0, 0, 0, 0, 0, 0, 0, 0, 0, 0, 0, 11, 0, 0, 0, 13, 0, 0, 6, 0, 0, 0, 0, 0, 0, 0, 0, 0, 0, 0, 0, 0, 0, 0, 0, 0, 0, 0, 0, 0, 0, 14, 33, 14, 14, 14, 14, 15, 15, 14, 14, 15, 15, 14, 14, 14, 14, 14, 14, 33, 14, 14, 14, 18, 33, 33, 15, 14, 14, 15, 15, 15, 14, 15, 14, 14, 14, 15, 14, 14, 14, 33, 14, 15, 14, 15, 14, 12, 14, 7, 14, 15, 14, 0, 15, 14, 15, 14, 14, 14, 14, 14, 14, 15, 21, 14, 14, 33, 14, 14, 14, 33, 14, 14, 14, 14, 14, 33, 24, 14, 14, 15, 15, 14, 14, 14, 14, 14, 7, 14, 14, 14, 14, 33, 14, 14, 15, 14, 14, 33, 25, 14, 33, 14, 33, 14, 15, 14, 14, 14, 15, 14, 15, 15, 18, 33, 15, 14, 33, 17, 14, 14, 33, 15, 15, 14, 0, 14, 14, 14, 14, 15, 14, 14, 14, 15, 18, 14, 15, 17, 0, 15, 33, 14, 15, 15, 14, 14, 15, 15, 14, 14, 15, 33, 14, 14, 33, 14, 14, 20, 14, 14, 30, 15, 14, 14, 14, 14, 14, 14, 14, 15, 14, 14, 14, 18, 14, 14, 14, 14, 14, 14, 33, 33, 33, 14, 31, 14, 14, 33, 14, 14, 14, 14, 21, 14, 15, 14, 14, 14, 33, 14, 14, 14, 14, 17, 14, 33, 14, 33, 14, 33, 14, 14, 31, 14, 7, 33, 14, 14, 14, 14, 14, 14, 15, 33, 14, 14, 14, 14, 14, 14, 14, 14, 14, 14, 19, 14, 33, 15, 14, 14, 33, 33, 14, 15, 33, 14, 14, 15, 15, 14, 15, 14, 14, 33, 14, 15, 15, 14, 15, 15, 15, 15, 14], \"y\": [31, 24, 30, 42, 32, 30, 31, 35, 23, 28, 41, 32, 22, 33, 46, 24, 43, 21, 50, 57, 46, 53, 44, 18, 27, 64, 18, 23, 15, 15, 15, 16, 16, 17, 31, 35, 32, 31, 21, 22, 20, 35, 48, 29, 42, 28, 21, 28, 27, 62, 19, 21, 22, 23, 18, 19, 18, 51, 15, 15, 14, 26, 34, 17, 17, 16, 15, 15, 16, 19, 16, 35, 38, 34, 30, 34, 41, 35, 35, 36, 46, 32, 55, 34, 37, 21, 52, 31, 25, 31, 20, 19, 19, 19, 18, 20, 39, 44, 28, 41, 57, 55, 28, 61, 62, 43, 39, 46, 55, 21, 45, 27, 46, 32, 21, 26, 19, 21, 15, 13, 15, 30, 62, 24, 14, 14, 14, 14, 13, 13, 14, 14, 14, 15, 14, 13, 53, 21, 21, 81, 42, 26, 27, 27, 26, 37, 32, 25, 29, 30, 29, 37, 28, 22, 27, 44, 35, 35, 27, 35, 61, 27, 31, 23, 33, 22, 37, 31, 30, 24, 49, 32, 35, 41, 26, 30, 35, 35, 22, 39, 33, 37, 21, 30, 27, 56, 35, 24, 36, 24, 34, 30, 33, 55, 26, 25, 37, 46, 59, 25, 23, 29, 32, 55, 27, 26, 23, 26, 51, 62, 51, 30, 60, 54, 48, 32, 26, 29, 39, 40, 31, 21, 56, 24, 34, 43, 56, 34, 46, 35, 49, 28, 33, 26, 29, 47, 27, 28, 43, 54, 31, 24, 40, 30, 38, 38, 23, 24, 24, 30, 24, 29, 26, 52, 29, 51, 56, 22, 30, 22, 37, 24, 38, 25, 28, 46, 46, 48, 33, 24, 33, 32, 36, 33, 45, 42, 34, 38, 20, 37, 20, 44, 27, 30, 57, 40, 34, 24, 66, 46, 35, 20, 38, 30, 28, 27, 56, 24, 45, 59, 27, 33, 41, 31, 64, 34, 81, 43, 38, 24, 46, 25, 29, 67, 69, 73, 30, 38, 42, 31, 50, 55, 32, 25, 53, 45, 35, 46, 33, 25, 45, 62, 24, 27, 30, 50, 28, 43, 33, 50, 40, 47, 55, 26, 48, 67, 27, 28, 38, 43, 47, 24, 38, 27, 21, 43, 36, 60, 25, 25, 45, 29, 24, 27, 44, 54, 37, 58, 65, 34, 53, 35, 78, 33, 23, 18, 36, 24, 37, 26, 53, 25, 38, 24, 28, 37, 35, 33, 31, 29, 25, 35, 50, 26, 26, 24, 24, 34, 24, 24, 24, 24, 27], \"type\": \"scatter\", \"uid\": \"81484c9a-e5a1-4a8e-82af-eed29df8fe5a\"}, {\"marker\": {\"color\": \"rgb(244,109,67)\", \"opacity\": [[0.7], [0.7], [0.7], [0.7], [0.7], [0.7], [0.7], [0.7], [0.7], [0.7], [0.7], [0.7], [0.7], [0.7], [0.7], [0.7], [0.7], [0.7], [0.7], [0.7], [0.7], [0.7], [0.7], [0.7], [0.7], [0.7], [0.7], [0.7], [0.7], [0.7], [0.7], [0.7], [0.7], [0.7], [0.7], [0.7], [0.7], [0.7], [0.7], [0.7], [0.7], [0.7], [0.7], [0.7], [0.7], [0.7], [0.7], [0.7], [0.7], [0.7], [0.7], [0.7], [0.7], [0.7], [0.7], [0.7], [0.7], [0.7], [0.7], [0.7], [0.7], [0.7], [0.7], [0.7], [0.7], [0.7], [0.7], [0.7], [0.7], [0.7], [0.7], [0.7], [0.7], [0.7], [0.7], [0.7], [0.7], [0.7], [0.7], [0.7], [0.7], [0.7], [0.7], [0.7], [0.7], [0.7], [0.7], [0.7], [0.7], [0.7], [0.7], [0.7], [0.7], [0.7], [0.7], [0.7], [0.7], [0.7], [0.7], [0.7], [0.7], [0.7], [0.7], [0.7], [0.7], [0.7], [0.7], [0.7], [0.7], [0.7], [0.7], [0.7], [0.7], [0.7], [0.7], [0.7], [0.7], [0.7], [0.7], [0.7], [0.7], [0.7], [0.7], [0.7], [0.7], [0.7], [0.7], [0.7], [0.7], [0.7], [0.7], [0.7], [0.7], [0.7], [0.7], [0.7], [0.7], [0.7], [0.7], [0.7], [0.7], [0.7], [0.7], [0.7], [0.7], [0.7], [0.7], [0.7], [0.7], [0.7], [0.7], [0.7], [0.7], [0.7], [0.7], [0.7], [0.7], [0.7], [0.7], [0.7], [0.7], [0.7], [0.7], [0.7], [0.7], [0.7], [0.7], [0.7], [0.7], [0.7], [0.7], [0.7], [0.7], [0.7], [0.7], [0.7], [0.7], [0.7], [0.7], [0.7], [0.7], [0.7], [0.7], [0.7], [0.7], [0.7], [0.7], [0.7], [0.7], [0.7], [0.7], [0.7], [0.7], [0.7], [0.7], [0.7], [0.7], [0.7], [0.7], [0.7], [0.7], [0.7], [0.7], [0.7], [0.7], [0.7], [0.7], [0.7], [0.7], [0.7], [0.7], [0.7], [0.7], [0.7], [0.7], [0.7], [0.7], [0.7], [0.7], [0.7], [0.7], [0.7], [0.7], [0.7], [0.7], [0.7], [0.7], [0.7], [0.7], [0.7], [0.7], [0.7], [0.7], [0.7], [0.7], [0.7], [0.7], [0.7], [0.7], [0.7], [0.7], [0.7], [0.7], [0.7], [0.7], [0.7], [0.7], [0.7], [0.7], [0.7], [0.7], [0.7], [0.7], [0.7], [0.7], [0.7], [0.7], [0.7], [0.7], [0.7], [0.7], [0.7], [0.7], [0.7], [0.7], [0.7], [0.7], [0.7], [0.7], [0.7], [0.7], [0.7], [0.7], [0.7], [0.7], [0.7], [0.7], [0.7], [0.7], [0.7], [0.7], [0.7], [0.7], [0.7], [0.7], [0.7], [0.7], [0.7], [0.7], [0.7], [0.7], [0.7], [0.7], [0.7], [0.7], [0.7], [0.7], [0.7], [0.7], [0.7], [0.7], [0.7], [0.7], [0.7], [0.7], [0.7], [0.7], [0.7], [0.7], [0.7], [0.7], [0.7], [0.7], [0.7], [0.7], [0.7], [0.7], [0.7], [0.7], [0.7], [0.7], [0.7], [0.7], [0.7], [0.7], [0.7], [0.7], [0.7], [0.7], [0.7], [0.7], [0.7], [0.7], [0.7], [0.7], [0.7], [0.7], [0.7], [0.7], [0.7], [0.7], [0.7], [0.7], [0.7], [0.7], [0.7], [0.7], [0.7], [0.7], [0.7], [0.7], [0.7], [0.7], [0.7], [0.7], [0.7], [0.7], [0.7], [0.7], [0.7], [0.7], [0.7], [0.7], [0.7], [0.7], [0.7], [0.7], [0.7], [0.7], [0.7], [0.7], [0.7], [0.7], [0.7], [0.7], [0.7], [0.7], [0.7], [0.7], [0.7], [0.7], [0.7], [0.7], [0.7], [0.7], [0.7], [0.7], [0.7], [0.7], [0.7], [0.7], [0.7], [0.7], [0.7], [0.7], [0.7], [0.7], [0.7], [0.7], [0.7], [0.7], [0.7], [0.7], [0.7], [0.7], [0.7], [0.7], [0.7], [0.7], [0.7], [0.7], [0.7], [0.7], [0.7], [0.7], [0.7], [0.7], [0.7], [0.7], [0.7], [0.7], [0.7], [0.7], [0.7], [0.7], [0.7], [0.7], [0.7], [0.7], [0.7], [0.7], [0.7], [0.7], [0.7], [0.7], [0.7], [0.7], [0.7], [0.7], [0.7], [0.7], [0.7], [0.7], [0.7], [0.7], [0.7], [0.7], [0.7], [0.7], [0.7], [0.7], [0.7], [0.7], [0.7], [0.7], [0.7], [0.7], [0.7], [0.7], [0.7], [0.7], [0.7], [0.7], [0.7], [0.7], [0.7], [0.7], [0.7], [0.7], [0.7], [0.7], [0.7], [0.7], [0.7], [0.7], [0.7], [0.7], [0.7], [0.7], [0.7], [0.7], [0.7], [0.7], [0.7], [0.7], [0.7], [0.7], [0.7], [0.7], [0.7], [0.7], [0.7], [0.7], [0.7], [0.7], [0.7], [0.7], [0.7], [0.7], [0.7], [0.7], [0.7], [0.7], [0.7], [0.7], [0.7], [0.7], [0.7], [0.7], [0.7], [0.7], [0.7], [0.7], [0.7], [0.7], [0.7], [0.7], [0.7], [0.7], [0.7], [0.7], [0.7], [0.7], [0.7], [0.7], [0.7], [0.7], [0.7], [0.7], [0.7], [0.7], [0.7], [0.7], [0.7], [0.7], [0.7], [0.7], [0.7], [0.7], [0.7], [0.7], [0.7], [0.7], [0.7], [0.7], [0.7], [0.7], [0.7], [0.7], [0.7], [0.7], [0.7], [0.7], [0.7], [0.7], [0.7], [0.7], [0.7], [0.7], [0.7], [0.7], [0.7], [0.7], [0.7], [0.7], [0.7], [0.7], [0.7], [0.7], [0.7], [0.7], [0.7], [0.7], [0.7], [0.7], [0.7], [0.7], [0.7], [0.7], [0.7], [0.7], [0.7], [0.7], [0.7], [0.7], [0.7], [0.7], [0.7], [0.7], [0.7], [0.7], [0.7], [0.7], [0.7], [0.7], [0.7], [0.7], [0.7], [0.7], [0.7], [0.7], [0.7], [0.7], [0.7], [0.7], [0.7], [0.7], [0.7], [0.7], [0.7], [0.7], [0.7], [0.7], [0.7], [0.7], [0.7], [0.7], [0.7], [0.7], [0.7], [0.7], [0.7], [0.7], [0.7], [0.7], [0.7], [0.7], [0.7], [0.7], [0.7], [0.7], [0.7], [0.7], [0.7], [0.7], [0.7], [0.7], [0.7], [0.7], [0.7], [0.7], [0.7], [0.7], [0.7], [0.7], [0.7], [0.7], [0.7], [0.7], [0.7], [0.7], [0.7], [0.7], [0.7], [0.7], [0.7], [0.7], [0.7], [0.7], [0.7], [0.7], [0.7], [0.7], [0.7], [0.7], [0.7], [0.7], [0.7], [0.7], [0.7], [0.7], [0.7], [0.7], [0.7], [0.7], [0.7], [0.7], [0.7], [0.7], [0.7], [0.7], [0.7], [0.7], [0.7], [0.7], [0.7], [0.7], [0.7], [0.7], [0.7], [0.7], [0.7], [0.7], [0.7], [0.7], [0.7], [0.7], [0.7], [0.7], [0.7], [0.7], [0.7], [0.7], [0.7], [0.7], [0.7], [0.7], [0.7], [0.7], [0.7], [0.7], [0.7], [0.7], [0.7], [0.7], [0.7], [0.7], [0.7], [0.7], [0.7], [0.7], [0.7], [0.7], [0.7], [0.7], [0.7], [0.7], [0.7], [0.7], [0.7], [0.7], [0.7], [0.7], [0.7], [0.7], [0.7], [0.7], [0.7], [0.7], [0.7], [0.7], [0.7], [0.7], [0.7], [0.7], [0.7], [0.7], [0.7], [0.7], [0.7], [0.7], [0.7], [0.7], [0.7], [0.7], [0.7], [0.7], [0.7], [0.7], [0.7], [0.7], [0.7], [0.7], [0.7], [0.7], [0.7], [0.7]], \"size\": [5, 5, 5, 5, 5, 5]}, \"mode\": \"markers\", \"name\": \"Other\", \"x\": [0, 0, 0, 7, 0, 28], \"y\": [20, 36, 14, 22, 21, 28], \"type\": \"scatter\", \"uid\": \"06996257-45a1-4556-98a1-305f2ac4a0f7\"}], {\"xaxis\": {\"ticktext\": [\"Spain\", \"Colombia\", \"Mexico\", \"Dominican Rep.\", \"Austria\", \"Chile\", \"France\", \"Canada\", \"Niger\", \"China\", \"Australia\", \"Russia\", \"Germany\", \"Brazil\", \"USA\", \"India\", \"Slovakia\", \"Italy\", \"England\", \"Cuba\", \"Ukraine\", \"Venezuela\", \"Indonesia\", \"Albania\", \"Pakistan\", \"The Bahamas\", \"Argentina\", \"Iceland\", \"Scotland\", \"Sudan\", \"New Zealand\", \"Ireland\", \"Macedonia\", \"Unknown\"], \"tickvals\": [0, 1, 2, 3, 4, 5, 6, 7, 8, 9, 10, 11, 12, 13, 14, 15, 16, 17, 18, 19, 20, 21, 22, 23, 24, 25, 26, 27, 28, 29, 30, 31, 32, 33], \"title\": {\"text\": \"Nationality\"}}, \"yaxis\": {\"title\": {\"text\": \"Age\"}}}, {\"showLink\": false, \"linkText\": \"Export to plot.ly\", \"plotlyServerURL\": \"https://plot.ly\"}); \n",
       "}\n",
       "});</script><script type=\"text/javascript\">window.addEventListener(\"resize\", function(){if (document.getElementById(\"a9ab1c52-10b0-4d39-b954-eb4104e5ead2\")) {window._Plotly.Plots.resize(document.getElementById(\"a9ab1c52-10b0-4d39-b954-eb4104e5ead2\"));};})</script>"
      ]
     },
     "metadata": {},
     "output_type": "display_data"
    }
   ],
   "source": [
    "fig8 = {\n",
    "    'data': [\n",
    "        {\n",
    "            'x': data_complete_en[data_complete_en['Gender'] == gender]['Nationality'],\n",
    "            'y': data_complete_en[data_complete_en['Gender'] == gender]['Age'],\n",
    "            'name': gender, \n",
    "            'mode': 'markers',\n",
    "            'marker': dict(\n",
    "                opacity=np.full(\n",
    "                    (len(data_complete_en.index), 1), 0.7),\n",
    "                color=colors_gender[gender],\n",
    "                size=(data_complete_en[(data_complete_en['Gender'] == gender)].groupby(\n",
    "                    ['Nationality'])['Age'].value_counts() * 5)\n",
    "\n",
    "            ),\n",
    "            'name': names_gender[gender]\n",
    "        } for gender in data_complete_en['Gender'].unique()\n",
    "    ],\n",
    "    'layout': {\n",
    "        'xaxis': {\n",
    "            'title': 'Nationality',\n",
    "            'ticktext': labels_nationality,\n",
    "            'tickvals': tickvals_nationality\n",
    "        },\n",
    "        'yaxis': {'title': \"Age\"}\n",
    "\n",
    "    }\n",
    "}\n",
    "\n",
    "iplot(fig8)\n",
    "plt.show()"
   ]
  },
  {
   "cell_type": "markdown",
   "metadata": {},
   "source": [
    "## Distribution of educational level based on nationality and gender"
   ]
  },
  {
   "cell_type": "code",
   "execution_count": 14,
   "metadata": {
    "scrolled": false
   },
   "outputs": [
    {
     "name": "stdout",
     "output_type": "stream",
     "text": [
      "Describing the variable Gender in Spain related to Educational level\n"
     ]
    },
    {
     "data": {
      "text/html": [
       "<div>\n",
       "<style scoped>\n",
       "    .dataframe tbody tr th:only-of-type {\n",
       "        vertical-align: middle;\n",
       "    }\n",
       "\n",
       "    .dataframe tbody tr th {\n",
       "        vertical-align: top;\n",
       "    }\n",
       "\n",
       "    .dataframe thead th {\n",
       "        text-align: right;\n",
       "    }\n",
       "</style>\n",
       "<table border=\"1\" class=\"dataframe\">\n",
       "  <thead>\n",
       "    <tr style=\"text-align: right;\">\n",
       "      <th></th>\n",
       "      <th>count</th>\n",
       "      <th>mean</th>\n",
       "      <th>std</th>\n",
       "      <th>min</th>\n",
       "      <th>25%</th>\n",
       "      <th>50%</th>\n",
       "      <th>75%</th>\n",
       "      <th>max</th>\n",
       "    </tr>\n",
       "    <tr>\n",
       "      <th>Educational level</th>\n",
       "      <th></th>\n",
       "      <th></th>\n",
       "      <th></th>\n",
       "      <th></th>\n",
       "      <th></th>\n",
       "      <th></th>\n",
       "      <th></th>\n",
       "      <th></th>\n",
       "    </tr>\n",
       "  </thead>\n",
       "  <tbody>\n",
       "    <tr>\n",
       "      <th>Completed &lt;br&gt;Compulsory&lt;br&gt;Secondary &lt;br&gt;Education</th>\n",
       "      <td>6.0</td>\n",
       "      <td>1.000000</td>\n",
       "      <td>0.000000</td>\n",
       "      <td>1.0</td>\n",
       "      <td>1.0</td>\n",
       "      <td>1.0</td>\n",
       "      <td>1.0</td>\n",
       "      <td>1.0</td>\n",
       "    </tr>\n",
       "    <tr>\n",
       "      <th>Primary &lt;br&gt;education</th>\n",
       "      <td>1.0</td>\n",
       "      <td>1.000000</td>\n",
       "      <td>NaN</td>\n",
       "      <td>1.0</td>\n",
       "      <td>1.0</td>\n",
       "      <td>1.0</td>\n",
       "      <td>1.0</td>\n",
       "      <td>1.0</td>\n",
       "    </tr>\n",
       "    <tr>\n",
       "      <th>Unfinished &lt;br&gt;Compulsory&lt;br&gt;Secondary &lt;br&gt;Education</th>\n",
       "      <td>66.0</td>\n",
       "      <td>0.500000</td>\n",
       "      <td>0.533494</td>\n",
       "      <td>0.0</td>\n",
       "      <td>0.0</td>\n",
       "      <td>0.0</td>\n",
       "      <td>1.0</td>\n",
       "      <td>2.0</td>\n",
       "    </tr>\n",
       "    <tr>\n",
       "      <th>University &lt;br&gt;graduate</th>\n",
       "      <td>79.0</td>\n",
       "      <td>0.645570</td>\n",
       "      <td>0.481397</td>\n",
       "      <td>0.0</td>\n",
       "      <td>0.0</td>\n",
       "      <td>1.0</td>\n",
       "      <td>1.0</td>\n",
       "      <td>1.0</td>\n",
       "    </tr>\n",
       "    <tr>\n",
       "      <th>University &lt;br&gt;without &lt;br&gt;graduating</th>\n",
       "      <td>52.0</td>\n",
       "      <td>0.557692</td>\n",
       "      <td>0.607582</td>\n",
       "      <td>0.0</td>\n",
       "      <td>0.0</td>\n",
       "      <td>0.5</td>\n",
       "      <td>1.0</td>\n",
       "      <td>2.0</td>\n",
       "    </tr>\n",
       "    <tr>\n",
       "      <th>Vocational &lt;br&gt;Training</th>\n",
       "      <td>13.0</td>\n",
       "      <td>0.769231</td>\n",
       "      <td>0.438529</td>\n",
       "      <td>0.0</td>\n",
       "      <td>1.0</td>\n",
       "      <td>1.0</td>\n",
       "      <td>1.0</td>\n",
       "      <td>1.0</td>\n",
       "    </tr>\n",
       "  </tbody>\n",
       "</table>\n",
       "</div>"
      ],
      "text/plain": [
       "                                                    count      mean       std  \\\n",
       "Educational level                                                               \n",
       "Completed <br>Compulsory<br>Secondary <br>Educa...    6.0  1.000000  0.000000   \n",
       "Primary <br>education                                 1.0  1.000000       NaN   \n",
       "Unfinished <br>Compulsory<br>Secondary <br>Educ...   66.0  0.500000  0.533494   \n",
       "University <br>graduate                              79.0  0.645570  0.481397   \n",
       "University <br>without <br>graduating                52.0  0.557692  0.607582   \n",
       "Vocational <br>Training                              13.0  0.769231  0.438529   \n",
       "\n",
       "                                                    min  25%  50%  75%  max  \n",
       "Educational level                                                            \n",
       "Completed <br>Compulsory<br>Secondary <br>Educa...  1.0  1.0  1.0  1.0  1.0  \n",
       "Primary <br>education                               1.0  1.0  1.0  1.0  1.0  \n",
       "Unfinished <br>Compulsory<br>Secondary <br>Educ...  0.0  0.0  0.0  1.0  2.0  \n",
       "University <br>graduate                             0.0  0.0  1.0  1.0  1.0  \n",
       "University <br>without <br>graduating               0.0  0.0  0.5  1.0  2.0  \n",
       "Vocational <br>Training                             0.0  1.0  1.0  1.0  1.0  "
      ]
     },
     "metadata": {},
     "output_type": "display_data"
    },
    {
     "name": "stdout",
     "output_type": "stream",
     "text": [
      "Count of each value in Gender related to each Educational level in Spain expressed as Educational level | Gender | Amount\n"
     ]
    },
    {
     "data": {
      "text/plain": [
       "Educational level                                     Gender\n",
       "Completed <br>Compulsory<br>Secondary <br>Education   1          6\n",
       "Primary <br>education                                 1          1\n",
       "Unfinished <br>Compulsory<br>Secondary <br>Education  0         34\n",
       "                                                      1         31\n",
       "                                                      2          1\n",
       "University <br>graduate                               1         51\n",
       "                                                      0         28\n",
       "University <br>without <br>graduating                 0         26\n",
       "                                                      1         23\n",
       "                                                      2          3\n",
       "Vocational <br>Training                               1         10\n",
       "                                                      0          3\n",
       "Name: Gender, dtype: int64"
      ]
     },
     "metadata": {},
     "output_type": "display_data"
    },
    {
     "name": "stdout",
     "output_type": "stream",
     "text": [
      "Percentage of each value in Gender related to each Educational level in Spain expressed as Educational level | Gender | Percentage\n"
     ]
    },
    {
     "data": {
      "text/plain": [
       "Educational level                                     Gender\n",
       "Completed <br>Compulsory<br>Secondary <br>Education   1         100.00\n",
       "Primary <br>education                                 1         100.00\n",
       "Unfinished <br>Compulsory<br>Secondary <br>Education  0          51.52\n",
       "                                                      1          46.97\n",
       "                                                      2           1.52\n",
       "University <br>graduate                               1          64.56\n",
       "                                                      0          35.44\n",
       "University <br>without <br>graduating                 0          50.00\n",
       "                                                      1          44.23\n",
       "                                                      2           5.77\n",
       "Vocational <br>Training                               1          76.92\n",
       "                                                      0          23.08\n",
       "Name: Gender, dtype: float64"
      ]
     },
     "metadata": {},
     "output_type": "display_data"
    },
    {
     "name": "stdout",
     "output_type": "stream",
     "text": [
      "Describing the variable Gender in Colombia related to Educational level\n"
     ]
    },
    {
     "data": {
      "text/html": [
       "<div>\n",
       "<style scoped>\n",
       "    .dataframe tbody tr th:only-of-type {\n",
       "        vertical-align: middle;\n",
       "    }\n",
       "\n",
       "    .dataframe tbody tr th {\n",
       "        vertical-align: top;\n",
       "    }\n",
       "\n",
       "    .dataframe thead th {\n",
       "        text-align: right;\n",
       "    }\n",
       "</style>\n",
       "<table border=\"1\" class=\"dataframe\">\n",
       "  <thead>\n",
       "    <tr style=\"text-align: right;\">\n",
       "      <th></th>\n",
       "      <th>count</th>\n",
       "      <th>mean</th>\n",
       "      <th>std</th>\n",
       "      <th>min</th>\n",
       "      <th>25%</th>\n",
       "      <th>50%</th>\n",
       "      <th>75%</th>\n",
       "      <th>max</th>\n",
       "    </tr>\n",
       "    <tr>\n",
       "      <th>Educational level</th>\n",
       "      <th></th>\n",
       "      <th></th>\n",
       "      <th></th>\n",
       "      <th></th>\n",
       "      <th></th>\n",
       "      <th></th>\n",
       "      <th></th>\n",
       "      <th></th>\n",
       "    </tr>\n",
       "  </thead>\n",
       "  <tbody>\n",
       "    <tr>\n",
       "      <th>University &lt;br&gt;graduate</th>\n",
       "      <td>1.0</td>\n",
       "      <td>1.0</td>\n",
       "      <td>NaN</td>\n",
       "      <td>1.0</td>\n",
       "      <td>1.0</td>\n",
       "      <td>1.0</td>\n",
       "      <td>1.0</td>\n",
       "      <td>1.0</td>\n",
       "    </tr>\n",
       "  </tbody>\n",
       "</table>\n",
       "</div>"
      ],
      "text/plain": [
       "                         count  mean  std  min  25%  50%  75%  max\n",
       "Educational level                                                 \n",
       "University <br>graduate    1.0   1.0  NaN  1.0  1.0  1.0  1.0  1.0"
      ]
     },
     "metadata": {},
     "output_type": "display_data"
    },
    {
     "name": "stdout",
     "output_type": "stream",
     "text": [
      "Count of each value in Gender related to each Educational level in Colombia expressed as Educational level | Gender | Amount\n"
     ]
    },
    {
     "data": {
      "text/plain": [
       "Educational level        Gender\n",
       "University <br>graduate  1         1\n",
       "Name: Gender, dtype: int64"
      ]
     },
     "metadata": {},
     "output_type": "display_data"
    },
    {
     "name": "stdout",
     "output_type": "stream",
     "text": [
      "Percentage of each value in Gender related to each Educational level in Colombia expressed as Educational level | Gender | Percentage\n"
     ]
    },
    {
     "data": {
      "text/plain": [
       "Educational level        Gender\n",
       "University <br>graduate  1         100.0\n",
       "Name: Gender, dtype: float64"
      ]
     },
     "metadata": {},
     "output_type": "display_data"
    },
    {
     "name": "stdout",
     "output_type": "stream",
     "text": [
      "Describing the variable Gender in Dominican Rep. related to Educational level\n"
     ]
    },
    {
     "data": {
      "text/html": [
       "<div>\n",
       "<style scoped>\n",
       "    .dataframe tbody tr th:only-of-type {\n",
       "        vertical-align: middle;\n",
       "    }\n",
       "\n",
       "    .dataframe tbody tr th {\n",
       "        vertical-align: top;\n",
       "    }\n",
       "\n",
       "    .dataframe thead th {\n",
       "        text-align: right;\n",
       "    }\n",
       "</style>\n",
       "<table border=\"1\" class=\"dataframe\">\n",
       "  <thead>\n",
       "    <tr style=\"text-align: right;\">\n",
       "      <th></th>\n",
       "      <th>count</th>\n",
       "      <th>mean</th>\n",
       "      <th>std</th>\n",
       "      <th>min</th>\n",
       "      <th>25%</th>\n",
       "      <th>50%</th>\n",
       "      <th>75%</th>\n",
       "      <th>max</th>\n",
       "    </tr>\n",
       "    <tr>\n",
       "      <th>Educational level</th>\n",
       "      <th></th>\n",
       "      <th></th>\n",
       "      <th></th>\n",
       "      <th></th>\n",
       "      <th></th>\n",
       "      <th></th>\n",
       "      <th></th>\n",
       "      <th></th>\n",
       "    </tr>\n",
       "  </thead>\n",
       "  <tbody>\n",
       "    <tr>\n",
       "      <th>University &lt;br&gt;graduate</th>\n",
       "      <td>2.0</td>\n",
       "      <td>0.5</td>\n",
       "      <td>0.707107</td>\n",
       "      <td>0.0</td>\n",
       "      <td>0.25</td>\n",
       "      <td>0.5</td>\n",
       "      <td>0.75</td>\n",
       "      <td>1.0</td>\n",
       "    </tr>\n",
       "  </tbody>\n",
       "</table>\n",
       "</div>"
      ],
      "text/plain": [
       "                         count  mean       std  min   25%  50%   75%  max\n",
       "Educational level                                                        \n",
       "University <br>graduate    2.0   0.5  0.707107  0.0  0.25  0.5  0.75  1.0"
      ]
     },
     "metadata": {},
     "output_type": "display_data"
    },
    {
     "name": "stdout",
     "output_type": "stream",
     "text": [
      "Count of each value in Gender related to each Educational level in Dominican Rep. expressed as Educational level | Gender | Amount\n"
     ]
    },
    {
     "data": {
      "text/plain": [
       "Educational level        Gender\n",
       "University <br>graduate  0         1\n",
       "                         1         1\n",
       "Name: Gender, dtype: int64"
      ]
     },
     "metadata": {},
     "output_type": "display_data"
    },
    {
     "name": "stdout",
     "output_type": "stream",
     "text": [
      "Percentage of each value in Gender related to each Educational level in Dominican Rep. expressed as Educational level | Gender | Percentage\n"
     ]
    },
    {
     "data": {
      "text/plain": [
       "Educational level        Gender\n",
       "University <br>graduate  0         50.0\n",
       "                         1         50.0\n",
       "Name: Gender, dtype: float64"
      ]
     },
     "metadata": {},
     "output_type": "display_data"
    },
    {
     "name": "stdout",
     "output_type": "stream",
     "text": [
      "Describing the variable Gender in Austria related to Educational level\n"
     ]
    },
    {
     "data": {
      "text/html": [
       "<div>\n",
       "<style scoped>\n",
       "    .dataframe tbody tr th:only-of-type {\n",
       "        vertical-align: middle;\n",
       "    }\n",
       "\n",
       "    .dataframe tbody tr th {\n",
       "        vertical-align: top;\n",
       "    }\n",
       "\n",
       "    .dataframe thead th {\n",
       "        text-align: right;\n",
       "    }\n",
       "</style>\n",
       "<table border=\"1\" class=\"dataframe\">\n",
       "  <thead>\n",
       "    <tr style=\"text-align: right;\">\n",
       "      <th></th>\n",
       "      <th>count</th>\n",
       "      <th>mean</th>\n",
       "      <th>std</th>\n",
       "      <th>min</th>\n",
       "      <th>25%</th>\n",
       "      <th>50%</th>\n",
       "      <th>75%</th>\n",
       "      <th>max</th>\n",
       "    </tr>\n",
       "    <tr>\n",
       "      <th>Educational level</th>\n",
       "      <th></th>\n",
       "      <th></th>\n",
       "      <th></th>\n",
       "      <th></th>\n",
       "      <th></th>\n",
       "      <th></th>\n",
       "      <th></th>\n",
       "      <th></th>\n",
       "    </tr>\n",
       "  </thead>\n",
       "  <tbody>\n",
       "    <tr>\n",
       "      <th>University &lt;br&gt;graduate</th>\n",
       "      <td>1.0</td>\n",
       "      <td>1.0</td>\n",
       "      <td>NaN</td>\n",
       "      <td>1.0</td>\n",
       "      <td>1.0</td>\n",
       "      <td>1.0</td>\n",
       "      <td>1.0</td>\n",
       "      <td>1.0</td>\n",
       "    </tr>\n",
       "  </tbody>\n",
       "</table>\n",
       "</div>"
      ],
      "text/plain": [
       "                         count  mean  std  min  25%  50%  75%  max\n",
       "Educational level                                                 \n",
       "University <br>graduate    1.0   1.0  NaN  1.0  1.0  1.0  1.0  1.0"
      ]
     },
     "metadata": {},
     "output_type": "display_data"
    },
    {
     "name": "stdout",
     "output_type": "stream",
     "text": [
      "Count of each value in Gender related to each Educational level in Austria expressed as Educational level | Gender | Amount\n"
     ]
    },
    {
     "data": {
      "text/plain": [
       "Educational level        Gender\n",
       "University <br>graduate  1         1\n",
       "Name: Gender, dtype: int64"
      ]
     },
     "metadata": {},
     "output_type": "display_data"
    },
    {
     "name": "stdout",
     "output_type": "stream",
     "text": [
      "Percentage of each value in Gender related to each Educational level in Austria expressed as Educational level | Gender | Percentage\n"
     ]
    },
    {
     "data": {
      "text/plain": [
       "Educational level        Gender\n",
       "University <br>graduate  1         100.0\n",
       "Name: Gender, dtype: float64"
      ]
     },
     "metadata": {},
     "output_type": "display_data"
    },
    {
     "name": "stdout",
     "output_type": "stream",
     "text": [
      "Describing the variable Gender in Chile related to Educational level\n"
     ]
    },
    {
     "data": {
      "text/html": [
       "<div>\n",
       "<style scoped>\n",
       "    .dataframe tbody tr th:only-of-type {\n",
       "        vertical-align: middle;\n",
       "    }\n",
       "\n",
       "    .dataframe tbody tr th {\n",
       "        vertical-align: top;\n",
       "    }\n",
       "\n",
       "    .dataframe thead th {\n",
       "        text-align: right;\n",
       "    }\n",
       "</style>\n",
       "<table border=\"1\" class=\"dataframe\">\n",
       "  <thead>\n",
       "    <tr style=\"text-align: right;\">\n",
       "      <th></th>\n",
       "      <th>count</th>\n",
       "      <th>mean</th>\n",
       "      <th>std</th>\n",
       "      <th>min</th>\n",
       "      <th>25%</th>\n",
       "      <th>50%</th>\n",
       "      <th>75%</th>\n",
       "      <th>max</th>\n",
       "    </tr>\n",
       "    <tr>\n",
       "      <th>Educational level</th>\n",
       "      <th></th>\n",
       "      <th></th>\n",
       "      <th></th>\n",
       "      <th></th>\n",
       "      <th></th>\n",
       "      <th></th>\n",
       "      <th></th>\n",
       "      <th></th>\n",
       "    </tr>\n",
       "  </thead>\n",
       "  <tbody>\n",
       "    <tr>\n",
       "      <th>University &lt;br&gt;graduate</th>\n",
       "      <td>1.0</td>\n",
       "      <td>1.0</td>\n",
       "      <td>NaN</td>\n",
       "      <td>1.0</td>\n",
       "      <td>1.0</td>\n",
       "      <td>1.0</td>\n",
       "      <td>1.0</td>\n",
       "      <td>1.0</td>\n",
       "    </tr>\n",
       "  </tbody>\n",
       "</table>\n",
       "</div>"
      ],
      "text/plain": [
       "                         count  mean  std  min  25%  50%  75%  max\n",
       "Educational level                                                 \n",
       "University <br>graduate    1.0   1.0  NaN  1.0  1.0  1.0  1.0  1.0"
      ]
     },
     "metadata": {},
     "output_type": "display_data"
    },
    {
     "name": "stdout",
     "output_type": "stream",
     "text": [
      "Count of each value in Gender related to each Educational level in Chile expressed as Educational level | Gender | Amount\n"
     ]
    },
    {
     "data": {
      "text/plain": [
       "Educational level        Gender\n",
       "University <br>graduate  1         1\n",
       "Name: Gender, dtype: int64"
      ]
     },
     "metadata": {},
     "output_type": "display_data"
    },
    {
     "name": "stdout",
     "output_type": "stream",
     "text": [
      "Percentage of each value in Gender related to each Educational level in Chile expressed as Educational level | Gender | Percentage\n"
     ]
    },
    {
     "data": {
      "text/plain": [
       "Educational level        Gender\n",
       "University <br>graduate  1         100.0\n",
       "Name: Gender, dtype: float64"
      ]
     },
     "metadata": {},
     "output_type": "display_data"
    },
    {
     "name": "stdout",
     "output_type": "stream",
     "text": [
      "Describing the variable Gender in France related to Educational level\n"
     ]
    },
    {
     "data": {
      "text/html": [
       "<div>\n",
       "<style scoped>\n",
       "    .dataframe tbody tr th:only-of-type {\n",
       "        vertical-align: middle;\n",
       "    }\n",
       "\n",
       "    .dataframe tbody tr th {\n",
       "        vertical-align: top;\n",
       "    }\n",
       "\n",
       "    .dataframe thead th {\n",
       "        text-align: right;\n",
       "    }\n",
       "</style>\n",
       "<table border=\"1\" class=\"dataframe\">\n",
       "  <thead>\n",
       "    <tr style=\"text-align: right;\">\n",
       "      <th></th>\n",
       "      <th>count</th>\n",
       "      <th>mean</th>\n",
       "      <th>std</th>\n",
       "      <th>min</th>\n",
       "      <th>25%</th>\n",
       "      <th>50%</th>\n",
       "      <th>75%</th>\n",
       "      <th>max</th>\n",
       "    </tr>\n",
       "    <tr>\n",
       "      <th>Educational level</th>\n",
       "      <th></th>\n",
       "      <th></th>\n",
       "      <th></th>\n",
       "      <th></th>\n",
       "      <th></th>\n",
       "      <th></th>\n",
       "      <th></th>\n",
       "      <th></th>\n",
       "    </tr>\n",
       "  </thead>\n",
       "  <tbody>\n",
       "    <tr>\n",
       "      <th>University &lt;br&gt;graduate</th>\n",
       "      <td>4.0</td>\n",
       "      <td>0.250000</td>\n",
       "      <td>0.500000</td>\n",
       "      <td>0.0</td>\n",
       "      <td>0.0</td>\n",
       "      <td>0.0</td>\n",
       "      <td>0.25</td>\n",
       "      <td>1.0</td>\n",
       "    </tr>\n",
       "    <tr>\n",
       "      <th>University &lt;br&gt;without &lt;br&gt;graduating</th>\n",
       "      <td>14.0</td>\n",
       "      <td>0.928571</td>\n",
       "      <td>0.267261</td>\n",
       "      <td>0.0</td>\n",
       "      <td>1.0</td>\n",
       "      <td>1.0</td>\n",
       "      <td>1.00</td>\n",
       "      <td>1.0</td>\n",
       "    </tr>\n",
       "    <tr>\n",
       "      <th>Vocational &lt;br&gt;Training</th>\n",
       "      <td>1.0</td>\n",
       "      <td>0.000000</td>\n",
       "      <td>NaN</td>\n",
       "      <td>0.0</td>\n",
       "      <td>0.0</td>\n",
       "      <td>0.0</td>\n",
       "      <td>0.00</td>\n",
       "      <td>0.0</td>\n",
       "    </tr>\n",
       "  </tbody>\n",
       "</table>\n",
       "</div>"
      ],
      "text/plain": [
       "                                       count      mean       std  min  25%  \\\n",
       "Educational level                                                            \n",
       "University <br>graduate                  4.0  0.250000  0.500000  0.0  0.0   \n",
       "University <br>without <br>graduating   14.0  0.928571  0.267261  0.0  1.0   \n",
       "Vocational <br>Training                  1.0  0.000000       NaN  0.0  0.0   \n",
       "\n",
       "                                       50%   75%  max  \n",
       "Educational level                                      \n",
       "University <br>graduate                0.0  0.25  1.0  \n",
       "University <br>without <br>graduating  1.0  1.00  1.0  \n",
       "Vocational <br>Training                0.0  0.00  0.0  "
      ]
     },
     "metadata": {},
     "output_type": "display_data"
    },
    {
     "name": "stdout",
     "output_type": "stream",
     "text": [
      "Count of each value in Gender related to each Educational level in France expressed as Educational level | Gender | Amount\n"
     ]
    },
    {
     "data": {
      "text/plain": [
       "Educational level                      Gender\n",
       "University <br>graduate                0          3\n",
       "                                       1          1\n",
       "University <br>without <br>graduating  1         13\n",
       "                                       0          1\n",
       "Vocational <br>Training                0          1\n",
       "Name: Gender, dtype: int64"
      ]
     },
     "metadata": {},
     "output_type": "display_data"
    },
    {
     "name": "stdout",
     "output_type": "stream",
     "text": [
      "Percentage of each value in Gender related to each Educational level in France expressed as Educational level | Gender | Percentage\n"
     ]
    },
    {
     "data": {
      "text/plain": [
       "Educational level                      Gender\n",
       "University <br>graduate                0          75.00\n",
       "                                       1          25.00\n",
       "University <br>without <br>graduating  1          92.86\n",
       "                                       0           7.14\n",
       "Vocational <br>Training                0         100.00\n",
       "Name: Gender, dtype: float64"
      ]
     },
     "metadata": {},
     "output_type": "display_data"
    },
    {
     "name": "stdout",
     "output_type": "stream",
     "text": [
      "Describing the variable Gender in Canada related to Educational level\n"
     ]
    },
    {
     "data": {
      "text/html": [
       "<div>\n",
       "<style scoped>\n",
       "    .dataframe tbody tr th:only-of-type {\n",
       "        vertical-align: middle;\n",
       "    }\n",
       "\n",
       "    .dataframe tbody tr th {\n",
       "        vertical-align: top;\n",
       "    }\n",
       "\n",
       "    .dataframe thead th {\n",
       "        text-align: right;\n",
       "    }\n",
       "</style>\n",
       "<table border=\"1\" class=\"dataframe\">\n",
       "  <thead>\n",
       "    <tr style=\"text-align: right;\">\n",
       "      <th></th>\n",
       "      <th>count</th>\n",
       "      <th>mean</th>\n",
       "      <th>std</th>\n",
       "      <th>min</th>\n",
       "      <th>25%</th>\n",
       "      <th>50%</th>\n",
       "      <th>75%</th>\n",
       "      <th>max</th>\n",
       "    </tr>\n",
       "    <tr>\n",
       "      <th>Educational level</th>\n",
       "      <th></th>\n",
       "      <th></th>\n",
       "      <th></th>\n",
       "      <th></th>\n",
       "      <th></th>\n",
       "      <th></th>\n",
       "      <th></th>\n",
       "      <th></th>\n",
       "    </tr>\n",
       "  </thead>\n",
       "  <tbody>\n",
       "    <tr>\n",
       "      <th>University &lt;br&gt;graduate</th>\n",
       "      <td>4.0</td>\n",
       "      <td>0.000000</td>\n",
       "      <td>0.000000</td>\n",
       "      <td>0.0</td>\n",
       "      <td>0.00</td>\n",
       "      <td>0.0</td>\n",
       "      <td>0.00</td>\n",
       "      <td>0.0</td>\n",
       "    </tr>\n",
       "    <tr>\n",
       "      <th>University &lt;br&gt;without &lt;br&gt;graduating</th>\n",
       "      <td>3.0</td>\n",
       "      <td>1.333333</td>\n",
       "      <td>0.577350</td>\n",
       "      <td>1.0</td>\n",
       "      <td>1.00</td>\n",
       "      <td>1.0</td>\n",
       "      <td>1.50</td>\n",
       "      <td>2.0</td>\n",
       "    </tr>\n",
       "    <tr>\n",
       "      <th>Vocational &lt;br&gt;Training</th>\n",
       "      <td>2.0</td>\n",
       "      <td>0.500000</td>\n",
       "      <td>0.707107</td>\n",
       "      <td>0.0</td>\n",
       "      <td>0.25</td>\n",
       "      <td>0.5</td>\n",
       "      <td>0.75</td>\n",
       "      <td>1.0</td>\n",
       "    </tr>\n",
       "  </tbody>\n",
       "</table>\n",
       "</div>"
      ],
      "text/plain": [
       "                                       count      mean       std  min   25%  \\\n",
       "Educational level                                                             \n",
       "University <br>graduate                  4.0  0.000000  0.000000  0.0  0.00   \n",
       "University <br>without <br>graduating    3.0  1.333333  0.577350  1.0  1.00   \n",
       "Vocational <br>Training                  2.0  0.500000  0.707107  0.0  0.25   \n",
       "\n",
       "                                       50%   75%  max  \n",
       "Educational level                                      \n",
       "University <br>graduate                0.0  0.00  0.0  \n",
       "University <br>without <br>graduating  1.0  1.50  2.0  \n",
       "Vocational <br>Training                0.5  0.75  1.0  "
      ]
     },
     "metadata": {},
     "output_type": "display_data"
    },
    {
     "name": "stdout",
     "output_type": "stream",
     "text": [
      "Count of each value in Gender related to each Educational level in Canada expressed as Educational level | Gender | Amount\n"
     ]
    },
    {
     "data": {
      "text/plain": [
       "Educational level                      Gender\n",
       "University <br>graduate                0         4\n",
       "University <br>without <br>graduating  1         2\n",
       "                                       2         1\n",
       "Vocational <br>Training                0         1\n",
       "                                       1         1\n",
       "Name: Gender, dtype: int64"
      ]
     },
     "metadata": {},
     "output_type": "display_data"
    },
    {
     "name": "stdout",
     "output_type": "stream",
     "text": [
      "Percentage of each value in Gender related to each Educational level in Canada expressed as Educational level | Gender | Percentage\n"
     ]
    },
    {
     "data": {
      "text/plain": [
       "Educational level                      Gender\n",
       "University <br>graduate                0         100.00\n",
       "University <br>without <br>graduating  1          66.67\n",
       "                                       2          33.33\n",
       "Vocational <br>Training                0          50.00\n",
       "                                       1          50.00\n",
       "Name: Gender, dtype: float64"
      ]
     },
     "metadata": {},
     "output_type": "display_data"
    },
    {
     "name": "stdout",
     "output_type": "stream",
     "text": [
      "Describing the variable Gender in Niger related to Educational level\n"
     ]
    },
    {
     "data": {
      "text/html": [
       "<div>\n",
       "<style scoped>\n",
       "    .dataframe tbody tr th:only-of-type {\n",
       "        vertical-align: middle;\n",
       "    }\n",
       "\n",
       "    .dataframe tbody tr th {\n",
       "        vertical-align: top;\n",
       "    }\n",
       "\n",
       "    .dataframe thead th {\n",
       "        text-align: right;\n",
       "    }\n",
       "</style>\n",
       "<table border=\"1\" class=\"dataframe\">\n",
       "  <thead>\n",
       "    <tr style=\"text-align: right;\">\n",
       "      <th></th>\n",
       "      <th>count</th>\n",
       "      <th>mean</th>\n",
       "      <th>std</th>\n",
       "      <th>min</th>\n",
       "      <th>25%</th>\n",
       "      <th>50%</th>\n",
       "      <th>75%</th>\n",
       "      <th>max</th>\n",
       "    </tr>\n",
       "    <tr>\n",
       "      <th>Educational level</th>\n",
       "      <th></th>\n",
       "      <th></th>\n",
       "      <th></th>\n",
       "      <th></th>\n",
       "      <th></th>\n",
       "      <th></th>\n",
       "      <th></th>\n",
       "      <th></th>\n",
       "    </tr>\n",
       "  </thead>\n",
       "  <tbody>\n",
       "    <tr>\n",
       "      <th>Unfinished &lt;br&gt;Compulsory&lt;br&gt;Secondary &lt;br&gt;Education</th>\n",
       "      <td>3.0</td>\n",
       "      <td>0.0</td>\n",
       "      <td>0.0</td>\n",
       "      <td>0.0</td>\n",
       "      <td>0.0</td>\n",
       "      <td>0.0</td>\n",
       "      <td>0.0</td>\n",
       "      <td>0.0</td>\n",
       "    </tr>\n",
       "    <tr>\n",
       "      <th>University &lt;br&gt;graduate</th>\n",
       "      <td>1.0</td>\n",
       "      <td>0.0</td>\n",
       "      <td>NaN</td>\n",
       "      <td>0.0</td>\n",
       "      <td>0.0</td>\n",
       "      <td>0.0</td>\n",
       "      <td>0.0</td>\n",
       "      <td>0.0</td>\n",
       "    </tr>\n",
       "  </tbody>\n",
       "</table>\n",
       "</div>"
      ],
      "text/plain": [
       "                                                    count  mean  std  min  \\\n",
       "Educational level                                                           \n",
       "Unfinished <br>Compulsory<br>Secondary <br>Educ...    3.0   0.0  0.0  0.0   \n",
       "University <br>graduate                               1.0   0.0  NaN  0.0   \n",
       "\n",
       "                                                    25%  50%  75%  max  \n",
       "Educational level                                                       \n",
       "Unfinished <br>Compulsory<br>Secondary <br>Educ...  0.0  0.0  0.0  0.0  \n",
       "University <br>graduate                             0.0  0.0  0.0  0.0  "
      ]
     },
     "metadata": {},
     "output_type": "display_data"
    },
    {
     "name": "stdout",
     "output_type": "stream",
     "text": [
      "Count of each value in Gender related to each Educational level in Niger expressed as Educational level | Gender | Amount\n"
     ]
    },
    {
     "data": {
      "text/plain": [
       "Educational level                                     Gender\n",
       "Unfinished <br>Compulsory<br>Secondary <br>Education  0         3\n",
       "University <br>graduate                               0         1\n",
       "Name: Gender, dtype: int64"
      ]
     },
     "metadata": {},
     "output_type": "display_data"
    },
    {
     "name": "stdout",
     "output_type": "stream",
     "text": [
      "Percentage of each value in Gender related to each Educational level in Niger expressed as Educational level | Gender | Percentage\n"
     ]
    },
    {
     "data": {
      "text/plain": [
       "Educational level                                     Gender\n",
       "Unfinished <br>Compulsory<br>Secondary <br>Education  0         100.0\n",
       "University <br>graduate                               0         100.0\n",
       "Name: Gender, dtype: float64"
      ]
     },
     "metadata": {},
     "output_type": "display_data"
    },
    {
     "name": "stdout",
     "output_type": "stream",
     "text": [
      "Describing the variable Gender in Australia related to Educational level\n"
     ]
    },
    {
     "data": {
      "text/html": [
       "<div>\n",
       "<style scoped>\n",
       "    .dataframe tbody tr th:only-of-type {\n",
       "        vertical-align: middle;\n",
       "    }\n",
       "\n",
       "    .dataframe tbody tr th {\n",
       "        vertical-align: top;\n",
       "    }\n",
       "\n",
       "    .dataframe thead th {\n",
       "        text-align: right;\n",
       "    }\n",
       "</style>\n",
       "<table border=\"1\" class=\"dataframe\">\n",
       "  <thead>\n",
       "    <tr style=\"text-align: right;\">\n",
       "      <th></th>\n",
       "      <th>count</th>\n",
       "      <th>mean</th>\n",
       "      <th>std</th>\n",
       "      <th>min</th>\n",
       "      <th>25%</th>\n",
       "      <th>50%</th>\n",
       "      <th>75%</th>\n",
       "      <th>max</th>\n",
       "    </tr>\n",
       "    <tr>\n",
       "      <th>Educational level</th>\n",
       "      <th></th>\n",
       "      <th></th>\n",
       "      <th></th>\n",
       "      <th></th>\n",
       "      <th></th>\n",
       "      <th></th>\n",
       "      <th></th>\n",
       "      <th></th>\n",
       "    </tr>\n",
       "  </thead>\n",
       "  <tbody>\n",
       "    <tr>\n",
       "      <th>University &lt;br&gt;graduate</th>\n",
       "      <td>1.0</td>\n",
       "      <td>0.0</td>\n",
       "      <td>NaN</td>\n",
       "      <td>0.0</td>\n",
       "      <td>0.0</td>\n",
       "      <td>0.0</td>\n",
       "      <td>0.0</td>\n",
       "      <td>0.0</td>\n",
       "    </tr>\n",
       "  </tbody>\n",
       "</table>\n",
       "</div>"
      ],
      "text/plain": [
       "                         count  mean  std  min  25%  50%  75%  max\n",
       "Educational level                                                 \n",
       "University <br>graduate    1.0   0.0  NaN  0.0  0.0  0.0  0.0  0.0"
      ]
     },
     "metadata": {},
     "output_type": "display_data"
    },
    {
     "name": "stdout",
     "output_type": "stream",
     "text": [
      "Count of each value in Gender related to each Educational level in Australia expressed as Educational level | Gender | Amount\n"
     ]
    },
    {
     "data": {
      "text/plain": [
       "Educational level        Gender\n",
       "University <br>graduate  0         1\n",
       "Name: Gender, dtype: int64"
      ]
     },
     "metadata": {},
     "output_type": "display_data"
    },
    {
     "name": "stdout",
     "output_type": "stream",
     "text": [
      "Percentage of each value in Gender related to each Educational level in Australia expressed as Educational level | Gender | Percentage\n"
     ]
    },
    {
     "data": {
      "text/plain": [
       "Educational level        Gender\n",
       "University <br>graduate  0         100.0\n",
       "Name: Gender, dtype: float64"
      ]
     },
     "metadata": {},
     "output_type": "display_data"
    },
    {
     "name": "stdout",
     "output_type": "stream",
     "text": [
      "Describing the variable Gender in Russia related to Educational level\n"
     ]
    },
    {
     "data": {
      "text/html": [
       "<div>\n",
       "<style scoped>\n",
       "    .dataframe tbody tr th:only-of-type {\n",
       "        vertical-align: middle;\n",
       "    }\n",
       "\n",
       "    .dataframe tbody tr th {\n",
       "        vertical-align: top;\n",
       "    }\n",
       "\n",
       "    .dataframe thead th {\n",
       "        text-align: right;\n",
       "    }\n",
       "</style>\n",
       "<table border=\"1\" class=\"dataframe\">\n",
       "  <thead>\n",
       "    <tr style=\"text-align: right;\">\n",
       "      <th></th>\n",
       "      <th>count</th>\n",
       "      <th>mean</th>\n",
       "      <th>std</th>\n",
       "      <th>min</th>\n",
       "      <th>25%</th>\n",
       "      <th>50%</th>\n",
       "      <th>75%</th>\n",
       "      <th>max</th>\n",
       "    </tr>\n",
       "    <tr>\n",
       "      <th>Educational level</th>\n",
       "      <th></th>\n",
       "      <th></th>\n",
       "      <th></th>\n",
       "      <th></th>\n",
       "      <th></th>\n",
       "      <th></th>\n",
       "      <th></th>\n",
       "      <th></th>\n",
       "    </tr>\n",
       "  </thead>\n",
       "  <tbody>\n",
       "    <tr>\n",
       "      <th>University &lt;br&gt;without &lt;br&gt;graduating</th>\n",
       "      <td>2.0</td>\n",
       "      <td>0.5</td>\n",
       "      <td>0.707107</td>\n",
       "      <td>0.0</td>\n",
       "      <td>0.25</td>\n",
       "      <td>0.5</td>\n",
       "      <td>0.75</td>\n",
       "      <td>1.0</td>\n",
       "    </tr>\n",
       "  </tbody>\n",
       "</table>\n",
       "</div>"
      ],
      "text/plain": [
       "                                       count  mean       std  min   25%  50%  \\\n",
       "Educational level                                                              \n",
       "University <br>without <br>graduating    2.0   0.5  0.707107  0.0  0.25  0.5   \n",
       "\n",
       "                                        75%  max  \n",
       "Educational level                                 \n",
       "University <br>without <br>graduating  0.75  1.0  "
      ]
     },
     "metadata": {},
     "output_type": "display_data"
    },
    {
     "name": "stdout",
     "output_type": "stream",
     "text": [
      "Count of each value in Gender related to each Educational level in Russia expressed as Educational level | Gender | Amount\n"
     ]
    },
    {
     "data": {
      "text/plain": [
       "Educational level                      Gender\n",
       "University <br>without <br>graduating  0         1\n",
       "                                       1         1\n",
       "Name: Gender, dtype: int64"
      ]
     },
     "metadata": {},
     "output_type": "display_data"
    },
    {
     "name": "stdout",
     "output_type": "stream",
     "text": [
      "Percentage of each value in Gender related to each Educational level in Russia expressed as Educational level | Gender | Percentage\n"
     ]
    },
    {
     "data": {
      "text/plain": [
       "Educational level                      Gender\n",
       "University <br>without <br>graduating  0         50.0\n",
       "                                       1         50.0\n",
       "Name: Gender, dtype: float64"
      ]
     },
     "metadata": {},
     "output_type": "display_data"
    },
    {
     "name": "stdout",
     "output_type": "stream",
     "text": [
      "Describing the variable Gender in Brazil related to Educational level\n"
     ]
    },
    {
     "data": {
      "text/html": [
       "<div>\n",
       "<style scoped>\n",
       "    .dataframe tbody tr th:only-of-type {\n",
       "        vertical-align: middle;\n",
       "    }\n",
       "\n",
       "    .dataframe tbody tr th {\n",
       "        vertical-align: top;\n",
       "    }\n",
       "\n",
       "    .dataframe thead th {\n",
       "        text-align: right;\n",
       "    }\n",
       "</style>\n",
       "<table border=\"1\" class=\"dataframe\">\n",
       "  <thead>\n",
       "    <tr style=\"text-align: right;\">\n",
       "      <th></th>\n",
       "      <th>count</th>\n",
       "      <th>mean</th>\n",
       "      <th>std</th>\n",
       "      <th>min</th>\n",
       "      <th>25%</th>\n",
       "      <th>50%</th>\n",
       "      <th>75%</th>\n",
       "      <th>max</th>\n",
       "    </tr>\n",
       "    <tr>\n",
       "      <th>Educational level</th>\n",
       "      <th></th>\n",
       "      <th></th>\n",
       "      <th></th>\n",
       "      <th></th>\n",
       "      <th></th>\n",
       "      <th></th>\n",
       "      <th></th>\n",
       "      <th></th>\n",
       "    </tr>\n",
       "  </thead>\n",
       "  <tbody>\n",
       "    <tr>\n",
       "      <th>University &lt;br&gt;graduate</th>\n",
       "      <td>2.0</td>\n",
       "      <td>0.5</td>\n",
       "      <td>0.707107</td>\n",
       "      <td>0.0</td>\n",
       "      <td>0.25</td>\n",
       "      <td>0.5</td>\n",
       "      <td>0.75</td>\n",
       "      <td>1.0</td>\n",
       "    </tr>\n",
       "    <tr>\n",
       "      <th>University &lt;br&gt;without &lt;br&gt;graduating</th>\n",
       "      <td>1.0</td>\n",
       "      <td>0.0</td>\n",
       "      <td>NaN</td>\n",
       "      <td>0.0</td>\n",
       "      <td>0.00</td>\n",
       "      <td>0.0</td>\n",
       "      <td>0.00</td>\n",
       "      <td>0.0</td>\n",
       "    </tr>\n",
       "  </tbody>\n",
       "</table>\n",
       "</div>"
      ],
      "text/plain": [
       "                                       count  mean       std  min   25%  50%  \\\n",
       "Educational level                                                              \n",
       "University <br>graduate                  2.0   0.5  0.707107  0.0  0.25  0.5   \n",
       "University <br>without <br>graduating    1.0   0.0       NaN  0.0  0.00  0.0   \n",
       "\n",
       "                                        75%  max  \n",
       "Educational level                                 \n",
       "University <br>graduate                0.75  1.0  \n",
       "University <br>without <br>graduating  0.00  0.0  "
      ]
     },
     "metadata": {},
     "output_type": "display_data"
    },
    {
     "name": "stdout",
     "output_type": "stream",
     "text": [
      "Count of each value in Gender related to each Educational level in Brazil expressed as Educational level | Gender | Amount\n"
     ]
    },
    {
     "data": {
      "text/plain": [
       "Educational level                      Gender\n",
       "University <br>graduate                0         1\n",
       "                                       1         1\n",
       "University <br>without <br>graduating  0         1\n",
       "Name: Gender, dtype: int64"
      ]
     },
     "metadata": {},
     "output_type": "display_data"
    },
    {
     "name": "stdout",
     "output_type": "stream",
     "text": [
      "Percentage of each value in Gender related to each Educational level in Brazil expressed as Educational level | Gender | Percentage\n"
     ]
    },
    {
     "data": {
      "text/plain": [
       "Educational level                      Gender\n",
       "University <br>graduate                0          50.0\n",
       "                                       1          50.0\n",
       "University <br>without <br>graduating  0         100.0\n",
       "Name: Gender, dtype: float64"
      ]
     },
     "metadata": {},
     "output_type": "display_data"
    },
    {
     "name": "stdout",
     "output_type": "stream",
     "text": [
      "Describing the variable Gender in China related to Educational level\n"
     ]
    },
    {
     "data": {
      "text/html": [
       "<div>\n",
       "<style scoped>\n",
       "    .dataframe tbody tr th:only-of-type {\n",
       "        vertical-align: middle;\n",
       "    }\n",
       "\n",
       "    .dataframe tbody tr th {\n",
       "        vertical-align: top;\n",
       "    }\n",
       "\n",
       "    .dataframe thead th {\n",
       "        text-align: right;\n",
       "    }\n",
       "</style>\n",
       "<table border=\"1\" class=\"dataframe\">\n",
       "  <thead>\n",
       "    <tr style=\"text-align: right;\">\n",
       "      <th></th>\n",
       "      <th>count</th>\n",
       "      <th>mean</th>\n",
       "      <th>std</th>\n",
       "      <th>min</th>\n",
       "      <th>25%</th>\n",
       "      <th>50%</th>\n",
       "      <th>75%</th>\n",
       "      <th>max</th>\n",
       "    </tr>\n",
       "    <tr>\n",
       "      <th>Educational level</th>\n",
       "      <th></th>\n",
       "      <th></th>\n",
       "      <th></th>\n",
       "      <th></th>\n",
       "      <th></th>\n",
       "      <th></th>\n",
       "      <th></th>\n",
       "      <th></th>\n",
       "    </tr>\n",
       "  </thead>\n",
       "  <tbody>\n",
       "    <tr>\n",
       "      <th>Unfinished &lt;br&gt;Compulsory&lt;br&gt;Secondary &lt;br&gt;Education</th>\n",
       "      <td>1.0</td>\n",
       "      <td>0.0</td>\n",
       "      <td>NaN</td>\n",
       "      <td>0.0</td>\n",
       "      <td>0.0</td>\n",
       "      <td>0.0</td>\n",
       "      <td>0.0</td>\n",
       "      <td>0.0</td>\n",
       "    </tr>\n",
       "  </tbody>\n",
       "</table>\n",
       "</div>"
      ],
      "text/plain": [
       "                                                    count  mean  std  min  \\\n",
       "Educational level                                                           \n",
       "Unfinished <br>Compulsory<br>Secondary <br>Educ...    1.0   0.0  NaN  0.0   \n",
       "\n",
       "                                                    25%  50%  75%  max  \n",
       "Educational level                                                       \n",
       "Unfinished <br>Compulsory<br>Secondary <br>Educ...  0.0  0.0  0.0  0.0  "
      ]
     },
     "metadata": {},
     "output_type": "display_data"
    },
    {
     "name": "stdout",
     "output_type": "stream",
     "text": [
      "Count of each value in Gender related to each Educational level in China expressed as Educational level | Gender | Amount\n"
     ]
    },
    {
     "data": {
      "text/plain": [
       "Educational level                                     Gender\n",
       "Unfinished <br>Compulsory<br>Secondary <br>Education  0         1\n",
       "Name: Gender, dtype: int64"
      ]
     },
     "metadata": {},
     "output_type": "display_data"
    },
    {
     "name": "stdout",
     "output_type": "stream",
     "text": [
      "Percentage of each value in Gender related to each Educational level in China expressed as Educational level | Gender | Percentage\n"
     ]
    },
    {
     "data": {
      "text/plain": [
       "Educational level                                     Gender\n",
       "Unfinished <br>Compulsory<br>Secondary <br>Education  0         100.0\n",
       "Name: Gender, dtype: float64"
      ]
     },
     "metadata": {},
     "output_type": "display_data"
    },
    {
     "name": "stdout",
     "output_type": "stream",
     "text": [
      "Describing the variable Gender in USA related to Educational level\n"
     ]
    },
    {
     "data": {
      "text/html": [
       "<div>\n",
       "<style scoped>\n",
       "    .dataframe tbody tr th:only-of-type {\n",
       "        vertical-align: middle;\n",
       "    }\n",
       "\n",
       "    .dataframe tbody tr th {\n",
       "        vertical-align: top;\n",
       "    }\n",
       "\n",
       "    .dataframe thead th {\n",
       "        text-align: right;\n",
       "    }\n",
       "</style>\n",
       "<table border=\"1\" class=\"dataframe\">\n",
       "  <thead>\n",
       "    <tr style=\"text-align: right;\">\n",
       "      <th></th>\n",
       "      <th>count</th>\n",
       "      <th>mean</th>\n",
       "      <th>std</th>\n",
       "      <th>min</th>\n",
       "      <th>25%</th>\n",
       "      <th>50%</th>\n",
       "      <th>75%</th>\n",
       "      <th>max</th>\n",
       "    </tr>\n",
       "    <tr>\n",
       "      <th>Educational level</th>\n",
       "      <th></th>\n",
       "      <th></th>\n",
       "      <th></th>\n",
       "      <th></th>\n",
       "      <th></th>\n",
       "      <th></th>\n",
       "      <th></th>\n",
       "      <th></th>\n",
       "    </tr>\n",
       "  </thead>\n",
       "  <tbody>\n",
       "    <tr>\n",
       "      <th>Completed &lt;br&gt;Compulsory&lt;br&gt;Secondary &lt;br&gt;Education</th>\n",
       "      <td>23.0</td>\n",
       "      <td>0.608696</td>\n",
       "      <td>0.499011</td>\n",
       "      <td>0.0</td>\n",
       "      <td>0.0</td>\n",
       "      <td>1.0</td>\n",
       "      <td>1.0</td>\n",
       "      <td>1.0</td>\n",
       "    </tr>\n",
       "    <tr>\n",
       "      <th>Primary &lt;br&gt;education</th>\n",
       "      <td>7.0</td>\n",
       "      <td>0.857143</td>\n",
       "      <td>0.377964</td>\n",
       "      <td>0.0</td>\n",
       "      <td>1.0</td>\n",
       "      <td>1.0</td>\n",
       "      <td>1.0</td>\n",
       "      <td>1.0</td>\n",
       "    </tr>\n",
       "    <tr>\n",
       "      <th>Unfinished &lt;br&gt;Compulsory&lt;br&gt;Secondary &lt;br&gt;Education</th>\n",
       "      <td>6.0</td>\n",
       "      <td>0.500000</td>\n",
       "      <td>0.547723</td>\n",
       "      <td>0.0</td>\n",
       "      <td>0.0</td>\n",
       "      <td>0.5</td>\n",
       "      <td>1.0</td>\n",
       "      <td>1.0</td>\n",
       "    </tr>\n",
       "    <tr>\n",
       "      <th>University &lt;br&gt;graduate</th>\n",
       "      <td>196.0</td>\n",
       "      <td>0.500000</td>\n",
       "      <td>0.501280</td>\n",
       "      <td>0.0</td>\n",
       "      <td>0.0</td>\n",
       "      <td>0.5</td>\n",
       "      <td>1.0</td>\n",
       "      <td>1.0</td>\n",
       "    </tr>\n",
       "    <tr>\n",
       "      <th>University &lt;br&gt;without &lt;br&gt;graduating</th>\n",
       "      <td>54.0</td>\n",
       "      <td>0.537037</td>\n",
       "      <td>0.503308</td>\n",
       "      <td>0.0</td>\n",
       "      <td>0.0</td>\n",
       "      <td>1.0</td>\n",
       "      <td>1.0</td>\n",
       "      <td>1.0</td>\n",
       "    </tr>\n",
       "    <tr>\n",
       "      <th>Vocational &lt;br&gt;Training</th>\n",
       "      <td>20.0</td>\n",
       "      <td>0.400000</td>\n",
       "      <td>0.502625</td>\n",
       "      <td>0.0</td>\n",
       "      <td>0.0</td>\n",
       "      <td>0.0</td>\n",
       "      <td>1.0</td>\n",
       "      <td>1.0</td>\n",
       "    </tr>\n",
       "  </tbody>\n",
       "</table>\n",
       "</div>"
      ],
      "text/plain": [
       "                                                    count      mean       std  \\\n",
       "Educational level                                                               \n",
       "Completed <br>Compulsory<br>Secondary <br>Educa...   23.0  0.608696  0.499011   \n",
       "Primary <br>education                                 7.0  0.857143  0.377964   \n",
       "Unfinished <br>Compulsory<br>Secondary <br>Educ...    6.0  0.500000  0.547723   \n",
       "University <br>graduate                             196.0  0.500000  0.501280   \n",
       "University <br>without <br>graduating                54.0  0.537037  0.503308   \n",
       "Vocational <br>Training                              20.0  0.400000  0.502625   \n",
       "\n",
       "                                                    min  25%  50%  75%  max  \n",
       "Educational level                                                            \n",
       "Completed <br>Compulsory<br>Secondary <br>Educa...  0.0  0.0  1.0  1.0  1.0  \n",
       "Primary <br>education                               0.0  1.0  1.0  1.0  1.0  \n",
       "Unfinished <br>Compulsory<br>Secondary <br>Educ...  0.0  0.0  0.5  1.0  1.0  \n",
       "University <br>graduate                             0.0  0.0  0.5  1.0  1.0  \n",
       "University <br>without <br>graduating               0.0  0.0  1.0  1.0  1.0  \n",
       "Vocational <br>Training                             0.0  0.0  0.0  1.0  1.0  "
      ]
     },
     "metadata": {},
     "output_type": "display_data"
    },
    {
     "name": "stdout",
     "output_type": "stream",
     "text": [
      "Count of each value in Gender related to each Educational level in USA expressed as Educational level | Gender | Amount\n"
     ]
    },
    {
     "data": {
      "text/plain": [
       "Educational level                                     Gender\n",
       "Completed <br>Compulsory<br>Secondary <br>Education   1         14\n",
       "                                                      0          9\n",
       "Primary <br>education                                 1          6\n",
       "                                                      0          1\n",
       "Unfinished <br>Compulsory<br>Secondary <br>Education  0          3\n",
       "                                                      1          3\n",
       "University <br>graduate                               0         98\n",
       "                                                      1         98\n",
       "University <br>without <br>graduating                 1         29\n",
       "                                                      0         25\n",
       "Vocational <br>Training                               0         12\n",
       "                                                      1          8\n",
       "Name: Gender, dtype: int64"
      ]
     },
     "metadata": {},
     "output_type": "display_data"
    },
    {
     "name": "stdout",
     "output_type": "stream",
     "text": [
      "Percentage of each value in Gender related to each Educational level in USA expressed as Educational level | Gender | Percentage\n"
     ]
    },
    {
     "data": {
      "text/plain": [
       "Educational level                                     Gender\n",
       "Completed <br>Compulsory<br>Secondary <br>Education   1         60.87\n",
       "                                                      0         39.13\n",
       "Primary <br>education                                 1         85.71\n",
       "                                                      0         14.29\n",
       "Unfinished <br>Compulsory<br>Secondary <br>Education  0         50.00\n",
       "                                                      1         50.00\n",
       "University <br>graduate                               0         50.00\n",
       "                                                      1         50.00\n",
       "University <br>without <br>graduating                 1         53.70\n",
       "                                                      0         46.30\n",
       "Vocational <br>Training                               0         60.00\n",
       "                                                      1         40.00\n",
       "Name: Gender, dtype: float64"
      ]
     },
     "metadata": {},
     "output_type": "display_data"
    },
    {
     "name": "stdout",
     "output_type": "stream",
     "text": [
      "Describing the variable Gender in Unknown related to Educational level\n"
     ]
    },
    {
     "data": {
      "text/html": [
       "<div>\n",
       "<style scoped>\n",
       "    .dataframe tbody tr th:only-of-type {\n",
       "        vertical-align: middle;\n",
       "    }\n",
       "\n",
       "    .dataframe tbody tr th {\n",
       "        vertical-align: top;\n",
       "    }\n",
       "\n",
       "    .dataframe thead th {\n",
       "        text-align: right;\n",
       "    }\n",
       "</style>\n",
       "<table border=\"1\" class=\"dataframe\">\n",
       "  <thead>\n",
       "    <tr style=\"text-align: right;\">\n",
       "      <th></th>\n",
       "      <th>count</th>\n",
       "      <th>mean</th>\n",
       "      <th>std</th>\n",
       "      <th>min</th>\n",
       "      <th>25%</th>\n",
       "      <th>50%</th>\n",
       "      <th>75%</th>\n",
       "      <th>max</th>\n",
       "    </tr>\n",
       "    <tr>\n",
       "      <th>Educational level</th>\n",
       "      <th></th>\n",
       "      <th></th>\n",
       "      <th></th>\n",
       "      <th></th>\n",
       "      <th></th>\n",
       "      <th></th>\n",
       "      <th></th>\n",
       "      <th></th>\n",
       "    </tr>\n",
       "  </thead>\n",
       "  <tbody>\n",
       "    <tr>\n",
       "      <th>Completed &lt;br&gt;Compulsory&lt;br&gt;Secondary &lt;br&gt;Education</th>\n",
       "      <td>8.0</td>\n",
       "      <td>1.000000</td>\n",
       "      <td>0.000000</td>\n",
       "      <td>1.0</td>\n",
       "      <td>1.00</td>\n",
       "      <td>1.0</td>\n",
       "      <td>1.0</td>\n",
       "      <td>1.0</td>\n",
       "    </tr>\n",
       "    <tr>\n",
       "      <th>Primary &lt;br&gt;education</th>\n",
       "      <td>6.0</td>\n",
       "      <td>0.666667</td>\n",
       "      <td>0.516398</td>\n",
       "      <td>0.0</td>\n",
       "      <td>0.25</td>\n",
       "      <td>1.0</td>\n",
       "      <td>1.0</td>\n",
       "      <td>1.0</td>\n",
       "    </tr>\n",
       "    <tr>\n",
       "      <th>Unfinished &lt;br&gt;Compulsory&lt;br&gt;Secondary &lt;br&gt;Education</th>\n",
       "      <td>1.0</td>\n",
       "      <td>1.000000</td>\n",
       "      <td>NaN</td>\n",
       "      <td>1.0</td>\n",
       "      <td>1.00</td>\n",
       "      <td>1.0</td>\n",
       "      <td>1.0</td>\n",
       "      <td>1.0</td>\n",
       "    </tr>\n",
       "    <tr>\n",
       "      <th>University &lt;br&gt;graduate</th>\n",
       "      <td>9.0</td>\n",
       "      <td>0.888889</td>\n",
       "      <td>0.333333</td>\n",
       "      <td>0.0</td>\n",
       "      <td>1.00</td>\n",
       "      <td>1.0</td>\n",
       "      <td>1.0</td>\n",
       "      <td>1.0</td>\n",
       "    </tr>\n",
       "    <tr>\n",
       "      <th>University &lt;br&gt;without &lt;br&gt;graduating</th>\n",
       "      <td>10.0</td>\n",
       "      <td>0.800000</td>\n",
       "      <td>0.421637</td>\n",
       "      <td>0.0</td>\n",
       "      <td>1.00</td>\n",
       "      <td>1.0</td>\n",
       "      <td>1.0</td>\n",
       "      <td>1.0</td>\n",
       "    </tr>\n",
       "    <tr>\n",
       "      <th>Vocational &lt;br&gt;Training</th>\n",
       "      <td>4.0</td>\n",
       "      <td>1.000000</td>\n",
       "      <td>0.000000</td>\n",
       "      <td>1.0</td>\n",
       "      <td>1.00</td>\n",
       "      <td>1.0</td>\n",
       "      <td>1.0</td>\n",
       "      <td>1.0</td>\n",
       "    </tr>\n",
       "  </tbody>\n",
       "</table>\n",
       "</div>"
      ],
      "text/plain": [
       "                                                    count      mean       std  \\\n",
       "Educational level                                                               \n",
       "Completed <br>Compulsory<br>Secondary <br>Educa...    8.0  1.000000  0.000000   \n",
       "Primary <br>education                                 6.0  0.666667  0.516398   \n",
       "Unfinished <br>Compulsory<br>Secondary <br>Educ...    1.0  1.000000       NaN   \n",
       "University <br>graduate                               9.0  0.888889  0.333333   \n",
       "University <br>without <br>graduating                10.0  0.800000  0.421637   \n",
       "Vocational <br>Training                               4.0  1.000000  0.000000   \n",
       "\n",
       "                                                    min   25%  50%  75%  max  \n",
       "Educational level                                                             \n",
       "Completed <br>Compulsory<br>Secondary <br>Educa...  1.0  1.00  1.0  1.0  1.0  \n",
       "Primary <br>education                               0.0  0.25  1.0  1.0  1.0  \n",
       "Unfinished <br>Compulsory<br>Secondary <br>Educ...  1.0  1.00  1.0  1.0  1.0  \n",
       "University <br>graduate                             0.0  1.00  1.0  1.0  1.0  \n",
       "University <br>without <br>graduating               0.0  1.00  1.0  1.0  1.0  \n",
       "Vocational <br>Training                             1.0  1.00  1.0  1.0  1.0  "
      ]
     },
     "metadata": {},
     "output_type": "display_data"
    },
    {
     "name": "stdout",
     "output_type": "stream",
     "text": [
      "Count of each value in Gender related to each Educational level in Unknown expressed as Educational level | Gender | Amount\n"
     ]
    },
    {
     "data": {
      "text/plain": [
       "Educational level                                     Gender\n",
       "Completed <br>Compulsory<br>Secondary <br>Education   1         8\n",
       "Primary <br>education                                 1         4\n",
       "                                                      0         2\n",
       "Unfinished <br>Compulsory<br>Secondary <br>Education  1         1\n",
       "University <br>graduate                               1         8\n",
       "                                                      0         1\n",
       "University <br>without <br>graduating                 1         8\n",
       "                                                      0         2\n",
       "Vocational <br>Training                               1         4\n",
       "Name: Gender, dtype: int64"
      ]
     },
     "metadata": {},
     "output_type": "display_data"
    },
    {
     "name": "stdout",
     "output_type": "stream",
     "text": [
      "Percentage of each value in Gender related to each Educational level in Unknown expressed as Educational level | Gender | Percentage\n"
     ]
    },
    {
     "data": {
      "text/plain": [
       "Educational level                                     Gender\n",
       "Completed <br>Compulsory<br>Secondary <br>Education   1         100.00\n",
       "Primary <br>education                                 1          66.67\n",
       "                                                      0          33.33\n",
       "Unfinished <br>Compulsory<br>Secondary <br>Education  1         100.00\n",
       "University <br>graduate                               1          88.89\n",
       "                                                      0          11.11\n",
       "University <br>without <br>graduating                 1          80.00\n",
       "                                                      0          20.00\n",
       "Vocational <br>Training                               1         100.00\n",
       "Name: Gender, dtype: float64"
      ]
     },
     "metadata": {},
     "output_type": "display_data"
    },
    {
     "name": "stdout",
     "output_type": "stream",
     "text": [
      "Describing the variable Gender in Slovakia related to Educational level\n"
     ]
    },
    {
     "data": {
      "text/html": [
       "<div>\n",
       "<style scoped>\n",
       "    .dataframe tbody tr th:only-of-type {\n",
       "        vertical-align: middle;\n",
       "    }\n",
       "\n",
       "    .dataframe tbody tr th {\n",
       "        vertical-align: top;\n",
       "    }\n",
       "\n",
       "    .dataframe thead th {\n",
       "        text-align: right;\n",
       "    }\n",
       "</style>\n",
       "<table border=\"1\" class=\"dataframe\">\n",
       "  <thead>\n",
       "    <tr style=\"text-align: right;\">\n",
       "      <th></th>\n",
       "      <th>count</th>\n",
       "      <th>mean</th>\n",
       "      <th>std</th>\n",
       "      <th>min</th>\n",
       "      <th>25%</th>\n",
       "      <th>50%</th>\n",
       "      <th>75%</th>\n",
       "      <th>max</th>\n",
       "    </tr>\n",
       "    <tr>\n",
       "      <th>Educational level</th>\n",
       "      <th></th>\n",
       "      <th></th>\n",
       "      <th></th>\n",
       "      <th></th>\n",
       "      <th></th>\n",
       "      <th></th>\n",
       "      <th></th>\n",
       "      <th></th>\n",
       "    </tr>\n",
       "  </thead>\n",
       "  <tbody>\n",
       "    <tr>\n",
       "      <th>University &lt;br&gt;without &lt;br&gt;graduating</th>\n",
       "      <td>1.0</td>\n",
       "      <td>0.0</td>\n",
       "      <td>NaN</td>\n",
       "      <td>0.0</td>\n",
       "      <td>0.0</td>\n",
       "      <td>0.0</td>\n",
       "      <td>0.0</td>\n",
       "      <td>0.0</td>\n",
       "    </tr>\n",
       "  </tbody>\n",
       "</table>\n",
       "</div>"
      ],
      "text/plain": [
       "                                       count  mean  std  min  25%  50%  75%  \\\n",
       "Educational level                                                             \n",
       "University <br>without <br>graduating    1.0   0.0  NaN  0.0  0.0  0.0  0.0   \n",
       "\n",
       "                                       max  \n",
       "Educational level                           \n",
       "University <br>without <br>graduating  0.0  "
      ]
     },
     "metadata": {},
     "output_type": "display_data"
    },
    {
     "name": "stdout",
     "output_type": "stream",
     "text": [
      "Count of each value in Gender related to each Educational level in Slovakia expressed as Educational level | Gender | Amount\n"
     ]
    },
    {
     "data": {
      "text/plain": [
       "Educational level                      Gender\n",
       "University <br>without <br>graduating  0         1\n",
       "Name: Gender, dtype: int64"
      ]
     },
     "metadata": {},
     "output_type": "display_data"
    },
    {
     "name": "stdout",
     "output_type": "stream",
     "text": [
      "Percentage of each value in Gender related to each Educational level in Slovakia expressed as Educational level | Gender | Percentage\n"
     ]
    },
    {
     "data": {
      "text/plain": [
       "Educational level                      Gender\n",
       "University <br>without <br>graduating  0         100.0\n",
       "Name: Gender, dtype: float64"
      ]
     },
     "metadata": {},
     "output_type": "display_data"
    },
    {
     "name": "stdout",
     "output_type": "stream",
     "text": [
      "Describing the variable Gender in India related to Educational level\n"
     ]
    },
    {
     "data": {
      "text/html": [
       "<div>\n",
       "<style scoped>\n",
       "    .dataframe tbody tr th:only-of-type {\n",
       "        vertical-align: middle;\n",
       "    }\n",
       "\n",
       "    .dataframe tbody tr th {\n",
       "        vertical-align: top;\n",
       "    }\n",
       "\n",
       "    .dataframe thead th {\n",
       "        text-align: right;\n",
       "    }\n",
       "</style>\n",
       "<table border=\"1\" class=\"dataframe\">\n",
       "  <thead>\n",
       "    <tr style=\"text-align: right;\">\n",
       "      <th></th>\n",
       "      <th>count</th>\n",
       "      <th>mean</th>\n",
       "      <th>std</th>\n",
       "      <th>min</th>\n",
       "      <th>25%</th>\n",
       "      <th>50%</th>\n",
       "      <th>75%</th>\n",
       "      <th>max</th>\n",
       "    </tr>\n",
       "    <tr>\n",
       "      <th>Educational level</th>\n",
       "      <th></th>\n",
       "      <th></th>\n",
       "      <th></th>\n",
       "      <th></th>\n",
       "      <th></th>\n",
       "      <th></th>\n",
       "      <th></th>\n",
       "      <th></th>\n",
       "    </tr>\n",
       "  </thead>\n",
       "  <tbody>\n",
       "    <tr>\n",
       "      <th>Completed &lt;br&gt;Compulsory&lt;br&gt;Secondary &lt;br&gt;Education</th>\n",
       "      <td>9.0</td>\n",
       "      <td>0.222222</td>\n",
       "      <td>0.440959</td>\n",
       "      <td>0.0</td>\n",
       "      <td>0.0</td>\n",
       "      <td>0.0</td>\n",
       "      <td>0.0</td>\n",
       "      <td>1.0</td>\n",
       "    </tr>\n",
       "    <tr>\n",
       "      <th>University &lt;br&gt;graduate</th>\n",
       "      <td>102.0</td>\n",
       "      <td>0.441176</td>\n",
       "      <td>0.498980</td>\n",
       "      <td>0.0</td>\n",
       "      <td>0.0</td>\n",
       "      <td>0.0</td>\n",
       "      <td>1.0</td>\n",
       "      <td>1.0</td>\n",
       "    </tr>\n",
       "    <tr>\n",
       "      <th>University &lt;br&gt;without &lt;br&gt;graduating</th>\n",
       "      <td>8.0</td>\n",
       "      <td>0.375000</td>\n",
       "      <td>0.517549</td>\n",
       "      <td>0.0</td>\n",
       "      <td>0.0</td>\n",
       "      <td>0.0</td>\n",
       "      <td>1.0</td>\n",
       "      <td>1.0</td>\n",
       "    </tr>\n",
       "    <tr>\n",
       "      <th>Vocational &lt;br&gt;Training</th>\n",
       "      <td>1.0</td>\n",
       "      <td>0.000000</td>\n",
       "      <td>NaN</td>\n",
       "      <td>0.0</td>\n",
       "      <td>0.0</td>\n",
       "      <td>0.0</td>\n",
       "      <td>0.0</td>\n",
       "      <td>0.0</td>\n",
       "    </tr>\n",
       "  </tbody>\n",
       "</table>\n",
       "</div>"
      ],
      "text/plain": [
       "                                                    count      mean       std  \\\n",
       "Educational level                                                               \n",
       "Completed <br>Compulsory<br>Secondary <br>Educa...    9.0  0.222222  0.440959   \n",
       "University <br>graduate                             102.0  0.441176  0.498980   \n",
       "University <br>without <br>graduating                 8.0  0.375000  0.517549   \n",
       "Vocational <br>Training                               1.0  0.000000       NaN   \n",
       "\n",
       "                                                    min  25%  50%  75%  max  \n",
       "Educational level                                                            \n",
       "Completed <br>Compulsory<br>Secondary <br>Educa...  0.0  0.0  0.0  0.0  1.0  \n",
       "University <br>graduate                             0.0  0.0  0.0  1.0  1.0  \n",
       "University <br>without <br>graduating               0.0  0.0  0.0  1.0  1.0  \n",
       "Vocational <br>Training                             0.0  0.0  0.0  0.0  0.0  "
      ]
     },
     "metadata": {},
     "output_type": "display_data"
    },
    {
     "name": "stdout",
     "output_type": "stream",
     "text": [
      "Count of each value in Gender related to each Educational level in India expressed as Educational level | Gender | Amount\n"
     ]
    },
    {
     "data": {
      "text/plain": [
       "Educational level                                    Gender\n",
       "Completed <br>Compulsory<br>Secondary <br>Education  0          7\n",
       "                                                     1          2\n",
       "University <br>graduate                              0         57\n",
       "                                                     1         45\n",
       "University <br>without <br>graduating                0          5\n",
       "                                                     1          3\n",
       "Vocational <br>Training                              0          1\n",
       "Name: Gender, dtype: int64"
      ]
     },
     "metadata": {},
     "output_type": "display_data"
    },
    {
     "name": "stdout",
     "output_type": "stream",
     "text": [
      "Percentage of each value in Gender related to each Educational level in India expressed as Educational level | Gender | Percentage\n"
     ]
    },
    {
     "data": {
      "text/plain": [
       "Educational level                                    Gender\n",
       "Completed <br>Compulsory<br>Secondary <br>Education  0          77.78\n",
       "                                                     1          22.22\n",
       "University <br>graduate                              0          55.88\n",
       "                                                     1          44.12\n",
       "University <br>without <br>graduating                0          62.50\n",
       "                                                     1          37.50\n",
       "Vocational <br>Training                              0         100.00\n",
       "Name: Gender, dtype: float64"
      ]
     },
     "metadata": {},
     "output_type": "display_data"
    },
    {
     "name": "stdout",
     "output_type": "stream",
     "text": [
      "Describing the variable Gender in Italy related to Educational level\n"
     ]
    },
    {
     "data": {
      "text/html": [
       "<div>\n",
       "<style scoped>\n",
       "    .dataframe tbody tr th:only-of-type {\n",
       "        vertical-align: middle;\n",
       "    }\n",
       "\n",
       "    .dataframe tbody tr th {\n",
       "        vertical-align: top;\n",
       "    }\n",
       "\n",
       "    .dataframe thead th {\n",
       "        text-align: right;\n",
       "    }\n",
       "</style>\n",
       "<table border=\"1\" class=\"dataframe\">\n",
       "  <thead>\n",
       "    <tr style=\"text-align: right;\">\n",
       "      <th></th>\n",
       "      <th>count</th>\n",
       "      <th>mean</th>\n",
       "      <th>std</th>\n",
       "      <th>min</th>\n",
       "      <th>25%</th>\n",
       "      <th>50%</th>\n",
       "      <th>75%</th>\n",
       "      <th>max</th>\n",
       "    </tr>\n",
       "    <tr>\n",
       "      <th>Educational level</th>\n",
       "      <th></th>\n",
       "      <th></th>\n",
       "      <th></th>\n",
       "      <th></th>\n",
       "      <th></th>\n",
       "      <th></th>\n",
       "      <th></th>\n",
       "      <th></th>\n",
       "    </tr>\n",
       "  </thead>\n",
       "  <tbody>\n",
       "    <tr>\n",
       "      <th>Completed &lt;br&gt;Compulsory&lt;br&gt;Secondary &lt;br&gt;Education</th>\n",
       "      <td>1.0</td>\n",
       "      <td>0.000000</td>\n",
       "      <td>NaN</td>\n",
       "      <td>0.0</td>\n",
       "      <td>0.0</td>\n",
       "      <td>0.0</td>\n",
       "      <td>0.0</td>\n",
       "      <td>0.0</td>\n",
       "    </tr>\n",
       "    <tr>\n",
       "      <th>University &lt;br&gt;graduate</th>\n",
       "      <td>6.0</td>\n",
       "      <td>0.166667</td>\n",
       "      <td>0.408248</td>\n",
       "      <td>0.0</td>\n",
       "      <td>0.0</td>\n",
       "      <td>0.0</td>\n",
       "      <td>0.0</td>\n",
       "      <td>1.0</td>\n",
       "    </tr>\n",
       "    <tr>\n",
       "      <th>University &lt;br&gt;without &lt;br&gt;graduating</th>\n",
       "      <td>3.0</td>\n",
       "      <td>0.333333</td>\n",
       "      <td>0.577350</td>\n",
       "      <td>0.0</td>\n",
       "      <td>0.0</td>\n",
       "      <td>0.0</td>\n",
       "      <td>0.5</td>\n",
       "      <td>1.0</td>\n",
       "    </tr>\n",
       "    <tr>\n",
       "      <th>Vocational &lt;br&gt;Training</th>\n",
       "      <td>1.0</td>\n",
       "      <td>1.000000</td>\n",
       "      <td>NaN</td>\n",
       "      <td>1.0</td>\n",
       "      <td>1.0</td>\n",
       "      <td>1.0</td>\n",
       "      <td>1.0</td>\n",
       "      <td>1.0</td>\n",
       "    </tr>\n",
       "  </tbody>\n",
       "</table>\n",
       "</div>"
      ],
      "text/plain": [
       "                                                    count      mean       std  \\\n",
       "Educational level                                                               \n",
       "Completed <br>Compulsory<br>Secondary <br>Educa...    1.0  0.000000       NaN   \n",
       "University <br>graduate                               6.0  0.166667  0.408248   \n",
       "University <br>without <br>graduating                 3.0  0.333333  0.577350   \n",
       "Vocational <br>Training                               1.0  1.000000       NaN   \n",
       "\n",
       "                                                    min  25%  50%  75%  max  \n",
       "Educational level                                                            \n",
       "Completed <br>Compulsory<br>Secondary <br>Educa...  0.0  0.0  0.0  0.0  0.0  \n",
       "University <br>graduate                             0.0  0.0  0.0  0.0  1.0  \n",
       "University <br>without <br>graduating               0.0  0.0  0.0  0.5  1.0  \n",
       "Vocational <br>Training                             1.0  1.0  1.0  1.0  1.0  "
      ]
     },
     "metadata": {},
     "output_type": "display_data"
    },
    {
     "name": "stdout",
     "output_type": "stream",
     "text": [
      "Count of each value in Gender related to each Educational level in Italy expressed as Educational level | Gender | Amount\n"
     ]
    },
    {
     "data": {
      "text/plain": [
       "Educational level                                    Gender\n",
       "Completed <br>Compulsory<br>Secondary <br>Education  0         1\n",
       "University <br>graduate                              0         5\n",
       "                                                     1         1\n",
       "University <br>without <br>graduating                0         2\n",
       "                                                     1         1\n",
       "Vocational <br>Training                              1         1\n",
       "Name: Gender, dtype: int64"
      ]
     },
     "metadata": {},
     "output_type": "display_data"
    },
    {
     "name": "stdout",
     "output_type": "stream",
     "text": [
      "Percentage of each value in Gender related to each Educational level in Italy expressed as Educational level | Gender | Percentage\n"
     ]
    },
    {
     "data": {
      "text/plain": [
       "Educational level                                    Gender\n",
       "Completed <br>Compulsory<br>Secondary <br>Education  0         100.00\n",
       "University <br>graduate                              0          83.33\n",
       "                                                     1          16.67\n",
       "University <br>without <br>graduating                0          66.67\n",
       "                                                     1          33.33\n",
       "Vocational <br>Training                              1         100.00\n",
       "Name: Gender, dtype: float64"
      ]
     },
     "metadata": {},
     "output_type": "display_data"
    },
    {
     "name": "stdout",
     "output_type": "stream",
     "text": [
      "Describing the variable Gender in England related to Educational level\n"
     ]
    },
    {
     "data": {
      "text/html": [
       "<div>\n",
       "<style scoped>\n",
       "    .dataframe tbody tr th:only-of-type {\n",
       "        vertical-align: middle;\n",
       "    }\n",
       "\n",
       "    .dataframe tbody tr th {\n",
       "        vertical-align: top;\n",
       "    }\n",
       "\n",
       "    .dataframe thead th {\n",
       "        text-align: right;\n",
       "    }\n",
       "</style>\n",
       "<table border=\"1\" class=\"dataframe\">\n",
       "  <thead>\n",
       "    <tr style=\"text-align: right;\">\n",
       "      <th></th>\n",
       "      <th>count</th>\n",
       "      <th>mean</th>\n",
       "      <th>std</th>\n",
       "      <th>min</th>\n",
       "      <th>25%</th>\n",
       "      <th>50%</th>\n",
       "      <th>75%</th>\n",
       "      <th>max</th>\n",
       "    </tr>\n",
       "    <tr>\n",
       "      <th>Educational level</th>\n",
       "      <th></th>\n",
       "      <th></th>\n",
       "      <th></th>\n",
       "      <th></th>\n",
       "      <th></th>\n",
       "      <th></th>\n",
       "      <th></th>\n",
       "      <th></th>\n",
       "    </tr>\n",
       "  </thead>\n",
       "  <tbody>\n",
       "    <tr>\n",
       "      <th>University &lt;br&gt;graduate</th>\n",
       "      <td>6.0</td>\n",
       "      <td>0.333333</td>\n",
       "      <td>0.516398</td>\n",
       "      <td>0.0</td>\n",
       "      <td>0.0</td>\n",
       "      <td>0.0</td>\n",
       "      <td>0.75</td>\n",
       "      <td>1.0</td>\n",
       "    </tr>\n",
       "    <tr>\n",
       "      <th>University &lt;br&gt;without &lt;br&gt;graduating</th>\n",
       "      <td>4.0</td>\n",
       "      <td>0.500000</td>\n",
       "      <td>0.577350</td>\n",
       "      <td>0.0</td>\n",
       "      <td>0.0</td>\n",
       "      <td>0.5</td>\n",
       "      <td>1.00</td>\n",
       "      <td>1.0</td>\n",
       "    </tr>\n",
       "  </tbody>\n",
       "</table>\n",
       "</div>"
      ],
      "text/plain": [
       "                                       count      mean       std  min  25%  \\\n",
       "Educational level                                                            \n",
       "University <br>graduate                  6.0  0.333333  0.516398  0.0  0.0   \n",
       "University <br>without <br>graduating    4.0  0.500000  0.577350  0.0  0.0   \n",
       "\n",
       "                                       50%   75%  max  \n",
       "Educational level                                      \n",
       "University <br>graduate                0.0  0.75  1.0  \n",
       "University <br>without <br>graduating  0.5  1.00  1.0  "
      ]
     },
     "metadata": {},
     "output_type": "display_data"
    },
    {
     "name": "stdout",
     "output_type": "stream",
     "text": [
      "Count of each value in Gender related to each Educational level in England expressed as Educational level | Gender | Amount\n"
     ]
    },
    {
     "data": {
      "text/plain": [
       "Educational level                      Gender\n",
       "University <br>graduate                0         4\n",
       "                                       1         2\n",
       "University <br>without <br>graduating  0         2\n",
       "                                       1         2\n",
       "Name: Gender, dtype: int64"
      ]
     },
     "metadata": {},
     "output_type": "display_data"
    },
    {
     "name": "stdout",
     "output_type": "stream",
     "text": [
      "Percentage of each value in Gender related to each Educational level in England expressed as Educational level | Gender | Percentage\n"
     ]
    },
    {
     "data": {
      "text/plain": [
       "Educational level                      Gender\n",
       "University <br>graduate                0         66.67\n",
       "                                       1         33.33\n",
       "University <br>without <br>graduating  0         50.00\n",
       "                                       1         50.00\n",
       "Name: Gender, dtype: float64"
      ]
     },
     "metadata": {},
     "output_type": "display_data"
    },
    {
     "name": "stdout",
     "output_type": "stream",
     "text": [
      "Describing the variable Gender in Germany related to Educational level\n"
     ]
    },
    {
     "data": {
      "text/html": [
       "<div>\n",
       "<style scoped>\n",
       "    .dataframe tbody tr th:only-of-type {\n",
       "        vertical-align: middle;\n",
       "    }\n",
       "\n",
       "    .dataframe tbody tr th {\n",
       "        vertical-align: top;\n",
       "    }\n",
       "\n",
       "    .dataframe thead th {\n",
       "        text-align: right;\n",
       "    }\n",
       "</style>\n",
       "<table border=\"1\" class=\"dataframe\">\n",
       "  <thead>\n",
       "    <tr style=\"text-align: right;\">\n",
       "      <th></th>\n",
       "      <th>count</th>\n",
       "      <th>mean</th>\n",
       "      <th>std</th>\n",
       "      <th>min</th>\n",
       "      <th>25%</th>\n",
       "      <th>50%</th>\n",
       "      <th>75%</th>\n",
       "      <th>max</th>\n",
       "    </tr>\n",
       "    <tr>\n",
       "      <th>Educational level</th>\n",
       "      <th></th>\n",
       "      <th></th>\n",
       "      <th></th>\n",
       "      <th></th>\n",
       "      <th></th>\n",
       "      <th></th>\n",
       "      <th></th>\n",
       "      <th></th>\n",
       "    </tr>\n",
       "  </thead>\n",
       "  <tbody>\n",
       "    <tr>\n",
       "      <th>University &lt;br&gt;graduate</th>\n",
       "      <td>1.0</td>\n",
       "      <td>1.0</td>\n",
       "      <td>NaN</td>\n",
       "      <td>1.0</td>\n",
       "      <td>1.0</td>\n",
       "      <td>1.0</td>\n",
       "      <td>1.0</td>\n",
       "      <td>1.0</td>\n",
       "    </tr>\n",
       "  </tbody>\n",
       "</table>\n",
       "</div>"
      ],
      "text/plain": [
       "                         count  mean  std  min  25%  50%  75%  max\n",
       "Educational level                                                 \n",
       "University <br>graduate    1.0   1.0  NaN  1.0  1.0  1.0  1.0  1.0"
      ]
     },
     "metadata": {},
     "output_type": "display_data"
    },
    {
     "name": "stdout",
     "output_type": "stream",
     "text": [
      "Count of each value in Gender related to each Educational level in Germany expressed as Educational level | Gender | Amount\n"
     ]
    },
    {
     "data": {
      "text/plain": [
       "Educational level        Gender\n",
       "University <br>graduate  1         1\n",
       "Name: Gender, dtype: int64"
      ]
     },
     "metadata": {},
     "output_type": "display_data"
    },
    {
     "name": "stdout",
     "output_type": "stream",
     "text": [
      "Percentage of each value in Gender related to each Educational level in Germany expressed as Educational level | Gender | Percentage\n"
     ]
    },
    {
     "data": {
      "text/plain": [
       "Educational level        Gender\n",
       "University <br>graduate  1         100.0\n",
       "Name: Gender, dtype: float64"
      ]
     },
     "metadata": {},
     "output_type": "display_data"
    },
    {
     "name": "stdout",
     "output_type": "stream",
     "text": [
      "Describing the variable Gender in Venezuela related to Educational level\n"
     ]
    },
    {
     "data": {
      "text/html": [
       "<div>\n",
       "<style scoped>\n",
       "    .dataframe tbody tr th:only-of-type {\n",
       "        vertical-align: middle;\n",
       "    }\n",
       "\n",
       "    .dataframe tbody tr th {\n",
       "        vertical-align: top;\n",
       "    }\n",
       "\n",
       "    .dataframe thead th {\n",
       "        text-align: right;\n",
       "    }\n",
       "</style>\n",
       "<table border=\"1\" class=\"dataframe\">\n",
       "  <thead>\n",
       "    <tr style=\"text-align: right;\">\n",
       "      <th></th>\n",
       "      <th>count</th>\n",
       "      <th>mean</th>\n",
       "      <th>std</th>\n",
       "      <th>min</th>\n",
       "      <th>25%</th>\n",
       "      <th>50%</th>\n",
       "      <th>75%</th>\n",
       "      <th>max</th>\n",
       "    </tr>\n",
       "    <tr>\n",
       "      <th>Educational level</th>\n",
       "      <th></th>\n",
       "      <th></th>\n",
       "      <th></th>\n",
       "      <th></th>\n",
       "      <th></th>\n",
       "      <th></th>\n",
       "      <th></th>\n",
       "      <th></th>\n",
       "    </tr>\n",
       "  </thead>\n",
       "  <tbody>\n",
       "    <tr>\n",
       "      <th>University &lt;br&gt;graduate</th>\n",
       "      <td>3.0</td>\n",
       "      <td>0.666667</td>\n",
       "      <td>0.57735</td>\n",
       "      <td>0.0</td>\n",
       "      <td>0.5</td>\n",
       "      <td>1.0</td>\n",
       "      <td>1.0</td>\n",
       "      <td>1.0</td>\n",
       "    </tr>\n",
       "    <tr>\n",
       "      <th>University &lt;br&gt;without &lt;br&gt;graduating</th>\n",
       "      <td>1.0</td>\n",
       "      <td>0.000000</td>\n",
       "      <td>NaN</td>\n",
       "      <td>0.0</td>\n",
       "      <td>0.0</td>\n",
       "      <td>0.0</td>\n",
       "      <td>0.0</td>\n",
       "      <td>0.0</td>\n",
       "    </tr>\n",
       "  </tbody>\n",
       "</table>\n",
       "</div>"
      ],
      "text/plain": [
       "                                       count      mean      std  min  25%  \\\n",
       "Educational level                                                           \n",
       "University <br>graduate                  3.0  0.666667  0.57735  0.0  0.5   \n",
       "University <br>without <br>graduating    1.0  0.000000      NaN  0.0  0.0   \n",
       "\n",
       "                                       50%  75%  max  \n",
       "Educational level                                     \n",
       "University <br>graduate                1.0  1.0  1.0  \n",
       "University <br>without <br>graduating  0.0  0.0  0.0  "
      ]
     },
     "metadata": {},
     "output_type": "display_data"
    },
    {
     "name": "stdout",
     "output_type": "stream",
     "text": [
      "Count of each value in Gender related to each Educational level in Venezuela expressed as Educational level | Gender | Amount\n"
     ]
    },
    {
     "data": {
      "text/plain": [
       "Educational level                      Gender\n",
       "University <br>graduate                1         2\n",
       "                                       0         1\n",
       "University <br>without <br>graduating  0         1\n",
       "Name: Gender, dtype: int64"
      ]
     },
     "metadata": {},
     "output_type": "display_data"
    },
    {
     "name": "stdout",
     "output_type": "stream",
     "text": [
      "Percentage of each value in Gender related to each Educational level in Venezuela expressed as Educational level | Gender | Percentage\n"
     ]
    },
    {
     "data": {
      "text/plain": [
       "Educational level                      Gender\n",
       "University <br>graduate                1          66.67\n",
       "                                       0          33.33\n",
       "University <br>without <br>graduating  0         100.00\n",
       "Name: Gender, dtype: float64"
      ]
     },
     "metadata": {},
     "output_type": "display_data"
    },
    {
     "name": "stdout",
     "output_type": "stream",
     "text": [
      "Describing the variable Gender in Albania related to Educational level\n"
     ]
    },
    {
     "data": {
      "text/html": [
       "<div>\n",
       "<style scoped>\n",
       "    .dataframe tbody tr th:only-of-type {\n",
       "        vertical-align: middle;\n",
       "    }\n",
       "\n",
       "    .dataframe tbody tr th {\n",
       "        vertical-align: top;\n",
       "    }\n",
       "\n",
       "    .dataframe thead th {\n",
       "        text-align: right;\n",
       "    }\n",
       "</style>\n",
       "<table border=\"1\" class=\"dataframe\">\n",
       "  <thead>\n",
       "    <tr style=\"text-align: right;\">\n",
       "      <th></th>\n",
       "      <th>count</th>\n",
       "      <th>mean</th>\n",
       "      <th>std</th>\n",
       "      <th>min</th>\n",
       "      <th>25%</th>\n",
       "      <th>50%</th>\n",
       "      <th>75%</th>\n",
       "      <th>max</th>\n",
       "    </tr>\n",
       "    <tr>\n",
       "      <th>Educational level</th>\n",
       "      <th></th>\n",
       "      <th></th>\n",
       "      <th></th>\n",
       "      <th></th>\n",
       "      <th></th>\n",
       "      <th></th>\n",
       "      <th></th>\n",
       "      <th></th>\n",
       "    </tr>\n",
       "  </thead>\n",
       "  <tbody>\n",
       "    <tr>\n",
       "      <th>University &lt;br&gt;graduate</th>\n",
       "      <td>1.0</td>\n",
       "      <td>0.0</td>\n",
       "      <td>NaN</td>\n",
       "      <td>0.0</td>\n",
       "      <td>0.0</td>\n",
       "      <td>0.0</td>\n",
       "      <td>0.0</td>\n",
       "      <td>0.0</td>\n",
       "    </tr>\n",
       "  </tbody>\n",
       "</table>\n",
       "</div>"
      ],
      "text/plain": [
       "                         count  mean  std  min  25%  50%  75%  max\n",
       "Educational level                                                 \n",
       "University <br>graduate    1.0   0.0  NaN  0.0  0.0  0.0  0.0  0.0"
      ]
     },
     "metadata": {},
     "output_type": "display_data"
    },
    {
     "name": "stdout",
     "output_type": "stream",
     "text": [
      "Count of each value in Gender related to each Educational level in Albania expressed as Educational level | Gender | Amount\n"
     ]
    },
    {
     "data": {
      "text/plain": [
       "Educational level        Gender\n",
       "University <br>graduate  0         1\n",
       "Name: Gender, dtype: int64"
      ]
     },
     "metadata": {},
     "output_type": "display_data"
    },
    {
     "name": "stdout",
     "output_type": "stream",
     "text": [
      "Percentage of each value in Gender related to each Educational level in Albania expressed as Educational level | Gender | Percentage\n"
     ]
    },
    {
     "data": {
      "text/plain": [
       "Educational level        Gender\n",
       "University <br>graduate  0         100.0\n",
       "Name: Gender, dtype: float64"
      ]
     },
     "metadata": {},
     "output_type": "display_data"
    },
    {
     "name": "stdout",
     "output_type": "stream",
     "text": [
      "Describing the variable Gender in Mexico related to Educational level\n"
     ]
    },
    {
     "data": {
      "text/html": [
       "<div>\n",
       "<style scoped>\n",
       "    .dataframe tbody tr th:only-of-type {\n",
       "        vertical-align: middle;\n",
       "    }\n",
       "\n",
       "    .dataframe tbody tr th {\n",
       "        vertical-align: top;\n",
       "    }\n",
       "\n",
       "    .dataframe thead th {\n",
       "        text-align: right;\n",
       "    }\n",
       "</style>\n",
       "<table border=\"1\" class=\"dataframe\">\n",
       "  <thead>\n",
       "    <tr style=\"text-align: right;\">\n",
       "      <th></th>\n",
       "      <th>count</th>\n",
       "      <th>mean</th>\n",
       "      <th>std</th>\n",
       "      <th>min</th>\n",
       "      <th>25%</th>\n",
       "      <th>50%</th>\n",
       "      <th>75%</th>\n",
       "      <th>max</th>\n",
       "    </tr>\n",
       "    <tr>\n",
       "      <th>Educational level</th>\n",
       "      <th></th>\n",
       "      <th></th>\n",
       "      <th></th>\n",
       "      <th></th>\n",
       "      <th></th>\n",
       "      <th></th>\n",
       "      <th></th>\n",
       "      <th></th>\n",
       "    </tr>\n",
       "  </thead>\n",
       "  <tbody>\n",
       "    <tr>\n",
       "      <th>University &lt;br&gt;without &lt;br&gt;graduating</th>\n",
       "      <td>1.0</td>\n",
       "      <td>0.0</td>\n",
       "      <td>NaN</td>\n",
       "      <td>0.0</td>\n",
       "      <td>0.0</td>\n",
       "      <td>0.0</td>\n",
       "      <td>0.0</td>\n",
       "      <td>0.0</td>\n",
       "    </tr>\n",
       "  </tbody>\n",
       "</table>\n",
       "</div>"
      ],
      "text/plain": [
       "                                       count  mean  std  min  25%  50%  75%  \\\n",
       "Educational level                                                             \n",
       "University <br>without <br>graduating    1.0   0.0  NaN  0.0  0.0  0.0  0.0   \n",
       "\n",
       "                                       max  \n",
       "Educational level                           \n",
       "University <br>without <br>graduating  0.0  "
      ]
     },
     "metadata": {},
     "output_type": "display_data"
    },
    {
     "name": "stdout",
     "output_type": "stream",
     "text": [
      "Count of each value in Gender related to each Educational level in Mexico expressed as Educational level | Gender | Amount\n"
     ]
    },
    {
     "data": {
      "text/plain": [
       "Educational level                      Gender\n",
       "University <br>without <br>graduating  0         1\n",
       "Name: Gender, dtype: int64"
      ]
     },
     "metadata": {},
     "output_type": "display_data"
    },
    {
     "name": "stdout",
     "output_type": "stream",
     "text": [
      "Percentage of each value in Gender related to each Educational level in Mexico expressed as Educational level | Gender | Percentage\n"
     ]
    },
    {
     "data": {
      "text/plain": [
       "Educational level                      Gender\n",
       "University <br>without <br>graduating  0         100.0\n",
       "Name: Gender, dtype: float64"
      ]
     },
     "metadata": {},
     "output_type": "display_data"
    },
    {
     "name": "stdout",
     "output_type": "stream",
     "text": [
      "Describing the variable Gender in Pakistan related to Educational level\n"
     ]
    },
    {
     "data": {
      "text/html": [
       "<div>\n",
       "<style scoped>\n",
       "    .dataframe tbody tr th:only-of-type {\n",
       "        vertical-align: middle;\n",
       "    }\n",
       "\n",
       "    .dataframe tbody tr th {\n",
       "        vertical-align: top;\n",
       "    }\n",
       "\n",
       "    .dataframe thead th {\n",
       "        text-align: right;\n",
       "    }\n",
       "</style>\n",
       "<table border=\"1\" class=\"dataframe\">\n",
       "  <thead>\n",
       "    <tr style=\"text-align: right;\">\n",
       "      <th></th>\n",
       "      <th>count</th>\n",
       "      <th>mean</th>\n",
       "      <th>std</th>\n",
       "      <th>min</th>\n",
       "      <th>25%</th>\n",
       "      <th>50%</th>\n",
       "      <th>75%</th>\n",
       "      <th>max</th>\n",
       "    </tr>\n",
       "    <tr>\n",
       "      <th>Educational level</th>\n",
       "      <th></th>\n",
       "      <th></th>\n",
       "      <th></th>\n",
       "      <th></th>\n",
       "      <th></th>\n",
       "      <th></th>\n",
       "      <th></th>\n",
       "      <th></th>\n",
       "    </tr>\n",
       "  </thead>\n",
       "  <tbody>\n",
       "    <tr>\n",
       "      <th>University &lt;br&gt;graduate</th>\n",
       "      <td>1.0</td>\n",
       "      <td>1.0</td>\n",
       "      <td>NaN</td>\n",
       "      <td>1.0</td>\n",
       "      <td>1.0</td>\n",
       "      <td>1.0</td>\n",
       "      <td>1.0</td>\n",
       "      <td>1.0</td>\n",
       "    </tr>\n",
       "  </tbody>\n",
       "</table>\n",
       "</div>"
      ],
      "text/plain": [
       "                         count  mean  std  min  25%  50%  75%  max\n",
       "Educational level                                                 \n",
       "University <br>graduate    1.0   1.0  NaN  1.0  1.0  1.0  1.0  1.0"
      ]
     },
     "metadata": {},
     "output_type": "display_data"
    },
    {
     "name": "stdout",
     "output_type": "stream",
     "text": [
      "Count of each value in Gender related to each Educational level in Pakistan expressed as Educational level | Gender | Amount\n"
     ]
    },
    {
     "data": {
      "text/plain": [
       "Educational level        Gender\n",
       "University <br>graduate  1         1\n",
       "Name: Gender, dtype: int64"
      ]
     },
     "metadata": {},
     "output_type": "display_data"
    },
    {
     "name": "stdout",
     "output_type": "stream",
     "text": [
      "Percentage of each value in Gender related to each Educational level in Pakistan expressed as Educational level | Gender | Percentage\n"
     ]
    },
    {
     "data": {
      "text/plain": [
       "Educational level        Gender\n",
       "University <br>graduate  1         100.0\n",
       "Name: Gender, dtype: float64"
      ]
     },
     "metadata": {},
     "output_type": "display_data"
    },
    {
     "name": "stdout",
     "output_type": "stream",
     "text": [
      "Describing the variable Gender in The Bahamas related to Educational level\n"
     ]
    },
    {
     "data": {
      "text/html": [
       "<div>\n",
       "<style scoped>\n",
       "    .dataframe tbody tr th:only-of-type {\n",
       "        vertical-align: middle;\n",
       "    }\n",
       "\n",
       "    .dataframe tbody tr th {\n",
       "        vertical-align: top;\n",
       "    }\n",
       "\n",
       "    .dataframe thead th {\n",
       "        text-align: right;\n",
       "    }\n",
       "</style>\n",
       "<table border=\"1\" class=\"dataframe\">\n",
       "  <thead>\n",
       "    <tr style=\"text-align: right;\">\n",
       "      <th></th>\n",
       "      <th>count</th>\n",
       "      <th>mean</th>\n",
       "      <th>std</th>\n",
       "      <th>min</th>\n",
       "      <th>25%</th>\n",
       "      <th>50%</th>\n",
       "      <th>75%</th>\n",
       "      <th>max</th>\n",
       "    </tr>\n",
       "    <tr>\n",
       "      <th>Educational level</th>\n",
       "      <th></th>\n",
       "      <th></th>\n",
       "      <th></th>\n",
       "      <th></th>\n",
       "      <th></th>\n",
       "      <th></th>\n",
       "      <th></th>\n",
       "      <th></th>\n",
       "    </tr>\n",
       "  </thead>\n",
       "  <tbody>\n",
       "    <tr>\n",
       "      <th>University &lt;br&gt;graduate</th>\n",
       "      <td>1.0</td>\n",
       "      <td>1.0</td>\n",
       "      <td>NaN</td>\n",
       "      <td>1.0</td>\n",
       "      <td>1.0</td>\n",
       "      <td>1.0</td>\n",
       "      <td>1.0</td>\n",
       "      <td>1.0</td>\n",
       "    </tr>\n",
       "  </tbody>\n",
       "</table>\n",
       "</div>"
      ],
      "text/plain": [
       "                         count  mean  std  min  25%  50%  75%  max\n",
       "Educational level                                                 \n",
       "University <br>graduate    1.0   1.0  NaN  1.0  1.0  1.0  1.0  1.0"
      ]
     },
     "metadata": {},
     "output_type": "display_data"
    },
    {
     "name": "stdout",
     "output_type": "stream",
     "text": [
      "Count of each value in Gender related to each Educational level in The Bahamas expressed as Educational level | Gender | Amount\n"
     ]
    },
    {
     "data": {
      "text/plain": [
       "Educational level        Gender\n",
       "University <br>graduate  1         1\n",
       "Name: Gender, dtype: int64"
      ]
     },
     "metadata": {},
     "output_type": "display_data"
    },
    {
     "name": "stdout",
     "output_type": "stream",
     "text": [
      "Percentage of each value in Gender related to each Educational level in The Bahamas expressed as Educational level | Gender | Percentage\n"
     ]
    },
    {
     "data": {
      "text/plain": [
       "Educational level        Gender\n",
       "University <br>graduate  1         100.0\n",
       "Name: Gender, dtype: float64"
      ]
     },
     "metadata": {},
     "output_type": "display_data"
    },
    {
     "name": "stdout",
     "output_type": "stream",
     "text": [
      "Describing the variable Gender in Argentina related to Educational level\n"
     ]
    },
    {
     "data": {
      "text/html": [
       "<div>\n",
       "<style scoped>\n",
       "    .dataframe tbody tr th:only-of-type {\n",
       "        vertical-align: middle;\n",
       "    }\n",
       "\n",
       "    .dataframe tbody tr th {\n",
       "        vertical-align: top;\n",
       "    }\n",
       "\n",
       "    .dataframe thead th {\n",
       "        text-align: right;\n",
       "    }\n",
       "</style>\n",
       "<table border=\"1\" class=\"dataframe\">\n",
       "  <thead>\n",
       "    <tr style=\"text-align: right;\">\n",
       "      <th></th>\n",
       "      <th>count</th>\n",
       "      <th>mean</th>\n",
       "      <th>std</th>\n",
       "      <th>min</th>\n",
       "      <th>25%</th>\n",
       "      <th>50%</th>\n",
       "      <th>75%</th>\n",
       "      <th>max</th>\n",
       "    </tr>\n",
       "    <tr>\n",
       "      <th>Educational level</th>\n",
       "      <th></th>\n",
       "      <th></th>\n",
       "      <th></th>\n",
       "      <th></th>\n",
       "      <th></th>\n",
       "      <th></th>\n",
       "      <th></th>\n",
       "      <th></th>\n",
       "    </tr>\n",
       "  </thead>\n",
       "  <tbody>\n",
       "    <tr>\n",
       "      <th>University &lt;br&gt;graduate</th>\n",
       "      <td>1.0</td>\n",
       "      <td>0.0</td>\n",
       "      <td>NaN</td>\n",
       "      <td>0.0</td>\n",
       "      <td>0.0</td>\n",
       "      <td>0.0</td>\n",
       "      <td>0.0</td>\n",
       "      <td>0.0</td>\n",
       "    </tr>\n",
       "  </tbody>\n",
       "</table>\n",
       "</div>"
      ],
      "text/plain": [
       "                         count  mean  std  min  25%  50%  75%  max\n",
       "Educational level                                                 \n",
       "University <br>graduate    1.0   0.0  NaN  0.0  0.0  0.0  0.0  0.0"
      ]
     },
     "metadata": {},
     "output_type": "display_data"
    },
    {
     "name": "stdout",
     "output_type": "stream",
     "text": [
      "Count of each value in Gender related to each Educational level in Argentina expressed as Educational level | Gender | Amount\n"
     ]
    },
    {
     "data": {
      "text/plain": [
       "Educational level        Gender\n",
       "University <br>graduate  0         1\n",
       "Name: Gender, dtype: int64"
      ]
     },
     "metadata": {},
     "output_type": "display_data"
    },
    {
     "name": "stdout",
     "output_type": "stream",
     "text": [
      "Percentage of each value in Gender related to each Educational level in Argentina expressed as Educational level | Gender | Percentage\n"
     ]
    },
    {
     "data": {
      "text/plain": [
       "Educational level        Gender\n",
       "University <br>graduate  0         100.0\n",
       "Name: Gender, dtype: float64"
      ]
     },
     "metadata": {},
     "output_type": "display_data"
    },
    {
     "name": "stdout",
     "output_type": "stream",
     "text": [
      "Describing the variable Gender in Iceland related to Educational level\n"
     ]
    },
    {
     "data": {
      "text/html": [
       "<div>\n",
       "<style scoped>\n",
       "    .dataframe tbody tr th:only-of-type {\n",
       "        vertical-align: middle;\n",
       "    }\n",
       "\n",
       "    .dataframe tbody tr th {\n",
       "        vertical-align: top;\n",
       "    }\n",
       "\n",
       "    .dataframe thead th {\n",
       "        text-align: right;\n",
       "    }\n",
       "</style>\n",
       "<table border=\"1\" class=\"dataframe\">\n",
       "  <thead>\n",
       "    <tr style=\"text-align: right;\">\n",
       "      <th></th>\n",
       "      <th>count</th>\n",
       "      <th>mean</th>\n",
       "      <th>std</th>\n",
       "      <th>min</th>\n",
       "      <th>25%</th>\n",
       "      <th>50%</th>\n",
       "      <th>75%</th>\n",
       "      <th>max</th>\n",
       "    </tr>\n",
       "    <tr>\n",
       "      <th>Educational level</th>\n",
       "      <th></th>\n",
       "      <th></th>\n",
       "      <th></th>\n",
       "      <th></th>\n",
       "      <th></th>\n",
       "      <th></th>\n",
       "      <th></th>\n",
       "      <th></th>\n",
       "    </tr>\n",
       "  </thead>\n",
       "  <tbody>\n",
       "    <tr>\n",
       "      <th>University &lt;br&gt;without &lt;br&gt;graduating</th>\n",
       "      <td>1.0</td>\n",
       "      <td>0.0</td>\n",
       "      <td>NaN</td>\n",
       "      <td>0.0</td>\n",
       "      <td>0.0</td>\n",
       "      <td>0.0</td>\n",
       "      <td>0.0</td>\n",
       "      <td>0.0</td>\n",
       "    </tr>\n",
       "  </tbody>\n",
       "</table>\n",
       "</div>"
      ],
      "text/plain": [
       "                                       count  mean  std  min  25%  50%  75%  \\\n",
       "Educational level                                                             \n",
       "University <br>without <br>graduating    1.0   0.0  NaN  0.0  0.0  0.0  0.0   \n",
       "\n",
       "                                       max  \n",
       "Educational level                           \n",
       "University <br>without <br>graduating  0.0  "
      ]
     },
     "metadata": {},
     "output_type": "display_data"
    },
    {
     "name": "stdout",
     "output_type": "stream",
     "text": [
      "Count of each value in Gender related to each Educational level in Iceland expressed as Educational level | Gender | Amount\n"
     ]
    },
    {
     "data": {
      "text/plain": [
       "Educational level                      Gender\n",
       "University <br>without <br>graduating  0         1\n",
       "Name: Gender, dtype: int64"
      ]
     },
     "metadata": {},
     "output_type": "display_data"
    },
    {
     "name": "stdout",
     "output_type": "stream",
     "text": [
      "Percentage of each value in Gender related to each Educational level in Iceland expressed as Educational level | Gender | Percentage\n"
     ]
    },
    {
     "data": {
      "text/plain": [
       "Educational level                      Gender\n",
       "University <br>without <br>graduating  0         100.0\n",
       "Name: Gender, dtype: float64"
      ]
     },
     "metadata": {},
     "output_type": "display_data"
    },
    {
     "name": "stdout",
     "output_type": "stream",
     "text": [
      "Describing the variable Gender in Scotland related to Educational level\n"
     ]
    },
    {
     "data": {
      "text/html": [
       "<div>\n",
       "<style scoped>\n",
       "    .dataframe tbody tr th:only-of-type {\n",
       "        vertical-align: middle;\n",
       "    }\n",
       "\n",
       "    .dataframe tbody tr th {\n",
       "        vertical-align: top;\n",
       "    }\n",
       "\n",
       "    .dataframe thead th {\n",
       "        text-align: right;\n",
       "    }\n",
       "</style>\n",
       "<table border=\"1\" class=\"dataframe\">\n",
       "  <thead>\n",
       "    <tr style=\"text-align: right;\">\n",
       "      <th></th>\n",
       "      <th>count</th>\n",
       "      <th>mean</th>\n",
       "      <th>std</th>\n",
       "      <th>min</th>\n",
       "      <th>25%</th>\n",
       "      <th>50%</th>\n",
       "      <th>75%</th>\n",
       "      <th>max</th>\n",
       "    </tr>\n",
       "    <tr>\n",
       "      <th>Educational level</th>\n",
       "      <th></th>\n",
       "      <th></th>\n",
       "      <th></th>\n",
       "      <th></th>\n",
       "      <th></th>\n",
       "      <th></th>\n",
       "      <th></th>\n",
       "      <th></th>\n",
       "    </tr>\n",
       "  </thead>\n",
       "  <tbody>\n",
       "    <tr>\n",
       "      <th>University &lt;br&gt;graduate</th>\n",
       "      <td>1.0</td>\n",
       "      <td>2.0</td>\n",
       "      <td>NaN</td>\n",
       "      <td>2.0</td>\n",
       "      <td>2.0</td>\n",
       "      <td>2.0</td>\n",
       "      <td>2.0</td>\n",
       "      <td>2.0</td>\n",
       "    </tr>\n",
       "  </tbody>\n",
       "</table>\n",
       "</div>"
      ],
      "text/plain": [
       "                         count  mean  std  min  25%  50%  75%  max\n",
       "Educational level                                                 \n",
       "University <br>graduate    1.0   2.0  NaN  2.0  2.0  2.0  2.0  2.0"
      ]
     },
     "metadata": {},
     "output_type": "display_data"
    },
    {
     "name": "stdout",
     "output_type": "stream",
     "text": [
      "Count of each value in Gender related to each Educational level in Scotland expressed as Educational level | Gender | Amount\n"
     ]
    },
    {
     "data": {
      "text/plain": [
       "Educational level        Gender\n",
       "University <br>graduate  2         1\n",
       "Name: Gender, dtype: int64"
      ]
     },
     "metadata": {},
     "output_type": "display_data"
    },
    {
     "name": "stdout",
     "output_type": "stream",
     "text": [
      "Percentage of each value in Gender related to each Educational level in Scotland expressed as Educational level | Gender | Percentage\n"
     ]
    },
    {
     "data": {
      "text/plain": [
       "Educational level        Gender\n",
       "University <br>graduate  2         100.0\n",
       "Name: Gender, dtype: float64"
      ]
     },
     "metadata": {},
     "output_type": "display_data"
    },
    {
     "name": "stdout",
     "output_type": "stream",
     "text": [
      "Describing the variable Gender in Sudan related to Educational level\n"
     ]
    },
    {
     "data": {
      "text/html": [
       "<div>\n",
       "<style scoped>\n",
       "    .dataframe tbody tr th:only-of-type {\n",
       "        vertical-align: middle;\n",
       "    }\n",
       "\n",
       "    .dataframe tbody tr th {\n",
       "        vertical-align: top;\n",
       "    }\n",
       "\n",
       "    .dataframe thead th {\n",
       "        text-align: right;\n",
       "    }\n",
       "</style>\n",
       "<table border=\"1\" class=\"dataframe\">\n",
       "  <thead>\n",
       "    <tr style=\"text-align: right;\">\n",
       "      <th></th>\n",
       "      <th>count</th>\n",
       "      <th>mean</th>\n",
       "      <th>std</th>\n",
       "      <th>min</th>\n",
       "      <th>25%</th>\n",
       "      <th>50%</th>\n",
       "      <th>75%</th>\n",
       "      <th>max</th>\n",
       "    </tr>\n",
       "    <tr>\n",
       "      <th>Educational level</th>\n",
       "      <th></th>\n",
       "      <th></th>\n",
       "      <th></th>\n",
       "      <th></th>\n",
       "      <th></th>\n",
       "      <th></th>\n",
       "      <th></th>\n",
       "      <th></th>\n",
       "    </tr>\n",
       "  </thead>\n",
       "  <tbody>\n",
       "    <tr>\n",
       "      <th>University &lt;br&gt;graduate</th>\n",
       "      <td>1.0</td>\n",
       "      <td>0.0</td>\n",
       "      <td>NaN</td>\n",
       "      <td>0.0</td>\n",
       "      <td>0.0</td>\n",
       "      <td>0.0</td>\n",
       "      <td>0.0</td>\n",
       "      <td>0.0</td>\n",
       "    </tr>\n",
       "  </tbody>\n",
       "</table>\n",
       "</div>"
      ],
      "text/plain": [
       "                         count  mean  std  min  25%  50%  75%  max\n",
       "Educational level                                                 \n",
       "University <br>graduate    1.0   0.0  NaN  0.0  0.0  0.0  0.0  0.0"
      ]
     },
     "metadata": {},
     "output_type": "display_data"
    },
    {
     "name": "stdout",
     "output_type": "stream",
     "text": [
      "Count of each value in Gender related to each Educational level in Sudan expressed as Educational level | Gender | Amount\n"
     ]
    },
    {
     "data": {
      "text/plain": [
       "Educational level        Gender\n",
       "University <br>graduate  0         1\n",
       "Name: Gender, dtype: int64"
      ]
     },
     "metadata": {},
     "output_type": "display_data"
    },
    {
     "name": "stdout",
     "output_type": "stream",
     "text": [
      "Percentage of each value in Gender related to each Educational level in Sudan expressed as Educational level | Gender | Percentage\n"
     ]
    },
    {
     "data": {
      "text/plain": [
       "Educational level        Gender\n",
       "University <br>graduate  0         100.0\n",
       "Name: Gender, dtype: float64"
      ]
     },
     "metadata": {},
     "output_type": "display_data"
    },
    {
     "name": "stdout",
     "output_type": "stream",
     "text": [
      "Describing the variable Gender in Ukraine related to Educational level\n"
     ]
    },
    {
     "data": {
      "text/html": [
       "<div>\n",
       "<style scoped>\n",
       "    .dataframe tbody tr th:only-of-type {\n",
       "        vertical-align: middle;\n",
       "    }\n",
       "\n",
       "    .dataframe tbody tr th {\n",
       "        vertical-align: top;\n",
       "    }\n",
       "\n",
       "    .dataframe thead th {\n",
       "        text-align: right;\n",
       "    }\n",
       "</style>\n",
       "<table border=\"1\" class=\"dataframe\">\n",
       "  <thead>\n",
       "    <tr style=\"text-align: right;\">\n",
       "      <th></th>\n",
       "      <th>count</th>\n",
       "      <th>mean</th>\n",
       "      <th>std</th>\n",
       "      <th>min</th>\n",
       "      <th>25%</th>\n",
       "      <th>50%</th>\n",
       "      <th>75%</th>\n",
       "      <th>max</th>\n",
       "    </tr>\n",
       "    <tr>\n",
       "      <th>Educational level</th>\n",
       "      <th></th>\n",
       "      <th></th>\n",
       "      <th></th>\n",
       "      <th></th>\n",
       "      <th></th>\n",
       "      <th></th>\n",
       "      <th></th>\n",
       "      <th></th>\n",
       "    </tr>\n",
       "  </thead>\n",
       "  <tbody>\n",
       "    <tr>\n",
       "      <th>Completed &lt;br&gt;Compulsory&lt;br&gt;Secondary &lt;br&gt;Education</th>\n",
       "      <td>1.0</td>\n",
       "      <td>1.0</td>\n",
       "      <td>NaN</td>\n",
       "      <td>1.0</td>\n",
       "      <td>1.0</td>\n",
       "      <td>1.0</td>\n",
       "      <td>1.0</td>\n",
       "      <td>1.0</td>\n",
       "    </tr>\n",
       "  </tbody>\n",
       "</table>\n",
       "</div>"
      ],
      "text/plain": [
       "                                                    count  mean  std  min  \\\n",
       "Educational level                                                           \n",
       "Completed <br>Compulsory<br>Secondary <br>Educa...    1.0   1.0  NaN  1.0   \n",
       "\n",
       "                                                    25%  50%  75%  max  \n",
       "Educational level                                                       \n",
       "Completed <br>Compulsory<br>Secondary <br>Educa...  1.0  1.0  1.0  1.0  "
      ]
     },
     "metadata": {},
     "output_type": "display_data"
    },
    {
     "name": "stdout",
     "output_type": "stream",
     "text": [
      "Count of each value in Gender related to each Educational level in Ukraine expressed as Educational level | Gender | Amount\n"
     ]
    },
    {
     "data": {
      "text/plain": [
       "Educational level                                    Gender\n",
       "Completed <br>Compulsory<br>Secondary <br>Education  1         1\n",
       "Name: Gender, dtype: int64"
      ]
     },
     "metadata": {},
     "output_type": "display_data"
    },
    {
     "name": "stdout",
     "output_type": "stream",
     "text": [
      "Percentage of each value in Gender related to each Educational level in Ukraine expressed as Educational level | Gender | Percentage\n"
     ]
    },
    {
     "data": {
      "text/plain": [
       "Educational level                                    Gender\n",
       "Completed <br>Compulsory<br>Secondary <br>Education  1         100.0\n",
       "Name: Gender, dtype: float64"
      ]
     },
     "metadata": {},
     "output_type": "display_data"
    },
    {
     "name": "stdout",
     "output_type": "stream",
     "text": [
      "Describing the variable Gender in New Zealand related to Educational level\n"
     ]
    },
    {
     "data": {
      "text/html": [
       "<div>\n",
       "<style scoped>\n",
       "    .dataframe tbody tr th:only-of-type {\n",
       "        vertical-align: middle;\n",
       "    }\n",
       "\n",
       "    .dataframe tbody tr th {\n",
       "        vertical-align: top;\n",
       "    }\n",
       "\n",
       "    .dataframe thead th {\n",
       "        text-align: right;\n",
       "    }\n",
       "</style>\n",
       "<table border=\"1\" class=\"dataframe\">\n",
       "  <thead>\n",
       "    <tr style=\"text-align: right;\">\n",
       "      <th></th>\n",
       "      <th>count</th>\n",
       "      <th>mean</th>\n",
       "      <th>std</th>\n",
       "      <th>min</th>\n",
       "      <th>25%</th>\n",
       "      <th>50%</th>\n",
       "      <th>75%</th>\n",
       "      <th>max</th>\n",
       "    </tr>\n",
       "    <tr>\n",
       "      <th>Educational level</th>\n",
       "      <th></th>\n",
       "      <th></th>\n",
       "      <th></th>\n",
       "      <th></th>\n",
       "      <th></th>\n",
       "      <th></th>\n",
       "      <th></th>\n",
       "      <th></th>\n",
       "    </tr>\n",
       "  </thead>\n",
       "  <tbody>\n",
       "    <tr>\n",
       "      <th>University &lt;br&gt;graduate</th>\n",
       "      <td>1.0</td>\n",
       "      <td>1.0</td>\n",
       "      <td>NaN</td>\n",
       "      <td>1.0</td>\n",
       "      <td>1.0</td>\n",
       "      <td>1.0</td>\n",
       "      <td>1.0</td>\n",
       "      <td>1.0</td>\n",
       "    </tr>\n",
       "  </tbody>\n",
       "</table>\n",
       "</div>"
      ],
      "text/plain": [
       "                         count  mean  std  min  25%  50%  75%  max\n",
       "Educational level                                                 \n",
       "University <br>graduate    1.0   1.0  NaN  1.0  1.0  1.0  1.0  1.0"
      ]
     },
     "metadata": {},
     "output_type": "display_data"
    },
    {
     "name": "stdout",
     "output_type": "stream",
     "text": [
      "Count of each value in Gender related to each Educational level in New Zealand expressed as Educational level | Gender | Amount\n"
     ]
    },
    {
     "data": {
      "text/plain": [
       "Educational level        Gender\n",
       "University <br>graduate  1         1\n",
       "Name: Gender, dtype: int64"
      ]
     },
     "metadata": {},
     "output_type": "display_data"
    },
    {
     "name": "stdout",
     "output_type": "stream",
     "text": [
      "Percentage of each value in Gender related to each Educational level in New Zealand expressed as Educational level | Gender | Percentage\n"
     ]
    },
    {
     "data": {
      "text/plain": [
       "Educational level        Gender\n",
       "University <br>graduate  1         100.0\n",
       "Name: Gender, dtype: float64"
      ]
     },
     "metadata": {},
     "output_type": "display_data"
    },
    {
     "name": "stdout",
     "output_type": "stream",
     "text": [
      "Describing the variable Gender in Ireland related to Educational level\n"
     ]
    },
    {
     "data": {
      "text/html": [
       "<div>\n",
       "<style scoped>\n",
       "    .dataframe tbody tr th:only-of-type {\n",
       "        vertical-align: middle;\n",
       "    }\n",
       "\n",
       "    .dataframe tbody tr th {\n",
       "        vertical-align: top;\n",
       "    }\n",
       "\n",
       "    .dataframe thead th {\n",
       "        text-align: right;\n",
       "    }\n",
       "</style>\n",
       "<table border=\"1\" class=\"dataframe\">\n",
       "  <thead>\n",
       "    <tr style=\"text-align: right;\">\n",
       "      <th></th>\n",
       "      <th>count</th>\n",
       "      <th>mean</th>\n",
       "      <th>std</th>\n",
       "      <th>min</th>\n",
       "      <th>25%</th>\n",
       "      <th>50%</th>\n",
       "      <th>75%</th>\n",
       "      <th>max</th>\n",
       "    </tr>\n",
       "    <tr>\n",
       "      <th>Educational level</th>\n",
       "      <th></th>\n",
       "      <th></th>\n",
       "      <th></th>\n",
       "      <th></th>\n",
       "      <th></th>\n",
       "      <th></th>\n",
       "      <th></th>\n",
       "      <th></th>\n",
       "    </tr>\n",
       "  </thead>\n",
       "  <tbody>\n",
       "    <tr>\n",
       "      <th>University &lt;br&gt;graduate</th>\n",
       "      <td>2.0</td>\n",
       "      <td>1.0</td>\n",
       "      <td>0.0</td>\n",
       "      <td>1.0</td>\n",
       "      <td>1.0</td>\n",
       "      <td>1.0</td>\n",
       "      <td>1.0</td>\n",
       "      <td>1.0</td>\n",
       "    </tr>\n",
       "  </tbody>\n",
       "</table>\n",
       "</div>"
      ],
      "text/plain": [
       "                         count  mean  std  min  25%  50%  75%  max\n",
       "Educational level                                                 \n",
       "University <br>graduate    2.0   1.0  0.0  1.0  1.0  1.0  1.0  1.0"
      ]
     },
     "metadata": {},
     "output_type": "display_data"
    },
    {
     "name": "stdout",
     "output_type": "stream",
     "text": [
      "Count of each value in Gender related to each Educational level in Ireland expressed as Educational level | Gender | Amount\n"
     ]
    },
    {
     "data": {
      "text/plain": [
       "Educational level        Gender\n",
       "University <br>graduate  1         2\n",
       "Name: Gender, dtype: int64"
      ]
     },
     "metadata": {},
     "output_type": "display_data"
    },
    {
     "name": "stdout",
     "output_type": "stream",
     "text": [
      "Percentage of each value in Gender related to each Educational level in Ireland expressed as Educational level | Gender | Percentage\n"
     ]
    },
    {
     "data": {
      "text/plain": [
       "Educational level        Gender\n",
       "University <br>graduate  1         100.0\n",
       "Name: Gender, dtype: float64"
      ]
     },
     "metadata": {},
     "output_type": "display_data"
    },
    {
     "name": "stdout",
     "output_type": "stream",
     "text": [
      "Describing the variable Gender in Macedonia related to Educational level\n"
     ]
    },
    {
     "data": {
      "text/html": [
       "<div>\n",
       "<style scoped>\n",
       "    .dataframe tbody tr th:only-of-type {\n",
       "        vertical-align: middle;\n",
       "    }\n",
       "\n",
       "    .dataframe tbody tr th {\n",
       "        vertical-align: top;\n",
       "    }\n",
       "\n",
       "    .dataframe thead th {\n",
       "        text-align: right;\n",
       "    }\n",
       "</style>\n",
       "<table border=\"1\" class=\"dataframe\">\n",
       "  <thead>\n",
       "    <tr style=\"text-align: right;\">\n",
       "      <th></th>\n",
       "      <th>count</th>\n",
       "      <th>mean</th>\n",
       "      <th>std</th>\n",
       "      <th>min</th>\n",
       "      <th>25%</th>\n",
       "      <th>50%</th>\n",
       "      <th>75%</th>\n",
       "      <th>max</th>\n",
       "    </tr>\n",
       "    <tr>\n",
       "      <th>Educational level</th>\n",
       "      <th></th>\n",
       "      <th></th>\n",
       "      <th></th>\n",
       "      <th></th>\n",
       "      <th></th>\n",
       "      <th></th>\n",
       "      <th></th>\n",
       "      <th></th>\n",
       "    </tr>\n",
       "  </thead>\n",
       "  <tbody>\n",
       "    <tr>\n",
       "      <th>University &lt;br&gt;graduate</th>\n",
       "      <td>1.0</td>\n",
       "      <td>0.0</td>\n",
       "      <td>NaN</td>\n",
       "      <td>0.0</td>\n",
       "      <td>0.0</td>\n",
       "      <td>0.0</td>\n",
       "      <td>0.0</td>\n",
       "      <td>0.0</td>\n",
       "    </tr>\n",
       "  </tbody>\n",
       "</table>\n",
       "</div>"
      ],
      "text/plain": [
       "                         count  mean  std  min  25%  50%  75%  max\n",
       "Educational level                                                 \n",
       "University <br>graduate    1.0   0.0  NaN  0.0  0.0  0.0  0.0  0.0"
      ]
     },
     "metadata": {},
     "output_type": "display_data"
    },
    {
     "name": "stdout",
     "output_type": "stream",
     "text": [
      "Count of each value in Gender related to each Educational level in Macedonia expressed as Educational level | Gender | Amount\n"
     ]
    },
    {
     "data": {
      "text/plain": [
       "Educational level        Gender\n",
       "University <br>graduate  0         1\n",
       "Name: Gender, dtype: int64"
      ]
     },
     "metadata": {},
     "output_type": "display_data"
    },
    {
     "name": "stdout",
     "output_type": "stream",
     "text": [
      "Percentage of each value in Gender related to each Educational level in Macedonia expressed as Educational level | Gender | Percentage\n"
     ]
    },
    {
     "data": {
      "text/plain": [
       "Educational level        Gender\n",
       "University <br>graduate  0         100.0\n",
       "Name: Gender, dtype: float64"
      ]
     },
     "metadata": {},
     "output_type": "display_data"
    },
    {
     "name": "stdout",
     "output_type": "stream",
     "text": [
      "Describing the variable Gender in Indonesia related to Educational level\n"
     ]
    },
    {
     "data": {
      "text/html": [
       "<div>\n",
       "<style scoped>\n",
       "    .dataframe tbody tr th:only-of-type {\n",
       "        vertical-align: middle;\n",
       "    }\n",
       "\n",
       "    .dataframe tbody tr th {\n",
       "        vertical-align: top;\n",
       "    }\n",
       "\n",
       "    .dataframe thead th {\n",
       "        text-align: right;\n",
       "    }\n",
       "</style>\n",
       "<table border=\"1\" class=\"dataframe\">\n",
       "  <thead>\n",
       "    <tr style=\"text-align: right;\">\n",
       "      <th></th>\n",
       "      <th>count</th>\n",
       "      <th>mean</th>\n",
       "      <th>std</th>\n",
       "      <th>min</th>\n",
       "      <th>25%</th>\n",
       "      <th>50%</th>\n",
       "      <th>75%</th>\n",
       "      <th>max</th>\n",
       "    </tr>\n",
       "    <tr>\n",
       "      <th>Educational level</th>\n",
       "      <th></th>\n",
       "      <th></th>\n",
       "      <th></th>\n",
       "      <th></th>\n",
       "      <th></th>\n",
       "      <th></th>\n",
       "      <th></th>\n",
       "      <th></th>\n",
       "    </tr>\n",
       "  </thead>\n",
       "  <tbody>\n",
       "    <tr>\n",
       "      <th>University &lt;br&gt;graduate</th>\n",
       "      <td>1.0</td>\n",
       "      <td>0.0</td>\n",
       "      <td>NaN</td>\n",
       "      <td>0.0</td>\n",
       "      <td>0.0</td>\n",
       "      <td>0.0</td>\n",
       "      <td>0.0</td>\n",
       "      <td>0.0</td>\n",
       "    </tr>\n",
       "  </tbody>\n",
       "</table>\n",
       "</div>"
      ],
      "text/plain": [
       "                         count  mean  std  min  25%  50%  75%  max\n",
       "Educational level                                                 \n",
       "University <br>graduate    1.0   0.0  NaN  0.0  0.0  0.0  0.0  0.0"
      ]
     },
     "metadata": {},
     "output_type": "display_data"
    },
    {
     "name": "stdout",
     "output_type": "stream",
     "text": [
      "Count of each value in Gender related to each Educational level in Indonesia expressed as Educational level | Gender | Amount\n"
     ]
    },
    {
     "data": {
      "text/plain": [
       "Educational level        Gender\n",
       "University <br>graduate  0         1\n",
       "Name: Gender, dtype: int64"
      ]
     },
     "metadata": {},
     "output_type": "display_data"
    },
    {
     "name": "stdout",
     "output_type": "stream",
     "text": [
      "Percentage of each value in Gender related to each Educational level in Indonesia expressed as Educational level | Gender | Percentage\n"
     ]
    },
    {
     "data": {
      "text/plain": [
       "Educational level        Gender\n",
       "University <br>graduate  0         100.0\n",
       "Name: Gender, dtype: float64"
      ]
     },
     "metadata": {},
     "output_type": "display_data"
    },
    {
     "name": "stdout",
     "output_type": "stream",
     "text": [
      "Describing the variable Gender in Cuba related to Educational level\n"
     ]
    },
    {
     "data": {
      "text/html": [
       "<div>\n",
       "<style scoped>\n",
       "    .dataframe tbody tr th:only-of-type {\n",
       "        vertical-align: middle;\n",
       "    }\n",
       "\n",
       "    .dataframe tbody tr th {\n",
       "        vertical-align: top;\n",
       "    }\n",
       "\n",
       "    .dataframe thead th {\n",
       "        text-align: right;\n",
       "    }\n",
       "</style>\n",
       "<table border=\"1\" class=\"dataframe\">\n",
       "  <thead>\n",
       "    <tr style=\"text-align: right;\">\n",
       "      <th></th>\n",
       "      <th>count</th>\n",
       "      <th>mean</th>\n",
       "      <th>std</th>\n",
       "      <th>min</th>\n",
       "      <th>25%</th>\n",
       "      <th>50%</th>\n",
       "      <th>75%</th>\n",
       "      <th>max</th>\n",
       "    </tr>\n",
       "    <tr>\n",
       "      <th>Educational level</th>\n",
       "      <th></th>\n",
       "      <th></th>\n",
       "      <th></th>\n",
       "      <th></th>\n",
       "      <th></th>\n",
       "      <th></th>\n",
       "      <th></th>\n",
       "      <th></th>\n",
       "    </tr>\n",
       "  </thead>\n",
       "  <tbody>\n",
       "    <tr>\n",
       "      <th>University &lt;br&gt;graduate</th>\n",
       "      <td>1.0</td>\n",
       "      <td>1.0</td>\n",
       "      <td>NaN</td>\n",
       "      <td>1.0</td>\n",
       "      <td>1.0</td>\n",
       "      <td>1.0</td>\n",
       "      <td>1.0</td>\n",
       "      <td>1.0</td>\n",
       "    </tr>\n",
       "  </tbody>\n",
       "</table>\n",
       "</div>"
      ],
      "text/plain": [
       "                         count  mean  std  min  25%  50%  75%  max\n",
       "Educational level                                                 \n",
       "University <br>graduate    1.0   1.0  NaN  1.0  1.0  1.0  1.0  1.0"
      ]
     },
     "metadata": {},
     "output_type": "display_data"
    },
    {
     "name": "stdout",
     "output_type": "stream",
     "text": [
      "Count of each value in Gender related to each Educational level in Cuba expressed as Educational level | Gender | Amount\n"
     ]
    },
    {
     "data": {
      "text/plain": [
       "Educational level        Gender\n",
       "University <br>graduate  1         1\n",
       "Name: Gender, dtype: int64"
      ]
     },
     "metadata": {},
     "output_type": "display_data"
    },
    {
     "name": "stdout",
     "output_type": "stream",
     "text": [
      "Percentage of each value in Gender related to each Educational level in Cuba expressed as Educational level | Gender | Percentage\n"
     ]
    },
    {
     "data": {
      "text/plain": [
       "Educational level        Gender\n",
       "University <br>graduate  1         100.0\n",
       "Name: Gender, dtype: float64"
      ]
     },
     "metadata": {},
     "output_type": "display_data"
    },
    {
     "data": {
      "application/vnd.plotly.v1+json": {
       "config": {
        "linkText": "Export to plot.ly",
        "plotlyServerURL": "https://plot.ly",
        "showLink": false
       },
       "data": [
        {
         "marker": {
          "color": "rgb(102,194,165)",
          "opacity": [
           [
            0.8
           ],
           [
            0.8
           ],
           [
            0.8
           ],
           [
            0.8
           ],
           [
            0.8
           ],
           [
            0.8
           ],
           [
            0.8
           ],
           [
            0.8
           ],
           [
            0.8
           ],
           [
            0.8
           ],
           [
            0.8
           ],
           [
            0.8
           ],
           [
            0.8
           ],
           [
            0.8
           ],
           [
            0.8
           ],
           [
            0.8
           ],
           [
            0.8
           ],
           [
            0.8
           ],
           [
            0.8
           ],
           [
            0.8
           ],
           [
            0.8
           ],
           [
            0.8
           ],
           [
            0.8
           ],
           [
            0.8
           ],
           [
            0.8
           ],
           [
            0.8
           ],
           [
            0.8
           ],
           [
            0.8
           ],
           [
            0.8
           ],
           [
            0.8
           ],
           [
            0.8
           ],
           [
            0.8
           ],
           [
            0.8
           ],
           [
            0.8
           ],
           [
            0.8
           ],
           [
            0.8
           ],
           [
            0.8
           ],
           [
            0.8
           ],
           [
            0.8
           ],
           [
            0.8
           ],
           [
            0.8
           ],
           [
            0.8
           ],
           [
            0.8
           ],
           [
            0.8
           ],
           [
            0.8
           ],
           [
            0.8
           ],
           [
            0.8
           ],
           [
            0.8
           ],
           [
            0.8
           ],
           [
            0.8
           ],
           [
            0.8
           ],
           [
            0.8
           ],
           [
            0.8
           ],
           [
            0.8
           ],
           [
            0.8
           ],
           [
            0.8
           ],
           [
            0.8
           ],
           [
            0.8
           ],
           [
            0.8
           ],
           [
            0.8
           ],
           [
            0.8
           ],
           [
            0.8
           ],
           [
            0.8
           ],
           [
            0.8
           ],
           [
            0.8
           ],
           [
            0.8
           ],
           [
            0.8
           ],
           [
            0.8
           ],
           [
            0.8
           ],
           [
            0.8
           ],
           [
            0.8
           ],
           [
            0.8
           ],
           [
            0.8
           ],
           [
            0.8
           ],
           [
            0.8
           ],
           [
            0.8
           ],
           [
            0.8
           ],
           [
            0.8
           ],
           [
            0.8
           ],
           [
            0.8
           ],
           [
            0.8
           ],
           [
            0.8
           ],
           [
            0.8
           ],
           [
            0.8
           ],
           [
            0.8
           ],
           [
            0.8
           ],
           [
            0.8
           ],
           [
            0.8
           ],
           [
            0.8
           ],
           [
            0.8
           ],
           [
            0.8
           ],
           [
            0.8
           ],
           [
            0.8
           ],
           [
            0.8
           ],
           [
            0.8
           ],
           [
            0.8
           ],
           [
            0.8
           ],
           [
            0.8
           ],
           [
            0.8
           ],
           [
            0.8
           ],
           [
            0.8
           ],
           [
            0.8
           ],
           [
            0.8
           ],
           [
            0.8
           ],
           [
            0.8
           ],
           [
            0.8
           ],
           [
            0.8
           ],
           [
            0.8
           ],
           [
            0.8
           ],
           [
            0.8
           ],
           [
            0.8
           ],
           [
            0.8
           ],
           [
            0.8
           ],
           [
            0.8
           ],
           [
            0.8
           ],
           [
            0.8
           ],
           [
            0.8
           ],
           [
            0.8
           ],
           [
            0.8
           ],
           [
            0.8
           ],
           [
            0.8
           ],
           [
            0.8
           ],
           [
            0.8
           ],
           [
            0.8
           ],
           [
            0.8
           ],
           [
            0.8
           ],
           [
            0.8
           ],
           [
            0.8
           ],
           [
            0.8
           ],
           [
            0.8
           ],
           [
            0.8
           ],
           [
            0.8
           ],
           [
            0.8
           ],
           [
            0.8
           ],
           [
            0.8
           ],
           [
            0.8
           ],
           [
            0.8
           ],
           [
            0.8
           ],
           [
            0.8
           ],
           [
            0.8
           ],
           [
            0.8
           ],
           [
            0.8
           ],
           [
            0.8
           ],
           [
            0.8
           ],
           [
            0.8
           ],
           [
            0.8
           ],
           [
            0.8
           ],
           [
            0.8
           ],
           [
            0.8
           ],
           [
            0.8
           ],
           [
            0.8
           ],
           [
            0.8
           ],
           [
            0.8
           ],
           [
            0.8
           ],
           [
            0.8
           ],
           [
            0.8
           ],
           [
            0.8
           ],
           [
            0.8
           ],
           [
            0.8
           ],
           [
            0.8
           ],
           [
            0.8
           ],
           [
            0.8
           ],
           [
            0.8
           ],
           [
            0.8
           ],
           [
            0.8
           ],
           [
            0.8
           ],
           [
            0.8
           ],
           [
            0.8
           ],
           [
            0.8
           ],
           [
            0.8
           ],
           [
            0.8
           ],
           [
            0.8
           ],
           [
            0.8
           ],
           [
            0.8
           ],
           [
            0.8
           ],
           [
            0.8
           ],
           [
            0.8
           ],
           [
            0.8
           ],
           [
            0.8
           ],
           [
            0.8
           ],
           [
            0.8
           ],
           [
            0.8
           ],
           [
            0.8
           ],
           [
            0.8
           ],
           [
            0.8
           ],
           [
            0.8
           ],
           [
            0.8
           ],
           [
            0.8
           ],
           [
            0.8
           ],
           [
            0.8
           ],
           [
            0.8
           ],
           [
            0.8
           ],
           [
            0.8
           ],
           [
            0.8
           ],
           [
            0.8
           ],
           [
            0.8
           ],
           [
            0.8
           ],
           [
            0.8
           ],
           [
            0.8
           ],
           [
            0.8
           ],
           [
            0.8
           ],
           [
            0.8
           ],
           [
            0.8
           ],
           [
            0.8
           ],
           [
            0.8
           ],
           [
            0.8
           ],
           [
            0.8
           ],
           [
            0.8
           ],
           [
            0.8
           ],
           [
            0.8
           ],
           [
            0.8
           ],
           [
            0.8
           ],
           [
            0.8
           ],
           [
            0.8
           ],
           [
            0.8
           ],
           [
            0.8
           ],
           [
            0.8
           ],
           [
            0.8
           ],
           [
            0.8
           ],
           [
            0.8
           ],
           [
            0.8
           ],
           [
            0.8
           ],
           [
            0.8
           ],
           [
            0.8
           ],
           [
            0.8
           ],
           [
            0.8
           ],
           [
            0.8
           ],
           [
            0.8
           ],
           [
            0.8
           ],
           [
            0.8
           ],
           [
            0.8
           ],
           [
            0.8
           ],
           [
            0.8
           ],
           [
            0.8
           ],
           [
            0.8
           ],
           [
            0.8
           ],
           [
            0.8
           ],
           [
            0.8
           ],
           [
            0.8
           ],
           [
            0.8
           ],
           [
            0.8
           ],
           [
            0.8
           ],
           [
            0.8
           ],
           [
            0.8
           ],
           [
            0.8
           ],
           [
            0.8
           ],
           [
            0.8
           ],
           [
            0.8
           ],
           [
            0.8
           ],
           [
            0.8
           ],
           [
            0.8
           ],
           [
            0.8
           ],
           [
            0.8
           ],
           [
            0.8
           ],
           [
            0.8
           ],
           [
            0.8
           ],
           [
            0.8
           ],
           [
            0.8
           ],
           [
            0.8
           ],
           [
            0.8
           ],
           [
            0.8
           ],
           [
            0.8
           ],
           [
            0.8
           ],
           [
            0.8
           ],
           [
            0.8
           ],
           [
            0.8
           ],
           [
            0.8
           ],
           [
            0.8
           ],
           [
            0.8
           ],
           [
            0.8
           ],
           [
            0.8
           ],
           [
            0.8
           ],
           [
            0.8
           ],
           [
            0.8
           ],
           [
            0.8
           ],
           [
            0.8
           ],
           [
            0.8
           ],
           [
            0.8
           ],
           [
            0.8
           ],
           [
            0.8
           ],
           [
            0.8
           ],
           [
            0.8
           ],
           [
            0.8
           ],
           [
            0.8
           ],
           [
            0.8
           ],
           [
            0.8
           ],
           [
            0.8
           ],
           [
            0.8
           ],
           [
            0.8
           ],
           [
            0.8
           ],
           [
            0.8
           ],
           [
            0.8
           ],
           [
            0.8
           ],
           [
            0.8
           ],
           [
            0.8
           ],
           [
            0.8
           ],
           [
            0.8
           ],
           [
            0.8
           ],
           [
            0.8
           ],
           [
            0.8
           ],
           [
            0.8
           ],
           [
            0.8
           ],
           [
            0.8
           ],
           [
            0.8
           ],
           [
            0.8
           ],
           [
            0.8
           ],
           [
            0.8
           ],
           [
            0.8
           ],
           [
            0.8
           ],
           [
            0.8
           ],
           [
            0.8
           ],
           [
            0.8
           ],
           [
            0.8
           ],
           [
            0.8
           ],
           [
            0.8
           ],
           [
            0.8
           ],
           [
            0.8
           ],
           [
            0.8
           ],
           [
            0.8
           ],
           [
            0.8
           ],
           [
            0.8
           ],
           [
            0.8
           ],
           [
            0.8
           ],
           [
            0.8
           ],
           [
            0.8
           ],
           [
            0.8
           ],
           [
            0.8
           ],
           [
            0.8
           ],
           [
            0.8
           ],
           [
            0.8
           ],
           [
            0.8
           ],
           [
            0.8
           ],
           [
            0.8
           ],
           [
            0.8
           ],
           [
            0.8
           ],
           [
            0.8
           ],
           [
            0.8
           ],
           [
            0.8
           ],
           [
            0.8
           ],
           [
            0.8
           ],
           [
            0.8
           ],
           [
            0.8
           ],
           [
            0.8
           ],
           [
            0.8
           ],
           [
            0.8
           ],
           [
            0.8
           ],
           [
            0.8
           ],
           [
            0.8
           ],
           [
            0.8
           ],
           [
            0.8
           ],
           [
            0.8
           ],
           [
            0.8
           ],
           [
            0.8
           ],
           [
            0.8
           ],
           [
            0.8
           ],
           [
            0.8
           ],
           [
            0.8
           ],
           [
            0.8
           ],
           [
            0.8
           ],
           [
            0.8
           ],
           [
            0.8
           ],
           [
            0.8
           ],
           [
            0.8
           ],
           [
            0.8
           ],
           [
            0.8
           ],
           [
            0.8
           ],
           [
            0.8
           ],
           [
            0.8
           ],
           [
            0.8
           ],
           [
            0.8
           ],
           [
            0.8
           ],
           [
            0.8
           ],
           [
            0.8
           ],
           [
            0.8
           ],
           [
            0.8
           ],
           [
            0.8
           ],
           [
            0.8
           ],
           [
            0.8
           ],
           [
            0.8
           ],
           [
            0.8
           ],
           [
            0.8
           ],
           [
            0.8
           ],
           [
            0.8
           ],
           [
            0.8
           ],
           [
            0.8
           ],
           [
            0.8
           ],
           [
            0.8
           ],
           [
            0.8
           ],
           [
            0.8
           ],
           [
            0.8
           ],
           [
            0.8
           ],
           [
            0.8
           ],
           [
            0.8
           ],
           [
            0.8
           ],
           [
            0.8
           ],
           [
            0.8
           ],
           [
            0.8
           ],
           [
            0.8
           ],
           [
            0.8
           ],
           [
            0.8
           ],
           [
            0.8
           ],
           [
            0.8
           ],
           [
            0.8
           ],
           [
            0.8
           ],
           [
            0.8
           ],
           [
            0.8
           ],
           [
            0.8
           ],
           [
            0.8
           ],
           [
            0.8
           ],
           [
            0.8
           ],
           [
            0.8
           ],
           [
            0.8
           ],
           [
            0.8
           ],
           [
            0.8
           ],
           [
            0.8
           ],
           [
            0.8
           ],
           [
            0.8
           ],
           [
            0.8
           ],
           [
            0.8
           ],
           [
            0.8
           ],
           [
            0.8
           ],
           [
            0.8
           ],
           [
            0.8
           ],
           [
            0.8
           ],
           [
            0.8
           ],
           [
            0.8
           ],
           [
            0.8
           ],
           [
            0.8
           ],
           [
            0.8
           ],
           [
            0.8
           ],
           [
            0.8
           ],
           [
            0.8
           ],
           [
            0.8
           ],
           [
            0.8
           ],
           [
            0.8
           ],
           [
            0.8
           ],
           [
            0.8
           ],
           [
            0.8
           ],
           [
            0.8
           ],
           [
            0.8
           ],
           [
            0.8
           ],
           [
            0.8
           ],
           [
            0.8
           ],
           [
            0.8
           ],
           [
            0.8
           ],
           [
            0.8
           ],
           [
            0.8
           ],
           [
            0.8
           ],
           [
            0.8
           ],
           [
            0.8
           ],
           [
            0.8
           ],
           [
            0.8
           ],
           [
            0.8
           ],
           [
            0.8
           ],
           [
            0.8
           ],
           [
            0.8
           ],
           [
            0.8
           ],
           [
            0.8
           ],
           [
            0.8
           ],
           [
            0.8
           ],
           [
            0.8
           ],
           [
            0.8
           ],
           [
            0.8
           ],
           [
            0.8
           ],
           [
            0.8
           ],
           [
            0.8
           ],
           [
            0.8
           ],
           [
            0.8
           ],
           [
            0.8
           ],
           [
            0.8
           ],
           [
            0.8
           ],
           [
            0.8
           ],
           [
            0.8
           ],
           [
            0.8
           ],
           [
            0.8
           ],
           [
            0.8
           ],
           [
            0.8
           ],
           [
            0.8
           ],
           [
            0.8
           ],
           [
            0.8
           ],
           [
            0.8
           ],
           [
            0.8
           ],
           [
            0.8
           ],
           [
            0.8
           ],
           [
            0.8
           ],
           [
            0.8
           ],
           [
            0.8
           ],
           [
            0.8
           ],
           [
            0.8
           ],
           [
            0.8
           ],
           [
            0.8
           ],
           [
            0.8
           ],
           [
            0.8
           ],
           [
            0.8
           ],
           [
            0.8
           ],
           [
            0.8
           ],
           [
            0.8
           ],
           [
            0.8
           ],
           [
            0.8
           ],
           [
            0.8
           ],
           [
            0.8
           ],
           [
            0.8
           ],
           [
            0.8
           ],
           [
            0.8
           ],
           [
            0.8
           ],
           [
            0.8
           ],
           [
            0.8
           ],
           [
            0.8
           ],
           [
            0.8
           ],
           [
            0.8
           ],
           [
            0.8
           ],
           [
            0.8
           ],
           [
            0.8
           ],
           [
            0.8
           ],
           [
            0.8
           ],
           [
            0.8
           ],
           [
            0.8
           ],
           [
            0.8
           ],
           [
            0.8
           ],
           [
            0.8
           ],
           [
            0.8
           ],
           [
            0.8
           ],
           [
            0.8
           ],
           [
            0.8
           ],
           [
            0.8
           ],
           [
            0.8
           ],
           [
            0.8
           ],
           [
            0.8
           ],
           [
            0.8
           ],
           [
            0.8
           ],
           [
            0.8
           ],
           [
            0.8
           ],
           [
            0.8
           ],
           [
            0.8
           ],
           [
            0.8
           ],
           [
            0.8
           ],
           [
            0.8
           ],
           [
            0.8
           ],
           [
            0.8
           ],
           [
            0.8
           ],
           [
            0.8
           ],
           [
            0.8
           ],
           [
            0.8
           ],
           [
            0.8
           ],
           [
            0.8
           ],
           [
            0.8
           ],
           [
            0.8
           ],
           [
            0.8
           ],
           [
            0.8
           ],
           [
            0.8
           ],
           [
            0.8
           ],
           [
            0.8
           ],
           [
            0.8
           ],
           [
            0.8
           ],
           [
            0.8
           ],
           [
            0.8
           ],
           [
            0.8
           ],
           [
            0.8
           ],
           [
            0.8
           ],
           [
            0.8
           ],
           [
            0.8
           ],
           [
            0.8
           ],
           [
            0.8
           ],
           [
            0.8
           ],
           [
            0.8
           ],
           [
            0.8
           ],
           [
            0.8
           ],
           [
            0.8
           ],
           [
            0.8
           ],
           [
            0.8
           ],
           [
            0.8
           ],
           [
            0.8
           ],
           [
            0.8
           ],
           [
            0.8
           ],
           [
            0.8
           ],
           [
            0.8
           ],
           [
            0.8
           ],
           [
            0.8
           ],
           [
            0.8
           ],
           [
            0.8
           ],
           [
            0.8
           ],
           [
            0.8
           ],
           [
            0.8
           ],
           [
            0.8
           ],
           [
            0.8
           ],
           [
            0.8
           ],
           [
            0.8
           ],
           [
            0.8
           ],
           [
            0.8
           ],
           [
            0.8
           ],
           [
            0.8
           ],
           [
            0.8
           ],
           [
            0.8
           ],
           [
            0.8
           ],
           [
            0.8
           ],
           [
            0.8
           ],
           [
            0.8
           ],
           [
            0.8
           ],
           [
            0.8
           ],
           [
            0.8
           ],
           [
            0.8
           ],
           [
            0.8
           ],
           [
            0.8
           ],
           [
            0.8
           ],
           [
            0.8
           ],
           [
            0.8
           ],
           [
            0.8
           ],
           [
            0.8
           ],
           [
            0.8
           ],
           [
            0.8
           ],
           [
            0.8
           ],
           [
            0.8
           ],
           [
            0.8
           ],
           [
            0.8
           ],
           [
            0.8
           ],
           [
            0.8
           ],
           [
            0.8
           ],
           [
            0.8
           ],
           [
            0.8
           ],
           [
            0.8
           ],
           [
            0.8
           ],
           [
            0.8
           ],
           [
            0.8
           ],
           [
            0.8
           ],
           [
            0.8
           ],
           [
            0.8
           ],
           [
            0.8
           ],
           [
            0.8
           ],
           [
            0.8
           ],
           [
            0.8
           ],
           [
            0.8
           ],
           [
            0.8
           ],
           [
            0.8
           ],
           [
            0.8
           ],
           [
            0.8
           ],
           [
            0.8
           ],
           [
            0.8
           ],
           [
            0.8
           ],
           [
            0.8
           ],
           [
            0.8
           ],
           [
            0.8
           ],
           [
            0.8
           ],
           [
            0.8
           ],
           [
            0.8
           ],
           [
            0.8
           ],
           [
            0.8
           ],
           [
            0.8
           ],
           [
            0.8
           ],
           [
            0.8
           ],
           [
            0.8
           ],
           [
            0.8
           ],
           [
            0.8
           ],
           [
            0.8
           ],
           [
            0.8
           ],
           [
            0.8
           ],
           [
            0.8
           ],
           [
            0.8
           ],
           [
            0.8
           ],
           [
            0.8
           ],
           [
            0.8
           ],
           [
            0.8
           ],
           [
            0.8
           ],
           [
            0.8
           ],
           [
            0.8
           ],
           [
            0.8
           ],
           [
            0.8
           ],
           [
            0.8
           ],
           [
            0.8
           ],
           [
            0.8
           ],
           [
            0.8
           ],
           [
            0.8
           ],
           [
            0.8
           ],
           [
            0.8
           ],
           [
            0.8
           ],
           [
            0.8
           ],
           [
            0.8
           ],
           [
            0.8
           ],
           [
            0.8
           ],
           [
            0.8
           ],
           [
            0.8
           ],
           [
            0.8
           ],
           [
            0.8
           ],
           [
            0.8
           ],
           [
            0.8
           ],
           [
            0.8
           ],
           [
            0.8
           ],
           [
            0.8
           ],
           [
            0.8
           ],
           [
            0.8
           ],
           [
            0.8
           ],
           [
            0.8
           ],
           [
            0.8
           ],
           [
            0.8
           ],
           [
            0.8
           ],
           [
            0.8
           ],
           [
            0.8
           ],
           [
            0.8
           ],
           [
            0.8
           ],
           [
            0.8
           ],
           [
            0.8
           ],
           [
            0.8
           ],
           [
            0.8
           ],
           [
            0.8
           ],
           [
            0.8
           ],
           [
            0.8
           ],
           [
            0.8
           ],
           [
            0.8
           ],
           [
            0.8
           ],
           [
            0.8
           ],
           [
            0.8
           ],
           [
            0.8
           ],
           [
            0.8
           ],
           [
            0.8
           ],
           [
            0.8
           ],
           [
            0.8
           ],
           [
            0.8
           ],
           [
            0.8
           ],
           [
            0.8
           ],
           [
            0.8
           ],
           [
            0.8
           ],
           [
            0.8
           ],
           [
            0.8
           ],
           [
            0.8
           ],
           [
            0.8
           ],
           [
            0.8
           ],
           [
            0.8
           ],
           [
            0.8
           ],
           [
            0.8
           ],
           [
            0.8
           ],
           [
            0.8
           ],
           [
            0.8
           ],
           [
            0.8
           ],
           [
            0.8
           ],
           [
            0.8
           ],
           [
            0.8
           ],
           [
            0.8
           ],
           [
            0.8
           ],
           [
            0.8
           ],
           [
            0.8
           ],
           [
            0.8
           ],
           [
            0.8
           ],
           [
            0.8
           ],
           [
            0.8
           ],
           [
            0.8
           ],
           [
            0.8
           ],
           [
            0.8
           ],
           [
            0.8
           ],
           [
            0.8
           ],
           [
            0.8
           ],
           [
            0.8
           ],
           [
            0.8
           ],
           [
            0.8
           ],
           [
            0.8
           ],
           [
            0.8
           ],
           [
            0.8
           ],
           [
            0.8
           ],
           [
            0.8
           ],
           [
            0.8
           ],
           [
            0.8
           ],
           [
            0.8
           ],
           [
            0.8
           ],
           [
            0.8
           ],
           [
            0.8
           ],
           [
            0.8
           ],
           [
            0.8
           ],
           [
            0.8
           ],
           [
            0.8
           ]
          ]
         },
         "mode": "markers",
         "name": "Male",
         "type": "scatter",
         "uid": "a95c9699-ea21-484a-becb-55c2d827294f",
         "x": [
          0,
          0,
          0,
          3,
          0,
          0,
          0,
          0,
          0,
          0,
          0,
          0,
          0,
          0,
          0,
          0,
          0,
          0,
          0,
          0,
          0,
          0,
          0,
          0,
          0,
          0,
          6,
          0,
          0,
          0,
          0,
          0,
          0,
          0,
          0,
          0,
          0,
          0,
          0,
          0,
          0,
          0,
          0,
          0,
          0,
          0,
          0,
          6,
          0,
          0,
          0,
          0,
          0,
          0,
          0,
          0,
          0,
          0,
          0,
          0,
          0,
          8,
          0,
          0,
          10,
          6,
          0,
          0,
          0,
          0,
          0,
          0,
          0,
          0,
          0,
          0,
          0,
          8,
          8,
          0,
          0,
          0,
          0,
          0,
          0,
          0,
          0,
          0,
          0,
          0,
          0,
          9,
          0,
          0,
          0,
          0,
          0,
          14,
          0,
          0,
          14,
          16,
          15,
          17,
          15,
          33,
          15,
          15,
          15,
          14,
          14,
          14,
          15,
          14,
          14,
          15,
          14,
          14,
          14,
          14,
          14,
          14,
          15,
          14,
          14,
          14,
          14,
          14,
          14,
          14,
          14,
          15,
          15,
          14,
          33,
          14,
          17,
          7,
          14,
          14,
          14,
          14,
          14,
          15,
          15,
          33,
          15,
          18,
          15,
          13,
          14,
          14,
          15,
          14,
          14,
          15,
          14,
          8,
          14,
          15,
          17,
          15,
          14,
          14,
          15,
          0,
          14,
          14,
          14,
          15,
          23,
          2,
          15,
          14,
          33,
          14,
          14,
          15,
          14,
          14,
          33,
          14,
          14,
          13,
          14,
          14,
          14,
          7,
          14,
          14,
          15,
          14,
          14,
          14,
          14,
          15,
          15,
          17,
          15,
          15,
          26,
          15,
          14,
          15,
          14,
          14,
          14,
          27,
          14,
          14,
          7,
          14,
          15,
          15,
          14,
          14,
          15,
          14,
          15,
          15,
          14,
          15,
          14,
          7,
          14,
          14,
          14,
          14,
          15,
          14,
          6,
          15,
          17,
          14,
          14,
          14,
          14,
          18,
          14,
          17,
          14,
          14,
          15,
          15,
          14,
          14,
          14,
          14,
          14,
          14,
          11,
          15,
          14,
          14,
          14,
          15,
          29,
          14,
          14,
          15,
          14,
          14,
          15,
          15,
          15,
          18,
          15,
          15,
          14,
          14,
          14,
          15,
          15,
          14,
          14,
          15,
          14,
          14,
          14,
          14,
          17,
          14,
          18,
          17,
          15,
          14,
          15,
          14,
          15,
          14,
          14,
          14,
          14,
          32,
          14,
          18,
          14,
          15,
          14,
          18,
          15,
          15,
          14,
          14,
          14,
          14,
          22,
          14,
          14,
          14,
          7,
          14,
          14,
          14,
          14,
          14,
          14,
          14,
          14,
          14,
          6,
          14,
          14,
          15,
          15,
          14,
          14,
          21,
          14,
          21,
          14,
          14,
          14,
          14,
          15,
          14,
          15,
          14,
          15,
          14,
          15,
          15,
          15,
          15,
          15,
          14,
          14,
          15,
          15,
          15,
          14,
          15,
          14,
          14,
          14,
          14,
          14,
          14
         ],
         "y": [
          "University <br>graduate",
          "University <br>graduate",
          "University <br>graduate",
          "University <br>graduate",
          "University <br>without <br>graduating",
          "University <br>without <br>graduating",
          "University <br>graduate",
          "University <br>graduate",
          "University <br>graduate",
          "University <br>without <br>graduating",
          "University <br>graduate",
          "University <br>graduate",
          "University <br>graduate",
          "Unfinished <br>Compulsory<br>Secondary <br>Education",
          "University <br>graduate",
          "University <br>without <br>graduating",
          "University <br>without <br>graduating",
          "Vocational <br>Training",
          "University <br>without <br>graduating",
          "University <br>without <br>graduating",
          "University <br>graduate",
          "Unfinished <br>Compulsory<br>Secondary <br>Education",
          "Unfinished <br>Compulsory<br>Secondary <br>Education",
          "Unfinished <br>Compulsory<br>Secondary <br>Education",
          "Unfinished <br>Compulsory<br>Secondary <br>Education",
          "Unfinished <br>Compulsory<br>Secondary <br>Education",
          "University <br>graduate",
          "Unfinished <br>Compulsory<br>Secondary <br>Education",
          "University <br>without <br>graduating",
          "University <br>graduate",
          "University <br>graduate",
          "University <br>graduate",
          "University <br>graduate",
          "University <br>without <br>graduating",
          "University <br>graduate",
          "University <br>without <br>graduating",
          "Unfinished <br>Compulsory<br>Secondary <br>Education",
          "Unfinished <br>Compulsory<br>Secondary <br>Education",
          "Unfinished <br>Compulsory<br>Secondary <br>Education",
          "Unfinished <br>Compulsory<br>Secondary <br>Education",
          "Unfinished <br>Compulsory<br>Secondary <br>Education",
          "Unfinished <br>Compulsory<br>Secondary <br>Education",
          "Unfinished <br>Compulsory<br>Secondary <br>Education",
          "Unfinished <br>Compulsory<br>Secondary <br>Education",
          "Unfinished <br>Compulsory<br>Secondary <br>Education",
          "University <br>graduate",
          "University <br>graduate",
          "University <br>without <br>graduating",
          "Unfinished <br>Compulsory<br>Secondary <br>Education",
          "Unfinished <br>Compulsory<br>Secondary <br>Education",
          "Unfinished <br>Compulsory<br>Secondary <br>Education",
          "Unfinished <br>Compulsory<br>Secondary <br>Education",
          "Unfinished <br>Compulsory<br>Secondary <br>Education",
          "Unfinished <br>Compulsory<br>Secondary <br>Education",
          "University <br>without <br>graduating",
          "University <br>without <br>graduating",
          "University <br>graduate",
          "University <br>graduate",
          "University <br>without <br>graduating",
          "University <br>without <br>graduating",
          "University <br>without <br>graduating",
          "Unfinished <br>Compulsory<br>Secondary <br>Education",
          "University <br>graduate",
          "University <br>graduate",
          "University <br>graduate",
          "University <br>graduate",
          "Vocational <br>Training",
          "University <br>graduate",
          "University <br>without <br>graduating",
          "University <br>graduate",
          "University <br>graduate",
          "University <br>graduate",
          "University <br>graduate",
          "University <br>without <br>graduating",
          "University <br>without <br>graduating",
          "University <br>without <br>graduating",
          "Unfinished <br>Compulsory<br>Secondary <br>Education",
          "Unfinished <br>Compulsory<br>Secondary <br>Education",
          "Unfinished <br>Compulsory<br>Secondary <br>Education",
          "Unfinished <br>Compulsory<br>Secondary <br>Education",
          "Unfinished <br>Compulsory<br>Secondary <br>Education",
          "University <br>without <br>graduating",
          "University <br>graduate",
          "Vocational <br>Training",
          "University <br>without <br>graduating",
          "Unfinished <br>Compulsory<br>Secondary <br>Education",
          "Unfinished <br>Compulsory<br>Secondary <br>Education",
          "Unfinished <br>Compulsory<br>Secondary <br>Education",
          "Unfinished <br>Compulsory<br>Secondary <br>Education",
          "Unfinished <br>Compulsory<br>Secondary <br>Education",
          "Unfinished <br>Compulsory<br>Secondary <br>Education",
          "Unfinished <br>Compulsory<br>Secondary <br>Education",
          "Unfinished <br>Compulsory<br>Secondary <br>Education",
          "Unfinished <br>Compulsory<br>Secondary <br>Education",
          "Unfinished <br>Compulsory<br>Secondary <br>Education",
          "University <br>without <br>graduating",
          "University <br>without <br>graduating",
          "Vocational <br>Training",
          "University <br>without <br>graduating",
          "University <br>without <br>graduating",
          "University <br>graduate",
          "University <br>without <br>graduating",
          "University <br>graduate",
          "University <br>graduate",
          "University <br>graduate",
          "University <br>graduate",
          "University <br>graduate",
          "University <br>graduate",
          "University <br>without <br>graduating",
          "University <br>without <br>graduating",
          "University <br>graduate",
          "University <br>graduate",
          "University <br>graduate",
          "University <br>graduate",
          "University <br>graduate",
          "University <br>graduate",
          "University <br>without <br>graduating",
          "University <br>graduate",
          "University <br>graduate",
          "University <br>graduate",
          "University <br>graduate",
          "University <br>graduate",
          "Vocational <br>Training",
          "University <br>without <br>graduating",
          "University <br>without <br>graduating",
          "University <br>graduate",
          "University <br>graduate",
          "University <br>without <br>graduating",
          "Completed <br>Compulsory<br>Secondary <br>Education",
          "University <br>graduate",
          "University <br>graduate",
          "University <br>graduate",
          "Completed <br>Compulsory<br>Secondary <br>Education",
          "Vocational <br>Training",
          "University <br>without <br>graduating",
          "University <br>graduate",
          "University <br>graduate",
          "University <br>graduate",
          "University <br>graduate",
          "University <br>graduate",
          "University <br>graduate",
          "University <br>graduate",
          "Vocational <br>Training",
          "University <br>graduate",
          "Completed <br>Compulsory<br>Secondary <br>Education",
          "Primary <br>education",
          "University <br>graduate",
          "University <br>graduate",
          "University <br>graduate",
          "University <br>graduate",
          "University <br>without <br>graduating",
          "University <br>graduate",
          "University <br>without <br>graduating",
          "University <br>graduate",
          "University <br>without <br>graduating",
          "University <br>graduate",
          "Vocational <br>Training",
          "University <br>graduate",
          "University <br>without <br>graduating",
          "Completed <br>Compulsory<br>Secondary <br>Education",
          "University <br>without <br>graduating",
          "University <br>graduate",
          "University <br>graduate",
          "University <br>graduate",
          "Completed <br>Compulsory<br>Secondary <br>Education",
          "University <br>without <br>graduating",
          "University <br>without <br>graduating",
          "University <br>graduate",
          "University <br>graduate",
          "University <br>graduate",
          "University <br>graduate",
          "University <br>without <br>graduating",
          "Completed <br>Compulsory<br>Secondary <br>Education",
          "Completed <br>Compulsory<br>Secondary <br>Education",
          "University <br>without <br>graduating",
          "University <br>graduate",
          "University <br>graduate",
          "University <br>graduate",
          "University <br>graduate",
          "University <br>graduate",
          "Primary <br>education",
          "University <br>graduate",
          "University <br>graduate",
          "University <br>without <br>graduating",
          "Completed <br>Compulsory<br>Secondary <br>Education",
          "University <br>graduate",
          "University <br>graduate",
          "University <br>graduate",
          "University <br>graduate",
          "University <br>graduate",
          "University <br>graduate",
          "University <br>graduate",
          "University <br>without <br>graduating",
          "University <br>graduate",
          "University <br>graduate",
          "University <br>graduate",
          "University <br>graduate",
          "University <br>without <br>graduating",
          "University <br>graduate",
          "University <br>graduate",
          "University <br>graduate",
          "University <br>graduate",
          "University <br>graduate",
          "University <br>graduate",
          "University <br>graduate",
          "University <br>without <br>graduating",
          "University <br>graduate",
          "University <br>without <br>graduating",
          "University <br>graduate",
          "University <br>graduate",
          "University <br>graduate",
          "University <br>graduate",
          "University <br>graduate",
          "University <br>graduate",
          "University <br>graduate",
          "Vocational <br>Training",
          "University <br>graduate",
          "University <br>without <br>graduating",
          "University <br>graduate",
          "University <br>graduate",
          "University <br>graduate",
          "University <br>graduate",
          "University <br>graduate",
          "Vocational <br>Training",
          "University <br>without <br>graduating",
          "University <br>graduate",
          "University <br>graduate",
          "Completed <br>Compulsory<br>Secondary <br>Education",
          "University <br>without <br>graduating",
          "University <br>graduate",
          "University <br>graduate",
          "University <br>graduate",
          "University <br>graduate",
          "Vocational <br>Training",
          "University <br>graduate",
          "University <br>graduate",
          "University <br>without <br>graduating",
          "University <br>without <br>graduating",
          "University <br>graduate",
          "University <br>graduate",
          "University <br>graduate",
          "Vocational <br>Training",
          "University <br>graduate",
          "University <br>graduate",
          "University <br>without <br>graduating",
          "University <br>graduate",
          "University <br>graduate",
          "University <br>graduate",
          "Unfinished <br>Compulsory<br>Secondary <br>Education",
          "University <br>graduate",
          "University <br>without <br>graduating",
          "University <br>graduate",
          "University <br>without <br>graduating",
          "University <br>graduate",
          "University <br>graduate",
          "University <br>graduate",
          "University <br>graduate",
          "University <br>without <br>graduating",
          "University <br>graduate",
          "University <br>graduate",
          "University <br>graduate",
          "University <br>graduate",
          "University <br>graduate",
          "University <br>graduate",
          "University <br>graduate",
          "University <br>graduate",
          "University <br>graduate",
          "University <br>graduate",
          "Vocational <br>Training",
          "Vocational <br>Training",
          "University <br>graduate",
          "University <br>graduate",
          "University <br>graduate",
          "Vocational <br>Training",
          "University <br>graduate",
          "University <br>graduate",
          "University <br>graduate",
          "University <br>graduate",
          "Completed <br>Compulsory<br>Secondary <br>Education",
          "University <br>graduate",
          "University <br>graduate",
          "Completed <br>Compulsory<br>Secondary <br>Education",
          "University <br>graduate",
          "Completed <br>Compulsory<br>Secondary <br>Education",
          "University <br>graduate",
          "University <br>graduate",
          "University <br>graduate",
          "University <br>graduate",
          "Completed <br>Compulsory<br>Secondary <br>Education",
          "University <br>graduate",
          "University <br>graduate",
          "Primary <br>education",
          "University <br>graduate",
          "University <br>graduate",
          "University <br>graduate",
          "University <br>graduate",
          "Completed <br>Compulsory<br>Secondary <br>Education",
          "University <br>graduate",
          "University <br>graduate",
          "University <br>without <br>graduating",
          "University <br>graduate",
          "University <br>graduate",
          "University <br>graduate",
          "Vocational <br>Training",
          "University <br>graduate",
          "University <br>graduate",
          "University <br>graduate",
          "University <br>graduate",
          "University <br>graduate",
          "Unfinished <br>Compulsory<br>Secondary <br>Education",
          "University <br>graduate",
          "University <br>without <br>graduating",
          "University <br>graduate",
          "University <br>graduate",
          "University <br>graduate",
          "University <br>without <br>graduating",
          "Completed <br>Compulsory<br>Secondary <br>Education",
          "University <br>graduate",
          "Vocational <br>Training",
          "University <br>without <br>graduating",
          "Vocational <br>Training",
          "University <br>graduate",
          "University <br>graduate",
          "University <br>graduate",
          "Completed <br>Compulsory<br>Secondary <br>Education",
          "University <br>graduate",
          "University <br>graduate",
          "University <br>without <br>graduating",
          "University <br>graduate",
          "University <br>graduate",
          "University <br>without <br>graduating",
          "University <br>without <br>graduating",
          "University <br>graduate",
          "University <br>graduate",
          "University <br>without <br>graduating",
          "University <br>graduate",
          "University <br>graduate",
          "University <br>graduate",
          "University <br>graduate",
          "University <br>without <br>graduating",
          "University <br>graduate",
          "University <br>graduate",
          "University <br>graduate",
          "University <br>graduate",
          "University <br>without <br>graduating",
          "University <br>without <br>graduating",
          "Completed <br>Compulsory<br>Secondary <br>Education",
          "University <br>graduate",
          "University <br>graduate",
          "University <br>graduate",
          "Unfinished <br>Compulsory<br>Secondary <br>Education",
          "University <br>graduate",
          "University <br>without <br>graduating",
          "University <br>graduate",
          "University <br>graduate",
          "University <br>graduate",
          "University <br>graduate",
          "University <br>graduate"
         ]
        },
        {
         "marker": {
          "color": "rgb(254,224,139)",
          "opacity": [
           [
            0.8
           ],
           [
            0.8
           ],
           [
            0.8
           ],
           [
            0.8
           ],
           [
            0.8
           ],
           [
            0.8
           ],
           [
            0.8
           ],
           [
            0.8
           ],
           [
            0.8
           ],
           [
            0.8
           ],
           [
            0.8
           ],
           [
            0.8
           ],
           [
            0.8
           ],
           [
            0.8
           ],
           [
            0.8
           ],
           [
            0.8
           ],
           [
            0.8
           ],
           [
            0.8
           ],
           [
            0.8
           ],
           [
            0.8
           ],
           [
            0.8
           ],
           [
            0.8
           ],
           [
            0.8
           ],
           [
            0.8
           ],
           [
            0.8
           ],
           [
            0.8
           ],
           [
            0.8
           ],
           [
            0.8
           ],
           [
            0.8
           ],
           [
            0.8
           ],
           [
            0.8
           ],
           [
            0.8
           ],
           [
            0.8
           ],
           [
            0.8
           ],
           [
            0.8
           ],
           [
            0.8
           ],
           [
            0.8
           ],
           [
            0.8
           ],
           [
            0.8
           ],
           [
            0.8
           ],
           [
            0.8
           ],
           [
            0.8
           ],
           [
            0.8
           ],
           [
            0.8
           ],
           [
            0.8
           ],
           [
            0.8
           ],
           [
            0.8
           ],
           [
            0.8
           ],
           [
            0.8
           ],
           [
            0.8
           ],
           [
            0.8
           ],
           [
            0.8
           ],
           [
            0.8
           ],
           [
            0.8
           ],
           [
            0.8
           ],
           [
            0.8
           ],
           [
            0.8
           ],
           [
            0.8
           ],
           [
            0.8
           ],
           [
            0.8
           ],
           [
            0.8
           ],
           [
            0.8
           ],
           [
            0.8
           ],
           [
            0.8
           ],
           [
            0.8
           ],
           [
            0.8
           ],
           [
            0.8
           ],
           [
            0.8
           ],
           [
            0.8
           ],
           [
            0.8
           ],
           [
            0.8
           ],
           [
            0.8
           ],
           [
            0.8
           ],
           [
            0.8
           ],
           [
            0.8
           ],
           [
            0.8
           ],
           [
            0.8
           ],
           [
            0.8
           ],
           [
            0.8
           ],
           [
            0.8
           ],
           [
            0.8
           ],
           [
            0.8
           ],
           [
            0.8
           ],
           [
            0.8
           ],
           [
            0.8
           ],
           [
            0.8
           ],
           [
            0.8
           ],
           [
            0.8
           ],
           [
            0.8
           ],
           [
            0.8
           ],
           [
            0.8
           ],
           [
            0.8
           ],
           [
            0.8
           ],
           [
            0.8
           ],
           [
            0.8
           ],
           [
            0.8
           ],
           [
            0.8
           ],
           [
            0.8
           ],
           [
            0.8
           ],
           [
            0.8
           ],
           [
            0.8
           ],
           [
            0.8
           ],
           [
            0.8
           ],
           [
            0.8
           ],
           [
            0.8
           ],
           [
            0.8
           ],
           [
            0.8
           ],
           [
            0.8
           ],
           [
            0.8
           ],
           [
            0.8
           ],
           [
            0.8
           ],
           [
            0.8
           ],
           [
            0.8
           ],
           [
            0.8
           ],
           [
            0.8
           ],
           [
            0.8
           ],
           [
            0.8
           ],
           [
            0.8
           ],
           [
            0.8
           ],
           [
            0.8
           ],
           [
            0.8
           ],
           [
            0.8
           ],
           [
            0.8
           ],
           [
            0.8
           ],
           [
            0.8
           ],
           [
            0.8
           ],
           [
            0.8
           ],
           [
            0.8
           ],
           [
            0.8
           ],
           [
            0.8
           ],
           [
            0.8
           ],
           [
            0.8
           ],
           [
            0.8
           ],
           [
            0.8
           ],
           [
            0.8
           ],
           [
            0.8
           ],
           [
            0.8
           ],
           [
            0.8
           ],
           [
            0.8
           ],
           [
            0.8
           ],
           [
            0.8
           ],
           [
            0.8
           ],
           [
            0.8
           ],
           [
            0.8
           ],
           [
            0.8
           ],
           [
            0.8
           ],
           [
            0.8
           ],
           [
            0.8
           ],
           [
            0.8
           ],
           [
            0.8
           ],
           [
            0.8
           ],
           [
            0.8
           ],
           [
            0.8
           ],
           [
            0.8
           ],
           [
            0.8
           ],
           [
            0.8
           ],
           [
            0.8
           ],
           [
            0.8
           ],
           [
            0.8
           ],
           [
            0.8
           ],
           [
            0.8
           ],
           [
            0.8
           ],
           [
            0.8
           ],
           [
            0.8
           ],
           [
            0.8
           ],
           [
            0.8
           ],
           [
            0.8
           ],
           [
            0.8
           ],
           [
            0.8
           ],
           [
            0.8
           ],
           [
            0.8
           ],
           [
            0.8
           ],
           [
            0.8
           ],
           [
            0.8
           ],
           [
            0.8
           ],
           [
            0.8
           ],
           [
            0.8
           ],
           [
            0.8
           ],
           [
            0.8
           ],
           [
            0.8
           ],
           [
            0.8
           ],
           [
            0.8
           ],
           [
            0.8
           ],
           [
            0.8
           ],
           [
            0.8
           ],
           [
            0.8
           ],
           [
            0.8
           ],
           [
            0.8
           ],
           [
            0.8
           ],
           [
            0.8
           ],
           [
            0.8
           ],
           [
            0.8
           ],
           [
            0.8
           ],
           [
            0.8
           ],
           [
            0.8
           ],
           [
            0.8
           ],
           [
            0.8
           ],
           [
            0.8
           ],
           [
            0.8
           ],
           [
            0.8
           ],
           [
            0.8
           ],
           [
            0.8
           ],
           [
            0.8
           ],
           [
            0.8
           ],
           [
            0.8
           ],
           [
            0.8
           ],
           [
            0.8
           ],
           [
            0.8
           ],
           [
            0.8
           ],
           [
            0.8
           ],
           [
            0.8
           ],
           [
            0.8
           ],
           [
            0.8
           ],
           [
            0.8
           ],
           [
            0.8
           ],
           [
            0.8
           ],
           [
            0.8
           ],
           [
            0.8
           ],
           [
            0.8
           ],
           [
            0.8
           ],
           [
            0.8
           ],
           [
            0.8
           ],
           [
            0.8
           ],
           [
            0.8
           ],
           [
            0.8
           ],
           [
            0.8
           ],
           [
            0.8
           ],
           [
            0.8
           ],
           [
            0.8
           ],
           [
            0.8
           ],
           [
            0.8
           ],
           [
            0.8
           ],
           [
            0.8
           ],
           [
            0.8
           ],
           [
            0.8
           ],
           [
            0.8
           ],
           [
            0.8
           ],
           [
            0.8
           ],
           [
            0.8
           ],
           [
            0.8
           ],
           [
            0.8
           ],
           [
            0.8
           ],
           [
            0.8
           ],
           [
            0.8
           ],
           [
            0.8
           ],
           [
            0.8
           ],
           [
            0.8
           ],
           [
            0.8
           ],
           [
            0.8
           ],
           [
            0.8
           ],
           [
            0.8
           ],
           [
            0.8
           ],
           [
            0.8
           ],
           [
            0.8
           ],
           [
            0.8
           ],
           [
            0.8
           ],
           [
            0.8
           ],
           [
            0.8
           ],
           [
            0.8
           ],
           [
            0.8
           ],
           [
            0.8
           ],
           [
            0.8
           ],
           [
            0.8
           ],
           [
            0.8
           ],
           [
            0.8
           ],
           [
            0.8
           ],
           [
            0.8
           ],
           [
            0.8
           ],
           [
            0.8
           ],
           [
            0.8
           ],
           [
            0.8
           ],
           [
            0.8
           ],
           [
            0.8
           ],
           [
            0.8
           ],
           [
            0.8
           ],
           [
            0.8
           ],
           [
            0.8
           ],
           [
            0.8
           ],
           [
            0.8
           ],
           [
            0.8
           ],
           [
            0.8
           ],
           [
            0.8
           ],
           [
            0.8
           ],
           [
            0.8
           ],
           [
            0.8
           ],
           [
            0.8
           ],
           [
            0.8
           ],
           [
            0.8
           ],
           [
            0.8
           ],
           [
            0.8
           ],
           [
            0.8
           ],
           [
            0.8
           ],
           [
            0.8
           ],
           [
            0.8
           ],
           [
            0.8
           ],
           [
            0.8
           ],
           [
            0.8
           ],
           [
            0.8
           ],
           [
            0.8
           ],
           [
            0.8
           ],
           [
            0.8
           ],
           [
            0.8
           ],
           [
            0.8
           ],
           [
            0.8
           ],
           [
            0.8
           ],
           [
            0.8
           ],
           [
            0.8
           ],
           [
            0.8
           ],
           [
            0.8
           ],
           [
            0.8
           ],
           [
            0.8
           ],
           [
            0.8
           ],
           [
            0.8
           ],
           [
            0.8
           ],
           [
            0.8
           ],
           [
            0.8
           ],
           [
            0.8
           ],
           [
            0.8
           ],
           [
            0.8
           ],
           [
            0.8
           ],
           [
            0.8
           ],
           [
            0.8
           ],
           [
            0.8
           ],
           [
            0.8
           ],
           [
            0.8
           ],
           [
            0.8
           ],
           [
            0.8
           ],
           [
            0.8
           ],
           [
            0.8
           ],
           [
            0.8
           ],
           [
            0.8
           ],
           [
            0.8
           ],
           [
            0.8
           ],
           [
            0.8
           ],
           [
            0.8
           ],
           [
            0.8
           ],
           [
            0.8
           ],
           [
            0.8
           ],
           [
            0.8
           ],
           [
            0.8
           ],
           [
            0.8
           ],
           [
            0.8
           ],
           [
            0.8
           ],
           [
            0.8
           ],
           [
            0.8
           ],
           [
            0.8
           ],
           [
            0.8
           ],
           [
            0.8
           ],
           [
            0.8
           ],
           [
            0.8
           ],
           [
            0.8
           ],
           [
            0.8
           ],
           [
            0.8
           ],
           [
            0.8
           ],
           [
            0.8
           ],
           [
            0.8
           ],
           [
            0.8
           ],
           [
            0.8
           ],
           [
            0.8
           ],
           [
            0.8
           ],
           [
            0.8
           ],
           [
            0.8
           ],
           [
            0.8
           ],
           [
            0.8
           ],
           [
            0.8
           ],
           [
            0.8
           ],
           [
            0.8
           ],
           [
            0.8
           ],
           [
            0.8
           ],
           [
            0.8
           ],
           [
            0.8
           ],
           [
            0.8
           ],
           [
            0.8
           ],
           [
            0.8
           ],
           [
            0.8
           ],
           [
            0.8
           ],
           [
            0.8
           ],
           [
            0.8
           ],
           [
            0.8
           ],
           [
            0.8
           ],
           [
            0.8
           ],
           [
            0.8
           ],
           [
            0.8
           ],
           [
            0.8
           ],
           [
            0.8
           ],
           [
            0.8
           ],
           [
            0.8
           ],
           [
            0.8
           ],
           [
            0.8
           ],
           [
            0.8
           ],
           [
            0.8
           ],
           [
            0.8
           ],
           [
            0.8
           ],
           [
            0.8
           ],
           [
            0.8
           ],
           [
            0.8
           ],
           [
            0.8
           ],
           [
            0.8
           ],
           [
            0.8
           ],
           [
            0.8
           ],
           [
            0.8
           ],
           [
            0.8
           ],
           [
            0.8
           ],
           [
            0.8
           ],
           [
            0.8
           ],
           [
            0.8
           ],
           [
            0.8
           ],
           [
            0.8
           ],
           [
            0.8
           ],
           [
            0.8
           ],
           [
            0.8
           ],
           [
            0.8
           ],
           [
            0.8
           ],
           [
            0.8
           ],
           [
            0.8
           ],
           [
            0.8
           ],
           [
            0.8
           ],
           [
            0.8
           ],
           [
            0.8
           ],
           [
            0.8
           ],
           [
            0.8
           ],
           [
            0.8
           ],
           [
            0.8
           ],
           [
            0.8
           ],
           [
            0.8
           ],
           [
            0.8
           ],
           [
            0.8
           ],
           [
            0.8
           ],
           [
            0.8
           ],
           [
            0.8
           ],
           [
            0.8
           ],
           [
            0.8
           ],
           [
            0.8
           ],
           [
            0.8
           ],
           [
            0.8
           ],
           [
            0.8
           ],
           [
            0.8
           ],
           [
            0.8
           ],
           [
            0.8
           ],
           [
            0.8
           ],
           [
            0.8
           ],
           [
            0.8
           ],
           [
            0.8
           ],
           [
            0.8
           ],
           [
            0.8
           ],
           [
            0.8
           ],
           [
            0.8
           ],
           [
            0.8
           ],
           [
            0.8
           ],
           [
            0.8
           ],
           [
            0.8
           ],
           [
            0.8
           ],
           [
            0.8
           ],
           [
            0.8
           ],
           [
            0.8
           ],
           [
            0.8
           ],
           [
            0.8
           ],
           [
            0.8
           ],
           [
            0.8
           ],
           [
            0.8
           ],
           [
            0.8
           ],
           [
            0.8
           ],
           [
            0.8
           ],
           [
            0.8
           ],
           [
            0.8
           ],
           [
            0.8
           ],
           [
            0.8
           ],
           [
            0.8
           ],
           [
            0.8
           ],
           [
            0.8
           ],
           [
            0.8
           ],
           [
            0.8
           ],
           [
            0.8
           ],
           [
            0.8
           ],
           [
            0.8
           ],
           [
            0.8
           ],
           [
            0.8
           ],
           [
            0.8
           ],
           [
            0.8
           ],
           [
            0.8
           ],
           [
            0.8
           ],
           [
            0.8
           ],
           [
            0.8
           ],
           [
            0.8
           ],
           [
            0.8
           ],
           [
            0.8
           ],
           [
            0.8
           ],
           [
            0.8
           ],
           [
            0.8
           ],
           [
            0.8
           ],
           [
            0.8
           ],
           [
            0.8
           ],
           [
            0.8
           ],
           [
            0.8
           ],
           [
            0.8
           ],
           [
            0.8
           ],
           [
            0.8
           ],
           [
            0.8
           ],
           [
            0.8
           ],
           [
            0.8
           ],
           [
            0.8
           ],
           [
            0.8
           ],
           [
            0.8
           ],
           [
            0.8
           ],
           [
            0.8
           ],
           [
            0.8
           ],
           [
            0.8
           ],
           [
            0.8
           ],
           [
            0.8
           ],
           [
            0.8
           ],
           [
            0.8
           ],
           [
            0.8
           ],
           [
            0.8
           ],
           [
            0.8
           ],
           [
            0.8
           ],
           [
            0.8
           ],
           [
            0.8
           ],
           [
            0.8
           ],
           [
            0.8
           ],
           [
            0.8
           ],
           [
            0.8
           ],
           [
            0.8
           ],
           [
            0.8
           ],
           [
            0.8
           ],
           [
            0.8
           ],
           [
            0.8
           ],
           [
            0.8
           ],
           [
            0.8
           ],
           [
            0.8
           ],
           [
            0.8
           ],
           [
            0.8
           ],
           [
            0.8
           ],
           [
            0.8
           ],
           [
            0.8
           ],
           [
            0.8
           ],
           [
            0.8
           ],
           [
            0.8
           ],
           [
            0.8
           ],
           [
            0.8
           ],
           [
            0.8
           ],
           [
            0.8
           ],
           [
            0.8
           ],
           [
            0.8
           ],
           [
            0.8
           ],
           [
            0.8
           ],
           [
            0.8
           ],
           [
            0.8
           ],
           [
            0.8
           ],
           [
            0.8
           ],
           [
            0.8
           ],
           [
            0.8
           ],
           [
            0.8
           ],
           [
            0.8
           ],
           [
            0.8
           ],
           [
            0.8
           ],
           [
            0.8
           ],
           [
            0.8
           ],
           [
            0.8
           ],
           [
            0.8
           ],
           [
            0.8
           ],
           [
            0.8
           ],
           [
            0.8
           ],
           [
            0.8
           ],
           [
            0.8
           ],
           [
            0.8
           ],
           [
            0.8
           ],
           [
            0.8
           ],
           [
            0.8
           ],
           [
            0.8
           ],
           [
            0.8
           ],
           [
            0.8
           ],
           [
            0.8
           ],
           [
            0.8
           ],
           [
            0.8
           ],
           [
            0.8
           ],
           [
            0.8
           ],
           [
            0.8
           ],
           [
            0.8
           ],
           [
            0.8
           ],
           [
            0.8
           ],
           [
            0.8
           ],
           [
            0.8
           ],
           [
            0.8
           ],
           [
            0.8
           ],
           [
            0.8
           ],
           [
            0.8
           ],
           [
            0.8
           ],
           [
            0.8
           ],
           [
            0.8
           ],
           [
            0.8
           ],
           [
            0.8
           ],
           [
            0.8
           ],
           [
            0.8
           ],
           [
            0.8
           ],
           [
            0.8
           ],
           [
            0.8
           ],
           [
            0.8
           ],
           [
            0.8
           ],
           [
            0.8
           ],
           [
            0.8
           ],
           [
            0.8
           ],
           [
            0.8
           ],
           [
            0.8
           ],
           [
            0.8
           ],
           [
            0.8
           ],
           [
            0.8
           ],
           [
            0.8
           ],
           [
            0.8
           ],
           [
            0.8
           ],
           [
            0.8
           ],
           [
            0.8
           ],
           [
            0.8
           ],
           [
            0.8
           ],
           [
            0.8
           ],
           [
            0.8
           ],
           [
            0.8
           ],
           [
            0.8
           ],
           [
            0.8
           ],
           [
            0.8
           ],
           [
            0.8
           ],
           [
            0.8
           ],
           [
            0.8
           ],
           [
            0.8
           ],
           [
            0.8
           ],
           [
            0.8
           ],
           [
            0.8
           ],
           [
            0.8
           ],
           [
            0.8
           ],
           [
            0.8
           ],
           [
            0.8
           ],
           [
            0.8
           ],
           [
            0.8
           ],
           [
            0.8
           ],
           [
            0.8
           ],
           [
            0.8
           ],
           [
            0.8
           ],
           [
            0.8
           ],
           [
            0.8
           ],
           [
            0.8
           ],
           [
            0.8
           ],
           [
            0.8
           ],
           [
            0.8
           ],
           [
            0.8
           ],
           [
            0.8
           ],
           [
            0.8
           ],
           [
            0.8
           ],
           [
            0.8
           ],
           [
            0.8
           ],
           [
            0.8
           ],
           [
            0.8
           ],
           [
            0.8
           ],
           [
            0.8
           ],
           [
            0.8
           ],
           [
            0.8
           ],
           [
            0.8
           ],
           [
            0.8
           ],
           [
            0.8
           ],
           [
            0.8
           ],
           [
            0.8
           ],
           [
            0.8
           ],
           [
            0.8
           ],
           [
            0.8
           ],
           [
            0.8
           ],
           [
            0.8
           ],
           [
            0.8
           ],
           [
            0.8
           ],
           [
            0.8
           ],
           [
            0.8
           ],
           [
            0.8
           ],
           [
            0.8
           ],
           [
            0.8
           ],
           [
            0.8
           ],
           [
            0.8
           ],
           [
            0.8
           ],
           [
            0.8
           ],
           [
            0.8
           ],
           [
            0.8
           ],
           [
            0.8
           ],
           [
            0.8
           ],
           [
            0.8
           ],
           [
            0.8
           ],
           [
            0.8
           ],
           [
            0.8
           ],
           [
            0.8
           ],
           [
            0.8
           ],
           [
            0.8
           ],
           [
            0.8
           ],
           [
            0.8
           ],
           [
            0.8
           ],
           [
            0.8
           ],
           [
            0.8
           ],
           [
            0.8
           ],
           [
            0.8
           ],
           [
            0.8
           ],
           [
            0.8
           ],
           [
            0.8
           ],
           [
            0.8
           ],
           [
            0.8
           ],
           [
            0.8
           ],
           [
            0.8
           ],
           [
            0.8
           ],
           [
            0.8
           ],
           [
            0.8
           ],
           [
            0.8
           ],
           [
            0.8
           ],
           [
            0.8
           ],
           [
            0.8
           ],
           [
            0.8
           ],
           [
            0.8
           ],
           [
            0.8
           ],
           [
            0.8
           ],
           [
            0.8
           ],
           [
            0.8
           ],
           [
            0.8
           ],
           [
            0.8
           ],
           [
            0.8
           ],
           [
            0.8
           ],
           [
            0.8
           ],
           [
            0.8
           ],
           [
            0.8
           ],
           [
            0.8
           ],
           [
            0.8
           ],
           [
            0.8
           ],
           [
            0.8
           ],
           [
            0.8
           ],
           [
            0.8
           ],
           [
            0.8
           ],
           [
            0.8
           ],
           [
            0.8
           ],
           [
            0.8
           ],
           [
            0.8
           ],
           [
            0.8
           ],
           [
            0.8
           ],
           [
            0.8
           ],
           [
            0.8
           ],
           [
            0.8
           ],
           [
            0.8
           ],
           [
            0.8
           ],
           [
            0.8
           ],
           [
            0.8
           ],
           [
            0.8
           ],
           [
            0.8
           ],
           [
            0.8
           ],
           [
            0.8
           ],
           [
            0.8
           ],
           [
            0.8
           ],
           [
            0.8
           ],
           [
            0.8
           ],
           [
            0.8
           ],
           [
            0.8
           ],
           [
            0.8
           ],
           [
            0.8
           ],
           [
            0.8
           ],
           [
            0.8
           ],
           [
            0.8
           ],
           [
            0.8
           ],
           [
            0.8
           ],
           [
            0.8
           ],
           [
            0.8
           ],
           [
            0.8
           ],
           [
            0.8
           ],
           [
            0.8
           ],
           [
            0.8
           ],
           [
            0.8
           ],
           [
            0.8
           ],
           [
            0.8
           ],
           [
            0.8
           ]
          ]
         },
         "mode": "markers",
         "name": "Female",
         "type": "scatter",
         "uid": "fb1014e5-3403-4d06-b1b0-e6cca8004653",
         "x": [
          0,
          0,
          0,
          1,
          3,
          0,
          0,
          0,
          0,
          0,
          0,
          0,
          0,
          4,
          5,
          0,
          0,
          0,
          0,
          0,
          0,
          0,
          0,
          0,
          0,
          0,
          0,
          0,
          0,
          0,
          0,
          0,
          0,
          0,
          0,
          0,
          0,
          0,
          6,
          6,
          6,
          0,
          0,
          0,
          0,
          0,
          6,
          0,
          0,
          0,
          0,
          0,
          0,
          0,
          0,
          0,
          0,
          0,
          0,
          0,
          0,
          0,
          0,
          0,
          0,
          0,
          0,
          0,
          0,
          6,
          0,
          0,
          0,
          0,
          0,
          0,
          0,
          0,
          0,
          0,
          0,
          0,
          0,
          0,
          0,
          6,
          0,
          0,
          6,
          0,
          6,
          6,
          6,
          6,
          6,
          6,
          0,
          0,
          0,
          0,
          0,
          0,
          0,
          0,
          0,
          0,
          0,
          0,
          0,
          11,
          0,
          0,
          0,
          13,
          0,
          0,
          6,
          0,
          0,
          0,
          0,
          0,
          0,
          0,
          0,
          0,
          0,
          0,
          0,
          0,
          0,
          0,
          0,
          0,
          0,
          0,
          0,
          0,
          0,
          14,
          33,
          14,
          14,
          14,
          14,
          15,
          15,
          14,
          14,
          15,
          15,
          14,
          14,
          14,
          14,
          14,
          14,
          33,
          14,
          14,
          14,
          18,
          33,
          33,
          15,
          14,
          14,
          15,
          15,
          15,
          14,
          15,
          14,
          14,
          14,
          15,
          14,
          14,
          14,
          33,
          14,
          15,
          14,
          15,
          14,
          12,
          14,
          7,
          14,
          15,
          14,
          0,
          15,
          14,
          15,
          14,
          14,
          14,
          14,
          14,
          14,
          15,
          21,
          14,
          14,
          33,
          14,
          14,
          14,
          33,
          14,
          14,
          14,
          14,
          14,
          33,
          24,
          14,
          14,
          15,
          15,
          14,
          14,
          14,
          14,
          14,
          7,
          14,
          14,
          14,
          14,
          33,
          14,
          14,
          15,
          14,
          14,
          33,
          25,
          14,
          33,
          14,
          33,
          14,
          15,
          14,
          14,
          14,
          15,
          14,
          15,
          15,
          18,
          33,
          15,
          14,
          33,
          17,
          14,
          14,
          33,
          15,
          15,
          14,
          0,
          14,
          14,
          14,
          14,
          15,
          14,
          14,
          14,
          15,
          18,
          14,
          15,
          17,
          0,
          15,
          33,
          14,
          15,
          15,
          14,
          14,
          15,
          15,
          14,
          14,
          15,
          33,
          14,
          14,
          33,
          14,
          14,
          20,
          14,
          14,
          30,
          15,
          14,
          14,
          14,
          14,
          14,
          14,
          14,
          15,
          14,
          14,
          14,
          18,
          14,
          14,
          14,
          14,
          14,
          14,
          33,
          33,
          33,
          14,
          31,
          14,
          14,
          33,
          14,
          14,
          14,
          14,
          21,
          14,
          15,
          14,
          14,
          14,
          33,
          14,
          14,
          14,
          14,
          17,
          14,
          33,
          14,
          33,
          14,
          33,
          14,
          14,
          31,
          14,
          7,
          33,
          14,
          14,
          14,
          14,
          14,
          14,
          15,
          33,
          14,
          14,
          14,
          14,
          14,
          14,
          14,
          14,
          14,
          14,
          19,
          14,
          33,
          15,
          14,
          14,
          33,
          33,
          14,
          15,
          33,
          14,
          14,
          15,
          15,
          14,
          15,
          14,
          14,
          33,
          14,
          15,
          15,
          14,
          15,
          15,
          15,
          15,
          14
         ],
         "y": [
          "University <br>graduate",
          "University <br>without <br>graduating",
          "University <br>graduate",
          "University <br>graduate",
          "University <br>graduate",
          "University <br>graduate",
          "University <br>graduate",
          "University <br>graduate",
          "University <br>graduate",
          "Completed <br>Compulsory<br>Secondary <br>Education",
          "Completed <br>Compulsory<br>Secondary <br>Education",
          "Vocational <br>Training",
          "University <br>without <br>graduating",
          "University <br>graduate",
          "University <br>graduate",
          "University <br>graduate",
          "University <br>graduate",
          "University <br>without <br>graduating",
          "University <br>graduate",
          "University <br>without <br>graduating",
          "Completed <br>Compulsory<br>Secondary <br>Education",
          "Vocational <br>Training",
          "University <br>graduate",
          "University <br>without <br>graduating",
          "Vocational <br>Training",
          "Primary <br>education",
          "University <br>without <br>graduating",
          "University <br>graduate",
          "Unfinished <br>Compulsory<br>Secondary <br>Education",
          "Unfinished <br>Compulsory<br>Secondary <br>Education",
          "Unfinished <br>Compulsory<br>Secondary <br>Education",
          "Unfinished <br>Compulsory<br>Secondary <br>Education",
          "Unfinished <br>Compulsory<br>Secondary <br>Education",
          "Unfinished <br>Compulsory<br>Secondary <br>Education",
          "University <br>graduate",
          "University <br>graduate",
          "Vocational <br>Training",
          "University <br>graduate",
          "University <br>without <br>graduating",
          "University <br>without <br>graduating",
          "University <br>without <br>graduating",
          "University <br>graduate",
          "University <br>graduate",
          "University <br>graduate",
          "University <br>without <br>graduating",
          "University <br>graduate",
          "University <br>without <br>graduating",
          "University <br>graduate",
          "University <br>graduate",
          "University <br>graduate",
          "University <br>without <br>graduating",
          "University <br>without <br>graduating",
          "University <br>without <br>graduating",
          "University <br>without <br>graduating",
          "University <br>without <br>graduating",
          "University <br>without <br>graduating",
          "University <br>without <br>graduating",
          "University <br>without <br>graduating",
          "Unfinished <br>Compulsory<br>Secondary <br>Education",
          "Unfinished <br>Compulsory<br>Secondary <br>Education",
          "Unfinished <br>Compulsory<br>Secondary <br>Education",
          "University <br>graduate",
          "University <br>graduate",
          "Unfinished <br>Compulsory<br>Secondary <br>Education",
          "Unfinished <br>Compulsory<br>Secondary <br>Education",
          "Unfinished <br>Compulsory<br>Secondary <br>Education",
          "Unfinished <br>Compulsory<br>Secondary <br>Education",
          "Unfinished <br>Compulsory<br>Secondary <br>Education",
          "Unfinished <br>Compulsory<br>Secondary <br>Education",
          "University <br>without <br>graduating",
          "Unfinished <br>Compulsory<br>Secondary <br>Education",
          "University <br>graduate",
          "University <br>without <br>graduating",
          "University <br>graduate",
          "Vocational <br>Training",
          "University <br>graduate",
          "University <br>graduate",
          "University <br>graduate",
          "University <br>graduate",
          "University <br>graduate",
          "Vocational <br>Training",
          "University <br>graduate",
          "Vocational <br>Training",
          "Vocational <br>Training",
          "Completed <br>Compulsory<br>Secondary <br>Education",
          "University <br>without <br>graduating",
          "University <br>graduate",
          "University <br>graduate",
          "University <br>graduate",
          "Completed <br>Compulsory<br>Secondary <br>Education",
          "University <br>without <br>graduating",
          "University <br>without <br>graduating",
          "University <br>without <br>graduating",
          "University <br>without <br>graduating",
          "University <br>without <br>graduating",
          "University <br>without <br>graduating",
          "University <br>graduate",
          "University <br>graduate",
          "University <br>graduate",
          "University <br>graduate",
          "University <br>graduate",
          "University <br>graduate",
          "University <br>graduate",
          "University <br>graduate",
          "University <br>graduate",
          "University <br>graduate",
          "University <br>graduate",
          "University <br>graduate",
          "University <br>graduate",
          "University <br>without <br>graduating",
          "University <br>graduate",
          "University <br>without <br>graduating",
          "University <br>graduate",
          "University <br>graduate",
          "University <br>without <br>graduating",
          "Vocational <br>Training",
          "University <br>without <br>graduating",
          "University <br>without <br>graduating",
          "Unfinished <br>Compulsory<br>Secondary <br>Education",
          "Unfinished <br>Compulsory<br>Secondary <br>Education",
          "Unfinished <br>Compulsory<br>Secondary <br>Education",
          "University <br>graduate",
          "Completed <br>Compulsory<br>Secondary <br>Education",
          "Vocational <br>Training",
          "Unfinished <br>Compulsory<br>Secondary <br>Education",
          "Unfinished <br>Compulsory<br>Secondary <br>Education",
          "Unfinished <br>Compulsory<br>Secondary <br>Education",
          "Unfinished <br>Compulsory<br>Secondary <br>Education",
          "Unfinished <br>Compulsory<br>Secondary <br>Education",
          "Unfinished <br>Compulsory<br>Secondary <br>Education",
          "Unfinished <br>Compulsory<br>Secondary <br>Education",
          "Unfinished <br>Compulsory<br>Secondary <br>Education",
          "Unfinished <br>Compulsory<br>Secondary <br>Education",
          "Unfinished <br>Compulsory<br>Secondary <br>Education",
          "Unfinished <br>Compulsory<br>Secondary <br>Education",
          "Unfinished <br>Compulsory<br>Secondary <br>Education",
          "University <br>graduate",
          "University <br>without <br>graduating",
          "University <br>without <br>graduating",
          "University <br>without <br>graduating",
          "Vocational <br>Training",
          "University <br>graduate",
          "University <br>without <br>graduating",
          "University <br>graduate",
          "University <br>graduate",
          "University <br>graduate",
          "University <br>graduate",
          "Primary <br>education",
          "University <br>graduate",
          "University <br>graduate",
          "University <br>graduate",
          "University <br>graduate",
          "University <br>graduate",
          "University <br>without <br>graduating",
          "Completed <br>Compulsory<br>Secondary <br>Education",
          "University <br>graduate",
          "University <br>without <br>graduating",
          "Completed <br>Compulsory<br>Secondary <br>Education",
          "University <br>graduate",
          "University <br>graduate",
          "Vocational <br>Training",
          "University <br>graduate",
          "University <br>graduate",
          "University <br>graduate",
          "University <br>graduate",
          "University <br>without <br>graduating",
          "University <br>graduate",
          "University <br>graduate",
          "University <br>graduate",
          "University <br>graduate",
          "University <br>graduate",
          "University <br>graduate",
          "University <br>graduate",
          "University <br>graduate",
          "University <br>graduate",
          "University <br>graduate",
          "University <br>graduate",
          "University <br>graduate",
          "Completed <br>Compulsory<br>Secondary <br>Education",
          "University <br>without <br>graduating",
          "University <br>graduate",
          "University <br>graduate",
          "Unfinished <br>Compulsory<br>Secondary <br>Education",
          "University <br>graduate",
          "University <br>graduate",
          "University <br>graduate",
          "Primary <br>education",
          "Vocational <br>Training",
          "University <br>graduate",
          "University <br>graduate",
          "Vocational <br>Training",
          "University <br>graduate",
          "University <br>graduate",
          "Vocational <br>Training",
          "University <br>graduate",
          "University <br>graduate",
          "University <br>graduate",
          "University <br>graduate",
          "University <br>graduate",
          "Primary <br>education",
          "University <br>graduate",
          "Completed <br>Compulsory<br>Secondary <br>Education",
          "University <br>graduate",
          "Vocational <br>Training",
          "Primary <br>education",
          "University <br>without <br>graduating",
          "University <br>graduate",
          "University <br>graduate",
          "University <br>graduate",
          "Completed <br>Compulsory<br>Secondary <br>Education",
          "University <br>graduate",
          "University <br>without <br>graduating",
          "Completed <br>Compulsory<br>Secondary <br>Education",
          "University <br>graduate",
          "University <br>graduate",
          "University <br>graduate",
          "University <br>graduate",
          "University <br>graduate",
          "University <br>without <br>graduating",
          "University <br>without <br>graduating",
          "University <br>graduate",
          "University <br>without <br>graduating",
          "University <br>graduate",
          "University <br>graduate",
          "University <br>graduate",
          "Completed <br>Compulsory<br>Secondary <br>Education",
          "University <br>without <br>graduating",
          "University <br>graduate",
          "University <br>graduate",
          "University <br>graduate",
          "University <br>graduate",
          "University <br>graduate",
          "Vocational <br>Training",
          "University <br>graduate",
          "University <br>graduate",
          "University <br>graduate",
          "University <br>graduate",
          "University <br>graduate",
          "University <br>graduate",
          "University <br>graduate",
          "Completed <br>Compulsory<br>Secondary <br>Education",
          "University <br>without <br>graduating",
          "Completed <br>Compulsory<br>Secondary <br>Education",
          "University <br>graduate",
          "University <br>graduate",
          "University <br>graduate",
          "University <br>without <br>graduating",
          "University <br>graduate",
          "University <br>graduate",
          "Primary <br>education",
          "University <br>graduate",
          "Completed <br>Compulsory<br>Secondary <br>Education",
          "University <br>without <br>graduating",
          "Completed <br>Compulsory<br>Secondary <br>Education",
          "University <br>graduate",
          "Completed <br>Compulsory<br>Secondary <br>Education",
          "University <br>without <br>graduating",
          "University <br>graduate",
          "Completed <br>Compulsory<br>Secondary <br>Education",
          "University <br>graduate",
          "Primary <br>education",
          "University <br>graduate",
          "University <br>graduate",
          "University <br>graduate",
          "University <br>without <br>graduating",
          "University <br>graduate",
          "Completed <br>Compulsory<br>Secondary <br>Education",
          "University <br>without <br>graduating",
          "University <br>graduate",
          "University <br>graduate",
          "University <br>graduate",
          "University <br>without <br>graduating",
          "Completed <br>Compulsory<br>Secondary <br>Education",
          "University <br>graduate",
          "University <br>graduate",
          "University <br>without <br>graduating",
          "University <br>graduate",
          "Vocational <br>Training",
          "University <br>without <br>graduating",
          "University <br>graduate",
          "Completed <br>Compulsory<br>Secondary <br>Education",
          "Primary <br>education",
          "University <br>graduate",
          "University <br>graduate",
          "University <br>graduate",
          "University <br>graduate",
          "University <br>graduate",
          "University <br>graduate",
          "University <br>without <br>graduating",
          "University <br>graduate",
          "University <br>graduate",
          "Vocational <br>Training",
          "University <br>without <br>graduating",
          "University <br>without <br>graduating",
          "Primary <br>education",
          "University <br>without <br>graduating",
          "University <br>graduate",
          "Completed <br>Compulsory<br>Secondary <br>Education",
          "University <br>graduate",
          "University <br>without <br>graduating",
          "University <br>graduate",
          "University <br>graduate",
          "University <br>graduate",
          "University <br>graduate",
          "Vocational <br>Training",
          "Unfinished <br>Compulsory<br>Secondary <br>Education",
          "University <br>without <br>graduating",
          "University <br>graduate",
          "University <br>graduate",
          "University <br>graduate",
          "University <br>graduate",
          "Completed <br>Compulsory<br>Secondary <br>Education",
          "University <br>without <br>graduating",
          "University <br>without <br>graduating",
          "University <br>graduate",
          "University <br>graduate",
          "University <br>graduate",
          "University <br>graduate",
          "University <br>graduate",
          "Completed <br>Compulsory<br>Secondary <br>Education",
          "University <br>without <br>graduating",
          "University <br>without <br>graduating",
          "University <br>graduate",
          "University <br>without <br>graduating",
          "University <br>graduate",
          "University <br>graduate",
          "University <br>graduate",
          "Completed <br>Compulsory<br>Secondary <br>Education",
          "University <br>graduate",
          "University <br>graduate",
          "University <br>graduate",
          "University <br>graduate",
          "University <br>graduate",
          "University <br>graduate",
          "University <br>graduate",
          "University <br>graduate",
          "Completed <br>Compulsory<br>Secondary <br>Education",
          "Unfinished <br>Compulsory<br>Secondary <br>Education",
          "University <br>without <br>graduating",
          "Vocational <br>Training",
          "University <br>without <br>graduating",
          "University <br>without <br>graduating",
          "Completed <br>Compulsory<br>Secondary <br>Education",
          "University <br>without <br>graduating",
          "University <br>graduate",
          "University <br>without <br>graduating",
          "University <br>without <br>graduating",
          "Primary <br>education",
          "University <br>graduate",
          "Unfinished <br>Compulsory<br>Secondary <br>Education",
          "University <br>graduate",
          "University <br>graduate",
          "University <br>graduate",
          "University <br>without <br>graduating",
          "University <br>without <br>graduating",
          "Primary <br>education",
          "University <br>graduate",
          "University <br>graduate",
          "University <br>graduate",
          "University <br>graduate",
          "University <br>without <br>graduating",
          "University <br>graduate",
          "University <br>graduate",
          "Vocational <br>Training",
          "University <br>graduate",
          "University <br>graduate",
          "University <br>graduate",
          "University <br>graduate",
          "Completed <br>Compulsory<br>Secondary <br>Education",
          "University <br>graduate",
          "University <br>graduate",
          "University <br>graduate",
          "University <br>graduate",
          "University <br>graduate",
          "University <br>graduate",
          "Completed <br>Compulsory<br>Secondary <br>Education",
          "University <br>without <br>graduating",
          "University <br>graduate",
          "University <br>graduate",
          "University <br>graduate",
          "Vocational <br>Training",
          "University <br>graduate",
          "Vocational <br>Training",
          "University <br>graduate",
          "University <br>graduate",
          "University <br>without <br>graduating",
          "University <br>graduate",
          "University <br>without <br>graduating",
          "University <br>graduate",
          "University <br>graduate",
          "University <br>without <br>graduating",
          "University <br>graduate",
          "University <br>graduate",
          "Completed <br>Compulsory<br>Secondary <br>Education",
          "University <br>without <br>graduating",
          "University <br>graduate",
          "University <br>graduate",
          "University <br>graduate",
          "University <br>graduate",
          "University <br>graduate",
          "University <br>graduate",
          "University <br>graduate",
          "University <br>without <br>graduating"
         ]
        },
        {
         "marker": {
          "color": "rgb(244,109,67)",
          "opacity": [
           [
            0.8
           ],
           [
            0.8
           ],
           [
            0.8
           ],
           [
            0.8
           ],
           [
            0.8
           ],
           [
            0.8
           ],
           [
            0.8
           ],
           [
            0.8
           ],
           [
            0.8
           ],
           [
            0.8
           ],
           [
            0.8
           ],
           [
            0.8
           ],
           [
            0.8
           ],
           [
            0.8
           ],
           [
            0.8
           ],
           [
            0.8
           ],
           [
            0.8
           ],
           [
            0.8
           ],
           [
            0.8
           ],
           [
            0.8
           ],
           [
            0.8
           ],
           [
            0.8
           ],
           [
            0.8
           ],
           [
            0.8
           ],
           [
            0.8
           ],
           [
            0.8
           ],
           [
            0.8
           ],
           [
            0.8
           ],
           [
            0.8
           ],
           [
            0.8
           ],
           [
            0.8
           ],
           [
            0.8
           ],
           [
            0.8
           ],
           [
            0.8
           ],
           [
            0.8
           ],
           [
            0.8
           ],
           [
            0.8
           ],
           [
            0.8
           ],
           [
            0.8
           ],
           [
            0.8
           ],
           [
            0.8
           ],
           [
            0.8
           ],
           [
            0.8
           ],
           [
            0.8
           ],
           [
            0.8
           ],
           [
            0.8
           ],
           [
            0.8
           ],
           [
            0.8
           ],
           [
            0.8
           ],
           [
            0.8
           ],
           [
            0.8
           ],
           [
            0.8
           ],
           [
            0.8
           ],
           [
            0.8
           ],
           [
            0.8
           ],
           [
            0.8
           ],
           [
            0.8
           ],
           [
            0.8
           ],
           [
            0.8
           ],
           [
            0.8
           ],
           [
            0.8
           ],
           [
            0.8
           ],
           [
            0.8
           ],
           [
            0.8
           ],
           [
            0.8
           ],
           [
            0.8
           ],
           [
            0.8
           ],
           [
            0.8
           ],
           [
            0.8
           ],
           [
            0.8
           ],
           [
            0.8
           ],
           [
            0.8
           ],
           [
            0.8
           ],
           [
            0.8
           ],
           [
            0.8
           ],
           [
            0.8
           ],
           [
            0.8
           ],
           [
            0.8
           ],
           [
            0.8
           ],
           [
            0.8
           ],
           [
            0.8
           ],
           [
            0.8
           ],
           [
            0.8
           ],
           [
            0.8
           ],
           [
            0.8
           ],
           [
            0.8
           ],
           [
            0.8
           ],
           [
            0.8
           ],
           [
            0.8
           ],
           [
            0.8
           ],
           [
            0.8
           ],
           [
            0.8
           ],
           [
            0.8
           ],
           [
            0.8
           ],
           [
            0.8
           ],
           [
            0.8
           ],
           [
            0.8
           ],
           [
            0.8
           ],
           [
            0.8
           ],
           [
            0.8
           ],
           [
            0.8
           ],
           [
            0.8
           ],
           [
            0.8
           ],
           [
            0.8
           ],
           [
            0.8
           ],
           [
            0.8
           ],
           [
            0.8
           ],
           [
            0.8
           ],
           [
            0.8
           ],
           [
            0.8
           ],
           [
            0.8
           ],
           [
            0.8
           ],
           [
            0.8
           ],
           [
            0.8
           ],
           [
            0.8
           ],
           [
            0.8
           ],
           [
            0.8
           ],
           [
            0.8
           ],
           [
            0.8
           ],
           [
            0.8
           ],
           [
            0.8
           ],
           [
            0.8
           ],
           [
            0.8
           ],
           [
            0.8
           ],
           [
            0.8
           ],
           [
            0.8
           ],
           [
            0.8
           ],
           [
            0.8
           ],
           [
            0.8
           ],
           [
            0.8
           ],
           [
            0.8
           ],
           [
            0.8
           ],
           [
            0.8
           ],
           [
            0.8
           ],
           [
            0.8
           ],
           [
            0.8
           ],
           [
            0.8
           ],
           [
            0.8
           ],
           [
            0.8
           ],
           [
            0.8
           ],
           [
            0.8
           ],
           [
            0.8
           ],
           [
            0.8
           ],
           [
            0.8
           ],
           [
            0.8
           ],
           [
            0.8
           ],
           [
            0.8
           ],
           [
            0.8
           ],
           [
            0.8
           ],
           [
            0.8
           ],
           [
            0.8
           ],
           [
            0.8
           ],
           [
            0.8
           ],
           [
            0.8
           ],
           [
            0.8
           ],
           [
            0.8
           ],
           [
            0.8
           ],
           [
            0.8
           ],
           [
            0.8
           ],
           [
            0.8
           ],
           [
            0.8
           ],
           [
            0.8
           ],
           [
            0.8
           ],
           [
            0.8
           ],
           [
            0.8
           ],
           [
            0.8
           ],
           [
            0.8
           ],
           [
            0.8
           ],
           [
            0.8
           ],
           [
            0.8
           ],
           [
            0.8
           ],
           [
            0.8
           ],
           [
            0.8
           ],
           [
            0.8
           ],
           [
            0.8
           ],
           [
            0.8
           ],
           [
            0.8
           ],
           [
            0.8
           ],
           [
            0.8
           ],
           [
            0.8
           ],
           [
            0.8
           ],
           [
            0.8
           ],
           [
            0.8
           ],
           [
            0.8
           ],
           [
            0.8
           ],
           [
            0.8
           ],
           [
            0.8
           ],
           [
            0.8
           ],
           [
            0.8
           ],
           [
            0.8
           ],
           [
            0.8
           ],
           [
            0.8
           ],
           [
            0.8
           ],
           [
            0.8
           ],
           [
            0.8
           ],
           [
            0.8
           ],
           [
            0.8
           ],
           [
            0.8
           ],
           [
            0.8
           ],
           [
            0.8
           ],
           [
            0.8
           ],
           [
            0.8
           ],
           [
            0.8
           ],
           [
            0.8
           ],
           [
            0.8
           ],
           [
            0.8
           ],
           [
            0.8
           ],
           [
            0.8
           ],
           [
            0.8
           ],
           [
            0.8
           ],
           [
            0.8
           ],
           [
            0.8
           ],
           [
            0.8
           ],
           [
            0.8
           ],
           [
            0.8
           ],
           [
            0.8
           ],
           [
            0.8
           ],
           [
            0.8
           ],
           [
            0.8
           ],
           [
            0.8
           ],
           [
            0.8
           ],
           [
            0.8
           ],
           [
            0.8
           ],
           [
            0.8
           ],
           [
            0.8
           ],
           [
            0.8
           ],
           [
            0.8
           ],
           [
            0.8
           ],
           [
            0.8
           ],
           [
            0.8
           ],
           [
            0.8
           ],
           [
            0.8
           ],
           [
            0.8
           ],
           [
            0.8
           ],
           [
            0.8
           ],
           [
            0.8
           ],
           [
            0.8
           ],
           [
            0.8
           ],
           [
            0.8
           ],
           [
            0.8
           ],
           [
            0.8
           ],
           [
            0.8
           ],
           [
            0.8
           ],
           [
            0.8
           ],
           [
            0.8
           ],
           [
            0.8
           ],
           [
            0.8
           ],
           [
            0.8
           ],
           [
            0.8
           ],
           [
            0.8
           ],
           [
            0.8
           ],
           [
            0.8
           ],
           [
            0.8
           ],
           [
            0.8
           ],
           [
            0.8
           ],
           [
            0.8
           ],
           [
            0.8
           ],
           [
            0.8
           ],
           [
            0.8
           ],
           [
            0.8
           ],
           [
            0.8
           ],
           [
            0.8
           ],
           [
            0.8
           ],
           [
            0.8
           ],
           [
            0.8
           ],
           [
            0.8
           ],
           [
            0.8
           ],
           [
            0.8
           ],
           [
            0.8
           ],
           [
            0.8
           ],
           [
            0.8
           ],
           [
            0.8
           ],
           [
            0.8
           ],
           [
            0.8
           ],
           [
            0.8
           ],
           [
            0.8
           ],
           [
            0.8
           ],
           [
            0.8
           ],
           [
            0.8
           ],
           [
            0.8
           ],
           [
            0.8
           ],
           [
            0.8
           ],
           [
            0.8
           ],
           [
            0.8
           ],
           [
            0.8
           ],
           [
            0.8
           ],
           [
            0.8
           ],
           [
            0.8
           ],
           [
            0.8
           ],
           [
            0.8
           ],
           [
            0.8
           ],
           [
            0.8
           ],
           [
            0.8
           ],
           [
            0.8
           ],
           [
            0.8
           ],
           [
            0.8
           ],
           [
            0.8
           ],
           [
            0.8
           ],
           [
            0.8
           ],
           [
            0.8
           ],
           [
            0.8
           ],
           [
            0.8
           ],
           [
            0.8
           ],
           [
            0.8
           ],
           [
            0.8
           ],
           [
            0.8
           ],
           [
            0.8
           ],
           [
            0.8
           ],
           [
            0.8
           ],
           [
            0.8
           ],
           [
            0.8
           ],
           [
            0.8
           ],
           [
            0.8
           ],
           [
            0.8
           ],
           [
            0.8
           ],
           [
            0.8
           ],
           [
            0.8
           ],
           [
            0.8
           ],
           [
            0.8
           ],
           [
            0.8
           ],
           [
            0.8
           ],
           [
            0.8
           ],
           [
            0.8
           ],
           [
            0.8
           ],
           [
            0.8
           ],
           [
            0.8
           ],
           [
            0.8
           ],
           [
            0.8
           ],
           [
            0.8
           ],
           [
            0.8
           ],
           [
            0.8
           ],
           [
            0.8
           ],
           [
            0.8
           ],
           [
            0.8
           ],
           [
            0.8
           ],
           [
            0.8
           ],
           [
            0.8
           ],
           [
            0.8
           ],
           [
            0.8
           ],
           [
            0.8
           ],
           [
            0.8
           ],
           [
            0.8
           ],
           [
            0.8
           ],
           [
            0.8
           ],
           [
            0.8
           ],
           [
            0.8
           ],
           [
            0.8
           ],
           [
            0.8
           ],
           [
            0.8
           ],
           [
            0.8
           ],
           [
            0.8
           ],
           [
            0.8
           ],
           [
            0.8
           ],
           [
            0.8
           ],
           [
            0.8
           ],
           [
            0.8
           ],
           [
            0.8
           ],
           [
            0.8
           ],
           [
            0.8
           ],
           [
            0.8
           ],
           [
            0.8
           ],
           [
            0.8
           ],
           [
            0.8
           ],
           [
            0.8
           ],
           [
            0.8
           ],
           [
            0.8
           ],
           [
            0.8
           ],
           [
            0.8
           ],
           [
            0.8
           ],
           [
            0.8
           ],
           [
            0.8
           ],
           [
            0.8
           ],
           [
            0.8
           ],
           [
            0.8
           ],
           [
            0.8
           ],
           [
            0.8
           ],
           [
            0.8
           ],
           [
            0.8
           ],
           [
            0.8
           ],
           [
            0.8
           ],
           [
            0.8
           ],
           [
            0.8
           ],
           [
            0.8
           ],
           [
            0.8
           ],
           [
            0.8
           ],
           [
            0.8
           ],
           [
            0.8
           ],
           [
            0.8
           ],
           [
            0.8
           ],
           [
            0.8
           ],
           [
            0.8
           ],
           [
            0.8
           ],
           [
            0.8
           ],
           [
            0.8
           ],
           [
            0.8
           ],
           [
            0.8
           ],
           [
            0.8
           ],
           [
            0.8
           ],
           [
            0.8
           ],
           [
            0.8
           ],
           [
            0.8
           ],
           [
            0.8
           ],
           [
            0.8
           ],
           [
            0.8
           ],
           [
            0.8
           ],
           [
            0.8
           ],
           [
            0.8
           ],
           [
            0.8
           ],
           [
            0.8
           ],
           [
            0.8
           ],
           [
            0.8
           ],
           [
            0.8
           ],
           [
            0.8
           ],
           [
            0.8
           ],
           [
            0.8
           ],
           [
            0.8
           ],
           [
            0.8
           ],
           [
            0.8
           ],
           [
            0.8
           ],
           [
            0.8
           ],
           [
            0.8
           ],
           [
            0.8
           ],
           [
            0.8
           ],
           [
            0.8
           ],
           [
            0.8
           ],
           [
            0.8
           ],
           [
            0.8
           ],
           [
            0.8
           ],
           [
            0.8
           ],
           [
            0.8
           ],
           [
            0.8
           ],
           [
            0.8
           ],
           [
            0.8
           ],
           [
            0.8
           ],
           [
            0.8
           ],
           [
            0.8
           ],
           [
            0.8
           ],
           [
            0.8
           ],
           [
            0.8
           ],
           [
            0.8
           ],
           [
            0.8
           ],
           [
            0.8
           ],
           [
            0.8
           ],
           [
            0.8
           ],
           [
            0.8
           ],
           [
            0.8
           ],
           [
            0.8
           ],
           [
            0.8
           ],
           [
            0.8
           ],
           [
            0.8
           ],
           [
            0.8
           ],
           [
            0.8
           ],
           [
            0.8
           ],
           [
            0.8
           ],
           [
            0.8
           ],
           [
            0.8
           ],
           [
            0.8
           ],
           [
            0.8
           ],
           [
            0.8
           ],
           [
            0.8
           ],
           [
            0.8
           ],
           [
            0.8
           ],
           [
            0.8
           ],
           [
            0.8
           ],
           [
            0.8
           ],
           [
            0.8
           ],
           [
            0.8
           ],
           [
            0.8
           ],
           [
            0.8
           ],
           [
            0.8
           ],
           [
            0.8
           ],
           [
            0.8
           ],
           [
            0.8
           ],
           [
            0.8
           ],
           [
            0.8
           ],
           [
            0.8
           ],
           [
            0.8
           ],
           [
            0.8
           ],
           [
            0.8
           ],
           [
            0.8
           ],
           [
            0.8
           ],
           [
            0.8
           ],
           [
            0.8
           ],
           [
            0.8
           ],
           [
            0.8
           ],
           [
            0.8
           ],
           [
            0.8
           ],
           [
            0.8
           ],
           [
            0.8
           ],
           [
            0.8
           ],
           [
            0.8
           ],
           [
            0.8
           ],
           [
            0.8
           ],
           [
            0.8
           ],
           [
            0.8
           ],
           [
            0.8
           ],
           [
            0.8
           ],
           [
            0.8
           ],
           [
            0.8
           ],
           [
            0.8
           ],
           [
            0.8
           ],
           [
            0.8
           ],
           [
            0.8
           ],
           [
            0.8
           ],
           [
            0.8
           ],
           [
            0.8
           ],
           [
            0.8
           ],
           [
            0.8
           ],
           [
            0.8
           ],
           [
            0.8
           ],
           [
            0.8
           ],
           [
            0.8
           ],
           [
            0.8
           ],
           [
            0.8
           ],
           [
            0.8
           ],
           [
            0.8
           ],
           [
            0.8
           ],
           [
            0.8
           ],
           [
            0.8
           ],
           [
            0.8
           ],
           [
            0.8
           ],
           [
            0.8
           ],
           [
            0.8
           ],
           [
            0.8
           ],
           [
            0.8
           ],
           [
            0.8
           ],
           [
            0.8
           ],
           [
            0.8
           ],
           [
            0.8
           ],
           [
            0.8
           ],
           [
            0.8
           ],
           [
            0.8
           ],
           [
            0.8
           ],
           [
            0.8
           ],
           [
            0.8
           ],
           [
            0.8
           ],
           [
            0.8
           ],
           [
            0.8
           ],
           [
            0.8
           ],
           [
            0.8
           ],
           [
            0.8
           ],
           [
            0.8
           ],
           [
            0.8
           ],
           [
            0.8
           ],
           [
            0.8
           ],
           [
            0.8
           ],
           [
            0.8
           ],
           [
            0.8
           ],
           [
            0.8
           ],
           [
            0.8
           ],
           [
            0.8
           ],
           [
            0.8
           ],
           [
            0.8
           ],
           [
            0.8
           ],
           [
            0.8
           ],
           [
            0.8
           ],
           [
            0.8
           ],
           [
            0.8
           ],
           [
            0.8
           ],
           [
            0.8
           ],
           [
            0.8
           ],
           [
            0.8
           ],
           [
            0.8
           ],
           [
            0.8
           ],
           [
            0.8
           ],
           [
            0.8
           ],
           [
            0.8
           ],
           [
            0.8
           ],
           [
            0.8
           ],
           [
            0.8
           ],
           [
            0.8
           ],
           [
            0.8
           ],
           [
            0.8
           ],
           [
            0.8
           ],
           [
            0.8
           ],
           [
            0.8
           ],
           [
            0.8
           ],
           [
            0.8
           ],
           [
            0.8
           ],
           [
            0.8
           ],
           [
            0.8
           ],
           [
            0.8
           ],
           [
            0.8
           ],
           [
            0.8
           ],
           [
            0.8
           ],
           [
            0.8
           ],
           [
            0.8
           ],
           [
            0.8
           ],
           [
            0.8
           ],
           [
            0.8
           ],
           [
            0.8
           ],
           [
            0.8
           ],
           [
            0.8
           ],
           [
            0.8
           ],
           [
            0.8
           ],
           [
            0.8
           ],
           [
            0.8
           ],
           [
            0.8
           ],
           [
            0.8
           ],
           [
            0.8
           ],
           [
            0.8
           ],
           [
            0.8
           ],
           [
            0.8
           ],
           [
            0.8
           ],
           [
            0.8
           ],
           [
            0.8
           ],
           [
            0.8
           ],
           [
            0.8
           ],
           [
            0.8
           ],
           [
            0.8
           ],
           [
            0.8
           ],
           [
            0.8
           ],
           [
            0.8
           ],
           [
            0.8
           ],
           [
            0.8
           ],
           [
            0.8
           ],
           [
            0.8
           ],
           [
            0.8
           ],
           [
            0.8
           ],
           [
            0.8
           ],
           [
            0.8
           ],
           [
            0.8
           ],
           [
            0.8
           ],
           [
            0.8
           ],
           [
            0.8
           ],
           [
            0.8
           ],
           [
            0.8
           ],
           [
            0.8
           ],
           [
            0.8
           ],
           [
            0.8
           ],
           [
            0.8
           ],
           [
            0.8
           ],
           [
            0.8
           ],
           [
            0.8
           ],
           [
            0.8
           ],
           [
            0.8
           ],
           [
            0.8
           ],
           [
            0.8
           ],
           [
            0.8
           ],
           [
            0.8
           ],
           [
            0.8
           ],
           [
            0.8
           ],
           [
            0.8
           ],
           [
            0.8
           ],
           [
            0.8
           ],
           [
            0.8
           ],
           [
            0.8
           ],
           [
            0.8
           ],
           [
            0.8
           ],
           [
            0.8
           ],
           [
            0.8
           ],
           [
            0.8
           ],
           [
            0.8
           ],
           [
            0.8
           ],
           [
            0.8
           ],
           [
            0.8
           ],
           [
            0.8
           ],
           [
            0.8
           ],
           [
            0.8
           ],
           [
            0.8
           ],
           [
            0.8
           ],
           [
            0.8
           ],
           [
            0.8
           ],
           [
            0.8
           ],
           [
            0.8
           ],
           [
            0.8
           ],
           [
            0.8
           ],
           [
            0.8
           ],
           [
            0.8
           ],
           [
            0.8
           ],
           [
            0.8
           ],
           [
            0.8
           ],
           [
            0.8
           ],
           [
            0.8
           ],
           [
            0.8
           ],
           [
            0.8
           ],
           [
            0.8
           ],
           [
            0.8
           ],
           [
            0.8
           ],
           [
            0.8
           ],
           [
            0.8
           ],
           [
            0.8
           ],
           [
            0.8
           ],
           [
            0.8
           ],
           [
            0.8
           ],
           [
            0.8
           ],
           [
            0.8
           ],
           [
            0.8
           ],
           [
            0.8
           ],
           [
            0.8
           ],
           [
            0.8
           ],
           [
            0.8
           ],
           [
            0.8
           ],
           [
            0.8
           ],
           [
            0.8
           ],
           [
            0.8
           ],
           [
            0.8
           ],
           [
            0.8
           ],
           [
            0.8
           ],
           [
            0.8
           ],
           [
            0.8
           ],
           [
            0.8
           ],
           [
            0.8
           ],
           [
            0.8
           ],
           [
            0.8
           ],
           [
            0.8
           ],
           [
            0.8
           ],
           [
            0.8
           ],
           [
            0.8
           ],
           [
            0.8
           ],
           [
            0.8
           ],
           [
            0.8
           ],
           [
            0.8
           ],
           [
            0.8
           ],
           [
            0.8
           ],
           [
            0.8
           ],
           [
            0.8
           ],
           [
            0.8
           ],
           [
            0.8
           ],
           [
            0.8
           ],
           [
            0.8
           ],
           [
            0.8
           ],
           [
            0.8
           ],
           [
            0.8
           ],
           [
            0.8
           ],
           [
            0.8
           ],
           [
            0.8
           ],
           [
            0.8
           ],
           [
            0.8
           ],
           [
            0.8
           ],
           [
            0.8
           ],
           [
            0.8
           ],
           [
            0.8
           ],
           [
            0.8
           ],
           [
            0.8
           ],
           [
            0.8
           ],
           [
            0.8
           ],
           [
            0.8
           ],
           [
            0.8
           ],
           [
            0.8
           ],
           [
            0.8
           ],
           [
            0.8
           ],
           [
            0.8
           ],
           [
            0.8
           ],
           [
            0.8
           ],
           [
            0.8
           ],
           [
            0.8
           ],
           [
            0.8
           ],
           [
            0.8
           ],
           [
            0.8
           ],
           [
            0.8
           ],
           [
            0.8
           ],
           [
            0.8
           ],
           [
            0.8
           ],
           [
            0.8
           ],
           [
            0.8
           ],
           [
            0.8
           ],
           [
            0.8
           ],
           [
            0.8
           ],
           [
            0.8
           ],
           [
            0.8
           ],
           [
            0.8
           ],
           [
            0.8
           ],
           [
            0.8
           ],
           [
            0.8
           ],
           [
            0.8
           ],
           [
            0.8
           ]
          ]
         },
         "mode": "markers",
         "name": "Other",
         "type": "scatter",
         "uid": "c4df99a5-3062-4566-8be2-5c3de9fe651b",
         "x": [
          0,
          0,
          0,
          7,
          0,
          28
         ],
         "y": [
          "University <br>without <br>graduating",
          "University <br>without <br>graduating",
          "Unfinished <br>Compulsory<br>Secondary <br>Education",
          "University <br>without <br>graduating",
          "University <br>without <br>graduating",
          "University <br>graduate"
         ]
        }
       ],
       "layout": {
        "xaxis": {
         "ticktext": [
          "Spain",
          "Colombia",
          "Mexico",
          "Dominican Rep.",
          "Austria",
          "Chile",
          "France",
          "Canada",
          "Niger",
          "China",
          "Australia",
          "Russia",
          "Germany",
          "Brazil",
          "USA",
          "India",
          "Slovakia",
          "Italy",
          "England",
          "Cuba",
          "Ukraine",
          "Venezuela",
          "Indonesia",
          "Albania",
          "Pakistan",
          "The Bahamas",
          "Argentina",
          "Iceland",
          "Scotland",
          "Sudan",
          "New Zealand",
          "Ireland",
          "Macedonia",
          "Unknown"
         ],
         "tickvals": [
          0,
          1,
          2,
          3,
          4,
          5,
          6,
          7,
          8,
          9,
          10,
          11,
          12,
          13,
          14,
          15,
          16,
          17,
          18,
          19,
          20,
          21,
          22,
          23,
          24,
          25,
          26,
          27,
          28,
          29,
          30,
          31,
          32,
          33
         ],
         "title": {
          "text": "Nationality"
         }
        }
       }
      },
      "text/html": [
       "<div id=\"3378228b-bf61-48c1-8d71-357f1106aef6\" style=\"height: 525px; width: 100%;\" class=\"plotly-graph-div\"></div><script type=\"text/javascript\">require([\"plotly\"], function(Plotly) { window.PLOTLYENV=window.PLOTLYENV || {};window.PLOTLYENV.BASE_URL=\"https://plot.ly\";\n",
       "if (document.getElementById(\"3378228b-bf61-48c1-8d71-357f1106aef6\")) {\n",
       "    Plotly.newPlot(\"3378228b-bf61-48c1-8d71-357f1106aef6\", [{\"marker\": {\"color\": \"rgb(102,194,165)\", \"opacity\": [[0.8], [0.8], [0.8], [0.8], [0.8], [0.8], [0.8], [0.8], [0.8], [0.8], [0.8], [0.8], [0.8], [0.8], [0.8], [0.8], [0.8], [0.8], [0.8], [0.8], [0.8], [0.8], [0.8], [0.8], [0.8], [0.8], [0.8], [0.8], [0.8], [0.8], [0.8], [0.8], [0.8], [0.8], [0.8], [0.8], [0.8], [0.8], [0.8], [0.8], [0.8], [0.8], [0.8], [0.8], [0.8], [0.8], [0.8], [0.8], [0.8], [0.8], [0.8], [0.8], [0.8], [0.8], [0.8], [0.8], [0.8], [0.8], [0.8], [0.8], [0.8], [0.8], [0.8], [0.8], [0.8], [0.8], [0.8], [0.8], [0.8], [0.8], [0.8], [0.8], [0.8], [0.8], [0.8], [0.8], [0.8], [0.8], [0.8], [0.8], [0.8], [0.8], [0.8], [0.8], [0.8], [0.8], [0.8], [0.8], [0.8], [0.8], [0.8], [0.8], [0.8], [0.8], [0.8], [0.8], [0.8], [0.8], [0.8], [0.8], [0.8], [0.8], [0.8], [0.8], [0.8], [0.8], [0.8], [0.8], [0.8], [0.8], [0.8], [0.8], [0.8], [0.8], [0.8], [0.8], [0.8], [0.8], [0.8], [0.8], [0.8], [0.8], [0.8], [0.8], [0.8], [0.8], [0.8], [0.8], [0.8], [0.8], [0.8], [0.8], [0.8], [0.8], [0.8], [0.8], [0.8], [0.8], [0.8], [0.8], [0.8], [0.8], [0.8], [0.8], [0.8], [0.8], [0.8], [0.8], [0.8], [0.8], [0.8], [0.8], [0.8], [0.8], [0.8], [0.8], [0.8], [0.8], [0.8], [0.8], [0.8], [0.8], [0.8], [0.8], [0.8], [0.8], [0.8], [0.8], [0.8], [0.8], [0.8], [0.8], [0.8], [0.8], [0.8], [0.8], [0.8], [0.8], [0.8], [0.8], [0.8], [0.8], [0.8], [0.8], [0.8], [0.8], [0.8], [0.8], [0.8], [0.8], [0.8], [0.8], [0.8], [0.8], [0.8], [0.8], [0.8], [0.8], [0.8], [0.8], [0.8], [0.8], [0.8], [0.8], [0.8], [0.8], [0.8], [0.8], [0.8], [0.8], [0.8], [0.8], [0.8], [0.8], [0.8], [0.8], [0.8], [0.8], [0.8], [0.8], [0.8], [0.8], [0.8], [0.8], [0.8], [0.8], [0.8], [0.8], [0.8], [0.8], [0.8], [0.8], [0.8], [0.8], [0.8], [0.8], [0.8], [0.8], [0.8], [0.8], [0.8], [0.8], [0.8], [0.8], [0.8], [0.8], [0.8], [0.8], [0.8], [0.8], [0.8], [0.8], [0.8], [0.8], [0.8], [0.8], [0.8], [0.8], [0.8], [0.8], [0.8], [0.8], [0.8], [0.8], [0.8], [0.8], [0.8], [0.8], [0.8], [0.8], [0.8], [0.8], [0.8], [0.8], [0.8], [0.8], [0.8], [0.8], [0.8], [0.8], [0.8], [0.8], [0.8], [0.8], [0.8], [0.8], [0.8], [0.8], [0.8], [0.8], [0.8], [0.8], [0.8], [0.8], [0.8], [0.8], [0.8], [0.8], [0.8], [0.8], [0.8], [0.8], [0.8], [0.8], [0.8], [0.8], [0.8], [0.8], [0.8], [0.8], [0.8], [0.8], [0.8], [0.8], [0.8], [0.8], [0.8], [0.8], [0.8], [0.8], [0.8], [0.8], [0.8], [0.8], [0.8], [0.8], [0.8], [0.8], [0.8], [0.8], [0.8], [0.8], [0.8], [0.8], [0.8], [0.8], [0.8], [0.8], [0.8], [0.8], [0.8], [0.8], [0.8], [0.8], [0.8], [0.8], [0.8], [0.8], [0.8], [0.8], [0.8], [0.8], [0.8], [0.8], [0.8], [0.8], [0.8], [0.8], [0.8], [0.8], [0.8], [0.8], [0.8], [0.8], [0.8], [0.8], [0.8], [0.8], [0.8], [0.8], [0.8], [0.8], [0.8], [0.8], [0.8], [0.8], [0.8], [0.8], [0.8], [0.8], [0.8], [0.8], [0.8], [0.8], [0.8], [0.8], [0.8], [0.8], [0.8], [0.8], [0.8], [0.8], [0.8], [0.8], [0.8], [0.8], [0.8], [0.8], [0.8], [0.8], [0.8], [0.8], [0.8], [0.8], [0.8], [0.8], [0.8], [0.8], [0.8], [0.8], [0.8], [0.8], [0.8], [0.8], [0.8], [0.8], [0.8], [0.8], [0.8], [0.8], [0.8], [0.8], [0.8], [0.8], [0.8], [0.8], [0.8], [0.8], [0.8], [0.8], [0.8], [0.8], [0.8], [0.8], [0.8], [0.8], [0.8], [0.8], [0.8], [0.8], [0.8], [0.8], [0.8], [0.8], [0.8], [0.8], [0.8], [0.8], [0.8], [0.8], [0.8], [0.8], [0.8], [0.8], [0.8], [0.8], [0.8], [0.8], [0.8], [0.8], [0.8], [0.8], [0.8], [0.8], [0.8], [0.8], [0.8], [0.8], [0.8], [0.8], [0.8], [0.8], [0.8], [0.8], [0.8], [0.8], [0.8], [0.8], [0.8], [0.8], [0.8], [0.8], [0.8], [0.8], [0.8], [0.8], [0.8], [0.8], [0.8], [0.8], [0.8], [0.8], [0.8], [0.8], [0.8], [0.8], [0.8], [0.8], [0.8], [0.8], [0.8], [0.8], [0.8], [0.8], [0.8], [0.8], [0.8], [0.8], [0.8], [0.8], [0.8], [0.8], [0.8], [0.8], [0.8], [0.8], [0.8], [0.8], [0.8], [0.8], [0.8], [0.8], [0.8], [0.8], [0.8], [0.8], [0.8], [0.8], [0.8], [0.8], [0.8], [0.8], [0.8], [0.8], [0.8], [0.8], [0.8], [0.8], [0.8], [0.8], [0.8], [0.8], [0.8], [0.8], [0.8], [0.8], [0.8], [0.8], [0.8], [0.8], [0.8], [0.8], [0.8], [0.8], [0.8], [0.8], [0.8], [0.8], [0.8], [0.8], [0.8], [0.8], [0.8], [0.8], [0.8], [0.8], [0.8], [0.8], [0.8], [0.8], [0.8], [0.8], [0.8], [0.8], [0.8], [0.8], [0.8], [0.8], [0.8], [0.8], [0.8], [0.8], [0.8], [0.8], [0.8], [0.8], [0.8], [0.8], [0.8], [0.8], [0.8], [0.8], [0.8], [0.8], [0.8], [0.8], [0.8], [0.8], [0.8], [0.8], [0.8], [0.8], [0.8], [0.8], [0.8], [0.8], [0.8], [0.8], [0.8], [0.8], [0.8], [0.8], [0.8], [0.8], [0.8], [0.8], [0.8], [0.8], [0.8], [0.8], [0.8], [0.8], [0.8], [0.8], [0.8], [0.8], [0.8], [0.8], [0.8], [0.8], [0.8], [0.8], [0.8], [0.8], [0.8], [0.8], [0.8], [0.8], [0.8], [0.8], [0.8], [0.8], [0.8], [0.8], [0.8], [0.8], [0.8], [0.8], [0.8], [0.8], [0.8], [0.8], [0.8], [0.8], [0.8], [0.8], [0.8], [0.8], [0.8], [0.8], [0.8], [0.8], [0.8], [0.8], [0.8], [0.8], [0.8], [0.8], [0.8], [0.8], [0.8], [0.8], [0.8], [0.8], [0.8], [0.8], [0.8], [0.8], [0.8], [0.8], [0.8], [0.8], [0.8], [0.8], [0.8], [0.8], [0.8], [0.8], [0.8], [0.8], [0.8], [0.8], [0.8], [0.8], [0.8], [0.8], [0.8], [0.8], [0.8], [0.8], [0.8], [0.8], [0.8], [0.8], [0.8], [0.8], [0.8], [0.8], [0.8], [0.8], [0.8], [0.8], [0.8], [0.8], [0.8], [0.8], [0.8], [0.8], [0.8], [0.8], [0.8], [0.8], [0.8], [0.8], [0.8], [0.8], [0.8], [0.8], [0.8], [0.8], [0.8], [0.8], [0.8], [0.8], [0.8], [0.8], [0.8], [0.8], [0.8], [0.8], [0.8], [0.8], [0.8], [0.8], [0.8], [0.8], [0.8], [0.8], [0.8], [0.8], [0.8], [0.8], [0.8], [0.8], [0.8], [0.8], [0.8], [0.8], [0.8], [0.8], [0.8], [0.8], [0.8], [0.8], [0.8], [0.8], [0.8]]}, \"mode\": \"markers\", \"name\": \"Male\", \"x\": [0, 0, 0, 3, 0, 0, 0, 0, 0, 0, 0, 0, 0, 0, 0, 0, 0, 0, 0, 0, 0, 0, 0, 0, 0, 0, 6, 0, 0, 0, 0, 0, 0, 0, 0, 0, 0, 0, 0, 0, 0, 0, 0, 0, 0, 0, 0, 6, 0, 0, 0, 0, 0, 0, 0, 0, 0, 0, 0, 0, 0, 8, 0, 0, 10, 6, 0, 0, 0, 0, 0, 0, 0, 0, 0, 0, 0, 8, 8, 0, 0, 0, 0, 0, 0, 0, 0, 0, 0, 0, 0, 9, 0, 0, 0, 0, 0, 14, 0, 0, 14, 16, 15, 17, 15, 33, 15, 15, 15, 14, 14, 14, 15, 14, 14, 15, 14, 14, 14, 14, 14, 14, 15, 14, 14, 14, 14, 14, 14, 14, 14, 15, 15, 14, 33, 14, 17, 7, 14, 14, 14, 14, 14, 15, 15, 33, 15, 18, 15, 13, 14, 14, 15, 14, 14, 15, 14, 8, 14, 15, 17, 15, 14, 14, 15, 0, 14, 14, 14, 15, 23, 2, 15, 14, 33, 14, 14, 15, 14, 14, 33, 14, 14, 13, 14, 14, 14, 7, 14, 14, 15, 14, 14, 14, 14, 15, 15, 17, 15, 15, 26, 15, 14, 15, 14, 14, 14, 27, 14, 14, 7, 14, 15, 15, 14, 14, 15, 14, 15, 15, 14, 15, 14, 7, 14, 14, 14, 14, 15, 14, 6, 15, 17, 14, 14, 14, 14, 18, 14, 17, 14, 14, 15, 15, 14, 14, 14, 14, 14, 14, 11, 15, 14, 14, 14, 15, 29, 14, 14, 15, 14, 14, 15, 15, 15, 18, 15, 15, 14, 14, 14, 15, 15, 14, 14, 15, 14, 14, 14, 14, 17, 14, 18, 17, 15, 14, 15, 14, 15, 14, 14, 14, 14, 32, 14, 18, 14, 15, 14, 18, 15, 15, 14, 14, 14, 14, 22, 14, 14, 14, 7, 14, 14, 14, 14, 14, 14, 14, 14, 14, 6, 14, 14, 15, 15, 14, 14, 21, 14, 21, 14, 14, 14, 14, 15, 14, 15, 14, 15, 14, 15, 15, 15, 15, 15, 14, 14, 15, 15, 15, 14, 15, 14, 14, 14, 14, 14, 14], \"y\": [\"University <br>graduate\", \"University <br>graduate\", \"University <br>graduate\", \"University <br>graduate\", \"University <br>without <br>graduating\", \"University <br>without <br>graduating\", \"University <br>graduate\", \"University <br>graduate\", \"University <br>graduate\", \"University <br>without <br>graduating\", \"University <br>graduate\", \"University <br>graduate\", \"University <br>graduate\", \"Unfinished <br>Compulsory<br>Secondary <br>Education\", \"University <br>graduate\", \"University <br>without <br>graduating\", \"University <br>without <br>graduating\", \"Vocational <br>Training\", \"University <br>without <br>graduating\", \"University <br>without <br>graduating\", \"University <br>graduate\", \"Unfinished <br>Compulsory<br>Secondary <br>Education\", \"Unfinished <br>Compulsory<br>Secondary <br>Education\", \"Unfinished <br>Compulsory<br>Secondary <br>Education\", \"Unfinished <br>Compulsory<br>Secondary <br>Education\", \"Unfinished <br>Compulsory<br>Secondary <br>Education\", \"University <br>graduate\", \"Unfinished <br>Compulsory<br>Secondary <br>Education\", \"University <br>without <br>graduating\", \"University <br>graduate\", \"University <br>graduate\", \"University <br>graduate\", \"University <br>graduate\", \"University <br>without <br>graduating\", \"University <br>graduate\", \"University <br>without <br>graduating\", \"Unfinished <br>Compulsory<br>Secondary <br>Education\", \"Unfinished <br>Compulsory<br>Secondary <br>Education\", \"Unfinished <br>Compulsory<br>Secondary <br>Education\", \"Unfinished <br>Compulsory<br>Secondary <br>Education\", \"Unfinished <br>Compulsory<br>Secondary <br>Education\", \"Unfinished <br>Compulsory<br>Secondary <br>Education\", \"Unfinished <br>Compulsory<br>Secondary <br>Education\", \"Unfinished <br>Compulsory<br>Secondary <br>Education\", \"Unfinished <br>Compulsory<br>Secondary <br>Education\", \"University <br>graduate\", \"University <br>graduate\", \"University <br>without <br>graduating\", \"Unfinished <br>Compulsory<br>Secondary <br>Education\", \"Unfinished <br>Compulsory<br>Secondary <br>Education\", \"Unfinished <br>Compulsory<br>Secondary <br>Education\", \"Unfinished <br>Compulsory<br>Secondary <br>Education\", \"Unfinished <br>Compulsory<br>Secondary <br>Education\", \"Unfinished <br>Compulsory<br>Secondary <br>Education\", \"University <br>without <br>graduating\", \"University <br>without <br>graduating\", \"University <br>graduate\", \"University <br>graduate\", \"University <br>without <br>graduating\", \"University <br>without <br>graduating\", \"University <br>without <br>graduating\", \"Unfinished <br>Compulsory<br>Secondary <br>Education\", \"University <br>graduate\", \"University <br>graduate\", \"University <br>graduate\", \"University <br>graduate\", \"Vocational <br>Training\", \"University <br>graduate\", \"University <br>without <br>graduating\", \"University <br>graduate\", \"University <br>graduate\", \"University <br>graduate\", \"University <br>graduate\", \"University <br>without <br>graduating\", \"University <br>without <br>graduating\", \"University <br>without <br>graduating\", \"Unfinished <br>Compulsory<br>Secondary <br>Education\", \"Unfinished <br>Compulsory<br>Secondary <br>Education\", \"Unfinished <br>Compulsory<br>Secondary <br>Education\", \"Unfinished <br>Compulsory<br>Secondary <br>Education\", \"Unfinished <br>Compulsory<br>Secondary <br>Education\", \"University <br>without <br>graduating\", \"University <br>graduate\", \"Vocational <br>Training\", \"University <br>without <br>graduating\", \"Unfinished <br>Compulsory<br>Secondary <br>Education\", \"Unfinished <br>Compulsory<br>Secondary <br>Education\", \"Unfinished <br>Compulsory<br>Secondary <br>Education\", \"Unfinished <br>Compulsory<br>Secondary <br>Education\", \"Unfinished <br>Compulsory<br>Secondary <br>Education\", \"Unfinished <br>Compulsory<br>Secondary <br>Education\", \"Unfinished <br>Compulsory<br>Secondary <br>Education\", \"Unfinished <br>Compulsory<br>Secondary <br>Education\", \"Unfinished <br>Compulsory<br>Secondary <br>Education\", \"Unfinished <br>Compulsory<br>Secondary <br>Education\", \"University <br>without <br>graduating\", \"University <br>without <br>graduating\", \"Vocational <br>Training\", \"University <br>without <br>graduating\", \"University <br>without <br>graduating\", \"University <br>graduate\", \"University <br>without <br>graduating\", \"University <br>graduate\", \"University <br>graduate\", \"University <br>graduate\", \"University <br>graduate\", \"University <br>graduate\", \"University <br>graduate\", \"University <br>without <br>graduating\", \"University <br>without <br>graduating\", \"University <br>graduate\", \"University <br>graduate\", \"University <br>graduate\", \"University <br>graduate\", \"University <br>graduate\", \"University <br>graduate\", \"University <br>without <br>graduating\", \"University <br>graduate\", \"University <br>graduate\", \"University <br>graduate\", \"University <br>graduate\", \"University <br>graduate\", \"Vocational <br>Training\", \"University <br>without <br>graduating\", \"University <br>without <br>graduating\", \"University <br>graduate\", \"University <br>graduate\", \"University <br>without <br>graduating\", \"Completed <br>Compulsory<br>Secondary <br>Education\", \"University <br>graduate\", \"University <br>graduate\", \"University <br>graduate\", \"Completed <br>Compulsory<br>Secondary <br>Education\", \"Vocational <br>Training\", \"University <br>without <br>graduating\", \"University <br>graduate\", \"University <br>graduate\", \"University <br>graduate\", \"University <br>graduate\", \"University <br>graduate\", \"University <br>graduate\", \"University <br>graduate\", \"Vocational <br>Training\", \"University <br>graduate\", \"Completed <br>Compulsory<br>Secondary <br>Education\", \"Primary <br>education\", \"University <br>graduate\", \"University <br>graduate\", \"University <br>graduate\", \"University <br>graduate\", \"University <br>without <br>graduating\", \"University <br>graduate\", \"University <br>without <br>graduating\", \"University <br>graduate\", \"University <br>without <br>graduating\", \"University <br>graduate\", \"Vocational <br>Training\", \"University <br>graduate\", \"University <br>without <br>graduating\", \"Completed <br>Compulsory<br>Secondary <br>Education\", \"University <br>without <br>graduating\", \"University <br>graduate\", \"University <br>graduate\", \"University <br>graduate\", \"Completed <br>Compulsory<br>Secondary <br>Education\", \"University <br>without <br>graduating\", \"University <br>without <br>graduating\", \"University <br>graduate\", \"University <br>graduate\", \"University <br>graduate\", \"University <br>graduate\", \"University <br>without <br>graduating\", \"Completed <br>Compulsory<br>Secondary <br>Education\", \"Completed <br>Compulsory<br>Secondary <br>Education\", \"University <br>without <br>graduating\", \"University <br>graduate\", \"University <br>graduate\", \"University <br>graduate\", \"University <br>graduate\", \"University <br>graduate\", \"Primary <br>education\", \"University <br>graduate\", \"University <br>graduate\", \"University <br>without <br>graduating\", \"Completed <br>Compulsory<br>Secondary <br>Education\", \"University <br>graduate\", \"University <br>graduate\", \"University <br>graduate\", \"University <br>graduate\", \"University <br>graduate\", \"University <br>graduate\", \"University <br>graduate\", \"University <br>without <br>graduating\", \"University <br>graduate\", \"University <br>graduate\", \"University <br>graduate\", \"University <br>graduate\", \"University <br>without <br>graduating\", \"University <br>graduate\", \"University <br>graduate\", \"University <br>graduate\", \"University <br>graduate\", \"University <br>graduate\", \"University <br>graduate\", \"University <br>graduate\", \"University <br>without <br>graduating\", \"University <br>graduate\", \"University <br>without <br>graduating\", \"University <br>graduate\", \"University <br>graduate\", \"University <br>graduate\", \"University <br>graduate\", \"University <br>graduate\", \"University <br>graduate\", \"University <br>graduate\", \"Vocational <br>Training\", \"University <br>graduate\", \"University <br>without <br>graduating\", \"University <br>graduate\", \"University <br>graduate\", \"University <br>graduate\", \"University <br>graduate\", \"University <br>graduate\", \"Vocational <br>Training\", \"University <br>without <br>graduating\", \"University <br>graduate\", \"University <br>graduate\", \"Completed <br>Compulsory<br>Secondary <br>Education\", \"University <br>without <br>graduating\", \"University <br>graduate\", \"University <br>graduate\", \"University <br>graduate\", \"University <br>graduate\", \"Vocational <br>Training\", \"University <br>graduate\", \"University <br>graduate\", \"University <br>without <br>graduating\", \"University <br>without <br>graduating\", \"University <br>graduate\", \"University <br>graduate\", \"University <br>graduate\", \"Vocational <br>Training\", \"University <br>graduate\", \"University <br>graduate\", \"University <br>without <br>graduating\", \"University <br>graduate\", \"University <br>graduate\", \"University <br>graduate\", \"Unfinished <br>Compulsory<br>Secondary <br>Education\", \"University <br>graduate\", \"University <br>without <br>graduating\", \"University <br>graduate\", \"University <br>without <br>graduating\", \"University <br>graduate\", \"University <br>graduate\", \"University <br>graduate\", \"University <br>graduate\", \"University <br>without <br>graduating\", \"University <br>graduate\", \"University <br>graduate\", \"University <br>graduate\", \"University <br>graduate\", \"University <br>graduate\", \"University <br>graduate\", \"University <br>graduate\", \"University <br>graduate\", \"University <br>graduate\", \"University <br>graduate\", \"Vocational <br>Training\", \"Vocational <br>Training\", \"University <br>graduate\", \"University <br>graduate\", \"University <br>graduate\", \"Vocational <br>Training\", \"University <br>graduate\", \"University <br>graduate\", \"University <br>graduate\", \"University <br>graduate\", \"Completed <br>Compulsory<br>Secondary <br>Education\", \"University <br>graduate\", \"University <br>graduate\", \"Completed <br>Compulsory<br>Secondary <br>Education\", \"University <br>graduate\", \"Completed <br>Compulsory<br>Secondary <br>Education\", \"University <br>graduate\", \"University <br>graduate\", \"University <br>graduate\", \"University <br>graduate\", \"Completed <br>Compulsory<br>Secondary <br>Education\", \"University <br>graduate\", \"University <br>graduate\", \"Primary <br>education\", \"University <br>graduate\", \"University <br>graduate\", \"University <br>graduate\", \"University <br>graduate\", \"Completed <br>Compulsory<br>Secondary <br>Education\", \"University <br>graduate\", \"University <br>graduate\", \"University <br>without <br>graduating\", \"University <br>graduate\", \"University <br>graduate\", \"University <br>graduate\", \"Vocational <br>Training\", \"University <br>graduate\", \"University <br>graduate\", \"University <br>graduate\", \"University <br>graduate\", \"University <br>graduate\", \"Unfinished <br>Compulsory<br>Secondary <br>Education\", \"University <br>graduate\", \"University <br>without <br>graduating\", \"University <br>graduate\", \"University <br>graduate\", \"University <br>graduate\", \"University <br>without <br>graduating\", \"Completed <br>Compulsory<br>Secondary <br>Education\", \"University <br>graduate\", \"Vocational <br>Training\", \"University <br>without <br>graduating\", \"Vocational <br>Training\", \"University <br>graduate\", \"University <br>graduate\", \"University <br>graduate\", \"Completed <br>Compulsory<br>Secondary <br>Education\", \"University <br>graduate\", \"University <br>graduate\", \"University <br>without <br>graduating\", \"University <br>graduate\", \"University <br>graduate\", \"University <br>without <br>graduating\", \"University <br>without <br>graduating\", \"University <br>graduate\", \"University <br>graduate\", \"University <br>without <br>graduating\", \"University <br>graduate\", \"University <br>graduate\", \"University <br>graduate\", \"University <br>graduate\", \"University <br>without <br>graduating\", \"University <br>graduate\", \"University <br>graduate\", \"University <br>graduate\", \"University <br>graduate\", \"University <br>without <br>graduating\", \"University <br>without <br>graduating\", \"Completed <br>Compulsory<br>Secondary <br>Education\", \"University <br>graduate\", \"University <br>graduate\", \"University <br>graduate\", \"Unfinished <br>Compulsory<br>Secondary <br>Education\", \"University <br>graduate\", \"University <br>without <br>graduating\", \"University <br>graduate\", \"University <br>graduate\", \"University <br>graduate\", \"University <br>graduate\", \"University <br>graduate\"], \"type\": \"scatter\", \"uid\": \"d4e8c845-efab-4f4e-8997-fc24198a06f1\"}, {\"marker\": {\"color\": \"rgb(254,224,139)\", \"opacity\": [[0.8], [0.8], [0.8], [0.8], [0.8], [0.8], [0.8], [0.8], [0.8], [0.8], [0.8], [0.8], [0.8], [0.8], [0.8], [0.8], [0.8], [0.8], [0.8], [0.8], [0.8], [0.8], [0.8], [0.8], [0.8], [0.8], [0.8], [0.8], [0.8], [0.8], [0.8], [0.8], [0.8], [0.8], [0.8], [0.8], [0.8], [0.8], [0.8], [0.8], [0.8], [0.8], [0.8], [0.8], [0.8], [0.8], [0.8], [0.8], [0.8], [0.8], [0.8], [0.8], [0.8], [0.8], [0.8], [0.8], [0.8], [0.8], [0.8], [0.8], [0.8], [0.8], [0.8], [0.8], [0.8], [0.8], [0.8], [0.8], [0.8], [0.8], [0.8], [0.8], [0.8], [0.8], [0.8], [0.8], [0.8], [0.8], [0.8], [0.8], [0.8], [0.8], [0.8], [0.8], [0.8], [0.8], [0.8], [0.8], [0.8], [0.8], [0.8], [0.8], [0.8], [0.8], [0.8], [0.8], [0.8], [0.8], [0.8], [0.8], [0.8], [0.8], [0.8], [0.8], [0.8], [0.8], [0.8], [0.8], [0.8], [0.8], [0.8], [0.8], [0.8], [0.8], [0.8], [0.8], [0.8], [0.8], [0.8], [0.8], [0.8], [0.8], [0.8], [0.8], [0.8], [0.8], [0.8], [0.8], [0.8], [0.8], [0.8], [0.8], [0.8], [0.8], [0.8], [0.8], [0.8], [0.8], [0.8], [0.8], [0.8], [0.8], [0.8], [0.8], [0.8], [0.8], [0.8], [0.8], [0.8], [0.8], [0.8], [0.8], [0.8], [0.8], [0.8], [0.8], [0.8], [0.8], [0.8], [0.8], [0.8], [0.8], [0.8], [0.8], [0.8], [0.8], [0.8], [0.8], [0.8], [0.8], [0.8], [0.8], [0.8], [0.8], [0.8], [0.8], [0.8], [0.8], [0.8], [0.8], [0.8], [0.8], [0.8], [0.8], [0.8], [0.8], [0.8], [0.8], [0.8], [0.8], [0.8], [0.8], [0.8], [0.8], [0.8], [0.8], [0.8], [0.8], [0.8], [0.8], [0.8], [0.8], [0.8], [0.8], [0.8], [0.8], [0.8], [0.8], [0.8], [0.8], [0.8], [0.8], [0.8], [0.8], [0.8], [0.8], [0.8], [0.8], [0.8], [0.8], [0.8], [0.8], [0.8], [0.8], [0.8], [0.8], [0.8], [0.8], [0.8], [0.8], [0.8], [0.8], [0.8], [0.8], [0.8], [0.8], [0.8], [0.8], [0.8], [0.8], [0.8], [0.8], [0.8], [0.8], [0.8], [0.8], [0.8], [0.8], [0.8], [0.8], [0.8], [0.8], [0.8], [0.8], [0.8], [0.8], [0.8], [0.8], [0.8], [0.8], [0.8], [0.8], [0.8], [0.8], [0.8], [0.8], [0.8], [0.8], [0.8], [0.8], [0.8], [0.8], [0.8], [0.8], [0.8], [0.8], [0.8], [0.8], [0.8], [0.8], [0.8], [0.8], [0.8], [0.8], [0.8], [0.8], [0.8], [0.8], [0.8], [0.8], [0.8], [0.8], [0.8], [0.8], [0.8], [0.8], [0.8], [0.8], [0.8], [0.8], [0.8], [0.8], [0.8], [0.8], [0.8], [0.8], [0.8], [0.8], [0.8], [0.8], [0.8], [0.8], [0.8], [0.8], [0.8], [0.8], [0.8], [0.8], [0.8], [0.8], [0.8], [0.8], [0.8], [0.8], [0.8], [0.8], [0.8], [0.8], [0.8], [0.8], [0.8], [0.8], [0.8], [0.8], [0.8], [0.8], [0.8], [0.8], [0.8], [0.8], [0.8], [0.8], [0.8], [0.8], [0.8], [0.8], [0.8], [0.8], [0.8], [0.8], [0.8], [0.8], [0.8], [0.8], [0.8], [0.8], [0.8], [0.8], [0.8], [0.8], [0.8], [0.8], [0.8], [0.8], [0.8], [0.8], [0.8], [0.8], [0.8], [0.8], [0.8], [0.8], [0.8], [0.8], [0.8], [0.8], [0.8], [0.8], [0.8], [0.8], [0.8], [0.8], [0.8], [0.8], [0.8], [0.8], [0.8], [0.8], [0.8], [0.8], [0.8], [0.8], [0.8], [0.8], [0.8], [0.8], [0.8], [0.8], [0.8], [0.8], [0.8], [0.8], [0.8], [0.8], [0.8], [0.8], [0.8], [0.8], [0.8], [0.8], [0.8], [0.8], [0.8], [0.8], [0.8], [0.8], [0.8], [0.8], [0.8], [0.8], [0.8], [0.8], [0.8], [0.8], [0.8], [0.8], [0.8], [0.8], [0.8], [0.8], [0.8], [0.8], [0.8], [0.8], [0.8], [0.8], [0.8], [0.8], [0.8], [0.8], [0.8], [0.8], [0.8], [0.8], [0.8], [0.8], [0.8], [0.8], [0.8], [0.8], [0.8], [0.8], [0.8], [0.8], [0.8], [0.8], [0.8], [0.8], [0.8], [0.8], [0.8], [0.8], [0.8], [0.8], [0.8], [0.8], [0.8], [0.8], [0.8], [0.8], [0.8], [0.8], [0.8], [0.8], [0.8], [0.8], [0.8], [0.8], [0.8], [0.8], [0.8], [0.8], [0.8], [0.8], [0.8], [0.8], [0.8], [0.8], [0.8], [0.8], [0.8], [0.8], [0.8], [0.8], [0.8], [0.8], [0.8], [0.8], [0.8], [0.8], [0.8], [0.8], [0.8], [0.8], [0.8], [0.8], [0.8], [0.8], [0.8], [0.8], [0.8], [0.8], [0.8], [0.8], [0.8], [0.8], [0.8], [0.8], [0.8], [0.8], [0.8], [0.8], [0.8], [0.8], [0.8], [0.8], [0.8], [0.8], [0.8], [0.8], [0.8], [0.8], [0.8], [0.8], [0.8], [0.8], [0.8], [0.8], [0.8], [0.8], [0.8], [0.8], [0.8], [0.8], [0.8], [0.8], [0.8], [0.8], [0.8], [0.8], [0.8], [0.8], [0.8], [0.8], [0.8], [0.8], [0.8], [0.8], [0.8], [0.8], [0.8], [0.8], [0.8], [0.8], [0.8], [0.8], [0.8], [0.8], [0.8], [0.8], [0.8], [0.8], [0.8], [0.8], [0.8], [0.8], [0.8], [0.8], [0.8], [0.8], [0.8], [0.8], [0.8], [0.8], [0.8], [0.8], [0.8], [0.8], [0.8], [0.8], [0.8], [0.8], [0.8], [0.8], [0.8], [0.8], [0.8], [0.8], [0.8], [0.8], [0.8], [0.8], [0.8], [0.8], [0.8], [0.8], [0.8], [0.8], [0.8], [0.8], [0.8], [0.8], [0.8], [0.8], [0.8], [0.8], [0.8], [0.8], [0.8], [0.8], [0.8], [0.8], [0.8], [0.8], [0.8], [0.8], [0.8], [0.8], [0.8], [0.8], [0.8], [0.8], [0.8], [0.8], [0.8], [0.8], [0.8], [0.8], [0.8], [0.8], [0.8], [0.8], [0.8], [0.8], [0.8], [0.8], [0.8], [0.8], [0.8], [0.8], [0.8], [0.8], [0.8], [0.8], [0.8], [0.8], [0.8], [0.8], [0.8], [0.8], [0.8], [0.8], [0.8], [0.8], [0.8], [0.8], [0.8], [0.8], [0.8], [0.8], [0.8], [0.8], [0.8], [0.8], [0.8], [0.8], [0.8], [0.8], [0.8], [0.8], [0.8], [0.8], [0.8], [0.8], [0.8], [0.8], [0.8], [0.8], [0.8], [0.8], [0.8], [0.8], [0.8], [0.8], [0.8], [0.8], [0.8], [0.8], [0.8], [0.8], [0.8], [0.8], [0.8], [0.8], [0.8], [0.8], [0.8], [0.8], [0.8], [0.8], [0.8], [0.8], [0.8], [0.8], [0.8], [0.8], [0.8], [0.8], [0.8], [0.8], [0.8], [0.8], [0.8], [0.8], [0.8], [0.8], [0.8], [0.8], [0.8], [0.8], [0.8], [0.8], [0.8], [0.8], [0.8], [0.8], [0.8], [0.8], [0.8], [0.8], [0.8], [0.8], [0.8], [0.8], [0.8], [0.8], [0.8], [0.8], [0.8], [0.8], [0.8], [0.8], [0.8], [0.8], [0.8], [0.8], [0.8], [0.8], [0.8], [0.8], [0.8], [0.8], [0.8], [0.8], [0.8], [0.8], [0.8]]}, \"mode\": \"markers\", \"name\": \"Female\", \"x\": [0, 0, 0, 1, 3, 0, 0, 0, 0, 0, 0, 0, 0, 4, 5, 0, 0, 0, 0, 0, 0, 0, 0, 0, 0, 0, 0, 0, 0, 0, 0, 0, 0, 0, 0, 0, 0, 0, 6, 6, 6, 0, 0, 0, 0, 0, 6, 0, 0, 0, 0, 0, 0, 0, 0, 0, 0, 0, 0, 0, 0, 0, 0, 0, 0, 0, 0, 0, 0, 6, 0, 0, 0, 0, 0, 0, 0, 0, 0, 0, 0, 0, 0, 0, 0, 6, 0, 0, 6, 0, 6, 6, 6, 6, 6, 6, 0, 0, 0, 0, 0, 0, 0, 0, 0, 0, 0, 0, 0, 11, 0, 0, 0, 13, 0, 0, 6, 0, 0, 0, 0, 0, 0, 0, 0, 0, 0, 0, 0, 0, 0, 0, 0, 0, 0, 0, 0, 0, 0, 14, 33, 14, 14, 14, 14, 15, 15, 14, 14, 15, 15, 14, 14, 14, 14, 14, 14, 33, 14, 14, 14, 18, 33, 33, 15, 14, 14, 15, 15, 15, 14, 15, 14, 14, 14, 15, 14, 14, 14, 33, 14, 15, 14, 15, 14, 12, 14, 7, 14, 15, 14, 0, 15, 14, 15, 14, 14, 14, 14, 14, 14, 15, 21, 14, 14, 33, 14, 14, 14, 33, 14, 14, 14, 14, 14, 33, 24, 14, 14, 15, 15, 14, 14, 14, 14, 14, 7, 14, 14, 14, 14, 33, 14, 14, 15, 14, 14, 33, 25, 14, 33, 14, 33, 14, 15, 14, 14, 14, 15, 14, 15, 15, 18, 33, 15, 14, 33, 17, 14, 14, 33, 15, 15, 14, 0, 14, 14, 14, 14, 15, 14, 14, 14, 15, 18, 14, 15, 17, 0, 15, 33, 14, 15, 15, 14, 14, 15, 15, 14, 14, 15, 33, 14, 14, 33, 14, 14, 20, 14, 14, 30, 15, 14, 14, 14, 14, 14, 14, 14, 15, 14, 14, 14, 18, 14, 14, 14, 14, 14, 14, 33, 33, 33, 14, 31, 14, 14, 33, 14, 14, 14, 14, 21, 14, 15, 14, 14, 14, 33, 14, 14, 14, 14, 17, 14, 33, 14, 33, 14, 33, 14, 14, 31, 14, 7, 33, 14, 14, 14, 14, 14, 14, 15, 33, 14, 14, 14, 14, 14, 14, 14, 14, 14, 14, 19, 14, 33, 15, 14, 14, 33, 33, 14, 15, 33, 14, 14, 15, 15, 14, 15, 14, 14, 33, 14, 15, 15, 14, 15, 15, 15, 15, 14], \"y\": [\"University <br>graduate\", \"University <br>without <br>graduating\", \"University <br>graduate\", \"University <br>graduate\", \"University <br>graduate\", \"University <br>graduate\", \"University <br>graduate\", \"University <br>graduate\", \"University <br>graduate\", \"Completed <br>Compulsory<br>Secondary <br>Education\", \"Completed <br>Compulsory<br>Secondary <br>Education\", \"Vocational <br>Training\", \"University <br>without <br>graduating\", \"University <br>graduate\", \"University <br>graduate\", \"University <br>graduate\", \"University <br>graduate\", \"University <br>without <br>graduating\", \"University <br>graduate\", \"University <br>without <br>graduating\", \"Completed <br>Compulsory<br>Secondary <br>Education\", \"Vocational <br>Training\", \"University <br>graduate\", \"University <br>without <br>graduating\", \"Vocational <br>Training\", \"Primary <br>education\", \"University <br>without <br>graduating\", \"University <br>graduate\", \"Unfinished <br>Compulsory<br>Secondary <br>Education\", \"Unfinished <br>Compulsory<br>Secondary <br>Education\", \"Unfinished <br>Compulsory<br>Secondary <br>Education\", \"Unfinished <br>Compulsory<br>Secondary <br>Education\", \"Unfinished <br>Compulsory<br>Secondary <br>Education\", \"Unfinished <br>Compulsory<br>Secondary <br>Education\", \"University <br>graduate\", \"University <br>graduate\", \"Vocational <br>Training\", \"University <br>graduate\", \"University <br>without <br>graduating\", \"University <br>without <br>graduating\", \"University <br>without <br>graduating\", \"University <br>graduate\", \"University <br>graduate\", \"University <br>graduate\", \"University <br>without <br>graduating\", \"University <br>graduate\", \"University <br>without <br>graduating\", \"University <br>graduate\", \"University <br>graduate\", \"University <br>graduate\", \"University <br>without <br>graduating\", \"University <br>without <br>graduating\", \"University <br>without <br>graduating\", \"University <br>without <br>graduating\", \"University <br>without <br>graduating\", \"University <br>without <br>graduating\", \"University <br>without <br>graduating\", \"University <br>without <br>graduating\", \"Unfinished <br>Compulsory<br>Secondary <br>Education\", \"Unfinished <br>Compulsory<br>Secondary <br>Education\", \"Unfinished <br>Compulsory<br>Secondary <br>Education\", \"University <br>graduate\", \"University <br>graduate\", \"Unfinished <br>Compulsory<br>Secondary <br>Education\", \"Unfinished <br>Compulsory<br>Secondary <br>Education\", \"Unfinished <br>Compulsory<br>Secondary <br>Education\", \"Unfinished <br>Compulsory<br>Secondary <br>Education\", \"Unfinished <br>Compulsory<br>Secondary <br>Education\", \"Unfinished <br>Compulsory<br>Secondary <br>Education\", \"University <br>without <br>graduating\", \"Unfinished <br>Compulsory<br>Secondary <br>Education\", \"University <br>graduate\", \"University <br>without <br>graduating\", \"University <br>graduate\", \"Vocational <br>Training\", \"University <br>graduate\", \"University <br>graduate\", \"University <br>graduate\", \"University <br>graduate\", \"University <br>graduate\", \"Vocational <br>Training\", \"University <br>graduate\", \"Vocational <br>Training\", \"Vocational <br>Training\", \"Completed <br>Compulsory<br>Secondary <br>Education\", \"University <br>without <br>graduating\", \"University <br>graduate\", \"University <br>graduate\", \"University <br>graduate\", \"Completed <br>Compulsory<br>Secondary <br>Education\", \"University <br>without <br>graduating\", \"University <br>without <br>graduating\", \"University <br>without <br>graduating\", \"University <br>without <br>graduating\", \"University <br>without <br>graduating\", \"University <br>without <br>graduating\", \"University <br>graduate\", \"University <br>graduate\", \"University <br>graduate\", \"University <br>graduate\", \"University <br>graduate\", \"University <br>graduate\", \"University <br>graduate\", \"University <br>graduate\", \"University <br>graduate\", \"University <br>graduate\", \"University <br>graduate\", \"University <br>graduate\", \"University <br>graduate\", \"University <br>without <br>graduating\", \"University <br>graduate\", \"University <br>without <br>graduating\", \"University <br>graduate\", \"University <br>graduate\", \"University <br>without <br>graduating\", \"Vocational <br>Training\", \"University <br>without <br>graduating\", \"University <br>without <br>graduating\", \"Unfinished <br>Compulsory<br>Secondary <br>Education\", \"Unfinished <br>Compulsory<br>Secondary <br>Education\", \"Unfinished <br>Compulsory<br>Secondary <br>Education\", \"University <br>graduate\", \"Completed <br>Compulsory<br>Secondary <br>Education\", \"Vocational <br>Training\", \"Unfinished <br>Compulsory<br>Secondary <br>Education\", \"Unfinished <br>Compulsory<br>Secondary <br>Education\", \"Unfinished <br>Compulsory<br>Secondary <br>Education\", \"Unfinished <br>Compulsory<br>Secondary <br>Education\", \"Unfinished <br>Compulsory<br>Secondary <br>Education\", \"Unfinished <br>Compulsory<br>Secondary <br>Education\", \"Unfinished <br>Compulsory<br>Secondary <br>Education\", \"Unfinished <br>Compulsory<br>Secondary <br>Education\", \"Unfinished <br>Compulsory<br>Secondary <br>Education\", \"Unfinished <br>Compulsory<br>Secondary <br>Education\", \"Unfinished <br>Compulsory<br>Secondary <br>Education\", \"Unfinished <br>Compulsory<br>Secondary <br>Education\", \"University <br>graduate\", \"University <br>without <br>graduating\", \"University <br>without <br>graduating\", \"University <br>without <br>graduating\", \"Vocational <br>Training\", \"University <br>graduate\", \"University <br>without <br>graduating\", \"University <br>graduate\", \"University <br>graduate\", \"University <br>graduate\", \"University <br>graduate\", \"Primary <br>education\", \"University <br>graduate\", \"University <br>graduate\", \"University <br>graduate\", \"University <br>graduate\", \"University <br>graduate\", \"University <br>without <br>graduating\", \"Completed <br>Compulsory<br>Secondary <br>Education\", \"University <br>graduate\", \"University <br>without <br>graduating\", \"Completed <br>Compulsory<br>Secondary <br>Education\", \"University <br>graduate\", \"University <br>graduate\", \"Vocational <br>Training\", \"University <br>graduate\", \"University <br>graduate\", \"University <br>graduate\", \"University <br>graduate\", \"University <br>without <br>graduating\", \"University <br>graduate\", \"University <br>graduate\", \"University <br>graduate\", \"University <br>graduate\", \"University <br>graduate\", \"University <br>graduate\", \"University <br>graduate\", \"University <br>graduate\", \"University <br>graduate\", \"University <br>graduate\", \"University <br>graduate\", \"University <br>graduate\", \"Completed <br>Compulsory<br>Secondary <br>Education\", \"University <br>without <br>graduating\", \"University <br>graduate\", \"University <br>graduate\", \"Unfinished <br>Compulsory<br>Secondary <br>Education\", \"University <br>graduate\", \"University <br>graduate\", \"University <br>graduate\", \"Primary <br>education\", \"Vocational <br>Training\", \"University <br>graduate\", \"University <br>graduate\", \"Vocational <br>Training\", \"University <br>graduate\", \"University <br>graduate\", \"Vocational <br>Training\", \"University <br>graduate\", \"University <br>graduate\", \"University <br>graduate\", \"University <br>graduate\", \"University <br>graduate\", \"Primary <br>education\", \"University <br>graduate\", \"Completed <br>Compulsory<br>Secondary <br>Education\", \"University <br>graduate\", \"Vocational <br>Training\", \"Primary <br>education\", \"University <br>without <br>graduating\", \"University <br>graduate\", \"University <br>graduate\", \"University <br>graduate\", \"Completed <br>Compulsory<br>Secondary <br>Education\", \"University <br>graduate\", \"University <br>without <br>graduating\", \"Completed <br>Compulsory<br>Secondary <br>Education\", \"University <br>graduate\", \"University <br>graduate\", \"University <br>graduate\", \"University <br>graduate\", \"University <br>graduate\", \"University <br>without <br>graduating\", \"University <br>without <br>graduating\", \"University <br>graduate\", \"University <br>without <br>graduating\", \"University <br>graduate\", \"University <br>graduate\", \"University <br>graduate\", \"Completed <br>Compulsory<br>Secondary <br>Education\", \"University <br>without <br>graduating\", \"University <br>graduate\", \"University <br>graduate\", \"University <br>graduate\", \"University <br>graduate\", \"University <br>graduate\", \"Vocational <br>Training\", \"University <br>graduate\", \"University <br>graduate\", \"University <br>graduate\", \"University <br>graduate\", \"University <br>graduate\", \"University <br>graduate\", \"University <br>graduate\", \"Completed <br>Compulsory<br>Secondary <br>Education\", \"University <br>without <br>graduating\", \"Completed <br>Compulsory<br>Secondary <br>Education\", \"University <br>graduate\", \"University <br>graduate\", \"University <br>graduate\", \"University <br>without <br>graduating\", \"University <br>graduate\", \"University <br>graduate\", \"Primary <br>education\", \"University <br>graduate\", \"Completed <br>Compulsory<br>Secondary <br>Education\", \"University <br>without <br>graduating\", \"Completed <br>Compulsory<br>Secondary <br>Education\", \"University <br>graduate\", \"Completed <br>Compulsory<br>Secondary <br>Education\", \"University <br>without <br>graduating\", \"University <br>graduate\", \"Completed <br>Compulsory<br>Secondary <br>Education\", \"University <br>graduate\", \"Primary <br>education\", \"University <br>graduate\", \"University <br>graduate\", \"University <br>graduate\", \"University <br>without <br>graduating\", \"University <br>graduate\", \"Completed <br>Compulsory<br>Secondary <br>Education\", \"University <br>without <br>graduating\", \"University <br>graduate\", \"University <br>graduate\", \"University <br>graduate\", \"University <br>without <br>graduating\", \"Completed <br>Compulsory<br>Secondary <br>Education\", \"University <br>graduate\", \"University <br>graduate\", \"University <br>without <br>graduating\", \"University <br>graduate\", \"Vocational <br>Training\", \"University <br>without <br>graduating\", \"University <br>graduate\", \"Completed <br>Compulsory<br>Secondary <br>Education\", \"Primary <br>education\", \"University <br>graduate\", \"University <br>graduate\", \"University <br>graduate\", \"University <br>graduate\", \"University <br>graduate\", \"University <br>graduate\", \"University <br>without <br>graduating\", \"University <br>graduate\", \"University <br>graduate\", \"Vocational <br>Training\", \"University <br>without <br>graduating\", \"University <br>without <br>graduating\", \"Primary <br>education\", \"University <br>without <br>graduating\", \"University <br>graduate\", \"Completed <br>Compulsory<br>Secondary <br>Education\", \"University <br>graduate\", \"University <br>without <br>graduating\", \"University <br>graduate\", \"University <br>graduate\", \"University <br>graduate\", \"University <br>graduate\", \"Vocational <br>Training\", \"Unfinished <br>Compulsory<br>Secondary <br>Education\", \"University <br>without <br>graduating\", \"University <br>graduate\", \"University <br>graduate\", \"University <br>graduate\", \"University <br>graduate\", \"Completed <br>Compulsory<br>Secondary <br>Education\", \"University <br>without <br>graduating\", \"University <br>without <br>graduating\", \"University <br>graduate\", \"University <br>graduate\", \"University <br>graduate\", \"University <br>graduate\", \"University <br>graduate\", \"Completed <br>Compulsory<br>Secondary <br>Education\", \"University <br>without <br>graduating\", \"University <br>without <br>graduating\", \"University <br>graduate\", \"University <br>without <br>graduating\", \"University <br>graduate\", \"University <br>graduate\", \"University <br>graduate\", \"Completed <br>Compulsory<br>Secondary <br>Education\", \"University <br>graduate\", \"University <br>graduate\", \"University <br>graduate\", \"University <br>graduate\", \"University <br>graduate\", \"University <br>graduate\", \"University <br>graduate\", \"University <br>graduate\", \"Completed <br>Compulsory<br>Secondary <br>Education\", \"Unfinished <br>Compulsory<br>Secondary <br>Education\", \"University <br>without <br>graduating\", \"Vocational <br>Training\", \"University <br>without <br>graduating\", \"University <br>without <br>graduating\", \"Completed <br>Compulsory<br>Secondary <br>Education\", \"University <br>without <br>graduating\", \"University <br>graduate\", \"University <br>without <br>graduating\", \"University <br>without <br>graduating\", \"Primary <br>education\", \"University <br>graduate\", \"Unfinished <br>Compulsory<br>Secondary <br>Education\", \"University <br>graduate\", \"University <br>graduate\", \"University <br>graduate\", \"University <br>without <br>graduating\", \"University <br>without <br>graduating\", \"Primary <br>education\", \"University <br>graduate\", \"University <br>graduate\", \"University <br>graduate\", \"University <br>graduate\", \"University <br>without <br>graduating\", \"University <br>graduate\", \"University <br>graduate\", \"Vocational <br>Training\", \"University <br>graduate\", \"University <br>graduate\", \"University <br>graduate\", \"University <br>graduate\", \"Completed <br>Compulsory<br>Secondary <br>Education\", \"University <br>graduate\", \"University <br>graduate\", \"University <br>graduate\", \"University <br>graduate\", \"University <br>graduate\", \"University <br>graduate\", \"Completed <br>Compulsory<br>Secondary <br>Education\", \"University <br>without <br>graduating\", \"University <br>graduate\", \"University <br>graduate\", \"University <br>graduate\", \"Vocational <br>Training\", \"University <br>graduate\", \"Vocational <br>Training\", \"University <br>graduate\", \"University <br>graduate\", \"University <br>without <br>graduating\", \"University <br>graduate\", \"University <br>without <br>graduating\", \"University <br>graduate\", \"University <br>graduate\", \"University <br>without <br>graduating\", \"University <br>graduate\", \"University <br>graduate\", \"Completed <br>Compulsory<br>Secondary <br>Education\", \"University <br>without <br>graduating\", \"University <br>graduate\", \"University <br>graduate\", \"University <br>graduate\", \"University <br>graduate\", \"University <br>graduate\", \"University <br>graduate\", \"University <br>graduate\", \"University <br>without <br>graduating\"], \"type\": \"scatter\", \"uid\": \"23122c56-62da-4ed4-9b2d-f77ebe69bbd8\"}, {\"marker\": {\"color\": \"rgb(244,109,67)\", \"opacity\": [[0.8], [0.8], [0.8], [0.8], [0.8], [0.8], [0.8], [0.8], [0.8], [0.8], [0.8], [0.8], [0.8], [0.8], [0.8], [0.8], [0.8], [0.8], [0.8], [0.8], [0.8], [0.8], [0.8], [0.8], [0.8], [0.8], [0.8], [0.8], [0.8], [0.8], [0.8], [0.8], [0.8], [0.8], [0.8], [0.8], [0.8], [0.8], [0.8], [0.8], [0.8], [0.8], [0.8], [0.8], [0.8], [0.8], [0.8], [0.8], [0.8], [0.8], [0.8], [0.8], [0.8], [0.8], [0.8], [0.8], [0.8], [0.8], [0.8], [0.8], [0.8], [0.8], [0.8], [0.8], [0.8], [0.8], [0.8], [0.8], [0.8], [0.8], [0.8], [0.8], [0.8], [0.8], [0.8], [0.8], [0.8], [0.8], [0.8], [0.8], [0.8], [0.8], [0.8], [0.8], [0.8], [0.8], [0.8], [0.8], [0.8], [0.8], [0.8], [0.8], [0.8], [0.8], [0.8], [0.8], [0.8], [0.8], [0.8], [0.8], [0.8], [0.8], [0.8], [0.8], [0.8], [0.8], [0.8], [0.8], [0.8], [0.8], [0.8], [0.8], [0.8], [0.8], [0.8], [0.8], [0.8], [0.8], [0.8], [0.8], [0.8], [0.8], [0.8], [0.8], [0.8], [0.8], [0.8], [0.8], [0.8], [0.8], [0.8], [0.8], [0.8], [0.8], [0.8], [0.8], [0.8], [0.8], [0.8], [0.8], [0.8], [0.8], [0.8], [0.8], [0.8], [0.8], [0.8], [0.8], [0.8], [0.8], [0.8], [0.8], [0.8], [0.8], [0.8], [0.8], [0.8], [0.8], [0.8], [0.8], [0.8], [0.8], [0.8], [0.8], [0.8], [0.8], [0.8], [0.8], [0.8], [0.8], [0.8], [0.8], [0.8], [0.8], [0.8], [0.8], [0.8], [0.8], [0.8], [0.8], [0.8], [0.8], [0.8], [0.8], [0.8], [0.8], [0.8], [0.8], [0.8], [0.8], [0.8], [0.8], [0.8], [0.8], [0.8], [0.8], [0.8], [0.8], [0.8], [0.8], [0.8], [0.8], [0.8], [0.8], [0.8], [0.8], [0.8], [0.8], [0.8], [0.8], [0.8], [0.8], [0.8], [0.8], [0.8], [0.8], [0.8], [0.8], [0.8], [0.8], [0.8], [0.8], [0.8], [0.8], [0.8], [0.8], [0.8], [0.8], [0.8], [0.8], [0.8], [0.8], [0.8], [0.8], [0.8], [0.8], [0.8], [0.8], [0.8], [0.8], [0.8], [0.8], [0.8], [0.8], [0.8], [0.8], [0.8], [0.8], [0.8], [0.8], [0.8], [0.8], [0.8], [0.8], [0.8], [0.8], [0.8], [0.8], [0.8], [0.8], [0.8], [0.8], [0.8], [0.8], [0.8], [0.8], [0.8], [0.8], [0.8], [0.8], [0.8], [0.8], [0.8], [0.8], [0.8], [0.8], [0.8], [0.8], [0.8], [0.8], [0.8], [0.8], [0.8], [0.8], [0.8], [0.8], [0.8], [0.8], [0.8], [0.8], [0.8], [0.8], [0.8], [0.8], [0.8], [0.8], [0.8], [0.8], [0.8], [0.8], [0.8], [0.8], [0.8], [0.8], [0.8], [0.8], [0.8], [0.8], [0.8], [0.8], [0.8], [0.8], [0.8], [0.8], [0.8], [0.8], [0.8], [0.8], [0.8], [0.8], [0.8], [0.8], [0.8], [0.8], [0.8], [0.8], [0.8], [0.8], [0.8], [0.8], [0.8], [0.8], [0.8], [0.8], [0.8], [0.8], [0.8], [0.8], [0.8], [0.8], [0.8], [0.8], [0.8], [0.8], [0.8], [0.8], [0.8], [0.8], [0.8], [0.8], [0.8], [0.8], [0.8], [0.8], [0.8], [0.8], [0.8], [0.8], [0.8], [0.8], [0.8], [0.8], [0.8], [0.8], [0.8], [0.8], [0.8], [0.8], [0.8], [0.8], [0.8], [0.8], [0.8], [0.8], [0.8], [0.8], [0.8], [0.8], [0.8], [0.8], [0.8], [0.8], [0.8], [0.8], [0.8], [0.8], [0.8], [0.8], [0.8], [0.8], [0.8], [0.8], [0.8], [0.8], [0.8], [0.8], [0.8], [0.8], [0.8], [0.8], [0.8], [0.8], [0.8], [0.8], [0.8], [0.8], [0.8], [0.8], [0.8], [0.8], [0.8], [0.8], [0.8], [0.8], [0.8], [0.8], [0.8], [0.8], [0.8], [0.8], [0.8], [0.8], [0.8], [0.8], [0.8], [0.8], [0.8], [0.8], [0.8], [0.8], [0.8], [0.8], [0.8], [0.8], [0.8], [0.8], [0.8], [0.8], [0.8], [0.8], [0.8], [0.8], [0.8], [0.8], [0.8], [0.8], [0.8], [0.8], [0.8], [0.8], [0.8], [0.8], [0.8], [0.8], [0.8], [0.8], [0.8], [0.8], [0.8], [0.8], [0.8], [0.8], [0.8], [0.8], [0.8], [0.8], [0.8], [0.8], [0.8], [0.8], [0.8], [0.8], [0.8], [0.8], [0.8], [0.8], [0.8], [0.8], [0.8], [0.8], [0.8], [0.8], [0.8], [0.8], [0.8], [0.8], [0.8], [0.8], [0.8], [0.8], [0.8], [0.8], [0.8], [0.8], [0.8], [0.8], [0.8], [0.8], [0.8], [0.8], [0.8], [0.8], [0.8], [0.8], [0.8], [0.8], [0.8], [0.8], [0.8], [0.8], [0.8], [0.8], [0.8], [0.8], [0.8], [0.8], [0.8], [0.8], [0.8], [0.8], [0.8], [0.8], [0.8], [0.8], [0.8], [0.8], [0.8], [0.8], [0.8], [0.8], [0.8], [0.8], [0.8], [0.8], [0.8], [0.8], [0.8], [0.8], [0.8], [0.8], [0.8], [0.8], [0.8], [0.8], [0.8], [0.8], [0.8], [0.8], [0.8], [0.8], [0.8], [0.8], [0.8], [0.8], [0.8], [0.8], [0.8], [0.8], [0.8], [0.8], [0.8], [0.8], [0.8], [0.8], [0.8], [0.8], [0.8], [0.8], [0.8], [0.8], [0.8], [0.8], [0.8], [0.8], [0.8], [0.8], [0.8], [0.8], [0.8], [0.8], [0.8], [0.8], [0.8], [0.8], [0.8], [0.8], [0.8], [0.8], [0.8], [0.8], [0.8], [0.8], [0.8], [0.8], [0.8], [0.8], [0.8], [0.8], [0.8], [0.8], [0.8], [0.8], [0.8], [0.8], [0.8], [0.8], [0.8], [0.8], [0.8], [0.8], [0.8], [0.8], [0.8], [0.8], [0.8], [0.8], [0.8], [0.8], [0.8], [0.8], [0.8], [0.8], [0.8], [0.8], [0.8], [0.8], [0.8], [0.8], [0.8], [0.8], [0.8], [0.8], [0.8], [0.8], [0.8], [0.8], [0.8], [0.8], [0.8], [0.8], [0.8], [0.8], [0.8], [0.8], [0.8], [0.8], [0.8], [0.8], [0.8], [0.8], [0.8], [0.8], [0.8], [0.8], [0.8], [0.8], [0.8], [0.8], [0.8], [0.8], [0.8], [0.8], [0.8], [0.8], [0.8], [0.8], [0.8], [0.8], [0.8], [0.8], [0.8], [0.8], [0.8], [0.8], [0.8], [0.8], [0.8], [0.8], [0.8], [0.8], [0.8], [0.8], [0.8], [0.8], [0.8], [0.8], [0.8], [0.8], [0.8], [0.8], [0.8], [0.8], [0.8], [0.8], [0.8], [0.8], [0.8], [0.8], [0.8], [0.8], [0.8], [0.8], [0.8], [0.8], [0.8], [0.8], [0.8], [0.8], [0.8], [0.8], [0.8], [0.8], [0.8], [0.8], [0.8], [0.8], [0.8], [0.8], [0.8], [0.8], [0.8], [0.8], [0.8], [0.8], [0.8], [0.8], [0.8], [0.8], [0.8], [0.8], [0.8], [0.8], [0.8], [0.8], [0.8], [0.8], [0.8], [0.8], [0.8], [0.8], [0.8], [0.8], [0.8], [0.8], [0.8], [0.8], [0.8], [0.8], [0.8], [0.8], [0.8], [0.8], [0.8], [0.8], [0.8], [0.8], [0.8], [0.8], [0.8], [0.8], [0.8], [0.8], [0.8], [0.8], [0.8], [0.8], [0.8]]}, \"mode\": \"markers\", \"name\": \"Other\", \"x\": [0, 0, 0, 7, 0, 28], \"y\": [\"University <br>without <br>graduating\", \"University <br>without <br>graduating\", \"Unfinished <br>Compulsory<br>Secondary <br>Education\", \"University <br>without <br>graduating\", \"University <br>without <br>graduating\", \"University <br>graduate\"], \"type\": \"scatter\", \"uid\": \"5e890dd8-8c77-4dcd-ad9c-1887cb59999b\"}], {\"xaxis\": {\"ticktext\": [\"Spain\", \"Colombia\", \"Mexico\", \"Dominican Rep.\", \"Austria\", \"Chile\", \"France\", \"Canada\", \"Niger\", \"China\", \"Australia\", \"Russia\", \"Germany\", \"Brazil\", \"USA\", \"India\", \"Slovakia\", \"Italy\", \"England\", \"Cuba\", \"Ukraine\", \"Venezuela\", \"Indonesia\", \"Albania\", \"Pakistan\", \"The Bahamas\", \"Argentina\", \"Iceland\", \"Scotland\", \"Sudan\", \"New Zealand\", \"Ireland\", \"Macedonia\", \"Unknown\"], \"tickvals\": [0, 1, 2, 3, 4, 5, 6, 7, 8, 9, 10, 11, 12, 13, 14, 15, 16, 17, 18, 19, 20, 21, 22, 23, 24, 25, 26, 27, 28, 29, 30, 31, 32, 33], \"title\": {\"text\": \"Nationality\"}}}, {\"showLink\": false, \"linkText\": \"Export to plot.ly\", \"plotlyServerURL\": \"https://plot.ly\"}); \n",
       "}\n",
       "});</script><script type=\"text/javascript\">window.addEventListener(\"resize\", function(){if (document.getElementById(\"3378228b-bf61-48c1-8d71-357f1106aef6\")) {window._Plotly.Plots.resize(document.getElementById(\"3378228b-bf61-48c1-8d71-357f1106aef6\"));};})</script>"
      ],
      "text/vnd.plotly.v1+html": [
       "<div id=\"3378228b-bf61-48c1-8d71-357f1106aef6\" style=\"height: 525px; width: 100%;\" class=\"plotly-graph-div\"></div><script type=\"text/javascript\">require([\"plotly\"], function(Plotly) { window.PLOTLYENV=window.PLOTLYENV || {};window.PLOTLYENV.BASE_URL=\"https://plot.ly\";\n",
       "if (document.getElementById(\"3378228b-bf61-48c1-8d71-357f1106aef6\")) {\n",
       "    Plotly.newPlot(\"3378228b-bf61-48c1-8d71-357f1106aef6\", [{\"marker\": {\"color\": \"rgb(102,194,165)\", \"opacity\": [[0.8], [0.8], [0.8], [0.8], [0.8], [0.8], [0.8], [0.8], [0.8], [0.8], [0.8], [0.8], [0.8], [0.8], [0.8], [0.8], [0.8], [0.8], [0.8], [0.8], [0.8], [0.8], [0.8], [0.8], [0.8], [0.8], [0.8], [0.8], [0.8], [0.8], [0.8], [0.8], [0.8], [0.8], [0.8], [0.8], [0.8], [0.8], [0.8], [0.8], [0.8], [0.8], [0.8], [0.8], [0.8], [0.8], [0.8], [0.8], [0.8], [0.8], [0.8], [0.8], [0.8], [0.8], [0.8], [0.8], [0.8], [0.8], [0.8], [0.8], [0.8], [0.8], [0.8], [0.8], [0.8], [0.8], [0.8], [0.8], [0.8], [0.8], [0.8], [0.8], [0.8], [0.8], [0.8], [0.8], [0.8], [0.8], [0.8], [0.8], [0.8], [0.8], [0.8], [0.8], [0.8], [0.8], [0.8], [0.8], [0.8], [0.8], [0.8], [0.8], [0.8], [0.8], [0.8], [0.8], [0.8], [0.8], [0.8], [0.8], [0.8], [0.8], [0.8], [0.8], [0.8], [0.8], [0.8], [0.8], [0.8], [0.8], [0.8], [0.8], [0.8], [0.8], [0.8], [0.8], [0.8], [0.8], [0.8], [0.8], [0.8], [0.8], [0.8], [0.8], [0.8], [0.8], [0.8], [0.8], [0.8], [0.8], [0.8], [0.8], [0.8], [0.8], [0.8], [0.8], [0.8], [0.8], [0.8], [0.8], [0.8], [0.8], [0.8], [0.8], [0.8], [0.8], [0.8], [0.8], [0.8], [0.8], [0.8], [0.8], [0.8], [0.8], [0.8], [0.8], [0.8], [0.8], [0.8], [0.8], [0.8], [0.8], [0.8], [0.8], [0.8], [0.8], [0.8], [0.8], [0.8], [0.8], [0.8], [0.8], [0.8], [0.8], [0.8], [0.8], [0.8], [0.8], [0.8], [0.8], [0.8], [0.8], [0.8], [0.8], [0.8], [0.8], [0.8], [0.8], [0.8], [0.8], [0.8], [0.8], [0.8], [0.8], [0.8], [0.8], [0.8], [0.8], [0.8], [0.8], [0.8], [0.8], [0.8], [0.8], [0.8], [0.8], [0.8], [0.8], [0.8], [0.8], [0.8], [0.8], [0.8], [0.8], [0.8], [0.8], [0.8], [0.8], [0.8], [0.8], [0.8], [0.8], [0.8], [0.8], [0.8], [0.8], [0.8], [0.8], [0.8], [0.8], [0.8], [0.8], [0.8], [0.8], [0.8], [0.8], [0.8], [0.8], [0.8], [0.8], [0.8], [0.8], [0.8], [0.8], [0.8], [0.8], [0.8], [0.8], [0.8], [0.8], [0.8], [0.8], [0.8], [0.8], [0.8], [0.8], [0.8], [0.8], [0.8], [0.8], [0.8], [0.8], [0.8], [0.8], [0.8], [0.8], [0.8], [0.8], [0.8], [0.8], [0.8], [0.8], [0.8], [0.8], [0.8], [0.8], [0.8], [0.8], [0.8], [0.8], [0.8], [0.8], [0.8], [0.8], [0.8], [0.8], [0.8], [0.8], [0.8], [0.8], [0.8], [0.8], [0.8], [0.8], [0.8], [0.8], [0.8], [0.8], [0.8], [0.8], [0.8], [0.8], [0.8], [0.8], [0.8], [0.8], [0.8], [0.8], [0.8], [0.8], [0.8], [0.8], [0.8], [0.8], [0.8], [0.8], [0.8], [0.8], [0.8], [0.8], [0.8], [0.8], [0.8], [0.8], [0.8], [0.8], [0.8], [0.8], [0.8], [0.8], [0.8], [0.8], [0.8], [0.8], [0.8], [0.8], [0.8], [0.8], [0.8], [0.8], [0.8], [0.8], [0.8], [0.8], [0.8], [0.8], [0.8], [0.8], [0.8], [0.8], [0.8], [0.8], [0.8], [0.8], [0.8], [0.8], [0.8], [0.8], [0.8], [0.8], [0.8], [0.8], [0.8], [0.8], [0.8], [0.8], [0.8], [0.8], [0.8], [0.8], [0.8], [0.8], [0.8], [0.8], [0.8], [0.8], [0.8], [0.8], [0.8], [0.8], [0.8], [0.8], [0.8], [0.8], [0.8], [0.8], [0.8], [0.8], [0.8], [0.8], [0.8], [0.8], [0.8], [0.8], [0.8], [0.8], [0.8], [0.8], [0.8], [0.8], [0.8], [0.8], [0.8], [0.8], [0.8], [0.8], [0.8], [0.8], [0.8], [0.8], [0.8], [0.8], [0.8], [0.8], [0.8], [0.8], [0.8], [0.8], [0.8], [0.8], [0.8], [0.8], [0.8], [0.8], [0.8], [0.8], [0.8], [0.8], [0.8], [0.8], [0.8], [0.8], [0.8], [0.8], [0.8], [0.8], [0.8], [0.8], [0.8], [0.8], [0.8], [0.8], [0.8], [0.8], [0.8], [0.8], [0.8], [0.8], [0.8], [0.8], [0.8], [0.8], [0.8], [0.8], [0.8], [0.8], [0.8], [0.8], [0.8], [0.8], [0.8], [0.8], [0.8], [0.8], [0.8], [0.8], [0.8], [0.8], [0.8], [0.8], [0.8], [0.8], [0.8], [0.8], [0.8], [0.8], [0.8], [0.8], [0.8], [0.8], [0.8], [0.8], [0.8], [0.8], [0.8], [0.8], [0.8], [0.8], [0.8], [0.8], [0.8], [0.8], [0.8], [0.8], [0.8], [0.8], [0.8], [0.8], [0.8], [0.8], [0.8], [0.8], [0.8], [0.8], [0.8], [0.8], [0.8], [0.8], [0.8], [0.8], [0.8], [0.8], [0.8], [0.8], [0.8], [0.8], [0.8], [0.8], [0.8], [0.8], [0.8], [0.8], [0.8], [0.8], [0.8], [0.8], [0.8], [0.8], [0.8], [0.8], [0.8], [0.8], [0.8], [0.8], [0.8], [0.8], [0.8], [0.8], [0.8], [0.8], [0.8], [0.8], [0.8], [0.8], [0.8], [0.8], [0.8], [0.8], [0.8], [0.8], [0.8], [0.8], [0.8], [0.8], [0.8], [0.8], [0.8], [0.8], [0.8], [0.8], [0.8], [0.8], [0.8], [0.8], [0.8], [0.8], [0.8], [0.8], [0.8], [0.8], [0.8], [0.8], [0.8], [0.8], [0.8], [0.8], [0.8], [0.8], [0.8], [0.8], [0.8], [0.8], [0.8], [0.8], [0.8], [0.8], [0.8], [0.8], [0.8], [0.8], [0.8], [0.8], [0.8], [0.8], [0.8], [0.8], [0.8], [0.8], [0.8], [0.8], [0.8], [0.8], [0.8], [0.8], [0.8], [0.8], [0.8], [0.8], [0.8], [0.8], [0.8], [0.8], [0.8], [0.8], [0.8], [0.8], [0.8], [0.8], [0.8], [0.8], [0.8], [0.8], [0.8], [0.8], [0.8], [0.8], [0.8], [0.8], [0.8], [0.8], [0.8], [0.8], [0.8], [0.8], [0.8], [0.8], [0.8], [0.8], [0.8], [0.8], [0.8], [0.8], [0.8], [0.8], [0.8], [0.8], [0.8], [0.8], [0.8], [0.8], [0.8], [0.8], [0.8], [0.8], [0.8], [0.8], [0.8], [0.8], [0.8], [0.8], [0.8], [0.8], [0.8], [0.8], [0.8], [0.8], [0.8], [0.8], [0.8], [0.8], [0.8], [0.8], [0.8], [0.8], [0.8], [0.8], [0.8], [0.8], [0.8], [0.8], [0.8], [0.8], [0.8], [0.8], [0.8], [0.8], [0.8], [0.8], [0.8], [0.8], [0.8], [0.8], [0.8], [0.8], [0.8], [0.8], [0.8], [0.8], [0.8], [0.8], [0.8], [0.8], [0.8], [0.8], [0.8], [0.8], [0.8], [0.8], [0.8], [0.8], [0.8], [0.8], [0.8], [0.8], [0.8], [0.8], [0.8], [0.8], [0.8], [0.8], [0.8], [0.8], [0.8], [0.8], [0.8], [0.8], [0.8], [0.8], [0.8], [0.8], [0.8], [0.8], [0.8], [0.8], [0.8], [0.8], [0.8], [0.8], [0.8], [0.8], [0.8], [0.8], [0.8], [0.8], [0.8], [0.8], [0.8], [0.8], [0.8], [0.8], [0.8], [0.8], [0.8], [0.8], [0.8], [0.8], [0.8], [0.8], [0.8], [0.8], [0.8], [0.8], [0.8], [0.8], [0.8], [0.8], [0.8]]}, \"mode\": \"markers\", \"name\": \"Male\", \"x\": [0, 0, 0, 3, 0, 0, 0, 0, 0, 0, 0, 0, 0, 0, 0, 0, 0, 0, 0, 0, 0, 0, 0, 0, 0, 0, 6, 0, 0, 0, 0, 0, 0, 0, 0, 0, 0, 0, 0, 0, 0, 0, 0, 0, 0, 0, 0, 6, 0, 0, 0, 0, 0, 0, 0, 0, 0, 0, 0, 0, 0, 8, 0, 0, 10, 6, 0, 0, 0, 0, 0, 0, 0, 0, 0, 0, 0, 8, 8, 0, 0, 0, 0, 0, 0, 0, 0, 0, 0, 0, 0, 9, 0, 0, 0, 0, 0, 14, 0, 0, 14, 16, 15, 17, 15, 33, 15, 15, 15, 14, 14, 14, 15, 14, 14, 15, 14, 14, 14, 14, 14, 14, 15, 14, 14, 14, 14, 14, 14, 14, 14, 15, 15, 14, 33, 14, 17, 7, 14, 14, 14, 14, 14, 15, 15, 33, 15, 18, 15, 13, 14, 14, 15, 14, 14, 15, 14, 8, 14, 15, 17, 15, 14, 14, 15, 0, 14, 14, 14, 15, 23, 2, 15, 14, 33, 14, 14, 15, 14, 14, 33, 14, 14, 13, 14, 14, 14, 7, 14, 14, 15, 14, 14, 14, 14, 15, 15, 17, 15, 15, 26, 15, 14, 15, 14, 14, 14, 27, 14, 14, 7, 14, 15, 15, 14, 14, 15, 14, 15, 15, 14, 15, 14, 7, 14, 14, 14, 14, 15, 14, 6, 15, 17, 14, 14, 14, 14, 18, 14, 17, 14, 14, 15, 15, 14, 14, 14, 14, 14, 14, 11, 15, 14, 14, 14, 15, 29, 14, 14, 15, 14, 14, 15, 15, 15, 18, 15, 15, 14, 14, 14, 15, 15, 14, 14, 15, 14, 14, 14, 14, 17, 14, 18, 17, 15, 14, 15, 14, 15, 14, 14, 14, 14, 32, 14, 18, 14, 15, 14, 18, 15, 15, 14, 14, 14, 14, 22, 14, 14, 14, 7, 14, 14, 14, 14, 14, 14, 14, 14, 14, 6, 14, 14, 15, 15, 14, 14, 21, 14, 21, 14, 14, 14, 14, 15, 14, 15, 14, 15, 14, 15, 15, 15, 15, 15, 14, 14, 15, 15, 15, 14, 15, 14, 14, 14, 14, 14, 14], \"y\": [\"University <br>graduate\", \"University <br>graduate\", \"University <br>graduate\", \"University <br>graduate\", \"University <br>without <br>graduating\", \"University <br>without <br>graduating\", \"University <br>graduate\", \"University <br>graduate\", \"University <br>graduate\", \"University <br>without <br>graduating\", \"University <br>graduate\", \"University <br>graduate\", \"University <br>graduate\", \"Unfinished <br>Compulsory<br>Secondary <br>Education\", \"University <br>graduate\", \"University <br>without <br>graduating\", \"University <br>without <br>graduating\", \"Vocational <br>Training\", \"University <br>without <br>graduating\", \"University <br>without <br>graduating\", \"University <br>graduate\", \"Unfinished <br>Compulsory<br>Secondary <br>Education\", \"Unfinished <br>Compulsory<br>Secondary <br>Education\", \"Unfinished <br>Compulsory<br>Secondary <br>Education\", \"Unfinished <br>Compulsory<br>Secondary <br>Education\", \"Unfinished <br>Compulsory<br>Secondary <br>Education\", \"University <br>graduate\", \"Unfinished <br>Compulsory<br>Secondary <br>Education\", \"University <br>without <br>graduating\", \"University <br>graduate\", \"University <br>graduate\", \"University <br>graduate\", \"University <br>graduate\", \"University <br>without <br>graduating\", \"University <br>graduate\", \"University <br>without <br>graduating\", \"Unfinished <br>Compulsory<br>Secondary <br>Education\", \"Unfinished <br>Compulsory<br>Secondary <br>Education\", \"Unfinished <br>Compulsory<br>Secondary <br>Education\", \"Unfinished <br>Compulsory<br>Secondary <br>Education\", \"Unfinished <br>Compulsory<br>Secondary <br>Education\", \"Unfinished <br>Compulsory<br>Secondary <br>Education\", \"Unfinished <br>Compulsory<br>Secondary <br>Education\", \"Unfinished <br>Compulsory<br>Secondary <br>Education\", \"Unfinished <br>Compulsory<br>Secondary <br>Education\", \"University <br>graduate\", \"University <br>graduate\", \"University <br>without <br>graduating\", \"Unfinished <br>Compulsory<br>Secondary <br>Education\", \"Unfinished <br>Compulsory<br>Secondary <br>Education\", \"Unfinished <br>Compulsory<br>Secondary <br>Education\", \"Unfinished <br>Compulsory<br>Secondary <br>Education\", \"Unfinished <br>Compulsory<br>Secondary <br>Education\", \"Unfinished <br>Compulsory<br>Secondary <br>Education\", \"University <br>without <br>graduating\", \"University <br>without <br>graduating\", \"University <br>graduate\", \"University <br>graduate\", \"University <br>without <br>graduating\", \"University <br>without <br>graduating\", \"University <br>without <br>graduating\", \"Unfinished <br>Compulsory<br>Secondary <br>Education\", \"University <br>graduate\", \"University <br>graduate\", \"University <br>graduate\", \"University <br>graduate\", \"Vocational <br>Training\", \"University <br>graduate\", \"University <br>without <br>graduating\", \"University <br>graduate\", \"University <br>graduate\", \"University <br>graduate\", \"University <br>graduate\", \"University <br>without <br>graduating\", \"University <br>without <br>graduating\", \"University <br>without <br>graduating\", \"Unfinished <br>Compulsory<br>Secondary <br>Education\", \"Unfinished <br>Compulsory<br>Secondary <br>Education\", \"Unfinished <br>Compulsory<br>Secondary <br>Education\", \"Unfinished <br>Compulsory<br>Secondary <br>Education\", \"Unfinished <br>Compulsory<br>Secondary <br>Education\", \"University <br>without <br>graduating\", \"University <br>graduate\", \"Vocational <br>Training\", \"University <br>without <br>graduating\", \"Unfinished <br>Compulsory<br>Secondary <br>Education\", \"Unfinished <br>Compulsory<br>Secondary <br>Education\", \"Unfinished <br>Compulsory<br>Secondary <br>Education\", \"Unfinished <br>Compulsory<br>Secondary <br>Education\", \"Unfinished <br>Compulsory<br>Secondary <br>Education\", \"Unfinished <br>Compulsory<br>Secondary <br>Education\", \"Unfinished <br>Compulsory<br>Secondary <br>Education\", \"Unfinished <br>Compulsory<br>Secondary <br>Education\", \"Unfinished <br>Compulsory<br>Secondary <br>Education\", \"Unfinished <br>Compulsory<br>Secondary <br>Education\", \"University <br>without <br>graduating\", \"University <br>without <br>graduating\", \"Vocational <br>Training\", \"University <br>without <br>graduating\", \"University <br>without <br>graduating\", \"University <br>graduate\", \"University <br>without <br>graduating\", \"University <br>graduate\", \"University <br>graduate\", \"University <br>graduate\", \"University <br>graduate\", \"University <br>graduate\", \"University <br>graduate\", \"University <br>without <br>graduating\", \"University <br>without <br>graduating\", \"University <br>graduate\", \"University <br>graduate\", \"University <br>graduate\", \"University <br>graduate\", \"University <br>graduate\", \"University <br>graduate\", \"University <br>without <br>graduating\", \"University <br>graduate\", \"University <br>graduate\", \"University <br>graduate\", \"University <br>graduate\", \"University <br>graduate\", \"Vocational <br>Training\", \"University <br>without <br>graduating\", \"University <br>without <br>graduating\", \"University <br>graduate\", \"University <br>graduate\", \"University <br>without <br>graduating\", \"Completed <br>Compulsory<br>Secondary <br>Education\", \"University <br>graduate\", \"University <br>graduate\", \"University <br>graduate\", \"Completed <br>Compulsory<br>Secondary <br>Education\", \"Vocational <br>Training\", \"University <br>without <br>graduating\", \"University <br>graduate\", \"University <br>graduate\", \"University <br>graduate\", \"University <br>graduate\", \"University <br>graduate\", \"University <br>graduate\", \"University <br>graduate\", \"Vocational <br>Training\", \"University <br>graduate\", \"Completed <br>Compulsory<br>Secondary <br>Education\", \"Primary <br>education\", \"University <br>graduate\", \"University <br>graduate\", \"University <br>graduate\", \"University <br>graduate\", \"University <br>without <br>graduating\", \"University <br>graduate\", \"University <br>without <br>graduating\", \"University <br>graduate\", \"University <br>without <br>graduating\", \"University <br>graduate\", \"Vocational <br>Training\", \"University <br>graduate\", \"University <br>without <br>graduating\", \"Completed <br>Compulsory<br>Secondary <br>Education\", \"University <br>without <br>graduating\", \"University <br>graduate\", \"University <br>graduate\", \"University <br>graduate\", \"Completed <br>Compulsory<br>Secondary <br>Education\", \"University <br>without <br>graduating\", \"University <br>without <br>graduating\", \"University <br>graduate\", \"University <br>graduate\", \"University <br>graduate\", \"University <br>graduate\", \"University <br>without <br>graduating\", \"Completed <br>Compulsory<br>Secondary <br>Education\", \"Completed <br>Compulsory<br>Secondary <br>Education\", \"University <br>without <br>graduating\", \"University <br>graduate\", \"University <br>graduate\", \"University <br>graduate\", \"University <br>graduate\", \"University <br>graduate\", \"Primary <br>education\", \"University <br>graduate\", \"University <br>graduate\", \"University <br>without <br>graduating\", \"Completed <br>Compulsory<br>Secondary <br>Education\", \"University <br>graduate\", \"University <br>graduate\", \"University <br>graduate\", \"University <br>graduate\", \"University <br>graduate\", \"University <br>graduate\", \"University <br>graduate\", \"University <br>without <br>graduating\", \"University <br>graduate\", \"University <br>graduate\", \"University <br>graduate\", \"University <br>graduate\", \"University <br>without <br>graduating\", \"University <br>graduate\", \"University <br>graduate\", \"University <br>graduate\", \"University <br>graduate\", \"University <br>graduate\", \"University <br>graduate\", \"University <br>graduate\", \"University <br>without <br>graduating\", \"University <br>graduate\", \"University <br>without <br>graduating\", \"University <br>graduate\", \"University <br>graduate\", \"University <br>graduate\", \"University <br>graduate\", \"University <br>graduate\", \"University <br>graduate\", \"University <br>graduate\", \"Vocational <br>Training\", \"University <br>graduate\", \"University <br>without <br>graduating\", \"University <br>graduate\", \"University <br>graduate\", \"University <br>graduate\", \"University <br>graduate\", \"University <br>graduate\", \"Vocational <br>Training\", \"University <br>without <br>graduating\", \"University <br>graduate\", \"University <br>graduate\", \"Completed <br>Compulsory<br>Secondary <br>Education\", \"University <br>without <br>graduating\", \"University <br>graduate\", \"University <br>graduate\", \"University <br>graduate\", \"University <br>graduate\", \"Vocational <br>Training\", \"University <br>graduate\", \"University <br>graduate\", \"University <br>without <br>graduating\", \"University <br>without <br>graduating\", \"University <br>graduate\", \"University <br>graduate\", \"University <br>graduate\", \"Vocational <br>Training\", \"University <br>graduate\", \"University <br>graduate\", \"University <br>without <br>graduating\", \"University <br>graduate\", \"University <br>graduate\", \"University <br>graduate\", \"Unfinished <br>Compulsory<br>Secondary <br>Education\", \"University <br>graduate\", \"University <br>without <br>graduating\", \"University <br>graduate\", \"University <br>without <br>graduating\", \"University <br>graduate\", \"University <br>graduate\", \"University <br>graduate\", \"University <br>graduate\", \"University <br>without <br>graduating\", \"University <br>graduate\", \"University <br>graduate\", \"University <br>graduate\", \"University <br>graduate\", \"University <br>graduate\", \"University <br>graduate\", \"University <br>graduate\", \"University <br>graduate\", \"University <br>graduate\", \"University <br>graduate\", \"Vocational <br>Training\", \"Vocational <br>Training\", \"University <br>graduate\", \"University <br>graduate\", \"University <br>graduate\", \"Vocational <br>Training\", \"University <br>graduate\", \"University <br>graduate\", \"University <br>graduate\", \"University <br>graduate\", \"Completed <br>Compulsory<br>Secondary <br>Education\", \"University <br>graduate\", \"University <br>graduate\", \"Completed <br>Compulsory<br>Secondary <br>Education\", \"University <br>graduate\", \"Completed <br>Compulsory<br>Secondary <br>Education\", \"University <br>graduate\", \"University <br>graduate\", \"University <br>graduate\", \"University <br>graduate\", \"Completed <br>Compulsory<br>Secondary <br>Education\", \"University <br>graduate\", \"University <br>graduate\", \"Primary <br>education\", \"University <br>graduate\", \"University <br>graduate\", \"University <br>graduate\", \"University <br>graduate\", \"Completed <br>Compulsory<br>Secondary <br>Education\", \"University <br>graduate\", \"University <br>graduate\", \"University <br>without <br>graduating\", \"University <br>graduate\", \"University <br>graduate\", \"University <br>graduate\", \"Vocational <br>Training\", \"University <br>graduate\", \"University <br>graduate\", \"University <br>graduate\", \"University <br>graduate\", \"University <br>graduate\", \"Unfinished <br>Compulsory<br>Secondary <br>Education\", \"University <br>graduate\", \"University <br>without <br>graduating\", \"University <br>graduate\", \"University <br>graduate\", \"University <br>graduate\", \"University <br>without <br>graduating\", \"Completed <br>Compulsory<br>Secondary <br>Education\", \"University <br>graduate\", \"Vocational <br>Training\", \"University <br>without <br>graduating\", \"Vocational <br>Training\", \"University <br>graduate\", \"University <br>graduate\", \"University <br>graduate\", \"Completed <br>Compulsory<br>Secondary <br>Education\", \"University <br>graduate\", \"University <br>graduate\", \"University <br>without <br>graduating\", \"University <br>graduate\", \"University <br>graduate\", \"University <br>without <br>graduating\", \"University <br>without <br>graduating\", \"University <br>graduate\", \"University <br>graduate\", \"University <br>without <br>graduating\", \"University <br>graduate\", \"University <br>graduate\", \"University <br>graduate\", \"University <br>graduate\", \"University <br>without <br>graduating\", \"University <br>graduate\", \"University <br>graduate\", \"University <br>graduate\", \"University <br>graduate\", \"University <br>without <br>graduating\", \"University <br>without <br>graduating\", \"Completed <br>Compulsory<br>Secondary <br>Education\", \"University <br>graduate\", \"University <br>graduate\", \"University <br>graduate\", \"Unfinished <br>Compulsory<br>Secondary <br>Education\", \"University <br>graduate\", \"University <br>without <br>graduating\", \"University <br>graduate\", \"University <br>graduate\", \"University <br>graduate\", \"University <br>graduate\", \"University <br>graduate\"], \"type\": \"scatter\", \"uid\": \"d4e8c845-efab-4f4e-8997-fc24198a06f1\"}, {\"marker\": {\"color\": \"rgb(254,224,139)\", \"opacity\": [[0.8], [0.8], [0.8], [0.8], [0.8], [0.8], [0.8], [0.8], [0.8], [0.8], [0.8], [0.8], [0.8], [0.8], [0.8], [0.8], [0.8], [0.8], [0.8], [0.8], [0.8], [0.8], [0.8], [0.8], [0.8], [0.8], [0.8], [0.8], [0.8], [0.8], [0.8], [0.8], [0.8], [0.8], [0.8], [0.8], [0.8], [0.8], [0.8], [0.8], [0.8], [0.8], [0.8], [0.8], [0.8], [0.8], [0.8], [0.8], [0.8], [0.8], [0.8], [0.8], [0.8], [0.8], [0.8], [0.8], [0.8], [0.8], [0.8], [0.8], [0.8], [0.8], [0.8], [0.8], [0.8], [0.8], [0.8], [0.8], [0.8], [0.8], [0.8], [0.8], [0.8], [0.8], [0.8], [0.8], [0.8], [0.8], [0.8], [0.8], [0.8], [0.8], [0.8], [0.8], [0.8], [0.8], [0.8], [0.8], [0.8], [0.8], [0.8], [0.8], [0.8], [0.8], [0.8], [0.8], [0.8], [0.8], [0.8], [0.8], [0.8], [0.8], [0.8], [0.8], [0.8], [0.8], [0.8], [0.8], [0.8], [0.8], [0.8], [0.8], [0.8], [0.8], [0.8], [0.8], [0.8], [0.8], [0.8], [0.8], [0.8], [0.8], [0.8], [0.8], [0.8], [0.8], [0.8], [0.8], [0.8], [0.8], [0.8], [0.8], [0.8], [0.8], [0.8], [0.8], [0.8], [0.8], [0.8], [0.8], [0.8], [0.8], [0.8], [0.8], [0.8], [0.8], [0.8], [0.8], [0.8], [0.8], [0.8], [0.8], [0.8], [0.8], [0.8], [0.8], [0.8], [0.8], [0.8], [0.8], [0.8], [0.8], [0.8], [0.8], [0.8], [0.8], [0.8], [0.8], [0.8], [0.8], [0.8], [0.8], [0.8], [0.8], [0.8], [0.8], [0.8], [0.8], [0.8], [0.8], [0.8], [0.8], [0.8], [0.8], [0.8], [0.8], [0.8], [0.8], [0.8], [0.8], [0.8], [0.8], [0.8], [0.8], [0.8], [0.8], [0.8], [0.8], [0.8], [0.8], [0.8], [0.8], [0.8], [0.8], [0.8], [0.8], [0.8], [0.8], [0.8], [0.8], [0.8], [0.8], [0.8], [0.8], [0.8], [0.8], [0.8], [0.8], [0.8], [0.8], [0.8], [0.8], [0.8], [0.8], [0.8], [0.8], [0.8], [0.8], [0.8], [0.8], [0.8], [0.8], [0.8], [0.8], [0.8], [0.8], [0.8], [0.8], [0.8], [0.8], [0.8], [0.8], [0.8], [0.8], [0.8], [0.8], [0.8], [0.8], [0.8], [0.8], [0.8], [0.8], [0.8], [0.8], [0.8], [0.8], [0.8], [0.8], [0.8], [0.8], [0.8], [0.8], [0.8], [0.8], [0.8], [0.8], [0.8], [0.8], [0.8], [0.8], [0.8], [0.8], [0.8], [0.8], [0.8], [0.8], [0.8], [0.8], [0.8], [0.8], [0.8], [0.8], [0.8], [0.8], [0.8], [0.8], [0.8], [0.8], [0.8], [0.8], [0.8], [0.8], [0.8], [0.8], [0.8], [0.8], [0.8], [0.8], [0.8], [0.8], [0.8], [0.8], [0.8], [0.8], [0.8], [0.8], [0.8], [0.8], [0.8], [0.8], [0.8], [0.8], [0.8], [0.8], [0.8], [0.8], [0.8], [0.8], [0.8], [0.8], [0.8], [0.8], [0.8], [0.8], [0.8], [0.8], [0.8], [0.8], [0.8], [0.8], [0.8], [0.8], [0.8], [0.8], [0.8], [0.8], [0.8], [0.8], [0.8], [0.8], [0.8], [0.8], [0.8], [0.8], [0.8], [0.8], [0.8], [0.8], [0.8], [0.8], [0.8], [0.8], [0.8], [0.8], [0.8], [0.8], [0.8], [0.8], [0.8], [0.8], [0.8], [0.8], [0.8], [0.8], [0.8], [0.8], [0.8], [0.8], [0.8], [0.8], [0.8], [0.8], [0.8], [0.8], [0.8], [0.8], [0.8], [0.8], [0.8], [0.8], [0.8], [0.8], [0.8], [0.8], [0.8], [0.8], [0.8], [0.8], [0.8], [0.8], [0.8], [0.8], [0.8], [0.8], [0.8], [0.8], [0.8], [0.8], [0.8], [0.8], [0.8], [0.8], [0.8], [0.8], [0.8], [0.8], [0.8], [0.8], [0.8], [0.8], [0.8], [0.8], [0.8], [0.8], [0.8], [0.8], [0.8], [0.8], [0.8], [0.8], [0.8], [0.8], [0.8], [0.8], [0.8], [0.8], [0.8], [0.8], [0.8], [0.8], [0.8], [0.8], [0.8], [0.8], [0.8], [0.8], [0.8], [0.8], [0.8], [0.8], [0.8], [0.8], [0.8], [0.8], [0.8], [0.8], [0.8], [0.8], [0.8], [0.8], [0.8], [0.8], [0.8], [0.8], [0.8], [0.8], [0.8], [0.8], [0.8], [0.8], [0.8], [0.8], [0.8], [0.8], [0.8], [0.8], [0.8], [0.8], [0.8], [0.8], [0.8], [0.8], [0.8], [0.8], [0.8], [0.8], [0.8], [0.8], [0.8], [0.8], [0.8], [0.8], [0.8], [0.8], [0.8], [0.8], [0.8], [0.8], [0.8], [0.8], [0.8], [0.8], [0.8], [0.8], [0.8], [0.8], [0.8], [0.8], [0.8], [0.8], [0.8], [0.8], [0.8], [0.8], [0.8], [0.8], [0.8], [0.8], [0.8], [0.8], [0.8], [0.8], [0.8], [0.8], [0.8], [0.8], [0.8], [0.8], [0.8], [0.8], [0.8], [0.8], [0.8], [0.8], [0.8], [0.8], [0.8], [0.8], [0.8], [0.8], [0.8], [0.8], [0.8], [0.8], [0.8], [0.8], [0.8], [0.8], [0.8], [0.8], [0.8], [0.8], [0.8], [0.8], [0.8], [0.8], [0.8], [0.8], [0.8], [0.8], [0.8], [0.8], [0.8], [0.8], [0.8], [0.8], [0.8], [0.8], [0.8], [0.8], [0.8], [0.8], [0.8], [0.8], [0.8], [0.8], [0.8], [0.8], [0.8], [0.8], [0.8], [0.8], [0.8], [0.8], [0.8], [0.8], [0.8], [0.8], [0.8], [0.8], [0.8], [0.8], [0.8], [0.8], [0.8], [0.8], [0.8], [0.8], [0.8], [0.8], [0.8], [0.8], [0.8], [0.8], [0.8], [0.8], [0.8], [0.8], [0.8], [0.8], [0.8], [0.8], [0.8], [0.8], [0.8], [0.8], [0.8], [0.8], [0.8], [0.8], [0.8], [0.8], [0.8], [0.8], [0.8], [0.8], [0.8], [0.8], [0.8], [0.8], [0.8], [0.8], [0.8], [0.8], [0.8], [0.8], [0.8], [0.8], [0.8], [0.8], [0.8], [0.8], [0.8], [0.8], [0.8], [0.8], [0.8], [0.8], [0.8], [0.8], [0.8], [0.8], [0.8], [0.8], [0.8], [0.8], [0.8], [0.8], [0.8], [0.8], [0.8], [0.8], [0.8], [0.8], [0.8], [0.8], [0.8], [0.8], [0.8], [0.8], [0.8], [0.8], [0.8], [0.8], [0.8], [0.8], [0.8], [0.8], [0.8], [0.8], [0.8], [0.8], [0.8], [0.8], [0.8], [0.8], [0.8], [0.8], [0.8], [0.8], [0.8], [0.8], [0.8], [0.8], [0.8], [0.8], [0.8], [0.8], [0.8], [0.8], [0.8], [0.8], [0.8], [0.8], [0.8], [0.8], [0.8], [0.8], [0.8], [0.8], [0.8], [0.8], [0.8], [0.8], [0.8], [0.8], [0.8], [0.8], [0.8], [0.8], [0.8], [0.8], [0.8], [0.8], [0.8], [0.8], [0.8], [0.8], [0.8], [0.8], [0.8], [0.8], [0.8], [0.8], [0.8], [0.8], [0.8], [0.8], [0.8], [0.8], [0.8], [0.8], [0.8], [0.8], [0.8], [0.8], [0.8], [0.8], [0.8], [0.8], [0.8], [0.8], [0.8], [0.8], [0.8], [0.8], [0.8], [0.8], [0.8], [0.8], [0.8], [0.8], [0.8], [0.8], [0.8], [0.8], [0.8], [0.8], [0.8], [0.8], [0.8], [0.8], [0.8], [0.8], [0.8], [0.8], [0.8]]}, \"mode\": \"markers\", \"name\": \"Female\", \"x\": [0, 0, 0, 1, 3, 0, 0, 0, 0, 0, 0, 0, 0, 4, 5, 0, 0, 0, 0, 0, 0, 0, 0, 0, 0, 0, 0, 0, 0, 0, 0, 0, 0, 0, 0, 0, 0, 0, 6, 6, 6, 0, 0, 0, 0, 0, 6, 0, 0, 0, 0, 0, 0, 0, 0, 0, 0, 0, 0, 0, 0, 0, 0, 0, 0, 0, 0, 0, 0, 6, 0, 0, 0, 0, 0, 0, 0, 0, 0, 0, 0, 0, 0, 0, 0, 6, 0, 0, 6, 0, 6, 6, 6, 6, 6, 6, 0, 0, 0, 0, 0, 0, 0, 0, 0, 0, 0, 0, 0, 11, 0, 0, 0, 13, 0, 0, 6, 0, 0, 0, 0, 0, 0, 0, 0, 0, 0, 0, 0, 0, 0, 0, 0, 0, 0, 0, 0, 0, 0, 14, 33, 14, 14, 14, 14, 15, 15, 14, 14, 15, 15, 14, 14, 14, 14, 14, 14, 33, 14, 14, 14, 18, 33, 33, 15, 14, 14, 15, 15, 15, 14, 15, 14, 14, 14, 15, 14, 14, 14, 33, 14, 15, 14, 15, 14, 12, 14, 7, 14, 15, 14, 0, 15, 14, 15, 14, 14, 14, 14, 14, 14, 15, 21, 14, 14, 33, 14, 14, 14, 33, 14, 14, 14, 14, 14, 33, 24, 14, 14, 15, 15, 14, 14, 14, 14, 14, 7, 14, 14, 14, 14, 33, 14, 14, 15, 14, 14, 33, 25, 14, 33, 14, 33, 14, 15, 14, 14, 14, 15, 14, 15, 15, 18, 33, 15, 14, 33, 17, 14, 14, 33, 15, 15, 14, 0, 14, 14, 14, 14, 15, 14, 14, 14, 15, 18, 14, 15, 17, 0, 15, 33, 14, 15, 15, 14, 14, 15, 15, 14, 14, 15, 33, 14, 14, 33, 14, 14, 20, 14, 14, 30, 15, 14, 14, 14, 14, 14, 14, 14, 15, 14, 14, 14, 18, 14, 14, 14, 14, 14, 14, 33, 33, 33, 14, 31, 14, 14, 33, 14, 14, 14, 14, 21, 14, 15, 14, 14, 14, 33, 14, 14, 14, 14, 17, 14, 33, 14, 33, 14, 33, 14, 14, 31, 14, 7, 33, 14, 14, 14, 14, 14, 14, 15, 33, 14, 14, 14, 14, 14, 14, 14, 14, 14, 14, 19, 14, 33, 15, 14, 14, 33, 33, 14, 15, 33, 14, 14, 15, 15, 14, 15, 14, 14, 33, 14, 15, 15, 14, 15, 15, 15, 15, 14], \"y\": [\"University <br>graduate\", \"University <br>without <br>graduating\", \"University <br>graduate\", \"University <br>graduate\", \"University <br>graduate\", \"University <br>graduate\", \"University <br>graduate\", \"University <br>graduate\", \"University <br>graduate\", \"Completed <br>Compulsory<br>Secondary <br>Education\", \"Completed <br>Compulsory<br>Secondary <br>Education\", \"Vocational <br>Training\", \"University <br>without <br>graduating\", \"University <br>graduate\", \"University <br>graduate\", \"University <br>graduate\", \"University <br>graduate\", \"University <br>without <br>graduating\", \"University <br>graduate\", \"University <br>without <br>graduating\", \"Completed <br>Compulsory<br>Secondary <br>Education\", \"Vocational <br>Training\", \"University <br>graduate\", \"University <br>without <br>graduating\", \"Vocational <br>Training\", \"Primary <br>education\", \"University <br>without <br>graduating\", \"University <br>graduate\", \"Unfinished <br>Compulsory<br>Secondary <br>Education\", \"Unfinished <br>Compulsory<br>Secondary <br>Education\", \"Unfinished <br>Compulsory<br>Secondary <br>Education\", \"Unfinished <br>Compulsory<br>Secondary <br>Education\", \"Unfinished <br>Compulsory<br>Secondary <br>Education\", \"Unfinished <br>Compulsory<br>Secondary <br>Education\", \"University <br>graduate\", \"University <br>graduate\", \"Vocational <br>Training\", \"University <br>graduate\", \"University <br>without <br>graduating\", \"University <br>without <br>graduating\", \"University <br>without <br>graduating\", \"University <br>graduate\", \"University <br>graduate\", \"University <br>graduate\", \"University <br>without <br>graduating\", \"University <br>graduate\", \"University <br>without <br>graduating\", \"University <br>graduate\", \"University <br>graduate\", \"University <br>graduate\", \"University <br>without <br>graduating\", \"University <br>without <br>graduating\", \"University <br>without <br>graduating\", \"University <br>without <br>graduating\", \"University <br>without <br>graduating\", \"University <br>without <br>graduating\", \"University <br>without <br>graduating\", \"University <br>without <br>graduating\", \"Unfinished <br>Compulsory<br>Secondary <br>Education\", \"Unfinished <br>Compulsory<br>Secondary <br>Education\", \"Unfinished <br>Compulsory<br>Secondary <br>Education\", \"University <br>graduate\", \"University <br>graduate\", \"Unfinished <br>Compulsory<br>Secondary <br>Education\", \"Unfinished <br>Compulsory<br>Secondary <br>Education\", \"Unfinished <br>Compulsory<br>Secondary <br>Education\", \"Unfinished <br>Compulsory<br>Secondary <br>Education\", \"Unfinished <br>Compulsory<br>Secondary <br>Education\", \"Unfinished <br>Compulsory<br>Secondary <br>Education\", \"University <br>without <br>graduating\", \"Unfinished <br>Compulsory<br>Secondary <br>Education\", \"University <br>graduate\", \"University <br>without <br>graduating\", \"University <br>graduate\", \"Vocational <br>Training\", \"University <br>graduate\", \"University <br>graduate\", \"University <br>graduate\", \"University <br>graduate\", \"University <br>graduate\", \"Vocational <br>Training\", \"University <br>graduate\", \"Vocational <br>Training\", \"Vocational <br>Training\", \"Completed <br>Compulsory<br>Secondary <br>Education\", \"University <br>without <br>graduating\", \"University <br>graduate\", \"University <br>graduate\", \"University <br>graduate\", \"Completed <br>Compulsory<br>Secondary <br>Education\", \"University <br>without <br>graduating\", \"University <br>without <br>graduating\", \"University <br>without <br>graduating\", \"University <br>without <br>graduating\", \"University <br>without <br>graduating\", \"University <br>without <br>graduating\", \"University <br>graduate\", \"University <br>graduate\", \"University <br>graduate\", \"University <br>graduate\", \"University <br>graduate\", \"University <br>graduate\", \"University <br>graduate\", \"University <br>graduate\", \"University <br>graduate\", \"University <br>graduate\", \"University <br>graduate\", \"University <br>graduate\", \"University <br>graduate\", \"University <br>without <br>graduating\", \"University <br>graduate\", \"University <br>without <br>graduating\", \"University <br>graduate\", \"University <br>graduate\", \"University <br>without <br>graduating\", \"Vocational <br>Training\", \"University <br>without <br>graduating\", \"University <br>without <br>graduating\", \"Unfinished <br>Compulsory<br>Secondary <br>Education\", \"Unfinished <br>Compulsory<br>Secondary <br>Education\", \"Unfinished <br>Compulsory<br>Secondary <br>Education\", \"University <br>graduate\", \"Completed <br>Compulsory<br>Secondary <br>Education\", \"Vocational <br>Training\", \"Unfinished <br>Compulsory<br>Secondary <br>Education\", \"Unfinished <br>Compulsory<br>Secondary <br>Education\", \"Unfinished <br>Compulsory<br>Secondary <br>Education\", \"Unfinished <br>Compulsory<br>Secondary <br>Education\", \"Unfinished <br>Compulsory<br>Secondary <br>Education\", \"Unfinished <br>Compulsory<br>Secondary <br>Education\", \"Unfinished <br>Compulsory<br>Secondary <br>Education\", \"Unfinished <br>Compulsory<br>Secondary <br>Education\", \"Unfinished <br>Compulsory<br>Secondary <br>Education\", \"Unfinished <br>Compulsory<br>Secondary <br>Education\", \"Unfinished <br>Compulsory<br>Secondary <br>Education\", \"Unfinished <br>Compulsory<br>Secondary <br>Education\", \"University <br>graduate\", \"University <br>without <br>graduating\", \"University <br>without <br>graduating\", \"University <br>without <br>graduating\", \"Vocational <br>Training\", \"University <br>graduate\", \"University <br>without <br>graduating\", \"University <br>graduate\", \"University <br>graduate\", \"University <br>graduate\", \"University <br>graduate\", \"Primary <br>education\", \"University <br>graduate\", \"University <br>graduate\", \"University <br>graduate\", \"University <br>graduate\", \"University <br>graduate\", \"University <br>without <br>graduating\", \"Completed <br>Compulsory<br>Secondary <br>Education\", \"University <br>graduate\", \"University <br>without <br>graduating\", \"Completed <br>Compulsory<br>Secondary <br>Education\", \"University <br>graduate\", \"University <br>graduate\", \"Vocational <br>Training\", \"University <br>graduate\", \"University <br>graduate\", \"University <br>graduate\", \"University <br>graduate\", \"University <br>without <br>graduating\", \"University <br>graduate\", \"University <br>graduate\", \"University <br>graduate\", \"University <br>graduate\", \"University <br>graduate\", \"University <br>graduate\", \"University <br>graduate\", \"University <br>graduate\", \"University <br>graduate\", \"University <br>graduate\", \"University <br>graduate\", \"University <br>graduate\", \"Completed <br>Compulsory<br>Secondary <br>Education\", \"University <br>without <br>graduating\", \"University <br>graduate\", \"University <br>graduate\", \"Unfinished <br>Compulsory<br>Secondary <br>Education\", \"University <br>graduate\", \"University <br>graduate\", \"University <br>graduate\", \"Primary <br>education\", \"Vocational <br>Training\", \"University <br>graduate\", \"University <br>graduate\", \"Vocational <br>Training\", \"University <br>graduate\", \"University <br>graduate\", \"Vocational <br>Training\", \"University <br>graduate\", \"University <br>graduate\", \"University <br>graduate\", \"University <br>graduate\", \"University <br>graduate\", \"Primary <br>education\", \"University <br>graduate\", \"Completed <br>Compulsory<br>Secondary <br>Education\", \"University <br>graduate\", \"Vocational <br>Training\", \"Primary <br>education\", \"University <br>without <br>graduating\", \"University <br>graduate\", \"University <br>graduate\", \"University <br>graduate\", \"Completed <br>Compulsory<br>Secondary <br>Education\", \"University <br>graduate\", \"University <br>without <br>graduating\", \"Completed <br>Compulsory<br>Secondary <br>Education\", \"University <br>graduate\", \"University <br>graduate\", \"University <br>graduate\", \"University <br>graduate\", \"University <br>graduate\", \"University <br>without <br>graduating\", \"University <br>without <br>graduating\", \"University <br>graduate\", \"University <br>without <br>graduating\", \"University <br>graduate\", \"University <br>graduate\", \"University <br>graduate\", \"Completed <br>Compulsory<br>Secondary <br>Education\", \"University <br>without <br>graduating\", \"University <br>graduate\", \"University <br>graduate\", \"University <br>graduate\", \"University <br>graduate\", \"University <br>graduate\", \"Vocational <br>Training\", \"University <br>graduate\", \"University <br>graduate\", \"University <br>graduate\", \"University <br>graduate\", \"University <br>graduate\", \"University <br>graduate\", \"University <br>graduate\", \"Completed <br>Compulsory<br>Secondary <br>Education\", \"University <br>without <br>graduating\", \"Completed <br>Compulsory<br>Secondary <br>Education\", \"University <br>graduate\", \"University <br>graduate\", \"University <br>graduate\", \"University <br>without <br>graduating\", \"University <br>graduate\", \"University <br>graduate\", \"Primary <br>education\", \"University <br>graduate\", \"Completed <br>Compulsory<br>Secondary <br>Education\", \"University <br>without <br>graduating\", \"Completed <br>Compulsory<br>Secondary <br>Education\", \"University <br>graduate\", \"Completed <br>Compulsory<br>Secondary <br>Education\", \"University <br>without <br>graduating\", \"University <br>graduate\", \"Completed <br>Compulsory<br>Secondary <br>Education\", \"University <br>graduate\", \"Primary <br>education\", \"University <br>graduate\", \"University <br>graduate\", \"University <br>graduate\", \"University <br>without <br>graduating\", \"University <br>graduate\", \"Completed <br>Compulsory<br>Secondary <br>Education\", \"University <br>without <br>graduating\", \"University <br>graduate\", \"University <br>graduate\", \"University <br>graduate\", \"University <br>without <br>graduating\", \"Completed <br>Compulsory<br>Secondary <br>Education\", \"University <br>graduate\", \"University <br>graduate\", \"University <br>without <br>graduating\", \"University <br>graduate\", \"Vocational <br>Training\", \"University <br>without <br>graduating\", \"University <br>graduate\", \"Completed <br>Compulsory<br>Secondary <br>Education\", \"Primary <br>education\", \"University <br>graduate\", \"University <br>graduate\", \"University <br>graduate\", \"University <br>graduate\", \"University <br>graduate\", \"University <br>graduate\", \"University <br>without <br>graduating\", \"University <br>graduate\", \"University <br>graduate\", \"Vocational <br>Training\", \"University <br>without <br>graduating\", \"University <br>without <br>graduating\", \"Primary <br>education\", \"University <br>without <br>graduating\", \"University <br>graduate\", \"Completed <br>Compulsory<br>Secondary <br>Education\", \"University <br>graduate\", \"University <br>without <br>graduating\", \"University <br>graduate\", \"University <br>graduate\", \"University <br>graduate\", \"University <br>graduate\", \"Vocational <br>Training\", \"Unfinished <br>Compulsory<br>Secondary <br>Education\", \"University <br>without <br>graduating\", \"University <br>graduate\", \"University <br>graduate\", \"University <br>graduate\", \"University <br>graduate\", \"Completed <br>Compulsory<br>Secondary <br>Education\", \"University <br>without <br>graduating\", \"University <br>without <br>graduating\", \"University <br>graduate\", \"University <br>graduate\", \"University <br>graduate\", \"University <br>graduate\", \"University <br>graduate\", \"Completed <br>Compulsory<br>Secondary <br>Education\", \"University <br>without <br>graduating\", \"University <br>without <br>graduating\", \"University <br>graduate\", \"University <br>without <br>graduating\", \"University <br>graduate\", \"University <br>graduate\", \"University <br>graduate\", \"Completed <br>Compulsory<br>Secondary <br>Education\", \"University <br>graduate\", \"University <br>graduate\", \"University <br>graduate\", \"University <br>graduate\", \"University <br>graduate\", \"University <br>graduate\", \"University <br>graduate\", \"University <br>graduate\", \"Completed <br>Compulsory<br>Secondary <br>Education\", \"Unfinished <br>Compulsory<br>Secondary <br>Education\", \"University <br>without <br>graduating\", \"Vocational <br>Training\", \"University <br>without <br>graduating\", \"University <br>without <br>graduating\", \"Completed <br>Compulsory<br>Secondary <br>Education\", \"University <br>without <br>graduating\", \"University <br>graduate\", \"University <br>without <br>graduating\", \"University <br>without <br>graduating\", \"Primary <br>education\", \"University <br>graduate\", \"Unfinished <br>Compulsory<br>Secondary <br>Education\", \"University <br>graduate\", \"University <br>graduate\", \"University <br>graduate\", \"University <br>without <br>graduating\", \"University <br>without <br>graduating\", \"Primary <br>education\", \"University <br>graduate\", \"University <br>graduate\", \"University <br>graduate\", \"University <br>graduate\", \"University <br>without <br>graduating\", \"University <br>graduate\", \"University <br>graduate\", \"Vocational <br>Training\", \"University <br>graduate\", \"University <br>graduate\", \"University <br>graduate\", \"University <br>graduate\", \"Completed <br>Compulsory<br>Secondary <br>Education\", \"University <br>graduate\", \"University <br>graduate\", \"University <br>graduate\", \"University <br>graduate\", \"University <br>graduate\", \"University <br>graduate\", \"Completed <br>Compulsory<br>Secondary <br>Education\", \"University <br>without <br>graduating\", \"University <br>graduate\", \"University <br>graduate\", \"University <br>graduate\", \"Vocational <br>Training\", \"University <br>graduate\", \"Vocational <br>Training\", \"University <br>graduate\", \"University <br>graduate\", \"University <br>without <br>graduating\", \"University <br>graduate\", \"University <br>without <br>graduating\", \"University <br>graduate\", \"University <br>graduate\", \"University <br>without <br>graduating\", \"University <br>graduate\", \"University <br>graduate\", \"Completed <br>Compulsory<br>Secondary <br>Education\", \"University <br>without <br>graduating\", \"University <br>graduate\", \"University <br>graduate\", \"University <br>graduate\", \"University <br>graduate\", \"University <br>graduate\", \"University <br>graduate\", \"University <br>graduate\", \"University <br>without <br>graduating\"], \"type\": \"scatter\", \"uid\": \"23122c56-62da-4ed4-9b2d-f77ebe69bbd8\"}, {\"marker\": {\"color\": \"rgb(244,109,67)\", \"opacity\": [[0.8], [0.8], [0.8], [0.8], [0.8], [0.8], [0.8], [0.8], [0.8], [0.8], [0.8], [0.8], [0.8], [0.8], [0.8], [0.8], [0.8], [0.8], [0.8], [0.8], [0.8], [0.8], [0.8], [0.8], [0.8], [0.8], [0.8], [0.8], [0.8], [0.8], [0.8], [0.8], [0.8], [0.8], [0.8], [0.8], [0.8], [0.8], [0.8], [0.8], [0.8], [0.8], [0.8], [0.8], [0.8], [0.8], [0.8], [0.8], [0.8], [0.8], [0.8], [0.8], [0.8], [0.8], [0.8], [0.8], [0.8], [0.8], [0.8], [0.8], [0.8], [0.8], [0.8], [0.8], [0.8], [0.8], [0.8], [0.8], [0.8], [0.8], [0.8], [0.8], [0.8], [0.8], [0.8], [0.8], [0.8], [0.8], [0.8], [0.8], [0.8], [0.8], [0.8], [0.8], [0.8], [0.8], [0.8], [0.8], [0.8], [0.8], [0.8], [0.8], [0.8], [0.8], [0.8], [0.8], [0.8], [0.8], [0.8], [0.8], [0.8], [0.8], [0.8], [0.8], [0.8], [0.8], [0.8], [0.8], [0.8], [0.8], [0.8], [0.8], [0.8], [0.8], [0.8], [0.8], [0.8], [0.8], [0.8], [0.8], [0.8], [0.8], [0.8], [0.8], [0.8], [0.8], [0.8], [0.8], [0.8], [0.8], [0.8], [0.8], [0.8], [0.8], [0.8], [0.8], [0.8], [0.8], [0.8], [0.8], [0.8], [0.8], [0.8], [0.8], [0.8], [0.8], [0.8], [0.8], [0.8], [0.8], [0.8], [0.8], [0.8], [0.8], [0.8], [0.8], [0.8], [0.8], [0.8], [0.8], [0.8], [0.8], [0.8], [0.8], [0.8], [0.8], [0.8], [0.8], [0.8], [0.8], [0.8], [0.8], [0.8], [0.8], [0.8], [0.8], [0.8], [0.8], [0.8], [0.8], [0.8], [0.8], [0.8], [0.8], [0.8], [0.8], [0.8], [0.8], [0.8], [0.8], [0.8], [0.8], [0.8], [0.8], [0.8], [0.8], [0.8], [0.8], [0.8], [0.8], [0.8], [0.8], [0.8], [0.8], [0.8], [0.8], [0.8], [0.8], [0.8], [0.8], [0.8], [0.8], [0.8], [0.8], [0.8], [0.8], [0.8], [0.8], [0.8], [0.8], [0.8], [0.8], [0.8], [0.8], [0.8], [0.8], [0.8], [0.8], [0.8], [0.8], [0.8], [0.8], [0.8], [0.8], [0.8], [0.8], [0.8], [0.8], [0.8], [0.8], [0.8], [0.8], [0.8], [0.8], [0.8], [0.8], [0.8], [0.8], [0.8], [0.8], [0.8], [0.8], [0.8], [0.8], [0.8], [0.8], [0.8], [0.8], [0.8], [0.8], [0.8], [0.8], [0.8], [0.8], [0.8], [0.8], [0.8], [0.8], [0.8], [0.8], [0.8], [0.8], [0.8], [0.8], [0.8], [0.8], [0.8], [0.8], [0.8], [0.8], [0.8], [0.8], [0.8], [0.8], [0.8], [0.8], [0.8], [0.8], [0.8], [0.8], [0.8], [0.8], [0.8], [0.8], [0.8], [0.8], [0.8], [0.8], [0.8], [0.8], [0.8], [0.8], [0.8], [0.8], [0.8], [0.8], [0.8], [0.8], [0.8], [0.8], [0.8], [0.8], [0.8], [0.8], [0.8], [0.8], [0.8], [0.8], [0.8], [0.8], [0.8], [0.8], [0.8], [0.8], [0.8], [0.8], [0.8], [0.8], [0.8], [0.8], [0.8], [0.8], [0.8], [0.8], [0.8], [0.8], [0.8], [0.8], [0.8], [0.8], [0.8], [0.8], [0.8], [0.8], [0.8], [0.8], [0.8], [0.8], [0.8], [0.8], [0.8], [0.8], [0.8], [0.8], [0.8], [0.8], [0.8], [0.8], [0.8], [0.8], [0.8], [0.8], [0.8], [0.8], [0.8], [0.8], [0.8], [0.8], [0.8], [0.8], [0.8], [0.8], [0.8], [0.8], [0.8], [0.8], [0.8], [0.8], [0.8], [0.8], [0.8], [0.8], [0.8], [0.8], [0.8], [0.8], [0.8], [0.8], [0.8], [0.8], [0.8], [0.8], [0.8], [0.8], [0.8], [0.8], [0.8], [0.8], [0.8], [0.8], [0.8], [0.8], [0.8], [0.8], [0.8], [0.8], [0.8], [0.8], [0.8], [0.8], [0.8], [0.8], [0.8], [0.8], [0.8], [0.8], [0.8], [0.8], [0.8], [0.8], [0.8], [0.8], [0.8], [0.8], [0.8], [0.8], [0.8], [0.8], [0.8], [0.8], [0.8], [0.8], [0.8], [0.8], [0.8], [0.8], [0.8], [0.8], [0.8], [0.8], [0.8], [0.8], [0.8], [0.8], [0.8], [0.8], [0.8], [0.8], [0.8], [0.8], [0.8], [0.8], [0.8], [0.8], [0.8], [0.8], [0.8], [0.8], [0.8], [0.8], [0.8], [0.8], [0.8], [0.8], [0.8], [0.8], [0.8], [0.8], [0.8], [0.8], [0.8], [0.8], [0.8], [0.8], [0.8], [0.8], [0.8], [0.8], [0.8], [0.8], [0.8], [0.8], [0.8], [0.8], [0.8], [0.8], [0.8], [0.8], [0.8], [0.8], [0.8], [0.8], [0.8], [0.8], [0.8], [0.8], [0.8], [0.8], [0.8], [0.8], [0.8], [0.8], [0.8], [0.8], [0.8], [0.8], [0.8], [0.8], [0.8], [0.8], [0.8], [0.8], [0.8], [0.8], [0.8], [0.8], [0.8], [0.8], [0.8], [0.8], [0.8], [0.8], [0.8], [0.8], [0.8], [0.8], [0.8], [0.8], [0.8], [0.8], [0.8], [0.8], [0.8], [0.8], [0.8], [0.8], [0.8], [0.8], [0.8], [0.8], [0.8], [0.8], [0.8], [0.8], [0.8], [0.8], [0.8], [0.8], [0.8], [0.8], [0.8], [0.8], [0.8], [0.8], [0.8], [0.8], [0.8], [0.8], [0.8], [0.8], [0.8], [0.8], [0.8], [0.8], [0.8], [0.8], [0.8], [0.8], [0.8], [0.8], [0.8], [0.8], [0.8], [0.8], [0.8], [0.8], [0.8], [0.8], [0.8], [0.8], [0.8], [0.8], [0.8], [0.8], [0.8], [0.8], [0.8], [0.8], [0.8], [0.8], [0.8], [0.8], [0.8], [0.8], [0.8], [0.8], [0.8], [0.8], [0.8], [0.8], [0.8], [0.8], [0.8], [0.8], [0.8], [0.8], [0.8], [0.8], [0.8], [0.8], [0.8], [0.8], [0.8], [0.8], [0.8], [0.8], [0.8], [0.8], [0.8], [0.8], [0.8], [0.8], [0.8], [0.8], [0.8], [0.8], [0.8], [0.8], [0.8], [0.8], [0.8], [0.8], [0.8], [0.8], [0.8], [0.8], [0.8], [0.8], [0.8], [0.8], [0.8], [0.8], [0.8], [0.8], [0.8], [0.8], [0.8], [0.8], [0.8], [0.8], [0.8], [0.8], [0.8], [0.8], [0.8], [0.8], [0.8], [0.8], [0.8], [0.8], [0.8], [0.8], [0.8], [0.8], [0.8], [0.8], [0.8], [0.8], [0.8], [0.8], [0.8], [0.8], [0.8], [0.8], [0.8], [0.8], [0.8], [0.8], [0.8], [0.8], [0.8], [0.8], [0.8], [0.8], [0.8], [0.8], [0.8], [0.8], [0.8], [0.8], [0.8], [0.8], [0.8], [0.8], [0.8], [0.8], [0.8], [0.8], [0.8], [0.8], [0.8], [0.8], [0.8], [0.8], [0.8], [0.8], [0.8], [0.8], [0.8], [0.8], [0.8], [0.8], [0.8], [0.8], [0.8], [0.8], [0.8], [0.8], [0.8], [0.8], [0.8], [0.8], [0.8], [0.8], [0.8], [0.8], [0.8], [0.8], [0.8], [0.8], [0.8], [0.8], [0.8], [0.8], [0.8], [0.8], [0.8], [0.8], [0.8], [0.8], [0.8], [0.8], [0.8], [0.8], [0.8], [0.8], [0.8], [0.8], [0.8], [0.8], [0.8], [0.8], [0.8], [0.8], [0.8], [0.8], [0.8], [0.8], [0.8], [0.8], [0.8], [0.8], [0.8], [0.8], [0.8], [0.8], [0.8]]}, \"mode\": \"markers\", \"name\": \"Other\", \"x\": [0, 0, 0, 7, 0, 28], \"y\": [\"University <br>without <br>graduating\", \"University <br>without <br>graduating\", \"Unfinished <br>Compulsory<br>Secondary <br>Education\", \"University <br>without <br>graduating\", \"University <br>without <br>graduating\", \"University <br>graduate\"], \"type\": \"scatter\", \"uid\": \"5e890dd8-8c77-4dcd-ad9c-1887cb59999b\"}], {\"xaxis\": {\"ticktext\": [\"Spain\", \"Colombia\", \"Mexico\", \"Dominican Rep.\", \"Austria\", \"Chile\", \"France\", \"Canada\", \"Niger\", \"China\", \"Australia\", \"Russia\", \"Germany\", \"Brazil\", \"USA\", \"India\", \"Slovakia\", \"Italy\", \"England\", \"Cuba\", \"Ukraine\", \"Venezuela\", \"Indonesia\", \"Albania\", \"Pakistan\", \"The Bahamas\", \"Argentina\", \"Iceland\", \"Scotland\", \"Sudan\", \"New Zealand\", \"Ireland\", \"Macedonia\", \"Unknown\"], \"tickvals\": [0, 1, 2, 3, 4, 5, 6, 7, 8, 9, 10, 11, 12, 13, 14, 15, 16, 17, 18, 19, 20, 21, 22, 23, 24, 25, 26, 27, 28, 29, 30, 31, 32, 33], \"title\": {\"text\": \"Nationality\"}}}, {\"showLink\": false, \"linkText\": \"Export to plot.ly\", \"plotlyServerURL\": \"https://plot.ly\"}); \n",
       "}\n",
       "});</script><script type=\"text/javascript\">window.addEventListener(\"resize\", function(){if (document.getElementById(\"3378228b-bf61-48c1-8d71-357f1106aef6\")) {window._Plotly.Plots.resize(document.getElementById(\"3378228b-bf61-48c1-8d71-357f1106aef6\"));};})</script>"
      ]
     },
     "metadata": {},
     "output_type": "display_data"
    }
   ],
   "source": [
    "for country in data_complete_nationality['Nationality'].unique():\n",
    "    print(\n",
    "        f'Describing the variable Gender in {country} related to Educational level')\n",
    "    display(\n",
    "        data_complete_nationality[data_complete_nationality['Nationality'] == country].groupby(\n",
    "            ['Educational level'])['Gender'].describe())\n",
    "    print(\n",
    "        f'Count of each value in Gender related to each Educational level in {country} expressed as Educational level | Gender | Amount')\n",
    "    display(\n",
    "        data_complete_nationality[data_complete_nationality['Nationality'] == country].groupby(\n",
    "            ['Educational level'])['Gender'].value_counts())\n",
    "    print(\n",
    "        f'Percentage of each value in Gender related to each Educational level in {country} expressed as Educational level | Gender | Percentage')\n",
    "    display(data_complete_nationality[data_complete_nationality['Nationality'] == country].groupby(\n",
    "            ['Educational level'])['Gender'].value_counts(\n",
    "        normalize=True).round(4) * 100)\n",
    "\n",
    "fig9 = {\n",
    "    'data': [\n",
    "        {\n",
    "            'x': data_complete_en[data_complete_en['Gender'] == gender]['Nationality'],\n",
    "            'y': data_complete_en[data_complete_en['Gender'] == gender]['Educational level'],\n",
    "            'name': gender,\n",
    "            'mode': 'markers',\n",
    "            'marker': dict(\n",
    "                opacity=np.full(\n",
    "                    (len(data_complete_en.index), 1), 0.8),\n",
    "                color=colors_gender[gender],\n",
    "                #size=(data_complete_en[(data_complete_en['Gender'] == gender)].groupby(\n",
    "                #    ['Nationality'])['Educational level'].value_counts()*5)\n",
    "            ),\n",
    "            'name': names_gender[gender]\n",
    "        } for gender in data_complete_en['Gender'].unique()\n",
    "    ],\n",
    "    'layout': {\n",
    "        'xaxis': {\n",
    "            'title': 'Nationality',\n",
    "            'ticktext': labels_nationality,\n",
    "            'tickvals': tickvals_nationality\n",
    "        },\n",
    "        'yaxis': {\n",
    "            # 'title': \"Age\"\n",
    "        }\n",
    "\n",
    "    }\n",
    "}\n",
    "\n",
    "iplot(fig9)\n",
    "plt.show()"
   ]
  },
  {
   "cell_type": "markdown",
   "metadata": {},
   "source": [
    "## Distribution of gender by origin"
   ]
  },
  {
   "cell_type": "code",
   "execution_count": 15,
   "metadata": {
    "scrolled": false
   },
   "outputs": [
    {
     "name": "stdout",
     "output_type": "stream",
     "text": [
      "Describing the variable Gender in Spain\n"
     ]
    },
    {
     "data": {
      "text/plain": [
       "count    217.000000\n",
       "mean       0.599078\n",
       "std        0.527572\n",
       "min        0.000000\n",
       "25%        0.000000\n",
       "50%        1.000000\n",
       "75%        1.000000\n",
       "max        2.000000\n",
       "Name: Gender, dtype: float64"
      ]
     },
     "metadata": {},
     "output_type": "display_data"
    },
    {
     "name": "stdout",
     "output_type": "stream",
     "text": [
      "Count of each value in Gender in Spain expresed as gender / amount\n"
     ]
    },
    {
     "data": {
      "text/plain": [
       "1    122\n",
       "0     91\n",
       "2      4\n",
       "Name: Gender, dtype: int64"
      ]
     },
     "metadata": {},
     "output_type": "display_data"
    },
    {
     "name": "stdout",
     "output_type": "stream",
     "text": [
      "Percentage of each value in Spain expresed as gender / percentage\n"
     ]
    },
    {
     "data": {
      "text/plain": [
       "1    56.22\n",
       "0    41.94\n",
       "2     1.84\n",
       "Name: Gender, dtype: float64"
      ]
     },
     "metadata": {},
     "output_type": "display_data"
    },
    {
     "name": "stdout",
     "output_type": "stream",
     "text": [
      "Describing the variable Gender in Colombia\n"
     ]
    },
    {
     "data": {
      "text/plain": [
       "count    1.0\n",
       "mean     1.0\n",
       "std      NaN\n",
       "min      1.0\n",
       "25%      1.0\n",
       "50%      1.0\n",
       "75%      1.0\n",
       "max      1.0\n",
       "Name: Gender, dtype: float64"
      ]
     },
     "metadata": {},
     "output_type": "display_data"
    },
    {
     "name": "stdout",
     "output_type": "stream",
     "text": [
      "Count of each value in Gender in Colombia expresed as gender / amount\n"
     ]
    },
    {
     "data": {
      "text/plain": [
       "1    1\n",
       "Name: Gender, dtype: int64"
      ]
     },
     "metadata": {},
     "output_type": "display_data"
    },
    {
     "name": "stdout",
     "output_type": "stream",
     "text": [
      "Percentage of each value in Colombia expresed as gender / percentage\n"
     ]
    },
    {
     "data": {
      "text/plain": [
       "1    100.0\n",
       "Name: Gender, dtype: float64"
      ]
     },
     "metadata": {},
     "output_type": "display_data"
    },
    {
     "name": "stdout",
     "output_type": "stream",
     "text": [
      "Describing the variable Gender in Dominican Rep.\n"
     ]
    },
    {
     "data": {
      "text/plain": [
       "count    2.000000\n",
       "mean     0.500000\n",
       "std      0.707107\n",
       "min      0.000000\n",
       "25%      0.250000\n",
       "50%      0.500000\n",
       "75%      0.750000\n",
       "max      1.000000\n",
       "Name: Gender, dtype: float64"
      ]
     },
     "metadata": {},
     "output_type": "display_data"
    },
    {
     "name": "stdout",
     "output_type": "stream",
     "text": [
      "Count of each value in Gender in Dominican Rep. expresed as gender / amount\n"
     ]
    },
    {
     "data": {
      "text/plain": [
       "1    1\n",
       "0    1\n",
       "Name: Gender, dtype: int64"
      ]
     },
     "metadata": {},
     "output_type": "display_data"
    },
    {
     "name": "stdout",
     "output_type": "stream",
     "text": [
      "Percentage of each value in Dominican Rep. expresed as gender / percentage\n"
     ]
    },
    {
     "data": {
      "text/plain": [
       "1    50.0\n",
       "0    50.0\n",
       "Name: Gender, dtype: float64"
      ]
     },
     "metadata": {},
     "output_type": "display_data"
    },
    {
     "name": "stdout",
     "output_type": "stream",
     "text": [
      "Describing the variable Gender in Austria\n"
     ]
    },
    {
     "data": {
      "text/plain": [
       "count    1.0\n",
       "mean     1.0\n",
       "std      NaN\n",
       "min      1.0\n",
       "25%      1.0\n",
       "50%      1.0\n",
       "75%      1.0\n",
       "max      1.0\n",
       "Name: Gender, dtype: float64"
      ]
     },
     "metadata": {},
     "output_type": "display_data"
    },
    {
     "name": "stdout",
     "output_type": "stream",
     "text": [
      "Count of each value in Gender in Austria expresed as gender / amount\n"
     ]
    },
    {
     "data": {
      "text/plain": [
       "1    1\n",
       "Name: Gender, dtype: int64"
      ]
     },
     "metadata": {},
     "output_type": "display_data"
    },
    {
     "name": "stdout",
     "output_type": "stream",
     "text": [
      "Percentage of each value in Austria expresed as gender / percentage\n"
     ]
    },
    {
     "data": {
      "text/plain": [
       "1    100.0\n",
       "Name: Gender, dtype: float64"
      ]
     },
     "metadata": {},
     "output_type": "display_data"
    },
    {
     "name": "stdout",
     "output_type": "stream",
     "text": [
      "Describing the variable Gender in Chile\n"
     ]
    },
    {
     "data": {
      "text/plain": [
       "count    1.0\n",
       "mean     1.0\n",
       "std      NaN\n",
       "min      1.0\n",
       "25%      1.0\n",
       "50%      1.0\n",
       "75%      1.0\n",
       "max      1.0\n",
       "Name: Gender, dtype: float64"
      ]
     },
     "metadata": {},
     "output_type": "display_data"
    },
    {
     "name": "stdout",
     "output_type": "stream",
     "text": [
      "Count of each value in Gender in Chile expresed as gender / amount\n"
     ]
    },
    {
     "data": {
      "text/plain": [
       "1    1\n",
       "Name: Gender, dtype: int64"
      ]
     },
     "metadata": {},
     "output_type": "display_data"
    },
    {
     "name": "stdout",
     "output_type": "stream",
     "text": [
      "Percentage of each value in Chile expresed as gender / percentage\n"
     ]
    },
    {
     "data": {
      "text/plain": [
       "1    100.0\n",
       "Name: Gender, dtype: float64"
      ]
     },
     "metadata": {},
     "output_type": "display_data"
    },
    {
     "name": "stdout",
     "output_type": "stream",
     "text": [
      "Describing the variable Gender in France\n"
     ]
    },
    {
     "data": {
      "text/plain": [
       "count    19.000000\n",
       "mean      0.736842\n",
       "std       0.452414\n",
       "min       0.000000\n",
       "25%       0.500000\n",
       "50%       1.000000\n",
       "75%       1.000000\n",
       "max       1.000000\n",
       "Name: Gender, dtype: float64"
      ]
     },
     "metadata": {},
     "output_type": "display_data"
    },
    {
     "name": "stdout",
     "output_type": "stream",
     "text": [
      "Count of each value in Gender in France expresed as gender / amount\n"
     ]
    },
    {
     "data": {
      "text/plain": [
       "1    14\n",
       "0     5\n",
       "Name: Gender, dtype: int64"
      ]
     },
     "metadata": {},
     "output_type": "display_data"
    },
    {
     "name": "stdout",
     "output_type": "stream",
     "text": [
      "Percentage of each value in France expresed as gender / percentage\n"
     ]
    },
    {
     "data": {
      "text/plain": [
       "1    73.68\n",
       "0    26.32\n",
       "Name: Gender, dtype: float64"
      ]
     },
     "metadata": {},
     "output_type": "display_data"
    },
    {
     "name": "stdout",
     "output_type": "stream",
     "text": [
      "Describing the variable Gender in Canada\n"
     ]
    },
    {
     "data": {
      "text/plain": [
       "count    9.000000\n",
       "mean     0.555556\n",
       "std      0.726483\n",
       "min      0.000000\n",
       "25%      0.000000\n",
       "50%      0.000000\n",
       "75%      1.000000\n",
       "max      2.000000\n",
       "Name: Gender, dtype: float64"
      ]
     },
     "metadata": {},
     "output_type": "display_data"
    },
    {
     "name": "stdout",
     "output_type": "stream",
     "text": [
      "Count of each value in Gender in Canada expresed as gender / amount\n"
     ]
    },
    {
     "data": {
      "text/plain": [
       "0    5\n",
       "1    3\n",
       "2    1\n",
       "Name: Gender, dtype: int64"
      ]
     },
     "metadata": {},
     "output_type": "display_data"
    },
    {
     "name": "stdout",
     "output_type": "stream",
     "text": [
      "Percentage of each value in Canada expresed as gender / percentage\n"
     ]
    },
    {
     "data": {
      "text/plain": [
       "0    55.56\n",
       "1    33.33\n",
       "2    11.11\n",
       "Name: Gender, dtype: float64"
      ]
     },
     "metadata": {},
     "output_type": "display_data"
    },
    {
     "name": "stdout",
     "output_type": "stream",
     "text": [
      "Describing the variable Gender in Niger\n"
     ]
    },
    {
     "data": {
      "text/plain": [
       "count    4.0\n",
       "mean     0.0\n",
       "std      0.0\n",
       "min      0.0\n",
       "25%      0.0\n",
       "50%      0.0\n",
       "75%      0.0\n",
       "max      0.0\n",
       "Name: Gender, dtype: float64"
      ]
     },
     "metadata": {},
     "output_type": "display_data"
    },
    {
     "name": "stdout",
     "output_type": "stream",
     "text": [
      "Count of each value in Gender in Niger expresed as gender / amount\n"
     ]
    },
    {
     "data": {
      "text/plain": [
       "0    4\n",
       "Name: Gender, dtype: int64"
      ]
     },
     "metadata": {},
     "output_type": "display_data"
    },
    {
     "name": "stdout",
     "output_type": "stream",
     "text": [
      "Percentage of each value in Niger expresed as gender / percentage\n"
     ]
    },
    {
     "data": {
      "text/plain": [
       "0    100.0\n",
       "Name: Gender, dtype: float64"
      ]
     },
     "metadata": {},
     "output_type": "display_data"
    },
    {
     "name": "stdout",
     "output_type": "stream",
     "text": [
      "Describing the variable Gender in Australia\n"
     ]
    },
    {
     "data": {
      "text/plain": [
       "count    1.0\n",
       "mean     0.0\n",
       "std      NaN\n",
       "min      0.0\n",
       "25%      0.0\n",
       "50%      0.0\n",
       "75%      0.0\n",
       "max      0.0\n",
       "Name: Gender, dtype: float64"
      ]
     },
     "metadata": {},
     "output_type": "display_data"
    },
    {
     "name": "stdout",
     "output_type": "stream",
     "text": [
      "Count of each value in Gender in Australia expresed as gender / amount\n"
     ]
    },
    {
     "data": {
      "text/plain": [
       "0    1\n",
       "Name: Gender, dtype: int64"
      ]
     },
     "metadata": {},
     "output_type": "display_data"
    },
    {
     "name": "stdout",
     "output_type": "stream",
     "text": [
      "Percentage of each value in Australia expresed as gender / percentage\n"
     ]
    },
    {
     "data": {
      "text/plain": [
       "0    100.0\n",
       "Name: Gender, dtype: float64"
      ]
     },
     "metadata": {},
     "output_type": "display_data"
    },
    {
     "name": "stdout",
     "output_type": "stream",
     "text": [
      "Describing the variable Gender in Russia\n"
     ]
    },
    {
     "data": {
      "text/plain": [
       "count    2.000000\n",
       "mean     0.500000\n",
       "std      0.707107\n",
       "min      0.000000\n",
       "25%      0.250000\n",
       "50%      0.500000\n",
       "75%      0.750000\n",
       "max      1.000000\n",
       "Name: Gender, dtype: float64"
      ]
     },
     "metadata": {},
     "output_type": "display_data"
    },
    {
     "name": "stdout",
     "output_type": "stream",
     "text": [
      "Count of each value in Gender in Russia expresed as gender / amount\n"
     ]
    },
    {
     "data": {
      "text/plain": [
       "1    1\n",
       "0    1\n",
       "Name: Gender, dtype: int64"
      ]
     },
     "metadata": {},
     "output_type": "display_data"
    },
    {
     "name": "stdout",
     "output_type": "stream",
     "text": [
      "Percentage of each value in Russia expresed as gender / percentage\n"
     ]
    },
    {
     "data": {
      "text/plain": [
       "1    50.0\n",
       "0    50.0\n",
       "Name: Gender, dtype: float64"
      ]
     },
     "metadata": {},
     "output_type": "display_data"
    },
    {
     "name": "stdout",
     "output_type": "stream",
     "text": [
      "Describing the variable Gender in Brazil\n"
     ]
    },
    {
     "data": {
      "text/plain": [
       "count    3.000000\n",
       "mean     0.333333\n",
       "std      0.577350\n",
       "min      0.000000\n",
       "25%      0.000000\n",
       "50%      0.000000\n",
       "75%      0.500000\n",
       "max      1.000000\n",
       "Name: Gender, dtype: float64"
      ]
     },
     "metadata": {},
     "output_type": "display_data"
    },
    {
     "name": "stdout",
     "output_type": "stream",
     "text": [
      "Count of each value in Gender in Brazil expresed as gender / amount\n"
     ]
    },
    {
     "data": {
      "text/plain": [
       "0    2\n",
       "1    1\n",
       "Name: Gender, dtype: int64"
      ]
     },
     "metadata": {},
     "output_type": "display_data"
    },
    {
     "name": "stdout",
     "output_type": "stream",
     "text": [
      "Percentage of each value in Brazil expresed as gender / percentage\n"
     ]
    },
    {
     "data": {
      "text/plain": [
       "0    66.67\n",
       "1    33.33\n",
       "Name: Gender, dtype: float64"
      ]
     },
     "metadata": {},
     "output_type": "display_data"
    },
    {
     "name": "stdout",
     "output_type": "stream",
     "text": [
      "Describing the variable Gender in China\n"
     ]
    },
    {
     "data": {
      "text/plain": [
       "count    1.0\n",
       "mean     0.0\n",
       "std      NaN\n",
       "min      0.0\n",
       "25%      0.0\n",
       "50%      0.0\n",
       "75%      0.0\n",
       "max      0.0\n",
       "Name: Gender, dtype: float64"
      ]
     },
     "metadata": {},
     "output_type": "display_data"
    },
    {
     "name": "stdout",
     "output_type": "stream",
     "text": [
      "Count of each value in Gender in China expresed as gender / amount\n"
     ]
    },
    {
     "data": {
      "text/plain": [
       "0    1\n",
       "Name: Gender, dtype: int64"
      ]
     },
     "metadata": {},
     "output_type": "display_data"
    },
    {
     "name": "stdout",
     "output_type": "stream",
     "text": [
      "Percentage of each value in China expresed as gender / percentage\n"
     ]
    },
    {
     "data": {
      "text/plain": [
       "0    100.0\n",
       "Name: Gender, dtype: float64"
      ]
     },
     "metadata": {},
     "output_type": "display_data"
    },
    {
     "name": "stdout",
     "output_type": "stream",
     "text": [
      "Describing the variable Gender in USA\n"
     ]
    },
    {
     "data": {
      "text/plain": [
       "count    306.000000\n",
       "mean       0.516340\n",
       "std        0.500552\n",
       "min        0.000000\n",
       "25%        0.000000\n",
       "50%        1.000000\n",
       "75%        1.000000\n",
       "max        1.000000\n",
       "Name: Gender, dtype: float64"
      ]
     },
     "metadata": {},
     "output_type": "display_data"
    },
    {
     "name": "stdout",
     "output_type": "stream",
     "text": [
      "Count of each value in Gender in USA expresed as gender / amount\n"
     ]
    },
    {
     "data": {
      "text/plain": [
       "1    158\n",
       "0    148\n",
       "Name: Gender, dtype: int64"
      ]
     },
     "metadata": {},
     "output_type": "display_data"
    },
    {
     "name": "stdout",
     "output_type": "stream",
     "text": [
      "Percentage of each value in USA expresed as gender / percentage\n"
     ]
    },
    {
     "data": {
      "text/plain": [
       "1    51.63\n",
       "0    48.37\n",
       "Name: Gender, dtype: float64"
      ]
     },
     "metadata": {},
     "output_type": "display_data"
    },
    {
     "name": "stdout",
     "output_type": "stream",
     "text": [
      "Describing the variable Gender in Unknown\n"
     ]
    },
    {
     "data": {
      "text/plain": [
       "count    38.000000\n",
       "mean      0.868421\n",
       "std       0.342570\n",
       "min       0.000000\n",
       "25%       1.000000\n",
       "50%       1.000000\n",
       "75%       1.000000\n",
       "max       1.000000\n",
       "Name: Gender, dtype: float64"
      ]
     },
     "metadata": {},
     "output_type": "display_data"
    },
    {
     "name": "stdout",
     "output_type": "stream",
     "text": [
      "Count of each value in Gender in Unknown expresed as gender / amount\n"
     ]
    },
    {
     "data": {
      "text/plain": [
       "1    33\n",
       "0     5\n",
       "Name: Gender, dtype: int64"
      ]
     },
     "metadata": {},
     "output_type": "display_data"
    },
    {
     "name": "stdout",
     "output_type": "stream",
     "text": [
      "Percentage of each value in Unknown expresed as gender / percentage\n"
     ]
    },
    {
     "data": {
      "text/plain": [
       "1    86.84\n",
       "0    13.16\n",
       "Name: Gender, dtype: float64"
      ]
     },
     "metadata": {},
     "output_type": "display_data"
    },
    {
     "name": "stdout",
     "output_type": "stream",
     "text": [
      "Describing the variable Gender in Slovakia\n"
     ]
    },
    {
     "data": {
      "text/plain": [
       "count    1.0\n",
       "mean     0.0\n",
       "std      NaN\n",
       "min      0.0\n",
       "25%      0.0\n",
       "50%      0.0\n",
       "75%      0.0\n",
       "max      0.0\n",
       "Name: Gender, dtype: float64"
      ]
     },
     "metadata": {},
     "output_type": "display_data"
    },
    {
     "name": "stdout",
     "output_type": "stream",
     "text": [
      "Count of each value in Gender in Slovakia expresed as gender / amount\n"
     ]
    },
    {
     "data": {
      "text/plain": [
       "0    1\n",
       "Name: Gender, dtype: int64"
      ]
     },
     "metadata": {},
     "output_type": "display_data"
    },
    {
     "name": "stdout",
     "output_type": "stream",
     "text": [
      "Percentage of each value in Slovakia expresed as gender / percentage\n"
     ]
    },
    {
     "data": {
      "text/plain": [
       "0    100.0\n",
       "Name: Gender, dtype: float64"
      ]
     },
     "metadata": {},
     "output_type": "display_data"
    },
    {
     "name": "stdout",
     "output_type": "stream",
     "text": [
      "Describing the variable Gender in India\n"
     ]
    },
    {
     "data": {
      "text/plain": [
       "count    120.000000\n",
       "mean       0.416667\n",
       "std        0.495074\n",
       "min        0.000000\n",
       "25%        0.000000\n",
       "50%        0.000000\n",
       "75%        1.000000\n",
       "max        1.000000\n",
       "Name: Gender, dtype: float64"
      ]
     },
     "metadata": {},
     "output_type": "display_data"
    },
    {
     "name": "stdout",
     "output_type": "stream",
     "text": [
      "Count of each value in Gender in India expresed as gender / amount\n"
     ]
    },
    {
     "data": {
      "text/plain": [
       "0    70\n",
       "1    50\n",
       "Name: Gender, dtype: int64"
      ]
     },
     "metadata": {},
     "output_type": "display_data"
    },
    {
     "name": "stdout",
     "output_type": "stream",
     "text": [
      "Percentage of each value in India expresed as gender / percentage\n"
     ]
    },
    {
     "data": {
      "text/plain": [
       "0    58.33\n",
       "1    41.67\n",
       "Name: Gender, dtype: float64"
      ]
     },
     "metadata": {},
     "output_type": "display_data"
    },
    {
     "name": "stdout",
     "output_type": "stream",
     "text": [
      "Describing the variable Gender in Italy\n"
     ]
    },
    {
     "data": {
      "text/plain": [
       "count    11.000000\n",
       "mean      0.272727\n",
       "std       0.467099\n",
       "min       0.000000\n",
       "25%       0.000000\n",
       "50%       0.000000\n",
       "75%       0.500000\n",
       "max       1.000000\n",
       "Name: Gender, dtype: float64"
      ]
     },
     "metadata": {},
     "output_type": "display_data"
    },
    {
     "name": "stdout",
     "output_type": "stream",
     "text": [
      "Count of each value in Gender in Italy expresed as gender / amount\n"
     ]
    },
    {
     "data": {
      "text/plain": [
       "0    8\n",
       "1    3\n",
       "Name: Gender, dtype: int64"
      ]
     },
     "metadata": {},
     "output_type": "display_data"
    },
    {
     "name": "stdout",
     "output_type": "stream",
     "text": [
      "Percentage of each value in Italy expresed as gender / percentage\n"
     ]
    },
    {
     "data": {
      "text/plain": [
       "0    72.73\n",
       "1    27.27\n",
       "Name: Gender, dtype: float64"
      ]
     },
     "metadata": {},
     "output_type": "display_data"
    },
    {
     "name": "stdout",
     "output_type": "stream",
     "text": [
      "Describing the variable Gender in England\n"
     ]
    },
    {
     "data": {
      "text/plain": [
       "count    10.000000\n",
       "mean      0.400000\n",
       "std       0.516398\n",
       "min       0.000000\n",
       "25%       0.000000\n",
       "50%       0.000000\n",
       "75%       1.000000\n",
       "max       1.000000\n",
       "Name: Gender, dtype: float64"
      ]
     },
     "metadata": {},
     "output_type": "display_data"
    },
    {
     "name": "stdout",
     "output_type": "stream",
     "text": [
      "Count of each value in Gender in England expresed as gender / amount\n"
     ]
    },
    {
     "data": {
      "text/plain": [
       "0    6\n",
       "1    4\n",
       "Name: Gender, dtype: int64"
      ]
     },
     "metadata": {},
     "output_type": "display_data"
    },
    {
     "name": "stdout",
     "output_type": "stream",
     "text": [
      "Percentage of each value in England expresed as gender / percentage\n"
     ]
    },
    {
     "data": {
      "text/plain": [
       "0    60.0\n",
       "1    40.0\n",
       "Name: Gender, dtype: float64"
      ]
     },
     "metadata": {},
     "output_type": "display_data"
    },
    {
     "name": "stdout",
     "output_type": "stream",
     "text": [
      "Describing the variable Gender in Germany\n"
     ]
    },
    {
     "data": {
      "text/plain": [
       "count    1.0\n",
       "mean     1.0\n",
       "std      NaN\n",
       "min      1.0\n",
       "25%      1.0\n",
       "50%      1.0\n",
       "75%      1.0\n",
       "max      1.0\n",
       "Name: Gender, dtype: float64"
      ]
     },
     "metadata": {},
     "output_type": "display_data"
    },
    {
     "name": "stdout",
     "output_type": "stream",
     "text": [
      "Count of each value in Gender in Germany expresed as gender / amount\n"
     ]
    },
    {
     "data": {
      "text/plain": [
       "1    1\n",
       "Name: Gender, dtype: int64"
      ]
     },
     "metadata": {},
     "output_type": "display_data"
    },
    {
     "name": "stdout",
     "output_type": "stream",
     "text": [
      "Percentage of each value in Germany expresed as gender / percentage\n"
     ]
    },
    {
     "data": {
      "text/plain": [
       "1    100.0\n",
       "Name: Gender, dtype: float64"
      ]
     },
     "metadata": {},
     "output_type": "display_data"
    },
    {
     "name": "stdout",
     "output_type": "stream",
     "text": [
      "Describing the variable Gender in Venezuela\n"
     ]
    },
    {
     "data": {
      "text/plain": [
       "count    4.00000\n",
       "mean     0.50000\n",
       "std      0.57735\n",
       "min      0.00000\n",
       "25%      0.00000\n",
       "50%      0.50000\n",
       "75%      1.00000\n",
       "max      1.00000\n",
       "Name: Gender, dtype: float64"
      ]
     },
     "metadata": {},
     "output_type": "display_data"
    },
    {
     "name": "stdout",
     "output_type": "stream",
     "text": [
      "Count of each value in Gender in Venezuela expresed as gender / amount\n"
     ]
    },
    {
     "data": {
      "text/plain": [
       "1    2\n",
       "0    2\n",
       "Name: Gender, dtype: int64"
      ]
     },
     "metadata": {},
     "output_type": "display_data"
    },
    {
     "name": "stdout",
     "output_type": "stream",
     "text": [
      "Percentage of each value in Venezuela expresed as gender / percentage\n"
     ]
    },
    {
     "data": {
      "text/plain": [
       "1    50.0\n",
       "0    50.0\n",
       "Name: Gender, dtype: float64"
      ]
     },
     "metadata": {},
     "output_type": "display_data"
    },
    {
     "name": "stdout",
     "output_type": "stream",
     "text": [
      "Describing the variable Gender in Albania\n"
     ]
    },
    {
     "data": {
      "text/plain": [
       "count    1.0\n",
       "mean     0.0\n",
       "std      NaN\n",
       "min      0.0\n",
       "25%      0.0\n",
       "50%      0.0\n",
       "75%      0.0\n",
       "max      0.0\n",
       "Name: Gender, dtype: float64"
      ]
     },
     "metadata": {},
     "output_type": "display_data"
    },
    {
     "name": "stdout",
     "output_type": "stream",
     "text": [
      "Count of each value in Gender in Albania expresed as gender / amount\n"
     ]
    },
    {
     "data": {
      "text/plain": [
       "0    1\n",
       "Name: Gender, dtype: int64"
      ]
     },
     "metadata": {},
     "output_type": "display_data"
    },
    {
     "name": "stdout",
     "output_type": "stream",
     "text": [
      "Percentage of each value in Albania expresed as gender / percentage\n"
     ]
    },
    {
     "data": {
      "text/plain": [
       "0    100.0\n",
       "Name: Gender, dtype: float64"
      ]
     },
     "metadata": {},
     "output_type": "display_data"
    },
    {
     "name": "stdout",
     "output_type": "stream",
     "text": [
      "Describing the variable Gender in Mexico\n"
     ]
    },
    {
     "data": {
      "text/plain": [
       "count    1.0\n",
       "mean     0.0\n",
       "std      NaN\n",
       "min      0.0\n",
       "25%      0.0\n",
       "50%      0.0\n",
       "75%      0.0\n",
       "max      0.0\n",
       "Name: Gender, dtype: float64"
      ]
     },
     "metadata": {},
     "output_type": "display_data"
    },
    {
     "name": "stdout",
     "output_type": "stream",
     "text": [
      "Count of each value in Gender in Mexico expresed as gender / amount\n"
     ]
    },
    {
     "data": {
      "text/plain": [
       "0    1\n",
       "Name: Gender, dtype: int64"
      ]
     },
     "metadata": {},
     "output_type": "display_data"
    },
    {
     "name": "stdout",
     "output_type": "stream",
     "text": [
      "Percentage of each value in Mexico expresed as gender / percentage\n"
     ]
    },
    {
     "data": {
      "text/plain": [
       "0    100.0\n",
       "Name: Gender, dtype: float64"
      ]
     },
     "metadata": {},
     "output_type": "display_data"
    },
    {
     "name": "stdout",
     "output_type": "stream",
     "text": [
      "Describing the variable Gender in Pakistan\n"
     ]
    },
    {
     "data": {
      "text/plain": [
       "count    1.0\n",
       "mean     1.0\n",
       "std      NaN\n",
       "min      1.0\n",
       "25%      1.0\n",
       "50%      1.0\n",
       "75%      1.0\n",
       "max      1.0\n",
       "Name: Gender, dtype: float64"
      ]
     },
     "metadata": {},
     "output_type": "display_data"
    },
    {
     "name": "stdout",
     "output_type": "stream",
     "text": [
      "Count of each value in Gender in Pakistan expresed as gender / amount\n"
     ]
    },
    {
     "data": {
      "text/plain": [
       "1    1\n",
       "Name: Gender, dtype: int64"
      ]
     },
     "metadata": {},
     "output_type": "display_data"
    },
    {
     "name": "stdout",
     "output_type": "stream",
     "text": [
      "Percentage of each value in Pakistan expresed as gender / percentage\n"
     ]
    },
    {
     "data": {
      "text/plain": [
       "1    100.0\n",
       "Name: Gender, dtype: float64"
      ]
     },
     "metadata": {},
     "output_type": "display_data"
    },
    {
     "name": "stdout",
     "output_type": "stream",
     "text": [
      "Describing the variable Gender in The Bahamas\n"
     ]
    },
    {
     "data": {
      "text/plain": [
       "count    1.0\n",
       "mean     1.0\n",
       "std      NaN\n",
       "min      1.0\n",
       "25%      1.0\n",
       "50%      1.0\n",
       "75%      1.0\n",
       "max      1.0\n",
       "Name: Gender, dtype: float64"
      ]
     },
     "metadata": {},
     "output_type": "display_data"
    },
    {
     "name": "stdout",
     "output_type": "stream",
     "text": [
      "Count of each value in Gender in The Bahamas expresed as gender / amount\n"
     ]
    },
    {
     "data": {
      "text/plain": [
       "1    1\n",
       "Name: Gender, dtype: int64"
      ]
     },
     "metadata": {},
     "output_type": "display_data"
    },
    {
     "name": "stdout",
     "output_type": "stream",
     "text": [
      "Percentage of each value in The Bahamas expresed as gender / percentage\n"
     ]
    },
    {
     "data": {
      "text/plain": [
       "1    100.0\n",
       "Name: Gender, dtype: float64"
      ]
     },
     "metadata": {},
     "output_type": "display_data"
    },
    {
     "name": "stdout",
     "output_type": "stream",
     "text": [
      "Describing the variable Gender in Argentina\n"
     ]
    },
    {
     "data": {
      "text/plain": [
       "count    1.0\n",
       "mean     0.0\n",
       "std      NaN\n",
       "min      0.0\n",
       "25%      0.0\n",
       "50%      0.0\n",
       "75%      0.0\n",
       "max      0.0\n",
       "Name: Gender, dtype: float64"
      ]
     },
     "metadata": {},
     "output_type": "display_data"
    },
    {
     "name": "stdout",
     "output_type": "stream",
     "text": [
      "Count of each value in Gender in Argentina expresed as gender / amount\n"
     ]
    },
    {
     "data": {
      "text/plain": [
       "0    1\n",
       "Name: Gender, dtype: int64"
      ]
     },
     "metadata": {},
     "output_type": "display_data"
    },
    {
     "name": "stdout",
     "output_type": "stream",
     "text": [
      "Percentage of each value in Argentina expresed as gender / percentage\n"
     ]
    },
    {
     "data": {
      "text/plain": [
       "0    100.0\n",
       "Name: Gender, dtype: float64"
      ]
     },
     "metadata": {},
     "output_type": "display_data"
    },
    {
     "name": "stdout",
     "output_type": "stream",
     "text": [
      "Describing the variable Gender in Iceland\n"
     ]
    },
    {
     "data": {
      "text/plain": [
       "count    1.0\n",
       "mean     0.0\n",
       "std      NaN\n",
       "min      0.0\n",
       "25%      0.0\n",
       "50%      0.0\n",
       "75%      0.0\n",
       "max      0.0\n",
       "Name: Gender, dtype: float64"
      ]
     },
     "metadata": {},
     "output_type": "display_data"
    },
    {
     "name": "stdout",
     "output_type": "stream",
     "text": [
      "Count of each value in Gender in Iceland expresed as gender / amount\n"
     ]
    },
    {
     "data": {
      "text/plain": [
       "0    1\n",
       "Name: Gender, dtype: int64"
      ]
     },
     "metadata": {},
     "output_type": "display_data"
    },
    {
     "name": "stdout",
     "output_type": "stream",
     "text": [
      "Percentage of each value in Iceland expresed as gender / percentage\n"
     ]
    },
    {
     "data": {
      "text/plain": [
       "0    100.0\n",
       "Name: Gender, dtype: float64"
      ]
     },
     "metadata": {},
     "output_type": "display_data"
    },
    {
     "name": "stdout",
     "output_type": "stream",
     "text": [
      "Describing the variable Gender in Scotland\n"
     ]
    },
    {
     "data": {
      "text/plain": [
       "count    1.0\n",
       "mean     2.0\n",
       "std      NaN\n",
       "min      2.0\n",
       "25%      2.0\n",
       "50%      2.0\n",
       "75%      2.0\n",
       "max      2.0\n",
       "Name: Gender, dtype: float64"
      ]
     },
     "metadata": {},
     "output_type": "display_data"
    },
    {
     "name": "stdout",
     "output_type": "stream",
     "text": [
      "Count of each value in Gender in Scotland expresed as gender / amount\n"
     ]
    },
    {
     "data": {
      "text/plain": [
       "2    1\n",
       "Name: Gender, dtype: int64"
      ]
     },
     "metadata": {},
     "output_type": "display_data"
    },
    {
     "name": "stdout",
     "output_type": "stream",
     "text": [
      "Percentage of each value in Scotland expresed as gender / percentage\n"
     ]
    },
    {
     "data": {
      "text/plain": [
       "2    100.0\n",
       "Name: Gender, dtype: float64"
      ]
     },
     "metadata": {},
     "output_type": "display_data"
    },
    {
     "name": "stdout",
     "output_type": "stream",
     "text": [
      "Describing the variable Gender in Sudan\n"
     ]
    },
    {
     "data": {
      "text/plain": [
       "count    1.0\n",
       "mean     0.0\n",
       "std      NaN\n",
       "min      0.0\n",
       "25%      0.0\n",
       "50%      0.0\n",
       "75%      0.0\n",
       "max      0.0\n",
       "Name: Gender, dtype: float64"
      ]
     },
     "metadata": {},
     "output_type": "display_data"
    },
    {
     "name": "stdout",
     "output_type": "stream",
     "text": [
      "Count of each value in Gender in Sudan expresed as gender / amount\n"
     ]
    },
    {
     "data": {
      "text/plain": [
       "0    1\n",
       "Name: Gender, dtype: int64"
      ]
     },
     "metadata": {},
     "output_type": "display_data"
    },
    {
     "name": "stdout",
     "output_type": "stream",
     "text": [
      "Percentage of each value in Sudan expresed as gender / percentage\n"
     ]
    },
    {
     "data": {
      "text/plain": [
       "0    100.0\n",
       "Name: Gender, dtype: float64"
      ]
     },
     "metadata": {},
     "output_type": "display_data"
    },
    {
     "name": "stdout",
     "output_type": "stream",
     "text": [
      "Describing the variable Gender in Ukraine\n"
     ]
    },
    {
     "data": {
      "text/plain": [
       "count    1.0\n",
       "mean     1.0\n",
       "std      NaN\n",
       "min      1.0\n",
       "25%      1.0\n",
       "50%      1.0\n",
       "75%      1.0\n",
       "max      1.0\n",
       "Name: Gender, dtype: float64"
      ]
     },
     "metadata": {},
     "output_type": "display_data"
    },
    {
     "name": "stdout",
     "output_type": "stream",
     "text": [
      "Count of each value in Gender in Ukraine expresed as gender / amount\n"
     ]
    },
    {
     "data": {
      "text/plain": [
       "1    1\n",
       "Name: Gender, dtype: int64"
      ]
     },
     "metadata": {},
     "output_type": "display_data"
    },
    {
     "name": "stdout",
     "output_type": "stream",
     "text": [
      "Percentage of each value in Ukraine expresed as gender / percentage\n"
     ]
    },
    {
     "data": {
      "text/plain": [
       "1    100.0\n",
       "Name: Gender, dtype: float64"
      ]
     },
     "metadata": {},
     "output_type": "display_data"
    },
    {
     "name": "stdout",
     "output_type": "stream",
     "text": [
      "Describing the variable Gender in New Zealand\n"
     ]
    },
    {
     "data": {
      "text/plain": [
       "count    1.0\n",
       "mean     1.0\n",
       "std      NaN\n",
       "min      1.0\n",
       "25%      1.0\n",
       "50%      1.0\n",
       "75%      1.0\n",
       "max      1.0\n",
       "Name: Gender, dtype: float64"
      ]
     },
     "metadata": {},
     "output_type": "display_data"
    },
    {
     "name": "stdout",
     "output_type": "stream",
     "text": [
      "Count of each value in Gender in New Zealand expresed as gender / amount\n"
     ]
    },
    {
     "data": {
      "text/plain": [
       "1    1\n",
       "Name: Gender, dtype: int64"
      ]
     },
     "metadata": {},
     "output_type": "display_data"
    },
    {
     "name": "stdout",
     "output_type": "stream",
     "text": [
      "Percentage of each value in New Zealand expresed as gender / percentage\n"
     ]
    },
    {
     "data": {
      "text/plain": [
       "1    100.0\n",
       "Name: Gender, dtype: float64"
      ]
     },
     "metadata": {},
     "output_type": "display_data"
    },
    {
     "name": "stdout",
     "output_type": "stream",
     "text": [
      "Describing the variable Gender in Ireland\n"
     ]
    },
    {
     "data": {
      "text/plain": [
       "count    2.0\n",
       "mean     1.0\n",
       "std      0.0\n",
       "min      1.0\n",
       "25%      1.0\n",
       "50%      1.0\n",
       "75%      1.0\n",
       "max      1.0\n",
       "Name: Gender, dtype: float64"
      ]
     },
     "metadata": {},
     "output_type": "display_data"
    },
    {
     "name": "stdout",
     "output_type": "stream",
     "text": [
      "Count of each value in Gender in Ireland expresed as gender / amount\n"
     ]
    },
    {
     "data": {
      "text/plain": [
       "1    2\n",
       "Name: Gender, dtype: int64"
      ]
     },
     "metadata": {},
     "output_type": "display_data"
    },
    {
     "name": "stdout",
     "output_type": "stream",
     "text": [
      "Percentage of each value in Ireland expresed as gender / percentage\n"
     ]
    },
    {
     "data": {
      "text/plain": [
       "1    100.0\n",
       "Name: Gender, dtype: float64"
      ]
     },
     "metadata": {},
     "output_type": "display_data"
    },
    {
     "name": "stdout",
     "output_type": "stream",
     "text": [
      "Describing the variable Gender in Macedonia\n"
     ]
    },
    {
     "data": {
      "text/plain": [
       "count    1.0\n",
       "mean     0.0\n",
       "std      NaN\n",
       "min      0.0\n",
       "25%      0.0\n",
       "50%      0.0\n",
       "75%      0.0\n",
       "max      0.0\n",
       "Name: Gender, dtype: float64"
      ]
     },
     "metadata": {},
     "output_type": "display_data"
    },
    {
     "name": "stdout",
     "output_type": "stream",
     "text": [
      "Count of each value in Gender in Macedonia expresed as gender / amount\n"
     ]
    },
    {
     "data": {
      "text/plain": [
       "0    1\n",
       "Name: Gender, dtype: int64"
      ]
     },
     "metadata": {},
     "output_type": "display_data"
    },
    {
     "name": "stdout",
     "output_type": "stream",
     "text": [
      "Percentage of each value in Macedonia expresed as gender / percentage\n"
     ]
    },
    {
     "data": {
      "text/plain": [
       "0    100.0\n",
       "Name: Gender, dtype: float64"
      ]
     },
     "metadata": {},
     "output_type": "display_data"
    },
    {
     "name": "stdout",
     "output_type": "stream",
     "text": [
      "Describing the variable Gender in Indonesia\n"
     ]
    },
    {
     "data": {
      "text/plain": [
       "count    1.0\n",
       "mean     0.0\n",
       "std      NaN\n",
       "min      0.0\n",
       "25%      0.0\n",
       "50%      0.0\n",
       "75%      0.0\n",
       "max      0.0\n",
       "Name: Gender, dtype: float64"
      ]
     },
     "metadata": {},
     "output_type": "display_data"
    },
    {
     "name": "stdout",
     "output_type": "stream",
     "text": [
      "Count of each value in Gender in Indonesia expresed as gender / amount\n"
     ]
    },
    {
     "data": {
      "text/plain": [
       "0    1\n",
       "Name: Gender, dtype: int64"
      ]
     },
     "metadata": {},
     "output_type": "display_data"
    },
    {
     "name": "stdout",
     "output_type": "stream",
     "text": [
      "Percentage of each value in Indonesia expresed as gender / percentage\n"
     ]
    },
    {
     "data": {
      "text/plain": [
       "0    100.0\n",
       "Name: Gender, dtype: float64"
      ]
     },
     "metadata": {},
     "output_type": "display_data"
    },
    {
     "name": "stdout",
     "output_type": "stream",
     "text": [
      "Describing the variable Gender in Cuba\n"
     ]
    },
    {
     "data": {
      "text/plain": [
       "count    1.0\n",
       "mean     1.0\n",
       "std      NaN\n",
       "min      1.0\n",
       "25%      1.0\n",
       "50%      1.0\n",
       "75%      1.0\n",
       "max      1.0\n",
       "Name: Gender, dtype: float64"
      ]
     },
     "metadata": {},
     "output_type": "display_data"
    },
    {
     "name": "stdout",
     "output_type": "stream",
     "text": [
      "Count of each value in Gender in Cuba expresed as gender / amount\n"
     ]
    },
    {
     "data": {
      "text/plain": [
       "1    1\n",
       "Name: Gender, dtype: int64"
      ]
     },
     "metadata": {},
     "output_type": "display_data"
    },
    {
     "name": "stdout",
     "output_type": "stream",
     "text": [
      "Percentage of each value in Cuba expresed as gender / percentage\n"
     ]
    },
    {
     "data": {
      "text/plain": [
       "1    100.0\n",
       "Name: Gender, dtype: float64"
      ]
     },
     "metadata": {},
     "output_type": "display_data"
    },
    {
     "data": {
      "application/vnd.plotly.v1+json": {
       "config": {
        "linkText": "Export to plot.ly",
        "plotlyServerURL": "https://plot.ly",
        "showLink": false
       },
       "data": [
        {
         "marker": {
          "color": "rgb(102,194,165)"
         },
         "name": "Men",
         "type": "bar",
         "uid": "1f30aff7-7a3f-4d8e-b9e4-0ed1bf147aae",
         "x": [
          "Albania",
          "Argentina",
          "Australia",
          "Austria",
          "Brazil",
          "Canada",
          "Chile",
          "China",
          "Colombia",
          "Cuba",
          "Dominican Rep.",
          "England",
          "France",
          "Germany",
          "Iceland",
          "India",
          "Indonesia",
          "Ireland",
          "Italy",
          "Macedonia",
          "Mexico",
          "New Zealand",
          "Niger",
          "Pakistan",
          "Russia",
          "Scotland",
          "Slovakia",
          "Spain",
          "Sudan",
          "The Bahamas",
          "USA",
          "Ukraine",
          "Unknown",
          "Venezuela"
         ],
         "y": [
          1,
          1,
          1,
          0,
          2,
          5,
          0,
          1,
          0,
          0,
          1,
          6,
          5,
          0,
          1,
          70,
          1,
          0,
          8,
          1,
          1,
          0,
          4,
          0,
          1,
          0,
          1,
          91,
          1,
          0,
          148,
          0,
          5,
          2
         ]
        },
        {
         "marker": {
          "color": "rgb(254,224,139)"
         },
         "name": "Woman",
         "type": "bar",
         "uid": "4786c29c-946d-4d25-8a2d-0460e67dda8d",
         "x": [
          "Albania",
          "Argentina",
          "Australia",
          "Austria",
          "Brazil",
          "Canada",
          "Chile",
          "China",
          "Colombia",
          "Cuba",
          "Dominican Rep.",
          "England",
          "France",
          "Germany",
          "Iceland",
          "India",
          "Indonesia",
          "Ireland",
          "Italy",
          "Macedonia",
          "Mexico",
          "New Zealand",
          "Niger",
          "Pakistan",
          "Russia",
          "Scotland",
          "Slovakia",
          "Spain",
          "Sudan",
          "The Bahamas",
          "USA",
          "Ukraine",
          "Unknown",
          "Venezuela"
         ],
         "y": [
          0,
          0,
          0,
          1,
          1,
          3,
          1,
          0,
          1,
          1,
          1,
          4,
          14,
          1,
          0,
          50,
          0,
          2,
          3,
          0,
          0,
          1,
          0,
          1,
          1,
          0,
          0,
          122,
          0,
          1,
          158,
          1,
          33,
          2
         ]
        },
        {
         "marker": {
          "color": "rgb(244,109,67)"
         },
         "name": "Other",
         "type": "bar",
         "uid": "5d5d9dea-52f7-417f-bdf4-abcf7619387a",
         "x": [
          "Albania",
          "Argentina",
          "Australia",
          "Austria",
          "Brazil",
          "Canada",
          "Chile",
          "China",
          "Colombia",
          "Cuba",
          "Dominican Rep.",
          "England",
          "France",
          "Germany",
          "Iceland",
          "India",
          "Indonesia",
          "Ireland",
          "Italy",
          "Macedonia",
          "Mexico",
          "New Zealand",
          "Niger",
          "Pakistan",
          "Russia",
          "Scotland",
          "Slovakia",
          "Spain",
          "Sudan",
          "The Bahamas",
          "USA",
          "Ukraine",
          "Unknown",
          "Venezuela"
         ],
         "y": [
          0,
          0,
          0,
          0,
          0,
          1,
          0,
          0,
          0,
          0,
          0,
          0,
          0,
          0,
          0,
          0,
          0,
          0,
          0,
          0,
          0,
          0,
          0,
          0,
          0,
          1,
          0,
          4,
          0,
          0,
          0,
          0,
          0,
          0
         ]
        }
       ],
       "layout": {
        "bargap": 0.2,
        "barmode": "group",
        "xaxis": {
         "title": {
          "text": "Nationality"
         }
        },
        "yaxis": {
         "title": {
          "text": "Total"
         }
        }
       }
      },
      "text/html": [
       "<div id=\"291e9551-3fad-435f-9208-8b141d8be704\" style=\"height: 525px; width: 100%;\" class=\"plotly-graph-div\"></div><script type=\"text/javascript\">require([\"plotly\"], function(Plotly) { window.PLOTLYENV=window.PLOTLYENV || {};window.PLOTLYENV.BASE_URL=\"https://plot.ly\";\n",
       "if (document.getElementById(\"291e9551-3fad-435f-9208-8b141d8be704\")) {\n",
       "    Plotly.newPlot(\"291e9551-3fad-435f-9208-8b141d8be704\", [{\"marker\": {\"color\": \"rgb(102,194,165)\"}, \"name\": \"Men\", \"x\": [\"Albania\", \"Argentina\", \"Australia\", \"Austria\", \"Brazil\", \"Canada\", \"Chile\", \"China\", \"Colombia\", \"Cuba\", \"Dominican Rep.\", \"England\", \"France\", \"Germany\", \"Iceland\", \"India\", \"Indonesia\", \"Ireland\", \"Italy\", \"Macedonia\", \"Mexico\", \"New Zealand\", \"Niger\", \"Pakistan\", \"Russia\", \"Scotland\", \"Slovakia\", \"Spain\", \"Sudan\", \"The Bahamas\", \"USA\", \"Ukraine\", \"Unknown\", \"Venezuela\"], \"y\": [1, 1, 1, 0, 2, 5, 0, 1, 0, 0, 1, 6, 5, 0, 1, 70, 1, 0, 8, 1, 1, 0, 4, 0, 1, 0, 1, 91, 1, 0, 148, 0, 5, 2], \"type\": \"bar\", \"uid\": \"1f30aff7-7a3f-4d8e-b9e4-0ed1bf147aae\"}, {\"marker\": {\"color\": \"rgb(254,224,139)\"}, \"name\": \"Woman\", \"x\": [\"Albania\", \"Argentina\", \"Australia\", \"Austria\", \"Brazil\", \"Canada\", \"Chile\", \"China\", \"Colombia\", \"Cuba\", \"Dominican Rep.\", \"England\", \"France\", \"Germany\", \"Iceland\", \"India\", \"Indonesia\", \"Ireland\", \"Italy\", \"Macedonia\", \"Mexico\", \"New Zealand\", \"Niger\", \"Pakistan\", \"Russia\", \"Scotland\", \"Slovakia\", \"Spain\", \"Sudan\", \"The Bahamas\", \"USA\", \"Ukraine\", \"Unknown\", \"Venezuela\"], \"y\": [0, 0, 0, 1, 1, 3, 1, 0, 1, 1, 1, 4, 14, 1, 0, 50, 0, 2, 3, 0, 0, 1, 0, 1, 1, 0, 0, 122, 0, 1, 158, 1, 33, 2], \"type\": \"bar\", \"uid\": \"4786c29c-946d-4d25-8a2d-0460e67dda8d\"}, {\"marker\": {\"color\": \"rgb(244,109,67)\"}, \"name\": \"Other\", \"x\": [\"Albania\", \"Argentina\", \"Australia\", \"Austria\", \"Brazil\", \"Canada\", \"Chile\", \"China\", \"Colombia\", \"Cuba\", \"Dominican Rep.\", \"England\", \"France\", \"Germany\", \"Iceland\", \"India\", \"Indonesia\", \"Ireland\", \"Italy\", \"Macedonia\", \"Mexico\", \"New Zealand\", \"Niger\", \"Pakistan\", \"Russia\", \"Scotland\", \"Slovakia\", \"Spain\", \"Sudan\", \"The Bahamas\", \"USA\", \"Ukraine\", \"Unknown\", \"Venezuela\"], \"y\": [0, 0, 0, 0, 0, 1, 0, 0, 0, 0, 0, 0, 0, 0, 0, 0, 0, 0, 0, 0, 0, 0, 0, 0, 0, 1, 0, 4, 0, 0, 0, 0, 0, 0], \"type\": \"bar\", \"uid\": \"5d5d9dea-52f7-417f-bdf4-abcf7619387a\"}], {\"bargap\": 0.2, \"barmode\": \"group\", \"xaxis\": {\"title\": {\"text\": \"Nationality\"}}, \"yaxis\": {\"title\": {\"text\": \"Total\"}}}, {\"showLink\": false, \"linkText\": \"Export to plot.ly\", \"plotlyServerURL\": \"https://plot.ly\"}); \n",
       "}\n",
       "});</script><script type=\"text/javascript\">window.addEventListener(\"resize\", function(){if (document.getElementById(\"291e9551-3fad-435f-9208-8b141d8be704\")) {window._Plotly.Plots.resize(document.getElementById(\"291e9551-3fad-435f-9208-8b141d8be704\"));};})</script>"
      ],
      "text/vnd.plotly.v1+html": [
       "<div id=\"291e9551-3fad-435f-9208-8b141d8be704\" style=\"height: 525px; width: 100%;\" class=\"plotly-graph-div\"></div><script type=\"text/javascript\">require([\"plotly\"], function(Plotly) { window.PLOTLYENV=window.PLOTLYENV || {};window.PLOTLYENV.BASE_URL=\"https://plot.ly\";\n",
       "if (document.getElementById(\"291e9551-3fad-435f-9208-8b141d8be704\")) {\n",
       "    Plotly.newPlot(\"291e9551-3fad-435f-9208-8b141d8be704\", [{\"marker\": {\"color\": \"rgb(102,194,165)\"}, \"name\": \"Men\", \"x\": [\"Albania\", \"Argentina\", \"Australia\", \"Austria\", \"Brazil\", \"Canada\", \"Chile\", \"China\", \"Colombia\", \"Cuba\", \"Dominican Rep.\", \"England\", \"France\", \"Germany\", \"Iceland\", \"India\", \"Indonesia\", \"Ireland\", \"Italy\", \"Macedonia\", \"Mexico\", \"New Zealand\", \"Niger\", \"Pakistan\", \"Russia\", \"Scotland\", \"Slovakia\", \"Spain\", \"Sudan\", \"The Bahamas\", \"USA\", \"Ukraine\", \"Unknown\", \"Venezuela\"], \"y\": [1, 1, 1, 0, 2, 5, 0, 1, 0, 0, 1, 6, 5, 0, 1, 70, 1, 0, 8, 1, 1, 0, 4, 0, 1, 0, 1, 91, 1, 0, 148, 0, 5, 2], \"type\": \"bar\", \"uid\": \"1f30aff7-7a3f-4d8e-b9e4-0ed1bf147aae\"}, {\"marker\": {\"color\": \"rgb(254,224,139)\"}, \"name\": \"Woman\", \"x\": [\"Albania\", \"Argentina\", \"Australia\", \"Austria\", \"Brazil\", \"Canada\", \"Chile\", \"China\", \"Colombia\", \"Cuba\", \"Dominican Rep.\", \"England\", \"France\", \"Germany\", \"Iceland\", \"India\", \"Indonesia\", \"Ireland\", \"Italy\", \"Macedonia\", \"Mexico\", \"New Zealand\", \"Niger\", \"Pakistan\", \"Russia\", \"Scotland\", \"Slovakia\", \"Spain\", \"Sudan\", \"The Bahamas\", \"USA\", \"Ukraine\", \"Unknown\", \"Venezuela\"], \"y\": [0, 0, 0, 1, 1, 3, 1, 0, 1, 1, 1, 4, 14, 1, 0, 50, 0, 2, 3, 0, 0, 1, 0, 1, 1, 0, 0, 122, 0, 1, 158, 1, 33, 2], \"type\": \"bar\", \"uid\": \"4786c29c-946d-4d25-8a2d-0460e67dda8d\"}, {\"marker\": {\"color\": \"rgb(244,109,67)\"}, \"name\": \"Other\", \"x\": [\"Albania\", \"Argentina\", \"Australia\", \"Austria\", \"Brazil\", \"Canada\", \"Chile\", \"China\", \"Colombia\", \"Cuba\", \"Dominican Rep.\", \"England\", \"France\", \"Germany\", \"Iceland\", \"India\", \"Indonesia\", \"Ireland\", \"Italy\", \"Macedonia\", \"Mexico\", \"New Zealand\", \"Niger\", \"Pakistan\", \"Russia\", \"Scotland\", \"Slovakia\", \"Spain\", \"Sudan\", \"The Bahamas\", \"USA\", \"Ukraine\", \"Unknown\", \"Venezuela\"], \"y\": [0, 0, 0, 0, 0, 1, 0, 0, 0, 0, 0, 0, 0, 0, 0, 0, 0, 0, 0, 0, 0, 0, 0, 0, 0, 1, 0, 4, 0, 0, 0, 0, 0, 0], \"type\": \"bar\", \"uid\": \"5d5d9dea-52f7-417f-bdf4-abcf7619387a\"}], {\"bargap\": 0.2, \"barmode\": \"group\", \"xaxis\": {\"title\": {\"text\": \"Nationality\"}}, \"yaxis\": {\"title\": {\"text\": \"Total\"}}}, {\"showLink\": false, \"linkText\": \"Export to plot.ly\", \"plotlyServerURL\": \"https://plot.ly\"}); \n",
       "}\n",
       "});</script><script type=\"text/javascript\">window.addEventListener(\"resize\", function(){if (document.getElementById(\"291e9551-3fad-435f-9208-8b141d8be704\")) {window._Plotly.Plots.resize(document.getElementById(\"291e9551-3fad-435f-9208-8b141d8be704\"));};})</script>"
      ]
     },
     "metadata": {},
     "output_type": "display_data"
    }
   ],
   "source": [
    "for country in data_complete_nationality['Nationality'].unique():\n",
    "    print(f'Describing the variable Gender in {country}')\n",
    "    display(\n",
    "        data_complete_nationality[data_complete_nationality['Nationality'] == country]['Gender'].describe())\n",
    "    print(\n",
    "        f'Count of each value in Gender in {country} expresed as gender / amount')\n",
    "    display(\n",
    "        data_complete_nationality[data_complete_nationality['Nationality'] == country]['Gender'].value_counts())\n",
    "    print(\n",
    "        f'Percentage of each value in {country} expresed as gender / percentage')\n",
    "    display(data_complete_nationality[data_complete_nationality['Nationality'] == country]['Gender'].value_counts(\n",
    "        normalize=True).round(4) * 100)\n",
    "\n",
    "trace1 = go.Bar(\n",
    "    x=sorted(data_complete_nationality['Nationality'].unique()),\n",
    "    y=data_complete_nationality[data_complete_nationality['Gender'] == 0]['Nationality'].value_counts(\n",
    "    ).reindex(data_complete_nationality['Nationality'].unique(), fill_value=0).sort_index(),\n",
    "    marker=dict(color=colors_gender_list[0]),\n",
    "    name='Men'\n",
    ")\n",
    "trace2 = go.Bar(\n",
    "    x=sorted(data_complete_nationality['Nationality'].unique()),\n",
    "    y=data_complete_nationality[(data_complete_nationality['Gender'] == 1)]['Nationality'].value_counts(\n",
    "    ).reindex(data_complete_nationality['Nationality'].unique(), fill_value=0).sort_index(),\n",
    "    marker=dict(color=colors_gender_list[1]),\n",
    "    name='Woman'\n",
    ")\n",
    "trace3 = go.Bar(\n",
    "    x=sorted(data_complete_nationality['Nationality'].unique()),\n",
    "    y=data_complete_nationality[data_complete_nationality['Gender'] == 2]['Nationality'].value_counts(\n",
    "    ).reindex(data_complete_nationality['Nationality'].unique(), fill_value=0).sort_index(),\n",
    "    marker=dict(color=colors_gender_list[2]),\n",
    "    name='Other'\n",
    ")\n",
    "\n",
    "data10 = [trace1, trace2, trace3]\n",
    "layout10 = go.Layout(\n",
    "    barmode='group',\n",
    "    xaxis=go.layout.XAxis(\n",
    "        # ticktext=labels_nationality,\n",
    "        # tickvals=tickvals_nationality,\n",
    "        title='Nationality'\n",
    "    ),\n",
    "    yaxis=go.layout.YAxis(\n",
    "        title=\"Total\"),\n",
    "    bargap=0.2,\n",
    ")\n",
    "\n",
    "fig10 = go.Figure(data=data10, layout=layout10)\n",
    "iplot(fig10)\n",
    "plt.show()"
   ]
  },
  {
   "cell_type": "code",
   "execution_count": null,
   "metadata": {},
   "outputs": [],
   "source": []
  }
 ],
 "metadata": {
  "kernelspec": {
   "display_name": "Python 3",
   "language": "python",
   "name": "python3"
  },
  "language_info": {
   "codemirror_mode": {
    "name": "ipython",
    "version": 3
   },
   "file_extension": ".py",
   "mimetype": "text/x-python",
   "name": "python",
   "nbconvert_exporter": "python",
   "pygments_lexer": "ipython3",
   "version": "3.6.8"
  }
 },
 "nbformat": 4,
 "nbformat_minor": 2
}

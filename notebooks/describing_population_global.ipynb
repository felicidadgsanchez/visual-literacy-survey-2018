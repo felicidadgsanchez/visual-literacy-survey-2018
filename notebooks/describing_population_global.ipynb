{
 "cells": [
  {
   "cell_type": "markdown",
   "metadata": {},
   "source": [
    "# Describing the population that completed the survey"
   ]
  },
  {
   "cell_type": "code",
   "execution_count": 1,
   "metadata": {},
   "outputs": [
    {
     "name": "stdout",
     "output_type": "stream",
     "text": [
      "Importing Jupyter notebook from data_preparation.ipynb\n"
     ]
    }
   ],
   "source": [
    "import nbimporter\n",
    "from data_preparation import *"
   ]
  },
  {
   "cell_type": "code",
   "execution_count": 2,
   "metadata": {},
   "outputs": [
    {
     "data": {
      "text/html": [
       "<script type=\"text/javascript\">window.PlotlyConfig = {MathJaxConfig: 'local'};</script><script type=\"text/javascript\">if (window.MathJax) {MathJax.Hub.Config({SVG: {font: \"STIX-Web\"}});}</script><script>requirejs.config({paths: { 'plotly': ['https://cdn.plot.ly/plotly-latest.min']},});if(!window._Plotly) {require(['plotly'],function(plotly) {window._Plotly=plotly;});}</script>"
      ],
      "text/vnd.plotly.v1+html": [
       "<script type=\"text/javascript\">window.PlotlyConfig = {MathJaxConfig: 'local'};</script><script type=\"text/javascript\">if (window.MathJax) {MathJax.Hub.Config({SVG: {font: \"STIX-Web\"}});}</script><script>requirejs.config({paths: { 'plotly': ['https://cdn.plot.ly/plotly-latest.min']},});if(!window._Plotly) {require(['plotly'],function(plotly) {window._Plotly=plotly;});}</script>"
      ]
     },
     "metadata": {},
     "output_type": "display_data"
    }
   ],
   "source": [
    "%matplotlib inline\n",
    "\n",
    "import numpy as np\n",
    "import pandas as pd\n",
    "\n",
    "from scipy import stats\n",
    "import plotly_express as px\n",
    "\n",
    "import colorlover as cl\n",
    "from plotly.offline import download_plotlyjs, init_notebook_mode, plot, iplot\n",
    "import plotly.graph_objs as go\n",
    "init_notebook_mode(connected=True)\n",
    "\n",
    "import matplotlib.pyplot as plt\n",
    "plt.style.use('fivethirtyeight')\n",
    "pd.options.display.max_rows = 500"
   ]
  },
  {
   "cell_type": "code",
   "execution_count": 3,
   "metadata": {},
   "outputs": [],
   "source": [
    "data_complete_en = get_dataframe_analysis_en(True)\n",
    "data_complete_esp = get_dataframe_analysis_esp(True)\n",
    "\n",
    "data_incomplete_en_1, data_incomplete_en_2 = read_en_incomplete_survey_datasets()\n",
    "data_incomplete_en = merge_2_dataframes(data_incomplete_en_1, data_incomplete_en_2)\n",
    "data_incomplete_esp_1, data_incomplete_esp_2 = read_esp_incomplete_survey_datasets()\n",
    "data_incomplete_esp = merge_2_dataframes(data_incomplete_esp_1, data_incomplete_esp_2)"
   ]
  },
  {
   "cell_type": "markdown",
   "metadata": {},
   "source": [
    "## First of all, we check if the data shape is what we expect.\n",
    "\n",
    "767 persons completed the survey. Each respondent could filled 125 possible variables"
   ]
  },
  {
   "cell_type": "code",
   "execution_count": 4,
   "metadata": {},
   "outputs": [
    {
     "data": {
      "text/plain": [
       "(767, 125)"
      ]
     },
     "metadata": {},
     "output_type": "display_data"
    },
    {
     "data": {
      "text/plain": [
       "(767, 125)"
      ]
     },
     "metadata": {},
     "output_type": "display_data"
    }
   ],
   "source": [
    "display(data_complete_en.shape)\n",
    "display(data_complete_esp.shape)"
   ]
  },
  {
   "cell_type": "markdown",
   "metadata": {},
   "source": [
    "Also, we check the total population that participated in the study, and we find the percentage of people who completed the survey vs. those who not."
   ]
  },
  {
   "cell_type": "code",
   "execution_count": 5,
   "metadata": {},
   "outputs": [
    {
     "name": "stdout",
     "output_type": "stream",
     "text": [
      "Participants who started the survey: 1821\n",
      "Participants who completed the survey: 767\n",
      "Ratio participants who completed the survey vs. total: 42.12%\n"
     ]
    }
   ],
   "source": [
    "print(\n",
    "    f\"Participants who started the survey: {len(data_incomplete_en.index)}\")\n",
    "print(f\"Participants who completed the survey: {len(data_complete_en.index)}\")\n",
    "\n",
    "print(\n",
    "    f\"Ratio participants who completed the survey vs. total: {round(len(data_complete_en.index)/len(data_incomplete_en.index)*100,2)}%\")"
   ]
  },
  {
   "cell_type": "markdown",
   "metadata": {},
   "source": [
    "## Analyzing the balance between genders\n",
    "\n",
    "Possible responses: \n",
    "  * 0 = Male\n",
    "  * 1 = Female\n",
    "  * 2 = Other"
   ]
  },
  {
   "cell_type": "code",
   "execution_count": 6,
   "metadata": {
    "scrolled": false
   },
   "outputs": [
    {
     "name": "stdout",
     "output_type": "stream",
     "text": [
      "Describing the variable Gender\n"
     ]
    },
    {
     "data": {
      "text/plain": [
       "count        767\n",
       "unique         3\n",
       "top       Female\n",
       "freq         403\n",
       "Name: Gender, dtype: object"
      ]
     },
     "metadata": {},
     "output_type": "display_data"
    },
    {
     "name": "stdout",
     "output_type": "stream",
     "text": [
      "Count of each value in Gender expresed as gender / amount\n"
     ]
    },
    {
     "data": {
      "text/plain": [
       "Female    403\n",
       "Male      358\n",
       "Other       6\n",
       "Name: Gender, dtype: int64"
      ]
     },
     "metadata": {},
     "output_type": "display_data"
    },
    {
     "name": "stdout",
     "output_type": "stream",
     "text": [
      "Percentage of each value in Gender expresed as gender / percentage\n"
     ]
    },
    {
     "data": {
      "text/plain": [
       "Female    52.54\n",
       "Male      46.68\n",
       "Other      0.78\n",
       "Name: Gender, dtype: float64"
      ]
     },
     "metadata": {},
     "output_type": "display_data"
    },
    {
     "data": {
      "application/vnd.plotly.v1+json": {
       "config": {
        "linkText": "Export to plot.ly",
        "plotlyServerURL": "https://plot.ly",
        "showLink": false
       },
       "data": [
        {
         "marker": {
          "color": [
           "rgb(102,194,165)",
           "rgb(254,224,139)",
           "rgb(244,109,67)"
          ]
         },
         "name": "Gender",
         "text": [
          52.54,
          46.68,
          0.7799999999999999
         ],
         "type": "bar",
         "uid": "e8a93c83-0799-4f59-bfba-071438e89993",
         "x": [
          "Female",
          "Male",
          "Other"
         ],
         "y": [
          403,
          358,
          6
         ]
        }
       ],
       "layout": {
        "bargap": 0.2,
        "xaxis": {
         "title": {
          "text": "Gender"
         }
        },
        "yaxis": {
         "title": {
          "text": "Total"
         }
        }
       }
      },
      "text/html": [
       "<div id=\"42da0436-16ad-4ea9-99dd-356b3456461c\" style=\"height: 525px; width: 100%;\" class=\"plotly-graph-div\"></div><script type=\"text/javascript\">require([\"plotly\"], function(Plotly) { window.PLOTLYENV=window.PLOTLYENV || {};window.PLOTLYENV.BASE_URL=\"https://plot.ly\";\n",
       "if (document.getElementById(\"42da0436-16ad-4ea9-99dd-356b3456461c\")) {\n",
       "    Plotly.newPlot(\"42da0436-16ad-4ea9-99dd-356b3456461c\", [{\"marker\": {\"color\": [\"rgb(102,194,165)\", \"rgb(254,224,139)\", \"rgb(244,109,67)\"]}, \"name\": \"Gender\", \"text\": [52.54, 46.68, 0.7799999999999999], \"x\": [\"Female\", \"Male\", \"Other\"], \"y\": [403, 358, 6], \"type\": \"bar\", \"uid\": \"e8a93c83-0799-4f59-bfba-071438e89993\"}], {\"bargap\": 0.2, \"xaxis\": {\"title\": {\"text\": \"Gender\"}}, \"yaxis\": {\"title\": {\"text\": \"Total\"}}}, {\"showLink\": false, \"linkText\": \"Export to plot.ly\", \"plotlyServerURL\": \"https://plot.ly\"}); \n",
       "}\n",
       "});</script><script type=\"text/javascript\">window.addEventListener(\"resize\", function(){if (document.getElementById(\"42da0436-16ad-4ea9-99dd-356b3456461c\")) {window._Plotly.Plots.resize(document.getElementById(\"42da0436-16ad-4ea9-99dd-356b3456461c\"));};})</script>"
      ],
      "text/vnd.plotly.v1+html": [
       "<div id=\"42da0436-16ad-4ea9-99dd-356b3456461c\" style=\"height: 525px; width: 100%;\" class=\"plotly-graph-div\"></div><script type=\"text/javascript\">require([\"plotly\"], function(Plotly) { window.PLOTLYENV=window.PLOTLYENV || {};window.PLOTLYENV.BASE_URL=\"https://plot.ly\";\n",
       "if (document.getElementById(\"42da0436-16ad-4ea9-99dd-356b3456461c\")) {\n",
       "    Plotly.newPlot(\"42da0436-16ad-4ea9-99dd-356b3456461c\", [{\"marker\": {\"color\": [\"rgb(102,194,165)\", \"rgb(254,224,139)\", \"rgb(244,109,67)\"]}, \"name\": \"Gender\", \"text\": [52.54, 46.68, 0.7799999999999999], \"x\": [\"Female\", \"Male\", \"Other\"], \"y\": [403, 358, 6], \"type\": \"bar\", \"uid\": \"e8a93c83-0799-4f59-bfba-071438e89993\"}], {\"bargap\": 0.2, \"xaxis\": {\"title\": {\"text\": \"Gender\"}}, \"yaxis\": {\"title\": {\"text\": \"Total\"}}}, {\"showLink\": false, \"linkText\": \"Export to plot.ly\", \"plotlyServerURL\": \"https://plot.ly\"}); \n",
       "}\n",
       "});</script><script type=\"text/javascript\">window.addEventListener(\"resize\", function(){if (document.getElementById(\"42da0436-16ad-4ea9-99dd-356b3456461c\")) {window._Plotly.Plots.resize(document.getElementById(\"42da0436-16ad-4ea9-99dd-356b3456461c\"));};})</script>"
      ]
     },
     "metadata": {},
     "output_type": "display_data"
    }
   ],
   "source": [
    "colors_gender = {0: cl.scales['9']['div']['Spectral'][7],\n",
    "                 1: cl.scales['9']['div']['Spectral'][3],\n",
    "                 2: cl.scales['9']['div']['Spectral'][1]}\n",
    "\n",
    "colors_gender_list = [cl.scales['9']['div']['Spectral'][7], cl.scales['9']\n",
    "                      ['div']['Spectral'][3], cl.scales['9']['div']['Spectral'][1]]\n",
    "\n",
    "names_gender = ['Male', 'Female', 'Other']\n",
    "values_gender = [0, 1, 2]\n",
    "\n",
    "data_complete_en['Gender'].replace(values_gender, names_gender, inplace=True)\n",
    "\n",
    "print('Describing the variable Gender')\n",
    "display(data_complete_en['Gender'].describe())\n",
    "print('Count of each value in Gender expresed as gender / amount')\n",
    "display(data_complete_en['Gender'].value_counts().sort_index())\n",
    "print('Percentage of each value in Gender expresed as gender / percentage')\n",
    "display(data_complete_en['Gender'].value_counts(\n",
    "    normalize=True).sort_index().round(4) * 100)\n",
    "\n",
    "labels_gender = ['Male', 'Female', 'Other']\n",
    "tickvals_gender = ['0', '1', '2']\n",
    "\n",
    "data1 = [go.Bar(x=sorted(data_complete_en['Gender'].unique()),\n",
    "                y=data_complete_en['Gender'].value_counts().sort_index(),\n",
    "                text=(data_complete_en['Gender'].value_counts(\n",
    "                    normalize=True).sort_index().round(4) * 100),\n",
    "                marker=dict(color=colors_gender_list),\n",
    "                name='Gender')]\n",
    "layout1 = go.Layout(\n",
    "    xaxis=go.layout.XAxis(\n",
    "        title='Gender'\n",
    "    ),\n",
    "    yaxis=go.layout.YAxis(\n",
    "        title=\"Total\"),\n",
    "    bargap=0.2\n",
    ")\n",
    "fig1 = go.Figure(data=data1, layout=layout1)\n",
    "iplot(fig1)\n",
    "plt.show()"
   ]
  },
  {
   "cell_type": "markdown",
   "metadata": {},
   "source": [
    "## Analyzing the distribution of age in the population"
   ]
  },
  {
   "cell_type": "code",
   "execution_count": 7,
   "metadata": {
    "scrolled": false
   },
   "outputs": [
    {
     "name": "stdout",
     "output_type": "stream",
     "text": [
      "Describing the variable Age\n"
     ]
    },
    {
     "data": {
      "text/plain": [
       "count    767.000000\n",
       "mean      32.653194\n",
       "std       12.463825\n",
       "min       13.000000\n",
       "25%       24.000000\n",
       "50%       30.000000\n",
       "75%       38.000000\n",
       "max       81.000000\n",
       "Name: Age, dtype: float64"
      ]
     },
     "metadata": {},
     "output_type": "display_data"
    },
    {
     "name": "stdout",
     "output_type": "stream",
     "text": [
      "Count of each value in Age expresed as age / amount\n"
     ]
    },
    {
     "data": {
      "text/plain": [
       "13     5\n",
       "14    28\n",
       "15    18\n",
       "16    10\n",
       "17     5\n",
       "18    11\n",
       "19    12\n",
       "20    11\n",
       "21    24\n",
       "22    16\n",
       "23    20\n",
       "24    39\n",
       "25    21\n",
       "26    31\n",
       "27    38\n",
       "28    39\n",
       "29    32\n",
       "30    38\n",
       "31    24\n",
       "32    24\n",
       "33    24\n",
       "34    26\n",
       "35    28\n",
       "36    17\n",
       "37    18\n",
       "38    19\n",
       "39    15\n",
       "40     9\n",
       "41     9\n",
       "42    12\n",
       "43    12\n",
       "44     8\n",
       "45     8\n",
       "46    15\n",
       "47     9\n",
       "48     5\n",
       "49     4\n",
       "50     6\n",
       "51     6\n",
       "52     2\n",
       "53     8\n",
       "54     4\n",
       "55     7\n",
       "56     5\n",
       "57     6\n",
       "58     1\n",
       "59     2\n",
       "60     5\n",
       "61     3\n",
       "62     7\n",
       "63     1\n",
       "64     3\n",
       "65     2\n",
       "66     2\n",
       "67     4\n",
       "68     1\n",
       "69     2\n",
       "70     1\n",
       "71     1\n",
       "73     1\n",
       "78     1\n",
       "81     2\n",
       "Name: Age, dtype: int64"
      ]
     },
     "metadata": {},
     "output_type": "display_data"
    },
    {
     "name": "stdout",
     "output_type": "stream",
     "text": [
      "Percentage of each value in Age expresed as age / percentage\n"
     ]
    },
    {
     "data": {
      "text/plain": [
       "13    0.65\n",
       "14    3.65\n",
       "15    2.35\n",
       "16    1.30\n",
       "17    0.65\n",
       "18    1.43\n",
       "19    1.56\n",
       "20    1.43\n",
       "21    3.13\n",
       "22    2.09\n",
       "23    2.61\n",
       "24    5.08\n",
       "25    2.74\n",
       "26    4.04\n",
       "27    4.95\n",
       "28    5.08\n",
       "29    4.17\n",
       "30    4.95\n",
       "31    3.13\n",
       "32    3.13\n",
       "33    3.13\n",
       "34    3.39\n",
       "35    3.65\n",
       "36    2.22\n",
       "37    2.35\n",
       "38    2.48\n",
       "39    1.96\n",
       "40    1.17\n",
       "41    1.17\n",
       "42    1.56\n",
       "43    1.56\n",
       "44    1.04\n",
       "45    1.04\n",
       "46    1.96\n",
       "47    1.17\n",
       "48    0.65\n",
       "49    0.52\n",
       "50    0.78\n",
       "51    0.78\n",
       "52    0.26\n",
       "53    1.04\n",
       "54    0.52\n",
       "55    0.91\n",
       "56    0.65\n",
       "57    0.78\n",
       "58    0.13\n",
       "59    0.26\n",
       "60    0.65\n",
       "61    0.39\n",
       "62    0.91\n",
       "63    0.13\n",
       "64    0.39\n",
       "65    0.26\n",
       "66    0.26\n",
       "67    0.52\n",
       "68    0.13\n",
       "69    0.26\n",
       "70    0.13\n",
       "71    0.13\n",
       "73    0.13\n",
       "78    0.13\n",
       "81    0.26\n",
       "Name: Age, dtype: float64"
      ]
     },
     "metadata": {},
     "output_type": "display_data"
    },
    {
     "data": {
      "application/vnd.plotly.v1+json": {
       "config": {
        "linkText": "Export to plot.ly",
        "plotlyServerURL": "https://plot.ly",
        "showLink": false
       },
       "data": [
        {
         "marker": {
          "color": [
           "hsl(147.27999999999997, 42.84%, 62.760000000000005%)",
           "hsl(18.2, 90.52%, 62.24%)",
           "hsl(47.2, 98.4%, 79.0%)",
           "hsl(74.16000000000001, 77.56%, 76.76%)",
           "hsl(147.27999999999997, 42.84%, 62.760000000000005%)",
           "hsl(67.2, 85.60000000000001%, 79.0%)",
           "hsl(64.32000000000001, 91.35999999999999%, 82.19999999999999%)",
           "hsl(67.2, 85.60000000000001%, 79.0%)",
           "hsl(27.799999999999997, 96.28%, 67.36%)",
           "hsl(57.44, 99.68%, 85.4%)",
           "hsl(37.4, 97.56%, 73.04%)",
           "hsl(353.0, 64.0%, 53.0%)",
           "hsl(32.6, 97.24%, 70.16%)",
           "hsl(13.160000000000025, 87.03999999999999%, 59.72%)",
           "hsl(359.72, 71.68%, 55.24%)",
           "hsl(353.0, 64.0%, 53.0%)",
           "hsl(6.439999999999998, 79.36%, 57.480000000000004%)",
           "hsl(359.72, 71.68%, 55.24%)",
           "hsl(27.799999999999997, 96.28%, 67.36%)",
           "hsl(27.799999999999997, 96.28%, 67.36%)",
           "hsl(27.799999999999997, 96.28%, 67.36%)",
           "hsl(23.0, 93.4%, 64.8%)",
           "hsl(18.2, 90.52%, 62.24%)",
           "hsl(52.32, 99.04%, 82.2%)",
           "hsl(47.2, 98.4%, 79.0%)",
           "hsl(42.2, 97.88%, 75.92%)",
           "hsl(61.44, 97.12%, 85.4%)",
           "hsl(87.92000000000002, 65.71999999999998%, 76.12%)",
           "hsl(87.92000000000002, 65.71999999999998%, 76.12%)",
           "hsl(64.32000000000001, 91.35999999999999%, 82.19999999999999%)",
           "hsl(64.32000000000001, 91.35999999999999%, 82.19999999999999%)",
           "hsl(101.67999999999999, 53.88000000000001%, 75.48%)",
           "hsl(101.67999999999999, 53.88000000000001%, 75.48%)",
           "hsl(61.44, 97.12%, 85.4%)",
           "hsl(87.92000000000002, 65.71999999999998%, 76.12%)",
           "hsl(147.27999999999997, 42.84%, 62.760000000000005%)",
           "hsl(162.64000000000001, 42.64%, 57.519999999999996%)",
           "hsl(131.60000000000002, 43.8%, 68.19999999999999%)",
           "hsl(131.60000000000002, 43.8%, 68.19999999999999%)",
           "hsl(188.88, 52.879999999999995%, 49.84%)",
           "hsl(101.67999999999999, 53.88000000000001%, 75.48%)",
           "hsl(162.64000000000001, 42.64%, 57.519999999999996%)",
           "hsl(115.92, 44.76%, 73.64%)",
           "hsl(147.27999999999997, 42.84%, 62.760000000000005%)",
           "hsl(131.60000000000002, 43.8%, 68.19999999999999%)",
           "hsl(202.0, 58.0%, 46.0%)",
           "hsl(188.88, 52.879999999999995%, 49.84%)",
           "hsl(147.27999999999997, 42.84%, 62.760000000000005%)",
           "hsl(175.76000000000002, 47.760000000000005%, 53.67999999999999%)",
           "hsl(115.92, 44.76%, 73.64%)",
           "hsl(202.0, 58.0%, 46.0%)",
           "hsl(175.76000000000002, 47.760000000000005%, 53.67999999999999%)",
           "hsl(188.88, 52.879999999999995%, 49.84%)",
           "hsl(188.88, 52.879999999999995%, 49.84%)",
           "hsl(162.64000000000001, 42.64%, 57.519999999999996%)",
           "hsl(202.0, 58.0%, 46.0%)",
           "hsl(188.88, 52.879999999999995%, 49.84%)",
           "hsl(202.0, 58.0%, 46.0%)",
           "hsl(202.0, 58.0%, 46.0%)",
           "hsl(202.0, 58.0%, 46.0%)",
           "hsl(202.0, 58.0%, 46.0%)",
           "hsl(188.88, 52.879999999999995%, 49.84%)"
          ]
         },
         "name": "Age",
         "text": [
          0.65,
          3.65,
          2.35,
          1.3,
          0.65,
          1.43,
          1.5599999999999998,
          1.43,
          3.1300000000000003,
          2.09,
          2.6100000000000003,
          5.08,
          2.74,
          4.04,
          4.95,
          5.08,
          4.17,
          4.95,
          3.1300000000000003,
          3.1300000000000003,
          3.1300000000000003,
          3.39,
          3.65,
          2.22,
          2.35,
          2.48,
          1.96,
          1.17,
          1.17,
          1.5599999999999998,
          1.5599999999999998,
          1.04,
          1.04,
          1.96,
          1.17,
          0.65,
          0.52,
          0.7799999999999999,
          0.7799999999999999,
          0.26,
          1.04,
          0.52,
          0.91,
          0.65,
          0.7799999999999999,
          0.13,
          0.26,
          0.65,
          0.38999999999999996,
          0.91,
          0.13,
          0.38999999999999996,
          0.26,
          0.26,
          0.52,
          0.13,
          0.26,
          0.13,
          0.13,
          0.13,
          0.13,
          0.26
         ],
         "type": "bar",
         "uid": "d82457ce-8095-49f7-bc3e-f5d82de760db",
         "x": [
          37,
          62,
          28,
          31,
          24,
          20,
          30,
          42,
          32,
          60,
          35,
          23,
          41,
          22,
          33,
          46,
          21,
          29,
          36,
          38,
          19,
          43,
          25,
          50,
          57,
          67,
          53,
          44,
          70,
          18,
          27,
          64,
          15,
          17,
          16,
          14,
          48,
          51,
          26,
          34,
          61,
          55,
          52,
          47,
          39,
          45,
          13,
          81,
          40,
          49,
          56,
          59,
          54,
          69,
          65,
          63,
          66,
          73,
          71,
          68,
          58,
          78
         ],
         "y": [
          5,
          28,
          18,
          10,
          5,
          11,
          12,
          11,
          24,
          16,
          20,
          39,
          21,
          31,
          38,
          39,
          32,
          38,
          24,
          24,
          24,
          26,
          28,
          17,
          18,
          19,
          15,
          9,
          9,
          12,
          12,
          8,
          8,
          15,
          9,
          5,
          4,
          6,
          6,
          2,
          8,
          4,
          7,
          5,
          6,
          1,
          2,
          5,
          3,
          7,
          1,
          3,
          2,
          2,
          4,
          1,
          2,
          1,
          1,
          1,
          1,
          2
         ]
        }
       ],
       "layout": {
        "bargap": 0.2,
        "xaxis": {
         "title": {
          "text": "Age"
         }
        },
        "yaxis": {
         "title": {
          "text": "Total"
         }
        }
       }
      },
      "text/html": [
       "<div id=\"4da8f945-c5ef-4764-aa59-a4bf3ca9c0f0\" style=\"height: 525px; width: 100%;\" class=\"plotly-graph-div\"></div><script type=\"text/javascript\">require([\"plotly\"], function(Plotly) { window.PLOTLYENV=window.PLOTLYENV || {};window.PLOTLYENV.BASE_URL=\"https://plot.ly\";\n",
       "if (document.getElementById(\"4da8f945-c5ef-4764-aa59-a4bf3ca9c0f0\")) {\n",
       "    Plotly.newPlot(\"4da8f945-c5ef-4764-aa59-a4bf3ca9c0f0\", [{\"marker\": {\"color\": [\"hsl(147.27999999999997, 42.84%, 62.760000000000005%)\", \"hsl(18.2, 90.52%, 62.24%)\", \"hsl(47.2, 98.4%, 79.0%)\", \"hsl(74.16000000000001, 77.56%, 76.76%)\", \"hsl(147.27999999999997, 42.84%, 62.760000000000005%)\", \"hsl(67.2, 85.60000000000001%, 79.0%)\", \"hsl(64.32000000000001, 91.35999999999999%, 82.19999999999999%)\", \"hsl(67.2, 85.60000000000001%, 79.0%)\", \"hsl(27.799999999999997, 96.28%, 67.36%)\", \"hsl(57.44, 99.68%, 85.4%)\", \"hsl(37.4, 97.56%, 73.04%)\", \"hsl(353.0, 64.0%, 53.0%)\", \"hsl(32.6, 97.24%, 70.16%)\", \"hsl(13.160000000000025, 87.03999999999999%, 59.72%)\", \"hsl(359.72, 71.68%, 55.24%)\", \"hsl(353.0, 64.0%, 53.0%)\", \"hsl(6.439999999999998, 79.36%, 57.480000000000004%)\", \"hsl(359.72, 71.68%, 55.24%)\", \"hsl(27.799999999999997, 96.28%, 67.36%)\", \"hsl(27.799999999999997, 96.28%, 67.36%)\", \"hsl(27.799999999999997, 96.28%, 67.36%)\", \"hsl(23.0, 93.4%, 64.8%)\", \"hsl(18.2, 90.52%, 62.24%)\", \"hsl(52.32, 99.04%, 82.2%)\", \"hsl(47.2, 98.4%, 79.0%)\", \"hsl(42.2, 97.88%, 75.92%)\", \"hsl(61.44, 97.12%, 85.4%)\", \"hsl(87.92000000000002, 65.71999999999998%, 76.12%)\", \"hsl(87.92000000000002, 65.71999999999998%, 76.12%)\", \"hsl(64.32000000000001, 91.35999999999999%, 82.19999999999999%)\", \"hsl(64.32000000000001, 91.35999999999999%, 82.19999999999999%)\", \"hsl(101.67999999999999, 53.88000000000001%, 75.48%)\", \"hsl(101.67999999999999, 53.88000000000001%, 75.48%)\", \"hsl(61.44, 97.12%, 85.4%)\", \"hsl(87.92000000000002, 65.71999999999998%, 76.12%)\", \"hsl(147.27999999999997, 42.84%, 62.760000000000005%)\", \"hsl(162.64000000000001, 42.64%, 57.519999999999996%)\", \"hsl(131.60000000000002, 43.8%, 68.19999999999999%)\", \"hsl(131.60000000000002, 43.8%, 68.19999999999999%)\", \"hsl(188.88, 52.879999999999995%, 49.84%)\", \"hsl(101.67999999999999, 53.88000000000001%, 75.48%)\", \"hsl(162.64000000000001, 42.64%, 57.519999999999996%)\", \"hsl(115.92, 44.76%, 73.64%)\", \"hsl(147.27999999999997, 42.84%, 62.760000000000005%)\", \"hsl(131.60000000000002, 43.8%, 68.19999999999999%)\", \"hsl(202.0, 58.0%, 46.0%)\", \"hsl(188.88, 52.879999999999995%, 49.84%)\", \"hsl(147.27999999999997, 42.84%, 62.760000000000005%)\", \"hsl(175.76000000000002, 47.760000000000005%, 53.67999999999999%)\", \"hsl(115.92, 44.76%, 73.64%)\", \"hsl(202.0, 58.0%, 46.0%)\", \"hsl(175.76000000000002, 47.760000000000005%, 53.67999999999999%)\", \"hsl(188.88, 52.879999999999995%, 49.84%)\", \"hsl(188.88, 52.879999999999995%, 49.84%)\", \"hsl(162.64000000000001, 42.64%, 57.519999999999996%)\", \"hsl(202.0, 58.0%, 46.0%)\", \"hsl(188.88, 52.879999999999995%, 49.84%)\", \"hsl(202.0, 58.0%, 46.0%)\", \"hsl(202.0, 58.0%, 46.0%)\", \"hsl(202.0, 58.0%, 46.0%)\", \"hsl(202.0, 58.0%, 46.0%)\", \"hsl(188.88, 52.879999999999995%, 49.84%)\"]}, \"name\": \"Age\", \"text\": [0.65, 3.65, 2.35, 1.3, 0.65, 1.43, 1.5599999999999998, 1.43, 3.1300000000000003, 2.09, 2.6100000000000003, 5.08, 2.74, 4.04, 4.95, 5.08, 4.17, 4.95, 3.1300000000000003, 3.1300000000000003, 3.1300000000000003, 3.39, 3.65, 2.22, 2.35, 2.48, 1.96, 1.17, 1.17, 1.5599999999999998, 1.5599999999999998, 1.04, 1.04, 1.96, 1.17, 0.65, 0.52, 0.7799999999999999, 0.7799999999999999, 0.26, 1.04, 0.52, 0.91, 0.65, 0.7799999999999999, 0.13, 0.26, 0.65, 0.38999999999999996, 0.91, 0.13, 0.38999999999999996, 0.26, 0.26, 0.52, 0.13, 0.26, 0.13, 0.13, 0.13, 0.13, 0.26], \"x\": [37, 62, 28, 31, 24, 20, 30, 42, 32, 60, 35, 23, 41, 22, 33, 46, 21, 29, 36, 38, 19, 43, 25, 50, 57, 67, 53, 44, 70, 18, 27, 64, 15, 17, 16, 14, 48, 51, 26, 34, 61, 55, 52, 47, 39, 45, 13, 81, 40, 49, 56, 59, 54, 69, 65, 63, 66, 73, 71, 68, 58, 78], \"y\": [5, 28, 18, 10, 5, 11, 12, 11, 24, 16, 20, 39, 21, 31, 38, 39, 32, 38, 24, 24, 24, 26, 28, 17, 18, 19, 15, 9, 9, 12, 12, 8, 8, 15, 9, 5, 4, 6, 6, 2, 8, 4, 7, 5, 6, 1, 2, 5, 3, 7, 1, 3, 2, 2, 4, 1, 2, 1, 1, 1, 1, 2], \"type\": \"bar\", \"uid\": \"d82457ce-8095-49f7-bc3e-f5d82de760db\"}], {\"bargap\": 0.2, \"xaxis\": {\"title\": {\"text\": \"Age\"}}, \"yaxis\": {\"title\": {\"text\": \"Total\"}}}, {\"showLink\": false, \"linkText\": \"Export to plot.ly\", \"plotlyServerURL\": \"https://plot.ly\"}); \n",
       "}\n",
       "});</script><script type=\"text/javascript\">window.addEventListener(\"resize\", function(){if (document.getElementById(\"4da8f945-c5ef-4764-aa59-a4bf3ca9c0f0\")) {window._Plotly.Plots.resize(document.getElementById(\"4da8f945-c5ef-4764-aa59-a4bf3ca9c0f0\"));};})</script>"
      ],
      "text/vnd.plotly.v1+html": [
       "<div id=\"4da8f945-c5ef-4764-aa59-a4bf3ca9c0f0\" style=\"height: 525px; width: 100%;\" class=\"plotly-graph-div\"></div><script type=\"text/javascript\">require([\"plotly\"], function(Plotly) { window.PLOTLYENV=window.PLOTLYENV || {};window.PLOTLYENV.BASE_URL=\"https://plot.ly\";\n",
       "if (document.getElementById(\"4da8f945-c5ef-4764-aa59-a4bf3ca9c0f0\")) {\n",
       "    Plotly.newPlot(\"4da8f945-c5ef-4764-aa59-a4bf3ca9c0f0\", [{\"marker\": {\"color\": [\"hsl(147.27999999999997, 42.84%, 62.760000000000005%)\", \"hsl(18.2, 90.52%, 62.24%)\", \"hsl(47.2, 98.4%, 79.0%)\", \"hsl(74.16000000000001, 77.56%, 76.76%)\", \"hsl(147.27999999999997, 42.84%, 62.760000000000005%)\", \"hsl(67.2, 85.60000000000001%, 79.0%)\", \"hsl(64.32000000000001, 91.35999999999999%, 82.19999999999999%)\", \"hsl(67.2, 85.60000000000001%, 79.0%)\", \"hsl(27.799999999999997, 96.28%, 67.36%)\", \"hsl(57.44, 99.68%, 85.4%)\", \"hsl(37.4, 97.56%, 73.04%)\", \"hsl(353.0, 64.0%, 53.0%)\", \"hsl(32.6, 97.24%, 70.16%)\", \"hsl(13.160000000000025, 87.03999999999999%, 59.72%)\", \"hsl(359.72, 71.68%, 55.24%)\", \"hsl(353.0, 64.0%, 53.0%)\", \"hsl(6.439999999999998, 79.36%, 57.480000000000004%)\", \"hsl(359.72, 71.68%, 55.24%)\", \"hsl(27.799999999999997, 96.28%, 67.36%)\", \"hsl(27.799999999999997, 96.28%, 67.36%)\", \"hsl(27.799999999999997, 96.28%, 67.36%)\", \"hsl(23.0, 93.4%, 64.8%)\", \"hsl(18.2, 90.52%, 62.24%)\", \"hsl(52.32, 99.04%, 82.2%)\", \"hsl(47.2, 98.4%, 79.0%)\", \"hsl(42.2, 97.88%, 75.92%)\", \"hsl(61.44, 97.12%, 85.4%)\", \"hsl(87.92000000000002, 65.71999999999998%, 76.12%)\", \"hsl(87.92000000000002, 65.71999999999998%, 76.12%)\", \"hsl(64.32000000000001, 91.35999999999999%, 82.19999999999999%)\", \"hsl(64.32000000000001, 91.35999999999999%, 82.19999999999999%)\", \"hsl(101.67999999999999, 53.88000000000001%, 75.48%)\", \"hsl(101.67999999999999, 53.88000000000001%, 75.48%)\", \"hsl(61.44, 97.12%, 85.4%)\", \"hsl(87.92000000000002, 65.71999999999998%, 76.12%)\", \"hsl(147.27999999999997, 42.84%, 62.760000000000005%)\", \"hsl(162.64000000000001, 42.64%, 57.519999999999996%)\", \"hsl(131.60000000000002, 43.8%, 68.19999999999999%)\", \"hsl(131.60000000000002, 43.8%, 68.19999999999999%)\", \"hsl(188.88, 52.879999999999995%, 49.84%)\", \"hsl(101.67999999999999, 53.88000000000001%, 75.48%)\", \"hsl(162.64000000000001, 42.64%, 57.519999999999996%)\", \"hsl(115.92, 44.76%, 73.64%)\", \"hsl(147.27999999999997, 42.84%, 62.760000000000005%)\", \"hsl(131.60000000000002, 43.8%, 68.19999999999999%)\", \"hsl(202.0, 58.0%, 46.0%)\", \"hsl(188.88, 52.879999999999995%, 49.84%)\", \"hsl(147.27999999999997, 42.84%, 62.760000000000005%)\", \"hsl(175.76000000000002, 47.760000000000005%, 53.67999999999999%)\", \"hsl(115.92, 44.76%, 73.64%)\", \"hsl(202.0, 58.0%, 46.0%)\", \"hsl(175.76000000000002, 47.760000000000005%, 53.67999999999999%)\", \"hsl(188.88, 52.879999999999995%, 49.84%)\", \"hsl(188.88, 52.879999999999995%, 49.84%)\", \"hsl(162.64000000000001, 42.64%, 57.519999999999996%)\", \"hsl(202.0, 58.0%, 46.0%)\", \"hsl(188.88, 52.879999999999995%, 49.84%)\", \"hsl(202.0, 58.0%, 46.0%)\", \"hsl(202.0, 58.0%, 46.0%)\", \"hsl(202.0, 58.0%, 46.0%)\", \"hsl(202.0, 58.0%, 46.0%)\", \"hsl(188.88, 52.879999999999995%, 49.84%)\"]}, \"name\": \"Age\", \"text\": [0.65, 3.65, 2.35, 1.3, 0.65, 1.43, 1.5599999999999998, 1.43, 3.1300000000000003, 2.09, 2.6100000000000003, 5.08, 2.74, 4.04, 4.95, 5.08, 4.17, 4.95, 3.1300000000000003, 3.1300000000000003, 3.1300000000000003, 3.39, 3.65, 2.22, 2.35, 2.48, 1.96, 1.17, 1.17, 1.5599999999999998, 1.5599999999999998, 1.04, 1.04, 1.96, 1.17, 0.65, 0.52, 0.7799999999999999, 0.7799999999999999, 0.26, 1.04, 0.52, 0.91, 0.65, 0.7799999999999999, 0.13, 0.26, 0.65, 0.38999999999999996, 0.91, 0.13, 0.38999999999999996, 0.26, 0.26, 0.52, 0.13, 0.26, 0.13, 0.13, 0.13, 0.13, 0.26], \"x\": [37, 62, 28, 31, 24, 20, 30, 42, 32, 60, 35, 23, 41, 22, 33, 46, 21, 29, 36, 38, 19, 43, 25, 50, 57, 67, 53, 44, 70, 18, 27, 64, 15, 17, 16, 14, 48, 51, 26, 34, 61, 55, 52, 47, 39, 45, 13, 81, 40, 49, 56, 59, 54, 69, 65, 63, 66, 73, 71, 68, 58, 78], \"y\": [5, 28, 18, 10, 5, 11, 12, 11, 24, 16, 20, 39, 21, 31, 38, 39, 32, 38, 24, 24, 24, 26, 28, 17, 18, 19, 15, 9, 9, 12, 12, 8, 8, 15, 9, 5, 4, 6, 6, 2, 8, 4, 7, 5, 6, 1, 2, 5, 3, 7, 1, 3, 2, 2, 4, 1, 2, 1, 1, 1, 1, 2], \"type\": \"bar\", \"uid\": \"d82457ce-8095-49f7-bc3e-f5d82de760db\"}], {\"bargap\": 0.2, \"xaxis\": {\"title\": {\"text\": \"Age\"}}, \"yaxis\": {\"title\": {\"text\": \"Total\"}}}, {\"showLink\": false, \"linkText\": \"Export to plot.ly\", \"plotlyServerURL\": \"https://plot.ly\"}); \n",
       "}\n",
       "});</script><script type=\"text/javascript\">window.addEventListener(\"resize\", function(){if (document.getElementById(\"4da8f945-c5ef-4764-aa59-a4bf3ca9c0f0\")) {window._Plotly.Plots.resize(document.getElementById(\"4da8f945-c5ef-4764-aa59-a4bf3ca9c0f0\"));};})</script>"
      ]
     },
     "metadata": {},
     "output_type": "display_data"
    }
   ],
   "source": [
    "print('Describing the variable Age')\n",
    "display(data_complete_en['Age'].describe())\n",
    "print('Count of each value in Age expresed as age / amount')\n",
    "display(data_complete_en['Age'].value_counts().sort_index())\n",
    "print('Percentage of each value in Age expresed as age / percentage')\n",
    "display(data_complete_en['Age'].value_counts(\n",
    "    normalize=True).sort_index().round(4) * 100)\n",
    "\n",
    "color_scale = cl.interp(cl.scales['9']['div']['Spectral'], data_complete_en['Age'].value_counts().nunique())\n",
    "values_list = data_complete_en['Age'].value_counts().unique()\n",
    "color_list = []\n",
    "for value in data_complete_en['Age'].value_counts().sort_index():\n",
    "    color_list.append(color_scale[list(values_list).index(value)])\n",
    "\n",
    "data2 = [go.Bar(x=data_complete_en['Age'].unique(),\n",
    "                y=data_complete_en['Age'].value_counts().sort_index(),\n",
    "                text=(data_complete_en['Age'].value_counts(\n",
    "                    normalize=True).sort_index().round(4) * 100),\n",
    "                # marker=dict(color=cl.interp(cl.scales['9']['div']['Spectral'], data_complete_en['Age'].nunique())),\n",
    "                # marker=dict(color=cl.scales['9']['div']['Spectral'][7]),\n",
    "                marker=dict(color=color_list),\n",
    "                name='Age')]\n",
    "layout2 = go.Layout(\n",
    "    xaxis=go.layout.XAxis(\n",
    "        title='Age'\n",
    "    ),\n",
    "    yaxis=go.layout.YAxis(\n",
    "        title=\"Total\"),\n",
    "    bargap=0.2,\n",
    ")\n",
    "fig2 = go.Figure(data=data2, layout=layout2)\n",
    "iplot(fig2)\n",
    "plt.show()"
   ]
  },
  {
   "cell_type": "markdown",
   "metadata": {},
   "source": [
    "## Distribution of age divided by gender"
   ]
  },
  {
   "cell_type": "code",
   "execution_count": 8,
   "metadata": {},
   "outputs": [
    {
     "data": {
      "application/vnd.plotly.v1+json": {
       "config": {
        "linkText": "Export to plot.ly",
        "plotlyServerURL": "https://plot.ly",
        "showLink": false
       },
       "data": [
        {
         "hoverinfo": "text",
         "marker": {
          "color": "rgb(102,194,165)"
         },
         "name": "Women",
         "orientation": "h",
         "text": [
          4,
          9,
          10,
          5,
          3,
          6,
          7,
          6,
          13,
          8,
          8,
          27,
          12,
          15,
          19,
          13,
          11,
          17,
          13,
          11,
          13,
          12,
          19,
          5,
          11,
          11,
          4,
          4,
          5,
          5,
          8,
          5,
          6,
          12,
          3,
          4,
          2,
          5,
          4,
          2,
          5,
          3,
          7,
          5,
          3,
          1,
          2,
          2,
          2,
          5,
          2,
          1,
          1,
          2,
          1,
          1,
          1,
          2
         ],
         "type": "bar",
         "uid": "50f70367-0666-4d76-9b25-7be051e73887",
         "x": [
          -4,
          -9,
          -10,
          -5,
          -3,
          -6,
          -7,
          -6,
          -13,
          -8,
          -8,
          -27,
          -12,
          -15,
          -19,
          -13,
          -11,
          -17,
          -13,
          -11,
          -13,
          -12,
          -19,
          -5,
          -11,
          -11,
          -4,
          -4,
          -5,
          -5,
          -8,
          -5,
          -6,
          -12,
          -3,
          -4,
          -2,
          -5,
          -4,
          -2,
          -5,
          -3,
          -7,
          -5,
          -3,
          -1,
          -2,
          -2,
          -2,
          -5,
          -2,
          -1,
          -1,
          -2,
          -1,
          -1,
          -1,
          -2
         ],
         "y": [
          37,
          62,
          28,
          31,
          24,
          20,
          30,
          42,
          32,
          60,
          35,
          23,
          41,
          22,
          33,
          46,
          21,
          29,
          36,
          38,
          19,
          43,
          25,
          50,
          57,
          67,
          53,
          44,
          70,
          18,
          27,
          64,
          15,
          17,
          16,
          14,
          48,
          51,
          26,
          34,
          61,
          55,
          52,
          47,
          39,
          45,
          13,
          81,
          40,
          49,
          56,
          59,
          54,
          69,
          65,
          63,
          66,
          73,
          71,
          68,
          58,
          78
         ]
        },
        {
         "hoverinfo": "x",
         "marker": {
          "color": "rgb(254,224,139)"
         },
         "name": "Men",
         "orientation": "h",
         "type": "bar",
         "uid": "22452e44-6220-45a1-a7a0-82a0be668564",
         "x": [
          1,
          18,
          8,
          5,
          2,
          5,
          5,
          4,
          10,
          7,
          12,
          12,
          9,
          16,
          19,
          25,
          21,
          21,
          11,
          13,
          11,
          14,
          9,
          11,
          7,
          8,
          11,
          5,
          4,
          7,
          4,
          3,
          2,
          3,
          6,
          1,
          2,
          1,
          2,
          3,
          1,
          3,
          3,
          1,
          2,
          1,
          1,
          1,
          1,
          2,
          1,
          1,
          1,
          1
         ],
         "y": [
          37,
          62,
          28,
          31,
          24,
          20,
          30,
          42,
          32,
          60,
          35,
          23,
          41,
          22,
          33,
          46,
          21,
          29,
          36,
          38,
          19,
          43,
          25,
          50,
          57,
          67,
          53,
          44,
          70,
          18,
          27,
          64,
          15,
          17,
          16,
          14,
          48,
          51,
          26,
          34,
          61,
          55,
          52,
          47,
          39,
          45,
          13,
          81,
          40,
          49,
          56,
          59,
          54,
          69,
          65,
          63,
          66,
          73,
          71,
          68,
          58,
          78
         ]
        }
       ],
       "layout": {
        "bargap": 0.1,
        "barmode": "overlay",
        "xaxis": {
         "range": [
          -35,
          35
         ],
         "ticktext": [
          30,
          20,
          10,
          0,
          10,
          20,
          30
         ],
         "tickvals": [
          -30,
          -20,
          -10,
          0,
          10,
          20,
          30
         ],
         "title": {
          "text": "Total"
         }
        },
        "yaxis": {
         "title": {
          "text": "Age"
         }
        }
       }
      },
      "text/html": [
       "<div id=\"75db69d9-afd6-4bbb-823a-dd6f87fe84db\" style=\"height: 525px; width: 100%;\" class=\"plotly-graph-div\"></div><script type=\"text/javascript\">require([\"plotly\"], function(Plotly) { window.PLOTLYENV=window.PLOTLYENV || {};window.PLOTLYENV.BASE_URL=\"https://plot.ly\";\n",
       "if (document.getElementById(\"75db69d9-afd6-4bbb-823a-dd6f87fe84db\")) {\n",
       "    Plotly.newPlot(\"75db69d9-afd6-4bbb-823a-dd6f87fe84db\", [{\"hoverinfo\": \"text\", \"marker\": {\"color\": \"rgb(102,194,165)\"}, \"name\": \"Women\", \"orientation\": \"h\", \"text\": [4.0, 9.0, 10.0, 5.0, 3.0, 6.0, 7.0, 6.0, 13.0, 8.0, 8.0, 27.0, 12.0, 15.0, 19.0, 13.0, 11.0, 17.0, 13.0, 11.0, 13.0, 12.0, 19.0, 5.0, 11.0, 11.0, 4.0, 4.0, 5.0, 5.0, 8.0, 5.0, 6.0, 12.0, 3.0, 4.0, 2.0, 5.0, 4.0, 2.0, 5.0, 3.0, 7.0, 5.0, 3.0, 1.0, 2.0, 2.0, 2.0, 5.0, 2.0, 1.0, 1.0, 2.0, 1.0, 1.0, 1.0, 2.0], \"x\": [-4, -9, -10, -5, -3, -6, -7, -6, -13, -8, -8, -27, -12, -15, -19, -13, -11, -17, -13, -11, -13, -12, -19, -5, -11, -11, -4, -4, -5, -5, -8, -5, -6, -12, -3, -4, -2, -5, -4, -2, -5, -3, -7, -5, -3, -1, -2, -2, -2, -5, -2, -1, -1, -2, -1, -1, -1, -2], \"y\": [37, 62, 28, 31, 24, 20, 30, 42, 32, 60, 35, 23, 41, 22, 33, 46, 21, 29, 36, 38, 19, 43, 25, 50, 57, 67, 53, 44, 70, 18, 27, 64, 15, 17, 16, 14, 48, 51, 26, 34, 61, 55, 52, 47, 39, 45, 13, 81, 40, 49, 56, 59, 54, 69, 65, 63, 66, 73, 71, 68, 58, 78], \"type\": \"bar\", \"uid\": \"50f70367-0666-4d76-9b25-7be051e73887\"}, {\"hoverinfo\": \"x\", \"marker\": {\"color\": \"rgb(254,224,139)\"}, \"name\": \"Men\", \"orientation\": \"h\", \"x\": [1, 18, 8, 5, 2, 5, 5, 4, 10, 7, 12, 12, 9, 16, 19, 25, 21, 21, 11, 13, 11, 14, 9, 11, 7, 8, 11, 5, 4, 7, 4, 3, 2, 3, 6, 1, 2, 1, 2, 3, 1, 3, 3, 1, 2, 1, 1, 1, 1, 2, 1, 1, 1, 1], \"y\": [37, 62, 28, 31, 24, 20, 30, 42, 32, 60, 35, 23, 41, 22, 33, 46, 21, 29, 36, 38, 19, 43, 25, 50, 57, 67, 53, 44, 70, 18, 27, 64, 15, 17, 16, 14, 48, 51, 26, 34, 61, 55, 52, 47, 39, 45, 13, 81, 40, 49, 56, 59, 54, 69, 65, 63, 66, 73, 71, 68, 58, 78], \"type\": \"bar\", \"uid\": \"22452e44-6220-45a1-a7a0-82a0be668564\"}], {\"bargap\": 0.1, \"barmode\": \"overlay\", \"xaxis\": {\"range\": [-35, 35], \"ticktext\": [30, 20, 10, 0, 10, 20, 30], \"tickvals\": [-30, -20, -10, 0, 10, 20, 30], \"title\": {\"text\": \"Total\"}}, \"yaxis\": {\"title\": {\"text\": \"Age\"}}}, {\"showLink\": false, \"linkText\": \"Export to plot.ly\", \"plotlyServerURL\": \"https://plot.ly\"}); \n",
       "}\n",
       "});</script><script type=\"text/javascript\">window.addEventListener(\"resize\", function(){if (document.getElementById(\"75db69d9-afd6-4bbb-823a-dd6f87fe84db\")) {window._Plotly.Plots.resize(document.getElementById(\"75db69d9-afd6-4bbb-823a-dd6f87fe84db\"));};})</script>"
      ],
      "text/vnd.plotly.v1+html": [
       "<div id=\"75db69d9-afd6-4bbb-823a-dd6f87fe84db\" style=\"height: 525px; width: 100%;\" class=\"plotly-graph-div\"></div><script type=\"text/javascript\">require([\"plotly\"], function(Plotly) { window.PLOTLYENV=window.PLOTLYENV || {};window.PLOTLYENV.BASE_URL=\"https://plot.ly\";\n",
       "if (document.getElementById(\"75db69d9-afd6-4bbb-823a-dd6f87fe84db\")) {\n",
       "    Plotly.newPlot(\"75db69d9-afd6-4bbb-823a-dd6f87fe84db\", [{\"hoverinfo\": \"text\", \"marker\": {\"color\": \"rgb(102,194,165)\"}, \"name\": \"Women\", \"orientation\": \"h\", \"text\": [4.0, 9.0, 10.0, 5.0, 3.0, 6.0, 7.0, 6.0, 13.0, 8.0, 8.0, 27.0, 12.0, 15.0, 19.0, 13.0, 11.0, 17.0, 13.0, 11.0, 13.0, 12.0, 19.0, 5.0, 11.0, 11.0, 4.0, 4.0, 5.0, 5.0, 8.0, 5.0, 6.0, 12.0, 3.0, 4.0, 2.0, 5.0, 4.0, 2.0, 5.0, 3.0, 7.0, 5.0, 3.0, 1.0, 2.0, 2.0, 2.0, 5.0, 2.0, 1.0, 1.0, 2.0, 1.0, 1.0, 1.0, 2.0], \"x\": [-4, -9, -10, -5, -3, -6, -7, -6, -13, -8, -8, -27, -12, -15, -19, -13, -11, -17, -13, -11, -13, -12, -19, -5, -11, -11, -4, -4, -5, -5, -8, -5, -6, -12, -3, -4, -2, -5, -4, -2, -5, -3, -7, -5, -3, -1, -2, -2, -2, -5, -2, -1, -1, -2, -1, -1, -1, -2], \"y\": [37, 62, 28, 31, 24, 20, 30, 42, 32, 60, 35, 23, 41, 22, 33, 46, 21, 29, 36, 38, 19, 43, 25, 50, 57, 67, 53, 44, 70, 18, 27, 64, 15, 17, 16, 14, 48, 51, 26, 34, 61, 55, 52, 47, 39, 45, 13, 81, 40, 49, 56, 59, 54, 69, 65, 63, 66, 73, 71, 68, 58, 78], \"type\": \"bar\", \"uid\": \"50f70367-0666-4d76-9b25-7be051e73887\"}, {\"hoverinfo\": \"x\", \"marker\": {\"color\": \"rgb(254,224,139)\"}, \"name\": \"Men\", \"orientation\": \"h\", \"x\": [1, 18, 8, 5, 2, 5, 5, 4, 10, 7, 12, 12, 9, 16, 19, 25, 21, 21, 11, 13, 11, 14, 9, 11, 7, 8, 11, 5, 4, 7, 4, 3, 2, 3, 6, 1, 2, 1, 2, 3, 1, 3, 3, 1, 2, 1, 1, 1, 1, 2, 1, 1, 1, 1], \"y\": [37, 62, 28, 31, 24, 20, 30, 42, 32, 60, 35, 23, 41, 22, 33, 46, 21, 29, 36, 38, 19, 43, 25, 50, 57, 67, 53, 44, 70, 18, 27, 64, 15, 17, 16, 14, 48, 51, 26, 34, 61, 55, 52, 47, 39, 45, 13, 81, 40, 49, 56, 59, 54, 69, 65, 63, 66, 73, 71, 68, 58, 78], \"type\": \"bar\", \"uid\": \"22452e44-6220-45a1-a7a0-82a0be668564\"}], {\"bargap\": 0.1, \"barmode\": \"overlay\", \"xaxis\": {\"range\": [-35, 35], \"ticktext\": [30, 20, 10, 0, 10, 20, 30], \"tickvals\": [-30, -20, -10, 0, 10, 20, 30], \"title\": {\"text\": \"Total\"}}, \"yaxis\": {\"title\": {\"text\": \"Age\"}}}, {\"showLink\": false, \"linkText\": \"Export to plot.ly\", \"plotlyServerURL\": \"https://plot.ly\"}); \n",
       "}\n",
       "});</script><script type=\"text/javascript\">window.addEventListener(\"resize\", function(){if (document.getElementById(\"75db69d9-afd6-4bbb-823a-dd6f87fe84db\")) {window._Plotly.Plots.resize(document.getElementById(\"75db69d9-afd6-4bbb-823a-dd6f87fe84db\"));};})</script>"
      ]
     },
     "metadata": {},
     "output_type": "display_data"
    }
   ],
   "source": [
    "data_complete_en['Gender'].replace(names_gender, values_gender, inplace=True)\n",
    "\n",
    "layout3 = go.Layout(yaxis=go.layout.YAxis(title='Age'),\n",
    "                    xaxis=go.layout.XAxis(\n",
    "    range=[-35, 35],\n",
    "    tickvals=[-30, -20, -10, 0, 10, 20, 30],\n",
    "    ticktext=[30, 20, 10, 0, 10, 20, 30],\n",
    "    title='Total'),\n",
    "    barmode='overlay',\n",
    "    bargap=0.1)\n",
    "\n",
    "data3 = [go.Bar(y=data_complete_en['Age'].unique(),\n",
    "                x=-data_complete_en[data_complete_en['Gender']\n",
    "                                    == 1]['Age'].value_counts().sort_index(),\n",
    "                orientation='h',\n",
    "                name='Women',\n",
    "                text=data_complete_en[data_complete_en['Gender']\n",
    "                                      == 1]['Age'].value_counts().sort_index(),\n",
    "                hoverinfo='text',\n",
    "                # marker=dict(color='seagreen')\n",
    "                marker=dict(color=colors_gender_list[0]),\n",
    "                ),\n",
    "        go.Bar(y=data_complete_en['Age'].unique(),\n",
    "                x=data_complete_en[data_complete_en['Gender']\n",
    "                                   == 0]['Age'].value_counts().sort_index(),\n",
    "                orientation='h',\n",
    "                name='Men',\n",
    "                hoverinfo='x',\n",
    "                # marker=dict(color='powderblue')\n",
    "                marker=dict(color=colors_gender_list[1]),\n",
    "                )]\n",
    "\n",
    "fig3 = go.Figure(data=data3, layout=layout3)\n",
    "iplot(fig3)\n",
    "plt.show()"
   ]
  },
  {
   "cell_type": "markdown",
   "metadata": {},
   "source": [
    "## Distribution of educational level in the population"
   ]
  },
  {
   "cell_type": "code",
   "execution_count": 9,
   "metadata": {},
   "outputs": [
    {
     "name": "stdout",
     "output_type": "stream",
     "text": [
      "Describing the variable Educational level\n"
     ]
    },
    {
     "data": {
      "text/plain": [
       "count                         767\n",
       "unique                          6\n",
       "top       University <br>graduate\n",
       "freq                          431\n",
       "Name: Educational level, dtype: object"
      ]
     },
     "metadata": {},
     "output_type": "display_data"
    },
    {
     "name": "stdout",
     "output_type": "stream",
     "text": [
      "Count of each value in Age expresed as educational level / amount\n"
     ]
    },
    {
     "data": {
      "text/plain": [
       "University <br>graduate                                 431\n",
       "University <br>without <br>graduating                   155\n",
       "Unfinished <br>Compulsory<br>Secondary <br>Education     77\n",
       "Completed <br>Compulsory<br>Secondary <br>Education      48\n",
       "Vocational <br>Training                                  42\n",
       "Primary <br>education                                    14\n",
       "Name: Educational level, dtype: int64"
      ]
     },
     "metadata": {},
     "output_type": "display_data"
    },
    {
     "name": "stdout",
     "output_type": "stream",
     "text": [
      "Percentage of each value in Age expresed as educational level / percentage\n"
     ]
    },
    {
     "data": {
      "text/plain": [
       "University <br>graduate                                 56.19\n",
       "University <br>without <br>graduating                   20.21\n",
       "Unfinished <br>Compulsory<br>Secondary <br>Education    10.04\n",
       "Completed <br>Compulsory<br>Secondary <br>Education      6.26\n",
       "Vocational <br>Training                                  5.48\n",
       "Primary <br>education                                    1.83\n",
       "Name: Educational level, dtype: float64"
      ]
     },
     "metadata": {},
     "output_type": "display_data"
    },
    {
     "data": {
      "application/vnd.plotly.v1+json": {
       "config": {
        "linkText": "Export to plot.ly",
        "plotlyServerURL": "https://plot.ly",
        "showLink": false
       },
       "data": [
        {
         "marker": {
          "color": [
           "rgb(213,62,79)",
           "rgb(252,141,89)",
           "rgb(254,224,139)",
           "rgb(230,245,152)",
           "rgb(153,213,148)",
           "rgb(50,136,189)"
          ]
         },
         "name": "Educational level",
         "text": [
          6.260000000000001,
          1.83,
          10.040000000000001,
          56.19,
          20.21,
          5.48
         ],
         "type": "bar",
         "uid": "1de2d5bd-6c5e-4708-8c7a-0d6e2310e1fe",
         "x": [
          "University <br>graduate",
          "University <br>without <br>graduating",
          "Completed <br>Compulsory<br>Secondary <br>Education",
          "Vocational <br>Training",
          "Unfinished <br>Compulsory<br>Secondary <br>Education",
          "Primary <br>education"
         ],
         "y": [
          431,
          155,
          77,
          48,
          42,
          14
         ]
        }
       ],
       "layout": {
        "bargap": 0.2,
        "xaxis": {
         "title": {
          "text": "Educational level"
         }
        },
        "yaxis": {
         "title": {
          "text": "Total"
         }
        }
       }
      },
      "text/html": [
       "<div id=\"ef663d3f-5a31-4f80-8e7a-d7f9fd02cf79\" style=\"height: 525px; width: 100%;\" class=\"plotly-graph-div\"></div><script type=\"text/javascript\">require([\"plotly\"], function(Plotly) { window.PLOTLYENV=window.PLOTLYENV || {};window.PLOTLYENV.BASE_URL=\"https://plot.ly\";\n",
       "if (document.getElementById(\"ef663d3f-5a31-4f80-8e7a-d7f9fd02cf79\")) {\n",
       "    Plotly.newPlot(\"ef663d3f-5a31-4f80-8e7a-d7f9fd02cf79\", [{\"marker\": {\"color\": [\"rgb(213,62,79)\", \"rgb(252,141,89)\", \"rgb(254,224,139)\", \"rgb(230,245,152)\", \"rgb(153,213,148)\", \"rgb(50,136,189)\"]}, \"name\": \"Educational level\", \"text\": [6.260000000000001, 1.83, 10.040000000000001, 56.19, 20.21, 5.48], \"x\": [\"University <br>graduate\", \"University <br>without <br>graduating\", \"Completed <br>Compulsory<br>Secondary <br>Education\", \"Vocational <br>Training\", \"Unfinished <br>Compulsory<br>Secondary <br>Education\", \"Primary <br>education\"], \"y\": [431, 155, 77, 48, 42, 14], \"type\": \"bar\", \"uid\": \"1de2d5bd-6c5e-4708-8c7a-0d6e2310e1fe\"}], {\"bargap\": 0.2, \"xaxis\": {\"title\": {\"text\": \"Educational level\"}}, \"yaxis\": {\"title\": {\"text\": \"Total\"}}}, {\"showLink\": false, \"linkText\": \"Export to plot.ly\", \"plotlyServerURL\": \"https://plot.ly\"}); \n",
       "}\n",
       "});</script><script type=\"text/javascript\">window.addEventListener(\"resize\", function(){if (document.getElementById(\"ef663d3f-5a31-4f80-8e7a-d7f9fd02cf79\")) {window._Plotly.Plots.resize(document.getElementById(\"ef663d3f-5a31-4f80-8e7a-d7f9fd02cf79\"));};})</script>"
      ],
      "text/vnd.plotly.v1+html": [
       "<div id=\"ef663d3f-5a31-4f80-8e7a-d7f9fd02cf79\" style=\"height: 525px; width: 100%;\" class=\"plotly-graph-div\"></div><script type=\"text/javascript\">require([\"plotly\"], function(Plotly) { window.PLOTLYENV=window.PLOTLYENV || {};window.PLOTLYENV.BASE_URL=\"https://plot.ly\";\n",
       "if (document.getElementById(\"ef663d3f-5a31-4f80-8e7a-d7f9fd02cf79\")) {\n",
       "    Plotly.newPlot(\"ef663d3f-5a31-4f80-8e7a-d7f9fd02cf79\", [{\"marker\": {\"color\": [\"rgb(213,62,79)\", \"rgb(252,141,89)\", \"rgb(254,224,139)\", \"rgb(230,245,152)\", \"rgb(153,213,148)\", \"rgb(50,136,189)\"]}, \"name\": \"Educational level\", \"text\": [6.260000000000001, 1.83, 10.040000000000001, 56.19, 20.21, 5.48], \"x\": [\"University <br>graduate\", \"University <br>without <br>graduating\", \"Completed <br>Compulsory<br>Secondary <br>Education\", \"Vocational <br>Training\", \"Unfinished <br>Compulsory<br>Secondary <br>Education\", \"Primary <br>education\"], \"y\": [431, 155, 77, 48, 42, 14], \"type\": \"bar\", \"uid\": \"1de2d5bd-6c5e-4708-8c7a-0d6e2310e1fe\"}], {\"bargap\": 0.2, \"xaxis\": {\"title\": {\"text\": \"Educational level\"}}, \"yaxis\": {\"title\": {\"text\": \"Total\"}}}, {\"showLink\": false, \"linkText\": \"Export to plot.ly\", \"plotlyServerURL\": \"https://plot.ly\"}); \n",
       "}\n",
       "});</script><script type=\"text/javascript\">window.addEventListener(\"resize\", function(){if (document.getElementById(\"ef663d3f-5a31-4f80-8e7a-d7f9fd02cf79\")) {window._Plotly.Plots.resize(document.getElementById(\"ef663d3f-5a31-4f80-8e7a-d7f9fd02cf79\"));};})</script>"
      ]
     },
     "metadata": {},
     "output_type": "display_data"
    }
   ],
   "source": [
    "labels_edulevel = ['Primary <br>education', 'Unfinished <br>Compulsory<br>Secondary <br>Education', 'Completed <br>Compulsory<br>Secondary <br>Education',\n",
    "                   'Vocational <br>Training', 'University <br>without <br>graduating', 'University <br>graduate']\n",
    "tickvals_edulevel = [0, 1, 2, 3, 4, 5]\n",
    "\n",
    "data_complete_en['Educational level'].replace(\n",
    "    tickvals_edulevel, labels_edulevel, inplace=True)\n",
    "\n",
    "print('Describing the variable Educational level')\n",
    "display(data_complete_en['Educational level'].describe())\n",
    "print('Count of each value in Age expresed as educational level / amount')\n",
    "display(data_complete_en['Educational level'].value_counts())\n",
    "print('Percentage of each value in Age expresed as educational level / percentage')\n",
    "display(data_complete_en['Educational level'].value_counts(\n",
    "    normalize=True).round(4) * 100)\n",
    "\n",
    "\n",
    "data4 = [go.Bar(x=data_complete_en['Educational level'].unique(),\n",
    "                y=data_complete_en['Educational level'].value_counts(),\n",
    "                text=(data_complete_en['Educational level'].value_counts(\n",
    "                    normalize=True).sort_index().round(4) * 100),\n",
    "                marker=dict(color=cl.scales['6']['div']['Spectral']),\n",
    "                name='Educational level')]\n",
    "layout4 = go.Layout(\n",
    "    xaxis=go.layout.XAxis(\n",
    "        title='Educational level',\n",
    "    ),\n",
    "    yaxis=go.layout.YAxis(\n",
    "        title=\"Total\"),\n",
    "    bargap=0.2,\n",
    ")\n",
    "fig4 = go.Figure(data=data4, layout=layout4)\n",
    "iplot(fig4)\n",
    "plt.show()"
   ]
  },
  {
   "cell_type": "markdown",
   "metadata": {},
   "source": [
    "## Distribution of educational level by gender in the population"
   ]
  },
  {
   "cell_type": "code",
   "execution_count": 10,
   "metadata": {},
   "outputs": [
    {
     "data": {
      "application/vnd.plotly.v1+json": {
       "config": {
        "linkText": "Export to plot.ly",
        "plotlyServerURL": "https://plot.ly",
        "showLink": false
       },
       "data": [
        {
         "hoverinfo": "x",
         "marker": {
          "color": "rgb(254,224,139)"
         },
         "name": "Men",
         "orientation": "h",
         "type": "bar",
         "uid": "2b15f0f9-0f3a-4454-b73c-7b4bfbed4719",
         "x": [
          210,
          69,
          41,
          18,
          17,
          3
         ],
         "y": [
          "University <br>graduate",
          "University <br>without <br>graduating",
          "Completed <br>Compulsory<br>Secondary <br>Education",
          "Vocational <br>Training",
          "Unfinished <br>Compulsory<br>Secondary <br>Education",
          "Primary <br>education"
         ]
        },
        {
         "hoverinfo": "text",
         "marker": {
          "color": "rgb(102,194,165)"
         },
         "name": "Women",
         "orientation": "h",
         "text": [
          220,
          82,
          35,
          31,
          24,
          11
         ],
         "type": "bar",
         "uid": "0c4e942d-09fb-4735-8a8c-22af7143c267",
         "x": [
          -220,
          -82,
          -35,
          -31,
          -24,
          -11
         ],
         "y": [
          "University <br>graduate",
          "University <br>without <br>graduating",
          "Completed <br>Compulsory<br>Secondary <br>Education",
          "Vocational <br>Training",
          "Unfinished <br>Compulsory<br>Secondary <br>Education",
          "Primary <br>education"
         ]
        }
       ],
       "layout": {
        "bargap": 0.3,
        "barmode": "overlay",
        "xaxis": {
         "range": [
          -250,
          250
         ],
         "ticktext": [
          200,
          100,
          50,
          0,
          50,
          100,
          200
         ],
         "tickvals": [
          -200,
          -100,
          50,
          0,
          50,
          100,
          200
         ],
         "title": {
          "text": "Total"
         }
        },
        "yaxis": {
         "title": {
          "text": "Educational level"
         }
        }
       }
      },
      "text/html": [
       "<div id=\"87d62f32-39ca-4d2c-8447-e5cc68c8fea6\" style=\"height: 525px; width: 100%;\" class=\"plotly-graph-div\"></div><script type=\"text/javascript\">require([\"plotly\"], function(Plotly) { window.PLOTLYENV=window.PLOTLYENV || {};window.PLOTLYENV.BASE_URL=\"https://plot.ly\";\n",
       "if (document.getElementById(\"87d62f32-39ca-4d2c-8447-e5cc68c8fea6\")) {\n",
       "    Plotly.newPlot(\"87d62f32-39ca-4d2c-8447-e5cc68c8fea6\", [{\"hoverinfo\": \"x\", \"marker\": {\"color\": \"rgb(254,224,139)\"}, \"name\": \"Men\", \"orientation\": \"h\", \"x\": [210, 69, 41, 18, 17, 3], \"y\": [\"University <br>graduate\", \"University <br>without <br>graduating\", \"Completed <br>Compulsory<br>Secondary <br>Education\", \"Vocational <br>Training\", \"Unfinished <br>Compulsory<br>Secondary <br>Education\", \"Primary <br>education\"], \"type\": \"bar\", \"uid\": \"2b15f0f9-0f3a-4454-b73c-7b4bfbed4719\"}, {\"hoverinfo\": \"text\", \"marker\": {\"color\": \"rgb(102,194,165)\"}, \"name\": \"Women\", \"orientation\": \"h\", \"text\": [220.0, 82.0, 35.0, 31.0, 24.0, 11.0], \"x\": [-220, -82, -35, -31, -24, -11], \"y\": [\"University <br>graduate\", \"University <br>without <br>graduating\", \"Completed <br>Compulsory<br>Secondary <br>Education\", \"Vocational <br>Training\", \"Unfinished <br>Compulsory<br>Secondary <br>Education\", \"Primary <br>education\"], \"type\": \"bar\", \"uid\": \"0c4e942d-09fb-4735-8a8c-22af7143c267\"}], {\"bargap\": 0.3, \"barmode\": \"overlay\", \"xaxis\": {\"range\": [-250, 250], \"ticktext\": [200, 100, 50, 0, 50, 100, 200], \"tickvals\": [-200, -100, 50, 0, 50, 100, 200], \"title\": {\"text\": \"Total\"}}, \"yaxis\": {\"title\": {\"text\": \"Educational level\"}}}, {\"showLink\": false, \"linkText\": \"Export to plot.ly\", \"plotlyServerURL\": \"https://plot.ly\"}); \n",
       "}\n",
       "});</script><script type=\"text/javascript\">window.addEventListener(\"resize\", function(){if (document.getElementById(\"87d62f32-39ca-4d2c-8447-e5cc68c8fea6\")) {window._Plotly.Plots.resize(document.getElementById(\"87d62f32-39ca-4d2c-8447-e5cc68c8fea6\"));};})</script>"
      ],
      "text/vnd.plotly.v1+html": [
       "<div id=\"87d62f32-39ca-4d2c-8447-e5cc68c8fea6\" style=\"height: 525px; width: 100%;\" class=\"plotly-graph-div\"></div><script type=\"text/javascript\">require([\"plotly\"], function(Plotly) { window.PLOTLYENV=window.PLOTLYENV || {};window.PLOTLYENV.BASE_URL=\"https://plot.ly\";\n",
       "if (document.getElementById(\"87d62f32-39ca-4d2c-8447-e5cc68c8fea6\")) {\n",
       "    Plotly.newPlot(\"87d62f32-39ca-4d2c-8447-e5cc68c8fea6\", [{\"hoverinfo\": \"x\", \"marker\": {\"color\": \"rgb(254,224,139)\"}, \"name\": \"Men\", \"orientation\": \"h\", \"x\": [210, 69, 41, 18, 17, 3], \"y\": [\"University <br>graduate\", \"University <br>without <br>graduating\", \"Completed <br>Compulsory<br>Secondary <br>Education\", \"Vocational <br>Training\", \"Unfinished <br>Compulsory<br>Secondary <br>Education\", \"Primary <br>education\"], \"type\": \"bar\", \"uid\": \"2b15f0f9-0f3a-4454-b73c-7b4bfbed4719\"}, {\"hoverinfo\": \"text\", \"marker\": {\"color\": \"rgb(102,194,165)\"}, \"name\": \"Women\", \"orientation\": \"h\", \"text\": [220.0, 82.0, 35.0, 31.0, 24.0, 11.0], \"x\": [-220, -82, -35, -31, -24, -11], \"y\": [\"University <br>graduate\", \"University <br>without <br>graduating\", \"Completed <br>Compulsory<br>Secondary <br>Education\", \"Vocational <br>Training\", \"Unfinished <br>Compulsory<br>Secondary <br>Education\", \"Primary <br>education\"], \"type\": \"bar\", \"uid\": \"0c4e942d-09fb-4735-8a8c-22af7143c267\"}], {\"bargap\": 0.3, \"barmode\": \"overlay\", \"xaxis\": {\"range\": [-250, 250], \"ticktext\": [200, 100, 50, 0, 50, 100, 200], \"tickvals\": [-200, -100, 50, 0, 50, 100, 200], \"title\": {\"text\": \"Total\"}}, \"yaxis\": {\"title\": {\"text\": \"Educational level\"}}}, {\"showLink\": false, \"linkText\": \"Export to plot.ly\", \"plotlyServerURL\": \"https://plot.ly\"}); \n",
       "}\n",
       "});</script><script type=\"text/javascript\">window.addEventListener(\"resize\", function(){if (document.getElementById(\"87d62f32-39ca-4d2c-8447-e5cc68c8fea6\")) {window._Plotly.Plots.resize(document.getElementById(\"87d62f32-39ca-4d2c-8447-e5cc68c8fea6\"));};})</script>"
      ]
     },
     "metadata": {},
     "output_type": "display_data"
    }
   ],
   "source": [
    "layout5 = go.Layout(yaxis=go.layout.YAxis(title='Educational level'),\n",
    "                    xaxis=go.layout.XAxis(\n",
    "    range=[-250, 250],\n",
    "    tickvals=[-200, -100, 50, 0, 50, 100, 200],\n",
    "    ticktext=[200, 100, 50, 0, 50, 100, 200],\n",
    "    title='Total'),\n",
    "    barmode='overlay',\n",
    "    bargap=0.3)\n",
    "\n",
    "data5 = [go.Bar(y=data_complete_en['Educational level'].unique(),\n",
    "                x=data_complete_en[data_complete_en['Gender']\n",
    "                                   == 0]['Educational level'].value_counts(),\n",
    "                orientation='h',\n",
    "                name='Men',\n",
    "                hoverinfo='x',\n",
    "                # marker=dict(color='powderblue')\n",
    "                marker=dict(color=colors_gender_list[1]),\n",
    "                ),\n",
    "         go.Bar(y=data_complete_en['Educational level'].unique(),\n",
    "                x=-data_complete_en[data_complete_en['Gender']\n",
    "                                    == 1]['Educational level'].value_counts(),\n",
    "                orientation='h',\n",
    "                name='Women',\n",
    "                text=data_complete_en[data_complete_en['Gender']\n",
    "                                      == 1]['Educational level'].value_counts(),\n",
    "                hoverinfo='text',\n",
    "                # marker=dict(color='seagreen')\n",
    "                marker=dict(color=colors_gender_list[0]),\n",
    "                )]\n",
    "\n",
    "fig5 = go.Figure(data=data5, layout=layout5)\n",
    "iplot(fig5)\n",
    "plt.show()"
   ]
  },
  {
   "cell_type": "markdown",
   "metadata": {},
   "source": [
    "# Distribution of educational level by gender and age "
   ]
  },
  {
   "cell_type": "code",
   "execution_count": 11,
   "metadata": {},
   "outputs": [
    {
     "data": {
      "application/vnd.plotly.v1+json": {
       "config": {
        "linkText": "Export to plot.ly",
        "plotlyServerURL": "https://plot.ly",
        "showLink": false
       },
       "data": [
        {
         "hovertemplate": "<b>%{hovertext}</b><br><br>Gender=Female<br>Educational level=%{x}<br>Age=%{y}<br>counts=%{marker.size}<extra></extra>",
         "hovertext": [
          "Unfinished <br>Compulsory<br>Secondary <br>Education",
          "Unfinished <br>Compulsory<br>Secondary <br>Education",
          "Unfinished <br>Compulsory<br>Secondary <br>Education",
          "Unfinished <br>Compulsory<br>Secondary <br>Education",
          "Unfinished <br>Compulsory<br>Secondary <br>Education",
          "University <br>without <br>graduating",
          "Completed <br>Compulsory<br>Secondary <br>Education",
          "University <br>without <br>graduating",
          "University <br>without <br>graduating",
          "Completed <br>Compulsory<br>Secondary <br>Education",
          "Vocational <br>Training",
          "University <br>without <br>graduating",
          "Unfinished <br>Compulsory<br>Secondary <br>Education",
          "University <br>without <br>graduating",
          "University <br>graduate",
          "Completed <br>Compulsory<br>Secondary <br>Education",
          "University <br>graduate",
          "University <br>without <br>graduating",
          "University <br>graduate",
          "University <br>without <br>graduating",
          "Vocational <br>Training",
          "Completed <br>Compulsory<br>Secondary <br>Education",
          "University <br>graduate",
          "Primary <br>education",
          "University <br>without <br>graduating",
          "Completed <br>Compulsory<br>Secondary <br>Education",
          "University <br>graduate",
          "University <br>without <br>graduating",
          "Completed <br>Compulsory<br>Secondary <br>Education",
          "Vocational <br>Training",
          "University <br>graduate",
          "University <br>without <br>graduating",
          "Vocational <br>Training",
          "Completed <br>Compulsory<br>Secondary <br>Education",
          "Primary <br>education",
          "University <br>graduate",
          "Completed <br>Compulsory<br>Secondary <br>Education",
          "Primary <br>education",
          "University <br>without <br>graduating",
          "University <br>graduate",
          "Completed <br>Compulsory<br>Secondary <br>Education",
          "University <br>without <br>graduating",
          "University <br>graduate",
          "University <br>without <br>graduating",
          "Completed <br>Compulsory<br>Secondary <br>Education",
          "Primary <br>education",
          "Vocational <br>Training",
          "University <br>graduate",
          "Completed <br>Compulsory<br>Secondary <br>Education",
          "University <br>graduate",
          "Vocational <br>Training",
          "University <br>without <br>graduating",
          "University <br>graduate",
          "University <br>without <br>graduating",
          "Vocational <br>Training",
          "University <br>graduate",
          "Vocational <br>Training",
          "Unfinished <br>Compulsory<br>Secondary <br>Education",
          "University <br>graduate",
          "Completed <br>Compulsory<br>Secondary <br>Education",
          "Primary <br>education",
          "University <br>without <br>graduating",
          "University <br>graduate",
          "Completed <br>Compulsory<br>Secondary <br>Education",
          "University <br>without <br>graduating",
          "University <br>graduate",
          "Completed <br>Compulsory<br>Secondary <br>Education",
          "Primary <br>education",
          "University <br>without <br>graduating",
          "University <br>graduate",
          "University <br>without <br>graduating",
          "Vocational <br>Training",
          "University <br>graduate",
          "University <br>without <br>graduating",
          "University <br>without <br>graduating",
          "Completed <br>Compulsory<br>Secondary <br>Education",
          "University <br>graduate",
          "University <br>graduate",
          "Completed <br>Compulsory<br>Secondary <br>Education",
          "University <br>graduate",
          "University <br>without <br>graduating",
          "Vocational <br>Training",
          "University <br>graduate",
          "Unfinished <br>Compulsory<br>Secondary <br>Education",
          "Completed <br>Compulsory<br>Secondary <br>Education",
          "Primary <br>education",
          "University <br>graduate",
          "Primary <br>education",
          "University <br>graduate",
          "University <br>without <br>graduating",
          "University <br>graduate",
          "Completed <br>Compulsory<br>Secondary <br>Education",
          "Vocational <br>Training",
          "University <br>graduate",
          "University <br>without <br>graduating",
          "University <br>graduate",
          "University <br>without <br>graduating",
          "University <br>graduate",
          "University <br>graduate",
          "University <br>without <br>graduating",
          "Vocational <br>Training",
          "University <br>graduate",
          "Completed <br>Compulsory<br>Secondary <br>Education",
          "University <br>without <br>graduating",
          "Completed <br>Compulsory<br>Secondary <br>Education",
          "University <br>graduate",
          "University <br>graduate",
          "Vocational <br>Training",
          "University <br>graduate",
          "Vocational <br>Training",
          "University <br>graduate",
          "Completed <br>Compulsory<br>Secondary <br>Education",
          "University <br>without <br>graduating",
          "University <br>graduate",
          "University <br>without <br>graduating",
          "University <br>graduate",
          "University <br>without <br>graduating",
          "University <br>graduate",
          "University <br>graduate",
          "University <br>without <br>graduating",
          "Completed <br>Compulsory<br>Secondary <br>Education",
          "University <br>graduate",
          "University <br>graduate",
          "Vocational <br>Training",
          "University <br>graduate",
          "Completed <br>Compulsory<br>Secondary <br>Education",
          "Primary <br>education",
          "Vocational <br>Training",
          "Completed <br>Compulsory<br>Secondary <br>Education",
          "University <br>without <br>graduating",
          "University <br>without <br>graduating",
          "University <br>graduate",
          "University <br>graduate",
          "University <br>graduate",
          "University <br>without <br>graduating"
         ],
         "legendgroup": "Gender=Female",
         "marker": {
          "color": "rgb(102,194,165)",
          "size": [
           4,
           9,
           10,
           5,
           3,
           5,
           1,
           7,
           4,
           1,
           1,
           12,
           1,
           5,
           2,
           1,
           6,
           2,
           22,
           2,
           2,
           1,
           7,
           2,
           2,
           1,
           9,
           4,
           1,
           1,
           9,
           6,
           2,
           1,
           1,
           8,
           2,
           2,
           1,
           8,
           2,
           1,
           12,
           2,
           1,
           1,
           1,
           10,
           3,
           8,
           2,
           1,
           10,
           2,
           1,
           9,
           2,
           1,
           16,
           1,
           1,
           1,
           3,
           1,
           1,
           8,
           1,
           1,
           1,
           7,
           2,
           2,
           2,
           2,
           2,
           1,
           1,
           4,
           1,
           2,
           2,
           1,
           4,
           2,
           1,
           1,
           4,
           1,
           5,
           1,
           8,
           3,
           1,
           2,
           1,
           3,
           1,
           2,
           3,
           1,
           1,
           2,
           1,
           1,
           1,
           1,
           3,
           2,
           3,
           3,
           2,
           1,
           1,
           3,
           2,
           2,
           1,
           1,
           1,
           1,
           1,
           1,
           1,
           1,
           3,
           2,
           1,
           1,
           1,
           1,
           2,
           1,
           1,
           1,
           2
          ],
          "sizemode": "area",
          "sizeref": 0.006111111111111111,
          "symbol": "circle"
         },
         "mode": "markers",
         "name": "Gender=Female",
         "showlegend": true,
         "type": "scatter",
         "uid": "b40414a5-a5aa-47dc-b2b7-9a981da9f3f1",
         "x": [
          "Unfinished <br>Compulsory<br>Secondary <br>Education",
          "Unfinished <br>Compulsory<br>Secondary <br>Education",
          "Unfinished <br>Compulsory<br>Secondary <br>Education",
          "Unfinished <br>Compulsory<br>Secondary <br>Education",
          "Unfinished <br>Compulsory<br>Secondary <br>Education",
          "University <br>without <br>graduating",
          "Completed <br>Compulsory<br>Secondary <br>Education",
          "University <br>without <br>graduating",
          "University <br>without <br>graduating",
          "Completed <br>Compulsory<br>Secondary <br>Education",
          "Vocational <br>Training",
          "University <br>without <br>graduating",
          "Unfinished <br>Compulsory<br>Secondary <br>Education",
          "University <br>without <br>graduating",
          "University <br>graduate",
          "Completed <br>Compulsory<br>Secondary <br>Education",
          "University <br>graduate",
          "University <br>without <br>graduating",
          "University <br>graduate",
          "University <br>without <br>graduating",
          "Vocational <br>Training",
          "Completed <br>Compulsory<br>Secondary <br>Education",
          "University <br>graduate",
          "Primary <br>education",
          "University <br>without <br>graduating",
          "Completed <br>Compulsory<br>Secondary <br>Education",
          "University <br>graduate",
          "University <br>without <br>graduating",
          "Completed <br>Compulsory<br>Secondary <br>Education",
          "Vocational <br>Training",
          "University <br>graduate",
          "University <br>without <br>graduating",
          "Vocational <br>Training",
          "Completed <br>Compulsory<br>Secondary <br>Education",
          "Primary <br>education",
          "University <br>graduate",
          "Completed <br>Compulsory<br>Secondary <br>Education",
          "Primary <br>education",
          "University <br>without <br>graduating",
          "University <br>graduate",
          "Completed <br>Compulsory<br>Secondary <br>Education",
          "University <br>without <br>graduating",
          "University <br>graduate",
          "University <br>without <br>graduating",
          "Completed <br>Compulsory<br>Secondary <br>Education",
          "Primary <br>education",
          "Vocational <br>Training",
          "University <br>graduate",
          "Completed <br>Compulsory<br>Secondary <br>Education",
          "University <br>graduate",
          "Vocational <br>Training",
          "University <br>without <br>graduating",
          "University <br>graduate",
          "University <br>without <br>graduating",
          "Vocational <br>Training",
          "University <br>graduate",
          "Vocational <br>Training",
          "Unfinished <br>Compulsory<br>Secondary <br>Education",
          "University <br>graduate",
          "Completed <br>Compulsory<br>Secondary <br>Education",
          "Primary <br>education",
          "University <br>without <br>graduating",
          "University <br>graduate",
          "Completed <br>Compulsory<br>Secondary <br>Education",
          "University <br>without <br>graduating",
          "University <br>graduate",
          "Completed <br>Compulsory<br>Secondary <br>Education",
          "Primary <br>education",
          "University <br>without <br>graduating",
          "University <br>graduate",
          "University <br>without <br>graduating",
          "Vocational <br>Training",
          "University <br>graduate",
          "University <br>without <br>graduating",
          "University <br>without <br>graduating",
          "Completed <br>Compulsory<br>Secondary <br>Education",
          "University <br>graduate",
          "University <br>graduate",
          "Completed <br>Compulsory<br>Secondary <br>Education",
          "University <br>graduate",
          "University <br>without <br>graduating",
          "Vocational <br>Training",
          "University <br>graduate",
          "Unfinished <br>Compulsory<br>Secondary <br>Education",
          "Completed <br>Compulsory<br>Secondary <br>Education",
          "Primary <br>education",
          "University <br>graduate",
          "Primary <br>education",
          "University <br>graduate",
          "University <br>without <br>graduating",
          "University <br>graduate",
          "Completed <br>Compulsory<br>Secondary <br>Education",
          "Vocational <br>Training",
          "University <br>graduate",
          "University <br>without <br>graduating",
          "University <br>graduate",
          "University <br>without <br>graduating",
          "University <br>graduate",
          "University <br>graduate",
          "University <br>without <br>graduating",
          "Vocational <br>Training",
          "University <br>graduate",
          "Completed <br>Compulsory<br>Secondary <br>Education",
          "University <br>without <br>graduating",
          "Completed <br>Compulsory<br>Secondary <br>Education",
          "University <br>graduate",
          "University <br>graduate",
          "Vocational <br>Training",
          "University <br>graduate",
          "Vocational <br>Training",
          "University <br>graduate",
          "Completed <br>Compulsory<br>Secondary <br>Education",
          "University <br>without <br>graduating",
          "University <br>graduate",
          "University <br>without <br>graduating",
          "University <br>graduate",
          "University <br>without <br>graduating",
          "University <br>graduate",
          "University <br>graduate",
          "University <br>without <br>graduating",
          "Completed <br>Compulsory<br>Secondary <br>Education",
          "University <br>graduate",
          "University <br>graduate",
          "Vocational <br>Training",
          "University <br>graduate",
          "Completed <br>Compulsory<br>Secondary <br>Education",
          "Primary <br>education",
          "Vocational <br>Training",
          "Completed <br>Compulsory<br>Secondary <br>Education",
          "University <br>without <br>graduating",
          "University <br>without <br>graduating",
          "University <br>graduate",
          "University <br>graduate",
          "University <br>graduate",
          "University <br>without <br>graduating"
         ],
         "xaxis": "x",
         "y": [
          13,
          14,
          15,
          16,
          17,
          18,
          18,
          19,
          20,
          20,
          20,
          21,
          21,
          22,
          22,
          22,
          23,
          23,
          24,
          24,
          24,
          24,
          25,
          25,
          25,
          25,
          26,
          26,
          26,
          26,
          27,
          27,
          27,
          27,
          27,
          28,
          28,
          28,
          28,
          29,
          29,
          29,
          30,
          30,
          30,
          30,
          30,
          31,
          31,
          32,
          32,
          32,
          33,
          33,
          33,
          34,
          34,
          34,
          35,
          35,
          35,
          35,
          36,
          36,
          36,
          37,
          37,
          37,
          37,
          38,
          38,
          38,
          39,
          39,
          40,
          40,
          40,
          41,
          41,
          42,
          42,
          42,
          43,
          43,
          43,
          43,
          44,
          44,
          45,
          45,
          46,
          46,
          46,
          47,
          47,
          48,
          48,
          49,
          50,
          50,
          50,
          51,
          51,
          51,
          52,
          52,
          53,
          53,
          54,
          55,
          55,
          55,
          55,
          56,
          56,
          57,
          57,
          58,
          59,
          59,
          60,
          60,
          61,
          61,
          62,
          62,
          64,
          64,
          65,
          66,
          67,
          69,
          73,
          78,
          81
         ],
         "yaxis": "y"
        },
        {
         "hovertemplate": "<b>%{hovertext}</b><br><br>Gender=Male<br>Educational level=%{x}<br>Age=%{y}<br>counts=%{marker.size}<extra></extra>",
         "hovertext": [
          "Unfinished <br>Compulsory<br>Secondary <br>Education",
          "Unfinished <br>Compulsory<br>Secondary <br>Education",
          "Unfinished <br>Compulsory<br>Secondary <br>Education",
          "Unfinished <br>Compulsory<br>Secondary <br>Education",
          "Unfinished <br>Compulsory<br>Secondary <br>Education",
          "Unfinished <br>Compulsory<br>Secondary <br>Education",
          "University <br>without <br>graduating",
          "University <br>without <br>graduating",
          "University <br>without <br>graduating",
          "University <br>without <br>graduating",
          "University <br>graduate",
          "Primary <br>education",
          "University <br>graduate",
          "University <br>without <br>graduating",
          "Completed <br>Compulsory<br>Secondary <br>Education",
          "University <br>without <br>graduating",
          "University <br>graduate",
          "Completed <br>Compulsory<br>Secondary <br>Education",
          "University <br>graduate",
          "University <br>without <br>graduating",
          "Completed <br>Compulsory<br>Secondary <br>Education",
          "University <br>without <br>graduating",
          "University <br>graduate",
          "University <br>graduate",
          "University <br>without <br>graduating",
          "Completed <br>Compulsory<br>Secondary <br>Education",
          "Unfinished <br>Compulsory<br>Secondary <br>Education",
          "University <br>graduate",
          "Completed <br>Compulsory<br>Secondary <br>Education",
          "University <br>without <br>graduating",
          "Unfinished <br>Compulsory<br>Secondary <br>Education",
          "Vocational <br>Training",
          "University <br>graduate",
          "University <br>without <br>graduating",
          "Completed <br>Compulsory<br>Secondary <br>Education",
          "Vocational <br>Training",
          "University <br>graduate",
          "University <br>without <br>graduating",
          "Unfinished <br>Compulsory<br>Secondary <br>Education",
          "University <br>graduate",
          "University <br>without <br>graduating",
          "Completed <br>Compulsory<br>Secondary <br>Education",
          "Vocational <br>Training",
          "University <br>graduate",
          "University <br>without <br>graduating",
          "Vocational <br>Training",
          "University <br>graduate",
          "University <br>without <br>graduating",
          "Vocational <br>Training",
          "University <br>graduate",
          "Primary <br>education",
          "University <br>graduate",
          "Completed <br>Compulsory<br>Secondary <br>Education",
          "University <br>without <br>graduating",
          "Vocational <br>Training",
          "University <br>graduate",
          "Vocational <br>Training",
          "University <br>graduate",
          "Completed <br>Compulsory<br>Secondary <br>Education",
          "Primary <br>education",
          "University <br>without <br>graduating",
          "University <br>graduate",
          "University <br>without <br>graduating",
          "University <br>graduate",
          "Vocational <br>Training",
          "Unfinished <br>Compulsory<br>Secondary <br>Education",
          "University <br>without <br>graduating",
          "University <br>graduate",
          "Completed <br>Compulsory<br>Secondary <br>Education",
          "University <br>without <br>graduating",
          "Vocational <br>Training",
          "University <br>graduate",
          "University <br>graduate",
          "University <br>graduate",
          "University <br>without <br>graduating",
          "Completed <br>Compulsory<br>Secondary <br>Education",
          "Vocational <br>Training",
          "University <br>graduate",
          "University <br>without <br>graduating",
          "University <br>graduate",
          "University <br>graduate",
          "Vocational <br>Training",
          "University <br>graduate",
          "Vocational <br>Training",
          "University <br>graduate",
          "Vocational <br>Training",
          "University <br>without <br>graduating",
          "University <br>without <br>graduating",
          "University <br>graduate",
          "Vocational <br>Training",
          "University <br>graduate",
          "University <br>graduate",
          "Vocational <br>Training",
          "University <br>graduate",
          "Completed <br>Compulsory<br>Secondary <br>Education",
          "University <br>without <br>graduating",
          "University <br>graduate",
          "University <br>graduate",
          "University <br>without <br>graduating",
          "University <br>graduate",
          "University <br>graduate",
          "University <br>without <br>graduating",
          "University <br>graduate",
          "University <br>graduate",
          "University <br>graduate",
          "University <br>without <br>graduating",
          "University <br>without <br>graduating",
          "Vocational <br>Training",
          "University <br>graduate",
          "University <br>graduate",
          "University <br>without <br>graduating",
          "University <br>graduate"
         ],
         "legendgroup": "Gender=Male",
         "marker": {
          "color": "rgb(254,224,139)",
          "size": [
           1,
           18,
           8,
           5,
           2,
           3,
           2,
           5,
           4,
           7,
           2,
           1,
           3,
           3,
           1,
           6,
           5,
           1,
           7,
           3,
           2,
           5,
           4,
           12,
           2,
           1,
           1,
           10,
           4,
           3,
           1,
           1,
           20,
           3,
           1,
           1,
           18,
           2,
           1,
           16,
           3,
           1,
           1,
           8,
           2,
           1,
           10,
           2,
           1,
           10,
           1,
           9,
           2,
           2,
           1,
           8,
           1,
           8,
           1,
           1,
           1,
           6,
           1,
           4,
           2,
           1,
           1,
           8,
           1,
           1,
           1,
           5,
           4,
           3,
           2,
           1,
           1,
           3,
           1,
           3,
           1,
           1,
           2,
           1,
           3,
           2,
           1,
           1,
           1,
           1,
           1,
           1,
           1,
           2,
           1,
           1,
           3,
           2,
           1,
           1,
           1,
           1,
           1,
           1,
           1,
           1,
           1,
           1,
           1,
           1,
           1,
           1
          ],
          "sizemode": "area",
          "sizeref": 0.006111111111111111,
          "symbol": "circle"
         },
         "mode": "markers",
         "name": "Gender=Male",
         "showlegend": true,
         "type": "scatter",
         "uid": "72c18b78-0977-4abe-a935-52b5bac6a865",
         "x": [
          "Unfinished <br>Compulsory<br>Secondary <br>Education",
          "Unfinished <br>Compulsory<br>Secondary <br>Education",
          "Unfinished <br>Compulsory<br>Secondary <br>Education",
          "Unfinished <br>Compulsory<br>Secondary <br>Education",
          "Unfinished <br>Compulsory<br>Secondary <br>Education",
          "Unfinished <br>Compulsory<br>Secondary <br>Education",
          "University <br>without <br>graduating",
          "University <br>without <br>graduating",
          "University <br>without <br>graduating",
          "University <br>without <br>graduating",
          "University <br>graduate",
          "Primary <br>education",
          "University <br>graduate",
          "University <br>without <br>graduating",
          "Completed <br>Compulsory<br>Secondary <br>Education",
          "University <br>without <br>graduating",
          "University <br>graduate",
          "Completed <br>Compulsory<br>Secondary <br>Education",
          "University <br>graduate",
          "University <br>without <br>graduating",
          "Completed <br>Compulsory<br>Secondary <br>Education",
          "University <br>without <br>graduating",
          "University <br>graduate",
          "University <br>graduate",
          "University <br>without <br>graduating",
          "Completed <br>Compulsory<br>Secondary <br>Education",
          "Unfinished <br>Compulsory<br>Secondary <br>Education",
          "University <br>graduate",
          "Completed <br>Compulsory<br>Secondary <br>Education",
          "University <br>without <br>graduating",
          "Unfinished <br>Compulsory<br>Secondary <br>Education",
          "Vocational <br>Training",
          "University <br>graduate",
          "University <br>without <br>graduating",
          "Completed <br>Compulsory<br>Secondary <br>Education",
          "Vocational <br>Training",
          "University <br>graduate",
          "University <br>without <br>graduating",
          "Unfinished <br>Compulsory<br>Secondary <br>Education",
          "University <br>graduate",
          "University <br>without <br>graduating",
          "Completed <br>Compulsory<br>Secondary <br>Education",
          "Vocational <br>Training",
          "University <br>graduate",
          "University <br>without <br>graduating",
          "Vocational <br>Training",
          "University <br>graduate",
          "University <br>without <br>graduating",
          "Vocational <br>Training",
          "University <br>graduate",
          "Primary <br>education",
          "University <br>graduate",
          "Completed <br>Compulsory<br>Secondary <br>Education",
          "University <br>without <br>graduating",
          "Vocational <br>Training",
          "University <br>graduate",
          "Vocational <br>Training",
          "University <br>graduate",
          "Completed <br>Compulsory<br>Secondary <br>Education",
          "Primary <br>education",
          "University <br>without <br>graduating",
          "University <br>graduate",
          "University <br>without <br>graduating",
          "University <br>graduate",
          "Vocational <br>Training",
          "Unfinished <br>Compulsory<br>Secondary <br>Education",
          "University <br>without <br>graduating",
          "University <br>graduate",
          "Completed <br>Compulsory<br>Secondary <br>Education",
          "University <br>without <br>graduating",
          "Vocational <br>Training",
          "University <br>graduate",
          "University <br>graduate",
          "University <br>graduate",
          "University <br>without <br>graduating",
          "Completed <br>Compulsory<br>Secondary <br>Education",
          "Vocational <br>Training",
          "University <br>graduate",
          "University <br>without <br>graduating",
          "University <br>graduate",
          "University <br>graduate",
          "Vocational <br>Training",
          "University <br>graduate",
          "Vocational <br>Training",
          "University <br>graduate",
          "Vocational <br>Training",
          "University <br>without <br>graduating",
          "University <br>without <br>graduating",
          "University <br>graduate",
          "Vocational <br>Training",
          "University <br>graduate",
          "University <br>graduate",
          "Vocational <br>Training",
          "University <br>graduate",
          "Completed <br>Compulsory<br>Secondary <br>Education",
          "University <br>without <br>graduating",
          "University <br>graduate",
          "University <br>graduate",
          "University <br>without <br>graduating",
          "University <br>graduate",
          "University <br>graduate",
          "University <br>without <br>graduating",
          "University <br>graduate",
          "University <br>graduate",
          "University <br>graduate",
          "University <br>without <br>graduating",
          "University <br>without <br>graduating",
          "Vocational <br>Training",
          "University <br>graduate",
          "University <br>graduate",
          "University <br>without <br>graduating",
          "University <br>graduate"
         ],
         "xaxis": "x",
         "y": [
          13,
          14,
          15,
          16,
          17,
          18,
          18,
          19,
          20,
          21,
          21,
          21,
          22,
          22,
          22,
          23,
          23,
          23,
          24,
          24,
          24,
          25,
          25,
          26,
          26,
          26,
          26,
          27,
          27,
          27,
          27,
          27,
          28,
          28,
          28,
          28,
          29,
          29,
          29,
          30,
          30,
          30,
          30,
          31,
          31,
          31,
          32,
          32,
          32,
          33,
          33,
          34,
          34,
          34,
          34,
          35,
          35,
          36,
          36,
          36,
          36,
          37,
          37,
          38,
          38,
          38,
          38,
          39,
          39,
          39,
          39,
          40,
          41,
          42,
          42,
          42,
          42,
          43,
          43,
          44,
          45,
          45,
          46,
          46,
          47,
          47,
          47,
          48,
          49,
          49,
          50,
          51,
          51,
          53,
          53,
          54,
          57,
          60,
          60,
          61,
          62,
          62,
          63,
          64,
          65,
          66,
          67,
          67,
          68,
          69,
          70,
          71
         ],
         "yaxis": "y"
        },
        {
         "hovertemplate": "<b>%{hovertext}</b><br><br>Gender=Other<br>Educational level=%{x}<br>Age=%{y}<br>counts=%{marker.size}<extra></extra>",
         "hovertext": [
          "Unfinished <br>Compulsory<br>Secondary <br>Education",
          "University <br>without <br>graduating",
          "University <br>without <br>graduating",
          "University <br>without <br>graduating",
          "University <br>graduate",
          "University <br>without <br>graduating"
         ],
         "legendgroup": "Gender=Other",
         "marker": {
          "color": "rgb(244,109,67)",
          "size": [
           1,
           1,
           1,
           1,
           1,
           1
          ],
          "sizemode": "area",
          "sizeref": 0.006111111111111111,
          "symbol": "circle"
         },
         "mode": "markers",
         "name": "Gender=Other",
         "showlegend": true,
         "type": "scatter",
         "uid": "6b157ab7-1c1a-4518-b97f-8fd0487e5779",
         "x": [
          "Unfinished <br>Compulsory<br>Secondary <br>Education",
          "University <br>without <br>graduating",
          "University <br>without <br>graduating",
          "University <br>without <br>graduating",
          "University <br>graduate",
          "University <br>without <br>graduating"
         ],
         "xaxis": "x",
         "y": [
          14,
          20,
          21,
          22,
          28,
          36
         ],
         "yaxis": "y"
        }
       ],
       "layout": {
        "grid": {
         "xaxes": [
          "x"
         ],
         "xgap": 0.1,
         "xside": "bottom",
         "yaxes": [
          "y"
         ],
         "ygap": 0.1,
         "yside": "left"
        },
        "height": 600,
        "legend": {
         "tracegroupgap": 0
        },
        "margin": {
         "t": 60
        },
        "template": {
         "data": {
          "bar": [
           {
            "marker": {
             "line": {
              "color": "white",
              "width": 0.5
             }
            },
            "type": "bar"
           }
          ],
          "barpolar": [
           {
            "marker": {
             "line": {
              "color": "white",
              "width": 0.5
             }
            },
            "type": "barpolar"
           }
          ],
          "carpet": [
           {
            "aaxis": {
             "endlinecolor": "#2a3f5f",
             "gridcolor": "#C8D4E3",
             "linecolor": "#C8D4E3",
             "minorgridcolor": "#C8D4E3",
             "startlinecolor": "#2a3f5f"
            },
            "baxis": {
             "endlinecolor": "#2a3f5f",
             "gridcolor": "#C8D4E3",
             "linecolor": "#C8D4E3",
             "minorgridcolor": "#C8D4E3",
             "startlinecolor": "#2a3f5f"
            },
            "type": "carpet"
           }
          ],
          "choropleth": [
           {
            "colorbar": {
             "outlinewidth": 0,
             "ticks": ""
            },
            "type": "choropleth"
           }
          ],
          "contour": [
           {
            "autocolorscale": true,
            "colorbar": {
             "outlinewidth": 0,
             "ticks": ""
            },
            "type": "contour"
           }
          ],
          "contourcarpet": [
           {
            "colorbar": {
             "outlinewidth": 0,
             "ticks": ""
            },
            "type": "contourcarpet"
           }
          ],
          "heatmap": [
           {
            "autocolorscale": true,
            "colorbar": {
             "outlinewidth": 0,
             "ticks": ""
            },
            "type": "heatmap"
           }
          ],
          "heatmapgl": [
           {
            "colorbar": {
             "outlinewidth": 0,
             "ticks": ""
            },
            "type": "heatmapgl"
           }
          ],
          "histogram": [
           {
            "marker": {
             "colorbar": {
              "outlinewidth": 0,
              "ticks": ""
             }
            },
            "type": "histogram"
           }
          ],
          "histogram2d": [
           {
            "autocolorscale": true,
            "colorbar": {
             "outlinewidth": 0,
             "ticks": ""
            },
            "type": "histogram2d"
           }
          ],
          "histogram2dcontour": [
           {
            "autocolorscale": true,
            "colorbar": {
             "outlinewidth": 0,
             "ticks": ""
            },
            "type": "histogram2dcontour"
           }
          ],
          "mesh3d": [
           {
            "colorbar": {
             "outlinewidth": 0,
             "ticks": ""
            },
            "type": "mesh3d"
           }
          ],
          "parcoords": [
           {
            "line": {
             "colorbar": {
              "outlinewidth": 0,
              "ticks": ""
             }
            },
            "type": "parcoords"
           }
          ],
          "scatter": [
           {
            "marker": {
             "colorbar": {
              "outlinewidth": 0,
              "ticks": ""
             }
            },
            "type": "scatter"
           }
          ],
          "scatter3d": [
           {
            "marker": {
             "colorbar": {
              "outlinewidth": 0,
              "ticks": ""
             }
            },
            "type": "scatter3d"
           }
          ],
          "scattercarpet": [
           {
            "marker": {
             "colorbar": {
              "outlinewidth": 0,
              "ticks": ""
             }
            },
            "type": "scattercarpet"
           }
          ],
          "scattergeo": [
           {
            "marker": {
             "colorbar": {
              "outlinewidth": 0,
              "ticks": ""
             }
            },
            "type": "scattergeo"
           }
          ],
          "scattergl": [
           {
            "marker": {
             "colorbar": {
              "outlinewidth": 0,
              "ticks": ""
             }
            },
            "type": "scattergl"
           }
          ],
          "scattermapbox": [
           {
            "marker": {
             "colorbar": {
              "outlinewidth": 0,
              "ticks": ""
             }
            },
            "type": "scattermapbox"
           }
          ],
          "scatterpolar": [
           {
            "marker": {
             "colorbar": {
              "outlinewidth": 0,
              "ticks": ""
             }
            },
            "type": "scatterpolar"
           }
          ],
          "scatterpolargl": [
           {
            "marker": {
             "colorbar": {
              "outlinewidth": 0,
              "ticks": ""
             }
            },
            "type": "scatterpolargl"
           }
          ],
          "scatterternary": [
           {
            "marker": {
             "colorbar": {
              "outlinewidth": 0,
              "ticks": ""
             }
            },
            "type": "scatterternary"
           }
          ],
          "surface": [
           {
            "colorbar": {
             "outlinewidth": 0,
             "ticks": ""
            },
            "type": "surface"
           }
          ],
          "table": [
           {
            "cells": {
             "fill": {
              "color": "#EBF0F8"
             },
             "line": {
              "color": "white"
             }
            },
            "header": {
             "fill": {
              "color": "#C8D4E3"
             },
             "line": {
              "color": "white"
             }
            },
            "type": "table"
           }
          ]
         },
         "layout": {
          "annotationdefaults": {
           "arrowcolor": "#506784",
           "arrowhead": 0,
           "arrowwidth": 1
          },
          "colorscale": {
           "diverging": [
            [
             0,
             "#8e0152"
            ],
            [
             0.1,
             "#c51b7d"
            ],
            [
             0.2,
             "#de77ae"
            ],
            [
             0.3,
             "#f1b6da"
            ],
            [
             0.4,
             "#fde0ef"
            ],
            [
             0.5,
             "#f7f7f7"
            ],
            [
             0.6,
             "#e6f5d0"
            ],
            [
             0.7,
             "#b8e186"
            ],
            [
             0.8,
             "#7fbc41"
            ],
            [
             0.9,
             "#4d9221"
            ],
            [
             1,
             "#276419"
            ]
           ],
           "sequential": [
            [
             0,
             "#0508b8"
            ],
            [
             0.0893854748603352,
             "#1910d8"
            ],
            [
             0.1787709497206704,
             "#3c19f0"
            ],
            [
             0.2681564245810056,
             "#6b1cfb"
            ],
            [
             0.3575418994413408,
             "#981cfd"
            ],
            [
             0.44692737430167595,
             "#bf1cfd"
            ],
            [
             0.5363128491620112,
             "#dd2bfd"
            ],
            [
             0.6256983240223464,
             "#f246fe"
            ],
            [
             0.7150837988826816,
             "#fc67fd"
            ],
            [
             0.8044692737430168,
             "#fe88fc"
            ],
            [
             0.8938547486033519,
             "#fea5fd"
            ],
            [
             0.9832402234636871,
             "#febefe"
            ],
            [
             1,
             "#fec3fe"
            ]
           ],
           "sequentialminus": [
            [
             0,
             "#0508b8"
            ],
            [
             0.0893854748603352,
             "#1910d8"
            ],
            [
             0.1787709497206704,
             "#3c19f0"
            ],
            [
             0.2681564245810056,
             "#6b1cfb"
            ],
            [
             0.3575418994413408,
             "#981cfd"
            ],
            [
             0.44692737430167595,
             "#bf1cfd"
            ],
            [
             0.5363128491620112,
             "#dd2bfd"
            ],
            [
             0.6256983240223464,
             "#f246fe"
            ],
            [
             0.7150837988826816,
             "#fc67fd"
            ],
            [
             0.8044692737430168,
             "#fe88fc"
            ],
            [
             0.8938547486033519,
             "#fea5fd"
            ],
            [
             0.9832402234636871,
             "#febefe"
            ],
            [
             1,
             "#fec3fe"
            ]
           ]
          },
          "colorway": [
           "#636efa",
           "#EF553B",
           "#00cc96",
           "#ab63fa",
           "#19d3f3",
           "#e763fa",
           "#FECB52",
           "#FFA15A",
           "#FF6692",
           "#B6E880"
          ],
          "font": {
           "color": "#2a3f5f"
          },
          "geo": {
           "bgcolor": "white",
           "lakecolor": "white",
           "landcolor": "white",
           "showlakes": true,
           "showland": true,
           "subunitcolor": "#C8D4E3"
          },
          "hovermode": "closest",
          "mapbox": {
           "style": "light"
          },
          "paper_bgcolor": "white",
          "plot_bgcolor": "white",
          "polar": {
           "angularaxis": {
            "gridcolor": "#EBF0F8",
            "linecolor": "#EBF0F8",
            "ticks": ""
           },
           "bgcolor": "white",
           "radialaxis": {
            "gridcolor": "#EBF0F8",
            "linecolor": "#EBF0F8",
            "ticks": ""
           }
          },
          "scene": {
           "xaxis": {
            "backgroundcolor": "white",
            "gridcolor": "#DFE8F3",
            "gridwidth": 2,
            "linecolor": "#EBF0F8",
            "showbackground": true,
            "ticks": "",
            "zerolinecolor": "#EBF0F8"
           },
           "yaxis": {
            "backgroundcolor": "white",
            "gridcolor": "#DFE8F3",
            "gridwidth": 2,
            "linecolor": "#EBF0F8",
            "showbackground": true,
            "ticks": "",
            "zerolinecolor": "#EBF0F8"
           },
           "zaxis": {
            "backgroundcolor": "white",
            "gridcolor": "#DFE8F3",
            "gridwidth": 2,
            "linecolor": "#EBF0F8",
            "showbackground": true,
            "ticks": "",
            "zerolinecolor": "#EBF0F8"
           }
          },
          "shapedefaults": {
           "fillcolor": "#506784",
           "line": {
            "width": 0
           },
           "opacity": 0.4
          },
          "ternary": {
           "aaxis": {
            "gridcolor": "#DFE8F3",
            "linecolor": "#A2B1C6",
            "ticks": ""
           },
           "baxis": {
            "gridcolor": "#DFE8F3",
            "linecolor": "#A2B1C6",
            "ticks": ""
           },
           "bgcolor": "white",
           "caxis": {
            "gridcolor": "#DFE8F3",
            "linecolor": "#A2B1C6",
            "ticks": ""
           }
          },
          "title": {
           "x": 0.05
          },
          "xaxis": {
           "automargin": true,
           "gridcolor": "#EBF0F8",
           "linecolor": "#EBF0F8",
           "ticks": "",
           "zerolinecolor": "#EBF0F8",
           "zerolinewidth": 2
          },
          "yaxis": {
           "automargin": true,
           "gridcolor": "#EBF0F8",
           "linecolor": "#EBF0F8",
           "ticks": "",
           "zerolinecolor": "#EBF0F8",
           "zerolinewidth": 2
          }
         }
        },
        "xaxis": {
         "title": {
          "text": "Educational level"
         }
        },
        "yaxis": {
         "title": {
          "text": "Age"
         }
        }
       }
      },
      "text/html": [
       "<div id=\"db499d72-37ce-46f2-817c-9f80ce1d09cc\" style=\"height: 600px; width: 100%;\" class=\"plotly-graph-div\"></div><script type=\"text/javascript\">require([\"plotly\"], function(Plotly) { window.PLOTLYENV=window.PLOTLYENV || {};window.PLOTLYENV.BASE_URL=\"https://plot.ly\";\n",
       "if (document.getElementById(\"db499d72-37ce-46f2-817c-9f80ce1d09cc\")) {\n",
       "    Plotly.newPlot(\"db499d72-37ce-46f2-817c-9f80ce1d09cc\", [{\"hovertemplate\": \"<b>%{hovertext}</b><br><br>Gender=Female<br>Educational level=%{x}<br>Age=%{y}<br>counts=%{marker.size}<extra></extra>\", \"hovertext\": [\"Unfinished <br>Compulsory<br>Secondary <br>Education\", \"Unfinished <br>Compulsory<br>Secondary <br>Education\", \"Unfinished <br>Compulsory<br>Secondary <br>Education\", \"Unfinished <br>Compulsory<br>Secondary <br>Education\", \"Unfinished <br>Compulsory<br>Secondary <br>Education\", \"University <br>without <br>graduating\", \"Completed <br>Compulsory<br>Secondary <br>Education\", \"University <br>without <br>graduating\", \"University <br>without <br>graduating\", \"Completed <br>Compulsory<br>Secondary <br>Education\", \"Vocational <br>Training\", \"University <br>without <br>graduating\", \"Unfinished <br>Compulsory<br>Secondary <br>Education\", \"University <br>without <br>graduating\", \"University <br>graduate\", \"Completed <br>Compulsory<br>Secondary <br>Education\", \"University <br>graduate\", \"University <br>without <br>graduating\", \"University <br>graduate\", \"University <br>without <br>graduating\", \"Vocational <br>Training\", \"Completed <br>Compulsory<br>Secondary <br>Education\", \"University <br>graduate\", \"Primary <br>education\", \"University <br>without <br>graduating\", \"Completed <br>Compulsory<br>Secondary <br>Education\", \"University <br>graduate\", \"University <br>without <br>graduating\", \"Completed <br>Compulsory<br>Secondary <br>Education\", \"Vocational <br>Training\", \"University <br>graduate\", \"University <br>without <br>graduating\", \"Vocational <br>Training\", \"Completed <br>Compulsory<br>Secondary <br>Education\", \"Primary <br>education\", \"University <br>graduate\", \"Completed <br>Compulsory<br>Secondary <br>Education\", \"Primary <br>education\", \"University <br>without <br>graduating\", \"University <br>graduate\", \"Completed <br>Compulsory<br>Secondary <br>Education\", \"University <br>without <br>graduating\", \"University <br>graduate\", \"University <br>without <br>graduating\", \"Completed <br>Compulsory<br>Secondary <br>Education\", \"Primary <br>education\", \"Vocational <br>Training\", \"University <br>graduate\", \"Completed <br>Compulsory<br>Secondary <br>Education\", \"University <br>graduate\", \"Vocational <br>Training\", \"University <br>without <br>graduating\", \"University <br>graduate\", \"University <br>without <br>graduating\", \"Vocational <br>Training\", \"University <br>graduate\", \"Vocational <br>Training\", \"Unfinished <br>Compulsory<br>Secondary <br>Education\", \"University <br>graduate\", \"Completed <br>Compulsory<br>Secondary <br>Education\", \"Primary <br>education\", \"University <br>without <br>graduating\", \"University <br>graduate\", \"Completed <br>Compulsory<br>Secondary <br>Education\", \"University <br>without <br>graduating\", \"University <br>graduate\", \"Completed <br>Compulsory<br>Secondary <br>Education\", \"Primary <br>education\", \"University <br>without <br>graduating\", \"University <br>graduate\", \"University <br>without <br>graduating\", \"Vocational <br>Training\", \"University <br>graduate\", \"University <br>without <br>graduating\", \"University <br>without <br>graduating\", \"Completed <br>Compulsory<br>Secondary <br>Education\", \"University <br>graduate\", \"University <br>graduate\", \"Completed <br>Compulsory<br>Secondary <br>Education\", \"University <br>graduate\", \"University <br>without <br>graduating\", \"Vocational <br>Training\", \"University <br>graduate\", \"Unfinished <br>Compulsory<br>Secondary <br>Education\", \"Completed <br>Compulsory<br>Secondary <br>Education\", \"Primary <br>education\", \"University <br>graduate\", \"Primary <br>education\", \"University <br>graduate\", \"University <br>without <br>graduating\", \"University <br>graduate\", \"Completed <br>Compulsory<br>Secondary <br>Education\", \"Vocational <br>Training\", \"University <br>graduate\", \"University <br>without <br>graduating\", \"University <br>graduate\", \"University <br>without <br>graduating\", \"University <br>graduate\", \"University <br>graduate\", \"University <br>without <br>graduating\", \"Vocational <br>Training\", \"University <br>graduate\", \"Completed <br>Compulsory<br>Secondary <br>Education\", \"University <br>without <br>graduating\", \"Completed <br>Compulsory<br>Secondary <br>Education\", \"University <br>graduate\", \"University <br>graduate\", \"Vocational <br>Training\", \"University <br>graduate\", \"Vocational <br>Training\", \"University <br>graduate\", \"Completed <br>Compulsory<br>Secondary <br>Education\", \"University <br>without <br>graduating\", \"University <br>graduate\", \"University <br>without <br>graduating\", \"University <br>graduate\", \"University <br>without <br>graduating\", \"University <br>graduate\", \"University <br>graduate\", \"University <br>without <br>graduating\", \"Completed <br>Compulsory<br>Secondary <br>Education\", \"University <br>graduate\", \"University <br>graduate\", \"Vocational <br>Training\", \"University <br>graduate\", \"Completed <br>Compulsory<br>Secondary <br>Education\", \"Primary <br>education\", \"Vocational <br>Training\", \"Completed <br>Compulsory<br>Secondary <br>Education\", \"University <br>without <br>graduating\", \"University <br>without <br>graduating\", \"University <br>graduate\", \"University <br>graduate\", \"University <br>graduate\", \"University <br>without <br>graduating\"], \"legendgroup\": \"Gender=Female\", \"marker\": {\"color\": \"rgb(102,194,165)\", \"size\": [4, 9, 10, 5, 3, 5, 1, 7, 4, 1, 1, 12, 1, 5, 2, 1, 6, 2, 22, 2, 2, 1, 7, 2, 2, 1, 9, 4, 1, 1, 9, 6, 2, 1, 1, 8, 2, 2, 1, 8, 2, 1, 12, 2, 1, 1, 1, 10, 3, 8, 2, 1, 10, 2, 1, 9, 2, 1, 16, 1, 1, 1, 3, 1, 1, 8, 1, 1, 1, 7, 2, 2, 2, 2, 2, 1, 1, 4, 1, 2, 2, 1, 4, 2, 1, 1, 4, 1, 5, 1, 8, 3, 1, 2, 1, 3, 1, 2, 3, 1, 1, 2, 1, 1, 1, 1, 3, 2, 3, 3, 2, 1, 1, 3, 2, 2, 1, 1, 1, 1, 1, 1, 1, 1, 3, 2, 1, 1, 1, 1, 2, 1, 1, 1, 2], \"sizemode\": \"area\", \"sizeref\": 0.006111111111111111, \"symbol\": \"circle\"}, \"mode\": \"markers\", \"name\": \"Gender=Female\", \"showlegend\": true, \"x\": [\"Unfinished <br>Compulsory<br>Secondary <br>Education\", \"Unfinished <br>Compulsory<br>Secondary <br>Education\", \"Unfinished <br>Compulsory<br>Secondary <br>Education\", \"Unfinished <br>Compulsory<br>Secondary <br>Education\", \"Unfinished <br>Compulsory<br>Secondary <br>Education\", \"University <br>without <br>graduating\", \"Completed <br>Compulsory<br>Secondary <br>Education\", \"University <br>without <br>graduating\", \"University <br>without <br>graduating\", \"Completed <br>Compulsory<br>Secondary <br>Education\", \"Vocational <br>Training\", \"University <br>without <br>graduating\", \"Unfinished <br>Compulsory<br>Secondary <br>Education\", \"University <br>without <br>graduating\", \"University <br>graduate\", \"Completed <br>Compulsory<br>Secondary <br>Education\", \"University <br>graduate\", \"University <br>without <br>graduating\", \"University <br>graduate\", \"University <br>without <br>graduating\", \"Vocational <br>Training\", \"Completed <br>Compulsory<br>Secondary <br>Education\", \"University <br>graduate\", \"Primary <br>education\", \"University <br>without <br>graduating\", \"Completed <br>Compulsory<br>Secondary <br>Education\", \"University <br>graduate\", \"University <br>without <br>graduating\", \"Completed <br>Compulsory<br>Secondary <br>Education\", \"Vocational <br>Training\", \"University <br>graduate\", \"University <br>without <br>graduating\", \"Vocational <br>Training\", \"Completed <br>Compulsory<br>Secondary <br>Education\", \"Primary <br>education\", \"University <br>graduate\", \"Completed <br>Compulsory<br>Secondary <br>Education\", \"Primary <br>education\", \"University <br>without <br>graduating\", \"University <br>graduate\", \"Completed <br>Compulsory<br>Secondary <br>Education\", \"University <br>without <br>graduating\", \"University <br>graduate\", \"University <br>without <br>graduating\", \"Completed <br>Compulsory<br>Secondary <br>Education\", \"Primary <br>education\", \"Vocational <br>Training\", \"University <br>graduate\", \"Completed <br>Compulsory<br>Secondary <br>Education\", \"University <br>graduate\", \"Vocational <br>Training\", \"University <br>without <br>graduating\", \"University <br>graduate\", \"University <br>without <br>graduating\", \"Vocational <br>Training\", \"University <br>graduate\", \"Vocational <br>Training\", \"Unfinished <br>Compulsory<br>Secondary <br>Education\", \"University <br>graduate\", \"Completed <br>Compulsory<br>Secondary <br>Education\", \"Primary <br>education\", \"University <br>without <br>graduating\", \"University <br>graduate\", \"Completed <br>Compulsory<br>Secondary <br>Education\", \"University <br>without <br>graduating\", \"University <br>graduate\", \"Completed <br>Compulsory<br>Secondary <br>Education\", \"Primary <br>education\", \"University <br>without <br>graduating\", \"University <br>graduate\", \"University <br>without <br>graduating\", \"Vocational <br>Training\", \"University <br>graduate\", \"University <br>without <br>graduating\", \"University <br>without <br>graduating\", \"Completed <br>Compulsory<br>Secondary <br>Education\", \"University <br>graduate\", \"University <br>graduate\", \"Completed <br>Compulsory<br>Secondary <br>Education\", \"University <br>graduate\", \"University <br>without <br>graduating\", \"Vocational <br>Training\", \"University <br>graduate\", \"Unfinished <br>Compulsory<br>Secondary <br>Education\", \"Completed <br>Compulsory<br>Secondary <br>Education\", \"Primary <br>education\", \"University <br>graduate\", \"Primary <br>education\", \"University <br>graduate\", \"University <br>without <br>graduating\", \"University <br>graduate\", \"Completed <br>Compulsory<br>Secondary <br>Education\", \"Vocational <br>Training\", \"University <br>graduate\", \"University <br>without <br>graduating\", \"University <br>graduate\", \"University <br>without <br>graduating\", \"University <br>graduate\", \"University <br>graduate\", \"University <br>without <br>graduating\", \"Vocational <br>Training\", \"University <br>graduate\", \"Completed <br>Compulsory<br>Secondary <br>Education\", \"University <br>without <br>graduating\", \"Completed <br>Compulsory<br>Secondary <br>Education\", \"University <br>graduate\", \"University <br>graduate\", \"Vocational <br>Training\", \"University <br>graduate\", \"Vocational <br>Training\", \"University <br>graduate\", \"Completed <br>Compulsory<br>Secondary <br>Education\", \"University <br>without <br>graduating\", \"University <br>graduate\", \"University <br>without <br>graduating\", \"University <br>graduate\", \"University <br>without <br>graduating\", \"University <br>graduate\", \"University <br>graduate\", \"University <br>without <br>graduating\", \"Completed <br>Compulsory<br>Secondary <br>Education\", \"University <br>graduate\", \"University <br>graduate\", \"Vocational <br>Training\", \"University <br>graduate\", \"Completed <br>Compulsory<br>Secondary <br>Education\", \"Primary <br>education\", \"Vocational <br>Training\", \"Completed <br>Compulsory<br>Secondary <br>Education\", \"University <br>without <br>graduating\", \"University <br>without <br>graduating\", \"University <br>graduate\", \"University <br>graduate\", \"University <br>graduate\", \"University <br>without <br>graduating\"], \"xaxis\": \"x\", \"y\": [13, 14, 15, 16, 17, 18, 18, 19, 20, 20, 20, 21, 21, 22, 22, 22, 23, 23, 24, 24, 24, 24, 25, 25, 25, 25, 26, 26, 26, 26, 27, 27, 27, 27, 27, 28, 28, 28, 28, 29, 29, 29, 30, 30, 30, 30, 30, 31, 31, 32, 32, 32, 33, 33, 33, 34, 34, 34, 35, 35, 35, 35, 36, 36, 36, 37, 37, 37, 37, 38, 38, 38, 39, 39, 40, 40, 40, 41, 41, 42, 42, 42, 43, 43, 43, 43, 44, 44, 45, 45, 46, 46, 46, 47, 47, 48, 48, 49, 50, 50, 50, 51, 51, 51, 52, 52, 53, 53, 54, 55, 55, 55, 55, 56, 56, 57, 57, 58, 59, 59, 60, 60, 61, 61, 62, 62, 64, 64, 65, 66, 67, 69, 73, 78, 81], \"yaxis\": \"y\", \"type\": \"scatter\", \"uid\": \"b40414a5-a5aa-47dc-b2b7-9a981da9f3f1\"}, {\"hovertemplate\": \"<b>%{hovertext}</b><br><br>Gender=Male<br>Educational level=%{x}<br>Age=%{y}<br>counts=%{marker.size}<extra></extra>\", \"hovertext\": [\"Unfinished <br>Compulsory<br>Secondary <br>Education\", \"Unfinished <br>Compulsory<br>Secondary <br>Education\", \"Unfinished <br>Compulsory<br>Secondary <br>Education\", \"Unfinished <br>Compulsory<br>Secondary <br>Education\", \"Unfinished <br>Compulsory<br>Secondary <br>Education\", \"Unfinished <br>Compulsory<br>Secondary <br>Education\", \"University <br>without <br>graduating\", \"University <br>without <br>graduating\", \"University <br>without <br>graduating\", \"University <br>without <br>graduating\", \"University <br>graduate\", \"Primary <br>education\", \"University <br>graduate\", \"University <br>without <br>graduating\", \"Completed <br>Compulsory<br>Secondary <br>Education\", \"University <br>without <br>graduating\", \"University <br>graduate\", \"Completed <br>Compulsory<br>Secondary <br>Education\", \"University <br>graduate\", \"University <br>without <br>graduating\", \"Completed <br>Compulsory<br>Secondary <br>Education\", \"University <br>without <br>graduating\", \"University <br>graduate\", \"University <br>graduate\", \"University <br>without <br>graduating\", \"Completed <br>Compulsory<br>Secondary <br>Education\", \"Unfinished <br>Compulsory<br>Secondary <br>Education\", \"University <br>graduate\", \"Completed <br>Compulsory<br>Secondary <br>Education\", \"University <br>without <br>graduating\", \"Unfinished <br>Compulsory<br>Secondary <br>Education\", \"Vocational <br>Training\", \"University <br>graduate\", \"University <br>without <br>graduating\", \"Completed <br>Compulsory<br>Secondary <br>Education\", \"Vocational <br>Training\", \"University <br>graduate\", \"University <br>without <br>graduating\", \"Unfinished <br>Compulsory<br>Secondary <br>Education\", \"University <br>graduate\", \"University <br>without <br>graduating\", \"Completed <br>Compulsory<br>Secondary <br>Education\", \"Vocational <br>Training\", \"University <br>graduate\", \"University <br>without <br>graduating\", \"Vocational <br>Training\", \"University <br>graduate\", \"University <br>without <br>graduating\", \"Vocational <br>Training\", \"University <br>graduate\", \"Primary <br>education\", \"University <br>graduate\", \"Completed <br>Compulsory<br>Secondary <br>Education\", \"University <br>without <br>graduating\", \"Vocational <br>Training\", \"University <br>graduate\", \"Vocational <br>Training\", \"University <br>graduate\", \"Completed <br>Compulsory<br>Secondary <br>Education\", \"Primary <br>education\", \"University <br>without <br>graduating\", \"University <br>graduate\", \"University <br>without <br>graduating\", \"University <br>graduate\", \"Vocational <br>Training\", \"Unfinished <br>Compulsory<br>Secondary <br>Education\", \"University <br>without <br>graduating\", \"University <br>graduate\", \"Completed <br>Compulsory<br>Secondary <br>Education\", \"University <br>without <br>graduating\", \"Vocational <br>Training\", \"University <br>graduate\", \"University <br>graduate\", \"University <br>graduate\", \"University <br>without <br>graduating\", \"Completed <br>Compulsory<br>Secondary <br>Education\", \"Vocational <br>Training\", \"University <br>graduate\", \"University <br>without <br>graduating\", \"University <br>graduate\", \"University <br>graduate\", \"Vocational <br>Training\", \"University <br>graduate\", \"Vocational <br>Training\", \"University <br>graduate\", \"Vocational <br>Training\", \"University <br>without <br>graduating\", \"University <br>without <br>graduating\", \"University <br>graduate\", \"Vocational <br>Training\", \"University <br>graduate\", \"University <br>graduate\", \"Vocational <br>Training\", \"University <br>graduate\", \"Completed <br>Compulsory<br>Secondary <br>Education\", \"University <br>without <br>graduating\", \"University <br>graduate\", \"University <br>graduate\", \"University <br>without <br>graduating\", \"University <br>graduate\", \"University <br>graduate\", \"University <br>without <br>graduating\", \"University <br>graduate\", \"University <br>graduate\", \"University <br>graduate\", \"University <br>without <br>graduating\", \"University <br>without <br>graduating\", \"Vocational <br>Training\", \"University <br>graduate\", \"University <br>graduate\", \"University <br>without <br>graduating\", \"University <br>graduate\"], \"legendgroup\": \"Gender=Male\", \"marker\": {\"color\": \"rgb(254,224,139)\", \"size\": [1, 18, 8, 5, 2, 3, 2, 5, 4, 7, 2, 1, 3, 3, 1, 6, 5, 1, 7, 3, 2, 5, 4, 12, 2, 1, 1, 10, 4, 3, 1, 1, 20, 3, 1, 1, 18, 2, 1, 16, 3, 1, 1, 8, 2, 1, 10, 2, 1, 10, 1, 9, 2, 2, 1, 8, 1, 8, 1, 1, 1, 6, 1, 4, 2, 1, 1, 8, 1, 1, 1, 5, 4, 3, 2, 1, 1, 3, 1, 3, 1, 1, 2, 1, 3, 2, 1, 1, 1, 1, 1, 1, 1, 2, 1, 1, 3, 2, 1, 1, 1, 1, 1, 1, 1, 1, 1, 1, 1, 1, 1, 1], \"sizemode\": \"area\", \"sizeref\": 0.006111111111111111, \"symbol\": \"circle\"}, \"mode\": \"markers\", \"name\": \"Gender=Male\", \"showlegend\": true, \"x\": [\"Unfinished <br>Compulsory<br>Secondary <br>Education\", \"Unfinished <br>Compulsory<br>Secondary <br>Education\", \"Unfinished <br>Compulsory<br>Secondary <br>Education\", \"Unfinished <br>Compulsory<br>Secondary <br>Education\", \"Unfinished <br>Compulsory<br>Secondary <br>Education\", \"Unfinished <br>Compulsory<br>Secondary <br>Education\", \"University <br>without <br>graduating\", \"University <br>without <br>graduating\", \"University <br>without <br>graduating\", \"University <br>without <br>graduating\", \"University <br>graduate\", \"Primary <br>education\", \"University <br>graduate\", \"University <br>without <br>graduating\", \"Completed <br>Compulsory<br>Secondary <br>Education\", \"University <br>without <br>graduating\", \"University <br>graduate\", \"Completed <br>Compulsory<br>Secondary <br>Education\", \"University <br>graduate\", \"University <br>without <br>graduating\", \"Completed <br>Compulsory<br>Secondary <br>Education\", \"University <br>without <br>graduating\", \"University <br>graduate\", \"University <br>graduate\", \"University <br>without <br>graduating\", \"Completed <br>Compulsory<br>Secondary <br>Education\", \"Unfinished <br>Compulsory<br>Secondary <br>Education\", \"University <br>graduate\", \"Completed <br>Compulsory<br>Secondary <br>Education\", \"University <br>without <br>graduating\", \"Unfinished <br>Compulsory<br>Secondary <br>Education\", \"Vocational <br>Training\", \"University <br>graduate\", \"University <br>without <br>graduating\", \"Completed <br>Compulsory<br>Secondary <br>Education\", \"Vocational <br>Training\", \"University <br>graduate\", \"University <br>without <br>graduating\", \"Unfinished <br>Compulsory<br>Secondary <br>Education\", \"University <br>graduate\", \"University <br>without <br>graduating\", \"Completed <br>Compulsory<br>Secondary <br>Education\", \"Vocational <br>Training\", \"University <br>graduate\", \"University <br>without <br>graduating\", \"Vocational <br>Training\", \"University <br>graduate\", \"University <br>without <br>graduating\", \"Vocational <br>Training\", \"University <br>graduate\", \"Primary <br>education\", \"University <br>graduate\", \"Completed <br>Compulsory<br>Secondary <br>Education\", \"University <br>without <br>graduating\", \"Vocational <br>Training\", \"University <br>graduate\", \"Vocational <br>Training\", \"University <br>graduate\", \"Completed <br>Compulsory<br>Secondary <br>Education\", \"Primary <br>education\", \"University <br>without <br>graduating\", \"University <br>graduate\", \"University <br>without <br>graduating\", \"University <br>graduate\", \"Vocational <br>Training\", \"Unfinished <br>Compulsory<br>Secondary <br>Education\", \"University <br>without <br>graduating\", \"University <br>graduate\", \"Completed <br>Compulsory<br>Secondary <br>Education\", \"University <br>without <br>graduating\", \"Vocational <br>Training\", \"University <br>graduate\", \"University <br>graduate\", \"University <br>graduate\", \"University <br>without <br>graduating\", \"Completed <br>Compulsory<br>Secondary <br>Education\", \"Vocational <br>Training\", \"University <br>graduate\", \"University <br>without <br>graduating\", \"University <br>graduate\", \"University <br>graduate\", \"Vocational <br>Training\", \"University <br>graduate\", \"Vocational <br>Training\", \"University <br>graduate\", \"Vocational <br>Training\", \"University <br>without <br>graduating\", \"University <br>without <br>graduating\", \"University <br>graduate\", \"Vocational <br>Training\", \"University <br>graduate\", \"University <br>graduate\", \"Vocational <br>Training\", \"University <br>graduate\", \"Completed <br>Compulsory<br>Secondary <br>Education\", \"University <br>without <br>graduating\", \"University <br>graduate\", \"University <br>graduate\", \"University <br>without <br>graduating\", \"University <br>graduate\", \"University <br>graduate\", \"University <br>without <br>graduating\", \"University <br>graduate\", \"University <br>graduate\", \"University <br>graduate\", \"University <br>without <br>graduating\", \"University <br>without <br>graduating\", \"Vocational <br>Training\", \"University <br>graduate\", \"University <br>graduate\", \"University <br>without <br>graduating\", \"University <br>graduate\"], \"xaxis\": \"x\", \"y\": [13, 14, 15, 16, 17, 18, 18, 19, 20, 21, 21, 21, 22, 22, 22, 23, 23, 23, 24, 24, 24, 25, 25, 26, 26, 26, 26, 27, 27, 27, 27, 27, 28, 28, 28, 28, 29, 29, 29, 30, 30, 30, 30, 31, 31, 31, 32, 32, 32, 33, 33, 34, 34, 34, 34, 35, 35, 36, 36, 36, 36, 37, 37, 38, 38, 38, 38, 39, 39, 39, 39, 40, 41, 42, 42, 42, 42, 43, 43, 44, 45, 45, 46, 46, 47, 47, 47, 48, 49, 49, 50, 51, 51, 53, 53, 54, 57, 60, 60, 61, 62, 62, 63, 64, 65, 66, 67, 67, 68, 69, 70, 71], \"yaxis\": \"y\", \"type\": \"scatter\", \"uid\": \"72c18b78-0977-4abe-a935-52b5bac6a865\"}, {\"hovertemplate\": \"<b>%{hovertext}</b><br><br>Gender=Other<br>Educational level=%{x}<br>Age=%{y}<br>counts=%{marker.size}<extra></extra>\", \"hovertext\": [\"Unfinished <br>Compulsory<br>Secondary <br>Education\", \"University <br>without <br>graduating\", \"University <br>without <br>graduating\", \"University <br>without <br>graduating\", \"University <br>graduate\", \"University <br>without <br>graduating\"], \"legendgroup\": \"Gender=Other\", \"marker\": {\"color\": \"rgb(244,109,67)\", \"size\": [1, 1, 1, 1, 1, 1], \"sizemode\": \"area\", \"sizeref\": 0.006111111111111111, \"symbol\": \"circle\"}, \"mode\": \"markers\", \"name\": \"Gender=Other\", \"showlegend\": true, \"x\": [\"Unfinished <br>Compulsory<br>Secondary <br>Education\", \"University <br>without <br>graduating\", \"University <br>without <br>graduating\", \"University <br>without <br>graduating\", \"University <br>graduate\", \"University <br>without <br>graduating\"], \"xaxis\": \"x\", \"y\": [14, 20, 21, 22, 28, 36], \"yaxis\": \"y\", \"type\": \"scatter\", \"uid\": \"6b157ab7-1c1a-4518-b97f-8fd0487e5779\"}], {\"height\": 600, \"legend\": {\"tracegroupgap\": 0}, \"margin\": {\"t\": 60}, \"template\": {\"data\": {\"barpolar\": [{\"marker\": {\"line\": {\"color\": \"white\", \"width\": 0.5}}, \"type\": \"barpolar\"}], \"bar\": [{\"marker\": {\"line\": {\"color\": \"white\", \"width\": 0.5}}, \"type\": \"bar\"}], \"carpet\": [{\"aaxis\": {\"endlinecolor\": \"#2a3f5f\", \"gridcolor\": \"#C8D4E3\", \"linecolor\": \"#C8D4E3\", \"minorgridcolor\": \"#C8D4E3\", \"startlinecolor\": \"#2a3f5f\"}, \"baxis\": {\"endlinecolor\": \"#2a3f5f\", \"gridcolor\": \"#C8D4E3\", \"linecolor\": \"#C8D4E3\", \"minorgridcolor\": \"#C8D4E3\", \"startlinecolor\": \"#2a3f5f\"}, \"type\": \"carpet\"}], \"choropleth\": [{\"colorbar\": {\"outlinewidth\": 0, \"ticks\": \"\"}, \"type\": \"choropleth\"}], \"contourcarpet\": [{\"colorbar\": {\"outlinewidth\": 0, \"ticks\": \"\"}, \"type\": \"contourcarpet\"}], \"contour\": [{\"autocolorscale\": true, \"colorbar\": {\"outlinewidth\": 0, \"ticks\": \"\"}, \"type\": \"contour\"}], \"heatmapgl\": [{\"colorbar\": {\"outlinewidth\": 0, \"ticks\": \"\"}, \"type\": \"heatmapgl\"}], \"heatmap\": [{\"autocolorscale\": true, \"colorbar\": {\"outlinewidth\": 0, \"ticks\": \"\"}, \"type\": \"heatmap\"}], \"histogram2dcontour\": [{\"autocolorscale\": true, \"colorbar\": {\"outlinewidth\": 0, \"ticks\": \"\"}, \"type\": \"histogram2dcontour\"}], \"histogram2d\": [{\"autocolorscale\": true, \"colorbar\": {\"outlinewidth\": 0, \"ticks\": \"\"}, \"type\": \"histogram2d\"}], \"histogram\": [{\"marker\": {\"colorbar\": {\"outlinewidth\": 0, \"ticks\": \"\"}}, \"type\": \"histogram\"}], \"mesh3d\": [{\"colorbar\": {\"outlinewidth\": 0, \"ticks\": \"\"}, \"type\": \"mesh3d\"}], \"parcoords\": [{\"line\": {\"colorbar\": {\"outlinewidth\": 0, \"ticks\": \"\"}}, \"type\": \"parcoords\"}], \"scatter3d\": [{\"marker\": {\"colorbar\": {\"outlinewidth\": 0, \"ticks\": \"\"}}, \"type\": \"scatter3d\"}], \"scattercarpet\": [{\"marker\": {\"colorbar\": {\"outlinewidth\": 0, \"ticks\": \"\"}}, \"type\": \"scattercarpet\"}], \"scattergeo\": [{\"marker\": {\"colorbar\": {\"outlinewidth\": 0, \"ticks\": \"\"}}, \"type\": \"scattergeo\"}], \"scattergl\": [{\"marker\": {\"colorbar\": {\"outlinewidth\": 0, \"ticks\": \"\"}}, \"type\": \"scattergl\"}], \"scattermapbox\": [{\"marker\": {\"colorbar\": {\"outlinewidth\": 0, \"ticks\": \"\"}}, \"type\": \"scattermapbox\"}], \"scatterpolargl\": [{\"marker\": {\"colorbar\": {\"outlinewidth\": 0, \"ticks\": \"\"}}, \"type\": \"scatterpolargl\"}], \"scatterpolar\": [{\"marker\": {\"colorbar\": {\"outlinewidth\": 0, \"ticks\": \"\"}}, \"type\": \"scatterpolar\"}], \"scatter\": [{\"marker\": {\"colorbar\": {\"outlinewidth\": 0, \"ticks\": \"\"}}, \"type\": \"scatter\"}], \"scatterternary\": [{\"marker\": {\"colorbar\": {\"outlinewidth\": 0, \"ticks\": \"\"}}, \"type\": \"scatterternary\"}], \"surface\": [{\"colorbar\": {\"outlinewidth\": 0, \"ticks\": \"\"}, \"type\": \"surface\"}], \"table\": [{\"cells\": {\"fill\": {\"color\": \"#EBF0F8\"}, \"line\": {\"color\": \"white\"}}, \"header\": {\"fill\": {\"color\": \"#C8D4E3\"}, \"line\": {\"color\": \"white\"}}, \"type\": \"table\"}]}, \"layout\": {\"annotationdefaults\": {\"arrowcolor\": \"#506784\", \"arrowhead\": 0, \"arrowwidth\": 1}, \"colorscale\": {\"diverging\": [[0, \"#8e0152\"], [0.1, \"#c51b7d\"], [0.2, \"#de77ae\"], [0.3, \"#f1b6da\"], [0.4, \"#fde0ef\"], [0.5, \"#f7f7f7\"], [0.6, \"#e6f5d0\"], [0.7, \"#b8e186\"], [0.8, \"#7fbc41\"], [0.9, \"#4d9221\"], [1, \"#276419\"]], \"sequential\": [[0.0, \"#0508b8\"], [0.0893854748603352, \"#1910d8\"], [0.1787709497206704, \"#3c19f0\"], [0.2681564245810056, \"#6b1cfb\"], [0.3575418994413408, \"#981cfd\"], [0.44692737430167595, \"#bf1cfd\"], [0.5363128491620112, \"#dd2bfd\"], [0.6256983240223464, \"#f246fe\"], [0.7150837988826816, \"#fc67fd\"], [0.8044692737430168, \"#fe88fc\"], [0.8938547486033519, \"#fea5fd\"], [0.9832402234636871, \"#febefe\"], [1.0, \"#fec3fe\"]], \"sequentialminus\": [[0.0, \"#0508b8\"], [0.0893854748603352, \"#1910d8\"], [0.1787709497206704, \"#3c19f0\"], [0.2681564245810056, \"#6b1cfb\"], [0.3575418994413408, \"#981cfd\"], [0.44692737430167595, \"#bf1cfd\"], [0.5363128491620112, \"#dd2bfd\"], [0.6256983240223464, \"#f246fe\"], [0.7150837988826816, \"#fc67fd\"], [0.8044692737430168, \"#fe88fc\"], [0.8938547486033519, \"#fea5fd\"], [0.9832402234636871, \"#febefe\"], [1.0, \"#fec3fe\"]]}, \"colorway\": [\"#636efa\", \"#EF553B\", \"#00cc96\", \"#ab63fa\", \"#19d3f3\", \"#e763fa\", \"#FECB52\", \"#FFA15A\", \"#FF6692\", \"#B6E880\"], \"font\": {\"color\": \"#2a3f5f\"}, \"geo\": {\"bgcolor\": \"white\", \"lakecolor\": \"white\", \"landcolor\": \"white\", \"showlakes\": true, \"showland\": true, \"subunitcolor\": \"#C8D4E3\"}, \"hovermode\": \"closest\", \"mapbox\": {\"style\": \"light\"}, \"paper_bgcolor\": \"white\", \"plot_bgcolor\": \"white\", \"polar\": {\"angularaxis\": {\"gridcolor\": \"#EBF0F8\", \"linecolor\": \"#EBF0F8\", \"ticks\": \"\"}, \"bgcolor\": \"white\", \"radialaxis\": {\"gridcolor\": \"#EBF0F8\", \"linecolor\": \"#EBF0F8\", \"ticks\": \"\"}}, \"scene\": {\"xaxis\": {\"backgroundcolor\": \"white\", \"gridcolor\": \"#DFE8F3\", \"gridwidth\": 2, \"linecolor\": \"#EBF0F8\", \"showbackground\": true, \"ticks\": \"\", \"zerolinecolor\": \"#EBF0F8\"}, \"yaxis\": {\"backgroundcolor\": \"white\", \"gridcolor\": \"#DFE8F3\", \"gridwidth\": 2, \"linecolor\": \"#EBF0F8\", \"showbackground\": true, \"ticks\": \"\", \"zerolinecolor\": \"#EBF0F8\"}, \"zaxis\": {\"backgroundcolor\": \"white\", \"gridcolor\": \"#DFE8F3\", \"gridwidth\": 2, \"linecolor\": \"#EBF0F8\", \"showbackground\": true, \"ticks\": \"\", \"zerolinecolor\": \"#EBF0F8\"}}, \"shapedefaults\": {\"fillcolor\": \"#506784\", \"line\": {\"width\": 0}, \"opacity\": 0.4}, \"ternary\": {\"aaxis\": {\"gridcolor\": \"#DFE8F3\", \"linecolor\": \"#A2B1C6\", \"ticks\": \"\"}, \"baxis\": {\"gridcolor\": \"#DFE8F3\", \"linecolor\": \"#A2B1C6\", \"ticks\": \"\"}, \"bgcolor\": \"white\", \"caxis\": {\"gridcolor\": \"#DFE8F3\", \"linecolor\": \"#A2B1C6\", \"ticks\": \"\"}}, \"title\": {\"x\": 0.05}, \"xaxis\": {\"automargin\": true, \"gridcolor\": \"#EBF0F8\", \"linecolor\": \"#EBF0F8\", \"ticks\": \"\", \"zerolinecolor\": \"#EBF0F8\", \"zerolinewidth\": 2}, \"yaxis\": {\"automargin\": true, \"gridcolor\": \"#EBF0F8\", \"linecolor\": \"#EBF0F8\", \"ticks\": \"\", \"zerolinecolor\": \"#EBF0F8\", \"zerolinewidth\": 2}}}, \"grid\": {\"xaxes\": [\"x\"], \"yaxes\": [\"y\"], \"xgap\": 0.1, \"ygap\": 0.1, \"xside\": \"bottom\", \"yside\": \"left\"}, \"xaxis\": {\"title\": {\"text\": \"Educational level\"}}, \"yaxis\": {\"title\": {\"text\": \"Age\"}}}, {\"showLink\": false, \"linkText\": \"Export to plot.ly\", \"plotlyServerURL\": \"https://plot.ly\"}); \n",
       "}\n",
       "});</script><script type=\"text/javascript\">window.addEventListener(\"resize\", function(){if (document.getElementById(\"db499d72-37ce-46f2-817c-9f80ce1d09cc\")) {window._Plotly.Plots.resize(document.getElementById(\"db499d72-37ce-46f2-817c-9f80ce1d09cc\"));};})</script>"
      ],
      "text/vnd.plotly.v1+html": [
       "<div id=\"db499d72-37ce-46f2-817c-9f80ce1d09cc\" style=\"height: 600px; width: 100%;\" class=\"plotly-graph-div\"></div><script type=\"text/javascript\">require([\"plotly\"], function(Plotly) { window.PLOTLYENV=window.PLOTLYENV || {};window.PLOTLYENV.BASE_URL=\"https://plot.ly\";\n",
       "if (document.getElementById(\"db499d72-37ce-46f2-817c-9f80ce1d09cc\")) {\n",
       "    Plotly.newPlot(\"db499d72-37ce-46f2-817c-9f80ce1d09cc\", [{\"hovertemplate\": \"<b>%{hovertext}</b><br><br>Gender=Female<br>Educational level=%{x}<br>Age=%{y}<br>counts=%{marker.size}<extra></extra>\", \"hovertext\": [\"Unfinished <br>Compulsory<br>Secondary <br>Education\", \"Unfinished <br>Compulsory<br>Secondary <br>Education\", \"Unfinished <br>Compulsory<br>Secondary <br>Education\", \"Unfinished <br>Compulsory<br>Secondary <br>Education\", \"Unfinished <br>Compulsory<br>Secondary <br>Education\", \"University <br>without <br>graduating\", \"Completed <br>Compulsory<br>Secondary <br>Education\", \"University <br>without <br>graduating\", \"University <br>without <br>graduating\", \"Completed <br>Compulsory<br>Secondary <br>Education\", \"Vocational <br>Training\", \"University <br>without <br>graduating\", \"Unfinished <br>Compulsory<br>Secondary <br>Education\", \"University <br>without <br>graduating\", \"University <br>graduate\", \"Completed <br>Compulsory<br>Secondary <br>Education\", \"University <br>graduate\", \"University <br>without <br>graduating\", \"University <br>graduate\", \"University <br>without <br>graduating\", \"Vocational <br>Training\", \"Completed <br>Compulsory<br>Secondary <br>Education\", \"University <br>graduate\", \"Primary <br>education\", \"University <br>without <br>graduating\", \"Completed <br>Compulsory<br>Secondary <br>Education\", \"University <br>graduate\", \"University <br>without <br>graduating\", \"Completed <br>Compulsory<br>Secondary <br>Education\", \"Vocational <br>Training\", \"University <br>graduate\", \"University <br>without <br>graduating\", \"Vocational <br>Training\", \"Completed <br>Compulsory<br>Secondary <br>Education\", \"Primary <br>education\", \"University <br>graduate\", \"Completed <br>Compulsory<br>Secondary <br>Education\", \"Primary <br>education\", \"University <br>without <br>graduating\", \"University <br>graduate\", \"Completed <br>Compulsory<br>Secondary <br>Education\", \"University <br>without <br>graduating\", \"University <br>graduate\", \"University <br>without <br>graduating\", \"Completed <br>Compulsory<br>Secondary <br>Education\", \"Primary <br>education\", \"Vocational <br>Training\", \"University <br>graduate\", \"Completed <br>Compulsory<br>Secondary <br>Education\", \"University <br>graduate\", \"Vocational <br>Training\", \"University <br>without <br>graduating\", \"University <br>graduate\", \"University <br>without <br>graduating\", \"Vocational <br>Training\", \"University <br>graduate\", \"Vocational <br>Training\", \"Unfinished <br>Compulsory<br>Secondary <br>Education\", \"University <br>graduate\", \"Completed <br>Compulsory<br>Secondary <br>Education\", \"Primary <br>education\", \"University <br>without <br>graduating\", \"University <br>graduate\", \"Completed <br>Compulsory<br>Secondary <br>Education\", \"University <br>without <br>graduating\", \"University <br>graduate\", \"Completed <br>Compulsory<br>Secondary <br>Education\", \"Primary <br>education\", \"University <br>without <br>graduating\", \"University <br>graduate\", \"University <br>without <br>graduating\", \"Vocational <br>Training\", \"University <br>graduate\", \"University <br>without <br>graduating\", \"University <br>without <br>graduating\", \"Completed <br>Compulsory<br>Secondary <br>Education\", \"University <br>graduate\", \"University <br>graduate\", \"Completed <br>Compulsory<br>Secondary <br>Education\", \"University <br>graduate\", \"University <br>without <br>graduating\", \"Vocational <br>Training\", \"University <br>graduate\", \"Unfinished <br>Compulsory<br>Secondary <br>Education\", \"Completed <br>Compulsory<br>Secondary <br>Education\", \"Primary <br>education\", \"University <br>graduate\", \"Primary <br>education\", \"University <br>graduate\", \"University <br>without <br>graduating\", \"University <br>graduate\", \"Completed <br>Compulsory<br>Secondary <br>Education\", \"Vocational <br>Training\", \"University <br>graduate\", \"University <br>without <br>graduating\", \"University <br>graduate\", \"University <br>without <br>graduating\", \"University <br>graduate\", \"University <br>graduate\", \"University <br>without <br>graduating\", \"Vocational <br>Training\", \"University <br>graduate\", \"Completed <br>Compulsory<br>Secondary <br>Education\", \"University <br>without <br>graduating\", \"Completed <br>Compulsory<br>Secondary <br>Education\", \"University <br>graduate\", \"University <br>graduate\", \"Vocational <br>Training\", \"University <br>graduate\", \"Vocational <br>Training\", \"University <br>graduate\", \"Completed <br>Compulsory<br>Secondary <br>Education\", \"University <br>without <br>graduating\", \"University <br>graduate\", \"University <br>without <br>graduating\", \"University <br>graduate\", \"University <br>without <br>graduating\", \"University <br>graduate\", \"University <br>graduate\", \"University <br>without <br>graduating\", \"Completed <br>Compulsory<br>Secondary <br>Education\", \"University <br>graduate\", \"University <br>graduate\", \"Vocational <br>Training\", \"University <br>graduate\", \"Completed <br>Compulsory<br>Secondary <br>Education\", \"Primary <br>education\", \"Vocational <br>Training\", \"Completed <br>Compulsory<br>Secondary <br>Education\", \"University <br>without <br>graduating\", \"University <br>without <br>graduating\", \"University <br>graduate\", \"University <br>graduate\", \"University <br>graduate\", \"University <br>without <br>graduating\"], \"legendgroup\": \"Gender=Female\", \"marker\": {\"color\": \"rgb(102,194,165)\", \"size\": [4, 9, 10, 5, 3, 5, 1, 7, 4, 1, 1, 12, 1, 5, 2, 1, 6, 2, 22, 2, 2, 1, 7, 2, 2, 1, 9, 4, 1, 1, 9, 6, 2, 1, 1, 8, 2, 2, 1, 8, 2, 1, 12, 2, 1, 1, 1, 10, 3, 8, 2, 1, 10, 2, 1, 9, 2, 1, 16, 1, 1, 1, 3, 1, 1, 8, 1, 1, 1, 7, 2, 2, 2, 2, 2, 1, 1, 4, 1, 2, 2, 1, 4, 2, 1, 1, 4, 1, 5, 1, 8, 3, 1, 2, 1, 3, 1, 2, 3, 1, 1, 2, 1, 1, 1, 1, 3, 2, 3, 3, 2, 1, 1, 3, 2, 2, 1, 1, 1, 1, 1, 1, 1, 1, 3, 2, 1, 1, 1, 1, 2, 1, 1, 1, 2], \"sizemode\": \"area\", \"sizeref\": 0.006111111111111111, \"symbol\": \"circle\"}, \"mode\": \"markers\", \"name\": \"Gender=Female\", \"showlegend\": true, \"x\": [\"Unfinished <br>Compulsory<br>Secondary <br>Education\", \"Unfinished <br>Compulsory<br>Secondary <br>Education\", \"Unfinished <br>Compulsory<br>Secondary <br>Education\", \"Unfinished <br>Compulsory<br>Secondary <br>Education\", \"Unfinished <br>Compulsory<br>Secondary <br>Education\", \"University <br>without <br>graduating\", \"Completed <br>Compulsory<br>Secondary <br>Education\", \"University <br>without <br>graduating\", \"University <br>without <br>graduating\", \"Completed <br>Compulsory<br>Secondary <br>Education\", \"Vocational <br>Training\", \"University <br>without <br>graduating\", \"Unfinished <br>Compulsory<br>Secondary <br>Education\", \"University <br>without <br>graduating\", \"University <br>graduate\", \"Completed <br>Compulsory<br>Secondary <br>Education\", \"University <br>graduate\", \"University <br>without <br>graduating\", \"University <br>graduate\", \"University <br>without <br>graduating\", \"Vocational <br>Training\", \"Completed <br>Compulsory<br>Secondary <br>Education\", \"University <br>graduate\", \"Primary <br>education\", \"University <br>without <br>graduating\", \"Completed <br>Compulsory<br>Secondary <br>Education\", \"University <br>graduate\", \"University <br>without <br>graduating\", \"Completed <br>Compulsory<br>Secondary <br>Education\", \"Vocational <br>Training\", \"University <br>graduate\", \"University <br>without <br>graduating\", \"Vocational <br>Training\", \"Completed <br>Compulsory<br>Secondary <br>Education\", \"Primary <br>education\", \"University <br>graduate\", \"Completed <br>Compulsory<br>Secondary <br>Education\", \"Primary <br>education\", \"University <br>without <br>graduating\", \"University <br>graduate\", \"Completed <br>Compulsory<br>Secondary <br>Education\", \"University <br>without <br>graduating\", \"University <br>graduate\", \"University <br>without <br>graduating\", \"Completed <br>Compulsory<br>Secondary <br>Education\", \"Primary <br>education\", \"Vocational <br>Training\", \"University <br>graduate\", \"Completed <br>Compulsory<br>Secondary <br>Education\", \"University <br>graduate\", \"Vocational <br>Training\", \"University <br>without <br>graduating\", \"University <br>graduate\", \"University <br>without <br>graduating\", \"Vocational <br>Training\", \"University <br>graduate\", \"Vocational <br>Training\", \"Unfinished <br>Compulsory<br>Secondary <br>Education\", \"University <br>graduate\", \"Completed <br>Compulsory<br>Secondary <br>Education\", \"Primary <br>education\", \"University <br>without <br>graduating\", \"University <br>graduate\", \"Completed <br>Compulsory<br>Secondary <br>Education\", \"University <br>without <br>graduating\", \"University <br>graduate\", \"Completed <br>Compulsory<br>Secondary <br>Education\", \"Primary <br>education\", \"University <br>without <br>graduating\", \"University <br>graduate\", \"University <br>without <br>graduating\", \"Vocational <br>Training\", \"University <br>graduate\", \"University <br>without <br>graduating\", \"University <br>without <br>graduating\", \"Completed <br>Compulsory<br>Secondary <br>Education\", \"University <br>graduate\", \"University <br>graduate\", \"Completed <br>Compulsory<br>Secondary <br>Education\", \"University <br>graduate\", \"University <br>without <br>graduating\", \"Vocational <br>Training\", \"University <br>graduate\", \"Unfinished <br>Compulsory<br>Secondary <br>Education\", \"Completed <br>Compulsory<br>Secondary <br>Education\", \"Primary <br>education\", \"University <br>graduate\", \"Primary <br>education\", \"University <br>graduate\", \"University <br>without <br>graduating\", \"University <br>graduate\", \"Completed <br>Compulsory<br>Secondary <br>Education\", \"Vocational <br>Training\", \"University <br>graduate\", \"University <br>without <br>graduating\", \"University <br>graduate\", \"University <br>without <br>graduating\", \"University <br>graduate\", \"University <br>graduate\", \"University <br>without <br>graduating\", \"Vocational <br>Training\", \"University <br>graduate\", \"Completed <br>Compulsory<br>Secondary <br>Education\", \"University <br>without <br>graduating\", \"Completed <br>Compulsory<br>Secondary <br>Education\", \"University <br>graduate\", \"University <br>graduate\", \"Vocational <br>Training\", \"University <br>graduate\", \"Vocational <br>Training\", \"University <br>graduate\", \"Completed <br>Compulsory<br>Secondary <br>Education\", \"University <br>without <br>graduating\", \"University <br>graduate\", \"University <br>without <br>graduating\", \"University <br>graduate\", \"University <br>without <br>graduating\", \"University <br>graduate\", \"University <br>graduate\", \"University <br>without <br>graduating\", \"Completed <br>Compulsory<br>Secondary <br>Education\", \"University <br>graduate\", \"University <br>graduate\", \"Vocational <br>Training\", \"University <br>graduate\", \"Completed <br>Compulsory<br>Secondary <br>Education\", \"Primary <br>education\", \"Vocational <br>Training\", \"Completed <br>Compulsory<br>Secondary <br>Education\", \"University <br>without <br>graduating\", \"University <br>without <br>graduating\", \"University <br>graduate\", \"University <br>graduate\", \"University <br>graduate\", \"University <br>without <br>graduating\"], \"xaxis\": \"x\", \"y\": [13, 14, 15, 16, 17, 18, 18, 19, 20, 20, 20, 21, 21, 22, 22, 22, 23, 23, 24, 24, 24, 24, 25, 25, 25, 25, 26, 26, 26, 26, 27, 27, 27, 27, 27, 28, 28, 28, 28, 29, 29, 29, 30, 30, 30, 30, 30, 31, 31, 32, 32, 32, 33, 33, 33, 34, 34, 34, 35, 35, 35, 35, 36, 36, 36, 37, 37, 37, 37, 38, 38, 38, 39, 39, 40, 40, 40, 41, 41, 42, 42, 42, 43, 43, 43, 43, 44, 44, 45, 45, 46, 46, 46, 47, 47, 48, 48, 49, 50, 50, 50, 51, 51, 51, 52, 52, 53, 53, 54, 55, 55, 55, 55, 56, 56, 57, 57, 58, 59, 59, 60, 60, 61, 61, 62, 62, 64, 64, 65, 66, 67, 69, 73, 78, 81], \"yaxis\": \"y\", \"type\": \"scatter\", \"uid\": \"b40414a5-a5aa-47dc-b2b7-9a981da9f3f1\"}, {\"hovertemplate\": \"<b>%{hovertext}</b><br><br>Gender=Male<br>Educational level=%{x}<br>Age=%{y}<br>counts=%{marker.size}<extra></extra>\", \"hovertext\": [\"Unfinished <br>Compulsory<br>Secondary <br>Education\", \"Unfinished <br>Compulsory<br>Secondary <br>Education\", \"Unfinished <br>Compulsory<br>Secondary <br>Education\", \"Unfinished <br>Compulsory<br>Secondary <br>Education\", \"Unfinished <br>Compulsory<br>Secondary <br>Education\", \"Unfinished <br>Compulsory<br>Secondary <br>Education\", \"University <br>without <br>graduating\", \"University <br>without <br>graduating\", \"University <br>without <br>graduating\", \"University <br>without <br>graduating\", \"University <br>graduate\", \"Primary <br>education\", \"University <br>graduate\", \"University <br>without <br>graduating\", \"Completed <br>Compulsory<br>Secondary <br>Education\", \"University <br>without <br>graduating\", \"University <br>graduate\", \"Completed <br>Compulsory<br>Secondary <br>Education\", \"University <br>graduate\", \"University <br>without <br>graduating\", \"Completed <br>Compulsory<br>Secondary <br>Education\", \"University <br>without <br>graduating\", \"University <br>graduate\", \"University <br>graduate\", \"University <br>without <br>graduating\", \"Completed <br>Compulsory<br>Secondary <br>Education\", \"Unfinished <br>Compulsory<br>Secondary <br>Education\", \"University <br>graduate\", \"Completed <br>Compulsory<br>Secondary <br>Education\", \"University <br>without <br>graduating\", \"Unfinished <br>Compulsory<br>Secondary <br>Education\", \"Vocational <br>Training\", \"University <br>graduate\", \"University <br>without <br>graduating\", \"Completed <br>Compulsory<br>Secondary <br>Education\", \"Vocational <br>Training\", \"University <br>graduate\", \"University <br>without <br>graduating\", \"Unfinished <br>Compulsory<br>Secondary <br>Education\", \"University <br>graduate\", \"University <br>without <br>graduating\", \"Completed <br>Compulsory<br>Secondary <br>Education\", \"Vocational <br>Training\", \"University <br>graduate\", \"University <br>without <br>graduating\", \"Vocational <br>Training\", \"University <br>graduate\", \"University <br>without <br>graduating\", \"Vocational <br>Training\", \"University <br>graduate\", \"Primary <br>education\", \"University <br>graduate\", \"Completed <br>Compulsory<br>Secondary <br>Education\", \"University <br>without <br>graduating\", \"Vocational <br>Training\", \"University <br>graduate\", \"Vocational <br>Training\", \"University <br>graduate\", \"Completed <br>Compulsory<br>Secondary <br>Education\", \"Primary <br>education\", \"University <br>without <br>graduating\", \"University <br>graduate\", \"University <br>without <br>graduating\", \"University <br>graduate\", \"Vocational <br>Training\", \"Unfinished <br>Compulsory<br>Secondary <br>Education\", \"University <br>without <br>graduating\", \"University <br>graduate\", \"Completed <br>Compulsory<br>Secondary <br>Education\", \"University <br>without <br>graduating\", \"Vocational <br>Training\", \"University <br>graduate\", \"University <br>graduate\", \"University <br>graduate\", \"University <br>without <br>graduating\", \"Completed <br>Compulsory<br>Secondary <br>Education\", \"Vocational <br>Training\", \"University <br>graduate\", \"University <br>without <br>graduating\", \"University <br>graduate\", \"University <br>graduate\", \"Vocational <br>Training\", \"University <br>graduate\", \"Vocational <br>Training\", \"University <br>graduate\", \"Vocational <br>Training\", \"University <br>without <br>graduating\", \"University <br>without <br>graduating\", \"University <br>graduate\", \"Vocational <br>Training\", \"University <br>graduate\", \"University <br>graduate\", \"Vocational <br>Training\", \"University <br>graduate\", \"Completed <br>Compulsory<br>Secondary <br>Education\", \"University <br>without <br>graduating\", \"University <br>graduate\", \"University <br>graduate\", \"University <br>without <br>graduating\", \"University <br>graduate\", \"University <br>graduate\", \"University <br>without <br>graduating\", \"University <br>graduate\", \"University <br>graduate\", \"University <br>graduate\", \"University <br>without <br>graduating\", \"University <br>without <br>graduating\", \"Vocational <br>Training\", \"University <br>graduate\", \"University <br>graduate\", \"University <br>without <br>graduating\", \"University <br>graduate\"], \"legendgroup\": \"Gender=Male\", \"marker\": {\"color\": \"rgb(254,224,139)\", \"size\": [1, 18, 8, 5, 2, 3, 2, 5, 4, 7, 2, 1, 3, 3, 1, 6, 5, 1, 7, 3, 2, 5, 4, 12, 2, 1, 1, 10, 4, 3, 1, 1, 20, 3, 1, 1, 18, 2, 1, 16, 3, 1, 1, 8, 2, 1, 10, 2, 1, 10, 1, 9, 2, 2, 1, 8, 1, 8, 1, 1, 1, 6, 1, 4, 2, 1, 1, 8, 1, 1, 1, 5, 4, 3, 2, 1, 1, 3, 1, 3, 1, 1, 2, 1, 3, 2, 1, 1, 1, 1, 1, 1, 1, 2, 1, 1, 3, 2, 1, 1, 1, 1, 1, 1, 1, 1, 1, 1, 1, 1, 1, 1], \"sizemode\": \"area\", \"sizeref\": 0.006111111111111111, \"symbol\": \"circle\"}, \"mode\": \"markers\", \"name\": \"Gender=Male\", \"showlegend\": true, \"x\": [\"Unfinished <br>Compulsory<br>Secondary <br>Education\", \"Unfinished <br>Compulsory<br>Secondary <br>Education\", \"Unfinished <br>Compulsory<br>Secondary <br>Education\", \"Unfinished <br>Compulsory<br>Secondary <br>Education\", \"Unfinished <br>Compulsory<br>Secondary <br>Education\", \"Unfinished <br>Compulsory<br>Secondary <br>Education\", \"University <br>without <br>graduating\", \"University <br>without <br>graduating\", \"University <br>without <br>graduating\", \"University <br>without <br>graduating\", \"University <br>graduate\", \"Primary <br>education\", \"University <br>graduate\", \"University <br>without <br>graduating\", \"Completed <br>Compulsory<br>Secondary <br>Education\", \"University <br>without <br>graduating\", \"University <br>graduate\", \"Completed <br>Compulsory<br>Secondary <br>Education\", \"University <br>graduate\", \"University <br>without <br>graduating\", \"Completed <br>Compulsory<br>Secondary <br>Education\", \"University <br>without <br>graduating\", \"University <br>graduate\", \"University <br>graduate\", \"University <br>without <br>graduating\", \"Completed <br>Compulsory<br>Secondary <br>Education\", \"Unfinished <br>Compulsory<br>Secondary <br>Education\", \"University <br>graduate\", \"Completed <br>Compulsory<br>Secondary <br>Education\", \"University <br>without <br>graduating\", \"Unfinished <br>Compulsory<br>Secondary <br>Education\", \"Vocational <br>Training\", \"University <br>graduate\", \"University <br>without <br>graduating\", \"Completed <br>Compulsory<br>Secondary <br>Education\", \"Vocational <br>Training\", \"University <br>graduate\", \"University <br>without <br>graduating\", \"Unfinished <br>Compulsory<br>Secondary <br>Education\", \"University <br>graduate\", \"University <br>without <br>graduating\", \"Completed <br>Compulsory<br>Secondary <br>Education\", \"Vocational <br>Training\", \"University <br>graduate\", \"University <br>without <br>graduating\", \"Vocational <br>Training\", \"University <br>graduate\", \"University <br>without <br>graduating\", \"Vocational <br>Training\", \"University <br>graduate\", \"Primary <br>education\", \"University <br>graduate\", \"Completed <br>Compulsory<br>Secondary <br>Education\", \"University <br>without <br>graduating\", \"Vocational <br>Training\", \"University <br>graduate\", \"Vocational <br>Training\", \"University <br>graduate\", \"Completed <br>Compulsory<br>Secondary <br>Education\", \"Primary <br>education\", \"University <br>without <br>graduating\", \"University <br>graduate\", \"University <br>without <br>graduating\", \"University <br>graduate\", \"Vocational <br>Training\", \"Unfinished <br>Compulsory<br>Secondary <br>Education\", \"University <br>without <br>graduating\", \"University <br>graduate\", \"Completed <br>Compulsory<br>Secondary <br>Education\", \"University <br>without <br>graduating\", \"Vocational <br>Training\", \"University <br>graduate\", \"University <br>graduate\", \"University <br>graduate\", \"University <br>without <br>graduating\", \"Completed <br>Compulsory<br>Secondary <br>Education\", \"Vocational <br>Training\", \"University <br>graduate\", \"University <br>without <br>graduating\", \"University <br>graduate\", \"University <br>graduate\", \"Vocational <br>Training\", \"University <br>graduate\", \"Vocational <br>Training\", \"University <br>graduate\", \"Vocational <br>Training\", \"University <br>without <br>graduating\", \"University <br>without <br>graduating\", \"University <br>graduate\", \"Vocational <br>Training\", \"University <br>graduate\", \"University <br>graduate\", \"Vocational <br>Training\", \"University <br>graduate\", \"Completed <br>Compulsory<br>Secondary <br>Education\", \"University <br>without <br>graduating\", \"University <br>graduate\", \"University <br>graduate\", \"University <br>without <br>graduating\", \"University <br>graduate\", \"University <br>graduate\", \"University <br>without <br>graduating\", \"University <br>graduate\", \"University <br>graduate\", \"University <br>graduate\", \"University <br>without <br>graduating\", \"University <br>without <br>graduating\", \"Vocational <br>Training\", \"University <br>graduate\", \"University <br>graduate\", \"University <br>without <br>graduating\", \"University <br>graduate\"], \"xaxis\": \"x\", \"y\": [13, 14, 15, 16, 17, 18, 18, 19, 20, 21, 21, 21, 22, 22, 22, 23, 23, 23, 24, 24, 24, 25, 25, 26, 26, 26, 26, 27, 27, 27, 27, 27, 28, 28, 28, 28, 29, 29, 29, 30, 30, 30, 30, 31, 31, 31, 32, 32, 32, 33, 33, 34, 34, 34, 34, 35, 35, 36, 36, 36, 36, 37, 37, 38, 38, 38, 38, 39, 39, 39, 39, 40, 41, 42, 42, 42, 42, 43, 43, 44, 45, 45, 46, 46, 47, 47, 47, 48, 49, 49, 50, 51, 51, 53, 53, 54, 57, 60, 60, 61, 62, 62, 63, 64, 65, 66, 67, 67, 68, 69, 70, 71], \"yaxis\": \"y\", \"type\": \"scatter\", \"uid\": \"72c18b78-0977-4abe-a935-52b5bac6a865\"}, {\"hovertemplate\": \"<b>%{hovertext}</b><br><br>Gender=Other<br>Educational level=%{x}<br>Age=%{y}<br>counts=%{marker.size}<extra></extra>\", \"hovertext\": [\"Unfinished <br>Compulsory<br>Secondary <br>Education\", \"University <br>without <br>graduating\", \"University <br>without <br>graduating\", \"University <br>without <br>graduating\", \"University <br>graduate\", \"University <br>without <br>graduating\"], \"legendgroup\": \"Gender=Other\", \"marker\": {\"color\": \"rgb(244,109,67)\", \"size\": [1, 1, 1, 1, 1, 1], \"sizemode\": \"area\", \"sizeref\": 0.006111111111111111, \"symbol\": \"circle\"}, \"mode\": \"markers\", \"name\": \"Gender=Other\", \"showlegend\": true, \"x\": [\"Unfinished <br>Compulsory<br>Secondary <br>Education\", \"University <br>without <br>graduating\", \"University <br>without <br>graduating\", \"University <br>without <br>graduating\", \"University <br>graduate\", \"University <br>without <br>graduating\"], \"xaxis\": \"x\", \"y\": [14, 20, 21, 22, 28, 36], \"yaxis\": \"y\", \"type\": \"scatter\", \"uid\": \"6b157ab7-1c1a-4518-b97f-8fd0487e5779\"}], {\"height\": 600, \"legend\": {\"tracegroupgap\": 0}, \"margin\": {\"t\": 60}, \"template\": {\"data\": {\"barpolar\": [{\"marker\": {\"line\": {\"color\": \"white\", \"width\": 0.5}}, \"type\": \"barpolar\"}], \"bar\": [{\"marker\": {\"line\": {\"color\": \"white\", \"width\": 0.5}}, \"type\": \"bar\"}], \"carpet\": [{\"aaxis\": {\"endlinecolor\": \"#2a3f5f\", \"gridcolor\": \"#C8D4E3\", \"linecolor\": \"#C8D4E3\", \"minorgridcolor\": \"#C8D4E3\", \"startlinecolor\": \"#2a3f5f\"}, \"baxis\": {\"endlinecolor\": \"#2a3f5f\", \"gridcolor\": \"#C8D4E3\", \"linecolor\": \"#C8D4E3\", \"minorgridcolor\": \"#C8D4E3\", \"startlinecolor\": \"#2a3f5f\"}, \"type\": \"carpet\"}], \"choropleth\": [{\"colorbar\": {\"outlinewidth\": 0, \"ticks\": \"\"}, \"type\": \"choropleth\"}], \"contourcarpet\": [{\"colorbar\": {\"outlinewidth\": 0, \"ticks\": \"\"}, \"type\": \"contourcarpet\"}], \"contour\": [{\"autocolorscale\": true, \"colorbar\": {\"outlinewidth\": 0, \"ticks\": \"\"}, \"type\": \"contour\"}], \"heatmapgl\": [{\"colorbar\": {\"outlinewidth\": 0, \"ticks\": \"\"}, \"type\": \"heatmapgl\"}], \"heatmap\": [{\"autocolorscale\": true, \"colorbar\": {\"outlinewidth\": 0, \"ticks\": \"\"}, \"type\": \"heatmap\"}], \"histogram2dcontour\": [{\"autocolorscale\": true, \"colorbar\": {\"outlinewidth\": 0, \"ticks\": \"\"}, \"type\": \"histogram2dcontour\"}], \"histogram2d\": [{\"autocolorscale\": true, \"colorbar\": {\"outlinewidth\": 0, \"ticks\": \"\"}, \"type\": \"histogram2d\"}], \"histogram\": [{\"marker\": {\"colorbar\": {\"outlinewidth\": 0, \"ticks\": \"\"}}, \"type\": \"histogram\"}], \"mesh3d\": [{\"colorbar\": {\"outlinewidth\": 0, \"ticks\": \"\"}, \"type\": \"mesh3d\"}], \"parcoords\": [{\"line\": {\"colorbar\": {\"outlinewidth\": 0, \"ticks\": \"\"}}, \"type\": \"parcoords\"}], \"scatter3d\": [{\"marker\": {\"colorbar\": {\"outlinewidth\": 0, \"ticks\": \"\"}}, \"type\": \"scatter3d\"}], \"scattercarpet\": [{\"marker\": {\"colorbar\": {\"outlinewidth\": 0, \"ticks\": \"\"}}, \"type\": \"scattercarpet\"}], \"scattergeo\": [{\"marker\": {\"colorbar\": {\"outlinewidth\": 0, \"ticks\": \"\"}}, \"type\": \"scattergeo\"}], \"scattergl\": [{\"marker\": {\"colorbar\": {\"outlinewidth\": 0, \"ticks\": \"\"}}, \"type\": \"scattergl\"}], \"scattermapbox\": [{\"marker\": {\"colorbar\": {\"outlinewidth\": 0, \"ticks\": \"\"}}, \"type\": \"scattermapbox\"}], \"scatterpolargl\": [{\"marker\": {\"colorbar\": {\"outlinewidth\": 0, \"ticks\": \"\"}}, \"type\": \"scatterpolargl\"}], \"scatterpolar\": [{\"marker\": {\"colorbar\": {\"outlinewidth\": 0, \"ticks\": \"\"}}, \"type\": \"scatterpolar\"}], \"scatter\": [{\"marker\": {\"colorbar\": {\"outlinewidth\": 0, \"ticks\": \"\"}}, \"type\": \"scatter\"}], \"scatterternary\": [{\"marker\": {\"colorbar\": {\"outlinewidth\": 0, \"ticks\": \"\"}}, \"type\": \"scatterternary\"}], \"surface\": [{\"colorbar\": {\"outlinewidth\": 0, \"ticks\": \"\"}, \"type\": \"surface\"}], \"table\": [{\"cells\": {\"fill\": {\"color\": \"#EBF0F8\"}, \"line\": {\"color\": \"white\"}}, \"header\": {\"fill\": {\"color\": \"#C8D4E3\"}, \"line\": {\"color\": \"white\"}}, \"type\": \"table\"}]}, \"layout\": {\"annotationdefaults\": {\"arrowcolor\": \"#506784\", \"arrowhead\": 0, \"arrowwidth\": 1}, \"colorscale\": {\"diverging\": [[0, \"#8e0152\"], [0.1, \"#c51b7d\"], [0.2, \"#de77ae\"], [0.3, \"#f1b6da\"], [0.4, \"#fde0ef\"], [0.5, \"#f7f7f7\"], [0.6, \"#e6f5d0\"], [0.7, \"#b8e186\"], [0.8, \"#7fbc41\"], [0.9, \"#4d9221\"], [1, \"#276419\"]], \"sequential\": [[0.0, \"#0508b8\"], [0.0893854748603352, \"#1910d8\"], [0.1787709497206704, \"#3c19f0\"], [0.2681564245810056, \"#6b1cfb\"], [0.3575418994413408, \"#981cfd\"], [0.44692737430167595, \"#bf1cfd\"], [0.5363128491620112, \"#dd2bfd\"], [0.6256983240223464, \"#f246fe\"], [0.7150837988826816, \"#fc67fd\"], [0.8044692737430168, \"#fe88fc\"], [0.8938547486033519, \"#fea5fd\"], [0.9832402234636871, \"#febefe\"], [1.0, \"#fec3fe\"]], \"sequentialminus\": [[0.0, \"#0508b8\"], [0.0893854748603352, \"#1910d8\"], [0.1787709497206704, \"#3c19f0\"], [0.2681564245810056, \"#6b1cfb\"], [0.3575418994413408, \"#981cfd\"], [0.44692737430167595, \"#bf1cfd\"], [0.5363128491620112, \"#dd2bfd\"], [0.6256983240223464, \"#f246fe\"], [0.7150837988826816, \"#fc67fd\"], [0.8044692737430168, \"#fe88fc\"], [0.8938547486033519, \"#fea5fd\"], [0.9832402234636871, \"#febefe\"], [1.0, \"#fec3fe\"]]}, \"colorway\": [\"#636efa\", \"#EF553B\", \"#00cc96\", \"#ab63fa\", \"#19d3f3\", \"#e763fa\", \"#FECB52\", \"#FFA15A\", \"#FF6692\", \"#B6E880\"], \"font\": {\"color\": \"#2a3f5f\"}, \"geo\": {\"bgcolor\": \"white\", \"lakecolor\": \"white\", \"landcolor\": \"white\", \"showlakes\": true, \"showland\": true, \"subunitcolor\": \"#C8D4E3\"}, \"hovermode\": \"closest\", \"mapbox\": {\"style\": \"light\"}, \"paper_bgcolor\": \"white\", \"plot_bgcolor\": \"white\", \"polar\": {\"angularaxis\": {\"gridcolor\": \"#EBF0F8\", \"linecolor\": \"#EBF0F8\", \"ticks\": \"\"}, \"bgcolor\": \"white\", \"radialaxis\": {\"gridcolor\": \"#EBF0F8\", \"linecolor\": \"#EBF0F8\", \"ticks\": \"\"}}, \"scene\": {\"xaxis\": {\"backgroundcolor\": \"white\", \"gridcolor\": \"#DFE8F3\", \"gridwidth\": 2, \"linecolor\": \"#EBF0F8\", \"showbackground\": true, \"ticks\": \"\", \"zerolinecolor\": \"#EBF0F8\"}, \"yaxis\": {\"backgroundcolor\": \"white\", \"gridcolor\": \"#DFE8F3\", \"gridwidth\": 2, \"linecolor\": \"#EBF0F8\", \"showbackground\": true, \"ticks\": \"\", \"zerolinecolor\": \"#EBF0F8\"}, \"zaxis\": {\"backgroundcolor\": \"white\", \"gridcolor\": \"#DFE8F3\", \"gridwidth\": 2, \"linecolor\": \"#EBF0F8\", \"showbackground\": true, \"ticks\": \"\", \"zerolinecolor\": \"#EBF0F8\"}}, \"shapedefaults\": {\"fillcolor\": \"#506784\", \"line\": {\"width\": 0}, \"opacity\": 0.4}, \"ternary\": {\"aaxis\": {\"gridcolor\": \"#DFE8F3\", \"linecolor\": \"#A2B1C6\", \"ticks\": \"\"}, \"baxis\": {\"gridcolor\": \"#DFE8F3\", \"linecolor\": \"#A2B1C6\", \"ticks\": \"\"}, \"bgcolor\": \"white\", \"caxis\": {\"gridcolor\": \"#DFE8F3\", \"linecolor\": \"#A2B1C6\", \"ticks\": \"\"}}, \"title\": {\"x\": 0.05}, \"xaxis\": {\"automargin\": true, \"gridcolor\": \"#EBF0F8\", \"linecolor\": \"#EBF0F8\", \"ticks\": \"\", \"zerolinecolor\": \"#EBF0F8\", \"zerolinewidth\": 2}, \"yaxis\": {\"automargin\": true, \"gridcolor\": \"#EBF0F8\", \"linecolor\": \"#EBF0F8\", \"ticks\": \"\", \"zerolinecolor\": \"#EBF0F8\", \"zerolinewidth\": 2}}}, \"grid\": {\"xaxes\": [\"x\"], \"yaxes\": [\"y\"], \"xgap\": 0.1, \"ygap\": 0.1, \"xside\": \"bottom\", \"yside\": \"left\"}, \"xaxis\": {\"title\": {\"text\": \"Educational level\"}}, \"yaxis\": {\"title\": {\"text\": \"Age\"}}}, {\"showLink\": false, \"linkText\": \"Export to plot.ly\", \"plotlyServerURL\": \"https://plot.ly\"}); \n",
       "}\n",
       "});</script><script type=\"text/javascript\">window.addEventListener(\"resize\", function(){if (document.getElementById(\"db499d72-37ce-46f2-817c-9f80ce1d09cc\")) {window._Plotly.Plots.resize(document.getElementById(\"db499d72-37ce-46f2-817c-9f80ce1d09cc\"));};})</script>"
      ]
     },
     "metadata": {},
     "output_type": "display_data"
    }
   ],
   "source": [
    "def distribution_education_by_gender_and_age(dataframe):\n",
    "    temp_dataframe = dataframe.copy()\n",
    "    newDataframe = pd.DataFrame(temp_dataframe.groupby(['Age', 'Gender'])['Educational level'].value_counts(dropna=True, sort=True).reset_index(name='counts'))\n",
    "    if get_data_replacements(str('Gender')):\n",
    "        newDataframe['Gender'] = newDataframe['Gender'].apply(get_data_replacements(str('Gender')).get)\n",
    "    fig = px.scatter(newDataframe, x=\"Educational level\", y=\"Age\", size=\"counts\", color=\"Gender\", \n",
    "           hover_name=\"Educational level\", log_x=False, size_max=60, color_discrete_sequence=colors_gender, template=\"plotly_white\")\n",
    "    \n",
    "    # fig.update(layout=dict(legend=dict(font=dict(size=20))))\n",
    "    iplot(fig)\n",
    "    \n",
    "distribution_education_by_gender_and_age(data_complete_en)"
   ]
  },
  {
   "cell_type": "markdown",
   "metadata": {},
   "source": [
    "## Distribution of the origin of the participants "
   ]
  },
  {
   "cell_type": "code",
   "execution_count": 12,
   "metadata": {
    "scrolled": false
   },
   "outputs": [
    {
     "name": "stdout",
     "output_type": "stream",
     "text": [
      "Describing the variable Nationality\n"
     ]
    },
    {
     "data": {
      "text/plain": [
       "count     767\n",
       "unique     34\n",
       "top       USA\n",
       "freq      306\n",
       "Name: Nationality, dtype: object"
      ]
     },
     "metadata": {},
     "output_type": "display_data"
    },
    {
     "name": "stdout",
     "output_type": "stream",
     "text": [
      "Count of each value in Nationality expresed as nationality / amount\n"
     ]
    },
    {
     "data": {
      "text/plain": [
       "USA               306\n",
       "Spain             217\n",
       "India             120\n",
       "Unknown            38\n",
       "France             19\n",
       "Italy              11\n",
       "England            10\n",
       "Canada              9\n",
       "Venezuela           4\n",
       "Niger               4\n",
       "Brazil              3\n",
       "Dominican Rep.      2\n",
       "Russia              2\n",
       "Ireland             2\n",
       "Colombia            1\n",
       "Austria             1\n",
       "New Zealand         1\n",
       "Albania             1\n",
       "Slovakia            1\n",
       "Scotland            1\n",
       "Macedonia           1\n",
       "Australia           1\n",
       "Indonesia           1\n",
       "Cuba                1\n",
       "China               1\n",
       "Iceland             1\n",
       "Ukraine             1\n",
       "Germany             1\n",
       "Mexico              1\n",
       "Sudan               1\n",
       "Pakistan            1\n",
       "Argentina           1\n",
       "Chile               1\n",
       "The Bahamas         1\n",
       "Name: Nationality, dtype: int64"
      ]
     },
     "metadata": {},
     "output_type": "display_data"
    },
    {
     "name": "stdout",
     "output_type": "stream",
     "text": [
      "Percentage of each value in Nationality expresed as nationality / percentage\n"
     ]
    },
    {
     "data": {
      "text/plain": [
       "USA               39.90\n",
       "Spain             28.29\n",
       "India             15.65\n",
       "Unknown            4.95\n",
       "France             2.48\n",
       "Italy              1.43\n",
       "England            1.30\n",
       "Canada             1.17\n",
       "Venezuela          0.52\n",
       "Niger              0.52\n",
       "Brazil             0.39\n",
       "Dominican Rep.     0.26\n",
       "Russia             0.26\n",
       "Ireland            0.26\n",
       "Colombia           0.13\n",
       "Austria            0.13\n",
       "New Zealand        0.13\n",
       "Albania            0.13\n",
       "Slovakia           0.13\n",
       "Scotland           0.13\n",
       "Macedonia          0.13\n",
       "Australia          0.13\n",
       "Indonesia          0.13\n",
       "Cuba               0.13\n",
       "China              0.13\n",
       "Iceland            0.13\n",
       "Ukraine            0.13\n",
       "Germany            0.13\n",
       "Mexico             0.13\n",
       "Sudan              0.13\n",
       "Pakistan           0.13\n",
       "Argentina          0.13\n",
       "Chile              0.13\n",
       "The Bahamas        0.13\n",
       "Name: Nationality, dtype: float64"
      ]
     },
     "metadata": {},
     "output_type": "display_data"
    },
    {
     "data": {
      "application/vnd.plotly.v1+json": {
       "config": {
        "linkText": "Export to plot.ly",
        "plotlyServerURL": "https://plot.ly",
        "showLink": false
       },
       "data": [
        {
         "marker": {
          "color": [
           "hsl(353.0, 64.0%, 53.0%)",
           "hsl(358.09090909090907, 69.81818181818181%, 54.696969696969695%)",
           "hsl(3.181818181818187, 75.63636363636364%, 56.39393939393939%)",
           "hsl(8.272727272727252, 81.45454545454545%, 58.09090909090909%)",
           "hsl(13.363636363636374, 87.27272727272728%, 59.78787878787879%)",
           "hsl(17.181818181818183, 89.9090909090909%, 61.696969696969695%)",
           "hsl(20.81818181818182, 92.0909090909091%, 63.63636363636364%)",
           "hsl(24.454545454545453, 94.27272727272728%, 65.57575757575758%)",
           "hsl(28.090909090909093, 96.45454545454545%, 67.51515151515152%)",
           "hsl(31.727272727272727, 97.18181818181819%, 69.63636363636364%)",
           "hsl(35.36363636363637, 97.42424242424242%, 71.81818181818181%)",
           "hsl(39.0, 97.66666666666667%, 74.0%)",
           "hsl(42.63636363636364, 97.9090909090909%, 76.18181818181819%)",
           "hsl(46.42424242424242, 98.3030303030303%, 78.51515151515152%)",
           "hsl(50.303030303030305, 98.78787878787878%, 80.93939393939394%)",
           "hsl(54.18181818181818, 99.27272727272727%, 83.36363636363636%)",
           "hsl(58.06060606060606, 99.75757575757575%, 85.78787878787878%)",
           "hsl(61.09090909090909, 97.81818181818181%, 85.78787878787878%)",
           "hsl(63.272727272727266, 93.45454545454547%, 83.36363636363637%)",
           "hsl(65.45454545454545, 89.09090909090908%, 80.93939393939394%)",
           "hsl(67.63636363636364, 84.72727272727272%, 78.51515151515152%)",
           "hsl(72.9090909090909, 78.63636363636364%, 76.81818181818181%)",
           "hsl(83.33333333333331, 69.66666666666669%, 76.33333333333333%)",
           "hsl(93.75757575757578, 60.69696969696968%, 75.84848484848484%)",
           "hsl(104.18181818181819, 51.72727272727272%, 75.36363636363636%)",
           "hsl(114.96969696969697, 44.81818181818182%, 73.96969696969697%)",
           "hsl(126.84848484848483, 44.09090909090909%, 69.84848484848486%)",
           "hsl(138.72727272727275, 43.36363636363636%, 65.72727272727272%)",
           "hsl(150.60606060606062, 42.63636363636363%, 61.6060606060606%)",
           "hsl(162.24242424242425, 42.484848484848484%, 57.63636363636364%)",
           "hsl(172.1818181818182, 46.36363636363636%, 54.727272727272734%)",
           "hsl(182.12121212121212, 50.24242424242425%, 51.81818181818181%)",
           "hsl(192.06060606060606, 54.121212121212125%, 48.90909090909091%)",
           "hsl(202.0, 58.0%, 46.0%)"
          ]
         },
         "name": "Nationality",
         "text": [
          0.13,
          0.13,
          0.13,
          0.13,
          0.38999999999999996,
          1.17,
          0.13,
          0.13,
          0.13,
          0.13,
          0.26,
          1.3,
          2.48,
          0.13,
          0.13,
          15.65,
          0.13,
          0.26,
          1.43,
          0.13,
          0.13,
          0.13,
          0.52,
          0.13,
          0.26,
          0.13,
          0.13,
          28.29,
          0.13,
          0.13,
          39.900000000000006,
          0.13,
          4.95,
          0.52
         ],
         "type": "bar",
         "uid": "d9c33634-2daf-4187-a3ff-72e758ae5643",
         "x": [
          "Albania",
          "Argentina",
          "Australia",
          "Austria",
          "Brazil",
          "Canada",
          "Chile",
          "China",
          "Colombia",
          "Cuba",
          "Dominican Rep.",
          "England",
          "France",
          "Germany",
          "Iceland",
          "India",
          "Indonesia",
          "Ireland",
          "Italy",
          "Macedonia",
          "Mexico",
          "New Zealand",
          "Niger",
          "Pakistan",
          "Russia",
          "Scotland",
          "Slovakia",
          "Spain",
          "Sudan",
          "The Bahamas",
          "USA",
          "Ukraine",
          "Unknown",
          "Venezuela"
         ],
         "y": [
          1,
          1,
          1,
          1,
          3,
          9,
          1,
          1,
          1,
          1,
          2,
          10,
          19,
          1,
          1,
          120,
          1,
          2,
          11,
          1,
          1,
          1,
          4,
          1,
          2,
          1,
          1,
          217,
          1,
          1,
          306,
          1,
          38,
          4
         ]
        }
       ],
       "layout": {
        "bargap": 0.2,
        "xaxis": {
         "title": {
          "text": "Nationality"
         }
        },
        "yaxis": {
         "title": {
          "text": "Total"
         }
        }
       }
      },
      "text/html": [
       "<div id=\"908e542a-08f7-4495-b617-206a731f73ed\" style=\"height: 525px; width: 100%;\" class=\"plotly-graph-div\"></div><script type=\"text/javascript\">require([\"plotly\"], function(Plotly) { window.PLOTLYENV=window.PLOTLYENV || {};window.PLOTLYENV.BASE_URL=\"https://plot.ly\";\n",
       "if (document.getElementById(\"908e542a-08f7-4495-b617-206a731f73ed\")) {\n",
       "    Plotly.newPlot(\"908e542a-08f7-4495-b617-206a731f73ed\", [{\"marker\": {\"color\": [\"hsl(353.0, 64.0%, 53.0%)\", \"hsl(358.09090909090907, 69.81818181818181%, 54.696969696969695%)\", \"hsl(3.181818181818187, 75.63636363636364%, 56.39393939393939%)\", \"hsl(8.272727272727252, 81.45454545454545%, 58.09090909090909%)\", \"hsl(13.363636363636374, 87.27272727272728%, 59.78787878787879%)\", \"hsl(17.181818181818183, 89.9090909090909%, 61.696969696969695%)\", \"hsl(20.81818181818182, 92.0909090909091%, 63.63636363636364%)\", \"hsl(24.454545454545453, 94.27272727272728%, 65.57575757575758%)\", \"hsl(28.090909090909093, 96.45454545454545%, 67.51515151515152%)\", \"hsl(31.727272727272727, 97.18181818181819%, 69.63636363636364%)\", \"hsl(35.36363636363637, 97.42424242424242%, 71.81818181818181%)\", \"hsl(39.0, 97.66666666666667%, 74.0%)\", \"hsl(42.63636363636364, 97.9090909090909%, 76.18181818181819%)\", \"hsl(46.42424242424242, 98.3030303030303%, 78.51515151515152%)\", \"hsl(50.303030303030305, 98.78787878787878%, 80.93939393939394%)\", \"hsl(54.18181818181818, 99.27272727272727%, 83.36363636363636%)\", \"hsl(58.06060606060606, 99.75757575757575%, 85.78787878787878%)\", \"hsl(61.09090909090909, 97.81818181818181%, 85.78787878787878%)\", \"hsl(63.272727272727266, 93.45454545454547%, 83.36363636363637%)\", \"hsl(65.45454545454545, 89.09090909090908%, 80.93939393939394%)\", \"hsl(67.63636363636364, 84.72727272727272%, 78.51515151515152%)\", \"hsl(72.9090909090909, 78.63636363636364%, 76.81818181818181%)\", \"hsl(83.33333333333331, 69.66666666666669%, 76.33333333333333%)\", \"hsl(93.75757575757578, 60.69696969696968%, 75.84848484848484%)\", \"hsl(104.18181818181819, 51.72727272727272%, 75.36363636363636%)\", \"hsl(114.96969696969697, 44.81818181818182%, 73.96969696969697%)\", \"hsl(126.84848484848483, 44.09090909090909%, 69.84848484848486%)\", \"hsl(138.72727272727275, 43.36363636363636%, 65.72727272727272%)\", \"hsl(150.60606060606062, 42.63636363636363%, 61.6060606060606%)\", \"hsl(162.24242424242425, 42.484848484848484%, 57.63636363636364%)\", \"hsl(172.1818181818182, 46.36363636363636%, 54.727272727272734%)\", \"hsl(182.12121212121212, 50.24242424242425%, 51.81818181818181%)\", \"hsl(192.06060606060606, 54.121212121212125%, 48.90909090909091%)\", \"hsl(202.0, 58.0%, 46.0%)\"]}, \"name\": \"Nationality\", \"text\": [0.13, 0.13, 0.13, 0.13, 0.38999999999999996, 1.17, 0.13, 0.13, 0.13, 0.13, 0.26, 1.3, 2.48, 0.13, 0.13, 15.65, 0.13, 0.26, 1.43, 0.13, 0.13, 0.13, 0.52, 0.13, 0.26, 0.13, 0.13, 28.29, 0.13, 0.13, 39.900000000000006, 0.13, 4.95, 0.52], \"x\": [\"Albania\", \"Argentina\", \"Australia\", \"Austria\", \"Brazil\", \"Canada\", \"Chile\", \"China\", \"Colombia\", \"Cuba\", \"Dominican Rep.\", \"England\", \"France\", \"Germany\", \"Iceland\", \"India\", \"Indonesia\", \"Ireland\", \"Italy\", \"Macedonia\", \"Mexico\", \"New Zealand\", \"Niger\", \"Pakistan\", \"Russia\", \"Scotland\", \"Slovakia\", \"Spain\", \"Sudan\", \"The Bahamas\", \"USA\", \"Ukraine\", \"Unknown\", \"Venezuela\"], \"y\": [1, 1, 1, 1, 3, 9, 1, 1, 1, 1, 2, 10, 19, 1, 1, 120, 1, 2, 11, 1, 1, 1, 4, 1, 2, 1, 1, 217, 1, 1, 306, 1, 38, 4], \"type\": \"bar\", \"uid\": \"d9c33634-2daf-4187-a3ff-72e758ae5643\"}], {\"bargap\": 0.2, \"xaxis\": {\"title\": {\"text\": \"Nationality\"}}, \"yaxis\": {\"title\": {\"text\": \"Total\"}}}, {\"showLink\": false, \"linkText\": \"Export to plot.ly\", \"plotlyServerURL\": \"https://plot.ly\"}); \n",
       "}\n",
       "});</script><script type=\"text/javascript\">window.addEventListener(\"resize\", function(){if (document.getElementById(\"908e542a-08f7-4495-b617-206a731f73ed\")) {window._Plotly.Plots.resize(document.getElementById(\"908e542a-08f7-4495-b617-206a731f73ed\"));};})</script>"
      ],
      "text/vnd.plotly.v1+html": [
       "<div id=\"908e542a-08f7-4495-b617-206a731f73ed\" style=\"height: 525px; width: 100%;\" class=\"plotly-graph-div\"></div><script type=\"text/javascript\">require([\"plotly\"], function(Plotly) { window.PLOTLYENV=window.PLOTLYENV || {};window.PLOTLYENV.BASE_URL=\"https://plot.ly\";\n",
       "if (document.getElementById(\"908e542a-08f7-4495-b617-206a731f73ed\")) {\n",
       "    Plotly.newPlot(\"908e542a-08f7-4495-b617-206a731f73ed\", [{\"marker\": {\"color\": [\"hsl(353.0, 64.0%, 53.0%)\", \"hsl(358.09090909090907, 69.81818181818181%, 54.696969696969695%)\", \"hsl(3.181818181818187, 75.63636363636364%, 56.39393939393939%)\", \"hsl(8.272727272727252, 81.45454545454545%, 58.09090909090909%)\", \"hsl(13.363636363636374, 87.27272727272728%, 59.78787878787879%)\", \"hsl(17.181818181818183, 89.9090909090909%, 61.696969696969695%)\", \"hsl(20.81818181818182, 92.0909090909091%, 63.63636363636364%)\", \"hsl(24.454545454545453, 94.27272727272728%, 65.57575757575758%)\", \"hsl(28.090909090909093, 96.45454545454545%, 67.51515151515152%)\", \"hsl(31.727272727272727, 97.18181818181819%, 69.63636363636364%)\", \"hsl(35.36363636363637, 97.42424242424242%, 71.81818181818181%)\", \"hsl(39.0, 97.66666666666667%, 74.0%)\", \"hsl(42.63636363636364, 97.9090909090909%, 76.18181818181819%)\", \"hsl(46.42424242424242, 98.3030303030303%, 78.51515151515152%)\", \"hsl(50.303030303030305, 98.78787878787878%, 80.93939393939394%)\", \"hsl(54.18181818181818, 99.27272727272727%, 83.36363636363636%)\", \"hsl(58.06060606060606, 99.75757575757575%, 85.78787878787878%)\", \"hsl(61.09090909090909, 97.81818181818181%, 85.78787878787878%)\", \"hsl(63.272727272727266, 93.45454545454547%, 83.36363636363637%)\", \"hsl(65.45454545454545, 89.09090909090908%, 80.93939393939394%)\", \"hsl(67.63636363636364, 84.72727272727272%, 78.51515151515152%)\", \"hsl(72.9090909090909, 78.63636363636364%, 76.81818181818181%)\", \"hsl(83.33333333333331, 69.66666666666669%, 76.33333333333333%)\", \"hsl(93.75757575757578, 60.69696969696968%, 75.84848484848484%)\", \"hsl(104.18181818181819, 51.72727272727272%, 75.36363636363636%)\", \"hsl(114.96969696969697, 44.81818181818182%, 73.96969696969697%)\", \"hsl(126.84848484848483, 44.09090909090909%, 69.84848484848486%)\", \"hsl(138.72727272727275, 43.36363636363636%, 65.72727272727272%)\", \"hsl(150.60606060606062, 42.63636363636363%, 61.6060606060606%)\", \"hsl(162.24242424242425, 42.484848484848484%, 57.63636363636364%)\", \"hsl(172.1818181818182, 46.36363636363636%, 54.727272727272734%)\", \"hsl(182.12121212121212, 50.24242424242425%, 51.81818181818181%)\", \"hsl(192.06060606060606, 54.121212121212125%, 48.90909090909091%)\", \"hsl(202.0, 58.0%, 46.0%)\"]}, \"name\": \"Nationality\", \"text\": [0.13, 0.13, 0.13, 0.13, 0.38999999999999996, 1.17, 0.13, 0.13, 0.13, 0.13, 0.26, 1.3, 2.48, 0.13, 0.13, 15.65, 0.13, 0.26, 1.43, 0.13, 0.13, 0.13, 0.52, 0.13, 0.26, 0.13, 0.13, 28.29, 0.13, 0.13, 39.900000000000006, 0.13, 4.95, 0.52], \"x\": [\"Albania\", \"Argentina\", \"Australia\", \"Austria\", \"Brazil\", \"Canada\", \"Chile\", \"China\", \"Colombia\", \"Cuba\", \"Dominican Rep.\", \"England\", \"France\", \"Germany\", \"Iceland\", \"India\", \"Indonesia\", \"Ireland\", \"Italy\", \"Macedonia\", \"Mexico\", \"New Zealand\", \"Niger\", \"Pakistan\", \"Russia\", \"Scotland\", \"Slovakia\", \"Spain\", \"Sudan\", \"The Bahamas\", \"USA\", \"Ukraine\", \"Unknown\", \"Venezuela\"], \"y\": [1, 1, 1, 1, 3, 9, 1, 1, 1, 1, 2, 10, 19, 1, 1, 120, 1, 2, 11, 1, 1, 1, 4, 1, 2, 1, 1, 217, 1, 1, 306, 1, 38, 4], \"type\": \"bar\", \"uid\": \"d9c33634-2daf-4187-a3ff-72e758ae5643\"}], {\"bargap\": 0.2, \"xaxis\": {\"title\": {\"text\": \"Nationality\"}}, \"yaxis\": {\"title\": {\"text\": \"Total\"}}}, {\"showLink\": false, \"linkText\": \"Export to plot.ly\", \"plotlyServerURL\": \"https://plot.ly\"}); \n",
       "}\n",
       "});</script><script type=\"text/javascript\">window.addEventListener(\"resize\", function(){if (document.getElementById(\"908e542a-08f7-4495-b617-206a731f73ed\")) {window._Plotly.Plots.resize(document.getElementById(\"908e542a-08f7-4495-b617-206a731f73ed\"));};})</script>"
      ]
     },
     "metadata": {},
     "output_type": "display_data"
    }
   ],
   "source": [
    "data_complete_nationality = data_complete_en.copy(deep=True)\n",
    "\n",
    "data_complete_nationality[['Nationality']] = data_complete_nationality[[\n",
    "    'Nationality']].fillna(value=33)\n",
    "\n",
    "data_complete_nationality[['Nationality']] = pd.to_numeric(\n",
    "    data_complete_nationality['Nationality'], downcast='signed', errors='coerce')\n",
    "\n",
    "# display(data_complete_nationality['Nationality'].describe())\n",
    "# display(data_complete_nationality['Nationality'].value_counts().sort_index())\n",
    "\n",
    "\n",
    "labels_nationality = ['Spain', 'Colombia', 'Mexico', 'Dominican Rep.', 'Austria',\n",
    "                      'Chile', 'France', 'Canada', 'Niger', 'China',\n",
    "                      'Australia', 'Russia', 'Germany', 'Brazil', 'USA',\n",
    "                      'India', 'Slovakia', 'Italy', 'England', 'Cuba', 'Ukraine',\n",
    "                      'Venezuela', 'Indonesia', 'Albania',\n",
    "                      'Pakistan', 'The Bahamas', 'Argentina',\n",
    "                      'Iceland', 'Scotland', 'Sudan', 'New Zealand', 'Ireland',\n",
    "                      'Macedonia', 'Unknown']\n",
    "tickvals_nationality = [0, 1, 2, 3, 4, 5, 6, 7, 8, 9, 10, 11,\n",
    "                        12, 13, 14, 15, 16, 17, 18, 19, 20, 21,\n",
    "                        22, 23, 24, 25, 26, 27, 28, 29, 30, 31,\n",
    "                        32, 33]\n",
    "\n",
    "data_complete_nationality['Nationality'].replace(\n",
    "    tickvals_nationality, labels_nationality, inplace=True)\n",
    "\n",
    "\n",
    "print('Describing the variable Nationality')\n",
    "display(data_complete_nationality['Nationality'].describe())\n",
    "print('Count of each value in Nationality expresed as nationality / amount')\n",
    "display(data_complete_nationality['Nationality'].value_counts())\n",
    "print('Percentage of each value in Nationality expresed as nationality / percentage')\n",
    "display(data_complete_nationality['Nationality'].value_counts(\n",
    "    normalize=True).round(4) * 100)\n",
    "\n",
    "data7 = [go.Bar(x=sorted(data_complete_nationality['Nationality'].unique()),\n",
    "                y=data_complete_nationality['Nationality'].value_counts(\n",
    ").sort_index(),\n",
    "    text=(data_complete_nationality['Nationality'].value_counts(\n",
    "        normalize=True).sort_index().round(4) * 100),\n",
    "    marker=dict(color=cl.interp(cl.scales['9']['div']['Spectral'], data_complete_nationality['Nationality'].nunique())),            \n",
    "    name='Nationality')]\n",
    "layout7 = go.Layout(\n",
    "    xaxis=go.layout.XAxis(\n",
    "        # ticktext=labels_nationality,\n",
    "        # tickvals=tickvals_nationality,\n",
    "        title='Nationality'\n",
    "    ),\n",
    "    yaxis=go.layout.YAxis(\n",
    "        title=\"Total\"),\n",
    "    bargap=0.2,\n",
    ")\n",
    "fig7 = go.Figure(data=data7, layout=layout7)\n",
    "iplot(fig7)\n",
    "plt.show()"
   ]
  },
  {
   "cell_type": "markdown",
   "metadata": {},
   "source": [
    "## Distribution of age based on nationality and gender"
   ]
  },
  {
   "cell_type": "code",
   "execution_count": 13,
   "metadata": {},
   "outputs": [
    {
     "data": {
      "application/vnd.plotly.v1+json": {
       "config": {
        "linkText": "Export to plot.ly",
        "plotlyServerURL": "https://plot.ly",
        "showLink": false
       },
       "data": [
        {
         "hovertemplate": "<b>%{hovertext}</b><br><br>Gender=Female<br>Nationality=%{x}<br>Age=%{y}<br>counts=%{marker.size}<extra></extra>",
         "hovertext": [
          "Spain",
          "Spain",
          "Spain",
          "Spain",
          "Spain",
          "Spain",
          "France",
          "United States of America",
          "France",
          "Spain",
          "France",
          "Unknown",
          "Spain",
          "Spain",
          "France",
          "United States of America",
          "Canada",
          "Russia",
          "United States of America",
          "Spain",
          "France",
          "Italy",
          "Spain",
          "United States of America",
          "Cuba",
          "Unknown",
          "India",
          "United States of America",
          "Spain",
          "Canada",
          "Ukraine",
          "Venezuela",
          "United States of America",
          "France",
          "India",
          "Unknown",
          "United States of America",
          "Spain",
          "Unknown",
          "India",
          "Italy",
          "England",
          "Pakistan",
          "United States of America",
          "Spain",
          "India",
          "England",
          "New Zealand",
          "Unknown",
          "Spain",
          "Unknown",
          "United States of America",
          "United States of America",
          "India",
          "Spain",
          "United States of America",
          "India",
          "Spain",
          "Spain",
          "India",
          "United States of America",
          "Unknown",
          "Spain",
          "India",
          "Unknown",
          "Dominican Republic",
          "Brazil",
          "United States of America",
          "Venezuela",
          "United States of America",
          "India",
          "Austria",
          "Unknown",
          "United States of America",
          "Spain",
          "India",
          "United States of America",
          "Spain",
          "India",
          "Unknown",
          "United States of America",
          "Spain",
          "Unknown",
          "United States of America",
          "India",
          "Spain",
          "Unknown",
          "United States of America",
          "India",
          "Spain",
          "Italy",
          "Ireland",
          "Spain",
          "United States of America",
          "Unknown",
          "United States of America",
          "India",
          "Unknown",
          "Spain",
          "United States of America",
          "United States of America",
          "Spain",
          "Colombia",
          "Unknown",
          "United States of America",
          "Spain",
          "Unknown",
          "The Bahamas",
          "United States of America",
          "Spain",
          "United States of America",
          "Spain",
          "England",
          "United States of America",
          "Spain",
          "Chile",
          "Unknown",
          "United States of America",
          "United States of America",
          "Spain",
          "United States of America",
          "United States of America",
          "Spain",
          "Unknown",
          "United States of America",
          "Spain",
          "Spain",
          "Unknown",
          "Spain",
          "United States of America",
          "Ireland",
          "Unknown",
          "United States of America",
          "Spain",
          "United States of America",
          "Unknown",
          "United States of America",
          "Canada",
          "Germany",
          "Unknown",
          "Spain",
          "United States of America",
          "United States of America",
          "United States of America",
          "United States of America",
          "Spain",
          "United States of America",
          "Spain",
          "United States of America",
          "Unknown",
          "Spain",
          "United States of America",
          "United States of America",
          "United States of America",
          "England",
          "Unknown",
          "United States of America",
          "United States of America",
          "United States of America",
          "United States of America"
         ],
         "legendgroup": "Gender=Female",
         "marker": {
          "color": "rgb(102,194,165)",
          "size": [
           4,
           9,
           10,
           5,
           3,
           4,
           1,
           1,
           5,
           2,
           3,
           2,
           1,
           6,
           3,
           2,
           1,
           1,
           4,
           2,
           1,
           1,
           3,
           3,
           1,
           1,
           17,
           4,
           3,
           1,
           1,
           1,
           9,
           1,
           1,
           1,
           7,
           2,
           2,
           1,
           1,
           1,
           1,
           12,
           3,
           1,
           1,
           1,
           1,
           6,
           5,
           2,
           5,
           5,
           1,
           6,
           6,
           5,
           6,
           3,
           2,
           2,
           3,
           2,
           2,
           1,
           1,
           1,
           1,
           6,
           5,
           1,
           1,
           6,
           4,
           2,
           11,
           6,
           1,
           1,
           3,
           1,
           1,
           6,
           3,
           1,
           1,
           6,
           2,
           1,
           1,
           1,
           2,
           1,
           1,
           2,
           1,
           1,
           3,
           2,
           2,
           1,
           1,
           1,
           3,
           2,
           2,
           1,
           3,
           2,
           4,
           1,
           1,
           6,
           4,
           1,
           1,
           3,
           3,
           1,
           2,
           3,
           1,
           1,
           3,
           1,
           1,
           1,
           2,
           1,
           1,
           1,
           3,
           3,
           3,
           1,
           2,
           1,
           1,
           1,
           2,
           1,
           1,
           2,
           2,
           1,
           1,
           3,
           1,
           1,
           1,
           1,
           1,
           1,
           1,
           1,
           1,
           1,
           1,
           2
          ],
          "sizemode": "area",
          "sizeref": 0.010625,
          "symbol": "circle"
         },
         "mode": "markers",
         "name": "Gender=Female",
         "showlegend": true,
         "type": "scatter",
         "uid": "502d8d73-0dea-4c7b-9cb7-b6897194fedc",
         "x": [
          "Spain",
          "Spain",
          "Spain",
          "Spain",
          "Spain",
          "Spain",
          "France",
          "United States of America",
          "France",
          "Spain",
          "France",
          "Unknown",
          "Spain",
          "Spain",
          "France",
          "United States of America",
          "Canada",
          "Russia",
          "United States of America",
          "Spain",
          "France",
          "Italy",
          "Spain",
          "United States of America",
          "Cuba",
          "Unknown",
          "India",
          "United States of America",
          "Spain",
          "Canada",
          "Ukraine",
          "Venezuela",
          "United States of America",
          "France",
          "India",
          "Unknown",
          "United States of America",
          "Spain",
          "Unknown",
          "India",
          "Italy",
          "England",
          "Pakistan",
          "United States of America",
          "Spain",
          "India",
          "England",
          "New Zealand",
          "Unknown",
          "Spain",
          "Unknown",
          "United States of America",
          "United States of America",
          "India",
          "Spain",
          "United States of America",
          "India",
          "Spain",
          "Spain",
          "India",
          "United States of America",
          "Unknown",
          "Spain",
          "India",
          "Unknown",
          "Dominican Republic",
          "Brazil",
          "United States of America",
          "Venezuela",
          "United States of America",
          "India",
          "Austria",
          "Unknown",
          "United States of America",
          "Spain",
          "India",
          "United States of America",
          "Spain",
          "India",
          "Unknown",
          "United States of America",
          "Spain",
          "Unknown",
          "United States of America",
          "India",
          "Spain",
          "Unknown",
          "United States of America",
          "India",
          "Spain",
          "Italy",
          "Ireland",
          "Spain",
          "United States of America",
          "Unknown",
          "United States of America",
          "India",
          "Unknown",
          "Spain",
          "United States of America",
          "United States of America",
          "Spain",
          "Colombia",
          "Unknown",
          "United States of America",
          "Spain",
          "Unknown",
          "The Bahamas",
          "United States of America",
          "Spain",
          "United States of America",
          "Spain",
          "England",
          "United States of America",
          "Spain",
          "Chile",
          "Unknown",
          "United States of America",
          "United States of America",
          "Spain",
          "United States of America",
          "United States of America",
          "Spain",
          "Unknown",
          "United States of America",
          "Spain",
          "Spain",
          "Unknown",
          "Spain",
          "United States of America",
          "Ireland",
          "Unknown",
          "United States of America",
          "Spain",
          "United States of America",
          "Unknown",
          "United States of America",
          "Canada",
          "Germany",
          "Unknown",
          "Spain",
          "United States of America",
          "United States of America",
          "United States of America",
          "United States of America",
          "Spain",
          "United States of America",
          "Spain",
          "United States of America",
          "Unknown",
          "Spain",
          "United States of America",
          "United States of America",
          "United States of America",
          "England",
          "Unknown",
          "United States of America",
          "United States of America",
          "United States of America",
          "United States of America"
         ],
         "xaxis": "x",
         "y": [
          13,
          14,
          15,
          16,
          17,
          18,
          18,
          18,
          19,
          19,
          20,
          20,
          20,
          21,
          21,
          21,
          21,
          21,
          22,
          22,
          22,
          22,
          23,
          23,
          23,
          23,
          24,
          24,
          24,
          24,
          24,
          24,
          25,
          25,
          25,
          25,
          26,
          26,
          26,
          26,
          26,
          26,
          26,
          27,
          27,
          27,
          27,
          27,
          27,
          28,
          28,
          28,
          29,
          29,
          29,
          30,
          30,
          30,
          31,
          31,
          31,
          31,
          32,
          32,
          32,
          32,
          32,
          32,
          32,
          33,
          33,
          33,
          33,
          34,
          34,
          34,
          35,
          35,
          35,
          35,
          36,
          36,
          36,
          37,
          37,
          37,
          37,
          38,
          38,
          38,
          38,
          38,
          39,
          39,
          39,
          40,
          40,
          40,
          41,
          41,
          42,
          42,
          42,
          42,
          43,
          43,
          43,
          43,
          44,
          44,
          45,
          45,
          45,
          46,
          46,
          46,
          46,
          47,
          48,
          48,
          49,
          50,
          50,
          50,
          51,
          51,
          52,
          52,
          53,
          53,
          53,
          53,
          54,
          55,
          55,
          55,
          56,
          56,
          56,
          56,
          57,
          57,
          58,
          59,
          60,
          61,
          61,
          62,
          62,
          62,
          64,
          64,
          65,
          66,
          67,
          67,
          69,
          73,
          78,
          81
         ],
         "yaxis": "y"
        },
        {
         "hovertemplate": "<b>%{hovertext}</b><br><br>Gender=Male<br>Nationality=%{x}<br>Age=%{y}<br>counts=%{marker.size}<extra></extra>",
         "hovertext": [
          "Spain",
          "Spain",
          "China",
          "Spain",
          "Nigeria",
          "Spain",
          "Nigeria",
          "Spain",
          "Spain",
          "Nigeria",
          "Spain",
          "France",
          "Brazil",
          "Spain",
          "Spain",
          "India",
          "England",
          "Unknown",
          "India",
          "Italy",
          "Spain",
          "Mexico",
          "United States of America",
          "Spain",
          "India",
          "France",
          "Russia",
          "United States of America",
          "England",
          "Indonesia",
          "Sudan",
          "India",
          "United States of America",
          "Spain",
          "England",
          "Albania",
          "United States of America",
          "India",
          "Spain",
          "United States of America",
          "India",
          "France",
          "Canada",
          "England",
          "Unknown",
          "United States of America",
          "India",
          "Canada",
          "Nigeria",
          "Italy",
          "Iceland",
          "India",
          "United States of America",
          "Spain",
          "Italy",
          "Slovakia",
          "England",
          "Unknown",
          "United States of America",
          "India",
          "Spain",
          "Italy",
          "France",
          "Unknown",
          "United States of America",
          "Spain",
          "Dominican Republic",
          "India",
          "Venezuela",
          "United States of America",
          "Spain",
          "India",
          "United States of America",
          "India",
          "Spain",
          "Canada",
          "United States of America",
          "India",
          "Spain",
          "England",
          "United States of America",
          "India",
          "Spain",
          "Canada",
          "United States of America",
          "India",
          "Spain",
          "France",
          "Brazil",
          "United States of America",
          "India",
          "Spain",
          "Argentina",
          "Unknown",
          "United States of America",
          "India",
          "Spain",
          "United States of America",
          "Spain",
          "India",
          "United States of America",
          "India",
          "United States of America",
          "India",
          "Italy",
          "Venezuela",
          "Macedonia",
          "United States of America",
          "Australia",
          "India",
          "United States of America",
          "India",
          "Spain",
          "United States of America",
          "Spain",
          "India",
          "India",
          "United States of America",
          "United States of America",
          "United States of America",
          "Spain",
          "United States of America",
          "Spain",
          "United States of America",
          "United States of America",
          "United States of America",
          "United States of America",
          "Spain",
          "United States of America",
          "India",
          "United States of America",
          "United States of America",
          "Spain",
          "United States of America",
          "Spain",
          "Spain",
          "Spain",
          "United States of America",
          "United States of America",
          "Spain",
          "Canada",
          "United States of America",
          "Spain",
          "United States of America",
          "United States of America",
          "United States of America",
          "Spain",
          "United States of America"
         ],
         "legendgroup": "Gender=Male",
         "marker": {
          "color": "rgb(254,224,139)",
          "size": [
           1,
           17,
           1,
           7,
           1,
           4,
           1,
           2,
           4,
           1,
           3,
           1,
           1,
           4,
           7,
           1,
           1,
           1,
           2,
           2,
           1,
           1,
           1,
           4,
           2,
           1,
           1,
           1,
           1,
           1,
           1,
           5,
           4,
           1,
           1,
           1,
           4,
           4,
           1,
           7,
           5,
           1,
           1,
           1,
           1,
           13,
           2,
           1,
           1,
           1,
           1,
           11,
           6,
           3,
           2,
           1,
           1,
           1,
           7,
           7,
           3,
           2,
           1,
           1,
           14,
           4,
           1,
           1,
           1,
           6,
           3,
           2,
           8,
           3,
           1,
           1,
           5,
           3,
           2,
           1,
           8,
           4,
           1,
           1,
           4,
           2,
           1,
           1,
           1,
           4,
           3,
           2,
           1,
           1,
           4,
           2,
           1,
           5,
           2,
           1,
           9,
           2,
           1,
           1,
           1,
           1,
           1,
           2,
           1,
           1,
           4,
           2,
           1,
           2,
           1,
           1,
           2,
           1,
           2,
           2,
           1,
           5,
           1,
           1,
           2,
           1,
           2,
           1,
           1,
           1,
           1,
           2,
           1,
           2,
           1,
           1,
           1,
           1,
           1,
           1,
           1,
           1,
           1,
           1,
           1,
           1,
           1,
           1
          ],
          "sizemode": "area",
          "sizeref": 0.010625,
          "symbol": "circle"
         },
         "mode": "markers",
         "name": "Gender=Male",
         "showlegend": true,
         "type": "scatter",
         "uid": "9f936735-067f-4b09-9db6-d8b3a0cf1fab",
         "x": [
          "Spain",
          "Spain",
          "China",
          "Spain",
          "Nigeria",
          "Spain",
          "Nigeria",
          "Spain",
          "Spain",
          "Nigeria",
          "Spain",
          "France",
          "Brazil",
          "Spain",
          "Spain",
          "India",
          "England",
          "Unknown",
          "India",
          "Italy",
          "Spain",
          "Mexico",
          "United States of America",
          "Spain",
          "India",
          "France",
          "Russia",
          "United States of America",
          "England",
          "Indonesia",
          "Sudan",
          "India",
          "United States of America",
          "Spain",
          "England",
          "Albania",
          "United States of America",
          "India",
          "Spain",
          "United States of America",
          "India",
          "France",
          "Canada",
          "England",
          "Unknown",
          "United States of America",
          "India",
          "Canada",
          "Nigeria",
          "Italy",
          "Iceland",
          "India",
          "United States of America",
          "Spain",
          "Italy",
          "Slovakia",
          "England",
          "Unknown",
          "United States of America",
          "India",
          "Spain",
          "Italy",
          "France",
          "Unknown",
          "United States of America",
          "Spain",
          "Dominican Republic",
          "India",
          "Venezuela",
          "United States of America",
          "Spain",
          "India",
          "United States of America",
          "India",
          "Spain",
          "Canada",
          "United States of America",
          "India",
          "Spain",
          "England",
          "United States of America",
          "India",
          "Spain",
          "Canada",
          "United States of America",
          "India",
          "Spain",
          "France",
          "Brazil",
          "United States of America",
          "India",
          "Spain",
          "Argentina",
          "Unknown",
          "United States of America",
          "India",
          "Spain",
          "United States of America",
          "Spain",
          "India",
          "United States of America",
          "India",
          "United States of America",
          "India",
          "Italy",
          "Venezuela",
          "Macedonia",
          "United States of America",
          "Australia",
          "India",
          "United States of America",
          "India",
          "Spain",
          "United States of America",
          "Spain",
          "India",
          "India",
          "United States of America",
          "United States of America",
          "United States of America",
          "Spain",
          "United States of America",
          "Spain",
          "United States of America",
          "United States of America",
          "United States of America",
          "United States of America",
          "Spain",
          "United States of America",
          "India",
          "United States of America",
          "United States of America",
          "Spain",
          "United States of America",
          "Spain",
          "Spain",
          "Spain",
          "United States of America",
          "United States of America",
          "Spain",
          "Canada",
          "United States of America",
          "Spain",
          "United States of America",
          "United States of America",
          "United States of America",
          "Spain",
          "United States of America"
         ],
         "xaxis": "x",
         "y": [
          13,
          14,
          14,
          15,
          15,
          16,
          16,
          17,
          18,
          18,
          19,
          19,
          19,
          20,
          21,
          21,
          21,
          21,
          22,
          22,
          22,
          22,
          22,
          23,
          23,
          23,
          23,
          23,
          23,
          23,
          23,
          24,
          24,
          24,
          24,
          24,
          25,
          25,
          25,
          26,
          26,
          26,
          26,
          26,
          26,
          27,
          27,
          27,
          27,
          27,
          27,
          28,
          28,
          28,
          28,
          28,
          28,
          28,
          29,
          29,
          29,
          29,
          29,
          29,
          30,
          30,
          30,
          30,
          30,
          31,
          31,
          31,
          32,
          32,
          32,
          32,
          33,
          33,
          33,
          33,
          34,
          34,
          34,
          34,
          35,
          35,
          35,
          35,
          35,
          36,
          36,
          36,
          36,
          36,
          37,
          37,
          37,
          38,
          38,
          38,
          39,
          39,
          40,
          40,
          40,
          40,
          40,
          41,
          41,
          41,
          42,
          42,
          42,
          43,
          43,
          43,
          44,
          44,
          45,
          46,
          46,
          47,
          47,
          48,
          49,
          50,
          51,
          53,
          53,
          53,
          54,
          57,
          57,
          60,
          60,
          61,
          62,
          62,
          63,
          64,
          65,
          66,
          67,
          67,
          68,
          69,
          70,
          71
         ],
         "yaxis": "y"
        },
        {
         "hovertemplate": "<b>%{hovertext}</b><br><br>Gender=Other<br>Nationality=%{x}<br>Age=%{y}<br>counts=%{marker.size}<extra></extra>",
         "hovertext": [
          "Spain",
          "Spain",
          "Spain",
          "Canada",
          "Scotland",
          "Spain"
         ],
         "legendgroup": "Gender=Other",
         "marker": {
          "color": "rgb(244,109,67)",
          "size": [
           1,
           1,
           1,
           1,
           1,
           1
          ],
          "sizemode": "area",
          "sizeref": 0.010625,
          "symbol": "circle"
         },
         "mode": "markers",
         "name": "Gender=Other",
         "showlegend": true,
         "type": "scatter",
         "uid": "8035e81a-3d74-41a3-9cec-2a3f0a7ae705",
         "x": [
          "Spain",
          "Spain",
          "Spain",
          "Canada",
          "Scotland",
          "Spain"
         ],
         "xaxis": "x",
         "y": [
          14,
          20,
          21,
          22,
          28,
          36
         ],
         "yaxis": "y"
        }
       ],
       "layout": {
        "grid": {
         "xaxes": [
          "x"
         ],
         "xgap": 0.1,
         "xside": "bottom",
         "yaxes": [
          "y"
         ],
         "ygap": 0.1,
         "yside": "left"
        },
        "height": 600,
        "legend": {
         "tracegroupgap": 0
        },
        "margin": {
         "t": 60
        },
        "template": {
         "data": {
          "bar": [
           {
            "marker": {
             "line": {
              "color": "white",
              "width": 0.5
             }
            },
            "type": "bar"
           }
          ],
          "barpolar": [
           {
            "marker": {
             "line": {
              "color": "white",
              "width": 0.5
             }
            },
            "type": "barpolar"
           }
          ],
          "carpet": [
           {
            "aaxis": {
             "endlinecolor": "#2a3f5f",
             "gridcolor": "#C8D4E3",
             "linecolor": "#C8D4E3",
             "minorgridcolor": "#C8D4E3",
             "startlinecolor": "#2a3f5f"
            },
            "baxis": {
             "endlinecolor": "#2a3f5f",
             "gridcolor": "#C8D4E3",
             "linecolor": "#C8D4E3",
             "minorgridcolor": "#C8D4E3",
             "startlinecolor": "#2a3f5f"
            },
            "type": "carpet"
           }
          ],
          "choropleth": [
           {
            "colorbar": {
             "outlinewidth": 0,
             "ticks": ""
            },
            "type": "choropleth"
           }
          ],
          "contour": [
           {
            "autocolorscale": true,
            "colorbar": {
             "outlinewidth": 0,
             "ticks": ""
            },
            "type": "contour"
           }
          ],
          "contourcarpet": [
           {
            "colorbar": {
             "outlinewidth": 0,
             "ticks": ""
            },
            "type": "contourcarpet"
           }
          ],
          "heatmap": [
           {
            "autocolorscale": true,
            "colorbar": {
             "outlinewidth": 0,
             "ticks": ""
            },
            "type": "heatmap"
           }
          ],
          "heatmapgl": [
           {
            "colorbar": {
             "outlinewidth": 0,
             "ticks": ""
            },
            "type": "heatmapgl"
           }
          ],
          "histogram": [
           {
            "marker": {
             "colorbar": {
              "outlinewidth": 0,
              "ticks": ""
             }
            },
            "type": "histogram"
           }
          ],
          "histogram2d": [
           {
            "autocolorscale": true,
            "colorbar": {
             "outlinewidth": 0,
             "ticks": ""
            },
            "type": "histogram2d"
           }
          ],
          "histogram2dcontour": [
           {
            "autocolorscale": true,
            "colorbar": {
             "outlinewidth": 0,
             "ticks": ""
            },
            "type": "histogram2dcontour"
           }
          ],
          "mesh3d": [
           {
            "colorbar": {
             "outlinewidth": 0,
             "ticks": ""
            },
            "type": "mesh3d"
           }
          ],
          "parcoords": [
           {
            "line": {
             "colorbar": {
              "outlinewidth": 0,
              "ticks": ""
             }
            },
            "type": "parcoords"
           }
          ],
          "scatter": [
           {
            "marker": {
             "colorbar": {
              "outlinewidth": 0,
              "ticks": ""
             }
            },
            "type": "scatter"
           }
          ],
          "scatter3d": [
           {
            "marker": {
             "colorbar": {
              "outlinewidth": 0,
              "ticks": ""
             }
            },
            "type": "scatter3d"
           }
          ],
          "scattercarpet": [
           {
            "marker": {
             "colorbar": {
              "outlinewidth": 0,
              "ticks": ""
             }
            },
            "type": "scattercarpet"
           }
          ],
          "scattergeo": [
           {
            "marker": {
             "colorbar": {
              "outlinewidth": 0,
              "ticks": ""
             }
            },
            "type": "scattergeo"
           }
          ],
          "scattergl": [
           {
            "marker": {
             "colorbar": {
              "outlinewidth": 0,
              "ticks": ""
             }
            },
            "type": "scattergl"
           }
          ],
          "scattermapbox": [
           {
            "marker": {
             "colorbar": {
              "outlinewidth": 0,
              "ticks": ""
             }
            },
            "type": "scattermapbox"
           }
          ],
          "scatterpolar": [
           {
            "marker": {
             "colorbar": {
              "outlinewidth": 0,
              "ticks": ""
             }
            },
            "type": "scatterpolar"
           }
          ],
          "scatterpolargl": [
           {
            "marker": {
             "colorbar": {
              "outlinewidth": 0,
              "ticks": ""
             }
            },
            "type": "scatterpolargl"
           }
          ],
          "scatterternary": [
           {
            "marker": {
             "colorbar": {
              "outlinewidth": 0,
              "ticks": ""
             }
            },
            "type": "scatterternary"
           }
          ],
          "surface": [
           {
            "colorbar": {
             "outlinewidth": 0,
             "ticks": ""
            },
            "type": "surface"
           }
          ],
          "table": [
           {
            "cells": {
             "fill": {
              "color": "#EBF0F8"
             },
             "line": {
              "color": "white"
             }
            },
            "header": {
             "fill": {
              "color": "#C8D4E3"
             },
             "line": {
              "color": "white"
             }
            },
            "type": "table"
           }
          ]
         },
         "layout": {
          "annotationdefaults": {
           "arrowcolor": "#506784",
           "arrowhead": 0,
           "arrowwidth": 1
          },
          "colorscale": {
           "diverging": [
            [
             0,
             "#8e0152"
            ],
            [
             0.1,
             "#c51b7d"
            ],
            [
             0.2,
             "#de77ae"
            ],
            [
             0.3,
             "#f1b6da"
            ],
            [
             0.4,
             "#fde0ef"
            ],
            [
             0.5,
             "#f7f7f7"
            ],
            [
             0.6,
             "#e6f5d0"
            ],
            [
             0.7,
             "#b8e186"
            ],
            [
             0.8,
             "#7fbc41"
            ],
            [
             0.9,
             "#4d9221"
            ],
            [
             1,
             "#276419"
            ]
           ],
           "sequential": [
            [
             0,
             "#0508b8"
            ],
            [
             0.0893854748603352,
             "#1910d8"
            ],
            [
             0.1787709497206704,
             "#3c19f0"
            ],
            [
             0.2681564245810056,
             "#6b1cfb"
            ],
            [
             0.3575418994413408,
             "#981cfd"
            ],
            [
             0.44692737430167595,
             "#bf1cfd"
            ],
            [
             0.5363128491620112,
             "#dd2bfd"
            ],
            [
             0.6256983240223464,
             "#f246fe"
            ],
            [
             0.7150837988826816,
             "#fc67fd"
            ],
            [
             0.8044692737430168,
             "#fe88fc"
            ],
            [
             0.8938547486033519,
             "#fea5fd"
            ],
            [
             0.9832402234636871,
             "#febefe"
            ],
            [
             1,
             "#fec3fe"
            ]
           ],
           "sequentialminus": [
            [
             0,
             "#0508b8"
            ],
            [
             0.0893854748603352,
             "#1910d8"
            ],
            [
             0.1787709497206704,
             "#3c19f0"
            ],
            [
             0.2681564245810056,
             "#6b1cfb"
            ],
            [
             0.3575418994413408,
             "#981cfd"
            ],
            [
             0.44692737430167595,
             "#bf1cfd"
            ],
            [
             0.5363128491620112,
             "#dd2bfd"
            ],
            [
             0.6256983240223464,
             "#f246fe"
            ],
            [
             0.7150837988826816,
             "#fc67fd"
            ],
            [
             0.8044692737430168,
             "#fe88fc"
            ],
            [
             0.8938547486033519,
             "#fea5fd"
            ],
            [
             0.9832402234636871,
             "#febefe"
            ],
            [
             1,
             "#fec3fe"
            ]
           ]
          },
          "colorway": [
           "#636efa",
           "#EF553B",
           "#00cc96",
           "#ab63fa",
           "#19d3f3",
           "#e763fa",
           "#FECB52",
           "#FFA15A",
           "#FF6692",
           "#B6E880"
          ],
          "font": {
           "color": "#2a3f5f"
          },
          "geo": {
           "bgcolor": "white",
           "lakecolor": "white",
           "landcolor": "white",
           "showlakes": true,
           "showland": true,
           "subunitcolor": "#C8D4E3"
          },
          "hovermode": "closest",
          "mapbox": {
           "style": "light"
          },
          "paper_bgcolor": "white",
          "plot_bgcolor": "white",
          "polar": {
           "angularaxis": {
            "gridcolor": "#EBF0F8",
            "linecolor": "#EBF0F8",
            "ticks": ""
           },
           "bgcolor": "white",
           "radialaxis": {
            "gridcolor": "#EBF0F8",
            "linecolor": "#EBF0F8",
            "ticks": ""
           }
          },
          "scene": {
           "xaxis": {
            "backgroundcolor": "white",
            "gridcolor": "#DFE8F3",
            "gridwidth": 2,
            "linecolor": "#EBF0F8",
            "showbackground": true,
            "ticks": "",
            "zerolinecolor": "#EBF0F8"
           },
           "yaxis": {
            "backgroundcolor": "white",
            "gridcolor": "#DFE8F3",
            "gridwidth": 2,
            "linecolor": "#EBF0F8",
            "showbackground": true,
            "ticks": "",
            "zerolinecolor": "#EBF0F8"
           },
           "zaxis": {
            "backgroundcolor": "white",
            "gridcolor": "#DFE8F3",
            "gridwidth": 2,
            "linecolor": "#EBF0F8",
            "showbackground": true,
            "ticks": "",
            "zerolinecolor": "#EBF0F8"
           }
          },
          "shapedefaults": {
           "fillcolor": "#506784",
           "line": {
            "width": 0
           },
           "opacity": 0.4
          },
          "ternary": {
           "aaxis": {
            "gridcolor": "#DFE8F3",
            "linecolor": "#A2B1C6",
            "ticks": ""
           },
           "baxis": {
            "gridcolor": "#DFE8F3",
            "linecolor": "#A2B1C6",
            "ticks": ""
           },
           "bgcolor": "white",
           "caxis": {
            "gridcolor": "#DFE8F3",
            "linecolor": "#A2B1C6",
            "ticks": ""
           }
          },
          "title": {
           "x": 0.05
          },
          "xaxis": {
           "automargin": true,
           "gridcolor": "#EBF0F8",
           "linecolor": "#EBF0F8",
           "ticks": "",
           "zerolinecolor": "#EBF0F8",
           "zerolinewidth": 2
          },
          "yaxis": {
           "automargin": true,
           "gridcolor": "#EBF0F8",
           "linecolor": "#EBF0F8",
           "ticks": "",
           "zerolinecolor": "#EBF0F8",
           "zerolinewidth": 2
          }
         }
        },
        "xaxis": {
         "title": {
          "text": "Nationality"
         }
        },
        "yaxis": {
         "title": {
          "text": "Age"
         }
        }
       }
      },
      "text/html": [
       "<div id=\"a20feb2d-3f5e-4850-b050-e80f5adb6334\" style=\"height: 600px; width: 100%;\" class=\"plotly-graph-div\"></div><script type=\"text/javascript\">require([\"plotly\"], function(Plotly) { window.PLOTLYENV=window.PLOTLYENV || {};window.PLOTLYENV.BASE_URL=\"https://plot.ly\";\n",
       "if (document.getElementById(\"a20feb2d-3f5e-4850-b050-e80f5adb6334\")) {\n",
       "    Plotly.newPlot(\"a20feb2d-3f5e-4850-b050-e80f5adb6334\", [{\"hovertemplate\": \"<b>%{hovertext}</b><br><br>Gender=Female<br>Nationality=%{x}<br>Age=%{y}<br>counts=%{marker.size}<extra></extra>\", \"hovertext\": [\"Spain\", \"Spain\", \"Spain\", \"Spain\", \"Spain\", \"Spain\", \"France\", \"United States of America\", \"France\", \"Spain\", \"France\", \"Unknown\", \"Spain\", \"Spain\", \"France\", \"United States of America\", \"Canada\", \"Russia\", \"United States of America\", \"Spain\", \"France\", \"Italy\", \"Spain\", \"United States of America\", \"Cuba\", \"Unknown\", \"India\", \"United States of America\", \"Spain\", \"Canada\", \"Ukraine\", \"Venezuela\", \"United States of America\", \"France\", \"India\", \"Unknown\", \"United States of America\", \"Spain\", \"Unknown\", \"India\", \"Italy\", \"England\", \"Pakistan\", \"United States of America\", \"Spain\", \"India\", \"England\", \"New Zealand\", \"Unknown\", \"Spain\", \"Unknown\", \"United States of America\", \"United States of America\", \"India\", \"Spain\", \"United States of America\", \"India\", \"Spain\", \"Spain\", \"India\", \"United States of America\", \"Unknown\", \"Spain\", \"India\", \"Unknown\", \"Dominican Republic\", \"Brazil\", \"United States of America\", \"Venezuela\", \"United States of America\", \"India\", \"Austria\", \"Unknown\", \"United States of America\", \"Spain\", \"India\", \"United States of America\", \"Spain\", \"India\", \"Unknown\", \"United States of America\", \"Spain\", \"Unknown\", \"United States of America\", \"India\", \"Spain\", \"Unknown\", \"United States of America\", \"India\", \"Spain\", \"Italy\", \"Ireland\", \"Spain\", \"United States of America\", \"Unknown\", \"United States of America\", \"India\", \"Unknown\", \"Spain\", \"United States of America\", \"United States of America\", \"Spain\", \"Colombia\", \"Unknown\", \"United States of America\", \"Spain\", \"Unknown\", \"The Bahamas\", \"United States of America\", \"Spain\", \"United States of America\", \"Spain\", \"England\", \"United States of America\", \"Spain\", \"Chile\", \"Unknown\", \"United States of America\", \"United States of America\", \"Spain\", \"United States of America\", \"United States of America\", \"Spain\", \"Unknown\", \"United States of America\", \"Spain\", \"Spain\", \"Unknown\", \"Spain\", \"United States of America\", \"Ireland\", \"Unknown\", \"United States of America\", \"Spain\", \"United States of America\", \"Unknown\", \"United States of America\", \"Canada\", \"Germany\", \"Unknown\", \"Spain\", \"United States of America\", \"United States of America\", \"United States of America\", \"United States of America\", \"Spain\", \"United States of America\", \"Spain\", \"United States of America\", \"Unknown\", \"Spain\", \"United States of America\", \"United States of America\", \"United States of America\", \"England\", \"Unknown\", \"United States of America\", \"United States of America\", \"United States of America\", \"United States of America\"], \"legendgroup\": \"Gender=Female\", \"marker\": {\"color\": \"rgb(102,194,165)\", \"size\": [4, 9, 10, 5, 3, 4, 1, 1, 5, 2, 3, 2, 1, 6, 3, 2, 1, 1, 4, 2, 1, 1, 3, 3, 1, 1, 17, 4, 3, 1, 1, 1, 9, 1, 1, 1, 7, 2, 2, 1, 1, 1, 1, 12, 3, 1, 1, 1, 1, 6, 5, 2, 5, 5, 1, 6, 6, 5, 6, 3, 2, 2, 3, 2, 2, 1, 1, 1, 1, 6, 5, 1, 1, 6, 4, 2, 11, 6, 1, 1, 3, 1, 1, 6, 3, 1, 1, 6, 2, 1, 1, 1, 2, 1, 1, 2, 1, 1, 3, 2, 2, 1, 1, 1, 3, 2, 2, 1, 3, 2, 4, 1, 1, 6, 4, 1, 1, 3, 3, 1, 2, 3, 1, 1, 3, 1, 1, 1, 2, 1, 1, 1, 3, 3, 3, 1, 2, 1, 1, 1, 2, 1, 1, 2, 2, 1, 1, 3, 1, 1, 1, 1, 1, 1, 1, 1, 1, 1, 1, 2], \"sizemode\": \"area\", \"sizeref\": 0.010625, \"symbol\": \"circle\"}, \"mode\": \"markers\", \"name\": \"Gender=Female\", \"showlegend\": true, \"x\": [\"Spain\", \"Spain\", \"Spain\", \"Spain\", \"Spain\", \"Spain\", \"France\", \"United States of America\", \"France\", \"Spain\", \"France\", \"Unknown\", \"Spain\", \"Spain\", \"France\", \"United States of America\", \"Canada\", \"Russia\", \"United States of America\", \"Spain\", \"France\", \"Italy\", \"Spain\", \"United States of America\", \"Cuba\", \"Unknown\", \"India\", \"United States of America\", \"Spain\", \"Canada\", \"Ukraine\", \"Venezuela\", \"United States of America\", \"France\", \"India\", \"Unknown\", \"United States of America\", \"Spain\", \"Unknown\", \"India\", \"Italy\", \"England\", \"Pakistan\", \"United States of America\", \"Spain\", \"India\", \"England\", \"New Zealand\", \"Unknown\", \"Spain\", \"Unknown\", \"United States of America\", \"United States of America\", \"India\", \"Spain\", \"United States of America\", \"India\", \"Spain\", \"Spain\", \"India\", \"United States of America\", \"Unknown\", \"Spain\", \"India\", \"Unknown\", \"Dominican Republic\", \"Brazil\", \"United States of America\", \"Venezuela\", \"United States of America\", \"India\", \"Austria\", \"Unknown\", \"United States of America\", \"Spain\", \"India\", \"United States of America\", \"Spain\", \"India\", \"Unknown\", \"United States of America\", \"Spain\", \"Unknown\", \"United States of America\", \"India\", \"Spain\", \"Unknown\", \"United States of America\", \"India\", \"Spain\", \"Italy\", \"Ireland\", \"Spain\", \"United States of America\", \"Unknown\", \"United States of America\", \"India\", \"Unknown\", \"Spain\", \"United States of America\", \"United States of America\", \"Spain\", \"Colombia\", \"Unknown\", \"United States of America\", \"Spain\", \"Unknown\", \"The Bahamas\", \"United States of America\", \"Spain\", \"United States of America\", \"Spain\", \"England\", \"United States of America\", \"Spain\", \"Chile\", \"Unknown\", \"United States of America\", \"United States of America\", \"Spain\", \"United States of America\", \"United States of America\", \"Spain\", \"Unknown\", \"United States of America\", \"Spain\", \"Spain\", \"Unknown\", \"Spain\", \"United States of America\", \"Ireland\", \"Unknown\", \"United States of America\", \"Spain\", \"United States of America\", \"Unknown\", \"United States of America\", \"Canada\", \"Germany\", \"Unknown\", \"Spain\", \"United States of America\", \"United States of America\", \"United States of America\", \"United States of America\", \"Spain\", \"United States of America\", \"Spain\", \"United States of America\", \"Unknown\", \"Spain\", \"United States of America\", \"United States of America\", \"United States of America\", \"England\", \"Unknown\", \"United States of America\", \"United States of America\", \"United States of America\", \"United States of America\"], \"xaxis\": \"x\", \"y\": [13, 14, 15, 16, 17, 18, 18, 18, 19, 19, 20, 20, 20, 21, 21, 21, 21, 21, 22, 22, 22, 22, 23, 23, 23, 23, 24, 24, 24, 24, 24, 24, 25, 25, 25, 25, 26, 26, 26, 26, 26, 26, 26, 27, 27, 27, 27, 27, 27, 28, 28, 28, 29, 29, 29, 30, 30, 30, 31, 31, 31, 31, 32, 32, 32, 32, 32, 32, 32, 33, 33, 33, 33, 34, 34, 34, 35, 35, 35, 35, 36, 36, 36, 37, 37, 37, 37, 38, 38, 38, 38, 38, 39, 39, 39, 40, 40, 40, 41, 41, 42, 42, 42, 42, 43, 43, 43, 43, 44, 44, 45, 45, 45, 46, 46, 46, 46, 47, 48, 48, 49, 50, 50, 50, 51, 51, 52, 52, 53, 53, 53, 53, 54, 55, 55, 55, 56, 56, 56, 56, 57, 57, 58, 59, 60, 61, 61, 62, 62, 62, 64, 64, 65, 66, 67, 67, 69, 73, 78, 81], \"yaxis\": \"y\", \"type\": \"scatter\", \"uid\": \"502d8d73-0dea-4c7b-9cb7-b6897194fedc\"}, {\"hovertemplate\": \"<b>%{hovertext}</b><br><br>Gender=Male<br>Nationality=%{x}<br>Age=%{y}<br>counts=%{marker.size}<extra></extra>\", \"hovertext\": [\"Spain\", \"Spain\", \"China\", \"Spain\", \"Nigeria\", \"Spain\", \"Nigeria\", \"Spain\", \"Spain\", \"Nigeria\", \"Spain\", \"France\", \"Brazil\", \"Spain\", \"Spain\", \"India\", \"England\", \"Unknown\", \"India\", \"Italy\", \"Spain\", \"Mexico\", \"United States of America\", \"Spain\", \"India\", \"France\", \"Russia\", \"United States of America\", \"England\", \"Indonesia\", \"Sudan\", \"India\", \"United States of America\", \"Spain\", \"England\", \"Albania\", \"United States of America\", \"India\", \"Spain\", \"United States of America\", \"India\", \"France\", \"Canada\", \"England\", \"Unknown\", \"United States of America\", \"India\", \"Canada\", \"Nigeria\", \"Italy\", \"Iceland\", \"India\", \"United States of America\", \"Spain\", \"Italy\", \"Slovakia\", \"England\", \"Unknown\", \"United States of America\", \"India\", \"Spain\", \"Italy\", \"France\", \"Unknown\", \"United States of America\", \"Spain\", \"Dominican Republic\", \"India\", \"Venezuela\", \"United States of America\", \"Spain\", \"India\", \"United States of America\", \"India\", \"Spain\", \"Canada\", \"United States of America\", \"India\", \"Spain\", \"England\", \"United States of America\", \"India\", \"Spain\", \"Canada\", \"United States of America\", \"India\", \"Spain\", \"France\", \"Brazil\", \"United States of America\", \"India\", \"Spain\", \"Argentina\", \"Unknown\", \"United States of America\", \"India\", \"Spain\", \"United States of America\", \"Spain\", \"India\", \"United States of America\", \"India\", \"United States of America\", \"India\", \"Italy\", \"Venezuela\", \"Macedonia\", \"United States of America\", \"Australia\", \"India\", \"United States of America\", \"India\", \"Spain\", \"United States of America\", \"Spain\", \"India\", \"India\", \"United States of America\", \"United States of America\", \"United States of America\", \"Spain\", \"United States of America\", \"Spain\", \"United States of America\", \"United States of America\", \"United States of America\", \"United States of America\", \"Spain\", \"United States of America\", \"India\", \"United States of America\", \"United States of America\", \"Spain\", \"United States of America\", \"Spain\", \"Spain\", \"Spain\", \"United States of America\", \"United States of America\", \"Spain\", \"Canada\", \"United States of America\", \"Spain\", \"United States of America\", \"United States of America\", \"United States of America\", \"Spain\", \"United States of America\"], \"legendgroup\": \"Gender=Male\", \"marker\": {\"color\": \"rgb(254,224,139)\", \"size\": [1, 17, 1, 7, 1, 4, 1, 2, 4, 1, 3, 1, 1, 4, 7, 1, 1, 1, 2, 2, 1, 1, 1, 4, 2, 1, 1, 1, 1, 1, 1, 5, 4, 1, 1, 1, 4, 4, 1, 7, 5, 1, 1, 1, 1, 13, 2, 1, 1, 1, 1, 11, 6, 3, 2, 1, 1, 1, 7, 7, 3, 2, 1, 1, 14, 4, 1, 1, 1, 6, 3, 2, 8, 3, 1, 1, 5, 3, 2, 1, 8, 4, 1, 1, 4, 2, 1, 1, 1, 4, 3, 2, 1, 1, 4, 2, 1, 5, 2, 1, 9, 2, 1, 1, 1, 1, 1, 2, 1, 1, 4, 2, 1, 2, 1, 1, 2, 1, 2, 2, 1, 5, 1, 1, 2, 1, 2, 1, 1, 1, 1, 2, 1, 2, 1, 1, 1, 1, 1, 1, 1, 1, 1, 1, 1, 1, 1, 1], \"sizemode\": \"area\", \"sizeref\": 0.010625, \"symbol\": \"circle\"}, \"mode\": \"markers\", \"name\": \"Gender=Male\", \"showlegend\": true, \"x\": [\"Spain\", \"Spain\", \"China\", \"Spain\", \"Nigeria\", \"Spain\", \"Nigeria\", \"Spain\", \"Spain\", \"Nigeria\", \"Spain\", \"France\", \"Brazil\", \"Spain\", \"Spain\", \"India\", \"England\", \"Unknown\", \"India\", \"Italy\", \"Spain\", \"Mexico\", \"United States of America\", \"Spain\", \"India\", \"France\", \"Russia\", \"United States of America\", \"England\", \"Indonesia\", \"Sudan\", \"India\", \"United States of America\", \"Spain\", \"England\", \"Albania\", \"United States of America\", \"India\", \"Spain\", \"United States of America\", \"India\", \"France\", \"Canada\", \"England\", \"Unknown\", \"United States of America\", \"India\", \"Canada\", \"Nigeria\", \"Italy\", \"Iceland\", \"India\", \"United States of America\", \"Spain\", \"Italy\", \"Slovakia\", \"England\", \"Unknown\", \"United States of America\", \"India\", \"Spain\", \"Italy\", \"France\", \"Unknown\", \"United States of America\", \"Spain\", \"Dominican Republic\", \"India\", \"Venezuela\", \"United States of America\", \"Spain\", \"India\", \"United States of America\", \"India\", \"Spain\", \"Canada\", \"United States of America\", \"India\", \"Spain\", \"England\", \"United States of America\", \"India\", \"Spain\", \"Canada\", \"United States of America\", \"India\", \"Spain\", \"France\", \"Brazil\", \"United States of America\", \"India\", \"Spain\", \"Argentina\", \"Unknown\", \"United States of America\", \"India\", \"Spain\", \"United States of America\", \"Spain\", \"India\", \"United States of America\", \"India\", \"United States of America\", \"India\", \"Italy\", \"Venezuela\", \"Macedonia\", \"United States of America\", \"Australia\", \"India\", \"United States of America\", \"India\", \"Spain\", \"United States of America\", \"Spain\", \"India\", \"India\", \"United States of America\", \"United States of America\", \"United States of America\", \"Spain\", \"United States of America\", \"Spain\", \"United States of America\", \"United States of America\", \"United States of America\", \"United States of America\", \"Spain\", \"United States of America\", \"India\", \"United States of America\", \"United States of America\", \"Spain\", \"United States of America\", \"Spain\", \"Spain\", \"Spain\", \"United States of America\", \"United States of America\", \"Spain\", \"Canada\", \"United States of America\", \"Spain\", \"United States of America\", \"United States of America\", \"United States of America\", \"Spain\", \"United States of America\"], \"xaxis\": \"x\", \"y\": [13, 14, 14, 15, 15, 16, 16, 17, 18, 18, 19, 19, 19, 20, 21, 21, 21, 21, 22, 22, 22, 22, 22, 23, 23, 23, 23, 23, 23, 23, 23, 24, 24, 24, 24, 24, 25, 25, 25, 26, 26, 26, 26, 26, 26, 27, 27, 27, 27, 27, 27, 28, 28, 28, 28, 28, 28, 28, 29, 29, 29, 29, 29, 29, 30, 30, 30, 30, 30, 31, 31, 31, 32, 32, 32, 32, 33, 33, 33, 33, 34, 34, 34, 34, 35, 35, 35, 35, 35, 36, 36, 36, 36, 36, 37, 37, 37, 38, 38, 38, 39, 39, 40, 40, 40, 40, 40, 41, 41, 41, 42, 42, 42, 43, 43, 43, 44, 44, 45, 46, 46, 47, 47, 48, 49, 50, 51, 53, 53, 53, 54, 57, 57, 60, 60, 61, 62, 62, 63, 64, 65, 66, 67, 67, 68, 69, 70, 71], \"yaxis\": \"y\", \"type\": \"scatter\", \"uid\": \"9f936735-067f-4b09-9db6-d8b3a0cf1fab\"}, {\"hovertemplate\": \"<b>%{hovertext}</b><br><br>Gender=Other<br>Nationality=%{x}<br>Age=%{y}<br>counts=%{marker.size}<extra></extra>\", \"hovertext\": [\"Spain\", \"Spain\", \"Spain\", \"Canada\", \"Scotland\", \"Spain\"], \"legendgroup\": \"Gender=Other\", \"marker\": {\"color\": \"rgb(244,109,67)\", \"size\": [1, 1, 1, 1, 1, 1], \"sizemode\": \"area\", \"sizeref\": 0.010625, \"symbol\": \"circle\"}, \"mode\": \"markers\", \"name\": \"Gender=Other\", \"showlegend\": true, \"x\": [\"Spain\", \"Spain\", \"Spain\", \"Canada\", \"Scotland\", \"Spain\"], \"xaxis\": \"x\", \"y\": [14, 20, 21, 22, 28, 36], \"yaxis\": \"y\", \"type\": \"scatter\", \"uid\": \"8035e81a-3d74-41a3-9cec-2a3f0a7ae705\"}], {\"height\": 600, \"legend\": {\"tracegroupgap\": 0}, \"margin\": {\"t\": 60}, \"template\": {\"data\": {\"barpolar\": [{\"marker\": {\"line\": {\"color\": \"white\", \"width\": 0.5}}, \"type\": \"barpolar\"}], \"bar\": [{\"marker\": {\"line\": {\"color\": \"white\", \"width\": 0.5}}, \"type\": \"bar\"}], \"carpet\": [{\"aaxis\": {\"endlinecolor\": \"#2a3f5f\", \"gridcolor\": \"#C8D4E3\", \"linecolor\": \"#C8D4E3\", \"minorgridcolor\": \"#C8D4E3\", \"startlinecolor\": \"#2a3f5f\"}, \"baxis\": {\"endlinecolor\": \"#2a3f5f\", \"gridcolor\": \"#C8D4E3\", \"linecolor\": \"#C8D4E3\", \"minorgridcolor\": \"#C8D4E3\", \"startlinecolor\": \"#2a3f5f\"}, \"type\": \"carpet\"}], \"choropleth\": [{\"colorbar\": {\"outlinewidth\": 0, \"ticks\": \"\"}, \"type\": \"choropleth\"}], \"contourcarpet\": [{\"colorbar\": {\"outlinewidth\": 0, \"ticks\": \"\"}, \"type\": \"contourcarpet\"}], \"contour\": [{\"autocolorscale\": true, \"colorbar\": {\"outlinewidth\": 0, \"ticks\": \"\"}, \"type\": \"contour\"}], \"heatmapgl\": [{\"colorbar\": {\"outlinewidth\": 0, \"ticks\": \"\"}, \"type\": \"heatmapgl\"}], \"heatmap\": [{\"autocolorscale\": true, \"colorbar\": {\"outlinewidth\": 0, \"ticks\": \"\"}, \"type\": \"heatmap\"}], \"histogram2dcontour\": [{\"autocolorscale\": true, \"colorbar\": {\"outlinewidth\": 0, \"ticks\": \"\"}, \"type\": \"histogram2dcontour\"}], \"histogram2d\": [{\"autocolorscale\": true, \"colorbar\": {\"outlinewidth\": 0, \"ticks\": \"\"}, \"type\": \"histogram2d\"}], \"histogram\": [{\"marker\": {\"colorbar\": {\"outlinewidth\": 0, \"ticks\": \"\"}}, \"type\": \"histogram\"}], \"mesh3d\": [{\"colorbar\": {\"outlinewidth\": 0, \"ticks\": \"\"}, \"type\": \"mesh3d\"}], \"parcoords\": [{\"line\": {\"colorbar\": {\"outlinewidth\": 0, \"ticks\": \"\"}}, \"type\": \"parcoords\"}], \"scatter3d\": [{\"marker\": {\"colorbar\": {\"outlinewidth\": 0, \"ticks\": \"\"}}, \"type\": \"scatter3d\"}], \"scattercarpet\": [{\"marker\": {\"colorbar\": {\"outlinewidth\": 0, \"ticks\": \"\"}}, \"type\": \"scattercarpet\"}], \"scattergeo\": [{\"marker\": {\"colorbar\": {\"outlinewidth\": 0, \"ticks\": \"\"}}, \"type\": \"scattergeo\"}], \"scattergl\": [{\"marker\": {\"colorbar\": {\"outlinewidth\": 0, \"ticks\": \"\"}}, \"type\": \"scattergl\"}], \"scattermapbox\": [{\"marker\": {\"colorbar\": {\"outlinewidth\": 0, \"ticks\": \"\"}}, \"type\": \"scattermapbox\"}], \"scatterpolargl\": [{\"marker\": {\"colorbar\": {\"outlinewidth\": 0, \"ticks\": \"\"}}, \"type\": \"scatterpolargl\"}], \"scatterpolar\": [{\"marker\": {\"colorbar\": {\"outlinewidth\": 0, \"ticks\": \"\"}}, \"type\": \"scatterpolar\"}], \"scatter\": [{\"marker\": {\"colorbar\": {\"outlinewidth\": 0, \"ticks\": \"\"}}, \"type\": \"scatter\"}], \"scatterternary\": [{\"marker\": {\"colorbar\": {\"outlinewidth\": 0, \"ticks\": \"\"}}, \"type\": \"scatterternary\"}], \"surface\": [{\"colorbar\": {\"outlinewidth\": 0, \"ticks\": \"\"}, \"type\": \"surface\"}], \"table\": [{\"cells\": {\"fill\": {\"color\": \"#EBF0F8\"}, \"line\": {\"color\": \"white\"}}, \"header\": {\"fill\": {\"color\": \"#C8D4E3\"}, \"line\": {\"color\": \"white\"}}, \"type\": \"table\"}]}, \"layout\": {\"annotationdefaults\": {\"arrowcolor\": \"#506784\", \"arrowhead\": 0, \"arrowwidth\": 1}, \"colorscale\": {\"diverging\": [[0, \"#8e0152\"], [0.1, \"#c51b7d\"], [0.2, \"#de77ae\"], [0.3, \"#f1b6da\"], [0.4, \"#fde0ef\"], [0.5, \"#f7f7f7\"], [0.6, \"#e6f5d0\"], [0.7, \"#b8e186\"], [0.8, \"#7fbc41\"], [0.9, \"#4d9221\"], [1, \"#276419\"]], \"sequential\": [[0.0, \"#0508b8\"], [0.0893854748603352, \"#1910d8\"], [0.1787709497206704, \"#3c19f0\"], [0.2681564245810056, \"#6b1cfb\"], [0.3575418994413408, \"#981cfd\"], [0.44692737430167595, \"#bf1cfd\"], [0.5363128491620112, \"#dd2bfd\"], [0.6256983240223464, \"#f246fe\"], [0.7150837988826816, \"#fc67fd\"], [0.8044692737430168, \"#fe88fc\"], [0.8938547486033519, \"#fea5fd\"], [0.9832402234636871, \"#febefe\"], [1.0, \"#fec3fe\"]], \"sequentialminus\": [[0.0, \"#0508b8\"], [0.0893854748603352, \"#1910d8\"], [0.1787709497206704, \"#3c19f0\"], [0.2681564245810056, \"#6b1cfb\"], [0.3575418994413408, \"#981cfd\"], [0.44692737430167595, \"#bf1cfd\"], [0.5363128491620112, \"#dd2bfd\"], [0.6256983240223464, \"#f246fe\"], [0.7150837988826816, \"#fc67fd\"], [0.8044692737430168, \"#fe88fc\"], [0.8938547486033519, \"#fea5fd\"], [0.9832402234636871, \"#febefe\"], [1.0, \"#fec3fe\"]]}, \"colorway\": [\"#636efa\", \"#EF553B\", \"#00cc96\", \"#ab63fa\", \"#19d3f3\", \"#e763fa\", \"#FECB52\", \"#FFA15A\", \"#FF6692\", \"#B6E880\"], \"font\": {\"color\": \"#2a3f5f\"}, \"geo\": {\"bgcolor\": \"white\", \"lakecolor\": \"white\", \"landcolor\": \"white\", \"showlakes\": true, \"showland\": true, \"subunitcolor\": \"#C8D4E3\"}, \"hovermode\": \"closest\", \"mapbox\": {\"style\": \"light\"}, \"paper_bgcolor\": \"white\", \"plot_bgcolor\": \"white\", \"polar\": {\"angularaxis\": {\"gridcolor\": \"#EBF0F8\", \"linecolor\": \"#EBF0F8\", \"ticks\": \"\"}, \"bgcolor\": \"white\", \"radialaxis\": {\"gridcolor\": \"#EBF0F8\", \"linecolor\": \"#EBF0F8\", \"ticks\": \"\"}}, \"scene\": {\"xaxis\": {\"backgroundcolor\": \"white\", \"gridcolor\": \"#DFE8F3\", \"gridwidth\": 2, \"linecolor\": \"#EBF0F8\", \"showbackground\": true, \"ticks\": \"\", \"zerolinecolor\": \"#EBF0F8\"}, \"yaxis\": {\"backgroundcolor\": \"white\", \"gridcolor\": \"#DFE8F3\", \"gridwidth\": 2, \"linecolor\": \"#EBF0F8\", \"showbackground\": true, \"ticks\": \"\", \"zerolinecolor\": \"#EBF0F8\"}, \"zaxis\": {\"backgroundcolor\": \"white\", \"gridcolor\": \"#DFE8F3\", \"gridwidth\": 2, \"linecolor\": \"#EBF0F8\", \"showbackground\": true, \"ticks\": \"\", \"zerolinecolor\": \"#EBF0F8\"}}, \"shapedefaults\": {\"fillcolor\": \"#506784\", \"line\": {\"width\": 0}, \"opacity\": 0.4}, \"ternary\": {\"aaxis\": {\"gridcolor\": \"#DFE8F3\", \"linecolor\": \"#A2B1C6\", \"ticks\": \"\"}, \"baxis\": {\"gridcolor\": \"#DFE8F3\", \"linecolor\": \"#A2B1C6\", \"ticks\": \"\"}, \"bgcolor\": \"white\", \"caxis\": {\"gridcolor\": \"#DFE8F3\", \"linecolor\": \"#A2B1C6\", \"ticks\": \"\"}}, \"title\": {\"x\": 0.05}, \"xaxis\": {\"automargin\": true, \"gridcolor\": \"#EBF0F8\", \"linecolor\": \"#EBF0F8\", \"ticks\": \"\", \"zerolinecolor\": \"#EBF0F8\", \"zerolinewidth\": 2}, \"yaxis\": {\"automargin\": true, \"gridcolor\": \"#EBF0F8\", \"linecolor\": \"#EBF0F8\", \"ticks\": \"\", \"zerolinecolor\": \"#EBF0F8\", \"zerolinewidth\": 2}}}, \"grid\": {\"xaxes\": [\"x\"], \"yaxes\": [\"y\"], \"xgap\": 0.1, \"ygap\": 0.1, \"xside\": \"bottom\", \"yside\": \"left\"}, \"xaxis\": {\"title\": {\"text\": \"Nationality\"}}, \"yaxis\": {\"title\": {\"text\": \"Age\"}}}, {\"showLink\": false, \"linkText\": \"Export to plot.ly\", \"plotlyServerURL\": \"https://plot.ly\"}); \n",
       "}\n",
       "});</script><script type=\"text/javascript\">window.addEventListener(\"resize\", function(){if (document.getElementById(\"a20feb2d-3f5e-4850-b050-e80f5adb6334\")) {window._Plotly.Plots.resize(document.getElementById(\"a20feb2d-3f5e-4850-b050-e80f5adb6334\"));};})</script>"
      ],
      "text/vnd.plotly.v1+html": [
       "<div id=\"a20feb2d-3f5e-4850-b050-e80f5adb6334\" style=\"height: 600px; width: 100%;\" class=\"plotly-graph-div\"></div><script type=\"text/javascript\">require([\"plotly\"], function(Plotly) { window.PLOTLYENV=window.PLOTLYENV || {};window.PLOTLYENV.BASE_URL=\"https://plot.ly\";\n",
       "if (document.getElementById(\"a20feb2d-3f5e-4850-b050-e80f5adb6334\")) {\n",
       "    Plotly.newPlot(\"a20feb2d-3f5e-4850-b050-e80f5adb6334\", [{\"hovertemplate\": \"<b>%{hovertext}</b><br><br>Gender=Female<br>Nationality=%{x}<br>Age=%{y}<br>counts=%{marker.size}<extra></extra>\", \"hovertext\": [\"Spain\", \"Spain\", \"Spain\", \"Spain\", \"Spain\", \"Spain\", \"France\", \"United States of America\", \"France\", \"Spain\", \"France\", \"Unknown\", \"Spain\", \"Spain\", \"France\", \"United States of America\", \"Canada\", \"Russia\", \"United States of America\", \"Spain\", \"France\", \"Italy\", \"Spain\", \"United States of America\", \"Cuba\", \"Unknown\", \"India\", \"United States of America\", \"Spain\", \"Canada\", \"Ukraine\", \"Venezuela\", \"United States of America\", \"France\", \"India\", \"Unknown\", \"United States of America\", \"Spain\", \"Unknown\", \"India\", \"Italy\", \"England\", \"Pakistan\", \"United States of America\", \"Spain\", \"India\", \"England\", \"New Zealand\", \"Unknown\", \"Spain\", \"Unknown\", \"United States of America\", \"United States of America\", \"India\", \"Spain\", \"United States of America\", \"India\", \"Spain\", \"Spain\", \"India\", \"United States of America\", \"Unknown\", \"Spain\", \"India\", \"Unknown\", \"Dominican Republic\", \"Brazil\", \"United States of America\", \"Venezuela\", \"United States of America\", \"India\", \"Austria\", \"Unknown\", \"United States of America\", \"Spain\", \"India\", \"United States of America\", \"Spain\", \"India\", \"Unknown\", \"United States of America\", \"Spain\", \"Unknown\", \"United States of America\", \"India\", \"Spain\", \"Unknown\", \"United States of America\", \"India\", \"Spain\", \"Italy\", \"Ireland\", \"Spain\", \"United States of America\", \"Unknown\", \"United States of America\", \"India\", \"Unknown\", \"Spain\", \"United States of America\", \"United States of America\", \"Spain\", \"Colombia\", \"Unknown\", \"United States of America\", \"Spain\", \"Unknown\", \"The Bahamas\", \"United States of America\", \"Spain\", \"United States of America\", \"Spain\", \"England\", \"United States of America\", \"Spain\", \"Chile\", \"Unknown\", \"United States of America\", \"United States of America\", \"Spain\", \"United States of America\", \"United States of America\", \"Spain\", \"Unknown\", \"United States of America\", \"Spain\", \"Spain\", \"Unknown\", \"Spain\", \"United States of America\", \"Ireland\", \"Unknown\", \"United States of America\", \"Spain\", \"United States of America\", \"Unknown\", \"United States of America\", \"Canada\", \"Germany\", \"Unknown\", \"Spain\", \"United States of America\", \"United States of America\", \"United States of America\", \"United States of America\", \"Spain\", \"United States of America\", \"Spain\", \"United States of America\", \"Unknown\", \"Spain\", \"United States of America\", \"United States of America\", \"United States of America\", \"England\", \"Unknown\", \"United States of America\", \"United States of America\", \"United States of America\", \"United States of America\"], \"legendgroup\": \"Gender=Female\", \"marker\": {\"color\": \"rgb(102,194,165)\", \"size\": [4, 9, 10, 5, 3, 4, 1, 1, 5, 2, 3, 2, 1, 6, 3, 2, 1, 1, 4, 2, 1, 1, 3, 3, 1, 1, 17, 4, 3, 1, 1, 1, 9, 1, 1, 1, 7, 2, 2, 1, 1, 1, 1, 12, 3, 1, 1, 1, 1, 6, 5, 2, 5, 5, 1, 6, 6, 5, 6, 3, 2, 2, 3, 2, 2, 1, 1, 1, 1, 6, 5, 1, 1, 6, 4, 2, 11, 6, 1, 1, 3, 1, 1, 6, 3, 1, 1, 6, 2, 1, 1, 1, 2, 1, 1, 2, 1, 1, 3, 2, 2, 1, 1, 1, 3, 2, 2, 1, 3, 2, 4, 1, 1, 6, 4, 1, 1, 3, 3, 1, 2, 3, 1, 1, 3, 1, 1, 1, 2, 1, 1, 1, 3, 3, 3, 1, 2, 1, 1, 1, 2, 1, 1, 2, 2, 1, 1, 3, 1, 1, 1, 1, 1, 1, 1, 1, 1, 1, 1, 2], \"sizemode\": \"area\", \"sizeref\": 0.010625, \"symbol\": \"circle\"}, \"mode\": \"markers\", \"name\": \"Gender=Female\", \"showlegend\": true, \"x\": [\"Spain\", \"Spain\", \"Spain\", \"Spain\", \"Spain\", \"Spain\", \"France\", \"United States of America\", \"France\", \"Spain\", \"France\", \"Unknown\", \"Spain\", \"Spain\", \"France\", \"United States of America\", \"Canada\", \"Russia\", \"United States of America\", \"Spain\", \"France\", \"Italy\", \"Spain\", \"United States of America\", \"Cuba\", \"Unknown\", \"India\", \"United States of America\", \"Spain\", \"Canada\", \"Ukraine\", \"Venezuela\", \"United States of America\", \"France\", \"India\", \"Unknown\", \"United States of America\", \"Spain\", \"Unknown\", \"India\", \"Italy\", \"England\", \"Pakistan\", \"United States of America\", \"Spain\", \"India\", \"England\", \"New Zealand\", \"Unknown\", \"Spain\", \"Unknown\", \"United States of America\", \"United States of America\", \"India\", \"Spain\", \"United States of America\", \"India\", \"Spain\", \"Spain\", \"India\", \"United States of America\", \"Unknown\", \"Spain\", \"India\", \"Unknown\", \"Dominican Republic\", \"Brazil\", \"United States of America\", \"Venezuela\", \"United States of America\", \"India\", \"Austria\", \"Unknown\", \"United States of America\", \"Spain\", \"India\", \"United States of America\", \"Spain\", \"India\", \"Unknown\", \"United States of America\", \"Spain\", \"Unknown\", \"United States of America\", \"India\", \"Spain\", \"Unknown\", \"United States of America\", \"India\", \"Spain\", \"Italy\", \"Ireland\", \"Spain\", \"United States of America\", \"Unknown\", \"United States of America\", \"India\", \"Unknown\", \"Spain\", \"United States of America\", \"United States of America\", \"Spain\", \"Colombia\", \"Unknown\", \"United States of America\", \"Spain\", \"Unknown\", \"The Bahamas\", \"United States of America\", \"Spain\", \"United States of America\", \"Spain\", \"England\", \"United States of America\", \"Spain\", \"Chile\", \"Unknown\", \"United States of America\", \"United States of America\", \"Spain\", \"United States of America\", \"United States of America\", \"Spain\", \"Unknown\", \"United States of America\", \"Spain\", \"Spain\", \"Unknown\", \"Spain\", \"United States of America\", \"Ireland\", \"Unknown\", \"United States of America\", \"Spain\", \"United States of America\", \"Unknown\", \"United States of America\", \"Canada\", \"Germany\", \"Unknown\", \"Spain\", \"United States of America\", \"United States of America\", \"United States of America\", \"United States of America\", \"Spain\", \"United States of America\", \"Spain\", \"United States of America\", \"Unknown\", \"Spain\", \"United States of America\", \"United States of America\", \"United States of America\", \"England\", \"Unknown\", \"United States of America\", \"United States of America\", \"United States of America\", \"United States of America\"], \"xaxis\": \"x\", \"y\": [13, 14, 15, 16, 17, 18, 18, 18, 19, 19, 20, 20, 20, 21, 21, 21, 21, 21, 22, 22, 22, 22, 23, 23, 23, 23, 24, 24, 24, 24, 24, 24, 25, 25, 25, 25, 26, 26, 26, 26, 26, 26, 26, 27, 27, 27, 27, 27, 27, 28, 28, 28, 29, 29, 29, 30, 30, 30, 31, 31, 31, 31, 32, 32, 32, 32, 32, 32, 32, 33, 33, 33, 33, 34, 34, 34, 35, 35, 35, 35, 36, 36, 36, 37, 37, 37, 37, 38, 38, 38, 38, 38, 39, 39, 39, 40, 40, 40, 41, 41, 42, 42, 42, 42, 43, 43, 43, 43, 44, 44, 45, 45, 45, 46, 46, 46, 46, 47, 48, 48, 49, 50, 50, 50, 51, 51, 52, 52, 53, 53, 53, 53, 54, 55, 55, 55, 56, 56, 56, 56, 57, 57, 58, 59, 60, 61, 61, 62, 62, 62, 64, 64, 65, 66, 67, 67, 69, 73, 78, 81], \"yaxis\": \"y\", \"type\": \"scatter\", \"uid\": \"502d8d73-0dea-4c7b-9cb7-b6897194fedc\"}, {\"hovertemplate\": \"<b>%{hovertext}</b><br><br>Gender=Male<br>Nationality=%{x}<br>Age=%{y}<br>counts=%{marker.size}<extra></extra>\", \"hovertext\": [\"Spain\", \"Spain\", \"China\", \"Spain\", \"Nigeria\", \"Spain\", \"Nigeria\", \"Spain\", \"Spain\", \"Nigeria\", \"Spain\", \"France\", \"Brazil\", \"Spain\", \"Spain\", \"India\", \"England\", \"Unknown\", \"India\", \"Italy\", \"Spain\", \"Mexico\", \"United States of America\", \"Spain\", \"India\", \"France\", \"Russia\", \"United States of America\", \"England\", \"Indonesia\", \"Sudan\", \"India\", \"United States of America\", \"Spain\", \"England\", \"Albania\", \"United States of America\", \"India\", \"Spain\", \"United States of America\", \"India\", \"France\", \"Canada\", \"England\", \"Unknown\", \"United States of America\", \"India\", \"Canada\", \"Nigeria\", \"Italy\", \"Iceland\", \"India\", \"United States of America\", \"Spain\", \"Italy\", \"Slovakia\", \"England\", \"Unknown\", \"United States of America\", \"India\", \"Spain\", \"Italy\", \"France\", \"Unknown\", \"United States of America\", \"Spain\", \"Dominican Republic\", \"India\", \"Venezuela\", \"United States of America\", \"Spain\", \"India\", \"United States of America\", \"India\", \"Spain\", \"Canada\", \"United States of America\", \"India\", \"Spain\", \"England\", \"United States of America\", \"India\", \"Spain\", \"Canada\", \"United States of America\", \"India\", \"Spain\", \"France\", \"Brazil\", \"United States of America\", \"India\", \"Spain\", \"Argentina\", \"Unknown\", \"United States of America\", \"India\", \"Spain\", \"United States of America\", \"Spain\", \"India\", \"United States of America\", \"India\", \"United States of America\", \"India\", \"Italy\", \"Venezuela\", \"Macedonia\", \"United States of America\", \"Australia\", \"India\", \"United States of America\", \"India\", \"Spain\", \"United States of America\", \"Spain\", \"India\", \"India\", \"United States of America\", \"United States of America\", \"United States of America\", \"Spain\", \"United States of America\", \"Spain\", \"United States of America\", \"United States of America\", \"United States of America\", \"United States of America\", \"Spain\", \"United States of America\", \"India\", \"United States of America\", \"United States of America\", \"Spain\", \"United States of America\", \"Spain\", \"Spain\", \"Spain\", \"United States of America\", \"United States of America\", \"Spain\", \"Canada\", \"United States of America\", \"Spain\", \"United States of America\", \"United States of America\", \"United States of America\", \"Spain\", \"United States of America\"], \"legendgroup\": \"Gender=Male\", \"marker\": {\"color\": \"rgb(254,224,139)\", \"size\": [1, 17, 1, 7, 1, 4, 1, 2, 4, 1, 3, 1, 1, 4, 7, 1, 1, 1, 2, 2, 1, 1, 1, 4, 2, 1, 1, 1, 1, 1, 1, 5, 4, 1, 1, 1, 4, 4, 1, 7, 5, 1, 1, 1, 1, 13, 2, 1, 1, 1, 1, 11, 6, 3, 2, 1, 1, 1, 7, 7, 3, 2, 1, 1, 14, 4, 1, 1, 1, 6, 3, 2, 8, 3, 1, 1, 5, 3, 2, 1, 8, 4, 1, 1, 4, 2, 1, 1, 1, 4, 3, 2, 1, 1, 4, 2, 1, 5, 2, 1, 9, 2, 1, 1, 1, 1, 1, 2, 1, 1, 4, 2, 1, 2, 1, 1, 2, 1, 2, 2, 1, 5, 1, 1, 2, 1, 2, 1, 1, 1, 1, 2, 1, 2, 1, 1, 1, 1, 1, 1, 1, 1, 1, 1, 1, 1, 1, 1], \"sizemode\": \"area\", \"sizeref\": 0.010625, \"symbol\": \"circle\"}, \"mode\": \"markers\", \"name\": \"Gender=Male\", \"showlegend\": true, \"x\": [\"Spain\", \"Spain\", \"China\", \"Spain\", \"Nigeria\", \"Spain\", \"Nigeria\", \"Spain\", \"Spain\", \"Nigeria\", \"Spain\", \"France\", \"Brazil\", \"Spain\", \"Spain\", \"India\", \"England\", \"Unknown\", \"India\", \"Italy\", \"Spain\", \"Mexico\", \"United States of America\", \"Spain\", \"India\", \"France\", \"Russia\", \"United States of America\", \"England\", \"Indonesia\", \"Sudan\", \"India\", \"United States of America\", \"Spain\", \"England\", \"Albania\", \"United States of America\", \"India\", \"Spain\", \"United States of America\", \"India\", \"France\", \"Canada\", \"England\", \"Unknown\", \"United States of America\", \"India\", \"Canada\", \"Nigeria\", \"Italy\", \"Iceland\", \"India\", \"United States of America\", \"Spain\", \"Italy\", \"Slovakia\", \"England\", \"Unknown\", \"United States of America\", \"India\", \"Spain\", \"Italy\", \"France\", \"Unknown\", \"United States of America\", \"Spain\", \"Dominican Republic\", \"India\", \"Venezuela\", \"United States of America\", \"Spain\", \"India\", \"United States of America\", \"India\", \"Spain\", \"Canada\", \"United States of America\", \"India\", \"Spain\", \"England\", \"United States of America\", \"India\", \"Spain\", \"Canada\", \"United States of America\", \"India\", \"Spain\", \"France\", \"Brazil\", \"United States of America\", \"India\", \"Spain\", \"Argentina\", \"Unknown\", \"United States of America\", \"India\", \"Spain\", \"United States of America\", \"Spain\", \"India\", \"United States of America\", \"India\", \"United States of America\", \"India\", \"Italy\", \"Venezuela\", \"Macedonia\", \"United States of America\", \"Australia\", \"India\", \"United States of America\", \"India\", \"Spain\", \"United States of America\", \"Spain\", \"India\", \"India\", \"United States of America\", \"United States of America\", \"United States of America\", \"Spain\", \"United States of America\", \"Spain\", \"United States of America\", \"United States of America\", \"United States of America\", \"United States of America\", \"Spain\", \"United States of America\", \"India\", \"United States of America\", \"United States of America\", \"Spain\", \"United States of America\", \"Spain\", \"Spain\", \"Spain\", \"United States of America\", \"United States of America\", \"Spain\", \"Canada\", \"United States of America\", \"Spain\", \"United States of America\", \"United States of America\", \"United States of America\", \"Spain\", \"United States of America\"], \"xaxis\": \"x\", \"y\": [13, 14, 14, 15, 15, 16, 16, 17, 18, 18, 19, 19, 19, 20, 21, 21, 21, 21, 22, 22, 22, 22, 22, 23, 23, 23, 23, 23, 23, 23, 23, 24, 24, 24, 24, 24, 25, 25, 25, 26, 26, 26, 26, 26, 26, 27, 27, 27, 27, 27, 27, 28, 28, 28, 28, 28, 28, 28, 29, 29, 29, 29, 29, 29, 30, 30, 30, 30, 30, 31, 31, 31, 32, 32, 32, 32, 33, 33, 33, 33, 34, 34, 34, 34, 35, 35, 35, 35, 35, 36, 36, 36, 36, 36, 37, 37, 37, 38, 38, 38, 39, 39, 40, 40, 40, 40, 40, 41, 41, 41, 42, 42, 42, 43, 43, 43, 44, 44, 45, 46, 46, 47, 47, 48, 49, 50, 51, 53, 53, 53, 54, 57, 57, 60, 60, 61, 62, 62, 63, 64, 65, 66, 67, 67, 68, 69, 70, 71], \"yaxis\": \"y\", \"type\": \"scatter\", \"uid\": \"9f936735-067f-4b09-9db6-d8b3a0cf1fab\"}, {\"hovertemplate\": \"<b>%{hovertext}</b><br><br>Gender=Other<br>Nationality=%{x}<br>Age=%{y}<br>counts=%{marker.size}<extra></extra>\", \"hovertext\": [\"Spain\", \"Spain\", \"Spain\", \"Canada\", \"Scotland\", \"Spain\"], \"legendgroup\": \"Gender=Other\", \"marker\": {\"color\": \"rgb(244,109,67)\", \"size\": [1, 1, 1, 1, 1, 1], \"sizemode\": \"area\", \"sizeref\": 0.010625, \"symbol\": \"circle\"}, \"mode\": \"markers\", \"name\": \"Gender=Other\", \"showlegend\": true, \"x\": [\"Spain\", \"Spain\", \"Spain\", \"Canada\", \"Scotland\", \"Spain\"], \"xaxis\": \"x\", \"y\": [14, 20, 21, 22, 28, 36], \"yaxis\": \"y\", \"type\": \"scatter\", \"uid\": \"8035e81a-3d74-41a3-9cec-2a3f0a7ae705\"}], {\"height\": 600, \"legend\": {\"tracegroupgap\": 0}, \"margin\": {\"t\": 60}, \"template\": {\"data\": {\"barpolar\": [{\"marker\": {\"line\": {\"color\": \"white\", \"width\": 0.5}}, \"type\": \"barpolar\"}], \"bar\": [{\"marker\": {\"line\": {\"color\": \"white\", \"width\": 0.5}}, \"type\": \"bar\"}], \"carpet\": [{\"aaxis\": {\"endlinecolor\": \"#2a3f5f\", \"gridcolor\": \"#C8D4E3\", \"linecolor\": \"#C8D4E3\", \"minorgridcolor\": \"#C8D4E3\", \"startlinecolor\": \"#2a3f5f\"}, \"baxis\": {\"endlinecolor\": \"#2a3f5f\", \"gridcolor\": \"#C8D4E3\", \"linecolor\": \"#C8D4E3\", \"minorgridcolor\": \"#C8D4E3\", \"startlinecolor\": \"#2a3f5f\"}, \"type\": \"carpet\"}], \"choropleth\": [{\"colorbar\": {\"outlinewidth\": 0, \"ticks\": \"\"}, \"type\": \"choropleth\"}], \"contourcarpet\": [{\"colorbar\": {\"outlinewidth\": 0, \"ticks\": \"\"}, \"type\": \"contourcarpet\"}], \"contour\": [{\"autocolorscale\": true, \"colorbar\": {\"outlinewidth\": 0, \"ticks\": \"\"}, \"type\": \"contour\"}], \"heatmapgl\": [{\"colorbar\": {\"outlinewidth\": 0, \"ticks\": \"\"}, \"type\": \"heatmapgl\"}], \"heatmap\": [{\"autocolorscale\": true, \"colorbar\": {\"outlinewidth\": 0, \"ticks\": \"\"}, \"type\": \"heatmap\"}], \"histogram2dcontour\": [{\"autocolorscale\": true, \"colorbar\": {\"outlinewidth\": 0, \"ticks\": \"\"}, \"type\": \"histogram2dcontour\"}], \"histogram2d\": [{\"autocolorscale\": true, \"colorbar\": {\"outlinewidth\": 0, \"ticks\": \"\"}, \"type\": \"histogram2d\"}], \"histogram\": [{\"marker\": {\"colorbar\": {\"outlinewidth\": 0, \"ticks\": \"\"}}, \"type\": \"histogram\"}], \"mesh3d\": [{\"colorbar\": {\"outlinewidth\": 0, \"ticks\": \"\"}, \"type\": \"mesh3d\"}], \"parcoords\": [{\"line\": {\"colorbar\": {\"outlinewidth\": 0, \"ticks\": \"\"}}, \"type\": \"parcoords\"}], \"scatter3d\": [{\"marker\": {\"colorbar\": {\"outlinewidth\": 0, \"ticks\": \"\"}}, \"type\": \"scatter3d\"}], \"scattercarpet\": [{\"marker\": {\"colorbar\": {\"outlinewidth\": 0, \"ticks\": \"\"}}, \"type\": \"scattercarpet\"}], \"scattergeo\": [{\"marker\": {\"colorbar\": {\"outlinewidth\": 0, \"ticks\": \"\"}}, \"type\": \"scattergeo\"}], \"scattergl\": [{\"marker\": {\"colorbar\": {\"outlinewidth\": 0, \"ticks\": \"\"}}, \"type\": \"scattergl\"}], \"scattermapbox\": [{\"marker\": {\"colorbar\": {\"outlinewidth\": 0, \"ticks\": \"\"}}, \"type\": \"scattermapbox\"}], \"scatterpolargl\": [{\"marker\": {\"colorbar\": {\"outlinewidth\": 0, \"ticks\": \"\"}}, \"type\": \"scatterpolargl\"}], \"scatterpolar\": [{\"marker\": {\"colorbar\": {\"outlinewidth\": 0, \"ticks\": \"\"}}, \"type\": \"scatterpolar\"}], \"scatter\": [{\"marker\": {\"colorbar\": {\"outlinewidth\": 0, \"ticks\": \"\"}}, \"type\": \"scatter\"}], \"scatterternary\": [{\"marker\": {\"colorbar\": {\"outlinewidth\": 0, \"ticks\": \"\"}}, \"type\": \"scatterternary\"}], \"surface\": [{\"colorbar\": {\"outlinewidth\": 0, \"ticks\": \"\"}, \"type\": \"surface\"}], \"table\": [{\"cells\": {\"fill\": {\"color\": \"#EBF0F8\"}, \"line\": {\"color\": \"white\"}}, \"header\": {\"fill\": {\"color\": \"#C8D4E3\"}, \"line\": {\"color\": \"white\"}}, \"type\": \"table\"}]}, \"layout\": {\"annotationdefaults\": {\"arrowcolor\": \"#506784\", \"arrowhead\": 0, \"arrowwidth\": 1}, \"colorscale\": {\"diverging\": [[0, \"#8e0152\"], [0.1, \"#c51b7d\"], [0.2, \"#de77ae\"], [0.3, \"#f1b6da\"], [0.4, \"#fde0ef\"], [0.5, \"#f7f7f7\"], [0.6, \"#e6f5d0\"], [0.7, \"#b8e186\"], [0.8, \"#7fbc41\"], [0.9, \"#4d9221\"], [1, \"#276419\"]], \"sequential\": [[0.0, \"#0508b8\"], [0.0893854748603352, \"#1910d8\"], [0.1787709497206704, \"#3c19f0\"], [0.2681564245810056, \"#6b1cfb\"], [0.3575418994413408, \"#981cfd\"], [0.44692737430167595, \"#bf1cfd\"], [0.5363128491620112, \"#dd2bfd\"], [0.6256983240223464, \"#f246fe\"], [0.7150837988826816, \"#fc67fd\"], [0.8044692737430168, \"#fe88fc\"], [0.8938547486033519, \"#fea5fd\"], [0.9832402234636871, \"#febefe\"], [1.0, \"#fec3fe\"]], \"sequentialminus\": [[0.0, \"#0508b8\"], [0.0893854748603352, \"#1910d8\"], [0.1787709497206704, \"#3c19f0\"], [0.2681564245810056, \"#6b1cfb\"], [0.3575418994413408, \"#981cfd\"], [0.44692737430167595, \"#bf1cfd\"], [0.5363128491620112, \"#dd2bfd\"], [0.6256983240223464, \"#f246fe\"], [0.7150837988826816, \"#fc67fd\"], [0.8044692737430168, \"#fe88fc\"], [0.8938547486033519, \"#fea5fd\"], [0.9832402234636871, \"#febefe\"], [1.0, \"#fec3fe\"]]}, \"colorway\": [\"#636efa\", \"#EF553B\", \"#00cc96\", \"#ab63fa\", \"#19d3f3\", \"#e763fa\", \"#FECB52\", \"#FFA15A\", \"#FF6692\", \"#B6E880\"], \"font\": {\"color\": \"#2a3f5f\"}, \"geo\": {\"bgcolor\": \"white\", \"lakecolor\": \"white\", \"landcolor\": \"white\", \"showlakes\": true, \"showland\": true, \"subunitcolor\": \"#C8D4E3\"}, \"hovermode\": \"closest\", \"mapbox\": {\"style\": \"light\"}, \"paper_bgcolor\": \"white\", \"plot_bgcolor\": \"white\", \"polar\": {\"angularaxis\": {\"gridcolor\": \"#EBF0F8\", \"linecolor\": \"#EBF0F8\", \"ticks\": \"\"}, \"bgcolor\": \"white\", \"radialaxis\": {\"gridcolor\": \"#EBF0F8\", \"linecolor\": \"#EBF0F8\", \"ticks\": \"\"}}, \"scene\": {\"xaxis\": {\"backgroundcolor\": \"white\", \"gridcolor\": \"#DFE8F3\", \"gridwidth\": 2, \"linecolor\": \"#EBF0F8\", \"showbackground\": true, \"ticks\": \"\", \"zerolinecolor\": \"#EBF0F8\"}, \"yaxis\": {\"backgroundcolor\": \"white\", \"gridcolor\": \"#DFE8F3\", \"gridwidth\": 2, \"linecolor\": \"#EBF0F8\", \"showbackground\": true, \"ticks\": \"\", \"zerolinecolor\": \"#EBF0F8\"}, \"zaxis\": {\"backgroundcolor\": \"white\", \"gridcolor\": \"#DFE8F3\", \"gridwidth\": 2, \"linecolor\": \"#EBF0F8\", \"showbackground\": true, \"ticks\": \"\", \"zerolinecolor\": \"#EBF0F8\"}}, \"shapedefaults\": {\"fillcolor\": \"#506784\", \"line\": {\"width\": 0}, \"opacity\": 0.4}, \"ternary\": {\"aaxis\": {\"gridcolor\": \"#DFE8F3\", \"linecolor\": \"#A2B1C6\", \"ticks\": \"\"}, \"baxis\": {\"gridcolor\": \"#DFE8F3\", \"linecolor\": \"#A2B1C6\", \"ticks\": \"\"}, \"bgcolor\": \"white\", \"caxis\": {\"gridcolor\": \"#DFE8F3\", \"linecolor\": \"#A2B1C6\", \"ticks\": \"\"}}, \"title\": {\"x\": 0.05}, \"xaxis\": {\"automargin\": true, \"gridcolor\": \"#EBF0F8\", \"linecolor\": \"#EBF0F8\", \"ticks\": \"\", \"zerolinecolor\": \"#EBF0F8\", \"zerolinewidth\": 2}, \"yaxis\": {\"automargin\": true, \"gridcolor\": \"#EBF0F8\", \"linecolor\": \"#EBF0F8\", \"ticks\": \"\", \"zerolinecolor\": \"#EBF0F8\", \"zerolinewidth\": 2}}}, \"grid\": {\"xaxes\": [\"x\"], \"yaxes\": [\"y\"], \"xgap\": 0.1, \"ygap\": 0.1, \"xside\": \"bottom\", \"yside\": \"left\"}, \"xaxis\": {\"title\": {\"text\": \"Nationality\"}}, \"yaxis\": {\"title\": {\"text\": \"Age\"}}}, {\"showLink\": false, \"linkText\": \"Export to plot.ly\", \"plotlyServerURL\": \"https://plot.ly\"}); \n",
       "}\n",
       "});</script><script type=\"text/javascript\">window.addEventListener(\"resize\", function(){if (document.getElementById(\"a20feb2d-3f5e-4850-b050-e80f5adb6334\")) {window._Plotly.Plots.resize(document.getElementById(\"a20feb2d-3f5e-4850-b050-e80f5adb6334\"));};})</script>"
      ]
     },
     "metadata": {},
     "output_type": "display_data"
    }
   ],
   "source": [
    "def distribution_nationality_by_gender_and_age(dataframe):\n",
    "    temp_dataframe = dataframe.copy()\n",
    "    newDataframe = pd.DataFrame(temp_dataframe.groupby(['Age', 'Gender'])['Nationality'].value_counts(dropna=True, sort=True).reset_index(name='counts'))\n",
    "    if get_data_replacements(str('Gender')):\n",
    "        newDataframe['Gender'] = newDataframe['Gender'].apply(get_data_replacements(str('Gender')).get)\n",
    "    if get_data_replacements(str('Nationality')):\n",
    "        newDataframe['Nationality'] = newDataframe['Nationality'].apply(get_data_replacements(str('Nationality')).get)\n",
    "    iplot(px.scatter(newDataframe, x=\"Nationality\", y=\"Age\", size=\"counts\", color=\"Gender\", \n",
    "           hover_name=\"Nationality\", log_x=False, size_max=40, color_discrete_sequence=colors_gender, template=\"plotly_white\"))\n",
    "    \n",
    "distribution_nationality_by_gender_and_age(data_complete_en)"
   ]
  },
  {
   "cell_type": "markdown",
   "metadata": {},
   "source": [
    "## Distribution of educational level based on nationality and gender"
   ]
  },
  {
   "cell_type": "code",
   "execution_count": 14,
   "metadata": {
    "scrolled": false
   },
   "outputs": [
    {
     "name": "stdout",
     "output_type": "stream",
     "text": [
      "Describing the variable Gender in Spain related to Educational level\n"
     ]
    },
    {
     "data": {
      "text/html": [
       "<div>\n",
       "<style scoped>\n",
       "    .dataframe tbody tr th:only-of-type {\n",
       "        vertical-align: middle;\n",
       "    }\n",
       "\n",
       "    .dataframe tbody tr th {\n",
       "        vertical-align: top;\n",
       "    }\n",
       "\n",
       "    .dataframe thead th {\n",
       "        text-align: right;\n",
       "    }\n",
       "</style>\n",
       "<table border=\"1\" class=\"dataframe\">\n",
       "  <thead>\n",
       "    <tr style=\"text-align: right;\">\n",
       "      <th></th>\n",
       "      <th>count</th>\n",
       "      <th>mean</th>\n",
       "      <th>std</th>\n",
       "      <th>min</th>\n",
       "      <th>25%</th>\n",
       "      <th>50%</th>\n",
       "      <th>75%</th>\n",
       "      <th>max</th>\n",
       "    </tr>\n",
       "    <tr>\n",
       "      <th>Educational level</th>\n",
       "      <th></th>\n",
       "      <th></th>\n",
       "      <th></th>\n",
       "      <th></th>\n",
       "      <th></th>\n",
       "      <th></th>\n",
       "      <th></th>\n",
       "      <th></th>\n",
       "    </tr>\n",
       "  </thead>\n",
       "  <tbody>\n",
       "    <tr>\n",
       "      <th>Completed &lt;br&gt;Compulsory&lt;br&gt;Secondary &lt;br&gt;Education</th>\n",
       "      <td>6.0</td>\n",
       "      <td>1.000000</td>\n",
       "      <td>0.000000</td>\n",
       "      <td>1.0</td>\n",
       "      <td>1.0</td>\n",
       "      <td>1.0</td>\n",
       "      <td>1.0</td>\n",
       "      <td>1.0</td>\n",
       "    </tr>\n",
       "    <tr>\n",
       "      <th>Primary &lt;br&gt;education</th>\n",
       "      <td>1.0</td>\n",
       "      <td>1.000000</td>\n",
       "      <td>NaN</td>\n",
       "      <td>1.0</td>\n",
       "      <td>1.0</td>\n",
       "      <td>1.0</td>\n",
       "      <td>1.0</td>\n",
       "      <td>1.0</td>\n",
       "    </tr>\n",
       "    <tr>\n",
       "      <th>Unfinished &lt;br&gt;Compulsory&lt;br&gt;Secondary &lt;br&gt;Education</th>\n",
       "      <td>66.0</td>\n",
       "      <td>0.500000</td>\n",
       "      <td>0.533494</td>\n",
       "      <td>0.0</td>\n",
       "      <td>0.0</td>\n",
       "      <td>0.0</td>\n",
       "      <td>1.0</td>\n",
       "      <td>2.0</td>\n",
       "    </tr>\n",
       "    <tr>\n",
       "      <th>University &lt;br&gt;graduate</th>\n",
       "      <td>79.0</td>\n",
       "      <td>0.645570</td>\n",
       "      <td>0.481397</td>\n",
       "      <td>0.0</td>\n",
       "      <td>0.0</td>\n",
       "      <td>1.0</td>\n",
       "      <td>1.0</td>\n",
       "      <td>1.0</td>\n",
       "    </tr>\n",
       "    <tr>\n",
       "      <th>University &lt;br&gt;without &lt;br&gt;graduating</th>\n",
       "      <td>52.0</td>\n",
       "      <td>0.557692</td>\n",
       "      <td>0.607582</td>\n",
       "      <td>0.0</td>\n",
       "      <td>0.0</td>\n",
       "      <td>0.5</td>\n",
       "      <td>1.0</td>\n",
       "      <td>2.0</td>\n",
       "    </tr>\n",
       "    <tr>\n",
       "      <th>Vocational &lt;br&gt;Training</th>\n",
       "      <td>13.0</td>\n",
       "      <td>0.769231</td>\n",
       "      <td>0.438529</td>\n",
       "      <td>0.0</td>\n",
       "      <td>1.0</td>\n",
       "      <td>1.0</td>\n",
       "      <td>1.0</td>\n",
       "      <td>1.0</td>\n",
       "    </tr>\n",
       "  </tbody>\n",
       "</table>\n",
       "</div>"
      ],
      "text/plain": [
       "                                                    count      mean       std  \\\n",
       "Educational level                                                               \n",
       "Completed <br>Compulsory<br>Secondary <br>Educa...    6.0  1.000000  0.000000   \n",
       "Primary <br>education                                 1.0  1.000000       NaN   \n",
       "Unfinished <br>Compulsory<br>Secondary <br>Educ...   66.0  0.500000  0.533494   \n",
       "University <br>graduate                              79.0  0.645570  0.481397   \n",
       "University <br>without <br>graduating                52.0  0.557692  0.607582   \n",
       "Vocational <br>Training                              13.0  0.769231  0.438529   \n",
       "\n",
       "                                                    min  25%  50%  75%  max  \n",
       "Educational level                                                            \n",
       "Completed <br>Compulsory<br>Secondary <br>Educa...  1.0  1.0  1.0  1.0  1.0  \n",
       "Primary <br>education                               1.0  1.0  1.0  1.0  1.0  \n",
       "Unfinished <br>Compulsory<br>Secondary <br>Educ...  0.0  0.0  0.0  1.0  2.0  \n",
       "University <br>graduate                             0.0  0.0  1.0  1.0  1.0  \n",
       "University <br>without <br>graduating               0.0  0.0  0.5  1.0  2.0  \n",
       "Vocational <br>Training                             0.0  1.0  1.0  1.0  1.0  "
      ]
     },
     "metadata": {},
     "output_type": "display_data"
    },
    {
     "name": "stdout",
     "output_type": "stream",
     "text": [
      "Count of each value in Gender related to each Educational level in Spain expressed as Educational level | Gender | Amount\n"
     ]
    },
    {
     "data": {
      "text/plain": [
       "Educational level                                     Gender\n",
       "Completed <br>Compulsory<br>Secondary <br>Education   1          6\n",
       "Primary <br>education                                 1          1\n",
       "Unfinished <br>Compulsory<br>Secondary <br>Education  0         34\n",
       "                                                      1         31\n",
       "                                                      2          1\n",
       "University <br>graduate                               1         51\n",
       "                                                      0         28\n",
       "University <br>without <br>graduating                 0         26\n",
       "                                                      1         23\n",
       "                                                      2          3\n",
       "Vocational <br>Training                               1         10\n",
       "                                                      0          3\n",
       "Name: Gender, dtype: int64"
      ]
     },
     "metadata": {},
     "output_type": "display_data"
    },
    {
     "name": "stdout",
     "output_type": "stream",
     "text": [
      "Percentage of each value in Gender related to each Educational level in Spain expressed as Educational level | Gender | Percentage\n"
     ]
    },
    {
     "data": {
      "text/plain": [
       "Educational level                                     Gender\n",
       "Completed <br>Compulsory<br>Secondary <br>Education   1         100.00\n",
       "Primary <br>education                                 1         100.00\n",
       "Unfinished <br>Compulsory<br>Secondary <br>Education  0          51.52\n",
       "                                                      1          46.97\n",
       "                                                      2           1.52\n",
       "University <br>graduate                               1          64.56\n",
       "                                                      0          35.44\n",
       "University <br>without <br>graduating                 0          50.00\n",
       "                                                      1          44.23\n",
       "                                                      2           5.77\n",
       "Vocational <br>Training                               1          76.92\n",
       "                                                      0          23.08\n",
       "Name: Gender, dtype: float64"
      ]
     },
     "metadata": {},
     "output_type": "display_data"
    },
    {
     "name": "stdout",
     "output_type": "stream",
     "text": [
      "Describing the variable Gender in Colombia related to Educational level\n"
     ]
    },
    {
     "data": {
      "text/html": [
       "<div>\n",
       "<style scoped>\n",
       "    .dataframe tbody tr th:only-of-type {\n",
       "        vertical-align: middle;\n",
       "    }\n",
       "\n",
       "    .dataframe tbody tr th {\n",
       "        vertical-align: top;\n",
       "    }\n",
       "\n",
       "    .dataframe thead th {\n",
       "        text-align: right;\n",
       "    }\n",
       "</style>\n",
       "<table border=\"1\" class=\"dataframe\">\n",
       "  <thead>\n",
       "    <tr style=\"text-align: right;\">\n",
       "      <th></th>\n",
       "      <th>count</th>\n",
       "      <th>mean</th>\n",
       "      <th>std</th>\n",
       "      <th>min</th>\n",
       "      <th>25%</th>\n",
       "      <th>50%</th>\n",
       "      <th>75%</th>\n",
       "      <th>max</th>\n",
       "    </tr>\n",
       "    <tr>\n",
       "      <th>Educational level</th>\n",
       "      <th></th>\n",
       "      <th></th>\n",
       "      <th></th>\n",
       "      <th></th>\n",
       "      <th></th>\n",
       "      <th></th>\n",
       "      <th></th>\n",
       "      <th></th>\n",
       "    </tr>\n",
       "  </thead>\n",
       "  <tbody>\n",
       "    <tr>\n",
       "      <th>University &lt;br&gt;graduate</th>\n",
       "      <td>1.0</td>\n",
       "      <td>1.0</td>\n",
       "      <td>NaN</td>\n",
       "      <td>1.0</td>\n",
       "      <td>1.0</td>\n",
       "      <td>1.0</td>\n",
       "      <td>1.0</td>\n",
       "      <td>1.0</td>\n",
       "    </tr>\n",
       "  </tbody>\n",
       "</table>\n",
       "</div>"
      ],
      "text/plain": [
       "                         count  mean  std  min  25%  50%  75%  max\n",
       "Educational level                                                 \n",
       "University <br>graduate    1.0   1.0  NaN  1.0  1.0  1.0  1.0  1.0"
      ]
     },
     "metadata": {},
     "output_type": "display_data"
    },
    {
     "name": "stdout",
     "output_type": "stream",
     "text": [
      "Count of each value in Gender related to each Educational level in Colombia expressed as Educational level | Gender | Amount\n"
     ]
    },
    {
     "data": {
      "text/plain": [
       "Educational level        Gender\n",
       "University <br>graduate  1         1\n",
       "Name: Gender, dtype: int64"
      ]
     },
     "metadata": {},
     "output_type": "display_data"
    },
    {
     "name": "stdout",
     "output_type": "stream",
     "text": [
      "Percentage of each value in Gender related to each Educational level in Colombia expressed as Educational level | Gender | Percentage\n"
     ]
    },
    {
     "data": {
      "text/plain": [
       "Educational level        Gender\n",
       "University <br>graduate  1         100.0\n",
       "Name: Gender, dtype: float64"
      ]
     },
     "metadata": {},
     "output_type": "display_data"
    },
    {
     "name": "stdout",
     "output_type": "stream",
     "text": [
      "Describing the variable Gender in Dominican Rep. related to Educational level\n"
     ]
    },
    {
     "data": {
      "text/html": [
       "<div>\n",
       "<style scoped>\n",
       "    .dataframe tbody tr th:only-of-type {\n",
       "        vertical-align: middle;\n",
       "    }\n",
       "\n",
       "    .dataframe tbody tr th {\n",
       "        vertical-align: top;\n",
       "    }\n",
       "\n",
       "    .dataframe thead th {\n",
       "        text-align: right;\n",
       "    }\n",
       "</style>\n",
       "<table border=\"1\" class=\"dataframe\">\n",
       "  <thead>\n",
       "    <tr style=\"text-align: right;\">\n",
       "      <th></th>\n",
       "      <th>count</th>\n",
       "      <th>mean</th>\n",
       "      <th>std</th>\n",
       "      <th>min</th>\n",
       "      <th>25%</th>\n",
       "      <th>50%</th>\n",
       "      <th>75%</th>\n",
       "      <th>max</th>\n",
       "    </tr>\n",
       "    <tr>\n",
       "      <th>Educational level</th>\n",
       "      <th></th>\n",
       "      <th></th>\n",
       "      <th></th>\n",
       "      <th></th>\n",
       "      <th></th>\n",
       "      <th></th>\n",
       "      <th></th>\n",
       "      <th></th>\n",
       "    </tr>\n",
       "  </thead>\n",
       "  <tbody>\n",
       "    <tr>\n",
       "      <th>University &lt;br&gt;graduate</th>\n",
       "      <td>2.0</td>\n",
       "      <td>0.5</td>\n",
       "      <td>0.707107</td>\n",
       "      <td>0.0</td>\n",
       "      <td>0.25</td>\n",
       "      <td>0.5</td>\n",
       "      <td>0.75</td>\n",
       "      <td>1.0</td>\n",
       "    </tr>\n",
       "  </tbody>\n",
       "</table>\n",
       "</div>"
      ],
      "text/plain": [
       "                         count  mean       std  min   25%  50%   75%  max\n",
       "Educational level                                                        \n",
       "University <br>graduate    2.0   0.5  0.707107  0.0  0.25  0.5  0.75  1.0"
      ]
     },
     "metadata": {},
     "output_type": "display_data"
    },
    {
     "name": "stdout",
     "output_type": "stream",
     "text": [
      "Count of each value in Gender related to each Educational level in Dominican Rep. expressed as Educational level | Gender | Amount\n"
     ]
    },
    {
     "data": {
      "text/plain": [
       "Educational level        Gender\n",
       "University <br>graduate  0         1\n",
       "                         1         1\n",
       "Name: Gender, dtype: int64"
      ]
     },
     "metadata": {},
     "output_type": "display_data"
    },
    {
     "name": "stdout",
     "output_type": "stream",
     "text": [
      "Percentage of each value in Gender related to each Educational level in Dominican Rep. expressed as Educational level | Gender | Percentage\n"
     ]
    },
    {
     "data": {
      "text/plain": [
       "Educational level        Gender\n",
       "University <br>graduate  0         50.0\n",
       "                         1         50.0\n",
       "Name: Gender, dtype: float64"
      ]
     },
     "metadata": {},
     "output_type": "display_data"
    },
    {
     "name": "stdout",
     "output_type": "stream",
     "text": [
      "Describing the variable Gender in Austria related to Educational level\n"
     ]
    },
    {
     "data": {
      "text/html": [
       "<div>\n",
       "<style scoped>\n",
       "    .dataframe tbody tr th:only-of-type {\n",
       "        vertical-align: middle;\n",
       "    }\n",
       "\n",
       "    .dataframe tbody tr th {\n",
       "        vertical-align: top;\n",
       "    }\n",
       "\n",
       "    .dataframe thead th {\n",
       "        text-align: right;\n",
       "    }\n",
       "</style>\n",
       "<table border=\"1\" class=\"dataframe\">\n",
       "  <thead>\n",
       "    <tr style=\"text-align: right;\">\n",
       "      <th></th>\n",
       "      <th>count</th>\n",
       "      <th>mean</th>\n",
       "      <th>std</th>\n",
       "      <th>min</th>\n",
       "      <th>25%</th>\n",
       "      <th>50%</th>\n",
       "      <th>75%</th>\n",
       "      <th>max</th>\n",
       "    </tr>\n",
       "    <tr>\n",
       "      <th>Educational level</th>\n",
       "      <th></th>\n",
       "      <th></th>\n",
       "      <th></th>\n",
       "      <th></th>\n",
       "      <th></th>\n",
       "      <th></th>\n",
       "      <th></th>\n",
       "      <th></th>\n",
       "    </tr>\n",
       "  </thead>\n",
       "  <tbody>\n",
       "    <tr>\n",
       "      <th>University &lt;br&gt;graduate</th>\n",
       "      <td>1.0</td>\n",
       "      <td>1.0</td>\n",
       "      <td>NaN</td>\n",
       "      <td>1.0</td>\n",
       "      <td>1.0</td>\n",
       "      <td>1.0</td>\n",
       "      <td>1.0</td>\n",
       "      <td>1.0</td>\n",
       "    </tr>\n",
       "  </tbody>\n",
       "</table>\n",
       "</div>"
      ],
      "text/plain": [
       "                         count  mean  std  min  25%  50%  75%  max\n",
       "Educational level                                                 \n",
       "University <br>graduate    1.0   1.0  NaN  1.0  1.0  1.0  1.0  1.0"
      ]
     },
     "metadata": {},
     "output_type": "display_data"
    },
    {
     "name": "stdout",
     "output_type": "stream",
     "text": [
      "Count of each value in Gender related to each Educational level in Austria expressed as Educational level | Gender | Amount\n"
     ]
    },
    {
     "data": {
      "text/plain": [
       "Educational level        Gender\n",
       "University <br>graduate  1         1\n",
       "Name: Gender, dtype: int64"
      ]
     },
     "metadata": {},
     "output_type": "display_data"
    },
    {
     "name": "stdout",
     "output_type": "stream",
     "text": [
      "Percentage of each value in Gender related to each Educational level in Austria expressed as Educational level | Gender | Percentage\n"
     ]
    },
    {
     "data": {
      "text/plain": [
       "Educational level        Gender\n",
       "University <br>graduate  1         100.0\n",
       "Name: Gender, dtype: float64"
      ]
     },
     "metadata": {},
     "output_type": "display_data"
    },
    {
     "name": "stdout",
     "output_type": "stream",
     "text": [
      "Describing the variable Gender in Chile related to Educational level\n"
     ]
    },
    {
     "data": {
      "text/html": [
       "<div>\n",
       "<style scoped>\n",
       "    .dataframe tbody tr th:only-of-type {\n",
       "        vertical-align: middle;\n",
       "    }\n",
       "\n",
       "    .dataframe tbody tr th {\n",
       "        vertical-align: top;\n",
       "    }\n",
       "\n",
       "    .dataframe thead th {\n",
       "        text-align: right;\n",
       "    }\n",
       "</style>\n",
       "<table border=\"1\" class=\"dataframe\">\n",
       "  <thead>\n",
       "    <tr style=\"text-align: right;\">\n",
       "      <th></th>\n",
       "      <th>count</th>\n",
       "      <th>mean</th>\n",
       "      <th>std</th>\n",
       "      <th>min</th>\n",
       "      <th>25%</th>\n",
       "      <th>50%</th>\n",
       "      <th>75%</th>\n",
       "      <th>max</th>\n",
       "    </tr>\n",
       "    <tr>\n",
       "      <th>Educational level</th>\n",
       "      <th></th>\n",
       "      <th></th>\n",
       "      <th></th>\n",
       "      <th></th>\n",
       "      <th></th>\n",
       "      <th></th>\n",
       "      <th></th>\n",
       "      <th></th>\n",
       "    </tr>\n",
       "  </thead>\n",
       "  <tbody>\n",
       "    <tr>\n",
       "      <th>University &lt;br&gt;graduate</th>\n",
       "      <td>1.0</td>\n",
       "      <td>1.0</td>\n",
       "      <td>NaN</td>\n",
       "      <td>1.0</td>\n",
       "      <td>1.0</td>\n",
       "      <td>1.0</td>\n",
       "      <td>1.0</td>\n",
       "      <td>1.0</td>\n",
       "    </tr>\n",
       "  </tbody>\n",
       "</table>\n",
       "</div>"
      ],
      "text/plain": [
       "                         count  mean  std  min  25%  50%  75%  max\n",
       "Educational level                                                 \n",
       "University <br>graduate    1.0   1.0  NaN  1.0  1.0  1.0  1.0  1.0"
      ]
     },
     "metadata": {},
     "output_type": "display_data"
    },
    {
     "name": "stdout",
     "output_type": "stream",
     "text": [
      "Count of each value in Gender related to each Educational level in Chile expressed as Educational level | Gender | Amount\n"
     ]
    },
    {
     "data": {
      "text/plain": [
       "Educational level        Gender\n",
       "University <br>graduate  1         1\n",
       "Name: Gender, dtype: int64"
      ]
     },
     "metadata": {},
     "output_type": "display_data"
    },
    {
     "name": "stdout",
     "output_type": "stream",
     "text": [
      "Percentage of each value in Gender related to each Educational level in Chile expressed as Educational level | Gender | Percentage\n"
     ]
    },
    {
     "data": {
      "text/plain": [
       "Educational level        Gender\n",
       "University <br>graduate  1         100.0\n",
       "Name: Gender, dtype: float64"
      ]
     },
     "metadata": {},
     "output_type": "display_data"
    },
    {
     "name": "stdout",
     "output_type": "stream",
     "text": [
      "Describing the variable Gender in France related to Educational level\n"
     ]
    },
    {
     "data": {
      "text/html": [
       "<div>\n",
       "<style scoped>\n",
       "    .dataframe tbody tr th:only-of-type {\n",
       "        vertical-align: middle;\n",
       "    }\n",
       "\n",
       "    .dataframe tbody tr th {\n",
       "        vertical-align: top;\n",
       "    }\n",
       "\n",
       "    .dataframe thead th {\n",
       "        text-align: right;\n",
       "    }\n",
       "</style>\n",
       "<table border=\"1\" class=\"dataframe\">\n",
       "  <thead>\n",
       "    <tr style=\"text-align: right;\">\n",
       "      <th></th>\n",
       "      <th>count</th>\n",
       "      <th>mean</th>\n",
       "      <th>std</th>\n",
       "      <th>min</th>\n",
       "      <th>25%</th>\n",
       "      <th>50%</th>\n",
       "      <th>75%</th>\n",
       "      <th>max</th>\n",
       "    </tr>\n",
       "    <tr>\n",
       "      <th>Educational level</th>\n",
       "      <th></th>\n",
       "      <th></th>\n",
       "      <th></th>\n",
       "      <th></th>\n",
       "      <th></th>\n",
       "      <th></th>\n",
       "      <th></th>\n",
       "      <th></th>\n",
       "    </tr>\n",
       "  </thead>\n",
       "  <tbody>\n",
       "    <tr>\n",
       "      <th>University &lt;br&gt;graduate</th>\n",
       "      <td>4.0</td>\n",
       "      <td>0.250000</td>\n",
       "      <td>0.500000</td>\n",
       "      <td>0.0</td>\n",
       "      <td>0.0</td>\n",
       "      <td>0.0</td>\n",
       "      <td>0.25</td>\n",
       "      <td>1.0</td>\n",
       "    </tr>\n",
       "    <tr>\n",
       "      <th>University &lt;br&gt;without &lt;br&gt;graduating</th>\n",
       "      <td>14.0</td>\n",
       "      <td>0.928571</td>\n",
       "      <td>0.267261</td>\n",
       "      <td>0.0</td>\n",
       "      <td>1.0</td>\n",
       "      <td>1.0</td>\n",
       "      <td>1.00</td>\n",
       "      <td>1.0</td>\n",
       "    </tr>\n",
       "    <tr>\n",
       "      <th>Vocational &lt;br&gt;Training</th>\n",
       "      <td>1.0</td>\n",
       "      <td>0.000000</td>\n",
       "      <td>NaN</td>\n",
       "      <td>0.0</td>\n",
       "      <td>0.0</td>\n",
       "      <td>0.0</td>\n",
       "      <td>0.00</td>\n",
       "      <td>0.0</td>\n",
       "    </tr>\n",
       "  </tbody>\n",
       "</table>\n",
       "</div>"
      ],
      "text/plain": [
       "                                       count      mean       std  min  25%  \\\n",
       "Educational level                                                            \n",
       "University <br>graduate                  4.0  0.250000  0.500000  0.0  0.0   \n",
       "University <br>without <br>graduating   14.0  0.928571  0.267261  0.0  1.0   \n",
       "Vocational <br>Training                  1.0  0.000000       NaN  0.0  0.0   \n",
       "\n",
       "                                       50%   75%  max  \n",
       "Educational level                                      \n",
       "University <br>graduate                0.0  0.25  1.0  \n",
       "University <br>without <br>graduating  1.0  1.00  1.0  \n",
       "Vocational <br>Training                0.0  0.00  0.0  "
      ]
     },
     "metadata": {},
     "output_type": "display_data"
    },
    {
     "name": "stdout",
     "output_type": "stream",
     "text": [
      "Count of each value in Gender related to each Educational level in France expressed as Educational level | Gender | Amount\n"
     ]
    },
    {
     "data": {
      "text/plain": [
       "Educational level                      Gender\n",
       "University <br>graduate                0          3\n",
       "                                       1          1\n",
       "University <br>without <br>graduating  1         13\n",
       "                                       0          1\n",
       "Vocational <br>Training                0          1\n",
       "Name: Gender, dtype: int64"
      ]
     },
     "metadata": {},
     "output_type": "display_data"
    },
    {
     "name": "stdout",
     "output_type": "stream",
     "text": [
      "Percentage of each value in Gender related to each Educational level in France expressed as Educational level | Gender | Percentage\n"
     ]
    },
    {
     "data": {
      "text/plain": [
       "Educational level                      Gender\n",
       "University <br>graduate                0          75.00\n",
       "                                       1          25.00\n",
       "University <br>without <br>graduating  1          92.86\n",
       "                                       0           7.14\n",
       "Vocational <br>Training                0         100.00\n",
       "Name: Gender, dtype: float64"
      ]
     },
     "metadata": {},
     "output_type": "display_data"
    },
    {
     "name": "stdout",
     "output_type": "stream",
     "text": [
      "Describing the variable Gender in Canada related to Educational level\n"
     ]
    },
    {
     "data": {
      "text/html": [
       "<div>\n",
       "<style scoped>\n",
       "    .dataframe tbody tr th:only-of-type {\n",
       "        vertical-align: middle;\n",
       "    }\n",
       "\n",
       "    .dataframe tbody tr th {\n",
       "        vertical-align: top;\n",
       "    }\n",
       "\n",
       "    .dataframe thead th {\n",
       "        text-align: right;\n",
       "    }\n",
       "</style>\n",
       "<table border=\"1\" class=\"dataframe\">\n",
       "  <thead>\n",
       "    <tr style=\"text-align: right;\">\n",
       "      <th></th>\n",
       "      <th>count</th>\n",
       "      <th>mean</th>\n",
       "      <th>std</th>\n",
       "      <th>min</th>\n",
       "      <th>25%</th>\n",
       "      <th>50%</th>\n",
       "      <th>75%</th>\n",
       "      <th>max</th>\n",
       "    </tr>\n",
       "    <tr>\n",
       "      <th>Educational level</th>\n",
       "      <th></th>\n",
       "      <th></th>\n",
       "      <th></th>\n",
       "      <th></th>\n",
       "      <th></th>\n",
       "      <th></th>\n",
       "      <th></th>\n",
       "      <th></th>\n",
       "    </tr>\n",
       "  </thead>\n",
       "  <tbody>\n",
       "    <tr>\n",
       "      <th>University &lt;br&gt;graduate</th>\n",
       "      <td>4.0</td>\n",
       "      <td>0.000000</td>\n",
       "      <td>0.000000</td>\n",
       "      <td>0.0</td>\n",
       "      <td>0.00</td>\n",
       "      <td>0.0</td>\n",
       "      <td>0.00</td>\n",
       "      <td>0.0</td>\n",
       "    </tr>\n",
       "    <tr>\n",
       "      <th>University &lt;br&gt;without &lt;br&gt;graduating</th>\n",
       "      <td>3.0</td>\n",
       "      <td>1.333333</td>\n",
       "      <td>0.577350</td>\n",
       "      <td>1.0</td>\n",
       "      <td>1.00</td>\n",
       "      <td>1.0</td>\n",
       "      <td>1.50</td>\n",
       "      <td>2.0</td>\n",
       "    </tr>\n",
       "    <tr>\n",
       "      <th>Vocational &lt;br&gt;Training</th>\n",
       "      <td>2.0</td>\n",
       "      <td>0.500000</td>\n",
       "      <td>0.707107</td>\n",
       "      <td>0.0</td>\n",
       "      <td>0.25</td>\n",
       "      <td>0.5</td>\n",
       "      <td>0.75</td>\n",
       "      <td>1.0</td>\n",
       "    </tr>\n",
       "  </tbody>\n",
       "</table>\n",
       "</div>"
      ],
      "text/plain": [
       "                                       count      mean       std  min   25%  \\\n",
       "Educational level                                                             \n",
       "University <br>graduate                  4.0  0.000000  0.000000  0.0  0.00   \n",
       "University <br>without <br>graduating    3.0  1.333333  0.577350  1.0  1.00   \n",
       "Vocational <br>Training                  2.0  0.500000  0.707107  0.0  0.25   \n",
       "\n",
       "                                       50%   75%  max  \n",
       "Educational level                                      \n",
       "University <br>graduate                0.0  0.00  0.0  \n",
       "University <br>without <br>graduating  1.0  1.50  2.0  \n",
       "Vocational <br>Training                0.5  0.75  1.0  "
      ]
     },
     "metadata": {},
     "output_type": "display_data"
    },
    {
     "name": "stdout",
     "output_type": "stream",
     "text": [
      "Count of each value in Gender related to each Educational level in Canada expressed as Educational level | Gender | Amount\n"
     ]
    },
    {
     "data": {
      "text/plain": [
       "Educational level                      Gender\n",
       "University <br>graduate                0         4\n",
       "University <br>without <br>graduating  1         2\n",
       "                                       2         1\n",
       "Vocational <br>Training                0         1\n",
       "                                       1         1\n",
       "Name: Gender, dtype: int64"
      ]
     },
     "metadata": {},
     "output_type": "display_data"
    },
    {
     "name": "stdout",
     "output_type": "stream",
     "text": [
      "Percentage of each value in Gender related to each Educational level in Canada expressed as Educational level | Gender | Percentage\n"
     ]
    },
    {
     "data": {
      "text/plain": [
       "Educational level                      Gender\n",
       "University <br>graduate                0         100.00\n",
       "University <br>without <br>graduating  1          66.67\n",
       "                                       2          33.33\n",
       "Vocational <br>Training                0          50.00\n",
       "                                       1          50.00\n",
       "Name: Gender, dtype: float64"
      ]
     },
     "metadata": {},
     "output_type": "display_data"
    },
    {
     "name": "stdout",
     "output_type": "stream",
     "text": [
      "Describing the variable Gender in Niger related to Educational level\n"
     ]
    },
    {
     "data": {
      "text/html": [
       "<div>\n",
       "<style scoped>\n",
       "    .dataframe tbody tr th:only-of-type {\n",
       "        vertical-align: middle;\n",
       "    }\n",
       "\n",
       "    .dataframe tbody tr th {\n",
       "        vertical-align: top;\n",
       "    }\n",
       "\n",
       "    .dataframe thead th {\n",
       "        text-align: right;\n",
       "    }\n",
       "</style>\n",
       "<table border=\"1\" class=\"dataframe\">\n",
       "  <thead>\n",
       "    <tr style=\"text-align: right;\">\n",
       "      <th></th>\n",
       "      <th>count</th>\n",
       "      <th>mean</th>\n",
       "      <th>std</th>\n",
       "      <th>min</th>\n",
       "      <th>25%</th>\n",
       "      <th>50%</th>\n",
       "      <th>75%</th>\n",
       "      <th>max</th>\n",
       "    </tr>\n",
       "    <tr>\n",
       "      <th>Educational level</th>\n",
       "      <th></th>\n",
       "      <th></th>\n",
       "      <th></th>\n",
       "      <th></th>\n",
       "      <th></th>\n",
       "      <th></th>\n",
       "      <th></th>\n",
       "      <th></th>\n",
       "    </tr>\n",
       "  </thead>\n",
       "  <tbody>\n",
       "    <tr>\n",
       "      <th>Unfinished &lt;br&gt;Compulsory&lt;br&gt;Secondary &lt;br&gt;Education</th>\n",
       "      <td>3.0</td>\n",
       "      <td>0.0</td>\n",
       "      <td>0.0</td>\n",
       "      <td>0.0</td>\n",
       "      <td>0.0</td>\n",
       "      <td>0.0</td>\n",
       "      <td>0.0</td>\n",
       "      <td>0.0</td>\n",
       "    </tr>\n",
       "    <tr>\n",
       "      <th>University &lt;br&gt;graduate</th>\n",
       "      <td>1.0</td>\n",
       "      <td>0.0</td>\n",
       "      <td>NaN</td>\n",
       "      <td>0.0</td>\n",
       "      <td>0.0</td>\n",
       "      <td>0.0</td>\n",
       "      <td>0.0</td>\n",
       "      <td>0.0</td>\n",
       "    </tr>\n",
       "  </tbody>\n",
       "</table>\n",
       "</div>"
      ],
      "text/plain": [
       "                                                    count  mean  std  min  \\\n",
       "Educational level                                                           \n",
       "Unfinished <br>Compulsory<br>Secondary <br>Educ...    3.0   0.0  0.0  0.0   \n",
       "University <br>graduate                               1.0   0.0  NaN  0.0   \n",
       "\n",
       "                                                    25%  50%  75%  max  \n",
       "Educational level                                                       \n",
       "Unfinished <br>Compulsory<br>Secondary <br>Educ...  0.0  0.0  0.0  0.0  \n",
       "University <br>graduate                             0.0  0.0  0.0  0.0  "
      ]
     },
     "metadata": {},
     "output_type": "display_data"
    },
    {
     "name": "stdout",
     "output_type": "stream",
     "text": [
      "Count of each value in Gender related to each Educational level in Niger expressed as Educational level | Gender | Amount\n"
     ]
    },
    {
     "data": {
      "text/plain": [
       "Educational level                                     Gender\n",
       "Unfinished <br>Compulsory<br>Secondary <br>Education  0         3\n",
       "University <br>graduate                               0         1\n",
       "Name: Gender, dtype: int64"
      ]
     },
     "metadata": {},
     "output_type": "display_data"
    },
    {
     "name": "stdout",
     "output_type": "stream",
     "text": [
      "Percentage of each value in Gender related to each Educational level in Niger expressed as Educational level | Gender | Percentage\n"
     ]
    },
    {
     "data": {
      "text/plain": [
       "Educational level                                     Gender\n",
       "Unfinished <br>Compulsory<br>Secondary <br>Education  0         100.0\n",
       "University <br>graduate                               0         100.0\n",
       "Name: Gender, dtype: float64"
      ]
     },
     "metadata": {},
     "output_type": "display_data"
    },
    {
     "name": "stdout",
     "output_type": "stream",
     "text": [
      "Describing the variable Gender in Australia related to Educational level\n"
     ]
    },
    {
     "data": {
      "text/html": [
       "<div>\n",
       "<style scoped>\n",
       "    .dataframe tbody tr th:only-of-type {\n",
       "        vertical-align: middle;\n",
       "    }\n",
       "\n",
       "    .dataframe tbody tr th {\n",
       "        vertical-align: top;\n",
       "    }\n",
       "\n",
       "    .dataframe thead th {\n",
       "        text-align: right;\n",
       "    }\n",
       "</style>\n",
       "<table border=\"1\" class=\"dataframe\">\n",
       "  <thead>\n",
       "    <tr style=\"text-align: right;\">\n",
       "      <th></th>\n",
       "      <th>count</th>\n",
       "      <th>mean</th>\n",
       "      <th>std</th>\n",
       "      <th>min</th>\n",
       "      <th>25%</th>\n",
       "      <th>50%</th>\n",
       "      <th>75%</th>\n",
       "      <th>max</th>\n",
       "    </tr>\n",
       "    <tr>\n",
       "      <th>Educational level</th>\n",
       "      <th></th>\n",
       "      <th></th>\n",
       "      <th></th>\n",
       "      <th></th>\n",
       "      <th></th>\n",
       "      <th></th>\n",
       "      <th></th>\n",
       "      <th></th>\n",
       "    </tr>\n",
       "  </thead>\n",
       "  <tbody>\n",
       "    <tr>\n",
       "      <th>University &lt;br&gt;graduate</th>\n",
       "      <td>1.0</td>\n",
       "      <td>0.0</td>\n",
       "      <td>NaN</td>\n",
       "      <td>0.0</td>\n",
       "      <td>0.0</td>\n",
       "      <td>0.0</td>\n",
       "      <td>0.0</td>\n",
       "      <td>0.0</td>\n",
       "    </tr>\n",
       "  </tbody>\n",
       "</table>\n",
       "</div>"
      ],
      "text/plain": [
       "                         count  mean  std  min  25%  50%  75%  max\n",
       "Educational level                                                 \n",
       "University <br>graduate    1.0   0.0  NaN  0.0  0.0  0.0  0.0  0.0"
      ]
     },
     "metadata": {},
     "output_type": "display_data"
    },
    {
     "name": "stdout",
     "output_type": "stream",
     "text": [
      "Count of each value in Gender related to each Educational level in Australia expressed as Educational level | Gender | Amount\n"
     ]
    },
    {
     "data": {
      "text/plain": [
       "Educational level        Gender\n",
       "University <br>graduate  0         1\n",
       "Name: Gender, dtype: int64"
      ]
     },
     "metadata": {},
     "output_type": "display_data"
    },
    {
     "name": "stdout",
     "output_type": "stream",
     "text": [
      "Percentage of each value in Gender related to each Educational level in Australia expressed as Educational level | Gender | Percentage\n"
     ]
    },
    {
     "data": {
      "text/plain": [
       "Educational level        Gender\n",
       "University <br>graduate  0         100.0\n",
       "Name: Gender, dtype: float64"
      ]
     },
     "metadata": {},
     "output_type": "display_data"
    },
    {
     "name": "stdout",
     "output_type": "stream",
     "text": [
      "Describing the variable Gender in Russia related to Educational level\n"
     ]
    },
    {
     "data": {
      "text/html": [
       "<div>\n",
       "<style scoped>\n",
       "    .dataframe tbody tr th:only-of-type {\n",
       "        vertical-align: middle;\n",
       "    }\n",
       "\n",
       "    .dataframe tbody tr th {\n",
       "        vertical-align: top;\n",
       "    }\n",
       "\n",
       "    .dataframe thead th {\n",
       "        text-align: right;\n",
       "    }\n",
       "</style>\n",
       "<table border=\"1\" class=\"dataframe\">\n",
       "  <thead>\n",
       "    <tr style=\"text-align: right;\">\n",
       "      <th></th>\n",
       "      <th>count</th>\n",
       "      <th>mean</th>\n",
       "      <th>std</th>\n",
       "      <th>min</th>\n",
       "      <th>25%</th>\n",
       "      <th>50%</th>\n",
       "      <th>75%</th>\n",
       "      <th>max</th>\n",
       "    </tr>\n",
       "    <tr>\n",
       "      <th>Educational level</th>\n",
       "      <th></th>\n",
       "      <th></th>\n",
       "      <th></th>\n",
       "      <th></th>\n",
       "      <th></th>\n",
       "      <th></th>\n",
       "      <th></th>\n",
       "      <th></th>\n",
       "    </tr>\n",
       "  </thead>\n",
       "  <tbody>\n",
       "    <tr>\n",
       "      <th>University &lt;br&gt;without &lt;br&gt;graduating</th>\n",
       "      <td>2.0</td>\n",
       "      <td>0.5</td>\n",
       "      <td>0.707107</td>\n",
       "      <td>0.0</td>\n",
       "      <td>0.25</td>\n",
       "      <td>0.5</td>\n",
       "      <td>0.75</td>\n",
       "      <td>1.0</td>\n",
       "    </tr>\n",
       "  </tbody>\n",
       "</table>\n",
       "</div>"
      ],
      "text/plain": [
       "                                       count  mean       std  min   25%  50%  \\\n",
       "Educational level                                                              \n",
       "University <br>without <br>graduating    2.0   0.5  0.707107  0.0  0.25  0.5   \n",
       "\n",
       "                                        75%  max  \n",
       "Educational level                                 \n",
       "University <br>without <br>graduating  0.75  1.0  "
      ]
     },
     "metadata": {},
     "output_type": "display_data"
    },
    {
     "name": "stdout",
     "output_type": "stream",
     "text": [
      "Count of each value in Gender related to each Educational level in Russia expressed as Educational level | Gender | Amount\n"
     ]
    },
    {
     "data": {
      "text/plain": [
       "Educational level                      Gender\n",
       "University <br>without <br>graduating  0         1\n",
       "                                       1         1\n",
       "Name: Gender, dtype: int64"
      ]
     },
     "metadata": {},
     "output_type": "display_data"
    },
    {
     "name": "stdout",
     "output_type": "stream",
     "text": [
      "Percentage of each value in Gender related to each Educational level in Russia expressed as Educational level | Gender | Percentage\n"
     ]
    },
    {
     "data": {
      "text/plain": [
       "Educational level                      Gender\n",
       "University <br>without <br>graduating  0         50.0\n",
       "                                       1         50.0\n",
       "Name: Gender, dtype: float64"
      ]
     },
     "metadata": {},
     "output_type": "display_data"
    },
    {
     "name": "stdout",
     "output_type": "stream",
     "text": [
      "Describing the variable Gender in Brazil related to Educational level\n"
     ]
    },
    {
     "data": {
      "text/html": [
       "<div>\n",
       "<style scoped>\n",
       "    .dataframe tbody tr th:only-of-type {\n",
       "        vertical-align: middle;\n",
       "    }\n",
       "\n",
       "    .dataframe tbody tr th {\n",
       "        vertical-align: top;\n",
       "    }\n",
       "\n",
       "    .dataframe thead th {\n",
       "        text-align: right;\n",
       "    }\n",
       "</style>\n",
       "<table border=\"1\" class=\"dataframe\">\n",
       "  <thead>\n",
       "    <tr style=\"text-align: right;\">\n",
       "      <th></th>\n",
       "      <th>count</th>\n",
       "      <th>mean</th>\n",
       "      <th>std</th>\n",
       "      <th>min</th>\n",
       "      <th>25%</th>\n",
       "      <th>50%</th>\n",
       "      <th>75%</th>\n",
       "      <th>max</th>\n",
       "    </tr>\n",
       "    <tr>\n",
       "      <th>Educational level</th>\n",
       "      <th></th>\n",
       "      <th></th>\n",
       "      <th></th>\n",
       "      <th></th>\n",
       "      <th></th>\n",
       "      <th></th>\n",
       "      <th></th>\n",
       "      <th></th>\n",
       "    </tr>\n",
       "  </thead>\n",
       "  <tbody>\n",
       "    <tr>\n",
       "      <th>University &lt;br&gt;graduate</th>\n",
       "      <td>2.0</td>\n",
       "      <td>0.5</td>\n",
       "      <td>0.707107</td>\n",
       "      <td>0.0</td>\n",
       "      <td>0.25</td>\n",
       "      <td>0.5</td>\n",
       "      <td>0.75</td>\n",
       "      <td>1.0</td>\n",
       "    </tr>\n",
       "    <tr>\n",
       "      <th>University &lt;br&gt;without &lt;br&gt;graduating</th>\n",
       "      <td>1.0</td>\n",
       "      <td>0.0</td>\n",
       "      <td>NaN</td>\n",
       "      <td>0.0</td>\n",
       "      <td>0.00</td>\n",
       "      <td>0.0</td>\n",
       "      <td>0.00</td>\n",
       "      <td>0.0</td>\n",
       "    </tr>\n",
       "  </tbody>\n",
       "</table>\n",
       "</div>"
      ],
      "text/plain": [
       "                                       count  mean       std  min   25%  50%  \\\n",
       "Educational level                                                              \n",
       "University <br>graduate                  2.0   0.5  0.707107  0.0  0.25  0.5   \n",
       "University <br>without <br>graduating    1.0   0.0       NaN  0.0  0.00  0.0   \n",
       "\n",
       "                                        75%  max  \n",
       "Educational level                                 \n",
       "University <br>graduate                0.75  1.0  \n",
       "University <br>without <br>graduating  0.00  0.0  "
      ]
     },
     "metadata": {},
     "output_type": "display_data"
    },
    {
     "name": "stdout",
     "output_type": "stream",
     "text": [
      "Count of each value in Gender related to each Educational level in Brazil expressed as Educational level | Gender | Amount\n"
     ]
    },
    {
     "data": {
      "text/plain": [
       "Educational level                      Gender\n",
       "University <br>graduate                0         1\n",
       "                                       1         1\n",
       "University <br>without <br>graduating  0         1\n",
       "Name: Gender, dtype: int64"
      ]
     },
     "metadata": {},
     "output_type": "display_data"
    },
    {
     "name": "stdout",
     "output_type": "stream",
     "text": [
      "Percentage of each value in Gender related to each Educational level in Brazil expressed as Educational level | Gender | Percentage\n"
     ]
    },
    {
     "data": {
      "text/plain": [
       "Educational level                      Gender\n",
       "University <br>graduate                0          50.0\n",
       "                                       1          50.0\n",
       "University <br>without <br>graduating  0         100.0\n",
       "Name: Gender, dtype: float64"
      ]
     },
     "metadata": {},
     "output_type": "display_data"
    },
    {
     "name": "stdout",
     "output_type": "stream",
     "text": [
      "Describing the variable Gender in China related to Educational level\n"
     ]
    },
    {
     "data": {
      "text/html": [
       "<div>\n",
       "<style scoped>\n",
       "    .dataframe tbody tr th:only-of-type {\n",
       "        vertical-align: middle;\n",
       "    }\n",
       "\n",
       "    .dataframe tbody tr th {\n",
       "        vertical-align: top;\n",
       "    }\n",
       "\n",
       "    .dataframe thead th {\n",
       "        text-align: right;\n",
       "    }\n",
       "</style>\n",
       "<table border=\"1\" class=\"dataframe\">\n",
       "  <thead>\n",
       "    <tr style=\"text-align: right;\">\n",
       "      <th></th>\n",
       "      <th>count</th>\n",
       "      <th>mean</th>\n",
       "      <th>std</th>\n",
       "      <th>min</th>\n",
       "      <th>25%</th>\n",
       "      <th>50%</th>\n",
       "      <th>75%</th>\n",
       "      <th>max</th>\n",
       "    </tr>\n",
       "    <tr>\n",
       "      <th>Educational level</th>\n",
       "      <th></th>\n",
       "      <th></th>\n",
       "      <th></th>\n",
       "      <th></th>\n",
       "      <th></th>\n",
       "      <th></th>\n",
       "      <th></th>\n",
       "      <th></th>\n",
       "    </tr>\n",
       "  </thead>\n",
       "  <tbody>\n",
       "    <tr>\n",
       "      <th>Unfinished &lt;br&gt;Compulsory&lt;br&gt;Secondary &lt;br&gt;Education</th>\n",
       "      <td>1.0</td>\n",
       "      <td>0.0</td>\n",
       "      <td>NaN</td>\n",
       "      <td>0.0</td>\n",
       "      <td>0.0</td>\n",
       "      <td>0.0</td>\n",
       "      <td>0.0</td>\n",
       "      <td>0.0</td>\n",
       "    </tr>\n",
       "  </tbody>\n",
       "</table>\n",
       "</div>"
      ],
      "text/plain": [
       "                                                    count  mean  std  min  \\\n",
       "Educational level                                                           \n",
       "Unfinished <br>Compulsory<br>Secondary <br>Educ...    1.0   0.0  NaN  0.0   \n",
       "\n",
       "                                                    25%  50%  75%  max  \n",
       "Educational level                                                       \n",
       "Unfinished <br>Compulsory<br>Secondary <br>Educ...  0.0  0.0  0.0  0.0  "
      ]
     },
     "metadata": {},
     "output_type": "display_data"
    },
    {
     "name": "stdout",
     "output_type": "stream",
     "text": [
      "Count of each value in Gender related to each Educational level in China expressed as Educational level | Gender | Amount\n"
     ]
    },
    {
     "data": {
      "text/plain": [
       "Educational level                                     Gender\n",
       "Unfinished <br>Compulsory<br>Secondary <br>Education  0         1\n",
       "Name: Gender, dtype: int64"
      ]
     },
     "metadata": {},
     "output_type": "display_data"
    },
    {
     "name": "stdout",
     "output_type": "stream",
     "text": [
      "Percentage of each value in Gender related to each Educational level in China expressed as Educational level | Gender | Percentage\n"
     ]
    },
    {
     "data": {
      "text/plain": [
       "Educational level                                     Gender\n",
       "Unfinished <br>Compulsory<br>Secondary <br>Education  0         100.0\n",
       "Name: Gender, dtype: float64"
      ]
     },
     "metadata": {},
     "output_type": "display_data"
    },
    {
     "name": "stdout",
     "output_type": "stream",
     "text": [
      "Describing the variable Gender in USA related to Educational level\n"
     ]
    },
    {
     "data": {
      "text/html": [
       "<div>\n",
       "<style scoped>\n",
       "    .dataframe tbody tr th:only-of-type {\n",
       "        vertical-align: middle;\n",
       "    }\n",
       "\n",
       "    .dataframe tbody tr th {\n",
       "        vertical-align: top;\n",
       "    }\n",
       "\n",
       "    .dataframe thead th {\n",
       "        text-align: right;\n",
       "    }\n",
       "</style>\n",
       "<table border=\"1\" class=\"dataframe\">\n",
       "  <thead>\n",
       "    <tr style=\"text-align: right;\">\n",
       "      <th></th>\n",
       "      <th>count</th>\n",
       "      <th>mean</th>\n",
       "      <th>std</th>\n",
       "      <th>min</th>\n",
       "      <th>25%</th>\n",
       "      <th>50%</th>\n",
       "      <th>75%</th>\n",
       "      <th>max</th>\n",
       "    </tr>\n",
       "    <tr>\n",
       "      <th>Educational level</th>\n",
       "      <th></th>\n",
       "      <th></th>\n",
       "      <th></th>\n",
       "      <th></th>\n",
       "      <th></th>\n",
       "      <th></th>\n",
       "      <th></th>\n",
       "      <th></th>\n",
       "    </tr>\n",
       "  </thead>\n",
       "  <tbody>\n",
       "    <tr>\n",
       "      <th>Completed &lt;br&gt;Compulsory&lt;br&gt;Secondary &lt;br&gt;Education</th>\n",
       "      <td>23.0</td>\n",
       "      <td>0.608696</td>\n",
       "      <td>0.499011</td>\n",
       "      <td>0.0</td>\n",
       "      <td>0.0</td>\n",
       "      <td>1.0</td>\n",
       "      <td>1.0</td>\n",
       "      <td>1.0</td>\n",
       "    </tr>\n",
       "    <tr>\n",
       "      <th>Primary &lt;br&gt;education</th>\n",
       "      <td>7.0</td>\n",
       "      <td>0.857143</td>\n",
       "      <td>0.377964</td>\n",
       "      <td>0.0</td>\n",
       "      <td>1.0</td>\n",
       "      <td>1.0</td>\n",
       "      <td>1.0</td>\n",
       "      <td>1.0</td>\n",
       "    </tr>\n",
       "    <tr>\n",
       "      <th>Unfinished &lt;br&gt;Compulsory&lt;br&gt;Secondary &lt;br&gt;Education</th>\n",
       "      <td>6.0</td>\n",
       "      <td>0.500000</td>\n",
       "      <td>0.547723</td>\n",
       "      <td>0.0</td>\n",
       "      <td>0.0</td>\n",
       "      <td>0.5</td>\n",
       "      <td>1.0</td>\n",
       "      <td>1.0</td>\n",
       "    </tr>\n",
       "    <tr>\n",
       "      <th>University &lt;br&gt;graduate</th>\n",
       "      <td>196.0</td>\n",
       "      <td>0.500000</td>\n",
       "      <td>0.501280</td>\n",
       "      <td>0.0</td>\n",
       "      <td>0.0</td>\n",
       "      <td>0.5</td>\n",
       "      <td>1.0</td>\n",
       "      <td>1.0</td>\n",
       "    </tr>\n",
       "    <tr>\n",
       "      <th>University &lt;br&gt;without &lt;br&gt;graduating</th>\n",
       "      <td>54.0</td>\n",
       "      <td>0.537037</td>\n",
       "      <td>0.503308</td>\n",
       "      <td>0.0</td>\n",
       "      <td>0.0</td>\n",
       "      <td>1.0</td>\n",
       "      <td>1.0</td>\n",
       "      <td>1.0</td>\n",
       "    </tr>\n",
       "    <tr>\n",
       "      <th>Vocational &lt;br&gt;Training</th>\n",
       "      <td>20.0</td>\n",
       "      <td>0.400000</td>\n",
       "      <td>0.502625</td>\n",
       "      <td>0.0</td>\n",
       "      <td>0.0</td>\n",
       "      <td>0.0</td>\n",
       "      <td>1.0</td>\n",
       "      <td>1.0</td>\n",
       "    </tr>\n",
       "  </tbody>\n",
       "</table>\n",
       "</div>"
      ],
      "text/plain": [
       "                                                    count      mean       std  \\\n",
       "Educational level                                                               \n",
       "Completed <br>Compulsory<br>Secondary <br>Educa...   23.0  0.608696  0.499011   \n",
       "Primary <br>education                                 7.0  0.857143  0.377964   \n",
       "Unfinished <br>Compulsory<br>Secondary <br>Educ...    6.0  0.500000  0.547723   \n",
       "University <br>graduate                             196.0  0.500000  0.501280   \n",
       "University <br>without <br>graduating                54.0  0.537037  0.503308   \n",
       "Vocational <br>Training                              20.0  0.400000  0.502625   \n",
       "\n",
       "                                                    min  25%  50%  75%  max  \n",
       "Educational level                                                            \n",
       "Completed <br>Compulsory<br>Secondary <br>Educa...  0.0  0.0  1.0  1.0  1.0  \n",
       "Primary <br>education                               0.0  1.0  1.0  1.0  1.0  \n",
       "Unfinished <br>Compulsory<br>Secondary <br>Educ...  0.0  0.0  0.5  1.0  1.0  \n",
       "University <br>graduate                             0.0  0.0  0.5  1.0  1.0  \n",
       "University <br>without <br>graduating               0.0  0.0  1.0  1.0  1.0  \n",
       "Vocational <br>Training                             0.0  0.0  0.0  1.0  1.0  "
      ]
     },
     "metadata": {},
     "output_type": "display_data"
    },
    {
     "name": "stdout",
     "output_type": "stream",
     "text": [
      "Count of each value in Gender related to each Educational level in USA expressed as Educational level | Gender | Amount\n"
     ]
    },
    {
     "data": {
      "text/plain": [
       "Educational level                                     Gender\n",
       "Completed <br>Compulsory<br>Secondary <br>Education   1         14\n",
       "                                                      0          9\n",
       "Primary <br>education                                 1          6\n",
       "                                                      0          1\n",
       "Unfinished <br>Compulsory<br>Secondary <br>Education  0          3\n",
       "                                                      1          3\n",
       "University <br>graduate                               0         98\n",
       "                                                      1         98\n",
       "University <br>without <br>graduating                 1         29\n",
       "                                                      0         25\n",
       "Vocational <br>Training                               0         12\n",
       "                                                      1          8\n",
       "Name: Gender, dtype: int64"
      ]
     },
     "metadata": {},
     "output_type": "display_data"
    },
    {
     "name": "stdout",
     "output_type": "stream",
     "text": [
      "Percentage of each value in Gender related to each Educational level in USA expressed as Educational level | Gender | Percentage\n"
     ]
    },
    {
     "data": {
      "text/plain": [
       "Educational level                                     Gender\n",
       "Completed <br>Compulsory<br>Secondary <br>Education   1         60.87\n",
       "                                                      0         39.13\n",
       "Primary <br>education                                 1         85.71\n",
       "                                                      0         14.29\n",
       "Unfinished <br>Compulsory<br>Secondary <br>Education  0         50.00\n",
       "                                                      1         50.00\n",
       "University <br>graduate                               0         50.00\n",
       "                                                      1         50.00\n",
       "University <br>without <br>graduating                 1         53.70\n",
       "                                                      0         46.30\n",
       "Vocational <br>Training                               0         60.00\n",
       "                                                      1         40.00\n",
       "Name: Gender, dtype: float64"
      ]
     },
     "metadata": {},
     "output_type": "display_data"
    },
    {
     "name": "stdout",
     "output_type": "stream",
     "text": [
      "Describing the variable Gender in Unknown related to Educational level\n"
     ]
    },
    {
     "data": {
      "text/html": [
       "<div>\n",
       "<style scoped>\n",
       "    .dataframe tbody tr th:only-of-type {\n",
       "        vertical-align: middle;\n",
       "    }\n",
       "\n",
       "    .dataframe tbody tr th {\n",
       "        vertical-align: top;\n",
       "    }\n",
       "\n",
       "    .dataframe thead th {\n",
       "        text-align: right;\n",
       "    }\n",
       "</style>\n",
       "<table border=\"1\" class=\"dataframe\">\n",
       "  <thead>\n",
       "    <tr style=\"text-align: right;\">\n",
       "      <th></th>\n",
       "      <th>count</th>\n",
       "      <th>mean</th>\n",
       "      <th>std</th>\n",
       "      <th>min</th>\n",
       "      <th>25%</th>\n",
       "      <th>50%</th>\n",
       "      <th>75%</th>\n",
       "      <th>max</th>\n",
       "    </tr>\n",
       "    <tr>\n",
       "      <th>Educational level</th>\n",
       "      <th></th>\n",
       "      <th></th>\n",
       "      <th></th>\n",
       "      <th></th>\n",
       "      <th></th>\n",
       "      <th></th>\n",
       "      <th></th>\n",
       "      <th></th>\n",
       "    </tr>\n",
       "  </thead>\n",
       "  <tbody>\n",
       "    <tr>\n",
       "      <th>Completed &lt;br&gt;Compulsory&lt;br&gt;Secondary &lt;br&gt;Education</th>\n",
       "      <td>8.0</td>\n",
       "      <td>1.000000</td>\n",
       "      <td>0.000000</td>\n",
       "      <td>1.0</td>\n",
       "      <td>1.00</td>\n",
       "      <td>1.0</td>\n",
       "      <td>1.0</td>\n",
       "      <td>1.0</td>\n",
       "    </tr>\n",
       "    <tr>\n",
       "      <th>Primary &lt;br&gt;education</th>\n",
       "      <td>6.0</td>\n",
       "      <td>0.666667</td>\n",
       "      <td>0.516398</td>\n",
       "      <td>0.0</td>\n",
       "      <td>0.25</td>\n",
       "      <td>1.0</td>\n",
       "      <td>1.0</td>\n",
       "      <td>1.0</td>\n",
       "    </tr>\n",
       "    <tr>\n",
       "      <th>Unfinished &lt;br&gt;Compulsory&lt;br&gt;Secondary &lt;br&gt;Education</th>\n",
       "      <td>1.0</td>\n",
       "      <td>1.000000</td>\n",
       "      <td>NaN</td>\n",
       "      <td>1.0</td>\n",
       "      <td>1.00</td>\n",
       "      <td>1.0</td>\n",
       "      <td>1.0</td>\n",
       "      <td>1.0</td>\n",
       "    </tr>\n",
       "    <tr>\n",
       "      <th>University &lt;br&gt;graduate</th>\n",
       "      <td>9.0</td>\n",
       "      <td>0.888889</td>\n",
       "      <td>0.333333</td>\n",
       "      <td>0.0</td>\n",
       "      <td>1.00</td>\n",
       "      <td>1.0</td>\n",
       "      <td>1.0</td>\n",
       "      <td>1.0</td>\n",
       "    </tr>\n",
       "    <tr>\n",
       "      <th>University &lt;br&gt;without &lt;br&gt;graduating</th>\n",
       "      <td>10.0</td>\n",
       "      <td>0.800000</td>\n",
       "      <td>0.421637</td>\n",
       "      <td>0.0</td>\n",
       "      <td>1.00</td>\n",
       "      <td>1.0</td>\n",
       "      <td>1.0</td>\n",
       "      <td>1.0</td>\n",
       "    </tr>\n",
       "    <tr>\n",
       "      <th>Vocational &lt;br&gt;Training</th>\n",
       "      <td>4.0</td>\n",
       "      <td>1.000000</td>\n",
       "      <td>0.000000</td>\n",
       "      <td>1.0</td>\n",
       "      <td>1.00</td>\n",
       "      <td>1.0</td>\n",
       "      <td>1.0</td>\n",
       "      <td>1.0</td>\n",
       "    </tr>\n",
       "  </tbody>\n",
       "</table>\n",
       "</div>"
      ],
      "text/plain": [
       "                                                    count      mean       std  \\\n",
       "Educational level                                                               \n",
       "Completed <br>Compulsory<br>Secondary <br>Educa...    8.0  1.000000  0.000000   \n",
       "Primary <br>education                                 6.0  0.666667  0.516398   \n",
       "Unfinished <br>Compulsory<br>Secondary <br>Educ...    1.0  1.000000       NaN   \n",
       "University <br>graduate                               9.0  0.888889  0.333333   \n",
       "University <br>without <br>graduating                10.0  0.800000  0.421637   \n",
       "Vocational <br>Training                               4.0  1.000000  0.000000   \n",
       "\n",
       "                                                    min   25%  50%  75%  max  \n",
       "Educational level                                                             \n",
       "Completed <br>Compulsory<br>Secondary <br>Educa...  1.0  1.00  1.0  1.0  1.0  \n",
       "Primary <br>education                               0.0  0.25  1.0  1.0  1.0  \n",
       "Unfinished <br>Compulsory<br>Secondary <br>Educ...  1.0  1.00  1.0  1.0  1.0  \n",
       "University <br>graduate                             0.0  1.00  1.0  1.0  1.0  \n",
       "University <br>without <br>graduating               0.0  1.00  1.0  1.0  1.0  \n",
       "Vocational <br>Training                             1.0  1.00  1.0  1.0  1.0  "
      ]
     },
     "metadata": {},
     "output_type": "display_data"
    },
    {
     "name": "stdout",
     "output_type": "stream",
     "text": [
      "Count of each value in Gender related to each Educational level in Unknown expressed as Educational level | Gender | Amount\n"
     ]
    },
    {
     "data": {
      "text/plain": [
       "Educational level                                     Gender\n",
       "Completed <br>Compulsory<br>Secondary <br>Education   1         8\n",
       "Primary <br>education                                 1         4\n",
       "                                                      0         2\n",
       "Unfinished <br>Compulsory<br>Secondary <br>Education  1         1\n",
       "University <br>graduate                               1         8\n",
       "                                                      0         1\n",
       "University <br>without <br>graduating                 1         8\n",
       "                                                      0         2\n",
       "Vocational <br>Training                               1         4\n",
       "Name: Gender, dtype: int64"
      ]
     },
     "metadata": {},
     "output_type": "display_data"
    },
    {
     "name": "stdout",
     "output_type": "stream",
     "text": [
      "Percentage of each value in Gender related to each Educational level in Unknown expressed as Educational level | Gender | Percentage\n"
     ]
    },
    {
     "data": {
      "text/plain": [
       "Educational level                                     Gender\n",
       "Completed <br>Compulsory<br>Secondary <br>Education   1         100.00\n",
       "Primary <br>education                                 1          66.67\n",
       "                                                      0          33.33\n",
       "Unfinished <br>Compulsory<br>Secondary <br>Education  1         100.00\n",
       "University <br>graduate                               1          88.89\n",
       "                                                      0          11.11\n",
       "University <br>without <br>graduating                 1          80.00\n",
       "                                                      0          20.00\n",
       "Vocational <br>Training                               1         100.00\n",
       "Name: Gender, dtype: float64"
      ]
     },
     "metadata": {},
     "output_type": "display_data"
    },
    {
     "name": "stdout",
     "output_type": "stream",
     "text": [
      "Describing the variable Gender in Slovakia related to Educational level\n"
     ]
    },
    {
     "data": {
      "text/html": [
       "<div>\n",
       "<style scoped>\n",
       "    .dataframe tbody tr th:only-of-type {\n",
       "        vertical-align: middle;\n",
       "    }\n",
       "\n",
       "    .dataframe tbody tr th {\n",
       "        vertical-align: top;\n",
       "    }\n",
       "\n",
       "    .dataframe thead th {\n",
       "        text-align: right;\n",
       "    }\n",
       "</style>\n",
       "<table border=\"1\" class=\"dataframe\">\n",
       "  <thead>\n",
       "    <tr style=\"text-align: right;\">\n",
       "      <th></th>\n",
       "      <th>count</th>\n",
       "      <th>mean</th>\n",
       "      <th>std</th>\n",
       "      <th>min</th>\n",
       "      <th>25%</th>\n",
       "      <th>50%</th>\n",
       "      <th>75%</th>\n",
       "      <th>max</th>\n",
       "    </tr>\n",
       "    <tr>\n",
       "      <th>Educational level</th>\n",
       "      <th></th>\n",
       "      <th></th>\n",
       "      <th></th>\n",
       "      <th></th>\n",
       "      <th></th>\n",
       "      <th></th>\n",
       "      <th></th>\n",
       "      <th></th>\n",
       "    </tr>\n",
       "  </thead>\n",
       "  <tbody>\n",
       "    <tr>\n",
       "      <th>University &lt;br&gt;without &lt;br&gt;graduating</th>\n",
       "      <td>1.0</td>\n",
       "      <td>0.0</td>\n",
       "      <td>NaN</td>\n",
       "      <td>0.0</td>\n",
       "      <td>0.0</td>\n",
       "      <td>0.0</td>\n",
       "      <td>0.0</td>\n",
       "      <td>0.0</td>\n",
       "    </tr>\n",
       "  </tbody>\n",
       "</table>\n",
       "</div>"
      ],
      "text/plain": [
       "                                       count  mean  std  min  25%  50%  75%  \\\n",
       "Educational level                                                             \n",
       "University <br>without <br>graduating    1.0   0.0  NaN  0.0  0.0  0.0  0.0   \n",
       "\n",
       "                                       max  \n",
       "Educational level                           \n",
       "University <br>without <br>graduating  0.0  "
      ]
     },
     "metadata": {},
     "output_type": "display_data"
    },
    {
     "name": "stdout",
     "output_type": "stream",
     "text": [
      "Count of each value in Gender related to each Educational level in Slovakia expressed as Educational level | Gender | Amount\n"
     ]
    },
    {
     "data": {
      "text/plain": [
       "Educational level                      Gender\n",
       "University <br>without <br>graduating  0         1\n",
       "Name: Gender, dtype: int64"
      ]
     },
     "metadata": {},
     "output_type": "display_data"
    },
    {
     "name": "stdout",
     "output_type": "stream",
     "text": [
      "Percentage of each value in Gender related to each Educational level in Slovakia expressed as Educational level | Gender | Percentage\n"
     ]
    },
    {
     "data": {
      "text/plain": [
       "Educational level                      Gender\n",
       "University <br>without <br>graduating  0         100.0\n",
       "Name: Gender, dtype: float64"
      ]
     },
     "metadata": {},
     "output_type": "display_data"
    },
    {
     "name": "stdout",
     "output_type": "stream",
     "text": [
      "Describing the variable Gender in India related to Educational level\n"
     ]
    },
    {
     "data": {
      "text/html": [
       "<div>\n",
       "<style scoped>\n",
       "    .dataframe tbody tr th:only-of-type {\n",
       "        vertical-align: middle;\n",
       "    }\n",
       "\n",
       "    .dataframe tbody tr th {\n",
       "        vertical-align: top;\n",
       "    }\n",
       "\n",
       "    .dataframe thead th {\n",
       "        text-align: right;\n",
       "    }\n",
       "</style>\n",
       "<table border=\"1\" class=\"dataframe\">\n",
       "  <thead>\n",
       "    <tr style=\"text-align: right;\">\n",
       "      <th></th>\n",
       "      <th>count</th>\n",
       "      <th>mean</th>\n",
       "      <th>std</th>\n",
       "      <th>min</th>\n",
       "      <th>25%</th>\n",
       "      <th>50%</th>\n",
       "      <th>75%</th>\n",
       "      <th>max</th>\n",
       "    </tr>\n",
       "    <tr>\n",
       "      <th>Educational level</th>\n",
       "      <th></th>\n",
       "      <th></th>\n",
       "      <th></th>\n",
       "      <th></th>\n",
       "      <th></th>\n",
       "      <th></th>\n",
       "      <th></th>\n",
       "      <th></th>\n",
       "    </tr>\n",
       "  </thead>\n",
       "  <tbody>\n",
       "    <tr>\n",
       "      <th>Completed &lt;br&gt;Compulsory&lt;br&gt;Secondary &lt;br&gt;Education</th>\n",
       "      <td>9.0</td>\n",
       "      <td>0.222222</td>\n",
       "      <td>0.440959</td>\n",
       "      <td>0.0</td>\n",
       "      <td>0.0</td>\n",
       "      <td>0.0</td>\n",
       "      <td>0.0</td>\n",
       "      <td>1.0</td>\n",
       "    </tr>\n",
       "    <tr>\n",
       "      <th>University &lt;br&gt;graduate</th>\n",
       "      <td>102.0</td>\n",
       "      <td>0.441176</td>\n",
       "      <td>0.498980</td>\n",
       "      <td>0.0</td>\n",
       "      <td>0.0</td>\n",
       "      <td>0.0</td>\n",
       "      <td>1.0</td>\n",
       "      <td>1.0</td>\n",
       "    </tr>\n",
       "    <tr>\n",
       "      <th>University &lt;br&gt;without &lt;br&gt;graduating</th>\n",
       "      <td>8.0</td>\n",
       "      <td>0.375000</td>\n",
       "      <td>0.517549</td>\n",
       "      <td>0.0</td>\n",
       "      <td>0.0</td>\n",
       "      <td>0.0</td>\n",
       "      <td>1.0</td>\n",
       "      <td>1.0</td>\n",
       "    </tr>\n",
       "    <tr>\n",
       "      <th>Vocational &lt;br&gt;Training</th>\n",
       "      <td>1.0</td>\n",
       "      <td>0.000000</td>\n",
       "      <td>NaN</td>\n",
       "      <td>0.0</td>\n",
       "      <td>0.0</td>\n",
       "      <td>0.0</td>\n",
       "      <td>0.0</td>\n",
       "      <td>0.0</td>\n",
       "    </tr>\n",
       "  </tbody>\n",
       "</table>\n",
       "</div>"
      ],
      "text/plain": [
       "                                                    count      mean       std  \\\n",
       "Educational level                                                               \n",
       "Completed <br>Compulsory<br>Secondary <br>Educa...    9.0  0.222222  0.440959   \n",
       "University <br>graduate                             102.0  0.441176  0.498980   \n",
       "University <br>without <br>graduating                 8.0  0.375000  0.517549   \n",
       "Vocational <br>Training                               1.0  0.000000       NaN   \n",
       "\n",
       "                                                    min  25%  50%  75%  max  \n",
       "Educational level                                                            \n",
       "Completed <br>Compulsory<br>Secondary <br>Educa...  0.0  0.0  0.0  0.0  1.0  \n",
       "University <br>graduate                             0.0  0.0  0.0  1.0  1.0  \n",
       "University <br>without <br>graduating               0.0  0.0  0.0  1.0  1.0  \n",
       "Vocational <br>Training                             0.0  0.0  0.0  0.0  0.0  "
      ]
     },
     "metadata": {},
     "output_type": "display_data"
    },
    {
     "name": "stdout",
     "output_type": "stream",
     "text": [
      "Count of each value in Gender related to each Educational level in India expressed as Educational level | Gender | Amount\n"
     ]
    },
    {
     "data": {
      "text/plain": [
       "Educational level                                    Gender\n",
       "Completed <br>Compulsory<br>Secondary <br>Education  0          7\n",
       "                                                     1          2\n",
       "University <br>graduate                              0         57\n",
       "                                                     1         45\n",
       "University <br>without <br>graduating                0          5\n",
       "                                                     1          3\n",
       "Vocational <br>Training                              0          1\n",
       "Name: Gender, dtype: int64"
      ]
     },
     "metadata": {},
     "output_type": "display_data"
    },
    {
     "name": "stdout",
     "output_type": "stream",
     "text": [
      "Percentage of each value in Gender related to each Educational level in India expressed as Educational level | Gender | Percentage\n"
     ]
    },
    {
     "data": {
      "text/plain": [
       "Educational level                                    Gender\n",
       "Completed <br>Compulsory<br>Secondary <br>Education  0          77.78\n",
       "                                                     1          22.22\n",
       "University <br>graduate                              0          55.88\n",
       "                                                     1          44.12\n",
       "University <br>without <br>graduating                0          62.50\n",
       "                                                     1          37.50\n",
       "Vocational <br>Training                              0         100.00\n",
       "Name: Gender, dtype: float64"
      ]
     },
     "metadata": {},
     "output_type": "display_data"
    },
    {
     "name": "stdout",
     "output_type": "stream",
     "text": [
      "Describing the variable Gender in Italy related to Educational level\n"
     ]
    },
    {
     "data": {
      "text/html": [
       "<div>\n",
       "<style scoped>\n",
       "    .dataframe tbody tr th:only-of-type {\n",
       "        vertical-align: middle;\n",
       "    }\n",
       "\n",
       "    .dataframe tbody tr th {\n",
       "        vertical-align: top;\n",
       "    }\n",
       "\n",
       "    .dataframe thead th {\n",
       "        text-align: right;\n",
       "    }\n",
       "</style>\n",
       "<table border=\"1\" class=\"dataframe\">\n",
       "  <thead>\n",
       "    <tr style=\"text-align: right;\">\n",
       "      <th></th>\n",
       "      <th>count</th>\n",
       "      <th>mean</th>\n",
       "      <th>std</th>\n",
       "      <th>min</th>\n",
       "      <th>25%</th>\n",
       "      <th>50%</th>\n",
       "      <th>75%</th>\n",
       "      <th>max</th>\n",
       "    </tr>\n",
       "    <tr>\n",
       "      <th>Educational level</th>\n",
       "      <th></th>\n",
       "      <th></th>\n",
       "      <th></th>\n",
       "      <th></th>\n",
       "      <th></th>\n",
       "      <th></th>\n",
       "      <th></th>\n",
       "      <th></th>\n",
       "    </tr>\n",
       "  </thead>\n",
       "  <tbody>\n",
       "    <tr>\n",
       "      <th>Completed &lt;br&gt;Compulsory&lt;br&gt;Secondary &lt;br&gt;Education</th>\n",
       "      <td>1.0</td>\n",
       "      <td>0.000000</td>\n",
       "      <td>NaN</td>\n",
       "      <td>0.0</td>\n",
       "      <td>0.0</td>\n",
       "      <td>0.0</td>\n",
       "      <td>0.0</td>\n",
       "      <td>0.0</td>\n",
       "    </tr>\n",
       "    <tr>\n",
       "      <th>University &lt;br&gt;graduate</th>\n",
       "      <td>6.0</td>\n",
       "      <td>0.166667</td>\n",
       "      <td>0.408248</td>\n",
       "      <td>0.0</td>\n",
       "      <td>0.0</td>\n",
       "      <td>0.0</td>\n",
       "      <td>0.0</td>\n",
       "      <td>1.0</td>\n",
       "    </tr>\n",
       "    <tr>\n",
       "      <th>University &lt;br&gt;without &lt;br&gt;graduating</th>\n",
       "      <td>3.0</td>\n",
       "      <td>0.333333</td>\n",
       "      <td>0.577350</td>\n",
       "      <td>0.0</td>\n",
       "      <td>0.0</td>\n",
       "      <td>0.0</td>\n",
       "      <td>0.5</td>\n",
       "      <td>1.0</td>\n",
       "    </tr>\n",
       "    <tr>\n",
       "      <th>Vocational &lt;br&gt;Training</th>\n",
       "      <td>1.0</td>\n",
       "      <td>1.000000</td>\n",
       "      <td>NaN</td>\n",
       "      <td>1.0</td>\n",
       "      <td>1.0</td>\n",
       "      <td>1.0</td>\n",
       "      <td>1.0</td>\n",
       "      <td>1.0</td>\n",
       "    </tr>\n",
       "  </tbody>\n",
       "</table>\n",
       "</div>"
      ],
      "text/plain": [
       "                                                    count      mean       std  \\\n",
       "Educational level                                                               \n",
       "Completed <br>Compulsory<br>Secondary <br>Educa...    1.0  0.000000       NaN   \n",
       "University <br>graduate                               6.0  0.166667  0.408248   \n",
       "University <br>without <br>graduating                 3.0  0.333333  0.577350   \n",
       "Vocational <br>Training                               1.0  1.000000       NaN   \n",
       "\n",
       "                                                    min  25%  50%  75%  max  \n",
       "Educational level                                                            \n",
       "Completed <br>Compulsory<br>Secondary <br>Educa...  0.0  0.0  0.0  0.0  0.0  \n",
       "University <br>graduate                             0.0  0.0  0.0  0.0  1.0  \n",
       "University <br>without <br>graduating               0.0  0.0  0.0  0.5  1.0  \n",
       "Vocational <br>Training                             1.0  1.0  1.0  1.0  1.0  "
      ]
     },
     "metadata": {},
     "output_type": "display_data"
    },
    {
     "name": "stdout",
     "output_type": "stream",
     "text": [
      "Count of each value in Gender related to each Educational level in Italy expressed as Educational level | Gender | Amount\n"
     ]
    },
    {
     "data": {
      "text/plain": [
       "Educational level                                    Gender\n",
       "Completed <br>Compulsory<br>Secondary <br>Education  0         1\n",
       "University <br>graduate                              0         5\n",
       "                                                     1         1\n",
       "University <br>without <br>graduating                0         2\n",
       "                                                     1         1\n",
       "Vocational <br>Training                              1         1\n",
       "Name: Gender, dtype: int64"
      ]
     },
     "metadata": {},
     "output_type": "display_data"
    },
    {
     "name": "stdout",
     "output_type": "stream",
     "text": [
      "Percentage of each value in Gender related to each Educational level in Italy expressed as Educational level | Gender | Percentage\n"
     ]
    },
    {
     "data": {
      "text/plain": [
       "Educational level                                    Gender\n",
       "Completed <br>Compulsory<br>Secondary <br>Education  0         100.00\n",
       "University <br>graduate                              0          83.33\n",
       "                                                     1          16.67\n",
       "University <br>without <br>graduating                0          66.67\n",
       "                                                     1          33.33\n",
       "Vocational <br>Training                              1         100.00\n",
       "Name: Gender, dtype: float64"
      ]
     },
     "metadata": {},
     "output_type": "display_data"
    },
    {
     "name": "stdout",
     "output_type": "stream",
     "text": [
      "Describing the variable Gender in England related to Educational level\n"
     ]
    },
    {
     "data": {
      "text/html": [
       "<div>\n",
       "<style scoped>\n",
       "    .dataframe tbody tr th:only-of-type {\n",
       "        vertical-align: middle;\n",
       "    }\n",
       "\n",
       "    .dataframe tbody tr th {\n",
       "        vertical-align: top;\n",
       "    }\n",
       "\n",
       "    .dataframe thead th {\n",
       "        text-align: right;\n",
       "    }\n",
       "</style>\n",
       "<table border=\"1\" class=\"dataframe\">\n",
       "  <thead>\n",
       "    <tr style=\"text-align: right;\">\n",
       "      <th></th>\n",
       "      <th>count</th>\n",
       "      <th>mean</th>\n",
       "      <th>std</th>\n",
       "      <th>min</th>\n",
       "      <th>25%</th>\n",
       "      <th>50%</th>\n",
       "      <th>75%</th>\n",
       "      <th>max</th>\n",
       "    </tr>\n",
       "    <tr>\n",
       "      <th>Educational level</th>\n",
       "      <th></th>\n",
       "      <th></th>\n",
       "      <th></th>\n",
       "      <th></th>\n",
       "      <th></th>\n",
       "      <th></th>\n",
       "      <th></th>\n",
       "      <th></th>\n",
       "    </tr>\n",
       "  </thead>\n",
       "  <tbody>\n",
       "    <tr>\n",
       "      <th>University &lt;br&gt;graduate</th>\n",
       "      <td>6.0</td>\n",
       "      <td>0.333333</td>\n",
       "      <td>0.516398</td>\n",
       "      <td>0.0</td>\n",
       "      <td>0.0</td>\n",
       "      <td>0.0</td>\n",
       "      <td>0.75</td>\n",
       "      <td>1.0</td>\n",
       "    </tr>\n",
       "    <tr>\n",
       "      <th>University &lt;br&gt;without &lt;br&gt;graduating</th>\n",
       "      <td>4.0</td>\n",
       "      <td>0.500000</td>\n",
       "      <td>0.577350</td>\n",
       "      <td>0.0</td>\n",
       "      <td>0.0</td>\n",
       "      <td>0.5</td>\n",
       "      <td>1.00</td>\n",
       "      <td>1.0</td>\n",
       "    </tr>\n",
       "  </tbody>\n",
       "</table>\n",
       "</div>"
      ],
      "text/plain": [
       "                                       count      mean       std  min  25%  \\\n",
       "Educational level                                                            \n",
       "University <br>graduate                  6.0  0.333333  0.516398  0.0  0.0   \n",
       "University <br>without <br>graduating    4.0  0.500000  0.577350  0.0  0.0   \n",
       "\n",
       "                                       50%   75%  max  \n",
       "Educational level                                      \n",
       "University <br>graduate                0.0  0.75  1.0  \n",
       "University <br>without <br>graduating  0.5  1.00  1.0  "
      ]
     },
     "metadata": {},
     "output_type": "display_data"
    },
    {
     "name": "stdout",
     "output_type": "stream",
     "text": [
      "Count of each value in Gender related to each Educational level in England expressed as Educational level | Gender | Amount\n"
     ]
    },
    {
     "data": {
      "text/plain": [
       "Educational level                      Gender\n",
       "University <br>graduate                0         4\n",
       "                                       1         2\n",
       "University <br>without <br>graduating  0         2\n",
       "                                       1         2\n",
       "Name: Gender, dtype: int64"
      ]
     },
     "metadata": {},
     "output_type": "display_data"
    },
    {
     "name": "stdout",
     "output_type": "stream",
     "text": [
      "Percentage of each value in Gender related to each Educational level in England expressed as Educational level | Gender | Percentage\n"
     ]
    },
    {
     "data": {
      "text/plain": [
       "Educational level                      Gender\n",
       "University <br>graduate                0         66.67\n",
       "                                       1         33.33\n",
       "University <br>without <br>graduating  0         50.00\n",
       "                                       1         50.00\n",
       "Name: Gender, dtype: float64"
      ]
     },
     "metadata": {},
     "output_type": "display_data"
    },
    {
     "name": "stdout",
     "output_type": "stream",
     "text": [
      "Describing the variable Gender in Germany related to Educational level\n"
     ]
    },
    {
     "data": {
      "text/html": [
       "<div>\n",
       "<style scoped>\n",
       "    .dataframe tbody tr th:only-of-type {\n",
       "        vertical-align: middle;\n",
       "    }\n",
       "\n",
       "    .dataframe tbody tr th {\n",
       "        vertical-align: top;\n",
       "    }\n",
       "\n",
       "    .dataframe thead th {\n",
       "        text-align: right;\n",
       "    }\n",
       "</style>\n",
       "<table border=\"1\" class=\"dataframe\">\n",
       "  <thead>\n",
       "    <tr style=\"text-align: right;\">\n",
       "      <th></th>\n",
       "      <th>count</th>\n",
       "      <th>mean</th>\n",
       "      <th>std</th>\n",
       "      <th>min</th>\n",
       "      <th>25%</th>\n",
       "      <th>50%</th>\n",
       "      <th>75%</th>\n",
       "      <th>max</th>\n",
       "    </tr>\n",
       "    <tr>\n",
       "      <th>Educational level</th>\n",
       "      <th></th>\n",
       "      <th></th>\n",
       "      <th></th>\n",
       "      <th></th>\n",
       "      <th></th>\n",
       "      <th></th>\n",
       "      <th></th>\n",
       "      <th></th>\n",
       "    </tr>\n",
       "  </thead>\n",
       "  <tbody>\n",
       "    <tr>\n",
       "      <th>University &lt;br&gt;graduate</th>\n",
       "      <td>1.0</td>\n",
       "      <td>1.0</td>\n",
       "      <td>NaN</td>\n",
       "      <td>1.0</td>\n",
       "      <td>1.0</td>\n",
       "      <td>1.0</td>\n",
       "      <td>1.0</td>\n",
       "      <td>1.0</td>\n",
       "    </tr>\n",
       "  </tbody>\n",
       "</table>\n",
       "</div>"
      ],
      "text/plain": [
       "                         count  mean  std  min  25%  50%  75%  max\n",
       "Educational level                                                 \n",
       "University <br>graduate    1.0   1.0  NaN  1.0  1.0  1.0  1.0  1.0"
      ]
     },
     "metadata": {},
     "output_type": "display_data"
    },
    {
     "name": "stdout",
     "output_type": "stream",
     "text": [
      "Count of each value in Gender related to each Educational level in Germany expressed as Educational level | Gender | Amount\n"
     ]
    },
    {
     "data": {
      "text/plain": [
       "Educational level        Gender\n",
       "University <br>graduate  1         1\n",
       "Name: Gender, dtype: int64"
      ]
     },
     "metadata": {},
     "output_type": "display_data"
    },
    {
     "name": "stdout",
     "output_type": "stream",
     "text": [
      "Percentage of each value in Gender related to each Educational level in Germany expressed as Educational level | Gender | Percentage\n"
     ]
    },
    {
     "data": {
      "text/plain": [
       "Educational level        Gender\n",
       "University <br>graduate  1         100.0\n",
       "Name: Gender, dtype: float64"
      ]
     },
     "metadata": {},
     "output_type": "display_data"
    },
    {
     "name": "stdout",
     "output_type": "stream",
     "text": [
      "Describing the variable Gender in Venezuela related to Educational level\n"
     ]
    },
    {
     "data": {
      "text/html": [
       "<div>\n",
       "<style scoped>\n",
       "    .dataframe tbody tr th:only-of-type {\n",
       "        vertical-align: middle;\n",
       "    }\n",
       "\n",
       "    .dataframe tbody tr th {\n",
       "        vertical-align: top;\n",
       "    }\n",
       "\n",
       "    .dataframe thead th {\n",
       "        text-align: right;\n",
       "    }\n",
       "</style>\n",
       "<table border=\"1\" class=\"dataframe\">\n",
       "  <thead>\n",
       "    <tr style=\"text-align: right;\">\n",
       "      <th></th>\n",
       "      <th>count</th>\n",
       "      <th>mean</th>\n",
       "      <th>std</th>\n",
       "      <th>min</th>\n",
       "      <th>25%</th>\n",
       "      <th>50%</th>\n",
       "      <th>75%</th>\n",
       "      <th>max</th>\n",
       "    </tr>\n",
       "    <tr>\n",
       "      <th>Educational level</th>\n",
       "      <th></th>\n",
       "      <th></th>\n",
       "      <th></th>\n",
       "      <th></th>\n",
       "      <th></th>\n",
       "      <th></th>\n",
       "      <th></th>\n",
       "      <th></th>\n",
       "    </tr>\n",
       "  </thead>\n",
       "  <tbody>\n",
       "    <tr>\n",
       "      <th>University &lt;br&gt;graduate</th>\n",
       "      <td>3.0</td>\n",
       "      <td>0.666667</td>\n",
       "      <td>0.57735</td>\n",
       "      <td>0.0</td>\n",
       "      <td>0.5</td>\n",
       "      <td>1.0</td>\n",
       "      <td>1.0</td>\n",
       "      <td>1.0</td>\n",
       "    </tr>\n",
       "    <tr>\n",
       "      <th>University &lt;br&gt;without &lt;br&gt;graduating</th>\n",
       "      <td>1.0</td>\n",
       "      <td>0.000000</td>\n",
       "      <td>NaN</td>\n",
       "      <td>0.0</td>\n",
       "      <td>0.0</td>\n",
       "      <td>0.0</td>\n",
       "      <td>0.0</td>\n",
       "      <td>0.0</td>\n",
       "    </tr>\n",
       "  </tbody>\n",
       "</table>\n",
       "</div>"
      ],
      "text/plain": [
       "                                       count      mean      std  min  25%  \\\n",
       "Educational level                                                           \n",
       "University <br>graduate                  3.0  0.666667  0.57735  0.0  0.5   \n",
       "University <br>without <br>graduating    1.0  0.000000      NaN  0.0  0.0   \n",
       "\n",
       "                                       50%  75%  max  \n",
       "Educational level                                     \n",
       "University <br>graduate                1.0  1.0  1.0  \n",
       "University <br>without <br>graduating  0.0  0.0  0.0  "
      ]
     },
     "metadata": {},
     "output_type": "display_data"
    },
    {
     "name": "stdout",
     "output_type": "stream",
     "text": [
      "Count of each value in Gender related to each Educational level in Venezuela expressed as Educational level | Gender | Amount\n"
     ]
    },
    {
     "data": {
      "text/plain": [
       "Educational level                      Gender\n",
       "University <br>graduate                1         2\n",
       "                                       0         1\n",
       "University <br>without <br>graduating  0         1\n",
       "Name: Gender, dtype: int64"
      ]
     },
     "metadata": {},
     "output_type": "display_data"
    },
    {
     "name": "stdout",
     "output_type": "stream",
     "text": [
      "Percentage of each value in Gender related to each Educational level in Venezuela expressed as Educational level | Gender | Percentage\n"
     ]
    },
    {
     "data": {
      "text/plain": [
       "Educational level                      Gender\n",
       "University <br>graduate                1          66.67\n",
       "                                       0          33.33\n",
       "University <br>without <br>graduating  0         100.00\n",
       "Name: Gender, dtype: float64"
      ]
     },
     "metadata": {},
     "output_type": "display_data"
    },
    {
     "name": "stdout",
     "output_type": "stream",
     "text": [
      "Describing the variable Gender in Albania related to Educational level\n"
     ]
    },
    {
     "data": {
      "text/html": [
       "<div>\n",
       "<style scoped>\n",
       "    .dataframe tbody tr th:only-of-type {\n",
       "        vertical-align: middle;\n",
       "    }\n",
       "\n",
       "    .dataframe tbody tr th {\n",
       "        vertical-align: top;\n",
       "    }\n",
       "\n",
       "    .dataframe thead th {\n",
       "        text-align: right;\n",
       "    }\n",
       "</style>\n",
       "<table border=\"1\" class=\"dataframe\">\n",
       "  <thead>\n",
       "    <tr style=\"text-align: right;\">\n",
       "      <th></th>\n",
       "      <th>count</th>\n",
       "      <th>mean</th>\n",
       "      <th>std</th>\n",
       "      <th>min</th>\n",
       "      <th>25%</th>\n",
       "      <th>50%</th>\n",
       "      <th>75%</th>\n",
       "      <th>max</th>\n",
       "    </tr>\n",
       "    <tr>\n",
       "      <th>Educational level</th>\n",
       "      <th></th>\n",
       "      <th></th>\n",
       "      <th></th>\n",
       "      <th></th>\n",
       "      <th></th>\n",
       "      <th></th>\n",
       "      <th></th>\n",
       "      <th></th>\n",
       "    </tr>\n",
       "  </thead>\n",
       "  <tbody>\n",
       "    <tr>\n",
       "      <th>University &lt;br&gt;graduate</th>\n",
       "      <td>1.0</td>\n",
       "      <td>0.0</td>\n",
       "      <td>NaN</td>\n",
       "      <td>0.0</td>\n",
       "      <td>0.0</td>\n",
       "      <td>0.0</td>\n",
       "      <td>0.0</td>\n",
       "      <td>0.0</td>\n",
       "    </tr>\n",
       "  </tbody>\n",
       "</table>\n",
       "</div>"
      ],
      "text/plain": [
       "                         count  mean  std  min  25%  50%  75%  max\n",
       "Educational level                                                 \n",
       "University <br>graduate    1.0   0.0  NaN  0.0  0.0  0.0  0.0  0.0"
      ]
     },
     "metadata": {},
     "output_type": "display_data"
    },
    {
     "name": "stdout",
     "output_type": "stream",
     "text": [
      "Count of each value in Gender related to each Educational level in Albania expressed as Educational level | Gender | Amount\n"
     ]
    },
    {
     "data": {
      "text/plain": [
       "Educational level        Gender\n",
       "University <br>graduate  0         1\n",
       "Name: Gender, dtype: int64"
      ]
     },
     "metadata": {},
     "output_type": "display_data"
    },
    {
     "name": "stdout",
     "output_type": "stream",
     "text": [
      "Percentage of each value in Gender related to each Educational level in Albania expressed as Educational level | Gender | Percentage\n"
     ]
    },
    {
     "data": {
      "text/plain": [
       "Educational level        Gender\n",
       "University <br>graduate  0         100.0\n",
       "Name: Gender, dtype: float64"
      ]
     },
     "metadata": {},
     "output_type": "display_data"
    },
    {
     "name": "stdout",
     "output_type": "stream",
     "text": [
      "Describing the variable Gender in Mexico related to Educational level\n"
     ]
    },
    {
     "data": {
      "text/html": [
       "<div>\n",
       "<style scoped>\n",
       "    .dataframe tbody tr th:only-of-type {\n",
       "        vertical-align: middle;\n",
       "    }\n",
       "\n",
       "    .dataframe tbody tr th {\n",
       "        vertical-align: top;\n",
       "    }\n",
       "\n",
       "    .dataframe thead th {\n",
       "        text-align: right;\n",
       "    }\n",
       "</style>\n",
       "<table border=\"1\" class=\"dataframe\">\n",
       "  <thead>\n",
       "    <tr style=\"text-align: right;\">\n",
       "      <th></th>\n",
       "      <th>count</th>\n",
       "      <th>mean</th>\n",
       "      <th>std</th>\n",
       "      <th>min</th>\n",
       "      <th>25%</th>\n",
       "      <th>50%</th>\n",
       "      <th>75%</th>\n",
       "      <th>max</th>\n",
       "    </tr>\n",
       "    <tr>\n",
       "      <th>Educational level</th>\n",
       "      <th></th>\n",
       "      <th></th>\n",
       "      <th></th>\n",
       "      <th></th>\n",
       "      <th></th>\n",
       "      <th></th>\n",
       "      <th></th>\n",
       "      <th></th>\n",
       "    </tr>\n",
       "  </thead>\n",
       "  <tbody>\n",
       "    <tr>\n",
       "      <th>University &lt;br&gt;without &lt;br&gt;graduating</th>\n",
       "      <td>1.0</td>\n",
       "      <td>0.0</td>\n",
       "      <td>NaN</td>\n",
       "      <td>0.0</td>\n",
       "      <td>0.0</td>\n",
       "      <td>0.0</td>\n",
       "      <td>0.0</td>\n",
       "      <td>0.0</td>\n",
       "    </tr>\n",
       "  </tbody>\n",
       "</table>\n",
       "</div>"
      ],
      "text/plain": [
       "                                       count  mean  std  min  25%  50%  75%  \\\n",
       "Educational level                                                             \n",
       "University <br>without <br>graduating    1.0   0.0  NaN  0.0  0.0  0.0  0.0   \n",
       "\n",
       "                                       max  \n",
       "Educational level                           \n",
       "University <br>without <br>graduating  0.0  "
      ]
     },
     "metadata": {},
     "output_type": "display_data"
    },
    {
     "name": "stdout",
     "output_type": "stream",
     "text": [
      "Count of each value in Gender related to each Educational level in Mexico expressed as Educational level | Gender | Amount\n"
     ]
    },
    {
     "data": {
      "text/plain": [
       "Educational level                      Gender\n",
       "University <br>without <br>graduating  0         1\n",
       "Name: Gender, dtype: int64"
      ]
     },
     "metadata": {},
     "output_type": "display_data"
    },
    {
     "name": "stdout",
     "output_type": "stream",
     "text": [
      "Percentage of each value in Gender related to each Educational level in Mexico expressed as Educational level | Gender | Percentage\n"
     ]
    },
    {
     "data": {
      "text/plain": [
       "Educational level                      Gender\n",
       "University <br>without <br>graduating  0         100.0\n",
       "Name: Gender, dtype: float64"
      ]
     },
     "metadata": {},
     "output_type": "display_data"
    },
    {
     "name": "stdout",
     "output_type": "stream",
     "text": [
      "Describing the variable Gender in Pakistan related to Educational level\n"
     ]
    },
    {
     "data": {
      "text/html": [
       "<div>\n",
       "<style scoped>\n",
       "    .dataframe tbody tr th:only-of-type {\n",
       "        vertical-align: middle;\n",
       "    }\n",
       "\n",
       "    .dataframe tbody tr th {\n",
       "        vertical-align: top;\n",
       "    }\n",
       "\n",
       "    .dataframe thead th {\n",
       "        text-align: right;\n",
       "    }\n",
       "</style>\n",
       "<table border=\"1\" class=\"dataframe\">\n",
       "  <thead>\n",
       "    <tr style=\"text-align: right;\">\n",
       "      <th></th>\n",
       "      <th>count</th>\n",
       "      <th>mean</th>\n",
       "      <th>std</th>\n",
       "      <th>min</th>\n",
       "      <th>25%</th>\n",
       "      <th>50%</th>\n",
       "      <th>75%</th>\n",
       "      <th>max</th>\n",
       "    </tr>\n",
       "    <tr>\n",
       "      <th>Educational level</th>\n",
       "      <th></th>\n",
       "      <th></th>\n",
       "      <th></th>\n",
       "      <th></th>\n",
       "      <th></th>\n",
       "      <th></th>\n",
       "      <th></th>\n",
       "      <th></th>\n",
       "    </tr>\n",
       "  </thead>\n",
       "  <tbody>\n",
       "    <tr>\n",
       "      <th>University &lt;br&gt;graduate</th>\n",
       "      <td>1.0</td>\n",
       "      <td>1.0</td>\n",
       "      <td>NaN</td>\n",
       "      <td>1.0</td>\n",
       "      <td>1.0</td>\n",
       "      <td>1.0</td>\n",
       "      <td>1.0</td>\n",
       "      <td>1.0</td>\n",
       "    </tr>\n",
       "  </tbody>\n",
       "</table>\n",
       "</div>"
      ],
      "text/plain": [
       "                         count  mean  std  min  25%  50%  75%  max\n",
       "Educational level                                                 \n",
       "University <br>graduate    1.0   1.0  NaN  1.0  1.0  1.0  1.0  1.0"
      ]
     },
     "metadata": {},
     "output_type": "display_data"
    },
    {
     "name": "stdout",
     "output_type": "stream",
     "text": [
      "Count of each value in Gender related to each Educational level in Pakistan expressed as Educational level | Gender | Amount\n"
     ]
    },
    {
     "data": {
      "text/plain": [
       "Educational level        Gender\n",
       "University <br>graduate  1         1\n",
       "Name: Gender, dtype: int64"
      ]
     },
     "metadata": {},
     "output_type": "display_data"
    },
    {
     "name": "stdout",
     "output_type": "stream",
     "text": [
      "Percentage of each value in Gender related to each Educational level in Pakistan expressed as Educational level | Gender | Percentage\n"
     ]
    },
    {
     "data": {
      "text/plain": [
       "Educational level        Gender\n",
       "University <br>graduate  1         100.0\n",
       "Name: Gender, dtype: float64"
      ]
     },
     "metadata": {},
     "output_type": "display_data"
    },
    {
     "name": "stdout",
     "output_type": "stream",
     "text": [
      "Describing the variable Gender in The Bahamas related to Educational level\n"
     ]
    },
    {
     "data": {
      "text/html": [
       "<div>\n",
       "<style scoped>\n",
       "    .dataframe tbody tr th:only-of-type {\n",
       "        vertical-align: middle;\n",
       "    }\n",
       "\n",
       "    .dataframe tbody tr th {\n",
       "        vertical-align: top;\n",
       "    }\n",
       "\n",
       "    .dataframe thead th {\n",
       "        text-align: right;\n",
       "    }\n",
       "</style>\n",
       "<table border=\"1\" class=\"dataframe\">\n",
       "  <thead>\n",
       "    <tr style=\"text-align: right;\">\n",
       "      <th></th>\n",
       "      <th>count</th>\n",
       "      <th>mean</th>\n",
       "      <th>std</th>\n",
       "      <th>min</th>\n",
       "      <th>25%</th>\n",
       "      <th>50%</th>\n",
       "      <th>75%</th>\n",
       "      <th>max</th>\n",
       "    </tr>\n",
       "    <tr>\n",
       "      <th>Educational level</th>\n",
       "      <th></th>\n",
       "      <th></th>\n",
       "      <th></th>\n",
       "      <th></th>\n",
       "      <th></th>\n",
       "      <th></th>\n",
       "      <th></th>\n",
       "      <th></th>\n",
       "    </tr>\n",
       "  </thead>\n",
       "  <tbody>\n",
       "    <tr>\n",
       "      <th>University &lt;br&gt;graduate</th>\n",
       "      <td>1.0</td>\n",
       "      <td>1.0</td>\n",
       "      <td>NaN</td>\n",
       "      <td>1.0</td>\n",
       "      <td>1.0</td>\n",
       "      <td>1.0</td>\n",
       "      <td>1.0</td>\n",
       "      <td>1.0</td>\n",
       "    </tr>\n",
       "  </tbody>\n",
       "</table>\n",
       "</div>"
      ],
      "text/plain": [
       "                         count  mean  std  min  25%  50%  75%  max\n",
       "Educational level                                                 \n",
       "University <br>graduate    1.0   1.0  NaN  1.0  1.0  1.0  1.0  1.0"
      ]
     },
     "metadata": {},
     "output_type": "display_data"
    },
    {
     "name": "stdout",
     "output_type": "stream",
     "text": [
      "Count of each value in Gender related to each Educational level in The Bahamas expressed as Educational level | Gender | Amount\n"
     ]
    },
    {
     "data": {
      "text/plain": [
       "Educational level        Gender\n",
       "University <br>graduate  1         1\n",
       "Name: Gender, dtype: int64"
      ]
     },
     "metadata": {},
     "output_type": "display_data"
    },
    {
     "name": "stdout",
     "output_type": "stream",
     "text": [
      "Percentage of each value in Gender related to each Educational level in The Bahamas expressed as Educational level | Gender | Percentage\n"
     ]
    },
    {
     "data": {
      "text/plain": [
       "Educational level        Gender\n",
       "University <br>graduate  1         100.0\n",
       "Name: Gender, dtype: float64"
      ]
     },
     "metadata": {},
     "output_type": "display_data"
    },
    {
     "name": "stdout",
     "output_type": "stream",
     "text": [
      "Describing the variable Gender in Argentina related to Educational level\n"
     ]
    },
    {
     "data": {
      "text/html": [
       "<div>\n",
       "<style scoped>\n",
       "    .dataframe tbody tr th:only-of-type {\n",
       "        vertical-align: middle;\n",
       "    }\n",
       "\n",
       "    .dataframe tbody tr th {\n",
       "        vertical-align: top;\n",
       "    }\n",
       "\n",
       "    .dataframe thead th {\n",
       "        text-align: right;\n",
       "    }\n",
       "</style>\n",
       "<table border=\"1\" class=\"dataframe\">\n",
       "  <thead>\n",
       "    <tr style=\"text-align: right;\">\n",
       "      <th></th>\n",
       "      <th>count</th>\n",
       "      <th>mean</th>\n",
       "      <th>std</th>\n",
       "      <th>min</th>\n",
       "      <th>25%</th>\n",
       "      <th>50%</th>\n",
       "      <th>75%</th>\n",
       "      <th>max</th>\n",
       "    </tr>\n",
       "    <tr>\n",
       "      <th>Educational level</th>\n",
       "      <th></th>\n",
       "      <th></th>\n",
       "      <th></th>\n",
       "      <th></th>\n",
       "      <th></th>\n",
       "      <th></th>\n",
       "      <th></th>\n",
       "      <th></th>\n",
       "    </tr>\n",
       "  </thead>\n",
       "  <tbody>\n",
       "    <tr>\n",
       "      <th>University &lt;br&gt;graduate</th>\n",
       "      <td>1.0</td>\n",
       "      <td>0.0</td>\n",
       "      <td>NaN</td>\n",
       "      <td>0.0</td>\n",
       "      <td>0.0</td>\n",
       "      <td>0.0</td>\n",
       "      <td>0.0</td>\n",
       "      <td>0.0</td>\n",
       "    </tr>\n",
       "  </tbody>\n",
       "</table>\n",
       "</div>"
      ],
      "text/plain": [
       "                         count  mean  std  min  25%  50%  75%  max\n",
       "Educational level                                                 \n",
       "University <br>graduate    1.0   0.0  NaN  0.0  0.0  0.0  0.0  0.0"
      ]
     },
     "metadata": {},
     "output_type": "display_data"
    },
    {
     "name": "stdout",
     "output_type": "stream",
     "text": [
      "Count of each value in Gender related to each Educational level in Argentina expressed as Educational level | Gender | Amount\n"
     ]
    },
    {
     "data": {
      "text/plain": [
       "Educational level        Gender\n",
       "University <br>graduate  0         1\n",
       "Name: Gender, dtype: int64"
      ]
     },
     "metadata": {},
     "output_type": "display_data"
    },
    {
     "name": "stdout",
     "output_type": "stream",
     "text": [
      "Percentage of each value in Gender related to each Educational level in Argentina expressed as Educational level | Gender | Percentage\n"
     ]
    },
    {
     "data": {
      "text/plain": [
       "Educational level        Gender\n",
       "University <br>graduate  0         100.0\n",
       "Name: Gender, dtype: float64"
      ]
     },
     "metadata": {},
     "output_type": "display_data"
    },
    {
     "name": "stdout",
     "output_type": "stream",
     "text": [
      "Describing the variable Gender in Iceland related to Educational level\n"
     ]
    },
    {
     "data": {
      "text/html": [
       "<div>\n",
       "<style scoped>\n",
       "    .dataframe tbody tr th:only-of-type {\n",
       "        vertical-align: middle;\n",
       "    }\n",
       "\n",
       "    .dataframe tbody tr th {\n",
       "        vertical-align: top;\n",
       "    }\n",
       "\n",
       "    .dataframe thead th {\n",
       "        text-align: right;\n",
       "    }\n",
       "</style>\n",
       "<table border=\"1\" class=\"dataframe\">\n",
       "  <thead>\n",
       "    <tr style=\"text-align: right;\">\n",
       "      <th></th>\n",
       "      <th>count</th>\n",
       "      <th>mean</th>\n",
       "      <th>std</th>\n",
       "      <th>min</th>\n",
       "      <th>25%</th>\n",
       "      <th>50%</th>\n",
       "      <th>75%</th>\n",
       "      <th>max</th>\n",
       "    </tr>\n",
       "    <tr>\n",
       "      <th>Educational level</th>\n",
       "      <th></th>\n",
       "      <th></th>\n",
       "      <th></th>\n",
       "      <th></th>\n",
       "      <th></th>\n",
       "      <th></th>\n",
       "      <th></th>\n",
       "      <th></th>\n",
       "    </tr>\n",
       "  </thead>\n",
       "  <tbody>\n",
       "    <tr>\n",
       "      <th>University &lt;br&gt;without &lt;br&gt;graduating</th>\n",
       "      <td>1.0</td>\n",
       "      <td>0.0</td>\n",
       "      <td>NaN</td>\n",
       "      <td>0.0</td>\n",
       "      <td>0.0</td>\n",
       "      <td>0.0</td>\n",
       "      <td>0.0</td>\n",
       "      <td>0.0</td>\n",
       "    </tr>\n",
       "  </tbody>\n",
       "</table>\n",
       "</div>"
      ],
      "text/plain": [
       "                                       count  mean  std  min  25%  50%  75%  \\\n",
       "Educational level                                                             \n",
       "University <br>without <br>graduating    1.0   0.0  NaN  0.0  0.0  0.0  0.0   \n",
       "\n",
       "                                       max  \n",
       "Educational level                           \n",
       "University <br>without <br>graduating  0.0  "
      ]
     },
     "metadata": {},
     "output_type": "display_data"
    },
    {
     "name": "stdout",
     "output_type": "stream",
     "text": [
      "Count of each value in Gender related to each Educational level in Iceland expressed as Educational level | Gender | Amount\n"
     ]
    },
    {
     "data": {
      "text/plain": [
       "Educational level                      Gender\n",
       "University <br>without <br>graduating  0         1\n",
       "Name: Gender, dtype: int64"
      ]
     },
     "metadata": {},
     "output_type": "display_data"
    },
    {
     "name": "stdout",
     "output_type": "stream",
     "text": [
      "Percentage of each value in Gender related to each Educational level in Iceland expressed as Educational level | Gender | Percentage\n"
     ]
    },
    {
     "data": {
      "text/plain": [
       "Educational level                      Gender\n",
       "University <br>without <br>graduating  0         100.0\n",
       "Name: Gender, dtype: float64"
      ]
     },
     "metadata": {},
     "output_type": "display_data"
    },
    {
     "name": "stdout",
     "output_type": "stream",
     "text": [
      "Describing the variable Gender in Scotland related to Educational level\n"
     ]
    },
    {
     "data": {
      "text/html": [
       "<div>\n",
       "<style scoped>\n",
       "    .dataframe tbody tr th:only-of-type {\n",
       "        vertical-align: middle;\n",
       "    }\n",
       "\n",
       "    .dataframe tbody tr th {\n",
       "        vertical-align: top;\n",
       "    }\n",
       "\n",
       "    .dataframe thead th {\n",
       "        text-align: right;\n",
       "    }\n",
       "</style>\n",
       "<table border=\"1\" class=\"dataframe\">\n",
       "  <thead>\n",
       "    <tr style=\"text-align: right;\">\n",
       "      <th></th>\n",
       "      <th>count</th>\n",
       "      <th>mean</th>\n",
       "      <th>std</th>\n",
       "      <th>min</th>\n",
       "      <th>25%</th>\n",
       "      <th>50%</th>\n",
       "      <th>75%</th>\n",
       "      <th>max</th>\n",
       "    </tr>\n",
       "    <tr>\n",
       "      <th>Educational level</th>\n",
       "      <th></th>\n",
       "      <th></th>\n",
       "      <th></th>\n",
       "      <th></th>\n",
       "      <th></th>\n",
       "      <th></th>\n",
       "      <th></th>\n",
       "      <th></th>\n",
       "    </tr>\n",
       "  </thead>\n",
       "  <tbody>\n",
       "    <tr>\n",
       "      <th>University &lt;br&gt;graduate</th>\n",
       "      <td>1.0</td>\n",
       "      <td>2.0</td>\n",
       "      <td>NaN</td>\n",
       "      <td>2.0</td>\n",
       "      <td>2.0</td>\n",
       "      <td>2.0</td>\n",
       "      <td>2.0</td>\n",
       "      <td>2.0</td>\n",
       "    </tr>\n",
       "  </tbody>\n",
       "</table>\n",
       "</div>"
      ],
      "text/plain": [
       "                         count  mean  std  min  25%  50%  75%  max\n",
       "Educational level                                                 \n",
       "University <br>graduate    1.0   2.0  NaN  2.0  2.0  2.0  2.0  2.0"
      ]
     },
     "metadata": {},
     "output_type": "display_data"
    },
    {
     "name": "stdout",
     "output_type": "stream",
     "text": [
      "Count of each value in Gender related to each Educational level in Scotland expressed as Educational level | Gender | Amount\n"
     ]
    },
    {
     "data": {
      "text/plain": [
       "Educational level        Gender\n",
       "University <br>graduate  2         1\n",
       "Name: Gender, dtype: int64"
      ]
     },
     "metadata": {},
     "output_type": "display_data"
    },
    {
     "name": "stdout",
     "output_type": "stream",
     "text": [
      "Percentage of each value in Gender related to each Educational level in Scotland expressed as Educational level | Gender | Percentage\n"
     ]
    },
    {
     "data": {
      "text/plain": [
       "Educational level        Gender\n",
       "University <br>graduate  2         100.0\n",
       "Name: Gender, dtype: float64"
      ]
     },
     "metadata": {},
     "output_type": "display_data"
    },
    {
     "name": "stdout",
     "output_type": "stream",
     "text": [
      "Describing the variable Gender in Sudan related to Educational level\n"
     ]
    },
    {
     "data": {
      "text/html": [
       "<div>\n",
       "<style scoped>\n",
       "    .dataframe tbody tr th:only-of-type {\n",
       "        vertical-align: middle;\n",
       "    }\n",
       "\n",
       "    .dataframe tbody tr th {\n",
       "        vertical-align: top;\n",
       "    }\n",
       "\n",
       "    .dataframe thead th {\n",
       "        text-align: right;\n",
       "    }\n",
       "</style>\n",
       "<table border=\"1\" class=\"dataframe\">\n",
       "  <thead>\n",
       "    <tr style=\"text-align: right;\">\n",
       "      <th></th>\n",
       "      <th>count</th>\n",
       "      <th>mean</th>\n",
       "      <th>std</th>\n",
       "      <th>min</th>\n",
       "      <th>25%</th>\n",
       "      <th>50%</th>\n",
       "      <th>75%</th>\n",
       "      <th>max</th>\n",
       "    </tr>\n",
       "    <tr>\n",
       "      <th>Educational level</th>\n",
       "      <th></th>\n",
       "      <th></th>\n",
       "      <th></th>\n",
       "      <th></th>\n",
       "      <th></th>\n",
       "      <th></th>\n",
       "      <th></th>\n",
       "      <th></th>\n",
       "    </tr>\n",
       "  </thead>\n",
       "  <tbody>\n",
       "    <tr>\n",
       "      <th>University &lt;br&gt;graduate</th>\n",
       "      <td>1.0</td>\n",
       "      <td>0.0</td>\n",
       "      <td>NaN</td>\n",
       "      <td>0.0</td>\n",
       "      <td>0.0</td>\n",
       "      <td>0.0</td>\n",
       "      <td>0.0</td>\n",
       "      <td>0.0</td>\n",
       "    </tr>\n",
       "  </tbody>\n",
       "</table>\n",
       "</div>"
      ],
      "text/plain": [
       "                         count  mean  std  min  25%  50%  75%  max\n",
       "Educational level                                                 \n",
       "University <br>graduate    1.0   0.0  NaN  0.0  0.0  0.0  0.0  0.0"
      ]
     },
     "metadata": {},
     "output_type": "display_data"
    },
    {
     "name": "stdout",
     "output_type": "stream",
     "text": [
      "Count of each value in Gender related to each Educational level in Sudan expressed as Educational level | Gender | Amount\n"
     ]
    },
    {
     "data": {
      "text/plain": [
       "Educational level        Gender\n",
       "University <br>graduate  0         1\n",
       "Name: Gender, dtype: int64"
      ]
     },
     "metadata": {},
     "output_type": "display_data"
    },
    {
     "name": "stdout",
     "output_type": "stream",
     "text": [
      "Percentage of each value in Gender related to each Educational level in Sudan expressed as Educational level | Gender | Percentage\n"
     ]
    },
    {
     "data": {
      "text/plain": [
       "Educational level        Gender\n",
       "University <br>graduate  0         100.0\n",
       "Name: Gender, dtype: float64"
      ]
     },
     "metadata": {},
     "output_type": "display_data"
    },
    {
     "name": "stdout",
     "output_type": "stream",
     "text": [
      "Describing the variable Gender in Ukraine related to Educational level\n"
     ]
    },
    {
     "data": {
      "text/html": [
       "<div>\n",
       "<style scoped>\n",
       "    .dataframe tbody tr th:only-of-type {\n",
       "        vertical-align: middle;\n",
       "    }\n",
       "\n",
       "    .dataframe tbody tr th {\n",
       "        vertical-align: top;\n",
       "    }\n",
       "\n",
       "    .dataframe thead th {\n",
       "        text-align: right;\n",
       "    }\n",
       "</style>\n",
       "<table border=\"1\" class=\"dataframe\">\n",
       "  <thead>\n",
       "    <tr style=\"text-align: right;\">\n",
       "      <th></th>\n",
       "      <th>count</th>\n",
       "      <th>mean</th>\n",
       "      <th>std</th>\n",
       "      <th>min</th>\n",
       "      <th>25%</th>\n",
       "      <th>50%</th>\n",
       "      <th>75%</th>\n",
       "      <th>max</th>\n",
       "    </tr>\n",
       "    <tr>\n",
       "      <th>Educational level</th>\n",
       "      <th></th>\n",
       "      <th></th>\n",
       "      <th></th>\n",
       "      <th></th>\n",
       "      <th></th>\n",
       "      <th></th>\n",
       "      <th></th>\n",
       "      <th></th>\n",
       "    </tr>\n",
       "  </thead>\n",
       "  <tbody>\n",
       "    <tr>\n",
       "      <th>Completed &lt;br&gt;Compulsory&lt;br&gt;Secondary &lt;br&gt;Education</th>\n",
       "      <td>1.0</td>\n",
       "      <td>1.0</td>\n",
       "      <td>NaN</td>\n",
       "      <td>1.0</td>\n",
       "      <td>1.0</td>\n",
       "      <td>1.0</td>\n",
       "      <td>1.0</td>\n",
       "      <td>1.0</td>\n",
       "    </tr>\n",
       "  </tbody>\n",
       "</table>\n",
       "</div>"
      ],
      "text/plain": [
       "                                                    count  mean  std  min  \\\n",
       "Educational level                                                           \n",
       "Completed <br>Compulsory<br>Secondary <br>Educa...    1.0   1.0  NaN  1.0   \n",
       "\n",
       "                                                    25%  50%  75%  max  \n",
       "Educational level                                                       \n",
       "Completed <br>Compulsory<br>Secondary <br>Educa...  1.0  1.0  1.0  1.0  "
      ]
     },
     "metadata": {},
     "output_type": "display_data"
    },
    {
     "name": "stdout",
     "output_type": "stream",
     "text": [
      "Count of each value in Gender related to each Educational level in Ukraine expressed as Educational level | Gender | Amount\n"
     ]
    },
    {
     "data": {
      "text/plain": [
       "Educational level                                    Gender\n",
       "Completed <br>Compulsory<br>Secondary <br>Education  1         1\n",
       "Name: Gender, dtype: int64"
      ]
     },
     "metadata": {},
     "output_type": "display_data"
    },
    {
     "name": "stdout",
     "output_type": "stream",
     "text": [
      "Percentage of each value in Gender related to each Educational level in Ukraine expressed as Educational level | Gender | Percentage\n"
     ]
    },
    {
     "data": {
      "text/plain": [
       "Educational level                                    Gender\n",
       "Completed <br>Compulsory<br>Secondary <br>Education  1         100.0\n",
       "Name: Gender, dtype: float64"
      ]
     },
     "metadata": {},
     "output_type": "display_data"
    },
    {
     "name": "stdout",
     "output_type": "stream",
     "text": [
      "Describing the variable Gender in New Zealand related to Educational level\n"
     ]
    },
    {
     "data": {
      "text/html": [
       "<div>\n",
       "<style scoped>\n",
       "    .dataframe tbody tr th:only-of-type {\n",
       "        vertical-align: middle;\n",
       "    }\n",
       "\n",
       "    .dataframe tbody tr th {\n",
       "        vertical-align: top;\n",
       "    }\n",
       "\n",
       "    .dataframe thead th {\n",
       "        text-align: right;\n",
       "    }\n",
       "</style>\n",
       "<table border=\"1\" class=\"dataframe\">\n",
       "  <thead>\n",
       "    <tr style=\"text-align: right;\">\n",
       "      <th></th>\n",
       "      <th>count</th>\n",
       "      <th>mean</th>\n",
       "      <th>std</th>\n",
       "      <th>min</th>\n",
       "      <th>25%</th>\n",
       "      <th>50%</th>\n",
       "      <th>75%</th>\n",
       "      <th>max</th>\n",
       "    </tr>\n",
       "    <tr>\n",
       "      <th>Educational level</th>\n",
       "      <th></th>\n",
       "      <th></th>\n",
       "      <th></th>\n",
       "      <th></th>\n",
       "      <th></th>\n",
       "      <th></th>\n",
       "      <th></th>\n",
       "      <th></th>\n",
       "    </tr>\n",
       "  </thead>\n",
       "  <tbody>\n",
       "    <tr>\n",
       "      <th>University &lt;br&gt;graduate</th>\n",
       "      <td>1.0</td>\n",
       "      <td>1.0</td>\n",
       "      <td>NaN</td>\n",
       "      <td>1.0</td>\n",
       "      <td>1.0</td>\n",
       "      <td>1.0</td>\n",
       "      <td>1.0</td>\n",
       "      <td>1.0</td>\n",
       "    </tr>\n",
       "  </tbody>\n",
       "</table>\n",
       "</div>"
      ],
      "text/plain": [
       "                         count  mean  std  min  25%  50%  75%  max\n",
       "Educational level                                                 \n",
       "University <br>graduate    1.0   1.0  NaN  1.0  1.0  1.0  1.0  1.0"
      ]
     },
     "metadata": {},
     "output_type": "display_data"
    },
    {
     "name": "stdout",
     "output_type": "stream",
     "text": [
      "Count of each value in Gender related to each Educational level in New Zealand expressed as Educational level | Gender | Amount\n"
     ]
    },
    {
     "data": {
      "text/plain": [
       "Educational level        Gender\n",
       "University <br>graduate  1         1\n",
       "Name: Gender, dtype: int64"
      ]
     },
     "metadata": {},
     "output_type": "display_data"
    },
    {
     "name": "stdout",
     "output_type": "stream",
     "text": [
      "Percentage of each value in Gender related to each Educational level in New Zealand expressed as Educational level | Gender | Percentage\n"
     ]
    },
    {
     "data": {
      "text/plain": [
       "Educational level        Gender\n",
       "University <br>graduate  1         100.0\n",
       "Name: Gender, dtype: float64"
      ]
     },
     "metadata": {},
     "output_type": "display_data"
    },
    {
     "name": "stdout",
     "output_type": "stream",
     "text": [
      "Describing the variable Gender in Ireland related to Educational level\n"
     ]
    },
    {
     "data": {
      "text/html": [
       "<div>\n",
       "<style scoped>\n",
       "    .dataframe tbody tr th:only-of-type {\n",
       "        vertical-align: middle;\n",
       "    }\n",
       "\n",
       "    .dataframe tbody tr th {\n",
       "        vertical-align: top;\n",
       "    }\n",
       "\n",
       "    .dataframe thead th {\n",
       "        text-align: right;\n",
       "    }\n",
       "</style>\n",
       "<table border=\"1\" class=\"dataframe\">\n",
       "  <thead>\n",
       "    <tr style=\"text-align: right;\">\n",
       "      <th></th>\n",
       "      <th>count</th>\n",
       "      <th>mean</th>\n",
       "      <th>std</th>\n",
       "      <th>min</th>\n",
       "      <th>25%</th>\n",
       "      <th>50%</th>\n",
       "      <th>75%</th>\n",
       "      <th>max</th>\n",
       "    </tr>\n",
       "    <tr>\n",
       "      <th>Educational level</th>\n",
       "      <th></th>\n",
       "      <th></th>\n",
       "      <th></th>\n",
       "      <th></th>\n",
       "      <th></th>\n",
       "      <th></th>\n",
       "      <th></th>\n",
       "      <th></th>\n",
       "    </tr>\n",
       "  </thead>\n",
       "  <tbody>\n",
       "    <tr>\n",
       "      <th>University &lt;br&gt;graduate</th>\n",
       "      <td>2.0</td>\n",
       "      <td>1.0</td>\n",
       "      <td>0.0</td>\n",
       "      <td>1.0</td>\n",
       "      <td>1.0</td>\n",
       "      <td>1.0</td>\n",
       "      <td>1.0</td>\n",
       "      <td>1.0</td>\n",
       "    </tr>\n",
       "  </tbody>\n",
       "</table>\n",
       "</div>"
      ],
      "text/plain": [
       "                         count  mean  std  min  25%  50%  75%  max\n",
       "Educational level                                                 \n",
       "University <br>graduate    2.0   1.0  0.0  1.0  1.0  1.0  1.0  1.0"
      ]
     },
     "metadata": {},
     "output_type": "display_data"
    },
    {
     "name": "stdout",
     "output_type": "stream",
     "text": [
      "Count of each value in Gender related to each Educational level in Ireland expressed as Educational level | Gender | Amount\n"
     ]
    },
    {
     "data": {
      "text/plain": [
       "Educational level        Gender\n",
       "University <br>graduate  1         2\n",
       "Name: Gender, dtype: int64"
      ]
     },
     "metadata": {},
     "output_type": "display_data"
    },
    {
     "name": "stdout",
     "output_type": "stream",
     "text": [
      "Percentage of each value in Gender related to each Educational level in Ireland expressed as Educational level | Gender | Percentage\n"
     ]
    },
    {
     "data": {
      "text/plain": [
       "Educational level        Gender\n",
       "University <br>graduate  1         100.0\n",
       "Name: Gender, dtype: float64"
      ]
     },
     "metadata": {},
     "output_type": "display_data"
    },
    {
     "name": "stdout",
     "output_type": "stream",
     "text": [
      "Describing the variable Gender in Macedonia related to Educational level\n"
     ]
    },
    {
     "data": {
      "text/html": [
       "<div>\n",
       "<style scoped>\n",
       "    .dataframe tbody tr th:only-of-type {\n",
       "        vertical-align: middle;\n",
       "    }\n",
       "\n",
       "    .dataframe tbody tr th {\n",
       "        vertical-align: top;\n",
       "    }\n",
       "\n",
       "    .dataframe thead th {\n",
       "        text-align: right;\n",
       "    }\n",
       "</style>\n",
       "<table border=\"1\" class=\"dataframe\">\n",
       "  <thead>\n",
       "    <tr style=\"text-align: right;\">\n",
       "      <th></th>\n",
       "      <th>count</th>\n",
       "      <th>mean</th>\n",
       "      <th>std</th>\n",
       "      <th>min</th>\n",
       "      <th>25%</th>\n",
       "      <th>50%</th>\n",
       "      <th>75%</th>\n",
       "      <th>max</th>\n",
       "    </tr>\n",
       "    <tr>\n",
       "      <th>Educational level</th>\n",
       "      <th></th>\n",
       "      <th></th>\n",
       "      <th></th>\n",
       "      <th></th>\n",
       "      <th></th>\n",
       "      <th></th>\n",
       "      <th></th>\n",
       "      <th></th>\n",
       "    </tr>\n",
       "  </thead>\n",
       "  <tbody>\n",
       "    <tr>\n",
       "      <th>University &lt;br&gt;graduate</th>\n",
       "      <td>1.0</td>\n",
       "      <td>0.0</td>\n",
       "      <td>NaN</td>\n",
       "      <td>0.0</td>\n",
       "      <td>0.0</td>\n",
       "      <td>0.0</td>\n",
       "      <td>0.0</td>\n",
       "      <td>0.0</td>\n",
       "    </tr>\n",
       "  </tbody>\n",
       "</table>\n",
       "</div>"
      ],
      "text/plain": [
       "                         count  mean  std  min  25%  50%  75%  max\n",
       "Educational level                                                 \n",
       "University <br>graduate    1.0   0.0  NaN  0.0  0.0  0.0  0.0  0.0"
      ]
     },
     "metadata": {},
     "output_type": "display_data"
    },
    {
     "name": "stdout",
     "output_type": "stream",
     "text": [
      "Count of each value in Gender related to each Educational level in Macedonia expressed as Educational level | Gender | Amount\n"
     ]
    },
    {
     "data": {
      "text/plain": [
       "Educational level        Gender\n",
       "University <br>graduate  0         1\n",
       "Name: Gender, dtype: int64"
      ]
     },
     "metadata": {},
     "output_type": "display_data"
    },
    {
     "name": "stdout",
     "output_type": "stream",
     "text": [
      "Percentage of each value in Gender related to each Educational level in Macedonia expressed as Educational level | Gender | Percentage\n"
     ]
    },
    {
     "data": {
      "text/plain": [
       "Educational level        Gender\n",
       "University <br>graduate  0         100.0\n",
       "Name: Gender, dtype: float64"
      ]
     },
     "metadata": {},
     "output_type": "display_data"
    },
    {
     "name": "stdout",
     "output_type": "stream",
     "text": [
      "Describing the variable Gender in Indonesia related to Educational level\n"
     ]
    },
    {
     "data": {
      "text/html": [
       "<div>\n",
       "<style scoped>\n",
       "    .dataframe tbody tr th:only-of-type {\n",
       "        vertical-align: middle;\n",
       "    }\n",
       "\n",
       "    .dataframe tbody tr th {\n",
       "        vertical-align: top;\n",
       "    }\n",
       "\n",
       "    .dataframe thead th {\n",
       "        text-align: right;\n",
       "    }\n",
       "</style>\n",
       "<table border=\"1\" class=\"dataframe\">\n",
       "  <thead>\n",
       "    <tr style=\"text-align: right;\">\n",
       "      <th></th>\n",
       "      <th>count</th>\n",
       "      <th>mean</th>\n",
       "      <th>std</th>\n",
       "      <th>min</th>\n",
       "      <th>25%</th>\n",
       "      <th>50%</th>\n",
       "      <th>75%</th>\n",
       "      <th>max</th>\n",
       "    </tr>\n",
       "    <tr>\n",
       "      <th>Educational level</th>\n",
       "      <th></th>\n",
       "      <th></th>\n",
       "      <th></th>\n",
       "      <th></th>\n",
       "      <th></th>\n",
       "      <th></th>\n",
       "      <th></th>\n",
       "      <th></th>\n",
       "    </tr>\n",
       "  </thead>\n",
       "  <tbody>\n",
       "    <tr>\n",
       "      <th>University &lt;br&gt;graduate</th>\n",
       "      <td>1.0</td>\n",
       "      <td>0.0</td>\n",
       "      <td>NaN</td>\n",
       "      <td>0.0</td>\n",
       "      <td>0.0</td>\n",
       "      <td>0.0</td>\n",
       "      <td>0.0</td>\n",
       "      <td>0.0</td>\n",
       "    </tr>\n",
       "  </tbody>\n",
       "</table>\n",
       "</div>"
      ],
      "text/plain": [
       "                         count  mean  std  min  25%  50%  75%  max\n",
       "Educational level                                                 \n",
       "University <br>graduate    1.0   0.0  NaN  0.0  0.0  0.0  0.0  0.0"
      ]
     },
     "metadata": {},
     "output_type": "display_data"
    },
    {
     "name": "stdout",
     "output_type": "stream",
     "text": [
      "Count of each value in Gender related to each Educational level in Indonesia expressed as Educational level | Gender | Amount\n"
     ]
    },
    {
     "data": {
      "text/plain": [
       "Educational level        Gender\n",
       "University <br>graduate  0         1\n",
       "Name: Gender, dtype: int64"
      ]
     },
     "metadata": {},
     "output_type": "display_data"
    },
    {
     "name": "stdout",
     "output_type": "stream",
     "text": [
      "Percentage of each value in Gender related to each Educational level in Indonesia expressed as Educational level | Gender | Percentage\n"
     ]
    },
    {
     "data": {
      "text/plain": [
       "Educational level        Gender\n",
       "University <br>graduate  0         100.0\n",
       "Name: Gender, dtype: float64"
      ]
     },
     "metadata": {},
     "output_type": "display_data"
    },
    {
     "name": "stdout",
     "output_type": "stream",
     "text": [
      "Describing the variable Gender in Cuba related to Educational level\n"
     ]
    },
    {
     "data": {
      "text/html": [
       "<div>\n",
       "<style scoped>\n",
       "    .dataframe tbody tr th:only-of-type {\n",
       "        vertical-align: middle;\n",
       "    }\n",
       "\n",
       "    .dataframe tbody tr th {\n",
       "        vertical-align: top;\n",
       "    }\n",
       "\n",
       "    .dataframe thead th {\n",
       "        text-align: right;\n",
       "    }\n",
       "</style>\n",
       "<table border=\"1\" class=\"dataframe\">\n",
       "  <thead>\n",
       "    <tr style=\"text-align: right;\">\n",
       "      <th></th>\n",
       "      <th>count</th>\n",
       "      <th>mean</th>\n",
       "      <th>std</th>\n",
       "      <th>min</th>\n",
       "      <th>25%</th>\n",
       "      <th>50%</th>\n",
       "      <th>75%</th>\n",
       "      <th>max</th>\n",
       "    </tr>\n",
       "    <tr>\n",
       "      <th>Educational level</th>\n",
       "      <th></th>\n",
       "      <th></th>\n",
       "      <th></th>\n",
       "      <th></th>\n",
       "      <th></th>\n",
       "      <th></th>\n",
       "      <th></th>\n",
       "      <th></th>\n",
       "    </tr>\n",
       "  </thead>\n",
       "  <tbody>\n",
       "    <tr>\n",
       "      <th>University &lt;br&gt;graduate</th>\n",
       "      <td>1.0</td>\n",
       "      <td>1.0</td>\n",
       "      <td>NaN</td>\n",
       "      <td>1.0</td>\n",
       "      <td>1.0</td>\n",
       "      <td>1.0</td>\n",
       "      <td>1.0</td>\n",
       "      <td>1.0</td>\n",
       "    </tr>\n",
       "  </tbody>\n",
       "</table>\n",
       "</div>"
      ],
      "text/plain": [
       "                         count  mean  std  min  25%  50%  75%  max\n",
       "Educational level                                                 \n",
       "University <br>graduate    1.0   1.0  NaN  1.0  1.0  1.0  1.0  1.0"
      ]
     },
     "metadata": {},
     "output_type": "display_data"
    },
    {
     "name": "stdout",
     "output_type": "stream",
     "text": [
      "Count of each value in Gender related to each Educational level in Cuba expressed as Educational level | Gender | Amount\n"
     ]
    },
    {
     "data": {
      "text/plain": [
       "Educational level        Gender\n",
       "University <br>graduate  1         1\n",
       "Name: Gender, dtype: int64"
      ]
     },
     "metadata": {},
     "output_type": "display_data"
    },
    {
     "name": "stdout",
     "output_type": "stream",
     "text": [
      "Percentage of each value in Gender related to each Educational level in Cuba expressed as Educational level | Gender | Percentage\n"
     ]
    },
    {
     "data": {
      "text/plain": [
       "Educational level        Gender\n",
       "University <br>graduate  1         100.0\n",
       "Name: Gender, dtype: float64"
      ]
     },
     "metadata": {},
     "output_type": "display_data"
    }
   ],
   "source": [
    "for country in data_complete_nationality['Nationality'].unique():\n",
    "    print(\n",
    "        f'Describing the variable Gender in {country} related to Educational level')\n",
    "    display(\n",
    "        data_complete_nationality[data_complete_nationality['Nationality'] == country].groupby(\n",
    "            ['Educational level'])['Gender'].describe())\n",
    "    print(\n",
    "        f'Count of each value in Gender related to each Educational level in {country} expressed as Educational level | Gender | Amount')\n",
    "    display(\n",
    "        data_complete_nationality[data_complete_nationality['Nationality'] == country].groupby(\n",
    "            ['Educational level'])['Gender'].value_counts())\n",
    "    print(\n",
    "        f'Percentage of each value in Gender related to each Educational level in {country} expressed as Educational level | Gender | Percentage')\n",
    "    display(data_complete_nationality[data_complete_nationality['Nationality'] == country].groupby(\n",
    "            ['Educational level'])['Gender'].value_counts(\n",
    "        normalize=True).round(4) * 100)\n",
    "\n"
   ]
  },
  {
   "cell_type": "code",
   "execution_count": 15,
   "metadata": {},
   "outputs": [
    {
     "data": {
      "application/vnd.plotly.v1+json": {
       "config": {
        "linkText": "Export to plot.ly",
        "plotlyServerURL": "https://plot.ly",
        "showLink": false
       },
       "data": [
        {
         "hovertemplate": "<b>%{hovertext}</b><br><br>Gender=Female<br>Nationality=%{x}<br>Educational level=%{y}<br>counts=%{marker.size}<extra></extra>",
         "hovertext": [
          "University <br>graduate",
          "Unfinished <br>Compulsory<br>Secondary <br>Education",
          "University <br>without <br>graduating",
          "Vocational <br>Training",
          "Completed <br>Compulsory<br>Secondary <br>Education",
          "Primary <br>education",
          "University <br>graduate",
          "University <br>graduate",
          "University <br>graduate",
          "University <br>graduate",
          "University <br>without <br>graduating",
          "University <br>graduate",
          "University <br>without <br>graduating",
          "Vocational <br>Training",
          "University <br>without <br>graduating",
          "University <br>graduate",
          "University <br>graduate",
          "University <br>graduate",
          "University <br>without <br>graduating",
          "Completed <br>Compulsory<br>Secondary <br>Education",
          "Vocational <br>Training",
          "Primary <br>education",
          "Unfinished <br>Compulsory<br>Secondary <br>Education",
          "University <br>graduate",
          "University <br>without <br>graduating",
          "Completed <br>Compulsory<br>Secondary <br>Education",
          "University <br>graduate",
          "University <br>without <br>graduating",
          "Vocational <br>Training",
          "University <br>graduate",
          "University <br>without <br>graduating",
          "University <br>graduate",
          "Completed <br>Compulsory<br>Secondary <br>Education",
          "University <br>graduate",
          "University <br>graduate",
          "University <br>graduate",
          "University <br>graduate",
          "University <br>graduate",
          "Completed <br>Compulsory<br>Secondary <br>Education",
          "University <br>graduate",
          "University <br>without <br>graduating",
          "Primary <br>education",
          "Vocational <br>Training",
          "Unfinished <br>Compulsory<br>Secondary <br>Education"
         ],
         "legendgroup": "Gender=Female",
         "marker": {
          "color": "rgb(102,194,165)",
          "size": [
           51,
           31,
           23,
           10,
           6,
           1,
           1,
           1,
           1,
           1,
           13,
           1,
           2,
           1,
           1,
           1,
           1,
           98,
           29,
           14,
           8,
           6,
           3,
           45,
           3,
           2,
           1,
           1,
           1,
           2,
           2,
           1,
           1,
           2,
           1,
           1,
           1,
           2,
           8,
           8,
           8,
           4,
           4,
           1
          ],
          "sizemode": "area",
          "sizeref": 0.0392,
          "symbol": "circle"
         },
         "mode": "markers",
         "name": "Gender=Female",
         "showlegend": true,
         "type": "scatter",
         "uid": "00353bce-0446-404c-9bae-30da1e4a8d8d",
         "x": [
          "Spain",
          "Spain",
          "Spain",
          "Spain",
          "Spain",
          "Spain",
          "Colombia",
          "Dominican Republic",
          "Austria",
          "Chile",
          "France",
          "France",
          "Canada",
          "Canada",
          "Russia",
          "Germany",
          "Brazil",
          "United States of America",
          "United States of America",
          "United States of America",
          "United States of America",
          "United States of America",
          "United States of America",
          "India",
          "India",
          "India",
          "Italy",
          "Italy",
          "Italy",
          "England",
          "England",
          "Cuba",
          "Ukraine",
          "Venezuela",
          "Pakistan",
          "The Bahamas",
          "New Zealand",
          "Ireland",
          "Unknown",
          "Unknown",
          "Unknown",
          "Unknown",
          "Unknown",
          "Unknown"
         ],
         "xaxis": "x",
         "y": [
          "University <br>graduate",
          "Unfinished <br>Compulsory<br>Secondary <br>Education",
          "University <br>without <br>graduating",
          "Vocational <br>Training",
          "Completed <br>Compulsory<br>Secondary <br>Education",
          "Primary <br>education",
          "University <br>graduate",
          "University <br>graduate",
          "University <br>graduate",
          "University <br>graduate",
          "University <br>without <br>graduating",
          "University <br>graduate",
          "University <br>without <br>graduating",
          "Vocational <br>Training",
          "University <br>without <br>graduating",
          "University <br>graduate",
          "University <br>graduate",
          "University <br>graduate",
          "University <br>without <br>graduating",
          "Completed <br>Compulsory<br>Secondary <br>Education",
          "Vocational <br>Training",
          "Primary <br>education",
          "Unfinished <br>Compulsory<br>Secondary <br>Education",
          "University <br>graduate",
          "University <br>without <br>graduating",
          "Completed <br>Compulsory<br>Secondary <br>Education",
          "University <br>graduate",
          "University <br>without <br>graduating",
          "Vocational <br>Training",
          "University <br>graduate",
          "University <br>without <br>graduating",
          "University <br>graduate",
          "Completed <br>Compulsory<br>Secondary <br>Education",
          "University <br>graduate",
          "University <br>graduate",
          "University <br>graduate",
          "University <br>graduate",
          "University <br>graduate",
          "Completed <br>Compulsory<br>Secondary <br>Education",
          "University <br>graduate",
          "University <br>without <br>graduating",
          "Primary <br>education",
          "Vocational <br>Training",
          "Unfinished <br>Compulsory<br>Secondary <br>Education"
         ],
         "yaxis": "y"
        },
        {
         "hovertemplate": "<b>%{hovertext}</b><br><br>Gender=Male<br>Nationality=%{x}<br>Educational level=%{y}<br>counts=%{marker.size}<extra></extra>",
         "hovertext": [
          "Unfinished <br>Compulsory<br>Secondary <br>Education",
          "University <br>graduate",
          "University <br>without <br>graduating",
          "Vocational <br>Training",
          "University <br>without <br>graduating",
          "University <br>graduate",
          "University <br>graduate",
          "University <br>without <br>graduating",
          "Vocational <br>Training",
          "University <br>graduate",
          "Vocational <br>Training",
          "Unfinished <br>Compulsory<br>Secondary <br>Education",
          "University <br>graduate",
          "Unfinished <br>Compulsory<br>Secondary <br>Education",
          "University <br>graduate",
          "University <br>without <br>graduating",
          "University <br>graduate",
          "University <br>without <br>graduating",
          "University <br>graduate",
          "University <br>without <br>graduating",
          "Vocational <br>Training",
          "Completed <br>Compulsory<br>Secondary <br>Education",
          "Unfinished <br>Compulsory<br>Secondary <br>Education",
          "Primary <br>education",
          "University <br>graduate",
          "Completed <br>Compulsory<br>Secondary <br>Education",
          "University <br>without <br>graduating",
          "Vocational <br>Training",
          "University <br>without <br>graduating",
          "University <br>graduate",
          "University <br>without <br>graduating",
          "Completed <br>Compulsory<br>Secondary <br>Education",
          "University <br>graduate",
          "University <br>without <br>graduating",
          "University <br>graduate",
          "University <br>without <br>graduating",
          "University <br>graduate",
          "University <br>graduate",
          "University <br>graduate",
          "University <br>without <br>graduating",
          "University <br>graduate",
          "University <br>graduate",
          "Primary <br>education",
          "University <br>without <br>graduating",
          "University <br>graduate"
         ],
         "legendgroup": "Gender=Male",
         "marker": {
          "color": "rgb(254,224,139)",
          "size": [
           34,
           28,
           26,
           3,
           1,
           1,
           3,
           1,
           1,
           4,
           1,
           3,
           1,
           1,
           1,
           1,
           1,
           1,
           98,
           25,
           12,
           9,
           3,
           1,
           57,
           7,
           5,
           1,
           1,
           5,
           2,
           1,
           4,
           2,
           1,
           1,
           1,
           1,
           1,
           1,
           1,
           1,
           2,
           2,
           1
          ],
          "sizemode": "area",
          "sizeref": 0.0392,
          "symbol": "circle"
         },
         "mode": "markers",
         "name": "Gender=Male",
         "showlegend": true,
         "type": "scatter",
         "uid": "579a0de7-f338-4a8f-bfe6-34bc37bb66a1",
         "x": [
          "Spain",
          "Spain",
          "Spain",
          "Spain",
          "Mexico",
          "Dominican Republic",
          "France",
          "France",
          "France",
          "Canada",
          "Canada",
          "Nigeria",
          "Nigeria",
          "China",
          "Australia",
          "Russia",
          "Brazil",
          "Brazil",
          "United States of America",
          "United States of America",
          "United States of America",
          "United States of America",
          "United States of America",
          "United States of America",
          "India",
          "India",
          "India",
          "India",
          "Slovakia",
          "Italy",
          "Italy",
          "Italy",
          "England",
          "England",
          "Venezuela",
          "Venezuela",
          "Indonesia",
          "Albania",
          "Argentina",
          "Iceland",
          "Sudan",
          "Macedonia",
          "Unknown",
          "Unknown",
          "Unknown"
         ],
         "xaxis": "x",
         "y": [
          "Unfinished <br>Compulsory<br>Secondary <br>Education",
          "University <br>graduate",
          "University <br>without <br>graduating",
          "Vocational <br>Training",
          "University <br>without <br>graduating",
          "University <br>graduate",
          "University <br>graduate",
          "University <br>without <br>graduating",
          "Vocational <br>Training",
          "University <br>graduate",
          "Vocational <br>Training",
          "Unfinished <br>Compulsory<br>Secondary <br>Education",
          "University <br>graduate",
          "Unfinished <br>Compulsory<br>Secondary <br>Education",
          "University <br>graduate",
          "University <br>without <br>graduating",
          "University <br>graduate",
          "University <br>without <br>graduating",
          "University <br>graduate",
          "University <br>without <br>graduating",
          "Vocational <br>Training",
          "Completed <br>Compulsory<br>Secondary <br>Education",
          "Unfinished <br>Compulsory<br>Secondary <br>Education",
          "Primary <br>education",
          "University <br>graduate",
          "Completed <br>Compulsory<br>Secondary <br>Education",
          "University <br>without <br>graduating",
          "Vocational <br>Training",
          "University <br>without <br>graduating",
          "University <br>graduate",
          "University <br>without <br>graduating",
          "Completed <br>Compulsory<br>Secondary <br>Education",
          "University <br>graduate",
          "University <br>without <br>graduating",
          "University <br>graduate",
          "University <br>without <br>graduating",
          "University <br>graduate",
          "University <br>graduate",
          "University <br>graduate",
          "University <br>without <br>graduating",
          "University <br>graduate",
          "University <br>graduate",
          "Primary <br>education",
          "University <br>without <br>graduating",
          "University <br>graduate"
         ],
         "yaxis": "y"
        },
        {
         "hovertemplate": "<b>%{hovertext}</b><br><br>Gender=Other<br>Nationality=%{x}<br>Educational level=%{y}<br>counts=%{marker.size}<extra></extra>",
         "hovertext": [
          "University <br>without <br>graduating",
          "Unfinished <br>Compulsory<br>Secondary <br>Education",
          "University <br>without <br>graduating",
          "University <br>graduate"
         ],
         "legendgroup": "Gender=Other",
         "marker": {
          "color": "rgb(244,109,67)",
          "size": [
           3,
           1,
           1,
           1
          ],
          "sizemode": "area",
          "sizeref": 0.0392,
          "symbol": "circle"
         },
         "mode": "markers",
         "name": "Gender=Other",
         "showlegend": true,
         "type": "scatter",
         "uid": "7b041705-98dd-4786-93b4-c539efa33545",
         "x": [
          "Spain",
          "Spain",
          "Canada",
          "Scotland"
         ],
         "xaxis": "x",
         "y": [
          "University <br>without <br>graduating",
          "Unfinished <br>Compulsory<br>Secondary <br>Education",
          "University <br>without <br>graduating",
          "University <br>graduate"
         ],
         "yaxis": "y"
        }
       ],
       "layout": {
        "grid": {
         "xaxes": [
          "x"
         ],
         "xgap": 0.1,
         "xside": "bottom",
         "yaxes": [
          "y"
         ],
         "ygap": 0.1,
         "yside": "left"
        },
        "height": 600,
        "legend": {
         "tracegroupgap": 0
        },
        "margin": {
         "t": 60
        },
        "template": {
         "data": {
          "bar": [
           {
            "marker": {
             "line": {
              "color": "white",
              "width": 0.5
             }
            },
            "type": "bar"
           }
          ],
          "barpolar": [
           {
            "marker": {
             "line": {
              "color": "white",
              "width": 0.5
             }
            },
            "type": "barpolar"
           }
          ],
          "carpet": [
           {
            "aaxis": {
             "endlinecolor": "#2a3f5f",
             "gridcolor": "#C8D4E3",
             "linecolor": "#C8D4E3",
             "minorgridcolor": "#C8D4E3",
             "startlinecolor": "#2a3f5f"
            },
            "baxis": {
             "endlinecolor": "#2a3f5f",
             "gridcolor": "#C8D4E3",
             "linecolor": "#C8D4E3",
             "minorgridcolor": "#C8D4E3",
             "startlinecolor": "#2a3f5f"
            },
            "type": "carpet"
           }
          ],
          "choropleth": [
           {
            "colorbar": {
             "outlinewidth": 0,
             "ticks": ""
            },
            "type": "choropleth"
           }
          ],
          "contour": [
           {
            "autocolorscale": true,
            "colorbar": {
             "outlinewidth": 0,
             "ticks": ""
            },
            "type": "contour"
           }
          ],
          "contourcarpet": [
           {
            "colorbar": {
             "outlinewidth": 0,
             "ticks": ""
            },
            "type": "contourcarpet"
           }
          ],
          "heatmap": [
           {
            "autocolorscale": true,
            "colorbar": {
             "outlinewidth": 0,
             "ticks": ""
            },
            "type": "heatmap"
           }
          ],
          "heatmapgl": [
           {
            "colorbar": {
             "outlinewidth": 0,
             "ticks": ""
            },
            "type": "heatmapgl"
           }
          ],
          "histogram": [
           {
            "marker": {
             "colorbar": {
              "outlinewidth": 0,
              "ticks": ""
             }
            },
            "type": "histogram"
           }
          ],
          "histogram2d": [
           {
            "autocolorscale": true,
            "colorbar": {
             "outlinewidth": 0,
             "ticks": ""
            },
            "type": "histogram2d"
           }
          ],
          "histogram2dcontour": [
           {
            "autocolorscale": true,
            "colorbar": {
             "outlinewidth": 0,
             "ticks": ""
            },
            "type": "histogram2dcontour"
           }
          ],
          "mesh3d": [
           {
            "colorbar": {
             "outlinewidth": 0,
             "ticks": ""
            },
            "type": "mesh3d"
           }
          ],
          "parcoords": [
           {
            "line": {
             "colorbar": {
              "outlinewidth": 0,
              "ticks": ""
             }
            },
            "type": "parcoords"
           }
          ],
          "scatter": [
           {
            "marker": {
             "colorbar": {
              "outlinewidth": 0,
              "ticks": ""
             }
            },
            "type": "scatter"
           }
          ],
          "scatter3d": [
           {
            "marker": {
             "colorbar": {
              "outlinewidth": 0,
              "ticks": ""
             }
            },
            "type": "scatter3d"
           }
          ],
          "scattercarpet": [
           {
            "marker": {
             "colorbar": {
              "outlinewidth": 0,
              "ticks": ""
             }
            },
            "type": "scattercarpet"
           }
          ],
          "scattergeo": [
           {
            "marker": {
             "colorbar": {
              "outlinewidth": 0,
              "ticks": ""
             }
            },
            "type": "scattergeo"
           }
          ],
          "scattergl": [
           {
            "marker": {
             "colorbar": {
              "outlinewidth": 0,
              "ticks": ""
             }
            },
            "type": "scattergl"
           }
          ],
          "scattermapbox": [
           {
            "marker": {
             "colorbar": {
              "outlinewidth": 0,
              "ticks": ""
             }
            },
            "type": "scattermapbox"
           }
          ],
          "scatterpolar": [
           {
            "marker": {
             "colorbar": {
              "outlinewidth": 0,
              "ticks": ""
             }
            },
            "type": "scatterpolar"
           }
          ],
          "scatterpolargl": [
           {
            "marker": {
             "colorbar": {
              "outlinewidth": 0,
              "ticks": ""
             }
            },
            "type": "scatterpolargl"
           }
          ],
          "scatterternary": [
           {
            "marker": {
             "colorbar": {
              "outlinewidth": 0,
              "ticks": ""
             }
            },
            "type": "scatterternary"
           }
          ],
          "surface": [
           {
            "colorbar": {
             "outlinewidth": 0,
             "ticks": ""
            },
            "type": "surface"
           }
          ],
          "table": [
           {
            "cells": {
             "fill": {
              "color": "#EBF0F8"
             },
             "line": {
              "color": "white"
             }
            },
            "header": {
             "fill": {
              "color": "#C8D4E3"
             },
             "line": {
              "color": "white"
             }
            },
            "type": "table"
           }
          ]
         },
         "layout": {
          "annotationdefaults": {
           "arrowcolor": "#506784",
           "arrowhead": 0,
           "arrowwidth": 1
          },
          "colorscale": {
           "diverging": [
            [
             0,
             "#8e0152"
            ],
            [
             0.1,
             "#c51b7d"
            ],
            [
             0.2,
             "#de77ae"
            ],
            [
             0.3,
             "#f1b6da"
            ],
            [
             0.4,
             "#fde0ef"
            ],
            [
             0.5,
             "#f7f7f7"
            ],
            [
             0.6,
             "#e6f5d0"
            ],
            [
             0.7,
             "#b8e186"
            ],
            [
             0.8,
             "#7fbc41"
            ],
            [
             0.9,
             "#4d9221"
            ],
            [
             1,
             "#276419"
            ]
           ],
           "sequential": [
            [
             0,
             "#0508b8"
            ],
            [
             0.0893854748603352,
             "#1910d8"
            ],
            [
             0.1787709497206704,
             "#3c19f0"
            ],
            [
             0.2681564245810056,
             "#6b1cfb"
            ],
            [
             0.3575418994413408,
             "#981cfd"
            ],
            [
             0.44692737430167595,
             "#bf1cfd"
            ],
            [
             0.5363128491620112,
             "#dd2bfd"
            ],
            [
             0.6256983240223464,
             "#f246fe"
            ],
            [
             0.7150837988826816,
             "#fc67fd"
            ],
            [
             0.8044692737430168,
             "#fe88fc"
            ],
            [
             0.8938547486033519,
             "#fea5fd"
            ],
            [
             0.9832402234636871,
             "#febefe"
            ],
            [
             1,
             "#fec3fe"
            ]
           ],
           "sequentialminus": [
            [
             0,
             "#0508b8"
            ],
            [
             0.0893854748603352,
             "#1910d8"
            ],
            [
             0.1787709497206704,
             "#3c19f0"
            ],
            [
             0.2681564245810056,
             "#6b1cfb"
            ],
            [
             0.3575418994413408,
             "#981cfd"
            ],
            [
             0.44692737430167595,
             "#bf1cfd"
            ],
            [
             0.5363128491620112,
             "#dd2bfd"
            ],
            [
             0.6256983240223464,
             "#f246fe"
            ],
            [
             0.7150837988826816,
             "#fc67fd"
            ],
            [
             0.8044692737430168,
             "#fe88fc"
            ],
            [
             0.8938547486033519,
             "#fea5fd"
            ],
            [
             0.9832402234636871,
             "#febefe"
            ],
            [
             1,
             "#fec3fe"
            ]
           ]
          },
          "colorway": [
           "#636efa",
           "#EF553B",
           "#00cc96",
           "#ab63fa",
           "#19d3f3",
           "#e763fa",
           "#FECB52",
           "#FFA15A",
           "#FF6692",
           "#B6E880"
          ],
          "font": {
           "color": "#2a3f5f"
          },
          "geo": {
           "bgcolor": "white",
           "lakecolor": "white",
           "landcolor": "white",
           "showlakes": true,
           "showland": true,
           "subunitcolor": "#C8D4E3"
          },
          "hovermode": "closest",
          "mapbox": {
           "style": "light"
          },
          "paper_bgcolor": "white",
          "plot_bgcolor": "white",
          "polar": {
           "angularaxis": {
            "gridcolor": "#EBF0F8",
            "linecolor": "#EBF0F8",
            "ticks": ""
           },
           "bgcolor": "white",
           "radialaxis": {
            "gridcolor": "#EBF0F8",
            "linecolor": "#EBF0F8",
            "ticks": ""
           }
          },
          "scene": {
           "xaxis": {
            "backgroundcolor": "white",
            "gridcolor": "#DFE8F3",
            "gridwidth": 2,
            "linecolor": "#EBF0F8",
            "showbackground": true,
            "ticks": "",
            "zerolinecolor": "#EBF0F8"
           },
           "yaxis": {
            "backgroundcolor": "white",
            "gridcolor": "#DFE8F3",
            "gridwidth": 2,
            "linecolor": "#EBF0F8",
            "showbackground": true,
            "ticks": "",
            "zerolinecolor": "#EBF0F8"
           },
           "zaxis": {
            "backgroundcolor": "white",
            "gridcolor": "#DFE8F3",
            "gridwidth": 2,
            "linecolor": "#EBF0F8",
            "showbackground": true,
            "ticks": "",
            "zerolinecolor": "#EBF0F8"
           }
          },
          "shapedefaults": {
           "fillcolor": "#506784",
           "line": {
            "width": 0
           },
           "opacity": 0.4
          },
          "ternary": {
           "aaxis": {
            "gridcolor": "#DFE8F3",
            "linecolor": "#A2B1C6",
            "ticks": ""
           },
           "baxis": {
            "gridcolor": "#DFE8F3",
            "linecolor": "#A2B1C6",
            "ticks": ""
           },
           "bgcolor": "white",
           "caxis": {
            "gridcolor": "#DFE8F3",
            "linecolor": "#A2B1C6",
            "ticks": ""
           }
          },
          "title": {
           "x": 0.05
          },
          "xaxis": {
           "automargin": true,
           "gridcolor": "#EBF0F8",
           "linecolor": "#EBF0F8",
           "ticks": "",
           "zerolinecolor": "#EBF0F8",
           "zerolinewidth": 2
          },
          "yaxis": {
           "automargin": true,
           "gridcolor": "#EBF0F8",
           "linecolor": "#EBF0F8",
           "ticks": "",
           "zerolinecolor": "#EBF0F8",
           "zerolinewidth": 2
          }
         }
        },
        "xaxis": {
         "title": {
          "text": "Nationality"
         }
        },
        "yaxis": {
         "title": {
          "text": "Educational level"
         }
        }
       }
      },
      "text/html": [
       "<div id=\"4b73b719-0155-4add-84ef-412cb558f569\" style=\"height: 600px; width: 100%;\" class=\"plotly-graph-div\"></div><script type=\"text/javascript\">require([\"plotly\"], function(Plotly) { window.PLOTLYENV=window.PLOTLYENV || {};window.PLOTLYENV.BASE_URL=\"https://plot.ly\";\n",
       "if (document.getElementById(\"4b73b719-0155-4add-84ef-412cb558f569\")) {\n",
       "    Plotly.newPlot(\"4b73b719-0155-4add-84ef-412cb558f569\", [{\"hovertemplate\": \"<b>%{hovertext}</b><br><br>Gender=Female<br>Nationality=%{x}<br>Educational level=%{y}<br>counts=%{marker.size}<extra></extra>\", \"hovertext\": [\"University <br>graduate\", \"Unfinished <br>Compulsory<br>Secondary <br>Education\", \"University <br>without <br>graduating\", \"Vocational <br>Training\", \"Completed <br>Compulsory<br>Secondary <br>Education\", \"Primary <br>education\", \"University <br>graduate\", \"University <br>graduate\", \"University <br>graduate\", \"University <br>graduate\", \"University <br>without <br>graduating\", \"University <br>graduate\", \"University <br>without <br>graduating\", \"Vocational <br>Training\", \"University <br>without <br>graduating\", \"University <br>graduate\", \"University <br>graduate\", \"University <br>graduate\", \"University <br>without <br>graduating\", \"Completed <br>Compulsory<br>Secondary <br>Education\", \"Vocational <br>Training\", \"Primary <br>education\", \"Unfinished <br>Compulsory<br>Secondary <br>Education\", \"University <br>graduate\", \"University <br>without <br>graduating\", \"Completed <br>Compulsory<br>Secondary <br>Education\", \"University <br>graduate\", \"University <br>without <br>graduating\", \"Vocational <br>Training\", \"University <br>graduate\", \"University <br>without <br>graduating\", \"University <br>graduate\", \"Completed <br>Compulsory<br>Secondary <br>Education\", \"University <br>graduate\", \"University <br>graduate\", \"University <br>graduate\", \"University <br>graduate\", \"University <br>graduate\", \"Completed <br>Compulsory<br>Secondary <br>Education\", \"University <br>graduate\", \"University <br>without <br>graduating\", \"Primary <br>education\", \"Vocational <br>Training\", \"Unfinished <br>Compulsory<br>Secondary <br>Education\"], \"legendgroup\": \"Gender=Female\", \"marker\": {\"color\": \"rgb(102,194,165)\", \"size\": [51, 31, 23, 10, 6, 1, 1, 1, 1, 1, 13, 1, 2, 1, 1, 1, 1, 98, 29, 14, 8, 6, 3, 45, 3, 2, 1, 1, 1, 2, 2, 1, 1, 2, 1, 1, 1, 2, 8, 8, 8, 4, 4, 1], \"sizemode\": \"area\", \"sizeref\": 0.0392, \"symbol\": \"circle\"}, \"mode\": \"markers\", \"name\": \"Gender=Female\", \"showlegend\": true, \"x\": [\"Spain\", \"Spain\", \"Spain\", \"Spain\", \"Spain\", \"Spain\", \"Colombia\", \"Dominican Republic\", \"Austria\", \"Chile\", \"France\", \"France\", \"Canada\", \"Canada\", \"Russia\", \"Germany\", \"Brazil\", \"United States of America\", \"United States of America\", \"United States of America\", \"United States of America\", \"United States of America\", \"United States of America\", \"India\", \"India\", \"India\", \"Italy\", \"Italy\", \"Italy\", \"England\", \"England\", \"Cuba\", \"Ukraine\", \"Venezuela\", \"Pakistan\", \"The Bahamas\", \"New Zealand\", \"Ireland\", \"Unknown\", \"Unknown\", \"Unknown\", \"Unknown\", \"Unknown\", \"Unknown\"], \"xaxis\": \"x\", \"y\": [\"University <br>graduate\", \"Unfinished <br>Compulsory<br>Secondary <br>Education\", \"University <br>without <br>graduating\", \"Vocational <br>Training\", \"Completed <br>Compulsory<br>Secondary <br>Education\", \"Primary <br>education\", \"University <br>graduate\", \"University <br>graduate\", \"University <br>graduate\", \"University <br>graduate\", \"University <br>without <br>graduating\", \"University <br>graduate\", \"University <br>without <br>graduating\", \"Vocational <br>Training\", \"University <br>without <br>graduating\", \"University <br>graduate\", \"University <br>graduate\", \"University <br>graduate\", \"University <br>without <br>graduating\", \"Completed <br>Compulsory<br>Secondary <br>Education\", \"Vocational <br>Training\", \"Primary <br>education\", \"Unfinished <br>Compulsory<br>Secondary <br>Education\", \"University <br>graduate\", \"University <br>without <br>graduating\", \"Completed <br>Compulsory<br>Secondary <br>Education\", \"University <br>graduate\", \"University <br>without <br>graduating\", \"Vocational <br>Training\", \"University <br>graduate\", \"University <br>without <br>graduating\", \"University <br>graduate\", \"Completed <br>Compulsory<br>Secondary <br>Education\", \"University <br>graduate\", \"University <br>graduate\", \"University <br>graduate\", \"University <br>graduate\", \"University <br>graduate\", \"Completed <br>Compulsory<br>Secondary <br>Education\", \"University <br>graduate\", \"University <br>without <br>graduating\", \"Primary <br>education\", \"Vocational <br>Training\", \"Unfinished <br>Compulsory<br>Secondary <br>Education\"], \"yaxis\": \"y\", \"type\": \"scatter\", \"uid\": \"00353bce-0446-404c-9bae-30da1e4a8d8d\"}, {\"hovertemplate\": \"<b>%{hovertext}</b><br><br>Gender=Male<br>Nationality=%{x}<br>Educational level=%{y}<br>counts=%{marker.size}<extra></extra>\", \"hovertext\": [\"Unfinished <br>Compulsory<br>Secondary <br>Education\", \"University <br>graduate\", \"University <br>without <br>graduating\", \"Vocational <br>Training\", \"University <br>without <br>graduating\", \"University <br>graduate\", \"University <br>graduate\", \"University <br>without <br>graduating\", \"Vocational <br>Training\", \"University <br>graduate\", \"Vocational <br>Training\", \"Unfinished <br>Compulsory<br>Secondary <br>Education\", \"University <br>graduate\", \"Unfinished <br>Compulsory<br>Secondary <br>Education\", \"University <br>graduate\", \"University <br>without <br>graduating\", \"University <br>graduate\", \"University <br>without <br>graduating\", \"University <br>graduate\", \"University <br>without <br>graduating\", \"Vocational <br>Training\", \"Completed <br>Compulsory<br>Secondary <br>Education\", \"Unfinished <br>Compulsory<br>Secondary <br>Education\", \"Primary <br>education\", \"University <br>graduate\", \"Completed <br>Compulsory<br>Secondary <br>Education\", \"University <br>without <br>graduating\", \"Vocational <br>Training\", \"University <br>without <br>graduating\", \"University <br>graduate\", \"University <br>without <br>graduating\", \"Completed <br>Compulsory<br>Secondary <br>Education\", \"University <br>graduate\", \"University <br>without <br>graduating\", \"University <br>graduate\", \"University <br>without <br>graduating\", \"University <br>graduate\", \"University <br>graduate\", \"University <br>graduate\", \"University <br>without <br>graduating\", \"University <br>graduate\", \"University <br>graduate\", \"Primary <br>education\", \"University <br>without <br>graduating\", \"University <br>graduate\"], \"legendgroup\": \"Gender=Male\", \"marker\": {\"color\": \"rgb(254,224,139)\", \"size\": [34, 28, 26, 3, 1, 1, 3, 1, 1, 4, 1, 3, 1, 1, 1, 1, 1, 1, 98, 25, 12, 9, 3, 1, 57, 7, 5, 1, 1, 5, 2, 1, 4, 2, 1, 1, 1, 1, 1, 1, 1, 1, 2, 2, 1], \"sizemode\": \"area\", \"sizeref\": 0.0392, \"symbol\": \"circle\"}, \"mode\": \"markers\", \"name\": \"Gender=Male\", \"showlegend\": true, \"x\": [\"Spain\", \"Spain\", \"Spain\", \"Spain\", \"Mexico\", \"Dominican Republic\", \"France\", \"France\", \"France\", \"Canada\", \"Canada\", \"Nigeria\", \"Nigeria\", \"China\", \"Australia\", \"Russia\", \"Brazil\", \"Brazil\", \"United States of America\", \"United States of America\", \"United States of America\", \"United States of America\", \"United States of America\", \"United States of America\", \"India\", \"India\", \"India\", \"India\", \"Slovakia\", \"Italy\", \"Italy\", \"Italy\", \"England\", \"England\", \"Venezuela\", \"Venezuela\", \"Indonesia\", \"Albania\", \"Argentina\", \"Iceland\", \"Sudan\", \"Macedonia\", \"Unknown\", \"Unknown\", \"Unknown\"], \"xaxis\": \"x\", \"y\": [\"Unfinished <br>Compulsory<br>Secondary <br>Education\", \"University <br>graduate\", \"University <br>without <br>graduating\", \"Vocational <br>Training\", \"University <br>without <br>graduating\", \"University <br>graduate\", \"University <br>graduate\", \"University <br>without <br>graduating\", \"Vocational <br>Training\", \"University <br>graduate\", \"Vocational <br>Training\", \"Unfinished <br>Compulsory<br>Secondary <br>Education\", \"University <br>graduate\", \"Unfinished <br>Compulsory<br>Secondary <br>Education\", \"University <br>graduate\", \"University <br>without <br>graduating\", \"University <br>graduate\", \"University <br>without <br>graduating\", \"University <br>graduate\", \"University <br>without <br>graduating\", \"Vocational <br>Training\", \"Completed <br>Compulsory<br>Secondary <br>Education\", \"Unfinished <br>Compulsory<br>Secondary <br>Education\", \"Primary <br>education\", \"University <br>graduate\", \"Completed <br>Compulsory<br>Secondary <br>Education\", \"University <br>without <br>graduating\", \"Vocational <br>Training\", \"University <br>without <br>graduating\", \"University <br>graduate\", \"University <br>without <br>graduating\", \"Completed <br>Compulsory<br>Secondary <br>Education\", \"University <br>graduate\", \"University <br>without <br>graduating\", \"University <br>graduate\", \"University <br>without <br>graduating\", \"University <br>graduate\", \"University <br>graduate\", \"University <br>graduate\", \"University <br>without <br>graduating\", \"University <br>graduate\", \"University <br>graduate\", \"Primary <br>education\", \"University <br>without <br>graduating\", \"University <br>graduate\"], \"yaxis\": \"y\", \"type\": \"scatter\", \"uid\": \"579a0de7-f338-4a8f-bfe6-34bc37bb66a1\"}, {\"hovertemplate\": \"<b>%{hovertext}</b><br><br>Gender=Other<br>Nationality=%{x}<br>Educational level=%{y}<br>counts=%{marker.size}<extra></extra>\", \"hovertext\": [\"University <br>without <br>graduating\", \"Unfinished <br>Compulsory<br>Secondary <br>Education\", \"University <br>without <br>graduating\", \"University <br>graduate\"], \"legendgroup\": \"Gender=Other\", \"marker\": {\"color\": \"rgb(244,109,67)\", \"size\": [3, 1, 1, 1], \"sizemode\": \"area\", \"sizeref\": 0.0392, \"symbol\": \"circle\"}, \"mode\": \"markers\", \"name\": \"Gender=Other\", \"showlegend\": true, \"x\": [\"Spain\", \"Spain\", \"Canada\", \"Scotland\"], \"xaxis\": \"x\", \"y\": [\"University <br>without <br>graduating\", \"Unfinished <br>Compulsory<br>Secondary <br>Education\", \"University <br>without <br>graduating\", \"University <br>graduate\"], \"yaxis\": \"y\", \"type\": \"scatter\", \"uid\": \"7b041705-98dd-4786-93b4-c539efa33545\"}], {\"height\": 600, \"legend\": {\"tracegroupgap\": 0}, \"margin\": {\"t\": 60}, \"template\": {\"data\": {\"barpolar\": [{\"marker\": {\"line\": {\"color\": \"white\", \"width\": 0.5}}, \"type\": \"barpolar\"}], \"bar\": [{\"marker\": {\"line\": {\"color\": \"white\", \"width\": 0.5}}, \"type\": \"bar\"}], \"carpet\": [{\"aaxis\": {\"endlinecolor\": \"#2a3f5f\", \"gridcolor\": \"#C8D4E3\", \"linecolor\": \"#C8D4E3\", \"minorgridcolor\": \"#C8D4E3\", \"startlinecolor\": \"#2a3f5f\"}, \"baxis\": {\"endlinecolor\": \"#2a3f5f\", \"gridcolor\": \"#C8D4E3\", \"linecolor\": \"#C8D4E3\", \"minorgridcolor\": \"#C8D4E3\", \"startlinecolor\": \"#2a3f5f\"}, \"type\": \"carpet\"}], \"choropleth\": [{\"colorbar\": {\"outlinewidth\": 0, \"ticks\": \"\"}, \"type\": \"choropleth\"}], \"contourcarpet\": [{\"colorbar\": {\"outlinewidth\": 0, \"ticks\": \"\"}, \"type\": \"contourcarpet\"}], \"contour\": [{\"autocolorscale\": true, \"colorbar\": {\"outlinewidth\": 0, \"ticks\": \"\"}, \"type\": \"contour\"}], \"heatmapgl\": [{\"colorbar\": {\"outlinewidth\": 0, \"ticks\": \"\"}, \"type\": \"heatmapgl\"}], \"heatmap\": [{\"autocolorscale\": true, \"colorbar\": {\"outlinewidth\": 0, \"ticks\": \"\"}, \"type\": \"heatmap\"}], \"histogram2dcontour\": [{\"autocolorscale\": true, \"colorbar\": {\"outlinewidth\": 0, \"ticks\": \"\"}, \"type\": \"histogram2dcontour\"}], \"histogram2d\": [{\"autocolorscale\": true, \"colorbar\": {\"outlinewidth\": 0, \"ticks\": \"\"}, \"type\": \"histogram2d\"}], \"histogram\": [{\"marker\": {\"colorbar\": {\"outlinewidth\": 0, \"ticks\": \"\"}}, \"type\": \"histogram\"}], \"mesh3d\": [{\"colorbar\": {\"outlinewidth\": 0, \"ticks\": \"\"}, \"type\": \"mesh3d\"}], \"parcoords\": [{\"line\": {\"colorbar\": {\"outlinewidth\": 0, \"ticks\": \"\"}}, \"type\": \"parcoords\"}], \"scatter3d\": [{\"marker\": {\"colorbar\": {\"outlinewidth\": 0, \"ticks\": \"\"}}, \"type\": \"scatter3d\"}], \"scattercarpet\": [{\"marker\": {\"colorbar\": {\"outlinewidth\": 0, \"ticks\": \"\"}}, \"type\": \"scattercarpet\"}], \"scattergeo\": [{\"marker\": {\"colorbar\": {\"outlinewidth\": 0, \"ticks\": \"\"}}, \"type\": \"scattergeo\"}], \"scattergl\": [{\"marker\": {\"colorbar\": {\"outlinewidth\": 0, \"ticks\": \"\"}}, \"type\": \"scattergl\"}], \"scattermapbox\": [{\"marker\": {\"colorbar\": {\"outlinewidth\": 0, \"ticks\": \"\"}}, \"type\": \"scattermapbox\"}], \"scatterpolargl\": [{\"marker\": {\"colorbar\": {\"outlinewidth\": 0, \"ticks\": \"\"}}, \"type\": \"scatterpolargl\"}], \"scatterpolar\": [{\"marker\": {\"colorbar\": {\"outlinewidth\": 0, \"ticks\": \"\"}}, \"type\": \"scatterpolar\"}], \"scatter\": [{\"marker\": {\"colorbar\": {\"outlinewidth\": 0, \"ticks\": \"\"}}, \"type\": \"scatter\"}], \"scatterternary\": [{\"marker\": {\"colorbar\": {\"outlinewidth\": 0, \"ticks\": \"\"}}, \"type\": \"scatterternary\"}], \"surface\": [{\"colorbar\": {\"outlinewidth\": 0, \"ticks\": \"\"}, \"type\": \"surface\"}], \"table\": [{\"cells\": {\"fill\": {\"color\": \"#EBF0F8\"}, \"line\": {\"color\": \"white\"}}, \"header\": {\"fill\": {\"color\": \"#C8D4E3\"}, \"line\": {\"color\": \"white\"}}, \"type\": \"table\"}]}, \"layout\": {\"annotationdefaults\": {\"arrowcolor\": \"#506784\", \"arrowhead\": 0, \"arrowwidth\": 1}, \"colorscale\": {\"diverging\": [[0, \"#8e0152\"], [0.1, \"#c51b7d\"], [0.2, \"#de77ae\"], [0.3, \"#f1b6da\"], [0.4, \"#fde0ef\"], [0.5, \"#f7f7f7\"], [0.6, \"#e6f5d0\"], [0.7, \"#b8e186\"], [0.8, \"#7fbc41\"], [0.9, \"#4d9221\"], [1, \"#276419\"]], \"sequential\": [[0.0, \"#0508b8\"], [0.0893854748603352, \"#1910d8\"], [0.1787709497206704, \"#3c19f0\"], [0.2681564245810056, \"#6b1cfb\"], [0.3575418994413408, \"#981cfd\"], [0.44692737430167595, \"#bf1cfd\"], [0.5363128491620112, \"#dd2bfd\"], [0.6256983240223464, \"#f246fe\"], [0.7150837988826816, \"#fc67fd\"], [0.8044692737430168, \"#fe88fc\"], [0.8938547486033519, \"#fea5fd\"], [0.9832402234636871, \"#febefe\"], [1.0, \"#fec3fe\"]], \"sequentialminus\": [[0.0, \"#0508b8\"], [0.0893854748603352, \"#1910d8\"], [0.1787709497206704, \"#3c19f0\"], [0.2681564245810056, \"#6b1cfb\"], [0.3575418994413408, \"#981cfd\"], [0.44692737430167595, \"#bf1cfd\"], [0.5363128491620112, \"#dd2bfd\"], [0.6256983240223464, \"#f246fe\"], [0.7150837988826816, \"#fc67fd\"], [0.8044692737430168, \"#fe88fc\"], [0.8938547486033519, \"#fea5fd\"], [0.9832402234636871, \"#febefe\"], [1.0, \"#fec3fe\"]]}, \"colorway\": [\"#636efa\", \"#EF553B\", \"#00cc96\", \"#ab63fa\", \"#19d3f3\", \"#e763fa\", \"#FECB52\", \"#FFA15A\", \"#FF6692\", \"#B6E880\"], \"font\": {\"color\": \"#2a3f5f\"}, \"geo\": {\"bgcolor\": \"white\", \"lakecolor\": \"white\", \"landcolor\": \"white\", \"showlakes\": true, \"showland\": true, \"subunitcolor\": \"#C8D4E3\"}, \"hovermode\": \"closest\", \"mapbox\": {\"style\": \"light\"}, \"paper_bgcolor\": \"white\", \"plot_bgcolor\": \"white\", \"polar\": {\"angularaxis\": {\"gridcolor\": \"#EBF0F8\", \"linecolor\": \"#EBF0F8\", \"ticks\": \"\"}, \"bgcolor\": \"white\", \"radialaxis\": {\"gridcolor\": \"#EBF0F8\", \"linecolor\": \"#EBF0F8\", \"ticks\": \"\"}}, \"scene\": {\"xaxis\": {\"backgroundcolor\": \"white\", \"gridcolor\": \"#DFE8F3\", \"gridwidth\": 2, \"linecolor\": \"#EBF0F8\", \"showbackground\": true, \"ticks\": \"\", \"zerolinecolor\": \"#EBF0F8\"}, \"yaxis\": {\"backgroundcolor\": \"white\", \"gridcolor\": \"#DFE8F3\", \"gridwidth\": 2, \"linecolor\": \"#EBF0F8\", \"showbackground\": true, \"ticks\": \"\", \"zerolinecolor\": \"#EBF0F8\"}, \"zaxis\": {\"backgroundcolor\": \"white\", \"gridcolor\": \"#DFE8F3\", \"gridwidth\": 2, \"linecolor\": \"#EBF0F8\", \"showbackground\": true, \"ticks\": \"\", \"zerolinecolor\": \"#EBF0F8\"}}, \"shapedefaults\": {\"fillcolor\": \"#506784\", \"line\": {\"width\": 0}, \"opacity\": 0.4}, \"ternary\": {\"aaxis\": {\"gridcolor\": \"#DFE8F3\", \"linecolor\": \"#A2B1C6\", \"ticks\": \"\"}, \"baxis\": {\"gridcolor\": \"#DFE8F3\", \"linecolor\": \"#A2B1C6\", \"ticks\": \"\"}, \"bgcolor\": \"white\", \"caxis\": {\"gridcolor\": \"#DFE8F3\", \"linecolor\": \"#A2B1C6\", \"ticks\": \"\"}}, \"title\": {\"x\": 0.05}, \"xaxis\": {\"automargin\": true, \"gridcolor\": \"#EBF0F8\", \"linecolor\": \"#EBF0F8\", \"ticks\": \"\", \"zerolinecolor\": \"#EBF0F8\", \"zerolinewidth\": 2}, \"yaxis\": {\"automargin\": true, \"gridcolor\": \"#EBF0F8\", \"linecolor\": \"#EBF0F8\", \"ticks\": \"\", \"zerolinecolor\": \"#EBF0F8\", \"zerolinewidth\": 2}}}, \"grid\": {\"xaxes\": [\"x\"], \"yaxes\": [\"y\"], \"xgap\": 0.1, \"ygap\": 0.1, \"xside\": \"bottom\", \"yside\": \"left\"}, \"xaxis\": {\"title\": {\"text\": \"Nationality\"}}, \"yaxis\": {\"title\": {\"text\": \"Educational level\"}}}, {\"showLink\": false, \"linkText\": \"Export to plot.ly\", \"plotlyServerURL\": \"https://plot.ly\"}); \n",
       "}\n",
       "});</script><script type=\"text/javascript\">window.addEventListener(\"resize\", function(){if (document.getElementById(\"4b73b719-0155-4add-84ef-412cb558f569\")) {window._Plotly.Plots.resize(document.getElementById(\"4b73b719-0155-4add-84ef-412cb558f569\"));};})</script>"
      ],
      "text/vnd.plotly.v1+html": [
       "<div id=\"4b73b719-0155-4add-84ef-412cb558f569\" style=\"height: 600px; width: 100%;\" class=\"plotly-graph-div\"></div><script type=\"text/javascript\">require([\"plotly\"], function(Plotly) { window.PLOTLYENV=window.PLOTLYENV || {};window.PLOTLYENV.BASE_URL=\"https://plot.ly\";\n",
       "if (document.getElementById(\"4b73b719-0155-4add-84ef-412cb558f569\")) {\n",
       "    Plotly.newPlot(\"4b73b719-0155-4add-84ef-412cb558f569\", [{\"hovertemplate\": \"<b>%{hovertext}</b><br><br>Gender=Female<br>Nationality=%{x}<br>Educational level=%{y}<br>counts=%{marker.size}<extra></extra>\", \"hovertext\": [\"University <br>graduate\", \"Unfinished <br>Compulsory<br>Secondary <br>Education\", \"University <br>without <br>graduating\", \"Vocational <br>Training\", \"Completed <br>Compulsory<br>Secondary <br>Education\", \"Primary <br>education\", \"University <br>graduate\", \"University <br>graduate\", \"University <br>graduate\", \"University <br>graduate\", \"University <br>without <br>graduating\", \"University <br>graduate\", \"University <br>without <br>graduating\", \"Vocational <br>Training\", \"University <br>without <br>graduating\", \"University <br>graduate\", \"University <br>graduate\", \"University <br>graduate\", \"University <br>without <br>graduating\", \"Completed <br>Compulsory<br>Secondary <br>Education\", \"Vocational <br>Training\", \"Primary <br>education\", \"Unfinished <br>Compulsory<br>Secondary <br>Education\", \"University <br>graduate\", \"University <br>without <br>graduating\", \"Completed <br>Compulsory<br>Secondary <br>Education\", \"University <br>graduate\", \"University <br>without <br>graduating\", \"Vocational <br>Training\", \"University <br>graduate\", \"University <br>without <br>graduating\", \"University <br>graduate\", \"Completed <br>Compulsory<br>Secondary <br>Education\", \"University <br>graduate\", \"University <br>graduate\", \"University <br>graduate\", \"University <br>graduate\", \"University <br>graduate\", \"Completed <br>Compulsory<br>Secondary <br>Education\", \"University <br>graduate\", \"University <br>without <br>graduating\", \"Primary <br>education\", \"Vocational <br>Training\", \"Unfinished <br>Compulsory<br>Secondary <br>Education\"], \"legendgroup\": \"Gender=Female\", \"marker\": {\"color\": \"rgb(102,194,165)\", \"size\": [51, 31, 23, 10, 6, 1, 1, 1, 1, 1, 13, 1, 2, 1, 1, 1, 1, 98, 29, 14, 8, 6, 3, 45, 3, 2, 1, 1, 1, 2, 2, 1, 1, 2, 1, 1, 1, 2, 8, 8, 8, 4, 4, 1], \"sizemode\": \"area\", \"sizeref\": 0.0392, \"symbol\": \"circle\"}, \"mode\": \"markers\", \"name\": \"Gender=Female\", \"showlegend\": true, \"x\": [\"Spain\", \"Spain\", \"Spain\", \"Spain\", \"Spain\", \"Spain\", \"Colombia\", \"Dominican Republic\", \"Austria\", \"Chile\", \"France\", \"France\", \"Canada\", \"Canada\", \"Russia\", \"Germany\", \"Brazil\", \"United States of America\", \"United States of America\", \"United States of America\", \"United States of America\", \"United States of America\", \"United States of America\", \"India\", \"India\", \"India\", \"Italy\", \"Italy\", \"Italy\", \"England\", \"England\", \"Cuba\", \"Ukraine\", \"Venezuela\", \"Pakistan\", \"The Bahamas\", \"New Zealand\", \"Ireland\", \"Unknown\", \"Unknown\", \"Unknown\", \"Unknown\", \"Unknown\", \"Unknown\"], \"xaxis\": \"x\", \"y\": [\"University <br>graduate\", \"Unfinished <br>Compulsory<br>Secondary <br>Education\", \"University <br>without <br>graduating\", \"Vocational <br>Training\", \"Completed <br>Compulsory<br>Secondary <br>Education\", \"Primary <br>education\", \"University <br>graduate\", \"University <br>graduate\", \"University <br>graduate\", \"University <br>graduate\", \"University <br>without <br>graduating\", \"University <br>graduate\", \"University <br>without <br>graduating\", \"Vocational <br>Training\", \"University <br>without <br>graduating\", \"University <br>graduate\", \"University <br>graduate\", \"University <br>graduate\", \"University <br>without <br>graduating\", \"Completed <br>Compulsory<br>Secondary <br>Education\", \"Vocational <br>Training\", \"Primary <br>education\", \"Unfinished <br>Compulsory<br>Secondary <br>Education\", \"University <br>graduate\", \"University <br>without <br>graduating\", \"Completed <br>Compulsory<br>Secondary <br>Education\", \"University <br>graduate\", \"University <br>without <br>graduating\", \"Vocational <br>Training\", \"University <br>graduate\", \"University <br>without <br>graduating\", \"University <br>graduate\", \"Completed <br>Compulsory<br>Secondary <br>Education\", \"University <br>graduate\", \"University <br>graduate\", \"University <br>graduate\", \"University <br>graduate\", \"University <br>graduate\", \"Completed <br>Compulsory<br>Secondary <br>Education\", \"University <br>graduate\", \"University <br>without <br>graduating\", \"Primary <br>education\", \"Vocational <br>Training\", \"Unfinished <br>Compulsory<br>Secondary <br>Education\"], \"yaxis\": \"y\", \"type\": \"scatter\", \"uid\": \"00353bce-0446-404c-9bae-30da1e4a8d8d\"}, {\"hovertemplate\": \"<b>%{hovertext}</b><br><br>Gender=Male<br>Nationality=%{x}<br>Educational level=%{y}<br>counts=%{marker.size}<extra></extra>\", \"hovertext\": [\"Unfinished <br>Compulsory<br>Secondary <br>Education\", \"University <br>graduate\", \"University <br>without <br>graduating\", \"Vocational <br>Training\", \"University <br>without <br>graduating\", \"University <br>graduate\", \"University <br>graduate\", \"University <br>without <br>graduating\", \"Vocational <br>Training\", \"University <br>graduate\", \"Vocational <br>Training\", \"Unfinished <br>Compulsory<br>Secondary <br>Education\", \"University <br>graduate\", \"Unfinished <br>Compulsory<br>Secondary <br>Education\", \"University <br>graduate\", \"University <br>without <br>graduating\", \"University <br>graduate\", \"University <br>without <br>graduating\", \"University <br>graduate\", \"University <br>without <br>graduating\", \"Vocational <br>Training\", \"Completed <br>Compulsory<br>Secondary <br>Education\", \"Unfinished <br>Compulsory<br>Secondary <br>Education\", \"Primary <br>education\", \"University <br>graduate\", \"Completed <br>Compulsory<br>Secondary <br>Education\", \"University <br>without <br>graduating\", \"Vocational <br>Training\", \"University <br>without <br>graduating\", \"University <br>graduate\", \"University <br>without <br>graduating\", \"Completed <br>Compulsory<br>Secondary <br>Education\", \"University <br>graduate\", \"University <br>without <br>graduating\", \"University <br>graduate\", \"University <br>without <br>graduating\", \"University <br>graduate\", \"University <br>graduate\", \"University <br>graduate\", \"University <br>without <br>graduating\", \"University <br>graduate\", \"University <br>graduate\", \"Primary <br>education\", \"University <br>without <br>graduating\", \"University <br>graduate\"], \"legendgroup\": \"Gender=Male\", \"marker\": {\"color\": \"rgb(254,224,139)\", \"size\": [34, 28, 26, 3, 1, 1, 3, 1, 1, 4, 1, 3, 1, 1, 1, 1, 1, 1, 98, 25, 12, 9, 3, 1, 57, 7, 5, 1, 1, 5, 2, 1, 4, 2, 1, 1, 1, 1, 1, 1, 1, 1, 2, 2, 1], \"sizemode\": \"area\", \"sizeref\": 0.0392, \"symbol\": \"circle\"}, \"mode\": \"markers\", \"name\": \"Gender=Male\", \"showlegend\": true, \"x\": [\"Spain\", \"Spain\", \"Spain\", \"Spain\", \"Mexico\", \"Dominican Republic\", \"France\", \"France\", \"France\", \"Canada\", \"Canada\", \"Nigeria\", \"Nigeria\", \"China\", \"Australia\", \"Russia\", \"Brazil\", \"Brazil\", \"United States of America\", \"United States of America\", \"United States of America\", \"United States of America\", \"United States of America\", \"United States of America\", \"India\", \"India\", \"India\", \"India\", \"Slovakia\", \"Italy\", \"Italy\", \"Italy\", \"England\", \"England\", \"Venezuela\", \"Venezuela\", \"Indonesia\", \"Albania\", \"Argentina\", \"Iceland\", \"Sudan\", \"Macedonia\", \"Unknown\", \"Unknown\", \"Unknown\"], \"xaxis\": \"x\", \"y\": [\"Unfinished <br>Compulsory<br>Secondary <br>Education\", \"University <br>graduate\", \"University <br>without <br>graduating\", \"Vocational <br>Training\", \"University <br>without <br>graduating\", \"University <br>graduate\", \"University <br>graduate\", \"University <br>without <br>graduating\", \"Vocational <br>Training\", \"University <br>graduate\", \"Vocational <br>Training\", \"Unfinished <br>Compulsory<br>Secondary <br>Education\", \"University <br>graduate\", \"Unfinished <br>Compulsory<br>Secondary <br>Education\", \"University <br>graduate\", \"University <br>without <br>graduating\", \"University <br>graduate\", \"University <br>without <br>graduating\", \"University <br>graduate\", \"University <br>without <br>graduating\", \"Vocational <br>Training\", \"Completed <br>Compulsory<br>Secondary <br>Education\", \"Unfinished <br>Compulsory<br>Secondary <br>Education\", \"Primary <br>education\", \"University <br>graduate\", \"Completed <br>Compulsory<br>Secondary <br>Education\", \"University <br>without <br>graduating\", \"Vocational <br>Training\", \"University <br>without <br>graduating\", \"University <br>graduate\", \"University <br>without <br>graduating\", \"Completed <br>Compulsory<br>Secondary <br>Education\", \"University <br>graduate\", \"University <br>without <br>graduating\", \"University <br>graduate\", \"University <br>without <br>graduating\", \"University <br>graduate\", \"University <br>graduate\", \"University <br>graduate\", \"University <br>without <br>graduating\", \"University <br>graduate\", \"University <br>graduate\", \"Primary <br>education\", \"University <br>without <br>graduating\", \"University <br>graduate\"], \"yaxis\": \"y\", \"type\": \"scatter\", \"uid\": \"579a0de7-f338-4a8f-bfe6-34bc37bb66a1\"}, {\"hovertemplate\": \"<b>%{hovertext}</b><br><br>Gender=Other<br>Nationality=%{x}<br>Educational level=%{y}<br>counts=%{marker.size}<extra></extra>\", \"hovertext\": [\"University <br>without <br>graduating\", \"Unfinished <br>Compulsory<br>Secondary <br>Education\", \"University <br>without <br>graduating\", \"University <br>graduate\"], \"legendgroup\": \"Gender=Other\", \"marker\": {\"color\": \"rgb(244,109,67)\", \"size\": [3, 1, 1, 1], \"sizemode\": \"area\", \"sizeref\": 0.0392, \"symbol\": \"circle\"}, \"mode\": \"markers\", \"name\": \"Gender=Other\", \"showlegend\": true, \"x\": [\"Spain\", \"Spain\", \"Canada\", \"Scotland\"], \"xaxis\": \"x\", \"y\": [\"University <br>without <br>graduating\", \"Unfinished <br>Compulsory<br>Secondary <br>Education\", \"University <br>without <br>graduating\", \"University <br>graduate\"], \"yaxis\": \"y\", \"type\": \"scatter\", \"uid\": \"7b041705-98dd-4786-93b4-c539efa33545\"}], {\"height\": 600, \"legend\": {\"tracegroupgap\": 0}, \"margin\": {\"t\": 60}, \"template\": {\"data\": {\"barpolar\": [{\"marker\": {\"line\": {\"color\": \"white\", \"width\": 0.5}}, \"type\": \"barpolar\"}], \"bar\": [{\"marker\": {\"line\": {\"color\": \"white\", \"width\": 0.5}}, \"type\": \"bar\"}], \"carpet\": [{\"aaxis\": {\"endlinecolor\": \"#2a3f5f\", \"gridcolor\": \"#C8D4E3\", \"linecolor\": \"#C8D4E3\", \"minorgridcolor\": \"#C8D4E3\", \"startlinecolor\": \"#2a3f5f\"}, \"baxis\": {\"endlinecolor\": \"#2a3f5f\", \"gridcolor\": \"#C8D4E3\", \"linecolor\": \"#C8D4E3\", \"minorgridcolor\": \"#C8D4E3\", \"startlinecolor\": \"#2a3f5f\"}, \"type\": \"carpet\"}], \"choropleth\": [{\"colorbar\": {\"outlinewidth\": 0, \"ticks\": \"\"}, \"type\": \"choropleth\"}], \"contourcarpet\": [{\"colorbar\": {\"outlinewidth\": 0, \"ticks\": \"\"}, \"type\": \"contourcarpet\"}], \"contour\": [{\"autocolorscale\": true, \"colorbar\": {\"outlinewidth\": 0, \"ticks\": \"\"}, \"type\": \"contour\"}], \"heatmapgl\": [{\"colorbar\": {\"outlinewidth\": 0, \"ticks\": \"\"}, \"type\": \"heatmapgl\"}], \"heatmap\": [{\"autocolorscale\": true, \"colorbar\": {\"outlinewidth\": 0, \"ticks\": \"\"}, \"type\": \"heatmap\"}], \"histogram2dcontour\": [{\"autocolorscale\": true, \"colorbar\": {\"outlinewidth\": 0, \"ticks\": \"\"}, \"type\": \"histogram2dcontour\"}], \"histogram2d\": [{\"autocolorscale\": true, \"colorbar\": {\"outlinewidth\": 0, \"ticks\": \"\"}, \"type\": \"histogram2d\"}], \"histogram\": [{\"marker\": {\"colorbar\": {\"outlinewidth\": 0, \"ticks\": \"\"}}, \"type\": \"histogram\"}], \"mesh3d\": [{\"colorbar\": {\"outlinewidth\": 0, \"ticks\": \"\"}, \"type\": \"mesh3d\"}], \"parcoords\": [{\"line\": {\"colorbar\": {\"outlinewidth\": 0, \"ticks\": \"\"}}, \"type\": \"parcoords\"}], \"scatter3d\": [{\"marker\": {\"colorbar\": {\"outlinewidth\": 0, \"ticks\": \"\"}}, \"type\": \"scatter3d\"}], \"scattercarpet\": [{\"marker\": {\"colorbar\": {\"outlinewidth\": 0, \"ticks\": \"\"}}, \"type\": \"scattercarpet\"}], \"scattergeo\": [{\"marker\": {\"colorbar\": {\"outlinewidth\": 0, \"ticks\": \"\"}}, \"type\": \"scattergeo\"}], \"scattergl\": [{\"marker\": {\"colorbar\": {\"outlinewidth\": 0, \"ticks\": \"\"}}, \"type\": \"scattergl\"}], \"scattermapbox\": [{\"marker\": {\"colorbar\": {\"outlinewidth\": 0, \"ticks\": \"\"}}, \"type\": \"scattermapbox\"}], \"scatterpolargl\": [{\"marker\": {\"colorbar\": {\"outlinewidth\": 0, \"ticks\": \"\"}}, \"type\": \"scatterpolargl\"}], \"scatterpolar\": [{\"marker\": {\"colorbar\": {\"outlinewidth\": 0, \"ticks\": \"\"}}, \"type\": \"scatterpolar\"}], \"scatter\": [{\"marker\": {\"colorbar\": {\"outlinewidth\": 0, \"ticks\": \"\"}}, \"type\": \"scatter\"}], \"scatterternary\": [{\"marker\": {\"colorbar\": {\"outlinewidth\": 0, \"ticks\": \"\"}}, \"type\": \"scatterternary\"}], \"surface\": [{\"colorbar\": {\"outlinewidth\": 0, \"ticks\": \"\"}, \"type\": \"surface\"}], \"table\": [{\"cells\": {\"fill\": {\"color\": \"#EBF0F8\"}, \"line\": {\"color\": \"white\"}}, \"header\": {\"fill\": {\"color\": \"#C8D4E3\"}, \"line\": {\"color\": \"white\"}}, \"type\": \"table\"}]}, \"layout\": {\"annotationdefaults\": {\"arrowcolor\": \"#506784\", \"arrowhead\": 0, \"arrowwidth\": 1}, \"colorscale\": {\"diverging\": [[0, \"#8e0152\"], [0.1, \"#c51b7d\"], [0.2, \"#de77ae\"], [0.3, \"#f1b6da\"], [0.4, \"#fde0ef\"], [0.5, \"#f7f7f7\"], [0.6, \"#e6f5d0\"], [0.7, \"#b8e186\"], [0.8, \"#7fbc41\"], [0.9, \"#4d9221\"], [1, \"#276419\"]], \"sequential\": [[0.0, \"#0508b8\"], [0.0893854748603352, \"#1910d8\"], [0.1787709497206704, \"#3c19f0\"], [0.2681564245810056, \"#6b1cfb\"], [0.3575418994413408, \"#981cfd\"], [0.44692737430167595, \"#bf1cfd\"], [0.5363128491620112, \"#dd2bfd\"], [0.6256983240223464, \"#f246fe\"], [0.7150837988826816, \"#fc67fd\"], [0.8044692737430168, \"#fe88fc\"], [0.8938547486033519, \"#fea5fd\"], [0.9832402234636871, \"#febefe\"], [1.0, \"#fec3fe\"]], \"sequentialminus\": [[0.0, \"#0508b8\"], [0.0893854748603352, \"#1910d8\"], [0.1787709497206704, \"#3c19f0\"], [0.2681564245810056, \"#6b1cfb\"], [0.3575418994413408, \"#981cfd\"], [0.44692737430167595, \"#bf1cfd\"], [0.5363128491620112, \"#dd2bfd\"], [0.6256983240223464, \"#f246fe\"], [0.7150837988826816, \"#fc67fd\"], [0.8044692737430168, \"#fe88fc\"], [0.8938547486033519, \"#fea5fd\"], [0.9832402234636871, \"#febefe\"], [1.0, \"#fec3fe\"]]}, \"colorway\": [\"#636efa\", \"#EF553B\", \"#00cc96\", \"#ab63fa\", \"#19d3f3\", \"#e763fa\", \"#FECB52\", \"#FFA15A\", \"#FF6692\", \"#B6E880\"], \"font\": {\"color\": \"#2a3f5f\"}, \"geo\": {\"bgcolor\": \"white\", \"lakecolor\": \"white\", \"landcolor\": \"white\", \"showlakes\": true, \"showland\": true, \"subunitcolor\": \"#C8D4E3\"}, \"hovermode\": \"closest\", \"mapbox\": {\"style\": \"light\"}, \"paper_bgcolor\": \"white\", \"plot_bgcolor\": \"white\", \"polar\": {\"angularaxis\": {\"gridcolor\": \"#EBF0F8\", \"linecolor\": \"#EBF0F8\", \"ticks\": \"\"}, \"bgcolor\": \"white\", \"radialaxis\": {\"gridcolor\": \"#EBF0F8\", \"linecolor\": \"#EBF0F8\", \"ticks\": \"\"}}, \"scene\": {\"xaxis\": {\"backgroundcolor\": \"white\", \"gridcolor\": \"#DFE8F3\", \"gridwidth\": 2, \"linecolor\": \"#EBF0F8\", \"showbackground\": true, \"ticks\": \"\", \"zerolinecolor\": \"#EBF0F8\"}, \"yaxis\": {\"backgroundcolor\": \"white\", \"gridcolor\": \"#DFE8F3\", \"gridwidth\": 2, \"linecolor\": \"#EBF0F8\", \"showbackground\": true, \"ticks\": \"\", \"zerolinecolor\": \"#EBF0F8\"}, \"zaxis\": {\"backgroundcolor\": \"white\", \"gridcolor\": \"#DFE8F3\", \"gridwidth\": 2, \"linecolor\": \"#EBF0F8\", \"showbackground\": true, \"ticks\": \"\", \"zerolinecolor\": \"#EBF0F8\"}}, \"shapedefaults\": {\"fillcolor\": \"#506784\", \"line\": {\"width\": 0}, \"opacity\": 0.4}, \"ternary\": {\"aaxis\": {\"gridcolor\": \"#DFE8F3\", \"linecolor\": \"#A2B1C6\", \"ticks\": \"\"}, \"baxis\": {\"gridcolor\": \"#DFE8F3\", \"linecolor\": \"#A2B1C6\", \"ticks\": \"\"}, \"bgcolor\": \"white\", \"caxis\": {\"gridcolor\": \"#DFE8F3\", \"linecolor\": \"#A2B1C6\", \"ticks\": \"\"}}, \"title\": {\"x\": 0.05}, \"xaxis\": {\"automargin\": true, \"gridcolor\": \"#EBF0F8\", \"linecolor\": \"#EBF0F8\", \"ticks\": \"\", \"zerolinecolor\": \"#EBF0F8\", \"zerolinewidth\": 2}, \"yaxis\": {\"automargin\": true, \"gridcolor\": \"#EBF0F8\", \"linecolor\": \"#EBF0F8\", \"ticks\": \"\", \"zerolinecolor\": \"#EBF0F8\", \"zerolinewidth\": 2}}}, \"grid\": {\"xaxes\": [\"x\"], \"yaxes\": [\"y\"], \"xgap\": 0.1, \"ygap\": 0.1, \"xside\": \"bottom\", \"yside\": \"left\"}, \"xaxis\": {\"title\": {\"text\": \"Nationality\"}}, \"yaxis\": {\"title\": {\"text\": \"Educational level\"}}}, {\"showLink\": false, \"linkText\": \"Export to plot.ly\", \"plotlyServerURL\": \"https://plot.ly\"}); \n",
       "}\n",
       "});</script><script type=\"text/javascript\">window.addEventListener(\"resize\", function(){if (document.getElementById(\"4b73b719-0155-4add-84ef-412cb558f569\")) {window._Plotly.Plots.resize(document.getElementById(\"4b73b719-0155-4add-84ef-412cb558f569\"));};})</script>"
      ]
     },
     "metadata": {},
     "output_type": "display_data"
    }
   ],
   "source": [
    "def distribution_educational_level_by_nationality_and_gender(dataframe):\n",
    "    temp_dataframe = dataframe.copy()\n",
    "    newDataframe = pd.DataFrame(temp_dataframe.groupby(['Nationality', 'Gender'])['Educational level'].value_counts(dropna=True, sort=True).reset_index(name='counts'))\n",
    "    if get_data_replacements(str('Gender')):\n",
    "        newDataframe['Gender'] = newDataframe['Gender'].apply(get_data_replacements(str('Gender')).get)\n",
    "    if get_data_replacements(str('Nationality')):\n",
    "        newDataframe['Nationality'] = newDataframe['Nationality'].apply(get_data_replacements(str('Nationality')).get)\n",
    "    iplot(px.scatter(newDataframe, x=\"Nationality\", y=\"Educational level\", size=\"counts\", color=\"Gender\", \n",
    "           hover_name=\"Educational level\", log_x=False, size_max=50, color_discrete_sequence=colors_gender, template=\"plotly_white\"))\n",
    "    \n",
    "distribution_educational_level_by_nationality_and_gender(data_complete_en)"
   ]
  },
  {
   "cell_type": "markdown",
   "metadata": {},
   "source": [
    "## Distribution of gender by origin"
   ]
  },
  {
   "cell_type": "code",
   "execution_count": 16,
   "metadata": {
    "scrolled": false
   },
   "outputs": [
    {
     "name": "stdout",
     "output_type": "stream",
     "text": [
      "Describing the variable Gender in Spain\n"
     ]
    },
    {
     "data": {
      "text/plain": [
       "count    217.000000\n",
       "mean       0.599078\n",
       "std        0.527572\n",
       "min        0.000000\n",
       "25%        0.000000\n",
       "50%        1.000000\n",
       "75%        1.000000\n",
       "max        2.000000\n",
       "Name: Gender, dtype: float64"
      ]
     },
     "metadata": {},
     "output_type": "display_data"
    },
    {
     "name": "stdout",
     "output_type": "stream",
     "text": [
      "Count of each value in Gender in Spain expresed as gender / amount\n"
     ]
    },
    {
     "data": {
      "text/plain": [
       "1    122\n",
       "0     91\n",
       "2      4\n",
       "Name: Gender, dtype: int64"
      ]
     },
     "metadata": {},
     "output_type": "display_data"
    },
    {
     "name": "stdout",
     "output_type": "stream",
     "text": [
      "Percentage of each value in Spain expresed as gender / percentage\n"
     ]
    },
    {
     "data": {
      "text/plain": [
       "1    56.22\n",
       "0    41.94\n",
       "2     1.84\n",
       "Name: Gender, dtype: float64"
      ]
     },
     "metadata": {},
     "output_type": "display_data"
    },
    {
     "name": "stdout",
     "output_type": "stream",
     "text": [
      "Describing the variable Gender in Colombia\n"
     ]
    },
    {
     "data": {
      "text/plain": [
       "count    1.0\n",
       "mean     1.0\n",
       "std      NaN\n",
       "min      1.0\n",
       "25%      1.0\n",
       "50%      1.0\n",
       "75%      1.0\n",
       "max      1.0\n",
       "Name: Gender, dtype: float64"
      ]
     },
     "metadata": {},
     "output_type": "display_data"
    },
    {
     "name": "stdout",
     "output_type": "stream",
     "text": [
      "Count of each value in Gender in Colombia expresed as gender / amount\n"
     ]
    },
    {
     "data": {
      "text/plain": [
       "1    1\n",
       "Name: Gender, dtype: int64"
      ]
     },
     "metadata": {},
     "output_type": "display_data"
    },
    {
     "name": "stdout",
     "output_type": "stream",
     "text": [
      "Percentage of each value in Colombia expresed as gender / percentage\n"
     ]
    },
    {
     "data": {
      "text/plain": [
       "1    100.0\n",
       "Name: Gender, dtype: float64"
      ]
     },
     "metadata": {},
     "output_type": "display_data"
    },
    {
     "name": "stdout",
     "output_type": "stream",
     "text": [
      "Describing the variable Gender in Dominican Rep.\n"
     ]
    },
    {
     "data": {
      "text/plain": [
       "count    2.000000\n",
       "mean     0.500000\n",
       "std      0.707107\n",
       "min      0.000000\n",
       "25%      0.250000\n",
       "50%      0.500000\n",
       "75%      0.750000\n",
       "max      1.000000\n",
       "Name: Gender, dtype: float64"
      ]
     },
     "metadata": {},
     "output_type": "display_data"
    },
    {
     "name": "stdout",
     "output_type": "stream",
     "text": [
      "Count of each value in Gender in Dominican Rep. expresed as gender / amount\n"
     ]
    },
    {
     "data": {
      "text/plain": [
       "1    1\n",
       "0    1\n",
       "Name: Gender, dtype: int64"
      ]
     },
     "metadata": {},
     "output_type": "display_data"
    },
    {
     "name": "stdout",
     "output_type": "stream",
     "text": [
      "Percentage of each value in Dominican Rep. expresed as gender / percentage\n"
     ]
    },
    {
     "data": {
      "text/plain": [
       "1    50.0\n",
       "0    50.0\n",
       "Name: Gender, dtype: float64"
      ]
     },
     "metadata": {},
     "output_type": "display_data"
    },
    {
     "name": "stdout",
     "output_type": "stream",
     "text": [
      "Describing the variable Gender in Austria\n"
     ]
    },
    {
     "data": {
      "text/plain": [
       "count    1.0\n",
       "mean     1.0\n",
       "std      NaN\n",
       "min      1.0\n",
       "25%      1.0\n",
       "50%      1.0\n",
       "75%      1.0\n",
       "max      1.0\n",
       "Name: Gender, dtype: float64"
      ]
     },
     "metadata": {},
     "output_type": "display_data"
    },
    {
     "name": "stdout",
     "output_type": "stream",
     "text": [
      "Count of each value in Gender in Austria expresed as gender / amount\n"
     ]
    },
    {
     "data": {
      "text/plain": [
       "1    1\n",
       "Name: Gender, dtype: int64"
      ]
     },
     "metadata": {},
     "output_type": "display_data"
    },
    {
     "name": "stdout",
     "output_type": "stream",
     "text": [
      "Percentage of each value in Austria expresed as gender / percentage\n"
     ]
    },
    {
     "data": {
      "text/plain": [
       "1    100.0\n",
       "Name: Gender, dtype: float64"
      ]
     },
     "metadata": {},
     "output_type": "display_data"
    },
    {
     "name": "stdout",
     "output_type": "stream",
     "text": [
      "Describing the variable Gender in Chile\n"
     ]
    },
    {
     "data": {
      "text/plain": [
       "count    1.0\n",
       "mean     1.0\n",
       "std      NaN\n",
       "min      1.0\n",
       "25%      1.0\n",
       "50%      1.0\n",
       "75%      1.0\n",
       "max      1.0\n",
       "Name: Gender, dtype: float64"
      ]
     },
     "metadata": {},
     "output_type": "display_data"
    },
    {
     "name": "stdout",
     "output_type": "stream",
     "text": [
      "Count of each value in Gender in Chile expresed as gender / amount\n"
     ]
    },
    {
     "data": {
      "text/plain": [
       "1    1\n",
       "Name: Gender, dtype: int64"
      ]
     },
     "metadata": {},
     "output_type": "display_data"
    },
    {
     "name": "stdout",
     "output_type": "stream",
     "text": [
      "Percentage of each value in Chile expresed as gender / percentage\n"
     ]
    },
    {
     "data": {
      "text/plain": [
       "1    100.0\n",
       "Name: Gender, dtype: float64"
      ]
     },
     "metadata": {},
     "output_type": "display_data"
    },
    {
     "name": "stdout",
     "output_type": "stream",
     "text": [
      "Describing the variable Gender in France\n"
     ]
    },
    {
     "data": {
      "text/plain": [
       "count    19.000000\n",
       "mean      0.736842\n",
       "std       0.452414\n",
       "min       0.000000\n",
       "25%       0.500000\n",
       "50%       1.000000\n",
       "75%       1.000000\n",
       "max       1.000000\n",
       "Name: Gender, dtype: float64"
      ]
     },
     "metadata": {},
     "output_type": "display_data"
    },
    {
     "name": "stdout",
     "output_type": "stream",
     "text": [
      "Count of each value in Gender in France expresed as gender / amount\n"
     ]
    },
    {
     "data": {
      "text/plain": [
       "1    14\n",
       "0     5\n",
       "Name: Gender, dtype: int64"
      ]
     },
     "metadata": {},
     "output_type": "display_data"
    },
    {
     "name": "stdout",
     "output_type": "stream",
     "text": [
      "Percentage of each value in France expresed as gender / percentage\n"
     ]
    },
    {
     "data": {
      "text/plain": [
       "1    73.68\n",
       "0    26.32\n",
       "Name: Gender, dtype: float64"
      ]
     },
     "metadata": {},
     "output_type": "display_data"
    },
    {
     "name": "stdout",
     "output_type": "stream",
     "text": [
      "Describing the variable Gender in Canada\n"
     ]
    },
    {
     "data": {
      "text/plain": [
       "count    9.000000\n",
       "mean     0.555556\n",
       "std      0.726483\n",
       "min      0.000000\n",
       "25%      0.000000\n",
       "50%      0.000000\n",
       "75%      1.000000\n",
       "max      2.000000\n",
       "Name: Gender, dtype: float64"
      ]
     },
     "metadata": {},
     "output_type": "display_data"
    },
    {
     "name": "stdout",
     "output_type": "stream",
     "text": [
      "Count of each value in Gender in Canada expresed as gender / amount\n"
     ]
    },
    {
     "data": {
      "text/plain": [
       "0    5\n",
       "1    3\n",
       "2    1\n",
       "Name: Gender, dtype: int64"
      ]
     },
     "metadata": {},
     "output_type": "display_data"
    },
    {
     "name": "stdout",
     "output_type": "stream",
     "text": [
      "Percentage of each value in Canada expresed as gender / percentage\n"
     ]
    },
    {
     "data": {
      "text/plain": [
       "0    55.56\n",
       "1    33.33\n",
       "2    11.11\n",
       "Name: Gender, dtype: float64"
      ]
     },
     "metadata": {},
     "output_type": "display_data"
    },
    {
     "name": "stdout",
     "output_type": "stream",
     "text": [
      "Describing the variable Gender in Niger\n"
     ]
    },
    {
     "data": {
      "text/plain": [
       "count    4.0\n",
       "mean     0.0\n",
       "std      0.0\n",
       "min      0.0\n",
       "25%      0.0\n",
       "50%      0.0\n",
       "75%      0.0\n",
       "max      0.0\n",
       "Name: Gender, dtype: float64"
      ]
     },
     "metadata": {},
     "output_type": "display_data"
    },
    {
     "name": "stdout",
     "output_type": "stream",
     "text": [
      "Count of each value in Gender in Niger expresed as gender / amount\n"
     ]
    },
    {
     "data": {
      "text/plain": [
       "0    4\n",
       "Name: Gender, dtype: int64"
      ]
     },
     "metadata": {},
     "output_type": "display_data"
    },
    {
     "name": "stdout",
     "output_type": "stream",
     "text": [
      "Percentage of each value in Niger expresed as gender / percentage\n"
     ]
    },
    {
     "data": {
      "text/plain": [
       "0    100.0\n",
       "Name: Gender, dtype: float64"
      ]
     },
     "metadata": {},
     "output_type": "display_data"
    },
    {
     "name": "stdout",
     "output_type": "stream",
     "text": [
      "Describing the variable Gender in Australia\n"
     ]
    },
    {
     "data": {
      "text/plain": [
       "count    1.0\n",
       "mean     0.0\n",
       "std      NaN\n",
       "min      0.0\n",
       "25%      0.0\n",
       "50%      0.0\n",
       "75%      0.0\n",
       "max      0.0\n",
       "Name: Gender, dtype: float64"
      ]
     },
     "metadata": {},
     "output_type": "display_data"
    },
    {
     "name": "stdout",
     "output_type": "stream",
     "text": [
      "Count of each value in Gender in Australia expresed as gender / amount\n"
     ]
    },
    {
     "data": {
      "text/plain": [
       "0    1\n",
       "Name: Gender, dtype: int64"
      ]
     },
     "metadata": {},
     "output_type": "display_data"
    },
    {
     "name": "stdout",
     "output_type": "stream",
     "text": [
      "Percentage of each value in Australia expresed as gender / percentage\n"
     ]
    },
    {
     "data": {
      "text/plain": [
       "0    100.0\n",
       "Name: Gender, dtype: float64"
      ]
     },
     "metadata": {},
     "output_type": "display_data"
    },
    {
     "name": "stdout",
     "output_type": "stream",
     "text": [
      "Describing the variable Gender in Russia\n"
     ]
    },
    {
     "data": {
      "text/plain": [
       "count    2.000000\n",
       "mean     0.500000\n",
       "std      0.707107\n",
       "min      0.000000\n",
       "25%      0.250000\n",
       "50%      0.500000\n",
       "75%      0.750000\n",
       "max      1.000000\n",
       "Name: Gender, dtype: float64"
      ]
     },
     "metadata": {},
     "output_type": "display_data"
    },
    {
     "name": "stdout",
     "output_type": "stream",
     "text": [
      "Count of each value in Gender in Russia expresed as gender / amount\n"
     ]
    },
    {
     "data": {
      "text/plain": [
       "1    1\n",
       "0    1\n",
       "Name: Gender, dtype: int64"
      ]
     },
     "metadata": {},
     "output_type": "display_data"
    },
    {
     "name": "stdout",
     "output_type": "stream",
     "text": [
      "Percentage of each value in Russia expresed as gender / percentage\n"
     ]
    },
    {
     "data": {
      "text/plain": [
       "1    50.0\n",
       "0    50.0\n",
       "Name: Gender, dtype: float64"
      ]
     },
     "metadata": {},
     "output_type": "display_data"
    },
    {
     "name": "stdout",
     "output_type": "stream",
     "text": [
      "Describing the variable Gender in Brazil\n"
     ]
    },
    {
     "data": {
      "text/plain": [
       "count    3.000000\n",
       "mean     0.333333\n",
       "std      0.577350\n",
       "min      0.000000\n",
       "25%      0.000000\n",
       "50%      0.000000\n",
       "75%      0.500000\n",
       "max      1.000000\n",
       "Name: Gender, dtype: float64"
      ]
     },
     "metadata": {},
     "output_type": "display_data"
    },
    {
     "name": "stdout",
     "output_type": "stream",
     "text": [
      "Count of each value in Gender in Brazil expresed as gender / amount\n"
     ]
    },
    {
     "data": {
      "text/plain": [
       "0    2\n",
       "1    1\n",
       "Name: Gender, dtype: int64"
      ]
     },
     "metadata": {},
     "output_type": "display_data"
    },
    {
     "name": "stdout",
     "output_type": "stream",
     "text": [
      "Percentage of each value in Brazil expresed as gender / percentage\n"
     ]
    },
    {
     "data": {
      "text/plain": [
       "0    66.67\n",
       "1    33.33\n",
       "Name: Gender, dtype: float64"
      ]
     },
     "metadata": {},
     "output_type": "display_data"
    },
    {
     "name": "stdout",
     "output_type": "stream",
     "text": [
      "Describing the variable Gender in China\n"
     ]
    },
    {
     "data": {
      "text/plain": [
       "count    1.0\n",
       "mean     0.0\n",
       "std      NaN\n",
       "min      0.0\n",
       "25%      0.0\n",
       "50%      0.0\n",
       "75%      0.0\n",
       "max      0.0\n",
       "Name: Gender, dtype: float64"
      ]
     },
     "metadata": {},
     "output_type": "display_data"
    },
    {
     "name": "stdout",
     "output_type": "stream",
     "text": [
      "Count of each value in Gender in China expresed as gender / amount\n"
     ]
    },
    {
     "data": {
      "text/plain": [
       "0    1\n",
       "Name: Gender, dtype: int64"
      ]
     },
     "metadata": {},
     "output_type": "display_data"
    },
    {
     "name": "stdout",
     "output_type": "stream",
     "text": [
      "Percentage of each value in China expresed as gender / percentage\n"
     ]
    },
    {
     "data": {
      "text/plain": [
       "0    100.0\n",
       "Name: Gender, dtype: float64"
      ]
     },
     "metadata": {},
     "output_type": "display_data"
    },
    {
     "name": "stdout",
     "output_type": "stream",
     "text": [
      "Describing the variable Gender in USA\n"
     ]
    },
    {
     "data": {
      "text/plain": [
       "count    306.000000\n",
       "mean       0.516340\n",
       "std        0.500552\n",
       "min        0.000000\n",
       "25%        0.000000\n",
       "50%        1.000000\n",
       "75%        1.000000\n",
       "max        1.000000\n",
       "Name: Gender, dtype: float64"
      ]
     },
     "metadata": {},
     "output_type": "display_data"
    },
    {
     "name": "stdout",
     "output_type": "stream",
     "text": [
      "Count of each value in Gender in USA expresed as gender / amount\n"
     ]
    },
    {
     "data": {
      "text/plain": [
       "1    158\n",
       "0    148\n",
       "Name: Gender, dtype: int64"
      ]
     },
     "metadata": {},
     "output_type": "display_data"
    },
    {
     "name": "stdout",
     "output_type": "stream",
     "text": [
      "Percentage of each value in USA expresed as gender / percentage\n"
     ]
    },
    {
     "data": {
      "text/plain": [
       "1    51.63\n",
       "0    48.37\n",
       "Name: Gender, dtype: float64"
      ]
     },
     "metadata": {},
     "output_type": "display_data"
    },
    {
     "name": "stdout",
     "output_type": "stream",
     "text": [
      "Describing the variable Gender in Unknown\n"
     ]
    },
    {
     "data": {
      "text/plain": [
       "count    38.000000\n",
       "mean      0.868421\n",
       "std       0.342570\n",
       "min       0.000000\n",
       "25%       1.000000\n",
       "50%       1.000000\n",
       "75%       1.000000\n",
       "max       1.000000\n",
       "Name: Gender, dtype: float64"
      ]
     },
     "metadata": {},
     "output_type": "display_data"
    },
    {
     "name": "stdout",
     "output_type": "stream",
     "text": [
      "Count of each value in Gender in Unknown expresed as gender / amount\n"
     ]
    },
    {
     "data": {
      "text/plain": [
       "1    33\n",
       "0     5\n",
       "Name: Gender, dtype: int64"
      ]
     },
     "metadata": {},
     "output_type": "display_data"
    },
    {
     "name": "stdout",
     "output_type": "stream",
     "text": [
      "Percentage of each value in Unknown expresed as gender / percentage\n"
     ]
    },
    {
     "data": {
      "text/plain": [
       "1    86.84\n",
       "0    13.16\n",
       "Name: Gender, dtype: float64"
      ]
     },
     "metadata": {},
     "output_type": "display_data"
    },
    {
     "name": "stdout",
     "output_type": "stream",
     "text": [
      "Describing the variable Gender in Slovakia\n"
     ]
    },
    {
     "data": {
      "text/plain": [
       "count    1.0\n",
       "mean     0.0\n",
       "std      NaN\n",
       "min      0.0\n",
       "25%      0.0\n",
       "50%      0.0\n",
       "75%      0.0\n",
       "max      0.0\n",
       "Name: Gender, dtype: float64"
      ]
     },
     "metadata": {},
     "output_type": "display_data"
    },
    {
     "name": "stdout",
     "output_type": "stream",
     "text": [
      "Count of each value in Gender in Slovakia expresed as gender / amount\n"
     ]
    },
    {
     "data": {
      "text/plain": [
       "0    1\n",
       "Name: Gender, dtype: int64"
      ]
     },
     "metadata": {},
     "output_type": "display_data"
    },
    {
     "name": "stdout",
     "output_type": "stream",
     "text": [
      "Percentage of each value in Slovakia expresed as gender / percentage\n"
     ]
    },
    {
     "data": {
      "text/plain": [
       "0    100.0\n",
       "Name: Gender, dtype: float64"
      ]
     },
     "metadata": {},
     "output_type": "display_data"
    },
    {
     "name": "stdout",
     "output_type": "stream",
     "text": [
      "Describing the variable Gender in India\n"
     ]
    },
    {
     "data": {
      "text/plain": [
       "count    120.000000\n",
       "mean       0.416667\n",
       "std        0.495074\n",
       "min        0.000000\n",
       "25%        0.000000\n",
       "50%        0.000000\n",
       "75%        1.000000\n",
       "max        1.000000\n",
       "Name: Gender, dtype: float64"
      ]
     },
     "metadata": {},
     "output_type": "display_data"
    },
    {
     "name": "stdout",
     "output_type": "stream",
     "text": [
      "Count of each value in Gender in India expresed as gender / amount\n"
     ]
    },
    {
     "data": {
      "text/plain": [
       "0    70\n",
       "1    50\n",
       "Name: Gender, dtype: int64"
      ]
     },
     "metadata": {},
     "output_type": "display_data"
    },
    {
     "name": "stdout",
     "output_type": "stream",
     "text": [
      "Percentage of each value in India expresed as gender / percentage\n"
     ]
    },
    {
     "data": {
      "text/plain": [
       "0    58.33\n",
       "1    41.67\n",
       "Name: Gender, dtype: float64"
      ]
     },
     "metadata": {},
     "output_type": "display_data"
    },
    {
     "name": "stdout",
     "output_type": "stream",
     "text": [
      "Describing the variable Gender in Italy\n"
     ]
    },
    {
     "data": {
      "text/plain": [
       "count    11.000000\n",
       "mean      0.272727\n",
       "std       0.467099\n",
       "min       0.000000\n",
       "25%       0.000000\n",
       "50%       0.000000\n",
       "75%       0.500000\n",
       "max       1.000000\n",
       "Name: Gender, dtype: float64"
      ]
     },
     "metadata": {},
     "output_type": "display_data"
    },
    {
     "name": "stdout",
     "output_type": "stream",
     "text": [
      "Count of each value in Gender in Italy expresed as gender / amount\n"
     ]
    },
    {
     "data": {
      "text/plain": [
       "0    8\n",
       "1    3\n",
       "Name: Gender, dtype: int64"
      ]
     },
     "metadata": {},
     "output_type": "display_data"
    },
    {
     "name": "stdout",
     "output_type": "stream",
     "text": [
      "Percentage of each value in Italy expresed as gender / percentage\n"
     ]
    },
    {
     "data": {
      "text/plain": [
       "0    72.73\n",
       "1    27.27\n",
       "Name: Gender, dtype: float64"
      ]
     },
     "metadata": {},
     "output_type": "display_data"
    },
    {
     "name": "stdout",
     "output_type": "stream",
     "text": [
      "Describing the variable Gender in England\n"
     ]
    },
    {
     "data": {
      "text/plain": [
       "count    10.000000\n",
       "mean      0.400000\n",
       "std       0.516398\n",
       "min       0.000000\n",
       "25%       0.000000\n",
       "50%       0.000000\n",
       "75%       1.000000\n",
       "max       1.000000\n",
       "Name: Gender, dtype: float64"
      ]
     },
     "metadata": {},
     "output_type": "display_data"
    },
    {
     "name": "stdout",
     "output_type": "stream",
     "text": [
      "Count of each value in Gender in England expresed as gender / amount\n"
     ]
    },
    {
     "data": {
      "text/plain": [
       "0    6\n",
       "1    4\n",
       "Name: Gender, dtype: int64"
      ]
     },
     "metadata": {},
     "output_type": "display_data"
    },
    {
     "name": "stdout",
     "output_type": "stream",
     "text": [
      "Percentage of each value in England expresed as gender / percentage\n"
     ]
    },
    {
     "data": {
      "text/plain": [
       "0    60.0\n",
       "1    40.0\n",
       "Name: Gender, dtype: float64"
      ]
     },
     "metadata": {},
     "output_type": "display_data"
    },
    {
     "name": "stdout",
     "output_type": "stream",
     "text": [
      "Describing the variable Gender in Germany\n"
     ]
    },
    {
     "data": {
      "text/plain": [
       "count    1.0\n",
       "mean     1.0\n",
       "std      NaN\n",
       "min      1.0\n",
       "25%      1.0\n",
       "50%      1.0\n",
       "75%      1.0\n",
       "max      1.0\n",
       "Name: Gender, dtype: float64"
      ]
     },
     "metadata": {},
     "output_type": "display_data"
    },
    {
     "name": "stdout",
     "output_type": "stream",
     "text": [
      "Count of each value in Gender in Germany expresed as gender / amount\n"
     ]
    },
    {
     "data": {
      "text/plain": [
       "1    1\n",
       "Name: Gender, dtype: int64"
      ]
     },
     "metadata": {},
     "output_type": "display_data"
    },
    {
     "name": "stdout",
     "output_type": "stream",
     "text": [
      "Percentage of each value in Germany expresed as gender / percentage\n"
     ]
    },
    {
     "data": {
      "text/plain": [
       "1    100.0\n",
       "Name: Gender, dtype: float64"
      ]
     },
     "metadata": {},
     "output_type": "display_data"
    },
    {
     "name": "stdout",
     "output_type": "stream",
     "text": [
      "Describing the variable Gender in Venezuela\n"
     ]
    },
    {
     "data": {
      "text/plain": [
       "count    4.00000\n",
       "mean     0.50000\n",
       "std      0.57735\n",
       "min      0.00000\n",
       "25%      0.00000\n",
       "50%      0.50000\n",
       "75%      1.00000\n",
       "max      1.00000\n",
       "Name: Gender, dtype: float64"
      ]
     },
     "metadata": {},
     "output_type": "display_data"
    },
    {
     "name": "stdout",
     "output_type": "stream",
     "text": [
      "Count of each value in Gender in Venezuela expresed as gender / amount\n"
     ]
    },
    {
     "data": {
      "text/plain": [
       "1    2\n",
       "0    2\n",
       "Name: Gender, dtype: int64"
      ]
     },
     "metadata": {},
     "output_type": "display_data"
    },
    {
     "name": "stdout",
     "output_type": "stream",
     "text": [
      "Percentage of each value in Venezuela expresed as gender / percentage\n"
     ]
    },
    {
     "data": {
      "text/plain": [
       "1    50.0\n",
       "0    50.0\n",
       "Name: Gender, dtype: float64"
      ]
     },
     "metadata": {},
     "output_type": "display_data"
    },
    {
     "name": "stdout",
     "output_type": "stream",
     "text": [
      "Describing the variable Gender in Albania\n"
     ]
    },
    {
     "data": {
      "text/plain": [
       "count    1.0\n",
       "mean     0.0\n",
       "std      NaN\n",
       "min      0.0\n",
       "25%      0.0\n",
       "50%      0.0\n",
       "75%      0.0\n",
       "max      0.0\n",
       "Name: Gender, dtype: float64"
      ]
     },
     "metadata": {},
     "output_type": "display_data"
    },
    {
     "name": "stdout",
     "output_type": "stream",
     "text": [
      "Count of each value in Gender in Albania expresed as gender / amount\n"
     ]
    },
    {
     "data": {
      "text/plain": [
       "0    1\n",
       "Name: Gender, dtype: int64"
      ]
     },
     "metadata": {},
     "output_type": "display_data"
    },
    {
     "name": "stdout",
     "output_type": "stream",
     "text": [
      "Percentage of each value in Albania expresed as gender / percentage\n"
     ]
    },
    {
     "data": {
      "text/plain": [
       "0    100.0\n",
       "Name: Gender, dtype: float64"
      ]
     },
     "metadata": {},
     "output_type": "display_data"
    },
    {
     "name": "stdout",
     "output_type": "stream",
     "text": [
      "Describing the variable Gender in Mexico\n"
     ]
    },
    {
     "data": {
      "text/plain": [
       "count    1.0\n",
       "mean     0.0\n",
       "std      NaN\n",
       "min      0.0\n",
       "25%      0.0\n",
       "50%      0.0\n",
       "75%      0.0\n",
       "max      0.0\n",
       "Name: Gender, dtype: float64"
      ]
     },
     "metadata": {},
     "output_type": "display_data"
    },
    {
     "name": "stdout",
     "output_type": "stream",
     "text": [
      "Count of each value in Gender in Mexico expresed as gender / amount\n"
     ]
    },
    {
     "data": {
      "text/plain": [
       "0    1\n",
       "Name: Gender, dtype: int64"
      ]
     },
     "metadata": {},
     "output_type": "display_data"
    },
    {
     "name": "stdout",
     "output_type": "stream",
     "text": [
      "Percentage of each value in Mexico expresed as gender / percentage\n"
     ]
    },
    {
     "data": {
      "text/plain": [
       "0    100.0\n",
       "Name: Gender, dtype: float64"
      ]
     },
     "metadata": {},
     "output_type": "display_data"
    },
    {
     "name": "stdout",
     "output_type": "stream",
     "text": [
      "Describing the variable Gender in Pakistan\n"
     ]
    },
    {
     "data": {
      "text/plain": [
       "count    1.0\n",
       "mean     1.0\n",
       "std      NaN\n",
       "min      1.0\n",
       "25%      1.0\n",
       "50%      1.0\n",
       "75%      1.0\n",
       "max      1.0\n",
       "Name: Gender, dtype: float64"
      ]
     },
     "metadata": {},
     "output_type": "display_data"
    },
    {
     "name": "stdout",
     "output_type": "stream",
     "text": [
      "Count of each value in Gender in Pakistan expresed as gender / amount\n"
     ]
    },
    {
     "data": {
      "text/plain": [
       "1    1\n",
       "Name: Gender, dtype: int64"
      ]
     },
     "metadata": {},
     "output_type": "display_data"
    },
    {
     "name": "stdout",
     "output_type": "stream",
     "text": [
      "Percentage of each value in Pakistan expresed as gender / percentage\n"
     ]
    },
    {
     "data": {
      "text/plain": [
       "1    100.0\n",
       "Name: Gender, dtype: float64"
      ]
     },
     "metadata": {},
     "output_type": "display_data"
    },
    {
     "name": "stdout",
     "output_type": "stream",
     "text": [
      "Describing the variable Gender in The Bahamas\n"
     ]
    },
    {
     "data": {
      "text/plain": [
       "count    1.0\n",
       "mean     1.0\n",
       "std      NaN\n",
       "min      1.0\n",
       "25%      1.0\n",
       "50%      1.0\n",
       "75%      1.0\n",
       "max      1.0\n",
       "Name: Gender, dtype: float64"
      ]
     },
     "metadata": {},
     "output_type": "display_data"
    },
    {
     "name": "stdout",
     "output_type": "stream",
     "text": [
      "Count of each value in Gender in The Bahamas expresed as gender / amount\n"
     ]
    },
    {
     "data": {
      "text/plain": [
       "1    1\n",
       "Name: Gender, dtype: int64"
      ]
     },
     "metadata": {},
     "output_type": "display_data"
    },
    {
     "name": "stdout",
     "output_type": "stream",
     "text": [
      "Percentage of each value in The Bahamas expresed as gender / percentage\n"
     ]
    },
    {
     "data": {
      "text/plain": [
       "1    100.0\n",
       "Name: Gender, dtype: float64"
      ]
     },
     "metadata": {},
     "output_type": "display_data"
    },
    {
     "name": "stdout",
     "output_type": "stream",
     "text": [
      "Describing the variable Gender in Argentina\n"
     ]
    },
    {
     "data": {
      "text/plain": [
       "count    1.0\n",
       "mean     0.0\n",
       "std      NaN\n",
       "min      0.0\n",
       "25%      0.0\n",
       "50%      0.0\n",
       "75%      0.0\n",
       "max      0.0\n",
       "Name: Gender, dtype: float64"
      ]
     },
     "metadata": {},
     "output_type": "display_data"
    },
    {
     "name": "stdout",
     "output_type": "stream",
     "text": [
      "Count of each value in Gender in Argentina expresed as gender / amount\n"
     ]
    },
    {
     "data": {
      "text/plain": [
       "0    1\n",
       "Name: Gender, dtype: int64"
      ]
     },
     "metadata": {},
     "output_type": "display_data"
    },
    {
     "name": "stdout",
     "output_type": "stream",
     "text": [
      "Percentage of each value in Argentina expresed as gender / percentage\n"
     ]
    },
    {
     "data": {
      "text/plain": [
       "0    100.0\n",
       "Name: Gender, dtype: float64"
      ]
     },
     "metadata": {},
     "output_type": "display_data"
    },
    {
     "name": "stdout",
     "output_type": "stream",
     "text": [
      "Describing the variable Gender in Iceland\n"
     ]
    },
    {
     "data": {
      "text/plain": [
       "count    1.0\n",
       "mean     0.0\n",
       "std      NaN\n",
       "min      0.0\n",
       "25%      0.0\n",
       "50%      0.0\n",
       "75%      0.0\n",
       "max      0.0\n",
       "Name: Gender, dtype: float64"
      ]
     },
     "metadata": {},
     "output_type": "display_data"
    },
    {
     "name": "stdout",
     "output_type": "stream",
     "text": [
      "Count of each value in Gender in Iceland expresed as gender / amount\n"
     ]
    },
    {
     "data": {
      "text/plain": [
       "0    1\n",
       "Name: Gender, dtype: int64"
      ]
     },
     "metadata": {},
     "output_type": "display_data"
    },
    {
     "name": "stdout",
     "output_type": "stream",
     "text": [
      "Percentage of each value in Iceland expresed as gender / percentage\n"
     ]
    },
    {
     "data": {
      "text/plain": [
       "0    100.0\n",
       "Name: Gender, dtype: float64"
      ]
     },
     "metadata": {},
     "output_type": "display_data"
    },
    {
     "name": "stdout",
     "output_type": "stream",
     "text": [
      "Describing the variable Gender in Scotland\n"
     ]
    },
    {
     "data": {
      "text/plain": [
       "count    1.0\n",
       "mean     2.0\n",
       "std      NaN\n",
       "min      2.0\n",
       "25%      2.0\n",
       "50%      2.0\n",
       "75%      2.0\n",
       "max      2.0\n",
       "Name: Gender, dtype: float64"
      ]
     },
     "metadata": {},
     "output_type": "display_data"
    },
    {
     "name": "stdout",
     "output_type": "stream",
     "text": [
      "Count of each value in Gender in Scotland expresed as gender / amount\n"
     ]
    },
    {
     "data": {
      "text/plain": [
       "2    1\n",
       "Name: Gender, dtype: int64"
      ]
     },
     "metadata": {},
     "output_type": "display_data"
    },
    {
     "name": "stdout",
     "output_type": "stream",
     "text": [
      "Percentage of each value in Scotland expresed as gender / percentage\n"
     ]
    },
    {
     "data": {
      "text/plain": [
       "2    100.0\n",
       "Name: Gender, dtype: float64"
      ]
     },
     "metadata": {},
     "output_type": "display_data"
    },
    {
     "name": "stdout",
     "output_type": "stream",
     "text": [
      "Describing the variable Gender in Sudan\n"
     ]
    },
    {
     "data": {
      "text/plain": [
       "count    1.0\n",
       "mean     0.0\n",
       "std      NaN\n",
       "min      0.0\n",
       "25%      0.0\n",
       "50%      0.0\n",
       "75%      0.0\n",
       "max      0.0\n",
       "Name: Gender, dtype: float64"
      ]
     },
     "metadata": {},
     "output_type": "display_data"
    },
    {
     "name": "stdout",
     "output_type": "stream",
     "text": [
      "Count of each value in Gender in Sudan expresed as gender / amount\n"
     ]
    },
    {
     "data": {
      "text/plain": [
       "0    1\n",
       "Name: Gender, dtype: int64"
      ]
     },
     "metadata": {},
     "output_type": "display_data"
    },
    {
     "name": "stdout",
     "output_type": "stream",
     "text": [
      "Percentage of each value in Sudan expresed as gender / percentage\n"
     ]
    },
    {
     "data": {
      "text/plain": [
       "0    100.0\n",
       "Name: Gender, dtype: float64"
      ]
     },
     "metadata": {},
     "output_type": "display_data"
    },
    {
     "name": "stdout",
     "output_type": "stream",
     "text": [
      "Describing the variable Gender in Ukraine\n"
     ]
    },
    {
     "data": {
      "text/plain": [
       "count    1.0\n",
       "mean     1.0\n",
       "std      NaN\n",
       "min      1.0\n",
       "25%      1.0\n",
       "50%      1.0\n",
       "75%      1.0\n",
       "max      1.0\n",
       "Name: Gender, dtype: float64"
      ]
     },
     "metadata": {},
     "output_type": "display_data"
    },
    {
     "name": "stdout",
     "output_type": "stream",
     "text": [
      "Count of each value in Gender in Ukraine expresed as gender / amount\n"
     ]
    },
    {
     "data": {
      "text/plain": [
       "1    1\n",
       "Name: Gender, dtype: int64"
      ]
     },
     "metadata": {},
     "output_type": "display_data"
    },
    {
     "name": "stdout",
     "output_type": "stream",
     "text": [
      "Percentage of each value in Ukraine expresed as gender / percentage\n"
     ]
    },
    {
     "data": {
      "text/plain": [
       "1    100.0\n",
       "Name: Gender, dtype: float64"
      ]
     },
     "metadata": {},
     "output_type": "display_data"
    },
    {
     "name": "stdout",
     "output_type": "stream",
     "text": [
      "Describing the variable Gender in New Zealand\n"
     ]
    },
    {
     "data": {
      "text/plain": [
       "count    1.0\n",
       "mean     1.0\n",
       "std      NaN\n",
       "min      1.0\n",
       "25%      1.0\n",
       "50%      1.0\n",
       "75%      1.0\n",
       "max      1.0\n",
       "Name: Gender, dtype: float64"
      ]
     },
     "metadata": {},
     "output_type": "display_data"
    },
    {
     "name": "stdout",
     "output_type": "stream",
     "text": [
      "Count of each value in Gender in New Zealand expresed as gender / amount\n"
     ]
    },
    {
     "data": {
      "text/plain": [
       "1    1\n",
       "Name: Gender, dtype: int64"
      ]
     },
     "metadata": {},
     "output_type": "display_data"
    },
    {
     "name": "stdout",
     "output_type": "stream",
     "text": [
      "Percentage of each value in New Zealand expresed as gender / percentage\n"
     ]
    },
    {
     "data": {
      "text/plain": [
       "1    100.0\n",
       "Name: Gender, dtype: float64"
      ]
     },
     "metadata": {},
     "output_type": "display_data"
    },
    {
     "name": "stdout",
     "output_type": "stream",
     "text": [
      "Describing the variable Gender in Ireland\n"
     ]
    },
    {
     "data": {
      "text/plain": [
       "count    2.0\n",
       "mean     1.0\n",
       "std      0.0\n",
       "min      1.0\n",
       "25%      1.0\n",
       "50%      1.0\n",
       "75%      1.0\n",
       "max      1.0\n",
       "Name: Gender, dtype: float64"
      ]
     },
     "metadata": {},
     "output_type": "display_data"
    },
    {
     "name": "stdout",
     "output_type": "stream",
     "text": [
      "Count of each value in Gender in Ireland expresed as gender / amount\n"
     ]
    },
    {
     "data": {
      "text/plain": [
       "1    2\n",
       "Name: Gender, dtype: int64"
      ]
     },
     "metadata": {},
     "output_type": "display_data"
    },
    {
     "name": "stdout",
     "output_type": "stream",
     "text": [
      "Percentage of each value in Ireland expresed as gender / percentage\n"
     ]
    },
    {
     "data": {
      "text/plain": [
       "1    100.0\n",
       "Name: Gender, dtype: float64"
      ]
     },
     "metadata": {},
     "output_type": "display_data"
    },
    {
     "name": "stdout",
     "output_type": "stream",
     "text": [
      "Describing the variable Gender in Macedonia\n"
     ]
    },
    {
     "data": {
      "text/plain": [
       "count    1.0\n",
       "mean     0.0\n",
       "std      NaN\n",
       "min      0.0\n",
       "25%      0.0\n",
       "50%      0.0\n",
       "75%      0.0\n",
       "max      0.0\n",
       "Name: Gender, dtype: float64"
      ]
     },
     "metadata": {},
     "output_type": "display_data"
    },
    {
     "name": "stdout",
     "output_type": "stream",
     "text": [
      "Count of each value in Gender in Macedonia expresed as gender / amount\n"
     ]
    },
    {
     "data": {
      "text/plain": [
       "0    1\n",
       "Name: Gender, dtype: int64"
      ]
     },
     "metadata": {},
     "output_type": "display_data"
    },
    {
     "name": "stdout",
     "output_type": "stream",
     "text": [
      "Percentage of each value in Macedonia expresed as gender / percentage\n"
     ]
    },
    {
     "data": {
      "text/plain": [
       "0    100.0\n",
       "Name: Gender, dtype: float64"
      ]
     },
     "metadata": {},
     "output_type": "display_data"
    },
    {
     "name": "stdout",
     "output_type": "stream",
     "text": [
      "Describing the variable Gender in Indonesia\n"
     ]
    },
    {
     "data": {
      "text/plain": [
       "count    1.0\n",
       "mean     0.0\n",
       "std      NaN\n",
       "min      0.0\n",
       "25%      0.0\n",
       "50%      0.0\n",
       "75%      0.0\n",
       "max      0.0\n",
       "Name: Gender, dtype: float64"
      ]
     },
     "metadata": {},
     "output_type": "display_data"
    },
    {
     "name": "stdout",
     "output_type": "stream",
     "text": [
      "Count of each value in Gender in Indonesia expresed as gender / amount\n"
     ]
    },
    {
     "data": {
      "text/plain": [
       "0    1\n",
       "Name: Gender, dtype: int64"
      ]
     },
     "metadata": {},
     "output_type": "display_data"
    },
    {
     "name": "stdout",
     "output_type": "stream",
     "text": [
      "Percentage of each value in Indonesia expresed as gender / percentage\n"
     ]
    },
    {
     "data": {
      "text/plain": [
       "0    100.0\n",
       "Name: Gender, dtype: float64"
      ]
     },
     "metadata": {},
     "output_type": "display_data"
    },
    {
     "name": "stdout",
     "output_type": "stream",
     "text": [
      "Describing the variable Gender in Cuba\n"
     ]
    },
    {
     "data": {
      "text/plain": [
       "count    1.0\n",
       "mean     1.0\n",
       "std      NaN\n",
       "min      1.0\n",
       "25%      1.0\n",
       "50%      1.0\n",
       "75%      1.0\n",
       "max      1.0\n",
       "Name: Gender, dtype: float64"
      ]
     },
     "metadata": {},
     "output_type": "display_data"
    },
    {
     "name": "stdout",
     "output_type": "stream",
     "text": [
      "Count of each value in Gender in Cuba expresed as gender / amount\n"
     ]
    },
    {
     "data": {
      "text/plain": [
       "1    1\n",
       "Name: Gender, dtype: int64"
      ]
     },
     "metadata": {},
     "output_type": "display_data"
    },
    {
     "name": "stdout",
     "output_type": "stream",
     "text": [
      "Percentage of each value in Cuba expresed as gender / percentage\n"
     ]
    },
    {
     "data": {
      "text/plain": [
       "1    100.0\n",
       "Name: Gender, dtype: float64"
      ]
     },
     "metadata": {},
     "output_type": "display_data"
    },
    {
     "data": {
      "application/vnd.plotly.v1+json": {
       "config": {
        "linkText": "Export to plot.ly",
        "plotlyServerURL": "https://plot.ly",
        "showLink": false
       },
       "data": [
        {
         "marker": {
          "color": "rgb(102,194,165)"
         },
         "name": "Men",
         "type": "bar",
         "uid": "d99d0fb6-5f79-451a-b6bb-909d6f086e76",
         "x": [
          "Albania",
          "Argentina",
          "Australia",
          "Austria",
          "Brazil",
          "Canada",
          "Chile",
          "China",
          "Colombia",
          "Cuba",
          "Dominican Rep.",
          "England",
          "France",
          "Germany",
          "Iceland",
          "India",
          "Indonesia",
          "Ireland",
          "Italy",
          "Macedonia",
          "Mexico",
          "New Zealand",
          "Niger",
          "Pakistan",
          "Russia",
          "Scotland",
          "Slovakia",
          "Spain",
          "Sudan",
          "The Bahamas",
          "USA",
          "Ukraine",
          "Unknown",
          "Venezuela"
         ],
         "y": [
          1,
          1,
          1,
          0,
          2,
          5,
          0,
          1,
          0,
          0,
          1,
          6,
          5,
          0,
          1,
          70,
          1,
          0,
          8,
          1,
          1,
          0,
          4,
          0,
          1,
          0,
          1,
          91,
          1,
          0,
          148,
          0,
          5,
          2
         ]
        },
        {
         "marker": {
          "color": "rgb(254,224,139)"
         },
         "name": "Woman",
         "type": "bar",
         "uid": "d751cc04-bed8-48eb-a278-eba14ca15b9e",
         "x": [
          "Albania",
          "Argentina",
          "Australia",
          "Austria",
          "Brazil",
          "Canada",
          "Chile",
          "China",
          "Colombia",
          "Cuba",
          "Dominican Rep.",
          "England",
          "France",
          "Germany",
          "Iceland",
          "India",
          "Indonesia",
          "Ireland",
          "Italy",
          "Macedonia",
          "Mexico",
          "New Zealand",
          "Niger",
          "Pakistan",
          "Russia",
          "Scotland",
          "Slovakia",
          "Spain",
          "Sudan",
          "The Bahamas",
          "USA",
          "Ukraine",
          "Unknown",
          "Venezuela"
         ],
         "y": [
          0,
          0,
          0,
          1,
          1,
          3,
          1,
          0,
          1,
          1,
          1,
          4,
          14,
          1,
          0,
          50,
          0,
          2,
          3,
          0,
          0,
          1,
          0,
          1,
          1,
          0,
          0,
          122,
          0,
          1,
          158,
          1,
          33,
          2
         ]
        },
        {
         "marker": {
          "color": "rgb(244,109,67)"
         },
         "name": "Other",
         "type": "bar",
         "uid": "2024dfc3-3655-4515-91f8-244bcf99e28a",
         "x": [
          "Albania",
          "Argentina",
          "Australia",
          "Austria",
          "Brazil",
          "Canada",
          "Chile",
          "China",
          "Colombia",
          "Cuba",
          "Dominican Rep.",
          "England",
          "France",
          "Germany",
          "Iceland",
          "India",
          "Indonesia",
          "Ireland",
          "Italy",
          "Macedonia",
          "Mexico",
          "New Zealand",
          "Niger",
          "Pakistan",
          "Russia",
          "Scotland",
          "Slovakia",
          "Spain",
          "Sudan",
          "The Bahamas",
          "USA",
          "Ukraine",
          "Unknown",
          "Venezuela"
         ],
         "y": [
          0,
          0,
          0,
          0,
          0,
          1,
          0,
          0,
          0,
          0,
          0,
          0,
          0,
          0,
          0,
          0,
          0,
          0,
          0,
          0,
          0,
          0,
          0,
          0,
          0,
          1,
          0,
          4,
          0,
          0,
          0,
          0,
          0,
          0
         ]
        }
       ],
       "layout": {
        "bargap": 0.2,
        "barmode": "group",
        "xaxis": {
         "title": {
          "text": "Nationality"
         }
        },
        "yaxis": {
         "title": {
          "text": "Total"
         }
        }
       }
      },
      "text/html": [
       "<div id=\"8c7543e5-cd22-40ed-a8bc-3a30f8bc0a3e\" style=\"height: 525px; width: 100%;\" class=\"plotly-graph-div\"></div><script type=\"text/javascript\">require([\"plotly\"], function(Plotly) { window.PLOTLYENV=window.PLOTLYENV || {};window.PLOTLYENV.BASE_URL=\"https://plot.ly\";\n",
       "if (document.getElementById(\"8c7543e5-cd22-40ed-a8bc-3a30f8bc0a3e\")) {\n",
       "    Plotly.newPlot(\"8c7543e5-cd22-40ed-a8bc-3a30f8bc0a3e\", [{\"marker\": {\"color\": \"rgb(102,194,165)\"}, \"name\": \"Men\", \"x\": [\"Albania\", \"Argentina\", \"Australia\", \"Austria\", \"Brazil\", \"Canada\", \"Chile\", \"China\", \"Colombia\", \"Cuba\", \"Dominican Rep.\", \"England\", \"France\", \"Germany\", \"Iceland\", \"India\", \"Indonesia\", \"Ireland\", \"Italy\", \"Macedonia\", \"Mexico\", \"New Zealand\", \"Niger\", \"Pakistan\", \"Russia\", \"Scotland\", \"Slovakia\", \"Spain\", \"Sudan\", \"The Bahamas\", \"USA\", \"Ukraine\", \"Unknown\", \"Venezuela\"], \"y\": [1, 1, 1, 0, 2, 5, 0, 1, 0, 0, 1, 6, 5, 0, 1, 70, 1, 0, 8, 1, 1, 0, 4, 0, 1, 0, 1, 91, 1, 0, 148, 0, 5, 2], \"type\": \"bar\", \"uid\": \"d99d0fb6-5f79-451a-b6bb-909d6f086e76\"}, {\"marker\": {\"color\": \"rgb(254,224,139)\"}, \"name\": \"Woman\", \"x\": [\"Albania\", \"Argentina\", \"Australia\", \"Austria\", \"Brazil\", \"Canada\", \"Chile\", \"China\", \"Colombia\", \"Cuba\", \"Dominican Rep.\", \"England\", \"France\", \"Germany\", \"Iceland\", \"India\", \"Indonesia\", \"Ireland\", \"Italy\", \"Macedonia\", \"Mexico\", \"New Zealand\", \"Niger\", \"Pakistan\", \"Russia\", \"Scotland\", \"Slovakia\", \"Spain\", \"Sudan\", \"The Bahamas\", \"USA\", \"Ukraine\", \"Unknown\", \"Venezuela\"], \"y\": [0, 0, 0, 1, 1, 3, 1, 0, 1, 1, 1, 4, 14, 1, 0, 50, 0, 2, 3, 0, 0, 1, 0, 1, 1, 0, 0, 122, 0, 1, 158, 1, 33, 2], \"type\": \"bar\", \"uid\": \"d751cc04-bed8-48eb-a278-eba14ca15b9e\"}, {\"marker\": {\"color\": \"rgb(244,109,67)\"}, \"name\": \"Other\", \"x\": [\"Albania\", \"Argentina\", \"Australia\", \"Austria\", \"Brazil\", \"Canada\", \"Chile\", \"China\", \"Colombia\", \"Cuba\", \"Dominican Rep.\", \"England\", \"France\", \"Germany\", \"Iceland\", \"India\", \"Indonesia\", \"Ireland\", \"Italy\", \"Macedonia\", \"Mexico\", \"New Zealand\", \"Niger\", \"Pakistan\", \"Russia\", \"Scotland\", \"Slovakia\", \"Spain\", \"Sudan\", \"The Bahamas\", \"USA\", \"Ukraine\", \"Unknown\", \"Venezuela\"], \"y\": [0, 0, 0, 0, 0, 1, 0, 0, 0, 0, 0, 0, 0, 0, 0, 0, 0, 0, 0, 0, 0, 0, 0, 0, 0, 1, 0, 4, 0, 0, 0, 0, 0, 0], \"type\": \"bar\", \"uid\": \"2024dfc3-3655-4515-91f8-244bcf99e28a\"}], {\"bargap\": 0.2, \"barmode\": \"group\", \"xaxis\": {\"title\": {\"text\": \"Nationality\"}}, \"yaxis\": {\"title\": {\"text\": \"Total\"}}}, {\"showLink\": false, \"linkText\": \"Export to plot.ly\", \"plotlyServerURL\": \"https://plot.ly\"}); \n",
       "}\n",
       "});</script><script type=\"text/javascript\">window.addEventListener(\"resize\", function(){if (document.getElementById(\"8c7543e5-cd22-40ed-a8bc-3a30f8bc0a3e\")) {window._Plotly.Plots.resize(document.getElementById(\"8c7543e5-cd22-40ed-a8bc-3a30f8bc0a3e\"));};})</script>"
      ],
      "text/vnd.plotly.v1+html": [
       "<div id=\"8c7543e5-cd22-40ed-a8bc-3a30f8bc0a3e\" style=\"height: 525px; width: 100%;\" class=\"plotly-graph-div\"></div><script type=\"text/javascript\">require([\"plotly\"], function(Plotly) { window.PLOTLYENV=window.PLOTLYENV || {};window.PLOTLYENV.BASE_URL=\"https://plot.ly\";\n",
       "if (document.getElementById(\"8c7543e5-cd22-40ed-a8bc-3a30f8bc0a3e\")) {\n",
       "    Plotly.newPlot(\"8c7543e5-cd22-40ed-a8bc-3a30f8bc0a3e\", [{\"marker\": {\"color\": \"rgb(102,194,165)\"}, \"name\": \"Men\", \"x\": [\"Albania\", \"Argentina\", \"Australia\", \"Austria\", \"Brazil\", \"Canada\", \"Chile\", \"China\", \"Colombia\", \"Cuba\", \"Dominican Rep.\", \"England\", \"France\", \"Germany\", \"Iceland\", \"India\", \"Indonesia\", \"Ireland\", \"Italy\", \"Macedonia\", \"Mexico\", \"New Zealand\", \"Niger\", \"Pakistan\", \"Russia\", \"Scotland\", \"Slovakia\", \"Spain\", \"Sudan\", \"The Bahamas\", \"USA\", \"Ukraine\", \"Unknown\", \"Venezuela\"], \"y\": [1, 1, 1, 0, 2, 5, 0, 1, 0, 0, 1, 6, 5, 0, 1, 70, 1, 0, 8, 1, 1, 0, 4, 0, 1, 0, 1, 91, 1, 0, 148, 0, 5, 2], \"type\": \"bar\", \"uid\": \"d99d0fb6-5f79-451a-b6bb-909d6f086e76\"}, {\"marker\": {\"color\": \"rgb(254,224,139)\"}, \"name\": \"Woman\", \"x\": [\"Albania\", \"Argentina\", \"Australia\", \"Austria\", \"Brazil\", \"Canada\", \"Chile\", \"China\", \"Colombia\", \"Cuba\", \"Dominican Rep.\", \"England\", \"France\", \"Germany\", \"Iceland\", \"India\", \"Indonesia\", \"Ireland\", \"Italy\", \"Macedonia\", \"Mexico\", \"New Zealand\", \"Niger\", \"Pakistan\", \"Russia\", \"Scotland\", \"Slovakia\", \"Spain\", \"Sudan\", \"The Bahamas\", \"USA\", \"Ukraine\", \"Unknown\", \"Venezuela\"], \"y\": [0, 0, 0, 1, 1, 3, 1, 0, 1, 1, 1, 4, 14, 1, 0, 50, 0, 2, 3, 0, 0, 1, 0, 1, 1, 0, 0, 122, 0, 1, 158, 1, 33, 2], \"type\": \"bar\", \"uid\": \"d751cc04-bed8-48eb-a278-eba14ca15b9e\"}, {\"marker\": {\"color\": \"rgb(244,109,67)\"}, \"name\": \"Other\", \"x\": [\"Albania\", \"Argentina\", \"Australia\", \"Austria\", \"Brazil\", \"Canada\", \"Chile\", \"China\", \"Colombia\", \"Cuba\", \"Dominican Rep.\", \"England\", \"France\", \"Germany\", \"Iceland\", \"India\", \"Indonesia\", \"Ireland\", \"Italy\", \"Macedonia\", \"Mexico\", \"New Zealand\", \"Niger\", \"Pakistan\", \"Russia\", \"Scotland\", \"Slovakia\", \"Spain\", \"Sudan\", \"The Bahamas\", \"USA\", \"Ukraine\", \"Unknown\", \"Venezuela\"], \"y\": [0, 0, 0, 0, 0, 1, 0, 0, 0, 0, 0, 0, 0, 0, 0, 0, 0, 0, 0, 0, 0, 0, 0, 0, 0, 1, 0, 4, 0, 0, 0, 0, 0, 0], \"type\": \"bar\", \"uid\": \"2024dfc3-3655-4515-91f8-244bcf99e28a\"}], {\"bargap\": 0.2, \"barmode\": \"group\", \"xaxis\": {\"title\": {\"text\": \"Nationality\"}}, \"yaxis\": {\"title\": {\"text\": \"Total\"}}}, {\"showLink\": false, \"linkText\": \"Export to plot.ly\", \"plotlyServerURL\": \"https://plot.ly\"}); \n",
       "}\n",
       "});</script><script type=\"text/javascript\">window.addEventListener(\"resize\", function(){if (document.getElementById(\"8c7543e5-cd22-40ed-a8bc-3a30f8bc0a3e\")) {window._Plotly.Plots.resize(document.getElementById(\"8c7543e5-cd22-40ed-a8bc-3a30f8bc0a3e\"));};})</script>"
      ]
     },
     "metadata": {},
     "output_type": "display_data"
    }
   ],
   "source": [
    "for country in data_complete_nationality['Nationality'].unique():\n",
    "    print(f'Describing the variable Gender in {country}')\n",
    "    display(\n",
    "        data_complete_nationality[data_complete_nationality['Nationality'] == country]['Gender'].describe())\n",
    "    print(\n",
    "        f'Count of each value in Gender in {country} expresed as gender / amount')\n",
    "    display(\n",
    "        data_complete_nationality[data_complete_nationality['Nationality'] == country]['Gender'].value_counts())\n",
    "    print(\n",
    "        f'Percentage of each value in {country} expresed as gender / percentage')\n",
    "    display(data_complete_nationality[data_complete_nationality['Nationality'] == country]['Gender'].value_counts(\n",
    "        normalize=True).round(4) * 100)\n",
    "\n",
    "trace1 = go.Bar(\n",
    "    x=sorted(data_complete_nationality['Nationality'].unique()),\n",
    "    y=data_complete_nationality[data_complete_nationality['Gender'] == 0]['Nationality'].value_counts(\n",
    "    ).reindex(data_complete_nationality['Nationality'].unique(), fill_value=0).sort_index(),\n",
    "    marker=dict(color=colors_gender_list[0]),\n",
    "    name='Men'\n",
    ")\n",
    "trace2 = go.Bar(\n",
    "    x=sorted(data_complete_nationality['Nationality'].unique()),\n",
    "    y=data_complete_nationality[(data_complete_nationality['Gender'] == 1)]['Nationality'].value_counts(\n",
    "    ).reindex(data_complete_nationality['Nationality'].unique(), fill_value=0).sort_index(),\n",
    "    marker=dict(color=colors_gender_list[1]),\n",
    "    name='Woman'\n",
    ")\n",
    "trace3 = go.Bar(\n",
    "    x=sorted(data_complete_nationality['Nationality'].unique()),\n",
    "    y=data_complete_nationality[data_complete_nationality['Gender'] == 2]['Nationality'].value_counts(\n",
    "    ).reindex(data_complete_nationality['Nationality'].unique(), fill_value=0).sort_index(),\n",
    "    marker=dict(color=colors_gender_list[2]),\n",
    "    name='Other'\n",
    ")\n",
    "\n",
    "data10 = [trace1, trace2, trace3]\n",
    "layout10 = go.Layout(\n",
    "    barmode='group',\n",
    "    xaxis=go.layout.XAxis(\n",
    "        # ticktext=labels_nationality,\n",
    "        # tickvals=tickvals_nationality,\n",
    "        title='Nationality'\n",
    "    ),\n",
    "    yaxis=go.layout.YAxis(\n",
    "        title=\"Total\"),\n",
    "    bargap=0.2,\n",
    ")\n",
    "\n",
    "fig10 = go.Figure(data=data10, layout=layout10)\n",
    "iplot(fig10)\n",
    "plt.show()"
   ]
  },
  {
   "cell_type": "code",
   "execution_count": null,
   "metadata": {},
   "outputs": [],
   "source": []
  }
 ],
 "metadata": {
  "kernelspec": {
   "display_name": "Python 3",
   "language": "python",
   "name": "python3"
  },
  "language_info": {
   "codemirror_mode": {
    "name": "ipython",
    "version": 3
   },
   "file_extension": ".py",
   "mimetype": "text/x-python",
   "name": "python",
   "nbconvert_exporter": "python",
   "pygments_lexer": "ipython3",
   "version": "3.6.8"
  }
 },
 "nbformat": 4,
 "nbformat_minor": 2
}

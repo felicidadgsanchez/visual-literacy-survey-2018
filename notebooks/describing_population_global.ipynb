{
 "cells": [
  {
   "cell_type": "markdown",
   "metadata": {},
   "source": [
    "# Describing the population that completed the survey"
   ]
  },
  {
   "cell_type": "code",
   "execution_count": 1,
   "metadata": {},
   "outputs": [],
   "source": [
    "%%capture\n",
    "\n",
    "\n",
    "# Boilerplate required to import other notebooks\n",
    "import ipynb.fs\n",
    "\n",
    "# From the full \"data_preparation\" notebook import function(s)\n",
    "from .full.data_preparation import *"
   ]
  },
  {
   "cell_type": "code",
   "execution_count": 2,
   "metadata": {},
   "outputs": [
    {
     "data": {
      "text/html": [
       "<script type=\"text/javascript\">window.PlotlyConfig = {MathJaxConfig: 'local'};</script><script type=\"text/javascript\">if (window.MathJax) {MathJax.Hub.Config({SVG: {font: \"STIX-Web\"}});}</script><script>requirejs.config({paths: { 'plotly': ['https://cdn.plot.ly/plotly-latest.min']},});if(!window._Plotly) {require(['plotly'],function(plotly) {window._Plotly=plotly;});}</script>"
      ],
      "text/vnd.plotly.v1+html": [
       "<script type=\"text/javascript\">window.PlotlyConfig = {MathJaxConfig: 'local'};</script><script type=\"text/javascript\">if (window.MathJax) {MathJax.Hub.Config({SVG: {font: \"STIX-Web\"}});}</script><script>requirejs.config({paths: { 'plotly': ['https://cdn.plot.ly/plotly-latest.min']},});if(!window._Plotly) {require(['plotly'],function(plotly) {window._Plotly=plotly;});}</script>"
      ]
     },
     "metadata": {},
     "output_type": "display_data"
    }
   ],
   "source": [
    "%matplotlib inline\n",
    "\n",
    "import numpy as np\n",
    "import pandas as pd\n",
    "\n",
    "from scipy import stats\n",
    "\n",
    "from plotly.offline import download_plotlyjs, init_notebook_mode, plot, iplot\n",
    "import plotly.graph_objs as go\n",
    "init_notebook_mode(connected=True)\n",
    "\n",
    "import matplotlib.pyplot as plt\n",
    "plt.style.use('fivethirtyeight')\n",
    "pd.options.display.max_rows = 500"
   ]
  },
  {
   "cell_type": "code",
   "execution_count": 3,
   "metadata": {},
   "outputs": [],
   "source": [
    "data_complete_en = get_dataframe_analysis_en(True)\n",
    "data_complete_esp = get_dataframe_analysis_esp(True)\n",
    "\n",
    "data_incomplete_en_1, data_incomplete_en_2 = read_en_incomplete_survey_datasets()\n",
    "data_incomplete_en = merge_2_dataframes(data_incomplete_en_1, data_incomplete_en_2)\n",
    "data_incomplete_esp_1, data_incomplete_esp_2 = read_esp_incomplete_survey_datasets()\n",
    "data_incomplete_esp = merge_2_dataframes(data_incomplete_esp_1, data_incomplete_esp_2)"
   ]
  },
  {
   "cell_type": "markdown",
   "metadata": {},
   "source": [
    "## First of all, we check if the data shape is what we expect.\n",
    "\n",
    "767 persons completed the survey. Each respondent could filled 125 possible variables"
   ]
  },
  {
   "cell_type": "code",
   "execution_count": 4,
   "metadata": {},
   "outputs": [
    {
     "data": {
      "text/plain": [
       "(767, 125)"
      ]
     },
     "metadata": {},
     "output_type": "display_data"
    },
    {
     "data": {
      "text/plain": [
       "(767, 125)"
      ]
     },
     "metadata": {},
     "output_type": "display_data"
    }
   ],
   "source": [
    "display(data_complete_en.shape)\n",
    "display(data_complete_esp.shape)"
   ]
  },
  {
   "cell_type": "markdown",
   "metadata": {},
   "source": [
    "Also, we check the total population that participated in the study, and we find the percentage of people who completed the survey vs. those who not."
   ]
  },
  {
   "cell_type": "code",
   "execution_count": 5,
   "metadata": {},
   "outputs": [
    {
     "name": "stdout",
     "output_type": "stream",
     "text": [
      "Participants who started the survey: 1821\n",
      "Participants who completed the survey: 767\n",
      "Ratio participants who completed the survey vs. total: 42.12%\n"
     ]
    }
   ],
   "source": [
    "print(\n",
    "    f\"Participants who started the survey: {len(data_incomplete_en.index)}\")\n",
    "print(f\"Participants who completed the survey: {len(data_complete_en.index)}\")\n",
    "\n",
    "print(\n",
    "    f\"Ratio participants who completed the survey vs. total: {round(len(data_complete_en.index)/len(data_incomplete_en.index)*100,2)}%\")"
   ]
  },
  {
   "cell_type": "markdown",
   "metadata": {},
   "source": [
    "## Analyzing the balance between genders\n",
    "\n",
    "Possible responses: \n",
    "  * 0 = Male\n",
    "  * 1 = Female\n",
    "  * 2 = Other"
   ]
  },
  {
   "cell_type": "code",
   "execution_count": 6,
   "metadata": {},
   "outputs": [
    {
     "name": "stdout",
     "output_type": "stream",
     "text": [
      "Describing the variable Gender\n"
     ]
    },
    {
     "data": {
      "text/plain": [
       "count        767\n",
       "unique         3\n",
       "top       Female\n",
       "freq         403\n",
       "Name: Gender, dtype: object"
      ]
     },
     "metadata": {},
     "output_type": "display_data"
    },
    {
     "name": "stdout",
     "output_type": "stream",
     "text": [
      "Count of each value in Gender expresed as gender / amount\n"
     ]
    },
    {
     "data": {
      "text/plain": [
       "Female    403\n",
       "Male      358\n",
       "Other       6\n",
       "Name: Gender, dtype: int64"
      ]
     },
     "metadata": {},
     "output_type": "display_data"
    },
    {
     "name": "stdout",
     "output_type": "stream",
     "text": [
      "Percentage of each value in Gender expresed as gender / percentage\n"
     ]
    },
    {
     "data": {
      "text/plain": [
       "Female    52.54\n",
       "Male      46.68\n",
       "Other      0.78\n",
       "Name: Gender, dtype: float64"
      ]
     },
     "metadata": {},
     "output_type": "display_data"
    },
    {
     "data": {
      "application/vnd.plotly.v1+json": {
       "config": {
        "linkText": "Export to plot.ly",
        "plotlyServerURL": "https://plot.ly",
        "showLink": false
       },
       "data": [
        {
         "name": "Gender",
         "text": [
          52.54,
          46.68,
          0.7799999999999999
         ],
         "type": "bar",
         "uid": "f631517f-019f-4d81-b6b3-ded59817a0b3",
         "x": [
          "Male",
          "Female",
          "Other"
         ],
         "y": [
          403,
          358,
          6
         ]
        }
       ],
       "layout": {
        "bargap": 0.2,
        "xaxis": {
         "ticktext": [
          "Male",
          "Female",
          "Other"
         ],
         "tickvals": [
          "0",
          "1",
          "2"
         ],
         "title": {
          "text": "Gender"
         }
        },
        "yaxis": {
         "title": {
          "text": "Total"
         }
        }
       }
      },
      "text/html": [
       "<div id=\"d9f87b62-0cc1-4b46-a53b-a9c47b00e82b\" style=\"height: 525px; width: 100%;\" class=\"plotly-graph-div\"></div><script type=\"text/javascript\">require([\"plotly\"], function(Plotly) { window.PLOTLYENV=window.PLOTLYENV || {};window.PLOTLYENV.BASE_URL=\"https://plot.ly\";\n",
       "if (document.getElementById(\"d9f87b62-0cc1-4b46-a53b-a9c47b00e82b\")) {\n",
       "    Plotly.newPlot(\"d9f87b62-0cc1-4b46-a53b-a9c47b00e82b\", [{\"name\": \"Gender\", \"text\": [52.54, 46.68, 0.7799999999999999], \"x\": [\"Male\", \"Female\", \"Other\"], \"y\": [403, 358, 6], \"type\": \"bar\", \"uid\": \"f631517f-019f-4d81-b6b3-ded59817a0b3\"}], {\"bargap\": 0.2, \"xaxis\": {\"ticktext\": [\"Male\", \"Female\", \"Other\"], \"tickvals\": [\"0\", \"1\", \"2\"], \"title\": {\"text\": \"Gender\"}}, \"yaxis\": {\"title\": {\"text\": \"Total\"}}}, {\"showLink\": false, \"linkText\": \"Export to plot.ly\", \"plotlyServerURL\": \"https://plot.ly\"}); \n",
       "}\n",
       "});</script><script type=\"text/javascript\">window.addEventListener(\"resize\", function(){if (document.getElementById(\"d9f87b62-0cc1-4b46-a53b-a9c47b00e82b\")) {window._Plotly.Plots.resize(document.getElementById(\"d9f87b62-0cc1-4b46-a53b-a9c47b00e82b\"));};})</script>"
      ],
      "text/vnd.plotly.v1+html": [
       "<div id=\"d9f87b62-0cc1-4b46-a53b-a9c47b00e82b\" style=\"height: 525px; width: 100%;\" class=\"plotly-graph-div\"></div><script type=\"text/javascript\">require([\"plotly\"], function(Plotly) { window.PLOTLYENV=window.PLOTLYENV || {};window.PLOTLYENV.BASE_URL=\"https://plot.ly\";\n",
       "if (document.getElementById(\"d9f87b62-0cc1-4b46-a53b-a9c47b00e82b\")) {\n",
       "    Plotly.newPlot(\"d9f87b62-0cc1-4b46-a53b-a9c47b00e82b\", [{\"name\": \"Gender\", \"text\": [52.54, 46.68, 0.7799999999999999], \"x\": [\"Male\", \"Female\", \"Other\"], \"y\": [403, 358, 6], \"type\": \"bar\", \"uid\": \"f631517f-019f-4d81-b6b3-ded59817a0b3\"}], {\"bargap\": 0.2, \"xaxis\": {\"ticktext\": [\"Male\", \"Female\", \"Other\"], \"tickvals\": [\"0\", \"1\", \"2\"], \"title\": {\"text\": \"Gender\"}}, \"yaxis\": {\"title\": {\"text\": \"Total\"}}}, {\"showLink\": false, \"linkText\": \"Export to plot.ly\", \"plotlyServerURL\": \"https://plot.ly\"}); \n",
       "}\n",
       "});</script><script type=\"text/javascript\">window.addEventListener(\"resize\", function(){if (document.getElementById(\"d9f87b62-0cc1-4b46-a53b-a9c47b00e82b\")) {window._Plotly.Plots.resize(document.getElementById(\"d9f87b62-0cc1-4b46-a53b-a9c47b00e82b\"));};})</script>"
      ]
     },
     "metadata": {},
     "output_type": "display_data"
    }
   ],
   "source": [
    "names_gender = ['Male', 'Female', 'Other']\n",
    "values_gender = [0, 1, 2]\n",
    "\n",
    "data_complete_en['Gender'].replace(values_gender, names_gender, inplace=True)\n",
    "\n",
    "print('Describing the variable Gender')\n",
    "display(data_complete_en['Gender'].describe())\n",
    "print('Count of each value in Gender expresed as gender / amount')\n",
    "display(data_complete_en['Gender'].value_counts().sort_index())\n",
    "print('Percentage of each value in Gender expresed as gender / percentage')\n",
    "display(data_complete_en['Gender'].value_counts(\n",
    "    normalize=True).sort_index().round(4) * 100)\n",
    "\n",
    "labels_gender = ['Male', 'Female', 'Other']\n",
    "tickvals_gender = ['0', '1', '2']\n",
    "\n",
    "data1 = [go.Bar(x=data_complete_en['Gender'].unique(),\n",
    "                y=data_complete_en['Gender'].value_counts().sort_index(),\n",
    "                text=(data_complete_en['Gender'].value_counts(\n",
    "                    normalize=True).sort_index().round(4) * 100),\n",
    "                name='Gender')]\n",
    "layout1 = go.Layout(\n",
    "    xaxis=go.layout.XAxis(\n",
    "        ticktext=labels_gender,\n",
    "        tickvals=tickvals_gender,\n",
    "        title='Gender'\n",
    "    ),\n",
    "    yaxis=go.layout.YAxis(\n",
    "        title=\"Total\"),\n",
    "    bargap=0.2,\n",
    ")\n",
    "fig1 = go.Figure(data=data1, layout=layout1)\n",
    "iplot(fig1)\n",
    "plt.show()"
   ]
  },
  {
   "cell_type": "markdown",
   "metadata": {},
   "source": [
    "## Analyzing the distribution of age in the population"
   ]
  },
  {
   "cell_type": "code",
   "execution_count": 7,
   "metadata": {
    "scrolled": false
   },
   "outputs": [
    {
     "name": "stdout",
     "output_type": "stream",
     "text": [
      "Describing the variable Age\n"
     ]
    },
    {
     "data": {
      "text/plain": [
       "count    767.000000\n",
       "mean      32.653194\n",
       "std       12.463825\n",
       "min       13.000000\n",
       "25%       24.000000\n",
       "50%       30.000000\n",
       "75%       38.000000\n",
       "max       81.000000\n",
       "Name: Age, dtype: float64"
      ]
     },
     "metadata": {},
     "output_type": "display_data"
    },
    {
     "name": "stdout",
     "output_type": "stream",
     "text": [
      "Count of each value in Age expresed as age / amount\n"
     ]
    },
    {
     "data": {
      "text/plain": [
       "13     5\n",
       "14    28\n",
       "15    18\n",
       "16    10\n",
       "17     5\n",
       "18    11\n",
       "19    12\n",
       "20    11\n",
       "21    24\n",
       "22    16\n",
       "23    20\n",
       "24    39\n",
       "25    21\n",
       "26    31\n",
       "27    38\n",
       "28    39\n",
       "29    32\n",
       "30    38\n",
       "31    24\n",
       "32    24\n",
       "33    24\n",
       "34    26\n",
       "35    28\n",
       "36    17\n",
       "37    18\n",
       "38    19\n",
       "39    15\n",
       "40     9\n",
       "41     9\n",
       "42    12\n",
       "43    12\n",
       "44     8\n",
       "45     8\n",
       "46    15\n",
       "47     9\n",
       "48     5\n",
       "49     4\n",
       "50     6\n",
       "51     6\n",
       "52     2\n",
       "53     8\n",
       "54     4\n",
       "55     7\n",
       "56     5\n",
       "57     6\n",
       "58     1\n",
       "59     2\n",
       "60     5\n",
       "61     3\n",
       "62     7\n",
       "63     1\n",
       "64     3\n",
       "65     2\n",
       "66     2\n",
       "67     4\n",
       "68     1\n",
       "69     2\n",
       "70     1\n",
       "71     1\n",
       "73     1\n",
       "78     1\n",
       "81     2\n",
       "Name: Age, dtype: int64"
      ]
     },
     "metadata": {},
     "output_type": "display_data"
    },
    {
     "name": "stdout",
     "output_type": "stream",
     "text": [
      "Percentage of each value in Age expresed as age / percentage\n"
     ]
    },
    {
     "data": {
      "text/plain": [
       "13    0.65\n",
       "14    3.65\n",
       "15    2.35\n",
       "16    1.30\n",
       "17    0.65\n",
       "18    1.43\n",
       "19    1.56\n",
       "20    1.43\n",
       "21    3.13\n",
       "22    2.09\n",
       "23    2.61\n",
       "24    5.08\n",
       "25    2.74\n",
       "26    4.04\n",
       "27    4.95\n",
       "28    5.08\n",
       "29    4.17\n",
       "30    4.95\n",
       "31    3.13\n",
       "32    3.13\n",
       "33    3.13\n",
       "34    3.39\n",
       "35    3.65\n",
       "36    2.22\n",
       "37    2.35\n",
       "38    2.48\n",
       "39    1.96\n",
       "40    1.17\n",
       "41    1.17\n",
       "42    1.56\n",
       "43    1.56\n",
       "44    1.04\n",
       "45    1.04\n",
       "46    1.96\n",
       "47    1.17\n",
       "48    0.65\n",
       "49    0.52\n",
       "50    0.78\n",
       "51    0.78\n",
       "52    0.26\n",
       "53    1.04\n",
       "54    0.52\n",
       "55    0.91\n",
       "56    0.65\n",
       "57    0.78\n",
       "58    0.13\n",
       "59    0.26\n",
       "60    0.65\n",
       "61    0.39\n",
       "62    0.91\n",
       "63    0.13\n",
       "64    0.39\n",
       "65    0.26\n",
       "66    0.26\n",
       "67    0.52\n",
       "68    0.13\n",
       "69    0.26\n",
       "70    0.13\n",
       "71    0.13\n",
       "73    0.13\n",
       "78    0.13\n",
       "81    0.26\n",
       "Name: Age, dtype: float64"
      ]
     },
     "metadata": {},
     "output_type": "display_data"
    },
    {
     "data": {
      "application/vnd.plotly.v1+json": {
       "config": {
        "linkText": "Export to plot.ly",
        "plotlyServerURL": "https://plot.ly",
        "showLink": false
       },
       "data": [
        {
         "name": "Age",
         "text": [
          0.65,
          3.65,
          2.35,
          1.3,
          0.65,
          1.43,
          1.5599999999999998,
          1.43,
          3.1300000000000003,
          2.09,
          2.6100000000000003,
          5.08,
          2.74,
          4.04,
          4.95,
          5.08,
          4.17,
          4.95,
          3.1300000000000003,
          3.1300000000000003,
          3.1300000000000003,
          3.39,
          3.65,
          2.22,
          2.35,
          2.48,
          1.96,
          1.17,
          1.17,
          1.5599999999999998,
          1.5599999999999998,
          1.04,
          1.04,
          1.96,
          1.17,
          0.65,
          0.52,
          0.7799999999999999,
          0.7799999999999999,
          0.26,
          1.04,
          0.52,
          0.91,
          0.65,
          0.7799999999999999,
          0.13,
          0.26,
          0.65,
          0.38999999999999996,
          0.91,
          0.13,
          0.38999999999999996,
          0.26,
          0.26,
          0.52,
          0.13,
          0.26,
          0.13,
          0.13,
          0.13,
          0.13,
          0.26
         ],
         "type": "bar",
         "uid": "107e4331-6ba2-4dc3-974f-ece3d492b1ee",
         "x": [
          37,
          62,
          28,
          31,
          24,
          20,
          30,
          42,
          32,
          60,
          35,
          23,
          41,
          22,
          33,
          46,
          21,
          29,
          36,
          38,
          19,
          43,
          25,
          50,
          57,
          67,
          53,
          44,
          70,
          18,
          27,
          64,
          15,
          17,
          16,
          14,
          48,
          51,
          26,
          34,
          61,
          55,
          52,
          47,
          39,
          45,
          13,
          81,
          40,
          49,
          56,
          59,
          54,
          69,
          65,
          63,
          66,
          73,
          71,
          68,
          58,
          78
         ],
         "y": [
          5,
          28,
          18,
          10,
          5,
          11,
          12,
          11,
          24,
          16,
          20,
          39,
          21,
          31,
          38,
          39,
          32,
          38,
          24,
          24,
          24,
          26,
          28,
          17,
          18,
          19,
          15,
          9,
          9,
          12,
          12,
          8,
          8,
          15,
          9,
          5,
          4,
          6,
          6,
          2,
          8,
          4,
          7,
          5,
          6,
          1,
          2,
          5,
          3,
          7,
          1,
          3,
          2,
          2,
          4,
          1,
          2,
          1,
          1,
          1,
          1,
          2
         ]
        }
       ],
       "layout": {
        "bargap": 0.2,
        "xaxis": {
         "title": {
          "text": "Age"
         }
        },
        "yaxis": {
         "title": {
          "text": "Total"
         }
        }
       }
      },
      "text/html": [
       "<div id=\"edae67b6-3b94-44c1-b785-35160144b27d\" style=\"height: 525px; width: 100%;\" class=\"plotly-graph-div\"></div><script type=\"text/javascript\">require([\"plotly\"], function(Plotly) { window.PLOTLYENV=window.PLOTLYENV || {};window.PLOTLYENV.BASE_URL=\"https://plot.ly\";\n",
       "if (document.getElementById(\"edae67b6-3b94-44c1-b785-35160144b27d\")) {\n",
       "    Plotly.newPlot(\"edae67b6-3b94-44c1-b785-35160144b27d\", [{\"name\": \"Age\", \"text\": [0.65, 3.65, 2.35, 1.3, 0.65, 1.43, 1.5599999999999998, 1.43, 3.1300000000000003, 2.09, 2.6100000000000003, 5.08, 2.74, 4.04, 4.95, 5.08, 4.17, 4.95, 3.1300000000000003, 3.1300000000000003, 3.1300000000000003, 3.39, 3.65, 2.22, 2.35, 2.48, 1.96, 1.17, 1.17, 1.5599999999999998, 1.5599999999999998, 1.04, 1.04, 1.96, 1.17, 0.65, 0.52, 0.7799999999999999, 0.7799999999999999, 0.26, 1.04, 0.52, 0.91, 0.65, 0.7799999999999999, 0.13, 0.26, 0.65, 0.38999999999999996, 0.91, 0.13, 0.38999999999999996, 0.26, 0.26, 0.52, 0.13, 0.26, 0.13, 0.13, 0.13, 0.13, 0.26], \"x\": [37, 62, 28, 31, 24, 20, 30, 42, 32, 60, 35, 23, 41, 22, 33, 46, 21, 29, 36, 38, 19, 43, 25, 50, 57, 67, 53, 44, 70, 18, 27, 64, 15, 17, 16, 14, 48, 51, 26, 34, 61, 55, 52, 47, 39, 45, 13, 81, 40, 49, 56, 59, 54, 69, 65, 63, 66, 73, 71, 68, 58, 78], \"y\": [5, 28, 18, 10, 5, 11, 12, 11, 24, 16, 20, 39, 21, 31, 38, 39, 32, 38, 24, 24, 24, 26, 28, 17, 18, 19, 15, 9, 9, 12, 12, 8, 8, 15, 9, 5, 4, 6, 6, 2, 8, 4, 7, 5, 6, 1, 2, 5, 3, 7, 1, 3, 2, 2, 4, 1, 2, 1, 1, 1, 1, 2], \"type\": \"bar\", \"uid\": \"107e4331-6ba2-4dc3-974f-ece3d492b1ee\"}], {\"bargap\": 0.2, \"xaxis\": {\"title\": {\"text\": \"Age\"}}, \"yaxis\": {\"title\": {\"text\": \"Total\"}}}, {\"showLink\": false, \"linkText\": \"Export to plot.ly\", \"plotlyServerURL\": \"https://plot.ly\"}); \n",
       "}\n",
       "});</script><script type=\"text/javascript\">window.addEventListener(\"resize\", function(){if (document.getElementById(\"edae67b6-3b94-44c1-b785-35160144b27d\")) {window._Plotly.Plots.resize(document.getElementById(\"edae67b6-3b94-44c1-b785-35160144b27d\"));};})</script>"
      ],
      "text/vnd.plotly.v1+html": [
       "<div id=\"edae67b6-3b94-44c1-b785-35160144b27d\" style=\"height: 525px; width: 100%;\" class=\"plotly-graph-div\"></div><script type=\"text/javascript\">require([\"plotly\"], function(Plotly) { window.PLOTLYENV=window.PLOTLYENV || {};window.PLOTLYENV.BASE_URL=\"https://plot.ly\";\n",
       "if (document.getElementById(\"edae67b6-3b94-44c1-b785-35160144b27d\")) {\n",
       "    Plotly.newPlot(\"edae67b6-3b94-44c1-b785-35160144b27d\", [{\"name\": \"Age\", \"text\": [0.65, 3.65, 2.35, 1.3, 0.65, 1.43, 1.5599999999999998, 1.43, 3.1300000000000003, 2.09, 2.6100000000000003, 5.08, 2.74, 4.04, 4.95, 5.08, 4.17, 4.95, 3.1300000000000003, 3.1300000000000003, 3.1300000000000003, 3.39, 3.65, 2.22, 2.35, 2.48, 1.96, 1.17, 1.17, 1.5599999999999998, 1.5599999999999998, 1.04, 1.04, 1.96, 1.17, 0.65, 0.52, 0.7799999999999999, 0.7799999999999999, 0.26, 1.04, 0.52, 0.91, 0.65, 0.7799999999999999, 0.13, 0.26, 0.65, 0.38999999999999996, 0.91, 0.13, 0.38999999999999996, 0.26, 0.26, 0.52, 0.13, 0.26, 0.13, 0.13, 0.13, 0.13, 0.26], \"x\": [37, 62, 28, 31, 24, 20, 30, 42, 32, 60, 35, 23, 41, 22, 33, 46, 21, 29, 36, 38, 19, 43, 25, 50, 57, 67, 53, 44, 70, 18, 27, 64, 15, 17, 16, 14, 48, 51, 26, 34, 61, 55, 52, 47, 39, 45, 13, 81, 40, 49, 56, 59, 54, 69, 65, 63, 66, 73, 71, 68, 58, 78], \"y\": [5, 28, 18, 10, 5, 11, 12, 11, 24, 16, 20, 39, 21, 31, 38, 39, 32, 38, 24, 24, 24, 26, 28, 17, 18, 19, 15, 9, 9, 12, 12, 8, 8, 15, 9, 5, 4, 6, 6, 2, 8, 4, 7, 5, 6, 1, 2, 5, 3, 7, 1, 3, 2, 2, 4, 1, 2, 1, 1, 1, 1, 2], \"type\": \"bar\", \"uid\": \"107e4331-6ba2-4dc3-974f-ece3d492b1ee\"}], {\"bargap\": 0.2, \"xaxis\": {\"title\": {\"text\": \"Age\"}}, \"yaxis\": {\"title\": {\"text\": \"Total\"}}}, {\"showLink\": false, \"linkText\": \"Export to plot.ly\", \"plotlyServerURL\": \"https://plot.ly\"}); \n",
       "}\n",
       "});</script><script type=\"text/javascript\">window.addEventListener(\"resize\", function(){if (document.getElementById(\"edae67b6-3b94-44c1-b785-35160144b27d\")) {window._Plotly.Plots.resize(document.getElementById(\"edae67b6-3b94-44c1-b785-35160144b27d\"));};})</script>"
      ]
     },
     "metadata": {},
     "output_type": "display_data"
    }
   ],
   "source": [
    "print('Describing the variable Age')\n",
    "display(data_complete_en['Age'].describe())\n",
    "print('Count of each value in Age expresed as age / amount')\n",
    "display(data_complete_en['Age'].value_counts().sort_index())\n",
    "print('Percentage of each value in Age expresed as age / percentage')\n",
    "display(data_complete_en['Age'].value_counts(\n",
    "    normalize=True).sort_index().round(4) * 100)\n",
    "\n",
    "data2 = [go.Bar(x=data_complete_en['Age'].unique(),\n",
    "                y=data_complete_en['Age'].value_counts().sort_index(),\n",
    "                text=(data_complete_en['Age'].value_counts(\n",
    "                    normalize=True).sort_index().round(4) * 100),\n",
    "                name='Age')]\n",
    "layout2 = go.Layout(\n",
    "    xaxis=go.layout.XAxis(\n",
    "        title='Age'\n",
    "    ),\n",
    "    yaxis=go.layout.YAxis(\n",
    "        title=\"Total\"),\n",
    "    bargap=0.2,\n",
    ")\n",
    "fig2 = go.Figure(data=data2, layout=layout2)\n",
    "iplot(fig2)\n",
    "plt.show()"
   ]
  },
  {
   "cell_type": "markdown",
   "metadata": {},
   "source": [
    "## Distribution of age divided by gender"
   ]
  },
  {
   "cell_type": "code",
   "execution_count": 8,
   "metadata": {},
   "outputs": [
    {
     "data": {
      "application/vnd.plotly.v1+json": {
       "config": {
        "linkText": "Export to plot.ly",
        "plotlyServerURL": "https://plot.ly",
        "showLink": false
       },
       "data": [
        {
         "hoverinfo": "x",
         "name": "Men",
         "orientation": "h",
         "type": "bar",
         "uid": "d75eef68-4233-4f4c-a56b-9668d5034793",
         "x": [
          1,
          18,
          8,
          5,
          2,
          5,
          5,
          4,
          10,
          7,
          12,
          12,
          9,
          16,
          19,
          25,
          21,
          21,
          11,
          13,
          11,
          14,
          9,
          11,
          7,
          8,
          11,
          5,
          4,
          7,
          4,
          3,
          2,
          3,
          6,
          1,
          2,
          1,
          2,
          3,
          1,
          3,
          3,
          1,
          2,
          1,
          1,
          1,
          1,
          2,
          1,
          1,
          1,
          1
         ],
         "y": [
          37,
          62,
          28,
          31,
          24,
          20,
          30,
          42,
          32,
          60,
          35,
          23,
          41,
          22,
          33,
          46,
          21,
          29,
          36,
          38,
          19,
          43,
          25,
          50,
          57,
          67,
          53,
          44,
          70,
          18,
          27,
          64,
          15,
          17,
          16,
          14,
          48,
          51,
          26,
          34,
          61,
          55,
          52,
          47,
          39,
          45,
          13,
          81,
          40,
          49,
          56,
          59,
          54,
          69,
          65,
          63,
          66,
          73,
          71,
          68,
          58,
          78
         ]
        },
        {
         "hoverinfo": "text",
         "name": "Women",
         "orientation": "h",
         "text": [
          4,
          9,
          10,
          5,
          3,
          6,
          7,
          6,
          13,
          8,
          8,
          27,
          12,
          15,
          19,
          13,
          11,
          17,
          13,
          11,
          13,
          12,
          19,
          5,
          11,
          11,
          4,
          4,
          5,
          5,
          8,
          5,
          6,
          12,
          3,
          4,
          2,
          5,
          4,
          2,
          5,
          3,
          7,
          5,
          3,
          1,
          2,
          2,
          2,
          5,
          2,
          1,
          1,
          2,
          1,
          1,
          1,
          2
         ],
         "type": "bar",
         "uid": "5108152f-74c2-4fb0-850b-1e15b5b7e62d",
         "x": [
          -4,
          -9,
          -10,
          -5,
          -3,
          -6,
          -7,
          -6,
          -13,
          -8,
          -8,
          -27,
          -12,
          -15,
          -19,
          -13,
          -11,
          -17,
          -13,
          -11,
          -13,
          -12,
          -19,
          -5,
          -11,
          -11,
          -4,
          -4,
          -5,
          -5,
          -8,
          -5,
          -6,
          -12,
          -3,
          -4,
          -2,
          -5,
          -4,
          -2,
          -5,
          -3,
          -7,
          -5,
          -3,
          -1,
          -2,
          -2,
          -2,
          -5,
          -2,
          -1,
          -1,
          -2,
          -1,
          -1,
          -1,
          -2
         ],
         "y": [
          37,
          62,
          28,
          31,
          24,
          20,
          30,
          42,
          32,
          60,
          35,
          23,
          41,
          22,
          33,
          46,
          21,
          29,
          36,
          38,
          19,
          43,
          25,
          50,
          57,
          67,
          53,
          44,
          70,
          18,
          27,
          64,
          15,
          17,
          16,
          14,
          48,
          51,
          26,
          34,
          61,
          55,
          52,
          47,
          39,
          45,
          13,
          81,
          40,
          49,
          56,
          59,
          54,
          69,
          65,
          63,
          66,
          73,
          71,
          68,
          58,
          78
         ]
        }
       ],
       "layout": {
        "bargap": 0.1,
        "barmode": "overlay",
        "xaxis": {
         "range": [
          -35,
          35
         ],
         "ticktext": [
          30,
          20,
          10,
          0,
          10,
          20,
          30
         ],
         "tickvals": [
          -30,
          -20,
          -10,
          0,
          10,
          20,
          30
         ],
         "title": {
          "text": "Total"
         }
        },
        "yaxis": {
         "title": {
          "text": "Age"
         }
        }
       }
      },
      "text/html": [
       "<div id=\"0504f2f9-86e3-42ac-a135-8ca9c263f134\" style=\"height: 525px; width: 100%;\" class=\"plotly-graph-div\"></div><script type=\"text/javascript\">require([\"plotly\"], function(Plotly) { window.PLOTLYENV=window.PLOTLYENV || {};window.PLOTLYENV.BASE_URL=\"https://plot.ly\";\n",
       "if (document.getElementById(\"0504f2f9-86e3-42ac-a135-8ca9c263f134\")) {\n",
       "    Plotly.newPlot(\"0504f2f9-86e3-42ac-a135-8ca9c263f134\", [{\"hoverinfo\": \"x\", \"name\": \"Men\", \"orientation\": \"h\", \"x\": [1, 18, 8, 5, 2, 5, 5, 4, 10, 7, 12, 12, 9, 16, 19, 25, 21, 21, 11, 13, 11, 14, 9, 11, 7, 8, 11, 5, 4, 7, 4, 3, 2, 3, 6, 1, 2, 1, 2, 3, 1, 3, 3, 1, 2, 1, 1, 1, 1, 2, 1, 1, 1, 1], \"y\": [37, 62, 28, 31, 24, 20, 30, 42, 32, 60, 35, 23, 41, 22, 33, 46, 21, 29, 36, 38, 19, 43, 25, 50, 57, 67, 53, 44, 70, 18, 27, 64, 15, 17, 16, 14, 48, 51, 26, 34, 61, 55, 52, 47, 39, 45, 13, 81, 40, 49, 56, 59, 54, 69, 65, 63, 66, 73, 71, 68, 58, 78], \"type\": \"bar\", \"uid\": \"d75eef68-4233-4f4c-a56b-9668d5034793\"}, {\"hoverinfo\": \"text\", \"name\": \"Women\", \"orientation\": \"h\", \"text\": [4.0, 9.0, 10.0, 5.0, 3.0, 6.0, 7.0, 6.0, 13.0, 8.0, 8.0, 27.0, 12.0, 15.0, 19.0, 13.0, 11.0, 17.0, 13.0, 11.0, 13.0, 12.0, 19.0, 5.0, 11.0, 11.0, 4.0, 4.0, 5.0, 5.0, 8.0, 5.0, 6.0, 12.0, 3.0, 4.0, 2.0, 5.0, 4.0, 2.0, 5.0, 3.0, 7.0, 5.0, 3.0, 1.0, 2.0, 2.0, 2.0, 5.0, 2.0, 1.0, 1.0, 2.0, 1.0, 1.0, 1.0, 2.0], \"x\": [-4, -9, -10, -5, -3, -6, -7, -6, -13, -8, -8, -27, -12, -15, -19, -13, -11, -17, -13, -11, -13, -12, -19, -5, -11, -11, -4, -4, -5, -5, -8, -5, -6, -12, -3, -4, -2, -5, -4, -2, -5, -3, -7, -5, -3, -1, -2, -2, -2, -5, -2, -1, -1, -2, -1, -1, -1, -2], \"y\": [37, 62, 28, 31, 24, 20, 30, 42, 32, 60, 35, 23, 41, 22, 33, 46, 21, 29, 36, 38, 19, 43, 25, 50, 57, 67, 53, 44, 70, 18, 27, 64, 15, 17, 16, 14, 48, 51, 26, 34, 61, 55, 52, 47, 39, 45, 13, 81, 40, 49, 56, 59, 54, 69, 65, 63, 66, 73, 71, 68, 58, 78], \"type\": \"bar\", \"uid\": \"5108152f-74c2-4fb0-850b-1e15b5b7e62d\"}], {\"bargap\": 0.1, \"barmode\": \"overlay\", \"xaxis\": {\"range\": [-35, 35], \"ticktext\": [30, 20, 10, 0, 10, 20, 30], \"tickvals\": [-30, -20, -10, 0, 10, 20, 30], \"title\": {\"text\": \"Total\"}}, \"yaxis\": {\"title\": {\"text\": \"Age\"}}}, {\"showLink\": false, \"linkText\": \"Export to plot.ly\", \"plotlyServerURL\": \"https://plot.ly\"}); \n",
       "}\n",
       "});</script><script type=\"text/javascript\">window.addEventListener(\"resize\", function(){if (document.getElementById(\"0504f2f9-86e3-42ac-a135-8ca9c263f134\")) {window._Plotly.Plots.resize(document.getElementById(\"0504f2f9-86e3-42ac-a135-8ca9c263f134\"));};})</script>"
      ],
      "text/vnd.plotly.v1+html": [
       "<div id=\"0504f2f9-86e3-42ac-a135-8ca9c263f134\" style=\"height: 525px; width: 100%;\" class=\"plotly-graph-div\"></div><script type=\"text/javascript\">require([\"plotly\"], function(Plotly) { window.PLOTLYENV=window.PLOTLYENV || {};window.PLOTLYENV.BASE_URL=\"https://plot.ly\";\n",
       "if (document.getElementById(\"0504f2f9-86e3-42ac-a135-8ca9c263f134\")) {\n",
       "    Plotly.newPlot(\"0504f2f9-86e3-42ac-a135-8ca9c263f134\", [{\"hoverinfo\": \"x\", \"name\": \"Men\", \"orientation\": \"h\", \"x\": [1, 18, 8, 5, 2, 5, 5, 4, 10, 7, 12, 12, 9, 16, 19, 25, 21, 21, 11, 13, 11, 14, 9, 11, 7, 8, 11, 5, 4, 7, 4, 3, 2, 3, 6, 1, 2, 1, 2, 3, 1, 3, 3, 1, 2, 1, 1, 1, 1, 2, 1, 1, 1, 1], \"y\": [37, 62, 28, 31, 24, 20, 30, 42, 32, 60, 35, 23, 41, 22, 33, 46, 21, 29, 36, 38, 19, 43, 25, 50, 57, 67, 53, 44, 70, 18, 27, 64, 15, 17, 16, 14, 48, 51, 26, 34, 61, 55, 52, 47, 39, 45, 13, 81, 40, 49, 56, 59, 54, 69, 65, 63, 66, 73, 71, 68, 58, 78], \"type\": \"bar\", \"uid\": \"d75eef68-4233-4f4c-a56b-9668d5034793\"}, {\"hoverinfo\": \"text\", \"name\": \"Women\", \"orientation\": \"h\", \"text\": [4.0, 9.0, 10.0, 5.0, 3.0, 6.0, 7.0, 6.0, 13.0, 8.0, 8.0, 27.0, 12.0, 15.0, 19.0, 13.0, 11.0, 17.0, 13.0, 11.0, 13.0, 12.0, 19.0, 5.0, 11.0, 11.0, 4.0, 4.0, 5.0, 5.0, 8.0, 5.0, 6.0, 12.0, 3.0, 4.0, 2.0, 5.0, 4.0, 2.0, 5.0, 3.0, 7.0, 5.0, 3.0, 1.0, 2.0, 2.0, 2.0, 5.0, 2.0, 1.0, 1.0, 2.0, 1.0, 1.0, 1.0, 2.0], \"x\": [-4, -9, -10, -5, -3, -6, -7, -6, -13, -8, -8, -27, -12, -15, -19, -13, -11, -17, -13, -11, -13, -12, -19, -5, -11, -11, -4, -4, -5, -5, -8, -5, -6, -12, -3, -4, -2, -5, -4, -2, -5, -3, -7, -5, -3, -1, -2, -2, -2, -5, -2, -1, -1, -2, -1, -1, -1, -2], \"y\": [37, 62, 28, 31, 24, 20, 30, 42, 32, 60, 35, 23, 41, 22, 33, 46, 21, 29, 36, 38, 19, 43, 25, 50, 57, 67, 53, 44, 70, 18, 27, 64, 15, 17, 16, 14, 48, 51, 26, 34, 61, 55, 52, 47, 39, 45, 13, 81, 40, 49, 56, 59, 54, 69, 65, 63, 66, 73, 71, 68, 58, 78], \"type\": \"bar\", \"uid\": \"5108152f-74c2-4fb0-850b-1e15b5b7e62d\"}], {\"bargap\": 0.1, \"barmode\": \"overlay\", \"xaxis\": {\"range\": [-35, 35], \"ticktext\": [30, 20, 10, 0, 10, 20, 30], \"tickvals\": [-30, -20, -10, 0, 10, 20, 30], \"title\": {\"text\": \"Total\"}}, \"yaxis\": {\"title\": {\"text\": \"Age\"}}}, {\"showLink\": false, \"linkText\": \"Export to plot.ly\", \"plotlyServerURL\": \"https://plot.ly\"}); \n",
       "}\n",
       "});</script><script type=\"text/javascript\">window.addEventListener(\"resize\", function(){if (document.getElementById(\"0504f2f9-86e3-42ac-a135-8ca9c263f134\")) {window._Plotly.Plots.resize(document.getElementById(\"0504f2f9-86e3-42ac-a135-8ca9c263f134\"));};})</script>"
      ]
     },
     "metadata": {},
     "output_type": "display_data"
    }
   ],
   "source": [
    "data_complete_en['Gender'].replace(names_gender, values_gender, inplace=True)\n",
    "\n",
    "layout3 = go.Layout(yaxis=go.layout.YAxis(title='Age'),\n",
    "                    xaxis=go.layout.XAxis(\n",
    "    range=[-35, 35],\n",
    "    tickvals=[-30, -20, -10, 0, 10, 20, 30],\n",
    "    ticktext=[30, 20, 10, 0, 10, 20, 30],\n",
    "    title='Total'),\n",
    "    barmode='overlay',\n",
    "    bargap=0.1)\n",
    "\n",
    "data3 = [go.Bar(y=data_complete_en['Age'].unique(),\n",
    "                x=data_complete_en[data_complete_en['Gender']\n",
    "                                   == 0]['Age'].value_counts().sort_index(),\n",
    "                orientation='h',\n",
    "                name='Men',\n",
    "                hoverinfo='x',\n",
    "                # marker=dict(color='powderblue')\n",
    "                ),\n",
    "         go.Bar(y=data_complete_en['Age'].unique(),\n",
    "                x=-data_complete_en[data_complete_en['Gender']\n",
    "                                    == 1]['Age'].value_counts().sort_index(),\n",
    "                orientation='h',\n",
    "                name='Women',\n",
    "                text=data_complete_en[data_complete_en['Gender']\n",
    "                                      == 1]['Age'].value_counts().sort_index(),\n",
    "                hoverinfo='text',\n",
    "                # marker=dict(color='seagreen')\n",
    "                )]\n",
    "\n",
    "fig3 = go.Figure(data=data3, layout=layout3)\n",
    "iplot(fig3)\n",
    "plt.show()"
   ]
  },
  {
   "cell_type": "markdown",
   "metadata": {},
   "source": [
    "## Distribution of educational level in the population"
   ]
  },
  {
   "cell_type": "code",
   "execution_count": 9,
   "metadata": {},
   "outputs": [
    {
     "name": "stdout",
     "output_type": "stream",
     "text": [
      "Describing the variable Educational level\n"
     ]
    },
    {
     "data": {
      "text/plain": [
       "count                         767\n",
       "unique                          6\n",
       "top       University <br>graduate\n",
       "freq                          431\n",
       "Name: Educational level, dtype: object"
      ]
     },
     "metadata": {},
     "output_type": "display_data"
    },
    {
     "name": "stdout",
     "output_type": "stream",
     "text": [
      "Count of each value in Age expresed as educational level / amount\n"
     ]
    },
    {
     "data": {
      "text/plain": [
       "University <br>graduate                                 431\n",
       "University <br>without <br>graduating                   155\n",
       "Unfinished <br>Compulsory<br>Secondary <br>Education     77\n",
       "Completed <br>Compulsory<br>Secondary <br>Education      48\n",
       "Vocational <br>Training                                  42\n",
       "Primary <br>education                                    14\n",
       "Name: Educational level, dtype: int64"
      ]
     },
     "metadata": {},
     "output_type": "display_data"
    },
    {
     "name": "stdout",
     "output_type": "stream",
     "text": [
      "Percentage of each value in Age expresed as educational level / percentage\n"
     ]
    },
    {
     "data": {
      "text/plain": [
       "University <br>graduate                                 56.19\n",
       "University <br>without <br>graduating                   20.21\n",
       "Unfinished <br>Compulsory<br>Secondary <br>Education    10.04\n",
       "Completed <br>Compulsory<br>Secondary <br>Education      6.26\n",
       "Vocational <br>Training                                  5.48\n",
       "Primary <br>education                                    1.83\n",
       "Name: Educational level, dtype: float64"
      ]
     },
     "metadata": {},
     "output_type": "display_data"
    },
    {
     "data": {
      "application/vnd.plotly.v1+json": {
       "config": {
        "linkText": "Export to plot.ly",
        "plotlyServerURL": "https://plot.ly",
        "showLink": false
       },
       "data": [
        {
         "name": "Educational level",
         "text": [
          6.260000000000001,
          1.83,
          10.040000000000001,
          56.19,
          20.21,
          5.48
         ],
         "type": "bar",
         "uid": "fb2ca76d-042f-422b-b2ff-67e5220b1474",
         "x": [
          "University <br>graduate",
          "University <br>without <br>graduating",
          "Completed <br>Compulsory<br>Secondary <br>Education",
          "Vocational <br>Training",
          "Unfinished <br>Compulsory<br>Secondary <br>Education",
          "Primary <br>education"
         ],
         "y": [
          431,
          155,
          77,
          48,
          42,
          14
         ]
        }
       ],
       "layout": {
        "bargap": 0.2,
        "xaxis": {
         "title": {
          "text": "Educational level"
         }
        },
        "yaxis": {
         "title": {
          "text": "Total"
         }
        }
       }
      },
      "text/html": [
       "<div id=\"07db7796-c7f6-43bc-baea-1ebf4778ea08\" style=\"height: 525px; width: 100%;\" class=\"plotly-graph-div\"></div><script type=\"text/javascript\">require([\"plotly\"], function(Plotly) { window.PLOTLYENV=window.PLOTLYENV || {};window.PLOTLYENV.BASE_URL=\"https://plot.ly\";\n",
       "if (document.getElementById(\"07db7796-c7f6-43bc-baea-1ebf4778ea08\")) {\n",
       "    Plotly.newPlot(\"07db7796-c7f6-43bc-baea-1ebf4778ea08\", [{\"name\": \"Educational level\", \"text\": [6.260000000000001, 1.83, 10.040000000000001, 56.19, 20.21, 5.48], \"x\": [\"University <br>graduate\", \"University <br>without <br>graduating\", \"Completed <br>Compulsory<br>Secondary <br>Education\", \"Vocational <br>Training\", \"Unfinished <br>Compulsory<br>Secondary <br>Education\", \"Primary <br>education\"], \"y\": [431, 155, 77, 48, 42, 14], \"type\": \"bar\", \"uid\": \"fb2ca76d-042f-422b-b2ff-67e5220b1474\"}], {\"bargap\": 0.2, \"xaxis\": {\"title\": {\"text\": \"Educational level\"}}, \"yaxis\": {\"title\": {\"text\": \"Total\"}}}, {\"showLink\": false, \"linkText\": \"Export to plot.ly\", \"plotlyServerURL\": \"https://plot.ly\"}); \n",
       "}\n",
       "});</script><script type=\"text/javascript\">window.addEventListener(\"resize\", function(){if (document.getElementById(\"07db7796-c7f6-43bc-baea-1ebf4778ea08\")) {window._Plotly.Plots.resize(document.getElementById(\"07db7796-c7f6-43bc-baea-1ebf4778ea08\"));};})</script>"
      ],
      "text/vnd.plotly.v1+html": [
       "<div id=\"07db7796-c7f6-43bc-baea-1ebf4778ea08\" style=\"height: 525px; width: 100%;\" class=\"plotly-graph-div\"></div><script type=\"text/javascript\">require([\"plotly\"], function(Plotly) { window.PLOTLYENV=window.PLOTLYENV || {};window.PLOTLYENV.BASE_URL=\"https://plot.ly\";\n",
       "if (document.getElementById(\"07db7796-c7f6-43bc-baea-1ebf4778ea08\")) {\n",
       "    Plotly.newPlot(\"07db7796-c7f6-43bc-baea-1ebf4778ea08\", [{\"name\": \"Educational level\", \"text\": [6.260000000000001, 1.83, 10.040000000000001, 56.19, 20.21, 5.48], \"x\": [\"University <br>graduate\", \"University <br>without <br>graduating\", \"Completed <br>Compulsory<br>Secondary <br>Education\", \"Vocational <br>Training\", \"Unfinished <br>Compulsory<br>Secondary <br>Education\", \"Primary <br>education\"], \"y\": [431, 155, 77, 48, 42, 14], \"type\": \"bar\", \"uid\": \"fb2ca76d-042f-422b-b2ff-67e5220b1474\"}], {\"bargap\": 0.2, \"xaxis\": {\"title\": {\"text\": \"Educational level\"}}, \"yaxis\": {\"title\": {\"text\": \"Total\"}}}, {\"showLink\": false, \"linkText\": \"Export to plot.ly\", \"plotlyServerURL\": \"https://plot.ly\"}); \n",
       "}\n",
       "});</script><script type=\"text/javascript\">window.addEventListener(\"resize\", function(){if (document.getElementById(\"07db7796-c7f6-43bc-baea-1ebf4778ea08\")) {window._Plotly.Plots.resize(document.getElementById(\"07db7796-c7f6-43bc-baea-1ebf4778ea08\"));};})</script>"
      ]
     },
     "metadata": {},
     "output_type": "display_data"
    }
   ],
   "source": [
    "labels_edulevel = ['Primary <br>education', 'Unfinished <br>Compulsory<br>Secondary <br>Education', 'Completed <br>Compulsory<br>Secondary <br>Education',\n",
    "                   'Vocational <br>Training', 'University <br>without <br>graduating', 'University <br>graduate']\n",
    "tickvals_edulevel = [0, 1, 2, 3, 4, 5]\n",
    "\n",
    "data_complete_en['Educational level'].replace(\n",
    "    tickvals_edulevel, labels_edulevel, inplace=True)\n",
    "\n",
    "print('Describing the variable Educational level')\n",
    "display(data_complete_en['Educational level'].describe())\n",
    "print('Count of each value in Age expresed as educational level / amount')\n",
    "display(data_complete_en['Educational level'].value_counts())\n",
    "print('Percentage of each value in Age expresed as educational level / percentage')\n",
    "display(data_complete_en['Educational level'].value_counts(\n",
    "    normalize=True).round(4) * 100)\n",
    "\n",
    "\n",
    "data4 = [go.Bar(x=data_complete_en['Educational level'].unique(),\n",
    "                y=data_complete_en['Educational level'].value_counts(),\n",
    "                text=(data_complete_en['Educational level'].value_counts(\n",
    "                    normalize=True).sort_index().round(4) * 100),\n",
    "                name='Educational level')]\n",
    "layout4 = go.Layout(\n",
    "    xaxis=go.layout.XAxis(\n",
    "        title='Educational level',\n",
    "    ),\n",
    "    yaxis=go.layout.YAxis(\n",
    "        title=\"Total\"),\n",
    "    bargap=0.2,\n",
    ")\n",
    "fig4 = go.Figure(data=data4, layout=layout4)\n",
    "iplot(fig4)\n",
    "plt.show()"
   ]
  },
  {
   "cell_type": "markdown",
   "metadata": {},
   "source": [
    "## Distribution of educational level by gender in the population"
   ]
  },
  {
   "cell_type": "code",
   "execution_count": 10,
   "metadata": {},
   "outputs": [
    {
     "data": {
      "application/vnd.plotly.v1+json": {
       "config": {
        "linkText": "Export to plot.ly",
        "plotlyServerURL": "https://plot.ly",
        "showLink": false
       },
       "data": [
        {
         "hoverinfo": "x",
         "name": "Men",
         "orientation": "h",
         "type": "bar",
         "uid": "acc01229-1aef-4c3e-9067-839cfbb34614",
         "x": [
          210,
          69,
          41,
          18,
          17,
          3
         ],
         "y": [
          "University <br>graduate",
          "University <br>without <br>graduating",
          "Completed <br>Compulsory<br>Secondary <br>Education",
          "Vocational <br>Training",
          "Unfinished <br>Compulsory<br>Secondary <br>Education",
          "Primary <br>education"
         ]
        },
        {
         "hoverinfo": "text",
         "name": "Women",
         "orientation": "h",
         "text": [
          220,
          82,
          35,
          31,
          24,
          11
         ],
         "type": "bar",
         "uid": "dbdc9ce5-de5b-421a-89b8-aa23080d3f70",
         "x": [
          -220,
          -82,
          -35,
          -31,
          -24,
          -11
         ],
         "y": [
          "University <br>graduate",
          "University <br>without <br>graduating",
          "Completed <br>Compulsory<br>Secondary <br>Education",
          "Vocational <br>Training",
          "Unfinished <br>Compulsory<br>Secondary <br>Education",
          "Primary <br>education"
         ]
        }
       ],
       "layout": {
        "bargap": 0.3,
        "barmode": "overlay",
        "xaxis": {
         "range": [
          -250,
          250
         ],
         "ticktext": [
          200,
          100,
          50,
          0,
          50,
          100,
          200
         ],
         "tickvals": [
          -200,
          -100,
          50,
          0,
          50,
          100,
          200
         ],
         "title": {
          "text": "Total"
         }
        },
        "yaxis": {
         "title": {
          "text": "Educational level"
         }
        }
       }
      },
      "text/html": [
       "<div id=\"43365684-5542-4167-a344-b2ca232fd7cc\" style=\"height: 525px; width: 100%;\" class=\"plotly-graph-div\"></div><script type=\"text/javascript\">require([\"plotly\"], function(Plotly) { window.PLOTLYENV=window.PLOTLYENV || {};window.PLOTLYENV.BASE_URL=\"https://plot.ly\";\n",
       "if (document.getElementById(\"43365684-5542-4167-a344-b2ca232fd7cc\")) {\n",
       "    Plotly.newPlot(\"43365684-5542-4167-a344-b2ca232fd7cc\", [{\"hoverinfo\": \"x\", \"name\": \"Men\", \"orientation\": \"h\", \"x\": [210, 69, 41, 18, 17, 3], \"y\": [\"University <br>graduate\", \"University <br>without <br>graduating\", \"Completed <br>Compulsory<br>Secondary <br>Education\", \"Vocational <br>Training\", \"Unfinished <br>Compulsory<br>Secondary <br>Education\", \"Primary <br>education\"], \"type\": \"bar\", \"uid\": \"acc01229-1aef-4c3e-9067-839cfbb34614\"}, {\"hoverinfo\": \"text\", \"name\": \"Women\", \"orientation\": \"h\", \"text\": [220.0, 82.0, 35.0, 31.0, 24.0, 11.0], \"x\": [-220, -82, -35, -31, -24, -11], \"y\": [\"University <br>graduate\", \"University <br>without <br>graduating\", \"Completed <br>Compulsory<br>Secondary <br>Education\", \"Vocational <br>Training\", \"Unfinished <br>Compulsory<br>Secondary <br>Education\", \"Primary <br>education\"], \"type\": \"bar\", \"uid\": \"dbdc9ce5-de5b-421a-89b8-aa23080d3f70\"}], {\"bargap\": 0.3, \"barmode\": \"overlay\", \"xaxis\": {\"range\": [-250, 250], \"ticktext\": [200, 100, 50, 0, 50, 100, 200], \"tickvals\": [-200, -100, 50, 0, 50, 100, 200], \"title\": {\"text\": \"Total\"}}, \"yaxis\": {\"title\": {\"text\": \"Educational level\"}}}, {\"showLink\": false, \"linkText\": \"Export to plot.ly\", \"plotlyServerURL\": \"https://plot.ly\"}); \n",
       "}\n",
       "});</script><script type=\"text/javascript\">window.addEventListener(\"resize\", function(){if (document.getElementById(\"43365684-5542-4167-a344-b2ca232fd7cc\")) {window._Plotly.Plots.resize(document.getElementById(\"43365684-5542-4167-a344-b2ca232fd7cc\"));};})</script>"
      ],
      "text/vnd.plotly.v1+html": [
       "<div id=\"43365684-5542-4167-a344-b2ca232fd7cc\" style=\"height: 525px; width: 100%;\" class=\"plotly-graph-div\"></div><script type=\"text/javascript\">require([\"plotly\"], function(Plotly) { window.PLOTLYENV=window.PLOTLYENV || {};window.PLOTLYENV.BASE_URL=\"https://plot.ly\";\n",
       "if (document.getElementById(\"43365684-5542-4167-a344-b2ca232fd7cc\")) {\n",
       "    Plotly.newPlot(\"43365684-5542-4167-a344-b2ca232fd7cc\", [{\"hoverinfo\": \"x\", \"name\": \"Men\", \"orientation\": \"h\", \"x\": [210, 69, 41, 18, 17, 3], \"y\": [\"University <br>graduate\", \"University <br>without <br>graduating\", \"Completed <br>Compulsory<br>Secondary <br>Education\", \"Vocational <br>Training\", \"Unfinished <br>Compulsory<br>Secondary <br>Education\", \"Primary <br>education\"], \"type\": \"bar\", \"uid\": \"acc01229-1aef-4c3e-9067-839cfbb34614\"}, {\"hoverinfo\": \"text\", \"name\": \"Women\", \"orientation\": \"h\", \"text\": [220.0, 82.0, 35.0, 31.0, 24.0, 11.0], \"x\": [-220, -82, -35, -31, -24, -11], \"y\": [\"University <br>graduate\", \"University <br>without <br>graduating\", \"Completed <br>Compulsory<br>Secondary <br>Education\", \"Vocational <br>Training\", \"Unfinished <br>Compulsory<br>Secondary <br>Education\", \"Primary <br>education\"], \"type\": \"bar\", \"uid\": \"dbdc9ce5-de5b-421a-89b8-aa23080d3f70\"}], {\"bargap\": 0.3, \"barmode\": \"overlay\", \"xaxis\": {\"range\": [-250, 250], \"ticktext\": [200, 100, 50, 0, 50, 100, 200], \"tickvals\": [-200, -100, 50, 0, 50, 100, 200], \"title\": {\"text\": \"Total\"}}, \"yaxis\": {\"title\": {\"text\": \"Educational level\"}}}, {\"showLink\": false, \"linkText\": \"Export to plot.ly\", \"plotlyServerURL\": \"https://plot.ly\"}); \n",
       "}\n",
       "});</script><script type=\"text/javascript\">window.addEventListener(\"resize\", function(){if (document.getElementById(\"43365684-5542-4167-a344-b2ca232fd7cc\")) {window._Plotly.Plots.resize(document.getElementById(\"43365684-5542-4167-a344-b2ca232fd7cc\"));};})</script>"
      ]
     },
     "metadata": {},
     "output_type": "display_data"
    }
   ],
   "source": [
    "layout5 = go.Layout(yaxis=go.layout.YAxis(title='Educational level'),\n",
    "                    xaxis=go.layout.XAxis(\n",
    "    range=[-250, 250],\n",
    "    tickvals=[-200, -100, 50, 0, 50, 100, 200],\n",
    "    ticktext=[200, 100, 50, 0, 50, 100, 200],\n",
    "    title='Total'),\n",
    "    barmode='overlay',\n",
    "    bargap=0.3)\n",
    "\n",
    "data5 = [go.Bar(y=data_complete_en['Educational level'].unique(),\n",
    "                x=data_complete_en[data_complete_en['Gender']\n",
    "                                   == 0]['Educational level'].value_counts(),\n",
    "                orientation='h',\n",
    "                name='Men',\n",
    "                hoverinfo='x',\n",
    "                # marker=dict(color='powderblue')\n",
    "                ),\n",
    "         go.Bar(y=data_complete_en['Educational level'].unique(),\n",
    "                x=-data_complete_en[data_complete_en['Gender']\n",
    "                                    == 1]['Educational level'].value_counts(),\n",
    "                orientation='h',\n",
    "                name='Women',\n",
    "                text=data_complete_en[data_complete_en['Gender']\n",
    "                                      == 1]['Educational level'].value_counts(),\n",
    "                hoverinfo='text',\n",
    "                # marker=dict(color='seagreen')\n",
    "                )]\n",
    "\n",
    "fig5 = go.Figure(data=data5, layout=layout5)\n",
    "iplot(fig5)\n",
    "plt.show()"
   ]
  },
  {
   "cell_type": "markdown",
   "metadata": {},
   "source": [
    "# Distribution of educational level by gender and age "
   ]
  },
  {
   "cell_type": "code",
   "execution_count": 11,
   "metadata": {},
   "outputs": [
    {
     "data": {
      "application/vnd.plotly.v1+json": {
       "config": {
        "linkText": "Export to plot.ly",
        "plotlyServerURL": "https://plot.ly",
        "showLink": false
       },
       "data": [
        {
         "marker": {
          "opacity": [
           [
            0.6
           ],
           [
            0.6
           ],
           [
            0.6
           ],
           [
            0.6
           ],
           [
            0.6
           ],
           [
            0.6
           ],
           [
            0.6
           ],
           [
            0.6
           ],
           [
            0.6
           ],
           [
            0.6
           ],
           [
            0.6
           ],
           [
            0.6
           ],
           [
            0.6
           ],
           [
            0.6
           ],
           [
            0.6
           ],
           [
            0.6
           ],
           [
            0.6
           ],
           [
            0.6
           ],
           [
            0.6
           ],
           [
            0.6
           ],
           [
            0.6
           ],
           [
            0.6
           ],
           [
            0.6
           ],
           [
            0.6
           ],
           [
            0.6
           ],
           [
            0.6
           ],
           [
            0.6
           ],
           [
            0.6
           ],
           [
            0.6
           ],
           [
            0.6
           ],
           [
            0.6
           ],
           [
            0.6
           ],
           [
            0.6
           ],
           [
            0.6
           ],
           [
            0.6
           ],
           [
            0.6
           ],
           [
            0.6
           ],
           [
            0.6
           ],
           [
            0.6
           ],
           [
            0.6
           ],
           [
            0.6
           ],
           [
            0.6
           ],
           [
            0.6
           ],
           [
            0.6
           ],
           [
            0.6
           ],
           [
            0.6
           ],
           [
            0.6
           ],
           [
            0.6
           ],
           [
            0.6
           ],
           [
            0.6
           ],
           [
            0.6
           ],
           [
            0.6
           ],
           [
            0.6
           ],
           [
            0.6
           ],
           [
            0.6
           ],
           [
            0.6
           ],
           [
            0.6
           ],
           [
            0.6
           ],
           [
            0.6
           ],
           [
            0.6
           ],
           [
            0.6
           ],
           [
            0.6
           ],
           [
            0.6
           ],
           [
            0.6
           ],
           [
            0.6
           ],
           [
            0.6
           ],
           [
            0.6
           ],
           [
            0.6
           ],
           [
            0.6
           ],
           [
            0.6
           ],
           [
            0.6
           ],
           [
            0.6
           ],
           [
            0.6
           ],
           [
            0.6
           ],
           [
            0.6
           ],
           [
            0.6
           ],
           [
            0.6
           ],
           [
            0.6
           ],
           [
            0.6
           ],
           [
            0.6
           ],
           [
            0.6
           ],
           [
            0.6
           ],
           [
            0.6
           ],
           [
            0.6
           ],
           [
            0.6
           ],
           [
            0.6
           ],
           [
            0.6
           ],
           [
            0.6
           ],
           [
            0.6
           ],
           [
            0.6
           ],
           [
            0.6
           ],
           [
            0.6
           ],
           [
            0.6
           ],
           [
            0.6
           ],
           [
            0.6
           ],
           [
            0.6
           ],
           [
            0.6
           ],
           [
            0.6
           ],
           [
            0.6
           ],
           [
            0.6
           ],
           [
            0.6
           ],
           [
            0.6
           ],
           [
            0.6
           ],
           [
            0.6
           ],
           [
            0.6
           ],
           [
            0.6
           ],
           [
            0.6
           ],
           [
            0.6
           ],
           [
            0.6
           ],
           [
            0.6
           ],
           [
            0.6
           ],
           [
            0.6
           ],
           [
            0.6
           ],
           [
            0.6
           ],
           [
            0.6
           ],
           [
            0.6
           ],
           [
            0.6
           ],
           [
            0.6
           ],
           [
            0.6
           ],
           [
            0.6
           ],
           [
            0.6
           ],
           [
            0.6
           ],
           [
            0.6
           ],
           [
            0.6
           ],
           [
            0.6
           ],
           [
            0.6
           ],
           [
            0.6
           ],
           [
            0.6
           ],
           [
            0.6
           ],
           [
            0.6
           ],
           [
            0.6
           ],
           [
            0.6
           ],
           [
            0.6
           ],
           [
            0.6
           ],
           [
            0.6
           ],
           [
            0.6
           ],
           [
            0.6
           ],
           [
            0.6
           ],
           [
            0.6
           ],
           [
            0.6
           ],
           [
            0.6
           ],
           [
            0.6
           ],
           [
            0.6
           ],
           [
            0.6
           ],
           [
            0.6
           ],
           [
            0.6
           ],
           [
            0.6
           ],
           [
            0.6
           ],
           [
            0.6
           ],
           [
            0.6
           ],
           [
            0.6
           ],
           [
            0.6
           ],
           [
            0.6
           ],
           [
            0.6
           ],
           [
            0.6
           ],
           [
            0.6
           ],
           [
            0.6
           ],
           [
            0.6
           ],
           [
            0.6
           ],
           [
            0.6
           ],
           [
            0.6
           ],
           [
            0.6
           ],
           [
            0.6
           ],
           [
            0.6
           ],
           [
            0.6
           ],
           [
            0.6
           ],
           [
            0.6
           ],
           [
            0.6
           ],
           [
            0.6
           ],
           [
            0.6
           ],
           [
            0.6
           ],
           [
            0.6
           ],
           [
            0.6
           ],
           [
            0.6
           ],
           [
            0.6
           ],
           [
            0.6
           ],
           [
            0.6
           ],
           [
            0.6
           ],
           [
            0.6
           ],
           [
            0.6
           ],
           [
            0.6
           ],
           [
            0.6
           ],
           [
            0.6
           ],
           [
            0.6
           ],
           [
            0.6
           ],
           [
            0.6
           ],
           [
            0.6
           ],
           [
            0.6
           ],
           [
            0.6
           ],
           [
            0.6
           ],
           [
            0.6
           ],
           [
            0.6
           ],
           [
            0.6
           ],
           [
            0.6
           ],
           [
            0.6
           ],
           [
            0.6
           ],
           [
            0.6
           ],
           [
            0.6
           ],
           [
            0.6
           ],
           [
            0.6
           ],
           [
            0.6
           ],
           [
            0.6
           ],
           [
            0.6
           ],
           [
            0.6
           ],
           [
            0.6
           ],
           [
            0.6
           ],
           [
            0.6
           ],
           [
            0.6
           ],
           [
            0.6
           ],
           [
            0.6
           ],
           [
            0.6
           ],
           [
            0.6
           ],
           [
            0.6
           ],
           [
            0.6
           ],
           [
            0.6
           ],
           [
            0.6
           ],
           [
            0.6
           ],
           [
            0.6
           ],
           [
            0.6
           ],
           [
            0.6
           ],
           [
            0.6
           ],
           [
            0.6
           ],
           [
            0.6
           ],
           [
            0.6
           ],
           [
            0.6
           ],
           [
            0.6
           ],
           [
            0.6
           ],
           [
            0.6
           ],
           [
            0.6
           ],
           [
            0.6
           ],
           [
            0.6
           ],
           [
            0.6
           ],
           [
            0.6
           ],
           [
            0.6
           ],
           [
            0.6
           ],
           [
            0.6
           ],
           [
            0.6
           ],
           [
            0.6
           ],
           [
            0.6
           ],
           [
            0.6
           ],
           [
            0.6
           ],
           [
            0.6
           ],
           [
            0.6
           ],
           [
            0.6
           ],
           [
            0.6
           ],
           [
            0.6
           ],
           [
            0.6
           ],
           [
            0.6
           ],
           [
            0.6
           ],
           [
            0.6
           ],
           [
            0.6
           ],
           [
            0.6
           ],
           [
            0.6
           ],
           [
            0.6
           ],
           [
            0.6
           ],
           [
            0.6
           ],
           [
            0.6
           ],
           [
            0.6
           ],
           [
            0.6
           ],
           [
            0.6
           ],
           [
            0.6
           ],
           [
            0.6
           ],
           [
            0.6
           ],
           [
            0.6
           ],
           [
            0.6
           ],
           [
            0.6
           ],
           [
            0.6
           ],
           [
            0.6
           ],
           [
            0.6
           ],
           [
            0.6
           ],
           [
            0.6
           ],
           [
            0.6
           ],
           [
            0.6
           ],
           [
            0.6
           ],
           [
            0.6
           ],
           [
            0.6
           ],
           [
            0.6
           ],
           [
            0.6
           ],
           [
            0.6
           ],
           [
            0.6
           ],
           [
            0.6
           ],
           [
            0.6
           ],
           [
            0.6
           ],
           [
            0.6
           ],
           [
            0.6
           ],
           [
            0.6
           ],
           [
            0.6
           ],
           [
            0.6
           ],
           [
            0.6
           ],
           [
            0.6
           ],
           [
            0.6
           ],
           [
            0.6
           ],
           [
            0.6
           ],
           [
            0.6
           ],
           [
            0.6
           ],
           [
            0.6
           ],
           [
            0.6
           ],
           [
            0.6
           ],
           [
            0.6
           ],
           [
            0.6
           ],
           [
            0.6
           ],
           [
            0.6
           ],
           [
            0.6
           ],
           [
            0.6
           ],
           [
            0.6
           ],
           [
            0.6
           ],
           [
            0.6
           ],
           [
            0.6
           ],
           [
            0.6
           ],
           [
            0.6
           ],
           [
            0.6
           ],
           [
            0.6
           ],
           [
            0.6
           ],
           [
            0.6
           ],
           [
            0.6
           ],
           [
            0.6
           ],
           [
            0.6
           ],
           [
            0.6
           ],
           [
            0.6
           ],
           [
            0.6
           ],
           [
            0.6
           ],
           [
            0.6
           ],
           [
            0.6
           ],
           [
            0.6
           ],
           [
            0.6
           ],
           [
            0.6
           ],
           [
            0.6
           ],
           [
            0.6
           ],
           [
            0.6
           ],
           [
            0.6
           ],
           [
            0.6
           ],
           [
            0.6
           ],
           [
            0.6
           ],
           [
            0.6
           ],
           [
            0.6
           ],
           [
            0.6
           ],
           [
            0.6
           ],
           [
            0.6
           ],
           [
            0.6
           ],
           [
            0.6
           ],
           [
            0.6
           ],
           [
            0.6
           ],
           [
            0.6
           ],
           [
            0.6
           ],
           [
            0.6
           ],
           [
            0.6
           ],
           [
            0.6
           ],
           [
            0.6
           ],
           [
            0.6
           ],
           [
            0.6
           ],
           [
            0.6
           ],
           [
            0.6
           ],
           [
            0.6
           ],
           [
            0.6
           ],
           [
            0.6
           ],
           [
            0.6
           ],
           [
            0.6
           ],
           [
            0.6
           ],
           [
            0.6
           ],
           [
            0.6
           ],
           [
            0.6
           ],
           [
            0.6
           ],
           [
            0.6
           ],
           [
            0.6
           ],
           [
            0.6
           ],
           [
            0.6
           ],
           [
            0.6
           ],
           [
            0.6
           ],
           [
            0.6
           ],
           [
            0.6
           ],
           [
            0.6
           ],
           [
            0.6
           ],
           [
            0.6
           ],
           [
            0.6
           ],
           [
            0.6
           ],
           [
            0.6
           ],
           [
            0.6
           ],
           [
            0.6
           ],
           [
            0.6
           ],
           [
            0.6
           ],
           [
            0.6
           ],
           [
            0.6
           ],
           [
            0.6
           ],
           [
            0.6
           ],
           [
            0.6
           ],
           [
            0.6
           ],
           [
            0.6
           ],
           [
            0.6
           ],
           [
            0.6
           ],
           [
            0.6
           ],
           [
            0.6
           ],
           [
            0.6
           ],
           [
            0.6
           ],
           [
            0.6
           ],
           [
            0.6
           ],
           [
            0.6
           ],
           [
            0.6
           ],
           [
            0.6
           ],
           [
            0.6
           ],
           [
            0.6
           ],
           [
            0.6
           ],
           [
            0.6
           ],
           [
            0.6
           ],
           [
            0.6
           ],
           [
            0.6
           ],
           [
            0.6
           ],
           [
            0.6
           ],
           [
            0.6
           ],
           [
            0.6
           ],
           [
            0.6
           ],
           [
            0.6
           ],
           [
            0.6
           ],
           [
            0.6
           ],
           [
            0.6
           ],
           [
            0.6
           ],
           [
            0.6
           ],
           [
            0.6
           ],
           [
            0.6
           ],
           [
            0.6
           ],
           [
            0.6
           ],
           [
            0.6
           ],
           [
            0.6
           ],
           [
            0.6
           ],
           [
            0.6
           ],
           [
            0.6
           ],
           [
            0.6
           ],
           [
            0.6
           ],
           [
            0.6
           ],
           [
            0.6
           ],
           [
            0.6
           ],
           [
            0.6
           ],
           [
            0.6
           ],
           [
            0.6
           ],
           [
            0.6
           ],
           [
            0.6
           ],
           [
            0.6
           ],
           [
            0.6
           ],
           [
            0.6
           ],
           [
            0.6
           ],
           [
            0.6
           ],
           [
            0.6
           ],
           [
            0.6
           ],
           [
            0.6
           ],
           [
            0.6
           ],
           [
            0.6
           ],
           [
            0.6
           ],
           [
            0.6
           ],
           [
            0.6
           ],
           [
            0.6
           ],
           [
            0.6
           ],
           [
            0.6
           ],
           [
            0.6
           ],
           [
            0.6
           ],
           [
            0.6
           ],
           [
            0.6
           ],
           [
            0.6
           ],
           [
            0.6
           ],
           [
            0.6
           ],
           [
            0.6
           ],
           [
            0.6
           ],
           [
            0.6
           ],
           [
            0.6
           ],
           [
            0.6
           ],
           [
            0.6
           ],
           [
            0.6
           ],
           [
            0.6
           ],
           [
            0.6
           ],
           [
            0.6
           ],
           [
            0.6
           ],
           [
            0.6
           ],
           [
            0.6
           ],
           [
            0.6
           ],
           [
            0.6
           ],
           [
            0.6
           ],
           [
            0.6
           ],
           [
            0.6
           ],
           [
            0.6
           ],
           [
            0.6
           ],
           [
            0.6
           ],
           [
            0.6
           ],
           [
            0.6
           ],
           [
            0.6
           ],
           [
            0.6
           ],
           [
            0.6
           ],
           [
            0.6
           ],
           [
            0.6
           ],
           [
            0.6
           ],
           [
            0.6
           ],
           [
            0.6
           ],
           [
            0.6
           ],
           [
            0.6
           ],
           [
            0.6
           ],
           [
            0.6
           ],
           [
            0.6
           ],
           [
            0.6
           ],
           [
            0.6
           ],
           [
            0.6
           ],
           [
            0.6
           ],
           [
            0.6
           ],
           [
            0.6
           ],
           [
            0.6
           ],
           [
            0.6
           ],
           [
            0.6
           ],
           [
            0.6
           ],
           [
            0.6
           ],
           [
            0.6
           ],
           [
            0.6
           ],
           [
            0.6
           ],
           [
            0.6
           ],
           [
            0.6
           ],
           [
            0.6
           ],
           [
            0.6
           ],
           [
            0.6
           ],
           [
            0.6
           ],
           [
            0.6
           ],
           [
            0.6
           ],
           [
            0.6
           ],
           [
            0.6
           ],
           [
            0.6
           ],
           [
            0.6
           ],
           [
            0.6
           ],
           [
            0.6
           ],
           [
            0.6
           ],
           [
            0.6
           ],
           [
            0.6
           ],
           [
            0.6
           ],
           [
            0.6
           ],
           [
            0.6
           ],
           [
            0.6
           ],
           [
            0.6
           ],
           [
            0.6
           ],
           [
            0.6
           ],
           [
            0.6
           ],
           [
            0.6
           ],
           [
            0.6
           ],
           [
            0.6
           ],
           [
            0.6
           ],
           [
            0.6
           ],
           [
            0.6
           ],
           [
            0.6
           ],
           [
            0.6
           ],
           [
            0.6
           ],
           [
            0.6
           ],
           [
            0.6
           ],
           [
            0.6
           ],
           [
            0.6
           ],
           [
            0.6
           ],
           [
            0.6
           ],
           [
            0.6
           ],
           [
            0.6
           ],
           [
            0.6
           ],
           [
            0.6
           ],
           [
            0.6
           ],
           [
            0.6
           ],
           [
            0.6
           ],
           [
            0.6
           ],
           [
            0.6
           ],
           [
            0.6
           ],
           [
            0.6
           ],
           [
            0.6
           ],
           [
            0.6
           ],
           [
            0.6
           ],
           [
            0.6
           ],
           [
            0.6
           ],
           [
            0.6
           ],
           [
            0.6
           ],
           [
            0.6
           ],
           [
            0.6
           ],
           [
            0.6
           ],
           [
            0.6
           ],
           [
            0.6
           ],
           [
            0.6
           ],
           [
            0.6
           ],
           [
            0.6
           ],
           [
            0.6
           ],
           [
            0.6
           ],
           [
            0.6
           ],
           [
            0.6
           ],
           [
            0.6
           ],
           [
            0.6
           ],
           [
            0.6
           ],
           [
            0.6
           ],
           [
            0.6
           ],
           [
            0.6
           ],
           [
            0.6
           ],
           [
            0.6
           ],
           [
            0.6
           ],
           [
            0.6
           ],
           [
            0.6
           ],
           [
            0.6
           ],
           [
            0.6
           ],
           [
            0.6
           ],
           [
            0.6
           ],
           [
            0.6
           ],
           [
            0.6
           ],
           [
            0.6
           ],
           [
            0.6
           ],
           [
            0.6
           ],
           [
            0.6
           ],
           [
            0.6
           ],
           [
            0.6
           ],
           [
            0.6
           ],
           [
            0.6
           ],
           [
            0.6
           ],
           [
            0.6
           ],
           [
            0.6
           ],
           [
            0.6
           ],
           [
            0.6
           ],
           [
            0.6
           ],
           [
            0.6
           ],
           [
            0.6
           ],
           [
            0.6
           ],
           [
            0.6
           ],
           [
            0.6
           ],
           [
            0.6
           ],
           [
            0.6
           ],
           [
            0.6
           ],
           [
            0.6
           ],
           [
            0.6
           ],
           [
            0.6
           ],
           [
            0.6
           ],
           [
            0.6
           ],
           [
            0.6
           ],
           [
            0.6
           ],
           [
            0.6
           ],
           [
            0.6
           ],
           [
            0.6
           ],
           [
            0.6
           ],
           [
            0.6
           ],
           [
            0.6
           ],
           [
            0.6
           ],
           [
            0.6
           ],
           [
            0.6
           ],
           [
            0.6
           ],
           [
            0.6
           ],
           [
            0.6
           ],
           [
            0.6
           ],
           [
            0.6
           ],
           [
            0.6
           ],
           [
            0.6
           ],
           [
            0.6
           ],
           [
            0.6
           ],
           [
            0.6
           ],
           [
            0.6
           ],
           [
            0.6
           ],
           [
            0.6
           ],
           [
            0.6
           ],
           [
            0.6
           ],
           [
            0.6
           ],
           [
            0.6
           ],
           [
            0.6
           ],
           [
            0.6
           ],
           [
            0.6
           ],
           [
            0.6
           ],
           [
            0.6
           ],
           [
            0.6
           ],
           [
            0.6
           ],
           [
            0.6
           ],
           [
            0.6
           ],
           [
            0.6
           ],
           [
            0.6
           ],
           [
            0.6
           ],
           [
            0.6
           ],
           [
            0.6
           ],
           [
            0.6
           ],
           [
            0.6
           ],
           [
            0.6
           ],
           [
            0.6
           ],
           [
            0.6
           ],
           [
            0.6
           ],
           [
            0.6
           ],
           [
            0.6
           ],
           [
            0.6
           ],
           [
            0.6
           ],
           [
            0.6
           ],
           [
            0.6
           ],
           [
            0.6
           ],
           [
            0.6
           ],
           [
            0.6
           ],
           [
            0.6
           ],
           [
            0.6
           ],
           [
            0.6
           ],
           [
            0.6
           ],
           [
            0.6
           ],
           [
            0.6
           ],
           [
            0.6
           ],
           [
            0.6
           ],
           [
            0.6
           ],
           [
            0.6
           ],
           [
            0.6
           ],
           [
            0.6
           ],
           [
            0.6
           ],
           [
            0.6
           ],
           [
            0.6
           ],
           [
            0.6
           ],
           [
            0.6
           ],
           [
            0.6
           ],
           [
            0.6
           ],
           [
            0.6
           ],
           [
            0.6
           ],
           [
            0.6
           ],
           [
            0.6
           ],
           [
            0.6
           ],
           [
            0.6
           ],
           [
            0.6
           ],
           [
            0.6
           ],
           [
            0.6
           ],
           [
            0.6
           ],
           [
            0.6
           ],
           [
            0.6
           ],
           [
            0.6
           ],
           [
            0.6
           ],
           [
            0.6
           ],
           [
            0.6
           ],
           [
            0.6
           ],
           [
            0.6
           ],
           [
            0.6
           ],
           [
            0.6
           ],
           [
            0.6
           ],
           [
            0.6
           ],
           [
            0.6
           ],
           [
            0.6
           ],
           [
            0.6
           ],
           [
            0.6
           ],
           [
            0.6
           ],
           [
            0.6
           ],
           [
            0.6
           ],
           [
            0.6
           ],
           [
            0.6
           ],
           [
            0.6
           ],
           [
            0.6
           ],
           [
            0.6
           ],
           [
            0.6
           ],
           [
            0.6
           ],
           [
            0.6
           ],
           [
            0.6
           ],
           [
            0.6
           ],
           [
            0.6
           ],
           [
            0.6
           ],
           [
            0.6
           ],
           [
            0.6
           ],
           [
            0.6
           ],
           [
            0.6
           ],
           [
            0.6
           ],
           [
            0.6
           ],
           [
            0.6
           ],
           [
            0.6
           ],
           [
            0.6
           ],
           [
            0.6
           ],
           [
            0.6
           ],
           [
            0.6
           ],
           [
            0.6
           ],
           [
            0.6
           ],
           [
            0.6
           ],
           [
            0.6
           ],
           [
            0.6
           ],
           [
            0.6
           ],
           [
            0.6
           ],
           [
            0.6
           ],
           [
            0.6
           ],
           [
            0.6
           ],
           [
            0.6
           ],
           [
            0.6
           ],
           [
            0.6
           ],
           [
            0.6
           ],
           [
            0.6
           ],
           [
            0.6
           ]
          ],
          "size": [
           20,
           10,
           10,
           5,
           5,
           5,
           5,
           5,
           5,
           5,
           5,
           5,
           5,
           5,
           5,
           90,
           40,
           25,
           15,
           10,
           5,
           5,
           5,
           5,
           5,
           100,
           90,
           80,
           60,
           50,
           50,
           50,
           45,
           40,
           40,
           40,
           40,
           35,
           30,
           25,
           25,
           20,
           20,
           20,
           15,
           15,
           15,
           15,
           15,
           15,
           10,
           10,
           10,
           10,
           5,
           5,
           5,
           5,
           5,
           5,
           5,
           5,
           5,
           5,
           5,
           5,
           35,
           30,
           25,
           25,
           20,
           15,
           15,
           15,
           15,
           15,
           10,
           10,
           10,
           10,
           10,
           10,
           10,
           5,
           5,
           5,
           5,
           5,
           5,
           5,
           5,
           5,
           5,
           5,
           5,
           5,
           10,
           10,
           5,
           5,
           5,
           5,
           5,
           5,
           5,
           5,
           5,
           5,
           5,
           5,
           5,
           5
          ]
         },
         "mode": "markers",
         "name": "Male",
         "type": "scatter",
         "uid": "ac765d29-fa87-47d4-91bc-7afdf6765e1f",
         "x": [
          "University <br>graduate",
          "University <br>graduate",
          "University <br>graduate",
          "University <br>graduate",
          "University <br>without <br>graduating",
          "University <br>without <br>graduating",
          "University <br>graduate",
          "University <br>graduate",
          "University <br>graduate",
          "University <br>without <br>graduating",
          "University <br>graduate",
          "University <br>graduate",
          "University <br>graduate",
          "Unfinished <br>Compulsory<br>Secondary <br>Education",
          "University <br>graduate",
          "University <br>without <br>graduating",
          "University <br>without <br>graduating",
          "Vocational <br>Training",
          "University <br>without <br>graduating",
          "University <br>without <br>graduating",
          "University <br>graduate",
          "Unfinished <br>Compulsory<br>Secondary <br>Education",
          "Unfinished <br>Compulsory<br>Secondary <br>Education",
          "Unfinished <br>Compulsory<br>Secondary <br>Education",
          "Unfinished <br>Compulsory<br>Secondary <br>Education",
          "Unfinished <br>Compulsory<br>Secondary <br>Education",
          "University <br>graduate",
          "Unfinished <br>Compulsory<br>Secondary <br>Education",
          "University <br>without <br>graduating",
          "University <br>graduate",
          "University <br>graduate",
          "University <br>graduate",
          "University <br>graduate",
          "University <br>without <br>graduating",
          "University <br>graduate",
          "University <br>without <br>graduating",
          "Unfinished <br>Compulsory<br>Secondary <br>Education",
          "Unfinished <br>Compulsory<br>Secondary <br>Education",
          "Unfinished <br>Compulsory<br>Secondary <br>Education",
          "Unfinished <br>Compulsory<br>Secondary <br>Education",
          "Unfinished <br>Compulsory<br>Secondary <br>Education",
          "Unfinished <br>Compulsory<br>Secondary <br>Education",
          "Unfinished <br>Compulsory<br>Secondary <br>Education",
          "Unfinished <br>Compulsory<br>Secondary <br>Education",
          "Unfinished <br>Compulsory<br>Secondary <br>Education",
          "University <br>graduate",
          "University <br>graduate",
          "University <br>without <br>graduating",
          "Unfinished <br>Compulsory<br>Secondary <br>Education",
          "Unfinished <br>Compulsory<br>Secondary <br>Education",
          "Unfinished <br>Compulsory<br>Secondary <br>Education",
          "Unfinished <br>Compulsory<br>Secondary <br>Education",
          "Unfinished <br>Compulsory<br>Secondary <br>Education",
          "Unfinished <br>Compulsory<br>Secondary <br>Education",
          "University <br>without <br>graduating",
          "University <br>without <br>graduating",
          "University <br>graduate",
          "University <br>graduate",
          "University <br>without <br>graduating",
          "University <br>without <br>graduating",
          "University <br>without <br>graduating",
          "Unfinished <br>Compulsory<br>Secondary <br>Education",
          "University <br>graduate",
          "University <br>graduate",
          "University <br>graduate",
          "University <br>graduate",
          "Vocational <br>Training",
          "University <br>graduate",
          "University <br>without <br>graduating",
          "University <br>graduate",
          "University <br>graduate",
          "University <br>graduate",
          "University <br>graduate",
          "University <br>without <br>graduating",
          "University <br>without <br>graduating",
          "University <br>without <br>graduating",
          "Unfinished <br>Compulsory<br>Secondary <br>Education",
          "Unfinished <br>Compulsory<br>Secondary <br>Education",
          "Unfinished <br>Compulsory<br>Secondary <br>Education",
          "Unfinished <br>Compulsory<br>Secondary <br>Education",
          "Unfinished <br>Compulsory<br>Secondary <br>Education",
          "University <br>without <br>graduating",
          "University <br>graduate",
          "Vocational <br>Training",
          "University <br>without <br>graduating",
          "Unfinished <br>Compulsory<br>Secondary <br>Education",
          "Unfinished <br>Compulsory<br>Secondary <br>Education",
          "Unfinished <br>Compulsory<br>Secondary <br>Education",
          "Unfinished <br>Compulsory<br>Secondary <br>Education",
          "Unfinished <br>Compulsory<br>Secondary <br>Education",
          "Unfinished <br>Compulsory<br>Secondary <br>Education",
          "Unfinished <br>Compulsory<br>Secondary <br>Education",
          "Unfinished <br>Compulsory<br>Secondary <br>Education",
          "Unfinished <br>Compulsory<br>Secondary <br>Education",
          "Unfinished <br>Compulsory<br>Secondary <br>Education",
          "University <br>without <br>graduating",
          "University <br>without <br>graduating",
          "Vocational <br>Training",
          "University <br>without <br>graduating",
          "University <br>without <br>graduating",
          "University <br>graduate",
          "University <br>without <br>graduating",
          "University <br>graduate",
          "University <br>graduate",
          "University <br>graduate",
          "University <br>graduate",
          "University <br>graduate",
          "University <br>graduate",
          "University <br>without <br>graduating",
          "University <br>without <br>graduating",
          "University <br>graduate",
          "University <br>graduate",
          "University <br>graduate",
          "University <br>graduate",
          "University <br>graduate",
          "University <br>graduate",
          "University <br>without <br>graduating",
          "University <br>graduate",
          "University <br>graduate",
          "University <br>graduate",
          "University <br>graduate",
          "University <br>graduate",
          "Vocational <br>Training",
          "University <br>without <br>graduating",
          "University <br>without <br>graduating",
          "University <br>graduate",
          "University <br>graduate",
          "University <br>without <br>graduating",
          "Completed <br>Compulsory<br>Secondary <br>Education",
          "University <br>graduate",
          "University <br>graduate",
          "University <br>graduate",
          "Completed <br>Compulsory<br>Secondary <br>Education",
          "Vocational <br>Training",
          "University <br>without <br>graduating",
          "University <br>graduate",
          "University <br>graduate",
          "University <br>graduate",
          "University <br>graduate",
          "University <br>graduate",
          "University <br>graduate",
          "University <br>graduate",
          "Vocational <br>Training",
          "University <br>graduate",
          "Completed <br>Compulsory<br>Secondary <br>Education",
          "Primary <br>education",
          "University <br>graduate",
          "University <br>graduate",
          "University <br>graduate",
          "University <br>graduate",
          "University <br>without <br>graduating",
          "University <br>graduate",
          "University <br>without <br>graduating",
          "University <br>graduate",
          "University <br>without <br>graduating",
          "University <br>graduate",
          "Vocational <br>Training",
          "University <br>graduate",
          "University <br>without <br>graduating",
          "Completed <br>Compulsory<br>Secondary <br>Education",
          "University <br>without <br>graduating",
          "University <br>graduate",
          "University <br>graduate",
          "University <br>graduate",
          "Completed <br>Compulsory<br>Secondary <br>Education",
          "University <br>without <br>graduating",
          "University <br>without <br>graduating",
          "University <br>graduate",
          "University <br>graduate",
          "University <br>graduate",
          "University <br>graduate",
          "University <br>without <br>graduating",
          "Completed <br>Compulsory<br>Secondary <br>Education",
          "Completed <br>Compulsory<br>Secondary <br>Education",
          "University <br>without <br>graduating",
          "University <br>graduate",
          "University <br>graduate",
          "University <br>graduate",
          "University <br>graduate",
          "University <br>graduate",
          "Primary <br>education",
          "University <br>graduate",
          "University <br>graduate",
          "University <br>without <br>graduating",
          "Completed <br>Compulsory<br>Secondary <br>Education",
          "University <br>graduate",
          "University <br>graduate",
          "University <br>graduate",
          "University <br>graduate",
          "University <br>graduate",
          "University <br>graduate",
          "University <br>graduate",
          "University <br>without <br>graduating",
          "University <br>graduate",
          "University <br>graduate",
          "University <br>graduate",
          "University <br>graduate",
          "University <br>without <br>graduating",
          "University <br>graduate",
          "University <br>graduate",
          "University <br>graduate",
          "University <br>graduate",
          "University <br>graduate",
          "University <br>graduate",
          "University <br>graduate",
          "University <br>without <br>graduating",
          "University <br>graduate",
          "University <br>without <br>graduating",
          "University <br>graduate",
          "University <br>graduate",
          "University <br>graduate",
          "University <br>graduate",
          "University <br>graduate",
          "University <br>graduate",
          "University <br>graduate",
          "Vocational <br>Training",
          "University <br>graduate",
          "University <br>without <br>graduating",
          "University <br>graduate",
          "University <br>graduate",
          "University <br>graduate",
          "University <br>graduate",
          "University <br>graduate",
          "Vocational <br>Training",
          "University <br>without <br>graduating",
          "University <br>graduate",
          "University <br>graduate",
          "Completed <br>Compulsory<br>Secondary <br>Education",
          "University <br>without <br>graduating",
          "University <br>graduate",
          "University <br>graduate",
          "University <br>graduate",
          "University <br>graduate",
          "Vocational <br>Training",
          "University <br>graduate",
          "University <br>graduate",
          "University <br>without <br>graduating",
          "University <br>without <br>graduating",
          "University <br>graduate",
          "University <br>graduate",
          "University <br>graduate",
          "Vocational <br>Training",
          "University <br>graduate",
          "University <br>graduate",
          "University <br>without <br>graduating",
          "University <br>graduate",
          "University <br>graduate",
          "University <br>graduate",
          "Unfinished <br>Compulsory<br>Secondary <br>Education",
          "University <br>graduate",
          "University <br>without <br>graduating",
          "University <br>graduate",
          "University <br>without <br>graduating",
          "University <br>graduate",
          "University <br>graduate",
          "University <br>graduate",
          "University <br>graduate",
          "University <br>without <br>graduating",
          "University <br>graduate",
          "University <br>graduate",
          "University <br>graduate",
          "University <br>graduate",
          "University <br>graduate",
          "University <br>graduate",
          "University <br>graduate",
          "University <br>graduate",
          "University <br>graduate",
          "University <br>graduate",
          "Vocational <br>Training",
          "Vocational <br>Training",
          "University <br>graduate",
          "University <br>graduate",
          "University <br>graduate",
          "Vocational <br>Training",
          "University <br>graduate",
          "University <br>graduate",
          "University <br>graduate",
          "University <br>graduate",
          "Completed <br>Compulsory<br>Secondary <br>Education",
          "University <br>graduate",
          "University <br>graduate",
          "Completed <br>Compulsory<br>Secondary <br>Education",
          "University <br>graduate",
          "Completed <br>Compulsory<br>Secondary <br>Education",
          "University <br>graduate",
          "University <br>graduate",
          "University <br>graduate",
          "University <br>graduate",
          "Completed <br>Compulsory<br>Secondary <br>Education",
          "University <br>graduate",
          "University <br>graduate",
          "Primary <br>education",
          "University <br>graduate",
          "University <br>graduate",
          "University <br>graduate",
          "University <br>graduate",
          "Completed <br>Compulsory<br>Secondary <br>Education",
          "University <br>graduate",
          "University <br>graduate",
          "University <br>without <br>graduating",
          "University <br>graduate",
          "University <br>graduate",
          "University <br>graduate",
          "Vocational <br>Training",
          "University <br>graduate",
          "University <br>graduate",
          "University <br>graduate",
          "University <br>graduate",
          "University <br>graduate",
          "Unfinished <br>Compulsory<br>Secondary <br>Education",
          "University <br>graduate",
          "University <br>without <br>graduating",
          "University <br>graduate",
          "University <br>graduate",
          "University <br>graduate",
          "University <br>without <br>graduating",
          "Completed <br>Compulsory<br>Secondary <br>Education",
          "University <br>graduate",
          "Vocational <br>Training",
          "University <br>without <br>graduating",
          "Vocational <br>Training",
          "University <br>graduate",
          "University <br>graduate",
          "University <br>graduate",
          "Completed <br>Compulsory<br>Secondary <br>Education",
          "University <br>graduate",
          "University <br>graduate",
          "University <br>without <br>graduating",
          "University <br>graduate",
          "University <br>graduate",
          "University <br>without <br>graduating",
          "University <br>without <br>graduating",
          "University <br>graduate",
          "University <br>graduate",
          "University <br>without <br>graduating",
          "University <br>graduate",
          "University <br>graduate",
          "University <br>graduate",
          "University <br>graduate",
          "University <br>without <br>graduating",
          "University <br>graduate",
          "University <br>graduate",
          "University <br>graduate",
          "University <br>graduate",
          "University <br>without <br>graduating",
          "University <br>without <br>graduating",
          "Completed <br>Compulsory<br>Secondary <br>Education",
          "University <br>graduate",
          "University <br>graduate",
          "University <br>graduate",
          "Unfinished <br>Compulsory<br>Secondary <br>Education",
          "University <br>graduate",
          "University <br>without <br>graduating",
          "University <br>graduate",
          "University <br>graduate",
          "University <br>graduate",
          "University <br>graduate",
          "University <br>graduate"
         ],
         "y": [
          37,
          62,
          28,
          30,
          60,
          20,
          31,
          33,
          23,
          21,
          29,
          29,
          36,
          38,
          33,
          19,
          25,
          67,
          23,
          70,
          36,
          17,
          17,
          18,
          15,
          15,
          23,
          14,
          21,
          30,
          53,
          29,
          30,
          20,
          30,
          20,
          15,
          14,
          14,
          14,
          14,
          14,
          15,
          14,
          15,
          31,
          30,
          19,
          16,
          16,
          15,
          16,
          18,
          15,
          19,
          34,
          35,
          38,
          20,
          23,
          21,
          18,
          61,
          57,
          41,
          26,
          46,
          28,
          22,
          47,
          42,
          31,
          28,
          23,
          18,
          21,
          14,
          15,
          16,
          14,
          14,
          24,
          64,
          32,
          21,
          13,
          14,
          16,
          14,
          14,
          14,
          14,
          14,
          14,
          14,
          19,
          18,
          45,
          21,
          21,
          27,
          28,
          32,
          29,
          22,
          29,
          21,
          28,
          26,
          27,
          32,
          32,
          40,
          27,
          26,
          31,
          34,
          25,
          28,
          30,
          46,
          28,
          28,
          30,
          24,
          27,
          38,
          31,
          24,
          28,
          46,
          26,
          22,
          38,
          26,
          27,
          40,
          26,
          34,
          31,
          29,
          32,
          47,
          34,
          28,
          36,
          34,
          33,
          43,
          35,
          39,
          42,
          32,
          33,
          24,
          24,
          47,
          27,
          47,
          24,
          29,
          34,
          29,
          39,
          42,
          43,
          42,
          28,
          35,
          36,
          24,
          22,
          27,
          53,
          28,
          31,
          60,
          34,
          39,
          69,
          21,
          43,
          34,
          19,
          30,
          29,
          33,
          65,
          30,
          38,
          28,
          47,
          23,
          39,
          30,
          39,
          29,
          22,
          42,
          37,
          36,
          44,
          36,
          29,
          63,
          32,
          37,
          27,
          35,
          26,
          32,
          32,
          28,
          33,
          29,
          39,
          35,
          31,
          25,
          36,
          36,
          30,
          30,
          34,
          27,
          57,
          44,
          36,
          29,
          29,
          29,
          36,
          28,
          38,
          37,
          28,
          54,
          28,
          41,
          28,
          39,
          27,
          38,
          33,
          42,
          35,
          45,
          30,
          27,
          30,
          23,
          44,
          25,
          27,
          26,
          25,
          23,
          38,
          35,
          24,
          33,
          31,
          32,
          53,
          28,
          21,
          41,
          29,
          51,
          31,
          30,
          28,
          37,
          49,
          26,
          26,
          26,
          33,
          27,
          30,
          22,
          34,
          24,
          27,
          24,
          22,
          28,
          60,
          39,
          39,
          43,
          33,
          25,
          40,
          40,
          26,
          26,
          33,
          39,
          23,
          35,
          29,
          34,
          42,
          39,
          51,
          23,
          32,
          41,
          29,
          27,
          67,
          27,
          32,
          27,
          36,
          34,
          47,
          30,
          62,
          35,
          49,
          71,
          31,
          23,
          68,
          50,
          30,
          30,
          40,
          30,
          66,
          37,
          57,
          25,
          30,
          29,
          32,
          24,
          48,
          28,
          26,
          29,
          28,
          25,
          37,
          27,
          28,
          23,
          27,
          26,
          26,
          25,
          29,
          28,
          34,
          24,
          34
         ]
        },
        {
         "marker": {
          "opacity": [
           [
            0.6
           ],
           [
            0.6
           ],
           [
            0.6
           ],
           [
            0.6
           ],
           [
            0.6
           ],
           [
            0.6
           ],
           [
            0.6
           ],
           [
            0.6
           ],
           [
            0.6
           ],
           [
            0.6
           ],
           [
            0.6
           ],
           [
            0.6
           ],
           [
            0.6
           ],
           [
            0.6
           ],
           [
            0.6
           ],
           [
            0.6
           ],
           [
            0.6
           ],
           [
            0.6
           ],
           [
            0.6
           ],
           [
            0.6
           ],
           [
            0.6
           ],
           [
            0.6
           ],
           [
            0.6
           ],
           [
            0.6
           ],
           [
            0.6
           ],
           [
            0.6
           ],
           [
            0.6
           ],
           [
            0.6
           ],
           [
            0.6
           ],
           [
            0.6
           ],
           [
            0.6
           ],
           [
            0.6
           ],
           [
            0.6
           ],
           [
            0.6
           ],
           [
            0.6
           ],
           [
            0.6
           ],
           [
            0.6
           ],
           [
            0.6
           ],
           [
            0.6
           ],
           [
            0.6
           ],
           [
            0.6
           ],
           [
            0.6
           ],
           [
            0.6
           ],
           [
            0.6
           ],
           [
            0.6
           ],
           [
            0.6
           ],
           [
            0.6
           ],
           [
            0.6
           ],
           [
            0.6
           ],
           [
            0.6
           ],
           [
            0.6
           ],
           [
            0.6
           ],
           [
            0.6
           ],
           [
            0.6
           ],
           [
            0.6
           ],
           [
            0.6
           ],
           [
            0.6
           ],
           [
            0.6
           ],
           [
            0.6
           ],
           [
            0.6
           ],
           [
            0.6
           ],
           [
            0.6
           ],
           [
            0.6
           ],
           [
            0.6
           ],
           [
            0.6
           ],
           [
            0.6
           ],
           [
            0.6
           ],
           [
            0.6
           ],
           [
            0.6
           ],
           [
            0.6
           ],
           [
            0.6
           ],
           [
            0.6
           ],
           [
            0.6
           ],
           [
            0.6
           ],
           [
            0.6
           ],
           [
            0.6
           ],
           [
            0.6
           ],
           [
            0.6
           ],
           [
            0.6
           ],
           [
            0.6
           ],
           [
            0.6
           ],
           [
            0.6
           ],
           [
            0.6
           ],
           [
            0.6
           ],
           [
            0.6
           ],
           [
            0.6
           ],
           [
            0.6
           ],
           [
            0.6
           ],
           [
            0.6
           ],
           [
            0.6
           ],
           [
            0.6
           ],
           [
            0.6
           ],
           [
            0.6
           ],
           [
            0.6
           ],
           [
            0.6
           ],
           [
            0.6
           ],
           [
            0.6
           ],
           [
            0.6
           ],
           [
            0.6
           ],
           [
            0.6
           ],
           [
            0.6
           ],
           [
            0.6
           ],
           [
            0.6
           ],
           [
            0.6
           ],
           [
            0.6
           ],
           [
            0.6
           ],
           [
            0.6
           ],
           [
            0.6
           ],
           [
            0.6
           ],
           [
            0.6
           ],
           [
            0.6
           ],
           [
            0.6
           ],
           [
            0.6
           ],
           [
            0.6
           ],
           [
            0.6
           ],
           [
            0.6
           ],
           [
            0.6
           ],
           [
            0.6
           ],
           [
            0.6
           ],
           [
            0.6
           ],
           [
            0.6
           ],
           [
            0.6
           ],
           [
            0.6
           ],
           [
            0.6
           ],
           [
            0.6
           ],
           [
            0.6
           ],
           [
            0.6
           ],
           [
            0.6
           ],
           [
            0.6
           ],
           [
            0.6
           ],
           [
            0.6
           ],
           [
            0.6
           ],
           [
            0.6
           ],
           [
            0.6
           ],
           [
            0.6
           ],
           [
            0.6
           ],
           [
            0.6
           ],
           [
            0.6
           ],
           [
            0.6
           ],
           [
            0.6
           ],
           [
            0.6
           ],
           [
            0.6
           ],
           [
            0.6
           ],
           [
            0.6
           ],
           [
            0.6
           ],
           [
            0.6
           ],
           [
            0.6
           ],
           [
            0.6
           ],
           [
            0.6
           ],
           [
            0.6
           ],
           [
            0.6
           ],
           [
            0.6
           ],
           [
            0.6
           ],
           [
            0.6
           ],
           [
            0.6
           ],
           [
            0.6
           ],
           [
            0.6
           ],
           [
            0.6
           ],
           [
            0.6
           ],
           [
            0.6
           ],
           [
            0.6
           ],
           [
            0.6
           ],
           [
            0.6
           ],
           [
            0.6
           ],
           [
            0.6
           ],
           [
            0.6
           ],
           [
            0.6
           ],
           [
            0.6
           ],
           [
            0.6
           ],
           [
            0.6
           ],
           [
            0.6
           ],
           [
            0.6
           ],
           [
            0.6
           ],
           [
            0.6
           ],
           [
            0.6
           ],
           [
            0.6
           ],
           [
            0.6
           ],
           [
            0.6
           ],
           [
            0.6
           ],
           [
            0.6
           ],
           [
            0.6
           ],
           [
            0.6
           ],
           [
            0.6
           ],
           [
            0.6
           ],
           [
            0.6
           ],
           [
            0.6
           ],
           [
            0.6
           ],
           [
            0.6
           ],
           [
            0.6
           ],
           [
            0.6
           ],
           [
            0.6
           ],
           [
            0.6
           ],
           [
            0.6
           ],
           [
            0.6
           ],
           [
            0.6
           ],
           [
            0.6
           ],
           [
            0.6
           ],
           [
            0.6
           ],
           [
            0.6
           ],
           [
            0.6
           ],
           [
            0.6
           ],
           [
            0.6
           ],
           [
            0.6
           ],
           [
            0.6
           ],
           [
            0.6
           ],
           [
            0.6
           ],
           [
            0.6
           ],
           [
            0.6
           ],
           [
            0.6
           ],
           [
            0.6
           ],
           [
            0.6
           ],
           [
            0.6
           ],
           [
            0.6
           ],
           [
            0.6
           ],
           [
            0.6
           ],
           [
            0.6
           ],
           [
            0.6
           ],
           [
            0.6
           ],
           [
            0.6
           ],
           [
            0.6
           ],
           [
            0.6
           ],
           [
            0.6
           ],
           [
            0.6
           ],
           [
            0.6
           ],
           [
            0.6
           ],
           [
            0.6
           ],
           [
            0.6
           ],
           [
            0.6
           ],
           [
            0.6
           ],
           [
            0.6
           ],
           [
            0.6
           ],
           [
            0.6
           ],
           [
            0.6
           ],
           [
            0.6
           ],
           [
            0.6
           ],
           [
            0.6
           ],
           [
            0.6
           ],
           [
            0.6
           ],
           [
            0.6
           ],
           [
            0.6
           ],
           [
            0.6
           ],
           [
            0.6
           ],
           [
            0.6
           ],
           [
            0.6
           ],
           [
            0.6
           ],
           [
            0.6
           ],
           [
            0.6
           ],
           [
            0.6
           ],
           [
            0.6
           ],
           [
            0.6
           ],
           [
            0.6
           ],
           [
            0.6
           ],
           [
            0.6
           ],
           [
            0.6
           ],
           [
            0.6
           ],
           [
            0.6
           ],
           [
            0.6
           ],
           [
            0.6
           ],
           [
            0.6
           ],
           [
            0.6
           ],
           [
            0.6
           ],
           [
            0.6
           ],
           [
            0.6
           ],
           [
            0.6
           ],
           [
            0.6
           ],
           [
            0.6
           ],
           [
            0.6
           ],
           [
            0.6
           ],
           [
            0.6
           ],
           [
            0.6
           ],
           [
            0.6
           ],
           [
            0.6
           ],
           [
            0.6
           ],
           [
            0.6
           ],
           [
            0.6
           ],
           [
            0.6
           ],
           [
            0.6
           ],
           [
            0.6
           ],
           [
            0.6
           ],
           [
            0.6
           ],
           [
            0.6
           ],
           [
            0.6
           ],
           [
            0.6
           ],
           [
            0.6
           ],
           [
            0.6
           ],
           [
            0.6
           ],
           [
            0.6
           ],
           [
            0.6
           ],
           [
            0.6
           ],
           [
            0.6
           ],
           [
            0.6
           ],
           [
            0.6
           ],
           [
            0.6
           ],
           [
            0.6
           ],
           [
            0.6
           ],
           [
            0.6
           ],
           [
            0.6
           ],
           [
            0.6
           ],
           [
            0.6
           ],
           [
            0.6
           ],
           [
            0.6
           ],
           [
            0.6
           ],
           [
            0.6
           ],
           [
            0.6
           ],
           [
            0.6
           ],
           [
            0.6
           ],
           [
            0.6
           ],
           [
            0.6
           ],
           [
            0.6
           ],
           [
            0.6
           ],
           [
            0.6
           ],
           [
            0.6
           ],
           [
            0.6
           ],
           [
            0.6
           ],
           [
            0.6
           ],
           [
            0.6
           ],
           [
            0.6
           ],
           [
            0.6
           ],
           [
            0.6
           ],
           [
            0.6
           ],
           [
            0.6
           ],
           [
            0.6
           ],
           [
            0.6
           ],
           [
            0.6
           ],
           [
            0.6
           ],
           [
            0.6
           ],
           [
            0.6
           ],
           [
            0.6
           ],
           [
            0.6
           ],
           [
            0.6
           ],
           [
            0.6
           ],
           [
            0.6
           ],
           [
            0.6
           ],
           [
            0.6
           ],
           [
            0.6
           ],
           [
            0.6
           ],
           [
            0.6
           ],
           [
            0.6
           ],
           [
            0.6
           ],
           [
            0.6
           ],
           [
            0.6
           ],
           [
            0.6
           ],
           [
            0.6
           ],
           [
            0.6
           ],
           [
            0.6
           ],
           [
            0.6
           ],
           [
            0.6
           ],
           [
            0.6
           ],
           [
            0.6
           ],
           [
            0.6
           ],
           [
            0.6
           ],
           [
            0.6
           ],
           [
            0.6
           ],
           [
            0.6
           ],
           [
            0.6
           ],
           [
            0.6
           ],
           [
            0.6
           ],
           [
            0.6
           ],
           [
            0.6
           ],
           [
            0.6
           ],
           [
            0.6
           ],
           [
            0.6
           ],
           [
            0.6
           ],
           [
            0.6
           ],
           [
            0.6
           ],
           [
            0.6
           ],
           [
            0.6
           ],
           [
            0.6
           ],
           [
            0.6
           ],
           [
            0.6
           ],
           [
            0.6
           ],
           [
            0.6
           ],
           [
            0.6
           ],
           [
            0.6
           ],
           [
            0.6
           ],
           [
            0.6
           ],
           [
            0.6
           ],
           [
            0.6
           ],
           [
            0.6
           ],
           [
            0.6
           ],
           [
            0.6
           ],
           [
            0.6
           ],
           [
            0.6
           ],
           [
            0.6
           ],
           [
            0.6
           ],
           [
            0.6
           ],
           [
            0.6
           ],
           [
            0.6
           ],
           [
            0.6
           ],
           [
            0.6
           ],
           [
            0.6
           ],
           [
            0.6
           ],
           [
            0.6
           ],
           [
            0.6
           ],
           [
            0.6
           ],
           [
            0.6
           ],
           [
            0.6
           ],
           [
            0.6
           ],
           [
            0.6
           ],
           [
            0.6
           ],
           [
            0.6
           ],
           [
            0.6
           ],
           [
            0.6
           ],
           [
            0.6
           ],
           [
            0.6
           ],
           [
            0.6
           ],
           [
            0.6
           ],
           [
            0.6
           ],
           [
            0.6
           ],
           [
            0.6
           ],
           [
            0.6
           ],
           [
            0.6
           ],
           [
            0.6
           ],
           [
            0.6
           ],
           [
            0.6
           ],
           [
            0.6
           ],
           [
            0.6
           ],
           [
            0.6
           ],
           [
            0.6
           ],
           [
            0.6
           ],
           [
            0.6
           ],
           [
            0.6
           ],
           [
            0.6
           ],
           [
            0.6
           ],
           [
            0.6
           ],
           [
            0.6
           ],
           [
            0.6
           ],
           [
            0.6
           ],
           [
            0.6
           ],
           [
            0.6
           ],
           [
            0.6
           ],
           [
            0.6
           ],
           [
            0.6
           ],
           [
            0.6
           ],
           [
            0.6
           ],
           [
            0.6
           ],
           [
            0.6
           ],
           [
            0.6
           ],
           [
            0.6
           ],
           [
            0.6
           ],
           [
            0.6
           ],
           [
            0.6
           ],
           [
            0.6
           ],
           [
            0.6
           ],
           [
            0.6
           ],
           [
            0.6
           ],
           [
            0.6
           ],
           [
            0.6
           ],
           [
            0.6
           ],
           [
            0.6
           ],
           [
            0.6
           ],
           [
            0.6
           ],
           [
            0.6
           ],
           [
            0.6
           ],
           [
            0.6
           ],
           [
            0.6
           ],
           [
            0.6
           ],
           [
            0.6
           ],
           [
            0.6
           ],
           [
            0.6
           ],
           [
            0.6
           ],
           [
            0.6
           ],
           [
            0.6
           ],
           [
            0.6
           ],
           [
            0.6
           ],
           [
            0.6
           ],
           [
            0.6
           ],
           [
            0.6
           ],
           [
            0.6
           ],
           [
            0.6
           ],
           [
            0.6
           ],
           [
            0.6
           ],
           [
            0.6
           ],
           [
            0.6
           ],
           [
            0.6
           ],
           [
            0.6
           ],
           [
            0.6
           ],
           [
            0.6
           ],
           [
            0.6
           ],
           [
            0.6
           ],
           [
            0.6
           ],
           [
            0.6
           ],
           [
            0.6
           ],
           [
            0.6
           ],
           [
            0.6
           ],
           [
            0.6
           ],
           [
            0.6
           ],
           [
            0.6
           ],
           [
            0.6
           ],
           [
            0.6
           ],
           [
            0.6
           ],
           [
            0.6
           ],
           [
            0.6
           ],
           [
            0.6
           ],
           [
            0.6
           ],
           [
            0.6
           ],
           [
            0.6
           ],
           [
            0.6
           ],
           [
            0.6
           ],
           [
            0.6
           ],
           [
            0.6
           ],
           [
            0.6
           ],
           [
            0.6
           ],
           [
            0.6
           ],
           [
            0.6
           ],
           [
            0.6
           ],
           [
            0.6
           ],
           [
            0.6
           ],
           [
            0.6
           ],
           [
            0.6
           ],
           [
            0.6
           ],
           [
            0.6
           ],
           [
            0.6
           ],
           [
            0.6
           ],
           [
            0.6
           ],
           [
            0.6
           ],
           [
            0.6
           ],
           [
            0.6
           ],
           [
            0.6
           ],
           [
            0.6
           ],
           [
            0.6
           ],
           [
            0.6
           ],
           [
            0.6
           ],
           [
            0.6
           ],
           [
            0.6
           ],
           [
            0.6
           ],
           [
            0.6
           ],
           [
            0.6
           ],
           [
            0.6
           ],
           [
            0.6
           ],
           [
            0.6
           ],
           [
            0.6
           ],
           [
            0.6
           ],
           [
            0.6
           ],
           [
            0.6
           ],
           [
            0.6
           ],
           [
            0.6
           ],
           [
            0.6
           ],
           [
            0.6
           ],
           [
            0.6
           ],
           [
            0.6
           ],
           [
            0.6
           ],
           [
            0.6
           ],
           [
            0.6
           ],
           [
            0.6
           ],
           [
            0.6
           ],
           [
            0.6
           ],
           [
            0.6
           ],
           [
            0.6
           ],
           [
            0.6
           ],
           [
            0.6
           ],
           [
            0.6
           ],
           [
            0.6
           ],
           [
            0.6
           ],
           [
            0.6
           ],
           [
            0.6
           ],
           [
            0.6
           ],
           [
            0.6
           ],
           [
            0.6
           ],
           [
            0.6
           ],
           [
            0.6
           ],
           [
            0.6
           ],
           [
            0.6
           ],
           [
            0.6
           ],
           [
            0.6
           ],
           [
            0.6
           ],
           [
            0.6
           ],
           [
            0.6
           ],
           [
            0.6
           ],
           [
            0.6
           ],
           [
            0.6
           ],
           [
            0.6
           ],
           [
            0.6
           ],
           [
            0.6
           ],
           [
            0.6
           ],
           [
            0.6
           ],
           [
            0.6
           ],
           [
            0.6
           ],
           [
            0.6
           ],
           [
            0.6
           ],
           [
            0.6
           ],
           [
            0.6
           ],
           [
            0.6
           ],
           [
            0.6
           ],
           [
            0.6
           ],
           [
            0.6
           ],
           [
            0.6
           ],
           [
            0.6
           ],
           [
            0.6
           ],
           [
            0.6
           ],
           [
            0.6
           ],
           [
            0.6
           ],
           [
            0.6
           ],
           [
            0.6
           ],
           [
            0.6
           ],
           [
            0.6
           ],
           [
            0.6
           ],
           [
            0.6
           ],
           [
            0.6
           ],
           [
            0.6
           ],
           [
            0.6
           ],
           [
            0.6
           ],
           [
            0.6
           ],
           [
            0.6
           ],
           [
            0.6
           ],
           [
            0.6
           ],
           [
            0.6
           ],
           [
            0.6
           ],
           [
            0.6
           ],
           [
            0.6
           ],
           [
            0.6
           ],
           [
            0.6
           ],
           [
            0.6
           ],
           [
            0.6
           ],
           [
            0.6
           ],
           [
            0.6
           ],
           [
            0.6
           ],
           [
            0.6
           ],
           [
            0.6
           ],
           [
            0.6
           ],
           [
            0.6
           ],
           [
            0.6
           ],
           [
            0.6
           ],
           [
            0.6
           ],
           [
            0.6
           ],
           [
            0.6
           ],
           [
            0.6
           ],
           [
            0.6
           ],
           [
            0.6
           ],
           [
            0.6
           ],
           [
            0.6
           ],
           [
            0.6
           ],
           [
            0.6
           ],
           [
            0.6
           ],
           [
            0.6
           ],
           [
            0.6
           ],
           [
            0.6
           ],
           [
            0.6
           ],
           [
            0.6
           ],
           [
            0.6
           ],
           [
            0.6
           ],
           [
            0.6
           ],
           [
            0.6
           ],
           [
            0.6
           ],
           [
            0.6
           ],
           [
            0.6
           ],
           [
            0.6
           ],
           [
            0.6
           ],
           [
            0.6
           ],
           [
            0.6
           ],
           [
            0.6
           ],
           [
            0.6
           ],
           [
            0.6
           ],
           [
            0.6
           ],
           [
            0.6
           ],
           [
            0.6
           ],
           [
            0.6
           ],
           [
            0.6
           ],
           [
            0.6
           ],
           [
            0.6
           ],
           [
            0.6
           ],
           [
            0.6
           ],
           [
            0.6
           ],
           [
            0.6
           ],
           [
            0.6
           ],
           [
            0.6
           ],
           [
            0.6
           ],
           [
            0.6
           ],
           [
            0.6
           ],
           [
            0.6
           ],
           [
            0.6
           ],
           [
            0.6
           ],
           [
            0.6
           ],
           [
            0.6
           ],
           [
            0.6
           ],
           [
            0.6
           ],
           [
            0.6
           ],
           [
            0.6
           ],
           [
            0.6
           ],
           [
            0.6
           ],
           [
            0.6
           ],
           [
            0.6
           ],
           [
            0.6
           ],
           [
            0.6
           ],
           [
            0.6
           ],
           [
            0.6
           ],
           [
            0.6
           ],
           [
            0.6
           ],
           [
            0.6
           ],
           [
            0.6
           ],
           [
            0.6
           ],
           [
            0.6
           ],
           [
            0.6
           ],
           [
            0.6
           ],
           [
            0.6
           ],
           [
            0.6
           ],
           [
            0.6
           ],
           [
            0.6
           ],
           [
            0.6
           ],
           [
            0.6
           ],
           [
            0.6
           ],
           [
            0.6
           ],
           [
            0.6
           ],
           [
            0.6
           ],
           [
            0.6
           ],
           [
            0.6
           ],
           [
            0.6
           ],
           [
            0.6
           ],
           [
            0.6
           ],
           [
            0.6
           ],
           [
            0.6
           ],
           [
            0.6
           ],
           [
            0.6
           ],
           [
            0.6
           ],
           [
            0.6
           ],
           [
            0.6
           ],
           [
            0.6
           ],
           [
            0.6
           ],
           [
            0.6
           ],
           [
            0.6
           ],
           [
            0.6
           ],
           [
            0.6
           ],
           [
            0.6
           ],
           [
            0.6
           ],
           [
            0.6
           ],
           [
            0.6
           ],
           [
            0.6
           ],
           [
            0.6
           ],
           [
            0.6
           ],
           [
            0.6
           ],
           [
            0.6
           ],
           [
            0.6
           ],
           [
            0.6
           ],
           [
            0.6
           ],
           [
            0.6
           ],
           [
            0.6
           ],
           [
            0.6
           ],
           [
            0.6
           ],
           [
            0.6
           ],
           [
            0.6
           ],
           [
            0.6
           ],
           [
            0.6
           ],
           [
            0.6
           ],
           [
            0.6
           ],
           [
            0.6
           ],
           [
            0.6
           ],
           [
            0.6
           ],
           [
            0.6
           ],
           [
            0.6
           ],
           [
            0.6
           ],
           [
            0.6
           ],
           [
            0.6
           ],
           [
            0.6
           ],
           [
            0.6
           ],
           [
            0.6
           ],
           [
            0.6
           ],
           [
            0.6
           ],
           [
            0.6
           ],
           [
            0.6
           ],
           [
            0.6
           ],
           [
            0.6
           ],
           [
            0.6
           ],
           [
            0.6
           ],
           [
            0.6
           ],
           [
            0.6
           ],
           [
            0.6
           ],
           [
            0.6
           ]
          ],
          "size": [
           15,
           15,
           10,
           10,
           10,
           5,
           5,
           5,
           5,
           5,
           5,
           5,
           5,
           5,
           5,
           5,
           5,
           5,
           5,
           5,
           5,
           5,
           5,
           5,
           10,
           10,
           5,
           5,
           5,
           5,
           5,
           5,
           5,
           50,
           45,
           25,
           20,
           15,
           10,
           5,
           5,
           110,
           80,
           60,
           50,
           50,
           45,
           45,
           45,
           40,
           40,
           40,
           40,
           40,
           35,
           35,
           30,
           25,
           20,
           20,
           20,
           15,
           15,
           15,
           15,
           15,
           15,
           15,
           10,
           10,
           10,
           10,
           10,
           10,
           10,
           10,
           5,
           5,
           5,
           5,
           5,
           5,
           5,
           5,
           5,
           60,
           35,
           30,
           25,
           25,
           20,
           20,
           10,
           10,
           10,
           10,
           10,
           10,
           10,
           10,
           10,
           10,
           10,
           10,
           5,
           5,
           5,
           5,
           5,
           5,
           5,
           5,
           5,
           5,
           5,
           5,
           5,
           5,
           5,
           15,
           10,
           10,
           10,
           10,
           10,
           10,
           5,
           5,
           5,
           5,
           5,
           5,
           5,
           5,
           5
          ]
         },
         "mode": "markers",
         "name": "Female",
         "type": "scatter",
         "uid": "620ee9d3-464d-43dd-8c0a-448cae1b4a98",
         "x": [
          "University <br>graduate",
          "University <br>without <br>graduating",
          "University <br>graduate",
          "University <br>graduate",
          "University <br>graduate",
          "University <br>graduate",
          "University <br>graduate",
          "University <br>graduate",
          "University <br>graduate",
          "Completed <br>Compulsory<br>Secondary <br>Education",
          "Completed <br>Compulsory<br>Secondary <br>Education",
          "Vocational <br>Training",
          "University <br>without <br>graduating",
          "University <br>graduate",
          "University <br>graduate",
          "University <br>graduate",
          "University <br>graduate",
          "University <br>without <br>graduating",
          "University <br>graduate",
          "University <br>without <br>graduating",
          "Completed <br>Compulsory<br>Secondary <br>Education",
          "Vocational <br>Training",
          "University <br>graduate",
          "University <br>without <br>graduating",
          "Vocational <br>Training",
          "Primary <br>education",
          "University <br>without <br>graduating",
          "University <br>graduate",
          "Unfinished <br>Compulsory<br>Secondary <br>Education",
          "Unfinished <br>Compulsory<br>Secondary <br>Education",
          "Unfinished <br>Compulsory<br>Secondary <br>Education",
          "Unfinished <br>Compulsory<br>Secondary <br>Education",
          "Unfinished <br>Compulsory<br>Secondary <br>Education",
          "Unfinished <br>Compulsory<br>Secondary <br>Education",
          "University <br>graduate",
          "University <br>graduate",
          "Vocational <br>Training",
          "University <br>graduate",
          "University <br>without <br>graduating",
          "University <br>without <br>graduating",
          "University <br>without <br>graduating",
          "University <br>graduate",
          "University <br>graduate",
          "University <br>graduate",
          "University <br>without <br>graduating",
          "University <br>graduate",
          "University <br>without <br>graduating",
          "University <br>graduate",
          "University <br>graduate",
          "University <br>graduate",
          "University <br>without <br>graduating",
          "University <br>without <br>graduating",
          "University <br>without <br>graduating",
          "University <br>without <br>graduating",
          "University <br>without <br>graduating",
          "University <br>without <br>graduating",
          "University <br>without <br>graduating",
          "University <br>without <br>graduating",
          "Unfinished <br>Compulsory<br>Secondary <br>Education",
          "Unfinished <br>Compulsory<br>Secondary <br>Education",
          "Unfinished <br>Compulsory<br>Secondary <br>Education",
          "University <br>graduate",
          "University <br>graduate",
          "Unfinished <br>Compulsory<br>Secondary <br>Education",
          "Unfinished <br>Compulsory<br>Secondary <br>Education",
          "Unfinished <br>Compulsory<br>Secondary <br>Education",
          "Unfinished <br>Compulsory<br>Secondary <br>Education",
          "Unfinished <br>Compulsory<br>Secondary <br>Education",
          "Unfinished <br>Compulsory<br>Secondary <br>Education",
          "University <br>without <br>graduating",
          "Unfinished <br>Compulsory<br>Secondary <br>Education",
          "University <br>graduate",
          "University <br>without <br>graduating",
          "University <br>graduate",
          "Vocational <br>Training",
          "University <br>graduate",
          "University <br>graduate",
          "University <br>graduate",
          "University <br>graduate",
          "University <br>graduate",
          "Vocational <br>Training",
          "University <br>graduate",
          "Vocational <br>Training",
          "Vocational <br>Training",
          "Completed <br>Compulsory<br>Secondary <br>Education",
          "University <br>without <br>graduating",
          "University <br>graduate",
          "University <br>graduate",
          "University <br>graduate",
          "Completed <br>Compulsory<br>Secondary <br>Education",
          "University <br>without <br>graduating",
          "University <br>without <br>graduating",
          "University <br>without <br>graduating",
          "University <br>without <br>graduating",
          "University <br>without <br>graduating",
          "University <br>without <br>graduating",
          "University <br>graduate",
          "University <br>graduate",
          "University <br>graduate",
          "University <br>graduate",
          "University <br>graduate",
          "University <br>graduate",
          "University <br>graduate",
          "University <br>graduate",
          "University <br>graduate",
          "University <br>graduate",
          "University <br>graduate",
          "University <br>graduate",
          "University <br>graduate",
          "University <br>without <br>graduating",
          "University <br>graduate",
          "University <br>without <br>graduating",
          "University <br>graduate",
          "University <br>graduate",
          "University <br>without <br>graduating",
          "Vocational <br>Training",
          "University <br>without <br>graduating",
          "University <br>without <br>graduating",
          "Unfinished <br>Compulsory<br>Secondary <br>Education",
          "Unfinished <br>Compulsory<br>Secondary <br>Education",
          "Unfinished <br>Compulsory<br>Secondary <br>Education",
          "University <br>graduate",
          "Completed <br>Compulsory<br>Secondary <br>Education",
          "Vocational <br>Training",
          "Unfinished <br>Compulsory<br>Secondary <br>Education",
          "Unfinished <br>Compulsory<br>Secondary <br>Education",
          "Unfinished <br>Compulsory<br>Secondary <br>Education",
          "Unfinished <br>Compulsory<br>Secondary <br>Education",
          "Unfinished <br>Compulsory<br>Secondary <br>Education",
          "Unfinished <br>Compulsory<br>Secondary <br>Education",
          "Unfinished <br>Compulsory<br>Secondary <br>Education",
          "Unfinished <br>Compulsory<br>Secondary <br>Education",
          "Unfinished <br>Compulsory<br>Secondary <br>Education",
          "Unfinished <br>Compulsory<br>Secondary <br>Education",
          "Unfinished <br>Compulsory<br>Secondary <br>Education",
          "Unfinished <br>Compulsory<br>Secondary <br>Education",
          "University <br>graduate",
          "University <br>without <br>graduating",
          "University <br>without <br>graduating",
          "University <br>without <br>graduating",
          "Vocational <br>Training",
          "University <br>graduate",
          "University <br>without <br>graduating",
          "University <br>graduate",
          "University <br>graduate",
          "University <br>graduate",
          "University <br>graduate",
          "Primary <br>education",
          "University <br>graduate",
          "University <br>graduate",
          "University <br>graduate",
          "University <br>graduate",
          "University <br>graduate",
          "University <br>without <br>graduating",
          "Completed <br>Compulsory<br>Secondary <br>Education",
          "University <br>graduate",
          "University <br>without <br>graduating",
          "Completed <br>Compulsory<br>Secondary <br>Education",
          "University <br>graduate",
          "University <br>graduate",
          "Vocational <br>Training",
          "University <br>graduate",
          "University <br>graduate",
          "University <br>graduate",
          "University <br>graduate",
          "University <br>without <br>graduating",
          "University <br>graduate",
          "University <br>graduate",
          "University <br>graduate",
          "University <br>graduate",
          "University <br>graduate",
          "University <br>graduate",
          "University <br>graduate",
          "University <br>graduate",
          "University <br>graduate",
          "University <br>graduate",
          "University <br>graduate",
          "University <br>graduate",
          "Completed <br>Compulsory<br>Secondary <br>Education",
          "University <br>without <br>graduating",
          "University <br>graduate",
          "University <br>graduate",
          "Unfinished <br>Compulsory<br>Secondary <br>Education",
          "University <br>graduate",
          "University <br>graduate",
          "University <br>graduate",
          "Primary <br>education",
          "Vocational <br>Training",
          "University <br>graduate",
          "University <br>graduate",
          "Vocational <br>Training",
          "University <br>graduate",
          "University <br>graduate",
          "Vocational <br>Training",
          "University <br>graduate",
          "University <br>graduate",
          "University <br>graduate",
          "University <br>graduate",
          "University <br>graduate",
          "Primary <br>education",
          "University <br>graduate",
          "Completed <br>Compulsory<br>Secondary <br>Education",
          "University <br>graduate",
          "Vocational <br>Training",
          "Primary <br>education",
          "University <br>without <br>graduating",
          "University <br>graduate",
          "University <br>graduate",
          "University <br>graduate",
          "Completed <br>Compulsory<br>Secondary <br>Education",
          "University <br>graduate",
          "University <br>without <br>graduating",
          "Completed <br>Compulsory<br>Secondary <br>Education",
          "University <br>graduate",
          "University <br>graduate",
          "University <br>graduate",
          "University <br>graduate",
          "University <br>graduate",
          "University <br>without <br>graduating",
          "University <br>without <br>graduating",
          "University <br>graduate",
          "University <br>without <br>graduating",
          "University <br>graduate",
          "University <br>graduate",
          "University <br>graduate",
          "Completed <br>Compulsory<br>Secondary <br>Education",
          "University <br>without <br>graduating",
          "University <br>graduate",
          "University <br>graduate",
          "University <br>graduate",
          "University <br>graduate",
          "University <br>graduate",
          "Vocational <br>Training",
          "University <br>graduate",
          "University <br>graduate",
          "University <br>graduate",
          "University <br>graduate",
          "University <br>graduate",
          "University <br>graduate",
          "University <br>graduate",
          "Completed <br>Compulsory<br>Secondary <br>Education",
          "University <br>without <br>graduating",
          "Completed <br>Compulsory<br>Secondary <br>Education",
          "University <br>graduate",
          "University <br>graduate",
          "University <br>graduate",
          "University <br>without <br>graduating",
          "University <br>graduate",
          "University <br>graduate",
          "Primary <br>education",
          "University <br>graduate",
          "Completed <br>Compulsory<br>Secondary <br>Education",
          "University <br>without <br>graduating",
          "Completed <br>Compulsory<br>Secondary <br>Education",
          "University <br>graduate",
          "Completed <br>Compulsory<br>Secondary <br>Education",
          "University <br>without <br>graduating",
          "University <br>graduate",
          "Completed <br>Compulsory<br>Secondary <br>Education",
          "University <br>graduate",
          "Primary <br>education",
          "University <br>graduate",
          "University <br>graduate",
          "University <br>graduate",
          "University <br>without <br>graduating",
          "University <br>graduate",
          "Completed <br>Compulsory<br>Secondary <br>Education",
          "University <br>without <br>graduating",
          "University <br>graduate",
          "University <br>graduate",
          "University <br>graduate",
          "University <br>without <br>graduating",
          "Completed <br>Compulsory<br>Secondary <br>Education",
          "University <br>graduate",
          "University <br>graduate",
          "University <br>without <br>graduating",
          "University <br>graduate",
          "Vocational <br>Training",
          "University <br>without <br>graduating",
          "University <br>graduate",
          "Completed <br>Compulsory<br>Secondary <br>Education",
          "Primary <br>education",
          "University <br>graduate",
          "University <br>graduate",
          "University <br>graduate",
          "University <br>graduate",
          "University <br>graduate",
          "University <br>graduate",
          "University <br>without <br>graduating",
          "University <br>graduate",
          "University <br>graduate",
          "Vocational <br>Training",
          "University <br>without <br>graduating",
          "University <br>without <br>graduating",
          "Primary <br>education",
          "University <br>without <br>graduating",
          "University <br>graduate",
          "Completed <br>Compulsory<br>Secondary <br>Education",
          "University <br>graduate",
          "University <br>without <br>graduating",
          "University <br>graduate",
          "University <br>graduate",
          "University <br>graduate",
          "University <br>graduate",
          "Vocational <br>Training",
          "Unfinished <br>Compulsory<br>Secondary <br>Education",
          "University <br>without <br>graduating",
          "University <br>graduate",
          "University <br>graduate",
          "University <br>graduate",
          "University <br>graduate",
          "Completed <br>Compulsory<br>Secondary <br>Education",
          "University <br>without <br>graduating",
          "University <br>without <br>graduating",
          "University <br>graduate",
          "University <br>graduate",
          "University <br>graduate",
          "University <br>graduate",
          "University <br>graduate",
          "Completed <br>Compulsory<br>Secondary <br>Education",
          "University <br>without <br>graduating",
          "University <br>without <br>graduating",
          "University <br>graduate",
          "University <br>without <br>graduating",
          "University <br>graduate",
          "University <br>graduate",
          "University <br>graduate",
          "Completed <br>Compulsory<br>Secondary <br>Education",
          "University <br>graduate",
          "University <br>graduate",
          "University <br>graduate",
          "University <br>graduate",
          "University <br>graduate",
          "University <br>graduate",
          "University <br>graduate",
          "University <br>graduate",
          "Completed <br>Compulsory<br>Secondary <br>Education",
          "Unfinished <br>Compulsory<br>Secondary <br>Education",
          "University <br>without <br>graduating",
          "Vocational <br>Training",
          "University <br>without <br>graduating",
          "University <br>without <br>graduating",
          "Completed <br>Compulsory<br>Secondary <br>Education",
          "University <br>without <br>graduating",
          "University <br>graduate",
          "University <br>without <br>graduating",
          "University <br>without <br>graduating",
          "Primary <br>education",
          "University <br>graduate",
          "Unfinished <br>Compulsory<br>Secondary <br>Education",
          "University <br>graduate",
          "University <br>graduate",
          "University <br>graduate",
          "University <br>without <br>graduating",
          "University <br>without <br>graduating",
          "Primary <br>education",
          "University <br>graduate",
          "University <br>graduate",
          "University <br>graduate",
          "University <br>graduate",
          "University <br>without <br>graduating",
          "University <br>graduate",
          "University <br>graduate",
          "Vocational <br>Training",
          "University <br>graduate",
          "University <br>graduate",
          "University <br>graduate",
          "University <br>graduate",
          "Completed <br>Compulsory<br>Secondary <br>Education",
          "University <br>graduate",
          "University <br>graduate",
          "University <br>graduate",
          "University <br>graduate",
          "University <br>graduate",
          "University <br>graduate",
          "Completed <br>Compulsory<br>Secondary <br>Education",
          "University <br>without <br>graduating",
          "University <br>graduate",
          "University <br>graduate",
          "University <br>graduate",
          "Vocational <br>Training",
          "University <br>graduate",
          "Vocational <br>Training",
          "University <br>graduate",
          "University <br>graduate",
          "University <br>without <br>graduating",
          "University <br>graduate",
          "University <br>without <br>graduating",
          "University <br>graduate",
          "University <br>graduate",
          "University <br>without <br>graduating",
          "University <br>graduate",
          "University <br>graduate",
          "Completed <br>Compulsory<br>Secondary <br>Education",
          "University <br>without <br>graduating",
          "University <br>graduate",
          "University <br>graduate",
          "University <br>graduate",
          "University <br>graduate",
          "University <br>graduate",
          "University <br>graduate",
          "University <br>graduate",
          "University <br>without <br>graduating"
         ],
         "y": [
          31,
          24,
          30,
          42,
          32,
          30,
          31,
          35,
          23,
          28,
          41,
          32,
          22,
          33,
          46,
          24,
          43,
          21,
          50,
          57,
          46,
          53,
          44,
          18,
          27,
          64,
          18,
          23,
          15,
          15,
          15,
          16,
          16,
          17,
          31,
          35,
          32,
          31,
          21,
          22,
          20,
          35,
          48,
          29,
          42,
          28,
          21,
          28,
          27,
          62,
          19,
          21,
          22,
          23,
          18,
          19,
          18,
          51,
          15,
          15,
          14,
          26,
          34,
          17,
          17,
          16,
          15,
          15,
          16,
          19,
          16,
          35,
          38,
          34,
          30,
          34,
          41,
          35,
          35,
          36,
          46,
          32,
          55,
          34,
          37,
          21,
          52,
          31,
          25,
          31,
          20,
          19,
          19,
          19,
          18,
          20,
          39,
          44,
          28,
          41,
          57,
          55,
          28,
          61,
          62,
          43,
          39,
          46,
          55,
          21,
          45,
          27,
          46,
          32,
          21,
          26,
          19,
          21,
          15,
          13,
          15,
          30,
          62,
          24,
          14,
          14,
          14,
          14,
          13,
          13,
          14,
          14,
          14,
          15,
          14,
          13,
          53,
          21,
          21,
          81,
          42,
          26,
          27,
          27,
          26,
          37,
          32,
          25,
          29,
          30,
          29,
          37,
          28,
          22,
          27,
          44,
          35,
          35,
          27,
          35,
          61,
          27,
          31,
          23,
          33,
          22,
          37,
          31,
          30,
          24,
          49,
          32,
          35,
          41,
          26,
          30,
          35,
          35,
          22,
          39,
          33,
          37,
          21,
          30,
          27,
          56,
          35,
          24,
          36,
          24,
          34,
          30,
          33,
          55,
          26,
          25,
          37,
          46,
          59,
          25,
          23,
          29,
          32,
          55,
          27,
          26,
          23,
          26,
          51,
          62,
          51,
          30,
          60,
          54,
          48,
          32,
          26,
          29,
          39,
          40,
          31,
          21,
          56,
          24,
          34,
          43,
          56,
          34,
          46,
          35,
          49,
          28,
          33,
          26,
          29,
          47,
          27,
          28,
          43,
          54,
          31,
          24,
          40,
          30,
          38,
          38,
          23,
          24,
          24,
          30,
          24,
          29,
          26,
          52,
          29,
          51,
          56,
          22,
          30,
          22,
          37,
          24,
          38,
          25,
          28,
          46,
          46,
          48,
          33,
          24,
          33,
          32,
          36,
          33,
          45,
          42,
          34,
          38,
          20,
          37,
          20,
          44,
          27,
          30,
          57,
          40,
          34,
          24,
          66,
          46,
          35,
          20,
          38,
          30,
          28,
          27,
          56,
          24,
          45,
          59,
          27,
          33,
          41,
          31,
          64,
          34,
          81,
          43,
          38,
          24,
          46,
          25,
          29,
          67,
          69,
          73,
          30,
          38,
          42,
          31,
          50,
          55,
          32,
          25,
          53,
          45,
          35,
          46,
          33,
          25,
          45,
          62,
          24,
          27,
          30,
          50,
          28,
          43,
          33,
          50,
          40,
          47,
          55,
          26,
          48,
          67,
          27,
          28,
          38,
          43,
          47,
          24,
          38,
          27,
          21,
          43,
          36,
          60,
          25,
          25,
          45,
          29,
          24,
          27,
          44,
          54,
          37,
          58,
          65,
          34,
          53,
          35,
          78,
          33,
          23,
          18,
          36,
          24,
          37,
          26,
          53,
          25,
          38,
          24,
          28,
          37,
          35,
          33,
          31,
          29,
          25,
          35,
          50,
          26,
          26,
          24,
          24,
          34,
          24,
          24,
          24,
          24,
          27
         ]
        },
        {
         "marker": {
          "opacity": [
           [
            0.6
           ],
           [
            0.6
           ],
           [
            0.6
           ],
           [
            0.6
           ],
           [
            0.6
           ],
           [
            0.6
           ],
           [
            0.6
           ],
           [
            0.6
           ],
           [
            0.6
           ],
           [
            0.6
           ],
           [
            0.6
           ],
           [
            0.6
           ],
           [
            0.6
           ],
           [
            0.6
           ],
           [
            0.6
           ],
           [
            0.6
           ],
           [
            0.6
           ],
           [
            0.6
           ],
           [
            0.6
           ],
           [
            0.6
           ],
           [
            0.6
           ],
           [
            0.6
           ],
           [
            0.6
           ],
           [
            0.6
           ],
           [
            0.6
           ],
           [
            0.6
           ],
           [
            0.6
           ],
           [
            0.6
           ],
           [
            0.6
           ],
           [
            0.6
           ],
           [
            0.6
           ],
           [
            0.6
           ],
           [
            0.6
           ],
           [
            0.6
           ],
           [
            0.6
           ],
           [
            0.6
           ],
           [
            0.6
           ],
           [
            0.6
           ],
           [
            0.6
           ],
           [
            0.6
           ],
           [
            0.6
           ],
           [
            0.6
           ],
           [
            0.6
           ],
           [
            0.6
           ],
           [
            0.6
           ],
           [
            0.6
           ],
           [
            0.6
           ],
           [
            0.6
           ],
           [
            0.6
           ],
           [
            0.6
           ],
           [
            0.6
           ],
           [
            0.6
           ],
           [
            0.6
           ],
           [
            0.6
           ],
           [
            0.6
           ],
           [
            0.6
           ],
           [
            0.6
           ],
           [
            0.6
           ],
           [
            0.6
           ],
           [
            0.6
           ],
           [
            0.6
           ],
           [
            0.6
           ],
           [
            0.6
           ],
           [
            0.6
           ],
           [
            0.6
           ],
           [
            0.6
           ],
           [
            0.6
           ],
           [
            0.6
           ],
           [
            0.6
           ],
           [
            0.6
           ],
           [
            0.6
           ],
           [
            0.6
           ],
           [
            0.6
           ],
           [
            0.6
           ],
           [
            0.6
           ],
           [
            0.6
           ],
           [
            0.6
           ],
           [
            0.6
           ],
           [
            0.6
           ],
           [
            0.6
           ],
           [
            0.6
           ],
           [
            0.6
           ],
           [
            0.6
           ],
           [
            0.6
           ],
           [
            0.6
           ],
           [
            0.6
           ],
           [
            0.6
           ],
           [
            0.6
           ],
           [
            0.6
           ],
           [
            0.6
           ],
           [
            0.6
           ],
           [
            0.6
           ],
           [
            0.6
           ],
           [
            0.6
           ],
           [
            0.6
           ],
           [
            0.6
           ],
           [
            0.6
           ],
           [
            0.6
           ],
           [
            0.6
           ],
           [
            0.6
           ],
           [
            0.6
           ],
           [
            0.6
           ],
           [
            0.6
           ],
           [
            0.6
           ],
           [
            0.6
           ],
           [
            0.6
           ],
           [
            0.6
           ],
           [
            0.6
           ],
           [
            0.6
           ],
           [
            0.6
           ],
           [
            0.6
           ],
           [
            0.6
           ],
           [
            0.6
           ],
           [
            0.6
           ],
           [
            0.6
           ],
           [
            0.6
           ],
           [
            0.6
           ],
           [
            0.6
           ],
           [
            0.6
           ],
           [
            0.6
           ],
           [
            0.6
           ],
           [
            0.6
           ],
           [
            0.6
           ],
           [
            0.6
           ],
           [
            0.6
           ],
           [
            0.6
           ],
           [
            0.6
           ],
           [
            0.6
           ],
           [
            0.6
           ],
           [
            0.6
           ],
           [
            0.6
           ],
           [
            0.6
           ],
           [
            0.6
           ],
           [
            0.6
           ],
           [
            0.6
           ],
           [
            0.6
           ],
           [
            0.6
           ],
           [
            0.6
           ],
           [
            0.6
           ],
           [
            0.6
           ],
           [
            0.6
           ],
           [
            0.6
           ],
           [
            0.6
           ],
           [
            0.6
           ],
           [
            0.6
           ],
           [
            0.6
           ],
           [
            0.6
           ],
           [
            0.6
           ],
           [
            0.6
           ],
           [
            0.6
           ],
           [
            0.6
           ],
           [
            0.6
           ],
           [
            0.6
           ],
           [
            0.6
           ],
           [
            0.6
           ],
           [
            0.6
           ],
           [
            0.6
           ],
           [
            0.6
           ],
           [
            0.6
           ],
           [
            0.6
           ],
           [
            0.6
           ],
           [
            0.6
           ],
           [
            0.6
           ],
           [
            0.6
           ],
           [
            0.6
           ],
           [
            0.6
           ],
           [
            0.6
           ],
           [
            0.6
           ],
           [
            0.6
           ],
           [
            0.6
           ],
           [
            0.6
           ],
           [
            0.6
           ],
           [
            0.6
           ],
           [
            0.6
           ],
           [
            0.6
           ],
           [
            0.6
           ],
           [
            0.6
           ],
           [
            0.6
           ],
           [
            0.6
           ],
           [
            0.6
           ],
           [
            0.6
           ],
           [
            0.6
           ],
           [
            0.6
           ],
           [
            0.6
           ],
           [
            0.6
           ],
           [
            0.6
           ],
           [
            0.6
           ],
           [
            0.6
           ],
           [
            0.6
           ],
           [
            0.6
           ],
           [
            0.6
           ],
           [
            0.6
           ],
           [
            0.6
           ],
           [
            0.6
           ],
           [
            0.6
           ],
           [
            0.6
           ],
           [
            0.6
           ],
           [
            0.6
           ],
           [
            0.6
           ],
           [
            0.6
           ],
           [
            0.6
           ],
           [
            0.6
           ],
           [
            0.6
           ],
           [
            0.6
           ],
           [
            0.6
           ],
           [
            0.6
           ],
           [
            0.6
           ],
           [
            0.6
           ],
           [
            0.6
           ],
           [
            0.6
           ],
           [
            0.6
           ],
           [
            0.6
           ],
           [
            0.6
           ],
           [
            0.6
           ],
           [
            0.6
           ],
           [
            0.6
           ],
           [
            0.6
           ],
           [
            0.6
           ],
           [
            0.6
           ],
           [
            0.6
           ],
           [
            0.6
           ],
           [
            0.6
           ],
           [
            0.6
           ],
           [
            0.6
           ],
           [
            0.6
           ],
           [
            0.6
           ],
           [
            0.6
           ],
           [
            0.6
           ],
           [
            0.6
           ],
           [
            0.6
           ],
           [
            0.6
           ],
           [
            0.6
           ],
           [
            0.6
           ],
           [
            0.6
           ],
           [
            0.6
           ],
           [
            0.6
           ],
           [
            0.6
           ],
           [
            0.6
           ],
           [
            0.6
           ],
           [
            0.6
           ],
           [
            0.6
           ],
           [
            0.6
           ],
           [
            0.6
           ],
           [
            0.6
           ],
           [
            0.6
           ],
           [
            0.6
           ],
           [
            0.6
           ],
           [
            0.6
           ],
           [
            0.6
           ],
           [
            0.6
           ],
           [
            0.6
           ],
           [
            0.6
           ],
           [
            0.6
           ],
           [
            0.6
           ],
           [
            0.6
           ],
           [
            0.6
           ],
           [
            0.6
           ],
           [
            0.6
           ],
           [
            0.6
           ],
           [
            0.6
           ],
           [
            0.6
           ],
           [
            0.6
           ],
           [
            0.6
           ],
           [
            0.6
           ],
           [
            0.6
           ],
           [
            0.6
           ],
           [
            0.6
           ],
           [
            0.6
           ],
           [
            0.6
           ],
           [
            0.6
           ],
           [
            0.6
           ],
           [
            0.6
           ],
           [
            0.6
           ],
           [
            0.6
           ],
           [
            0.6
           ],
           [
            0.6
           ],
           [
            0.6
           ],
           [
            0.6
           ],
           [
            0.6
           ],
           [
            0.6
           ],
           [
            0.6
           ],
           [
            0.6
           ],
           [
            0.6
           ],
           [
            0.6
           ],
           [
            0.6
           ],
           [
            0.6
           ],
           [
            0.6
           ],
           [
            0.6
           ],
           [
            0.6
           ],
           [
            0.6
           ],
           [
            0.6
           ],
           [
            0.6
           ],
           [
            0.6
           ],
           [
            0.6
           ],
           [
            0.6
           ],
           [
            0.6
           ],
           [
            0.6
           ],
           [
            0.6
           ],
           [
            0.6
           ],
           [
            0.6
           ],
           [
            0.6
           ],
           [
            0.6
           ],
           [
            0.6
           ],
           [
            0.6
           ],
           [
            0.6
           ],
           [
            0.6
           ],
           [
            0.6
           ],
           [
            0.6
           ],
           [
            0.6
           ],
           [
            0.6
           ],
           [
            0.6
           ],
           [
            0.6
           ],
           [
            0.6
           ],
           [
            0.6
           ],
           [
            0.6
           ],
           [
            0.6
           ],
           [
            0.6
           ],
           [
            0.6
           ],
           [
            0.6
           ],
           [
            0.6
           ],
           [
            0.6
           ],
           [
            0.6
           ],
           [
            0.6
           ],
           [
            0.6
           ],
           [
            0.6
           ],
           [
            0.6
           ],
           [
            0.6
           ],
           [
            0.6
           ],
           [
            0.6
           ],
           [
            0.6
           ],
           [
            0.6
           ],
           [
            0.6
           ],
           [
            0.6
           ],
           [
            0.6
           ],
           [
            0.6
           ],
           [
            0.6
           ],
           [
            0.6
           ],
           [
            0.6
           ],
           [
            0.6
           ],
           [
            0.6
           ],
           [
            0.6
           ],
           [
            0.6
           ],
           [
            0.6
           ],
           [
            0.6
           ],
           [
            0.6
           ],
           [
            0.6
           ],
           [
            0.6
           ],
           [
            0.6
           ],
           [
            0.6
           ],
           [
            0.6
           ],
           [
            0.6
           ],
           [
            0.6
           ],
           [
            0.6
           ],
           [
            0.6
           ],
           [
            0.6
           ],
           [
            0.6
           ],
           [
            0.6
           ],
           [
            0.6
           ],
           [
            0.6
           ],
           [
            0.6
           ],
           [
            0.6
           ],
           [
            0.6
           ],
           [
            0.6
           ],
           [
            0.6
           ],
           [
            0.6
           ],
           [
            0.6
           ],
           [
            0.6
           ],
           [
            0.6
           ],
           [
            0.6
           ],
           [
            0.6
           ],
           [
            0.6
           ],
           [
            0.6
           ],
           [
            0.6
           ],
           [
            0.6
           ],
           [
            0.6
           ],
           [
            0.6
           ],
           [
            0.6
           ],
           [
            0.6
           ],
           [
            0.6
           ],
           [
            0.6
           ],
           [
            0.6
           ],
           [
            0.6
           ],
           [
            0.6
           ],
           [
            0.6
           ],
           [
            0.6
           ],
           [
            0.6
           ],
           [
            0.6
           ],
           [
            0.6
           ],
           [
            0.6
           ],
           [
            0.6
           ],
           [
            0.6
           ],
           [
            0.6
           ],
           [
            0.6
           ],
           [
            0.6
           ],
           [
            0.6
           ],
           [
            0.6
           ],
           [
            0.6
           ],
           [
            0.6
           ],
           [
            0.6
           ],
           [
            0.6
           ],
           [
            0.6
           ],
           [
            0.6
           ],
           [
            0.6
           ],
           [
            0.6
           ],
           [
            0.6
           ],
           [
            0.6
           ],
           [
            0.6
           ],
           [
            0.6
           ],
           [
            0.6
           ],
           [
            0.6
           ],
           [
            0.6
           ],
           [
            0.6
           ],
           [
            0.6
           ],
           [
            0.6
           ],
           [
            0.6
           ],
           [
            0.6
           ],
           [
            0.6
           ],
           [
            0.6
           ],
           [
            0.6
           ],
           [
            0.6
           ],
           [
            0.6
           ],
           [
            0.6
           ],
           [
            0.6
           ],
           [
            0.6
           ],
           [
            0.6
           ],
           [
            0.6
           ],
           [
            0.6
           ],
           [
            0.6
           ],
           [
            0.6
           ],
           [
            0.6
           ],
           [
            0.6
           ],
           [
            0.6
           ],
           [
            0.6
           ],
           [
            0.6
           ],
           [
            0.6
           ],
           [
            0.6
           ],
           [
            0.6
           ],
           [
            0.6
           ],
           [
            0.6
           ],
           [
            0.6
           ],
           [
            0.6
           ],
           [
            0.6
           ],
           [
            0.6
           ],
           [
            0.6
           ],
           [
            0.6
           ],
           [
            0.6
           ],
           [
            0.6
           ],
           [
            0.6
           ],
           [
            0.6
           ],
           [
            0.6
           ],
           [
            0.6
           ],
           [
            0.6
           ],
           [
            0.6
           ],
           [
            0.6
           ],
           [
            0.6
           ],
           [
            0.6
           ],
           [
            0.6
           ],
           [
            0.6
           ],
           [
            0.6
           ],
           [
            0.6
           ],
           [
            0.6
           ],
           [
            0.6
           ],
           [
            0.6
           ],
           [
            0.6
           ],
           [
            0.6
           ],
           [
            0.6
           ],
           [
            0.6
           ],
           [
            0.6
           ],
           [
            0.6
           ],
           [
            0.6
           ],
           [
            0.6
           ],
           [
            0.6
           ],
           [
            0.6
           ],
           [
            0.6
           ],
           [
            0.6
           ],
           [
            0.6
           ],
           [
            0.6
           ],
           [
            0.6
           ],
           [
            0.6
           ],
           [
            0.6
           ],
           [
            0.6
           ],
           [
            0.6
           ],
           [
            0.6
           ],
           [
            0.6
           ],
           [
            0.6
           ],
           [
            0.6
           ],
           [
            0.6
           ],
           [
            0.6
           ],
           [
            0.6
           ],
           [
            0.6
           ],
           [
            0.6
           ],
           [
            0.6
           ],
           [
            0.6
           ],
           [
            0.6
           ],
           [
            0.6
           ],
           [
            0.6
           ],
           [
            0.6
           ],
           [
            0.6
           ],
           [
            0.6
           ],
           [
            0.6
           ],
           [
            0.6
           ],
           [
            0.6
           ],
           [
            0.6
           ],
           [
            0.6
           ],
           [
            0.6
           ],
           [
            0.6
           ],
           [
            0.6
           ],
           [
            0.6
           ],
           [
            0.6
           ],
           [
            0.6
           ],
           [
            0.6
           ],
           [
            0.6
           ],
           [
            0.6
           ],
           [
            0.6
           ],
           [
            0.6
           ],
           [
            0.6
           ],
           [
            0.6
           ],
           [
            0.6
           ],
           [
            0.6
           ],
           [
            0.6
           ],
           [
            0.6
           ],
           [
            0.6
           ],
           [
            0.6
           ],
           [
            0.6
           ],
           [
            0.6
           ],
           [
            0.6
           ],
           [
            0.6
           ],
           [
            0.6
           ],
           [
            0.6
           ],
           [
            0.6
           ],
           [
            0.6
           ],
           [
            0.6
           ],
           [
            0.6
           ],
           [
            0.6
           ],
           [
            0.6
           ],
           [
            0.6
           ],
           [
            0.6
           ],
           [
            0.6
           ],
           [
            0.6
           ],
           [
            0.6
           ],
           [
            0.6
           ],
           [
            0.6
           ],
           [
            0.6
           ],
           [
            0.6
           ],
           [
            0.6
           ],
           [
            0.6
           ],
           [
            0.6
           ],
           [
            0.6
           ],
           [
            0.6
           ],
           [
            0.6
           ],
           [
            0.6
           ],
           [
            0.6
           ],
           [
            0.6
           ],
           [
            0.6
           ],
           [
            0.6
           ],
           [
            0.6
           ],
           [
            0.6
           ],
           [
            0.6
           ],
           [
            0.6
           ],
           [
            0.6
           ],
           [
            0.6
           ],
           [
            0.6
           ],
           [
            0.6
           ],
           [
            0.6
           ],
           [
            0.6
           ],
           [
            0.6
           ],
           [
            0.6
           ],
           [
            0.6
           ],
           [
            0.6
           ],
           [
            0.6
           ],
           [
            0.6
           ],
           [
            0.6
           ],
           [
            0.6
           ],
           [
            0.6
           ],
           [
            0.6
           ],
           [
            0.6
           ],
           [
            0.6
           ],
           [
            0.6
           ],
           [
            0.6
           ],
           [
            0.6
           ],
           [
            0.6
           ],
           [
            0.6
           ],
           [
            0.6
           ],
           [
            0.6
           ],
           [
            0.6
           ],
           [
            0.6
           ],
           [
            0.6
           ],
           [
            0.6
           ],
           [
            0.6
           ],
           [
            0.6
           ],
           [
            0.6
           ],
           [
            0.6
           ],
           [
            0.6
           ],
           [
            0.6
           ],
           [
            0.6
           ],
           [
            0.6
           ],
           [
            0.6
           ],
           [
            0.6
           ],
           [
            0.6
           ],
           [
            0.6
           ],
           [
            0.6
           ],
           [
            0.6
           ],
           [
            0.6
           ],
           [
            0.6
           ],
           [
            0.6
           ],
           [
            0.6
           ],
           [
            0.6
           ],
           [
            0.6
           ],
           [
            0.6
           ],
           [
            0.6
           ],
           [
            0.6
           ],
           [
            0.6
           ],
           [
            0.6
           ],
           [
            0.6
           ],
           [
            0.6
           ],
           [
            0.6
           ],
           [
            0.6
           ],
           [
            0.6
           ],
           [
            0.6
           ],
           [
            0.6
           ],
           [
            0.6
           ],
           [
            0.6
           ],
           [
            0.6
           ],
           [
            0.6
           ],
           [
            0.6
           ],
           [
            0.6
           ],
           [
            0.6
           ],
           [
            0.6
           ],
           [
            0.6
           ],
           [
            0.6
           ],
           [
            0.6
           ],
           [
            0.6
           ],
           [
            0.6
           ],
           [
            0.6
           ],
           [
            0.6
           ],
           [
            0.6
           ],
           [
            0.6
           ],
           [
            0.6
           ],
           [
            0.6
           ],
           [
            0.6
           ],
           [
            0.6
           ],
           [
            0.6
           ],
           [
            0.6
           ],
           [
            0.6
           ],
           [
            0.6
           ],
           [
            0.6
           ],
           [
            0.6
           ],
           [
            0.6
           ],
           [
            0.6
           ],
           [
            0.6
           ],
           [
            0.6
           ],
           [
            0.6
           ],
           [
            0.6
           ],
           [
            0.6
           ],
           [
            0.6
           ],
           [
            0.6
           ],
           [
            0.6
           ],
           [
            0.6
           ],
           [
            0.6
           ],
           [
            0.6
           ],
           [
            0.6
           ],
           [
            0.6
           ],
           [
            0.6
           ],
           [
            0.6
           ],
           [
            0.6
           ],
           [
            0.6
           ],
           [
            0.6
           ],
           [
            0.6
           ],
           [
            0.6
           ],
           [
            0.6
           ],
           [
            0.6
           ],
           [
            0.6
           ],
           [
            0.6
           ],
           [
            0.6
           ],
           [
            0.6
           ],
           [
            0.6
           ],
           [
            0.6
           ],
           [
            0.6
           ],
           [
            0.6
           ],
           [
            0.6
           ],
           [
            0.6
           ],
           [
            0.6
           ],
           [
            0.6
           ],
           [
            0.6
           ],
           [
            0.6
           ],
           [
            0.6
           ],
           [
            0.6
           ],
           [
            0.6
           ],
           [
            0.6
           ],
           [
            0.6
           ],
           [
            0.6
           ],
           [
            0.6
           ],
           [
            0.6
           ],
           [
            0.6
           ],
           [
            0.6
           ],
           [
            0.6
           ],
           [
            0.6
           ],
           [
            0.6
           ],
           [
            0.6
           ],
           [
            0.6
           ],
           [
            0.6
           ],
           [
            0.6
           ],
           [
            0.6
           ],
           [
            0.6
           ],
           [
            0.6
           ],
           [
            0.6
           ],
           [
            0.6
           ],
           [
            0.6
           ],
           [
            0.6
           ],
           [
            0.6
           ],
           [
            0.6
           ],
           [
            0.6
           ],
           [
            0.6
           ],
           [
            0.6
           ],
           [
            0.6
           ],
           [
            0.6
           ],
           [
            0.6
           ],
           [
            0.6
           ],
           [
            0.6
           ],
           [
            0.6
           ],
           [
            0.6
           ],
           [
            0.6
           ],
           [
            0.6
           ],
           [
            0.6
           ],
           [
            0.6
           ],
           [
            0.6
           ],
           [
            0.6
           ],
           [
            0.6
           ],
           [
            0.6
           ],
           [
            0.6
           ],
           [
            0.6
           ],
           [
            0.6
           ],
           [
            0.6
           ],
           [
            0.6
           ],
           [
            0.6
           ],
           [
            0.6
           ],
           [
            0.6
           ],
           [
            0.6
           ],
           [
            0.6
           ],
           [
            0.6
           ],
           [
            0.6
           ],
           [
            0.6
           ],
           [
            0.6
           ],
           [
            0.6
           ],
           [
            0.6
           ],
           [
            0.6
           ],
           [
            0.6
           ],
           [
            0.6
           ],
           [
            0.6
           ],
           [
            0.6
           ],
           [
            0.6
           ],
           [
            0.6
           ],
           [
            0.6
           ],
           [
            0.6
           ],
           [
            0.6
           ],
           [
            0.6
           ],
           [
            0.6
           ],
           [
            0.6
           ],
           [
            0.6
           ],
           [
            0.6
           ],
           [
            0.6
           ],
           [
            0.6
           ],
           [
            0.6
           ],
           [
            0.6
           ],
           [
            0.6
           ],
           [
            0.6
           ],
           [
            0.6
           ]
          ],
          "size": [
           5,
           5,
           5,
           5,
           5,
           5
          ]
         },
         "mode": "markers",
         "name": "Other",
         "type": "scatter",
         "uid": "ce993ab1-b161-469a-a48c-9e9ffcbae48b",
         "x": [
          "University <br>without <br>graduating",
          "University <br>without <br>graduating",
          "Unfinished <br>Compulsory<br>Secondary <br>Education",
          "University <br>without <br>graduating",
          "University <br>without <br>graduating",
          "University <br>graduate"
         ],
         "y": [
          20,
          36,
          14,
          22,
          21,
          28
         ]
        }
       ],
       "layout": {
        "xaxis": {
         "title": {
          "text": "Educational level"
         }
        },
        "yaxis": {
         "title": {
          "text": "Age"
         }
        }
       }
      },
      "text/html": [
       "<div id=\"4dfc4049-6e4a-4b62-9e31-cc7b85a272b5\" style=\"height: 525px; width: 100%;\" class=\"plotly-graph-div\"></div><script type=\"text/javascript\">require([\"plotly\"], function(Plotly) { window.PLOTLYENV=window.PLOTLYENV || {};window.PLOTLYENV.BASE_URL=\"https://plot.ly\";\n",
       "if (document.getElementById(\"4dfc4049-6e4a-4b62-9e31-cc7b85a272b5\")) {\n",
       "    Plotly.newPlot(\"4dfc4049-6e4a-4b62-9e31-cc7b85a272b5\", [{\"marker\": {\"opacity\": [[0.6], [0.6], [0.6], [0.6], [0.6], [0.6], [0.6], [0.6], [0.6], [0.6], [0.6], [0.6], [0.6], [0.6], [0.6], [0.6], [0.6], [0.6], [0.6], [0.6], [0.6], [0.6], [0.6], [0.6], [0.6], [0.6], [0.6], [0.6], [0.6], [0.6], [0.6], [0.6], [0.6], [0.6], [0.6], [0.6], [0.6], [0.6], [0.6], [0.6], [0.6], [0.6], [0.6], [0.6], [0.6], [0.6], [0.6], [0.6], [0.6], [0.6], [0.6], [0.6], [0.6], [0.6], [0.6], [0.6], [0.6], [0.6], [0.6], [0.6], [0.6], [0.6], [0.6], [0.6], [0.6], [0.6], [0.6], [0.6], [0.6], [0.6], [0.6], [0.6], [0.6], [0.6], [0.6], [0.6], [0.6], [0.6], [0.6], [0.6], [0.6], [0.6], [0.6], [0.6], [0.6], [0.6], [0.6], [0.6], [0.6], [0.6], [0.6], [0.6], [0.6], [0.6], [0.6], [0.6], [0.6], [0.6], [0.6], [0.6], [0.6], [0.6], [0.6], [0.6], [0.6], [0.6], [0.6], [0.6], [0.6], [0.6], [0.6], [0.6], [0.6], [0.6], [0.6], [0.6], [0.6], [0.6], [0.6], [0.6], [0.6], [0.6], [0.6], [0.6], [0.6], [0.6], [0.6], [0.6], [0.6], [0.6], [0.6], [0.6], [0.6], [0.6], [0.6], [0.6], [0.6], [0.6], [0.6], [0.6], [0.6], [0.6], [0.6], [0.6], [0.6], [0.6], [0.6], [0.6], [0.6], [0.6], [0.6], [0.6], [0.6], [0.6], [0.6], [0.6], [0.6], [0.6], [0.6], [0.6], [0.6], [0.6], [0.6], [0.6], [0.6], [0.6], [0.6], [0.6], [0.6], [0.6], [0.6], [0.6], [0.6], [0.6], [0.6], [0.6], [0.6], [0.6], [0.6], [0.6], [0.6], [0.6], [0.6], [0.6], [0.6], [0.6], [0.6], [0.6], [0.6], [0.6], [0.6], [0.6], [0.6], [0.6], [0.6], [0.6], [0.6], [0.6], [0.6], [0.6], [0.6], [0.6], [0.6], [0.6], [0.6], [0.6], [0.6], [0.6], [0.6], [0.6], [0.6], [0.6], [0.6], [0.6], [0.6], [0.6], [0.6], [0.6], [0.6], [0.6], [0.6], [0.6], [0.6], [0.6], [0.6], [0.6], [0.6], [0.6], [0.6], [0.6], [0.6], [0.6], [0.6], [0.6], [0.6], [0.6], [0.6], [0.6], [0.6], [0.6], [0.6], [0.6], [0.6], [0.6], [0.6], [0.6], [0.6], [0.6], [0.6], [0.6], [0.6], [0.6], [0.6], [0.6], [0.6], [0.6], [0.6], [0.6], [0.6], [0.6], [0.6], [0.6], [0.6], [0.6], [0.6], [0.6], [0.6], [0.6], [0.6], [0.6], [0.6], [0.6], [0.6], [0.6], [0.6], [0.6], [0.6], [0.6], [0.6], [0.6], [0.6], [0.6], [0.6], [0.6], [0.6], [0.6], [0.6], [0.6], [0.6], [0.6], [0.6], [0.6], [0.6], [0.6], [0.6], [0.6], [0.6], [0.6], [0.6], [0.6], [0.6], [0.6], [0.6], [0.6], [0.6], [0.6], [0.6], [0.6], [0.6], [0.6], [0.6], [0.6], [0.6], [0.6], [0.6], [0.6], [0.6], [0.6], [0.6], [0.6], [0.6], [0.6], [0.6], [0.6], [0.6], [0.6], [0.6], [0.6], [0.6], [0.6], [0.6], [0.6], [0.6], [0.6], [0.6], [0.6], [0.6], [0.6], [0.6], [0.6], [0.6], [0.6], [0.6], [0.6], [0.6], [0.6], [0.6], [0.6], [0.6], [0.6], [0.6], [0.6], [0.6], [0.6], [0.6], [0.6], [0.6], [0.6], [0.6], [0.6], [0.6], [0.6], [0.6], [0.6], [0.6], [0.6], [0.6], [0.6], [0.6], [0.6], [0.6], [0.6], [0.6], [0.6], [0.6], [0.6], [0.6], [0.6], [0.6], [0.6], [0.6], [0.6], [0.6], [0.6], [0.6], [0.6], [0.6], [0.6], [0.6], [0.6], [0.6], [0.6], [0.6], [0.6], [0.6], [0.6], [0.6], [0.6], [0.6], [0.6], [0.6], [0.6], [0.6], [0.6], [0.6], [0.6], [0.6], [0.6], [0.6], [0.6], [0.6], [0.6], [0.6], [0.6], [0.6], [0.6], [0.6], [0.6], [0.6], [0.6], [0.6], [0.6], [0.6], [0.6], [0.6], [0.6], [0.6], [0.6], [0.6], [0.6], [0.6], [0.6], [0.6], [0.6], [0.6], [0.6], [0.6], [0.6], [0.6], [0.6], [0.6], [0.6], [0.6], [0.6], [0.6], [0.6], [0.6], [0.6], [0.6], [0.6], [0.6], [0.6], [0.6], [0.6], [0.6], [0.6], [0.6], [0.6], [0.6], [0.6], [0.6], [0.6], [0.6], [0.6], [0.6], [0.6], [0.6], [0.6], [0.6], [0.6], [0.6], [0.6], [0.6], [0.6], [0.6], [0.6], [0.6], [0.6], [0.6], [0.6], [0.6], [0.6], [0.6], [0.6], [0.6], [0.6], [0.6], [0.6], [0.6], [0.6], [0.6], [0.6], [0.6], [0.6], [0.6], [0.6], [0.6], [0.6], [0.6], [0.6], [0.6], [0.6], [0.6], [0.6], [0.6], [0.6], [0.6], [0.6], [0.6], [0.6], [0.6], [0.6], [0.6], [0.6], [0.6], [0.6], [0.6], [0.6], [0.6], [0.6], [0.6], [0.6], [0.6], [0.6], [0.6], [0.6], [0.6], [0.6], [0.6], [0.6], [0.6], [0.6], [0.6], [0.6], [0.6], [0.6], [0.6], [0.6], [0.6], [0.6], [0.6], [0.6], [0.6], [0.6], [0.6], [0.6], [0.6], [0.6], [0.6], [0.6], [0.6], [0.6], [0.6], [0.6], [0.6], [0.6], [0.6], [0.6], [0.6], [0.6], [0.6], [0.6], [0.6], [0.6], [0.6], [0.6], [0.6], [0.6], [0.6], [0.6], [0.6], [0.6], [0.6], [0.6], [0.6], [0.6], [0.6], [0.6], [0.6], [0.6], [0.6], [0.6], [0.6], [0.6], [0.6], [0.6], [0.6], [0.6], [0.6], [0.6], [0.6], [0.6], [0.6], [0.6], [0.6], [0.6], [0.6], [0.6], [0.6], [0.6], [0.6], [0.6], [0.6], [0.6], [0.6], [0.6], [0.6], [0.6], [0.6], [0.6], [0.6], [0.6], [0.6], [0.6], [0.6], [0.6], [0.6], [0.6], [0.6], [0.6], [0.6], [0.6], [0.6], [0.6], [0.6], [0.6], [0.6], [0.6], [0.6], [0.6], [0.6], [0.6], [0.6], [0.6], [0.6], [0.6], [0.6], [0.6], [0.6], [0.6], [0.6], [0.6], [0.6], [0.6], [0.6], [0.6], [0.6], [0.6], [0.6], [0.6], [0.6], [0.6], [0.6], [0.6], [0.6], [0.6], [0.6], [0.6], [0.6], [0.6], [0.6], [0.6], [0.6], [0.6], [0.6], [0.6], [0.6], [0.6], [0.6], [0.6], [0.6], [0.6], [0.6], [0.6], [0.6], [0.6], [0.6], [0.6], [0.6], [0.6], [0.6], [0.6], [0.6], [0.6], [0.6], [0.6], [0.6], [0.6], [0.6], [0.6], [0.6], [0.6], [0.6], [0.6], [0.6], [0.6], [0.6], [0.6], [0.6], [0.6], [0.6], [0.6], [0.6], [0.6], [0.6], [0.6], [0.6], [0.6], [0.6], [0.6], [0.6], [0.6], [0.6], [0.6], [0.6], [0.6], [0.6], [0.6], [0.6], [0.6], [0.6], [0.6], [0.6], [0.6], [0.6], [0.6], [0.6], [0.6], [0.6], [0.6], [0.6], [0.6], [0.6], [0.6], [0.6], [0.6], [0.6], [0.6], [0.6], [0.6], [0.6], [0.6], [0.6], [0.6], [0.6], [0.6], [0.6], [0.6], [0.6], [0.6], [0.6], [0.6], [0.6], [0.6], [0.6], [0.6], [0.6], [0.6], [0.6], [0.6], [0.6], [0.6], [0.6], [0.6], [0.6], [0.6], [0.6]], \"size\": [20, 10, 10, 5, 5, 5, 5, 5, 5, 5, 5, 5, 5, 5, 5, 90, 40, 25, 15, 10, 5, 5, 5, 5, 5, 100, 90, 80, 60, 50, 50, 50, 45, 40, 40, 40, 40, 35, 30, 25, 25, 20, 20, 20, 15, 15, 15, 15, 15, 15, 10, 10, 10, 10, 5, 5, 5, 5, 5, 5, 5, 5, 5, 5, 5, 5, 35, 30, 25, 25, 20, 15, 15, 15, 15, 15, 10, 10, 10, 10, 10, 10, 10, 5, 5, 5, 5, 5, 5, 5, 5, 5, 5, 5, 5, 5, 10, 10, 5, 5, 5, 5, 5, 5, 5, 5, 5, 5, 5, 5, 5, 5]}, \"mode\": \"markers\", \"name\": \"Male\", \"x\": [\"University <br>graduate\", \"University <br>graduate\", \"University <br>graduate\", \"University <br>graduate\", \"University <br>without <br>graduating\", \"University <br>without <br>graduating\", \"University <br>graduate\", \"University <br>graduate\", \"University <br>graduate\", \"University <br>without <br>graduating\", \"University <br>graduate\", \"University <br>graduate\", \"University <br>graduate\", \"Unfinished <br>Compulsory<br>Secondary <br>Education\", \"University <br>graduate\", \"University <br>without <br>graduating\", \"University <br>without <br>graduating\", \"Vocational <br>Training\", \"University <br>without <br>graduating\", \"University <br>without <br>graduating\", \"University <br>graduate\", \"Unfinished <br>Compulsory<br>Secondary <br>Education\", \"Unfinished <br>Compulsory<br>Secondary <br>Education\", \"Unfinished <br>Compulsory<br>Secondary <br>Education\", \"Unfinished <br>Compulsory<br>Secondary <br>Education\", \"Unfinished <br>Compulsory<br>Secondary <br>Education\", \"University <br>graduate\", \"Unfinished <br>Compulsory<br>Secondary <br>Education\", \"University <br>without <br>graduating\", \"University <br>graduate\", \"University <br>graduate\", \"University <br>graduate\", \"University <br>graduate\", \"University <br>without <br>graduating\", \"University <br>graduate\", \"University <br>without <br>graduating\", \"Unfinished <br>Compulsory<br>Secondary <br>Education\", \"Unfinished <br>Compulsory<br>Secondary <br>Education\", \"Unfinished <br>Compulsory<br>Secondary <br>Education\", \"Unfinished <br>Compulsory<br>Secondary <br>Education\", \"Unfinished <br>Compulsory<br>Secondary <br>Education\", \"Unfinished <br>Compulsory<br>Secondary <br>Education\", \"Unfinished <br>Compulsory<br>Secondary <br>Education\", \"Unfinished <br>Compulsory<br>Secondary <br>Education\", \"Unfinished <br>Compulsory<br>Secondary <br>Education\", \"University <br>graduate\", \"University <br>graduate\", \"University <br>without <br>graduating\", \"Unfinished <br>Compulsory<br>Secondary <br>Education\", \"Unfinished <br>Compulsory<br>Secondary <br>Education\", \"Unfinished <br>Compulsory<br>Secondary <br>Education\", \"Unfinished <br>Compulsory<br>Secondary <br>Education\", \"Unfinished <br>Compulsory<br>Secondary <br>Education\", \"Unfinished <br>Compulsory<br>Secondary <br>Education\", \"University <br>without <br>graduating\", \"University <br>without <br>graduating\", \"University <br>graduate\", \"University <br>graduate\", \"University <br>without <br>graduating\", \"University <br>without <br>graduating\", \"University <br>without <br>graduating\", \"Unfinished <br>Compulsory<br>Secondary <br>Education\", \"University <br>graduate\", \"University <br>graduate\", \"University <br>graduate\", \"University <br>graduate\", \"Vocational <br>Training\", \"University <br>graduate\", \"University <br>without <br>graduating\", \"University <br>graduate\", \"University <br>graduate\", \"University <br>graduate\", \"University <br>graduate\", \"University <br>without <br>graduating\", \"University <br>without <br>graduating\", \"University <br>without <br>graduating\", \"Unfinished <br>Compulsory<br>Secondary <br>Education\", \"Unfinished <br>Compulsory<br>Secondary <br>Education\", \"Unfinished <br>Compulsory<br>Secondary <br>Education\", \"Unfinished <br>Compulsory<br>Secondary <br>Education\", \"Unfinished <br>Compulsory<br>Secondary <br>Education\", \"University <br>without <br>graduating\", \"University <br>graduate\", \"Vocational <br>Training\", \"University <br>without <br>graduating\", \"Unfinished <br>Compulsory<br>Secondary <br>Education\", \"Unfinished <br>Compulsory<br>Secondary <br>Education\", \"Unfinished <br>Compulsory<br>Secondary <br>Education\", \"Unfinished <br>Compulsory<br>Secondary <br>Education\", \"Unfinished <br>Compulsory<br>Secondary <br>Education\", \"Unfinished <br>Compulsory<br>Secondary <br>Education\", \"Unfinished <br>Compulsory<br>Secondary <br>Education\", \"Unfinished <br>Compulsory<br>Secondary <br>Education\", \"Unfinished <br>Compulsory<br>Secondary <br>Education\", \"Unfinished <br>Compulsory<br>Secondary <br>Education\", \"University <br>without <br>graduating\", \"University <br>without <br>graduating\", \"Vocational <br>Training\", \"University <br>without <br>graduating\", \"University <br>without <br>graduating\", \"University <br>graduate\", \"University <br>without <br>graduating\", \"University <br>graduate\", \"University <br>graduate\", \"University <br>graduate\", \"University <br>graduate\", \"University <br>graduate\", \"University <br>graduate\", \"University <br>without <br>graduating\", \"University <br>without <br>graduating\", \"University <br>graduate\", \"University <br>graduate\", \"University <br>graduate\", \"University <br>graduate\", \"University <br>graduate\", \"University <br>graduate\", \"University <br>without <br>graduating\", \"University <br>graduate\", \"University <br>graduate\", \"University <br>graduate\", \"University <br>graduate\", \"University <br>graduate\", \"Vocational <br>Training\", \"University <br>without <br>graduating\", \"University <br>without <br>graduating\", \"University <br>graduate\", \"University <br>graduate\", \"University <br>without <br>graduating\", \"Completed <br>Compulsory<br>Secondary <br>Education\", \"University <br>graduate\", \"University <br>graduate\", \"University <br>graduate\", \"Completed <br>Compulsory<br>Secondary <br>Education\", \"Vocational <br>Training\", \"University <br>without <br>graduating\", \"University <br>graduate\", \"University <br>graduate\", \"University <br>graduate\", \"University <br>graduate\", \"University <br>graduate\", \"University <br>graduate\", \"University <br>graduate\", \"Vocational <br>Training\", \"University <br>graduate\", \"Completed <br>Compulsory<br>Secondary <br>Education\", \"Primary <br>education\", \"University <br>graduate\", \"University <br>graduate\", \"University <br>graduate\", \"University <br>graduate\", \"University <br>without <br>graduating\", \"University <br>graduate\", \"University <br>without <br>graduating\", \"University <br>graduate\", \"University <br>without <br>graduating\", \"University <br>graduate\", \"Vocational <br>Training\", \"University <br>graduate\", \"University <br>without <br>graduating\", \"Completed <br>Compulsory<br>Secondary <br>Education\", \"University <br>without <br>graduating\", \"University <br>graduate\", \"University <br>graduate\", \"University <br>graduate\", \"Completed <br>Compulsory<br>Secondary <br>Education\", \"University <br>without <br>graduating\", \"University <br>without <br>graduating\", \"University <br>graduate\", \"University <br>graduate\", \"University <br>graduate\", \"University <br>graduate\", \"University <br>without <br>graduating\", \"Completed <br>Compulsory<br>Secondary <br>Education\", \"Completed <br>Compulsory<br>Secondary <br>Education\", \"University <br>without <br>graduating\", \"University <br>graduate\", \"University <br>graduate\", \"University <br>graduate\", \"University <br>graduate\", \"University <br>graduate\", \"Primary <br>education\", \"University <br>graduate\", \"University <br>graduate\", \"University <br>without <br>graduating\", \"Completed <br>Compulsory<br>Secondary <br>Education\", \"University <br>graduate\", \"University <br>graduate\", \"University <br>graduate\", \"University <br>graduate\", \"University <br>graduate\", \"University <br>graduate\", \"University <br>graduate\", \"University <br>without <br>graduating\", \"University <br>graduate\", \"University <br>graduate\", \"University <br>graduate\", \"University <br>graduate\", \"University <br>without <br>graduating\", \"University <br>graduate\", \"University <br>graduate\", \"University <br>graduate\", \"University <br>graduate\", \"University <br>graduate\", \"University <br>graduate\", \"University <br>graduate\", \"University <br>without <br>graduating\", \"University <br>graduate\", \"University <br>without <br>graduating\", \"University <br>graduate\", \"University <br>graduate\", \"University <br>graduate\", \"University <br>graduate\", \"University <br>graduate\", \"University <br>graduate\", \"University <br>graduate\", \"Vocational <br>Training\", \"University <br>graduate\", \"University <br>without <br>graduating\", \"University <br>graduate\", \"University <br>graduate\", \"University <br>graduate\", \"University <br>graduate\", \"University <br>graduate\", \"Vocational <br>Training\", \"University <br>without <br>graduating\", \"University <br>graduate\", \"University <br>graduate\", \"Completed <br>Compulsory<br>Secondary <br>Education\", \"University <br>without <br>graduating\", \"University <br>graduate\", \"University <br>graduate\", \"University <br>graduate\", \"University <br>graduate\", \"Vocational <br>Training\", \"University <br>graduate\", \"University <br>graduate\", \"University <br>without <br>graduating\", \"University <br>without <br>graduating\", \"University <br>graduate\", \"University <br>graduate\", \"University <br>graduate\", \"Vocational <br>Training\", \"University <br>graduate\", \"University <br>graduate\", \"University <br>without <br>graduating\", \"University <br>graduate\", \"University <br>graduate\", \"University <br>graduate\", \"Unfinished <br>Compulsory<br>Secondary <br>Education\", \"University <br>graduate\", \"University <br>without <br>graduating\", \"University <br>graduate\", \"University <br>without <br>graduating\", \"University <br>graduate\", \"University <br>graduate\", \"University <br>graduate\", \"University <br>graduate\", \"University <br>without <br>graduating\", \"University <br>graduate\", \"University <br>graduate\", \"University <br>graduate\", \"University <br>graduate\", \"University <br>graduate\", \"University <br>graduate\", \"University <br>graduate\", \"University <br>graduate\", \"University <br>graduate\", \"University <br>graduate\", \"Vocational <br>Training\", \"Vocational <br>Training\", \"University <br>graduate\", \"University <br>graduate\", \"University <br>graduate\", \"Vocational <br>Training\", \"University <br>graduate\", \"University <br>graduate\", \"University <br>graduate\", \"University <br>graduate\", \"Completed <br>Compulsory<br>Secondary <br>Education\", \"University <br>graduate\", \"University <br>graduate\", \"Completed <br>Compulsory<br>Secondary <br>Education\", \"University <br>graduate\", \"Completed <br>Compulsory<br>Secondary <br>Education\", \"University <br>graduate\", \"University <br>graduate\", \"University <br>graduate\", \"University <br>graduate\", \"Completed <br>Compulsory<br>Secondary <br>Education\", \"University <br>graduate\", \"University <br>graduate\", \"Primary <br>education\", \"University <br>graduate\", \"University <br>graduate\", \"University <br>graduate\", \"University <br>graduate\", \"Completed <br>Compulsory<br>Secondary <br>Education\", \"University <br>graduate\", \"University <br>graduate\", \"University <br>without <br>graduating\", \"University <br>graduate\", \"University <br>graduate\", \"University <br>graduate\", \"Vocational <br>Training\", \"University <br>graduate\", \"University <br>graduate\", \"University <br>graduate\", \"University <br>graduate\", \"University <br>graduate\", \"Unfinished <br>Compulsory<br>Secondary <br>Education\", \"University <br>graduate\", \"University <br>without <br>graduating\", \"University <br>graduate\", \"University <br>graduate\", \"University <br>graduate\", \"University <br>without <br>graduating\", \"Completed <br>Compulsory<br>Secondary <br>Education\", \"University <br>graduate\", \"Vocational <br>Training\", \"University <br>without <br>graduating\", \"Vocational <br>Training\", \"University <br>graduate\", \"University <br>graduate\", \"University <br>graduate\", \"Completed <br>Compulsory<br>Secondary <br>Education\", \"University <br>graduate\", \"University <br>graduate\", \"University <br>without <br>graduating\", \"University <br>graduate\", \"University <br>graduate\", \"University <br>without <br>graduating\", \"University <br>without <br>graduating\", \"University <br>graduate\", \"University <br>graduate\", \"University <br>without <br>graduating\", \"University <br>graduate\", \"University <br>graduate\", \"University <br>graduate\", \"University <br>graduate\", \"University <br>without <br>graduating\", \"University <br>graduate\", \"University <br>graduate\", \"University <br>graduate\", \"University <br>graduate\", \"University <br>without <br>graduating\", \"University <br>without <br>graduating\", \"Completed <br>Compulsory<br>Secondary <br>Education\", \"University <br>graduate\", \"University <br>graduate\", \"University <br>graduate\", \"Unfinished <br>Compulsory<br>Secondary <br>Education\", \"University <br>graduate\", \"University <br>without <br>graduating\", \"University <br>graduate\", \"University <br>graduate\", \"University <br>graduate\", \"University <br>graduate\", \"University <br>graduate\"], \"y\": [37, 62, 28, 30, 60, 20, 31, 33, 23, 21, 29, 29, 36, 38, 33, 19, 25, 67, 23, 70, 36, 17, 17, 18, 15, 15, 23, 14, 21, 30, 53, 29, 30, 20, 30, 20, 15, 14, 14, 14, 14, 14, 15, 14, 15, 31, 30, 19, 16, 16, 15, 16, 18, 15, 19, 34, 35, 38, 20, 23, 21, 18, 61, 57, 41, 26, 46, 28, 22, 47, 42, 31, 28, 23, 18, 21, 14, 15, 16, 14, 14, 24, 64, 32, 21, 13, 14, 16, 14, 14, 14, 14, 14, 14, 14, 19, 18, 45, 21, 21, 27, 28, 32, 29, 22, 29, 21, 28, 26, 27, 32, 32, 40, 27, 26, 31, 34, 25, 28, 30, 46, 28, 28, 30, 24, 27, 38, 31, 24, 28, 46, 26, 22, 38, 26, 27, 40, 26, 34, 31, 29, 32, 47, 34, 28, 36, 34, 33, 43, 35, 39, 42, 32, 33, 24, 24, 47, 27, 47, 24, 29, 34, 29, 39, 42, 43, 42, 28, 35, 36, 24, 22, 27, 53, 28, 31, 60, 34, 39, 69, 21, 43, 34, 19, 30, 29, 33, 65, 30, 38, 28, 47, 23, 39, 30, 39, 29, 22, 42, 37, 36, 44, 36, 29, 63, 32, 37, 27, 35, 26, 32, 32, 28, 33, 29, 39, 35, 31, 25, 36, 36, 30, 30, 34, 27, 57, 44, 36, 29, 29, 29, 36, 28, 38, 37, 28, 54, 28, 41, 28, 39, 27, 38, 33, 42, 35, 45, 30, 27, 30, 23, 44, 25, 27, 26, 25, 23, 38, 35, 24, 33, 31, 32, 53, 28, 21, 41, 29, 51, 31, 30, 28, 37, 49, 26, 26, 26, 33, 27, 30, 22, 34, 24, 27, 24, 22, 28, 60, 39, 39, 43, 33, 25, 40, 40, 26, 26, 33, 39, 23, 35, 29, 34, 42, 39, 51, 23, 32, 41, 29, 27, 67, 27, 32, 27, 36, 34, 47, 30, 62, 35, 49, 71, 31, 23, 68, 50, 30, 30, 40, 30, 66, 37, 57, 25, 30, 29, 32, 24, 48, 28, 26, 29, 28, 25, 37, 27, 28, 23, 27, 26, 26, 25, 29, 28, 34, 24, 34], \"type\": \"scatter\", \"uid\": \"eed213e2-120f-40e1-927c-04448d2da55c\"}, {\"marker\": {\"opacity\": [[0.6], [0.6], [0.6], [0.6], [0.6], [0.6], [0.6], [0.6], [0.6], [0.6], [0.6], [0.6], [0.6], [0.6], [0.6], [0.6], [0.6], [0.6], [0.6], [0.6], [0.6], [0.6], [0.6], [0.6], [0.6], [0.6], [0.6], [0.6], [0.6], [0.6], [0.6], [0.6], [0.6], [0.6], [0.6], [0.6], [0.6], [0.6], [0.6], [0.6], [0.6], [0.6], [0.6], [0.6], [0.6], [0.6], [0.6], [0.6], [0.6], [0.6], [0.6], [0.6], [0.6], [0.6], [0.6], [0.6], [0.6], [0.6], [0.6], [0.6], [0.6], [0.6], [0.6], [0.6], [0.6], [0.6], [0.6], [0.6], [0.6], [0.6], [0.6], [0.6], [0.6], [0.6], [0.6], [0.6], [0.6], [0.6], [0.6], [0.6], [0.6], [0.6], [0.6], [0.6], [0.6], [0.6], [0.6], [0.6], [0.6], [0.6], [0.6], [0.6], [0.6], [0.6], [0.6], [0.6], [0.6], [0.6], [0.6], [0.6], [0.6], [0.6], [0.6], [0.6], [0.6], [0.6], [0.6], [0.6], [0.6], [0.6], [0.6], [0.6], [0.6], [0.6], [0.6], [0.6], [0.6], [0.6], [0.6], [0.6], [0.6], [0.6], [0.6], [0.6], [0.6], [0.6], [0.6], [0.6], [0.6], [0.6], [0.6], [0.6], [0.6], [0.6], [0.6], [0.6], [0.6], [0.6], [0.6], [0.6], [0.6], [0.6], [0.6], [0.6], [0.6], [0.6], [0.6], [0.6], [0.6], [0.6], [0.6], [0.6], [0.6], [0.6], [0.6], [0.6], [0.6], [0.6], [0.6], [0.6], [0.6], [0.6], [0.6], [0.6], [0.6], [0.6], [0.6], [0.6], [0.6], [0.6], [0.6], [0.6], [0.6], [0.6], [0.6], [0.6], [0.6], [0.6], [0.6], [0.6], [0.6], [0.6], [0.6], [0.6], [0.6], [0.6], [0.6], [0.6], [0.6], [0.6], [0.6], [0.6], [0.6], [0.6], [0.6], [0.6], [0.6], [0.6], [0.6], [0.6], [0.6], [0.6], [0.6], [0.6], [0.6], [0.6], [0.6], [0.6], [0.6], [0.6], [0.6], [0.6], [0.6], [0.6], [0.6], [0.6], [0.6], [0.6], [0.6], [0.6], [0.6], [0.6], [0.6], [0.6], [0.6], [0.6], [0.6], [0.6], [0.6], [0.6], [0.6], [0.6], [0.6], [0.6], [0.6], [0.6], [0.6], [0.6], [0.6], [0.6], [0.6], [0.6], [0.6], [0.6], [0.6], [0.6], [0.6], [0.6], [0.6], [0.6], [0.6], [0.6], [0.6], [0.6], [0.6], [0.6], [0.6], [0.6], [0.6], [0.6], [0.6], [0.6], [0.6], [0.6], [0.6], [0.6], [0.6], [0.6], [0.6], [0.6], [0.6], [0.6], [0.6], [0.6], [0.6], [0.6], [0.6], [0.6], [0.6], [0.6], [0.6], [0.6], [0.6], [0.6], [0.6], [0.6], [0.6], [0.6], [0.6], [0.6], [0.6], [0.6], [0.6], [0.6], [0.6], [0.6], [0.6], [0.6], [0.6], [0.6], [0.6], [0.6], [0.6], [0.6], [0.6], [0.6], [0.6], [0.6], [0.6], [0.6], [0.6], [0.6], [0.6], [0.6], [0.6], [0.6], [0.6], [0.6], [0.6], [0.6], [0.6], [0.6], [0.6], [0.6], [0.6], [0.6], [0.6], [0.6], [0.6], [0.6], [0.6], [0.6], [0.6], [0.6], [0.6], [0.6], [0.6], [0.6], [0.6], [0.6], [0.6], [0.6], [0.6], [0.6], [0.6], [0.6], [0.6], [0.6], [0.6], [0.6], [0.6], [0.6], [0.6], [0.6], [0.6], [0.6], [0.6], [0.6], [0.6], [0.6], [0.6], [0.6], [0.6], [0.6], [0.6], [0.6], [0.6], [0.6], [0.6], [0.6], [0.6], [0.6], [0.6], [0.6], [0.6], [0.6], [0.6], [0.6], [0.6], [0.6], [0.6], [0.6], [0.6], [0.6], [0.6], [0.6], [0.6], [0.6], [0.6], [0.6], [0.6], [0.6], [0.6], [0.6], [0.6], [0.6], [0.6], [0.6], [0.6], [0.6], [0.6], [0.6], [0.6], [0.6], [0.6], [0.6], [0.6], [0.6], [0.6], [0.6], [0.6], [0.6], [0.6], [0.6], [0.6], [0.6], [0.6], [0.6], [0.6], [0.6], [0.6], [0.6], [0.6], [0.6], [0.6], [0.6], [0.6], [0.6], [0.6], [0.6], [0.6], [0.6], [0.6], [0.6], [0.6], [0.6], [0.6], [0.6], [0.6], [0.6], [0.6], [0.6], [0.6], [0.6], [0.6], [0.6], [0.6], [0.6], [0.6], [0.6], [0.6], [0.6], [0.6], [0.6], [0.6], [0.6], [0.6], [0.6], [0.6], [0.6], [0.6], [0.6], [0.6], [0.6], [0.6], [0.6], [0.6], [0.6], [0.6], [0.6], [0.6], [0.6], [0.6], [0.6], [0.6], [0.6], [0.6], [0.6], [0.6], [0.6], [0.6], [0.6], [0.6], [0.6], [0.6], [0.6], [0.6], [0.6], [0.6], [0.6], [0.6], [0.6], [0.6], [0.6], [0.6], [0.6], [0.6], [0.6], [0.6], [0.6], [0.6], [0.6], [0.6], [0.6], [0.6], [0.6], [0.6], [0.6], [0.6], [0.6], [0.6], [0.6], [0.6], [0.6], [0.6], [0.6], [0.6], [0.6], [0.6], [0.6], [0.6], [0.6], [0.6], [0.6], [0.6], [0.6], [0.6], [0.6], [0.6], [0.6], [0.6], [0.6], [0.6], [0.6], [0.6], [0.6], [0.6], [0.6], [0.6], [0.6], [0.6], [0.6], [0.6], [0.6], [0.6], [0.6], [0.6], [0.6], [0.6], [0.6], [0.6], [0.6], [0.6], [0.6], [0.6], [0.6], [0.6], [0.6], [0.6], [0.6], [0.6], [0.6], [0.6], [0.6], [0.6], [0.6], [0.6], [0.6], [0.6], [0.6], [0.6], [0.6], [0.6], [0.6], [0.6], [0.6], [0.6], [0.6], [0.6], [0.6], [0.6], [0.6], [0.6], [0.6], [0.6], [0.6], [0.6], [0.6], [0.6], [0.6], [0.6], [0.6], [0.6], [0.6], [0.6], [0.6], [0.6], [0.6], [0.6], [0.6], [0.6], [0.6], [0.6], [0.6], [0.6], [0.6], [0.6], [0.6], [0.6], [0.6], [0.6], [0.6], [0.6], [0.6], [0.6], [0.6], [0.6], [0.6], [0.6], [0.6], [0.6], [0.6], [0.6], [0.6], [0.6], [0.6], [0.6], [0.6], [0.6], [0.6], [0.6], [0.6], [0.6], [0.6], [0.6], [0.6], [0.6], [0.6], [0.6], [0.6], [0.6], [0.6], [0.6], [0.6], [0.6], [0.6], [0.6], [0.6], [0.6], [0.6], [0.6], [0.6], [0.6], [0.6], [0.6], [0.6], [0.6], [0.6], [0.6], [0.6], [0.6], [0.6], [0.6], [0.6], [0.6], [0.6], [0.6], [0.6], [0.6], [0.6], [0.6], [0.6], [0.6], [0.6], [0.6], [0.6], [0.6], [0.6], [0.6], [0.6], [0.6], [0.6], [0.6], [0.6], [0.6], [0.6], [0.6], [0.6], [0.6], [0.6], [0.6], [0.6], [0.6], [0.6], [0.6], [0.6], [0.6], [0.6], [0.6], [0.6], [0.6], [0.6], [0.6], [0.6], [0.6], [0.6], [0.6], [0.6], [0.6], [0.6], [0.6], [0.6], [0.6], [0.6], [0.6], [0.6], [0.6], [0.6], [0.6], [0.6], [0.6], [0.6], [0.6], [0.6], [0.6], [0.6], [0.6], [0.6], [0.6], [0.6], [0.6], [0.6], [0.6], [0.6], [0.6], [0.6], [0.6], [0.6], [0.6], [0.6], [0.6], [0.6], [0.6], [0.6], [0.6], [0.6], [0.6], [0.6], [0.6], [0.6], [0.6], [0.6], [0.6], [0.6], [0.6], [0.6], [0.6], [0.6], [0.6], [0.6], [0.6], [0.6], [0.6], [0.6], [0.6], [0.6], [0.6]], \"size\": [15, 15, 10, 10, 10, 5, 5, 5, 5, 5, 5, 5, 5, 5, 5, 5, 5, 5, 5, 5, 5, 5, 5, 5, 10, 10, 5, 5, 5, 5, 5, 5, 5, 50, 45, 25, 20, 15, 10, 5, 5, 110, 80, 60, 50, 50, 45, 45, 45, 40, 40, 40, 40, 40, 35, 35, 30, 25, 20, 20, 20, 15, 15, 15, 15, 15, 15, 15, 10, 10, 10, 10, 10, 10, 10, 10, 5, 5, 5, 5, 5, 5, 5, 5, 5, 60, 35, 30, 25, 25, 20, 20, 10, 10, 10, 10, 10, 10, 10, 10, 10, 10, 10, 10, 5, 5, 5, 5, 5, 5, 5, 5, 5, 5, 5, 5, 5, 5, 5, 15, 10, 10, 10, 10, 10, 10, 5, 5, 5, 5, 5, 5, 5, 5, 5]}, \"mode\": \"markers\", \"name\": \"Female\", \"x\": [\"University <br>graduate\", \"University <br>without <br>graduating\", \"University <br>graduate\", \"University <br>graduate\", \"University <br>graduate\", \"University <br>graduate\", \"University <br>graduate\", \"University <br>graduate\", \"University <br>graduate\", \"Completed <br>Compulsory<br>Secondary <br>Education\", \"Completed <br>Compulsory<br>Secondary <br>Education\", \"Vocational <br>Training\", \"University <br>without <br>graduating\", \"University <br>graduate\", \"University <br>graduate\", \"University <br>graduate\", \"University <br>graduate\", \"University <br>without <br>graduating\", \"University <br>graduate\", \"University <br>without <br>graduating\", \"Completed <br>Compulsory<br>Secondary <br>Education\", \"Vocational <br>Training\", \"University <br>graduate\", \"University <br>without <br>graduating\", \"Vocational <br>Training\", \"Primary <br>education\", \"University <br>without <br>graduating\", \"University <br>graduate\", \"Unfinished <br>Compulsory<br>Secondary <br>Education\", \"Unfinished <br>Compulsory<br>Secondary <br>Education\", \"Unfinished <br>Compulsory<br>Secondary <br>Education\", \"Unfinished <br>Compulsory<br>Secondary <br>Education\", \"Unfinished <br>Compulsory<br>Secondary <br>Education\", \"Unfinished <br>Compulsory<br>Secondary <br>Education\", \"University <br>graduate\", \"University <br>graduate\", \"Vocational <br>Training\", \"University <br>graduate\", \"University <br>without <br>graduating\", \"University <br>without <br>graduating\", \"University <br>without <br>graduating\", \"University <br>graduate\", \"University <br>graduate\", \"University <br>graduate\", \"University <br>without <br>graduating\", \"University <br>graduate\", \"University <br>without <br>graduating\", \"University <br>graduate\", \"University <br>graduate\", \"University <br>graduate\", \"University <br>without <br>graduating\", \"University <br>without <br>graduating\", \"University <br>without <br>graduating\", \"University <br>without <br>graduating\", \"University <br>without <br>graduating\", \"University <br>without <br>graduating\", \"University <br>without <br>graduating\", \"University <br>without <br>graduating\", \"Unfinished <br>Compulsory<br>Secondary <br>Education\", \"Unfinished <br>Compulsory<br>Secondary <br>Education\", \"Unfinished <br>Compulsory<br>Secondary <br>Education\", \"University <br>graduate\", \"University <br>graduate\", \"Unfinished <br>Compulsory<br>Secondary <br>Education\", \"Unfinished <br>Compulsory<br>Secondary <br>Education\", \"Unfinished <br>Compulsory<br>Secondary <br>Education\", \"Unfinished <br>Compulsory<br>Secondary <br>Education\", \"Unfinished <br>Compulsory<br>Secondary <br>Education\", \"Unfinished <br>Compulsory<br>Secondary <br>Education\", \"University <br>without <br>graduating\", \"Unfinished <br>Compulsory<br>Secondary <br>Education\", \"University <br>graduate\", \"University <br>without <br>graduating\", \"University <br>graduate\", \"Vocational <br>Training\", \"University <br>graduate\", \"University <br>graduate\", \"University <br>graduate\", \"University <br>graduate\", \"University <br>graduate\", \"Vocational <br>Training\", \"University <br>graduate\", \"Vocational <br>Training\", \"Vocational <br>Training\", \"Completed <br>Compulsory<br>Secondary <br>Education\", \"University <br>without <br>graduating\", \"University <br>graduate\", \"University <br>graduate\", \"University <br>graduate\", \"Completed <br>Compulsory<br>Secondary <br>Education\", \"University <br>without <br>graduating\", \"University <br>without <br>graduating\", \"University <br>without <br>graduating\", \"University <br>without <br>graduating\", \"University <br>without <br>graduating\", \"University <br>without <br>graduating\", \"University <br>graduate\", \"University <br>graduate\", \"University <br>graduate\", \"University <br>graduate\", \"University <br>graduate\", \"University <br>graduate\", \"University <br>graduate\", \"University <br>graduate\", \"University <br>graduate\", \"University <br>graduate\", \"University <br>graduate\", \"University <br>graduate\", \"University <br>graduate\", \"University <br>without <br>graduating\", \"University <br>graduate\", \"University <br>without <br>graduating\", \"University <br>graduate\", \"University <br>graduate\", \"University <br>without <br>graduating\", \"Vocational <br>Training\", \"University <br>without <br>graduating\", \"University <br>without <br>graduating\", \"Unfinished <br>Compulsory<br>Secondary <br>Education\", \"Unfinished <br>Compulsory<br>Secondary <br>Education\", \"Unfinished <br>Compulsory<br>Secondary <br>Education\", \"University <br>graduate\", \"Completed <br>Compulsory<br>Secondary <br>Education\", \"Vocational <br>Training\", \"Unfinished <br>Compulsory<br>Secondary <br>Education\", \"Unfinished <br>Compulsory<br>Secondary <br>Education\", \"Unfinished <br>Compulsory<br>Secondary <br>Education\", \"Unfinished <br>Compulsory<br>Secondary <br>Education\", \"Unfinished <br>Compulsory<br>Secondary <br>Education\", \"Unfinished <br>Compulsory<br>Secondary <br>Education\", \"Unfinished <br>Compulsory<br>Secondary <br>Education\", \"Unfinished <br>Compulsory<br>Secondary <br>Education\", \"Unfinished <br>Compulsory<br>Secondary <br>Education\", \"Unfinished <br>Compulsory<br>Secondary <br>Education\", \"Unfinished <br>Compulsory<br>Secondary <br>Education\", \"Unfinished <br>Compulsory<br>Secondary <br>Education\", \"University <br>graduate\", \"University <br>without <br>graduating\", \"University <br>without <br>graduating\", \"University <br>without <br>graduating\", \"Vocational <br>Training\", \"University <br>graduate\", \"University <br>without <br>graduating\", \"University <br>graduate\", \"University <br>graduate\", \"University <br>graduate\", \"University <br>graduate\", \"Primary <br>education\", \"University <br>graduate\", \"University <br>graduate\", \"University <br>graduate\", \"University <br>graduate\", \"University <br>graduate\", \"University <br>without <br>graduating\", \"Completed <br>Compulsory<br>Secondary <br>Education\", \"University <br>graduate\", \"University <br>without <br>graduating\", \"Completed <br>Compulsory<br>Secondary <br>Education\", \"University <br>graduate\", \"University <br>graduate\", \"Vocational <br>Training\", \"University <br>graduate\", \"University <br>graduate\", \"University <br>graduate\", \"University <br>graduate\", \"University <br>without <br>graduating\", \"University <br>graduate\", \"University <br>graduate\", \"University <br>graduate\", \"University <br>graduate\", \"University <br>graduate\", \"University <br>graduate\", \"University <br>graduate\", \"University <br>graduate\", \"University <br>graduate\", \"University <br>graduate\", \"University <br>graduate\", \"University <br>graduate\", \"Completed <br>Compulsory<br>Secondary <br>Education\", \"University <br>without <br>graduating\", \"University <br>graduate\", \"University <br>graduate\", \"Unfinished <br>Compulsory<br>Secondary <br>Education\", \"University <br>graduate\", \"University <br>graduate\", \"University <br>graduate\", \"Primary <br>education\", \"Vocational <br>Training\", \"University <br>graduate\", \"University <br>graduate\", \"Vocational <br>Training\", \"University <br>graduate\", \"University <br>graduate\", \"Vocational <br>Training\", \"University <br>graduate\", \"University <br>graduate\", \"University <br>graduate\", \"University <br>graduate\", \"University <br>graduate\", \"Primary <br>education\", \"University <br>graduate\", \"Completed <br>Compulsory<br>Secondary <br>Education\", \"University <br>graduate\", \"Vocational <br>Training\", \"Primary <br>education\", \"University <br>without <br>graduating\", \"University <br>graduate\", \"University <br>graduate\", \"University <br>graduate\", \"Completed <br>Compulsory<br>Secondary <br>Education\", \"University <br>graduate\", \"University <br>without <br>graduating\", \"Completed <br>Compulsory<br>Secondary <br>Education\", \"University <br>graduate\", \"University <br>graduate\", \"University <br>graduate\", \"University <br>graduate\", \"University <br>graduate\", \"University <br>without <br>graduating\", \"University <br>without <br>graduating\", \"University <br>graduate\", \"University <br>without <br>graduating\", \"University <br>graduate\", \"University <br>graduate\", \"University <br>graduate\", \"Completed <br>Compulsory<br>Secondary <br>Education\", \"University <br>without <br>graduating\", \"University <br>graduate\", \"University <br>graduate\", \"University <br>graduate\", \"University <br>graduate\", \"University <br>graduate\", \"Vocational <br>Training\", \"University <br>graduate\", \"University <br>graduate\", \"University <br>graduate\", \"University <br>graduate\", \"University <br>graduate\", \"University <br>graduate\", \"University <br>graduate\", \"Completed <br>Compulsory<br>Secondary <br>Education\", \"University <br>without <br>graduating\", \"Completed <br>Compulsory<br>Secondary <br>Education\", \"University <br>graduate\", \"University <br>graduate\", \"University <br>graduate\", \"University <br>without <br>graduating\", \"University <br>graduate\", \"University <br>graduate\", \"Primary <br>education\", \"University <br>graduate\", \"Completed <br>Compulsory<br>Secondary <br>Education\", \"University <br>without <br>graduating\", \"Completed <br>Compulsory<br>Secondary <br>Education\", \"University <br>graduate\", \"Completed <br>Compulsory<br>Secondary <br>Education\", \"University <br>without <br>graduating\", \"University <br>graduate\", \"Completed <br>Compulsory<br>Secondary <br>Education\", \"University <br>graduate\", \"Primary <br>education\", \"University <br>graduate\", \"University <br>graduate\", \"University <br>graduate\", \"University <br>without <br>graduating\", \"University <br>graduate\", \"Completed <br>Compulsory<br>Secondary <br>Education\", \"University <br>without <br>graduating\", \"University <br>graduate\", \"University <br>graduate\", \"University <br>graduate\", \"University <br>without <br>graduating\", \"Completed <br>Compulsory<br>Secondary <br>Education\", \"University <br>graduate\", \"University <br>graduate\", \"University <br>without <br>graduating\", \"University <br>graduate\", \"Vocational <br>Training\", \"University <br>without <br>graduating\", \"University <br>graduate\", \"Completed <br>Compulsory<br>Secondary <br>Education\", \"Primary <br>education\", \"University <br>graduate\", \"University <br>graduate\", \"University <br>graduate\", \"University <br>graduate\", \"University <br>graduate\", \"University <br>graduate\", \"University <br>without <br>graduating\", \"University <br>graduate\", \"University <br>graduate\", \"Vocational <br>Training\", \"University <br>without <br>graduating\", \"University <br>without <br>graduating\", \"Primary <br>education\", \"University <br>without <br>graduating\", \"University <br>graduate\", \"Completed <br>Compulsory<br>Secondary <br>Education\", \"University <br>graduate\", \"University <br>without <br>graduating\", \"University <br>graduate\", \"University <br>graduate\", \"University <br>graduate\", \"University <br>graduate\", \"Vocational <br>Training\", \"Unfinished <br>Compulsory<br>Secondary <br>Education\", \"University <br>without <br>graduating\", \"University <br>graduate\", \"University <br>graduate\", \"University <br>graduate\", \"University <br>graduate\", \"Completed <br>Compulsory<br>Secondary <br>Education\", \"University <br>without <br>graduating\", \"University <br>without <br>graduating\", \"University <br>graduate\", \"University <br>graduate\", \"University <br>graduate\", \"University <br>graduate\", \"University <br>graduate\", \"Completed <br>Compulsory<br>Secondary <br>Education\", \"University <br>without <br>graduating\", \"University <br>without <br>graduating\", \"University <br>graduate\", \"University <br>without <br>graduating\", \"University <br>graduate\", \"University <br>graduate\", \"University <br>graduate\", \"Completed <br>Compulsory<br>Secondary <br>Education\", \"University <br>graduate\", \"University <br>graduate\", \"University <br>graduate\", \"University <br>graduate\", \"University <br>graduate\", \"University <br>graduate\", \"University <br>graduate\", \"University <br>graduate\", \"Completed <br>Compulsory<br>Secondary <br>Education\", \"Unfinished <br>Compulsory<br>Secondary <br>Education\", \"University <br>without <br>graduating\", \"Vocational <br>Training\", \"University <br>without <br>graduating\", \"University <br>without <br>graduating\", \"Completed <br>Compulsory<br>Secondary <br>Education\", \"University <br>without <br>graduating\", \"University <br>graduate\", \"University <br>without <br>graduating\", \"University <br>without <br>graduating\", \"Primary <br>education\", \"University <br>graduate\", \"Unfinished <br>Compulsory<br>Secondary <br>Education\", \"University <br>graduate\", \"University <br>graduate\", \"University <br>graduate\", \"University <br>without <br>graduating\", \"University <br>without <br>graduating\", \"Primary <br>education\", \"University <br>graduate\", \"University <br>graduate\", \"University <br>graduate\", \"University <br>graduate\", \"University <br>without <br>graduating\", \"University <br>graduate\", \"University <br>graduate\", \"Vocational <br>Training\", \"University <br>graduate\", \"University <br>graduate\", \"University <br>graduate\", \"University <br>graduate\", \"Completed <br>Compulsory<br>Secondary <br>Education\", \"University <br>graduate\", \"University <br>graduate\", \"University <br>graduate\", \"University <br>graduate\", \"University <br>graduate\", \"University <br>graduate\", \"Completed <br>Compulsory<br>Secondary <br>Education\", \"University <br>without <br>graduating\", \"University <br>graduate\", \"University <br>graduate\", \"University <br>graduate\", \"Vocational <br>Training\", \"University <br>graduate\", \"Vocational <br>Training\", \"University <br>graduate\", \"University <br>graduate\", \"University <br>without <br>graduating\", \"University <br>graduate\", \"University <br>without <br>graduating\", \"University <br>graduate\", \"University <br>graduate\", \"University <br>without <br>graduating\", \"University <br>graduate\", \"University <br>graduate\", \"Completed <br>Compulsory<br>Secondary <br>Education\", \"University <br>without <br>graduating\", \"University <br>graduate\", \"University <br>graduate\", \"University <br>graduate\", \"University <br>graduate\", \"University <br>graduate\", \"University <br>graduate\", \"University <br>graduate\", \"University <br>without <br>graduating\"], \"y\": [31, 24, 30, 42, 32, 30, 31, 35, 23, 28, 41, 32, 22, 33, 46, 24, 43, 21, 50, 57, 46, 53, 44, 18, 27, 64, 18, 23, 15, 15, 15, 16, 16, 17, 31, 35, 32, 31, 21, 22, 20, 35, 48, 29, 42, 28, 21, 28, 27, 62, 19, 21, 22, 23, 18, 19, 18, 51, 15, 15, 14, 26, 34, 17, 17, 16, 15, 15, 16, 19, 16, 35, 38, 34, 30, 34, 41, 35, 35, 36, 46, 32, 55, 34, 37, 21, 52, 31, 25, 31, 20, 19, 19, 19, 18, 20, 39, 44, 28, 41, 57, 55, 28, 61, 62, 43, 39, 46, 55, 21, 45, 27, 46, 32, 21, 26, 19, 21, 15, 13, 15, 30, 62, 24, 14, 14, 14, 14, 13, 13, 14, 14, 14, 15, 14, 13, 53, 21, 21, 81, 42, 26, 27, 27, 26, 37, 32, 25, 29, 30, 29, 37, 28, 22, 27, 44, 35, 35, 27, 35, 61, 27, 31, 23, 33, 22, 37, 31, 30, 24, 49, 32, 35, 41, 26, 30, 35, 35, 22, 39, 33, 37, 21, 30, 27, 56, 35, 24, 36, 24, 34, 30, 33, 55, 26, 25, 37, 46, 59, 25, 23, 29, 32, 55, 27, 26, 23, 26, 51, 62, 51, 30, 60, 54, 48, 32, 26, 29, 39, 40, 31, 21, 56, 24, 34, 43, 56, 34, 46, 35, 49, 28, 33, 26, 29, 47, 27, 28, 43, 54, 31, 24, 40, 30, 38, 38, 23, 24, 24, 30, 24, 29, 26, 52, 29, 51, 56, 22, 30, 22, 37, 24, 38, 25, 28, 46, 46, 48, 33, 24, 33, 32, 36, 33, 45, 42, 34, 38, 20, 37, 20, 44, 27, 30, 57, 40, 34, 24, 66, 46, 35, 20, 38, 30, 28, 27, 56, 24, 45, 59, 27, 33, 41, 31, 64, 34, 81, 43, 38, 24, 46, 25, 29, 67, 69, 73, 30, 38, 42, 31, 50, 55, 32, 25, 53, 45, 35, 46, 33, 25, 45, 62, 24, 27, 30, 50, 28, 43, 33, 50, 40, 47, 55, 26, 48, 67, 27, 28, 38, 43, 47, 24, 38, 27, 21, 43, 36, 60, 25, 25, 45, 29, 24, 27, 44, 54, 37, 58, 65, 34, 53, 35, 78, 33, 23, 18, 36, 24, 37, 26, 53, 25, 38, 24, 28, 37, 35, 33, 31, 29, 25, 35, 50, 26, 26, 24, 24, 34, 24, 24, 24, 24, 27], \"type\": \"scatter\", \"uid\": \"0e554189-620a-42ac-88a6-2b91e5da30c7\"}, {\"marker\": {\"opacity\": [[0.6], [0.6], [0.6], [0.6], [0.6], [0.6], [0.6], [0.6], [0.6], [0.6], [0.6], [0.6], [0.6], [0.6], [0.6], [0.6], [0.6], [0.6], [0.6], [0.6], [0.6], [0.6], [0.6], [0.6], [0.6], [0.6], [0.6], [0.6], [0.6], [0.6], [0.6], [0.6], [0.6], [0.6], [0.6], [0.6], [0.6], [0.6], [0.6], [0.6], [0.6], [0.6], [0.6], [0.6], [0.6], [0.6], [0.6], [0.6], [0.6], [0.6], [0.6], [0.6], [0.6], [0.6], [0.6], [0.6], [0.6], [0.6], [0.6], [0.6], [0.6], [0.6], [0.6], [0.6], [0.6], [0.6], [0.6], [0.6], [0.6], [0.6], [0.6], [0.6], [0.6], [0.6], [0.6], [0.6], [0.6], [0.6], [0.6], [0.6], [0.6], [0.6], [0.6], [0.6], [0.6], [0.6], [0.6], [0.6], [0.6], [0.6], [0.6], [0.6], [0.6], [0.6], [0.6], [0.6], [0.6], [0.6], [0.6], [0.6], [0.6], [0.6], [0.6], [0.6], [0.6], [0.6], [0.6], [0.6], [0.6], [0.6], [0.6], [0.6], [0.6], [0.6], [0.6], [0.6], [0.6], [0.6], [0.6], [0.6], [0.6], [0.6], [0.6], [0.6], [0.6], [0.6], [0.6], [0.6], [0.6], [0.6], [0.6], [0.6], [0.6], [0.6], [0.6], [0.6], [0.6], [0.6], [0.6], [0.6], [0.6], [0.6], [0.6], [0.6], [0.6], [0.6], [0.6], [0.6], [0.6], [0.6], [0.6], [0.6], [0.6], [0.6], [0.6], [0.6], [0.6], [0.6], [0.6], [0.6], [0.6], [0.6], [0.6], [0.6], [0.6], [0.6], [0.6], [0.6], [0.6], [0.6], [0.6], [0.6], [0.6], [0.6], [0.6], [0.6], [0.6], [0.6], [0.6], [0.6], [0.6], [0.6], [0.6], [0.6], [0.6], [0.6], [0.6], [0.6], [0.6], [0.6], [0.6], [0.6], [0.6], [0.6], [0.6], [0.6], [0.6], [0.6], [0.6], [0.6], [0.6], [0.6], [0.6], [0.6], [0.6], [0.6], [0.6], [0.6], [0.6], [0.6], [0.6], [0.6], [0.6], [0.6], [0.6], [0.6], [0.6], [0.6], [0.6], [0.6], [0.6], [0.6], [0.6], [0.6], [0.6], [0.6], [0.6], [0.6], [0.6], [0.6], [0.6], [0.6], [0.6], [0.6], [0.6], [0.6], [0.6], [0.6], [0.6], [0.6], [0.6], [0.6], [0.6], [0.6], [0.6], [0.6], [0.6], [0.6], [0.6], [0.6], [0.6], [0.6], [0.6], [0.6], [0.6], [0.6], [0.6], [0.6], [0.6], [0.6], [0.6], [0.6], [0.6], [0.6], [0.6], [0.6], [0.6], [0.6], [0.6], [0.6], [0.6], [0.6], [0.6], [0.6], [0.6], [0.6], [0.6], [0.6], [0.6], [0.6], [0.6], [0.6], [0.6], [0.6], [0.6], [0.6], [0.6], [0.6], [0.6], [0.6], [0.6], [0.6], [0.6], [0.6], [0.6], [0.6], [0.6], [0.6], [0.6], [0.6], [0.6], [0.6], [0.6], [0.6], [0.6], [0.6], [0.6], [0.6], [0.6], [0.6], [0.6], [0.6], [0.6], [0.6], [0.6], [0.6], [0.6], [0.6], [0.6], [0.6], [0.6], [0.6], [0.6], [0.6], [0.6], [0.6], [0.6], [0.6], [0.6], [0.6], [0.6], [0.6], [0.6], [0.6], [0.6], [0.6], [0.6], [0.6], [0.6], [0.6], [0.6], [0.6], [0.6], [0.6], [0.6], [0.6], [0.6], [0.6], [0.6], [0.6], [0.6], [0.6], [0.6], [0.6], [0.6], [0.6], [0.6], [0.6], [0.6], [0.6], [0.6], [0.6], [0.6], [0.6], [0.6], [0.6], [0.6], [0.6], [0.6], [0.6], [0.6], [0.6], [0.6], [0.6], [0.6], [0.6], [0.6], [0.6], [0.6], [0.6], [0.6], [0.6], [0.6], [0.6], [0.6], [0.6], [0.6], [0.6], [0.6], [0.6], [0.6], [0.6], [0.6], [0.6], [0.6], [0.6], [0.6], [0.6], [0.6], [0.6], [0.6], [0.6], [0.6], [0.6], [0.6], [0.6], [0.6], [0.6], [0.6], [0.6], [0.6], [0.6], [0.6], [0.6], [0.6], [0.6], [0.6], [0.6], [0.6], [0.6], [0.6], [0.6], [0.6], [0.6], [0.6], [0.6], [0.6], [0.6], [0.6], [0.6], [0.6], [0.6], [0.6], [0.6], [0.6], [0.6], [0.6], [0.6], [0.6], [0.6], [0.6], [0.6], [0.6], [0.6], [0.6], [0.6], [0.6], [0.6], [0.6], [0.6], [0.6], [0.6], [0.6], [0.6], [0.6], [0.6], [0.6], [0.6], [0.6], [0.6], [0.6], [0.6], [0.6], [0.6], [0.6], [0.6], [0.6], [0.6], [0.6], [0.6], [0.6], [0.6], [0.6], [0.6], [0.6], [0.6], [0.6], [0.6], [0.6], [0.6], [0.6], [0.6], [0.6], [0.6], [0.6], [0.6], [0.6], [0.6], [0.6], [0.6], [0.6], [0.6], [0.6], [0.6], [0.6], [0.6], [0.6], [0.6], [0.6], [0.6], [0.6], [0.6], [0.6], [0.6], [0.6], [0.6], [0.6], [0.6], [0.6], [0.6], [0.6], [0.6], [0.6], [0.6], [0.6], [0.6], [0.6], [0.6], [0.6], [0.6], [0.6], [0.6], [0.6], [0.6], [0.6], [0.6], [0.6], [0.6], [0.6], [0.6], [0.6], [0.6], [0.6], [0.6], [0.6], [0.6], [0.6], [0.6], [0.6], [0.6], [0.6], [0.6], [0.6], [0.6], [0.6], [0.6], [0.6], [0.6], [0.6], [0.6], [0.6], [0.6], [0.6], [0.6], [0.6], [0.6], [0.6], [0.6], [0.6], [0.6], [0.6], [0.6], [0.6], [0.6], [0.6], [0.6], [0.6], [0.6], [0.6], [0.6], [0.6], [0.6], [0.6], [0.6], [0.6], [0.6], [0.6], [0.6], [0.6], [0.6], [0.6], [0.6], [0.6], [0.6], [0.6], [0.6], [0.6], [0.6], [0.6], [0.6], [0.6], [0.6], [0.6], [0.6], [0.6], [0.6], [0.6], [0.6], [0.6], [0.6], [0.6], [0.6], [0.6], [0.6], [0.6], [0.6], [0.6], [0.6], [0.6], [0.6], [0.6], [0.6], [0.6], [0.6], [0.6], [0.6], [0.6], [0.6], [0.6], [0.6], [0.6], [0.6], [0.6], [0.6], [0.6], [0.6], [0.6], [0.6], [0.6], [0.6], [0.6], [0.6], [0.6], [0.6], [0.6], [0.6], [0.6], [0.6], [0.6], [0.6], [0.6], [0.6], [0.6], [0.6], [0.6], [0.6], [0.6], [0.6], [0.6], [0.6], [0.6], [0.6], [0.6], [0.6], [0.6], [0.6], [0.6], [0.6], [0.6], [0.6], [0.6], [0.6], [0.6], [0.6], [0.6], [0.6], [0.6], [0.6], [0.6], [0.6], [0.6], [0.6], [0.6], [0.6], [0.6], [0.6], [0.6], [0.6], [0.6], [0.6], [0.6], [0.6], [0.6], [0.6], [0.6], [0.6], [0.6], [0.6], [0.6], [0.6], [0.6], [0.6], [0.6], [0.6], [0.6], [0.6], [0.6], [0.6], [0.6], [0.6], [0.6], [0.6], [0.6], [0.6], [0.6], [0.6], [0.6], [0.6], [0.6], [0.6], [0.6], [0.6], [0.6], [0.6], [0.6], [0.6], [0.6], [0.6], [0.6], [0.6], [0.6], [0.6], [0.6], [0.6], [0.6], [0.6], [0.6], [0.6], [0.6], [0.6], [0.6], [0.6], [0.6], [0.6], [0.6], [0.6], [0.6], [0.6], [0.6], [0.6], [0.6], [0.6], [0.6], [0.6], [0.6], [0.6], [0.6], [0.6], [0.6], [0.6], [0.6], [0.6], [0.6], [0.6], [0.6], [0.6], [0.6], [0.6], [0.6], [0.6], [0.6], [0.6], [0.6], [0.6], [0.6], [0.6], [0.6]], \"size\": [5, 5, 5, 5, 5, 5]}, \"mode\": \"markers\", \"name\": \"Other\", \"x\": [\"University <br>without <br>graduating\", \"University <br>without <br>graduating\", \"Unfinished <br>Compulsory<br>Secondary <br>Education\", \"University <br>without <br>graduating\", \"University <br>without <br>graduating\", \"University <br>graduate\"], \"y\": [20, 36, 14, 22, 21, 28], \"type\": \"scatter\", \"uid\": \"1dae4fe0-05c2-41c6-998e-acdd28ac9a8c\"}], {\"xaxis\": {\"title\": {\"text\": \"Educational level\"}}, \"yaxis\": {\"title\": {\"text\": \"Age\"}}}, {\"showLink\": false, \"linkText\": \"Export to plot.ly\", \"plotlyServerURL\": \"https://plot.ly\"}); \n",
       "}\n",
       "});</script><script type=\"text/javascript\">window.addEventListener(\"resize\", function(){if (document.getElementById(\"4dfc4049-6e4a-4b62-9e31-cc7b85a272b5\")) {window._Plotly.Plots.resize(document.getElementById(\"4dfc4049-6e4a-4b62-9e31-cc7b85a272b5\"));};})</script>"
      ],
      "text/vnd.plotly.v1+html": [
       "<div id=\"4dfc4049-6e4a-4b62-9e31-cc7b85a272b5\" style=\"height: 525px; width: 100%;\" class=\"plotly-graph-div\"></div><script type=\"text/javascript\">require([\"plotly\"], function(Plotly) { window.PLOTLYENV=window.PLOTLYENV || {};window.PLOTLYENV.BASE_URL=\"https://plot.ly\";\n",
       "if (document.getElementById(\"4dfc4049-6e4a-4b62-9e31-cc7b85a272b5\")) {\n",
       "    Plotly.newPlot(\"4dfc4049-6e4a-4b62-9e31-cc7b85a272b5\", [{\"marker\": {\"opacity\": [[0.6], [0.6], [0.6], [0.6], [0.6], [0.6], [0.6], [0.6], [0.6], [0.6], [0.6], [0.6], [0.6], [0.6], [0.6], [0.6], [0.6], [0.6], [0.6], [0.6], [0.6], [0.6], [0.6], [0.6], [0.6], [0.6], [0.6], [0.6], [0.6], [0.6], [0.6], [0.6], [0.6], [0.6], [0.6], [0.6], [0.6], [0.6], [0.6], [0.6], [0.6], [0.6], [0.6], [0.6], [0.6], [0.6], [0.6], [0.6], [0.6], [0.6], [0.6], [0.6], [0.6], [0.6], [0.6], [0.6], [0.6], [0.6], [0.6], [0.6], [0.6], [0.6], [0.6], [0.6], [0.6], [0.6], [0.6], [0.6], [0.6], [0.6], [0.6], [0.6], [0.6], [0.6], [0.6], [0.6], [0.6], [0.6], [0.6], [0.6], [0.6], [0.6], [0.6], [0.6], [0.6], [0.6], [0.6], [0.6], [0.6], [0.6], [0.6], [0.6], [0.6], [0.6], [0.6], [0.6], [0.6], [0.6], [0.6], [0.6], [0.6], [0.6], [0.6], [0.6], [0.6], [0.6], [0.6], [0.6], [0.6], [0.6], [0.6], [0.6], [0.6], [0.6], [0.6], [0.6], [0.6], [0.6], [0.6], [0.6], [0.6], [0.6], [0.6], [0.6], [0.6], [0.6], [0.6], [0.6], [0.6], [0.6], [0.6], [0.6], [0.6], [0.6], [0.6], [0.6], [0.6], [0.6], [0.6], [0.6], [0.6], [0.6], [0.6], [0.6], [0.6], [0.6], [0.6], [0.6], [0.6], [0.6], [0.6], [0.6], [0.6], [0.6], [0.6], [0.6], [0.6], [0.6], [0.6], [0.6], [0.6], [0.6], [0.6], [0.6], [0.6], [0.6], [0.6], [0.6], [0.6], [0.6], [0.6], [0.6], [0.6], [0.6], [0.6], [0.6], [0.6], [0.6], [0.6], [0.6], [0.6], [0.6], [0.6], [0.6], [0.6], [0.6], [0.6], [0.6], [0.6], [0.6], [0.6], [0.6], [0.6], [0.6], [0.6], [0.6], [0.6], [0.6], [0.6], [0.6], [0.6], [0.6], [0.6], [0.6], [0.6], [0.6], [0.6], [0.6], [0.6], [0.6], [0.6], [0.6], [0.6], [0.6], [0.6], [0.6], [0.6], [0.6], [0.6], [0.6], [0.6], [0.6], [0.6], [0.6], [0.6], [0.6], [0.6], [0.6], [0.6], [0.6], [0.6], [0.6], [0.6], [0.6], [0.6], [0.6], [0.6], [0.6], [0.6], [0.6], [0.6], [0.6], [0.6], [0.6], [0.6], [0.6], [0.6], [0.6], [0.6], [0.6], [0.6], [0.6], [0.6], [0.6], [0.6], [0.6], [0.6], [0.6], [0.6], [0.6], [0.6], [0.6], [0.6], [0.6], [0.6], [0.6], [0.6], [0.6], [0.6], [0.6], [0.6], [0.6], [0.6], [0.6], [0.6], [0.6], [0.6], [0.6], [0.6], [0.6], [0.6], [0.6], [0.6], [0.6], [0.6], [0.6], [0.6], [0.6], [0.6], [0.6], [0.6], [0.6], [0.6], [0.6], [0.6], [0.6], [0.6], [0.6], [0.6], [0.6], [0.6], [0.6], [0.6], [0.6], [0.6], [0.6], [0.6], [0.6], [0.6], [0.6], [0.6], [0.6], [0.6], [0.6], [0.6], [0.6], [0.6], [0.6], [0.6], [0.6], [0.6], [0.6], [0.6], [0.6], [0.6], [0.6], [0.6], [0.6], [0.6], [0.6], [0.6], [0.6], [0.6], [0.6], [0.6], [0.6], [0.6], [0.6], [0.6], [0.6], [0.6], [0.6], [0.6], [0.6], [0.6], [0.6], [0.6], [0.6], [0.6], [0.6], [0.6], [0.6], [0.6], [0.6], [0.6], [0.6], [0.6], [0.6], [0.6], [0.6], [0.6], [0.6], [0.6], [0.6], [0.6], [0.6], [0.6], [0.6], [0.6], [0.6], [0.6], [0.6], [0.6], [0.6], [0.6], [0.6], [0.6], [0.6], [0.6], [0.6], [0.6], [0.6], [0.6], [0.6], [0.6], [0.6], [0.6], [0.6], [0.6], [0.6], [0.6], [0.6], [0.6], [0.6], [0.6], [0.6], [0.6], [0.6], [0.6], [0.6], [0.6], [0.6], [0.6], [0.6], [0.6], [0.6], [0.6], [0.6], [0.6], [0.6], [0.6], [0.6], [0.6], [0.6], [0.6], [0.6], [0.6], [0.6], [0.6], [0.6], [0.6], [0.6], [0.6], [0.6], [0.6], [0.6], [0.6], [0.6], [0.6], [0.6], [0.6], [0.6], [0.6], [0.6], [0.6], [0.6], [0.6], [0.6], [0.6], [0.6], [0.6], [0.6], [0.6], [0.6], [0.6], [0.6], [0.6], [0.6], [0.6], [0.6], [0.6], [0.6], [0.6], [0.6], [0.6], [0.6], [0.6], [0.6], [0.6], [0.6], [0.6], [0.6], [0.6], [0.6], [0.6], [0.6], [0.6], [0.6], [0.6], [0.6], [0.6], [0.6], [0.6], [0.6], [0.6], [0.6], [0.6], [0.6], [0.6], [0.6], [0.6], [0.6], [0.6], [0.6], [0.6], [0.6], [0.6], [0.6], [0.6], [0.6], [0.6], [0.6], [0.6], [0.6], [0.6], [0.6], [0.6], [0.6], [0.6], [0.6], [0.6], [0.6], [0.6], [0.6], [0.6], [0.6], [0.6], [0.6], [0.6], [0.6], [0.6], [0.6], [0.6], [0.6], [0.6], [0.6], [0.6], [0.6], [0.6], [0.6], [0.6], [0.6], [0.6], [0.6], [0.6], [0.6], [0.6], [0.6], [0.6], [0.6], [0.6], [0.6], [0.6], [0.6], [0.6], [0.6], [0.6], [0.6], [0.6], [0.6], [0.6], [0.6], [0.6], [0.6], [0.6], [0.6], [0.6], [0.6], [0.6], [0.6], [0.6], [0.6], [0.6], [0.6], [0.6], [0.6], [0.6], [0.6], [0.6], [0.6], [0.6], [0.6], [0.6], [0.6], [0.6], [0.6], [0.6], [0.6], [0.6], [0.6], [0.6], [0.6], [0.6], [0.6], [0.6], [0.6], [0.6], [0.6], [0.6], [0.6], [0.6], [0.6], [0.6], [0.6], [0.6], [0.6], [0.6], [0.6], [0.6], [0.6], [0.6], [0.6], [0.6], [0.6], [0.6], [0.6], [0.6], [0.6], [0.6], [0.6], [0.6], [0.6], [0.6], [0.6], [0.6], [0.6], [0.6], [0.6], [0.6], [0.6], [0.6], [0.6], [0.6], [0.6], [0.6], [0.6], [0.6], [0.6], [0.6], [0.6], [0.6], [0.6], [0.6], [0.6], [0.6], [0.6], [0.6], [0.6], [0.6], [0.6], [0.6], [0.6], [0.6], [0.6], [0.6], [0.6], [0.6], [0.6], [0.6], [0.6], [0.6], [0.6], [0.6], [0.6], [0.6], [0.6], [0.6], [0.6], [0.6], [0.6], [0.6], [0.6], [0.6], [0.6], [0.6], [0.6], [0.6], [0.6], [0.6], [0.6], [0.6], [0.6], [0.6], [0.6], [0.6], [0.6], [0.6], [0.6], [0.6], [0.6], [0.6], [0.6], [0.6], [0.6], [0.6], [0.6], [0.6], [0.6], [0.6], [0.6], [0.6], [0.6], [0.6], [0.6], [0.6], [0.6], [0.6], [0.6], [0.6], [0.6], [0.6], [0.6], [0.6], [0.6], [0.6], [0.6], [0.6], [0.6], [0.6], [0.6], [0.6], [0.6], [0.6], [0.6], [0.6], [0.6], [0.6], [0.6], [0.6], [0.6], [0.6], [0.6], [0.6], [0.6], [0.6], [0.6], [0.6], [0.6], [0.6], [0.6], [0.6], [0.6], [0.6], [0.6], [0.6], [0.6], [0.6], [0.6], [0.6], [0.6], [0.6], [0.6], [0.6], [0.6], [0.6], [0.6], [0.6], [0.6], [0.6], [0.6], [0.6], [0.6], [0.6], [0.6], [0.6], [0.6], [0.6], [0.6], [0.6], [0.6], [0.6], [0.6], [0.6], [0.6], [0.6], [0.6], [0.6], [0.6], [0.6], [0.6], [0.6], [0.6], [0.6], [0.6], [0.6], [0.6], [0.6]], \"size\": [20, 10, 10, 5, 5, 5, 5, 5, 5, 5, 5, 5, 5, 5, 5, 90, 40, 25, 15, 10, 5, 5, 5, 5, 5, 100, 90, 80, 60, 50, 50, 50, 45, 40, 40, 40, 40, 35, 30, 25, 25, 20, 20, 20, 15, 15, 15, 15, 15, 15, 10, 10, 10, 10, 5, 5, 5, 5, 5, 5, 5, 5, 5, 5, 5, 5, 35, 30, 25, 25, 20, 15, 15, 15, 15, 15, 10, 10, 10, 10, 10, 10, 10, 5, 5, 5, 5, 5, 5, 5, 5, 5, 5, 5, 5, 5, 10, 10, 5, 5, 5, 5, 5, 5, 5, 5, 5, 5, 5, 5, 5, 5]}, \"mode\": \"markers\", \"name\": \"Male\", \"x\": [\"University <br>graduate\", \"University <br>graduate\", \"University <br>graduate\", \"University <br>graduate\", \"University <br>without <br>graduating\", \"University <br>without <br>graduating\", \"University <br>graduate\", \"University <br>graduate\", \"University <br>graduate\", \"University <br>without <br>graduating\", \"University <br>graduate\", \"University <br>graduate\", \"University <br>graduate\", \"Unfinished <br>Compulsory<br>Secondary <br>Education\", \"University <br>graduate\", \"University <br>without <br>graduating\", \"University <br>without <br>graduating\", \"Vocational <br>Training\", \"University <br>without <br>graduating\", \"University <br>without <br>graduating\", \"University <br>graduate\", \"Unfinished <br>Compulsory<br>Secondary <br>Education\", \"Unfinished <br>Compulsory<br>Secondary <br>Education\", \"Unfinished <br>Compulsory<br>Secondary <br>Education\", \"Unfinished <br>Compulsory<br>Secondary <br>Education\", \"Unfinished <br>Compulsory<br>Secondary <br>Education\", \"University <br>graduate\", \"Unfinished <br>Compulsory<br>Secondary <br>Education\", \"University <br>without <br>graduating\", \"University <br>graduate\", \"University <br>graduate\", \"University <br>graduate\", \"University <br>graduate\", \"University <br>without <br>graduating\", \"University <br>graduate\", \"University <br>without <br>graduating\", \"Unfinished <br>Compulsory<br>Secondary <br>Education\", \"Unfinished <br>Compulsory<br>Secondary <br>Education\", \"Unfinished <br>Compulsory<br>Secondary <br>Education\", \"Unfinished <br>Compulsory<br>Secondary <br>Education\", \"Unfinished <br>Compulsory<br>Secondary <br>Education\", \"Unfinished <br>Compulsory<br>Secondary <br>Education\", \"Unfinished <br>Compulsory<br>Secondary <br>Education\", \"Unfinished <br>Compulsory<br>Secondary <br>Education\", \"Unfinished <br>Compulsory<br>Secondary <br>Education\", \"University <br>graduate\", \"University <br>graduate\", \"University <br>without <br>graduating\", \"Unfinished <br>Compulsory<br>Secondary <br>Education\", \"Unfinished <br>Compulsory<br>Secondary <br>Education\", \"Unfinished <br>Compulsory<br>Secondary <br>Education\", \"Unfinished <br>Compulsory<br>Secondary <br>Education\", \"Unfinished <br>Compulsory<br>Secondary <br>Education\", \"Unfinished <br>Compulsory<br>Secondary <br>Education\", \"University <br>without <br>graduating\", \"University <br>without <br>graduating\", \"University <br>graduate\", \"University <br>graduate\", \"University <br>without <br>graduating\", \"University <br>without <br>graduating\", \"University <br>without <br>graduating\", \"Unfinished <br>Compulsory<br>Secondary <br>Education\", \"University <br>graduate\", \"University <br>graduate\", \"University <br>graduate\", \"University <br>graduate\", \"Vocational <br>Training\", \"University <br>graduate\", \"University <br>without <br>graduating\", \"University <br>graduate\", \"University <br>graduate\", \"University <br>graduate\", \"University <br>graduate\", \"University <br>without <br>graduating\", \"University <br>without <br>graduating\", \"University <br>without <br>graduating\", \"Unfinished <br>Compulsory<br>Secondary <br>Education\", \"Unfinished <br>Compulsory<br>Secondary <br>Education\", \"Unfinished <br>Compulsory<br>Secondary <br>Education\", \"Unfinished <br>Compulsory<br>Secondary <br>Education\", \"Unfinished <br>Compulsory<br>Secondary <br>Education\", \"University <br>without <br>graduating\", \"University <br>graduate\", \"Vocational <br>Training\", \"University <br>without <br>graduating\", \"Unfinished <br>Compulsory<br>Secondary <br>Education\", \"Unfinished <br>Compulsory<br>Secondary <br>Education\", \"Unfinished <br>Compulsory<br>Secondary <br>Education\", \"Unfinished <br>Compulsory<br>Secondary <br>Education\", \"Unfinished <br>Compulsory<br>Secondary <br>Education\", \"Unfinished <br>Compulsory<br>Secondary <br>Education\", \"Unfinished <br>Compulsory<br>Secondary <br>Education\", \"Unfinished <br>Compulsory<br>Secondary <br>Education\", \"Unfinished <br>Compulsory<br>Secondary <br>Education\", \"Unfinished <br>Compulsory<br>Secondary <br>Education\", \"University <br>without <br>graduating\", \"University <br>without <br>graduating\", \"Vocational <br>Training\", \"University <br>without <br>graduating\", \"University <br>without <br>graduating\", \"University <br>graduate\", \"University <br>without <br>graduating\", \"University <br>graduate\", \"University <br>graduate\", \"University <br>graduate\", \"University <br>graduate\", \"University <br>graduate\", \"University <br>graduate\", \"University <br>without <br>graduating\", \"University <br>without <br>graduating\", \"University <br>graduate\", \"University <br>graduate\", \"University <br>graduate\", \"University <br>graduate\", \"University <br>graduate\", \"University <br>graduate\", \"University <br>without <br>graduating\", \"University <br>graduate\", \"University <br>graduate\", \"University <br>graduate\", \"University <br>graduate\", \"University <br>graduate\", \"Vocational <br>Training\", \"University <br>without <br>graduating\", \"University <br>without <br>graduating\", \"University <br>graduate\", \"University <br>graduate\", \"University <br>without <br>graduating\", \"Completed <br>Compulsory<br>Secondary <br>Education\", \"University <br>graduate\", \"University <br>graduate\", \"University <br>graduate\", \"Completed <br>Compulsory<br>Secondary <br>Education\", \"Vocational <br>Training\", \"University <br>without <br>graduating\", \"University <br>graduate\", \"University <br>graduate\", \"University <br>graduate\", \"University <br>graduate\", \"University <br>graduate\", \"University <br>graduate\", \"University <br>graduate\", \"Vocational <br>Training\", \"University <br>graduate\", \"Completed <br>Compulsory<br>Secondary <br>Education\", \"Primary <br>education\", \"University <br>graduate\", \"University <br>graduate\", \"University <br>graduate\", \"University <br>graduate\", \"University <br>without <br>graduating\", \"University <br>graduate\", \"University <br>without <br>graduating\", \"University <br>graduate\", \"University <br>without <br>graduating\", \"University <br>graduate\", \"Vocational <br>Training\", \"University <br>graduate\", \"University <br>without <br>graduating\", \"Completed <br>Compulsory<br>Secondary <br>Education\", \"University <br>without <br>graduating\", \"University <br>graduate\", \"University <br>graduate\", \"University <br>graduate\", \"Completed <br>Compulsory<br>Secondary <br>Education\", \"University <br>without <br>graduating\", \"University <br>without <br>graduating\", \"University <br>graduate\", \"University <br>graduate\", \"University <br>graduate\", \"University <br>graduate\", \"University <br>without <br>graduating\", \"Completed <br>Compulsory<br>Secondary <br>Education\", \"Completed <br>Compulsory<br>Secondary <br>Education\", \"University <br>without <br>graduating\", \"University <br>graduate\", \"University <br>graduate\", \"University <br>graduate\", \"University <br>graduate\", \"University <br>graduate\", \"Primary <br>education\", \"University <br>graduate\", \"University <br>graduate\", \"University <br>without <br>graduating\", \"Completed <br>Compulsory<br>Secondary <br>Education\", \"University <br>graduate\", \"University <br>graduate\", \"University <br>graduate\", \"University <br>graduate\", \"University <br>graduate\", \"University <br>graduate\", \"University <br>graduate\", \"University <br>without <br>graduating\", \"University <br>graduate\", \"University <br>graduate\", \"University <br>graduate\", \"University <br>graduate\", \"University <br>without <br>graduating\", \"University <br>graduate\", \"University <br>graduate\", \"University <br>graduate\", \"University <br>graduate\", \"University <br>graduate\", \"University <br>graduate\", \"University <br>graduate\", \"University <br>without <br>graduating\", \"University <br>graduate\", \"University <br>without <br>graduating\", \"University <br>graduate\", \"University <br>graduate\", \"University <br>graduate\", \"University <br>graduate\", \"University <br>graduate\", \"University <br>graduate\", \"University <br>graduate\", \"Vocational <br>Training\", \"University <br>graduate\", \"University <br>without <br>graduating\", \"University <br>graduate\", \"University <br>graduate\", \"University <br>graduate\", \"University <br>graduate\", \"University <br>graduate\", \"Vocational <br>Training\", \"University <br>without <br>graduating\", \"University <br>graduate\", \"University <br>graduate\", \"Completed <br>Compulsory<br>Secondary <br>Education\", \"University <br>without <br>graduating\", \"University <br>graduate\", \"University <br>graduate\", \"University <br>graduate\", \"University <br>graduate\", \"Vocational <br>Training\", \"University <br>graduate\", \"University <br>graduate\", \"University <br>without <br>graduating\", \"University <br>without <br>graduating\", \"University <br>graduate\", \"University <br>graduate\", \"University <br>graduate\", \"Vocational <br>Training\", \"University <br>graduate\", \"University <br>graduate\", \"University <br>without <br>graduating\", \"University <br>graduate\", \"University <br>graduate\", \"University <br>graduate\", \"Unfinished <br>Compulsory<br>Secondary <br>Education\", \"University <br>graduate\", \"University <br>without <br>graduating\", \"University <br>graduate\", \"University <br>without <br>graduating\", \"University <br>graduate\", \"University <br>graduate\", \"University <br>graduate\", \"University <br>graduate\", \"University <br>without <br>graduating\", \"University <br>graduate\", \"University <br>graduate\", \"University <br>graduate\", \"University <br>graduate\", \"University <br>graduate\", \"University <br>graduate\", \"University <br>graduate\", \"University <br>graduate\", \"University <br>graduate\", \"University <br>graduate\", \"Vocational <br>Training\", \"Vocational <br>Training\", \"University <br>graduate\", \"University <br>graduate\", \"University <br>graduate\", \"Vocational <br>Training\", \"University <br>graduate\", \"University <br>graduate\", \"University <br>graduate\", \"University <br>graduate\", \"Completed <br>Compulsory<br>Secondary <br>Education\", \"University <br>graduate\", \"University <br>graduate\", \"Completed <br>Compulsory<br>Secondary <br>Education\", \"University <br>graduate\", \"Completed <br>Compulsory<br>Secondary <br>Education\", \"University <br>graduate\", \"University <br>graduate\", \"University <br>graduate\", \"University <br>graduate\", \"Completed <br>Compulsory<br>Secondary <br>Education\", \"University <br>graduate\", \"University <br>graduate\", \"Primary <br>education\", \"University <br>graduate\", \"University <br>graduate\", \"University <br>graduate\", \"University <br>graduate\", \"Completed <br>Compulsory<br>Secondary <br>Education\", \"University <br>graduate\", \"University <br>graduate\", \"University <br>without <br>graduating\", \"University <br>graduate\", \"University <br>graduate\", \"University <br>graduate\", \"Vocational <br>Training\", \"University <br>graduate\", \"University <br>graduate\", \"University <br>graduate\", \"University <br>graduate\", \"University <br>graduate\", \"Unfinished <br>Compulsory<br>Secondary <br>Education\", \"University <br>graduate\", \"University <br>without <br>graduating\", \"University <br>graduate\", \"University <br>graduate\", \"University <br>graduate\", \"University <br>without <br>graduating\", \"Completed <br>Compulsory<br>Secondary <br>Education\", \"University <br>graduate\", \"Vocational <br>Training\", \"University <br>without <br>graduating\", \"Vocational <br>Training\", \"University <br>graduate\", \"University <br>graduate\", \"University <br>graduate\", \"Completed <br>Compulsory<br>Secondary <br>Education\", \"University <br>graduate\", \"University <br>graduate\", \"University <br>without <br>graduating\", \"University <br>graduate\", \"University <br>graduate\", \"University <br>without <br>graduating\", \"University <br>without <br>graduating\", \"University <br>graduate\", \"University <br>graduate\", \"University <br>without <br>graduating\", \"University <br>graduate\", \"University <br>graduate\", \"University <br>graduate\", \"University <br>graduate\", \"University <br>without <br>graduating\", \"University <br>graduate\", \"University <br>graduate\", \"University <br>graduate\", \"University <br>graduate\", \"University <br>without <br>graduating\", \"University <br>without <br>graduating\", \"Completed <br>Compulsory<br>Secondary <br>Education\", \"University <br>graduate\", \"University <br>graduate\", \"University <br>graduate\", \"Unfinished <br>Compulsory<br>Secondary <br>Education\", \"University <br>graduate\", \"University <br>without <br>graduating\", \"University <br>graduate\", \"University <br>graduate\", \"University <br>graduate\", \"University <br>graduate\", \"University <br>graduate\"], \"y\": [37, 62, 28, 30, 60, 20, 31, 33, 23, 21, 29, 29, 36, 38, 33, 19, 25, 67, 23, 70, 36, 17, 17, 18, 15, 15, 23, 14, 21, 30, 53, 29, 30, 20, 30, 20, 15, 14, 14, 14, 14, 14, 15, 14, 15, 31, 30, 19, 16, 16, 15, 16, 18, 15, 19, 34, 35, 38, 20, 23, 21, 18, 61, 57, 41, 26, 46, 28, 22, 47, 42, 31, 28, 23, 18, 21, 14, 15, 16, 14, 14, 24, 64, 32, 21, 13, 14, 16, 14, 14, 14, 14, 14, 14, 14, 19, 18, 45, 21, 21, 27, 28, 32, 29, 22, 29, 21, 28, 26, 27, 32, 32, 40, 27, 26, 31, 34, 25, 28, 30, 46, 28, 28, 30, 24, 27, 38, 31, 24, 28, 46, 26, 22, 38, 26, 27, 40, 26, 34, 31, 29, 32, 47, 34, 28, 36, 34, 33, 43, 35, 39, 42, 32, 33, 24, 24, 47, 27, 47, 24, 29, 34, 29, 39, 42, 43, 42, 28, 35, 36, 24, 22, 27, 53, 28, 31, 60, 34, 39, 69, 21, 43, 34, 19, 30, 29, 33, 65, 30, 38, 28, 47, 23, 39, 30, 39, 29, 22, 42, 37, 36, 44, 36, 29, 63, 32, 37, 27, 35, 26, 32, 32, 28, 33, 29, 39, 35, 31, 25, 36, 36, 30, 30, 34, 27, 57, 44, 36, 29, 29, 29, 36, 28, 38, 37, 28, 54, 28, 41, 28, 39, 27, 38, 33, 42, 35, 45, 30, 27, 30, 23, 44, 25, 27, 26, 25, 23, 38, 35, 24, 33, 31, 32, 53, 28, 21, 41, 29, 51, 31, 30, 28, 37, 49, 26, 26, 26, 33, 27, 30, 22, 34, 24, 27, 24, 22, 28, 60, 39, 39, 43, 33, 25, 40, 40, 26, 26, 33, 39, 23, 35, 29, 34, 42, 39, 51, 23, 32, 41, 29, 27, 67, 27, 32, 27, 36, 34, 47, 30, 62, 35, 49, 71, 31, 23, 68, 50, 30, 30, 40, 30, 66, 37, 57, 25, 30, 29, 32, 24, 48, 28, 26, 29, 28, 25, 37, 27, 28, 23, 27, 26, 26, 25, 29, 28, 34, 24, 34], \"type\": \"scatter\", \"uid\": \"eed213e2-120f-40e1-927c-04448d2da55c\"}, {\"marker\": {\"opacity\": [[0.6], [0.6], [0.6], [0.6], [0.6], [0.6], [0.6], [0.6], [0.6], [0.6], [0.6], [0.6], [0.6], [0.6], [0.6], [0.6], [0.6], [0.6], [0.6], [0.6], [0.6], [0.6], [0.6], [0.6], [0.6], [0.6], [0.6], [0.6], [0.6], [0.6], [0.6], [0.6], [0.6], [0.6], [0.6], [0.6], [0.6], [0.6], [0.6], [0.6], [0.6], [0.6], [0.6], [0.6], [0.6], [0.6], [0.6], [0.6], [0.6], [0.6], [0.6], [0.6], [0.6], [0.6], [0.6], [0.6], [0.6], [0.6], [0.6], [0.6], [0.6], [0.6], [0.6], [0.6], [0.6], [0.6], [0.6], [0.6], [0.6], [0.6], [0.6], [0.6], [0.6], [0.6], [0.6], [0.6], [0.6], [0.6], [0.6], [0.6], [0.6], [0.6], [0.6], [0.6], [0.6], [0.6], [0.6], [0.6], [0.6], [0.6], [0.6], [0.6], [0.6], [0.6], [0.6], [0.6], [0.6], [0.6], [0.6], [0.6], [0.6], [0.6], [0.6], [0.6], [0.6], [0.6], [0.6], [0.6], [0.6], [0.6], [0.6], [0.6], [0.6], [0.6], [0.6], [0.6], [0.6], [0.6], [0.6], [0.6], [0.6], [0.6], [0.6], [0.6], [0.6], [0.6], [0.6], [0.6], [0.6], [0.6], [0.6], [0.6], [0.6], [0.6], [0.6], [0.6], [0.6], [0.6], [0.6], [0.6], [0.6], [0.6], [0.6], [0.6], [0.6], [0.6], [0.6], [0.6], [0.6], [0.6], [0.6], [0.6], [0.6], [0.6], [0.6], [0.6], [0.6], [0.6], [0.6], [0.6], [0.6], [0.6], [0.6], [0.6], [0.6], [0.6], [0.6], [0.6], [0.6], [0.6], [0.6], [0.6], [0.6], [0.6], [0.6], [0.6], [0.6], [0.6], [0.6], [0.6], [0.6], [0.6], [0.6], [0.6], [0.6], [0.6], [0.6], [0.6], [0.6], [0.6], [0.6], [0.6], [0.6], [0.6], [0.6], [0.6], [0.6], [0.6], [0.6], [0.6], [0.6], [0.6], [0.6], [0.6], [0.6], [0.6], [0.6], [0.6], [0.6], [0.6], [0.6], [0.6], [0.6], [0.6], [0.6], [0.6], [0.6], [0.6], [0.6], [0.6], [0.6], [0.6], [0.6], [0.6], [0.6], [0.6], [0.6], [0.6], [0.6], [0.6], [0.6], [0.6], [0.6], [0.6], [0.6], [0.6], [0.6], [0.6], [0.6], [0.6], [0.6], [0.6], [0.6], [0.6], [0.6], [0.6], [0.6], [0.6], [0.6], [0.6], [0.6], [0.6], [0.6], [0.6], [0.6], [0.6], [0.6], [0.6], [0.6], [0.6], [0.6], [0.6], [0.6], [0.6], [0.6], [0.6], [0.6], [0.6], [0.6], [0.6], [0.6], [0.6], [0.6], [0.6], [0.6], [0.6], [0.6], [0.6], [0.6], [0.6], [0.6], [0.6], [0.6], [0.6], [0.6], [0.6], [0.6], [0.6], [0.6], [0.6], [0.6], [0.6], [0.6], [0.6], [0.6], [0.6], [0.6], [0.6], [0.6], [0.6], [0.6], [0.6], [0.6], [0.6], [0.6], [0.6], [0.6], [0.6], [0.6], [0.6], [0.6], [0.6], [0.6], [0.6], [0.6], [0.6], [0.6], [0.6], [0.6], [0.6], [0.6], [0.6], [0.6], [0.6], [0.6], [0.6], [0.6], [0.6], [0.6], [0.6], [0.6], [0.6], [0.6], [0.6], [0.6], [0.6], [0.6], [0.6], [0.6], [0.6], [0.6], [0.6], [0.6], [0.6], [0.6], [0.6], [0.6], [0.6], [0.6], [0.6], [0.6], [0.6], [0.6], [0.6], [0.6], [0.6], [0.6], [0.6], [0.6], [0.6], [0.6], [0.6], [0.6], [0.6], [0.6], [0.6], [0.6], [0.6], [0.6], [0.6], [0.6], [0.6], [0.6], [0.6], [0.6], [0.6], [0.6], [0.6], [0.6], [0.6], [0.6], [0.6], [0.6], [0.6], [0.6], [0.6], [0.6], [0.6], [0.6], [0.6], [0.6], [0.6], [0.6], [0.6], [0.6], [0.6], [0.6], [0.6], [0.6], [0.6], [0.6], [0.6], [0.6], [0.6], [0.6], [0.6], [0.6], [0.6], [0.6], [0.6], [0.6], [0.6], [0.6], [0.6], [0.6], [0.6], [0.6], [0.6], [0.6], [0.6], [0.6], [0.6], [0.6], [0.6], [0.6], [0.6], [0.6], [0.6], [0.6], [0.6], [0.6], [0.6], [0.6], [0.6], [0.6], [0.6], [0.6], [0.6], [0.6], [0.6], [0.6], [0.6], [0.6], [0.6], [0.6], [0.6], [0.6], [0.6], [0.6], [0.6], [0.6], [0.6], [0.6], [0.6], [0.6], [0.6], [0.6], [0.6], [0.6], [0.6], [0.6], [0.6], [0.6], [0.6], [0.6], [0.6], [0.6], [0.6], [0.6], [0.6], [0.6], [0.6], [0.6], [0.6], [0.6], [0.6], [0.6], [0.6], [0.6], [0.6], [0.6], [0.6], [0.6], [0.6], [0.6], [0.6], [0.6], [0.6], [0.6], [0.6], [0.6], [0.6], [0.6], [0.6], [0.6], [0.6], [0.6], [0.6], [0.6], [0.6], [0.6], [0.6], [0.6], [0.6], [0.6], [0.6], [0.6], [0.6], [0.6], [0.6], [0.6], [0.6], [0.6], [0.6], [0.6], [0.6], [0.6], [0.6], [0.6], [0.6], [0.6], [0.6], [0.6], [0.6], [0.6], [0.6], [0.6], [0.6], [0.6], [0.6], [0.6], [0.6], [0.6], [0.6], [0.6], [0.6], [0.6], [0.6], [0.6], [0.6], [0.6], [0.6], [0.6], [0.6], [0.6], [0.6], [0.6], [0.6], [0.6], [0.6], [0.6], [0.6], [0.6], [0.6], [0.6], [0.6], [0.6], [0.6], [0.6], [0.6], [0.6], [0.6], [0.6], [0.6], [0.6], [0.6], [0.6], [0.6], [0.6], [0.6], [0.6], [0.6], [0.6], [0.6], [0.6], [0.6], [0.6], [0.6], [0.6], [0.6], [0.6], [0.6], [0.6], [0.6], [0.6], [0.6], [0.6], [0.6], [0.6], [0.6], [0.6], [0.6], [0.6], [0.6], [0.6], [0.6], [0.6], [0.6], [0.6], [0.6], [0.6], [0.6], [0.6], [0.6], [0.6], [0.6], [0.6], [0.6], [0.6], [0.6], [0.6], [0.6], [0.6], [0.6], [0.6], [0.6], [0.6], [0.6], [0.6], [0.6], [0.6], [0.6], [0.6], [0.6], [0.6], [0.6], [0.6], [0.6], [0.6], [0.6], [0.6], [0.6], [0.6], [0.6], [0.6], [0.6], [0.6], [0.6], [0.6], [0.6], [0.6], [0.6], [0.6], [0.6], [0.6], [0.6], [0.6], [0.6], [0.6], [0.6], [0.6], [0.6], [0.6], [0.6], [0.6], [0.6], [0.6], [0.6], [0.6], [0.6], [0.6], [0.6], [0.6], [0.6], [0.6], [0.6], [0.6], [0.6], [0.6], [0.6], [0.6], [0.6], [0.6], [0.6], [0.6], [0.6], [0.6], [0.6], [0.6], [0.6], [0.6], [0.6], [0.6], [0.6], [0.6], [0.6], [0.6], [0.6], [0.6], [0.6], [0.6], [0.6], [0.6], [0.6], [0.6], [0.6], [0.6], [0.6], [0.6], [0.6], [0.6], [0.6], [0.6], [0.6], [0.6], [0.6], [0.6], [0.6], [0.6], [0.6], [0.6], [0.6], [0.6], [0.6], [0.6], [0.6], [0.6], [0.6], [0.6], [0.6], [0.6], [0.6], [0.6], [0.6], [0.6], [0.6], [0.6], [0.6], [0.6], [0.6], [0.6], [0.6], [0.6], [0.6], [0.6], [0.6], [0.6], [0.6], [0.6], [0.6], [0.6], [0.6], [0.6], [0.6], [0.6], [0.6], [0.6], [0.6], [0.6], [0.6], [0.6], [0.6], [0.6], [0.6], [0.6], [0.6], [0.6], [0.6], [0.6], [0.6], [0.6], [0.6], [0.6], [0.6], [0.6], [0.6], [0.6]], \"size\": [15, 15, 10, 10, 10, 5, 5, 5, 5, 5, 5, 5, 5, 5, 5, 5, 5, 5, 5, 5, 5, 5, 5, 5, 10, 10, 5, 5, 5, 5, 5, 5, 5, 50, 45, 25, 20, 15, 10, 5, 5, 110, 80, 60, 50, 50, 45, 45, 45, 40, 40, 40, 40, 40, 35, 35, 30, 25, 20, 20, 20, 15, 15, 15, 15, 15, 15, 15, 10, 10, 10, 10, 10, 10, 10, 10, 5, 5, 5, 5, 5, 5, 5, 5, 5, 60, 35, 30, 25, 25, 20, 20, 10, 10, 10, 10, 10, 10, 10, 10, 10, 10, 10, 10, 5, 5, 5, 5, 5, 5, 5, 5, 5, 5, 5, 5, 5, 5, 5, 15, 10, 10, 10, 10, 10, 10, 5, 5, 5, 5, 5, 5, 5, 5, 5]}, \"mode\": \"markers\", \"name\": \"Female\", \"x\": [\"University <br>graduate\", \"University <br>without <br>graduating\", \"University <br>graduate\", \"University <br>graduate\", \"University <br>graduate\", \"University <br>graduate\", \"University <br>graduate\", \"University <br>graduate\", \"University <br>graduate\", \"Completed <br>Compulsory<br>Secondary <br>Education\", \"Completed <br>Compulsory<br>Secondary <br>Education\", \"Vocational <br>Training\", \"University <br>without <br>graduating\", \"University <br>graduate\", \"University <br>graduate\", \"University <br>graduate\", \"University <br>graduate\", \"University <br>without <br>graduating\", \"University <br>graduate\", \"University <br>without <br>graduating\", \"Completed <br>Compulsory<br>Secondary <br>Education\", \"Vocational <br>Training\", \"University <br>graduate\", \"University <br>without <br>graduating\", \"Vocational <br>Training\", \"Primary <br>education\", \"University <br>without <br>graduating\", \"University <br>graduate\", \"Unfinished <br>Compulsory<br>Secondary <br>Education\", \"Unfinished <br>Compulsory<br>Secondary <br>Education\", \"Unfinished <br>Compulsory<br>Secondary <br>Education\", \"Unfinished <br>Compulsory<br>Secondary <br>Education\", \"Unfinished <br>Compulsory<br>Secondary <br>Education\", \"Unfinished <br>Compulsory<br>Secondary <br>Education\", \"University <br>graduate\", \"University <br>graduate\", \"Vocational <br>Training\", \"University <br>graduate\", \"University <br>without <br>graduating\", \"University <br>without <br>graduating\", \"University <br>without <br>graduating\", \"University <br>graduate\", \"University <br>graduate\", \"University <br>graduate\", \"University <br>without <br>graduating\", \"University <br>graduate\", \"University <br>without <br>graduating\", \"University <br>graduate\", \"University <br>graduate\", \"University <br>graduate\", \"University <br>without <br>graduating\", \"University <br>without <br>graduating\", \"University <br>without <br>graduating\", \"University <br>without <br>graduating\", \"University <br>without <br>graduating\", \"University <br>without <br>graduating\", \"University <br>without <br>graduating\", \"University <br>without <br>graduating\", \"Unfinished <br>Compulsory<br>Secondary <br>Education\", \"Unfinished <br>Compulsory<br>Secondary <br>Education\", \"Unfinished <br>Compulsory<br>Secondary <br>Education\", \"University <br>graduate\", \"University <br>graduate\", \"Unfinished <br>Compulsory<br>Secondary <br>Education\", \"Unfinished <br>Compulsory<br>Secondary <br>Education\", \"Unfinished <br>Compulsory<br>Secondary <br>Education\", \"Unfinished <br>Compulsory<br>Secondary <br>Education\", \"Unfinished <br>Compulsory<br>Secondary <br>Education\", \"Unfinished <br>Compulsory<br>Secondary <br>Education\", \"University <br>without <br>graduating\", \"Unfinished <br>Compulsory<br>Secondary <br>Education\", \"University <br>graduate\", \"University <br>without <br>graduating\", \"University <br>graduate\", \"Vocational <br>Training\", \"University <br>graduate\", \"University <br>graduate\", \"University <br>graduate\", \"University <br>graduate\", \"University <br>graduate\", \"Vocational <br>Training\", \"University <br>graduate\", \"Vocational <br>Training\", \"Vocational <br>Training\", \"Completed <br>Compulsory<br>Secondary <br>Education\", \"University <br>without <br>graduating\", \"University <br>graduate\", \"University <br>graduate\", \"University <br>graduate\", \"Completed <br>Compulsory<br>Secondary <br>Education\", \"University <br>without <br>graduating\", \"University <br>without <br>graduating\", \"University <br>without <br>graduating\", \"University <br>without <br>graduating\", \"University <br>without <br>graduating\", \"University <br>without <br>graduating\", \"University <br>graduate\", \"University <br>graduate\", \"University <br>graduate\", \"University <br>graduate\", \"University <br>graduate\", \"University <br>graduate\", \"University <br>graduate\", \"University <br>graduate\", \"University <br>graduate\", \"University <br>graduate\", \"University <br>graduate\", \"University <br>graduate\", \"University <br>graduate\", \"University <br>without <br>graduating\", \"University <br>graduate\", \"University <br>without <br>graduating\", \"University <br>graduate\", \"University <br>graduate\", \"University <br>without <br>graduating\", \"Vocational <br>Training\", \"University <br>without <br>graduating\", \"University <br>without <br>graduating\", \"Unfinished <br>Compulsory<br>Secondary <br>Education\", \"Unfinished <br>Compulsory<br>Secondary <br>Education\", \"Unfinished <br>Compulsory<br>Secondary <br>Education\", \"University <br>graduate\", \"Completed <br>Compulsory<br>Secondary <br>Education\", \"Vocational <br>Training\", \"Unfinished <br>Compulsory<br>Secondary <br>Education\", \"Unfinished <br>Compulsory<br>Secondary <br>Education\", \"Unfinished <br>Compulsory<br>Secondary <br>Education\", \"Unfinished <br>Compulsory<br>Secondary <br>Education\", \"Unfinished <br>Compulsory<br>Secondary <br>Education\", \"Unfinished <br>Compulsory<br>Secondary <br>Education\", \"Unfinished <br>Compulsory<br>Secondary <br>Education\", \"Unfinished <br>Compulsory<br>Secondary <br>Education\", \"Unfinished <br>Compulsory<br>Secondary <br>Education\", \"Unfinished <br>Compulsory<br>Secondary <br>Education\", \"Unfinished <br>Compulsory<br>Secondary <br>Education\", \"Unfinished <br>Compulsory<br>Secondary <br>Education\", \"University <br>graduate\", \"University <br>without <br>graduating\", \"University <br>without <br>graduating\", \"University <br>without <br>graduating\", \"Vocational <br>Training\", \"University <br>graduate\", \"University <br>without <br>graduating\", \"University <br>graduate\", \"University <br>graduate\", \"University <br>graduate\", \"University <br>graduate\", \"Primary <br>education\", \"University <br>graduate\", \"University <br>graduate\", \"University <br>graduate\", \"University <br>graduate\", \"University <br>graduate\", \"University <br>without <br>graduating\", \"Completed <br>Compulsory<br>Secondary <br>Education\", \"University <br>graduate\", \"University <br>without <br>graduating\", \"Completed <br>Compulsory<br>Secondary <br>Education\", \"University <br>graduate\", \"University <br>graduate\", \"Vocational <br>Training\", \"University <br>graduate\", \"University <br>graduate\", \"University <br>graduate\", \"University <br>graduate\", \"University <br>without <br>graduating\", \"University <br>graduate\", \"University <br>graduate\", \"University <br>graduate\", \"University <br>graduate\", \"University <br>graduate\", \"University <br>graduate\", \"University <br>graduate\", \"University <br>graduate\", \"University <br>graduate\", \"University <br>graduate\", \"University <br>graduate\", \"University <br>graduate\", \"Completed <br>Compulsory<br>Secondary <br>Education\", \"University <br>without <br>graduating\", \"University <br>graduate\", \"University <br>graduate\", \"Unfinished <br>Compulsory<br>Secondary <br>Education\", \"University <br>graduate\", \"University <br>graduate\", \"University <br>graduate\", \"Primary <br>education\", \"Vocational <br>Training\", \"University <br>graduate\", \"University <br>graduate\", \"Vocational <br>Training\", \"University <br>graduate\", \"University <br>graduate\", \"Vocational <br>Training\", \"University <br>graduate\", \"University <br>graduate\", \"University <br>graduate\", \"University <br>graduate\", \"University <br>graduate\", \"Primary <br>education\", \"University <br>graduate\", \"Completed <br>Compulsory<br>Secondary <br>Education\", \"University <br>graduate\", \"Vocational <br>Training\", \"Primary <br>education\", \"University <br>without <br>graduating\", \"University <br>graduate\", \"University <br>graduate\", \"University <br>graduate\", \"Completed <br>Compulsory<br>Secondary <br>Education\", \"University <br>graduate\", \"University <br>without <br>graduating\", \"Completed <br>Compulsory<br>Secondary <br>Education\", \"University <br>graduate\", \"University <br>graduate\", \"University <br>graduate\", \"University <br>graduate\", \"University <br>graduate\", \"University <br>without <br>graduating\", \"University <br>without <br>graduating\", \"University <br>graduate\", \"University <br>without <br>graduating\", \"University <br>graduate\", \"University <br>graduate\", \"University <br>graduate\", \"Completed <br>Compulsory<br>Secondary <br>Education\", \"University <br>without <br>graduating\", \"University <br>graduate\", \"University <br>graduate\", \"University <br>graduate\", \"University <br>graduate\", \"University <br>graduate\", \"Vocational <br>Training\", \"University <br>graduate\", \"University <br>graduate\", \"University <br>graduate\", \"University <br>graduate\", \"University <br>graduate\", \"University <br>graduate\", \"University <br>graduate\", \"Completed <br>Compulsory<br>Secondary <br>Education\", \"University <br>without <br>graduating\", \"Completed <br>Compulsory<br>Secondary <br>Education\", \"University <br>graduate\", \"University <br>graduate\", \"University <br>graduate\", \"University <br>without <br>graduating\", \"University <br>graduate\", \"University <br>graduate\", \"Primary <br>education\", \"University <br>graduate\", \"Completed <br>Compulsory<br>Secondary <br>Education\", \"University <br>without <br>graduating\", \"Completed <br>Compulsory<br>Secondary <br>Education\", \"University <br>graduate\", \"Completed <br>Compulsory<br>Secondary <br>Education\", \"University <br>without <br>graduating\", \"University <br>graduate\", \"Completed <br>Compulsory<br>Secondary <br>Education\", \"University <br>graduate\", \"Primary <br>education\", \"University <br>graduate\", \"University <br>graduate\", \"University <br>graduate\", \"University <br>without <br>graduating\", \"University <br>graduate\", \"Completed <br>Compulsory<br>Secondary <br>Education\", \"University <br>without <br>graduating\", \"University <br>graduate\", \"University <br>graduate\", \"University <br>graduate\", \"University <br>without <br>graduating\", \"Completed <br>Compulsory<br>Secondary <br>Education\", \"University <br>graduate\", \"University <br>graduate\", \"University <br>without <br>graduating\", \"University <br>graduate\", \"Vocational <br>Training\", \"University <br>without <br>graduating\", \"University <br>graduate\", \"Completed <br>Compulsory<br>Secondary <br>Education\", \"Primary <br>education\", \"University <br>graduate\", \"University <br>graduate\", \"University <br>graduate\", \"University <br>graduate\", \"University <br>graduate\", \"University <br>graduate\", \"University <br>without <br>graduating\", \"University <br>graduate\", \"University <br>graduate\", \"Vocational <br>Training\", \"University <br>without <br>graduating\", \"University <br>without <br>graduating\", \"Primary <br>education\", \"University <br>without <br>graduating\", \"University <br>graduate\", \"Completed <br>Compulsory<br>Secondary <br>Education\", \"University <br>graduate\", \"University <br>without <br>graduating\", \"University <br>graduate\", \"University <br>graduate\", \"University <br>graduate\", \"University <br>graduate\", \"Vocational <br>Training\", \"Unfinished <br>Compulsory<br>Secondary <br>Education\", \"University <br>without <br>graduating\", \"University <br>graduate\", \"University <br>graduate\", \"University <br>graduate\", \"University <br>graduate\", \"Completed <br>Compulsory<br>Secondary <br>Education\", \"University <br>without <br>graduating\", \"University <br>without <br>graduating\", \"University <br>graduate\", \"University <br>graduate\", \"University <br>graduate\", \"University <br>graduate\", \"University <br>graduate\", \"Completed <br>Compulsory<br>Secondary <br>Education\", \"University <br>without <br>graduating\", \"University <br>without <br>graduating\", \"University <br>graduate\", \"University <br>without <br>graduating\", \"University <br>graduate\", \"University <br>graduate\", \"University <br>graduate\", \"Completed <br>Compulsory<br>Secondary <br>Education\", \"University <br>graduate\", \"University <br>graduate\", \"University <br>graduate\", \"University <br>graduate\", \"University <br>graduate\", \"University <br>graduate\", \"University <br>graduate\", \"University <br>graduate\", \"Completed <br>Compulsory<br>Secondary <br>Education\", \"Unfinished <br>Compulsory<br>Secondary <br>Education\", \"University <br>without <br>graduating\", \"Vocational <br>Training\", \"University <br>without <br>graduating\", \"University <br>without <br>graduating\", \"Completed <br>Compulsory<br>Secondary <br>Education\", \"University <br>without <br>graduating\", \"University <br>graduate\", \"University <br>without <br>graduating\", \"University <br>without <br>graduating\", \"Primary <br>education\", \"University <br>graduate\", \"Unfinished <br>Compulsory<br>Secondary <br>Education\", \"University <br>graduate\", \"University <br>graduate\", \"University <br>graduate\", \"University <br>without <br>graduating\", \"University <br>without <br>graduating\", \"Primary <br>education\", \"University <br>graduate\", \"University <br>graduate\", \"University <br>graduate\", \"University <br>graduate\", \"University <br>without <br>graduating\", \"University <br>graduate\", \"University <br>graduate\", \"Vocational <br>Training\", \"University <br>graduate\", \"University <br>graduate\", \"University <br>graduate\", \"University <br>graduate\", \"Completed <br>Compulsory<br>Secondary <br>Education\", \"University <br>graduate\", \"University <br>graduate\", \"University <br>graduate\", \"University <br>graduate\", \"University <br>graduate\", \"University <br>graduate\", \"Completed <br>Compulsory<br>Secondary <br>Education\", \"University <br>without <br>graduating\", \"University <br>graduate\", \"University <br>graduate\", \"University <br>graduate\", \"Vocational <br>Training\", \"University <br>graduate\", \"Vocational <br>Training\", \"University <br>graduate\", \"University <br>graduate\", \"University <br>without <br>graduating\", \"University <br>graduate\", \"University <br>without <br>graduating\", \"University <br>graduate\", \"University <br>graduate\", \"University <br>without <br>graduating\", \"University <br>graduate\", \"University <br>graduate\", \"Completed <br>Compulsory<br>Secondary <br>Education\", \"University <br>without <br>graduating\", \"University <br>graduate\", \"University <br>graduate\", \"University <br>graduate\", \"University <br>graduate\", \"University <br>graduate\", \"University <br>graduate\", \"University <br>graduate\", \"University <br>without <br>graduating\"], \"y\": [31, 24, 30, 42, 32, 30, 31, 35, 23, 28, 41, 32, 22, 33, 46, 24, 43, 21, 50, 57, 46, 53, 44, 18, 27, 64, 18, 23, 15, 15, 15, 16, 16, 17, 31, 35, 32, 31, 21, 22, 20, 35, 48, 29, 42, 28, 21, 28, 27, 62, 19, 21, 22, 23, 18, 19, 18, 51, 15, 15, 14, 26, 34, 17, 17, 16, 15, 15, 16, 19, 16, 35, 38, 34, 30, 34, 41, 35, 35, 36, 46, 32, 55, 34, 37, 21, 52, 31, 25, 31, 20, 19, 19, 19, 18, 20, 39, 44, 28, 41, 57, 55, 28, 61, 62, 43, 39, 46, 55, 21, 45, 27, 46, 32, 21, 26, 19, 21, 15, 13, 15, 30, 62, 24, 14, 14, 14, 14, 13, 13, 14, 14, 14, 15, 14, 13, 53, 21, 21, 81, 42, 26, 27, 27, 26, 37, 32, 25, 29, 30, 29, 37, 28, 22, 27, 44, 35, 35, 27, 35, 61, 27, 31, 23, 33, 22, 37, 31, 30, 24, 49, 32, 35, 41, 26, 30, 35, 35, 22, 39, 33, 37, 21, 30, 27, 56, 35, 24, 36, 24, 34, 30, 33, 55, 26, 25, 37, 46, 59, 25, 23, 29, 32, 55, 27, 26, 23, 26, 51, 62, 51, 30, 60, 54, 48, 32, 26, 29, 39, 40, 31, 21, 56, 24, 34, 43, 56, 34, 46, 35, 49, 28, 33, 26, 29, 47, 27, 28, 43, 54, 31, 24, 40, 30, 38, 38, 23, 24, 24, 30, 24, 29, 26, 52, 29, 51, 56, 22, 30, 22, 37, 24, 38, 25, 28, 46, 46, 48, 33, 24, 33, 32, 36, 33, 45, 42, 34, 38, 20, 37, 20, 44, 27, 30, 57, 40, 34, 24, 66, 46, 35, 20, 38, 30, 28, 27, 56, 24, 45, 59, 27, 33, 41, 31, 64, 34, 81, 43, 38, 24, 46, 25, 29, 67, 69, 73, 30, 38, 42, 31, 50, 55, 32, 25, 53, 45, 35, 46, 33, 25, 45, 62, 24, 27, 30, 50, 28, 43, 33, 50, 40, 47, 55, 26, 48, 67, 27, 28, 38, 43, 47, 24, 38, 27, 21, 43, 36, 60, 25, 25, 45, 29, 24, 27, 44, 54, 37, 58, 65, 34, 53, 35, 78, 33, 23, 18, 36, 24, 37, 26, 53, 25, 38, 24, 28, 37, 35, 33, 31, 29, 25, 35, 50, 26, 26, 24, 24, 34, 24, 24, 24, 24, 27], \"type\": \"scatter\", \"uid\": \"0e554189-620a-42ac-88a6-2b91e5da30c7\"}, {\"marker\": {\"opacity\": [[0.6], [0.6], [0.6], [0.6], [0.6], [0.6], [0.6], [0.6], [0.6], [0.6], [0.6], [0.6], [0.6], [0.6], [0.6], [0.6], [0.6], [0.6], [0.6], [0.6], [0.6], [0.6], [0.6], [0.6], [0.6], [0.6], [0.6], [0.6], [0.6], [0.6], [0.6], [0.6], [0.6], [0.6], [0.6], [0.6], [0.6], [0.6], [0.6], [0.6], [0.6], [0.6], [0.6], [0.6], [0.6], [0.6], [0.6], [0.6], [0.6], [0.6], [0.6], [0.6], [0.6], [0.6], [0.6], [0.6], [0.6], [0.6], [0.6], [0.6], [0.6], [0.6], [0.6], [0.6], [0.6], [0.6], [0.6], [0.6], [0.6], [0.6], [0.6], [0.6], [0.6], [0.6], [0.6], [0.6], [0.6], [0.6], [0.6], [0.6], [0.6], [0.6], [0.6], [0.6], [0.6], [0.6], [0.6], [0.6], [0.6], [0.6], [0.6], [0.6], [0.6], [0.6], [0.6], [0.6], [0.6], [0.6], [0.6], [0.6], [0.6], [0.6], [0.6], [0.6], [0.6], [0.6], [0.6], [0.6], [0.6], [0.6], [0.6], [0.6], [0.6], [0.6], [0.6], [0.6], [0.6], [0.6], [0.6], [0.6], [0.6], [0.6], [0.6], [0.6], [0.6], [0.6], [0.6], [0.6], [0.6], [0.6], [0.6], [0.6], [0.6], [0.6], [0.6], [0.6], [0.6], [0.6], [0.6], [0.6], [0.6], [0.6], [0.6], [0.6], [0.6], [0.6], [0.6], [0.6], [0.6], [0.6], [0.6], [0.6], [0.6], [0.6], [0.6], [0.6], [0.6], [0.6], [0.6], [0.6], [0.6], [0.6], [0.6], [0.6], [0.6], [0.6], [0.6], [0.6], [0.6], [0.6], [0.6], [0.6], [0.6], [0.6], [0.6], [0.6], [0.6], [0.6], [0.6], [0.6], [0.6], [0.6], [0.6], [0.6], [0.6], [0.6], [0.6], [0.6], [0.6], [0.6], [0.6], [0.6], [0.6], [0.6], [0.6], [0.6], [0.6], [0.6], [0.6], [0.6], [0.6], [0.6], [0.6], [0.6], [0.6], [0.6], [0.6], [0.6], [0.6], [0.6], [0.6], [0.6], [0.6], [0.6], [0.6], [0.6], [0.6], [0.6], [0.6], [0.6], [0.6], [0.6], [0.6], [0.6], [0.6], [0.6], [0.6], [0.6], [0.6], [0.6], [0.6], [0.6], [0.6], [0.6], [0.6], [0.6], [0.6], [0.6], [0.6], [0.6], [0.6], [0.6], [0.6], [0.6], [0.6], [0.6], [0.6], [0.6], [0.6], [0.6], [0.6], [0.6], [0.6], [0.6], [0.6], [0.6], [0.6], [0.6], [0.6], [0.6], [0.6], [0.6], [0.6], [0.6], [0.6], [0.6], [0.6], [0.6], [0.6], [0.6], [0.6], [0.6], [0.6], [0.6], [0.6], [0.6], [0.6], [0.6], [0.6], [0.6], [0.6], [0.6], [0.6], [0.6], [0.6], [0.6], [0.6], [0.6], [0.6], [0.6], [0.6], [0.6], [0.6], [0.6], [0.6], [0.6], [0.6], [0.6], [0.6], [0.6], [0.6], [0.6], [0.6], [0.6], [0.6], [0.6], [0.6], [0.6], [0.6], [0.6], [0.6], [0.6], [0.6], [0.6], [0.6], [0.6], [0.6], [0.6], [0.6], [0.6], [0.6], [0.6], [0.6], [0.6], [0.6], [0.6], [0.6], [0.6], [0.6], [0.6], [0.6], [0.6], [0.6], [0.6], [0.6], [0.6], [0.6], [0.6], [0.6], [0.6], [0.6], [0.6], [0.6], [0.6], [0.6], [0.6], [0.6], [0.6], [0.6], [0.6], [0.6], [0.6], [0.6], [0.6], [0.6], [0.6], [0.6], [0.6], [0.6], [0.6], [0.6], [0.6], [0.6], [0.6], [0.6], [0.6], [0.6], [0.6], [0.6], [0.6], [0.6], [0.6], [0.6], [0.6], [0.6], [0.6], [0.6], [0.6], [0.6], [0.6], [0.6], [0.6], [0.6], [0.6], [0.6], [0.6], [0.6], [0.6], [0.6], [0.6], [0.6], [0.6], [0.6], [0.6], [0.6], [0.6], [0.6], [0.6], [0.6], [0.6], [0.6], [0.6], [0.6], [0.6], [0.6], [0.6], [0.6], [0.6], [0.6], [0.6], [0.6], [0.6], [0.6], [0.6], [0.6], [0.6], [0.6], [0.6], [0.6], [0.6], [0.6], [0.6], [0.6], [0.6], [0.6], [0.6], [0.6], [0.6], [0.6], [0.6], [0.6], [0.6], [0.6], [0.6], [0.6], [0.6], [0.6], [0.6], [0.6], [0.6], [0.6], [0.6], [0.6], [0.6], [0.6], [0.6], [0.6], [0.6], [0.6], [0.6], [0.6], [0.6], [0.6], [0.6], [0.6], [0.6], [0.6], [0.6], [0.6], [0.6], [0.6], [0.6], [0.6], [0.6], [0.6], [0.6], [0.6], [0.6], [0.6], [0.6], [0.6], [0.6], [0.6], [0.6], [0.6], [0.6], [0.6], [0.6], [0.6], [0.6], [0.6], [0.6], [0.6], [0.6], [0.6], [0.6], [0.6], [0.6], [0.6], [0.6], [0.6], [0.6], [0.6], [0.6], [0.6], [0.6], [0.6], [0.6], [0.6], [0.6], [0.6], [0.6], [0.6], [0.6], [0.6], [0.6], [0.6], [0.6], [0.6], [0.6], [0.6], [0.6], [0.6], [0.6], [0.6], [0.6], [0.6], [0.6], [0.6], [0.6], [0.6], [0.6], [0.6], [0.6], [0.6], [0.6], [0.6], [0.6], [0.6], [0.6], [0.6], [0.6], [0.6], [0.6], [0.6], [0.6], [0.6], [0.6], [0.6], [0.6], [0.6], [0.6], [0.6], [0.6], [0.6], [0.6], [0.6], [0.6], [0.6], [0.6], [0.6], [0.6], [0.6], [0.6], [0.6], [0.6], [0.6], [0.6], [0.6], [0.6], [0.6], [0.6], [0.6], [0.6], [0.6], [0.6], [0.6], [0.6], [0.6], [0.6], [0.6], [0.6], [0.6], [0.6], [0.6], [0.6], [0.6], [0.6], [0.6], [0.6], [0.6], [0.6], [0.6], [0.6], [0.6], [0.6], [0.6], [0.6], [0.6], [0.6], [0.6], [0.6], [0.6], [0.6], [0.6], [0.6], [0.6], [0.6], [0.6], [0.6], [0.6], [0.6], [0.6], [0.6], [0.6], [0.6], [0.6], [0.6], [0.6], [0.6], [0.6], [0.6], [0.6], [0.6], [0.6], [0.6], [0.6], [0.6], [0.6], [0.6], [0.6], [0.6], [0.6], [0.6], [0.6], [0.6], [0.6], [0.6], [0.6], [0.6], [0.6], [0.6], [0.6], [0.6], [0.6], [0.6], [0.6], [0.6], [0.6], [0.6], [0.6], [0.6], [0.6], [0.6], [0.6], [0.6], [0.6], [0.6], [0.6], [0.6], [0.6], [0.6], [0.6], [0.6], [0.6], [0.6], [0.6], [0.6], [0.6], [0.6], [0.6], [0.6], [0.6], [0.6], [0.6], [0.6], [0.6], [0.6], [0.6], [0.6], [0.6], [0.6], [0.6], [0.6], [0.6], [0.6], [0.6], [0.6], [0.6], [0.6], [0.6], [0.6], [0.6], [0.6], [0.6], [0.6], [0.6], [0.6], [0.6], [0.6], [0.6], [0.6], [0.6], [0.6], [0.6], [0.6], [0.6], [0.6], [0.6], [0.6], [0.6], [0.6], [0.6], [0.6], [0.6], [0.6], [0.6], [0.6], [0.6], [0.6], [0.6], [0.6], [0.6], [0.6], [0.6], [0.6], [0.6], [0.6], [0.6], [0.6], [0.6], [0.6], [0.6], [0.6], [0.6], [0.6], [0.6], [0.6], [0.6], [0.6], [0.6], [0.6], [0.6], [0.6], [0.6], [0.6], [0.6], [0.6], [0.6], [0.6], [0.6], [0.6], [0.6], [0.6], [0.6], [0.6], [0.6], [0.6], [0.6], [0.6], [0.6], [0.6], [0.6], [0.6], [0.6], [0.6], [0.6], [0.6], [0.6], [0.6], [0.6], [0.6], [0.6], [0.6], [0.6], [0.6], [0.6]], \"size\": [5, 5, 5, 5, 5, 5]}, \"mode\": \"markers\", \"name\": \"Other\", \"x\": [\"University <br>without <br>graduating\", \"University <br>without <br>graduating\", \"Unfinished <br>Compulsory<br>Secondary <br>Education\", \"University <br>without <br>graduating\", \"University <br>without <br>graduating\", \"University <br>graduate\"], \"y\": [20, 36, 14, 22, 21, 28], \"type\": \"scatter\", \"uid\": \"1dae4fe0-05c2-41c6-998e-acdd28ac9a8c\"}], {\"xaxis\": {\"title\": {\"text\": \"Educational level\"}}, \"yaxis\": {\"title\": {\"text\": \"Age\"}}}, {\"showLink\": false, \"linkText\": \"Export to plot.ly\", \"plotlyServerURL\": \"https://plot.ly\"}); \n",
       "}\n",
       "});</script><script type=\"text/javascript\">window.addEventListener(\"resize\", function(){if (document.getElementById(\"4dfc4049-6e4a-4b62-9e31-cc7b85a272b5\")) {window._Plotly.Plots.resize(document.getElementById(\"4dfc4049-6e4a-4b62-9e31-cc7b85a272b5\"));};})</script>"
      ]
     },
     "metadata": {},
     "output_type": "display_data"
    }
   ],
   "source": [
    "fig6 = {\n",
    "    'data': [\n",
    "        {\n",
    "            'x': data_complete_en[data_complete_en['Gender'] == gender]['Educational level'],\n",
    "            'y': data_complete_en[data_complete_en['Gender'] == gender]['Age'],\n",
    "            'name': gender,\n",
    "            'mode': 'markers',\n",
    "            'marker': dict(\n",
    "                opacity=np.full((len(data_complete_en.index), 1), 0.6),\n",
    "                size=(data_complete_en[(data_complete_en['Gender'] == gender)].groupby(\n",
    "                    ['Educational level'])['Age'].value_counts() * 5)\n",
    "            ),\n",
    "            'name': names_gender[gender]\n",
    "        } for gender in data_complete_en['Gender'].unique()\n",
    "    ],\n",
    "    'layout': {\n",
    "        'xaxis': {\n",
    "            'title': 'Educational level'},\n",
    "        'yaxis': {'title': \"Age\"}\n",
    "\n",
    "    }\n",
    "}\n",
    "\n",
    "iplot(fig6)\n",
    "plt.show()"
   ]
  },
  {
   "cell_type": "markdown",
   "metadata": {},
   "source": [
    "## Distribution of the origin of the participants "
   ]
  },
  {
   "cell_type": "code",
   "execution_count": 12,
   "metadata": {
    "scrolled": false
   },
   "outputs": [
    {
     "name": "stdout",
     "output_type": "stream",
     "text": [
      "Describing the variable Nationality\n"
     ]
    },
    {
     "data": {
      "text/plain": [
       "count     767\n",
       "unique     34\n",
       "top       USA\n",
       "freq      306\n",
       "Name: Nationality, dtype: object"
      ]
     },
     "metadata": {},
     "output_type": "display_data"
    },
    {
     "name": "stdout",
     "output_type": "stream",
     "text": [
      "Count of each value in Nationality expresed as nationality / amount\n"
     ]
    },
    {
     "data": {
      "text/plain": [
       "USA               306\n",
       "Spain             217\n",
       "India             120\n",
       "Unknown            38\n",
       "France             19\n",
       "Italy              11\n",
       "England            10\n",
       "Canada              9\n",
       "Niger               4\n",
       "Venezuela           4\n",
       "Brazil              3\n",
       "Russia              2\n",
       "Ireland             2\n",
       "Dominican Rep.      2\n",
       "Scotland            1\n",
       "Sudan               1\n",
       "Australia           1\n",
       "Macedonia           1\n",
       "Germany             1\n",
       "Cuba                1\n",
       "Mexico              1\n",
       "Austria             1\n",
       "Iceland             1\n",
       "Slovakia            1\n",
       "Chile               1\n",
       "Indonesia           1\n",
       "Pakistan            1\n",
       "China               1\n",
       "Colombia            1\n",
       "Argentina           1\n",
       "Albania             1\n",
       "The Bahamas         1\n",
       "Ukraine             1\n",
       "New Zealand         1\n",
       "Name: Nationality, dtype: int64"
      ]
     },
     "metadata": {},
     "output_type": "display_data"
    },
    {
     "name": "stdout",
     "output_type": "stream",
     "text": [
      "Percentage of each value in Nationality expresed as nationality / percentage\n"
     ]
    },
    {
     "data": {
      "text/plain": [
       "USA               39.90\n",
       "Spain             28.29\n",
       "India             15.65\n",
       "Unknown            4.95\n",
       "France             2.48\n",
       "Italy              1.43\n",
       "England            1.30\n",
       "Canada             1.17\n",
       "Niger              0.52\n",
       "Venezuela          0.52\n",
       "Brazil             0.39\n",
       "Russia             0.26\n",
       "Ireland            0.26\n",
       "Dominican Rep.     0.26\n",
       "Scotland           0.13\n",
       "Sudan              0.13\n",
       "Australia          0.13\n",
       "Macedonia          0.13\n",
       "Germany            0.13\n",
       "Cuba               0.13\n",
       "Mexico             0.13\n",
       "Austria            0.13\n",
       "Iceland            0.13\n",
       "Slovakia           0.13\n",
       "Chile              0.13\n",
       "Indonesia          0.13\n",
       "Pakistan           0.13\n",
       "China              0.13\n",
       "Colombia           0.13\n",
       "Argentina          0.13\n",
       "Albania            0.13\n",
       "The Bahamas        0.13\n",
       "Ukraine            0.13\n",
       "New Zealand        0.13\n",
       "Name: Nationality, dtype: float64"
      ]
     },
     "metadata": {},
     "output_type": "display_data"
    },
    {
     "data": {
      "application/vnd.plotly.v1+json": {
       "config": {
        "linkText": "Export to plot.ly",
        "plotlyServerURL": "https://plot.ly",
        "showLink": false
       },
       "data": [
        {
         "name": "Nationality",
         "text": [
          0.13,
          0.13,
          0.13,
          0.13,
          0.38999999999999996,
          1.17,
          0.13,
          0.13,
          0.13,
          0.13,
          0.26,
          1.3,
          2.48,
          0.13,
          0.13,
          15.65,
          0.13,
          0.26,
          1.43,
          0.13,
          0.13,
          0.13,
          0.52,
          0.13,
          0.26,
          0.13,
          0.13,
          28.29,
          0.13,
          0.13,
          39.900000000000006,
          0.13,
          4.95,
          0.52
         ],
         "type": "bar",
         "uid": "900e3d99-aa05-444f-a039-1a9b98aeda0a",
         "x": [
          "Albania",
          "Argentina",
          "Australia",
          "Austria",
          "Brazil",
          "Canada",
          "Chile",
          "China",
          "Colombia",
          "Cuba",
          "Dominican Rep.",
          "England",
          "France",
          "Germany",
          "Iceland",
          "India",
          "Indonesia",
          "Ireland",
          "Italy",
          "Macedonia",
          "Mexico",
          "New Zealand",
          "Niger",
          "Pakistan",
          "Russia",
          "Scotland",
          "Slovakia",
          "Spain",
          "Sudan",
          "The Bahamas",
          "USA",
          "Ukraine",
          "Unknown",
          "Venezuela"
         ],
         "y": [
          1,
          1,
          1,
          1,
          3,
          9,
          1,
          1,
          1,
          1,
          2,
          10,
          19,
          1,
          1,
          120,
          1,
          2,
          11,
          1,
          1,
          1,
          4,
          1,
          2,
          1,
          1,
          217,
          1,
          1,
          306,
          1,
          38,
          4
         ]
        }
       ],
       "layout": {
        "bargap": 0.2,
        "xaxis": {
         "title": {
          "text": "Nationality"
         }
        },
        "yaxis": {
         "title": {
          "text": "Total"
         }
        }
       }
      },
      "text/html": [
       "<div id=\"27b6cf86-38ef-4b6a-babd-ff2fd688ae1c\" style=\"height: 525px; width: 100%;\" class=\"plotly-graph-div\"></div><script type=\"text/javascript\">require([\"plotly\"], function(Plotly) { window.PLOTLYENV=window.PLOTLYENV || {};window.PLOTLYENV.BASE_URL=\"https://plot.ly\";\n",
       "if (document.getElementById(\"27b6cf86-38ef-4b6a-babd-ff2fd688ae1c\")) {\n",
       "    Plotly.newPlot(\"27b6cf86-38ef-4b6a-babd-ff2fd688ae1c\", [{\"name\": \"Nationality\", \"text\": [0.13, 0.13, 0.13, 0.13, 0.38999999999999996, 1.17, 0.13, 0.13, 0.13, 0.13, 0.26, 1.3, 2.48, 0.13, 0.13, 15.65, 0.13, 0.26, 1.43, 0.13, 0.13, 0.13, 0.52, 0.13, 0.26, 0.13, 0.13, 28.29, 0.13, 0.13, 39.900000000000006, 0.13, 4.95, 0.52], \"x\": [\"Albania\", \"Argentina\", \"Australia\", \"Austria\", \"Brazil\", \"Canada\", \"Chile\", \"China\", \"Colombia\", \"Cuba\", \"Dominican Rep.\", \"England\", \"France\", \"Germany\", \"Iceland\", \"India\", \"Indonesia\", \"Ireland\", \"Italy\", \"Macedonia\", \"Mexico\", \"New Zealand\", \"Niger\", \"Pakistan\", \"Russia\", \"Scotland\", \"Slovakia\", \"Spain\", \"Sudan\", \"The Bahamas\", \"USA\", \"Ukraine\", \"Unknown\", \"Venezuela\"], \"y\": [1, 1, 1, 1, 3, 9, 1, 1, 1, 1, 2, 10, 19, 1, 1, 120, 1, 2, 11, 1, 1, 1, 4, 1, 2, 1, 1, 217, 1, 1, 306, 1, 38, 4], \"type\": \"bar\", \"uid\": \"900e3d99-aa05-444f-a039-1a9b98aeda0a\"}], {\"bargap\": 0.2, \"xaxis\": {\"title\": {\"text\": \"Nationality\"}}, \"yaxis\": {\"title\": {\"text\": \"Total\"}}}, {\"showLink\": false, \"linkText\": \"Export to plot.ly\", \"plotlyServerURL\": \"https://plot.ly\"}); \n",
       "}\n",
       "});</script><script type=\"text/javascript\">window.addEventListener(\"resize\", function(){if (document.getElementById(\"27b6cf86-38ef-4b6a-babd-ff2fd688ae1c\")) {window._Plotly.Plots.resize(document.getElementById(\"27b6cf86-38ef-4b6a-babd-ff2fd688ae1c\"));};})</script>"
      ],
      "text/vnd.plotly.v1+html": [
       "<div id=\"27b6cf86-38ef-4b6a-babd-ff2fd688ae1c\" style=\"height: 525px; width: 100%;\" class=\"plotly-graph-div\"></div><script type=\"text/javascript\">require([\"plotly\"], function(Plotly) { window.PLOTLYENV=window.PLOTLYENV || {};window.PLOTLYENV.BASE_URL=\"https://plot.ly\";\n",
       "if (document.getElementById(\"27b6cf86-38ef-4b6a-babd-ff2fd688ae1c\")) {\n",
       "    Plotly.newPlot(\"27b6cf86-38ef-4b6a-babd-ff2fd688ae1c\", [{\"name\": \"Nationality\", \"text\": [0.13, 0.13, 0.13, 0.13, 0.38999999999999996, 1.17, 0.13, 0.13, 0.13, 0.13, 0.26, 1.3, 2.48, 0.13, 0.13, 15.65, 0.13, 0.26, 1.43, 0.13, 0.13, 0.13, 0.52, 0.13, 0.26, 0.13, 0.13, 28.29, 0.13, 0.13, 39.900000000000006, 0.13, 4.95, 0.52], \"x\": [\"Albania\", \"Argentina\", \"Australia\", \"Austria\", \"Brazil\", \"Canada\", \"Chile\", \"China\", \"Colombia\", \"Cuba\", \"Dominican Rep.\", \"England\", \"France\", \"Germany\", \"Iceland\", \"India\", \"Indonesia\", \"Ireland\", \"Italy\", \"Macedonia\", \"Mexico\", \"New Zealand\", \"Niger\", \"Pakistan\", \"Russia\", \"Scotland\", \"Slovakia\", \"Spain\", \"Sudan\", \"The Bahamas\", \"USA\", \"Ukraine\", \"Unknown\", \"Venezuela\"], \"y\": [1, 1, 1, 1, 3, 9, 1, 1, 1, 1, 2, 10, 19, 1, 1, 120, 1, 2, 11, 1, 1, 1, 4, 1, 2, 1, 1, 217, 1, 1, 306, 1, 38, 4], \"type\": \"bar\", \"uid\": \"900e3d99-aa05-444f-a039-1a9b98aeda0a\"}], {\"bargap\": 0.2, \"xaxis\": {\"title\": {\"text\": \"Nationality\"}}, \"yaxis\": {\"title\": {\"text\": \"Total\"}}}, {\"showLink\": false, \"linkText\": \"Export to plot.ly\", \"plotlyServerURL\": \"https://plot.ly\"}); \n",
       "}\n",
       "});</script><script type=\"text/javascript\">window.addEventListener(\"resize\", function(){if (document.getElementById(\"27b6cf86-38ef-4b6a-babd-ff2fd688ae1c\")) {window._Plotly.Plots.resize(document.getElementById(\"27b6cf86-38ef-4b6a-babd-ff2fd688ae1c\"));};})</script>"
      ]
     },
     "metadata": {},
     "output_type": "display_data"
    }
   ],
   "source": [
    "data_complete_nationality = data_complete_en.copy(deep=True)\n",
    "\n",
    "data_complete_nationality[['Nationality']] = data_complete_nationality[[\n",
    "    'Nationality']].fillna(value=33)\n",
    "\n",
    "data_complete_nationality[['Nationality']] = pd.to_numeric(\n",
    "    data_complete_nationality['Nationality'], downcast='signed', errors='coerce')\n",
    "\n",
    "# display(data_complete_nationality['Nationality'].describe())\n",
    "# display(data_complete_nationality['Nationality'].value_counts().sort_index())\n",
    "\n",
    "\n",
    "labels_nationality = ['Spain', 'Colombia', 'Mexico', 'Dominican Rep.', 'Austria',\n",
    "                      'Chile', 'France', 'Canada', 'Niger', 'China',\n",
    "                      'Australia', 'Russia', 'Germany', 'Brazil', 'USA',\n",
    "                      'India', 'Slovakia', 'Italy', 'England', 'Cuba', 'Ukraine',\n",
    "                      'Venezuela', 'Indonesia', 'Albania',\n",
    "                      'Pakistan', 'The Bahamas', 'Argentina',\n",
    "                      'Iceland', 'Scotland', 'Sudan', 'New Zealand', 'Ireland',\n",
    "                      'Macedonia', 'Unknown']\n",
    "tickvals_nationality = [0, 1, 2, 3, 4, 5, 6, 7, 8, 9, 10, 11,\n",
    "                        12, 13, 14, 15, 16, 17, 18, 19, 20, 21,\n",
    "                        22, 23, 24, 25, 26, 27, 28, 29, 30, 31,\n",
    "                        32, 33]\n",
    "\n",
    "data_complete_nationality['Nationality'].replace(\n",
    "    tickvals_nationality, labels_nationality, inplace=True)\n",
    "\n",
    "\n",
    "print('Describing the variable Nationality')\n",
    "display(data_complete_nationality['Nationality'].describe())\n",
    "print('Count of each value in Nationality expresed as nationality / amount')\n",
    "display(data_complete_nationality['Nationality'].value_counts())\n",
    "print('Percentage of each value in Nationality expresed as nationality / percentage')\n",
    "display(data_complete_nationality['Nationality'].value_counts(\n",
    "    normalize=True).round(4) * 100)\n",
    "\n",
    "data7 = [go.Bar(x=sorted(data_complete_nationality['Nationality'].unique()),\n",
    "                y=data_complete_nationality['Nationality'].value_counts(\n",
    ").sort_index(),\n",
    "    text=(data_complete_nationality['Nationality'].value_counts(\n",
    "        normalize=True).sort_index().round(4) * 100),\n",
    "    name='Nationality')]\n",
    "layout7 = go.Layout(\n",
    "    xaxis=go.layout.XAxis(\n",
    "        # ticktext=labels_nationality,\n",
    "        # tickvals=tickvals_nationality,\n",
    "        title='Nationality'\n",
    "    ),\n",
    "    yaxis=go.layout.YAxis(\n",
    "        title=\"Total\"),\n",
    "    bargap=0.2,\n",
    ")\n",
    "fig7 = go.Figure(data=data7, layout=layout7)\n",
    "iplot(fig7)\n",
    "plt.show()"
   ]
  },
  {
   "cell_type": "markdown",
   "metadata": {},
   "source": [
    "## Distribution of age based on nationality and gender"
   ]
  },
  {
   "cell_type": "code",
   "execution_count": 13,
   "metadata": {},
   "outputs": [
    {
     "data": {
      "application/vnd.plotly.v1+json": {
       "config": {
        "linkText": "Export to plot.ly",
        "plotlyServerURL": "https://plot.ly",
        "showLink": false
       },
       "data": [
        {
         "marker": {
          "opacity": [
           [
            0.6
           ],
           [
            0.6
           ],
           [
            0.6
           ],
           [
            0.6
           ],
           [
            0.6
           ],
           [
            0.6
           ],
           [
            0.6
           ],
           [
            0.6
           ],
           [
            0.6
           ],
           [
            0.6
           ],
           [
            0.6
           ],
           [
            0.6
           ],
           [
            0.6
           ],
           [
            0.6
           ],
           [
            0.6
           ],
           [
            0.6
           ],
           [
            0.6
           ],
           [
            0.6
           ],
           [
            0.6
           ],
           [
            0.6
           ],
           [
            0.6
           ],
           [
            0.6
           ],
           [
            0.6
           ],
           [
            0.6
           ],
           [
            0.6
           ],
           [
            0.6
           ],
           [
            0.6
           ],
           [
            0.6
           ],
           [
            0.6
           ],
           [
            0.6
           ],
           [
            0.6
           ],
           [
            0.6
           ],
           [
            0.6
           ],
           [
            0.6
           ],
           [
            0.6
           ],
           [
            0.6
           ],
           [
            0.6
           ],
           [
            0.6
           ],
           [
            0.6
           ],
           [
            0.6
           ],
           [
            0.6
           ],
           [
            0.6
           ],
           [
            0.6
           ],
           [
            0.6
           ],
           [
            0.6
           ],
           [
            0.6
           ],
           [
            0.6
           ],
           [
            0.6
           ],
           [
            0.6
           ],
           [
            0.6
           ],
           [
            0.6
           ],
           [
            0.6
           ],
           [
            0.6
           ],
           [
            0.6
           ],
           [
            0.6
           ],
           [
            0.6
           ],
           [
            0.6
           ],
           [
            0.6
           ],
           [
            0.6
           ],
           [
            0.6
           ],
           [
            0.6
           ],
           [
            0.6
           ],
           [
            0.6
           ],
           [
            0.6
           ],
           [
            0.6
           ],
           [
            0.6
           ],
           [
            0.6
           ],
           [
            0.6
           ],
           [
            0.6
           ],
           [
            0.6
           ],
           [
            0.6
           ],
           [
            0.6
           ],
           [
            0.6
           ],
           [
            0.6
           ],
           [
            0.6
           ],
           [
            0.6
           ],
           [
            0.6
           ],
           [
            0.6
           ],
           [
            0.6
           ],
           [
            0.6
           ],
           [
            0.6
           ],
           [
            0.6
           ],
           [
            0.6
           ],
           [
            0.6
           ],
           [
            0.6
           ],
           [
            0.6
           ],
           [
            0.6
           ],
           [
            0.6
           ],
           [
            0.6
           ],
           [
            0.6
           ],
           [
            0.6
           ],
           [
            0.6
           ],
           [
            0.6
           ],
           [
            0.6
           ],
           [
            0.6
           ],
           [
            0.6
           ],
           [
            0.6
           ],
           [
            0.6
           ],
           [
            0.6
           ],
           [
            0.6
           ],
           [
            0.6
           ],
           [
            0.6
           ],
           [
            0.6
           ],
           [
            0.6
           ],
           [
            0.6
           ],
           [
            0.6
           ],
           [
            0.6
           ],
           [
            0.6
           ],
           [
            0.6
           ],
           [
            0.6
           ],
           [
            0.6
           ],
           [
            0.6
           ],
           [
            0.6
           ],
           [
            0.6
           ],
           [
            0.6
           ],
           [
            0.6
           ],
           [
            0.6
           ],
           [
            0.6
           ],
           [
            0.6
           ],
           [
            0.6
           ],
           [
            0.6
           ],
           [
            0.6
           ],
           [
            0.6
           ],
           [
            0.6
           ],
           [
            0.6
           ],
           [
            0.6
           ],
           [
            0.6
           ],
           [
            0.6
           ],
           [
            0.6
           ],
           [
            0.6
           ],
           [
            0.6
           ],
           [
            0.6
           ],
           [
            0.6
           ],
           [
            0.6
           ],
           [
            0.6
           ],
           [
            0.6
           ],
           [
            0.6
           ],
           [
            0.6
           ],
           [
            0.6
           ],
           [
            0.6
           ],
           [
            0.6
           ],
           [
            0.6
           ],
           [
            0.6
           ],
           [
            0.6
           ],
           [
            0.6
           ],
           [
            0.6
           ],
           [
            0.6
           ],
           [
            0.6
           ],
           [
            0.6
           ],
           [
            0.6
           ],
           [
            0.6
           ],
           [
            0.6
           ],
           [
            0.6
           ],
           [
            0.6
           ],
           [
            0.6
           ],
           [
            0.6
           ],
           [
            0.6
           ],
           [
            0.6
           ],
           [
            0.6
           ],
           [
            0.6
           ],
           [
            0.6
           ],
           [
            0.6
           ],
           [
            0.6
           ],
           [
            0.6
           ],
           [
            0.6
           ],
           [
            0.6
           ],
           [
            0.6
           ],
           [
            0.6
           ],
           [
            0.6
           ],
           [
            0.6
           ],
           [
            0.6
           ],
           [
            0.6
           ],
           [
            0.6
           ],
           [
            0.6
           ],
           [
            0.6
           ],
           [
            0.6
           ],
           [
            0.6
           ],
           [
            0.6
           ],
           [
            0.6
           ],
           [
            0.6
           ],
           [
            0.6
           ],
           [
            0.6
           ],
           [
            0.6
           ],
           [
            0.6
           ],
           [
            0.6
           ],
           [
            0.6
           ],
           [
            0.6
           ],
           [
            0.6
           ],
           [
            0.6
           ],
           [
            0.6
           ],
           [
            0.6
           ],
           [
            0.6
           ],
           [
            0.6
           ],
           [
            0.6
           ],
           [
            0.6
           ],
           [
            0.6
           ],
           [
            0.6
           ],
           [
            0.6
           ],
           [
            0.6
           ],
           [
            0.6
           ],
           [
            0.6
           ],
           [
            0.6
           ],
           [
            0.6
           ],
           [
            0.6
           ],
           [
            0.6
           ],
           [
            0.6
           ],
           [
            0.6
           ],
           [
            0.6
           ],
           [
            0.6
           ],
           [
            0.6
           ],
           [
            0.6
           ],
           [
            0.6
           ],
           [
            0.6
           ],
           [
            0.6
           ],
           [
            0.6
           ],
           [
            0.6
           ],
           [
            0.6
           ],
           [
            0.6
           ],
           [
            0.6
           ],
           [
            0.6
           ],
           [
            0.6
           ],
           [
            0.6
           ],
           [
            0.6
           ],
           [
            0.6
           ],
           [
            0.6
           ],
           [
            0.6
           ],
           [
            0.6
           ],
           [
            0.6
           ],
           [
            0.6
           ],
           [
            0.6
           ],
           [
            0.6
           ],
           [
            0.6
           ],
           [
            0.6
           ],
           [
            0.6
           ],
           [
            0.6
           ],
           [
            0.6
           ],
           [
            0.6
           ],
           [
            0.6
           ],
           [
            0.6
           ],
           [
            0.6
           ],
           [
            0.6
           ],
           [
            0.6
           ],
           [
            0.6
           ],
           [
            0.6
           ],
           [
            0.6
           ],
           [
            0.6
           ],
           [
            0.6
           ],
           [
            0.6
           ],
           [
            0.6
           ],
           [
            0.6
           ],
           [
            0.6
           ],
           [
            0.6
           ],
           [
            0.6
           ],
           [
            0.6
           ],
           [
            0.6
           ],
           [
            0.6
           ],
           [
            0.6
           ],
           [
            0.6
           ],
           [
            0.6
           ],
           [
            0.6
           ],
           [
            0.6
           ],
           [
            0.6
           ],
           [
            0.6
           ],
           [
            0.6
           ],
           [
            0.6
           ],
           [
            0.6
           ],
           [
            0.6
           ],
           [
            0.6
           ],
           [
            0.6
           ],
           [
            0.6
           ],
           [
            0.6
           ],
           [
            0.6
           ],
           [
            0.6
           ],
           [
            0.6
           ],
           [
            0.6
           ],
           [
            0.6
           ],
           [
            0.6
           ],
           [
            0.6
           ],
           [
            0.6
           ],
           [
            0.6
           ],
           [
            0.6
           ],
           [
            0.6
           ],
           [
            0.6
           ],
           [
            0.6
           ],
           [
            0.6
           ],
           [
            0.6
           ],
           [
            0.6
           ],
           [
            0.6
           ],
           [
            0.6
           ],
           [
            0.6
           ],
           [
            0.6
           ],
           [
            0.6
           ],
           [
            0.6
           ],
           [
            0.6
           ],
           [
            0.6
           ],
           [
            0.6
           ],
           [
            0.6
           ],
           [
            0.6
           ],
           [
            0.6
           ],
           [
            0.6
           ],
           [
            0.6
           ],
           [
            0.6
           ],
           [
            0.6
           ],
           [
            0.6
           ],
           [
            0.6
           ],
           [
            0.6
           ],
           [
            0.6
           ],
           [
            0.6
           ],
           [
            0.6
           ],
           [
            0.6
           ],
           [
            0.6
           ],
           [
            0.6
           ],
           [
            0.6
           ],
           [
            0.6
           ],
           [
            0.6
           ],
           [
            0.6
           ],
           [
            0.6
           ],
           [
            0.6
           ],
           [
            0.6
           ],
           [
            0.6
           ],
           [
            0.6
           ],
           [
            0.6
           ],
           [
            0.6
           ],
           [
            0.6
           ],
           [
            0.6
           ],
           [
            0.6
           ],
           [
            0.6
           ],
           [
            0.6
           ],
           [
            0.6
           ],
           [
            0.6
           ],
           [
            0.6
           ],
           [
            0.6
           ],
           [
            0.6
           ],
           [
            0.6
           ],
           [
            0.6
           ],
           [
            0.6
           ],
           [
            0.6
           ],
           [
            0.6
           ],
           [
            0.6
           ],
           [
            0.6
           ],
           [
            0.6
           ],
           [
            0.6
           ],
           [
            0.6
           ],
           [
            0.6
           ],
           [
            0.6
           ],
           [
            0.6
           ],
           [
            0.6
           ],
           [
            0.6
           ],
           [
            0.6
           ],
           [
            0.6
           ],
           [
            0.6
           ],
           [
            0.6
           ],
           [
            0.6
           ],
           [
            0.6
           ],
           [
            0.6
           ],
           [
            0.6
           ],
           [
            0.6
           ],
           [
            0.6
           ],
           [
            0.6
           ],
           [
            0.6
           ],
           [
            0.6
           ],
           [
            0.6
           ],
           [
            0.6
           ],
           [
            0.6
           ],
           [
            0.6
           ],
           [
            0.6
           ],
           [
            0.6
           ],
           [
            0.6
           ],
           [
            0.6
           ],
           [
            0.6
           ],
           [
            0.6
           ],
           [
            0.6
           ],
           [
            0.6
           ],
           [
            0.6
           ],
           [
            0.6
           ],
           [
            0.6
           ],
           [
            0.6
           ],
           [
            0.6
           ],
           [
            0.6
           ],
           [
            0.6
           ],
           [
            0.6
           ],
           [
            0.6
           ],
           [
            0.6
           ],
           [
            0.6
           ],
           [
            0.6
           ],
           [
            0.6
           ],
           [
            0.6
           ],
           [
            0.6
           ],
           [
            0.6
           ],
           [
            0.6
           ],
           [
            0.6
           ],
           [
            0.6
           ],
           [
            0.6
           ],
           [
            0.6
           ],
           [
            0.6
           ],
           [
            0.6
           ],
           [
            0.6
           ],
           [
            0.6
           ],
           [
            0.6
           ],
           [
            0.6
           ],
           [
            0.6
           ],
           [
            0.6
           ],
           [
            0.6
           ],
           [
            0.6
           ],
           [
            0.6
           ],
           [
            0.6
           ],
           [
            0.6
           ],
           [
            0.6
           ],
           [
            0.6
           ],
           [
            0.6
           ],
           [
            0.6
           ],
           [
            0.6
           ],
           [
            0.6
           ],
           [
            0.6
           ],
           [
            0.6
           ],
           [
            0.6
           ],
           [
            0.6
           ],
           [
            0.6
           ],
           [
            0.6
           ],
           [
            0.6
           ],
           [
            0.6
           ],
           [
            0.6
           ],
           [
            0.6
           ],
           [
            0.6
           ],
           [
            0.6
           ],
           [
            0.6
           ],
           [
            0.6
           ],
           [
            0.6
           ],
           [
            0.6
           ],
           [
            0.6
           ],
           [
            0.6
           ],
           [
            0.6
           ],
           [
            0.6
           ],
           [
            0.6
           ],
           [
            0.6
           ],
           [
            0.6
           ],
           [
            0.6
           ],
           [
            0.6
           ],
           [
            0.6
           ],
           [
            0.6
           ],
           [
            0.6
           ],
           [
            0.6
           ],
           [
            0.6
           ],
           [
            0.6
           ],
           [
            0.6
           ],
           [
            0.6
           ],
           [
            0.6
           ],
           [
            0.6
           ],
           [
            0.6
           ],
           [
            0.6
           ],
           [
            0.6
           ],
           [
            0.6
           ],
           [
            0.6
           ],
           [
            0.6
           ],
           [
            0.6
           ],
           [
            0.6
           ],
           [
            0.6
           ],
           [
            0.6
           ],
           [
            0.6
           ],
           [
            0.6
           ],
           [
            0.6
           ],
           [
            0.6
           ],
           [
            0.6
           ],
           [
            0.6
           ],
           [
            0.6
           ],
           [
            0.6
           ],
           [
            0.6
           ],
           [
            0.6
           ],
           [
            0.6
           ],
           [
            0.6
           ],
           [
            0.6
           ],
           [
            0.6
           ],
           [
            0.6
           ],
           [
            0.6
           ],
           [
            0.6
           ],
           [
            0.6
           ],
           [
            0.6
           ],
           [
            0.6
           ],
           [
            0.6
           ],
           [
            0.6
           ],
           [
            0.6
           ],
           [
            0.6
           ],
           [
            0.6
           ],
           [
            0.6
           ],
           [
            0.6
           ],
           [
            0.6
           ],
           [
            0.6
           ],
           [
            0.6
           ],
           [
            0.6
           ],
           [
            0.6
           ],
           [
            0.6
           ],
           [
            0.6
           ],
           [
            0.6
           ],
           [
            0.6
           ],
           [
            0.6
           ],
           [
            0.6
           ],
           [
            0.6
           ],
           [
            0.6
           ],
           [
            0.6
           ],
           [
            0.6
           ],
           [
            0.6
           ],
           [
            0.6
           ],
           [
            0.6
           ],
           [
            0.6
           ],
           [
            0.6
           ],
           [
            0.6
           ],
           [
            0.6
           ],
           [
            0.6
           ],
           [
            0.6
           ],
           [
            0.6
           ],
           [
            0.6
           ],
           [
            0.6
           ],
           [
            0.6
           ],
           [
            0.6
           ],
           [
            0.6
           ],
           [
            0.6
           ],
           [
            0.6
           ],
           [
            0.6
           ],
           [
            0.6
           ],
           [
            0.6
           ],
           [
            0.6
           ],
           [
            0.6
           ],
           [
            0.6
           ],
           [
            0.6
           ],
           [
            0.6
           ],
           [
            0.6
           ],
           [
            0.6
           ],
           [
            0.6
           ],
           [
            0.6
           ],
           [
            0.6
           ],
           [
            0.6
           ],
           [
            0.6
           ],
           [
            0.6
           ],
           [
            0.6
           ],
           [
            0.6
           ],
           [
            0.6
           ],
           [
            0.6
           ],
           [
            0.6
           ],
           [
            0.6
           ],
           [
            0.6
           ],
           [
            0.6
           ],
           [
            0.6
           ],
           [
            0.6
           ],
           [
            0.6
           ],
           [
            0.6
           ],
           [
            0.6
           ],
           [
            0.6
           ],
           [
            0.6
           ],
           [
            0.6
           ],
           [
            0.6
           ],
           [
            0.6
           ],
           [
            0.6
           ],
           [
            0.6
           ],
           [
            0.6
           ],
           [
            0.6
           ],
           [
            0.6
           ],
           [
            0.6
           ],
           [
            0.6
           ],
           [
            0.6
           ],
           [
            0.6
           ],
           [
            0.6
           ],
           [
            0.6
           ],
           [
            0.6
           ],
           [
            0.6
           ],
           [
            0.6
           ],
           [
            0.6
           ],
           [
            0.6
           ],
           [
            0.6
           ],
           [
            0.6
           ],
           [
            0.6
           ],
           [
            0.6
           ],
           [
            0.6
           ],
           [
            0.6
           ],
           [
            0.6
           ],
           [
            0.6
           ],
           [
            0.6
           ],
           [
            0.6
           ],
           [
            0.6
           ],
           [
            0.6
           ],
           [
            0.6
           ],
           [
            0.6
           ],
           [
            0.6
           ],
           [
            0.6
           ],
           [
            0.6
           ],
           [
            0.6
           ],
           [
            0.6
           ],
           [
            0.6
           ],
           [
            0.6
           ],
           [
            0.6
           ],
           [
            0.6
           ],
           [
            0.6
           ],
           [
            0.6
           ],
           [
            0.6
           ],
           [
            0.6
           ],
           [
            0.6
           ],
           [
            0.6
           ],
           [
            0.6
           ],
           [
            0.6
           ],
           [
            0.6
           ],
           [
            0.6
           ],
           [
            0.6
           ],
           [
            0.6
           ],
           [
            0.6
           ],
           [
            0.6
           ],
           [
            0.6
           ],
           [
            0.6
           ],
           [
            0.6
           ],
           [
            0.6
           ],
           [
            0.6
           ],
           [
            0.6
           ],
           [
            0.6
           ],
           [
            0.6
           ],
           [
            0.6
           ],
           [
            0.6
           ],
           [
            0.6
           ],
           [
            0.6
           ],
           [
            0.6
           ],
           [
            0.6
           ],
           [
            0.6
           ],
           [
            0.6
           ],
           [
            0.6
           ],
           [
            0.6
           ],
           [
            0.6
           ],
           [
            0.6
           ],
           [
            0.6
           ],
           [
            0.6
           ],
           [
            0.6
           ],
           [
            0.6
           ],
           [
            0.6
           ],
           [
            0.6
           ],
           [
            0.6
           ],
           [
            0.6
           ],
           [
            0.6
           ],
           [
            0.6
           ],
           [
            0.6
           ],
           [
            0.6
           ],
           [
            0.6
           ],
           [
            0.6
           ],
           [
            0.6
           ],
           [
            0.6
           ],
           [
            0.6
           ],
           [
            0.6
           ],
           [
            0.6
           ],
           [
            0.6
           ],
           [
            0.6
           ],
           [
            0.6
           ],
           [
            0.6
           ],
           [
            0.6
           ],
           [
            0.6
           ],
           [
            0.6
           ],
           [
            0.6
           ],
           [
            0.6
           ],
           [
            0.6
           ],
           [
            0.6
           ],
           [
            0.6
           ],
           [
            0.6
           ],
           [
            0.6
           ],
           [
            0.6
           ],
           [
            0.6
           ],
           [
            0.6
           ],
           [
            0.6
           ],
           [
            0.6
           ],
           [
            0.6
           ],
           [
            0.6
           ],
           [
            0.6
           ],
           [
            0.6
           ],
           [
            0.6
           ],
           [
            0.6
           ],
           [
            0.6
           ],
           [
            0.6
           ],
           [
            0.6
           ],
           [
            0.6
           ],
           [
            0.6
           ],
           [
            0.6
           ],
           [
            0.6
           ],
           [
            0.6
           ],
           [
            0.6
           ],
           [
            0.6
           ],
           [
            0.6
           ],
           [
            0.6
           ],
           [
            0.6
           ],
           [
            0.6
           ],
           [
            0.6
           ],
           [
            0.6
           ],
           [
            0.6
           ],
           [
            0.6
           ],
           [
            0.6
           ],
           [
            0.6
           ],
           [
            0.6
           ],
           [
            0.6
           ],
           [
            0.6
           ],
           [
            0.6
           ],
           [
            0.6
           ],
           [
            0.6
           ],
           [
            0.6
           ],
           [
            0.6
           ],
           [
            0.6
           ],
           [
            0.6
           ],
           [
            0.6
           ],
           [
            0.6
           ],
           [
            0.6
           ],
           [
            0.6
           ],
           [
            0.6
           ],
           [
            0.6
           ],
           [
            0.6
           ],
           [
            0.6
           ],
           [
            0.6
           ],
           [
            0.6
           ],
           [
            0.6
           ],
           [
            0.6
           ],
           [
            0.6
           ],
           [
            0.6
           ],
           [
            0.6
           ],
           [
            0.6
           ],
           [
            0.6
           ],
           [
            0.6
           ],
           [
            0.6
           ],
           [
            0.6
           ],
           [
            0.6
           ],
           [
            0.6
           ],
           [
            0.6
           ],
           [
            0.6
           ],
           [
            0.6
           ],
           [
            0.6
           ],
           [
            0.6
           ],
           [
            0.6
           ],
           [
            0.6
           ],
           [
            0.6
           ],
           [
            0.6
           ],
           [
            0.6
           ],
           [
            0.6
           ],
           [
            0.6
           ],
           [
            0.6
           ],
           [
            0.6
           ],
           [
            0.6
           ],
           [
            0.6
           ],
           [
            0.6
           ],
           [
            0.6
           ],
           [
            0.6
           ],
           [
            0.6
           ],
           [
            0.6
           ],
           [
            0.6
           ],
           [
            0.6
           ],
           [
            0.6
           ],
           [
            0.6
           ],
           [
            0.6
           ],
           [
            0.6
           ],
           [
            0.6
           ],
           [
            0.6
           ],
           [
            0.6
           ],
           [
            0.6
           ],
           [
            0.6
           ],
           [
            0.6
           ],
           [
            0.6
           ],
           [
            0.6
           ],
           [
            0.6
           ],
           [
            0.6
           ],
           [
            0.6
           ],
           [
            0.6
           ],
           [
            0.6
           ],
           [
            0.6
           ],
           [
            0.6
           ],
           [
            0.6
           ],
           [
            0.6
           ],
           [
            0.6
           ],
           [
            0.6
           ],
           [
            0.6
           ]
          ],
          "size": [
           5,
           5,
           5,
           5,
           5,
           5,
           5,
           5,
           5,
           5,
           5,
           5,
           5,
           5,
           5,
           5,
           5,
           5,
           5,
           5,
           5,
           5,
           5,
           5,
           55,
           35,
           25,
           25,
           20,
           20,
           15,
           15,
           15,
           10,
           10,
           10,
           10,
           10,
           10,
           10,
           10,
           10,
           5,
           5,
           5,
           5,
           5,
           5,
           5,
           5,
           10,
           10,
           10,
           5,
           5,
           5,
           5,
           5,
           5,
           5,
           5,
           5,
           5,
           85,
           35,
           35,
           20,
           20,
           20,
           20,
           20,
           15,
           15,
           15,
           15,
           10,
           10,
           10,
           10,
           5,
           5,
           5,
           5,
           5,
           5,
           5,
           5,
           5,
           5,
           5,
           5,
           5,
           5,
           5,
           5,
           5,
           5,
           5,
           5,
           5,
           70,
           65,
           45,
           40,
           40,
           35,
           35,
           30,
           30,
           25,
           25,
           25,
           20,
           20,
           20,
           20,
           20,
           20,
           10,
           10,
           10,
           10,
           10,
           10,
           10,
           10,
           5,
           5,
           5,
           5,
           5,
           5,
           5,
           5,
           5,
           5,
           5,
           5,
           5,
           5,
           5,
           5,
           5,
           5,
           5,
           5,
           5,
           5
          ]
         },
         "mode": "markers",
         "name": "Male",
         "type": "scatter",
         "uid": "d64934eb-ffd3-48af-8070-624c7806b19d",
         "x": [
          "Spain",
          "Spain",
          "Spain",
          "Dominican Rep.",
          "Spain",
          "Spain",
          "Spain",
          "Spain",
          "Spain",
          "Spain",
          "Spain",
          "Spain",
          "Spain",
          "Spain",
          "Spain",
          "Spain",
          "Spain",
          "Spain",
          "Spain",
          "Spain",
          "Spain",
          "Spain",
          "Spain",
          "Spain",
          "Spain",
          "Spain",
          "France",
          "Spain",
          "Spain",
          "Spain",
          "Spain",
          "Spain",
          "Spain",
          "Spain",
          "Spain",
          "Spain",
          "Spain",
          "Spain",
          "Spain",
          "Spain",
          "Spain",
          "Spain",
          "Spain",
          "Spain",
          "Spain",
          "Spain",
          "Spain",
          "France",
          "Spain",
          "Spain",
          "Spain",
          "Spain",
          "Spain",
          "Spain",
          "Spain",
          "Spain",
          "Spain",
          "Spain",
          "Spain",
          "Spain",
          "Spain",
          "Niger",
          "Spain",
          "Spain",
          "Australia",
          "France",
          "Spain",
          "Spain",
          "Spain",
          "Spain",
          "Spain",
          "Spain",
          "Spain",
          "Spain",
          "Spain",
          "Spain",
          "Spain",
          "Niger",
          "Niger",
          "Spain",
          "Spain",
          "Spain",
          "Spain",
          "Spain",
          "Spain",
          "Spain",
          "Spain",
          "Spain",
          "Spain",
          "Spain",
          "Spain",
          "China",
          "Spain",
          "Spain",
          "Spain",
          "Spain",
          "Spain",
          "USA",
          "Spain",
          "Spain",
          "USA",
          "Slovakia",
          "India",
          "Italy",
          "India",
          "Unknown",
          "India",
          "India",
          "India",
          "USA",
          "USA",
          "USA",
          "India",
          "USA",
          "USA",
          "India",
          "USA",
          "USA",
          "USA",
          "USA",
          "USA",
          "USA",
          "India",
          "USA",
          "USA",
          "USA",
          "USA",
          "USA",
          "USA",
          "USA",
          "USA",
          "India",
          "India",
          "USA",
          "Unknown",
          "USA",
          "Italy",
          "Canada",
          "USA",
          "USA",
          "USA",
          "USA",
          "USA",
          "India",
          "India",
          "Unknown",
          "India",
          "England",
          "India",
          "Brazil",
          "USA",
          "USA",
          "India",
          "USA",
          "USA",
          "India",
          "USA",
          "Niger",
          "USA",
          "India",
          "Italy",
          "India",
          "USA",
          "USA",
          "India",
          "Spain",
          "USA",
          "USA",
          "USA",
          "India",
          "Albania",
          "Mexico",
          "India",
          "USA",
          "Unknown",
          "USA",
          "USA",
          "India",
          "USA",
          "USA",
          "Unknown",
          "USA",
          "USA",
          "Brazil",
          "USA",
          "USA",
          "USA",
          "Canada",
          "USA",
          "USA",
          "India",
          "USA",
          "USA",
          "USA",
          "USA",
          "India",
          "India",
          "Italy",
          "India",
          "India",
          "Argentina",
          "India",
          "USA",
          "India",
          "USA",
          "USA",
          "USA",
          "Iceland",
          "USA",
          "USA",
          "Canada",
          "USA",
          "India",
          "India",
          "USA",
          "USA",
          "India",
          "USA",
          "India",
          "India",
          "USA",
          "India",
          "USA",
          "Canada",
          "USA",
          "USA",
          "USA",
          "USA",
          "India",
          "USA",
          "France",
          "India",
          "Italy",
          "USA",
          "USA",
          "USA",
          "USA",
          "England",
          "USA",
          "Italy",
          "USA",
          "USA",
          "India",
          "India",
          "USA",
          "USA",
          "USA",
          "USA",
          "USA",
          "USA",
          "Russia",
          "India",
          "USA",
          "USA",
          "USA",
          "India",
          "Sudan",
          "USA",
          "USA",
          "India",
          "USA",
          "USA",
          "India",
          "India",
          "India",
          "England",
          "India",
          "India",
          "USA",
          "USA",
          "USA",
          "India",
          "India",
          "USA",
          "USA",
          "India",
          "USA",
          "USA",
          "USA",
          "USA",
          "Italy",
          "USA",
          "England",
          "Italy",
          "India",
          "USA",
          "India",
          "USA",
          "India",
          "USA",
          "USA",
          "USA",
          "USA",
          "Macedonia",
          "USA",
          "England",
          "USA",
          "India",
          "USA",
          "England",
          "India",
          "India",
          "USA",
          "USA",
          "USA",
          "USA",
          "Indonesia",
          "USA",
          "USA",
          "USA",
          "Canada",
          "USA",
          "USA",
          "USA",
          "USA",
          "USA",
          "USA",
          "USA",
          "USA",
          "USA",
          "France",
          "USA",
          "USA",
          "India",
          "India",
          "USA",
          "USA",
          "Venezuela",
          "USA",
          "Venezuela",
          "USA",
          "USA",
          "USA",
          "USA",
          "India",
          "USA",
          "India",
          "USA",
          "India",
          "USA",
          "India",
          "India",
          "India",
          "India",
          "India",
          "USA",
          "USA",
          "India",
          "India",
          "India",
          "USA",
          "India",
          "USA",
          "USA",
          "USA",
          "USA",
          "USA",
          "USA"
         ],
         "y": [
          37,
          62,
          28,
          30,
          60,
          20,
          31,
          33,
          23,
          21,
          29,
          29,
          36,
          38,
          33,
          19,
          25,
          67,
          23,
          70,
          36,
          17,
          17,
          18,
          15,
          15,
          23,
          14,
          21,
          30,
          53,
          29,
          30,
          20,
          30,
          20,
          15,
          14,
          14,
          14,
          14,
          14,
          15,
          14,
          15,
          31,
          30,
          19,
          16,
          16,
          15,
          16,
          18,
          15,
          19,
          34,
          35,
          38,
          20,
          23,
          21,
          18,
          61,
          57,
          41,
          26,
          46,
          28,
          22,
          47,
          42,
          31,
          28,
          23,
          18,
          21,
          14,
          15,
          16,
          14,
          14,
          24,
          64,
          32,
          21,
          13,
          14,
          16,
          14,
          14,
          14,
          14,
          14,
          14,
          14,
          19,
          18,
          45,
          21,
          21,
          27,
          28,
          32,
          29,
          22,
          29,
          21,
          28,
          26,
          27,
          32,
          32,
          40,
          27,
          26,
          31,
          34,
          25,
          28,
          30,
          46,
          28,
          28,
          30,
          24,
          27,
          38,
          31,
          24,
          28,
          46,
          26,
          22,
          38,
          26,
          27,
          40,
          26,
          34,
          31,
          29,
          32,
          47,
          34,
          28,
          36,
          34,
          33,
          43,
          35,
          39,
          42,
          32,
          33,
          24,
          24,
          47,
          27,
          47,
          24,
          29,
          34,
          29,
          39,
          42,
          43,
          42,
          28,
          35,
          36,
          24,
          22,
          27,
          53,
          28,
          31,
          60,
          34,
          39,
          69,
          21,
          43,
          34,
          19,
          30,
          29,
          33,
          65,
          30,
          38,
          28,
          47,
          23,
          39,
          30,
          39,
          29,
          22,
          42,
          37,
          36,
          44,
          36,
          29,
          63,
          32,
          37,
          27,
          35,
          26,
          32,
          32,
          28,
          33,
          29,
          39,
          35,
          31,
          25,
          36,
          36,
          30,
          30,
          34,
          27,
          57,
          44,
          36,
          29,
          29,
          29,
          36,
          28,
          38,
          37,
          28,
          54,
          28,
          41,
          28,
          39,
          27,
          38,
          33,
          42,
          35,
          45,
          30,
          27,
          30,
          23,
          44,
          25,
          27,
          26,
          25,
          23,
          38,
          35,
          24,
          33,
          31,
          32,
          53,
          28,
          21,
          41,
          29,
          51,
          31,
          30,
          28,
          37,
          49,
          26,
          26,
          26,
          33,
          27,
          30,
          22,
          34,
          24,
          27,
          24,
          22,
          28,
          60,
          39,
          39,
          43,
          33,
          25,
          40,
          40,
          26,
          26,
          33,
          39,
          23,
          35,
          29,
          34,
          42,
          39,
          51,
          23,
          32,
          41,
          29,
          27,
          67,
          27,
          32,
          27,
          36,
          34,
          47,
          30,
          62,
          35,
          49,
          71,
          31,
          23,
          68,
          50,
          30,
          30,
          40,
          30,
          66,
          37,
          57,
          25,
          30,
          29,
          32,
          24,
          48,
          28,
          26,
          29,
          28,
          25,
          37,
          27,
          28,
          23,
          27,
          26,
          26,
          25,
          29,
          28,
          34,
          24,
          34
         ]
        },
        {
         "marker": {
          "opacity": [
           [
            0.6
           ],
           [
            0.6
           ],
           [
            0.6
           ],
           [
            0.6
           ],
           [
            0.6
           ],
           [
            0.6
           ],
           [
            0.6
           ],
           [
            0.6
           ],
           [
            0.6
           ],
           [
            0.6
           ],
           [
            0.6
           ],
           [
            0.6
           ],
           [
            0.6
           ],
           [
            0.6
           ],
           [
            0.6
           ],
           [
            0.6
           ],
           [
            0.6
           ],
           [
            0.6
           ],
           [
            0.6
           ],
           [
            0.6
           ],
           [
            0.6
           ],
           [
            0.6
           ],
           [
            0.6
           ],
           [
            0.6
           ],
           [
            0.6
           ],
           [
            0.6
           ],
           [
            0.6
           ],
           [
            0.6
           ],
           [
            0.6
           ],
           [
            0.6
           ],
           [
            0.6
           ],
           [
            0.6
           ],
           [
            0.6
           ],
           [
            0.6
           ],
           [
            0.6
           ],
           [
            0.6
           ],
           [
            0.6
           ],
           [
            0.6
           ],
           [
            0.6
           ],
           [
            0.6
           ],
           [
            0.6
           ],
           [
            0.6
           ],
           [
            0.6
           ],
           [
            0.6
           ],
           [
            0.6
           ],
           [
            0.6
           ],
           [
            0.6
           ],
           [
            0.6
           ],
           [
            0.6
           ],
           [
            0.6
           ],
           [
            0.6
           ],
           [
            0.6
           ],
           [
            0.6
           ],
           [
            0.6
           ],
           [
            0.6
           ],
           [
            0.6
           ],
           [
            0.6
           ],
           [
            0.6
           ],
           [
            0.6
           ],
           [
            0.6
           ],
           [
            0.6
           ],
           [
            0.6
           ],
           [
            0.6
           ],
           [
            0.6
           ],
           [
            0.6
           ],
           [
            0.6
           ],
           [
            0.6
           ],
           [
            0.6
           ],
           [
            0.6
           ],
           [
            0.6
           ],
           [
            0.6
           ],
           [
            0.6
           ],
           [
            0.6
           ],
           [
            0.6
           ],
           [
            0.6
           ],
           [
            0.6
           ],
           [
            0.6
           ],
           [
            0.6
           ],
           [
            0.6
           ],
           [
            0.6
           ],
           [
            0.6
           ],
           [
            0.6
           ],
           [
            0.6
           ],
           [
            0.6
           ],
           [
            0.6
           ],
           [
            0.6
           ],
           [
            0.6
           ],
           [
            0.6
           ],
           [
            0.6
           ],
           [
            0.6
           ],
           [
            0.6
           ],
           [
            0.6
           ],
           [
            0.6
           ],
           [
            0.6
           ],
           [
            0.6
           ],
           [
            0.6
           ],
           [
            0.6
           ],
           [
            0.6
           ],
           [
            0.6
           ],
           [
            0.6
           ],
           [
            0.6
           ],
           [
            0.6
           ],
           [
            0.6
           ],
           [
            0.6
           ],
           [
            0.6
           ],
           [
            0.6
           ],
           [
            0.6
           ],
           [
            0.6
           ],
           [
            0.6
           ],
           [
            0.6
           ],
           [
            0.6
           ],
           [
            0.6
           ],
           [
            0.6
           ],
           [
            0.6
           ],
           [
            0.6
           ],
           [
            0.6
           ],
           [
            0.6
           ],
           [
            0.6
           ],
           [
            0.6
           ],
           [
            0.6
           ],
           [
            0.6
           ],
           [
            0.6
           ],
           [
            0.6
           ],
           [
            0.6
           ],
           [
            0.6
           ],
           [
            0.6
           ],
           [
            0.6
           ],
           [
            0.6
           ],
           [
            0.6
           ],
           [
            0.6
           ],
           [
            0.6
           ],
           [
            0.6
           ],
           [
            0.6
           ],
           [
            0.6
           ],
           [
            0.6
           ],
           [
            0.6
           ],
           [
            0.6
           ],
           [
            0.6
           ],
           [
            0.6
           ],
           [
            0.6
           ],
           [
            0.6
           ],
           [
            0.6
           ],
           [
            0.6
           ],
           [
            0.6
           ],
           [
            0.6
           ],
           [
            0.6
           ],
           [
            0.6
           ],
           [
            0.6
           ],
           [
            0.6
           ],
           [
            0.6
           ],
           [
            0.6
           ],
           [
            0.6
           ],
           [
            0.6
           ],
           [
            0.6
           ],
           [
            0.6
           ],
           [
            0.6
           ],
           [
            0.6
           ],
           [
            0.6
           ],
           [
            0.6
           ],
           [
            0.6
           ],
           [
            0.6
           ],
           [
            0.6
           ],
           [
            0.6
           ],
           [
            0.6
           ],
           [
            0.6
           ],
           [
            0.6
           ],
           [
            0.6
           ],
           [
            0.6
           ],
           [
            0.6
           ],
           [
            0.6
           ],
           [
            0.6
           ],
           [
            0.6
           ],
           [
            0.6
           ],
           [
            0.6
           ],
           [
            0.6
           ],
           [
            0.6
           ],
           [
            0.6
           ],
           [
            0.6
           ],
           [
            0.6
           ],
           [
            0.6
           ],
           [
            0.6
           ],
           [
            0.6
           ],
           [
            0.6
           ],
           [
            0.6
           ],
           [
            0.6
           ],
           [
            0.6
           ],
           [
            0.6
           ],
           [
            0.6
           ],
           [
            0.6
           ],
           [
            0.6
           ],
           [
            0.6
           ],
           [
            0.6
           ],
           [
            0.6
           ],
           [
            0.6
           ],
           [
            0.6
           ],
           [
            0.6
           ],
           [
            0.6
           ],
           [
            0.6
           ],
           [
            0.6
           ],
           [
            0.6
           ],
           [
            0.6
           ],
           [
            0.6
           ],
           [
            0.6
           ],
           [
            0.6
           ],
           [
            0.6
           ],
           [
            0.6
           ],
           [
            0.6
           ],
           [
            0.6
           ],
           [
            0.6
           ],
           [
            0.6
           ],
           [
            0.6
           ],
           [
            0.6
           ],
           [
            0.6
           ],
           [
            0.6
           ],
           [
            0.6
           ],
           [
            0.6
           ],
           [
            0.6
           ],
           [
            0.6
           ],
           [
            0.6
           ],
           [
            0.6
           ],
           [
            0.6
           ],
           [
            0.6
           ],
           [
            0.6
           ],
           [
            0.6
           ],
           [
            0.6
           ],
           [
            0.6
           ],
           [
            0.6
           ],
           [
            0.6
           ],
           [
            0.6
           ],
           [
            0.6
           ],
           [
            0.6
           ],
           [
            0.6
           ],
           [
            0.6
           ],
           [
            0.6
           ],
           [
            0.6
           ],
           [
            0.6
           ],
           [
            0.6
           ],
           [
            0.6
           ],
           [
            0.6
           ],
           [
            0.6
           ],
           [
            0.6
           ],
           [
            0.6
           ],
           [
            0.6
           ],
           [
            0.6
           ],
           [
            0.6
           ],
           [
            0.6
           ],
           [
            0.6
           ],
           [
            0.6
           ],
           [
            0.6
           ],
           [
            0.6
           ],
           [
            0.6
           ],
           [
            0.6
           ],
           [
            0.6
           ],
           [
            0.6
           ],
           [
            0.6
           ],
           [
            0.6
           ],
           [
            0.6
           ],
           [
            0.6
           ],
           [
            0.6
           ],
           [
            0.6
           ],
           [
            0.6
           ],
           [
            0.6
           ],
           [
            0.6
           ],
           [
            0.6
           ],
           [
            0.6
           ],
           [
            0.6
           ],
           [
            0.6
           ],
           [
            0.6
           ],
           [
            0.6
           ],
           [
            0.6
           ],
           [
            0.6
           ],
           [
            0.6
           ],
           [
            0.6
           ],
           [
            0.6
           ],
           [
            0.6
           ],
           [
            0.6
           ],
           [
            0.6
           ],
           [
            0.6
           ],
           [
            0.6
           ],
           [
            0.6
           ],
           [
            0.6
           ],
           [
            0.6
           ],
           [
            0.6
           ],
           [
            0.6
           ],
           [
            0.6
           ],
           [
            0.6
           ],
           [
            0.6
           ],
           [
            0.6
           ],
           [
            0.6
           ],
           [
            0.6
           ],
           [
            0.6
           ],
           [
            0.6
           ],
           [
            0.6
           ],
           [
            0.6
           ],
           [
            0.6
           ],
           [
            0.6
           ],
           [
            0.6
           ],
           [
            0.6
           ],
           [
            0.6
           ],
           [
            0.6
           ],
           [
            0.6
           ],
           [
            0.6
           ],
           [
            0.6
           ],
           [
            0.6
           ],
           [
            0.6
           ],
           [
            0.6
           ],
           [
            0.6
           ],
           [
            0.6
           ],
           [
            0.6
           ],
           [
            0.6
           ],
           [
            0.6
           ],
           [
            0.6
           ],
           [
            0.6
           ],
           [
            0.6
           ],
           [
            0.6
           ],
           [
            0.6
           ],
           [
            0.6
           ],
           [
            0.6
           ],
           [
            0.6
           ],
           [
            0.6
           ],
           [
            0.6
           ],
           [
            0.6
           ],
           [
            0.6
           ],
           [
            0.6
           ],
           [
            0.6
           ],
           [
            0.6
           ],
           [
            0.6
           ],
           [
            0.6
           ],
           [
            0.6
           ],
           [
            0.6
           ],
           [
            0.6
           ],
           [
            0.6
           ],
           [
            0.6
           ],
           [
            0.6
           ],
           [
            0.6
           ],
           [
            0.6
           ],
           [
            0.6
           ],
           [
            0.6
           ],
           [
            0.6
           ],
           [
            0.6
           ],
           [
            0.6
           ],
           [
            0.6
           ],
           [
            0.6
           ],
           [
            0.6
           ],
           [
            0.6
           ],
           [
            0.6
           ],
           [
            0.6
           ],
           [
            0.6
           ],
           [
            0.6
           ],
           [
            0.6
           ],
           [
            0.6
           ],
           [
            0.6
           ],
           [
            0.6
           ],
           [
            0.6
           ],
           [
            0.6
           ],
           [
            0.6
           ],
           [
            0.6
           ],
           [
            0.6
           ],
           [
            0.6
           ],
           [
            0.6
           ],
           [
            0.6
           ],
           [
            0.6
           ],
           [
            0.6
           ],
           [
            0.6
           ],
           [
            0.6
           ],
           [
            0.6
           ],
           [
            0.6
           ],
           [
            0.6
           ],
           [
            0.6
           ],
           [
            0.6
           ],
           [
            0.6
           ],
           [
            0.6
           ],
           [
            0.6
           ],
           [
            0.6
           ],
           [
            0.6
           ],
           [
            0.6
           ],
           [
            0.6
           ],
           [
            0.6
           ],
           [
            0.6
           ],
           [
            0.6
           ],
           [
            0.6
           ],
           [
            0.6
           ],
           [
            0.6
           ],
           [
            0.6
           ],
           [
            0.6
           ],
           [
            0.6
           ],
           [
            0.6
           ],
           [
            0.6
           ],
           [
            0.6
           ],
           [
            0.6
           ],
           [
            0.6
           ],
           [
            0.6
           ],
           [
            0.6
           ],
           [
            0.6
           ],
           [
            0.6
           ],
           [
            0.6
           ],
           [
            0.6
           ],
           [
            0.6
           ],
           [
            0.6
           ],
           [
            0.6
           ],
           [
            0.6
           ],
           [
            0.6
           ],
           [
            0.6
           ],
           [
            0.6
           ],
           [
            0.6
           ],
           [
            0.6
           ],
           [
            0.6
           ],
           [
            0.6
           ],
           [
            0.6
           ],
           [
            0.6
           ],
           [
            0.6
           ],
           [
            0.6
           ],
           [
            0.6
           ],
           [
            0.6
           ],
           [
            0.6
           ],
           [
            0.6
           ],
           [
            0.6
           ],
           [
            0.6
           ],
           [
            0.6
           ],
           [
            0.6
           ],
           [
            0.6
           ],
           [
            0.6
           ],
           [
            0.6
           ],
           [
            0.6
           ],
           [
            0.6
           ],
           [
            0.6
           ],
           [
            0.6
           ],
           [
            0.6
           ],
           [
            0.6
           ],
           [
            0.6
           ],
           [
            0.6
           ],
           [
            0.6
           ],
           [
            0.6
           ],
           [
            0.6
           ],
           [
            0.6
           ],
           [
            0.6
           ],
           [
            0.6
           ],
           [
            0.6
           ],
           [
            0.6
           ],
           [
            0.6
           ],
           [
            0.6
           ],
           [
            0.6
           ],
           [
            0.6
           ],
           [
            0.6
           ],
           [
            0.6
           ],
           [
            0.6
           ],
           [
            0.6
           ],
           [
            0.6
           ],
           [
            0.6
           ],
           [
            0.6
           ],
           [
            0.6
           ],
           [
            0.6
           ],
           [
            0.6
           ],
           [
            0.6
           ],
           [
            0.6
           ],
           [
            0.6
           ],
           [
            0.6
           ],
           [
            0.6
           ],
           [
            0.6
           ],
           [
            0.6
           ],
           [
            0.6
           ],
           [
            0.6
           ],
           [
            0.6
           ],
           [
            0.6
           ],
           [
            0.6
           ],
           [
            0.6
           ],
           [
            0.6
           ],
           [
            0.6
           ],
           [
            0.6
           ],
           [
            0.6
           ],
           [
            0.6
           ],
           [
            0.6
           ],
           [
            0.6
           ],
           [
            0.6
           ],
           [
            0.6
           ],
           [
            0.6
           ],
           [
            0.6
           ],
           [
            0.6
           ],
           [
            0.6
           ],
           [
            0.6
           ],
           [
            0.6
           ],
           [
            0.6
           ],
           [
            0.6
           ],
           [
            0.6
           ],
           [
            0.6
           ],
           [
            0.6
           ],
           [
            0.6
           ],
           [
            0.6
           ],
           [
            0.6
           ],
           [
            0.6
           ],
           [
            0.6
           ],
           [
            0.6
           ],
           [
            0.6
           ],
           [
            0.6
           ],
           [
            0.6
           ],
           [
            0.6
           ],
           [
            0.6
           ],
           [
            0.6
           ],
           [
            0.6
           ],
           [
            0.6
           ],
           [
            0.6
           ],
           [
            0.6
           ],
           [
            0.6
           ],
           [
            0.6
           ],
           [
            0.6
           ],
           [
            0.6
           ],
           [
            0.6
           ],
           [
            0.6
           ],
           [
            0.6
           ],
           [
            0.6
           ],
           [
            0.6
           ],
           [
            0.6
           ],
           [
            0.6
           ],
           [
            0.6
           ],
           [
            0.6
           ],
           [
            0.6
           ],
           [
            0.6
           ],
           [
            0.6
           ],
           [
            0.6
           ],
           [
            0.6
           ],
           [
            0.6
           ],
           [
            0.6
           ],
           [
            0.6
           ],
           [
            0.6
           ],
           [
            0.6
           ],
           [
            0.6
           ],
           [
            0.6
           ],
           [
            0.6
           ],
           [
            0.6
           ],
           [
            0.6
           ],
           [
            0.6
           ],
           [
            0.6
           ],
           [
            0.6
           ],
           [
            0.6
           ],
           [
            0.6
           ],
           [
            0.6
           ],
           [
            0.6
           ],
           [
            0.6
           ],
           [
            0.6
           ],
           [
            0.6
           ],
           [
            0.6
           ],
           [
            0.6
           ],
           [
            0.6
           ],
           [
            0.6
           ],
           [
            0.6
           ],
           [
            0.6
           ],
           [
            0.6
           ],
           [
            0.6
           ],
           [
            0.6
           ],
           [
            0.6
           ],
           [
            0.6
           ],
           [
            0.6
           ],
           [
            0.6
           ],
           [
            0.6
           ],
           [
            0.6
           ],
           [
            0.6
           ],
           [
            0.6
           ],
           [
            0.6
           ],
           [
            0.6
           ],
           [
            0.6
           ],
           [
            0.6
           ],
           [
            0.6
           ],
           [
            0.6
           ],
           [
            0.6
           ],
           [
            0.6
           ],
           [
            0.6
           ],
           [
            0.6
           ],
           [
            0.6
           ],
           [
            0.6
           ],
           [
            0.6
           ],
           [
            0.6
           ],
           [
            0.6
           ],
           [
            0.6
           ],
           [
            0.6
           ],
           [
            0.6
           ],
           [
            0.6
           ],
           [
            0.6
           ],
           [
            0.6
           ],
           [
            0.6
           ],
           [
            0.6
           ],
           [
            0.6
           ],
           [
            0.6
           ],
           [
            0.6
           ],
           [
            0.6
           ],
           [
            0.6
           ],
           [
            0.6
           ],
           [
            0.6
           ],
           [
            0.6
           ],
           [
            0.6
           ],
           [
            0.6
           ],
           [
            0.6
           ],
           [
            0.6
           ],
           [
            0.6
           ],
           [
            0.6
           ],
           [
            0.6
           ],
           [
            0.6
           ],
           [
            0.6
           ],
           [
            0.6
           ],
           [
            0.6
           ],
           [
            0.6
           ],
           [
            0.6
           ],
           [
            0.6
           ],
           [
            0.6
           ],
           [
            0.6
           ],
           [
            0.6
           ],
           [
            0.6
           ],
           [
            0.6
           ],
           [
            0.6
           ],
           [
            0.6
           ],
           [
            0.6
           ],
           [
            0.6
           ],
           [
            0.6
           ],
           [
            0.6
           ],
           [
            0.6
           ],
           [
            0.6
           ],
           [
            0.6
           ],
           [
            0.6
           ],
           [
            0.6
           ],
           [
            0.6
           ],
           [
            0.6
           ],
           [
            0.6
           ],
           [
            0.6
           ],
           [
            0.6
           ],
           [
            0.6
           ],
           [
            0.6
           ],
           [
            0.6
           ],
           [
            0.6
           ],
           [
            0.6
           ],
           [
            0.6
           ],
           [
            0.6
           ],
           [
            0.6
           ],
           [
            0.6
           ],
           [
            0.6
           ],
           [
            0.6
           ],
           [
            0.6
           ],
           [
            0.6
           ],
           [
            0.6
           ],
           [
            0.6
           ],
           [
            0.6
           ],
           [
            0.6
           ],
           [
            0.6
           ],
           [
            0.6
           ],
           [
            0.6
           ],
           [
            0.6
           ],
           [
            0.6
           ],
           [
            0.6
           ],
           [
            0.6
           ],
           [
            0.6
           ],
           [
            0.6
           ],
           [
            0.6
           ],
           [
            0.6
           ],
           [
            0.6
           ],
           [
            0.6
           ],
           [
            0.6
           ],
           [
            0.6
           ],
           [
            0.6
           ],
           [
            0.6
           ],
           [
            0.6
           ],
           [
            0.6
           ],
           [
            0.6
           ],
           [
            0.6
           ],
           [
            0.6
           ],
           [
            0.6
           ],
           [
            0.6
           ],
           [
            0.6
           ],
           [
            0.6
           ],
           [
            0.6
           ],
           [
            0.6
           ],
           [
            0.6
           ],
           [
            0.6
           ],
           [
            0.6
           ],
           [
            0.6
           ],
           [
            0.6
           ],
           [
            0.6
           ],
           [
            0.6
           ],
           [
            0.6
           ],
           [
            0.6
           ],
           [
            0.6
           ],
           [
            0.6
           ],
           [
            0.6
           ],
           [
            0.6
           ],
           [
            0.6
           ],
           [
            0.6
           ],
           [
            0.6
           ],
           [
            0.6
           ],
           [
            0.6
           ],
           [
            0.6
           ],
           [
            0.6
           ],
           [
            0.6
           ],
           [
            0.6
           ],
           [
            0.6
           ],
           [
            0.6
           ],
           [
            0.6
           ],
           [
            0.6
           ],
           [
            0.6
           ],
           [
            0.6
           ],
           [
            0.6
           ],
           [
            0.6
           ],
           [
            0.6
           ],
           [
            0.6
           ],
           [
            0.6
           ],
           [
            0.6
           ],
           [
            0.6
           ],
           [
            0.6
           ],
           [
            0.6
           ],
           [
            0.6
           ],
           [
            0.6
           ],
           [
            0.6
           ],
           [
            0.6
           ],
           [
            0.6
           ],
           [
            0.6
           ],
           [
            0.6
           ],
           [
            0.6
           ],
           [
            0.6
           ],
           [
            0.6
           ],
           [
            0.6
           ],
           [
            0.6
           ],
           [
            0.6
           ],
           [
            0.6
           ],
           [
            0.6
           ],
           [
            0.6
           ],
           [
            0.6
           ],
           [
            0.6
           ],
           [
            0.6
           ],
           [
            0.6
           ],
           [
            0.6
           ],
           [
            0.6
           ],
           [
            0.6
           ],
           [
            0.6
           ],
           [
            0.6
           ],
           [
            0.6
           ],
           [
            0.6
           ],
           [
            0.6
           ],
           [
            0.6
           ],
           [
            0.6
           ],
           [
            0.6
           ],
           [
            0.6
           ],
           [
            0.6
           ],
           [
            0.6
           ],
           [
            0.6
           ],
           [
            0.6
           ],
           [
            0.6
           ],
           [
            0.6
           ],
           [
            0.6
           ],
           [
            0.6
           ],
           [
            0.6
           ],
           [
            0.6
           ],
           [
            0.6
           ],
           [
            0.6
           ],
           [
            0.6
           ],
           [
            0.6
           ],
           [
            0.6
           ],
           [
            0.6
           ],
           [
            0.6
           ],
           [
            0.6
           ],
           [
            0.6
           ],
           [
            0.6
           ],
           [
            0.6
           ],
           [
            0.6
           ],
           [
            0.6
           ],
           [
            0.6
           ],
           [
            0.6
           ],
           [
            0.6
           ],
           [
            0.6
           ],
           [
            0.6
           ],
           [
            0.6
           ],
           [
            0.6
           ]
          ],
          "size": [
           5,
           5,
           5,
           5,
           5,
           5,
           5,
           5,
           5,
           5,
           5,
           5,
           5,
           25,
           15,
           15,
           5,
           5,
           5,
           5,
           85,
           30,
           25,
           25,
           15,
           15,
           10,
           10,
           10,
           5,
           5,
           5,
           5,
           5,
           5,
           5,
           5,
           5,
           5,
           5,
           5,
           5,
           50,
           45,
           30,
           30,
           30,
           30,
           25,
           25,
           20,
           20,
           20,
           20,
           15,
           15,
           15,
           15,
           15,
           15,
           15,
           15,
           10,
           10,
           10,
           10,
           10,
           10,
           10,
           10,
           5,
           5,
           5,
           5,
           5,
           5,
           5,
           5,
           5,
           5,
           5,
           5,
           5,
           5,
           60,
           55,
           45,
           35,
           30,
           30,
           30,
           30,
           30,
           30,
           25,
           20,
           20,
           20,
           15,
           15,
           15,
           15,
           15,
           15,
           15,
           15,
           15,
           15,
           10,
           10,
           10,
           10,
           10,
           10,
           10,
           10,
           10,
           10,
           10,
           5,
           5,
           5,
           5,
           5,
           5,
           5,
           5,
           5,
           5,
           5,
           5,
           5,
           5,
           5,
           25,
           10,
           10,
           10,
           10,
           10,
           5,
           5,
           5,
           5,
           5,
           5,
           5,
           5,
           5,
           5,
           5,
           5,
           5,
           5,
           5,
           5,
           5,
           5,
           5,
           5
          ]
         },
         "mode": "markers",
         "name": "Female",
         "type": "scatter",
         "uid": "d714769f-c09e-4795-8aa9-996aae24f3b4",
         "x": [
          "Spain",
          "Spain",
          "Spain",
          "Colombia",
          "Dominican Rep.",
          "Spain",
          "Spain",
          "Spain",
          "Spain",
          "Spain",
          "Spain",
          "Spain",
          "Spain",
          "Austria",
          "Chile",
          "Spain",
          "Spain",
          "Spain",
          "Spain",
          "Spain",
          "Spain",
          "Spain",
          "Spain",
          "Spain",
          "Spain",
          "Spain",
          "Spain",
          "Spain",
          "Spain",
          "Spain",
          "Spain",
          "Spain",
          "Spain",
          "Spain",
          "Spain",
          "Spain",
          "Spain",
          "Spain",
          "France",
          "France",
          "France",
          "Spain",
          "Spain",
          "Spain",
          "Spain",
          "Spain",
          "France",
          "Spain",
          "Spain",
          "Spain",
          "Spain",
          "Spain",
          "Spain",
          "Spain",
          "Spain",
          "Spain",
          "Spain",
          "Spain",
          "Spain",
          "Spain",
          "Spain",
          "Spain",
          "Spain",
          "Spain",
          "Spain",
          "Spain",
          "Spain",
          "Spain",
          "Spain",
          "France",
          "Spain",
          "Spain",
          "Spain",
          "Spain",
          "Spain",
          "Spain",
          "Spain",
          "Spain",
          "Spain",
          "Spain",
          "Spain",
          "Spain",
          "Spain",
          "Spain",
          "Spain",
          "France",
          "Spain",
          "Spain",
          "France",
          "Spain",
          "France",
          "France",
          "France",
          "France",
          "France",
          "France",
          "Spain",
          "Spain",
          "Spain",
          "Spain",
          "Spain",
          "Spain",
          "Spain",
          "Spain",
          "Spain",
          "Spain",
          "Spain",
          "Spain",
          "Spain",
          "Russia",
          "Spain",
          "Spain",
          "Spain",
          "Brazil",
          "Spain",
          "Spain",
          "France",
          "Spain",
          "Spain",
          "Spain",
          "Spain",
          "Spain",
          "Spain",
          "Spain",
          "Spain",
          "Spain",
          "Spain",
          "Spain",
          "Spain",
          "Spain",
          "Spain",
          "Spain",
          "Spain",
          "Spain",
          "Spain",
          "Spain",
          "Spain",
          "Spain",
          "Spain",
          "USA",
          "Unknown",
          "USA",
          "USA",
          "USA",
          "USA",
          "India",
          "India",
          "USA",
          "USA",
          "India",
          "India",
          "USA",
          "USA",
          "USA",
          "USA",
          "USA",
          "USA",
          "Unknown",
          "USA",
          "USA",
          "USA",
          "England",
          "Unknown",
          "Unknown",
          "India",
          "USA",
          "USA",
          "India",
          "India",
          "India",
          "USA",
          "India",
          "USA",
          "USA",
          "USA",
          "India",
          "USA",
          "USA",
          "USA",
          "Unknown",
          "USA",
          "India",
          "USA",
          "India",
          "USA",
          "Germany",
          "USA",
          "Canada",
          "USA",
          "India",
          "USA",
          "Spain",
          "India",
          "USA",
          "India",
          "USA",
          "USA",
          "USA",
          "USA",
          "USA",
          "USA",
          "India",
          "Venezuela",
          "USA",
          "USA",
          "Unknown",
          "USA",
          "USA",
          "USA",
          "Unknown",
          "USA",
          "USA",
          "USA",
          "USA",
          "USA",
          "Unknown",
          "Pakistan",
          "USA",
          "USA",
          "India",
          "India",
          "USA",
          "USA",
          "USA",
          "USA",
          "USA",
          "Canada",
          "USA",
          "USA",
          "USA",
          "USA",
          "Unknown",
          "USA",
          "USA",
          "India",
          "USA",
          "USA",
          "Unknown",
          "The Bahamas",
          "USA",
          "Unknown",
          "USA",
          "Unknown",
          "USA",
          "India",
          "USA",
          "USA",
          "USA",
          "India",
          "USA",
          "India",
          "India",
          "England",
          "Unknown",
          "India",
          "USA",
          "Unknown",
          "Italy",
          "USA",
          "USA",
          "Unknown",
          "India",
          "India",
          "USA",
          "Spain",
          "USA",
          "USA",
          "USA",
          "USA",
          "India",
          "USA",
          "USA",
          "USA",
          "India",
          "England",
          "USA",
          "India",
          "Italy",
          "Spain",
          "India",
          "Unknown",
          "USA",
          "India",
          "India",
          "USA",
          "USA",
          "India",
          "India",
          "USA",
          "USA",
          "India",
          "Unknown",
          "USA",
          "USA",
          "Unknown",
          "USA",
          "USA",
          "Ukraine",
          "USA",
          "USA",
          "New Zealand",
          "India",
          "USA",
          "USA",
          "USA",
          "USA",
          "USA",
          "USA",
          "USA",
          "India",
          "USA",
          "USA",
          "USA",
          "England",
          "USA",
          "USA",
          "USA",
          "USA",
          "USA",
          "USA",
          "Unknown",
          "Unknown",
          "Unknown",
          "USA",
          "Ireland",
          "USA",
          "USA",
          "Unknown",
          "USA",
          "USA",
          "USA",
          "USA",
          "Venezuela",
          "USA",
          "India",
          "USA",
          "USA",
          "USA",
          "Unknown",
          "USA",
          "USA",
          "USA",
          "USA",
          "Italy",
          "USA",
          "Unknown",
          "USA",
          "Unknown",
          "USA",
          "Unknown",
          "USA",
          "USA",
          "Ireland",
          "USA",
          "Canada",
          "Unknown",
          "USA",
          "USA",
          "USA",
          "USA",
          "USA",
          "USA",
          "India",
          "Unknown",
          "USA",
          "USA",
          "USA",
          "USA",
          "USA",
          "USA",
          "USA",
          "USA",
          "USA",
          "USA",
          "Cuba",
          "USA",
          "Unknown",
          "India",
          "USA",
          "USA",
          "Unknown",
          "Unknown",
          "USA",
          "India",
          "Unknown",
          "USA",
          "USA",
          "India",
          "India",
          "USA",
          "India",
          "USA",
          "USA",
          "Unknown",
          "USA",
          "India",
          "India",
          "USA",
          "India",
          "India",
          "India",
          "India",
          "USA"
         ],
         "y": [
          31,
          24,
          30,
          42,
          32,
          30,
          31,
          35,
          23,
          28,
          41,
          32,
          22,
          33,
          46,
          24,
          43,
          21,
          50,
          57,
          46,
          53,
          44,
          18,
          27,
          64,
          18,
          23,
          15,
          15,
          15,
          16,
          16,
          17,
          31,
          35,
          32,
          31,
          21,
          22,
          20,
          35,
          48,
          29,
          42,
          28,
          21,
          28,
          27,
          62,
          19,
          21,
          22,
          23,
          18,
          19,
          18,
          51,
          15,
          15,
          14,
          26,
          34,
          17,
          17,
          16,
          15,
          15,
          16,
          19,
          16,
          35,
          38,
          34,
          30,
          34,
          41,
          35,
          35,
          36,
          46,
          32,
          55,
          34,
          37,
          21,
          52,
          31,
          25,
          31,
          20,
          19,
          19,
          19,
          18,
          20,
          39,
          44,
          28,
          41,
          57,
          55,
          28,
          61,
          62,
          43,
          39,
          46,
          55,
          21,
          45,
          27,
          46,
          32,
          21,
          26,
          19,
          21,
          15,
          13,
          15,
          30,
          62,
          24,
          14,
          14,
          14,
          14,
          13,
          13,
          14,
          14,
          14,
          15,
          14,
          13,
          53,
          21,
          21,
          81,
          42,
          26,
          27,
          27,
          26,
          37,
          32,
          25,
          29,
          30,
          29,
          37,
          28,
          22,
          27,
          44,
          35,
          35,
          27,
          35,
          61,
          27,
          31,
          23,
          33,
          22,
          37,
          31,
          30,
          24,
          49,
          32,
          35,
          41,
          26,
          30,
          35,
          35,
          22,
          39,
          33,
          37,
          21,
          30,
          27,
          56,
          35,
          24,
          36,
          24,
          34,
          30,
          33,
          55,
          26,
          25,
          37,
          46,
          59,
          25,
          23,
          29,
          32,
          55,
          27,
          26,
          23,
          26,
          51,
          62,
          51,
          30,
          60,
          54,
          48,
          32,
          26,
          29,
          39,
          40,
          31,
          21,
          56,
          24,
          34,
          43,
          56,
          34,
          46,
          35,
          49,
          28,
          33,
          26,
          29,
          47,
          27,
          28,
          43,
          54,
          31,
          24,
          40,
          30,
          38,
          38,
          23,
          24,
          24,
          30,
          24,
          29,
          26,
          52,
          29,
          51,
          56,
          22,
          30,
          22,
          37,
          24,
          38,
          25,
          28,
          46,
          46,
          48,
          33,
          24,
          33,
          32,
          36,
          33,
          45,
          42,
          34,
          38,
          20,
          37,
          20,
          44,
          27,
          30,
          57,
          40,
          34,
          24,
          66,
          46,
          35,
          20,
          38,
          30,
          28,
          27,
          56,
          24,
          45,
          59,
          27,
          33,
          41,
          31,
          64,
          34,
          81,
          43,
          38,
          24,
          46,
          25,
          29,
          67,
          69,
          73,
          30,
          38,
          42,
          31,
          50,
          55,
          32,
          25,
          53,
          45,
          35,
          46,
          33,
          25,
          45,
          62,
          24,
          27,
          30,
          50,
          28,
          43,
          33,
          50,
          40,
          47,
          55,
          26,
          48,
          67,
          27,
          28,
          38,
          43,
          47,
          24,
          38,
          27,
          21,
          43,
          36,
          60,
          25,
          25,
          45,
          29,
          24,
          27,
          44,
          54,
          37,
          58,
          65,
          34,
          53,
          35,
          78,
          33,
          23,
          18,
          36,
          24,
          37,
          26,
          53,
          25,
          38,
          24,
          28,
          37,
          35,
          33,
          31,
          29,
          25,
          35,
          50,
          26,
          26,
          24,
          24,
          34,
          24,
          24,
          24,
          24,
          27
         ]
        },
        {
         "marker": {
          "opacity": [
           [
            0.6
           ],
           [
            0.6
           ],
           [
            0.6
           ],
           [
            0.6
           ],
           [
            0.6
           ],
           [
            0.6
           ],
           [
            0.6
           ],
           [
            0.6
           ],
           [
            0.6
           ],
           [
            0.6
           ],
           [
            0.6
           ],
           [
            0.6
           ],
           [
            0.6
           ],
           [
            0.6
           ],
           [
            0.6
           ],
           [
            0.6
           ],
           [
            0.6
           ],
           [
            0.6
           ],
           [
            0.6
           ],
           [
            0.6
           ],
           [
            0.6
           ],
           [
            0.6
           ],
           [
            0.6
           ],
           [
            0.6
           ],
           [
            0.6
           ],
           [
            0.6
           ],
           [
            0.6
           ],
           [
            0.6
           ],
           [
            0.6
           ],
           [
            0.6
           ],
           [
            0.6
           ],
           [
            0.6
           ],
           [
            0.6
           ],
           [
            0.6
           ],
           [
            0.6
           ],
           [
            0.6
           ],
           [
            0.6
           ],
           [
            0.6
           ],
           [
            0.6
           ],
           [
            0.6
           ],
           [
            0.6
           ],
           [
            0.6
           ],
           [
            0.6
           ],
           [
            0.6
           ],
           [
            0.6
           ],
           [
            0.6
           ],
           [
            0.6
           ],
           [
            0.6
           ],
           [
            0.6
           ],
           [
            0.6
           ],
           [
            0.6
           ],
           [
            0.6
           ],
           [
            0.6
           ],
           [
            0.6
           ],
           [
            0.6
           ],
           [
            0.6
           ],
           [
            0.6
           ],
           [
            0.6
           ],
           [
            0.6
           ],
           [
            0.6
           ],
           [
            0.6
           ],
           [
            0.6
           ],
           [
            0.6
           ],
           [
            0.6
           ],
           [
            0.6
           ],
           [
            0.6
           ],
           [
            0.6
           ],
           [
            0.6
           ],
           [
            0.6
           ],
           [
            0.6
           ],
           [
            0.6
           ],
           [
            0.6
           ],
           [
            0.6
           ],
           [
            0.6
           ],
           [
            0.6
           ],
           [
            0.6
           ],
           [
            0.6
           ],
           [
            0.6
           ],
           [
            0.6
           ],
           [
            0.6
           ],
           [
            0.6
           ],
           [
            0.6
           ],
           [
            0.6
           ],
           [
            0.6
           ],
           [
            0.6
           ],
           [
            0.6
           ],
           [
            0.6
           ],
           [
            0.6
           ],
           [
            0.6
           ],
           [
            0.6
           ],
           [
            0.6
           ],
           [
            0.6
           ],
           [
            0.6
           ],
           [
            0.6
           ],
           [
            0.6
           ],
           [
            0.6
           ],
           [
            0.6
           ],
           [
            0.6
           ],
           [
            0.6
           ],
           [
            0.6
           ],
           [
            0.6
           ],
           [
            0.6
           ],
           [
            0.6
           ],
           [
            0.6
           ],
           [
            0.6
           ],
           [
            0.6
           ],
           [
            0.6
           ],
           [
            0.6
           ],
           [
            0.6
           ],
           [
            0.6
           ],
           [
            0.6
           ],
           [
            0.6
           ],
           [
            0.6
           ],
           [
            0.6
           ],
           [
            0.6
           ],
           [
            0.6
           ],
           [
            0.6
           ],
           [
            0.6
           ],
           [
            0.6
           ],
           [
            0.6
           ],
           [
            0.6
           ],
           [
            0.6
           ],
           [
            0.6
           ],
           [
            0.6
           ],
           [
            0.6
           ],
           [
            0.6
           ],
           [
            0.6
           ],
           [
            0.6
           ],
           [
            0.6
           ],
           [
            0.6
           ],
           [
            0.6
           ],
           [
            0.6
           ],
           [
            0.6
           ],
           [
            0.6
           ],
           [
            0.6
           ],
           [
            0.6
           ],
           [
            0.6
           ],
           [
            0.6
           ],
           [
            0.6
           ],
           [
            0.6
           ],
           [
            0.6
           ],
           [
            0.6
           ],
           [
            0.6
           ],
           [
            0.6
           ],
           [
            0.6
           ],
           [
            0.6
           ],
           [
            0.6
           ],
           [
            0.6
           ],
           [
            0.6
           ],
           [
            0.6
           ],
           [
            0.6
           ],
           [
            0.6
           ],
           [
            0.6
           ],
           [
            0.6
           ],
           [
            0.6
           ],
           [
            0.6
           ],
           [
            0.6
           ],
           [
            0.6
           ],
           [
            0.6
           ],
           [
            0.6
           ],
           [
            0.6
           ],
           [
            0.6
           ],
           [
            0.6
           ],
           [
            0.6
           ],
           [
            0.6
           ],
           [
            0.6
           ],
           [
            0.6
           ],
           [
            0.6
           ],
           [
            0.6
           ],
           [
            0.6
           ],
           [
            0.6
           ],
           [
            0.6
           ],
           [
            0.6
           ],
           [
            0.6
           ],
           [
            0.6
           ],
           [
            0.6
           ],
           [
            0.6
           ],
           [
            0.6
           ],
           [
            0.6
           ],
           [
            0.6
           ],
           [
            0.6
           ],
           [
            0.6
           ],
           [
            0.6
           ],
           [
            0.6
           ],
           [
            0.6
           ],
           [
            0.6
           ],
           [
            0.6
           ],
           [
            0.6
           ],
           [
            0.6
           ],
           [
            0.6
           ],
           [
            0.6
           ],
           [
            0.6
           ],
           [
            0.6
           ],
           [
            0.6
           ],
           [
            0.6
           ],
           [
            0.6
           ],
           [
            0.6
           ],
           [
            0.6
           ],
           [
            0.6
           ],
           [
            0.6
           ],
           [
            0.6
           ],
           [
            0.6
           ],
           [
            0.6
           ],
           [
            0.6
           ],
           [
            0.6
           ],
           [
            0.6
           ],
           [
            0.6
           ],
           [
            0.6
           ],
           [
            0.6
           ],
           [
            0.6
           ],
           [
            0.6
           ],
           [
            0.6
           ],
           [
            0.6
           ],
           [
            0.6
           ],
           [
            0.6
           ],
           [
            0.6
           ],
           [
            0.6
           ],
           [
            0.6
           ],
           [
            0.6
           ],
           [
            0.6
           ],
           [
            0.6
           ],
           [
            0.6
           ],
           [
            0.6
           ],
           [
            0.6
           ],
           [
            0.6
           ],
           [
            0.6
           ],
           [
            0.6
           ],
           [
            0.6
           ],
           [
            0.6
           ],
           [
            0.6
           ],
           [
            0.6
           ],
           [
            0.6
           ],
           [
            0.6
           ],
           [
            0.6
           ],
           [
            0.6
           ],
           [
            0.6
           ],
           [
            0.6
           ],
           [
            0.6
           ],
           [
            0.6
           ],
           [
            0.6
           ],
           [
            0.6
           ],
           [
            0.6
           ],
           [
            0.6
           ],
           [
            0.6
           ],
           [
            0.6
           ],
           [
            0.6
           ],
           [
            0.6
           ],
           [
            0.6
           ],
           [
            0.6
           ],
           [
            0.6
           ],
           [
            0.6
           ],
           [
            0.6
           ],
           [
            0.6
           ],
           [
            0.6
           ],
           [
            0.6
           ],
           [
            0.6
           ],
           [
            0.6
           ],
           [
            0.6
           ],
           [
            0.6
           ],
           [
            0.6
           ],
           [
            0.6
           ],
           [
            0.6
           ],
           [
            0.6
           ],
           [
            0.6
           ],
           [
            0.6
           ],
           [
            0.6
           ],
           [
            0.6
           ],
           [
            0.6
           ],
           [
            0.6
           ],
           [
            0.6
           ],
           [
            0.6
           ],
           [
            0.6
           ],
           [
            0.6
           ],
           [
            0.6
           ],
           [
            0.6
           ],
           [
            0.6
           ],
           [
            0.6
           ],
           [
            0.6
           ],
           [
            0.6
           ],
           [
            0.6
           ],
           [
            0.6
           ],
           [
            0.6
           ],
           [
            0.6
           ],
           [
            0.6
           ],
           [
            0.6
           ],
           [
            0.6
           ],
           [
            0.6
           ],
           [
            0.6
           ],
           [
            0.6
           ],
           [
            0.6
           ],
           [
            0.6
           ],
           [
            0.6
           ],
           [
            0.6
           ],
           [
            0.6
           ],
           [
            0.6
           ],
           [
            0.6
           ],
           [
            0.6
           ],
           [
            0.6
           ],
           [
            0.6
           ],
           [
            0.6
           ],
           [
            0.6
           ],
           [
            0.6
           ],
           [
            0.6
           ],
           [
            0.6
           ],
           [
            0.6
           ],
           [
            0.6
           ],
           [
            0.6
           ],
           [
            0.6
           ],
           [
            0.6
           ],
           [
            0.6
           ],
           [
            0.6
           ],
           [
            0.6
           ],
           [
            0.6
           ],
           [
            0.6
           ],
           [
            0.6
           ],
           [
            0.6
           ],
           [
            0.6
           ],
           [
            0.6
           ],
           [
            0.6
           ],
           [
            0.6
           ],
           [
            0.6
           ],
           [
            0.6
           ],
           [
            0.6
           ],
           [
            0.6
           ],
           [
            0.6
           ],
           [
            0.6
           ],
           [
            0.6
           ],
           [
            0.6
           ],
           [
            0.6
           ],
           [
            0.6
           ],
           [
            0.6
           ],
           [
            0.6
           ],
           [
            0.6
           ],
           [
            0.6
           ],
           [
            0.6
           ],
           [
            0.6
           ],
           [
            0.6
           ],
           [
            0.6
           ],
           [
            0.6
           ],
           [
            0.6
           ],
           [
            0.6
           ],
           [
            0.6
           ],
           [
            0.6
           ],
           [
            0.6
           ],
           [
            0.6
           ],
           [
            0.6
           ],
           [
            0.6
           ],
           [
            0.6
           ],
           [
            0.6
           ],
           [
            0.6
           ],
           [
            0.6
           ],
           [
            0.6
           ],
           [
            0.6
           ],
           [
            0.6
           ],
           [
            0.6
           ],
           [
            0.6
           ],
           [
            0.6
           ],
           [
            0.6
           ],
           [
            0.6
           ],
           [
            0.6
           ],
           [
            0.6
           ],
           [
            0.6
           ],
           [
            0.6
           ],
           [
            0.6
           ],
           [
            0.6
           ],
           [
            0.6
           ],
           [
            0.6
           ],
           [
            0.6
           ],
           [
            0.6
           ],
           [
            0.6
           ],
           [
            0.6
           ],
           [
            0.6
           ],
           [
            0.6
           ],
           [
            0.6
           ],
           [
            0.6
           ],
           [
            0.6
           ],
           [
            0.6
           ],
           [
            0.6
           ],
           [
            0.6
           ],
           [
            0.6
           ],
           [
            0.6
           ],
           [
            0.6
           ],
           [
            0.6
           ],
           [
            0.6
           ],
           [
            0.6
           ],
           [
            0.6
           ],
           [
            0.6
           ],
           [
            0.6
           ],
           [
            0.6
           ],
           [
            0.6
           ],
           [
            0.6
           ],
           [
            0.6
           ],
           [
            0.6
           ],
           [
            0.6
           ],
           [
            0.6
           ],
           [
            0.6
           ],
           [
            0.6
           ],
           [
            0.6
           ],
           [
            0.6
           ],
           [
            0.6
           ],
           [
            0.6
           ],
           [
            0.6
           ],
           [
            0.6
           ],
           [
            0.6
           ],
           [
            0.6
           ],
           [
            0.6
           ],
           [
            0.6
           ],
           [
            0.6
           ],
           [
            0.6
           ],
           [
            0.6
           ],
           [
            0.6
           ],
           [
            0.6
           ],
           [
            0.6
           ],
           [
            0.6
           ],
           [
            0.6
           ],
           [
            0.6
           ],
           [
            0.6
           ],
           [
            0.6
           ],
           [
            0.6
           ],
           [
            0.6
           ],
           [
            0.6
           ],
           [
            0.6
           ],
           [
            0.6
           ],
           [
            0.6
           ],
           [
            0.6
           ],
           [
            0.6
           ],
           [
            0.6
           ],
           [
            0.6
           ],
           [
            0.6
           ],
           [
            0.6
           ],
           [
            0.6
           ],
           [
            0.6
           ],
           [
            0.6
           ],
           [
            0.6
           ],
           [
            0.6
           ],
           [
            0.6
           ],
           [
            0.6
           ],
           [
            0.6
           ],
           [
            0.6
           ],
           [
            0.6
           ],
           [
            0.6
           ],
           [
            0.6
           ],
           [
            0.6
           ],
           [
            0.6
           ],
           [
            0.6
           ],
           [
            0.6
           ],
           [
            0.6
           ],
           [
            0.6
           ],
           [
            0.6
           ],
           [
            0.6
           ],
           [
            0.6
           ],
           [
            0.6
           ],
           [
            0.6
           ],
           [
            0.6
           ],
           [
            0.6
           ],
           [
            0.6
           ],
           [
            0.6
           ],
           [
            0.6
           ],
           [
            0.6
           ],
           [
            0.6
           ],
           [
            0.6
           ],
           [
            0.6
           ],
           [
            0.6
           ],
           [
            0.6
           ],
           [
            0.6
           ],
           [
            0.6
           ],
           [
            0.6
           ],
           [
            0.6
           ],
           [
            0.6
           ],
           [
            0.6
           ],
           [
            0.6
           ],
           [
            0.6
           ],
           [
            0.6
           ],
           [
            0.6
           ],
           [
            0.6
           ],
           [
            0.6
           ],
           [
            0.6
           ],
           [
            0.6
           ],
           [
            0.6
           ],
           [
            0.6
           ],
           [
            0.6
           ],
           [
            0.6
           ],
           [
            0.6
           ],
           [
            0.6
           ],
           [
            0.6
           ],
           [
            0.6
           ],
           [
            0.6
           ],
           [
            0.6
           ],
           [
            0.6
           ],
           [
            0.6
           ],
           [
            0.6
           ],
           [
            0.6
           ],
           [
            0.6
           ],
           [
            0.6
           ],
           [
            0.6
           ],
           [
            0.6
           ],
           [
            0.6
           ],
           [
            0.6
           ],
           [
            0.6
           ],
           [
            0.6
           ],
           [
            0.6
           ],
           [
            0.6
           ],
           [
            0.6
           ],
           [
            0.6
           ],
           [
            0.6
           ],
           [
            0.6
           ],
           [
            0.6
           ],
           [
            0.6
           ],
           [
            0.6
           ],
           [
            0.6
           ],
           [
            0.6
           ],
           [
            0.6
           ],
           [
            0.6
           ],
           [
            0.6
           ],
           [
            0.6
           ],
           [
            0.6
           ],
           [
            0.6
           ],
           [
            0.6
           ],
           [
            0.6
           ],
           [
            0.6
           ],
           [
            0.6
           ],
           [
            0.6
           ],
           [
            0.6
           ],
           [
            0.6
           ],
           [
            0.6
           ],
           [
            0.6
           ],
           [
            0.6
           ],
           [
            0.6
           ],
           [
            0.6
           ],
           [
            0.6
           ],
           [
            0.6
           ],
           [
            0.6
           ],
           [
            0.6
           ],
           [
            0.6
           ],
           [
            0.6
           ],
           [
            0.6
           ],
           [
            0.6
           ],
           [
            0.6
           ],
           [
            0.6
           ],
           [
            0.6
           ],
           [
            0.6
           ],
           [
            0.6
           ],
           [
            0.6
           ],
           [
            0.6
           ],
           [
            0.6
           ],
           [
            0.6
           ],
           [
            0.6
           ],
           [
            0.6
           ],
           [
            0.6
           ],
           [
            0.6
           ],
           [
            0.6
           ],
           [
            0.6
           ],
           [
            0.6
           ],
           [
            0.6
           ],
           [
            0.6
           ],
           [
            0.6
           ],
           [
            0.6
           ],
           [
            0.6
           ],
           [
            0.6
           ],
           [
            0.6
           ],
           [
            0.6
           ],
           [
            0.6
           ],
           [
            0.6
           ],
           [
            0.6
           ],
           [
            0.6
           ],
           [
            0.6
           ],
           [
            0.6
           ],
           [
            0.6
           ],
           [
            0.6
           ],
           [
            0.6
           ],
           [
            0.6
           ],
           [
            0.6
           ],
           [
            0.6
           ],
           [
            0.6
           ],
           [
            0.6
           ],
           [
            0.6
           ],
           [
            0.6
           ],
           [
            0.6
           ],
           [
            0.6
           ],
           [
            0.6
           ],
           [
            0.6
           ],
           [
            0.6
           ],
           [
            0.6
           ],
           [
            0.6
           ],
           [
            0.6
           ],
           [
            0.6
           ],
           [
            0.6
           ],
           [
            0.6
           ],
           [
            0.6
           ],
           [
            0.6
           ],
           [
            0.6
           ],
           [
            0.6
           ],
           [
            0.6
           ],
           [
            0.6
           ],
           [
            0.6
           ],
           [
            0.6
           ],
           [
            0.6
           ],
           [
            0.6
           ],
           [
            0.6
           ],
           [
            0.6
           ],
           [
            0.6
           ],
           [
            0.6
           ],
           [
            0.6
           ],
           [
            0.6
           ],
           [
            0.6
           ],
           [
            0.6
           ],
           [
            0.6
           ],
           [
            0.6
           ],
           [
            0.6
           ],
           [
            0.6
           ],
           [
            0.6
           ],
           [
            0.6
           ],
           [
            0.6
           ],
           [
            0.6
           ],
           [
            0.6
           ],
           [
            0.6
           ],
           [
            0.6
           ],
           [
            0.6
           ],
           [
            0.6
           ],
           [
            0.6
           ],
           [
            0.6
           ],
           [
            0.6
           ],
           [
            0.6
           ],
           [
            0.6
           ],
           [
            0.6
           ],
           [
            0.6
           ],
           [
            0.6
           ],
           [
            0.6
           ],
           [
            0.6
           ],
           [
            0.6
           ],
           [
            0.6
           ],
           [
            0.6
           ],
           [
            0.6
           ],
           [
            0.6
           ],
           [
            0.6
           ],
           [
            0.6
           ],
           [
            0.6
           ],
           [
            0.6
           ],
           [
            0.6
           ],
           [
            0.6
           ],
           [
            0.6
           ],
           [
            0.6
           ],
           [
            0.6
           ],
           [
            0.6
           ],
           [
            0.6
           ],
           [
            0.6
           ],
           [
            0.6
           ],
           [
            0.6
           ],
           [
            0.6
           ],
           [
            0.6
           ],
           [
            0.6
           ],
           [
            0.6
           ],
           [
            0.6
           ],
           [
            0.6
           ],
           [
            0.6
           ],
           [
            0.6
           ],
           [
            0.6
           ],
           [
            0.6
           ],
           [
            0.6
           ],
           [
            0.6
           ],
           [
            0.6
           ],
           [
            0.6
           ],
           [
            0.6
           ],
           [
            0.6
           ],
           [
            0.6
           ],
           [
            0.6
           ],
           [
            0.6
           ],
           [
            0.6
           ],
           [
            0.6
           ],
           [
            0.6
           ],
           [
            0.6
           ],
           [
            0.6
           ],
           [
            0.6
           ],
           [
            0.6
           ],
           [
            0.6
           ],
           [
            0.6
           ],
           [
            0.6
           ],
           [
            0.6
           ],
           [
            0.6
           ],
           [
            0.6
           ],
           [
            0.6
           ],
           [
            0.6
           ],
           [
            0.6
           ],
           [
            0.6
           ],
           [
            0.6
           ],
           [
            0.6
           ],
           [
            0.6
           ],
           [
            0.6
           ],
           [
            0.6
           ],
           [
            0.6
           ],
           [
            0.6
           ],
           [
            0.6
           ],
           [
            0.6
           ],
           [
            0.6
           ],
           [
            0.6
           ],
           [
            0.6
           ],
           [
            0.6
           ],
           [
            0.6
           ],
           [
            0.6
           ],
           [
            0.6
           ],
           [
            0.6
           ],
           [
            0.6
           ],
           [
            0.6
           ],
           [
            0.6
           ],
           [
            0.6
           ],
           [
            0.6
           ],
           [
            0.6
           ],
           [
            0.6
           ],
           [
            0.6
           ],
           [
            0.6
           ],
           [
            0.6
           ],
           [
            0.6
           ],
           [
            0.6
           ],
           [
            0.6
           ],
           [
            0.6
           ],
           [
            0.6
           ],
           [
            0.6
           ],
           [
            0.6
           ],
           [
            0.6
           ],
           [
            0.6
           ],
           [
            0.6
           ],
           [
            0.6
           ],
           [
            0.6
           ],
           [
            0.6
           ],
           [
            0.6
           ],
           [
            0.6
           ],
           [
            0.6
           ],
           [
            0.6
           ],
           [
            0.6
           ],
           [
            0.6
           ],
           [
            0.6
           ],
           [
            0.6
           ],
           [
            0.6
           ],
           [
            0.6
           ],
           [
            0.6
           ],
           [
            0.6
           ],
           [
            0.6
           ],
           [
            0.6
           ],
           [
            0.6
           ],
           [
            0.6
           ],
           [
            0.6
           ],
           [
            0.6
           ],
           [
            0.6
           ],
           [
            0.6
           ],
           [
            0.6
           ],
           [
            0.6
           ],
           [
            0.6
           ],
           [
            0.6
           ],
           [
            0.6
           ],
           [
            0.6
           ],
           [
            0.6
           ],
           [
            0.6
           ],
           [
            0.6
           ],
           [
            0.6
           ],
           [
            0.6
           ],
           [
            0.6
           ],
           [
            0.6
           ],
           [
            0.6
           ],
           [
            0.6
           ],
           [
            0.6
           ],
           [
            0.6
           ],
           [
            0.6
           ],
           [
            0.6
           ],
           [
            0.6
           ],
           [
            0.6
           ],
           [
            0.6
           ],
           [
            0.6
           ]
          ],
          "size": [
           5,
           5,
           5,
           5,
           5,
           5
          ]
         },
         "mode": "markers",
         "name": "Other",
         "type": "scatter",
         "uid": "64ce514e-382e-4202-9d96-ba7dfe94effb",
         "x": [
          "Spain",
          "Spain",
          "Spain",
          "Canada",
          "Spain",
          "Scotland"
         ],
         "y": [
          20,
          36,
          14,
          22,
          21,
          28
         ]
        }
       ],
       "layout": {
        "xaxis": {
         "title": {
          "text": "Nationality"
         }
        },
        "yaxis": {
         "title": {
          "text": "Age"
         }
        }
       }
      },
      "text/html": [
       "<div id=\"77df16a8-dbdd-4e81-86cf-e1ac745c71e7\" style=\"height: 525px; width: 100%;\" class=\"plotly-graph-div\"></div><script type=\"text/javascript\">require([\"plotly\"], function(Plotly) { window.PLOTLYENV=window.PLOTLYENV || {};window.PLOTLYENV.BASE_URL=\"https://plot.ly\";\n",
       "if (document.getElementById(\"77df16a8-dbdd-4e81-86cf-e1ac745c71e7\")) {\n",
       "    Plotly.newPlot(\"77df16a8-dbdd-4e81-86cf-e1ac745c71e7\", [{\"marker\": {\"opacity\": [[0.6], [0.6], [0.6], [0.6], [0.6], [0.6], [0.6], [0.6], [0.6], [0.6], [0.6], [0.6], [0.6], [0.6], [0.6], [0.6], [0.6], [0.6], [0.6], [0.6], [0.6], [0.6], [0.6], [0.6], [0.6], [0.6], [0.6], [0.6], [0.6], [0.6], [0.6], [0.6], [0.6], [0.6], [0.6], [0.6], [0.6], [0.6], [0.6], [0.6], [0.6], [0.6], [0.6], [0.6], [0.6], [0.6], [0.6], [0.6], [0.6], [0.6], [0.6], [0.6], [0.6], [0.6], [0.6], [0.6], [0.6], [0.6], [0.6], [0.6], [0.6], [0.6], [0.6], [0.6], [0.6], [0.6], [0.6], [0.6], [0.6], [0.6], [0.6], [0.6], [0.6], [0.6], [0.6], [0.6], [0.6], [0.6], [0.6], [0.6], [0.6], [0.6], [0.6], [0.6], [0.6], [0.6], [0.6], [0.6], [0.6], [0.6], [0.6], [0.6], [0.6], [0.6], [0.6], [0.6], [0.6], [0.6], [0.6], [0.6], [0.6], [0.6], [0.6], [0.6], [0.6], [0.6], [0.6], [0.6], [0.6], [0.6], [0.6], [0.6], [0.6], [0.6], [0.6], [0.6], [0.6], [0.6], [0.6], [0.6], [0.6], [0.6], [0.6], [0.6], [0.6], [0.6], [0.6], [0.6], [0.6], [0.6], [0.6], [0.6], [0.6], [0.6], [0.6], [0.6], [0.6], [0.6], [0.6], [0.6], [0.6], [0.6], [0.6], [0.6], [0.6], [0.6], [0.6], [0.6], [0.6], [0.6], [0.6], [0.6], [0.6], [0.6], [0.6], [0.6], [0.6], [0.6], [0.6], [0.6], [0.6], [0.6], [0.6], [0.6], [0.6], [0.6], [0.6], [0.6], [0.6], [0.6], [0.6], [0.6], [0.6], [0.6], [0.6], [0.6], [0.6], [0.6], [0.6], [0.6], [0.6], [0.6], [0.6], [0.6], [0.6], [0.6], [0.6], [0.6], [0.6], [0.6], [0.6], [0.6], [0.6], [0.6], [0.6], [0.6], [0.6], [0.6], [0.6], [0.6], [0.6], [0.6], [0.6], [0.6], [0.6], [0.6], [0.6], [0.6], [0.6], [0.6], [0.6], [0.6], [0.6], [0.6], [0.6], [0.6], [0.6], [0.6], [0.6], [0.6], [0.6], [0.6], [0.6], [0.6], [0.6], [0.6], [0.6], [0.6], [0.6], [0.6], [0.6], [0.6], [0.6], [0.6], [0.6], [0.6], [0.6], [0.6], [0.6], [0.6], [0.6], [0.6], [0.6], [0.6], [0.6], [0.6], [0.6], [0.6], [0.6], [0.6], [0.6], [0.6], [0.6], [0.6], [0.6], [0.6], [0.6], [0.6], [0.6], [0.6], [0.6], [0.6], [0.6], [0.6], [0.6], [0.6], [0.6], [0.6], [0.6], [0.6], [0.6], [0.6], [0.6], [0.6], [0.6], [0.6], [0.6], [0.6], [0.6], [0.6], [0.6], [0.6], [0.6], [0.6], [0.6], [0.6], [0.6], [0.6], [0.6], [0.6], [0.6], [0.6], [0.6], [0.6], [0.6], [0.6], [0.6], [0.6], [0.6], [0.6], [0.6], [0.6], [0.6], [0.6], [0.6], [0.6], [0.6], [0.6], [0.6], [0.6], [0.6], [0.6], [0.6], [0.6], [0.6], [0.6], [0.6], [0.6], [0.6], [0.6], [0.6], [0.6], [0.6], [0.6], [0.6], [0.6], [0.6], [0.6], [0.6], [0.6], [0.6], [0.6], [0.6], [0.6], [0.6], [0.6], [0.6], [0.6], [0.6], [0.6], [0.6], [0.6], [0.6], [0.6], [0.6], [0.6], [0.6], [0.6], [0.6], [0.6], [0.6], [0.6], [0.6], [0.6], [0.6], [0.6], [0.6], [0.6], [0.6], [0.6], [0.6], [0.6], [0.6], [0.6], [0.6], [0.6], [0.6], [0.6], [0.6], [0.6], [0.6], [0.6], [0.6], [0.6], [0.6], [0.6], [0.6], [0.6], [0.6], [0.6], [0.6], [0.6], [0.6], [0.6], [0.6], [0.6], [0.6], [0.6], [0.6], [0.6], [0.6], [0.6], [0.6], [0.6], [0.6], [0.6], [0.6], [0.6], [0.6], [0.6], [0.6], [0.6], [0.6], [0.6], [0.6], [0.6], [0.6], [0.6], [0.6], [0.6], [0.6], [0.6], [0.6], [0.6], [0.6], [0.6], [0.6], [0.6], [0.6], [0.6], [0.6], [0.6], [0.6], [0.6], [0.6], [0.6], [0.6], [0.6], [0.6], [0.6], [0.6], [0.6], [0.6], [0.6], [0.6], [0.6], [0.6], [0.6], [0.6], [0.6], [0.6], [0.6], [0.6], [0.6], [0.6], [0.6], [0.6], [0.6], [0.6], [0.6], [0.6], [0.6], [0.6], [0.6], [0.6], [0.6], [0.6], [0.6], [0.6], [0.6], [0.6], [0.6], [0.6], [0.6], [0.6], [0.6], [0.6], [0.6], [0.6], [0.6], [0.6], [0.6], [0.6], [0.6], [0.6], [0.6], [0.6], [0.6], [0.6], [0.6], [0.6], [0.6], [0.6], [0.6], [0.6], [0.6], [0.6], [0.6], [0.6], [0.6], [0.6], [0.6], [0.6], [0.6], [0.6], [0.6], [0.6], [0.6], [0.6], [0.6], [0.6], [0.6], [0.6], [0.6], [0.6], [0.6], [0.6], [0.6], [0.6], [0.6], [0.6], [0.6], [0.6], [0.6], [0.6], [0.6], [0.6], [0.6], [0.6], [0.6], [0.6], [0.6], [0.6], [0.6], [0.6], [0.6], [0.6], [0.6], [0.6], [0.6], [0.6], [0.6], [0.6], [0.6], [0.6], [0.6], [0.6], [0.6], [0.6], [0.6], [0.6], [0.6], [0.6], [0.6], [0.6], [0.6], [0.6], [0.6], [0.6], [0.6], [0.6], [0.6], [0.6], [0.6], [0.6], [0.6], [0.6], [0.6], [0.6], [0.6], [0.6], [0.6], [0.6], [0.6], [0.6], [0.6], [0.6], [0.6], [0.6], [0.6], [0.6], [0.6], [0.6], [0.6], [0.6], [0.6], [0.6], [0.6], [0.6], [0.6], [0.6], [0.6], [0.6], [0.6], [0.6], [0.6], [0.6], [0.6], [0.6], [0.6], [0.6], [0.6], [0.6], [0.6], [0.6], [0.6], [0.6], [0.6], [0.6], [0.6], [0.6], [0.6], [0.6], [0.6], [0.6], [0.6], [0.6], [0.6], [0.6], [0.6], [0.6], [0.6], [0.6], [0.6], [0.6], [0.6], [0.6], [0.6], [0.6], [0.6], [0.6], [0.6], [0.6], [0.6], [0.6], [0.6], [0.6], [0.6], [0.6], [0.6], [0.6], [0.6], [0.6], [0.6], [0.6], [0.6], [0.6], [0.6], [0.6], [0.6], [0.6], [0.6], [0.6], [0.6], [0.6], [0.6], [0.6], [0.6], [0.6], [0.6], [0.6], [0.6], [0.6], [0.6], [0.6], [0.6], [0.6], [0.6], [0.6], [0.6], [0.6], [0.6], [0.6], [0.6], [0.6], [0.6], [0.6], [0.6], [0.6], [0.6], [0.6], [0.6], [0.6], [0.6], [0.6], [0.6], [0.6], [0.6], [0.6], [0.6], [0.6], [0.6], [0.6], [0.6], [0.6], [0.6], [0.6], [0.6], [0.6], [0.6], [0.6], [0.6], [0.6], [0.6], [0.6], [0.6], [0.6], [0.6], [0.6], [0.6], [0.6], [0.6], [0.6], [0.6], [0.6], [0.6], [0.6], [0.6], [0.6], [0.6], [0.6], [0.6], [0.6], [0.6], [0.6], [0.6], [0.6], [0.6], [0.6], [0.6], [0.6], [0.6], [0.6], [0.6], [0.6], [0.6], [0.6], [0.6], [0.6], [0.6], [0.6], [0.6], [0.6], [0.6], [0.6], [0.6], [0.6], [0.6], [0.6], [0.6], [0.6], [0.6], [0.6], [0.6], [0.6], [0.6], [0.6], [0.6], [0.6], [0.6], [0.6], [0.6], [0.6], [0.6], [0.6], [0.6], [0.6], [0.6], [0.6], [0.6], [0.6], [0.6], [0.6], [0.6], [0.6], [0.6], [0.6]], \"size\": [5, 5, 5, 5, 5, 5, 5, 5, 5, 5, 5, 5, 5, 5, 5, 5, 5, 5, 5, 5, 5, 5, 5, 5, 55, 35, 25, 25, 20, 20, 15, 15, 15, 10, 10, 10, 10, 10, 10, 10, 10, 10, 5, 5, 5, 5, 5, 5, 5, 5, 10, 10, 10, 5, 5, 5, 5, 5, 5, 5, 5, 5, 5, 85, 35, 35, 20, 20, 20, 20, 20, 15, 15, 15, 15, 10, 10, 10, 10, 5, 5, 5, 5, 5, 5, 5, 5, 5, 5, 5, 5, 5, 5, 5, 5, 5, 5, 5, 5, 5, 70, 65, 45, 40, 40, 35, 35, 30, 30, 25, 25, 25, 20, 20, 20, 20, 20, 20, 10, 10, 10, 10, 10, 10, 10, 10, 5, 5, 5, 5, 5, 5, 5, 5, 5, 5, 5, 5, 5, 5, 5, 5, 5, 5, 5, 5, 5, 5]}, \"mode\": \"markers\", \"name\": \"Male\", \"x\": [\"Spain\", \"Spain\", \"Spain\", \"Dominican Rep.\", \"Spain\", \"Spain\", \"Spain\", \"Spain\", \"Spain\", \"Spain\", \"Spain\", \"Spain\", \"Spain\", \"Spain\", \"Spain\", \"Spain\", \"Spain\", \"Spain\", \"Spain\", \"Spain\", \"Spain\", \"Spain\", \"Spain\", \"Spain\", \"Spain\", \"Spain\", \"France\", \"Spain\", \"Spain\", \"Spain\", \"Spain\", \"Spain\", \"Spain\", \"Spain\", \"Spain\", \"Spain\", \"Spain\", \"Spain\", \"Spain\", \"Spain\", \"Spain\", \"Spain\", \"Spain\", \"Spain\", \"Spain\", \"Spain\", \"Spain\", \"France\", \"Spain\", \"Spain\", \"Spain\", \"Spain\", \"Spain\", \"Spain\", \"Spain\", \"Spain\", \"Spain\", \"Spain\", \"Spain\", \"Spain\", \"Spain\", \"Niger\", \"Spain\", \"Spain\", \"Australia\", \"France\", \"Spain\", \"Spain\", \"Spain\", \"Spain\", \"Spain\", \"Spain\", \"Spain\", \"Spain\", \"Spain\", \"Spain\", \"Spain\", \"Niger\", \"Niger\", \"Spain\", \"Spain\", \"Spain\", \"Spain\", \"Spain\", \"Spain\", \"Spain\", \"Spain\", \"Spain\", \"Spain\", \"Spain\", \"Spain\", \"China\", \"Spain\", \"Spain\", \"Spain\", \"Spain\", \"Spain\", \"USA\", \"Spain\", \"Spain\", \"USA\", \"Slovakia\", \"India\", \"Italy\", \"India\", \"Unknown\", \"India\", \"India\", \"India\", \"USA\", \"USA\", \"USA\", \"India\", \"USA\", \"USA\", \"India\", \"USA\", \"USA\", \"USA\", \"USA\", \"USA\", \"USA\", \"India\", \"USA\", \"USA\", \"USA\", \"USA\", \"USA\", \"USA\", \"USA\", \"USA\", \"India\", \"India\", \"USA\", \"Unknown\", \"USA\", \"Italy\", \"Canada\", \"USA\", \"USA\", \"USA\", \"USA\", \"USA\", \"India\", \"India\", \"Unknown\", \"India\", \"England\", \"India\", \"Brazil\", \"USA\", \"USA\", \"India\", \"USA\", \"USA\", \"India\", \"USA\", \"Niger\", \"USA\", \"India\", \"Italy\", \"India\", \"USA\", \"USA\", \"India\", \"Spain\", \"USA\", \"USA\", \"USA\", \"India\", \"Albania\", \"Mexico\", \"India\", \"USA\", \"Unknown\", \"USA\", \"USA\", \"India\", \"USA\", \"USA\", \"Unknown\", \"USA\", \"USA\", \"Brazil\", \"USA\", \"USA\", \"USA\", \"Canada\", \"USA\", \"USA\", \"India\", \"USA\", \"USA\", \"USA\", \"USA\", \"India\", \"India\", \"Italy\", \"India\", \"India\", \"Argentina\", \"India\", \"USA\", \"India\", \"USA\", \"USA\", \"USA\", \"Iceland\", \"USA\", \"USA\", \"Canada\", \"USA\", \"India\", \"India\", \"USA\", \"USA\", \"India\", \"USA\", \"India\", \"India\", \"USA\", \"India\", \"USA\", \"Canada\", \"USA\", \"USA\", \"USA\", \"USA\", \"India\", \"USA\", \"France\", \"India\", \"Italy\", \"USA\", \"USA\", \"USA\", \"USA\", \"England\", \"USA\", \"Italy\", \"USA\", \"USA\", \"India\", \"India\", \"USA\", \"USA\", \"USA\", \"USA\", \"USA\", \"USA\", \"Russia\", \"India\", \"USA\", \"USA\", \"USA\", \"India\", \"Sudan\", \"USA\", \"USA\", \"India\", \"USA\", \"USA\", \"India\", \"India\", \"India\", \"England\", \"India\", \"India\", \"USA\", \"USA\", \"USA\", \"India\", \"India\", \"USA\", \"USA\", \"India\", \"USA\", \"USA\", \"USA\", \"USA\", \"Italy\", \"USA\", \"England\", \"Italy\", \"India\", \"USA\", \"India\", \"USA\", \"India\", \"USA\", \"USA\", \"USA\", \"USA\", \"Macedonia\", \"USA\", \"England\", \"USA\", \"India\", \"USA\", \"England\", \"India\", \"India\", \"USA\", \"USA\", \"USA\", \"USA\", \"Indonesia\", \"USA\", \"USA\", \"USA\", \"Canada\", \"USA\", \"USA\", \"USA\", \"USA\", \"USA\", \"USA\", \"USA\", \"USA\", \"USA\", \"France\", \"USA\", \"USA\", \"India\", \"India\", \"USA\", \"USA\", \"Venezuela\", \"USA\", \"Venezuela\", \"USA\", \"USA\", \"USA\", \"USA\", \"India\", \"USA\", \"India\", \"USA\", \"India\", \"USA\", \"India\", \"India\", \"India\", \"India\", \"India\", \"USA\", \"USA\", \"India\", \"India\", \"India\", \"USA\", \"India\", \"USA\", \"USA\", \"USA\", \"USA\", \"USA\", \"USA\"], \"y\": [37, 62, 28, 30, 60, 20, 31, 33, 23, 21, 29, 29, 36, 38, 33, 19, 25, 67, 23, 70, 36, 17, 17, 18, 15, 15, 23, 14, 21, 30, 53, 29, 30, 20, 30, 20, 15, 14, 14, 14, 14, 14, 15, 14, 15, 31, 30, 19, 16, 16, 15, 16, 18, 15, 19, 34, 35, 38, 20, 23, 21, 18, 61, 57, 41, 26, 46, 28, 22, 47, 42, 31, 28, 23, 18, 21, 14, 15, 16, 14, 14, 24, 64, 32, 21, 13, 14, 16, 14, 14, 14, 14, 14, 14, 14, 19, 18, 45, 21, 21, 27, 28, 32, 29, 22, 29, 21, 28, 26, 27, 32, 32, 40, 27, 26, 31, 34, 25, 28, 30, 46, 28, 28, 30, 24, 27, 38, 31, 24, 28, 46, 26, 22, 38, 26, 27, 40, 26, 34, 31, 29, 32, 47, 34, 28, 36, 34, 33, 43, 35, 39, 42, 32, 33, 24, 24, 47, 27, 47, 24, 29, 34, 29, 39, 42, 43, 42, 28, 35, 36, 24, 22, 27, 53, 28, 31, 60, 34, 39, 69, 21, 43, 34, 19, 30, 29, 33, 65, 30, 38, 28, 47, 23, 39, 30, 39, 29, 22, 42, 37, 36, 44, 36, 29, 63, 32, 37, 27, 35, 26, 32, 32, 28, 33, 29, 39, 35, 31, 25, 36, 36, 30, 30, 34, 27, 57, 44, 36, 29, 29, 29, 36, 28, 38, 37, 28, 54, 28, 41, 28, 39, 27, 38, 33, 42, 35, 45, 30, 27, 30, 23, 44, 25, 27, 26, 25, 23, 38, 35, 24, 33, 31, 32, 53, 28, 21, 41, 29, 51, 31, 30, 28, 37, 49, 26, 26, 26, 33, 27, 30, 22, 34, 24, 27, 24, 22, 28, 60, 39, 39, 43, 33, 25, 40, 40, 26, 26, 33, 39, 23, 35, 29, 34, 42, 39, 51, 23, 32, 41, 29, 27, 67, 27, 32, 27, 36, 34, 47, 30, 62, 35, 49, 71, 31, 23, 68, 50, 30, 30, 40, 30, 66, 37, 57, 25, 30, 29, 32, 24, 48, 28, 26, 29, 28, 25, 37, 27, 28, 23, 27, 26, 26, 25, 29, 28, 34, 24, 34], \"type\": \"scatter\", \"uid\": \"48b003aa-ca46-4a01-939a-3394547c1b5d\"}, {\"marker\": {\"opacity\": [[0.6], [0.6], [0.6], [0.6], [0.6], [0.6], [0.6], [0.6], [0.6], [0.6], [0.6], [0.6], [0.6], [0.6], [0.6], [0.6], [0.6], [0.6], [0.6], [0.6], [0.6], [0.6], [0.6], [0.6], [0.6], [0.6], [0.6], [0.6], [0.6], [0.6], [0.6], [0.6], [0.6], [0.6], [0.6], [0.6], [0.6], [0.6], [0.6], [0.6], [0.6], [0.6], [0.6], [0.6], [0.6], [0.6], [0.6], [0.6], [0.6], [0.6], [0.6], [0.6], [0.6], [0.6], [0.6], [0.6], [0.6], [0.6], [0.6], [0.6], [0.6], [0.6], [0.6], [0.6], [0.6], [0.6], [0.6], [0.6], [0.6], [0.6], [0.6], [0.6], [0.6], [0.6], [0.6], [0.6], [0.6], [0.6], [0.6], [0.6], [0.6], [0.6], [0.6], [0.6], [0.6], [0.6], [0.6], [0.6], [0.6], [0.6], [0.6], [0.6], [0.6], [0.6], [0.6], [0.6], [0.6], [0.6], [0.6], [0.6], [0.6], [0.6], [0.6], [0.6], [0.6], [0.6], [0.6], [0.6], [0.6], [0.6], [0.6], [0.6], [0.6], [0.6], [0.6], [0.6], [0.6], [0.6], [0.6], [0.6], [0.6], [0.6], [0.6], [0.6], [0.6], [0.6], [0.6], [0.6], [0.6], [0.6], [0.6], [0.6], [0.6], [0.6], [0.6], [0.6], [0.6], [0.6], [0.6], [0.6], [0.6], [0.6], [0.6], [0.6], [0.6], [0.6], [0.6], [0.6], [0.6], [0.6], [0.6], [0.6], [0.6], [0.6], [0.6], [0.6], [0.6], [0.6], [0.6], [0.6], [0.6], [0.6], [0.6], [0.6], [0.6], [0.6], [0.6], [0.6], [0.6], [0.6], [0.6], [0.6], [0.6], [0.6], [0.6], [0.6], [0.6], [0.6], [0.6], [0.6], [0.6], [0.6], [0.6], [0.6], [0.6], [0.6], [0.6], [0.6], [0.6], [0.6], [0.6], [0.6], [0.6], [0.6], [0.6], [0.6], [0.6], [0.6], [0.6], [0.6], [0.6], [0.6], [0.6], [0.6], [0.6], [0.6], [0.6], [0.6], [0.6], [0.6], [0.6], [0.6], [0.6], [0.6], [0.6], [0.6], [0.6], [0.6], [0.6], [0.6], [0.6], [0.6], [0.6], [0.6], [0.6], [0.6], [0.6], [0.6], [0.6], [0.6], [0.6], [0.6], [0.6], [0.6], [0.6], [0.6], [0.6], [0.6], [0.6], [0.6], [0.6], [0.6], [0.6], [0.6], [0.6], [0.6], [0.6], [0.6], [0.6], [0.6], [0.6], [0.6], [0.6], [0.6], [0.6], [0.6], [0.6], [0.6], [0.6], [0.6], [0.6], [0.6], [0.6], [0.6], [0.6], [0.6], [0.6], [0.6], [0.6], [0.6], [0.6], [0.6], [0.6], [0.6], [0.6], [0.6], [0.6], [0.6], [0.6], [0.6], [0.6], [0.6], [0.6], [0.6], [0.6], [0.6], [0.6], [0.6], [0.6], [0.6], [0.6], [0.6], [0.6], [0.6], [0.6], [0.6], [0.6], [0.6], [0.6], [0.6], [0.6], [0.6], [0.6], [0.6], [0.6], [0.6], [0.6], [0.6], [0.6], [0.6], [0.6], [0.6], [0.6], [0.6], [0.6], [0.6], [0.6], [0.6], [0.6], [0.6], [0.6], [0.6], [0.6], [0.6], [0.6], [0.6], [0.6], [0.6], [0.6], [0.6], [0.6], [0.6], [0.6], [0.6], [0.6], [0.6], [0.6], [0.6], [0.6], [0.6], [0.6], [0.6], [0.6], [0.6], [0.6], [0.6], [0.6], [0.6], [0.6], [0.6], [0.6], [0.6], [0.6], [0.6], [0.6], [0.6], [0.6], [0.6], [0.6], [0.6], [0.6], [0.6], [0.6], [0.6], [0.6], [0.6], [0.6], [0.6], [0.6], [0.6], [0.6], [0.6], [0.6], [0.6], [0.6], [0.6], [0.6], [0.6], [0.6], [0.6], [0.6], [0.6], [0.6], [0.6], [0.6], [0.6], [0.6], [0.6], [0.6], [0.6], [0.6], [0.6], [0.6], [0.6], [0.6], [0.6], [0.6], [0.6], [0.6], [0.6], [0.6], [0.6], [0.6], [0.6], [0.6], [0.6], [0.6], [0.6], [0.6], [0.6], [0.6], [0.6], [0.6], [0.6], [0.6], [0.6], [0.6], [0.6], [0.6], [0.6], [0.6], [0.6], [0.6], [0.6], [0.6], [0.6], [0.6], [0.6], [0.6], [0.6], [0.6], [0.6], [0.6], [0.6], [0.6], [0.6], [0.6], [0.6], [0.6], [0.6], [0.6], [0.6], [0.6], [0.6], [0.6], [0.6], [0.6], [0.6], [0.6], [0.6], [0.6], [0.6], [0.6], [0.6], [0.6], [0.6], [0.6], [0.6], [0.6], [0.6], [0.6], [0.6], [0.6], [0.6], [0.6], [0.6], [0.6], [0.6], [0.6], [0.6], [0.6], [0.6], [0.6], [0.6], [0.6], [0.6], [0.6], [0.6], [0.6], [0.6], [0.6], [0.6], [0.6], [0.6], [0.6], [0.6], [0.6], [0.6], [0.6], [0.6], [0.6], [0.6], [0.6], [0.6], [0.6], [0.6], [0.6], [0.6], [0.6], [0.6], [0.6], [0.6], [0.6], [0.6], [0.6], [0.6], [0.6], [0.6], [0.6], [0.6], [0.6], [0.6], [0.6], [0.6], [0.6], [0.6], [0.6], [0.6], [0.6], [0.6], [0.6], [0.6], [0.6], [0.6], [0.6], [0.6], [0.6], [0.6], [0.6], [0.6], [0.6], [0.6], [0.6], [0.6], [0.6], [0.6], [0.6], [0.6], [0.6], [0.6], [0.6], [0.6], [0.6], [0.6], [0.6], [0.6], [0.6], [0.6], [0.6], [0.6], [0.6], [0.6], [0.6], [0.6], [0.6], [0.6], [0.6], [0.6], [0.6], [0.6], [0.6], [0.6], [0.6], [0.6], [0.6], [0.6], [0.6], [0.6], [0.6], [0.6], [0.6], [0.6], [0.6], [0.6], [0.6], [0.6], [0.6], [0.6], [0.6], [0.6], [0.6], [0.6], [0.6], [0.6], [0.6], [0.6], [0.6], [0.6], [0.6], [0.6], [0.6], [0.6], [0.6], [0.6], [0.6], [0.6], [0.6], [0.6], [0.6], [0.6], [0.6], [0.6], [0.6], [0.6], [0.6], [0.6], [0.6], [0.6], [0.6], [0.6], [0.6], [0.6], [0.6], [0.6], [0.6], [0.6], [0.6], [0.6], [0.6], [0.6], [0.6], [0.6], [0.6], [0.6], [0.6], [0.6], [0.6], [0.6], [0.6], [0.6], [0.6], [0.6], [0.6], [0.6], [0.6], [0.6], [0.6], [0.6], [0.6], [0.6], [0.6], [0.6], [0.6], [0.6], [0.6], [0.6], [0.6], [0.6], [0.6], [0.6], [0.6], [0.6], [0.6], [0.6], [0.6], [0.6], [0.6], [0.6], [0.6], [0.6], [0.6], [0.6], [0.6], [0.6], [0.6], [0.6], [0.6], [0.6], [0.6], [0.6], [0.6], [0.6], [0.6], [0.6], [0.6], [0.6], [0.6], [0.6], [0.6], [0.6], [0.6], [0.6], [0.6], [0.6], [0.6], [0.6], [0.6], [0.6], [0.6], [0.6], [0.6], [0.6], [0.6], [0.6], [0.6], [0.6], [0.6], [0.6], [0.6], [0.6], [0.6], [0.6], [0.6], [0.6], [0.6], [0.6], [0.6], [0.6], [0.6], [0.6], [0.6], [0.6], [0.6], [0.6], [0.6], [0.6], [0.6], [0.6], [0.6], [0.6], [0.6], [0.6], [0.6], [0.6], [0.6], [0.6], [0.6], [0.6], [0.6], [0.6], [0.6], [0.6], [0.6], [0.6], [0.6], [0.6], [0.6], [0.6], [0.6], [0.6], [0.6], [0.6], [0.6], [0.6], [0.6], [0.6], [0.6], [0.6], [0.6], [0.6], [0.6], [0.6], [0.6], [0.6], [0.6], [0.6], [0.6], [0.6], [0.6], [0.6], [0.6], [0.6], [0.6], [0.6], [0.6], [0.6], [0.6]], \"size\": [5, 5, 5, 5, 5, 5, 5, 5, 5, 5, 5, 5, 5, 25, 15, 15, 5, 5, 5, 5, 85, 30, 25, 25, 15, 15, 10, 10, 10, 5, 5, 5, 5, 5, 5, 5, 5, 5, 5, 5, 5, 5, 50, 45, 30, 30, 30, 30, 25, 25, 20, 20, 20, 20, 15, 15, 15, 15, 15, 15, 15, 15, 10, 10, 10, 10, 10, 10, 10, 10, 5, 5, 5, 5, 5, 5, 5, 5, 5, 5, 5, 5, 5, 5, 60, 55, 45, 35, 30, 30, 30, 30, 30, 30, 25, 20, 20, 20, 15, 15, 15, 15, 15, 15, 15, 15, 15, 15, 10, 10, 10, 10, 10, 10, 10, 10, 10, 10, 10, 5, 5, 5, 5, 5, 5, 5, 5, 5, 5, 5, 5, 5, 5, 5, 25, 10, 10, 10, 10, 10, 5, 5, 5, 5, 5, 5, 5, 5, 5, 5, 5, 5, 5, 5, 5, 5, 5, 5, 5, 5]}, \"mode\": \"markers\", \"name\": \"Female\", \"x\": [\"Spain\", \"Spain\", \"Spain\", \"Colombia\", \"Dominican Rep.\", \"Spain\", \"Spain\", \"Spain\", \"Spain\", \"Spain\", \"Spain\", \"Spain\", \"Spain\", \"Austria\", \"Chile\", \"Spain\", \"Spain\", \"Spain\", \"Spain\", \"Spain\", \"Spain\", \"Spain\", \"Spain\", \"Spain\", \"Spain\", \"Spain\", \"Spain\", \"Spain\", \"Spain\", \"Spain\", \"Spain\", \"Spain\", \"Spain\", \"Spain\", \"Spain\", \"Spain\", \"Spain\", \"Spain\", \"France\", \"France\", \"France\", \"Spain\", \"Spain\", \"Spain\", \"Spain\", \"Spain\", \"France\", \"Spain\", \"Spain\", \"Spain\", \"Spain\", \"Spain\", \"Spain\", \"Spain\", \"Spain\", \"Spain\", \"Spain\", \"Spain\", \"Spain\", \"Spain\", \"Spain\", \"Spain\", \"Spain\", \"Spain\", \"Spain\", \"Spain\", \"Spain\", \"Spain\", \"Spain\", \"France\", \"Spain\", \"Spain\", \"Spain\", \"Spain\", \"Spain\", \"Spain\", \"Spain\", \"Spain\", \"Spain\", \"Spain\", \"Spain\", \"Spain\", \"Spain\", \"Spain\", \"Spain\", \"France\", \"Spain\", \"Spain\", \"France\", \"Spain\", \"France\", \"France\", \"France\", \"France\", \"France\", \"France\", \"Spain\", \"Spain\", \"Spain\", \"Spain\", \"Spain\", \"Spain\", \"Spain\", \"Spain\", \"Spain\", \"Spain\", \"Spain\", \"Spain\", \"Spain\", \"Russia\", \"Spain\", \"Spain\", \"Spain\", \"Brazil\", \"Spain\", \"Spain\", \"France\", \"Spain\", \"Spain\", \"Spain\", \"Spain\", \"Spain\", \"Spain\", \"Spain\", \"Spain\", \"Spain\", \"Spain\", \"Spain\", \"Spain\", \"Spain\", \"Spain\", \"Spain\", \"Spain\", \"Spain\", \"Spain\", \"Spain\", \"Spain\", \"Spain\", \"Spain\", \"USA\", \"Unknown\", \"USA\", \"USA\", \"USA\", \"USA\", \"India\", \"India\", \"USA\", \"USA\", \"India\", \"India\", \"USA\", \"USA\", \"USA\", \"USA\", \"USA\", \"USA\", \"Unknown\", \"USA\", \"USA\", \"USA\", \"England\", \"Unknown\", \"Unknown\", \"India\", \"USA\", \"USA\", \"India\", \"India\", \"India\", \"USA\", \"India\", \"USA\", \"USA\", \"USA\", \"India\", \"USA\", \"USA\", \"USA\", \"Unknown\", \"USA\", \"India\", \"USA\", \"India\", \"USA\", \"Germany\", \"USA\", \"Canada\", \"USA\", \"India\", \"USA\", \"Spain\", \"India\", \"USA\", \"India\", \"USA\", \"USA\", \"USA\", \"USA\", \"USA\", \"USA\", \"India\", \"Venezuela\", \"USA\", \"USA\", \"Unknown\", \"USA\", \"USA\", \"USA\", \"Unknown\", \"USA\", \"USA\", \"USA\", \"USA\", \"USA\", \"Unknown\", \"Pakistan\", \"USA\", \"USA\", \"India\", \"India\", \"USA\", \"USA\", \"USA\", \"USA\", \"USA\", \"Canada\", \"USA\", \"USA\", \"USA\", \"USA\", \"Unknown\", \"USA\", \"USA\", \"India\", \"USA\", \"USA\", \"Unknown\", \"The Bahamas\", \"USA\", \"Unknown\", \"USA\", \"Unknown\", \"USA\", \"India\", \"USA\", \"USA\", \"USA\", \"India\", \"USA\", \"India\", \"India\", \"England\", \"Unknown\", \"India\", \"USA\", \"Unknown\", \"Italy\", \"USA\", \"USA\", \"Unknown\", \"India\", \"India\", \"USA\", \"Spain\", \"USA\", \"USA\", \"USA\", \"USA\", \"India\", \"USA\", \"USA\", \"USA\", \"India\", \"England\", \"USA\", \"India\", \"Italy\", \"Spain\", \"India\", \"Unknown\", \"USA\", \"India\", \"India\", \"USA\", \"USA\", \"India\", \"India\", \"USA\", \"USA\", \"India\", \"Unknown\", \"USA\", \"USA\", \"Unknown\", \"USA\", \"USA\", \"Ukraine\", \"USA\", \"USA\", \"New Zealand\", \"India\", \"USA\", \"USA\", \"USA\", \"USA\", \"USA\", \"USA\", \"USA\", \"India\", \"USA\", \"USA\", \"USA\", \"England\", \"USA\", \"USA\", \"USA\", \"USA\", \"USA\", \"USA\", \"Unknown\", \"Unknown\", \"Unknown\", \"USA\", \"Ireland\", \"USA\", \"USA\", \"Unknown\", \"USA\", \"USA\", \"USA\", \"USA\", \"Venezuela\", \"USA\", \"India\", \"USA\", \"USA\", \"USA\", \"Unknown\", \"USA\", \"USA\", \"USA\", \"USA\", \"Italy\", \"USA\", \"Unknown\", \"USA\", \"Unknown\", \"USA\", \"Unknown\", \"USA\", \"USA\", \"Ireland\", \"USA\", \"Canada\", \"Unknown\", \"USA\", \"USA\", \"USA\", \"USA\", \"USA\", \"USA\", \"India\", \"Unknown\", \"USA\", \"USA\", \"USA\", \"USA\", \"USA\", \"USA\", \"USA\", \"USA\", \"USA\", \"USA\", \"Cuba\", \"USA\", \"Unknown\", \"India\", \"USA\", \"USA\", \"Unknown\", \"Unknown\", \"USA\", \"India\", \"Unknown\", \"USA\", \"USA\", \"India\", \"India\", \"USA\", \"India\", \"USA\", \"USA\", \"Unknown\", \"USA\", \"India\", \"India\", \"USA\", \"India\", \"India\", \"India\", \"India\", \"USA\"], \"y\": [31, 24, 30, 42, 32, 30, 31, 35, 23, 28, 41, 32, 22, 33, 46, 24, 43, 21, 50, 57, 46, 53, 44, 18, 27, 64, 18, 23, 15, 15, 15, 16, 16, 17, 31, 35, 32, 31, 21, 22, 20, 35, 48, 29, 42, 28, 21, 28, 27, 62, 19, 21, 22, 23, 18, 19, 18, 51, 15, 15, 14, 26, 34, 17, 17, 16, 15, 15, 16, 19, 16, 35, 38, 34, 30, 34, 41, 35, 35, 36, 46, 32, 55, 34, 37, 21, 52, 31, 25, 31, 20, 19, 19, 19, 18, 20, 39, 44, 28, 41, 57, 55, 28, 61, 62, 43, 39, 46, 55, 21, 45, 27, 46, 32, 21, 26, 19, 21, 15, 13, 15, 30, 62, 24, 14, 14, 14, 14, 13, 13, 14, 14, 14, 15, 14, 13, 53, 21, 21, 81, 42, 26, 27, 27, 26, 37, 32, 25, 29, 30, 29, 37, 28, 22, 27, 44, 35, 35, 27, 35, 61, 27, 31, 23, 33, 22, 37, 31, 30, 24, 49, 32, 35, 41, 26, 30, 35, 35, 22, 39, 33, 37, 21, 30, 27, 56, 35, 24, 36, 24, 34, 30, 33, 55, 26, 25, 37, 46, 59, 25, 23, 29, 32, 55, 27, 26, 23, 26, 51, 62, 51, 30, 60, 54, 48, 32, 26, 29, 39, 40, 31, 21, 56, 24, 34, 43, 56, 34, 46, 35, 49, 28, 33, 26, 29, 47, 27, 28, 43, 54, 31, 24, 40, 30, 38, 38, 23, 24, 24, 30, 24, 29, 26, 52, 29, 51, 56, 22, 30, 22, 37, 24, 38, 25, 28, 46, 46, 48, 33, 24, 33, 32, 36, 33, 45, 42, 34, 38, 20, 37, 20, 44, 27, 30, 57, 40, 34, 24, 66, 46, 35, 20, 38, 30, 28, 27, 56, 24, 45, 59, 27, 33, 41, 31, 64, 34, 81, 43, 38, 24, 46, 25, 29, 67, 69, 73, 30, 38, 42, 31, 50, 55, 32, 25, 53, 45, 35, 46, 33, 25, 45, 62, 24, 27, 30, 50, 28, 43, 33, 50, 40, 47, 55, 26, 48, 67, 27, 28, 38, 43, 47, 24, 38, 27, 21, 43, 36, 60, 25, 25, 45, 29, 24, 27, 44, 54, 37, 58, 65, 34, 53, 35, 78, 33, 23, 18, 36, 24, 37, 26, 53, 25, 38, 24, 28, 37, 35, 33, 31, 29, 25, 35, 50, 26, 26, 24, 24, 34, 24, 24, 24, 24, 27], \"type\": \"scatter\", \"uid\": \"76315e08-1969-45dc-a7aa-d2f467990b81\"}, {\"marker\": {\"opacity\": [[0.6], [0.6], [0.6], [0.6], [0.6], [0.6], [0.6], [0.6], [0.6], [0.6], [0.6], [0.6], [0.6], [0.6], [0.6], [0.6], [0.6], [0.6], [0.6], [0.6], [0.6], [0.6], [0.6], [0.6], [0.6], [0.6], [0.6], [0.6], [0.6], [0.6], [0.6], [0.6], [0.6], [0.6], [0.6], [0.6], [0.6], [0.6], [0.6], [0.6], [0.6], [0.6], [0.6], [0.6], [0.6], [0.6], [0.6], [0.6], [0.6], [0.6], [0.6], [0.6], [0.6], [0.6], [0.6], [0.6], [0.6], [0.6], [0.6], [0.6], [0.6], [0.6], [0.6], [0.6], [0.6], [0.6], [0.6], [0.6], [0.6], [0.6], [0.6], [0.6], [0.6], [0.6], [0.6], [0.6], [0.6], [0.6], [0.6], [0.6], [0.6], [0.6], [0.6], [0.6], [0.6], [0.6], [0.6], [0.6], [0.6], [0.6], [0.6], [0.6], [0.6], [0.6], [0.6], [0.6], [0.6], [0.6], [0.6], [0.6], [0.6], [0.6], [0.6], [0.6], [0.6], [0.6], [0.6], [0.6], [0.6], [0.6], [0.6], [0.6], [0.6], [0.6], [0.6], [0.6], [0.6], [0.6], [0.6], [0.6], [0.6], [0.6], [0.6], [0.6], [0.6], [0.6], [0.6], [0.6], [0.6], [0.6], [0.6], [0.6], [0.6], [0.6], [0.6], [0.6], [0.6], [0.6], [0.6], [0.6], [0.6], [0.6], [0.6], [0.6], [0.6], [0.6], [0.6], [0.6], [0.6], [0.6], [0.6], [0.6], [0.6], [0.6], [0.6], [0.6], [0.6], [0.6], [0.6], [0.6], [0.6], [0.6], [0.6], [0.6], [0.6], [0.6], [0.6], [0.6], [0.6], [0.6], [0.6], [0.6], [0.6], [0.6], [0.6], [0.6], [0.6], [0.6], [0.6], [0.6], [0.6], [0.6], [0.6], [0.6], [0.6], [0.6], [0.6], [0.6], [0.6], [0.6], [0.6], [0.6], [0.6], [0.6], [0.6], [0.6], [0.6], [0.6], [0.6], [0.6], [0.6], [0.6], [0.6], [0.6], [0.6], [0.6], [0.6], [0.6], [0.6], [0.6], [0.6], [0.6], [0.6], [0.6], [0.6], [0.6], [0.6], [0.6], [0.6], [0.6], [0.6], [0.6], [0.6], [0.6], [0.6], [0.6], [0.6], [0.6], [0.6], [0.6], [0.6], [0.6], [0.6], [0.6], [0.6], [0.6], [0.6], [0.6], [0.6], [0.6], [0.6], [0.6], [0.6], [0.6], [0.6], [0.6], [0.6], [0.6], [0.6], [0.6], [0.6], [0.6], [0.6], [0.6], [0.6], [0.6], [0.6], [0.6], [0.6], [0.6], [0.6], [0.6], [0.6], [0.6], [0.6], [0.6], [0.6], [0.6], [0.6], [0.6], [0.6], [0.6], [0.6], [0.6], [0.6], [0.6], [0.6], [0.6], [0.6], [0.6], [0.6], [0.6], [0.6], [0.6], [0.6], [0.6], [0.6], [0.6], [0.6], [0.6], [0.6], [0.6], [0.6], [0.6], [0.6], [0.6], [0.6], [0.6], [0.6], [0.6], [0.6], [0.6], [0.6], [0.6], [0.6], [0.6], [0.6], [0.6], [0.6], [0.6], [0.6], [0.6], [0.6], [0.6], [0.6], [0.6], [0.6], [0.6], [0.6], [0.6], [0.6], [0.6], [0.6], [0.6], [0.6], [0.6], [0.6], [0.6], [0.6], [0.6], [0.6], [0.6], [0.6], [0.6], [0.6], [0.6], [0.6], [0.6], [0.6], [0.6], [0.6], [0.6], [0.6], [0.6], [0.6], [0.6], [0.6], [0.6], [0.6], [0.6], [0.6], [0.6], [0.6], [0.6], [0.6], [0.6], [0.6], [0.6], [0.6], [0.6], [0.6], [0.6], [0.6], [0.6], [0.6], [0.6], [0.6], [0.6], [0.6], [0.6], [0.6], [0.6], [0.6], [0.6], [0.6], [0.6], [0.6], [0.6], [0.6], [0.6], [0.6], [0.6], [0.6], [0.6], [0.6], [0.6], [0.6], [0.6], [0.6], [0.6], [0.6], [0.6], [0.6], [0.6], [0.6], [0.6], [0.6], [0.6], [0.6], [0.6], [0.6], [0.6], [0.6], [0.6], [0.6], [0.6], [0.6], [0.6], [0.6], [0.6], [0.6], [0.6], [0.6], [0.6], [0.6], [0.6], [0.6], [0.6], [0.6], [0.6], [0.6], [0.6], [0.6], [0.6], [0.6], [0.6], [0.6], [0.6], [0.6], [0.6], [0.6], [0.6], [0.6], [0.6], [0.6], [0.6], [0.6], [0.6], [0.6], [0.6], [0.6], [0.6], [0.6], [0.6], [0.6], [0.6], [0.6], [0.6], [0.6], [0.6], [0.6], [0.6], [0.6], [0.6], [0.6], [0.6], [0.6], [0.6], [0.6], [0.6], [0.6], [0.6], [0.6], [0.6], [0.6], [0.6], [0.6], [0.6], [0.6], [0.6], [0.6], [0.6], [0.6], [0.6], [0.6], [0.6], [0.6], [0.6], [0.6], [0.6], [0.6], [0.6], [0.6], [0.6], [0.6], [0.6], [0.6], [0.6], [0.6], [0.6], [0.6], [0.6], [0.6], [0.6], [0.6], [0.6], [0.6], [0.6], [0.6], [0.6], [0.6], [0.6], [0.6], [0.6], [0.6], [0.6], [0.6], [0.6], [0.6], [0.6], [0.6], [0.6], [0.6], [0.6], [0.6], [0.6], [0.6], [0.6], [0.6], [0.6], [0.6], [0.6], [0.6], [0.6], [0.6], [0.6], [0.6], [0.6], [0.6], [0.6], [0.6], [0.6], [0.6], [0.6], [0.6], [0.6], [0.6], [0.6], [0.6], [0.6], [0.6], [0.6], [0.6], [0.6], [0.6], [0.6], [0.6], [0.6], [0.6], [0.6], [0.6], [0.6], [0.6], [0.6], [0.6], [0.6], [0.6], [0.6], [0.6], [0.6], [0.6], [0.6], [0.6], [0.6], [0.6], [0.6], [0.6], [0.6], [0.6], [0.6], [0.6], [0.6], [0.6], [0.6], [0.6], [0.6], [0.6], [0.6], [0.6], [0.6], [0.6], [0.6], [0.6], [0.6], [0.6], [0.6], [0.6], [0.6], [0.6], [0.6], [0.6], [0.6], [0.6], [0.6], [0.6], [0.6], [0.6], [0.6], [0.6], [0.6], [0.6], [0.6], [0.6], [0.6], [0.6], [0.6], [0.6], [0.6], [0.6], [0.6], [0.6], [0.6], [0.6], [0.6], [0.6], [0.6], [0.6], [0.6], [0.6], [0.6], [0.6], [0.6], [0.6], [0.6], [0.6], [0.6], [0.6], [0.6], [0.6], [0.6], [0.6], [0.6], [0.6], [0.6], [0.6], [0.6], [0.6], [0.6], [0.6], [0.6], [0.6], [0.6], [0.6], [0.6], [0.6], [0.6], [0.6], [0.6], [0.6], [0.6], [0.6], [0.6], [0.6], [0.6], [0.6], [0.6], [0.6], [0.6], [0.6], [0.6], [0.6], [0.6], [0.6], [0.6], [0.6], [0.6], [0.6], [0.6], [0.6], [0.6], [0.6], [0.6], [0.6], [0.6], [0.6], [0.6], [0.6], [0.6], [0.6], [0.6], [0.6], [0.6], [0.6], [0.6], [0.6], [0.6], [0.6], [0.6], [0.6], [0.6], [0.6], [0.6], [0.6], [0.6], [0.6], [0.6], [0.6], [0.6], [0.6], [0.6], [0.6], [0.6], [0.6], [0.6], [0.6], [0.6], [0.6], [0.6], [0.6], [0.6], [0.6], [0.6], [0.6], [0.6], [0.6], [0.6], [0.6], [0.6], [0.6], [0.6], [0.6], [0.6], [0.6], [0.6], [0.6], [0.6], [0.6], [0.6], [0.6], [0.6], [0.6], [0.6], [0.6], [0.6], [0.6], [0.6], [0.6], [0.6], [0.6], [0.6], [0.6], [0.6], [0.6], [0.6], [0.6], [0.6], [0.6], [0.6], [0.6], [0.6], [0.6], [0.6], [0.6], [0.6], [0.6], [0.6], [0.6], [0.6], [0.6], [0.6], [0.6], [0.6], [0.6], [0.6], [0.6], [0.6], [0.6]], \"size\": [5, 5, 5, 5, 5, 5]}, \"mode\": \"markers\", \"name\": \"Other\", \"x\": [\"Spain\", \"Spain\", \"Spain\", \"Canada\", \"Spain\", \"Scotland\"], \"y\": [20, 36, 14, 22, 21, 28], \"type\": \"scatter\", \"uid\": \"dd3e5148-5bd6-4ac2-a22d-85e7950d6b03\"}], {\"xaxis\": {\"title\": {\"text\": \"Nationality\"}}, \"yaxis\": {\"title\": {\"text\": \"Age\"}}}, {\"showLink\": false, \"linkText\": \"Export to plot.ly\", \"plotlyServerURL\": \"https://plot.ly\"}); \n",
       "}\n",
       "});</script><script type=\"text/javascript\">window.addEventListener(\"resize\", function(){if (document.getElementById(\"77df16a8-dbdd-4e81-86cf-e1ac745c71e7\")) {window._Plotly.Plots.resize(document.getElementById(\"77df16a8-dbdd-4e81-86cf-e1ac745c71e7\"));};})</script>"
      ],
      "text/vnd.plotly.v1+html": [
       "<div id=\"77df16a8-dbdd-4e81-86cf-e1ac745c71e7\" style=\"height: 525px; width: 100%;\" class=\"plotly-graph-div\"></div><script type=\"text/javascript\">require([\"plotly\"], function(Plotly) { window.PLOTLYENV=window.PLOTLYENV || {};window.PLOTLYENV.BASE_URL=\"https://plot.ly\";\n",
       "if (document.getElementById(\"77df16a8-dbdd-4e81-86cf-e1ac745c71e7\")) {\n",
       "    Plotly.newPlot(\"77df16a8-dbdd-4e81-86cf-e1ac745c71e7\", [{\"marker\": {\"opacity\": [[0.6], [0.6], [0.6], [0.6], [0.6], [0.6], [0.6], [0.6], [0.6], [0.6], [0.6], [0.6], [0.6], [0.6], [0.6], [0.6], [0.6], [0.6], [0.6], [0.6], [0.6], [0.6], [0.6], [0.6], [0.6], [0.6], [0.6], [0.6], [0.6], [0.6], [0.6], [0.6], [0.6], [0.6], [0.6], [0.6], [0.6], [0.6], [0.6], [0.6], [0.6], [0.6], [0.6], [0.6], [0.6], [0.6], [0.6], [0.6], [0.6], [0.6], [0.6], [0.6], [0.6], [0.6], [0.6], [0.6], [0.6], [0.6], [0.6], [0.6], [0.6], [0.6], [0.6], [0.6], [0.6], [0.6], [0.6], [0.6], [0.6], [0.6], [0.6], [0.6], [0.6], [0.6], [0.6], [0.6], [0.6], [0.6], [0.6], [0.6], [0.6], [0.6], [0.6], [0.6], [0.6], [0.6], [0.6], [0.6], [0.6], [0.6], [0.6], [0.6], [0.6], [0.6], [0.6], [0.6], [0.6], [0.6], [0.6], [0.6], [0.6], [0.6], [0.6], [0.6], [0.6], [0.6], [0.6], [0.6], [0.6], [0.6], [0.6], [0.6], [0.6], [0.6], [0.6], [0.6], [0.6], [0.6], [0.6], [0.6], [0.6], [0.6], [0.6], [0.6], [0.6], [0.6], [0.6], [0.6], [0.6], [0.6], [0.6], [0.6], [0.6], [0.6], [0.6], [0.6], [0.6], [0.6], [0.6], [0.6], [0.6], [0.6], [0.6], [0.6], [0.6], [0.6], [0.6], [0.6], [0.6], [0.6], [0.6], [0.6], [0.6], [0.6], [0.6], [0.6], [0.6], [0.6], [0.6], [0.6], [0.6], [0.6], [0.6], [0.6], [0.6], [0.6], [0.6], [0.6], [0.6], [0.6], [0.6], [0.6], [0.6], [0.6], [0.6], [0.6], [0.6], [0.6], [0.6], [0.6], [0.6], [0.6], [0.6], [0.6], [0.6], [0.6], [0.6], [0.6], [0.6], [0.6], [0.6], [0.6], [0.6], [0.6], [0.6], [0.6], [0.6], [0.6], [0.6], [0.6], [0.6], [0.6], [0.6], [0.6], [0.6], [0.6], [0.6], [0.6], [0.6], [0.6], [0.6], [0.6], [0.6], [0.6], [0.6], [0.6], [0.6], [0.6], [0.6], [0.6], [0.6], [0.6], [0.6], [0.6], [0.6], [0.6], [0.6], [0.6], [0.6], [0.6], [0.6], [0.6], [0.6], [0.6], [0.6], [0.6], [0.6], [0.6], [0.6], [0.6], [0.6], [0.6], [0.6], [0.6], [0.6], [0.6], [0.6], [0.6], [0.6], [0.6], [0.6], [0.6], [0.6], [0.6], [0.6], [0.6], [0.6], [0.6], [0.6], [0.6], [0.6], [0.6], [0.6], [0.6], [0.6], [0.6], [0.6], [0.6], [0.6], [0.6], [0.6], [0.6], [0.6], [0.6], [0.6], [0.6], [0.6], [0.6], [0.6], [0.6], [0.6], [0.6], [0.6], [0.6], [0.6], [0.6], [0.6], [0.6], [0.6], [0.6], [0.6], [0.6], [0.6], [0.6], [0.6], [0.6], [0.6], [0.6], [0.6], [0.6], [0.6], [0.6], [0.6], [0.6], [0.6], [0.6], [0.6], [0.6], [0.6], [0.6], [0.6], [0.6], [0.6], [0.6], [0.6], [0.6], [0.6], [0.6], [0.6], [0.6], [0.6], [0.6], [0.6], [0.6], [0.6], [0.6], [0.6], [0.6], [0.6], [0.6], [0.6], [0.6], [0.6], [0.6], [0.6], [0.6], [0.6], [0.6], [0.6], [0.6], [0.6], [0.6], [0.6], [0.6], [0.6], [0.6], [0.6], [0.6], [0.6], [0.6], [0.6], [0.6], [0.6], [0.6], [0.6], [0.6], [0.6], [0.6], [0.6], [0.6], [0.6], [0.6], [0.6], [0.6], [0.6], [0.6], [0.6], [0.6], [0.6], [0.6], [0.6], [0.6], [0.6], [0.6], [0.6], [0.6], [0.6], [0.6], [0.6], [0.6], [0.6], [0.6], [0.6], [0.6], [0.6], [0.6], [0.6], [0.6], [0.6], [0.6], [0.6], [0.6], [0.6], [0.6], [0.6], [0.6], [0.6], [0.6], [0.6], [0.6], [0.6], [0.6], [0.6], [0.6], [0.6], [0.6], [0.6], [0.6], [0.6], [0.6], [0.6], [0.6], [0.6], [0.6], [0.6], [0.6], [0.6], [0.6], [0.6], [0.6], [0.6], [0.6], [0.6], [0.6], [0.6], [0.6], [0.6], [0.6], [0.6], [0.6], [0.6], [0.6], [0.6], [0.6], [0.6], [0.6], [0.6], [0.6], [0.6], [0.6], [0.6], [0.6], [0.6], [0.6], [0.6], [0.6], [0.6], [0.6], [0.6], [0.6], [0.6], [0.6], [0.6], [0.6], [0.6], [0.6], [0.6], [0.6], [0.6], [0.6], [0.6], [0.6], [0.6], [0.6], [0.6], [0.6], [0.6], [0.6], [0.6], [0.6], [0.6], [0.6], [0.6], [0.6], [0.6], [0.6], [0.6], [0.6], [0.6], [0.6], [0.6], [0.6], [0.6], [0.6], [0.6], [0.6], [0.6], [0.6], [0.6], [0.6], [0.6], [0.6], [0.6], [0.6], [0.6], [0.6], [0.6], [0.6], [0.6], [0.6], [0.6], [0.6], [0.6], [0.6], [0.6], [0.6], [0.6], [0.6], [0.6], [0.6], [0.6], [0.6], [0.6], [0.6], [0.6], [0.6], [0.6], [0.6], [0.6], [0.6], [0.6], [0.6], [0.6], [0.6], [0.6], [0.6], [0.6], [0.6], [0.6], [0.6], [0.6], [0.6], [0.6], [0.6], [0.6], [0.6], [0.6], [0.6], [0.6], [0.6], [0.6], [0.6], [0.6], [0.6], [0.6], [0.6], [0.6], [0.6], [0.6], [0.6], [0.6], [0.6], [0.6], [0.6], [0.6], [0.6], [0.6], [0.6], [0.6], [0.6], [0.6], [0.6], [0.6], [0.6], [0.6], [0.6], [0.6], [0.6], [0.6], [0.6], [0.6], [0.6], [0.6], [0.6], [0.6], [0.6], [0.6], [0.6], [0.6], [0.6], [0.6], [0.6], [0.6], [0.6], [0.6], [0.6], [0.6], [0.6], [0.6], [0.6], [0.6], [0.6], [0.6], [0.6], [0.6], [0.6], [0.6], [0.6], [0.6], [0.6], [0.6], [0.6], [0.6], [0.6], [0.6], [0.6], [0.6], [0.6], [0.6], [0.6], [0.6], [0.6], [0.6], [0.6], [0.6], [0.6], [0.6], [0.6], [0.6], [0.6], [0.6], [0.6], [0.6], [0.6], [0.6], [0.6], [0.6], [0.6], [0.6], [0.6], [0.6], [0.6], [0.6], [0.6], [0.6], [0.6], [0.6], [0.6], [0.6], [0.6], [0.6], [0.6], [0.6], [0.6], [0.6], [0.6], [0.6], [0.6], [0.6], [0.6], [0.6], [0.6], [0.6], [0.6], [0.6], [0.6], [0.6], [0.6], [0.6], [0.6], [0.6], [0.6], [0.6], [0.6], [0.6], [0.6], [0.6], [0.6], [0.6], [0.6], [0.6], [0.6], [0.6], [0.6], [0.6], [0.6], [0.6], [0.6], [0.6], [0.6], [0.6], [0.6], [0.6], [0.6], [0.6], [0.6], [0.6], [0.6], [0.6], [0.6], [0.6], [0.6], [0.6], [0.6], [0.6], [0.6], [0.6], [0.6], [0.6], [0.6], [0.6], [0.6], [0.6], [0.6], [0.6], [0.6], [0.6], [0.6], [0.6], [0.6], [0.6], [0.6], [0.6], [0.6], [0.6], [0.6], [0.6], [0.6], [0.6], [0.6], [0.6], [0.6], [0.6], [0.6], [0.6], [0.6], [0.6], [0.6], [0.6], [0.6], [0.6], [0.6], [0.6], [0.6], [0.6], [0.6], [0.6], [0.6], [0.6], [0.6], [0.6], [0.6], [0.6], [0.6], [0.6], [0.6], [0.6], [0.6], [0.6], [0.6], [0.6], [0.6], [0.6], [0.6], [0.6], [0.6], [0.6], [0.6], [0.6], [0.6], [0.6], [0.6], [0.6], [0.6], [0.6], [0.6], [0.6]], \"size\": [5, 5, 5, 5, 5, 5, 5, 5, 5, 5, 5, 5, 5, 5, 5, 5, 5, 5, 5, 5, 5, 5, 5, 5, 55, 35, 25, 25, 20, 20, 15, 15, 15, 10, 10, 10, 10, 10, 10, 10, 10, 10, 5, 5, 5, 5, 5, 5, 5, 5, 10, 10, 10, 5, 5, 5, 5, 5, 5, 5, 5, 5, 5, 85, 35, 35, 20, 20, 20, 20, 20, 15, 15, 15, 15, 10, 10, 10, 10, 5, 5, 5, 5, 5, 5, 5, 5, 5, 5, 5, 5, 5, 5, 5, 5, 5, 5, 5, 5, 5, 70, 65, 45, 40, 40, 35, 35, 30, 30, 25, 25, 25, 20, 20, 20, 20, 20, 20, 10, 10, 10, 10, 10, 10, 10, 10, 5, 5, 5, 5, 5, 5, 5, 5, 5, 5, 5, 5, 5, 5, 5, 5, 5, 5, 5, 5, 5, 5]}, \"mode\": \"markers\", \"name\": \"Male\", \"x\": [\"Spain\", \"Spain\", \"Spain\", \"Dominican Rep.\", \"Spain\", \"Spain\", \"Spain\", \"Spain\", \"Spain\", \"Spain\", \"Spain\", \"Spain\", \"Spain\", \"Spain\", \"Spain\", \"Spain\", \"Spain\", \"Spain\", \"Spain\", \"Spain\", \"Spain\", \"Spain\", \"Spain\", \"Spain\", \"Spain\", \"Spain\", \"France\", \"Spain\", \"Spain\", \"Spain\", \"Spain\", \"Spain\", \"Spain\", \"Spain\", \"Spain\", \"Spain\", \"Spain\", \"Spain\", \"Spain\", \"Spain\", \"Spain\", \"Spain\", \"Spain\", \"Spain\", \"Spain\", \"Spain\", \"Spain\", \"France\", \"Spain\", \"Spain\", \"Spain\", \"Spain\", \"Spain\", \"Spain\", \"Spain\", \"Spain\", \"Spain\", \"Spain\", \"Spain\", \"Spain\", \"Spain\", \"Niger\", \"Spain\", \"Spain\", \"Australia\", \"France\", \"Spain\", \"Spain\", \"Spain\", \"Spain\", \"Spain\", \"Spain\", \"Spain\", \"Spain\", \"Spain\", \"Spain\", \"Spain\", \"Niger\", \"Niger\", \"Spain\", \"Spain\", \"Spain\", \"Spain\", \"Spain\", \"Spain\", \"Spain\", \"Spain\", \"Spain\", \"Spain\", \"Spain\", \"Spain\", \"China\", \"Spain\", \"Spain\", \"Spain\", \"Spain\", \"Spain\", \"USA\", \"Spain\", \"Spain\", \"USA\", \"Slovakia\", \"India\", \"Italy\", \"India\", \"Unknown\", \"India\", \"India\", \"India\", \"USA\", \"USA\", \"USA\", \"India\", \"USA\", \"USA\", \"India\", \"USA\", \"USA\", \"USA\", \"USA\", \"USA\", \"USA\", \"India\", \"USA\", \"USA\", \"USA\", \"USA\", \"USA\", \"USA\", \"USA\", \"USA\", \"India\", \"India\", \"USA\", \"Unknown\", \"USA\", \"Italy\", \"Canada\", \"USA\", \"USA\", \"USA\", \"USA\", \"USA\", \"India\", \"India\", \"Unknown\", \"India\", \"England\", \"India\", \"Brazil\", \"USA\", \"USA\", \"India\", \"USA\", \"USA\", \"India\", \"USA\", \"Niger\", \"USA\", \"India\", \"Italy\", \"India\", \"USA\", \"USA\", \"India\", \"Spain\", \"USA\", \"USA\", \"USA\", \"India\", \"Albania\", \"Mexico\", \"India\", \"USA\", \"Unknown\", \"USA\", \"USA\", \"India\", \"USA\", \"USA\", \"Unknown\", \"USA\", \"USA\", \"Brazil\", \"USA\", \"USA\", \"USA\", \"Canada\", \"USA\", \"USA\", \"India\", \"USA\", \"USA\", \"USA\", \"USA\", \"India\", \"India\", \"Italy\", \"India\", \"India\", \"Argentina\", \"India\", \"USA\", \"India\", \"USA\", \"USA\", \"USA\", \"Iceland\", \"USA\", \"USA\", \"Canada\", \"USA\", \"India\", \"India\", \"USA\", \"USA\", \"India\", \"USA\", \"India\", \"India\", \"USA\", \"India\", \"USA\", \"Canada\", \"USA\", \"USA\", \"USA\", \"USA\", \"India\", \"USA\", \"France\", \"India\", \"Italy\", \"USA\", \"USA\", \"USA\", \"USA\", \"England\", \"USA\", \"Italy\", \"USA\", \"USA\", \"India\", \"India\", \"USA\", \"USA\", \"USA\", \"USA\", \"USA\", \"USA\", \"Russia\", \"India\", \"USA\", \"USA\", \"USA\", \"India\", \"Sudan\", \"USA\", \"USA\", \"India\", \"USA\", \"USA\", \"India\", \"India\", \"India\", \"England\", \"India\", \"India\", \"USA\", \"USA\", \"USA\", \"India\", \"India\", \"USA\", \"USA\", \"India\", \"USA\", \"USA\", \"USA\", \"USA\", \"Italy\", \"USA\", \"England\", \"Italy\", \"India\", \"USA\", \"India\", \"USA\", \"India\", \"USA\", \"USA\", \"USA\", \"USA\", \"Macedonia\", \"USA\", \"England\", \"USA\", \"India\", \"USA\", \"England\", \"India\", \"India\", \"USA\", \"USA\", \"USA\", \"USA\", \"Indonesia\", \"USA\", \"USA\", \"USA\", \"Canada\", \"USA\", \"USA\", \"USA\", \"USA\", \"USA\", \"USA\", \"USA\", \"USA\", \"USA\", \"France\", \"USA\", \"USA\", \"India\", \"India\", \"USA\", \"USA\", \"Venezuela\", \"USA\", \"Venezuela\", \"USA\", \"USA\", \"USA\", \"USA\", \"India\", \"USA\", \"India\", \"USA\", \"India\", \"USA\", \"India\", \"India\", \"India\", \"India\", \"India\", \"USA\", \"USA\", \"India\", \"India\", \"India\", \"USA\", \"India\", \"USA\", \"USA\", \"USA\", \"USA\", \"USA\", \"USA\"], \"y\": [37, 62, 28, 30, 60, 20, 31, 33, 23, 21, 29, 29, 36, 38, 33, 19, 25, 67, 23, 70, 36, 17, 17, 18, 15, 15, 23, 14, 21, 30, 53, 29, 30, 20, 30, 20, 15, 14, 14, 14, 14, 14, 15, 14, 15, 31, 30, 19, 16, 16, 15, 16, 18, 15, 19, 34, 35, 38, 20, 23, 21, 18, 61, 57, 41, 26, 46, 28, 22, 47, 42, 31, 28, 23, 18, 21, 14, 15, 16, 14, 14, 24, 64, 32, 21, 13, 14, 16, 14, 14, 14, 14, 14, 14, 14, 19, 18, 45, 21, 21, 27, 28, 32, 29, 22, 29, 21, 28, 26, 27, 32, 32, 40, 27, 26, 31, 34, 25, 28, 30, 46, 28, 28, 30, 24, 27, 38, 31, 24, 28, 46, 26, 22, 38, 26, 27, 40, 26, 34, 31, 29, 32, 47, 34, 28, 36, 34, 33, 43, 35, 39, 42, 32, 33, 24, 24, 47, 27, 47, 24, 29, 34, 29, 39, 42, 43, 42, 28, 35, 36, 24, 22, 27, 53, 28, 31, 60, 34, 39, 69, 21, 43, 34, 19, 30, 29, 33, 65, 30, 38, 28, 47, 23, 39, 30, 39, 29, 22, 42, 37, 36, 44, 36, 29, 63, 32, 37, 27, 35, 26, 32, 32, 28, 33, 29, 39, 35, 31, 25, 36, 36, 30, 30, 34, 27, 57, 44, 36, 29, 29, 29, 36, 28, 38, 37, 28, 54, 28, 41, 28, 39, 27, 38, 33, 42, 35, 45, 30, 27, 30, 23, 44, 25, 27, 26, 25, 23, 38, 35, 24, 33, 31, 32, 53, 28, 21, 41, 29, 51, 31, 30, 28, 37, 49, 26, 26, 26, 33, 27, 30, 22, 34, 24, 27, 24, 22, 28, 60, 39, 39, 43, 33, 25, 40, 40, 26, 26, 33, 39, 23, 35, 29, 34, 42, 39, 51, 23, 32, 41, 29, 27, 67, 27, 32, 27, 36, 34, 47, 30, 62, 35, 49, 71, 31, 23, 68, 50, 30, 30, 40, 30, 66, 37, 57, 25, 30, 29, 32, 24, 48, 28, 26, 29, 28, 25, 37, 27, 28, 23, 27, 26, 26, 25, 29, 28, 34, 24, 34], \"type\": \"scatter\", \"uid\": \"48b003aa-ca46-4a01-939a-3394547c1b5d\"}, {\"marker\": {\"opacity\": [[0.6], [0.6], [0.6], [0.6], [0.6], [0.6], [0.6], [0.6], [0.6], [0.6], [0.6], [0.6], [0.6], [0.6], [0.6], [0.6], [0.6], [0.6], [0.6], [0.6], [0.6], [0.6], [0.6], [0.6], [0.6], [0.6], [0.6], [0.6], [0.6], [0.6], [0.6], [0.6], [0.6], [0.6], [0.6], [0.6], [0.6], [0.6], [0.6], [0.6], [0.6], [0.6], [0.6], [0.6], [0.6], [0.6], [0.6], [0.6], [0.6], [0.6], [0.6], [0.6], [0.6], [0.6], [0.6], [0.6], [0.6], [0.6], [0.6], [0.6], [0.6], [0.6], [0.6], [0.6], [0.6], [0.6], [0.6], [0.6], [0.6], [0.6], [0.6], [0.6], [0.6], [0.6], [0.6], [0.6], [0.6], [0.6], [0.6], [0.6], [0.6], [0.6], [0.6], [0.6], [0.6], [0.6], [0.6], [0.6], [0.6], [0.6], [0.6], [0.6], [0.6], [0.6], [0.6], [0.6], [0.6], [0.6], [0.6], [0.6], [0.6], [0.6], [0.6], [0.6], [0.6], [0.6], [0.6], [0.6], [0.6], [0.6], [0.6], [0.6], [0.6], [0.6], [0.6], [0.6], [0.6], [0.6], [0.6], [0.6], [0.6], [0.6], [0.6], [0.6], [0.6], [0.6], [0.6], [0.6], [0.6], [0.6], [0.6], [0.6], [0.6], [0.6], [0.6], [0.6], [0.6], [0.6], [0.6], [0.6], [0.6], [0.6], [0.6], [0.6], [0.6], [0.6], [0.6], [0.6], [0.6], [0.6], [0.6], [0.6], [0.6], [0.6], [0.6], [0.6], [0.6], [0.6], [0.6], [0.6], [0.6], [0.6], [0.6], [0.6], [0.6], [0.6], [0.6], [0.6], [0.6], [0.6], [0.6], [0.6], [0.6], [0.6], [0.6], [0.6], [0.6], [0.6], [0.6], [0.6], [0.6], [0.6], [0.6], [0.6], [0.6], [0.6], [0.6], [0.6], [0.6], [0.6], [0.6], [0.6], [0.6], [0.6], [0.6], [0.6], [0.6], [0.6], [0.6], [0.6], [0.6], [0.6], [0.6], [0.6], [0.6], [0.6], [0.6], [0.6], [0.6], [0.6], [0.6], [0.6], [0.6], [0.6], [0.6], [0.6], [0.6], [0.6], [0.6], [0.6], [0.6], [0.6], [0.6], [0.6], [0.6], [0.6], [0.6], [0.6], [0.6], [0.6], [0.6], [0.6], [0.6], [0.6], [0.6], [0.6], [0.6], [0.6], [0.6], [0.6], [0.6], [0.6], [0.6], [0.6], [0.6], [0.6], [0.6], [0.6], [0.6], [0.6], [0.6], [0.6], [0.6], [0.6], [0.6], [0.6], [0.6], [0.6], [0.6], [0.6], [0.6], [0.6], [0.6], [0.6], [0.6], [0.6], [0.6], [0.6], [0.6], [0.6], [0.6], [0.6], [0.6], [0.6], [0.6], [0.6], [0.6], [0.6], [0.6], [0.6], [0.6], [0.6], [0.6], [0.6], [0.6], [0.6], [0.6], [0.6], [0.6], [0.6], [0.6], [0.6], [0.6], [0.6], [0.6], [0.6], [0.6], [0.6], [0.6], [0.6], [0.6], [0.6], [0.6], [0.6], [0.6], [0.6], [0.6], [0.6], [0.6], [0.6], [0.6], [0.6], [0.6], [0.6], [0.6], [0.6], [0.6], [0.6], [0.6], [0.6], [0.6], [0.6], [0.6], [0.6], [0.6], [0.6], [0.6], [0.6], [0.6], [0.6], [0.6], [0.6], [0.6], [0.6], [0.6], [0.6], [0.6], [0.6], [0.6], [0.6], [0.6], [0.6], [0.6], [0.6], [0.6], [0.6], [0.6], [0.6], [0.6], [0.6], [0.6], [0.6], [0.6], [0.6], [0.6], [0.6], [0.6], [0.6], [0.6], [0.6], [0.6], [0.6], [0.6], [0.6], [0.6], [0.6], [0.6], [0.6], [0.6], [0.6], [0.6], [0.6], [0.6], [0.6], [0.6], [0.6], [0.6], [0.6], [0.6], [0.6], [0.6], [0.6], [0.6], [0.6], [0.6], [0.6], [0.6], [0.6], [0.6], [0.6], [0.6], [0.6], [0.6], [0.6], [0.6], [0.6], [0.6], [0.6], [0.6], [0.6], [0.6], [0.6], [0.6], [0.6], [0.6], [0.6], [0.6], [0.6], [0.6], [0.6], [0.6], [0.6], [0.6], [0.6], [0.6], [0.6], [0.6], [0.6], [0.6], [0.6], [0.6], [0.6], [0.6], [0.6], [0.6], [0.6], [0.6], [0.6], [0.6], [0.6], [0.6], [0.6], [0.6], [0.6], [0.6], [0.6], [0.6], [0.6], [0.6], [0.6], [0.6], [0.6], [0.6], [0.6], [0.6], [0.6], [0.6], [0.6], [0.6], [0.6], [0.6], [0.6], [0.6], [0.6], [0.6], [0.6], [0.6], [0.6], [0.6], [0.6], [0.6], [0.6], [0.6], [0.6], [0.6], [0.6], [0.6], [0.6], [0.6], [0.6], [0.6], [0.6], [0.6], [0.6], [0.6], [0.6], [0.6], [0.6], [0.6], [0.6], [0.6], [0.6], [0.6], [0.6], [0.6], [0.6], [0.6], [0.6], [0.6], [0.6], [0.6], [0.6], [0.6], [0.6], [0.6], [0.6], [0.6], [0.6], [0.6], [0.6], [0.6], [0.6], [0.6], [0.6], [0.6], [0.6], [0.6], [0.6], [0.6], [0.6], [0.6], [0.6], [0.6], [0.6], [0.6], [0.6], [0.6], [0.6], [0.6], [0.6], [0.6], [0.6], [0.6], [0.6], [0.6], [0.6], [0.6], [0.6], [0.6], [0.6], [0.6], [0.6], [0.6], [0.6], [0.6], [0.6], [0.6], [0.6], [0.6], [0.6], [0.6], [0.6], [0.6], [0.6], [0.6], [0.6], [0.6], [0.6], [0.6], [0.6], [0.6], [0.6], [0.6], [0.6], [0.6], [0.6], [0.6], [0.6], [0.6], [0.6], [0.6], [0.6], [0.6], [0.6], [0.6], [0.6], [0.6], [0.6], [0.6], [0.6], [0.6], [0.6], [0.6], [0.6], [0.6], [0.6], [0.6], [0.6], [0.6], [0.6], [0.6], [0.6], [0.6], [0.6], [0.6], [0.6], [0.6], [0.6], [0.6], [0.6], [0.6], [0.6], [0.6], [0.6], [0.6], [0.6], [0.6], [0.6], [0.6], [0.6], [0.6], [0.6], [0.6], [0.6], [0.6], [0.6], [0.6], [0.6], [0.6], [0.6], [0.6], [0.6], [0.6], [0.6], [0.6], [0.6], [0.6], [0.6], [0.6], [0.6], [0.6], [0.6], [0.6], [0.6], [0.6], [0.6], [0.6], [0.6], [0.6], [0.6], [0.6], [0.6], [0.6], [0.6], [0.6], [0.6], [0.6], [0.6], [0.6], [0.6], [0.6], [0.6], [0.6], [0.6], [0.6], [0.6], [0.6], [0.6], [0.6], [0.6], [0.6], [0.6], [0.6], [0.6], [0.6], [0.6], [0.6], [0.6], [0.6], [0.6], [0.6], [0.6], [0.6], [0.6], [0.6], [0.6], [0.6], [0.6], [0.6], [0.6], [0.6], [0.6], [0.6], [0.6], [0.6], [0.6], [0.6], [0.6], [0.6], [0.6], [0.6], [0.6], [0.6], [0.6], [0.6], [0.6], [0.6], [0.6], [0.6], [0.6], [0.6], [0.6], [0.6], [0.6], [0.6], [0.6], [0.6], [0.6], [0.6], [0.6], [0.6], [0.6], [0.6], [0.6], [0.6], [0.6], [0.6], [0.6], [0.6], [0.6], [0.6], [0.6], [0.6], [0.6], [0.6], [0.6], [0.6], [0.6], [0.6], [0.6], [0.6], [0.6], [0.6], [0.6], [0.6], [0.6], [0.6], [0.6], [0.6], [0.6], [0.6], [0.6], [0.6], [0.6], [0.6], [0.6], [0.6], [0.6], [0.6], [0.6], [0.6], [0.6], [0.6], [0.6], [0.6], [0.6], [0.6], [0.6], [0.6], [0.6], [0.6], [0.6], [0.6], [0.6], [0.6], [0.6], [0.6], [0.6], [0.6], [0.6], [0.6], [0.6], [0.6], [0.6], [0.6], [0.6], [0.6]], \"size\": [5, 5, 5, 5, 5, 5, 5, 5, 5, 5, 5, 5, 5, 25, 15, 15, 5, 5, 5, 5, 85, 30, 25, 25, 15, 15, 10, 10, 10, 5, 5, 5, 5, 5, 5, 5, 5, 5, 5, 5, 5, 5, 50, 45, 30, 30, 30, 30, 25, 25, 20, 20, 20, 20, 15, 15, 15, 15, 15, 15, 15, 15, 10, 10, 10, 10, 10, 10, 10, 10, 5, 5, 5, 5, 5, 5, 5, 5, 5, 5, 5, 5, 5, 5, 60, 55, 45, 35, 30, 30, 30, 30, 30, 30, 25, 20, 20, 20, 15, 15, 15, 15, 15, 15, 15, 15, 15, 15, 10, 10, 10, 10, 10, 10, 10, 10, 10, 10, 10, 5, 5, 5, 5, 5, 5, 5, 5, 5, 5, 5, 5, 5, 5, 5, 25, 10, 10, 10, 10, 10, 5, 5, 5, 5, 5, 5, 5, 5, 5, 5, 5, 5, 5, 5, 5, 5, 5, 5, 5, 5]}, \"mode\": \"markers\", \"name\": \"Female\", \"x\": [\"Spain\", \"Spain\", \"Spain\", \"Colombia\", \"Dominican Rep.\", \"Spain\", \"Spain\", \"Spain\", \"Spain\", \"Spain\", \"Spain\", \"Spain\", \"Spain\", \"Austria\", \"Chile\", \"Spain\", \"Spain\", \"Spain\", \"Spain\", \"Spain\", \"Spain\", \"Spain\", \"Spain\", \"Spain\", \"Spain\", \"Spain\", \"Spain\", \"Spain\", \"Spain\", \"Spain\", \"Spain\", \"Spain\", \"Spain\", \"Spain\", \"Spain\", \"Spain\", \"Spain\", \"Spain\", \"France\", \"France\", \"France\", \"Spain\", \"Spain\", \"Spain\", \"Spain\", \"Spain\", \"France\", \"Spain\", \"Spain\", \"Spain\", \"Spain\", \"Spain\", \"Spain\", \"Spain\", \"Spain\", \"Spain\", \"Spain\", \"Spain\", \"Spain\", \"Spain\", \"Spain\", \"Spain\", \"Spain\", \"Spain\", \"Spain\", \"Spain\", \"Spain\", \"Spain\", \"Spain\", \"France\", \"Spain\", \"Spain\", \"Spain\", \"Spain\", \"Spain\", \"Spain\", \"Spain\", \"Spain\", \"Spain\", \"Spain\", \"Spain\", \"Spain\", \"Spain\", \"Spain\", \"Spain\", \"France\", \"Spain\", \"Spain\", \"France\", \"Spain\", \"France\", \"France\", \"France\", \"France\", \"France\", \"France\", \"Spain\", \"Spain\", \"Spain\", \"Spain\", \"Spain\", \"Spain\", \"Spain\", \"Spain\", \"Spain\", \"Spain\", \"Spain\", \"Spain\", \"Spain\", \"Russia\", \"Spain\", \"Spain\", \"Spain\", \"Brazil\", \"Spain\", \"Spain\", \"France\", \"Spain\", \"Spain\", \"Spain\", \"Spain\", \"Spain\", \"Spain\", \"Spain\", \"Spain\", \"Spain\", \"Spain\", \"Spain\", \"Spain\", \"Spain\", \"Spain\", \"Spain\", \"Spain\", \"Spain\", \"Spain\", \"Spain\", \"Spain\", \"Spain\", \"Spain\", \"USA\", \"Unknown\", \"USA\", \"USA\", \"USA\", \"USA\", \"India\", \"India\", \"USA\", \"USA\", \"India\", \"India\", \"USA\", \"USA\", \"USA\", \"USA\", \"USA\", \"USA\", \"Unknown\", \"USA\", \"USA\", \"USA\", \"England\", \"Unknown\", \"Unknown\", \"India\", \"USA\", \"USA\", \"India\", \"India\", \"India\", \"USA\", \"India\", \"USA\", \"USA\", \"USA\", \"India\", \"USA\", \"USA\", \"USA\", \"Unknown\", \"USA\", \"India\", \"USA\", \"India\", \"USA\", \"Germany\", \"USA\", \"Canada\", \"USA\", \"India\", \"USA\", \"Spain\", \"India\", \"USA\", \"India\", \"USA\", \"USA\", \"USA\", \"USA\", \"USA\", \"USA\", \"India\", \"Venezuela\", \"USA\", \"USA\", \"Unknown\", \"USA\", \"USA\", \"USA\", \"Unknown\", \"USA\", \"USA\", \"USA\", \"USA\", \"USA\", \"Unknown\", \"Pakistan\", \"USA\", \"USA\", \"India\", \"India\", \"USA\", \"USA\", \"USA\", \"USA\", \"USA\", \"Canada\", \"USA\", \"USA\", \"USA\", \"USA\", \"Unknown\", \"USA\", \"USA\", \"India\", \"USA\", \"USA\", \"Unknown\", \"The Bahamas\", \"USA\", \"Unknown\", \"USA\", \"Unknown\", \"USA\", \"India\", \"USA\", \"USA\", \"USA\", \"India\", \"USA\", \"India\", \"India\", \"England\", \"Unknown\", \"India\", \"USA\", \"Unknown\", \"Italy\", \"USA\", \"USA\", \"Unknown\", \"India\", \"India\", \"USA\", \"Spain\", \"USA\", \"USA\", \"USA\", \"USA\", \"India\", \"USA\", \"USA\", \"USA\", \"India\", \"England\", \"USA\", \"India\", \"Italy\", \"Spain\", \"India\", \"Unknown\", \"USA\", \"India\", \"India\", \"USA\", \"USA\", \"India\", \"India\", \"USA\", \"USA\", \"India\", \"Unknown\", \"USA\", \"USA\", \"Unknown\", \"USA\", \"USA\", \"Ukraine\", \"USA\", \"USA\", \"New Zealand\", \"India\", \"USA\", \"USA\", \"USA\", \"USA\", \"USA\", \"USA\", \"USA\", \"India\", \"USA\", \"USA\", \"USA\", \"England\", \"USA\", \"USA\", \"USA\", \"USA\", \"USA\", \"USA\", \"Unknown\", \"Unknown\", \"Unknown\", \"USA\", \"Ireland\", \"USA\", \"USA\", \"Unknown\", \"USA\", \"USA\", \"USA\", \"USA\", \"Venezuela\", \"USA\", \"India\", \"USA\", \"USA\", \"USA\", \"Unknown\", \"USA\", \"USA\", \"USA\", \"USA\", \"Italy\", \"USA\", \"Unknown\", \"USA\", \"Unknown\", \"USA\", \"Unknown\", \"USA\", \"USA\", \"Ireland\", \"USA\", \"Canada\", \"Unknown\", \"USA\", \"USA\", \"USA\", \"USA\", \"USA\", \"USA\", \"India\", \"Unknown\", \"USA\", \"USA\", \"USA\", \"USA\", \"USA\", \"USA\", \"USA\", \"USA\", \"USA\", \"USA\", \"Cuba\", \"USA\", \"Unknown\", \"India\", \"USA\", \"USA\", \"Unknown\", \"Unknown\", \"USA\", \"India\", \"Unknown\", \"USA\", \"USA\", \"India\", \"India\", \"USA\", \"India\", \"USA\", \"USA\", \"Unknown\", \"USA\", \"India\", \"India\", \"USA\", \"India\", \"India\", \"India\", \"India\", \"USA\"], \"y\": [31, 24, 30, 42, 32, 30, 31, 35, 23, 28, 41, 32, 22, 33, 46, 24, 43, 21, 50, 57, 46, 53, 44, 18, 27, 64, 18, 23, 15, 15, 15, 16, 16, 17, 31, 35, 32, 31, 21, 22, 20, 35, 48, 29, 42, 28, 21, 28, 27, 62, 19, 21, 22, 23, 18, 19, 18, 51, 15, 15, 14, 26, 34, 17, 17, 16, 15, 15, 16, 19, 16, 35, 38, 34, 30, 34, 41, 35, 35, 36, 46, 32, 55, 34, 37, 21, 52, 31, 25, 31, 20, 19, 19, 19, 18, 20, 39, 44, 28, 41, 57, 55, 28, 61, 62, 43, 39, 46, 55, 21, 45, 27, 46, 32, 21, 26, 19, 21, 15, 13, 15, 30, 62, 24, 14, 14, 14, 14, 13, 13, 14, 14, 14, 15, 14, 13, 53, 21, 21, 81, 42, 26, 27, 27, 26, 37, 32, 25, 29, 30, 29, 37, 28, 22, 27, 44, 35, 35, 27, 35, 61, 27, 31, 23, 33, 22, 37, 31, 30, 24, 49, 32, 35, 41, 26, 30, 35, 35, 22, 39, 33, 37, 21, 30, 27, 56, 35, 24, 36, 24, 34, 30, 33, 55, 26, 25, 37, 46, 59, 25, 23, 29, 32, 55, 27, 26, 23, 26, 51, 62, 51, 30, 60, 54, 48, 32, 26, 29, 39, 40, 31, 21, 56, 24, 34, 43, 56, 34, 46, 35, 49, 28, 33, 26, 29, 47, 27, 28, 43, 54, 31, 24, 40, 30, 38, 38, 23, 24, 24, 30, 24, 29, 26, 52, 29, 51, 56, 22, 30, 22, 37, 24, 38, 25, 28, 46, 46, 48, 33, 24, 33, 32, 36, 33, 45, 42, 34, 38, 20, 37, 20, 44, 27, 30, 57, 40, 34, 24, 66, 46, 35, 20, 38, 30, 28, 27, 56, 24, 45, 59, 27, 33, 41, 31, 64, 34, 81, 43, 38, 24, 46, 25, 29, 67, 69, 73, 30, 38, 42, 31, 50, 55, 32, 25, 53, 45, 35, 46, 33, 25, 45, 62, 24, 27, 30, 50, 28, 43, 33, 50, 40, 47, 55, 26, 48, 67, 27, 28, 38, 43, 47, 24, 38, 27, 21, 43, 36, 60, 25, 25, 45, 29, 24, 27, 44, 54, 37, 58, 65, 34, 53, 35, 78, 33, 23, 18, 36, 24, 37, 26, 53, 25, 38, 24, 28, 37, 35, 33, 31, 29, 25, 35, 50, 26, 26, 24, 24, 34, 24, 24, 24, 24, 27], \"type\": \"scatter\", \"uid\": \"76315e08-1969-45dc-a7aa-d2f467990b81\"}, {\"marker\": {\"opacity\": [[0.6], [0.6], [0.6], [0.6], [0.6], [0.6], [0.6], [0.6], [0.6], [0.6], [0.6], [0.6], [0.6], [0.6], [0.6], [0.6], [0.6], [0.6], [0.6], [0.6], [0.6], [0.6], [0.6], [0.6], [0.6], [0.6], [0.6], [0.6], [0.6], [0.6], [0.6], [0.6], [0.6], [0.6], [0.6], [0.6], [0.6], [0.6], [0.6], [0.6], [0.6], [0.6], [0.6], [0.6], [0.6], [0.6], [0.6], [0.6], [0.6], [0.6], [0.6], [0.6], [0.6], [0.6], [0.6], [0.6], [0.6], [0.6], [0.6], [0.6], [0.6], [0.6], [0.6], [0.6], [0.6], [0.6], [0.6], [0.6], [0.6], [0.6], [0.6], [0.6], [0.6], [0.6], [0.6], [0.6], [0.6], [0.6], [0.6], [0.6], [0.6], [0.6], [0.6], [0.6], [0.6], [0.6], [0.6], [0.6], [0.6], [0.6], [0.6], [0.6], [0.6], [0.6], [0.6], [0.6], [0.6], [0.6], [0.6], [0.6], [0.6], [0.6], [0.6], [0.6], [0.6], [0.6], [0.6], [0.6], [0.6], [0.6], [0.6], [0.6], [0.6], [0.6], [0.6], [0.6], [0.6], [0.6], [0.6], [0.6], [0.6], [0.6], [0.6], [0.6], [0.6], [0.6], [0.6], [0.6], [0.6], [0.6], [0.6], [0.6], [0.6], [0.6], [0.6], [0.6], [0.6], [0.6], [0.6], [0.6], [0.6], [0.6], [0.6], [0.6], [0.6], [0.6], [0.6], [0.6], [0.6], [0.6], [0.6], [0.6], [0.6], [0.6], [0.6], [0.6], [0.6], [0.6], [0.6], [0.6], [0.6], [0.6], [0.6], [0.6], [0.6], [0.6], [0.6], [0.6], [0.6], [0.6], [0.6], [0.6], [0.6], [0.6], [0.6], [0.6], [0.6], [0.6], [0.6], [0.6], [0.6], [0.6], [0.6], [0.6], [0.6], [0.6], [0.6], [0.6], [0.6], [0.6], [0.6], [0.6], [0.6], [0.6], [0.6], [0.6], [0.6], [0.6], [0.6], [0.6], [0.6], [0.6], [0.6], [0.6], [0.6], [0.6], [0.6], [0.6], [0.6], [0.6], [0.6], [0.6], [0.6], [0.6], [0.6], [0.6], [0.6], [0.6], [0.6], [0.6], [0.6], [0.6], [0.6], [0.6], [0.6], [0.6], [0.6], [0.6], [0.6], [0.6], [0.6], [0.6], [0.6], [0.6], [0.6], [0.6], [0.6], [0.6], [0.6], [0.6], [0.6], [0.6], [0.6], [0.6], [0.6], [0.6], [0.6], [0.6], [0.6], [0.6], [0.6], [0.6], [0.6], [0.6], [0.6], [0.6], [0.6], [0.6], [0.6], [0.6], [0.6], [0.6], [0.6], [0.6], [0.6], [0.6], [0.6], [0.6], [0.6], [0.6], [0.6], [0.6], [0.6], [0.6], [0.6], [0.6], [0.6], [0.6], [0.6], [0.6], [0.6], [0.6], [0.6], [0.6], [0.6], [0.6], [0.6], [0.6], [0.6], [0.6], [0.6], [0.6], [0.6], [0.6], [0.6], [0.6], [0.6], [0.6], [0.6], [0.6], [0.6], [0.6], [0.6], [0.6], [0.6], [0.6], [0.6], [0.6], [0.6], [0.6], [0.6], [0.6], [0.6], [0.6], [0.6], [0.6], [0.6], [0.6], [0.6], [0.6], [0.6], [0.6], [0.6], [0.6], [0.6], [0.6], [0.6], [0.6], [0.6], [0.6], [0.6], [0.6], [0.6], [0.6], [0.6], [0.6], [0.6], [0.6], [0.6], [0.6], [0.6], [0.6], [0.6], [0.6], [0.6], [0.6], [0.6], [0.6], [0.6], [0.6], [0.6], [0.6], [0.6], [0.6], [0.6], [0.6], [0.6], [0.6], [0.6], [0.6], [0.6], [0.6], [0.6], [0.6], [0.6], [0.6], [0.6], [0.6], [0.6], [0.6], [0.6], [0.6], [0.6], [0.6], [0.6], [0.6], [0.6], [0.6], [0.6], [0.6], [0.6], [0.6], [0.6], [0.6], [0.6], [0.6], [0.6], [0.6], [0.6], [0.6], [0.6], [0.6], [0.6], [0.6], [0.6], [0.6], [0.6], [0.6], [0.6], [0.6], [0.6], [0.6], [0.6], [0.6], [0.6], [0.6], [0.6], [0.6], [0.6], [0.6], [0.6], [0.6], [0.6], [0.6], [0.6], [0.6], [0.6], [0.6], [0.6], [0.6], [0.6], [0.6], [0.6], [0.6], [0.6], [0.6], [0.6], [0.6], [0.6], [0.6], [0.6], [0.6], [0.6], [0.6], [0.6], [0.6], [0.6], [0.6], [0.6], [0.6], [0.6], [0.6], [0.6], [0.6], [0.6], [0.6], [0.6], [0.6], [0.6], [0.6], [0.6], [0.6], [0.6], [0.6], [0.6], [0.6], [0.6], [0.6], [0.6], [0.6], [0.6], [0.6], [0.6], [0.6], [0.6], [0.6], [0.6], [0.6], [0.6], [0.6], [0.6], [0.6], [0.6], [0.6], [0.6], [0.6], [0.6], [0.6], [0.6], [0.6], [0.6], [0.6], [0.6], [0.6], [0.6], [0.6], [0.6], [0.6], [0.6], [0.6], [0.6], [0.6], [0.6], [0.6], [0.6], [0.6], [0.6], [0.6], [0.6], [0.6], [0.6], [0.6], [0.6], [0.6], [0.6], [0.6], [0.6], [0.6], [0.6], [0.6], [0.6], [0.6], [0.6], [0.6], [0.6], [0.6], [0.6], [0.6], [0.6], [0.6], [0.6], [0.6], [0.6], [0.6], [0.6], [0.6], [0.6], [0.6], [0.6], [0.6], [0.6], [0.6], [0.6], [0.6], [0.6], [0.6], [0.6], [0.6], [0.6], [0.6], [0.6], [0.6], [0.6], [0.6], [0.6], [0.6], [0.6], [0.6], [0.6], [0.6], [0.6], [0.6], [0.6], [0.6], [0.6], [0.6], [0.6], [0.6], [0.6], [0.6], [0.6], [0.6], [0.6], [0.6], [0.6], [0.6], [0.6], [0.6], [0.6], [0.6], [0.6], [0.6], [0.6], [0.6], [0.6], [0.6], [0.6], [0.6], [0.6], [0.6], [0.6], [0.6], [0.6], [0.6], [0.6], [0.6], [0.6], [0.6], [0.6], [0.6], [0.6], [0.6], [0.6], [0.6], [0.6], [0.6], [0.6], [0.6], [0.6], [0.6], [0.6], [0.6], [0.6], [0.6], [0.6], [0.6], [0.6], [0.6], [0.6], [0.6], [0.6], [0.6], [0.6], [0.6], [0.6], [0.6], [0.6], [0.6], [0.6], [0.6], [0.6], [0.6], [0.6], [0.6], [0.6], [0.6], [0.6], [0.6], [0.6], [0.6], [0.6], [0.6], [0.6], [0.6], [0.6], [0.6], [0.6], [0.6], [0.6], [0.6], [0.6], [0.6], [0.6], [0.6], [0.6], [0.6], [0.6], [0.6], [0.6], [0.6], [0.6], [0.6], [0.6], [0.6], [0.6], [0.6], [0.6], [0.6], [0.6], [0.6], [0.6], [0.6], [0.6], [0.6], [0.6], [0.6], [0.6], [0.6], [0.6], [0.6], [0.6], [0.6], [0.6], [0.6], [0.6], [0.6], [0.6], [0.6], [0.6], [0.6], [0.6], [0.6], [0.6], [0.6], [0.6], [0.6], [0.6], [0.6], [0.6], [0.6], [0.6], [0.6], [0.6], [0.6], [0.6], [0.6], [0.6], [0.6], [0.6], [0.6], [0.6], [0.6], [0.6], [0.6], [0.6], [0.6], [0.6], [0.6], [0.6], [0.6], [0.6], [0.6], [0.6], [0.6], [0.6], [0.6], [0.6], [0.6], [0.6], [0.6], [0.6], [0.6], [0.6], [0.6], [0.6], [0.6], [0.6], [0.6], [0.6], [0.6], [0.6], [0.6], [0.6], [0.6], [0.6], [0.6], [0.6], [0.6], [0.6], [0.6], [0.6], [0.6], [0.6], [0.6], [0.6], [0.6], [0.6], [0.6], [0.6], [0.6], [0.6], [0.6], [0.6], [0.6], [0.6], [0.6], [0.6], [0.6], [0.6], [0.6], [0.6], [0.6], [0.6], [0.6], [0.6], [0.6], [0.6]], \"size\": [5, 5, 5, 5, 5, 5]}, \"mode\": \"markers\", \"name\": \"Other\", \"x\": [\"Spain\", \"Spain\", \"Spain\", \"Canada\", \"Spain\", \"Scotland\"], \"y\": [20, 36, 14, 22, 21, 28], \"type\": \"scatter\", \"uid\": \"dd3e5148-5bd6-4ac2-a22d-85e7950d6b03\"}], {\"xaxis\": {\"title\": {\"text\": \"Nationality\"}}, \"yaxis\": {\"title\": {\"text\": \"Age\"}}}, {\"showLink\": false, \"linkText\": \"Export to plot.ly\", \"plotlyServerURL\": \"https://plot.ly\"}); \n",
       "}\n",
       "});</script><script type=\"text/javascript\">window.addEventListener(\"resize\", function(){if (document.getElementById(\"77df16a8-dbdd-4e81-86cf-e1ac745c71e7\")) {window._Plotly.Plots.resize(document.getElementById(\"77df16a8-dbdd-4e81-86cf-e1ac745c71e7\"));};})</script>"
      ]
     },
     "metadata": {},
     "output_type": "display_data"
    }
   ],
   "source": [
    "fig8 = {\n",
    "    'data': [\n",
    "        {\n",
    "            'x': data_complete_nationality[data_complete_nationality['Gender'] == gender]['Nationality'],\n",
    "            'y': data_complete_nationality[data_complete_nationality['Gender'] == gender]['Age'],\n",
    "            'name': gender, 'mode': 'markers',\n",
    "            'marker': dict(\n",
    "                #opacity=np.full((len(data_complete_nationality.index), 1), 0.8),\n",
    "                #size=data_complete_en[(data_complete_en['Gender'] == gender)]['Age'].value_counts()\n",
    "\n",
    "                opacity=np.full(\n",
    "                    (len(data_complete_nationality.index), 1), 0.6),\n",
    "                size=(data_complete_nationality[(data_complete_nationality['Gender'] == gender)].groupby(\n",
    "                    ['Nationality'])['Age'].value_counts() * 5)\n",
    "\n",
    "            ),\n",
    "            'name': names_gender[gender]\n",
    "        } for gender in data_complete_nationality['Gender'].unique()\n",
    "    ],\n",
    "    'layout': {\n",
    "        'xaxis': {\n",
    "            'title': 'Nationality',\n",
    "            # 'tickvals': tickvalsX,\n",
    "            # 'ticktext': ticktextX\n",
    "        },\n",
    "        'yaxis': {'title': \"Age\"}\n",
    "\n",
    "    }\n",
    "}\n",
    "\n",
    "iplot(fig8)\n",
    "plt.show()"
   ]
  },
  {
   "cell_type": "markdown",
   "metadata": {},
   "source": [
    "## Distribution of educational level based on nationality and gender"
   ]
  },
  {
   "cell_type": "code",
   "execution_count": 14,
   "metadata": {},
   "outputs": [
    {
     "data": {
      "application/vnd.plotly.v1+json": {
       "config": {
        "linkText": "Export to plot.ly",
        "plotlyServerURL": "https://plot.ly",
        "showLink": false
       },
       "data": [
        {
         "marker": {
          "opacity": [
           [
            0.6
           ],
           [
            0.6
           ],
           [
            0.6
           ],
           [
            0.6
           ],
           [
            0.6
           ],
           [
            0.6
           ],
           [
            0.6
           ],
           [
            0.6
           ],
           [
            0.6
           ],
           [
            0.6
           ],
           [
            0.6
           ],
           [
            0.6
           ],
           [
            0.6
           ],
           [
            0.6
           ],
           [
            0.6
           ],
           [
            0.6
           ],
           [
            0.6
           ],
           [
            0.6
           ],
           [
            0.6
           ],
           [
            0.6
           ],
           [
            0.6
           ],
           [
            0.6
           ],
           [
            0.6
           ],
           [
            0.6
           ],
           [
            0.6
           ],
           [
            0.6
           ],
           [
            0.6
           ],
           [
            0.6
           ],
           [
            0.6
           ],
           [
            0.6
           ],
           [
            0.6
           ],
           [
            0.6
           ],
           [
            0.6
           ],
           [
            0.6
           ],
           [
            0.6
           ],
           [
            0.6
           ],
           [
            0.6
           ],
           [
            0.6
           ],
           [
            0.6
           ],
           [
            0.6
           ],
           [
            0.6
           ],
           [
            0.6
           ],
           [
            0.6
           ],
           [
            0.6
           ],
           [
            0.6
           ],
           [
            0.6
           ],
           [
            0.6
           ],
           [
            0.6
           ],
           [
            0.6
           ],
           [
            0.6
           ],
           [
            0.6
           ],
           [
            0.6
           ],
           [
            0.6
           ],
           [
            0.6
           ],
           [
            0.6
           ],
           [
            0.6
           ],
           [
            0.6
           ],
           [
            0.6
           ],
           [
            0.6
           ],
           [
            0.6
           ],
           [
            0.6
           ],
           [
            0.6
           ],
           [
            0.6
           ],
           [
            0.6
           ],
           [
            0.6
           ],
           [
            0.6
           ],
           [
            0.6
           ],
           [
            0.6
           ],
           [
            0.6
           ],
           [
            0.6
           ],
           [
            0.6
           ],
           [
            0.6
           ],
           [
            0.6
           ],
           [
            0.6
           ],
           [
            0.6
           ],
           [
            0.6
           ],
           [
            0.6
           ],
           [
            0.6
           ],
           [
            0.6
           ],
           [
            0.6
           ],
           [
            0.6
           ],
           [
            0.6
           ],
           [
            0.6
           ],
           [
            0.6
           ],
           [
            0.6
           ],
           [
            0.6
           ],
           [
            0.6
           ],
           [
            0.6
           ],
           [
            0.6
           ],
           [
            0.6
           ],
           [
            0.6
           ],
           [
            0.6
           ],
           [
            0.6
           ],
           [
            0.6
           ],
           [
            0.6
           ],
           [
            0.6
           ],
           [
            0.6
           ],
           [
            0.6
           ],
           [
            0.6
           ],
           [
            0.6
           ],
           [
            0.6
           ],
           [
            0.6
           ],
           [
            0.6
           ],
           [
            0.6
           ],
           [
            0.6
           ],
           [
            0.6
           ],
           [
            0.6
           ],
           [
            0.6
           ],
           [
            0.6
           ],
           [
            0.6
           ],
           [
            0.6
           ],
           [
            0.6
           ],
           [
            0.6
           ],
           [
            0.6
           ],
           [
            0.6
           ],
           [
            0.6
           ],
           [
            0.6
           ],
           [
            0.6
           ],
           [
            0.6
           ],
           [
            0.6
           ],
           [
            0.6
           ],
           [
            0.6
           ],
           [
            0.6
           ],
           [
            0.6
           ],
           [
            0.6
           ],
           [
            0.6
           ],
           [
            0.6
           ],
           [
            0.6
           ],
           [
            0.6
           ],
           [
            0.6
           ],
           [
            0.6
           ],
           [
            0.6
           ],
           [
            0.6
           ],
           [
            0.6
           ],
           [
            0.6
           ],
           [
            0.6
           ],
           [
            0.6
           ],
           [
            0.6
           ],
           [
            0.6
           ],
           [
            0.6
           ],
           [
            0.6
           ],
           [
            0.6
           ],
           [
            0.6
           ],
           [
            0.6
           ],
           [
            0.6
           ],
           [
            0.6
           ],
           [
            0.6
           ],
           [
            0.6
           ],
           [
            0.6
           ],
           [
            0.6
           ],
           [
            0.6
           ],
           [
            0.6
           ],
           [
            0.6
           ],
           [
            0.6
           ],
           [
            0.6
           ],
           [
            0.6
           ],
           [
            0.6
           ],
           [
            0.6
           ],
           [
            0.6
           ],
           [
            0.6
           ],
           [
            0.6
           ],
           [
            0.6
           ],
           [
            0.6
           ],
           [
            0.6
           ],
           [
            0.6
           ],
           [
            0.6
           ],
           [
            0.6
           ],
           [
            0.6
           ],
           [
            0.6
           ],
           [
            0.6
           ],
           [
            0.6
           ],
           [
            0.6
           ],
           [
            0.6
           ],
           [
            0.6
           ],
           [
            0.6
           ],
           [
            0.6
           ],
           [
            0.6
           ],
           [
            0.6
           ],
           [
            0.6
           ],
           [
            0.6
           ],
           [
            0.6
           ],
           [
            0.6
           ],
           [
            0.6
           ],
           [
            0.6
           ],
           [
            0.6
           ],
           [
            0.6
           ],
           [
            0.6
           ],
           [
            0.6
           ],
           [
            0.6
           ],
           [
            0.6
           ],
           [
            0.6
           ],
           [
            0.6
           ],
           [
            0.6
           ],
           [
            0.6
           ],
           [
            0.6
           ],
           [
            0.6
           ],
           [
            0.6
           ],
           [
            0.6
           ],
           [
            0.6
           ],
           [
            0.6
           ],
           [
            0.6
           ],
           [
            0.6
           ],
           [
            0.6
           ],
           [
            0.6
           ],
           [
            0.6
           ],
           [
            0.6
           ],
           [
            0.6
           ],
           [
            0.6
           ],
           [
            0.6
           ],
           [
            0.6
           ],
           [
            0.6
           ],
           [
            0.6
           ],
           [
            0.6
           ],
           [
            0.6
           ],
           [
            0.6
           ],
           [
            0.6
           ],
           [
            0.6
           ],
           [
            0.6
           ],
           [
            0.6
           ],
           [
            0.6
           ],
           [
            0.6
           ],
           [
            0.6
           ],
           [
            0.6
           ],
           [
            0.6
           ],
           [
            0.6
           ],
           [
            0.6
           ],
           [
            0.6
           ],
           [
            0.6
           ],
           [
            0.6
           ],
           [
            0.6
           ],
           [
            0.6
           ],
           [
            0.6
           ],
           [
            0.6
           ],
           [
            0.6
           ],
           [
            0.6
           ],
           [
            0.6
           ],
           [
            0.6
           ],
           [
            0.6
           ],
           [
            0.6
           ],
           [
            0.6
           ],
           [
            0.6
           ],
           [
            0.6
           ],
           [
            0.6
           ],
           [
            0.6
           ],
           [
            0.6
           ],
           [
            0.6
           ],
           [
            0.6
           ],
           [
            0.6
           ],
           [
            0.6
           ],
           [
            0.6
           ],
           [
            0.6
           ],
           [
            0.6
           ],
           [
            0.6
           ],
           [
            0.6
           ],
           [
            0.6
           ],
           [
            0.6
           ],
           [
            0.6
           ],
           [
            0.6
           ],
           [
            0.6
           ],
           [
            0.6
           ],
           [
            0.6
           ],
           [
            0.6
           ],
           [
            0.6
           ],
           [
            0.6
           ],
           [
            0.6
           ],
           [
            0.6
           ],
           [
            0.6
           ],
           [
            0.6
           ],
           [
            0.6
           ],
           [
            0.6
           ],
           [
            0.6
           ],
           [
            0.6
           ],
           [
            0.6
           ],
           [
            0.6
           ],
           [
            0.6
           ],
           [
            0.6
           ],
           [
            0.6
           ],
           [
            0.6
           ],
           [
            0.6
           ],
           [
            0.6
           ],
           [
            0.6
           ],
           [
            0.6
           ],
           [
            0.6
           ],
           [
            0.6
           ],
           [
            0.6
           ],
           [
            0.6
           ],
           [
            0.6
           ],
           [
            0.6
           ],
           [
            0.6
           ],
           [
            0.6
           ],
           [
            0.6
           ],
           [
            0.6
           ],
           [
            0.6
           ],
           [
            0.6
           ],
           [
            0.6
           ],
           [
            0.6
           ],
           [
            0.6
           ],
           [
            0.6
           ],
           [
            0.6
           ],
           [
            0.6
           ],
           [
            0.6
           ],
           [
            0.6
           ],
           [
            0.6
           ],
           [
            0.6
           ],
           [
            0.6
           ],
           [
            0.6
           ],
           [
            0.6
           ],
           [
            0.6
           ],
           [
            0.6
           ],
           [
            0.6
           ],
           [
            0.6
           ],
           [
            0.6
           ],
           [
            0.6
           ],
           [
            0.6
           ],
           [
            0.6
           ],
           [
            0.6
           ],
           [
            0.6
           ],
           [
            0.6
           ],
           [
            0.6
           ],
           [
            0.6
           ],
           [
            0.6
           ],
           [
            0.6
           ],
           [
            0.6
           ],
           [
            0.6
           ],
           [
            0.6
           ],
           [
            0.6
           ],
           [
            0.6
           ],
           [
            0.6
           ],
           [
            0.6
           ],
           [
            0.6
           ],
           [
            0.6
           ],
           [
            0.6
           ],
           [
            0.6
           ],
           [
            0.6
           ],
           [
            0.6
           ],
           [
            0.6
           ],
           [
            0.6
           ],
           [
            0.6
           ],
           [
            0.6
           ],
           [
            0.6
           ],
           [
            0.6
           ],
           [
            0.6
           ],
           [
            0.6
           ],
           [
            0.6
           ],
           [
            0.6
           ],
           [
            0.6
           ],
           [
            0.6
           ],
           [
            0.6
           ],
           [
            0.6
           ],
           [
            0.6
           ],
           [
            0.6
           ],
           [
            0.6
           ],
           [
            0.6
           ],
           [
            0.6
           ],
           [
            0.6
           ],
           [
            0.6
           ],
           [
            0.6
           ],
           [
            0.6
           ],
           [
            0.6
           ],
           [
            0.6
           ],
           [
            0.6
           ],
           [
            0.6
           ],
           [
            0.6
           ],
           [
            0.6
           ],
           [
            0.6
           ],
           [
            0.6
           ],
           [
            0.6
           ],
           [
            0.6
           ],
           [
            0.6
           ],
           [
            0.6
           ],
           [
            0.6
           ],
           [
            0.6
           ],
           [
            0.6
           ],
           [
            0.6
           ],
           [
            0.6
           ],
           [
            0.6
           ],
           [
            0.6
           ],
           [
            0.6
           ],
           [
            0.6
           ],
           [
            0.6
           ],
           [
            0.6
           ],
           [
            0.6
           ],
           [
            0.6
           ],
           [
            0.6
           ],
           [
            0.6
           ],
           [
            0.6
           ],
           [
            0.6
           ],
           [
            0.6
           ],
           [
            0.6
           ],
           [
            0.6
           ],
           [
            0.6
           ],
           [
            0.6
           ],
           [
            0.6
           ],
           [
            0.6
           ],
           [
            0.6
           ],
           [
            0.6
           ],
           [
            0.6
           ],
           [
            0.6
           ],
           [
            0.6
           ],
           [
            0.6
           ],
           [
            0.6
           ],
           [
            0.6
           ],
           [
            0.6
           ],
           [
            0.6
           ],
           [
            0.6
           ],
           [
            0.6
           ],
           [
            0.6
           ],
           [
            0.6
           ],
           [
            0.6
           ],
           [
            0.6
           ],
           [
            0.6
           ],
           [
            0.6
           ],
           [
            0.6
           ],
           [
            0.6
           ],
           [
            0.6
           ],
           [
            0.6
           ],
           [
            0.6
           ],
           [
            0.6
           ],
           [
            0.6
           ],
           [
            0.6
           ],
           [
            0.6
           ],
           [
            0.6
           ],
           [
            0.6
           ],
           [
            0.6
           ],
           [
            0.6
           ],
           [
            0.6
           ],
           [
            0.6
           ],
           [
            0.6
           ],
           [
            0.6
           ],
           [
            0.6
           ],
           [
            0.6
           ],
           [
            0.6
           ],
           [
            0.6
           ],
           [
            0.6
           ],
           [
            0.6
           ],
           [
            0.6
           ],
           [
            0.6
           ],
           [
            0.6
           ],
           [
            0.6
           ],
           [
            0.6
           ],
           [
            0.6
           ],
           [
            0.6
           ],
           [
            0.6
           ],
           [
            0.6
           ],
           [
            0.6
           ],
           [
            0.6
           ],
           [
            0.6
           ],
           [
            0.6
           ],
           [
            0.6
           ],
           [
            0.6
           ],
           [
            0.6
           ],
           [
            0.6
           ],
           [
            0.6
           ],
           [
            0.6
           ],
           [
            0.6
           ],
           [
            0.6
           ],
           [
            0.6
           ],
           [
            0.6
           ],
           [
            0.6
           ],
           [
            0.6
           ],
           [
            0.6
           ],
           [
            0.6
           ],
           [
            0.6
           ],
           [
            0.6
           ],
           [
            0.6
           ],
           [
            0.6
           ],
           [
            0.6
           ],
           [
            0.6
           ],
           [
            0.6
           ],
           [
            0.6
           ],
           [
            0.6
           ],
           [
            0.6
           ],
           [
            0.6
           ],
           [
            0.6
           ],
           [
            0.6
           ],
           [
            0.6
           ],
           [
            0.6
           ],
           [
            0.6
           ],
           [
            0.6
           ],
           [
            0.6
           ],
           [
            0.6
           ],
           [
            0.6
           ],
           [
            0.6
           ],
           [
            0.6
           ],
           [
            0.6
           ],
           [
            0.6
           ],
           [
            0.6
           ],
           [
            0.6
           ],
           [
            0.6
           ],
           [
            0.6
           ],
           [
            0.6
           ],
           [
            0.6
           ],
           [
            0.6
           ],
           [
            0.6
           ],
           [
            0.6
           ],
           [
            0.6
           ],
           [
            0.6
           ],
           [
            0.6
           ],
           [
            0.6
           ],
           [
            0.6
           ],
           [
            0.6
           ],
           [
            0.6
           ],
           [
            0.6
           ],
           [
            0.6
           ],
           [
            0.6
           ],
           [
            0.6
           ],
           [
            0.6
           ],
           [
            0.6
           ],
           [
            0.6
           ],
           [
            0.6
           ],
           [
            0.6
           ],
           [
            0.6
           ],
           [
            0.6
           ],
           [
            0.6
           ],
           [
            0.6
           ],
           [
            0.6
           ],
           [
            0.6
           ],
           [
            0.6
           ],
           [
            0.6
           ],
           [
            0.6
           ],
           [
            0.6
           ],
           [
            0.6
           ],
           [
            0.6
           ],
           [
            0.6
           ],
           [
            0.6
           ],
           [
            0.6
           ],
           [
            0.6
           ],
           [
            0.6
           ],
           [
            0.6
           ],
           [
            0.6
           ],
           [
            0.6
           ],
           [
            0.6
           ],
           [
            0.6
           ],
           [
            0.6
           ],
           [
            0.6
           ],
           [
            0.6
           ],
           [
            0.6
           ],
           [
            0.6
           ],
           [
            0.6
           ],
           [
            0.6
           ],
           [
            0.6
           ],
           [
            0.6
           ],
           [
            0.6
           ],
           [
            0.6
           ],
           [
            0.6
           ],
           [
            0.6
           ],
           [
            0.6
           ],
           [
            0.6
           ],
           [
            0.6
           ],
           [
            0.6
           ],
           [
            0.6
           ],
           [
            0.6
           ],
           [
            0.6
           ],
           [
            0.6
           ],
           [
            0.6
           ],
           [
            0.6
           ],
           [
            0.6
           ],
           [
            0.6
           ],
           [
            0.6
           ],
           [
            0.6
           ],
           [
            0.6
           ],
           [
            0.6
           ],
           [
            0.6
           ],
           [
            0.6
           ],
           [
            0.6
           ],
           [
            0.6
           ],
           [
            0.6
           ],
           [
            0.6
           ],
           [
            0.6
           ],
           [
            0.6
           ],
           [
            0.6
           ],
           [
            0.6
           ],
           [
            0.6
           ],
           [
            0.6
           ],
           [
            0.6
           ],
           [
            0.6
           ],
           [
            0.6
           ],
           [
            0.6
           ],
           [
            0.6
           ],
           [
            0.6
           ],
           [
            0.6
           ],
           [
            0.6
           ],
           [
            0.6
           ],
           [
            0.6
           ],
           [
            0.6
           ],
           [
            0.6
           ],
           [
            0.6
           ],
           [
            0.6
           ],
           [
            0.6
           ],
           [
            0.6
           ],
           [
            0.6
           ],
           [
            0.6
           ],
           [
            0.6
           ],
           [
            0.6
           ],
           [
            0.6
           ],
           [
            0.6
           ],
           [
            0.6
           ],
           [
            0.6
           ],
           [
            0.6
           ],
           [
            0.6
           ],
           [
            0.6
           ],
           [
            0.6
           ],
           [
            0.6
           ],
           [
            0.6
           ],
           [
            0.6
           ],
           [
            0.6
           ],
           [
            0.6
           ],
           [
            0.6
           ],
           [
            0.6
           ],
           [
            0.6
           ],
           [
            0.6
           ],
           [
            0.6
           ],
           [
            0.6
           ],
           [
            0.6
           ],
           [
            0.6
           ],
           [
            0.6
           ],
           [
            0.6
           ],
           [
            0.6
           ],
           [
            0.6
           ],
           [
            0.6
           ],
           [
            0.6
           ],
           [
            0.6
           ],
           [
            0.6
           ],
           [
            0.6
           ],
           [
            0.6
           ],
           [
            0.6
           ],
           [
            0.6
           ],
           [
            0.6
           ],
           [
            0.6
           ],
           [
            0.6
           ],
           [
            0.6
           ],
           [
            0.6
           ],
           [
            0.6
           ],
           [
            0.6
           ],
           [
            0.6
           ],
           [
            0.6
           ],
           [
            0.6
           ],
           [
            0.6
           ],
           [
            0.6
           ],
           [
            0.6
           ],
           [
            0.6
           ],
           [
            0.6
           ],
           [
            0.6
           ],
           [
            0.6
           ],
           [
            0.6
           ],
           [
            0.6
           ],
           [
            0.6
           ],
           [
            0.6
           ],
           [
            0.6
           ],
           [
            0.6
           ],
           [
            0.6
           ],
           [
            0.6
           ],
           [
            0.6
           ],
           [
            0.6
           ],
           [
            0.6
           ],
           [
            0.6
           ],
           [
            0.6
           ],
           [
            0.6
           ],
           [
            0.6
           ],
           [
            0.6
           ],
           [
            0.6
           ],
           [
            0.6
           ],
           [
            0.6
           ],
           [
            0.6
           ],
           [
            0.6
           ],
           [
            0.6
           ],
           [
            0.6
           ],
           [
            0.6
           ],
           [
            0.6
           ],
           [
            0.6
           ],
           [
            0.6
           ],
           [
            0.6
           ],
           [
            0.6
           ],
           [
            0.6
           ],
           [
            0.6
           ],
           [
            0.6
           ],
           [
            0.6
           ],
           [
            0.6
           ],
           [
            0.6
           ],
           [
            0.6
           ],
           [
            0.6
           ],
           [
            0.6
           ],
           [
            0.6
           ],
           [
            0.6
           ],
           [
            0.6
           ],
           [
            0.6
           ],
           [
            0.6
           ],
           [
            0.6
           ],
           [
            0.6
           ],
           [
            0.6
           ],
           [
            0.6
           ],
           [
            0.6
           ],
           [
            0.6
           ],
           [
            0.6
           ],
           [
            0.6
           ],
           [
            0.6
           ],
           [
            0.6
           ],
           [
            0.6
           ],
           [
            0.6
           ],
           [
            0.6
           ],
           [
            0.6
           ],
           [
            0.6
           ],
           [
            0.6
           ],
           [
            0.6
           ],
           [
            0.6
           ],
           [
            0.6
           ],
           [
            0.6
           ],
           [
            0.6
           ],
           [
            0.6
           ],
           [
            0.6
           ],
           [
            0.6
           ],
           [
            0.6
           ],
           [
            0.6
           ],
           [
            0.6
           ],
           [
            0.6
           ],
           [
            0.6
           ],
           [
            0.6
           ],
           [
            0.6
           ],
           [
            0.6
           ],
           [
            0.6
           ],
           [
            0.6
           ],
           [
            0.6
           ],
           [
            0.6
           ],
           [
            0.6
           ],
           [
            0.6
           ],
           [
            0.6
           ],
           [
            0.6
           ],
           [
            0.6
           ],
           [
            0.6
           ],
           [
            0.6
           ],
           [
            0.6
           ],
           [
            0.6
           ],
           [
            0.6
           ],
           [
            0.6
           ],
           [
            0.6
           ],
           [
            0.6
           ],
           [
            0.6
           ],
           [
            0.6
           ],
           [
            0.6
           ],
           [
            0.6
           ],
           [
            0.6
           ],
           [
            0.6
           ],
           [
            0.6
           ],
           [
            0.6
           ],
           [
            0.6
           ],
           [
            0.6
           ],
           [
            0.6
           ],
           [
            0.6
           ],
           [
            0.6
           ],
           [
            0.6
           ],
           [
            0.6
           ],
           [
            0.6
           ],
           [
            0.6
           ],
           [
            0.6
           ],
           [
            0.6
           ],
           [
            0.6
           ],
           [
            0.6
           ],
           [
            0.6
           ],
           [
            0.6
           ],
           [
            0.6
           ],
           [
            0.6
           ],
           [
            0.6
           ],
           [
            0.6
           ],
           [
            0.6
           ],
           [
            0.6
           ],
           [
            0.6
           ],
           [
            0.6
           ]
          ],
          "size": [
           1.3,
           1.3,
           1.3,
           1.3,
           1.3,
           5.2,
           1.3,
           1.3,
           1.3,
           5.2,
           2.6,
           3.9000000000000004,
           1.3,
           1.3,
           1.3,
           74.10000000000001,
           9.1,
           6.5,
           1.3,
           1.3,
           6.5,
           2.6,
           1.3,
           1.3,
           1.3,
           3.9000000000000004,
           1.3,
           1.3,
           1.3,
           44.2,
           36.4,
           33.800000000000004,
           3.9000000000000004,
           1.3,
           127.4,
           32.5,
           15.600000000000001,
           11.700000000000001,
           3.9000000000000004,
           1.3,
           2.6,
           2.6,
           1.3,
           1.3,
           1.3
          ]
         },
         "mode": "markers",
         "name": "Male",
         "type": "scatter",
         "uid": "0db9524e-55bb-4865-95a4-afeb2b4489c9",
         "x": [
          "Spain",
          "Spain",
          "Spain",
          "Dominican Rep.",
          "Spain",
          "Spain",
          "Spain",
          "Spain",
          "Spain",
          "Spain",
          "Spain",
          "Spain",
          "Spain",
          "Spain",
          "Spain",
          "Spain",
          "Spain",
          "Spain",
          "Spain",
          "Spain",
          "Spain",
          "Spain",
          "Spain",
          "Spain",
          "Spain",
          "Spain",
          "France",
          "Spain",
          "Spain",
          "Spain",
          "Spain",
          "Spain",
          "Spain",
          "Spain",
          "Spain",
          "Spain",
          "Spain",
          "Spain",
          "Spain",
          "Spain",
          "Spain",
          "Spain",
          "Spain",
          "Spain",
          "Spain",
          "Spain",
          "Spain",
          "France",
          "Spain",
          "Spain",
          "Spain",
          "Spain",
          "Spain",
          "Spain",
          "Spain",
          "Spain",
          "Spain",
          "Spain",
          "Spain",
          "Spain",
          "Spain",
          "Niger",
          "Spain",
          "Spain",
          "Australia",
          "France",
          "Spain",
          "Spain",
          "Spain",
          "Spain",
          "Spain",
          "Spain",
          "Spain",
          "Spain",
          "Spain",
          "Spain",
          "Spain",
          "Niger",
          "Niger",
          "Spain",
          "Spain",
          "Spain",
          "Spain",
          "Spain",
          "Spain",
          "Spain",
          "Spain",
          "Spain",
          "Spain",
          "Spain",
          "Spain",
          "China",
          "Spain",
          "Spain",
          "Spain",
          "Spain",
          "Spain",
          "USA",
          "Spain",
          "Spain",
          "USA",
          "Slovakia",
          "India",
          "Italy",
          "India",
          "Unknown",
          "India",
          "India",
          "India",
          "USA",
          "USA",
          "USA",
          "India",
          "USA",
          "USA",
          "India",
          "USA",
          "USA",
          "USA",
          "USA",
          "USA",
          "USA",
          "India",
          "USA",
          "USA",
          "USA",
          "USA",
          "USA",
          "USA",
          "USA",
          "USA",
          "India",
          "India",
          "USA",
          "Unknown",
          "USA",
          "Italy",
          "Canada",
          "USA",
          "USA",
          "USA",
          "USA",
          "USA",
          "India",
          "India",
          "Unknown",
          "India",
          "England",
          "India",
          "Brazil",
          "USA",
          "USA",
          "India",
          "USA",
          "USA",
          "India",
          "USA",
          "Niger",
          "USA",
          "India",
          "Italy",
          "India",
          "USA",
          "USA",
          "India",
          "Spain",
          "USA",
          "USA",
          "USA",
          "India",
          "Albania",
          "Mexico",
          "India",
          "USA",
          "Unknown",
          "USA",
          "USA",
          "India",
          "USA",
          "USA",
          "Unknown",
          "USA",
          "USA",
          "Brazil",
          "USA",
          "USA",
          "USA",
          "Canada",
          "USA",
          "USA",
          "India",
          "USA",
          "USA",
          "USA",
          "USA",
          "India",
          "India",
          "Italy",
          "India",
          "India",
          "Argentina",
          "India",
          "USA",
          "India",
          "USA",
          "USA",
          "USA",
          "Iceland",
          "USA",
          "USA",
          "Canada",
          "USA",
          "India",
          "India",
          "USA",
          "USA",
          "India",
          "USA",
          "India",
          "India",
          "USA",
          "India",
          "USA",
          "Canada",
          "USA",
          "USA",
          "USA",
          "USA",
          "India",
          "USA",
          "France",
          "India",
          "Italy",
          "USA",
          "USA",
          "USA",
          "USA",
          "England",
          "USA",
          "Italy",
          "USA",
          "USA",
          "India",
          "India",
          "USA",
          "USA",
          "USA",
          "USA",
          "USA",
          "USA",
          "Russia",
          "India",
          "USA",
          "USA",
          "USA",
          "India",
          "Sudan",
          "USA",
          "USA",
          "India",
          "USA",
          "USA",
          "India",
          "India",
          "India",
          "England",
          "India",
          "India",
          "USA",
          "USA",
          "USA",
          "India",
          "India",
          "USA",
          "USA",
          "India",
          "USA",
          "USA",
          "USA",
          "USA",
          "Italy",
          "USA",
          "England",
          "Italy",
          "India",
          "USA",
          "India",
          "USA",
          "India",
          "USA",
          "USA",
          "USA",
          "USA",
          "Macedonia",
          "USA",
          "England",
          "USA",
          "India",
          "USA",
          "England",
          "India",
          "India",
          "USA",
          "USA",
          "USA",
          "USA",
          "Indonesia",
          "USA",
          "USA",
          "USA",
          "Canada",
          "USA",
          "USA",
          "USA",
          "USA",
          "USA",
          "USA",
          "USA",
          "USA",
          "USA",
          "France",
          "USA",
          "USA",
          "India",
          "India",
          "USA",
          "USA",
          "Venezuela",
          "USA",
          "Venezuela",
          "USA",
          "USA",
          "USA",
          "USA",
          "India",
          "USA",
          "India",
          "USA",
          "India",
          "USA",
          "India",
          "India",
          "India",
          "India",
          "India",
          "USA",
          "USA",
          "India",
          "India",
          "India",
          "USA",
          "India",
          "USA",
          "USA",
          "USA",
          "USA",
          "USA",
          "USA"
         ],
         "y": [
          "University <br>graduate",
          "University <br>graduate",
          "University <br>graduate",
          "University <br>graduate",
          "University <br>without <br>graduating",
          "University <br>without <br>graduating",
          "University <br>graduate",
          "University <br>graduate",
          "University <br>graduate",
          "University <br>without <br>graduating",
          "University <br>graduate",
          "University <br>graduate",
          "University <br>graduate",
          "Unfinished <br>Compulsory<br>Secondary <br>Education",
          "University <br>graduate",
          "University <br>without <br>graduating",
          "University <br>without <br>graduating",
          "Vocational <br>Training",
          "University <br>without <br>graduating",
          "University <br>without <br>graduating",
          "University <br>graduate",
          "Unfinished <br>Compulsory<br>Secondary <br>Education",
          "Unfinished <br>Compulsory<br>Secondary <br>Education",
          "Unfinished <br>Compulsory<br>Secondary <br>Education",
          "Unfinished <br>Compulsory<br>Secondary <br>Education",
          "Unfinished <br>Compulsory<br>Secondary <br>Education",
          "University <br>graduate",
          "Unfinished <br>Compulsory<br>Secondary <br>Education",
          "University <br>without <br>graduating",
          "University <br>graduate",
          "University <br>graduate",
          "University <br>graduate",
          "University <br>graduate",
          "University <br>without <br>graduating",
          "University <br>graduate",
          "University <br>without <br>graduating",
          "Unfinished <br>Compulsory<br>Secondary <br>Education",
          "Unfinished <br>Compulsory<br>Secondary <br>Education",
          "Unfinished <br>Compulsory<br>Secondary <br>Education",
          "Unfinished <br>Compulsory<br>Secondary <br>Education",
          "Unfinished <br>Compulsory<br>Secondary <br>Education",
          "Unfinished <br>Compulsory<br>Secondary <br>Education",
          "Unfinished <br>Compulsory<br>Secondary <br>Education",
          "Unfinished <br>Compulsory<br>Secondary <br>Education",
          "Unfinished <br>Compulsory<br>Secondary <br>Education",
          "University <br>graduate",
          "University <br>graduate",
          "University <br>without <br>graduating",
          "Unfinished <br>Compulsory<br>Secondary <br>Education",
          "Unfinished <br>Compulsory<br>Secondary <br>Education",
          "Unfinished <br>Compulsory<br>Secondary <br>Education",
          "Unfinished <br>Compulsory<br>Secondary <br>Education",
          "Unfinished <br>Compulsory<br>Secondary <br>Education",
          "Unfinished <br>Compulsory<br>Secondary <br>Education",
          "University <br>without <br>graduating",
          "University <br>without <br>graduating",
          "University <br>graduate",
          "University <br>graduate",
          "University <br>without <br>graduating",
          "University <br>without <br>graduating",
          "University <br>without <br>graduating",
          "Unfinished <br>Compulsory<br>Secondary <br>Education",
          "University <br>graduate",
          "University <br>graduate",
          "University <br>graduate",
          "University <br>graduate",
          "Vocational <br>Training",
          "University <br>graduate",
          "University <br>without <br>graduating",
          "University <br>graduate",
          "University <br>graduate",
          "University <br>graduate",
          "University <br>graduate",
          "University <br>without <br>graduating",
          "University <br>without <br>graduating",
          "University <br>without <br>graduating",
          "Unfinished <br>Compulsory<br>Secondary <br>Education",
          "Unfinished <br>Compulsory<br>Secondary <br>Education",
          "Unfinished <br>Compulsory<br>Secondary <br>Education",
          "Unfinished <br>Compulsory<br>Secondary <br>Education",
          "Unfinished <br>Compulsory<br>Secondary <br>Education",
          "University <br>without <br>graduating",
          "University <br>graduate",
          "Vocational <br>Training",
          "University <br>without <br>graduating",
          "Unfinished <br>Compulsory<br>Secondary <br>Education",
          "Unfinished <br>Compulsory<br>Secondary <br>Education",
          "Unfinished <br>Compulsory<br>Secondary <br>Education",
          "Unfinished <br>Compulsory<br>Secondary <br>Education",
          "Unfinished <br>Compulsory<br>Secondary <br>Education",
          "Unfinished <br>Compulsory<br>Secondary <br>Education",
          "Unfinished <br>Compulsory<br>Secondary <br>Education",
          "Unfinished <br>Compulsory<br>Secondary <br>Education",
          "Unfinished <br>Compulsory<br>Secondary <br>Education",
          "Unfinished <br>Compulsory<br>Secondary <br>Education",
          "University <br>without <br>graduating",
          "University <br>without <br>graduating",
          "Vocational <br>Training",
          "University <br>without <br>graduating",
          "University <br>without <br>graduating",
          "University <br>graduate",
          "University <br>without <br>graduating",
          "University <br>graduate",
          "University <br>graduate",
          "University <br>graduate",
          "University <br>graduate",
          "University <br>graduate",
          "University <br>graduate",
          "University <br>without <br>graduating",
          "University <br>without <br>graduating",
          "University <br>graduate",
          "University <br>graduate",
          "University <br>graduate",
          "University <br>graduate",
          "University <br>graduate",
          "University <br>graduate",
          "University <br>without <br>graduating",
          "University <br>graduate",
          "University <br>graduate",
          "University <br>graduate",
          "University <br>graduate",
          "University <br>graduate",
          "Vocational <br>Training",
          "University <br>without <br>graduating",
          "University <br>without <br>graduating",
          "University <br>graduate",
          "University <br>graduate",
          "University <br>without <br>graduating",
          "Completed <br>Compulsory<br>Secondary <br>Education",
          "University <br>graduate",
          "University <br>graduate",
          "University <br>graduate",
          "Completed <br>Compulsory<br>Secondary <br>Education",
          "Vocational <br>Training",
          "University <br>without <br>graduating",
          "University <br>graduate",
          "University <br>graduate",
          "University <br>graduate",
          "University <br>graduate",
          "University <br>graduate",
          "University <br>graduate",
          "University <br>graduate",
          "Vocational <br>Training",
          "University <br>graduate",
          "Completed <br>Compulsory<br>Secondary <br>Education",
          "Primary <br>education",
          "University <br>graduate",
          "University <br>graduate",
          "University <br>graduate",
          "University <br>graduate",
          "University <br>without <br>graduating",
          "University <br>graduate",
          "University <br>without <br>graduating",
          "University <br>graduate",
          "University <br>without <br>graduating",
          "University <br>graduate",
          "Vocational <br>Training",
          "University <br>graduate",
          "University <br>without <br>graduating",
          "Completed <br>Compulsory<br>Secondary <br>Education",
          "University <br>without <br>graduating",
          "University <br>graduate",
          "University <br>graduate",
          "University <br>graduate",
          "Completed <br>Compulsory<br>Secondary <br>Education",
          "University <br>without <br>graduating",
          "University <br>without <br>graduating",
          "University <br>graduate",
          "University <br>graduate",
          "University <br>graduate",
          "University <br>graduate",
          "University <br>without <br>graduating",
          "Completed <br>Compulsory<br>Secondary <br>Education",
          "Completed <br>Compulsory<br>Secondary <br>Education",
          "University <br>without <br>graduating",
          "University <br>graduate",
          "University <br>graduate",
          "University <br>graduate",
          "University <br>graduate",
          "University <br>graduate",
          "Primary <br>education",
          "University <br>graduate",
          "University <br>graduate",
          "University <br>without <br>graduating",
          "Completed <br>Compulsory<br>Secondary <br>Education",
          "University <br>graduate",
          "University <br>graduate",
          "University <br>graduate",
          "University <br>graduate",
          "University <br>graduate",
          "University <br>graduate",
          "University <br>graduate",
          "University <br>without <br>graduating",
          "University <br>graduate",
          "University <br>graduate",
          "University <br>graduate",
          "University <br>graduate",
          "University <br>without <br>graduating",
          "University <br>graduate",
          "University <br>graduate",
          "University <br>graduate",
          "University <br>graduate",
          "University <br>graduate",
          "University <br>graduate",
          "University <br>graduate",
          "University <br>without <br>graduating",
          "University <br>graduate",
          "University <br>without <br>graduating",
          "University <br>graduate",
          "University <br>graduate",
          "University <br>graduate",
          "University <br>graduate",
          "University <br>graduate",
          "University <br>graduate",
          "University <br>graduate",
          "Vocational <br>Training",
          "University <br>graduate",
          "University <br>without <br>graduating",
          "University <br>graduate",
          "University <br>graduate",
          "University <br>graduate",
          "University <br>graduate",
          "University <br>graduate",
          "Vocational <br>Training",
          "University <br>without <br>graduating",
          "University <br>graduate",
          "University <br>graduate",
          "Completed <br>Compulsory<br>Secondary <br>Education",
          "University <br>without <br>graduating",
          "University <br>graduate",
          "University <br>graduate",
          "University <br>graduate",
          "University <br>graduate",
          "Vocational <br>Training",
          "University <br>graduate",
          "University <br>graduate",
          "University <br>without <br>graduating",
          "University <br>without <br>graduating",
          "University <br>graduate",
          "University <br>graduate",
          "University <br>graduate",
          "Vocational <br>Training",
          "University <br>graduate",
          "University <br>graduate",
          "University <br>without <br>graduating",
          "University <br>graduate",
          "University <br>graduate",
          "University <br>graduate",
          "Unfinished <br>Compulsory<br>Secondary <br>Education",
          "University <br>graduate",
          "University <br>without <br>graduating",
          "University <br>graduate",
          "University <br>without <br>graduating",
          "University <br>graduate",
          "University <br>graduate",
          "University <br>graduate",
          "University <br>graduate",
          "University <br>without <br>graduating",
          "University <br>graduate",
          "University <br>graduate",
          "University <br>graduate",
          "University <br>graduate",
          "University <br>graduate",
          "University <br>graduate",
          "University <br>graduate",
          "University <br>graduate",
          "University <br>graduate",
          "University <br>graduate",
          "Vocational <br>Training",
          "Vocational <br>Training",
          "University <br>graduate",
          "University <br>graduate",
          "University <br>graduate",
          "Vocational <br>Training",
          "University <br>graduate",
          "University <br>graduate",
          "University <br>graduate",
          "University <br>graduate",
          "Completed <br>Compulsory<br>Secondary <br>Education",
          "University <br>graduate",
          "University <br>graduate",
          "Completed <br>Compulsory<br>Secondary <br>Education",
          "University <br>graduate",
          "Completed <br>Compulsory<br>Secondary <br>Education",
          "University <br>graduate",
          "University <br>graduate",
          "University <br>graduate",
          "University <br>graduate",
          "Completed <br>Compulsory<br>Secondary <br>Education",
          "University <br>graduate",
          "University <br>graduate",
          "Primary <br>education",
          "University <br>graduate",
          "University <br>graduate",
          "University <br>graduate",
          "University <br>graduate",
          "Completed <br>Compulsory<br>Secondary <br>Education",
          "University <br>graduate",
          "University <br>graduate",
          "University <br>without <br>graduating",
          "University <br>graduate",
          "University <br>graduate",
          "University <br>graduate",
          "Vocational <br>Training",
          "University <br>graduate",
          "University <br>graduate",
          "University <br>graduate",
          "University <br>graduate",
          "University <br>graduate",
          "Unfinished <br>Compulsory<br>Secondary <br>Education",
          "University <br>graduate",
          "University <br>without <br>graduating",
          "University <br>graduate",
          "University <br>graduate",
          "University <br>graduate",
          "University <br>without <br>graduating",
          "Completed <br>Compulsory<br>Secondary <br>Education",
          "University <br>graduate",
          "Vocational <br>Training",
          "University <br>without <br>graduating",
          "Vocational <br>Training",
          "University <br>graduate",
          "University <br>graduate",
          "University <br>graduate",
          "Completed <br>Compulsory<br>Secondary <br>Education",
          "University <br>graduate",
          "University <br>graduate",
          "University <br>without <br>graduating",
          "University <br>graduate",
          "University <br>graduate",
          "University <br>without <br>graduating",
          "University <br>without <br>graduating",
          "University <br>graduate",
          "University <br>graduate",
          "University <br>without <br>graduating",
          "University <br>graduate",
          "University <br>graduate",
          "University <br>graduate",
          "University <br>graduate",
          "University <br>without <br>graduating",
          "University <br>graduate",
          "University <br>graduate",
          "University <br>graduate",
          "University <br>graduate",
          "University <br>without <br>graduating",
          "University <br>without <br>graduating",
          "Completed <br>Compulsory<br>Secondary <br>Education",
          "University <br>graduate",
          "University <br>graduate",
          "University <br>graduate",
          "Unfinished <br>Compulsory<br>Secondary <br>Education",
          "University <br>graduate",
          "University <br>without <br>graduating",
          "University <br>graduate",
          "University <br>graduate",
          "University <br>graduate",
          "University <br>graduate",
          "University <br>graduate"
         ]
        },
        {
         "marker": {
          "opacity": [
           [
            0.6
           ],
           [
            0.6
           ],
           [
            0.6
           ],
           [
            0.6
           ],
           [
            0.6
           ],
           [
            0.6
           ],
           [
            0.6
           ],
           [
            0.6
           ],
           [
            0.6
           ],
           [
            0.6
           ],
           [
            0.6
           ],
           [
            0.6
           ],
           [
            0.6
           ],
           [
            0.6
           ],
           [
            0.6
           ],
           [
            0.6
           ],
           [
            0.6
           ],
           [
            0.6
           ],
           [
            0.6
           ],
           [
            0.6
           ],
           [
            0.6
           ],
           [
            0.6
           ],
           [
            0.6
           ],
           [
            0.6
           ],
           [
            0.6
           ],
           [
            0.6
           ],
           [
            0.6
           ],
           [
            0.6
           ],
           [
            0.6
           ],
           [
            0.6
           ],
           [
            0.6
           ],
           [
            0.6
           ],
           [
            0.6
           ],
           [
            0.6
           ],
           [
            0.6
           ],
           [
            0.6
           ],
           [
            0.6
           ],
           [
            0.6
           ],
           [
            0.6
           ],
           [
            0.6
           ],
           [
            0.6
           ],
           [
            0.6
           ],
           [
            0.6
           ],
           [
            0.6
           ],
           [
            0.6
           ],
           [
            0.6
           ],
           [
            0.6
           ],
           [
            0.6
           ],
           [
            0.6
           ],
           [
            0.6
           ],
           [
            0.6
           ],
           [
            0.6
           ],
           [
            0.6
           ],
           [
            0.6
           ],
           [
            0.6
           ],
           [
            0.6
           ],
           [
            0.6
           ],
           [
            0.6
           ],
           [
            0.6
           ],
           [
            0.6
           ],
           [
            0.6
           ],
           [
            0.6
           ],
           [
            0.6
           ],
           [
            0.6
           ],
           [
            0.6
           ],
           [
            0.6
           ],
           [
            0.6
           ],
           [
            0.6
           ],
           [
            0.6
           ],
           [
            0.6
           ],
           [
            0.6
           ],
           [
            0.6
           ],
           [
            0.6
           ],
           [
            0.6
           ],
           [
            0.6
           ],
           [
            0.6
           ],
           [
            0.6
           ],
           [
            0.6
           ],
           [
            0.6
           ],
           [
            0.6
           ],
           [
            0.6
           ],
           [
            0.6
           ],
           [
            0.6
           ],
           [
            0.6
           ],
           [
            0.6
           ],
           [
            0.6
           ],
           [
            0.6
           ],
           [
            0.6
           ],
           [
            0.6
           ],
           [
            0.6
           ],
           [
            0.6
           ],
           [
            0.6
           ],
           [
            0.6
           ],
           [
            0.6
           ],
           [
            0.6
           ],
           [
            0.6
           ],
           [
            0.6
           ],
           [
            0.6
           ],
           [
            0.6
           ],
           [
            0.6
           ],
           [
            0.6
           ],
           [
            0.6
           ],
           [
            0.6
           ],
           [
            0.6
           ],
           [
            0.6
           ],
           [
            0.6
           ],
           [
            0.6
           ],
           [
            0.6
           ],
           [
            0.6
           ],
           [
            0.6
           ],
           [
            0.6
           ],
           [
            0.6
           ],
           [
            0.6
           ],
           [
            0.6
           ],
           [
            0.6
           ],
           [
            0.6
           ],
           [
            0.6
           ],
           [
            0.6
           ],
           [
            0.6
           ],
           [
            0.6
           ],
           [
            0.6
           ],
           [
            0.6
           ],
           [
            0.6
           ],
           [
            0.6
           ],
           [
            0.6
           ],
           [
            0.6
           ],
           [
            0.6
           ],
           [
            0.6
           ],
           [
            0.6
           ],
           [
            0.6
           ],
           [
            0.6
           ],
           [
            0.6
           ],
           [
            0.6
           ],
           [
            0.6
           ],
           [
            0.6
           ],
           [
            0.6
           ],
           [
            0.6
           ],
           [
            0.6
           ],
           [
            0.6
           ],
           [
            0.6
           ],
           [
            0.6
           ],
           [
            0.6
           ],
           [
            0.6
           ],
           [
            0.6
           ],
           [
            0.6
           ],
           [
            0.6
           ],
           [
            0.6
           ],
           [
            0.6
           ],
           [
            0.6
           ],
           [
            0.6
           ],
           [
            0.6
           ],
           [
            0.6
           ],
           [
            0.6
           ],
           [
            0.6
           ],
           [
            0.6
           ],
           [
            0.6
           ],
           [
            0.6
           ],
           [
            0.6
           ],
           [
            0.6
           ],
           [
            0.6
           ],
           [
            0.6
           ],
           [
            0.6
           ],
           [
            0.6
           ],
           [
            0.6
           ],
           [
            0.6
           ],
           [
            0.6
           ],
           [
            0.6
           ],
           [
            0.6
           ],
           [
            0.6
           ],
           [
            0.6
           ],
           [
            0.6
           ],
           [
            0.6
           ],
           [
            0.6
           ],
           [
            0.6
           ],
           [
            0.6
           ],
           [
            0.6
           ],
           [
            0.6
           ],
           [
            0.6
           ],
           [
            0.6
           ],
           [
            0.6
           ],
           [
            0.6
           ],
           [
            0.6
           ],
           [
            0.6
           ],
           [
            0.6
           ],
           [
            0.6
           ],
           [
            0.6
           ],
           [
            0.6
           ],
           [
            0.6
           ],
           [
            0.6
           ],
           [
            0.6
           ],
           [
            0.6
           ],
           [
            0.6
           ],
           [
            0.6
           ],
           [
            0.6
           ],
           [
            0.6
           ],
           [
            0.6
           ],
           [
            0.6
           ],
           [
            0.6
           ],
           [
            0.6
           ],
           [
            0.6
           ],
           [
            0.6
           ],
           [
            0.6
           ],
           [
            0.6
           ],
           [
            0.6
           ],
           [
            0.6
           ],
           [
            0.6
           ],
           [
            0.6
           ],
           [
            0.6
           ],
           [
            0.6
           ],
           [
            0.6
           ],
           [
            0.6
           ],
           [
            0.6
           ],
           [
            0.6
           ],
           [
            0.6
           ],
           [
            0.6
           ],
           [
            0.6
           ],
           [
            0.6
           ],
           [
            0.6
           ],
           [
            0.6
           ],
           [
            0.6
           ],
           [
            0.6
           ],
           [
            0.6
           ],
           [
            0.6
           ],
           [
            0.6
           ],
           [
            0.6
           ],
           [
            0.6
           ],
           [
            0.6
           ],
           [
            0.6
           ],
           [
            0.6
           ],
           [
            0.6
           ],
           [
            0.6
           ],
           [
            0.6
           ],
           [
            0.6
           ],
           [
            0.6
           ],
           [
            0.6
           ],
           [
            0.6
           ],
           [
            0.6
           ],
           [
            0.6
           ],
           [
            0.6
           ],
           [
            0.6
           ],
           [
            0.6
           ],
           [
            0.6
           ],
           [
            0.6
           ],
           [
            0.6
           ],
           [
            0.6
           ],
           [
            0.6
           ],
           [
            0.6
           ],
           [
            0.6
           ],
           [
            0.6
           ],
           [
            0.6
           ],
           [
            0.6
           ],
           [
            0.6
           ],
           [
            0.6
           ],
           [
            0.6
           ],
           [
            0.6
           ],
           [
            0.6
           ],
           [
            0.6
           ],
           [
            0.6
           ],
           [
            0.6
           ],
           [
            0.6
           ],
           [
            0.6
           ],
           [
            0.6
           ],
           [
            0.6
           ],
           [
            0.6
           ],
           [
            0.6
           ],
           [
            0.6
           ],
           [
            0.6
           ],
           [
            0.6
           ],
           [
            0.6
           ],
           [
            0.6
           ],
           [
            0.6
           ],
           [
            0.6
           ],
           [
            0.6
           ],
           [
            0.6
           ],
           [
            0.6
           ],
           [
            0.6
           ],
           [
            0.6
           ],
           [
            0.6
           ],
           [
            0.6
           ],
           [
            0.6
           ],
           [
            0.6
           ],
           [
            0.6
           ],
           [
            0.6
           ],
           [
            0.6
           ],
           [
            0.6
           ],
           [
            0.6
           ],
           [
            0.6
           ],
           [
            0.6
           ],
           [
            0.6
           ],
           [
            0.6
           ],
           [
            0.6
           ],
           [
            0.6
           ],
           [
            0.6
           ],
           [
            0.6
           ],
           [
            0.6
           ],
           [
            0.6
           ],
           [
            0.6
           ],
           [
            0.6
           ],
           [
            0.6
           ],
           [
            0.6
           ],
           [
            0.6
           ],
           [
            0.6
           ],
           [
            0.6
           ],
           [
            0.6
           ],
           [
            0.6
           ],
           [
            0.6
           ],
           [
            0.6
           ],
           [
            0.6
           ],
           [
            0.6
           ],
           [
            0.6
           ],
           [
            0.6
           ],
           [
            0.6
           ],
           [
            0.6
           ],
           [
            0.6
           ],
           [
            0.6
           ],
           [
            0.6
           ],
           [
            0.6
           ],
           [
            0.6
           ],
           [
            0.6
           ],
           [
            0.6
           ],
           [
            0.6
           ],
           [
            0.6
           ],
           [
            0.6
           ],
           [
            0.6
           ],
           [
            0.6
           ],
           [
            0.6
           ],
           [
            0.6
           ],
           [
            0.6
           ],
           [
            0.6
           ],
           [
            0.6
           ],
           [
            0.6
           ],
           [
            0.6
           ],
           [
            0.6
           ],
           [
            0.6
           ],
           [
            0.6
           ],
           [
            0.6
           ],
           [
            0.6
           ],
           [
            0.6
           ],
           [
            0.6
           ],
           [
            0.6
           ],
           [
            0.6
           ],
           [
            0.6
           ],
           [
            0.6
           ],
           [
            0.6
           ],
           [
            0.6
           ],
           [
            0.6
           ],
           [
            0.6
           ],
           [
            0.6
           ],
           [
            0.6
           ],
           [
            0.6
           ],
           [
            0.6
           ],
           [
            0.6
           ],
           [
            0.6
           ],
           [
            0.6
           ],
           [
            0.6
           ],
           [
            0.6
           ],
           [
            0.6
           ],
           [
            0.6
           ],
           [
            0.6
           ],
           [
            0.6
           ],
           [
            0.6
           ],
           [
            0.6
           ],
           [
            0.6
           ],
           [
            0.6
           ],
           [
            0.6
           ],
           [
            0.6
           ],
           [
            0.6
           ],
           [
            0.6
           ],
           [
            0.6
           ],
           [
            0.6
           ],
           [
            0.6
           ],
           [
            0.6
           ],
           [
            0.6
           ],
           [
            0.6
           ],
           [
            0.6
           ],
           [
            0.6
           ],
           [
            0.6
           ],
           [
            0.6
           ],
           [
            0.6
           ],
           [
            0.6
           ],
           [
            0.6
           ],
           [
            0.6
           ],
           [
            0.6
           ],
           [
            0.6
           ],
           [
            0.6
           ],
           [
            0.6
           ],
           [
            0.6
           ],
           [
            0.6
           ],
           [
            0.6
           ],
           [
            0.6
           ],
           [
            0.6
           ],
           [
            0.6
           ],
           [
            0.6
           ],
           [
            0.6
           ],
           [
            0.6
           ],
           [
            0.6
           ],
           [
            0.6
           ],
           [
            0.6
           ],
           [
            0.6
           ],
           [
            0.6
           ],
           [
            0.6
           ],
           [
            0.6
           ],
           [
            0.6
           ],
           [
            0.6
           ],
           [
            0.6
           ],
           [
            0.6
           ],
           [
            0.6
           ],
           [
            0.6
           ],
           [
            0.6
           ],
           [
            0.6
           ],
           [
            0.6
           ],
           [
            0.6
           ],
           [
            0.6
           ],
           [
            0.6
           ],
           [
            0.6
           ],
           [
            0.6
           ],
           [
            0.6
           ],
           [
            0.6
           ],
           [
            0.6
           ],
           [
            0.6
           ],
           [
            0.6
           ],
           [
            0.6
           ],
           [
            0.6
           ],
           [
            0.6
           ],
           [
            0.6
           ],
           [
            0.6
           ],
           [
            0.6
           ],
           [
            0.6
           ],
           [
            0.6
           ],
           [
            0.6
           ],
           [
            0.6
           ],
           [
            0.6
           ],
           [
            0.6
           ],
           [
            0.6
           ],
           [
            0.6
           ],
           [
            0.6
           ],
           [
            0.6
           ],
           [
            0.6
           ],
           [
            0.6
           ],
           [
            0.6
           ],
           [
            0.6
           ],
           [
            0.6
           ],
           [
            0.6
           ],
           [
            0.6
           ],
           [
            0.6
           ],
           [
            0.6
           ],
           [
            0.6
           ],
           [
            0.6
           ],
           [
            0.6
           ],
           [
            0.6
           ],
           [
            0.6
           ],
           [
            0.6
           ],
           [
            0.6
           ],
           [
            0.6
           ],
           [
            0.6
           ],
           [
            0.6
           ],
           [
            0.6
           ],
           [
            0.6
           ],
           [
            0.6
           ],
           [
            0.6
           ],
           [
            0.6
           ],
           [
            0.6
           ],
           [
            0.6
           ],
           [
            0.6
           ],
           [
            0.6
           ],
           [
            0.6
           ],
           [
            0.6
           ],
           [
            0.6
           ],
           [
            0.6
           ],
           [
            0.6
           ],
           [
            0.6
           ],
           [
            0.6
           ],
           [
            0.6
           ],
           [
            0.6
           ],
           [
            0.6
           ],
           [
            0.6
           ],
           [
            0.6
           ],
           [
            0.6
           ],
           [
            0.6
           ],
           [
            0.6
           ],
           [
            0.6
           ],
           [
            0.6
           ],
           [
            0.6
           ],
           [
            0.6
           ],
           [
            0.6
           ],
           [
            0.6
           ],
           [
            0.6
           ],
           [
            0.6
           ],
           [
            0.6
           ],
           [
            0.6
           ],
           [
            0.6
           ],
           [
            0.6
           ],
           [
            0.6
           ],
           [
            0.6
           ],
           [
            0.6
           ],
           [
            0.6
           ],
           [
            0.6
           ],
           [
            0.6
           ],
           [
            0.6
           ],
           [
            0.6
           ],
           [
            0.6
           ],
           [
            0.6
           ],
           [
            0.6
           ],
           [
            0.6
           ],
           [
            0.6
           ],
           [
            0.6
           ],
           [
            0.6
           ],
           [
            0.6
           ],
           [
            0.6
           ],
           [
            0.6
           ],
           [
            0.6
           ],
           [
            0.6
           ],
           [
            0.6
           ],
           [
            0.6
           ],
           [
            0.6
           ],
           [
            0.6
           ],
           [
            0.6
           ],
           [
            0.6
           ],
           [
            0.6
           ],
           [
            0.6
           ],
           [
            0.6
           ],
           [
            0.6
           ],
           [
            0.6
           ],
           [
            0.6
           ],
           [
            0.6
           ],
           [
            0.6
           ],
           [
            0.6
           ],
           [
            0.6
           ],
           [
            0.6
           ],
           [
            0.6
           ],
           [
            0.6
           ],
           [
            0.6
           ],
           [
            0.6
           ],
           [
            0.6
           ],
           [
            0.6
           ],
           [
            0.6
           ],
           [
            0.6
           ],
           [
            0.6
           ],
           [
            0.6
           ],
           [
            0.6
           ],
           [
            0.6
           ],
           [
            0.6
           ],
           [
            0.6
           ],
           [
            0.6
           ],
           [
            0.6
           ],
           [
            0.6
           ],
           [
            0.6
           ],
           [
            0.6
           ],
           [
            0.6
           ],
           [
            0.6
           ],
           [
            0.6
           ],
           [
            0.6
           ],
           [
            0.6
           ],
           [
            0.6
           ],
           [
            0.6
           ],
           [
            0.6
           ],
           [
            0.6
           ],
           [
            0.6
           ],
           [
            0.6
           ],
           [
            0.6
           ],
           [
            0.6
           ],
           [
            0.6
           ],
           [
            0.6
           ],
           [
            0.6
           ],
           [
            0.6
           ],
           [
            0.6
           ],
           [
            0.6
           ],
           [
            0.6
           ],
           [
            0.6
           ],
           [
            0.6
           ],
           [
            0.6
           ],
           [
            0.6
           ],
           [
            0.6
           ],
           [
            0.6
           ],
           [
            0.6
           ],
           [
            0.6
           ],
           [
            0.6
           ],
           [
            0.6
           ],
           [
            0.6
           ],
           [
            0.6
           ],
           [
            0.6
           ],
           [
            0.6
           ],
           [
            0.6
           ],
           [
            0.6
           ],
           [
            0.6
           ],
           [
            0.6
           ],
           [
            0.6
           ],
           [
            0.6
           ],
           [
            0.6
           ],
           [
            0.6
           ],
           [
            0.6
           ],
           [
            0.6
           ],
           [
            0.6
           ],
           [
            0.6
           ],
           [
            0.6
           ],
           [
            0.6
           ],
           [
            0.6
           ],
           [
            0.6
           ],
           [
            0.6
           ],
           [
            0.6
           ],
           [
            0.6
           ],
           [
            0.6
           ],
           [
            0.6
           ],
           [
            0.6
           ],
           [
            0.6
           ],
           [
            0.6
           ],
           [
            0.6
           ],
           [
            0.6
           ],
           [
            0.6
           ],
           [
            0.6
           ],
           [
            0.6
           ],
           [
            0.6
           ],
           [
            0.6
           ],
           [
            0.6
           ],
           [
            0.6
           ],
           [
            0.6
           ],
           [
            0.6
           ],
           [
            0.6
           ],
           [
            0.6
           ],
           [
            0.6
           ],
           [
            0.6
           ],
           [
            0.6
           ],
           [
            0.6
           ],
           [
            0.6
           ],
           [
            0.6
           ],
           [
            0.6
           ],
           [
            0.6
           ],
           [
            0.6
           ],
           [
            0.6
           ],
           [
            0.6
           ],
           [
            0.6
           ],
           [
            0.6
           ],
           [
            0.6
           ],
           [
            0.6
           ],
           [
            0.6
           ],
           [
            0.6
           ],
           [
            0.6
           ],
           [
            0.6
           ],
           [
            0.6
           ],
           [
            0.6
           ],
           [
            0.6
           ],
           [
            0.6
           ],
           [
            0.6
           ],
           [
            0.6
           ],
           [
            0.6
           ],
           [
            0.6
           ],
           [
            0.6
           ],
           [
            0.6
           ],
           [
            0.6
           ],
           [
            0.6
           ],
           [
            0.6
           ],
           [
            0.6
           ],
           [
            0.6
           ],
           [
            0.6
           ],
           [
            0.6
           ],
           [
            0.6
           ],
           [
            0.6
           ],
           [
            0.6
           ],
           [
            0.6
           ],
           [
            0.6
           ],
           [
            0.6
           ],
           [
            0.6
           ],
           [
            0.6
           ],
           [
            0.6
           ],
           [
            0.6
           ],
           [
            0.6
           ],
           [
            0.6
           ],
           [
            0.6
           ],
           [
            0.6
           ],
           [
            0.6
           ],
           [
            0.6
           ],
           [
            0.6
           ],
           [
            0.6
           ],
           [
            0.6
           ],
           [
            0.6
           ],
           [
            0.6
           ],
           [
            0.6
           ],
           [
            0.6
           ],
           [
            0.6
           ],
           [
            0.6
           ],
           [
            0.6
           ],
           [
            0.6
           ],
           [
            0.6
           ],
           [
            0.6
           ],
           [
            0.6
           ],
           [
            0.6
           ],
           [
            0.6
           ],
           [
            0.6
           ],
           [
            0.6
           ],
           [
            0.6
           ],
           [
            0.6
           ],
           [
            0.6
           ],
           [
            0.6
           ],
           [
            0.6
           ],
           [
            0.6
           ],
           [
            0.6
           ],
           [
            0.6
           ],
           [
            0.6
           ],
           [
            0.6
           ],
           [
            0.6
           ],
           [
            0.6
           ],
           [
            0.6
           ],
           [
            0.6
           ],
           [
            0.6
           ],
           [
            0.6
           ],
           [
            0.6
           ],
           [
            0.6
           ],
           [
            0.6
           ],
           [
            0.6
           ],
           [
            0.6
           ],
           [
            0.6
           ],
           [
            0.6
           ],
           [
            0.6
           ],
           [
            0.6
           ],
           [
            0.6
           ],
           [
            0.6
           ],
           [
            0.6
           ],
           [
            0.6
           ],
           [
            0.6
           ],
           [
            0.6
           ],
           [
            0.6
           ],
           [
            0.6
           ],
           [
            0.6
           ],
           [
            0.6
           ],
           [
            0.6
           ],
           [
            0.6
           ],
           [
            0.6
           ],
           [
            0.6
           ],
           [
            0.6
           ],
           [
            0.6
           ],
           [
            0.6
           ],
           [
            0.6
           ],
           [
            0.6
           ],
           [
            0.6
           ],
           [
            0.6
           ],
           [
            0.6
           ],
           [
            0.6
           ],
           [
            0.6
           ],
           [
            0.6
           ],
           [
            0.6
           ],
           [
            0.6
           ],
           [
            0.6
           ],
           [
            0.6
           ],
           [
            0.6
           ],
           [
            0.6
           ],
           [
            0.6
           ],
           [
            0.6
           ],
           [
            0.6
           ],
           [
            0.6
           ],
           [
            0.6
           ],
           [
            0.6
           ],
           [
            0.6
           ],
           [
            0.6
           ],
           [
            0.6
           ],
           [
            0.6
           ],
           [
            0.6
           ],
           [
            0.6
           ],
           [
            0.6
           ],
           [
            0.6
           ],
           [
            0.6
           ],
           [
            0.6
           ],
           [
            0.6
           ],
           [
            0.6
           ],
           [
            0.6
           ],
           [
            0.6
           ],
           [
            0.6
           ],
           [
            0.6
           ]
          ],
          "size": [
           1.3,
           1.3,
           2.6,
           1.3,
           1.3,
           1.3,
           1.3,
           1.3,
           2.6,
           2.6,
           16.900000000000002,
           1.3,
           1.3,
           58.5,
           3.9000000000000004,
           2.6,
           2.6,
           1.3,
           1.3,
           1.3,
           1.3,
           1.3,
           1.3,
           66.3,
           40.300000000000004,
           29.900000000000002,
           13,
           7.800000000000001,
           1.3,
           1.3,
           127.4,
           37.7,
           18.2,
           10.4,
           7.800000000000001,
           3.9000000000000004,
           1.3,
           10.4,
           10.4,
           10.4,
           5.2,
           5.2,
           1.3,
           2.6
          ]
         },
         "mode": "markers",
         "name": "Female",
         "type": "scatter",
         "uid": "3bd32047-920f-4acd-b469-dab20e4f4077",
         "x": [
          "Spain",
          "Spain",
          "Spain",
          "Colombia",
          "Dominican Rep.",
          "Spain",
          "Spain",
          "Spain",
          "Spain",
          "Spain",
          "Spain",
          "Spain",
          "Spain",
          "Austria",
          "Chile",
          "Spain",
          "Spain",
          "Spain",
          "Spain",
          "Spain",
          "Spain",
          "Spain",
          "Spain",
          "Spain",
          "Spain",
          "Spain",
          "Spain",
          "Spain",
          "Spain",
          "Spain",
          "Spain",
          "Spain",
          "Spain",
          "Spain",
          "Spain",
          "Spain",
          "Spain",
          "Spain",
          "France",
          "France",
          "France",
          "Spain",
          "Spain",
          "Spain",
          "Spain",
          "Spain",
          "France",
          "Spain",
          "Spain",
          "Spain",
          "Spain",
          "Spain",
          "Spain",
          "Spain",
          "Spain",
          "Spain",
          "Spain",
          "Spain",
          "Spain",
          "Spain",
          "Spain",
          "Spain",
          "Spain",
          "Spain",
          "Spain",
          "Spain",
          "Spain",
          "Spain",
          "Spain",
          "France",
          "Spain",
          "Spain",
          "Spain",
          "Spain",
          "Spain",
          "Spain",
          "Spain",
          "Spain",
          "Spain",
          "Spain",
          "Spain",
          "Spain",
          "Spain",
          "Spain",
          "Spain",
          "France",
          "Spain",
          "Spain",
          "France",
          "Spain",
          "France",
          "France",
          "France",
          "France",
          "France",
          "France",
          "Spain",
          "Spain",
          "Spain",
          "Spain",
          "Spain",
          "Spain",
          "Spain",
          "Spain",
          "Spain",
          "Spain",
          "Spain",
          "Spain",
          "Spain",
          "Russia",
          "Spain",
          "Spain",
          "Spain",
          "Brazil",
          "Spain",
          "Spain",
          "France",
          "Spain",
          "Spain",
          "Spain",
          "Spain",
          "Spain",
          "Spain",
          "Spain",
          "Spain",
          "Spain",
          "Spain",
          "Spain",
          "Spain",
          "Spain",
          "Spain",
          "Spain",
          "Spain",
          "Spain",
          "Spain",
          "Spain",
          "Spain",
          "Spain",
          "Spain",
          "USA",
          "Unknown",
          "USA",
          "USA",
          "USA",
          "USA",
          "India",
          "India",
          "USA",
          "USA",
          "India",
          "India",
          "USA",
          "USA",
          "USA",
          "USA",
          "USA",
          "USA",
          "Unknown",
          "USA",
          "USA",
          "USA",
          "England",
          "Unknown",
          "Unknown",
          "India",
          "USA",
          "USA",
          "India",
          "India",
          "India",
          "USA",
          "India",
          "USA",
          "USA",
          "USA",
          "India",
          "USA",
          "USA",
          "USA",
          "Unknown",
          "USA",
          "India",
          "USA",
          "India",
          "USA",
          "Germany",
          "USA",
          "Canada",
          "USA",
          "India",
          "USA",
          "Spain",
          "India",
          "USA",
          "India",
          "USA",
          "USA",
          "USA",
          "USA",
          "USA",
          "USA",
          "India",
          "Venezuela",
          "USA",
          "USA",
          "Unknown",
          "USA",
          "USA",
          "USA",
          "Unknown",
          "USA",
          "USA",
          "USA",
          "USA",
          "USA",
          "Unknown",
          "Pakistan",
          "USA",
          "USA",
          "India",
          "India",
          "USA",
          "USA",
          "USA",
          "USA",
          "USA",
          "Canada",
          "USA",
          "USA",
          "USA",
          "USA",
          "Unknown",
          "USA",
          "USA",
          "India",
          "USA",
          "USA",
          "Unknown",
          "The Bahamas",
          "USA",
          "Unknown",
          "USA",
          "Unknown",
          "USA",
          "India",
          "USA",
          "USA",
          "USA",
          "India",
          "USA",
          "India",
          "India",
          "England",
          "Unknown",
          "India",
          "USA",
          "Unknown",
          "Italy",
          "USA",
          "USA",
          "Unknown",
          "India",
          "India",
          "USA",
          "Spain",
          "USA",
          "USA",
          "USA",
          "USA",
          "India",
          "USA",
          "USA",
          "USA",
          "India",
          "England",
          "USA",
          "India",
          "Italy",
          "Spain",
          "India",
          "Unknown",
          "USA",
          "India",
          "India",
          "USA",
          "USA",
          "India",
          "India",
          "USA",
          "USA",
          "India",
          "Unknown",
          "USA",
          "USA",
          "Unknown",
          "USA",
          "USA",
          "Ukraine",
          "USA",
          "USA",
          "New Zealand",
          "India",
          "USA",
          "USA",
          "USA",
          "USA",
          "USA",
          "USA",
          "USA",
          "India",
          "USA",
          "USA",
          "USA",
          "England",
          "USA",
          "USA",
          "USA",
          "USA",
          "USA",
          "USA",
          "Unknown",
          "Unknown",
          "Unknown",
          "USA",
          "Ireland",
          "USA",
          "USA",
          "Unknown",
          "USA",
          "USA",
          "USA",
          "USA",
          "Venezuela",
          "USA",
          "India",
          "USA",
          "USA",
          "USA",
          "Unknown",
          "USA",
          "USA",
          "USA",
          "USA",
          "Italy",
          "USA",
          "Unknown",
          "USA",
          "Unknown",
          "USA",
          "Unknown",
          "USA",
          "USA",
          "Ireland",
          "USA",
          "Canada",
          "Unknown",
          "USA",
          "USA",
          "USA",
          "USA",
          "USA",
          "USA",
          "India",
          "Unknown",
          "USA",
          "USA",
          "USA",
          "USA",
          "USA",
          "USA",
          "USA",
          "USA",
          "USA",
          "USA",
          "Cuba",
          "USA",
          "Unknown",
          "India",
          "USA",
          "USA",
          "Unknown",
          "Unknown",
          "USA",
          "India",
          "Unknown",
          "USA",
          "USA",
          "India",
          "India",
          "USA",
          "India",
          "USA",
          "USA",
          "Unknown",
          "USA",
          "India",
          "India",
          "USA",
          "India",
          "India",
          "India",
          "India",
          "USA"
         ],
         "y": [
          "University <br>graduate",
          "University <br>without <br>graduating",
          "University <br>graduate",
          "University <br>graduate",
          "University <br>graduate",
          "University <br>graduate",
          "University <br>graduate",
          "University <br>graduate",
          "University <br>graduate",
          "Completed <br>Compulsory<br>Secondary <br>Education",
          "Completed <br>Compulsory<br>Secondary <br>Education",
          "Vocational <br>Training",
          "University <br>without <br>graduating",
          "University <br>graduate",
          "University <br>graduate",
          "University <br>graduate",
          "University <br>graduate",
          "University <br>without <br>graduating",
          "University <br>graduate",
          "University <br>without <br>graduating",
          "Completed <br>Compulsory<br>Secondary <br>Education",
          "Vocational <br>Training",
          "University <br>graduate",
          "University <br>without <br>graduating",
          "Vocational <br>Training",
          "Primary <br>education",
          "University <br>without <br>graduating",
          "University <br>graduate",
          "Unfinished <br>Compulsory<br>Secondary <br>Education",
          "Unfinished <br>Compulsory<br>Secondary <br>Education",
          "Unfinished <br>Compulsory<br>Secondary <br>Education",
          "Unfinished <br>Compulsory<br>Secondary <br>Education",
          "Unfinished <br>Compulsory<br>Secondary <br>Education",
          "Unfinished <br>Compulsory<br>Secondary <br>Education",
          "University <br>graduate",
          "University <br>graduate",
          "Vocational <br>Training",
          "University <br>graduate",
          "University <br>without <br>graduating",
          "University <br>without <br>graduating",
          "University <br>without <br>graduating",
          "University <br>graduate",
          "University <br>graduate",
          "University <br>graduate",
          "University <br>without <br>graduating",
          "University <br>graduate",
          "University <br>without <br>graduating",
          "University <br>graduate",
          "University <br>graduate",
          "University <br>graduate",
          "University <br>without <br>graduating",
          "University <br>without <br>graduating",
          "University <br>without <br>graduating",
          "University <br>without <br>graduating",
          "University <br>without <br>graduating",
          "University <br>without <br>graduating",
          "University <br>without <br>graduating",
          "University <br>without <br>graduating",
          "Unfinished <br>Compulsory<br>Secondary <br>Education",
          "Unfinished <br>Compulsory<br>Secondary <br>Education",
          "Unfinished <br>Compulsory<br>Secondary <br>Education",
          "University <br>graduate",
          "University <br>graduate",
          "Unfinished <br>Compulsory<br>Secondary <br>Education",
          "Unfinished <br>Compulsory<br>Secondary <br>Education",
          "Unfinished <br>Compulsory<br>Secondary <br>Education",
          "Unfinished <br>Compulsory<br>Secondary <br>Education",
          "Unfinished <br>Compulsory<br>Secondary <br>Education",
          "Unfinished <br>Compulsory<br>Secondary <br>Education",
          "University <br>without <br>graduating",
          "Unfinished <br>Compulsory<br>Secondary <br>Education",
          "University <br>graduate",
          "University <br>without <br>graduating",
          "University <br>graduate",
          "Vocational <br>Training",
          "University <br>graduate",
          "University <br>graduate",
          "University <br>graduate",
          "University <br>graduate",
          "University <br>graduate",
          "Vocational <br>Training",
          "University <br>graduate",
          "Vocational <br>Training",
          "Vocational <br>Training",
          "Completed <br>Compulsory<br>Secondary <br>Education",
          "University <br>without <br>graduating",
          "University <br>graduate",
          "University <br>graduate",
          "University <br>graduate",
          "Completed <br>Compulsory<br>Secondary <br>Education",
          "University <br>without <br>graduating",
          "University <br>without <br>graduating",
          "University <br>without <br>graduating",
          "University <br>without <br>graduating",
          "University <br>without <br>graduating",
          "University <br>without <br>graduating",
          "University <br>graduate",
          "University <br>graduate",
          "University <br>graduate",
          "University <br>graduate",
          "University <br>graduate",
          "University <br>graduate",
          "University <br>graduate",
          "University <br>graduate",
          "University <br>graduate",
          "University <br>graduate",
          "University <br>graduate",
          "University <br>graduate",
          "University <br>graduate",
          "University <br>without <br>graduating",
          "University <br>graduate",
          "University <br>without <br>graduating",
          "University <br>graduate",
          "University <br>graduate",
          "University <br>without <br>graduating",
          "Vocational <br>Training",
          "University <br>without <br>graduating",
          "University <br>without <br>graduating",
          "Unfinished <br>Compulsory<br>Secondary <br>Education",
          "Unfinished <br>Compulsory<br>Secondary <br>Education",
          "Unfinished <br>Compulsory<br>Secondary <br>Education",
          "University <br>graduate",
          "Completed <br>Compulsory<br>Secondary <br>Education",
          "Vocational <br>Training",
          "Unfinished <br>Compulsory<br>Secondary <br>Education",
          "Unfinished <br>Compulsory<br>Secondary <br>Education",
          "Unfinished <br>Compulsory<br>Secondary <br>Education",
          "Unfinished <br>Compulsory<br>Secondary <br>Education",
          "Unfinished <br>Compulsory<br>Secondary <br>Education",
          "Unfinished <br>Compulsory<br>Secondary <br>Education",
          "Unfinished <br>Compulsory<br>Secondary <br>Education",
          "Unfinished <br>Compulsory<br>Secondary <br>Education",
          "Unfinished <br>Compulsory<br>Secondary <br>Education",
          "Unfinished <br>Compulsory<br>Secondary <br>Education",
          "Unfinished <br>Compulsory<br>Secondary <br>Education",
          "Unfinished <br>Compulsory<br>Secondary <br>Education",
          "University <br>graduate",
          "University <br>without <br>graduating",
          "University <br>without <br>graduating",
          "University <br>without <br>graduating",
          "Vocational <br>Training",
          "University <br>graduate",
          "University <br>without <br>graduating",
          "University <br>graduate",
          "University <br>graduate",
          "University <br>graduate",
          "University <br>graduate",
          "Primary <br>education",
          "University <br>graduate",
          "University <br>graduate",
          "University <br>graduate",
          "University <br>graduate",
          "University <br>graduate",
          "University <br>without <br>graduating",
          "Completed <br>Compulsory<br>Secondary <br>Education",
          "University <br>graduate",
          "University <br>without <br>graduating",
          "Completed <br>Compulsory<br>Secondary <br>Education",
          "University <br>graduate",
          "University <br>graduate",
          "Vocational <br>Training",
          "University <br>graduate",
          "University <br>graduate",
          "University <br>graduate",
          "University <br>graduate",
          "University <br>without <br>graduating",
          "University <br>graduate",
          "University <br>graduate",
          "University <br>graduate",
          "University <br>graduate",
          "University <br>graduate",
          "University <br>graduate",
          "University <br>graduate",
          "University <br>graduate",
          "University <br>graduate",
          "University <br>graduate",
          "University <br>graduate",
          "University <br>graduate",
          "Completed <br>Compulsory<br>Secondary <br>Education",
          "University <br>without <br>graduating",
          "University <br>graduate",
          "University <br>graduate",
          "Unfinished <br>Compulsory<br>Secondary <br>Education",
          "University <br>graduate",
          "University <br>graduate",
          "University <br>graduate",
          "Primary <br>education",
          "Vocational <br>Training",
          "University <br>graduate",
          "University <br>graduate",
          "Vocational <br>Training",
          "University <br>graduate",
          "University <br>graduate",
          "Vocational <br>Training",
          "University <br>graduate",
          "University <br>graduate",
          "University <br>graduate",
          "University <br>graduate",
          "University <br>graduate",
          "Primary <br>education",
          "University <br>graduate",
          "Completed <br>Compulsory<br>Secondary <br>Education",
          "University <br>graduate",
          "Vocational <br>Training",
          "Primary <br>education",
          "University <br>without <br>graduating",
          "University <br>graduate",
          "University <br>graduate",
          "University <br>graduate",
          "Completed <br>Compulsory<br>Secondary <br>Education",
          "University <br>graduate",
          "University <br>without <br>graduating",
          "Completed <br>Compulsory<br>Secondary <br>Education",
          "University <br>graduate",
          "University <br>graduate",
          "University <br>graduate",
          "University <br>graduate",
          "University <br>graduate",
          "University <br>without <br>graduating",
          "University <br>without <br>graduating",
          "University <br>graduate",
          "University <br>without <br>graduating",
          "University <br>graduate",
          "University <br>graduate",
          "University <br>graduate",
          "Completed <br>Compulsory<br>Secondary <br>Education",
          "University <br>without <br>graduating",
          "University <br>graduate",
          "University <br>graduate",
          "University <br>graduate",
          "University <br>graduate",
          "University <br>graduate",
          "Vocational <br>Training",
          "University <br>graduate",
          "University <br>graduate",
          "University <br>graduate",
          "University <br>graduate",
          "University <br>graduate",
          "University <br>graduate",
          "University <br>graduate",
          "Completed <br>Compulsory<br>Secondary <br>Education",
          "University <br>without <br>graduating",
          "Completed <br>Compulsory<br>Secondary <br>Education",
          "University <br>graduate",
          "University <br>graduate",
          "University <br>graduate",
          "University <br>without <br>graduating",
          "University <br>graduate",
          "University <br>graduate",
          "Primary <br>education",
          "University <br>graduate",
          "Completed <br>Compulsory<br>Secondary <br>Education",
          "University <br>without <br>graduating",
          "Completed <br>Compulsory<br>Secondary <br>Education",
          "University <br>graduate",
          "Completed <br>Compulsory<br>Secondary <br>Education",
          "University <br>without <br>graduating",
          "University <br>graduate",
          "Completed <br>Compulsory<br>Secondary <br>Education",
          "University <br>graduate",
          "Primary <br>education",
          "University <br>graduate",
          "University <br>graduate",
          "University <br>graduate",
          "University <br>without <br>graduating",
          "University <br>graduate",
          "Completed <br>Compulsory<br>Secondary <br>Education",
          "University <br>without <br>graduating",
          "University <br>graduate",
          "University <br>graduate",
          "University <br>graduate",
          "University <br>without <br>graduating",
          "Completed <br>Compulsory<br>Secondary <br>Education",
          "University <br>graduate",
          "University <br>graduate",
          "University <br>without <br>graduating",
          "University <br>graduate",
          "Vocational <br>Training",
          "University <br>without <br>graduating",
          "University <br>graduate",
          "Completed <br>Compulsory<br>Secondary <br>Education",
          "Primary <br>education",
          "University <br>graduate",
          "University <br>graduate",
          "University <br>graduate",
          "University <br>graduate",
          "University <br>graduate",
          "University <br>graduate",
          "University <br>without <br>graduating",
          "University <br>graduate",
          "University <br>graduate",
          "Vocational <br>Training",
          "University <br>without <br>graduating",
          "University <br>without <br>graduating",
          "Primary <br>education",
          "University <br>without <br>graduating",
          "University <br>graduate",
          "Completed <br>Compulsory<br>Secondary <br>Education",
          "University <br>graduate",
          "University <br>without <br>graduating",
          "University <br>graduate",
          "University <br>graduate",
          "University <br>graduate",
          "University <br>graduate",
          "Vocational <br>Training",
          "Unfinished <br>Compulsory<br>Secondary <br>Education",
          "University <br>without <br>graduating",
          "University <br>graduate",
          "University <br>graduate",
          "University <br>graduate",
          "University <br>graduate",
          "Completed <br>Compulsory<br>Secondary <br>Education",
          "University <br>without <br>graduating",
          "University <br>without <br>graduating",
          "University <br>graduate",
          "University <br>graduate",
          "University <br>graduate",
          "University <br>graduate",
          "University <br>graduate",
          "Completed <br>Compulsory<br>Secondary <br>Education",
          "University <br>without <br>graduating",
          "University <br>without <br>graduating",
          "University <br>graduate",
          "University <br>without <br>graduating",
          "University <br>graduate",
          "University <br>graduate",
          "University <br>graduate",
          "Completed <br>Compulsory<br>Secondary <br>Education",
          "University <br>graduate",
          "University <br>graduate",
          "University <br>graduate",
          "University <br>graduate",
          "University <br>graduate",
          "University <br>graduate",
          "University <br>graduate",
          "University <br>graduate",
          "Completed <br>Compulsory<br>Secondary <br>Education",
          "Unfinished <br>Compulsory<br>Secondary <br>Education",
          "University <br>without <br>graduating",
          "Vocational <br>Training",
          "University <br>without <br>graduating",
          "University <br>without <br>graduating",
          "Completed <br>Compulsory<br>Secondary <br>Education",
          "University <br>without <br>graduating",
          "University <br>graduate",
          "University <br>without <br>graduating",
          "University <br>without <br>graduating",
          "Primary <br>education",
          "University <br>graduate",
          "Unfinished <br>Compulsory<br>Secondary <br>Education",
          "University <br>graduate",
          "University <br>graduate",
          "University <br>graduate",
          "University <br>without <br>graduating",
          "University <br>without <br>graduating",
          "Primary <br>education",
          "University <br>graduate",
          "University <br>graduate",
          "University <br>graduate",
          "University <br>graduate",
          "University <br>without <br>graduating",
          "University <br>graduate",
          "University <br>graduate",
          "Vocational <br>Training",
          "University <br>graduate",
          "University <br>graduate",
          "University <br>graduate",
          "University <br>graduate",
          "Completed <br>Compulsory<br>Secondary <br>Education",
          "University <br>graduate",
          "University <br>graduate",
          "University <br>graduate",
          "University <br>graduate",
          "University <br>graduate",
          "University <br>graduate",
          "Completed <br>Compulsory<br>Secondary <br>Education",
          "University <br>without <br>graduating",
          "University <br>graduate",
          "University <br>graduate",
          "University <br>graduate",
          "Vocational <br>Training",
          "University <br>graduate",
          "Vocational <br>Training",
          "University <br>graduate",
          "University <br>graduate",
          "University <br>without <br>graduating",
          "University <br>graduate",
          "University <br>without <br>graduating",
          "University <br>graduate",
          "University <br>graduate",
          "University <br>without <br>graduating",
          "University <br>graduate",
          "University <br>graduate",
          "Completed <br>Compulsory<br>Secondary <br>Education",
          "University <br>without <br>graduating",
          "University <br>graduate",
          "University <br>graduate",
          "University <br>graduate",
          "University <br>graduate",
          "University <br>graduate",
          "University <br>graduate",
          "University <br>graduate",
          "University <br>without <br>graduating"
         ]
        },
        {
         "marker": {
          "opacity": [
           [
            0.6
           ],
           [
            0.6
           ],
           [
            0.6
           ],
           [
            0.6
           ],
           [
            0.6
           ],
           [
            0.6
           ],
           [
            0.6
           ],
           [
            0.6
           ],
           [
            0.6
           ],
           [
            0.6
           ],
           [
            0.6
           ],
           [
            0.6
           ],
           [
            0.6
           ],
           [
            0.6
           ],
           [
            0.6
           ],
           [
            0.6
           ],
           [
            0.6
           ],
           [
            0.6
           ],
           [
            0.6
           ],
           [
            0.6
           ],
           [
            0.6
           ],
           [
            0.6
           ],
           [
            0.6
           ],
           [
            0.6
           ],
           [
            0.6
           ],
           [
            0.6
           ],
           [
            0.6
           ],
           [
            0.6
           ],
           [
            0.6
           ],
           [
            0.6
           ],
           [
            0.6
           ],
           [
            0.6
           ],
           [
            0.6
           ],
           [
            0.6
           ],
           [
            0.6
           ],
           [
            0.6
           ],
           [
            0.6
           ],
           [
            0.6
           ],
           [
            0.6
           ],
           [
            0.6
           ],
           [
            0.6
           ],
           [
            0.6
           ],
           [
            0.6
           ],
           [
            0.6
           ],
           [
            0.6
           ],
           [
            0.6
           ],
           [
            0.6
           ],
           [
            0.6
           ],
           [
            0.6
           ],
           [
            0.6
           ],
           [
            0.6
           ],
           [
            0.6
           ],
           [
            0.6
           ],
           [
            0.6
           ],
           [
            0.6
           ],
           [
            0.6
           ],
           [
            0.6
           ],
           [
            0.6
           ],
           [
            0.6
           ],
           [
            0.6
           ],
           [
            0.6
           ],
           [
            0.6
           ],
           [
            0.6
           ],
           [
            0.6
           ],
           [
            0.6
           ],
           [
            0.6
           ],
           [
            0.6
           ],
           [
            0.6
           ],
           [
            0.6
           ],
           [
            0.6
           ],
           [
            0.6
           ],
           [
            0.6
           ],
           [
            0.6
           ],
           [
            0.6
           ],
           [
            0.6
           ],
           [
            0.6
           ],
           [
            0.6
           ],
           [
            0.6
           ],
           [
            0.6
           ],
           [
            0.6
           ],
           [
            0.6
           ],
           [
            0.6
           ],
           [
            0.6
           ],
           [
            0.6
           ],
           [
            0.6
           ],
           [
            0.6
           ],
           [
            0.6
           ],
           [
            0.6
           ],
           [
            0.6
           ],
           [
            0.6
           ],
           [
            0.6
           ],
           [
            0.6
           ],
           [
            0.6
           ],
           [
            0.6
           ],
           [
            0.6
           ],
           [
            0.6
           ],
           [
            0.6
           ],
           [
            0.6
           ],
           [
            0.6
           ],
           [
            0.6
           ],
           [
            0.6
           ],
           [
            0.6
           ],
           [
            0.6
           ],
           [
            0.6
           ],
           [
            0.6
           ],
           [
            0.6
           ],
           [
            0.6
           ],
           [
            0.6
           ],
           [
            0.6
           ],
           [
            0.6
           ],
           [
            0.6
           ],
           [
            0.6
           ],
           [
            0.6
           ],
           [
            0.6
           ],
           [
            0.6
           ],
           [
            0.6
           ],
           [
            0.6
           ],
           [
            0.6
           ],
           [
            0.6
           ],
           [
            0.6
           ],
           [
            0.6
           ],
           [
            0.6
           ],
           [
            0.6
           ],
           [
            0.6
           ],
           [
            0.6
           ],
           [
            0.6
           ],
           [
            0.6
           ],
           [
            0.6
           ],
           [
            0.6
           ],
           [
            0.6
           ],
           [
            0.6
           ],
           [
            0.6
           ],
           [
            0.6
           ],
           [
            0.6
           ],
           [
            0.6
           ],
           [
            0.6
           ],
           [
            0.6
           ],
           [
            0.6
           ],
           [
            0.6
           ],
           [
            0.6
           ],
           [
            0.6
           ],
           [
            0.6
           ],
           [
            0.6
           ],
           [
            0.6
           ],
           [
            0.6
           ],
           [
            0.6
           ],
           [
            0.6
           ],
           [
            0.6
           ],
           [
            0.6
           ],
           [
            0.6
           ],
           [
            0.6
           ],
           [
            0.6
           ],
           [
            0.6
           ],
           [
            0.6
           ],
           [
            0.6
           ],
           [
            0.6
           ],
           [
            0.6
           ],
           [
            0.6
           ],
           [
            0.6
           ],
           [
            0.6
           ],
           [
            0.6
           ],
           [
            0.6
           ],
           [
            0.6
           ],
           [
            0.6
           ],
           [
            0.6
           ],
           [
            0.6
           ],
           [
            0.6
           ],
           [
            0.6
           ],
           [
            0.6
           ],
           [
            0.6
           ],
           [
            0.6
           ],
           [
            0.6
           ],
           [
            0.6
           ],
           [
            0.6
           ],
           [
            0.6
           ],
           [
            0.6
           ],
           [
            0.6
           ],
           [
            0.6
           ],
           [
            0.6
           ],
           [
            0.6
           ],
           [
            0.6
           ],
           [
            0.6
           ],
           [
            0.6
           ],
           [
            0.6
           ],
           [
            0.6
           ],
           [
            0.6
           ],
           [
            0.6
           ],
           [
            0.6
           ],
           [
            0.6
           ],
           [
            0.6
           ],
           [
            0.6
           ],
           [
            0.6
           ],
           [
            0.6
           ],
           [
            0.6
           ],
           [
            0.6
           ],
           [
            0.6
           ],
           [
            0.6
           ],
           [
            0.6
           ],
           [
            0.6
           ],
           [
            0.6
           ],
           [
            0.6
           ],
           [
            0.6
           ],
           [
            0.6
           ],
           [
            0.6
           ],
           [
            0.6
           ],
           [
            0.6
           ],
           [
            0.6
           ],
           [
            0.6
           ],
           [
            0.6
           ],
           [
            0.6
           ],
           [
            0.6
           ],
           [
            0.6
           ],
           [
            0.6
           ],
           [
            0.6
           ],
           [
            0.6
           ],
           [
            0.6
           ],
           [
            0.6
           ],
           [
            0.6
           ],
           [
            0.6
           ],
           [
            0.6
           ],
           [
            0.6
           ],
           [
            0.6
           ],
           [
            0.6
           ],
           [
            0.6
           ],
           [
            0.6
           ],
           [
            0.6
           ],
           [
            0.6
           ],
           [
            0.6
           ],
           [
            0.6
           ],
           [
            0.6
           ],
           [
            0.6
           ],
           [
            0.6
           ],
           [
            0.6
           ],
           [
            0.6
           ],
           [
            0.6
           ],
           [
            0.6
           ],
           [
            0.6
           ],
           [
            0.6
           ],
           [
            0.6
           ],
           [
            0.6
           ],
           [
            0.6
           ],
           [
            0.6
           ],
           [
            0.6
           ],
           [
            0.6
           ],
           [
            0.6
           ],
           [
            0.6
           ],
           [
            0.6
           ],
           [
            0.6
           ],
           [
            0.6
           ],
           [
            0.6
           ],
           [
            0.6
           ],
           [
            0.6
           ],
           [
            0.6
           ],
           [
            0.6
           ],
           [
            0.6
           ],
           [
            0.6
           ],
           [
            0.6
           ],
           [
            0.6
           ],
           [
            0.6
           ],
           [
            0.6
           ],
           [
            0.6
           ],
           [
            0.6
           ],
           [
            0.6
           ],
           [
            0.6
           ],
           [
            0.6
           ],
           [
            0.6
           ],
           [
            0.6
           ],
           [
            0.6
           ],
           [
            0.6
           ],
           [
            0.6
           ],
           [
            0.6
           ],
           [
            0.6
           ],
           [
            0.6
           ],
           [
            0.6
           ],
           [
            0.6
           ],
           [
            0.6
           ],
           [
            0.6
           ],
           [
            0.6
           ],
           [
            0.6
           ],
           [
            0.6
           ],
           [
            0.6
           ],
           [
            0.6
           ],
           [
            0.6
           ],
           [
            0.6
           ],
           [
            0.6
           ],
           [
            0.6
           ],
           [
            0.6
           ],
           [
            0.6
           ],
           [
            0.6
           ],
           [
            0.6
           ],
           [
            0.6
           ],
           [
            0.6
           ],
           [
            0.6
           ],
           [
            0.6
           ],
           [
            0.6
           ],
           [
            0.6
           ],
           [
            0.6
           ],
           [
            0.6
           ],
           [
            0.6
           ],
           [
            0.6
           ],
           [
            0.6
           ],
           [
            0.6
           ],
           [
            0.6
           ],
           [
            0.6
           ],
           [
            0.6
           ],
           [
            0.6
           ],
           [
            0.6
           ],
           [
            0.6
           ],
           [
            0.6
           ],
           [
            0.6
           ],
           [
            0.6
           ],
           [
            0.6
           ],
           [
            0.6
           ],
           [
            0.6
           ],
           [
            0.6
           ],
           [
            0.6
           ],
           [
            0.6
           ],
           [
            0.6
           ],
           [
            0.6
           ],
           [
            0.6
           ],
           [
            0.6
           ],
           [
            0.6
           ],
           [
            0.6
           ],
           [
            0.6
           ],
           [
            0.6
           ],
           [
            0.6
           ],
           [
            0.6
           ],
           [
            0.6
           ],
           [
            0.6
           ],
           [
            0.6
           ],
           [
            0.6
           ],
           [
            0.6
           ],
           [
            0.6
           ],
           [
            0.6
           ],
           [
            0.6
           ],
           [
            0.6
           ],
           [
            0.6
           ],
           [
            0.6
           ],
           [
            0.6
           ],
           [
            0.6
           ],
           [
            0.6
           ],
           [
            0.6
           ],
           [
            0.6
           ],
           [
            0.6
           ],
           [
            0.6
           ],
           [
            0.6
           ],
           [
            0.6
           ],
           [
            0.6
           ],
           [
            0.6
           ],
           [
            0.6
           ],
           [
            0.6
           ],
           [
            0.6
           ],
           [
            0.6
           ],
           [
            0.6
           ],
           [
            0.6
           ],
           [
            0.6
           ],
           [
            0.6
           ],
           [
            0.6
           ],
           [
            0.6
           ],
           [
            0.6
           ],
           [
            0.6
           ],
           [
            0.6
           ],
           [
            0.6
           ],
           [
            0.6
           ],
           [
            0.6
           ],
           [
            0.6
           ],
           [
            0.6
           ],
           [
            0.6
           ],
           [
            0.6
           ],
           [
            0.6
           ],
           [
            0.6
           ],
           [
            0.6
           ],
           [
            0.6
           ],
           [
            0.6
           ],
           [
            0.6
           ],
           [
            0.6
           ],
           [
            0.6
           ],
           [
            0.6
           ],
           [
            0.6
           ],
           [
            0.6
           ],
           [
            0.6
           ],
           [
            0.6
           ],
           [
            0.6
           ],
           [
            0.6
           ],
           [
            0.6
           ],
           [
            0.6
           ],
           [
            0.6
           ],
           [
            0.6
           ],
           [
            0.6
           ],
           [
            0.6
           ],
           [
            0.6
           ],
           [
            0.6
           ],
           [
            0.6
           ],
           [
            0.6
           ],
           [
            0.6
           ],
           [
            0.6
           ],
           [
            0.6
           ],
           [
            0.6
           ],
           [
            0.6
           ],
           [
            0.6
           ],
           [
            0.6
           ],
           [
            0.6
           ],
           [
            0.6
           ],
           [
            0.6
           ],
           [
            0.6
           ],
           [
            0.6
           ],
           [
            0.6
           ],
           [
            0.6
           ],
           [
            0.6
           ],
           [
            0.6
           ],
           [
            0.6
           ],
           [
            0.6
           ],
           [
            0.6
           ],
           [
            0.6
           ],
           [
            0.6
           ],
           [
            0.6
           ],
           [
            0.6
           ],
           [
            0.6
           ],
           [
            0.6
           ],
           [
            0.6
           ],
           [
            0.6
           ],
           [
            0.6
           ],
           [
            0.6
           ],
           [
            0.6
           ],
           [
            0.6
           ],
           [
            0.6
           ],
           [
            0.6
           ],
           [
            0.6
           ],
           [
            0.6
           ],
           [
            0.6
           ],
           [
            0.6
           ],
           [
            0.6
           ],
           [
            0.6
           ],
           [
            0.6
           ],
           [
            0.6
           ],
           [
            0.6
           ],
           [
            0.6
           ],
           [
            0.6
           ],
           [
            0.6
           ],
           [
            0.6
           ],
           [
            0.6
           ],
           [
            0.6
           ],
           [
            0.6
           ],
           [
            0.6
           ],
           [
            0.6
           ],
           [
            0.6
           ],
           [
            0.6
           ],
           [
            0.6
           ],
           [
            0.6
           ],
           [
            0.6
           ],
           [
            0.6
           ],
           [
            0.6
           ],
           [
            0.6
           ],
           [
            0.6
           ],
           [
            0.6
           ],
           [
            0.6
           ],
           [
            0.6
           ],
           [
            0.6
           ],
           [
            0.6
           ],
           [
            0.6
           ],
           [
            0.6
           ],
           [
            0.6
           ],
           [
            0.6
           ],
           [
            0.6
           ],
           [
            0.6
           ],
           [
            0.6
           ],
           [
            0.6
           ],
           [
            0.6
           ],
           [
            0.6
           ],
           [
            0.6
           ],
           [
            0.6
           ],
           [
            0.6
           ],
           [
            0.6
           ],
           [
            0.6
           ],
           [
            0.6
           ],
           [
            0.6
           ],
           [
            0.6
           ],
           [
            0.6
           ],
           [
            0.6
           ],
           [
            0.6
           ],
           [
            0.6
           ],
           [
            0.6
           ],
           [
            0.6
           ],
           [
            0.6
           ],
           [
            0.6
           ],
           [
            0.6
           ],
           [
            0.6
           ],
           [
            0.6
           ],
           [
            0.6
           ],
           [
            0.6
           ],
           [
            0.6
           ],
           [
            0.6
           ],
           [
            0.6
           ],
           [
            0.6
           ],
           [
            0.6
           ],
           [
            0.6
           ],
           [
            0.6
           ],
           [
            0.6
           ],
           [
            0.6
           ],
           [
            0.6
           ],
           [
            0.6
           ],
           [
            0.6
           ],
           [
            0.6
           ],
           [
            0.6
           ],
           [
            0.6
           ],
           [
            0.6
           ],
           [
            0.6
           ],
           [
            0.6
           ],
           [
            0.6
           ],
           [
            0.6
           ],
           [
            0.6
           ],
           [
            0.6
           ],
           [
            0.6
           ],
           [
            0.6
           ],
           [
            0.6
           ],
           [
            0.6
           ],
           [
            0.6
           ],
           [
            0.6
           ],
           [
            0.6
           ],
           [
            0.6
           ],
           [
            0.6
           ],
           [
            0.6
           ],
           [
            0.6
           ],
           [
            0.6
           ],
           [
            0.6
           ],
           [
            0.6
           ],
           [
            0.6
           ],
           [
            0.6
           ],
           [
            0.6
           ],
           [
            0.6
           ],
           [
            0.6
           ],
           [
            0.6
           ],
           [
            0.6
           ],
           [
            0.6
           ],
           [
            0.6
           ],
           [
            0.6
           ],
           [
            0.6
           ],
           [
            0.6
           ],
           [
            0.6
           ],
           [
            0.6
           ],
           [
            0.6
           ],
           [
            0.6
           ],
           [
            0.6
           ],
           [
            0.6
           ],
           [
            0.6
           ],
           [
            0.6
           ],
           [
            0.6
           ],
           [
            0.6
           ],
           [
            0.6
           ],
           [
            0.6
           ],
           [
            0.6
           ],
           [
            0.6
           ],
           [
            0.6
           ],
           [
            0.6
           ],
           [
            0.6
           ],
           [
            0.6
           ],
           [
            0.6
           ],
           [
            0.6
           ],
           [
            0.6
           ],
           [
            0.6
           ],
           [
            0.6
           ],
           [
            0.6
           ],
           [
            0.6
           ],
           [
            0.6
           ],
           [
            0.6
           ],
           [
            0.6
           ],
           [
            0.6
           ],
           [
            0.6
           ],
           [
            0.6
           ],
           [
            0.6
           ],
           [
            0.6
           ],
           [
            0.6
           ],
           [
            0.6
           ],
           [
            0.6
           ],
           [
            0.6
           ],
           [
            0.6
           ],
           [
            0.6
           ],
           [
            0.6
           ],
           [
            0.6
           ],
           [
            0.6
           ],
           [
            0.6
           ],
           [
            0.6
           ],
           [
            0.6
           ],
           [
            0.6
           ],
           [
            0.6
           ],
           [
            0.6
           ],
           [
            0.6
           ],
           [
            0.6
           ],
           [
            0.6
           ],
           [
            0.6
           ],
           [
            0.6
           ],
           [
            0.6
           ],
           [
            0.6
           ],
           [
            0.6
           ],
           [
            0.6
           ],
           [
            0.6
           ],
           [
            0.6
           ],
           [
            0.6
           ],
           [
            0.6
           ],
           [
            0.6
           ],
           [
            0.6
           ],
           [
            0.6
           ],
           [
            0.6
           ],
           [
            0.6
           ],
           [
            0.6
           ],
           [
            0.6
           ],
           [
            0.6
           ],
           [
            0.6
           ],
           [
            0.6
           ],
           [
            0.6
           ],
           [
            0.6
           ],
           [
            0.6
           ],
           [
            0.6
           ],
           [
            0.6
           ],
           [
            0.6
           ],
           [
            0.6
           ],
           [
            0.6
           ],
           [
            0.6
           ],
           [
            0.6
           ],
           [
            0.6
           ],
           [
            0.6
           ],
           [
            0.6
           ],
           [
            0.6
           ],
           [
            0.6
           ],
           [
            0.6
           ],
           [
            0.6
           ],
           [
            0.6
           ],
           [
            0.6
           ],
           [
            0.6
           ],
           [
            0.6
           ],
           [
            0.6
           ],
           [
            0.6
           ],
           [
            0.6
           ],
           [
            0.6
           ],
           [
            0.6
           ],
           [
            0.6
           ],
           [
            0.6
           ],
           [
            0.6
           ],
           [
            0.6
           ],
           [
            0.6
           ],
           [
            0.6
           ],
           [
            0.6
           ],
           [
            0.6
           ],
           [
            0.6
           ],
           [
            0.6
           ],
           [
            0.6
           ],
           [
            0.6
           ],
           [
            0.6
           ],
           [
            0.6
           ],
           [
            0.6
           ],
           [
            0.6
           ],
           [
            0.6
           ],
           [
            0.6
           ],
           [
            0.6
           ],
           [
            0.6
           ],
           [
            0.6
           ],
           [
            0.6
           ],
           [
            0.6
           ],
           [
            0.6
           ],
           [
            0.6
           ],
           [
            0.6
           ],
           [
            0.6
           ],
           [
            0.6
           ],
           [
            0.6
           ],
           [
            0.6
           ],
           [
            0.6
           ],
           [
            0.6
           ],
           [
            0.6
           ],
           [
            0.6
           ],
           [
            0.6
           ],
           [
            0.6
           ],
           [
            0.6
           ],
           [
            0.6
           ],
           [
            0.6
           ],
           [
            0.6
           ],
           [
            0.6
           ],
           [
            0.6
           ],
           [
            0.6
           ],
           [
            0.6
           ],
           [
            0.6
           ],
           [
            0.6
           ],
           [
            0.6
           ],
           [
            0.6
           ],
           [
            0.6
           ],
           [
            0.6
           ],
           [
            0.6
           ],
           [
            0.6
           ],
           [
            0.6
           ],
           [
            0.6
           ],
           [
            0.6
           ],
           [
            0.6
           ],
           [
            0.6
           ],
           [
            0.6
           ],
           [
            0.6
           ],
           [
            0.6
           ],
           [
            0.6
           ],
           [
            0.6
           ],
           [
            0.6
           ],
           [
            0.6
           ],
           [
            0.6
           ],
           [
            0.6
           ],
           [
            0.6
           ],
           [
            0.6
           ],
           [
            0.6
           ],
           [
            0.6
           ],
           [
            0.6
           ],
           [
            0.6
           ],
           [
            0.6
           ],
           [
            0.6
           ],
           [
            0.6
           ],
           [
            0.6
           ],
           [
            0.6
           ],
           [
            0.6
           ],
           [
            0.6
           ],
           [
            0.6
           ],
           [
            0.6
           ],
           [
            0.6
           ],
           [
            0.6
           ],
           [
            0.6
           ],
           [
            0.6
           ],
           [
            0.6
           ],
           [
            0.6
           ],
           [
            0.6
           ],
           [
            0.6
           ],
           [
            0.6
           ],
           [
            0.6
           ],
           [
            0.6
           ],
           [
            0.6
           ],
           [
            0.6
           ],
           [
            0.6
           ],
           [
            0.6
           ],
           [
            0.6
           ],
           [
            0.6
           ],
           [
            0.6
           ],
           [
            0.6
           ],
           [
            0.6
           ],
           [
            0.6
           ],
           [
            0.6
           ],
           [
            0.6
           ],
           [
            0.6
           ],
           [
            0.6
           ],
           [
            0.6
           ],
           [
            0.6
           ],
           [
            0.6
           ],
           [
            0.6
           ],
           [
            0.6
           ],
           [
            0.6
           ],
           [
            0.6
           ],
           [
            0.6
           ],
           [
            0.6
           ],
           [
            0.6
           ],
           [
            0.6
           ],
           [
            0.6
           ],
           [
            0.6
           ],
           [
            0.6
           ],
           [
            0.6
           ],
           [
            0.6
           ],
           [
            0.6
           ],
           [
            0.6
           ],
           [
            0.6
           ],
           [
            0.6
           ],
           [
            0.6
           ],
           [
            0.6
           ],
           [
            0.6
           ],
           [
            0.6
           ],
           [
            0.6
           ],
           [
            0.6
           ]
          ],
          "size": [
           1.3,
           1.3,
           3.9000000000000004,
           1.3
          ]
         },
         "mode": "markers",
         "name": "Other",
         "type": "scatter",
         "uid": "1b6cf336-96c7-460e-910a-29972c6b35ea",
         "x": [
          "Spain",
          "Spain",
          "Spain",
          "Canada",
          "Spain",
          "Scotland"
         ],
         "y": [
          "University <br>without <br>graduating",
          "University <br>without <br>graduating",
          "Unfinished <br>Compulsory<br>Secondary <br>Education",
          "University <br>without <br>graduating",
          "University <br>without <br>graduating",
          "University <br>graduate"
         ]
        }
       ],
       "layout": {
        "xaxis": {
         "title": {
          "text": "Nationality"
         }
        }
       }
      },
      "text/html": [
       "<div id=\"a677ded1-ab7e-4cd3-ae94-32f75a77d368\" style=\"height: 525px; width: 100%;\" class=\"plotly-graph-div\"></div><script type=\"text/javascript\">require([\"plotly\"], function(Plotly) { window.PLOTLYENV=window.PLOTLYENV || {};window.PLOTLYENV.BASE_URL=\"https://plot.ly\";\n",
       "if (document.getElementById(\"a677ded1-ab7e-4cd3-ae94-32f75a77d368\")) {\n",
       "    Plotly.newPlot(\"a677ded1-ab7e-4cd3-ae94-32f75a77d368\", [{\"marker\": {\"opacity\": [[0.6], [0.6], [0.6], [0.6], [0.6], [0.6], [0.6], [0.6], [0.6], [0.6], [0.6], [0.6], [0.6], [0.6], [0.6], [0.6], [0.6], [0.6], [0.6], [0.6], [0.6], [0.6], [0.6], [0.6], [0.6], [0.6], [0.6], [0.6], [0.6], [0.6], [0.6], [0.6], [0.6], [0.6], [0.6], [0.6], [0.6], [0.6], [0.6], [0.6], [0.6], [0.6], [0.6], [0.6], [0.6], [0.6], [0.6], [0.6], [0.6], [0.6], [0.6], [0.6], [0.6], [0.6], [0.6], [0.6], [0.6], [0.6], [0.6], [0.6], [0.6], [0.6], [0.6], [0.6], [0.6], [0.6], [0.6], [0.6], [0.6], [0.6], [0.6], [0.6], [0.6], [0.6], [0.6], [0.6], [0.6], [0.6], [0.6], [0.6], [0.6], [0.6], [0.6], [0.6], [0.6], [0.6], [0.6], [0.6], [0.6], [0.6], [0.6], [0.6], [0.6], [0.6], [0.6], [0.6], [0.6], [0.6], [0.6], [0.6], [0.6], [0.6], [0.6], [0.6], [0.6], [0.6], [0.6], [0.6], [0.6], [0.6], [0.6], [0.6], [0.6], [0.6], [0.6], [0.6], [0.6], [0.6], [0.6], [0.6], [0.6], [0.6], [0.6], [0.6], [0.6], [0.6], [0.6], [0.6], [0.6], [0.6], [0.6], [0.6], [0.6], [0.6], [0.6], [0.6], [0.6], [0.6], [0.6], [0.6], [0.6], [0.6], [0.6], [0.6], [0.6], [0.6], [0.6], [0.6], [0.6], [0.6], [0.6], [0.6], [0.6], [0.6], [0.6], [0.6], [0.6], [0.6], [0.6], [0.6], [0.6], [0.6], [0.6], [0.6], [0.6], [0.6], [0.6], [0.6], [0.6], [0.6], [0.6], [0.6], [0.6], [0.6], [0.6], [0.6], [0.6], [0.6], [0.6], [0.6], [0.6], [0.6], [0.6], [0.6], [0.6], [0.6], [0.6], [0.6], [0.6], [0.6], [0.6], [0.6], [0.6], [0.6], [0.6], [0.6], [0.6], [0.6], [0.6], [0.6], [0.6], [0.6], [0.6], [0.6], [0.6], [0.6], [0.6], [0.6], [0.6], [0.6], [0.6], [0.6], [0.6], [0.6], [0.6], [0.6], [0.6], [0.6], [0.6], [0.6], [0.6], [0.6], [0.6], [0.6], [0.6], [0.6], [0.6], [0.6], [0.6], [0.6], [0.6], [0.6], [0.6], [0.6], [0.6], [0.6], [0.6], [0.6], [0.6], [0.6], [0.6], [0.6], [0.6], [0.6], [0.6], [0.6], [0.6], [0.6], [0.6], [0.6], [0.6], [0.6], [0.6], [0.6], [0.6], [0.6], [0.6], [0.6], [0.6], [0.6], [0.6], [0.6], [0.6], [0.6], [0.6], [0.6], [0.6], [0.6], [0.6], [0.6], [0.6], [0.6], [0.6], [0.6], [0.6], [0.6], [0.6], [0.6], [0.6], [0.6], [0.6], [0.6], [0.6], [0.6], [0.6], [0.6], [0.6], [0.6], [0.6], [0.6], [0.6], [0.6], [0.6], [0.6], [0.6], [0.6], [0.6], [0.6], [0.6], [0.6], [0.6], [0.6], [0.6], [0.6], [0.6], [0.6], [0.6], [0.6], [0.6], [0.6], [0.6], [0.6], [0.6], [0.6], [0.6], [0.6], [0.6], [0.6], [0.6], [0.6], [0.6], [0.6], [0.6], [0.6], [0.6], [0.6], [0.6], [0.6], [0.6], [0.6], [0.6], [0.6], [0.6], [0.6], [0.6], [0.6], [0.6], [0.6], [0.6], [0.6], [0.6], [0.6], [0.6], [0.6], [0.6], [0.6], [0.6], [0.6], [0.6], [0.6], [0.6], [0.6], [0.6], [0.6], [0.6], [0.6], [0.6], [0.6], [0.6], [0.6], [0.6], [0.6], [0.6], [0.6], [0.6], [0.6], [0.6], [0.6], [0.6], [0.6], [0.6], [0.6], [0.6], [0.6], [0.6], [0.6], [0.6], [0.6], [0.6], [0.6], [0.6], [0.6], [0.6], [0.6], [0.6], [0.6], [0.6], [0.6], [0.6], [0.6], [0.6], [0.6], [0.6], [0.6], [0.6], [0.6], [0.6], [0.6], [0.6], [0.6], [0.6], [0.6], [0.6], [0.6], [0.6], [0.6], [0.6], [0.6], [0.6], [0.6], [0.6], [0.6], [0.6], [0.6], [0.6], [0.6], [0.6], [0.6], [0.6], [0.6], [0.6], [0.6], [0.6], [0.6], [0.6], [0.6], [0.6], [0.6], [0.6], [0.6], [0.6], [0.6], [0.6], [0.6], [0.6], [0.6], [0.6], [0.6], [0.6], [0.6], [0.6], [0.6], [0.6], [0.6], [0.6], [0.6], [0.6], [0.6], [0.6], [0.6], [0.6], [0.6], [0.6], [0.6], [0.6], [0.6], [0.6], [0.6], [0.6], [0.6], [0.6], [0.6], [0.6], [0.6], [0.6], [0.6], [0.6], [0.6], [0.6], [0.6], [0.6], [0.6], [0.6], [0.6], [0.6], [0.6], [0.6], [0.6], [0.6], [0.6], [0.6], [0.6], [0.6], [0.6], [0.6], [0.6], [0.6], [0.6], [0.6], [0.6], [0.6], [0.6], [0.6], [0.6], [0.6], [0.6], [0.6], [0.6], [0.6], [0.6], [0.6], [0.6], [0.6], [0.6], [0.6], [0.6], [0.6], [0.6], [0.6], [0.6], [0.6], [0.6], [0.6], [0.6], [0.6], [0.6], [0.6], [0.6], [0.6], [0.6], [0.6], [0.6], [0.6], [0.6], [0.6], [0.6], [0.6], [0.6], [0.6], [0.6], [0.6], [0.6], [0.6], [0.6], [0.6], [0.6], [0.6], [0.6], [0.6], [0.6], [0.6], [0.6], [0.6], [0.6], [0.6], [0.6], [0.6], [0.6], [0.6], [0.6], [0.6], [0.6], [0.6], [0.6], [0.6], [0.6], [0.6], [0.6], [0.6], [0.6], [0.6], [0.6], [0.6], [0.6], [0.6], [0.6], [0.6], [0.6], [0.6], [0.6], [0.6], [0.6], [0.6], [0.6], [0.6], [0.6], [0.6], [0.6], [0.6], [0.6], [0.6], [0.6], [0.6], [0.6], [0.6], [0.6], [0.6], [0.6], [0.6], [0.6], [0.6], [0.6], [0.6], [0.6], [0.6], [0.6], [0.6], [0.6], [0.6], [0.6], [0.6], [0.6], [0.6], [0.6], [0.6], [0.6], [0.6], [0.6], [0.6], [0.6], [0.6], [0.6], [0.6], [0.6], [0.6], [0.6], [0.6], [0.6], [0.6], [0.6], [0.6], [0.6], [0.6], [0.6], [0.6], [0.6], [0.6], [0.6], [0.6], [0.6], [0.6], [0.6], [0.6], [0.6], [0.6], [0.6], [0.6], [0.6], [0.6], [0.6], [0.6], [0.6], [0.6], [0.6], [0.6], [0.6], [0.6], [0.6], [0.6], [0.6], [0.6], [0.6], [0.6], [0.6], [0.6], [0.6], [0.6], [0.6], [0.6], [0.6], [0.6], [0.6], [0.6], [0.6], [0.6], [0.6], [0.6], [0.6], [0.6], [0.6], [0.6], [0.6], [0.6], [0.6], [0.6], [0.6], [0.6], [0.6], [0.6], [0.6], [0.6], [0.6], [0.6], [0.6], [0.6], [0.6], [0.6], [0.6], [0.6], [0.6], [0.6], [0.6], [0.6], [0.6], [0.6], [0.6], [0.6], [0.6], [0.6], [0.6], [0.6], [0.6], [0.6], [0.6], [0.6], [0.6], [0.6], [0.6], [0.6], [0.6], [0.6], [0.6], [0.6], [0.6], [0.6], [0.6], [0.6], [0.6], [0.6], [0.6], [0.6], [0.6], [0.6], [0.6], [0.6], [0.6], [0.6], [0.6], [0.6], [0.6], [0.6], [0.6], [0.6], [0.6], [0.6], [0.6], [0.6], [0.6], [0.6], [0.6], [0.6], [0.6], [0.6], [0.6], [0.6], [0.6], [0.6], [0.6], [0.6], [0.6], [0.6], [0.6], [0.6], [0.6], [0.6], [0.6], [0.6], [0.6], [0.6], [0.6], [0.6], [0.6], [0.6], [0.6], [0.6], [0.6], [0.6]], \"size\": [1.3, 1.3, 1.3, 1.3, 1.3, 5.2, 1.3, 1.3, 1.3, 5.2, 2.6, 3.9000000000000004, 1.3, 1.3, 1.3, 74.10000000000001, 9.1, 6.5, 1.3, 1.3, 6.5, 2.6, 1.3, 1.3, 1.3, 3.9000000000000004, 1.3, 1.3, 1.3, 44.2, 36.4, 33.800000000000004, 3.9000000000000004, 1.3, 127.4, 32.5, 15.600000000000001, 11.700000000000001, 3.9000000000000004, 1.3, 2.6, 2.6, 1.3, 1.3, 1.3]}, \"mode\": \"markers\", \"name\": \"Male\", \"x\": [\"Spain\", \"Spain\", \"Spain\", \"Dominican Rep.\", \"Spain\", \"Spain\", \"Spain\", \"Spain\", \"Spain\", \"Spain\", \"Spain\", \"Spain\", \"Spain\", \"Spain\", \"Spain\", \"Spain\", \"Spain\", \"Spain\", \"Spain\", \"Spain\", \"Spain\", \"Spain\", \"Spain\", \"Spain\", \"Spain\", \"Spain\", \"France\", \"Spain\", \"Spain\", \"Spain\", \"Spain\", \"Spain\", \"Spain\", \"Spain\", \"Spain\", \"Spain\", \"Spain\", \"Spain\", \"Spain\", \"Spain\", \"Spain\", \"Spain\", \"Spain\", \"Spain\", \"Spain\", \"Spain\", \"Spain\", \"France\", \"Spain\", \"Spain\", \"Spain\", \"Spain\", \"Spain\", \"Spain\", \"Spain\", \"Spain\", \"Spain\", \"Spain\", \"Spain\", \"Spain\", \"Spain\", \"Niger\", \"Spain\", \"Spain\", \"Australia\", \"France\", \"Spain\", \"Spain\", \"Spain\", \"Spain\", \"Spain\", \"Spain\", \"Spain\", \"Spain\", \"Spain\", \"Spain\", \"Spain\", \"Niger\", \"Niger\", \"Spain\", \"Spain\", \"Spain\", \"Spain\", \"Spain\", \"Spain\", \"Spain\", \"Spain\", \"Spain\", \"Spain\", \"Spain\", \"Spain\", \"China\", \"Spain\", \"Spain\", \"Spain\", \"Spain\", \"Spain\", \"USA\", \"Spain\", \"Spain\", \"USA\", \"Slovakia\", \"India\", \"Italy\", \"India\", \"Unknown\", \"India\", \"India\", \"India\", \"USA\", \"USA\", \"USA\", \"India\", \"USA\", \"USA\", \"India\", \"USA\", \"USA\", \"USA\", \"USA\", \"USA\", \"USA\", \"India\", \"USA\", \"USA\", \"USA\", \"USA\", \"USA\", \"USA\", \"USA\", \"USA\", \"India\", \"India\", \"USA\", \"Unknown\", \"USA\", \"Italy\", \"Canada\", \"USA\", \"USA\", \"USA\", \"USA\", \"USA\", \"India\", \"India\", \"Unknown\", \"India\", \"England\", \"India\", \"Brazil\", \"USA\", \"USA\", \"India\", \"USA\", \"USA\", \"India\", \"USA\", \"Niger\", \"USA\", \"India\", \"Italy\", \"India\", \"USA\", \"USA\", \"India\", \"Spain\", \"USA\", \"USA\", \"USA\", \"India\", \"Albania\", \"Mexico\", \"India\", \"USA\", \"Unknown\", \"USA\", \"USA\", \"India\", \"USA\", \"USA\", \"Unknown\", \"USA\", \"USA\", \"Brazil\", \"USA\", \"USA\", \"USA\", \"Canada\", \"USA\", \"USA\", \"India\", \"USA\", \"USA\", \"USA\", \"USA\", \"India\", \"India\", \"Italy\", \"India\", \"India\", \"Argentina\", \"India\", \"USA\", \"India\", \"USA\", \"USA\", \"USA\", \"Iceland\", \"USA\", \"USA\", \"Canada\", \"USA\", \"India\", \"India\", \"USA\", \"USA\", \"India\", \"USA\", \"India\", \"India\", \"USA\", \"India\", \"USA\", \"Canada\", \"USA\", \"USA\", \"USA\", \"USA\", \"India\", \"USA\", \"France\", \"India\", \"Italy\", \"USA\", \"USA\", \"USA\", \"USA\", \"England\", \"USA\", \"Italy\", \"USA\", \"USA\", \"India\", \"India\", \"USA\", \"USA\", \"USA\", \"USA\", \"USA\", \"USA\", \"Russia\", \"India\", \"USA\", \"USA\", \"USA\", \"India\", \"Sudan\", \"USA\", \"USA\", \"India\", \"USA\", \"USA\", \"India\", \"India\", \"India\", \"England\", \"India\", \"India\", \"USA\", \"USA\", \"USA\", \"India\", \"India\", \"USA\", \"USA\", \"India\", \"USA\", \"USA\", \"USA\", \"USA\", \"Italy\", \"USA\", \"England\", \"Italy\", \"India\", \"USA\", \"India\", \"USA\", \"India\", \"USA\", \"USA\", \"USA\", \"USA\", \"Macedonia\", \"USA\", \"England\", \"USA\", \"India\", \"USA\", \"England\", \"India\", \"India\", \"USA\", \"USA\", \"USA\", \"USA\", \"Indonesia\", \"USA\", \"USA\", \"USA\", \"Canada\", \"USA\", \"USA\", \"USA\", \"USA\", \"USA\", \"USA\", \"USA\", \"USA\", \"USA\", \"France\", \"USA\", \"USA\", \"India\", \"India\", \"USA\", \"USA\", \"Venezuela\", \"USA\", \"Venezuela\", \"USA\", \"USA\", \"USA\", \"USA\", \"India\", \"USA\", \"India\", \"USA\", \"India\", \"USA\", \"India\", \"India\", \"India\", \"India\", \"India\", \"USA\", \"USA\", \"India\", \"India\", \"India\", \"USA\", \"India\", \"USA\", \"USA\", \"USA\", \"USA\", \"USA\", \"USA\"], \"y\": [\"University <br>graduate\", \"University <br>graduate\", \"University <br>graduate\", \"University <br>graduate\", \"University <br>without <br>graduating\", \"University <br>without <br>graduating\", \"University <br>graduate\", \"University <br>graduate\", \"University <br>graduate\", \"University <br>without <br>graduating\", \"University <br>graduate\", \"University <br>graduate\", \"University <br>graduate\", \"Unfinished <br>Compulsory<br>Secondary <br>Education\", \"University <br>graduate\", \"University <br>without <br>graduating\", \"University <br>without <br>graduating\", \"Vocational <br>Training\", \"University <br>without <br>graduating\", \"University <br>without <br>graduating\", \"University <br>graduate\", \"Unfinished <br>Compulsory<br>Secondary <br>Education\", \"Unfinished <br>Compulsory<br>Secondary <br>Education\", \"Unfinished <br>Compulsory<br>Secondary <br>Education\", \"Unfinished <br>Compulsory<br>Secondary <br>Education\", \"Unfinished <br>Compulsory<br>Secondary <br>Education\", \"University <br>graduate\", \"Unfinished <br>Compulsory<br>Secondary <br>Education\", \"University <br>without <br>graduating\", \"University <br>graduate\", \"University <br>graduate\", \"University <br>graduate\", \"University <br>graduate\", \"University <br>without <br>graduating\", \"University <br>graduate\", \"University <br>without <br>graduating\", \"Unfinished <br>Compulsory<br>Secondary <br>Education\", \"Unfinished <br>Compulsory<br>Secondary <br>Education\", \"Unfinished <br>Compulsory<br>Secondary <br>Education\", \"Unfinished <br>Compulsory<br>Secondary <br>Education\", \"Unfinished <br>Compulsory<br>Secondary <br>Education\", \"Unfinished <br>Compulsory<br>Secondary <br>Education\", \"Unfinished <br>Compulsory<br>Secondary <br>Education\", \"Unfinished <br>Compulsory<br>Secondary <br>Education\", \"Unfinished <br>Compulsory<br>Secondary <br>Education\", \"University <br>graduate\", \"University <br>graduate\", \"University <br>without <br>graduating\", \"Unfinished <br>Compulsory<br>Secondary <br>Education\", \"Unfinished <br>Compulsory<br>Secondary <br>Education\", \"Unfinished <br>Compulsory<br>Secondary <br>Education\", \"Unfinished <br>Compulsory<br>Secondary <br>Education\", \"Unfinished <br>Compulsory<br>Secondary <br>Education\", \"Unfinished <br>Compulsory<br>Secondary <br>Education\", \"University <br>without <br>graduating\", \"University <br>without <br>graduating\", \"University <br>graduate\", \"University <br>graduate\", \"University <br>without <br>graduating\", \"University <br>without <br>graduating\", \"University <br>without <br>graduating\", \"Unfinished <br>Compulsory<br>Secondary <br>Education\", \"University <br>graduate\", \"University <br>graduate\", \"University <br>graduate\", \"University <br>graduate\", \"Vocational <br>Training\", \"University <br>graduate\", \"University <br>without <br>graduating\", \"University <br>graduate\", \"University <br>graduate\", \"University <br>graduate\", \"University <br>graduate\", \"University <br>without <br>graduating\", \"University <br>without <br>graduating\", \"University <br>without <br>graduating\", \"Unfinished <br>Compulsory<br>Secondary <br>Education\", \"Unfinished <br>Compulsory<br>Secondary <br>Education\", \"Unfinished <br>Compulsory<br>Secondary <br>Education\", \"Unfinished <br>Compulsory<br>Secondary <br>Education\", \"Unfinished <br>Compulsory<br>Secondary <br>Education\", \"University <br>without <br>graduating\", \"University <br>graduate\", \"Vocational <br>Training\", \"University <br>without <br>graduating\", \"Unfinished <br>Compulsory<br>Secondary <br>Education\", \"Unfinished <br>Compulsory<br>Secondary <br>Education\", \"Unfinished <br>Compulsory<br>Secondary <br>Education\", \"Unfinished <br>Compulsory<br>Secondary <br>Education\", \"Unfinished <br>Compulsory<br>Secondary <br>Education\", \"Unfinished <br>Compulsory<br>Secondary <br>Education\", \"Unfinished <br>Compulsory<br>Secondary <br>Education\", \"Unfinished <br>Compulsory<br>Secondary <br>Education\", \"Unfinished <br>Compulsory<br>Secondary <br>Education\", \"Unfinished <br>Compulsory<br>Secondary <br>Education\", \"University <br>without <br>graduating\", \"University <br>without <br>graduating\", \"Vocational <br>Training\", \"University <br>without <br>graduating\", \"University <br>without <br>graduating\", \"University <br>graduate\", \"University <br>without <br>graduating\", \"University <br>graduate\", \"University <br>graduate\", \"University <br>graduate\", \"University <br>graduate\", \"University <br>graduate\", \"University <br>graduate\", \"University <br>without <br>graduating\", \"University <br>without <br>graduating\", \"University <br>graduate\", \"University <br>graduate\", \"University <br>graduate\", \"University <br>graduate\", \"University <br>graduate\", \"University <br>graduate\", \"University <br>without <br>graduating\", \"University <br>graduate\", \"University <br>graduate\", \"University <br>graduate\", \"University <br>graduate\", \"University <br>graduate\", \"Vocational <br>Training\", \"University <br>without <br>graduating\", \"University <br>without <br>graduating\", \"University <br>graduate\", \"University <br>graduate\", \"University <br>without <br>graduating\", \"Completed <br>Compulsory<br>Secondary <br>Education\", \"University <br>graduate\", \"University <br>graduate\", \"University <br>graduate\", \"Completed <br>Compulsory<br>Secondary <br>Education\", \"Vocational <br>Training\", \"University <br>without <br>graduating\", \"University <br>graduate\", \"University <br>graduate\", \"University <br>graduate\", \"University <br>graduate\", \"University <br>graduate\", \"University <br>graduate\", \"University <br>graduate\", \"Vocational <br>Training\", \"University <br>graduate\", \"Completed <br>Compulsory<br>Secondary <br>Education\", \"Primary <br>education\", \"University <br>graduate\", \"University <br>graduate\", \"University <br>graduate\", \"University <br>graduate\", \"University <br>without <br>graduating\", \"University <br>graduate\", \"University <br>without <br>graduating\", \"University <br>graduate\", \"University <br>without <br>graduating\", \"University <br>graduate\", \"Vocational <br>Training\", \"University <br>graduate\", \"University <br>without <br>graduating\", \"Completed <br>Compulsory<br>Secondary <br>Education\", \"University <br>without <br>graduating\", \"University <br>graduate\", \"University <br>graduate\", \"University <br>graduate\", \"Completed <br>Compulsory<br>Secondary <br>Education\", \"University <br>without <br>graduating\", \"University <br>without <br>graduating\", \"University <br>graduate\", \"University <br>graduate\", \"University <br>graduate\", \"University <br>graduate\", \"University <br>without <br>graduating\", \"Completed <br>Compulsory<br>Secondary <br>Education\", \"Completed <br>Compulsory<br>Secondary <br>Education\", \"University <br>without <br>graduating\", \"University <br>graduate\", \"University <br>graduate\", \"University <br>graduate\", \"University <br>graduate\", \"University <br>graduate\", \"Primary <br>education\", \"University <br>graduate\", \"University <br>graduate\", \"University <br>without <br>graduating\", \"Completed <br>Compulsory<br>Secondary <br>Education\", \"University <br>graduate\", \"University <br>graduate\", \"University <br>graduate\", \"University <br>graduate\", \"University <br>graduate\", \"University <br>graduate\", \"University <br>graduate\", \"University <br>without <br>graduating\", \"University <br>graduate\", \"University <br>graduate\", \"University <br>graduate\", \"University <br>graduate\", \"University <br>without <br>graduating\", \"University <br>graduate\", \"University <br>graduate\", \"University <br>graduate\", \"University <br>graduate\", \"University <br>graduate\", \"University <br>graduate\", \"University <br>graduate\", \"University <br>without <br>graduating\", \"University <br>graduate\", \"University <br>without <br>graduating\", \"University <br>graduate\", \"University <br>graduate\", \"University <br>graduate\", \"University <br>graduate\", \"University <br>graduate\", \"University <br>graduate\", \"University <br>graduate\", \"Vocational <br>Training\", \"University <br>graduate\", \"University <br>without <br>graduating\", \"University <br>graduate\", \"University <br>graduate\", \"University <br>graduate\", \"University <br>graduate\", \"University <br>graduate\", \"Vocational <br>Training\", \"University <br>without <br>graduating\", \"University <br>graduate\", \"University <br>graduate\", \"Completed <br>Compulsory<br>Secondary <br>Education\", \"University <br>without <br>graduating\", \"University <br>graduate\", \"University <br>graduate\", \"University <br>graduate\", \"University <br>graduate\", \"Vocational <br>Training\", \"University <br>graduate\", \"University <br>graduate\", \"University <br>without <br>graduating\", \"University <br>without <br>graduating\", \"University <br>graduate\", \"University <br>graduate\", \"University <br>graduate\", \"Vocational <br>Training\", \"University <br>graduate\", \"University <br>graduate\", \"University <br>without <br>graduating\", \"University <br>graduate\", \"University <br>graduate\", \"University <br>graduate\", \"Unfinished <br>Compulsory<br>Secondary <br>Education\", \"University <br>graduate\", \"University <br>without <br>graduating\", \"University <br>graduate\", \"University <br>without <br>graduating\", \"University <br>graduate\", \"University <br>graduate\", \"University <br>graduate\", \"University <br>graduate\", \"University <br>without <br>graduating\", \"University <br>graduate\", \"University <br>graduate\", \"University <br>graduate\", \"University <br>graduate\", \"University <br>graduate\", \"University <br>graduate\", \"University <br>graduate\", \"University <br>graduate\", \"University <br>graduate\", \"University <br>graduate\", \"Vocational <br>Training\", \"Vocational <br>Training\", \"University <br>graduate\", \"University <br>graduate\", \"University <br>graduate\", \"Vocational <br>Training\", \"University <br>graduate\", \"University <br>graduate\", \"University <br>graduate\", \"University <br>graduate\", \"Completed <br>Compulsory<br>Secondary <br>Education\", \"University <br>graduate\", \"University <br>graduate\", \"Completed <br>Compulsory<br>Secondary <br>Education\", \"University <br>graduate\", \"Completed <br>Compulsory<br>Secondary <br>Education\", \"University <br>graduate\", \"University <br>graduate\", \"University <br>graduate\", \"University <br>graduate\", \"Completed <br>Compulsory<br>Secondary <br>Education\", \"University <br>graduate\", \"University <br>graduate\", \"Primary <br>education\", \"University <br>graduate\", \"University <br>graduate\", \"University <br>graduate\", \"University <br>graduate\", \"Completed <br>Compulsory<br>Secondary <br>Education\", \"University <br>graduate\", \"University <br>graduate\", \"University <br>without <br>graduating\", \"University <br>graduate\", \"University <br>graduate\", \"University <br>graduate\", \"Vocational <br>Training\", \"University <br>graduate\", \"University <br>graduate\", \"University <br>graduate\", \"University <br>graduate\", \"University <br>graduate\", \"Unfinished <br>Compulsory<br>Secondary <br>Education\", \"University <br>graduate\", \"University <br>without <br>graduating\", \"University <br>graduate\", \"University <br>graduate\", \"University <br>graduate\", \"University <br>without <br>graduating\", \"Completed <br>Compulsory<br>Secondary <br>Education\", \"University <br>graduate\", \"Vocational <br>Training\", \"University <br>without <br>graduating\", \"Vocational <br>Training\", \"University <br>graduate\", \"University <br>graduate\", \"University <br>graduate\", \"Completed <br>Compulsory<br>Secondary <br>Education\", \"University <br>graduate\", \"University <br>graduate\", \"University <br>without <br>graduating\", \"University <br>graduate\", \"University <br>graduate\", \"University <br>without <br>graduating\", \"University <br>without <br>graduating\", \"University <br>graduate\", \"University <br>graduate\", \"University <br>without <br>graduating\", \"University <br>graduate\", \"University <br>graduate\", \"University <br>graduate\", \"University <br>graduate\", \"University <br>without <br>graduating\", \"University <br>graduate\", \"University <br>graduate\", \"University <br>graduate\", \"University <br>graduate\", \"University <br>without <br>graduating\", \"University <br>without <br>graduating\", \"Completed <br>Compulsory<br>Secondary <br>Education\", \"University <br>graduate\", \"University <br>graduate\", \"University <br>graduate\", \"Unfinished <br>Compulsory<br>Secondary <br>Education\", \"University <br>graduate\", \"University <br>without <br>graduating\", \"University <br>graduate\", \"University <br>graduate\", \"University <br>graduate\", \"University <br>graduate\", \"University <br>graduate\"], \"type\": \"scatter\", \"uid\": \"f5e54f78-ff2b-4322-b571-8f3356269ce4\"}, {\"marker\": {\"opacity\": [[0.6], [0.6], [0.6], [0.6], [0.6], [0.6], [0.6], [0.6], [0.6], [0.6], [0.6], [0.6], [0.6], [0.6], [0.6], [0.6], [0.6], [0.6], [0.6], [0.6], [0.6], [0.6], [0.6], [0.6], [0.6], [0.6], [0.6], [0.6], [0.6], [0.6], [0.6], [0.6], [0.6], [0.6], [0.6], [0.6], [0.6], [0.6], [0.6], [0.6], [0.6], [0.6], [0.6], [0.6], [0.6], [0.6], [0.6], [0.6], [0.6], [0.6], [0.6], [0.6], [0.6], [0.6], [0.6], [0.6], [0.6], [0.6], [0.6], [0.6], [0.6], [0.6], [0.6], [0.6], [0.6], [0.6], [0.6], [0.6], [0.6], [0.6], [0.6], [0.6], [0.6], [0.6], [0.6], [0.6], [0.6], [0.6], [0.6], [0.6], [0.6], [0.6], [0.6], [0.6], [0.6], [0.6], [0.6], [0.6], [0.6], [0.6], [0.6], [0.6], [0.6], [0.6], [0.6], [0.6], [0.6], [0.6], [0.6], [0.6], [0.6], [0.6], [0.6], [0.6], [0.6], [0.6], [0.6], [0.6], [0.6], [0.6], [0.6], [0.6], [0.6], [0.6], [0.6], [0.6], [0.6], [0.6], [0.6], [0.6], [0.6], [0.6], [0.6], [0.6], [0.6], [0.6], [0.6], [0.6], [0.6], [0.6], [0.6], [0.6], [0.6], [0.6], [0.6], [0.6], [0.6], [0.6], [0.6], [0.6], [0.6], [0.6], [0.6], [0.6], [0.6], [0.6], [0.6], [0.6], [0.6], [0.6], [0.6], [0.6], [0.6], [0.6], [0.6], [0.6], [0.6], [0.6], [0.6], [0.6], [0.6], [0.6], [0.6], [0.6], [0.6], [0.6], [0.6], [0.6], [0.6], [0.6], [0.6], [0.6], [0.6], [0.6], [0.6], [0.6], [0.6], [0.6], [0.6], [0.6], [0.6], [0.6], [0.6], [0.6], [0.6], [0.6], [0.6], [0.6], [0.6], [0.6], [0.6], [0.6], [0.6], [0.6], [0.6], [0.6], [0.6], [0.6], [0.6], [0.6], [0.6], [0.6], [0.6], [0.6], [0.6], [0.6], [0.6], [0.6], [0.6], [0.6], [0.6], [0.6], [0.6], [0.6], [0.6], [0.6], [0.6], [0.6], [0.6], [0.6], [0.6], [0.6], [0.6], [0.6], [0.6], [0.6], [0.6], [0.6], [0.6], [0.6], [0.6], [0.6], [0.6], [0.6], [0.6], [0.6], [0.6], [0.6], [0.6], [0.6], [0.6], [0.6], [0.6], [0.6], [0.6], [0.6], [0.6], [0.6], [0.6], [0.6], [0.6], [0.6], [0.6], [0.6], [0.6], [0.6], [0.6], [0.6], [0.6], [0.6], [0.6], [0.6], [0.6], [0.6], [0.6], [0.6], [0.6], [0.6], [0.6], [0.6], [0.6], [0.6], [0.6], [0.6], [0.6], [0.6], [0.6], [0.6], [0.6], [0.6], [0.6], [0.6], [0.6], [0.6], [0.6], [0.6], [0.6], [0.6], [0.6], [0.6], [0.6], [0.6], [0.6], [0.6], [0.6], [0.6], [0.6], [0.6], [0.6], [0.6], [0.6], [0.6], [0.6], [0.6], [0.6], [0.6], [0.6], [0.6], [0.6], [0.6], [0.6], [0.6], [0.6], [0.6], [0.6], [0.6], [0.6], [0.6], [0.6], [0.6], [0.6], [0.6], [0.6], [0.6], [0.6], [0.6], [0.6], [0.6], [0.6], [0.6], [0.6], [0.6], [0.6], [0.6], [0.6], [0.6], [0.6], [0.6], [0.6], [0.6], [0.6], [0.6], [0.6], [0.6], [0.6], [0.6], [0.6], [0.6], [0.6], [0.6], [0.6], [0.6], [0.6], [0.6], [0.6], [0.6], [0.6], [0.6], [0.6], [0.6], [0.6], [0.6], [0.6], [0.6], [0.6], [0.6], [0.6], [0.6], [0.6], [0.6], [0.6], [0.6], [0.6], [0.6], [0.6], [0.6], [0.6], [0.6], [0.6], [0.6], [0.6], [0.6], [0.6], [0.6], [0.6], [0.6], [0.6], [0.6], [0.6], [0.6], [0.6], [0.6], [0.6], [0.6], [0.6], [0.6], [0.6], [0.6], [0.6], [0.6], [0.6], [0.6], [0.6], [0.6], [0.6], [0.6], [0.6], [0.6], [0.6], [0.6], [0.6], [0.6], [0.6], [0.6], [0.6], [0.6], [0.6], [0.6], [0.6], [0.6], [0.6], [0.6], [0.6], [0.6], [0.6], [0.6], [0.6], [0.6], [0.6], [0.6], [0.6], [0.6], [0.6], [0.6], [0.6], [0.6], [0.6], [0.6], [0.6], [0.6], [0.6], [0.6], [0.6], [0.6], [0.6], [0.6], [0.6], [0.6], [0.6], [0.6], [0.6], [0.6], [0.6], [0.6], [0.6], [0.6], [0.6], [0.6], [0.6], [0.6], [0.6], [0.6], [0.6], [0.6], [0.6], [0.6], [0.6], [0.6], [0.6], [0.6], [0.6], [0.6], [0.6], [0.6], [0.6], [0.6], [0.6], [0.6], [0.6], [0.6], [0.6], [0.6], [0.6], [0.6], [0.6], [0.6], [0.6], [0.6], [0.6], [0.6], [0.6], [0.6], [0.6], [0.6], [0.6], [0.6], [0.6], [0.6], [0.6], [0.6], [0.6], [0.6], [0.6], [0.6], [0.6], [0.6], [0.6], [0.6], [0.6], [0.6], [0.6], [0.6], [0.6], [0.6], [0.6], [0.6], [0.6], [0.6], [0.6], [0.6], [0.6], [0.6], [0.6], [0.6], [0.6], [0.6], [0.6], [0.6], [0.6], [0.6], [0.6], [0.6], [0.6], [0.6], [0.6], [0.6], [0.6], [0.6], [0.6], [0.6], [0.6], [0.6], [0.6], [0.6], [0.6], [0.6], [0.6], [0.6], [0.6], [0.6], [0.6], [0.6], [0.6], [0.6], [0.6], [0.6], [0.6], [0.6], [0.6], [0.6], [0.6], [0.6], [0.6], [0.6], [0.6], [0.6], [0.6], [0.6], [0.6], [0.6], [0.6], [0.6], [0.6], [0.6], [0.6], [0.6], [0.6], [0.6], [0.6], [0.6], [0.6], [0.6], [0.6], [0.6], [0.6], [0.6], [0.6], [0.6], [0.6], [0.6], [0.6], [0.6], [0.6], [0.6], [0.6], [0.6], [0.6], [0.6], [0.6], [0.6], [0.6], [0.6], [0.6], [0.6], [0.6], [0.6], [0.6], [0.6], [0.6], [0.6], [0.6], [0.6], [0.6], [0.6], [0.6], [0.6], [0.6], [0.6], [0.6], [0.6], [0.6], [0.6], [0.6], [0.6], [0.6], [0.6], [0.6], [0.6], [0.6], [0.6], [0.6], [0.6], [0.6], [0.6], [0.6], [0.6], [0.6], [0.6], [0.6], [0.6], [0.6], [0.6], [0.6], [0.6], [0.6], [0.6], [0.6], [0.6], [0.6], [0.6], [0.6], [0.6], [0.6], [0.6], [0.6], [0.6], [0.6], [0.6], [0.6], [0.6], [0.6], [0.6], [0.6], [0.6], [0.6], [0.6], [0.6], [0.6], [0.6], [0.6], [0.6], [0.6], [0.6], [0.6], [0.6], [0.6], [0.6], [0.6], [0.6], [0.6], [0.6], [0.6], [0.6], [0.6], [0.6], [0.6], [0.6], [0.6], [0.6], [0.6], [0.6], [0.6], [0.6], [0.6], [0.6], [0.6], [0.6], [0.6], [0.6], [0.6], [0.6], [0.6], [0.6], [0.6], [0.6], [0.6], [0.6], [0.6], [0.6], [0.6], [0.6], [0.6], [0.6], [0.6], [0.6], [0.6], [0.6], [0.6], [0.6], [0.6], [0.6], [0.6], [0.6], [0.6], [0.6], [0.6], [0.6], [0.6], [0.6], [0.6], [0.6], [0.6], [0.6], [0.6], [0.6], [0.6], [0.6], [0.6], [0.6], [0.6], [0.6], [0.6], [0.6], [0.6], [0.6], [0.6], [0.6], [0.6], [0.6], [0.6], [0.6], [0.6], [0.6], [0.6], [0.6], [0.6], [0.6], [0.6], [0.6], [0.6], [0.6], [0.6], [0.6], [0.6], [0.6], [0.6], [0.6]], \"size\": [1.3, 1.3, 2.6, 1.3, 1.3, 1.3, 1.3, 1.3, 2.6, 2.6, 16.900000000000002, 1.3, 1.3, 58.5, 3.9000000000000004, 2.6, 2.6, 1.3, 1.3, 1.3, 1.3, 1.3, 1.3, 66.3, 40.300000000000004, 29.900000000000002, 13.0, 7.800000000000001, 1.3, 1.3, 127.4, 37.7, 18.2, 10.4, 7.800000000000001, 3.9000000000000004, 1.3, 10.4, 10.4, 10.4, 5.2, 5.2, 1.3, 2.6]}, \"mode\": \"markers\", \"name\": \"Female\", \"x\": [\"Spain\", \"Spain\", \"Spain\", \"Colombia\", \"Dominican Rep.\", \"Spain\", \"Spain\", \"Spain\", \"Spain\", \"Spain\", \"Spain\", \"Spain\", \"Spain\", \"Austria\", \"Chile\", \"Spain\", \"Spain\", \"Spain\", \"Spain\", \"Spain\", \"Spain\", \"Spain\", \"Spain\", \"Spain\", \"Spain\", \"Spain\", \"Spain\", \"Spain\", \"Spain\", \"Spain\", \"Spain\", \"Spain\", \"Spain\", \"Spain\", \"Spain\", \"Spain\", \"Spain\", \"Spain\", \"France\", \"France\", \"France\", \"Spain\", \"Spain\", \"Spain\", \"Spain\", \"Spain\", \"France\", \"Spain\", \"Spain\", \"Spain\", \"Spain\", \"Spain\", \"Spain\", \"Spain\", \"Spain\", \"Spain\", \"Spain\", \"Spain\", \"Spain\", \"Spain\", \"Spain\", \"Spain\", \"Spain\", \"Spain\", \"Spain\", \"Spain\", \"Spain\", \"Spain\", \"Spain\", \"France\", \"Spain\", \"Spain\", \"Spain\", \"Spain\", \"Spain\", \"Spain\", \"Spain\", \"Spain\", \"Spain\", \"Spain\", \"Spain\", \"Spain\", \"Spain\", \"Spain\", \"Spain\", \"France\", \"Spain\", \"Spain\", \"France\", \"Spain\", \"France\", \"France\", \"France\", \"France\", \"France\", \"France\", \"Spain\", \"Spain\", \"Spain\", \"Spain\", \"Spain\", \"Spain\", \"Spain\", \"Spain\", \"Spain\", \"Spain\", \"Spain\", \"Spain\", \"Spain\", \"Russia\", \"Spain\", \"Spain\", \"Spain\", \"Brazil\", \"Spain\", \"Spain\", \"France\", \"Spain\", \"Spain\", \"Spain\", \"Spain\", \"Spain\", \"Spain\", \"Spain\", \"Spain\", \"Spain\", \"Spain\", \"Spain\", \"Spain\", \"Spain\", \"Spain\", \"Spain\", \"Spain\", \"Spain\", \"Spain\", \"Spain\", \"Spain\", \"Spain\", \"Spain\", \"USA\", \"Unknown\", \"USA\", \"USA\", \"USA\", \"USA\", \"India\", \"India\", \"USA\", \"USA\", \"India\", \"India\", \"USA\", \"USA\", \"USA\", \"USA\", \"USA\", \"USA\", \"Unknown\", \"USA\", \"USA\", \"USA\", \"England\", \"Unknown\", \"Unknown\", \"India\", \"USA\", \"USA\", \"India\", \"India\", \"India\", \"USA\", \"India\", \"USA\", \"USA\", \"USA\", \"India\", \"USA\", \"USA\", \"USA\", \"Unknown\", \"USA\", \"India\", \"USA\", \"India\", \"USA\", \"Germany\", \"USA\", \"Canada\", \"USA\", \"India\", \"USA\", \"Spain\", \"India\", \"USA\", \"India\", \"USA\", \"USA\", \"USA\", \"USA\", \"USA\", \"USA\", \"India\", \"Venezuela\", \"USA\", \"USA\", \"Unknown\", \"USA\", \"USA\", \"USA\", \"Unknown\", \"USA\", \"USA\", \"USA\", \"USA\", \"USA\", \"Unknown\", \"Pakistan\", \"USA\", \"USA\", \"India\", \"India\", \"USA\", \"USA\", \"USA\", \"USA\", \"USA\", \"Canada\", \"USA\", \"USA\", \"USA\", \"USA\", \"Unknown\", \"USA\", \"USA\", \"India\", \"USA\", \"USA\", \"Unknown\", \"The Bahamas\", \"USA\", \"Unknown\", \"USA\", \"Unknown\", \"USA\", \"India\", \"USA\", \"USA\", \"USA\", \"India\", \"USA\", \"India\", \"India\", \"England\", \"Unknown\", \"India\", \"USA\", \"Unknown\", \"Italy\", \"USA\", \"USA\", \"Unknown\", \"India\", \"India\", \"USA\", \"Spain\", \"USA\", \"USA\", \"USA\", \"USA\", \"India\", \"USA\", \"USA\", \"USA\", \"India\", \"England\", \"USA\", \"India\", \"Italy\", \"Spain\", \"India\", \"Unknown\", \"USA\", \"India\", \"India\", \"USA\", \"USA\", \"India\", \"India\", \"USA\", \"USA\", \"India\", \"Unknown\", \"USA\", \"USA\", \"Unknown\", \"USA\", \"USA\", \"Ukraine\", \"USA\", \"USA\", \"New Zealand\", \"India\", \"USA\", \"USA\", \"USA\", \"USA\", \"USA\", \"USA\", \"USA\", \"India\", \"USA\", \"USA\", \"USA\", \"England\", \"USA\", \"USA\", \"USA\", \"USA\", \"USA\", \"USA\", \"Unknown\", \"Unknown\", \"Unknown\", \"USA\", \"Ireland\", \"USA\", \"USA\", \"Unknown\", \"USA\", \"USA\", \"USA\", \"USA\", \"Venezuela\", \"USA\", \"India\", \"USA\", \"USA\", \"USA\", \"Unknown\", \"USA\", \"USA\", \"USA\", \"USA\", \"Italy\", \"USA\", \"Unknown\", \"USA\", \"Unknown\", \"USA\", \"Unknown\", \"USA\", \"USA\", \"Ireland\", \"USA\", \"Canada\", \"Unknown\", \"USA\", \"USA\", \"USA\", \"USA\", \"USA\", \"USA\", \"India\", \"Unknown\", \"USA\", \"USA\", \"USA\", \"USA\", \"USA\", \"USA\", \"USA\", \"USA\", \"USA\", \"USA\", \"Cuba\", \"USA\", \"Unknown\", \"India\", \"USA\", \"USA\", \"Unknown\", \"Unknown\", \"USA\", \"India\", \"Unknown\", \"USA\", \"USA\", \"India\", \"India\", \"USA\", \"India\", \"USA\", \"USA\", \"Unknown\", \"USA\", \"India\", \"India\", \"USA\", \"India\", \"India\", \"India\", \"India\", \"USA\"], \"y\": [\"University <br>graduate\", \"University <br>without <br>graduating\", \"University <br>graduate\", \"University <br>graduate\", \"University <br>graduate\", \"University <br>graduate\", \"University <br>graduate\", \"University <br>graduate\", \"University <br>graduate\", \"Completed <br>Compulsory<br>Secondary <br>Education\", \"Completed <br>Compulsory<br>Secondary <br>Education\", \"Vocational <br>Training\", \"University <br>without <br>graduating\", \"University <br>graduate\", \"University <br>graduate\", \"University <br>graduate\", \"University <br>graduate\", \"University <br>without <br>graduating\", \"University <br>graduate\", \"University <br>without <br>graduating\", \"Completed <br>Compulsory<br>Secondary <br>Education\", \"Vocational <br>Training\", \"University <br>graduate\", \"University <br>without <br>graduating\", \"Vocational <br>Training\", \"Primary <br>education\", \"University <br>without <br>graduating\", \"University <br>graduate\", \"Unfinished <br>Compulsory<br>Secondary <br>Education\", \"Unfinished <br>Compulsory<br>Secondary <br>Education\", \"Unfinished <br>Compulsory<br>Secondary <br>Education\", \"Unfinished <br>Compulsory<br>Secondary <br>Education\", \"Unfinished <br>Compulsory<br>Secondary <br>Education\", \"Unfinished <br>Compulsory<br>Secondary <br>Education\", \"University <br>graduate\", \"University <br>graduate\", \"Vocational <br>Training\", \"University <br>graduate\", \"University <br>without <br>graduating\", \"University <br>without <br>graduating\", \"University <br>without <br>graduating\", \"University <br>graduate\", \"University <br>graduate\", \"University <br>graduate\", \"University <br>without <br>graduating\", \"University <br>graduate\", \"University <br>without <br>graduating\", \"University <br>graduate\", \"University <br>graduate\", \"University <br>graduate\", \"University <br>without <br>graduating\", \"University <br>without <br>graduating\", \"University <br>without <br>graduating\", \"University <br>without <br>graduating\", \"University <br>without <br>graduating\", \"University <br>without <br>graduating\", \"University <br>without <br>graduating\", \"University <br>without <br>graduating\", \"Unfinished <br>Compulsory<br>Secondary <br>Education\", \"Unfinished <br>Compulsory<br>Secondary <br>Education\", \"Unfinished <br>Compulsory<br>Secondary <br>Education\", \"University <br>graduate\", \"University <br>graduate\", \"Unfinished <br>Compulsory<br>Secondary <br>Education\", \"Unfinished <br>Compulsory<br>Secondary <br>Education\", \"Unfinished <br>Compulsory<br>Secondary <br>Education\", \"Unfinished <br>Compulsory<br>Secondary <br>Education\", \"Unfinished <br>Compulsory<br>Secondary <br>Education\", \"Unfinished <br>Compulsory<br>Secondary <br>Education\", \"University <br>without <br>graduating\", \"Unfinished <br>Compulsory<br>Secondary <br>Education\", \"University <br>graduate\", \"University <br>without <br>graduating\", \"University <br>graduate\", \"Vocational <br>Training\", \"University <br>graduate\", \"University <br>graduate\", \"University <br>graduate\", \"University <br>graduate\", \"University <br>graduate\", \"Vocational <br>Training\", \"University <br>graduate\", \"Vocational <br>Training\", \"Vocational <br>Training\", \"Completed <br>Compulsory<br>Secondary <br>Education\", \"University <br>without <br>graduating\", \"University <br>graduate\", \"University <br>graduate\", \"University <br>graduate\", \"Completed <br>Compulsory<br>Secondary <br>Education\", \"University <br>without <br>graduating\", \"University <br>without <br>graduating\", \"University <br>without <br>graduating\", \"University <br>without <br>graduating\", \"University <br>without <br>graduating\", \"University <br>without <br>graduating\", \"University <br>graduate\", \"University <br>graduate\", \"University <br>graduate\", \"University <br>graduate\", \"University <br>graduate\", \"University <br>graduate\", \"University <br>graduate\", \"University <br>graduate\", \"University <br>graduate\", \"University <br>graduate\", \"University <br>graduate\", \"University <br>graduate\", \"University <br>graduate\", \"University <br>without <br>graduating\", \"University <br>graduate\", \"University <br>without <br>graduating\", \"University <br>graduate\", \"University <br>graduate\", \"University <br>without <br>graduating\", \"Vocational <br>Training\", \"University <br>without <br>graduating\", \"University <br>without <br>graduating\", \"Unfinished <br>Compulsory<br>Secondary <br>Education\", \"Unfinished <br>Compulsory<br>Secondary <br>Education\", \"Unfinished <br>Compulsory<br>Secondary <br>Education\", \"University <br>graduate\", \"Completed <br>Compulsory<br>Secondary <br>Education\", \"Vocational <br>Training\", \"Unfinished <br>Compulsory<br>Secondary <br>Education\", \"Unfinished <br>Compulsory<br>Secondary <br>Education\", \"Unfinished <br>Compulsory<br>Secondary <br>Education\", \"Unfinished <br>Compulsory<br>Secondary <br>Education\", \"Unfinished <br>Compulsory<br>Secondary <br>Education\", \"Unfinished <br>Compulsory<br>Secondary <br>Education\", \"Unfinished <br>Compulsory<br>Secondary <br>Education\", \"Unfinished <br>Compulsory<br>Secondary <br>Education\", \"Unfinished <br>Compulsory<br>Secondary <br>Education\", \"Unfinished <br>Compulsory<br>Secondary <br>Education\", \"Unfinished <br>Compulsory<br>Secondary <br>Education\", \"Unfinished <br>Compulsory<br>Secondary <br>Education\", \"University <br>graduate\", \"University <br>without <br>graduating\", \"University <br>without <br>graduating\", \"University <br>without <br>graduating\", \"Vocational <br>Training\", \"University <br>graduate\", \"University <br>without <br>graduating\", \"University <br>graduate\", \"University <br>graduate\", \"University <br>graduate\", \"University <br>graduate\", \"Primary <br>education\", \"University <br>graduate\", \"University <br>graduate\", \"University <br>graduate\", \"University <br>graduate\", \"University <br>graduate\", \"University <br>without <br>graduating\", \"Completed <br>Compulsory<br>Secondary <br>Education\", \"University <br>graduate\", \"University <br>without <br>graduating\", \"Completed <br>Compulsory<br>Secondary <br>Education\", \"University <br>graduate\", \"University <br>graduate\", \"Vocational <br>Training\", \"University <br>graduate\", \"University <br>graduate\", \"University <br>graduate\", \"University <br>graduate\", \"University <br>without <br>graduating\", \"University <br>graduate\", \"University <br>graduate\", \"University <br>graduate\", \"University <br>graduate\", \"University <br>graduate\", \"University <br>graduate\", \"University <br>graduate\", \"University <br>graduate\", \"University <br>graduate\", \"University <br>graduate\", \"University <br>graduate\", \"University <br>graduate\", \"Completed <br>Compulsory<br>Secondary <br>Education\", \"University <br>without <br>graduating\", \"University <br>graduate\", \"University <br>graduate\", \"Unfinished <br>Compulsory<br>Secondary <br>Education\", \"University <br>graduate\", \"University <br>graduate\", \"University <br>graduate\", \"Primary <br>education\", \"Vocational <br>Training\", \"University <br>graduate\", \"University <br>graduate\", \"Vocational <br>Training\", \"University <br>graduate\", \"University <br>graduate\", \"Vocational <br>Training\", \"University <br>graduate\", \"University <br>graduate\", \"University <br>graduate\", \"University <br>graduate\", \"University <br>graduate\", \"Primary <br>education\", \"University <br>graduate\", \"Completed <br>Compulsory<br>Secondary <br>Education\", \"University <br>graduate\", \"Vocational <br>Training\", \"Primary <br>education\", \"University <br>without <br>graduating\", \"University <br>graduate\", \"University <br>graduate\", \"University <br>graduate\", \"Completed <br>Compulsory<br>Secondary <br>Education\", \"University <br>graduate\", \"University <br>without <br>graduating\", \"Completed <br>Compulsory<br>Secondary <br>Education\", \"University <br>graduate\", \"University <br>graduate\", \"University <br>graduate\", \"University <br>graduate\", \"University <br>graduate\", \"University <br>without <br>graduating\", \"University <br>without <br>graduating\", \"University <br>graduate\", \"University <br>without <br>graduating\", \"University <br>graduate\", \"University <br>graduate\", \"University <br>graduate\", \"Completed <br>Compulsory<br>Secondary <br>Education\", \"University <br>without <br>graduating\", \"University <br>graduate\", \"University <br>graduate\", \"University <br>graduate\", \"University <br>graduate\", \"University <br>graduate\", \"Vocational <br>Training\", \"University <br>graduate\", \"University <br>graduate\", \"University <br>graduate\", \"University <br>graduate\", \"University <br>graduate\", \"University <br>graduate\", \"University <br>graduate\", \"Completed <br>Compulsory<br>Secondary <br>Education\", \"University <br>without <br>graduating\", \"Completed <br>Compulsory<br>Secondary <br>Education\", \"University <br>graduate\", \"University <br>graduate\", \"University <br>graduate\", \"University <br>without <br>graduating\", \"University <br>graduate\", \"University <br>graduate\", \"Primary <br>education\", \"University <br>graduate\", \"Completed <br>Compulsory<br>Secondary <br>Education\", \"University <br>without <br>graduating\", \"Completed <br>Compulsory<br>Secondary <br>Education\", \"University <br>graduate\", \"Completed <br>Compulsory<br>Secondary <br>Education\", \"University <br>without <br>graduating\", \"University <br>graduate\", \"Completed <br>Compulsory<br>Secondary <br>Education\", \"University <br>graduate\", \"Primary <br>education\", \"University <br>graduate\", \"University <br>graduate\", \"University <br>graduate\", \"University <br>without <br>graduating\", \"University <br>graduate\", \"Completed <br>Compulsory<br>Secondary <br>Education\", \"University <br>without <br>graduating\", \"University <br>graduate\", \"University <br>graduate\", \"University <br>graduate\", \"University <br>without <br>graduating\", \"Completed <br>Compulsory<br>Secondary <br>Education\", \"University <br>graduate\", \"University <br>graduate\", \"University <br>without <br>graduating\", \"University <br>graduate\", \"Vocational <br>Training\", \"University <br>without <br>graduating\", \"University <br>graduate\", \"Completed <br>Compulsory<br>Secondary <br>Education\", \"Primary <br>education\", \"University <br>graduate\", \"University <br>graduate\", \"University <br>graduate\", \"University <br>graduate\", \"University <br>graduate\", \"University <br>graduate\", \"University <br>without <br>graduating\", \"University <br>graduate\", \"University <br>graduate\", \"Vocational <br>Training\", \"University <br>without <br>graduating\", \"University <br>without <br>graduating\", \"Primary <br>education\", \"University <br>without <br>graduating\", \"University <br>graduate\", \"Completed <br>Compulsory<br>Secondary <br>Education\", \"University <br>graduate\", \"University <br>without <br>graduating\", \"University <br>graduate\", \"University <br>graduate\", \"University <br>graduate\", \"University <br>graduate\", \"Vocational <br>Training\", \"Unfinished <br>Compulsory<br>Secondary <br>Education\", \"University <br>without <br>graduating\", \"University <br>graduate\", \"University <br>graduate\", \"University <br>graduate\", \"University <br>graduate\", \"Completed <br>Compulsory<br>Secondary <br>Education\", \"University <br>without <br>graduating\", \"University <br>without <br>graduating\", \"University <br>graduate\", \"University <br>graduate\", \"University <br>graduate\", \"University <br>graduate\", \"University <br>graduate\", \"Completed <br>Compulsory<br>Secondary <br>Education\", \"University <br>without <br>graduating\", \"University <br>without <br>graduating\", \"University <br>graduate\", \"University <br>without <br>graduating\", \"University <br>graduate\", \"University <br>graduate\", \"University <br>graduate\", \"Completed <br>Compulsory<br>Secondary <br>Education\", \"University <br>graduate\", \"University <br>graduate\", \"University <br>graduate\", \"University <br>graduate\", \"University <br>graduate\", \"University <br>graduate\", \"University <br>graduate\", \"University <br>graduate\", \"Completed <br>Compulsory<br>Secondary <br>Education\", \"Unfinished <br>Compulsory<br>Secondary <br>Education\", \"University <br>without <br>graduating\", \"Vocational <br>Training\", \"University <br>without <br>graduating\", \"University <br>without <br>graduating\", \"Completed <br>Compulsory<br>Secondary <br>Education\", \"University <br>without <br>graduating\", \"University <br>graduate\", \"University <br>without <br>graduating\", \"University <br>without <br>graduating\", \"Primary <br>education\", \"University <br>graduate\", \"Unfinished <br>Compulsory<br>Secondary <br>Education\", \"University <br>graduate\", \"University <br>graduate\", \"University <br>graduate\", \"University <br>without <br>graduating\", \"University <br>without <br>graduating\", \"Primary <br>education\", \"University <br>graduate\", \"University <br>graduate\", \"University <br>graduate\", \"University <br>graduate\", \"University <br>without <br>graduating\", \"University <br>graduate\", \"University <br>graduate\", \"Vocational <br>Training\", \"University <br>graduate\", \"University <br>graduate\", \"University <br>graduate\", \"University <br>graduate\", \"Completed <br>Compulsory<br>Secondary <br>Education\", \"University <br>graduate\", \"University <br>graduate\", \"University <br>graduate\", \"University <br>graduate\", \"University <br>graduate\", \"University <br>graduate\", \"Completed <br>Compulsory<br>Secondary <br>Education\", \"University <br>without <br>graduating\", \"University <br>graduate\", \"University <br>graduate\", \"University <br>graduate\", \"Vocational <br>Training\", \"University <br>graduate\", \"Vocational <br>Training\", \"University <br>graduate\", \"University <br>graduate\", \"University <br>without <br>graduating\", \"University <br>graduate\", \"University <br>without <br>graduating\", \"University <br>graduate\", \"University <br>graduate\", \"University <br>without <br>graduating\", \"University <br>graduate\", \"University <br>graduate\", \"Completed <br>Compulsory<br>Secondary <br>Education\", \"University <br>without <br>graduating\", \"University <br>graduate\", \"University <br>graduate\", \"University <br>graduate\", \"University <br>graduate\", \"University <br>graduate\", \"University <br>graduate\", \"University <br>graduate\", \"University <br>without <br>graduating\"], \"type\": \"scatter\", \"uid\": \"d14eae25-2f68-419f-937e-3c81721568cc\"}, {\"marker\": {\"opacity\": [[0.6], [0.6], [0.6], [0.6], [0.6], [0.6], [0.6], [0.6], [0.6], [0.6], [0.6], [0.6], [0.6], [0.6], [0.6], [0.6], [0.6], [0.6], [0.6], [0.6], [0.6], [0.6], [0.6], [0.6], [0.6], [0.6], [0.6], [0.6], [0.6], [0.6], [0.6], [0.6], [0.6], [0.6], [0.6], [0.6], [0.6], [0.6], [0.6], [0.6], [0.6], [0.6], [0.6], [0.6], [0.6], [0.6], [0.6], [0.6], [0.6], [0.6], [0.6], [0.6], [0.6], [0.6], [0.6], [0.6], [0.6], [0.6], [0.6], [0.6], [0.6], [0.6], [0.6], [0.6], [0.6], [0.6], [0.6], [0.6], [0.6], [0.6], [0.6], [0.6], [0.6], [0.6], [0.6], [0.6], [0.6], [0.6], [0.6], [0.6], [0.6], [0.6], [0.6], [0.6], [0.6], [0.6], [0.6], [0.6], [0.6], [0.6], [0.6], [0.6], [0.6], [0.6], [0.6], [0.6], [0.6], [0.6], [0.6], [0.6], [0.6], [0.6], [0.6], [0.6], [0.6], [0.6], [0.6], [0.6], [0.6], [0.6], [0.6], [0.6], [0.6], [0.6], [0.6], [0.6], [0.6], [0.6], [0.6], [0.6], [0.6], [0.6], [0.6], [0.6], [0.6], [0.6], [0.6], [0.6], [0.6], [0.6], [0.6], [0.6], [0.6], [0.6], [0.6], [0.6], [0.6], [0.6], [0.6], [0.6], [0.6], [0.6], [0.6], [0.6], [0.6], [0.6], [0.6], [0.6], [0.6], [0.6], [0.6], [0.6], [0.6], [0.6], [0.6], [0.6], [0.6], [0.6], [0.6], [0.6], [0.6], [0.6], [0.6], [0.6], [0.6], [0.6], [0.6], [0.6], [0.6], [0.6], [0.6], [0.6], [0.6], [0.6], [0.6], [0.6], [0.6], [0.6], [0.6], [0.6], [0.6], [0.6], [0.6], [0.6], [0.6], [0.6], [0.6], [0.6], [0.6], [0.6], [0.6], [0.6], [0.6], [0.6], [0.6], [0.6], [0.6], [0.6], [0.6], [0.6], [0.6], [0.6], [0.6], [0.6], [0.6], [0.6], [0.6], [0.6], [0.6], [0.6], [0.6], [0.6], [0.6], [0.6], [0.6], [0.6], [0.6], [0.6], [0.6], [0.6], [0.6], [0.6], [0.6], [0.6], [0.6], [0.6], [0.6], [0.6], [0.6], [0.6], [0.6], [0.6], [0.6], [0.6], [0.6], [0.6], [0.6], [0.6], [0.6], [0.6], [0.6], [0.6], [0.6], [0.6], [0.6], [0.6], [0.6], [0.6], [0.6], [0.6], [0.6], [0.6], [0.6], [0.6], [0.6], [0.6], [0.6], [0.6], [0.6], [0.6], [0.6], [0.6], [0.6], [0.6], [0.6], [0.6], [0.6], [0.6], [0.6], [0.6], [0.6], [0.6], [0.6], [0.6], [0.6], [0.6], [0.6], [0.6], [0.6], [0.6], [0.6], [0.6], [0.6], [0.6], [0.6], [0.6], [0.6], [0.6], [0.6], [0.6], [0.6], [0.6], [0.6], [0.6], [0.6], [0.6], [0.6], [0.6], [0.6], [0.6], [0.6], [0.6], [0.6], [0.6], [0.6], [0.6], [0.6], [0.6], [0.6], [0.6], [0.6], [0.6], [0.6], [0.6], [0.6], [0.6], [0.6], [0.6], [0.6], [0.6], [0.6], [0.6], [0.6], [0.6], [0.6], [0.6], [0.6], [0.6], [0.6], [0.6], [0.6], [0.6], [0.6], [0.6], [0.6], [0.6], [0.6], [0.6], [0.6], [0.6], [0.6], [0.6], [0.6], [0.6], [0.6], [0.6], [0.6], [0.6], [0.6], [0.6], [0.6], [0.6], [0.6], [0.6], [0.6], [0.6], [0.6], [0.6], [0.6], [0.6], [0.6], [0.6], [0.6], [0.6], [0.6], [0.6], [0.6], [0.6], [0.6], [0.6], [0.6], [0.6], [0.6], [0.6], [0.6], [0.6], [0.6], [0.6], [0.6], [0.6], [0.6], [0.6], [0.6], [0.6], [0.6], [0.6], [0.6], [0.6], [0.6], [0.6], [0.6], [0.6], [0.6], [0.6], [0.6], [0.6], [0.6], [0.6], [0.6], [0.6], [0.6], [0.6], [0.6], [0.6], [0.6], [0.6], [0.6], [0.6], [0.6], [0.6], [0.6], [0.6], [0.6], [0.6], [0.6], [0.6], [0.6], [0.6], [0.6], [0.6], [0.6], [0.6], [0.6], [0.6], [0.6], [0.6], [0.6], [0.6], [0.6], [0.6], [0.6], [0.6], [0.6], [0.6], [0.6], [0.6], [0.6], [0.6], [0.6], [0.6], [0.6], [0.6], [0.6], [0.6], [0.6], [0.6], [0.6], [0.6], [0.6], [0.6], [0.6], [0.6], [0.6], [0.6], [0.6], [0.6], [0.6], [0.6], [0.6], [0.6], [0.6], [0.6], [0.6], [0.6], [0.6], [0.6], [0.6], [0.6], [0.6], [0.6], [0.6], [0.6], [0.6], [0.6], [0.6], [0.6], [0.6], [0.6], [0.6], [0.6], [0.6], [0.6], [0.6], [0.6], [0.6], [0.6], [0.6], [0.6], [0.6], [0.6], [0.6], [0.6], [0.6], [0.6], [0.6], [0.6], [0.6], [0.6], [0.6], [0.6], [0.6], [0.6], [0.6], [0.6], [0.6], [0.6], [0.6], [0.6], [0.6], [0.6], [0.6], [0.6], [0.6], [0.6], [0.6], [0.6], [0.6], [0.6], [0.6], [0.6], [0.6], [0.6], [0.6], [0.6], [0.6], [0.6], [0.6], [0.6], [0.6], [0.6], [0.6], [0.6], [0.6], [0.6], [0.6], [0.6], [0.6], [0.6], [0.6], [0.6], [0.6], [0.6], [0.6], [0.6], [0.6], [0.6], [0.6], [0.6], [0.6], [0.6], [0.6], [0.6], [0.6], [0.6], [0.6], [0.6], [0.6], [0.6], [0.6], [0.6], [0.6], [0.6], [0.6], [0.6], [0.6], [0.6], [0.6], [0.6], [0.6], [0.6], [0.6], [0.6], [0.6], [0.6], [0.6], [0.6], [0.6], [0.6], [0.6], [0.6], [0.6], [0.6], [0.6], [0.6], [0.6], [0.6], [0.6], [0.6], [0.6], [0.6], [0.6], [0.6], [0.6], [0.6], [0.6], [0.6], [0.6], [0.6], [0.6], [0.6], [0.6], [0.6], [0.6], [0.6], [0.6], [0.6], [0.6], [0.6], [0.6], [0.6], [0.6], [0.6], [0.6], [0.6], [0.6], [0.6], [0.6], [0.6], [0.6], [0.6], [0.6], [0.6], [0.6], [0.6], [0.6], [0.6], [0.6], [0.6], [0.6], [0.6], [0.6], [0.6], [0.6], [0.6], [0.6], [0.6], [0.6], [0.6], [0.6], [0.6], [0.6], [0.6], [0.6], [0.6], [0.6], [0.6], [0.6], [0.6], [0.6], [0.6], [0.6], [0.6], [0.6], [0.6], [0.6], [0.6], [0.6], [0.6], [0.6], [0.6], [0.6], [0.6], [0.6], [0.6], [0.6], [0.6], [0.6], [0.6], [0.6], [0.6], [0.6], [0.6], [0.6], [0.6], [0.6], [0.6], [0.6], [0.6], [0.6], [0.6], [0.6], [0.6], [0.6], [0.6], [0.6], [0.6], [0.6], [0.6], [0.6], [0.6], [0.6], [0.6], [0.6], [0.6], [0.6], [0.6], [0.6], [0.6], [0.6], [0.6], [0.6], [0.6], [0.6], [0.6], [0.6], [0.6], [0.6], [0.6], [0.6], [0.6], [0.6], [0.6], [0.6], [0.6], [0.6], [0.6], [0.6], [0.6], [0.6], [0.6], [0.6], [0.6], [0.6], [0.6], [0.6], [0.6], [0.6], [0.6], [0.6], [0.6], [0.6], [0.6], [0.6], [0.6], [0.6], [0.6], [0.6], [0.6], [0.6], [0.6], [0.6], [0.6], [0.6], [0.6], [0.6], [0.6], [0.6], [0.6], [0.6], [0.6], [0.6], [0.6], [0.6], [0.6], [0.6], [0.6], [0.6], [0.6], [0.6], [0.6], [0.6], [0.6], [0.6], [0.6], [0.6], [0.6], [0.6]], \"size\": [1.3, 1.3, 3.9000000000000004, 1.3]}, \"mode\": \"markers\", \"name\": \"Other\", \"x\": [\"Spain\", \"Spain\", \"Spain\", \"Canada\", \"Spain\", \"Scotland\"], \"y\": [\"University <br>without <br>graduating\", \"University <br>without <br>graduating\", \"Unfinished <br>Compulsory<br>Secondary <br>Education\", \"University <br>without <br>graduating\", \"University <br>without <br>graduating\", \"University <br>graduate\"], \"type\": \"scatter\", \"uid\": \"282fcab1-12f1-4e53-8794-31e15b1f343e\"}], {\"xaxis\": {\"title\": {\"text\": \"Nationality\"}}}, {\"showLink\": false, \"linkText\": \"Export to plot.ly\", \"plotlyServerURL\": \"https://plot.ly\"}); \n",
       "}\n",
       "});</script><script type=\"text/javascript\">window.addEventListener(\"resize\", function(){if (document.getElementById(\"a677ded1-ab7e-4cd3-ae94-32f75a77d368\")) {window._Plotly.Plots.resize(document.getElementById(\"a677ded1-ab7e-4cd3-ae94-32f75a77d368\"));};})</script>"
      ],
      "text/vnd.plotly.v1+html": [
       "<div id=\"a677ded1-ab7e-4cd3-ae94-32f75a77d368\" style=\"height: 525px; width: 100%;\" class=\"plotly-graph-div\"></div><script type=\"text/javascript\">require([\"plotly\"], function(Plotly) { window.PLOTLYENV=window.PLOTLYENV || {};window.PLOTLYENV.BASE_URL=\"https://plot.ly\";\n",
       "if (document.getElementById(\"a677ded1-ab7e-4cd3-ae94-32f75a77d368\")) {\n",
       "    Plotly.newPlot(\"a677ded1-ab7e-4cd3-ae94-32f75a77d368\", [{\"marker\": {\"opacity\": [[0.6], [0.6], [0.6], [0.6], [0.6], [0.6], [0.6], [0.6], [0.6], [0.6], [0.6], [0.6], [0.6], [0.6], [0.6], [0.6], [0.6], [0.6], [0.6], [0.6], [0.6], [0.6], [0.6], [0.6], [0.6], [0.6], [0.6], [0.6], [0.6], [0.6], [0.6], [0.6], [0.6], [0.6], [0.6], [0.6], [0.6], [0.6], [0.6], [0.6], [0.6], [0.6], [0.6], [0.6], [0.6], [0.6], [0.6], [0.6], [0.6], [0.6], [0.6], [0.6], [0.6], [0.6], [0.6], [0.6], [0.6], [0.6], [0.6], [0.6], [0.6], [0.6], [0.6], [0.6], [0.6], [0.6], [0.6], [0.6], [0.6], [0.6], [0.6], [0.6], [0.6], [0.6], [0.6], [0.6], [0.6], [0.6], [0.6], [0.6], [0.6], [0.6], [0.6], [0.6], [0.6], [0.6], [0.6], [0.6], [0.6], [0.6], [0.6], [0.6], [0.6], [0.6], [0.6], [0.6], [0.6], [0.6], [0.6], [0.6], [0.6], [0.6], [0.6], [0.6], [0.6], [0.6], [0.6], [0.6], [0.6], [0.6], [0.6], [0.6], [0.6], [0.6], [0.6], [0.6], [0.6], [0.6], [0.6], [0.6], [0.6], [0.6], [0.6], [0.6], [0.6], [0.6], [0.6], [0.6], [0.6], [0.6], [0.6], [0.6], [0.6], [0.6], [0.6], [0.6], [0.6], [0.6], [0.6], [0.6], [0.6], [0.6], [0.6], [0.6], [0.6], [0.6], [0.6], [0.6], [0.6], [0.6], [0.6], [0.6], [0.6], [0.6], [0.6], [0.6], [0.6], [0.6], [0.6], [0.6], [0.6], [0.6], [0.6], [0.6], [0.6], [0.6], [0.6], [0.6], [0.6], [0.6], [0.6], [0.6], [0.6], [0.6], [0.6], [0.6], [0.6], [0.6], [0.6], [0.6], [0.6], [0.6], [0.6], [0.6], [0.6], [0.6], [0.6], [0.6], [0.6], [0.6], [0.6], [0.6], [0.6], [0.6], [0.6], [0.6], [0.6], [0.6], [0.6], [0.6], [0.6], [0.6], [0.6], [0.6], [0.6], [0.6], [0.6], [0.6], [0.6], [0.6], [0.6], [0.6], [0.6], [0.6], [0.6], [0.6], [0.6], [0.6], [0.6], [0.6], [0.6], [0.6], [0.6], [0.6], [0.6], [0.6], [0.6], [0.6], [0.6], [0.6], [0.6], [0.6], [0.6], [0.6], [0.6], [0.6], [0.6], [0.6], [0.6], [0.6], [0.6], [0.6], [0.6], [0.6], [0.6], [0.6], [0.6], [0.6], [0.6], [0.6], [0.6], [0.6], [0.6], [0.6], [0.6], [0.6], [0.6], [0.6], [0.6], [0.6], [0.6], [0.6], [0.6], [0.6], [0.6], [0.6], [0.6], [0.6], [0.6], [0.6], [0.6], [0.6], [0.6], [0.6], [0.6], [0.6], [0.6], [0.6], [0.6], [0.6], [0.6], [0.6], [0.6], [0.6], [0.6], [0.6], [0.6], [0.6], [0.6], [0.6], [0.6], [0.6], [0.6], [0.6], [0.6], [0.6], [0.6], [0.6], [0.6], [0.6], [0.6], [0.6], [0.6], [0.6], [0.6], [0.6], [0.6], [0.6], [0.6], [0.6], [0.6], [0.6], [0.6], [0.6], [0.6], [0.6], [0.6], [0.6], [0.6], [0.6], [0.6], [0.6], [0.6], [0.6], [0.6], [0.6], [0.6], [0.6], [0.6], [0.6], [0.6], [0.6], [0.6], [0.6], [0.6], [0.6], [0.6], [0.6], [0.6], [0.6], [0.6], [0.6], [0.6], [0.6], [0.6], [0.6], [0.6], [0.6], [0.6], [0.6], [0.6], [0.6], [0.6], [0.6], [0.6], [0.6], [0.6], [0.6], [0.6], [0.6], [0.6], [0.6], [0.6], [0.6], [0.6], [0.6], [0.6], [0.6], [0.6], [0.6], [0.6], [0.6], [0.6], [0.6], [0.6], [0.6], [0.6], [0.6], [0.6], [0.6], [0.6], [0.6], [0.6], [0.6], [0.6], [0.6], [0.6], [0.6], [0.6], [0.6], [0.6], [0.6], [0.6], [0.6], [0.6], [0.6], [0.6], [0.6], [0.6], [0.6], [0.6], [0.6], [0.6], [0.6], [0.6], [0.6], [0.6], [0.6], [0.6], [0.6], [0.6], [0.6], [0.6], [0.6], [0.6], [0.6], [0.6], [0.6], [0.6], [0.6], [0.6], [0.6], [0.6], [0.6], [0.6], [0.6], [0.6], [0.6], [0.6], [0.6], [0.6], [0.6], [0.6], [0.6], [0.6], [0.6], [0.6], [0.6], [0.6], [0.6], [0.6], [0.6], [0.6], [0.6], [0.6], [0.6], [0.6], [0.6], [0.6], [0.6], [0.6], [0.6], [0.6], [0.6], [0.6], [0.6], [0.6], [0.6], [0.6], [0.6], [0.6], [0.6], [0.6], [0.6], [0.6], [0.6], [0.6], [0.6], [0.6], [0.6], [0.6], [0.6], [0.6], [0.6], [0.6], [0.6], [0.6], [0.6], [0.6], [0.6], [0.6], [0.6], [0.6], [0.6], [0.6], [0.6], [0.6], [0.6], [0.6], [0.6], [0.6], [0.6], [0.6], [0.6], [0.6], [0.6], [0.6], [0.6], [0.6], [0.6], [0.6], [0.6], [0.6], [0.6], [0.6], [0.6], [0.6], [0.6], [0.6], [0.6], [0.6], [0.6], [0.6], [0.6], [0.6], [0.6], [0.6], [0.6], [0.6], [0.6], [0.6], [0.6], [0.6], [0.6], [0.6], [0.6], [0.6], [0.6], [0.6], [0.6], [0.6], [0.6], [0.6], [0.6], [0.6], [0.6], [0.6], [0.6], [0.6], [0.6], [0.6], [0.6], [0.6], [0.6], [0.6], [0.6], [0.6], [0.6], [0.6], [0.6], [0.6], [0.6], [0.6], [0.6], [0.6], [0.6], [0.6], [0.6], [0.6], [0.6], [0.6], [0.6], [0.6], [0.6], [0.6], [0.6], [0.6], [0.6], [0.6], [0.6], [0.6], [0.6], [0.6], [0.6], [0.6], [0.6], [0.6], [0.6], [0.6], [0.6], [0.6], [0.6], [0.6], [0.6], [0.6], [0.6], [0.6], [0.6], [0.6], [0.6], [0.6], [0.6], [0.6], [0.6], [0.6], [0.6], [0.6], [0.6], [0.6], [0.6], [0.6], [0.6], [0.6], [0.6], [0.6], [0.6], [0.6], [0.6], [0.6], [0.6], [0.6], [0.6], [0.6], [0.6], [0.6], [0.6], [0.6], [0.6], [0.6], [0.6], [0.6], [0.6], [0.6], [0.6], [0.6], [0.6], [0.6], [0.6], [0.6], [0.6], [0.6], [0.6], [0.6], [0.6], [0.6], [0.6], [0.6], [0.6], [0.6], [0.6], [0.6], [0.6], [0.6], [0.6], [0.6], [0.6], [0.6], [0.6], [0.6], [0.6], [0.6], [0.6], [0.6], [0.6], [0.6], [0.6], [0.6], [0.6], [0.6], [0.6], [0.6], [0.6], [0.6], [0.6], [0.6], [0.6], [0.6], [0.6], [0.6], [0.6], [0.6], [0.6], [0.6], [0.6], [0.6], [0.6], [0.6], [0.6], [0.6], [0.6], [0.6], [0.6], [0.6], [0.6], [0.6], [0.6], [0.6], [0.6], [0.6], [0.6], [0.6], [0.6], [0.6], [0.6], [0.6], [0.6], [0.6], [0.6], [0.6], [0.6], [0.6], [0.6], [0.6], [0.6], [0.6], [0.6], [0.6], [0.6], [0.6], [0.6], [0.6], [0.6], [0.6], [0.6], [0.6], [0.6], [0.6], [0.6], [0.6], [0.6], [0.6], [0.6], [0.6], [0.6], [0.6], [0.6], [0.6], [0.6], [0.6], [0.6], [0.6], [0.6], [0.6], [0.6], [0.6], [0.6], [0.6], [0.6], [0.6], [0.6], [0.6], [0.6], [0.6], [0.6], [0.6], [0.6], [0.6], [0.6], [0.6], [0.6], [0.6], [0.6], [0.6], [0.6], [0.6], [0.6], [0.6], [0.6], [0.6], [0.6], [0.6], [0.6], [0.6], [0.6], [0.6], [0.6], [0.6]], \"size\": [1.3, 1.3, 1.3, 1.3, 1.3, 5.2, 1.3, 1.3, 1.3, 5.2, 2.6, 3.9000000000000004, 1.3, 1.3, 1.3, 74.10000000000001, 9.1, 6.5, 1.3, 1.3, 6.5, 2.6, 1.3, 1.3, 1.3, 3.9000000000000004, 1.3, 1.3, 1.3, 44.2, 36.4, 33.800000000000004, 3.9000000000000004, 1.3, 127.4, 32.5, 15.600000000000001, 11.700000000000001, 3.9000000000000004, 1.3, 2.6, 2.6, 1.3, 1.3, 1.3]}, \"mode\": \"markers\", \"name\": \"Male\", \"x\": [\"Spain\", \"Spain\", \"Spain\", \"Dominican Rep.\", \"Spain\", \"Spain\", \"Spain\", \"Spain\", \"Spain\", \"Spain\", \"Spain\", \"Spain\", \"Spain\", \"Spain\", \"Spain\", \"Spain\", \"Spain\", \"Spain\", \"Spain\", \"Spain\", \"Spain\", \"Spain\", \"Spain\", \"Spain\", \"Spain\", \"Spain\", \"France\", \"Spain\", \"Spain\", \"Spain\", \"Spain\", \"Spain\", \"Spain\", \"Spain\", \"Spain\", \"Spain\", \"Spain\", \"Spain\", \"Spain\", \"Spain\", \"Spain\", \"Spain\", \"Spain\", \"Spain\", \"Spain\", \"Spain\", \"Spain\", \"France\", \"Spain\", \"Spain\", \"Spain\", \"Spain\", \"Spain\", \"Spain\", \"Spain\", \"Spain\", \"Spain\", \"Spain\", \"Spain\", \"Spain\", \"Spain\", \"Niger\", \"Spain\", \"Spain\", \"Australia\", \"France\", \"Spain\", \"Spain\", \"Spain\", \"Spain\", \"Spain\", \"Spain\", \"Spain\", \"Spain\", \"Spain\", \"Spain\", \"Spain\", \"Niger\", \"Niger\", \"Spain\", \"Spain\", \"Spain\", \"Spain\", \"Spain\", \"Spain\", \"Spain\", \"Spain\", \"Spain\", \"Spain\", \"Spain\", \"Spain\", \"China\", \"Spain\", \"Spain\", \"Spain\", \"Spain\", \"Spain\", \"USA\", \"Spain\", \"Spain\", \"USA\", \"Slovakia\", \"India\", \"Italy\", \"India\", \"Unknown\", \"India\", \"India\", \"India\", \"USA\", \"USA\", \"USA\", \"India\", \"USA\", \"USA\", \"India\", \"USA\", \"USA\", \"USA\", \"USA\", \"USA\", \"USA\", \"India\", \"USA\", \"USA\", \"USA\", \"USA\", \"USA\", \"USA\", \"USA\", \"USA\", \"India\", \"India\", \"USA\", \"Unknown\", \"USA\", \"Italy\", \"Canada\", \"USA\", \"USA\", \"USA\", \"USA\", \"USA\", \"India\", \"India\", \"Unknown\", \"India\", \"England\", \"India\", \"Brazil\", \"USA\", \"USA\", \"India\", \"USA\", \"USA\", \"India\", \"USA\", \"Niger\", \"USA\", \"India\", \"Italy\", \"India\", \"USA\", \"USA\", \"India\", \"Spain\", \"USA\", \"USA\", \"USA\", \"India\", \"Albania\", \"Mexico\", \"India\", \"USA\", \"Unknown\", \"USA\", \"USA\", \"India\", \"USA\", \"USA\", \"Unknown\", \"USA\", \"USA\", \"Brazil\", \"USA\", \"USA\", \"USA\", \"Canada\", \"USA\", \"USA\", \"India\", \"USA\", \"USA\", \"USA\", \"USA\", \"India\", \"India\", \"Italy\", \"India\", \"India\", \"Argentina\", \"India\", \"USA\", \"India\", \"USA\", \"USA\", \"USA\", \"Iceland\", \"USA\", \"USA\", \"Canada\", \"USA\", \"India\", \"India\", \"USA\", \"USA\", \"India\", \"USA\", \"India\", \"India\", \"USA\", \"India\", \"USA\", \"Canada\", \"USA\", \"USA\", \"USA\", \"USA\", \"India\", \"USA\", \"France\", \"India\", \"Italy\", \"USA\", \"USA\", \"USA\", \"USA\", \"England\", \"USA\", \"Italy\", \"USA\", \"USA\", \"India\", \"India\", \"USA\", \"USA\", \"USA\", \"USA\", \"USA\", \"USA\", \"Russia\", \"India\", \"USA\", \"USA\", \"USA\", \"India\", \"Sudan\", \"USA\", \"USA\", \"India\", \"USA\", \"USA\", \"India\", \"India\", \"India\", \"England\", \"India\", \"India\", \"USA\", \"USA\", \"USA\", \"India\", \"India\", \"USA\", \"USA\", \"India\", \"USA\", \"USA\", \"USA\", \"USA\", \"Italy\", \"USA\", \"England\", \"Italy\", \"India\", \"USA\", \"India\", \"USA\", \"India\", \"USA\", \"USA\", \"USA\", \"USA\", \"Macedonia\", \"USA\", \"England\", \"USA\", \"India\", \"USA\", \"England\", \"India\", \"India\", \"USA\", \"USA\", \"USA\", \"USA\", \"Indonesia\", \"USA\", \"USA\", \"USA\", \"Canada\", \"USA\", \"USA\", \"USA\", \"USA\", \"USA\", \"USA\", \"USA\", \"USA\", \"USA\", \"France\", \"USA\", \"USA\", \"India\", \"India\", \"USA\", \"USA\", \"Venezuela\", \"USA\", \"Venezuela\", \"USA\", \"USA\", \"USA\", \"USA\", \"India\", \"USA\", \"India\", \"USA\", \"India\", \"USA\", \"India\", \"India\", \"India\", \"India\", \"India\", \"USA\", \"USA\", \"India\", \"India\", \"India\", \"USA\", \"India\", \"USA\", \"USA\", \"USA\", \"USA\", \"USA\", \"USA\"], \"y\": [\"University <br>graduate\", \"University <br>graduate\", \"University <br>graduate\", \"University <br>graduate\", \"University <br>without <br>graduating\", \"University <br>without <br>graduating\", \"University <br>graduate\", \"University <br>graduate\", \"University <br>graduate\", \"University <br>without <br>graduating\", \"University <br>graduate\", \"University <br>graduate\", \"University <br>graduate\", \"Unfinished <br>Compulsory<br>Secondary <br>Education\", \"University <br>graduate\", \"University <br>without <br>graduating\", \"University <br>without <br>graduating\", \"Vocational <br>Training\", \"University <br>without <br>graduating\", \"University <br>without <br>graduating\", \"University <br>graduate\", \"Unfinished <br>Compulsory<br>Secondary <br>Education\", \"Unfinished <br>Compulsory<br>Secondary <br>Education\", \"Unfinished <br>Compulsory<br>Secondary <br>Education\", \"Unfinished <br>Compulsory<br>Secondary <br>Education\", \"Unfinished <br>Compulsory<br>Secondary <br>Education\", \"University <br>graduate\", \"Unfinished <br>Compulsory<br>Secondary <br>Education\", \"University <br>without <br>graduating\", \"University <br>graduate\", \"University <br>graduate\", \"University <br>graduate\", \"University <br>graduate\", \"University <br>without <br>graduating\", \"University <br>graduate\", \"University <br>without <br>graduating\", \"Unfinished <br>Compulsory<br>Secondary <br>Education\", \"Unfinished <br>Compulsory<br>Secondary <br>Education\", \"Unfinished <br>Compulsory<br>Secondary <br>Education\", \"Unfinished <br>Compulsory<br>Secondary <br>Education\", \"Unfinished <br>Compulsory<br>Secondary <br>Education\", \"Unfinished <br>Compulsory<br>Secondary <br>Education\", \"Unfinished <br>Compulsory<br>Secondary <br>Education\", \"Unfinished <br>Compulsory<br>Secondary <br>Education\", \"Unfinished <br>Compulsory<br>Secondary <br>Education\", \"University <br>graduate\", \"University <br>graduate\", \"University <br>without <br>graduating\", \"Unfinished <br>Compulsory<br>Secondary <br>Education\", \"Unfinished <br>Compulsory<br>Secondary <br>Education\", \"Unfinished <br>Compulsory<br>Secondary <br>Education\", \"Unfinished <br>Compulsory<br>Secondary <br>Education\", \"Unfinished <br>Compulsory<br>Secondary <br>Education\", \"Unfinished <br>Compulsory<br>Secondary <br>Education\", \"University <br>without <br>graduating\", \"University <br>without <br>graduating\", \"University <br>graduate\", \"University <br>graduate\", \"University <br>without <br>graduating\", \"University <br>without <br>graduating\", \"University <br>without <br>graduating\", \"Unfinished <br>Compulsory<br>Secondary <br>Education\", \"University <br>graduate\", \"University <br>graduate\", \"University <br>graduate\", \"University <br>graduate\", \"Vocational <br>Training\", \"University <br>graduate\", \"University <br>without <br>graduating\", \"University <br>graduate\", \"University <br>graduate\", \"University <br>graduate\", \"University <br>graduate\", \"University <br>without <br>graduating\", \"University <br>without <br>graduating\", \"University <br>without <br>graduating\", \"Unfinished <br>Compulsory<br>Secondary <br>Education\", \"Unfinished <br>Compulsory<br>Secondary <br>Education\", \"Unfinished <br>Compulsory<br>Secondary <br>Education\", \"Unfinished <br>Compulsory<br>Secondary <br>Education\", \"Unfinished <br>Compulsory<br>Secondary <br>Education\", \"University <br>without <br>graduating\", \"University <br>graduate\", \"Vocational <br>Training\", \"University <br>without <br>graduating\", \"Unfinished <br>Compulsory<br>Secondary <br>Education\", \"Unfinished <br>Compulsory<br>Secondary <br>Education\", \"Unfinished <br>Compulsory<br>Secondary <br>Education\", \"Unfinished <br>Compulsory<br>Secondary <br>Education\", \"Unfinished <br>Compulsory<br>Secondary <br>Education\", \"Unfinished <br>Compulsory<br>Secondary <br>Education\", \"Unfinished <br>Compulsory<br>Secondary <br>Education\", \"Unfinished <br>Compulsory<br>Secondary <br>Education\", \"Unfinished <br>Compulsory<br>Secondary <br>Education\", \"Unfinished <br>Compulsory<br>Secondary <br>Education\", \"University <br>without <br>graduating\", \"University <br>without <br>graduating\", \"Vocational <br>Training\", \"University <br>without <br>graduating\", \"University <br>without <br>graduating\", \"University <br>graduate\", \"University <br>without <br>graduating\", \"University <br>graduate\", \"University <br>graduate\", \"University <br>graduate\", \"University <br>graduate\", \"University <br>graduate\", \"University <br>graduate\", \"University <br>without <br>graduating\", \"University <br>without <br>graduating\", \"University <br>graduate\", \"University <br>graduate\", \"University <br>graduate\", \"University <br>graduate\", \"University <br>graduate\", \"University <br>graduate\", \"University <br>without <br>graduating\", \"University <br>graduate\", \"University <br>graduate\", \"University <br>graduate\", \"University <br>graduate\", \"University <br>graduate\", \"Vocational <br>Training\", \"University <br>without <br>graduating\", \"University <br>without <br>graduating\", \"University <br>graduate\", \"University <br>graduate\", \"University <br>without <br>graduating\", \"Completed <br>Compulsory<br>Secondary <br>Education\", \"University <br>graduate\", \"University <br>graduate\", \"University <br>graduate\", \"Completed <br>Compulsory<br>Secondary <br>Education\", \"Vocational <br>Training\", \"University <br>without <br>graduating\", \"University <br>graduate\", \"University <br>graduate\", \"University <br>graduate\", \"University <br>graduate\", \"University <br>graduate\", \"University <br>graduate\", \"University <br>graduate\", \"Vocational <br>Training\", \"University <br>graduate\", \"Completed <br>Compulsory<br>Secondary <br>Education\", \"Primary <br>education\", \"University <br>graduate\", \"University <br>graduate\", \"University <br>graduate\", \"University <br>graduate\", \"University <br>without <br>graduating\", \"University <br>graduate\", \"University <br>without <br>graduating\", \"University <br>graduate\", \"University <br>without <br>graduating\", \"University <br>graduate\", \"Vocational <br>Training\", \"University <br>graduate\", \"University <br>without <br>graduating\", \"Completed <br>Compulsory<br>Secondary <br>Education\", \"University <br>without <br>graduating\", \"University <br>graduate\", \"University <br>graduate\", \"University <br>graduate\", \"Completed <br>Compulsory<br>Secondary <br>Education\", \"University <br>without <br>graduating\", \"University <br>without <br>graduating\", \"University <br>graduate\", \"University <br>graduate\", \"University <br>graduate\", \"University <br>graduate\", \"University <br>without <br>graduating\", \"Completed <br>Compulsory<br>Secondary <br>Education\", \"Completed <br>Compulsory<br>Secondary <br>Education\", \"University <br>without <br>graduating\", \"University <br>graduate\", \"University <br>graduate\", \"University <br>graduate\", \"University <br>graduate\", \"University <br>graduate\", \"Primary <br>education\", \"University <br>graduate\", \"University <br>graduate\", \"University <br>without <br>graduating\", \"Completed <br>Compulsory<br>Secondary <br>Education\", \"University <br>graduate\", \"University <br>graduate\", \"University <br>graduate\", \"University <br>graduate\", \"University <br>graduate\", \"University <br>graduate\", \"University <br>graduate\", \"University <br>without <br>graduating\", \"University <br>graduate\", \"University <br>graduate\", \"University <br>graduate\", \"University <br>graduate\", \"University <br>without <br>graduating\", \"University <br>graduate\", \"University <br>graduate\", \"University <br>graduate\", \"University <br>graduate\", \"University <br>graduate\", \"University <br>graduate\", \"University <br>graduate\", \"University <br>without <br>graduating\", \"University <br>graduate\", \"University <br>without <br>graduating\", \"University <br>graduate\", \"University <br>graduate\", \"University <br>graduate\", \"University <br>graduate\", \"University <br>graduate\", \"University <br>graduate\", \"University <br>graduate\", \"Vocational <br>Training\", \"University <br>graduate\", \"University <br>without <br>graduating\", \"University <br>graduate\", \"University <br>graduate\", \"University <br>graduate\", \"University <br>graduate\", \"University <br>graduate\", \"Vocational <br>Training\", \"University <br>without <br>graduating\", \"University <br>graduate\", \"University <br>graduate\", \"Completed <br>Compulsory<br>Secondary <br>Education\", \"University <br>without <br>graduating\", \"University <br>graduate\", \"University <br>graduate\", \"University <br>graduate\", \"University <br>graduate\", \"Vocational <br>Training\", \"University <br>graduate\", \"University <br>graduate\", \"University <br>without <br>graduating\", \"University <br>without <br>graduating\", \"University <br>graduate\", \"University <br>graduate\", \"University <br>graduate\", \"Vocational <br>Training\", \"University <br>graduate\", \"University <br>graduate\", \"University <br>without <br>graduating\", \"University <br>graduate\", \"University <br>graduate\", \"University <br>graduate\", \"Unfinished <br>Compulsory<br>Secondary <br>Education\", \"University <br>graduate\", \"University <br>without <br>graduating\", \"University <br>graduate\", \"University <br>without <br>graduating\", \"University <br>graduate\", \"University <br>graduate\", \"University <br>graduate\", \"University <br>graduate\", \"University <br>without <br>graduating\", \"University <br>graduate\", \"University <br>graduate\", \"University <br>graduate\", \"University <br>graduate\", \"University <br>graduate\", \"University <br>graduate\", \"University <br>graduate\", \"University <br>graduate\", \"University <br>graduate\", \"University <br>graduate\", \"Vocational <br>Training\", \"Vocational <br>Training\", \"University <br>graduate\", \"University <br>graduate\", \"University <br>graduate\", \"Vocational <br>Training\", \"University <br>graduate\", \"University <br>graduate\", \"University <br>graduate\", \"University <br>graduate\", \"Completed <br>Compulsory<br>Secondary <br>Education\", \"University <br>graduate\", \"University <br>graduate\", \"Completed <br>Compulsory<br>Secondary <br>Education\", \"University <br>graduate\", \"Completed <br>Compulsory<br>Secondary <br>Education\", \"University <br>graduate\", \"University <br>graduate\", \"University <br>graduate\", \"University <br>graduate\", \"Completed <br>Compulsory<br>Secondary <br>Education\", \"University <br>graduate\", \"University <br>graduate\", \"Primary <br>education\", \"University <br>graduate\", \"University <br>graduate\", \"University <br>graduate\", \"University <br>graduate\", \"Completed <br>Compulsory<br>Secondary <br>Education\", \"University <br>graduate\", \"University <br>graduate\", \"University <br>without <br>graduating\", \"University <br>graduate\", \"University <br>graduate\", \"University <br>graduate\", \"Vocational <br>Training\", \"University <br>graduate\", \"University <br>graduate\", \"University <br>graduate\", \"University <br>graduate\", \"University <br>graduate\", \"Unfinished <br>Compulsory<br>Secondary <br>Education\", \"University <br>graduate\", \"University <br>without <br>graduating\", \"University <br>graduate\", \"University <br>graduate\", \"University <br>graduate\", \"University <br>without <br>graduating\", \"Completed <br>Compulsory<br>Secondary <br>Education\", \"University <br>graduate\", \"Vocational <br>Training\", \"University <br>without <br>graduating\", \"Vocational <br>Training\", \"University <br>graduate\", \"University <br>graduate\", \"University <br>graduate\", \"Completed <br>Compulsory<br>Secondary <br>Education\", \"University <br>graduate\", \"University <br>graduate\", \"University <br>without <br>graduating\", \"University <br>graduate\", \"University <br>graduate\", \"University <br>without <br>graduating\", \"University <br>without <br>graduating\", \"University <br>graduate\", \"University <br>graduate\", \"University <br>without <br>graduating\", \"University <br>graduate\", \"University <br>graduate\", \"University <br>graduate\", \"University <br>graduate\", \"University <br>without <br>graduating\", \"University <br>graduate\", \"University <br>graduate\", \"University <br>graduate\", \"University <br>graduate\", \"University <br>without <br>graduating\", \"University <br>without <br>graduating\", \"Completed <br>Compulsory<br>Secondary <br>Education\", \"University <br>graduate\", \"University <br>graduate\", \"University <br>graduate\", \"Unfinished <br>Compulsory<br>Secondary <br>Education\", \"University <br>graduate\", \"University <br>without <br>graduating\", \"University <br>graduate\", \"University <br>graduate\", \"University <br>graduate\", \"University <br>graduate\", \"University <br>graduate\"], \"type\": \"scatter\", \"uid\": \"f5e54f78-ff2b-4322-b571-8f3356269ce4\"}, {\"marker\": {\"opacity\": [[0.6], [0.6], [0.6], [0.6], [0.6], [0.6], [0.6], [0.6], [0.6], [0.6], [0.6], [0.6], [0.6], [0.6], [0.6], [0.6], [0.6], [0.6], [0.6], [0.6], [0.6], [0.6], [0.6], [0.6], [0.6], [0.6], [0.6], [0.6], [0.6], [0.6], [0.6], [0.6], [0.6], [0.6], [0.6], [0.6], [0.6], [0.6], [0.6], [0.6], [0.6], [0.6], [0.6], [0.6], [0.6], [0.6], [0.6], [0.6], [0.6], [0.6], [0.6], [0.6], [0.6], [0.6], [0.6], [0.6], [0.6], [0.6], [0.6], [0.6], [0.6], [0.6], [0.6], [0.6], [0.6], [0.6], [0.6], [0.6], [0.6], [0.6], [0.6], [0.6], [0.6], [0.6], [0.6], [0.6], [0.6], [0.6], [0.6], [0.6], [0.6], [0.6], [0.6], [0.6], [0.6], [0.6], [0.6], [0.6], [0.6], [0.6], [0.6], [0.6], [0.6], [0.6], [0.6], [0.6], [0.6], [0.6], [0.6], [0.6], [0.6], [0.6], [0.6], [0.6], [0.6], [0.6], [0.6], [0.6], [0.6], [0.6], [0.6], [0.6], [0.6], [0.6], [0.6], [0.6], [0.6], [0.6], [0.6], [0.6], [0.6], [0.6], [0.6], [0.6], [0.6], [0.6], [0.6], [0.6], [0.6], [0.6], [0.6], [0.6], [0.6], [0.6], [0.6], [0.6], [0.6], [0.6], [0.6], [0.6], [0.6], [0.6], [0.6], [0.6], [0.6], [0.6], [0.6], [0.6], [0.6], [0.6], [0.6], [0.6], [0.6], [0.6], [0.6], [0.6], [0.6], [0.6], [0.6], [0.6], [0.6], [0.6], [0.6], [0.6], [0.6], [0.6], [0.6], [0.6], [0.6], [0.6], [0.6], [0.6], [0.6], [0.6], [0.6], [0.6], [0.6], [0.6], [0.6], [0.6], [0.6], [0.6], [0.6], [0.6], [0.6], [0.6], [0.6], [0.6], [0.6], [0.6], [0.6], [0.6], [0.6], [0.6], [0.6], [0.6], [0.6], [0.6], [0.6], [0.6], [0.6], [0.6], [0.6], [0.6], [0.6], [0.6], [0.6], [0.6], [0.6], [0.6], [0.6], [0.6], [0.6], [0.6], [0.6], [0.6], [0.6], [0.6], [0.6], [0.6], [0.6], [0.6], [0.6], [0.6], [0.6], [0.6], [0.6], [0.6], [0.6], [0.6], [0.6], [0.6], [0.6], [0.6], [0.6], [0.6], [0.6], [0.6], [0.6], [0.6], [0.6], [0.6], [0.6], [0.6], [0.6], [0.6], [0.6], [0.6], [0.6], [0.6], [0.6], [0.6], [0.6], [0.6], [0.6], [0.6], [0.6], [0.6], [0.6], [0.6], [0.6], [0.6], [0.6], [0.6], [0.6], [0.6], [0.6], [0.6], [0.6], [0.6], [0.6], [0.6], [0.6], [0.6], [0.6], [0.6], [0.6], [0.6], [0.6], [0.6], [0.6], [0.6], [0.6], [0.6], [0.6], [0.6], [0.6], [0.6], [0.6], [0.6], [0.6], [0.6], [0.6], [0.6], [0.6], [0.6], [0.6], [0.6], [0.6], [0.6], [0.6], [0.6], [0.6], [0.6], [0.6], [0.6], [0.6], [0.6], [0.6], [0.6], [0.6], [0.6], [0.6], [0.6], [0.6], [0.6], [0.6], [0.6], [0.6], [0.6], [0.6], [0.6], [0.6], [0.6], [0.6], [0.6], [0.6], [0.6], [0.6], [0.6], [0.6], [0.6], [0.6], [0.6], [0.6], [0.6], [0.6], [0.6], [0.6], [0.6], [0.6], [0.6], [0.6], [0.6], [0.6], [0.6], [0.6], [0.6], [0.6], [0.6], [0.6], [0.6], [0.6], [0.6], [0.6], [0.6], [0.6], [0.6], [0.6], [0.6], [0.6], [0.6], [0.6], [0.6], [0.6], [0.6], [0.6], [0.6], [0.6], [0.6], [0.6], [0.6], [0.6], [0.6], [0.6], [0.6], [0.6], [0.6], [0.6], [0.6], [0.6], [0.6], [0.6], [0.6], [0.6], [0.6], [0.6], [0.6], [0.6], [0.6], [0.6], [0.6], [0.6], [0.6], [0.6], [0.6], [0.6], [0.6], [0.6], [0.6], [0.6], [0.6], [0.6], [0.6], [0.6], [0.6], [0.6], [0.6], [0.6], [0.6], [0.6], [0.6], [0.6], [0.6], [0.6], [0.6], [0.6], [0.6], [0.6], [0.6], [0.6], [0.6], [0.6], [0.6], [0.6], [0.6], [0.6], [0.6], [0.6], [0.6], [0.6], [0.6], [0.6], [0.6], [0.6], [0.6], [0.6], [0.6], [0.6], [0.6], [0.6], [0.6], [0.6], [0.6], [0.6], [0.6], [0.6], [0.6], [0.6], [0.6], [0.6], [0.6], [0.6], [0.6], [0.6], [0.6], [0.6], [0.6], [0.6], [0.6], [0.6], [0.6], [0.6], [0.6], [0.6], [0.6], [0.6], [0.6], [0.6], [0.6], [0.6], [0.6], [0.6], [0.6], [0.6], [0.6], [0.6], [0.6], [0.6], [0.6], [0.6], [0.6], [0.6], [0.6], [0.6], [0.6], [0.6], [0.6], [0.6], [0.6], [0.6], [0.6], [0.6], [0.6], [0.6], [0.6], [0.6], [0.6], [0.6], [0.6], [0.6], [0.6], [0.6], [0.6], [0.6], [0.6], [0.6], [0.6], [0.6], [0.6], [0.6], [0.6], [0.6], [0.6], [0.6], [0.6], [0.6], [0.6], [0.6], [0.6], [0.6], [0.6], [0.6], [0.6], [0.6], [0.6], [0.6], [0.6], [0.6], [0.6], [0.6], [0.6], [0.6], [0.6], [0.6], [0.6], [0.6], [0.6], [0.6], [0.6], [0.6], [0.6], [0.6], [0.6], [0.6], [0.6], [0.6], [0.6], [0.6], [0.6], [0.6], [0.6], [0.6], [0.6], [0.6], [0.6], [0.6], [0.6], [0.6], [0.6], [0.6], [0.6], [0.6], [0.6], [0.6], [0.6], [0.6], [0.6], [0.6], [0.6], [0.6], [0.6], [0.6], [0.6], [0.6], [0.6], [0.6], [0.6], [0.6], [0.6], [0.6], [0.6], [0.6], [0.6], [0.6], [0.6], [0.6], [0.6], [0.6], [0.6], [0.6], [0.6], [0.6], [0.6], [0.6], [0.6], [0.6], [0.6], [0.6], [0.6], [0.6], [0.6], [0.6], [0.6], [0.6], [0.6], [0.6], [0.6], [0.6], [0.6], [0.6], [0.6], [0.6], [0.6], [0.6], [0.6], [0.6], [0.6], [0.6], [0.6], [0.6], [0.6], [0.6], [0.6], [0.6], [0.6], [0.6], [0.6], [0.6], [0.6], [0.6], [0.6], [0.6], [0.6], [0.6], [0.6], [0.6], [0.6], [0.6], [0.6], [0.6], [0.6], [0.6], [0.6], [0.6], [0.6], [0.6], [0.6], [0.6], [0.6], [0.6], [0.6], [0.6], [0.6], [0.6], [0.6], [0.6], [0.6], [0.6], [0.6], [0.6], [0.6], [0.6], [0.6], [0.6], [0.6], [0.6], [0.6], [0.6], [0.6], [0.6], [0.6], [0.6], [0.6], [0.6], [0.6], [0.6], [0.6], [0.6], [0.6], [0.6], [0.6], [0.6], [0.6], [0.6], [0.6], [0.6], [0.6], [0.6], [0.6], [0.6], [0.6], [0.6], [0.6], [0.6], [0.6], [0.6], [0.6], [0.6], [0.6], [0.6], [0.6], [0.6], [0.6], [0.6], [0.6], [0.6], [0.6], [0.6], [0.6], [0.6], [0.6], [0.6], [0.6], [0.6], [0.6], [0.6], [0.6], [0.6], [0.6], [0.6], [0.6], [0.6], [0.6], [0.6], [0.6], [0.6], [0.6], [0.6], [0.6], [0.6], [0.6], [0.6], [0.6], [0.6], [0.6], [0.6], [0.6], [0.6], [0.6], [0.6], [0.6], [0.6], [0.6], [0.6], [0.6], [0.6], [0.6], [0.6], [0.6], [0.6], [0.6], [0.6], [0.6], [0.6], [0.6], [0.6], [0.6], [0.6], [0.6], [0.6], [0.6], [0.6], [0.6], [0.6], [0.6], [0.6]], \"size\": [1.3, 1.3, 2.6, 1.3, 1.3, 1.3, 1.3, 1.3, 2.6, 2.6, 16.900000000000002, 1.3, 1.3, 58.5, 3.9000000000000004, 2.6, 2.6, 1.3, 1.3, 1.3, 1.3, 1.3, 1.3, 66.3, 40.300000000000004, 29.900000000000002, 13.0, 7.800000000000001, 1.3, 1.3, 127.4, 37.7, 18.2, 10.4, 7.800000000000001, 3.9000000000000004, 1.3, 10.4, 10.4, 10.4, 5.2, 5.2, 1.3, 2.6]}, \"mode\": \"markers\", \"name\": \"Female\", \"x\": [\"Spain\", \"Spain\", \"Spain\", \"Colombia\", \"Dominican Rep.\", \"Spain\", \"Spain\", \"Spain\", \"Spain\", \"Spain\", \"Spain\", \"Spain\", \"Spain\", \"Austria\", \"Chile\", \"Spain\", \"Spain\", \"Spain\", \"Spain\", \"Spain\", \"Spain\", \"Spain\", \"Spain\", \"Spain\", \"Spain\", \"Spain\", \"Spain\", \"Spain\", \"Spain\", \"Spain\", \"Spain\", \"Spain\", \"Spain\", \"Spain\", \"Spain\", \"Spain\", \"Spain\", \"Spain\", \"France\", \"France\", \"France\", \"Spain\", \"Spain\", \"Spain\", \"Spain\", \"Spain\", \"France\", \"Spain\", \"Spain\", \"Spain\", \"Spain\", \"Spain\", \"Spain\", \"Spain\", \"Spain\", \"Spain\", \"Spain\", \"Spain\", \"Spain\", \"Spain\", \"Spain\", \"Spain\", \"Spain\", \"Spain\", \"Spain\", \"Spain\", \"Spain\", \"Spain\", \"Spain\", \"France\", \"Spain\", \"Spain\", \"Spain\", \"Spain\", \"Spain\", \"Spain\", \"Spain\", \"Spain\", \"Spain\", \"Spain\", \"Spain\", \"Spain\", \"Spain\", \"Spain\", \"Spain\", \"France\", \"Spain\", \"Spain\", \"France\", \"Spain\", \"France\", \"France\", \"France\", \"France\", \"France\", \"France\", \"Spain\", \"Spain\", \"Spain\", \"Spain\", \"Spain\", \"Spain\", \"Spain\", \"Spain\", \"Spain\", \"Spain\", \"Spain\", \"Spain\", \"Spain\", \"Russia\", \"Spain\", \"Spain\", \"Spain\", \"Brazil\", \"Spain\", \"Spain\", \"France\", \"Spain\", \"Spain\", \"Spain\", \"Spain\", \"Spain\", \"Spain\", \"Spain\", \"Spain\", \"Spain\", \"Spain\", \"Spain\", \"Spain\", \"Spain\", \"Spain\", \"Spain\", \"Spain\", \"Spain\", \"Spain\", \"Spain\", \"Spain\", \"Spain\", \"Spain\", \"USA\", \"Unknown\", \"USA\", \"USA\", \"USA\", \"USA\", \"India\", \"India\", \"USA\", \"USA\", \"India\", \"India\", \"USA\", \"USA\", \"USA\", \"USA\", \"USA\", \"USA\", \"Unknown\", \"USA\", \"USA\", \"USA\", \"England\", \"Unknown\", \"Unknown\", \"India\", \"USA\", \"USA\", \"India\", \"India\", \"India\", \"USA\", \"India\", \"USA\", \"USA\", \"USA\", \"India\", \"USA\", \"USA\", \"USA\", \"Unknown\", \"USA\", \"India\", \"USA\", \"India\", \"USA\", \"Germany\", \"USA\", \"Canada\", \"USA\", \"India\", \"USA\", \"Spain\", \"India\", \"USA\", \"India\", \"USA\", \"USA\", \"USA\", \"USA\", \"USA\", \"USA\", \"India\", \"Venezuela\", \"USA\", \"USA\", \"Unknown\", \"USA\", \"USA\", \"USA\", \"Unknown\", \"USA\", \"USA\", \"USA\", \"USA\", \"USA\", \"Unknown\", \"Pakistan\", \"USA\", \"USA\", \"India\", \"India\", \"USA\", \"USA\", \"USA\", \"USA\", \"USA\", \"Canada\", \"USA\", \"USA\", \"USA\", \"USA\", \"Unknown\", \"USA\", \"USA\", \"India\", \"USA\", \"USA\", \"Unknown\", \"The Bahamas\", \"USA\", \"Unknown\", \"USA\", \"Unknown\", \"USA\", \"India\", \"USA\", \"USA\", \"USA\", \"India\", \"USA\", \"India\", \"India\", \"England\", \"Unknown\", \"India\", \"USA\", \"Unknown\", \"Italy\", \"USA\", \"USA\", \"Unknown\", \"India\", \"India\", \"USA\", \"Spain\", \"USA\", \"USA\", \"USA\", \"USA\", \"India\", \"USA\", \"USA\", \"USA\", \"India\", \"England\", \"USA\", \"India\", \"Italy\", \"Spain\", \"India\", \"Unknown\", \"USA\", \"India\", \"India\", \"USA\", \"USA\", \"India\", \"India\", \"USA\", \"USA\", \"India\", \"Unknown\", \"USA\", \"USA\", \"Unknown\", \"USA\", \"USA\", \"Ukraine\", \"USA\", \"USA\", \"New Zealand\", \"India\", \"USA\", \"USA\", \"USA\", \"USA\", \"USA\", \"USA\", \"USA\", \"India\", \"USA\", \"USA\", \"USA\", \"England\", \"USA\", \"USA\", \"USA\", \"USA\", \"USA\", \"USA\", \"Unknown\", \"Unknown\", \"Unknown\", \"USA\", \"Ireland\", \"USA\", \"USA\", \"Unknown\", \"USA\", \"USA\", \"USA\", \"USA\", \"Venezuela\", \"USA\", \"India\", \"USA\", \"USA\", \"USA\", \"Unknown\", \"USA\", \"USA\", \"USA\", \"USA\", \"Italy\", \"USA\", \"Unknown\", \"USA\", \"Unknown\", \"USA\", \"Unknown\", \"USA\", \"USA\", \"Ireland\", \"USA\", \"Canada\", \"Unknown\", \"USA\", \"USA\", \"USA\", \"USA\", \"USA\", \"USA\", \"India\", \"Unknown\", \"USA\", \"USA\", \"USA\", \"USA\", \"USA\", \"USA\", \"USA\", \"USA\", \"USA\", \"USA\", \"Cuba\", \"USA\", \"Unknown\", \"India\", \"USA\", \"USA\", \"Unknown\", \"Unknown\", \"USA\", \"India\", \"Unknown\", \"USA\", \"USA\", \"India\", \"India\", \"USA\", \"India\", \"USA\", \"USA\", \"Unknown\", \"USA\", \"India\", \"India\", \"USA\", \"India\", \"India\", \"India\", \"India\", \"USA\"], \"y\": [\"University <br>graduate\", \"University <br>without <br>graduating\", \"University <br>graduate\", \"University <br>graduate\", \"University <br>graduate\", \"University <br>graduate\", \"University <br>graduate\", \"University <br>graduate\", \"University <br>graduate\", \"Completed <br>Compulsory<br>Secondary <br>Education\", \"Completed <br>Compulsory<br>Secondary <br>Education\", \"Vocational <br>Training\", \"University <br>without <br>graduating\", \"University <br>graduate\", \"University <br>graduate\", \"University <br>graduate\", \"University <br>graduate\", \"University <br>without <br>graduating\", \"University <br>graduate\", \"University <br>without <br>graduating\", \"Completed <br>Compulsory<br>Secondary <br>Education\", \"Vocational <br>Training\", \"University <br>graduate\", \"University <br>without <br>graduating\", \"Vocational <br>Training\", \"Primary <br>education\", \"University <br>without <br>graduating\", \"University <br>graduate\", \"Unfinished <br>Compulsory<br>Secondary <br>Education\", \"Unfinished <br>Compulsory<br>Secondary <br>Education\", \"Unfinished <br>Compulsory<br>Secondary <br>Education\", \"Unfinished <br>Compulsory<br>Secondary <br>Education\", \"Unfinished <br>Compulsory<br>Secondary <br>Education\", \"Unfinished <br>Compulsory<br>Secondary <br>Education\", \"University <br>graduate\", \"University <br>graduate\", \"Vocational <br>Training\", \"University <br>graduate\", \"University <br>without <br>graduating\", \"University <br>without <br>graduating\", \"University <br>without <br>graduating\", \"University <br>graduate\", \"University <br>graduate\", \"University <br>graduate\", \"University <br>without <br>graduating\", \"University <br>graduate\", \"University <br>without <br>graduating\", \"University <br>graduate\", \"University <br>graduate\", \"University <br>graduate\", \"University <br>without <br>graduating\", \"University <br>without <br>graduating\", \"University <br>without <br>graduating\", \"University <br>without <br>graduating\", \"University <br>without <br>graduating\", \"University <br>without <br>graduating\", \"University <br>without <br>graduating\", \"University <br>without <br>graduating\", \"Unfinished <br>Compulsory<br>Secondary <br>Education\", \"Unfinished <br>Compulsory<br>Secondary <br>Education\", \"Unfinished <br>Compulsory<br>Secondary <br>Education\", \"University <br>graduate\", \"University <br>graduate\", \"Unfinished <br>Compulsory<br>Secondary <br>Education\", \"Unfinished <br>Compulsory<br>Secondary <br>Education\", \"Unfinished <br>Compulsory<br>Secondary <br>Education\", \"Unfinished <br>Compulsory<br>Secondary <br>Education\", \"Unfinished <br>Compulsory<br>Secondary <br>Education\", \"Unfinished <br>Compulsory<br>Secondary <br>Education\", \"University <br>without <br>graduating\", \"Unfinished <br>Compulsory<br>Secondary <br>Education\", \"University <br>graduate\", \"University <br>without <br>graduating\", \"University <br>graduate\", \"Vocational <br>Training\", \"University <br>graduate\", \"University <br>graduate\", \"University <br>graduate\", \"University <br>graduate\", \"University <br>graduate\", \"Vocational <br>Training\", \"University <br>graduate\", \"Vocational <br>Training\", \"Vocational <br>Training\", \"Completed <br>Compulsory<br>Secondary <br>Education\", \"University <br>without <br>graduating\", \"University <br>graduate\", \"University <br>graduate\", \"University <br>graduate\", \"Completed <br>Compulsory<br>Secondary <br>Education\", \"University <br>without <br>graduating\", \"University <br>without <br>graduating\", \"University <br>without <br>graduating\", \"University <br>without <br>graduating\", \"University <br>without <br>graduating\", \"University <br>without <br>graduating\", \"University <br>graduate\", \"University <br>graduate\", \"University <br>graduate\", \"University <br>graduate\", \"University <br>graduate\", \"University <br>graduate\", \"University <br>graduate\", \"University <br>graduate\", \"University <br>graduate\", \"University <br>graduate\", \"University <br>graduate\", \"University <br>graduate\", \"University <br>graduate\", \"University <br>without <br>graduating\", \"University <br>graduate\", \"University <br>without <br>graduating\", \"University <br>graduate\", \"University <br>graduate\", \"University <br>without <br>graduating\", \"Vocational <br>Training\", \"University <br>without <br>graduating\", \"University <br>without <br>graduating\", \"Unfinished <br>Compulsory<br>Secondary <br>Education\", \"Unfinished <br>Compulsory<br>Secondary <br>Education\", \"Unfinished <br>Compulsory<br>Secondary <br>Education\", \"University <br>graduate\", \"Completed <br>Compulsory<br>Secondary <br>Education\", \"Vocational <br>Training\", \"Unfinished <br>Compulsory<br>Secondary <br>Education\", \"Unfinished <br>Compulsory<br>Secondary <br>Education\", \"Unfinished <br>Compulsory<br>Secondary <br>Education\", \"Unfinished <br>Compulsory<br>Secondary <br>Education\", \"Unfinished <br>Compulsory<br>Secondary <br>Education\", \"Unfinished <br>Compulsory<br>Secondary <br>Education\", \"Unfinished <br>Compulsory<br>Secondary <br>Education\", \"Unfinished <br>Compulsory<br>Secondary <br>Education\", \"Unfinished <br>Compulsory<br>Secondary <br>Education\", \"Unfinished <br>Compulsory<br>Secondary <br>Education\", \"Unfinished <br>Compulsory<br>Secondary <br>Education\", \"Unfinished <br>Compulsory<br>Secondary <br>Education\", \"University <br>graduate\", \"University <br>without <br>graduating\", \"University <br>without <br>graduating\", \"University <br>without <br>graduating\", \"Vocational <br>Training\", \"University <br>graduate\", \"University <br>without <br>graduating\", \"University <br>graduate\", \"University <br>graduate\", \"University <br>graduate\", \"University <br>graduate\", \"Primary <br>education\", \"University <br>graduate\", \"University <br>graduate\", \"University <br>graduate\", \"University <br>graduate\", \"University <br>graduate\", \"University <br>without <br>graduating\", \"Completed <br>Compulsory<br>Secondary <br>Education\", \"University <br>graduate\", \"University <br>without <br>graduating\", \"Completed <br>Compulsory<br>Secondary <br>Education\", \"University <br>graduate\", \"University <br>graduate\", \"Vocational <br>Training\", \"University <br>graduate\", \"University <br>graduate\", \"University <br>graduate\", \"University <br>graduate\", \"University <br>without <br>graduating\", \"University <br>graduate\", \"University <br>graduate\", \"University <br>graduate\", \"University <br>graduate\", \"University <br>graduate\", \"University <br>graduate\", \"University <br>graduate\", \"University <br>graduate\", \"University <br>graduate\", \"University <br>graduate\", \"University <br>graduate\", \"University <br>graduate\", \"Completed <br>Compulsory<br>Secondary <br>Education\", \"University <br>without <br>graduating\", \"University <br>graduate\", \"University <br>graduate\", \"Unfinished <br>Compulsory<br>Secondary <br>Education\", \"University <br>graduate\", \"University <br>graduate\", \"University <br>graduate\", \"Primary <br>education\", \"Vocational <br>Training\", \"University <br>graduate\", \"University <br>graduate\", \"Vocational <br>Training\", \"University <br>graduate\", \"University <br>graduate\", \"Vocational <br>Training\", \"University <br>graduate\", \"University <br>graduate\", \"University <br>graduate\", \"University <br>graduate\", \"University <br>graduate\", \"Primary <br>education\", \"University <br>graduate\", \"Completed <br>Compulsory<br>Secondary <br>Education\", \"University <br>graduate\", \"Vocational <br>Training\", \"Primary <br>education\", \"University <br>without <br>graduating\", \"University <br>graduate\", \"University <br>graduate\", \"University <br>graduate\", \"Completed <br>Compulsory<br>Secondary <br>Education\", \"University <br>graduate\", \"University <br>without <br>graduating\", \"Completed <br>Compulsory<br>Secondary <br>Education\", \"University <br>graduate\", \"University <br>graduate\", \"University <br>graduate\", \"University <br>graduate\", \"University <br>graduate\", \"University <br>without <br>graduating\", \"University <br>without <br>graduating\", \"University <br>graduate\", \"University <br>without <br>graduating\", \"University <br>graduate\", \"University <br>graduate\", \"University <br>graduate\", \"Completed <br>Compulsory<br>Secondary <br>Education\", \"University <br>without <br>graduating\", \"University <br>graduate\", \"University <br>graduate\", \"University <br>graduate\", \"University <br>graduate\", \"University <br>graduate\", \"Vocational <br>Training\", \"University <br>graduate\", \"University <br>graduate\", \"University <br>graduate\", \"University <br>graduate\", \"University <br>graduate\", \"University <br>graduate\", \"University <br>graduate\", \"Completed <br>Compulsory<br>Secondary <br>Education\", \"University <br>without <br>graduating\", \"Completed <br>Compulsory<br>Secondary <br>Education\", \"University <br>graduate\", \"University <br>graduate\", \"University <br>graduate\", \"University <br>without <br>graduating\", \"University <br>graduate\", \"University <br>graduate\", \"Primary <br>education\", \"University <br>graduate\", \"Completed <br>Compulsory<br>Secondary <br>Education\", \"University <br>without <br>graduating\", \"Completed <br>Compulsory<br>Secondary <br>Education\", \"University <br>graduate\", \"Completed <br>Compulsory<br>Secondary <br>Education\", \"University <br>without <br>graduating\", \"University <br>graduate\", \"Completed <br>Compulsory<br>Secondary <br>Education\", \"University <br>graduate\", \"Primary <br>education\", \"University <br>graduate\", \"University <br>graduate\", \"University <br>graduate\", \"University <br>without <br>graduating\", \"University <br>graduate\", \"Completed <br>Compulsory<br>Secondary <br>Education\", \"University <br>without <br>graduating\", \"University <br>graduate\", \"University <br>graduate\", \"University <br>graduate\", \"University <br>without <br>graduating\", \"Completed <br>Compulsory<br>Secondary <br>Education\", \"University <br>graduate\", \"University <br>graduate\", \"University <br>without <br>graduating\", \"University <br>graduate\", \"Vocational <br>Training\", \"University <br>without <br>graduating\", \"University <br>graduate\", \"Completed <br>Compulsory<br>Secondary <br>Education\", \"Primary <br>education\", \"University <br>graduate\", \"University <br>graduate\", \"University <br>graduate\", \"University <br>graduate\", \"University <br>graduate\", \"University <br>graduate\", \"University <br>without <br>graduating\", \"University <br>graduate\", \"University <br>graduate\", \"Vocational <br>Training\", \"University <br>without <br>graduating\", \"University <br>without <br>graduating\", \"Primary <br>education\", \"University <br>without <br>graduating\", \"University <br>graduate\", \"Completed <br>Compulsory<br>Secondary <br>Education\", \"University <br>graduate\", \"University <br>without <br>graduating\", \"University <br>graduate\", \"University <br>graduate\", \"University <br>graduate\", \"University <br>graduate\", \"Vocational <br>Training\", \"Unfinished <br>Compulsory<br>Secondary <br>Education\", \"University <br>without <br>graduating\", \"University <br>graduate\", \"University <br>graduate\", \"University <br>graduate\", \"University <br>graduate\", \"Completed <br>Compulsory<br>Secondary <br>Education\", \"University <br>without <br>graduating\", \"University <br>without <br>graduating\", \"University <br>graduate\", \"University <br>graduate\", \"University <br>graduate\", \"University <br>graduate\", \"University <br>graduate\", \"Completed <br>Compulsory<br>Secondary <br>Education\", \"University <br>without <br>graduating\", \"University <br>without <br>graduating\", \"University <br>graduate\", \"University <br>without <br>graduating\", \"University <br>graduate\", \"University <br>graduate\", \"University <br>graduate\", \"Completed <br>Compulsory<br>Secondary <br>Education\", \"University <br>graduate\", \"University <br>graduate\", \"University <br>graduate\", \"University <br>graduate\", \"University <br>graduate\", \"University <br>graduate\", \"University <br>graduate\", \"University <br>graduate\", \"Completed <br>Compulsory<br>Secondary <br>Education\", \"Unfinished <br>Compulsory<br>Secondary <br>Education\", \"University <br>without <br>graduating\", \"Vocational <br>Training\", \"University <br>without <br>graduating\", \"University <br>without <br>graduating\", \"Completed <br>Compulsory<br>Secondary <br>Education\", \"University <br>without <br>graduating\", \"University <br>graduate\", \"University <br>without <br>graduating\", \"University <br>without <br>graduating\", \"Primary <br>education\", \"University <br>graduate\", \"Unfinished <br>Compulsory<br>Secondary <br>Education\", \"University <br>graduate\", \"University <br>graduate\", \"University <br>graduate\", \"University <br>without <br>graduating\", \"University <br>without <br>graduating\", \"Primary <br>education\", \"University <br>graduate\", \"University <br>graduate\", \"University <br>graduate\", \"University <br>graduate\", \"University <br>without <br>graduating\", \"University <br>graduate\", \"University <br>graduate\", \"Vocational <br>Training\", \"University <br>graduate\", \"University <br>graduate\", \"University <br>graduate\", \"University <br>graduate\", \"Completed <br>Compulsory<br>Secondary <br>Education\", \"University <br>graduate\", \"University <br>graduate\", \"University <br>graduate\", \"University <br>graduate\", \"University <br>graduate\", \"University <br>graduate\", \"Completed <br>Compulsory<br>Secondary <br>Education\", \"University <br>without <br>graduating\", \"University <br>graduate\", \"University <br>graduate\", \"University <br>graduate\", \"Vocational <br>Training\", \"University <br>graduate\", \"Vocational <br>Training\", \"University <br>graduate\", \"University <br>graduate\", \"University <br>without <br>graduating\", \"University <br>graduate\", \"University <br>without <br>graduating\", \"University <br>graduate\", \"University <br>graduate\", \"University <br>without <br>graduating\", \"University <br>graduate\", \"University <br>graduate\", \"Completed <br>Compulsory<br>Secondary <br>Education\", \"University <br>without <br>graduating\", \"University <br>graduate\", \"University <br>graduate\", \"University <br>graduate\", \"University <br>graduate\", \"University <br>graduate\", \"University <br>graduate\", \"University <br>graduate\", \"University <br>without <br>graduating\"], \"type\": \"scatter\", \"uid\": \"d14eae25-2f68-419f-937e-3c81721568cc\"}, {\"marker\": {\"opacity\": [[0.6], [0.6], [0.6], [0.6], [0.6], [0.6], [0.6], [0.6], [0.6], [0.6], [0.6], [0.6], [0.6], [0.6], [0.6], [0.6], [0.6], [0.6], [0.6], [0.6], [0.6], [0.6], [0.6], [0.6], [0.6], [0.6], [0.6], [0.6], [0.6], [0.6], [0.6], [0.6], [0.6], [0.6], [0.6], [0.6], [0.6], [0.6], [0.6], [0.6], [0.6], [0.6], [0.6], [0.6], [0.6], [0.6], [0.6], [0.6], [0.6], [0.6], [0.6], [0.6], [0.6], [0.6], [0.6], [0.6], [0.6], [0.6], [0.6], [0.6], [0.6], [0.6], [0.6], [0.6], [0.6], [0.6], [0.6], [0.6], [0.6], [0.6], [0.6], [0.6], [0.6], [0.6], [0.6], [0.6], [0.6], [0.6], [0.6], [0.6], [0.6], [0.6], [0.6], [0.6], [0.6], [0.6], [0.6], [0.6], [0.6], [0.6], [0.6], [0.6], [0.6], [0.6], [0.6], [0.6], [0.6], [0.6], [0.6], [0.6], [0.6], [0.6], [0.6], [0.6], [0.6], [0.6], [0.6], [0.6], [0.6], [0.6], [0.6], [0.6], [0.6], [0.6], [0.6], [0.6], [0.6], [0.6], [0.6], [0.6], [0.6], [0.6], [0.6], [0.6], [0.6], [0.6], [0.6], [0.6], [0.6], [0.6], [0.6], [0.6], [0.6], [0.6], [0.6], [0.6], [0.6], [0.6], [0.6], [0.6], [0.6], [0.6], [0.6], [0.6], [0.6], [0.6], [0.6], [0.6], [0.6], [0.6], [0.6], [0.6], [0.6], [0.6], [0.6], [0.6], [0.6], [0.6], [0.6], [0.6], [0.6], [0.6], [0.6], [0.6], [0.6], [0.6], [0.6], [0.6], [0.6], [0.6], [0.6], [0.6], [0.6], [0.6], [0.6], [0.6], [0.6], [0.6], [0.6], [0.6], [0.6], [0.6], [0.6], [0.6], [0.6], [0.6], [0.6], [0.6], [0.6], [0.6], [0.6], [0.6], [0.6], [0.6], [0.6], [0.6], [0.6], [0.6], [0.6], [0.6], [0.6], [0.6], [0.6], [0.6], [0.6], [0.6], [0.6], [0.6], [0.6], [0.6], [0.6], [0.6], [0.6], [0.6], [0.6], [0.6], [0.6], [0.6], [0.6], [0.6], [0.6], [0.6], [0.6], [0.6], [0.6], [0.6], [0.6], [0.6], [0.6], [0.6], [0.6], [0.6], [0.6], [0.6], [0.6], [0.6], [0.6], [0.6], [0.6], [0.6], [0.6], [0.6], [0.6], [0.6], [0.6], [0.6], [0.6], [0.6], [0.6], [0.6], [0.6], [0.6], [0.6], [0.6], [0.6], [0.6], [0.6], [0.6], [0.6], [0.6], [0.6], [0.6], [0.6], [0.6], [0.6], [0.6], [0.6], [0.6], [0.6], [0.6], [0.6], [0.6], [0.6], [0.6], [0.6], [0.6], [0.6], [0.6], [0.6], [0.6], [0.6], [0.6], [0.6], [0.6], [0.6], [0.6], [0.6], [0.6], [0.6], [0.6], [0.6], [0.6], [0.6], [0.6], [0.6], [0.6], [0.6], [0.6], [0.6], [0.6], [0.6], [0.6], [0.6], [0.6], [0.6], [0.6], [0.6], [0.6], [0.6], [0.6], [0.6], [0.6], [0.6], [0.6], [0.6], [0.6], [0.6], [0.6], [0.6], [0.6], [0.6], [0.6], [0.6], [0.6], [0.6], [0.6], [0.6], [0.6], [0.6], [0.6], [0.6], [0.6], [0.6], [0.6], [0.6], [0.6], [0.6], [0.6], [0.6], [0.6], [0.6], [0.6], [0.6], [0.6], [0.6], [0.6], [0.6], [0.6], [0.6], [0.6], [0.6], [0.6], [0.6], [0.6], [0.6], [0.6], [0.6], [0.6], [0.6], [0.6], [0.6], [0.6], [0.6], [0.6], [0.6], [0.6], [0.6], [0.6], [0.6], [0.6], [0.6], [0.6], [0.6], [0.6], [0.6], [0.6], [0.6], [0.6], [0.6], [0.6], [0.6], [0.6], [0.6], [0.6], [0.6], [0.6], [0.6], [0.6], [0.6], [0.6], [0.6], [0.6], [0.6], [0.6], [0.6], [0.6], [0.6], [0.6], [0.6], [0.6], [0.6], [0.6], [0.6], [0.6], [0.6], [0.6], [0.6], [0.6], [0.6], [0.6], [0.6], [0.6], [0.6], [0.6], [0.6], [0.6], [0.6], [0.6], [0.6], [0.6], [0.6], [0.6], [0.6], [0.6], [0.6], [0.6], [0.6], [0.6], [0.6], [0.6], [0.6], [0.6], [0.6], [0.6], [0.6], [0.6], [0.6], [0.6], [0.6], [0.6], [0.6], [0.6], [0.6], [0.6], [0.6], [0.6], [0.6], [0.6], [0.6], [0.6], [0.6], [0.6], [0.6], [0.6], [0.6], [0.6], [0.6], [0.6], [0.6], [0.6], [0.6], [0.6], [0.6], [0.6], [0.6], [0.6], [0.6], [0.6], [0.6], [0.6], [0.6], [0.6], [0.6], [0.6], [0.6], [0.6], [0.6], [0.6], [0.6], [0.6], [0.6], [0.6], [0.6], [0.6], [0.6], [0.6], [0.6], [0.6], [0.6], [0.6], [0.6], [0.6], [0.6], [0.6], [0.6], [0.6], [0.6], [0.6], [0.6], [0.6], [0.6], [0.6], [0.6], [0.6], [0.6], [0.6], [0.6], [0.6], [0.6], [0.6], [0.6], [0.6], [0.6], [0.6], [0.6], [0.6], [0.6], [0.6], [0.6], [0.6], [0.6], [0.6], [0.6], [0.6], [0.6], [0.6], [0.6], [0.6], [0.6], [0.6], [0.6], [0.6], [0.6], [0.6], [0.6], [0.6], [0.6], [0.6], [0.6], [0.6], [0.6], [0.6], [0.6], [0.6], [0.6], [0.6], [0.6], [0.6], [0.6], [0.6], [0.6], [0.6], [0.6], [0.6], [0.6], [0.6], [0.6], [0.6], [0.6], [0.6], [0.6], [0.6], [0.6], [0.6], [0.6], [0.6], [0.6], [0.6], [0.6], [0.6], [0.6], [0.6], [0.6], [0.6], [0.6], [0.6], [0.6], [0.6], [0.6], [0.6], [0.6], [0.6], [0.6], [0.6], [0.6], [0.6], [0.6], [0.6], [0.6], [0.6], [0.6], [0.6], [0.6], [0.6], [0.6], [0.6], [0.6], [0.6], [0.6], [0.6], [0.6], [0.6], [0.6], [0.6], [0.6], [0.6], [0.6], [0.6], [0.6], [0.6], [0.6], [0.6], [0.6], [0.6], [0.6], [0.6], [0.6], [0.6], [0.6], [0.6], [0.6], [0.6], [0.6], [0.6], [0.6], [0.6], [0.6], [0.6], [0.6], [0.6], [0.6], [0.6], [0.6], [0.6], [0.6], [0.6], [0.6], [0.6], [0.6], [0.6], [0.6], [0.6], [0.6], [0.6], [0.6], [0.6], [0.6], [0.6], [0.6], [0.6], [0.6], [0.6], [0.6], [0.6], [0.6], [0.6], [0.6], [0.6], [0.6], [0.6], [0.6], [0.6], [0.6], [0.6], [0.6], [0.6], [0.6], [0.6], [0.6], [0.6], [0.6], [0.6], [0.6], [0.6], [0.6], [0.6], [0.6], [0.6], [0.6], [0.6], [0.6], [0.6], [0.6], [0.6], [0.6], [0.6], [0.6], [0.6], [0.6], [0.6], [0.6], [0.6], [0.6], [0.6], [0.6], [0.6], [0.6], [0.6], [0.6], [0.6], [0.6], [0.6], [0.6], [0.6], [0.6], [0.6], [0.6], [0.6], [0.6], [0.6], [0.6], [0.6], [0.6], [0.6], [0.6], [0.6], [0.6], [0.6], [0.6], [0.6], [0.6], [0.6], [0.6], [0.6], [0.6], [0.6], [0.6], [0.6], [0.6], [0.6], [0.6], [0.6], [0.6], [0.6], [0.6], [0.6], [0.6], [0.6], [0.6], [0.6], [0.6], [0.6], [0.6], [0.6], [0.6], [0.6], [0.6], [0.6], [0.6], [0.6], [0.6], [0.6], [0.6], [0.6], [0.6], [0.6], [0.6], [0.6], [0.6], [0.6], [0.6], [0.6], [0.6], [0.6], [0.6], [0.6], [0.6]], \"size\": [1.3, 1.3, 3.9000000000000004, 1.3]}, \"mode\": \"markers\", \"name\": \"Other\", \"x\": [\"Spain\", \"Spain\", \"Spain\", \"Canada\", \"Spain\", \"Scotland\"], \"y\": [\"University <br>without <br>graduating\", \"University <br>without <br>graduating\", \"Unfinished <br>Compulsory<br>Secondary <br>Education\", \"University <br>without <br>graduating\", \"University <br>without <br>graduating\", \"University <br>graduate\"], \"type\": \"scatter\", \"uid\": \"282fcab1-12f1-4e53-8794-31e15b1f343e\"}], {\"xaxis\": {\"title\": {\"text\": \"Nationality\"}}}, {\"showLink\": false, \"linkText\": \"Export to plot.ly\", \"plotlyServerURL\": \"https://plot.ly\"}); \n",
       "}\n",
       "});</script><script type=\"text/javascript\">window.addEventListener(\"resize\", function(){if (document.getElementById(\"a677ded1-ab7e-4cd3-ae94-32f75a77d368\")) {window._Plotly.Plots.resize(document.getElementById(\"a677ded1-ab7e-4cd3-ae94-32f75a77d368\"));};})</script>"
      ]
     },
     "metadata": {},
     "output_type": "display_data"
    }
   ],
   "source": [
    "fig9 = {\n",
    "    'data': [\n",
    "        {\n",
    "            'x': data_complete_nationality[data_complete_nationality['Gender'] == gender]['Nationality'],\n",
    "            'y': data_complete_nationality[data_complete_nationality['Gender'] == gender]['Educational level'].sort_index(),\n",
    "            'name': gender, 'mode': 'markers',\n",
    "            'marker': dict(\n",
    "                opacity=np.full(\n",
    "                    (len(data_complete_nationality.index), 1), 0.6),\n",
    "                size=(data_complete_nationality[(data_complete_nationality['Gender'] == gender)].groupby(\n",
    "                    ['Nationality'])['Educational level'].value_counts() * 1.3)\n",
    "            ),\n",
    "            'name': names_gender[gender]\n",
    "        } for gender in data_complete_nationality['Gender'].unique()\n",
    "    ],\n",
    "    'layout': {\n",
    "        'xaxis': {\n",
    "            'title': 'Nationality',\n",
    "            # 'tickvals': tickvalsX,\n",
    "            # 'ticktext': ticktextX\n",
    "        },\n",
    "        'yaxis': {  # 'title': \"Educational level\",\n",
    "            # 'tickvals': tickvalsY,\n",
    "            # 'ticktext': ticktextY\n",
    "        }\n",
    "\n",
    "    }\n",
    "}\n",
    "\n",
    "iplot(fig9)\n",
    "plt.show()"
   ]
  },
  {
   "cell_type": "markdown",
   "metadata": {},
   "source": [
    "## Distribution of gender by origin"
   ]
  },
  {
   "cell_type": "code",
   "execution_count": 15,
   "metadata": {
    "scrolled": false
   },
   "outputs": [
    {
     "name": "stdout",
     "output_type": "stream",
     "text": [
      "Describing the variable Gender in Spain\n"
     ]
    },
    {
     "data": {
      "text/plain": [
       "count        217\n",
       "unique         3\n",
       "top       Female\n",
       "freq         122\n",
       "Name: Gender, dtype: object"
      ]
     },
     "metadata": {},
     "output_type": "display_data"
    },
    {
     "name": "stdout",
     "output_type": "stream",
     "text": [
      "Count of each value in Gender in Spain expresed as gender / amount\n"
     ]
    },
    {
     "data": {
      "text/plain": [
       "Female    122\n",
       "Male       91\n",
       "Other       4\n",
       "Name: Gender, dtype: int64"
      ]
     },
     "metadata": {},
     "output_type": "display_data"
    },
    {
     "name": "stdout",
     "output_type": "stream",
     "text": [
      "Percentage of each value in Spain expresed as gender / percentage\n"
     ]
    },
    {
     "data": {
      "text/plain": [
       "Female    56.22\n",
       "Male      41.94\n",
       "Other      1.84\n",
       "Name: Gender, dtype: float64"
      ]
     },
     "metadata": {},
     "output_type": "display_data"
    },
    {
     "name": "stdout",
     "output_type": "stream",
     "text": [
      "Describing the variable Gender in Colombia\n"
     ]
    },
    {
     "data": {
      "text/plain": [
       "count          1\n",
       "unique         1\n",
       "top       Female\n",
       "freq           1\n",
       "Name: Gender, dtype: object"
      ]
     },
     "metadata": {},
     "output_type": "display_data"
    },
    {
     "name": "stdout",
     "output_type": "stream",
     "text": [
      "Count of each value in Gender in Colombia expresed as gender / amount\n"
     ]
    },
    {
     "data": {
      "text/plain": [
       "Female    1\n",
       "Name: Gender, dtype: int64"
      ]
     },
     "metadata": {},
     "output_type": "display_data"
    },
    {
     "name": "stdout",
     "output_type": "stream",
     "text": [
      "Percentage of each value in Colombia expresed as gender / percentage\n"
     ]
    },
    {
     "data": {
      "text/plain": [
       "Female    100.0\n",
       "Name: Gender, dtype: float64"
      ]
     },
     "metadata": {},
     "output_type": "display_data"
    },
    {
     "name": "stdout",
     "output_type": "stream",
     "text": [
      "Describing the variable Gender in Dominican Rep.\n"
     ]
    },
    {
     "data": {
      "text/plain": [
       "count          2\n",
       "unique         2\n",
       "top       Female\n",
       "freq           1\n",
       "Name: Gender, dtype: object"
      ]
     },
     "metadata": {},
     "output_type": "display_data"
    },
    {
     "name": "stdout",
     "output_type": "stream",
     "text": [
      "Count of each value in Gender in Dominican Rep. expresed as gender / amount\n"
     ]
    },
    {
     "data": {
      "text/plain": [
       "Female    1\n",
       "Male      1\n",
       "Name: Gender, dtype: int64"
      ]
     },
     "metadata": {},
     "output_type": "display_data"
    },
    {
     "name": "stdout",
     "output_type": "stream",
     "text": [
      "Percentage of each value in Dominican Rep. expresed as gender / percentage\n"
     ]
    },
    {
     "data": {
      "text/plain": [
       "Female    50.0\n",
       "Male      50.0\n",
       "Name: Gender, dtype: float64"
      ]
     },
     "metadata": {},
     "output_type": "display_data"
    },
    {
     "name": "stdout",
     "output_type": "stream",
     "text": [
      "Describing the variable Gender in Austria\n"
     ]
    },
    {
     "data": {
      "text/plain": [
       "count          1\n",
       "unique         1\n",
       "top       Female\n",
       "freq           1\n",
       "Name: Gender, dtype: object"
      ]
     },
     "metadata": {},
     "output_type": "display_data"
    },
    {
     "name": "stdout",
     "output_type": "stream",
     "text": [
      "Count of each value in Gender in Austria expresed as gender / amount\n"
     ]
    },
    {
     "data": {
      "text/plain": [
       "Female    1\n",
       "Name: Gender, dtype: int64"
      ]
     },
     "metadata": {},
     "output_type": "display_data"
    },
    {
     "name": "stdout",
     "output_type": "stream",
     "text": [
      "Percentage of each value in Austria expresed as gender / percentage\n"
     ]
    },
    {
     "data": {
      "text/plain": [
       "Female    100.0\n",
       "Name: Gender, dtype: float64"
      ]
     },
     "metadata": {},
     "output_type": "display_data"
    },
    {
     "name": "stdout",
     "output_type": "stream",
     "text": [
      "Describing the variable Gender in Chile\n"
     ]
    },
    {
     "data": {
      "text/plain": [
       "count          1\n",
       "unique         1\n",
       "top       Female\n",
       "freq           1\n",
       "Name: Gender, dtype: object"
      ]
     },
     "metadata": {},
     "output_type": "display_data"
    },
    {
     "name": "stdout",
     "output_type": "stream",
     "text": [
      "Count of each value in Gender in Chile expresed as gender / amount\n"
     ]
    },
    {
     "data": {
      "text/plain": [
       "Female    1\n",
       "Name: Gender, dtype: int64"
      ]
     },
     "metadata": {},
     "output_type": "display_data"
    },
    {
     "name": "stdout",
     "output_type": "stream",
     "text": [
      "Percentage of each value in Chile expresed as gender / percentage\n"
     ]
    },
    {
     "data": {
      "text/plain": [
       "Female    100.0\n",
       "Name: Gender, dtype: float64"
      ]
     },
     "metadata": {},
     "output_type": "display_data"
    },
    {
     "name": "stdout",
     "output_type": "stream",
     "text": [
      "Describing the variable Gender in France\n"
     ]
    },
    {
     "data": {
      "text/plain": [
       "count         19\n",
       "unique         2\n",
       "top       Female\n",
       "freq          14\n",
       "Name: Gender, dtype: object"
      ]
     },
     "metadata": {},
     "output_type": "display_data"
    },
    {
     "name": "stdout",
     "output_type": "stream",
     "text": [
      "Count of each value in Gender in France expresed as gender / amount\n"
     ]
    },
    {
     "data": {
      "text/plain": [
       "Female    14\n",
       "Male       5\n",
       "Name: Gender, dtype: int64"
      ]
     },
     "metadata": {},
     "output_type": "display_data"
    },
    {
     "name": "stdout",
     "output_type": "stream",
     "text": [
      "Percentage of each value in France expresed as gender / percentage\n"
     ]
    },
    {
     "data": {
      "text/plain": [
       "Female    73.68\n",
       "Male      26.32\n",
       "Name: Gender, dtype: float64"
      ]
     },
     "metadata": {},
     "output_type": "display_data"
    },
    {
     "name": "stdout",
     "output_type": "stream",
     "text": [
      "Describing the variable Gender in Canada\n"
     ]
    },
    {
     "data": {
      "text/plain": [
       "count        9\n",
       "unique       3\n",
       "top       Male\n",
       "freq         5\n",
       "Name: Gender, dtype: object"
      ]
     },
     "metadata": {},
     "output_type": "display_data"
    },
    {
     "name": "stdout",
     "output_type": "stream",
     "text": [
      "Count of each value in Gender in Canada expresed as gender / amount\n"
     ]
    },
    {
     "data": {
      "text/plain": [
       "Male      5\n",
       "Female    3\n",
       "Other     1\n",
       "Name: Gender, dtype: int64"
      ]
     },
     "metadata": {},
     "output_type": "display_data"
    },
    {
     "name": "stdout",
     "output_type": "stream",
     "text": [
      "Percentage of each value in Canada expresed as gender / percentage\n"
     ]
    },
    {
     "data": {
      "text/plain": [
       "Male      55.56\n",
       "Female    33.33\n",
       "Other     11.11\n",
       "Name: Gender, dtype: float64"
      ]
     },
     "metadata": {},
     "output_type": "display_data"
    },
    {
     "name": "stdout",
     "output_type": "stream",
     "text": [
      "Describing the variable Gender in Niger\n"
     ]
    },
    {
     "data": {
      "text/plain": [
       "count        4\n",
       "unique       1\n",
       "top       Male\n",
       "freq         4\n",
       "Name: Gender, dtype: object"
      ]
     },
     "metadata": {},
     "output_type": "display_data"
    },
    {
     "name": "stdout",
     "output_type": "stream",
     "text": [
      "Count of each value in Gender in Niger expresed as gender / amount\n"
     ]
    },
    {
     "data": {
      "text/plain": [
       "Male    4\n",
       "Name: Gender, dtype: int64"
      ]
     },
     "metadata": {},
     "output_type": "display_data"
    },
    {
     "name": "stdout",
     "output_type": "stream",
     "text": [
      "Percentage of each value in Niger expresed as gender / percentage\n"
     ]
    },
    {
     "data": {
      "text/plain": [
       "Male    100.0\n",
       "Name: Gender, dtype: float64"
      ]
     },
     "metadata": {},
     "output_type": "display_data"
    },
    {
     "name": "stdout",
     "output_type": "stream",
     "text": [
      "Describing the variable Gender in Australia\n"
     ]
    },
    {
     "data": {
      "text/plain": [
       "count        1\n",
       "unique       1\n",
       "top       Male\n",
       "freq         1\n",
       "Name: Gender, dtype: object"
      ]
     },
     "metadata": {},
     "output_type": "display_data"
    },
    {
     "name": "stdout",
     "output_type": "stream",
     "text": [
      "Count of each value in Gender in Australia expresed as gender / amount\n"
     ]
    },
    {
     "data": {
      "text/plain": [
       "Male    1\n",
       "Name: Gender, dtype: int64"
      ]
     },
     "metadata": {},
     "output_type": "display_data"
    },
    {
     "name": "stdout",
     "output_type": "stream",
     "text": [
      "Percentage of each value in Australia expresed as gender / percentage\n"
     ]
    },
    {
     "data": {
      "text/plain": [
       "Male    100.0\n",
       "Name: Gender, dtype: float64"
      ]
     },
     "metadata": {},
     "output_type": "display_data"
    },
    {
     "name": "stdout",
     "output_type": "stream",
     "text": [
      "Describing the variable Gender in Russia\n"
     ]
    },
    {
     "data": {
      "text/plain": [
       "count          2\n",
       "unique         2\n",
       "top       Female\n",
       "freq           1\n",
       "Name: Gender, dtype: object"
      ]
     },
     "metadata": {},
     "output_type": "display_data"
    },
    {
     "name": "stdout",
     "output_type": "stream",
     "text": [
      "Count of each value in Gender in Russia expresed as gender / amount\n"
     ]
    },
    {
     "data": {
      "text/plain": [
       "Female    1\n",
       "Male      1\n",
       "Name: Gender, dtype: int64"
      ]
     },
     "metadata": {},
     "output_type": "display_data"
    },
    {
     "name": "stdout",
     "output_type": "stream",
     "text": [
      "Percentage of each value in Russia expresed as gender / percentage\n"
     ]
    },
    {
     "data": {
      "text/plain": [
       "Female    50.0\n",
       "Male      50.0\n",
       "Name: Gender, dtype: float64"
      ]
     },
     "metadata": {},
     "output_type": "display_data"
    },
    {
     "name": "stdout",
     "output_type": "stream",
     "text": [
      "Describing the variable Gender in Brazil\n"
     ]
    },
    {
     "data": {
      "text/plain": [
       "count        3\n",
       "unique       2\n",
       "top       Male\n",
       "freq         2\n",
       "Name: Gender, dtype: object"
      ]
     },
     "metadata": {},
     "output_type": "display_data"
    },
    {
     "name": "stdout",
     "output_type": "stream",
     "text": [
      "Count of each value in Gender in Brazil expresed as gender / amount\n"
     ]
    },
    {
     "data": {
      "text/plain": [
       "Male      2\n",
       "Female    1\n",
       "Name: Gender, dtype: int64"
      ]
     },
     "metadata": {},
     "output_type": "display_data"
    },
    {
     "name": "stdout",
     "output_type": "stream",
     "text": [
      "Percentage of each value in Brazil expresed as gender / percentage\n"
     ]
    },
    {
     "data": {
      "text/plain": [
       "Male      66.67\n",
       "Female    33.33\n",
       "Name: Gender, dtype: float64"
      ]
     },
     "metadata": {},
     "output_type": "display_data"
    },
    {
     "name": "stdout",
     "output_type": "stream",
     "text": [
      "Describing the variable Gender in China\n"
     ]
    },
    {
     "data": {
      "text/plain": [
       "count        1\n",
       "unique       1\n",
       "top       Male\n",
       "freq         1\n",
       "Name: Gender, dtype: object"
      ]
     },
     "metadata": {},
     "output_type": "display_data"
    },
    {
     "name": "stdout",
     "output_type": "stream",
     "text": [
      "Count of each value in Gender in China expresed as gender / amount\n"
     ]
    },
    {
     "data": {
      "text/plain": [
       "Male    1\n",
       "Name: Gender, dtype: int64"
      ]
     },
     "metadata": {},
     "output_type": "display_data"
    },
    {
     "name": "stdout",
     "output_type": "stream",
     "text": [
      "Percentage of each value in China expresed as gender / percentage\n"
     ]
    },
    {
     "data": {
      "text/plain": [
       "Male    100.0\n",
       "Name: Gender, dtype: float64"
      ]
     },
     "metadata": {},
     "output_type": "display_data"
    },
    {
     "name": "stdout",
     "output_type": "stream",
     "text": [
      "Describing the variable Gender in USA\n"
     ]
    },
    {
     "data": {
      "text/plain": [
       "count        306\n",
       "unique         2\n",
       "top       Female\n",
       "freq         158\n",
       "Name: Gender, dtype: object"
      ]
     },
     "metadata": {},
     "output_type": "display_data"
    },
    {
     "name": "stdout",
     "output_type": "stream",
     "text": [
      "Count of each value in Gender in USA expresed as gender / amount\n"
     ]
    },
    {
     "data": {
      "text/plain": [
       "Female    158\n",
       "Male      148\n",
       "Name: Gender, dtype: int64"
      ]
     },
     "metadata": {},
     "output_type": "display_data"
    },
    {
     "name": "stdout",
     "output_type": "stream",
     "text": [
      "Percentage of each value in USA expresed as gender / percentage\n"
     ]
    },
    {
     "data": {
      "text/plain": [
       "Female    51.63\n",
       "Male      48.37\n",
       "Name: Gender, dtype: float64"
      ]
     },
     "metadata": {},
     "output_type": "display_data"
    },
    {
     "name": "stdout",
     "output_type": "stream",
     "text": [
      "Describing the variable Gender in Unknown\n"
     ]
    },
    {
     "data": {
      "text/plain": [
       "count         38\n",
       "unique         2\n",
       "top       Female\n",
       "freq          33\n",
       "Name: Gender, dtype: object"
      ]
     },
     "metadata": {},
     "output_type": "display_data"
    },
    {
     "name": "stdout",
     "output_type": "stream",
     "text": [
      "Count of each value in Gender in Unknown expresed as gender / amount\n"
     ]
    },
    {
     "data": {
      "text/plain": [
       "Female    33\n",
       "Male       5\n",
       "Name: Gender, dtype: int64"
      ]
     },
     "metadata": {},
     "output_type": "display_data"
    },
    {
     "name": "stdout",
     "output_type": "stream",
     "text": [
      "Percentage of each value in Unknown expresed as gender / percentage\n"
     ]
    },
    {
     "data": {
      "text/plain": [
       "Female    86.84\n",
       "Male      13.16\n",
       "Name: Gender, dtype: float64"
      ]
     },
     "metadata": {},
     "output_type": "display_data"
    },
    {
     "name": "stdout",
     "output_type": "stream",
     "text": [
      "Describing the variable Gender in Slovakia\n"
     ]
    },
    {
     "data": {
      "text/plain": [
       "count        1\n",
       "unique       1\n",
       "top       Male\n",
       "freq         1\n",
       "Name: Gender, dtype: object"
      ]
     },
     "metadata": {},
     "output_type": "display_data"
    },
    {
     "name": "stdout",
     "output_type": "stream",
     "text": [
      "Count of each value in Gender in Slovakia expresed as gender / amount\n"
     ]
    },
    {
     "data": {
      "text/plain": [
       "Male    1\n",
       "Name: Gender, dtype: int64"
      ]
     },
     "metadata": {},
     "output_type": "display_data"
    },
    {
     "name": "stdout",
     "output_type": "stream",
     "text": [
      "Percentage of each value in Slovakia expresed as gender / percentage\n"
     ]
    },
    {
     "data": {
      "text/plain": [
       "Male    100.0\n",
       "Name: Gender, dtype: float64"
      ]
     },
     "metadata": {},
     "output_type": "display_data"
    },
    {
     "name": "stdout",
     "output_type": "stream",
     "text": [
      "Describing the variable Gender in India\n"
     ]
    },
    {
     "data": {
      "text/plain": [
       "count      120\n",
       "unique       2\n",
       "top       Male\n",
       "freq        70\n",
       "Name: Gender, dtype: object"
      ]
     },
     "metadata": {},
     "output_type": "display_data"
    },
    {
     "name": "stdout",
     "output_type": "stream",
     "text": [
      "Count of each value in Gender in India expresed as gender / amount\n"
     ]
    },
    {
     "data": {
      "text/plain": [
       "Male      70\n",
       "Female    50\n",
       "Name: Gender, dtype: int64"
      ]
     },
     "metadata": {},
     "output_type": "display_data"
    },
    {
     "name": "stdout",
     "output_type": "stream",
     "text": [
      "Percentage of each value in India expresed as gender / percentage\n"
     ]
    },
    {
     "data": {
      "text/plain": [
       "Male      58.33\n",
       "Female    41.67\n",
       "Name: Gender, dtype: float64"
      ]
     },
     "metadata": {},
     "output_type": "display_data"
    },
    {
     "name": "stdout",
     "output_type": "stream",
     "text": [
      "Describing the variable Gender in Italy\n"
     ]
    },
    {
     "data": {
      "text/plain": [
       "count       11\n",
       "unique       2\n",
       "top       Male\n",
       "freq         8\n",
       "Name: Gender, dtype: object"
      ]
     },
     "metadata": {},
     "output_type": "display_data"
    },
    {
     "name": "stdout",
     "output_type": "stream",
     "text": [
      "Count of each value in Gender in Italy expresed as gender / amount\n"
     ]
    },
    {
     "data": {
      "text/plain": [
       "Male      8\n",
       "Female    3\n",
       "Name: Gender, dtype: int64"
      ]
     },
     "metadata": {},
     "output_type": "display_data"
    },
    {
     "name": "stdout",
     "output_type": "stream",
     "text": [
      "Percentage of each value in Italy expresed as gender / percentage\n"
     ]
    },
    {
     "data": {
      "text/plain": [
       "Male      72.73\n",
       "Female    27.27\n",
       "Name: Gender, dtype: float64"
      ]
     },
     "metadata": {},
     "output_type": "display_data"
    },
    {
     "name": "stdout",
     "output_type": "stream",
     "text": [
      "Describing the variable Gender in England\n"
     ]
    },
    {
     "data": {
      "text/plain": [
       "count       10\n",
       "unique       2\n",
       "top       Male\n",
       "freq         6\n",
       "Name: Gender, dtype: object"
      ]
     },
     "metadata": {},
     "output_type": "display_data"
    },
    {
     "name": "stdout",
     "output_type": "stream",
     "text": [
      "Count of each value in Gender in England expresed as gender / amount\n"
     ]
    },
    {
     "data": {
      "text/plain": [
       "Male      6\n",
       "Female    4\n",
       "Name: Gender, dtype: int64"
      ]
     },
     "metadata": {},
     "output_type": "display_data"
    },
    {
     "name": "stdout",
     "output_type": "stream",
     "text": [
      "Percentage of each value in England expresed as gender / percentage\n"
     ]
    },
    {
     "data": {
      "text/plain": [
       "Male      60.0\n",
       "Female    40.0\n",
       "Name: Gender, dtype: float64"
      ]
     },
     "metadata": {},
     "output_type": "display_data"
    },
    {
     "name": "stdout",
     "output_type": "stream",
     "text": [
      "Describing the variable Gender in Germany\n"
     ]
    },
    {
     "data": {
      "text/plain": [
       "count          1\n",
       "unique         1\n",
       "top       Female\n",
       "freq           1\n",
       "Name: Gender, dtype: object"
      ]
     },
     "metadata": {},
     "output_type": "display_data"
    },
    {
     "name": "stdout",
     "output_type": "stream",
     "text": [
      "Count of each value in Gender in Germany expresed as gender / amount\n"
     ]
    },
    {
     "data": {
      "text/plain": [
       "Female    1\n",
       "Name: Gender, dtype: int64"
      ]
     },
     "metadata": {},
     "output_type": "display_data"
    },
    {
     "name": "stdout",
     "output_type": "stream",
     "text": [
      "Percentage of each value in Germany expresed as gender / percentage\n"
     ]
    },
    {
     "data": {
      "text/plain": [
       "Female    100.0\n",
       "Name: Gender, dtype: float64"
      ]
     },
     "metadata": {},
     "output_type": "display_data"
    },
    {
     "name": "stdout",
     "output_type": "stream",
     "text": [
      "Describing the variable Gender in Venezuela\n"
     ]
    },
    {
     "data": {
      "text/plain": [
       "count          4\n",
       "unique         2\n",
       "top       Female\n",
       "freq           2\n",
       "Name: Gender, dtype: object"
      ]
     },
     "metadata": {},
     "output_type": "display_data"
    },
    {
     "name": "stdout",
     "output_type": "stream",
     "text": [
      "Count of each value in Gender in Venezuela expresed as gender / amount\n"
     ]
    },
    {
     "data": {
      "text/plain": [
       "Female    2\n",
       "Male      2\n",
       "Name: Gender, dtype: int64"
      ]
     },
     "metadata": {},
     "output_type": "display_data"
    },
    {
     "name": "stdout",
     "output_type": "stream",
     "text": [
      "Percentage of each value in Venezuela expresed as gender / percentage\n"
     ]
    },
    {
     "data": {
      "text/plain": [
       "Female    50.0\n",
       "Male      50.0\n",
       "Name: Gender, dtype: float64"
      ]
     },
     "metadata": {},
     "output_type": "display_data"
    },
    {
     "name": "stdout",
     "output_type": "stream",
     "text": [
      "Describing the variable Gender in Albania\n"
     ]
    },
    {
     "data": {
      "text/plain": [
       "count        1\n",
       "unique       1\n",
       "top       Male\n",
       "freq         1\n",
       "Name: Gender, dtype: object"
      ]
     },
     "metadata": {},
     "output_type": "display_data"
    },
    {
     "name": "stdout",
     "output_type": "stream",
     "text": [
      "Count of each value in Gender in Albania expresed as gender / amount\n"
     ]
    },
    {
     "data": {
      "text/plain": [
       "Male    1\n",
       "Name: Gender, dtype: int64"
      ]
     },
     "metadata": {},
     "output_type": "display_data"
    },
    {
     "name": "stdout",
     "output_type": "stream",
     "text": [
      "Percentage of each value in Albania expresed as gender / percentage\n"
     ]
    },
    {
     "data": {
      "text/plain": [
       "Male    100.0\n",
       "Name: Gender, dtype: float64"
      ]
     },
     "metadata": {},
     "output_type": "display_data"
    },
    {
     "name": "stdout",
     "output_type": "stream",
     "text": [
      "Describing the variable Gender in Mexico\n"
     ]
    },
    {
     "data": {
      "text/plain": [
       "count        1\n",
       "unique       1\n",
       "top       Male\n",
       "freq         1\n",
       "Name: Gender, dtype: object"
      ]
     },
     "metadata": {},
     "output_type": "display_data"
    },
    {
     "name": "stdout",
     "output_type": "stream",
     "text": [
      "Count of each value in Gender in Mexico expresed as gender / amount\n"
     ]
    },
    {
     "data": {
      "text/plain": [
       "Male    1\n",
       "Name: Gender, dtype: int64"
      ]
     },
     "metadata": {},
     "output_type": "display_data"
    },
    {
     "name": "stdout",
     "output_type": "stream",
     "text": [
      "Percentage of each value in Mexico expresed as gender / percentage\n"
     ]
    },
    {
     "data": {
      "text/plain": [
       "Male    100.0\n",
       "Name: Gender, dtype: float64"
      ]
     },
     "metadata": {},
     "output_type": "display_data"
    },
    {
     "name": "stdout",
     "output_type": "stream",
     "text": [
      "Describing the variable Gender in Pakistan\n"
     ]
    },
    {
     "data": {
      "text/plain": [
       "count          1\n",
       "unique         1\n",
       "top       Female\n",
       "freq           1\n",
       "Name: Gender, dtype: object"
      ]
     },
     "metadata": {},
     "output_type": "display_data"
    },
    {
     "name": "stdout",
     "output_type": "stream",
     "text": [
      "Count of each value in Gender in Pakistan expresed as gender / amount\n"
     ]
    },
    {
     "data": {
      "text/plain": [
       "Female    1\n",
       "Name: Gender, dtype: int64"
      ]
     },
     "metadata": {},
     "output_type": "display_data"
    },
    {
     "name": "stdout",
     "output_type": "stream",
     "text": [
      "Percentage of each value in Pakistan expresed as gender / percentage\n"
     ]
    },
    {
     "data": {
      "text/plain": [
       "Female    100.0\n",
       "Name: Gender, dtype: float64"
      ]
     },
     "metadata": {},
     "output_type": "display_data"
    },
    {
     "name": "stdout",
     "output_type": "stream",
     "text": [
      "Describing the variable Gender in The Bahamas\n"
     ]
    },
    {
     "data": {
      "text/plain": [
       "count          1\n",
       "unique         1\n",
       "top       Female\n",
       "freq           1\n",
       "Name: Gender, dtype: object"
      ]
     },
     "metadata": {},
     "output_type": "display_data"
    },
    {
     "name": "stdout",
     "output_type": "stream",
     "text": [
      "Count of each value in Gender in The Bahamas expresed as gender / amount\n"
     ]
    },
    {
     "data": {
      "text/plain": [
       "Female    1\n",
       "Name: Gender, dtype: int64"
      ]
     },
     "metadata": {},
     "output_type": "display_data"
    },
    {
     "name": "stdout",
     "output_type": "stream",
     "text": [
      "Percentage of each value in The Bahamas expresed as gender / percentage\n"
     ]
    },
    {
     "data": {
      "text/plain": [
       "Female    100.0\n",
       "Name: Gender, dtype: float64"
      ]
     },
     "metadata": {},
     "output_type": "display_data"
    },
    {
     "name": "stdout",
     "output_type": "stream",
     "text": [
      "Describing the variable Gender in Argentina\n"
     ]
    },
    {
     "data": {
      "text/plain": [
       "count        1\n",
       "unique       1\n",
       "top       Male\n",
       "freq         1\n",
       "Name: Gender, dtype: object"
      ]
     },
     "metadata": {},
     "output_type": "display_data"
    },
    {
     "name": "stdout",
     "output_type": "stream",
     "text": [
      "Count of each value in Gender in Argentina expresed as gender / amount\n"
     ]
    },
    {
     "data": {
      "text/plain": [
       "Male    1\n",
       "Name: Gender, dtype: int64"
      ]
     },
     "metadata": {},
     "output_type": "display_data"
    },
    {
     "name": "stdout",
     "output_type": "stream",
     "text": [
      "Percentage of each value in Argentina expresed as gender / percentage\n"
     ]
    },
    {
     "data": {
      "text/plain": [
       "Male    100.0\n",
       "Name: Gender, dtype: float64"
      ]
     },
     "metadata": {},
     "output_type": "display_data"
    },
    {
     "name": "stdout",
     "output_type": "stream",
     "text": [
      "Describing the variable Gender in Iceland\n"
     ]
    },
    {
     "data": {
      "text/plain": [
       "count        1\n",
       "unique       1\n",
       "top       Male\n",
       "freq         1\n",
       "Name: Gender, dtype: object"
      ]
     },
     "metadata": {},
     "output_type": "display_data"
    },
    {
     "name": "stdout",
     "output_type": "stream",
     "text": [
      "Count of each value in Gender in Iceland expresed as gender / amount\n"
     ]
    },
    {
     "data": {
      "text/plain": [
       "Male    1\n",
       "Name: Gender, dtype: int64"
      ]
     },
     "metadata": {},
     "output_type": "display_data"
    },
    {
     "name": "stdout",
     "output_type": "stream",
     "text": [
      "Percentage of each value in Iceland expresed as gender / percentage\n"
     ]
    },
    {
     "data": {
      "text/plain": [
       "Male    100.0\n",
       "Name: Gender, dtype: float64"
      ]
     },
     "metadata": {},
     "output_type": "display_data"
    },
    {
     "name": "stdout",
     "output_type": "stream",
     "text": [
      "Describing the variable Gender in Scotland\n"
     ]
    },
    {
     "data": {
      "text/plain": [
       "count         1\n",
       "unique        1\n",
       "top       Other\n",
       "freq          1\n",
       "Name: Gender, dtype: object"
      ]
     },
     "metadata": {},
     "output_type": "display_data"
    },
    {
     "name": "stdout",
     "output_type": "stream",
     "text": [
      "Count of each value in Gender in Scotland expresed as gender / amount\n"
     ]
    },
    {
     "data": {
      "text/plain": [
       "Other    1\n",
       "Name: Gender, dtype: int64"
      ]
     },
     "metadata": {},
     "output_type": "display_data"
    },
    {
     "name": "stdout",
     "output_type": "stream",
     "text": [
      "Percentage of each value in Scotland expresed as gender / percentage\n"
     ]
    },
    {
     "data": {
      "text/plain": [
       "Other    100.0\n",
       "Name: Gender, dtype: float64"
      ]
     },
     "metadata": {},
     "output_type": "display_data"
    },
    {
     "name": "stdout",
     "output_type": "stream",
     "text": [
      "Describing the variable Gender in Sudan\n"
     ]
    },
    {
     "data": {
      "text/plain": [
       "count        1\n",
       "unique       1\n",
       "top       Male\n",
       "freq         1\n",
       "Name: Gender, dtype: object"
      ]
     },
     "metadata": {},
     "output_type": "display_data"
    },
    {
     "name": "stdout",
     "output_type": "stream",
     "text": [
      "Count of each value in Gender in Sudan expresed as gender / amount\n"
     ]
    },
    {
     "data": {
      "text/plain": [
       "Male    1\n",
       "Name: Gender, dtype: int64"
      ]
     },
     "metadata": {},
     "output_type": "display_data"
    },
    {
     "name": "stdout",
     "output_type": "stream",
     "text": [
      "Percentage of each value in Sudan expresed as gender / percentage\n"
     ]
    },
    {
     "data": {
      "text/plain": [
       "Male    100.0\n",
       "Name: Gender, dtype: float64"
      ]
     },
     "metadata": {},
     "output_type": "display_data"
    },
    {
     "name": "stdout",
     "output_type": "stream",
     "text": [
      "Describing the variable Gender in Ukraine\n"
     ]
    },
    {
     "data": {
      "text/plain": [
       "count          1\n",
       "unique         1\n",
       "top       Female\n",
       "freq           1\n",
       "Name: Gender, dtype: object"
      ]
     },
     "metadata": {},
     "output_type": "display_data"
    },
    {
     "name": "stdout",
     "output_type": "stream",
     "text": [
      "Count of each value in Gender in Ukraine expresed as gender / amount\n"
     ]
    },
    {
     "data": {
      "text/plain": [
       "Female    1\n",
       "Name: Gender, dtype: int64"
      ]
     },
     "metadata": {},
     "output_type": "display_data"
    },
    {
     "name": "stdout",
     "output_type": "stream",
     "text": [
      "Percentage of each value in Ukraine expresed as gender / percentage\n"
     ]
    },
    {
     "data": {
      "text/plain": [
       "Female    100.0\n",
       "Name: Gender, dtype: float64"
      ]
     },
     "metadata": {},
     "output_type": "display_data"
    },
    {
     "name": "stdout",
     "output_type": "stream",
     "text": [
      "Describing the variable Gender in New Zealand\n"
     ]
    },
    {
     "data": {
      "text/plain": [
       "count          1\n",
       "unique         1\n",
       "top       Female\n",
       "freq           1\n",
       "Name: Gender, dtype: object"
      ]
     },
     "metadata": {},
     "output_type": "display_data"
    },
    {
     "name": "stdout",
     "output_type": "stream",
     "text": [
      "Count of each value in Gender in New Zealand expresed as gender / amount\n"
     ]
    },
    {
     "data": {
      "text/plain": [
       "Female    1\n",
       "Name: Gender, dtype: int64"
      ]
     },
     "metadata": {},
     "output_type": "display_data"
    },
    {
     "name": "stdout",
     "output_type": "stream",
     "text": [
      "Percentage of each value in New Zealand expresed as gender / percentage\n"
     ]
    },
    {
     "data": {
      "text/plain": [
       "Female    100.0\n",
       "Name: Gender, dtype: float64"
      ]
     },
     "metadata": {},
     "output_type": "display_data"
    },
    {
     "name": "stdout",
     "output_type": "stream",
     "text": [
      "Describing the variable Gender in Ireland\n"
     ]
    },
    {
     "data": {
      "text/plain": [
       "count          2\n",
       "unique         1\n",
       "top       Female\n",
       "freq           2\n",
       "Name: Gender, dtype: object"
      ]
     },
     "metadata": {},
     "output_type": "display_data"
    },
    {
     "name": "stdout",
     "output_type": "stream",
     "text": [
      "Count of each value in Gender in Ireland expresed as gender / amount\n"
     ]
    },
    {
     "data": {
      "text/plain": [
       "Female    2\n",
       "Name: Gender, dtype: int64"
      ]
     },
     "metadata": {},
     "output_type": "display_data"
    },
    {
     "name": "stdout",
     "output_type": "stream",
     "text": [
      "Percentage of each value in Ireland expresed as gender / percentage\n"
     ]
    },
    {
     "data": {
      "text/plain": [
       "Female    100.0\n",
       "Name: Gender, dtype: float64"
      ]
     },
     "metadata": {},
     "output_type": "display_data"
    },
    {
     "name": "stdout",
     "output_type": "stream",
     "text": [
      "Describing the variable Gender in Macedonia\n"
     ]
    },
    {
     "data": {
      "text/plain": [
       "count        1\n",
       "unique       1\n",
       "top       Male\n",
       "freq         1\n",
       "Name: Gender, dtype: object"
      ]
     },
     "metadata": {},
     "output_type": "display_data"
    },
    {
     "name": "stdout",
     "output_type": "stream",
     "text": [
      "Count of each value in Gender in Macedonia expresed as gender / amount\n"
     ]
    },
    {
     "data": {
      "text/plain": [
       "Male    1\n",
       "Name: Gender, dtype: int64"
      ]
     },
     "metadata": {},
     "output_type": "display_data"
    },
    {
     "name": "stdout",
     "output_type": "stream",
     "text": [
      "Percentage of each value in Macedonia expresed as gender / percentage\n"
     ]
    },
    {
     "data": {
      "text/plain": [
       "Male    100.0\n",
       "Name: Gender, dtype: float64"
      ]
     },
     "metadata": {},
     "output_type": "display_data"
    },
    {
     "name": "stdout",
     "output_type": "stream",
     "text": [
      "Describing the variable Gender in Indonesia\n"
     ]
    },
    {
     "data": {
      "text/plain": [
       "count        1\n",
       "unique       1\n",
       "top       Male\n",
       "freq         1\n",
       "Name: Gender, dtype: object"
      ]
     },
     "metadata": {},
     "output_type": "display_data"
    },
    {
     "name": "stdout",
     "output_type": "stream",
     "text": [
      "Count of each value in Gender in Indonesia expresed as gender / amount\n"
     ]
    },
    {
     "data": {
      "text/plain": [
       "Male    1\n",
       "Name: Gender, dtype: int64"
      ]
     },
     "metadata": {},
     "output_type": "display_data"
    },
    {
     "name": "stdout",
     "output_type": "stream",
     "text": [
      "Percentage of each value in Indonesia expresed as gender / percentage\n"
     ]
    },
    {
     "data": {
      "text/plain": [
       "Male    100.0\n",
       "Name: Gender, dtype: float64"
      ]
     },
     "metadata": {},
     "output_type": "display_data"
    },
    {
     "name": "stdout",
     "output_type": "stream",
     "text": [
      "Describing the variable Gender in Cuba\n"
     ]
    },
    {
     "data": {
      "text/plain": [
       "count          1\n",
       "unique         1\n",
       "top       Female\n",
       "freq           1\n",
       "Name: Gender, dtype: object"
      ]
     },
     "metadata": {},
     "output_type": "display_data"
    },
    {
     "name": "stdout",
     "output_type": "stream",
     "text": [
      "Count of each value in Gender in Cuba expresed as gender / amount\n"
     ]
    },
    {
     "data": {
      "text/plain": [
       "Female    1\n",
       "Name: Gender, dtype: int64"
      ]
     },
     "metadata": {},
     "output_type": "display_data"
    },
    {
     "name": "stdout",
     "output_type": "stream",
     "text": [
      "Percentage of each value in Cuba expresed as gender / percentage\n"
     ]
    },
    {
     "data": {
      "text/plain": [
       "Female    100.0\n",
       "Name: Gender, dtype: float64"
      ]
     },
     "metadata": {},
     "output_type": "display_data"
    },
    {
     "data": {
      "application/vnd.plotly.v1+json": {
       "config": {
        "linkText": "Export to plot.ly",
        "plotlyServerURL": "https://plot.ly",
        "showLink": false
       },
       "data": [
        {
         "name": "Men",
         "type": "bar",
         "uid": "1179e65d-35a1-4084-9b28-dadaa133519e",
         "x": [
          "Albania",
          "Argentina",
          "Australia",
          "Austria",
          "Brazil",
          "Canada",
          "Chile",
          "China",
          "Colombia",
          "Cuba",
          "Dominican Rep.",
          "England",
          "France",
          "Germany",
          "Iceland",
          "India",
          "Indonesia",
          "Ireland",
          "Italy",
          "Macedonia",
          "Mexico",
          "New Zealand",
          "Niger",
          "Pakistan",
          "Russia",
          "Scotland",
          "Slovakia",
          "Spain",
          "Sudan",
          "The Bahamas",
          "USA",
          "Ukraine",
          "Unknown",
          "Venezuela"
         ],
         "y": [
          1,
          1,
          1,
          0,
          2,
          5,
          0,
          1,
          0,
          0,
          1,
          6,
          5,
          0,
          1,
          70,
          1,
          0,
          8,
          1,
          1,
          0,
          4,
          0,
          1,
          0,
          1,
          91,
          1,
          0,
          148,
          0,
          5,
          2
         ]
        },
        {
         "name": "Woman",
         "type": "bar",
         "uid": "f71fed01-f8d6-4ed2-a304-deca82b83191",
         "x": [
          "Albania",
          "Argentina",
          "Australia",
          "Austria",
          "Brazil",
          "Canada",
          "Chile",
          "China",
          "Colombia",
          "Cuba",
          "Dominican Rep.",
          "England",
          "France",
          "Germany",
          "Iceland",
          "India",
          "Indonesia",
          "Ireland",
          "Italy",
          "Macedonia",
          "Mexico",
          "New Zealand",
          "Niger",
          "Pakistan",
          "Russia",
          "Scotland",
          "Slovakia",
          "Spain",
          "Sudan",
          "The Bahamas",
          "USA",
          "Ukraine",
          "Unknown",
          "Venezuela"
         ],
         "y": [
          0,
          0,
          0,
          1,
          1,
          3,
          1,
          0,
          1,
          1,
          1,
          4,
          14,
          1,
          0,
          50,
          0,
          2,
          3,
          0,
          0,
          1,
          0,
          1,
          1,
          0,
          0,
          122,
          0,
          1,
          158,
          1,
          33,
          2
         ]
        },
        {
         "name": "Other",
         "type": "bar",
         "uid": "3cb7f03b-49a7-4050-979f-301abc40236b",
         "x": [
          "Albania",
          "Argentina",
          "Australia",
          "Austria",
          "Brazil",
          "Canada",
          "Chile",
          "China",
          "Colombia",
          "Cuba",
          "Dominican Rep.",
          "England",
          "France",
          "Germany",
          "Iceland",
          "India",
          "Indonesia",
          "Ireland",
          "Italy",
          "Macedonia",
          "Mexico",
          "New Zealand",
          "Niger",
          "Pakistan",
          "Russia",
          "Scotland",
          "Slovakia",
          "Spain",
          "Sudan",
          "The Bahamas",
          "USA",
          "Ukraine",
          "Unknown",
          "Venezuela"
         ],
         "y": [
          0,
          0,
          0,
          0,
          0,
          1,
          0,
          0,
          0,
          0,
          0,
          0,
          0,
          0,
          0,
          0,
          0,
          0,
          0,
          0,
          0,
          0,
          0,
          0,
          0,
          1,
          0,
          4,
          0,
          0,
          0,
          0,
          0,
          0
         ]
        }
       ],
       "layout": {
        "bargap": 0.2,
        "barmode": "group",
        "xaxis": {
         "title": {
          "text": "Nationality"
         }
        },
        "yaxis": {
         "title": {
          "text": "Total"
         }
        }
       }
      },
      "text/html": [
       "<div id=\"d9c06f4b-9878-4931-b302-328638f40555\" style=\"height: 525px; width: 100%;\" class=\"plotly-graph-div\"></div><script type=\"text/javascript\">require([\"plotly\"], function(Plotly) { window.PLOTLYENV=window.PLOTLYENV || {};window.PLOTLYENV.BASE_URL=\"https://plot.ly\";\n",
       "if (document.getElementById(\"d9c06f4b-9878-4931-b302-328638f40555\")) {\n",
       "    Plotly.newPlot(\"d9c06f4b-9878-4931-b302-328638f40555\", [{\"name\": \"Men\", \"x\": [\"Albania\", \"Argentina\", \"Australia\", \"Austria\", \"Brazil\", \"Canada\", \"Chile\", \"China\", \"Colombia\", \"Cuba\", \"Dominican Rep.\", \"England\", \"France\", \"Germany\", \"Iceland\", \"India\", \"Indonesia\", \"Ireland\", \"Italy\", \"Macedonia\", \"Mexico\", \"New Zealand\", \"Niger\", \"Pakistan\", \"Russia\", \"Scotland\", \"Slovakia\", \"Spain\", \"Sudan\", \"The Bahamas\", \"USA\", \"Ukraine\", \"Unknown\", \"Venezuela\"], \"y\": [1, 1, 1, 0, 2, 5, 0, 1, 0, 0, 1, 6, 5, 0, 1, 70, 1, 0, 8, 1, 1, 0, 4, 0, 1, 0, 1, 91, 1, 0, 148, 0, 5, 2], \"type\": \"bar\", \"uid\": \"1179e65d-35a1-4084-9b28-dadaa133519e\"}, {\"name\": \"Woman\", \"x\": [\"Albania\", \"Argentina\", \"Australia\", \"Austria\", \"Brazil\", \"Canada\", \"Chile\", \"China\", \"Colombia\", \"Cuba\", \"Dominican Rep.\", \"England\", \"France\", \"Germany\", \"Iceland\", \"India\", \"Indonesia\", \"Ireland\", \"Italy\", \"Macedonia\", \"Mexico\", \"New Zealand\", \"Niger\", \"Pakistan\", \"Russia\", \"Scotland\", \"Slovakia\", \"Spain\", \"Sudan\", \"The Bahamas\", \"USA\", \"Ukraine\", \"Unknown\", \"Venezuela\"], \"y\": [0, 0, 0, 1, 1, 3, 1, 0, 1, 1, 1, 4, 14, 1, 0, 50, 0, 2, 3, 0, 0, 1, 0, 1, 1, 0, 0, 122, 0, 1, 158, 1, 33, 2], \"type\": \"bar\", \"uid\": \"f71fed01-f8d6-4ed2-a304-deca82b83191\"}, {\"name\": \"Other\", \"x\": [\"Albania\", \"Argentina\", \"Australia\", \"Austria\", \"Brazil\", \"Canada\", \"Chile\", \"China\", \"Colombia\", \"Cuba\", \"Dominican Rep.\", \"England\", \"France\", \"Germany\", \"Iceland\", \"India\", \"Indonesia\", \"Ireland\", \"Italy\", \"Macedonia\", \"Mexico\", \"New Zealand\", \"Niger\", \"Pakistan\", \"Russia\", \"Scotland\", \"Slovakia\", \"Spain\", \"Sudan\", \"The Bahamas\", \"USA\", \"Ukraine\", \"Unknown\", \"Venezuela\"], \"y\": [0, 0, 0, 0, 0, 1, 0, 0, 0, 0, 0, 0, 0, 0, 0, 0, 0, 0, 0, 0, 0, 0, 0, 0, 0, 1, 0, 4, 0, 0, 0, 0, 0, 0], \"type\": \"bar\", \"uid\": \"3cb7f03b-49a7-4050-979f-301abc40236b\"}], {\"bargap\": 0.2, \"barmode\": \"group\", \"xaxis\": {\"title\": {\"text\": \"Nationality\"}}, \"yaxis\": {\"title\": {\"text\": \"Total\"}}}, {\"showLink\": false, \"linkText\": \"Export to plot.ly\", \"plotlyServerURL\": \"https://plot.ly\"}); \n",
       "}\n",
       "});</script><script type=\"text/javascript\">window.addEventListener(\"resize\", function(){if (document.getElementById(\"d9c06f4b-9878-4931-b302-328638f40555\")) {window._Plotly.Plots.resize(document.getElementById(\"d9c06f4b-9878-4931-b302-328638f40555\"));};})</script>"
      ],
      "text/vnd.plotly.v1+html": [
       "<div id=\"d9c06f4b-9878-4931-b302-328638f40555\" style=\"height: 525px; width: 100%;\" class=\"plotly-graph-div\"></div><script type=\"text/javascript\">require([\"plotly\"], function(Plotly) { window.PLOTLYENV=window.PLOTLYENV || {};window.PLOTLYENV.BASE_URL=\"https://plot.ly\";\n",
       "if (document.getElementById(\"d9c06f4b-9878-4931-b302-328638f40555\")) {\n",
       "    Plotly.newPlot(\"d9c06f4b-9878-4931-b302-328638f40555\", [{\"name\": \"Men\", \"x\": [\"Albania\", \"Argentina\", \"Australia\", \"Austria\", \"Brazil\", \"Canada\", \"Chile\", \"China\", \"Colombia\", \"Cuba\", \"Dominican Rep.\", \"England\", \"France\", \"Germany\", \"Iceland\", \"India\", \"Indonesia\", \"Ireland\", \"Italy\", \"Macedonia\", \"Mexico\", \"New Zealand\", \"Niger\", \"Pakistan\", \"Russia\", \"Scotland\", \"Slovakia\", \"Spain\", \"Sudan\", \"The Bahamas\", \"USA\", \"Ukraine\", \"Unknown\", \"Venezuela\"], \"y\": [1, 1, 1, 0, 2, 5, 0, 1, 0, 0, 1, 6, 5, 0, 1, 70, 1, 0, 8, 1, 1, 0, 4, 0, 1, 0, 1, 91, 1, 0, 148, 0, 5, 2], \"type\": \"bar\", \"uid\": \"1179e65d-35a1-4084-9b28-dadaa133519e\"}, {\"name\": \"Woman\", \"x\": [\"Albania\", \"Argentina\", \"Australia\", \"Austria\", \"Brazil\", \"Canada\", \"Chile\", \"China\", \"Colombia\", \"Cuba\", \"Dominican Rep.\", \"England\", \"France\", \"Germany\", \"Iceland\", \"India\", \"Indonesia\", \"Ireland\", \"Italy\", \"Macedonia\", \"Mexico\", \"New Zealand\", \"Niger\", \"Pakistan\", \"Russia\", \"Scotland\", \"Slovakia\", \"Spain\", \"Sudan\", \"The Bahamas\", \"USA\", \"Ukraine\", \"Unknown\", \"Venezuela\"], \"y\": [0, 0, 0, 1, 1, 3, 1, 0, 1, 1, 1, 4, 14, 1, 0, 50, 0, 2, 3, 0, 0, 1, 0, 1, 1, 0, 0, 122, 0, 1, 158, 1, 33, 2], \"type\": \"bar\", \"uid\": \"f71fed01-f8d6-4ed2-a304-deca82b83191\"}, {\"name\": \"Other\", \"x\": [\"Albania\", \"Argentina\", \"Australia\", \"Austria\", \"Brazil\", \"Canada\", \"Chile\", \"China\", \"Colombia\", \"Cuba\", \"Dominican Rep.\", \"England\", \"France\", \"Germany\", \"Iceland\", \"India\", \"Indonesia\", \"Ireland\", \"Italy\", \"Macedonia\", \"Mexico\", \"New Zealand\", \"Niger\", \"Pakistan\", \"Russia\", \"Scotland\", \"Slovakia\", \"Spain\", \"Sudan\", \"The Bahamas\", \"USA\", \"Ukraine\", \"Unknown\", \"Venezuela\"], \"y\": [0, 0, 0, 0, 0, 1, 0, 0, 0, 0, 0, 0, 0, 0, 0, 0, 0, 0, 0, 0, 0, 0, 0, 0, 0, 1, 0, 4, 0, 0, 0, 0, 0, 0], \"type\": \"bar\", \"uid\": \"3cb7f03b-49a7-4050-979f-301abc40236b\"}], {\"bargap\": 0.2, \"barmode\": \"group\", \"xaxis\": {\"title\": {\"text\": \"Nationality\"}}, \"yaxis\": {\"title\": {\"text\": \"Total\"}}}, {\"showLink\": false, \"linkText\": \"Export to plot.ly\", \"plotlyServerURL\": \"https://plot.ly\"}); \n",
       "}\n",
       "});</script><script type=\"text/javascript\">window.addEventListener(\"resize\", function(){if (document.getElementById(\"d9c06f4b-9878-4931-b302-328638f40555\")) {window._Plotly.Plots.resize(document.getElementById(\"d9c06f4b-9878-4931-b302-328638f40555\"));};})</script>"
      ]
     },
     "metadata": {},
     "output_type": "display_data"
    }
   ],
   "source": [
    "data_complete_nationality['Gender'].replace(\n",
    "    values_gender, names_gender, inplace=True)\n",
    "\n",
    "\n",
    "for country in data_complete_nationality['Nationality'].unique():\n",
    "    print(f'Describing the variable Gender in {country}')\n",
    "    display(\n",
    "        data_complete_nationality[data_complete_nationality['Nationality'] == country]['Gender'].describe())\n",
    "    print(\n",
    "        f'Count of each value in Gender in {country} expresed as gender / amount')\n",
    "    display(\n",
    "        data_complete_nationality[data_complete_nationality['Nationality'] == country]['Gender'].value_counts())\n",
    "    print(\n",
    "        f'Percentage of each value in {country} expresed as gender / percentage')\n",
    "    display(data_complete_nationality[data_complete_nationality['Nationality'] == country]['Gender'].value_counts(\n",
    "        normalize=True).round(4) * 100)\n",
    "\n",
    "trace1 = go.Bar(\n",
    "    x=sorted(data_complete_nationality['Nationality'].unique()),\n",
    "    y=data_complete_nationality[data_complete_nationality['Gender'] == 'Male']['Nationality'].value_counts(\n",
    "    ).reindex(data_complete_nationality['Nationality'].unique(), fill_value=0).sort_index(),\n",
    "    name='Men'\n",
    ")\n",
    "trace2 = go.Bar(\n",
    "    x=sorted(data_complete_nationality['Nationality'].unique()),\n",
    "    y=data_complete_nationality[data_complete_nationality['Gender'] == 'Female']['Nationality'].value_counts(\n",
    "    ).reindex(data_complete_nationality['Nationality'].unique(), fill_value=0).sort_index(),\n",
    "    name='Woman'\n",
    ")\n",
    "trace3 = go.Bar(\n",
    "    x=sorted(data_complete_nationality['Nationality'].unique()),\n",
    "    y=data_complete_nationality[data_complete_nationality['Gender'] == 'Other']['Nationality'].value_counts(\n",
    "    ).reindex(data_complete_nationality['Nationality'].unique(), fill_value=0).sort_index(),\n",
    "    name='Other'\n",
    ")\n",
    "\n",
    "data10 = [trace1, trace2, trace3]\n",
    "layout10 = go.Layout(\n",
    "    barmode='group',\n",
    "    xaxis=go.layout.XAxis(\n",
    "        # ticktext=labels_nationality,\n",
    "        # tickvals=tickvals_nationality,\n",
    "        title='Nationality'\n",
    "    ),\n",
    "    yaxis=go.layout.YAxis(\n",
    "        title=\"Total\"),\n",
    "    bargap=0.2,\n",
    ")\n",
    "\n",
    "fig10 = go.Figure(data=data10, layout=layout10)\n",
    "iplot(fig10)\n",
    "plt.show()"
   ]
  },
  {
   "cell_type": "code",
   "execution_count": null,
   "metadata": {},
   "outputs": [],
   "source": []
  }
 ],
 "metadata": {
  "kernelspec": {
   "display_name": "Python 3",
   "language": "python",
   "name": "python3"
  },
  "language_info": {
   "codemirror_mode": {
    "name": "ipython",
    "version": 3
   },
   "file_extension": ".py",
   "mimetype": "text/x-python",
   "name": "python",
   "nbconvert_exporter": "python",
   "pygments_lexer": "ipython3",
   "version": "3.6.8"
  }
 },
 "nbformat": 4,
 "nbformat_minor": 2
}

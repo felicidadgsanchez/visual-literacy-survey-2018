{
 "cells": [
  {
   "cell_type": "code",
   "execution_count": 1,
   "metadata": {},
   "outputs": [
    {
     "name": "stdout",
     "output_type": "stream",
     "text": [
      "Importing Jupyter notebook from data_preparation.ipynb\n",
      "Importing Jupyter notebook from cultural_clustering.ipynb\n"
     ]
    }
   ],
   "source": [
    "import nbimporter\n",
    "from data_preparation import *\n",
    "from cultural_clustering import * "
   ]
  },
  {
   "cell_type": "code",
   "execution_count": 2,
   "metadata": {},
   "outputs": [
    {
     "data": {
      "text/html": [
       "<script type=\"text/javascript\">window.PlotlyConfig = {MathJaxConfig: 'local'};</script><script type=\"text/javascript\">if (window.MathJax) {MathJax.Hub.Config({SVG: {font: \"STIX-Web\"}});}</script><script>requirejs.config({paths: { 'plotly': ['https://cdn.plot.ly/plotly-latest.min']},});if(!window._Plotly) {require(['plotly'],function(plotly) {window._Plotly=plotly;});}</script>"
      ],
      "text/vnd.plotly.v1+html": [
       "<script type=\"text/javascript\">window.PlotlyConfig = {MathJaxConfig: 'local'};</script><script type=\"text/javascript\">if (window.MathJax) {MathJax.Hub.Config({SVG: {font: \"STIX-Web\"}});}</script><script>requirejs.config({paths: { 'plotly': ['https://cdn.plot.ly/plotly-latest.min']},});if(!window._Plotly) {require(['plotly'],function(plotly) {window._Plotly=plotly;});}</script>"
      ]
     },
     "metadata": {},
     "output_type": "display_data"
    }
   ],
   "source": [
    "import matplotlib.pyplot as plt\n",
    "plt.style.use('fivethirtyeight')\n",
    "import colorlover as cl\n",
    "import plotly_express as px\n",
    "\n",
    "from plotly.offline import download_plotlyjs, init_notebook_mode, plot, iplot\n",
    "import plotly.graph_objs as go\n",
    "init_notebook_mode(connected=True)"
   ]
  },
  {
   "cell_type": "code",
   "execution_count": 3,
   "metadata": {},
   "outputs": [
    {
     "data": {
      "text/html": [
       "<div>\n",
       "<style scoped>\n",
       "    .dataframe tbody tr th:only-of-type {\n",
       "        vertical-align: middle;\n",
       "    }\n",
       "\n",
       "    .dataframe tbody tr th {\n",
       "        vertical-align: top;\n",
       "    }\n",
       "\n",
       "    .dataframe thead th {\n",
       "        text-align: right;\n",
       "    }\n",
       "</style>\n",
       "<table border=\"1\" class=\"dataframe\">\n",
       "  <thead>\n",
       "    <tr style=\"text-align: right;\">\n",
       "      <th></th>\n",
       "      <th>Age</th>\n",
       "      <th>Are you able to express verbally the emotions produced by an image you have seen?</th>\n",
       "      <th>By reusing an image, can you redefine the message that the sender has thought about?</th>\n",
       "      <th>Classify your degree of vision</th>\n",
       "      <th>Do you find this image attractive? Why?</th>\n",
       "      <th>Do you find this image attractive? Why?</th>\n",
       "      <th>Do you find this image attractive? Why?.1</th>\n",
       "      <th>Do you find this image attractive? Why?.2</th>\n",
       "      <th>Do you find this image attractive? Why?.3</th>\n",
       "      <th>Do you have access to devices (computer, mobile, tablet, etc.) connected to the Internet usually?</th>\n",
       "      <th>...</th>\n",
       "      <th>Which of the paired images do you find most attractive? 1/2 2/2.2</th>\n",
       "      <th>Which of the paired images do you find most attractive? 1/2 2/2.3</th>\n",
       "      <th>Which of the paired images do you find most attractive? 1/2 2/2.4</th>\n",
       "      <th>With whom do you usually share images? [1. Friends]</th>\n",
       "      <th>With whom do you usually share images? [2. Family]</th>\n",
       "      <th>With whom do you usually share images? [3. Partners]</th>\n",
       "      <th>With whom do you usually share images? [4. With all my acquaintances]</th>\n",
       "      <th>With whom do you usually share images? [5. With nobody]</th>\n",
       "      <th>With whom do you usually share images? [Other]</th>\n",
       "      <th>Within your social networks or mobile applications, do you see visual information that you are not looking for (social awareness campaigns, jokes, advertising, etc.)?</th>\n",
       "    </tr>\n",
       "  </thead>\n",
       "  <tbody>\n",
       "    <tr>\n",
       "      <th>0</th>\n",
       "      <td>37</td>\n",
       "      <td>3</td>\n",
       "      <td>1</td>\n",
       "      <td>3</td>\n",
       "      <td>Si, el puente que sostiene al tren</td>\n",
       "      <td>No, me provoca angustia</td>\n",
       "      <td>No, no me interesa</td>\n",
       "      <td>No, demasiado color y no.me.interesa</td>\n",
       "      <td>Si, por el efecto del cohete en la mano</td>\n",
       "      <td>5</td>\n",
       "      <td>...</td>\n",
       "      <td>2</td>\n",
       "      <td>2</td>\n",
       "      <td>2</td>\n",
       "      <td>1</td>\n",
       "      <td>1</td>\n",
       "      <td>0</td>\n",
       "      <td>0</td>\n",
       "      <td>0</td>\n",
       "      <td>NaN</td>\n",
       "      <td>4</td>\n",
       "    </tr>\n",
       "    <tr>\n",
       "      <th>1</th>\n",
       "      <td>62</td>\n",
       "      <td>3</td>\n",
       "      <td>1</td>\n",
       "      <td>3</td>\n",
       "      <td>Serviría para ilustrar una historia. Quizá una...</td>\n",
       "      <td>Broma de chocolate con leche</td>\n",
       "      <td>Texturas, personas, no sabemos quienes pero el...</td>\n",
       "      <td>Exhuberancia se recrea en la iconografia  con ...</td>\n",
       "      <td>No se discute la hombría de quién de modo tan ...</td>\n",
       "      <td>5</td>\n",
       "      <td>...</td>\n",
       "      <td>2</td>\n",
       "      <td>2</td>\n",
       "      <td>2</td>\n",
       "      <td>1</td>\n",
       "      <td>1</td>\n",
       "      <td>0</td>\n",
       "      <td>0</td>\n",
       "      <td>0</td>\n",
       "      <td>NaN</td>\n",
       "      <td>5</td>\n",
       "    </tr>\n",
       "    <tr>\n",
       "      <th>2</th>\n",
       "      <td>28</td>\n",
       "      <td>3</td>\n",
       "      <td>1</td>\n",
       "      <td>4</td>\n",
       "      <td>No, no encuentro enfocados elementos que me at...</td>\n",
       "      <td>Sí, es muy curioso el contraste de colores ent...</td>\n",
       "      <td>Sí, me causa curiosidad la situación que se va...</td>\n",
       "      <td>Sí, el color y las metáforas que recoge están ...</td>\n",
       "      <td>Sí, el lanzamiento de cohete con el humo y la ...</td>\n",
       "      <td>5</td>\n",
       "      <td>...</td>\n",
       "      <td>1</td>\n",
       "      <td>2</td>\n",
       "      <td>2</td>\n",
       "      <td>1</td>\n",
       "      <td>1</td>\n",
       "      <td>0</td>\n",
       "      <td>0</td>\n",
       "      <td>0</td>\n",
       "      <td>NaN</td>\n",
       "      <td>4</td>\n",
       "    </tr>\n",
       "    <tr>\n",
       "      <th>3</th>\n",
       "      <td>31</td>\n",
       "      <td>3</td>\n",
       "      <td>1</td>\n",
       "      <td>4</td>\n",
       "      <td>No. No me gusta que se vean las obras al fondo...</td>\n",
       "      <td>No. Me parece divertida y original, pero no la...</td>\n",
       "      <td>No. No me gusta la Semana Santa aunque ciertam...</td>\n",
       "      <td>No. Me parece que es recargada, que no está bi...</td>\n",
       "      <td>Sí, me parece que captura el momento, la celeb...</td>\n",
       "      <td>5</td>\n",
       "      <td>...</td>\n",
       "      <td>2</td>\n",
       "      <td>2</td>\n",
       "      <td>1</td>\n",
       "      <td>1</td>\n",
       "      <td>1</td>\n",
       "      <td>1</td>\n",
       "      <td>0</td>\n",
       "      <td>0</td>\n",
       "      <td>NaN</td>\n",
       "      <td>1</td>\n",
       "    </tr>\n",
       "    <tr>\n",
       "      <th>4</th>\n",
       "      <td>24</td>\n",
       "      <td>2</td>\n",
       "      <td>3</td>\n",
       "      <td>4</td>\n",
       "      <td>No, me transmite mucha tristeza</td>\n",
       "      <td>No, porque la persona sale haciendo el bobo</td>\n",
       "      <td>Si</td>\n",
       "      <td>Si, por los colores llamativos</td>\n",
       "      <td>0</td>\n",
       "      <td>5</td>\n",
       "      <td>...</td>\n",
       "      <td>2</td>\n",
       "      <td>2</td>\n",
       "      <td>2</td>\n",
       "      <td>1</td>\n",
       "      <td>1</td>\n",
       "      <td>0</td>\n",
       "      <td>0</td>\n",
       "      <td>0</td>\n",
       "      <td>Pareja</td>\n",
       "      <td>3</td>\n",
       "    </tr>\n",
       "  </tbody>\n",
       "</table>\n",
       "<p>5 rows × 125 columns</p>\n",
       "</div>"
      ],
      "text/plain": [
       "   Age  \\\n",
       "0   37   \n",
       "1   62   \n",
       "2   28   \n",
       "3   31   \n",
       "4   24   \n",
       "\n",
       "   Are you able to express verbally the emotions produced by an image you have seen?  \\\n",
       "0                                                  3                                   \n",
       "1                                                  3                                   \n",
       "2                                                  3                                   \n",
       "3                                                  3                                   \n",
       "4                                                  2                                   \n",
       "\n",
       "   By reusing an image, can you redefine the message that the sender has thought about?  \\\n",
       "0                                                  1                                      \n",
       "1                                                  1                                      \n",
       "2                                                  1                                      \n",
       "3                                                  1                                      \n",
       "4                                                  3                                      \n",
       "\n",
       "   Classify your degree of vision  \\\n",
       "0                               3   \n",
       "1                               3   \n",
       "2                               4   \n",
       "3                               4   \n",
       "4                               4   \n",
       "\n",
       "             Do you find this image attractive? Why?  \\\n",
       "0                Si, el puente que sostiene al tren    \n",
       "1  Serviría para ilustrar una historia. Quizá una...   \n",
       "2  No, no encuentro enfocados elementos que me at...   \n",
       "3  No. No me gusta que se vean las obras al fondo...   \n",
       "4                    No, me transmite mucha tristeza   \n",
       "\n",
       "        Do you find this image attractive? Why?       \\\n",
       "0                           No, me provoca angustia    \n",
       "1                       Broma de chocolate con leche   \n",
       "2  Sí, es muy curioso el contraste de colores ent...   \n",
       "3  No. Me parece divertida y original, pero no la...   \n",
       "4        No, porque la persona sale haciendo el bobo   \n",
       "\n",
       "           Do you find this image attractive? Why?.1  \\\n",
       "0                                No, no me interesa    \n",
       "1  Texturas, personas, no sabemos quienes pero el...   \n",
       "2  Sí, me causa curiosidad la situación que se va...   \n",
       "3  No. No me gusta la Semana Santa aunque ciertam...   \n",
       "4                                                 Si   \n",
       "\n",
       "           Do you find this image attractive? Why?.2  \\\n",
       "0               No, demasiado color y no.me.interesa   \n",
       "1  Exhuberancia se recrea en la iconografia  con ...   \n",
       "2  Sí, el color y las metáforas que recoge están ...   \n",
       "3  No. Me parece que es recargada, que no está bi...   \n",
       "4                     Si, por los colores llamativos   \n",
       "\n",
       "           Do you find this image attractive? Why?.3  \\\n",
       "0            Si, por el efecto del cohete en la mano   \n",
       "1  No se discute la hombría de quién de modo tan ...   \n",
       "2  Sí, el lanzamiento de cohete con el humo y la ...   \n",
       "3  Sí, me parece que captura el momento, la celeb...   \n",
       "4                                                  0   \n",
       "\n",
       "   Do you have access to devices (computer, mobile, tablet, etc.) connected to the Internet usually?  \\\n",
       "0                                                  5                                                   \n",
       "1                                                  5                                                   \n",
       "2                                                  5                                                   \n",
       "3                                                  5                                                   \n",
       "4                                                  5                                                   \n",
       "\n",
       "                                                                                    ...                                                                                    \\\n",
       "0                                                                                   ...                                                                                     \n",
       "1                                                                                   ...                                                                                     \n",
       "2                                                                                   ...                                                                                     \n",
       "3                                                                                   ...                                                                                     \n",
       "4                                                                                   ...                                                                                     \n",
       "\n",
       "   Which of the paired images do you find most attractive? 1/2 2/2.2  \\\n",
       "0                                                  2                   \n",
       "1                                                  2                   \n",
       "2                                                  1                   \n",
       "3                                                  2                   \n",
       "4                                                  2                   \n",
       "\n",
       "   Which of the paired images do you find most attractive? 1/2 2/2.3  \\\n",
       "0                                                  2                   \n",
       "1                                                  2                   \n",
       "2                                                  2                   \n",
       "3                                                  2                   \n",
       "4                                                  2                   \n",
       "\n",
       "   Which of the paired images do you find most attractive? 1/2 2/2.4  \\\n",
       "0                                                  2                   \n",
       "1                                                  2                   \n",
       "2                                                  2                   \n",
       "3                                                  1                   \n",
       "4                                                  2                   \n",
       "\n",
       "   With whom do you usually share images? [1. Friends]  \\\n",
       "0                                                  1     \n",
       "1                                                  1     \n",
       "2                                                  1     \n",
       "3                                                  1     \n",
       "4                                                  1     \n",
       "\n",
       "   With whom do you usually share images? [2. Family]  \\\n",
       "0                                                  1    \n",
       "1                                                  1    \n",
       "2                                                  1    \n",
       "3                                                  1    \n",
       "4                                                  1    \n",
       "\n",
       "   With whom do you usually share images? [3. Partners]  \\\n",
       "0                                                  0      \n",
       "1                                                  0      \n",
       "2                                                  0      \n",
       "3                                                  1      \n",
       "4                                                  0      \n",
       "\n",
       "   With whom do you usually share images? [4. With all my acquaintances]  \\\n",
       "0                                                  0                       \n",
       "1                                                  0                       \n",
       "2                                                  0                       \n",
       "3                                                  0                       \n",
       "4                                                  0                       \n",
       "\n",
       "   With whom do you usually share images? [5. With nobody]  \\\n",
       "0                                                  0         \n",
       "1                                                  0         \n",
       "2                                                  0         \n",
       "3                                                  0         \n",
       "4                                                  0         \n",
       "\n",
       "   With whom do you usually share images? [Other]  \\\n",
       "0                                             NaN   \n",
       "1                                             NaN   \n",
       "2                                             NaN   \n",
       "3                                             NaN   \n",
       "4                                          Pareja   \n",
       "\n",
       "   Within your social networks or mobile applications, do you see visual information that you are not looking for (social awareness campaigns, jokes, advertising, etc.)?  \n",
       "0                                                  4                                                                                                                       \n",
       "1                                                  5                                                                                                                       \n",
       "2                                                  4                                                                                                                       \n",
       "3                                                  1                                                                                                                       \n",
       "4                                                  3                                                                                                                       \n",
       "\n",
       "[5 rows x 125 columns]"
      ]
     },
     "execution_count": 3,
     "metadata": {},
     "output_type": "execute_result"
    }
   ],
   "source": [
    "dataframe_all_en = get_dataframe_analysis_en(True)\n",
    "dataframe_all_en.head()"
   ]
  },
  {
   "cell_type": "code",
   "execution_count": 4,
   "metadata": {},
   "outputs": [
    {
     "data": {
      "text/html": [
       "<div>\n",
       "<style scoped>\n",
       "    .dataframe tbody tr th:only-of-type {\n",
       "        vertical-align: middle;\n",
       "    }\n",
       "\n",
       "    .dataframe tbody tr th {\n",
       "        vertical-align: top;\n",
       "    }\n",
       "\n",
       "    .dataframe thead th {\n",
       "        text-align: right;\n",
       "    }\n",
       "</style>\n",
       "<table border=\"1\" class=\"dataframe\">\n",
       "  <thead>\n",
       "    <tr style=\"text-align: right;\">\n",
       "      <th></th>\n",
       "      <th>Al reutilizar una imagen, ¿crees puedes redefinir el mensaje que el emisor ha pensado?</th>\n",
       "      <th>Clasifica tu grado de visión</th>\n",
       "      <th>Cuando compartes imágenes en redes sociales, ¿las acompañas de texto siguiendo las indicaciones que te sugieren las aplicaciones (etiquetado, explicación de la imagen, texto inspirador, etc.)?</th>\n",
       "      <th>Cuando compartes imágenes, ¿habitualmente las envías a otras personas?</th>\n",
       "      <th>Cuando compartes imágenes, ¿habitualmente las produces tú?</th>\n",
       "      <th>Cuando compartes imágenes, ¿habitualmente las recibes de otras personas?</th>\n",
       "      <th>Cuando generas una imagen, ¿qué tipo de dispositivo usas? (Respuesta múltiple) [1. Cámara de fotos]</th>\n",
       "      <th>Cuando generas una imagen, ¿qué tipo de dispositivo usas? (Respuesta múltiple) [2. Teléfono móvil]</th>\n",
       "      <th>Cuando generas una imagen, ¿qué tipo de dispositivo usas? (Respuesta múltiple) [3. Tableta]</th>\n",
       "      <th>Cuando generas una imagen, ¿qué tipo de dispositivo usas? (Respuesta múltiple) [Otro]</th>\n",
       "      <th>...</th>\n",
       "      <th>¿Repites las imágenes hasta conseguir el resultado esperado?</th>\n",
       "      <th>¿Te gusta seguir a personas que admiras en redes sociales? ¿Eres fan o follower de alguna? ¿En ocasiones escribes comentarios en sus publicaciones?</th>\n",
       "      <th>¿Te resulta atractiva esta imagen? ¿Por qué?</th>\n",
       "      <th>¿Te resulta atractiva esta imagen? ¿Por qué?.1</th>\n",
       "      <th>¿Te resulta atractiva esta imagen? ¿Por qué?.2</th>\n",
       "      <th>¿Te resulta atractiva esta imagen? ¿Por qué?.3</th>\n",
       "      <th>¿Te resulta atractiva esta imagen? ¿Por qué?.4</th>\n",
       "      <th>¿Tienes acceso a dispositivos (ordenador, móvil, tablet, etc.) conectados a Internet habitualmente?</th>\n",
       "      <th>¿Tienes alguna carencia visual que afecte a la recepción de formas, colores, distancias, etc.?</th>\n",
       "      <th>¿Utilizas gafas o lentes de contacto?</th>\n",
       "    </tr>\n",
       "  </thead>\n",
       "  <tbody>\n",
       "    <tr>\n",
       "      <th>0</th>\n",
       "      <td>1</td>\n",
       "      <td>3</td>\n",
       "      <td>1</td>\n",
       "      <td>3</td>\n",
       "      <td>4</td>\n",
       "      <td>3</td>\n",
       "      <td>0</td>\n",
       "      <td>1</td>\n",
       "      <td>0</td>\n",
       "      <td>NaN</td>\n",
       "      <td>...</td>\n",
       "      <td>1</td>\n",
       "      <td>3</td>\n",
       "      <td>Si, el puente que sostiene al tren</td>\n",
       "      <td>No, no me interesa</td>\n",
       "      <td>No, demasiado color y no.me.interesa</td>\n",
       "      <td>Si, por el efecto del cohete en la mano</td>\n",
       "      <td>No, me provoca angustia</td>\n",
       "      <td>5</td>\n",
       "      <td>0</td>\n",
       "      <td>1</td>\n",
       "    </tr>\n",
       "    <tr>\n",
       "      <th>1</th>\n",
       "      <td>1</td>\n",
       "      <td>3</td>\n",
       "      <td>3</td>\n",
       "      <td>5</td>\n",
       "      <td>4</td>\n",
       "      <td>5</td>\n",
       "      <td>0</td>\n",
       "      <td>1</td>\n",
       "      <td>0</td>\n",
       "      <td>NaN</td>\n",
       "      <td>...</td>\n",
       "      <td>0</td>\n",
       "      <td>1</td>\n",
       "      <td>Serviría para ilustrar una historia. Quizá una...</td>\n",
       "      <td>Texturas, personas, no sabemos quienes pero el...</td>\n",
       "      <td>Exhuberancia se recrea en la iconografia  con ...</td>\n",
       "      <td>No se discute la hombría de quién de modo tan ...</td>\n",
       "      <td>Broma de chocolate con leche</td>\n",
       "      <td>5</td>\n",
       "      <td>0</td>\n",
       "      <td>1</td>\n",
       "    </tr>\n",
       "    <tr>\n",
       "      <th>2</th>\n",
       "      <td>1</td>\n",
       "      <td>4</td>\n",
       "      <td>3</td>\n",
       "      <td>3</td>\n",
       "      <td>4</td>\n",
       "      <td>4</td>\n",
       "      <td>0</td>\n",
       "      <td>1</td>\n",
       "      <td>0</td>\n",
       "      <td>NaN</td>\n",
       "      <td>...</td>\n",
       "      <td>1</td>\n",
       "      <td>3</td>\n",
       "      <td>No, no encuentro enfocados elementos que me at...</td>\n",
       "      <td>Sí, me causa curiosidad la situación que se va...</td>\n",
       "      <td>Sí, el color y las metáforas que recoge están ...</td>\n",
       "      <td>Sí, el lanzamiento de cohete con el humo y la ...</td>\n",
       "      <td>Sí, es muy curioso el contraste de colores ent...</td>\n",
       "      <td>5</td>\n",
       "      <td>0</td>\n",
       "      <td>1</td>\n",
       "    </tr>\n",
       "    <tr>\n",
       "      <th>3</th>\n",
       "      <td>1</td>\n",
       "      <td>4</td>\n",
       "      <td>5</td>\n",
       "      <td>4</td>\n",
       "      <td>4</td>\n",
       "      <td>2</td>\n",
       "      <td>1</td>\n",
       "      <td>1</td>\n",
       "      <td>0</td>\n",
       "      <td>NaN</td>\n",
       "      <td>...</td>\n",
       "      <td>1</td>\n",
       "      <td>3</td>\n",
       "      <td>No. No me gusta que se vean las obras al fondo...</td>\n",
       "      <td>No. No me gusta la Semana Santa aunque ciertam...</td>\n",
       "      <td>No. Me parece que es recargada, que no está bi...</td>\n",
       "      <td>Sí, me parece que captura el momento, la celeb...</td>\n",
       "      <td>No. Me parece divertida y original, pero no la...</td>\n",
       "      <td>5</td>\n",
       "      <td>0</td>\n",
       "      <td>1</td>\n",
       "    </tr>\n",
       "    <tr>\n",
       "      <th>4</th>\n",
       "      <td>3</td>\n",
       "      <td>4</td>\n",
       "      <td>4</td>\n",
       "      <td>4</td>\n",
       "      <td>3</td>\n",
       "      <td>4</td>\n",
       "      <td>1</td>\n",
       "      <td>1</td>\n",
       "      <td>0</td>\n",
       "      <td>NaN</td>\n",
       "      <td>...</td>\n",
       "      <td>1</td>\n",
       "      <td>2</td>\n",
       "      <td>No, me transmite mucha tristeza</td>\n",
       "      <td>Si</td>\n",
       "      <td>Si, por los colores llamativos</td>\n",
       "      <td>0</td>\n",
       "      <td>No, porque la persona sale haciendo el bobo</td>\n",
       "      <td>5</td>\n",
       "      <td>0</td>\n",
       "      <td>1</td>\n",
       "    </tr>\n",
       "  </tbody>\n",
       "</table>\n",
       "<p>5 rows × 125 columns</p>\n",
       "</div>"
      ],
      "text/plain": [
       "   Al reutilizar una imagen, ¿crees puedes redefinir el mensaje que el emisor ha pensado?  \\\n",
       "0                                                  1                                        \n",
       "1                                                  1                                        \n",
       "2                                                  1                                        \n",
       "3                                                  1                                        \n",
       "4                                                  3                                        \n",
       "\n",
       "   Clasifica tu grado de visión  \\\n",
       "0                             3   \n",
       "1                             3   \n",
       "2                             4   \n",
       "3                             4   \n",
       "4                             4   \n",
       "\n",
       "   Cuando compartes imágenes en redes sociales, ¿las acompañas de texto siguiendo las indicaciones que te sugieren las aplicaciones (etiquetado, explicación de la imagen, texto inspirador, etc.)?  \\\n",
       "0                                                  1                                                                                                                                                  \n",
       "1                                                  3                                                                                                                                                  \n",
       "2                                                  3                                                                                                                                                  \n",
       "3                                                  5                                                                                                                                                  \n",
       "4                                                  4                                                                                                                                                  \n",
       "\n",
       "   Cuando compartes imágenes, ¿habitualmente las envías a otras personas?  \\\n",
       "0                                                  3                        \n",
       "1                                                  5                        \n",
       "2                                                  3                        \n",
       "3                                                  4                        \n",
       "4                                                  4                        \n",
       "\n",
       "   Cuando compartes imágenes, ¿habitualmente las produces tú?  \\\n",
       "0                                                  4            \n",
       "1                                                  4            \n",
       "2                                                  4            \n",
       "3                                                  4            \n",
       "4                                                  3            \n",
       "\n",
       "   Cuando compartes imágenes, ¿habitualmente las recibes de otras personas?  \\\n",
       "0                                                  3                          \n",
       "1                                                  5                          \n",
       "2                                                  4                          \n",
       "3                                                  2                          \n",
       "4                                                  4                          \n",
       "\n",
       "   Cuando generas una imagen, ¿qué tipo de dispositivo usas? (Respuesta múltiple) [1. Cámara de fotos]  \\\n",
       "0                                                  0                                                     \n",
       "1                                                  0                                                     \n",
       "2                                                  0                                                     \n",
       "3                                                  1                                                     \n",
       "4                                                  1                                                     \n",
       "\n",
       "   Cuando generas una imagen, ¿qué tipo de dispositivo usas? (Respuesta múltiple) [2. Teléfono móvil]  \\\n",
       "0                                                  1                                                    \n",
       "1                                                  1                                                    \n",
       "2                                                  1                                                    \n",
       "3                                                  1                                                    \n",
       "4                                                  1                                                    \n",
       "\n",
       "   Cuando generas una imagen, ¿qué tipo de dispositivo usas? (Respuesta múltiple) [3. Tableta]  \\\n",
       "0                                                  0                                             \n",
       "1                                                  0                                             \n",
       "2                                                  0                                             \n",
       "3                                                  0                                             \n",
       "4                                                  0                                             \n",
       "\n",
       "  Cuando generas una imagen, ¿qué tipo de dispositivo usas? (Respuesta múltiple) [Otro]  \\\n",
       "0                                                NaN                                      \n",
       "1                                                NaN                                      \n",
       "2                                                NaN                                      \n",
       "3                                                NaN                                      \n",
       "4                                                NaN                                      \n",
       "\n",
       "                   ...                    \\\n",
       "0                  ...                     \n",
       "1                  ...                     \n",
       "2                  ...                     \n",
       "3                  ...                     \n",
       "4                  ...                     \n",
       "\n",
       "   ¿Repites las imágenes hasta conseguir el resultado esperado?  \\\n",
       "0                                                  1              \n",
       "1                                                  0              \n",
       "2                                                  1              \n",
       "3                                                  1              \n",
       "4                                                  1              \n",
       "\n",
       "   ¿Te gusta seguir a personas que admiras en redes sociales? ¿Eres fan o follower de alguna? ¿En ocasiones escribes comentarios en sus publicaciones?  \\\n",
       "0                                                  3                                                                                                     \n",
       "1                                                  1                                                                                                     \n",
       "2                                                  3                                                                                                     \n",
       "3                                                  3                                                                                                     \n",
       "4                                                  2                                                                                                     \n",
       "\n",
       "        ¿Te resulta atractiva esta imagen? ¿Por qué?  \\\n",
       "0                Si, el puente que sostiene al tren    \n",
       "1  Serviría para ilustrar una historia. Quizá una...   \n",
       "2  No, no encuentro enfocados elementos que me at...   \n",
       "3  No. No me gusta que se vean las obras al fondo...   \n",
       "4                    No, me transmite mucha tristeza   \n",
       "\n",
       "      ¿Te resulta atractiva esta imagen? ¿Por qué?.1  \\\n",
       "0                                No, no me interesa    \n",
       "1  Texturas, personas, no sabemos quienes pero el...   \n",
       "2  Sí, me causa curiosidad la situación que se va...   \n",
       "3  No. No me gusta la Semana Santa aunque ciertam...   \n",
       "4                                                 Si   \n",
       "\n",
       "      ¿Te resulta atractiva esta imagen? ¿Por qué?.2  \\\n",
       "0               No, demasiado color y no.me.interesa   \n",
       "1  Exhuberancia se recrea en la iconografia  con ...   \n",
       "2  Sí, el color y las metáforas que recoge están ...   \n",
       "3  No. Me parece que es recargada, que no está bi...   \n",
       "4                     Si, por los colores llamativos   \n",
       "\n",
       "      ¿Te resulta atractiva esta imagen? ¿Por qué?.3  \\\n",
       "0            Si, por el efecto del cohete en la mano   \n",
       "1  No se discute la hombría de quién de modo tan ...   \n",
       "2  Sí, el lanzamiento de cohete con el humo y la ...   \n",
       "3  Sí, me parece que captura el momento, la celeb...   \n",
       "4                                                  0   \n",
       "\n",
       "      ¿Te resulta atractiva esta imagen? ¿Por qué?.4  \\\n",
       "0                           No, me provoca angustia    \n",
       "1                       Broma de chocolate con leche   \n",
       "2  Sí, es muy curioso el contraste de colores ent...   \n",
       "3  No. Me parece divertida y original, pero no la...   \n",
       "4        No, porque la persona sale haciendo el bobo   \n",
       "\n",
       "   ¿Tienes acceso a dispositivos (ordenador, móvil, tablet, etc.) conectados a Internet habitualmente?  \\\n",
       "0                                                  5                                                     \n",
       "1                                                  5                                                     \n",
       "2                                                  5                                                     \n",
       "3                                                  5                                                     \n",
       "4                                                  5                                                     \n",
       "\n",
       "   ¿Tienes alguna carencia visual que afecte a la recepción de formas, colores, distancias, etc.?  \\\n",
       "0                                                  0                                                \n",
       "1                                                  0                                                \n",
       "2                                                  0                                                \n",
       "3                                                  0                                                \n",
       "4                                                  0                                                \n",
       "\n",
       "   ¿Utilizas gafas o lentes de contacto?  \n",
       "0                                      1  \n",
       "1                                      1  \n",
       "2                                      1  \n",
       "3                                      1  \n",
       "4                                      1  \n",
       "\n",
       "[5 rows x 125 columns]"
      ]
     },
     "execution_count": 4,
     "metadata": {},
     "output_type": "execute_result"
    }
   ],
   "source": [
    "dataframe_all_esp = get_dataframe_analysis_esp(True)\n",
    "dataframe_all_esp.head()"
   ]
  },
  {
   "cell_type": "code",
   "execution_count": 5,
   "metadata": {},
   "outputs": [],
   "source": [
    "def visualize_interpretation_images_all_esp(dataframe):\n",
    "    newDataframe = dataframe.copy()\n",
    "    for column in get_interpretation_image_items_esp():\n",
    "        try:\n",
    "            print(f'Describiendo la pregunta {column}')\n",
    "            dict_item = get_data_replacements(str(column))\n",
    "            if dict_item:\n",
    "                newDataframe[column] = newDataframe[column].apply(get_data_replacements(str(column)).get)\n",
    "            display(newDataframe[column].describe())\n",
    "            print(\n",
    "                f'Conteo de cada valor en {column} expresada como valor / cantidad')\n",
    "            display(newDataframe[column].value_counts().sort_index())\n",
    "            print(\n",
    "                f'Porcentaje de cada valor en {column} expresado como valor / porcentaje')\n",
    "            display(newDataframe[column].value_counts(normalize=True).sort_index().round(4) * 100)\n",
    "            data = [go.Bar(x=sorted(newDataframe[column].unique()),\n",
    "                           y=newDataframe[column].value_counts().reindex(newDataframe[column].unique(), fill_value=0).sort_index(),\n",
    "                           marker=dict(color=cl.scales['6']['div']['Spectral']))]\n",
    "\n",
    "            iplot(data)\n",
    "            plt.show()\n",
    "        except BaseException:\n",
    "            pass"
   ]
  },
  {
   "cell_type": "code",
   "execution_count": 6,
   "metadata": {},
   "outputs": [],
   "source": [
    "def visualize_interpretation_images_all_en(dataframe):\n",
    "    newDataframe = dataframe.copy()\n",
    "    for column in get_interpretation_image_items_en():\n",
    "        try:\n",
    "            print(f'Describing the feature {column}')\n",
    "            dict_item = get_data_replacements(str(column))\n",
    "            if dict_item:\n",
    "                newDataframe[column] = newDataframe[column].apply(get_data_replacements(str(column)).get)\n",
    "            display(newDataframe[column].describe())\n",
    "            print(\n",
    "                f'Count of each value in {column} expresed as value / amount')\n",
    "            display(newDataframe[column].value_counts().sort_index())\n",
    "            print(\n",
    "                f'Percentage of each value in {column} expresed as value / percentage')\n",
    "            display(newDataframe[column].value_counts(normalize=True).sort_index().round(4) * 100)\n",
    "            data = [go.Bar(x=sorted(newDataframe[column].unique()),\n",
    "                           y=newDataframe[column].value_counts().reindex(newDataframe[column].unique(), fill_value=0).sort_index(),\n",
    "                           marker=dict(color=cl.scales['6']['div']['Spectral']))]\n",
    "\n",
    "            iplot(data)\n",
    "            plt.show()\n",
    "        except BaseException:\n",
    "            pass"
   ]
  },
  {
   "cell_type": "code",
   "execution_count": 7,
   "metadata": {
    "scrolled": false
   },
   "outputs": [
    {
     "name": "stdout",
     "output_type": "stream",
     "text": [
      "Describiendo la pregunta Cuando te encuentras con una imagen, ¿intentas entender con qué intención está hecha?\n"
     ]
    },
    {
     "data": {
      "text/plain": [
       "count                 767\n",
       "unique                  5\n",
       "top       3. En ocasiones\n",
       "freq                  274\n",
       "Name: Cuando te encuentras con una imagen, ¿intentas entender con qué intención está hecha?, dtype: object"
      ]
     },
     "metadata": {},
     "output_type": "display_data"
    },
    {
     "name": "stdout",
     "output_type": "stream",
     "text": [
      "Conteo de cada valor en Cuando te encuentras con una imagen, ¿intentas entender con qué intención está hecha? expresada como valor / cantidad\n"
     ]
    },
    {
     "data": {
      "text/plain": [
       "1. Nunca                      21\n",
       "2. Muy pocas veces            98\n",
       "3. En ocasiones              274\n",
       "4. Bastantes veces           243\n",
       "5. Casi siempre o siempre    131\n",
       "Name: Cuando te encuentras con una imagen, ¿intentas entender con qué intención está hecha?, dtype: int64"
      ]
     },
     "metadata": {},
     "output_type": "display_data"
    },
    {
     "name": "stdout",
     "output_type": "stream",
     "text": [
      "Porcentaje de cada valor en Cuando te encuentras con una imagen, ¿intentas entender con qué intención está hecha? expresado como valor / porcentaje\n"
     ]
    },
    {
     "data": {
      "text/plain": [
       "1. Nunca                      2.74\n",
       "2. Muy pocas veces           12.78\n",
       "3. En ocasiones              35.72\n",
       "4. Bastantes veces           31.68\n",
       "5. Casi siempre o siempre    17.08\n",
       "Name: Cuando te encuentras con una imagen, ¿intentas entender con qué intención está hecha?, dtype: float64"
      ]
     },
     "metadata": {},
     "output_type": "display_data"
    },
    {
     "data": {
      "application/vnd.plotly.v1+json": {
       "config": {
        "linkText": "Export to plot.ly",
        "plotlyServerURL": "https://plot.ly",
        "showLink": false
       },
       "data": [
        {
         "marker": {
          "color": [
           "rgb(213,62,79)",
           "rgb(252,141,89)",
           "rgb(254,224,139)",
           "rgb(230,245,152)",
           "rgb(153,213,148)",
           "rgb(50,136,189)"
          ]
         },
         "type": "bar",
         "uid": "40665ff9-0e49-4cdb-9ae4-dd0be5fc0e3a",
         "x": [
          "1. Nunca",
          "2. Muy pocas veces",
          "3. En ocasiones",
          "4. Bastantes veces",
          "5. Casi siempre o siempre"
         ],
         "y": [
          21,
          98,
          274,
          243,
          131
         ]
        }
       ],
       "layout": {}
      },
      "text/html": [
       "<div id=\"cd5dc3e6-6b39-45b2-8589-b0891107a5b9\" style=\"height: 525px; width: 100%;\" class=\"plotly-graph-div\"></div><script type=\"text/javascript\">require([\"plotly\"], function(Plotly) { window.PLOTLYENV=window.PLOTLYENV || {};window.PLOTLYENV.BASE_URL=\"https://plot.ly\";\n",
       "if (document.getElementById(\"cd5dc3e6-6b39-45b2-8589-b0891107a5b9\")) {\n",
       "    Plotly.newPlot(\"cd5dc3e6-6b39-45b2-8589-b0891107a5b9\", [{\"marker\": {\"color\": [\"rgb(213,62,79)\", \"rgb(252,141,89)\", \"rgb(254,224,139)\", \"rgb(230,245,152)\", \"rgb(153,213,148)\", \"rgb(50,136,189)\"]}, \"x\": [\"1. Nunca\", \"2. Muy pocas veces\", \"3. En ocasiones\", \"4. Bastantes veces\", \"5. Casi siempre o siempre\"], \"y\": [21, 98, 274, 243, 131], \"type\": \"bar\", \"uid\": \"4891cb6e-efb2-4944-bfad-03158d287aa0\"}], {}, {\"showLink\": false, \"linkText\": \"Export to plot.ly\", \"plotlyServerURL\": \"https://plot.ly\"}); \n",
       "}\n",
       "});</script><script type=\"text/javascript\">window.addEventListener(\"resize\", function(){if (document.getElementById(\"cd5dc3e6-6b39-45b2-8589-b0891107a5b9\")) {window._Plotly.Plots.resize(document.getElementById(\"cd5dc3e6-6b39-45b2-8589-b0891107a5b9\"));};})</script>"
      ],
      "text/vnd.plotly.v1+html": [
       "<div id=\"cd5dc3e6-6b39-45b2-8589-b0891107a5b9\" style=\"height: 525px; width: 100%;\" class=\"plotly-graph-div\"></div><script type=\"text/javascript\">require([\"plotly\"], function(Plotly) { window.PLOTLYENV=window.PLOTLYENV || {};window.PLOTLYENV.BASE_URL=\"https://plot.ly\";\n",
       "if (document.getElementById(\"cd5dc3e6-6b39-45b2-8589-b0891107a5b9\")) {\n",
       "    Plotly.newPlot(\"cd5dc3e6-6b39-45b2-8589-b0891107a5b9\", [{\"marker\": {\"color\": [\"rgb(213,62,79)\", \"rgb(252,141,89)\", \"rgb(254,224,139)\", \"rgb(230,245,152)\", \"rgb(153,213,148)\", \"rgb(50,136,189)\"]}, \"x\": [\"1. Nunca\", \"2. Muy pocas veces\", \"3. En ocasiones\", \"4. Bastantes veces\", \"5. Casi siempre o siempre\"], \"y\": [21, 98, 274, 243, 131], \"type\": \"bar\", \"uid\": \"4891cb6e-efb2-4944-bfad-03158d287aa0\"}], {}, {\"showLink\": false, \"linkText\": \"Export to plot.ly\", \"plotlyServerURL\": \"https://plot.ly\"}); \n",
       "}\n",
       "});</script><script type=\"text/javascript\">window.addEventListener(\"resize\", function(){if (document.getElementById(\"cd5dc3e6-6b39-45b2-8589-b0891107a5b9\")) {window._Plotly.Plots.resize(document.getElementById(\"cd5dc3e6-6b39-45b2-8589-b0891107a5b9\"));};})</script>"
      ]
     },
     "metadata": {},
     "output_type": "display_data"
    },
    {
     "name": "stdout",
     "output_type": "stream",
     "text": [
      "Describiendo la pregunta Cuando recibes o consumes una imagen, ¿la comparas con tu propia realidad? ¿Intentas encontrar en tu entorno cierto parecido?\n"
     ]
    },
    {
     "data": {
      "text/plain": [
       "count                 767\n",
       "unique                  5\n",
       "top       3. En ocasiones\n",
       "freq                  308\n",
       "Name: Cuando recibes o consumes una imagen, ¿la comparas con tu propia realidad? ¿Intentas encontrar en tu entorno cierto parecido?, dtype: object"
      ]
     },
     "metadata": {},
     "output_type": "display_data"
    },
    {
     "name": "stdout",
     "output_type": "stream",
     "text": [
      "Conteo de cada valor en Cuando recibes o consumes una imagen, ¿la comparas con tu propia realidad? ¿Intentas encontrar en tu entorno cierto parecido? expresada como valor / cantidad\n"
     ]
    },
    {
     "data": {
      "text/plain": [
       "1. Nunca                      26\n",
       "2. Muy pocas veces           115\n",
       "3. En ocasiones              308\n",
       "4. Bastantes veces           237\n",
       "5. Casi siempre o siempre     81\n",
       "Name: Cuando recibes o consumes una imagen, ¿la comparas con tu propia realidad? ¿Intentas encontrar en tu entorno cierto parecido?, dtype: int64"
      ]
     },
     "metadata": {},
     "output_type": "display_data"
    },
    {
     "name": "stdout",
     "output_type": "stream",
     "text": [
      "Porcentaje de cada valor en Cuando recibes o consumes una imagen, ¿la comparas con tu propia realidad? ¿Intentas encontrar en tu entorno cierto parecido? expresado como valor / porcentaje\n"
     ]
    },
    {
     "data": {
      "text/plain": [
       "1. Nunca                      3.39\n",
       "2. Muy pocas veces           14.99\n",
       "3. En ocasiones              40.16\n",
       "4. Bastantes veces           30.90\n",
       "5. Casi siempre o siempre    10.56\n",
       "Name: Cuando recibes o consumes una imagen, ¿la comparas con tu propia realidad? ¿Intentas encontrar en tu entorno cierto parecido?, dtype: float64"
      ]
     },
     "metadata": {},
     "output_type": "display_data"
    },
    {
     "data": {
      "application/vnd.plotly.v1+json": {
       "config": {
        "linkText": "Export to plot.ly",
        "plotlyServerURL": "https://plot.ly",
        "showLink": false
       },
       "data": [
        {
         "marker": {
          "color": [
           "rgb(213,62,79)",
           "rgb(252,141,89)",
           "rgb(254,224,139)",
           "rgb(230,245,152)",
           "rgb(153,213,148)",
           "rgb(50,136,189)"
          ]
         },
         "type": "bar",
         "uid": "5293e1b7-e2a0-4db0-ba0c-9506d018a6c4",
         "x": [
          "1. Nunca",
          "2. Muy pocas veces",
          "3. En ocasiones",
          "4. Bastantes veces",
          "5. Casi siempre o siempre"
         ],
         "y": [
          26,
          115,
          308,
          237,
          81
         ]
        }
       ],
       "layout": {}
      },
      "text/html": [
       "<div id=\"4ad7a50b-929f-4fd1-87ab-12656e326db4\" style=\"height: 525px; width: 100%;\" class=\"plotly-graph-div\"></div><script type=\"text/javascript\">require([\"plotly\"], function(Plotly) { window.PLOTLYENV=window.PLOTLYENV || {};window.PLOTLYENV.BASE_URL=\"https://plot.ly\";\n",
       "if (document.getElementById(\"4ad7a50b-929f-4fd1-87ab-12656e326db4\")) {\n",
       "    Plotly.newPlot(\"4ad7a50b-929f-4fd1-87ab-12656e326db4\", [{\"marker\": {\"color\": [\"rgb(213,62,79)\", \"rgb(252,141,89)\", \"rgb(254,224,139)\", \"rgb(230,245,152)\", \"rgb(153,213,148)\", \"rgb(50,136,189)\"]}, \"x\": [\"1. Nunca\", \"2. Muy pocas veces\", \"3. En ocasiones\", \"4. Bastantes veces\", \"5. Casi siempre o siempre\"], \"y\": [26, 115, 308, 237, 81], \"type\": \"bar\", \"uid\": \"a9b829e6-3006-4f8a-805a-63dbe0d093ce\"}], {}, {\"showLink\": false, \"linkText\": \"Export to plot.ly\", \"plotlyServerURL\": \"https://plot.ly\"}); \n",
       "}\n",
       "});</script><script type=\"text/javascript\">window.addEventListener(\"resize\", function(){if (document.getElementById(\"4ad7a50b-929f-4fd1-87ab-12656e326db4\")) {window._Plotly.Plots.resize(document.getElementById(\"4ad7a50b-929f-4fd1-87ab-12656e326db4\"));};})</script>"
      ],
      "text/vnd.plotly.v1+html": [
       "<div id=\"4ad7a50b-929f-4fd1-87ab-12656e326db4\" style=\"height: 525px; width: 100%;\" class=\"plotly-graph-div\"></div><script type=\"text/javascript\">require([\"plotly\"], function(Plotly) { window.PLOTLYENV=window.PLOTLYENV || {};window.PLOTLYENV.BASE_URL=\"https://plot.ly\";\n",
       "if (document.getElementById(\"4ad7a50b-929f-4fd1-87ab-12656e326db4\")) {\n",
       "    Plotly.newPlot(\"4ad7a50b-929f-4fd1-87ab-12656e326db4\", [{\"marker\": {\"color\": [\"rgb(213,62,79)\", \"rgb(252,141,89)\", \"rgb(254,224,139)\", \"rgb(230,245,152)\", \"rgb(153,213,148)\", \"rgb(50,136,189)\"]}, \"x\": [\"1. Nunca\", \"2. Muy pocas veces\", \"3. En ocasiones\", \"4. Bastantes veces\", \"5. Casi siempre o siempre\"], \"y\": [26, 115, 308, 237, 81], \"type\": \"bar\", \"uid\": \"a9b829e6-3006-4f8a-805a-63dbe0d093ce\"}], {}, {\"showLink\": false, \"linkText\": \"Export to plot.ly\", \"plotlyServerURL\": \"https://plot.ly\"}); \n",
       "}\n",
       "});</script><script type=\"text/javascript\">window.addEventListener(\"resize\", function(){if (document.getElementById(\"4ad7a50b-929f-4fd1-87ab-12656e326db4\")) {window._Plotly.Plots.resize(document.getElementById(\"4ad7a50b-929f-4fd1-87ab-12656e326db4\"));};})</script>"
      ]
     },
     "metadata": {},
     "output_type": "display_data"
    },
    {
     "name": "stdout",
     "output_type": "stream",
     "text": [
      "Describiendo la pregunta Cuando recibes o consumes una imagen, ¿piensas en el modo en que fue obtenida (técnicamente)?\n"
     ]
    },
    {
     "data": {
      "text/plain": [
       "count                 767\n",
       "unique                  5\n",
       "top       3. En ocasiones\n",
       "freq                  282\n",
       "Name: Cuando recibes o consumes una imagen, ¿piensas en el modo en que fue obtenida (técnicamente)?, dtype: object"
      ]
     },
     "metadata": {},
     "output_type": "display_data"
    },
    {
     "name": "stdout",
     "output_type": "stream",
     "text": [
      "Conteo de cada valor en Cuando recibes o consumes una imagen, ¿piensas en el modo en que fue obtenida (técnicamente)? expresada como valor / cantidad\n"
     ]
    },
    {
     "data": {
      "text/plain": [
       "1. Nunca                      48\n",
       "2. Muy pocas veces           167\n",
       "3. En ocasiones              282\n",
       "4. Bastantes veces           198\n",
       "5. Casi siempre o siempre     72\n",
       "Name: Cuando recibes o consumes una imagen, ¿piensas en el modo en que fue obtenida (técnicamente)?, dtype: int64"
      ]
     },
     "metadata": {},
     "output_type": "display_data"
    },
    {
     "name": "stdout",
     "output_type": "stream",
     "text": [
      "Porcentaje de cada valor en Cuando recibes o consumes una imagen, ¿piensas en el modo en que fue obtenida (técnicamente)? expresado como valor / porcentaje\n"
     ]
    },
    {
     "data": {
      "text/plain": [
       "1. Nunca                      6.26\n",
       "2. Muy pocas veces           21.77\n",
       "3. En ocasiones              36.77\n",
       "4. Bastantes veces           25.81\n",
       "5. Casi siempre o siempre     9.39\n",
       "Name: Cuando recibes o consumes una imagen, ¿piensas en el modo en que fue obtenida (técnicamente)?, dtype: float64"
      ]
     },
     "metadata": {},
     "output_type": "display_data"
    },
    {
     "data": {
      "application/vnd.plotly.v1+json": {
       "config": {
        "linkText": "Export to plot.ly",
        "plotlyServerURL": "https://plot.ly",
        "showLink": false
       },
       "data": [
        {
         "marker": {
          "color": [
           "rgb(213,62,79)",
           "rgb(252,141,89)",
           "rgb(254,224,139)",
           "rgb(230,245,152)",
           "rgb(153,213,148)",
           "rgb(50,136,189)"
          ]
         },
         "type": "bar",
         "uid": "339730ef-7034-484c-bce7-c4141288b5c4",
         "x": [
          "1. Nunca",
          "2. Muy pocas veces",
          "3. En ocasiones",
          "4. Bastantes veces",
          "5. Casi siempre o siempre"
         ],
         "y": [
          48,
          167,
          282,
          198,
          72
         ]
        }
       ],
       "layout": {}
      },
      "text/html": [
       "<div id=\"13e8db60-f565-4fb1-845b-a001ce8254e0\" style=\"height: 525px; width: 100%;\" class=\"plotly-graph-div\"></div><script type=\"text/javascript\">require([\"plotly\"], function(Plotly) { window.PLOTLYENV=window.PLOTLYENV || {};window.PLOTLYENV.BASE_URL=\"https://plot.ly\";\n",
       "if (document.getElementById(\"13e8db60-f565-4fb1-845b-a001ce8254e0\")) {\n",
       "    Plotly.newPlot(\"13e8db60-f565-4fb1-845b-a001ce8254e0\", [{\"marker\": {\"color\": [\"rgb(213,62,79)\", \"rgb(252,141,89)\", \"rgb(254,224,139)\", \"rgb(230,245,152)\", \"rgb(153,213,148)\", \"rgb(50,136,189)\"]}, \"x\": [\"1. Nunca\", \"2. Muy pocas veces\", \"3. En ocasiones\", \"4. Bastantes veces\", \"5. Casi siempre o siempre\"], \"y\": [48, 167, 282, 198, 72], \"type\": \"bar\", \"uid\": \"13e4fb42-6f21-4a73-a91b-5c3d84a19d8e\"}], {}, {\"showLink\": false, \"linkText\": \"Export to plot.ly\", \"plotlyServerURL\": \"https://plot.ly\"}); \n",
       "}\n",
       "});</script><script type=\"text/javascript\">window.addEventListener(\"resize\", function(){if (document.getElementById(\"13e8db60-f565-4fb1-845b-a001ce8254e0\")) {window._Plotly.Plots.resize(document.getElementById(\"13e8db60-f565-4fb1-845b-a001ce8254e0\"));};})</script>"
      ],
      "text/vnd.plotly.v1+html": [
       "<div id=\"13e8db60-f565-4fb1-845b-a001ce8254e0\" style=\"height: 525px; width: 100%;\" class=\"plotly-graph-div\"></div><script type=\"text/javascript\">require([\"plotly\"], function(Plotly) { window.PLOTLYENV=window.PLOTLYENV || {};window.PLOTLYENV.BASE_URL=\"https://plot.ly\";\n",
       "if (document.getElementById(\"13e8db60-f565-4fb1-845b-a001ce8254e0\")) {\n",
       "    Plotly.newPlot(\"13e8db60-f565-4fb1-845b-a001ce8254e0\", [{\"marker\": {\"color\": [\"rgb(213,62,79)\", \"rgb(252,141,89)\", \"rgb(254,224,139)\", \"rgb(230,245,152)\", \"rgb(153,213,148)\", \"rgb(50,136,189)\"]}, \"x\": [\"1. Nunca\", \"2. Muy pocas veces\", \"3. En ocasiones\", \"4. Bastantes veces\", \"5. Casi siempre o siempre\"], \"y\": [48, 167, 282, 198, 72], \"type\": \"bar\", \"uid\": \"13e4fb42-6f21-4a73-a91b-5c3d84a19d8e\"}], {}, {\"showLink\": false, \"linkText\": \"Export to plot.ly\", \"plotlyServerURL\": \"https://plot.ly\"}); \n",
       "}\n",
       "});</script><script type=\"text/javascript\">window.addEventListener(\"resize\", function(){if (document.getElementById(\"13e8db60-f565-4fb1-845b-a001ce8254e0\")) {window._Plotly.Plots.resize(document.getElementById(\"13e8db60-f565-4fb1-845b-a001ce8254e0\"));};})</script>"
      ]
     },
     "metadata": {},
     "output_type": "display_data"
    },
    {
     "name": "stdout",
     "output_type": "stream",
     "text": [
      "Describiendo la pregunta Cuando observas una imagen, ¿te preguntas cosas acerca de los personajes/objetos que aparecen en la misma?\n"
     ]
    },
    {
     "data": {
      "text/plain": [
       "count                    767\n",
       "unique                     5\n",
       "top       4. Bastantes veces\n",
       "freq                     269\n",
       "Name: Cuando observas una imagen, ¿te preguntas cosas acerca de los personajes/objetos que aparecen en la misma?, dtype: object"
      ]
     },
     "metadata": {},
     "output_type": "display_data"
    },
    {
     "name": "stdout",
     "output_type": "stream",
     "text": [
      "Conteo de cada valor en Cuando observas una imagen, ¿te preguntas cosas acerca de los personajes/objetos que aparecen en la misma? expresada como valor / cantidad\n"
     ]
    },
    {
     "data": {
      "text/plain": [
       "1. Nunca                      17\n",
       "2. Muy pocas veces            91\n",
       "3. En ocasiones              267\n",
       "4. Bastantes veces           269\n",
       "5. Casi siempre o siempre    123\n",
       "Name: Cuando observas una imagen, ¿te preguntas cosas acerca de los personajes/objetos que aparecen en la misma?, dtype: int64"
      ]
     },
     "metadata": {},
     "output_type": "display_data"
    },
    {
     "name": "stdout",
     "output_type": "stream",
     "text": [
      "Porcentaje de cada valor en Cuando observas una imagen, ¿te preguntas cosas acerca de los personajes/objetos que aparecen en la misma? expresado como valor / porcentaje\n"
     ]
    },
    {
     "data": {
      "text/plain": [
       "1. Nunca                      2.22\n",
       "2. Muy pocas veces           11.86\n",
       "3. En ocasiones              34.81\n",
       "4. Bastantes veces           35.07\n",
       "5. Casi siempre o siempre    16.04\n",
       "Name: Cuando observas una imagen, ¿te preguntas cosas acerca de los personajes/objetos que aparecen en la misma?, dtype: float64"
      ]
     },
     "metadata": {},
     "output_type": "display_data"
    },
    {
     "data": {
      "application/vnd.plotly.v1+json": {
       "config": {
        "linkText": "Export to plot.ly",
        "plotlyServerURL": "https://plot.ly",
        "showLink": false
       },
       "data": [
        {
         "marker": {
          "color": [
           "rgb(213,62,79)",
           "rgb(252,141,89)",
           "rgb(254,224,139)",
           "rgb(230,245,152)",
           "rgb(153,213,148)",
           "rgb(50,136,189)"
          ]
         },
         "type": "bar",
         "uid": "e5604d84-5da9-4ccd-93c6-3f4c6c431d5e",
         "x": [
          "1. Nunca",
          "2. Muy pocas veces",
          "3. En ocasiones",
          "4. Bastantes veces",
          "5. Casi siempre o siempre"
         ],
         "y": [
          17,
          91,
          267,
          269,
          123
         ]
        }
       ],
       "layout": {}
      },
      "text/html": [
       "<div id=\"27c8e160-cb24-4635-8af5-befab1b9bd71\" style=\"height: 525px; width: 100%;\" class=\"plotly-graph-div\"></div><script type=\"text/javascript\">require([\"plotly\"], function(Plotly) { window.PLOTLYENV=window.PLOTLYENV || {};window.PLOTLYENV.BASE_URL=\"https://plot.ly\";\n",
       "if (document.getElementById(\"27c8e160-cb24-4635-8af5-befab1b9bd71\")) {\n",
       "    Plotly.newPlot(\"27c8e160-cb24-4635-8af5-befab1b9bd71\", [{\"marker\": {\"color\": [\"rgb(213,62,79)\", \"rgb(252,141,89)\", \"rgb(254,224,139)\", \"rgb(230,245,152)\", \"rgb(153,213,148)\", \"rgb(50,136,189)\"]}, \"x\": [\"1. Nunca\", \"2. Muy pocas veces\", \"3. En ocasiones\", \"4. Bastantes veces\", \"5. Casi siempre o siempre\"], \"y\": [17, 91, 267, 269, 123], \"type\": \"bar\", \"uid\": \"6ee27ff1-ff09-4305-b9a1-deec694c0d0e\"}], {}, {\"showLink\": false, \"linkText\": \"Export to plot.ly\", \"plotlyServerURL\": \"https://plot.ly\"}); \n",
       "}\n",
       "});</script><script type=\"text/javascript\">window.addEventListener(\"resize\", function(){if (document.getElementById(\"27c8e160-cb24-4635-8af5-befab1b9bd71\")) {window._Plotly.Plots.resize(document.getElementById(\"27c8e160-cb24-4635-8af5-befab1b9bd71\"));};})</script>"
      ],
      "text/vnd.plotly.v1+html": [
       "<div id=\"27c8e160-cb24-4635-8af5-befab1b9bd71\" style=\"height: 525px; width: 100%;\" class=\"plotly-graph-div\"></div><script type=\"text/javascript\">require([\"plotly\"], function(Plotly) { window.PLOTLYENV=window.PLOTLYENV || {};window.PLOTLYENV.BASE_URL=\"https://plot.ly\";\n",
       "if (document.getElementById(\"27c8e160-cb24-4635-8af5-befab1b9bd71\")) {\n",
       "    Plotly.newPlot(\"27c8e160-cb24-4635-8af5-befab1b9bd71\", [{\"marker\": {\"color\": [\"rgb(213,62,79)\", \"rgb(252,141,89)\", \"rgb(254,224,139)\", \"rgb(230,245,152)\", \"rgb(153,213,148)\", \"rgb(50,136,189)\"]}, \"x\": [\"1. Nunca\", \"2. Muy pocas veces\", \"3. En ocasiones\", \"4. Bastantes veces\", \"5. Casi siempre o siempre\"], \"y\": [17, 91, 267, 269, 123], \"type\": \"bar\", \"uid\": \"6ee27ff1-ff09-4305-b9a1-deec694c0d0e\"}], {}, {\"showLink\": false, \"linkText\": \"Export to plot.ly\", \"plotlyServerURL\": \"https://plot.ly\"}); \n",
       "}\n",
       "});</script><script type=\"text/javascript\">window.addEventListener(\"resize\", function(){if (document.getElementById(\"27c8e160-cb24-4635-8af5-befab1b9bd71\")) {window._Plotly.Plots.resize(document.getElementById(\"27c8e160-cb24-4635-8af5-befab1b9bd71\"));};})</script>"
      ]
     },
     "metadata": {},
     "output_type": "display_data"
    },
    {
     "name": "stdout",
     "output_type": "stream",
     "text": [
      "Describiendo la pregunta ¿Entiendes, generalmente, las intenciones que tiene el autor de una imagen cuando la ves y la compartes?\n"
     ]
    },
    {
     "data": {
      "text/plain": [
       "count                 767\n",
       "unique                  5\n",
       "top       3. Occasionally\n",
       "freq                  291\n",
       "Name: ¿Entiendes, generalmente, las intenciones que tiene el autor de una imagen cuando la ves y la compartes?, dtype: object"
      ]
     },
     "metadata": {},
     "output_type": "display_data"
    },
    {
     "name": "stdout",
     "output_type": "stream",
     "text": [
      "Conteo de cada valor en ¿Entiendes, generalmente, las intenciones que tiene el autor de una imagen cuando la ves y la compartes? expresada como valor / cantidad\n"
     ]
    },
    {
     "data": {
      "text/plain": [
       "1. Never                       26\n",
       "2. Very rarely                 81\n",
       "3. Occasionally               291\n",
       "4. Several times              277\n",
       "5. Almost always or always     92\n",
       "Name: ¿Entiendes, generalmente, las intenciones que tiene el autor de una imagen cuando la ves y la compartes?, dtype: int64"
      ]
     },
     "metadata": {},
     "output_type": "display_data"
    },
    {
     "name": "stdout",
     "output_type": "stream",
     "text": [
      "Porcentaje de cada valor en ¿Entiendes, generalmente, las intenciones que tiene el autor de una imagen cuando la ves y la compartes? expresado como valor / porcentaje\n"
     ]
    },
    {
     "data": {
      "text/plain": [
       "1. Never                       3.39\n",
       "2. Very rarely                10.56\n",
       "3. Occasionally               37.94\n",
       "4. Several times              36.11\n",
       "5. Almost always or always    11.99\n",
       "Name: ¿Entiendes, generalmente, las intenciones que tiene el autor de una imagen cuando la ves y la compartes?, dtype: float64"
      ]
     },
     "metadata": {},
     "output_type": "display_data"
    },
    {
     "data": {
      "application/vnd.plotly.v1+json": {
       "config": {
        "linkText": "Export to plot.ly",
        "plotlyServerURL": "https://plot.ly",
        "showLink": false
       },
       "data": [
        {
         "marker": {
          "color": [
           "rgb(213,62,79)",
           "rgb(252,141,89)",
           "rgb(254,224,139)",
           "rgb(230,245,152)",
           "rgb(153,213,148)",
           "rgb(50,136,189)"
          ]
         },
         "type": "bar",
         "uid": "086c6f53-9d31-47e4-8a8f-1b3363571a4b",
         "x": [
          "1. Never",
          "2. Very rarely",
          "3. Occasionally",
          "4. Several times",
          "5. Almost always or always"
         ],
         "y": [
          26,
          81,
          291,
          277,
          92
         ]
        }
       ],
       "layout": {}
      },
      "text/html": [
       "<div id=\"bda1abdc-8e4e-428d-b119-4d057d3fbdac\" style=\"height: 525px; width: 100%;\" class=\"plotly-graph-div\"></div><script type=\"text/javascript\">require([\"plotly\"], function(Plotly) { window.PLOTLYENV=window.PLOTLYENV || {};window.PLOTLYENV.BASE_URL=\"https://plot.ly\";\n",
       "if (document.getElementById(\"bda1abdc-8e4e-428d-b119-4d057d3fbdac\")) {\n",
       "    Plotly.newPlot(\"bda1abdc-8e4e-428d-b119-4d057d3fbdac\", [{\"marker\": {\"color\": [\"rgb(213,62,79)\", \"rgb(252,141,89)\", \"rgb(254,224,139)\", \"rgb(230,245,152)\", \"rgb(153,213,148)\", \"rgb(50,136,189)\"]}, \"x\": [\"1. Never\", \"2. Very rarely\", \"3. Occasionally\", \"4. Several times\", \"5. Almost always or always\"], \"y\": [26, 81, 291, 277, 92], \"type\": \"bar\", \"uid\": \"d2ddb351-a4b5-49e2-a90f-f65660fc41df\"}], {}, {\"showLink\": false, \"linkText\": \"Export to plot.ly\", \"plotlyServerURL\": \"https://plot.ly\"}); \n",
       "}\n",
       "});</script><script type=\"text/javascript\">window.addEventListener(\"resize\", function(){if (document.getElementById(\"bda1abdc-8e4e-428d-b119-4d057d3fbdac\")) {window._Plotly.Plots.resize(document.getElementById(\"bda1abdc-8e4e-428d-b119-4d057d3fbdac\"));};})</script>"
      ],
      "text/vnd.plotly.v1+html": [
       "<div id=\"bda1abdc-8e4e-428d-b119-4d057d3fbdac\" style=\"height: 525px; width: 100%;\" class=\"plotly-graph-div\"></div><script type=\"text/javascript\">require([\"plotly\"], function(Plotly) { window.PLOTLYENV=window.PLOTLYENV || {};window.PLOTLYENV.BASE_URL=\"https://plot.ly\";\n",
       "if (document.getElementById(\"bda1abdc-8e4e-428d-b119-4d057d3fbdac\")) {\n",
       "    Plotly.newPlot(\"bda1abdc-8e4e-428d-b119-4d057d3fbdac\", [{\"marker\": {\"color\": [\"rgb(213,62,79)\", \"rgb(252,141,89)\", \"rgb(254,224,139)\", \"rgb(230,245,152)\", \"rgb(153,213,148)\", \"rgb(50,136,189)\"]}, \"x\": [\"1. Never\", \"2. Very rarely\", \"3. Occasionally\", \"4. Several times\", \"5. Almost always or always\"], \"y\": [26, 81, 291, 277, 92], \"type\": \"bar\", \"uid\": \"d2ddb351-a4b5-49e2-a90f-f65660fc41df\"}], {}, {\"showLink\": false, \"linkText\": \"Export to plot.ly\", \"plotlyServerURL\": \"https://plot.ly\"}); \n",
       "}\n",
       "});</script><script type=\"text/javascript\">window.addEventListener(\"resize\", function(){if (document.getElementById(\"bda1abdc-8e4e-428d-b119-4d057d3fbdac\")) {window._Plotly.Plots.resize(document.getElementById(\"bda1abdc-8e4e-428d-b119-4d057d3fbdac\"));};})</script>"
      ]
     },
     "metadata": {},
     "output_type": "display_data"
    },
    {
     "name": "stdout",
     "output_type": "stream",
     "text": [
      "Describiendo la pregunta ¿Eres capaz de expresar verbalmente las emociones que te produce una imagen que has visto?\n"
     ]
    },
    {
     "data": {
      "text/plain": [
       "count                 767\n",
       "unique                  5\n",
       "top       3. En ocasiones\n",
       "freq                  287\n",
       "Name: ¿Eres capaz de expresar verbalmente las emociones que te produce una imagen que has visto?, dtype: object"
      ]
     },
     "metadata": {},
     "output_type": "display_data"
    },
    {
     "name": "stdout",
     "output_type": "stream",
     "text": [
      "Conteo de cada valor en ¿Eres capaz de expresar verbalmente las emociones que te produce una imagen que has visto? expresada como valor / cantidad\n"
     ]
    },
    {
     "data": {
      "text/plain": [
       "1. Nunca                      13\n",
       "2. Muy pocas veces           100\n",
       "3. En ocasiones              287\n",
       "4. Bastantes veces           254\n",
       "5. Casi siempre o siempre    113\n",
       "Name: ¿Eres capaz de expresar verbalmente las emociones que te produce una imagen que has visto?, dtype: int64"
      ]
     },
     "metadata": {},
     "output_type": "display_data"
    },
    {
     "name": "stdout",
     "output_type": "stream",
     "text": [
      "Porcentaje de cada valor en ¿Eres capaz de expresar verbalmente las emociones que te produce una imagen que has visto? expresado como valor / porcentaje\n"
     ]
    },
    {
     "data": {
      "text/plain": [
       "1. Nunca                      1.69\n",
       "2. Muy pocas veces           13.04\n",
       "3. En ocasiones              37.42\n",
       "4. Bastantes veces           33.12\n",
       "5. Casi siempre o siempre    14.73\n",
       "Name: ¿Eres capaz de expresar verbalmente las emociones que te produce una imagen que has visto?, dtype: float64"
      ]
     },
     "metadata": {},
     "output_type": "display_data"
    },
    {
     "data": {
      "application/vnd.plotly.v1+json": {
       "config": {
        "linkText": "Export to plot.ly",
        "plotlyServerURL": "https://plot.ly",
        "showLink": false
       },
       "data": [
        {
         "marker": {
          "color": [
           "rgb(213,62,79)",
           "rgb(252,141,89)",
           "rgb(254,224,139)",
           "rgb(230,245,152)",
           "rgb(153,213,148)",
           "rgb(50,136,189)"
          ]
         },
         "type": "bar",
         "uid": "ef193bb8-0b71-4ed4-9e76-dc9e1ca2e1d7",
         "x": [
          "1. Nunca",
          "2. Muy pocas veces",
          "3. En ocasiones",
          "4. Bastantes veces",
          "5. Casi siempre o siempre"
         ],
         "y": [
          13,
          100,
          287,
          254,
          113
         ]
        }
       ],
       "layout": {}
      },
      "text/html": [
       "<div id=\"5a025e08-2951-42bc-958e-4446ebfab49c\" style=\"height: 525px; width: 100%;\" class=\"plotly-graph-div\"></div><script type=\"text/javascript\">require([\"plotly\"], function(Plotly) { window.PLOTLYENV=window.PLOTLYENV || {};window.PLOTLYENV.BASE_URL=\"https://plot.ly\";\n",
       "if (document.getElementById(\"5a025e08-2951-42bc-958e-4446ebfab49c\")) {\n",
       "    Plotly.newPlot(\"5a025e08-2951-42bc-958e-4446ebfab49c\", [{\"marker\": {\"color\": [\"rgb(213,62,79)\", \"rgb(252,141,89)\", \"rgb(254,224,139)\", \"rgb(230,245,152)\", \"rgb(153,213,148)\", \"rgb(50,136,189)\"]}, \"x\": [\"1. Nunca\", \"2. Muy pocas veces\", \"3. En ocasiones\", \"4. Bastantes veces\", \"5. Casi siempre o siempre\"], \"y\": [13, 100, 287, 254, 113], \"type\": \"bar\", \"uid\": \"aae106d0-3b6f-4a37-a6d2-3d36fb30e6fc\"}], {}, {\"showLink\": false, \"linkText\": \"Export to plot.ly\", \"plotlyServerURL\": \"https://plot.ly\"}); \n",
       "}\n",
       "});</script><script type=\"text/javascript\">window.addEventListener(\"resize\", function(){if (document.getElementById(\"5a025e08-2951-42bc-958e-4446ebfab49c\")) {window._Plotly.Plots.resize(document.getElementById(\"5a025e08-2951-42bc-958e-4446ebfab49c\"));};})</script>"
      ],
      "text/vnd.plotly.v1+html": [
       "<div id=\"5a025e08-2951-42bc-958e-4446ebfab49c\" style=\"height: 525px; width: 100%;\" class=\"plotly-graph-div\"></div><script type=\"text/javascript\">require([\"plotly\"], function(Plotly) { window.PLOTLYENV=window.PLOTLYENV || {};window.PLOTLYENV.BASE_URL=\"https://plot.ly\";\n",
       "if (document.getElementById(\"5a025e08-2951-42bc-958e-4446ebfab49c\")) {\n",
       "    Plotly.newPlot(\"5a025e08-2951-42bc-958e-4446ebfab49c\", [{\"marker\": {\"color\": [\"rgb(213,62,79)\", \"rgb(252,141,89)\", \"rgb(254,224,139)\", \"rgb(230,245,152)\", \"rgb(153,213,148)\", \"rgb(50,136,189)\"]}, \"x\": [\"1. Nunca\", \"2. Muy pocas veces\", \"3. En ocasiones\", \"4. Bastantes veces\", \"5. Casi siempre o siempre\"], \"y\": [13, 100, 287, 254, 113], \"type\": \"bar\", \"uid\": \"aae106d0-3b6f-4a37-a6d2-3d36fb30e6fc\"}], {}, {\"showLink\": false, \"linkText\": \"Export to plot.ly\", \"plotlyServerURL\": \"https://plot.ly\"}); \n",
       "}\n",
       "});</script><script type=\"text/javascript\">window.addEventListener(\"resize\", function(){if (document.getElementById(\"5a025e08-2951-42bc-958e-4446ebfab49c\")) {window._Plotly.Plots.resize(document.getElementById(\"5a025e08-2951-42bc-958e-4446ebfab49c\"));};})</script>"
      ]
     },
     "metadata": {},
     "output_type": "display_data"
    }
   ],
   "source": [
    "visualize_interpretation_images_all_esp(dataframe_all_esp)"
   ]
  },
  {
   "cell_type": "code",
   "execution_count": 8,
   "metadata": {
    "scrolled": false
   },
   "outputs": [],
   "source": [
    "# visualize_interpretation_images_all_en(dataframe_all_en)"
   ]
  }
 ],
 "metadata": {
  "kernelspec": {
   "display_name": "Python 3",
   "language": "python",
   "name": "python3"
  },
  "language_info": {
   "codemirror_mode": {
    "name": "ipython",
    "version": 3
   },
   "file_extension": ".py",
   "mimetype": "text/x-python",
   "name": "python",
   "nbconvert_exporter": "python",
   "pygments_lexer": "ipython3",
   "version": "3.6.8"
  }
 },
 "nbformat": 4,
 "nbformat_minor": 2
}

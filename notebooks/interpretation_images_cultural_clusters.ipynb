{
 "cells": [
  {
   "cell_type": "code",
   "execution_count": 1,
   "metadata": {},
   "outputs": [
    {
     "name": "stdout",
     "output_type": "stream",
     "text": [
      "Importing Jupyter notebook from data_preparation.ipynb\n",
      "Importing Jupyter notebook from cultural_clustering.ipynb\n"
     ]
    }
   ],
   "source": [
    "import nbimporter\n",
    "from data_preparation import *\n",
    "from cultural_clustering import * "
   ]
  },
  {
   "cell_type": "code",
   "execution_count": 2,
   "metadata": {},
   "outputs": [
    {
     "data": {
      "text/html": [
       "<script type=\"text/javascript\">window.PlotlyConfig = {MathJaxConfig: 'local'};</script><script type=\"text/javascript\">if (window.MathJax) {MathJax.Hub.Config({SVG: {font: \"STIX-Web\"}});}</script><script>requirejs.config({paths: { 'plotly': ['https://cdn.plot.ly/plotly-latest.min']},});if(!window._Plotly) {require(['plotly'],function(plotly) {window._Plotly=plotly;});}</script>"
      ],
      "text/vnd.plotly.v1+html": [
       "<script type=\"text/javascript\">window.PlotlyConfig = {MathJaxConfig: 'local'};</script><script type=\"text/javascript\">if (window.MathJax) {MathJax.Hub.Config({SVG: {font: \"STIX-Web\"}});}</script><script>requirejs.config({paths: { 'plotly': ['https://cdn.plot.ly/plotly-latest.min']},});if(!window._Plotly) {require(['plotly'],function(plotly) {window._Plotly=plotly;});}</script>"
      ]
     },
     "metadata": {},
     "output_type": "display_data"
    }
   ],
   "source": [
    "import matplotlib.pyplot as plt\n",
    "plt.style.use('fivethirtyeight')\n",
    "import colorlover as cl\n",
    "import plotly_express as px\n",
    "\n",
    "from plotly.offline import download_plotlyjs, init_notebook_mode, plot, iplot\n",
    "import plotly.graph_objs as go\n",
    "init_notebook_mode(connected=True)"
   ]
  },
  {
   "cell_type": "code",
   "execution_count": 3,
   "metadata": {},
   "outputs": [
    {
     "name": "stderr",
     "output_type": "stream",
     "text": [
      "cultural_clustering.ipynb:17: DataConversionWarning:\n",
      "\n",
      "Data with input dtype int64, float64 were all converted to float64 by the scale function.\n",
      "\n"
     ]
    },
    {
     "data": {
      "text/html": [
       "<div>\n",
       "<style scoped>\n",
       "    .dataframe tbody tr th:only-of-type {\n",
       "        vertical-align: middle;\n",
       "    }\n",
       "\n",
       "    .dataframe tbody tr th {\n",
       "        vertical-align: top;\n",
       "    }\n",
       "\n",
       "    .dataframe thead th {\n",
       "        text-align: right;\n",
       "    }\n",
       "</style>\n",
       "<table border=\"1\" class=\"dataframe\">\n",
       "  <thead>\n",
       "    <tr style=\"text-align: right;\">\n",
       "      <th></th>\n",
       "      <th>Al reutilizar una imagen, ¿crees puedes redefinir el mensaje que el emisor ha pensado?</th>\n",
       "      <th>Cuando compartes imágenes en redes sociales, ¿las acompañas de texto siguiendo las indicaciones que te sugieren las aplicaciones (etiquetado, explicación de la imagen, texto inspirador, etc.)?</th>\n",
       "      <th>Cuando haces fotos desde cualquiera de los medios a tu alcance, ¿te facilitan el proceso las opciones que te ofrecen las aplicaciones (filtros, recortes, edición mediante grafismo, etc.)?</th>\n",
       "      <th>Cuando usas redes sociales, ¿consideras que ser aceptado como miembro de un grupo es más importante que tener autonomía e independencia?</th>\n",
       "      <th>En alguna ocasión, aún estando preparado para ello, ¿has dejado de incorporar imágenes en tus mensajes en redes sociales, aplicaciones móviles, etc., porque no entiendes cómo hacerlo?</th>\n",
       "      <th>¿Conoces autores/as que trabajen produciendo imágenes?</th>\n",
       "      <th>¿Crees que en la creacción de imágenes trabajan más mujeres, u hombres?</th>\n",
       "      <th>¿Crees que las imágenes producidas por hombres son diferentes a las que hacen mujeres?</th>\n",
       "      <th>¿Te gusta seguir a personas que admiras en redes sociales? ¿Eres fan o follower de alguna? ¿En ocasiones escribes comentarios en sus publicaciones?</th>\n",
       "      <th>Clasifica tu grado de visión</th>\n",
       "      <th>...</th>\n",
       "      <th>¿Qué tipo de aplicaciones utilizas en tu ordenador/tableta/móvil? (Respuesta múltiple) [1. Apps de contenidos audiovisuales (Netflix, HBO, etc.)]</th>\n",
       "      <th>¿Qué tipo de aplicaciones utilizas en tu ordenador/tableta/móvil? (Respuesta múltiple) [2. Aplicaciones de mensajería (Whatsapp, Facebook Messenger, etc.)]</th>\n",
       "      <th>¿Qué tipo de aplicaciones utilizas en tu ordenador/tableta/móvil? (Respuesta múltiple) [3. Bibliotecas de fotos online (Google Photos, iPhoto, etc.)]</th>\n",
       "      <th>¿Qué tipo de aplicaciones utilizas en tu ordenador/tableta/móvil? (Respuesta múltiple) [4. Redes sociales (Facebook, Instagram, Twitter, etc.).]</th>\n",
       "      <th>¿Qué tipo de aplicaciones utilizas en tu ordenador/tableta/móvil? (Respuesta múltiple) [5. Aplicaciones de vídeo (Youtube, Vimeo, etc.).]</th>\n",
       "      <th>¿Repites las imágenes hasta conseguir el resultado esperado?</th>\n",
       "      <th>¿Tienes acceso a dispositivos (ordenador, móvil, tablet, etc.) conectados a Internet habitualmente?</th>\n",
       "      <th>¿Tienes alguna carencia visual que afecte a la recepción de formas, colores, distancias, etc.?</th>\n",
       "      <th>¿Utilizas gafas o lentes de contacto?</th>\n",
       "      <th>cultural_cluster</th>\n",
       "    </tr>\n",
       "  </thead>\n",
       "  <tbody>\n",
       "    <tr>\n",
       "      <th>0</th>\n",
       "      <td>1</td>\n",
       "      <td>1</td>\n",
       "      <td>3</td>\n",
       "      <td>1</td>\n",
       "      <td>2</td>\n",
       "      <td>0</td>\n",
       "      <td>3</td>\n",
       "      <td>1</td>\n",
       "      <td>3</td>\n",
       "      <td>3</td>\n",
       "      <td>...</td>\n",
       "      <td>1</td>\n",
       "      <td>1</td>\n",
       "      <td>1</td>\n",
       "      <td>1</td>\n",
       "      <td>1</td>\n",
       "      <td>1</td>\n",
       "      <td>5</td>\n",
       "      <td>0</td>\n",
       "      <td>1</td>\n",
       "      <td>2</td>\n",
       "    </tr>\n",
       "    <tr>\n",
       "      <th>1</th>\n",
       "      <td>1</td>\n",
       "      <td>3</td>\n",
       "      <td>3</td>\n",
       "      <td>2</td>\n",
       "      <td>3</td>\n",
       "      <td>0</td>\n",
       "      <td>3</td>\n",
       "      <td>0</td>\n",
       "      <td>1</td>\n",
       "      <td>3</td>\n",
       "      <td>...</td>\n",
       "      <td>1</td>\n",
       "      <td>1</td>\n",
       "      <td>0</td>\n",
       "      <td>0</td>\n",
       "      <td>1</td>\n",
       "      <td>0</td>\n",
       "      <td>5</td>\n",
       "      <td>0</td>\n",
       "      <td>1</td>\n",
       "      <td>2</td>\n",
       "    </tr>\n",
       "    <tr>\n",
       "      <th>2</th>\n",
       "      <td>1</td>\n",
       "      <td>3</td>\n",
       "      <td>5</td>\n",
       "      <td>2</td>\n",
       "      <td>2</td>\n",
       "      <td>1</td>\n",
       "      <td>2</td>\n",
       "      <td>1</td>\n",
       "      <td>3</td>\n",
       "      <td>4</td>\n",
       "      <td>...</td>\n",
       "      <td>1</td>\n",
       "      <td>1</td>\n",
       "      <td>1</td>\n",
       "      <td>1</td>\n",
       "      <td>1</td>\n",
       "      <td>1</td>\n",
       "      <td>5</td>\n",
       "      <td>0</td>\n",
       "      <td>1</td>\n",
       "      <td>1</td>\n",
       "    </tr>\n",
       "    <tr>\n",
       "      <th>3</th>\n",
       "      <td>1</td>\n",
       "      <td>5</td>\n",
       "      <td>5</td>\n",
       "      <td>2</td>\n",
       "      <td>1</td>\n",
       "      <td>1</td>\n",
       "      <td>4</td>\n",
       "      <td>1</td>\n",
       "      <td>3</td>\n",
       "      <td>4</td>\n",
       "      <td>...</td>\n",
       "      <td>0</td>\n",
       "      <td>1</td>\n",
       "      <td>1</td>\n",
       "      <td>1</td>\n",
       "      <td>1</td>\n",
       "      <td>1</td>\n",
       "      <td>5</td>\n",
       "      <td>0</td>\n",
       "      <td>1</td>\n",
       "      <td>1</td>\n",
       "    </tr>\n",
       "    <tr>\n",
       "      <th>4</th>\n",
       "      <td>3</td>\n",
       "      <td>4</td>\n",
       "      <td>3</td>\n",
       "      <td>2</td>\n",
       "      <td>1</td>\n",
       "      <td>0</td>\n",
       "      <td>4</td>\n",
       "      <td>0</td>\n",
       "      <td>2</td>\n",
       "      <td>4</td>\n",
       "      <td>...</td>\n",
       "      <td>0</td>\n",
       "      <td>1</td>\n",
       "      <td>0</td>\n",
       "      <td>1</td>\n",
       "      <td>1</td>\n",
       "      <td>1</td>\n",
       "      <td>5</td>\n",
       "      <td>0</td>\n",
       "      <td>1</td>\n",
       "      <td>1</td>\n",
       "    </tr>\n",
       "  </tbody>\n",
       "</table>\n",
       "<p>5 rows × 79 columns</p>\n",
       "</div>"
      ],
      "text/plain": [
       "   Al reutilizar una imagen, ¿crees puedes redefinir el mensaje que el emisor ha pensado?  \\\n",
       "0                                                  1                                        \n",
       "1                                                  1                                        \n",
       "2                                                  1                                        \n",
       "3                                                  1                                        \n",
       "4                                                  3                                        \n",
       "\n",
       "   Cuando compartes imágenes en redes sociales, ¿las acompañas de texto siguiendo las indicaciones que te sugieren las aplicaciones (etiquetado, explicación de la imagen, texto inspirador, etc.)?  \\\n",
       "0                                                  1                                                                                                                                                  \n",
       "1                                                  3                                                                                                                                                  \n",
       "2                                                  3                                                                                                                                                  \n",
       "3                                                  5                                                                                                                                                  \n",
       "4                                                  4                                                                                                                                                  \n",
       "\n",
       "   Cuando haces fotos desde cualquiera de los medios a tu alcance, ¿te facilitan el proceso las opciones que te ofrecen las aplicaciones (filtros, recortes, edición mediante grafismo, etc.)?  \\\n",
       "0                                                  3                                                                                                                                             \n",
       "1                                                  3                                                                                                                                             \n",
       "2                                                  5                                                                                                                                             \n",
       "3                                                  5                                                                                                                                             \n",
       "4                                                  3                                                                                                                                             \n",
       "\n",
       "   Cuando usas redes sociales, ¿consideras que ser aceptado como miembro de un grupo es más importante que tener autonomía e independencia?  \\\n",
       "0                                                  1                                                                                          \n",
       "1                                                  2                                                                                          \n",
       "2                                                  2                                                                                          \n",
       "3                                                  2                                                                                          \n",
       "4                                                  2                                                                                          \n",
       "\n",
       "   En alguna ocasión, aún estando preparado para ello, ¿has dejado de incorporar imágenes en tus mensajes en redes sociales, aplicaciones móviles, etc., porque no entiendes cómo hacerlo?  \\\n",
       "0                                                  2                                                                                                                                         \n",
       "1                                                  3                                                                                                                                         \n",
       "2                                                  2                                                                                                                                         \n",
       "3                                                  1                                                                                                                                         \n",
       "4                                                  1                                                                                                                                         \n",
       "\n",
       "   ¿Conoces autores/as que trabajen produciendo imágenes?  \\\n",
       "0                                                  0        \n",
       "1                                                  0        \n",
       "2                                                  1        \n",
       "3                                                  1        \n",
       "4                                                  0        \n",
       "\n",
       "   ¿Crees que en la creacción de imágenes trabajan más mujeres, u hombres?  \\\n",
       "0                                                  3                         \n",
       "1                                                  3                         \n",
       "2                                                  2                         \n",
       "3                                                  4                         \n",
       "4                                                  4                         \n",
       "\n",
       "   ¿Crees que las imágenes producidas por hombres son diferentes a las que hacen mujeres?  \\\n",
       "0                                                  1                                        \n",
       "1                                                  0                                        \n",
       "2                                                  1                                        \n",
       "3                                                  1                                        \n",
       "4                                                  0                                        \n",
       "\n",
       "   ¿Te gusta seguir a personas que admiras en redes sociales? ¿Eres fan o follower de alguna? ¿En ocasiones escribes comentarios en sus publicaciones?  \\\n",
       "0                                                  3                                                                                                     \n",
       "1                                                  1                                                                                                     \n",
       "2                                                  3                                                                                                     \n",
       "3                                                  3                                                                                                     \n",
       "4                                                  2                                                                                                     \n",
       "\n",
       "   Clasifica tu grado de visión        ...         \\\n",
       "0                             3        ...          \n",
       "1                             3        ...          \n",
       "2                             4        ...          \n",
       "3                             4        ...          \n",
       "4                             4        ...          \n",
       "\n",
       "   ¿Qué tipo de aplicaciones utilizas en tu ordenador/tableta/móvil? (Respuesta múltiple) [1. Apps de contenidos audiovisuales (Netflix, HBO, etc.)]  \\\n",
       "0                                                  1                                                                                                   \n",
       "1                                                  1                                                                                                   \n",
       "2                                                  1                                                                                                   \n",
       "3                                                  0                                                                                                   \n",
       "4                                                  0                                                                                                   \n",
       "\n",
       "   ¿Qué tipo de aplicaciones utilizas en tu ordenador/tableta/móvil? (Respuesta múltiple) [2. Aplicaciones de mensajería (Whatsapp, Facebook Messenger, etc.)]  \\\n",
       "0                                                  1                                                                                                             \n",
       "1                                                  1                                                                                                             \n",
       "2                                                  1                                                                                                             \n",
       "3                                                  1                                                                                                             \n",
       "4                                                  1                                                                                                             \n",
       "\n",
       "   ¿Qué tipo de aplicaciones utilizas en tu ordenador/tableta/móvil? (Respuesta múltiple) [3. Bibliotecas de fotos online (Google Photos, iPhoto, etc.)]  \\\n",
       "0                                                  1                                                                                                       \n",
       "1                                                  0                                                                                                       \n",
       "2                                                  1                                                                                                       \n",
       "3                                                  1                                                                                                       \n",
       "4                                                  0                                                                                                       \n",
       "\n",
       "   ¿Qué tipo de aplicaciones utilizas en tu ordenador/tableta/móvil? (Respuesta múltiple) [4. Redes sociales (Facebook, Instagram, Twitter, etc.).]  \\\n",
       "0                                                  1                                                                                                  \n",
       "1                                                  0                                                                                                  \n",
       "2                                                  1                                                                                                  \n",
       "3                                                  1                                                                                                  \n",
       "4                                                  1                                                                                                  \n",
       "\n",
       "   ¿Qué tipo de aplicaciones utilizas en tu ordenador/tableta/móvil? (Respuesta múltiple) [5. Aplicaciones de vídeo (Youtube, Vimeo, etc.).]  \\\n",
       "0                                                  1                                                                                           \n",
       "1                                                  1                                                                                           \n",
       "2                                                  1                                                                                           \n",
       "3                                                  1                                                                                           \n",
       "4                                                  1                                                                                           \n",
       "\n",
       "   ¿Repites las imágenes hasta conseguir el resultado esperado?  \\\n",
       "0                                                  1              \n",
       "1                                                  0              \n",
       "2                                                  1              \n",
       "3                                                  1              \n",
       "4                                                  1              \n",
       "\n",
       "   ¿Tienes acceso a dispositivos (ordenador, móvil, tablet, etc.) conectados a Internet habitualmente?  \\\n",
       "0                                                  5                                                     \n",
       "1                                                  5                                                     \n",
       "2                                                  5                                                     \n",
       "3                                                  5                                                     \n",
       "4                                                  5                                                     \n",
       "\n",
       "   ¿Tienes alguna carencia visual que afecte a la recepción de formas, colores, distancias, etc.?  \\\n",
       "0                                                  0                                                \n",
       "1                                                  0                                                \n",
       "2                                                  0                                                \n",
       "3                                                  0                                                \n",
       "4                                                  0                                                \n",
       "\n",
       "   ¿Utilizas gafas o lentes de contacto?  cultural_cluster  \n",
       "0                                      1                 2  \n",
       "1                                      1                 2  \n",
       "2                                      1                 1  \n",
       "3                                      1                 1  \n",
       "4                                      1                 1  \n",
       "\n",
       "[5 rows x 79 columns]"
      ]
     },
     "execution_count": 3,
     "metadata": {},
     "output_type": "execute_result"
    }
   ],
   "source": [
    "dataframe_with_clusters_esp = get_dataframe_with_clusters_esp(get_dataframe_analysis_esp(True), 40)\n",
    "dataframe_with_clusters_esp.head()"
   ]
  },
  {
   "cell_type": "code",
   "execution_count": 4,
   "metadata": {},
   "outputs": [
    {
     "name": "stderr",
     "output_type": "stream",
     "text": [
      "cultural_clustering.ipynb:17: DataConversionWarning:\n",
      "\n",
      "Data with input dtype int64, float64 were all converted to float64 by the scale function.\n",
      "\n"
     ]
    },
    {
     "data": {
      "text/html": [
       "<div>\n",
       "<style scoped>\n",
       "    .dataframe tbody tr th:only-of-type {\n",
       "        vertical-align: middle;\n",
       "    }\n",
       "\n",
       "    .dataframe tbody tr th {\n",
       "        vertical-align: top;\n",
       "    }\n",
       "\n",
       "    .dataframe thead th {\n",
       "        text-align: right;\n",
       "    }\n",
       "</style>\n",
       "<table border=\"1\" class=\"dataframe\">\n",
       "  <thead>\n",
       "    <tr style=\"text-align: right;\">\n",
       "      <th></th>\n",
       "      <th>By reusing an image, can you redefine the message that the sender has thought about?</th>\n",
       "      <th>Do you know authors who work producing images?</th>\n",
       "      <th>Do you like to follow people you admire in social networks? Are you a fan or follower of any of them? Do you sometimes write comments in their publications?</th>\n",
       "      <th>Do you think that images produced by men are different from those made by women?</th>\n",
       "      <th>Do you think that in the creation of images work more women, or men?</th>\n",
       "      <th>On the occasion, even being prepared for it, have you stopped attaching images in your messages in social networks, mobile applications, etc., because you do not understand how to do it?</th>\n",
       "      <th>When you share images on social networks, do the text companions follow the indications suggested by the applications (labeling, explanation of the image, inspiring text, etc.)?</th>\n",
       "      <th>When you take photos from any of the media at your fingertips, do the process facilitate the options offered by the applications (filter application, cuts, graphic editing, etc.)?</th>\n",
       "      <th>When you use social networks, do you consider that being accepted as a member of a group is more important than having autonomy and independence?</th>\n",
       "      <th>Age</th>\n",
       "      <th>...</th>\n",
       "      <th>Which of the paired images do you find most attractive? 1/2 2/2.2</th>\n",
       "      <th>Which of the paired images do you find most attractive? 1/2 2/2.3</th>\n",
       "      <th>Which of the paired images do you find most attractive? 1/2 2/2.4</th>\n",
       "      <th>With whom do you usually share images? [1. Friends]</th>\n",
       "      <th>With whom do you usually share images? [2. Family]</th>\n",
       "      <th>With whom do you usually share images? [3. Partners]</th>\n",
       "      <th>With whom do you usually share images? [4. With all my acquaintances]</th>\n",
       "      <th>With whom do you usually share images? [5. With nobody]</th>\n",
       "      <th>Within your social networks or mobile applications, do you see visual information that you are not looking for (social awareness campaigns, jokes, advertising, etc.)?</th>\n",
       "      <th>cultural_cluster</th>\n",
       "    </tr>\n",
       "  </thead>\n",
       "  <tbody>\n",
       "    <tr>\n",
       "      <th>0</th>\n",
       "      <td>1</td>\n",
       "      <td>0</td>\n",
       "      <td>3</td>\n",
       "      <td>1</td>\n",
       "      <td>3</td>\n",
       "      <td>2</td>\n",
       "      <td>1</td>\n",
       "      <td>3</td>\n",
       "      <td>1</td>\n",
       "      <td>37</td>\n",
       "      <td>...</td>\n",
       "      <td>2</td>\n",
       "      <td>2</td>\n",
       "      <td>2</td>\n",
       "      <td>1</td>\n",
       "      <td>1</td>\n",
       "      <td>0</td>\n",
       "      <td>0</td>\n",
       "      <td>0</td>\n",
       "      <td>4</td>\n",
       "      <td>2</td>\n",
       "    </tr>\n",
       "    <tr>\n",
       "      <th>1</th>\n",
       "      <td>1</td>\n",
       "      <td>0</td>\n",
       "      <td>1</td>\n",
       "      <td>0</td>\n",
       "      <td>3</td>\n",
       "      <td>3</td>\n",
       "      <td>3</td>\n",
       "      <td>3</td>\n",
       "      <td>2</td>\n",
       "      <td>62</td>\n",
       "      <td>...</td>\n",
       "      <td>2</td>\n",
       "      <td>2</td>\n",
       "      <td>2</td>\n",
       "      <td>1</td>\n",
       "      <td>1</td>\n",
       "      <td>0</td>\n",
       "      <td>0</td>\n",
       "      <td>0</td>\n",
       "      <td>5</td>\n",
       "      <td>2</td>\n",
       "    </tr>\n",
       "    <tr>\n",
       "      <th>2</th>\n",
       "      <td>1</td>\n",
       "      <td>1</td>\n",
       "      <td>3</td>\n",
       "      <td>1</td>\n",
       "      <td>2</td>\n",
       "      <td>2</td>\n",
       "      <td>3</td>\n",
       "      <td>5</td>\n",
       "      <td>2</td>\n",
       "      <td>28</td>\n",
       "      <td>...</td>\n",
       "      <td>1</td>\n",
       "      <td>2</td>\n",
       "      <td>2</td>\n",
       "      <td>1</td>\n",
       "      <td>1</td>\n",
       "      <td>0</td>\n",
       "      <td>0</td>\n",
       "      <td>0</td>\n",
       "      <td>4</td>\n",
       "      <td>1</td>\n",
       "    </tr>\n",
       "    <tr>\n",
       "      <th>3</th>\n",
       "      <td>1</td>\n",
       "      <td>1</td>\n",
       "      <td>3</td>\n",
       "      <td>1</td>\n",
       "      <td>4</td>\n",
       "      <td>1</td>\n",
       "      <td>5</td>\n",
       "      <td>5</td>\n",
       "      <td>2</td>\n",
       "      <td>31</td>\n",
       "      <td>...</td>\n",
       "      <td>2</td>\n",
       "      <td>2</td>\n",
       "      <td>1</td>\n",
       "      <td>1</td>\n",
       "      <td>1</td>\n",
       "      <td>1</td>\n",
       "      <td>0</td>\n",
       "      <td>0</td>\n",
       "      <td>1</td>\n",
       "      <td>1</td>\n",
       "    </tr>\n",
       "    <tr>\n",
       "      <th>4</th>\n",
       "      <td>3</td>\n",
       "      <td>0</td>\n",
       "      <td>2</td>\n",
       "      <td>0</td>\n",
       "      <td>4</td>\n",
       "      <td>1</td>\n",
       "      <td>4</td>\n",
       "      <td>3</td>\n",
       "      <td>2</td>\n",
       "      <td>24</td>\n",
       "      <td>...</td>\n",
       "      <td>2</td>\n",
       "      <td>2</td>\n",
       "      <td>2</td>\n",
       "      <td>1</td>\n",
       "      <td>1</td>\n",
       "      <td>0</td>\n",
       "      <td>0</td>\n",
       "      <td>0</td>\n",
       "      <td>3</td>\n",
       "      <td>1</td>\n",
       "    </tr>\n",
       "  </tbody>\n",
       "</table>\n",
       "<p>5 rows × 79 columns</p>\n",
       "</div>"
      ],
      "text/plain": [
       "   By reusing an image, can you redefine the message that the sender has thought about?  \\\n",
       "0                                                  1                                      \n",
       "1                                                  1                                      \n",
       "2                                                  1                                      \n",
       "3                                                  1                                      \n",
       "4                                                  3                                      \n",
       "\n",
       "   Do you know authors who work producing images?  \\\n",
       "0                                               0   \n",
       "1                                               0   \n",
       "2                                               1   \n",
       "3                                               1   \n",
       "4                                               0   \n",
       "\n",
       "   Do you like to follow people you admire in social networks? Are you a fan or follower of any of them? Do you sometimes write comments in their publications?  \\\n",
       "0                                                  3                                                                                                              \n",
       "1                                                  1                                                                                                              \n",
       "2                                                  3                                                                                                              \n",
       "3                                                  3                                                                                                              \n",
       "4                                                  2                                                                                                              \n",
       "\n",
       "   Do you think that images produced by men are different from those made by women?  \\\n",
       "0                                                  1                                  \n",
       "1                                                  0                                  \n",
       "2                                                  1                                  \n",
       "3                                                  1                                  \n",
       "4                                                  0                                  \n",
       "\n",
       "   Do you think that in the creation of images work more women, or men?  \\\n",
       "0                                                  3                      \n",
       "1                                                  3                      \n",
       "2                                                  2                      \n",
       "3                                                  4                      \n",
       "4                                                  4                      \n",
       "\n",
       "   On the occasion, even being prepared for it, have you stopped attaching images in your messages in social networks, mobile applications, etc., because you do not understand how to do it?  \\\n",
       "0                                                  2                                                                                                                                            \n",
       "1                                                  3                                                                                                                                            \n",
       "2                                                  2                                                                                                                                            \n",
       "3                                                  1                                                                                                                                            \n",
       "4                                                  1                                                                                                                                            \n",
       "\n",
       "   When you share images on social networks, do the text companions follow the indications suggested by the applications (labeling, explanation of the image, inspiring text, etc.)?  \\\n",
       "0                                                  1                                                                                                                                   \n",
       "1                                                  3                                                                                                                                   \n",
       "2                                                  3                                                                                                                                   \n",
       "3                                                  5                                                                                                                                   \n",
       "4                                                  4                                                                                                                                   \n",
       "\n",
       "   When you take photos from any of the media at your fingertips, do the process facilitate the options offered by the applications (filter application, cuts, graphic editing, etc.)?  \\\n",
       "0                                                  3                                                                                                                                     \n",
       "1                                                  3                                                                                                                                     \n",
       "2                                                  5                                                                                                                                     \n",
       "3                                                  5                                                                                                                                     \n",
       "4                                                  3                                                                                                                                     \n",
       "\n",
       "   When you use social networks, do you consider that being accepted as a member of a group is more important than having autonomy and independence?  \\\n",
       "0                                                  1                                                                                                   \n",
       "1                                                  2                                                                                                   \n",
       "2                                                  2                                                                                                   \n",
       "3                                                  2                                                                                                   \n",
       "4                                                  2                                                                                                   \n",
       "\n",
       "   Age        ...         \\\n",
       "0   37        ...          \n",
       "1   62        ...          \n",
       "2   28        ...          \n",
       "3   31        ...          \n",
       "4   24        ...          \n",
       "\n",
       "   Which of the paired images do you find most attractive? 1/2 2/2.2  \\\n",
       "0                                                  2                   \n",
       "1                                                  2                   \n",
       "2                                                  1                   \n",
       "3                                                  2                   \n",
       "4                                                  2                   \n",
       "\n",
       "   Which of the paired images do you find most attractive? 1/2 2/2.3  \\\n",
       "0                                                  2                   \n",
       "1                                                  2                   \n",
       "2                                                  2                   \n",
       "3                                                  2                   \n",
       "4                                                  2                   \n",
       "\n",
       "   Which of the paired images do you find most attractive? 1/2 2/2.4  \\\n",
       "0                                                  2                   \n",
       "1                                                  2                   \n",
       "2                                                  2                   \n",
       "3                                                  1                   \n",
       "4                                                  2                   \n",
       "\n",
       "   With whom do you usually share images? [1. Friends]  \\\n",
       "0                                                  1     \n",
       "1                                                  1     \n",
       "2                                                  1     \n",
       "3                                                  1     \n",
       "4                                                  1     \n",
       "\n",
       "   With whom do you usually share images? [2. Family]  \\\n",
       "0                                                  1    \n",
       "1                                                  1    \n",
       "2                                                  1    \n",
       "3                                                  1    \n",
       "4                                                  1    \n",
       "\n",
       "   With whom do you usually share images? [3. Partners]  \\\n",
       "0                                                  0      \n",
       "1                                                  0      \n",
       "2                                                  0      \n",
       "3                                                  1      \n",
       "4                                                  0      \n",
       "\n",
       "   With whom do you usually share images? [4. With all my acquaintances]  \\\n",
       "0                                                  0                       \n",
       "1                                                  0                       \n",
       "2                                                  0                       \n",
       "3                                                  0                       \n",
       "4                                                  0                       \n",
       "\n",
       "   With whom do you usually share images? [5. With nobody]  \\\n",
       "0                                                  0         \n",
       "1                                                  0         \n",
       "2                                                  0         \n",
       "3                                                  0         \n",
       "4                                                  0         \n",
       "\n",
       "   Within your social networks or mobile applications, do you see visual information that you are not looking for (social awareness campaigns, jokes, advertising, etc.)?  \\\n",
       "0                                                  4                                                                                                                        \n",
       "1                                                  5                                                                                                                        \n",
       "2                                                  4                                                                                                                        \n",
       "3                                                  1                                                                                                                        \n",
       "4                                                  3                                                                                                                        \n",
       "\n",
       "   cultural_cluster  \n",
       "0                 2  \n",
       "1                 2  \n",
       "2                 1  \n",
       "3                 1  \n",
       "4                 1  \n",
       "\n",
       "[5 rows x 79 columns]"
      ]
     },
     "execution_count": 4,
     "metadata": {},
     "output_type": "execute_result"
    }
   ],
   "source": [
    "dataframe_with_clusters_en = get_dataframe_with_clusters_en(get_dataframe_analysis_en(True), 40)\n",
    "dataframe_with_clusters_en.head()"
   ]
  },
  {
   "cell_type": "code",
   "execution_count": 5,
   "metadata": {},
   "outputs": [],
   "source": [
    "def visualize_interpretation_images_by_cultural_clusters_esp(dataframe):\n",
    "\n",
    "    for selected_cluster in dataframe['cultural_cluster'].unique():\n",
    "        for column in get_interpretation_image_items_esp():\n",
    "            try:\n",
    "                print(\"\\n\\nCluster \"+str(selected_cluster) +\n",
    "                      \" || variable: \"+str(column))\n",
    "                print(f'Describiendo la pregunta {column}')\n",
    "                dict_item = get_data_replacements(str(column))\n",
    "                if dict_item:\n",
    "                    print(\n",
    "                        f'Valores numéricos asociados a las respuestas {list(dict_item.keys())}')\n",
    "                    print(\n",
    "                        f'Respuestas posibles a la pregunta/variable {list(dict_item.values())}')\n",
    "                display(dataframe.loc[dataframe['cultural_cluster']\n",
    "                                      == selected_cluster][column].describe())\n",
    "                print(\n",
    "                    f'Conteo de cada valor en {column} expresada como valor / cantidad')\n",
    "                display(dataframe.loc[dataframe['cultural_cluster'] ==\n",
    "                                      selected_cluster][column].value_counts().sort_index())\n",
    "                print(\n",
    "                    f'Porcentaje de cada valor en {column} expresado como valor / porcentaje')\n",
    "                display(dataframe.loc[dataframe['cultural_cluster'] == selected_cluster][column].value_counts(\n",
    "                    normalize=True).sort_index().round(4) * 100)\n",
    "                # sns.distplot(workCleanDummiesCluster.loc[workCleanDummiesCluster['cluster'] == selected_cluster][column], kde=False, rug=True);\n",
    "                data = [go.Bar(x=sorted(dataframe.loc[dataframe['cultural_cluster'] == selected_cluster][column].unique()),\n",
    "                               y=dataframe.loc[dataframe['cultural_cluster'] == selected_cluster][column].value_counts().reindex(\n",
    "                                   dataframe.loc[dataframe['cultural_cluster'] == selected_cluster][column].unique(), fill_value=0).sort_index(),\n",
    "                               marker=dict(color=cl.scales['6']['div']['Spectral']))]\n",
    "\n",
    "                if dict_item:\n",
    "                    layout = go.Layout(\n",
    "                        xaxis=go.layout.XAxis(\n",
    "                            ticktext=list(dict_item.values()),\n",
    "                            tickvals=list(dict_item.keys()),\n",
    "                        ),\n",
    "                        bargap=0.2,\n",
    "                    )\n",
    "                    fig = go.Figure(data, layout)\n",
    "                    iplot(fig)\n",
    "                else:\n",
    "                    iplot(data)\n",
    "                plt.show()\n",
    "            except BaseException:\n",
    "                pass"
   ]
  },
  {
   "cell_type": "code",
   "execution_count": 6,
   "metadata": {},
   "outputs": [],
   "source": [
    "def visualize_interpretation_images_by_cultural_clusters_en(dataframe):\n",
    "    \n",
    "    for selected_cluster in dataframe['cultural_cluster'].unique():\n",
    "        for column in get_interpretation_image_items_en():\n",
    "            try:\n",
    "                print(\"\\n\\nCluster \"+str(selected_cluster) +\n",
    "                      \" || feature: \"+str(column))\n",
    "\n",
    "                print(f'Describing the feature {column}')\n",
    "                dict_item = get_data_replacements(str(column))\n",
    "                if dict_item:\n",
    "                    print(\n",
    "                        f'Numeric values associated to the responses {list(dict_item.keys())}')\n",
    "                    print(\n",
    "                        f'Possible responses to the question/variable {list(dict_item.values())}')\n",
    "                display(dataframe.loc[dataframe['cultural_cluster']\n",
    "                                      == selected_cluster][column].describe())\n",
    "                print(\n",
    "                    f'Count of each value in {column} expresed as value / amount')\n",
    "                display(dataframe.loc[dataframe['cultural_cluster'] ==\n",
    "                                      selected_cluster][column].value_counts().sort_index())\n",
    "                print(\n",
    "                    f'Percentage of each value in {column} expresed as value / percentage')\n",
    "                display(dataframe.loc[dataframe['cultural_cluster'] == selected_cluster][column].value_counts(\n",
    "                    normalize=True).sort_index().round(4) * 100)\n",
    "                # sns.distplot(workCleanDummiesCluster.loc[workCleanDummiesCluster['cluster'] == selected_cluster][column], kde=False, rug=True);\n",
    "                data = [go.Bar(x=sorted(dataframe.loc[dataframe['cultural_cluster'] == selected_cluster][column].unique()),\n",
    "                               y=dataframe.loc[dataframe['cultural_cluster'] == selected_cluster][column].value_counts().reindex(\n",
    "                                   dataframe.loc[dataframe['cultural_cluster'] == selected_cluster][column].unique(), fill_value=0).sort_index(),\n",
    "                               marker=dict(color=cl.scales['6']['div']['Spectral']))]\n",
    "\n",
    "                if dict_item:\n",
    "                    layout = go.Layout(\n",
    "                        xaxis=go.layout.XAxis(\n",
    "                            ticktext=list(dict_item.values()),\n",
    "                            tickvals=list(dict_item.keys()),\n",
    "                        ),\n",
    "                        bargap=0.2,\n",
    "                    )\n",
    "                    fig = go.Figure(data, layout)\n",
    "                    iplot(fig)\n",
    "                else:\n",
    "                    iplot(data)\n",
    "                plt.show()\n",
    "            except BaseException:\n",
    "                pass"
   ]
  },
  {
   "cell_type": "code",
   "execution_count": 7,
   "metadata": {},
   "outputs": [],
   "source": [
    "def compare_interpretation_images_by_cultural_clusters_esp(dataframe):\n",
    "    temp_dataframe = dataframe.copy()\n",
    "    temp_dataframe['cultural_cluster'] = 'cluster_' + temp_dataframe['cultural_cluster'].astype(str)\n",
    "    for column in get_interpretation_image_items_esp():\n",
    "        try:\n",
    "            newDataframe = pd.DataFrame(temp_dataframe.groupby('cultural_cluster')[column].value_counts(dropna=True, sort=True).reset_index(name='counts'))\n",
    "            if get_data_replacements(str(column)):\n",
    "                newDataframe[column] = newDataframe[column].apply(get_data_replacements(str(column)).get)\n",
    "            print(f'Comparando la pregunta {column}')\n",
    "            iplot(px.bar_polar(newDataframe, r='counts', theta=\"cultural_cluster\", color=column,\n",
    "            color_discrete_sequence= cl.scales['6']['div']['Spectral'], barmode=\"group\"))\n",
    "            # plt.show()\n",
    "        except KeyError:\n",
    "            pass"
   ]
  },
  {
   "cell_type": "code",
   "execution_count": 8,
   "metadata": {},
   "outputs": [],
   "source": [
    "def compare_interpretation_images_by_cultural_clusters_en(dataframe):\n",
    "    temp_dataframe = dataframe.copy()\n",
    "    temp_dataframe['cultural_cluster'] = 'cluster_' + temp_dataframe['cultural_cluster'].astype(str)\n",
    "    for column in get_interpretation_image_items_en():\n",
    "        try:\n",
    "            newDataframe = pd.DataFrame(temp_dataframe.groupby('cultural_cluster')[column].value_counts(dropna=True, sort=True).reset_index(name='counts'))\n",
    "            if get_data_replacements(str(column)):\n",
    "                newDataframe[column] = newDataframe[column].apply(get_data_replacements(str(column)).get)\n",
    "            print(f'Comparing the feature {column}')\n",
    "            iplot(px.bar_polar(newDataframe, r='counts', theta=\"cultural_cluster\", color=column,\n",
    "            color_discrete_sequence= cl.scales['6']['div']['Spectral'], barmode=\"group\"))\n",
    "            # plt.show()\n",
    "        except KeyError:\n",
    "            pass"
   ]
  },
  {
   "cell_type": "code",
   "execution_count": 9,
   "metadata": {
    "scrolled": false
   },
   "outputs": [
    {
     "name": "stdout",
     "output_type": "stream",
     "text": [
      "\n",
      "\n",
      "Cluster 2 || variable: Cuando te encuentras con una imagen, ¿intentas entender con qué intención está hecha?\n",
      "Describiendo la pregunta Cuando te encuentras con una imagen, ¿intentas entender con qué intención está hecha?\n",
      "Valores numéricos asociados a las respuestas [1, 2, 3, 4, 5]\n",
      "Respuestas posibles a la pregunta/variable ['1. Nunca', '2. Muy pocas veces', '3. En ocasiones', '4. Bastantes veces', '5. Casi siempre o siempre']\n"
     ]
    },
    {
     "data": {
      "text/plain": [
       "count    301.000000\n",
       "mean       3.548173\n",
       "std        0.913877\n",
       "min        1.000000\n",
       "25%        3.000000\n",
       "50%        4.000000\n",
       "75%        4.000000\n",
       "max        5.000000\n",
       "Name: Cuando te encuentras con una imagen, ¿intentas entender con qué intención está hecha?, dtype: float64"
      ]
     },
     "metadata": {},
     "output_type": "display_data"
    },
    {
     "name": "stdout",
     "output_type": "stream",
     "text": [
      "Conteo de cada valor en Cuando te encuentras con una imagen, ¿intentas entender con qué intención está hecha? expresada como valor / cantidad\n"
     ]
    },
    {
     "data": {
      "text/plain": [
       "1      4\n",
       "2     28\n",
       "3    116\n",
       "4    105\n",
       "5     48\n",
       "Name: Cuando te encuentras con una imagen, ¿intentas entender con qué intención está hecha?, dtype: int64"
      ]
     },
     "metadata": {},
     "output_type": "display_data"
    },
    {
     "name": "stdout",
     "output_type": "stream",
     "text": [
      "Porcentaje de cada valor en Cuando te encuentras con una imagen, ¿intentas entender con qué intención está hecha? expresado como valor / porcentaje\n"
     ]
    },
    {
     "data": {
      "text/plain": [
       "1     1.33\n",
       "2     9.30\n",
       "3    38.54\n",
       "4    34.88\n",
       "5    15.95\n",
       "Name: Cuando te encuentras con una imagen, ¿intentas entender con qué intención está hecha?, dtype: float64"
      ]
     },
     "metadata": {},
     "output_type": "display_data"
    },
    {
     "data": {
      "application/vnd.plotly.v1+json": {
       "config": {
        "linkText": "Export to plot.ly",
        "plotlyServerURL": "https://plot.ly",
        "showLink": false
       },
       "data": [
        {
         "marker": {
          "color": [
           "rgb(213,62,79)",
           "rgb(252,141,89)",
           "rgb(254,224,139)",
           "rgb(230,245,152)",
           "rgb(153,213,148)",
           "rgb(50,136,189)"
          ]
         },
         "type": "bar",
         "uid": "6fbd146f-7f9e-4f95-a473-c24a53456d89",
         "x": [
          1,
          2,
          3,
          4,
          5
         ],
         "y": [
          4,
          28,
          116,
          105,
          48
         ]
        }
       ],
       "layout": {
        "bargap": 0.2,
        "xaxis": {
         "ticktext": [
          "1. Nunca",
          "2. Muy pocas veces",
          "3. En ocasiones",
          "4. Bastantes veces",
          "5. Casi siempre o siempre"
         ],
         "tickvals": [
          1,
          2,
          3,
          4,
          5
         ]
        }
       }
      },
      "text/html": [
       "<div id=\"d31f1a81-9c35-43d2-8ae0-f022151c60e3\" style=\"height: 525px; width: 100%;\" class=\"plotly-graph-div\"></div><script type=\"text/javascript\">require([\"plotly\"], function(Plotly) { window.PLOTLYENV=window.PLOTLYENV || {};window.PLOTLYENV.BASE_URL=\"https://plot.ly\";\n",
       "if (document.getElementById(\"d31f1a81-9c35-43d2-8ae0-f022151c60e3\")) {\n",
       "    Plotly.newPlot(\"d31f1a81-9c35-43d2-8ae0-f022151c60e3\", [{\"marker\": {\"color\": [\"rgb(213,62,79)\", \"rgb(252,141,89)\", \"rgb(254,224,139)\", \"rgb(230,245,152)\", \"rgb(153,213,148)\", \"rgb(50,136,189)\"]}, \"x\": [1, 2, 3, 4, 5], \"y\": [4, 28, 116, 105, 48], \"type\": \"bar\", \"uid\": \"6fbd146f-7f9e-4f95-a473-c24a53456d89\"}], {\"bargap\": 0.2, \"xaxis\": {\"ticktext\": [\"1. Nunca\", \"2. Muy pocas veces\", \"3. En ocasiones\", \"4. Bastantes veces\", \"5. Casi siempre o siempre\"], \"tickvals\": [1, 2, 3, 4, 5]}}, {\"showLink\": false, \"linkText\": \"Export to plot.ly\", \"plotlyServerURL\": \"https://plot.ly\"}); \n",
       "}\n",
       "});</script><script type=\"text/javascript\">window.addEventListener(\"resize\", function(){if (document.getElementById(\"d31f1a81-9c35-43d2-8ae0-f022151c60e3\")) {window._Plotly.Plots.resize(document.getElementById(\"d31f1a81-9c35-43d2-8ae0-f022151c60e3\"));};})</script>"
      ],
      "text/vnd.plotly.v1+html": [
       "<div id=\"d31f1a81-9c35-43d2-8ae0-f022151c60e3\" style=\"height: 525px; width: 100%;\" class=\"plotly-graph-div\"></div><script type=\"text/javascript\">require([\"plotly\"], function(Plotly) { window.PLOTLYENV=window.PLOTLYENV || {};window.PLOTLYENV.BASE_URL=\"https://plot.ly\";\n",
       "if (document.getElementById(\"d31f1a81-9c35-43d2-8ae0-f022151c60e3\")) {\n",
       "    Plotly.newPlot(\"d31f1a81-9c35-43d2-8ae0-f022151c60e3\", [{\"marker\": {\"color\": [\"rgb(213,62,79)\", \"rgb(252,141,89)\", \"rgb(254,224,139)\", \"rgb(230,245,152)\", \"rgb(153,213,148)\", \"rgb(50,136,189)\"]}, \"x\": [1, 2, 3, 4, 5], \"y\": [4, 28, 116, 105, 48], \"type\": \"bar\", \"uid\": \"6fbd146f-7f9e-4f95-a473-c24a53456d89\"}], {\"bargap\": 0.2, \"xaxis\": {\"ticktext\": [\"1. Nunca\", \"2. Muy pocas veces\", \"3. En ocasiones\", \"4. Bastantes veces\", \"5. Casi siempre o siempre\"], \"tickvals\": [1, 2, 3, 4, 5]}}, {\"showLink\": false, \"linkText\": \"Export to plot.ly\", \"plotlyServerURL\": \"https://plot.ly\"}); \n",
       "}\n",
       "});</script><script type=\"text/javascript\">window.addEventListener(\"resize\", function(){if (document.getElementById(\"d31f1a81-9c35-43d2-8ae0-f022151c60e3\")) {window._Plotly.Plots.resize(document.getElementById(\"d31f1a81-9c35-43d2-8ae0-f022151c60e3\"));};})</script>"
      ]
     },
     "metadata": {},
     "output_type": "display_data"
    },
    {
     "name": "stdout",
     "output_type": "stream",
     "text": [
      "\n",
      "\n",
      "Cluster 2 || variable: Cuando recibes o consumes una imagen, ¿la comparas con tu propia realidad? ¿Intentas encontrar en tu entorno cierto parecido?\n",
      "Describiendo la pregunta Cuando recibes o consumes una imagen, ¿la comparas con tu propia realidad? ¿Intentas encontrar en tu entorno cierto parecido?\n",
      "Valores numéricos asociados a las respuestas [1, 2, 3, 4, 5]\n",
      "Respuestas posibles a la pregunta/variable ['1. Nunca', '2. Muy pocas veces', '3. En ocasiones', '4. Bastantes veces', '5. Casi siempre o siempre']\n"
     ]
    },
    {
     "data": {
      "text/plain": [
       "count    301.000000\n",
       "mean       3.372093\n",
       "std        0.931532\n",
       "min        1.000000\n",
       "25%        3.000000\n",
       "50%        3.000000\n",
       "75%        4.000000\n",
       "max        5.000000\n",
       "Name: Cuando recibes o consumes una imagen, ¿la comparas con tu propia realidad? ¿Intentas encontrar en tu entorno cierto parecido?, dtype: float64"
      ]
     },
     "metadata": {},
     "output_type": "display_data"
    },
    {
     "name": "stdout",
     "output_type": "stream",
     "text": [
      "Conteo de cada valor en Cuando recibes o consumes una imagen, ¿la comparas con tu propia realidad? ¿Intentas encontrar en tu entorno cierto parecido? expresada como valor / cantidad\n"
     ]
    },
    {
     "data": {
      "text/plain": [
       "1      9\n",
       "2     35\n",
       "3    125\n",
       "4     99\n",
       "5     33\n",
       "Name: Cuando recibes o consumes una imagen, ¿la comparas con tu propia realidad? ¿Intentas encontrar en tu entorno cierto parecido?, dtype: int64"
      ]
     },
     "metadata": {},
     "output_type": "display_data"
    },
    {
     "name": "stdout",
     "output_type": "stream",
     "text": [
      "Porcentaje de cada valor en Cuando recibes o consumes una imagen, ¿la comparas con tu propia realidad? ¿Intentas encontrar en tu entorno cierto parecido? expresado como valor / porcentaje\n"
     ]
    },
    {
     "data": {
      "text/plain": [
       "1     2.99\n",
       "2    11.63\n",
       "3    41.53\n",
       "4    32.89\n",
       "5    10.96\n",
       "Name: Cuando recibes o consumes una imagen, ¿la comparas con tu propia realidad? ¿Intentas encontrar en tu entorno cierto parecido?, dtype: float64"
      ]
     },
     "metadata": {},
     "output_type": "display_data"
    },
    {
     "data": {
      "application/vnd.plotly.v1+json": {
       "config": {
        "linkText": "Export to plot.ly",
        "plotlyServerURL": "https://plot.ly",
        "showLink": false
       },
       "data": [
        {
         "marker": {
          "color": [
           "rgb(213,62,79)",
           "rgb(252,141,89)",
           "rgb(254,224,139)",
           "rgb(230,245,152)",
           "rgb(153,213,148)",
           "rgb(50,136,189)"
          ]
         },
         "type": "bar",
         "uid": "4b6c3b61-dd27-480c-ad59-c309de80b22e",
         "x": [
          1,
          2,
          3,
          4,
          5
         ],
         "y": [
          9,
          35,
          125,
          99,
          33
         ]
        }
       ],
       "layout": {
        "bargap": 0.2,
        "xaxis": {
         "ticktext": [
          "1. Nunca",
          "2. Muy pocas veces",
          "3. En ocasiones",
          "4. Bastantes veces",
          "5. Casi siempre o siempre"
         ],
         "tickvals": [
          1,
          2,
          3,
          4,
          5
         ]
        }
       }
      },
      "text/html": [
       "<div id=\"bb21796c-f18d-430e-b76b-408032f35637\" style=\"height: 525px; width: 100%;\" class=\"plotly-graph-div\"></div><script type=\"text/javascript\">require([\"plotly\"], function(Plotly) { window.PLOTLYENV=window.PLOTLYENV || {};window.PLOTLYENV.BASE_URL=\"https://plot.ly\";\n",
       "if (document.getElementById(\"bb21796c-f18d-430e-b76b-408032f35637\")) {\n",
       "    Plotly.newPlot(\"bb21796c-f18d-430e-b76b-408032f35637\", [{\"marker\": {\"color\": [\"rgb(213,62,79)\", \"rgb(252,141,89)\", \"rgb(254,224,139)\", \"rgb(230,245,152)\", \"rgb(153,213,148)\", \"rgb(50,136,189)\"]}, \"x\": [1, 2, 3, 4, 5], \"y\": [9, 35, 125, 99, 33], \"type\": \"bar\", \"uid\": \"4b6c3b61-dd27-480c-ad59-c309de80b22e\"}], {\"bargap\": 0.2, \"xaxis\": {\"ticktext\": [\"1. Nunca\", \"2. Muy pocas veces\", \"3. En ocasiones\", \"4. Bastantes veces\", \"5. Casi siempre o siempre\"], \"tickvals\": [1, 2, 3, 4, 5]}}, {\"showLink\": false, \"linkText\": \"Export to plot.ly\", \"plotlyServerURL\": \"https://plot.ly\"}); \n",
       "}\n",
       "});</script><script type=\"text/javascript\">window.addEventListener(\"resize\", function(){if (document.getElementById(\"bb21796c-f18d-430e-b76b-408032f35637\")) {window._Plotly.Plots.resize(document.getElementById(\"bb21796c-f18d-430e-b76b-408032f35637\"));};})</script>"
      ],
      "text/vnd.plotly.v1+html": [
       "<div id=\"bb21796c-f18d-430e-b76b-408032f35637\" style=\"height: 525px; width: 100%;\" class=\"plotly-graph-div\"></div><script type=\"text/javascript\">require([\"plotly\"], function(Plotly) { window.PLOTLYENV=window.PLOTLYENV || {};window.PLOTLYENV.BASE_URL=\"https://plot.ly\";\n",
       "if (document.getElementById(\"bb21796c-f18d-430e-b76b-408032f35637\")) {\n",
       "    Plotly.newPlot(\"bb21796c-f18d-430e-b76b-408032f35637\", [{\"marker\": {\"color\": [\"rgb(213,62,79)\", \"rgb(252,141,89)\", \"rgb(254,224,139)\", \"rgb(230,245,152)\", \"rgb(153,213,148)\", \"rgb(50,136,189)\"]}, \"x\": [1, 2, 3, 4, 5], \"y\": [9, 35, 125, 99, 33], \"type\": \"bar\", \"uid\": \"4b6c3b61-dd27-480c-ad59-c309de80b22e\"}], {\"bargap\": 0.2, \"xaxis\": {\"ticktext\": [\"1. Nunca\", \"2. Muy pocas veces\", \"3. En ocasiones\", \"4. Bastantes veces\", \"5. Casi siempre o siempre\"], \"tickvals\": [1, 2, 3, 4, 5]}}, {\"showLink\": false, \"linkText\": \"Export to plot.ly\", \"plotlyServerURL\": \"https://plot.ly\"}); \n",
       "}\n",
       "});</script><script type=\"text/javascript\">window.addEventListener(\"resize\", function(){if (document.getElementById(\"bb21796c-f18d-430e-b76b-408032f35637\")) {window._Plotly.Plots.resize(document.getElementById(\"bb21796c-f18d-430e-b76b-408032f35637\"));};})</script>"
      ]
     },
     "metadata": {},
     "output_type": "display_data"
    },
    {
     "name": "stdout",
     "output_type": "stream",
     "text": [
      "\n",
      "\n",
      "Cluster 2 || variable: Cuando recibes o consumes una imagen, ¿piensas en el modo en que fue obtenida (técnicamente)?\n",
      "Describiendo la pregunta Cuando recibes o consumes una imagen, ¿piensas en el modo en que fue obtenida (técnicamente)?\n",
      "Valores numéricos asociados a las respuestas [1, 2, 3, 4, 5]\n",
      "Respuestas posibles a la pregunta/variable ['1. Nunca', '2. Muy pocas veces', '3. En ocasiones', '4. Bastantes veces', '5. Casi siempre o siempre']\n"
     ]
    },
    {
     "data": {
      "text/plain": [
       "count    301.000000\n",
       "mean       3.179402\n",
       "std        1.020314\n",
       "min        1.000000\n",
       "25%        2.000000\n",
       "50%        3.000000\n",
       "75%        4.000000\n",
       "max        5.000000\n",
       "Name: Cuando recibes o consumes una imagen, ¿piensas en el modo en que fue obtenida (técnicamente)?, dtype: float64"
      ]
     },
     "metadata": {},
     "output_type": "display_data"
    },
    {
     "name": "stdout",
     "output_type": "stream",
     "text": [
      "Conteo de cada valor en Cuando recibes o consumes una imagen, ¿piensas en el modo en que fue obtenida (técnicamente)? expresada como valor / cantidad\n"
     ]
    },
    {
     "data": {
      "text/plain": [
       "1     11\n",
       "2     69\n",
       "3    108\n",
       "4     81\n",
       "5     32\n",
       "Name: Cuando recibes o consumes una imagen, ¿piensas en el modo en que fue obtenida (técnicamente)?, dtype: int64"
      ]
     },
     "metadata": {},
     "output_type": "display_data"
    },
    {
     "name": "stdout",
     "output_type": "stream",
     "text": [
      "Porcentaje de cada valor en Cuando recibes o consumes una imagen, ¿piensas en el modo en que fue obtenida (técnicamente)? expresado como valor / porcentaje\n"
     ]
    },
    {
     "data": {
      "text/plain": [
       "1     3.65\n",
       "2    22.92\n",
       "3    35.88\n",
       "4    26.91\n",
       "5    10.63\n",
       "Name: Cuando recibes o consumes una imagen, ¿piensas en el modo en que fue obtenida (técnicamente)?, dtype: float64"
      ]
     },
     "metadata": {},
     "output_type": "display_data"
    },
    {
     "data": {
      "application/vnd.plotly.v1+json": {
       "config": {
        "linkText": "Export to plot.ly",
        "plotlyServerURL": "https://plot.ly",
        "showLink": false
       },
       "data": [
        {
         "marker": {
          "color": [
           "rgb(213,62,79)",
           "rgb(252,141,89)",
           "rgb(254,224,139)",
           "rgb(230,245,152)",
           "rgb(153,213,148)",
           "rgb(50,136,189)"
          ]
         },
         "type": "bar",
         "uid": "ede08f2a-15ce-49a6-b366-5e2aaf30b64e",
         "x": [
          1,
          2,
          3,
          4,
          5
         ],
         "y": [
          11,
          69,
          108,
          81,
          32
         ]
        }
       ],
       "layout": {
        "bargap": 0.2,
        "xaxis": {
         "ticktext": [
          "1. Nunca",
          "2. Muy pocas veces",
          "3. En ocasiones",
          "4. Bastantes veces",
          "5. Casi siempre o siempre"
         ],
         "tickvals": [
          1,
          2,
          3,
          4,
          5
         ]
        }
       }
      },
      "text/html": [
       "<div id=\"ee146cc0-4b89-4d8f-a94d-04cbc85ffbd8\" style=\"height: 525px; width: 100%;\" class=\"plotly-graph-div\"></div><script type=\"text/javascript\">require([\"plotly\"], function(Plotly) { window.PLOTLYENV=window.PLOTLYENV || {};window.PLOTLYENV.BASE_URL=\"https://plot.ly\";\n",
       "if (document.getElementById(\"ee146cc0-4b89-4d8f-a94d-04cbc85ffbd8\")) {\n",
       "    Plotly.newPlot(\"ee146cc0-4b89-4d8f-a94d-04cbc85ffbd8\", [{\"marker\": {\"color\": [\"rgb(213,62,79)\", \"rgb(252,141,89)\", \"rgb(254,224,139)\", \"rgb(230,245,152)\", \"rgb(153,213,148)\", \"rgb(50,136,189)\"]}, \"x\": [1, 2, 3, 4, 5], \"y\": [11, 69, 108, 81, 32], \"type\": \"bar\", \"uid\": \"ede08f2a-15ce-49a6-b366-5e2aaf30b64e\"}], {\"bargap\": 0.2, \"xaxis\": {\"ticktext\": [\"1. Nunca\", \"2. Muy pocas veces\", \"3. En ocasiones\", \"4. Bastantes veces\", \"5. Casi siempre o siempre\"], \"tickvals\": [1, 2, 3, 4, 5]}}, {\"showLink\": false, \"linkText\": \"Export to plot.ly\", \"plotlyServerURL\": \"https://plot.ly\"}); \n",
       "}\n",
       "});</script><script type=\"text/javascript\">window.addEventListener(\"resize\", function(){if (document.getElementById(\"ee146cc0-4b89-4d8f-a94d-04cbc85ffbd8\")) {window._Plotly.Plots.resize(document.getElementById(\"ee146cc0-4b89-4d8f-a94d-04cbc85ffbd8\"));};})</script>"
      ],
      "text/vnd.plotly.v1+html": [
       "<div id=\"ee146cc0-4b89-4d8f-a94d-04cbc85ffbd8\" style=\"height: 525px; width: 100%;\" class=\"plotly-graph-div\"></div><script type=\"text/javascript\">require([\"plotly\"], function(Plotly) { window.PLOTLYENV=window.PLOTLYENV || {};window.PLOTLYENV.BASE_URL=\"https://plot.ly\";\n",
       "if (document.getElementById(\"ee146cc0-4b89-4d8f-a94d-04cbc85ffbd8\")) {\n",
       "    Plotly.newPlot(\"ee146cc0-4b89-4d8f-a94d-04cbc85ffbd8\", [{\"marker\": {\"color\": [\"rgb(213,62,79)\", \"rgb(252,141,89)\", \"rgb(254,224,139)\", \"rgb(230,245,152)\", \"rgb(153,213,148)\", \"rgb(50,136,189)\"]}, \"x\": [1, 2, 3, 4, 5], \"y\": [11, 69, 108, 81, 32], \"type\": \"bar\", \"uid\": \"ede08f2a-15ce-49a6-b366-5e2aaf30b64e\"}], {\"bargap\": 0.2, \"xaxis\": {\"ticktext\": [\"1. Nunca\", \"2. Muy pocas veces\", \"3. En ocasiones\", \"4. Bastantes veces\", \"5. Casi siempre o siempre\"], \"tickvals\": [1, 2, 3, 4, 5]}}, {\"showLink\": false, \"linkText\": \"Export to plot.ly\", \"plotlyServerURL\": \"https://plot.ly\"}); \n",
       "}\n",
       "});</script><script type=\"text/javascript\">window.addEventListener(\"resize\", function(){if (document.getElementById(\"ee146cc0-4b89-4d8f-a94d-04cbc85ffbd8\")) {window._Plotly.Plots.resize(document.getElementById(\"ee146cc0-4b89-4d8f-a94d-04cbc85ffbd8\"));};})</script>"
      ]
     },
     "metadata": {},
     "output_type": "display_data"
    },
    {
     "name": "stdout",
     "output_type": "stream",
     "text": [
      "\n",
      "\n",
      "Cluster 2 || variable: Cuando observas una imagen, ¿te preguntas cosas acerca de los personajes/objetos que aparecen en la misma?\n",
      "Describiendo la pregunta Cuando observas una imagen, ¿te preguntas cosas acerca de los personajes/objetos que aparecen en la misma?\n",
      "Valores numéricos asociados a las respuestas [1, 2, 3, 4, 5]\n",
      "Respuestas posibles a la pregunta/variable ['1. Nunca', '2. Muy pocas veces', '3. En ocasiones', '4. Bastantes veces', '5. Casi siempre o siempre']\n"
     ]
    },
    {
     "data": {
      "text/plain": [
       "count    301.000000\n",
       "mean       3.624585\n",
       "std        0.924803\n",
       "min        1.000000\n",
       "25%        3.000000\n",
       "50%        4.000000\n",
       "75%        4.000000\n",
       "max        5.000000\n",
       "Name: Cuando observas una imagen, ¿te preguntas cosas acerca de los personajes/objetos que aparecen en la misma?, dtype: float64"
      ]
     },
     "metadata": {},
     "output_type": "display_data"
    },
    {
     "name": "stdout",
     "output_type": "stream",
     "text": [
      "Conteo de cada valor en Cuando observas una imagen, ¿te preguntas cosas acerca de los personajes/objetos que aparecen en la misma? expresada como valor / cantidad\n"
     ]
    },
    {
     "data": {
      "text/plain": [
       "1      3\n",
       "2     27\n",
       "3    107\n",
       "4    107\n",
       "5     57\n",
       "Name: Cuando observas una imagen, ¿te preguntas cosas acerca de los personajes/objetos que aparecen en la misma?, dtype: int64"
      ]
     },
     "metadata": {},
     "output_type": "display_data"
    },
    {
     "name": "stdout",
     "output_type": "stream",
     "text": [
      "Porcentaje de cada valor en Cuando observas una imagen, ¿te preguntas cosas acerca de los personajes/objetos que aparecen en la misma? expresado como valor / porcentaje\n"
     ]
    },
    {
     "data": {
      "text/plain": [
       "1     1.00\n",
       "2     8.97\n",
       "3    35.55\n",
       "4    35.55\n",
       "5    18.94\n",
       "Name: Cuando observas una imagen, ¿te preguntas cosas acerca de los personajes/objetos que aparecen en la misma?, dtype: float64"
      ]
     },
     "metadata": {},
     "output_type": "display_data"
    },
    {
     "data": {
      "application/vnd.plotly.v1+json": {
       "config": {
        "linkText": "Export to plot.ly",
        "plotlyServerURL": "https://plot.ly",
        "showLink": false
       },
       "data": [
        {
         "marker": {
          "color": [
           "rgb(213,62,79)",
           "rgb(252,141,89)",
           "rgb(254,224,139)",
           "rgb(230,245,152)",
           "rgb(153,213,148)",
           "rgb(50,136,189)"
          ]
         },
         "type": "bar",
         "uid": "33e9eb92-4436-49f9-9eb1-f6402d78bb3c",
         "x": [
          1,
          2,
          3,
          4,
          5
         ],
         "y": [
          3,
          27,
          107,
          107,
          57
         ]
        }
       ],
       "layout": {
        "bargap": 0.2,
        "xaxis": {
         "ticktext": [
          "1. Nunca",
          "2. Muy pocas veces",
          "3. En ocasiones",
          "4. Bastantes veces",
          "5. Casi siempre o siempre"
         ],
         "tickvals": [
          1,
          2,
          3,
          4,
          5
         ]
        }
       }
      },
      "text/html": [
       "<div id=\"fdf1a69c-c1e6-4ee3-91b0-f1a51f39e962\" style=\"height: 525px; width: 100%;\" class=\"plotly-graph-div\"></div><script type=\"text/javascript\">require([\"plotly\"], function(Plotly) { window.PLOTLYENV=window.PLOTLYENV || {};window.PLOTLYENV.BASE_URL=\"https://plot.ly\";\n",
       "if (document.getElementById(\"fdf1a69c-c1e6-4ee3-91b0-f1a51f39e962\")) {\n",
       "    Plotly.newPlot(\"fdf1a69c-c1e6-4ee3-91b0-f1a51f39e962\", [{\"marker\": {\"color\": [\"rgb(213,62,79)\", \"rgb(252,141,89)\", \"rgb(254,224,139)\", \"rgb(230,245,152)\", \"rgb(153,213,148)\", \"rgb(50,136,189)\"]}, \"x\": [1, 2, 3, 4, 5], \"y\": [3, 27, 107, 107, 57], \"type\": \"bar\", \"uid\": \"33e9eb92-4436-49f9-9eb1-f6402d78bb3c\"}], {\"bargap\": 0.2, \"xaxis\": {\"ticktext\": [\"1. Nunca\", \"2. Muy pocas veces\", \"3. En ocasiones\", \"4. Bastantes veces\", \"5. Casi siempre o siempre\"], \"tickvals\": [1, 2, 3, 4, 5]}}, {\"showLink\": false, \"linkText\": \"Export to plot.ly\", \"plotlyServerURL\": \"https://plot.ly\"}); \n",
       "}\n",
       "});</script><script type=\"text/javascript\">window.addEventListener(\"resize\", function(){if (document.getElementById(\"fdf1a69c-c1e6-4ee3-91b0-f1a51f39e962\")) {window._Plotly.Plots.resize(document.getElementById(\"fdf1a69c-c1e6-4ee3-91b0-f1a51f39e962\"));};})</script>"
      ],
      "text/vnd.plotly.v1+html": [
       "<div id=\"fdf1a69c-c1e6-4ee3-91b0-f1a51f39e962\" style=\"height: 525px; width: 100%;\" class=\"plotly-graph-div\"></div><script type=\"text/javascript\">require([\"plotly\"], function(Plotly) { window.PLOTLYENV=window.PLOTLYENV || {};window.PLOTLYENV.BASE_URL=\"https://plot.ly\";\n",
       "if (document.getElementById(\"fdf1a69c-c1e6-4ee3-91b0-f1a51f39e962\")) {\n",
       "    Plotly.newPlot(\"fdf1a69c-c1e6-4ee3-91b0-f1a51f39e962\", [{\"marker\": {\"color\": [\"rgb(213,62,79)\", \"rgb(252,141,89)\", \"rgb(254,224,139)\", \"rgb(230,245,152)\", \"rgb(153,213,148)\", \"rgb(50,136,189)\"]}, \"x\": [1, 2, 3, 4, 5], \"y\": [3, 27, 107, 107, 57], \"type\": \"bar\", \"uid\": \"33e9eb92-4436-49f9-9eb1-f6402d78bb3c\"}], {\"bargap\": 0.2, \"xaxis\": {\"ticktext\": [\"1. Nunca\", \"2. Muy pocas veces\", \"3. En ocasiones\", \"4. Bastantes veces\", \"5. Casi siempre o siempre\"], \"tickvals\": [1, 2, 3, 4, 5]}}, {\"showLink\": false, \"linkText\": \"Export to plot.ly\", \"plotlyServerURL\": \"https://plot.ly\"}); \n",
       "}\n",
       "});</script><script type=\"text/javascript\">window.addEventListener(\"resize\", function(){if (document.getElementById(\"fdf1a69c-c1e6-4ee3-91b0-f1a51f39e962\")) {window._Plotly.Plots.resize(document.getElementById(\"fdf1a69c-c1e6-4ee3-91b0-f1a51f39e962\"));};})</script>"
      ]
     },
     "metadata": {},
     "output_type": "display_data"
    },
    {
     "name": "stdout",
     "output_type": "stream",
     "text": [
      "\n",
      "\n",
      "Cluster 2 || variable: ¿Entiendes, generalmente, las intenciones que tiene el autor de una imagen cuando la ves y la compartes?\n",
      "Describiendo la pregunta ¿Entiendes, generalmente, las intenciones que tiene el autor de una imagen cuando la ves y la compartes?\n",
      "Valores numéricos asociados a las respuestas [1, 2, 3, 4, 5]\n",
      "Respuestas posibles a la pregunta/variable ['1. Never', '2. Very rarely', '3. Occasionally', '4. Several times', '5. Almost always or always']\n"
     ]
    },
    {
     "data": {
      "text/plain": [
       "count    301.000000\n",
       "mean       3.511628\n",
       "std        0.904082\n",
       "min        1.000000\n",
       "25%        3.000000\n",
       "50%        4.000000\n",
       "75%        4.000000\n",
       "max        5.000000\n",
       "Name: ¿Entiendes, generalmente, las intenciones que tiene el autor de una imagen cuando la ves y la compartes?, dtype: float64"
      ]
     },
     "metadata": {},
     "output_type": "display_data"
    },
    {
     "name": "stdout",
     "output_type": "stream",
     "text": [
      "Conteo de cada valor en ¿Entiendes, generalmente, las intenciones que tiene el autor de una imagen cuando la ves y la compartes? expresada como valor / cantidad\n"
     ]
    },
    {
     "data": {
      "text/plain": [
       "1      4\n",
       "2     31\n",
       "3    115\n",
       "4    109\n",
       "5     42\n",
       "Name: ¿Entiendes, generalmente, las intenciones que tiene el autor de una imagen cuando la ves y la compartes?, dtype: int64"
      ]
     },
     "metadata": {},
     "output_type": "display_data"
    },
    {
     "name": "stdout",
     "output_type": "stream",
     "text": [
      "Porcentaje de cada valor en ¿Entiendes, generalmente, las intenciones que tiene el autor de una imagen cuando la ves y la compartes? expresado como valor / porcentaje\n"
     ]
    },
    {
     "data": {
      "text/plain": [
       "1     1.33\n",
       "2    10.30\n",
       "3    38.21\n",
       "4    36.21\n",
       "5    13.95\n",
       "Name: ¿Entiendes, generalmente, las intenciones que tiene el autor de una imagen cuando la ves y la compartes?, dtype: float64"
      ]
     },
     "metadata": {},
     "output_type": "display_data"
    },
    {
     "data": {
      "application/vnd.plotly.v1+json": {
       "config": {
        "linkText": "Export to plot.ly",
        "plotlyServerURL": "https://plot.ly",
        "showLink": false
       },
       "data": [
        {
         "marker": {
          "color": [
           "rgb(213,62,79)",
           "rgb(252,141,89)",
           "rgb(254,224,139)",
           "rgb(230,245,152)",
           "rgb(153,213,148)",
           "rgb(50,136,189)"
          ]
         },
         "type": "bar",
         "uid": "6bbf4bb5-ce3f-454b-9574-53a546e3e9c6",
         "x": [
          1,
          2,
          3,
          4,
          5
         ],
         "y": [
          4,
          31,
          115,
          109,
          42
         ]
        }
       ],
       "layout": {
        "bargap": 0.2,
        "xaxis": {
         "ticktext": [
          "1. Never",
          "2. Very rarely",
          "3. Occasionally",
          "4. Several times",
          "5. Almost always or always"
         ],
         "tickvals": [
          1,
          2,
          3,
          4,
          5
         ]
        }
       }
      },
      "text/html": [
       "<div id=\"c3b6e1c1-483e-4d3e-a003-9771db062021\" style=\"height: 525px; width: 100%;\" class=\"plotly-graph-div\"></div><script type=\"text/javascript\">require([\"plotly\"], function(Plotly) { window.PLOTLYENV=window.PLOTLYENV || {};window.PLOTLYENV.BASE_URL=\"https://plot.ly\";\n",
       "if (document.getElementById(\"c3b6e1c1-483e-4d3e-a003-9771db062021\")) {\n",
       "    Plotly.newPlot(\"c3b6e1c1-483e-4d3e-a003-9771db062021\", [{\"marker\": {\"color\": [\"rgb(213,62,79)\", \"rgb(252,141,89)\", \"rgb(254,224,139)\", \"rgb(230,245,152)\", \"rgb(153,213,148)\", \"rgb(50,136,189)\"]}, \"x\": [1, 2, 3, 4, 5], \"y\": [4, 31, 115, 109, 42], \"type\": \"bar\", \"uid\": \"6bbf4bb5-ce3f-454b-9574-53a546e3e9c6\"}], {\"bargap\": 0.2, \"xaxis\": {\"ticktext\": [\"1. Never\", \"2. Very rarely\", \"3. Occasionally\", \"4. Several times\", \"5. Almost always or always\"], \"tickvals\": [1, 2, 3, 4, 5]}}, {\"showLink\": false, \"linkText\": \"Export to plot.ly\", \"plotlyServerURL\": \"https://plot.ly\"}); \n",
       "}\n",
       "});</script><script type=\"text/javascript\">window.addEventListener(\"resize\", function(){if (document.getElementById(\"c3b6e1c1-483e-4d3e-a003-9771db062021\")) {window._Plotly.Plots.resize(document.getElementById(\"c3b6e1c1-483e-4d3e-a003-9771db062021\"));};})</script>"
      ],
      "text/vnd.plotly.v1+html": [
       "<div id=\"c3b6e1c1-483e-4d3e-a003-9771db062021\" style=\"height: 525px; width: 100%;\" class=\"plotly-graph-div\"></div><script type=\"text/javascript\">require([\"plotly\"], function(Plotly) { window.PLOTLYENV=window.PLOTLYENV || {};window.PLOTLYENV.BASE_URL=\"https://plot.ly\";\n",
       "if (document.getElementById(\"c3b6e1c1-483e-4d3e-a003-9771db062021\")) {\n",
       "    Plotly.newPlot(\"c3b6e1c1-483e-4d3e-a003-9771db062021\", [{\"marker\": {\"color\": [\"rgb(213,62,79)\", \"rgb(252,141,89)\", \"rgb(254,224,139)\", \"rgb(230,245,152)\", \"rgb(153,213,148)\", \"rgb(50,136,189)\"]}, \"x\": [1, 2, 3, 4, 5], \"y\": [4, 31, 115, 109, 42], \"type\": \"bar\", \"uid\": \"6bbf4bb5-ce3f-454b-9574-53a546e3e9c6\"}], {\"bargap\": 0.2, \"xaxis\": {\"ticktext\": [\"1. Never\", \"2. Very rarely\", \"3. Occasionally\", \"4. Several times\", \"5. Almost always or always\"], \"tickvals\": [1, 2, 3, 4, 5]}}, {\"showLink\": false, \"linkText\": \"Export to plot.ly\", \"plotlyServerURL\": \"https://plot.ly\"}); \n",
       "}\n",
       "});</script><script type=\"text/javascript\">window.addEventListener(\"resize\", function(){if (document.getElementById(\"c3b6e1c1-483e-4d3e-a003-9771db062021\")) {window._Plotly.Plots.resize(document.getElementById(\"c3b6e1c1-483e-4d3e-a003-9771db062021\"));};})</script>"
      ]
     },
     "metadata": {},
     "output_type": "display_data"
    },
    {
     "name": "stdout",
     "output_type": "stream",
     "text": [
      "\n",
      "\n",
      "Cluster 2 || variable: ¿Eres capaz de expresar verbalmente las emociones que te produce una imagen que has visto?\n",
      "Describiendo la pregunta ¿Eres capaz de expresar verbalmente las emociones que te produce una imagen que has visto?\n",
      "Valores numéricos asociados a las respuestas [1, 2, 3, 4, 5]\n",
      "Respuestas posibles a la pregunta/variable ['1. Nunca', '2. Muy pocas veces', '3. En ocasiones', '4. Bastantes veces', '5. Casi siempre o siempre']\n"
     ]
    },
    {
     "data": {
      "text/plain": [
       "count    301.000000\n",
       "mean       3.588040\n",
       "std        0.903543\n",
       "min        1.000000\n",
       "25%        3.000000\n",
       "50%        4.000000\n",
       "75%        4.000000\n",
       "max        5.000000\n",
       "Name: ¿Eres capaz de expresar verbalmente las emociones que te produce una imagen que has visto?, dtype: float64"
      ]
     },
     "metadata": {},
     "output_type": "display_data"
    },
    {
     "name": "stdout",
     "output_type": "stream",
     "text": [
      "Conteo de cada valor en ¿Eres capaz de expresar verbalmente las emociones que te produce una imagen que has visto? expresada como valor / cantidad\n"
     ]
    },
    {
     "data": {
      "text/plain": [
       "1      1\n",
       "2     29\n",
       "3    117\n",
       "4    100\n",
       "5     54\n",
       "Name: ¿Eres capaz de expresar verbalmente las emociones que te produce una imagen que has visto?, dtype: int64"
      ]
     },
     "metadata": {},
     "output_type": "display_data"
    },
    {
     "name": "stdout",
     "output_type": "stream",
     "text": [
      "Porcentaje de cada valor en ¿Eres capaz de expresar verbalmente las emociones que te produce una imagen que has visto? expresado como valor / porcentaje\n"
     ]
    },
    {
     "data": {
      "text/plain": [
       "1     0.33\n",
       "2     9.63\n",
       "3    38.87\n",
       "4    33.22\n",
       "5    17.94\n",
       "Name: ¿Eres capaz de expresar verbalmente las emociones que te produce una imagen que has visto?, dtype: float64"
      ]
     },
     "metadata": {},
     "output_type": "display_data"
    },
    {
     "data": {
      "application/vnd.plotly.v1+json": {
       "config": {
        "linkText": "Export to plot.ly",
        "plotlyServerURL": "https://plot.ly",
        "showLink": false
       },
       "data": [
        {
         "marker": {
          "color": [
           "rgb(213,62,79)",
           "rgb(252,141,89)",
           "rgb(254,224,139)",
           "rgb(230,245,152)",
           "rgb(153,213,148)",
           "rgb(50,136,189)"
          ]
         },
         "type": "bar",
         "uid": "6d100bda-895f-4014-b713-31889e5f80c2",
         "x": [
          1,
          2,
          3,
          4,
          5
         ],
         "y": [
          1,
          29,
          117,
          100,
          54
         ]
        }
       ],
       "layout": {
        "bargap": 0.2,
        "xaxis": {
         "ticktext": [
          "1. Nunca",
          "2. Muy pocas veces",
          "3. En ocasiones",
          "4. Bastantes veces",
          "5. Casi siempre o siempre"
         ],
         "tickvals": [
          1,
          2,
          3,
          4,
          5
         ]
        }
       }
      },
      "text/html": [
       "<div id=\"dbb720b4-e950-481b-95b7-81c7178b7e3a\" style=\"height: 525px; width: 100%;\" class=\"plotly-graph-div\"></div><script type=\"text/javascript\">require([\"plotly\"], function(Plotly) { window.PLOTLYENV=window.PLOTLYENV || {};window.PLOTLYENV.BASE_URL=\"https://plot.ly\";\n",
       "if (document.getElementById(\"dbb720b4-e950-481b-95b7-81c7178b7e3a\")) {\n",
       "    Plotly.newPlot(\"dbb720b4-e950-481b-95b7-81c7178b7e3a\", [{\"marker\": {\"color\": [\"rgb(213,62,79)\", \"rgb(252,141,89)\", \"rgb(254,224,139)\", \"rgb(230,245,152)\", \"rgb(153,213,148)\", \"rgb(50,136,189)\"]}, \"x\": [1, 2, 3, 4, 5], \"y\": [1, 29, 117, 100, 54], \"type\": \"bar\", \"uid\": \"6d100bda-895f-4014-b713-31889e5f80c2\"}], {\"bargap\": 0.2, \"xaxis\": {\"ticktext\": [\"1. Nunca\", \"2. Muy pocas veces\", \"3. En ocasiones\", \"4. Bastantes veces\", \"5. Casi siempre o siempre\"], \"tickvals\": [1, 2, 3, 4, 5]}}, {\"showLink\": false, \"linkText\": \"Export to plot.ly\", \"plotlyServerURL\": \"https://plot.ly\"}); \n",
       "}\n",
       "});</script><script type=\"text/javascript\">window.addEventListener(\"resize\", function(){if (document.getElementById(\"dbb720b4-e950-481b-95b7-81c7178b7e3a\")) {window._Plotly.Plots.resize(document.getElementById(\"dbb720b4-e950-481b-95b7-81c7178b7e3a\"));};})</script>"
      ],
      "text/vnd.plotly.v1+html": [
       "<div id=\"dbb720b4-e950-481b-95b7-81c7178b7e3a\" style=\"height: 525px; width: 100%;\" class=\"plotly-graph-div\"></div><script type=\"text/javascript\">require([\"plotly\"], function(Plotly) { window.PLOTLYENV=window.PLOTLYENV || {};window.PLOTLYENV.BASE_URL=\"https://plot.ly\";\n",
       "if (document.getElementById(\"dbb720b4-e950-481b-95b7-81c7178b7e3a\")) {\n",
       "    Plotly.newPlot(\"dbb720b4-e950-481b-95b7-81c7178b7e3a\", [{\"marker\": {\"color\": [\"rgb(213,62,79)\", \"rgb(252,141,89)\", \"rgb(254,224,139)\", \"rgb(230,245,152)\", \"rgb(153,213,148)\", \"rgb(50,136,189)\"]}, \"x\": [1, 2, 3, 4, 5], \"y\": [1, 29, 117, 100, 54], \"type\": \"bar\", \"uid\": \"6d100bda-895f-4014-b713-31889e5f80c2\"}], {\"bargap\": 0.2, \"xaxis\": {\"ticktext\": [\"1. Nunca\", \"2. Muy pocas veces\", \"3. En ocasiones\", \"4. Bastantes veces\", \"5. Casi siempre o siempre\"], \"tickvals\": [1, 2, 3, 4, 5]}}, {\"showLink\": false, \"linkText\": \"Export to plot.ly\", \"plotlyServerURL\": \"https://plot.ly\"}); \n",
       "}\n",
       "});</script><script type=\"text/javascript\">window.addEventListener(\"resize\", function(){if (document.getElementById(\"dbb720b4-e950-481b-95b7-81c7178b7e3a\")) {window._Plotly.Plots.resize(document.getElementById(\"dbb720b4-e950-481b-95b7-81c7178b7e3a\"));};})</script>"
      ]
     },
     "metadata": {},
     "output_type": "display_data"
    },
    {
     "name": "stdout",
     "output_type": "stream",
     "text": [
      "\n",
      "\n",
      "Cluster 1 || variable: Cuando te encuentras con una imagen, ¿intentas entender con qué intención está hecha?\n",
      "Describiendo la pregunta Cuando te encuentras con una imagen, ¿intentas entender con qué intención está hecha?\n",
      "Valores numéricos asociados a las respuestas [1, 2, 3, 4, 5]\n",
      "Respuestas posibles a la pregunta/variable ['1. Nunca', '2. Muy pocas veces', '3. En ocasiones', '4. Bastantes veces', '5. Casi siempre o siempre']\n"
     ]
    },
    {
     "data": {
      "text/plain": [
       "count    223.000000\n",
       "mean       3.865471\n",
       "std        0.963206\n",
       "min        1.000000\n",
       "25%        3.000000\n",
       "50%        4.000000\n",
       "75%        5.000000\n",
       "max        5.000000\n",
       "Name: Cuando te encuentras con una imagen, ¿intentas entender con qué intención está hecha?, dtype: float64"
      ]
     },
     "metadata": {},
     "output_type": "display_data"
    },
    {
     "name": "stdout",
     "output_type": "stream",
     "text": [
      "Conteo de cada valor en Cuando te encuentras con una imagen, ¿intentas entender con qué intención está hecha? expresada como valor / cantidad\n"
     ]
    },
    {
     "data": {
      "text/plain": [
       "1     2\n",
       "2    18\n",
       "3    54\n",
       "4    83\n",
       "5    66\n",
       "Name: Cuando te encuentras con una imagen, ¿intentas entender con qué intención está hecha?, dtype: int64"
      ]
     },
     "metadata": {},
     "output_type": "display_data"
    },
    {
     "name": "stdout",
     "output_type": "stream",
     "text": [
      "Porcentaje de cada valor en Cuando te encuentras con una imagen, ¿intentas entender con qué intención está hecha? expresado como valor / porcentaje\n"
     ]
    },
    {
     "data": {
      "text/plain": [
       "1     0.90\n",
       "2     8.07\n",
       "3    24.22\n",
       "4    37.22\n",
       "5    29.60\n",
       "Name: Cuando te encuentras con una imagen, ¿intentas entender con qué intención está hecha?, dtype: float64"
      ]
     },
     "metadata": {},
     "output_type": "display_data"
    },
    {
     "data": {
      "application/vnd.plotly.v1+json": {
       "config": {
        "linkText": "Export to plot.ly",
        "plotlyServerURL": "https://plot.ly",
        "showLink": false
       },
       "data": [
        {
         "marker": {
          "color": [
           "rgb(213,62,79)",
           "rgb(252,141,89)",
           "rgb(254,224,139)",
           "rgb(230,245,152)",
           "rgb(153,213,148)",
           "rgb(50,136,189)"
          ]
         },
         "type": "bar",
         "uid": "6d081053-decc-452e-9680-1a7c451299c0",
         "x": [
          1,
          2,
          3,
          4,
          5
         ],
         "y": [
          2,
          18,
          54,
          83,
          66
         ]
        }
       ],
       "layout": {
        "bargap": 0.2,
        "xaxis": {
         "ticktext": [
          "1. Nunca",
          "2. Muy pocas veces",
          "3. En ocasiones",
          "4. Bastantes veces",
          "5. Casi siempre o siempre"
         ],
         "tickvals": [
          1,
          2,
          3,
          4,
          5
         ]
        }
       }
      },
      "text/html": [
       "<div id=\"67e07848-5682-4f73-b434-34513f6e7a6f\" style=\"height: 525px; width: 100%;\" class=\"plotly-graph-div\"></div><script type=\"text/javascript\">require([\"plotly\"], function(Plotly) { window.PLOTLYENV=window.PLOTLYENV || {};window.PLOTLYENV.BASE_URL=\"https://plot.ly\";\n",
       "if (document.getElementById(\"67e07848-5682-4f73-b434-34513f6e7a6f\")) {\n",
       "    Plotly.newPlot(\"67e07848-5682-4f73-b434-34513f6e7a6f\", [{\"marker\": {\"color\": [\"rgb(213,62,79)\", \"rgb(252,141,89)\", \"rgb(254,224,139)\", \"rgb(230,245,152)\", \"rgb(153,213,148)\", \"rgb(50,136,189)\"]}, \"x\": [1, 2, 3, 4, 5], \"y\": [2, 18, 54, 83, 66], \"type\": \"bar\", \"uid\": \"6d081053-decc-452e-9680-1a7c451299c0\"}], {\"bargap\": 0.2, \"xaxis\": {\"ticktext\": [\"1. Nunca\", \"2. Muy pocas veces\", \"3. En ocasiones\", \"4. Bastantes veces\", \"5. Casi siempre o siempre\"], \"tickvals\": [1, 2, 3, 4, 5]}}, {\"showLink\": false, \"linkText\": \"Export to plot.ly\", \"plotlyServerURL\": \"https://plot.ly\"}); \n",
       "}\n",
       "});</script><script type=\"text/javascript\">window.addEventListener(\"resize\", function(){if (document.getElementById(\"67e07848-5682-4f73-b434-34513f6e7a6f\")) {window._Plotly.Plots.resize(document.getElementById(\"67e07848-5682-4f73-b434-34513f6e7a6f\"));};})</script>"
      ],
      "text/vnd.plotly.v1+html": [
       "<div id=\"67e07848-5682-4f73-b434-34513f6e7a6f\" style=\"height: 525px; width: 100%;\" class=\"plotly-graph-div\"></div><script type=\"text/javascript\">require([\"plotly\"], function(Plotly) { window.PLOTLYENV=window.PLOTLYENV || {};window.PLOTLYENV.BASE_URL=\"https://plot.ly\";\n",
       "if (document.getElementById(\"67e07848-5682-4f73-b434-34513f6e7a6f\")) {\n",
       "    Plotly.newPlot(\"67e07848-5682-4f73-b434-34513f6e7a6f\", [{\"marker\": {\"color\": [\"rgb(213,62,79)\", \"rgb(252,141,89)\", \"rgb(254,224,139)\", \"rgb(230,245,152)\", \"rgb(153,213,148)\", \"rgb(50,136,189)\"]}, \"x\": [1, 2, 3, 4, 5], \"y\": [2, 18, 54, 83, 66], \"type\": \"bar\", \"uid\": \"6d081053-decc-452e-9680-1a7c451299c0\"}], {\"bargap\": 0.2, \"xaxis\": {\"ticktext\": [\"1. Nunca\", \"2. Muy pocas veces\", \"3. En ocasiones\", \"4. Bastantes veces\", \"5. Casi siempre o siempre\"], \"tickvals\": [1, 2, 3, 4, 5]}}, {\"showLink\": false, \"linkText\": \"Export to plot.ly\", \"plotlyServerURL\": \"https://plot.ly\"}); \n",
       "}\n",
       "});</script><script type=\"text/javascript\">window.addEventListener(\"resize\", function(){if (document.getElementById(\"67e07848-5682-4f73-b434-34513f6e7a6f\")) {window._Plotly.Plots.resize(document.getElementById(\"67e07848-5682-4f73-b434-34513f6e7a6f\"));};})</script>"
      ]
     },
     "metadata": {},
     "output_type": "display_data"
    },
    {
     "name": "stdout",
     "output_type": "stream",
     "text": [
      "\n",
      "\n",
      "Cluster 1 || variable: Cuando recibes o consumes una imagen, ¿la comparas con tu propia realidad? ¿Intentas encontrar en tu entorno cierto parecido?\n",
      "Describiendo la pregunta Cuando recibes o consumes una imagen, ¿la comparas con tu propia realidad? ¿Intentas encontrar en tu entorno cierto parecido?\n",
      "Valores numéricos asociados a las respuestas [1, 2, 3, 4, 5]\n",
      "Respuestas posibles a la pregunta/variable ['1. Nunca', '2. Muy pocas veces', '3. En ocasiones', '4. Bastantes veces', '5. Casi siempre o siempre']\n"
     ]
    },
    {
     "data": {
      "text/plain": [
       "count    223.000000\n",
       "mean       3.672646\n",
       "std        0.898204\n",
       "min        1.000000\n",
       "25%        3.000000\n",
       "50%        4.000000\n",
       "75%        4.000000\n",
       "max        5.000000\n",
       "Name: Cuando recibes o consumes una imagen, ¿la comparas con tu propia realidad? ¿Intentas encontrar en tu entorno cierto parecido?, dtype: float64"
      ]
     },
     "metadata": {},
     "output_type": "display_data"
    },
    {
     "name": "stdout",
     "output_type": "stream",
     "text": [
      "Conteo de cada valor en Cuando recibes o consumes una imagen, ¿la comparas con tu propia realidad? ¿Intentas encontrar en tu entorno cierto parecido? expresada como valor / cantidad\n"
     ]
    },
    {
     "data": {
      "text/plain": [
       "1     1\n",
       "2    19\n",
       "3    75\n",
       "4    85\n",
       "5    43\n",
       "Name: Cuando recibes o consumes una imagen, ¿la comparas con tu propia realidad? ¿Intentas encontrar en tu entorno cierto parecido?, dtype: int64"
      ]
     },
     "metadata": {},
     "output_type": "display_data"
    },
    {
     "name": "stdout",
     "output_type": "stream",
     "text": [
      "Porcentaje de cada valor en Cuando recibes o consumes una imagen, ¿la comparas con tu propia realidad? ¿Intentas encontrar en tu entorno cierto parecido? expresado como valor / porcentaje\n"
     ]
    },
    {
     "data": {
      "text/plain": [
       "1     0.45\n",
       "2     8.52\n",
       "3    33.63\n",
       "4    38.12\n",
       "5    19.28\n",
       "Name: Cuando recibes o consumes una imagen, ¿la comparas con tu propia realidad? ¿Intentas encontrar en tu entorno cierto parecido?, dtype: float64"
      ]
     },
     "metadata": {},
     "output_type": "display_data"
    },
    {
     "data": {
      "application/vnd.plotly.v1+json": {
       "config": {
        "linkText": "Export to plot.ly",
        "plotlyServerURL": "https://plot.ly",
        "showLink": false
       },
       "data": [
        {
         "marker": {
          "color": [
           "rgb(213,62,79)",
           "rgb(252,141,89)",
           "rgb(254,224,139)",
           "rgb(230,245,152)",
           "rgb(153,213,148)",
           "rgb(50,136,189)"
          ]
         },
         "type": "bar",
         "uid": "a0e05ff9-ce3e-4d65-9d6d-2655646dadff",
         "x": [
          1,
          2,
          3,
          4,
          5
         ],
         "y": [
          1,
          19,
          75,
          85,
          43
         ]
        }
       ],
       "layout": {
        "bargap": 0.2,
        "xaxis": {
         "ticktext": [
          "1. Nunca",
          "2. Muy pocas veces",
          "3. En ocasiones",
          "4. Bastantes veces",
          "5. Casi siempre o siempre"
         ],
         "tickvals": [
          1,
          2,
          3,
          4,
          5
         ]
        }
       }
      },
      "text/html": [
       "<div id=\"3f889f7c-8258-44cd-a9cc-34888eb7aa8a\" style=\"height: 525px; width: 100%;\" class=\"plotly-graph-div\"></div><script type=\"text/javascript\">require([\"plotly\"], function(Plotly) { window.PLOTLYENV=window.PLOTLYENV || {};window.PLOTLYENV.BASE_URL=\"https://plot.ly\";\n",
       "if (document.getElementById(\"3f889f7c-8258-44cd-a9cc-34888eb7aa8a\")) {\n",
       "    Plotly.newPlot(\"3f889f7c-8258-44cd-a9cc-34888eb7aa8a\", [{\"marker\": {\"color\": [\"rgb(213,62,79)\", \"rgb(252,141,89)\", \"rgb(254,224,139)\", \"rgb(230,245,152)\", \"rgb(153,213,148)\", \"rgb(50,136,189)\"]}, \"x\": [1, 2, 3, 4, 5], \"y\": [1, 19, 75, 85, 43], \"type\": \"bar\", \"uid\": \"a0e05ff9-ce3e-4d65-9d6d-2655646dadff\"}], {\"bargap\": 0.2, \"xaxis\": {\"ticktext\": [\"1. Nunca\", \"2. Muy pocas veces\", \"3. En ocasiones\", \"4. Bastantes veces\", \"5. Casi siempre o siempre\"], \"tickvals\": [1, 2, 3, 4, 5]}}, {\"showLink\": false, \"linkText\": \"Export to plot.ly\", \"plotlyServerURL\": \"https://plot.ly\"}); \n",
       "}\n",
       "});</script><script type=\"text/javascript\">window.addEventListener(\"resize\", function(){if (document.getElementById(\"3f889f7c-8258-44cd-a9cc-34888eb7aa8a\")) {window._Plotly.Plots.resize(document.getElementById(\"3f889f7c-8258-44cd-a9cc-34888eb7aa8a\"));};})</script>"
      ],
      "text/vnd.plotly.v1+html": [
       "<div id=\"3f889f7c-8258-44cd-a9cc-34888eb7aa8a\" style=\"height: 525px; width: 100%;\" class=\"plotly-graph-div\"></div><script type=\"text/javascript\">require([\"plotly\"], function(Plotly) { window.PLOTLYENV=window.PLOTLYENV || {};window.PLOTLYENV.BASE_URL=\"https://plot.ly\";\n",
       "if (document.getElementById(\"3f889f7c-8258-44cd-a9cc-34888eb7aa8a\")) {\n",
       "    Plotly.newPlot(\"3f889f7c-8258-44cd-a9cc-34888eb7aa8a\", [{\"marker\": {\"color\": [\"rgb(213,62,79)\", \"rgb(252,141,89)\", \"rgb(254,224,139)\", \"rgb(230,245,152)\", \"rgb(153,213,148)\", \"rgb(50,136,189)\"]}, \"x\": [1, 2, 3, 4, 5], \"y\": [1, 19, 75, 85, 43], \"type\": \"bar\", \"uid\": \"a0e05ff9-ce3e-4d65-9d6d-2655646dadff\"}], {\"bargap\": 0.2, \"xaxis\": {\"ticktext\": [\"1. Nunca\", \"2. Muy pocas veces\", \"3. En ocasiones\", \"4. Bastantes veces\", \"5. Casi siempre o siempre\"], \"tickvals\": [1, 2, 3, 4, 5]}}, {\"showLink\": false, \"linkText\": \"Export to plot.ly\", \"plotlyServerURL\": \"https://plot.ly\"}); \n",
       "}\n",
       "});</script><script type=\"text/javascript\">window.addEventListener(\"resize\", function(){if (document.getElementById(\"3f889f7c-8258-44cd-a9cc-34888eb7aa8a\")) {window._Plotly.Plots.resize(document.getElementById(\"3f889f7c-8258-44cd-a9cc-34888eb7aa8a\"));};})</script>"
      ]
     },
     "metadata": {},
     "output_type": "display_data"
    },
    {
     "name": "stdout",
     "output_type": "stream",
     "text": [
      "\n",
      "\n",
      "Cluster 1 || variable: Cuando recibes o consumes una imagen, ¿piensas en el modo en que fue obtenida (técnicamente)?\n",
      "Describiendo la pregunta Cuando recibes o consumes una imagen, ¿piensas en el modo en que fue obtenida (técnicamente)?\n",
      "Valores numéricos asociados a las respuestas [1, 2, 3, 4, 5]\n",
      "Respuestas posibles a la pregunta/variable ['1. Nunca', '2. Muy pocas veces', '3. En ocasiones', '4. Bastantes veces', '5. Casi siempre o siempre']\n"
     ]
    },
    {
     "data": {
      "text/plain": [
       "count    223.000000\n",
       "mean       3.197309\n",
       "std        1.063985\n",
       "min        1.000000\n",
       "25%        2.000000\n",
       "50%        3.000000\n",
       "75%        4.000000\n",
       "max        5.000000\n",
       "Name: Cuando recibes o consumes una imagen, ¿piensas en el modo en que fue obtenida (técnicamente)?, dtype: float64"
      ]
     },
     "metadata": {},
     "output_type": "display_data"
    },
    {
     "name": "stdout",
     "output_type": "stream",
     "text": [
      "Conteo de cada valor en Cuando recibes o consumes una imagen, ¿piensas en el modo en que fue obtenida (técnicamente)? expresada como valor / cantidad\n"
     ]
    },
    {
     "data": {
      "text/plain": [
       "1    12\n",
       "2    45\n",
       "3    80\n",
       "4    59\n",
       "5    27\n",
       "Name: Cuando recibes o consumes una imagen, ¿piensas en el modo en que fue obtenida (técnicamente)?, dtype: int64"
      ]
     },
     "metadata": {},
     "output_type": "display_data"
    },
    {
     "name": "stdout",
     "output_type": "stream",
     "text": [
      "Porcentaje de cada valor en Cuando recibes o consumes una imagen, ¿piensas en el modo en que fue obtenida (técnicamente)? expresado como valor / porcentaje\n"
     ]
    },
    {
     "data": {
      "text/plain": [
       "1     5.38\n",
       "2    20.18\n",
       "3    35.87\n",
       "4    26.46\n",
       "5    12.11\n",
       "Name: Cuando recibes o consumes una imagen, ¿piensas en el modo en que fue obtenida (técnicamente)?, dtype: float64"
      ]
     },
     "metadata": {},
     "output_type": "display_data"
    },
    {
     "data": {
      "application/vnd.plotly.v1+json": {
       "config": {
        "linkText": "Export to plot.ly",
        "plotlyServerURL": "https://plot.ly",
        "showLink": false
       },
       "data": [
        {
         "marker": {
          "color": [
           "rgb(213,62,79)",
           "rgb(252,141,89)",
           "rgb(254,224,139)",
           "rgb(230,245,152)",
           "rgb(153,213,148)",
           "rgb(50,136,189)"
          ]
         },
         "type": "bar",
         "uid": "d00733f2-1878-463a-b6e4-78e6a03a4fbc",
         "x": [
          1,
          2,
          3,
          4,
          5
         ],
         "y": [
          12,
          45,
          80,
          59,
          27
         ]
        }
       ],
       "layout": {
        "bargap": 0.2,
        "xaxis": {
         "ticktext": [
          "1. Nunca",
          "2. Muy pocas veces",
          "3. En ocasiones",
          "4. Bastantes veces",
          "5. Casi siempre o siempre"
         ],
         "tickvals": [
          1,
          2,
          3,
          4,
          5
         ]
        }
       }
      },
      "text/html": [
       "<div id=\"6b1757e9-ff30-4b2f-98e2-6586d26d2956\" style=\"height: 525px; width: 100%;\" class=\"plotly-graph-div\"></div><script type=\"text/javascript\">require([\"plotly\"], function(Plotly) { window.PLOTLYENV=window.PLOTLYENV || {};window.PLOTLYENV.BASE_URL=\"https://plot.ly\";\n",
       "if (document.getElementById(\"6b1757e9-ff30-4b2f-98e2-6586d26d2956\")) {\n",
       "    Plotly.newPlot(\"6b1757e9-ff30-4b2f-98e2-6586d26d2956\", [{\"marker\": {\"color\": [\"rgb(213,62,79)\", \"rgb(252,141,89)\", \"rgb(254,224,139)\", \"rgb(230,245,152)\", \"rgb(153,213,148)\", \"rgb(50,136,189)\"]}, \"x\": [1, 2, 3, 4, 5], \"y\": [12, 45, 80, 59, 27], \"type\": \"bar\", \"uid\": \"d00733f2-1878-463a-b6e4-78e6a03a4fbc\"}], {\"bargap\": 0.2, \"xaxis\": {\"ticktext\": [\"1. Nunca\", \"2. Muy pocas veces\", \"3. En ocasiones\", \"4. Bastantes veces\", \"5. Casi siempre o siempre\"], \"tickvals\": [1, 2, 3, 4, 5]}}, {\"showLink\": false, \"linkText\": \"Export to plot.ly\", \"plotlyServerURL\": \"https://plot.ly\"}); \n",
       "}\n",
       "});</script><script type=\"text/javascript\">window.addEventListener(\"resize\", function(){if (document.getElementById(\"6b1757e9-ff30-4b2f-98e2-6586d26d2956\")) {window._Plotly.Plots.resize(document.getElementById(\"6b1757e9-ff30-4b2f-98e2-6586d26d2956\"));};})</script>"
      ],
      "text/vnd.plotly.v1+html": [
       "<div id=\"6b1757e9-ff30-4b2f-98e2-6586d26d2956\" style=\"height: 525px; width: 100%;\" class=\"plotly-graph-div\"></div><script type=\"text/javascript\">require([\"plotly\"], function(Plotly) { window.PLOTLYENV=window.PLOTLYENV || {};window.PLOTLYENV.BASE_URL=\"https://plot.ly\";\n",
       "if (document.getElementById(\"6b1757e9-ff30-4b2f-98e2-6586d26d2956\")) {\n",
       "    Plotly.newPlot(\"6b1757e9-ff30-4b2f-98e2-6586d26d2956\", [{\"marker\": {\"color\": [\"rgb(213,62,79)\", \"rgb(252,141,89)\", \"rgb(254,224,139)\", \"rgb(230,245,152)\", \"rgb(153,213,148)\", \"rgb(50,136,189)\"]}, \"x\": [1, 2, 3, 4, 5], \"y\": [12, 45, 80, 59, 27], \"type\": \"bar\", \"uid\": \"d00733f2-1878-463a-b6e4-78e6a03a4fbc\"}], {\"bargap\": 0.2, \"xaxis\": {\"ticktext\": [\"1. Nunca\", \"2. Muy pocas veces\", \"3. En ocasiones\", \"4. Bastantes veces\", \"5. Casi siempre o siempre\"], \"tickvals\": [1, 2, 3, 4, 5]}}, {\"showLink\": false, \"linkText\": \"Export to plot.ly\", \"plotlyServerURL\": \"https://plot.ly\"}); \n",
       "}\n",
       "});</script><script type=\"text/javascript\">window.addEventListener(\"resize\", function(){if (document.getElementById(\"6b1757e9-ff30-4b2f-98e2-6586d26d2956\")) {window._Plotly.Plots.resize(document.getElementById(\"6b1757e9-ff30-4b2f-98e2-6586d26d2956\"));};})</script>"
      ]
     },
     "metadata": {},
     "output_type": "display_data"
    },
    {
     "name": "stdout",
     "output_type": "stream",
     "text": [
      "\n",
      "\n",
      "Cluster 1 || variable: Cuando observas una imagen, ¿te preguntas cosas acerca de los personajes/objetos que aparecen en la misma?\n",
      "Describiendo la pregunta Cuando observas una imagen, ¿te preguntas cosas acerca de los personajes/objetos que aparecen en la misma?\n",
      "Valores numéricos asociados a las respuestas [1, 2, 3, 4, 5]\n",
      "Respuestas posibles a la pregunta/variable ['1. Nunca', '2. Muy pocas veces', '3. En ocasiones', '4. Bastantes veces', '5. Casi siempre o siempre']\n"
     ]
    },
    {
     "data": {
      "text/plain": [
       "count    223.000000\n",
       "mean       3.829596\n",
       "std        0.852988\n",
       "min        2.000000\n",
       "25%        3.000000\n",
       "50%        4.000000\n",
       "75%        4.000000\n",
       "max        5.000000\n",
       "Name: Cuando observas una imagen, ¿te preguntas cosas acerca de los personajes/objetos que aparecen en la misma?, dtype: float64"
      ]
     },
     "metadata": {},
     "output_type": "display_data"
    },
    {
     "name": "stdout",
     "output_type": "stream",
     "text": [
      "Conteo de cada valor en Cuando observas una imagen, ¿te preguntas cosas acerca de los personajes/objetos que aparecen en la misma? expresada como valor / cantidad\n"
     ]
    },
    {
     "data": {
      "text/plain": [
       "2    14\n",
       "3    61\n",
       "4    97\n",
       "5    51\n",
       "Name: Cuando observas una imagen, ¿te preguntas cosas acerca de los personajes/objetos que aparecen en la misma?, dtype: int64"
      ]
     },
     "metadata": {},
     "output_type": "display_data"
    },
    {
     "name": "stdout",
     "output_type": "stream",
     "text": [
      "Porcentaje de cada valor en Cuando observas una imagen, ¿te preguntas cosas acerca de los personajes/objetos que aparecen en la misma? expresado como valor / porcentaje\n"
     ]
    },
    {
     "data": {
      "text/plain": [
       "2     6.28\n",
       "3    27.35\n",
       "4    43.50\n",
       "5    22.87\n",
       "Name: Cuando observas una imagen, ¿te preguntas cosas acerca de los personajes/objetos que aparecen en la misma?, dtype: float64"
      ]
     },
     "metadata": {},
     "output_type": "display_data"
    },
    {
     "data": {
      "application/vnd.plotly.v1+json": {
       "config": {
        "linkText": "Export to plot.ly",
        "plotlyServerURL": "https://plot.ly",
        "showLink": false
       },
       "data": [
        {
         "marker": {
          "color": [
           "rgb(213,62,79)",
           "rgb(252,141,89)",
           "rgb(254,224,139)",
           "rgb(230,245,152)",
           "rgb(153,213,148)",
           "rgb(50,136,189)"
          ]
         },
         "type": "bar",
         "uid": "b4b5c771-bcb5-45a6-865b-9ea669829ea7",
         "x": [
          2,
          3,
          4,
          5
         ],
         "y": [
          14,
          61,
          97,
          51
         ]
        }
       ],
       "layout": {
        "bargap": 0.2,
        "xaxis": {
         "ticktext": [
          "1. Nunca",
          "2. Muy pocas veces",
          "3. En ocasiones",
          "4. Bastantes veces",
          "5. Casi siempre o siempre"
         ],
         "tickvals": [
          1,
          2,
          3,
          4,
          5
         ]
        }
       }
      },
      "text/html": [
       "<div id=\"e4c351f7-0a61-4522-92f8-213f25f8e4d0\" style=\"height: 525px; width: 100%;\" class=\"plotly-graph-div\"></div><script type=\"text/javascript\">require([\"plotly\"], function(Plotly) { window.PLOTLYENV=window.PLOTLYENV || {};window.PLOTLYENV.BASE_URL=\"https://plot.ly\";\n",
       "if (document.getElementById(\"e4c351f7-0a61-4522-92f8-213f25f8e4d0\")) {\n",
       "    Plotly.newPlot(\"e4c351f7-0a61-4522-92f8-213f25f8e4d0\", [{\"marker\": {\"color\": [\"rgb(213,62,79)\", \"rgb(252,141,89)\", \"rgb(254,224,139)\", \"rgb(230,245,152)\", \"rgb(153,213,148)\", \"rgb(50,136,189)\"]}, \"x\": [2, 3, 4, 5], \"y\": [14, 61, 97, 51], \"type\": \"bar\", \"uid\": \"b4b5c771-bcb5-45a6-865b-9ea669829ea7\"}], {\"bargap\": 0.2, \"xaxis\": {\"ticktext\": [\"1. Nunca\", \"2. Muy pocas veces\", \"3. En ocasiones\", \"4. Bastantes veces\", \"5. Casi siempre o siempre\"], \"tickvals\": [1, 2, 3, 4, 5]}}, {\"showLink\": false, \"linkText\": \"Export to plot.ly\", \"plotlyServerURL\": \"https://plot.ly\"}); \n",
       "}\n",
       "});</script><script type=\"text/javascript\">window.addEventListener(\"resize\", function(){if (document.getElementById(\"e4c351f7-0a61-4522-92f8-213f25f8e4d0\")) {window._Plotly.Plots.resize(document.getElementById(\"e4c351f7-0a61-4522-92f8-213f25f8e4d0\"));};})</script>"
      ],
      "text/vnd.plotly.v1+html": [
       "<div id=\"e4c351f7-0a61-4522-92f8-213f25f8e4d0\" style=\"height: 525px; width: 100%;\" class=\"plotly-graph-div\"></div><script type=\"text/javascript\">require([\"plotly\"], function(Plotly) { window.PLOTLYENV=window.PLOTLYENV || {};window.PLOTLYENV.BASE_URL=\"https://plot.ly\";\n",
       "if (document.getElementById(\"e4c351f7-0a61-4522-92f8-213f25f8e4d0\")) {\n",
       "    Plotly.newPlot(\"e4c351f7-0a61-4522-92f8-213f25f8e4d0\", [{\"marker\": {\"color\": [\"rgb(213,62,79)\", \"rgb(252,141,89)\", \"rgb(254,224,139)\", \"rgb(230,245,152)\", \"rgb(153,213,148)\", \"rgb(50,136,189)\"]}, \"x\": [2, 3, 4, 5], \"y\": [14, 61, 97, 51], \"type\": \"bar\", \"uid\": \"b4b5c771-bcb5-45a6-865b-9ea669829ea7\"}], {\"bargap\": 0.2, \"xaxis\": {\"ticktext\": [\"1. Nunca\", \"2. Muy pocas veces\", \"3. En ocasiones\", \"4. Bastantes veces\", \"5. Casi siempre o siempre\"], \"tickvals\": [1, 2, 3, 4, 5]}}, {\"showLink\": false, \"linkText\": \"Export to plot.ly\", \"plotlyServerURL\": \"https://plot.ly\"}); \n",
       "}\n",
       "});</script><script type=\"text/javascript\">window.addEventListener(\"resize\", function(){if (document.getElementById(\"e4c351f7-0a61-4522-92f8-213f25f8e4d0\")) {window._Plotly.Plots.resize(document.getElementById(\"e4c351f7-0a61-4522-92f8-213f25f8e4d0\"));};})</script>"
      ]
     },
     "metadata": {},
     "output_type": "display_data"
    },
    {
     "name": "stdout",
     "output_type": "stream",
     "text": [
      "\n",
      "\n",
      "Cluster 1 || variable: ¿Entiendes, generalmente, las intenciones que tiene el autor de una imagen cuando la ves y la compartes?\n",
      "Describiendo la pregunta ¿Entiendes, generalmente, las intenciones que tiene el autor de una imagen cuando la ves y la compartes?\n",
      "Valores numéricos asociados a las respuestas [1, 2, 3, 4, 5]\n",
      "Respuestas posibles a la pregunta/variable ['1. Never', '2. Very rarely', '3. Occasionally', '4. Several times', '5. Almost always or always']\n"
     ]
    },
    {
     "data": {
      "text/plain": [
       "count    223.000000\n",
       "mean       3.753363\n",
       "std        0.763571\n",
       "min        1.000000\n",
       "25%        3.000000\n",
       "50%        4.000000\n",
       "75%        4.000000\n",
       "max        5.000000\n",
       "Name: ¿Entiendes, generalmente, las intenciones que tiene el autor de una imagen cuando la ves y la compartes?, dtype: float64"
      ]
     },
     "metadata": {},
     "output_type": "display_data"
    },
    {
     "name": "stdout",
     "output_type": "stream",
     "text": [
      "Conteo de cada valor en ¿Entiendes, generalmente, las intenciones que tiene el autor de una imagen cuando la ves y la compartes? expresada como valor / cantidad\n"
     ]
    },
    {
     "data": {
      "text/plain": [
       "1      1\n",
       "2      6\n",
       "3     75\n",
       "4    106\n",
       "5     35\n",
       "Name: ¿Entiendes, generalmente, las intenciones que tiene el autor de una imagen cuando la ves y la compartes?, dtype: int64"
      ]
     },
     "metadata": {},
     "output_type": "display_data"
    },
    {
     "name": "stdout",
     "output_type": "stream",
     "text": [
      "Porcentaje de cada valor en ¿Entiendes, generalmente, las intenciones que tiene el autor de una imagen cuando la ves y la compartes? expresado como valor / porcentaje\n"
     ]
    },
    {
     "data": {
      "text/plain": [
       "1     0.45\n",
       "2     2.69\n",
       "3    33.63\n",
       "4    47.53\n",
       "5    15.70\n",
       "Name: ¿Entiendes, generalmente, las intenciones que tiene el autor de una imagen cuando la ves y la compartes?, dtype: float64"
      ]
     },
     "metadata": {},
     "output_type": "display_data"
    },
    {
     "data": {
      "application/vnd.plotly.v1+json": {
       "config": {
        "linkText": "Export to plot.ly",
        "plotlyServerURL": "https://plot.ly",
        "showLink": false
       },
       "data": [
        {
         "marker": {
          "color": [
           "rgb(213,62,79)",
           "rgb(252,141,89)",
           "rgb(254,224,139)",
           "rgb(230,245,152)",
           "rgb(153,213,148)",
           "rgb(50,136,189)"
          ]
         },
         "type": "bar",
         "uid": "07f60252-5971-4b8e-aa26-e17956753b48",
         "x": [
          1,
          2,
          3,
          4,
          5
         ],
         "y": [
          1,
          6,
          75,
          106,
          35
         ]
        }
       ],
       "layout": {
        "bargap": 0.2,
        "xaxis": {
         "ticktext": [
          "1. Never",
          "2. Very rarely",
          "3. Occasionally",
          "4. Several times",
          "5. Almost always or always"
         ],
         "tickvals": [
          1,
          2,
          3,
          4,
          5
         ]
        }
       }
      },
      "text/html": [
       "<div id=\"eb98ed51-c863-4ca4-b647-b966dae4b191\" style=\"height: 525px; width: 100%;\" class=\"plotly-graph-div\"></div><script type=\"text/javascript\">require([\"plotly\"], function(Plotly) { window.PLOTLYENV=window.PLOTLYENV || {};window.PLOTLYENV.BASE_URL=\"https://plot.ly\";\n",
       "if (document.getElementById(\"eb98ed51-c863-4ca4-b647-b966dae4b191\")) {\n",
       "    Plotly.newPlot(\"eb98ed51-c863-4ca4-b647-b966dae4b191\", [{\"marker\": {\"color\": [\"rgb(213,62,79)\", \"rgb(252,141,89)\", \"rgb(254,224,139)\", \"rgb(230,245,152)\", \"rgb(153,213,148)\", \"rgb(50,136,189)\"]}, \"x\": [1, 2, 3, 4, 5], \"y\": [1, 6, 75, 106, 35], \"type\": \"bar\", \"uid\": \"07f60252-5971-4b8e-aa26-e17956753b48\"}], {\"bargap\": 0.2, \"xaxis\": {\"ticktext\": [\"1. Never\", \"2. Very rarely\", \"3. Occasionally\", \"4. Several times\", \"5. Almost always or always\"], \"tickvals\": [1, 2, 3, 4, 5]}}, {\"showLink\": false, \"linkText\": \"Export to plot.ly\", \"plotlyServerURL\": \"https://plot.ly\"}); \n",
       "}\n",
       "});</script><script type=\"text/javascript\">window.addEventListener(\"resize\", function(){if (document.getElementById(\"eb98ed51-c863-4ca4-b647-b966dae4b191\")) {window._Plotly.Plots.resize(document.getElementById(\"eb98ed51-c863-4ca4-b647-b966dae4b191\"));};})</script>"
      ],
      "text/vnd.plotly.v1+html": [
       "<div id=\"eb98ed51-c863-4ca4-b647-b966dae4b191\" style=\"height: 525px; width: 100%;\" class=\"plotly-graph-div\"></div><script type=\"text/javascript\">require([\"plotly\"], function(Plotly) { window.PLOTLYENV=window.PLOTLYENV || {};window.PLOTLYENV.BASE_URL=\"https://plot.ly\";\n",
       "if (document.getElementById(\"eb98ed51-c863-4ca4-b647-b966dae4b191\")) {\n",
       "    Plotly.newPlot(\"eb98ed51-c863-4ca4-b647-b966dae4b191\", [{\"marker\": {\"color\": [\"rgb(213,62,79)\", \"rgb(252,141,89)\", \"rgb(254,224,139)\", \"rgb(230,245,152)\", \"rgb(153,213,148)\", \"rgb(50,136,189)\"]}, \"x\": [1, 2, 3, 4, 5], \"y\": [1, 6, 75, 106, 35], \"type\": \"bar\", \"uid\": \"07f60252-5971-4b8e-aa26-e17956753b48\"}], {\"bargap\": 0.2, \"xaxis\": {\"ticktext\": [\"1. Never\", \"2. Very rarely\", \"3. Occasionally\", \"4. Several times\", \"5. Almost always or always\"], \"tickvals\": [1, 2, 3, 4, 5]}}, {\"showLink\": false, \"linkText\": \"Export to plot.ly\", \"plotlyServerURL\": \"https://plot.ly\"}); \n",
       "}\n",
       "});</script><script type=\"text/javascript\">window.addEventListener(\"resize\", function(){if (document.getElementById(\"eb98ed51-c863-4ca4-b647-b966dae4b191\")) {window._Plotly.Plots.resize(document.getElementById(\"eb98ed51-c863-4ca4-b647-b966dae4b191\"));};})</script>"
      ]
     },
     "metadata": {},
     "output_type": "display_data"
    },
    {
     "name": "stdout",
     "output_type": "stream",
     "text": [
      "\n",
      "\n",
      "Cluster 1 || variable: ¿Eres capaz de expresar verbalmente las emociones que te produce una imagen que has visto?\n",
      "Describiendo la pregunta ¿Eres capaz de expresar verbalmente las emociones que te produce una imagen que has visto?\n",
      "Valores numéricos asociados a las respuestas [1, 2, 3, 4, 5]\n",
      "Respuestas posibles a la pregunta/variable ['1. Nunca', '2. Muy pocas veces', '3. En ocasiones', '4. Bastantes veces', '5. Casi siempre o siempre']\n"
     ]
    },
    {
     "data": {
      "text/plain": [
       "count    223.000000\n",
       "mean       3.708520\n",
       "std        0.870057\n",
       "min        1.000000\n",
       "25%        3.000000\n",
       "50%        4.000000\n",
       "75%        4.000000\n",
       "max        5.000000\n",
       "Name: ¿Eres capaz de expresar verbalmente las emociones que te produce una imagen que has visto?, dtype: float64"
      ]
     },
     "metadata": {},
     "output_type": "display_data"
    },
    {
     "name": "stdout",
     "output_type": "stream",
     "text": [
      "Conteo de cada valor en ¿Eres capaz de expresar verbalmente las emociones que te produce una imagen que has visto? expresada como valor / cantidad\n"
     ]
    },
    {
     "data": {
      "text/plain": [
       "1     1\n",
       "2    15\n",
       "3    75\n",
       "4    89\n",
       "5    43\n",
       "Name: ¿Eres capaz de expresar verbalmente las emociones que te produce una imagen que has visto?, dtype: int64"
      ]
     },
     "metadata": {},
     "output_type": "display_data"
    },
    {
     "name": "stdout",
     "output_type": "stream",
     "text": [
      "Porcentaje de cada valor en ¿Eres capaz de expresar verbalmente las emociones que te produce una imagen que has visto? expresado como valor / porcentaje\n"
     ]
    },
    {
     "data": {
      "text/plain": [
       "1     0.45\n",
       "2     6.73\n",
       "3    33.63\n",
       "4    39.91\n",
       "5    19.28\n",
       "Name: ¿Eres capaz de expresar verbalmente las emociones que te produce una imagen que has visto?, dtype: float64"
      ]
     },
     "metadata": {},
     "output_type": "display_data"
    },
    {
     "data": {
      "application/vnd.plotly.v1+json": {
       "config": {
        "linkText": "Export to plot.ly",
        "plotlyServerURL": "https://plot.ly",
        "showLink": false
       },
       "data": [
        {
         "marker": {
          "color": [
           "rgb(213,62,79)",
           "rgb(252,141,89)",
           "rgb(254,224,139)",
           "rgb(230,245,152)",
           "rgb(153,213,148)",
           "rgb(50,136,189)"
          ]
         },
         "type": "bar",
         "uid": "be2fce0f-322d-499b-a8dd-6c128c983566",
         "x": [
          1,
          2,
          3,
          4,
          5
         ],
         "y": [
          1,
          15,
          75,
          89,
          43
         ]
        }
       ],
       "layout": {
        "bargap": 0.2,
        "xaxis": {
         "ticktext": [
          "1. Nunca",
          "2. Muy pocas veces",
          "3. En ocasiones",
          "4. Bastantes veces",
          "5. Casi siempre o siempre"
         ],
         "tickvals": [
          1,
          2,
          3,
          4,
          5
         ]
        }
       }
      },
      "text/html": [
       "<div id=\"d6995abd-1af5-49e4-9f12-267febebad82\" style=\"height: 525px; width: 100%;\" class=\"plotly-graph-div\"></div><script type=\"text/javascript\">require([\"plotly\"], function(Plotly) { window.PLOTLYENV=window.PLOTLYENV || {};window.PLOTLYENV.BASE_URL=\"https://plot.ly\";\n",
       "if (document.getElementById(\"d6995abd-1af5-49e4-9f12-267febebad82\")) {\n",
       "    Plotly.newPlot(\"d6995abd-1af5-49e4-9f12-267febebad82\", [{\"marker\": {\"color\": [\"rgb(213,62,79)\", \"rgb(252,141,89)\", \"rgb(254,224,139)\", \"rgb(230,245,152)\", \"rgb(153,213,148)\", \"rgb(50,136,189)\"]}, \"x\": [1, 2, 3, 4, 5], \"y\": [1, 15, 75, 89, 43], \"type\": \"bar\", \"uid\": \"be2fce0f-322d-499b-a8dd-6c128c983566\"}], {\"bargap\": 0.2, \"xaxis\": {\"ticktext\": [\"1. Nunca\", \"2. Muy pocas veces\", \"3. En ocasiones\", \"4. Bastantes veces\", \"5. Casi siempre o siempre\"], \"tickvals\": [1, 2, 3, 4, 5]}}, {\"showLink\": false, \"linkText\": \"Export to plot.ly\", \"plotlyServerURL\": \"https://plot.ly\"}); \n",
       "}\n",
       "});</script><script type=\"text/javascript\">window.addEventListener(\"resize\", function(){if (document.getElementById(\"d6995abd-1af5-49e4-9f12-267febebad82\")) {window._Plotly.Plots.resize(document.getElementById(\"d6995abd-1af5-49e4-9f12-267febebad82\"));};})</script>"
      ],
      "text/vnd.plotly.v1+html": [
       "<div id=\"d6995abd-1af5-49e4-9f12-267febebad82\" style=\"height: 525px; width: 100%;\" class=\"plotly-graph-div\"></div><script type=\"text/javascript\">require([\"plotly\"], function(Plotly) { window.PLOTLYENV=window.PLOTLYENV || {};window.PLOTLYENV.BASE_URL=\"https://plot.ly\";\n",
       "if (document.getElementById(\"d6995abd-1af5-49e4-9f12-267febebad82\")) {\n",
       "    Plotly.newPlot(\"d6995abd-1af5-49e4-9f12-267febebad82\", [{\"marker\": {\"color\": [\"rgb(213,62,79)\", \"rgb(252,141,89)\", \"rgb(254,224,139)\", \"rgb(230,245,152)\", \"rgb(153,213,148)\", \"rgb(50,136,189)\"]}, \"x\": [1, 2, 3, 4, 5], \"y\": [1, 15, 75, 89, 43], \"type\": \"bar\", \"uid\": \"be2fce0f-322d-499b-a8dd-6c128c983566\"}], {\"bargap\": 0.2, \"xaxis\": {\"ticktext\": [\"1. Nunca\", \"2. Muy pocas veces\", \"3. En ocasiones\", \"4. Bastantes veces\", \"5. Casi siempre o siempre\"], \"tickvals\": [1, 2, 3, 4, 5]}}, {\"showLink\": false, \"linkText\": \"Export to plot.ly\", \"plotlyServerURL\": \"https://plot.ly\"}); \n",
       "}\n",
       "});</script><script type=\"text/javascript\">window.addEventListener(\"resize\", function(){if (document.getElementById(\"d6995abd-1af5-49e4-9f12-267febebad82\")) {window._Plotly.Plots.resize(document.getElementById(\"d6995abd-1af5-49e4-9f12-267febebad82\"));};})</script>"
      ]
     },
     "metadata": {},
     "output_type": "display_data"
    },
    {
     "name": "stdout",
     "output_type": "stream",
     "text": [
      "\n",
      "\n",
      "Cluster 5 || variable: Cuando te encuentras con una imagen, ¿intentas entender con qué intención está hecha?\n",
      "Describiendo la pregunta Cuando te encuentras con una imagen, ¿intentas entender con qué intención está hecha?\n",
      "Valores numéricos asociados a las respuestas [1, 2, 3, 4, 5]\n",
      "Respuestas posibles a la pregunta/variable ['1. Nunca', '2. Muy pocas veces', '3. En ocasiones', '4. Bastantes veces', '5. Casi siempre o siempre']\n"
     ]
    },
    {
     "data": {
      "text/plain": [
       "count    1.0\n",
       "mean     2.0\n",
       "std      NaN\n",
       "min      2.0\n",
       "25%      2.0\n",
       "50%      2.0\n",
       "75%      2.0\n",
       "max      2.0\n",
       "Name: Cuando te encuentras con una imagen, ¿intentas entender con qué intención está hecha?, dtype: float64"
      ]
     },
     "metadata": {},
     "output_type": "display_data"
    },
    {
     "name": "stdout",
     "output_type": "stream",
     "text": [
      "Conteo de cada valor en Cuando te encuentras con una imagen, ¿intentas entender con qué intención está hecha? expresada como valor / cantidad\n"
     ]
    },
    {
     "data": {
      "text/plain": [
       "2    1\n",
       "Name: Cuando te encuentras con una imagen, ¿intentas entender con qué intención está hecha?, dtype: int64"
      ]
     },
     "metadata": {},
     "output_type": "display_data"
    },
    {
     "name": "stdout",
     "output_type": "stream",
     "text": [
      "Porcentaje de cada valor en Cuando te encuentras con una imagen, ¿intentas entender con qué intención está hecha? expresado como valor / porcentaje\n"
     ]
    },
    {
     "data": {
      "text/plain": [
       "2    100.0\n",
       "Name: Cuando te encuentras con una imagen, ¿intentas entender con qué intención está hecha?, dtype: float64"
      ]
     },
     "metadata": {},
     "output_type": "display_data"
    },
    {
     "data": {
      "application/vnd.plotly.v1+json": {
       "config": {
        "linkText": "Export to plot.ly",
        "plotlyServerURL": "https://plot.ly",
        "showLink": false
       },
       "data": [
        {
         "marker": {
          "color": [
           "rgb(213,62,79)",
           "rgb(252,141,89)",
           "rgb(254,224,139)",
           "rgb(230,245,152)",
           "rgb(153,213,148)",
           "rgb(50,136,189)"
          ]
         },
         "type": "bar",
         "uid": "83ec4c28-cd39-49da-88b6-72583cfbf6a1",
         "x": [
          2
         ],
         "y": [
          1
         ]
        }
       ],
       "layout": {
        "bargap": 0.2,
        "xaxis": {
         "ticktext": [
          "1. Nunca",
          "2. Muy pocas veces",
          "3. En ocasiones",
          "4. Bastantes veces",
          "5. Casi siempre o siempre"
         ],
         "tickvals": [
          1,
          2,
          3,
          4,
          5
         ]
        }
       }
      },
      "text/html": [
       "<div id=\"cb153b67-cd83-4d88-8d5c-97bf5c0300d2\" style=\"height: 525px; width: 100%;\" class=\"plotly-graph-div\"></div><script type=\"text/javascript\">require([\"plotly\"], function(Plotly) { window.PLOTLYENV=window.PLOTLYENV || {};window.PLOTLYENV.BASE_URL=\"https://plot.ly\";\n",
       "if (document.getElementById(\"cb153b67-cd83-4d88-8d5c-97bf5c0300d2\")) {\n",
       "    Plotly.newPlot(\"cb153b67-cd83-4d88-8d5c-97bf5c0300d2\", [{\"marker\": {\"color\": [\"rgb(213,62,79)\", \"rgb(252,141,89)\", \"rgb(254,224,139)\", \"rgb(230,245,152)\", \"rgb(153,213,148)\", \"rgb(50,136,189)\"]}, \"x\": [2], \"y\": [1], \"type\": \"bar\", \"uid\": \"83ec4c28-cd39-49da-88b6-72583cfbf6a1\"}], {\"bargap\": 0.2, \"xaxis\": {\"ticktext\": [\"1. Nunca\", \"2. Muy pocas veces\", \"3. En ocasiones\", \"4. Bastantes veces\", \"5. Casi siempre o siempre\"], \"tickvals\": [1, 2, 3, 4, 5]}}, {\"showLink\": false, \"linkText\": \"Export to plot.ly\", \"plotlyServerURL\": \"https://plot.ly\"}); \n",
       "}\n",
       "});</script><script type=\"text/javascript\">window.addEventListener(\"resize\", function(){if (document.getElementById(\"cb153b67-cd83-4d88-8d5c-97bf5c0300d2\")) {window._Plotly.Plots.resize(document.getElementById(\"cb153b67-cd83-4d88-8d5c-97bf5c0300d2\"));};})</script>"
      ],
      "text/vnd.plotly.v1+html": [
       "<div id=\"cb153b67-cd83-4d88-8d5c-97bf5c0300d2\" style=\"height: 525px; width: 100%;\" class=\"plotly-graph-div\"></div><script type=\"text/javascript\">require([\"plotly\"], function(Plotly) { window.PLOTLYENV=window.PLOTLYENV || {};window.PLOTLYENV.BASE_URL=\"https://plot.ly\";\n",
       "if (document.getElementById(\"cb153b67-cd83-4d88-8d5c-97bf5c0300d2\")) {\n",
       "    Plotly.newPlot(\"cb153b67-cd83-4d88-8d5c-97bf5c0300d2\", [{\"marker\": {\"color\": [\"rgb(213,62,79)\", \"rgb(252,141,89)\", \"rgb(254,224,139)\", \"rgb(230,245,152)\", \"rgb(153,213,148)\", \"rgb(50,136,189)\"]}, \"x\": [2], \"y\": [1], \"type\": \"bar\", \"uid\": \"83ec4c28-cd39-49da-88b6-72583cfbf6a1\"}], {\"bargap\": 0.2, \"xaxis\": {\"ticktext\": [\"1. Nunca\", \"2. Muy pocas veces\", \"3. En ocasiones\", \"4. Bastantes veces\", \"5. Casi siempre o siempre\"], \"tickvals\": [1, 2, 3, 4, 5]}}, {\"showLink\": false, \"linkText\": \"Export to plot.ly\", \"plotlyServerURL\": \"https://plot.ly\"}); \n",
       "}\n",
       "});</script><script type=\"text/javascript\">window.addEventListener(\"resize\", function(){if (document.getElementById(\"cb153b67-cd83-4d88-8d5c-97bf5c0300d2\")) {window._Plotly.Plots.resize(document.getElementById(\"cb153b67-cd83-4d88-8d5c-97bf5c0300d2\"));};})</script>"
      ]
     },
     "metadata": {},
     "output_type": "display_data"
    },
    {
     "name": "stdout",
     "output_type": "stream",
     "text": [
      "\n",
      "\n",
      "Cluster 5 || variable: Cuando recibes o consumes una imagen, ¿la comparas con tu propia realidad? ¿Intentas encontrar en tu entorno cierto parecido?\n",
      "Describiendo la pregunta Cuando recibes o consumes una imagen, ¿la comparas con tu propia realidad? ¿Intentas encontrar en tu entorno cierto parecido?\n",
      "Valores numéricos asociados a las respuestas [1, 2, 3, 4, 5]\n",
      "Respuestas posibles a la pregunta/variable ['1. Nunca', '2. Muy pocas veces', '3. En ocasiones', '4. Bastantes veces', '5. Casi siempre o siempre']\n"
     ]
    },
    {
     "data": {
      "text/plain": [
       "count    1.0\n",
       "mean     2.0\n",
       "std      NaN\n",
       "min      2.0\n",
       "25%      2.0\n",
       "50%      2.0\n",
       "75%      2.0\n",
       "max      2.0\n",
       "Name: Cuando recibes o consumes una imagen, ¿la comparas con tu propia realidad? ¿Intentas encontrar en tu entorno cierto parecido?, dtype: float64"
      ]
     },
     "metadata": {},
     "output_type": "display_data"
    },
    {
     "name": "stdout",
     "output_type": "stream",
     "text": [
      "Conteo de cada valor en Cuando recibes o consumes una imagen, ¿la comparas con tu propia realidad? ¿Intentas encontrar en tu entorno cierto parecido? expresada como valor / cantidad\n"
     ]
    },
    {
     "data": {
      "text/plain": [
       "2    1\n",
       "Name: Cuando recibes o consumes una imagen, ¿la comparas con tu propia realidad? ¿Intentas encontrar en tu entorno cierto parecido?, dtype: int64"
      ]
     },
     "metadata": {},
     "output_type": "display_data"
    },
    {
     "name": "stdout",
     "output_type": "stream",
     "text": [
      "Porcentaje de cada valor en Cuando recibes o consumes una imagen, ¿la comparas con tu propia realidad? ¿Intentas encontrar en tu entorno cierto parecido? expresado como valor / porcentaje\n"
     ]
    },
    {
     "data": {
      "text/plain": [
       "2    100.0\n",
       "Name: Cuando recibes o consumes una imagen, ¿la comparas con tu propia realidad? ¿Intentas encontrar en tu entorno cierto parecido?, dtype: float64"
      ]
     },
     "metadata": {},
     "output_type": "display_data"
    },
    {
     "data": {
      "application/vnd.plotly.v1+json": {
       "config": {
        "linkText": "Export to plot.ly",
        "plotlyServerURL": "https://plot.ly",
        "showLink": false
       },
       "data": [
        {
         "marker": {
          "color": [
           "rgb(213,62,79)",
           "rgb(252,141,89)",
           "rgb(254,224,139)",
           "rgb(230,245,152)",
           "rgb(153,213,148)",
           "rgb(50,136,189)"
          ]
         },
         "type": "bar",
         "uid": "a7ebde95-c0da-490d-b3b9-ae9aab70ff99",
         "x": [
          2
         ],
         "y": [
          1
         ]
        }
       ],
       "layout": {
        "bargap": 0.2,
        "xaxis": {
         "ticktext": [
          "1. Nunca",
          "2. Muy pocas veces",
          "3. En ocasiones",
          "4. Bastantes veces",
          "5. Casi siempre o siempre"
         ],
         "tickvals": [
          1,
          2,
          3,
          4,
          5
         ]
        }
       }
      },
      "text/html": [
       "<div id=\"df78d450-7aa4-49da-92ca-a938beb85019\" style=\"height: 525px; width: 100%;\" class=\"plotly-graph-div\"></div><script type=\"text/javascript\">require([\"plotly\"], function(Plotly) { window.PLOTLYENV=window.PLOTLYENV || {};window.PLOTLYENV.BASE_URL=\"https://plot.ly\";\n",
       "if (document.getElementById(\"df78d450-7aa4-49da-92ca-a938beb85019\")) {\n",
       "    Plotly.newPlot(\"df78d450-7aa4-49da-92ca-a938beb85019\", [{\"marker\": {\"color\": [\"rgb(213,62,79)\", \"rgb(252,141,89)\", \"rgb(254,224,139)\", \"rgb(230,245,152)\", \"rgb(153,213,148)\", \"rgb(50,136,189)\"]}, \"x\": [2], \"y\": [1], \"type\": \"bar\", \"uid\": \"a7ebde95-c0da-490d-b3b9-ae9aab70ff99\"}], {\"bargap\": 0.2, \"xaxis\": {\"ticktext\": [\"1. Nunca\", \"2. Muy pocas veces\", \"3. En ocasiones\", \"4. Bastantes veces\", \"5. Casi siempre o siempre\"], \"tickvals\": [1, 2, 3, 4, 5]}}, {\"showLink\": false, \"linkText\": \"Export to plot.ly\", \"plotlyServerURL\": \"https://plot.ly\"}); \n",
       "}\n",
       "});</script><script type=\"text/javascript\">window.addEventListener(\"resize\", function(){if (document.getElementById(\"df78d450-7aa4-49da-92ca-a938beb85019\")) {window._Plotly.Plots.resize(document.getElementById(\"df78d450-7aa4-49da-92ca-a938beb85019\"));};})</script>"
      ],
      "text/vnd.plotly.v1+html": [
       "<div id=\"df78d450-7aa4-49da-92ca-a938beb85019\" style=\"height: 525px; width: 100%;\" class=\"plotly-graph-div\"></div><script type=\"text/javascript\">require([\"plotly\"], function(Plotly) { window.PLOTLYENV=window.PLOTLYENV || {};window.PLOTLYENV.BASE_URL=\"https://plot.ly\";\n",
       "if (document.getElementById(\"df78d450-7aa4-49da-92ca-a938beb85019\")) {\n",
       "    Plotly.newPlot(\"df78d450-7aa4-49da-92ca-a938beb85019\", [{\"marker\": {\"color\": [\"rgb(213,62,79)\", \"rgb(252,141,89)\", \"rgb(254,224,139)\", \"rgb(230,245,152)\", \"rgb(153,213,148)\", \"rgb(50,136,189)\"]}, \"x\": [2], \"y\": [1], \"type\": \"bar\", \"uid\": \"a7ebde95-c0da-490d-b3b9-ae9aab70ff99\"}], {\"bargap\": 0.2, \"xaxis\": {\"ticktext\": [\"1. Nunca\", \"2. Muy pocas veces\", \"3. En ocasiones\", \"4. Bastantes veces\", \"5. Casi siempre o siempre\"], \"tickvals\": [1, 2, 3, 4, 5]}}, {\"showLink\": false, \"linkText\": \"Export to plot.ly\", \"plotlyServerURL\": \"https://plot.ly\"}); \n",
       "}\n",
       "});</script><script type=\"text/javascript\">window.addEventListener(\"resize\", function(){if (document.getElementById(\"df78d450-7aa4-49da-92ca-a938beb85019\")) {window._Plotly.Plots.resize(document.getElementById(\"df78d450-7aa4-49da-92ca-a938beb85019\"));};})</script>"
      ]
     },
     "metadata": {},
     "output_type": "display_data"
    },
    {
     "name": "stdout",
     "output_type": "stream",
     "text": [
      "\n",
      "\n",
      "Cluster 5 || variable: Cuando recibes o consumes una imagen, ¿piensas en el modo en que fue obtenida (técnicamente)?\n",
      "Describiendo la pregunta Cuando recibes o consumes una imagen, ¿piensas en el modo en que fue obtenida (técnicamente)?\n",
      "Valores numéricos asociados a las respuestas [1, 2, 3, 4, 5]\n",
      "Respuestas posibles a la pregunta/variable ['1. Nunca', '2. Muy pocas veces', '3. En ocasiones', '4. Bastantes veces', '5. Casi siempre o siempre']\n"
     ]
    },
    {
     "data": {
      "text/plain": [
       "count    1.0\n",
       "mean     3.0\n",
       "std      NaN\n",
       "min      3.0\n",
       "25%      3.0\n",
       "50%      3.0\n",
       "75%      3.0\n",
       "max      3.0\n",
       "Name: Cuando recibes o consumes una imagen, ¿piensas en el modo en que fue obtenida (técnicamente)?, dtype: float64"
      ]
     },
     "metadata": {},
     "output_type": "display_data"
    },
    {
     "name": "stdout",
     "output_type": "stream",
     "text": [
      "Conteo de cada valor en Cuando recibes o consumes una imagen, ¿piensas en el modo en que fue obtenida (técnicamente)? expresada como valor / cantidad\n"
     ]
    },
    {
     "data": {
      "text/plain": [
       "3    1\n",
       "Name: Cuando recibes o consumes una imagen, ¿piensas en el modo en que fue obtenida (técnicamente)?, dtype: int64"
      ]
     },
     "metadata": {},
     "output_type": "display_data"
    },
    {
     "name": "stdout",
     "output_type": "stream",
     "text": [
      "Porcentaje de cada valor en Cuando recibes o consumes una imagen, ¿piensas en el modo en que fue obtenida (técnicamente)? expresado como valor / porcentaje\n"
     ]
    },
    {
     "data": {
      "text/plain": [
       "3    100.0\n",
       "Name: Cuando recibes o consumes una imagen, ¿piensas en el modo en que fue obtenida (técnicamente)?, dtype: float64"
      ]
     },
     "metadata": {},
     "output_type": "display_data"
    },
    {
     "data": {
      "application/vnd.plotly.v1+json": {
       "config": {
        "linkText": "Export to plot.ly",
        "plotlyServerURL": "https://plot.ly",
        "showLink": false
       },
       "data": [
        {
         "marker": {
          "color": [
           "rgb(213,62,79)",
           "rgb(252,141,89)",
           "rgb(254,224,139)",
           "rgb(230,245,152)",
           "rgb(153,213,148)",
           "rgb(50,136,189)"
          ]
         },
         "type": "bar",
         "uid": "b11f3cb0-1c53-4a55-9321-a882bed70bd4",
         "x": [
          3
         ],
         "y": [
          1
         ]
        }
       ],
       "layout": {
        "bargap": 0.2,
        "xaxis": {
         "ticktext": [
          "1. Nunca",
          "2. Muy pocas veces",
          "3. En ocasiones",
          "4. Bastantes veces",
          "5. Casi siempre o siempre"
         ],
         "tickvals": [
          1,
          2,
          3,
          4,
          5
         ]
        }
       }
      },
      "text/html": [
       "<div id=\"25f963a0-4632-4e41-a6b5-3c7048703af1\" style=\"height: 525px; width: 100%;\" class=\"plotly-graph-div\"></div><script type=\"text/javascript\">require([\"plotly\"], function(Plotly) { window.PLOTLYENV=window.PLOTLYENV || {};window.PLOTLYENV.BASE_URL=\"https://plot.ly\";\n",
       "if (document.getElementById(\"25f963a0-4632-4e41-a6b5-3c7048703af1\")) {\n",
       "    Plotly.newPlot(\"25f963a0-4632-4e41-a6b5-3c7048703af1\", [{\"marker\": {\"color\": [\"rgb(213,62,79)\", \"rgb(252,141,89)\", \"rgb(254,224,139)\", \"rgb(230,245,152)\", \"rgb(153,213,148)\", \"rgb(50,136,189)\"]}, \"x\": [3], \"y\": [1], \"type\": \"bar\", \"uid\": \"b11f3cb0-1c53-4a55-9321-a882bed70bd4\"}], {\"bargap\": 0.2, \"xaxis\": {\"ticktext\": [\"1. Nunca\", \"2. Muy pocas veces\", \"3. En ocasiones\", \"4. Bastantes veces\", \"5. Casi siempre o siempre\"], \"tickvals\": [1, 2, 3, 4, 5]}}, {\"showLink\": false, \"linkText\": \"Export to plot.ly\", \"plotlyServerURL\": \"https://plot.ly\"}); \n",
       "}\n",
       "});</script><script type=\"text/javascript\">window.addEventListener(\"resize\", function(){if (document.getElementById(\"25f963a0-4632-4e41-a6b5-3c7048703af1\")) {window._Plotly.Plots.resize(document.getElementById(\"25f963a0-4632-4e41-a6b5-3c7048703af1\"));};})</script>"
      ],
      "text/vnd.plotly.v1+html": [
       "<div id=\"25f963a0-4632-4e41-a6b5-3c7048703af1\" style=\"height: 525px; width: 100%;\" class=\"plotly-graph-div\"></div><script type=\"text/javascript\">require([\"plotly\"], function(Plotly) { window.PLOTLYENV=window.PLOTLYENV || {};window.PLOTLYENV.BASE_URL=\"https://plot.ly\";\n",
       "if (document.getElementById(\"25f963a0-4632-4e41-a6b5-3c7048703af1\")) {\n",
       "    Plotly.newPlot(\"25f963a0-4632-4e41-a6b5-3c7048703af1\", [{\"marker\": {\"color\": [\"rgb(213,62,79)\", \"rgb(252,141,89)\", \"rgb(254,224,139)\", \"rgb(230,245,152)\", \"rgb(153,213,148)\", \"rgb(50,136,189)\"]}, \"x\": [3], \"y\": [1], \"type\": \"bar\", \"uid\": \"b11f3cb0-1c53-4a55-9321-a882bed70bd4\"}], {\"bargap\": 0.2, \"xaxis\": {\"ticktext\": [\"1. Nunca\", \"2. Muy pocas veces\", \"3. En ocasiones\", \"4. Bastantes veces\", \"5. Casi siempre o siempre\"], \"tickvals\": [1, 2, 3, 4, 5]}}, {\"showLink\": false, \"linkText\": \"Export to plot.ly\", \"plotlyServerURL\": \"https://plot.ly\"}); \n",
       "}\n",
       "});</script><script type=\"text/javascript\">window.addEventListener(\"resize\", function(){if (document.getElementById(\"25f963a0-4632-4e41-a6b5-3c7048703af1\")) {window._Plotly.Plots.resize(document.getElementById(\"25f963a0-4632-4e41-a6b5-3c7048703af1\"));};})</script>"
      ]
     },
     "metadata": {},
     "output_type": "display_data"
    },
    {
     "name": "stdout",
     "output_type": "stream",
     "text": [
      "\n",
      "\n",
      "Cluster 5 || variable: Cuando observas una imagen, ¿te preguntas cosas acerca de los personajes/objetos que aparecen en la misma?\n",
      "Describiendo la pregunta Cuando observas una imagen, ¿te preguntas cosas acerca de los personajes/objetos que aparecen en la misma?\n",
      "Valores numéricos asociados a las respuestas [1, 2, 3, 4, 5]\n",
      "Respuestas posibles a la pregunta/variable ['1. Nunca', '2. Muy pocas veces', '3. En ocasiones', '4. Bastantes veces', '5. Casi siempre o siempre']\n"
     ]
    },
    {
     "data": {
      "text/plain": [
       "count    1.0\n",
       "mean     4.0\n",
       "std      NaN\n",
       "min      4.0\n",
       "25%      4.0\n",
       "50%      4.0\n",
       "75%      4.0\n",
       "max      4.0\n",
       "Name: Cuando observas una imagen, ¿te preguntas cosas acerca de los personajes/objetos que aparecen en la misma?, dtype: float64"
      ]
     },
     "metadata": {},
     "output_type": "display_data"
    },
    {
     "name": "stdout",
     "output_type": "stream",
     "text": [
      "Conteo de cada valor en Cuando observas una imagen, ¿te preguntas cosas acerca de los personajes/objetos que aparecen en la misma? expresada como valor / cantidad\n"
     ]
    },
    {
     "data": {
      "text/plain": [
       "4    1\n",
       "Name: Cuando observas una imagen, ¿te preguntas cosas acerca de los personajes/objetos que aparecen en la misma?, dtype: int64"
      ]
     },
     "metadata": {},
     "output_type": "display_data"
    },
    {
     "name": "stdout",
     "output_type": "stream",
     "text": [
      "Porcentaje de cada valor en Cuando observas una imagen, ¿te preguntas cosas acerca de los personajes/objetos que aparecen en la misma? expresado como valor / porcentaje\n"
     ]
    },
    {
     "data": {
      "text/plain": [
       "4    100.0\n",
       "Name: Cuando observas una imagen, ¿te preguntas cosas acerca de los personajes/objetos que aparecen en la misma?, dtype: float64"
      ]
     },
     "metadata": {},
     "output_type": "display_data"
    },
    {
     "data": {
      "application/vnd.plotly.v1+json": {
       "config": {
        "linkText": "Export to plot.ly",
        "plotlyServerURL": "https://plot.ly",
        "showLink": false
       },
       "data": [
        {
         "marker": {
          "color": [
           "rgb(213,62,79)",
           "rgb(252,141,89)",
           "rgb(254,224,139)",
           "rgb(230,245,152)",
           "rgb(153,213,148)",
           "rgb(50,136,189)"
          ]
         },
         "type": "bar",
         "uid": "b05bd356-0e19-48dc-994d-d3a1aa94bc1c",
         "x": [
          4
         ],
         "y": [
          1
         ]
        }
       ],
       "layout": {
        "bargap": 0.2,
        "xaxis": {
         "ticktext": [
          "1. Nunca",
          "2. Muy pocas veces",
          "3. En ocasiones",
          "4. Bastantes veces",
          "5. Casi siempre o siempre"
         ],
         "tickvals": [
          1,
          2,
          3,
          4,
          5
         ]
        }
       }
      },
      "text/html": [
       "<div id=\"7404f2d7-bb7d-4811-aebf-dcb23c95ff36\" style=\"height: 525px; width: 100%;\" class=\"plotly-graph-div\"></div><script type=\"text/javascript\">require([\"plotly\"], function(Plotly) { window.PLOTLYENV=window.PLOTLYENV || {};window.PLOTLYENV.BASE_URL=\"https://plot.ly\";\n",
       "if (document.getElementById(\"7404f2d7-bb7d-4811-aebf-dcb23c95ff36\")) {\n",
       "    Plotly.newPlot(\"7404f2d7-bb7d-4811-aebf-dcb23c95ff36\", [{\"marker\": {\"color\": [\"rgb(213,62,79)\", \"rgb(252,141,89)\", \"rgb(254,224,139)\", \"rgb(230,245,152)\", \"rgb(153,213,148)\", \"rgb(50,136,189)\"]}, \"x\": [4], \"y\": [1], \"type\": \"bar\", \"uid\": \"b05bd356-0e19-48dc-994d-d3a1aa94bc1c\"}], {\"bargap\": 0.2, \"xaxis\": {\"ticktext\": [\"1. Nunca\", \"2. Muy pocas veces\", \"3. En ocasiones\", \"4. Bastantes veces\", \"5. Casi siempre o siempre\"], \"tickvals\": [1, 2, 3, 4, 5]}}, {\"showLink\": false, \"linkText\": \"Export to plot.ly\", \"plotlyServerURL\": \"https://plot.ly\"}); \n",
       "}\n",
       "});</script><script type=\"text/javascript\">window.addEventListener(\"resize\", function(){if (document.getElementById(\"7404f2d7-bb7d-4811-aebf-dcb23c95ff36\")) {window._Plotly.Plots.resize(document.getElementById(\"7404f2d7-bb7d-4811-aebf-dcb23c95ff36\"));};})</script>"
      ],
      "text/vnd.plotly.v1+html": [
       "<div id=\"7404f2d7-bb7d-4811-aebf-dcb23c95ff36\" style=\"height: 525px; width: 100%;\" class=\"plotly-graph-div\"></div><script type=\"text/javascript\">require([\"plotly\"], function(Plotly) { window.PLOTLYENV=window.PLOTLYENV || {};window.PLOTLYENV.BASE_URL=\"https://plot.ly\";\n",
       "if (document.getElementById(\"7404f2d7-bb7d-4811-aebf-dcb23c95ff36\")) {\n",
       "    Plotly.newPlot(\"7404f2d7-bb7d-4811-aebf-dcb23c95ff36\", [{\"marker\": {\"color\": [\"rgb(213,62,79)\", \"rgb(252,141,89)\", \"rgb(254,224,139)\", \"rgb(230,245,152)\", \"rgb(153,213,148)\", \"rgb(50,136,189)\"]}, \"x\": [4], \"y\": [1], \"type\": \"bar\", \"uid\": \"b05bd356-0e19-48dc-994d-d3a1aa94bc1c\"}], {\"bargap\": 0.2, \"xaxis\": {\"ticktext\": [\"1. Nunca\", \"2. Muy pocas veces\", \"3. En ocasiones\", \"4. Bastantes veces\", \"5. Casi siempre o siempre\"], \"tickvals\": [1, 2, 3, 4, 5]}}, {\"showLink\": false, \"linkText\": \"Export to plot.ly\", \"plotlyServerURL\": \"https://plot.ly\"}); \n",
       "}\n",
       "});</script><script type=\"text/javascript\">window.addEventListener(\"resize\", function(){if (document.getElementById(\"7404f2d7-bb7d-4811-aebf-dcb23c95ff36\")) {window._Plotly.Plots.resize(document.getElementById(\"7404f2d7-bb7d-4811-aebf-dcb23c95ff36\"));};})</script>"
      ]
     },
     "metadata": {},
     "output_type": "display_data"
    },
    {
     "name": "stdout",
     "output_type": "stream",
     "text": [
      "\n",
      "\n",
      "Cluster 5 || variable: ¿Entiendes, generalmente, las intenciones que tiene el autor de una imagen cuando la ves y la compartes?\n",
      "Describiendo la pregunta ¿Entiendes, generalmente, las intenciones que tiene el autor de una imagen cuando la ves y la compartes?\n",
      "Valores numéricos asociados a las respuestas [1, 2, 3, 4, 5]\n",
      "Respuestas posibles a la pregunta/variable ['1. Never', '2. Very rarely', '3. Occasionally', '4. Several times', '5. Almost always or always']\n"
     ]
    },
    {
     "data": {
      "text/plain": [
       "count    1.0\n",
       "mean     3.0\n",
       "std      NaN\n",
       "min      3.0\n",
       "25%      3.0\n",
       "50%      3.0\n",
       "75%      3.0\n",
       "max      3.0\n",
       "Name: ¿Entiendes, generalmente, las intenciones que tiene el autor de una imagen cuando la ves y la compartes?, dtype: float64"
      ]
     },
     "metadata": {},
     "output_type": "display_data"
    },
    {
     "name": "stdout",
     "output_type": "stream",
     "text": [
      "Conteo de cada valor en ¿Entiendes, generalmente, las intenciones que tiene el autor de una imagen cuando la ves y la compartes? expresada como valor / cantidad\n"
     ]
    },
    {
     "data": {
      "text/plain": [
       "3    1\n",
       "Name: ¿Entiendes, generalmente, las intenciones que tiene el autor de una imagen cuando la ves y la compartes?, dtype: int64"
      ]
     },
     "metadata": {},
     "output_type": "display_data"
    },
    {
     "name": "stdout",
     "output_type": "stream",
     "text": [
      "Porcentaje de cada valor en ¿Entiendes, generalmente, las intenciones que tiene el autor de una imagen cuando la ves y la compartes? expresado como valor / porcentaje\n"
     ]
    },
    {
     "data": {
      "text/plain": [
       "3    100.0\n",
       "Name: ¿Entiendes, generalmente, las intenciones que tiene el autor de una imagen cuando la ves y la compartes?, dtype: float64"
      ]
     },
     "metadata": {},
     "output_type": "display_data"
    },
    {
     "data": {
      "application/vnd.plotly.v1+json": {
       "config": {
        "linkText": "Export to plot.ly",
        "plotlyServerURL": "https://plot.ly",
        "showLink": false
       },
       "data": [
        {
         "marker": {
          "color": [
           "rgb(213,62,79)",
           "rgb(252,141,89)",
           "rgb(254,224,139)",
           "rgb(230,245,152)",
           "rgb(153,213,148)",
           "rgb(50,136,189)"
          ]
         },
         "type": "bar",
         "uid": "3ded5b96-aa2e-4896-9a27-4349e61d94de",
         "x": [
          3
         ],
         "y": [
          1
         ]
        }
       ],
       "layout": {
        "bargap": 0.2,
        "xaxis": {
         "ticktext": [
          "1. Never",
          "2. Very rarely",
          "3. Occasionally",
          "4. Several times",
          "5. Almost always or always"
         ],
         "tickvals": [
          1,
          2,
          3,
          4,
          5
         ]
        }
       }
      },
      "text/html": [
       "<div id=\"d49ca476-4a73-4aaf-a756-2faadcd1afde\" style=\"height: 525px; width: 100%;\" class=\"plotly-graph-div\"></div><script type=\"text/javascript\">require([\"plotly\"], function(Plotly) { window.PLOTLYENV=window.PLOTLYENV || {};window.PLOTLYENV.BASE_URL=\"https://plot.ly\";\n",
       "if (document.getElementById(\"d49ca476-4a73-4aaf-a756-2faadcd1afde\")) {\n",
       "    Plotly.newPlot(\"d49ca476-4a73-4aaf-a756-2faadcd1afde\", [{\"marker\": {\"color\": [\"rgb(213,62,79)\", \"rgb(252,141,89)\", \"rgb(254,224,139)\", \"rgb(230,245,152)\", \"rgb(153,213,148)\", \"rgb(50,136,189)\"]}, \"x\": [3], \"y\": [1], \"type\": \"bar\", \"uid\": \"3ded5b96-aa2e-4896-9a27-4349e61d94de\"}], {\"bargap\": 0.2, \"xaxis\": {\"ticktext\": [\"1. Never\", \"2. Very rarely\", \"3. Occasionally\", \"4. Several times\", \"5. Almost always or always\"], \"tickvals\": [1, 2, 3, 4, 5]}}, {\"showLink\": false, \"linkText\": \"Export to plot.ly\", \"plotlyServerURL\": \"https://plot.ly\"}); \n",
       "}\n",
       "});</script><script type=\"text/javascript\">window.addEventListener(\"resize\", function(){if (document.getElementById(\"d49ca476-4a73-4aaf-a756-2faadcd1afde\")) {window._Plotly.Plots.resize(document.getElementById(\"d49ca476-4a73-4aaf-a756-2faadcd1afde\"));};})</script>"
      ],
      "text/vnd.plotly.v1+html": [
       "<div id=\"d49ca476-4a73-4aaf-a756-2faadcd1afde\" style=\"height: 525px; width: 100%;\" class=\"plotly-graph-div\"></div><script type=\"text/javascript\">require([\"plotly\"], function(Plotly) { window.PLOTLYENV=window.PLOTLYENV || {};window.PLOTLYENV.BASE_URL=\"https://plot.ly\";\n",
       "if (document.getElementById(\"d49ca476-4a73-4aaf-a756-2faadcd1afde\")) {\n",
       "    Plotly.newPlot(\"d49ca476-4a73-4aaf-a756-2faadcd1afde\", [{\"marker\": {\"color\": [\"rgb(213,62,79)\", \"rgb(252,141,89)\", \"rgb(254,224,139)\", \"rgb(230,245,152)\", \"rgb(153,213,148)\", \"rgb(50,136,189)\"]}, \"x\": [3], \"y\": [1], \"type\": \"bar\", \"uid\": \"3ded5b96-aa2e-4896-9a27-4349e61d94de\"}], {\"bargap\": 0.2, \"xaxis\": {\"ticktext\": [\"1. Never\", \"2. Very rarely\", \"3. Occasionally\", \"4. Several times\", \"5. Almost always or always\"], \"tickvals\": [1, 2, 3, 4, 5]}}, {\"showLink\": false, \"linkText\": \"Export to plot.ly\", \"plotlyServerURL\": \"https://plot.ly\"}); \n",
       "}\n",
       "});</script><script type=\"text/javascript\">window.addEventListener(\"resize\", function(){if (document.getElementById(\"d49ca476-4a73-4aaf-a756-2faadcd1afde\")) {window._Plotly.Plots.resize(document.getElementById(\"d49ca476-4a73-4aaf-a756-2faadcd1afde\"));};})</script>"
      ]
     },
     "metadata": {},
     "output_type": "display_data"
    },
    {
     "name": "stdout",
     "output_type": "stream",
     "text": [
      "\n",
      "\n",
      "Cluster 5 || variable: ¿Eres capaz de expresar verbalmente las emociones que te produce una imagen que has visto?\n",
      "Describiendo la pregunta ¿Eres capaz de expresar verbalmente las emociones que te produce una imagen que has visto?\n",
      "Valores numéricos asociados a las respuestas [1, 2, 3, 4, 5]\n",
      "Respuestas posibles a la pregunta/variable ['1. Nunca', '2. Muy pocas veces', '3. En ocasiones', '4. Bastantes veces', '5. Casi siempre o siempre']\n"
     ]
    },
    {
     "data": {
      "text/plain": [
       "count    1.0\n",
       "mean     2.0\n",
       "std      NaN\n",
       "min      2.0\n",
       "25%      2.0\n",
       "50%      2.0\n",
       "75%      2.0\n",
       "max      2.0\n",
       "Name: ¿Eres capaz de expresar verbalmente las emociones que te produce una imagen que has visto?, dtype: float64"
      ]
     },
     "metadata": {},
     "output_type": "display_data"
    },
    {
     "name": "stdout",
     "output_type": "stream",
     "text": [
      "Conteo de cada valor en ¿Eres capaz de expresar verbalmente las emociones que te produce una imagen que has visto? expresada como valor / cantidad\n"
     ]
    },
    {
     "data": {
      "text/plain": [
       "2    1\n",
       "Name: ¿Eres capaz de expresar verbalmente las emociones que te produce una imagen que has visto?, dtype: int64"
      ]
     },
     "metadata": {},
     "output_type": "display_data"
    },
    {
     "name": "stdout",
     "output_type": "stream",
     "text": [
      "Porcentaje de cada valor en ¿Eres capaz de expresar verbalmente las emociones que te produce una imagen que has visto? expresado como valor / porcentaje\n"
     ]
    },
    {
     "data": {
      "text/plain": [
       "2    100.0\n",
       "Name: ¿Eres capaz de expresar verbalmente las emociones que te produce una imagen que has visto?, dtype: float64"
      ]
     },
     "metadata": {},
     "output_type": "display_data"
    },
    {
     "data": {
      "application/vnd.plotly.v1+json": {
       "config": {
        "linkText": "Export to plot.ly",
        "plotlyServerURL": "https://plot.ly",
        "showLink": false
       },
       "data": [
        {
         "marker": {
          "color": [
           "rgb(213,62,79)",
           "rgb(252,141,89)",
           "rgb(254,224,139)",
           "rgb(230,245,152)",
           "rgb(153,213,148)",
           "rgb(50,136,189)"
          ]
         },
         "type": "bar",
         "uid": "d9cc92ae-a217-4230-926c-17f6f4323ab2",
         "x": [
          2
         ],
         "y": [
          1
         ]
        }
       ],
       "layout": {
        "bargap": 0.2,
        "xaxis": {
         "ticktext": [
          "1. Nunca",
          "2. Muy pocas veces",
          "3. En ocasiones",
          "4. Bastantes veces",
          "5. Casi siempre o siempre"
         ],
         "tickvals": [
          1,
          2,
          3,
          4,
          5
         ]
        }
       }
      },
      "text/html": [
       "<div id=\"cf015974-feb6-424d-9233-9e07e95e32ea\" style=\"height: 525px; width: 100%;\" class=\"plotly-graph-div\"></div><script type=\"text/javascript\">require([\"plotly\"], function(Plotly) { window.PLOTLYENV=window.PLOTLYENV || {};window.PLOTLYENV.BASE_URL=\"https://plot.ly\";\n",
       "if (document.getElementById(\"cf015974-feb6-424d-9233-9e07e95e32ea\")) {\n",
       "    Plotly.newPlot(\"cf015974-feb6-424d-9233-9e07e95e32ea\", [{\"marker\": {\"color\": [\"rgb(213,62,79)\", \"rgb(252,141,89)\", \"rgb(254,224,139)\", \"rgb(230,245,152)\", \"rgb(153,213,148)\", \"rgb(50,136,189)\"]}, \"x\": [2], \"y\": [1], \"type\": \"bar\", \"uid\": \"d9cc92ae-a217-4230-926c-17f6f4323ab2\"}], {\"bargap\": 0.2, \"xaxis\": {\"ticktext\": [\"1. Nunca\", \"2. Muy pocas veces\", \"3. En ocasiones\", \"4. Bastantes veces\", \"5. Casi siempre o siempre\"], \"tickvals\": [1, 2, 3, 4, 5]}}, {\"showLink\": false, \"linkText\": \"Export to plot.ly\", \"plotlyServerURL\": \"https://plot.ly\"}); \n",
       "}\n",
       "});</script><script type=\"text/javascript\">window.addEventListener(\"resize\", function(){if (document.getElementById(\"cf015974-feb6-424d-9233-9e07e95e32ea\")) {window._Plotly.Plots.resize(document.getElementById(\"cf015974-feb6-424d-9233-9e07e95e32ea\"));};})</script>"
      ],
      "text/vnd.plotly.v1+html": [
       "<div id=\"cf015974-feb6-424d-9233-9e07e95e32ea\" style=\"height: 525px; width: 100%;\" class=\"plotly-graph-div\"></div><script type=\"text/javascript\">require([\"plotly\"], function(Plotly) { window.PLOTLYENV=window.PLOTLYENV || {};window.PLOTLYENV.BASE_URL=\"https://plot.ly\";\n",
       "if (document.getElementById(\"cf015974-feb6-424d-9233-9e07e95e32ea\")) {\n",
       "    Plotly.newPlot(\"cf015974-feb6-424d-9233-9e07e95e32ea\", [{\"marker\": {\"color\": [\"rgb(213,62,79)\", \"rgb(252,141,89)\", \"rgb(254,224,139)\", \"rgb(230,245,152)\", \"rgb(153,213,148)\", \"rgb(50,136,189)\"]}, \"x\": [2], \"y\": [1], \"type\": \"bar\", \"uid\": \"d9cc92ae-a217-4230-926c-17f6f4323ab2\"}], {\"bargap\": 0.2, \"xaxis\": {\"ticktext\": [\"1. Nunca\", \"2. Muy pocas veces\", \"3. En ocasiones\", \"4. Bastantes veces\", \"5. Casi siempre o siempre\"], \"tickvals\": [1, 2, 3, 4, 5]}}, {\"showLink\": false, \"linkText\": \"Export to plot.ly\", \"plotlyServerURL\": \"https://plot.ly\"}); \n",
       "}\n",
       "});</script><script type=\"text/javascript\">window.addEventListener(\"resize\", function(){if (document.getElementById(\"cf015974-feb6-424d-9233-9e07e95e32ea\")) {window._Plotly.Plots.resize(document.getElementById(\"cf015974-feb6-424d-9233-9e07e95e32ea\"));};})</script>"
      ]
     },
     "metadata": {},
     "output_type": "display_data"
    },
    {
     "name": "stdout",
     "output_type": "stream",
     "text": [
      "\n",
      "\n",
      "Cluster 4 || variable: Cuando te encuentras con una imagen, ¿intentas entender con qué intención está hecha?\n",
      "Describiendo la pregunta Cuando te encuentras con una imagen, ¿intentas entender con qué intención está hecha?\n",
      "Valores numéricos asociados a las respuestas [1, 2, 3, 4, 5]\n",
      "Respuestas posibles a la pregunta/variable ['1. Nunca', '2. Muy pocas veces', '3. En ocasiones', '4. Bastantes veces', '5. Casi siempre o siempre']\n"
     ]
    },
    {
     "data": {
      "text/plain": [
       "count    215.000000\n",
       "mean       3.027907\n",
       "std        0.956611\n",
       "min        1.000000\n",
       "25%        2.000000\n",
       "50%        3.000000\n",
       "75%        4.000000\n",
       "max        5.000000\n",
       "Name: Cuando te encuentras con una imagen, ¿intentas entender con qué intención está hecha?, dtype: float64"
      ]
     },
     "metadata": {},
     "output_type": "display_data"
    },
    {
     "name": "stdout",
     "output_type": "stream",
     "text": [
      "Conteo de cada valor en Cuando te encuentras con una imagen, ¿intentas entender con qué intención está hecha? expresada como valor / cantidad\n"
     ]
    },
    {
     "data": {
      "text/plain": [
       "1    11\n",
       "2    48\n",
       "3    94\n",
       "4    48\n",
       "5    14\n",
       "Name: Cuando te encuentras con una imagen, ¿intentas entender con qué intención está hecha?, dtype: int64"
      ]
     },
     "metadata": {},
     "output_type": "display_data"
    },
    {
     "name": "stdout",
     "output_type": "stream",
     "text": [
      "Porcentaje de cada valor en Cuando te encuentras con una imagen, ¿intentas entender con qué intención está hecha? expresado como valor / porcentaje\n"
     ]
    },
    {
     "data": {
      "text/plain": [
       "1     5.12\n",
       "2    22.33\n",
       "3    43.72\n",
       "4    22.33\n",
       "5     6.51\n",
       "Name: Cuando te encuentras con una imagen, ¿intentas entender con qué intención está hecha?, dtype: float64"
      ]
     },
     "metadata": {},
     "output_type": "display_data"
    },
    {
     "data": {
      "application/vnd.plotly.v1+json": {
       "config": {
        "linkText": "Export to plot.ly",
        "plotlyServerURL": "https://plot.ly",
        "showLink": false
       },
       "data": [
        {
         "marker": {
          "color": [
           "rgb(213,62,79)",
           "rgb(252,141,89)",
           "rgb(254,224,139)",
           "rgb(230,245,152)",
           "rgb(153,213,148)",
           "rgb(50,136,189)"
          ]
         },
         "type": "bar",
         "uid": "d199b89c-0747-4afc-8462-dcff2d37dda2",
         "x": [
          1,
          2,
          3,
          4,
          5
         ],
         "y": [
          11,
          48,
          94,
          48,
          14
         ]
        }
       ],
       "layout": {
        "bargap": 0.2,
        "xaxis": {
         "ticktext": [
          "1. Nunca",
          "2. Muy pocas veces",
          "3. En ocasiones",
          "4. Bastantes veces",
          "5. Casi siempre o siempre"
         ],
         "tickvals": [
          1,
          2,
          3,
          4,
          5
         ]
        }
       }
      },
      "text/html": [
       "<div id=\"66ff2f09-58bc-4654-b58a-a767329b159e\" style=\"height: 525px; width: 100%;\" class=\"plotly-graph-div\"></div><script type=\"text/javascript\">require([\"plotly\"], function(Plotly) { window.PLOTLYENV=window.PLOTLYENV || {};window.PLOTLYENV.BASE_URL=\"https://plot.ly\";\n",
       "if (document.getElementById(\"66ff2f09-58bc-4654-b58a-a767329b159e\")) {\n",
       "    Plotly.newPlot(\"66ff2f09-58bc-4654-b58a-a767329b159e\", [{\"marker\": {\"color\": [\"rgb(213,62,79)\", \"rgb(252,141,89)\", \"rgb(254,224,139)\", \"rgb(230,245,152)\", \"rgb(153,213,148)\", \"rgb(50,136,189)\"]}, \"x\": [1, 2, 3, 4, 5], \"y\": [11, 48, 94, 48, 14], \"type\": \"bar\", \"uid\": \"d199b89c-0747-4afc-8462-dcff2d37dda2\"}], {\"bargap\": 0.2, \"xaxis\": {\"ticktext\": [\"1. Nunca\", \"2. Muy pocas veces\", \"3. En ocasiones\", \"4. Bastantes veces\", \"5. Casi siempre o siempre\"], \"tickvals\": [1, 2, 3, 4, 5]}}, {\"showLink\": false, \"linkText\": \"Export to plot.ly\", \"plotlyServerURL\": \"https://plot.ly\"}); \n",
       "}\n",
       "});</script><script type=\"text/javascript\">window.addEventListener(\"resize\", function(){if (document.getElementById(\"66ff2f09-58bc-4654-b58a-a767329b159e\")) {window._Plotly.Plots.resize(document.getElementById(\"66ff2f09-58bc-4654-b58a-a767329b159e\"));};})</script>"
      ],
      "text/vnd.plotly.v1+html": [
       "<div id=\"66ff2f09-58bc-4654-b58a-a767329b159e\" style=\"height: 525px; width: 100%;\" class=\"plotly-graph-div\"></div><script type=\"text/javascript\">require([\"plotly\"], function(Plotly) { window.PLOTLYENV=window.PLOTLYENV || {};window.PLOTLYENV.BASE_URL=\"https://plot.ly\";\n",
       "if (document.getElementById(\"66ff2f09-58bc-4654-b58a-a767329b159e\")) {\n",
       "    Plotly.newPlot(\"66ff2f09-58bc-4654-b58a-a767329b159e\", [{\"marker\": {\"color\": [\"rgb(213,62,79)\", \"rgb(252,141,89)\", \"rgb(254,224,139)\", \"rgb(230,245,152)\", \"rgb(153,213,148)\", \"rgb(50,136,189)\"]}, \"x\": [1, 2, 3, 4, 5], \"y\": [11, 48, 94, 48, 14], \"type\": \"bar\", \"uid\": \"d199b89c-0747-4afc-8462-dcff2d37dda2\"}], {\"bargap\": 0.2, \"xaxis\": {\"ticktext\": [\"1. Nunca\", \"2. Muy pocas veces\", \"3. En ocasiones\", \"4. Bastantes veces\", \"5. Casi siempre o siempre\"], \"tickvals\": [1, 2, 3, 4, 5]}}, {\"showLink\": false, \"linkText\": \"Export to plot.ly\", \"plotlyServerURL\": \"https://plot.ly\"}); \n",
       "}\n",
       "});</script><script type=\"text/javascript\">window.addEventListener(\"resize\", function(){if (document.getElementById(\"66ff2f09-58bc-4654-b58a-a767329b159e\")) {window._Plotly.Plots.resize(document.getElementById(\"66ff2f09-58bc-4654-b58a-a767329b159e\"));};})</script>"
      ]
     },
     "metadata": {},
     "output_type": "display_data"
    },
    {
     "name": "stdout",
     "output_type": "stream",
     "text": [
      "\n",
      "\n",
      "Cluster 4 || variable: Cuando recibes o consumes una imagen, ¿la comparas con tu propia realidad? ¿Intentas encontrar en tu entorno cierto parecido?\n",
      "Describiendo la pregunta Cuando recibes o consumes una imagen, ¿la comparas con tu propia realidad? ¿Intentas encontrar en tu entorno cierto parecido?\n",
      "Valores numéricos asociados a las respuestas [1, 2, 3, 4, 5]\n",
      "Respuestas posibles a la pregunta/variable ['1. Nunca', '2. Muy pocas veces', '3. En ocasiones', '4. Bastantes veces', '5. Casi siempre o siempre']\n"
     ]
    },
    {
     "data": {
      "text/plain": [
       "count    215.000000\n",
       "mean       2.879070\n",
       "std        0.861578\n",
       "min        1.000000\n",
       "25%        2.000000\n",
       "50%        3.000000\n",
       "75%        3.000000\n",
       "max        5.000000\n",
       "Name: Cuando recibes o consumes una imagen, ¿la comparas con tu propia realidad? ¿Intentas encontrar en tu entorno cierto parecido?, dtype: float64"
      ]
     },
     "metadata": {},
     "output_type": "display_data"
    },
    {
     "name": "stdout",
     "output_type": "stream",
     "text": [
      "Conteo de cada valor en Cuando recibes o consumes una imagen, ¿la comparas con tu propia realidad? ¿Intentas encontrar en tu entorno cierto parecido? expresada como valor / cantidad\n"
     ]
    },
    {
     "data": {
      "text/plain": [
       "1     13\n",
       "2     52\n",
       "3    101\n",
       "4     46\n",
       "5      3\n",
       "Name: Cuando recibes o consumes una imagen, ¿la comparas con tu propia realidad? ¿Intentas encontrar en tu entorno cierto parecido?, dtype: int64"
      ]
     },
     "metadata": {},
     "output_type": "display_data"
    },
    {
     "name": "stdout",
     "output_type": "stream",
     "text": [
      "Porcentaje de cada valor en Cuando recibes o consumes una imagen, ¿la comparas con tu propia realidad? ¿Intentas encontrar en tu entorno cierto parecido? expresado como valor / porcentaje\n"
     ]
    },
    {
     "data": {
      "text/plain": [
       "1     6.05\n",
       "2    24.19\n",
       "3    46.98\n",
       "4    21.40\n",
       "5     1.40\n",
       "Name: Cuando recibes o consumes una imagen, ¿la comparas con tu propia realidad? ¿Intentas encontrar en tu entorno cierto parecido?, dtype: float64"
      ]
     },
     "metadata": {},
     "output_type": "display_data"
    },
    {
     "data": {
      "application/vnd.plotly.v1+json": {
       "config": {
        "linkText": "Export to plot.ly",
        "plotlyServerURL": "https://plot.ly",
        "showLink": false
       },
       "data": [
        {
         "marker": {
          "color": [
           "rgb(213,62,79)",
           "rgb(252,141,89)",
           "rgb(254,224,139)",
           "rgb(230,245,152)",
           "rgb(153,213,148)",
           "rgb(50,136,189)"
          ]
         },
         "type": "bar",
         "uid": "2f57fc0b-7f54-4e50-9701-d5dbd487697b",
         "x": [
          1,
          2,
          3,
          4,
          5
         ],
         "y": [
          13,
          52,
          101,
          46,
          3
         ]
        }
       ],
       "layout": {
        "bargap": 0.2,
        "xaxis": {
         "ticktext": [
          "1. Nunca",
          "2. Muy pocas veces",
          "3. En ocasiones",
          "4. Bastantes veces",
          "5. Casi siempre o siempre"
         ],
         "tickvals": [
          1,
          2,
          3,
          4,
          5
         ]
        }
       }
      },
      "text/html": [
       "<div id=\"17e8955b-5ff3-4420-af28-1169f1f41961\" style=\"height: 525px; width: 100%;\" class=\"plotly-graph-div\"></div><script type=\"text/javascript\">require([\"plotly\"], function(Plotly) { window.PLOTLYENV=window.PLOTLYENV || {};window.PLOTLYENV.BASE_URL=\"https://plot.ly\";\n",
       "if (document.getElementById(\"17e8955b-5ff3-4420-af28-1169f1f41961\")) {\n",
       "    Plotly.newPlot(\"17e8955b-5ff3-4420-af28-1169f1f41961\", [{\"marker\": {\"color\": [\"rgb(213,62,79)\", \"rgb(252,141,89)\", \"rgb(254,224,139)\", \"rgb(230,245,152)\", \"rgb(153,213,148)\", \"rgb(50,136,189)\"]}, \"x\": [1, 2, 3, 4, 5], \"y\": [13, 52, 101, 46, 3], \"type\": \"bar\", \"uid\": \"2f57fc0b-7f54-4e50-9701-d5dbd487697b\"}], {\"bargap\": 0.2, \"xaxis\": {\"ticktext\": [\"1. Nunca\", \"2. Muy pocas veces\", \"3. En ocasiones\", \"4. Bastantes veces\", \"5. Casi siempre o siempre\"], \"tickvals\": [1, 2, 3, 4, 5]}}, {\"showLink\": false, \"linkText\": \"Export to plot.ly\", \"plotlyServerURL\": \"https://plot.ly\"}); \n",
       "}\n",
       "});</script><script type=\"text/javascript\">window.addEventListener(\"resize\", function(){if (document.getElementById(\"17e8955b-5ff3-4420-af28-1169f1f41961\")) {window._Plotly.Plots.resize(document.getElementById(\"17e8955b-5ff3-4420-af28-1169f1f41961\"));};})</script>"
      ],
      "text/vnd.plotly.v1+html": [
       "<div id=\"17e8955b-5ff3-4420-af28-1169f1f41961\" style=\"height: 525px; width: 100%;\" class=\"plotly-graph-div\"></div><script type=\"text/javascript\">require([\"plotly\"], function(Plotly) { window.PLOTLYENV=window.PLOTLYENV || {};window.PLOTLYENV.BASE_URL=\"https://plot.ly\";\n",
       "if (document.getElementById(\"17e8955b-5ff3-4420-af28-1169f1f41961\")) {\n",
       "    Plotly.newPlot(\"17e8955b-5ff3-4420-af28-1169f1f41961\", [{\"marker\": {\"color\": [\"rgb(213,62,79)\", \"rgb(252,141,89)\", \"rgb(254,224,139)\", \"rgb(230,245,152)\", \"rgb(153,213,148)\", \"rgb(50,136,189)\"]}, \"x\": [1, 2, 3, 4, 5], \"y\": [13, 52, 101, 46, 3], \"type\": \"bar\", \"uid\": \"2f57fc0b-7f54-4e50-9701-d5dbd487697b\"}], {\"bargap\": 0.2, \"xaxis\": {\"ticktext\": [\"1. Nunca\", \"2. Muy pocas veces\", \"3. En ocasiones\", \"4. Bastantes veces\", \"5. Casi siempre o siempre\"], \"tickvals\": [1, 2, 3, 4, 5]}}, {\"showLink\": false, \"linkText\": \"Export to plot.ly\", \"plotlyServerURL\": \"https://plot.ly\"}); \n",
       "}\n",
       "});</script><script type=\"text/javascript\">window.addEventListener(\"resize\", function(){if (document.getElementById(\"17e8955b-5ff3-4420-af28-1169f1f41961\")) {window._Plotly.Plots.resize(document.getElementById(\"17e8955b-5ff3-4420-af28-1169f1f41961\"));};})</script>"
      ]
     },
     "metadata": {},
     "output_type": "display_data"
    },
    {
     "name": "stdout",
     "output_type": "stream",
     "text": [
      "\n",
      "\n",
      "Cluster 4 || variable: Cuando recibes o consumes una imagen, ¿piensas en el modo en que fue obtenida (técnicamente)?\n",
      "Describiendo la pregunta Cuando recibes o consumes una imagen, ¿piensas en el modo en que fue obtenida (técnicamente)?\n",
      "Valores numéricos asociados a las respuestas [1, 2, 3, 4, 5]\n",
      "Respuestas posibles a la pregunta/variable ['1. Nunca', '2. Muy pocas veces', '3. En ocasiones', '4. Bastantes veces', '5. Casi siempre o siempre']\n"
     ]
    },
    {
     "data": {
      "text/plain": [
       "count    215.000000\n",
       "mean       2.934884\n",
       "std        1.021014\n",
       "min        1.000000\n",
       "25%        2.000000\n",
       "50%        3.000000\n",
       "75%        4.000000\n",
       "max        5.000000\n",
       "Name: Cuando recibes o consumes una imagen, ¿piensas en el modo en que fue obtenida (técnicamente)?, dtype: float64"
      ]
     },
     "metadata": {},
     "output_type": "display_data"
    },
    {
     "name": "stdout",
     "output_type": "stream",
     "text": [
      "Conteo de cada valor en Cuando recibes o consumes una imagen, ¿piensas en el modo en que fue obtenida (técnicamente)? expresada como valor / cantidad\n"
     ]
    },
    {
     "data": {
      "text/plain": [
       "1    21\n",
       "2    46\n",
       "3    84\n",
       "4    54\n",
       "5    10\n",
       "Name: Cuando recibes o consumes una imagen, ¿piensas en el modo en que fue obtenida (técnicamente)?, dtype: int64"
      ]
     },
     "metadata": {},
     "output_type": "display_data"
    },
    {
     "name": "stdout",
     "output_type": "stream",
     "text": [
      "Porcentaje de cada valor en Cuando recibes o consumes una imagen, ¿piensas en el modo en que fue obtenida (técnicamente)? expresado como valor / porcentaje\n"
     ]
    },
    {
     "data": {
      "text/plain": [
       "1     9.77\n",
       "2    21.40\n",
       "3    39.07\n",
       "4    25.12\n",
       "5     4.65\n",
       "Name: Cuando recibes o consumes una imagen, ¿piensas en el modo en que fue obtenida (técnicamente)?, dtype: float64"
      ]
     },
     "metadata": {},
     "output_type": "display_data"
    },
    {
     "data": {
      "application/vnd.plotly.v1+json": {
       "config": {
        "linkText": "Export to plot.ly",
        "plotlyServerURL": "https://plot.ly",
        "showLink": false
       },
       "data": [
        {
         "marker": {
          "color": [
           "rgb(213,62,79)",
           "rgb(252,141,89)",
           "rgb(254,224,139)",
           "rgb(230,245,152)",
           "rgb(153,213,148)",
           "rgb(50,136,189)"
          ]
         },
         "type": "bar",
         "uid": "1fdc624f-9185-4763-85d5-6287c0032a0e",
         "x": [
          1,
          2,
          3,
          4,
          5
         ],
         "y": [
          21,
          46,
          84,
          54,
          10
         ]
        }
       ],
       "layout": {
        "bargap": 0.2,
        "xaxis": {
         "ticktext": [
          "1. Nunca",
          "2. Muy pocas veces",
          "3. En ocasiones",
          "4. Bastantes veces",
          "5. Casi siempre o siempre"
         ],
         "tickvals": [
          1,
          2,
          3,
          4,
          5
         ]
        }
       }
      },
      "text/html": [
       "<div id=\"32f4df41-ac11-4475-a551-044700568cd4\" style=\"height: 525px; width: 100%;\" class=\"plotly-graph-div\"></div><script type=\"text/javascript\">require([\"plotly\"], function(Plotly) { window.PLOTLYENV=window.PLOTLYENV || {};window.PLOTLYENV.BASE_URL=\"https://plot.ly\";\n",
       "if (document.getElementById(\"32f4df41-ac11-4475-a551-044700568cd4\")) {\n",
       "    Plotly.newPlot(\"32f4df41-ac11-4475-a551-044700568cd4\", [{\"marker\": {\"color\": [\"rgb(213,62,79)\", \"rgb(252,141,89)\", \"rgb(254,224,139)\", \"rgb(230,245,152)\", \"rgb(153,213,148)\", \"rgb(50,136,189)\"]}, \"x\": [1, 2, 3, 4, 5], \"y\": [21, 46, 84, 54, 10], \"type\": \"bar\", \"uid\": \"1fdc624f-9185-4763-85d5-6287c0032a0e\"}], {\"bargap\": 0.2, \"xaxis\": {\"ticktext\": [\"1. Nunca\", \"2. Muy pocas veces\", \"3. En ocasiones\", \"4. Bastantes veces\", \"5. Casi siempre o siempre\"], \"tickvals\": [1, 2, 3, 4, 5]}}, {\"showLink\": false, \"linkText\": \"Export to plot.ly\", \"plotlyServerURL\": \"https://plot.ly\"}); \n",
       "}\n",
       "});</script><script type=\"text/javascript\">window.addEventListener(\"resize\", function(){if (document.getElementById(\"32f4df41-ac11-4475-a551-044700568cd4\")) {window._Plotly.Plots.resize(document.getElementById(\"32f4df41-ac11-4475-a551-044700568cd4\"));};})</script>"
      ],
      "text/vnd.plotly.v1+html": [
       "<div id=\"32f4df41-ac11-4475-a551-044700568cd4\" style=\"height: 525px; width: 100%;\" class=\"plotly-graph-div\"></div><script type=\"text/javascript\">require([\"plotly\"], function(Plotly) { window.PLOTLYENV=window.PLOTLYENV || {};window.PLOTLYENV.BASE_URL=\"https://plot.ly\";\n",
       "if (document.getElementById(\"32f4df41-ac11-4475-a551-044700568cd4\")) {\n",
       "    Plotly.newPlot(\"32f4df41-ac11-4475-a551-044700568cd4\", [{\"marker\": {\"color\": [\"rgb(213,62,79)\", \"rgb(252,141,89)\", \"rgb(254,224,139)\", \"rgb(230,245,152)\", \"rgb(153,213,148)\", \"rgb(50,136,189)\"]}, \"x\": [1, 2, 3, 4, 5], \"y\": [21, 46, 84, 54, 10], \"type\": \"bar\", \"uid\": \"1fdc624f-9185-4763-85d5-6287c0032a0e\"}], {\"bargap\": 0.2, \"xaxis\": {\"ticktext\": [\"1. Nunca\", \"2. Muy pocas veces\", \"3. En ocasiones\", \"4. Bastantes veces\", \"5. Casi siempre o siempre\"], \"tickvals\": [1, 2, 3, 4, 5]}}, {\"showLink\": false, \"linkText\": \"Export to plot.ly\", \"plotlyServerURL\": \"https://plot.ly\"}); \n",
       "}\n",
       "});</script><script type=\"text/javascript\">window.addEventListener(\"resize\", function(){if (document.getElementById(\"32f4df41-ac11-4475-a551-044700568cd4\")) {window._Plotly.Plots.resize(document.getElementById(\"32f4df41-ac11-4475-a551-044700568cd4\"));};})</script>"
      ]
     },
     "metadata": {},
     "output_type": "display_data"
    },
    {
     "name": "stdout",
     "output_type": "stream",
     "text": [
      "\n",
      "\n",
      "Cluster 4 || variable: Cuando observas una imagen, ¿te preguntas cosas acerca de los personajes/objetos que aparecen en la misma?\n",
      "Describiendo la pregunta Cuando observas una imagen, ¿te preguntas cosas acerca de los personajes/objetos que aparecen en la misma?\n",
      "Valores numéricos asociados a las respuestas [1, 2, 3, 4, 5]\n",
      "Respuestas posibles a la pregunta/variable ['1. Nunca', '2. Muy pocas veces', '3. En ocasiones', '4. Bastantes veces', '5. Casi siempre o siempre']\n"
     ]
    },
    {
     "data": {
      "text/plain": [
       "count    215.000000\n",
       "mean       2.995349\n",
       "std        0.954564\n",
       "min        1.000000\n",
       "25%        2.000000\n",
       "50%        3.000000\n",
       "75%        4.000000\n",
       "max        5.000000\n",
       "Name: Cuando observas una imagen, ¿te preguntas cosas acerca de los personajes/objetos que aparecen en la misma?, dtype: float64"
      ]
     },
     "metadata": {},
     "output_type": "display_data"
    },
    {
     "name": "stdout",
     "output_type": "stream",
     "text": [
      "Conteo de cada valor en Cuando observas una imagen, ¿te preguntas cosas acerca de los personajes/objetos que aparecen en la misma? expresada como valor / cantidad\n"
     ]
    },
    {
     "data": {
      "text/plain": [
       "1    13\n",
       "2    49\n",
       "3    89\n",
       "4    54\n",
       "5    10\n",
       "Name: Cuando observas una imagen, ¿te preguntas cosas acerca de los personajes/objetos que aparecen en la misma?, dtype: int64"
      ]
     },
     "metadata": {},
     "output_type": "display_data"
    },
    {
     "name": "stdout",
     "output_type": "stream",
     "text": [
      "Porcentaje de cada valor en Cuando observas una imagen, ¿te preguntas cosas acerca de los personajes/objetos que aparecen en la misma? expresado como valor / porcentaje\n"
     ]
    },
    {
     "data": {
      "text/plain": [
       "1     6.05\n",
       "2    22.79\n",
       "3    41.40\n",
       "4    25.12\n",
       "5     4.65\n",
       "Name: Cuando observas una imagen, ¿te preguntas cosas acerca de los personajes/objetos que aparecen en la misma?, dtype: float64"
      ]
     },
     "metadata": {},
     "output_type": "display_data"
    },
    {
     "data": {
      "application/vnd.plotly.v1+json": {
       "config": {
        "linkText": "Export to plot.ly",
        "plotlyServerURL": "https://plot.ly",
        "showLink": false
       },
       "data": [
        {
         "marker": {
          "color": [
           "rgb(213,62,79)",
           "rgb(252,141,89)",
           "rgb(254,224,139)",
           "rgb(230,245,152)",
           "rgb(153,213,148)",
           "rgb(50,136,189)"
          ]
         },
         "type": "bar",
         "uid": "a31b3d2b-10c8-485b-9455-bc9ef430c772",
         "x": [
          1,
          2,
          3,
          4,
          5
         ],
         "y": [
          13,
          49,
          89,
          54,
          10
         ]
        }
       ],
       "layout": {
        "bargap": 0.2,
        "xaxis": {
         "ticktext": [
          "1. Nunca",
          "2. Muy pocas veces",
          "3. En ocasiones",
          "4. Bastantes veces",
          "5. Casi siempre o siempre"
         ],
         "tickvals": [
          1,
          2,
          3,
          4,
          5
         ]
        }
       }
      },
      "text/html": [
       "<div id=\"1a5e6ef0-440d-4e19-88a5-8367721609a7\" style=\"height: 525px; width: 100%;\" class=\"plotly-graph-div\"></div><script type=\"text/javascript\">require([\"plotly\"], function(Plotly) { window.PLOTLYENV=window.PLOTLYENV || {};window.PLOTLYENV.BASE_URL=\"https://plot.ly\";\n",
       "if (document.getElementById(\"1a5e6ef0-440d-4e19-88a5-8367721609a7\")) {\n",
       "    Plotly.newPlot(\"1a5e6ef0-440d-4e19-88a5-8367721609a7\", [{\"marker\": {\"color\": [\"rgb(213,62,79)\", \"rgb(252,141,89)\", \"rgb(254,224,139)\", \"rgb(230,245,152)\", \"rgb(153,213,148)\", \"rgb(50,136,189)\"]}, \"x\": [1, 2, 3, 4, 5], \"y\": [13, 49, 89, 54, 10], \"type\": \"bar\", \"uid\": \"a31b3d2b-10c8-485b-9455-bc9ef430c772\"}], {\"bargap\": 0.2, \"xaxis\": {\"ticktext\": [\"1. Nunca\", \"2. Muy pocas veces\", \"3. En ocasiones\", \"4. Bastantes veces\", \"5. Casi siempre o siempre\"], \"tickvals\": [1, 2, 3, 4, 5]}}, {\"showLink\": false, \"linkText\": \"Export to plot.ly\", \"plotlyServerURL\": \"https://plot.ly\"}); \n",
       "}\n",
       "});</script><script type=\"text/javascript\">window.addEventListener(\"resize\", function(){if (document.getElementById(\"1a5e6ef0-440d-4e19-88a5-8367721609a7\")) {window._Plotly.Plots.resize(document.getElementById(\"1a5e6ef0-440d-4e19-88a5-8367721609a7\"));};})</script>"
      ],
      "text/vnd.plotly.v1+html": [
       "<div id=\"1a5e6ef0-440d-4e19-88a5-8367721609a7\" style=\"height: 525px; width: 100%;\" class=\"plotly-graph-div\"></div><script type=\"text/javascript\">require([\"plotly\"], function(Plotly) { window.PLOTLYENV=window.PLOTLYENV || {};window.PLOTLYENV.BASE_URL=\"https://plot.ly\";\n",
       "if (document.getElementById(\"1a5e6ef0-440d-4e19-88a5-8367721609a7\")) {\n",
       "    Plotly.newPlot(\"1a5e6ef0-440d-4e19-88a5-8367721609a7\", [{\"marker\": {\"color\": [\"rgb(213,62,79)\", \"rgb(252,141,89)\", \"rgb(254,224,139)\", \"rgb(230,245,152)\", \"rgb(153,213,148)\", \"rgb(50,136,189)\"]}, \"x\": [1, 2, 3, 4, 5], \"y\": [13, 49, 89, 54, 10], \"type\": \"bar\", \"uid\": \"a31b3d2b-10c8-485b-9455-bc9ef430c772\"}], {\"bargap\": 0.2, \"xaxis\": {\"ticktext\": [\"1. Nunca\", \"2. Muy pocas veces\", \"3. En ocasiones\", \"4. Bastantes veces\", \"5. Casi siempre o siempre\"], \"tickvals\": [1, 2, 3, 4, 5]}}, {\"showLink\": false, \"linkText\": \"Export to plot.ly\", \"plotlyServerURL\": \"https://plot.ly\"}); \n",
       "}\n",
       "});</script><script type=\"text/javascript\">window.addEventListener(\"resize\", function(){if (document.getElementById(\"1a5e6ef0-440d-4e19-88a5-8367721609a7\")) {window._Plotly.Plots.resize(document.getElementById(\"1a5e6ef0-440d-4e19-88a5-8367721609a7\"));};})</script>"
      ]
     },
     "metadata": {},
     "output_type": "display_data"
    },
    {
     "name": "stdout",
     "output_type": "stream",
     "text": [
      "\n",
      "\n",
      "Cluster 4 || variable: ¿Entiendes, generalmente, las intenciones que tiene el autor de una imagen cuando la ves y la compartes?\n",
      "Describiendo la pregunta ¿Entiendes, generalmente, las intenciones que tiene el autor de una imagen cuando la ves y la compartes?\n",
      "Valores numéricos asociados a las respuestas [1, 2, 3, 4, 5]\n",
      "Respuestas posibles a la pregunta/variable ['1. Never', '2. Very rarely', '3. Occasionally', '4. Several times', '5. Almost always or always']\n"
     ]
    },
    {
     "data": {
      "text/plain": [
       "count    215.000000\n",
       "mean       3.032558\n",
       "std        0.982967\n",
       "min        1.000000\n",
       "25%        2.000000\n",
       "50%        3.000000\n",
       "75%        4.000000\n",
       "max        5.000000\n",
       "Name: ¿Entiendes, generalmente, las intenciones que tiene el autor de una imagen cuando la ves y la compartes?, dtype: float64"
      ]
     },
     "metadata": {},
     "output_type": "display_data"
    },
    {
     "name": "stdout",
     "output_type": "stream",
     "text": [
      "Conteo de cada valor en ¿Entiendes, generalmente, las intenciones que tiene el autor de una imagen cuando la ves y la compartes? expresada como valor / cantidad\n"
     ]
    },
    {
     "data": {
      "text/plain": [
       "1    16\n",
       "2    40\n",
       "3    92\n",
       "4    55\n",
       "5    12\n",
       "Name: ¿Entiendes, generalmente, las intenciones que tiene el autor de una imagen cuando la ves y la compartes?, dtype: int64"
      ]
     },
     "metadata": {},
     "output_type": "display_data"
    },
    {
     "name": "stdout",
     "output_type": "stream",
     "text": [
      "Porcentaje de cada valor en ¿Entiendes, generalmente, las intenciones que tiene el autor de una imagen cuando la ves y la compartes? expresado como valor / porcentaje\n"
     ]
    },
    {
     "data": {
      "text/plain": [
       "1     7.44\n",
       "2    18.60\n",
       "3    42.79\n",
       "4    25.58\n",
       "5     5.58\n",
       "Name: ¿Entiendes, generalmente, las intenciones que tiene el autor de una imagen cuando la ves y la compartes?, dtype: float64"
      ]
     },
     "metadata": {},
     "output_type": "display_data"
    },
    {
     "data": {
      "application/vnd.plotly.v1+json": {
       "config": {
        "linkText": "Export to plot.ly",
        "plotlyServerURL": "https://plot.ly",
        "showLink": false
       },
       "data": [
        {
         "marker": {
          "color": [
           "rgb(213,62,79)",
           "rgb(252,141,89)",
           "rgb(254,224,139)",
           "rgb(230,245,152)",
           "rgb(153,213,148)",
           "rgb(50,136,189)"
          ]
         },
         "type": "bar",
         "uid": "d43d7354-7765-4dbf-b2d3-c21149a18b71",
         "x": [
          1,
          2,
          3,
          4,
          5
         ],
         "y": [
          16,
          40,
          92,
          55,
          12
         ]
        }
       ],
       "layout": {
        "bargap": 0.2,
        "xaxis": {
         "ticktext": [
          "1. Never",
          "2. Very rarely",
          "3. Occasionally",
          "4. Several times",
          "5. Almost always or always"
         ],
         "tickvals": [
          1,
          2,
          3,
          4,
          5
         ]
        }
       }
      },
      "text/html": [
       "<div id=\"2fd0e5b6-2901-40bd-a5f8-2704fe1bde8a\" style=\"height: 525px; width: 100%;\" class=\"plotly-graph-div\"></div><script type=\"text/javascript\">require([\"plotly\"], function(Plotly) { window.PLOTLYENV=window.PLOTLYENV || {};window.PLOTLYENV.BASE_URL=\"https://plot.ly\";\n",
       "if (document.getElementById(\"2fd0e5b6-2901-40bd-a5f8-2704fe1bde8a\")) {\n",
       "    Plotly.newPlot(\"2fd0e5b6-2901-40bd-a5f8-2704fe1bde8a\", [{\"marker\": {\"color\": [\"rgb(213,62,79)\", \"rgb(252,141,89)\", \"rgb(254,224,139)\", \"rgb(230,245,152)\", \"rgb(153,213,148)\", \"rgb(50,136,189)\"]}, \"x\": [1, 2, 3, 4, 5], \"y\": [16, 40, 92, 55, 12], \"type\": \"bar\", \"uid\": \"d43d7354-7765-4dbf-b2d3-c21149a18b71\"}], {\"bargap\": 0.2, \"xaxis\": {\"ticktext\": [\"1. Never\", \"2. Very rarely\", \"3. Occasionally\", \"4. Several times\", \"5. Almost always or always\"], \"tickvals\": [1, 2, 3, 4, 5]}}, {\"showLink\": false, \"linkText\": \"Export to plot.ly\", \"plotlyServerURL\": \"https://plot.ly\"}); \n",
       "}\n",
       "});</script><script type=\"text/javascript\">window.addEventListener(\"resize\", function(){if (document.getElementById(\"2fd0e5b6-2901-40bd-a5f8-2704fe1bde8a\")) {window._Plotly.Plots.resize(document.getElementById(\"2fd0e5b6-2901-40bd-a5f8-2704fe1bde8a\"));};})</script>"
      ],
      "text/vnd.plotly.v1+html": [
       "<div id=\"2fd0e5b6-2901-40bd-a5f8-2704fe1bde8a\" style=\"height: 525px; width: 100%;\" class=\"plotly-graph-div\"></div><script type=\"text/javascript\">require([\"plotly\"], function(Plotly) { window.PLOTLYENV=window.PLOTLYENV || {};window.PLOTLYENV.BASE_URL=\"https://plot.ly\";\n",
       "if (document.getElementById(\"2fd0e5b6-2901-40bd-a5f8-2704fe1bde8a\")) {\n",
       "    Plotly.newPlot(\"2fd0e5b6-2901-40bd-a5f8-2704fe1bde8a\", [{\"marker\": {\"color\": [\"rgb(213,62,79)\", \"rgb(252,141,89)\", \"rgb(254,224,139)\", \"rgb(230,245,152)\", \"rgb(153,213,148)\", \"rgb(50,136,189)\"]}, \"x\": [1, 2, 3, 4, 5], \"y\": [16, 40, 92, 55, 12], \"type\": \"bar\", \"uid\": \"d43d7354-7765-4dbf-b2d3-c21149a18b71\"}], {\"bargap\": 0.2, \"xaxis\": {\"ticktext\": [\"1. Never\", \"2. Very rarely\", \"3. Occasionally\", \"4. Several times\", \"5. Almost always or always\"], \"tickvals\": [1, 2, 3, 4, 5]}}, {\"showLink\": false, \"linkText\": \"Export to plot.ly\", \"plotlyServerURL\": \"https://plot.ly\"}); \n",
       "}\n",
       "});</script><script type=\"text/javascript\">window.addEventListener(\"resize\", function(){if (document.getElementById(\"2fd0e5b6-2901-40bd-a5f8-2704fe1bde8a\")) {window._Plotly.Plots.resize(document.getElementById(\"2fd0e5b6-2901-40bd-a5f8-2704fe1bde8a\"));};})</script>"
      ]
     },
     "metadata": {},
     "output_type": "display_data"
    },
    {
     "name": "stdout",
     "output_type": "stream",
     "text": [
      "\n",
      "\n",
      "Cluster 4 || variable: ¿Eres capaz de expresar verbalmente las emociones que te produce una imagen que has visto?\n",
      "Describiendo la pregunta ¿Eres capaz de expresar verbalmente las emociones que te produce una imagen que has visto?\n",
      "Valores numéricos asociados a las respuestas [1, 2, 3, 4, 5]\n",
      "Respuestas posibles a la pregunta/variable ['1. Nunca', '2. Muy pocas veces', '3. En ocasiones', '4. Bastantes veces', '5. Casi siempre o siempre']\n"
     ]
    },
    {
     "data": {
      "text/plain": [
       "count    215.00000\n",
       "mean       3.07907\n",
       "std        0.98031\n",
       "min        1.00000\n",
       "25%        2.00000\n",
       "50%        3.00000\n",
       "75%        4.00000\n",
       "max        5.00000\n",
       "Name: ¿Eres capaz de expresar verbalmente las emociones que te produce una imagen que has visto?, dtype: float64"
      ]
     },
     "metadata": {},
     "output_type": "display_data"
    },
    {
     "name": "stdout",
     "output_type": "stream",
     "text": [
      "Conteo de cada valor en ¿Eres capaz de expresar verbalmente las emociones que te produce una imagen que has visto? expresada como valor / cantidad\n"
     ]
    },
    {
     "data": {
      "text/plain": [
       "1    10\n",
       "2    50\n",
       "3    83\n",
       "4    57\n",
       "5    15\n",
       "Name: ¿Eres capaz de expresar verbalmente las emociones que te produce una imagen que has visto?, dtype: int64"
      ]
     },
     "metadata": {},
     "output_type": "display_data"
    },
    {
     "name": "stdout",
     "output_type": "stream",
     "text": [
      "Porcentaje de cada valor en ¿Eres capaz de expresar verbalmente las emociones que te produce una imagen que has visto? expresado como valor / porcentaje\n"
     ]
    },
    {
     "data": {
      "text/plain": [
       "1     4.65\n",
       "2    23.26\n",
       "3    38.60\n",
       "4    26.51\n",
       "5     6.98\n",
       "Name: ¿Eres capaz de expresar verbalmente las emociones que te produce una imagen que has visto?, dtype: float64"
      ]
     },
     "metadata": {},
     "output_type": "display_data"
    },
    {
     "data": {
      "application/vnd.plotly.v1+json": {
       "config": {
        "linkText": "Export to plot.ly",
        "plotlyServerURL": "https://plot.ly",
        "showLink": false
       },
       "data": [
        {
         "marker": {
          "color": [
           "rgb(213,62,79)",
           "rgb(252,141,89)",
           "rgb(254,224,139)",
           "rgb(230,245,152)",
           "rgb(153,213,148)",
           "rgb(50,136,189)"
          ]
         },
         "type": "bar",
         "uid": "655a290e-8bef-458d-942a-257997c6d97c",
         "x": [
          1,
          2,
          3,
          4,
          5
         ],
         "y": [
          10,
          50,
          83,
          57,
          15
         ]
        }
       ],
       "layout": {
        "bargap": 0.2,
        "xaxis": {
         "ticktext": [
          "1. Nunca",
          "2. Muy pocas veces",
          "3. En ocasiones",
          "4. Bastantes veces",
          "5. Casi siempre o siempre"
         ],
         "tickvals": [
          1,
          2,
          3,
          4,
          5
         ]
        }
       }
      },
      "text/html": [
       "<div id=\"9259b7be-47cb-42bb-b314-7798b1c057a6\" style=\"height: 525px; width: 100%;\" class=\"plotly-graph-div\"></div><script type=\"text/javascript\">require([\"plotly\"], function(Plotly) { window.PLOTLYENV=window.PLOTLYENV || {};window.PLOTLYENV.BASE_URL=\"https://plot.ly\";\n",
       "if (document.getElementById(\"9259b7be-47cb-42bb-b314-7798b1c057a6\")) {\n",
       "    Plotly.newPlot(\"9259b7be-47cb-42bb-b314-7798b1c057a6\", [{\"marker\": {\"color\": [\"rgb(213,62,79)\", \"rgb(252,141,89)\", \"rgb(254,224,139)\", \"rgb(230,245,152)\", \"rgb(153,213,148)\", \"rgb(50,136,189)\"]}, \"x\": [1, 2, 3, 4, 5], \"y\": [10, 50, 83, 57, 15], \"type\": \"bar\", \"uid\": \"655a290e-8bef-458d-942a-257997c6d97c\"}], {\"bargap\": 0.2, \"xaxis\": {\"ticktext\": [\"1. Nunca\", \"2. Muy pocas veces\", \"3. En ocasiones\", \"4. Bastantes veces\", \"5. Casi siempre o siempre\"], \"tickvals\": [1, 2, 3, 4, 5]}}, {\"showLink\": false, \"linkText\": \"Export to plot.ly\", \"plotlyServerURL\": \"https://plot.ly\"}); \n",
       "}\n",
       "});</script><script type=\"text/javascript\">window.addEventListener(\"resize\", function(){if (document.getElementById(\"9259b7be-47cb-42bb-b314-7798b1c057a6\")) {window._Plotly.Plots.resize(document.getElementById(\"9259b7be-47cb-42bb-b314-7798b1c057a6\"));};})</script>"
      ],
      "text/vnd.plotly.v1+html": [
       "<div id=\"9259b7be-47cb-42bb-b314-7798b1c057a6\" style=\"height: 525px; width: 100%;\" class=\"plotly-graph-div\"></div><script type=\"text/javascript\">require([\"plotly\"], function(Plotly) { window.PLOTLYENV=window.PLOTLYENV || {};window.PLOTLYENV.BASE_URL=\"https://plot.ly\";\n",
       "if (document.getElementById(\"9259b7be-47cb-42bb-b314-7798b1c057a6\")) {\n",
       "    Plotly.newPlot(\"9259b7be-47cb-42bb-b314-7798b1c057a6\", [{\"marker\": {\"color\": [\"rgb(213,62,79)\", \"rgb(252,141,89)\", \"rgb(254,224,139)\", \"rgb(230,245,152)\", \"rgb(153,213,148)\", \"rgb(50,136,189)\"]}, \"x\": [1, 2, 3, 4, 5], \"y\": [10, 50, 83, 57, 15], \"type\": \"bar\", \"uid\": \"655a290e-8bef-458d-942a-257997c6d97c\"}], {\"bargap\": 0.2, \"xaxis\": {\"ticktext\": [\"1. Nunca\", \"2. Muy pocas veces\", \"3. En ocasiones\", \"4. Bastantes veces\", \"5. Casi siempre o siempre\"], \"tickvals\": [1, 2, 3, 4, 5]}}, {\"showLink\": false, \"linkText\": \"Export to plot.ly\", \"plotlyServerURL\": \"https://plot.ly\"}); \n",
       "}\n",
       "});</script><script type=\"text/javascript\">window.addEventListener(\"resize\", function(){if (document.getElementById(\"9259b7be-47cb-42bb-b314-7798b1c057a6\")) {window._Plotly.Plots.resize(document.getElementById(\"9259b7be-47cb-42bb-b314-7798b1c057a6\"));};})</script>"
      ]
     },
     "metadata": {},
     "output_type": "display_data"
    },
    {
     "name": "stdout",
     "output_type": "stream",
     "text": [
      "\n",
      "\n",
      "Cluster 3 || variable: Cuando te encuentras con una imagen, ¿intentas entender con qué intención está hecha?\n",
      "Describiendo la pregunta Cuando te encuentras con una imagen, ¿intentas entender con qué intención está hecha?\n",
      "Valores numéricos asociados a las respuestas [1, 2, 3, 4, 5]\n",
      "Respuestas posibles a la pregunta/variable ['1. Nunca', '2. Muy pocas veces', '3. En ocasiones', '4. Bastantes veces', '5. Casi siempre o siempre']\n"
     ]
    },
    {
     "data": {
      "text/plain": [
       "count    27.000000\n",
       "mean      3.074074\n",
       "std       1.206582\n",
       "min       1.000000\n",
       "25%       2.500000\n",
       "50%       3.000000\n",
       "75%       4.000000\n",
       "max       5.000000\n",
       "Name: Cuando te encuentras con una imagen, ¿intentas entender con qué intención está hecha?, dtype: float64"
      ]
     },
     "metadata": {},
     "output_type": "display_data"
    },
    {
     "name": "stdout",
     "output_type": "stream",
     "text": [
      "Conteo de cada valor en Cuando te encuentras con una imagen, ¿intentas entender con qué intención está hecha? expresada como valor / cantidad\n"
     ]
    },
    {
     "data": {
      "text/plain": [
       "1     4\n",
       "2     3\n",
       "3    10\n",
       "4     7\n",
       "5     3\n",
       "Name: Cuando te encuentras con una imagen, ¿intentas entender con qué intención está hecha?, dtype: int64"
      ]
     },
     "metadata": {},
     "output_type": "display_data"
    },
    {
     "name": "stdout",
     "output_type": "stream",
     "text": [
      "Porcentaje de cada valor en Cuando te encuentras con una imagen, ¿intentas entender con qué intención está hecha? expresado como valor / porcentaje\n"
     ]
    },
    {
     "data": {
      "text/plain": [
       "1    14.81\n",
       "2    11.11\n",
       "3    37.04\n",
       "4    25.93\n",
       "5    11.11\n",
       "Name: Cuando te encuentras con una imagen, ¿intentas entender con qué intención está hecha?, dtype: float64"
      ]
     },
     "metadata": {},
     "output_type": "display_data"
    },
    {
     "data": {
      "application/vnd.plotly.v1+json": {
       "config": {
        "linkText": "Export to plot.ly",
        "plotlyServerURL": "https://plot.ly",
        "showLink": false
       },
       "data": [
        {
         "marker": {
          "color": [
           "rgb(213,62,79)",
           "rgb(252,141,89)",
           "rgb(254,224,139)",
           "rgb(230,245,152)",
           "rgb(153,213,148)",
           "rgb(50,136,189)"
          ]
         },
         "type": "bar",
         "uid": "3c9dfcb9-3a79-475f-9ee2-55ca045ae423",
         "x": [
          1,
          2,
          3,
          4,
          5
         ],
         "y": [
          4,
          3,
          10,
          7,
          3
         ]
        }
       ],
       "layout": {
        "bargap": 0.2,
        "xaxis": {
         "ticktext": [
          "1. Nunca",
          "2. Muy pocas veces",
          "3. En ocasiones",
          "4. Bastantes veces",
          "5. Casi siempre o siempre"
         ],
         "tickvals": [
          1,
          2,
          3,
          4,
          5
         ]
        }
       }
      },
      "text/html": [
       "<div id=\"b5d82f86-3d81-422b-9e6c-621ef9f8fac0\" style=\"height: 525px; width: 100%;\" class=\"plotly-graph-div\"></div><script type=\"text/javascript\">require([\"plotly\"], function(Plotly) { window.PLOTLYENV=window.PLOTLYENV || {};window.PLOTLYENV.BASE_URL=\"https://plot.ly\";\n",
       "if (document.getElementById(\"b5d82f86-3d81-422b-9e6c-621ef9f8fac0\")) {\n",
       "    Plotly.newPlot(\"b5d82f86-3d81-422b-9e6c-621ef9f8fac0\", [{\"marker\": {\"color\": [\"rgb(213,62,79)\", \"rgb(252,141,89)\", \"rgb(254,224,139)\", \"rgb(230,245,152)\", \"rgb(153,213,148)\", \"rgb(50,136,189)\"]}, \"x\": [1, 2, 3, 4, 5], \"y\": [4, 3, 10, 7, 3], \"type\": \"bar\", \"uid\": \"3c9dfcb9-3a79-475f-9ee2-55ca045ae423\"}], {\"bargap\": 0.2, \"xaxis\": {\"ticktext\": [\"1. Nunca\", \"2. Muy pocas veces\", \"3. En ocasiones\", \"4. Bastantes veces\", \"5. Casi siempre o siempre\"], \"tickvals\": [1, 2, 3, 4, 5]}}, {\"showLink\": false, \"linkText\": \"Export to plot.ly\", \"plotlyServerURL\": \"https://plot.ly\"}); \n",
       "}\n",
       "});</script><script type=\"text/javascript\">window.addEventListener(\"resize\", function(){if (document.getElementById(\"b5d82f86-3d81-422b-9e6c-621ef9f8fac0\")) {window._Plotly.Plots.resize(document.getElementById(\"b5d82f86-3d81-422b-9e6c-621ef9f8fac0\"));};})</script>"
      ],
      "text/vnd.plotly.v1+html": [
       "<div id=\"b5d82f86-3d81-422b-9e6c-621ef9f8fac0\" style=\"height: 525px; width: 100%;\" class=\"plotly-graph-div\"></div><script type=\"text/javascript\">require([\"plotly\"], function(Plotly) { window.PLOTLYENV=window.PLOTLYENV || {};window.PLOTLYENV.BASE_URL=\"https://plot.ly\";\n",
       "if (document.getElementById(\"b5d82f86-3d81-422b-9e6c-621ef9f8fac0\")) {\n",
       "    Plotly.newPlot(\"b5d82f86-3d81-422b-9e6c-621ef9f8fac0\", [{\"marker\": {\"color\": [\"rgb(213,62,79)\", \"rgb(252,141,89)\", \"rgb(254,224,139)\", \"rgb(230,245,152)\", \"rgb(153,213,148)\", \"rgb(50,136,189)\"]}, \"x\": [1, 2, 3, 4, 5], \"y\": [4, 3, 10, 7, 3], \"type\": \"bar\", \"uid\": \"3c9dfcb9-3a79-475f-9ee2-55ca045ae423\"}], {\"bargap\": 0.2, \"xaxis\": {\"ticktext\": [\"1. Nunca\", \"2. Muy pocas veces\", \"3. En ocasiones\", \"4. Bastantes veces\", \"5. Casi siempre o siempre\"], \"tickvals\": [1, 2, 3, 4, 5]}}, {\"showLink\": false, \"linkText\": \"Export to plot.ly\", \"plotlyServerURL\": \"https://plot.ly\"}); \n",
       "}\n",
       "});</script><script type=\"text/javascript\">window.addEventListener(\"resize\", function(){if (document.getElementById(\"b5d82f86-3d81-422b-9e6c-621ef9f8fac0\")) {window._Plotly.Plots.resize(document.getElementById(\"b5d82f86-3d81-422b-9e6c-621ef9f8fac0\"));};})</script>"
      ]
     },
     "metadata": {},
     "output_type": "display_data"
    },
    {
     "name": "stdout",
     "output_type": "stream",
     "text": [
      "\n",
      "\n",
      "Cluster 3 || variable: Cuando recibes o consumes una imagen, ¿la comparas con tu propia realidad? ¿Intentas encontrar en tu entorno cierto parecido?\n",
      "Describiendo la pregunta Cuando recibes o consumes una imagen, ¿la comparas con tu propia realidad? ¿Intentas encontrar en tu entorno cierto parecido?\n",
      "Valores numéricos asociados a las respuestas [1, 2, 3, 4, 5]\n",
      "Respuestas posibles a la pregunta/variable ['1. Nunca', '2. Muy pocas veces', '3. En ocasiones', '4. Bastantes veces', '5. Casi siempre o siempre']\n"
     ]
    },
    {
     "data": {
      "text/plain": [
       "count    27.000000\n",
       "mean      2.888889\n",
       "std       1.154701\n",
       "min       1.000000\n",
       "25%       2.000000\n",
       "50%       3.000000\n",
       "75%       4.000000\n",
       "max       5.000000\n",
       "Name: Cuando recibes o consumes una imagen, ¿la comparas con tu propia realidad? ¿Intentas encontrar en tu entorno cierto parecido?, dtype: float64"
      ]
     },
     "metadata": {},
     "output_type": "display_data"
    },
    {
     "name": "stdout",
     "output_type": "stream",
     "text": [
      "Conteo de cada valor en Cuando recibes o consumes una imagen, ¿la comparas con tu propia realidad? ¿Intentas encontrar en tu entorno cierto parecido? expresada como valor / cantidad\n"
     ]
    },
    {
     "data": {
      "text/plain": [
       "1    3\n",
       "2    8\n",
       "3    7\n",
       "4    7\n",
       "5    2\n",
       "Name: Cuando recibes o consumes una imagen, ¿la comparas con tu propia realidad? ¿Intentas encontrar en tu entorno cierto parecido?, dtype: int64"
      ]
     },
     "metadata": {},
     "output_type": "display_data"
    },
    {
     "name": "stdout",
     "output_type": "stream",
     "text": [
      "Porcentaje de cada valor en Cuando recibes o consumes una imagen, ¿la comparas con tu propia realidad? ¿Intentas encontrar en tu entorno cierto parecido? expresado como valor / porcentaje\n"
     ]
    },
    {
     "data": {
      "text/plain": [
       "1    11.11\n",
       "2    29.63\n",
       "3    25.93\n",
       "4    25.93\n",
       "5     7.41\n",
       "Name: Cuando recibes o consumes una imagen, ¿la comparas con tu propia realidad? ¿Intentas encontrar en tu entorno cierto parecido?, dtype: float64"
      ]
     },
     "metadata": {},
     "output_type": "display_data"
    },
    {
     "data": {
      "application/vnd.plotly.v1+json": {
       "config": {
        "linkText": "Export to plot.ly",
        "plotlyServerURL": "https://plot.ly",
        "showLink": false
       },
       "data": [
        {
         "marker": {
          "color": [
           "rgb(213,62,79)",
           "rgb(252,141,89)",
           "rgb(254,224,139)",
           "rgb(230,245,152)",
           "rgb(153,213,148)",
           "rgb(50,136,189)"
          ]
         },
         "type": "bar",
         "uid": "ac383138-048c-47d3-af98-075f35f54e4b",
         "x": [
          1,
          2,
          3,
          4,
          5
         ],
         "y": [
          3,
          8,
          7,
          7,
          2
         ]
        }
       ],
       "layout": {
        "bargap": 0.2,
        "xaxis": {
         "ticktext": [
          "1. Nunca",
          "2. Muy pocas veces",
          "3. En ocasiones",
          "4. Bastantes veces",
          "5. Casi siempre o siempre"
         ],
         "tickvals": [
          1,
          2,
          3,
          4,
          5
         ]
        }
       }
      },
      "text/html": [
       "<div id=\"39a3c740-afe9-4c6c-bbb3-694e47cb4c28\" style=\"height: 525px; width: 100%;\" class=\"plotly-graph-div\"></div><script type=\"text/javascript\">require([\"plotly\"], function(Plotly) { window.PLOTLYENV=window.PLOTLYENV || {};window.PLOTLYENV.BASE_URL=\"https://plot.ly\";\n",
       "if (document.getElementById(\"39a3c740-afe9-4c6c-bbb3-694e47cb4c28\")) {\n",
       "    Plotly.newPlot(\"39a3c740-afe9-4c6c-bbb3-694e47cb4c28\", [{\"marker\": {\"color\": [\"rgb(213,62,79)\", \"rgb(252,141,89)\", \"rgb(254,224,139)\", \"rgb(230,245,152)\", \"rgb(153,213,148)\", \"rgb(50,136,189)\"]}, \"x\": [1, 2, 3, 4, 5], \"y\": [3, 8, 7, 7, 2], \"type\": \"bar\", \"uid\": \"ac383138-048c-47d3-af98-075f35f54e4b\"}], {\"bargap\": 0.2, \"xaxis\": {\"ticktext\": [\"1. Nunca\", \"2. Muy pocas veces\", \"3. En ocasiones\", \"4. Bastantes veces\", \"5. Casi siempre o siempre\"], \"tickvals\": [1, 2, 3, 4, 5]}}, {\"showLink\": false, \"linkText\": \"Export to plot.ly\", \"plotlyServerURL\": \"https://plot.ly\"}); \n",
       "}\n",
       "});</script><script type=\"text/javascript\">window.addEventListener(\"resize\", function(){if (document.getElementById(\"39a3c740-afe9-4c6c-bbb3-694e47cb4c28\")) {window._Plotly.Plots.resize(document.getElementById(\"39a3c740-afe9-4c6c-bbb3-694e47cb4c28\"));};})</script>"
      ],
      "text/vnd.plotly.v1+html": [
       "<div id=\"39a3c740-afe9-4c6c-bbb3-694e47cb4c28\" style=\"height: 525px; width: 100%;\" class=\"plotly-graph-div\"></div><script type=\"text/javascript\">require([\"plotly\"], function(Plotly) { window.PLOTLYENV=window.PLOTLYENV || {};window.PLOTLYENV.BASE_URL=\"https://plot.ly\";\n",
       "if (document.getElementById(\"39a3c740-afe9-4c6c-bbb3-694e47cb4c28\")) {\n",
       "    Plotly.newPlot(\"39a3c740-afe9-4c6c-bbb3-694e47cb4c28\", [{\"marker\": {\"color\": [\"rgb(213,62,79)\", \"rgb(252,141,89)\", \"rgb(254,224,139)\", \"rgb(230,245,152)\", \"rgb(153,213,148)\", \"rgb(50,136,189)\"]}, \"x\": [1, 2, 3, 4, 5], \"y\": [3, 8, 7, 7, 2], \"type\": \"bar\", \"uid\": \"ac383138-048c-47d3-af98-075f35f54e4b\"}], {\"bargap\": 0.2, \"xaxis\": {\"ticktext\": [\"1. Nunca\", \"2. Muy pocas veces\", \"3. En ocasiones\", \"4. Bastantes veces\", \"5. Casi siempre o siempre\"], \"tickvals\": [1, 2, 3, 4, 5]}}, {\"showLink\": false, \"linkText\": \"Export to plot.ly\", \"plotlyServerURL\": \"https://plot.ly\"}); \n",
       "}\n",
       "});</script><script type=\"text/javascript\">window.addEventListener(\"resize\", function(){if (document.getElementById(\"39a3c740-afe9-4c6c-bbb3-694e47cb4c28\")) {window._Plotly.Plots.resize(document.getElementById(\"39a3c740-afe9-4c6c-bbb3-694e47cb4c28\"));};})</script>"
      ]
     },
     "metadata": {},
     "output_type": "display_data"
    },
    {
     "name": "stdout",
     "output_type": "stream",
     "text": [
      "\n",
      "\n",
      "Cluster 3 || variable: Cuando recibes o consumes una imagen, ¿piensas en el modo en que fue obtenida (técnicamente)?\n",
      "Describiendo la pregunta Cuando recibes o consumes una imagen, ¿piensas en el modo en que fue obtenida (técnicamente)?\n",
      "Valores numéricos asociados a las respuestas [1, 2, 3, 4, 5]\n",
      "Respuestas posibles a la pregunta/variable ['1. Nunca', '2. Muy pocas veces', '3. En ocasiones', '4. Bastantes veces', '5. Casi siempre o siempre']\n"
     ]
    },
    {
     "data": {
      "text/plain": [
       "count    27.000000\n",
       "mean      2.814815\n",
       "std       1.210119\n",
       "min       1.000000\n",
       "25%       2.000000\n",
       "50%       3.000000\n",
       "75%       3.500000\n",
       "max       5.000000\n",
       "Name: Cuando recibes o consumes una imagen, ¿piensas en el modo en que fue obtenida (técnicamente)?, dtype: float64"
      ]
     },
     "metadata": {},
     "output_type": "display_data"
    },
    {
     "name": "stdout",
     "output_type": "stream",
     "text": [
      "Conteo de cada valor en Cuando recibes o consumes una imagen, ¿piensas en el modo en que fue obtenida (técnicamente)? expresada como valor / cantidad\n"
     ]
    },
    {
     "data": {
      "text/plain": [
       "1    4\n",
       "2    7\n",
       "3    9\n",
       "4    4\n",
       "5    3\n",
       "Name: Cuando recibes o consumes una imagen, ¿piensas en el modo en que fue obtenida (técnicamente)?, dtype: int64"
      ]
     },
     "metadata": {},
     "output_type": "display_data"
    },
    {
     "name": "stdout",
     "output_type": "stream",
     "text": [
      "Porcentaje de cada valor en Cuando recibes o consumes una imagen, ¿piensas en el modo en que fue obtenida (técnicamente)? expresado como valor / porcentaje\n"
     ]
    },
    {
     "data": {
      "text/plain": [
       "1    14.81\n",
       "2    25.93\n",
       "3    33.33\n",
       "4    14.81\n",
       "5    11.11\n",
       "Name: Cuando recibes o consumes una imagen, ¿piensas en el modo en que fue obtenida (técnicamente)?, dtype: float64"
      ]
     },
     "metadata": {},
     "output_type": "display_data"
    },
    {
     "data": {
      "application/vnd.plotly.v1+json": {
       "config": {
        "linkText": "Export to plot.ly",
        "plotlyServerURL": "https://plot.ly",
        "showLink": false
       },
       "data": [
        {
         "marker": {
          "color": [
           "rgb(213,62,79)",
           "rgb(252,141,89)",
           "rgb(254,224,139)",
           "rgb(230,245,152)",
           "rgb(153,213,148)",
           "rgb(50,136,189)"
          ]
         },
         "type": "bar",
         "uid": "2792d141-8676-4a7b-992d-5c025ca29db9",
         "x": [
          1,
          2,
          3,
          4,
          5
         ],
         "y": [
          4,
          7,
          9,
          4,
          3
         ]
        }
       ],
       "layout": {
        "bargap": 0.2,
        "xaxis": {
         "ticktext": [
          "1. Nunca",
          "2. Muy pocas veces",
          "3. En ocasiones",
          "4. Bastantes veces",
          "5. Casi siempre o siempre"
         ],
         "tickvals": [
          1,
          2,
          3,
          4,
          5
         ]
        }
       }
      },
      "text/html": [
       "<div id=\"290349a8-05b8-4dd5-b2a3-8dcf6f7a4f6b\" style=\"height: 525px; width: 100%;\" class=\"plotly-graph-div\"></div><script type=\"text/javascript\">require([\"plotly\"], function(Plotly) { window.PLOTLYENV=window.PLOTLYENV || {};window.PLOTLYENV.BASE_URL=\"https://plot.ly\";\n",
       "if (document.getElementById(\"290349a8-05b8-4dd5-b2a3-8dcf6f7a4f6b\")) {\n",
       "    Plotly.newPlot(\"290349a8-05b8-4dd5-b2a3-8dcf6f7a4f6b\", [{\"marker\": {\"color\": [\"rgb(213,62,79)\", \"rgb(252,141,89)\", \"rgb(254,224,139)\", \"rgb(230,245,152)\", \"rgb(153,213,148)\", \"rgb(50,136,189)\"]}, \"x\": [1, 2, 3, 4, 5], \"y\": [4, 7, 9, 4, 3], \"type\": \"bar\", \"uid\": \"2792d141-8676-4a7b-992d-5c025ca29db9\"}], {\"bargap\": 0.2, \"xaxis\": {\"ticktext\": [\"1. Nunca\", \"2. Muy pocas veces\", \"3. En ocasiones\", \"4. Bastantes veces\", \"5. Casi siempre o siempre\"], \"tickvals\": [1, 2, 3, 4, 5]}}, {\"showLink\": false, \"linkText\": \"Export to plot.ly\", \"plotlyServerURL\": \"https://plot.ly\"}); \n",
       "}\n",
       "});</script><script type=\"text/javascript\">window.addEventListener(\"resize\", function(){if (document.getElementById(\"290349a8-05b8-4dd5-b2a3-8dcf6f7a4f6b\")) {window._Plotly.Plots.resize(document.getElementById(\"290349a8-05b8-4dd5-b2a3-8dcf6f7a4f6b\"));};})</script>"
      ],
      "text/vnd.plotly.v1+html": [
       "<div id=\"290349a8-05b8-4dd5-b2a3-8dcf6f7a4f6b\" style=\"height: 525px; width: 100%;\" class=\"plotly-graph-div\"></div><script type=\"text/javascript\">require([\"plotly\"], function(Plotly) { window.PLOTLYENV=window.PLOTLYENV || {};window.PLOTLYENV.BASE_URL=\"https://plot.ly\";\n",
       "if (document.getElementById(\"290349a8-05b8-4dd5-b2a3-8dcf6f7a4f6b\")) {\n",
       "    Plotly.newPlot(\"290349a8-05b8-4dd5-b2a3-8dcf6f7a4f6b\", [{\"marker\": {\"color\": [\"rgb(213,62,79)\", \"rgb(252,141,89)\", \"rgb(254,224,139)\", \"rgb(230,245,152)\", \"rgb(153,213,148)\", \"rgb(50,136,189)\"]}, \"x\": [1, 2, 3, 4, 5], \"y\": [4, 7, 9, 4, 3], \"type\": \"bar\", \"uid\": \"2792d141-8676-4a7b-992d-5c025ca29db9\"}], {\"bargap\": 0.2, \"xaxis\": {\"ticktext\": [\"1. Nunca\", \"2. Muy pocas veces\", \"3. En ocasiones\", \"4. Bastantes veces\", \"5. Casi siempre o siempre\"], \"tickvals\": [1, 2, 3, 4, 5]}}, {\"showLink\": false, \"linkText\": \"Export to plot.ly\", \"plotlyServerURL\": \"https://plot.ly\"}); \n",
       "}\n",
       "});</script><script type=\"text/javascript\">window.addEventListener(\"resize\", function(){if (document.getElementById(\"290349a8-05b8-4dd5-b2a3-8dcf6f7a4f6b\")) {window._Plotly.Plots.resize(document.getElementById(\"290349a8-05b8-4dd5-b2a3-8dcf6f7a4f6b\"));};})</script>"
      ]
     },
     "metadata": {},
     "output_type": "display_data"
    },
    {
     "name": "stdout",
     "output_type": "stream",
     "text": [
      "\n",
      "\n",
      "Cluster 3 || variable: Cuando observas una imagen, ¿te preguntas cosas acerca de los personajes/objetos que aparecen en la misma?\n",
      "Describiendo la pregunta Cuando observas una imagen, ¿te preguntas cosas acerca de los personajes/objetos que aparecen en la misma?\n",
      "Valores numéricos asociados a las respuestas [1, 2, 3, 4, 5]\n",
      "Respuestas posibles a la pregunta/variable ['1. Nunca', '2. Muy pocas veces', '3. En ocasiones', '4. Bastantes veces', '5. Casi siempre o siempre']\n"
     ]
    },
    {
     "data": {
      "text/plain": [
       "count    27.000000\n",
       "mean      3.629630\n",
       "std       0.966681\n",
       "min       1.000000\n",
       "25%       3.000000\n",
       "50%       4.000000\n",
       "75%       4.000000\n",
       "max       5.000000\n",
       "Name: Cuando observas una imagen, ¿te preguntas cosas acerca de los personajes/objetos que aparecen en la misma?, dtype: float64"
      ]
     },
     "metadata": {},
     "output_type": "display_data"
    },
    {
     "name": "stdout",
     "output_type": "stream",
     "text": [
      "Conteo de cada valor en Cuando observas una imagen, ¿te preguntas cosas acerca de los personajes/objetos que aparecen en la misma? expresada como valor / cantidad\n"
     ]
    },
    {
     "data": {
      "text/plain": [
       "1     1\n",
       "2     1\n",
       "3    10\n",
       "4    10\n",
       "5     5\n",
       "Name: Cuando observas una imagen, ¿te preguntas cosas acerca de los personajes/objetos que aparecen en la misma?, dtype: int64"
      ]
     },
     "metadata": {},
     "output_type": "display_data"
    },
    {
     "name": "stdout",
     "output_type": "stream",
     "text": [
      "Porcentaje de cada valor en Cuando observas una imagen, ¿te preguntas cosas acerca de los personajes/objetos que aparecen en la misma? expresado como valor / porcentaje\n"
     ]
    },
    {
     "data": {
      "text/plain": [
       "1     3.70\n",
       "2     3.70\n",
       "3    37.04\n",
       "4    37.04\n",
       "5    18.52\n",
       "Name: Cuando observas una imagen, ¿te preguntas cosas acerca de los personajes/objetos que aparecen en la misma?, dtype: float64"
      ]
     },
     "metadata": {},
     "output_type": "display_data"
    },
    {
     "data": {
      "application/vnd.plotly.v1+json": {
       "config": {
        "linkText": "Export to plot.ly",
        "plotlyServerURL": "https://plot.ly",
        "showLink": false
       },
       "data": [
        {
         "marker": {
          "color": [
           "rgb(213,62,79)",
           "rgb(252,141,89)",
           "rgb(254,224,139)",
           "rgb(230,245,152)",
           "rgb(153,213,148)",
           "rgb(50,136,189)"
          ]
         },
         "type": "bar",
         "uid": "15db8664-f1ca-4964-af63-d508f2345e07",
         "x": [
          1,
          2,
          3,
          4,
          5
         ],
         "y": [
          1,
          1,
          10,
          10,
          5
         ]
        }
       ],
       "layout": {
        "bargap": 0.2,
        "xaxis": {
         "ticktext": [
          "1. Nunca",
          "2. Muy pocas veces",
          "3. En ocasiones",
          "4. Bastantes veces",
          "5. Casi siempre o siempre"
         ],
         "tickvals": [
          1,
          2,
          3,
          4,
          5
         ]
        }
       }
      },
      "text/html": [
       "<div id=\"ee65c9a0-e8fe-485d-892a-28934ad291f5\" style=\"height: 525px; width: 100%;\" class=\"plotly-graph-div\"></div><script type=\"text/javascript\">require([\"plotly\"], function(Plotly) { window.PLOTLYENV=window.PLOTLYENV || {};window.PLOTLYENV.BASE_URL=\"https://plot.ly\";\n",
       "if (document.getElementById(\"ee65c9a0-e8fe-485d-892a-28934ad291f5\")) {\n",
       "    Plotly.newPlot(\"ee65c9a0-e8fe-485d-892a-28934ad291f5\", [{\"marker\": {\"color\": [\"rgb(213,62,79)\", \"rgb(252,141,89)\", \"rgb(254,224,139)\", \"rgb(230,245,152)\", \"rgb(153,213,148)\", \"rgb(50,136,189)\"]}, \"x\": [1, 2, 3, 4, 5], \"y\": [1, 1, 10, 10, 5], \"type\": \"bar\", \"uid\": \"15db8664-f1ca-4964-af63-d508f2345e07\"}], {\"bargap\": 0.2, \"xaxis\": {\"ticktext\": [\"1. Nunca\", \"2. Muy pocas veces\", \"3. En ocasiones\", \"4. Bastantes veces\", \"5. Casi siempre o siempre\"], \"tickvals\": [1, 2, 3, 4, 5]}}, {\"showLink\": false, \"linkText\": \"Export to plot.ly\", \"plotlyServerURL\": \"https://plot.ly\"}); \n",
       "}\n",
       "});</script><script type=\"text/javascript\">window.addEventListener(\"resize\", function(){if (document.getElementById(\"ee65c9a0-e8fe-485d-892a-28934ad291f5\")) {window._Plotly.Plots.resize(document.getElementById(\"ee65c9a0-e8fe-485d-892a-28934ad291f5\"));};})</script>"
      ],
      "text/vnd.plotly.v1+html": [
       "<div id=\"ee65c9a0-e8fe-485d-892a-28934ad291f5\" style=\"height: 525px; width: 100%;\" class=\"plotly-graph-div\"></div><script type=\"text/javascript\">require([\"plotly\"], function(Plotly) { window.PLOTLYENV=window.PLOTLYENV || {};window.PLOTLYENV.BASE_URL=\"https://plot.ly\";\n",
       "if (document.getElementById(\"ee65c9a0-e8fe-485d-892a-28934ad291f5\")) {\n",
       "    Plotly.newPlot(\"ee65c9a0-e8fe-485d-892a-28934ad291f5\", [{\"marker\": {\"color\": [\"rgb(213,62,79)\", \"rgb(252,141,89)\", \"rgb(254,224,139)\", \"rgb(230,245,152)\", \"rgb(153,213,148)\", \"rgb(50,136,189)\"]}, \"x\": [1, 2, 3, 4, 5], \"y\": [1, 1, 10, 10, 5], \"type\": \"bar\", \"uid\": \"15db8664-f1ca-4964-af63-d508f2345e07\"}], {\"bargap\": 0.2, \"xaxis\": {\"ticktext\": [\"1. Nunca\", \"2. Muy pocas veces\", \"3. En ocasiones\", \"4. Bastantes veces\", \"5. Casi siempre o siempre\"], \"tickvals\": [1, 2, 3, 4, 5]}}, {\"showLink\": false, \"linkText\": \"Export to plot.ly\", \"plotlyServerURL\": \"https://plot.ly\"}); \n",
       "}\n",
       "});</script><script type=\"text/javascript\">window.addEventListener(\"resize\", function(){if (document.getElementById(\"ee65c9a0-e8fe-485d-892a-28934ad291f5\")) {window._Plotly.Plots.resize(document.getElementById(\"ee65c9a0-e8fe-485d-892a-28934ad291f5\"));};})</script>"
      ]
     },
     "metadata": {},
     "output_type": "display_data"
    },
    {
     "name": "stdout",
     "output_type": "stream",
     "text": [
      "\n",
      "\n",
      "Cluster 3 || variable: ¿Entiendes, generalmente, las intenciones que tiene el autor de una imagen cuando la ves y la compartes?\n",
      "Describiendo la pregunta ¿Entiendes, generalmente, las intenciones que tiene el autor de una imagen cuando la ves y la compartes?\n",
      "Valores numéricos asociados a las respuestas [1, 2, 3, 4, 5]\n",
      "Respuestas posibles a la pregunta/variable ['1. Never', '2. Very rarely', '3. Occasionally', '4. Several times', '5. Almost always or always']\n"
     ]
    },
    {
     "data": {
      "text/plain": [
       "count    27.000000\n",
       "mean      2.962963\n",
       "std       1.285466\n",
       "min       1.000000\n",
       "25%       2.000000\n",
       "50%       3.000000\n",
       "75%       4.000000\n",
       "max       5.000000\n",
       "Name: ¿Entiendes, generalmente, las intenciones que tiene el autor de una imagen cuando la ves y la compartes?, dtype: float64"
      ]
     },
     "metadata": {},
     "output_type": "display_data"
    },
    {
     "name": "stdout",
     "output_type": "stream",
     "text": [
      "Conteo de cada valor en ¿Entiendes, generalmente, las intenciones que tiene el autor de una imagen cuando la ves y la compartes? expresada como valor / cantidad\n"
     ]
    },
    {
     "data": {
      "text/plain": [
       "1    5\n",
       "2    4\n",
       "3    8\n",
       "4    7\n",
       "5    3\n",
       "Name: ¿Entiendes, generalmente, las intenciones que tiene el autor de una imagen cuando la ves y la compartes?, dtype: int64"
      ]
     },
     "metadata": {},
     "output_type": "display_data"
    },
    {
     "name": "stdout",
     "output_type": "stream",
     "text": [
      "Porcentaje de cada valor en ¿Entiendes, generalmente, las intenciones que tiene el autor de una imagen cuando la ves y la compartes? expresado como valor / porcentaje\n"
     ]
    },
    {
     "data": {
      "text/plain": [
       "1    18.52\n",
       "2    14.81\n",
       "3    29.63\n",
       "4    25.93\n",
       "5    11.11\n",
       "Name: ¿Entiendes, generalmente, las intenciones que tiene el autor de una imagen cuando la ves y la compartes?, dtype: float64"
      ]
     },
     "metadata": {},
     "output_type": "display_data"
    },
    {
     "data": {
      "application/vnd.plotly.v1+json": {
       "config": {
        "linkText": "Export to plot.ly",
        "plotlyServerURL": "https://plot.ly",
        "showLink": false
       },
       "data": [
        {
         "marker": {
          "color": [
           "rgb(213,62,79)",
           "rgb(252,141,89)",
           "rgb(254,224,139)",
           "rgb(230,245,152)",
           "rgb(153,213,148)",
           "rgb(50,136,189)"
          ]
         },
         "type": "bar",
         "uid": "0295097a-5c62-4892-8833-87addac7eac1",
         "x": [
          1,
          2,
          3,
          4,
          5
         ],
         "y": [
          5,
          4,
          8,
          7,
          3
         ]
        }
       ],
       "layout": {
        "bargap": 0.2,
        "xaxis": {
         "ticktext": [
          "1. Never",
          "2. Very rarely",
          "3. Occasionally",
          "4. Several times",
          "5. Almost always or always"
         ],
         "tickvals": [
          1,
          2,
          3,
          4,
          5
         ]
        }
       }
      },
      "text/html": [
       "<div id=\"d5573646-30b8-4ebf-8d31-e40410e2ce9e\" style=\"height: 525px; width: 100%;\" class=\"plotly-graph-div\"></div><script type=\"text/javascript\">require([\"plotly\"], function(Plotly) { window.PLOTLYENV=window.PLOTLYENV || {};window.PLOTLYENV.BASE_URL=\"https://plot.ly\";\n",
       "if (document.getElementById(\"d5573646-30b8-4ebf-8d31-e40410e2ce9e\")) {\n",
       "    Plotly.newPlot(\"d5573646-30b8-4ebf-8d31-e40410e2ce9e\", [{\"marker\": {\"color\": [\"rgb(213,62,79)\", \"rgb(252,141,89)\", \"rgb(254,224,139)\", \"rgb(230,245,152)\", \"rgb(153,213,148)\", \"rgb(50,136,189)\"]}, \"x\": [1, 2, 3, 4, 5], \"y\": [5, 4, 8, 7, 3], \"type\": \"bar\", \"uid\": \"0295097a-5c62-4892-8833-87addac7eac1\"}], {\"bargap\": 0.2, \"xaxis\": {\"ticktext\": [\"1. Never\", \"2. Very rarely\", \"3. Occasionally\", \"4. Several times\", \"5. Almost always or always\"], \"tickvals\": [1, 2, 3, 4, 5]}}, {\"showLink\": false, \"linkText\": \"Export to plot.ly\", \"plotlyServerURL\": \"https://plot.ly\"}); \n",
       "}\n",
       "});</script><script type=\"text/javascript\">window.addEventListener(\"resize\", function(){if (document.getElementById(\"d5573646-30b8-4ebf-8d31-e40410e2ce9e\")) {window._Plotly.Plots.resize(document.getElementById(\"d5573646-30b8-4ebf-8d31-e40410e2ce9e\"));};})</script>"
      ],
      "text/vnd.plotly.v1+html": [
       "<div id=\"d5573646-30b8-4ebf-8d31-e40410e2ce9e\" style=\"height: 525px; width: 100%;\" class=\"plotly-graph-div\"></div><script type=\"text/javascript\">require([\"plotly\"], function(Plotly) { window.PLOTLYENV=window.PLOTLYENV || {};window.PLOTLYENV.BASE_URL=\"https://plot.ly\";\n",
       "if (document.getElementById(\"d5573646-30b8-4ebf-8d31-e40410e2ce9e\")) {\n",
       "    Plotly.newPlot(\"d5573646-30b8-4ebf-8d31-e40410e2ce9e\", [{\"marker\": {\"color\": [\"rgb(213,62,79)\", \"rgb(252,141,89)\", \"rgb(254,224,139)\", \"rgb(230,245,152)\", \"rgb(153,213,148)\", \"rgb(50,136,189)\"]}, \"x\": [1, 2, 3, 4, 5], \"y\": [5, 4, 8, 7, 3], \"type\": \"bar\", \"uid\": \"0295097a-5c62-4892-8833-87addac7eac1\"}], {\"bargap\": 0.2, \"xaxis\": {\"ticktext\": [\"1. Never\", \"2. Very rarely\", \"3. Occasionally\", \"4. Several times\", \"5. Almost always or always\"], \"tickvals\": [1, 2, 3, 4, 5]}}, {\"showLink\": false, \"linkText\": \"Export to plot.ly\", \"plotlyServerURL\": \"https://plot.ly\"}); \n",
       "}\n",
       "});</script><script type=\"text/javascript\">window.addEventListener(\"resize\", function(){if (document.getElementById(\"d5573646-30b8-4ebf-8d31-e40410e2ce9e\")) {window._Plotly.Plots.resize(document.getElementById(\"d5573646-30b8-4ebf-8d31-e40410e2ce9e\"));};})</script>"
      ]
     },
     "metadata": {},
     "output_type": "display_data"
    },
    {
     "name": "stdout",
     "output_type": "stream",
     "text": [
      "\n",
      "\n",
      "Cluster 3 || variable: ¿Eres capaz de expresar verbalmente las emociones que te produce una imagen que has visto?\n",
      "Describiendo la pregunta ¿Eres capaz de expresar verbalmente las emociones que te produce una imagen que has visto?\n",
      "Valores numéricos asociados a las respuestas [1, 2, 3, 4, 5]\n",
      "Respuestas posibles a la pregunta/variable ['1. Nunca', '2. Muy pocas veces', '3. En ocasiones', '4. Bastantes veces', '5. Casi siempre o siempre']\n"
     ]
    },
    {
     "data": {
      "text/plain": [
       "count    27.000000\n",
       "mean      3.111111\n",
       "std       0.891556\n",
       "min       1.000000\n",
       "25%       3.000000\n",
       "50%       3.000000\n",
       "75%       4.000000\n",
       "max       5.000000\n",
       "Name: ¿Eres capaz de expresar verbalmente las emociones que te produce una imagen que has visto?, dtype: float64"
      ]
     },
     "metadata": {},
     "output_type": "display_data"
    },
    {
     "name": "stdout",
     "output_type": "stream",
     "text": [
      "Conteo de cada valor en ¿Eres capaz de expresar verbalmente las emociones que te produce una imagen que has visto? expresada como valor / cantidad\n"
     ]
    },
    {
     "data": {
      "text/plain": [
       "1     1\n",
       "2     5\n",
       "3    12\n",
       "4     8\n",
       "5     1\n",
       "Name: ¿Eres capaz de expresar verbalmente las emociones que te produce una imagen que has visto?, dtype: int64"
      ]
     },
     "metadata": {},
     "output_type": "display_data"
    },
    {
     "name": "stdout",
     "output_type": "stream",
     "text": [
      "Porcentaje de cada valor en ¿Eres capaz de expresar verbalmente las emociones que te produce una imagen que has visto? expresado como valor / porcentaje\n"
     ]
    },
    {
     "data": {
      "text/plain": [
       "1     3.70\n",
       "2    18.52\n",
       "3    44.44\n",
       "4    29.63\n",
       "5     3.70\n",
       "Name: ¿Eres capaz de expresar verbalmente las emociones que te produce una imagen que has visto?, dtype: float64"
      ]
     },
     "metadata": {},
     "output_type": "display_data"
    },
    {
     "data": {
      "application/vnd.plotly.v1+json": {
       "config": {
        "linkText": "Export to plot.ly",
        "plotlyServerURL": "https://plot.ly",
        "showLink": false
       },
       "data": [
        {
         "marker": {
          "color": [
           "rgb(213,62,79)",
           "rgb(252,141,89)",
           "rgb(254,224,139)",
           "rgb(230,245,152)",
           "rgb(153,213,148)",
           "rgb(50,136,189)"
          ]
         },
         "type": "bar",
         "uid": "769ab0c3-f68c-41b7-9aa1-4c0481c321fb",
         "x": [
          1,
          2,
          3,
          4,
          5
         ],
         "y": [
          1,
          5,
          12,
          8,
          1
         ]
        }
       ],
       "layout": {
        "bargap": 0.2,
        "xaxis": {
         "ticktext": [
          "1. Nunca",
          "2. Muy pocas veces",
          "3. En ocasiones",
          "4. Bastantes veces",
          "5. Casi siempre o siempre"
         ],
         "tickvals": [
          1,
          2,
          3,
          4,
          5
         ]
        }
       }
      },
      "text/html": [
       "<div id=\"f1311fd9-c025-48a1-8636-9be25e674396\" style=\"height: 525px; width: 100%;\" class=\"plotly-graph-div\"></div><script type=\"text/javascript\">require([\"plotly\"], function(Plotly) { window.PLOTLYENV=window.PLOTLYENV || {};window.PLOTLYENV.BASE_URL=\"https://plot.ly\";\n",
       "if (document.getElementById(\"f1311fd9-c025-48a1-8636-9be25e674396\")) {\n",
       "    Plotly.newPlot(\"f1311fd9-c025-48a1-8636-9be25e674396\", [{\"marker\": {\"color\": [\"rgb(213,62,79)\", \"rgb(252,141,89)\", \"rgb(254,224,139)\", \"rgb(230,245,152)\", \"rgb(153,213,148)\", \"rgb(50,136,189)\"]}, \"x\": [1, 2, 3, 4, 5], \"y\": [1, 5, 12, 8, 1], \"type\": \"bar\", \"uid\": \"769ab0c3-f68c-41b7-9aa1-4c0481c321fb\"}], {\"bargap\": 0.2, \"xaxis\": {\"ticktext\": [\"1. Nunca\", \"2. Muy pocas veces\", \"3. En ocasiones\", \"4. Bastantes veces\", \"5. Casi siempre o siempre\"], \"tickvals\": [1, 2, 3, 4, 5]}}, {\"showLink\": false, \"linkText\": \"Export to plot.ly\", \"plotlyServerURL\": \"https://plot.ly\"}); \n",
       "}\n",
       "});</script><script type=\"text/javascript\">window.addEventListener(\"resize\", function(){if (document.getElementById(\"f1311fd9-c025-48a1-8636-9be25e674396\")) {window._Plotly.Plots.resize(document.getElementById(\"f1311fd9-c025-48a1-8636-9be25e674396\"));};})</script>"
      ],
      "text/vnd.plotly.v1+html": [
       "<div id=\"f1311fd9-c025-48a1-8636-9be25e674396\" style=\"height: 525px; width: 100%;\" class=\"plotly-graph-div\"></div><script type=\"text/javascript\">require([\"plotly\"], function(Plotly) { window.PLOTLYENV=window.PLOTLYENV || {};window.PLOTLYENV.BASE_URL=\"https://plot.ly\";\n",
       "if (document.getElementById(\"f1311fd9-c025-48a1-8636-9be25e674396\")) {\n",
       "    Plotly.newPlot(\"f1311fd9-c025-48a1-8636-9be25e674396\", [{\"marker\": {\"color\": [\"rgb(213,62,79)\", \"rgb(252,141,89)\", \"rgb(254,224,139)\", \"rgb(230,245,152)\", \"rgb(153,213,148)\", \"rgb(50,136,189)\"]}, \"x\": [1, 2, 3, 4, 5], \"y\": [1, 5, 12, 8, 1], \"type\": \"bar\", \"uid\": \"769ab0c3-f68c-41b7-9aa1-4c0481c321fb\"}], {\"bargap\": 0.2, \"xaxis\": {\"ticktext\": [\"1. Nunca\", \"2. Muy pocas veces\", \"3. En ocasiones\", \"4. Bastantes veces\", \"5. Casi siempre o siempre\"], \"tickvals\": [1, 2, 3, 4, 5]}}, {\"showLink\": false, \"linkText\": \"Export to plot.ly\", \"plotlyServerURL\": \"https://plot.ly\"}); \n",
       "}\n",
       "});</script><script type=\"text/javascript\">window.addEventListener(\"resize\", function(){if (document.getElementById(\"f1311fd9-c025-48a1-8636-9be25e674396\")) {window._Plotly.Plots.resize(document.getElementById(\"f1311fd9-c025-48a1-8636-9be25e674396\"));};})</script>"
      ]
     },
     "metadata": {},
     "output_type": "display_data"
    }
   ],
   "source": [
    "visualize_interpretation_images_by_cultural_clusters_esp(dataframe_with_clusters_esp)"
   ]
  },
  {
   "cell_type": "code",
   "execution_count": 10,
   "metadata": {
    "scrolled": false
   },
   "outputs": [],
   "source": [
    "# visualize_interpretation_images_by_cultural_clusters_en(dataframe_with_clusters_en)"
   ]
  },
  {
   "cell_type": "code",
   "execution_count": 11,
   "metadata": {
    "scrolled": false
   },
   "outputs": [
    {
     "name": "stdout",
     "output_type": "stream",
     "text": [
      "Comparando la pregunta Cuando te encuentras con una imagen, ¿intentas entender con qué intención está hecha?\n"
     ]
    },
    {
     "data": {
      "application/vnd.plotly.v1+json": {
       "config": {
        "linkText": "Export to plot.ly",
        "plotlyServerURL": "https://plot.ly",
        "showLink": false
       },
       "data": [
        {
         "hovertemplate": "Cuando te encuentras con una imagen, ¿intentas entender con qué intención está hecha?=1. Nunca<br>counts=%{r}<br>cultural_cluster=%{theta}<extra></extra>",
         "legendgroup": "Cuando te encuentras con una imagen, ¿intentas entender con qué intención está hecha?=1. Nunca",
         "marker": {
          "color": "rgb(213,62,79)"
         },
         "name": "Cuando te encuentras con una imagen, ¿intentas entender con qué intención está hecha?=1. Nunca",
         "r": [
          2,
          4,
          4,
          11
         ],
         "showlegend": true,
         "theta": [
          "cluster_1",
          "cluster_2",
          "cluster_3",
          "cluster_4"
         ],
         "type": "barpolar",
         "uid": "0ba5dc13-34a9-4c28-9451-9fea19a3627e"
        },
        {
         "hovertemplate": "Cuando te encuentras con una imagen, ¿intentas entender con qué intención está hecha?=2. Muy pocas veces<br>counts=%{r}<br>cultural_cluster=%{theta}<extra></extra>",
         "legendgroup": "Cuando te encuentras con una imagen, ¿intentas entender con qué intención está hecha?=2. Muy pocas veces",
         "marker": {
          "color": "rgb(252,141,89)"
         },
         "name": "Cuando te encuentras con una imagen, ¿intentas entender con qué intención está hecha?=2. Muy pocas veces",
         "r": [
          18,
          28,
          3,
          48,
          1
         ],
         "showlegend": true,
         "theta": [
          "cluster_1",
          "cluster_2",
          "cluster_3",
          "cluster_4",
          "cluster_5"
         ],
         "type": "barpolar",
         "uid": "e20373b6-63ee-4d4b-aea6-bd95598e5dec"
        },
        {
         "hovertemplate": "Cuando te encuentras con una imagen, ¿intentas entender con qué intención está hecha?=3. En ocasiones<br>counts=%{r}<br>cultural_cluster=%{theta}<extra></extra>",
         "legendgroup": "Cuando te encuentras con una imagen, ¿intentas entender con qué intención está hecha?=3. En ocasiones",
         "marker": {
          "color": "rgb(254,224,139)"
         },
         "name": "Cuando te encuentras con una imagen, ¿intentas entender con qué intención está hecha?=3. En ocasiones",
         "r": [
          54,
          116,
          10,
          94
         ],
         "showlegend": true,
         "theta": [
          "cluster_1",
          "cluster_2",
          "cluster_3",
          "cluster_4"
         ],
         "type": "barpolar",
         "uid": "43b4bd68-b09a-4893-827c-adccbecef7df"
        },
        {
         "hovertemplate": "Cuando te encuentras con una imagen, ¿intentas entender con qué intención está hecha?=4. Bastantes veces<br>counts=%{r}<br>cultural_cluster=%{theta}<extra></extra>",
         "legendgroup": "Cuando te encuentras con una imagen, ¿intentas entender con qué intención está hecha?=4. Bastantes veces",
         "marker": {
          "color": "rgb(230,245,152)"
         },
         "name": "Cuando te encuentras con una imagen, ¿intentas entender con qué intención está hecha?=4. Bastantes veces",
         "r": [
          83,
          105,
          7,
          48
         ],
         "showlegend": true,
         "theta": [
          "cluster_1",
          "cluster_2",
          "cluster_3",
          "cluster_4"
         ],
         "type": "barpolar",
         "uid": "f47d98f4-1ae8-48f8-b92f-df021ce19748"
        },
        {
         "hovertemplate": "Cuando te encuentras con una imagen, ¿intentas entender con qué intención está hecha?=5. Casi siempre o siempre<br>counts=%{r}<br>cultural_cluster=%{theta}<extra></extra>",
         "legendgroup": "Cuando te encuentras con una imagen, ¿intentas entender con qué intención está hecha?=5. Casi siempre o siempre",
         "marker": {
          "color": "rgb(153,213,148)"
         },
         "name": "Cuando te encuentras con una imagen, ¿intentas entender con qué intención está hecha?=5. Casi siempre o siempre",
         "r": [
          66,
          48,
          3,
          14
         ],
         "showlegend": true,
         "theta": [
          "cluster_1",
          "cluster_2",
          "cluster_3",
          "cluster_4"
         ],
         "type": "barpolar",
         "uid": "6a11ecb0-f652-40c0-b557-451b82531a83"
        }
       ],
       "layout": {
        "barmode": "group",
        "barnorm": "",
        "height": 600,
        "legend": {
         "tracegroupgap": 0
        },
        "margin": {
         "t": 60
        },
        "polar": {
         "angularaxis": {
          "direction": "clockwise",
          "rotation": 90
         }
        },
        "template": {
         "data": {
          "bar": [
           {
            "marker": {
             "line": {
              "color": "#E5ECF6",
              "width": 0.5
             }
            },
            "type": "bar"
           }
          ],
          "barpolar": [
           {
            "marker": {
             "line": {
              "color": "#E5ECF6",
              "width": 0.5
             }
            },
            "type": "barpolar"
           }
          ],
          "carpet": [
           {
            "aaxis": {
             "endlinecolor": "#2a3f5f",
             "gridcolor": "white",
             "linecolor": "white",
             "minorgridcolor": "white",
             "startlinecolor": "#2a3f5f"
            },
            "baxis": {
             "endlinecolor": "#2a3f5f",
             "gridcolor": "white",
             "linecolor": "white",
             "minorgridcolor": "white",
             "startlinecolor": "#2a3f5f"
            },
            "type": "carpet"
           }
          ],
          "choropleth": [
           {
            "colorbar": {
             "outlinewidth": 0,
             "ticks": ""
            },
            "type": "choropleth"
           }
          ],
          "contour": [
           {
            "autocolorscale": true,
            "colorbar": {
             "outlinewidth": 0,
             "ticks": ""
            },
            "type": "contour"
           }
          ],
          "contourcarpet": [
           {
            "colorbar": {
             "outlinewidth": 0,
             "ticks": ""
            },
            "type": "contourcarpet"
           }
          ],
          "heatmap": [
           {
            "autocolorscale": true,
            "colorbar": {
             "outlinewidth": 0,
             "ticks": ""
            },
            "type": "heatmap"
           }
          ],
          "heatmapgl": [
           {
            "colorbar": {
             "outlinewidth": 0,
             "ticks": ""
            },
            "type": "heatmapgl"
           }
          ],
          "histogram": [
           {
            "marker": {
             "colorbar": {
              "outlinewidth": 0,
              "ticks": ""
             }
            },
            "type": "histogram"
           }
          ],
          "histogram2d": [
           {
            "autocolorscale": true,
            "colorbar": {
             "outlinewidth": 0,
             "ticks": ""
            },
            "type": "histogram2d"
           }
          ],
          "histogram2dcontour": [
           {
            "autocolorscale": true,
            "colorbar": {
             "outlinewidth": 0,
             "ticks": ""
            },
            "type": "histogram2dcontour"
           }
          ],
          "mesh3d": [
           {
            "colorbar": {
             "outlinewidth": 0,
             "ticks": ""
            },
            "type": "mesh3d"
           }
          ],
          "parcoords": [
           {
            "line": {
             "colorbar": {
              "outlinewidth": 0,
              "ticks": ""
             }
            },
            "type": "parcoords"
           }
          ],
          "scatter": [
           {
            "marker": {
             "colorbar": {
              "outlinewidth": 0,
              "ticks": ""
             }
            },
            "type": "scatter"
           }
          ],
          "scatter3d": [
           {
            "marker": {
             "colorbar": {
              "outlinewidth": 0,
              "ticks": ""
             }
            },
            "type": "scatter3d"
           }
          ],
          "scattercarpet": [
           {
            "marker": {
             "colorbar": {
              "outlinewidth": 0,
              "ticks": ""
             }
            },
            "type": "scattercarpet"
           }
          ],
          "scattergeo": [
           {
            "marker": {
             "colorbar": {
              "outlinewidth": 0,
              "ticks": ""
             }
            },
            "type": "scattergeo"
           }
          ],
          "scattergl": [
           {
            "marker": {
             "colorbar": {
              "outlinewidth": 0,
              "ticks": ""
             }
            },
            "type": "scattergl"
           }
          ],
          "scattermapbox": [
           {
            "marker": {
             "colorbar": {
              "outlinewidth": 0,
              "ticks": ""
             }
            },
            "type": "scattermapbox"
           }
          ],
          "scatterpolar": [
           {
            "marker": {
             "colorbar": {
              "outlinewidth": 0,
              "ticks": ""
             }
            },
            "type": "scatterpolar"
           }
          ],
          "scatterpolargl": [
           {
            "marker": {
             "colorbar": {
              "outlinewidth": 0,
              "ticks": ""
             }
            },
            "type": "scatterpolargl"
           }
          ],
          "scatterternary": [
           {
            "marker": {
             "colorbar": {
              "outlinewidth": 0,
              "ticks": ""
             }
            },
            "type": "scatterternary"
           }
          ],
          "surface": [
           {
            "colorbar": {
             "outlinewidth": 0,
             "ticks": ""
            },
            "type": "surface"
           }
          ],
          "table": [
           {
            "cells": {
             "fill": {
              "color": "#EBF0F8"
             },
             "line": {
              "color": "white"
             }
            },
            "header": {
             "fill": {
              "color": "#C8D4E3"
             },
             "line": {
              "color": "white"
             }
            },
            "type": "table"
           }
          ]
         },
         "layout": {
          "annotationdefaults": {
           "arrowcolor": "#506784",
           "arrowhead": 0,
           "arrowwidth": 1
          },
          "colorscale": {
           "diverging": [
            [
             0,
             "#8e0152"
            ],
            [
             0.1,
             "#c51b7d"
            ],
            [
             0.2,
             "#de77ae"
            ],
            [
             0.3,
             "#f1b6da"
            ],
            [
             0.4,
             "#fde0ef"
            ],
            [
             0.5,
             "#f7f7f7"
            ],
            [
             0.6,
             "#e6f5d0"
            ],
            [
             0.7,
             "#b8e186"
            ],
            [
             0.8,
             "#7fbc41"
            ],
            [
             0.9,
             "#4d9221"
            ],
            [
             1,
             "#276419"
            ]
           ],
           "sequential": [
            [
             0,
             "#0508b8"
            ],
            [
             0.0893854748603352,
             "#1910d8"
            ],
            [
             0.1787709497206704,
             "#3c19f0"
            ],
            [
             0.2681564245810056,
             "#6b1cfb"
            ],
            [
             0.3575418994413408,
             "#981cfd"
            ],
            [
             0.44692737430167595,
             "#bf1cfd"
            ],
            [
             0.5363128491620112,
             "#dd2bfd"
            ],
            [
             0.6256983240223464,
             "#f246fe"
            ],
            [
             0.7150837988826816,
             "#fc67fd"
            ],
            [
             0.8044692737430168,
             "#fe88fc"
            ],
            [
             0.8938547486033519,
             "#fea5fd"
            ],
            [
             0.9832402234636871,
             "#febefe"
            ],
            [
             1,
             "#fec3fe"
            ]
           ],
           "sequentialminus": [
            [
             0,
             "#0508b8"
            ],
            [
             0.0893854748603352,
             "#1910d8"
            ],
            [
             0.1787709497206704,
             "#3c19f0"
            ],
            [
             0.2681564245810056,
             "#6b1cfb"
            ],
            [
             0.3575418994413408,
             "#981cfd"
            ],
            [
             0.44692737430167595,
             "#bf1cfd"
            ],
            [
             0.5363128491620112,
             "#dd2bfd"
            ],
            [
             0.6256983240223464,
             "#f246fe"
            ],
            [
             0.7150837988826816,
             "#fc67fd"
            ],
            [
             0.8044692737430168,
             "#fe88fc"
            ],
            [
             0.8938547486033519,
             "#fea5fd"
            ],
            [
             0.9832402234636871,
             "#febefe"
            ],
            [
             1,
             "#fec3fe"
            ]
           ]
          },
          "colorway": [
           "#636efa",
           "#EF553B",
           "#00cc96",
           "#ab63fa",
           "#19d3f3",
           "#e763fa",
           "#FECB52",
           "#FFA15A",
           "#FF6692",
           "#B6E880"
          ],
          "font": {
           "color": "#2a3f5f"
          },
          "geo": {
           "bgcolor": "white",
           "lakecolor": "white",
           "landcolor": "#E5ECF6",
           "showlakes": true,
           "showland": true,
           "subunitcolor": "white"
          },
          "hovermode": "closest",
          "mapbox": {
           "style": "light"
          },
          "paper_bgcolor": "white",
          "plot_bgcolor": "#E5ECF6",
          "polar": {
           "angularaxis": {
            "gridcolor": "white",
            "linecolor": "white",
            "ticks": ""
           },
           "bgcolor": "#E5ECF6",
           "radialaxis": {
            "gridcolor": "white",
            "linecolor": "white",
            "ticks": ""
           }
          },
          "scene": {
           "xaxis": {
            "backgroundcolor": "#E5ECF6",
            "gridcolor": "white",
            "gridwidth": 2,
            "linecolor": "white",
            "showbackground": true,
            "ticks": "",
            "zerolinecolor": "white"
           },
           "yaxis": {
            "backgroundcolor": "#E5ECF6",
            "gridcolor": "white",
            "gridwidth": 2,
            "linecolor": "white",
            "showbackground": true,
            "ticks": "",
            "zerolinecolor": "white"
           },
           "zaxis": {
            "backgroundcolor": "#E5ECF6",
            "gridcolor": "white",
            "gridwidth": 2,
            "linecolor": "white",
            "showbackground": true,
            "ticks": "",
            "zerolinecolor": "white"
           }
          },
          "shapedefaults": {
           "fillcolor": "#506784",
           "line": {
            "width": 0
           },
           "opacity": 0.4
          },
          "ternary": {
           "aaxis": {
            "gridcolor": "white",
            "linecolor": "white",
            "ticks": ""
           },
           "baxis": {
            "gridcolor": "white",
            "linecolor": "white",
            "ticks": ""
           },
           "bgcolor": "#E5ECF6",
           "caxis": {
            "gridcolor": "white",
            "linecolor": "white",
            "ticks": ""
           }
          },
          "title": {
           "x": 0.05
          },
          "xaxis": {
           "automargin": true,
           "gridcolor": "white",
           "linecolor": "white",
           "ticks": "",
           "zerolinecolor": "white",
           "zerolinewidth": 2
          },
          "yaxis": {
           "automargin": true,
           "gridcolor": "white",
           "linecolor": "white",
           "ticks": "",
           "zerolinecolor": "white",
           "zerolinewidth": 2
          }
         }
        }
       }
      },
      "text/html": [
       "<div id=\"6afa44bd-21e2-4bd8-9a8a-d5558c96e109\" style=\"height: 600px; width: 100%;\" class=\"plotly-graph-div\"></div><script type=\"text/javascript\">require([\"plotly\"], function(Plotly) { window.PLOTLYENV=window.PLOTLYENV || {};window.PLOTLYENV.BASE_URL=\"https://plot.ly\";\n",
       "if (document.getElementById(\"6afa44bd-21e2-4bd8-9a8a-d5558c96e109\")) {\n",
       "    Plotly.newPlot(\"6afa44bd-21e2-4bd8-9a8a-d5558c96e109\", [{\"hovertemplate\": \"Cuando te encuentras con una imagen, \\u00bfintentas entender con qu\\u00e9 intenci\\u00f3n est\\u00e1 hecha?=1. Nunca<br>counts=%{r}<br>cultural_cluster=%{theta}<extra></extra>\", \"legendgroup\": \"Cuando te encuentras con una imagen, \\u00bfintentas entender con qu\\u00e9 intenci\\u00f3n est\\u00e1 hecha?=1. Nunca\", \"marker\": {\"color\": \"rgb(213,62,79)\"}, \"name\": \"Cuando te encuentras con una imagen, \\u00bfintentas entender con qu\\u00e9 intenci\\u00f3n est\\u00e1 hecha?=1. Nunca\", \"r\": [2, 4, 4, 11], \"showlegend\": true, \"theta\": [\"cluster_1\", \"cluster_2\", \"cluster_3\", \"cluster_4\"], \"type\": \"barpolar\", \"uid\": \"0ba5dc13-34a9-4c28-9451-9fea19a3627e\"}, {\"hovertemplate\": \"Cuando te encuentras con una imagen, \\u00bfintentas entender con qu\\u00e9 intenci\\u00f3n est\\u00e1 hecha?=2. Muy pocas veces<br>counts=%{r}<br>cultural_cluster=%{theta}<extra></extra>\", \"legendgroup\": \"Cuando te encuentras con una imagen, \\u00bfintentas entender con qu\\u00e9 intenci\\u00f3n est\\u00e1 hecha?=2. Muy pocas veces\", \"marker\": {\"color\": \"rgb(252,141,89)\"}, \"name\": \"Cuando te encuentras con una imagen, \\u00bfintentas entender con qu\\u00e9 intenci\\u00f3n est\\u00e1 hecha?=2. Muy pocas veces\", \"r\": [18, 28, 3, 48, 1], \"showlegend\": true, \"theta\": [\"cluster_1\", \"cluster_2\", \"cluster_3\", \"cluster_4\", \"cluster_5\"], \"type\": \"barpolar\", \"uid\": \"e20373b6-63ee-4d4b-aea6-bd95598e5dec\"}, {\"hovertemplate\": \"Cuando te encuentras con una imagen, \\u00bfintentas entender con qu\\u00e9 intenci\\u00f3n est\\u00e1 hecha?=3. En ocasiones<br>counts=%{r}<br>cultural_cluster=%{theta}<extra></extra>\", \"legendgroup\": \"Cuando te encuentras con una imagen, \\u00bfintentas entender con qu\\u00e9 intenci\\u00f3n est\\u00e1 hecha?=3. En ocasiones\", \"marker\": {\"color\": \"rgb(254,224,139)\"}, \"name\": \"Cuando te encuentras con una imagen, \\u00bfintentas entender con qu\\u00e9 intenci\\u00f3n est\\u00e1 hecha?=3. En ocasiones\", \"r\": [54, 116, 10, 94], \"showlegend\": true, \"theta\": [\"cluster_1\", \"cluster_2\", \"cluster_3\", \"cluster_4\"], \"type\": \"barpolar\", \"uid\": \"43b4bd68-b09a-4893-827c-adccbecef7df\"}, {\"hovertemplate\": \"Cuando te encuentras con una imagen, \\u00bfintentas entender con qu\\u00e9 intenci\\u00f3n est\\u00e1 hecha?=4. Bastantes veces<br>counts=%{r}<br>cultural_cluster=%{theta}<extra></extra>\", \"legendgroup\": \"Cuando te encuentras con una imagen, \\u00bfintentas entender con qu\\u00e9 intenci\\u00f3n est\\u00e1 hecha?=4. Bastantes veces\", \"marker\": {\"color\": \"rgb(230,245,152)\"}, \"name\": \"Cuando te encuentras con una imagen, \\u00bfintentas entender con qu\\u00e9 intenci\\u00f3n est\\u00e1 hecha?=4. Bastantes veces\", \"r\": [83, 105, 7, 48], \"showlegend\": true, \"theta\": [\"cluster_1\", \"cluster_2\", \"cluster_3\", \"cluster_4\"], \"type\": \"barpolar\", \"uid\": \"f47d98f4-1ae8-48f8-b92f-df021ce19748\"}, {\"hovertemplate\": \"Cuando te encuentras con una imagen, \\u00bfintentas entender con qu\\u00e9 intenci\\u00f3n est\\u00e1 hecha?=5. Casi siempre o siempre<br>counts=%{r}<br>cultural_cluster=%{theta}<extra></extra>\", \"legendgroup\": \"Cuando te encuentras con una imagen, \\u00bfintentas entender con qu\\u00e9 intenci\\u00f3n est\\u00e1 hecha?=5. Casi siempre o siempre\", \"marker\": {\"color\": \"rgb(153,213,148)\"}, \"name\": \"Cuando te encuentras con una imagen, \\u00bfintentas entender con qu\\u00e9 intenci\\u00f3n est\\u00e1 hecha?=5. Casi siempre o siempre\", \"r\": [66, 48, 3, 14], \"showlegend\": true, \"theta\": [\"cluster_1\", \"cluster_2\", \"cluster_3\", \"cluster_4\"], \"type\": \"barpolar\", \"uid\": \"6a11ecb0-f652-40c0-b557-451b82531a83\"}], {\"barmode\": \"group\", \"barnorm\": \"\", \"height\": 600, \"legend\": {\"tracegroupgap\": 0}, \"margin\": {\"t\": 60}, \"template\": {\"data\": {\"barpolar\": [{\"marker\": {\"line\": {\"color\": \"#E5ECF6\", \"width\": 0.5}}, \"type\": \"barpolar\"}], \"bar\": [{\"marker\": {\"line\": {\"color\": \"#E5ECF6\", \"width\": 0.5}}, \"type\": \"bar\"}], \"carpet\": [{\"aaxis\": {\"endlinecolor\": \"#2a3f5f\", \"gridcolor\": \"white\", \"linecolor\": \"white\", \"minorgridcolor\": \"white\", \"startlinecolor\": \"#2a3f5f\"}, \"baxis\": {\"endlinecolor\": \"#2a3f5f\", \"gridcolor\": \"white\", \"linecolor\": \"white\", \"minorgridcolor\": \"white\", \"startlinecolor\": \"#2a3f5f\"}, \"type\": \"carpet\"}], \"choropleth\": [{\"colorbar\": {\"outlinewidth\": 0, \"ticks\": \"\"}, \"type\": \"choropleth\"}], \"contourcarpet\": [{\"colorbar\": {\"outlinewidth\": 0, \"ticks\": \"\"}, \"type\": \"contourcarpet\"}], \"contour\": [{\"autocolorscale\": true, \"colorbar\": {\"outlinewidth\": 0, \"ticks\": \"\"}, \"type\": \"contour\"}], \"heatmapgl\": [{\"colorbar\": {\"outlinewidth\": 0, \"ticks\": \"\"}, \"type\": \"heatmapgl\"}], \"heatmap\": [{\"autocolorscale\": true, \"colorbar\": {\"outlinewidth\": 0, \"ticks\": \"\"}, \"type\": \"heatmap\"}], \"histogram2dcontour\": [{\"autocolorscale\": true, \"colorbar\": {\"outlinewidth\": 0, \"ticks\": \"\"}, \"type\": \"histogram2dcontour\"}], \"histogram2d\": [{\"autocolorscale\": true, \"colorbar\": {\"outlinewidth\": 0, \"ticks\": \"\"}, \"type\": \"histogram2d\"}], \"histogram\": [{\"marker\": {\"colorbar\": {\"outlinewidth\": 0, \"ticks\": \"\"}}, \"type\": \"histogram\"}], \"mesh3d\": [{\"colorbar\": {\"outlinewidth\": 0, \"ticks\": \"\"}, \"type\": \"mesh3d\"}], \"parcoords\": [{\"line\": {\"colorbar\": {\"outlinewidth\": 0, \"ticks\": \"\"}}, \"type\": \"parcoords\"}], \"scatter3d\": [{\"marker\": {\"colorbar\": {\"outlinewidth\": 0, \"ticks\": \"\"}}, \"type\": \"scatter3d\"}], \"scattercarpet\": [{\"marker\": {\"colorbar\": {\"outlinewidth\": 0, \"ticks\": \"\"}}, \"type\": \"scattercarpet\"}], \"scattergeo\": [{\"marker\": {\"colorbar\": {\"outlinewidth\": 0, \"ticks\": \"\"}}, \"type\": \"scattergeo\"}], \"scattergl\": [{\"marker\": {\"colorbar\": {\"outlinewidth\": 0, \"ticks\": \"\"}}, \"type\": \"scattergl\"}], \"scattermapbox\": [{\"marker\": {\"colorbar\": {\"outlinewidth\": 0, \"ticks\": \"\"}}, \"type\": \"scattermapbox\"}], \"scatterpolargl\": [{\"marker\": {\"colorbar\": {\"outlinewidth\": 0, \"ticks\": \"\"}}, \"type\": \"scatterpolargl\"}], \"scatterpolar\": [{\"marker\": {\"colorbar\": {\"outlinewidth\": 0, \"ticks\": \"\"}}, \"type\": \"scatterpolar\"}], \"scatter\": [{\"marker\": {\"colorbar\": {\"outlinewidth\": 0, \"ticks\": \"\"}}, \"type\": \"scatter\"}], \"scatterternary\": [{\"marker\": {\"colorbar\": {\"outlinewidth\": 0, \"ticks\": \"\"}}, \"type\": \"scatterternary\"}], \"surface\": [{\"colorbar\": {\"outlinewidth\": 0, \"ticks\": \"\"}, \"type\": \"surface\"}], \"table\": [{\"cells\": {\"fill\": {\"color\": \"#EBF0F8\"}, \"line\": {\"color\": \"white\"}}, \"header\": {\"fill\": {\"color\": \"#C8D4E3\"}, \"line\": {\"color\": \"white\"}}, \"type\": \"table\"}]}, \"layout\": {\"annotationdefaults\": {\"arrowcolor\": \"#506784\", \"arrowhead\": 0, \"arrowwidth\": 1}, \"colorscale\": {\"diverging\": [[0, \"#8e0152\"], [0.1, \"#c51b7d\"], [0.2, \"#de77ae\"], [0.3, \"#f1b6da\"], [0.4, \"#fde0ef\"], [0.5, \"#f7f7f7\"], [0.6, \"#e6f5d0\"], [0.7, \"#b8e186\"], [0.8, \"#7fbc41\"], [0.9, \"#4d9221\"], [1, \"#276419\"]], \"sequential\": [[0.0, \"#0508b8\"], [0.0893854748603352, \"#1910d8\"], [0.1787709497206704, \"#3c19f0\"], [0.2681564245810056, \"#6b1cfb\"], [0.3575418994413408, \"#981cfd\"], [0.44692737430167595, \"#bf1cfd\"], [0.5363128491620112, \"#dd2bfd\"], [0.6256983240223464, \"#f246fe\"], [0.7150837988826816, \"#fc67fd\"], [0.8044692737430168, \"#fe88fc\"], [0.8938547486033519, \"#fea5fd\"], [0.9832402234636871, \"#febefe\"], [1.0, \"#fec3fe\"]], \"sequentialminus\": [[0.0, \"#0508b8\"], [0.0893854748603352, \"#1910d8\"], [0.1787709497206704, \"#3c19f0\"], [0.2681564245810056, \"#6b1cfb\"], [0.3575418994413408, \"#981cfd\"], [0.44692737430167595, \"#bf1cfd\"], [0.5363128491620112, \"#dd2bfd\"], [0.6256983240223464, \"#f246fe\"], [0.7150837988826816, \"#fc67fd\"], [0.8044692737430168, \"#fe88fc\"], [0.8938547486033519, \"#fea5fd\"], [0.9832402234636871, \"#febefe\"], [1.0, \"#fec3fe\"]]}, \"colorway\": [\"#636efa\", \"#EF553B\", \"#00cc96\", \"#ab63fa\", \"#19d3f3\", \"#e763fa\", \"#FECB52\", \"#FFA15A\", \"#FF6692\", \"#B6E880\"], \"font\": {\"color\": \"#2a3f5f\"}, \"geo\": {\"bgcolor\": \"white\", \"lakecolor\": \"white\", \"landcolor\": \"#E5ECF6\", \"showlakes\": true, \"showland\": true, \"subunitcolor\": \"white\"}, \"hovermode\": \"closest\", \"mapbox\": {\"style\": \"light\"}, \"paper_bgcolor\": \"white\", \"plot_bgcolor\": \"#E5ECF6\", \"polar\": {\"angularaxis\": {\"gridcolor\": \"white\", \"linecolor\": \"white\", \"ticks\": \"\"}, \"bgcolor\": \"#E5ECF6\", \"radialaxis\": {\"gridcolor\": \"white\", \"linecolor\": \"white\", \"ticks\": \"\"}}, \"scene\": {\"xaxis\": {\"backgroundcolor\": \"#E5ECF6\", \"gridcolor\": \"white\", \"gridwidth\": 2, \"linecolor\": \"white\", \"showbackground\": true, \"ticks\": \"\", \"zerolinecolor\": \"white\"}, \"yaxis\": {\"backgroundcolor\": \"#E5ECF6\", \"gridcolor\": \"white\", \"gridwidth\": 2, \"linecolor\": \"white\", \"showbackground\": true, \"ticks\": \"\", \"zerolinecolor\": \"white\"}, \"zaxis\": {\"backgroundcolor\": \"#E5ECF6\", \"gridcolor\": \"white\", \"gridwidth\": 2, \"linecolor\": \"white\", \"showbackground\": true, \"ticks\": \"\", \"zerolinecolor\": \"white\"}}, \"shapedefaults\": {\"fillcolor\": \"#506784\", \"line\": {\"width\": 0}, \"opacity\": 0.4}, \"ternary\": {\"aaxis\": {\"gridcolor\": \"white\", \"linecolor\": \"white\", \"ticks\": \"\"}, \"baxis\": {\"gridcolor\": \"white\", \"linecolor\": \"white\", \"ticks\": \"\"}, \"bgcolor\": \"#E5ECF6\", \"caxis\": {\"gridcolor\": \"white\", \"linecolor\": \"white\", \"ticks\": \"\"}}, \"title\": {\"x\": 0.05}, \"xaxis\": {\"automargin\": true, \"gridcolor\": \"white\", \"linecolor\": \"white\", \"ticks\": \"\", \"zerolinecolor\": \"white\", \"zerolinewidth\": 2}, \"yaxis\": {\"automargin\": true, \"gridcolor\": \"white\", \"linecolor\": \"white\", \"ticks\": \"\", \"zerolinecolor\": \"white\", \"zerolinewidth\": 2}}}, \"polar\": {\"angularaxis\": {\"direction\": \"clockwise\", \"rotation\": 90}}}, {\"showLink\": false, \"linkText\": \"Export to plot.ly\", \"plotlyServerURL\": \"https://plot.ly\"}); \n",
       "}\n",
       "});</script><script type=\"text/javascript\">window.addEventListener(\"resize\", function(){if (document.getElementById(\"6afa44bd-21e2-4bd8-9a8a-d5558c96e109\")) {window._Plotly.Plots.resize(document.getElementById(\"6afa44bd-21e2-4bd8-9a8a-d5558c96e109\"));};})</script>"
      ],
      "text/vnd.plotly.v1+html": [
       "<div id=\"6afa44bd-21e2-4bd8-9a8a-d5558c96e109\" style=\"height: 600px; width: 100%;\" class=\"plotly-graph-div\"></div><script type=\"text/javascript\">require([\"plotly\"], function(Plotly) { window.PLOTLYENV=window.PLOTLYENV || {};window.PLOTLYENV.BASE_URL=\"https://plot.ly\";\n",
       "if (document.getElementById(\"6afa44bd-21e2-4bd8-9a8a-d5558c96e109\")) {\n",
       "    Plotly.newPlot(\"6afa44bd-21e2-4bd8-9a8a-d5558c96e109\", [{\"hovertemplate\": \"Cuando te encuentras con una imagen, \\u00bfintentas entender con qu\\u00e9 intenci\\u00f3n est\\u00e1 hecha?=1. Nunca<br>counts=%{r}<br>cultural_cluster=%{theta}<extra></extra>\", \"legendgroup\": \"Cuando te encuentras con una imagen, \\u00bfintentas entender con qu\\u00e9 intenci\\u00f3n est\\u00e1 hecha?=1. Nunca\", \"marker\": {\"color\": \"rgb(213,62,79)\"}, \"name\": \"Cuando te encuentras con una imagen, \\u00bfintentas entender con qu\\u00e9 intenci\\u00f3n est\\u00e1 hecha?=1. Nunca\", \"r\": [2, 4, 4, 11], \"showlegend\": true, \"theta\": [\"cluster_1\", \"cluster_2\", \"cluster_3\", \"cluster_4\"], \"type\": \"barpolar\", \"uid\": \"0ba5dc13-34a9-4c28-9451-9fea19a3627e\"}, {\"hovertemplate\": \"Cuando te encuentras con una imagen, \\u00bfintentas entender con qu\\u00e9 intenci\\u00f3n est\\u00e1 hecha?=2. Muy pocas veces<br>counts=%{r}<br>cultural_cluster=%{theta}<extra></extra>\", \"legendgroup\": \"Cuando te encuentras con una imagen, \\u00bfintentas entender con qu\\u00e9 intenci\\u00f3n est\\u00e1 hecha?=2. Muy pocas veces\", \"marker\": {\"color\": \"rgb(252,141,89)\"}, \"name\": \"Cuando te encuentras con una imagen, \\u00bfintentas entender con qu\\u00e9 intenci\\u00f3n est\\u00e1 hecha?=2. Muy pocas veces\", \"r\": [18, 28, 3, 48, 1], \"showlegend\": true, \"theta\": [\"cluster_1\", \"cluster_2\", \"cluster_3\", \"cluster_4\", \"cluster_5\"], \"type\": \"barpolar\", \"uid\": \"e20373b6-63ee-4d4b-aea6-bd95598e5dec\"}, {\"hovertemplate\": \"Cuando te encuentras con una imagen, \\u00bfintentas entender con qu\\u00e9 intenci\\u00f3n est\\u00e1 hecha?=3. En ocasiones<br>counts=%{r}<br>cultural_cluster=%{theta}<extra></extra>\", \"legendgroup\": \"Cuando te encuentras con una imagen, \\u00bfintentas entender con qu\\u00e9 intenci\\u00f3n est\\u00e1 hecha?=3. En ocasiones\", \"marker\": {\"color\": \"rgb(254,224,139)\"}, \"name\": \"Cuando te encuentras con una imagen, \\u00bfintentas entender con qu\\u00e9 intenci\\u00f3n est\\u00e1 hecha?=3. En ocasiones\", \"r\": [54, 116, 10, 94], \"showlegend\": true, \"theta\": [\"cluster_1\", \"cluster_2\", \"cluster_3\", \"cluster_4\"], \"type\": \"barpolar\", \"uid\": \"43b4bd68-b09a-4893-827c-adccbecef7df\"}, {\"hovertemplate\": \"Cuando te encuentras con una imagen, \\u00bfintentas entender con qu\\u00e9 intenci\\u00f3n est\\u00e1 hecha?=4. Bastantes veces<br>counts=%{r}<br>cultural_cluster=%{theta}<extra></extra>\", \"legendgroup\": \"Cuando te encuentras con una imagen, \\u00bfintentas entender con qu\\u00e9 intenci\\u00f3n est\\u00e1 hecha?=4. Bastantes veces\", \"marker\": {\"color\": \"rgb(230,245,152)\"}, \"name\": \"Cuando te encuentras con una imagen, \\u00bfintentas entender con qu\\u00e9 intenci\\u00f3n est\\u00e1 hecha?=4. Bastantes veces\", \"r\": [83, 105, 7, 48], \"showlegend\": true, \"theta\": [\"cluster_1\", \"cluster_2\", \"cluster_3\", \"cluster_4\"], \"type\": \"barpolar\", \"uid\": \"f47d98f4-1ae8-48f8-b92f-df021ce19748\"}, {\"hovertemplate\": \"Cuando te encuentras con una imagen, \\u00bfintentas entender con qu\\u00e9 intenci\\u00f3n est\\u00e1 hecha?=5. Casi siempre o siempre<br>counts=%{r}<br>cultural_cluster=%{theta}<extra></extra>\", \"legendgroup\": \"Cuando te encuentras con una imagen, \\u00bfintentas entender con qu\\u00e9 intenci\\u00f3n est\\u00e1 hecha?=5. Casi siempre o siempre\", \"marker\": {\"color\": \"rgb(153,213,148)\"}, \"name\": \"Cuando te encuentras con una imagen, \\u00bfintentas entender con qu\\u00e9 intenci\\u00f3n est\\u00e1 hecha?=5. Casi siempre o siempre\", \"r\": [66, 48, 3, 14], \"showlegend\": true, \"theta\": [\"cluster_1\", \"cluster_2\", \"cluster_3\", \"cluster_4\"], \"type\": \"barpolar\", \"uid\": \"6a11ecb0-f652-40c0-b557-451b82531a83\"}], {\"barmode\": \"group\", \"barnorm\": \"\", \"height\": 600, \"legend\": {\"tracegroupgap\": 0}, \"margin\": {\"t\": 60}, \"template\": {\"data\": {\"barpolar\": [{\"marker\": {\"line\": {\"color\": \"#E5ECF6\", \"width\": 0.5}}, \"type\": \"barpolar\"}], \"bar\": [{\"marker\": {\"line\": {\"color\": \"#E5ECF6\", \"width\": 0.5}}, \"type\": \"bar\"}], \"carpet\": [{\"aaxis\": {\"endlinecolor\": \"#2a3f5f\", \"gridcolor\": \"white\", \"linecolor\": \"white\", \"minorgridcolor\": \"white\", \"startlinecolor\": \"#2a3f5f\"}, \"baxis\": {\"endlinecolor\": \"#2a3f5f\", \"gridcolor\": \"white\", \"linecolor\": \"white\", \"minorgridcolor\": \"white\", \"startlinecolor\": \"#2a3f5f\"}, \"type\": \"carpet\"}], \"choropleth\": [{\"colorbar\": {\"outlinewidth\": 0, \"ticks\": \"\"}, \"type\": \"choropleth\"}], \"contourcarpet\": [{\"colorbar\": {\"outlinewidth\": 0, \"ticks\": \"\"}, \"type\": \"contourcarpet\"}], \"contour\": [{\"autocolorscale\": true, \"colorbar\": {\"outlinewidth\": 0, \"ticks\": \"\"}, \"type\": \"contour\"}], \"heatmapgl\": [{\"colorbar\": {\"outlinewidth\": 0, \"ticks\": \"\"}, \"type\": \"heatmapgl\"}], \"heatmap\": [{\"autocolorscale\": true, \"colorbar\": {\"outlinewidth\": 0, \"ticks\": \"\"}, \"type\": \"heatmap\"}], \"histogram2dcontour\": [{\"autocolorscale\": true, \"colorbar\": {\"outlinewidth\": 0, \"ticks\": \"\"}, \"type\": \"histogram2dcontour\"}], \"histogram2d\": [{\"autocolorscale\": true, \"colorbar\": {\"outlinewidth\": 0, \"ticks\": \"\"}, \"type\": \"histogram2d\"}], \"histogram\": [{\"marker\": {\"colorbar\": {\"outlinewidth\": 0, \"ticks\": \"\"}}, \"type\": \"histogram\"}], \"mesh3d\": [{\"colorbar\": {\"outlinewidth\": 0, \"ticks\": \"\"}, \"type\": \"mesh3d\"}], \"parcoords\": [{\"line\": {\"colorbar\": {\"outlinewidth\": 0, \"ticks\": \"\"}}, \"type\": \"parcoords\"}], \"scatter3d\": [{\"marker\": {\"colorbar\": {\"outlinewidth\": 0, \"ticks\": \"\"}}, \"type\": \"scatter3d\"}], \"scattercarpet\": [{\"marker\": {\"colorbar\": {\"outlinewidth\": 0, \"ticks\": \"\"}}, \"type\": \"scattercarpet\"}], \"scattergeo\": [{\"marker\": {\"colorbar\": {\"outlinewidth\": 0, \"ticks\": \"\"}}, \"type\": \"scattergeo\"}], \"scattergl\": [{\"marker\": {\"colorbar\": {\"outlinewidth\": 0, \"ticks\": \"\"}}, \"type\": \"scattergl\"}], \"scattermapbox\": [{\"marker\": {\"colorbar\": {\"outlinewidth\": 0, \"ticks\": \"\"}}, \"type\": \"scattermapbox\"}], \"scatterpolargl\": [{\"marker\": {\"colorbar\": {\"outlinewidth\": 0, \"ticks\": \"\"}}, \"type\": \"scatterpolargl\"}], \"scatterpolar\": [{\"marker\": {\"colorbar\": {\"outlinewidth\": 0, \"ticks\": \"\"}}, \"type\": \"scatterpolar\"}], \"scatter\": [{\"marker\": {\"colorbar\": {\"outlinewidth\": 0, \"ticks\": \"\"}}, \"type\": \"scatter\"}], \"scatterternary\": [{\"marker\": {\"colorbar\": {\"outlinewidth\": 0, \"ticks\": \"\"}}, \"type\": \"scatterternary\"}], \"surface\": [{\"colorbar\": {\"outlinewidth\": 0, \"ticks\": \"\"}, \"type\": \"surface\"}], \"table\": [{\"cells\": {\"fill\": {\"color\": \"#EBF0F8\"}, \"line\": {\"color\": \"white\"}}, \"header\": {\"fill\": {\"color\": \"#C8D4E3\"}, \"line\": {\"color\": \"white\"}}, \"type\": \"table\"}]}, \"layout\": {\"annotationdefaults\": {\"arrowcolor\": \"#506784\", \"arrowhead\": 0, \"arrowwidth\": 1}, \"colorscale\": {\"diverging\": [[0, \"#8e0152\"], [0.1, \"#c51b7d\"], [0.2, \"#de77ae\"], [0.3, \"#f1b6da\"], [0.4, \"#fde0ef\"], [0.5, \"#f7f7f7\"], [0.6, \"#e6f5d0\"], [0.7, \"#b8e186\"], [0.8, \"#7fbc41\"], [0.9, \"#4d9221\"], [1, \"#276419\"]], \"sequential\": [[0.0, \"#0508b8\"], [0.0893854748603352, \"#1910d8\"], [0.1787709497206704, \"#3c19f0\"], [0.2681564245810056, \"#6b1cfb\"], [0.3575418994413408, \"#981cfd\"], [0.44692737430167595, \"#bf1cfd\"], [0.5363128491620112, \"#dd2bfd\"], [0.6256983240223464, \"#f246fe\"], [0.7150837988826816, \"#fc67fd\"], [0.8044692737430168, \"#fe88fc\"], [0.8938547486033519, \"#fea5fd\"], [0.9832402234636871, \"#febefe\"], [1.0, \"#fec3fe\"]], \"sequentialminus\": [[0.0, \"#0508b8\"], [0.0893854748603352, \"#1910d8\"], [0.1787709497206704, \"#3c19f0\"], [0.2681564245810056, \"#6b1cfb\"], [0.3575418994413408, \"#981cfd\"], [0.44692737430167595, \"#bf1cfd\"], [0.5363128491620112, \"#dd2bfd\"], [0.6256983240223464, \"#f246fe\"], [0.7150837988826816, \"#fc67fd\"], [0.8044692737430168, \"#fe88fc\"], [0.8938547486033519, \"#fea5fd\"], [0.9832402234636871, \"#febefe\"], [1.0, \"#fec3fe\"]]}, \"colorway\": [\"#636efa\", \"#EF553B\", \"#00cc96\", \"#ab63fa\", \"#19d3f3\", \"#e763fa\", \"#FECB52\", \"#FFA15A\", \"#FF6692\", \"#B6E880\"], \"font\": {\"color\": \"#2a3f5f\"}, \"geo\": {\"bgcolor\": \"white\", \"lakecolor\": \"white\", \"landcolor\": \"#E5ECF6\", \"showlakes\": true, \"showland\": true, \"subunitcolor\": \"white\"}, \"hovermode\": \"closest\", \"mapbox\": {\"style\": \"light\"}, \"paper_bgcolor\": \"white\", \"plot_bgcolor\": \"#E5ECF6\", \"polar\": {\"angularaxis\": {\"gridcolor\": \"white\", \"linecolor\": \"white\", \"ticks\": \"\"}, \"bgcolor\": \"#E5ECF6\", \"radialaxis\": {\"gridcolor\": \"white\", \"linecolor\": \"white\", \"ticks\": \"\"}}, \"scene\": {\"xaxis\": {\"backgroundcolor\": \"#E5ECF6\", \"gridcolor\": \"white\", \"gridwidth\": 2, \"linecolor\": \"white\", \"showbackground\": true, \"ticks\": \"\", \"zerolinecolor\": \"white\"}, \"yaxis\": {\"backgroundcolor\": \"#E5ECF6\", \"gridcolor\": \"white\", \"gridwidth\": 2, \"linecolor\": \"white\", \"showbackground\": true, \"ticks\": \"\", \"zerolinecolor\": \"white\"}, \"zaxis\": {\"backgroundcolor\": \"#E5ECF6\", \"gridcolor\": \"white\", \"gridwidth\": 2, \"linecolor\": \"white\", \"showbackground\": true, \"ticks\": \"\", \"zerolinecolor\": \"white\"}}, \"shapedefaults\": {\"fillcolor\": \"#506784\", \"line\": {\"width\": 0}, \"opacity\": 0.4}, \"ternary\": {\"aaxis\": {\"gridcolor\": \"white\", \"linecolor\": \"white\", \"ticks\": \"\"}, \"baxis\": {\"gridcolor\": \"white\", \"linecolor\": \"white\", \"ticks\": \"\"}, \"bgcolor\": \"#E5ECF6\", \"caxis\": {\"gridcolor\": \"white\", \"linecolor\": \"white\", \"ticks\": \"\"}}, \"title\": {\"x\": 0.05}, \"xaxis\": {\"automargin\": true, \"gridcolor\": \"white\", \"linecolor\": \"white\", \"ticks\": \"\", \"zerolinecolor\": \"white\", \"zerolinewidth\": 2}, \"yaxis\": {\"automargin\": true, \"gridcolor\": \"white\", \"linecolor\": \"white\", \"ticks\": \"\", \"zerolinecolor\": \"white\", \"zerolinewidth\": 2}}}, \"polar\": {\"angularaxis\": {\"direction\": \"clockwise\", \"rotation\": 90}}}, {\"showLink\": false, \"linkText\": \"Export to plot.ly\", \"plotlyServerURL\": \"https://plot.ly\"}); \n",
       "}\n",
       "});</script><script type=\"text/javascript\">window.addEventListener(\"resize\", function(){if (document.getElementById(\"6afa44bd-21e2-4bd8-9a8a-d5558c96e109\")) {window._Plotly.Plots.resize(document.getElementById(\"6afa44bd-21e2-4bd8-9a8a-d5558c96e109\"));};})</script>"
      ]
     },
     "metadata": {},
     "output_type": "display_data"
    },
    {
     "name": "stdout",
     "output_type": "stream",
     "text": [
      "Comparando la pregunta Cuando recibes o consumes una imagen, ¿la comparas con tu propia realidad? ¿Intentas encontrar en tu entorno cierto parecido?\n"
     ]
    },
    {
     "data": {
      "application/vnd.plotly.v1+json": {
       "config": {
        "linkText": "Export to plot.ly",
        "plotlyServerURL": "https://plot.ly",
        "showLink": false
       },
       "data": [
        {
         "hovertemplate": "Cuando recibes o consumes una imagen, ¿la comparas con tu propia realidad? ¿Intentas encontrar en tu entorno cierto parecido?=1. Nunca<br>counts=%{r}<br>cultural_cluster=%{theta}<extra></extra>",
         "legendgroup": "Cuando recibes o consumes una imagen, ¿la comparas con tu propia realidad? ¿Intentas encontrar en tu entorno cierto parecido?=1. Nunca",
         "marker": {
          "color": "rgb(213,62,79)"
         },
         "name": "Cuando recibes o consumes una imagen, ¿la comparas con tu propia realidad? ¿Intentas encontrar en tu entorno cierto parecido?=1. Nunca",
         "r": [
          1,
          9,
          3,
          13
         ],
         "showlegend": true,
         "theta": [
          "cluster_1",
          "cluster_2",
          "cluster_3",
          "cluster_4"
         ],
         "type": "barpolar",
         "uid": "d6fe5523-765d-4610-adf1-0b2f4428e9bc"
        },
        {
         "hovertemplate": "Cuando recibes o consumes una imagen, ¿la comparas con tu propia realidad? ¿Intentas encontrar en tu entorno cierto parecido?=2. Muy pocas veces<br>counts=%{r}<br>cultural_cluster=%{theta}<extra></extra>",
         "legendgroup": "Cuando recibes o consumes una imagen, ¿la comparas con tu propia realidad? ¿Intentas encontrar en tu entorno cierto parecido?=2. Muy pocas veces",
         "marker": {
          "color": "rgb(252,141,89)"
         },
         "name": "Cuando recibes o consumes una imagen, ¿la comparas con tu propia realidad? ¿Intentas encontrar en tu entorno cierto parecido?=2. Muy pocas veces",
         "r": [
          19,
          35,
          8,
          52,
          1
         ],
         "showlegend": true,
         "theta": [
          "cluster_1",
          "cluster_2",
          "cluster_3",
          "cluster_4",
          "cluster_5"
         ],
         "type": "barpolar",
         "uid": "21eb36e1-317a-4a58-a5a5-28430c577b0c"
        },
        {
         "hovertemplate": "Cuando recibes o consumes una imagen, ¿la comparas con tu propia realidad? ¿Intentas encontrar en tu entorno cierto parecido?=3. En ocasiones<br>counts=%{r}<br>cultural_cluster=%{theta}<extra></extra>",
         "legendgroup": "Cuando recibes o consumes una imagen, ¿la comparas con tu propia realidad? ¿Intentas encontrar en tu entorno cierto parecido?=3. En ocasiones",
         "marker": {
          "color": "rgb(254,224,139)"
         },
         "name": "Cuando recibes o consumes una imagen, ¿la comparas con tu propia realidad? ¿Intentas encontrar en tu entorno cierto parecido?=3. En ocasiones",
         "r": [
          75,
          125,
          7,
          101
         ],
         "showlegend": true,
         "theta": [
          "cluster_1",
          "cluster_2",
          "cluster_3",
          "cluster_4"
         ],
         "type": "barpolar",
         "uid": "bbe2b73f-77da-4be3-bf4e-13d5990c0a63"
        },
        {
         "hovertemplate": "Cuando recibes o consumes una imagen, ¿la comparas con tu propia realidad? ¿Intentas encontrar en tu entorno cierto parecido?=4. Bastantes veces<br>counts=%{r}<br>cultural_cluster=%{theta}<extra></extra>",
         "legendgroup": "Cuando recibes o consumes una imagen, ¿la comparas con tu propia realidad? ¿Intentas encontrar en tu entorno cierto parecido?=4. Bastantes veces",
         "marker": {
          "color": "rgb(230,245,152)"
         },
         "name": "Cuando recibes o consumes una imagen, ¿la comparas con tu propia realidad? ¿Intentas encontrar en tu entorno cierto parecido?=4. Bastantes veces",
         "r": [
          85,
          99,
          7,
          46
         ],
         "showlegend": true,
         "theta": [
          "cluster_1",
          "cluster_2",
          "cluster_3",
          "cluster_4"
         ],
         "type": "barpolar",
         "uid": "2209356b-2455-4b17-8899-0d2b2e4bd97d"
        },
        {
         "hovertemplate": "Cuando recibes o consumes una imagen, ¿la comparas con tu propia realidad? ¿Intentas encontrar en tu entorno cierto parecido?=5. Casi siempre o siempre<br>counts=%{r}<br>cultural_cluster=%{theta}<extra></extra>",
         "legendgroup": "Cuando recibes o consumes una imagen, ¿la comparas con tu propia realidad? ¿Intentas encontrar en tu entorno cierto parecido?=5. Casi siempre o siempre",
         "marker": {
          "color": "rgb(153,213,148)"
         },
         "name": "Cuando recibes o consumes una imagen, ¿la comparas con tu propia realidad? ¿Intentas encontrar en tu entorno cierto parecido?=5. Casi siempre o siempre",
         "r": [
          43,
          33,
          2,
          3
         ],
         "showlegend": true,
         "theta": [
          "cluster_1",
          "cluster_2",
          "cluster_3",
          "cluster_4"
         ],
         "type": "barpolar",
         "uid": "072bcf2f-d49d-4d63-9e6c-4542b45828be"
        }
       ],
       "layout": {
        "barmode": "group",
        "barnorm": "",
        "height": 600,
        "legend": {
         "tracegroupgap": 0
        },
        "margin": {
         "t": 60
        },
        "polar": {
         "angularaxis": {
          "direction": "clockwise",
          "rotation": 90
         }
        },
        "template": {
         "data": {
          "bar": [
           {
            "marker": {
             "line": {
              "color": "#E5ECF6",
              "width": 0.5
             }
            },
            "type": "bar"
           }
          ],
          "barpolar": [
           {
            "marker": {
             "line": {
              "color": "#E5ECF6",
              "width": 0.5
             }
            },
            "type": "barpolar"
           }
          ],
          "carpet": [
           {
            "aaxis": {
             "endlinecolor": "#2a3f5f",
             "gridcolor": "white",
             "linecolor": "white",
             "minorgridcolor": "white",
             "startlinecolor": "#2a3f5f"
            },
            "baxis": {
             "endlinecolor": "#2a3f5f",
             "gridcolor": "white",
             "linecolor": "white",
             "minorgridcolor": "white",
             "startlinecolor": "#2a3f5f"
            },
            "type": "carpet"
           }
          ],
          "choropleth": [
           {
            "colorbar": {
             "outlinewidth": 0,
             "ticks": ""
            },
            "type": "choropleth"
           }
          ],
          "contour": [
           {
            "autocolorscale": true,
            "colorbar": {
             "outlinewidth": 0,
             "ticks": ""
            },
            "type": "contour"
           }
          ],
          "contourcarpet": [
           {
            "colorbar": {
             "outlinewidth": 0,
             "ticks": ""
            },
            "type": "contourcarpet"
           }
          ],
          "heatmap": [
           {
            "autocolorscale": true,
            "colorbar": {
             "outlinewidth": 0,
             "ticks": ""
            },
            "type": "heatmap"
           }
          ],
          "heatmapgl": [
           {
            "colorbar": {
             "outlinewidth": 0,
             "ticks": ""
            },
            "type": "heatmapgl"
           }
          ],
          "histogram": [
           {
            "marker": {
             "colorbar": {
              "outlinewidth": 0,
              "ticks": ""
             }
            },
            "type": "histogram"
           }
          ],
          "histogram2d": [
           {
            "autocolorscale": true,
            "colorbar": {
             "outlinewidth": 0,
             "ticks": ""
            },
            "type": "histogram2d"
           }
          ],
          "histogram2dcontour": [
           {
            "autocolorscale": true,
            "colorbar": {
             "outlinewidth": 0,
             "ticks": ""
            },
            "type": "histogram2dcontour"
           }
          ],
          "mesh3d": [
           {
            "colorbar": {
             "outlinewidth": 0,
             "ticks": ""
            },
            "type": "mesh3d"
           }
          ],
          "parcoords": [
           {
            "line": {
             "colorbar": {
              "outlinewidth": 0,
              "ticks": ""
             }
            },
            "type": "parcoords"
           }
          ],
          "scatter": [
           {
            "marker": {
             "colorbar": {
              "outlinewidth": 0,
              "ticks": ""
             }
            },
            "type": "scatter"
           }
          ],
          "scatter3d": [
           {
            "marker": {
             "colorbar": {
              "outlinewidth": 0,
              "ticks": ""
             }
            },
            "type": "scatter3d"
           }
          ],
          "scattercarpet": [
           {
            "marker": {
             "colorbar": {
              "outlinewidth": 0,
              "ticks": ""
             }
            },
            "type": "scattercarpet"
           }
          ],
          "scattergeo": [
           {
            "marker": {
             "colorbar": {
              "outlinewidth": 0,
              "ticks": ""
             }
            },
            "type": "scattergeo"
           }
          ],
          "scattergl": [
           {
            "marker": {
             "colorbar": {
              "outlinewidth": 0,
              "ticks": ""
             }
            },
            "type": "scattergl"
           }
          ],
          "scattermapbox": [
           {
            "marker": {
             "colorbar": {
              "outlinewidth": 0,
              "ticks": ""
             }
            },
            "type": "scattermapbox"
           }
          ],
          "scatterpolar": [
           {
            "marker": {
             "colorbar": {
              "outlinewidth": 0,
              "ticks": ""
             }
            },
            "type": "scatterpolar"
           }
          ],
          "scatterpolargl": [
           {
            "marker": {
             "colorbar": {
              "outlinewidth": 0,
              "ticks": ""
             }
            },
            "type": "scatterpolargl"
           }
          ],
          "scatterternary": [
           {
            "marker": {
             "colorbar": {
              "outlinewidth": 0,
              "ticks": ""
             }
            },
            "type": "scatterternary"
           }
          ],
          "surface": [
           {
            "colorbar": {
             "outlinewidth": 0,
             "ticks": ""
            },
            "type": "surface"
           }
          ],
          "table": [
           {
            "cells": {
             "fill": {
              "color": "#EBF0F8"
             },
             "line": {
              "color": "white"
             }
            },
            "header": {
             "fill": {
              "color": "#C8D4E3"
             },
             "line": {
              "color": "white"
             }
            },
            "type": "table"
           }
          ]
         },
         "layout": {
          "annotationdefaults": {
           "arrowcolor": "#506784",
           "arrowhead": 0,
           "arrowwidth": 1
          },
          "colorscale": {
           "diverging": [
            [
             0,
             "#8e0152"
            ],
            [
             0.1,
             "#c51b7d"
            ],
            [
             0.2,
             "#de77ae"
            ],
            [
             0.3,
             "#f1b6da"
            ],
            [
             0.4,
             "#fde0ef"
            ],
            [
             0.5,
             "#f7f7f7"
            ],
            [
             0.6,
             "#e6f5d0"
            ],
            [
             0.7,
             "#b8e186"
            ],
            [
             0.8,
             "#7fbc41"
            ],
            [
             0.9,
             "#4d9221"
            ],
            [
             1,
             "#276419"
            ]
           ],
           "sequential": [
            [
             0,
             "#0508b8"
            ],
            [
             0.0893854748603352,
             "#1910d8"
            ],
            [
             0.1787709497206704,
             "#3c19f0"
            ],
            [
             0.2681564245810056,
             "#6b1cfb"
            ],
            [
             0.3575418994413408,
             "#981cfd"
            ],
            [
             0.44692737430167595,
             "#bf1cfd"
            ],
            [
             0.5363128491620112,
             "#dd2bfd"
            ],
            [
             0.6256983240223464,
             "#f246fe"
            ],
            [
             0.7150837988826816,
             "#fc67fd"
            ],
            [
             0.8044692737430168,
             "#fe88fc"
            ],
            [
             0.8938547486033519,
             "#fea5fd"
            ],
            [
             0.9832402234636871,
             "#febefe"
            ],
            [
             1,
             "#fec3fe"
            ]
           ],
           "sequentialminus": [
            [
             0,
             "#0508b8"
            ],
            [
             0.0893854748603352,
             "#1910d8"
            ],
            [
             0.1787709497206704,
             "#3c19f0"
            ],
            [
             0.2681564245810056,
             "#6b1cfb"
            ],
            [
             0.3575418994413408,
             "#981cfd"
            ],
            [
             0.44692737430167595,
             "#bf1cfd"
            ],
            [
             0.5363128491620112,
             "#dd2bfd"
            ],
            [
             0.6256983240223464,
             "#f246fe"
            ],
            [
             0.7150837988826816,
             "#fc67fd"
            ],
            [
             0.8044692737430168,
             "#fe88fc"
            ],
            [
             0.8938547486033519,
             "#fea5fd"
            ],
            [
             0.9832402234636871,
             "#febefe"
            ],
            [
             1,
             "#fec3fe"
            ]
           ]
          },
          "colorway": [
           "#636efa",
           "#EF553B",
           "#00cc96",
           "#ab63fa",
           "#19d3f3",
           "#e763fa",
           "#FECB52",
           "#FFA15A",
           "#FF6692",
           "#B6E880"
          ],
          "font": {
           "color": "#2a3f5f"
          },
          "geo": {
           "bgcolor": "white",
           "lakecolor": "white",
           "landcolor": "#E5ECF6",
           "showlakes": true,
           "showland": true,
           "subunitcolor": "white"
          },
          "hovermode": "closest",
          "mapbox": {
           "style": "light"
          },
          "paper_bgcolor": "white",
          "plot_bgcolor": "#E5ECF6",
          "polar": {
           "angularaxis": {
            "gridcolor": "white",
            "linecolor": "white",
            "ticks": ""
           },
           "bgcolor": "#E5ECF6",
           "radialaxis": {
            "gridcolor": "white",
            "linecolor": "white",
            "ticks": ""
           }
          },
          "scene": {
           "xaxis": {
            "backgroundcolor": "#E5ECF6",
            "gridcolor": "white",
            "gridwidth": 2,
            "linecolor": "white",
            "showbackground": true,
            "ticks": "",
            "zerolinecolor": "white"
           },
           "yaxis": {
            "backgroundcolor": "#E5ECF6",
            "gridcolor": "white",
            "gridwidth": 2,
            "linecolor": "white",
            "showbackground": true,
            "ticks": "",
            "zerolinecolor": "white"
           },
           "zaxis": {
            "backgroundcolor": "#E5ECF6",
            "gridcolor": "white",
            "gridwidth": 2,
            "linecolor": "white",
            "showbackground": true,
            "ticks": "",
            "zerolinecolor": "white"
           }
          },
          "shapedefaults": {
           "fillcolor": "#506784",
           "line": {
            "width": 0
           },
           "opacity": 0.4
          },
          "ternary": {
           "aaxis": {
            "gridcolor": "white",
            "linecolor": "white",
            "ticks": ""
           },
           "baxis": {
            "gridcolor": "white",
            "linecolor": "white",
            "ticks": ""
           },
           "bgcolor": "#E5ECF6",
           "caxis": {
            "gridcolor": "white",
            "linecolor": "white",
            "ticks": ""
           }
          },
          "title": {
           "x": 0.05
          },
          "xaxis": {
           "automargin": true,
           "gridcolor": "white",
           "linecolor": "white",
           "ticks": "",
           "zerolinecolor": "white",
           "zerolinewidth": 2
          },
          "yaxis": {
           "automargin": true,
           "gridcolor": "white",
           "linecolor": "white",
           "ticks": "",
           "zerolinecolor": "white",
           "zerolinewidth": 2
          }
         }
        }
       }
      },
      "text/html": [
       "<div id=\"4155f96d-2f22-40fc-bf12-a92ea6d1d99e\" style=\"height: 600px; width: 100%;\" class=\"plotly-graph-div\"></div><script type=\"text/javascript\">require([\"plotly\"], function(Plotly) { window.PLOTLYENV=window.PLOTLYENV || {};window.PLOTLYENV.BASE_URL=\"https://plot.ly\";\n",
       "if (document.getElementById(\"4155f96d-2f22-40fc-bf12-a92ea6d1d99e\")) {\n",
       "    Plotly.newPlot(\"4155f96d-2f22-40fc-bf12-a92ea6d1d99e\", [{\"hovertemplate\": \"Cuando recibes o consumes una imagen, \\u00bfla comparas con tu propia realidad? \\u00bfIntentas encontrar en tu entorno cierto parecido?=1. Nunca<br>counts=%{r}<br>cultural_cluster=%{theta}<extra></extra>\", \"legendgroup\": \"Cuando recibes o consumes una imagen, \\u00bfla comparas con tu propia realidad? \\u00bfIntentas encontrar en tu entorno cierto parecido?=1. Nunca\", \"marker\": {\"color\": \"rgb(213,62,79)\"}, \"name\": \"Cuando recibes o consumes una imagen, \\u00bfla comparas con tu propia realidad? \\u00bfIntentas encontrar en tu entorno cierto parecido?=1. Nunca\", \"r\": [1, 9, 3, 13], \"showlegend\": true, \"theta\": [\"cluster_1\", \"cluster_2\", \"cluster_3\", \"cluster_4\"], \"type\": \"barpolar\", \"uid\": \"d6fe5523-765d-4610-adf1-0b2f4428e9bc\"}, {\"hovertemplate\": \"Cuando recibes o consumes una imagen, \\u00bfla comparas con tu propia realidad? \\u00bfIntentas encontrar en tu entorno cierto parecido?=2. Muy pocas veces<br>counts=%{r}<br>cultural_cluster=%{theta}<extra></extra>\", \"legendgroup\": \"Cuando recibes o consumes una imagen, \\u00bfla comparas con tu propia realidad? \\u00bfIntentas encontrar en tu entorno cierto parecido?=2. Muy pocas veces\", \"marker\": {\"color\": \"rgb(252,141,89)\"}, \"name\": \"Cuando recibes o consumes una imagen, \\u00bfla comparas con tu propia realidad? \\u00bfIntentas encontrar en tu entorno cierto parecido?=2. Muy pocas veces\", \"r\": [19, 35, 8, 52, 1], \"showlegend\": true, \"theta\": [\"cluster_1\", \"cluster_2\", \"cluster_3\", \"cluster_4\", \"cluster_5\"], \"type\": \"barpolar\", \"uid\": \"21eb36e1-317a-4a58-a5a5-28430c577b0c\"}, {\"hovertemplate\": \"Cuando recibes o consumes una imagen, \\u00bfla comparas con tu propia realidad? \\u00bfIntentas encontrar en tu entorno cierto parecido?=3. En ocasiones<br>counts=%{r}<br>cultural_cluster=%{theta}<extra></extra>\", \"legendgroup\": \"Cuando recibes o consumes una imagen, \\u00bfla comparas con tu propia realidad? \\u00bfIntentas encontrar en tu entorno cierto parecido?=3. En ocasiones\", \"marker\": {\"color\": \"rgb(254,224,139)\"}, \"name\": \"Cuando recibes o consumes una imagen, \\u00bfla comparas con tu propia realidad? \\u00bfIntentas encontrar en tu entorno cierto parecido?=3. En ocasiones\", \"r\": [75, 125, 7, 101], \"showlegend\": true, \"theta\": [\"cluster_1\", \"cluster_2\", \"cluster_3\", \"cluster_4\"], \"type\": \"barpolar\", \"uid\": \"bbe2b73f-77da-4be3-bf4e-13d5990c0a63\"}, {\"hovertemplate\": \"Cuando recibes o consumes una imagen, \\u00bfla comparas con tu propia realidad? \\u00bfIntentas encontrar en tu entorno cierto parecido?=4. Bastantes veces<br>counts=%{r}<br>cultural_cluster=%{theta}<extra></extra>\", \"legendgroup\": \"Cuando recibes o consumes una imagen, \\u00bfla comparas con tu propia realidad? \\u00bfIntentas encontrar en tu entorno cierto parecido?=4. Bastantes veces\", \"marker\": {\"color\": \"rgb(230,245,152)\"}, \"name\": \"Cuando recibes o consumes una imagen, \\u00bfla comparas con tu propia realidad? \\u00bfIntentas encontrar en tu entorno cierto parecido?=4. Bastantes veces\", \"r\": [85, 99, 7, 46], \"showlegend\": true, \"theta\": [\"cluster_1\", \"cluster_2\", \"cluster_3\", \"cluster_4\"], \"type\": \"barpolar\", \"uid\": \"2209356b-2455-4b17-8899-0d2b2e4bd97d\"}, {\"hovertemplate\": \"Cuando recibes o consumes una imagen, \\u00bfla comparas con tu propia realidad? \\u00bfIntentas encontrar en tu entorno cierto parecido?=5. Casi siempre o siempre<br>counts=%{r}<br>cultural_cluster=%{theta}<extra></extra>\", \"legendgroup\": \"Cuando recibes o consumes una imagen, \\u00bfla comparas con tu propia realidad? \\u00bfIntentas encontrar en tu entorno cierto parecido?=5. Casi siempre o siempre\", \"marker\": {\"color\": \"rgb(153,213,148)\"}, \"name\": \"Cuando recibes o consumes una imagen, \\u00bfla comparas con tu propia realidad? \\u00bfIntentas encontrar en tu entorno cierto parecido?=5. Casi siempre o siempre\", \"r\": [43, 33, 2, 3], \"showlegend\": true, \"theta\": [\"cluster_1\", \"cluster_2\", \"cluster_3\", \"cluster_4\"], \"type\": \"barpolar\", \"uid\": \"072bcf2f-d49d-4d63-9e6c-4542b45828be\"}], {\"barmode\": \"group\", \"barnorm\": \"\", \"height\": 600, \"legend\": {\"tracegroupgap\": 0}, \"margin\": {\"t\": 60}, \"template\": {\"data\": {\"barpolar\": [{\"marker\": {\"line\": {\"color\": \"#E5ECF6\", \"width\": 0.5}}, \"type\": \"barpolar\"}], \"bar\": [{\"marker\": {\"line\": {\"color\": \"#E5ECF6\", \"width\": 0.5}}, \"type\": \"bar\"}], \"carpet\": [{\"aaxis\": {\"endlinecolor\": \"#2a3f5f\", \"gridcolor\": \"white\", \"linecolor\": \"white\", \"minorgridcolor\": \"white\", \"startlinecolor\": \"#2a3f5f\"}, \"baxis\": {\"endlinecolor\": \"#2a3f5f\", \"gridcolor\": \"white\", \"linecolor\": \"white\", \"minorgridcolor\": \"white\", \"startlinecolor\": \"#2a3f5f\"}, \"type\": \"carpet\"}], \"choropleth\": [{\"colorbar\": {\"outlinewidth\": 0, \"ticks\": \"\"}, \"type\": \"choropleth\"}], \"contourcarpet\": [{\"colorbar\": {\"outlinewidth\": 0, \"ticks\": \"\"}, \"type\": \"contourcarpet\"}], \"contour\": [{\"autocolorscale\": true, \"colorbar\": {\"outlinewidth\": 0, \"ticks\": \"\"}, \"type\": \"contour\"}], \"heatmapgl\": [{\"colorbar\": {\"outlinewidth\": 0, \"ticks\": \"\"}, \"type\": \"heatmapgl\"}], \"heatmap\": [{\"autocolorscale\": true, \"colorbar\": {\"outlinewidth\": 0, \"ticks\": \"\"}, \"type\": \"heatmap\"}], \"histogram2dcontour\": [{\"autocolorscale\": true, \"colorbar\": {\"outlinewidth\": 0, \"ticks\": \"\"}, \"type\": \"histogram2dcontour\"}], \"histogram2d\": [{\"autocolorscale\": true, \"colorbar\": {\"outlinewidth\": 0, \"ticks\": \"\"}, \"type\": \"histogram2d\"}], \"histogram\": [{\"marker\": {\"colorbar\": {\"outlinewidth\": 0, \"ticks\": \"\"}}, \"type\": \"histogram\"}], \"mesh3d\": [{\"colorbar\": {\"outlinewidth\": 0, \"ticks\": \"\"}, \"type\": \"mesh3d\"}], \"parcoords\": [{\"line\": {\"colorbar\": {\"outlinewidth\": 0, \"ticks\": \"\"}}, \"type\": \"parcoords\"}], \"scatter3d\": [{\"marker\": {\"colorbar\": {\"outlinewidth\": 0, \"ticks\": \"\"}}, \"type\": \"scatter3d\"}], \"scattercarpet\": [{\"marker\": {\"colorbar\": {\"outlinewidth\": 0, \"ticks\": \"\"}}, \"type\": \"scattercarpet\"}], \"scattergeo\": [{\"marker\": {\"colorbar\": {\"outlinewidth\": 0, \"ticks\": \"\"}}, \"type\": \"scattergeo\"}], \"scattergl\": [{\"marker\": {\"colorbar\": {\"outlinewidth\": 0, \"ticks\": \"\"}}, \"type\": \"scattergl\"}], \"scattermapbox\": [{\"marker\": {\"colorbar\": {\"outlinewidth\": 0, \"ticks\": \"\"}}, \"type\": \"scattermapbox\"}], \"scatterpolargl\": [{\"marker\": {\"colorbar\": {\"outlinewidth\": 0, \"ticks\": \"\"}}, \"type\": \"scatterpolargl\"}], \"scatterpolar\": [{\"marker\": {\"colorbar\": {\"outlinewidth\": 0, \"ticks\": \"\"}}, \"type\": \"scatterpolar\"}], \"scatter\": [{\"marker\": {\"colorbar\": {\"outlinewidth\": 0, \"ticks\": \"\"}}, \"type\": \"scatter\"}], \"scatterternary\": [{\"marker\": {\"colorbar\": {\"outlinewidth\": 0, \"ticks\": \"\"}}, \"type\": \"scatterternary\"}], \"surface\": [{\"colorbar\": {\"outlinewidth\": 0, \"ticks\": \"\"}, \"type\": \"surface\"}], \"table\": [{\"cells\": {\"fill\": {\"color\": \"#EBF0F8\"}, \"line\": {\"color\": \"white\"}}, \"header\": {\"fill\": {\"color\": \"#C8D4E3\"}, \"line\": {\"color\": \"white\"}}, \"type\": \"table\"}]}, \"layout\": {\"annotationdefaults\": {\"arrowcolor\": \"#506784\", \"arrowhead\": 0, \"arrowwidth\": 1}, \"colorscale\": {\"diverging\": [[0, \"#8e0152\"], [0.1, \"#c51b7d\"], [0.2, \"#de77ae\"], [0.3, \"#f1b6da\"], [0.4, \"#fde0ef\"], [0.5, \"#f7f7f7\"], [0.6, \"#e6f5d0\"], [0.7, \"#b8e186\"], [0.8, \"#7fbc41\"], [0.9, \"#4d9221\"], [1, \"#276419\"]], \"sequential\": [[0.0, \"#0508b8\"], [0.0893854748603352, \"#1910d8\"], [0.1787709497206704, \"#3c19f0\"], [0.2681564245810056, \"#6b1cfb\"], [0.3575418994413408, \"#981cfd\"], [0.44692737430167595, \"#bf1cfd\"], [0.5363128491620112, \"#dd2bfd\"], [0.6256983240223464, \"#f246fe\"], [0.7150837988826816, \"#fc67fd\"], [0.8044692737430168, \"#fe88fc\"], [0.8938547486033519, \"#fea5fd\"], [0.9832402234636871, \"#febefe\"], [1.0, \"#fec3fe\"]], \"sequentialminus\": [[0.0, \"#0508b8\"], [0.0893854748603352, \"#1910d8\"], [0.1787709497206704, \"#3c19f0\"], [0.2681564245810056, \"#6b1cfb\"], [0.3575418994413408, \"#981cfd\"], [0.44692737430167595, \"#bf1cfd\"], [0.5363128491620112, \"#dd2bfd\"], [0.6256983240223464, \"#f246fe\"], [0.7150837988826816, \"#fc67fd\"], [0.8044692737430168, \"#fe88fc\"], [0.8938547486033519, \"#fea5fd\"], [0.9832402234636871, \"#febefe\"], [1.0, \"#fec3fe\"]]}, \"colorway\": [\"#636efa\", \"#EF553B\", \"#00cc96\", \"#ab63fa\", \"#19d3f3\", \"#e763fa\", \"#FECB52\", \"#FFA15A\", \"#FF6692\", \"#B6E880\"], \"font\": {\"color\": \"#2a3f5f\"}, \"geo\": {\"bgcolor\": \"white\", \"lakecolor\": \"white\", \"landcolor\": \"#E5ECF6\", \"showlakes\": true, \"showland\": true, \"subunitcolor\": \"white\"}, \"hovermode\": \"closest\", \"mapbox\": {\"style\": \"light\"}, \"paper_bgcolor\": \"white\", \"plot_bgcolor\": \"#E5ECF6\", \"polar\": {\"angularaxis\": {\"gridcolor\": \"white\", \"linecolor\": \"white\", \"ticks\": \"\"}, \"bgcolor\": \"#E5ECF6\", \"radialaxis\": {\"gridcolor\": \"white\", \"linecolor\": \"white\", \"ticks\": \"\"}}, \"scene\": {\"xaxis\": {\"backgroundcolor\": \"#E5ECF6\", \"gridcolor\": \"white\", \"gridwidth\": 2, \"linecolor\": \"white\", \"showbackground\": true, \"ticks\": \"\", \"zerolinecolor\": \"white\"}, \"yaxis\": {\"backgroundcolor\": \"#E5ECF6\", \"gridcolor\": \"white\", \"gridwidth\": 2, \"linecolor\": \"white\", \"showbackground\": true, \"ticks\": \"\", \"zerolinecolor\": \"white\"}, \"zaxis\": {\"backgroundcolor\": \"#E5ECF6\", \"gridcolor\": \"white\", \"gridwidth\": 2, \"linecolor\": \"white\", \"showbackground\": true, \"ticks\": \"\", \"zerolinecolor\": \"white\"}}, \"shapedefaults\": {\"fillcolor\": \"#506784\", \"line\": {\"width\": 0}, \"opacity\": 0.4}, \"ternary\": {\"aaxis\": {\"gridcolor\": \"white\", \"linecolor\": \"white\", \"ticks\": \"\"}, \"baxis\": {\"gridcolor\": \"white\", \"linecolor\": \"white\", \"ticks\": \"\"}, \"bgcolor\": \"#E5ECF6\", \"caxis\": {\"gridcolor\": \"white\", \"linecolor\": \"white\", \"ticks\": \"\"}}, \"title\": {\"x\": 0.05}, \"xaxis\": {\"automargin\": true, \"gridcolor\": \"white\", \"linecolor\": \"white\", \"ticks\": \"\", \"zerolinecolor\": \"white\", \"zerolinewidth\": 2}, \"yaxis\": {\"automargin\": true, \"gridcolor\": \"white\", \"linecolor\": \"white\", \"ticks\": \"\", \"zerolinecolor\": \"white\", \"zerolinewidth\": 2}}}, \"polar\": {\"angularaxis\": {\"direction\": \"clockwise\", \"rotation\": 90}}}, {\"showLink\": false, \"linkText\": \"Export to plot.ly\", \"plotlyServerURL\": \"https://plot.ly\"}); \n",
       "}\n",
       "});</script><script type=\"text/javascript\">window.addEventListener(\"resize\", function(){if (document.getElementById(\"4155f96d-2f22-40fc-bf12-a92ea6d1d99e\")) {window._Plotly.Plots.resize(document.getElementById(\"4155f96d-2f22-40fc-bf12-a92ea6d1d99e\"));};})</script>"
      ],
      "text/vnd.plotly.v1+html": [
       "<div id=\"4155f96d-2f22-40fc-bf12-a92ea6d1d99e\" style=\"height: 600px; width: 100%;\" class=\"plotly-graph-div\"></div><script type=\"text/javascript\">require([\"plotly\"], function(Plotly) { window.PLOTLYENV=window.PLOTLYENV || {};window.PLOTLYENV.BASE_URL=\"https://plot.ly\";\n",
       "if (document.getElementById(\"4155f96d-2f22-40fc-bf12-a92ea6d1d99e\")) {\n",
       "    Plotly.newPlot(\"4155f96d-2f22-40fc-bf12-a92ea6d1d99e\", [{\"hovertemplate\": \"Cuando recibes o consumes una imagen, \\u00bfla comparas con tu propia realidad? \\u00bfIntentas encontrar en tu entorno cierto parecido?=1. Nunca<br>counts=%{r}<br>cultural_cluster=%{theta}<extra></extra>\", \"legendgroup\": \"Cuando recibes o consumes una imagen, \\u00bfla comparas con tu propia realidad? \\u00bfIntentas encontrar en tu entorno cierto parecido?=1. Nunca\", \"marker\": {\"color\": \"rgb(213,62,79)\"}, \"name\": \"Cuando recibes o consumes una imagen, \\u00bfla comparas con tu propia realidad? \\u00bfIntentas encontrar en tu entorno cierto parecido?=1. Nunca\", \"r\": [1, 9, 3, 13], \"showlegend\": true, \"theta\": [\"cluster_1\", \"cluster_2\", \"cluster_3\", \"cluster_4\"], \"type\": \"barpolar\", \"uid\": \"d6fe5523-765d-4610-adf1-0b2f4428e9bc\"}, {\"hovertemplate\": \"Cuando recibes o consumes una imagen, \\u00bfla comparas con tu propia realidad? \\u00bfIntentas encontrar en tu entorno cierto parecido?=2. Muy pocas veces<br>counts=%{r}<br>cultural_cluster=%{theta}<extra></extra>\", \"legendgroup\": \"Cuando recibes o consumes una imagen, \\u00bfla comparas con tu propia realidad? \\u00bfIntentas encontrar en tu entorno cierto parecido?=2. Muy pocas veces\", \"marker\": {\"color\": \"rgb(252,141,89)\"}, \"name\": \"Cuando recibes o consumes una imagen, \\u00bfla comparas con tu propia realidad? \\u00bfIntentas encontrar en tu entorno cierto parecido?=2. Muy pocas veces\", \"r\": [19, 35, 8, 52, 1], \"showlegend\": true, \"theta\": [\"cluster_1\", \"cluster_2\", \"cluster_3\", \"cluster_4\", \"cluster_5\"], \"type\": \"barpolar\", \"uid\": \"21eb36e1-317a-4a58-a5a5-28430c577b0c\"}, {\"hovertemplate\": \"Cuando recibes o consumes una imagen, \\u00bfla comparas con tu propia realidad? \\u00bfIntentas encontrar en tu entorno cierto parecido?=3. En ocasiones<br>counts=%{r}<br>cultural_cluster=%{theta}<extra></extra>\", \"legendgroup\": \"Cuando recibes o consumes una imagen, \\u00bfla comparas con tu propia realidad? \\u00bfIntentas encontrar en tu entorno cierto parecido?=3. En ocasiones\", \"marker\": {\"color\": \"rgb(254,224,139)\"}, \"name\": \"Cuando recibes o consumes una imagen, \\u00bfla comparas con tu propia realidad? \\u00bfIntentas encontrar en tu entorno cierto parecido?=3. En ocasiones\", \"r\": [75, 125, 7, 101], \"showlegend\": true, \"theta\": [\"cluster_1\", \"cluster_2\", \"cluster_3\", \"cluster_4\"], \"type\": \"barpolar\", \"uid\": \"bbe2b73f-77da-4be3-bf4e-13d5990c0a63\"}, {\"hovertemplate\": \"Cuando recibes o consumes una imagen, \\u00bfla comparas con tu propia realidad? \\u00bfIntentas encontrar en tu entorno cierto parecido?=4. Bastantes veces<br>counts=%{r}<br>cultural_cluster=%{theta}<extra></extra>\", \"legendgroup\": \"Cuando recibes o consumes una imagen, \\u00bfla comparas con tu propia realidad? \\u00bfIntentas encontrar en tu entorno cierto parecido?=4. Bastantes veces\", \"marker\": {\"color\": \"rgb(230,245,152)\"}, \"name\": \"Cuando recibes o consumes una imagen, \\u00bfla comparas con tu propia realidad? \\u00bfIntentas encontrar en tu entorno cierto parecido?=4. Bastantes veces\", \"r\": [85, 99, 7, 46], \"showlegend\": true, \"theta\": [\"cluster_1\", \"cluster_2\", \"cluster_3\", \"cluster_4\"], \"type\": \"barpolar\", \"uid\": \"2209356b-2455-4b17-8899-0d2b2e4bd97d\"}, {\"hovertemplate\": \"Cuando recibes o consumes una imagen, \\u00bfla comparas con tu propia realidad? \\u00bfIntentas encontrar en tu entorno cierto parecido?=5. Casi siempre o siempre<br>counts=%{r}<br>cultural_cluster=%{theta}<extra></extra>\", \"legendgroup\": \"Cuando recibes o consumes una imagen, \\u00bfla comparas con tu propia realidad? \\u00bfIntentas encontrar en tu entorno cierto parecido?=5. Casi siempre o siempre\", \"marker\": {\"color\": \"rgb(153,213,148)\"}, \"name\": \"Cuando recibes o consumes una imagen, \\u00bfla comparas con tu propia realidad? \\u00bfIntentas encontrar en tu entorno cierto parecido?=5. Casi siempre o siempre\", \"r\": [43, 33, 2, 3], \"showlegend\": true, \"theta\": [\"cluster_1\", \"cluster_2\", \"cluster_3\", \"cluster_4\"], \"type\": \"barpolar\", \"uid\": \"072bcf2f-d49d-4d63-9e6c-4542b45828be\"}], {\"barmode\": \"group\", \"barnorm\": \"\", \"height\": 600, \"legend\": {\"tracegroupgap\": 0}, \"margin\": {\"t\": 60}, \"template\": {\"data\": {\"barpolar\": [{\"marker\": {\"line\": {\"color\": \"#E5ECF6\", \"width\": 0.5}}, \"type\": \"barpolar\"}], \"bar\": [{\"marker\": {\"line\": {\"color\": \"#E5ECF6\", \"width\": 0.5}}, \"type\": \"bar\"}], \"carpet\": [{\"aaxis\": {\"endlinecolor\": \"#2a3f5f\", \"gridcolor\": \"white\", \"linecolor\": \"white\", \"minorgridcolor\": \"white\", \"startlinecolor\": \"#2a3f5f\"}, \"baxis\": {\"endlinecolor\": \"#2a3f5f\", \"gridcolor\": \"white\", \"linecolor\": \"white\", \"minorgridcolor\": \"white\", \"startlinecolor\": \"#2a3f5f\"}, \"type\": \"carpet\"}], \"choropleth\": [{\"colorbar\": {\"outlinewidth\": 0, \"ticks\": \"\"}, \"type\": \"choropleth\"}], \"contourcarpet\": [{\"colorbar\": {\"outlinewidth\": 0, \"ticks\": \"\"}, \"type\": \"contourcarpet\"}], \"contour\": [{\"autocolorscale\": true, \"colorbar\": {\"outlinewidth\": 0, \"ticks\": \"\"}, \"type\": \"contour\"}], \"heatmapgl\": [{\"colorbar\": {\"outlinewidth\": 0, \"ticks\": \"\"}, \"type\": \"heatmapgl\"}], \"heatmap\": [{\"autocolorscale\": true, \"colorbar\": {\"outlinewidth\": 0, \"ticks\": \"\"}, \"type\": \"heatmap\"}], \"histogram2dcontour\": [{\"autocolorscale\": true, \"colorbar\": {\"outlinewidth\": 0, \"ticks\": \"\"}, \"type\": \"histogram2dcontour\"}], \"histogram2d\": [{\"autocolorscale\": true, \"colorbar\": {\"outlinewidth\": 0, \"ticks\": \"\"}, \"type\": \"histogram2d\"}], \"histogram\": [{\"marker\": {\"colorbar\": {\"outlinewidth\": 0, \"ticks\": \"\"}}, \"type\": \"histogram\"}], \"mesh3d\": [{\"colorbar\": {\"outlinewidth\": 0, \"ticks\": \"\"}, \"type\": \"mesh3d\"}], \"parcoords\": [{\"line\": {\"colorbar\": {\"outlinewidth\": 0, \"ticks\": \"\"}}, \"type\": \"parcoords\"}], \"scatter3d\": [{\"marker\": {\"colorbar\": {\"outlinewidth\": 0, \"ticks\": \"\"}}, \"type\": \"scatter3d\"}], \"scattercarpet\": [{\"marker\": {\"colorbar\": {\"outlinewidth\": 0, \"ticks\": \"\"}}, \"type\": \"scattercarpet\"}], \"scattergeo\": [{\"marker\": {\"colorbar\": {\"outlinewidth\": 0, \"ticks\": \"\"}}, \"type\": \"scattergeo\"}], \"scattergl\": [{\"marker\": {\"colorbar\": {\"outlinewidth\": 0, \"ticks\": \"\"}}, \"type\": \"scattergl\"}], \"scattermapbox\": [{\"marker\": {\"colorbar\": {\"outlinewidth\": 0, \"ticks\": \"\"}}, \"type\": \"scattermapbox\"}], \"scatterpolargl\": [{\"marker\": {\"colorbar\": {\"outlinewidth\": 0, \"ticks\": \"\"}}, \"type\": \"scatterpolargl\"}], \"scatterpolar\": [{\"marker\": {\"colorbar\": {\"outlinewidth\": 0, \"ticks\": \"\"}}, \"type\": \"scatterpolar\"}], \"scatter\": [{\"marker\": {\"colorbar\": {\"outlinewidth\": 0, \"ticks\": \"\"}}, \"type\": \"scatter\"}], \"scatterternary\": [{\"marker\": {\"colorbar\": {\"outlinewidth\": 0, \"ticks\": \"\"}}, \"type\": \"scatterternary\"}], \"surface\": [{\"colorbar\": {\"outlinewidth\": 0, \"ticks\": \"\"}, \"type\": \"surface\"}], \"table\": [{\"cells\": {\"fill\": {\"color\": \"#EBF0F8\"}, \"line\": {\"color\": \"white\"}}, \"header\": {\"fill\": {\"color\": \"#C8D4E3\"}, \"line\": {\"color\": \"white\"}}, \"type\": \"table\"}]}, \"layout\": {\"annotationdefaults\": {\"arrowcolor\": \"#506784\", \"arrowhead\": 0, \"arrowwidth\": 1}, \"colorscale\": {\"diverging\": [[0, \"#8e0152\"], [0.1, \"#c51b7d\"], [0.2, \"#de77ae\"], [0.3, \"#f1b6da\"], [0.4, \"#fde0ef\"], [0.5, \"#f7f7f7\"], [0.6, \"#e6f5d0\"], [0.7, \"#b8e186\"], [0.8, \"#7fbc41\"], [0.9, \"#4d9221\"], [1, \"#276419\"]], \"sequential\": [[0.0, \"#0508b8\"], [0.0893854748603352, \"#1910d8\"], [0.1787709497206704, \"#3c19f0\"], [0.2681564245810056, \"#6b1cfb\"], [0.3575418994413408, \"#981cfd\"], [0.44692737430167595, \"#bf1cfd\"], [0.5363128491620112, \"#dd2bfd\"], [0.6256983240223464, \"#f246fe\"], [0.7150837988826816, \"#fc67fd\"], [0.8044692737430168, \"#fe88fc\"], [0.8938547486033519, \"#fea5fd\"], [0.9832402234636871, \"#febefe\"], [1.0, \"#fec3fe\"]], \"sequentialminus\": [[0.0, \"#0508b8\"], [0.0893854748603352, \"#1910d8\"], [0.1787709497206704, \"#3c19f0\"], [0.2681564245810056, \"#6b1cfb\"], [0.3575418994413408, \"#981cfd\"], [0.44692737430167595, \"#bf1cfd\"], [0.5363128491620112, \"#dd2bfd\"], [0.6256983240223464, \"#f246fe\"], [0.7150837988826816, \"#fc67fd\"], [0.8044692737430168, \"#fe88fc\"], [0.8938547486033519, \"#fea5fd\"], [0.9832402234636871, \"#febefe\"], [1.0, \"#fec3fe\"]]}, \"colorway\": [\"#636efa\", \"#EF553B\", \"#00cc96\", \"#ab63fa\", \"#19d3f3\", \"#e763fa\", \"#FECB52\", \"#FFA15A\", \"#FF6692\", \"#B6E880\"], \"font\": {\"color\": \"#2a3f5f\"}, \"geo\": {\"bgcolor\": \"white\", \"lakecolor\": \"white\", \"landcolor\": \"#E5ECF6\", \"showlakes\": true, \"showland\": true, \"subunitcolor\": \"white\"}, \"hovermode\": \"closest\", \"mapbox\": {\"style\": \"light\"}, \"paper_bgcolor\": \"white\", \"plot_bgcolor\": \"#E5ECF6\", \"polar\": {\"angularaxis\": {\"gridcolor\": \"white\", \"linecolor\": \"white\", \"ticks\": \"\"}, \"bgcolor\": \"#E5ECF6\", \"radialaxis\": {\"gridcolor\": \"white\", \"linecolor\": \"white\", \"ticks\": \"\"}}, \"scene\": {\"xaxis\": {\"backgroundcolor\": \"#E5ECF6\", \"gridcolor\": \"white\", \"gridwidth\": 2, \"linecolor\": \"white\", \"showbackground\": true, \"ticks\": \"\", \"zerolinecolor\": \"white\"}, \"yaxis\": {\"backgroundcolor\": \"#E5ECF6\", \"gridcolor\": \"white\", \"gridwidth\": 2, \"linecolor\": \"white\", \"showbackground\": true, \"ticks\": \"\", \"zerolinecolor\": \"white\"}, \"zaxis\": {\"backgroundcolor\": \"#E5ECF6\", \"gridcolor\": \"white\", \"gridwidth\": 2, \"linecolor\": \"white\", \"showbackground\": true, \"ticks\": \"\", \"zerolinecolor\": \"white\"}}, \"shapedefaults\": {\"fillcolor\": \"#506784\", \"line\": {\"width\": 0}, \"opacity\": 0.4}, \"ternary\": {\"aaxis\": {\"gridcolor\": \"white\", \"linecolor\": \"white\", \"ticks\": \"\"}, \"baxis\": {\"gridcolor\": \"white\", \"linecolor\": \"white\", \"ticks\": \"\"}, \"bgcolor\": \"#E5ECF6\", \"caxis\": {\"gridcolor\": \"white\", \"linecolor\": \"white\", \"ticks\": \"\"}}, \"title\": {\"x\": 0.05}, \"xaxis\": {\"automargin\": true, \"gridcolor\": \"white\", \"linecolor\": \"white\", \"ticks\": \"\", \"zerolinecolor\": \"white\", \"zerolinewidth\": 2}, \"yaxis\": {\"automargin\": true, \"gridcolor\": \"white\", \"linecolor\": \"white\", \"ticks\": \"\", \"zerolinecolor\": \"white\", \"zerolinewidth\": 2}}}, \"polar\": {\"angularaxis\": {\"direction\": \"clockwise\", \"rotation\": 90}}}, {\"showLink\": false, \"linkText\": \"Export to plot.ly\", \"plotlyServerURL\": \"https://plot.ly\"}); \n",
       "}\n",
       "});</script><script type=\"text/javascript\">window.addEventListener(\"resize\", function(){if (document.getElementById(\"4155f96d-2f22-40fc-bf12-a92ea6d1d99e\")) {window._Plotly.Plots.resize(document.getElementById(\"4155f96d-2f22-40fc-bf12-a92ea6d1d99e\"));};})</script>"
      ]
     },
     "metadata": {},
     "output_type": "display_data"
    },
    {
     "name": "stdout",
     "output_type": "stream",
     "text": [
      "Comparando la pregunta Cuando recibes o consumes una imagen, ¿piensas en el modo en que fue obtenida (técnicamente)?\n"
     ]
    },
    {
     "data": {
      "application/vnd.plotly.v1+json": {
       "config": {
        "linkText": "Export to plot.ly",
        "plotlyServerURL": "https://plot.ly",
        "showLink": false
       },
       "data": [
        {
         "hovertemplate": "Cuando recibes o consumes una imagen, ¿piensas en el modo en que fue obtenida (técnicamente)?=1. Nunca<br>counts=%{r}<br>cultural_cluster=%{theta}<extra></extra>",
         "legendgroup": "Cuando recibes o consumes una imagen, ¿piensas en el modo en que fue obtenida (técnicamente)?=1. Nunca",
         "marker": {
          "color": "rgb(213,62,79)"
         },
         "name": "Cuando recibes o consumes una imagen, ¿piensas en el modo en que fue obtenida (técnicamente)?=1. Nunca",
         "r": [
          12,
          11,
          4,
          21
         ],
         "showlegend": true,
         "theta": [
          "cluster_1",
          "cluster_2",
          "cluster_3",
          "cluster_4"
         ],
         "type": "barpolar",
         "uid": "9cf28f84-49c2-4db8-b08d-b7d1cfb82c55"
        },
        {
         "hovertemplate": "Cuando recibes o consumes una imagen, ¿piensas en el modo en que fue obtenida (técnicamente)?=2. Muy pocas veces<br>counts=%{r}<br>cultural_cluster=%{theta}<extra></extra>",
         "legendgroup": "Cuando recibes o consumes una imagen, ¿piensas en el modo en que fue obtenida (técnicamente)?=2. Muy pocas veces",
         "marker": {
          "color": "rgb(252,141,89)"
         },
         "name": "Cuando recibes o consumes una imagen, ¿piensas en el modo en que fue obtenida (técnicamente)?=2. Muy pocas veces",
         "r": [
          45,
          69,
          7,
          46
         ],
         "showlegend": true,
         "theta": [
          "cluster_1",
          "cluster_2",
          "cluster_3",
          "cluster_4"
         ],
         "type": "barpolar",
         "uid": "09d5f8d6-e634-40a3-b1b2-ce472636acf0"
        },
        {
         "hovertemplate": "Cuando recibes o consumes una imagen, ¿piensas en el modo en que fue obtenida (técnicamente)?=3. En ocasiones<br>counts=%{r}<br>cultural_cluster=%{theta}<extra></extra>",
         "legendgroup": "Cuando recibes o consumes una imagen, ¿piensas en el modo en que fue obtenida (técnicamente)?=3. En ocasiones",
         "marker": {
          "color": "rgb(254,224,139)"
         },
         "name": "Cuando recibes o consumes una imagen, ¿piensas en el modo en que fue obtenida (técnicamente)?=3. En ocasiones",
         "r": [
          80,
          108,
          9,
          84,
          1
         ],
         "showlegend": true,
         "theta": [
          "cluster_1",
          "cluster_2",
          "cluster_3",
          "cluster_4",
          "cluster_5"
         ],
         "type": "barpolar",
         "uid": "affd2b65-906a-4d0b-ab3b-bf6c8b896678"
        },
        {
         "hovertemplate": "Cuando recibes o consumes una imagen, ¿piensas en el modo en que fue obtenida (técnicamente)?=4. Bastantes veces<br>counts=%{r}<br>cultural_cluster=%{theta}<extra></extra>",
         "legendgroup": "Cuando recibes o consumes una imagen, ¿piensas en el modo en que fue obtenida (técnicamente)?=4. Bastantes veces",
         "marker": {
          "color": "rgb(230,245,152)"
         },
         "name": "Cuando recibes o consumes una imagen, ¿piensas en el modo en que fue obtenida (técnicamente)?=4. Bastantes veces",
         "r": [
          59,
          81,
          4,
          54
         ],
         "showlegend": true,
         "theta": [
          "cluster_1",
          "cluster_2",
          "cluster_3",
          "cluster_4"
         ],
         "type": "barpolar",
         "uid": "a3a22b33-0538-4cc6-8847-e31b3c5f80ba"
        },
        {
         "hovertemplate": "Cuando recibes o consumes una imagen, ¿piensas en el modo en que fue obtenida (técnicamente)?=5. Casi siempre o siempre<br>counts=%{r}<br>cultural_cluster=%{theta}<extra></extra>",
         "legendgroup": "Cuando recibes o consumes una imagen, ¿piensas en el modo en que fue obtenida (técnicamente)?=5. Casi siempre o siempre",
         "marker": {
          "color": "rgb(153,213,148)"
         },
         "name": "Cuando recibes o consumes una imagen, ¿piensas en el modo en que fue obtenida (técnicamente)?=5. Casi siempre o siempre",
         "r": [
          27,
          32,
          3,
          10
         ],
         "showlegend": true,
         "theta": [
          "cluster_1",
          "cluster_2",
          "cluster_3",
          "cluster_4"
         ],
         "type": "barpolar",
         "uid": "cea89f84-cb09-4c64-a501-19e54e6b69ad"
        }
       ],
       "layout": {
        "barmode": "group",
        "barnorm": "",
        "height": 600,
        "legend": {
         "tracegroupgap": 0
        },
        "margin": {
         "t": 60
        },
        "polar": {
         "angularaxis": {
          "direction": "clockwise",
          "rotation": 90
         }
        },
        "template": {
         "data": {
          "bar": [
           {
            "marker": {
             "line": {
              "color": "#E5ECF6",
              "width": 0.5
             }
            },
            "type": "bar"
           }
          ],
          "barpolar": [
           {
            "marker": {
             "line": {
              "color": "#E5ECF6",
              "width": 0.5
             }
            },
            "type": "barpolar"
           }
          ],
          "carpet": [
           {
            "aaxis": {
             "endlinecolor": "#2a3f5f",
             "gridcolor": "white",
             "linecolor": "white",
             "minorgridcolor": "white",
             "startlinecolor": "#2a3f5f"
            },
            "baxis": {
             "endlinecolor": "#2a3f5f",
             "gridcolor": "white",
             "linecolor": "white",
             "minorgridcolor": "white",
             "startlinecolor": "#2a3f5f"
            },
            "type": "carpet"
           }
          ],
          "choropleth": [
           {
            "colorbar": {
             "outlinewidth": 0,
             "ticks": ""
            },
            "type": "choropleth"
           }
          ],
          "contour": [
           {
            "autocolorscale": true,
            "colorbar": {
             "outlinewidth": 0,
             "ticks": ""
            },
            "type": "contour"
           }
          ],
          "contourcarpet": [
           {
            "colorbar": {
             "outlinewidth": 0,
             "ticks": ""
            },
            "type": "contourcarpet"
           }
          ],
          "heatmap": [
           {
            "autocolorscale": true,
            "colorbar": {
             "outlinewidth": 0,
             "ticks": ""
            },
            "type": "heatmap"
           }
          ],
          "heatmapgl": [
           {
            "colorbar": {
             "outlinewidth": 0,
             "ticks": ""
            },
            "type": "heatmapgl"
           }
          ],
          "histogram": [
           {
            "marker": {
             "colorbar": {
              "outlinewidth": 0,
              "ticks": ""
             }
            },
            "type": "histogram"
           }
          ],
          "histogram2d": [
           {
            "autocolorscale": true,
            "colorbar": {
             "outlinewidth": 0,
             "ticks": ""
            },
            "type": "histogram2d"
           }
          ],
          "histogram2dcontour": [
           {
            "autocolorscale": true,
            "colorbar": {
             "outlinewidth": 0,
             "ticks": ""
            },
            "type": "histogram2dcontour"
           }
          ],
          "mesh3d": [
           {
            "colorbar": {
             "outlinewidth": 0,
             "ticks": ""
            },
            "type": "mesh3d"
           }
          ],
          "parcoords": [
           {
            "line": {
             "colorbar": {
              "outlinewidth": 0,
              "ticks": ""
             }
            },
            "type": "parcoords"
           }
          ],
          "scatter": [
           {
            "marker": {
             "colorbar": {
              "outlinewidth": 0,
              "ticks": ""
             }
            },
            "type": "scatter"
           }
          ],
          "scatter3d": [
           {
            "marker": {
             "colorbar": {
              "outlinewidth": 0,
              "ticks": ""
             }
            },
            "type": "scatter3d"
           }
          ],
          "scattercarpet": [
           {
            "marker": {
             "colorbar": {
              "outlinewidth": 0,
              "ticks": ""
             }
            },
            "type": "scattercarpet"
           }
          ],
          "scattergeo": [
           {
            "marker": {
             "colorbar": {
              "outlinewidth": 0,
              "ticks": ""
             }
            },
            "type": "scattergeo"
           }
          ],
          "scattergl": [
           {
            "marker": {
             "colorbar": {
              "outlinewidth": 0,
              "ticks": ""
             }
            },
            "type": "scattergl"
           }
          ],
          "scattermapbox": [
           {
            "marker": {
             "colorbar": {
              "outlinewidth": 0,
              "ticks": ""
             }
            },
            "type": "scattermapbox"
           }
          ],
          "scatterpolar": [
           {
            "marker": {
             "colorbar": {
              "outlinewidth": 0,
              "ticks": ""
             }
            },
            "type": "scatterpolar"
           }
          ],
          "scatterpolargl": [
           {
            "marker": {
             "colorbar": {
              "outlinewidth": 0,
              "ticks": ""
             }
            },
            "type": "scatterpolargl"
           }
          ],
          "scatterternary": [
           {
            "marker": {
             "colorbar": {
              "outlinewidth": 0,
              "ticks": ""
             }
            },
            "type": "scatterternary"
           }
          ],
          "surface": [
           {
            "colorbar": {
             "outlinewidth": 0,
             "ticks": ""
            },
            "type": "surface"
           }
          ],
          "table": [
           {
            "cells": {
             "fill": {
              "color": "#EBF0F8"
             },
             "line": {
              "color": "white"
             }
            },
            "header": {
             "fill": {
              "color": "#C8D4E3"
             },
             "line": {
              "color": "white"
             }
            },
            "type": "table"
           }
          ]
         },
         "layout": {
          "annotationdefaults": {
           "arrowcolor": "#506784",
           "arrowhead": 0,
           "arrowwidth": 1
          },
          "colorscale": {
           "diverging": [
            [
             0,
             "#8e0152"
            ],
            [
             0.1,
             "#c51b7d"
            ],
            [
             0.2,
             "#de77ae"
            ],
            [
             0.3,
             "#f1b6da"
            ],
            [
             0.4,
             "#fde0ef"
            ],
            [
             0.5,
             "#f7f7f7"
            ],
            [
             0.6,
             "#e6f5d0"
            ],
            [
             0.7,
             "#b8e186"
            ],
            [
             0.8,
             "#7fbc41"
            ],
            [
             0.9,
             "#4d9221"
            ],
            [
             1,
             "#276419"
            ]
           ],
           "sequential": [
            [
             0,
             "#0508b8"
            ],
            [
             0.0893854748603352,
             "#1910d8"
            ],
            [
             0.1787709497206704,
             "#3c19f0"
            ],
            [
             0.2681564245810056,
             "#6b1cfb"
            ],
            [
             0.3575418994413408,
             "#981cfd"
            ],
            [
             0.44692737430167595,
             "#bf1cfd"
            ],
            [
             0.5363128491620112,
             "#dd2bfd"
            ],
            [
             0.6256983240223464,
             "#f246fe"
            ],
            [
             0.7150837988826816,
             "#fc67fd"
            ],
            [
             0.8044692737430168,
             "#fe88fc"
            ],
            [
             0.8938547486033519,
             "#fea5fd"
            ],
            [
             0.9832402234636871,
             "#febefe"
            ],
            [
             1,
             "#fec3fe"
            ]
           ],
           "sequentialminus": [
            [
             0,
             "#0508b8"
            ],
            [
             0.0893854748603352,
             "#1910d8"
            ],
            [
             0.1787709497206704,
             "#3c19f0"
            ],
            [
             0.2681564245810056,
             "#6b1cfb"
            ],
            [
             0.3575418994413408,
             "#981cfd"
            ],
            [
             0.44692737430167595,
             "#bf1cfd"
            ],
            [
             0.5363128491620112,
             "#dd2bfd"
            ],
            [
             0.6256983240223464,
             "#f246fe"
            ],
            [
             0.7150837988826816,
             "#fc67fd"
            ],
            [
             0.8044692737430168,
             "#fe88fc"
            ],
            [
             0.8938547486033519,
             "#fea5fd"
            ],
            [
             0.9832402234636871,
             "#febefe"
            ],
            [
             1,
             "#fec3fe"
            ]
           ]
          },
          "colorway": [
           "#636efa",
           "#EF553B",
           "#00cc96",
           "#ab63fa",
           "#19d3f3",
           "#e763fa",
           "#FECB52",
           "#FFA15A",
           "#FF6692",
           "#B6E880"
          ],
          "font": {
           "color": "#2a3f5f"
          },
          "geo": {
           "bgcolor": "white",
           "lakecolor": "white",
           "landcolor": "#E5ECF6",
           "showlakes": true,
           "showland": true,
           "subunitcolor": "white"
          },
          "hovermode": "closest",
          "mapbox": {
           "style": "light"
          },
          "paper_bgcolor": "white",
          "plot_bgcolor": "#E5ECF6",
          "polar": {
           "angularaxis": {
            "gridcolor": "white",
            "linecolor": "white",
            "ticks": ""
           },
           "bgcolor": "#E5ECF6",
           "radialaxis": {
            "gridcolor": "white",
            "linecolor": "white",
            "ticks": ""
           }
          },
          "scene": {
           "xaxis": {
            "backgroundcolor": "#E5ECF6",
            "gridcolor": "white",
            "gridwidth": 2,
            "linecolor": "white",
            "showbackground": true,
            "ticks": "",
            "zerolinecolor": "white"
           },
           "yaxis": {
            "backgroundcolor": "#E5ECF6",
            "gridcolor": "white",
            "gridwidth": 2,
            "linecolor": "white",
            "showbackground": true,
            "ticks": "",
            "zerolinecolor": "white"
           },
           "zaxis": {
            "backgroundcolor": "#E5ECF6",
            "gridcolor": "white",
            "gridwidth": 2,
            "linecolor": "white",
            "showbackground": true,
            "ticks": "",
            "zerolinecolor": "white"
           }
          },
          "shapedefaults": {
           "fillcolor": "#506784",
           "line": {
            "width": 0
           },
           "opacity": 0.4
          },
          "ternary": {
           "aaxis": {
            "gridcolor": "white",
            "linecolor": "white",
            "ticks": ""
           },
           "baxis": {
            "gridcolor": "white",
            "linecolor": "white",
            "ticks": ""
           },
           "bgcolor": "#E5ECF6",
           "caxis": {
            "gridcolor": "white",
            "linecolor": "white",
            "ticks": ""
           }
          },
          "title": {
           "x": 0.05
          },
          "xaxis": {
           "automargin": true,
           "gridcolor": "white",
           "linecolor": "white",
           "ticks": "",
           "zerolinecolor": "white",
           "zerolinewidth": 2
          },
          "yaxis": {
           "automargin": true,
           "gridcolor": "white",
           "linecolor": "white",
           "ticks": "",
           "zerolinecolor": "white",
           "zerolinewidth": 2
          }
         }
        }
       }
      },
      "text/html": [
       "<div id=\"ed6cd12a-beb6-4468-945b-2b61d20c1cc8\" style=\"height: 600px; width: 100%;\" class=\"plotly-graph-div\"></div><script type=\"text/javascript\">require([\"plotly\"], function(Plotly) { window.PLOTLYENV=window.PLOTLYENV || {};window.PLOTLYENV.BASE_URL=\"https://plot.ly\";\n",
       "if (document.getElementById(\"ed6cd12a-beb6-4468-945b-2b61d20c1cc8\")) {\n",
       "    Plotly.newPlot(\"ed6cd12a-beb6-4468-945b-2b61d20c1cc8\", [{\"hovertemplate\": \"Cuando recibes o consumes una imagen, \\u00bfpiensas en el modo en que fue obtenida (t\\u00e9cnicamente)?=1. Nunca<br>counts=%{r}<br>cultural_cluster=%{theta}<extra></extra>\", \"legendgroup\": \"Cuando recibes o consumes una imagen, \\u00bfpiensas en el modo en que fue obtenida (t\\u00e9cnicamente)?=1. Nunca\", \"marker\": {\"color\": \"rgb(213,62,79)\"}, \"name\": \"Cuando recibes o consumes una imagen, \\u00bfpiensas en el modo en que fue obtenida (t\\u00e9cnicamente)?=1. Nunca\", \"r\": [12, 11, 4, 21], \"showlegend\": true, \"theta\": [\"cluster_1\", \"cluster_2\", \"cluster_3\", \"cluster_4\"], \"type\": \"barpolar\", \"uid\": \"9cf28f84-49c2-4db8-b08d-b7d1cfb82c55\"}, {\"hovertemplate\": \"Cuando recibes o consumes una imagen, \\u00bfpiensas en el modo en que fue obtenida (t\\u00e9cnicamente)?=2. Muy pocas veces<br>counts=%{r}<br>cultural_cluster=%{theta}<extra></extra>\", \"legendgroup\": \"Cuando recibes o consumes una imagen, \\u00bfpiensas en el modo en que fue obtenida (t\\u00e9cnicamente)?=2. Muy pocas veces\", \"marker\": {\"color\": \"rgb(252,141,89)\"}, \"name\": \"Cuando recibes o consumes una imagen, \\u00bfpiensas en el modo en que fue obtenida (t\\u00e9cnicamente)?=2. Muy pocas veces\", \"r\": [45, 69, 7, 46], \"showlegend\": true, \"theta\": [\"cluster_1\", \"cluster_2\", \"cluster_3\", \"cluster_4\"], \"type\": \"barpolar\", \"uid\": \"09d5f8d6-e634-40a3-b1b2-ce472636acf0\"}, {\"hovertemplate\": \"Cuando recibes o consumes una imagen, \\u00bfpiensas en el modo en que fue obtenida (t\\u00e9cnicamente)?=3. En ocasiones<br>counts=%{r}<br>cultural_cluster=%{theta}<extra></extra>\", \"legendgroup\": \"Cuando recibes o consumes una imagen, \\u00bfpiensas en el modo en que fue obtenida (t\\u00e9cnicamente)?=3. En ocasiones\", \"marker\": {\"color\": \"rgb(254,224,139)\"}, \"name\": \"Cuando recibes o consumes una imagen, \\u00bfpiensas en el modo en que fue obtenida (t\\u00e9cnicamente)?=3. En ocasiones\", \"r\": [80, 108, 9, 84, 1], \"showlegend\": true, \"theta\": [\"cluster_1\", \"cluster_2\", \"cluster_3\", \"cluster_4\", \"cluster_5\"], \"type\": \"barpolar\", \"uid\": \"affd2b65-906a-4d0b-ab3b-bf6c8b896678\"}, {\"hovertemplate\": \"Cuando recibes o consumes una imagen, \\u00bfpiensas en el modo en que fue obtenida (t\\u00e9cnicamente)?=4. Bastantes veces<br>counts=%{r}<br>cultural_cluster=%{theta}<extra></extra>\", \"legendgroup\": \"Cuando recibes o consumes una imagen, \\u00bfpiensas en el modo en que fue obtenida (t\\u00e9cnicamente)?=4. Bastantes veces\", \"marker\": {\"color\": \"rgb(230,245,152)\"}, \"name\": \"Cuando recibes o consumes una imagen, \\u00bfpiensas en el modo en que fue obtenida (t\\u00e9cnicamente)?=4. Bastantes veces\", \"r\": [59, 81, 4, 54], \"showlegend\": true, \"theta\": [\"cluster_1\", \"cluster_2\", \"cluster_3\", \"cluster_4\"], \"type\": \"barpolar\", \"uid\": \"a3a22b33-0538-4cc6-8847-e31b3c5f80ba\"}, {\"hovertemplate\": \"Cuando recibes o consumes una imagen, \\u00bfpiensas en el modo en que fue obtenida (t\\u00e9cnicamente)?=5. Casi siempre o siempre<br>counts=%{r}<br>cultural_cluster=%{theta}<extra></extra>\", \"legendgroup\": \"Cuando recibes o consumes una imagen, \\u00bfpiensas en el modo en que fue obtenida (t\\u00e9cnicamente)?=5. Casi siempre o siempre\", \"marker\": {\"color\": \"rgb(153,213,148)\"}, \"name\": \"Cuando recibes o consumes una imagen, \\u00bfpiensas en el modo en que fue obtenida (t\\u00e9cnicamente)?=5. Casi siempre o siempre\", \"r\": [27, 32, 3, 10], \"showlegend\": true, \"theta\": [\"cluster_1\", \"cluster_2\", \"cluster_3\", \"cluster_4\"], \"type\": \"barpolar\", \"uid\": \"cea89f84-cb09-4c64-a501-19e54e6b69ad\"}], {\"barmode\": \"group\", \"barnorm\": \"\", \"height\": 600, \"legend\": {\"tracegroupgap\": 0}, \"margin\": {\"t\": 60}, \"template\": {\"data\": {\"barpolar\": [{\"marker\": {\"line\": {\"color\": \"#E5ECF6\", \"width\": 0.5}}, \"type\": \"barpolar\"}], \"bar\": [{\"marker\": {\"line\": {\"color\": \"#E5ECF6\", \"width\": 0.5}}, \"type\": \"bar\"}], \"carpet\": [{\"aaxis\": {\"endlinecolor\": \"#2a3f5f\", \"gridcolor\": \"white\", \"linecolor\": \"white\", \"minorgridcolor\": \"white\", \"startlinecolor\": \"#2a3f5f\"}, \"baxis\": {\"endlinecolor\": \"#2a3f5f\", \"gridcolor\": \"white\", \"linecolor\": \"white\", \"minorgridcolor\": \"white\", \"startlinecolor\": \"#2a3f5f\"}, \"type\": \"carpet\"}], \"choropleth\": [{\"colorbar\": {\"outlinewidth\": 0, \"ticks\": \"\"}, \"type\": \"choropleth\"}], \"contourcarpet\": [{\"colorbar\": {\"outlinewidth\": 0, \"ticks\": \"\"}, \"type\": \"contourcarpet\"}], \"contour\": [{\"autocolorscale\": true, \"colorbar\": {\"outlinewidth\": 0, \"ticks\": \"\"}, \"type\": \"contour\"}], \"heatmapgl\": [{\"colorbar\": {\"outlinewidth\": 0, \"ticks\": \"\"}, \"type\": \"heatmapgl\"}], \"heatmap\": [{\"autocolorscale\": true, \"colorbar\": {\"outlinewidth\": 0, \"ticks\": \"\"}, \"type\": \"heatmap\"}], \"histogram2dcontour\": [{\"autocolorscale\": true, \"colorbar\": {\"outlinewidth\": 0, \"ticks\": \"\"}, \"type\": \"histogram2dcontour\"}], \"histogram2d\": [{\"autocolorscale\": true, \"colorbar\": {\"outlinewidth\": 0, \"ticks\": \"\"}, \"type\": \"histogram2d\"}], \"histogram\": [{\"marker\": {\"colorbar\": {\"outlinewidth\": 0, \"ticks\": \"\"}}, \"type\": \"histogram\"}], \"mesh3d\": [{\"colorbar\": {\"outlinewidth\": 0, \"ticks\": \"\"}, \"type\": \"mesh3d\"}], \"parcoords\": [{\"line\": {\"colorbar\": {\"outlinewidth\": 0, \"ticks\": \"\"}}, \"type\": \"parcoords\"}], \"scatter3d\": [{\"marker\": {\"colorbar\": {\"outlinewidth\": 0, \"ticks\": \"\"}}, \"type\": \"scatter3d\"}], \"scattercarpet\": [{\"marker\": {\"colorbar\": {\"outlinewidth\": 0, \"ticks\": \"\"}}, \"type\": \"scattercarpet\"}], \"scattergeo\": [{\"marker\": {\"colorbar\": {\"outlinewidth\": 0, \"ticks\": \"\"}}, \"type\": \"scattergeo\"}], \"scattergl\": [{\"marker\": {\"colorbar\": {\"outlinewidth\": 0, \"ticks\": \"\"}}, \"type\": \"scattergl\"}], \"scattermapbox\": [{\"marker\": {\"colorbar\": {\"outlinewidth\": 0, \"ticks\": \"\"}}, \"type\": \"scattermapbox\"}], \"scatterpolargl\": [{\"marker\": {\"colorbar\": {\"outlinewidth\": 0, \"ticks\": \"\"}}, \"type\": \"scatterpolargl\"}], \"scatterpolar\": [{\"marker\": {\"colorbar\": {\"outlinewidth\": 0, \"ticks\": \"\"}}, \"type\": \"scatterpolar\"}], \"scatter\": [{\"marker\": {\"colorbar\": {\"outlinewidth\": 0, \"ticks\": \"\"}}, \"type\": \"scatter\"}], \"scatterternary\": [{\"marker\": {\"colorbar\": {\"outlinewidth\": 0, \"ticks\": \"\"}}, \"type\": \"scatterternary\"}], \"surface\": [{\"colorbar\": {\"outlinewidth\": 0, \"ticks\": \"\"}, \"type\": \"surface\"}], \"table\": [{\"cells\": {\"fill\": {\"color\": \"#EBF0F8\"}, \"line\": {\"color\": \"white\"}}, \"header\": {\"fill\": {\"color\": \"#C8D4E3\"}, \"line\": {\"color\": \"white\"}}, \"type\": \"table\"}]}, \"layout\": {\"annotationdefaults\": {\"arrowcolor\": \"#506784\", \"arrowhead\": 0, \"arrowwidth\": 1}, \"colorscale\": {\"diverging\": [[0, \"#8e0152\"], [0.1, \"#c51b7d\"], [0.2, \"#de77ae\"], [0.3, \"#f1b6da\"], [0.4, \"#fde0ef\"], [0.5, \"#f7f7f7\"], [0.6, \"#e6f5d0\"], [0.7, \"#b8e186\"], [0.8, \"#7fbc41\"], [0.9, \"#4d9221\"], [1, \"#276419\"]], \"sequential\": [[0.0, \"#0508b8\"], [0.0893854748603352, \"#1910d8\"], [0.1787709497206704, \"#3c19f0\"], [0.2681564245810056, \"#6b1cfb\"], [0.3575418994413408, \"#981cfd\"], [0.44692737430167595, \"#bf1cfd\"], [0.5363128491620112, \"#dd2bfd\"], [0.6256983240223464, \"#f246fe\"], [0.7150837988826816, \"#fc67fd\"], [0.8044692737430168, \"#fe88fc\"], [0.8938547486033519, \"#fea5fd\"], [0.9832402234636871, \"#febefe\"], [1.0, \"#fec3fe\"]], \"sequentialminus\": [[0.0, \"#0508b8\"], [0.0893854748603352, \"#1910d8\"], [0.1787709497206704, \"#3c19f0\"], [0.2681564245810056, \"#6b1cfb\"], [0.3575418994413408, \"#981cfd\"], [0.44692737430167595, \"#bf1cfd\"], [0.5363128491620112, \"#dd2bfd\"], [0.6256983240223464, \"#f246fe\"], [0.7150837988826816, \"#fc67fd\"], [0.8044692737430168, \"#fe88fc\"], [0.8938547486033519, \"#fea5fd\"], [0.9832402234636871, \"#febefe\"], [1.0, \"#fec3fe\"]]}, \"colorway\": [\"#636efa\", \"#EF553B\", \"#00cc96\", \"#ab63fa\", \"#19d3f3\", \"#e763fa\", \"#FECB52\", \"#FFA15A\", \"#FF6692\", \"#B6E880\"], \"font\": {\"color\": \"#2a3f5f\"}, \"geo\": {\"bgcolor\": \"white\", \"lakecolor\": \"white\", \"landcolor\": \"#E5ECF6\", \"showlakes\": true, \"showland\": true, \"subunitcolor\": \"white\"}, \"hovermode\": \"closest\", \"mapbox\": {\"style\": \"light\"}, \"paper_bgcolor\": \"white\", \"plot_bgcolor\": \"#E5ECF6\", \"polar\": {\"angularaxis\": {\"gridcolor\": \"white\", \"linecolor\": \"white\", \"ticks\": \"\"}, \"bgcolor\": \"#E5ECF6\", \"radialaxis\": {\"gridcolor\": \"white\", \"linecolor\": \"white\", \"ticks\": \"\"}}, \"scene\": {\"xaxis\": {\"backgroundcolor\": \"#E5ECF6\", \"gridcolor\": \"white\", \"gridwidth\": 2, \"linecolor\": \"white\", \"showbackground\": true, \"ticks\": \"\", \"zerolinecolor\": \"white\"}, \"yaxis\": {\"backgroundcolor\": \"#E5ECF6\", \"gridcolor\": \"white\", \"gridwidth\": 2, \"linecolor\": \"white\", \"showbackground\": true, \"ticks\": \"\", \"zerolinecolor\": \"white\"}, \"zaxis\": {\"backgroundcolor\": \"#E5ECF6\", \"gridcolor\": \"white\", \"gridwidth\": 2, \"linecolor\": \"white\", \"showbackground\": true, \"ticks\": \"\", \"zerolinecolor\": \"white\"}}, \"shapedefaults\": {\"fillcolor\": \"#506784\", \"line\": {\"width\": 0}, \"opacity\": 0.4}, \"ternary\": {\"aaxis\": {\"gridcolor\": \"white\", \"linecolor\": \"white\", \"ticks\": \"\"}, \"baxis\": {\"gridcolor\": \"white\", \"linecolor\": \"white\", \"ticks\": \"\"}, \"bgcolor\": \"#E5ECF6\", \"caxis\": {\"gridcolor\": \"white\", \"linecolor\": \"white\", \"ticks\": \"\"}}, \"title\": {\"x\": 0.05}, \"xaxis\": {\"automargin\": true, \"gridcolor\": \"white\", \"linecolor\": \"white\", \"ticks\": \"\", \"zerolinecolor\": \"white\", \"zerolinewidth\": 2}, \"yaxis\": {\"automargin\": true, \"gridcolor\": \"white\", \"linecolor\": \"white\", \"ticks\": \"\", \"zerolinecolor\": \"white\", \"zerolinewidth\": 2}}}, \"polar\": {\"angularaxis\": {\"direction\": \"clockwise\", \"rotation\": 90}}}, {\"showLink\": false, \"linkText\": \"Export to plot.ly\", \"plotlyServerURL\": \"https://plot.ly\"}); \n",
       "}\n",
       "});</script><script type=\"text/javascript\">window.addEventListener(\"resize\", function(){if (document.getElementById(\"ed6cd12a-beb6-4468-945b-2b61d20c1cc8\")) {window._Plotly.Plots.resize(document.getElementById(\"ed6cd12a-beb6-4468-945b-2b61d20c1cc8\"));};})</script>"
      ],
      "text/vnd.plotly.v1+html": [
       "<div id=\"ed6cd12a-beb6-4468-945b-2b61d20c1cc8\" style=\"height: 600px; width: 100%;\" class=\"plotly-graph-div\"></div><script type=\"text/javascript\">require([\"plotly\"], function(Plotly) { window.PLOTLYENV=window.PLOTLYENV || {};window.PLOTLYENV.BASE_URL=\"https://plot.ly\";\n",
       "if (document.getElementById(\"ed6cd12a-beb6-4468-945b-2b61d20c1cc8\")) {\n",
       "    Plotly.newPlot(\"ed6cd12a-beb6-4468-945b-2b61d20c1cc8\", [{\"hovertemplate\": \"Cuando recibes o consumes una imagen, \\u00bfpiensas en el modo en que fue obtenida (t\\u00e9cnicamente)?=1. Nunca<br>counts=%{r}<br>cultural_cluster=%{theta}<extra></extra>\", \"legendgroup\": \"Cuando recibes o consumes una imagen, \\u00bfpiensas en el modo en que fue obtenida (t\\u00e9cnicamente)?=1. Nunca\", \"marker\": {\"color\": \"rgb(213,62,79)\"}, \"name\": \"Cuando recibes o consumes una imagen, \\u00bfpiensas en el modo en que fue obtenida (t\\u00e9cnicamente)?=1. Nunca\", \"r\": [12, 11, 4, 21], \"showlegend\": true, \"theta\": [\"cluster_1\", \"cluster_2\", \"cluster_3\", \"cluster_4\"], \"type\": \"barpolar\", \"uid\": \"9cf28f84-49c2-4db8-b08d-b7d1cfb82c55\"}, {\"hovertemplate\": \"Cuando recibes o consumes una imagen, \\u00bfpiensas en el modo en que fue obtenida (t\\u00e9cnicamente)?=2. Muy pocas veces<br>counts=%{r}<br>cultural_cluster=%{theta}<extra></extra>\", \"legendgroup\": \"Cuando recibes o consumes una imagen, \\u00bfpiensas en el modo en que fue obtenida (t\\u00e9cnicamente)?=2. Muy pocas veces\", \"marker\": {\"color\": \"rgb(252,141,89)\"}, \"name\": \"Cuando recibes o consumes una imagen, \\u00bfpiensas en el modo en que fue obtenida (t\\u00e9cnicamente)?=2. Muy pocas veces\", \"r\": [45, 69, 7, 46], \"showlegend\": true, \"theta\": [\"cluster_1\", \"cluster_2\", \"cluster_3\", \"cluster_4\"], \"type\": \"barpolar\", \"uid\": \"09d5f8d6-e634-40a3-b1b2-ce472636acf0\"}, {\"hovertemplate\": \"Cuando recibes o consumes una imagen, \\u00bfpiensas en el modo en que fue obtenida (t\\u00e9cnicamente)?=3. En ocasiones<br>counts=%{r}<br>cultural_cluster=%{theta}<extra></extra>\", \"legendgroup\": \"Cuando recibes o consumes una imagen, \\u00bfpiensas en el modo en que fue obtenida (t\\u00e9cnicamente)?=3. En ocasiones\", \"marker\": {\"color\": \"rgb(254,224,139)\"}, \"name\": \"Cuando recibes o consumes una imagen, \\u00bfpiensas en el modo en que fue obtenida (t\\u00e9cnicamente)?=3. En ocasiones\", \"r\": [80, 108, 9, 84, 1], \"showlegend\": true, \"theta\": [\"cluster_1\", \"cluster_2\", \"cluster_3\", \"cluster_4\", \"cluster_5\"], \"type\": \"barpolar\", \"uid\": \"affd2b65-906a-4d0b-ab3b-bf6c8b896678\"}, {\"hovertemplate\": \"Cuando recibes o consumes una imagen, \\u00bfpiensas en el modo en que fue obtenida (t\\u00e9cnicamente)?=4. Bastantes veces<br>counts=%{r}<br>cultural_cluster=%{theta}<extra></extra>\", \"legendgroup\": \"Cuando recibes o consumes una imagen, \\u00bfpiensas en el modo en que fue obtenida (t\\u00e9cnicamente)?=4. Bastantes veces\", \"marker\": {\"color\": \"rgb(230,245,152)\"}, \"name\": \"Cuando recibes o consumes una imagen, \\u00bfpiensas en el modo en que fue obtenida (t\\u00e9cnicamente)?=4. Bastantes veces\", \"r\": [59, 81, 4, 54], \"showlegend\": true, \"theta\": [\"cluster_1\", \"cluster_2\", \"cluster_3\", \"cluster_4\"], \"type\": \"barpolar\", \"uid\": \"a3a22b33-0538-4cc6-8847-e31b3c5f80ba\"}, {\"hovertemplate\": \"Cuando recibes o consumes una imagen, \\u00bfpiensas en el modo en que fue obtenida (t\\u00e9cnicamente)?=5. Casi siempre o siempre<br>counts=%{r}<br>cultural_cluster=%{theta}<extra></extra>\", \"legendgroup\": \"Cuando recibes o consumes una imagen, \\u00bfpiensas en el modo en que fue obtenida (t\\u00e9cnicamente)?=5. Casi siempre o siempre\", \"marker\": {\"color\": \"rgb(153,213,148)\"}, \"name\": \"Cuando recibes o consumes una imagen, \\u00bfpiensas en el modo en que fue obtenida (t\\u00e9cnicamente)?=5. Casi siempre o siempre\", \"r\": [27, 32, 3, 10], \"showlegend\": true, \"theta\": [\"cluster_1\", \"cluster_2\", \"cluster_3\", \"cluster_4\"], \"type\": \"barpolar\", \"uid\": \"cea89f84-cb09-4c64-a501-19e54e6b69ad\"}], {\"barmode\": \"group\", \"barnorm\": \"\", \"height\": 600, \"legend\": {\"tracegroupgap\": 0}, \"margin\": {\"t\": 60}, \"template\": {\"data\": {\"barpolar\": [{\"marker\": {\"line\": {\"color\": \"#E5ECF6\", \"width\": 0.5}}, \"type\": \"barpolar\"}], \"bar\": [{\"marker\": {\"line\": {\"color\": \"#E5ECF6\", \"width\": 0.5}}, \"type\": \"bar\"}], \"carpet\": [{\"aaxis\": {\"endlinecolor\": \"#2a3f5f\", \"gridcolor\": \"white\", \"linecolor\": \"white\", \"minorgridcolor\": \"white\", \"startlinecolor\": \"#2a3f5f\"}, \"baxis\": {\"endlinecolor\": \"#2a3f5f\", \"gridcolor\": \"white\", \"linecolor\": \"white\", \"minorgridcolor\": \"white\", \"startlinecolor\": \"#2a3f5f\"}, \"type\": \"carpet\"}], \"choropleth\": [{\"colorbar\": {\"outlinewidth\": 0, \"ticks\": \"\"}, \"type\": \"choropleth\"}], \"contourcarpet\": [{\"colorbar\": {\"outlinewidth\": 0, \"ticks\": \"\"}, \"type\": \"contourcarpet\"}], \"contour\": [{\"autocolorscale\": true, \"colorbar\": {\"outlinewidth\": 0, \"ticks\": \"\"}, \"type\": \"contour\"}], \"heatmapgl\": [{\"colorbar\": {\"outlinewidth\": 0, \"ticks\": \"\"}, \"type\": \"heatmapgl\"}], \"heatmap\": [{\"autocolorscale\": true, \"colorbar\": {\"outlinewidth\": 0, \"ticks\": \"\"}, \"type\": \"heatmap\"}], \"histogram2dcontour\": [{\"autocolorscale\": true, \"colorbar\": {\"outlinewidth\": 0, \"ticks\": \"\"}, \"type\": \"histogram2dcontour\"}], \"histogram2d\": [{\"autocolorscale\": true, \"colorbar\": {\"outlinewidth\": 0, \"ticks\": \"\"}, \"type\": \"histogram2d\"}], \"histogram\": [{\"marker\": {\"colorbar\": {\"outlinewidth\": 0, \"ticks\": \"\"}}, \"type\": \"histogram\"}], \"mesh3d\": [{\"colorbar\": {\"outlinewidth\": 0, \"ticks\": \"\"}, \"type\": \"mesh3d\"}], \"parcoords\": [{\"line\": {\"colorbar\": {\"outlinewidth\": 0, \"ticks\": \"\"}}, \"type\": \"parcoords\"}], \"scatter3d\": [{\"marker\": {\"colorbar\": {\"outlinewidth\": 0, \"ticks\": \"\"}}, \"type\": \"scatter3d\"}], \"scattercarpet\": [{\"marker\": {\"colorbar\": {\"outlinewidth\": 0, \"ticks\": \"\"}}, \"type\": \"scattercarpet\"}], \"scattergeo\": [{\"marker\": {\"colorbar\": {\"outlinewidth\": 0, \"ticks\": \"\"}}, \"type\": \"scattergeo\"}], \"scattergl\": [{\"marker\": {\"colorbar\": {\"outlinewidth\": 0, \"ticks\": \"\"}}, \"type\": \"scattergl\"}], \"scattermapbox\": [{\"marker\": {\"colorbar\": {\"outlinewidth\": 0, \"ticks\": \"\"}}, \"type\": \"scattermapbox\"}], \"scatterpolargl\": [{\"marker\": {\"colorbar\": {\"outlinewidth\": 0, \"ticks\": \"\"}}, \"type\": \"scatterpolargl\"}], \"scatterpolar\": [{\"marker\": {\"colorbar\": {\"outlinewidth\": 0, \"ticks\": \"\"}}, \"type\": \"scatterpolar\"}], \"scatter\": [{\"marker\": {\"colorbar\": {\"outlinewidth\": 0, \"ticks\": \"\"}}, \"type\": \"scatter\"}], \"scatterternary\": [{\"marker\": {\"colorbar\": {\"outlinewidth\": 0, \"ticks\": \"\"}}, \"type\": \"scatterternary\"}], \"surface\": [{\"colorbar\": {\"outlinewidth\": 0, \"ticks\": \"\"}, \"type\": \"surface\"}], \"table\": [{\"cells\": {\"fill\": {\"color\": \"#EBF0F8\"}, \"line\": {\"color\": \"white\"}}, \"header\": {\"fill\": {\"color\": \"#C8D4E3\"}, \"line\": {\"color\": \"white\"}}, \"type\": \"table\"}]}, \"layout\": {\"annotationdefaults\": {\"arrowcolor\": \"#506784\", \"arrowhead\": 0, \"arrowwidth\": 1}, \"colorscale\": {\"diverging\": [[0, \"#8e0152\"], [0.1, \"#c51b7d\"], [0.2, \"#de77ae\"], [0.3, \"#f1b6da\"], [0.4, \"#fde0ef\"], [0.5, \"#f7f7f7\"], [0.6, \"#e6f5d0\"], [0.7, \"#b8e186\"], [0.8, \"#7fbc41\"], [0.9, \"#4d9221\"], [1, \"#276419\"]], \"sequential\": [[0.0, \"#0508b8\"], [0.0893854748603352, \"#1910d8\"], [0.1787709497206704, \"#3c19f0\"], [0.2681564245810056, \"#6b1cfb\"], [0.3575418994413408, \"#981cfd\"], [0.44692737430167595, \"#bf1cfd\"], [0.5363128491620112, \"#dd2bfd\"], [0.6256983240223464, \"#f246fe\"], [0.7150837988826816, \"#fc67fd\"], [0.8044692737430168, \"#fe88fc\"], [0.8938547486033519, \"#fea5fd\"], [0.9832402234636871, \"#febefe\"], [1.0, \"#fec3fe\"]], \"sequentialminus\": [[0.0, \"#0508b8\"], [0.0893854748603352, \"#1910d8\"], [0.1787709497206704, \"#3c19f0\"], [0.2681564245810056, \"#6b1cfb\"], [0.3575418994413408, \"#981cfd\"], [0.44692737430167595, \"#bf1cfd\"], [0.5363128491620112, \"#dd2bfd\"], [0.6256983240223464, \"#f246fe\"], [0.7150837988826816, \"#fc67fd\"], [0.8044692737430168, \"#fe88fc\"], [0.8938547486033519, \"#fea5fd\"], [0.9832402234636871, \"#febefe\"], [1.0, \"#fec3fe\"]]}, \"colorway\": [\"#636efa\", \"#EF553B\", \"#00cc96\", \"#ab63fa\", \"#19d3f3\", \"#e763fa\", \"#FECB52\", \"#FFA15A\", \"#FF6692\", \"#B6E880\"], \"font\": {\"color\": \"#2a3f5f\"}, \"geo\": {\"bgcolor\": \"white\", \"lakecolor\": \"white\", \"landcolor\": \"#E5ECF6\", \"showlakes\": true, \"showland\": true, \"subunitcolor\": \"white\"}, \"hovermode\": \"closest\", \"mapbox\": {\"style\": \"light\"}, \"paper_bgcolor\": \"white\", \"plot_bgcolor\": \"#E5ECF6\", \"polar\": {\"angularaxis\": {\"gridcolor\": \"white\", \"linecolor\": \"white\", \"ticks\": \"\"}, \"bgcolor\": \"#E5ECF6\", \"radialaxis\": {\"gridcolor\": \"white\", \"linecolor\": \"white\", \"ticks\": \"\"}}, \"scene\": {\"xaxis\": {\"backgroundcolor\": \"#E5ECF6\", \"gridcolor\": \"white\", \"gridwidth\": 2, \"linecolor\": \"white\", \"showbackground\": true, \"ticks\": \"\", \"zerolinecolor\": \"white\"}, \"yaxis\": {\"backgroundcolor\": \"#E5ECF6\", \"gridcolor\": \"white\", \"gridwidth\": 2, \"linecolor\": \"white\", \"showbackground\": true, \"ticks\": \"\", \"zerolinecolor\": \"white\"}, \"zaxis\": {\"backgroundcolor\": \"#E5ECF6\", \"gridcolor\": \"white\", \"gridwidth\": 2, \"linecolor\": \"white\", \"showbackground\": true, \"ticks\": \"\", \"zerolinecolor\": \"white\"}}, \"shapedefaults\": {\"fillcolor\": \"#506784\", \"line\": {\"width\": 0}, \"opacity\": 0.4}, \"ternary\": {\"aaxis\": {\"gridcolor\": \"white\", \"linecolor\": \"white\", \"ticks\": \"\"}, \"baxis\": {\"gridcolor\": \"white\", \"linecolor\": \"white\", \"ticks\": \"\"}, \"bgcolor\": \"#E5ECF6\", \"caxis\": {\"gridcolor\": \"white\", \"linecolor\": \"white\", \"ticks\": \"\"}}, \"title\": {\"x\": 0.05}, \"xaxis\": {\"automargin\": true, \"gridcolor\": \"white\", \"linecolor\": \"white\", \"ticks\": \"\", \"zerolinecolor\": \"white\", \"zerolinewidth\": 2}, \"yaxis\": {\"automargin\": true, \"gridcolor\": \"white\", \"linecolor\": \"white\", \"ticks\": \"\", \"zerolinecolor\": \"white\", \"zerolinewidth\": 2}}}, \"polar\": {\"angularaxis\": {\"direction\": \"clockwise\", \"rotation\": 90}}}, {\"showLink\": false, \"linkText\": \"Export to plot.ly\", \"plotlyServerURL\": \"https://plot.ly\"}); \n",
       "}\n",
       "});</script><script type=\"text/javascript\">window.addEventListener(\"resize\", function(){if (document.getElementById(\"ed6cd12a-beb6-4468-945b-2b61d20c1cc8\")) {window._Plotly.Plots.resize(document.getElementById(\"ed6cd12a-beb6-4468-945b-2b61d20c1cc8\"));};})</script>"
      ]
     },
     "metadata": {},
     "output_type": "display_data"
    },
    {
     "name": "stdout",
     "output_type": "stream",
     "text": [
      "Comparando la pregunta Cuando observas una imagen, ¿te preguntas cosas acerca de los personajes/objetos que aparecen en la misma?\n"
     ]
    },
    {
     "data": {
      "application/vnd.plotly.v1+json": {
       "config": {
        "linkText": "Export to plot.ly",
        "plotlyServerURL": "https://plot.ly",
        "showLink": false
       },
       "data": [
        {
         "hovertemplate": "Cuando observas una imagen, ¿te preguntas cosas acerca de los personajes/objetos que aparecen en la misma?=1. Nunca<br>counts=%{r}<br>cultural_cluster=%{theta}<extra></extra>",
         "legendgroup": "Cuando observas una imagen, ¿te preguntas cosas acerca de los personajes/objetos que aparecen en la misma?=1. Nunca",
         "marker": {
          "color": "rgb(213,62,79)"
         },
         "name": "Cuando observas una imagen, ¿te preguntas cosas acerca de los personajes/objetos que aparecen en la misma?=1. Nunca",
         "r": [
          3,
          1,
          13
         ],
         "showlegend": true,
         "theta": [
          "cluster_2",
          "cluster_3",
          "cluster_4"
         ],
         "type": "barpolar",
         "uid": "a70c9c13-541a-4f8d-8112-0655e929499d"
        },
        {
         "hovertemplate": "Cuando observas una imagen, ¿te preguntas cosas acerca de los personajes/objetos que aparecen en la misma?=2. Muy pocas veces<br>counts=%{r}<br>cultural_cluster=%{theta}<extra></extra>",
         "legendgroup": "Cuando observas una imagen, ¿te preguntas cosas acerca de los personajes/objetos que aparecen en la misma?=2. Muy pocas veces",
         "marker": {
          "color": "rgb(252,141,89)"
         },
         "name": "Cuando observas una imagen, ¿te preguntas cosas acerca de los personajes/objetos que aparecen en la misma?=2. Muy pocas veces",
         "r": [
          14,
          27,
          1,
          49
         ],
         "showlegend": true,
         "theta": [
          "cluster_1",
          "cluster_2",
          "cluster_3",
          "cluster_4"
         ],
         "type": "barpolar",
         "uid": "50107fbc-f2d1-4d34-812f-08f74e9775c7"
        },
        {
         "hovertemplate": "Cuando observas una imagen, ¿te preguntas cosas acerca de los personajes/objetos que aparecen en la misma?=3. En ocasiones<br>counts=%{r}<br>cultural_cluster=%{theta}<extra></extra>",
         "legendgroup": "Cuando observas una imagen, ¿te preguntas cosas acerca de los personajes/objetos que aparecen en la misma?=3. En ocasiones",
         "marker": {
          "color": "rgb(254,224,139)"
         },
         "name": "Cuando observas una imagen, ¿te preguntas cosas acerca de los personajes/objetos que aparecen en la misma?=3. En ocasiones",
         "r": [
          61,
          107,
          10,
          89
         ],
         "showlegend": true,
         "theta": [
          "cluster_1",
          "cluster_2",
          "cluster_3",
          "cluster_4"
         ],
         "type": "barpolar",
         "uid": "a74cd227-a5dc-4ac1-b451-d709903a1563"
        },
        {
         "hovertemplate": "Cuando observas una imagen, ¿te preguntas cosas acerca de los personajes/objetos que aparecen en la misma?=4. Bastantes veces<br>counts=%{r}<br>cultural_cluster=%{theta}<extra></extra>",
         "legendgroup": "Cuando observas una imagen, ¿te preguntas cosas acerca de los personajes/objetos que aparecen en la misma?=4. Bastantes veces",
         "marker": {
          "color": "rgb(230,245,152)"
         },
         "name": "Cuando observas una imagen, ¿te preguntas cosas acerca de los personajes/objetos que aparecen en la misma?=4. Bastantes veces",
         "r": [
          97,
          107,
          10,
          54,
          1
         ],
         "showlegend": true,
         "theta": [
          "cluster_1",
          "cluster_2",
          "cluster_3",
          "cluster_4",
          "cluster_5"
         ],
         "type": "barpolar",
         "uid": "dcab58b1-68b2-4158-9635-f00d4a8ff057"
        },
        {
         "hovertemplate": "Cuando observas una imagen, ¿te preguntas cosas acerca de los personajes/objetos que aparecen en la misma?=5. Casi siempre o siempre<br>counts=%{r}<br>cultural_cluster=%{theta}<extra></extra>",
         "legendgroup": "Cuando observas una imagen, ¿te preguntas cosas acerca de los personajes/objetos que aparecen en la misma?=5. Casi siempre o siempre",
         "marker": {
          "color": "rgb(153,213,148)"
         },
         "name": "Cuando observas una imagen, ¿te preguntas cosas acerca de los personajes/objetos que aparecen en la misma?=5. Casi siempre o siempre",
         "r": [
          51,
          57,
          5,
          10
         ],
         "showlegend": true,
         "theta": [
          "cluster_1",
          "cluster_2",
          "cluster_3",
          "cluster_4"
         ],
         "type": "barpolar",
         "uid": "c4a040ea-2313-4dd3-93e4-5a6f84ee6ba8"
        }
       ],
       "layout": {
        "barmode": "group",
        "barnorm": "",
        "height": 600,
        "legend": {
         "tracegroupgap": 0
        },
        "margin": {
         "t": 60
        },
        "polar": {
         "angularaxis": {
          "direction": "clockwise",
          "rotation": 90
         }
        },
        "template": {
         "data": {
          "bar": [
           {
            "marker": {
             "line": {
              "color": "#E5ECF6",
              "width": 0.5
             }
            },
            "type": "bar"
           }
          ],
          "barpolar": [
           {
            "marker": {
             "line": {
              "color": "#E5ECF6",
              "width": 0.5
             }
            },
            "type": "barpolar"
           }
          ],
          "carpet": [
           {
            "aaxis": {
             "endlinecolor": "#2a3f5f",
             "gridcolor": "white",
             "linecolor": "white",
             "minorgridcolor": "white",
             "startlinecolor": "#2a3f5f"
            },
            "baxis": {
             "endlinecolor": "#2a3f5f",
             "gridcolor": "white",
             "linecolor": "white",
             "minorgridcolor": "white",
             "startlinecolor": "#2a3f5f"
            },
            "type": "carpet"
           }
          ],
          "choropleth": [
           {
            "colorbar": {
             "outlinewidth": 0,
             "ticks": ""
            },
            "type": "choropleth"
           }
          ],
          "contour": [
           {
            "autocolorscale": true,
            "colorbar": {
             "outlinewidth": 0,
             "ticks": ""
            },
            "type": "contour"
           }
          ],
          "contourcarpet": [
           {
            "colorbar": {
             "outlinewidth": 0,
             "ticks": ""
            },
            "type": "contourcarpet"
           }
          ],
          "heatmap": [
           {
            "autocolorscale": true,
            "colorbar": {
             "outlinewidth": 0,
             "ticks": ""
            },
            "type": "heatmap"
           }
          ],
          "heatmapgl": [
           {
            "colorbar": {
             "outlinewidth": 0,
             "ticks": ""
            },
            "type": "heatmapgl"
           }
          ],
          "histogram": [
           {
            "marker": {
             "colorbar": {
              "outlinewidth": 0,
              "ticks": ""
             }
            },
            "type": "histogram"
           }
          ],
          "histogram2d": [
           {
            "autocolorscale": true,
            "colorbar": {
             "outlinewidth": 0,
             "ticks": ""
            },
            "type": "histogram2d"
           }
          ],
          "histogram2dcontour": [
           {
            "autocolorscale": true,
            "colorbar": {
             "outlinewidth": 0,
             "ticks": ""
            },
            "type": "histogram2dcontour"
           }
          ],
          "mesh3d": [
           {
            "colorbar": {
             "outlinewidth": 0,
             "ticks": ""
            },
            "type": "mesh3d"
           }
          ],
          "parcoords": [
           {
            "line": {
             "colorbar": {
              "outlinewidth": 0,
              "ticks": ""
             }
            },
            "type": "parcoords"
           }
          ],
          "scatter": [
           {
            "marker": {
             "colorbar": {
              "outlinewidth": 0,
              "ticks": ""
             }
            },
            "type": "scatter"
           }
          ],
          "scatter3d": [
           {
            "marker": {
             "colorbar": {
              "outlinewidth": 0,
              "ticks": ""
             }
            },
            "type": "scatter3d"
           }
          ],
          "scattercarpet": [
           {
            "marker": {
             "colorbar": {
              "outlinewidth": 0,
              "ticks": ""
             }
            },
            "type": "scattercarpet"
           }
          ],
          "scattergeo": [
           {
            "marker": {
             "colorbar": {
              "outlinewidth": 0,
              "ticks": ""
             }
            },
            "type": "scattergeo"
           }
          ],
          "scattergl": [
           {
            "marker": {
             "colorbar": {
              "outlinewidth": 0,
              "ticks": ""
             }
            },
            "type": "scattergl"
           }
          ],
          "scattermapbox": [
           {
            "marker": {
             "colorbar": {
              "outlinewidth": 0,
              "ticks": ""
             }
            },
            "type": "scattermapbox"
           }
          ],
          "scatterpolar": [
           {
            "marker": {
             "colorbar": {
              "outlinewidth": 0,
              "ticks": ""
             }
            },
            "type": "scatterpolar"
           }
          ],
          "scatterpolargl": [
           {
            "marker": {
             "colorbar": {
              "outlinewidth": 0,
              "ticks": ""
             }
            },
            "type": "scatterpolargl"
           }
          ],
          "scatterternary": [
           {
            "marker": {
             "colorbar": {
              "outlinewidth": 0,
              "ticks": ""
             }
            },
            "type": "scatterternary"
           }
          ],
          "surface": [
           {
            "colorbar": {
             "outlinewidth": 0,
             "ticks": ""
            },
            "type": "surface"
           }
          ],
          "table": [
           {
            "cells": {
             "fill": {
              "color": "#EBF0F8"
             },
             "line": {
              "color": "white"
             }
            },
            "header": {
             "fill": {
              "color": "#C8D4E3"
             },
             "line": {
              "color": "white"
             }
            },
            "type": "table"
           }
          ]
         },
         "layout": {
          "annotationdefaults": {
           "arrowcolor": "#506784",
           "arrowhead": 0,
           "arrowwidth": 1
          },
          "colorscale": {
           "diverging": [
            [
             0,
             "#8e0152"
            ],
            [
             0.1,
             "#c51b7d"
            ],
            [
             0.2,
             "#de77ae"
            ],
            [
             0.3,
             "#f1b6da"
            ],
            [
             0.4,
             "#fde0ef"
            ],
            [
             0.5,
             "#f7f7f7"
            ],
            [
             0.6,
             "#e6f5d0"
            ],
            [
             0.7,
             "#b8e186"
            ],
            [
             0.8,
             "#7fbc41"
            ],
            [
             0.9,
             "#4d9221"
            ],
            [
             1,
             "#276419"
            ]
           ],
           "sequential": [
            [
             0,
             "#0508b8"
            ],
            [
             0.0893854748603352,
             "#1910d8"
            ],
            [
             0.1787709497206704,
             "#3c19f0"
            ],
            [
             0.2681564245810056,
             "#6b1cfb"
            ],
            [
             0.3575418994413408,
             "#981cfd"
            ],
            [
             0.44692737430167595,
             "#bf1cfd"
            ],
            [
             0.5363128491620112,
             "#dd2bfd"
            ],
            [
             0.6256983240223464,
             "#f246fe"
            ],
            [
             0.7150837988826816,
             "#fc67fd"
            ],
            [
             0.8044692737430168,
             "#fe88fc"
            ],
            [
             0.8938547486033519,
             "#fea5fd"
            ],
            [
             0.9832402234636871,
             "#febefe"
            ],
            [
             1,
             "#fec3fe"
            ]
           ],
           "sequentialminus": [
            [
             0,
             "#0508b8"
            ],
            [
             0.0893854748603352,
             "#1910d8"
            ],
            [
             0.1787709497206704,
             "#3c19f0"
            ],
            [
             0.2681564245810056,
             "#6b1cfb"
            ],
            [
             0.3575418994413408,
             "#981cfd"
            ],
            [
             0.44692737430167595,
             "#bf1cfd"
            ],
            [
             0.5363128491620112,
             "#dd2bfd"
            ],
            [
             0.6256983240223464,
             "#f246fe"
            ],
            [
             0.7150837988826816,
             "#fc67fd"
            ],
            [
             0.8044692737430168,
             "#fe88fc"
            ],
            [
             0.8938547486033519,
             "#fea5fd"
            ],
            [
             0.9832402234636871,
             "#febefe"
            ],
            [
             1,
             "#fec3fe"
            ]
           ]
          },
          "colorway": [
           "#636efa",
           "#EF553B",
           "#00cc96",
           "#ab63fa",
           "#19d3f3",
           "#e763fa",
           "#FECB52",
           "#FFA15A",
           "#FF6692",
           "#B6E880"
          ],
          "font": {
           "color": "#2a3f5f"
          },
          "geo": {
           "bgcolor": "white",
           "lakecolor": "white",
           "landcolor": "#E5ECF6",
           "showlakes": true,
           "showland": true,
           "subunitcolor": "white"
          },
          "hovermode": "closest",
          "mapbox": {
           "style": "light"
          },
          "paper_bgcolor": "white",
          "plot_bgcolor": "#E5ECF6",
          "polar": {
           "angularaxis": {
            "gridcolor": "white",
            "linecolor": "white",
            "ticks": ""
           },
           "bgcolor": "#E5ECF6",
           "radialaxis": {
            "gridcolor": "white",
            "linecolor": "white",
            "ticks": ""
           }
          },
          "scene": {
           "xaxis": {
            "backgroundcolor": "#E5ECF6",
            "gridcolor": "white",
            "gridwidth": 2,
            "linecolor": "white",
            "showbackground": true,
            "ticks": "",
            "zerolinecolor": "white"
           },
           "yaxis": {
            "backgroundcolor": "#E5ECF6",
            "gridcolor": "white",
            "gridwidth": 2,
            "linecolor": "white",
            "showbackground": true,
            "ticks": "",
            "zerolinecolor": "white"
           },
           "zaxis": {
            "backgroundcolor": "#E5ECF6",
            "gridcolor": "white",
            "gridwidth": 2,
            "linecolor": "white",
            "showbackground": true,
            "ticks": "",
            "zerolinecolor": "white"
           }
          },
          "shapedefaults": {
           "fillcolor": "#506784",
           "line": {
            "width": 0
           },
           "opacity": 0.4
          },
          "ternary": {
           "aaxis": {
            "gridcolor": "white",
            "linecolor": "white",
            "ticks": ""
           },
           "baxis": {
            "gridcolor": "white",
            "linecolor": "white",
            "ticks": ""
           },
           "bgcolor": "#E5ECF6",
           "caxis": {
            "gridcolor": "white",
            "linecolor": "white",
            "ticks": ""
           }
          },
          "title": {
           "x": 0.05
          },
          "xaxis": {
           "automargin": true,
           "gridcolor": "white",
           "linecolor": "white",
           "ticks": "",
           "zerolinecolor": "white",
           "zerolinewidth": 2
          },
          "yaxis": {
           "automargin": true,
           "gridcolor": "white",
           "linecolor": "white",
           "ticks": "",
           "zerolinecolor": "white",
           "zerolinewidth": 2
          }
         }
        }
       }
      },
      "text/html": [
       "<div id=\"0a2d08b1-fa5b-428d-a436-25288214c81a\" style=\"height: 600px; width: 100%;\" class=\"plotly-graph-div\"></div><script type=\"text/javascript\">require([\"plotly\"], function(Plotly) { window.PLOTLYENV=window.PLOTLYENV || {};window.PLOTLYENV.BASE_URL=\"https://plot.ly\";\n",
       "if (document.getElementById(\"0a2d08b1-fa5b-428d-a436-25288214c81a\")) {\n",
       "    Plotly.newPlot(\"0a2d08b1-fa5b-428d-a436-25288214c81a\", [{\"hovertemplate\": \"Cuando observas una imagen, \\u00bfte preguntas cosas acerca de los personajes/objetos que aparecen en la misma?=1. Nunca<br>counts=%{r}<br>cultural_cluster=%{theta}<extra></extra>\", \"legendgroup\": \"Cuando observas una imagen, \\u00bfte preguntas cosas acerca de los personajes/objetos que aparecen en la misma?=1. Nunca\", \"marker\": {\"color\": \"rgb(213,62,79)\"}, \"name\": \"Cuando observas una imagen, \\u00bfte preguntas cosas acerca de los personajes/objetos que aparecen en la misma?=1. Nunca\", \"r\": [3, 1, 13], \"showlegend\": true, \"theta\": [\"cluster_2\", \"cluster_3\", \"cluster_4\"], \"type\": \"barpolar\", \"uid\": \"a70c9c13-541a-4f8d-8112-0655e929499d\"}, {\"hovertemplate\": \"Cuando observas una imagen, \\u00bfte preguntas cosas acerca de los personajes/objetos que aparecen en la misma?=2. Muy pocas veces<br>counts=%{r}<br>cultural_cluster=%{theta}<extra></extra>\", \"legendgroup\": \"Cuando observas una imagen, \\u00bfte preguntas cosas acerca de los personajes/objetos que aparecen en la misma?=2. Muy pocas veces\", \"marker\": {\"color\": \"rgb(252,141,89)\"}, \"name\": \"Cuando observas una imagen, \\u00bfte preguntas cosas acerca de los personajes/objetos que aparecen en la misma?=2. Muy pocas veces\", \"r\": [14, 27, 1, 49], \"showlegend\": true, \"theta\": [\"cluster_1\", \"cluster_2\", \"cluster_3\", \"cluster_4\"], \"type\": \"barpolar\", \"uid\": \"50107fbc-f2d1-4d34-812f-08f74e9775c7\"}, {\"hovertemplate\": \"Cuando observas una imagen, \\u00bfte preguntas cosas acerca de los personajes/objetos que aparecen en la misma?=3. En ocasiones<br>counts=%{r}<br>cultural_cluster=%{theta}<extra></extra>\", \"legendgroup\": \"Cuando observas una imagen, \\u00bfte preguntas cosas acerca de los personajes/objetos que aparecen en la misma?=3. En ocasiones\", \"marker\": {\"color\": \"rgb(254,224,139)\"}, \"name\": \"Cuando observas una imagen, \\u00bfte preguntas cosas acerca de los personajes/objetos que aparecen en la misma?=3. En ocasiones\", \"r\": [61, 107, 10, 89], \"showlegend\": true, \"theta\": [\"cluster_1\", \"cluster_2\", \"cluster_3\", \"cluster_4\"], \"type\": \"barpolar\", \"uid\": \"a74cd227-a5dc-4ac1-b451-d709903a1563\"}, {\"hovertemplate\": \"Cuando observas una imagen, \\u00bfte preguntas cosas acerca de los personajes/objetos que aparecen en la misma?=4. Bastantes veces<br>counts=%{r}<br>cultural_cluster=%{theta}<extra></extra>\", \"legendgroup\": \"Cuando observas una imagen, \\u00bfte preguntas cosas acerca de los personajes/objetos que aparecen en la misma?=4. Bastantes veces\", \"marker\": {\"color\": \"rgb(230,245,152)\"}, \"name\": \"Cuando observas una imagen, \\u00bfte preguntas cosas acerca de los personajes/objetos que aparecen en la misma?=4. Bastantes veces\", \"r\": [97, 107, 10, 54, 1], \"showlegend\": true, \"theta\": [\"cluster_1\", \"cluster_2\", \"cluster_3\", \"cluster_4\", \"cluster_5\"], \"type\": \"barpolar\", \"uid\": \"dcab58b1-68b2-4158-9635-f00d4a8ff057\"}, {\"hovertemplate\": \"Cuando observas una imagen, \\u00bfte preguntas cosas acerca de los personajes/objetos que aparecen en la misma?=5. Casi siempre o siempre<br>counts=%{r}<br>cultural_cluster=%{theta}<extra></extra>\", \"legendgroup\": \"Cuando observas una imagen, \\u00bfte preguntas cosas acerca de los personajes/objetos que aparecen en la misma?=5. Casi siempre o siempre\", \"marker\": {\"color\": \"rgb(153,213,148)\"}, \"name\": \"Cuando observas una imagen, \\u00bfte preguntas cosas acerca de los personajes/objetos que aparecen en la misma?=5. Casi siempre o siempre\", \"r\": [51, 57, 5, 10], \"showlegend\": true, \"theta\": [\"cluster_1\", \"cluster_2\", \"cluster_3\", \"cluster_4\"], \"type\": \"barpolar\", \"uid\": \"c4a040ea-2313-4dd3-93e4-5a6f84ee6ba8\"}], {\"barmode\": \"group\", \"barnorm\": \"\", \"height\": 600, \"legend\": {\"tracegroupgap\": 0}, \"margin\": {\"t\": 60}, \"template\": {\"data\": {\"barpolar\": [{\"marker\": {\"line\": {\"color\": \"#E5ECF6\", \"width\": 0.5}}, \"type\": \"barpolar\"}], \"bar\": [{\"marker\": {\"line\": {\"color\": \"#E5ECF6\", \"width\": 0.5}}, \"type\": \"bar\"}], \"carpet\": [{\"aaxis\": {\"endlinecolor\": \"#2a3f5f\", \"gridcolor\": \"white\", \"linecolor\": \"white\", \"minorgridcolor\": \"white\", \"startlinecolor\": \"#2a3f5f\"}, \"baxis\": {\"endlinecolor\": \"#2a3f5f\", \"gridcolor\": \"white\", \"linecolor\": \"white\", \"minorgridcolor\": \"white\", \"startlinecolor\": \"#2a3f5f\"}, \"type\": \"carpet\"}], \"choropleth\": [{\"colorbar\": {\"outlinewidth\": 0, \"ticks\": \"\"}, \"type\": \"choropleth\"}], \"contourcarpet\": [{\"colorbar\": {\"outlinewidth\": 0, \"ticks\": \"\"}, \"type\": \"contourcarpet\"}], \"contour\": [{\"autocolorscale\": true, \"colorbar\": {\"outlinewidth\": 0, \"ticks\": \"\"}, \"type\": \"contour\"}], \"heatmapgl\": [{\"colorbar\": {\"outlinewidth\": 0, \"ticks\": \"\"}, \"type\": \"heatmapgl\"}], \"heatmap\": [{\"autocolorscale\": true, \"colorbar\": {\"outlinewidth\": 0, \"ticks\": \"\"}, \"type\": \"heatmap\"}], \"histogram2dcontour\": [{\"autocolorscale\": true, \"colorbar\": {\"outlinewidth\": 0, \"ticks\": \"\"}, \"type\": \"histogram2dcontour\"}], \"histogram2d\": [{\"autocolorscale\": true, \"colorbar\": {\"outlinewidth\": 0, \"ticks\": \"\"}, \"type\": \"histogram2d\"}], \"histogram\": [{\"marker\": {\"colorbar\": {\"outlinewidth\": 0, \"ticks\": \"\"}}, \"type\": \"histogram\"}], \"mesh3d\": [{\"colorbar\": {\"outlinewidth\": 0, \"ticks\": \"\"}, \"type\": \"mesh3d\"}], \"parcoords\": [{\"line\": {\"colorbar\": {\"outlinewidth\": 0, \"ticks\": \"\"}}, \"type\": \"parcoords\"}], \"scatter3d\": [{\"marker\": {\"colorbar\": {\"outlinewidth\": 0, \"ticks\": \"\"}}, \"type\": \"scatter3d\"}], \"scattercarpet\": [{\"marker\": {\"colorbar\": {\"outlinewidth\": 0, \"ticks\": \"\"}}, \"type\": \"scattercarpet\"}], \"scattergeo\": [{\"marker\": {\"colorbar\": {\"outlinewidth\": 0, \"ticks\": \"\"}}, \"type\": \"scattergeo\"}], \"scattergl\": [{\"marker\": {\"colorbar\": {\"outlinewidth\": 0, \"ticks\": \"\"}}, \"type\": \"scattergl\"}], \"scattermapbox\": [{\"marker\": {\"colorbar\": {\"outlinewidth\": 0, \"ticks\": \"\"}}, \"type\": \"scattermapbox\"}], \"scatterpolargl\": [{\"marker\": {\"colorbar\": {\"outlinewidth\": 0, \"ticks\": \"\"}}, \"type\": \"scatterpolargl\"}], \"scatterpolar\": [{\"marker\": {\"colorbar\": {\"outlinewidth\": 0, \"ticks\": \"\"}}, \"type\": \"scatterpolar\"}], \"scatter\": [{\"marker\": {\"colorbar\": {\"outlinewidth\": 0, \"ticks\": \"\"}}, \"type\": \"scatter\"}], \"scatterternary\": [{\"marker\": {\"colorbar\": {\"outlinewidth\": 0, \"ticks\": \"\"}}, \"type\": \"scatterternary\"}], \"surface\": [{\"colorbar\": {\"outlinewidth\": 0, \"ticks\": \"\"}, \"type\": \"surface\"}], \"table\": [{\"cells\": {\"fill\": {\"color\": \"#EBF0F8\"}, \"line\": {\"color\": \"white\"}}, \"header\": {\"fill\": {\"color\": \"#C8D4E3\"}, \"line\": {\"color\": \"white\"}}, \"type\": \"table\"}]}, \"layout\": {\"annotationdefaults\": {\"arrowcolor\": \"#506784\", \"arrowhead\": 0, \"arrowwidth\": 1}, \"colorscale\": {\"diverging\": [[0, \"#8e0152\"], [0.1, \"#c51b7d\"], [0.2, \"#de77ae\"], [0.3, \"#f1b6da\"], [0.4, \"#fde0ef\"], [0.5, \"#f7f7f7\"], [0.6, \"#e6f5d0\"], [0.7, \"#b8e186\"], [0.8, \"#7fbc41\"], [0.9, \"#4d9221\"], [1, \"#276419\"]], \"sequential\": [[0.0, \"#0508b8\"], [0.0893854748603352, \"#1910d8\"], [0.1787709497206704, \"#3c19f0\"], [0.2681564245810056, \"#6b1cfb\"], [0.3575418994413408, \"#981cfd\"], [0.44692737430167595, \"#bf1cfd\"], [0.5363128491620112, \"#dd2bfd\"], [0.6256983240223464, \"#f246fe\"], [0.7150837988826816, \"#fc67fd\"], [0.8044692737430168, \"#fe88fc\"], [0.8938547486033519, \"#fea5fd\"], [0.9832402234636871, \"#febefe\"], [1.0, \"#fec3fe\"]], \"sequentialminus\": [[0.0, \"#0508b8\"], [0.0893854748603352, \"#1910d8\"], [0.1787709497206704, \"#3c19f0\"], [0.2681564245810056, \"#6b1cfb\"], [0.3575418994413408, \"#981cfd\"], [0.44692737430167595, \"#bf1cfd\"], [0.5363128491620112, \"#dd2bfd\"], [0.6256983240223464, \"#f246fe\"], [0.7150837988826816, \"#fc67fd\"], [0.8044692737430168, \"#fe88fc\"], [0.8938547486033519, \"#fea5fd\"], [0.9832402234636871, \"#febefe\"], [1.0, \"#fec3fe\"]]}, \"colorway\": [\"#636efa\", \"#EF553B\", \"#00cc96\", \"#ab63fa\", \"#19d3f3\", \"#e763fa\", \"#FECB52\", \"#FFA15A\", \"#FF6692\", \"#B6E880\"], \"font\": {\"color\": \"#2a3f5f\"}, \"geo\": {\"bgcolor\": \"white\", \"lakecolor\": \"white\", \"landcolor\": \"#E5ECF6\", \"showlakes\": true, \"showland\": true, \"subunitcolor\": \"white\"}, \"hovermode\": \"closest\", \"mapbox\": {\"style\": \"light\"}, \"paper_bgcolor\": \"white\", \"plot_bgcolor\": \"#E5ECF6\", \"polar\": {\"angularaxis\": {\"gridcolor\": \"white\", \"linecolor\": \"white\", \"ticks\": \"\"}, \"bgcolor\": \"#E5ECF6\", \"radialaxis\": {\"gridcolor\": \"white\", \"linecolor\": \"white\", \"ticks\": \"\"}}, \"scene\": {\"xaxis\": {\"backgroundcolor\": \"#E5ECF6\", \"gridcolor\": \"white\", \"gridwidth\": 2, \"linecolor\": \"white\", \"showbackground\": true, \"ticks\": \"\", \"zerolinecolor\": \"white\"}, \"yaxis\": {\"backgroundcolor\": \"#E5ECF6\", \"gridcolor\": \"white\", \"gridwidth\": 2, \"linecolor\": \"white\", \"showbackground\": true, \"ticks\": \"\", \"zerolinecolor\": \"white\"}, \"zaxis\": {\"backgroundcolor\": \"#E5ECF6\", \"gridcolor\": \"white\", \"gridwidth\": 2, \"linecolor\": \"white\", \"showbackground\": true, \"ticks\": \"\", \"zerolinecolor\": \"white\"}}, \"shapedefaults\": {\"fillcolor\": \"#506784\", \"line\": {\"width\": 0}, \"opacity\": 0.4}, \"ternary\": {\"aaxis\": {\"gridcolor\": \"white\", \"linecolor\": \"white\", \"ticks\": \"\"}, \"baxis\": {\"gridcolor\": \"white\", \"linecolor\": \"white\", \"ticks\": \"\"}, \"bgcolor\": \"#E5ECF6\", \"caxis\": {\"gridcolor\": \"white\", \"linecolor\": \"white\", \"ticks\": \"\"}}, \"title\": {\"x\": 0.05}, \"xaxis\": {\"automargin\": true, \"gridcolor\": \"white\", \"linecolor\": \"white\", \"ticks\": \"\", \"zerolinecolor\": \"white\", \"zerolinewidth\": 2}, \"yaxis\": {\"automargin\": true, \"gridcolor\": \"white\", \"linecolor\": \"white\", \"ticks\": \"\", \"zerolinecolor\": \"white\", \"zerolinewidth\": 2}}}, \"polar\": {\"angularaxis\": {\"direction\": \"clockwise\", \"rotation\": 90}}}, {\"showLink\": false, \"linkText\": \"Export to plot.ly\", \"plotlyServerURL\": \"https://plot.ly\"}); \n",
       "}\n",
       "});</script><script type=\"text/javascript\">window.addEventListener(\"resize\", function(){if (document.getElementById(\"0a2d08b1-fa5b-428d-a436-25288214c81a\")) {window._Plotly.Plots.resize(document.getElementById(\"0a2d08b1-fa5b-428d-a436-25288214c81a\"));};})</script>"
      ],
      "text/vnd.plotly.v1+html": [
       "<div id=\"0a2d08b1-fa5b-428d-a436-25288214c81a\" style=\"height: 600px; width: 100%;\" class=\"plotly-graph-div\"></div><script type=\"text/javascript\">require([\"plotly\"], function(Plotly) { window.PLOTLYENV=window.PLOTLYENV || {};window.PLOTLYENV.BASE_URL=\"https://plot.ly\";\n",
       "if (document.getElementById(\"0a2d08b1-fa5b-428d-a436-25288214c81a\")) {\n",
       "    Plotly.newPlot(\"0a2d08b1-fa5b-428d-a436-25288214c81a\", [{\"hovertemplate\": \"Cuando observas una imagen, \\u00bfte preguntas cosas acerca de los personajes/objetos que aparecen en la misma?=1. Nunca<br>counts=%{r}<br>cultural_cluster=%{theta}<extra></extra>\", \"legendgroup\": \"Cuando observas una imagen, \\u00bfte preguntas cosas acerca de los personajes/objetos que aparecen en la misma?=1. Nunca\", \"marker\": {\"color\": \"rgb(213,62,79)\"}, \"name\": \"Cuando observas una imagen, \\u00bfte preguntas cosas acerca de los personajes/objetos que aparecen en la misma?=1. Nunca\", \"r\": [3, 1, 13], \"showlegend\": true, \"theta\": [\"cluster_2\", \"cluster_3\", \"cluster_4\"], \"type\": \"barpolar\", \"uid\": \"a70c9c13-541a-4f8d-8112-0655e929499d\"}, {\"hovertemplate\": \"Cuando observas una imagen, \\u00bfte preguntas cosas acerca de los personajes/objetos que aparecen en la misma?=2. Muy pocas veces<br>counts=%{r}<br>cultural_cluster=%{theta}<extra></extra>\", \"legendgroup\": \"Cuando observas una imagen, \\u00bfte preguntas cosas acerca de los personajes/objetos que aparecen en la misma?=2. Muy pocas veces\", \"marker\": {\"color\": \"rgb(252,141,89)\"}, \"name\": \"Cuando observas una imagen, \\u00bfte preguntas cosas acerca de los personajes/objetos que aparecen en la misma?=2. Muy pocas veces\", \"r\": [14, 27, 1, 49], \"showlegend\": true, \"theta\": [\"cluster_1\", \"cluster_2\", \"cluster_3\", \"cluster_4\"], \"type\": \"barpolar\", \"uid\": \"50107fbc-f2d1-4d34-812f-08f74e9775c7\"}, {\"hovertemplate\": \"Cuando observas una imagen, \\u00bfte preguntas cosas acerca de los personajes/objetos que aparecen en la misma?=3. En ocasiones<br>counts=%{r}<br>cultural_cluster=%{theta}<extra></extra>\", \"legendgroup\": \"Cuando observas una imagen, \\u00bfte preguntas cosas acerca de los personajes/objetos que aparecen en la misma?=3. En ocasiones\", \"marker\": {\"color\": \"rgb(254,224,139)\"}, \"name\": \"Cuando observas una imagen, \\u00bfte preguntas cosas acerca de los personajes/objetos que aparecen en la misma?=3. En ocasiones\", \"r\": [61, 107, 10, 89], \"showlegend\": true, \"theta\": [\"cluster_1\", \"cluster_2\", \"cluster_3\", \"cluster_4\"], \"type\": \"barpolar\", \"uid\": \"a74cd227-a5dc-4ac1-b451-d709903a1563\"}, {\"hovertemplate\": \"Cuando observas una imagen, \\u00bfte preguntas cosas acerca de los personajes/objetos que aparecen en la misma?=4. Bastantes veces<br>counts=%{r}<br>cultural_cluster=%{theta}<extra></extra>\", \"legendgroup\": \"Cuando observas una imagen, \\u00bfte preguntas cosas acerca de los personajes/objetos que aparecen en la misma?=4. Bastantes veces\", \"marker\": {\"color\": \"rgb(230,245,152)\"}, \"name\": \"Cuando observas una imagen, \\u00bfte preguntas cosas acerca de los personajes/objetos que aparecen en la misma?=4. Bastantes veces\", \"r\": [97, 107, 10, 54, 1], \"showlegend\": true, \"theta\": [\"cluster_1\", \"cluster_2\", \"cluster_3\", \"cluster_4\", \"cluster_5\"], \"type\": \"barpolar\", \"uid\": \"dcab58b1-68b2-4158-9635-f00d4a8ff057\"}, {\"hovertemplate\": \"Cuando observas una imagen, \\u00bfte preguntas cosas acerca de los personajes/objetos que aparecen en la misma?=5. Casi siempre o siempre<br>counts=%{r}<br>cultural_cluster=%{theta}<extra></extra>\", \"legendgroup\": \"Cuando observas una imagen, \\u00bfte preguntas cosas acerca de los personajes/objetos que aparecen en la misma?=5. Casi siempre o siempre\", \"marker\": {\"color\": \"rgb(153,213,148)\"}, \"name\": \"Cuando observas una imagen, \\u00bfte preguntas cosas acerca de los personajes/objetos que aparecen en la misma?=5. Casi siempre o siempre\", \"r\": [51, 57, 5, 10], \"showlegend\": true, \"theta\": [\"cluster_1\", \"cluster_2\", \"cluster_3\", \"cluster_4\"], \"type\": \"barpolar\", \"uid\": \"c4a040ea-2313-4dd3-93e4-5a6f84ee6ba8\"}], {\"barmode\": \"group\", \"barnorm\": \"\", \"height\": 600, \"legend\": {\"tracegroupgap\": 0}, \"margin\": {\"t\": 60}, \"template\": {\"data\": {\"barpolar\": [{\"marker\": {\"line\": {\"color\": \"#E5ECF6\", \"width\": 0.5}}, \"type\": \"barpolar\"}], \"bar\": [{\"marker\": {\"line\": {\"color\": \"#E5ECF6\", \"width\": 0.5}}, \"type\": \"bar\"}], \"carpet\": [{\"aaxis\": {\"endlinecolor\": \"#2a3f5f\", \"gridcolor\": \"white\", \"linecolor\": \"white\", \"minorgridcolor\": \"white\", \"startlinecolor\": \"#2a3f5f\"}, \"baxis\": {\"endlinecolor\": \"#2a3f5f\", \"gridcolor\": \"white\", \"linecolor\": \"white\", \"minorgridcolor\": \"white\", \"startlinecolor\": \"#2a3f5f\"}, \"type\": \"carpet\"}], \"choropleth\": [{\"colorbar\": {\"outlinewidth\": 0, \"ticks\": \"\"}, \"type\": \"choropleth\"}], \"contourcarpet\": [{\"colorbar\": {\"outlinewidth\": 0, \"ticks\": \"\"}, \"type\": \"contourcarpet\"}], \"contour\": [{\"autocolorscale\": true, \"colorbar\": {\"outlinewidth\": 0, \"ticks\": \"\"}, \"type\": \"contour\"}], \"heatmapgl\": [{\"colorbar\": {\"outlinewidth\": 0, \"ticks\": \"\"}, \"type\": \"heatmapgl\"}], \"heatmap\": [{\"autocolorscale\": true, \"colorbar\": {\"outlinewidth\": 0, \"ticks\": \"\"}, \"type\": \"heatmap\"}], \"histogram2dcontour\": [{\"autocolorscale\": true, \"colorbar\": {\"outlinewidth\": 0, \"ticks\": \"\"}, \"type\": \"histogram2dcontour\"}], \"histogram2d\": [{\"autocolorscale\": true, \"colorbar\": {\"outlinewidth\": 0, \"ticks\": \"\"}, \"type\": \"histogram2d\"}], \"histogram\": [{\"marker\": {\"colorbar\": {\"outlinewidth\": 0, \"ticks\": \"\"}}, \"type\": \"histogram\"}], \"mesh3d\": [{\"colorbar\": {\"outlinewidth\": 0, \"ticks\": \"\"}, \"type\": \"mesh3d\"}], \"parcoords\": [{\"line\": {\"colorbar\": {\"outlinewidth\": 0, \"ticks\": \"\"}}, \"type\": \"parcoords\"}], \"scatter3d\": [{\"marker\": {\"colorbar\": {\"outlinewidth\": 0, \"ticks\": \"\"}}, \"type\": \"scatter3d\"}], \"scattercarpet\": [{\"marker\": {\"colorbar\": {\"outlinewidth\": 0, \"ticks\": \"\"}}, \"type\": \"scattercarpet\"}], \"scattergeo\": [{\"marker\": {\"colorbar\": {\"outlinewidth\": 0, \"ticks\": \"\"}}, \"type\": \"scattergeo\"}], \"scattergl\": [{\"marker\": {\"colorbar\": {\"outlinewidth\": 0, \"ticks\": \"\"}}, \"type\": \"scattergl\"}], \"scattermapbox\": [{\"marker\": {\"colorbar\": {\"outlinewidth\": 0, \"ticks\": \"\"}}, \"type\": \"scattermapbox\"}], \"scatterpolargl\": [{\"marker\": {\"colorbar\": {\"outlinewidth\": 0, \"ticks\": \"\"}}, \"type\": \"scatterpolargl\"}], \"scatterpolar\": [{\"marker\": {\"colorbar\": {\"outlinewidth\": 0, \"ticks\": \"\"}}, \"type\": \"scatterpolar\"}], \"scatter\": [{\"marker\": {\"colorbar\": {\"outlinewidth\": 0, \"ticks\": \"\"}}, \"type\": \"scatter\"}], \"scatterternary\": [{\"marker\": {\"colorbar\": {\"outlinewidth\": 0, \"ticks\": \"\"}}, \"type\": \"scatterternary\"}], \"surface\": [{\"colorbar\": {\"outlinewidth\": 0, \"ticks\": \"\"}, \"type\": \"surface\"}], \"table\": [{\"cells\": {\"fill\": {\"color\": \"#EBF0F8\"}, \"line\": {\"color\": \"white\"}}, \"header\": {\"fill\": {\"color\": \"#C8D4E3\"}, \"line\": {\"color\": \"white\"}}, \"type\": \"table\"}]}, \"layout\": {\"annotationdefaults\": {\"arrowcolor\": \"#506784\", \"arrowhead\": 0, \"arrowwidth\": 1}, \"colorscale\": {\"diverging\": [[0, \"#8e0152\"], [0.1, \"#c51b7d\"], [0.2, \"#de77ae\"], [0.3, \"#f1b6da\"], [0.4, \"#fde0ef\"], [0.5, \"#f7f7f7\"], [0.6, \"#e6f5d0\"], [0.7, \"#b8e186\"], [0.8, \"#7fbc41\"], [0.9, \"#4d9221\"], [1, \"#276419\"]], \"sequential\": [[0.0, \"#0508b8\"], [0.0893854748603352, \"#1910d8\"], [0.1787709497206704, \"#3c19f0\"], [0.2681564245810056, \"#6b1cfb\"], [0.3575418994413408, \"#981cfd\"], [0.44692737430167595, \"#bf1cfd\"], [0.5363128491620112, \"#dd2bfd\"], [0.6256983240223464, \"#f246fe\"], [0.7150837988826816, \"#fc67fd\"], [0.8044692737430168, \"#fe88fc\"], [0.8938547486033519, \"#fea5fd\"], [0.9832402234636871, \"#febefe\"], [1.0, \"#fec3fe\"]], \"sequentialminus\": [[0.0, \"#0508b8\"], [0.0893854748603352, \"#1910d8\"], [0.1787709497206704, \"#3c19f0\"], [0.2681564245810056, \"#6b1cfb\"], [0.3575418994413408, \"#981cfd\"], [0.44692737430167595, \"#bf1cfd\"], [0.5363128491620112, \"#dd2bfd\"], [0.6256983240223464, \"#f246fe\"], [0.7150837988826816, \"#fc67fd\"], [0.8044692737430168, \"#fe88fc\"], [0.8938547486033519, \"#fea5fd\"], [0.9832402234636871, \"#febefe\"], [1.0, \"#fec3fe\"]]}, \"colorway\": [\"#636efa\", \"#EF553B\", \"#00cc96\", \"#ab63fa\", \"#19d3f3\", \"#e763fa\", \"#FECB52\", \"#FFA15A\", \"#FF6692\", \"#B6E880\"], \"font\": {\"color\": \"#2a3f5f\"}, \"geo\": {\"bgcolor\": \"white\", \"lakecolor\": \"white\", \"landcolor\": \"#E5ECF6\", \"showlakes\": true, \"showland\": true, \"subunitcolor\": \"white\"}, \"hovermode\": \"closest\", \"mapbox\": {\"style\": \"light\"}, \"paper_bgcolor\": \"white\", \"plot_bgcolor\": \"#E5ECF6\", \"polar\": {\"angularaxis\": {\"gridcolor\": \"white\", \"linecolor\": \"white\", \"ticks\": \"\"}, \"bgcolor\": \"#E5ECF6\", \"radialaxis\": {\"gridcolor\": \"white\", \"linecolor\": \"white\", \"ticks\": \"\"}}, \"scene\": {\"xaxis\": {\"backgroundcolor\": \"#E5ECF6\", \"gridcolor\": \"white\", \"gridwidth\": 2, \"linecolor\": \"white\", \"showbackground\": true, \"ticks\": \"\", \"zerolinecolor\": \"white\"}, \"yaxis\": {\"backgroundcolor\": \"#E5ECF6\", \"gridcolor\": \"white\", \"gridwidth\": 2, \"linecolor\": \"white\", \"showbackground\": true, \"ticks\": \"\", \"zerolinecolor\": \"white\"}, \"zaxis\": {\"backgroundcolor\": \"#E5ECF6\", \"gridcolor\": \"white\", \"gridwidth\": 2, \"linecolor\": \"white\", \"showbackground\": true, \"ticks\": \"\", \"zerolinecolor\": \"white\"}}, \"shapedefaults\": {\"fillcolor\": \"#506784\", \"line\": {\"width\": 0}, \"opacity\": 0.4}, \"ternary\": {\"aaxis\": {\"gridcolor\": \"white\", \"linecolor\": \"white\", \"ticks\": \"\"}, \"baxis\": {\"gridcolor\": \"white\", \"linecolor\": \"white\", \"ticks\": \"\"}, \"bgcolor\": \"#E5ECF6\", \"caxis\": {\"gridcolor\": \"white\", \"linecolor\": \"white\", \"ticks\": \"\"}}, \"title\": {\"x\": 0.05}, \"xaxis\": {\"automargin\": true, \"gridcolor\": \"white\", \"linecolor\": \"white\", \"ticks\": \"\", \"zerolinecolor\": \"white\", \"zerolinewidth\": 2}, \"yaxis\": {\"automargin\": true, \"gridcolor\": \"white\", \"linecolor\": \"white\", \"ticks\": \"\", \"zerolinecolor\": \"white\", \"zerolinewidth\": 2}}}, \"polar\": {\"angularaxis\": {\"direction\": \"clockwise\", \"rotation\": 90}}}, {\"showLink\": false, \"linkText\": \"Export to plot.ly\", \"plotlyServerURL\": \"https://plot.ly\"}); \n",
       "}\n",
       "});</script><script type=\"text/javascript\">window.addEventListener(\"resize\", function(){if (document.getElementById(\"0a2d08b1-fa5b-428d-a436-25288214c81a\")) {window._Plotly.Plots.resize(document.getElementById(\"0a2d08b1-fa5b-428d-a436-25288214c81a\"));};})</script>"
      ]
     },
     "metadata": {},
     "output_type": "display_data"
    },
    {
     "name": "stdout",
     "output_type": "stream",
     "text": [
      "Comparando la pregunta ¿Entiendes, generalmente, las intenciones que tiene el autor de una imagen cuando la ves y la compartes?\n"
     ]
    },
    {
     "data": {
      "application/vnd.plotly.v1+json": {
       "config": {
        "linkText": "Export to plot.ly",
        "plotlyServerURL": "https://plot.ly",
        "showLink": false
       },
       "data": [
        {
         "hovertemplate": "¿Entiendes, generalmente, las intenciones que tiene el autor de una imagen cuando la ves y la compartes?=1. Never<br>counts=%{r}<br>cultural_cluster=%{theta}<extra></extra>",
         "legendgroup": "¿Entiendes, generalmente, las intenciones que tiene el autor de una imagen cuando la ves y la compartes?=1. Never",
         "marker": {
          "color": "rgb(213,62,79)"
         },
         "name": "¿Entiendes, generalmente, las intenciones que tiene el autor de una imagen cuando la ves y la compartes?=1. Never",
         "r": [
          1,
          4,
          5,
          16
         ],
         "showlegend": true,
         "theta": [
          "cluster_1",
          "cluster_2",
          "cluster_3",
          "cluster_4"
         ],
         "type": "barpolar",
         "uid": "ff30fe94-2ca9-483d-8382-e09dc3bf1141"
        },
        {
         "hovertemplate": "¿Entiendes, generalmente, las intenciones que tiene el autor de una imagen cuando la ves y la compartes?=2. Very rarely<br>counts=%{r}<br>cultural_cluster=%{theta}<extra></extra>",
         "legendgroup": "¿Entiendes, generalmente, las intenciones que tiene el autor de una imagen cuando la ves y la compartes?=2. Very rarely",
         "marker": {
          "color": "rgb(252,141,89)"
         },
         "name": "¿Entiendes, generalmente, las intenciones que tiene el autor de una imagen cuando la ves y la compartes?=2. Very rarely",
         "r": [
          6,
          31,
          4,
          40
         ],
         "showlegend": true,
         "theta": [
          "cluster_1",
          "cluster_2",
          "cluster_3",
          "cluster_4"
         ],
         "type": "barpolar",
         "uid": "bb7c818c-1f5c-43f2-b468-612003a81cc0"
        },
        {
         "hovertemplate": "¿Entiendes, generalmente, las intenciones que tiene el autor de una imagen cuando la ves y la compartes?=3. Occasionally<br>counts=%{r}<br>cultural_cluster=%{theta}<extra></extra>",
         "legendgroup": "¿Entiendes, generalmente, las intenciones que tiene el autor de una imagen cuando la ves y la compartes?=3. Occasionally",
         "marker": {
          "color": "rgb(254,224,139)"
         },
         "name": "¿Entiendes, generalmente, las intenciones que tiene el autor de una imagen cuando la ves y la compartes?=3. Occasionally",
         "r": [
          75,
          115,
          8,
          92,
          1
         ],
         "showlegend": true,
         "theta": [
          "cluster_1",
          "cluster_2",
          "cluster_3",
          "cluster_4",
          "cluster_5"
         ],
         "type": "barpolar",
         "uid": "edbfa1d5-1479-4cf2-b4c6-59a870c6e72b"
        },
        {
         "hovertemplate": "¿Entiendes, generalmente, las intenciones que tiene el autor de una imagen cuando la ves y la compartes?=4. Several times<br>counts=%{r}<br>cultural_cluster=%{theta}<extra></extra>",
         "legendgroup": "¿Entiendes, generalmente, las intenciones que tiene el autor de una imagen cuando la ves y la compartes?=4. Several times",
         "marker": {
          "color": "rgb(230,245,152)"
         },
         "name": "¿Entiendes, generalmente, las intenciones que tiene el autor de una imagen cuando la ves y la compartes?=4. Several times",
         "r": [
          106,
          109,
          7,
          55
         ],
         "showlegend": true,
         "theta": [
          "cluster_1",
          "cluster_2",
          "cluster_3",
          "cluster_4"
         ],
         "type": "barpolar",
         "uid": "a8ae6941-b529-4c65-b179-dbf09f419eb9"
        },
        {
         "hovertemplate": "¿Entiendes, generalmente, las intenciones que tiene el autor de una imagen cuando la ves y la compartes?=5. Almost always or always<br>counts=%{r}<br>cultural_cluster=%{theta}<extra></extra>",
         "legendgroup": "¿Entiendes, generalmente, las intenciones que tiene el autor de una imagen cuando la ves y la compartes?=5. Almost always or always",
         "marker": {
          "color": "rgb(153,213,148)"
         },
         "name": "¿Entiendes, generalmente, las intenciones que tiene el autor de una imagen cuando la ves y la compartes?=5. Almost always or always",
         "r": [
          35,
          42,
          3,
          12
         ],
         "showlegend": true,
         "theta": [
          "cluster_1",
          "cluster_2",
          "cluster_3",
          "cluster_4"
         ],
         "type": "barpolar",
         "uid": "61e4af4f-391c-4d4e-bfef-32a7d9f3b802"
        }
       ],
       "layout": {
        "barmode": "group",
        "barnorm": "",
        "height": 600,
        "legend": {
         "tracegroupgap": 0
        },
        "margin": {
         "t": 60
        },
        "polar": {
         "angularaxis": {
          "direction": "clockwise",
          "rotation": 90
         }
        },
        "template": {
         "data": {
          "bar": [
           {
            "marker": {
             "line": {
              "color": "#E5ECF6",
              "width": 0.5
             }
            },
            "type": "bar"
           }
          ],
          "barpolar": [
           {
            "marker": {
             "line": {
              "color": "#E5ECF6",
              "width": 0.5
             }
            },
            "type": "barpolar"
           }
          ],
          "carpet": [
           {
            "aaxis": {
             "endlinecolor": "#2a3f5f",
             "gridcolor": "white",
             "linecolor": "white",
             "minorgridcolor": "white",
             "startlinecolor": "#2a3f5f"
            },
            "baxis": {
             "endlinecolor": "#2a3f5f",
             "gridcolor": "white",
             "linecolor": "white",
             "minorgridcolor": "white",
             "startlinecolor": "#2a3f5f"
            },
            "type": "carpet"
           }
          ],
          "choropleth": [
           {
            "colorbar": {
             "outlinewidth": 0,
             "ticks": ""
            },
            "type": "choropleth"
           }
          ],
          "contour": [
           {
            "autocolorscale": true,
            "colorbar": {
             "outlinewidth": 0,
             "ticks": ""
            },
            "type": "contour"
           }
          ],
          "contourcarpet": [
           {
            "colorbar": {
             "outlinewidth": 0,
             "ticks": ""
            },
            "type": "contourcarpet"
           }
          ],
          "heatmap": [
           {
            "autocolorscale": true,
            "colorbar": {
             "outlinewidth": 0,
             "ticks": ""
            },
            "type": "heatmap"
           }
          ],
          "heatmapgl": [
           {
            "colorbar": {
             "outlinewidth": 0,
             "ticks": ""
            },
            "type": "heatmapgl"
           }
          ],
          "histogram": [
           {
            "marker": {
             "colorbar": {
              "outlinewidth": 0,
              "ticks": ""
             }
            },
            "type": "histogram"
           }
          ],
          "histogram2d": [
           {
            "autocolorscale": true,
            "colorbar": {
             "outlinewidth": 0,
             "ticks": ""
            },
            "type": "histogram2d"
           }
          ],
          "histogram2dcontour": [
           {
            "autocolorscale": true,
            "colorbar": {
             "outlinewidth": 0,
             "ticks": ""
            },
            "type": "histogram2dcontour"
           }
          ],
          "mesh3d": [
           {
            "colorbar": {
             "outlinewidth": 0,
             "ticks": ""
            },
            "type": "mesh3d"
           }
          ],
          "parcoords": [
           {
            "line": {
             "colorbar": {
              "outlinewidth": 0,
              "ticks": ""
             }
            },
            "type": "parcoords"
           }
          ],
          "scatter": [
           {
            "marker": {
             "colorbar": {
              "outlinewidth": 0,
              "ticks": ""
             }
            },
            "type": "scatter"
           }
          ],
          "scatter3d": [
           {
            "marker": {
             "colorbar": {
              "outlinewidth": 0,
              "ticks": ""
             }
            },
            "type": "scatter3d"
           }
          ],
          "scattercarpet": [
           {
            "marker": {
             "colorbar": {
              "outlinewidth": 0,
              "ticks": ""
             }
            },
            "type": "scattercarpet"
           }
          ],
          "scattergeo": [
           {
            "marker": {
             "colorbar": {
              "outlinewidth": 0,
              "ticks": ""
             }
            },
            "type": "scattergeo"
           }
          ],
          "scattergl": [
           {
            "marker": {
             "colorbar": {
              "outlinewidth": 0,
              "ticks": ""
             }
            },
            "type": "scattergl"
           }
          ],
          "scattermapbox": [
           {
            "marker": {
             "colorbar": {
              "outlinewidth": 0,
              "ticks": ""
             }
            },
            "type": "scattermapbox"
           }
          ],
          "scatterpolar": [
           {
            "marker": {
             "colorbar": {
              "outlinewidth": 0,
              "ticks": ""
             }
            },
            "type": "scatterpolar"
           }
          ],
          "scatterpolargl": [
           {
            "marker": {
             "colorbar": {
              "outlinewidth": 0,
              "ticks": ""
             }
            },
            "type": "scatterpolargl"
           }
          ],
          "scatterternary": [
           {
            "marker": {
             "colorbar": {
              "outlinewidth": 0,
              "ticks": ""
             }
            },
            "type": "scatterternary"
           }
          ],
          "surface": [
           {
            "colorbar": {
             "outlinewidth": 0,
             "ticks": ""
            },
            "type": "surface"
           }
          ],
          "table": [
           {
            "cells": {
             "fill": {
              "color": "#EBF0F8"
             },
             "line": {
              "color": "white"
             }
            },
            "header": {
             "fill": {
              "color": "#C8D4E3"
             },
             "line": {
              "color": "white"
             }
            },
            "type": "table"
           }
          ]
         },
         "layout": {
          "annotationdefaults": {
           "arrowcolor": "#506784",
           "arrowhead": 0,
           "arrowwidth": 1
          },
          "colorscale": {
           "diverging": [
            [
             0,
             "#8e0152"
            ],
            [
             0.1,
             "#c51b7d"
            ],
            [
             0.2,
             "#de77ae"
            ],
            [
             0.3,
             "#f1b6da"
            ],
            [
             0.4,
             "#fde0ef"
            ],
            [
             0.5,
             "#f7f7f7"
            ],
            [
             0.6,
             "#e6f5d0"
            ],
            [
             0.7,
             "#b8e186"
            ],
            [
             0.8,
             "#7fbc41"
            ],
            [
             0.9,
             "#4d9221"
            ],
            [
             1,
             "#276419"
            ]
           ],
           "sequential": [
            [
             0,
             "#0508b8"
            ],
            [
             0.0893854748603352,
             "#1910d8"
            ],
            [
             0.1787709497206704,
             "#3c19f0"
            ],
            [
             0.2681564245810056,
             "#6b1cfb"
            ],
            [
             0.3575418994413408,
             "#981cfd"
            ],
            [
             0.44692737430167595,
             "#bf1cfd"
            ],
            [
             0.5363128491620112,
             "#dd2bfd"
            ],
            [
             0.6256983240223464,
             "#f246fe"
            ],
            [
             0.7150837988826816,
             "#fc67fd"
            ],
            [
             0.8044692737430168,
             "#fe88fc"
            ],
            [
             0.8938547486033519,
             "#fea5fd"
            ],
            [
             0.9832402234636871,
             "#febefe"
            ],
            [
             1,
             "#fec3fe"
            ]
           ],
           "sequentialminus": [
            [
             0,
             "#0508b8"
            ],
            [
             0.0893854748603352,
             "#1910d8"
            ],
            [
             0.1787709497206704,
             "#3c19f0"
            ],
            [
             0.2681564245810056,
             "#6b1cfb"
            ],
            [
             0.3575418994413408,
             "#981cfd"
            ],
            [
             0.44692737430167595,
             "#bf1cfd"
            ],
            [
             0.5363128491620112,
             "#dd2bfd"
            ],
            [
             0.6256983240223464,
             "#f246fe"
            ],
            [
             0.7150837988826816,
             "#fc67fd"
            ],
            [
             0.8044692737430168,
             "#fe88fc"
            ],
            [
             0.8938547486033519,
             "#fea5fd"
            ],
            [
             0.9832402234636871,
             "#febefe"
            ],
            [
             1,
             "#fec3fe"
            ]
           ]
          },
          "colorway": [
           "#636efa",
           "#EF553B",
           "#00cc96",
           "#ab63fa",
           "#19d3f3",
           "#e763fa",
           "#FECB52",
           "#FFA15A",
           "#FF6692",
           "#B6E880"
          ],
          "font": {
           "color": "#2a3f5f"
          },
          "geo": {
           "bgcolor": "white",
           "lakecolor": "white",
           "landcolor": "#E5ECF6",
           "showlakes": true,
           "showland": true,
           "subunitcolor": "white"
          },
          "hovermode": "closest",
          "mapbox": {
           "style": "light"
          },
          "paper_bgcolor": "white",
          "plot_bgcolor": "#E5ECF6",
          "polar": {
           "angularaxis": {
            "gridcolor": "white",
            "linecolor": "white",
            "ticks": ""
           },
           "bgcolor": "#E5ECF6",
           "radialaxis": {
            "gridcolor": "white",
            "linecolor": "white",
            "ticks": ""
           }
          },
          "scene": {
           "xaxis": {
            "backgroundcolor": "#E5ECF6",
            "gridcolor": "white",
            "gridwidth": 2,
            "linecolor": "white",
            "showbackground": true,
            "ticks": "",
            "zerolinecolor": "white"
           },
           "yaxis": {
            "backgroundcolor": "#E5ECF6",
            "gridcolor": "white",
            "gridwidth": 2,
            "linecolor": "white",
            "showbackground": true,
            "ticks": "",
            "zerolinecolor": "white"
           },
           "zaxis": {
            "backgroundcolor": "#E5ECF6",
            "gridcolor": "white",
            "gridwidth": 2,
            "linecolor": "white",
            "showbackground": true,
            "ticks": "",
            "zerolinecolor": "white"
           }
          },
          "shapedefaults": {
           "fillcolor": "#506784",
           "line": {
            "width": 0
           },
           "opacity": 0.4
          },
          "ternary": {
           "aaxis": {
            "gridcolor": "white",
            "linecolor": "white",
            "ticks": ""
           },
           "baxis": {
            "gridcolor": "white",
            "linecolor": "white",
            "ticks": ""
           },
           "bgcolor": "#E5ECF6",
           "caxis": {
            "gridcolor": "white",
            "linecolor": "white",
            "ticks": ""
           }
          },
          "title": {
           "x": 0.05
          },
          "xaxis": {
           "automargin": true,
           "gridcolor": "white",
           "linecolor": "white",
           "ticks": "",
           "zerolinecolor": "white",
           "zerolinewidth": 2
          },
          "yaxis": {
           "automargin": true,
           "gridcolor": "white",
           "linecolor": "white",
           "ticks": "",
           "zerolinecolor": "white",
           "zerolinewidth": 2
          }
         }
        }
       }
      },
      "text/html": [
       "<div id=\"a9b1a127-7bb3-407c-a510-26f276bb1114\" style=\"height: 600px; width: 100%;\" class=\"plotly-graph-div\"></div><script type=\"text/javascript\">require([\"plotly\"], function(Plotly) { window.PLOTLYENV=window.PLOTLYENV || {};window.PLOTLYENV.BASE_URL=\"https://plot.ly\";\n",
       "if (document.getElementById(\"a9b1a127-7bb3-407c-a510-26f276bb1114\")) {\n",
       "    Plotly.newPlot(\"a9b1a127-7bb3-407c-a510-26f276bb1114\", [{\"hovertemplate\": \"\\u00bfEntiendes, generalmente, las intenciones que tiene el autor de una imagen cuando la ves y la compartes?=1. Never<br>counts=%{r}<br>cultural_cluster=%{theta}<extra></extra>\", \"legendgroup\": \"\\u00bfEntiendes, generalmente, las intenciones que tiene el autor de una imagen cuando la ves y la compartes?=1. Never\", \"marker\": {\"color\": \"rgb(213,62,79)\"}, \"name\": \"\\u00bfEntiendes, generalmente, las intenciones que tiene el autor de una imagen cuando la ves y la compartes?=1. Never\", \"r\": [1, 4, 5, 16], \"showlegend\": true, \"theta\": [\"cluster_1\", \"cluster_2\", \"cluster_3\", \"cluster_4\"], \"type\": \"barpolar\", \"uid\": \"ff30fe94-2ca9-483d-8382-e09dc3bf1141\"}, {\"hovertemplate\": \"\\u00bfEntiendes, generalmente, las intenciones que tiene el autor de una imagen cuando la ves y la compartes?=2. Very rarely<br>counts=%{r}<br>cultural_cluster=%{theta}<extra></extra>\", \"legendgroup\": \"\\u00bfEntiendes, generalmente, las intenciones que tiene el autor de una imagen cuando la ves y la compartes?=2. Very rarely\", \"marker\": {\"color\": \"rgb(252,141,89)\"}, \"name\": \"\\u00bfEntiendes, generalmente, las intenciones que tiene el autor de una imagen cuando la ves y la compartes?=2. Very rarely\", \"r\": [6, 31, 4, 40], \"showlegend\": true, \"theta\": [\"cluster_1\", \"cluster_2\", \"cluster_3\", \"cluster_4\"], \"type\": \"barpolar\", \"uid\": \"bb7c818c-1f5c-43f2-b468-612003a81cc0\"}, {\"hovertemplate\": \"\\u00bfEntiendes, generalmente, las intenciones que tiene el autor de una imagen cuando la ves y la compartes?=3. Occasionally<br>counts=%{r}<br>cultural_cluster=%{theta}<extra></extra>\", \"legendgroup\": \"\\u00bfEntiendes, generalmente, las intenciones que tiene el autor de una imagen cuando la ves y la compartes?=3. Occasionally\", \"marker\": {\"color\": \"rgb(254,224,139)\"}, \"name\": \"\\u00bfEntiendes, generalmente, las intenciones que tiene el autor de una imagen cuando la ves y la compartes?=3. Occasionally\", \"r\": [75, 115, 8, 92, 1], \"showlegend\": true, \"theta\": [\"cluster_1\", \"cluster_2\", \"cluster_3\", \"cluster_4\", \"cluster_5\"], \"type\": \"barpolar\", \"uid\": \"edbfa1d5-1479-4cf2-b4c6-59a870c6e72b\"}, {\"hovertemplate\": \"\\u00bfEntiendes, generalmente, las intenciones que tiene el autor de una imagen cuando la ves y la compartes?=4. Several times<br>counts=%{r}<br>cultural_cluster=%{theta}<extra></extra>\", \"legendgroup\": \"\\u00bfEntiendes, generalmente, las intenciones que tiene el autor de una imagen cuando la ves y la compartes?=4. Several times\", \"marker\": {\"color\": \"rgb(230,245,152)\"}, \"name\": \"\\u00bfEntiendes, generalmente, las intenciones que tiene el autor de una imagen cuando la ves y la compartes?=4. Several times\", \"r\": [106, 109, 7, 55], \"showlegend\": true, \"theta\": [\"cluster_1\", \"cluster_2\", \"cluster_3\", \"cluster_4\"], \"type\": \"barpolar\", \"uid\": \"a8ae6941-b529-4c65-b179-dbf09f419eb9\"}, {\"hovertemplate\": \"\\u00bfEntiendes, generalmente, las intenciones que tiene el autor de una imagen cuando la ves y la compartes?=5. Almost always or always<br>counts=%{r}<br>cultural_cluster=%{theta}<extra></extra>\", \"legendgroup\": \"\\u00bfEntiendes, generalmente, las intenciones que tiene el autor de una imagen cuando la ves y la compartes?=5. Almost always or always\", \"marker\": {\"color\": \"rgb(153,213,148)\"}, \"name\": \"\\u00bfEntiendes, generalmente, las intenciones que tiene el autor de una imagen cuando la ves y la compartes?=5. Almost always or always\", \"r\": [35, 42, 3, 12], \"showlegend\": true, \"theta\": [\"cluster_1\", \"cluster_2\", \"cluster_3\", \"cluster_4\"], \"type\": \"barpolar\", \"uid\": \"61e4af4f-391c-4d4e-bfef-32a7d9f3b802\"}], {\"barmode\": \"group\", \"barnorm\": \"\", \"height\": 600, \"legend\": {\"tracegroupgap\": 0}, \"margin\": {\"t\": 60}, \"template\": {\"data\": {\"barpolar\": [{\"marker\": {\"line\": {\"color\": \"#E5ECF6\", \"width\": 0.5}}, \"type\": \"barpolar\"}], \"bar\": [{\"marker\": {\"line\": {\"color\": \"#E5ECF6\", \"width\": 0.5}}, \"type\": \"bar\"}], \"carpet\": [{\"aaxis\": {\"endlinecolor\": \"#2a3f5f\", \"gridcolor\": \"white\", \"linecolor\": \"white\", \"minorgridcolor\": \"white\", \"startlinecolor\": \"#2a3f5f\"}, \"baxis\": {\"endlinecolor\": \"#2a3f5f\", \"gridcolor\": \"white\", \"linecolor\": \"white\", \"minorgridcolor\": \"white\", \"startlinecolor\": \"#2a3f5f\"}, \"type\": \"carpet\"}], \"choropleth\": [{\"colorbar\": {\"outlinewidth\": 0, \"ticks\": \"\"}, \"type\": \"choropleth\"}], \"contourcarpet\": [{\"colorbar\": {\"outlinewidth\": 0, \"ticks\": \"\"}, \"type\": \"contourcarpet\"}], \"contour\": [{\"autocolorscale\": true, \"colorbar\": {\"outlinewidth\": 0, \"ticks\": \"\"}, \"type\": \"contour\"}], \"heatmapgl\": [{\"colorbar\": {\"outlinewidth\": 0, \"ticks\": \"\"}, \"type\": \"heatmapgl\"}], \"heatmap\": [{\"autocolorscale\": true, \"colorbar\": {\"outlinewidth\": 0, \"ticks\": \"\"}, \"type\": \"heatmap\"}], \"histogram2dcontour\": [{\"autocolorscale\": true, \"colorbar\": {\"outlinewidth\": 0, \"ticks\": \"\"}, \"type\": \"histogram2dcontour\"}], \"histogram2d\": [{\"autocolorscale\": true, \"colorbar\": {\"outlinewidth\": 0, \"ticks\": \"\"}, \"type\": \"histogram2d\"}], \"histogram\": [{\"marker\": {\"colorbar\": {\"outlinewidth\": 0, \"ticks\": \"\"}}, \"type\": \"histogram\"}], \"mesh3d\": [{\"colorbar\": {\"outlinewidth\": 0, \"ticks\": \"\"}, \"type\": \"mesh3d\"}], \"parcoords\": [{\"line\": {\"colorbar\": {\"outlinewidth\": 0, \"ticks\": \"\"}}, \"type\": \"parcoords\"}], \"scatter3d\": [{\"marker\": {\"colorbar\": {\"outlinewidth\": 0, \"ticks\": \"\"}}, \"type\": \"scatter3d\"}], \"scattercarpet\": [{\"marker\": {\"colorbar\": {\"outlinewidth\": 0, \"ticks\": \"\"}}, \"type\": \"scattercarpet\"}], \"scattergeo\": [{\"marker\": {\"colorbar\": {\"outlinewidth\": 0, \"ticks\": \"\"}}, \"type\": \"scattergeo\"}], \"scattergl\": [{\"marker\": {\"colorbar\": {\"outlinewidth\": 0, \"ticks\": \"\"}}, \"type\": \"scattergl\"}], \"scattermapbox\": [{\"marker\": {\"colorbar\": {\"outlinewidth\": 0, \"ticks\": \"\"}}, \"type\": \"scattermapbox\"}], \"scatterpolargl\": [{\"marker\": {\"colorbar\": {\"outlinewidth\": 0, \"ticks\": \"\"}}, \"type\": \"scatterpolargl\"}], \"scatterpolar\": [{\"marker\": {\"colorbar\": {\"outlinewidth\": 0, \"ticks\": \"\"}}, \"type\": \"scatterpolar\"}], \"scatter\": [{\"marker\": {\"colorbar\": {\"outlinewidth\": 0, \"ticks\": \"\"}}, \"type\": \"scatter\"}], \"scatterternary\": [{\"marker\": {\"colorbar\": {\"outlinewidth\": 0, \"ticks\": \"\"}}, \"type\": \"scatterternary\"}], \"surface\": [{\"colorbar\": {\"outlinewidth\": 0, \"ticks\": \"\"}, \"type\": \"surface\"}], \"table\": [{\"cells\": {\"fill\": {\"color\": \"#EBF0F8\"}, \"line\": {\"color\": \"white\"}}, \"header\": {\"fill\": {\"color\": \"#C8D4E3\"}, \"line\": {\"color\": \"white\"}}, \"type\": \"table\"}]}, \"layout\": {\"annotationdefaults\": {\"arrowcolor\": \"#506784\", \"arrowhead\": 0, \"arrowwidth\": 1}, \"colorscale\": {\"diverging\": [[0, \"#8e0152\"], [0.1, \"#c51b7d\"], [0.2, \"#de77ae\"], [0.3, \"#f1b6da\"], [0.4, \"#fde0ef\"], [0.5, \"#f7f7f7\"], [0.6, \"#e6f5d0\"], [0.7, \"#b8e186\"], [0.8, \"#7fbc41\"], [0.9, \"#4d9221\"], [1, \"#276419\"]], \"sequential\": [[0.0, \"#0508b8\"], [0.0893854748603352, \"#1910d8\"], [0.1787709497206704, \"#3c19f0\"], [0.2681564245810056, \"#6b1cfb\"], [0.3575418994413408, \"#981cfd\"], [0.44692737430167595, \"#bf1cfd\"], [0.5363128491620112, \"#dd2bfd\"], [0.6256983240223464, \"#f246fe\"], [0.7150837988826816, \"#fc67fd\"], [0.8044692737430168, \"#fe88fc\"], [0.8938547486033519, \"#fea5fd\"], [0.9832402234636871, \"#febefe\"], [1.0, \"#fec3fe\"]], \"sequentialminus\": [[0.0, \"#0508b8\"], [0.0893854748603352, \"#1910d8\"], [0.1787709497206704, \"#3c19f0\"], [0.2681564245810056, \"#6b1cfb\"], [0.3575418994413408, \"#981cfd\"], [0.44692737430167595, \"#bf1cfd\"], [0.5363128491620112, \"#dd2bfd\"], [0.6256983240223464, \"#f246fe\"], [0.7150837988826816, \"#fc67fd\"], [0.8044692737430168, \"#fe88fc\"], [0.8938547486033519, \"#fea5fd\"], [0.9832402234636871, \"#febefe\"], [1.0, \"#fec3fe\"]]}, \"colorway\": [\"#636efa\", \"#EF553B\", \"#00cc96\", \"#ab63fa\", \"#19d3f3\", \"#e763fa\", \"#FECB52\", \"#FFA15A\", \"#FF6692\", \"#B6E880\"], \"font\": {\"color\": \"#2a3f5f\"}, \"geo\": {\"bgcolor\": \"white\", \"lakecolor\": \"white\", \"landcolor\": \"#E5ECF6\", \"showlakes\": true, \"showland\": true, \"subunitcolor\": \"white\"}, \"hovermode\": \"closest\", \"mapbox\": {\"style\": \"light\"}, \"paper_bgcolor\": \"white\", \"plot_bgcolor\": \"#E5ECF6\", \"polar\": {\"angularaxis\": {\"gridcolor\": \"white\", \"linecolor\": \"white\", \"ticks\": \"\"}, \"bgcolor\": \"#E5ECF6\", \"radialaxis\": {\"gridcolor\": \"white\", \"linecolor\": \"white\", \"ticks\": \"\"}}, \"scene\": {\"xaxis\": {\"backgroundcolor\": \"#E5ECF6\", \"gridcolor\": \"white\", \"gridwidth\": 2, \"linecolor\": \"white\", \"showbackground\": true, \"ticks\": \"\", \"zerolinecolor\": \"white\"}, \"yaxis\": {\"backgroundcolor\": \"#E5ECF6\", \"gridcolor\": \"white\", \"gridwidth\": 2, \"linecolor\": \"white\", \"showbackground\": true, \"ticks\": \"\", \"zerolinecolor\": \"white\"}, \"zaxis\": {\"backgroundcolor\": \"#E5ECF6\", \"gridcolor\": \"white\", \"gridwidth\": 2, \"linecolor\": \"white\", \"showbackground\": true, \"ticks\": \"\", \"zerolinecolor\": \"white\"}}, \"shapedefaults\": {\"fillcolor\": \"#506784\", \"line\": {\"width\": 0}, \"opacity\": 0.4}, \"ternary\": {\"aaxis\": {\"gridcolor\": \"white\", \"linecolor\": \"white\", \"ticks\": \"\"}, \"baxis\": {\"gridcolor\": \"white\", \"linecolor\": \"white\", \"ticks\": \"\"}, \"bgcolor\": \"#E5ECF6\", \"caxis\": {\"gridcolor\": \"white\", \"linecolor\": \"white\", \"ticks\": \"\"}}, \"title\": {\"x\": 0.05}, \"xaxis\": {\"automargin\": true, \"gridcolor\": \"white\", \"linecolor\": \"white\", \"ticks\": \"\", \"zerolinecolor\": \"white\", \"zerolinewidth\": 2}, \"yaxis\": {\"automargin\": true, \"gridcolor\": \"white\", \"linecolor\": \"white\", \"ticks\": \"\", \"zerolinecolor\": \"white\", \"zerolinewidth\": 2}}}, \"polar\": {\"angularaxis\": {\"direction\": \"clockwise\", \"rotation\": 90}}}, {\"showLink\": false, \"linkText\": \"Export to plot.ly\", \"plotlyServerURL\": \"https://plot.ly\"}); \n",
       "}\n",
       "});</script><script type=\"text/javascript\">window.addEventListener(\"resize\", function(){if (document.getElementById(\"a9b1a127-7bb3-407c-a510-26f276bb1114\")) {window._Plotly.Plots.resize(document.getElementById(\"a9b1a127-7bb3-407c-a510-26f276bb1114\"));};})</script>"
      ],
      "text/vnd.plotly.v1+html": [
       "<div id=\"a9b1a127-7bb3-407c-a510-26f276bb1114\" style=\"height: 600px; width: 100%;\" class=\"plotly-graph-div\"></div><script type=\"text/javascript\">require([\"plotly\"], function(Plotly) { window.PLOTLYENV=window.PLOTLYENV || {};window.PLOTLYENV.BASE_URL=\"https://plot.ly\";\n",
       "if (document.getElementById(\"a9b1a127-7bb3-407c-a510-26f276bb1114\")) {\n",
       "    Plotly.newPlot(\"a9b1a127-7bb3-407c-a510-26f276bb1114\", [{\"hovertemplate\": \"\\u00bfEntiendes, generalmente, las intenciones que tiene el autor de una imagen cuando la ves y la compartes?=1. Never<br>counts=%{r}<br>cultural_cluster=%{theta}<extra></extra>\", \"legendgroup\": \"\\u00bfEntiendes, generalmente, las intenciones que tiene el autor de una imagen cuando la ves y la compartes?=1. Never\", \"marker\": {\"color\": \"rgb(213,62,79)\"}, \"name\": \"\\u00bfEntiendes, generalmente, las intenciones que tiene el autor de una imagen cuando la ves y la compartes?=1. Never\", \"r\": [1, 4, 5, 16], \"showlegend\": true, \"theta\": [\"cluster_1\", \"cluster_2\", \"cluster_3\", \"cluster_4\"], \"type\": \"barpolar\", \"uid\": \"ff30fe94-2ca9-483d-8382-e09dc3bf1141\"}, {\"hovertemplate\": \"\\u00bfEntiendes, generalmente, las intenciones que tiene el autor de una imagen cuando la ves y la compartes?=2. Very rarely<br>counts=%{r}<br>cultural_cluster=%{theta}<extra></extra>\", \"legendgroup\": \"\\u00bfEntiendes, generalmente, las intenciones que tiene el autor de una imagen cuando la ves y la compartes?=2. Very rarely\", \"marker\": {\"color\": \"rgb(252,141,89)\"}, \"name\": \"\\u00bfEntiendes, generalmente, las intenciones que tiene el autor de una imagen cuando la ves y la compartes?=2. Very rarely\", \"r\": [6, 31, 4, 40], \"showlegend\": true, \"theta\": [\"cluster_1\", \"cluster_2\", \"cluster_3\", \"cluster_4\"], \"type\": \"barpolar\", \"uid\": \"bb7c818c-1f5c-43f2-b468-612003a81cc0\"}, {\"hovertemplate\": \"\\u00bfEntiendes, generalmente, las intenciones que tiene el autor de una imagen cuando la ves y la compartes?=3. Occasionally<br>counts=%{r}<br>cultural_cluster=%{theta}<extra></extra>\", \"legendgroup\": \"\\u00bfEntiendes, generalmente, las intenciones que tiene el autor de una imagen cuando la ves y la compartes?=3. Occasionally\", \"marker\": {\"color\": \"rgb(254,224,139)\"}, \"name\": \"\\u00bfEntiendes, generalmente, las intenciones que tiene el autor de una imagen cuando la ves y la compartes?=3. Occasionally\", \"r\": [75, 115, 8, 92, 1], \"showlegend\": true, \"theta\": [\"cluster_1\", \"cluster_2\", \"cluster_3\", \"cluster_4\", \"cluster_5\"], \"type\": \"barpolar\", \"uid\": \"edbfa1d5-1479-4cf2-b4c6-59a870c6e72b\"}, {\"hovertemplate\": \"\\u00bfEntiendes, generalmente, las intenciones que tiene el autor de una imagen cuando la ves y la compartes?=4. Several times<br>counts=%{r}<br>cultural_cluster=%{theta}<extra></extra>\", \"legendgroup\": \"\\u00bfEntiendes, generalmente, las intenciones que tiene el autor de una imagen cuando la ves y la compartes?=4. Several times\", \"marker\": {\"color\": \"rgb(230,245,152)\"}, \"name\": \"\\u00bfEntiendes, generalmente, las intenciones que tiene el autor de una imagen cuando la ves y la compartes?=4. Several times\", \"r\": [106, 109, 7, 55], \"showlegend\": true, \"theta\": [\"cluster_1\", \"cluster_2\", \"cluster_3\", \"cluster_4\"], \"type\": \"barpolar\", \"uid\": \"a8ae6941-b529-4c65-b179-dbf09f419eb9\"}, {\"hovertemplate\": \"\\u00bfEntiendes, generalmente, las intenciones que tiene el autor de una imagen cuando la ves y la compartes?=5. Almost always or always<br>counts=%{r}<br>cultural_cluster=%{theta}<extra></extra>\", \"legendgroup\": \"\\u00bfEntiendes, generalmente, las intenciones que tiene el autor de una imagen cuando la ves y la compartes?=5. Almost always or always\", \"marker\": {\"color\": \"rgb(153,213,148)\"}, \"name\": \"\\u00bfEntiendes, generalmente, las intenciones que tiene el autor de una imagen cuando la ves y la compartes?=5. Almost always or always\", \"r\": [35, 42, 3, 12], \"showlegend\": true, \"theta\": [\"cluster_1\", \"cluster_2\", \"cluster_3\", \"cluster_4\"], \"type\": \"barpolar\", \"uid\": \"61e4af4f-391c-4d4e-bfef-32a7d9f3b802\"}], {\"barmode\": \"group\", \"barnorm\": \"\", \"height\": 600, \"legend\": {\"tracegroupgap\": 0}, \"margin\": {\"t\": 60}, \"template\": {\"data\": {\"barpolar\": [{\"marker\": {\"line\": {\"color\": \"#E5ECF6\", \"width\": 0.5}}, \"type\": \"barpolar\"}], \"bar\": [{\"marker\": {\"line\": {\"color\": \"#E5ECF6\", \"width\": 0.5}}, \"type\": \"bar\"}], \"carpet\": [{\"aaxis\": {\"endlinecolor\": \"#2a3f5f\", \"gridcolor\": \"white\", \"linecolor\": \"white\", \"minorgridcolor\": \"white\", \"startlinecolor\": \"#2a3f5f\"}, \"baxis\": {\"endlinecolor\": \"#2a3f5f\", \"gridcolor\": \"white\", \"linecolor\": \"white\", \"minorgridcolor\": \"white\", \"startlinecolor\": \"#2a3f5f\"}, \"type\": \"carpet\"}], \"choropleth\": [{\"colorbar\": {\"outlinewidth\": 0, \"ticks\": \"\"}, \"type\": \"choropleth\"}], \"contourcarpet\": [{\"colorbar\": {\"outlinewidth\": 0, \"ticks\": \"\"}, \"type\": \"contourcarpet\"}], \"contour\": [{\"autocolorscale\": true, \"colorbar\": {\"outlinewidth\": 0, \"ticks\": \"\"}, \"type\": \"contour\"}], \"heatmapgl\": [{\"colorbar\": {\"outlinewidth\": 0, \"ticks\": \"\"}, \"type\": \"heatmapgl\"}], \"heatmap\": [{\"autocolorscale\": true, \"colorbar\": {\"outlinewidth\": 0, \"ticks\": \"\"}, \"type\": \"heatmap\"}], \"histogram2dcontour\": [{\"autocolorscale\": true, \"colorbar\": {\"outlinewidth\": 0, \"ticks\": \"\"}, \"type\": \"histogram2dcontour\"}], \"histogram2d\": [{\"autocolorscale\": true, \"colorbar\": {\"outlinewidth\": 0, \"ticks\": \"\"}, \"type\": \"histogram2d\"}], \"histogram\": [{\"marker\": {\"colorbar\": {\"outlinewidth\": 0, \"ticks\": \"\"}}, \"type\": \"histogram\"}], \"mesh3d\": [{\"colorbar\": {\"outlinewidth\": 0, \"ticks\": \"\"}, \"type\": \"mesh3d\"}], \"parcoords\": [{\"line\": {\"colorbar\": {\"outlinewidth\": 0, \"ticks\": \"\"}}, \"type\": \"parcoords\"}], \"scatter3d\": [{\"marker\": {\"colorbar\": {\"outlinewidth\": 0, \"ticks\": \"\"}}, \"type\": \"scatter3d\"}], \"scattercarpet\": [{\"marker\": {\"colorbar\": {\"outlinewidth\": 0, \"ticks\": \"\"}}, \"type\": \"scattercarpet\"}], \"scattergeo\": [{\"marker\": {\"colorbar\": {\"outlinewidth\": 0, \"ticks\": \"\"}}, \"type\": \"scattergeo\"}], \"scattergl\": [{\"marker\": {\"colorbar\": {\"outlinewidth\": 0, \"ticks\": \"\"}}, \"type\": \"scattergl\"}], \"scattermapbox\": [{\"marker\": {\"colorbar\": {\"outlinewidth\": 0, \"ticks\": \"\"}}, \"type\": \"scattermapbox\"}], \"scatterpolargl\": [{\"marker\": {\"colorbar\": {\"outlinewidth\": 0, \"ticks\": \"\"}}, \"type\": \"scatterpolargl\"}], \"scatterpolar\": [{\"marker\": {\"colorbar\": {\"outlinewidth\": 0, \"ticks\": \"\"}}, \"type\": \"scatterpolar\"}], \"scatter\": [{\"marker\": {\"colorbar\": {\"outlinewidth\": 0, \"ticks\": \"\"}}, \"type\": \"scatter\"}], \"scatterternary\": [{\"marker\": {\"colorbar\": {\"outlinewidth\": 0, \"ticks\": \"\"}}, \"type\": \"scatterternary\"}], \"surface\": [{\"colorbar\": {\"outlinewidth\": 0, \"ticks\": \"\"}, \"type\": \"surface\"}], \"table\": [{\"cells\": {\"fill\": {\"color\": \"#EBF0F8\"}, \"line\": {\"color\": \"white\"}}, \"header\": {\"fill\": {\"color\": \"#C8D4E3\"}, \"line\": {\"color\": \"white\"}}, \"type\": \"table\"}]}, \"layout\": {\"annotationdefaults\": {\"arrowcolor\": \"#506784\", \"arrowhead\": 0, \"arrowwidth\": 1}, \"colorscale\": {\"diverging\": [[0, \"#8e0152\"], [0.1, \"#c51b7d\"], [0.2, \"#de77ae\"], [0.3, \"#f1b6da\"], [0.4, \"#fde0ef\"], [0.5, \"#f7f7f7\"], [0.6, \"#e6f5d0\"], [0.7, \"#b8e186\"], [0.8, \"#7fbc41\"], [0.9, \"#4d9221\"], [1, \"#276419\"]], \"sequential\": [[0.0, \"#0508b8\"], [0.0893854748603352, \"#1910d8\"], [0.1787709497206704, \"#3c19f0\"], [0.2681564245810056, \"#6b1cfb\"], [0.3575418994413408, \"#981cfd\"], [0.44692737430167595, \"#bf1cfd\"], [0.5363128491620112, \"#dd2bfd\"], [0.6256983240223464, \"#f246fe\"], [0.7150837988826816, \"#fc67fd\"], [0.8044692737430168, \"#fe88fc\"], [0.8938547486033519, \"#fea5fd\"], [0.9832402234636871, \"#febefe\"], [1.0, \"#fec3fe\"]], \"sequentialminus\": [[0.0, \"#0508b8\"], [0.0893854748603352, \"#1910d8\"], [0.1787709497206704, \"#3c19f0\"], [0.2681564245810056, \"#6b1cfb\"], [0.3575418994413408, \"#981cfd\"], [0.44692737430167595, \"#bf1cfd\"], [0.5363128491620112, \"#dd2bfd\"], [0.6256983240223464, \"#f246fe\"], [0.7150837988826816, \"#fc67fd\"], [0.8044692737430168, \"#fe88fc\"], [0.8938547486033519, \"#fea5fd\"], [0.9832402234636871, \"#febefe\"], [1.0, \"#fec3fe\"]]}, \"colorway\": [\"#636efa\", \"#EF553B\", \"#00cc96\", \"#ab63fa\", \"#19d3f3\", \"#e763fa\", \"#FECB52\", \"#FFA15A\", \"#FF6692\", \"#B6E880\"], \"font\": {\"color\": \"#2a3f5f\"}, \"geo\": {\"bgcolor\": \"white\", \"lakecolor\": \"white\", \"landcolor\": \"#E5ECF6\", \"showlakes\": true, \"showland\": true, \"subunitcolor\": \"white\"}, \"hovermode\": \"closest\", \"mapbox\": {\"style\": \"light\"}, \"paper_bgcolor\": \"white\", \"plot_bgcolor\": \"#E5ECF6\", \"polar\": {\"angularaxis\": {\"gridcolor\": \"white\", \"linecolor\": \"white\", \"ticks\": \"\"}, \"bgcolor\": \"#E5ECF6\", \"radialaxis\": {\"gridcolor\": \"white\", \"linecolor\": \"white\", \"ticks\": \"\"}}, \"scene\": {\"xaxis\": {\"backgroundcolor\": \"#E5ECF6\", \"gridcolor\": \"white\", \"gridwidth\": 2, \"linecolor\": \"white\", \"showbackground\": true, \"ticks\": \"\", \"zerolinecolor\": \"white\"}, \"yaxis\": {\"backgroundcolor\": \"#E5ECF6\", \"gridcolor\": \"white\", \"gridwidth\": 2, \"linecolor\": \"white\", \"showbackground\": true, \"ticks\": \"\", \"zerolinecolor\": \"white\"}, \"zaxis\": {\"backgroundcolor\": \"#E5ECF6\", \"gridcolor\": \"white\", \"gridwidth\": 2, \"linecolor\": \"white\", \"showbackground\": true, \"ticks\": \"\", \"zerolinecolor\": \"white\"}}, \"shapedefaults\": {\"fillcolor\": \"#506784\", \"line\": {\"width\": 0}, \"opacity\": 0.4}, \"ternary\": {\"aaxis\": {\"gridcolor\": \"white\", \"linecolor\": \"white\", \"ticks\": \"\"}, \"baxis\": {\"gridcolor\": \"white\", \"linecolor\": \"white\", \"ticks\": \"\"}, \"bgcolor\": \"#E5ECF6\", \"caxis\": {\"gridcolor\": \"white\", \"linecolor\": \"white\", \"ticks\": \"\"}}, \"title\": {\"x\": 0.05}, \"xaxis\": {\"automargin\": true, \"gridcolor\": \"white\", \"linecolor\": \"white\", \"ticks\": \"\", \"zerolinecolor\": \"white\", \"zerolinewidth\": 2}, \"yaxis\": {\"automargin\": true, \"gridcolor\": \"white\", \"linecolor\": \"white\", \"ticks\": \"\", \"zerolinecolor\": \"white\", \"zerolinewidth\": 2}}}, \"polar\": {\"angularaxis\": {\"direction\": \"clockwise\", \"rotation\": 90}}}, {\"showLink\": false, \"linkText\": \"Export to plot.ly\", \"plotlyServerURL\": \"https://plot.ly\"}); \n",
       "}\n",
       "});</script><script type=\"text/javascript\">window.addEventListener(\"resize\", function(){if (document.getElementById(\"a9b1a127-7bb3-407c-a510-26f276bb1114\")) {window._Plotly.Plots.resize(document.getElementById(\"a9b1a127-7bb3-407c-a510-26f276bb1114\"));};})</script>"
      ]
     },
     "metadata": {},
     "output_type": "display_data"
    },
    {
     "name": "stdout",
     "output_type": "stream",
     "text": [
      "Comparando la pregunta ¿Eres capaz de expresar verbalmente las emociones que te produce una imagen que has visto?\n"
     ]
    },
    {
     "data": {
      "application/vnd.plotly.v1+json": {
       "config": {
        "linkText": "Export to plot.ly",
        "plotlyServerURL": "https://plot.ly",
        "showLink": false
       },
       "data": [
        {
         "hovertemplate": "¿Eres capaz de expresar verbalmente las emociones que te produce una imagen que has visto?=1. Nunca<br>counts=%{r}<br>cultural_cluster=%{theta}<extra></extra>",
         "legendgroup": "¿Eres capaz de expresar verbalmente las emociones que te produce una imagen que has visto?=1. Nunca",
         "marker": {
          "color": "rgb(213,62,79)"
         },
         "name": "¿Eres capaz de expresar verbalmente las emociones que te produce una imagen que has visto?=1. Nunca",
         "r": [
          1,
          1,
          1,
          10
         ],
         "showlegend": true,
         "theta": [
          "cluster_1",
          "cluster_2",
          "cluster_3",
          "cluster_4"
         ],
         "type": "barpolar",
         "uid": "2605ed1b-39ac-448a-93ce-57044636109a"
        },
        {
         "hovertemplate": "¿Eres capaz de expresar verbalmente las emociones que te produce una imagen que has visto?=2. Muy pocas veces<br>counts=%{r}<br>cultural_cluster=%{theta}<extra></extra>",
         "legendgroup": "¿Eres capaz de expresar verbalmente las emociones que te produce una imagen que has visto?=2. Muy pocas veces",
         "marker": {
          "color": "rgb(252,141,89)"
         },
         "name": "¿Eres capaz de expresar verbalmente las emociones que te produce una imagen que has visto?=2. Muy pocas veces",
         "r": [
          15,
          29,
          5,
          50,
          1
         ],
         "showlegend": true,
         "theta": [
          "cluster_1",
          "cluster_2",
          "cluster_3",
          "cluster_4",
          "cluster_5"
         ],
         "type": "barpolar",
         "uid": "5b5e96c5-2577-4788-8e3b-fc2899f4fb26"
        },
        {
         "hovertemplate": "¿Eres capaz de expresar verbalmente las emociones que te produce una imagen que has visto?=3. En ocasiones<br>counts=%{r}<br>cultural_cluster=%{theta}<extra></extra>",
         "legendgroup": "¿Eres capaz de expresar verbalmente las emociones que te produce una imagen que has visto?=3. En ocasiones",
         "marker": {
          "color": "rgb(254,224,139)"
         },
         "name": "¿Eres capaz de expresar verbalmente las emociones que te produce una imagen que has visto?=3. En ocasiones",
         "r": [
          75,
          117,
          12,
          83
         ],
         "showlegend": true,
         "theta": [
          "cluster_1",
          "cluster_2",
          "cluster_3",
          "cluster_4"
         ],
         "type": "barpolar",
         "uid": "8262018d-e742-48cd-924d-476fc6cdcbc5"
        },
        {
         "hovertemplate": "¿Eres capaz de expresar verbalmente las emociones que te produce una imagen que has visto?=4. Bastantes veces<br>counts=%{r}<br>cultural_cluster=%{theta}<extra></extra>",
         "legendgroup": "¿Eres capaz de expresar verbalmente las emociones que te produce una imagen que has visto?=4. Bastantes veces",
         "marker": {
          "color": "rgb(230,245,152)"
         },
         "name": "¿Eres capaz de expresar verbalmente las emociones que te produce una imagen que has visto?=4. Bastantes veces",
         "r": [
          89,
          100,
          8,
          57
         ],
         "showlegend": true,
         "theta": [
          "cluster_1",
          "cluster_2",
          "cluster_3",
          "cluster_4"
         ],
         "type": "barpolar",
         "uid": "62bee04d-07fd-4518-bc32-d1deda4761f3"
        },
        {
         "hovertemplate": "¿Eres capaz de expresar verbalmente las emociones que te produce una imagen que has visto?=5. Casi siempre o siempre<br>counts=%{r}<br>cultural_cluster=%{theta}<extra></extra>",
         "legendgroup": "¿Eres capaz de expresar verbalmente las emociones que te produce una imagen que has visto?=5. Casi siempre o siempre",
         "marker": {
          "color": "rgb(153,213,148)"
         },
         "name": "¿Eres capaz de expresar verbalmente las emociones que te produce una imagen que has visto?=5. Casi siempre o siempre",
         "r": [
          43,
          54,
          1,
          15
         ],
         "showlegend": true,
         "theta": [
          "cluster_1",
          "cluster_2",
          "cluster_3",
          "cluster_4"
         ],
         "type": "barpolar",
         "uid": "4ba6ec8f-25a8-4160-a88c-b24262115ad0"
        }
       ],
       "layout": {
        "barmode": "group",
        "barnorm": "",
        "height": 600,
        "legend": {
         "tracegroupgap": 0
        },
        "margin": {
         "t": 60
        },
        "polar": {
         "angularaxis": {
          "direction": "clockwise",
          "rotation": 90
         }
        },
        "template": {
         "data": {
          "bar": [
           {
            "marker": {
             "line": {
              "color": "#E5ECF6",
              "width": 0.5
             }
            },
            "type": "bar"
           }
          ],
          "barpolar": [
           {
            "marker": {
             "line": {
              "color": "#E5ECF6",
              "width": 0.5
             }
            },
            "type": "barpolar"
           }
          ],
          "carpet": [
           {
            "aaxis": {
             "endlinecolor": "#2a3f5f",
             "gridcolor": "white",
             "linecolor": "white",
             "minorgridcolor": "white",
             "startlinecolor": "#2a3f5f"
            },
            "baxis": {
             "endlinecolor": "#2a3f5f",
             "gridcolor": "white",
             "linecolor": "white",
             "minorgridcolor": "white",
             "startlinecolor": "#2a3f5f"
            },
            "type": "carpet"
           }
          ],
          "choropleth": [
           {
            "colorbar": {
             "outlinewidth": 0,
             "ticks": ""
            },
            "type": "choropleth"
           }
          ],
          "contour": [
           {
            "autocolorscale": true,
            "colorbar": {
             "outlinewidth": 0,
             "ticks": ""
            },
            "type": "contour"
           }
          ],
          "contourcarpet": [
           {
            "colorbar": {
             "outlinewidth": 0,
             "ticks": ""
            },
            "type": "contourcarpet"
           }
          ],
          "heatmap": [
           {
            "autocolorscale": true,
            "colorbar": {
             "outlinewidth": 0,
             "ticks": ""
            },
            "type": "heatmap"
           }
          ],
          "heatmapgl": [
           {
            "colorbar": {
             "outlinewidth": 0,
             "ticks": ""
            },
            "type": "heatmapgl"
           }
          ],
          "histogram": [
           {
            "marker": {
             "colorbar": {
              "outlinewidth": 0,
              "ticks": ""
             }
            },
            "type": "histogram"
           }
          ],
          "histogram2d": [
           {
            "autocolorscale": true,
            "colorbar": {
             "outlinewidth": 0,
             "ticks": ""
            },
            "type": "histogram2d"
           }
          ],
          "histogram2dcontour": [
           {
            "autocolorscale": true,
            "colorbar": {
             "outlinewidth": 0,
             "ticks": ""
            },
            "type": "histogram2dcontour"
           }
          ],
          "mesh3d": [
           {
            "colorbar": {
             "outlinewidth": 0,
             "ticks": ""
            },
            "type": "mesh3d"
           }
          ],
          "parcoords": [
           {
            "line": {
             "colorbar": {
              "outlinewidth": 0,
              "ticks": ""
             }
            },
            "type": "parcoords"
           }
          ],
          "scatter": [
           {
            "marker": {
             "colorbar": {
              "outlinewidth": 0,
              "ticks": ""
             }
            },
            "type": "scatter"
           }
          ],
          "scatter3d": [
           {
            "marker": {
             "colorbar": {
              "outlinewidth": 0,
              "ticks": ""
             }
            },
            "type": "scatter3d"
           }
          ],
          "scattercarpet": [
           {
            "marker": {
             "colorbar": {
              "outlinewidth": 0,
              "ticks": ""
             }
            },
            "type": "scattercarpet"
           }
          ],
          "scattergeo": [
           {
            "marker": {
             "colorbar": {
              "outlinewidth": 0,
              "ticks": ""
             }
            },
            "type": "scattergeo"
           }
          ],
          "scattergl": [
           {
            "marker": {
             "colorbar": {
              "outlinewidth": 0,
              "ticks": ""
             }
            },
            "type": "scattergl"
           }
          ],
          "scattermapbox": [
           {
            "marker": {
             "colorbar": {
              "outlinewidth": 0,
              "ticks": ""
             }
            },
            "type": "scattermapbox"
           }
          ],
          "scatterpolar": [
           {
            "marker": {
             "colorbar": {
              "outlinewidth": 0,
              "ticks": ""
             }
            },
            "type": "scatterpolar"
           }
          ],
          "scatterpolargl": [
           {
            "marker": {
             "colorbar": {
              "outlinewidth": 0,
              "ticks": ""
             }
            },
            "type": "scatterpolargl"
           }
          ],
          "scatterternary": [
           {
            "marker": {
             "colorbar": {
              "outlinewidth": 0,
              "ticks": ""
             }
            },
            "type": "scatterternary"
           }
          ],
          "surface": [
           {
            "colorbar": {
             "outlinewidth": 0,
             "ticks": ""
            },
            "type": "surface"
           }
          ],
          "table": [
           {
            "cells": {
             "fill": {
              "color": "#EBF0F8"
             },
             "line": {
              "color": "white"
             }
            },
            "header": {
             "fill": {
              "color": "#C8D4E3"
             },
             "line": {
              "color": "white"
             }
            },
            "type": "table"
           }
          ]
         },
         "layout": {
          "annotationdefaults": {
           "arrowcolor": "#506784",
           "arrowhead": 0,
           "arrowwidth": 1
          },
          "colorscale": {
           "diverging": [
            [
             0,
             "#8e0152"
            ],
            [
             0.1,
             "#c51b7d"
            ],
            [
             0.2,
             "#de77ae"
            ],
            [
             0.3,
             "#f1b6da"
            ],
            [
             0.4,
             "#fde0ef"
            ],
            [
             0.5,
             "#f7f7f7"
            ],
            [
             0.6,
             "#e6f5d0"
            ],
            [
             0.7,
             "#b8e186"
            ],
            [
             0.8,
             "#7fbc41"
            ],
            [
             0.9,
             "#4d9221"
            ],
            [
             1,
             "#276419"
            ]
           ],
           "sequential": [
            [
             0,
             "#0508b8"
            ],
            [
             0.0893854748603352,
             "#1910d8"
            ],
            [
             0.1787709497206704,
             "#3c19f0"
            ],
            [
             0.2681564245810056,
             "#6b1cfb"
            ],
            [
             0.3575418994413408,
             "#981cfd"
            ],
            [
             0.44692737430167595,
             "#bf1cfd"
            ],
            [
             0.5363128491620112,
             "#dd2bfd"
            ],
            [
             0.6256983240223464,
             "#f246fe"
            ],
            [
             0.7150837988826816,
             "#fc67fd"
            ],
            [
             0.8044692737430168,
             "#fe88fc"
            ],
            [
             0.8938547486033519,
             "#fea5fd"
            ],
            [
             0.9832402234636871,
             "#febefe"
            ],
            [
             1,
             "#fec3fe"
            ]
           ],
           "sequentialminus": [
            [
             0,
             "#0508b8"
            ],
            [
             0.0893854748603352,
             "#1910d8"
            ],
            [
             0.1787709497206704,
             "#3c19f0"
            ],
            [
             0.2681564245810056,
             "#6b1cfb"
            ],
            [
             0.3575418994413408,
             "#981cfd"
            ],
            [
             0.44692737430167595,
             "#bf1cfd"
            ],
            [
             0.5363128491620112,
             "#dd2bfd"
            ],
            [
             0.6256983240223464,
             "#f246fe"
            ],
            [
             0.7150837988826816,
             "#fc67fd"
            ],
            [
             0.8044692737430168,
             "#fe88fc"
            ],
            [
             0.8938547486033519,
             "#fea5fd"
            ],
            [
             0.9832402234636871,
             "#febefe"
            ],
            [
             1,
             "#fec3fe"
            ]
           ]
          },
          "colorway": [
           "#636efa",
           "#EF553B",
           "#00cc96",
           "#ab63fa",
           "#19d3f3",
           "#e763fa",
           "#FECB52",
           "#FFA15A",
           "#FF6692",
           "#B6E880"
          ],
          "font": {
           "color": "#2a3f5f"
          },
          "geo": {
           "bgcolor": "white",
           "lakecolor": "white",
           "landcolor": "#E5ECF6",
           "showlakes": true,
           "showland": true,
           "subunitcolor": "white"
          },
          "hovermode": "closest",
          "mapbox": {
           "style": "light"
          },
          "paper_bgcolor": "white",
          "plot_bgcolor": "#E5ECF6",
          "polar": {
           "angularaxis": {
            "gridcolor": "white",
            "linecolor": "white",
            "ticks": ""
           },
           "bgcolor": "#E5ECF6",
           "radialaxis": {
            "gridcolor": "white",
            "linecolor": "white",
            "ticks": ""
           }
          },
          "scene": {
           "xaxis": {
            "backgroundcolor": "#E5ECF6",
            "gridcolor": "white",
            "gridwidth": 2,
            "linecolor": "white",
            "showbackground": true,
            "ticks": "",
            "zerolinecolor": "white"
           },
           "yaxis": {
            "backgroundcolor": "#E5ECF6",
            "gridcolor": "white",
            "gridwidth": 2,
            "linecolor": "white",
            "showbackground": true,
            "ticks": "",
            "zerolinecolor": "white"
           },
           "zaxis": {
            "backgroundcolor": "#E5ECF6",
            "gridcolor": "white",
            "gridwidth": 2,
            "linecolor": "white",
            "showbackground": true,
            "ticks": "",
            "zerolinecolor": "white"
           }
          },
          "shapedefaults": {
           "fillcolor": "#506784",
           "line": {
            "width": 0
           },
           "opacity": 0.4
          },
          "ternary": {
           "aaxis": {
            "gridcolor": "white",
            "linecolor": "white",
            "ticks": ""
           },
           "baxis": {
            "gridcolor": "white",
            "linecolor": "white",
            "ticks": ""
           },
           "bgcolor": "#E5ECF6",
           "caxis": {
            "gridcolor": "white",
            "linecolor": "white",
            "ticks": ""
           }
          },
          "title": {
           "x": 0.05
          },
          "xaxis": {
           "automargin": true,
           "gridcolor": "white",
           "linecolor": "white",
           "ticks": "",
           "zerolinecolor": "white",
           "zerolinewidth": 2
          },
          "yaxis": {
           "automargin": true,
           "gridcolor": "white",
           "linecolor": "white",
           "ticks": "",
           "zerolinecolor": "white",
           "zerolinewidth": 2
          }
         }
        }
       }
      },
      "text/html": [
       "<div id=\"4280bc67-77de-49c1-8e6b-14eedba1dbc7\" style=\"height: 600px; width: 100%;\" class=\"plotly-graph-div\"></div><script type=\"text/javascript\">require([\"plotly\"], function(Plotly) { window.PLOTLYENV=window.PLOTLYENV || {};window.PLOTLYENV.BASE_URL=\"https://plot.ly\";\n",
       "if (document.getElementById(\"4280bc67-77de-49c1-8e6b-14eedba1dbc7\")) {\n",
       "    Plotly.newPlot(\"4280bc67-77de-49c1-8e6b-14eedba1dbc7\", [{\"hovertemplate\": \"\\u00bfEres capaz de expresar verbalmente las emociones que te produce una imagen que has visto?=1. Nunca<br>counts=%{r}<br>cultural_cluster=%{theta}<extra></extra>\", \"legendgroup\": \"\\u00bfEres capaz de expresar verbalmente las emociones que te produce una imagen que has visto?=1. Nunca\", \"marker\": {\"color\": \"rgb(213,62,79)\"}, \"name\": \"\\u00bfEres capaz de expresar verbalmente las emociones que te produce una imagen que has visto?=1. Nunca\", \"r\": [1, 1, 1, 10], \"showlegend\": true, \"theta\": [\"cluster_1\", \"cluster_2\", \"cluster_3\", \"cluster_4\"], \"type\": \"barpolar\", \"uid\": \"2605ed1b-39ac-448a-93ce-57044636109a\"}, {\"hovertemplate\": \"\\u00bfEres capaz de expresar verbalmente las emociones que te produce una imagen que has visto?=2. Muy pocas veces<br>counts=%{r}<br>cultural_cluster=%{theta}<extra></extra>\", \"legendgroup\": \"\\u00bfEres capaz de expresar verbalmente las emociones que te produce una imagen que has visto?=2. Muy pocas veces\", \"marker\": {\"color\": \"rgb(252,141,89)\"}, \"name\": \"\\u00bfEres capaz de expresar verbalmente las emociones que te produce una imagen que has visto?=2. Muy pocas veces\", \"r\": [15, 29, 5, 50, 1], \"showlegend\": true, \"theta\": [\"cluster_1\", \"cluster_2\", \"cluster_3\", \"cluster_4\", \"cluster_5\"], \"type\": \"barpolar\", \"uid\": \"5b5e96c5-2577-4788-8e3b-fc2899f4fb26\"}, {\"hovertemplate\": \"\\u00bfEres capaz de expresar verbalmente las emociones que te produce una imagen que has visto?=3. En ocasiones<br>counts=%{r}<br>cultural_cluster=%{theta}<extra></extra>\", \"legendgroup\": \"\\u00bfEres capaz de expresar verbalmente las emociones que te produce una imagen que has visto?=3. En ocasiones\", \"marker\": {\"color\": \"rgb(254,224,139)\"}, \"name\": \"\\u00bfEres capaz de expresar verbalmente las emociones que te produce una imagen que has visto?=3. En ocasiones\", \"r\": [75, 117, 12, 83], \"showlegend\": true, \"theta\": [\"cluster_1\", \"cluster_2\", \"cluster_3\", \"cluster_4\"], \"type\": \"barpolar\", \"uid\": \"8262018d-e742-48cd-924d-476fc6cdcbc5\"}, {\"hovertemplate\": \"\\u00bfEres capaz de expresar verbalmente las emociones que te produce una imagen que has visto?=4. Bastantes veces<br>counts=%{r}<br>cultural_cluster=%{theta}<extra></extra>\", \"legendgroup\": \"\\u00bfEres capaz de expresar verbalmente las emociones que te produce una imagen que has visto?=4. Bastantes veces\", \"marker\": {\"color\": \"rgb(230,245,152)\"}, \"name\": \"\\u00bfEres capaz de expresar verbalmente las emociones que te produce una imagen que has visto?=4. Bastantes veces\", \"r\": [89, 100, 8, 57], \"showlegend\": true, \"theta\": [\"cluster_1\", \"cluster_2\", \"cluster_3\", \"cluster_4\"], \"type\": \"barpolar\", \"uid\": \"62bee04d-07fd-4518-bc32-d1deda4761f3\"}, {\"hovertemplate\": \"\\u00bfEres capaz de expresar verbalmente las emociones que te produce una imagen que has visto?=5. Casi siempre o siempre<br>counts=%{r}<br>cultural_cluster=%{theta}<extra></extra>\", \"legendgroup\": \"\\u00bfEres capaz de expresar verbalmente las emociones que te produce una imagen que has visto?=5. Casi siempre o siempre\", \"marker\": {\"color\": \"rgb(153,213,148)\"}, \"name\": \"\\u00bfEres capaz de expresar verbalmente las emociones que te produce una imagen que has visto?=5. Casi siempre o siempre\", \"r\": [43, 54, 1, 15], \"showlegend\": true, \"theta\": [\"cluster_1\", \"cluster_2\", \"cluster_3\", \"cluster_4\"], \"type\": \"barpolar\", \"uid\": \"4ba6ec8f-25a8-4160-a88c-b24262115ad0\"}], {\"barmode\": \"group\", \"barnorm\": \"\", \"height\": 600, \"legend\": {\"tracegroupgap\": 0}, \"margin\": {\"t\": 60}, \"template\": {\"data\": {\"barpolar\": [{\"marker\": {\"line\": {\"color\": \"#E5ECF6\", \"width\": 0.5}}, \"type\": \"barpolar\"}], \"bar\": [{\"marker\": {\"line\": {\"color\": \"#E5ECF6\", \"width\": 0.5}}, \"type\": \"bar\"}], \"carpet\": [{\"aaxis\": {\"endlinecolor\": \"#2a3f5f\", \"gridcolor\": \"white\", \"linecolor\": \"white\", \"minorgridcolor\": \"white\", \"startlinecolor\": \"#2a3f5f\"}, \"baxis\": {\"endlinecolor\": \"#2a3f5f\", \"gridcolor\": \"white\", \"linecolor\": \"white\", \"minorgridcolor\": \"white\", \"startlinecolor\": \"#2a3f5f\"}, \"type\": \"carpet\"}], \"choropleth\": [{\"colorbar\": {\"outlinewidth\": 0, \"ticks\": \"\"}, \"type\": \"choropleth\"}], \"contourcarpet\": [{\"colorbar\": {\"outlinewidth\": 0, \"ticks\": \"\"}, \"type\": \"contourcarpet\"}], \"contour\": [{\"autocolorscale\": true, \"colorbar\": {\"outlinewidth\": 0, \"ticks\": \"\"}, \"type\": \"contour\"}], \"heatmapgl\": [{\"colorbar\": {\"outlinewidth\": 0, \"ticks\": \"\"}, \"type\": \"heatmapgl\"}], \"heatmap\": [{\"autocolorscale\": true, \"colorbar\": {\"outlinewidth\": 0, \"ticks\": \"\"}, \"type\": \"heatmap\"}], \"histogram2dcontour\": [{\"autocolorscale\": true, \"colorbar\": {\"outlinewidth\": 0, \"ticks\": \"\"}, \"type\": \"histogram2dcontour\"}], \"histogram2d\": [{\"autocolorscale\": true, \"colorbar\": {\"outlinewidth\": 0, \"ticks\": \"\"}, \"type\": \"histogram2d\"}], \"histogram\": [{\"marker\": {\"colorbar\": {\"outlinewidth\": 0, \"ticks\": \"\"}}, \"type\": \"histogram\"}], \"mesh3d\": [{\"colorbar\": {\"outlinewidth\": 0, \"ticks\": \"\"}, \"type\": \"mesh3d\"}], \"parcoords\": [{\"line\": {\"colorbar\": {\"outlinewidth\": 0, \"ticks\": \"\"}}, \"type\": \"parcoords\"}], \"scatter3d\": [{\"marker\": {\"colorbar\": {\"outlinewidth\": 0, \"ticks\": \"\"}}, \"type\": \"scatter3d\"}], \"scattercarpet\": [{\"marker\": {\"colorbar\": {\"outlinewidth\": 0, \"ticks\": \"\"}}, \"type\": \"scattercarpet\"}], \"scattergeo\": [{\"marker\": {\"colorbar\": {\"outlinewidth\": 0, \"ticks\": \"\"}}, \"type\": \"scattergeo\"}], \"scattergl\": [{\"marker\": {\"colorbar\": {\"outlinewidth\": 0, \"ticks\": \"\"}}, \"type\": \"scattergl\"}], \"scattermapbox\": [{\"marker\": {\"colorbar\": {\"outlinewidth\": 0, \"ticks\": \"\"}}, \"type\": \"scattermapbox\"}], \"scatterpolargl\": [{\"marker\": {\"colorbar\": {\"outlinewidth\": 0, \"ticks\": \"\"}}, \"type\": \"scatterpolargl\"}], \"scatterpolar\": [{\"marker\": {\"colorbar\": {\"outlinewidth\": 0, \"ticks\": \"\"}}, \"type\": \"scatterpolar\"}], \"scatter\": [{\"marker\": {\"colorbar\": {\"outlinewidth\": 0, \"ticks\": \"\"}}, \"type\": \"scatter\"}], \"scatterternary\": [{\"marker\": {\"colorbar\": {\"outlinewidth\": 0, \"ticks\": \"\"}}, \"type\": \"scatterternary\"}], \"surface\": [{\"colorbar\": {\"outlinewidth\": 0, \"ticks\": \"\"}, \"type\": \"surface\"}], \"table\": [{\"cells\": {\"fill\": {\"color\": \"#EBF0F8\"}, \"line\": {\"color\": \"white\"}}, \"header\": {\"fill\": {\"color\": \"#C8D4E3\"}, \"line\": {\"color\": \"white\"}}, \"type\": \"table\"}]}, \"layout\": {\"annotationdefaults\": {\"arrowcolor\": \"#506784\", \"arrowhead\": 0, \"arrowwidth\": 1}, \"colorscale\": {\"diverging\": [[0, \"#8e0152\"], [0.1, \"#c51b7d\"], [0.2, \"#de77ae\"], [0.3, \"#f1b6da\"], [0.4, \"#fde0ef\"], [0.5, \"#f7f7f7\"], [0.6, \"#e6f5d0\"], [0.7, \"#b8e186\"], [0.8, \"#7fbc41\"], [0.9, \"#4d9221\"], [1, \"#276419\"]], \"sequential\": [[0.0, \"#0508b8\"], [0.0893854748603352, \"#1910d8\"], [0.1787709497206704, \"#3c19f0\"], [0.2681564245810056, \"#6b1cfb\"], [0.3575418994413408, \"#981cfd\"], [0.44692737430167595, \"#bf1cfd\"], [0.5363128491620112, \"#dd2bfd\"], [0.6256983240223464, \"#f246fe\"], [0.7150837988826816, \"#fc67fd\"], [0.8044692737430168, \"#fe88fc\"], [0.8938547486033519, \"#fea5fd\"], [0.9832402234636871, \"#febefe\"], [1.0, \"#fec3fe\"]], \"sequentialminus\": [[0.0, \"#0508b8\"], [0.0893854748603352, \"#1910d8\"], [0.1787709497206704, \"#3c19f0\"], [0.2681564245810056, \"#6b1cfb\"], [0.3575418994413408, \"#981cfd\"], [0.44692737430167595, \"#bf1cfd\"], [0.5363128491620112, \"#dd2bfd\"], [0.6256983240223464, \"#f246fe\"], [0.7150837988826816, \"#fc67fd\"], [0.8044692737430168, \"#fe88fc\"], [0.8938547486033519, \"#fea5fd\"], [0.9832402234636871, \"#febefe\"], [1.0, \"#fec3fe\"]]}, \"colorway\": [\"#636efa\", \"#EF553B\", \"#00cc96\", \"#ab63fa\", \"#19d3f3\", \"#e763fa\", \"#FECB52\", \"#FFA15A\", \"#FF6692\", \"#B6E880\"], \"font\": {\"color\": \"#2a3f5f\"}, \"geo\": {\"bgcolor\": \"white\", \"lakecolor\": \"white\", \"landcolor\": \"#E5ECF6\", \"showlakes\": true, \"showland\": true, \"subunitcolor\": \"white\"}, \"hovermode\": \"closest\", \"mapbox\": {\"style\": \"light\"}, \"paper_bgcolor\": \"white\", \"plot_bgcolor\": \"#E5ECF6\", \"polar\": {\"angularaxis\": {\"gridcolor\": \"white\", \"linecolor\": \"white\", \"ticks\": \"\"}, \"bgcolor\": \"#E5ECF6\", \"radialaxis\": {\"gridcolor\": \"white\", \"linecolor\": \"white\", \"ticks\": \"\"}}, \"scene\": {\"xaxis\": {\"backgroundcolor\": \"#E5ECF6\", \"gridcolor\": \"white\", \"gridwidth\": 2, \"linecolor\": \"white\", \"showbackground\": true, \"ticks\": \"\", \"zerolinecolor\": \"white\"}, \"yaxis\": {\"backgroundcolor\": \"#E5ECF6\", \"gridcolor\": \"white\", \"gridwidth\": 2, \"linecolor\": \"white\", \"showbackground\": true, \"ticks\": \"\", \"zerolinecolor\": \"white\"}, \"zaxis\": {\"backgroundcolor\": \"#E5ECF6\", \"gridcolor\": \"white\", \"gridwidth\": 2, \"linecolor\": \"white\", \"showbackground\": true, \"ticks\": \"\", \"zerolinecolor\": \"white\"}}, \"shapedefaults\": {\"fillcolor\": \"#506784\", \"line\": {\"width\": 0}, \"opacity\": 0.4}, \"ternary\": {\"aaxis\": {\"gridcolor\": \"white\", \"linecolor\": \"white\", \"ticks\": \"\"}, \"baxis\": {\"gridcolor\": \"white\", \"linecolor\": \"white\", \"ticks\": \"\"}, \"bgcolor\": \"#E5ECF6\", \"caxis\": {\"gridcolor\": \"white\", \"linecolor\": \"white\", \"ticks\": \"\"}}, \"title\": {\"x\": 0.05}, \"xaxis\": {\"automargin\": true, \"gridcolor\": \"white\", \"linecolor\": \"white\", \"ticks\": \"\", \"zerolinecolor\": \"white\", \"zerolinewidth\": 2}, \"yaxis\": {\"automargin\": true, \"gridcolor\": \"white\", \"linecolor\": \"white\", \"ticks\": \"\", \"zerolinecolor\": \"white\", \"zerolinewidth\": 2}}}, \"polar\": {\"angularaxis\": {\"direction\": \"clockwise\", \"rotation\": 90}}}, {\"showLink\": false, \"linkText\": \"Export to plot.ly\", \"plotlyServerURL\": \"https://plot.ly\"}); \n",
       "}\n",
       "});</script><script type=\"text/javascript\">window.addEventListener(\"resize\", function(){if (document.getElementById(\"4280bc67-77de-49c1-8e6b-14eedba1dbc7\")) {window._Plotly.Plots.resize(document.getElementById(\"4280bc67-77de-49c1-8e6b-14eedba1dbc7\"));};})</script>"
      ],
      "text/vnd.plotly.v1+html": [
       "<div id=\"4280bc67-77de-49c1-8e6b-14eedba1dbc7\" style=\"height: 600px; width: 100%;\" class=\"plotly-graph-div\"></div><script type=\"text/javascript\">require([\"plotly\"], function(Plotly) { window.PLOTLYENV=window.PLOTLYENV || {};window.PLOTLYENV.BASE_URL=\"https://plot.ly\";\n",
       "if (document.getElementById(\"4280bc67-77de-49c1-8e6b-14eedba1dbc7\")) {\n",
       "    Plotly.newPlot(\"4280bc67-77de-49c1-8e6b-14eedba1dbc7\", [{\"hovertemplate\": \"\\u00bfEres capaz de expresar verbalmente las emociones que te produce una imagen que has visto?=1. Nunca<br>counts=%{r}<br>cultural_cluster=%{theta}<extra></extra>\", \"legendgroup\": \"\\u00bfEres capaz de expresar verbalmente las emociones que te produce una imagen que has visto?=1. Nunca\", \"marker\": {\"color\": \"rgb(213,62,79)\"}, \"name\": \"\\u00bfEres capaz de expresar verbalmente las emociones que te produce una imagen que has visto?=1. Nunca\", \"r\": [1, 1, 1, 10], \"showlegend\": true, \"theta\": [\"cluster_1\", \"cluster_2\", \"cluster_3\", \"cluster_4\"], \"type\": \"barpolar\", \"uid\": \"2605ed1b-39ac-448a-93ce-57044636109a\"}, {\"hovertemplate\": \"\\u00bfEres capaz de expresar verbalmente las emociones que te produce una imagen que has visto?=2. Muy pocas veces<br>counts=%{r}<br>cultural_cluster=%{theta}<extra></extra>\", \"legendgroup\": \"\\u00bfEres capaz de expresar verbalmente las emociones que te produce una imagen que has visto?=2. Muy pocas veces\", \"marker\": {\"color\": \"rgb(252,141,89)\"}, \"name\": \"\\u00bfEres capaz de expresar verbalmente las emociones que te produce una imagen que has visto?=2. Muy pocas veces\", \"r\": [15, 29, 5, 50, 1], \"showlegend\": true, \"theta\": [\"cluster_1\", \"cluster_2\", \"cluster_3\", \"cluster_4\", \"cluster_5\"], \"type\": \"barpolar\", \"uid\": \"5b5e96c5-2577-4788-8e3b-fc2899f4fb26\"}, {\"hovertemplate\": \"\\u00bfEres capaz de expresar verbalmente las emociones que te produce una imagen que has visto?=3. En ocasiones<br>counts=%{r}<br>cultural_cluster=%{theta}<extra></extra>\", \"legendgroup\": \"\\u00bfEres capaz de expresar verbalmente las emociones que te produce una imagen que has visto?=3. En ocasiones\", \"marker\": {\"color\": \"rgb(254,224,139)\"}, \"name\": \"\\u00bfEres capaz de expresar verbalmente las emociones que te produce una imagen que has visto?=3. En ocasiones\", \"r\": [75, 117, 12, 83], \"showlegend\": true, \"theta\": [\"cluster_1\", \"cluster_2\", \"cluster_3\", \"cluster_4\"], \"type\": \"barpolar\", \"uid\": \"8262018d-e742-48cd-924d-476fc6cdcbc5\"}, {\"hovertemplate\": \"\\u00bfEres capaz de expresar verbalmente las emociones que te produce una imagen que has visto?=4. Bastantes veces<br>counts=%{r}<br>cultural_cluster=%{theta}<extra></extra>\", \"legendgroup\": \"\\u00bfEres capaz de expresar verbalmente las emociones que te produce una imagen que has visto?=4. Bastantes veces\", \"marker\": {\"color\": \"rgb(230,245,152)\"}, \"name\": \"\\u00bfEres capaz de expresar verbalmente las emociones que te produce una imagen que has visto?=4. Bastantes veces\", \"r\": [89, 100, 8, 57], \"showlegend\": true, \"theta\": [\"cluster_1\", \"cluster_2\", \"cluster_3\", \"cluster_4\"], \"type\": \"barpolar\", \"uid\": \"62bee04d-07fd-4518-bc32-d1deda4761f3\"}, {\"hovertemplate\": \"\\u00bfEres capaz de expresar verbalmente las emociones que te produce una imagen que has visto?=5. Casi siempre o siempre<br>counts=%{r}<br>cultural_cluster=%{theta}<extra></extra>\", \"legendgroup\": \"\\u00bfEres capaz de expresar verbalmente las emociones que te produce una imagen que has visto?=5. Casi siempre o siempre\", \"marker\": {\"color\": \"rgb(153,213,148)\"}, \"name\": \"\\u00bfEres capaz de expresar verbalmente las emociones que te produce una imagen que has visto?=5. Casi siempre o siempre\", \"r\": [43, 54, 1, 15], \"showlegend\": true, \"theta\": [\"cluster_1\", \"cluster_2\", \"cluster_3\", \"cluster_4\"], \"type\": \"barpolar\", \"uid\": \"4ba6ec8f-25a8-4160-a88c-b24262115ad0\"}], {\"barmode\": \"group\", \"barnorm\": \"\", \"height\": 600, \"legend\": {\"tracegroupgap\": 0}, \"margin\": {\"t\": 60}, \"template\": {\"data\": {\"barpolar\": [{\"marker\": {\"line\": {\"color\": \"#E5ECF6\", \"width\": 0.5}}, \"type\": \"barpolar\"}], \"bar\": [{\"marker\": {\"line\": {\"color\": \"#E5ECF6\", \"width\": 0.5}}, \"type\": \"bar\"}], \"carpet\": [{\"aaxis\": {\"endlinecolor\": \"#2a3f5f\", \"gridcolor\": \"white\", \"linecolor\": \"white\", \"minorgridcolor\": \"white\", \"startlinecolor\": \"#2a3f5f\"}, \"baxis\": {\"endlinecolor\": \"#2a3f5f\", \"gridcolor\": \"white\", \"linecolor\": \"white\", \"minorgridcolor\": \"white\", \"startlinecolor\": \"#2a3f5f\"}, \"type\": \"carpet\"}], \"choropleth\": [{\"colorbar\": {\"outlinewidth\": 0, \"ticks\": \"\"}, \"type\": \"choropleth\"}], \"contourcarpet\": [{\"colorbar\": {\"outlinewidth\": 0, \"ticks\": \"\"}, \"type\": \"contourcarpet\"}], \"contour\": [{\"autocolorscale\": true, \"colorbar\": {\"outlinewidth\": 0, \"ticks\": \"\"}, \"type\": \"contour\"}], \"heatmapgl\": [{\"colorbar\": {\"outlinewidth\": 0, \"ticks\": \"\"}, \"type\": \"heatmapgl\"}], \"heatmap\": [{\"autocolorscale\": true, \"colorbar\": {\"outlinewidth\": 0, \"ticks\": \"\"}, \"type\": \"heatmap\"}], \"histogram2dcontour\": [{\"autocolorscale\": true, \"colorbar\": {\"outlinewidth\": 0, \"ticks\": \"\"}, \"type\": \"histogram2dcontour\"}], \"histogram2d\": [{\"autocolorscale\": true, \"colorbar\": {\"outlinewidth\": 0, \"ticks\": \"\"}, \"type\": \"histogram2d\"}], \"histogram\": [{\"marker\": {\"colorbar\": {\"outlinewidth\": 0, \"ticks\": \"\"}}, \"type\": \"histogram\"}], \"mesh3d\": [{\"colorbar\": {\"outlinewidth\": 0, \"ticks\": \"\"}, \"type\": \"mesh3d\"}], \"parcoords\": [{\"line\": {\"colorbar\": {\"outlinewidth\": 0, \"ticks\": \"\"}}, \"type\": \"parcoords\"}], \"scatter3d\": [{\"marker\": {\"colorbar\": {\"outlinewidth\": 0, \"ticks\": \"\"}}, \"type\": \"scatter3d\"}], \"scattercarpet\": [{\"marker\": {\"colorbar\": {\"outlinewidth\": 0, \"ticks\": \"\"}}, \"type\": \"scattercarpet\"}], \"scattergeo\": [{\"marker\": {\"colorbar\": {\"outlinewidth\": 0, \"ticks\": \"\"}}, \"type\": \"scattergeo\"}], \"scattergl\": [{\"marker\": {\"colorbar\": {\"outlinewidth\": 0, \"ticks\": \"\"}}, \"type\": \"scattergl\"}], \"scattermapbox\": [{\"marker\": {\"colorbar\": {\"outlinewidth\": 0, \"ticks\": \"\"}}, \"type\": \"scattermapbox\"}], \"scatterpolargl\": [{\"marker\": {\"colorbar\": {\"outlinewidth\": 0, \"ticks\": \"\"}}, \"type\": \"scatterpolargl\"}], \"scatterpolar\": [{\"marker\": {\"colorbar\": {\"outlinewidth\": 0, \"ticks\": \"\"}}, \"type\": \"scatterpolar\"}], \"scatter\": [{\"marker\": {\"colorbar\": {\"outlinewidth\": 0, \"ticks\": \"\"}}, \"type\": \"scatter\"}], \"scatterternary\": [{\"marker\": {\"colorbar\": {\"outlinewidth\": 0, \"ticks\": \"\"}}, \"type\": \"scatterternary\"}], \"surface\": [{\"colorbar\": {\"outlinewidth\": 0, \"ticks\": \"\"}, \"type\": \"surface\"}], \"table\": [{\"cells\": {\"fill\": {\"color\": \"#EBF0F8\"}, \"line\": {\"color\": \"white\"}}, \"header\": {\"fill\": {\"color\": \"#C8D4E3\"}, \"line\": {\"color\": \"white\"}}, \"type\": \"table\"}]}, \"layout\": {\"annotationdefaults\": {\"arrowcolor\": \"#506784\", \"arrowhead\": 0, \"arrowwidth\": 1}, \"colorscale\": {\"diverging\": [[0, \"#8e0152\"], [0.1, \"#c51b7d\"], [0.2, \"#de77ae\"], [0.3, \"#f1b6da\"], [0.4, \"#fde0ef\"], [0.5, \"#f7f7f7\"], [0.6, \"#e6f5d0\"], [0.7, \"#b8e186\"], [0.8, \"#7fbc41\"], [0.9, \"#4d9221\"], [1, \"#276419\"]], \"sequential\": [[0.0, \"#0508b8\"], [0.0893854748603352, \"#1910d8\"], [0.1787709497206704, \"#3c19f0\"], [0.2681564245810056, \"#6b1cfb\"], [0.3575418994413408, \"#981cfd\"], [0.44692737430167595, \"#bf1cfd\"], [0.5363128491620112, \"#dd2bfd\"], [0.6256983240223464, \"#f246fe\"], [0.7150837988826816, \"#fc67fd\"], [0.8044692737430168, \"#fe88fc\"], [0.8938547486033519, \"#fea5fd\"], [0.9832402234636871, \"#febefe\"], [1.0, \"#fec3fe\"]], \"sequentialminus\": [[0.0, \"#0508b8\"], [0.0893854748603352, \"#1910d8\"], [0.1787709497206704, \"#3c19f0\"], [0.2681564245810056, \"#6b1cfb\"], [0.3575418994413408, \"#981cfd\"], [0.44692737430167595, \"#bf1cfd\"], [0.5363128491620112, \"#dd2bfd\"], [0.6256983240223464, \"#f246fe\"], [0.7150837988826816, \"#fc67fd\"], [0.8044692737430168, \"#fe88fc\"], [0.8938547486033519, \"#fea5fd\"], [0.9832402234636871, \"#febefe\"], [1.0, \"#fec3fe\"]]}, \"colorway\": [\"#636efa\", \"#EF553B\", \"#00cc96\", \"#ab63fa\", \"#19d3f3\", \"#e763fa\", \"#FECB52\", \"#FFA15A\", \"#FF6692\", \"#B6E880\"], \"font\": {\"color\": \"#2a3f5f\"}, \"geo\": {\"bgcolor\": \"white\", \"lakecolor\": \"white\", \"landcolor\": \"#E5ECF6\", \"showlakes\": true, \"showland\": true, \"subunitcolor\": \"white\"}, \"hovermode\": \"closest\", \"mapbox\": {\"style\": \"light\"}, \"paper_bgcolor\": \"white\", \"plot_bgcolor\": \"#E5ECF6\", \"polar\": {\"angularaxis\": {\"gridcolor\": \"white\", \"linecolor\": \"white\", \"ticks\": \"\"}, \"bgcolor\": \"#E5ECF6\", \"radialaxis\": {\"gridcolor\": \"white\", \"linecolor\": \"white\", \"ticks\": \"\"}}, \"scene\": {\"xaxis\": {\"backgroundcolor\": \"#E5ECF6\", \"gridcolor\": \"white\", \"gridwidth\": 2, \"linecolor\": \"white\", \"showbackground\": true, \"ticks\": \"\", \"zerolinecolor\": \"white\"}, \"yaxis\": {\"backgroundcolor\": \"#E5ECF6\", \"gridcolor\": \"white\", \"gridwidth\": 2, \"linecolor\": \"white\", \"showbackground\": true, \"ticks\": \"\", \"zerolinecolor\": \"white\"}, \"zaxis\": {\"backgroundcolor\": \"#E5ECF6\", \"gridcolor\": \"white\", \"gridwidth\": 2, \"linecolor\": \"white\", \"showbackground\": true, \"ticks\": \"\", \"zerolinecolor\": \"white\"}}, \"shapedefaults\": {\"fillcolor\": \"#506784\", \"line\": {\"width\": 0}, \"opacity\": 0.4}, \"ternary\": {\"aaxis\": {\"gridcolor\": \"white\", \"linecolor\": \"white\", \"ticks\": \"\"}, \"baxis\": {\"gridcolor\": \"white\", \"linecolor\": \"white\", \"ticks\": \"\"}, \"bgcolor\": \"#E5ECF6\", \"caxis\": {\"gridcolor\": \"white\", \"linecolor\": \"white\", \"ticks\": \"\"}}, \"title\": {\"x\": 0.05}, \"xaxis\": {\"automargin\": true, \"gridcolor\": \"white\", \"linecolor\": \"white\", \"ticks\": \"\", \"zerolinecolor\": \"white\", \"zerolinewidth\": 2}, \"yaxis\": {\"automargin\": true, \"gridcolor\": \"white\", \"linecolor\": \"white\", \"ticks\": \"\", \"zerolinecolor\": \"white\", \"zerolinewidth\": 2}}}, \"polar\": {\"angularaxis\": {\"direction\": \"clockwise\", \"rotation\": 90}}}, {\"showLink\": false, \"linkText\": \"Export to plot.ly\", \"plotlyServerURL\": \"https://plot.ly\"}); \n",
       "}\n",
       "});</script><script type=\"text/javascript\">window.addEventListener(\"resize\", function(){if (document.getElementById(\"4280bc67-77de-49c1-8e6b-14eedba1dbc7\")) {window._Plotly.Plots.resize(document.getElementById(\"4280bc67-77de-49c1-8e6b-14eedba1dbc7\"));};})</script>"
      ]
     },
     "metadata": {},
     "output_type": "display_data"
    }
   ],
   "source": [
    "compare_interpretation_images_by_cultural_clusters_esp(dataframe_with_clusters_esp)"
   ]
  },
  {
   "cell_type": "code",
   "execution_count": 12,
   "metadata": {},
   "outputs": [],
   "source": [
    "# compare_interpretation_images_by_cultural_clusters_en(dataframe_with_clusters_en)"
   ]
  }
 ],
 "metadata": {
  "kernelspec": {
   "display_name": "Python 3",
   "language": "python",
   "name": "python3"
  },
  "language_info": {
   "codemirror_mode": {
    "name": "ipython",
    "version": 3
   },
   "file_extension": ".py",
   "mimetype": "text/x-python",
   "name": "python",
   "nbconvert_exporter": "python",
   "pygments_lexer": "ipython3",
   "version": "3.6.8"
  }
 },
 "nbformat": 4,
 "nbformat_minor": 2
}

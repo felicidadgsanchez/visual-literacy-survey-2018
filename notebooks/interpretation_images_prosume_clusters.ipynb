{
 "cells": [
  {
   "cell_type": "code",
   "execution_count": 1,
   "metadata": {},
   "outputs": [
    {
     "name": "stdout",
     "output_type": "stream",
     "text": [
      "Importing Jupyter notebook from data_preparation.ipynb\n",
      "Importing Jupyter notebook from prosume_clustering.ipynb\n"
     ]
    }
   ],
   "source": [
    "import nbimporter\n",
    "from data_preparation import *\n",
    "from prosume_clustering import * "
   ]
  },
  {
   "cell_type": "code",
   "execution_count": 2,
   "metadata": {},
   "outputs": [
    {
     "data": {
      "text/html": [
       "<script type=\"text/javascript\">window.PlotlyConfig = {MathJaxConfig: 'local'};</script><script type=\"text/javascript\">if (window.MathJax) {MathJax.Hub.Config({SVG: {font: \"STIX-Web\"}});}</script><script>requirejs.config({paths: { 'plotly': ['https://cdn.plot.ly/plotly-latest.min']},});if(!window._Plotly) {require(['plotly'],function(plotly) {window._Plotly=plotly;});}</script>"
      ],
      "text/vnd.plotly.v1+html": [
       "<script type=\"text/javascript\">window.PlotlyConfig = {MathJaxConfig: 'local'};</script><script type=\"text/javascript\">if (window.MathJax) {MathJax.Hub.Config({SVG: {font: \"STIX-Web\"}});}</script><script>requirejs.config({paths: { 'plotly': ['https://cdn.plot.ly/plotly-latest.min']},});if(!window._Plotly) {require(['plotly'],function(plotly) {window._Plotly=plotly;});}</script>"
      ]
     },
     "metadata": {},
     "output_type": "display_data"
    }
   ],
   "source": [
    "# import matplotlib.pyplot as plt\n",
    "# plt.style.use('fivethirtyeight')\n",
    "import colorlover as cl\n",
    "\n",
    "import plotly_express as px\n",
    "\n",
    "from plotly.offline import download_plotlyjs, init_notebook_mode, plot, iplot\n",
    "import plotly.graph_objs as go\n",
    "init_notebook_mode(connected=True)"
   ]
  },
  {
   "cell_type": "code",
   "execution_count": 3,
   "metadata": {},
   "outputs": [
    {
     "name": "stderr",
     "output_type": "stream",
     "text": [
      "prosume_clustering.ipynb:17: DataConversionWarning:\n",
      "\n",
      "Data with input dtype int64 were all converted to float64 by the scale function.\n",
      "\n"
     ]
    },
    {
     "data": {
      "text/html": [
       "<div>\n",
       "<style scoped>\n",
       "    .dataframe tbody tr th:only-of-type {\n",
       "        vertical-align: middle;\n",
       "    }\n",
       "\n",
       "    .dataframe tbody tr th {\n",
       "        vertical-align: top;\n",
       "    }\n",
       "\n",
       "    .dataframe thead th {\n",
       "        text-align: right;\n",
       "    }\n",
       "</style>\n",
       "<table border=\"1\" class=\"dataframe\">\n",
       "  <thead>\n",
       "    <tr style=\"text-align: right;\">\n",
       "      <th></th>\n",
       "      <th>Cuando compartes imágenes, ¿habitualmente las envías a otras personas?</th>\n",
       "      <th>Cuando compartes imágenes, ¿habitualmente las produces tú?</th>\n",
       "      <th>Cuando compartes imágenes, ¿habitualmente las recibes de otras personas?</th>\n",
       "      <th>Cuando generas una imagen, ¿qué tipo de dispositivo usas? (Respuesta múltiple) [1. Cámara de fotos]</th>\n",
       "      <th>Cuando generas una imagen, ¿qué tipo de dispositivo usas? (Respuesta múltiple) [2. Teléfono móvil]</th>\n",
       "      <th>Cuando generas una imagen, ¿qué tipo de dispositivo usas? (Respuesta múltiple) [3. Tableta]</th>\n",
       "      <th>Cuando produces imágenes, ¿cuánto tiempo dedicas a prepararlas? (minutos)</th>\n",
       "      <th>Cuando produces imágenes, ¿piensas en la imagen que quieres crear antes de hacerla?</th>\n",
       "      <th>Dentro de tus redes sociales o aplicaciones móviles, ¿se comparte información visual que tú no buscas (campañas de concienciación social, chistes, publicidad, etc.)?</th>\n",
       "      <th>En tu entorno, ¿las personas que utilizan la tecnología crean imágenes y las comparten?</th>\n",
       "      <th>...</th>\n",
       "      <th>¿Qué tipo de aplicaciones utilizas en tu ordenador/tableta/móvil? (Respuesta múltiple) [1. Apps de contenidos audiovisuales (Netflix, HBO, etc.)]</th>\n",
       "      <th>¿Qué tipo de aplicaciones utilizas en tu ordenador/tableta/móvil? (Respuesta múltiple) [2. Aplicaciones de mensajería (Whatsapp, Facebook Messenger, etc.)]</th>\n",
       "      <th>¿Qué tipo de aplicaciones utilizas en tu ordenador/tableta/móvil? (Respuesta múltiple) [3. Bibliotecas de fotos online (Google Photos, iPhoto, etc.)]</th>\n",
       "      <th>¿Qué tipo de aplicaciones utilizas en tu ordenador/tableta/móvil? (Respuesta múltiple) [4. Redes sociales (Facebook, Instagram, Twitter, etc.).]</th>\n",
       "      <th>¿Qué tipo de aplicaciones utilizas en tu ordenador/tableta/móvil? (Respuesta múltiple) [5. Aplicaciones de vídeo (Youtube, Vimeo, etc.).]</th>\n",
       "      <th>¿Te gusta seguir a personas que admiras en redes sociales? ¿Eres fan o follower de alguna? ¿En ocasiones escribes comentarios en sus publicaciones?</th>\n",
       "      <th>¿Tienes acceso a dispositivos (ordenador, móvil, tablet, etc.) conectados a Internet habitualmente?</th>\n",
       "      <th>¿Tienes alguna carencia visual que afecte a la recepción de formas, colores, distancias, etc.?</th>\n",
       "      <th>¿Utilizas gafas o lentes de contacto?</th>\n",
       "      <th>prosume_cluster</th>\n",
       "    </tr>\n",
       "  </thead>\n",
       "  <tbody>\n",
       "    <tr>\n",
       "      <th>0</th>\n",
       "      <td>3</td>\n",
       "      <td>4</td>\n",
       "      <td>3</td>\n",
       "      <td>0</td>\n",
       "      <td>1</td>\n",
       "      <td>0</td>\n",
       "      <td>1.0</td>\n",
       "      <td>3</td>\n",
       "      <td>4</td>\n",
       "      <td>4</td>\n",
       "      <td>...</td>\n",
       "      <td>1</td>\n",
       "      <td>1</td>\n",
       "      <td>1</td>\n",
       "      <td>1</td>\n",
       "      <td>1</td>\n",
       "      <td>3</td>\n",
       "      <td>5</td>\n",
       "      <td>0</td>\n",
       "      <td>1</td>\n",
       "      <td>5</td>\n",
       "    </tr>\n",
       "    <tr>\n",
       "      <th>1</th>\n",
       "      <td>5</td>\n",
       "      <td>4</td>\n",
       "      <td>5</td>\n",
       "      <td>0</td>\n",
       "      <td>1</td>\n",
       "      <td>0</td>\n",
       "      <td>1.0</td>\n",
       "      <td>5</td>\n",
       "      <td>5</td>\n",
       "      <td>5</td>\n",
       "      <td>...</td>\n",
       "      <td>1</td>\n",
       "      <td>1</td>\n",
       "      <td>0</td>\n",
       "      <td>0</td>\n",
       "      <td>1</td>\n",
       "      <td>1</td>\n",
       "      <td>5</td>\n",
       "      <td>0</td>\n",
       "      <td>1</td>\n",
       "      <td>5</td>\n",
       "    </tr>\n",
       "    <tr>\n",
       "      <th>2</th>\n",
       "      <td>3</td>\n",
       "      <td>4</td>\n",
       "      <td>4</td>\n",
       "      <td>0</td>\n",
       "      <td>1</td>\n",
       "      <td>0</td>\n",
       "      <td>1.0</td>\n",
       "      <td>5</td>\n",
       "      <td>4</td>\n",
       "      <td>4</td>\n",
       "      <td>...</td>\n",
       "      <td>1</td>\n",
       "      <td>1</td>\n",
       "      <td>1</td>\n",
       "      <td>1</td>\n",
       "      <td>1</td>\n",
       "      <td>3</td>\n",
       "      <td>5</td>\n",
       "      <td>0</td>\n",
       "      <td>1</td>\n",
       "      <td>5</td>\n",
       "    </tr>\n",
       "    <tr>\n",
       "      <th>3</th>\n",
       "      <td>4</td>\n",
       "      <td>4</td>\n",
       "      <td>2</td>\n",
       "      <td>1</td>\n",
       "      <td>1</td>\n",
       "      <td>0</td>\n",
       "      <td>10.0</td>\n",
       "      <td>5</td>\n",
       "      <td>1</td>\n",
       "      <td>4</td>\n",
       "      <td>...</td>\n",
       "      <td>0</td>\n",
       "      <td>1</td>\n",
       "      <td>1</td>\n",
       "      <td>1</td>\n",
       "      <td>1</td>\n",
       "      <td>3</td>\n",
       "      <td>5</td>\n",
       "      <td>0</td>\n",
       "      <td>1</td>\n",
       "      <td>5</td>\n",
       "    </tr>\n",
       "    <tr>\n",
       "      <th>4</th>\n",
       "      <td>4</td>\n",
       "      <td>3</td>\n",
       "      <td>4</td>\n",
       "      <td>1</td>\n",
       "      <td>1</td>\n",
       "      <td>0</td>\n",
       "      <td>10.0</td>\n",
       "      <td>3</td>\n",
       "      <td>3</td>\n",
       "      <td>5</td>\n",
       "      <td>...</td>\n",
       "      <td>0</td>\n",
       "      <td>1</td>\n",
       "      <td>0</td>\n",
       "      <td>1</td>\n",
       "      <td>1</td>\n",
       "      <td>2</td>\n",
       "      <td>5</td>\n",
       "      <td>0</td>\n",
       "      <td>1</td>\n",
       "      <td>2</td>\n",
       "    </tr>\n",
       "  </tbody>\n",
       "</table>\n",
       "<p>5 rows × 79 columns</p>\n",
       "</div>"
      ],
      "text/plain": [
       "   Cuando compartes imágenes, ¿habitualmente las envías a otras personas?  \\\n",
       "0                                                  3                        \n",
       "1                                                  5                        \n",
       "2                                                  3                        \n",
       "3                                                  4                        \n",
       "4                                                  4                        \n",
       "\n",
       "   Cuando compartes imágenes, ¿habitualmente las produces tú?  \\\n",
       "0                                                  4            \n",
       "1                                                  4            \n",
       "2                                                  4            \n",
       "3                                                  4            \n",
       "4                                                  3            \n",
       "\n",
       "   Cuando compartes imágenes, ¿habitualmente las recibes de otras personas?  \\\n",
       "0                                                  3                          \n",
       "1                                                  5                          \n",
       "2                                                  4                          \n",
       "3                                                  2                          \n",
       "4                                                  4                          \n",
       "\n",
       "   Cuando generas una imagen, ¿qué tipo de dispositivo usas? (Respuesta múltiple) [1. Cámara de fotos]  \\\n",
       "0                                                  0                                                     \n",
       "1                                                  0                                                     \n",
       "2                                                  0                                                     \n",
       "3                                                  1                                                     \n",
       "4                                                  1                                                     \n",
       "\n",
       "   Cuando generas una imagen, ¿qué tipo de dispositivo usas? (Respuesta múltiple) [2. Teléfono móvil]  \\\n",
       "0                                                  1                                                    \n",
       "1                                                  1                                                    \n",
       "2                                                  1                                                    \n",
       "3                                                  1                                                    \n",
       "4                                                  1                                                    \n",
       "\n",
       "   Cuando generas una imagen, ¿qué tipo de dispositivo usas? (Respuesta múltiple) [3. Tableta]  \\\n",
       "0                                                  0                                             \n",
       "1                                                  0                                             \n",
       "2                                                  0                                             \n",
       "3                                                  0                                             \n",
       "4                                                  0                                             \n",
       "\n",
       "   Cuando produces imágenes, ¿cuánto tiempo dedicas a prepararlas? (minutos)  \\\n",
       "0                                                1.0                           \n",
       "1                                                1.0                           \n",
       "2                                                1.0                           \n",
       "3                                               10.0                           \n",
       "4                                               10.0                           \n",
       "\n",
       "   Cuando produces imágenes, ¿piensas en la imagen que quieres crear antes de hacerla?  \\\n",
       "0                                                  3                                     \n",
       "1                                                  5                                     \n",
       "2                                                  5                                     \n",
       "3                                                  5                                     \n",
       "4                                                  3                                     \n",
       "\n",
       "   Dentro de tus redes sociales o aplicaciones móviles, ¿se comparte información visual que tú no buscas (campañas de concienciación social, chistes, publicidad, etc.)?  \\\n",
       "0                                                  4                                                                                                                       \n",
       "1                                                  5                                                                                                                       \n",
       "2                                                  4                                                                                                                       \n",
       "3                                                  1                                                                                                                       \n",
       "4                                                  3                                                                                                                       \n",
       "\n",
       "   En tu entorno, ¿las personas que utilizan la tecnología crean imágenes y las comparten?  \\\n",
       "0                                                  4                                         \n",
       "1                                                  5                                         \n",
       "2                                                  4                                         \n",
       "3                                                  4                                         \n",
       "4                                                  5                                         \n",
       "\n",
       "        ...         \\\n",
       "0       ...          \n",
       "1       ...          \n",
       "2       ...          \n",
       "3       ...          \n",
       "4       ...          \n",
       "\n",
       "   ¿Qué tipo de aplicaciones utilizas en tu ordenador/tableta/móvil? (Respuesta múltiple) [1. Apps de contenidos audiovisuales (Netflix, HBO, etc.)]  \\\n",
       "0                                                  1                                                                                                   \n",
       "1                                                  1                                                                                                   \n",
       "2                                                  1                                                                                                   \n",
       "3                                                  0                                                                                                   \n",
       "4                                                  0                                                                                                   \n",
       "\n",
       "   ¿Qué tipo de aplicaciones utilizas en tu ordenador/tableta/móvil? (Respuesta múltiple) [2. Aplicaciones de mensajería (Whatsapp, Facebook Messenger, etc.)]  \\\n",
       "0                                                  1                                                                                                             \n",
       "1                                                  1                                                                                                             \n",
       "2                                                  1                                                                                                             \n",
       "3                                                  1                                                                                                             \n",
       "4                                                  1                                                                                                             \n",
       "\n",
       "   ¿Qué tipo de aplicaciones utilizas en tu ordenador/tableta/móvil? (Respuesta múltiple) [3. Bibliotecas de fotos online (Google Photos, iPhoto, etc.)]  \\\n",
       "0                                                  1                                                                                                       \n",
       "1                                                  0                                                                                                       \n",
       "2                                                  1                                                                                                       \n",
       "3                                                  1                                                                                                       \n",
       "4                                                  0                                                                                                       \n",
       "\n",
       "   ¿Qué tipo de aplicaciones utilizas en tu ordenador/tableta/móvil? (Respuesta múltiple) [4. Redes sociales (Facebook, Instagram, Twitter, etc.).]  \\\n",
       "0                                                  1                                                                                                  \n",
       "1                                                  0                                                                                                  \n",
       "2                                                  1                                                                                                  \n",
       "3                                                  1                                                                                                  \n",
       "4                                                  1                                                                                                  \n",
       "\n",
       "   ¿Qué tipo de aplicaciones utilizas en tu ordenador/tableta/móvil? (Respuesta múltiple) [5. Aplicaciones de vídeo (Youtube, Vimeo, etc.).]  \\\n",
       "0                                                  1                                                                                           \n",
       "1                                                  1                                                                                           \n",
       "2                                                  1                                                                                           \n",
       "3                                                  1                                                                                           \n",
       "4                                                  1                                                                                           \n",
       "\n",
       "   ¿Te gusta seguir a personas que admiras en redes sociales? ¿Eres fan o follower de alguna? ¿En ocasiones escribes comentarios en sus publicaciones?  \\\n",
       "0                                                  3                                                                                                     \n",
       "1                                                  1                                                                                                     \n",
       "2                                                  3                                                                                                     \n",
       "3                                                  3                                                                                                     \n",
       "4                                                  2                                                                                                     \n",
       "\n",
       "   ¿Tienes acceso a dispositivos (ordenador, móvil, tablet, etc.) conectados a Internet habitualmente?  \\\n",
       "0                                                  5                                                     \n",
       "1                                                  5                                                     \n",
       "2                                                  5                                                     \n",
       "3                                                  5                                                     \n",
       "4                                                  5                                                     \n",
       "\n",
       "   ¿Tienes alguna carencia visual que afecte a la recepción de formas, colores, distancias, etc.?  \\\n",
       "0                                                  0                                                \n",
       "1                                                  0                                                \n",
       "2                                                  0                                                \n",
       "3                                                  0                                                \n",
       "4                                                  0                                                \n",
       "\n",
       "   ¿Utilizas gafas o lentes de contacto?  prosume_cluster  \n",
       "0                                      1                5  \n",
       "1                                      1                5  \n",
       "2                                      1                5  \n",
       "3                                      1                5  \n",
       "4                                      1                2  \n",
       "\n",
       "[5 rows x 79 columns]"
      ]
     },
     "execution_count": 3,
     "metadata": {},
     "output_type": "execute_result"
    }
   ],
   "source": [
    "dataframe_with_clusters_esp = get_dataframe_with_clusters_esp(get_dataframe_analysis_esp(True), 32)\n",
    "dataframe_with_clusters_esp.head()"
   ]
  },
  {
   "cell_type": "code",
   "execution_count": 4,
   "metadata": {},
   "outputs": [
    {
     "name": "stderr",
     "output_type": "stream",
     "text": [
      "prosume_clustering.ipynb:17: DataConversionWarning:\n",
      "\n",
      "Data with input dtype int64 were all converted to float64 by the scale function.\n",
      "\n"
     ]
    },
    {
     "data": {
      "text/html": [
       "<div>\n",
       "<style scoped>\n",
       "    .dataframe tbody tr th:only-of-type {\n",
       "        vertical-align: middle;\n",
       "    }\n",
       "\n",
       "    .dataframe tbody tr th {\n",
       "        vertical-align: top;\n",
       "    }\n",
       "\n",
       "    .dataframe thead th {\n",
       "        text-align: right;\n",
       "    }\n",
       "</style>\n",
       "<table border=\"1\" class=\"dataframe\">\n",
       "  <thead>\n",
       "    <tr style=\"text-align: right;\">\n",
       "      <th></th>\n",
       "      <th>Do you repeat the images until you get the expected result?</th>\n",
       "      <th>How much of your consumption of digital images comes from digital media (digital press, internet, television,etc.) and how much by analogical means?</th>\n",
       "      <th>How often do you produce images?</th>\n",
       "      <th>If you answered that you NEVER produce or consume images, why do not you use them? (Multiple answer) [1. I do not like]</th>\n",
       "      <th>If you answered that you NEVER produce or consume images, why do not you use them? (Multiple answer) [2. I do not know how they are made]</th>\n",
       "      <th>If you answered that you NEVER produce or consume images, why do not you use them? (Multiple answer) [3. I do not use technology]</th>\n",
       "      <th>If you answered that you NEVER produce or consume images, why do not you use them? (Multiple answer) [4. When I share them, I do not know what they mean]</th>\n",
       "      <th>If you answered that you NEVER produce or consume images, why do not you use them? (Multiple answer) [5. Because they take up a lot of space]</th>\n",
       "      <th>If you answered that you NEVER produce or consume images, why do not you use them? (Multiple answer) [6. I find it useless]</th>\n",
       "      <th>If you find that suggested information, what is your attitude?</th>\n",
       "      <th>...</th>\n",
       "      <th>When you receive/ consume images... (select the option / options with which you identify yourself) [2. I wonder if they mean something to me]</th>\n",
       "      <th>When you receive/ consume images... (select the option / options with which you identify yourself) [3. I observe the moment and context in which they appear]</th>\n",
       "      <th>When you share images on social networks, do the text companions follow the indications suggested by the applications (labeling, explanation of the image, inspiring text, etc.)?</th>\n",
       "      <th>When you take photos from any of the media at your fingertips, do the process facilitate the options offered by the applications (filter application, cuts, graphic editing, etc.)?</th>\n",
       "      <th>When you use social networks, do you consider that being accepted as a member of a group is more important than having autonomy and independence?</th>\n",
       "      <th>Which of the paired images do you find most attractive? 1/2 2/2.1</th>\n",
       "      <th>Which of the paired images do you find most attractive? 1/2 2/2.2</th>\n",
       "      <th>Which of the paired images do you find most attractive? 1/2 2/2.3</th>\n",
       "      <th>Which of the paired images do you find most attractive? 1/2 2/2.4</th>\n",
       "      <th>prosume_cluster</th>\n",
       "    </tr>\n",
       "  </thead>\n",
       "  <tbody>\n",
       "    <tr>\n",
       "      <th>0</th>\n",
       "      <td>1</td>\n",
       "      <td>3</td>\n",
       "      <td>5</td>\n",
       "      <td>0</td>\n",
       "      <td>0</td>\n",
       "      <td>0</td>\n",
       "      <td>0</td>\n",
       "      <td>0</td>\n",
       "      <td>0</td>\n",
       "      <td>1</td>\n",
       "      <td>...</td>\n",
       "      <td>1</td>\n",
       "      <td>0</td>\n",
       "      <td>1</td>\n",
       "      <td>3</td>\n",
       "      <td>1</td>\n",
       "      <td>1</td>\n",
       "      <td>2</td>\n",
       "      <td>2</td>\n",
       "      <td>2</td>\n",
       "      <td>5</td>\n",
       "    </tr>\n",
       "    <tr>\n",
       "      <th>1</th>\n",
       "      <td>0</td>\n",
       "      <td>3</td>\n",
       "      <td>5</td>\n",
       "      <td>0</td>\n",
       "      <td>0</td>\n",
       "      <td>0</td>\n",
       "      <td>0</td>\n",
       "      <td>0</td>\n",
       "      <td>0</td>\n",
       "      <td>1</td>\n",
       "      <td>...</td>\n",
       "      <td>1</td>\n",
       "      <td>0</td>\n",
       "      <td>3</td>\n",
       "      <td>3</td>\n",
       "      <td>2</td>\n",
       "      <td>2</td>\n",
       "      <td>2</td>\n",
       "      <td>2</td>\n",
       "      <td>2</td>\n",
       "      <td>5</td>\n",
       "    </tr>\n",
       "    <tr>\n",
       "      <th>2</th>\n",
       "      <td>1</td>\n",
       "      <td>1</td>\n",
       "      <td>4</td>\n",
       "      <td>0</td>\n",
       "      <td>0</td>\n",
       "      <td>0</td>\n",
       "      <td>0</td>\n",
       "      <td>0</td>\n",
       "      <td>0</td>\n",
       "      <td>1</td>\n",
       "      <td>...</td>\n",
       "      <td>1</td>\n",
       "      <td>1</td>\n",
       "      <td>3</td>\n",
       "      <td>5</td>\n",
       "      <td>2</td>\n",
       "      <td>1</td>\n",
       "      <td>1</td>\n",
       "      <td>2</td>\n",
       "      <td>2</td>\n",
       "      <td>5</td>\n",
       "    </tr>\n",
       "    <tr>\n",
       "      <th>3</th>\n",
       "      <td>1</td>\n",
       "      <td>2</td>\n",
       "      <td>4</td>\n",
       "      <td>0</td>\n",
       "      <td>0</td>\n",
       "      <td>0</td>\n",
       "      <td>0</td>\n",
       "      <td>0</td>\n",
       "      <td>0</td>\n",
       "      <td>1</td>\n",
       "      <td>...</td>\n",
       "      <td>0</td>\n",
       "      <td>1</td>\n",
       "      <td>5</td>\n",
       "      <td>5</td>\n",
       "      <td>2</td>\n",
       "      <td>1</td>\n",
       "      <td>2</td>\n",
       "      <td>2</td>\n",
       "      <td>1</td>\n",
       "      <td>5</td>\n",
       "    </tr>\n",
       "    <tr>\n",
       "      <th>4</th>\n",
       "      <td>1</td>\n",
       "      <td>2</td>\n",
       "      <td>5</td>\n",
       "      <td>0</td>\n",
       "      <td>0</td>\n",
       "      <td>0</td>\n",
       "      <td>0</td>\n",
       "      <td>0</td>\n",
       "      <td>0</td>\n",
       "      <td>1</td>\n",
       "      <td>...</td>\n",
       "      <td>0</td>\n",
       "      <td>1</td>\n",
       "      <td>4</td>\n",
       "      <td>3</td>\n",
       "      <td>2</td>\n",
       "      <td>1</td>\n",
       "      <td>2</td>\n",
       "      <td>2</td>\n",
       "      <td>2</td>\n",
       "      <td>2</td>\n",
       "    </tr>\n",
       "  </tbody>\n",
       "</table>\n",
       "<p>5 rows × 79 columns</p>\n",
       "</div>"
      ],
      "text/plain": [
       "   Do you repeat the images until you get the expected result?  \\\n",
       "0                                                  1             \n",
       "1                                                  0             \n",
       "2                                                  1             \n",
       "3                                                  1             \n",
       "4                                                  1             \n",
       "\n",
       "   How much of your consumption of digital images comes from digital media (digital press, internet, television,etc.) and how much by analogical means?  \\\n",
       "0                                                  3                                                                                                      \n",
       "1                                                  3                                                                                                      \n",
       "2                                                  1                                                                                                      \n",
       "3                                                  2                                                                                                      \n",
       "4                                                  2                                                                                                      \n",
       "\n",
       "   How often do you produce images?  \\\n",
       "0                                 5   \n",
       "1                                 5   \n",
       "2                                 4   \n",
       "3                                 4   \n",
       "4                                 5   \n",
       "\n",
       "   If you answered that you NEVER produce or consume images, why do not you use them? (Multiple answer) [1. I do not like]  \\\n",
       "0                                                  0                                                                         \n",
       "1                                                  0                                                                         \n",
       "2                                                  0                                                                         \n",
       "3                                                  0                                                                         \n",
       "4                                                  0                                                                         \n",
       "\n",
       "   If you answered that you NEVER produce or consume images, why do not you use them? (Multiple answer) [2. I do not know how they are made]  \\\n",
       "0                                                  0                                                                                           \n",
       "1                                                  0                                                                                           \n",
       "2                                                  0                                                                                           \n",
       "3                                                  0                                                                                           \n",
       "4                                                  0                                                                                           \n",
       "\n",
       "   If you answered that you NEVER produce or consume images, why do not you use them? (Multiple answer) [3. I do not use technology]  \\\n",
       "0                                                  0                                                                                   \n",
       "1                                                  0                                                                                   \n",
       "2                                                  0                                                                                   \n",
       "3                                                  0                                                                                   \n",
       "4                                                  0                                                                                   \n",
       "\n",
       "   If you answered that you NEVER produce or consume images, why do not you use them? (Multiple answer) [4. When I share them, I do not know what they mean]  \\\n",
       "0                                                  0                                                                                                           \n",
       "1                                                  0                                                                                                           \n",
       "2                                                  0                                                                                                           \n",
       "3                                                  0                                                                                                           \n",
       "4                                                  0                                                                                                           \n",
       "\n",
       "   If you answered that you NEVER produce or consume images, why do not you use them? (Multiple answer) [5. Because they take up a lot of space]  \\\n",
       "0                                                  0                                                                                               \n",
       "1                                                  0                                                                                               \n",
       "2                                                  0                                                                                               \n",
       "3                                                  0                                                                                               \n",
       "4                                                  0                                                                                               \n",
       "\n",
       "   If you answered that you NEVER produce or consume images, why do not you use them? (Multiple answer) [6. I find it useless]  \\\n",
       "0                                                  0                                                                             \n",
       "1                                                  0                                                                             \n",
       "2                                                  0                                                                             \n",
       "3                                                  0                                                                             \n",
       "4                                                  0                                                                             \n",
       "\n",
       "   If you find that suggested information, what is your attitude?  \\\n",
       "0                                                  1                \n",
       "1                                                  1                \n",
       "2                                                  1                \n",
       "3                                                  1                \n",
       "4                                                  1                \n",
       "\n",
       "        ...         \\\n",
       "0       ...          \n",
       "1       ...          \n",
       "2       ...          \n",
       "3       ...          \n",
       "4       ...          \n",
       "\n",
       "   When you receive/ consume images... (select the option / options with which you identify yourself) [2. I wonder if they mean something to me]  \\\n",
       "0                                                  1                                                                                               \n",
       "1                                                  1                                                                                               \n",
       "2                                                  1                                                                                               \n",
       "3                                                  0                                                                                               \n",
       "4                                                  0                                                                                               \n",
       "\n",
       "   When you receive/ consume images... (select the option / options with which you identify yourself) [3. I observe the moment and context in which they appear]  \\\n",
       "0                                                  0                                                                                                               \n",
       "1                                                  0                                                                                                               \n",
       "2                                                  1                                                                                                               \n",
       "3                                                  1                                                                                                               \n",
       "4                                                  1                                                                                                               \n",
       "\n",
       "   When you share images on social networks, do the text companions follow the indications suggested by the applications (labeling, explanation of the image, inspiring text, etc.)?  \\\n",
       "0                                                  1                                                                                                                                   \n",
       "1                                                  3                                                                                                                                   \n",
       "2                                                  3                                                                                                                                   \n",
       "3                                                  5                                                                                                                                   \n",
       "4                                                  4                                                                                                                                   \n",
       "\n",
       "   When you take photos from any of the media at your fingertips, do the process facilitate the options offered by the applications (filter application, cuts, graphic editing, etc.)?  \\\n",
       "0                                                  3                                                                                                                                     \n",
       "1                                                  3                                                                                                                                     \n",
       "2                                                  5                                                                                                                                     \n",
       "3                                                  5                                                                                                                                     \n",
       "4                                                  3                                                                                                                                     \n",
       "\n",
       "   When you use social networks, do you consider that being accepted as a member of a group is more important than having autonomy and independence?  \\\n",
       "0                                                  1                                                                                                   \n",
       "1                                                  2                                                                                                   \n",
       "2                                                  2                                                                                                   \n",
       "3                                                  2                                                                                                   \n",
       "4                                                  2                                                                                                   \n",
       "\n",
       "   Which of the paired images do you find most attractive? 1/2 2/2.1  \\\n",
       "0                                                  1                   \n",
       "1                                                  2                   \n",
       "2                                                  1                   \n",
       "3                                                  1                   \n",
       "4                                                  1                   \n",
       "\n",
       "   Which of the paired images do you find most attractive? 1/2 2/2.2  \\\n",
       "0                                                  2                   \n",
       "1                                                  2                   \n",
       "2                                                  1                   \n",
       "3                                                  2                   \n",
       "4                                                  2                   \n",
       "\n",
       "   Which of the paired images do you find most attractive? 1/2 2/2.3  \\\n",
       "0                                                  2                   \n",
       "1                                                  2                   \n",
       "2                                                  2                   \n",
       "3                                                  2                   \n",
       "4                                                  2                   \n",
       "\n",
       "   Which of the paired images do you find most attractive? 1/2 2/2.4  \\\n",
       "0                                                  2                   \n",
       "1                                                  2                   \n",
       "2                                                  2                   \n",
       "3                                                  1                   \n",
       "4                                                  2                   \n",
       "\n",
       "   prosume_cluster  \n",
       "0                5  \n",
       "1                5  \n",
       "2                5  \n",
       "3                5  \n",
       "4                2  \n",
       "\n",
       "[5 rows x 79 columns]"
      ]
     },
     "execution_count": 4,
     "metadata": {},
     "output_type": "execute_result"
    }
   ],
   "source": [
    "dataframe_with_clusters_en = get_dataframe_with_clusters_en(get_dataframe_analysis_en(True), 32)\n",
    "dataframe_with_clusters_en.head()"
   ]
  },
  {
   "cell_type": "code",
   "execution_count": 5,
   "metadata": {},
   "outputs": [],
   "source": [
    "def visualize_interpretation_images_by_prosume_clusters_esp(dataframe):\n",
    "\n",
    "    for selected_cluster in dataframe['prosume_cluster'].unique():\n",
    "        for column in get_interpretation_image_items_esp():\n",
    "            try:\n",
    "                print(\"\\n\\nCluster \"+str(selected_cluster) +\n",
    "                      \" || variable: \"+str(column))\n",
    "                print(f'Describiendo la pregunta {column}')\n",
    "                dict_item = get_data_replacements(str(column))\n",
    "                if dict_item:\n",
    "                    print(\n",
    "                        f'Valores numéricos asociados a las respuestas {list(dict_item.keys())}')\n",
    "                    print(\n",
    "                        f'Respuestas posibles a la pregunta/variable {list(dict_item.values())}')\n",
    "                display(dataframe.loc[dataframe['prosume_cluster']\n",
    "                                      == selected_cluster][column].describe())\n",
    "                print(\n",
    "                    f'Conteo de cada valor en {column} expresada como valor / cantidad')\n",
    "                display(dataframe.loc[dataframe['prosume_cluster'] ==\n",
    "                                      selected_cluster][column].value_counts().sort_index())\n",
    "                print(\n",
    "                    f'Porcentaje de cada valor en {column} expresado como valor / porcentaje')\n",
    "                display(dataframe.loc[dataframe['prosume_cluster'] == selected_cluster][column].value_counts(\n",
    "                    normalize=True).sort_index().round(4) * 100)\n",
    "                # sns.distplot(workCleanDummiesCluster.loc[workCleanDummiesCluster['cluster'] == selected_cluster][column], kde=False, rug=True);\n",
    "                data = [go.Bar(x=sorted(dataframe.loc[dataframe['prosume_cluster'] == selected_cluster][column].unique()),\n",
    "                               y=dataframe.loc[dataframe['prosume_cluster'] == selected_cluster][column].value_counts().reindex(\n",
    "                                   dataframe.loc[dataframe['prosume_cluster'] == selected_cluster][column].unique(), fill_value=0).sort_index(),\n",
    "                               marker=dict(color=cl.scales['6']['div']['Spectral']))]\n",
    "\n",
    "                if dict_item:\n",
    "                    layout = go.Layout(\n",
    "                        xaxis=go.layout.XAxis(\n",
    "                            ticktext=list(dict_item.values()),\n",
    "                            tickvals=list(dict_item.keys()),\n",
    "                        ),\n",
    "                        bargap=0.2,\n",
    "                    )\n",
    "                    fig = go.Figure(data, layout)\n",
    "                    iplot(fig)\n",
    "                else:\n",
    "                    iplot(data)\n",
    "                # plt.show()\n",
    "            except BaseException:\n",
    "                pass"
   ]
  },
  {
   "cell_type": "code",
   "execution_count": 6,
   "metadata": {},
   "outputs": [],
   "source": [
    "def visualize_interpretation_images_by_prosume_clusters_en(dataframe):\n",
    "    \n",
    "    for selected_cluster in dataframe['prosume_cluster'].unique():\n",
    "        for column in get_interpretation_image_items_en():\n",
    "            try:\n",
    "                print(\"\\n\\nCluster \"+str(selected_cluster) +\n",
    "                      \" || feature: \"+str(column))\n",
    "\n",
    "                print(f'Describing the feature {column}')\n",
    "                dict_item = get_data_replacements(str(column))\n",
    "                if dict_item:\n",
    "                    print(\n",
    "                        f'Numeric values associated to the responses {list(dict_item.keys())}')\n",
    "                    print(\n",
    "                        f'Possible responses to the question/variable {list(dict_item.values())}')\n",
    "                display(dataframe.loc[dataframe['prosume_cluster']\n",
    "                                      == selected_cluster][column].describe())\n",
    "                print(\n",
    "                    f'Count of each value in {column} expresed as value / amount')\n",
    "                display(dataframe.loc[dataframe['prosume_cluster'] ==\n",
    "                                      selected_cluster][column].value_counts().sort_index())\n",
    "                print(\n",
    "                    f'Percentage of each value in {column} expresed as value / percentage')\n",
    "                display(dataframe.loc[dataframe['prosume_cluster'] == selected_cluster][column].value_counts(\n",
    "                    normalize=True).sort_index().round(4) * 100)\n",
    "                # sns.distplot(workCleanDummiesCluster.loc[workCleanDummiesCluster['cluster'] == selected_cluster][column], kde=False, rug=True);\n",
    "                data = [go.Bar(x=sorted(dataframe.loc[dataframe['prosume_cluster'] == selected_cluster][column].unique()),\n",
    "                               y=dataframe.loc[dataframe['prosume_cluster'] == selected_cluster][column].value_counts().reindex(\n",
    "                                   dataframe.loc[dataframe['prosume_cluster'] == selected_cluster][column].unique(), fill_value=0).sort_index(),\n",
    "                               marker=dict(color=cl.scales['6']['div']['Spectral']))]\n",
    "\n",
    "                if dict_item:\n",
    "                    layout = go.Layout(\n",
    "                        xaxis=go.layout.XAxis(\n",
    "                            ticktext=list(dict_item.values()),\n",
    "                            tickvals=list(dict_item.keys()),\n",
    "                        ),\n",
    "                        bargap=0.2,\n",
    "                    )\n",
    "                    fig = go.Figure(data, layout)\n",
    "                    iplot(fig)\n",
    "                else:\n",
    "                    iplot(data)\n",
    "                # plt.show()\n",
    "            except BaseException:\n",
    "                pass"
   ]
  },
  {
   "cell_type": "code",
   "execution_count": 7,
   "metadata": {
    "scrolled": false
   },
   "outputs": [],
   "source": [
    "def compare_interpretation_images_by_prosume_clusters_esp(dataframe):\n",
    "    temp_dataframe = dataframe.copy()\n",
    "    temp_dataframe['prosume_cluster'] = 'cluster_' + temp_dataframe['prosume_cluster'].astype(str)\n",
    "    for column in get_interpretation_image_items_esp():\n",
    "        try:\n",
    "            newDataframe = pd.DataFrame(temp_dataframe.groupby('prosume_cluster')[column].value_counts(dropna=True, sort=True).reset_index(name='counts'))\n",
    "            if get_data_replacements(str(column)):\n",
    "                newDataframe[column] = newDataframe[column].apply(get_data_replacements(str(column)).get)\n",
    "            print(f'Comparando la pregunta {column}')\n",
    "            iplot(px.bar_polar(newDataframe, r='counts', theta=\"prosume_cluster\", color=column,\n",
    "            color_discrete_sequence= cl.scales['6']['div']['Spectral'], barmode=\"group\"))\n",
    "            # plt.show()\n",
    "        except KeyError:\n",
    "            pass"
   ]
  },
  {
   "cell_type": "code",
   "execution_count": 8,
   "metadata": {},
   "outputs": [],
   "source": [
    "def compare_interpretation_images_by_prosume_clusters_en(dataframe):\n",
    "    temp_dataframe = dataframe.copy()\n",
    "    temp_dataframe['prosume_cluster'] = 'cluster_' + temp_dataframe['prosume_cluster'].astype(str)\n",
    "    for column in get_interpretation_image_items_en():\n",
    "        try:\n",
    "            newDataframe = pd.DataFrame(temp_dataframe.groupby('prosume_cluster')[column].value_counts(dropna=True, sort=True).reset_index(name='counts'))\n",
    "            if get_data_replacements(str(column)):\n",
    "                newDataframe[column] = newDataframe[column].apply(get_data_replacements(str(column)).get)\n",
    "            print(f'Comparing the feature {column}')\n",
    "            iplot(px.bar_polar(newDataframe, r='counts', theta=\"prosume_cluster\", color=column,\n",
    "            color_discrete_sequence= cl.scales['6']['div']['Spectral'], barmode=\"group\"))\n",
    "            # plt.show()\n",
    "        except KeyError:\n",
    "            pass"
   ]
  },
  {
   "cell_type": "code",
   "execution_count": 9,
   "metadata": {
    "scrolled": false
   },
   "outputs": [
    {
     "name": "stdout",
     "output_type": "stream",
     "text": [
      "\n",
      "\n",
      "Cluster 5 || variable: Cuando te encuentras con una imagen, ¿intentas entender con qué intención está hecha?\n",
      "Describiendo la pregunta Cuando te encuentras con una imagen, ¿intentas entender con qué intención está hecha?\n",
      "Valores numéricos asociados a las respuestas [1, 2, 3, 4, 5]\n",
      "Respuestas posibles a la pregunta/variable ['1. Nunca', '2. Muy pocas veces', '3. En ocasiones', '4. Bastantes veces', '5. Casi siempre o siempre']\n"
     ]
    },
    {
     "data": {
      "text/plain": [
       "count    336.000000\n",
       "mean       3.437500\n",
       "std        0.928307\n",
       "min        1.000000\n",
       "25%        3.000000\n",
       "50%        3.000000\n",
       "75%        4.000000\n",
       "max        5.000000\n",
       "Name: Cuando te encuentras con una imagen, ¿intentas entender con qué intención está hecha?, dtype: float64"
      ]
     },
     "metadata": {},
     "output_type": "display_data"
    },
    {
     "name": "stdout",
     "output_type": "stream",
     "text": [
      "Conteo de cada valor en Cuando te encuentras con una imagen, ¿intentas entender con qué intención está hecha? expresada como valor / cantidad\n"
     ]
    },
    {
     "data": {
      "text/plain": [
       "1      5\n",
       "2     40\n",
       "3    142\n",
       "4    101\n",
       "5     48\n",
       "Name: Cuando te encuentras con una imagen, ¿intentas entender con qué intención está hecha?, dtype: int64"
      ]
     },
     "metadata": {},
     "output_type": "display_data"
    },
    {
     "name": "stdout",
     "output_type": "stream",
     "text": [
      "Porcentaje de cada valor en Cuando te encuentras con una imagen, ¿intentas entender con qué intención está hecha? expresado como valor / porcentaje\n"
     ]
    },
    {
     "data": {
      "text/plain": [
       "1     1.49\n",
       "2    11.90\n",
       "3    42.26\n",
       "4    30.06\n",
       "5    14.29\n",
       "Name: Cuando te encuentras con una imagen, ¿intentas entender con qué intención está hecha?, dtype: float64"
      ]
     },
     "metadata": {},
     "output_type": "display_data"
    },
    {
     "data": {
      "application/vnd.plotly.v1+json": {
       "config": {
        "linkText": "Export to plot.ly",
        "plotlyServerURL": "https://plot.ly",
        "showLink": false
       },
       "data": [
        {
         "marker": {
          "color": [
           "rgb(213,62,79)",
           "rgb(252,141,89)",
           "rgb(254,224,139)",
           "rgb(230,245,152)",
           "rgb(153,213,148)",
           "rgb(50,136,189)"
          ]
         },
         "type": "bar",
         "uid": "50529917-aa2d-456a-95a8-33824aae2586",
         "x": [
          1,
          2,
          3,
          4,
          5
         ],
         "y": [
          5,
          40,
          142,
          101,
          48
         ]
        }
       ],
       "layout": {
        "bargap": 0.2,
        "xaxis": {
         "ticktext": [
          "1. Nunca",
          "2. Muy pocas veces",
          "3. En ocasiones",
          "4. Bastantes veces",
          "5. Casi siempre o siempre"
         ],
         "tickvals": [
          1,
          2,
          3,
          4,
          5
         ]
        }
       }
      },
      "text/html": [
       "<div id=\"e0e07922-6fbd-4f19-a83e-41338df7be9d\" style=\"height: 525px; width: 100%;\" class=\"plotly-graph-div\"></div><script type=\"text/javascript\">require([\"plotly\"], function(Plotly) { window.PLOTLYENV=window.PLOTLYENV || {};window.PLOTLYENV.BASE_URL=\"https://plot.ly\";\n",
       "if (document.getElementById(\"e0e07922-6fbd-4f19-a83e-41338df7be9d\")) {\n",
       "    Plotly.newPlot(\"e0e07922-6fbd-4f19-a83e-41338df7be9d\", [{\"marker\": {\"color\": [\"rgb(213,62,79)\", \"rgb(252,141,89)\", \"rgb(254,224,139)\", \"rgb(230,245,152)\", \"rgb(153,213,148)\", \"rgb(50,136,189)\"]}, \"x\": [1, 2, 3, 4, 5], \"y\": [5, 40, 142, 101, 48], \"type\": \"bar\", \"uid\": \"50529917-aa2d-456a-95a8-33824aae2586\"}], {\"bargap\": 0.2, \"xaxis\": {\"ticktext\": [\"1. Nunca\", \"2. Muy pocas veces\", \"3. En ocasiones\", \"4. Bastantes veces\", \"5. Casi siempre o siempre\"], \"tickvals\": [1, 2, 3, 4, 5]}}, {\"showLink\": false, \"linkText\": \"Export to plot.ly\", \"plotlyServerURL\": \"https://plot.ly\"}); \n",
       "}\n",
       "});</script><script type=\"text/javascript\">window.addEventListener(\"resize\", function(){if (document.getElementById(\"e0e07922-6fbd-4f19-a83e-41338df7be9d\")) {window._Plotly.Plots.resize(document.getElementById(\"e0e07922-6fbd-4f19-a83e-41338df7be9d\"));};})</script>"
      ],
      "text/vnd.plotly.v1+html": [
       "<div id=\"e0e07922-6fbd-4f19-a83e-41338df7be9d\" style=\"height: 525px; width: 100%;\" class=\"plotly-graph-div\"></div><script type=\"text/javascript\">require([\"plotly\"], function(Plotly) { window.PLOTLYENV=window.PLOTLYENV || {};window.PLOTLYENV.BASE_URL=\"https://plot.ly\";\n",
       "if (document.getElementById(\"e0e07922-6fbd-4f19-a83e-41338df7be9d\")) {\n",
       "    Plotly.newPlot(\"e0e07922-6fbd-4f19-a83e-41338df7be9d\", [{\"marker\": {\"color\": [\"rgb(213,62,79)\", \"rgb(252,141,89)\", \"rgb(254,224,139)\", \"rgb(230,245,152)\", \"rgb(153,213,148)\", \"rgb(50,136,189)\"]}, \"x\": [1, 2, 3, 4, 5], \"y\": [5, 40, 142, 101, 48], \"type\": \"bar\", \"uid\": \"50529917-aa2d-456a-95a8-33824aae2586\"}], {\"bargap\": 0.2, \"xaxis\": {\"ticktext\": [\"1. Nunca\", \"2. Muy pocas veces\", \"3. En ocasiones\", \"4. Bastantes veces\", \"5. Casi siempre o siempre\"], \"tickvals\": [1, 2, 3, 4, 5]}}, {\"showLink\": false, \"linkText\": \"Export to plot.ly\", \"plotlyServerURL\": \"https://plot.ly\"}); \n",
       "}\n",
       "});</script><script type=\"text/javascript\">window.addEventListener(\"resize\", function(){if (document.getElementById(\"e0e07922-6fbd-4f19-a83e-41338df7be9d\")) {window._Plotly.Plots.resize(document.getElementById(\"e0e07922-6fbd-4f19-a83e-41338df7be9d\"));};})</script>"
      ]
     },
     "metadata": {},
     "output_type": "display_data"
    },
    {
     "name": "stdout",
     "output_type": "stream",
     "text": [
      "\n",
      "\n",
      "Cluster 5 || variable: Cuando recibes o consumes una imagen, ¿la comparas con tu propia realidad? ¿Intentas encontrar en tu entorno cierto parecido?\n",
      "Describiendo la pregunta Cuando recibes o consumes una imagen, ¿la comparas con tu propia realidad? ¿Intentas encontrar en tu entorno cierto parecido?\n",
      "Valores numéricos asociados a las respuestas [1, 2, 3, 4, 5]\n",
      "Respuestas posibles a la pregunta/variable ['1. Nunca', '2. Muy pocas veces', '3. En ocasiones', '4. Bastantes veces', '5. Casi siempre o siempre']\n"
     ]
    },
    {
     "data": {
      "text/plain": [
       "count    336.000000\n",
       "mean       3.294643\n",
       "std        0.939721\n",
       "min        1.000000\n",
       "25%        3.000000\n",
       "50%        3.000000\n",
       "75%        4.000000\n",
       "max        5.000000\n",
       "Name: Cuando recibes o consumes una imagen, ¿la comparas con tu propia realidad? ¿Intentas encontrar en tu entorno cierto parecido?, dtype: float64"
      ]
     },
     "metadata": {},
     "output_type": "display_data"
    },
    {
     "name": "stdout",
     "output_type": "stream",
     "text": [
      "Conteo de cada valor en Cuando recibes o consumes una imagen, ¿la comparas con tu propia realidad? ¿Intentas encontrar en tu entorno cierto parecido? expresada como valor / cantidad\n"
     ]
    },
    {
     "data": {
      "text/plain": [
       "1     10\n",
       "2     46\n",
       "3    152\n",
       "4     91\n",
       "5     37\n",
       "Name: Cuando recibes o consumes una imagen, ¿la comparas con tu propia realidad? ¿Intentas encontrar en tu entorno cierto parecido?, dtype: int64"
      ]
     },
     "metadata": {},
     "output_type": "display_data"
    },
    {
     "name": "stdout",
     "output_type": "stream",
     "text": [
      "Porcentaje de cada valor en Cuando recibes o consumes una imagen, ¿la comparas con tu propia realidad? ¿Intentas encontrar en tu entorno cierto parecido? expresado como valor / porcentaje\n"
     ]
    },
    {
     "data": {
      "text/plain": [
       "1     2.98\n",
       "2    13.69\n",
       "3    45.24\n",
       "4    27.08\n",
       "5    11.01\n",
       "Name: Cuando recibes o consumes una imagen, ¿la comparas con tu propia realidad? ¿Intentas encontrar en tu entorno cierto parecido?, dtype: float64"
      ]
     },
     "metadata": {},
     "output_type": "display_data"
    },
    {
     "data": {
      "application/vnd.plotly.v1+json": {
       "config": {
        "linkText": "Export to plot.ly",
        "plotlyServerURL": "https://plot.ly",
        "showLink": false
       },
       "data": [
        {
         "marker": {
          "color": [
           "rgb(213,62,79)",
           "rgb(252,141,89)",
           "rgb(254,224,139)",
           "rgb(230,245,152)",
           "rgb(153,213,148)",
           "rgb(50,136,189)"
          ]
         },
         "type": "bar",
         "uid": "9b2287aa-ef04-4167-9da2-0bb49d0151e7",
         "x": [
          1,
          2,
          3,
          4,
          5
         ],
         "y": [
          10,
          46,
          152,
          91,
          37
         ]
        }
       ],
       "layout": {
        "bargap": 0.2,
        "xaxis": {
         "ticktext": [
          "1. Nunca",
          "2. Muy pocas veces",
          "3. En ocasiones",
          "4. Bastantes veces",
          "5. Casi siempre o siempre"
         ],
         "tickvals": [
          1,
          2,
          3,
          4,
          5
         ]
        }
       }
      },
      "text/html": [
       "<div id=\"83be6f3f-978e-4064-b27c-9988e45bd9d2\" style=\"height: 525px; width: 100%;\" class=\"plotly-graph-div\"></div><script type=\"text/javascript\">require([\"plotly\"], function(Plotly) { window.PLOTLYENV=window.PLOTLYENV || {};window.PLOTLYENV.BASE_URL=\"https://plot.ly\";\n",
       "if (document.getElementById(\"83be6f3f-978e-4064-b27c-9988e45bd9d2\")) {\n",
       "    Plotly.newPlot(\"83be6f3f-978e-4064-b27c-9988e45bd9d2\", [{\"marker\": {\"color\": [\"rgb(213,62,79)\", \"rgb(252,141,89)\", \"rgb(254,224,139)\", \"rgb(230,245,152)\", \"rgb(153,213,148)\", \"rgb(50,136,189)\"]}, \"x\": [1, 2, 3, 4, 5], \"y\": [10, 46, 152, 91, 37], \"type\": \"bar\", \"uid\": \"9b2287aa-ef04-4167-9da2-0bb49d0151e7\"}], {\"bargap\": 0.2, \"xaxis\": {\"ticktext\": [\"1. Nunca\", \"2. Muy pocas veces\", \"3. En ocasiones\", \"4. Bastantes veces\", \"5. Casi siempre o siempre\"], \"tickvals\": [1, 2, 3, 4, 5]}}, {\"showLink\": false, \"linkText\": \"Export to plot.ly\", \"plotlyServerURL\": \"https://plot.ly\"}); \n",
       "}\n",
       "});</script><script type=\"text/javascript\">window.addEventListener(\"resize\", function(){if (document.getElementById(\"83be6f3f-978e-4064-b27c-9988e45bd9d2\")) {window._Plotly.Plots.resize(document.getElementById(\"83be6f3f-978e-4064-b27c-9988e45bd9d2\"));};})</script>"
      ],
      "text/vnd.plotly.v1+html": [
       "<div id=\"83be6f3f-978e-4064-b27c-9988e45bd9d2\" style=\"height: 525px; width: 100%;\" class=\"plotly-graph-div\"></div><script type=\"text/javascript\">require([\"plotly\"], function(Plotly) { window.PLOTLYENV=window.PLOTLYENV || {};window.PLOTLYENV.BASE_URL=\"https://plot.ly\";\n",
       "if (document.getElementById(\"83be6f3f-978e-4064-b27c-9988e45bd9d2\")) {\n",
       "    Plotly.newPlot(\"83be6f3f-978e-4064-b27c-9988e45bd9d2\", [{\"marker\": {\"color\": [\"rgb(213,62,79)\", \"rgb(252,141,89)\", \"rgb(254,224,139)\", \"rgb(230,245,152)\", \"rgb(153,213,148)\", \"rgb(50,136,189)\"]}, \"x\": [1, 2, 3, 4, 5], \"y\": [10, 46, 152, 91, 37], \"type\": \"bar\", \"uid\": \"9b2287aa-ef04-4167-9da2-0bb49d0151e7\"}], {\"bargap\": 0.2, \"xaxis\": {\"ticktext\": [\"1. Nunca\", \"2. Muy pocas veces\", \"3. En ocasiones\", \"4. Bastantes veces\", \"5. Casi siempre o siempre\"], \"tickvals\": [1, 2, 3, 4, 5]}}, {\"showLink\": false, \"linkText\": \"Export to plot.ly\", \"plotlyServerURL\": \"https://plot.ly\"}); \n",
       "}\n",
       "});</script><script type=\"text/javascript\">window.addEventListener(\"resize\", function(){if (document.getElementById(\"83be6f3f-978e-4064-b27c-9988e45bd9d2\")) {window._Plotly.Plots.resize(document.getElementById(\"83be6f3f-978e-4064-b27c-9988e45bd9d2\"));};})</script>"
      ]
     },
     "metadata": {},
     "output_type": "display_data"
    },
    {
     "name": "stdout",
     "output_type": "stream",
     "text": [
      "\n",
      "\n",
      "Cluster 5 || variable: Cuando recibes o consumes una imagen, ¿piensas en el modo en que fue obtenida (técnicamente)?\n",
      "Describiendo la pregunta Cuando recibes o consumes una imagen, ¿piensas en el modo en que fue obtenida (técnicamente)?\n",
      "Valores numéricos asociados a las respuestas [1, 2, 3, 4, 5]\n",
      "Respuestas posibles a la pregunta/variable ['1. Nunca', '2. Muy pocas veces', '3. En ocasiones', '4. Bastantes veces', '5. Casi siempre o siempre']\n"
     ]
    },
    {
     "data": {
      "text/plain": [
       "count    336.000000\n",
       "mean       2.940476\n",
       "std        0.999716\n",
       "min        1.000000\n",
       "25%        2.000000\n",
       "50%        3.000000\n",
       "75%        4.000000\n",
       "max        5.000000\n",
       "Name: Cuando recibes o consumes una imagen, ¿piensas en el modo en que fue obtenida (técnicamente)?, dtype: float64"
      ]
     },
     "metadata": {},
     "output_type": "display_data"
    },
    {
     "name": "stdout",
     "output_type": "stream",
     "text": [
      "Conteo de cada valor en Cuando recibes o consumes una imagen, ¿piensas en el modo en que fue obtenida (técnicamente)? expresada como valor / cantidad\n"
     ]
    },
    {
     "data": {
      "text/plain": [
       "1     21\n",
       "2     92\n",
       "3    132\n",
       "4     68\n",
       "5     23\n",
       "Name: Cuando recibes o consumes una imagen, ¿piensas en el modo en que fue obtenida (técnicamente)?, dtype: int64"
      ]
     },
     "metadata": {},
     "output_type": "display_data"
    },
    {
     "name": "stdout",
     "output_type": "stream",
     "text": [
      "Porcentaje de cada valor en Cuando recibes o consumes una imagen, ¿piensas en el modo en que fue obtenida (técnicamente)? expresado como valor / porcentaje\n"
     ]
    },
    {
     "data": {
      "text/plain": [
       "1     6.25\n",
       "2    27.38\n",
       "3    39.29\n",
       "4    20.24\n",
       "5     6.85\n",
       "Name: Cuando recibes o consumes una imagen, ¿piensas en el modo en que fue obtenida (técnicamente)?, dtype: float64"
      ]
     },
     "metadata": {},
     "output_type": "display_data"
    },
    {
     "data": {
      "application/vnd.plotly.v1+json": {
       "config": {
        "linkText": "Export to plot.ly",
        "plotlyServerURL": "https://plot.ly",
        "showLink": false
       },
       "data": [
        {
         "marker": {
          "color": [
           "rgb(213,62,79)",
           "rgb(252,141,89)",
           "rgb(254,224,139)",
           "rgb(230,245,152)",
           "rgb(153,213,148)",
           "rgb(50,136,189)"
          ]
         },
         "type": "bar",
         "uid": "fc50cd11-e9ef-439a-a793-8831b47c4489",
         "x": [
          1,
          2,
          3,
          4,
          5
         ],
         "y": [
          21,
          92,
          132,
          68,
          23
         ]
        }
       ],
       "layout": {
        "bargap": 0.2,
        "xaxis": {
         "ticktext": [
          "1. Nunca",
          "2. Muy pocas veces",
          "3. En ocasiones",
          "4. Bastantes veces",
          "5. Casi siempre o siempre"
         ],
         "tickvals": [
          1,
          2,
          3,
          4,
          5
         ]
        }
       }
      },
      "text/html": [
       "<div id=\"688b28af-04da-46fe-a0f2-a1eca6a0f7b5\" style=\"height: 525px; width: 100%;\" class=\"plotly-graph-div\"></div><script type=\"text/javascript\">require([\"plotly\"], function(Plotly) { window.PLOTLYENV=window.PLOTLYENV || {};window.PLOTLYENV.BASE_URL=\"https://plot.ly\";\n",
       "if (document.getElementById(\"688b28af-04da-46fe-a0f2-a1eca6a0f7b5\")) {\n",
       "    Plotly.newPlot(\"688b28af-04da-46fe-a0f2-a1eca6a0f7b5\", [{\"marker\": {\"color\": [\"rgb(213,62,79)\", \"rgb(252,141,89)\", \"rgb(254,224,139)\", \"rgb(230,245,152)\", \"rgb(153,213,148)\", \"rgb(50,136,189)\"]}, \"x\": [1, 2, 3, 4, 5], \"y\": [21, 92, 132, 68, 23], \"type\": \"bar\", \"uid\": \"fc50cd11-e9ef-439a-a793-8831b47c4489\"}], {\"bargap\": 0.2, \"xaxis\": {\"ticktext\": [\"1. Nunca\", \"2. Muy pocas veces\", \"3. En ocasiones\", \"4. Bastantes veces\", \"5. Casi siempre o siempre\"], \"tickvals\": [1, 2, 3, 4, 5]}}, {\"showLink\": false, \"linkText\": \"Export to plot.ly\", \"plotlyServerURL\": \"https://plot.ly\"}); \n",
       "}\n",
       "});</script><script type=\"text/javascript\">window.addEventListener(\"resize\", function(){if (document.getElementById(\"688b28af-04da-46fe-a0f2-a1eca6a0f7b5\")) {window._Plotly.Plots.resize(document.getElementById(\"688b28af-04da-46fe-a0f2-a1eca6a0f7b5\"));};})</script>"
      ],
      "text/vnd.plotly.v1+html": [
       "<div id=\"688b28af-04da-46fe-a0f2-a1eca6a0f7b5\" style=\"height: 525px; width: 100%;\" class=\"plotly-graph-div\"></div><script type=\"text/javascript\">require([\"plotly\"], function(Plotly) { window.PLOTLYENV=window.PLOTLYENV || {};window.PLOTLYENV.BASE_URL=\"https://plot.ly\";\n",
       "if (document.getElementById(\"688b28af-04da-46fe-a0f2-a1eca6a0f7b5\")) {\n",
       "    Plotly.newPlot(\"688b28af-04da-46fe-a0f2-a1eca6a0f7b5\", [{\"marker\": {\"color\": [\"rgb(213,62,79)\", \"rgb(252,141,89)\", \"rgb(254,224,139)\", \"rgb(230,245,152)\", \"rgb(153,213,148)\", \"rgb(50,136,189)\"]}, \"x\": [1, 2, 3, 4, 5], \"y\": [21, 92, 132, 68, 23], \"type\": \"bar\", \"uid\": \"fc50cd11-e9ef-439a-a793-8831b47c4489\"}], {\"bargap\": 0.2, \"xaxis\": {\"ticktext\": [\"1. Nunca\", \"2. Muy pocas veces\", \"3. En ocasiones\", \"4. Bastantes veces\", \"5. Casi siempre o siempre\"], \"tickvals\": [1, 2, 3, 4, 5]}}, {\"showLink\": false, \"linkText\": \"Export to plot.ly\", \"plotlyServerURL\": \"https://plot.ly\"}); \n",
       "}\n",
       "});</script><script type=\"text/javascript\">window.addEventListener(\"resize\", function(){if (document.getElementById(\"688b28af-04da-46fe-a0f2-a1eca6a0f7b5\")) {window._Plotly.Plots.resize(document.getElementById(\"688b28af-04da-46fe-a0f2-a1eca6a0f7b5\"));};})</script>"
      ]
     },
     "metadata": {},
     "output_type": "display_data"
    },
    {
     "name": "stdout",
     "output_type": "stream",
     "text": [
      "\n",
      "\n",
      "Cluster 5 || variable: Cuando observas una imagen, ¿te preguntas cosas acerca de los personajes/objetos que aparecen en la misma?\n",
      "Describiendo la pregunta Cuando observas una imagen, ¿te preguntas cosas acerca de los personajes/objetos que aparecen en la misma?\n",
      "Valores numéricos asociados a las respuestas [1, 2, 3, 4, 5]\n",
      "Respuestas posibles a la pregunta/variable ['1. Nunca', '2. Muy pocas veces', '3. En ocasiones', '4. Bastantes veces', '5. Casi siempre o siempre']\n"
     ]
    },
    {
     "data": {
      "text/plain": [
       "count    336.000000\n",
       "mean       3.601190\n",
       "std        0.875128\n",
       "min        1.000000\n",
       "25%        3.000000\n",
       "50%        4.000000\n",
       "75%        4.000000\n",
       "max        5.000000\n",
       "Name: Cuando observas una imagen, ¿te preguntas cosas acerca de los personajes/objetos que aparecen en la misma?, dtype: float64"
      ]
     },
     "metadata": {},
     "output_type": "display_data"
    },
    {
     "name": "stdout",
     "output_type": "stream",
     "text": [
      "Conteo de cada valor en Cuando observas una imagen, ¿te preguntas cosas acerca de los personajes/objetos que aparecen en la misma? expresada como valor / cantidad\n"
     ]
    },
    {
     "data": {
      "text/plain": [
       "1      2\n",
       "2     30\n",
       "3    120\n",
       "4    132\n",
       "5     52\n",
       "Name: Cuando observas una imagen, ¿te preguntas cosas acerca de los personajes/objetos que aparecen en la misma?, dtype: int64"
      ]
     },
     "metadata": {},
     "output_type": "display_data"
    },
    {
     "name": "stdout",
     "output_type": "stream",
     "text": [
      "Porcentaje de cada valor en Cuando observas una imagen, ¿te preguntas cosas acerca de los personajes/objetos que aparecen en la misma? expresado como valor / porcentaje\n"
     ]
    },
    {
     "data": {
      "text/plain": [
       "1     0.60\n",
       "2     8.93\n",
       "3    35.71\n",
       "4    39.29\n",
       "5    15.48\n",
       "Name: Cuando observas una imagen, ¿te preguntas cosas acerca de los personajes/objetos que aparecen en la misma?, dtype: float64"
      ]
     },
     "metadata": {},
     "output_type": "display_data"
    },
    {
     "data": {
      "application/vnd.plotly.v1+json": {
       "config": {
        "linkText": "Export to plot.ly",
        "plotlyServerURL": "https://plot.ly",
        "showLink": false
       },
       "data": [
        {
         "marker": {
          "color": [
           "rgb(213,62,79)",
           "rgb(252,141,89)",
           "rgb(254,224,139)",
           "rgb(230,245,152)",
           "rgb(153,213,148)",
           "rgb(50,136,189)"
          ]
         },
         "type": "bar",
         "uid": "fefb6f10-daa6-4131-a52d-a487ffe85ad1",
         "x": [
          1,
          2,
          3,
          4,
          5
         ],
         "y": [
          2,
          30,
          120,
          132,
          52
         ]
        }
       ],
       "layout": {
        "bargap": 0.2,
        "xaxis": {
         "ticktext": [
          "1. Nunca",
          "2. Muy pocas veces",
          "3. En ocasiones",
          "4. Bastantes veces",
          "5. Casi siempre o siempre"
         ],
         "tickvals": [
          1,
          2,
          3,
          4,
          5
         ]
        }
       }
      },
      "text/html": [
       "<div id=\"4ba6b80a-3c6c-4d31-aff9-f48fa3b7a9a4\" style=\"height: 525px; width: 100%;\" class=\"plotly-graph-div\"></div><script type=\"text/javascript\">require([\"plotly\"], function(Plotly) { window.PLOTLYENV=window.PLOTLYENV || {};window.PLOTLYENV.BASE_URL=\"https://plot.ly\";\n",
       "if (document.getElementById(\"4ba6b80a-3c6c-4d31-aff9-f48fa3b7a9a4\")) {\n",
       "    Plotly.newPlot(\"4ba6b80a-3c6c-4d31-aff9-f48fa3b7a9a4\", [{\"marker\": {\"color\": [\"rgb(213,62,79)\", \"rgb(252,141,89)\", \"rgb(254,224,139)\", \"rgb(230,245,152)\", \"rgb(153,213,148)\", \"rgb(50,136,189)\"]}, \"x\": [1, 2, 3, 4, 5], \"y\": [2, 30, 120, 132, 52], \"type\": \"bar\", \"uid\": \"fefb6f10-daa6-4131-a52d-a487ffe85ad1\"}], {\"bargap\": 0.2, \"xaxis\": {\"ticktext\": [\"1. Nunca\", \"2. Muy pocas veces\", \"3. En ocasiones\", \"4. Bastantes veces\", \"5. Casi siempre o siempre\"], \"tickvals\": [1, 2, 3, 4, 5]}}, {\"showLink\": false, \"linkText\": \"Export to plot.ly\", \"plotlyServerURL\": \"https://plot.ly\"}); \n",
       "}\n",
       "});</script><script type=\"text/javascript\">window.addEventListener(\"resize\", function(){if (document.getElementById(\"4ba6b80a-3c6c-4d31-aff9-f48fa3b7a9a4\")) {window._Plotly.Plots.resize(document.getElementById(\"4ba6b80a-3c6c-4d31-aff9-f48fa3b7a9a4\"));};})</script>"
      ],
      "text/vnd.plotly.v1+html": [
       "<div id=\"4ba6b80a-3c6c-4d31-aff9-f48fa3b7a9a4\" style=\"height: 525px; width: 100%;\" class=\"plotly-graph-div\"></div><script type=\"text/javascript\">require([\"plotly\"], function(Plotly) { window.PLOTLYENV=window.PLOTLYENV || {};window.PLOTLYENV.BASE_URL=\"https://plot.ly\";\n",
       "if (document.getElementById(\"4ba6b80a-3c6c-4d31-aff9-f48fa3b7a9a4\")) {\n",
       "    Plotly.newPlot(\"4ba6b80a-3c6c-4d31-aff9-f48fa3b7a9a4\", [{\"marker\": {\"color\": [\"rgb(213,62,79)\", \"rgb(252,141,89)\", \"rgb(254,224,139)\", \"rgb(230,245,152)\", \"rgb(153,213,148)\", \"rgb(50,136,189)\"]}, \"x\": [1, 2, 3, 4, 5], \"y\": [2, 30, 120, 132, 52], \"type\": \"bar\", \"uid\": \"fefb6f10-daa6-4131-a52d-a487ffe85ad1\"}], {\"bargap\": 0.2, \"xaxis\": {\"ticktext\": [\"1. Nunca\", \"2. Muy pocas veces\", \"3. En ocasiones\", \"4. Bastantes veces\", \"5. Casi siempre o siempre\"], \"tickvals\": [1, 2, 3, 4, 5]}}, {\"showLink\": false, \"linkText\": \"Export to plot.ly\", \"plotlyServerURL\": \"https://plot.ly\"}); \n",
       "}\n",
       "});</script><script type=\"text/javascript\">window.addEventListener(\"resize\", function(){if (document.getElementById(\"4ba6b80a-3c6c-4d31-aff9-f48fa3b7a9a4\")) {window._Plotly.Plots.resize(document.getElementById(\"4ba6b80a-3c6c-4d31-aff9-f48fa3b7a9a4\"));};})</script>"
      ]
     },
     "metadata": {},
     "output_type": "display_data"
    },
    {
     "name": "stdout",
     "output_type": "stream",
     "text": [
      "\n",
      "\n",
      "Cluster 5 || variable: ¿Entiendes, generalmente, las intenciones que tiene el autor de una imagen cuando la ves y la compartes?\n",
      "Describiendo la pregunta ¿Entiendes, generalmente, las intenciones que tiene el autor de una imagen cuando la ves y la compartes?\n",
      "Valores numéricos asociados a las respuestas [1, 2, 3, 4, 5]\n",
      "Respuestas posibles a la pregunta/variable ['1. Never', '2. Very rarely', '3. Occasionally', '4. Several times', '5. Almost always or always']\n"
     ]
    },
    {
     "data": {
      "text/plain": [
       "count    336.000000\n",
       "mean       3.479167\n",
       "std        0.831927\n",
       "min        1.000000\n",
       "25%        3.000000\n",
       "50%        3.000000\n",
       "75%        4.000000\n",
       "max        5.000000\n",
       "Name: ¿Entiendes, generalmente, las intenciones que tiene el autor de una imagen cuando la ves y la compartes?, dtype: float64"
      ]
     },
     "metadata": {},
     "output_type": "display_data"
    },
    {
     "name": "stdout",
     "output_type": "stream",
     "text": [
      "Conteo de cada valor en ¿Entiendes, generalmente, las intenciones que tiene el autor de una imagen cuando la ves y la compartes? expresada como valor / cantidad\n"
     ]
    },
    {
     "data": {
      "text/plain": [
       "1      1\n",
       "2     34\n",
       "3    141\n",
       "4    123\n",
       "5     37\n",
       "Name: ¿Entiendes, generalmente, las intenciones que tiene el autor de una imagen cuando la ves y la compartes?, dtype: int64"
      ]
     },
     "metadata": {},
     "output_type": "display_data"
    },
    {
     "name": "stdout",
     "output_type": "stream",
     "text": [
      "Porcentaje de cada valor en ¿Entiendes, generalmente, las intenciones que tiene el autor de una imagen cuando la ves y la compartes? expresado como valor / porcentaje\n"
     ]
    },
    {
     "data": {
      "text/plain": [
       "1     0.30\n",
       "2    10.12\n",
       "3    41.96\n",
       "4    36.61\n",
       "5    11.01\n",
       "Name: ¿Entiendes, generalmente, las intenciones que tiene el autor de una imagen cuando la ves y la compartes?, dtype: float64"
      ]
     },
     "metadata": {},
     "output_type": "display_data"
    },
    {
     "data": {
      "application/vnd.plotly.v1+json": {
       "config": {
        "linkText": "Export to plot.ly",
        "plotlyServerURL": "https://plot.ly",
        "showLink": false
       },
       "data": [
        {
         "marker": {
          "color": [
           "rgb(213,62,79)",
           "rgb(252,141,89)",
           "rgb(254,224,139)",
           "rgb(230,245,152)",
           "rgb(153,213,148)",
           "rgb(50,136,189)"
          ]
         },
         "type": "bar",
         "uid": "e4494fed-8469-4c48-846c-901d82cfd2a4",
         "x": [
          1,
          2,
          3,
          4,
          5
         ],
         "y": [
          1,
          34,
          141,
          123,
          37
         ]
        }
       ],
       "layout": {
        "bargap": 0.2,
        "xaxis": {
         "ticktext": [
          "1. Never",
          "2. Very rarely",
          "3. Occasionally",
          "4. Several times",
          "5. Almost always or always"
         ],
         "tickvals": [
          1,
          2,
          3,
          4,
          5
         ]
        }
       }
      },
      "text/html": [
       "<div id=\"d312f3df-c6f5-4583-82c9-29e228468d6d\" style=\"height: 525px; width: 100%;\" class=\"plotly-graph-div\"></div><script type=\"text/javascript\">require([\"plotly\"], function(Plotly) { window.PLOTLYENV=window.PLOTLYENV || {};window.PLOTLYENV.BASE_URL=\"https://plot.ly\";\n",
       "if (document.getElementById(\"d312f3df-c6f5-4583-82c9-29e228468d6d\")) {\n",
       "    Plotly.newPlot(\"d312f3df-c6f5-4583-82c9-29e228468d6d\", [{\"marker\": {\"color\": [\"rgb(213,62,79)\", \"rgb(252,141,89)\", \"rgb(254,224,139)\", \"rgb(230,245,152)\", \"rgb(153,213,148)\", \"rgb(50,136,189)\"]}, \"x\": [1, 2, 3, 4, 5], \"y\": [1, 34, 141, 123, 37], \"type\": \"bar\", \"uid\": \"e4494fed-8469-4c48-846c-901d82cfd2a4\"}], {\"bargap\": 0.2, \"xaxis\": {\"ticktext\": [\"1. Never\", \"2. Very rarely\", \"3. Occasionally\", \"4. Several times\", \"5. Almost always or always\"], \"tickvals\": [1, 2, 3, 4, 5]}}, {\"showLink\": false, \"linkText\": \"Export to plot.ly\", \"plotlyServerURL\": \"https://plot.ly\"}); \n",
       "}\n",
       "});</script><script type=\"text/javascript\">window.addEventListener(\"resize\", function(){if (document.getElementById(\"d312f3df-c6f5-4583-82c9-29e228468d6d\")) {window._Plotly.Plots.resize(document.getElementById(\"d312f3df-c6f5-4583-82c9-29e228468d6d\"));};})</script>"
      ],
      "text/vnd.plotly.v1+html": [
       "<div id=\"d312f3df-c6f5-4583-82c9-29e228468d6d\" style=\"height: 525px; width: 100%;\" class=\"plotly-graph-div\"></div><script type=\"text/javascript\">require([\"plotly\"], function(Plotly) { window.PLOTLYENV=window.PLOTLYENV || {};window.PLOTLYENV.BASE_URL=\"https://plot.ly\";\n",
       "if (document.getElementById(\"d312f3df-c6f5-4583-82c9-29e228468d6d\")) {\n",
       "    Plotly.newPlot(\"d312f3df-c6f5-4583-82c9-29e228468d6d\", [{\"marker\": {\"color\": [\"rgb(213,62,79)\", \"rgb(252,141,89)\", \"rgb(254,224,139)\", \"rgb(230,245,152)\", \"rgb(153,213,148)\", \"rgb(50,136,189)\"]}, \"x\": [1, 2, 3, 4, 5], \"y\": [1, 34, 141, 123, 37], \"type\": \"bar\", \"uid\": \"e4494fed-8469-4c48-846c-901d82cfd2a4\"}], {\"bargap\": 0.2, \"xaxis\": {\"ticktext\": [\"1. Never\", \"2. Very rarely\", \"3. Occasionally\", \"4. Several times\", \"5. Almost always or always\"], \"tickvals\": [1, 2, 3, 4, 5]}}, {\"showLink\": false, \"linkText\": \"Export to plot.ly\", \"plotlyServerURL\": \"https://plot.ly\"}); \n",
       "}\n",
       "});</script><script type=\"text/javascript\">window.addEventListener(\"resize\", function(){if (document.getElementById(\"d312f3df-c6f5-4583-82c9-29e228468d6d\")) {window._Plotly.Plots.resize(document.getElementById(\"d312f3df-c6f5-4583-82c9-29e228468d6d\"));};})</script>"
      ]
     },
     "metadata": {},
     "output_type": "display_data"
    },
    {
     "name": "stdout",
     "output_type": "stream",
     "text": [
      "\n",
      "\n",
      "Cluster 5 || variable: ¿Eres capaz de expresar verbalmente las emociones que te produce una imagen que has visto?\n",
      "Describiendo la pregunta ¿Eres capaz de expresar verbalmente las emociones que te produce una imagen que has visto?\n",
      "Valores numéricos asociados a las respuestas [1, 2, 3, 4, 5]\n",
      "Respuestas posibles a la pregunta/variable ['1. Nunca', '2. Muy pocas veces', '3. En ocasiones', '4. Bastantes veces', '5. Casi siempre o siempre']\n"
     ]
    },
    {
     "data": {
      "text/plain": [
       "count    336.000000\n",
       "mean       3.514881\n",
       "std        0.887602\n",
       "min        1.000000\n",
       "25%        3.000000\n",
       "50%        3.000000\n",
       "75%        4.000000\n",
       "max        5.000000\n",
       "Name: ¿Eres capaz de expresar verbalmente las emociones que te produce una imagen que has visto?, dtype: float64"
      ]
     },
     "metadata": {},
     "output_type": "display_data"
    },
    {
     "name": "stdout",
     "output_type": "stream",
     "text": [
      "Conteo de cada valor en ¿Eres capaz de expresar verbalmente las emociones que te produce una imagen que has visto? expresada como valor / cantidad\n"
     ]
    },
    {
     "data": {
      "text/plain": [
       "1      1\n",
       "2     35\n",
       "3    142\n",
       "4    106\n",
       "5     52\n",
       "Name: ¿Eres capaz de expresar verbalmente las emociones que te produce una imagen que has visto?, dtype: int64"
      ]
     },
     "metadata": {},
     "output_type": "display_data"
    },
    {
     "name": "stdout",
     "output_type": "stream",
     "text": [
      "Porcentaje de cada valor en ¿Eres capaz de expresar verbalmente las emociones que te produce una imagen que has visto? expresado como valor / porcentaje\n"
     ]
    },
    {
     "data": {
      "text/plain": [
       "1     0.30\n",
       "2    10.42\n",
       "3    42.26\n",
       "4    31.55\n",
       "5    15.48\n",
       "Name: ¿Eres capaz de expresar verbalmente las emociones que te produce una imagen que has visto?, dtype: float64"
      ]
     },
     "metadata": {},
     "output_type": "display_data"
    },
    {
     "data": {
      "application/vnd.plotly.v1+json": {
       "config": {
        "linkText": "Export to plot.ly",
        "plotlyServerURL": "https://plot.ly",
        "showLink": false
       },
       "data": [
        {
         "marker": {
          "color": [
           "rgb(213,62,79)",
           "rgb(252,141,89)",
           "rgb(254,224,139)",
           "rgb(230,245,152)",
           "rgb(153,213,148)",
           "rgb(50,136,189)"
          ]
         },
         "type": "bar",
         "uid": "22b5840f-b05a-4d3e-a942-90a5e8e56d4b",
         "x": [
          1,
          2,
          3,
          4,
          5
         ],
         "y": [
          1,
          35,
          142,
          106,
          52
         ]
        }
       ],
       "layout": {
        "bargap": 0.2,
        "xaxis": {
         "ticktext": [
          "1. Nunca",
          "2. Muy pocas veces",
          "3. En ocasiones",
          "4. Bastantes veces",
          "5. Casi siempre o siempre"
         ],
         "tickvals": [
          1,
          2,
          3,
          4,
          5
         ]
        }
       }
      },
      "text/html": [
       "<div id=\"e2c6adc0-b619-429a-b24d-844d79b98919\" style=\"height: 525px; width: 100%;\" class=\"plotly-graph-div\"></div><script type=\"text/javascript\">require([\"plotly\"], function(Plotly) { window.PLOTLYENV=window.PLOTLYENV || {};window.PLOTLYENV.BASE_URL=\"https://plot.ly\";\n",
       "if (document.getElementById(\"e2c6adc0-b619-429a-b24d-844d79b98919\")) {\n",
       "    Plotly.newPlot(\"e2c6adc0-b619-429a-b24d-844d79b98919\", [{\"marker\": {\"color\": [\"rgb(213,62,79)\", \"rgb(252,141,89)\", \"rgb(254,224,139)\", \"rgb(230,245,152)\", \"rgb(153,213,148)\", \"rgb(50,136,189)\"]}, \"x\": [1, 2, 3, 4, 5], \"y\": [1, 35, 142, 106, 52], \"type\": \"bar\", \"uid\": \"22b5840f-b05a-4d3e-a942-90a5e8e56d4b\"}], {\"bargap\": 0.2, \"xaxis\": {\"ticktext\": [\"1. Nunca\", \"2. Muy pocas veces\", \"3. En ocasiones\", \"4. Bastantes veces\", \"5. Casi siempre o siempre\"], \"tickvals\": [1, 2, 3, 4, 5]}}, {\"showLink\": false, \"linkText\": \"Export to plot.ly\", \"plotlyServerURL\": \"https://plot.ly\"}); \n",
       "}\n",
       "});</script><script type=\"text/javascript\">window.addEventListener(\"resize\", function(){if (document.getElementById(\"e2c6adc0-b619-429a-b24d-844d79b98919\")) {window._Plotly.Plots.resize(document.getElementById(\"e2c6adc0-b619-429a-b24d-844d79b98919\"));};})</script>"
      ],
      "text/vnd.plotly.v1+html": [
       "<div id=\"e2c6adc0-b619-429a-b24d-844d79b98919\" style=\"height: 525px; width: 100%;\" class=\"plotly-graph-div\"></div><script type=\"text/javascript\">require([\"plotly\"], function(Plotly) { window.PLOTLYENV=window.PLOTLYENV || {};window.PLOTLYENV.BASE_URL=\"https://plot.ly\";\n",
       "if (document.getElementById(\"e2c6adc0-b619-429a-b24d-844d79b98919\")) {\n",
       "    Plotly.newPlot(\"e2c6adc0-b619-429a-b24d-844d79b98919\", [{\"marker\": {\"color\": [\"rgb(213,62,79)\", \"rgb(252,141,89)\", \"rgb(254,224,139)\", \"rgb(230,245,152)\", \"rgb(153,213,148)\", \"rgb(50,136,189)\"]}, \"x\": [1, 2, 3, 4, 5], \"y\": [1, 35, 142, 106, 52], \"type\": \"bar\", \"uid\": \"22b5840f-b05a-4d3e-a942-90a5e8e56d4b\"}], {\"bargap\": 0.2, \"xaxis\": {\"ticktext\": [\"1. Nunca\", \"2. Muy pocas veces\", \"3. En ocasiones\", \"4. Bastantes veces\", \"5. Casi siempre o siempre\"], \"tickvals\": [1, 2, 3, 4, 5]}}, {\"showLink\": false, \"linkText\": \"Export to plot.ly\", \"plotlyServerURL\": \"https://plot.ly\"}); \n",
       "}\n",
       "});</script><script type=\"text/javascript\">window.addEventListener(\"resize\", function(){if (document.getElementById(\"e2c6adc0-b619-429a-b24d-844d79b98919\")) {window._Plotly.Plots.resize(document.getElementById(\"e2c6adc0-b619-429a-b24d-844d79b98919\"));};})</script>"
      ]
     },
     "metadata": {},
     "output_type": "display_data"
    },
    {
     "name": "stdout",
     "output_type": "stream",
     "text": [
      "\n",
      "\n",
      "Cluster 2 || variable: Cuando te encuentras con una imagen, ¿intentas entender con qué intención está hecha?\n",
      "Describiendo la pregunta Cuando te encuentras con una imagen, ¿intentas entender con qué intención está hecha?\n",
      "Valores numéricos asociados a las respuestas [1, 2, 3, 4, 5]\n",
      "Respuestas posibles a la pregunta/variable ['1. Nunca', '2. Muy pocas veces', '3. En ocasiones', '4. Bastantes veces', '5. Casi siempre o siempre']\n"
     ]
    },
    {
     "data": {
      "text/plain": [
       "count    196.000000\n",
       "mean       3.117347\n",
       "std        1.023571\n",
       "min        1.000000\n",
       "25%        2.750000\n",
       "50%        3.000000\n",
       "75%        4.000000\n",
       "max        5.000000\n",
       "Name: Cuando te encuentras con una imagen, ¿intentas entender con qué intención está hecha?, dtype: float64"
      ]
     },
     "metadata": {},
     "output_type": "display_data"
    },
    {
     "name": "stdout",
     "output_type": "stream",
     "text": [
      "Conteo de cada valor en Cuando te encuentras con una imagen, ¿intentas entender con qué intención está hecha? expresada como valor / cantidad\n"
     ]
    },
    {
     "data": {
      "text/plain": [
       "1    13\n",
       "2    36\n",
       "3    79\n",
       "4    51\n",
       "5    17\n",
       "Name: Cuando te encuentras con una imagen, ¿intentas entender con qué intención está hecha?, dtype: int64"
      ]
     },
     "metadata": {},
     "output_type": "display_data"
    },
    {
     "name": "stdout",
     "output_type": "stream",
     "text": [
      "Porcentaje de cada valor en Cuando te encuentras con una imagen, ¿intentas entender con qué intención está hecha? expresado como valor / porcentaje\n"
     ]
    },
    {
     "data": {
      "text/plain": [
       "1     6.63\n",
       "2    18.37\n",
       "3    40.31\n",
       "4    26.02\n",
       "5     8.67\n",
       "Name: Cuando te encuentras con una imagen, ¿intentas entender con qué intención está hecha?, dtype: float64"
      ]
     },
     "metadata": {},
     "output_type": "display_data"
    },
    {
     "data": {
      "application/vnd.plotly.v1+json": {
       "config": {
        "linkText": "Export to plot.ly",
        "plotlyServerURL": "https://plot.ly",
        "showLink": false
       },
       "data": [
        {
         "marker": {
          "color": [
           "rgb(213,62,79)",
           "rgb(252,141,89)",
           "rgb(254,224,139)",
           "rgb(230,245,152)",
           "rgb(153,213,148)",
           "rgb(50,136,189)"
          ]
         },
         "type": "bar",
         "uid": "2f018213-20b6-4013-a9c5-e3f7752e3c0b",
         "x": [
          1,
          2,
          3,
          4,
          5
         ],
         "y": [
          13,
          36,
          79,
          51,
          17
         ]
        }
       ],
       "layout": {
        "bargap": 0.2,
        "xaxis": {
         "ticktext": [
          "1. Nunca",
          "2. Muy pocas veces",
          "3. En ocasiones",
          "4. Bastantes veces",
          "5. Casi siempre o siempre"
         ],
         "tickvals": [
          1,
          2,
          3,
          4,
          5
         ]
        }
       }
      },
      "text/html": [
       "<div id=\"777707cf-7739-47f0-951c-aef645faf896\" style=\"height: 525px; width: 100%;\" class=\"plotly-graph-div\"></div><script type=\"text/javascript\">require([\"plotly\"], function(Plotly) { window.PLOTLYENV=window.PLOTLYENV || {};window.PLOTLYENV.BASE_URL=\"https://plot.ly\";\n",
       "if (document.getElementById(\"777707cf-7739-47f0-951c-aef645faf896\")) {\n",
       "    Plotly.newPlot(\"777707cf-7739-47f0-951c-aef645faf896\", [{\"marker\": {\"color\": [\"rgb(213,62,79)\", \"rgb(252,141,89)\", \"rgb(254,224,139)\", \"rgb(230,245,152)\", \"rgb(153,213,148)\", \"rgb(50,136,189)\"]}, \"x\": [1, 2, 3, 4, 5], \"y\": [13, 36, 79, 51, 17], \"type\": \"bar\", \"uid\": \"2f018213-20b6-4013-a9c5-e3f7752e3c0b\"}], {\"bargap\": 0.2, \"xaxis\": {\"ticktext\": [\"1. Nunca\", \"2. Muy pocas veces\", \"3. En ocasiones\", \"4. Bastantes veces\", \"5. Casi siempre o siempre\"], \"tickvals\": [1, 2, 3, 4, 5]}}, {\"showLink\": false, \"linkText\": \"Export to plot.ly\", \"plotlyServerURL\": \"https://plot.ly\"}); \n",
       "}\n",
       "});</script><script type=\"text/javascript\">window.addEventListener(\"resize\", function(){if (document.getElementById(\"777707cf-7739-47f0-951c-aef645faf896\")) {window._Plotly.Plots.resize(document.getElementById(\"777707cf-7739-47f0-951c-aef645faf896\"));};})</script>"
      ],
      "text/vnd.plotly.v1+html": [
       "<div id=\"777707cf-7739-47f0-951c-aef645faf896\" style=\"height: 525px; width: 100%;\" class=\"plotly-graph-div\"></div><script type=\"text/javascript\">require([\"plotly\"], function(Plotly) { window.PLOTLYENV=window.PLOTLYENV || {};window.PLOTLYENV.BASE_URL=\"https://plot.ly\";\n",
       "if (document.getElementById(\"777707cf-7739-47f0-951c-aef645faf896\")) {\n",
       "    Plotly.newPlot(\"777707cf-7739-47f0-951c-aef645faf896\", [{\"marker\": {\"color\": [\"rgb(213,62,79)\", \"rgb(252,141,89)\", \"rgb(254,224,139)\", \"rgb(230,245,152)\", \"rgb(153,213,148)\", \"rgb(50,136,189)\"]}, \"x\": [1, 2, 3, 4, 5], \"y\": [13, 36, 79, 51, 17], \"type\": \"bar\", \"uid\": \"2f018213-20b6-4013-a9c5-e3f7752e3c0b\"}], {\"bargap\": 0.2, \"xaxis\": {\"ticktext\": [\"1. Nunca\", \"2. Muy pocas veces\", \"3. En ocasiones\", \"4. Bastantes veces\", \"5. Casi siempre o siempre\"], \"tickvals\": [1, 2, 3, 4, 5]}}, {\"showLink\": false, \"linkText\": \"Export to plot.ly\", \"plotlyServerURL\": \"https://plot.ly\"}); \n",
       "}\n",
       "});</script><script type=\"text/javascript\">window.addEventListener(\"resize\", function(){if (document.getElementById(\"777707cf-7739-47f0-951c-aef645faf896\")) {window._Plotly.Plots.resize(document.getElementById(\"777707cf-7739-47f0-951c-aef645faf896\"));};})</script>"
      ]
     },
     "metadata": {},
     "output_type": "display_data"
    },
    {
     "name": "stdout",
     "output_type": "stream",
     "text": [
      "\n",
      "\n",
      "Cluster 2 || variable: Cuando recibes o consumes una imagen, ¿la comparas con tu propia realidad? ¿Intentas encontrar en tu entorno cierto parecido?\n",
      "Describiendo la pregunta Cuando recibes o consumes una imagen, ¿la comparas con tu propia realidad? ¿Intentas encontrar en tu entorno cierto parecido?\n",
      "Valores numéricos asociados a las respuestas [1, 2, 3, 4, 5]\n",
      "Respuestas posibles a la pregunta/variable ['1. Nunca', '2. Muy pocas veces', '3. En ocasiones', '4. Bastantes veces', '5. Casi siempre o siempre']\n"
     ]
    },
    {
     "data": {
      "text/plain": [
       "count    196.000000\n",
       "mean       2.867347\n",
       "std        0.929712\n",
       "min        1.000000\n",
       "25%        2.000000\n",
       "50%        3.000000\n",
       "75%        3.000000\n",
       "max        5.000000\n",
       "Name: Cuando recibes o consumes una imagen, ¿la comparas con tu propia realidad? ¿Intentas encontrar en tu entorno cierto parecido?, dtype: float64"
      ]
     },
     "metadata": {},
     "output_type": "display_data"
    },
    {
     "name": "stdout",
     "output_type": "stream",
     "text": [
      "Conteo de cada valor en Cuando recibes o consumes una imagen, ¿la comparas con tu propia realidad? ¿Intentas encontrar en tu entorno cierto parecido? expresada como valor / cantidad\n"
     ]
    },
    {
     "data": {
      "text/plain": [
       "1    16\n",
       "2    46\n",
       "3    87\n",
       "4    42\n",
       "5     5\n",
       "Name: Cuando recibes o consumes una imagen, ¿la comparas con tu propia realidad? ¿Intentas encontrar en tu entorno cierto parecido?, dtype: int64"
      ]
     },
     "metadata": {},
     "output_type": "display_data"
    },
    {
     "name": "stdout",
     "output_type": "stream",
     "text": [
      "Porcentaje de cada valor en Cuando recibes o consumes una imagen, ¿la comparas con tu propia realidad? ¿Intentas encontrar en tu entorno cierto parecido? expresado como valor / porcentaje\n"
     ]
    },
    {
     "data": {
      "text/plain": [
       "1     8.16\n",
       "2    23.47\n",
       "3    44.39\n",
       "4    21.43\n",
       "5     2.55\n",
       "Name: Cuando recibes o consumes una imagen, ¿la comparas con tu propia realidad? ¿Intentas encontrar en tu entorno cierto parecido?, dtype: float64"
      ]
     },
     "metadata": {},
     "output_type": "display_data"
    },
    {
     "data": {
      "application/vnd.plotly.v1+json": {
       "config": {
        "linkText": "Export to plot.ly",
        "plotlyServerURL": "https://plot.ly",
        "showLink": false
       },
       "data": [
        {
         "marker": {
          "color": [
           "rgb(213,62,79)",
           "rgb(252,141,89)",
           "rgb(254,224,139)",
           "rgb(230,245,152)",
           "rgb(153,213,148)",
           "rgb(50,136,189)"
          ]
         },
         "type": "bar",
         "uid": "20fd7056-f3e5-4e0a-bdba-b9469cdf773c",
         "x": [
          1,
          2,
          3,
          4,
          5
         ],
         "y": [
          16,
          46,
          87,
          42,
          5
         ]
        }
       ],
       "layout": {
        "bargap": 0.2,
        "xaxis": {
         "ticktext": [
          "1. Nunca",
          "2. Muy pocas veces",
          "3. En ocasiones",
          "4. Bastantes veces",
          "5. Casi siempre o siempre"
         ],
         "tickvals": [
          1,
          2,
          3,
          4,
          5
         ]
        }
       }
      },
      "text/html": [
       "<div id=\"1a55ad26-7c1a-4746-bdd7-4b90911eaecc\" style=\"height: 525px; width: 100%;\" class=\"plotly-graph-div\"></div><script type=\"text/javascript\">require([\"plotly\"], function(Plotly) { window.PLOTLYENV=window.PLOTLYENV || {};window.PLOTLYENV.BASE_URL=\"https://plot.ly\";\n",
       "if (document.getElementById(\"1a55ad26-7c1a-4746-bdd7-4b90911eaecc\")) {\n",
       "    Plotly.newPlot(\"1a55ad26-7c1a-4746-bdd7-4b90911eaecc\", [{\"marker\": {\"color\": [\"rgb(213,62,79)\", \"rgb(252,141,89)\", \"rgb(254,224,139)\", \"rgb(230,245,152)\", \"rgb(153,213,148)\", \"rgb(50,136,189)\"]}, \"x\": [1, 2, 3, 4, 5], \"y\": [16, 46, 87, 42, 5], \"type\": \"bar\", \"uid\": \"20fd7056-f3e5-4e0a-bdba-b9469cdf773c\"}], {\"bargap\": 0.2, \"xaxis\": {\"ticktext\": [\"1. Nunca\", \"2. Muy pocas veces\", \"3. En ocasiones\", \"4. Bastantes veces\", \"5. Casi siempre o siempre\"], \"tickvals\": [1, 2, 3, 4, 5]}}, {\"showLink\": false, \"linkText\": \"Export to plot.ly\", \"plotlyServerURL\": \"https://plot.ly\"}); \n",
       "}\n",
       "});</script><script type=\"text/javascript\">window.addEventListener(\"resize\", function(){if (document.getElementById(\"1a55ad26-7c1a-4746-bdd7-4b90911eaecc\")) {window._Plotly.Plots.resize(document.getElementById(\"1a55ad26-7c1a-4746-bdd7-4b90911eaecc\"));};})</script>"
      ],
      "text/vnd.plotly.v1+html": [
       "<div id=\"1a55ad26-7c1a-4746-bdd7-4b90911eaecc\" style=\"height: 525px; width: 100%;\" class=\"plotly-graph-div\"></div><script type=\"text/javascript\">require([\"plotly\"], function(Plotly) { window.PLOTLYENV=window.PLOTLYENV || {};window.PLOTLYENV.BASE_URL=\"https://plot.ly\";\n",
       "if (document.getElementById(\"1a55ad26-7c1a-4746-bdd7-4b90911eaecc\")) {\n",
       "    Plotly.newPlot(\"1a55ad26-7c1a-4746-bdd7-4b90911eaecc\", [{\"marker\": {\"color\": [\"rgb(213,62,79)\", \"rgb(252,141,89)\", \"rgb(254,224,139)\", \"rgb(230,245,152)\", \"rgb(153,213,148)\", \"rgb(50,136,189)\"]}, \"x\": [1, 2, 3, 4, 5], \"y\": [16, 46, 87, 42, 5], \"type\": \"bar\", \"uid\": \"20fd7056-f3e5-4e0a-bdba-b9469cdf773c\"}], {\"bargap\": 0.2, \"xaxis\": {\"ticktext\": [\"1. Nunca\", \"2. Muy pocas veces\", \"3. En ocasiones\", \"4. Bastantes veces\", \"5. Casi siempre o siempre\"], \"tickvals\": [1, 2, 3, 4, 5]}}, {\"showLink\": false, \"linkText\": \"Export to plot.ly\", \"plotlyServerURL\": \"https://plot.ly\"}); \n",
       "}\n",
       "});</script><script type=\"text/javascript\">window.addEventListener(\"resize\", function(){if (document.getElementById(\"1a55ad26-7c1a-4746-bdd7-4b90911eaecc\")) {window._Plotly.Plots.resize(document.getElementById(\"1a55ad26-7c1a-4746-bdd7-4b90911eaecc\"));};})</script>"
      ]
     },
     "metadata": {},
     "output_type": "display_data"
    },
    {
     "name": "stdout",
     "output_type": "stream",
     "text": [
      "\n",
      "\n",
      "Cluster 2 || variable: Cuando recibes o consumes una imagen, ¿piensas en el modo en que fue obtenida (técnicamente)?\n",
      "Describiendo la pregunta Cuando recibes o consumes una imagen, ¿piensas en el modo en que fue obtenida (técnicamente)?\n",
      "Valores numéricos asociados a las respuestas [1, 2, 3, 4, 5]\n",
      "Respuestas posibles a la pregunta/variable ['1. Nunca', '2. Muy pocas veces', '3. En ocasiones', '4. Bastantes veces', '5. Casi siempre o siempre']\n"
     ]
    },
    {
     "data": {
      "text/plain": [
       "count    196.000000\n",
       "mean       2.806122\n",
       "std        1.034365\n",
       "min        1.000000\n",
       "25%        2.000000\n",
       "50%        3.000000\n",
       "75%        3.250000\n",
       "max        5.000000\n",
       "Name: Cuando recibes o consumes una imagen, ¿piensas en el modo en que fue obtenida (técnicamente)?, dtype: float64"
      ]
     },
     "metadata": {},
     "output_type": "display_data"
    },
    {
     "name": "stdout",
     "output_type": "stream",
     "text": [
      "Conteo de cada valor en Cuando recibes o consumes una imagen, ¿piensas en el modo en que fue obtenida (técnicamente)? expresada como valor / cantidad\n"
     ]
    },
    {
     "data": {
      "text/plain": [
       "1    24\n",
       "2    47\n",
       "3    76\n",
       "4    41\n",
       "5     8\n",
       "Name: Cuando recibes o consumes una imagen, ¿piensas en el modo en que fue obtenida (técnicamente)?, dtype: int64"
      ]
     },
     "metadata": {},
     "output_type": "display_data"
    },
    {
     "name": "stdout",
     "output_type": "stream",
     "text": [
      "Porcentaje de cada valor en Cuando recibes o consumes una imagen, ¿piensas en el modo en que fue obtenida (técnicamente)? expresado como valor / porcentaje\n"
     ]
    },
    {
     "data": {
      "text/plain": [
       "1    12.24\n",
       "2    23.98\n",
       "3    38.78\n",
       "4    20.92\n",
       "5     4.08\n",
       "Name: Cuando recibes o consumes una imagen, ¿piensas en el modo en que fue obtenida (técnicamente)?, dtype: float64"
      ]
     },
     "metadata": {},
     "output_type": "display_data"
    },
    {
     "data": {
      "application/vnd.plotly.v1+json": {
       "config": {
        "linkText": "Export to plot.ly",
        "plotlyServerURL": "https://plot.ly",
        "showLink": false
       },
       "data": [
        {
         "marker": {
          "color": [
           "rgb(213,62,79)",
           "rgb(252,141,89)",
           "rgb(254,224,139)",
           "rgb(230,245,152)",
           "rgb(153,213,148)",
           "rgb(50,136,189)"
          ]
         },
         "type": "bar",
         "uid": "4631235d-46f7-4954-bc31-b2caaa31cfd1",
         "x": [
          1,
          2,
          3,
          4,
          5
         ],
         "y": [
          24,
          47,
          76,
          41,
          8
         ]
        }
       ],
       "layout": {
        "bargap": 0.2,
        "xaxis": {
         "ticktext": [
          "1. Nunca",
          "2. Muy pocas veces",
          "3. En ocasiones",
          "4. Bastantes veces",
          "5. Casi siempre o siempre"
         ],
         "tickvals": [
          1,
          2,
          3,
          4,
          5
         ]
        }
       }
      },
      "text/html": [
       "<div id=\"14b8d4d3-8621-4ab7-bd2a-0d3fc88fe762\" style=\"height: 525px; width: 100%;\" class=\"plotly-graph-div\"></div><script type=\"text/javascript\">require([\"plotly\"], function(Plotly) { window.PLOTLYENV=window.PLOTLYENV || {};window.PLOTLYENV.BASE_URL=\"https://plot.ly\";\n",
       "if (document.getElementById(\"14b8d4d3-8621-4ab7-bd2a-0d3fc88fe762\")) {\n",
       "    Plotly.newPlot(\"14b8d4d3-8621-4ab7-bd2a-0d3fc88fe762\", [{\"marker\": {\"color\": [\"rgb(213,62,79)\", \"rgb(252,141,89)\", \"rgb(254,224,139)\", \"rgb(230,245,152)\", \"rgb(153,213,148)\", \"rgb(50,136,189)\"]}, \"x\": [1, 2, 3, 4, 5], \"y\": [24, 47, 76, 41, 8], \"type\": \"bar\", \"uid\": \"4631235d-46f7-4954-bc31-b2caaa31cfd1\"}], {\"bargap\": 0.2, \"xaxis\": {\"ticktext\": [\"1. Nunca\", \"2. Muy pocas veces\", \"3. En ocasiones\", \"4. Bastantes veces\", \"5. Casi siempre o siempre\"], \"tickvals\": [1, 2, 3, 4, 5]}}, {\"showLink\": false, \"linkText\": \"Export to plot.ly\", \"plotlyServerURL\": \"https://plot.ly\"}); \n",
       "}\n",
       "});</script><script type=\"text/javascript\">window.addEventListener(\"resize\", function(){if (document.getElementById(\"14b8d4d3-8621-4ab7-bd2a-0d3fc88fe762\")) {window._Plotly.Plots.resize(document.getElementById(\"14b8d4d3-8621-4ab7-bd2a-0d3fc88fe762\"));};})</script>"
      ],
      "text/vnd.plotly.v1+html": [
       "<div id=\"14b8d4d3-8621-4ab7-bd2a-0d3fc88fe762\" style=\"height: 525px; width: 100%;\" class=\"plotly-graph-div\"></div><script type=\"text/javascript\">require([\"plotly\"], function(Plotly) { window.PLOTLYENV=window.PLOTLYENV || {};window.PLOTLYENV.BASE_URL=\"https://plot.ly\";\n",
       "if (document.getElementById(\"14b8d4d3-8621-4ab7-bd2a-0d3fc88fe762\")) {\n",
       "    Plotly.newPlot(\"14b8d4d3-8621-4ab7-bd2a-0d3fc88fe762\", [{\"marker\": {\"color\": [\"rgb(213,62,79)\", \"rgb(252,141,89)\", \"rgb(254,224,139)\", \"rgb(230,245,152)\", \"rgb(153,213,148)\", \"rgb(50,136,189)\"]}, \"x\": [1, 2, 3, 4, 5], \"y\": [24, 47, 76, 41, 8], \"type\": \"bar\", \"uid\": \"4631235d-46f7-4954-bc31-b2caaa31cfd1\"}], {\"bargap\": 0.2, \"xaxis\": {\"ticktext\": [\"1. Nunca\", \"2. Muy pocas veces\", \"3. En ocasiones\", \"4. Bastantes veces\", \"5. Casi siempre o siempre\"], \"tickvals\": [1, 2, 3, 4, 5]}}, {\"showLink\": false, \"linkText\": \"Export to plot.ly\", \"plotlyServerURL\": \"https://plot.ly\"}); \n",
       "}\n",
       "});</script><script type=\"text/javascript\">window.addEventListener(\"resize\", function(){if (document.getElementById(\"14b8d4d3-8621-4ab7-bd2a-0d3fc88fe762\")) {window._Plotly.Plots.resize(document.getElementById(\"14b8d4d3-8621-4ab7-bd2a-0d3fc88fe762\"));};})</script>"
      ]
     },
     "metadata": {},
     "output_type": "display_data"
    },
    {
     "name": "stdout",
     "output_type": "stream",
     "text": [
      "\n",
      "\n",
      "Cluster 2 || variable: Cuando observas una imagen, ¿te preguntas cosas acerca de los personajes/objetos que aparecen en la misma?\n",
      "Describiendo la pregunta Cuando observas una imagen, ¿te preguntas cosas acerca de los personajes/objetos que aparecen en la misma?\n",
      "Valores numéricos asociados a las respuestas [1, 2, 3, 4, 5]\n",
      "Respuestas posibles a la pregunta/variable ['1. Nunca', '2. Muy pocas veces', '3. En ocasiones', '4. Bastantes veces', '5. Casi siempre o siempre']\n"
     ]
    },
    {
     "data": {
      "text/plain": [
       "count    196.000000\n",
       "mean       3.035714\n",
       "std        0.962768\n",
       "min        1.000000\n",
       "25%        2.000000\n",
       "50%        3.000000\n",
       "75%        4.000000\n",
       "max        5.000000\n",
       "Name: Cuando observas una imagen, ¿te preguntas cosas acerca de los personajes/objetos que aparecen en la misma?, dtype: float64"
      ]
     },
     "metadata": {},
     "output_type": "display_data"
    },
    {
     "name": "stdout",
     "output_type": "stream",
     "text": [
      "Conteo de cada valor en Cuando observas una imagen, ¿te preguntas cosas acerca de los personajes/objetos que aparecen en la misma? expresada como valor / cantidad\n"
     ]
    },
    {
     "data": {
      "text/plain": [
       "1    11\n",
       "2    43\n",
       "3    81\n",
       "4    50\n",
       "5    11\n",
       "Name: Cuando observas una imagen, ¿te preguntas cosas acerca de los personajes/objetos que aparecen en la misma?, dtype: int64"
      ]
     },
     "metadata": {},
     "output_type": "display_data"
    },
    {
     "name": "stdout",
     "output_type": "stream",
     "text": [
      "Porcentaje de cada valor en Cuando observas una imagen, ¿te preguntas cosas acerca de los personajes/objetos que aparecen en la misma? expresado como valor / porcentaje\n"
     ]
    },
    {
     "data": {
      "text/plain": [
       "1     5.61\n",
       "2    21.94\n",
       "3    41.33\n",
       "4    25.51\n",
       "5     5.61\n",
       "Name: Cuando observas una imagen, ¿te preguntas cosas acerca de los personajes/objetos que aparecen en la misma?, dtype: float64"
      ]
     },
     "metadata": {},
     "output_type": "display_data"
    },
    {
     "data": {
      "application/vnd.plotly.v1+json": {
       "config": {
        "linkText": "Export to plot.ly",
        "plotlyServerURL": "https://plot.ly",
        "showLink": false
       },
       "data": [
        {
         "marker": {
          "color": [
           "rgb(213,62,79)",
           "rgb(252,141,89)",
           "rgb(254,224,139)",
           "rgb(230,245,152)",
           "rgb(153,213,148)",
           "rgb(50,136,189)"
          ]
         },
         "type": "bar",
         "uid": "b5b54046-b1ee-4a59-9eff-c76ace1e603a",
         "x": [
          1,
          2,
          3,
          4,
          5
         ],
         "y": [
          11,
          43,
          81,
          50,
          11
         ]
        }
       ],
       "layout": {
        "bargap": 0.2,
        "xaxis": {
         "ticktext": [
          "1. Nunca",
          "2. Muy pocas veces",
          "3. En ocasiones",
          "4. Bastantes veces",
          "5. Casi siempre o siempre"
         ],
         "tickvals": [
          1,
          2,
          3,
          4,
          5
         ]
        }
       }
      },
      "text/html": [
       "<div id=\"5064c066-c343-49e7-b934-063d4027a217\" style=\"height: 525px; width: 100%;\" class=\"plotly-graph-div\"></div><script type=\"text/javascript\">require([\"plotly\"], function(Plotly) { window.PLOTLYENV=window.PLOTLYENV || {};window.PLOTLYENV.BASE_URL=\"https://plot.ly\";\n",
       "if (document.getElementById(\"5064c066-c343-49e7-b934-063d4027a217\")) {\n",
       "    Plotly.newPlot(\"5064c066-c343-49e7-b934-063d4027a217\", [{\"marker\": {\"color\": [\"rgb(213,62,79)\", \"rgb(252,141,89)\", \"rgb(254,224,139)\", \"rgb(230,245,152)\", \"rgb(153,213,148)\", \"rgb(50,136,189)\"]}, \"x\": [1, 2, 3, 4, 5], \"y\": [11, 43, 81, 50, 11], \"type\": \"bar\", \"uid\": \"b5b54046-b1ee-4a59-9eff-c76ace1e603a\"}], {\"bargap\": 0.2, \"xaxis\": {\"ticktext\": [\"1. Nunca\", \"2. Muy pocas veces\", \"3. En ocasiones\", \"4. Bastantes veces\", \"5. Casi siempre o siempre\"], \"tickvals\": [1, 2, 3, 4, 5]}}, {\"showLink\": false, \"linkText\": \"Export to plot.ly\", \"plotlyServerURL\": \"https://plot.ly\"}); \n",
       "}\n",
       "});</script><script type=\"text/javascript\">window.addEventListener(\"resize\", function(){if (document.getElementById(\"5064c066-c343-49e7-b934-063d4027a217\")) {window._Plotly.Plots.resize(document.getElementById(\"5064c066-c343-49e7-b934-063d4027a217\"));};})</script>"
      ],
      "text/vnd.plotly.v1+html": [
       "<div id=\"5064c066-c343-49e7-b934-063d4027a217\" style=\"height: 525px; width: 100%;\" class=\"plotly-graph-div\"></div><script type=\"text/javascript\">require([\"plotly\"], function(Plotly) { window.PLOTLYENV=window.PLOTLYENV || {};window.PLOTLYENV.BASE_URL=\"https://plot.ly\";\n",
       "if (document.getElementById(\"5064c066-c343-49e7-b934-063d4027a217\")) {\n",
       "    Plotly.newPlot(\"5064c066-c343-49e7-b934-063d4027a217\", [{\"marker\": {\"color\": [\"rgb(213,62,79)\", \"rgb(252,141,89)\", \"rgb(254,224,139)\", \"rgb(230,245,152)\", \"rgb(153,213,148)\", \"rgb(50,136,189)\"]}, \"x\": [1, 2, 3, 4, 5], \"y\": [11, 43, 81, 50, 11], \"type\": \"bar\", \"uid\": \"b5b54046-b1ee-4a59-9eff-c76ace1e603a\"}], {\"bargap\": 0.2, \"xaxis\": {\"ticktext\": [\"1. Nunca\", \"2. Muy pocas veces\", \"3. En ocasiones\", \"4. Bastantes veces\", \"5. Casi siempre o siempre\"], \"tickvals\": [1, 2, 3, 4, 5]}}, {\"showLink\": false, \"linkText\": \"Export to plot.ly\", \"plotlyServerURL\": \"https://plot.ly\"}); \n",
       "}\n",
       "});</script><script type=\"text/javascript\">window.addEventListener(\"resize\", function(){if (document.getElementById(\"5064c066-c343-49e7-b934-063d4027a217\")) {window._Plotly.Plots.resize(document.getElementById(\"5064c066-c343-49e7-b934-063d4027a217\"));};})</script>"
      ]
     },
     "metadata": {},
     "output_type": "display_data"
    },
    {
     "name": "stdout",
     "output_type": "stream",
     "text": [
      "\n",
      "\n",
      "Cluster 2 || variable: ¿Entiendes, generalmente, las intenciones que tiene el autor de una imagen cuando la ves y la compartes?\n",
      "Describiendo la pregunta ¿Entiendes, generalmente, las intenciones que tiene el autor de una imagen cuando la ves y la compartes?\n",
      "Valores numéricos asociados a las respuestas [1, 2, 3, 4, 5]\n",
      "Respuestas posibles a la pregunta/variable ['1. Never', '2. Very rarely', '3. Occasionally', '4. Several times', '5. Almost always or always']\n"
     ]
    },
    {
     "data": {
      "text/plain": [
       "count    196.000000\n",
       "mean       2.994898\n",
       "std        1.083666\n",
       "min        1.000000\n",
       "25%        2.000000\n",
       "50%        3.000000\n",
       "75%        4.000000\n",
       "max        5.000000\n",
       "Name: ¿Entiendes, generalmente, las intenciones que tiene el autor de una imagen cuando la ves y la compartes?, dtype: float64"
      ]
     },
     "metadata": {},
     "output_type": "display_data"
    },
    {
     "name": "stdout",
     "output_type": "stream",
     "text": [
      "Conteo de cada valor en ¿Entiendes, generalmente, las intenciones que tiene el autor de una imagen cuando la ves y la compartes? expresada como valor / cantidad\n"
     ]
    },
    {
     "data": {
      "text/plain": [
       "1    23\n",
       "2    32\n",
       "3    78\n",
       "4    49\n",
       "5    14\n",
       "Name: ¿Entiendes, generalmente, las intenciones que tiene el autor de una imagen cuando la ves y la compartes?, dtype: int64"
      ]
     },
     "metadata": {},
     "output_type": "display_data"
    },
    {
     "name": "stdout",
     "output_type": "stream",
     "text": [
      "Porcentaje de cada valor en ¿Entiendes, generalmente, las intenciones que tiene el autor de una imagen cuando la ves y la compartes? expresado como valor / porcentaje\n"
     ]
    },
    {
     "data": {
      "text/plain": [
       "1    11.73\n",
       "2    16.33\n",
       "3    39.80\n",
       "4    25.00\n",
       "5     7.14\n",
       "Name: ¿Entiendes, generalmente, las intenciones que tiene el autor de una imagen cuando la ves y la compartes?, dtype: float64"
      ]
     },
     "metadata": {},
     "output_type": "display_data"
    },
    {
     "data": {
      "application/vnd.plotly.v1+json": {
       "config": {
        "linkText": "Export to plot.ly",
        "plotlyServerURL": "https://plot.ly",
        "showLink": false
       },
       "data": [
        {
         "marker": {
          "color": [
           "rgb(213,62,79)",
           "rgb(252,141,89)",
           "rgb(254,224,139)",
           "rgb(230,245,152)",
           "rgb(153,213,148)",
           "rgb(50,136,189)"
          ]
         },
         "type": "bar",
         "uid": "5b2d2adf-90c2-4dfa-8c44-66d7f95f7aad",
         "x": [
          1,
          2,
          3,
          4,
          5
         ],
         "y": [
          23,
          32,
          78,
          49,
          14
         ]
        }
       ],
       "layout": {
        "bargap": 0.2,
        "xaxis": {
         "ticktext": [
          "1. Never",
          "2. Very rarely",
          "3. Occasionally",
          "4. Several times",
          "5. Almost always or always"
         ],
         "tickvals": [
          1,
          2,
          3,
          4,
          5
         ]
        }
       }
      },
      "text/html": [
       "<div id=\"b22a6572-93d8-417c-9313-6d015d2893b9\" style=\"height: 525px; width: 100%;\" class=\"plotly-graph-div\"></div><script type=\"text/javascript\">require([\"plotly\"], function(Plotly) { window.PLOTLYENV=window.PLOTLYENV || {};window.PLOTLYENV.BASE_URL=\"https://plot.ly\";\n",
       "if (document.getElementById(\"b22a6572-93d8-417c-9313-6d015d2893b9\")) {\n",
       "    Plotly.newPlot(\"b22a6572-93d8-417c-9313-6d015d2893b9\", [{\"marker\": {\"color\": [\"rgb(213,62,79)\", \"rgb(252,141,89)\", \"rgb(254,224,139)\", \"rgb(230,245,152)\", \"rgb(153,213,148)\", \"rgb(50,136,189)\"]}, \"x\": [1, 2, 3, 4, 5], \"y\": [23, 32, 78, 49, 14], \"type\": \"bar\", \"uid\": \"5b2d2adf-90c2-4dfa-8c44-66d7f95f7aad\"}], {\"bargap\": 0.2, \"xaxis\": {\"ticktext\": [\"1. Never\", \"2. Very rarely\", \"3. Occasionally\", \"4. Several times\", \"5. Almost always or always\"], \"tickvals\": [1, 2, 3, 4, 5]}}, {\"showLink\": false, \"linkText\": \"Export to plot.ly\", \"plotlyServerURL\": \"https://plot.ly\"}); \n",
       "}\n",
       "});</script><script type=\"text/javascript\">window.addEventListener(\"resize\", function(){if (document.getElementById(\"b22a6572-93d8-417c-9313-6d015d2893b9\")) {window._Plotly.Plots.resize(document.getElementById(\"b22a6572-93d8-417c-9313-6d015d2893b9\"));};})</script>"
      ],
      "text/vnd.plotly.v1+html": [
       "<div id=\"b22a6572-93d8-417c-9313-6d015d2893b9\" style=\"height: 525px; width: 100%;\" class=\"plotly-graph-div\"></div><script type=\"text/javascript\">require([\"plotly\"], function(Plotly) { window.PLOTLYENV=window.PLOTLYENV || {};window.PLOTLYENV.BASE_URL=\"https://plot.ly\";\n",
       "if (document.getElementById(\"b22a6572-93d8-417c-9313-6d015d2893b9\")) {\n",
       "    Plotly.newPlot(\"b22a6572-93d8-417c-9313-6d015d2893b9\", [{\"marker\": {\"color\": [\"rgb(213,62,79)\", \"rgb(252,141,89)\", \"rgb(254,224,139)\", \"rgb(230,245,152)\", \"rgb(153,213,148)\", \"rgb(50,136,189)\"]}, \"x\": [1, 2, 3, 4, 5], \"y\": [23, 32, 78, 49, 14], \"type\": \"bar\", \"uid\": \"5b2d2adf-90c2-4dfa-8c44-66d7f95f7aad\"}], {\"bargap\": 0.2, \"xaxis\": {\"ticktext\": [\"1. Never\", \"2. Very rarely\", \"3. Occasionally\", \"4. Several times\", \"5. Almost always or always\"], \"tickvals\": [1, 2, 3, 4, 5]}}, {\"showLink\": false, \"linkText\": \"Export to plot.ly\", \"plotlyServerURL\": \"https://plot.ly\"}); \n",
       "}\n",
       "});</script><script type=\"text/javascript\">window.addEventListener(\"resize\", function(){if (document.getElementById(\"b22a6572-93d8-417c-9313-6d015d2893b9\")) {window._Plotly.Plots.resize(document.getElementById(\"b22a6572-93d8-417c-9313-6d015d2893b9\"));};})</script>"
      ]
     },
     "metadata": {},
     "output_type": "display_data"
    },
    {
     "name": "stdout",
     "output_type": "stream",
     "text": [
      "\n",
      "\n",
      "Cluster 2 || variable: ¿Eres capaz de expresar verbalmente las emociones que te produce una imagen que has visto?\n",
      "Describiendo la pregunta ¿Eres capaz de expresar verbalmente las emociones que te produce una imagen que has visto?\n",
      "Valores numéricos asociados a las respuestas [1, 2, 3, 4, 5]\n",
      "Respuestas posibles a la pregunta/variable ['1. Nunca', '2. Muy pocas veces', '3. En ocasiones', '4. Bastantes veces', '5. Casi siempre o siempre']\n"
     ]
    },
    {
     "data": {
      "text/plain": [
       "count    196.000000\n",
       "mean       3.081633\n",
       "std        0.988897\n",
       "min        1.000000\n",
       "25%        2.000000\n",
       "50%        3.000000\n",
       "75%        4.000000\n",
       "max        5.000000\n",
       "Name: ¿Eres capaz de expresar verbalmente las emociones que te produce una imagen que has visto?, dtype: float64"
      ]
     },
     "metadata": {},
     "output_type": "display_data"
    },
    {
     "name": "stdout",
     "output_type": "stream",
     "text": [
      "Conteo de cada valor en ¿Eres capaz de expresar verbalmente las emociones que te produce una imagen que has visto? expresada como valor / cantidad\n"
     ]
    },
    {
     "data": {
      "text/plain": [
       "1    10\n",
       "2    42\n",
       "3    82\n",
       "4    46\n",
       "5    16\n",
       "Name: ¿Eres capaz de expresar verbalmente las emociones que te produce una imagen que has visto?, dtype: int64"
      ]
     },
     "metadata": {},
     "output_type": "display_data"
    },
    {
     "name": "stdout",
     "output_type": "stream",
     "text": [
      "Porcentaje de cada valor en ¿Eres capaz de expresar verbalmente las emociones que te produce una imagen que has visto? expresado como valor / porcentaje\n"
     ]
    },
    {
     "data": {
      "text/plain": [
       "1     5.10\n",
       "2    21.43\n",
       "3    41.84\n",
       "4    23.47\n",
       "5     8.16\n",
       "Name: ¿Eres capaz de expresar verbalmente las emociones que te produce una imagen que has visto?, dtype: float64"
      ]
     },
     "metadata": {},
     "output_type": "display_data"
    },
    {
     "data": {
      "application/vnd.plotly.v1+json": {
       "config": {
        "linkText": "Export to plot.ly",
        "plotlyServerURL": "https://plot.ly",
        "showLink": false
       },
       "data": [
        {
         "marker": {
          "color": [
           "rgb(213,62,79)",
           "rgb(252,141,89)",
           "rgb(254,224,139)",
           "rgb(230,245,152)",
           "rgb(153,213,148)",
           "rgb(50,136,189)"
          ]
         },
         "type": "bar",
         "uid": "2d743bda-2afa-4f5f-948c-1b438a196590",
         "x": [
          1,
          2,
          3,
          4,
          5
         ],
         "y": [
          10,
          42,
          82,
          46,
          16
         ]
        }
       ],
       "layout": {
        "bargap": 0.2,
        "xaxis": {
         "ticktext": [
          "1. Nunca",
          "2. Muy pocas veces",
          "3. En ocasiones",
          "4. Bastantes veces",
          "5. Casi siempre o siempre"
         ],
         "tickvals": [
          1,
          2,
          3,
          4,
          5
         ]
        }
       }
      },
      "text/html": [
       "<div id=\"9d31938a-6f79-483c-a939-1ab9f859dd97\" style=\"height: 525px; width: 100%;\" class=\"plotly-graph-div\"></div><script type=\"text/javascript\">require([\"plotly\"], function(Plotly) { window.PLOTLYENV=window.PLOTLYENV || {};window.PLOTLYENV.BASE_URL=\"https://plot.ly\";\n",
       "if (document.getElementById(\"9d31938a-6f79-483c-a939-1ab9f859dd97\")) {\n",
       "    Plotly.newPlot(\"9d31938a-6f79-483c-a939-1ab9f859dd97\", [{\"marker\": {\"color\": [\"rgb(213,62,79)\", \"rgb(252,141,89)\", \"rgb(254,224,139)\", \"rgb(230,245,152)\", \"rgb(153,213,148)\", \"rgb(50,136,189)\"]}, \"x\": [1, 2, 3, 4, 5], \"y\": [10, 42, 82, 46, 16], \"type\": \"bar\", \"uid\": \"2d743bda-2afa-4f5f-948c-1b438a196590\"}], {\"bargap\": 0.2, \"xaxis\": {\"ticktext\": [\"1. Nunca\", \"2. Muy pocas veces\", \"3. En ocasiones\", \"4. Bastantes veces\", \"5. Casi siempre o siempre\"], \"tickvals\": [1, 2, 3, 4, 5]}}, {\"showLink\": false, \"linkText\": \"Export to plot.ly\", \"plotlyServerURL\": \"https://plot.ly\"}); \n",
       "}\n",
       "});</script><script type=\"text/javascript\">window.addEventListener(\"resize\", function(){if (document.getElementById(\"9d31938a-6f79-483c-a939-1ab9f859dd97\")) {window._Plotly.Plots.resize(document.getElementById(\"9d31938a-6f79-483c-a939-1ab9f859dd97\"));};})</script>"
      ],
      "text/vnd.plotly.v1+html": [
       "<div id=\"9d31938a-6f79-483c-a939-1ab9f859dd97\" style=\"height: 525px; width: 100%;\" class=\"plotly-graph-div\"></div><script type=\"text/javascript\">require([\"plotly\"], function(Plotly) { window.PLOTLYENV=window.PLOTLYENV || {};window.PLOTLYENV.BASE_URL=\"https://plot.ly\";\n",
       "if (document.getElementById(\"9d31938a-6f79-483c-a939-1ab9f859dd97\")) {\n",
       "    Plotly.newPlot(\"9d31938a-6f79-483c-a939-1ab9f859dd97\", [{\"marker\": {\"color\": [\"rgb(213,62,79)\", \"rgb(252,141,89)\", \"rgb(254,224,139)\", \"rgb(230,245,152)\", \"rgb(153,213,148)\", \"rgb(50,136,189)\"]}, \"x\": [1, 2, 3, 4, 5], \"y\": [10, 42, 82, 46, 16], \"type\": \"bar\", \"uid\": \"2d743bda-2afa-4f5f-948c-1b438a196590\"}], {\"bargap\": 0.2, \"xaxis\": {\"ticktext\": [\"1. Nunca\", \"2. Muy pocas veces\", \"3. En ocasiones\", \"4. Bastantes veces\", \"5. Casi siempre o siempre\"], \"tickvals\": [1, 2, 3, 4, 5]}}, {\"showLink\": false, \"linkText\": \"Export to plot.ly\", \"plotlyServerURL\": \"https://plot.ly\"}); \n",
       "}\n",
       "});</script><script type=\"text/javascript\">window.addEventListener(\"resize\", function(){if (document.getElementById(\"9d31938a-6f79-483c-a939-1ab9f859dd97\")) {window._Plotly.Plots.resize(document.getElementById(\"9d31938a-6f79-483c-a939-1ab9f859dd97\"));};})</script>"
      ]
     },
     "metadata": {},
     "output_type": "display_data"
    },
    {
     "name": "stdout",
     "output_type": "stream",
     "text": [
      "\n",
      "\n",
      "Cluster 4 || variable: Cuando te encuentras con una imagen, ¿intentas entender con qué intención está hecha?\n",
      "Describiendo la pregunta Cuando te encuentras con una imagen, ¿intentas entender con qué intención está hecha?\n",
      "Valores numéricos asociados a las respuestas [1, 2, 3, 4, 5]\n",
      "Respuestas posibles a la pregunta/variable ['1. Nunca', '2. Muy pocas veces', '3. En ocasiones', '4. Bastantes veces', '5. Casi siempre o siempre']\n"
     ]
    },
    {
     "data": {
      "text/plain": [
       "count    98.000000\n",
       "mean      4.295918\n",
       "std       0.852034\n",
       "min       2.000000\n",
       "25%       4.000000\n",
       "50%       5.000000\n",
       "75%       5.000000\n",
       "max       5.000000\n",
       "Name: Cuando te encuentras con una imagen, ¿intentas entender con qué intención está hecha?, dtype: float64"
      ]
     },
     "metadata": {},
     "output_type": "display_data"
    },
    {
     "name": "stdout",
     "output_type": "stream",
     "text": [
      "Conteo de cada valor en Cuando te encuentras con una imagen, ¿intentas entender con qué intención está hecha? expresada como valor / cantidad\n"
     ]
    },
    {
     "data": {
      "text/plain": [
       "2     4\n",
       "3    13\n",
       "4    31\n",
       "5    50\n",
       "Name: Cuando te encuentras con una imagen, ¿intentas entender con qué intención está hecha?, dtype: int64"
      ]
     },
     "metadata": {},
     "output_type": "display_data"
    },
    {
     "name": "stdout",
     "output_type": "stream",
     "text": [
      "Porcentaje de cada valor en Cuando te encuentras con una imagen, ¿intentas entender con qué intención está hecha? expresado como valor / porcentaje\n"
     ]
    },
    {
     "data": {
      "text/plain": [
       "2     4.08\n",
       "3    13.27\n",
       "4    31.63\n",
       "5    51.02\n",
       "Name: Cuando te encuentras con una imagen, ¿intentas entender con qué intención está hecha?, dtype: float64"
      ]
     },
     "metadata": {},
     "output_type": "display_data"
    },
    {
     "data": {
      "application/vnd.plotly.v1+json": {
       "config": {
        "linkText": "Export to plot.ly",
        "plotlyServerURL": "https://plot.ly",
        "showLink": false
       },
       "data": [
        {
         "marker": {
          "color": [
           "rgb(213,62,79)",
           "rgb(252,141,89)",
           "rgb(254,224,139)",
           "rgb(230,245,152)",
           "rgb(153,213,148)",
           "rgb(50,136,189)"
          ]
         },
         "type": "bar",
         "uid": "48e395fc-f5fb-4512-be72-85355f2c9e66",
         "x": [
          2,
          3,
          4,
          5
         ],
         "y": [
          4,
          13,
          31,
          50
         ]
        }
       ],
       "layout": {
        "bargap": 0.2,
        "xaxis": {
         "ticktext": [
          "1. Nunca",
          "2. Muy pocas veces",
          "3. En ocasiones",
          "4. Bastantes veces",
          "5. Casi siempre o siempre"
         ],
         "tickvals": [
          1,
          2,
          3,
          4,
          5
         ]
        }
       }
      },
      "text/html": [
       "<div id=\"97835346-a43f-4f45-b6c2-6ac64a093e6f\" style=\"height: 525px; width: 100%;\" class=\"plotly-graph-div\"></div><script type=\"text/javascript\">require([\"plotly\"], function(Plotly) { window.PLOTLYENV=window.PLOTLYENV || {};window.PLOTLYENV.BASE_URL=\"https://plot.ly\";\n",
       "if (document.getElementById(\"97835346-a43f-4f45-b6c2-6ac64a093e6f\")) {\n",
       "    Plotly.newPlot(\"97835346-a43f-4f45-b6c2-6ac64a093e6f\", [{\"marker\": {\"color\": [\"rgb(213,62,79)\", \"rgb(252,141,89)\", \"rgb(254,224,139)\", \"rgb(230,245,152)\", \"rgb(153,213,148)\", \"rgb(50,136,189)\"]}, \"x\": [2, 3, 4, 5], \"y\": [4, 13, 31, 50], \"type\": \"bar\", \"uid\": \"48e395fc-f5fb-4512-be72-85355f2c9e66\"}], {\"bargap\": 0.2, \"xaxis\": {\"ticktext\": [\"1. Nunca\", \"2. Muy pocas veces\", \"3. En ocasiones\", \"4. Bastantes veces\", \"5. Casi siempre o siempre\"], \"tickvals\": [1, 2, 3, 4, 5]}}, {\"showLink\": false, \"linkText\": \"Export to plot.ly\", \"plotlyServerURL\": \"https://plot.ly\"}); \n",
       "}\n",
       "});</script><script type=\"text/javascript\">window.addEventListener(\"resize\", function(){if (document.getElementById(\"97835346-a43f-4f45-b6c2-6ac64a093e6f\")) {window._Plotly.Plots.resize(document.getElementById(\"97835346-a43f-4f45-b6c2-6ac64a093e6f\"));};})</script>"
      ],
      "text/vnd.plotly.v1+html": [
       "<div id=\"97835346-a43f-4f45-b6c2-6ac64a093e6f\" style=\"height: 525px; width: 100%;\" class=\"plotly-graph-div\"></div><script type=\"text/javascript\">require([\"plotly\"], function(Plotly) { window.PLOTLYENV=window.PLOTLYENV || {};window.PLOTLYENV.BASE_URL=\"https://plot.ly\";\n",
       "if (document.getElementById(\"97835346-a43f-4f45-b6c2-6ac64a093e6f\")) {\n",
       "    Plotly.newPlot(\"97835346-a43f-4f45-b6c2-6ac64a093e6f\", [{\"marker\": {\"color\": [\"rgb(213,62,79)\", \"rgb(252,141,89)\", \"rgb(254,224,139)\", \"rgb(230,245,152)\", \"rgb(153,213,148)\", \"rgb(50,136,189)\"]}, \"x\": [2, 3, 4, 5], \"y\": [4, 13, 31, 50], \"type\": \"bar\", \"uid\": \"48e395fc-f5fb-4512-be72-85355f2c9e66\"}], {\"bargap\": 0.2, \"xaxis\": {\"ticktext\": [\"1. Nunca\", \"2. Muy pocas veces\", \"3. En ocasiones\", \"4. Bastantes veces\", \"5. Casi siempre o siempre\"], \"tickvals\": [1, 2, 3, 4, 5]}}, {\"showLink\": false, \"linkText\": \"Export to plot.ly\", \"plotlyServerURL\": \"https://plot.ly\"}); \n",
       "}\n",
       "});</script><script type=\"text/javascript\">window.addEventListener(\"resize\", function(){if (document.getElementById(\"97835346-a43f-4f45-b6c2-6ac64a093e6f\")) {window._Plotly.Plots.resize(document.getElementById(\"97835346-a43f-4f45-b6c2-6ac64a093e6f\"));};})</script>"
      ]
     },
     "metadata": {},
     "output_type": "display_data"
    },
    {
     "name": "stdout",
     "output_type": "stream",
     "text": [
      "\n",
      "\n",
      "Cluster 4 || variable: Cuando recibes o consumes una imagen, ¿la comparas con tu propia realidad? ¿Intentas encontrar en tu entorno cierto parecido?\n",
      "Describiendo la pregunta Cuando recibes o consumes una imagen, ¿la comparas con tu propia realidad? ¿Intentas encontrar en tu entorno cierto parecido?\n",
      "Valores numéricos asociados a las respuestas [1, 2, 3, 4, 5]\n",
      "Respuestas posibles a la pregunta/variable ['1. Nunca', '2. Muy pocas veces', '3. En ocasiones', '4. Bastantes veces', '5. Casi siempre o siempre']\n"
     ]
    },
    {
     "data": {
      "text/plain": [
       "count    98.000000\n",
       "mean      3.887755\n",
       "std       0.784944\n",
       "min       2.000000\n",
       "25%       3.000000\n",
       "50%       4.000000\n",
       "75%       4.000000\n",
       "max       5.000000\n",
       "Name: Cuando recibes o consumes una imagen, ¿la comparas con tu propia realidad? ¿Intentas encontrar en tu entorno cierto parecido?, dtype: float64"
      ]
     },
     "metadata": {},
     "output_type": "display_data"
    },
    {
     "name": "stdout",
     "output_type": "stream",
     "text": [
      "Conteo de cada valor en Cuando recibes o consumes una imagen, ¿la comparas con tu propia realidad? ¿Intentas encontrar en tu entorno cierto parecido? expresada como valor / cantidad\n"
     ]
    },
    {
     "data": {
      "text/plain": [
       "2     3\n",
       "3    27\n",
       "4    46\n",
       "5    22\n",
       "Name: Cuando recibes o consumes una imagen, ¿la comparas con tu propia realidad? ¿Intentas encontrar en tu entorno cierto parecido?, dtype: int64"
      ]
     },
     "metadata": {},
     "output_type": "display_data"
    },
    {
     "name": "stdout",
     "output_type": "stream",
     "text": [
      "Porcentaje de cada valor en Cuando recibes o consumes una imagen, ¿la comparas con tu propia realidad? ¿Intentas encontrar en tu entorno cierto parecido? expresado como valor / porcentaje\n"
     ]
    },
    {
     "data": {
      "text/plain": [
       "2     3.06\n",
       "3    27.55\n",
       "4    46.94\n",
       "5    22.45\n",
       "Name: Cuando recibes o consumes una imagen, ¿la comparas con tu propia realidad? ¿Intentas encontrar en tu entorno cierto parecido?, dtype: float64"
      ]
     },
     "metadata": {},
     "output_type": "display_data"
    },
    {
     "data": {
      "application/vnd.plotly.v1+json": {
       "config": {
        "linkText": "Export to plot.ly",
        "plotlyServerURL": "https://plot.ly",
        "showLink": false
       },
       "data": [
        {
         "marker": {
          "color": [
           "rgb(213,62,79)",
           "rgb(252,141,89)",
           "rgb(254,224,139)",
           "rgb(230,245,152)",
           "rgb(153,213,148)",
           "rgb(50,136,189)"
          ]
         },
         "type": "bar",
         "uid": "1c48ad75-8f16-43d7-a999-38326efaa200",
         "x": [
          2,
          3,
          4,
          5
         ],
         "y": [
          3,
          27,
          46,
          22
         ]
        }
       ],
       "layout": {
        "bargap": 0.2,
        "xaxis": {
         "ticktext": [
          "1. Nunca",
          "2. Muy pocas veces",
          "3. En ocasiones",
          "4. Bastantes veces",
          "5. Casi siempre o siempre"
         ],
         "tickvals": [
          1,
          2,
          3,
          4,
          5
         ]
        }
       }
      },
      "text/html": [
       "<div id=\"685f75ae-2017-447a-995b-176f99bb16b3\" style=\"height: 525px; width: 100%;\" class=\"plotly-graph-div\"></div><script type=\"text/javascript\">require([\"plotly\"], function(Plotly) { window.PLOTLYENV=window.PLOTLYENV || {};window.PLOTLYENV.BASE_URL=\"https://plot.ly\";\n",
       "if (document.getElementById(\"685f75ae-2017-447a-995b-176f99bb16b3\")) {\n",
       "    Plotly.newPlot(\"685f75ae-2017-447a-995b-176f99bb16b3\", [{\"marker\": {\"color\": [\"rgb(213,62,79)\", \"rgb(252,141,89)\", \"rgb(254,224,139)\", \"rgb(230,245,152)\", \"rgb(153,213,148)\", \"rgb(50,136,189)\"]}, \"x\": [2, 3, 4, 5], \"y\": [3, 27, 46, 22], \"type\": \"bar\", \"uid\": \"1c48ad75-8f16-43d7-a999-38326efaa200\"}], {\"bargap\": 0.2, \"xaxis\": {\"ticktext\": [\"1. Nunca\", \"2. Muy pocas veces\", \"3. En ocasiones\", \"4. Bastantes veces\", \"5. Casi siempre o siempre\"], \"tickvals\": [1, 2, 3, 4, 5]}}, {\"showLink\": false, \"linkText\": \"Export to plot.ly\", \"plotlyServerURL\": \"https://plot.ly\"}); \n",
       "}\n",
       "});</script><script type=\"text/javascript\">window.addEventListener(\"resize\", function(){if (document.getElementById(\"685f75ae-2017-447a-995b-176f99bb16b3\")) {window._Plotly.Plots.resize(document.getElementById(\"685f75ae-2017-447a-995b-176f99bb16b3\"));};})</script>"
      ],
      "text/vnd.plotly.v1+html": [
       "<div id=\"685f75ae-2017-447a-995b-176f99bb16b3\" style=\"height: 525px; width: 100%;\" class=\"plotly-graph-div\"></div><script type=\"text/javascript\">require([\"plotly\"], function(Plotly) { window.PLOTLYENV=window.PLOTLYENV || {};window.PLOTLYENV.BASE_URL=\"https://plot.ly\";\n",
       "if (document.getElementById(\"685f75ae-2017-447a-995b-176f99bb16b3\")) {\n",
       "    Plotly.newPlot(\"685f75ae-2017-447a-995b-176f99bb16b3\", [{\"marker\": {\"color\": [\"rgb(213,62,79)\", \"rgb(252,141,89)\", \"rgb(254,224,139)\", \"rgb(230,245,152)\", \"rgb(153,213,148)\", \"rgb(50,136,189)\"]}, \"x\": [2, 3, 4, 5], \"y\": [3, 27, 46, 22], \"type\": \"bar\", \"uid\": \"1c48ad75-8f16-43d7-a999-38326efaa200\"}], {\"bargap\": 0.2, \"xaxis\": {\"ticktext\": [\"1. Nunca\", \"2. Muy pocas veces\", \"3. En ocasiones\", \"4. Bastantes veces\", \"5. Casi siempre o siempre\"], \"tickvals\": [1, 2, 3, 4, 5]}}, {\"showLink\": false, \"linkText\": \"Export to plot.ly\", \"plotlyServerURL\": \"https://plot.ly\"}); \n",
       "}\n",
       "});</script><script type=\"text/javascript\">window.addEventListener(\"resize\", function(){if (document.getElementById(\"685f75ae-2017-447a-995b-176f99bb16b3\")) {window._Plotly.Plots.resize(document.getElementById(\"685f75ae-2017-447a-995b-176f99bb16b3\"));};})</script>"
      ]
     },
     "metadata": {},
     "output_type": "display_data"
    },
    {
     "name": "stdout",
     "output_type": "stream",
     "text": [
      "\n",
      "\n",
      "Cluster 4 || variable: Cuando recibes o consumes una imagen, ¿piensas en el modo en que fue obtenida (técnicamente)?\n",
      "Describiendo la pregunta Cuando recibes o consumes una imagen, ¿piensas en el modo en que fue obtenida (técnicamente)?\n",
      "Valores numéricos asociados a las respuestas [1, 2, 3, 4, 5]\n",
      "Respuestas posibles a la pregunta/variable ['1. Nunca', '2. Muy pocas veces', '3. En ocasiones', '4. Bastantes veces', '5. Casi siempre o siempre']\n"
     ]
    },
    {
     "data": {
      "text/plain": [
       "count    98.000000\n",
       "mean      3.693878\n",
       "std       1.019482\n",
       "min       1.000000\n",
       "25%       3.000000\n",
       "50%       4.000000\n",
       "75%       4.000000\n",
       "max       5.000000\n",
       "Name: Cuando recibes o consumes una imagen, ¿piensas en el modo en que fue obtenida (técnicamente)?, dtype: float64"
      ]
     },
     "metadata": {},
     "output_type": "display_data"
    },
    {
     "name": "stdout",
     "output_type": "stream",
     "text": [
      "Conteo de cada valor en Cuando recibes o consumes una imagen, ¿piensas en el modo en que fue obtenida (técnicamente)? expresada como valor / cantidad\n"
     ]
    },
    {
     "data": {
      "text/plain": [
       "1     2\n",
       "2    10\n",
       "3    28\n",
       "4    34\n",
       "5    24\n",
       "Name: Cuando recibes o consumes una imagen, ¿piensas en el modo en que fue obtenida (técnicamente)?, dtype: int64"
      ]
     },
     "metadata": {},
     "output_type": "display_data"
    },
    {
     "name": "stdout",
     "output_type": "stream",
     "text": [
      "Porcentaje de cada valor en Cuando recibes o consumes una imagen, ¿piensas en el modo en que fue obtenida (técnicamente)? expresado como valor / porcentaje\n"
     ]
    },
    {
     "data": {
      "text/plain": [
       "1     2.04\n",
       "2    10.20\n",
       "3    28.57\n",
       "4    34.69\n",
       "5    24.49\n",
       "Name: Cuando recibes o consumes una imagen, ¿piensas en el modo en que fue obtenida (técnicamente)?, dtype: float64"
      ]
     },
     "metadata": {},
     "output_type": "display_data"
    },
    {
     "data": {
      "application/vnd.plotly.v1+json": {
       "config": {
        "linkText": "Export to plot.ly",
        "plotlyServerURL": "https://plot.ly",
        "showLink": false
       },
       "data": [
        {
         "marker": {
          "color": [
           "rgb(213,62,79)",
           "rgb(252,141,89)",
           "rgb(254,224,139)",
           "rgb(230,245,152)",
           "rgb(153,213,148)",
           "rgb(50,136,189)"
          ]
         },
         "type": "bar",
         "uid": "a820fba6-9fed-4009-b8bc-7c982ee01241",
         "x": [
          1,
          2,
          3,
          4,
          5
         ],
         "y": [
          2,
          10,
          28,
          34,
          24
         ]
        }
       ],
       "layout": {
        "bargap": 0.2,
        "xaxis": {
         "ticktext": [
          "1. Nunca",
          "2. Muy pocas veces",
          "3. En ocasiones",
          "4. Bastantes veces",
          "5. Casi siempre o siempre"
         ],
         "tickvals": [
          1,
          2,
          3,
          4,
          5
         ]
        }
       }
      },
      "text/html": [
       "<div id=\"c68f04c8-47a8-4f0a-9a41-ef84e23b4fd1\" style=\"height: 525px; width: 100%;\" class=\"plotly-graph-div\"></div><script type=\"text/javascript\">require([\"plotly\"], function(Plotly) { window.PLOTLYENV=window.PLOTLYENV || {};window.PLOTLYENV.BASE_URL=\"https://plot.ly\";\n",
       "if (document.getElementById(\"c68f04c8-47a8-4f0a-9a41-ef84e23b4fd1\")) {\n",
       "    Plotly.newPlot(\"c68f04c8-47a8-4f0a-9a41-ef84e23b4fd1\", [{\"marker\": {\"color\": [\"rgb(213,62,79)\", \"rgb(252,141,89)\", \"rgb(254,224,139)\", \"rgb(230,245,152)\", \"rgb(153,213,148)\", \"rgb(50,136,189)\"]}, \"x\": [1, 2, 3, 4, 5], \"y\": [2, 10, 28, 34, 24], \"type\": \"bar\", \"uid\": \"a820fba6-9fed-4009-b8bc-7c982ee01241\"}], {\"bargap\": 0.2, \"xaxis\": {\"ticktext\": [\"1. Nunca\", \"2. Muy pocas veces\", \"3. En ocasiones\", \"4. Bastantes veces\", \"5. Casi siempre o siempre\"], \"tickvals\": [1, 2, 3, 4, 5]}}, {\"showLink\": false, \"linkText\": \"Export to plot.ly\", \"plotlyServerURL\": \"https://plot.ly\"}); \n",
       "}\n",
       "});</script><script type=\"text/javascript\">window.addEventListener(\"resize\", function(){if (document.getElementById(\"c68f04c8-47a8-4f0a-9a41-ef84e23b4fd1\")) {window._Plotly.Plots.resize(document.getElementById(\"c68f04c8-47a8-4f0a-9a41-ef84e23b4fd1\"));};})</script>"
      ],
      "text/vnd.plotly.v1+html": [
       "<div id=\"c68f04c8-47a8-4f0a-9a41-ef84e23b4fd1\" style=\"height: 525px; width: 100%;\" class=\"plotly-graph-div\"></div><script type=\"text/javascript\">require([\"plotly\"], function(Plotly) { window.PLOTLYENV=window.PLOTLYENV || {};window.PLOTLYENV.BASE_URL=\"https://plot.ly\";\n",
       "if (document.getElementById(\"c68f04c8-47a8-4f0a-9a41-ef84e23b4fd1\")) {\n",
       "    Plotly.newPlot(\"c68f04c8-47a8-4f0a-9a41-ef84e23b4fd1\", [{\"marker\": {\"color\": [\"rgb(213,62,79)\", \"rgb(252,141,89)\", \"rgb(254,224,139)\", \"rgb(230,245,152)\", \"rgb(153,213,148)\", \"rgb(50,136,189)\"]}, \"x\": [1, 2, 3, 4, 5], \"y\": [2, 10, 28, 34, 24], \"type\": \"bar\", \"uid\": \"a820fba6-9fed-4009-b8bc-7c982ee01241\"}], {\"bargap\": 0.2, \"xaxis\": {\"ticktext\": [\"1. Nunca\", \"2. Muy pocas veces\", \"3. En ocasiones\", \"4. Bastantes veces\", \"5. Casi siempre o siempre\"], \"tickvals\": [1, 2, 3, 4, 5]}}, {\"showLink\": false, \"linkText\": \"Export to plot.ly\", \"plotlyServerURL\": \"https://plot.ly\"}); \n",
       "}\n",
       "});</script><script type=\"text/javascript\">window.addEventListener(\"resize\", function(){if (document.getElementById(\"c68f04c8-47a8-4f0a-9a41-ef84e23b4fd1\")) {window._Plotly.Plots.resize(document.getElementById(\"c68f04c8-47a8-4f0a-9a41-ef84e23b4fd1\"));};})</script>"
      ]
     },
     "metadata": {},
     "output_type": "display_data"
    },
    {
     "name": "stdout",
     "output_type": "stream",
     "text": [
      "\n",
      "\n",
      "Cluster 4 || variable: Cuando observas una imagen, ¿te preguntas cosas acerca de los personajes/objetos que aparecen en la misma?\n",
      "Describiendo la pregunta Cuando observas una imagen, ¿te preguntas cosas acerca de los personajes/objetos que aparecen en la misma?\n",
      "Valores numéricos asociados a las respuestas [1, 2, 3, 4, 5]\n",
      "Respuestas posibles a la pregunta/variable ['1. Nunca', '2. Muy pocas veces', '3. En ocasiones', '4. Bastantes veces', '5. Casi siempre o siempre']\n"
     ]
    },
    {
     "data": {
      "text/plain": [
       "count    98.000000\n",
       "mean      4.030612\n",
       "std       0.854992\n",
       "min       2.000000\n",
       "25%       3.000000\n",
       "50%       4.000000\n",
       "75%       5.000000\n",
       "max       5.000000\n",
       "Name: Cuando observas una imagen, ¿te preguntas cosas acerca de los personajes/objetos que aparecen en la misma?, dtype: float64"
      ]
     },
     "metadata": {},
     "output_type": "display_data"
    },
    {
     "name": "stdout",
     "output_type": "stream",
     "text": [
      "Conteo de cada valor en Cuando observas una imagen, ¿te preguntas cosas acerca de los personajes/objetos que aparecen en la misma? expresada como valor / cantidad\n"
     ]
    },
    {
     "data": {
      "text/plain": [
       "2     3\n",
       "3    25\n",
       "4    36\n",
       "5    34\n",
       "Name: Cuando observas una imagen, ¿te preguntas cosas acerca de los personajes/objetos que aparecen en la misma?, dtype: int64"
      ]
     },
     "metadata": {},
     "output_type": "display_data"
    },
    {
     "name": "stdout",
     "output_type": "stream",
     "text": [
      "Porcentaje de cada valor en Cuando observas una imagen, ¿te preguntas cosas acerca de los personajes/objetos que aparecen en la misma? expresado como valor / porcentaje\n"
     ]
    },
    {
     "data": {
      "text/plain": [
       "2     3.06\n",
       "3    25.51\n",
       "4    36.73\n",
       "5    34.69\n",
       "Name: Cuando observas una imagen, ¿te preguntas cosas acerca de los personajes/objetos que aparecen en la misma?, dtype: float64"
      ]
     },
     "metadata": {},
     "output_type": "display_data"
    },
    {
     "data": {
      "application/vnd.plotly.v1+json": {
       "config": {
        "linkText": "Export to plot.ly",
        "plotlyServerURL": "https://plot.ly",
        "showLink": false
       },
       "data": [
        {
         "marker": {
          "color": [
           "rgb(213,62,79)",
           "rgb(252,141,89)",
           "rgb(254,224,139)",
           "rgb(230,245,152)",
           "rgb(153,213,148)",
           "rgb(50,136,189)"
          ]
         },
         "type": "bar",
         "uid": "0bfe4403-1a0b-4ff1-a186-cb139c0a456d",
         "x": [
          2,
          3,
          4,
          5
         ],
         "y": [
          3,
          25,
          36,
          34
         ]
        }
       ],
       "layout": {
        "bargap": 0.2,
        "xaxis": {
         "ticktext": [
          "1. Nunca",
          "2. Muy pocas veces",
          "3. En ocasiones",
          "4. Bastantes veces",
          "5. Casi siempre o siempre"
         ],
         "tickvals": [
          1,
          2,
          3,
          4,
          5
         ]
        }
       }
      },
      "text/html": [
       "<div id=\"2594b539-a80a-437d-a86d-61bc7d0124ae\" style=\"height: 525px; width: 100%;\" class=\"plotly-graph-div\"></div><script type=\"text/javascript\">require([\"plotly\"], function(Plotly) { window.PLOTLYENV=window.PLOTLYENV || {};window.PLOTLYENV.BASE_URL=\"https://plot.ly\";\n",
       "if (document.getElementById(\"2594b539-a80a-437d-a86d-61bc7d0124ae\")) {\n",
       "    Plotly.newPlot(\"2594b539-a80a-437d-a86d-61bc7d0124ae\", [{\"marker\": {\"color\": [\"rgb(213,62,79)\", \"rgb(252,141,89)\", \"rgb(254,224,139)\", \"rgb(230,245,152)\", \"rgb(153,213,148)\", \"rgb(50,136,189)\"]}, \"x\": [2, 3, 4, 5], \"y\": [3, 25, 36, 34], \"type\": \"bar\", \"uid\": \"0bfe4403-1a0b-4ff1-a186-cb139c0a456d\"}], {\"bargap\": 0.2, \"xaxis\": {\"ticktext\": [\"1. Nunca\", \"2. Muy pocas veces\", \"3. En ocasiones\", \"4. Bastantes veces\", \"5. Casi siempre o siempre\"], \"tickvals\": [1, 2, 3, 4, 5]}}, {\"showLink\": false, \"linkText\": \"Export to plot.ly\", \"plotlyServerURL\": \"https://plot.ly\"}); \n",
       "}\n",
       "});</script><script type=\"text/javascript\">window.addEventListener(\"resize\", function(){if (document.getElementById(\"2594b539-a80a-437d-a86d-61bc7d0124ae\")) {window._Plotly.Plots.resize(document.getElementById(\"2594b539-a80a-437d-a86d-61bc7d0124ae\"));};})</script>"
      ],
      "text/vnd.plotly.v1+html": [
       "<div id=\"2594b539-a80a-437d-a86d-61bc7d0124ae\" style=\"height: 525px; width: 100%;\" class=\"plotly-graph-div\"></div><script type=\"text/javascript\">require([\"plotly\"], function(Plotly) { window.PLOTLYENV=window.PLOTLYENV || {};window.PLOTLYENV.BASE_URL=\"https://plot.ly\";\n",
       "if (document.getElementById(\"2594b539-a80a-437d-a86d-61bc7d0124ae\")) {\n",
       "    Plotly.newPlot(\"2594b539-a80a-437d-a86d-61bc7d0124ae\", [{\"marker\": {\"color\": [\"rgb(213,62,79)\", \"rgb(252,141,89)\", \"rgb(254,224,139)\", \"rgb(230,245,152)\", \"rgb(153,213,148)\", \"rgb(50,136,189)\"]}, \"x\": [2, 3, 4, 5], \"y\": [3, 25, 36, 34], \"type\": \"bar\", \"uid\": \"0bfe4403-1a0b-4ff1-a186-cb139c0a456d\"}], {\"bargap\": 0.2, \"xaxis\": {\"ticktext\": [\"1. Nunca\", \"2. Muy pocas veces\", \"3. En ocasiones\", \"4. Bastantes veces\", \"5. Casi siempre o siempre\"], \"tickvals\": [1, 2, 3, 4, 5]}}, {\"showLink\": false, \"linkText\": \"Export to plot.ly\", \"plotlyServerURL\": \"https://plot.ly\"}); \n",
       "}\n",
       "});</script><script type=\"text/javascript\">window.addEventListener(\"resize\", function(){if (document.getElementById(\"2594b539-a80a-437d-a86d-61bc7d0124ae\")) {window._Plotly.Plots.resize(document.getElementById(\"2594b539-a80a-437d-a86d-61bc7d0124ae\"));};})</script>"
      ]
     },
     "metadata": {},
     "output_type": "display_data"
    },
    {
     "name": "stdout",
     "output_type": "stream",
     "text": [
      "\n",
      "\n",
      "Cluster 4 || variable: ¿Entiendes, generalmente, las intenciones que tiene el autor de una imagen cuando la ves y la compartes?\n",
      "Describiendo la pregunta ¿Entiendes, generalmente, las intenciones que tiene el autor de una imagen cuando la ves y la compartes?\n",
      "Valores numéricos asociados a las respuestas [1, 2, 3, 4, 5]\n",
      "Respuestas posibles a la pregunta/variable ['1. Never', '2. Very rarely', '3. Occasionally', '4. Several times', '5. Almost always or always']\n"
     ]
    },
    {
     "data": {
      "text/plain": [
       "count    98.000000\n",
       "mean      3.928571\n",
       "std       0.776590\n",
       "min       2.000000\n",
       "25%       3.000000\n",
       "50%       4.000000\n",
       "75%       4.000000\n",
       "max       5.000000\n",
       "Name: ¿Entiendes, generalmente, las intenciones que tiene el autor de una imagen cuando la ves y la compartes?, dtype: float64"
      ]
     },
     "metadata": {},
     "output_type": "display_data"
    },
    {
     "name": "stdout",
     "output_type": "stream",
     "text": [
      "Conteo de cada valor en ¿Entiendes, generalmente, las intenciones que tiene el autor de una imagen cuando la ves y la compartes? expresada como valor / cantidad\n"
     ]
    },
    {
     "data": {
      "text/plain": [
       "2     3\n",
       "3    24\n",
       "4    48\n",
       "5    23\n",
       "Name: ¿Entiendes, generalmente, las intenciones que tiene el autor de una imagen cuando la ves y la compartes?, dtype: int64"
      ]
     },
     "metadata": {},
     "output_type": "display_data"
    },
    {
     "name": "stdout",
     "output_type": "stream",
     "text": [
      "Porcentaje de cada valor en ¿Entiendes, generalmente, las intenciones que tiene el autor de una imagen cuando la ves y la compartes? expresado como valor / porcentaje\n"
     ]
    },
    {
     "data": {
      "text/plain": [
       "2     3.06\n",
       "3    24.49\n",
       "4    48.98\n",
       "5    23.47\n",
       "Name: ¿Entiendes, generalmente, las intenciones que tiene el autor de una imagen cuando la ves y la compartes?, dtype: float64"
      ]
     },
     "metadata": {},
     "output_type": "display_data"
    },
    {
     "data": {
      "application/vnd.plotly.v1+json": {
       "config": {
        "linkText": "Export to plot.ly",
        "plotlyServerURL": "https://plot.ly",
        "showLink": false
       },
       "data": [
        {
         "marker": {
          "color": [
           "rgb(213,62,79)",
           "rgb(252,141,89)",
           "rgb(254,224,139)",
           "rgb(230,245,152)",
           "rgb(153,213,148)",
           "rgb(50,136,189)"
          ]
         },
         "type": "bar",
         "uid": "77cff031-cd53-46bd-900d-5e5b937cc1e0",
         "x": [
          2,
          3,
          4,
          5
         ],
         "y": [
          3,
          24,
          48,
          23
         ]
        }
       ],
       "layout": {
        "bargap": 0.2,
        "xaxis": {
         "ticktext": [
          "1. Never",
          "2. Very rarely",
          "3. Occasionally",
          "4. Several times",
          "5. Almost always or always"
         ],
         "tickvals": [
          1,
          2,
          3,
          4,
          5
         ]
        }
       }
      },
      "text/html": [
       "<div id=\"402d0e5c-814e-4319-9ad2-faa97c4323bd\" style=\"height: 525px; width: 100%;\" class=\"plotly-graph-div\"></div><script type=\"text/javascript\">require([\"plotly\"], function(Plotly) { window.PLOTLYENV=window.PLOTLYENV || {};window.PLOTLYENV.BASE_URL=\"https://plot.ly\";\n",
       "if (document.getElementById(\"402d0e5c-814e-4319-9ad2-faa97c4323bd\")) {\n",
       "    Plotly.newPlot(\"402d0e5c-814e-4319-9ad2-faa97c4323bd\", [{\"marker\": {\"color\": [\"rgb(213,62,79)\", \"rgb(252,141,89)\", \"rgb(254,224,139)\", \"rgb(230,245,152)\", \"rgb(153,213,148)\", \"rgb(50,136,189)\"]}, \"x\": [2, 3, 4, 5], \"y\": [3, 24, 48, 23], \"type\": \"bar\", \"uid\": \"77cff031-cd53-46bd-900d-5e5b937cc1e0\"}], {\"bargap\": 0.2, \"xaxis\": {\"ticktext\": [\"1. Never\", \"2. Very rarely\", \"3. Occasionally\", \"4. Several times\", \"5. Almost always or always\"], \"tickvals\": [1, 2, 3, 4, 5]}}, {\"showLink\": false, \"linkText\": \"Export to plot.ly\", \"plotlyServerURL\": \"https://plot.ly\"}); \n",
       "}\n",
       "});</script><script type=\"text/javascript\">window.addEventListener(\"resize\", function(){if (document.getElementById(\"402d0e5c-814e-4319-9ad2-faa97c4323bd\")) {window._Plotly.Plots.resize(document.getElementById(\"402d0e5c-814e-4319-9ad2-faa97c4323bd\"));};})</script>"
      ],
      "text/vnd.plotly.v1+html": [
       "<div id=\"402d0e5c-814e-4319-9ad2-faa97c4323bd\" style=\"height: 525px; width: 100%;\" class=\"plotly-graph-div\"></div><script type=\"text/javascript\">require([\"plotly\"], function(Plotly) { window.PLOTLYENV=window.PLOTLYENV || {};window.PLOTLYENV.BASE_URL=\"https://plot.ly\";\n",
       "if (document.getElementById(\"402d0e5c-814e-4319-9ad2-faa97c4323bd\")) {\n",
       "    Plotly.newPlot(\"402d0e5c-814e-4319-9ad2-faa97c4323bd\", [{\"marker\": {\"color\": [\"rgb(213,62,79)\", \"rgb(252,141,89)\", \"rgb(254,224,139)\", \"rgb(230,245,152)\", \"rgb(153,213,148)\", \"rgb(50,136,189)\"]}, \"x\": [2, 3, 4, 5], \"y\": [3, 24, 48, 23], \"type\": \"bar\", \"uid\": \"77cff031-cd53-46bd-900d-5e5b937cc1e0\"}], {\"bargap\": 0.2, \"xaxis\": {\"ticktext\": [\"1. Never\", \"2. Very rarely\", \"3. Occasionally\", \"4. Several times\", \"5. Almost always or always\"], \"tickvals\": [1, 2, 3, 4, 5]}}, {\"showLink\": false, \"linkText\": \"Export to plot.ly\", \"plotlyServerURL\": \"https://plot.ly\"}); \n",
       "}\n",
       "});</script><script type=\"text/javascript\">window.addEventListener(\"resize\", function(){if (document.getElementById(\"402d0e5c-814e-4319-9ad2-faa97c4323bd\")) {window._Plotly.Plots.resize(document.getElementById(\"402d0e5c-814e-4319-9ad2-faa97c4323bd\"));};})</script>"
      ]
     },
     "metadata": {},
     "output_type": "display_data"
    },
    {
     "name": "stdout",
     "output_type": "stream",
     "text": [
      "\n",
      "\n",
      "Cluster 4 || variable: ¿Eres capaz de expresar verbalmente las emociones que te produce una imagen que has visto?\n",
      "Describiendo la pregunta ¿Eres capaz de expresar verbalmente las emociones que te produce una imagen que has visto?\n",
      "Valores numéricos asociados a las respuestas [1, 2, 3, 4, 5]\n",
      "Respuestas posibles a la pregunta/variable ['1. Nunca', '2. Muy pocas veces', '3. En ocasiones', '4. Bastantes veces', '5. Casi siempre o siempre']\n"
     ]
    },
    {
     "data": {
      "text/plain": [
       "count    98.000000\n",
       "mean      3.765306\n",
       "std       0.982329\n",
       "min       1.000000\n",
       "25%       3.000000\n",
       "50%       4.000000\n",
       "75%       5.000000\n",
       "max       5.000000\n",
       "Name: ¿Eres capaz de expresar verbalmente las emociones que te produce una imagen que has visto?, dtype: float64"
      ]
     },
     "metadata": {},
     "output_type": "display_data"
    },
    {
     "name": "stdout",
     "output_type": "stream",
     "text": [
      "Conteo de cada valor en ¿Eres capaz de expresar verbalmente las emociones que te produce una imagen que has visto? expresada como valor / cantidad\n"
     ]
    },
    {
     "data": {
      "text/plain": [
       "1     1\n",
       "2     9\n",
       "3    28\n",
       "4    34\n",
       "5    26\n",
       "Name: ¿Eres capaz de expresar verbalmente las emociones que te produce una imagen que has visto?, dtype: int64"
      ]
     },
     "metadata": {},
     "output_type": "display_data"
    },
    {
     "name": "stdout",
     "output_type": "stream",
     "text": [
      "Porcentaje de cada valor en ¿Eres capaz de expresar verbalmente las emociones que te produce una imagen que has visto? expresado como valor / porcentaje\n"
     ]
    },
    {
     "data": {
      "text/plain": [
       "1     1.02\n",
       "2     9.18\n",
       "3    28.57\n",
       "4    34.69\n",
       "5    26.53\n",
       "Name: ¿Eres capaz de expresar verbalmente las emociones que te produce una imagen que has visto?, dtype: float64"
      ]
     },
     "metadata": {},
     "output_type": "display_data"
    },
    {
     "data": {
      "application/vnd.plotly.v1+json": {
       "config": {
        "linkText": "Export to plot.ly",
        "plotlyServerURL": "https://plot.ly",
        "showLink": false
       },
       "data": [
        {
         "marker": {
          "color": [
           "rgb(213,62,79)",
           "rgb(252,141,89)",
           "rgb(254,224,139)",
           "rgb(230,245,152)",
           "rgb(153,213,148)",
           "rgb(50,136,189)"
          ]
         },
         "type": "bar",
         "uid": "8598c74d-56ce-4934-ba4f-a5dfb4fdf706",
         "x": [
          1,
          2,
          3,
          4,
          5
         ],
         "y": [
          1,
          9,
          28,
          34,
          26
         ]
        }
       ],
       "layout": {
        "bargap": 0.2,
        "xaxis": {
         "ticktext": [
          "1. Nunca",
          "2. Muy pocas veces",
          "3. En ocasiones",
          "4. Bastantes veces",
          "5. Casi siempre o siempre"
         ],
         "tickvals": [
          1,
          2,
          3,
          4,
          5
         ]
        }
       }
      },
      "text/html": [
       "<div id=\"928e8f6c-ebde-49f5-9bba-096d20a90610\" style=\"height: 525px; width: 100%;\" class=\"plotly-graph-div\"></div><script type=\"text/javascript\">require([\"plotly\"], function(Plotly) { window.PLOTLYENV=window.PLOTLYENV || {};window.PLOTLYENV.BASE_URL=\"https://plot.ly\";\n",
       "if (document.getElementById(\"928e8f6c-ebde-49f5-9bba-096d20a90610\")) {\n",
       "    Plotly.newPlot(\"928e8f6c-ebde-49f5-9bba-096d20a90610\", [{\"marker\": {\"color\": [\"rgb(213,62,79)\", \"rgb(252,141,89)\", \"rgb(254,224,139)\", \"rgb(230,245,152)\", \"rgb(153,213,148)\", \"rgb(50,136,189)\"]}, \"x\": [1, 2, 3, 4, 5], \"y\": [1, 9, 28, 34, 26], \"type\": \"bar\", \"uid\": \"8598c74d-56ce-4934-ba4f-a5dfb4fdf706\"}], {\"bargap\": 0.2, \"xaxis\": {\"ticktext\": [\"1. Nunca\", \"2. Muy pocas veces\", \"3. En ocasiones\", \"4. Bastantes veces\", \"5. Casi siempre o siempre\"], \"tickvals\": [1, 2, 3, 4, 5]}}, {\"showLink\": false, \"linkText\": \"Export to plot.ly\", \"plotlyServerURL\": \"https://plot.ly\"}); \n",
       "}\n",
       "});</script><script type=\"text/javascript\">window.addEventListener(\"resize\", function(){if (document.getElementById(\"928e8f6c-ebde-49f5-9bba-096d20a90610\")) {window._Plotly.Plots.resize(document.getElementById(\"928e8f6c-ebde-49f5-9bba-096d20a90610\"));};})</script>"
      ],
      "text/vnd.plotly.v1+html": [
       "<div id=\"928e8f6c-ebde-49f5-9bba-096d20a90610\" style=\"height: 525px; width: 100%;\" class=\"plotly-graph-div\"></div><script type=\"text/javascript\">require([\"plotly\"], function(Plotly) { window.PLOTLYENV=window.PLOTLYENV || {};window.PLOTLYENV.BASE_URL=\"https://plot.ly\";\n",
       "if (document.getElementById(\"928e8f6c-ebde-49f5-9bba-096d20a90610\")) {\n",
       "    Plotly.newPlot(\"928e8f6c-ebde-49f5-9bba-096d20a90610\", [{\"marker\": {\"color\": [\"rgb(213,62,79)\", \"rgb(252,141,89)\", \"rgb(254,224,139)\", \"rgb(230,245,152)\", \"rgb(153,213,148)\", \"rgb(50,136,189)\"]}, \"x\": [1, 2, 3, 4, 5], \"y\": [1, 9, 28, 34, 26], \"type\": \"bar\", \"uid\": \"8598c74d-56ce-4934-ba4f-a5dfb4fdf706\"}], {\"bargap\": 0.2, \"xaxis\": {\"ticktext\": [\"1. Nunca\", \"2. Muy pocas veces\", \"3. En ocasiones\", \"4. Bastantes veces\", \"5. Casi siempre o siempre\"], \"tickvals\": [1, 2, 3, 4, 5]}}, {\"showLink\": false, \"linkText\": \"Export to plot.ly\", \"plotlyServerURL\": \"https://plot.ly\"}); \n",
       "}\n",
       "});</script><script type=\"text/javascript\">window.addEventListener(\"resize\", function(){if (document.getElementById(\"928e8f6c-ebde-49f5-9bba-096d20a90610\")) {window._Plotly.Plots.resize(document.getElementById(\"928e8f6c-ebde-49f5-9bba-096d20a90610\"));};})</script>"
      ]
     },
     "metadata": {},
     "output_type": "display_data"
    },
    {
     "name": "stdout",
     "output_type": "stream",
     "text": [
      "\n",
      "\n",
      "Cluster 3 || variable: Cuando te encuentras con una imagen, ¿intentas entender con qué intención está hecha?\n",
      "Describiendo la pregunta Cuando te encuentras con una imagen, ¿intentas entender con qué intención está hecha?\n",
      "Valores numéricos asociados a las respuestas [1, 2, 3, 4, 5]\n",
      "Respuestas posibles a la pregunta/variable ['1. Nunca', '2. Muy pocas veces', '3. En ocasiones', '4. Bastantes veces', '5. Casi siempre o siempre']\n"
     ]
    },
    {
     "data": {
      "text/plain": [
       "count    100.000000\n",
       "mean       3.770000\n",
       "std        0.851084\n",
       "min        1.000000\n",
       "25%        3.000000\n",
       "50%        4.000000\n",
       "75%        4.000000\n",
       "max        5.000000\n",
       "Name: Cuando te encuentras con una imagen, ¿intentas entender con qué intención está hecha?, dtype: float64"
      ]
     },
     "metadata": {},
     "output_type": "display_data"
    },
    {
     "name": "stdout",
     "output_type": "stream",
     "text": [
      "Conteo de cada valor en Cuando te encuentras con una imagen, ¿intentas entender con qué intención está hecha? expresada como valor / cantidad\n"
     ]
    },
    {
     "data": {
      "text/plain": [
       "1     2\n",
       "2     5\n",
       "3    23\n",
       "4    54\n",
       "5    16\n",
       "Name: Cuando te encuentras con una imagen, ¿intentas entender con qué intención está hecha?, dtype: int64"
      ]
     },
     "metadata": {},
     "output_type": "display_data"
    },
    {
     "name": "stdout",
     "output_type": "stream",
     "text": [
      "Porcentaje de cada valor en Cuando te encuentras con una imagen, ¿intentas entender con qué intención está hecha? expresado como valor / porcentaje\n"
     ]
    },
    {
     "data": {
      "text/plain": [
       "1     2.0\n",
       "2     5.0\n",
       "3    23.0\n",
       "4    54.0\n",
       "5    16.0\n",
       "Name: Cuando te encuentras con una imagen, ¿intentas entender con qué intención está hecha?, dtype: float64"
      ]
     },
     "metadata": {},
     "output_type": "display_data"
    },
    {
     "data": {
      "application/vnd.plotly.v1+json": {
       "config": {
        "linkText": "Export to plot.ly",
        "plotlyServerURL": "https://plot.ly",
        "showLink": false
       },
       "data": [
        {
         "marker": {
          "color": [
           "rgb(213,62,79)",
           "rgb(252,141,89)",
           "rgb(254,224,139)",
           "rgb(230,245,152)",
           "rgb(153,213,148)",
           "rgb(50,136,189)"
          ]
         },
         "type": "bar",
         "uid": "c1618bf6-3497-4f00-a460-fbe28a56321f",
         "x": [
          1,
          2,
          3,
          4,
          5
         ],
         "y": [
          2,
          5,
          23,
          54,
          16
         ]
        }
       ],
       "layout": {
        "bargap": 0.2,
        "xaxis": {
         "ticktext": [
          "1. Nunca",
          "2. Muy pocas veces",
          "3. En ocasiones",
          "4. Bastantes veces",
          "5. Casi siempre o siempre"
         ],
         "tickvals": [
          1,
          2,
          3,
          4,
          5
         ]
        }
       }
      },
      "text/html": [
       "<div id=\"23b31d05-b90c-461b-9c4b-56e480a0243c\" style=\"height: 525px; width: 100%;\" class=\"plotly-graph-div\"></div><script type=\"text/javascript\">require([\"plotly\"], function(Plotly) { window.PLOTLYENV=window.PLOTLYENV || {};window.PLOTLYENV.BASE_URL=\"https://plot.ly\";\n",
       "if (document.getElementById(\"23b31d05-b90c-461b-9c4b-56e480a0243c\")) {\n",
       "    Plotly.newPlot(\"23b31d05-b90c-461b-9c4b-56e480a0243c\", [{\"marker\": {\"color\": [\"rgb(213,62,79)\", \"rgb(252,141,89)\", \"rgb(254,224,139)\", \"rgb(230,245,152)\", \"rgb(153,213,148)\", \"rgb(50,136,189)\"]}, \"x\": [1, 2, 3, 4, 5], \"y\": [2, 5, 23, 54, 16], \"type\": \"bar\", \"uid\": \"c1618bf6-3497-4f00-a460-fbe28a56321f\"}], {\"bargap\": 0.2, \"xaxis\": {\"ticktext\": [\"1. Nunca\", \"2. Muy pocas veces\", \"3. En ocasiones\", \"4. Bastantes veces\", \"5. Casi siempre o siempre\"], \"tickvals\": [1, 2, 3, 4, 5]}}, {\"showLink\": false, \"linkText\": \"Export to plot.ly\", \"plotlyServerURL\": \"https://plot.ly\"}); \n",
       "}\n",
       "});</script><script type=\"text/javascript\">window.addEventListener(\"resize\", function(){if (document.getElementById(\"23b31d05-b90c-461b-9c4b-56e480a0243c\")) {window._Plotly.Plots.resize(document.getElementById(\"23b31d05-b90c-461b-9c4b-56e480a0243c\"));};})</script>"
      ],
      "text/vnd.plotly.v1+html": [
       "<div id=\"23b31d05-b90c-461b-9c4b-56e480a0243c\" style=\"height: 525px; width: 100%;\" class=\"plotly-graph-div\"></div><script type=\"text/javascript\">require([\"plotly\"], function(Plotly) { window.PLOTLYENV=window.PLOTLYENV || {};window.PLOTLYENV.BASE_URL=\"https://plot.ly\";\n",
       "if (document.getElementById(\"23b31d05-b90c-461b-9c4b-56e480a0243c\")) {\n",
       "    Plotly.newPlot(\"23b31d05-b90c-461b-9c4b-56e480a0243c\", [{\"marker\": {\"color\": [\"rgb(213,62,79)\", \"rgb(252,141,89)\", \"rgb(254,224,139)\", \"rgb(230,245,152)\", \"rgb(153,213,148)\", \"rgb(50,136,189)\"]}, \"x\": [1, 2, 3, 4, 5], \"y\": [2, 5, 23, 54, 16], \"type\": \"bar\", \"uid\": \"c1618bf6-3497-4f00-a460-fbe28a56321f\"}], {\"bargap\": 0.2, \"xaxis\": {\"ticktext\": [\"1. Nunca\", \"2. Muy pocas veces\", \"3. En ocasiones\", \"4. Bastantes veces\", \"5. Casi siempre o siempre\"], \"tickvals\": [1, 2, 3, 4, 5]}}, {\"showLink\": false, \"linkText\": \"Export to plot.ly\", \"plotlyServerURL\": \"https://plot.ly\"}); \n",
       "}\n",
       "});</script><script type=\"text/javascript\">window.addEventListener(\"resize\", function(){if (document.getElementById(\"23b31d05-b90c-461b-9c4b-56e480a0243c\")) {window._Plotly.Plots.resize(document.getElementById(\"23b31d05-b90c-461b-9c4b-56e480a0243c\"));};})</script>"
      ]
     },
     "metadata": {},
     "output_type": "display_data"
    },
    {
     "name": "stdout",
     "output_type": "stream",
     "text": [
      "\n",
      "\n",
      "Cluster 3 || variable: Cuando recibes o consumes una imagen, ¿la comparas con tu propia realidad? ¿Intentas encontrar en tu entorno cierto parecido?\n",
      "Describiendo la pregunta Cuando recibes o consumes una imagen, ¿la comparas con tu propia realidad? ¿Intentas encontrar en tu entorno cierto parecido?\n",
      "Valores numéricos asociados a las respuestas [1, 2, 3, 4, 5]\n",
      "Respuestas posibles a la pregunta/variable ['1. Nunca', '2. Muy pocas veces', '3. En ocasiones', '4. Bastantes veces', '5. Casi siempre o siempre']\n"
     ]
    },
    {
     "data": {
      "text/plain": [
       "count    100.000000\n",
       "mean       3.870000\n",
       "std        0.691288\n",
       "min        2.000000\n",
       "25%        3.000000\n",
       "50%        4.000000\n",
       "75%        4.000000\n",
       "max        5.000000\n",
       "Name: Cuando recibes o consumes una imagen, ¿la comparas con tu propia realidad? ¿Intentas encontrar en tu entorno cierto parecido?, dtype: float64"
      ]
     },
     "metadata": {},
     "output_type": "display_data"
    },
    {
     "name": "stdout",
     "output_type": "stream",
     "text": [
      "Conteo de cada valor en Cuando recibes o consumes una imagen, ¿la comparas con tu propia realidad? ¿Intentas encontrar en tu entorno cierto parecido? expresada como valor / cantidad\n"
     ]
    },
    {
     "data": {
      "text/plain": [
       "2     1\n",
       "3    28\n",
       "4    54\n",
       "5    17\n",
       "Name: Cuando recibes o consumes una imagen, ¿la comparas con tu propia realidad? ¿Intentas encontrar en tu entorno cierto parecido?, dtype: int64"
      ]
     },
     "metadata": {},
     "output_type": "display_data"
    },
    {
     "name": "stdout",
     "output_type": "stream",
     "text": [
      "Porcentaje de cada valor en Cuando recibes o consumes una imagen, ¿la comparas con tu propia realidad? ¿Intentas encontrar en tu entorno cierto parecido? expresado como valor / porcentaje\n"
     ]
    },
    {
     "data": {
      "text/plain": [
       "2     1.0\n",
       "3    28.0\n",
       "4    54.0\n",
       "5    17.0\n",
       "Name: Cuando recibes o consumes una imagen, ¿la comparas con tu propia realidad? ¿Intentas encontrar en tu entorno cierto parecido?, dtype: float64"
      ]
     },
     "metadata": {},
     "output_type": "display_data"
    },
    {
     "data": {
      "application/vnd.plotly.v1+json": {
       "config": {
        "linkText": "Export to plot.ly",
        "plotlyServerURL": "https://plot.ly",
        "showLink": false
       },
       "data": [
        {
         "marker": {
          "color": [
           "rgb(213,62,79)",
           "rgb(252,141,89)",
           "rgb(254,224,139)",
           "rgb(230,245,152)",
           "rgb(153,213,148)",
           "rgb(50,136,189)"
          ]
         },
         "type": "bar",
         "uid": "2775eb39-d933-46dd-b625-836801d93c35",
         "x": [
          2,
          3,
          4,
          5
         ],
         "y": [
          1,
          28,
          54,
          17
         ]
        }
       ],
       "layout": {
        "bargap": 0.2,
        "xaxis": {
         "ticktext": [
          "1. Nunca",
          "2. Muy pocas veces",
          "3. En ocasiones",
          "4. Bastantes veces",
          "5. Casi siempre o siempre"
         ],
         "tickvals": [
          1,
          2,
          3,
          4,
          5
         ]
        }
       }
      },
      "text/html": [
       "<div id=\"c4193c98-532b-48d9-9864-01e7ff913580\" style=\"height: 525px; width: 100%;\" class=\"plotly-graph-div\"></div><script type=\"text/javascript\">require([\"plotly\"], function(Plotly) { window.PLOTLYENV=window.PLOTLYENV || {};window.PLOTLYENV.BASE_URL=\"https://plot.ly\";\n",
       "if (document.getElementById(\"c4193c98-532b-48d9-9864-01e7ff913580\")) {\n",
       "    Plotly.newPlot(\"c4193c98-532b-48d9-9864-01e7ff913580\", [{\"marker\": {\"color\": [\"rgb(213,62,79)\", \"rgb(252,141,89)\", \"rgb(254,224,139)\", \"rgb(230,245,152)\", \"rgb(153,213,148)\", \"rgb(50,136,189)\"]}, \"x\": [2, 3, 4, 5], \"y\": [1, 28, 54, 17], \"type\": \"bar\", \"uid\": \"2775eb39-d933-46dd-b625-836801d93c35\"}], {\"bargap\": 0.2, \"xaxis\": {\"ticktext\": [\"1. Nunca\", \"2. Muy pocas veces\", \"3. En ocasiones\", \"4. Bastantes veces\", \"5. Casi siempre o siempre\"], \"tickvals\": [1, 2, 3, 4, 5]}}, {\"showLink\": false, \"linkText\": \"Export to plot.ly\", \"plotlyServerURL\": \"https://plot.ly\"}); \n",
       "}\n",
       "});</script><script type=\"text/javascript\">window.addEventListener(\"resize\", function(){if (document.getElementById(\"c4193c98-532b-48d9-9864-01e7ff913580\")) {window._Plotly.Plots.resize(document.getElementById(\"c4193c98-532b-48d9-9864-01e7ff913580\"));};})</script>"
      ],
      "text/vnd.plotly.v1+html": [
       "<div id=\"c4193c98-532b-48d9-9864-01e7ff913580\" style=\"height: 525px; width: 100%;\" class=\"plotly-graph-div\"></div><script type=\"text/javascript\">require([\"plotly\"], function(Plotly) { window.PLOTLYENV=window.PLOTLYENV || {};window.PLOTLYENV.BASE_URL=\"https://plot.ly\";\n",
       "if (document.getElementById(\"c4193c98-532b-48d9-9864-01e7ff913580\")) {\n",
       "    Plotly.newPlot(\"c4193c98-532b-48d9-9864-01e7ff913580\", [{\"marker\": {\"color\": [\"rgb(213,62,79)\", \"rgb(252,141,89)\", \"rgb(254,224,139)\", \"rgb(230,245,152)\", \"rgb(153,213,148)\", \"rgb(50,136,189)\"]}, \"x\": [2, 3, 4, 5], \"y\": [1, 28, 54, 17], \"type\": \"bar\", \"uid\": \"2775eb39-d933-46dd-b625-836801d93c35\"}], {\"bargap\": 0.2, \"xaxis\": {\"ticktext\": [\"1. Nunca\", \"2. Muy pocas veces\", \"3. En ocasiones\", \"4. Bastantes veces\", \"5. Casi siempre o siempre\"], \"tickvals\": [1, 2, 3, 4, 5]}}, {\"showLink\": false, \"linkText\": \"Export to plot.ly\", \"plotlyServerURL\": \"https://plot.ly\"}); \n",
       "}\n",
       "});</script><script type=\"text/javascript\">window.addEventListener(\"resize\", function(){if (document.getElementById(\"c4193c98-532b-48d9-9864-01e7ff913580\")) {window._Plotly.Plots.resize(document.getElementById(\"c4193c98-532b-48d9-9864-01e7ff913580\"));};})</script>"
      ]
     },
     "metadata": {},
     "output_type": "display_data"
    },
    {
     "name": "stdout",
     "output_type": "stream",
     "text": [
      "\n",
      "\n",
      "Cluster 3 || variable: Cuando recibes o consumes una imagen, ¿piensas en el modo en que fue obtenida (técnicamente)?\n",
      "Describiendo la pregunta Cuando recibes o consumes una imagen, ¿piensas en el modo en que fue obtenida (técnicamente)?\n",
      "Valores numéricos asociados a las respuestas [1, 2, 3, 4, 5]\n",
      "Respuestas posibles a la pregunta/variable ['1. Nunca', '2. Muy pocas veces', '3. En ocasiones', '4. Bastantes veces', '5. Casi siempre o siempre']\n"
     ]
    },
    {
     "data": {
      "text/plain": [
       "count    100.00000\n",
       "mean       3.74000\n",
       "std        0.84829\n",
       "min        1.00000\n",
       "25%        3.00000\n",
       "50%        4.00000\n",
       "75%        4.00000\n",
       "max        5.00000\n",
       "Name: Cuando recibes o consumes una imagen, ¿piensas en el modo en que fue obtenida (técnicamente)?, dtype: float64"
      ]
     },
     "metadata": {},
     "output_type": "display_data"
    },
    {
     "name": "stdout",
     "output_type": "stream",
     "text": [
      "Conteo de cada valor en Cuando recibes o consumes una imagen, ¿piensas en el modo en que fue obtenida (técnicamente)? expresada como valor / cantidad\n"
     ]
    },
    {
     "data": {
      "text/plain": [
       "1     1\n",
       "2     7\n",
       "3    25\n",
       "4    51\n",
       "5    16\n",
       "Name: Cuando recibes o consumes una imagen, ¿piensas en el modo en que fue obtenida (técnicamente)?, dtype: int64"
      ]
     },
     "metadata": {},
     "output_type": "display_data"
    },
    {
     "name": "stdout",
     "output_type": "stream",
     "text": [
      "Porcentaje de cada valor en Cuando recibes o consumes una imagen, ¿piensas en el modo en que fue obtenida (técnicamente)? expresado como valor / porcentaje\n"
     ]
    },
    {
     "data": {
      "text/plain": [
       "1     1.0\n",
       "2     7.0\n",
       "3    25.0\n",
       "4    51.0\n",
       "5    16.0\n",
       "Name: Cuando recibes o consumes una imagen, ¿piensas en el modo en que fue obtenida (técnicamente)?, dtype: float64"
      ]
     },
     "metadata": {},
     "output_type": "display_data"
    },
    {
     "data": {
      "application/vnd.plotly.v1+json": {
       "config": {
        "linkText": "Export to plot.ly",
        "plotlyServerURL": "https://plot.ly",
        "showLink": false
       },
       "data": [
        {
         "marker": {
          "color": [
           "rgb(213,62,79)",
           "rgb(252,141,89)",
           "rgb(254,224,139)",
           "rgb(230,245,152)",
           "rgb(153,213,148)",
           "rgb(50,136,189)"
          ]
         },
         "type": "bar",
         "uid": "707a9d79-d56a-4384-9f2e-c786b674d9cc",
         "x": [
          1,
          2,
          3,
          4,
          5
         ],
         "y": [
          1,
          7,
          25,
          51,
          16
         ]
        }
       ],
       "layout": {
        "bargap": 0.2,
        "xaxis": {
         "ticktext": [
          "1. Nunca",
          "2. Muy pocas veces",
          "3. En ocasiones",
          "4. Bastantes veces",
          "5. Casi siempre o siempre"
         ],
         "tickvals": [
          1,
          2,
          3,
          4,
          5
         ]
        }
       }
      },
      "text/html": [
       "<div id=\"b4f7cb69-bd7c-45a0-9cbd-540ddfdf860a\" style=\"height: 525px; width: 100%;\" class=\"plotly-graph-div\"></div><script type=\"text/javascript\">require([\"plotly\"], function(Plotly) { window.PLOTLYENV=window.PLOTLYENV || {};window.PLOTLYENV.BASE_URL=\"https://plot.ly\";\n",
       "if (document.getElementById(\"b4f7cb69-bd7c-45a0-9cbd-540ddfdf860a\")) {\n",
       "    Plotly.newPlot(\"b4f7cb69-bd7c-45a0-9cbd-540ddfdf860a\", [{\"marker\": {\"color\": [\"rgb(213,62,79)\", \"rgb(252,141,89)\", \"rgb(254,224,139)\", \"rgb(230,245,152)\", \"rgb(153,213,148)\", \"rgb(50,136,189)\"]}, \"x\": [1, 2, 3, 4, 5], \"y\": [1, 7, 25, 51, 16], \"type\": \"bar\", \"uid\": \"707a9d79-d56a-4384-9f2e-c786b674d9cc\"}], {\"bargap\": 0.2, \"xaxis\": {\"ticktext\": [\"1. Nunca\", \"2. Muy pocas veces\", \"3. En ocasiones\", \"4. Bastantes veces\", \"5. Casi siempre o siempre\"], \"tickvals\": [1, 2, 3, 4, 5]}}, {\"showLink\": false, \"linkText\": \"Export to plot.ly\", \"plotlyServerURL\": \"https://plot.ly\"}); \n",
       "}\n",
       "});</script><script type=\"text/javascript\">window.addEventListener(\"resize\", function(){if (document.getElementById(\"b4f7cb69-bd7c-45a0-9cbd-540ddfdf860a\")) {window._Plotly.Plots.resize(document.getElementById(\"b4f7cb69-bd7c-45a0-9cbd-540ddfdf860a\"));};})</script>"
      ],
      "text/vnd.plotly.v1+html": [
       "<div id=\"b4f7cb69-bd7c-45a0-9cbd-540ddfdf860a\" style=\"height: 525px; width: 100%;\" class=\"plotly-graph-div\"></div><script type=\"text/javascript\">require([\"plotly\"], function(Plotly) { window.PLOTLYENV=window.PLOTLYENV || {};window.PLOTLYENV.BASE_URL=\"https://plot.ly\";\n",
       "if (document.getElementById(\"b4f7cb69-bd7c-45a0-9cbd-540ddfdf860a\")) {\n",
       "    Plotly.newPlot(\"b4f7cb69-bd7c-45a0-9cbd-540ddfdf860a\", [{\"marker\": {\"color\": [\"rgb(213,62,79)\", \"rgb(252,141,89)\", \"rgb(254,224,139)\", \"rgb(230,245,152)\", \"rgb(153,213,148)\", \"rgb(50,136,189)\"]}, \"x\": [1, 2, 3, 4, 5], \"y\": [1, 7, 25, 51, 16], \"type\": \"bar\", \"uid\": \"707a9d79-d56a-4384-9f2e-c786b674d9cc\"}], {\"bargap\": 0.2, \"xaxis\": {\"ticktext\": [\"1. Nunca\", \"2. Muy pocas veces\", \"3. En ocasiones\", \"4. Bastantes veces\", \"5. Casi siempre o siempre\"], \"tickvals\": [1, 2, 3, 4, 5]}}, {\"showLink\": false, \"linkText\": \"Export to plot.ly\", \"plotlyServerURL\": \"https://plot.ly\"}); \n",
       "}\n",
       "});</script><script type=\"text/javascript\">window.addEventListener(\"resize\", function(){if (document.getElementById(\"b4f7cb69-bd7c-45a0-9cbd-540ddfdf860a\")) {window._Plotly.Plots.resize(document.getElementById(\"b4f7cb69-bd7c-45a0-9cbd-540ddfdf860a\"));};})</script>"
      ]
     },
     "metadata": {},
     "output_type": "display_data"
    },
    {
     "name": "stdout",
     "output_type": "stream",
     "text": [
      "\n",
      "\n",
      "Cluster 3 || variable: Cuando observas una imagen, ¿te preguntas cosas acerca de los personajes/objetos que aparecen en la misma?\n",
      "Describiendo la pregunta Cuando observas una imagen, ¿te preguntas cosas acerca de los personajes/objetos que aparecen en la misma?\n",
      "Valores numéricos asociados a las respuestas [1, 2, 3, 4, 5]\n",
      "Respuestas posibles a la pregunta/variable ['1. Nunca', '2. Muy pocas veces', '3. En ocasiones', '4. Bastantes veces', '5. Casi siempre o siempre']\n"
     ]
    },
    {
     "data": {
      "text/plain": [
       "count    100.000000\n",
       "mean       3.900000\n",
       "std        0.870388\n",
       "min        1.000000\n",
       "25%        3.000000\n",
       "50%        4.000000\n",
       "75%        5.000000\n",
       "max        5.000000\n",
       "Name: Cuando observas una imagen, ¿te preguntas cosas acerca de los personajes/objetos que aparecen en la misma?, dtype: float64"
      ]
     },
     "metadata": {},
     "output_type": "display_data"
    },
    {
     "name": "stdout",
     "output_type": "stream",
     "text": [
      "Conteo de cada valor en Cuando observas una imagen, ¿te preguntas cosas acerca de los personajes/objetos que aparecen en la misma? expresada como valor / cantidad\n"
     ]
    },
    {
     "data": {
      "text/plain": [
       "1     1\n",
       "2     4\n",
       "3    25\n",
       "4    44\n",
       "5    26\n",
       "Name: Cuando observas una imagen, ¿te preguntas cosas acerca de los personajes/objetos que aparecen en la misma?, dtype: int64"
      ]
     },
     "metadata": {},
     "output_type": "display_data"
    },
    {
     "name": "stdout",
     "output_type": "stream",
     "text": [
      "Porcentaje de cada valor en Cuando observas una imagen, ¿te preguntas cosas acerca de los personajes/objetos que aparecen en la misma? expresado como valor / porcentaje\n"
     ]
    },
    {
     "data": {
      "text/plain": [
       "1     1.0\n",
       "2     4.0\n",
       "3    25.0\n",
       "4    44.0\n",
       "5    26.0\n",
       "Name: Cuando observas una imagen, ¿te preguntas cosas acerca de los personajes/objetos que aparecen en la misma?, dtype: float64"
      ]
     },
     "metadata": {},
     "output_type": "display_data"
    },
    {
     "data": {
      "application/vnd.plotly.v1+json": {
       "config": {
        "linkText": "Export to plot.ly",
        "plotlyServerURL": "https://plot.ly",
        "showLink": false
       },
       "data": [
        {
         "marker": {
          "color": [
           "rgb(213,62,79)",
           "rgb(252,141,89)",
           "rgb(254,224,139)",
           "rgb(230,245,152)",
           "rgb(153,213,148)",
           "rgb(50,136,189)"
          ]
         },
         "type": "bar",
         "uid": "019f705b-415a-49e6-8631-04f757a47740",
         "x": [
          1,
          2,
          3,
          4,
          5
         ],
         "y": [
          1,
          4,
          25,
          44,
          26
         ]
        }
       ],
       "layout": {
        "bargap": 0.2,
        "xaxis": {
         "ticktext": [
          "1. Nunca",
          "2. Muy pocas veces",
          "3. En ocasiones",
          "4. Bastantes veces",
          "5. Casi siempre o siempre"
         ],
         "tickvals": [
          1,
          2,
          3,
          4,
          5
         ]
        }
       }
      },
      "text/html": [
       "<div id=\"a5086440-9b43-4d03-b6c7-c4159c6b163d\" style=\"height: 525px; width: 100%;\" class=\"plotly-graph-div\"></div><script type=\"text/javascript\">require([\"plotly\"], function(Plotly) { window.PLOTLYENV=window.PLOTLYENV || {};window.PLOTLYENV.BASE_URL=\"https://plot.ly\";\n",
       "if (document.getElementById(\"a5086440-9b43-4d03-b6c7-c4159c6b163d\")) {\n",
       "    Plotly.newPlot(\"a5086440-9b43-4d03-b6c7-c4159c6b163d\", [{\"marker\": {\"color\": [\"rgb(213,62,79)\", \"rgb(252,141,89)\", \"rgb(254,224,139)\", \"rgb(230,245,152)\", \"rgb(153,213,148)\", \"rgb(50,136,189)\"]}, \"x\": [1, 2, 3, 4, 5], \"y\": [1, 4, 25, 44, 26], \"type\": \"bar\", \"uid\": \"019f705b-415a-49e6-8631-04f757a47740\"}], {\"bargap\": 0.2, \"xaxis\": {\"ticktext\": [\"1. Nunca\", \"2. Muy pocas veces\", \"3. En ocasiones\", \"4. Bastantes veces\", \"5. Casi siempre o siempre\"], \"tickvals\": [1, 2, 3, 4, 5]}}, {\"showLink\": false, \"linkText\": \"Export to plot.ly\", \"plotlyServerURL\": \"https://plot.ly\"}); \n",
       "}\n",
       "});</script><script type=\"text/javascript\">window.addEventListener(\"resize\", function(){if (document.getElementById(\"a5086440-9b43-4d03-b6c7-c4159c6b163d\")) {window._Plotly.Plots.resize(document.getElementById(\"a5086440-9b43-4d03-b6c7-c4159c6b163d\"));};})</script>"
      ],
      "text/vnd.plotly.v1+html": [
       "<div id=\"a5086440-9b43-4d03-b6c7-c4159c6b163d\" style=\"height: 525px; width: 100%;\" class=\"plotly-graph-div\"></div><script type=\"text/javascript\">require([\"plotly\"], function(Plotly) { window.PLOTLYENV=window.PLOTLYENV || {};window.PLOTLYENV.BASE_URL=\"https://plot.ly\";\n",
       "if (document.getElementById(\"a5086440-9b43-4d03-b6c7-c4159c6b163d\")) {\n",
       "    Plotly.newPlot(\"a5086440-9b43-4d03-b6c7-c4159c6b163d\", [{\"marker\": {\"color\": [\"rgb(213,62,79)\", \"rgb(252,141,89)\", \"rgb(254,224,139)\", \"rgb(230,245,152)\", \"rgb(153,213,148)\", \"rgb(50,136,189)\"]}, \"x\": [1, 2, 3, 4, 5], \"y\": [1, 4, 25, 44, 26], \"type\": \"bar\", \"uid\": \"019f705b-415a-49e6-8631-04f757a47740\"}], {\"bargap\": 0.2, \"xaxis\": {\"ticktext\": [\"1. Nunca\", \"2. Muy pocas veces\", \"3. En ocasiones\", \"4. Bastantes veces\", \"5. Casi siempre o siempre\"], \"tickvals\": [1, 2, 3, 4, 5]}}, {\"showLink\": false, \"linkText\": \"Export to plot.ly\", \"plotlyServerURL\": \"https://plot.ly\"}); \n",
       "}\n",
       "});</script><script type=\"text/javascript\">window.addEventListener(\"resize\", function(){if (document.getElementById(\"a5086440-9b43-4d03-b6c7-c4159c6b163d\")) {window._Plotly.Plots.resize(document.getElementById(\"a5086440-9b43-4d03-b6c7-c4159c6b163d\"));};})</script>"
      ]
     },
     "metadata": {},
     "output_type": "display_data"
    },
    {
     "name": "stdout",
     "output_type": "stream",
     "text": [
      "\n",
      "\n",
      "Cluster 3 || variable: ¿Entiendes, generalmente, las intenciones que tiene el autor de una imagen cuando la ves y la compartes?\n",
      "Describiendo la pregunta ¿Entiendes, generalmente, las intenciones que tiene el autor de una imagen cuando la ves y la compartes?\n",
      "Valores numéricos asociados a las respuestas [1, 2, 3, 4, 5]\n",
      "Respuestas posibles a la pregunta/variable ['1. Never', '2. Very rarely', '3. Occasionally', '4. Several times', '5. Almost always or always']\n"
     ]
    },
    {
     "data": {
      "text/plain": [
       "count    100.000000\n",
       "mean       3.700000\n",
       "std        0.881917\n",
       "min        1.000000\n",
       "25%        3.000000\n",
       "50%        4.000000\n",
       "75%        4.000000\n",
       "max        5.000000\n",
       "Name: ¿Entiendes, generalmente, las intenciones que tiene el autor de una imagen cuando la ves y la compartes?, dtype: float64"
      ]
     },
     "metadata": {},
     "output_type": "display_data"
    },
    {
     "name": "stdout",
     "output_type": "stream",
     "text": [
      "Conteo de cada valor en ¿Entiendes, generalmente, las intenciones que tiene el autor de una imagen cuando la ves y la compartes? expresada como valor / cantidad\n"
     ]
    },
    {
     "data": {
      "text/plain": [
       "1     2\n",
       "2     6\n",
       "3    28\n",
       "4    48\n",
       "5    16\n",
       "Name: ¿Entiendes, generalmente, las intenciones que tiene el autor de una imagen cuando la ves y la compartes?, dtype: int64"
      ]
     },
     "metadata": {},
     "output_type": "display_data"
    },
    {
     "name": "stdout",
     "output_type": "stream",
     "text": [
      "Porcentaje de cada valor en ¿Entiendes, generalmente, las intenciones que tiene el autor de una imagen cuando la ves y la compartes? expresado como valor / porcentaje\n"
     ]
    },
    {
     "data": {
      "text/plain": [
       "1     2.0\n",
       "2     6.0\n",
       "3    28.0\n",
       "4    48.0\n",
       "5    16.0\n",
       "Name: ¿Entiendes, generalmente, las intenciones que tiene el autor de una imagen cuando la ves y la compartes?, dtype: float64"
      ]
     },
     "metadata": {},
     "output_type": "display_data"
    },
    {
     "data": {
      "application/vnd.plotly.v1+json": {
       "config": {
        "linkText": "Export to plot.ly",
        "plotlyServerURL": "https://plot.ly",
        "showLink": false
       },
       "data": [
        {
         "marker": {
          "color": [
           "rgb(213,62,79)",
           "rgb(252,141,89)",
           "rgb(254,224,139)",
           "rgb(230,245,152)",
           "rgb(153,213,148)",
           "rgb(50,136,189)"
          ]
         },
         "type": "bar",
         "uid": "95db932f-bece-4f58-9400-e6d2128f3434",
         "x": [
          1,
          2,
          3,
          4,
          5
         ],
         "y": [
          2,
          6,
          28,
          48,
          16
         ]
        }
       ],
       "layout": {
        "bargap": 0.2,
        "xaxis": {
         "ticktext": [
          "1. Never",
          "2. Very rarely",
          "3. Occasionally",
          "4. Several times",
          "5. Almost always or always"
         ],
         "tickvals": [
          1,
          2,
          3,
          4,
          5
         ]
        }
       }
      },
      "text/html": [
       "<div id=\"87ba37dc-5f7d-48e0-b5f6-c7a38f79954a\" style=\"height: 525px; width: 100%;\" class=\"plotly-graph-div\"></div><script type=\"text/javascript\">require([\"plotly\"], function(Plotly) { window.PLOTLYENV=window.PLOTLYENV || {};window.PLOTLYENV.BASE_URL=\"https://plot.ly\";\n",
       "if (document.getElementById(\"87ba37dc-5f7d-48e0-b5f6-c7a38f79954a\")) {\n",
       "    Plotly.newPlot(\"87ba37dc-5f7d-48e0-b5f6-c7a38f79954a\", [{\"marker\": {\"color\": [\"rgb(213,62,79)\", \"rgb(252,141,89)\", \"rgb(254,224,139)\", \"rgb(230,245,152)\", \"rgb(153,213,148)\", \"rgb(50,136,189)\"]}, \"x\": [1, 2, 3, 4, 5], \"y\": [2, 6, 28, 48, 16], \"type\": \"bar\", \"uid\": \"95db932f-bece-4f58-9400-e6d2128f3434\"}], {\"bargap\": 0.2, \"xaxis\": {\"ticktext\": [\"1. Never\", \"2. Very rarely\", \"3. Occasionally\", \"4. Several times\", \"5. Almost always or always\"], \"tickvals\": [1, 2, 3, 4, 5]}}, {\"showLink\": false, \"linkText\": \"Export to plot.ly\", \"plotlyServerURL\": \"https://plot.ly\"}); \n",
       "}\n",
       "});</script><script type=\"text/javascript\">window.addEventListener(\"resize\", function(){if (document.getElementById(\"87ba37dc-5f7d-48e0-b5f6-c7a38f79954a\")) {window._Plotly.Plots.resize(document.getElementById(\"87ba37dc-5f7d-48e0-b5f6-c7a38f79954a\"));};})</script>"
      ],
      "text/vnd.plotly.v1+html": [
       "<div id=\"87ba37dc-5f7d-48e0-b5f6-c7a38f79954a\" style=\"height: 525px; width: 100%;\" class=\"plotly-graph-div\"></div><script type=\"text/javascript\">require([\"plotly\"], function(Plotly) { window.PLOTLYENV=window.PLOTLYENV || {};window.PLOTLYENV.BASE_URL=\"https://plot.ly\";\n",
       "if (document.getElementById(\"87ba37dc-5f7d-48e0-b5f6-c7a38f79954a\")) {\n",
       "    Plotly.newPlot(\"87ba37dc-5f7d-48e0-b5f6-c7a38f79954a\", [{\"marker\": {\"color\": [\"rgb(213,62,79)\", \"rgb(252,141,89)\", \"rgb(254,224,139)\", \"rgb(230,245,152)\", \"rgb(153,213,148)\", \"rgb(50,136,189)\"]}, \"x\": [1, 2, 3, 4, 5], \"y\": [2, 6, 28, 48, 16], \"type\": \"bar\", \"uid\": \"95db932f-bece-4f58-9400-e6d2128f3434\"}], {\"bargap\": 0.2, \"xaxis\": {\"ticktext\": [\"1. Never\", \"2. Very rarely\", \"3. Occasionally\", \"4. Several times\", \"5. Almost always or always\"], \"tickvals\": [1, 2, 3, 4, 5]}}, {\"showLink\": false, \"linkText\": \"Export to plot.ly\", \"plotlyServerURL\": \"https://plot.ly\"}); \n",
       "}\n",
       "});</script><script type=\"text/javascript\">window.addEventListener(\"resize\", function(){if (document.getElementById(\"87ba37dc-5f7d-48e0-b5f6-c7a38f79954a\")) {window._Plotly.Plots.resize(document.getElementById(\"87ba37dc-5f7d-48e0-b5f6-c7a38f79954a\"));};})</script>"
      ]
     },
     "metadata": {},
     "output_type": "display_data"
    },
    {
     "name": "stdout",
     "output_type": "stream",
     "text": [
      "\n",
      "\n",
      "Cluster 3 || variable: ¿Eres capaz de expresar verbalmente las emociones que te produce una imagen que has visto?\n",
      "Describiendo la pregunta ¿Eres capaz de expresar verbalmente las emociones que te produce una imagen que has visto?\n",
      "Valores numéricos asociados a las respuestas [1, 2, 3, 4, 5]\n",
      "Respuestas posibles a la pregunta/variable ['1. Nunca', '2. Muy pocas veces', '3. En ocasiones', '4. Bastantes veces', '5. Casi siempre o siempre']\n"
     ]
    },
    {
     "data": {
      "text/plain": [
       "count    100.000000\n",
       "mean       3.890000\n",
       "std        0.723278\n",
       "min        2.000000\n",
       "25%        3.000000\n",
       "50%        4.000000\n",
       "75%        4.000000\n",
       "max        5.000000\n",
       "Name: ¿Eres capaz de expresar verbalmente las emociones que te produce una imagen que has visto?, dtype: float64"
      ]
     },
     "metadata": {},
     "output_type": "display_data"
    },
    {
     "name": "stdout",
     "output_type": "stream",
     "text": [
      "Conteo de cada valor en ¿Eres capaz de expresar verbalmente las emociones que te produce una imagen que has visto? expresada como valor / cantidad\n"
     ]
    },
    {
     "data": {
      "text/plain": [
       "2     3\n",
       "3    23\n",
       "4    56\n",
       "5    18\n",
       "Name: ¿Eres capaz de expresar verbalmente las emociones que te produce una imagen que has visto?, dtype: int64"
      ]
     },
     "metadata": {},
     "output_type": "display_data"
    },
    {
     "name": "stdout",
     "output_type": "stream",
     "text": [
      "Porcentaje de cada valor en ¿Eres capaz de expresar verbalmente las emociones que te produce una imagen que has visto? expresado como valor / porcentaje\n"
     ]
    },
    {
     "data": {
      "text/plain": [
       "2     3.0\n",
       "3    23.0\n",
       "4    56.0\n",
       "5    18.0\n",
       "Name: ¿Eres capaz de expresar verbalmente las emociones que te produce una imagen que has visto?, dtype: float64"
      ]
     },
     "metadata": {},
     "output_type": "display_data"
    },
    {
     "data": {
      "application/vnd.plotly.v1+json": {
       "config": {
        "linkText": "Export to plot.ly",
        "plotlyServerURL": "https://plot.ly",
        "showLink": false
       },
       "data": [
        {
         "marker": {
          "color": [
           "rgb(213,62,79)",
           "rgb(252,141,89)",
           "rgb(254,224,139)",
           "rgb(230,245,152)",
           "rgb(153,213,148)",
           "rgb(50,136,189)"
          ]
         },
         "type": "bar",
         "uid": "cc4f9115-1700-434e-b2e3-aacbd29c0653",
         "x": [
          2,
          3,
          4,
          5
         ],
         "y": [
          3,
          23,
          56,
          18
         ]
        }
       ],
       "layout": {
        "bargap": 0.2,
        "xaxis": {
         "ticktext": [
          "1. Nunca",
          "2. Muy pocas veces",
          "3. En ocasiones",
          "4. Bastantes veces",
          "5. Casi siempre o siempre"
         ],
         "tickvals": [
          1,
          2,
          3,
          4,
          5
         ]
        }
       }
      },
      "text/html": [
       "<div id=\"53320b04-adb3-4974-a2a1-3bc373c73f03\" style=\"height: 525px; width: 100%;\" class=\"plotly-graph-div\"></div><script type=\"text/javascript\">require([\"plotly\"], function(Plotly) { window.PLOTLYENV=window.PLOTLYENV || {};window.PLOTLYENV.BASE_URL=\"https://plot.ly\";\n",
       "if (document.getElementById(\"53320b04-adb3-4974-a2a1-3bc373c73f03\")) {\n",
       "    Plotly.newPlot(\"53320b04-adb3-4974-a2a1-3bc373c73f03\", [{\"marker\": {\"color\": [\"rgb(213,62,79)\", \"rgb(252,141,89)\", \"rgb(254,224,139)\", \"rgb(230,245,152)\", \"rgb(153,213,148)\", \"rgb(50,136,189)\"]}, \"x\": [2, 3, 4, 5], \"y\": [3, 23, 56, 18], \"type\": \"bar\", \"uid\": \"cc4f9115-1700-434e-b2e3-aacbd29c0653\"}], {\"bargap\": 0.2, \"xaxis\": {\"ticktext\": [\"1. Nunca\", \"2. Muy pocas veces\", \"3. En ocasiones\", \"4. Bastantes veces\", \"5. Casi siempre o siempre\"], \"tickvals\": [1, 2, 3, 4, 5]}}, {\"showLink\": false, \"linkText\": \"Export to plot.ly\", \"plotlyServerURL\": \"https://plot.ly\"}); \n",
       "}\n",
       "});</script><script type=\"text/javascript\">window.addEventListener(\"resize\", function(){if (document.getElementById(\"53320b04-adb3-4974-a2a1-3bc373c73f03\")) {window._Plotly.Plots.resize(document.getElementById(\"53320b04-adb3-4974-a2a1-3bc373c73f03\"));};})</script>"
      ],
      "text/vnd.plotly.v1+html": [
       "<div id=\"53320b04-adb3-4974-a2a1-3bc373c73f03\" style=\"height: 525px; width: 100%;\" class=\"plotly-graph-div\"></div><script type=\"text/javascript\">require([\"plotly\"], function(Plotly) { window.PLOTLYENV=window.PLOTLYENV || {};window.PLOTLYENV.BASE_URL=\"https://plot.ly\";\n",
       "if (document.getElementById(\"53320b04-adb3-4974-a2a1-3bc373c73f03\")) {\n",
       "    Plotly.newPlot(\"53320b04-adb3-4974-a2a1-3bc373c73f03\", [{\"marker\": {\"color\": [\"rgb(213,62,79)\", \"rgb(252,141,89)\", \"rgb(254,224,139)\", \"rgb(230,245,152)\", \"rgb(153,213,148)\", \"rgb(50,136,189)\"]}, \"x\": [2, 3, 4, 5], \"y\": [3, 23, 56, 18], \"type\": \"bar\", \"uid\": \"cc4f9115-1700-434e-b2e3-aacbd29c0653\"}], {\"bargap\": 0.2, \"xaxis\": {\"ticktext\": [\"1. Nunca\", \"2. Muy pocas veces\", \"3. En ocasiones\", \"4. Bastantes veces\", \"5. Casi siempre o siempre\"], \"tickvals\": [1, 2, 3, 4, 5]}}, {\"showLink\": false, \"linkText\": \"Export to plot.ly\", \"plotlyServerURL\": \"https://plot.ly\"}); \n",
       "}\n",
       "});</script><script type=\"text/javascript\">window.addEventListener(\"resize\", function(){if (document.getElementById(\"53320b04-adb3-4974-a2a1-3bc373c73f03\")) {window._Plotly.Plots.resize(document.getElementById(\"53320b04-adb3-4974-a2a1-3bc373c73f03\"));};})</script>"
      ]
     },
     "metadata": {},
     "output_type": "display_data"
    },
    {
     "name": "stdout",
     "output_type": "stream",
     "text": [
      "\n",
      "\n",
      "Cluster 1 || variable: Cuando te encuentras con una imagen, ¿intentas entender con qué intención está hecha?\n",
      "Describiendo la pregunta Cuando te encuentras con una imagen, ¿intentas entender con qué intención está hecha?\n",
      "Valores numéricos asociados a las respuestas [1, 2, 3, 4, 5]\n",
      "Respuestas posibles a la pregunta/variable ['1. Nunca', '2. Muy pocas veces', '3. En ocasiones', '4. Bastantes veces', '5. Casi siempre o siempre']\n"
     ]
    },
    {
     "data": {
      "text/plain": [
       "count    37.000000\n",
       "mean      2.756757\n",
       "std       0.760314\n",
       "min       1.000000\n",
       "25%       2.000000\n",
       "50%       3.000000\n",
       "75%       3.000000\n",
       "max       4.000000\n",
       "Name: Cuando te encuentras con una imagen, ¿intentas entender con qué intención está hecha?, dtype: float64"
      ]
     },
     "metadata": {},
     "output_type": "display_data"
    },
    {
     "name": "stdout",
     "output_type": "stream",
     "text": [
      "Conteo de cada valor en Cuando te encuentras con una imagen, ¿intentas entender con qué intención está hecha? expresada como valor / cantidad\n"
     ]
    },
    {
     "data": {
      "text/plain": [
       "1     1\n",
       "2    13\n",
       "3    17\n",
       "4     6\n",
       "Name: Cuando te encuentras con una imagen, ¿intentas entender con qué intención está hecha?, dtype: int64"
      ]
     },
     "metadata": {},
     "output_type": "display_data"
    },
    {
     "name": "stdout",
     "output_type": "stream",
     "text": [
      "Porcentaje de cada valor en Cuando te encuentras con una imagen, ¿intentas entender con qué intención está hecha? expresado como valor / porcentaje\n"
     ]
    },
    {
     "data": {
      "text/plain": [
       "1     2.70\n",
       "2    35.14\n",
       "3    45.95\n",
       "4    16.22\n",
       "Name: Cuando te encuentras con una imagen, ¿intentas entender con qué intención está hecha?, dtype: float64"
      ]
     },
     "metadata": {},
     "output_type": "display_data"
    },
    {
     "data": {
      "application/vnd.plotly.v1+json": {
       "config": {
        "linkText": "Export to plot.ly",
        "plotlyServerURL": "https://plot.ly",
        "showLink": false
       },
       "data": [
        {
         "marker": {
          "color": [
           "rgb(213,62,79)",
           "rgb(252,141,89)",
           "rgb(254,224,139)",
           "rgb(230,245,152)",
           "rgb(153,213,148)",
           "rgb(50,136,189)"
          ]
         },
         "type": "bar",
         "uid": "860095cc-f7a8-47ec-9f4e-d5708096addd",
         "x": [
          1,
          2,
          3,
          4
         ],
         "y": [
          1,
          13,
          17,
          6
         ]
        }
       ],
       "layout": {
        "bargap": 0.2,
        "xaxis": {
         "ticktext": [
          "1. Nunca",
          "2. Muy pocas veces",
          "3. En ocasiones",
          "4. Bastantes veces",
          "5. Casi siempre o siempre"
         ],
         "tickvals": [
          1,
          2,
          3,
          4,
          5
         ]
        }
       }
      },
      "text/html": [
       "<div id=\"952149f9-a962-479b-bdad-7d8e7ffae187\" style=\"height: 525px; width: 100%;\" class=\"plotly-graph-div\"></div><script type=\"text/javascript\">require([\"plotly\"], function(Plotly) { window.PLOTLYENV=window.PLOTLYENV || {};window.PLOTLYENV.BASE_URL=\"https://plot.ly\";\n",
       "if (document.getElementById(\"952149f9-a962-479b-bdad-7d8e7ffae187\")) {\n",
       "    Plotly.newPlot(\"952149f9-a962-479b-bdad-7d8e7ffae187\", [{\"marker\": {\"color\": [\"rgb(213,62,79)\", \"rgb(252,141,89)\", \"rgb(254,224,139)\", \"rgb(230,245,152)\", \"rgb(153,213,148)\", \"rgb(50,136,189)\"]}, \"x\": [1, 2, 3, 4], \"y\": [1, 13, 17, 6], \"type\": \"bar\", \"uid\": \"860095cc-f7a8-47ec-9f4e-d5708096addd\"}], {\"bargap\": 0.2, \"xaxis\": {\"ticktext\": [\"1. Nunca\", \"2. Muy pocas veces\", \"3. En ocasiones\", \"4. Bastantes veces\", \"5. Casi siempre o siempre\"], \"tickvals\": [1, 2, 3, 4, 5]}}, {\"showLink\": false, \"linkText\": \"Export to plot.ly\", \"plotlyServerURL\": \"https://plot.ly\"}); \n",
       "}\n",
       "});</script><script type=\"text/javascript\">window.addEventListener(\"resize\", function(){if (document.getElementById(\"952149f9-a962-479b-bdad-7d8e7ffae187\")) {window._Plotly.Plots.resize(document.getElementById(\"952149f9-a962-479b-bdad-7d8e7ffae187\"));};})</script>"
      ],
      "text/vnd.plotly.v1+html": [
       "<div id=\"952149f9-a962-479b-bdad-7d8e7ffae187\" style=\"height: 525px; width: 100%;\" class=\"plotly-graph-div\"></div><script type=\"text/javascript\">require([\"plotly\"], function(Plotly) { window.PLOTLYENV=window.PLOTLYENV || {};window.PLOTLYENV.BASE_URL=\"https://plot.ly\";\n",
       "if (document.getElementById(\"952149f9-a962-479b-bdad-7d8e7ffae187\")) {\n",
       "    Plotly.newPlot(\"952149f9-a962-479b-bdad-7d8e7ffae187\", [{\"marker\": {\"color\": [\"rgb(213,62,79)\", \"rgb(252,141,89)\", \"rgb(254,224,139)\", \"rgb(230,245,152)\", \"rgb(153,213,148)\", \"rgb(50,136,189)\"]}, \"x\": [1, 2, 3, 4], \"y\": [1, 13, 17, 6], \"type\": \"bar\", \"uid\": \"860095cc-f7a8-47ec-9f4e-d5708096addd\"}], {\"bargap\": 0.2, \"xaxis\": {\"ticktext\": [\"1. Nunca\", \"2. Muy pocas veces\", \"3. En ocasiones\", \"4. Bastantes veces\", \"5. Casi siempre o siempre\"], \"tickvals\": [1, 2, 3, 4, 5]}}, {\"showLink\": false, \"linkText\": \"Export to plot.ly\", \"plotlyServerURL\": \"https://plot.ly\"}); \n",
       "}\n",
       "});</script><script type=\"text/javascript\">window.addEventListener(\"resize\", function(){if (document.getElementById(\"952149f9-a962-479b-bdad-7d8e7ffae187\")) {window._Plotly.Plots.resize(document.getElementById(\"952149f9-a962-479b-bdad-7d8e7ffae187\"));};})</script>"
      ]
     },
     "metadata": {},
     "output_type": "display_data"
    },
    {
     "name": "stdout",
     "output_type": "stream",
     "text": [
      "\n",
      "\n",
      "Cluster 1 || variable: Cuando recibes o consumes una imagen, ¿la comparas con tu propia realidad? ¿Intentas encontrar en tu entorno cierto parecido?\n",
      "Describiendo la pregunta Cuando recibes o consumes una imagen, ¿la comparas con tu propia realidad? ¿Intentas encontrar en tu entorno cierto parecido?\n",
      "Valores numéricos asociados a las respuestas [1, 2, 3, 4, 5]\n",
      "Respuestas posibles a la pregunta/variable ['1. Nunca', '2. Muy pocas veces', '3. En ocasiones', '4. Bastantes veces', '5. Casi siempre o siempre']\n"
     ]
    },
    {
     "data": {
      "text/plain": [
       "count    37.000000\n",
       "mean      2.594595\n",
       "std       0.685544\n",
       "min       2.000000\n",
       "25%       2.000000\n",
       "50%       2.000000\n",
       "75%       3.000000\n",
       "max       4.000000\n",
       "Name: Cuando recibes o consumes una imagen, ¿la comparas con tu propia realidad? ¿Intentas encontrar en tu entorno cierto parecido?, dtype: float64"
      ]
     },
     "metadata": {},
     "output_type": "display_data"
    },
    {
     "name": "stdout",
     "output_type": "stream",
     "text": [
      "Conteo de cada valor en Cuando recibes o consumes una imagen, ¿la comparas con tu propia realidad? ¿Intentas encontrar en tu entorno cierto parecido? expresada como valor / cantidad\n"
     ]
    },
    {
     "data": {
      "text/plain": [
       "2    19\n",
       "3    14\n",
       "4     4\n",
       "Name: Cuando recibes o consumes una imagen, ¿la comparas con tu propia realidad? ¿Intentas encontrar en tu entorno cierto parecido?, dtype: int64"
      ]
     },
     "metadata": {},
     "output_type": "display_data"
    },
    {
     "name": "stdout",
     "output_type": "stream",
     "text": [
      "Porcentaje de cada valor en Cuando recibes o consumes una imagen, ¿la comparas con tu propia realidad? ¿Intentas encontrar en tu entorno cierto parecido? expresado como valor / porcentaje\n"
     ]
    },
    {
     "data": {
      "text/plain": [
       "2    51.35\n",
       "3    37.84\n",
       "4    10.81\n",
       "Name: Cuando recibes o consumes una imagen, ¿la comparas con tu propia realidad? ¿Intentas encontrar en tu entorno cierto parecido?, dtype: float64"
      ]
     },
     "metadata": {},
     "output_type": "display_data"
    },
    {
     "data": {
      "application/vnd.plotly.v1+json": {
       "config": {
        "linkText": "Export to plot.ly",
        "plotlyServerURL": "https://plot.ly",
        "showLink": false
       },
       "data": [
        {
         "marker": {
          "color": [
           "rgb(213,62,79)",
           "rgb(252,141,89)",
           "rgb(254,224,139)",
           "rgb(230,245,152)",
           "rgb(153,213,148)",
           "rgb(50,136,189)"
          ]
         },
         "type": "bar",
         "uid": "f0fcf922-6375-414a-9afc-8fb33ceb2957",
         "x": [
          2,
          3,
          4
         ],
         "y": [
          19,
          14,
          4
         ]
        }
       ],
       "layout": {
        "bargap": 0.2,
        "xaxis": {
         "ticktext": [
          "1. Nunca",
          "2. Muy pocas veces",
          "3. En ocasiones",
          "4. Bastantes veces",
          "5. Casi siempre o siempre"
         ],
         "tickvals": [
          1,
          2,
          3,
          4,
          5
         ]
        }
       }
      },
      "text/html": [
       "<div id=\"659f6869-abf2-4959-91b3-61194df1e84a\" style=\"height: 525px; width: 100%;\" class=\"plotly-graph-div\"></div><script type=\"text/javascript\">require([\"plotly\"], function(Plotly) { window.PLOTLYENV=window.PLOTLYENV || {};window.PLOTLYENV.BASE_URL=\"https://plot.ly\";\n",
       "if (document.getElementById(\"659f6869-abf2-4959-91b3-61194df1e84a\")) {\n",
       "    Plotly.newPlot(\"659f6869-abf2-4959-91b3-61194df1e84a\", [{\"marker\": {\"color\": [\"rgb(213,62,79)\", \"rgb(252,141,89)\", \"rgb(254,224,139)\", \"rgb(230,245,152)\", \"rgb(153,213,148)\", \"rgb(50,136,189)\"]}, \"x\": [2, 3, 4], \"y\": [19, 14, 4], \"type\": \"bar\", \"uid\": \"f0fcf922-6375-414a-9afc-8fb33ceb2957\"}], {\"bargap\": 0.2, \"xaxis\": {\"ticktext\": [\"1. Nunca\", \"2. Muy pocas veces\", \"3. En ocasiones\", \"4. Bastantes veces\", \"5. Casi siempre o siempre\"], \"tickvals\": [1, 2, 3, 4, 5]}}, {\"showLink\": false, \"linkText\": \"Export to plot.ly\", \"plotlyServerURL\": \"https://plot.ly\"}); \n",
       "}\n",
       "});</script><script type=\"text/javascript\">window.addEventListener(\"resize\", function(){if (document.getElementById(\"659f6869-abf2-4959-91b3-61194df1e84a\")) {window._Plotly.Plots.resize(document.getElementById(\"659f6869-abf2-4959-91b3-61194df1e84a\"));};})</script>"
      ],
      "text/vnd.plotly.v1+html": [
       "<div id=\"659f6869-abf2-4959-91b3-61194df1e84a\" style=\"height: 525px; width: 100%;\" class=\"plotly-graph-div\"></div><script type=\"text/javascript\">require([\"plotly\"], function(Plotly) { window.PLOTLYENV=window.PLOTLYENV || {};window.PLOTLYENV.BASE_URL=\"https://plot.ly\";\n",
       "if (document.getElementById(\"659f6869-abf2-4959-91b3-61194df1e84a\")) {\n",
       "    Plotly.newPlot(\"659f6869-abf2-4959-91b3-61194df1e84a\", [{\"marker\": {\"color\": [\"rgb(213,62,79)\", \"rgb(252,141,89)\", \"rgb(254,224,139)\", \"rgb(230,245,152)\", \"rgb(153,213,148)\", \"rgb(50,136,189)\"]}, \"x\": [2, 3, 4], \"y\": [19, 14, 4], \"type\": \"bar\", \"uid\": \"f0fcf922-6375-414a-9afc-8fb33ceb2957\"}], {\"bargap\": 0.2, \"xaxis\": {\"ticktext\": [\"1. Nunca\", \"2. Muy pocas veces\", \"3. En ocasiones\", \"4. Bastantes veces\", \"5. Casi siempre o siempre\"], \"tickvals\": [1, 2, 3, 4, 5]}}, {\"showLink\": false, \"linkText\": \"Export to plot.ly\", \"plotlyServerURL\": \"https://plot.ly\"}); \n",
       "}\n",
       "});</script><script type=\"text/javascript\">window.addEventListener(\"resize\", function(){if (document.getElementById(\"659f6869-abf2-4959-91b3-61194df1e84a\")) {window._Plotly.Plots.resize(document.getElementById(\"659f6869-abf2-4959-91b3-61194df1e84a\"));};})</script>"
      ]
     },
     "metadata": {},
     "output_type": "display_data"
    },
    {
     "name": "stdout",
     "output_type": "stream",
     "text": [
      "\n",
      "\n",
      "Cluster 1 || variable: Cuando recibes o consumes una imagen, ¿piensas en el modo en que fue obtenida (técnicamente)?\n",
      "Describiendo la pregunta Cuando recibes o consumes una imagen, ¿piensas en el modo en que fue obtenida (técnicamente)?\n",
      "Valores numéricos asociados a las respuestas [1, 2, 3, 4, 5]\n",
      "Respuestas posibles a la pregunta/variable ['1. Nunca', '2. Muy pocas veces', '3. En ocasiones', '4. Bastantes veces', '5. Casi siempre o siempre']\n"
     ]
    },
    {
     "data": {
      "text/plain": [
       "count    37.000000\n",
       "mean      2.864865\n",
       "std       0.713449\n",
       "min       2.000000\n",
       "25%       2.000000\n",
       "50%       3.000000\n",
       "75%       3.000000\n",
       "max       5.000000\n",
       "Name: Cuando recibes o consumes una imagen, ¿piensas en el modo en que fue obtenida (técnicamente)?, dtype: float64"
      ]
     },
     "metadata": {},
     "output_type": "display_data"
    },
    {
     "name": "stdout",
     "output_type": "stream",
     "text": [
      "Conteo de cada valor en Cuando recibes o consumes una imagen, ¿piensas en el modo en que fue obtenida (técnicamente)? expresada como valor / cantidad\n"
     ]
    },
    {
     "data": {
      "text/plain": [
       "2    11\n",
       "3    21\n",
       "4     4\n",
       "5     1\n",
       "Name: Cuando recibes o consumes una imagen, ¿piensas en el modo en que fue obtenida (técnicamente)?, dtype: int64"
      ]
     },
     "metadata": {},
     "output_type": "display_data"
    },
    {
     "name": "stdout",
     "output_type": "stream",
     "text": [
      "Porcentaje de cada valor en Cuando recibes o consumes una imagen, ¿piensas en el modo en que fue obtenida (técnicamente)? expresado como valor / porcentaje\n"
     ]
    },
    {
     "data": {
      "text/plain": [
       "2    29.73\n",
       "3    56.76\n",
       "4    10.81\n",
       "5     2.70\n",
       "Name: Cuando recibes o consumes una imagen, ¿piensas en el modo en que fue obtenida (técnicamente)?, dtype: float64"
      ]
     },
     "metadata": {},
     "output_type": "display_data"
    },
    {
     "data": {
      "application/vnd.plotly.v1+json": {
       "config": {
        "linkText": "Export to plot.ly",
        "plotlyServerURL": "https://plot.ly",
        "showLink": false
       },
       "data": [
        {
         "marker": {
          "color": [
           "rgb(213,62,79)",
           "rgb(252,141,89)",
           "rgb(254,224,139)",
           "rgb(230,245,152)",
           "rgb(153,213,148)",
           "rgb(50,136,189)"
          ]
         },
         "type": "bar",
         "uid": "add7aa0f-1303-4e0d-a610-dd5f4336647b",
         "x": [
          2,
          3,
          4,
          5
         ],
         "y": [
          11,
          21,
          4,
          1
         ]
        }
       ],
       "layout": {
        "bargap": 0.2,
        "xaxis": {
         "ticktext": [
          "1. Nunca",
          "2. Muy pocas veces",
          "3. En ocasiones",
          "4. Bastantes veces",
          "5. Casi siempre o siempre"
         ],
         "tickvals": [
          1,
          2,
          3,
          4,
          5
         ]
        }
       }
      },
      "text/html": [
       "<div id=\"ded32060-3d62-4408-b078-37381f934ba8\" style=\"height: 525px; width: 100%;\" class=\"plotly-graph-div\"></div><script type=\"text/javascript\">require([\"plotly\"], function(Plotly) { window.PLOTLYENV=window.PLOTLYENV || {};window.PLOTLYENV.BASE_URL=\"https://plot.ly\";\n",
       "if (document.getElementById(\"ded32060-3d62-4408-b078-37381f934ba8\")) {\n",
       "    Plotly.newPlot(\"ded32060-3d62-4408-b078-37381f934ba8\", [{\"marker\": {\"color\": [\"rgb(213,62,79)\", \"rgb(252,141,89)\", \"rgb(254,224,139)\", \"rgb(230,245,152)\", \"rgb(153,213,148)\", \"rgb(50,136,189)\"]}, \"x\": [2, 3, 4, 5], \"y\": [11, 21, 4, 1], \"type\": \"bar\", \"uid\": \"add7aa0f-1303-4e0d-a610-dd5f4336647b\"}], {\"bargap\": 0.2, \"xaxis\": {\"ticktext\": [\"1. Nunca\", \"2. Muy pocas veces\", \"3. En ocasiones\", \"4. Bastantes veces\", \"5. Casi siempre o siempre\"], \"tickvals\": [1, 2, 3, 4, 5]}}, {\"showLink\": false, \"linkText\": \"Export to plot.ly\", \"plotlyServerURL\": \"https://plot.ly\"}); \n",
       "}\n",
       "});</script><script type=\"text/javascript\">window.addEventListener(\"resize\", function(){if (document.getElementById(\"ded32060-3d62-4408-b078-37381f934ba8\")) {window._Plotly.Plots.resize(document.getElementById(\"ded32060-3d62-4408-b078-37381f934ba8\"));};})</script>"
      ],
      "text/vnd.plotly.v1+html": [
       "<div id=\"ded32060-3d62-4408-b078-37381f934ba8\" style=\"height: 525px; width: 100%;\" class=\"plotly-graph-div\"></div><script type=\"text/javascript\">require([\"plotly\"], function(Plotly) { window.PLOTLYENV=window.PLOTLYENV || {};window.PLOTLYENV.BASE_URL=\"https://plot.ly\";\n",
       "if (document.getElementById(\"ded32060-3d62-4408-b078-37381f934ba8\")) {\n",
       "    Plotly.newPlot(\"ded32060-3d62-4408-b078-37381f934ba8\", [{\"marker\": {\"color\": [\"rgb(213,62,79)\", \"rgb(252,141,89)\", \"rgb(254,224,139)\", \"rgb(230,245,152)\", \"rgb(153,213,148)\", \"rgb(50,136,189)\"]}, \"x\": [2, 3, 4, 5], \"y\": [11, 21, 4, 1], \"type\": \"bar\", \"uid\": \"add7aa0f-1303-4e0d-a610-dd5f4336647b\"}], {\"bargap\": 0.2, \"xaxis\": {\"ticktext\": [\"1. Nunca\", \"2. Muy pocas veces\", \"3. En ocasiones\", \"4. Bastantes veces\", \"5. Casi siempre o siempre\"], \"tickvals\": [1, 2, 3, 4, 5]}}, {\"showLink\": false, \"linkText\": \"Export to plot.ly\", \"plotlyServerURL\": \"https://plot.ly\"}); \n",
       "}\n",
       "});</script><script type=\"text/javascript\">window.addEventListener(\"resize\", function(){if (document.getElementById(\"ded32060-3d62-4408-b078-37381f934ba8\")) {window._Plotly.Plots.resize(document.getElementById(\"ded32060-3d62-4408-b078-37381f934ba8\"));};})</script>"
      ]
     },
     "metadata": {},
     "output_type": "display_data"
    },
    {
     "name": "stdout",
     "output_type": "stream",
     "text": [
      "\n",
      "\n",
      "Cluster 1 || variable: Cuando observas una imagen, ¿te preguntas cosas acerca de los personajes/objetos que aparecen en la misma?\n",
      "Describiendo la pregunta Cuando observas una imagen, ¿te preguntas cosas acerca de los personajes/objetos que aparecen en la misma?\n",
      "Valores numéricos asociados a las respuestas [1, 2, 3, 4, 5]\n",
      "Respuestas posibles a la pregunta/variable ['1. Nunca', '2. Muy pocas veces', '3. En ocasiones', '4. Bastantes veces', '5. Casi siempre o siempre']\n"
     ]
    },
    {
     "data": {
      "text/plain": [
       "count    37.00000\n",
       "mean      2.72973\n",
       "std       0.87078\n",
       "min       1.00000\n",
       "25%       2.00000\n",
       "50%       3.00000\n",
       "75%       3.00000\n",
       "max       4.00000\n",
       "Name: Cuando observas una imagen, ¿te preguntas cosas acerca de los personajes/objetos que aparecen en la misma?, dtype: float64"
      ]
     },
     "metadata": {},
     "output_type": "display_data"
    },
    {
     "name": "stdout",
     "output_type": "stream",
     "text": [
      "Conteo de cada valor en Cuando observas una imagen, ¿te preguntas cosas acerca de los personajes/objetos que aparecen en la misma? expresada como valor / cantidad\n"
     ]
    },
    {
     "data": {
      "text/plain": [
       "1     3\n",
       "2    11\n",
       "3    16\n",
       "4     7\n",
       "Name: Cuando observas una imagen, ¿te preguntas cosas acerca de los personajes/objetos que aparecen en la misma?, dtype: int64"
      ]
     },
     "metadata": {},
     "output_type": "display_data"
    },
    {
     "name": "stdout",
     "output_type": "stream",
     "text": [
      "Porcentaje de cada valor en Cuando observas una imagen, ¿te preguntas cosas acerca de los personajes/objetos que aparecen en la misma? expresado como valor / porcentaje\n"
     ]
    },
    {
     "data": {
      "text/plain": [
       "1     8.11\n",
       "2    29.73\n",
       "3    43.24\n",
       "4    18.92\n",
       "Name: Cuando observas una imagen, ¿te preguntas cosas acerca de los personajes/objetos que aparecen en la misma?, dtype: float64"
      ]
     },
     "metadata": {},
     "output_type": "display_data"
    },
    {
     "data": {
      "application/vnd.plotly.v1+json": {
       "config": {
        "linkText": "Export to plot.ly",
        "plotlyServerURL": "https://plot.ly",
        "showLink": false
       },
       "data": [
        {
         "marker": {
          "color": [
           "rgb(213,62,79)",
           "rgb(252,141,89)",
           "rgb(254,224,139)",
           "rgb(230,245,152)",
           "rgb(153,213,148)",
           "rgb(50,136,189)"
          ]
         },
         "type": "bar",
         "uid": "da928f8b-0159-4331-8ade-530e5ea3f446",
         "x": [
          1,
          2,
          3,
          4
         ],
         "y": [
          3,
          11,
          16,
          7
         ]
        }
       ],
       "layout": {
        "bargap": 0.2,
        "xaxis": {
         "ticktext": [
          "1. Nunca",
          "2. Muy pocas veces",
          "3. En ocasiones",
          "4. Bastantes veces",
          "5. Casi siempre o siempre"
         ],
         "tickvals": [
          1,
          2,
          3,
          4,
          5
         ]
        }
       }
      },
      "text/html": [
       "<div id=\"264265a3-ae62-4c24-a38a-89775da85aa5\" style=\"height: 525px; width: 100%;\" class=\"plotly-graph-div\"></div><script type=\"text/javascript\">require([\"plotly\"], function(Plotly) { window.PLOTLYENV=window.PLOTLYENV || {};window.PLOTLYENV.BASE_URL=\"https://plot.ly\";\n",
       "if (document.getElementById(\"264265a3-ae62-4c24-a38a-89775da85aa5\")) {\n",
       "    Plotly.newPlot(\"264265a3-ae62-4c24-a38a-89775da85aa5\", [{\"marker\": {\"color\": [\"rgb(213,62,79)\", \"rgb(252,141,89)\", \"rgb(254,224,139)\", \"rgb(230,245,152)\", \"rgb(153,213,148)\", \"rgb(50,136,189)\"]}, \"x\": [1, 2, 3, 4], \"y\": [3, 11, 16, 7], \"type\": \"bar\", \"uid\": \"da928f8b-0159-4331-8ade-530e5ea3f446\"}], {\"bargap\": 0.2, \"xaxis\": {\"ticktext\": [\"1. Nunca\", \"2. Muy pocas veces\", \"3. En ocasiones\", \"4. Bastantes veces\", \"5. Casi siempre o siempre\"], \"tickvals\": [1, 2, 3, 4, 5]}}, {\"showLink\": false, \"linkText\": \"Export to plot.ly\", \"plotlyServerURL\": \"https://plot.ly\"}); \n",
       "}\n",
       "});</script><script type=\"text/javascript\">window.addEventListener(\"resize\", function(){if (document.getElementById(\"264265a3-ae62-4c24-a38a-89775da85aa5\")) {window._Plotly.Plots.resize(document.getElementById(\"264265a3-ae62-4c24-a38a-89775da85aa5\"));};})</script>"
      ],
      "text/vnd.plotly.v1+html": [
       "<div id=\"264265a3-ae62-4c24-a38a-89775da85aa5\" style=\"height: 525px; width: 100%;\" class=\"plotly-graph-div\"></div><script type=\"text/javascript\">require([\"plotly\"], function(Plotly) { window.PLOTLYENV=window.PLOTLYENV || {};window.PLOTLYENV.BASE_URL=\"https://plot.ly\";\n",
       "if (document.getElementById(\"264265a3-ae62-4c24-a38a-89775da85aa5\")) {\n",
       "    Plotly.newPlot(\"264265a3-ae62-4c24-a38a-89775da85aa5\", [{\"marker\": {\"color\": [\"rgb(213,62,79)\", \"rgb(252,141,89)\", \"rgb(254,224,139)\", \"rgb(230,245,152)\", \"rgb(153,213,148)\", \"rgb(50,136,189)\"]}, \"x\": [1, 2, 3, 4], \"y\": [3, 11, 16, 7], \"type\": \"bar\", \"uid\": \"da928f8b-0159-4331-8ade-530e5ea3f446\"}], {\"bargap\": 0.2, \"xaxis\": {\"ticktext\": [\"1. Nunca\", \"2. Muy pocas veces\", \"3. En ocasiones\", \"4. Bastantes veces\", \"5. Casi siempre o siempre\"], \"tickvals\": [1, 2, 3, 4, 5]}}, {\"showLink\": false, \"linkText\": \"Export to plot.ly\", \"plotlyServerURL\": \"https://plot.ly\"}); \n",
       "}\n",
       "});</script><script type=\"text/javascript\">window.addEventListener(\"resize\", function(){if (document.getElementById(\"264265a3-ae62-4c24-a38a-89775da85aa5\")) {window._Plotly.Plots.resize(document.getElementById(\"264265a3-ae62-4c24-a38a-89775da85aa5\"));};})</script>"
      ]
     },
     "metadata": {},
     "output_type": "display_data"
    },
    {
     "name": "stdout",
     "output_type": "stream",
     "text": [
      "\n",
      "\n",
      "Cluster 1 || variable: ¿Entiendes, generalmente, las intenciones que tiene el autor de una imagen cuando la ves y la compartes?\n",
      "Describiendo la pregunta ¿Entiendes, generalmente, las intenciones que tiene el autor de una imagen cuando la ves y la compartes?\n",
      "Valores numéricos asociados a las respuestas [1, 2, 3, 4, 5]\n",
      "Respuestas posibles a la pregunta/variable ['1. Never', '2. Very rarely', '3. Occasionally', '4. Several times', '5. Almost always or always']\n"
     ]
    },
    {
     "data": {
      "text/plain": [
       "count    37.000000\n",
       "mean      3.189189\n",
       "std       0.775952\n",
       "min       2.000000\n",
       "25%       3.000000\n",
       "50%       3.000000\n",
       "75%       4.000000\n",
       "max       5.000000\n",
       "Name: ¿Entiendes, generalmente, las intenciones que tiene el autor de una imagen cuando la ves y la compartes?, dtype: float64"
      ]
     },
     "metadata": {},
     "output_type": "display_data"
    },
    {
     "name": "stdout",
     "output_type": "stream",
     "text": [
      "Conteo de cada valor en ¿Entiendes, generalmente, las intenciones que tiene el autor de una imagen cuando la ves y la compartes? expresada como valor / cantidad\n"
     ]
    },
    {
     "data": {
      "text/plain": [
       "2     6\n",
       "3    20\n",
       "4     9\n",
       "5     2\n",
       "Name: ¿Entiendes, generalmente, las intenciones que tiene el autor de una imagen cuando la ves y la compartes?, dtype: int64"
      ]
     },
     "metadata": {},
     "output_type": "display_data"
    },
    {
     "name": "stdout",
     "output_type": "stream",
     "text": [
      "Porcentaje de cada valor en ¿Entiendes, generalmente, las intenciones que tiene el autor de una imagen cuando la ves y la compartes? expresado como valor / porcentaje\n"
     ]
    },
    {
     "data": {
      "text/plain": [
       "2    16.22\n",
       "3    54.05\n",
       "4    24.32\n",
       "5     5.41\n",
       "Name: ¿Entiendes, generalmente, las intenciones que tiene el autor de una imagen cuando la ves y la compartes?, dtype: float64"
      ]
     },
     "metadata": {},
     "output_type": "display_data"
    },
    {
     "data": {
      "application/vnd.plotly.v1+json": {
       "config": {
        "linkText": "Export to plot.ly",
        "plotlyServerURL": "https://plot.ly",
        "showLink": false
       },
       "data": [
        {
         "marker": {
          "color": [
           "rgb(213,62,79)",
           "rgb(252,141,89)",
           "rgb(254,224,139)",
           "rgb(230,245,152)",
           "rgb(153,213,148)",
           "rgb(50,136,189)"
          ]
         },
         "type": "bar",
         "uid": "b2441200-2281-4b24-b659-765f165e6ba4",
         "x": [
          2,
          3,
          4,
          5
         ],
         "y": [
          6,
          20,
          9,
          2
         ]
        }
       ],
       "layout": {
        "bargap": 0.2,
        "xaxis": {
         "ticktext": [
          "1. Never",
          "2. Very rarely",
          "3. Occasionally",
          "4. Several times",
          "5. Almost always or always"
         ],
         "tickvals": [
          1,
          2,
          3,
          4,
          5
         ]
        }
       }
      },
      "text/html": [
       "<div id=\"d447aedd-6e8c-4325-b676-970111191013\" style=\"height: 525px; width: 100%;\" class=\"plotly-graph-div\"></div><script type=\"text/javascript\">require([\"plotly\"], function(Plotly) { window.PLOTLYENV=window.PLOTLYENV || {};window.PLOTLYENV.BASE_URL=\"https://plot.ly\";\n",
       "if (document.getElementById(\"d447aedd-6e8c-4325-b676-970111191013\")) {\n",
       "    Plotly.newPlot(\"d447aedd-6e8c-4325-b676-970111191013\", [{\"marker\": {\"color\": [\"rgb(213,62,79)\", \"rgb(252,141,89)\", \"rgb(254,224,139)\", \"rgb(230,245,152)\", \"rgb(153,213,148)\", \"rgb(50,136,189)\"]}, \"x\": [2, 3, 4, 5], \"y\": [6, 20, 9, 2], \"type\": \"bar\", \"uid\": \"b2441200-2281-4b24-b659-765f165e6ba4\"}], {\"bargap\": 0.2, \"xaxis\": {\"ticktext\": [\"1. Never\", \"2. Very rarely\", \"3. Occasionally\", \"4. Several times\", \"5. Almost always or always\"], \"tickvals\": [1, 2, 3, 4, 5]}}, {\"showLink\": false, \"linkText\": \"Export to plot.ly\", \"plotlyServerURL\": \"https://plot.ly\"}); \n",
       "}\n",
       "});</script><script type=\"text/javascript\">window.addEventListener(\"resize\", function(){if (document.getElementById(\"d447aedd-6e8c-4325-b676-970111191013\")) {window._Plotly.Plots.resize(document.getElementById(\"d447aedd-6e8c-4325-b676-970111191013\"));};})</script>"
      ],
      "text/vnd.plotly.v1+html": [
       "<div id=\"d447aedd-6e8c-4325-b676-970111191013\" style=\"height: 525px; width: 100%;\" class=\"plotly-graph-div\"></div><script type=\"text/javascript\">require([\"plotly\"], function(Plotly) { window.PLOTLYENV=window.PLOTLYENV || {};window.PLOTLYENV.BASE_URL=\"https://plot.ly\";\n",
       "if (document.getElementById(\"d447aedd-6e8c-4325-b676-970111191013\")) {\n",
       "    Plotly.newPlot(\"d447aedd-6e8c-4325-b676-970111191013\", [{\"marker\": {\"color\": [\"rgb(213,62,79)\", \"rgb(252,141,89)\", \"rgb(254,224,139)\", \"rgb(230,245,152)\", \"rgb(153,213,148)\", \"rgb(50,136,189)\"]}, \"x\": [2, 3, 4, 5], \"y\": [6, 20, 9, 2], \"type\": \"bar\", \"uid\": \"b2441200-2281-4b24-b659-765f165e6ba4\"}], {\"bargap\": 0.2, \"xaxis\": {\"ticktext\": [\"1. Never\", \"2. Very rarely\", \"3. Occasionally\", \"4. Several times\", \"5. Almost always or always\"], \"tickvals\": [1, 2, 3, 4, 5]}}, {\"showLink\": false, \"linkText\": \"Export to plot.ly\", \"plotlyServerURL\": \"https://plot.ly\"}); \n",
       "}\n",
       "});</script><script type=\"text/javascript\">window.addEventListener(\"resize\", function(){if (document.getElementById(\"d447aedd-6e8c-4325-b676-970111191013\")) {window._Plotly.Plots.resize(document.getElementById(\"d447aedd-6e8c-4325-b676-970111191013\"));};})</script>"
      ]
     },
     "metadata": {},
     "output_type": "display_data"
    },
    {
     "name": "stdout",
     "output_type": "stream",
     "text": [
      "\n",
      "\n",
      "Cluster 1 || variable: ¿Eres capaz de expresar verbalmente las emociones que te produce una imagen que has visto?\n",
      "Describiendo la pregunta ¿Eres capaz de expresar verbalmente las emociones que te produce una imagen que has visto?\n",
      "Valores numéricos asociados a las respuestas [1, 2, 3, 4, 5]\n",
      "Respuestas posibles a la pregunta/variable ['1. Nunca', '2. Muy pocas veces', '3. En ocasiones', '4. Bastantes veces', '5. Casi siempre o siempre']\n"
     ]
    },
    {
     "data": {
      "text/plain": [
       "count    37.000000\n",
       "mean      3.027027\n",
       "std       0.927556\n",
       "min       1.000000\n",
       "25%       2.000000\n",
       "50%       3.000000\n",
       "75%       4.000000\n",
       "max       5.000000\n",
       "Name: ¿Eres capaz de expresar verbalmente las emociones que te produce una imagen que has visto?, dtype: float64"
      ]
     },
     "metadata": {},
     "output_type": "display_data"
    },
    {
     "name": "stdout",
     "output_type": "stream",
     "text": [
      "Conteo de cada valor en ¿Eres capaz de expresar verbalmente las emociones que te produce una imagen que has visto? expresada como valor / cantidad\n"
     ]
    },
    {
     "data": {
      "text/plain": [
       "1     1\n",
       "2    11\n",
       "3    12\n",
       "4    12\n",
       "5     1\n",
       "Name: ¿Eres capaz de expresar verbalmente las emociones que te produce una imagen que has visto?, dtype: int64"
      ]
     },
     "metadata": {},
     "output_type": "display_data"
    },
    {
     "name": "stdout",
     "output_type": "stream",
     "text": [
      "Porcentaje de cada valor en ¿Eres capaz de expresar verbalmente las emociones que te produce una imagen que has visto? expresado como valor / porcentaje\n"
     ]
    },
    {
     "data": {
      "text/plain": [
       "1     2.70\n",
       "2    29.73\n",
       "3    32.43\n",
       "4    32.43\n",
       "5     2.70\n",
       "Name: ¿Eres capaz de expresar verbalmente las emociones que te produce una imagen que has visto?, dtype: float64"
      ]
     },
     "metadata": {},
     "output_type": "display_data"
    },
    {
     "data": {
      "application/vnd.plotly.v1+json": {
       "config": {
        "linkText": "Export to plot.ly",
        "plotlyServerURL": "https://plot.ly",
        "showLink": false
       },
       "data": [
        {
         "marker": {
          "color": [
           "rgb(213,62,79)",
           "rgb(252,141,89)",
           "rgb(254,224,139)",
           "rgb(230,245,152)",
           "rgb(153,213,148)",
           "rgb(50,136,189)"
          ]
         },
         "type": "bar",
         "uid": "ed1af991-f1a4-4f0d-8a45-5d01f7563ecc",
         "x": [
          1,
          2,
          3,
          4,
          5
         ],
         "y": [
          1,
          11,
          12,
          12,
          1
         ]
        }
       ],
       "layout": {
        "bargap": 0.2,
        "xaxis": {
         "ticktext": [
          "1. Nunca",
          "2. Muy pocas veces",
          "3. En ocasiones",
          "4. Bastantes veces",
          "5. Casi siempre o siempre"
         ],
         "tickvals": [
          1,
          2,
          3,
          4,
          5
         ]
        }
       }
      },
      "text/html": [
       "<div id=\"bef1a8d8-d1d8-4d44-8f47-5ef8fc4f7ffb\" style=\"height: 525px; width: 100%;\" class=\"plotly-graph-div\"></div><script type=\"text/javascript\">require([\"plotly\"], function(Plotly) { window.PLOTLYENV=window.PLOTLYENV || {};window.PLOTLYENV.BASE_URL=\"https://plot.ly\";\n",
       "if (document.getElementById(\"bef1a8d8-d1d8-4d44-8f47-5ef8fc4f7ffb\")) {\n",
       "    Plotly.newPlot(\"bef1a8d8-d1d8-4d44-8f47-5ef8fc4f7ffb\", [{\"marker\": {\"color\": [\"rgb(213,62,79)\", \"rgb(252,141,89)\", \"rgb(254,224,139)\", \"rgb(230,245,152)\", \"rgb(153,213,148)\", \"rgb(50,136,189)\"]}, \"x\": [1, 2, 3, 4, 5], \"y\": [1, 11, 12, 12, 1], \"type\": \"bar\", \"uid\": \"ed1af991-f1a4-4f0d-8a45-5d01f7563ecc\"}], {\"bargap\": 0.2, \"xaxis\": {\"ticktext\": [\"1. Nunca\", \"2. Muy pocas veces\", \"3. En ocasiones\", \"4. Bastantes veces\", \"5. Casi siempre o siempre\"], \"tickvals\": [1, 2, 3, 4, 5]}}, {\"showLink\": false, \"linkText\": \"Export to plot.ly\", \"plotlyServerURL\": \"https://plot.ly\"}); \n",
       "}\n",
       "});</script><script type=\"text/javascript\">window.addEventListener(\"resize\", function(){if (document.getElementById(\"bef1a8d8-d1d8-4d44-8f47-5ef8fc4f7ffb\")) {window._Plotly.Plots.resize(document.getElementById(\"bef1a8d8-d1d8-4d44-8f47-5ef8fc4f7ffb\"));};})</script>"
      ],
      "text/vnd.plotly.v1+html": [
       "<div id=\"bef1a8d8-d1d8-4d44-8f47-5ef8fc4f7ffb\" style=\"height: 525px; width: 100%;\" class=\"plotly-graph-div\"></div><script type=\"text/javascript\">require([\"plotly\"], function(Plotly) { window.PLOTLYENV=window.PLOTLYENV || {};window.PLOTLYENV.BASE_URL=\"https://plot.ly\";\n",
       "if (document.getElementById(\"bef1a8d8-d1d8-4d44-8f47-5ef8fc4f7ffb\")) {\n",
       "    Plotly.newPlot(\"bef1a8d8-d1d8-4d44-8f47-5ef8fc4f7ffb\", [{\"marker\": {\"color\": [\"rgb(213,62,79)\", \"rgb(252,141,89)\", \"rgb(254,224,139)\", \"rgb(230,245,152)\", \"rgb(153,213,148)\", \"rgb(50,136,189)\"]}, \"x\": [1, 2, 3, 4, 5], \"y\": [1, 11, 12, 12, 1], \"type\": \"bar\", \"uid\": \"ed1af991-f1a4-4f0d-8a45-5d01f7563ecc\"}], {\"bargap\": 0.2, \"xaxis\": {\"ticktext\": [\"1. Nunca\", \"2. Muy pocas veces\", \"3. En ocasiones\", \"4. Bastantes veces\", \"5. Casi siempre o siempre\"], \"tickvals\": [1, 2, 3, 4, 5]}}, {\"showLink\": false, \"linkText\": \"Export to plot.ly\", \"plotlyServerURL\": \"https://plot.ly\"}); \n",
       "}\n",
       "});</script><script type=\"text/javascript\">window.addEventListener(\"resize\", function(){if (document.getElementById(\"bef1a8d8-d1d8-4d44-8f47-5ef8fc4f7ffb\")) {window._Plotly.Plots.resize(document.getElementById(\"bef1a8d8-d1d8-4d44-8f47-5ef8fc4f7ffb\"));};})</script>"
      ]
     },
     "metadata": {},
     "output_type": "display_data"
    }
   ],
   "source": [
    "visualize_interpretation_images_by_prosume_clusters_esp(dataframe_with_clusters_esp)"
   ]
  },
  {
   "cell_type": "code",
   "execution_count": 10,
   "metadata": {
    "scrolled": false
   },
   "outputs": [],
   "source": [
    "# visualize_interpretation_images_by_prosume_clusters_en(dataframe_with_clusters_en)"
   ]
  },
  {
   "cell_type": "code",
   "execution_count": 11,
   "metadata": {
    "scrolled": false
   },
   "outputs": [
    {
     "name": "stdout",
     "output_type": "stream",
     "text": [
      "Comparando la pregunta Cuando te encuentras con una imagen, ¿intentas entender con qué intención está hecha?\n"
     ]
    },
    {
     "data": {
      "application/vnd.plotly.v1+json": {
       "config": {
        "linkText": "Export to plot.ly",
        "plotlyServerURL": "https://plot.ly",
        "showLink": false
       },
       "data": [
        {
         "hovertemplate": "Cuando te encuentras con una imagen, ¿intentas entender con qué intención está hecha?=1. Nunca<br>counts=%{r}<br>prosume_cluster=%{theta}<extra></extra>",
         "legendgroup": "Cuando te encuentras con una imagen, ¿intentas entender con qué intención está hecha?=1. Nunca",
         "marker": {
          "color": "rgb(213,62,79)"
         },
         "name": "Cuando te encuentras con una imagen, ¿intentas entender con qué intención está hecha?=1. Nunca",
         "r": [
          1,
          13,
          2,
          5
         ],
         "showlegend": true,
         "theta": [
          "cluster_1",
          "cluster_2",
          "cluster_3",
          "cluster_5"
         ],
         "type": "barpolar",
         "uid": "e2ce3640-0d2c-409d-a15f-ddc25b43ddd3"
        },
        {
         "hovertemplate": "Cuando te encuentras con una imagen, ¿intentas entender con qué intención está hecha?=2. Muy pocas veces<br>counts=%{r}<br>prosume_cluster=%{theta}<extra></extra>",
         "legendgroup": "Cuando te encuentras con una imagen, ¿intentas entender con qué intención está hecha?=2. Muy pocas veces",
         "marker": {
          "color": "rgb(252,141,89)"
         },
         "name": "Cuando te encuentras con una imagen, ¿intentas entender con qué intención está hecha?=2. Muy pocas veces",
         "r": [
          13,
          36,
          5,
          4,
          40
         ],
         "showlegend": true,
         "theta": [
          "cluster_1",
          "cluster_2",
          "cluster_3",
          "cluster_4",
          "cluster_5"
         ],
         "type": "barpolar",
         "uid": "adb01616-8b9d-4eec-b833-792c5f9b9809"
        },
        {
         "hovertemplate": "Cuando te encuentras con una imagen, ¿intentas entender con qué intención está hecha?=3. En ocasiones<br>counts=%{r}<br>prosume_cluster=%{theta}<extra></extra>",
         "legendgroup": "Cuando te encuentras con una imagen, ¿intentas entender con qué intención está hecha?=3. En ocasiones",
         "marker": {
          "color": "rgb(254,224,139)"
         },
         "name": "Cuando te encuentras con una imagen, ¿intentas entender con qué intención está hecha?=3. En ocasiones",
         "r": [
          17,
          79,
          23,
          13,
          142
         ],
         "showlegend": true,
         "theta": [
          "cluster_1",
          "cluster_2",
          "cluster_3",
          "cluster_4",
          "cluster_5"
         ],
         "type": "barpolar",
         "uid": "eaf75489-4d53-434b-a4f6-9890cc3d5ab2"
        },
        {
         "hovertemplate": "Cuando te encuentras con una imagen, ¿intentas entender con qué intención está hecha?=4. Bastantes veces<br>counts=%{r}<br>prosume_cluster=%{theta}<extra></extra>",
         "legendgroup": "Cuando te encuentras con una imagen, ¿intentas entender con qué intención está hecha?=4. Bastantes veces",
         "marker": {
          "color": "rgb(230,245,152)"
         },
         "name": "Cuando te encuentras con una imagen, ¿intentas entender con qué intención está hecha?=4. Bastantes veces",
         "r": [
          6,
          51,
          54,
          31,
          101
         ],
         "showlegend": true,
         "theta": [
          "cluster_1",
          "cluster_2",
          "cluster_3",
          "cluster_4",
          "cluster_5"
         ],
         "type": "barpolar",
         "uid": "b031597e-955d-4439-8ed1-2b7750aedf24"
        },
        {
         "hovertemplate": "Cuando te encuentras con una imagen, ¿intentas entender con qué intención está hecha?=5. Casi siempre o siempre<br>counts=%{r}<br>prosume_cluster=%{theta}<extra></extra>",
         "legendgroup": "Cuando te encuentras con una imagen, ¿intentas entender con qué intención está hecha?=5. Casi siempre o siempre",
         "marker": {
          "color": "rgb(153,213,148)"
         },
         "name": "Cuando te encuentras con una imagen, ¿intentas entender con qué intención está hecha?=5. Casi siempre o siempre",
         "r": [
          17,
          16,
          50,
          48
         ],
         "showlegend": true,
         "theta": [
          "cluster_2",
          "cluster_3",
          "cluster_4",
          "cluster_5"
         ],
         "type": "barpolar",
         "uid": "4299d96c-098f-48eb-8580-bc894b1dd163"
        }
       ],
       "layout": {
        "barmode": "group",
        "barnorm": "",
        "height": 600,
        "legend": {
         "tracegroupgap": 0
        },
        "margin": {
         "t": 60
        },
        "polar": {
         "angularaxis": {
          "direction": "clockwise",
          "rotation": 90
         }
        },
        "template": {
         "data": {
          "bar": [
           {
            "marker": {
             "line": {
              "color": "#E5ECF6",
              "width": 0.5
             }
            },
            "type": "bar"
           }
          ],
          "barpolar": [
           {
            "marker": {
             "line": {
              "color": "#E5ECF6",
              "width": 0.5
             }
            },
            "type": "barpolar"
           }
          ],
          "carpet": [
           {
            "aaxis": {
             "endlinecolor": "#2a3f5f",
             "gridcolor": "white",
             "linecolor": "white",
             "minorgridcolor": "white",
             "startlinecolor": "#2a3f5f"
            },
            "baxis": {
             "endlinecolor": "#2a3f5f",
             "gridcolor": "white",
             "linecolor": "white",
             "minorgridcolor": "white",
             "startlinecolor": "#2a3f5f"
            },
            "type": "carpet"
           }
          ],
          "choropleth": [
           {
            "colorbar": {
             "outlinewidth": 0,
             "ticks": ""
            },
            "type": "choropleth"
           }
          ],
          "contour": [
           {
            "autocolorscale": true,
            "colorbar": {
             "outlinewidth": 0,
             "ticks": ""
            },
            "type": "contour"
           }
          ],
          "contourcarpet": [
           {
            "colorbar": {
             "outlinewidth": 0,
             "ticks": ""
            },
            "type": "contourcarpet"
           }
          ],
          "heatmap": [
           {
            "autocolorscale": true,
            "colorbar": {
             "outlinewidth": 0,
             "ticks": ""
            },
            "type": "heatmap"
           }
          ],
          "heatmapgl": [
           {
            "colorbar": {
             "outlinewidth": 0,
             "ticks": ""
            },
            "type": "heatmapgl"
           }
          ],
          "histogram": [
           {
            "marker": {
             "colorbar": {
              "outlinewidth": 0,
              "ticks": ""
             }
            },
            "type": "histogram"
           }
          ],
          "histogram2d": [
           {
            "autocolorscale": true,
            "colorbar": {
             "outlinewidth": 0,
             "ticks": ""
            },
            "type": "histogram2d"
           }
          ],
          "histogram2dcontour": [
           {
            "autocolorscale": true,
            "colorbar": {
             "outlinewidth": 0,
             "ticks": ""
            },
            "type": "histogram2dcontour"
           }
          ],
          "mesh3d": [
           {
            "colorbar": {
             "outlinewidth": 0,
             "ticks": ""
            },
            "type": "mesh3d"
           }
          ],
          "parcoords": [
           {
            "line": {
             "colorbar": {
              "outlinewidth": 0,
              "ticks": ""
             }
            },
            "type": "parcoords"
           }
          ],
          "scatter": [
           {
            "marker": {
             "colorbar": {
              "outlinewidth": 0,
              "ticks": ""
             }
            },
            "type": "scatter"
           }
          ],
          "scatter3d": [
           {
            "marker": {
             "colorbar": {
              "outlinewidth": 0,
              "ticks": ""
             }
            },
            "type": "scatter3d"
           }
          ],
          "scattercarpet": [
           {
            "marker": {
             "colorbar": {
              "outlinewidth": 0,
              "ticks": ""
             }
            },
            "type": "scattercarpet"
           }
          ],
          "scattergeo": [
           {
            "marker": {
             "colorbar": {
              "outlinewidth": 0,
              "ticks": ""
             }
            },
            "type": "scattergeo"
           }
          ],
          "scattergl": [
           {
            "marker": {
             "colorbar": {
              "outlinewidth": 0,
              "ticks": ""
             }
            },
            "type": "scattergl"
           }
          ],
          "scattermapbox": [
           {
            "marker": {
             "colorbar": {
              "outlinewidth": 0,
              "ticks": ""
             }
            },
            "type": "scattermapbox"
           }
          ],
          "scatterpolar": [
           {
            "marker": {
             "colorbar": {
              "outlinewidth": 0,
              "ticks": ""
             }
            },
            "type": "scatterpolar"
           }
          ],
          "scatterpolargl": [
           {
            "marker": {
             "colorbar": {
              "outlinewidth": 0,
              "ticks": ""
             }
            },
            "type": "scatterpolargl"
           }
          ],
          "scatterternary": [
           {
            "marker": {
             "colorbar": {
              "outlinewidth": 0,
              "ticks": ""
             }
            },
            "type": "scatterternary"
           }
          ],
          "surface": [
           {
            "colorbar": {
             "outlinewidth": 0,
             "ticks": ""
            },
            "type": "surface"
           }
          ],
          "table": [
           {
            "cells": {
             "fill": {
              "color": "#EBF0F8"
             },
             "line": {
              "color": "white"
             }
            },
            "header": {
             "fill": {
              "color": "#C8D4E3"
             },
             "line": {
              "color": "white"
             }
            },
            "type": "table"
           }
          ]
         },
         "layout": {
          "annotationdefaults": {
           "arrowcolor": "#506784",
           "arrowhead": 0,
           "arrowwidth": 1
          },
          "colorscale": {
           "diverging": [
            [
             0,
             "#8e0152"
            ],
            [
             0.1,
             "#c51b7d"
            ],
            [
             0.2,
             "#de77ae"
            ],
            [
             0.3,
             "#f1b6da"
            ],
            [
             0.4,
             "#fde0ef"
            ],
            [
             0.5,
             "#f7f7f7"
            ],
            [
             0.6,
             "#e6f5d0"
            ],
            [
             0.7,
             "#b8e186"
            ],
            [
             0.8,
             "#7fbc41"
            ],
            [
             0.9,
             "#4d9221"
            ],
            [
             1,
             "#276419"
            ]
           ],
           "sequential": [
            [
             0,
             "#0508b8"
            ],
            [
             0.0893854748603352,
             "#1910d8"
            ],
            [
             0.1787709497206704,
             "#3c19f0"
            ],
            [
             0.2681564245810056,
             "#6b1cfb"
            ],
            [
             0.3575418994413408,
             "#981cfd"
            ],
            [
             0.44692737430167595,
             "#bf1cfd"
            ],
            [
             0.5363128491620112,
             "#dd2bfd"
            ],
            [
             0.6256983240223464,
             "#f246fe"
            ],
            [
             0.7150837988826816,
             "#fc67fd"
            ],
            [
             0.8044692737430168,
             "#fe88fc"
            ],
            [
             0.8938547486033519,
             "#fea5fd"
            ],
            [
             0.9832402234636871,
             "#febefe"
            ],
            [
             1,
             "#fec3fe"
            ]
           ],
           "sequentialminus": [
            [
             0,
             "#0508b8"
            ],
            [
             0.0893854748603352,
             "#1910d8"
            ],
            [
             0.1787709497206704,
             "#3c19f0"
            ],
            [
             0.2681564245810056,
             "#6b1cfb"
            ],
            [
             0.3575418994413408,
             "#981cfd"
            ],
            [
             0.44692737430167595,
             "#bf1cfd"
            ],
            [
             0.5363128491620112,
             "#dd2bfd"
            ],
            [
             0.6256983240223464,
             "#f246fe"
            ],
            [
             0.7150837988826816,
             "#fc67fd"
            ],
            [
             0.8044692737430168,
             "#fe88fc"
            ],
            [
             0.8938547486033519,
             "#fea5fd"
            ],
            [
             0.9832402234636871,
             "#febefe"
            ],
            [
             1,
             "#fec3fe"
            ]
           ]
          },
          "colorway": [
           "#636efa",
           "#EF553B",
           "#00cc96",
           "#ab63fa",
           "#19d3f3",
           "#e763fa",
           "#FECB52",
           "#FFA15A",
           "#FF6692",
           "#B6E880"
          ],
          "font": {
           "color": "#2a3f5f"
          },
          "geo": {
           "bgcolor": "white",
           "lakecolor": "white",
           "landcolor": "#E5ECF6",
           "showlakes": true,
           "showland": true,
           "subunitcolor": "white"
          },
          "hovermode": "closest",
          "mapbox": {
           "style": "light"
          },
          "paper_bgcolor": "white",
          "plot_bgcolor": "#E5ECF6",
          "polar": {
           "angularaxis": {
            "gridcolor": "white",
            "linecolor": "white",
            "ticks": ""
           },
           "bgcolor": "#E5ECF6",
           "radialaxis": {
            "gridcolor": "white",
            "linecolor": "white",
            "ticks": ""
           }
          },
          "scene": {
           "xaxis": {
            "backgroundcolor": "#E5ECF6",
            "gridcolor": "white",
            "gridwidth": 2,
            "linecolor": "white",
            "showbackground": true,
            "ticks": "",
            "zerolinecolor": "white"
           },
           "yaxis": {
            "backgroundcolor": "#E5ECF6",
            "gridcolor": "white",
            "gridwidth": 2,
            "linecolor": "white",
            "showbackground": true,
            "ticks": "",
            "zerolinecolor": "white"
           },
           "zaxis": {
            "backgroundcolor": "#E5ECF6",
            "gridcolor": "white",
            "gridwidth": 2,
            "linecolor": "white",
            "showbackground": true,
            "ticks": "",
            "zerolinecolor": "white"
           }
          },
          "shapedefaults": {
           "fillcolor": "#506784",
           "line": {
            "width": 0
           },
           "opacity": 0.4
          },
          "ternary": {
           "aaxis": {
            "gridcolor": "white",
            "linecolor": "white",
            "ticks": ""
           },
           "baxis": {
            "gridcolor": "white",
            "linecolor": "white",
            "ticks": ""
           },
           "bgcolor": "#E5ECF6",
           "caxis": {
            "gridcolor": "white",
            "linecolor": "white",
            "ticks": ""
           }
          },
          "title": {
           "x": 0.05
          },
          "xaxis": {
           "automargin": true,
           "gridcolor": "white",
           "linecolor": "white",
           "ticks": "",
           "zerolinecolor": "white",
           "zerolinewidth": 2
          },
          "yaxis": {
           "automargin": true,
           "gridcolor": "white",
           "linecolor": "white",
           "ticks": "",
           "zerolinecolor": "white",
           "zerolinewidth": 2
          }
         }
        }
       }
      },
      "text/html": [
       "<div id=\"94cce15b-300e-4fcc-958d-c5a15c07240b\" style=\"height: 600px; width: 100%;\" class=\"plotly-graph-div\"></div><script type=\"text/javascript\">require([\"plotly\"], function(Plotly) { window.PLOTLYENV=window.PLOTLYENV || {};window.PLOTLYENV.BASE_URL=\"https://plot.ly\";\n",
       "if (document.getElementById(\"94cce15b-300e-4fcc-958d-c5a15c07240b\")) {\n",
       "    Plotly.newPlot(\"94cce15b-300e-4fcc-958d-c5a15c07240b\", [{\"hovertemplate\": \"Cuando te encuentras con una imagen, \\u00bfintentas entender con qu\\u00e9 intenci\\u00f3n est\\u00e1 hecha?=1. Nunca<br>counts=%{r}<br>prosume_cluster=%{theta}<extra></extra>\", \"legendgroup\": \"Cuando te encuentras con una imagen, \\u00bfintentas entender con qu\\u00e9 intenci\\u00f3n est\\u00e1 hecha?=1. Nunca\", \"marker\": {\"color\": \"rgb(213,62,79)\"}, \"name\": \"Cuando te encuentras con una imagen, \\u00bfintentas entender con qu\\u00e9 intenci\\u00f3n est\\u00e1 hecha?=1. Nunca\", \"r\": [1, 13, 2, 5], \"showlegend\": true, \"theta\": [\"cluster_1\", \"cluster_2\", \"cluster_3\", \"cluster_5\"], \"type\": \"barpolar\", \"uid\": \"e2ce3640-0d2c-409d-a15f-ddc25b43ddd3\"}, {\"hovertemplate\": \"Cuando te encuentras con una imagen, \\u00bfintentas entender con qu\\u00e9 intenci\\u00f3n est\\u00e1 hecha?=2. Muy pocas veces<br>counts=%{r}<br>prosume_cluster=%{theta}<extra></extra>\", \"legendgroup\": \"Cuando te encuentras con una imagen, \\u00bfintentas entender con qu\\u00e9 intenci\\u00f3n est\\u00e1 hecha?=2. Muy pocas veces\", \"marker\": {\"color\": \"rgb(252,141,89)\"}, \"name\": \"Cuando te encuentras con una imagen, \\u00bfintentas entender con qu\\u00e9 intenci\\u00f3n est\\u00e1 hecha?=2. Muy pocas veces\", \"r\": [13, 36, 5, 4, 40], \"showlegend\": true, \"theta\": [\"cluster_1\", \"cluster_2\", \"cluster_3\", \"cluster_4\", \"cluster_5\"], \"type\": \"barpolar\", \"uid\": \"adb01616-8b9d-4eec-b833-792c5f9b9809\"}, {\"hovertemplate\": \"Cuando te encuentras con una imagen, \\u00bfintentas entender con qu\\u00e9 intenci\\u00f3n est\\u00e1 hecha?=3. En ocasiones<br>counts=%{r}<br>prosume_cluster=%{theta}<extra></extra>\", \"legendgroup\": \"Cuando te encuentras con una imagen, \\u00bfintentas entender con qu\\u00e9 intenci\\u00f3n est\\u00e1 hecha?=3. En ocasiones\", \"marker\": {\"color\": \"rgb(254,224,139)\"}, \"name\": \"Cuando te encuentras con una imagen, \\u00bfintentas entender con qu\\u00e9 intenci\\u00f3n est\\u00e1 hecha?=3. En ocasiones\", \"r\": [17, 79, 23, 13, 142], \"showlegend\": true, \"theta\": [\"cluster_1\", \"cluster_2\", \"cluster_3\", \"cluster_4\", \"cluster_5\"], \"type\": \"barpolar\", \"uid\": \"eaf75489-4d53-434b-a4f6-9890cc3d5ab2\"}, {\"hovertemplate\": \"Cuando te encuentras con una imagen, \\u00bfintentas entender con qu\\u00e9 intenci\\u00f3n est\\u00e1 hecha?=4. Bastantes veces<br>counts=%{r}<br>prosume_cluster=%{theta}<extra></extra>\", \"legendgroup\": \"Cuando te encuentras con una imagen, \\u00bfintentas entender con qu\\u00e9 intenci\\u00f3n est\\u00e1 hecha?=4. Bastantes veces\", \"marker\": {\"color\": \"rgb(230,245,152)\"}, \"name\": \"Cuando te encuentras con una imagen, \\u00bfintentas entender con qu\\u00e9 intenci\\u00f3n est\\u00e1 hecha?=4. Bastantes veces\", \"r\": [6, 51, 54, 31, 101], \"showlegend\": true, \"theta\": [\"cluster_1\", \"cluster_2\", \"cluster_3\", \"cluster_4\", \"cluster_5\"], \"type\": \"barpolar\", \"uid\": \"b031597e-955d-4439-8ed1-2b7750aedf24\"}, {\"hovertemplate\": \"Cuando te encuentras con una imagen, \\u00bfintentas entender con qu\\u00e9 intenci\\u00f3n est\\u00e1 hecha?=5. Casi siempre o siempre<br>counts=%{r}<br>prosume_cluster=%{theta}<extra></extra>\", \"legendgroup\": \"Cuando te encuentras con una imagen, \\u00bfintentas entender con qu\\u00e9 intenci\\u00f3n est\\u00e1 hecha?=5. Casi siempre o siempre\", \"marker\": {\"color\": \"rgb(153,213,148)\"}, \"name\": \"Cuando te encuentras con una imagen, \\u00bfintentas entender con qu\\u00e9 intenci\\u00f3n est\\u00e1 hecha?=5. Casi siempre o siempre\", \"r\": [17, 16, 50, 48], \"showlegend\": true, \"theta\": [\"cluster_2\", \"cluster_3\", \"cluster_4\", \"cluster_5\"], \"type\": \"barpolar\", \"uid\": \"4299d96c-098f-48eb-8580-bc894b1dd163\"}], {\"barmode\": \"group\", \"barnorm\": \"\", \"height\": 600, \"legend\": {\"tracegroupgap\": 0}, \"margin\": {\"t\": 60}, \"template\": {\"data\": {\"barpolar\": [{\"marker\": {\"line\": {\"color\": \"#E5ECF6\", \"width\": 0.5}}, \"type\": \"barpolar\"}], \"bar\": [{\"marker\": {\"line\": {\"color\": \"#E5ECF6\", \"width\": 0.5}}, \"type\": \"bar\"}], \"carpet\": [{\"aaxis\": {\"endlinecolor\": \"#2a3f5f\", \"gridcolor\": \"white\", \"linecolor\": \"white\", \"minorgridcolor\": \"white\", \"startlinecolor\": \"#2a3f5f\"}, \"baxis\": {\"endlinecolor\": \"#2a3f5f\", \"gridcolor\": \"white\", \"linecolor\": \"white\", \"minorgridcolor\": \"white\", \"startlinecolor\": \"#2a3f5f\"}, \"type\": \"carpet\"}], \"choropleth\": [{\"colorbar\": {\"outlinewidth\": 0, \"ticks\": \"\"}, \"type\": \"choropleth\"}], \"contourcarpet\": [{\"colorbar\": {\"outlinewidth\": 0, \"ticks\": \"\"}, \"type\": \"contourcarpet\"}], \"contour\": [{\"autocolorscale\": true, \"colorbar\": {\"outlinewidth\": 0, \"ticks\": \"\"}, \"type\": \"contour\"}], \"heatmapgl\": [{\"colorbar\": {\"outlinewidth\": 0, \"ticks\": \"\"}, \"type\": \"heatmapgl\"}], \"heatmap\": [{\"autocolorscale\": true, \"colorbar\": {\"outlinewidth\": 0, \"ticks\": \"\"}, \"type\": \"heatmap\"}], \"histogram2dcontour\": [{\"autocolorscale\": true, \"colorbar\": {\"outlinewidth\": 0, \"ticks\": \"\"}, \"type\": \"histogram2dcontour\"}], \"histogram2d\": [{\"autocolorscale\": true, \"colorbar\": {\"outlinewidth\": 0, \"ticks\": \"\"}, \"type\": \"histogram2d\"}], \"histogram\": [{\"marker\": {\"colorbar\": {\"outlinewidth\": 0, \"ticks\": \"\"}}, \"type\": \"histogram\"}], \"mesh3d\": [{\"colorbar\": {\"outlinewidth\": 0, \"ticks\": \"\"}, \"type\": \"mesh3d\"}], \"parcoords\": [{\"line\": {\"colorbar\": {\"outlinewidth\": 0, \"ticks\": \"\"}}, \"type\": \"parcoords\"}], \"scatter3d\": [{\"marker\": {\"colorbar\": {\"outlinewidth\": 0, \"ticks\": \"\"}}, \"type\": \"scatter3d\"}], \"scattercarpet\": [{\"marker\": {\"colorbar\": {\"outlinewidth\": 0, \"ticks\": \"\"}}, \"type\": \"scattercarpet\"}], \"scattergeo\": [{\"marker\": {\"colorbar\": {\"outlinewidth\": 0, \"ticks\": \"\"}}, \"type\": \"scattergeo\"}], \"scattergl\": [{\"marker\": {\"colorbar\": {\"outlinewidth\": 0, \"ticks\": \"\"}}, \"type\": \"scattergl\"}], \"scattermapbox\": [{\"marker\": {\"colorbar\": {\"outlinewidth\": 0, \"ticks\": \"\"}}, \"type\": \"scattermapbox\"}], \"scatterpolargl\": [{\"marker\": {\"colorbar\": {\"outlinewidth\": 0, \"ticks\": \"\"}}, \"type\": \"scatterpolargl\"}], \"scatterpolar\": [{\"marker\": {\"colorbar\": {\"outlinewidth\": 0, \"ticks\": \"\"}}, \"type\": \"scatterpolar\"}], \"scatter\": [{\"marker\": {\"colorbar\": {\"outlinewidth\": 0, \"ticks\": \"\"}}, \"type\": \"scatter\"}], \"scatterternary\": [{\"marker\": {\"colorbar\": {\"outlinewidth\": 0, \"ticks\": \"\"}}, \"type\": \"scatterternary\"}], \"surface\": [{\"colorbar\": {\"outlinewidth\": 0, \"ticks\": \"\"}, \"type\": \"surface\"}], \"table\": [{\"cells\": {\"fill\": {\"color\": \"#EBF0F8\"}, \"line\": {\"color\": \"white\"}}, \"header\": {\"fill\": {\"color\": \"#C8D4E3\"}, \"line\": {\"color\": \"white\"}}, \"type\": \"table\"}]}, \"layout\": {\"annotationdefaults\": {\"arrowcolor\": \"#506784\", \"arrowhead\": 0, \"arrowwidth\": 1}, \"colorscale\": {\"diverging\": [[0, \"#8e0152\"], [0.1, \"#c51b7d\"], [0.2, \"#de77ae\"], [0.3, \"#f1b6da\"], [0.4, \"#fde0ef\"], [0.5, \"#f7f7f7\"], [0.6, \"#e6f5d0\"], [0.7, \"#b8e186\"], [0.8, \"#7fbc41\"], [0.9, \"#4d9221\"], [1, \"#276419\"]], \"sequential\": [[0.0, \"#0508b8\"], [0.0893854748603352, \"#1910d8\"], [0.1787709497206704, \"#3c19f0\"], [0.2681564245810056, \"#6b1cfb\"], [0.3575418994413408, \"#981cfd\"], [0.44692737430167595, \"#bf1cfd\"], [0.5363128491620112, \"#dd2bfd\"], [0.6256983240223464, \"#f246fe\"], [0.7150837988826816, \"#fc67fd\"], [0.8044692737430168, \"#fe88fc\"], [0.8938547486033519, \"#fea5fd\"], [0.9832402234636871, \"#febefe\"], [1.0, \"#fec3fe\"]], \"sequentialminus\": [[0.0, \"#0508b8\"], [0.0893854748603352, \"#1910d8\"], [0.1787709497206704, \"#3c19f0\"], [0.2681564245810056, \"#6b1cfb\"], [0.3575418994413408, \"#981cfd\"], [0.44692737430167595, \"#bf1cfd\"], [0.5363128491620112, \"#dd2bfd\"], [0.6256983240223464, \"#f246fe\"], [0.7150837988826816, \"#fc67fd\"], [0.8044692737430168, \"#fe88fc\"], [0.8938547486033519, \"#fea5fd\"], [0.9832402234636871, \"#febefe\"], [1.0, \"#fec3fe\"]]}, \"colorway\": [\"#636efa\", \"#EF553B\", \"#00cc96\", \"#ab63fa\", \"#19d3f3\", \"#e763fa\", \"#FECB52\", \"#FFA15A\", \"#FF6692\", \"#B6E880\"], \"font\": {\"color\": \"#2a3f5f\"}, \"geo\": {\"bgcolor\": \"white\", \"lakecolor\": \"white\", \"landcolor\": \"#E5ECF6\", \"showlakes\": true, \"showland\": true, \"subunitcolor\": \"white\"}, \"hovermode\": \"closest\", \"mapbox\": {\"style\": \"light\"}, \"paper_bgcolor\": \"white\", \"plot_bgcolor\": \"#E5ECF6\", \"polar\": {\"angularaxis\": {\"gridcolor\": \"white\", \"linecolor\": \"white\", \"ticks\": \"\"}, \"bgcolor\": \"#E5ECF6\", \"radialaxis\": {\"gridcolor\": \"white\", \"linecolor\": \"white\", \"ticks\": \"\"}}, \"scene\": {\"xaxis\": {\"backgroundcolor\": \"#E5ECF6\", \"gridcolor\": \"white\", \"gridwidth\": 2, \"linecolor\": \"white\", \"showbackground\": true, \"ticks\": \"\", \"zerolinecolor\": \"white\"}, \"yaxis\": {\"backgroundcolor\": \"#E5ECF6\", \"gridcolor\": \"white\", \"gridwidth\": 2, \"linecolor\": \"white\", \"showbackground\": true, \"ticks\": \"\", \"zerolinecolor\": \"white\"}, \"zaxis\": {\"backgroundcolor\": \"#E5ECF6\", \"gridcolor\": \"white\", \"gridwidth\": 2, \"linecolor\": \"white\", \"showbackground\": true, \"ticks\": \"\", \"zerolinecolor\": \"white\"}}, \"shapedefaults\": {\"fillcolor\": \"#506784\", \"line\": {\"width\": 0}, \"opacity\": 0.4}, \"ternary\": {\"aaxis\": {\"gridcolor\": \"white\", \"linecolor\": \"white\", \"ticks\": \"\"}, \"baxis\": {\"gridcolor\": \"white\", \"linecolor\": \"white\", \"ticks\": \"\"}, \"bgcolor\": \"#E5ECF6\", \"caxis\": {\"gridcolor\": \"white\", \"linecolor\": \"white\", \"ticks\": \"\"}}, \"title\": {\"x\": 0.05}, \"xaxis\": {\"automargin\": true, \"gridcolor\": \"white\", \"linecolor\": \"white\", \"ticks\": \"\", \"zerolinecolor\": \"white\", \"zerolinewidth\": 2}, \"yaxis\": {\"automargin\": true, \"gridcolor\": \"white\", \"linecolor\": \"white\", \"ticks\": \"\", \"zerolinecolor\": \"white\", \"zerolinewidth\": 2}}}, \"polar\": {\"angularaxis\": {\"direction\": \"clockwise\", \"rotation\": 90}}}, {\"showLink\": false, \"linkText\": \"Export to plot.ly\", \"plotlyServerURL\": \"https://plot.ly\"}); \n",
       "}\n",
       "});</script><script type=\"text/javascript\">window.addEventListener(\"resize\", function(){if (document.getElementById(\"94cce15b-300e-4fcc-958d-c5a15c07240b\")) {window._Plotly.Plots.resize(document.getElementById(\"94cce15b-300e-4fcc-958d-c5a15c07240b\"));};})</script>"
      ],
      "text/vnd.plotly.v1+html": [
       "<div id=\"94cce15b-300e-4fcc-958d-c5a15c07240b\" style=\"height: 600px; width: 100%;\" class=\"plotly-graph-div\"></div><script type=\"text/javascript\">require([\"plotly\"], function(Plotly) { window.PLOTLYENV=window.PLOTLYENV || {};window.PLOTLYENV.BASE_URL=\"https://plot.ly\";\n",
       "if (document.getElementById(\"94cce15b-300e-4fcc-958d-c5a15c07240b\")) {\n",
       "    Plotly.newPlot(\"94cce15b-300e-4fcc-958d-c5a15c07240b\", [{\"hovertemplate\": \"Cuando te encuentras con una imagen, \\u00bfintentas entender con qu\\u00e9 intenci\\u00f3n est\\u00e1 hecha?=1. Nunca<br>counts=%{r}<br>prosume_cluster=%{theta}<extra></extra>\", \"legendgroup\": \"Cuando te encuentras con una imagen, \\u00bfintentas entender con qu\\u00e9 intenci\\u00f3n est\\u00e1 hecha?=1. Nunca\", \"marker\": {\"color\": \"rgb(213,62,79)\"}, \"name\": \"Cuando te encuentras con una imagen, \\u00bfintentas entender con qu\\u00e9 intenci\\u00f3n est\\u00e1 hecha?=1. Nunca\", \"r\": [1, 13, 2, 5], \"showlegend\": true, \"theta\": [\"cluster_1\", \"cluster_2\", \"cluster_3\", \"cluster_5\"], \"type\": \"barpolar\", \"uid\": \"e2ce3640-0d2c-409d-a15f-ddc25b43ddd3\"}, {\"hovertemplate\": \"Cuando te encuentras con una imagen, \\u00bfintentas entender con qu\\u00e9 intenci\\u00f3n est\\u00e1 hecha?=2. Muy pocas veces<br>counts=%{r}<br>prosume_cluster=%{theta}<extra></extra>\", \"legendgroup\": \"Cuando te encuentras con una imagen, \\u00bfintentas entender con qu\\u00e9 intenci\\u00f3n est\\u00e1 hecha?=2. Muy pocas veces\", \"marker\": {\"color\": \"rgb(252,141,89)\"}, \"name\": \"Cuando te encuentras con una imagen, \\u00bfintentas entender con qu\\u00e9 intenci\\u00f3n est\\u00e1 hecha?=2. Muy pocas veces\", \"r\": [13, 36, 5, 4, 40], \"showlegend\": true, \"theta\": [\"cluster_1\", \"cluster_2\", \"cluster_3\", \"cluster_4\", \"cluster_5\"], \"type\": \"barpolar\", \"uid\": \"adb01616-8b9d-4eec-b833-792c5f9b9809\"}, {\"hovertemplate\": \"Cuando te encuentras con una imagen, \\u00bfintentas entender con qu\\u00e9 intenci\\u00f3n est\\u00e1 hecha?=3. En ocasiones<br>counts=%{r}<br>prosume_cluster=%{theta}<extra></extra>\", \"legendgroup\": \"Cuando te encuentras con una imagen, \\u00bfintentas entender con qu\\u00e9 intenci\\u00f3n est\\u00e1 hecha?=3. En ocasiones\", \"marker\": {\"color\": \"rgb(254,224,139)\"}, \"name\": \"Cuando te encuentras con una imagen, \\u00bfintentas entender con qu\\u00e9 intenci\\u00f3n est\\u00e1 hecha?=3. En ocasiones\", \"r\": [17, 79, 23, 13, 142], \"showlegend\": true, \"theta\": [\"cluster_1\", \"cluster_2\", \"cluster_3\", \"cluster_4\", \"cluster_5\"], \"type\": \"barpolar\", \"uid\": \"eaf75489-4d53-434b-a4f6-9890cc3d5ab2\"}, {\"hovertemplate\": \"Cuando te encuentras con una imagen, \\u00bfintentas entender con qu\\u00e9 intenci\\u00f3n est\\u00e1 hecha?=4. Bastantes veces<br>counts=%{r}<br>prosume_cluster=%{theta}<extra></extra>\", \"legendgroup\": \"Cuando te encuentras con una imagen, \\u00bfintentas entender con qu\\u00e9 intenci\\u00f3n est\\u00e1 hecha?=4. Bastantes veces\", \"marker\": {\"color\": \"rgb(230,245,152)\"}, \"name\": \"Cuando te encuentras con una imagen, \\u00bfintentas entender con qu\\u00e9 intenci\\u00f3n est\\u00e1 hecha?=4. Bastantes veces\", \"r\": [6, 51, 54, 31, 101], \"showlegend\": true, \"theta\": [\"cluster_1\", \"cluster_2\", \"cluster_3\", \"cluster_4\", \"cluster_5\"], \"type\": \"barpolar\", \"uid\": \"b031597e-955d-4439-8ed1-2b7750aedf24\"}, {\"hovertemplate\": \"Cuando te encuentras con una imagen, \\u00bfintentas entender con qu\\u00e9 intenci\\u00f3n est\\u00e1 hecha?=5. Casi siempre o siempre<br>counts=%{r}<br>prosume_cluster=%{theta}<extra></extra>\", \"legendgroup\": \"Cuando te encuentras con una imagen, \\u00bfintentas entender con qu\\u00e9 intenci\\u00f3n est\\u00e1 hecha?=5. Casi siempre o siempre\", \"marker\": {\"color\": \"rgb(153,213,148)\"}, \"name\": \"Cuando te encuentras con una imagen, \\u00bfintentas entender con qu\\u00e9 intenci\\u00f3n est\\u00e1 hecha?=5. Casi siempre o siempre\", \"r\": [17, 16, 50, 48], \"showlegend\": true, \"theta\": [\"cluster_2\", \"cluster_3\", \"cluster_4\", \"cluster_5\"], \"type\": \"barpolar\", \"uid\": \"4299d96c-098f-48eb-8580-bc894b1dd163\"}], {\"barmode\": \"group\", \"barnorm\": \"\", \"height\": 600, \"legend\": {\"tracegroupgap\": 0}, \"margin\": {\"t\": 60}, \"template\": {\"data\": {\"barpolar\": [{\"marker\": {\"line\": {\"color\": \"#E5ECF6\", \"width\": 0.5}}, \"type\": \"barpolar\"}], \"bar\": [{\"marker\": {\"line\": {\"color\": \"#E5ECF6\", \"width\": 0.5}}, \"type\": \"bar\"}], \"carpet\": [{\"aaxis\": {\"endlinecolor\": \"#2a3f5f\", \"gridcolor\": \"white\", \"linecolor\": \"white\", \"minorgridcolor\": \"white\", \"startlinecolor\": \"#2a3f5f\"}, \"baxis\": {\"endlinecolor\": \"#2a3f5f\", \"gridcolor\": \"white\", \"linecolor\": \"white\", \"minorgridcolor\": \"white\", \"startlinecolor\": \"#2a3f5f\"}, \"type\": \"carpet\"}], \"choropleth\": [{\"colorbar\": {\"outlinewidth\": 0, \"ticks\": \"\"}, \"type\": \"choropleth\"}], \"contourcarpet\": [{\"colorbar\": {\"outlinewidth\": 0, \"ticks\": \"\"}, \"type\": \"contourcarpet\"}], \"contour\": [{\"autocolorscale\": true, \"colorbar\": {\"outlinewidth\": 0, \"ticks\": \"\"}, \"type\": \"contour\"}], \"heatmapgl\": [{\"colorbar\": {\"outlinewidth\": 0, \"ticks\": \"\"}, \"type\": \"heatmapgl\"}], \"heatmap\": [{\"autocolorscale\": true, \"colorbar\": {\"outlinewidth\": 0, \"ticks\": \"\"}, \"type\": \"heatmap\"}], \"histogram2dcontour\": [{\"autocolorscale\": true, \"colorbar\": {\"outlinewidth\": 0, \"ticks\": \"\"}, \"type\": \"histogram2dcontour\"}], \"histogram2d\": [{\"autocolorscale\": true, \"colorbar\": {\"outlinewidth\": 0, \"ticks\": \"\"}, \"type\": \"histogram2d\"}], \"histogram\": [{\"marker\": {\"colorbar\": {\"outlinewidth\": 0, \"ticks\": \"\"}}, \"type\": \"histogram\"}], \"mesh3d\": [{\"colorbar\": {\"outlinewidth\": 0, \"ticks\": \"\"}, \"type\": \"mesh3d\"}], \"parcoords\": [{\"line\": {\"colorbar\": {\"outlinewidth\": 0, \"ticks\": \"\"}}, \"type\": \"parcoords\"}], \"scatter3d\": [{\"marker\": {\"colorbar\": {\"outlinewidth\": 0, \"ticks\": \"\"}}, \"type\": \"scatter3d\"}], \"scattercarpet\": [{\"marker\": {\"colorbar\": {\"outlinewidth\": 0, \"ticks\": \"\"}}, \"type\": \"scattercarpet\"}], \"scattergeo\": [{\"marker\": {\"colorbar\": {\"outlinewidth\": 0, \"ticks\": \"\"}}, \"type\": \"scattergeo\"}], \"scattergl\": [{\"marker\": {\"colorbar\": {\"outlinewidth\": 0, \"ticks\": \"\"}}, \"type\": \"scattergl\"}], \"scattermapbox\": [{\"marker\": {\"colorbar\": {\"outlinewidth\": 0, \"ticks\": \"\"}}, \"type\": \"scattermapbox\"}], \"scatterpolargl\": [{\"marker\": {\"colorbar\": {\"outlinewidth\": 0, \"ticks\": \"\"}}, \"type\": \"scatterpolargl\"}], \"scatterpolar\": [{\"marker\": {\"colorbar\": {\"outlinewidth\": 0, \"ticks\": \"\"}}, \"type\": \"scatterpolar\"}], \"scatter\": [{\"marker\": {\"colorbar\": {\"outlinewidth\": 0, \"ticks\": \"\"}}, \"type\": \"scatter\"}], \"scatterternary\": [{\"marker\": {\"colorbar\": {\"outlinewidth\": 0, \"ticks\": \"\"}}, \"type\": \"scatterternary\"}], \"surface\": [{\"colorbar\": {\"outlinewidth\": 0, \"ticks\": \"\"}, \"type\": \"surface\"}], \"table\": [{\"cells\": {\"fill\": {\"color\": \"#EBF0F8\"}, \"line\": {\"color\": \"white\"}}, \"header\": {\"fill\": {\"color\": \"#C8D4E3\"}, \"line\": {\"color\": \"white\"}}, \"type\": \"table\"}]}, \"layout\": {\"annotationdefaults\": {\"arrowcolor\": \"#506784\", \"arrowhead\": 0, \"arrowwidth\": 1}, \"colorscale\": {\"diverging\": [[0, \"#8e0152\"], [0.1, \"#c51b7d\"], [0.2, \"#de77ae\"], [0.3, \"#f1b6da\"], [0.4, \"#fde0ef\"], [0.5, \"#f7f7f7\"], [0.6, \"#e6f5d0\"], [0.7, \"#b8e186\"], [0.8, \"#7fbc41\"], [0.9, \"#4d9221\"], [1, \"#276419\"]], \"sequential\": [[0.0, \"#0508b8\"], [0.0893854748603352, \"#1910d8\"], [0.1787709497206704, \"#3c19f0\"], [0.2681564245810056, \"#6b1cfb\"], [0.3575418994413408, \"#981cfd\"], [0.44692737430167595, \"#bf1cfd\"], [0.5363128491620112, \"#dd2bfd\"], [0.6256983240223464, \"#f246fe\"], [0.7150837988826816, \"#fc67fd\"], [0.8044692737430168, \"#fe88fc\"], [0.8938547486033519, \"#fea5fd\"], [0.9832402234636871, \"#febefe\"], [1.0, \"#fec3fe\"]], \"sequentialminus\": [[0.0, \"#0508b8\"], [0.0893854748603352, \"#1910d8\"], [0.1787709497206704, \"#3c19f0\"], [0.2681564245810056, \"#6b1cfb\"], [0.3575418994413408, \"#981cfd\"], [0.44692737430167595, \"#bf1cfd\"], [0.5363128491620112, \"#dd2bfd\"], [0.6256983240223464, \"#f246fe\"], [0.7150837988826816, \"#fc67fd\"], [0.8044692737430168, \"#fe88fc\"], [0.8938547486033519, \"#fea5fd\"], [0.9832402234636871, \"#febefe\"], [1.0, \"#fec3fe\"]]}, \"colorway\": [\"#636efa\", \"#EF553B\", \"#00cc96\", \"#ab63fa\", \"#19d3f3\", \"#e763fa\", \"#FECB52\", \"#FFA15A\", \"#FF6692\", \"#B6E880\"], \"font\": {\"color\": \"#2a3f5f\"}, \"geo\": {\"bgcolor\": \"white\", \"lakecolor\": \"white\", \"landcolor\": \"#E5ECF6\", \"showlakes\": true, \"showland\": true, \"subunitcolor\": \"white\"}, \"hovermode\": \"closest\", \"mapbox\": {\"style\": \"light\"}, \"paper_bgcolor\": \"white\", \"plot_bgcolor\": \"#E5ECF6\", \"polar\": {\"angularaxis\": {\"gridcolor\": \"white\", \"linecolor\": \"white\", \"ticks\": \"\"}, \"bgcolor\": \"#E5ECF6\", \"radialaxis\": {\"gridcolor\": \"white\", \"linecolor\": \"white\", \"ticks\": \"\"}}, \"scene\": {\"xaxis\": {\"backgroundcolor\": \"#E5ECF6\", \"gridcolor\": \"white\", \"gridwidth\": 2, \"linecolor\": \"white\", \"showbackground\": true, \"ticks\": \"\", \"zerolinecolor\": \"white\"}, \"yaxis\": {\"backgroundcolor\": \"#E5ECF6\", \"gridcolor\": \"white\", \"gridwidth\": 2, \"linecolor\": \"white\", \"showbackground\": true, \"ticks\": \"\", \"zerolinecolor\": \"white\"}, \"zaxis\": {\"backgroundcolor\": \"#E5ECF6\", \"gridcolor\": \"white\", \"gridwidth\": 2, \"linecolor\": \"white\", \"showbackground\": true, \"ticks\": \"\", \"zerolinecolor\": \"white\"}}, \"shapedefaults\": {\"fillcolor\": \"#506784\", \"line\": {\"width\": 0}, \"opacity\": 0.4}, \"ternary\": {\"aaxis\": {\"gridcolor\": \"white\", \"linecolor\": \"white\", \"ticks\": \"\"}, \"baxis\": {\"gridcolor\": \"white\", \"linecolor\": \"white\", \"ticks\": \"\"}, \"bgcolor\": \"#E5ECF6\", \"caxis\": {\"gridcolor\": \"white\", \"linecolor\": \"white\", \"ticks\": \"\"}}, \"title\": {\"x\": 0.05}, \"xaxis\": {\"automargin\": true, \"gridcolor\": \"white\", \"linecolor\": \"white\", \"ticks\": \"\", \"zerolinecolor\": \"white\", \"zerolinewidth\": 2}, \"yaxis\": {\"automargin\": true, \"gridcolor\": \"white\", \"linecolor\": \"white\", \"ticks\": \"\", \"zerolinecolor\": \"white\", \"zerolinewidth\": 2}}}, \"polar\": {\"angularaxis\": {\"direction\": \"clockwise\", \"rotation\": 90}}}, {\"showLink\": false, \"linkText\": \"Export to plot.ly\", \"plotlyServerURL\": \"https://plot.ly\"}); \n",
       "}\n",
       "});</script><script type=\"text/javascript\">window.addEventListener(\"resize\", function(){if (document.getElementById(\"94cce15b-300e-4fcc-958d-c5a15c07240b\")) {window._Plotly.Plots.resize(document.getElementById(\"94cce15b-300e-4fcc-958d-c5a15c07240b\"));};})</script>"
      ]
     },
     "metadata": {},
     "output_type": "display_data"
    },
    {
     "name": "stdout",
     "output_type": "stream",
     "text": [
      "Comparando la pregunta Cuando recibes o consumes una imagen, ¿la comparas con tu propia realidad? ¿Intentas encontrar en tu entorno cierto parecido?\n"
     ]
    },
    {
     "data": {
      "application/vnd.plotly.v1+json": {
       "config": {
        "linkText": "Export to plot.ly",
        "plotlyServerURL": "https://plot.ly",
        "showLink": false
       },
       "data": [
        {
         "hovertemplate": "Cuando recibes o consumes una imagen, ¿la comparas con tu propia realidad? ¿Intentas encontrar en tu entorno cierto parecido?=1. Nunca<br>counts=%{r}<br>prosume_cluster=%{theta}<extra></extra>",
         "legendgroup": "Cuando recibes o consumes una imagen, ¿la comparas con tu propia realidad? ¿Intentas encontrar en tu entorno cierto parecido?=1. Nunca",
         "marker": {
          "color": "rgb(213,62,79)"
         },
         "name": "Cuando recibes o consumes una imagen, ¿la comparas con tu propia realidad? ¿Intentas encontrar en tu entorno cierto parecido?=1. Nunca",
         "r": [
          16,
          10
         ],
         "showlegend": true,
         "theta": [
          "cluster_2",
          "cluster_5"
         ],
         "type": "barpolar",
         "uid": "e9ea239d-cbfe-46ca-b64e-07725edeb241"
        },
        {
         "hovertemplate": "Cuando recibes o consumes una imagen, ¿la comparas con tu propia realidad? ¿Intentas encontrar en tu entorno cierto parecido?=2. Muy pocas veces<br>counts=%{r}<br>prosume_cluster=%{theta}<extra></extra>",
         "legendgroup": "Cuando recibes o consumes una imagen, ¿la comparas con tu propia realidad? ¿Intentas encontrar en tu entorno cierto parecido?=2. Muy pocas veces",
         "marker": {
          "color": "rgb(252,141,89)"
         },
         "name": "Cuando recibes o consumes una imagen, ¿la comparas con tu propia realidad? ¿Intentas encontrar en tu entorno cierto parecido?=2. Muy pocas veces",
         "r": [
          19,
          46,
          1,
          3,
          46
         ],
         "showlegend": true,
         "theta": [
          "cluster_1",
          "cluster_2",
          "cluster_3",
          "cluster_4",
          "cluster_5"
         ],
         "type": "barpolar",
         "uid": "a4e0a1d0-eeb6-42b6-825e-e35c38ea66eb"
        },
        {
         "hovertemplate": "Cuando recibes o consumes una imagen, ¿la comparas con tu propia realidad? ¿Intentas encontrar en tu entorno cierto parecido?=3. En ocasiones<br>counts=%{r}<br>prosume_cluster=%{theta}<extra></extra>",
         "legendgroup": "Cuando recibes o consumes una imagen, ¿la comparas con tu propia realidad? ¿Intentas encontrar en tu entorno cierto parecido?=3. En ocasiones",
         "marker": {
          "color": "rgb(254,224,139)"
         },
         "name": "Cuando recibes o consumes una imagen, ¿la comparas con tu propia realidad? ¿Intentas encontrar en tu entorno cierto parecido?=3. En ocasiones",
         "r": [
          14,
          87,
          28,
          27,
          152
         ],
         "showlegend": true,
         "theta": [
          "cluster_1",
          "cluster_2",
          "cluster_3",
          "cluster_4",
          "cluster_5"
         ],
         "type": "barpolar",
         "uid": "0cf838fa-0a0d-4679-8d05-ee637ee0deaa"
        },
        {
         "hovertemplate": "Cuando recibes o consumes una imagen, ¿la comparas con tu propia realidad? ¿Intentas encontrar en tu entorno cierto parecido?=4. Bastantes veces<br>counts=%{r}<br>prosume_cluster=%{theta}<extra></extra>",
         "legendgroup": "Cuando recibes o consumes una imagen, ¿la comparas con tu propia realidad? ¿Intentas encontrar en tu entorno cierto parecido?=4. Bastantes veces",
         "marker": {
          "color": "rgb(230,245,152)"
         },
         "name": "Cuando recibes o consumes una imagen, ¿la comparas con tu propia realidad? ¿Intentas encontrar en tu entorno cierto parecido?=4. Bastantes veces",
         "r": [
          4,
          42,
          54,
          46,
          91
         ],
         "showlegend": true,
         "theta": [
          "cluster_1",
          "cluster_2",
          "cluster_3",
          "cluster_4",
          "cluster_5"
         ],
         "type": "barpolar",
         "uid": "0f5c784b-e23a-479b-a5fc-db7d5d145cb6"
        },
        {
         "hovertemplate": "Cuando recibes o consumes una imagen, ¿la comparas con tu propia realidad? ¿Intentas encontrar en tu entorno cierto parecido?=5. Casi siempre o siempre<br>counts=%{r}<br>prosume_cluster=%{theta}<extra></extra>",
         "legendgroup": "Cuando recibes o consumes una imagen, ¿la comparas con tu propia realidad? ¿Intentas encontrar en tu entorno cierto parecido?=5. Casi siempre o siempre",
         "marker": {
          "color": "rgb(153,213,148)"
         },
         "name": "Cuando recibes o consumes una imagen, ¿la comparas con tu propia realidad? ¿Intentas encontrar en tu entorno cierto parecido?=5. Casi siempre o siempre",
         "r": [
          5,
          17,
          22,
          37
         ],
         "showlegend": true,
         "theta": [
          "cluster_2",
          "cluster_3",
          "cluster_4",
          "cluster_5"
         ],
         "type": "barpolar",
         "uid": "9cf4c88c-cc0b-45b8-9368-9e473e4f05d7"
        }
       ],
       "layout": {
        "barmode": "group",
        "barnorm": "",
        "height": 600,
        "legend": {
         "tracegroupgap": 0
        },
        "margin": {
         "t": 60
        },
        "polar": {
         "angularaxis": {
          "direction": "clockwise",
          "rotation": 90
         }
        },
        "template": {
         "data": {
          "bar": [
           {
            "marker": {
             "line": {
              "color": "#E5ECF6",
              "width": 0.5
             }
            },
            "type": "bar"
           }
          ],
          "barpolar": [
           {
            "marker": {
             "line": {
              "color": "#E5ECF6",
              "width": 0.5
             }
            },
            "type": "barpolar"
           }
          ],
          "carpet": [
           {
            "aaxis": {
             "endlinecolor": "#2a3f5f",
             "gridcolor": "white",
             "linecolor": "white",
             "minorgridcolor": "white",
             "startlinecolor": "#2a3f5f"
            },
            "baxis": {
             "endlinecolor": "#2a3f5f",
             "gridcolor": "white",
             "linecolor": "white",
             "minorgridcolor": "white",
             "startlinecolor": "#2a3f5f"
            },
            "type": "carpet"
           }
          ],
          "choropleth": [
           {
            "colorbar": {
             "outlinewidth": 0,
             "ticks": ""
            },
            "type": "choropleth"
           }
          ],
          "contour": [
           {
            "autocolorscale": true,
            "colorbar": {
             "outlinewidth": 0,
             "ticks": ""
            },
            "type": "contour"
           }
          ],
          "contourcarpet": [
           {
            "colorbar": {
             "outlinewidth": 0,
             "ticks": ""
            },
            "type": "contourcarpet"
           }
          ],
          "heatmap": [
           {
            "autocolorscale": true,
            "colorbar": {
             "outlinewidth": 0,
             "ticks": ""
            },
            "type": "heatmap"
           }
          ],
          "heatmapgl": [
           {
            "colorbar": {
             "outlinewidth": 0,
             "ticks": ""
            },
            "type": "heatmapgl"
           }
          ],
          "histogram": [
           {
            "marker": {
             "colorbar": {
              "outlinewidth": 0,
              "ticks": ""
             }
            },
            "type": "histogram"
           }
          ],
          "histogram2d": [
           {
            "autocolorscale": true,
            "colorbar": {
             "outlinewidth": 0,
             "ticks": ""
            },
            "type": "histogram2d"
           }
          ],
          "histogram2dcontour": [
           {
            "autocolorscale": true,
            "colorbar": {
             "outlinewidth": 0,
             "ticks": ""
            },
            "type": "histogram2dcontour"
           }
          ],
          "mesh3d": [
           {
            "colorbar": {
             "outlinewidth": 0,
             "ticks": ""
            },
            "type": "mesh3d"
           }
          ],
          "parcoords": [
           {
            "line": {
             "colorbar": {
              "outlinewidth": 0,
              "ticks": ""
             }
            },
            "type": "parcoords"
           }
          ],
          "scatter": [
           {
            "marker": {
             "colorbar": {
              "outlinewidth": 0,
              "ticks": ""
             }
            },
            "type": "scatter"
           }
          ],
          "scatter3d": [
           {
            "marker": {
             "colorbar": {
              "outlinewidth": 0,
              "ticks": ""
             }
            },
            "type": "scatter3d"
           }
          ],
          "scattercarpet": [
           {
            "marker": {
             "colorbar": {
              "outlinewidth": 0,
              "ticks": ""
             }
            },
            "type": "scattercarpet"
           }
          ],
          "scattergeo": [
           {
            "marker": {
             "colorbar": {
              "outlinewidth": 0,
              "ticks": ""
             }
            },
            "type": "scattergeo"
           }
          ],
          "scattergl": [
           {
            "marker": {
             "colorbar": {
              "outlinewidth": 0,
              "ticks": ""
             }
            },
            "type": "scattergl"
           }
          ],
          "scattermapbox": [
           {
            "marker": {
             "colorbar": {
              "outlinewidth": 0,
              "ticks": ""
             }
            },
            "type": "scattermapbox"
           }
          ],
          "scatterpolar": [
           {
            "marker": {
             "colorbar": {
              "outlinewidth": 0,
              "ticks": ""
             }
            },
            "type": "scatterpolar"
           }
          ],
          "scatterpolargl": [
           {
            "marker": {
             "colorbar": {
              "outlinewidth": 0,
              "ticks": ""
             }
            },
            "type": "scatterpolargl"
           }
          ],
          "scatterternary": [
           {
            "marker": {
             "colorbar": {
              "outlinewidth": 0,
              "ticks": ""
             }
            },
            "type": "scatterternary"
           }
          ],
          "surface": [
           {
            "colorbar": {
             "outlinewidth": 0,
             "ticks": ""
            },
            "type": "surface"
           }
          ],
          "table": [
           {
            "cells": {
             "fill": {
              "color": "#EBF0F8"
             },
             "line": {
              "color": "white"
             }
            },
            "header": {
             "fill": {
              "color": "#C8D4E3"
             },
             "line": {
              "color": "white"
             }
            },
            "type": "table"
           }
          ]
         },
         "layout": {
          "annotationdefaults": {
           "arrowcolor": "#506784",
           "arrowhead": 0,
           "arrowwidth": 1
          },
          "colorscale": {
           "diverging": [
            [
             0,
             "#8e0152"
            ],
            [
             0.1,
             "#c51b7d"
            ],
            [
             0.2,
             "#de77ae"
            ],
            [
             0.3,
             "#f1b6da"
            ],
            [
             0.4,
             "#fde0ef"
            ],
            [
             0.5,
             "#f7f7f7"
            ],
            [
             0.6,
             "#e6f5d0"
            ],
            [
             0.7,
             "#b8e186"
            ],
            [
             0.8,
             "#7fbc41"
            ],
            [
             0.9,
             "#4d9221"
            ],
            [
             1,
             "#276419"
            ]
           ],
           "sequential": [
            [
             0,
             "#0508b8"
            ],
            [
             0.0893854748603352,
             "#1910d8"
            ],
            [
             0.1787709497206704,
             "#3c19f0"
            ],
            [
             0.2681564245810056,
             "#6b1cfb"
            ],
            [
             0.3575418994413408,
             "#981cfd"
            ],
            [
             0.44692737430167595,
             "#bf1cfd"
            ],
            [
             0.5363128491620112,
             "#dd2bfd"
            ],
            [
             0.6256983240223464,
             "#f246fe"
            ],
            [
             0.7150837988826816,
             "#fc67fd"
            ],
            [
             0.8044692737430168,
             "#fe88fc"
            ],
            [
             0.8938547486033519,
             "#fea5fd"
            ],
            [
             0.9832402234636871,
             "#febefe"
            ],
            [
             1,
             "#fec3fe"
            ]
           ],
           "sequentialminus": [
            [
             0,
             "#0508b8"
            ],
            [
             0.0893854748603352,
             "#1910d8"
            ],
            [
             0.1787709497206704,
             "#3c19f0"
            ],
            [
             0.2681564245810056,
             "#6b1cfb"
            ],
            [
             0.3575418994413408,
             "#981cfd"
            ],
            [
             0.44692737430167595,
             "#bf1cfd"
            ],
            [
             0.5363128491620112,
             "#dd2bfd"
            ],
            [
             0.6256983240223464,
             "#f246fe"
            ],
            [
             0.7150837988826816,
             "#fc67fd"
            ],
            [
             0.8044692737430168,
             "#fe88fc"
            ],
            [
             0.8938547486033519,
             "#fea5fd"
            ],
            [
             0.9832402234636871,
             "#febefe"
            ],
            [
             1,
             "#fec3fe"
            ]
           ]
          },
          "colorway": [
           "#636efa",
           "#EF553B",
           "#00cc96",
           "#ab63fa",
           "#19d3f3",
           "#e763fa",
           "#FECB52",
           "#FFA15A",
           "#FF6692",
           "#B6E880"
          ],
          "font": {
           "color": "#2a3f5f"
          },
          "geo": {
           "bgcolor": "white",
           "lakecolor": "white",
           "landcolor": "#E5ECF6",
           "showlakes": true,
           "showland": true,
           "subunitcolor": "white"
          },
          "hovermode": "closest",
          "mapbox": {
           "style": "light"
          },
          "paper_bgcolor": "white",
          "plot_bgcolor": "#E5ECF6",
          "polar": {
           "angularaxis": {
            "gridcolor": "white",
            "linecolor": "white",
            "ticks": ""
           },
           "bgcolor": "#E5ECF6",
           "radialaxis": {
            "gridcolor": "white",
            "linecolor": "white",
            "ticks": ""
           }
          },
          "scene": {
           "xaxis": {
            "backgroundcolor": "#E5ECF6",
            "gridcolor": "white",
            "gridwidth": 2,
            "linecolor": "white",
            "showbackground": true,
            "ticks": "",
            "zerolinecolor": "white"
           },
           "yaxis": {
            "backgroundcolor": "#E5ECF6",
            "gridcolor": "white",
            "gridwidth": 2,
            "linecolor": "white",
            "showbackground": true,
            "ticks": "",
            "zerolinecolor": "white"
           },
           "zaxis": {
            "backgroundcolor": "#E5ECF6",
            "gridcolor": "white",
            "gridwidth": 2,
            "linecolor": "white",
            "showbackground": true,
            "ticks": "",
            "zerolinecolor": "white"
           }
          },
          "shapedefaults": {
           "fillcolor": "#506784",
           "line": {
            "width": 0
           },
           "opacity": 0.4
          },
          "ternary": {
           "aaxis": {
            "gridcolor": "white",
            "linecolor": "white",
            "ticks": ""
           },
           "baxis": {
            "gridcolor": "white",
            "linecolor": "white",
            "ticks": ""
           },
           "bgcolor": "#E5ECF6",
           "caxis": {
            "gridcolor": "white",
            "linecolor": "white",
            "ticks": ""
           }
          },
          "title": {
           "x": 0.05
          },
          "xaxis": {
           "automargin": true,
           "gridcolor": "white",
           "linecolor": "white",
           "ticks": "",
           "zerolinecolor": "white",
           "zerolinewidth": 2
          },
          "yaxis": {
           "automargin": true,
           "gridcolor": "white",
           "linecolor": "white",
           "ticks": "",
           "zerolinecolor": "white",
           "zerolinewidth": 2
          }
         }
        }
       }
      },
      "text/html": [
       "<div id=\"2c08c0ee-5215-4183-8fcc-b020976d6310\" style=\"height: 600px; width: 100%;\" class=\"plotly-graph-div\"></div><script type=\"text/javascript\">require([\"plotly\"], function(Plotly) { window.PLOTLYENV=window.PLOTLYENV || {};window.PLOTLYENV.BASE_URL=\"https://plot.ly\";\n",
       "if (document.getElementById(\"2c08c0ee-5215-4183-8fcc-b020976d6310\")) {\n",
       "    Plotly.newPlot(\"2c08c0ee-5215-4183-8fcc-b020976d6310\", [{\"hovertemplate\": \"Cuando recibes o consumes una imagen, \\u00bfla comparas con tu propia realidad? \\u00bfIntentas encontrar en tu entorno cierto parecido?=1. Nunca<br>counts=%{r}<br>prosume_cluster=%{theta}<extra></extra>\", \"legendgroup\": \"Cuando recibes o consumes una imagen, \\u00bfla comparas con tu propia realidad? \\u00bfIntentas encontrar en tu entorno cierto parecido?=1. Nunca\", \"marker\": {\"color\": \"rgb(213,62,79)\"}, \"name\": \"Cuando recibes o consumes una imagen, \\u00bfla comparas con tu propia realidad? \\u00bfIntentas encontrar en tu entorno cierto parecido?=1. Nunca\", \"r\": [16, 10], \"showlegend\": true, \"theta\": [\"cluster_2\", \"cluster_5\"], \"type\": \"barpolar\", \"uid\": \"e9ea239d-cbfe-46ca-b64e-07725edeb241\"}, {\"hovertemplate\": \"Cuando recibes o consumes una imagen, \\u00bfla comparas con tu propia realidad? \\u00bfIntentas encontrar en tu entorno cierto parecido?=2. Muy pocas veces<br>counts=%{r}<br>prosume_cluster=%{theta}<extra></extra>\", \"legendgroup\": \"Cuando recibes o consumes una imagen, \\u00bfla comparas con tu propia realidad? \\u00bfIntentas encontrar en tu entorno cierto parecido?=2. Muy pocas veces\", \"marker\": {\"color\": \"rgb(252,141,89)\"}, \"name\": \"Cuando recibes o consumes una imagen, \\u00bfla comparas con tu propia realidad? \\u00bfIntentas encontrar en tu entorno cierto parecido?=2. Muy pocas veces\", \"r\": [19, 46, 1, 3, 46], \"showlegend\": true, \"theta\": [\"cluster_1\", \"cluster_2\", \"cluster_3\", \"cluster_4\", \"cluster_5\"], \"type\": \"barpolar\", \"uid\": \"a4e0a1d0-eeb6-42b6-825e-e35c38ea66eb\"}, {\"hovertemplate\": \"Cuando recibes o consumes una imagen, \\u00bfla comparas con tu propia realidad? \\u00bfIntentas encontrar en tu entorno cierto parecido?=3. En ocasiones<br>counts=%{r}<br>prosume_cluster=%{theta}<extra></extra>\", \"legendgroup\": \"Cuando recibes o consumes una imagen, \\u00bfla comparas con tu propia realidad? \\u00bfIntentas encontrar en tu entorno cierto parecido?=3. En ocasiones\", \"marker\": {\"color\": \"rgb(254,224,139)\"}, \"name\": \"Cuando recibes o consumes una imagen, \\u00bfla comparas con tu propia realidad? \\u00bfIntentas encontrar en tu entorno cierto parecido?=3. En ocasiones\", \"r\": [14, 87, 28, 27, 152], \"showlegend\": true, \"theta\": [\"cluster_1\", \"cluster_2\", \"cluster_3\", \"cluster_4\", \"cluster_5\"], \"type\": \"barpolar\", \"uid\": \"0cf838fa-0a0d-4679-8d05-ee637ee0deaa\"}, {\"hovertemplate\": \"Cuando recibes o consumes una imagen, \\u00bfla comparas con tu propia realidad? \\u00bfIntentas encontrar en tu entorno cierto parecido?=4. Bastantes veces<br>counts=%{r}<br>prosume_cluster=%{theta}<extra></extra>\", \"legendgroup\": \"Cuando recibes o consumes una imagen, \\u00bfla comparas con tu propia realidad? \\u00bfIntentas encontrar en tu entorno cierto parecido?=4. Bastantes veces\", \"marker\": {\"color\": \"rgb(230,245,152)\"}, \"name\": \"Cuando recibes o consumes una imagen, \\u00bfla comparas con tu propia realidad? \\u00bfIntentas encontrar en tu entorno cierto parecido?=4. Bastantes veces\", \"r\": [4, 42, 54, 46, 91], \"showlegend\": true, \"theta\": [\"cluster_1\", \"cluster_2\", \"cluster_3\", \"cluster_4\", \"cluster_5\"], \"type\": \"barpolar\", \"uid\": \"0f5c784b-e23a-479b-a5fc-db7d5d145cb6\"}, {\"hovertemplate\": \"Cuando recibes o consumes una imagen, \\u00bfla comparas con tu propia realidad? \\u00bfIntentas encontrar en tu entorno cierto parecido?=5. Casi siempre o siempre<br>counts=%{r}<br>prosume_cluster=%{theta}<extra></extra>\", \"legendgroup\": \"Cuando recibes o consumes una imagen, \\u00bfla comparas con tu propia realidad? \\u00bfIntentas encontrar en tu entorno cierto parecido?=5. Casi siempre o siempre\", \"marker\": {\"color\": \"rgb(153,213,148)\"}, \"name\": \"Cuando recibes o consumes una imagen, \\u00bfla comparas con tu propia realidad? \\u00bfIntentas encontrar en tu entorno cierto parecido?=5. Casi siempre o siempre\", \"r\": [5, 17, 22, 37], \"showlegend\": true, \"theta\": [\"cluster_2\", \"cluster_3\", \"cluster_4\", \"cluster_5\"], \"type\": \"barpolar\", \"uid\": \"9cf4c88c-cc0b-45b8-9368-9e473e4f05d7\"}], {\"barmode\": \"group\", \"barnorm\": \"\", \"height\": 600, \"legend\": {\"tracegroupgap\": 0}, \"margin\": {\"t\": 60}, \"template\": {\"data\": {\"barpolar\": [{\"marker\": {\"line\": {\"color\": \"#E5ECF6\", \"width\": 0.5}}, \"type\": \"barpolar\"}], \"bar\": [{\"marker\": {\"line\": {\"color\": \"#E5ECF6\", \"width\": 0.5}}, \"type\": \"bar\"}], \"carpet\": [{\"aaxis\": {\"endlinecolor\": \"#2a3f5f\", \"gridcolor\": \"white\", \"linecolor\": \"white\", \"minorgridcolor\": \"white\", \"startlinecolor\": \"#2a3f5f\"}, \"baxis\": {\"endlinecolor\": \"#2a3f5f\", \"gridcolor\": \"white\", \"linecolor\": \"white\", \"minorgridcolor\": \"white\", \"startlinecolor\": \"#2a3f5f\"}, \"type\": \"carpet\"}], \"choropleth\": [{\"colorbar\": {\"outlinewidth\": 0, \"ticks\": \"\"}, \"type\": \"choropleth\"}], \"contourcarpet\": [{\"colorbar\": {\"outlinewidth\": 0, \"ticks\": \"\"}, \"type\": \"contourcarpet\"}], \"contour\": [{\"autocolorscale\": true, \"colorbar\": {\"outlinewidth\": 0, \"ticks\": \"\"}, \"type\": \"contour\"}], \"heatmapgl\": [{\"colorbar\": {\"outlinewidth\": 0, \"ticks\": \"\"}, \"type\": \"heatmapgl\"}], \"heatmap\": [{\"autocolorscale\": true, \"colorbar\": {\"outlinewidth\": 0, \"ticks\": \"\"}, \"type\": \"heatmap\"}], \"histogram2dcontour\": [{\"autocolorscale\": true, \"colorbar\": {\"outlinewidth\": 0, \"ticks\": \"\"}, \"type\": \"histogram2dcontour\"}], \"histogram2d\": [{\"autocolorscale\": true, \"colorbar\": {\"outlinewidth\": 0, \"ticks\": \"\"}, \"type\": \"histogram2d\"}], \"histogram\": [{\"marker\": {\"colorbar\": {\"outlinewidth\": 0, \"ticks\": \"\"}}, \"type\": \"histogram\"}], \"mesh3d\": [{\"colorbar\": {\"outlinewidth\": 0, \"ticks\": \"\"}, \"type\": \"mesh3d\"}], \"parcoords\": [{\"line\": {\"colorbar\": {\"outlinewidth\": 0, \"ticks\": \"\"}}, \"type\": \"parcoords\"}], \"scatter3d\": [{\"marker\": {\"colorbar\": {\"outlinewidth\": 0, \"ticks\": \"\"}}, \"type\": \"scatter3d\"}], \"scattercarpet\": [{\"marker\": {\"colorbar\": {\"outlinewidth\": 0, \"ticks\": \"\"}}, \"type\": \"scattercarpet\"}], \"scattergeo\": [{\"marker\": {\"colorbar\": {\"outlinewidth\": 0, \"ticks\": \"\"}}, \"type\": \"scattergeo\"}], \"scattergl\": [{\"marker\": {\"colorbar\": {\"outlinewidth\": 0, \"ticks\": \"\"}}, \"type\": \"scattergl\"}], \"scattermapbox\": [{\"marker\": {\"colorbar\": {\"outlinewidth\": 0, \"ticks\": \"\"}}, \"type\": \"scattermapbox\"}], \"scatterpolargl\": [{\"marker\": {\"colorbar\": {\"outlinewidth\": 0, \"ticks\": \"\"}}, \"type\": \"scatterpolargl\"}], \"scatterpolar\": [{\"marker\": {\"colorbar\": {\"outlinewidth\": 0, \"ticks\": \"\"}}, \"type\": \"scatterpolar\"}], \"scatter\": [{\"marker\": {\"colorbar\": {\"outlinewidth\": 0, \"ticks\": \"\"}}, \"type\": \"scatter\"}], \"scatterternary\": [{\"marker\": {\"colorbar\": {\"outlinewidth\": 0, \"ticks\": \"\"}}, \"type\": \"scatterternary\"}], \"surface\": [{\"colorbar\": {\"outlinewidth\": 0, \"ticks\": \"\"}, \"type\": \"surface\"}], \"table\": [{\"cells\": {\"fill\": {\"color\": \"#EBF0F8\"}, \"line\": {\"color\": \"white\"}}, \"header\": {\"fill\": {\"color\": \"#C8D4E3\"}, \"line\": {\"color\": \"white\"}}, \"type\": \"table\"}]}, \"layout\": {\"annotationdefaults\": {\"arrowcolor\": \"#506784\", \"arrowhead\": 0, \"arrowwidth\": 1}, \"colorscale\": {\"diverging\": [[0, \"#8e0152\"], [0.1, \"#c51b7d\"], [0.2, \"#de77ae\"], [0.3, \"#f1b6da\"], [0.4, \"#fde0ef\"], [0.5, \"#f7f7f7\"], [0.6, \"#e6f5d0\"], [0.7, \"#b8e186\"], [0.8, \"#7fbc41\"], [0.9, \"#4d9221\"], [1, \"#276419\"]], \"sequential\": [[0.0, \"#0508b8\"], [0.0893854748603352, \"#1910d8\"], [0.1787709497206704, \"#3c19f0\"], [0.2681564245810056, \"#6b1cfb\"], [0.3575418994413408, \"#981cfd\"], [0.44692737430167595, \"#bf1cfd\"], [0.5363128491620112, \"#dd2bfd\"], [0.6256983240223464, \"#f246fe\"], [0.7150837988826816, \"#fc67fd\"], [0.8044692737430168, \"#fe88fc\"], [0.8938547486033519, \"#fea5fd\"], [0.9832402234636871, \"#febefe\"], [1.0, \"#fec3fe\"]], \"sequentialminus\": [[0.0, \"#0508b8\"], [0.0893854748603352, \"#1910d8\"], [0.1787709497206704, \"#3c19f0\"], [0.2681564245810056, \"#6b1cfb\"], [0.3575418994413408, \"#981cfd\"], [0.44692737430167595, \"#bf1cfd\"], [0.5363128491620112, \"#dd2bfd\"], [0.6256983240223464, \"#f246fe\"], [0.7150837988826816, \"#fc67fd\"], [0.8044692737430168, \"#fe88fc\"], [0.8938547486033519, \"#fea5fd\"], [0.9832402234636871, \"#febefe\"], [1.0, \"#fec3fe\"]]}, \"colorway\": [\"#636efa\", \"#EF553B\", \"#00cc96\", \"#ab63fa\", \"#19d3f3\", \"#e763fa\", \"#FECB52\", \"#FFA15A\", \"#FF6692\", \"#B6E880\"], \"font\": {\"color\": \"#2a3f5f\"}, \"geo\": {\"bgcolor\": \"white\", \"lakecolor\": \"white\", \"landcolor\": \"#E5ECF6\", \"showlakes\": true, \"showland\": true, \"subunitcolor\": \"white\"}, \"hovermode\": \"closest\", \"mapbox\": {\"style\": \"light\"}, \"paper_bgcolor\": \"white\", \"plot_bgcolor\": \"#E5ECF6\", \"polar\": {\"angularaxis\": {\"gridcolor\": \"white\", \"linecolor\": \"white\", \"ticks\": \"\"}, \"bgcolor\": \"#E5ECF6\", \"radialaxis\": {\"gridcolor\": \"white\", \"linecolor\": \"white\", \"ticks\": \"\"}}, \"scene\": {\"xaxis\": {\"backgroundcolor\": \"#E5ECF6\", \"gridcolor\": \"white\", \"gridwidth\": 2, \"linecolor\": \"white\", \"showbackground\": true, \"ticks\": \"\", \"zerolinecolor\": \"white\"}, \"yaxis\": {\"backgroundcolor\": \"#E5ECF6\", \"gridcolor\": \"white\", \"gridwidth\": 2, \"linecolor\": \"white\", \"showbackground\": true, \"ticks\": \"\", \"zerolinecolor\": \"white\"}, \"zaxis\": {\"backgroundcolor\": \"#E5ECF6\", \"gridcolor\": \"white\", \"gridwidth\": 2, \"linecolor\": \"white\", \"showbackground\": true, \"ticks\": \"\", \"zerolinecolor\": \"white\"}}, \"shapedefaults\": {\"fillcolor\": \"#506784\", \"line\": {\"width\": 0}, \"opacity\": 0.4}, \"ternary\": {\"aaxis\": {\"gridcolor\": \"white\", \"linecolor\": \"white\", \"ticks\": \"\"}, \"baxis\": {\"gridcolor\": \"white\", \"linecolor\": \"white\", \"ticks\": \"\"}, \"bgcolor\": \"#E5ECF6\", \"caxis\": {\"gridcolor\": \"white\", \"linecolor\": \"white\", \"ticks\": \"\"}}, \"title\": {\"x\": 0.05}, \"xaxis\": {\"automargin\": true, \"gridcolor\": \"white\", \"linecolor\": \"white\", \"ticks\": \"\", \"zerolinecolor\": \"white\", \"zerolinewidth\": 2}, \"yaxis\": {\"automargin\": true, \"gridcolor\": \"white\", \"linecolor\": \"white\", \"ticks\": \"\", \"zerolinecolor\": \"white\", \"zerolinewidth\": 2}}}, \"polar\": {\"angularaxis\": {\"direction\": \"clockwise\", \"rotation\": 90}}}, {\"showLink\": false, \"linkText\": \"Export to plot.ly\", \"plotlyServerURL\": \"https://plot.ly\"}); \n",
       "}\n",
       "});</script><script type=\"text/javascript\">window.addEventListener(\"resize\", function(){if (document.getElementById(\"2c08c0ee-5215-4183-8fcc-b020976d6310\")) {window._Plotly.Plots.resize(document.getElementById(\"2c08c0ee-5215-4183-8fcc-b020976d6310\"));};})</script>"
      ],
      "text/vnd.plotly.v1+html": [
       "<div id=\"2c08c0ee-5215-4183-8fcc-b020976d6310\" style=\"height: 600px; width: 100%;\" class=\"plotly-graph-div\"></div><script type=\"text/javascript\">require([\"plotly\"], function(Plotly) { window.PLOTLYENV=window.PLOTLYENV || {};window.PLOTLYENV.BASE_URL=\"https://plot.ly\";\n",
       "if (document.getElementById(\"2c08c0ee-5215-4183-8fcc-b020976d6310\")) {\n",
       "    Plotly.newPlot(\"2c08c0ee-5215-4183-8fcc-b020976d6310\", [{\"hovertemplate\": \"Cuando recibes o consumes una imagen, \\u00bfla comparas con tu propia realidad? \\u00bfIntentas encontrar en tu entorno cierto parecido?=1. Nunca<br>counts=%{r}<br>prosume_cluster=%{theta}<extra></extra>\", \"legendgroup\": \"Cuando recibes o consumes una imagen, \\u00bfla comparas con tu propia realidad? \\u00bfIntentas encontrar en tu entorno cierto parecido?=1. Nunca\", \"marker\": {\"color\": \"rgb(213,62,79)\"}, \"name\": \"Cuando recibes o consumes una imagen, \\u00bfla comparas con tu propia realidad? \\u00bfIntentas encontrar en tu entorno cierto parecido?=1. Nunca\", \"r\": [16, 10], \"showlegend\": true, \"theta\": [\"cluster_2\", \"cluster_5\"], \"type\": \"barpolar\", \"uid\": \"e9ea239d-cbfe-46ca-b64e-07725edeb241\"}, {\"hovertemplate\": \"Cuando recibes o consumes una imagen, \\u00bfla comparas con tu propia realidad? \\u00bfIntentas encontrar en tu entorno cierto parecido?=2. Muy pocas veces<br>counts=%{r}<br>prosume_cluster=%{theta}<extra></extra>\", \"legendgroup\": \"Cuando recibes o consumes una imagen, \\u00bfla comparas con tu propia realidad? \\u00bfIntentas encontrar en tu entorno cierto parecido?=2. Muy pocas veces\", \"marker\": {\"color\": \"rgb(252,141,89)\"}, \"name\": \"Cuando recibes o consumes una imagen, \\u00bfla comparas con tu propia realidad? \\u00bfIntentas encontrar en tu entorno cierto parecido?=2. Muy pocas veces\", \"r\": [19, 46, 1, 3, 46], \"showlegend\": true, \"theta\": [\"cluster_1\", \"cluster_2\", \"cluster_3\", \"cluster_4\", \"cluster_5\"], \"type\": \"barpolar\", \"uid\": \"a4e0a1d0-eeb6-42b6-825e-e35c38ea66eb\"}, {\"hovertemplate\": \"Cuando recibes o consumes una imagen, \\u00bfla comparas con tu propia realidad? \\u00bfIntentas encontrar en tu entorno cierto parecido?=3. En ocasiones<br>counts=%{r}<br>prosume_cluster=%{theta}<extra></extra>\", \"legendgroup\": \"Cuando recibes o consumes una imagen, \\u00bfla comparas con tu propia realidad? \\u00bfIntentas encontrar en tu entorno cierto parecido?=3. En ocasiones\", \"marker\": {\"color\": \"rgb(254,224,139)\"}, \"name\": \"Cuando recibes o consumes una imagen, \\u00bfla comparas con tu propia realidad? \\u00bfIntentas encontrar en tu entorno cierto parecido?=3. En ocasiones\", \"r\": [14, 87, 28, 27, 152], \"showlegend\": true, \"theta\": [\"cluster_1\", \"cluster_2\", \"cluster_3\", \"cluster_4\", \"cluster_5\"], \"type\": \"barpolar\", \"uid\": \"0cf838fa-0a0d-4679-8d05-ee637ee0deaa\"}, {\"hovertemplate\": \"Cuando recibes o consumes una imagen, \\u00bfla comparas con tu propia realidad? \\u00bfIntentas encontrar en tu entorno cierto parecido?=4. Bastantes veces<br>counts=%{r}<br>prosume_cluster=%{theta}<extra></extra>\", \"legendgroup\": \"Cuando recibes o consumes una imagen, \\u00bfla comparas con tu propia realidad? \\u00bfIntentas encontrar en tu entorno cierto parecido?=4. Bastantes veces\", \"marker\": {\"color\": \"rgb(230,245,152)\"}, \"name\": \"Cuando recibes o consumes una imagen, \\u00bfla comparas con tu propia realidad? \\u00bfIntentas encontrar en tu entorno cierto parecido?=4. Bastantes veces\", \"r\": [4, 42, 54, 46, 91], \"showlegend\": true, \"theta\": [\"cluster_1\", \"cluster_2\", \"cluster_3\", \"cluster_4\", \"cluster_5\"], \"type\": \"barpolar\", \"uid\": \"0f5c784b-e23a-479b-a5fc-db7d5d145cb6\"}, {\"hovertemplate\": \"Cuando recibes o consumes una imagen, \\u00bfla comparas con tu propia realidad? \\u00bfIntentas encontrar en tu entorno cierto parecido?=5. Casi siempre o siempre<br>counts=%{r}<br>prosume_cluster=%{theta}<extra></extra>\", \"legendgroup\": \"Cuando recibes o consumes una imagen, \\u00bfla comparas con tu propia realidad? \\u00bfIntentas encontrar en tu entorno cierto parecido?=5. Casi siempre o siempre\", \"marker\": {\"color\": \"rgb(153,213,148)\"}, \"name\": \"Cuando recibes o consumes una imagen, \\u00bfla comparas con tu propia realidad? \\u00bfIntentas encontrar en tu entorno cierto parecido?=5. Casi siempre o siempre\", \"r\": [5, 17, 22, 37], \"showlegend\": true, \"theta\": [\"cluster_2\", \"cluster_3\", \"cluster_4\", \"cluster_5\"], \"type\": \"barpolar\", \"uid\": \"9cf4c88c-cc0b-45b8-9368-9e473e4f05d7\"}], {\"barmode\": \"group\", \"barnorm\": \"\", \"height\": 600, \"legend\": {\"tracegroupgap\": 0}, \"margin\": {\"t\": 60}, \"template\": {\"data\": {\"barpolar\": [{\"marker\": {\"line\": {\"color\": \"#E5ECF6\", \"width\": 0.5}}, \"type\": \"barpolar\"}], \"bar\": [{\"marker\": {\"line\": {\"color\": \"#E5ECF6\", \"width\": 0.5}}, \"type\": \"bar\"}], \"carpet\": [{\"aaxis\": {\"endlinecolor\": \"#2a3f5f\", \"gridcolor\": \"white\", \"linecolor\": \"white\", \"minorgridcolor\": \"white\", \"startlinecolor\": \"#2a3f5f\"}, \"baxis\": {\"endlinecolor\": \"#2a3f5f\", \"gridcolor\": \"white\", \"linecolor\": \"white\", \"minorgridcolor\": \"white\", \"startlinecolor\": \"#2a3f5f\"}, \"type\": \"carpet\"}], \"choropleth\": [{\"colorbar\": {\"outlinewidth\": 0, \"ticks\": \"\"}, \"type\": \"choropleth\"}], \"contourcarpet\": [{\"colorbar\": {\"outlinewidth\": 0, \"ticks\": \"\"}, \"type\": \"contourcarpet\"}], \"contour\": [{\"autocolorscale\": true, \"colorbar\": {\"outlinewidth\": 0, \"ticks\": \"\"}, \"type\": \"contour\"}], \"heatmapgl\": [{\"colorbar\": {\"outlinewidth\": 0, \"ticks\": \"\"}, \"type\": \"heatmapgl\"}], \"heatmap\": [{\"autocolorscale\": true, \"colorbar\": {\"outlinewidth\": 0, \"ticks\": \"\"}, \"type\": \"heatmap\"}], \"histogram2dcontour\": [{\"autocolorscale\": true, \"colorbar\": {\"outlinewidth\": 0, \"ticks\": \"\"}, \"type\": \"histogram2dcontour\"}], \"histogram2d\": [{\"autocolorscale\": true, \"colorbar\": {\"outlinewidth\": 0, \"ticks\": \"\"}, \"type\": \"histogram2d\"}], \"histogram\": [{\"marker\": {\"colorbar\": {\"outlinewidth\": 0, \"ticks\": \"\"}}, \"type\": \"histogram\"}], \"mesh3d\": [{\"colorbar\": {\"outlinewidth\": 0, \"ticks\": \"\"}, \"type\": \"mesh3d\"}], \"parcoords\": [{\"line\": {\"colorbar\": {\"outlinewidth\": 0, \"ticks\": \"\"}}, \"type\": \"parcoords\"}], \"scatter3d\": [{\"marker\": {\"colorbar\": {\"outlinewidth\": 0, \"ticks\": \"\"}}, \"type\": \"scatter3d\"}], \"scattercarpet\": [{\"marker\": {\"colorbar\": {\"outlinewidth\": 0, \"ticks\": \"\"}}, \"type\": \"scattercarpet\"}], \"scattergeo\": [{\"marker\": {\"colorbar\": {\"outlinewidth\": 0, \"ticks\": \"\"}}, \"type\": \"scattergeo\"}], \"scattergl\": [{\"marker\": {\"colorbar\": {\"outlinewidth\": 0, \"ticks\": \"\"}}, \"type\": \"scattergl\"}], \"scattermapbox\": [{\"marker\": {\"colorbar\": {\"outlinewidth\": 0, \"ticks\": \"\"}}, \"type\": \"scattermapbox\"}], \"scatterpolargl\": [{\"marker\": {\"colorbar\": {\"outlinewidth\": 0, \"ticks\": \"\"}}, \"type\": \"scatterpolargl\"}], \"scatterpolar\": [{\"marker\": {\"colorbar\": {\"outlinewidth\": 0, \"ticks\": \"\"}}, \"type\": \"scatterpolar\"}], \"scatter\": [{\"marker\": {\"colorbar\": {\"outlinewidth\": 0, \"ticks\": \"\"}}, \"type\": \"scatter\"}], \"scatterternary\": [{\"marker\": {\"colorbar\": {\"outlinewidth\": 0, \"ticks\": \"\"}}, \"type\": \"scatterternary\"}], \"surface\": [{\"colorbar\": {\"outlinewidth\": 0, \"ticks\": \"\"}, \"type\": \"surface\"}], \"table\": [{\"cells\": {\"fill\": {\"color\": \"#EBF0F8\"}, \"line\": {\"color\": \"white\"}}, \"header\": {\"fill\": {\"color\": \"#C8D4E3\"}, \"line\": {\"color\": \"white\"}}, \"type\": \"table\"}]}, \"layout\": {\"annotationdefaults\": {\"arrowcolor\": \"#506784\", \"arrowhead\": 0, \"arrowwidth\": 1}, \"colorscale\": {\"diverging\": [[0, \"#8e0152\"], [0.1, \"#c51b7d\"], [0.2, \"#de77ae\"], [0.3, \"#f1b6da\"], [0.4, \"#fde0ef\"], [0.5, \"#f7f7f7\"], [0.6, \"#e6f5d0\"], [0.7, \"#b8e186\"], [0.8, \"#7fbc41\"], [0.9, \"#4d9221\"], [1, \"#276419\"]], \"sequential\": [[0.0, \"#0508b8\"], [0.0893854748603352, \"#1910d8\"], [0.1787709497206704, \"#3c19f0\"], [0.2681564245810056, \"#6b1cfb\"], [0.3575418994413408, \"#981cfd\"], [0.44692737430167595, \"#bf1cfd\"], [0.5363128491620112, \"#dd2bfd\"], [0.6256983240223464, \"#f246fe\"], [0.7150837988826816, \"#fc67fd\"], [0.8044692737430168, \"#fe88fc\"], [0.8938547486033519, \"#fea5fd\"], [0.9832402234636871, \"#febefe\"], [1.0, \"#fec3fe\"]], \"sequentialminus\": [[0.0, \"#0508b8\"], [0.0893854748603352, \"#1910d8\"], [0.1787709497206704, \"#3c19f0\"], [0.2681564245810056, \"#6b1cfb\"], [0.3575418994413408, \"#981cfd\"], [0.44692737430167595, \"#bf1cfd\"], [0.5363128491620112, \"#dd2bfd\"], [0.6256983240223464, \"#f246fe\"], [0.7150837988826816, \"#fc67fd\"], [0.8044692737430168, \"#fe88fc\"], [0.8938547486033519, \"#fea5fd\"], [0.9832402234636871, \"#febefe\"], [1.0, \"#fec3fe\"]]}, \"colorway\": [\"#636efa\", \"#EF553B\", \"#00cc96\", \"#ab63fa\", \"#19d3f3\", \"#e763fa\", \"#FECB52\", \"#FFA15A\", \"#FF6692\", \"#B6E880\"], \"font\": {\"color\": \"#2a3f5f\"}, \"geo\": {\"bgcolor\": \"white\", \"lakecolor\": \"white\", \"landcolor\": \"#E5ECF6\", \"showlakes\": true, \"showland\": true, \"subunitcolor\": \"white\"}, \"hovermode\": \"closest\", \"mapbox\": {\"style\": \"light\"}, \"paper_bgcolor\": \"white\", \"plot_bgcolor\": \"#E5ECF6\", \"polar\": {\"angularaxis\": {\"gridcolor\": \"white\", \"linecolor\": \"white\", \"ticks\": \"\"}, \"bgcolor\": \"#E5ECF6\", \"radialaxis\": {\"gridcolor\": \"white\", \"linecolor\": \"white\", \"ticks\": \"\"}}, \"scene\": {\"xaxis\": {\"backgroundcolor\": \"#E5ECF6\", \"gridcolor\": \"white\", \"gridwidth\": 2, \"linecolor\": \"white\", \"showbackground\": true, \"ticks\": \"\", \"zerolinecolor\": \"white\"}, \"yaxis\": {\"backgroundcolor\": \"#E5ECF6\", \"gridcolor\": \"white\", \"gridwidth\": 2, \"linecolor\": \"white\", \"showbackground\": true, \"ticks\": \"\", \"zerolinecolor\": \"white\"}, \"zaxis\": {\"backgroundcolor\": \"#E5ECF6\", \"gridcolor\": \"white\", \"gridwidth\": 2, \"linecolor\": \"white\", \"showbackground\": true, \"ticks\": \"\", \"zerolinecolor\": \"white\"}}, \"shapedefaults\": {\"fillcolor\": \"#506784\", \"line\": {\"width\": 0}, \"opacity\": 0.4}, \"ternary\": {\"aaxis\": {\"gridcolor\": \"white\", \"linecolor\": \"white\", \"ticks\": \"\"}, \"baxis\": {\"gridcolor\": \"white\", \"linecolor\": \"white\", \"ticks\": \"\"}, \"bgcolor\": \"#E5ECF6\", \"caxis\": {\"gridcolor\": \"white\", \"linecolor\": \"white\", \"ticks\": \"\"}}, \"title\": {\"x\": 0.05}, \"xaxis\": {\"automargin\": true, \"gridcolor\": \"white\", \"linecolor\": \"white\", \"ticks\": \"\", \"zerolinecolor\": \"white\", \"zerolinewidth\": 2}, \"yaxis\": {\"automargin\": true, \"gridcolor\": \"white\", \"linecolor\": \"white\", \"ticks\": \"\", \"zerolinecolor\": \"white\", \"zerolinewidth\": 2}}}, \"polar\": {\"angularaxis\": {\"direction\": \"clockwise\", \"rotation\": 90}}}, {\"showLink\": false, \"linkText\": \"Export to plot.ly\", \"plotlyServerURL\": \"https://plot.ly\"}); \n",
       "}\n",
       "});</script><script type=\"text/javascript\">window.addEventListener(\"resize\", function(){if (document.getElementById(\"2c08c0ee-5215-4183-8fcc-b020976d6310\")) {window._Plotly.Plots.resize(document.getElementById(\"2c08c0ee-5215-4183-8fcc-b020976d6310\"));};})</script>"
      ]
     },
     "metadata": {},
     "output_type": "display_data"
    },
    {
     "name": "stdout",
     "output_type": "stream",
     "text": [
      "Comparando la pregunta Cuando recibes o consumes una imagen, ¿piensas en el modo en que fue obtenida (técnicamente)?\n"
     ]
    },
    {
     "data": {
      "application/vnd.plotly.v1+json": {
       "config": {
        "linkText": "Export to plot.ly",
        "plotlyServerURL": "https://plot.ly",
        "showLink": false
       },
       "data": [
        {
         "hovertemplate": "Cuando recibes o consumes una imagen, ¿piensas en el modo en que fue obtenida (técnicamente)?=1. Nunca<br>counts=%{r}<br>prosume_cluster=%{theta}<extra></extra>",
         "legendgroup": "Cuando recibes o consumes una imagen, ¿piensas en el modo en que fue obtenida (técnicamente)?=1. Nunca",
         "marker": {
          "color": "rgb(213,62,79)"
         },
         "name": "Cuando recibes o consumes una imagen, ¿piensas en el modo en que fue obtenida (técnicamente)?=1. Nunca",
         "r": [
          24,
          1,
          2,
          21
         ],
         "showlegend": true,
         "theta": [
          "cluster_2",
          "cluster_3",
          "cluster_4",
          "cluster_5"
         ],
         "type": "barpolar",
         "uid": "6d446348-b871-4f5b-8f81-37a00a0f21c0"
        },
        {
         "hovertemplate": "Cuando recibes o consumes una imagen, ¿piensas en el modo en que fue obtenida (técnicamente)?=2. Muy pocas veces<br>counts=%{r}<br>prosume_cluster=%{theta}<extra></extra>",
         "legendgroup": "Cuando recibes o consumes una imagen, ¿piensas en el modo en que fue obtenida (técnicamente)?=2. Muy pocas veces",
         "marker": {
          "color": "rgb(252,141,89)"
         },
         "name": "Cuando recibes o consumes una imagen, ¿piensas en el modo en que fue obtenida (técnicamente)?=2. Muy pocas veces",
         "r": [
          11,
          47,
          7,
          10,
          92
         ],
         "showlegend": true,
         "theta": [
          "cluster_1",
          "cluster_2",
          "cluster_3",
          "cluster_4",
          "cluster_5"
         ],
         "type": "barpolar",
         "uid": "d550a66d-4ac1-4b38-8f83-4bb81ef7086d"
        },
        {
         "hovertemplate": "Cuando recibes o consumes una imagen, ¿piensas en el modo en que fue obtenida (técnicamente)?=3. En ocasiones<br>counts=%{r}<br>prosume_cluster=%{theta}<extra></extra>",
         "legendgroup": "Cuando recibes o consumes una imagen, ¿piensas en el modo en que fue obtenida (técnicamente)?=3. En ocasiones",
         "marker": {
          "color": "rgb(254,224,139)"
         },
         "name": "Cuando recibes o consumes una imagen, ¿piensas en el modo en que fue obtenida (técnicamente)?=3. En ocasiones",
         "r": [
          21,
          76,
          25,
          28,
          132
         ],
         "showlegend": true,
         "theta": [
          "cluster_1",
          "cluster_2",
          "cluster_3",
          "cluster_4",
          "cluster_5"
         ],
         "type": "barpolar",
         "uid": "bb9959a6-3700-4327-a634-8e037e733f8d"
        },
        {
         "hovertemplate": "Cuando recibes o consumes una imagen, ¿piensas en el modo en que fue obtenida (técnicamente)?=4. Bastantes veces<br>counts=%{r}<br>prosume_cluster=%{theta}<extra></extra>",
         "legendgroup": "Cuando recibes o consumes una imagen, ¿piensas en el modo en que fue obtenida (técnicamente)?=4. Bastantes veces",
         "marker": {
          "color": "rgb(230,245,152)"
         },
         "name": "Cuando recibes o consumes una imagen, ¿piensas en el modo en que fue obtenida (técnicamente)?=4. Bastantes veces",
         "r": [
          4,
          41,
          51,
          34,
          68
         ],
         "showlegend": true,
         "theta": [
          "cluster_1",
          "cluster_2",
          "cluster_3",
          "cluster_4",
          "cluster_5"
         ],
         "type": "barpolar",
         "uid": "e2d778e9-5f71-48f7-bbfc-4d69cfaf8092"
        },
        {
         "hovertemplate": "Cuando recibes o consumes una imagen, ¿piensas en el modo en que fue obtenida (técnicamente)?=5. Casi siempre o siempre<br>counts=%{r}<br>prosume_cluster=%{theta}<extra></extra>",
         "legendgroup": "Cuando recibes o consumes una imagen, ¿piensas en el modo en que fue obtenida (técnicamente)?=5. Casi siempre o siempre",
         "marker": {
          "color": "rgb(153,213,148)"
         },
         "name": "Cuando recibes o consumes una imagen, ¿piensas en el modo en que fue obtenida (técnicamente)?=5. Casi siempre o siempre",
         "r": [
          1,
          8,
          16,
          24,
          23
         ],
         "showlegend": true,
         "theta": [
          "cluster_1",
          "cluster_2",
          "cluster_3",
          "cluster_4",
          "cluster_5"
         ],
         "type": "barpolar",
         "uid": "11db1340-a070-4a46-8b18-8a54295236da"
        }
       ],
       "layout": {
        "barmode": "group",
        "barnorm": "",
        "height": 600,
        "legend": {
         "tracegroupgap": 0
        },
        "margin": {
         "t": 60
        },
        "polar": {
         "angularaxis": {
          "direction": "clockwise",
          "rotation": 90
         }
        },
        "template": {
         "data": {
          "bar": [
           {
            "marker": {
             "line": {
              "color": "#E5ECF6",
              "width": 0.5
             }
            },
            "type": "bar"
           }
          ],
          "barpolar": [
           {
            "marker": {
             "line": {
              "color": "#E5ECF6",
              "width": 0.5
             }
            },
            "type": "barpolar"
           }
          ],
          "carpet": [
           {
            "aaxis": {
             "endlinecolor": "#2a3f5f",
             "gridcolor": "white",
             "linecolor": "white",
             "minorgridcolor": "white",
             "startlinecolor": "#2a3f5f"
            },
            "baxis": {
             "endlinecolor": "#2a3f5f",
             "gridcolor": "white",
             "linecolor": "white",
             "minorgridcolor": "white",
             "startlinecolor": "#2a3f5f"
            },
            "type": "carpet"
           }
          ],
          "choropleth": [
           {
            "colorbar": {
             "outlinewidth": 0,
             "ticks": ""
            },
            "type": "choropleth"
           }
          ],
          "contour": [
           {
            "autocolorscale": true,
            "colorbar": {
             "outlinewidth": 0,
             "ticks": ""
            },
            "type": "contour"
           }
          ],
          "contourcarpet": [
           {
            "colorbar": {
             "outlinewidth": 0,
             "ticks": ""
            },
            "type": "contourcarpet"
           }
          ],
          "heatmap": [
           {
            "autocolorscale": true,
            "colorbar": {
             "outlinewidth": 0,
             "ticks": ""
            },
            "type": "heatmap"
           }
          ],
          "heatmapgl": [
           {
            "colorbar": {
             "outlinewidth": 0,
             "ticks": ""
            },
            "type": "heatmapgl"
           }
          ],
          "histogram": [
           {
            "marker": {
             "colorbar": {
              "outlinewidth": 0,
              "ticks": ""
             }
            },
            "type": "histogram"
           }
          ],
          "histogram2d": [
           {
            "autocolorscale": true,
            "colorbar": {
             "outlinewidth": 0,
             "ticks": ""
            },
            "type": "histogram2d"
           }
          ],
          "histogram2dcontour": [
           {
            "autocolorscale": true,
            "colorbar": {
             "outlinewidth": 0,
             "ticks": ""
            },
            "type": "histogram2dcontour"
           }
          ],
          "mesh3d": [
           {
            "colorbar": {
             "outlinewidth": 0,
             "ticks": ""
            },
            "type": "mesh3d"
           }
          ],
          "parcoords": [
           {
            "line": {
             "colorbar": {
              "outlinewidth": 0,
              "ticks": ""
             }
            },
            "type": "parcoords"
           }
          ],
          "scatter": [
           {
            "marker": {
             "colorbar": {
              "outlinewidth": 0,
              "ticks": ""
             }
            },
            "type": "scatter"
           }
          ],
          "scatter3d": [
           {
            "marker": {
             "colorbar": {
              "outlinewidth": 0,
              "ticks": ""
             }
            },
            "type": "scatter3d"
           }
          ],
          "scattercarpet": [
           {
            "marker": {
             "colorbar": {
              "outlinewidth": 0,
              "ticks": ""
             }
            },
            "type": "scattercarpet"
           }
          ],
          "scattergeo": [
           {
            "marker": {
             "colorbar": {
              "outlinewidth": 0,
              "ticks": ""
             }
            },
            "type": "scattergeo"
           }
          ],
          "scattergl": [
           {
            "marker": {
             "colorbar": {
              "outlinewidth": 0,
              "ticks": ""
             }
            },
            "type": "scattergl"
           }
          ],
          "scattermapbox": [
           {
            "marker": {
             "colorbar": {
              "outlinewidth": 0,
              "ticks": ""
             }
            },
            "type": "scattermapbox"
           }
          ],
          "scatterpolar": [
           {
            "marker": {
             "colorbar": {
              "outlinewidth": 0,
              "ticks": ""
             }
            },
            "type": "scatterpolar"
           }
          ],
          "scatterpolargl": [
           {
            "marker": {
             "colorbar": {
              "outlinewidth": 0,
              "ticks": ""
             }
            },
            "type": "scatterpolargl"
           }
          ],
          "scatterternary": [
           {
            "marker": {
             "colorbar": {
              "outlinewidth": 0,
              "ticks": ""
             }
            },
            "type": "scatterternary"
           }
          ],
          "surface": [
           {
            "colorbar": {
             "outlinewidth": 0,
             "ticks": ""
            },
            "type": "surface"
           }
          ],
          "table": [
           {
            "cells": {
             "fill": {
              "color": "#EBF0F8"
             },
             "line": {
              "color": "white"
             }
            },
            "header": {
             "fill": {
              "color": "#C8D4E3"
             },
             "line": {
              "color": "white"
             }
            },
            "type": "table"
           }
          ]
         },
         "layout": {
          "annotationdefaults": {
           "arrowcolor": "#506784",
           "arrowhead": 0,
           "arrowwidth": 1
          },
          "colorscale": {
           "diverging": [
            [
             0,
             "#8e0152"
            ],
            [
             0.1,
             "#c51b7d"
            ],
            [
             0.2,
             "#de77ae"
            ],
            [
             0.3,
             "#f1b6da"
            ],
            [
             0.4,
             "#fde0ef"
            ],
            [
             0.5,
             "#f7f7f7"
            ],
            [
             0.6,
             "#e6f5d0"
            ],
            [
             0.7,
             "#b8e186"
            ],
            [
             0.8,
             "#7fbc41"
            ],
            [
             0.9,
             "#4d9221"
            ],
            [
             1,
             "#276419"
            ]
           ],
           "sequential": [
            [
             0,
             "#0508b8"
            ],
            [
             0.0893854748603352,
             "#1910d8"
            ],
            [
             0.1787709497206704,
             "#3c19f0"
            ],
            [
             0.2681564245810056,
             "#6b1cfb"
            ],
            [
             0.3575418994413408,
             "#981cfd"
            ],
            [
             0.44692737430167595,
             "#bf1cfd"
            ],
            [
             0.5363128491620112,
             "#dd2bfd"
            ],
            [
             0.6256983240223464,
             "#f246fe"
            ],
            [
             0.7150837988826816,
             "#fc67fd"
            ],
            [
             0.8044692737430168,
             "#fe88fc"
            ],
            [
             0.8938547486033519,
             "#fea5fd"
            ],
            [
             0.9832402234636871,
             "#febefe"
            ],
            [
             1,
             "#fec3fe"
            ]
           ],
           "sequentialminus": [
            [
             0,
             "#0508b8"
            ],
            [
             0.0893854748603352,
             "#1910d8"
            ],
            [
             0.1787709497206704,
             "#3c19f0"
            ],
            [
             0.2681564245810056,
             "#6b1cfb"
            ],
            [
             0.3575418994413408,
             "#981cfd"
            ],
            [
             0.44692737430167595,
             "#bf1cfd"
            ],
            [
             0.5363128491620112,
             "#dd2bfd"
            ],
            [
             0.6256983240223464,
             "#f246fe"
            ],
            [
             0.7150837988826816,
             "#fc67fd"
            ],
            [
             0.8044692737430168,
             "#fe88fc"
            ],
            [
             0.8938547486033519,
             "#fea5fd"
            ],
            [
             0.9832402234636871,
             "#febefe"
            ],
            [
             1,
             "#fec3fe"
            ]
           ]
          },
          "colorway": [
           "#636efa",
           "#EF553B",
           "#00cc96",
           "#ab63fa",
           "#19d3f3",
           "#e763fa",
           "#FECB52",
           "#FFA15A",
           "#FF6692",
           "#B6E880"
          ],
          "font": {
           "color": "#2a3f5f"
          },
          "geo": {
           "bgcolor": "white",
           "lakecolor": "white",
           "landcolor": "#E5ECF6",
           "showlakes": true,
           "showland": true,
           "subunitcolor": "white"
          },
          "hovermode": "closest",
          "mapbox": {
           "style": "light"
          },
          "paper_bgcolor": "white",
          "plot_bgcolor": "#E5ECF6",
          "polar": {
           "angularaxis": {
            "gridcolor": "white",
            "linecolor": "white",
            "ticks": ""
           },
           "bgcolor": "#E5ECF6",
           "radialaxis": {
            "gridcolor": "white",
            "linecolor": "white",
            "ticks": ""
           }
          },
          "scene": {
           "xaxis": {
            "backgroundcolor": "#E5ECF6",
            "gridcolor": "white",
            "gridwidth": 2,
            "linecolor": "white",
            "showbackground": true,
            "ticks": "",
            "zerolinecolor": "white"
           },
           "yaxis": {
            "backgroundcolor": "#E5ECF6",
            "gridcolor": "white",
            "gridwidth": 2,
            "linecolor": "white",
            "showbackground": true,
            "ticks": "",
            "zerolinecolor": "white"
           },
           "zaxis": {
            "backgroundcolor": "#E5ECF6",
            "gridcolor": "white",
            "gridwidth": 2,
            "linecolor": "white",
            "showbackground": true,
            "ticks": "",
            "zerolinecolor": "white"
           }
          },
          "shapedefaults": {
           "fillcolor": "#506784",
           "line": {
            "width": 0
           },
           "opacity": 0.4
          },
          "ternary": {
           "aaxis": {
            "gridcolor": "white",
            "linecolor": "white",
            "ticks": ""
           },
           "baxis": {
            "gridcolor": "white",
            "linecolor": "white",
            "ticks": ""
           },
           "bgcolor": "#E5ECF6",
           "caxis": {
            "gridcolor": "white",
            "linecolor": "white",
            "ticks": ""
           }
          },
          "title": {
           "x": 0.05
          },
          "xaxis": {
           "automargin": true,
           "gridcolor": "white",
           "linecolor": "white",
           "ticks": "",
           "zerolinecolor": "white",
           "zerolinewidth": 2
          },
          "yaxis": {
           "automargin": true,
           "gridcolor": "white",
           "linecolor": "white",
           "ticks": "",
           "zerolinecolor": "white",
           "zerolinewidth": 2
          }
         }
        }
       }
      },
      "text/html": [
       "<div id=\"8885de21-2126-4682-904e-98b08fbba25f\" style=\"height: 600px; width: 100%;\" class=\"plotly-graph-div\"></div><script type=\"text/javascript\">require([\"plotly\"], function(Plotly) { window.PLOTLYENV=window.PLOTLYENV || {};window.PLOTLYENV.BASE_URL=\"https://plot.ly\";\n",
       "if (document.getElementById(\"8885de21-2126-4682-904e-98b08fbba25f\")) {\n",
       "    Plotly.newPlot(\"8885de21-2126-4682-904e-98b08fbba25f\", [{\"hovertemplate\": \"Cuando recibes o consumes una imagen, \\u00bfpiensas en el modo en que fue obtenida (t\\u00e9cnicamente)?=1. Nunca<br>counts=%{r}<br>prosume_cluster=%{theta}<extra></extra>\", \"legendgroup\": \"Cuando recibes o consumes una imagen, \\u00bfpiensas en el modo en que fue obtenida (t\\u00e9cnicamente)?=1. Nunca\", \"marker\": {\"color\": \"rgb(213,62,79)\"}, \"name\": \"Cuando recibes o consumes una imagen, \\u00bfpiensas en el modo en que fue obtenida (t\\u00e9cnicamente)?=1. Nunca\", \"r\": [24, 1, 2, 21], \"showlegend\": true, \"theta\": [\"cluster_2\", \"cluster_3\", \"cluster_4\", \"cluster_5\"], \"type\": \"barpolar\", \"uid\": \"6d446348-b871-4f5b-8f81-37a00a0f21c0\"}, {\"hovertemplate\": \"Cuando recibes o consumes una imagen, \\u00bfpiensas en el modo en que fue obtenida (t\\u00e9cnicamente)?=2. Muy pocas veces<br>counts=%{r}<br>prosume_cluster=%{theta}<extra></extra>\", \"legendgroup\": \"Cuando recibes o consumes una imagen, \\u00bfpiensas en el modo en que fue obtenida (t\\u00e9cnicamente)?=2. Muy pocas veces\", \"marker\": {\"color\": \"rgb(252,141,89)\"}, \"name\": \"Cuando recibes o consumes una imagen, \\u00bfpiensas en el modo en que fue obtenida (t\\u00e9cnicamente)?=2. Muy pocas veces\", \"r\": [11, 47, 7, 10, 92], \"showlegend\": true, \"theta\": [\"cluster_1\", \"cluster_2\", \"cluster_3\", \"cluster_4\", \"cluster_5\"], \"type\": \"barpolar\", \"uid\": \"d550a66d-4ac1-4b38-8f83-4bb81ef7086d\"}, {\"hovertemplate\": \"Cuando recibes o consumes una imagen, \\u00bfpiensas en el modo en que fue obtenida (t\\u00e9cnicamente)?=3. En ocasiones<br>counts=%{r}<br>prosume_cluster=%{theta}<extra></extra>\", \"legendgroup\": \"Cuando recibes o consumes una imagen, \\u00bfpiensas en el modo en que fue obtenida (t\\u00e9cnicamente)?=3. En ocasiones\", \"marker\": {\"color\": \"rgb(254,224,139)\"}, \"name\": \"Cuando recibes o consumes una imagen, \\u00bfpiensas en el modo en que fue obtenida (t\\u00e9cnicamente)?=3. En ocasiones\", \"r\": [21, 76, 25, 28, 132], \"showlegend\": true, \"theta\": [\"cluster_1\", \"cluster_2\", \"cluster_3\", \"cluster_4\", \"cluster_5\"], \"type\": \"barpolar\", \"uid\": \"bb9959a6-3700-4327-a634-8e037e733f8d\"}, {\"hovertemplate\": \"Cuando recibes o consumes una imagen, \\u00bfpiensas en el modo en que fue obtenida (t\\u00e9cnicamente)?=4. Bastantes veces<br>counts=%{r}<br>prosume_cluster=%{theta}<extra></extra>\", \"legendgroup\": \"Cuando recibes o consumes una imagen, \\u00bfpiensas en el modo en que fue obtenida (t\\u00e9cnicamente)?=4. Bastantes veces\", \"marker\": {\"color\": \"rgb(230,245,152)\"}, \"name\": \"Cuando recibes o consumes una imagen, \\u00bfpiensas en el modo en que fue obtenida (t\\u00e9cnicamente)?=4. Bastantes veces\", \"r\": [4, 41, 51, 34, 68], \"showlegend\": true, \"theta\": [\"cluster_1\", \"cluster_2\", \"cluster_3\", \"cluster_4\", \"cluster_5\"], \"type\": \"barpolar\", \"uid\": \"e2d778e9-5f71-48f7-bbfc-4d69cfaf8092\"}, {\"hovertemplate\": \"Cuando recibes o consumes una imagen, \\u00bfpiensas en el modo en que fue obtenida (t\\u00e9cnicamente)?=5. Casi siempre o siempre<br>counts=%{r}<br>prosume_cluster=%{theta}<extra></extra>\", \"legendgroup\": \"Cuando recibes o consumes una imagen, \\u00bfpiensas en el modo en que fue obtenida (t\\u00e9cnicamente)?=5. Casi siempre o siempre\", \"marker\": {\"color\": \"rgb(153,213,148)\"}, \"name\": \"Cuando recibes o consumes una imagen, \\u00bfpiensas en el modo en que fue obtenida (t\\u00e9cnicamente)?=5. Casi siempre o siempre\", \"r\": [1, 8, 16, 24, 23], \"showlegend\": true, \"theta\": [\"cluster_1\", \"cluster_2\", \"cluster_3\", \"cluster_4\", \"cluster_5\"], \"type\": \"barpolar\", \"uid\": \"11db1340-a070-4a46-8b18-8a54295236da\"}], {\"barmode\": \"group\", \"barnorm\": \"\", \"height\": 600, \"legend\": {\"tracegroupgap\": 0}, \"margin\": {\"t\": 60}, \"template\": {\"data\": {\"barpolar\": [{\"marker\": {\"line\": {\"color\": \"#E5ECF6\", \"width\": 0.5}}, \"type\": \"barpolar\"}], \"bar\": [{\"marker\": {\"line\": {\"color\": \"#E5ECF6\", \"width\": 0.5}}, \"type\": \"bar\"}], \"carpet\": [{\"aaxis\": {\"endlinecolor\": \"#2a3f5f\", \"gridcolor\": \"white\", \"linecolor\": \"white\", \"minorgridcolor\": \"white\", \"startlinecolor\": \"#2a3f5f\"}, \"baxis\": {\"endlinecolor\": \"#2a3f5f\", \"gridcolor\": \"white\", \"linecolor\": \"white\", \"minorgridcolor\": \"white\", \"startlinecolor\": \"#2a3f5f\"}, \"type\": \"carpet\"}], \"choropleth\": [{\"colorbar\": {\"outlinewidth\": 0, \"ticks\": \"\"}, \"type\": \"choropleth\"}], \"contourcarpet\": [{\"colorbar\": {\"outlinewidth\": 0, \"ticks\": \"\"}, \"type\": \"contourcarpet\"}], \"contour\": [{\"autocolorscale\": true, \"colorbar\": {\"outlinewidth\": 0, \"ticks\": \"\"}, \"type\": \"contour\"}], \"heatmapgl\": [{\"colorbar\": {\"outlinewidth\": 0, \"ticks\": \"\"}, \"type\": \"heatmapgl\"}], \"heatmap\": [{\"autocolorscale\": true, \"colorbar\": {\"outlinewidth\": 0, \"ticks\": \"\"}, \"type\": \"heatmap\"}], \"histogram2dcontour\": [{\"autocolorscale\": true, \"colorbar\": {\"outlinewidth\": 0, \"ticks\": \"\"}, \"type\": \"histogram2dcontour\"}], \"histogram2d\": [{\"autocolorscale\": true, \"colorbar\": {\"outlinewidth\": 0, \"ticks\": \"\"}, \"type\": \"histogram2d\"}], \"histogram\": [{\"marker\": {\"colorbar\": {\"outlinewidth\": 0, \"ticks\": \"\"}}, \"type\": \"histogram\"}], \"mesh3d\": [{\"colorbar\": {\"outlinewidth\": 0, \"ticks\": \"\"}, \"type\": \"mesh3d\"}], \"parcoords\": [{\"line\": {\"colorbar\": {\"outlinewidth\": 0, \"ticks\": \"\"}}, \"type\": \"parcoords\"}], \"scatter3d\": [{\"marker\": {\"colorbar\": {\"outlinewidth\": 0, \"ticks\": \"\"}}, \"type\": \"scatter3d\"}], \"scattercarpet\": [{\"marker\": {\"colorbar\": {\"outlinewidth\": 0, \"ticks\": \"\"}}, \"type\": \"scattercarpet\"}], \"scattergeo\": [{\"marker\": {\"colorbar\": {\"outlinewidth\": 0, \"ticks\": \"\"}}, \"type\": \"scattergeo\"}], \"scattergl\": [{\"marker\": {\"colorbar\": {\"outlinewidth\": 0, \"ticks\": \"\"}}, \"type\": \"scattergl\"}], \"scattermapbox\": [{\"marker\": {\"colorbar\": {\"outlinewidth\": 0, \"ticks\": \"\"}}, \"type\": \"scattermapbox\"}], \"scatterpolargl\": [{\"marker\": {\"colorbar\": {\"outlinewidth\": 0, \"ticks\": \"\"}}, \"type\": \"scatterpolargl\"}], \"scatterpolar\": [{\"marker\": {\"colorbar\": {\"outlinewidth\": 0, \"ticks\": \"\"}}, \"type\": \"scatterpolar\"}], \"scatter\": [{\"marker\": {\"colorbar\": {\"outlinewidth\": 0, \"ticks\": \"\"}}, \"type\": \"scatter\"}], \"scatterternary\": [{\"marker\": {\"colorbar\": {\"outlinewidth\": 0, \"ticks\": \"\"}}, \"type\": \"scatterternary\"}], \"surface\": [{\"colorbar\": {\"outlinewidth\": 0, \"ticks\": \"\"}, \"type\": \"surface\"}], \"table\": [{\"cells\": {\"fill\": {\"color\": \"#EBF0F8\"}, \"line\": {\"color\": \"white\"}}, \"header\": {\"fill\": {\"color\": \"#C8D4E3\"}, \"line\": {\"color\": \"white\"}}, \"type\": \"table\"}]}, \"layout\": {\"annotationdefaults\": {\"arrowcolor\": \"#506784\", \"arrowhead\": 0, \"arrowwidth\": 1}, \"colorscale\": {\"diverging\": [[0, \"#8e0152\"], [0.1, \"#c51b7d\"], [0.2, \"#de77ae\"], [0.3, \"#f1b6da\"], [0.4, \"#fde0ef\"], [0.5, \"#f7f7f7\"], [0.6, \"#e6f5d0\"], [0.7, \"#b8e186\"], [0.8, \"#7fbc41\"], [0.9, \"#4d9221\"], [1, \"#276419\"]], \"sequential\": [[0.0, \"#0508b8\"], [0.0893854748603352, \"#1910d8\"], [0.1787709497206704, \"#3c19f0\"], [0.2681564245810056, \"#6b1cfb\"], [0.3575418994413408, \"#981cfd\"], [0.44692737430167595, \"#bf1cfd\"], [0.5363128491620112, \"#dd2bfd\"], [0.6256983240223464, \"#f246fe\"], [0.7150837988826816, \"#fc67fd\"], [0.8044692737430168, \"#fe88fc\"], [0.8938547486033519, \"#fea5fd\"], [0.9832402234636871, \"#febefe\"], [1.0, \"#fec3fe\"]], \"sequentialminus\": [[0.0, \"#0508b8\"], [0.0893854748603352, \"#1910d8\"], [0.1787709497206704, \"#3c19f0\"], [0.2681564245810056, \"#6b1cfb\"], [0.3575418994413408, \"#981cfd\"], [0.44692737430167595, \"#bf1cfd\"], [0.5363128491620112, \"#dd2bfd\"], [0.6256983240223464, \"#f246fe\"], [0.7150837988826816, \"#fc67fd\"], [0.8044692737430168, \"#fe88fc\"], [0.8938547486033519, \"#fea5fd\"], [0.9832402234636871, \"#febefe\"], [1.0, \"#fec3fe\"]]}, \"colorway\": [\"#636efa\", \"#EF553B\", \"#00cc96\", \"#ab63fa\", \"#19d3f3\", \"#e763fa\", \"#FECB52\", \"#FFA15A\", \"#FF6692\", \"#B6E880\"], \"font\": {\"color\": \"#2a3f5f\"}, \"geo\": {\"bgcolor\": \"white\", \"lakecolor\": \"white\", \"landcolor\": \"#E5ECF6\", \"showlakes\": true, \"showland\": true, \"subunitcolor\": \"white\"}, \"hovermode\": \"closest\", \"mapbox\": {\"style\": \"light\"}, \"paper_bgcolor\": \"white\", \"plot_bgcolor\": \"#E5ECF6\", \"polar\": {\"angularaxis\": {\"gridcolor\": \"white\", \"linecolor\": \"white\", \"ticks\": \"\"}, \"bgcolor\": \"#E5ECF6\", \"radialaxis\": {\"gridcolor\": \"white\", \"linecolor\": \"white\", \"ticks\": \"\"}}, \"scene\": {\"xaxis\": {\"backgroundcolor\": \"#E5ECF6\", \"gridcolor\": \"white\", \"gridwidth\": 2, \"linecolor\": \"white\", \"showbackground\": true, \"ticks\": \"\", \"zerolinecolor\": \"white\"}, \"yaxis\": {\"backgroundcolor\": \"#E5ECF6\", \"gridcolor\": \"white\", \"gridwidth\": 2, \"linecolor\": \"white\", \"showbackground\": true, \"ticks\": \"\", \"zerolinecolor\": \"white\"}, \"zaxis\": {\"backgroundcolor\": \"#E5ECF6\", \"gridcolor\": \"white\", \"gridwidth\": 2, \"linecolor\": \"white\", \"showbackground\": true, \"ticks\": \"\", \"zerolinecolor\": \"white\"}}, \"shapedefaults\": {\"fillcolor\": \"#506784\", \"line\": {\"width\": 0}, \"opacity\": 0.4}, \"ternary\": {\"aaxis\": {\"gridcolor\": \"white\", \"linecolor\": \"white\", \"ticks\": \"\"}, \"baxis\": {\"gridcolor\": \"white\", \"linecolor\": \"white\", \"ticks\": \"\"}, \"bgcolor\": \"#E5ECF6\", \"caxis\": {\"gridcolor\": \"white\", \"linecolor\": \"white\", \"ticks\": \"\"}}, \"title\": {\"x\": 0.05}, \"xaxis\": {\"automargin\": true, \"gridcolor\": \"white\", \"linecolor\": \"white\", \"ticks\": \"\", \"zerolinecolor\": \"white\", \"zerolinewidth\": 2}, \"yaxis\": {\"automargin\": true, \"gridcolor\": \"white\", \"linecolor\": \"white\", \"ticks\": \"\", \"zerolinecolor\": \"white\", \"zerolinewidth\": 2}}}, \"polar\": {\"angularaxis\": {\"direction\": \"clockwise\", \"rotation\": 90}}}, {\"showLink\": false, \"linkText\": \"Export to plot.ly\", \"plotlyServerURL\": \"https://plot.ly\"}); \n",
       "}\n",
       "});</script><script type=\"text/javascript\">window.addEventListener(\"resize\", function(){if (document.getElementById(\"8885de21-2126-4682-904e-98b08fbba25f\")) {window._Plotly.Plots.resize(document.getElementById(\"8885de21-2126-4682-904e-98b08fbba25f\"));};})</script>"
      ],
      "text/vnd.plotly.v1+html": [
       "<div id=\"8885de21-2126-4682-904e-98b08fbba25f\" style=\"height: 600px; width: 100%;\" class=\"plotly-graph-div\"></div><script type=\"text/javascript\">require([\"plotly\"], function(Plotly) { window.PLOTLYENV=window.PLOTLYENV || {};window.PLOTLYENV.BASE_URL=\"https://plot.ly\";\n",
       "if (document.getElementById(\"8885de21-2126-4682-904e-98b08fbba25f\")) {\n",
       "    Plotly.newPlot(\"8885de21-2126-4682-904e-98b08fbba25f\", [{\"hovertemplate\": \"Cuando recibes o consumes una imagen, \\u00bfpiensas en el modo en que fue obtenida (t\\u00e9cnicamente)?=1. Nunca<br>counts=%{r}<br>prosume_cluster=%{theta}<extra></extra>\", \"legendgroup\": \"Cuando recibes o consumes una imagen, \\u00bfpiensas en el modo en que fue obtenida (t\\u00e9cnicamente)?=1. Nunca\", \"marker\": {\"color\": \"rgb(213,62,79)\"}, \"name\": \"Cuando recibes o consumes una imagen, \\u00bfpiensas en el modo en que fue obtenida (t\\u00e9cnicamente)?=1. Nunca\", \"r\": [24, 1, 2, 21], \"showlegend\": true, \"theta\": [\"cluster_2\", \"cluster_3\", \"cluster_4\", \"cluster_5\"], \"type\": \"barpolar\", \"uid\": \"6d446348-b871-4f5b-8f81-37a00a0f21c0\"}, {\"hovertemplate\": \"Cuando recibes o consumes una imagen, \\u00bfpiensas en el modo en que fue obtenida (t\\u00e9cnicamente)?=2. Muy pocas veces<br>counts=%{r}<br>prosume_cluster=%{theta}<extra></extra>\", \"legendgroup\": \"Cuando recibes o consumes una imagen, \\u00bfpiensas en el modo en que fue obtenida (t\\u00e9cnicamente)?=2. Muy pocas veces\", \"marker\": {\"color\": \"rgb(252,141,89)\"}, \"name\": \"Cuando recibes o consumes una imagen, \\u00bfpiensas en el modo en que fue obtenida (t\\u00e9cnicamente)?=2. Muy pocas veces\", \"r\": [11, 47, 7, 10, 92], \"showlegend\": true, \"theta\": [\"cluster_1\", \"cluster_2\", \"cluster_3\", \"cluster_4\", \"cluster_5\"], \"type\": \"barpolar\", \"uid\": \"d550a66d-4ac1-4b38-8f83-4bb81ef7086d\"}, {\"hovertemplate\": \"Cuando recibes o consumes una imagen, \\u00bfpiensas en el modo en que fue obtenida (t\\u00e9cnicamente)?=3. En ocasiones<br>counts=%{r}<br>prosume_cluster=%{theta}<extra></extra>\", \"legendgroup\": \"Cuando recibes o consumes una imagen, \\u00bfpiensas en el modo en que fue obtenida (t\\u00e9cnicamente)?=3. En ocasiones\", \"marker\": {\"color\": \"rgb(254,224,139)\"}, \"name\": \"Cuando recibes o consumes una imagen, \\u00bfpiensas en el modo en que fue obtenida (t\\u00e9cnicamente)?=3. En ocasiones\", \"r\": [21, 76, 25, 28, 132], \"showlegend\": true, \"theta\": [\"cluster_1\", \"cluster_2\", \"cluster_3\", \"cluster_4\", \"cluster_5\"], \"type\": \"barpolar\", \"uid\": \"bb9959a6-3700-4327-a634-8e037e733f8d\"}, {\"hovertemplate\": \"Cuando recibes o consumes una imagen, \\u00bfpiensas en el modo en que fue obtenida (t\\u00e9cnicamente)?=4. Bastantes veces<br>counts=%{r}<br>prosume_cluster=%{theta}<extra></extra>\", \"legendgroup\": \"Cuando recibes o consumes una imagen, \\u00bfpiensas en el modo en que fue obtenida (t\\u00e9cnicamente)?=4. Bastantes veces\", \"marker\": {\"color\": \"rgb(230,245,152)\"}, \"name\": \"Cuando recibes o consumes una imagen, \\u00bfpiensas en el modo en que fue obtenida (t\\u00e9cnicamente)?=4. Bastantes veces\", \"r\": [4, 41, 51, 34, 68], \"showlegend\": true, \"theta\": [\"cluster_1\", \"cluster_2\", \"cluster_3\", \"cluster_4\", \"cluster_5\"], \"type\": \"barpolar\", \"uid\": \"e2d778e9-5f71-48f7-bbfc-4d69cfaf8092\"}, {\"hovertemplate\": \"Cuando recibes o consumes una imagen, \\u00bfpiensas en el modo en que fue obtenida (t\\u00e9cnicamente)?=5. Casi siempre o siempre<br>counts=%{r}<br>prosume_cluster=%{theta}<extra></extra>\", \"legendgroup\": \"Cuando recibes o consumes una imagen, \\u00bfpiensas en el modo en que fue obtenida (t\\u00e9cnicamente)?=5. Casi siempre o siempre\", \"marker\": {\"color\": \"rgb(153,213,148)\"}, \"name\": \"Cuando recibes o consumes una imagen, \\u00bfpiensas en el modo en que fue obtenida (t\\u00e9cnicamente)?=5. Casi siempre o siempre\", \"r\": [1, 8, 16, 24, 23], \"showlegend\": true, \"theta\": [\"cluster_1\", \"cluster_2\", \"cluster_3\", \"cluster_4\", \"cluster_5\"], \"type\": \"barpolar\", \"uid\": \"11db1340-a070-4a46-8b18-8a54295236da\"}], {\"barmode\": \"group\", \"barnorm\": \"\", \"height\": 600, \"legend\": {\"tracegroupgap\": 0}, \"margin\": {\"t\": 60}, \"template\": {\"data\": {\"barpolar\": [{\"marker\": {\"line\": {\"color\": \"#E5ECF6\", \"width\": 0.5}}, \"type\": \"barpolar\"}], \"bar\": [{\"marker\": {\"line\": {\"color\": \"#E5ECF6\", \"width\": 0.5}}, \"type\": \"bar\"}], \"carpet\": [{\"aaxis\": {\"endlinecolor\": \"#2a3f5f\", \"gridcolor\": \"white\", \"linecolor\": \"white\", \"minorgridcolor\": \"white\", \"startlinecolor\": \"#2a3f5f\"}, \"baxis\": {\"endlinecolor\": \"#2a3f5f\", \"gridcolor\": \"white\", \"linecolor\": \"white\", \"minorgridcolor\": \"white\", \"startlinecolor\": \"#2a3f5f\"}, \"type\": \"carpet\"}], \"choropleth\": [{\"colorbar\": {\"outlinewidth\": 0, \"ticks\": \"\"}, \"type\": \"choropleth\"}], \"contourcarpet\": [{\"colorbar\": {\"outlinewidth\": 0, \"ticks\": \"\"}, \"type\": \"contourcarpet\"}], \"contour\": [{\"autocolorscale\": true, \"colorbar\": {\"outlinewidth\": 0, \"ticks\": \"\"}, \"type\": \"contour\"}], \"heatmapgl\": [{\"colorbar\": {\"outlinewidth\": 0, \"ticks\": \"\"}, \"type\": \"heatmapgl\"}], \"heatmap\": [{\"autocolorscale\": true, \"colorbar\": {\"outlinewidth\": 0, \"ticks\": \"\"}, \"type\": \"heatmap\"}], \"histogram2dcontour\": [{\"autocolorscale\": true, \"colorbar\": {\"outlinewidth\": 0, \"ticks\": \"\"}, \"type\": \"histogram2dcontour\"}], \"histogram2d\": [{\"autocolorscale\": true, \"colorbar\": {\"outlinewidth\": 0, \"ticks\": \"\"}, \"type\": \"histogram2d\"}], \"histogram\": [{\"marker\": {\"colorbar\": {\"outlinewidth\": 0, \"ticks\": \"\"}}, \"type\": \"histogram\"}], \"mesh3d\": [{\"colorbar\": {\"outlinewidth\": 0, \"ticks\": \"\"}, \"type\": \"mesh3d\"}], \"parcoords\": [{\"line\": {\"colorbar\": {\"outlinewidth\": 0, \"ticks\": \"\"}}, \"type\": \"parcoords\"}], \"scatter3d\": [{\"marker\": {\"colorbar\": {\"outlinewidth\": 0, \"ticks\": \"\"}}, \"type\": \"scatter3d\"}], \"scattercarpet\": [{\"marker\": {\"colorbar\": {\"outlinewidth\": 0, \"ticks\": \"\"}}, \"type\": \"scattercarpet\"}], \"scattergeo\": [{\"marker\": {\"colorbar\": {\"outlinewidth\": 0, \"ticks\": \"\"}}, \"type\": \"scattergeo\"}], \"scattergl\": [{\"marker\": {\"colorbar\": {\"outlinewidth\": 0, \"ticks\": \"\"}}, \"type\": \"scattergl\"}], \"scattermapbox\": [{\"marker\": {\"colorbar\": {\"outlinewidth\": 0, \"ticks\": \"\"}}, \"type\": \"scattermapbox\"}], \"scatterpolargl\": [{\"marker\": {\"colorbar\": {\"outlinewidth\": 0, \"ticks\": \"\"}}, \"type\": \"scatterpolargl\"}], \"scatterpolar\": [{\"marker\": {\"colorbar\": {\"outlinewidth\": 0, \"ticks\": \"\"}}, \"type\": \"scatterpolar\"}], \"scatter\": [{\"marker\": {\"colorbar\": {\"outlinewidth\": 0, \"ticks\": \"\"}}, \"type\": \"scatter\"}], \"scatterternary\": [{\"marker\": {\"colorbar\": {\"outlinewidth\": 0, \"ticks\": \"\"}}, \"type\": \"scatterternary\"}], \"surface\": [{\"colorbar\": {\"outlinewidth\": 0, \"ticks\": \"\"}, \"type\": \"surface\"}], \"table\": [{\"cells\": {\"fill\": {\"color\": \"#EBF0F8\"}, \"line\": {\"color\": \"white\"}}, \"header\": {\"fill\": {\"color\": \"#C8D4E3\"}, \"line\": {\"color\": \"white\"}}, \"type\": \"table\"}]}, \"layout\": {\"annotationdefaults\": {\"arrowcolor\": \"#506784\", \"arrowhead\": 0, \"arrowwidth\": 1}, \"colorscale\": {\"diverging\": [[0, \"#8e0152\"], [0.1, \"#c51b7d\"], [0.2, \"#de77ae\"], [0.3, \"#f1b6da\"], [0.4, \"#fde0ef\"], [0.5, \"#f7f7f7\"], [0.6, \"#e6f5d0\"], [0.7, \"#b8e186\"], [0.8, \"#7fbc41\"], [0.9, \"#4d9221\"], [1, \"#276419\"]], \"sequential\": [[0.0, \"#0508b8\"], [0.0893854748603352, \"#1910d8\"], [0.1787709497206704, \"#3c19f0\"], [0.2681564245810056, \"#6b1cfb\"], [0.3575418994413408, \"#981cfd\"], [0.44692737430167595, \"#bf1cfd\"], [0.5363128491620112, \"#dd2bfd\"], [0.6256983240223464, \"#f246fe\"], [0.7150837988826816, \"#fc67fd\"], [0.8044692737430168, \"#fe88fc\"], [0.8938547486033519, \"#fea5fd\"], [0.9832402234636871, \"#febefe\"], [1.0, \"#fec3fe\"]], \"sequentialminus\": [[0.0, \"#0508b8\"], [0.0893854748603352, \"#1910d8\"], [0.1787709497206704, \"#3c19f0\"], [0.2681564245810056, \"#6b1cfb\"], [0.3575418994413408, \"#981cfd\"], [0.44692737430167595, \"#bf1cfd\"], [0.5363128491620112, \"#dd2bfd\"], [0.6256983240223464, \"#f246fe\"], [0.7150837988826816, \"#fc67fd\"], [0.8044692737430168, \"#fe88fc\"], [0.8938547486033519, \"#fea5fd\"], [0.9832402234636871, \"#febefe\"], [1.0, \"#fec3fe\"]]}, \"colorway\": [\"#636efa\", \"#EF553B\", \"#00cc96\", \"#ab63fa\", \"#19d3f3\", \"#e763fa\", \"#FECB52\", \"#FFA15A\", \"#FF6692\", \"#B6E880\"], \"font\": {\"color\": \"#2a3f5f\"}, \"geo\": {\"bgcolor\": \"white\", \"lakecolor\": \"white\", \"landcolor\": \"#E5ECF6\", \"showlakes\": true, \"showland\": true, \"subunitcolor\": \"white\"}, \"hovermode\": \"closest\", \"mapbox\": {\"style\": \"light\"}, \"paper_bgcolor\": \"white\", \"plot_bgcolor\": \"#E5ECF6\", \"polar\": {\"angularaxis\": {\"gridcolor\": \"white\", \"linecolor\": \"white\", \"ticks\": \"\"}, \"bgcolor\": \"#E5ECF6\", \"radialaxis\": {\"gridcolor\": \"white\", \"linecolor\": \"white\", \"ticks\": \"\"}}, \"scene\": {\"xaxis\": {\"backgroundcolor\": \"#E5ECF6\", \"gridcolor\": \"white\", \"gridwidth\": 2, \"linecolor\": \"white\", \"showbackground\": true, \"ticks\": \"\", \"zerolinecolor\": \"white\"}, \"yaxis\": {\"backgroundcolor\": \"#E5ECF6\", \"gridcolor\": \"white\", \"gridwidth\": 2, \"linecolor\": \"white\", \"showbackground\": true, \"ticks\": \"\", \"zerolinecolor\": \"white\"}, \"zaxis\": {\"backgroundcolor\": \"#E5ECF6\", \"gridcolor\": \"white\", \"gridwidth\": 2, \"linecolor\": \"white\", \"showbackground\": true, \"ticks\": \"\", \"zerolinecolor\": \"white\"}}, \"shapedefaults\": {\"fillcolor\": \"#506784\", \"line\": {\"width\": 0}, \"opacity\": 0.4}, \"ternary\": {\"aaxis\": {\"gridcolor\": \"white\", \"linecolor\": \"white\", \"ticks\": \"\"}, \"baxis\": {\"gridcolor\": \"white\", \"linecolor\": \"white\", \"ticks\": \"\"}, \"bgcolor\": \"#E5ECF6\", \"caxis\": {\"gridcolor\": \"white\", \"linecolor\": \"white\", \"ticks\": \"\"}}, \"title\": {\"x\": 0.05}, \"xaxis\": {\"automargin\": true, \"gridcolor\": \"white\", \"linecolor\": \"white\", \"ticks\": \"\", \"zerolinecolor\": \"white\", \"zerolinewidth\": 2}, \"yaxis\": {\"automargin\": true, \"gridcolor\": \"white\", \"linecolor\": \"white\", \"ticks\": \"\", \"zerolinecolor\": \"white\", \"zerolinewidth\": 2}}}, \"polar\": {\"angularaxis\": {\"direction\": \"clockwise\", \"rotation\": 90}}}, {\"showLink\": false, \"linkText\": \"Export to plot.ly\", \"plotlyServerURL\": \"https://plot.ly\"}); \n",
       "}\n",
       "});</script><script type=\"text/javascript\">window.addEventListener(\"resize\", function(){if (document.getElementById(\"8885de21-2126-4682-904e-98b08fbba25f\")) {window._Plotly.Plots.resize(document.getElementById(\"8885de21-2126-4682-904e-98b08fbba25f\"));};})</script>"
      ]
     },
     "metadata": {},
     "output_type": "display_data"
    },
    {
     "name": "stdout",
     "output_type": "stream",
     "text": [
      "Comparando la pregunta Cuando observas una imagen, ¿te preguntas cosas acerca de los personajes/objetos que aparecen en la misma?\n"
     ]
    },
    {
     "data": {
      "application/vnd.plotly.v1+json": {
       "config": {
        "linkText": "Export to plot.ly",
        "plotlyServerURL": "https://plot.ly",
        "showLink": false
       },
       "data": [
        {
         "hovertemplate": "Cuando observas una imagen, ¿te preguntas cosas acerca de los personajes/objetos que aparecen en la misma?=1. Nunca<br>counts=%{r}<br>prosume_cluster=%{theta}<extra></extra>",
         "legendgroup": "Cuando observas una imagen, ¿te preguntas cosas acerca de los personajes/objetos que aparecen en la misma?=1. Nunca",
         "marker": {
          "color": "rgb(213,62,79)"
         },
         "name": "Cuando observas una imagen, ¿te preguntas cosas acerca de los personajes/objetos que aparecen en la misma?=1. Nunca",
         "r": [
          3,
          11,
          1,
          2
         ],
         "showlegend": true,
         "theta": [
          "cluster_1",
          "cluster_2",
          "cluster_3",
          "cluster_5"
         ],
         "type": "barpolar",
         "uid": "180410d1-25ac-4f99-b41b-d33a1a9829e9"
        },
        {
         "hovertemplate": "Cuando observas una imagen, ¿te preguntas cosas acerca de los personajes/objetos que aparecen en la misma?=2. Muy pocas veces<br>counts=%{r}<br>prosume_cluster=%{theta}<extra></extra>",
         "legendgroup": "Cuando observas una imagen, ¿te preguntas cosas acerca de los personajes/objetos que aparecen en la misma?=2. Muy pocas veces",
         "marker": {
          "color": "rgb(252,141,89)"
         },
         "name": "Cuando observas una imagen, ¿te preguntas cosas acerca de los personajes/objetos que aparecen en la misma?=2. Muy pocas veces",
         "r": [
          11,
          43,
          4,
          3,
          30
         ],
         "showlegend": true,
         "theta": [
          "cluster_1",
          "cluster_2",
          "cluster_3",
          "cluster_4",
          "cluster_5"
         ],
         "type": "barpolar",
         "uid": "3b264968-4377-4be1-94bf-15c0159caa7c"
        },
        {
         "hovertemplate": "Cuando observas una imagen, ¿te preguntas cosas acerca de los personajes/objetos que aparecen en la misma?=3. En ocasiones<br>counts=%{r}<br>prosume_cluster=%{theta}<extra></extra>",
         "legendgroup": "Cuando observas una imagen, ¿te preguntas cosas acerca de los personajes/objetos que aparecen en la misma?=3. En ocasiones",
         "marker": {
          "color": "rgb(254,224,139)"
         },
         "name": "Cuando observas una imagen, ¿te preguntas cosas acerca de los personajes/objetos que aparecen en la misma?=3. En ocasiones",
         "r": [
          16,
          81,
          25,
          25,
          120
         ],
         "showlegend": true,
         "theta": [
          "cluster_1",
          "cluster_2",
          "cluster_3",
          "cluster_4",
          "cluster_5"
         ],
         "type": "barpolar",
         "uid": "e39ded25-bd19-4ddc-a3ee-9c0f984adaac"
        },
        {
         "hovertemplate": "Cuando observas una imagen, ¿te preguntas cosas acerca de los personajes/objetos que aparecen en la misma?=4. Bastantes veces<br>counts=%{r}<br>prosume_cluster=%{theta}<extra></extra>",
         "legendgroup": "Cuando observas una imagen, ¿te preguntas cosas acerca de los personajes/objetos que aparecen en la misma?=4. Bastantes veces",
         "marker": {
          "color": "rgb(230,245,152)"
         },
         "name": "Cuando observas una imagen, ¿te preguntas cosas acerca de los personajes/objetos que aparecen en la misma?=4. Bastantes veces",
         "r": [
          7,
          50,
          44,
          36,
          132
         ],
         "showlegend": true,
         "theta": [
          "cluster_1",
          "cluster_2",
          "cluster_3",
          "cluster_4",
          "cluster_5"
         ],
         "type": "barpolar",
         "uid": "740b6eca-5649-471e-b8d3-9058de6904e8"
        },
        {
         "hovertemplate": "Cuando observas una imagen, ¿te preguntas cosas acerca de los personajes/objetos que aparecen en la misma?=5. Casi siempre o siempre<br>counts=%{r}<br>prosume_cluster=%{theta}<extra></extra>",
         "legendgroup": "Cuando observas una imagen, ¿te preguntas cosas acerca de los personajes/objetos que aparecen en la misma?=5. Casi siempre o siempre",
         "marker": {
          "color": "rgb(153,213,148)"
         },
         "name": "Cuando observas una imagen, ¿te preguntas cosas acerca de los personajes/objetos que aparecen en la misma?=5. Casi siempre o siempre",
         "r": [
          11,
          26,
          34,
          52
         ],
         "showlegend": true,
         "theta": [
          "cluster_2",
          "cluster_3",
          "cluster_4",
          "cluster_5"
         ],
         "type": "barpolar",
         "uid": "14e52f38-f7e5-4d91-b878-38a618623bbb"
        }
       ],
       "layout": {
        "barmode": "group",
        "barnorm": "",
        "height": 600,
        "legend": {
         "tracegroupgap": 0
        },
        "margin": {
         "t": 60
        },
        "polar": {
         "angularaxis": {
          "direction": "clockwise",
          "rotation": 90
         }
        },
        "template": {
         "data": {
          "bar": [
           {
            "marker": {
             "line": {
              "color": "#E5ECF6",
              "width": 0.5
             }
            },
            "type": "bar"
           }
          ],
          "barpolar": [
           {
            "marker": {
             "line": {
              "color": "#E5ECF6",
              "width": 0.5
             }
            },
            "type": "barpolar"
           }
          ],
          "carpet": [
           {
            "aaxis": {
             "endlinecolor": "#2a3f5f",
             "gridcolor": "white",
             "linecolor": "white",
             "minorgridcolor": "white",
             "startlinecolor": "#2a3f5f"
            },
            "baxis": {
             "endlinecolor": "#2a3f5f",
             "gridcolor": "white",
             "linecolor": "white",
             "minorgridcolor": "white",
             "startlinecolor": "#2a3f5f"
            },
            "type": "carpet"
           }
          ],
          "choropleth": [
           {
            "colorbar": {
             "outlinewidth": 0,
             "ticks": ""
            },
            "type": "choropleth"
           }
          ],
          "contour": [
           {
            "autocolorscale": true,
            "colorbar": {
             "outlinewidth": 0,
             "ticks": ""
            },
            "type": "contour"
           }
          ],
          "contourcarpet": [
           {
            "colorbar": {
             "outlinewidth": 0,
             "ticks": ""
            },
            "type": "contourcarpet"
           }
          ],
          "heatmap": [
           {
            "autocolorscale": true,
            "colorbar": {
             "outlinewidth": 0,
             "ticks": ""
            },
            "type": "heatmap"
           }
          ],
          "heatmapgl": [
           {
            "colorbar": {
             "outlinewidth": 0,
             "ticks": ""
            },
            "type": "heatmapgl"
           }
          ],
          "histogram": [
           {
            "marker": {
             "colorbar": {
              "outlinewidth": 0,
              "ticks": ""
             }
            },
            "type": "histogram"
           }
          ],
          "histogram2d": [
           {
            "autocolorscale": true,
            "colorbar": {
             "outlinewidth": 0,
             "ticks": ""
            },
            "type": "histogram2d"
           }
          ],
          "histogram2dcontour": [
           {
            "autocolorscale": true,
            "colorbar": {
             "outlinewidth": 0,
             "ticks": ""
            },
            "type": "histogram2dcontour"
           }
          ],
          "mesh3d": [
           {
            "colorbar": {
             "outlinewidth": 0,
             "ticks": ""
            },
            "type": "mesh3d"
           }
          ],
          "parcoords": [
           {
            "line": {
             "colorbar": {
              "outlinewidth": 0,
              "ticks": ""
             }
            },
            "type": "parcoords"
           }
          ],
          "scatter": [
           {
            "marker": {
             "colorbar": {
              "outlinewidth": 0,
              "ticks": ""
             }
            },
            "type": "scatter"
           }
          ],
          "scatter3d": [
           {
            "marker": {
             "colorbar": {
              "outlinewidth": 0,
              "ticks": ""
             }
            },
            "type": "scatter3d"
           }
          ],
          "scattercarpet": [
           {
            "marker": {
             "colorbar": {
              "outlinewidth": 0,
              "ticks": ""
             }
            },
            "type": "scattercarpet"
           }
          ],
          "scattergeo": [
           {
            "marker": {
             "colorbar": {
              "outlinewidth": 0,
              "ticks": ""
             }
            },
            "type": "scattergeo"
           }
          ],
          "scattergl": [
           {
            "marker": {
             "colorbar": {
              "outlinewidth": 0,
              "ticks": ""
             }
            },
            "type": "scattergl"
           }
          ],
          "scattermapbox": [
           {
            "marker": {
             "colorbar": {
              "outlinewidth": 0,
              "ticks": ""
             }
            },
            "type": "scattermapbox"
           }
          ],
          "scatterpolar": [
           {
            "marker": {
             "colorbar": {
              "outlinewidth": 0,
              "ticks": ""
             }
            },
            "type": "scatterpolar"
           }
          ],
          "scatterpolargl": [
           {
            "marker": {
             "colorbar": {
              "outlinewidth": 0,
              "ticks": ""
             }
            },
            "type": "scatterpolargl"
           }
          ],
          "scatterternary": [
           {
            "marker": {
             "colorbar": {
              "outlinewidth": 0,
              "ticks": ""
             }
            },
            "type": "scatterternary"
           }
          ],
          "surface": [
           {
            "colorbar": {
             "outlinewidth": 0,
             "ticks": ""
            },
            "type": "surface"
           }
          ],
          "table": [
           {
            "cells": {
             "fill": {
              "color": "#EBF0F8"
             },
             "line": {
              "color": "white"
             }
            },
            "header": {
             "fill": {
              "color": "#C8D4E3"
             },
             "line": {
              "color": "white"
             }
            },
            "type": "table"
           }
          ]
         },
         "layout": {
          "annotationdefaults": {
           "arrowcolor": "#506784",
           "arrowhead": 0,
           "arrowwidth": 1
          },
          "colorscale": {
           "diverging": [
            [
             0,
             "#8e0152"
            ],
            [
             0.1,
             "#c51b7d"
            ],
            [
             0.2,
             "#de77ae"
            ],
            [
             0.3,
             "#f1b6da"
            ],
            [
             0.4,
             "#fde0ef"
            ],
            [
             0.5,
             "#f7f7f7"
            ],
            [
             0.6,
             "#e6f5d0"
            ],
            [
             0.7,
             "#b8e186"
            ],
            [
             0.8,
             "#7fbc41"
            ],
            [
             0.9,
             "#4d9221"
            ],
            [
             1,
             "#276419"
            ]
           ],
           "sequential": [
            [
             0,
             "#0508b8"
            ],
            [
             0.0893854748603352,
             "#1910d8"
            ],
            [
             0.1787709497206704,
             "#3c19f0"
            ],
            [
             0.2681564245810056,
             "#6b1cfb"
            ],
            [
             0.3575418994413408,
             "#981cfd"
            ],
            [
             0.44692737430167595,
             "#bf1cfd"
            ],
            [
             0.5363128491620112,
             "#dd2bfd"
            ],
            [
             0.6256983240223464,
             "#f246fe"
            ],
            [
             0.7150837988826816,
             "#fc67fd"
            ],
            [
             0.8044692737430168,
             "#fe88fc"
            ],
            [
             0.8938547486033519,
             "#fea5fd"
            ],
            [
             0.9832402234636871,
             "#febefe"
            ],
            [
             1,
             "#fec3fe"
            ]
           ],
           "sequentialminus": [
            [
             0,
             "#0508b8"
            ],
            [
             0.0893854748603352,
             "#1910d8"
            ],
            [
             0.1787709497206704,
             "#3c19f0"
            ],
            [
             0.2681564245810056,
             "#6b1cfb"
            ],
            [
             0.3575418994413408,
             "#981cfd"
            ],
            [
             0.44692737430167595,
             "#bf1cfd"
            ],
            [
             0.5363128491620112,
             "#dd2bfd"
            ],
            [
             0.6256983240223464,
             "#f246fe"
            ],
            [
             0.7150837988826816,
             "#fc67fd"
            ],
            [
             0.8044692737430168,
             "#fe88fc"
            ],
            [
             0.8938547486033519,
             "#fea5fd"
            ],
            [
             0.9832402234636871,
             "#febefe"
            ],
            [
             1,
             "#fec3fe"
            ]
           ]
          },
          "colorway": [
           "#636efa",
           "#EF553B",
           "#00cc96",
           "#ab63fa",
           "#19d3f3",
           "#e763fa",
           "#FECB52",
           "#FFA15A",
           "#FF6692",
           "#B6E880"
          ],
          "font": {
           "color": "#2a3f5f"
          },
          "geo": {
           "bgcolor": "white",
           "lakecolor": "white",
           "landcolor": "#E5ECF6",
           "showlakes": true,
           "showland": true,
           "subunitcolor": "white"
          },
          "hovermode": "closest",
          "mapbox": {
           "style": "light"
          },
          "paper_bgcolor": "white",
          "plot_bgcolor": "#E5ECF6",
          "polar": {
           "angularaxis": {
            "gridcolor": "white",
            "linecolor": "white",
            "ticks": ""
           },
           "bgcolor": "#E5ECF6",
           "radialaxis": {
            "gridcolor": "white",
            "linecolor": "white",
            "ticks": ""
           }
          },
          "scene": {
           "xaxis": {
            "backgroundcolor": "#E5ECF6",
            "gridcolor": "white",
            "gridwidth": 2,
            "linecolor": "white",
            "showbackground": true,
            "ticks": "",
            "zerolinecolor": "white"
           },
           "yaxis": {
            "backgroundcolor": "#E5ECF6",
            "gridcolor": "white",
            "gridwidth": 2,
            "linecolor": "white",
            "showbackground": true,
            "ticks": "",
            "zerolinecolor": "white"
           },
           "zaxis": {
            "backgroundcolor": "#E5ECF6",
            "gridcolor": "white",
            "gridwidth": 2,
            "linecolor": "white",
            "showbackground": true,
            "ticks": "",
            "zerolinecolor": "white"
           }
          },
          "shapedefaults": {
           "fillcolor": "#506784",
           "line": {
            "width": 0
           },
           "opacity": 0.4
          },
          "ternary": {
           "aaxis": {
            "gridcolor": "white",
            "linecolor": "white",
            "ticks": ""
           },
           "baxis": {
            "gridcolor": "white",
            "linecolor": "white",
            "ticks": ""
           },
           "bgcolor": "#E5ECF6",
           "caxis": {
            "gridcolor": "white",
            "linecolor": "white",
            "ticks": ""
           }
          },
          "title": {
           "x": 0.05
          },
          "xaxis": {
           "automargin": true,
           "gridcolor": "white",
           "linecolor": "white",
           "ticks": "",
           "zerolinecolor": "white",
           "zerolinewidth": 2
          },
          "yaxis": {
           "automargin": true,
           "gridcolor": "white",
           "linecolor": "white",
           "ticks": "",
           "zerolinecolor": "white",
           "zerolinewidth": 2
          }
         }
        }
       }
      },
      "text/html": [
       "<div id=\"21f4d770-eff0-45a7-bba3-e9227066a758\" style=\"height: 600px; width: 100%;\" class=\"plotly-graph-div\"></div><script type=\"text/javascript\">require([\"plotly\"], function(Plotly) { window.PLOTLYENV=window.PLOTLYENV || {};window.PLOTLYENV.BASE_URL=\"https://plot.ly\";\n",
       "if (document.getElementById(\"21f4d770-eff0-45a7-bba3-e9227066a758\")) {\n",
       "    Plotly.newPlot(\"21f4d770-eff0-45a7-bba3-e9227066a758\", [{\"hovertemplate\": \"Cuando observas una imagen, \\u00bfte preguntas cosas acerca de los personajes/objetos que aparecen en la misma?=1. Nunca<br>counts=%{r}<br>prosume_cluster=%{theta}<extra></extra>\", \"legendgroup\": \"Cuando observas una imagen, \\u00bfte preguntas cosas acerca de los personajes/objetos que aparecen en la misma?=1. Nunca\", \"marker\": {\"color\": \"rgb(213,62,79)\"}, \"name\": \"Cuando observas una imagen, \\u00bfte preguntas cosas acerca de los personajes/objetos que aparecen en la misma?=1. Nunca\", \"r\": [3, 11, 1, 2], \"showlegend\": true, \"theta\": [\"cluster_1\", \"cluster_2\", \"cluster_3\", \"cluster_5\"], \"type\": \"barpolar\", \"uid\": \"180410d1-25ac-4f99-b41b-d33a1a9829e9\"}, {\"hovertemplate\": \"Cuando observas una imagen, \\u00bfte preguntas cosas acerca de los personajes/objetos que aparecen en la misma?=2. Muy pocas veces<br>counts=%{r}<br>prosume_cluster=%{theta}<extra></extra>\", \"legendgroup\": \"Cuando observas una imagen, \\u00bfte preguntas cosas acerca de los personajes/objetos que aparecen en la misma?=2. Muy pocas veces\", \"marker\": {\"color\": \"rgb(252,141,89)\"}, \"name\": \"Cuando observas una imagen, \\u00bfte preguntas cosas acerca de los personajes/objetos que aparecen en la misma?=2. Muy pocas veces\", \"r\": [11, 43, 4, 3, 30], \"showlegend\": true, \"theta\": [\"cluster_1\", \"cluster_2\", \"cluster_3\", \"cluster_4\", \"cluster_5\"], \"type\": \"barpolar\", \"uid\": \"3b264968-4377-4be1-94bf-15c0159caa7c\"}, {\"hovertemplate\": \"Cuando observas una imagen, \\u00bfte preguntas cosas acerca de los personajes/objetos que aparecen en la misma?=3. En ocasiones<br>counts=%{r}<br>prosume_cluster=%{theta}<extra></extra>\", \"legendgroup\": \"Cuando observas una imagen, \\u00bfte preguntas cosas acerca de los personajes/objetos que aparecen en la misma?=3. En ocasiones\", \"marker\": {\"color\": \"rgb(254,224,139)\"}, \"name\": \"Cuando observas una imagen, \\u00bfte preguntas cosas acerca de los personajes/objetos que aparecen en la misma?=3. En ocasiones\", \"r\": [16, 81, 25, 25, 120], \"showlegend\": true, \"theta\": [\"cluster_1\", \"cluster_2\", \"cluster_3\", \"cluster_4\", \"cluster_5\"], \"type\": \"barpolar\", \"uid\": \"e39ded25-bd19-4ddc-a3ee-9c0f984adaac\"}, {\"hovertemplate\": \"Cuando observas una imagen, \\u00bfte preguntas cosas acerca de los personajes/objetos que aparecen en la misma?=4. Bastantes veces<br>counts=%{r}<br>prosume_cluster=%{theta}<extra></extra>\", \"legendgroup\": \"Cuando observas una imagen, \\u00bfte preguntas cosas acerca de los personajes/objetos que aparecen en la misma?=4. Bastantes veces\", \"marker\": {\"color\": \"rgb(230,245,152)\"}, \"name\": \"Cuando observas una imagen, \\u00bfte preguntas cosas acerca de los personajes/objetos que aparecen en la misma?=4. Bastantes veces\", \"r\": [7, 50, 44, 36, 132], \"showlegend\": true, \"theta\": [\"cluster_1\", \"cluster_2\", \"cluster_3\", \"cluster_4\", \"cluster_5\"], \"type\": \"barpolar\", \"uid\": \"740b6eca-5649-471e-b8d3-9058de6904e8\"}, {\"hovertemplate\": \"Cuando observas una imagen, \\u00bfte preguntas cosas acerca de los personajes/objetos que aparecen en la misma?=5. Casi siempre o siempre<br>counts=%{r}<br>prosume_cluster=%{theta}<extra></extra>\", \"legendgroup\": \"Cuando observas una imagen, \\u00bfte preguntas cosas acerca de los personajes/objetos que aparecen en la misma?=5. Casi siempre o siempre\", \"marker\": {\"color\": \"rgb(153,213,148)\"}, \"name\": \"Cuando observas una imagen, \\u00bfte preguntas cosas acerca de los personajes/objetos que aparecen en la misma?=5. Casi siempre o siempre\", \"r\": [11, 26, 34, 52], \"showlegend\": true, \"theta\": [\"cluster_2\", \"cluster_3\", \"cluster_4\", \"cluster_5\"], \"type\": \"barpolar\", \"uid\": \"14e52f38-f7e5-4d91-b878-38a618623bbb\"}], {\"barmode\": \"group\", \"barnorm\": \"\", \"height\": 600, \"legend\": {\"tracegroupgap\": 0}, \"margin\": {\"t\": 60}, \"template\": {\"data\": {\"barpolar\": [{\"marker\": {\"line\": {\"color\": \"#E5ECF6\", \"width\": 0.5}}, \"type\": \"barpolar\"}], \"bar\": [{\"marker\": {\"line\": {\"color\": \"#E5ECF6\", \"width\": 0.5}}, \"type\": \"bar\"}], \"carpet\": [{\"aaxis\": {\"endlinecolor\": \"#2a3f5f\", \"gridcolor\": \"white\", \"linecolor\": \"white\", \"minorgridcolor\": \"white\", \"startlinecolor\": \"#2a3f5f\"}, \"baxis\": {\"endlinecolor\": \"#2a3f5f\", \"gridcolor\": \"white\", \"linecolor\": \"white\", \"minorgridcolor\": \"white\", \"startlinecolor\": \"#2a3f5f\"}, \"type\": \"carpet\"}], \"choropleth\": [{\"colorbar\": {\"outlinewidth\": 0, \"ticks\": \"\"}, \"type\": \"choropleth\"}], \"contourcarpet\": [{\"colorbar\": {\"outlinewidth\": 0, \"ticks\": \"\"}, \"type\": \"contourcarpet\"}], \"contour\": [{\"autocolorscale\": true, \"colorbar\": {\"outlinewidth\": 0, \"ticks\": \"\"}, \"type\": \"contour\"}], \"heatmapgl\": [{\"colorbar\": {\"outlinewidth\": 0, \"ticks\": \"\"}, \"type\": \"heatmapgl\"}], \"heatmap\": [{\"autocolorscale\": true, \"colorbar\": {\"outlinewidth\": 0, \"ticks\": \"\"}, \"type\": \"heatmap\"}], \"histogram2dcontour\": [{\"autocolorscale\": true, \"colorbar\": {\"outlinewidth\": 0, \"ticks\": \"\"}, \"type\": \"histogram2dcontour\"}], \"histogram2d\": [{\"autocolorscale\": true, \"colorbar\": {\"outlinewidth\": 0, \"ticks\": \"\"}, \"type\": \"histogram2d\"}], \"histogram\": [{\"marker\": {\"colorbar\": {\"outlinewidth\": 0, \"ticks\": \"\"}}, \"type\": \"histogram\"}], \"mesh3d\": [{\"colorbar\": {\"outlinewidth\": 0, \"ticks\": \"\"}, \"type\": \"mesh3d\"}], \"parcoords\": [{\"line\": {\"colorbar\": {\"outlinewidth\": 0, \"ticks\": \"\"}}, \"type\": \"parcoords\"}], \"scatter3d\": [{\"marker\": {\"colorbar\": {\"outlinewidth\": 0, \"ticks\": \"\"}}, \"type\": \"scatter3d\"}], \"scattercarpet\": [{\"marker\": {\"colorbar\": {\"outlinewidth\": 0, \"ticks\": \"\"}}, \"type\": \"scattercarpet\"}], \"scattergeo\": [{\"marker\": {\"colorbar\": {\"outlinewidth\": 0, \"ticks\": \"\"}}, \"type\": \"scattergeo\"}], \"scattergl\": [{\"marker\": {\"colorbar\": {\"outlinewidth\": 0, \"ticks\": \"\"}}, \"type\": \"scattergl\"}], \"scattermapbox\": [{\"marker\": {\"colorbar\": {\"outlinewidth\": 0, \"ticks\": \"\"}}, \"type\": \"scattermapbox\"}], \"scatterpolargl\": [{\"marker\": {\"colorbar\": {\"outlinewidth\": 0, \"ticks\": \"\"}}, \"type\": \"scatterpolargl\"}], \"scatterpolar\": [{\"marker\": {\"colorbar\": {\"outlinewidth\": 0, \"ticks\": \"\"}}, \"type\": \"scatterpolar\"}], \"scatter\": [{\"marker\": {\"colorbar\": {\"outlinewidth\": 0, \"ticks\": \"\"}}, \"type\": \"scatter\"}], \"scatterternary\": [{\"marker\": {\"colorbar\": {\"outlinewidth\": 0, \"ticks\": \"\"}}, \"type\": \"scatterternary\"}], \"surface\": [{\"colorbar\": {\"outlinewidth\": 0, \"ticks\": \"\"}, \"type\": \"surface\"}], \"table\": [{\"cells\": {\"fill\": {\"color\": \"#EBF0F8\"}, \"line\": {\"color\": \"white\"}}, \"header\": {\"fill\": {\"color\": \"#C8D4E3\"}, \"line\": {\"color\": \"white\"}}, \"type\": \"table\"}]}, \"layout\": {\"annotationdefaults\": {\"arrowcolor\": \"#506784\", \"arrowhead\": 0, \"arrowwidth\": 1}, \"colorscale\": {\"diverging\": [[0, \"#8e0152\"], [0.1, \"#c51b7d\"], [0.2, \"#de77ae\"], [0.3, \"#f1b6da\"], [0.4, \"#fde0ef\"], [0.5, \"#f7f7f7\"], [0.6, \"#e6f5d0\"], [0.7, \"#b8e186\"], [0.8, \"#7fbc41\"], [0.9, \"#4d9221\"], [1, \"#276419\"]], \"sequential\": [[0.0, \"#0508b8\"], [0.0893854748603352, \"#1910d8\"], [0.1787709497206704, \"#3c19f0\"], [0.2681564245810056, \"#6b1cfb\"], [0.3575418994413408, \"#981cfd\"], [0.44692737430167595, \"#bf1cfd\"], [0.5363128491620112, \"#dd2bfd\"], [0.6256983240223464, \"#f246fe\"], [0.7150837988826816, \"#fc67fd\"], [0.8044692737430168, \"#fe88fc\"], [0.8938547486033519, \"#fea5fd\"], [0.9832402234636871, \"#febefe\"], [1.0, \"#fec3fe\"]], \"sequentialminus\": [[0.0, \"#0508b8\"], [0.0893854748603352, \"#1910d8\"], [0.1787709497206704, \"#3c19f0\"], [0.2681564245810056, \"#6b1cfb\"], [0.3575418994413408, \"#981cfd\"], [0.44692737430167595, \"#bf1cfd\"], [0.5363128491620112, \"#dd2bfd\"], [0.6256983240223464, \"#f246fe\"], [0.7150837988826816, \"#fc67fd\"], [0.8044692737430168, \"#fe88fc\"], [0.8938547486033519, \"#fea5fd\"], [0.9832402234636871, \"#febefe\"], [1.0, \"#fec3fe\"]]}, \"colorway\": [\"#636efa\", \"#EF553B\", \"#00cc96\", \"#ab63fa\", \"#19d3f3\", \"#e763fa\", \"#FECB52\", \"#FFA15A\", \"#FF6692\", \"#B6E880\"], \"font\": {\"color\": \"#2a3f5f\"}, \"geo\": {\"bgcolor\": \"white\", \"lakecolor\": \"white\", \"landcolor\": \"#E5ECF6\", \"showlakes\": true, \"showland\": true, \"subunitcolor\": \"white\"}, \"hovermode\": \"closest\", \"mapbox\": {\"style\": \"light\"}, \"paper_bgcolor\": \"white\", \"plot_bgcolor\": \"#E5ECF6\", \"polar\": {\"angularaxis\": {\"gridcolor\": \"white\", \"linecolor\": \"white\", \"ticks\": \"\"}, \"bgcolor\": \"#E5ECF6\", \"radialaxis\": {\"gridcolor\": \"white\", \"linecolor\": \"white\", \"ticks\": \"\"}}, \"scene\": {\"xaxis\": {\"backgroundcolor\": \"#E5ECF6\", \"gridcolor\": \"white\", \"gridwidth\": 2, \"linecolor\": \"white\", \"showbackground\": true, \"ticks\": \"\", \"zerolinecolor\": \"white\"}, \"yaxis\": {\"backgroundcolor\": \"#E5ECF6\", \"gridcolor\": \"white\", \"gridwidth\": 2, \"linecolor\": \"white\", \"showbackground\": true, \"ticks\": \"\", \"zerolinecolor\": \"white\"}, \"zaxis\": {\"backgroundcolor\": \"#E5ECF6\", \"gridcolor\": \"white\", \"gridwidth\": 2, \"linecolor\": \"white\", \"showbackground\": true, \"ticks\": \"\", \"zerolinecolor\": \"white\"}}, \"shapedefaults\": {\"fillcolor\": \"#506784\", \"line\": {\"width\": 0}, \"opacity\": 0.4}, \"ternary\": {\"aaxis\": {\"gridcolor\": \"white\", \"linecolor\": \"white\", \"ticks\": \"\"}, \"baxis\": {\"gridcolor\": \"white\", \"linecolor\": \"white\", \"ticks\": \"\"}, \"bgcolor\": \"#E5ECF6\", \"caxis\": {\"gridcolor\": \"white\", \"linecolor\": \"white\", \"ticks\": \"\"}}, \"title\": {\"x\": 0.05}, \"xaxis\": {\"automargin\": true, \"gridcolor\": \"white\", \"linecolor\": \"white\", \"ticks\": \"\", \"zerolinecolor\": \"white\", \"zerolinewidth\": 2}, \"yaxis\": {\"automargin\": true, \"gridcolor\": \"white\", \"linecolor\": \"white\", \"ticks\": \"\", \"zerolinecolor\": \"white\", \"zerolinewidth\": 2}}}, \"polar\": {\"angularaxis\": {\"direction\": \"clockwise\", \"rotation\": 90}}}, {\"showLink\": false, \"linkText\": \"Export to plot.ly\", \"plotlyServerURL\": \"https://plot.ly\"}); \n",
       "}\n",
       "});</script><script type=\"text/javascript\">window.addEventListener(\"resize\", function(){if (document.getElementById(\"21f4d770-eff0-45a7-bba3-e9227066a758\")) {window._Plotly.Plots.resize(document.getElementById(\"21f4d770-eff0-45a7-bba3-e9227066a758\"));};})</script>"
      ],
      "text/vnd.plotly.v1+html": [
       "<div id=\"21f4d770-eff0-45a7-bba3-e9227066a758\" style=\"height: 600px; width: 100%;\" class=\"plotly-graph-div\"></div><script type=\"text/javascript\">require([\"plotly\"], function(Plotly) { window.PLOTLYENV=window.PLOTLYENV || {};window.PLOTLYENV.BASE_URL=\"https://plot.ly\";\n",
       "if (document.getElementById(\"21f4d770-eff0-45a7-bba3-e9227066a758\")) {\n",
       "    Plotly.newPlot(\"21f4d770-eff0-45a7-bba3-e9227066a758\", [{\"hovertemplate\": \"Cuando observas una imagen, \\u00bfte preguntas cosas acerca de los personajes/objetos que aparecen en la misma?=1. Nunca<br>counts=%{r}<br>prosume_cluster=%{theta}<extra></extra>\", \"legendgroup\": \"Cuando observas una imagen, \\u00bfte preguntas cosas acerca de los personajes/objetos que aparecen en la misma?=1. Nunca\", \"marker\": {\"color\": \"rgb(213,62,79)\"}, \"name\": \"Cuando observas una imagen, \\u00bfte preguntas cosas acerca de los personajes/objetos que aparecen en la misma?=1. Nunca\", \"r\": [3, 11, 1, 2], \"showlegend\": true, \"theta\": [\"cluster_1\", \"cluster_2\", \"cluster_3\", \"cluster_5\"], \"type\": \"barpolar\", \"uid\": \"180410d1-25ac-4f99-b41b-d33a1a9829e9\"}, {\"hovertemplate\": \"Cuando observas una imagen, \\u00bfte preguntas cosas acerca de los personajes/objetos que aparecen en la misma?=2. Muy pocas veces<br>counts=%{r}<br>prosume_cluster=%{theta}<extra></extra>\", \"legendgroup\": \"Cuando observas una imagen, \\u00bfte preguntas cosas acerca de los personajes/objetos que aparecen en la misma?=2. Muy pocas veces\", \"marker\": {\"color\": \"rgb(252,141,89)\"}, \"name\": \"Cuando observas una imagen, \\u00bfte preguntas cosas acerca de los personajes/objetos que aparecen en la misma?=2. Muy pocas veces\", \"r\": [11, 43, 4, 3, 30], \"showlegend\": true, \"theta\": [\"cluster_1\", \"cluster_2\", \"cluster_3\", \"cluster_4\", \"cluster_5\"], \"type\": \"barpolar\", \"uid\": \"3b264968-4377-4be1-94bf-15c0159caa7c\"}, {\"hovertemplate\": \"Cuando observas una imagen, \\u00bfte preguntas cosas acerca de los personajes/objetos que aparecen en la misma?=3. En ocasiones<br>counts=%{r}<br>prosume_cluster=%{theta}<extra></extra>\", \"legendgroup\": \"Cuando observas una imagen, \\u00bfte preguntas cosas acerca de los personajes/objetos que aparecen en la misma?=3. En ocasiones\", \"marker\": {\"color\": \"rgb(254,224,139)\"}, \"name\": \"Cuando observas una imagen, \\u00bfte preguntas cosas acerca de los personajes/objetos que aparecen en la misma?=3. En ocasiones\", \"r\": [16, 81, 25, 25, 120], \"showlegend\": true, \"theta\": [\"cluster_1\", \"cluster_2\", \"cluster_3\", \"cluster_4\", \"cluster_5\"], \"type\": \"barpolar\", \"uid\": \"e39ded25-bd19-4ddc-a3ee-9c0f984adaac\"}, {\"hovertemplate\": \"Cuando observas una imagen, \\u00bfte preguntas cosas acerca de los personajes/objetos que aparecen en la misma?=4. Bastantes veces<br>counts=%{r}<br>prosume_cluster=%{theta}<extra></extra>\", \"legendgroup\": \"Cuando observas una imagen, \\u00bfte preguntas cosas acerca de los personajes/objetos que aparecen en la misma?=4. Bastantes veces\", \"marker\": {\"color\": \"rgb(230,245,152)\"}, \"name\": \"Cuando observas una imagen, \\u00bfte preguntas cosas acerca de los personajes/objetos que aparecen en la misma?=4. Bastantes veces\", \"r\": [7, 50, 44, 36, 132], \"showlegend\": true, \"theta\": [\"cluster_1\", \"cluster_2\", \"cluster_3\", \"cluster_4\", \"cluster_5\"], \"type\": \"barpolar\", \"uid\": \"740b6eca-5649-471e-b8d3-9058de6904e8\"}, {\"hovertemplate\": \"Cuando observas una imagen, \\u00bfte preguntas cosas acerca de los personajes/objetos que aparecen en la misma?=5. Casi siempre o siempre<br>counts=%{r}<br>prosume_cluster=%{theta}<extra></extra>\", \"legendgroup\": \"Cuando observas una imagen, \\u00bfte preguntas cosas acerca de los personajes/objetos que aparecen en la misma?=5. Casi siempre o siempre\", \"marker\": {\"color\": \"rgb(153,213,148)\"}, \"name\": \"Cuando observas una imagen, \\u00bfte preguntas cosas acerca de los personajes/objetos que aparecen en la misma?=5. Casi siempre o siempre\", \"r\": [11, 26, 34, 52], \"showlegend\": true, \"theta\": [\"cluster_2\", \"cluster_3\", \"cluster_4\", \"cluster_5\"], \"type\": \"barpolar\", \"uid\": \"14e52f38-f7e5-4d91-b878-38a618623bbb\"}], {\"barmode\": \"group\", \"barnorm\": \"\", \"height\": 600, \"legend\": {\"tracegroupgap\": 0}, \"margin\": {\"t\": 60}, \"template\": {\"data\": {\"barpolar\": [{\"marker\": {\"line\": {\"color\": \"#E5ECF6\", \"width\": 0.5}}, \"type\": \"barpolar\"}], \"bar\": [{\"marker\": {\"line\": {\"color\": \"#E5ECF6\", \"width\": 0.5}}, \"type\": \"bar\"}], \"carpet\": [{\"aaxis\": {\"endlinecolor\": \"#2a3f5f\", \"gridcolor\": \"white\", \"linecolor\": \"white\", \"minorgridcolor\": \"white\", \"startlinecolor\": \"#2a3f5f\"}, \"baxis\": {\"endlinecolor\": \"#2a3f5f\", \"gridcolor\": \"white\", \"linecolor\": \"white\", \"minorgridcolor\": \"white\", \"startlinecolor\": \"#2a3f5f\"}, \"type\": \"carpet\"}], \"choropleth\": [{\"colorbar\": {\"outlinewidth\": 0, \"ticks\": \"\"}, \"type\": \"choropleth\"}], \"contourcarpet\": [{\"colorbar\": {\"outlinewidth\": 0, \"ticks\": \"\"}, \"type\": \"contourcarpet\"}], \"contour\": [{\"autocolorscale\": true, \"colorbar\": {\"outlinewidth\": 0, \"ticks\": \"\"}, \"type\": \"contour\"}], \"heatmapgl\": [{\"colorbar\": {\"outlinewidth\": 0, \"ticks\": \"\"}, \"type\": \"heatmapgl\"}], \"heatmap\": [{\"autocolorscale\": true, \"colorbar\": {\"outlinewidth\": 0, \"ticks\": \"\"}, \"type\": \"heatmap\"}], \"histogram2dcontour\": [{\"autocolorscale\": true, \"colorbar\": {\"outlinewidth\": 0, \"ticks\": \"\"}, \"type\": \"histogram2dcontour\"}], \"histogram2d\": [{\"autocolorscale\": true, \"colorbar\": {\"outlinewidth\": 0, \"ticks\": \"\"}, \"type\": \"histogram2d\"}], \"histogram\": [{\"marker\": {\"colorbar\": {\"outlinewidth\": 0, \"ticks\": \"\"}}, \"type\": \"histogram\"}], \"mesh3d\": [{\"colorbar\": {\"outlinewidth\": 0, \"ticks\": \"\"}, \"type\": \"mesh3d\"}], \"parcoords\": [{\"line\": {\"colorbar\": {\"outlinewidth\": 0, \"ticks\": \"\"}}, \"type\": \"parcoords\"}], \"scatter3d\": [{\"marker\": {\"colorbar\": {\"outlinewidth\": 0, \"ticks\": \"\"}}, \"type\": \"scatter3d\"}], \"scattercarpet\": [{\"marker\": {\"colorbar\": {\"outlinewidth\": 0, \"ticks\": \"\"}}, \"type\": \"scattercarpet\"}], \"scattergeo\": [{\"marker\": {\"colorbar\": {\"outlinewidth\": 0, \"ticks\": \"\"}}, \"type\": \"scattergeo\"}], \"scattergl\": [{\"marker\": {\"colorbar\": {\"outlinewidth\": 0, \"ticks\": \"\"}}, \"type\": \"scattergl\"}], \"scattermapbox\": [{\"marker\": {\"colorbar\": {\"outlinewidth\": 0, \"ticks\": \"\"}}, \"type\": \"scattermapbox\"}], \"scatterpolargl\": [{\"marker\": {\"colorbar\": {\"outlinewidth\": 0, \"ticks\": \"\"}}, \"type\": \"scatterpolargl\"}], \"scatterpolar\": [{\"marker\": {\"colorbar\": {\"outlinewidth\": 0, \"ticks\": \"\"}}, \"type\": \"scatterpolar\"}], \"scatter\": [{\"marker\": {\"colorbar\": {\"outlinewidth\": 0, \"ticks\": \"\"}}, \"type\": \"scatter\"}], \"scatterternary\": [{\"marker\": {\"colorbar\": {\"outlinewidth\": 0, \"ticks\": \"\"}}, \"type\": \"scatterternary\"}], \"surface\": [{\"colorbar\": {\"outlinewidth\": 0, \"ticks\": \"\"}, \"type\": \"surface\"}], \"table\": [{\"cells\": {\"fill\": {\"color\": \"#EBF0F8\"}, \"line\": {\"color\": \"white\"}}, \"header\": {\"fill\": {\"color\": \"#C8D4E3\"}, \"line\": {\"color\": \"white\"}}, \"type\": \"table\"}]}, \"layout\": {\"annotationdefaults\": {\"arrowcolor\": \"#506784\", \"arrowhead\": 0, \"arrowwidth\": 1}, \"colorscale\": {\"diverging\": [[0, \"#8e0152\"], [0.1, \"#c51b7d\"], [0.2, \"#de77ae\"], [0.3, \"#f1b6da\"], [0.4, \"#fde0ef\"], [0.5, \"#f7f7f7\"], [0.6, \"#e6f5d0\"], [0.7, \"#b8e186\"], [0.8, \"#7fbc41\"], [0.9, \"#4d9221\"], [1, \"#276419\"]], \"sequential\": [[0.0, \"#0508b8\"], [0.0893854748603352, \"#1910d8\"], [0.1787709497206704, \"#3c19f0\"], [0.2681564245810056, \"#6b1cfb\"], [0.3575418994413408, \"#981cfd\"], [0.44692737430167595, \"#bf1cfd\"], [0.5363128491620112, \"#dd2bfd\"], [0.6256983240223464, \"#f246fe\"], [0.7150837988826816, \"#fc67fd\"], [0.8044692737430168, \"#fe88fc\"], [0.8938547486033519, \"#fea5fd\"], [0.9832402234636871, \"#febefe\"], [1.0, \"#fec3fe\"]], \"sequentialminus\": [[0.0, \"#0508b8\"], [0.0893854748603352, \"#1910d8\"], [0.1787709497206704, \"#3c19f0\"], [0.2681564245810056, \"#6b1cfb\"], [0.3575418994413408, \"#981cfd\"], [0.44692737430167595, \"#bf1cfd\"], [0.5363128491620112, \"#dd2bfd\"], [0.6256983240223464, \"#f246fe\"], [0.7150837988826816, \"#fc67fd\"], [0.8044692737430168, \"#fe88fc\"], [0.8938547486033519, \"#fea5fd\"], [0.9832402234636871, \"#febefe\"], [1.0, \"#fec3fe\"]]}, \"colorway\": [\"#636efa\", \"#EF553B\", \"#00cc96\", \"#ab63fa\", \"#19d3f3\", \"#e763fa\", \"#FECB52\", \"#FFA15A\", \"#FF6692\", \"#B6E880\"], \"font\": {\"color\": \"#2a3f5f\"}, \"geo\": {\"bgcolor\": \"white\", \"lakecolor\": \"white\", \"landcolor\": \"#E5ECF6\", \"showlakes\": true, \"showland\": true, \"subunitcolor\": \"white\"}, \"hovermode\": \"closest\", \"mapbox\": {\"style\": \"light\"}, \"paper_bgcolor\": \"white\", \"plot_bgcolor\": \"#E5ECF6\", \"polar\": {\"angularaxis\": {\"gridcolor\": \"white\", \"linecolor\": \"white\", \"ticks\": \"\"}, \"bgcolor\": \"#E5ECF6\", \"radialaxis\": {\"gridcolor\": \"white\", \"linecolor\": \"white\", \"ticks\": \"\"}}, \"scene\": {\"xaxis\": {\"backgroundcolor\": \"#E5ECF6\", \"gridcolor\": \"white\", \"gridwidth\": 2, \"linecolor\": \"white\", \"showbackground\": true, \"ticks\": \"\", \"zerolinecolor\": \"white\"}, \"yaxis\": {\"backgroundcolor\": \"#E5ECF6\", \"gridcolor\": \"white\", \"gridwidth\": 2, \"linecolor\": \"white\", \"showbackground\": true, \"ticks\": \"\", \"zerolinecolor\": \"white\"}, \"zaxis\": {\"backgroundcolor\": \"#E5ECF6\", \"gridcolor\": \"white\", \"gridwidth\": 2, \"linecolor\": \"white\", \"showbackground\": true, \"ticks\": \"\", \"zerolinecolor\": \"white\"}}, \"shapedefaults\": {\"fillcolor\": \"#506784\", \"line\": {\"width\": 0}, \"opacity\": 0.4}, \"ternary\": {\"aaxis\": {\"gridcolor\": \"white\", \"linecolor\": \"white\", \"ticks\": \"\"}, \"baxis\": {\"gridcolor\": \"white\", \"linecolor\": \"white\", \"ticks\": \"\"}, \"bgcolor\": \"#E5ECF6\", \"caxis\": {\"gridcolor\": \"white\", \"linecolor\": \"white\", \"ticks\": \"\"}}, \"title\": {\"x\": 0.05}, \"xaxis\": {\"automargin\": true, \"gridcolor\": \"white\", \"linecolor\": \"white\", \"ticks\": \"\", \"zerolinecolor\": \"white\", \"zerolinewidth\": 2}, \"yaxis\": {\"automargin\": true, \"gridcolor\": \"white\", \"linecolor\": \"white\", \"ticks\": \"\", \"zerolinecolor\": \"white\", \"zerolinewidth\": 2}}}, \"polar\": {\"angularaxis\": {\"direction\": \"clockwise\", \"rotation\": 90}}}, {\"showLink\": false, \"linkText\": \"Export to plot.ly\", \"plotlyServerURL\": \"https://plot.ly\"}); \n",
       "}\n",
       "});</script><script type=\"text/javascript\">window.addEventListener(\"resize\", function(){if (document.getElementById(\"21f4d770-eff0-45a7-bba3-e9227066a758\")) {window._Plotly.Plots.resize(document.getElementById(\"21f4d770-eff0-45a7-bba3-e9227066a758\"));};})</script>"
      ]
     },
     "metadata": {},
     "output_type": "display_data"
    },
    {
     "name": "stdout",
     "output_type": "stream",
     "text": [
      "Comparando la pregunta ¿Entiendes, generalmente, las intenciones que tiene el autor de una imagen cuando la ves y la compartes?\n"
     ]
    },
    {
     "data": {
      "application/vnd.plotly.v1+json": {
       "config": {
        "linkText": "Export to plot.ly",
        "plotlyServerURL": "https://plot.ly",
        "showLink": false
       },
       "data": [
        {
         "hovertemplate": "¿Entiendes, generalmente, las intenciones que tiene el autor de una imagen cuando la ves y la compartes?=1. Never<br>counts=%{r}<br>prosume_cluster=%{theta}<extra></extra>",
         "legendgroup": "¿Entiendes, generalmente, las intenciones que tiene el autor de una imagen cuando la ves y la compartes?=1. Never",
         "marker": {
          "color": "rgb(213,62,79)"
         },
         "name": "¿Entiendes, generalmente, las intenciones que tiene el autor de una imagen cuando la ves y la compartes?=1. Never",
         "r": [
          23,
          2,
          1
         ],
         "showlegend": true,
         "theta": [
          "cluster_2",
          "cluster_3",
          "cluster_5"
         ],
         "type": "barpolar",
         "uid": "49f9504d-abc9-4006-bfae-c276263ccd09"
        },
        {
         "hovertemplate": "¿Entiendes, generalmente, las intenciones que tiene el autor de una imagen cuando la ves y la compartes?=2. Very rarely<br>counts=%{r}<br>prosume_cluster=%{theta}<extra></extra>",
         "legendgroup": "¿Entiendes, generalmente, las intenciones que tiene el autor de una imagen cuando la ves y la compartes?=2. Very rarely",
         "marker": {
          "color": "rgb(252,141,89)"
         },
         "name": "¿Entiendes, generalmente, las intenciones que tiene el autor de una imagen cuando la ves y la compartes?=2. Very rarely",
         "r": [
          6,
          32,
          6,
          3,
          34
         ],
         "showlegend": true,
         "theta": [
          "cluster_1",
          "cluster_2",
          "cluster_3",
          "cluster_4",
          "cluster_5"
         ],
         "type": "barpolar",
         "uid": "35fa9ee0-85a2-4e18-90b1-525ae3477123"
        },
        {
         "hovertemplate": "¿Entiendes, generalmente, las intenciones que tiene el autor de una imagen cuando la ves y la compartes?=3. Occasionally<br>counts=%{r}<br>prosume_cluster=%{theta}<extra></extra>",
         "legendgroup": "¿Entiendes, generalmente, las intenciones que tiene el autor de una imagen cuando la ves y la compartes?=3. Occasionally",
         "marker": {
          "color": "rgb(254,224,139)"
         },
         "name": "¿Entiendes, generalmente, las intenciones que tiene el autor de una imagen cuando la ves y la compartes?=3. Occasionally",
         "r": [
          20,
          78,
          28,
          24,
          141
         ],
         "showlegend": true,
         "theta": [
          "cluster_1",
          "cluster_2",
          "cluster_3",
          "cluster_4",
          "cluster_5"
         ],
         "type": "barpolar",
         "uid": "ddb0f7f2-cd89-403e-b626-73361fda69db"
        },
        {
         "hovertemplate": "¿Entiendes, generalmente, las intenciones que tiene el autor de una imagen cuando la ves y la compartes?=4. Several times<br>counts=%{r}<br>prosume_cluster=%{theta}<extra></extra>",
         "legendgroup": "¿Entiendes, generalmente, las intenciones que tiene el autor de una imagen cuando la ves y la compartes?=4. Several times",
         "marker": {
          "color": "rgb(230,245,152)"
         },
         "name": "¿Entiendes, generalmente, las intenciones que tiene el autor de una imagen cuando la ves y la compartes?=4. Several times",
         "r": [
          9,
          49,
          48,
          48,
          123
         ],
         "showlegend": true,
         "theta": [
          "cluster_1",
          "cluster_2",
          "cluster_3",
          "cluster_4",
          "cluster_5"
         ],
         "type": "barpolar",
         "uid": "087a8779-42e8-4a89-8f94-7ae3fc5d3165"
        },
        {
         "hovertemplate": "¿Entiendes, generalmente, las intenciones que tiene el autor de una imagen cuando la ves y la compartes?=5. Almost always or always<br>counts=%{r}<br>prosume_cluster=%{theta}<extra></extra>",
         "legendgroup": "¿Entiendes, generalmente, las intenciones que tiene el autor de una imagen cuando la ves y la compartes?=5. Almost always or always",
         "marker": {
          "color": "rgb(153,213,148)"
         },
         "name": "¿Entiendes, generalmente, las intenciones que tiene el autor de una imagen cuando la ves y la compartes?=5. Almost always or always",
         "r": [
          2,
          14,
          16,
          23,
          37
         ],
         "showlegend": true,
         "theta": [
          "cluster_1",
          "cluster_2",
          "cluster_3",
          "cluster_4",
          "cluster_5"
         ],
         "type": "barpolar",
         "uid": "cd4c68d3-0541-4bc9-b636-1f38c01208e5"
        }
       ],
       "layout": {
        "barmode": "group",
        "barnorm": "",
        "height": 600,
        "legend": {
         "tracegroupgap": 0
        },
        "margin": {
         "t": 60
        },
        "polar": {
         "angularaxis": {
          "direction": "clockwise",
          "rotation": 90
         }
        },
        "template": {
         "data": {
          "bar": [
           {
            "marker": {
             "line": {
              "color": "#E5ECF6",
              "width": 0.5
             }
            },
            "type": "bar"
           }
          ],
          "barpolar": [
           {
            "marker": {
             "line": {
              "color": "#E5ECF6",
              "width": 0.5
             }
            },
            "type": "barpolar"
           }
          ],
          "carpet": [
           {
            "aaxis": {
             "endlinecolor": "#2a3f5f",
             "gridcolor": "white",
             "linecolor": "white",
             "minorgridcolor": "white",
             "startlinecolor": "#2a3f5f"
            },
            "baxis": {
             "endlinecolor": "#2a3f5f",
             "gridcolor": "white",
             "linecolor": "white",
             "minorgridcolor": "white",
             "startlinecolor": "#2a3f5f"
            },
            "type": "carpet"
           }
          ],
          "choropleth": [
           {
            "colorbar": {
             "outlinewidth": 0,
             "ticks": ""
            },
            "type": "choropleth"
           }
          ],
          "contour": [
           {
            "autocolorscale": true,
            "colorbar": {
             "outlinewidth": 0,
             "ticks": ""
            },
            "type": "contour"
           }
          ],
          "contourcarpet": [
           {
            "colorbar": {
             "outlinewidth": 0,
             "ticks": ""
            },
            "type": "contourcarpet"
           }
          ],
          "heatmap": [
           {
            "autocolorscale": true,
            "colorbar": {
             "outlinewidth": 0,
             "ticks": ""
            },
            "type": "heatmap"
           }
          ],
          "heatmapgl": [
           {
            "colorbar": {
             "outlinewidth": 0,
             "ticks": ""
            },
            "type": "heatmapgl"
           }
          ],
          "histogram": [
           {
            "marker": {
             "colorbar": {
              "outlinewidth": 0,
              "ticks": ""
             }
            },
            "type": "histogram"
           }
          ],
          "histogram2d": [
           {
            "autocolorscale": true,
            "colorbar": {
             "outlinewidth": 0,
             "ticks": ""
            },
            "type": "histogram2d"
           }
          ],
          "histogram2dcontour": [
           {
            "autocolorscale": true,
            "colorbar": {
             "outlinewidth": 0,
             "ticks": ""
            },
            "type": "histogram2dcontour"
           }
          ],
          "mesh3d": [
           {
            "colorbar": {
             "outlinewidth": 0,
             "ticks": ""
            },
            "type": "mesh3d"
           }
          ],
          "parcoords": [
           {
            "line": {
             "colorbar": {
              "outlinewidth": 0,
              "ticks": ""
             }
            },
            "type": "parcoords"
           }
          ],
          "scatter": [
           {
            "marker": {
             "colorbar": {
              "outlinewidth": 0,
              "ticks": ""
             }
            },
            "type": "scatter"
           }
          ],
          "scatter3d": [
           {
            "marker": {
             "colorbar": {
              "outlinewidth": 0,
              "ticks": ""
             }
            },
            "type": "scatter3d"
           }
          ],
          "scattercarpet": [
           {
            "marker": {
             "colorbar": {
              "outlinewidth": 0,
              "ticks": ""
             }
            },
            "type": "scattercarpet"
           }
          ],
          "scattergeo": [
           {
            "marker": {
             "colorbar": {
              "outlinewidth": 0,
              "ticks": ""
             }
            },
            "type": "scattergeo"
           }
          ],
          "scattergl": [
           {
            "marker": {
             "colorbar": {
              "outlinewidth": 0,
              "ticks": ""
             }
            },
            "type": "scattergl"
           }
          ],
          "scattermapbox": [
           {
            "marker": {
             "colorbar": {
              "outlinewidth": 0,
              "ticks": ""
             }
            },
            "type": "scattermapbox"
           }
          ],
          "scatterpolar": [
           {
            "marker": {
             "colorbar": {
              "outlinewidth": 0,
              "ticks": ""
             }
            },
            "type": "scatterpolar"
           }
          ],
          "scatterpolargl": [
           {
            "marker": {
             "colorbar": {
              "outlinewidth": 0,
              "ticks": ""
             }
            },
            "type": "scatterpolargl"
           }
          ],
          "scatterternary": [
           {
            "marker": {
             "colorbar": {
              "outlinewidth": 0,
              "ticks": ""
             }
            },
            "type": "scatterternary"
           }
          ],
          "surface": [
           {
            "colorbar": {
             "outlinewidth": 0,
             "ticks": ""
            },
            "type": "surface"
           }
          ],
          "table": [
           {
            "cells": {
             "fill": {
              "color": "#EBF0F8"
             },
             "line": {
              "color": "white"
             }
            },
            "header": {
             "fill": {
              "color": "#C8D4E3"
             },
             "line": {
              "color": "white"
             }
            },
            "type": "table"
           }
          ]
         },
         "layout": {
          "annotationdefaults": {
           "arrowcolor": "#506784",
           "arrowhead": 0,
           "arrowwidth": 1
          },
          "colorscale": {
           "diverging": [
            [
             0,
             "#8e0152"
            ],
            [
             0.1,
             "#c51b7d"
            ],
            [
             0.2,
             "#de77ae"
            ],
            [
             0.3,
             "#f1b6da"
            ],
            [
             0.4,
             "#fde0ef"
            ],
            [
             0.5,
             "#f7f7f7"
            ],
            [
             0.6,
             "#e6f5d0"
            ],
            [
             0.7,
             "#b8e186"
            ],
            [
             0.8,
             "#7fbc41"
            ],
            [
             0.9,
             "#4d9221"
            ],
            [
             1,
             "#276419"
            ]
           ],
           "sequential": [
            [
             0,
             "#0508b8"
            ],
            [
             0.0893854748603352,
             "#1910d8"
            ],
            [
             0.1787709497206704,
             "#3c19f0"
            ],
            [
             0.2681564245810056,
             "#6b1cfb"
            ],
            [
             0.3575418994413408,
             "#981cfd"
            ],
            [
             0.44692737430167595,
             "#bf1cfd"
            ],
            [
             0.5363128491620112,
             "#dd2bfd"
            ],
            [
             0.6256983240223464,
             "#f246fe"
            ],
            [
             0.7150837988826816,
             "#fc67fd"
            ],
            [
             0.8044692737430168,
             "#fe88fc"
            ],
            [
             0.8938547486033519,
             "#fea5fd"
            ],
            [
             0.9832402234636871,
             "#febefe"
            ],
            [
             1,
             "#fec3fe"
            ]
           ],
           "sequentialminus": [
            [
             0,
             "#0508b8"
            ],
            [
             0.0893854748603352,
             "#1910d8"
            ],
            [
             0.1787709497206704,
             "#3c19f0"
            ],
            [
             0.2681564245810056,
             "#6b1cfb"
            ],
            [
             0.3575418994413408,
             "#981cfd"
            ],
            [
             0.44692737430167595,
             "#bf1cfd"
            ],
            [
             0.5363128491620112,
             "#dd2bfd"
            ],
            [
             0.6256983240223464,
             "#f246fe"
            ],
            [
             0.7150837988826816,
             "#fc67fd"
            ],
            [
             0.8044692737430168,
             "#fe88fc"
            ],
            [
             0.8938547486033519,
             "#fea5fd"
            ],
            [
             0.9832402234636871,
             "#febefe"
            ],
            [
             1,
             "#fec3fe"
            ]
           ]
          },
          "colorway": [
           "#636efa",
           "#EF553B",
           "#00cc96",
           "#ab63fa",
           "#19d3f3",
           "#e763fa",
           "#FECB52",
           "#FFA15A",
           "#FF6692",
           "#B6E880"
          ],
          "font": {
           "color": "#2a3f5f"
          },
          "geo": {
           "bgcolor": "white",
           "lakecolor": "white",
           "landcolor": "#E5ECF6",
           "showlakes": true,
           "showland": true,
           "subunitcolor": "white"
          },
          "hovermode": "closest",
          "mapbox": {
           "style": "light"
          },
          "paper_bgcolor": "white",
          "plot_bgcolor": "#E5ECF6",
          "polar": {
           "angularaxis": {
            "gridcolor": "white",
            "linecolor": "white",
            "ticks": ""
           },
           "bgcolor": "#E5ECF6",
           "radialaxis": {
            "gridcolor": "white",
            "linecolor": "white",
            "ticks": ""
           }
          },
          "scene": {
           "xaxis": {
            "backgroundcolor": "#E5ECF6",
            "gridcolor": "white",
            "gridwidth": 2,
            "linecolor": "white",
            "showbackground": true,
            "ticks": "",
            "zerolinecolor": "white"
           },
           "yaxis": {
            "backgroundcolor": "#E5ECF6",
            "gridcolor": "white",
            "gridwidth": 2,
            "linecolor": "white",
            "showbackground": true,
            "ticks": "",
            "zerolinecolor": "white"
           },
           "zaxis": {
            "backgroundcolor": "#E5ECF6",
            "gridcolor": "white",
            "gridwidth": 2,
            "linecolor": "white",
            "showbackground": true,
            "ticks": "",
            "zerolinecolor": "white"
           }
          },
          "shapedefaults": {
           "fillcolor": "#506784",
           "line": {
            "width": 0
           },
           "opacity": 0.4
          },
          "ternary": {
           "aaxis": {
            "gridcolor": "white",
            "linecolor": "white",
            "ticks": ""
           },
           "baxis": {
            "gridcolor": "white",
            "linecolor": "white",
            "ticks": ""
           },
           "bgcolor": "#E5ECF6",
           "caxis": {
            "gridcolor": "white",
            "linecolor": "white",
            "ticks": ""
           }
          },
          "title": {
           "x": 0.05
          },
          "xaxis": {
           "automargin": true,
           "gridcolor": "white",
           "linecolor": "white",
           "ticks": "",
           "zerolinecolor": "white",
           "zerolinewidth": 2
          },
          "yaxis": {
           "automargin": true,
           "gridcolor": "white",
           "linecolor": "white",
           "ticks": "",
           "zerolinecolor": "white",
           "zerolinewidth": 2
          }
         }
        }
       }
      },
      "text/html": [
       "<div id=\"fc1721f8-afcb-4dbe-a78a-57993038c938\" style=\"height: 600px; width: 100%;\" class=\"plotly-graph-div\"></div><script type=\"text/javascript\">require([\"plotly\"], function(Plotly) { window.PLOTLYENV=window.PLOTLYENV || {};window.PLOTLYENV.BASE_URL=\"https://plot.ly\";\n",
       "if (document.getElementById(\"fc1721f8-afcb-4dbe-a78a-57993038c938\")) {\n",
       "    Plotly.newPlot(\"fc1721f8-afcb-4dbe-a78a-57993038c938\", [{\"hovertemplate\": \"\\u00bfEntiendes, generalmente, las intenciones que tiene el autor de una imagen cuando la ves y la compartes?=1. Never<br>counts=%{r}<br>prosume_cluster=%{theta}<extra></extra>\", \"legendgroup\": \"\\u00bfEntiendes, generalmente, las intenciones que tiene el autor de una imagen cuando la ves y la compartes?=1. Never\", \"marker\": {\"color\": \"rgb(213,62,79)\"}, \"name\": \"\\u00bfEntiendes, generalmente, las intenciones que tiene el autor de una imagen cuando la ves y la compartes?=1. Never\", \"r\": [23, 2, 1], \"showlegend\": true, \"theta\": [\"cluster_2\", \"cluster_3\", \"cluster_5\"], \"type\": \"barpolar\", \"uid\": \"49f9504d-abc9-4006-bfae-c276263ccd09\"}, {\"hovertemplate\": \"\\u00bfEntiendes, generalmente, las intenciones que tiene el autor de una imagen cuando la ves y la compartes?=2. Very rarely<br>counts=%{r}<br>prosume_cluster=%{theta}<extra></extra>\", \"legendgroup\": \"\\u00bfEntiendes, generalmente, las intenciones que tiene el autor de una imagen cuando la ves y la compartes?=2. Very rarely\", \"marker\": {\"color\": \"rgb(252,141,89)\"}, \"name\": \"\\u00bfEntiendes, generalmente, las intenciones que tiene el autor de una imagen cuando la ves y la compartes?=2. Very rarely\", \"r\": [6, 32, 6, 3, 34], \"showlegend\": true, \"theta\": [\"cluster_1\", \"cluster_2\", \"cluster_3\", \"cluster_4\", \"cluster_5\"], \"type\": \"barpolar\", \"uid\": \"35fa9ee0-85a2-4e18-90b1-525ae3477123\"}, {\"hovertemplate\": \"\\u00bfEntiendes, generalmente, las intenciones que tiene el autor de una imagen cuando la ves y la compartes?=3. Occasionally<br>counts=%{r}<br>prosume_cluster=%{theta}<extra></extra>\", \"legendgroup\": \"\\u00bfEntiendes, generalmente, las intenciones que tiene el autor de una imagen cuando la ves y la compartes?=3. Occasionally\", \"marker\": {\"color\": \"rgb(254,224,139)\"}, \"name\": \"\\u00bfEntiendes, generalmente, las intenciones que tiene el autor de una imagen cuando la ves y la compartes?=3. Occasionally\", \"r\": [20, 78, 28, 24, 141], \"showlegend\": true, \"theta\": [\"cluster_1\", \"cluster_2\", \"cluster_3\", \"cluster_4\", \"cluster_5\"], \"type\": \"barpolar\", \"uid\": \"ddb0f7f2-cd89-403e-b626-73361fda69db\"}, {\"hovertemplate\": \"\\u00bfEntiendes, generalmente, las intenciones que tiene el autor de una imagen cuando la ves y la compartes?=4. Several times<br>counts=%{r}<br>prosume_cluster=%{theta}<extra></extra>\", \"legendgroup\": \"\\u00bfEntiendes, generalmente, las intenciones que tiene el autor de una imagen cuando la ves y la compartes?=4. Several times\", \"marker\": {\"color\": \"rgb(230,245,152)\"}, \"name\": \"\\u00bfEntiendes, generalmente, las intenciones que tiene el autor de una imagen cuando la ves y la compartes?=4. Several times\", \"r\": [9, 49, 48, 48, 123], \"showlegend\": true, \"theta\": [\"cluster_1\", \"cluster_2\", \"cluster_3\", \"cluster_4\", \"cluster_5\"], \"type\": \"barpolar\", \"uid\": \"087a8779-42e8-4a89-8f94-7ae3fc5d3165\"}, {\"hovertemplate\": \"\\u00bfEntiendes, generalmente, las intenciones que tiene el autor de una imagen cuando la ves y la compartes?=5. Almost always or always<br>counts=%{r}<br>prosume_cluster=%{theta}<extra></extra>\", \"legendgroup\": \"\\u00bfEntiendes, generalmente, las intenciones que tiene el autor de una imagen cuando la ves y la compartes?=5. Almost always or always\", \"marker\": {\"color\": \"rgb(153,213,148)\"}, \"name\": \"\\u00bfEntiendes, generalmente, las intenciones que tiene el autor de una imagen cuando la ves y la compartes?=5. Almost always or always\", \"r\": [2, 14, 16, 23, 37], \"showlegend\": true, \"theta\": [\"cluster_1\", \"cluster_2\", \"cluster_3\", \"cluster_4\", \"cluster_5\"], \"type\": \"barpolar\", \"uid\": \"cd4c68d3-0541-4bc9-b636-1f38c01208e5\"}], {\"barmode\": \"group\", \"barnorm\": \"\", \"height\": 600, \"legend\": {\"tracegroupgap\": 0}, \"margin\": {\"t\": 60}, \"template\": {\"data\": {\"barpolar\": [{\"marker\": {\"line\": {\"color\": \"#E5ECF6\", \"width\": 0.5}}, \"type\": \"barpolar\"}], \"bar\": [{\"marker\": {\"line\": {\"color\": \"#E5ECF6\", \"width\": 0.5}}, \"type\": \"bar\"}], \"carpet\": [{\"aaxis\": {\"endlinecolor\": \"#2a3f5f\", \"gridcolor\": \"white\", \"linecolor\": \"white\", \"minorgridcolor\": \"white\", \"startlinecolor\": \"#2a3f5f\"}, \"baxis\": {\"endlinecolor\": \"#2a3f5f\", \"gridcolor\": \"white\", \"linecolor\": \"white\", \"minorgridcolor\": \"white\", \"startlinecolor\": \"#2a3f5f\"}, \"type\": \"carpet\"}], \"choropleth\": [{\"colorbar\": {\"outlinewidth\": 0, \"ticks\": \"\"}, \"type\": \"choropleth\"}], \"contourcarpet\": [{\"colorbar\": {\"outlinewidth\": 0, \"ticks\": \"\"}, \"type\": \"contourcarpet\"}], \"contour\": [{\"autocolorscale\": true, \"colorbar\": {\"outlinewidth\": 0, \"ticks\": \"\"}, \"type\": \"contour\"}], \"heatmapgl\": [{\"colorbar\": {\"outlinewidth\": 0, \"ticks\": \"\"}, \"type\": \"heatmapgl\"}], \"heatmap\": [{\"autocolorscale\": true, \"colorbar\": {\"outlinewidth\": 0, \"ticks\": \"\"}, \"type\": \"heatmap\"}], \"histogram2dcontour\": [{\"autocolorscale\": true, \"colorbar\": {\"outlinewidth\": 0, \"ticks\": \"\"}, \"type\": \"histogram2dcontour\"}], \"histogram2d\": [{\"autocolorscale\": true, \"colorbar\": {\"outlinewidth\": 0, \"ticks\": \"\"}, \"type\": \"histogram2d\"}], \"histogram\": [{\"marker\": {\"colorbar\": {\"outlinewidth\": 0, \"ticks\": \"\"}}, \"type\": \"histogram\"}], \"mesh3d\": [{\"colorbar\": {\"outlinewidth\": 0, \"ticks\": \"\"}, \"type\": \"mesh3d\"}], \"parcoords\": [{\"line\": {\"colorbar\": {\"outlinewidth\": 0, \"ticks\": \"\"}}, \"type\": \"parcoords\"}], \"scatter3d\": [{\"marker\": {\"colorbar\": {\"outlinewidth\": 0, \"ticks\": \"\"}}, \"type\": \"scatter3d\"}], \"scattercarpet\": [{\"marker\": {\"colorbar\": {\"outlinewidth\": 0, \"ticks\": \"\"}}, \"type\": \"scattercarpet\"}], \"scattergeo\": [{\"marker\": {\"colorbar\": {\"outlinewidth\": 0, \"ticks\": \"\"}}, \"type\": \"scattergeo\"}], \"scattergl\": [{\"marker\": {\"colorbar\": {\"outlinewidth\": 0, \"ticks\": \"\"}}, \"type\": \"scattergl\"}], \"scattermapbox\": [{\"marker\": {\"colorbar\": {\"outlinewidth\": 0, \"ticks\": \"\"}}, \"type\": \"scattermapbox\"}], \"scatterpolargl\": [{\"marker\": {\"colorbar\": {\"outlinewidth\": 0, \"ticks\": \"\"}}, \"type\": \"scatterpolargl\"}], \"scatterpolar\": [{\"marker\": {\"colorbar\": {\"outlinewidth\": 0, \"ticks\": \"\"}}, \"type\": \"scatterpolar\"}], \"scatter\": [{\"marker\": {\"colorbar\": {\"outlinewidth\": 0, \"ticks\": \"\"}}, \"type\": \"scatter\"}], \"scatterternary\": [{\"marker\": {\"colorbar\": {\"outlinewidth\": 0, \"ticks\": \"\"}}, \"type\": \"scatterternary\"}], \"surface\": [{\"colorbar\": {\"outlinewidth\": 0, \"ticks\": \"\"}, \"type\": \"surface\"}], \"table\": [{\"cells\": {\"fill\": {\"color\": \"#EBF0F8\"}, \"line\": {\"color\": \"white\"}}, \"header\": {\"fill\": {\"color\": \"#C8D4E3\"}, \"line\": {\"color\": \"white\"}}, \"type\": \"table\"}]}, \"layout\": {\"annotationdefaults\": {\"arrowcolor\": \"#506784\", \"arrowhead\": 0, \"arrowwidth\": 1}, \"colorscale\": {\"diverging\": [[0, \"#8e0152\"], [0.1, \"#c51b7d\"], [0.2, \"#de77ae\"], [0.3, \"#f1b6da\"], [0.4, \"#fde0ef\"], [0.5, \"#f7f7f7\"], [0.6, \"#e6f5d0\"], [0.7, \"#b8e186\"], [0.8, \"#7fbc41\"], [0.9, \"#4d9221\"], [1, \"#276419\"]], \"sequential\": [[0.0, \"#0508b8\"], [0.0893854748603352, \"#1910d8\"], [0.1787709497206704, \"#3c19f0\"], [0.2681564245810056, \"#6b1cfb\"], [0.3575418994413408, \"#981cfd\"], [0.44692737430167595, \"#bf1cfd\"], [0.5363128491620112, \"#dd2bfd\"], [0.6256983240223464, \"#f246fe\"], [0.7150837988826816, \"#fc67fd\"], [0.8044692737430168, \"#fe88fc\"], [0.8938547486033519, \"#fea5fd\"], [0.9832402234636871, \"#febefe\"], [1.0, \"#fec3fe\"]], \"sequentialminus\": [[0.0, \"#0508b8\"], [0.0893854748603352, \"#1910d8\"], [0.1787709497206704, \"#3c19f0\"], [0.2681564245810056, \"#6b1cfb\"], [0.3575418994413408, \"#981cfd\"], [0.44692737430167595, \"#bf1cfd\"], [0.5363128491620112, \"#dd2bfd\"], [0.6256983240223464, \"#f246fe\"], [0.7150837988826816, \"#fc67fd\"], [0.8044692737430168, \"#fe88fc\"], [0.8938547486033519, \"#fea5fd\"], [0.9832402234636871, \"#febefe\"], [1.0, \"#fec3fe\"]]}, \"colorway\": [\"#636efa\", \"#EF553B\", \"#00cc96\", \"#ab63fa\", \"#19d3f3\", \"#e763fa\", \"#FECB52\", \"#FFA15A\", \"#FF6692\", \"#B6E880\"], \"font\": {\"color\": \"#2a3f5f\"}, \"geo\": {\"bgcolor\": \"white\", \"lakecolor\": \"white\", \"landcolor\": \"#E5ECF6\", \"showlakes\": true, \"showland\": true, \"subunitcolor\": \"white\"}, \"hovermode\": \"closest\", \"mapbox\": {\"style\": \"light\"}, \"paper_bgcolor\": \"white\", \"plot_bgcolor\": \"#E5ECF6\", \"polar\": {\"angularaxis\": {\"gridcolor\": \"white\", \"linecolor\": \"white\", \"ticks\": \"\"}, \"bgcolor\": \"#E5ECF6\", \"radialaxis\": {\"gridcolor\": \"white\", \"linecolor\": \"white\", \"ticks\": \"\"}}, \"scene\": {\"xaxis\": {\"backgroundcolor\": \"#E5ECF6\", \"gridcolor\": \"white\", \"gridwidth\": 2, \"linecolor\": \"white\", \"showbackground\": true, \"ticks\": \"\", \"zerolinecolor\": \"white\"}, \"yaxis\": {\"backgroundcolor\": \"#E5ECF6\", \"gridcolor\": \"white\", \"gridwidth\": 2, \"linecolor\": \"white\", \"showbackground\": true, \"ticks\": \"\", \"zerolinecolor\": \"white\"}, \"zaxis\": {\"backgroundcolor\": \"#E5ECF6\", \"gridcolor\": \"white\", \"gridwidth\": 2, \"linecolor\": \"white\", \"showbackground\": true, \"ticks\": \"\", \"zerolinecolor\": \"white\"}}, \"shapedefaults\": {\"fillcolor\": \"#506784\", \"line\": {\"width\": 0}, \"opacity\": 0.4}, \"ternary\": {\"aaxis\": {\"gridcolor\": \"white\", \"linecolor\": \"white\", \"ticks\": \"\"}, \"baxis\": {\"gridcolor\": \"white\", \"linecolor\": \"white\", \"ticks\": \"\"}, \"bgcolor\": \"#E5ECF6\", \"caxis\": {\"gridcolor\": \"white\", \"linecolor\": \"white\", \"ticks\": \"\"}}, \"title\": {\"x\": 0.05}, \"xaxis\": {\"automargin\": true, \"gridcolor\": \"white\", \"linecolor\": \"white\", \"ticks\": \"\", \"zerolinecolor\": \"white\", \"zerolinewidth\": 2}, \"yaxis\": {\"automargin\": true, \"gridcolor\": \"white\", \"linecolor\": \"white\", \"ticks\": \"\", \"zerolinecolor\": \"white\", \"zerolinewidth\": 2}}}, \"polar\": {\"angularaxis\": {\"direction\": \"clockwise\", \"rotation\": 90}}}, {\"showLink\": false, \"linkText\": \"Export to plot.ly\", \"plotlyServerURL\": \"https://plot.ly\"}); \n",
       "}\n",
       "});</script><script type=\"text/javascript\">window.addEventListener(\"resize\", function(){if (document.getElementById(\"fc1721f8-afcb-4dbe-a78a-57993038c938\")) {window._Plotly.Plots.resize(document.getElementById(\"fc1721f8-afcb-4dbe-a78a-57993038c938\"));};})</script>"
      ],
      "text/vnd.plotly.v1+html": [
       "<div id=\"fc1721f8-afcb-4dbe-a78a-57993038c938\" style=\"height: 600px; width: 100%;\" class=\"plotly-graph-div\"></div><script type=\"text/javascript\">require([\"plotly\"], function(Plotly) { window.PLOTLYENV=window.PLOTLYENV || {};window.PLOTLYENV.BASE_URL=\"https://plot.ly\";\n",
       "if (document.getElementById(\"fc1721f8-afcb-4dbe-a78a-57993038c938\")) {\n",
       "    Plotly.newPlot(\"fc1721f8-afcb-4dbe-a78a-57993038c938\", [{\"hovertemplate\": \"\\u00bfEntiendes, generalmente, las intenciones que tiene el autor de una imagen cuando la ves y la compartes?=1. Never<br>counts=%{r}<br>prosume_cluster=%{theta}<extra></extra>\", \"legendgroup\": \"\\u00bfEntiendes, generalmente, las intenciones que tiene el autor de una imagen cuando la ves y la compartes?=1. Never\", \"marker\": {\"color\": \"rgb(213,62,79)\"}, \"name\": \"\\u00bfEntiendes, generalmente, las intenciones que tiene el autor de una imagen cuando la ves y la compartes?=1. Never\", \"r\": [23, 2, 1], \"showlegend\": true, \"theta\": [\"cluster_2\", \"cluster_3\", \"cluster_5\"], \"type\": \"barpolar\", \"uid\": \"49f9504d-abc9-4006-bfae-c276263ccd09\"}, {\"hovertemplate\": \"\\u00bfEntiendes, generalmente, las intenciones que tiene el autor de una imagen cuando la ves y la compartes?=2. Very rarely<br>counts=%{r}<br>prosume_cluster=%{theta}<extra></extra>\", \"legendgroup\": \"\\u00bfEntiendes, generalmente, las intenciones que tiene el autor de una imagen cuando la ves y la compartes?=2. Very rarely\", \"marker\": {\"color\": \"rgb(252,141,89)\"}, \"name\": \"\\u00bfEntiendes, generalmente, las intenciones que tiene el autor de una imagen cuando la ves y la compartes?=2. Very rarely\", \"r\": [6, 32, 6, 3, 34], \"showlegend\": true, \"theta\": [\"cluster_1\", \"cluster_2\", \"cluster_3\", \"cluster_4\", \"cluster_5\"], \"type\": \"barpolar\", \"uid\": \"35fa9ee0-85a2-4e18-90b1-525ae3477123\"}, {\"hovertemplate\": \"\\u00bfEntiendes, generalmente, las intenciones que tiene el autor de una imagen cuando la ves y la compartes?=3. Occasionally<br>counts=%{r}<br>prosume_cluster=%{theta}<extra></extra>\", \"legendgroup\": \"\\u00bfEntiendes, generalmente, las intenciones que tiene el autor de una imagen cuando la ves y la compartes?=3. Occasionally\", \"marker\": {\"color\": \"rgb(254,224,139)\"}, \"name\": \"\\u00bfEntiendes, generalmente, las intenciones que tiene el autor de una imagen cuando la ves y la compartes?=3. Occasionally\", \"r\": [20, 78, 28, 24, 141], \"showlegend\": true, \"theta\": [\"cluster_1\", \"cluster_2\", \"cluster_3\", \"cluster_4\", \"cluster_5\"], \"type\": \"barpolar\", \"uid\": \"ddb0f7f2-cd89-403e-b626-73361fda69db\"}, {\"hovertemplate\": \"\\u00bfEntiendes, generalmente, las intenciones que tiene el autor de una imagen cuando la ves y la compartes?=4. Several times<br>counts=%{r}<br>prosume_cluster=%{theta}<extra></extra>\", \"legendgroup\": \"\\u00bfEntiendes, generalmente, las intenciones que tiene el autor de una imagen cuando la ves y la compartes?=4. Several times\", \"marker\": {\"color\": \"rgb(230,245,152)\"}, \"name\": \"\\u00bfEntiendes, generalmente, las intenciones que tiene el autor de una imagen cuando la ves y la compartes?=4. Several times\", \"r\": [9, 49, 48, 48, 123], \"showlegend\": true, \"theta\": [\"cluster_1\", \"cluster_2\", \"cluster_3\", \"cluster_4\", \"cluster_5\"], \"type\": \"barpolar\", \"uid\": \"087a8779-42e8-4a89-8f94-7ae3fc5d3165\"}, {\"hovertemplate\": \"\\u00bfEntiendes, generalmente, las intenciones que tiene el autor de una imagen cuando la ves y la compartes?=5. Almost always or always<br>counts=%{r}<br>prosume_cluster=%{theta}<extra></extra>\", \"legendgroup\": \"\\u00bfEntiendes, generalmente, las intenciones que tiene el autor de una imagen cuando la ves y la compartes?=5. Almost always or always\", \"marker\": {\"color\": \"rgb(153,213,148)\"}, \"name\": \"\\u00bfEntiendes, generalmente, las intenciones que tiene el autor de una imagen cuando la ves y la compartes?=5. Almost always or always\", \"r\": [2, 14, 16, 23, 37], \"showlegend\": true, \"theta\": [\"cluster_1\", \"cluster_2\", \"cluster_3\", \"cluster_4\", \"cluster_5\"], \"type\": \"barpolar\", \"uid\": \"cd4c68d3-0541-4bc9-b636-1f38c01208e5\"}], {\"barmode\": \"group\", \"barnorm\": \"\", \"height\": 600, \"legend\": {\"tracegroupgap\": 0}, \"margin\": {\"t\": 60}, \"template\": {\"data\": {\"barpolar\": [{\"marker\": {\"line\": {\"color\": \"#E5ECF6\", \"width\": 0.5}}, \"type\": \"barpolar\"}], \"bar\": [{\"marker\": {\"line\": {\"color\": \"#E5ECF6\", \"width\": 0.5}}, \"type\": \"bar\"}], \"carpet\": [{\"aaxis\": {\"endlinecolor\": \"#2a3f5f\", \"gridcolor\": \"white\", \"linecolor\": \"white\", \"minorgridcolor\": \"white\", \"startlinecolor\": \"#2a3f5f\"}, \"baxis\": {\"endlinecolor\": \"#2a3f5f\", \"gridcolor\": \"white\", \"linecolor\": \"white\", \"minorgridcolor\": \"white\", \"startlinecolor\": \"#2a3f5f\"}, \"type\": \"carpet\"}], \"choropleth\": [{\"colorbar\": {\"outlinewidth\": 0, \"ticks\": \"\"}, \"type\": \"choropleth\"}], \"contourcarpet\": [{\"colorbar\": {\"outlinewidth\": 0, \"ticks\": \"\"}, \"type\": \"contourcarpet\"}], \"contour\": [{\"autocolorscale\": true, \"colorbar\": {\"outlinewidth\": 0, \"ticks\": \"\"}, \"type\": \"contour\"}], \"heatmapgl\": [{\"colorbar\": {\"outlinewidth\": 0, \"ticks\": \"\"}, \"type\": \"heatmapgl\"}], \"heatmap\": [{\"autocolorscale\": true, \"colorbar\": {\"outlinewidth\": 0, \"ticks\": \"\"}, \"type\": \"heatmap\"}], \"histogram2dcontour\": [{\"autocolorscale\": true, \"colorbar\": {\"outlinewidth\": 0, \"ticks\": \"\"}, \"type\": \"histogram2dcontour\"}], \"histogram2d\": [{\"autocolorscale\": true, \"colorbar\": {\"outlinewidth\": 0, \"ticks\": \"\"}, \"type\": \"histogram2d\"}], \"histogram\": [{\"marker\": {\"colorbar\": {\"outlinewidth\": 0, \"ticks\": \"\"}}, \"type\": \"histogram\"}], \"mesh3d\": [{\"colorbar\": {\"outlinewidth\": 0, \"ticks\": \"\"}, \"type\": \"mesh3d\"}], \"parcoords\": [{\"line\": {\"colorbar\": {\"outlinewidth\": 0, \"ticks\": \"\"}}, \"type\": \"parcoords\"}], \"scatter3d\": [{\"marker\": {\"colorbar\": {\"outlinewidth\": 0, \"ticks\": \"\"}}, \"type\": \"scatter3d\"}], \"scattercarpet\": [{\"marker\": {\"colorbar\": {\"outlinewidth\": 0, \"ticks\": \"\"}}, \"type\": \"scattercarpet\"}], \"scattergeo\": [{\"marker\": {\"colorbar\": {\"outlinewidth\": 0, \"ticks\": \"\"}}, \"type\": \"scattergeo\"}], \"scattergl\": [{\"marker\": {\"colorbar\": {\"outlinewidth\": 0, \"ticks\": \"\"}}, \"type\": \"scattergl\"}], \"scattermapbox\": [{\"marker\": {\"colorbar\": {\"outlinewidth\": 0, \"ticks\": \"\"}}, \"type\": \"scattermapbox\"}], \"scatterpolargl\": [{\"marker\": {\"colorbar\": {\"outlinewidth\": 0, \"ticks\": \"\"}}, \"type\": \"scatterpolargl\"}], \"scatterpolar\": [{\"marker\": {\"colorbar\": {\"outlinewidth\": 0, \"ticks\": \"\"}}, \"type\": \"scatterpolar\"}], \"scatter\": [{\"marker\": {\"colorbar\": {\"outlinewidth\": 0, \"ticks\": \"\"}}, \"type\": \"scatter\"}], \"scatterternary\": [{\"marker\": {\"colorbar\": {\"outlinewidth\": 0, \"ticks\": \"\"}}, \"type\": \"scatterternary\"}], \"surface\": [{\"colorbar\": {\"outlinewidth\": 0, \"ticks\": \"\"}, \"type\": \"surface\"}], \"table\": [{\"cells\": {\"fill\": {\"color\": \"#EBF0F8\"}, \"line\": {\"color\": \"white\"}}, \"header\": {\"fill\": {\"color\": \"#C8D4E3\"}, \"line\": {\"color\": \"white\"}}, \"type\": \"table\"}]}, \"layout\": {\"annotationdefaults\": {\"arrowcolor\": \"#506784\", \"arrowhead\": 0, \"arrowwidth\": 1}, \"colorscale\": {\"diverging\": [[0, \"#8e0152\"], [0.1, \"#c51b7d\"], [0.2, \"#de77ae\"], [0.3, \"#f1b6da\"], [0.4, \"#fde0ef\"], [0.5, \"#f7f7f7\"], [0.6, \"#e6f5d0\"], [0.7, \"#b8e186\"], [0.8, \"#7fbc41\"], [0.9, \"#4d9221\"], [1, \"#276419\"]], \"sequential\": [[0.0, \"#0508b8\"], [0.0893854748603352, \"#1910d8\"], [0.1787709497206704, \"#3c19f0\"], [0.2681564245810056, \"#6b1cfb\"], [0.3575418994413408, \"#981cfd\"], [0.44692737430167595, \"#bf1cfd\"], [0.5363128491620112, \"#dd2bfd\"], [0.6256983240223464, \"#f246fe\"], [0.7150837988826816, \"#fc67fd\"], [0.8044692737430168, \"#fe88fc\"], [0.8938547486033519, \"#fea5fd\"], [0.9832402234636871, \"#febefe\"], [1.0, \"#fec3fe\"]], \"sequentialminus\": [[0.0, \"#0508b8\"], [0.0893854748603352, \"#1910d8\"], [0.1787709497206704, \"#3c19f0\"], [0.2681564245810056, \"#6b1cfb\"], [0.3575418994413408, \"#981cfd\"], [0.44692737430167595, \"#bf1cfd\"], [0.5363128491620112, \"#dd2bfd\"], [0.6256983240223464, \"#f246fe\"], [0.7150837988826816, \"#fc67fd\"], [0.8044692737430168, \"#fe88fc\"], [0.8938547486033519, \"#fea5fd\"], [0.9832402234636871, \"#febefe\"], [1.0, \"#fec3fe\"]]}, \"colorway\": [\"#636efa\", \"#EF553B\", \"#00cc96\", \"#ab63fa\", \"#19d3f3\", \"#e763fa\", \"#FECB52\", \"#FFA15A\", \"#FF6692\", \"#B6E880\"], \"font\": {\"color\": \"#2a3f5f\"}, \"geo\": {\"bgcolor\": \"white\", \"lakecolor\": \"white\", \"landcolor\": \"#E5ECF6\", \"showlakes\": true, \"showland\": true, \"subunitcolor\": \"white\"}, \"hovermode\": \"closest\", \"mapbox\": {\"style\": \"light\"}, \"paper_bgcolor\": \"white\", \"plot_bgcolor\": \"#E5ECF6\", \"polar\": {\"angularaxis\": {\"gridcolor\": \"white\", \"linecolor\": \"white\", \"ticks\": \"\"}, \"bgcolor\": \"#E5ECF6\", \"radialaxis\": {\"gridcolor\": \"white\", \"linecolor\": \"white\", \"ticks\": \"\"}}, \"scene\": {\"xaxis\": {\"backgroundcolor\": \"#E5ECF6\", \"gridcolor\": \"white\", \"gridwidth\": 2, \"linecolor\": \"white\", \"showbackground\": true, \"ticks\": \"\", \"zerolinecolor\": \"white\"}, \"yaxis\": {\"backgroundcolor\": \"#E5ECF6\", \"gridcolor\": \"white\", \"gridwidth\": 2, \"linecolor\": \"white\", \"showbackground\": true, \"ticks\": \"\", \"zerolinecolor\": \"white\"}, \"zaxis\": {\"backgroundcolor\": \"#E5ECF6\", \"gridcolor\": \"white\", \"gridwidth\": 2, \"linecolor\": \"white\", \"showbackground\": true, \"ticks\": \"\", \"zerolinecolor\": \"white\"}}, \"shapedefaults\": {\"fillcolor\": \"#506784\", \"line\": {\"width\": 0}, \"opacity\": 0.4}, \"ternary\": {\"aaxis\": {\"gridcolor\": \"white\", \"linecolor\": \"white\", \"ticks\": \"\"}, \"baxis\": {\"gridcolor\": \"white\", \"linecolor\": \"white\", \"ticks\": \"\"}, \"bgcolor\": \"#E5ECF6\", \"caxis\": {\"gridcolor\": \"white\", \"linecolor\": \"white\", \"ticks\": \"\"}}, \"title\": {\"x\": 0.05}, \"xaxis\": {\"automargin\": true, \"gridcolor\": \"white\", \"linecolor\": \"white\", \"ticks\": \"\", \"zerolinecolor\": \"white\", \"zerolinewidth\": 2}, \"yaxis\": {\"automargin\": true, \"gridcolor\": \"white\", \"linecolor\": \"white\", \"ticks\": \"\", \"zerolinecolor\": \"white\", \"zerolinewidth\": 2}}}, \"polar\": {\"angularaxis\": {\"direction\": \"clockwise\", \"rotation\": 90}}}, {\"showLink\": false, \"linkText\": \"Export to plot.ly\", \"plotlyServerURL\": \"https://plot.ly\"}); \n",
       "}\n",
       "});</script><script type=\"text/javascript\">window.addEventListener(\"resize\", function(){if (document.getElementById(\"fc1721f8-afcb-4dbe-a78a-57993038c938\")) {window._Plotly.Plots.resize(document.getElementById(\"fc1721f8-afcb-4dbe-a78a-57993038c938\"));};})</script>"
      ]
     },
     "metadata": {},
     "output_type": "display_data"
    },
    {
     "name": "stdout",
     "output_type": "stream",
     "text": [
      "Comparando la pregunta ¿Eres capaz de expresar verbalmente las emociones que te produce una imagen que has visto?\n"
     ]
    },
    {
     "data": {
      "application/vnd.plotly.v1+json": {
       "config": {
        "linkText": "Export to plot.ly",
        "plotlyServerURL": "https://plot.ly",
        "showLink": false
       },
       "data": [
        {
         "hovertemplate": "¿Eres capaz de expresar verbalmente las emociones que te produce una imagen que has visto?=1. Nunca<br>counts=%{r}<br>prosume_cluster=%{theta}<extra></extra>",
         "legendgroup": "¿Eres capaz de expresar verbalmente las emociones que te produce una imagen que has visto?=1. Nunca",
         "marker": {
          "color": "rgb(213,62,79)"
         },
         "name": "¿Eres capaz de expresar verbalmente las emociones que te produce una imagen que has visto?=1. Nunca",
         "r": [
          1,
          10,
          1,
          1
         ],
         "showlegend": true,
         "theta": [
          "cluster_1",
          "cluster_2",
          "cluster_4",
          "cluster_5"
         ],
         "type": "barpolar",
         "uid": "95a90b61-de2c-45aa-988d-bdcf5bd9d960"
        },
        {
         "hovertemplate": "¿Eres capaz de expresar verbalmente las emociones que te produce una imagen que has visto?=2. Muy pocas veces<br>counts=%{r}<br>prosume_cluster=%{theta}<extra></extra>",
         "legendgroup": "¿Eres capaz de expresar verbalmente las emociones que te produce una imagen que has visto?=2. Muy pocas veces",
         "marker": {
          "color": "rgb(252,141,89)"
         },
         "name": "¿Eres capaz de expresar verbalmente las emociones que te produce una imagen que has visto?=2. Muy pocas veces",
         "r": [
          11,
          42,
          3,
          9,
          35
         ],
         "showlegend": true,
         "theta": [
          "cluster_1",
          "cluster_2",
          "cluster_3",
          "cluster_4",
          "cluster_5"
         ],
         "type": "barpolar",
         "uid": "6d9bbad8-673d-4b47-bc16-a93ff5760153"
        },
        {
         "hovertemplate": "¿Eres capaz de expresar verbalmente las emociones que te produce una imagen que has visto?=3. En ocasiones<br>counts=%{r}<br>prosume_cluster=%{theta}<extra></extra>",
         "legendgroup": "¿Eres capaz de expresar verbalmente las emociones que te produce una imagen que has visto?=3. En ocasiones",
         "marker": {
          "color": "rgb(254,224,139)"
         },
         "name": "¿Eres capaz de expresar verbalmente las emociones que te produce una imagen que has visto?=3. En ocasiones",
         "r": [
          12,
          82,
          23,
          28,
          142
         ],
         "showlegend": true,
         "theta": [
          "cluster_1",
          "cluster_2",
          "cluster_3",
          "cluster_4",
          "cluster_5"
         ],
         "type": "barpolar",
         "uid": "919342d8-38bc-4597-a1d8-5c5e27819caa"
        },
        {
         "hovertemplate": "¿Eres capaz de expresar verbalmente las emociones que te produce una imagen que has visto?=4. Bastantes veces<br>counts=%{r}<br>prosume_cluster=%{theta}<extra></extra>",
         "legendgroup": "¿Eres capaz de expresar verbalmente las emociones que te produce una imagen que has visto?=4. Bastantes veces",
         "marker": {
          "color": "rgb(230,245,152)"
         },
         "name": "¿Eres capaz de expresar verbalmente las emociones que te produce una imagen que has visto?=4. Bastantes veces",
         "r": [
          12,
          46,
          56,
          34,
          106
         ],
         "showlegend": true,
         "theta": [
          "cluster_1",
          "cluster_2",
          "cluster_3",
          "cluster_4",
          "cluster_5"
         ],
         "type": "barpolar",
         "uid": "a46b9bb6-7b07-4361-a297-4920581d8b34"
        },
        {
         "hovertemplate": "¿Eres capaz de expresar verbalmente las emociones que te produce una imagen que has visto?=5. Casi siempre o siempre<br>counts=%{r}<br>prosume_cluster=%{theta}<extra></extra>",
         "legendgroup": "¿Eres capaz de expresar verbalmente las emociones que te produce una imagen que has visto?=5. Casi siempre o siempre",
         "marker": {
          "color": "rgb(153,213,148)"
         },
         "name": "¿Eres capaz de expresar verbalmente las emociones que te produce una imagen que has visto?=5. Casi siempre o siempre",
         "r": [
          1,
          16,
          18,
          26,
          52
         ],
         "showlegend": true,
         "theta": [
          "cluster_1",
          "cluster_2",
          "cluster_3",
          "cluster_4",
          "cluster_5"
         ],
         "type": "barpolar",
         "uid": "c2bbd070-9196-4b03-8d73-f71fdd9f41a0"
        }
       ],
       "layout": {
        "barmode": "group",
        "barnorm": "",
        "height": 600,
        "legend": {
         "tracegroupgap": 0
        },
        "margin": {
         "t": 60
        },
        "polar": {
         "angularaxis": {
          "direction": "clockwise",
          "rotation": 90
         }
        },
        "template": {
         "data": {
          "bar": [
           {
            "marker": {
             "line": {
              "color": "#E5ECF6",
              "width": 0.5
             }
            },
            "type": "bar"
           }
          ],
          "barpolar": [
           {
            "marker": {
             "line": {
              "color": "#E5ECF6",
              "width": 0.5
             }
            },
            "type": "barpolar"
           }
          ],
          "carpet": [
           {
            "aaxis": {
             "endlinecolor": "#2a3f5f",
             "gridcolor": "white",
             "linecolor": "white",
             "minorgridcolor": "white",
             "startlinecolor": "#2a3f5f"
            },
            "baxis": {
             "endlinecolor": "#2a3f5f",
             "gridcolor": "white",
             "linecolor": "white",
             "minorgridcolor": "white",
             "startlinecolor": "#2a3f5f"
            },
            "type": "carpet"
           }
          ],
          "choropleth": [
           {
            "colorbar": {
             "outlinewidth": 0,
             "ticks": ""
            },
            "type": "choropleth"
           }
          ],
          "contour": [
           {
            "autocolorscale": true,
            "colorbar": {
             "outlinewidth": 0,
             "ticks": ""
            },
            "type": "contour"
           }
          ],
          "contourcarpet": [
           {
            "colorbar": {
             "outlinewidth": 0,
             "ticks": ""
            },
            "type": "contourcarpet"
           }
          ],
          "heatmap": [
           {
            "autocolorscale": true,
            "colorbar": {
             "outlinewidth": 0,
             "ticks": ""
            },
            "type": "heatmap"
           }
          ],
          "heatmapgl": [
           {
            "colorbar": {
             "outlinewidth": 0,
             "ticks": ""
            },
            "type": "heatmapgl"
           }
          ],
          "histogram": [
           {
            "marker": {
             "colorbar": {
              "outlinewidth": 0,
              "ticks": ""
             }
            },
            "type": "histogram"
           }
          ],
          "histogram2d": [
           {
            "autocolorscale": true,
            "colorbar": {
             "outlinewidth": 0,
             "ticks": ""
            },
            "type": "histogram2d"
           }
          ],
          "histogram2dcontour": [
           {
            "autocolorscale": true,
            "colorbar": {
             "outlinewidth": 0,
             "ticks": ""
            },
            "type": "histogram2dcontour"
           }
          ],
          "mesh3d": [
           {
            "colorbar": {
             "outlinewidth": 0,
             "ticks": ""
            },
            "type": "mesh3d"
           }
          ],
          "parcoords": [
           {
            "line": {
             "colorbar": {
              "outlinewidth": 0,
              "ticks": ""
             }
            },
            "type": "parcoords"
           }
          ],
          "scatter": [
           {
            "marker": {
             "colorbar": {
              "outlinewidth": 0,
              "ticks": ""
             }
            },
            "type": "scatter"
           }
          ],
          "scatter3d": [
           {
            "marker": {
             "colorbar": {
              "outlinewidth": 0,
              "ticks": ""
             }
            },
            "type": "scatter3d"
           }
          ],
          "scattercarpet": [
           {
            "marker": {
             "colorbar": {
              "outlinewidth": 0,
              "ticks": ""
             }
            },
            "type": "scattercarpet"
           }
          ],
          "scattergeo": [
           {
            "marker": {
             "colorbar": {
              "outlinewidth": 0,
              "ticks": ""
             }
            },
            "type": "scattergeo"
           }
          ],
          "scattergl": [
           {
            "marker": {
             "colorbar": {
              "outlinewidth": 0,
              "ticks": ""
             }
            },
            "type": "scattergl"
           }
          ],
          "scattermapbox": [
           {
            "marker": {
             "colorbar": {
              "outlinewidth": 0,
              "ticks": ""
             }
            },
            "type": "scattermapbox"
           }
          ],
          "scatterpolar": [
           {
            "marker": {
             "colorbar": {
              "outlinewidth": 0,
              "ticks": ""
             }
            },
            "type": "scatterpolar"
           }
          ],
          "scatterpolargl": [
           {
            "marker": {
             "colorbar": {
              "outlinewidth": 0,
              "ticks": ""
             }
            },
            "type": "scatterpolargl"
           }
          ],
          "scatterternary": [
           {
            "marker": {
             "colorbar": {
              "outlinewidth": 0,
              "ticks": ""
             }
            },
            "type": "scatterternary"
           }
          ],
          "surface": [
           {
            "colorbar": {
             "outlinewidth": 0,
             "ticks": ""
            },
            "type": "surface"
           }
          ],
          "table": [
           {
            "cells": {
             "fill": {
              "color": "#EBF0F8"
             },
             "line": {
              "color": "white"
             }
            },
            "header": {
             "fill": {
              "color": "#C8D4E3"
             },
             "line": {
              "color": "white"
             }
            },
            "type": "table"
           }
          ]
         },
         "layout": {
          "annotationdefaults": {
           "arrowcolor": "#506784",
           "arrowhead": 0,
           "arrowwidth": 1
          },
          "colorscale": {
           "diverging": [
            [
             0,
             "#8e0152"
            ],
            [
             0.1,
             "#c51b7d"
            ],
            [
             0.2,
             "#de77ae"
            ],
            [
             0.3,
             "#f1b6da"
            ],
            [
             0.4,
             "#fde0ef"
            ],
            [
             0.5,
             "#f7f7f7"
            ],
            [
             0.6,
             "#e6f5d0"
            ],
            [
             0.7,
             "#b8e186"
            ],
            [
             0.8,
             "#7fbc41"
            ],
            [
             0.9,
             "#4d9221"
            ],
            [
             1,
             "#276419"
            ]
           ],
           "sequential": [
            [
             0,
             "#0508b8"
            ],
            [
             0.0893854748603352,
             "#1910d8"
            ],
            [
             0.1787709497206704,
             "#3c19f0"
            ],
            [
             0.2681564245810056,
             "#6b1cfb"
            ],
            [
             0.3575418994413408,
             "#981cfd"
            ],
            [
             0.44692737430167595,
             "#bf1cfd"
            ],
            [
             0.5363128491620112,
             "#dd2bfd"
            ],
            [
             0.6256983240223464,
             "#f246fe"
            ],
            [
             0.7150837988826816,
             "#fc67fd"
            ],
            [
             0.8044692737430168,
             "#fe88fc"
            ],
            [
             0.8938547486033519,
             "#fea5fd"
            ],
            [
             0.9832402234636871,
             "#febefe"
            ],
            [
             1,
             "#fec3fe"
            ]
           ],
           "sequentialminus": [
            [
             0,
             "#0508b8"
            ],
            [
             0.0893854748603352,
             "#1910d8"
            ],
            [
             0.1787709497206704,
             "#3c19f0"
            ],
            [
             0.2681564245810056,
             "#6b1cfb"
            ],
            [
             0.3575418994413408,
             "#981cfd"
            ],
            [
             0.44692737430167595,
             "#bf1cfd"
            ],
            [
             0.5363128491620112,
             "#dd2bfd"
            ],
            [
             0.6256983240223464,
             "#f246fe"
            ],
            [
             0.7150837988826816,
             "#fc67fd"
            ],
            [
             0.8044692737430168,
             "#fe88fc"
            ],
            [
             0.8938547486033519,
             "#fea5fd"
            ],
            [
             0.9832402234636871,
             "#febefe"
            ],
            [
             1,
             "#fec3fe"
            ]
           ]
          },
          "colorway": [
           "#636efa",
           "#EF553B",
           "#00cc96",
           "#ab63fa",
           "#19d3f3",
           "#e763fa",
           "#FECB52",
           "#FFA15A",
           "#FF6692",
           "#B6E880"
          ],
          "font": {
           "color": "#2a3f5f"
          },
          "geo": {
           "bgcolor": "white",
           "lakecolor": "white",
           "landcolor": "#E5ECF6",
           "showlakes": true,
           "showland": true,
           "subunitcolor": "white"
          },
          "hovermode": "closest",
          "mapbox": {
           "style": "light"
          },
          "paper_bgcolor": "white",
          "plot_bgcolor": "#E5ECF6",
          "polar": {
           "angularaxis": {
            "gridcolor": "white",
            "linecolor": "white",
            "ticks": ""
           },
           "bgcolor": "#E5ECF6",
           "radialaxis": {
            "gridcolor": "white",
            "linecolor": "white",
            "ticks": ""
           }
          },
          "scene": {
           "xaxis": {
            "backgroundcolor": "#E5ECF6",
            "gridcolor": "white",
            "gridwidth": 2,
            "linecolor": "white",
            "showbackground": true,
            "ticks": "",
            "zerolinecolor": "white"
           },
           "yaxis": {
            "backgroundcolor": "#E5ECF6",
            "gridcolor": "white",
            "gridwidth": 2,
            "linecolor": "white",
            "showbackground": true,
            "ticks": "",
            "zerolinecolor": "white"
           },
           "zaxis": {
            "backgroundcolor": "#E5ECF6",
            "gridcolor": "white",
            "gridwidth": 2,
            "linecolor": "white",
            "showbackground": true,
            "ticks": "",
            "zerolinecolor": "white"
           }
          },
          "shapedefaults": {
           "fillcolor": "#506784",
           "line": {
            "width": 0
           },
           "opacity": 0.4
          },
          "ternary": {
           "aaxis": {
            "gridcolor": "white",
            "linecolor": "white",
            "ticks": ""
           },
           "baxis": {
            "gridcolor": "white",
            "linecolor": "white",
            "ticks": ""
           },
           "bgcolor": "#E5ECF6",
           "caxis": {
            "gridcolor": "white",
            "linecolor": "white",
            "ticks": ""
           }
          },
          "title": {
           "x": 0.05
          },
          "xaxis": {
           "automargin": true,
           "gridcolor": "white",
           "linecolor": "white",
           "ticks": "",
           "zerolinecolor": "white",
           "zerolinewidth": 2
          },
          "yaxis": {
           "automargin": true,
           "gridcolor": "white",
           "linecolor": "white",
           "ticks": "",
           "zerolinecolor": "white",
           "zerolinewidth": 2
          }
         }
        }
       }
      },
      "text/html": [
       "<div id=\"dc2fe094-ee8f-46bc-905f-782ba3693c15\" style=\"height: 600px; width: 100%;\" class=\"plotly-graph-div\"></div><script type=\"text/javascript\">require([\"plotly\"], function(Plotly) { window.PLOTLYENV=window.PLOTLYENV || {};window.PLOTLYENV.BASE_URL=\"https://plot.ly\";\n",
       "if (document.getElementById(\"dc2fe094-ee8f-46bc-905f-782ba3693c15\")) {\n",
       "    Plotly.newPlot(\"dc2fe094-ee8f-46bc-905f-782ba3693c15\", [{\"hovertemplate\": \"\\u00bfEres capaz de expresar verbalmente las emociones que te produce una imagen que has visto?=1. Nunca<br>counts=%{r}<br>prosume_cluster=%{theta}<extra></extra>\", \"legendgroup\": \"\\u00bfEres capaz de expresar verbalmente las emociones que te produce una imagen que has visto?=1. Nunca\", \"marker\": {\"color\": \"rgb(213,62,79)\"}, \"name\": \"\\u00bfEres capaz de expresar verbalmente las emociones que te produce una imagen que has visto?=1. Nunca\", \"r\": [1, 10, 1, 1], \"showlegend\": true, \"theta\": [\"cluster_1\", \"cluster_2\", \"cluster_4\", \"cluster_5\"], \"type\": \"barpolar\", \"uid\": \"95a90b61-de2c-45aa-988d-bdcf5bd9d960\"}, {\"hovertemplate\": \"\\u00bfEres capaz de expresar verbalmente las emociones que te produce una imagen que has visto?=2. Muy pocas veces<br>counts=%{r}<br>prosume_cluster=%{theta}<extra></extra>\", \"legendgroup\": \"\\u00bfEres capaz de expresar verbalmente las emociones que te produce una imagen que has visto?=2. Muy pocas veces\", \"marker\": {\"color\": \"rgb(252,141,89)\"}, \"name\": \"\\u00bfEres capaz de expresar verbalmente las emociones que te produce una imagen que has visto?=2. Muy pocas veces\", \"r\": [11, 42, 3, 9, 35], \"showlegend\": true, \"theta\": [\"cluster_1\", \"cluster_2\", \"cluster_3\", \"cluster_4\", \"cluster_5\"], \"type\": \"barpolar\", \"uid\": \"6d9bbad8-673d-4b47-bc16-a93ff5760153\"}, {\"hovertemplate\": \"\\u00bfEres capaz de expresar verbalmente las emociones que te produce una imagen que has visto?=3. En ocasiones<br>counts=%{r}<br>prosume_cluster=%{theta}<extra></extra>\", \"legendgroup\": \"\\u00bfEres capaz de expresar verbalmente las emociones que te produce una imagen que has visto?=3. En ocasiones\", \"marker\": {\"color\": \"rgb(254,224,139)\"}, \"name\": \"\\u00bfEres capaz de expresar verbalmente las emociones que te produce una imagen que has visto?=3. En ocasiones\", \"r\": [12, 82, 23, 28, 142], \"showlegend\": true, \"theta\": [\"cluster_1\", \"cluster_2\", \"cluster_3\", \"cluster_4\", \"cluster_5\"], \"type\": \"barpolar\", \"uid\": \"919342d8-38bc-4597-a1d8-5c5e27819caa\"}, {\"hovertemplate\": \"\\u00bfEres capaz de expresar verbalmente las emociones que te produce una imagen que has visto?=4. Bastantes veces<br>counts=%{r}<br>prosume_cluster=%{theta}<extra></extra>\", \"legendgroup\": \"\\u00bfEres capaz de expresar verbalmente las emociones que te produce una imagen que has visto?=4. Bastantes veces\", \"marker\": {\"color\": \"rgb(230,245,152)\"}, \"name\": \"\\u00bfEres capaz de expresar verbalmente las emociones que te produce una imagen que has visto?=4. Bastantes veces\", \"r\": [12, 46, 56, 34, 106], \"showlegend\": true, \"theta\": [\"cluster_1\", \"cluster_2\", \"cluster_3\", \"cluster_4\", \"cluster_5\"], \"type\": \"barpolar\", \"uid\": \"a46b9bb6-7b07-4361-a297-4920581d8b34\"}, {\"hovertemplate\": \"\\u00bfEres capaz de expresar verbalmente las emociones que te produce una imagen que has visto?=5. Casi siempre o siempre<br>counts=%{r}<br>prosume_cluster=%{theta}<extra></extra>\", \"legendgroup\": \"\\u00bfEres capaz de expresar verbalmente las emociones que te produce una imagen que has visto?=5. Casi siempre o siempre\", \"marker\": {\"color\": \"rgb(153,213,148)\"}, \"name\": \"\\u00bfEres capaz de expresar verbalmente las emociones que te produce una imagen que has visto?=5. Casi siempre o siempre\", \"r\": [1, 16, 18, 26, 52], \"showlegend\": true, \"theta\": [\"cluster_1\", \"cluster_2\", \"cluster_3\", \"cluster_4\", \"cluster_5\"], \"type\": \"barpolar\", \"uid\": \"c2bbd070-9196-4b03-8d73-f71fdd9f41a0\"}], {\"barmode\": \"group\", \"barnorm\": \"\", \"height\": 600, \"legend\": {\"tracegroupgap\": 0}, \"margin\": {\"t\": 60}, \"template\": {\"data\": {\"barpolar\": [{\"marker\": {\"line\": {\"color\": \"#E5ECF6\", \"width\": 0.5}}, \"type\": \"barpolar\"}], \"bar\": [{\"marker\": {\"line\": {\"color\": \"#E5ECF6\", \"width\": 0.5}}, \"type\": \"bar\"}], \"carpet\": [{\"aaxis\": {\"endlinecolor\": \"#2a3f5f\", \"gridcolor\": \"white\", \"linecolor\": \"white\", \"minorgridcolor\": \"white\", \"startlinecolor\": \"#2a3f5f\"}, \"baxis\": {\"endlinecolor\": \"#2a3f5f\", \"gridcolor\": \"white\", \"linecolor\": \"white\", \"minorgridcolor\": \"white\", \"startlinecolor\": \"#2a3f5f\"}, \"type\": \"carpet\"}], \"choropleth\": [{\"colorbar\": {\"outlinewidth\": 0, \"ticks\": \"\"}, \"type\": \"choropleth\"}], \"contourcarpet\": [{\"colorbar\": {\"outlinewidth\": 0, \"ticks\": \"\"}, \"type\": \"contourcarpet\"}], \"contour\": [{\"autocolorscale\": true, \"colorbar\": {\"outlinewidth\": 0, \"ticks\": \"\"}, \"type\": \"contour\"}], \"heatmapgl\": [{\"colorbar\": {\"outlinewidth\": 0, \"ticks\": \"\"}, \"type\": \"heatmapgl\"}], \"heatmap\": [{\"autocolorscale\": true, \"colorbar\": {\"outlinewidth\": 0, \"ticks\": \"\"}, \"type\": \"heatmap\"}], \"histogram2dcontour\": [{\"autocolorscale\": true, \"colorbar\": {\"outlinewidth\": 0, \"ticks\": \"\"}, \"type\": \"histogram2dcontour\"}], \"histogram2d\": [{\"autocolorscale\": true, \"colorbar\": {\"outlinewidth\": 0, \"ticks\": \"\"}, \"type\": \"histogram2d\"}], \"histogram\": [{\"marker\": {\"colorbar\": {\"outlinewidth\": 0, \"ticks\": \"\"}}, \"type\": \"histogram\"}], \"mesh3d\": [{\"colorbar\": {\"outlinewidth\": 0, \"ticks\": \"\"}, \"type\": \"mesh3d\"}], \"parcoords\": [{\"line\": {\"colorbar\": {\"outlinewidth\": 0, \"ticks\": \"\"}}, \"type\": \"parcoords\"}], \"scatter3d\": [{\"marker\": {\"colorbar\": {\"outlinewidth\": 0, \"ticks\": \"\"}}, \"type\": \"scatter3d\"}], \"scattercarpet\": [{\"marker\": {\"colorbar\": {\"outlinewidth\": 0, \"ticks\": \"\"}}, \"type\": \"scattercarpet\"}], \"scattergeo\": [{\"marker\": {\"colorbar\": {\"outlinewidth\": 0, \"ticks\": \"\"}}, \"type\": \"scattergeo\"}], \"scattergl\": [{\"marker\": {\"colorbar\": {\"outlinewidth\": 0, \"ticks\": \"\"}}, \"type\": \"scattergl\"}], \"scattermapbox\": [{\"marker\": {\"colorbar\": {\"outlinewidth\": 0, \"ticks\": \"\"}}, \"type\": \"scattermapbox\"}], \"scatterpolargl\": [{\"marker\": {\"colorbar\": {\"outlinewidth\": 0, \"ticks\": \"\"}}, \"type\": \"scatterpolargl\"}], \"scatterpolar\": [{\"marker\": {\"colorbar\": {\"outlinewidth\": 0, \"ticks\": \"\"}}, \"type\": \"scatterpolar\"}], \"scatter\": [{\"marker\": {\"colorbar\": {\"outlinewidth\": 0, \"ticks\": \"\"}}, \"type\": \"scatter\"}], \"scatterternary\": [{\"marker\": {\"colorbar\": {\"outlinewidth\": 0, \"ticks\": \"\"}}, \"type\": \"scatterternary\"}], \"surface\": [{\"colorbar\": {\"outlinewidth\": 0, \"ticks\": \"\"}, \"type\": \"surface\"}], \"table\": [{\"cells\": {\"fill\": {\"color\": \"#EBF0F8\"}, \"line\": {\"color\": \"white\"}}, \"header\": {\"fill\": {\"color\": \"#C8D4E3\"}, \"line\": {\"color\": \"white\"}}, \"type\": \"table\"}]}, \"layout\": {\"annotationdefaults\": {\"arrowcolor\": \"#506784\", \"arrowhead\": 0, \"arrowwidth\": 1}, \"colorscale\": {\"diverging\": [[0, \"#8e0152\"], [0.1, \"#c51b7d\"], [0.2, \"#de77ae\"], [0.3, \"#f1b6da\"], [0.4, \"#fde0ef\"], [0.5, \"#f7f7f7\"], [0.6, \"#e6f5d0\"], [0.7, \"#b8e186\"], [0.8, \"#7fbc41\"], [0.9, \"#4d9221\"], [1, \"#276419\"]], \"sequential\": [[0.0, \"#0508b8\"], [0.0893854748603352, \"#1910d8\"], [0.1787709497206704, \"#3c19f0\"], [0.2681564245810056, \"#6b1cfb\"], [0.3575418994413408, \"#981cfd\"], [0.44692737430167595, \"#bf1cfd\"], [0.5363128491620112, \"#dd2bfd\"], [0.6256983240223464, \"#f246fe\"], [0.7150837988826816, \"#fc67fd\"], [0.8044692737430168, \"#fe88fc\"], [0.8938547486033519, \"#fea5fd\"], [0.9832402234636871, \"#febefe\"], [1.0, \"#fec3fe\"]], \"sequentialminus\": [[0.0, \"#0508b8\"], [0.0893854748603352, \"#1910d8\"], [0.1787709497206704, \"#3c19f0\"], [0.2681564245810056, \"#6b1cfb\"], [0.3575418994413408, \"#981cfd\"], [0.44692737430167595, \"#bf1cfd\"], [0.5363128491620112, \"#dd2bfd\"], [0.6256983240223464, \"#f246fe\"], [0.7150837988826816, \"#fc67fd\"], [0.8044692737430168, \"#fe88fc\"], [0.8938547486033519, \"#fea5fd\"], [0.9832402234636871, \"#febefe\"], [1.0, \"#fec3fe\"]]}, \"colorway\": [\"#636efa\", \"#EF553B\", \"#00cc96\", \"#ab63fa\", \"#19d3f3\", \"#e763fa\", \"#FECB52\", \"#FFA15A\", \"#FF6692\", \"#B6E880\"], \"font\": {\"color\": \"#2a3f5f\"}, \"geo\": {\"bgcolor\": \"white\", \"lakecolor\": \"white\", \"landcolor\": \"#E5ECF6\", \"showlakes\": true, \"showland\": true, \"subunitcolor\": \"white\"}, \"hovermode\": \"closest\", \"mapbox\": {\"style\": \"light\"}, \"paper_bgcolor\": \"white\", \"plot_bgcolor\": \"#E5ECF6\", \"polar\": {\"angularaxis\": {\"gridcolor\": \"white\", \"linecolor\": \"white\", \"ticks\": \"\"}, \"bgcolor\": \"#E5ECF6\", \"radialaxis\": {\"gridcolor\": \"white\", \"linecolor\": \"white\", \"ticks\": \"\"}}, \"scene\": {\"xaxis\": {\"backgroundcolor\": \"#E5ECF6\", \"gridcolor\": \"white\", \"gridwidth\": 2, \"linecolor\": \"white\", \"showbackground\": true, \"ticks\": \"\", \"zerolinecolor\": \"white\"}, \"yaxis\": {\"backgroundcolor\": \"#E5ECF6\", \"gridcolor\": \"white\", \"gridwidth\": 2, \"linecolor\": \"white\", \"showbackground\": true, \"ticks\": \"\", \"zerolinecolor\": \"white\"}, \"zaxis\": {\"backgroundcolor\": \"#E5ECF6\", \"gridcolor\": \"white\", \"gridwidth\": 2, \"linecolor\": \"white\", \"showbackground\": true, \"ticks\": \"\", \"zerolinecolor\": \"white\"}}, \"shapedefaults\": {\"fillcolor\": \"#506784\", \"line\": {\"width\": 0}, \"opacity\": 0.4}, \"ternary\": {\"aaxis\": {\"gridcolor\": \"white\", \"linecolor\": \"white\", \"ticks\": \"\"}, \"baxis\": {\"gridcolor\": \"white\", \"linecolor\": \"white\", \"ticks\": \"\"}, \"bgcolor\": \"#E5ECF6\", \"caxis\": {\"gridcolor\": \"white\", \"linecolor\": \"white\", \"ticks\": \"\"}}, \"title\": {\"x\": 0.05}, \"xaxis\": {\"automargin\": true, \"gridcolor\": \"white\", \"linecolor\": \"white\", \"ticks\": \"\", \"zerolinecolor\": \"white\", \"zerolinewidth\": 2}, \"yaxis\": {\"automargin\": true, \"gridcolor\": \"white\", \"linecolor\": \"white\", \"ticks\": \"\", \"zerolinecolor\": \"white\", \"zerolinewidth\": 2}}}, \"polar\": {\"angularaxis\": {\"direction\": \"clockwise\", \"rotation\": 90}}}, {\"showLink\": false, \"linkText\": \"Export to plot.ly\", \"plotlyServerURL\": \"https://plot.ly\"}); \n",
       "}\n",
       "});</script><script type=\"text/javascript\">window.addEventListener(\"resize\", function(){if (document.getElementById(\"dc2fe094-ee8f-46bc-905f-782ba3693c15\")) {window._Plotly.Plots.resize(document.getElementById(\"dc2fe094-ee8f-46bc-905f-782ba3693c15\"));};})</script>"
      ],
      "text/vnd.plotly.v1+html": [
       "<div id=\"dc2fe094-ee8f-46bc-905f-782ba3693c15\" style=\"height: 600px; width: 100%;\" class=\"plotly-graph-div\"></div><script type=\"text/javascript\">require([\"plotly\"], function(Plotly) { window.PLOTLYENV=window.PLOTLYENV || {};window.PLOTLYENV.BASE_URL=\"https://plot.ly\";\n",
       "if (document.getElementById(\"dc2fe094-ee8f-46bc-905f-782ba3693c15\")) {\n",
       "    Plotly.newPlot(\"dc2fe094-ee8f-46bc-905f-782ba3693c15\", [{\"hovertemplate\": \"\\u00bfEres capaz de expresar verbalmente las emociones que te produce una imagen que has visto?=1. Nunca<br>counts=%{r}<br>prosume_cluster=%{theta}<extra></extra>\", \"legendgroup\": \"\\u00bfEres capaz de expresar verbalmente las emociones que te produce una imagen que has visto?=1. Nunca\", \"marker\": {\"color\": \"rgb(213,62,79)\"}, \"name\": \"\\u00bfEres capaz de expresar verbalmente las emociones que te produce una imagen que has visto?=1. Nunca\", \"r\": [1, 10, 1, 1], \"showlegend\": true, \"theta\": [\"cluster_1\", \"cluster_2\", \"cluster_4\", \"cluster_5\"], \"type\": \"barpolar\", \"uid\": \"95a90b61-de2c-45aa-988d-bdcf5bd9d960\"}, {\"hovertemplate\": \"\\u00bfEres capaz de expresar verbalmente las emociones que te produce una imagen que has visto?=2. Muy pocas veces<br>counts=%{r}<br>prosume_cluster=%{theta}<extra></extra>\", \"legendgroup\": \"\\u00bfEres capaz de expresar verbalmente las emociones que te produce una imagen que has visto?=2. Muy pocas veces\", \"marker\": {\"color\": \"rgb(252,141,89)\"}, \"name\": \"\\u00bfEres capaz de expresar verbalmente las emociones que te produce una imagen que has visto?=2. Muy pocas veces\", \"r\": [11, 42, 3, 9, 35], \"showlegend\": true, \"theta\": [\"cluster_1\", \"cluster_2\", \"cluster_3\", \"cluster_4\", \"cluster_5\"], \"type\": \"barpolar\", \"uid\": \"6d9bbad8-673d-4b47-bc16-a93ff5760153\"}, {\"hovertemplate\": \"\\u00bfEres capaz de expresar verbalmente las emociones que te produce una imagen que has visto?=3. En ocasiones<br>counts=%{r}<br>prosume_cluster=%{theta}<extra></extra>\", \"legendgroup\": \"\\u00bfEres capaz de expresar verbalmente las emociones que te produce una imagen que has visto?=3. En ocasiones\", \"marker\": {\"color\": \"rgb(254,224,139)\"}, \"name\": \"\\u00bfEres capaz de expresar verbalmente las emociones que te produce una imagen que has visto?=3. En ocasiones\", \"r\": [12, 82, 23, 28, 142], \"showlegend\": true, \"theta\": [\"cluster_1\", \"cluster_2\", \"cluster_3\", \"cluster_4\", \"cluster_5\"], \"type\": \"barpolar\", \"uid\": \"919342d8-38bc-4597-a1d8-5c5e27819caa\"}, {\"hovertemplate\": \"\\u00bfEres capaz de expresar verbalmente las emociones que te produce una imagen que has visto?=4. Bastantes veces<br>counts=%{r}<br>prosume_cluster=%{theta}<extra></extra>\", \"legendgroup\": \"\\u00bfEres capaz de expresar verbalmente las emociones que te produce una imagen que has visto?=4. Bastantes veces\", \"marker\": {\"color\": \"rgb(230,245,152)\"}, \"name\": \"\\u00bfEres capaz de expresar verbalmente las emociones que te produce una imagen que has visto?=4. Bastantes veces\", \"r\": [12, 46, 56, 34, 106], \"showlegend\": true, \"theta\": [\"cluster_1\", \"cluster_2\", \"cluster_3\", \"cluster_4\", \"cluster_5\"], \"type\": \"barpolar\", \"uid\": \"a46b9bb6-7b07-4361-a297-4920581d8b34\"}, {\"hovertemplate\": \"\\u00bfEres capaz de expresar verbalmente las emociones que te produce una imagen que has visto?=5. Casi siempre o siempre<br>counts=%{r}<br>prosume_cluster=%{theta}<extra></extra>\", \"legendgroup\": \"\\u00bfEres capaz de expresar verbalmente las emociones que te produce una imagen que has visto?=5. Casi siempre o siempre\", \"marker\": {\"color\": \"rgb(153,213,148)\"}, \"name\": \"\\u00bfEres capaz de expresar verbalmente las emociones que te produce una imagen que has visto?=5. Casi siempre o siempre\", \"r\": [1, 16, 18, 26, 52], \"showlegend\": true, \"theta\": [\"cluster_1\", \"cluster_2\", \"cluster_3\", \"cluster_4\", \"cluster_5\"], \"type\": \"barpolar\", \"uid\": \"c2bbd070-9196-4b03-8d73-f71fdd9f41a0\"}], {\"barmode\": \"group\", \"barnorm\": \"\", \"height\": 600, \"legend\": {\"tracegroupgap\": 0}, \"margin\": {\"t\": 60}, \"template\": {\"data\": {\"barpolar\": [{\"marker\": {\"line\": {\"color\": \"#E5ECF6\", \"width\": 0.5}}, \"type\": \"barpolar\"}], \"bar\": [{\"marker\": {\"line\": {\"color\": \"#E5ECF6\", \"width\": 0.5}}, \"type\": \"bar\"}], \"carpet\": [{\"aaxis\": {\"endlinecolor\": \"#2a3f5f\", \"gridcolor\": \"white\", \"linecolor\": \"white\", \"minorgridcolor\": \"white\", \"startlinecolor\": \"#2a3f5f\"}, \"baxis\": {\"endlinecolor\": \"#2a3f5f\", \"gridcolor\": \"white\", \"linecolor\": \"white\", \"minorgridcolor\": \"white\", \"startlinecolor\": \"#2a3f5f\"}, \"type\": \"carpet\"}], \"choropleth\": [{\"colorbar\": {\"outlinewidth\": 0, \"ticks\": \"\"}, \"type\": \"choropleth\"}], \"contourcarpet\": [{\"colorbar\": {\"outlinewidth\": 0, \"ticks\": \"\"}, \"type\": \"contourcarpet\"}], \"contour\": [{\"autocolorscale\": true, \"colorbar\": {\"outlinewidth\": 0, \"ticks\": \"\"}, \"type\": \"contour\"}], \"heatmapgl\": [{\"colorbar\": {\"outlinewidth\": 0, \"ticks\": \"\"}, \"type\": \"heatmapgl\"}], \"heatmap\": [{\"autocolorscale\": true, \"colorbar\": {\"outlinewidth\": 0, \"ticks\": \"\"}, \"type\": \"heatmap\"}], \"histogram2dcontour\": [{\"autocolorscale\": true, \"colorbar\": {\"outlinewidth\": 0, \"ticks\": \"\"}, \"type\": \"histogram2dcontour\"}], \"histogram2d\": [{\"autocolorscale\": true, \"colorbar\": {\"outlinewidth\": 0, \"ticks\": \"\"}, \"type\": \"histogram2d\"}], \"histogram\": [{\"marker\": {\"colorbar\": {\"outlinewidth\": 0, \"ticks\": \"\"}}, \"type\": \"histogram\"}], \"mesh3d\": [{\"colorbar\": {\"outlinewidth\": 0, \"ticks\": \"\"}, \"type\": \"mesh3d\"}], \"parcoords\": [{\"line\": {\"colorbar\": {\"outlinewidth\": 0, \"ticks\": \"\"}}, \"type\": \"parcoords\"}], \"scatter3d\": [{\"marker\": {\"colorbar\": {\"outlinewidth\": 0, \"ticks\": \"\"}}, \"type\": \"scatter3d\"}], \"scattercarpet\": [{\"marker\": {\"colorbar\": {\"outlinewidth\": 0, \"ticks\": \"\"}}, \"type\": \"scattercarpet\"}], \"scattergeo\": [{\"marker\": {\"colorbar\": {\"outlinewidth\": 0, \"ticks\": \"\"}}, \"type\": \"scattergeo\"}], \"scattergl\": [{\"marker\": {\"colorbar\": {\"outlinewidth\": 0, \"ticks\": \"\"}}, \"type\": \"scattergl\"}], \"scattermapbox\": [{\"marker\": {\"colorbar\": {\"outlinewidth\": 0, \"ticks\": \"\"}}, \"type\": \"scattermapbox\"}], \"scatterpolargl\": [{\"marker\": {\"colorbar\": {\"outlinewidth\": 0, \"ticks\": \"\"}}, \"type\": \"scatterpolargl\"}], \"scatterpolar\": [{\"marker\": {\"colorbar\": {\"outlinewidth\": 0, \"ticks\": \"\"}}, \"type\": \"scatterpolar\"}], \"scatter\": [{\"marker\": {\"colorbar\": {\"outlinewidth\": 0, \"ticks\": \"\"}}, \"type\": \"scatter\"}], \"scatterternary\": [{\"marker\": {\"colorbar\": {\"outlinewidth\": 0, \"ticks\": \"\"}}, \"type\": \"scatterternary\"}], \"surface\": [{\"colorbar\": {\"outlinewidth\": 0, \"ticks\": \"\"}, \"type\": \"surface\"}], \"table\": [{\"cells\": {\"fill\": {\"color\": \"#EBF0F8\"}, \"line\": {\"color\": \"white\"}}, \"header\": {\"fill\": {\"color\": \"#C8D4E3\"}, \"line\": {\"color\": \"white\"}}, \"type\": \"table\"}]}, \"layout\": {\"annotationdefaults\": {\"arrowcolor\": \"#506784\", \"arrowhead\": 0, \"arrowwidth\": 1}, \"colorscale\": {\"diverging\": [[0, \"#8e0152\"], [0.1, \"#c51b7d\"], [0.2, \"#de77ae\"], [0.3, \"#f1b6da\"], [0.4, \"#fde0ef\"], [0.5, \"#f7f7f7\"], [0.6, \"#e6f5d0\"], [0.7, \"#b8e186\"], [0.8, \"#7fbc41\"], [0.9, \"#4d9221\"], [1, \"#276419\"]], \"sequential\": [[0.0, \"#0508b8\"], [0.0893854748603352, \"#1910d8\"], [0.1787709497206704, \"#3c19f0\"], [0.2681564245810056, \"#6b1cfb\"], [0.3575418994413408, \"#981cfd\"], [0.44692737430167595, \"#bf1cfd\"], [0.5363128491620112, \"#dd2bfd\"], [0.6256983240223464, \"#f246fe\"], [0.7150837988826816, \"#fc67fd\"], [0.8044692737430168, \"#fe88fc\"], [0.8938547486033519, \"#fea5fd\"], [0.9832402234636871, \"#febefe\"], [1.0, \"#fec3fe\"]], \"sequentialminus\": [[0.0, \"#0508b8\"], [0.0893854748603352, \"#1910d8\"], [0.1787709497206704, \"#3c19f0\"], [0.2681564245810056, \"#6b1cfb\"], [0.3575418994413408, \"#981cfd\"], [0.44692737430167595, \"#bf1cfd\"], [0.5363128491620112, \"#dd2bfd\"], [0.6256983240223464, \"#f246fe\"], [0.7150837988826816, \"#fc67fd\"], [0.8044692737430168, \"#fe88fc\"], [0.8938547486033519, \"#fea5fd\"], [0.9832402234636871, \"#febefe\"], [1.0, \"#fec3fe\"]]}, \"colorway\": [\"#636efa\", \"#EF553B\", \"#00cc96\", \"#ab63fa\", \"#19d3f3\", \"#e763fa\", \"#FECB52\", \"#FFA15A\", \"#FF6692\", \"#B6E880\"], \"font\": {\"color\": \"#2a3f5f\"}, \"geo\": {\"bgcolor\": \"white\", \"lakecolor\": \"white\", \"landcolor\": \"#E5ECF6\", \"showlakes\": true, \"showland\": true, \"subunitcolor\": \"white\"}, \"hovermode\": \"closest\", \"mapbox\": {\"style\": \"light\"}, \"paper_bgcolor\": \"white\", \"plot_bgcolor\": \"#E5ECF6\", \"polar\": {\"angularaxis\": {\"gridcolor\": \"white\", \"linecolor\": \"white\", \"ticks\": \"\"}, \"bgcolor\": \"#E5ECF6\", \"radialaxis\": {\"gridcolor\": \"white\", \"linecolor\": \"white\", \"ticks\": \"\"}}, \"scene\": {\"xaxis\": {\"backgroundcolor\": \"#E5ECF6\", \"gridcolor\": \"white\", \"gridwidth\": 2, \"linecolor\": \"white\", \"showbackground\": true, \"ticks\": \"\", \"zerolinecolor\": \"white\"}, \"yaxis\": {\"backgroundcolor\": \"#E5ECF6\", \"gridcolor\": \"white\", \"gridwidth\": 2, \"linecolor\": \"white\", \"showbackground\": true, \"ticks\": \"\", \"zerolinecolor\": \"white\"}, \"zaxis\": {\"backgroundcolor\": \"#E5ECF6\", \"gridcolor\": \"white\", \"gridwidth\": 2, \"linecolor\": \"white\", \"showbackground\": true, \"ticks\": \"\", \"zerolinecolor\": \"white\"}}, \"shapedefaults\": {\"fillcolor\": \"#506784\", \"line\": {\"width\": 0}, \"opacity\": 0.4}, \"ternary\": {\"aaxis\": {\"gridcolor\": \"white\", \"linecolor\": \"white\", \"ticks\": \"\"}, \"baxis\": {\"gridcolor\": \"white\", \"linecolor\": \"white\", \"ticks\": \"\"}, \"bgcolor\": \"#E5ECF6\", \"caxis\": {\"gridcolor\": \"white\", \"linecolor\": \"white\", \"ticks\": \"\"}}, \"title\": {\"x\": 0.05}, \"xaxis\": {\"automargin\": true, \"gridcolor\": \"white\", \"linecolor\": \"white\", \"ticks\": \"\", \"zerolinecolor\": \"white\", \"zerolinewidth\": 2}, \"yaxis\": {\"automargin\": true, \"gridcolor\": \"white\", \"linecolor\": \"white\", \"ticks\": \"\", \"zerolinecolor\": \"white\", \"zerolinewidth\": 2}}}, \"polar\": {\"angularaxis\": {\"direction\": \"clockwise\", \"rotation\": 90}}}, {\"showLink\": false, \"linkText\": \"Export to plot.ly\", \"plotlyServerURL\": \"https://plot.ly\"}); \n",
       "}\n",
       "});</script><script type=\"text/javascript\">window.addEventListener(\"resize\", function(){if (document.getElementById(\"dc2fe094-ee8f-46bc-905f-782ba3693c15\")) {window._Plotly.Plots.resize(document.getElementById(\"dc2fe094-ee8f-46bc-905f-782ba3693c15\"));};})</script>"
      ]
     },
     "metadata": {},
     "output_type": "display_data"
    }
   ],
   "source": [
    "compare_interpretation_images_by_prosume_clusters_esp(dataframe_with_clusters_esp)"
   ]
  },
  {
   "cell_type": "code",
   "execution_count": 12,
   "metadata": {},
   "outputs": [],
   "source": [
    "#compare_interpretation_images_by_prosume_clusters_en(dataframe_with_clusters_en)"
   ]
  }
 ],
 "metadata": {
  "kernelspec": {
   "display_name": "Python 3",
   "language": "python",
   "name": "python3"
  },
  "language_info": {
   "codemirror_mode": {
    "name": "ipython",
    "version": 3
   },
   "file_extension": ".py",
   "mimetype": "text/x-python",
   "name": "python",
   "nbconvert_exporter": "python",
   "pygments_lexer": "ipython3",
   "version": "3.6.8"
  }
 },
 "nbformat": 4,
 "nbformat_minor": 2
}

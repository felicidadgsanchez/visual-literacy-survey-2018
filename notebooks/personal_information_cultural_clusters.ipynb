{
 "cells": [
  {
   "cell_type": "code",
   "execution_count": 1,
   "metadata": {},
   "outputs": [
    {
     "name": "stdout",
     "output_type": "stream",
     "text": [
      "Importing Jupyter notebook from data_preparation.ipynb\n",
      "Importing Jupyter notebook from cultural_clustering.ipynb\n"
     ]
    }
   ],
   "source": [
    "import nbimporter\n",
    "from data_preparation import *\n",
    "from cultural_clustering import * "
   ]
  },
  {
   "cell_type": "code",
   "execution_count": 2,
   "metadata": {},
   "outputs": [
    {
     "data": {
      "text/html": [
       "<script type=\"text/javascript\">window.PlotlyConfig = {MathJaxConfig: 'local'};</script><script type=\"text/javascript\">if (window.MathJax) {MathJax.Hub.Config({SVG: {font: \"STIX-Web\"}});}</script><script>requirejs.config({paths: { 'plotly': ['https://cdn.plot.ly/plotly-latest.min']},});if(!window._Plotly) {require(['plotly'],function(plotly) {window._Plotly=plotly;});}</script>"
      ],
      "text/vnd.plotly.v1+html": [
       "<script type=\"text/javascript\">window.PlotlyConfig = {MathJaxConfig: 'local'};</script><script type=\"text/javascript\">if (window.MathJax) {MathJax.Hub.Config({SVG: {font: \"STIX-Web\"}});}</script><script>requirejs.config({paths: { 'plotly': ['https://cdn.plot.ly/plotly-latest.min']},});if(!window._Plotly) {require(['plotly'],function(plotly) {window._Plotly=plotly;});}</script>"
      ]
     },
     "metadata": {},
     "output_type": "display_data"
    }
   ],
   "source": [
    "import matplotlib.pyplot as plt\n",
    "plt.style.use('fivethirtyeight')\n",
    "import colorlover as cl\n",
    "import plotly_express as px\n",
    "\n",
    "from plotly.offline import download_plotlyjs, init_notebook_mode, plot, iplot\n",
    "import plotly.graph_objs as go\n",
    "init_notebook_mode(connected=True)"
   ]
  },
  {
   "cell_type": "code",
   "execution_count": 3,
   "metadata": {},
   "outputs": [
    {
     "name": "stderr",
     "output_type": "stream",
     "text": [
      "cultural_clustering.ipynb:17: DataConversionWarning:\n",
      "\n",
      "Data with input dtype int64, float64 were all converted to float64 by the scale function.\n",
      "\n"
     ]
    },
    {
     "data": {
      "text/html": [
       "<div>\n",
       "<style scoped>\n",
       "    .dataframe tbody tr th:only-of-type {\n",
       "        vertical-align: middle;\n",
       "    }\n",
       "\n",
       "    .dataframe tbody tr th {\n",
       "        vertical-align: top;\n",
       "    }\n",
       "\n",
       "    .dataframe thead th {\n",
       "        text-align: right;\n",
       "    }\n",
       "</style>\n",
       "<table border=\"1\" class=\"dataframe\">\n",
       "  <thead>\n",
       "    <tr style=\"text-align: right;\">\n",
       "      <th></th>\n",
       "      <th>Al reutilizar una imagen, ¿crees puedes redefinir el mensaje que el emisor ha pensado?</th>\n",
       "      <th>Cuando compartes imágenes en redes sociales, ¿las acompañas de texto siguiendo las indicaciones que te sugieren las aplicaciones (etiquetado, explicación de la imagen, texto inspirador, etc.)?</th>\n",
       "      <th>Cuando haces fotos desde cualquiera de los medios a tu alcance, ¿te facilitan el proceso las opciones que te ofrecen las aplicaciones (filtros, recortes, edición mediante grafismo, etc.)?</th>\n",
       "      <th>Cuando usas redes sociales, ¿consideras que ser aceptado como miembro de un grupo es más importante que tener autonomía e independencia?</th>\n",
       "      <th>En alguna ocasión, aún estando preparado para ello, ¿has dejado de incorporar imágenes en tus mensajes en redes sociales, aplicaciones móviles, etc., porque no entiendes cómo hacerlo?</th>\n",
       "      <th>¿Conoces autores/as que trabajen produciendo imágenes?</th>\n",
       "      <th>¿Crees que en la creacción de imágenes trabajan más mujeres, u hombres?</th>\n",
       "      <th>¿Crees que las imágenes producidas por hombres son diferentes a las que hacen mujeres?</th>\n",
       "      <th>¿Te gusta seguir a personas que admiras en redes sociales? ¿Eres fan o follower de alguna? ¿En ocasiones escribes comentarios en sus publicaciones?</th>\n",
       "      <th>Clasifica tu grado de visión</th>\n",
       "      <th>...</th>\n",
       "      <th>¿Qué tipo de aplicaciones utilizas en tu ordenador/tableta/móvil? (Respuesta múltiple) [1. Apps de contenidos audiovisuales (Netflix, HBO, etc.)]</th>\n",
       "      <th>¿Qué tipo de aplicaciones utilizas en tu ordenador/tableta/móvil? (Respuesta múltiple) [2. Aplicaciones de mensajería (Whatsapp, Facebook Messenger, etc.)]</th>\n",
       "      <th>¿Qué tipo de aplicaciones utilizas en tu ordenador/tableta/móvil? (Respuesta múltiple) [3. Bibliotecas de fotos online (Google Photos, iPhoto, etc.)]</th>\n",
       "      <th>¿Qué tipo de aplicaciones utilizas en tu ordenador/tableta/móvil? (Respuesta múltiple) [4. Redes sociales (Facebook, Instagram, Twitter, etc.).]</th>\n",
       "      <th>¿Qué tipo de aplicaciones utilizas en tu ordenador/tableta/móvil? (Respuesta múltiple) [5. Aplicaciones de vídeo (Youtube, Vimeo, etc.).]</th>\n",
       "      <th>¿Repites las imágenes hasta conseguir el resultado esperado?</th>\n",
       "      <th>¿Tienes acceso a dispositivos (ordenador, móvil, tablet, etc.) conectados a Internet habitualmente?</th>\n",
       "      <th>¿Tienes alguna carencia visual que afecte a la recepción de formas, colores, distancias, etc.?</th>\n",
       "      <th>¿Utilizas gafas o lentes de contacto?</th>\n",
       "      <th>cultural_cluster</th>\n",
       "    </tr>\n",
       "  </thead>\n",
       "  <tbody>\n",
       "    <tr>\n",
       "      <th>0</th>\n",
       "      <td>1</td>\n",
       "      <td>1</td>\n",
       "      <td>3</td>\n",
       "      <td>1</td>\n",
       "      <td>2</td>\n",
       "      <td>0</td>\n",
       "      <td>3</td>\n",
       "      <td>1</td>\n",
       "      <td>3</td>\n",
       "      <td>3</td>\n",
       "      <td>...</td>\n",
       "      <td>1</td>\n",
       "      <td>1</td>\n",
       "      <td>1</td>\n",
       "      <td>1</td>\n",
       "      <td>1</td>\n",
       "      <td>1</td>\n",
       "      <td>5</td>\n",
       "      <td>0</td>\n",
       "      <td>1</td>\n",
       "      <td>2</td>\n",
       "    </tr>\n",
       "    <tr>\n",
       "      <th>1</th>\n",
       "      <td>1</td>\n",
       "      <td>3</td>\n",
       "      <td>3</td>\n",
       "      <td>2</td>\n",
       "      <td>3</td>\n",
       "      <td>0</td>\n",
       "      <td>3</td>\n",
       "      <td>0</td>\n",
       "      <td>1</td>\n",
       "      <td>3</td>\n",
       "      <td>...</td>\n",
       "      <td>1</td>\n",
       "      <td>1</td>\n",
       "      <td>0</td>\n",
       "      <td>0</td>\n",
       "      <td>1</td>\n",
       "      <td>0</td>\n",
       "      <td>5</td>\n",
       "      <td>0</td>\n",
       "      <td>1</td>\n",
       "      <td>2</td>\n",
       "    </tr>\n",
       "    <tr>\n",
       "      <th>2</th>\n",
       "      <td>1</td>\n",
       "      <td>3</td>\n",
       "      <td>5</td>\n",
       "      <td>2</td>\n",
       "      <td>2</td>\n",
       "      <td>1</td>\n",
       "      <td>2</td>\n",
       "      <td>1</td>\n",
       "      <td>3</td>\n",
       "      <td>4</td>\n",
       "      <td>...</td>\n",
       "      <td>1</td>\n",
       "      <td>1</td>\n",
       "      <td>1</td>\n",
       "      <td>1</td>\n",
       "      <td>1</td>\n",
       "      <td>1</td>\n",
       "      <td>5</td>\n",
       "      <td>0</td>\n",
       "      <td>1</td>\n",
       "      <td>1</td>\n",
       "    </tr>\n",
       "    <tr>\n",
       "      <th>3</th>\n",
       "      <td>1</td>\n",
       "      <td>5</td>\n",
       "      <td>5</td>\n",
       "      <td>2</td>\n",
       "      <td>1</td>\n",
       "      <td>1</td>\n",
       "      <td>4</td>\n",
       "      <td>1</td>\n",
       "      <td>3</td>\n",
       "      <td>4</td>\n",
       "      <td>...</td>\n",
       "      <td>0</td>\n",
       "      <td>1</td>\n",
       "      <td>1</td>\n",
       "      <td>1</td>\n",
       "      <td>1</td>\n",
       "      <td>1</td>\n",
       "      <td>5</td>\n",
       "      <td>0</td>\n",
       "      <td>1</td>\n",
       "      <td>1</td>\n",
       "    </tr>\n",
       "    <tr>\n",
       "      <th>4</th>\n",
       "      <td>3</td>\n",
       "      <td>4</td>\n",
       "      <td>3</td>\n",
       "      <td>2</td>\n",
       "      <td>1</td>\n",
       "      <td>0</td>\n",
       "      <td>4</td>\n",
       "      <td>0</td>\n",
       "      <td>2</td>\n",
       "      <td>4</td>\n",
       "      <td>...</td>\n",
       "      <td>0</td>\n",
       "      <td>1</td>\n",
       "      <td>0</td>\n",
       "      <td>1</td>\n",
       "      <td>1</td>\n",
       "      <td>1</td>\n",
       "      <td>5</td>\n",
       "      <td>0</td>\n",
       "      <td>1</td>\n",
       "      <td>1</td>\n",
       "    </tr>\n",
       "  </tbody>\n",
       "</table>\n",
       "<p>5 rows × 79 columns</p>\n",
       "</div>"
      ],
      "text/plain": [
       "   Al reutilizar una imagen, ¿crees puedes redefinir el mensaje que el emisor ha pensado?  \\\n",
       "0                                                  1                                        \n",
       "1                                                  1                                        \n",
       "2                                                  1                                        \n",
       "3                                                  1                                        \n",
       "4                                                  3                                        \n",
       "\n",
       "   Cuando compartes imágenes en redes sociales, ¿las acompañas de texto siguiendo las indicaciones que te sugieren las aplicaciones (etiquetado, explicación de la imagen, texto inspirador, etc.)?  \\\n",
       "0                                                  1                                                                                                                                                  \n",
       "1                                                  3                                                                                                                                                  \n",
       "2                                                  3                                                                                                                                                  \n",
       "3                                                  5                                                                                                                                                  \n",
       "4                                                  4                                                                                                                                                  \n",
       "\n",
       "   Cuando haces fotos desde cualquiera de los medios a tu alcance, ¿te facilitan el proceso las opciones que te ofrecen las aplicaciones (filtros, recortes, edición mediante grafismo, etc.)?  \\\n",
       "0                                                  3                                                                                                                                             \n",
       "1                                                  3                                                                                                                                             \n",
       "2                                                  5                                                                                                                                             \n",
       "3                                                  5                                                                                                                                             \n",
       "4                                                  3                                                                                                                                             \n",
       "\n",
       "   Cuando usas redes sociales, ¿consideras que ser aceptado como miembro de un grupo es más importante que tener autonomía e independencia?  \\\n",
       "0                                                  1                                                                                          \n",
       "1                                                  2                                                                                          \n",
       "2                                                  2                                                                                          \n",
       "3                                                  2                                                                                          \n",
       "4                                                  2                                                                                          \n",
       "\n",
       "   En alguna ocasión, aún estando preparado para ello, ¿has dejado de incorporar imágenes en tus mensajes en redes sociales, aplicaciones móviles, etc., porque no entiendes cómo hacerlo?  \\\n",
       "0                                                  2                                                                                                                                         \n",
       "1                                                  3                                                                                                                                         \n",
       "2                                                  2                                                                                                                                         \n",
       "3                                                  1                                                                                                                                         \n",
       "4                                                  1                                                                                                                                         \n",
       "\n",
       "   ¿Conoces autores/as que trabajen produciendo imágenes?  \\\n",
       "0                                                  0        \n",
       "1                                                  0        \n",
       "2                                                  1        \n",
       "3                                                  1        \n",
       "4                                                  0        \n",
       "\n",
       "   ¿Crees que en la creacción de imágenes trabajan más mujeres, u hombres?  \\\n",
       "0                                                  3                         \n",
       "1                                                  3                         \n",
       "2                                                  2                         \n",
       "3                                                  4                         \n",
       "4                                                  4                         \n",
       "\n",
       "   ¿Crees que las imágenes producidas por hombres son diferentes a las que hacen mujeres?  \\\n",
       "0                                                  1                                        \n",
       "1                                                  0                                        \n",
       "2                                                  1                                        \n",
       "3                                                  1                                        \n",
       "4                                                  0                                        \n",
       "\n",
       "   ¿Te gusta seguir a personas que admiras en redes sociales? ¿Eres fan o follower de alguna? ¿En ocasiones escribes comentarios en sus publicaciones?  \\\n",
       "0                                                  3                                                                                                     \n",
       "1                                                  1                                                                                                     \n",
       "2                                                  3                                                                                                     \n",
       "3                                                  3                                                                                                     \n",
       "4                                                  2                                                                                                     \n",
       "\n",
       "   Clasifica tu grado de visión        ...         \\\n",
       "0                             3        ...          \n",
       "1                             3        ...          \n",
       "2                             4        ...          \n",
       "3                             4        ...          \n",
       "4                             4        ...          \n",
       "\n",
       "   ¿Qué tipo de aplicaciones utilizas en tu ordenador/tableta/móvil? (Respuesta múltiple) [1. Apps de contenidos audiovisuales (Netflix, HBO, etc.)]  \\\n",
       "0                                                  1                                                                                                   \n",
       "1                                                  1                                                                                                   \n",
       "2                                                  1                                                                                                   \n",
       "3                                                  0                                                                                                   \n",
       "4                                                  0                                                                                                   \n",
       "\n",
       "   ¿Qué tipo de aplicaciones utilizas en tu ordenador/tableta/móvil? (Respuesta múltiple) [2. Aplicaciones de mensajería (Whatsapp, Facebook Messenger, etc.)]  \\\n",
       "0                                                  1                                                                                                             \n",
       "1                                                  1                                                                                                             \n",
       "2                                                  1                                                                                                             \n",
       "3                                                  1                                                                                                             \n",
       "4                                                  1                                                                                                             \n",
       "\n",
       "   ¿Qué tipo de aplicaciones utilizas en tu ordenador/tableta/móvil? (Respuesta múltiple) [3. Bibliotecas de fotos online (Google Photos, iPhoto, etc.)]  \\\n",
       "0                                                  1                                                                                                       \n",
       "1                                                  0                                                                                                       \n",
       "2                                                  1                                                                                                       \n",
       "3                                                  1                                                                                                       \n",
       "4                                                  0                                                                                                       \n",
       "\n",
       "   ¿Qué tipo de aplicaciones utilizas en tu ordenador/tableta/móvil? (Respuesta múltiple) [4. Redes sociales (Facebook, Instagram, Twitter, etc.).]  \\\n",
       "0                                                  1                                                                                                  \n",
       "1                                                  0                                                                                                  \n",
       "2                                                  1                                                                                                  \n",
       "3                                                  1                                                                                                  \n",
       "4                                                  1                                                                                                  \n",
       "\n",
       "   ¿Qué tipo de aplicaciones utilizas en tu ordenador/tableta/móvil? (Respuesta múltiple) [5. Aplicaciones de vídeo (Youtube, Vimeo, etc.).]  \\\n",
       "0                                                  1                                                                                           \n",
       "1                                                  1                                                                                           \n",
       "2                                                  1                                                                                           \n",
       "3                                                  1                                                                                           \n",
       "4                                                  1                                                                                           \n",
       "\n",
       "   ¿Repites las imágenes hasta conseguir el resultado esperado?  \\\n",
       "0                                                  1              \n",
       "1                                                  0              \n",
       "2                                                  1              \n",
       "3                                                  1              \n",
       "4                                                  1              \n",
       "\n",
       "   ¿Tienes acceso a dispositivos (ordenador, móvil, tablet, etc.) conectados a Internet habitualmente?  \\\n",
       "0                                                  5                                                     \n",
       "1                                                  5                                                     \n",
       "2                                                  5                                                     \n",
       "3                                                  5                                                     \n",
       "4                                                  5                                                     \n",
       "\n",
       "   ¿Tienes alguna carencia visual que afecte a la recepción de formas, colores, distancias, etc.?  \\\n",
       "0                                                  0                                                \n",
       "1                                                  0                                                \n",
       "2                                                  0                                                \n",
       "3                                                  0                                                \n",
       "4                                                  0                                                \n",
       "\n",
       "   ¿Utilizas gafas o lentes de contacto?  cultural_cluster  \n",
       "0                                      1                 2  \n",
       "1                                      1                 2  \n",
       "2                                      1                 1  \n",
       "3                                      1                 1  \n",
       "4                                      1                 1  \n",
       "\n",
       "[5 rows x 79 columns]"
      ]
     },
     "execution_count": 3,
     "metadata": {},
     "output_type": "execute_result"
    }
   ],
   "source": [
    "dataframe_with_clusters_esp = get_dataframe_with_clusters_esp(get_dataframe_analysis_esp(True), 40)\n",
    "dataframe_with_clusters_esp.head()"
   ]
  },
  {
   "cell_type": "code",
   "execution_count": 4,
   "metadata": {},
   "outputs": [
    {
     "name": "stderr",
     "output_type": "stream",
     "text": [
      "cultural_clustering.ipynb:17: DataConversionWarning:\n",
      "\n",
      "Data with input dtype int64, float64 were all converted to float64 by the scale function.\n",
      "\n"
     ]
    },
    {
     "data": {
      "text/html": [
       "<div>\n",
       "<style scoped>\n",
       "    .dataframe tbody tr th:only-of-type {\n",
       "        vertical-align: middle;\n",
       "    }\n",
       "\n",
       "    .dataframe tbody tr th {\n",
       "        vertical-align: top;\n",
       "    }\n",
       "\n",
       "    .dataframe thead th {\n",
       "        text-align: right;\n",
       "    }\n",
       "</style>\n",
       "<table border=\"1\" class=\"dataframe\">\n",
       "  <thead>\n",
       "    <tr style=\"text-align: right;\">\n",
       "      <th></th>\n",
       "      <th>By reusing an image, can you redefine the message that the sender has thought about?</th>\n",
       "      <th>Do you know authors who work producing images?</th>\n",
       "      <th>Do you like to follow people you admire in social networks? Are you a fan or follower of any of them? Do you sometimes write comments in their publications?</th>\n",
       "      <th>Do you think that images produced by men are different from those made by women?</th>\n",
       "      <th>Do you think that in the creation of images work more women, or men?</th>\n",
       "      <th>On the occasion, even being prepared for it, have you stopped attaching images in your messages in social networks, mobile applications, etc., because you do not understand how to do it?</th>\n",
       "      <th>When you share images on social networks, do the text companions follow the indications suggested by the applications (labeling, explanation of the image, inspiring text, etc.)?</th>\n",
       "      <th>When you take photos from any of the media at your fingertips, do the process facilitate the options offered by the applications (filter application, cuts, graphic editing, etc.)?</th>\n",
       "      <th>When you use social networks, do you consider that being accepted as a member of a group is more important than having autonomy and independence?</th>\n",
       "      <th>Age</th>\n",
       "      <th>...</th>\n",
       "      <th>Which of the paired images do you find most attractive? 1/2 2/2.2</th>\n",
       "      <th>Which of the paired images do you find most attractive? 1/2 2/2.3</th>\n",
       "      <th>Which of the paired images do you find most attractive? 1/2 2/2.4</th>\n",
       "      <th>With whom do you usually share images? [1. Friends]</th>\n",
       "      <th>With whom do you usually share images? [2. Family]</th>\n",
       "      <th>With whom do you usually share images? [3. Partners]</th>\n",
       "      <th>With whom do you usually share images? [4. With all my acquaintances]</th>\n",
       "      <th>With whom do you usually share images? [5. With nobody]</th>\n",
       "      <th>Within your social networks or mobile applications, do you see visual information that you are not looking for (social awareness campaigns, jokes, advertising, etc.)?</th>\n",
       "      <th>cultural_cluster</th>\n",
       "    </tr>\n",
       "  </thead>\n",
       "  <tbody>\n",
       "    <tr>\n",
       "      <th>0</th>\n",
       "      <td>1</td>\n",
       "      <td>0</td>\n",
       "      <td>3</td>\n",
       "      <td>1</td>\n",
       "      <td>3</td>\n",
       "      <td>2</td>\n",
       "      <td>1</td>\n",
       "      <td>3</td>\n",
       "      <td>1</td>\n",
       "      <td>37</td>\n",
       "      <td>...</td>\n",
       "      <td>2</td>\n",
       "      <td>2</td>\n",
       "      <td>2</td>\n",
       "      <td>1</td>\n",
       "      <td>1</td>\n",
       "      <td>0</td>\n",
       "      <td>0</td>\n",
       "      <td>0</td>\n",
       "      <td>4</td>\n",
       "      <td>2</td>\n",
       "    </tr>\n",
       "    <tr>\n",
       "      <th>1</th>\n",
       "      <td>1</td>\n",
       "      <td>0</td>\n",
       "      <td>1</td>\n",
       "      <td>0</td>\n",
       "      <td>3</td>\n",
       "      <td>3</td>\n",
       "      <td>3</td>\n",
       "      <td>3</td>\n",
       "      <td>2</td>\n",
       "      <td>62</td>\n",
       "      <td>...</td>\n",
       "      <td>2</td>\n",
       "      <td>2</td>\n",
       "      <td>2</td>\n",
       "      <td>1</td>\n",
       "      <td>1</td>\n",
       "      <td>0</td>\n",
       "      <td>0</td>\n",
       "      <td>0</td>\n",
       "      <td>5</td>\n",
       "      <td>2</td>\n",
       "    </tr>\n",
       "    <tr>\n",
       "      <th>2</th>\n",
       "      <td>1</td>\n",
       "      <td>1</td>\n",
       "      <td>3</td>\n",
       "      <td>1</td>\n",
       "      <td>2</td>\n",
       "      <td>2</td>\n",
       "      <td>3</td>\n",
       "      <td>5</td>\n",
       "      <td>2</td>\n",
       "      <td>28</td>\n",
       "      <td>...</td>\n",
       "      <td>1</td>\n",
       "      <td>2</td>\n",
       "      <td>2</td>\n",
       "      <td>1</td>\n",
       "      <td>1</td>\n",
       "      <td>0</td>\n",
       "      <td>0</td>\n",
       "      <td>0</td>\n",
       "      <td>4</td>\n",
       "      <td>1</td>\n",
       "    </tr>\n",
       "    <tr>\n",
       "      <th>3</th>\n",
       "      <td>1</td>\n",
       "      <td>1</td>\n",
       "      <td>3</td>\n",
       "      <td>1</td>\n",
       "      <td>4</td>\n",
       "      <td>1</td>\n",
       "      <td>5</td>\n",
       "      <td>5</td>\n",
       "      <td>2</td>\n",
       "      <td>31</td>\n",
       "      <td>...</td>\n",
       "      <td>2</td>\n",
       "      <td>2</td>\n",
       "      <td>1</td>\n",
       "      <td>1</td>\n",
       "      <td>1</td>\n",
       "      <td>1</td>\n",
       "      <td>0</td>\n",
       "      <td>0</td>\n",
       "      <td>1</td>\n",
       "      <td>1</td>\n",
       "    </tr>\n",
       "    <tr>\n",
       "      <th>4</th>\n",
       "      <td>3</td>\n",
       "      <td>0</td>\n",
       "      <td>2</td>\n",
       "      <td>0</td>\n",
       "      <td>4</td>\n",
       "      <td>1</td>\n",
       "      <td>4</td>\n",
       "      <td>3</td>\n",
       "      <td>2</td>\n",
       "      <td>24</td>\n",
       "      <td>...</td>\n",
       "      <td>2</td>\n",
       "      <td>2</td>\n",
       "      <td>2</td>\n",
       "      <td>1</td>\n",
       "      <td>1</td>\n",
       "      <td>0</td>\n",
       "      <td>0</td>\n",
       "      <td>0</td>\n",
       "      <td>3</td>\n",
       "      <td>1</td>\n",
       "    </tr>\n",
       "  </tbody>\n",
       "</table>\n",
       "<p>5 rows × 79 columns</p>\n",
       "</div>"
      ],
      "text/plain": [
       "   By reusing an image, can you redefine the message that the sender has thought about?  \\\n",
       "0                                                  1                                      \n",
       "1                                                  1                                      \n",
       "2                                                  1                                      \n",
       "3                                                  1                                      \n",
       "4                                                  3                                      \n",
       "\n",
       "   Do you know authors who work producing images?  \\\n",
       "0                                               0   \n",
       "1                                               0   \n",
       "2                                               1   \n",
       "3                                               1   \n",
       "4                                               0   \n",
       "\n",
       "   Do you like to follow people you admire in social networks? Are you a fan or follower of any of them? Do you sometimes write comments in their publications?  \\\n",
       "0                                                  3                                                                                                              \n",
       "1                                                  1                                                                                                              \n",
       "2                                                  3                                                                                                              \n",
       "3                                                  3                                                                                                              \n",
       "4                                                  2                                                                                                              \n",
       "\n",
       "   Do you think that images produced by men are different from those made by women?  \\\n",
       "0                                                  1                                  \n",
       "1                                                  0                                  \n",
       "2                                                  1                                  \n",
       "3                                                  1                                  \n",
       "4                                                  0                                  \n",
       "\n",
       "   Do you think that in the creation of images work more women, or men?  \\\n",
       "0                                                  3                      \n",
       "1                                                  3                      \n",
       "2                                                  2                      \n",
       "3                                                  4                      \n",
       "4                                                  4                      \n",
       "\n",
       "   On the occasion, even being prepared for it, have you stopped attaching images in your messages in social networks, mobile applications, etc., because you do not understand how to do it?  \\\n",
       "0                                                  2                                                                                                                                            \n",
       "1                                                  3                                                                                                                                            \n",
       "2                                                  2                                                                                                                                            \n",
       "3                                                  1                                                                                                                                            \n",
       "4                                                  1                                                                                                                                            \n",
       "\n",
       "   When you share images on social networks, do the text companions follow the indications suggested by the applications (labeling, explanation of the image, inspiring text, etc.)?  \\\n",
       "0                                                  1                                                                                                                                   \n",
       "1                                                  3                                                                                                                                   \n",
       "2                                                  3                                                                                                                                   \n",
       "3                                                  5                                                                                                                                   \n",
       "4                                                  4                                                                                                                                   \n",
       "\n",
       "   When you take photos from any of the media at your fingertips, do the process facilitate the options offered by the applications (filter application, cuts, graphic editing, etc.)?  \\\n",
       "0                                                  3                                                                                                                                     \n",
       "1                                                  3                                                                                                                                     \n",
       "2                                                  5                                                                                                                                     \n",
       "3                                                  5                                                                                                                                     \n",
       "4                                                  3                                                                                                                                     \n",
       "\n",
       "   When you use social networks, do you consider that being accepted as a member of a group is more important than having autonomy and independence?  \\\n",
       "0                                                  1                                                                                                   \n",
       "1                                                  2                                                                                                   \n",
       "2                                                  2                                                                                                   \n",
       "3                                                  2                                                                                                   \n",
       "4                                                  2                                                                                                   \n",
       "\n",
       "   Age        ...         \\\n",
       "0   37        ...          \n",
       "1   62        ...          \n",
       "2   28        ...          \n",
       "3   31        ...          \n",
       "4   24        ...          \n",
       "\n",
       "   Which of the paired images do you find most attractive? 1/2 2/2.2  \\\n",
       "0                                                  2                   \n",
       "1                                                  2                   \n",
       "2                                                  1                   \n",
       "3                                                  2                   \n",
       "4                                                  2                   \n",
       "\n",
       "   Which of the paired images do you find most attractive? 1/2 2/2.3  \\\n",
       "0                                                  2                   \n",
       "1                                                  2                   \n",
       "2                                                  2                   \n",
       "3                                                  2                   \n",
       "4                                                  2                   \n",
       "\n",
       "   Which of the paired images do you find most attractive? 1/2 2/2.4  \\\n",
       "0                                                  2                   \n",
       "1                                                  2                   \n",
       "2                                                  2                   \n",
       "3                                                  1                   \n",
       "4                                                  2                   \n",
       "\n",
       "   With whom do you usually share images? [1. Friends]  \\\n",
       "0                                                  1     \n",
       "1                                                  1     \n",
       "2                                                  1     \n",
       "3                                                  1     \n",
       "4                                                  1     \n",
       "\n",
       "   With whom do you usually share images? [2. Family]  \\\n",
       "0                                                  1    \n",
       "1                                                  1    \n",
       "2                                                  1    \n",
       "3                                                  1    \n",
       "4                                                  1    \n",
       "\n",
       "   With whom do you usually share images? [3. Partners]  \\\n",
       "0                                                  0      \n",
       "1                                                  0      \n",
       "2                                                  0      \n",
       "3                                                  1      \n",
       "4                                                  0      \n",
       "\n",
       "   With whom do you usually share images? [4. With all my acquaintances]  \\\n",
       "0                                                  0                       \n",
       "1                                                  0                       \n",
       "2                                                  0                       \n",
       "3                                                  0                       \n",
       "4                                                  0                       \n",
       "\n",
       "   With whom do you usually share images? [5. With nobody]  \\\n",
       "0                                                  0         \n",
       "1                                                  0         \n",
       "2                                                  0         \n",
       "3                                                  0         \n",
       "4                                                  0         \n",
       "\n",
       "   Within your social networks or mobile applications, do you see visual information that you are not looking for (social awareness campaigns, jokes, advertising, etc.)?  \\\n",
       "0                                                  4                                                                                                                        \n",
       "1                                                  5                                                                                                                        \n",
       "2                                                  4                                                                                                                        \n",
       "3                                                  1                                                                                                                        \n",
       "4                                                  3                                                                                                                        \n",
       "\n",
       "   cultural_cluster  \n",
       "0                 2  \n",
       "1                 2  \n",
       "2                 1  \n",
       "3                 1  \n",
       "4                 1  \n",
       "\n",
       "[5 rows x 79 columns]"
      ]
     },
     "execution_count": 4,
     "metadata": {},
     "output_type": "execute_result"
    }
   ],
   "source": [
    "dataframe_with_clusters_en = get_dataframe_with_clusters_en(get_dataframe_analysis_en(True), 40)\n",
    "dataframe_with_clusters_en.head()"
   ]
  },
  {
   "cell_type": "code",
   "execution_count": 5,
   "metadata": {},
   "outputs": [],
   "source": [
    "def visualize_personal_info_by_cultural_clusters_esp(dataframe):\n",
    "\n",
    "    for selected_cluster in dataframe['cultural_cluster'].unique():\n",
    "        for column in get_personal_information_items_esp():\n",
    "            try:\n",
    "                print(\"\\n\\nCluster \"+str(selected_cluster) +\n",
    "                      \" || variable: \"+str(column))\n",
    "                print(f'Describiendo la pregunta {column}')\n",
    "                dict_item = get_data_replacements(str(column))\n",
    "                if dict_item:\n",
    "                    print(\n",
    "                        f'Valores numéricos asociados a las respuestas {list(dict_item.keys())}')\n",
    "                    print(\n",
    "                        f'Respuestas posibles a la pregunta/variable {list(dict_item.values())}')\n",
    "                \n",
    "                if column == 'Edad':\n",
    "                    color_scale = cl.interp(cl.scales['9']['div']['Spectral'], dataframe['Edad'].value_counts().nunique())\n",
    "                    values_list = dataframe['Edad'].value_counts().unique()\n",
    "                    color_list = []\n",
    "                    for value in dataframe['Edad'].value_counts().sort_index():\n",
    "                        color_list.append(color_scale[list(values_list).index(value)])\n",
    "                    color_marker = dict(color=color_list)\n",
    "                elif column == 'Nacionalidad':\n",
    "                    color_marker = dict(color=cl.interp(cl.scales['9']['div']['Spectral'], dataframe['Nacionalidad'].nunique()))\n",
    "                else:\n",
    "                    color_marker = dict(color=cl.scales['6']['div']['Spectral'])\n",
    "                \n",
    "                display(dataframe.loc[dataframe['cultural_cluster']\n",
    "                                      == selected_cluster][column].describe())\n",
    "                print(\n",
    "                    f'Conteo de cada valor en {column} expresada como valor / cantidad')\n",
    "                display(dataframe.loc[dataframe['cultural_cluster'] ==\n",
    "                                      selected_cluster][column].value_counts().sort_index())\n",
    "                print(\n",
    "                    f'Porcentaje de cada valor en {column} expresado como valor / porcentaje')\n",
    "                display(dataframe.loc[dataframe['cultural_cluster'] == selected_cluster][column].value_counts(\n",
    "                    normalize=True).sort_index().round(4) * 100)\n",
    "                # sns.distplot(workCleanDummiesCluster.loc[workCleanDummiesCluster['cluster'] == selected_cluster][column], kde=False, rug=True);\n",
    "                data = [go.Bar(x=sorted(dataframe.loc[dataframe['cultural_cluster'] == selected_cluster][column].unique()),\n",
    "                               y=dataframe.loc[dataframe['cultural_cluster'] == selected_cluster][column].value_counts().reindex(\n",
    "                                   dataframe.loc[dataframe['cultural_cluster'] == selected_cluster][column].unique(), fill_value=0).sort_index(),\n",
    "                               marker=color_marker)]\n",
    "\n",
    "                if dict_item:\n",
    "                    layout = go.Layout(\n",
    "                        xaxis=go.layout.XAxis(\n",
    "                            ticktext=list(dict_item.values()),\n",
    "                            tickvals=list(dict_item.keys()),\n",
    "                        ),\n",
    "                        bargap=0.2,\n",
    "                    )\n",
    "                    fig = go.Figure(data, layout)\n",
    "                    iplot(fig)\n",
    "                else:\n",
    "                    iplot(data)\n",
    "                plt.show()\n",
    "            except BaseException:\n",
    "                pass"
   ]
  },
  {
   "cell_type": "code",
   "execution_count": 6,
   "metadata": {},
   "outputs": [],
   "source": [
    "def visualize_personal_info_by_cultural_clusters_en(dataframe):\n",
    "    \n",
    "    for selected_cluster in dataframe['cultural_cluster'].unique():\n",
    "        for column in get_personal_information_items_en():\n",
    "            try:\n",
    "                print(\"\\n\\nCluster \"+str(selected_cluster) +\n",
    "                      \" || feature: \"+str(column))\n",
    "\n",
    "                print(f'Describing the feature {column}')\n",
    "                dict_item = get_data_replacements(str(column))\n",
    "                if dict_item:\n",
    "                    print(\n",
    "                        f'Numeric values associated to the responses {list(dict_item.keys())}')\n",
    "                    print(\n",
    "                        f'Possible responses to the question/variable {list(dict_item.values())}')\n",
    "\n",
    "                if column == 'Age':\n",
    "                    color_scale = cl.interp(cl.scales['9']['div']['Spectral'], dataframe['Age'].value_counts().nunique())\n",
    "                    values_list = dataframe['Age'].value_counts().unique()\n",
    "                    color_list = []\n",
    "                    for value in dataframe['Age'].value_counts().sort_index():\n",
    "                        color_list.append(color_scale[list(values_list).index(value)])\n",
    "                    color_marker = dict(color=color_list)\n",
    "                elif column == 'Nationality':\n",
    "                    color_marker = dict(color=cl.interp(cl.scales['9']['div']['Spectral'], dataframe['Nationality'].nunique()))\n",
    "                else:\n",
    "                    color_marker = dict(color=cl.scales['6']['div']['Spectral'])\n",
    "                display(dataframe.loc[dataframe['cultural_cluster']\n",
    "                                      == selected_cluster][column].describe())\n",
    "                print(\n",
    "                    f'Count of each value in {column} expresed as value / amount')\n",
    "                display(dataframe.loc[dataframe['cultural_cluster'] ==\n",
    "                                      selected_cluster][column].value_counts().sort_index())\n",
    "                print(\n",
    "                    f'Percentage of each value in {column} expresed as value / percentage')\n",
    "                display(dataframe.loc[dataframe['cultural_cluster'] == selected_cluster][column].value_counts(\n",
    "                    normalize=True).sort_index().round(4) * 100)\n",
    "                # sns.distplot(workCleanDummiesCluster.loc[workCleanDummiesCluster['cluster'] == selected_cluster][column], kde=False, rug=True);\n",
    "                data = [go.Bar(x=sorted(dataframe.loc[dataframe['cultural_cluster'] == selected_cluster][column].unique()),\n",
    "                               y=dataframe.loc[dataframe['cultural_cluster'] == selected_cluster][column].value_counts().reindex(\n",
    "                                   dataframe.loc[dataframe['cultural_cluster'] == selected_cluster][column].unique(), fill_value=0).sort_index(),\n",
    "                               marker=color_marker)]\n",
    "\n",
    "                if dict_item:\n",
    "                    layout = go.Layout(\n",
    "                        xaxis=go.layout.XAxis(\n",
    "                            ticktext=list(dict_item.values()),\n",
    "                            tickvals=list(dict_item.keys()),\n",
    "                        ),\n",
    "                        bargap=0.2,\n",
    "                    )\n",
    "                    fig = go.Figure(data, layout)\n",
    "                    iplot(fig)\n",
    "                else:\n",
    "                    iplot(data)\n",
    "                plt.show()\n",
    "            except BaseException:\n",
    "                pass"
   ]
  },
  {
   "cell_type": "code",
   "execution_count": 7,
   "metadata": {},
   "outputs": [],
   "source": [
    "def compare_personal_info_by_cultural_clusters_esp(dataframe):\n",
    "    temp_dataframe = dataframe.copy()\n",
    "    temp_dataframe['cultural_cluster'] = 'cluster_' + temp_dataframe['cultural_cluster'].astype(str)\n",
    "    for column in get_personal_information_items_esp():\n",
    "        try:\n",
    "            newDataframe = pd.DataFrame(temp_dataframe.groupby('cultural_cluster')[column].value_counts(dropna=True, sort=True).reset_index(name='counts'))\n",
    "            if get_data_replacements(str(column)):\n",
    "                newDataframe[column] = newDataframe[column].apply(get_data_replacements(str(column)).get)\n",
    "            print(f'Comparando la pregunta {column}')\n",
    "            iplot(px.bar_polar(newDataframe, r='counts', theta=\"cultural_cluster\", color=column,\n",
    "            color_discrete_sequence= cl.scales['6']['div']['Spectral'], barmode=\"group\"))\n",
    "            # plt.show()\n",
    "        except KeyError:\n",
    "            pass"
   ]
  },
  {
   "cell_type": "code",
   "execution_count": 8,
   "metadata": {},
   "outputs": [],
   "source": [
    "def compare_personal_info_by_cultural_clusters_en(dataframe):\n",
    "    temp_dataframe = dataframe.copy()\n",
    "    temp_dataframe['cultural_cluster'] = 'cluster_' + temp_dataframe['cultural_cluster'].astype(str)\n",
    "    for column in get_personal_information_items_en():\n",
    "        try:\n",
    "            newDataframe = pd.DataFrame(temp_dataframe.groupby('cultural_cluster')[column].value_counts(dropna=True, sort=True).reset_index(name='counts'))\n",
    "            if get_data_replacements(str(column)):\n",
    "                newDataframe[column] = newDataframe[column].apply(get_data_replacements(str(column)).get)\n",
    "            print(f'Comparing the feature {column}')\n",
    "            iplot(px.bar_polar(newDataframe, r='counts', theta=\"cultural_cluster\", color=column,\n",
    "            color_discrete_sequence= cl.scales['6']['div']['Spectral'], barmode=\"group\"))\n",
    "            # plt.show()\n",
    "        except KeyError:\n",
    "            pass"
   ]
  },
  {
   "cell_type": "code",
   "execution_count": 9,
   "metadata": {
    "scrolled": false
   },
   "outputs": [
    {
     "name": "stdout",
     "output_type": "stream",
     "text": [
      "\n",
      "\n",
      "Cluster 2 || variable: Género\n",
      "Describiendo la pregunta Género\n"
     ]
    },
    {
     "data": {
      "text/plain": [
       "count    301.000000\n",
       "mean       0.548173\n",
       "std        0.498503\n",
       "min        0.000000\n",
       "25%        0.000000\n",
       "50%        1.000000\n",
       "75%        1.000000\n",
       "max        1.000000\n",
       "Name: Género, dtype: float64"
      ]
     },
     "metadata": {},
     "output_type": "display_data"
    },
    {
     "name": "stdout",
     "output_type": "stream",
     "text": [
      "Conteo de cada valor en Género expresada como valor / cantidad\n"
     ]
    },
    {
     "data": {
      "text/plain": [
       "0    136\n",
       "1    165\n",
       "Name: Género, dtype: int64"
      ]
     },
     "metadata": {},
     "output_type": "display_data"
    },
    {
     "name": "stdout",
     "output_type": "stream",
     "text": [
      "Porcentaje de cada valor en Género expresado como valor / porcentaje\n"
     ]
    },
    {
     "data": {
      "text/plain": [
       "0    45.18\n",
       "1    54.82\n",
       "Name: Género, dtype: float64"
      ]
     },
     "metadata": {},
     "output_type": "display_data"
    },
    {
     "data": {
      "application/vnd.plotly.v1+json": {
       "config": {
        "linkText": "Export to plot.ly",
        "plotlyServerURL": "https://plot.ly",
        "showLink": false
       },
       "data": [
        {
         "marker": {
          "color": [
           "rgb(213,62,79)",
           "rgb(252,141,89)",
           "rgb(254,224,139)",
           "rgb(230,245,152)",
           "rgb(153,213,148)",
           "rgb(50,136,189)"
          ]
         },
         "type": "bar",
         "uid": "8e710f72-45af-492c-8fcf-236daaacd607",
         "x": [
          0,
          1
         ],
         "y": [
          136,
          165
         ]
        }
       ],
       "layout": {}
      },
      "text/html": [
       "<div id=\"e18ba198-af4d-4d06-9ecf-5928ac35c073\" style=\"height: 525px; width: 100%;\" class=\"plotly-graph-div\"></div><script type=\"text/javascript\">require([\"plotly\"], function(Plotly) { window.PLOTLYENV=window.PLOTLYENV || {};window.PLOTLYENV.BASE_URL=\"https://plot.ly\";\n",
       "if (document.getElementById(\"e18ba198-af4d-4d06-9ecf-5928ac35c073\")) {\n",
       "    Plotly.newPlot(\"e18ba198-af4d-4d06-9ecf-5928ac35c073\", [{\"marker\": {\"color\": [\"rgb(213,62,79)\", \"rgb(252,141,89)\", \"rgb(254,224,139)\", \"rgb(230,245,152)\", \"rgb(153,213,148)\", \"rgb(50,136,189)\"]}, \"x\": [0, 1], \"y\": [136, 165], \"type\": \"bar\", \"uid\": \"9f9f7bb8-f345-4cf9-8bba-5c935c3d9d6b\"}], {}, {\"showLink\": false, \"linkText\": \"Export to plot.ly\", \"plotlyServerURL\": \"https://plot.ly\"}); \n",
       "}\n",
       "});</script><script type=\"text/javascript\">window.addEventListener(\"resize\", function(){if (document.getElementById(\"e18ba198-af4d-4d06-9ecf-5928ac35c073\")) {window._Plotly.Plots.resize(document.getElementById(\"e18ba198-af4d-4d06-9ecf-5928ac35c073\"));};})</script>"
      ],
      "text/vnd.plotly.v1+html": [
       "<div id=\"e18ba198-af4d-4d06-9ecf-5928ac35c073\" style=\"height: 525px; width: 100%;\" class=\"plotly-graph-div\"></div><script type=\"text/javascript\">require([\"plotly\"], function(Plotly) { window.PLOTLYENV=window.PLOTLYENV || {};window.PLOTLYENV.BASE_URL=\"https://plot.ly\";\n",
       "if (document.getElementById(\"e18ba198-af4d-4d06-9ecf-5928ac35c073\")) {\n",
       "    Plotly.newPlot(\"e18ba198-af4d-4d06-9ecf-5928ac35c073\", [{\"marker\": {\"color\": [\"rgb(213,62,79)\", \"rgb(252,141,89)\", \"rgb(254,224,139)\", \"rgb(230,245,152)\", \"rgb(153,213,148)\", \"rgb(50,136,189)\"]}, \"x\": [0, 1], \"y\": [136, 165], \"type\": \"bar\", \"uid\": \"9f9f7bb8-f345-4cf9-8bba-5c935c3d9d6b\"}], {}, {\"showLink\": false, \"linkText\": \"Export to plot.ly\", \"plotlyServerURL\": \"https://plot.ly\"}); \n",
       "}\n",
       "});</script><script type=\"text/javascript\">window.addEventListener(\"resize\", function(){if (document.getElementById(\"e18ba198-af4d-4d06-9ecf-5928ac35c073\")) {window._Plotly.Plots.resize(document.getElementById(\"e18ba198-af4d-4d06-9ecf-5928ac35c073\"));};})</script>"
      ]
     },
     "metadata": {},
     "output_type": "display_data"
    },
    {
     "name": "stdout",
     "output_type": "stream",
     "text": [
      "\n",
      "\n",
      "Cluster 2 || variable: Edad\n",
      "Describiendo la pregunta Edad\n"
     ]
    },
    {
     "data": {
      "text/plain": [
       "count    301.000000\n",
       "mean      36.528239\n",
       "std       12.918335\n",
       "min       13.000000\n",
       "25%       27.000000\n",
       "50%       34.000000\n",
       "75%       43.000000\n",
       "max       81.000000\n",
       "Name: Edad, dtype: float64"
      ]
     },
     "metadata": {},
     "output_type": "display_data"
    },
    {
     "name": "stdout",
     "output_type": "stream",
     "text": [
      "Conteo de cada valor en Edad expresada como valor / cantidad\n"
     ]
    },
    {
     "data": {
      "text/plain": [
       "13     1\n",
       "14     1\n",
       "16     1\n",
       "17     1\n",
       "18     1\n",
       "19     5\n",
       "20     4\n",
       "21     3\n",
       "22     4\n",
       "23     5\n",
       "24    24\n",
       "25     3\n",
       "26    10\n",
       "27    15\n",
       "28    16\n",
       "29    12\n",
       "30    15\n",
       "31    12\n",
       "32     9\n",
       "33     8\n",
       "34    15\n",
       "35     7\n",
       "36     8\n",
       "37    12\n",
       "38     9\n",
       "39     5\n",
       "40     5\n",
       "41     6\n",
       "42     5\n",
       "43     5\n",
       "44     4\n",
       "45     5\n",
       "46     8\n",
       "47     4\n",
       "48     3\n",
       "49     1\n",
       "51     4\n",
       "53     6\n",
       "54     3\n",
       "55     4\n",
       "56     2\n",
       "57     4\n",
       "58     1\n",
       "59     2\n",
       "60     3\n",
       "61     3\n",
       "62     5\n",
       "65     1\n",
       "66     1\n",
       "67     3\n",
       "68     1\n",
       "69     1\n",
       "70     1\n",
       "73     1\n",
       "78     1\n",
       "81     2\n",
       "Name: Edad, dtype: int64"
      ]
     },
     "metadata": {},
     "output_type": "display_data"
    },
    {
     "name": "stdout",
     "output_type": "stream",
     "text": [
      "Porcentaje de cada valor en Edad expresado como valor / porcentaje\n"
     ]
    },
    {
     "data": {
      "text/plain": [
       "13    0.33\n",
       "14    0.33\n",
       "16    0.33\n",
       "17    0.33\n",
       "18    0.33\n",
       "19    1.66\n",
       "20    1.33\n",
       "21    1.00\n",
       "22    1.33\n",
       "23    1.66\n",
       "24    7.97\n",
       "25    1.00\n",
       "26    3.32\n",
       "27    4.98\n",
       "28    5.32\n",
       "29    3.99\n",
       "30    4.98\n",
       "31    3.99\n",
       "32    2.99\n",
       "33    2.66\n",
       "34    4.98\n",
       "35    2.33\n",
       "36    2.66\n",
       "37    3.99\n",
       "38    2.99\n",
       "39    1.66\n",
       "40    1.66\n",
       "41    1.99\n",
       "42    1.66\n",
       "43    1.66\n",
       "44    1.33\n",
       "45    1.66\n",
       "46    2.66\n",
       "47    1.33\n",
       "48    1.00\n",
       "49    0.33\n",
       "51    1.33\n",
       "53    1.99\n",
       "54    1.00\n",
       "55    1.33\n",
       "56    0.66\n",
       "57    1.33\n",
       "58    0.33\n",
       "59    0.66\n",
       "60    1.00\n",
       "61    1.00\n",
       "62    1.66\n",
       "65    0.33\n",
       "66    0.33\n",
       "67    1.00\n",
       "68    0.33\n",
       "69    0.33\n",
       "70    0.33\n",
       "73    0.33\n",
       "78    0.33\n",
       "81    0.66\n",
       "Name: Edad, dtype: float64"
      ]
     },
     "metadata": {},
     "output_type": "display_data"
    },
    {
     "data": {
      "application/vnd.plotly.v1+json": {
       "config": {
        "linkText": "Export to plot.ly",
        "plotlyServerURL": "https://plot.ly",
        "showLink": false
       },
       "data": [
        {
         "marker": {
          "color": [
           "hsl(147.27999999999997, 42.84%, 62.760000000000005%)",
           "hsl(18.2, 90.52%, 62.24%)",
           "hsl(47.2, 98.4%, 79.0%)",
           "hsl(74.16000000000001, 77.56%, 76.76%)",
           "hsl(147.27999999999997, 42.84%, 62.760000000000005%)",
           "hsl(67.2, 85.60000000000001%, 79.0%)",
           "hsl(64.32000000000001, 91.35999999999999%, 82.19999999999999%)",
           "hsl(67.2, 85.60000000000001%, 79.0%)",
           "hsl(27.799999999999997, 96.28%, 67.36%)",
           "hsl(57.44, 99.68%, 85.4%)",
           "hsl(37.4, 97.56%, 73.04%)",
           "hsl(353.0, 64.0%, 53.0%)",
           "hsl(32.6, 97.24%, 70.16%)",
           "hsl(13.160000000000025, 87.03999999999999%, 59.72%)",
           "hsl(359.72, 71.68%, 55.24%)",
           "hsl(353.0, 64.0%, 53.0%)",
           "hsl(6.439999999999998, 79.36%, 57.480000000000004%)",
           "hsl(359.72, 71.68%, 55.24%)",
           "hsl(27.799999999999997, 96.28%, 67.36%)",
           "hsl(27.799999999999997, 96.28%, 67.36%)",
           "hsl(27.799999999999997, 96.28%, 67.36%)",
           "hsl(23.0, 93.4%, 64.8%)",
           "hsl(18.2, 90.52%, 62.24%)",
           "hsl(52.32, 99.04%, 82.2%)",
           "hsl(47.2, 98.4%, 79.0%)",
           "hsl(42.2, 97.88%, 75.92%)",
           "hsl(61.44, 97.12%, 85.4%)",
           "hsl(87.92000000000002, 65.71999999999998%, 76.12%)",
           "hsl(87.92000000000002, 65.71999999999998%, 76.12%)",
           "hsl(64.32000000000001, 91.35999999999999%, 82.19999999999999%)",
           "hsl(64.32000000000001, 91.35999999999999%, 82.19999999999999%)",
           "hsl(101.67999999999999, 53.88000000000001%, 75.48%)",
           "hsl(101.67999999999999, 53.88000000000001%, 75.48%)",
           "hsl(61.44, 97.12%, 85.4%)",
           "hsl(87.92000000000002, 65.71999999999998%, 76.12%)",
           "hsl(147.27999999999997, 42.84%, 62.760000000000005%)",
           "hsl(162.64000000000001, 42.64%, 57.519999999999996%)",
           "hsl(131.60000000000002, 43.8%, 68.19999999999999%)",
           "hsl(131.60000000000002, 43.8%, 68.19999999999999%)",
           "hsl(188.88, 52.879999999999995%, 49.84%)",
           "hsl(101.67999999999999, 53.88000000000001%, 75.48%)",
           "hsl(162.64000000000001, 42.64%, 57.519999999999996%)",
           "hsl(115.92, 44.76%, 73.64%)",
           "hsl(147.27999999999997, 42.84%, 62.760000000000005%)",
           "hsl(131.60000000000002, 43.8%, 68.19999999999999%)",
           "hsl(202.0, 58.0%, 46.0%)",
           "hsl(188.88, 52.879999999999995%, 49.84%)",
           "hsl(147.27999999999997, 42.84%, 62.760000000000005%)",
           "hsl(175.76000000000002, 47.760000000000005%, 53.67999999999999%)",
           "hsl(115.92, 44.76%, 73.64%)",
           "hsl(202.0, 58.0%, 46.0%)",
           "hsl(175.76000000000002, 47.760000000000005%, 53.67999999999999%)",
           "hsl(188.88, 52.879999999999995%, 49.84%)",
           "hsl(188.88, 52.879999999999995%, 49.84%)",
           "hsl(162.64000000000001, 42.64%, 57.519999999999996%)",
           "hsl(202.0, 58.0%, 46.0%)",
           "hsl(188.88, 52.879999999999995%, 49.84%)",
           "hsl(202.0, 58.0%, 46.0%)",
           "hsl(202.0, 58.0%, 46.0%)",
           "hsl(202.0, 58.0%, 46.0%)",
           "hsl(202.0, 58.0%, 46.0%)",
           "hsl(188.88, 52.879999999999995%, 49.84%)"
          ]
         },
         "type": "bar",
         "uid": "71376915-6bb9-49d4-941a-5b463dd845eb",
         "x": [
          13,
          14,
          16,
          17,
          18,
          19,
          20,
          21,
          22,
          23,
          24,
          25,
          26,
          27,
          28,
          29,
          30,
          31,
          32,
          33,
          34,
          35,
          36,
          37,
          38,
          39,
          40,
          41,
          42,
          43,
          44,
          45,
          46,
          47,
          48,
          49,
          51,
          53,
          54,
          55,
          56,
          57,
          58,
          59,
          60,
          61,
          62,
          65,
          66,
          67,
          68,
          69,
          70,
          73,
          78,
          81
         ],
         "y": [
          1,
          1,
          1,
          1,
          1,
          5,
          4,
          3,
          4,
          5,
          24,
          3,
          10,
          15,
          16,
          12,
          15,
          12,
          9,
          8,
          15,
          7,
          8,
          12,
          9,
          5,
          5,
          6,
          5,
          5,
          4,
          5,
          8,
          4,
          3,
          1,
          4,
          6,
          3,
          4,
          2,
          4,
          1,
          2,
          3,
          3,
          5,
          1,
          1,
          3,
          1,
          1,
          1,
          1,
          1,
          2
         ]
        }
       ],
       "layout": {}
      },
      "text/html": [
       "<div id=\"cc5cc6bb-3f4a-4fea-9b36-f7553e58e3a6\" style=\"height: 525px; width: 100%;\" class=\"plotly-graph-div\"></div><script type=\"text/javascript\">require([\"plotly\"], function(Plotly) { window.PLOTLYENV=window.PLOTLYENV || {};window.PLOTLYENV.BASE_URL=\"https://plot.ly\";\n",
       "if (document.getElementById(\"cc5cc6bb-3f4a-4fea-9b36-f7553e58e3a6\")) {\n",
       "    Plotly.newPlot(\"cc5cc6bb-3f4a-4fea-9b36-f7553e58e3a6\", [{\"marker\": {\"color\": [\"hsl(147.27999999999997, 42.84%, 62.760000000000005%)\", \"hsl(18.2, 90.52%, 62.24%)\", \"hsl(47.2, 98.4%, 79.0%)\", \"hsl(74.16000000000001, 77.56%, 76.76%)\", \"hsl(147.27999999999997, 42.84%, 62.760000000000005%)\", \"hsl(67.2, 85.60000000000001%, 79.0%)\", \"hsl(64.32000000000001, 91.35999999999999%, 82.19999999999999%)\", \"hsl(67.2, 85.60000000000001%, 79.0%)\", \"hsl(27.799999999999997, 96.28%, 67.36%)\", \"hsl(57.44, 99.68%, 85.4%)\", \"hsl(37.4, 97.56%, 73.04%)\", \"hsl(353.0, 64.0%, 53.0%)\", \"hsl(32.6, 97.24%, 70.16%)\", \"hsl(13.160000000000025, 87.03999999999999%, 59.72%)\", \"hsl(359.72, 71.68%, 55.24%)\", \"hsl(353.0, 64.0%, 53.0%)\", \"hsl(6.439999999999998, 79.36%, 57.480000000000004%)\", \"hsl(359.72, 71.68%, 55.24%)\", \"hsl(27.799999999999997, 96.28%, 67.36%)\", \"hsl(27.799999999999997, 96.28%, 67.36%)\", \"hsl(27.799999999999997, 96.28%, 67.36%)\", \"hsl(23.0, 93.4%, 64.8%)\", \"hsl(18.2, 90.52%, 62.24%)\", \"hsl(52.32, 99.04%, 82.2%)\", \"hsl(47.2, 98.4%, 79.0%)\", \"hsl(42.2, 97.88%, 75.92%)\", \"hsl(61.44, 97.12%, 85.4%)\", \"hsl(87.92000000000002, 65.71999999999998%, 76.12%)\", \"hsl(87.92000000000002, 65.71999999999998%, 76.12%)\", \"hsl(64.32000000000001, 91.35999999999999%, 82.19999999999999%)\", \"hsl(64.32000000000001, 91.35999999999999%, 82.19999999999999%)\", \"hsl(101.67999999999999, 53.88000000000001%, 75.48%)\", \"hsl(101.67999999999999, 53.88000000000001%, 75.48%)\", \"hsl(61.44, 97.12%, 85.4%)\", \"hsl(87.92000000000002, 65.71999999999998%, 76.12%)\", \"hsl(147.27999999999997, 42.84%, 62.760000000000005%)\", \"hsl(162.64000000000001, 42.64%, 57.519999999999996%)\", \"hsl(131.60000000000002, 43.8%, 68.19999999999999%)\", \"hsl(131.60000000000002, 43.8%, 68.19999999999999%)\", \"hsl(188.88, 52.879999999999995%, 49.84%)\", \"hsl(101.67999999999999, 53.88000000000001%, 75.48%)\", \"hsl(162.64000000000001, 42.64%, 57.519999999999996%)\", \"hsl(115.92, 44.76%, 73.64%)\", \"hsl(147.27999999999997, 42.84%, 62.760000000000005%)\", \"hsl(131.60000000000002, 43.8%, 68.19999999999999%)\", \"hsl(202.0, 58.0%, 46.0%)\", \"hsl(188.88, 52.879999999999995%, 49.84%)\", \"hsl(147.27999999999997, 42.84%, 62.760000000000005%)\", \"hsl(175.76000000000002, 47.760000000000005%, 53.67999999999999%)\", \"hsl(115.92, 44.76%, 73.64%)\", \"hsl(202.0, 58.0%, 46.0%)\", \"hsl(175.76000000000002, 47.760000000000005%, 53.67999999999999%)\", \"hsl(188.88, 52.879999999999995%, 49.84%)\", \"hsl(188.88, 52.879999999999995%, 49.84%)\", \"hsl(162.64000000000001, 42.64%, 57.519999999999996%)\", \"hsl(202.0, 58.0%, 46.0%)\", \"hsl(188.88, 52.879999999999995%, 49.84%)\", \"hsl(202.0, 58.0%, 46.0%)\", \"hsl(202.0, 58.0%, 46.0%)\", \"hsl(202.0, 58.0%, 46.0%)\", \"hsl(202.0, 58.0%, 46.0%)\", \"hsl(188.88, 52.879999999999995%, 49.84%)\"]}, \"x\": [13, 14, 16, 17, 18, 19, 20, 21, 22, 23, 24, 25, 26, 27, 28, 29, 30, 31, 32, 33, 34, 35, 36, 37, 38, 39, 40, 41, 42, 43, 44, 45, 46, 47, 48, 49, 51, 53, 54, 55, 56, 57, 58, 59, 60, 61, 62, 65, 66, 67, 68, 69, 70, 73, 78, 81], \"y\": [1, 1, 1, 1, 1, 5, 4, 3, 4, 5, 24, 3, 10, 15, 16, 12, 15, 12, 9, 8, 15, 7, 8, 12, 9, 5, 5, 6, 5, 5, 4, 5, 8, 4, 3, 1, 4, 6, 3, 4, 2, 4, 1, 2, 3, 3, 5, 1, 1, 3, 1, 1, 1, 1, 1, 2], \"type\": \"bar\", \"uid\": \"c5ab0972-a00a-4924-82eb-9884d746ed83\"}], {}, {\"showLink\": false, \"linkText\": \"Export to plot.ly\", \"plotlyServerURL\": \"https://plot.ly\"}); \n",
       "}\n",
       "});</script><script type=\"text/javascript\">window.addEventListener(\"resize\", function(){if (document.getElementById(\"cc5cc6bb-3f4a-4fea-9b36-f7553e58e3a6\")) {window._Plotly.Plots.resize(document.getElementById(\"cc5cc6bb-3f4a-4fea-9b36-f7553e58e3a6\"));};})</script>"
      ],
      "text/vnd.plotly.v1+html": [
       "<div id=\"cc5cc6bb-3f4a-4fea-9b36-f7553e58e3a6\" style=\"height: 525px; width: 100%;\" class=\"plotly-graph-div\"></div><script type=\"text/javascript\">require([\"plotly\"], function(Plotly) { window.PLOTLYENV=window.PLOTLYENV || {};window.PLOTLYENV.BASE_URL=\"https://plot.ly\";\n",
       "if (document.getElementById(\"cc5cc6bb-3f4a-4fea-9b36-f7553e58e3a6\")) {\n",
       "    Plotly.newPlot(\"cc5cc6bb-3f4a-4fea-9b36-f7553e58e3a6\", [{\"marker\": {\"color\": [\"hsl(147.27999999999997, 42.84%, 62.760000000000005%)\", \"hsl(18.2, 90.52%, 62.24%)\", \"hsl(47.2, 98.4%, 79.0%)\", \"hsl(74.16000000000001, 77.56%, 76.76%)\", \"hsl(147.27999999999997, 42.84%, 62.760000000000005%)\", \"hsl(67.2, 85.60000000000001%, 79.0%)\", \"hsl(64.32000000000001, 91.35999999999999%, 82.19999999999999%)\", \"hsl(67.2, 85.60000000000001%, 79.0%)\", \"hsl(27.799999999999997, 96.28%, 67.36%)\", \"hsl(57.44, 99.68%, 85.4%)\", \"hsl(37.4, 97.56%, 73.04%)\", \"hsl(353.0, 64.0%, 53.0%)\", \"hsl(32.6, 97.24%, 70.16%)\", \"hsl(13.160000000000025, 87.03999999999999%, 59.72%)\", \"hsl(359.72, 71.68%, 55.24%)\", \"hsl(353.0, 64.0%, 53.0%)\", \"hsl(6.439999999999998, 79.36%, 57.480000000000004%)\", \"hsl(359.72, 71.68%, 55.24%)\", \"hsl(27.799999999999997, 96.28%, 67.36%)\", \"hsl(27.799999999999997, 96.28%, 67.36%)\", \"hsl(27.799999999999997, 96.28%, 67.36%)\", \"hsl(23.0, 93.4%, 64.8%)\", \"hsl(18.2, 90.52%, 62.24%)\", \"hsl(52.32, 99.04%, 82.2%)\", \"hsl(47.2, 98.4%, 79.0%)\", \"hsl(42.2, 97.88%, 75.92%)\", \"hsl(61.44, 97.12%, 85.4%)\", \"hsl(87.92000000000002, 65.71999999999998%, 76.12%)\", \"hsl(87.92000000000002, 65.71999999999998%, 76.12%)\", \"hsl(64.32000000000001, 91.35999999999999%, 82.19999999999999%)\", \"hsl(64.32000000000001, 91.35999999999999%, 82.19999999999999%)\", \"hsl(101.67999999999999, 53.88000000000001%, 75.48%)\", \"hsl(101.67999999999999, 53.88000000000001%, 75.48%)\", \"hsl(61.44, 97.12%, 85.4%)\", \"hsl(87.92000000000002, 65.71999999999998%, 76.12%)\", \"hsl(147.27999999999997, 42.84%, 62.760000000000005%)\", \"hsl(162.64000000000001, 42.64%, 57.519999999999996%)\", \"hsl(131.60000000000002, 43.8%, 68.19999999999999%)\", \"hsl(131.60000000000002, 43.8%, 68.19999999999999%)\", \"hsl(188.88, 52.879999999999995%, 49.84%)\", \"hsl(101.67999999999999, 53.88000000000001%, 75.48%)\", \"hsl(162.64000000000001, 42.64%, 57.519999999999996%)\", \"hsl(115.92, 44.76%, 73.64%)\", \"hsl(147.27999999999997, 42.84%, 62.760000000000005%)\", \"hsl(131.60000000000002, 43.8%, 68.19999999999999%)\", \"hsl(202.0, 58.0%, 46.0%)\", \"hsl(188.88, 52.879999999999995%, 49.84%)\", \"hsl(147.27999999999997, 42.84%, 62.760000000000005%)\", \"hsl(175.76000000000002, 47.760000000000005%, 53.67999999999999%)\", \"hsl(115.92, 44.76%, 73.64%)\", \"hsl(202.0, 58.0%, 46.0%)\", \"hsl(175.76000000000002, 47.760000000000005%, 53.67999999999999%)\", \"hsl(188.88, 52.879999999999995%, 49.84%)\", \"hsl(188.88, 52.879999999999995%, 49.84%)\", \"hsl(162.64000000000001, 42.64%, 57.519999999999996%)\", \"hsl(202.0, 58.0%, 46.0%)\", \"hsl(188.88, 52.879999999999995%, 49.84%)\", \"hsl(202.0, 58.0%, 46.0%)\", \"hsl(202.0, 58.0%, 46.0%)\", \"hsl(202.0, 58.0%, 46.0%)\", \"hsl(202.0, 58.0%, 46.0%)\", \"hsl(188.88, 52.879999999999995%, 49.84%)\"]}, \"x\": [13, 14, 16, 17, 18, 19, 20, 21, 22, 23, 24, 25, 26, 27, 28, 29, 30, 31, 32, 33, 34, 35, 36, 37, 38, 39, 40, 41, 42, 43, 44, 45, 46, 47, 48, 49, 51, 53, 54, 55, 56, 57, 58, 59, 60, 61, 62, 65, 66, 67, 68, 69, 70, 73, 78, 81], \"y\": [1, 1, 1, 1, 1, 5, 4, 3, 4, 5, 24, 3, 10, 15, 16, 12, 15, 12, 9, 8, 15, 7, 8, 12, 9, 5, 5, 6, 5, 5, 4, 5, 8, 4, 3, 1, 4, 6, 3, 4, 2, 4, 1, 2, 3, 3, 5, 1, 1, 3, 1, 1, 1, 1, 1, 2], \"type\": \"bar\", \"uid\": \"c5ab0972-a00a-4924-82eb-9884d746ed83\"}], {}, {\"showLink\": false, \"linkText\": \"Export to plot.ly\", \"plotlyServerURL\": \"https://plot.ly\"}); \n",
       "}\n",
       "});</script><script type=\"text/javascript\">window.addEventListener(\"resize\", function(){if (document.getElementById(\"cc5cc6bb-3f4a-4fea-9b36-f7553e58e3a6\")) {window._Plotly.Plots.resize(document.getElementById(\"cc5cc6bb-3f4a-4fea-9b36-f7553e58e3a6\"));};})</script>"
      ]
     },
     "metadata": {},
     "output_type": "display_data"
    },
    {
     "name": "stdout",
     "output_type": "stream",
     "text": [
      "\n",
      "\n",
      "Cluster 2 || variable: Nacionalidad\n",
      "Describiendo la pregunta Nacionalidad\n",
      "Valores numéricos asociados a las respuestas [0, 1, 2, 3, 4, 5, 6, 7, 8, 9, 10, 11, 12, 13, 14, 15, 16, 17, 18, 19, 20, 21, 22, 23, 24, 25, 26, 27, 28, 29, 30, 31, 32, 33]\n",
      "Respuestas posibles a la pregunta/variable ['España', 'Colombia', 'México', 'República Dominicana', 'Austria', 'Chile', 'Francia', 'Canadá', 'Nigeria', 'China', 'Australia', 'Rusia', 'Alemania', 'Brasil', 'Estados Unidos de América', 'India', 'Eslovaquia', 'Italia', 'Inglaterra', 'Cuba', 'Ukrania', 'Venezuela', 'Indonesia', 'Albania', 'Paquistan', 'Bahamas', 'Argentina', 'Islandia', 'Escocia', 'Sudán', 'Nueva Zelanda', 'Irlanda', 'Macedonia', 'Unknown']\n"
     ]
    },
    {
     "data": {
      "text/plain": [
       "count    301.000000\n",
       "mean      13.009967\n",
       "std        8.084341\n",
       "min        0.000000\n",
       "25%       14.000000\n",
       "50%       14.000000\n",
       "75%       15.000000\n",
       "max       33.000000\n",
       "Name: Nacionalidad, dtype: float64"
      ]
     },
     "metadata": {},
     "output_type": "display_data"
    },
    {
     "name": "stdout",
     "output_type": "stream",
     "text": [
      "Conteo de cada valor en Nacionalidad expresada como valor / cantidad\n"
     ]
    },
    {
     "data": {
      "text/plain": [
       "0      56\n",
       "2       1\n",
       "6       5\n",
       "7       4\n",
       "11      1\n",
       "13      1\n",
       "14    130\n",
       "15     61\n",
       "16      1\n",
       "17      5\n",
       "18      7\n",
       "21      4\n",
       "23      1\n",
       "24      1\n",
       "25      1\n",
       "27      1\n",
       "30      1\n",
       "31      1\n",
       "32      1\n",
       "33     18\n",
       "Name: Nacionalidad, dtype: int64"
      ]
     },
     "metadata": {},
     "output_type": "display_data"
    },
    {
     "name": "stdout",
     "output_type": "stream",
     "text": [
      "Porcentaje de cada valor en Nacionalidad expresado como valor / porcentaje\n"
     ]
    },
    {
     "data": {
      "text/plain": [
       "0     18.60\n",
       "2      0.33\n",
       "6      1.66\n",
       "7      1.33\n",
       "11     0.33\n",
       "13     0.33\n",
       "14    43.19\n",
       "15    20.27\n",
       "16     0.33\n",
       "17     1.66\n",
       "18     2.33\n",
       "21     1.33\n",
       "23     0.33\n",
       "24     0.33\n",
       "25     0.33\n",
       "27     0.33\n",
       "30     0.33\n",
       "31     0.33\n",
       "32     0.33\n",
       "33     5.98\n",
       "Name: Nacionalidad, dtype: float64"
      ]
     },
     "metadata": {},
     "output_type": "display_data"
    },
    {
     "data": {
      "application/vnd.plotly.v1+json": {
       "config": {
        "linkText": "Export to plot.ly",
        "plotlyServerURL": "https://plot.ly",
        "showLink": false
       },
       "data": [
        {
         "marker": {
          "color": [
           "hsl(353.0, 64.0%, 53.0%)",
           "hsl(358.09090909090907, 69.81818181818181%, 54.696969696969695%)",
           "hsl(3.181818181818187, 75.63636363636364%, 56.39393939393939%)",
           "hsl(8.272727272727252, 81.45454545454545%, 58.09090909090909%)",
           "hsl(13.363636363636374, 87.27272727272728%, 59.78787878787879%)",
           "hsl(17.181818181818183, 89.9090909090909%, 61.696969696969695%)",
           "hsl(20.81818181818182, 92.0909090909091%, 63.63636363636364%)",
           "hsl(24.454545454545453, 94.27272727272728%, 65.57575757575758%)",
           "hsl(28.090909090909093, 96.45454545454545%, 67.51515151515152%)",
           "hsl(31.727272727272727, 97.18181818181819%, 69.63636363636364%)",
           "hsl(35.36363636363637, 97.42424242424242%, 71.81818181818181%)",
           "hsl(39.0, 97.66666666666667%, 74.0%)",
           "hsl(42.63636363636364, 97.9090909090909%, 76.18181818181819%)",
           "hsl(46.42424242424242, 98.3030303030303%, 78.51515151515152%)",
           "hsl(50.303030303030305, 98.78787878787878%, 80.93939393939394%)",
           "hsl(54.18181818181818, 99.27272727272727%, 83.36363636363636%)",
           "hsl(58.06060606060606, 99.75757575757575%, 85.78787878787878%)",
           "hsl(61.09090909090909, 97.81818181818181%, 85.78787878787878%)",
           "hsl(63.272727272727266, 93.45454545454547%, 83.36363636363637%)",
           "hsl(65.45454545454545, 89.09090909090908%, 80.93939393939394%)",
           "hsl(67.63636363636364, 84.72727272727272%, 78.51515151515152%)",
           "hsl(72.9090909090909, 78.63636363636364%, 76.81818181818181%)",
           "hsl(83.33333333333331, 69.66666666666669%, 76.33333333333333%)",
           "hsl(93.75757575757578, 60.69696969696968%, 75.84848484848484%)",
           "hsl(104.18181818181819, 51.72727272727272%, 75.36363636363636%)",
           "hsl(114.96969696969697, 44.81818181818182%, 73.96969696969697%)",
           "hsl(126.84848484848483, 44.09090909090909%, 69.84848484848486%)",
           "hsl(138.72727272727275, 43.36363636363636%, 65.72727272727272%)",
           "hsl(150.60606060606062, 42.63636363636363%, 61.6060606060606%)",
           "hsl(162.24242424242425, 42.484848484848484%, 57.63636363636364%)",
           "hsl(172.1818181818182, 46.36363636363636%, 54.727272727272734%)",
           "hsl(182.12121212121212, 50.24242424242425%, 51.81818181818181%)",
           "hsl(192.06060606060606, 54.121212121212125%, 48.90909090909091%)",
           "hsl(202.0, 58.0%, 46.0%)"
          ]
         },
         "type": "bar",
         "uid": "31bf0982-2532-40be-b072-c3ece03a7708",
         "x": [
          0,
          2,
          6,
          7,
          11,
          13,
          14,
          15,
          16,
          17,
          18,
          21,
          23,
          24,
          25,
          27,
          30,
          31,
          32,
          33
         ],
         "y": [
          56,
          1,
          5,
          4,
          1,
          1,
          130,
          61,
          1,
          5,
          7,
          4,
          1,
          1,
          1,
          1,
          1,
          1,
          1,
          18
         ]
        }
       ],
       "layout": {
        "bargap": 0.2,
        "xaxis": {
         "ticktext": [
          "España",
          "Colombia",
          "México",
          "República Dominicana",
          "Austria",
          "Chile",
          "Francia",
          "Canadá",
          "Nigeria",
          "China",
          "Australia",
          "Rusia",
          "Alemania",
          "Brasil",
          "Estados Unidos de América",
          "India",
          "Eslovaquia",
          "Italia",
          "Inglaterra",
          "Cuba",
          "Ukrania",
          "Venezuela",
          "Indonesia",
          "Albania",
          "Paquistan",
          "Bahamas",
          "Argentina",
          "Islandia",
          "Escocia",
          "Sudán",
          "Nueva Zelanda",
          "Irlanda",
          "Macedonia",
          "Unknown"
         ],
         "tickvals": [
          0,
          1,
          2,
          3,
          4,
          5,
          6,
          7,
          8,
          9,
          10,
          11,
          12,
          13,
          14,
          15,
          16,
          17,
          18,
          19,
          20,
          21,
          22,
          23,
          24,
          25,
          26,
          27,
          28,
          29,
          30,
          31,
          32,
          33
         ]
        }
       }
      },
      "text/html": [
       "<div id=\"1f00b016-d737-4d79-a97e-23f74d702cb0\" style=\"height: 525px; width: 100%;\" class=\"plotly-graph-div\"></div><script type=\"text/javascript\">require([\"plotly\"], function(Plotly) { window.PLOTLYENV=window.PLOTLYENV || {};window.PLOTLYENV.BASE_URL=\"https://plot.ly\";\n",
       "if (document.getElementById(\"1f00b016-d737-4d79-a97e-23f74d702cb0\")) {\n",
       "    Plotly.newPlot(\"1f00b016-d737-4d79-a97e-23f74d702cb0\", [{\"marker\": {\"color\": [\"hsl(353.0, 64.0%, 53.0%)\", \"hsl(358.09090909090907, 69.81818181818181%, 54.696969696969695%)\", \"hsl(3.181818181818187, 75.63636363636364%, 56.39393939393939%)\", \"hsl(8.272727272727252, 81.45454545454545%, 58.09090909090909%)\", \"hsl(13.363636363636374, 87.27272727272728%, 59.78787878787879%)\", \"hsl(17.181818181818183, 89.9090909090909%, 61.696969696969695%)\", \"hsl(20.81818181818182, 92.0909090909091%, 63.63636363636364%)\", \"hsl(24.454545454545453, 94.27272727272728%, 65.57575757575758%)\", \"hsl(28.090909090909093, 96.45454545454545%, 67.51515151515152%)\", \"hsl(31.727272727272727, 97.18181818181819%, 69.63636363636364%)\", \"hsl(35.36363636363637, 97.42424242424242%, 71.81818181818181%)\", \"hsl(39.0, 97.66666666666667%, 74.0%)\", \"hsl(42.63636363636364, 97.9090909090909%, 76.18181818181819%)\", \"hsl(46.42424242424242, 98.3030303030303%, 78.51515151515152%)\", \"hsl(50.303030303030305, 98.78787878787878%, 80.93939393939394%)\", \"hsl(54.18181818181818, 99.27272727272727%, 83.36363636363636%)\", \"hsl(58.06060606060606, 99.75757575757575%, 85.78787878787878%)\", \"hsl(61.09090909090909, 97.81818181818181%, 85.78787878787878%)\", \"hsl(63.272727272727266, 93.45454545454547%, 83.36363636363637%)\", \"hsl(65.45454545454545, 89.09090909090908%, 80.93939393939394%)\", \"hsl(67.63636363636364, 84.72727272727272%, 78.51515151515152%)\", \"hsl(72.9090909090909, 78.63636363636364%, 76.81818181818181%)\", \"hsl(83.33333333333331, 69.66666666666669%, 76.33333333333333%)\", \"hsl(93.75757575757578, 60.69696969696968%, 75.84848484848484%)\", \"hsl(104.18181818181819, 51.72727272727272%, 75.36363636363636%)\", \"hsl(114.96969696969697, 44.81818181818182%, 73.96969696969697%)\", \"hsl(126.84848484848483, 44.09090909090909%, 69.84848484848486%)\", \"hsl(138.72727272727275, 43.36363636363636%, 65.72727272727272%)\", \"hsl(150.60606060606062, 42.63636363636363%, 61.6060606060606%)\", \"hsl(162.24242424242425, 42.484848484848484%, 57.63636363636364%)\", \"hsl(172.1818181818182, 46.36363636363636%, 54.727272727272734%)\", \"hsl(182.12121212121212, 50.24242424242425%, 51.81818181818181%)\", \"hsl(192.06060606060606, 54.121212121212125%, 48.90909090909091%)\", \"hsl(202.0, 58.0%, 46.0%)\"]}, \"x\": [0, 2, 6, 7, 11, 13, 14, 15, 16, 17, 18, 21, 23, 24, 25, 27, 30, 31, 32, 33], \"y\": [56, 1, 5, 4, 1, 1, 130, 61, 1, 5, 7, 4, 1, 1, 1, 1, 1, 1, 1, 18], \"type\": \"bar\", \"uid\": \"31bf0982-2532-40be-b072-c3ece03a7708\"}], {\"bargap\": 0.2, \"xaxis\": {\"ticktext\": [\"Espa\\u00f1a\", \"Colombia\", \"M\\u00e9xico\", \"Rep\\u00fablica Dominicana\", \"Austria\", \"Chile\", \"Francia\", \"Canad\\u00e1\", \"Nigeria\", \"China\", \"Australia\", \"Rusia\", \"Alemania\", \"Brasil\", \"Estados Unidos de Am\\u00e9rica\", \"India\", \"Eslovaquia\", \"Italia\", \"Inglaterra\", \"Cuba\", \"Ukrania\", \"Venezuela\", \"Indonesia\", \"Albania\", \"Paquistan\", \"Bahamas\", \"Argentina\", \"Islandia\", \"Escocia\", \"Sud\\u00e1n\", \"Nueva Zelanda\", \"Irlanda\", \"Macedonia\", \"Unknown\"], \"tickvals\": [0, 1, 2, 3, 4, 5, 6, 7, 8, 9, 10, 11, 12, 13, 14, 15, 16, 17, 18, 19, 20, 21, 22, 23, 24, 25, 26, 27, 28, 29, 30, 31, 32, 33]}}, {\"showLink\": false, \"linkText\": \"Export to plot.ly\", \"plotlyServerURL\": \"https://plot.ly\"}); \n",
       "}\n",
       "});</script><script type=\"text/javascript\">window.addEventListener(\"resize\", function(){if (document.getElementById(\"1f00b016-d737-4d79-a97e-23f74d702cb0\")) {window._Plotly.Plots.resize(document.getElementById(\"1f00b016-d737-4d79-a97e-23f74d702cb0\"));};})</script>"
      ],
      "text/vnd.plotly.v1+html": [
       "<div id=\"1f00b016-d737-4d79-a97e-23f74d702cb0\" style=\"height: 525px; width: 100%;\" class=\"plotly-graph-div\"></div><script type=\"text/javascript\">require([\"plotly\"], function(Plotly) { window.PLOTLYENV=window.PLOTLYENV || {};window.PLOTLYENV.BASE_URL=\"https://plot.ly\";\n",
       "if (document.getElementById(\"1f00b016-d737-4d79-a97e-23f74d702cb0\")) {\n",
       "    Plotly.newPlot(\"1f00b016-d737-4d79-a97e-23f74d702cb0\", [{\"marker\": {\"color\": [\"hsl(353.0, 64.0%, 53.0%)\", \"hsl(358.09090909090907, 69.81818181818181%, 54.696969696969695%)\", \"hsl(3.181818181818187, 75.63636363636364%, 56.39393939393939%)\", \"hsl(8.272727272727252, 81.45454545454545%, 58.09090909090909%)\", \"hsl(13.363636363636374, 87.27272727272728%, 59.78787878787879%)\", \"hsl(17.181818181818183, 89.9090909090909%, 61.696969696969695%)\", \"hsl(20.81818181818182, 92.0909090909091%, 63.63636363636364%)\", \"hsl(24.454545454545453, 94.27272727272728%, 65.57575757575758%)\", \"hsl(28.090909090909093, 96.45454545454545%, 67.51515151515152%)\", \"hsl(31.727272727272727, 97.18181818181819%, 69.63636363636364%)\", \"hsl(35.36363636363637, 97.42424242424242%, 71.81818181818181%)\", \"hsl(39.0, 97.66666666666667%, 74.0%)\", \"hsl(42.63636363636364, 97.9090909090909%, 76.18181818181819%)\", \"hsl(46.42424242424242, 98.3030303030303%, 78.51515151515152%)\", \"hsl(50.303030303030305, 98.78787878787878%, 80.93939393939394%)\", \"hsl(54.18181818181818, 99.27272727272727%, 83.36363636363636%)\", \"hsl(58.06060606060606, 99.75757575757575%, 85.78787878787878%)\", \"hsl(61.09090909090909, 97.81818181818181%, 85.78787878787878%)\", \"hsl(63.272727272727266, 93.45454545454547%, 83.36363636363637%)\", \"hsl(65.45454545454545, 89.09090909090908%, 80.93939393939394%)\", \"hsl(67.63636363636364, 84.72727272727272%, 78.51515151515152%)\", \"hsl(72.9090909090909, 78.63636363636364%, 76.81818181818181%)\", \"hsl(83.33333333333331, 69.66666666666669%, 76.33333333333333%)\", \"hsl(93.75757575757578, 60.69696969696968%, 75.84848484848484%)\", \"hsl(104.18181818181819, 51.72727272727272%, 75.36363636363636%)\", \"hsl(114.96969696969697, 44.81818181818182%, 73.96969696969697%)\", \"hsl(126.84848484848483, 44.09090909090909%, 69.84848484848486%)\", \"hsl(138.72727272727275, 43.36363636363636%, 65.72727272727272%)\", \"hsl(150.60606060606062, 42.63636363636363%, 61.6060606060606%)\", \"hsl(162.24242424242425, 42.484848484848484%, 57.63636363636364%)\", \"hsl(172.1818181818182, 46.36363636363636%, 54.727272727272734%)\", \"hsl(182.12121212121212, 50.24242424242425%, 51.81818181818181%)\", \"hsl(192.06060606060606, 54.121212121212125%, 48.90909090909091%)\", \"hsl(202.0, 58.0%, 46.0%)\"]}, \"x\": [0, 2, 6, 7, 11, 13, 14, 15, 16, 17, 18, 21, 23, 24, 25, 27, 30, 31, 32, 33], \"y\": [56, 1, 5, 4, 1, 1, 130, 61, 1, 5, 7, 4, 1, 1, 1, 1, 1, 1, 1, 18], \"type\": \"bar\", \"uid\": \"31bf0982-2532-40be-b072-c3ece03a7708\"}], {\"bargap\": 0.2, \"xaxis\": {\"ticktext\": [\"Espa\\u00f1a\", \"Colombia\", \"M\\u00e9xico\", \"Rep\\u00fablica Dominicana\", \"Austria\", \"Chile\", \"Francia\", \"Canad\\u00e1\", \"Nigeria\", \"China\", \"Australia\", \"Rusia\", \"Alemania\", \"Brasil\", \"Estados Unidos de Am\\u00e9rica\", \"India\", \"Eslovaquia\", \"Italia\", \"Inglaterra\", \"Cuba\", \"Ukrania\", \"Venezuela\", \"Indonesia\", \"Albania\", \"Paquistan\", \"Bahamas\", \"Argentina\", \"Islandia\", \"Escocia\", \"Sud\\u00e1n\", \"Nueva Zelanda\", \"Irlanda\", \"Macedonia\", \"Unknown\"], \"tickvals\": [0, 1, 2, 3, 4, 5, 6, 7, 8, 9, 10, 11, 12, 13, 14, 15, 16, 17, 18, 19, 20, 21, 22, 23, 24, 25, 26, 27, 28, 29, 30, 31, 32, 33]}}, {\"showLink\": false, \"linkText\": \"Export to plot.ly\", \"plotlyServerURL\": \"https://plot.ly\"}); \n",
       "}\n",
       "});</script><script type=\"text/javascript\">window.addEventListener(\"resize\", function(){if (document.getElementById(\"1f00b016-d737-4d79-a97e-23f74d702cb0\")) {window._Plotly.Plots.resize(document.getElementById(\"1f00b016-d737-4d79-a97e-23f74d702cb0\"));};})</script>"
      ]
     },
     "metadata": {},
     "output_type": "display_data"
    },
    {
     "name": "stdout",
     "output_type": "stream",
     "text": [
      "\n",
      "\n",
      "Cluster 2 || variable: Nivel de estudios\n",
      "Describiendo la pregunta Nivel de estudios\n",
      "Valores numéricos asociados a las respuestas [0, 1, 2, 3, 4, 5]\n",
      "Respuestas posibles a la pregunta/variable ['Educación Primaria', 'Sin terminar Educación Secundaria Obligatoria', 'Terminada Educación Secundaria Obligatoria', 'FP', 'Universitario sin graduar', 'Universitario graduado']\n"
     ]
    },
    {
     "data": {
      "text/plain": [
       "count    301.000000\n",
       "mean       4.352159\n",
       "std        1.164290\n",
       "min        0.000000\n",
       "25%        4.000000\n",
       "50%        5.000000\n",
       "75%        5.000000\n",
       "max        5.000000\n",
       "Name: Nivel de estudios, dtype: float64"
      ]
     },
     "metadata": {},
     "output_type": "display_data"
    },
    {
     "name": "stdout",
     "output_type": "stream",
     "text": [
      "Conteo de cada valor en Nivel de estudios expresada como valor / cantidad\n"
     ]
    },
    {
     "data": {
      "text/plain": [
       "0      8\n",
       "1      6\n",
       "2     10\n",
       "3     23\n",
       "4     55\n",
       "5    199\n",
       "Name: Nivel de estudios, dtype: int64"
      ]
     },
     "metadata": {},
     "output_type": "display_data"
    },
    {
     "name": "stdout",
     "output_type": "stream",
     "text": [
      "Porcentaje de cada valor en Nivel de estudios expresado como valor / porcentaje\n"
     ]
    },
    {
     "data": {
      "text/plain": [
       "0     2.66\n",
       "1     1.99\n",
       "2     3.32\n",
       "3     7.64\n",
       "4    18.27\n",
       "5    66.11\n",
       "Name: Nivel de estudios, dtype: float64"
      ]
     },
     "metadata": {},
     "output_type": "display_data"
    },
    {
     "data": {
      "application/vnd.plotly.v1+json": {
       "config": {
        "linkText": "Export to plot.ly",
        "plotlyServerURL": "https://plot.ly",
        "showLink": false
       },
       "data": [
        {
         "marker": {
          "color": [
           "rgb(213,62,79)",
           "rgb(252,141,89)",
           "rgb(254,224,139)",
           "rgb(230,245,152)",
           "rgb(153,213,148)",
           "rgb(50,136,189)"
          ]
         },
         "type": "bar",
         "uid": "c0e8c525-8eb6-42fd-ba74-297449b469fb",
         "x": [
          0,
          1,
          2,
          3,
          4,
          5
         ],
         "y": [
          8,
          6,
          10,
          23,
          55,
          199
         ]
        }
       ],
       "layout": {
        "bargap": 0.2,
        "xaxis": {
         "ticktext": [
          "Educación Primaria",
          "Sin terminar Educación Secundaria Obligatoria",
          "Terminada Educación Secundaria Obligatoria",
          "FP",
          "Universitario sin graduar",
          "Universitario graduado"
         ],
         "tickvals": [
          0,
          1,
          2,
          3,
          4,
          5
         ]
        }
       }
      },
      "text/html": [
       "<div id=\"4b898173-b3e8-4f8f-ac2d-6553e64f6ce1\" style=\"height: 525px; width: 100%;\" class=\"plotly-graph-div\"></div><script type=\"text/javascript\">require([\"plotly\"], function(Plotly) { window.PLOTLYENV=window.PLOTLYENV || {};window.PLOTLYENV.BASE_URL=\"https://plot.ly\";\n",
       "if (document.getElementById(\"4b898173-b3e8-4f8f-ac2d-6553e64f6ce1\")) {\n",
       "    Plotly.newPlot(\"4b898173-b3e8-4f8f-ac2d-6553e64f6ce1\", [{\"marker\": {\"color\": [\"rgb(213,62,79)\", \"rgb(252,141,89)\", \"rgb(254,224,139)\", \"rgb(230,245,152)\", \"rgb(153,213,148)\", \"rgb(50,136,189)\"]}, \"x\": [0, 1, 2, 3, 4, 5], \"y\": [8, 6, 10, 23, 55, 199], \"type\": \"bar\", \"uid\": \"c0e8c525-8eb6-42fd-ba74-297449b469fb\"}], {\"bargap\": 0.2, \"xaxis\": {\"ticktext\": [\"Educaci\\u00f3n Primaria\", \"Sin terminar Educaci\\u00f3n Secundaria Obligatoria\", \"Terminada Educaci\\u00f3n Secundaria Obligatoria\", \"FP\", \"Universitario sin graduar\", \"Universitario graduado\"], \"tickvals\": [0, 1, 2, 3, 4, 5]}}, {\"showLink\": false, \"linkText\": \"Export to plot.ly\", \"plotlyServerURL\": \"https://plot.ly\"}); \n",
       "}\n",
       "});</script><script type=\"text/javascript\">window.addEventListener(\"resize\", function(){if (document.getElementById(\"4b898173-b3e8-4f8f-ac2d-6553e64f6ce1\")) {window._Plotly.Plots.resize(document.getElementById(\"4b898173-b3e8-4f8f-ac2d-6553e64f6ce1\"));};})</script>"
      ],
      "text/vnd.plotly.v1+html": [
       "<div id=\"4b898173-b3e8-4f8f-ac2d-6553e64f6ce1\" style=\"height: 525px; width: 100%;\" class=\"plotly-graph-div\"></div><script type=\"text/javascript\">require([\"plotly\"], function(Plotly) { window.PLOTLYENV=window.PLOTLYENV || {};window.PLOTLYENV.BASE_URL=\"https://plot.ly\";\n",
       "if (document.getElementById(\"4b898173-b3e8-4f8f-ac2d-6553e64f6ce1\")) {\n",
       "    Plotly.newPlot(\"4b898173-b3e8-4f8f-ac2d-6553e64f6ce1\", [{\"marker\": {\"color\": [\"rgb(213,62,79)\", \"rgb(252,141,89)\", \"rgb(254,224,139)\", \"rgb(230,245,152)\", \"rgb(153,213,148)\", \"rgb(50,136,189)\"]}, \"x\": [0, 1, 2, 3, 4, 5], \"y\": [8, 6, 10, 23, 55, 199], \"type\": \"bar\", \"uid\": \"c0e8c525-8eb6-42fd-ba74-297449b469fb\"}], {\"bargap\": 0.2, \"xaxis\": {\"ticktext\": [\"Educaci\\u00f3n Primaria\", \"Sin terminar Educaci\\u00f3n Secundaria Obligatoria\", \"Terminada Educaci\\u00f3n Secundaria Obligatoria\", \"FP\", \"Universitario sin graduar\", \"Universitario graduado\"], \"tickvals\": [0, 1, 2, 3, 4, 5]}}, {\"showLink\": false, \"linkText\": \"Export to plot.ly\", \"plotlyServerURL\": \"https://plot.ly\"}); \n",
       "}\n",
       "});</script><script type=\"text/javascript\">window.addEventListener(\"resize\", function(){if (document.getElementById(\"4b898173-b3e8-4f8f-ac2d-6553e64f6ce1\")) {window._Plotly.Plots.resize(document.getElementById(\"4b898173-b3e8-4f8f-ac2d-6553e64f6ce1\"));};})</script>"
      ]
     },
     "metadata": {},
     "output_type": "display_data"
    },
    {
     "name": "stdout",
     "output_type": "stream",
     "text": [
      "\n",
      "\n",
      "Cluster 1 || variable: Género\n",
      "Describiendo la pregunta Género\n"
     ]
    },
    {
     "data": {
      "text/plain": [
       "count    223.000000\n",
       "mean       0.654709\n",
       "std        0.504094\n",
       "min        0.000000\n",
       "25%        0.000000\n",
       "50%        1.000000\n",
       "75%        1.000000\n",
       "max        2.000000\n",
       "Name: Género, dtype: float64"
      ]
     },
     "metadata": {},
     "output_type": "display_data"
    },
    {
     "name": "stdout",
     "output_type": "stream",
     "text": [
      "Conteo de cada valor en Género expresada como valor / cantidad\n"
     ]
    },
    {
     "data": {
      "text/plain": [
       "0     80\n",
       "1    140\n",
       "2      3\n",
       "Name: Género, dtype: int64"
      ]
     },
     "metadata": {},
     "output_type": "display_data"
    },
    {
     "name": "stdout",
     "output_type": "stream",
     "text": [
      "Porcentaje de cada valor en Género expresado como valor / porcentaje\n"
     ]
    },
    {
     "data": {
      "text/plain": [
       "0    35.87\n",
       "1    62.78\n",
       "2     1.35\n",
       "Name: Género, dtype: float64"
      ]
     },
     "metadata": {},
     "output_type": "display_data"
    },
    {
     "data": {
      "application/vnd.plotly.v1+json": {
       "config": {
        "linkText": "Export to plot.ly",
        "plotlyServerURL": "https://plot.ly",
        "showLink": false
       },
       "data": [
        {
         "marker": {
          "color": [
           "rgb(213,62,79)",
           "rgb(252,141,89)",
           "rgb(254,224,139)",
           "rgb(230,245,152)",
           "rgb(153,213,148)",
           "rgb(50,136,189)"
          ]
         },
         "type": "bar",
         "uid": "34203222-b421-41d5-96f3-d525413039af",
         "x": [
          0,
          1,
          2
         ],
         "y": [
          80,
          140,
          3
         ]
        }
       ],
       "layout": {}
      },
      "text/html": [
       "<div id=\"db8f70fe-d63a-4bbd-8423-51936801cf2e\" style=\"height: 525px; width: 100%;\" class=\"plotly-graph-div\"></div><script type=\"text/javascript\">require([\"plotly\"], function(Plotly) { window.PLOTLYENV=window.PLOTLYENV || {};window.PLOTLYENV.BASE_URL=\"https://plot.ly\";\n",
       "if (document.getElementById(\"db8f70fe-d63a-4bbd-8423-51936801cf2e\")) {\n",
       "    Plotly.newPlot(\"db8f70fe-d63a-4bbd-8423-51936801cf2e\", [{\"marker\": {\"color\": [\"rgb(213,62,79)\", \"rgb(252,141,89)\", \"rgb(254,224,139)\", \"rgb(230,245,152)\", \"rgb(153,213,148)\", \"rgb(50,136,189)\"]}, \"x\": [0, 1, 2], \"y\": [80, 140, 3], \"type\": \"bar\", \"uid\": \"5d51a25a-2902-42a0-a5d2-528b7271d90e\"}], {}, {\"showLink\": false, \"linkText\": \"Export to plot.ly\", \"plotlyServerURL\": \"https://plot.ly\"}); \n",
       "}\n",
       "});</script><script type=\"text/javascript\">window.addEventListener(\"resize\", function(){if (document.getElementById(\"db8f70fe-d63a-4bbd-8423-51936801cf2e\")) {window._Plotly.Plots.resize(document.getElementById(\"db8f70fe-d63a-4bbd-8423-51936801cf2e\"));};})</script>"
      ],
      "text/vnd.plotly.v1+html": [
       "<div id=\"db8f70fe-d63a-4bbd-8423-51936801cf2e\" style=\"height: 525px; width: 100%;\" class=\"plotly-graph-div\"></div><script type=\"text/javascript\">require([\"plotly\"], function(Plotly) { window.PLOTLYENV=window.PLOTLYENV || {};window.PLOTLYENV.BASE_URL=\"https://plot.ly\";\n",
       "if (document.getElementById(\"db8f70fe-d63a-4bbd-8423-51936801cf2e\")) {\n",
       "    Plotly.newPlot(\"db8f70fe-d63a-4bbd-8423-51936801cf2e\", [{\"marker\": {\"color\": [\"rgb(213,62,79)\", \"rgb(252,141,89)\", \"rgb(254,224,139)\", \"rgb(230,245,152)\", \"rgb(153,213,148)\", \"rgb(50,136,189)\"]}, \"x\": [0, 1, 2], \"y\": [80, 140, 3], \"type\": \"bar\", \"uid\": \"5d51a25a-2902-42a0-a5d2-528b7271d90e\"}], {}, {\"showLink\": false, \"linkText\": \"Export to plot.ly\", \"plotlyServerURL\": \"https://plot.ly\"}); \n",
       "}\n",
       "});</script><script type=\"text/javascript\">window.addEventListener(\"resize\", function(){if (document.getElementById(\"db8f70fe-d63a-4bbd-8423-51936801cf2e\")) {window._Plotly.Plots.resize(document.getElementById(\"db8f70fe-d63a-4bbd-8423-51936801cf2e\"));};})</script>"
      ]
     },
     "metadata": {},
     "output_type": "display_data"
    },
    {
     "name": "stdout",
     "output_type": "stream",
     "text": [
      "\n",
      "\n",
      "Cluster 1 || variable: Edad\n",
      "Describiendo la pregunta Edad\n"
     ]
    },
    {
     "data": {
      "text/plain": [
       "count    223.000000\n",
       "mean      30.390135\n",
       "std       10.343004\n",
       "min       13.000000\n",
       "25%       23.000000\n",
       "50%       29.000000\n",
       "75%       36.000000\n",
       "max       65.000000\n",
       "Name: Edad, dtype: float64"
      ]
     },
     "metadata": {},
     "output_type": "display_data"
    },
    {
     "name": "stdout",
     "output_type": "stream",
     "text": [
      "Conteo de cada valor en Edad expresada como valor / cantidad\n"
     ]
    },
    {
     "data": {
      "text/plain": [
       "13     1\n",
       "14     4\n",
       "15     7\n",
       "16     2\n",
       "17     4\n",
       "18     4\n",
       "19     6\n",
       "20     4\n",
       "21    14\n",
       "22     6\n",
       "23    11\n",
       "24     6\n",
       "25    10\n",
       "26     7\n",
       "27    10\n",
       "28    11\n",
       "29     9\n",
       "30    12\n",
       "31     7\n",
       "32     6\n",
       "33     8\n",
       "34     5\n",
       "35    12\n",
       "36     7\n",
       "37     5\n",
       "38     5\n",
       "39     6\n",
       "41     2\n",
       "42     3\n",
       "43     4\n",
       "44     1\n",
       "45     2\n",
       "46     4\n",
       "47     3\n",
       "49     2\n",
       "50     4\n",
       "51     1\n",
       "52     1\n",
       "53     2\n",
       "56     1\n",
       "64     3\n",
       "65     1\n",
       "Name: Edad, dtype: int64"
      ]
     },
     "metadata": {},
     "output_type": "display_data"
    },
    {
     "name": "stdout",
     "output_type": "stream",
     "text": [
      "Porcentaje de cada valor en Edad expresado como valor / porcentaje\n"
     ]
    },
    {
     "data": {
      "text/plain": [
       "13    0.45\n",
       "14    1.79\n",
       "15    3.14\n",
       "16    0.90\n",
       "17    1.79\n",
       "18    1.79\n",
       "19    2.69\n",
       "20    1.79\n",
       "21    6.28\n",
       "22    2.69\n",
       "23    4.93\n",
       "24    2.69\n",
       "25    4.48\n",
       "26    3.14\n",
       "27    4.48\n",
       "28    4.93\n",
       "29    4.04\n",
       "30    5.38\n",
       "31    3.14\n",
       "32    2.69\n",
       "33    3.59\n",
       "34    2.24\n",
       "35    5.38\n",
       "36    3.14\n",
       "37    2.24\n",
       "38    2.24\n",
       "39    2.69\n",
       "41    0.90\n",
       "42    1.35\n",
       "43    1.79\n",
       "44    0.45\n",
       "45    0.90\n",
       "46    1.79\n",
       "47    1.35\n",
       "49    0.90\n",
       "50    1.79\n",
       "51    0.45\n",
       "52    0.45\n",
       "53    0.90\n",
       "56    0.45\n",
       "64    1.35\n",
       "65    0.45\n",
       "Name: Edad, dtype: float64"
      ]
     },
     "metadata": {},
     "output_type": "display_data"
    },
    {
     "data": {
      "application/vnd.plotly.v1+json": {
       "config": {
        "linkText": "Export to plot.ly",
        "plotlyServerURL": "https://plot.ly",
        "showLink": false
       },
       "data": [
        {
         "marker": {
          "color": [
           "hsl(147.27999999999997, 42.84%, 62.760000000000005%)",
           "hsl(18.2, 90.52%, 62.24%)",
           "hsl(47.2, 98.4%, 79.0%)",
           "hsl(74.16000000000001, 77.56%, 76.76%)",
           "hsl(147.27999999999997, 42.84%, 62.760000000000005%)",
           "hsl(67.2, 85.60000000000001%, 79.0%)",
           "hsl(64.32000000000001, 91.35999999999999%, 82.19999999999999%)",
           "hsl(67.2, 85.60000000000001%, 79.0%)",
           "hsl(27.799999999999997, 96.28%, 67.36%)",
           "hsl(57.44, 99.68%, 85.4%)",
           "hsl(37.4, 97.56%, 73.04%)",
           "hsl(353.0, 64.0%, 53.0%)",
           "hsl(32.6, 97.24%, 70.16%)",
           "hsl(13.160000000000025, 87.03999999999999%, 59.72%)",
           "hsl(359.72, 71.68%, 55.24%)",
           "hsl(353.0, 64.0%, 53.0%)",
           "hsl(6.439999999999998, 79.36%, 57.480000000000004%)",
           "hsl(359.72, 71.68%, 55.24%)",
           "hsl(27.799999999999997, 96.28%, 67.36%)",
           "hsl(27.799999999999997, 96.28%, 67.36%)",
           "hsl(27.799999999999997, 96.28%, 67.36%)",
           "hsl(23.0, 93.4%, 64.8%)",
           "hsl(18.2, 90.52%, 62.24%)",
           "hsl(52.32, 99.04%, 82.2%)",
           "hsl(47.2, 98.4%, 79.0%)",
           "hsl(42.2, 97.88%, 75.92%)",
           "hsl(61.44, 97.12%, 85.4%)",
           "hsl(87.92000000000002, 65.71999999999998%, 76.12%)",
           "hsl(87.92000000000002, 65.71999999999998%, 76.12%)",
           "hsl(64.32000000000001, 91.35999999999999%, 82.19999999999999%)",
           "hsl(64.32000000000001, 91.35999999999999%, 82.19999999999999%)",
           "hsl(101.67999999999999, 53.88000000000001%, 75.48%)",
           "hsl(101.67999999999999, 53.88000000000001%, 75.48%)",
           "hsl(61.44, 97.12%, 85.4%)",
           "hsl(87.92000000000002, 65.71999999999998%, 76.12%)",
           "hsl(147.27999999999997, 42.84%, 62.760000000000005%)",
           "hsl(162.64000000000001, 42.64%, 57.519999999999996%)",
           "hsl(131.60000000000002, 43.8%, 68.19999999999999%)",
           "hsl(131.60000000000002, 43.8%, 68.19999999999999%)",
           "hsl(188.88, 52.879999999999995%, 49.84%)",
           "hsl(101.67999999999999, 53.88000000000001%, 75.48%)",
           "hsl(162.64000000000001, 42.64%, 57.519999999999996%)",
           "hsl(115.92, 44.76%, 73.64%)",
           "hsl(147.27999999999997, 42.84%, 62.760000000000005%)",
           "hsl(131.60000000000002, 43.8%, 68.19999999999999%)",
           "hsl(202.0, 58.0%, 46.0%)",
           "hsl(188.88, 52.879999999999995%, 49.84%)",
           "hsl(147.27999999999997, 42.84%, 62.760000000000005%)",
           "hsl(175.76000000000002, 47.760000000000005%, 53.67999999999999%)",
           "hsl(115.92, 44.76%, 73.64%)",
           "hsl(202.0, 58.0%, 46.0%)",
           "hsl(175.76000000000002, 47.760000000000005%, 53.67999999999999%)",
           "hsl(188.88, 52.879999999999995%, 49.84%)",
           "hsl(188.88, 52.879999999999995%, 49.84%)",
           "hsl(162.64000000000001, 42.64%, 57.519999999999996%)",
           "hsl(202.0, 58.0%, 46.0%)",
           "hsl(188.88, 52.879999999999995%, 49.84%)",
           "hsl(202.0, 58.0%, 46.0%)",
           "hsl(202.0, 58.0%, 46.0%)",
           "hsl(202.0, 58.0%, 46.0%)",
           "hsl(202.0, 58.0%, 46.0%)",
           "hsl(188.88, 52.879999999999995%, 49.84%)"
          ]
         },
         "type": "bar",
         "uid": "4ebfb0ca-d7c6-463b-b158-759d2c518be9",
         "x": [
          13,
          14,
          15,
          16,
          17,
          18,
          19,
          20,
          21,
          22,
          23,
          24,
          25,
          26,
          27,
          28,
          29,
          30,
          31,
          32,
          33,
          34,
          35,
          36,
          37,
          38,
          39,
          41,
          42,
          43,
          44,
          45,
          46,
          47,
          49,
          50,
          51,
          52,
          53,
          56,
          64,
          65
         ],
         "y": [
          1,
          4,
          7,
          2,
          4,
          4,
          6,
          4,
          14,
          6,
          11,
          6,
          10,
          7,
          10,
          11,
          9,
          12,
          7,
          6,
          8,
          5,
          12,
          7,
          5,
          5,
          6,
          2,
          3,
          4,
          1,
          2,
          4,
          3,
          2,
          4,
          1,
          1,
          2,
          1,
          3,
          1
         ]
        }
       ],
       "layout": {}
      },
      "text/html": [
       "<div id=\"b2cd44a4-e742-4a63-b258-130559e4ab1c\" style=\"height: 525px; width: 100%;\" class=\"plotly-graph-div\"></div><script type=\"text/javascript\">require([\"plotly\"], function(Plotly) { window.PLOTLYENV=window.PLOTLYENV || {};window.PLOTLYENV.BASE_URL=\"https://plot.ly\";\n",
       "if (document.getElementById(\"b2cd44a4-e742-4a63-b258-130559e4ab1c\")) {\n",
       "    Plotly.newPlot(\"b2cd44a4-e742-4a63-b258-130559e4ab1c\", [{\"marker\": {\"color\": [\"hsl(147.27999999999997, 42.84%, 62.760000000000005%)\", \"hsl(18.2, 90.52%, 62.24%)\", \"hsl(47.2, 98.4%, 79.0%)\", \"hsl(74.16000000000001, 77.56%, 76.76%)\", \"hsl(147.27999999999997, 42.84%, 62.760000000000005%)\", \"hsl(67.2, 85.60000000000001%, 79.0%)\", \"hsl(64.32000000000001, 91.35999999999999%, 82.19999999999999%)\", \"hsl(67.2, 85.60000000000001%, 79.0%)\", \"hsl(27.799999999999997, 96.28%, 67.36%)\", \"hsl(57.44, 99.68%, 85.4%)\", \"hsl(37.4, 97.56%, 73.04%)\", \"hsl(353.0, 64.0%, 53.0%)\", \"hsl(32.6, 97.24%, 70.16%)\", \"hsl(13.160000000000025, 87.03999999999999%, 59.72%)\", \"hsl(359.72, 71.68%, 55.24%)\", \"hsl(353.0, 64.0%, 53.0%)\", \"hsl(6.439999999999998, 79.36%, 57.480000000000004%)\", \"hsl(359.72, 71.68%, 55.24%)\", \"hsl(27.799999999999997, 96.28%, 67.36%)\", \"hsl(27.799999999999997, 96.28%, 67.36%)\", \"hsl(27.799999999999997, 96.28%, 67.36%)\", \"hsl(23.0, 93.4%, 64.8%)\", \"hsl(18.2, 90.52%, 62.24%)\", \"hsl(52.32, 99.04%, 82.2%)\", \"hsl(47.2, 98.4%, 79.0%)\", \"hsl(42.2, 97.88%, 75.92%)\", \"hsl(61.44, 97.12%, 85.4%)\", \"hsl(87.92000000000002, 65.71999999999998%, 76.12%)\", \"hsl(87.92000000000002, 65.71999999999998%, 76.12%)\", \"hsl(64.32000000000001, 91.35999999999999%, 82.19999999999999%)\", \"hsl(64.32000000000001, 91.35999999999999%, 82.19999999999999%)\", \"hsl(101.67999999999999, 53.88000000000001%, 75.48%)\", \"hsl(101.67999999999999, 53.88000000000001%, 75.48%)\", \"hsl(61.44, 97.12%, 85.4%)\", \"hsl(87.92000000000002, 65.71999999999998%, 76.12%)\", \"hsl(147.27999999999997, 42.84%, 62.760000000000005%)\", \"hsl(162.64000000000001, 42.64%, 57.519999999999996%)\", \"hsl(131.60000000000002, 43.8%, 68.19999999999999%)\", \"hsl(131.60000000000002, 43.8%, 68.19999999999999%)\", \"hsl(188.88, 52.879999999999995%, 49.84%)\", \"hsl(101.67999999999999, 53.88000000000001%, 75.48%)\", \"hsl(162.64000000000001, 42.64%, 57.519999999999996%)\", \"hsl(115.92, 44.76%, 73.64%)\", \"hsl(147.27999999999997, 42.84%, 62.760000000000005%)\", \"hsl(131.60000000000002, 43.8%, 68.19999999999999%)\", \"hsl(202.0, 58.0%, 46.0%)\", \"hsl(188.88, 52.879999999999995%, 49.84%)\", \"hsl(147.27999999999997, 42.84%, 62.760000000000005%)\", \"hsl(175.76000000000002, 47.760000000000005%, 53.67999999999999%)\", \"hsl(115.92, 44.76%, 73.64%)\", \"hsl(202.0, 58.0%, 46.0%)\", \"hsl(175.76000000000002, 47.760000000000005%, 53.67999999999999%)\", \"hsl(188.88, 52.879999999999995%, 49.84%)\", \"hsl(188.88, 52.879999999999995%, 49.84%)\", \"hsl(162.64000000000001, 42.64%, 57.519999999999996%)\", \"hsl(202.0, 58.0%, 46.0%)\", \"hsl(188.88, 52.879999999999995%, 49.84%)\", \"hsl(202.0, 58.0%, 46.0%)\", \"hsl(202.0, 58.0%, 46.0%)\", \"hsl(202.0, 58.0%, 46.0%)\", \"hsl(202.0, 58.0%, 46.0%)\", \"hsl(188.88, 52.879999999999995%, 49.84%)\"]}, \"x\": [13, 14, 15, 16, 17, 18, 19, 20, 21, 22, 23, 24, 25, 26, 27, 28, 29, 30, 31, 32, 33, 34, 35, 36, 37, 38, 39, 41, 42, 43, 44, 45, 46, 47, 49, 50, 51, 52, 53, 56, 64, 65], \"y\": [1, 4, 7, 2, 4, 4, 6, 4, 14, 6, 11, 6, 10, 7, 10, 11, 9, 12, 7, 6, 8, 5, 12, 7, 5, 5, 6, 2, 3, 4, 1, 2, 4, 3, 2, 4, 1, 1, 2, 1, 3, 1], \"type\": \"bar\", \"uid\": \"2780ad04-1d64-48e6-8819-8cc04fd12918\"}], {}, {\"showLink\": false, \"linkText\": \"Export to plot.ly\", \"plotlyServerURL\": \"https://plot.ly\"}); \n",
       "}\n",
       "});</script><script type=\"text/javascript\">window.addEventListener(\"resize\", function(){if (document.getElementById(\"b2cd44a4-e742-4a63-b258-130559e4ab1c\")) {window._Plotly.Plots.resize(document.getElementById(\"b2cd44a4-e742-4a63-b258-130559e4ab1c\"));};})</script>"
      ],
      "text/vnd.plotly.v1+html": [
       "<div id=\"b2cd44a4-e742-4a63-b258-130559e4ab1c\" style=\"height: 525px; width: 100%;\" class=\"plotly-graph-div\"></div><script type=\"text/javascript\">require([\"plotly\"], function(Plotly) { window.PLOTLYENV=window.PLOTLYENV || {};window.PLOTLYENV.BASE_URL=\"https://plot.ly\";\n",
       "if (document.getElementById(\"b2cd44a4-e742-4a63-b258-130559e4ab1c\")) {\n",
       "    Plotly.newPlot(\"b2cd44a4-e742-4a63-b258-130559e4ab1c\", [{\"marker\": {\"color\": [\"hsl(147.27999999999997, 42.84%, 62.760000000000005%)\", \"hsl(18.2, 90.52%, 62.24%)\", \"hsl(47.2, 98.4%, 79.0%)\", \"hsl(74.16000000000001, 77.56%, 76.76%)\", \"hsl(147.27999999999997, 42.84%, 62.760000000000005%)\", \"hsl(67.2, 85.60000000000001%, 79.0%)\", \"hsl(64.32000000000001, 91.35999999999999%, 82.19999999999999%)\", \"hsl(67.2, 85.60000000000001%, 79.0%)\", \"hsl(27.799999999999997, 96.28%, 67.36%)\", \"hsl(57.44, 99.68%, 85.4%)\", \"hsl(37.4, 97.56%, 73.04%)\", \"hsl(353.0, 64.0%, 53.0%)\", \"hsl(32.6, 97.24%, 70.16%)\", \"hsl(13.160000000000025, 87.03999999999999%, 59.72%)\", \"hsl(359.72, 71.68%, 55.24%)\", \"hsl(353.0, 64.0%, 53.0%)\", \"hsl(6.439999999999998, 79.36%, 57.480000000000004%)\", \"hsl(359.72, 71.68%, 55.24%)\", \"hsl(27.799999999999997, 96.28%, 67.36%)\", \"hsl(27.799999999999997, 96.28%, 67.36%)\", \"hsl(27.799999999999997, 96.28%, 67.36%)\", \"hsl(23.0, 93.4%, 64.8%)\", \"hsl(18.2, 90.52%, 62.24%)\", \"hsl(52.32, 99.04%, 82.2%)\", \"hsl(47.2, 98.4%, 79.0%)\", \"hsl(42.2, 97.88%, 75.92%)\", \"hsl(61.44, 97.12%, 85.4%)\", \"hsl(87.92000000000002, 65.71999999999998%, 76.12%)\", \"hsl(87.92000000000002, 65.71999999999998%, 76.12%)\", \"hsl(64.32000000000001, 91.35999999999999%, 82.19999999999999%)\", \"hsl(64.32000000000001, 91.35999999999999%, 82.19999999999999%)\", \"hsl(101.67999999999999, 53.88000000000001%, 75.48%)\", \"hsl(101.67999999999999, 53.88000000000001%, 75.48%)\", \"hsl(61.44, 97.12%, 85.4%)\", \"hsl(87.92000000000002, 65.71999999999998%, 76.12%)\", \"hsl(147.27999999999997, 42.84%, 62.760000000000005%)\", \"hsl(162.64000000000001, 42.64%, 57.519999999999996%)\", \"hsl(131.60000000000002, 43.8%, 68.19999999999999%)\", \"hsl(131.60000000000002, 43.8%, 68.19999999999999%)\", \"hsl(188.88, 52.879999999999995%, 49.84%)\", \"hsl(101.67999999999999, 53.88000000000001%, 75.48%)\", \"hsl(162.64000000000001, 42.64%, 57.519999999999996%)\", \"hsl(115.92, 44.76%, 73.64%)\", \"hsl(147.27999999999997, 42.84%, 62.760000000000005%)\", \"hsl(131.60000000000002, 43.8%, 68.19999999999999%)\", \"hsl(202.0, 58.0%, 46.0%)\", \"hsl(188.88, 52.879999999999995%, 49.84%)\", \"hsl(147.27999999999997, 42.84%, 62.760000000000005%)\", \"hsl(175.76000000000002, 47.760000000000005%, 53.67999999999999%)\", \"hsl(115.92, 44.76%, 73.64%)\", \"hsl(202.0, 58.0%, 46.0%)\", \"hsl(175.76000000000002, 47.760000000000005%, 53.67999999999999%)\", \"hsl(188.88, 52.879999999999995%, 49.84%)\", \"hsl(188.88, 52.879999999999995%, 49.84%)\", \"hsl(162.64000000000001, 42.64%, 57.519999999999996%)\", \"hsl(202.0, 58.0%, 46.0%)\", \"hsl(188.88, 52.879999999999995%, 49.84%)\", \"hsl(202.0, 58.0%, 46.0%)\", \"hsl(202.0, 58.0%, 46.0%)\", \"hsl(202.0, 58.0%, 46.0%)\", \"hsl(202.0, 58.0%, 46.0%)\", \"hsl(188.88, 52.879999999999995%, 49.84%)\"]}, \"x\": [13, 14, 15, 16, 17, 18, 19, 20, 21, 22, 23, 24, 25, 26, 27, 28, 29, 30, 31, 32, 33, 34, 35, 36, 37, 38, 39, 41, 42, 43, 44, 45, 46, 47, 49, 50, 51, 52, 53, 56, 64, 65], \"y\": [1, 4, 7, 2, 4, 4, 6, 4, 14, 6, 11, 6, 10, 7, 10, 11, 9, 12, 7, 6, 8, 5, 12, 7, 5, 5, 6, 2, 3, 4, 1, 2, 4, 3, 2, 4, 1, 1, 2, 1, 3, 1], \"type\": \"bar\", \"uid\": \"2780ad04-1d64-48e6-8819-8cc04fd12918\"}], {}, {\"showLink\": false, \"linkText\": \"Export to plot.ly\", \"plotlyServerURL\": \"https://plot.ly\"}); \n",
       "}\n",
       "});</script><script type=\"text/javascript\">window.addEventListener(\"resize\", function(){if (document.getElementById(\"b2cd44a4-e742-4a63-b258-130559e4ab1c\")) {window._Plotly.Plots.resize(document.getElementById(\"b2cd44a4-e742-4a63-b258-130559e4ab1c\"));};})</script>"
      ]
     },
     "metadata": {},
     "output_type": "display_data"
    },
    {
     "name": "stdout",
     "output_type": "stream",
     "text": [
      "\n",
      "\n",
      "Cluster 1 || variable: Nacionalidad\n",
      "Describiendo la pregunta Nacionalidad\n",
      "Valores numéricos asociados a las respuestas [0, 1, 2, 3, 4, 5, 6, 7, 8, 9, 10, 11, 12, 13, 14, 15, 16, 17, 18, 19, 20, 21, 22, 23, 24, 25, 26, 27, 28, 29, 30, 31, 32, 33]\n",
      "Respuestas posibles a la pregunta/variable ['España', 'Colombia', 'México', 'República Dominicana', 'Austria', 'Chile', 'Francia', 'Canadá', 'Nigeria', 'China', 'Australia', 'Rusia', 'Alemania', 'Brasil', 'Estados Unidos de América', 'India', 'Eslovaquia', 'Italia', 'Inglaterra', 'Cuba', 'Ukrania', 'Venezuela', 'Indonesia', 'Albania', 'Paquistan', 'Bahamas', 'Argentina', 'Islandia', 'Escocia', 'Sudán', 'Nueva Zelanda', 'Irlanda', 'Macedonia', 'Unknown']\n"
     ]
    },
    {
     "data": {
      "text/plain": [
       "count    223.000000\n",
       "mean       8.757848\n",
       "std        8.836585\n",
       "min        0.000000\n",
       "25%        0.000000\n",
       "50%       10.000000\n",
       "75%       14.000000\n",
       "max       33.000000\n",
       "Name: Nacionalidad, dtype: float64"
      ]
     },
     "metadata": {},
     "output_type": "display_data"
    },
    {
     "name": "stdout",
     "output_type": "stream",
     "text": [
      "Conteo de cada valor en Nacionalidad expresada como valor / cantidad\n"
     ]
    },
    {
     "data": {
      "text/plain": [
       "0     90\n",
       "1      1\n",
       "3      2\n",
       "4      1\n",
       "5      1\n",
       "6     11\n",
       "7      4\n",
       "8      1\n",
       "10     1\n",
       "11     1\n",
       "13     2\n",
       "14    71\n",
       "15    17\n",
       "17     3\n",
       "18     2\n",
       "19     1\n",
       "22     1\n",
       "26     1\n",
       "28     1\n",
       "29     1\n",
       "31     1\n",
       "33     9\n",
       "Name: Nacionalidad, dtype: int64"
      ]
     },
     "metadata": {},
     "output_type": "display_data"
    },
    {
     "name": "stdout",
     "output_type": "stream",
     "text": [
      "Porcentaje de cada valor en Nacionalidad expresado como valor / porcentaje\n"
     ]
    },
    {
     "data": {
      "text/plain": [
       "0     40.36\n",
       "1      0.45\n",
       "3      0.90\n",
       "4      0.45\n",
       "5      0.45\n",
       "6      4.93\n",
       "7      1.79\n",
       "8      0.45\n",
       "10     0.45\n",
       "11     0.45\n",
       "13     0.90\n",
       "14    31.84\n",
       "15     7.62\n",
       "17     1.35\n",
       "18     0.90\n",
       "19     0.45\n",
       "22     0.45\n",
       "26     0.45\n",
       "28     0.45\n",
       "29     0.45\n",
       "31     0.45\n",
       "33     4.04\n",
       "Name: Nacionalidad, dtype: float64"
      ]
     },
     "metadata": {},
     "output_type": "display_data"
    },
    {
     "data": {
      "application/vnd.plotly.v1+json": {
       "config": {
        "linkText": "Export to plot.ly",
        "plotlyServerURL": "https://plot.ly",
        "showLink": false
       },
       "data": [
        {
         "marker": {
          "color": [
           "hsl(353.0, 64.0%, 53.0%)",
           "hsl(358.09090909090907, 69.81818181818181%, 54.696969696969695%)",
           "hsl(3.181818181818187, 75.63636363636364%, 56.39393939393939%)",
           "hsl(8.272727272727252, 81.45454545454545%, 58.09090909090909%)",
           "hsl(13.363636363636374, 87.27272727272728%, 59.78787878787879%)",
           "hsl(17.181818181818183, 89.9090909090909%, 61.696969696969695%)",
           "hsl(20.81818181818182, 92.0909090909091%, 63.63636363636364%)",
           "hsl(24.454545454545453, 94.27272727272728%, 65.57575757575758%)",
           "hsl(28.090909090909093, 96.45454545454545%, 67.51515151515152%)",
           "hsl(31.727272727272727, 97.18181818181819%, 69.63636363636364%)",
           "hsl(35.36363636363637, 97.42424242424242%, 71.81818181818181%)",
           "hsl(39.0, 97.66666666666667%, 74.0%)",
           "hsl(42.63636363636364, 97.9090909090909%, 76.18181818181819%)",
           "hsl(46.42424242424242, 98.3030303030303%, 78.51515151515152%)",
           "hsl(50.303030303030305, 98.78787878787878%, 80.93939393939394%)",
           "hsl(54.18181818181818, 99.27272727272727%, 83.36363636363636%)",
           "hsl(58.06060606060606, 99.75757575757575%, 85.78787878787878%)",
           "hsl(61.09090909090909, 97.81818181818181%, 85.78787878787878%)",
           "hsl(63.272727272727266, 93.45454545454547%, 83.36363636363637%)",
           "hsl(65.45454545454545, 89.09090909090908%, 80.93939393939394%)",
           "hsl(67.63636363636364, 84.72727272727272%, 78.51515151515152%)",
           "hsl(72.9090909090909, 78.63636363636364%, 76.81818181818181%)",
           "hsl(83.33333333333331, 69.66666666666669%, 76.33333333333333%)",
           "hsl(93.75757575757578, 60.69696969696968%, 75.84848484848484%)",
           "hsl(104.18181818181819, 51.72727272727272%, 75.36363636363636%)",
           "hsl(114.96969696969697, 44.81818181818182%, 73.96969696969697%)",
           "hsl(126.84848484848483, 44.09090909090909%, 69.84848484848486%)",
           "hsl(138.72727272727275, 43.36363636363636%, 65.72727272727272%)",
           "hsl(150.60606060606062, 42.63636363636363%, 61.6060606060606%)",
           "hsl(162.24242424242425, 42.484848484848484%, 57.63636363636364%)",
           "hsl(172.1818181818182, 46.36363636363636%, 54.727272727272734%)",
           "hsl(182.12121212121212, 50.24242424242425%, 51.81818181818181%)",
           "hsl(192.06060606060606, 54.121212121212125%, 48.90909090909091%)",
           "hsl(202.0, 58.0%, 46.0%)"
          ]
         },
         "type": "bar",
         "uid": "1cb3ac86-434e-4dc9-9892-3920c2be5b3d",
         "x": [
          0,
          1,
          3,
          4,
          5,
          6,
          7,
          8,
          10,
          11,
          13,
          14,
          15,
          17,
          18,
          19,
          22,
          26,
          28,
          29,
          31,
          33
         ],
         "y": [
          90,
          1,
          2,
          1,
          1,
          11,
          4,
          1,
          1,
          1,
          2,
          71,
          17,
          3,
          2,
          1,
          1,
          1,
          1,
          1,
          1,
          9
         ]
        }
       ],
       "layout": {
        "bargap": 0.2,
        "xaxis": {
         "ticktext": [
          "España",
          "Colombia",
          "México",
          "República Dominicana",
          "Austria",
          "Chile",
          "Francia",
          "Canadá",
          "Nigeria",
          "China",
          "Australia",
          "Rusia",
          "Alemania",
          "Brasil",
          "Estados Unidos de América",
          "India",
          "Eslovaquia",
          "Italia",
          "Inglaterra",
          "Cuba",
          "Ukrania",
          "Venezuela",
          "Indonesia",
          "Albania",
          "Paquistan",
          "Bahamas",
          "Argentina",
          "Islandia",
          "Escocia",
          "Sudán",
          "Nueva Zelanda",
          "Irlanda",
          "Macedonia",
          "Unknown"
         ],
         "tickvals": [
          0,
          1,
          2,
          3,
          4,
          5,
          6,
          7,
          8,
          9,
          10,
          11,
          12,
          13,
          14,
          15,
          16,
          17,
          18,
          19,
          20,
          21,
          22,
          23,
          24,
          25,
          26,
          27,
          28,
          29,
          30,
          31,
          32,
          33
         ]
        }
       }
      },
      "text/html": [
       "<div id=\"b2771f44-c337-4fd6-97c4-6faa2466506f\" style=\"height: 525px; width: 100%;\" class=\"plotly-graph-div\"></div><script type=\"text/javascript\">require([\"plotly\"], function(Plotly) { window.PLOTLYENV=window.PLOTLYENV || {};window.PLOTLYENV.BASE_URL=\"https://plot.ly\";\n",
       "if (document.getElementById(\"b2771f44-c337-4fd6-97c4-6faa2466506f\")) {\n",
       "    Plotly.newPlot(\"b2771f44-c337-4fd6-97c4-6faa2466506f\", [{\"marker\": {\"color\": [\"hsl(353.0, 64.0%, 53.0%)\", \"hsl(358.09090909090907, 69.81818181818181%, 54.696969696969695%)\", \"hsl(3.181818181818187, 75.63636363636364%, 56.39393939393939%)\", \"hsl(8.272727272727252, 81.45454545454545%, 58.09090909090909%)\", \"hsl(13.363636363636374, 87.27272727272728%, 59.78787878787879%)\", \"hsl(17.181818181818183, 89.9090909090909%, 61.696969696969695%)\", \"hsl(20.81818181818182, 92.0909090909091%, 63.63636363636364%)\", \"hsl(24.454545454545453, 94.27272727272728%, 65.57575757575758%)\", \"hsl(28.090909090909093, 96.45454545454545%, 67.51515151515152%)\", \"hsl(31.727272727272727, 97.18181818181819%, 69.63636363636364%)\", \"hsl(35.36363636363637, 97.42424242424242%, 71.81818181818181%)\", \"hsl(39.0, 97.66666666666667%, 74.0%)\", \"hsl(42.63636363636364, 97.9090909090909%, 76.18181818181819%)\", \"hsl(46.42424242424242, 98.3030303030303%, 78.51515151515152%)\", \"hsl(50.303030303030305, 98.78787878787878%, 80.93939393939394%)\", \"hsl(54.18181818181818, 99.27272727272727%, 83.36363636363636%)\", \"hsl(58.06060606060606, 99.75757575757575%, 85.78787878787878%)\", \"hsl(61.09090909090909, 97.81818181818181%, 85.78787878787878%)\", \"hsl(63.272727272727266, 93.45454545454547%, 83.36363636363637%)\", \"hsl(65.45454545454545, 89.09090909090908%, 80.93939393939394%)\", \"hsl(67.63636363636364, 84.72727272727272%, 78.51515151515152%)\", \"hsl(72.9090909090909, 78.63636363636364%, 76.81818181818181%)\", \"hsl(83.33333333333331, 69.66666666666669%, 76.33333333333333%)\", \"hsl(93.75757575757578, 60.69696969696968%, 75.84848484848484%)\", \"hsl(104.18181818181819, 51.72727272727272%, 75.36363636363636%)\", \"hsl(114.96969696969697, 44.81818181818182%, 73.96969696969697%)\", \"hsl(126.84848484848483, 44.09090909090909%, 69.84848484848486%)\", \"hsl(138.72727272727275, 43.36363636363636%, 65.72727272727272%)\", \"hsl(150.60606060606062, 42.63636363636363%, 61.6060606060606%)\", \"hsl(162.24242424242425, 42.484848484848484%, 57.63636363636364%)\", \"hsl(172.1818181818182, 46.36363636363636%, 54.727272727272734%)\", \"hsl(182.12121212121212, 50.24242424242425%, 51.81818181818181%)\", \"hsl(192.06060606060606, 54.121212121212125%, 48.90909090909091%)\", \"hsl(202.0, 58.0%, 46.0%)\"]}, \"x\": [0, 1, 3, 4, 5, 6, 7, 8, 10, 11, 13, 14, 15, 17, 18, 19, 22, 26, 28, 29, 31, 33], \"y\": [90, 1, 2, 1, 1, 11, 4, 1, 1, 1, 2, 71, 17, 3, 2, 1, 1, 1, 1, 1, 1, 9], \"type\": \"bar\", \"uid\": \"1cb3ac86-434e-4dc9-9892-3920c2be5b3d\"}], {\"bargap\": 0.2, \"xaxis\": {\"ticktext\": [\"Espa\\u00f1a\", \"Colombia\", \"M\\u00e9xico\", \"Rep\\u00fablica Dominicana\", \"Austria\", \"Chile\", \"Francia\", \"Canad\\u00e1\", \"Nigeria\", \"China\", \"Australia\", \"Rusia\", \"Alemania\", \"Brasil\", \"Estados Unidos de Am\\u00e9rica\", \"India\", \"Eslovaquia\", \"Italia\", \"Inglaterra\", \"Cuba\", \"Ukrania\", \"Venezuela\", \"Indonesia\", \"Albania\", \"Paquistan\", \"Bahamas\", \"Argentina\", \"Islandia\", \"Escocia\", \"Sud\\u00e1n\", \"Nueva Zelanda\", \"Irlanda\", \"Macedonia\", \"Unknown\"], \"tickvals\": [0, 1, 2, 3, 4, 5, 6, 7, 8, 9, 10, 11, 12, 13, 14, 15, 16, 17, 18, 19, 20, 21, 22, 23, 24, 25, 26, 27, 28, 29, 30, 31, 32, 33]}}, {\"showLink\": false, \"linkText\": \"Export to plot.ly\", \"plotlyServerURL\": \"https://plot.ly\"}); \n",
       "}\n",
       "});</script><script type=\"text/javascript\">window.addEventListener(\"resize\", function(){if (document.getElementById(\"b2771f44-c337-4fd6-97c4-6faa2466506f\")) {window._Plotly.Plots.resize(document.getElementById(\"b2771f44-c337-4fd6-97c4-6faa2466506f\"));};})</script>"
      ],
      "text/vnd.plotly.v1+html": [
       "<div id=\"b2771f44-c337-4fd6-97c4-6faa2466506f\" style=\"height: 525px; width: 100%;\" class=\"plotly-graph-div\"></div><script type=\"text/javascript\">require([\"plotly\"], function(Plotly) { window.PLOTLYENV=window.PLOTLYENV || {};window.PLOTLYENV.BASE_URL=\"https://plot.ly\";\n",
       "if (document.getElementById(\"b2771f44-c337-4fd6-97c4-6faa2466506f\")) {\n",
       "    Plotly.newPlot(\"b2771f44-c337-4fd6-97c4-6faa2466506f\", [{\"marker\": {\"color\": [\"hsl(353.0, 64.0%, 53.0%)\", \"hsl(358.09090909090907, 69.81818181818181%, 54.696969696969695%)\", \"hsl(3.181818181818187, 75.63636363636364%, 56.39393939393939%)\", \"hsl(8.272727272727252, 81.45454545454545%, 58.09090909090909%)\", \"hsl(13.363636363636374, 87.27272727272728%, 59.78787878787879%)\", \"hsl(17.181818181818183, 89.9090909090909%, 61.696969696969695%)\", \"hsl(20.81818181818182, 92.0909090909091%, 63.63636363636364%)\", \"hsl(24.454545454545453, 94.27272727272728%, 65.57575757575758%)\", \"hsl(28.090909090909093, 96.45454545454545%, 67.51515151515152%)\", \"hsl(31.727272727272727, 97.18181818181819%, 69.63636363636364%)\", \"hsl(35.36363636363637, 97.42424242424242%, 71.81818181818181%)\", \"hsl(39.0, 97.66666666666667%, 74.0%)\", \"hsl(42.63636363636364, 97.9090909090909%, 76.18181818181819%)\", \"hsl(46.42424242424242, 98.3030303030303%, 78.51515151515152%)\", \"hsl(50.303030303030305, 98.78787878787878%, 80.93939393939394%)\", \"hsl(54.18181818181818, 99.27272727272727%, 83.36363636363636%)\", \"hsl(58.06060606060606, 99.75757575757575%, 85.78787878787878%)\", \"hsl(61.09090909090909, 97.81818181818181%, 85.78787878787878%)\", \"hsl(63.272727272727266, 93.45454545454547%, 83.36363636363637%)\", \"hsl(65.45454545454545, 89.09090909090908%, 80.93939393939394%)\", \"hsl(67.63636363636364, 84.72727272727272%, 78.51515151515152%)\", \"hsl(72.9090909090909, 78.63636363636364%, 76.81818181818181%)\", \"hsl(83.33333333333331, 69.66666666666669%, 76.33333333333333%)\", \"hsl(93.75757575757578, 60.69696969696968%, 75.84848484848484%)\", \"hsl(104.18181818181819, 51.72727272727272%, 75.36363636363636%)\", \"hsl(114.96969696969697, 44.81818181818182%, 73.96969696969697%)\", \"hsl(126.84848484848483, 44.09090909090909%, 69.84848484848486%)\", \"hsl(138.72727272727275, 43.36363636363636%, 65.72727272727272%)\", \"hsl(150.60606060606062, 42.63636363636363%, 61.6060606060606%)\", \"hsl(162.24242424242425, 42.484848484848484%, 57.63636363636364%)\", \"hsl(172.1818181818182, 46.36363636363636%, 54.727272727272734%)\", \"hsl(182.12121212121212, 50.24242424242425%, 51.81818181818181%)\", \"hsl(192.06060606060606, 54.121212121212125%, 48.90909090909091%)\", \"hsl(202.0, 58.0%, 46.0%)\"]}, \"x\": [0, 1, 3, 4, 5, 6, 7, 8, 10, 11, 13, 14, 15, 17, 18, 19, 22, 26, 28, 29, 31, 33], \"y\": [90, 1, 2, 1, 1, 11, 4, 1, 1, 1, 2, 71, 17, 3, 2, 1, 1, 1, 1, 1, 1, 9], \"type\": \"bar\", \"uid\": \"1cb3ac86-434e-4dc9-9892-3920c2be5b3d\"}], {\"bargap\": 0.2, \"xaxis\": {\"ticktext\": [\"Espa\\u00f1a\", \"Colombia\", \"M\\u00e9xico\", \"Rep\\u00fablica Dominicana\", \"Austria\", \"Chile\", \"Francia\", \"Canad\\u00e1\", \"Nigeria\", \"China\", \"Australia\", \"Rusia\", \"Alemania\", \"Brasil\", \"Estados Unidos de Am\\u00e9rica\", \"India\", \"Eslovaquia\", \"Italia\", \"Inglaterra\", \"Cuba\", \"Ukrania\", \"Venezuela\", \"Indonesia\", \"Albania\", \"Paquistan\", \"Bahamas\", \"Argentina\", \"Islandia\", \"Escocia\", \"Sud\\u00e1n\", \"Nueva Zelanda\", \"Irlanda\", \"Macedonia\", \"Unknown\"], \"tickvals\": [0, 1, 2, 3, 4, 5, 6, 7, 8, 9, 10, 11, 12, 13, 14, 15, 16, 17, 18, 19, 20, 21, 22, 23, 24, 25, 26, 27, 28, 29, 30, 31, 32, 33]}}, {\"showLink\": false, \"linkText\": \"Export to plot.ly\", \"plotlyServerURL\": \"https://plot.ly\"}); \n",
       "}\n",
       "});</script><script type=\"text/javascript\">window.addEventListener(\"resize\", function(){if (document.getElementById(\"b2771f44-c337-4fd6-97c4-6faa2466506f\")) {window._Plotly.Plots.resize(document.getElementById(\"b2771f44-c337-4fd6-97c4-6faa2466506f\"));};})</script>"
      ]
     },
     "metadata": {},
     "output_type": "display_data"
    },
    {
     "name": "stdout",
     "output_type": "stream",
     "text": [
      "\n",
      "\n",
      "Cluster 1 || variable: Nivel de estudios\n",
      "Describiendo la pregunta Nivel de estudios\n",
      "Valores numéricos asociados a las respuestas [0, 1, 2, 3, 4, 5]\n",
      "Respuestas posibles a la pregunta/variable ['Educación Primaria', 'Sin terminar Educación Secundaria Obligatoria', 'Terminada Educación Secundaria Obligatoria', 'FP', 'Universitario sin graduar', 'Universitario graduado']\n"
     ]
    },
    {
     "data": {
      "text/plain": [
       "count    223.000000\n",
       "mean       4.022422\n",
       "std        1.376914\n",
       "min        0.000000\n",
       "25%        4.000000\n",
       "50%        5.000000\n",
       "75%        5.000000\n",
       "max        5.000000\n",
       "Name: Nivel de estudios, dtype: float64"
      ]
     },
     "metadata": {},
     "output_type": "display_data"
    },
    {
     "name": "stdout",
     "output_type": "stream",
     "text": [
      "Conteo de cada valor en Nivel de estudios expresada como valor / cantidad\n"
     ]
    },
    {
     "data": {
      "text/plain": [
       "0      3\n",
       "1     21\n",
       "2     14\n",
       "3     10\n",
       "4     57\n",
       "5    118\n",
       "Name: Nivel de estudios, dtype: int64"
      ]
     },
     "metadata": {},
     "output_type": "display_data"
    },
    {
     "name": "stdout",
     "output_type": "stream",
     "text": [
      "Porcentaje de cada valor en Nivel de estudios expresado como valor / porcentaje\n"
     ]
    },
    {
     "data": {
      "text/plain": [
       "0     1.35\n",
       "1     9.42\n",
       "2     6.28\n",
       "3     4.48\n",
       "4    25.56\n",
       "5    52.91\n",
       "Name: Nivel de estudios, dtype: float64"
      ]
     },
     "metadata": {},
     "output_type": "display_data"
    },
    {
     "data": {
      "application/vnd.plotly.v1+json": {
       "config": {
        "linkText": "Export to plot.ly",
        "plotlyServerURL": "https://plot.ly",
        "showLink": false
       },
       "data": [
        {
         "marker": {
          "color": [
           "rgb(213,62,79)",
           "rgb(252,141,89)",
           "rgb(254,224,139)",
           "rgb(230,245,152)",
           "rgb(153,213,148)",
           "rgb(50,136,189)"
          ]
         },
         "type": "bar",
         "uid": "6aad2dcc-eb3b-425f-86c8-a7d5785147b7",
         "x": [
          0,
          1,
          2,
          3,
          4,
          5
         ],
         "y": [
          3,
          21,
          14,
          10,
          57,
          118
         ]
        }
       ],
       "layout": {
        "bargap": 0.2,
        "xaxis": {
         "ticktext": [
          "Educación Primaria",
          "Sin terminar Educación Secundaria Obligatoria",
          "Terminada Educación Secundaria Obligatoria",
          "FP",
          "Universitario sin graduar",
          "Universitario graduado"
         ],
         "tickvals": [
          0,
          1,
          2,
          3,
          4,
          5
         ]
        }
       }
      },
      "text/html": [
       "<div id=\"d035ec1c-635d-4bb8-ac83-238ac8d1f3fd\" style=\"height: 525px; width: 100%;\" class=\"plotly-graph-div\"></div><script type=\"text/javascript\">require([\"plotly\"], function(Plotly) { window.PLOTLYENV=window.PLOTLYENV || {};window.PLOTLYENV.BASE_URL=\"https://plot.ly\";\n",
       "if (document.getElementById(\"d035ec1c-635d-4bb8-ac83-238ac8d1f3fd\")) {\n",
       "    Plotly.newPlot(\"d035ec1c-635d-4bb8-ac83-238ac8d1f3fd\", [{\"marker\": {\"color\": [\"rgb(213,62,79)\", \"rgb(252,141,89)\", \"rgb(254,224,139)\", \"rgb(230,245,152)\", \"rgb(153,213,148)\", \"rgb(50,136,189)\"]}, \"x\": [0, 1, 2, 3, 4, 5], \"y\": [3, 21, 14, 10, 57, 118], \"type\": \"bar\", \"uid\": \"6aad2dcc-eb3b-425f-86c8-a7d5785147b7\"}], {\"bargap\": 0.2, \"xaxis\": {\"ticktext\": [\"Educaci\\u00f3n Primaria\", \"Sin terminar Educaci\\u00f3n Secundaria Obligatoria\", \"Terminada Educaci\\u00f3n Secundaria Obligatoria\", \"FP\", \"Universitario sin graduar\", \"Universitario graduado\"], \"tickvals\": [0, 1, 2, 3, 4, 5]}}, {\"showLink\": false, \"linkText\": \"Export to plot.ly\", \"plotlyServerURL\": \"https://plot.ly\"}); \n",
       "}\n",
       "});</script><script type=\"text/javascript\">window.addEventListener(\"resize\", function(){if (document.getElementById(\"d035ec1c-635d-4bb8-ac83-238ac8d1f3fd\")) {window._Plotly.Plots.resize(document.getElementById(\"d035ec1c-635d-4bb8-ac83-238ac8d1f3fd\"));};})</script>"
      ],
      "text/vnd.plotly.v1+html": [
       "<div id=\"d035ec1c-635d-4bb8-ac83-238ac8d1f3fd\" style=\"height: 525px; width: 100%;\" class=\"plotly-graph-div\"></div><script type=\"text/javascript\">require([\"plotly\"], function(Plotly) { window.PLOTLYENV=window.PLOTLYENV || {};window.PLOTLYENV.BASE_URL=\"https://plot.ly\";\n",
       "if (document.getElementById(\"d035ec1c-635d-4bb8-ac83-238ac8d1f3fd\")) {\n",
       "    Plotly.newPlot(\"d035ec1c-635d-4bb8-ac83-238ac8d1f3fd\", [{\"marker\": {\"color\": [\"rgb(213,62,79)\", \"rgb(252,141,89)\", \"rgb(254,224,139)\", \"rgb(230,245,152)\", \"rgb(153,213,148)\", \"rgb(50,136,189)\"]}, \"x\": [0, 1, 2, 3, 4, 5], \"y\": [3, 21, 14, 10, 57, 118], \"type\": \"bar\", \"uid\": \"6aad2dcc-eb3b-425f-86c8-a7d5785147b7\"}], {\"bargap\": 0.2, \"xaxis\": {\"ticktext\": [\"Educaci\\u00f3n Primaria\", \"Sin terminar Educaci\\u00f3n Secundaria Obligatoria\", \"Terminada Educaci\\u00f3n Secundaria Obligatoria\", \"FP\", \"Universitario sin graduar\", \"Universitario graduado\"], \"tickvals\": [0, 1, 2, 3, 4, 5]}}, {\"showLink\": false, \"linkText\": \"Export to plot.ly\", \"plotlyServerURL\": \"https://plot.ly\"}); \n",
       "}\n",
       "});</script><script type=\"text/javascript\">window.addEventListener(\"resize\", function(){if (document.getElementById(\"d035ec1c-635d-4bb8-ac83-238ac8d1f3fd\")) {window._Plotly.Plots.resize(document.getElementById(\"d035ec1c-635d-4bb8-ac83-238ac8d1f3fd\"));};})</script>"
      ]
     },
     "metadata": {},
     "output_type": "display_data"
    },
    {
     "name": "stdout",
     "output_type": "stream",
     "text": [
      "\n",
      "\n",
      "Cluster 5 || variable: Género\n",
      "Describiendo la pregunta Género\n"
     ]
    },
    {
     "data": {
      "text/plain": [
       "count    1.0\n",
       "mean     2.0\n",
       "std      NaN\n",
       "min      2.0\n",
       "25%      2.0\n",
       "50%      2.0\n",
       "75%      2.0\n",
       "max      2.0\n",
       "Name: Género, dtype: float64"
      ]
     },
     "metadata": {},
     "output_type": "display_data"
    },
    {
     "name": "stdout",
     "output_type": "stream",
     "text": [
      "Conteo de cada valor en Género expresada como valor / cantidad\n"
     ]
    },
    {
     "data": {
      "text/plain": [
       "2    1\n",
       "Name: Género, dtype: int64"
      ]
     },
     "metadata": {},
     "output_type": "display_data"
    },
    {
     "name": "stdout",
     "output_type": "stream",
     "text": [
      "Porcentaje de cada valor en Género expresado como valor / porcentaje\n"
     ]
    },
    {
     "data": {
      "text/plain": [
       "2    100.0\n",
       "Name: Género, dtype: float64"
      ]
     },
     "metadata": {},
     "output_type": "display_data"
    },
    {
     "data": {
      "application/vnd.plotly.v1+json": {
       "config": {
        "linkText": "Export to plot.ly",
        "plotlyServerURL": "https://plot.ly",
        "showLink": false
       },
       "data": [
        {
         "marker": {
          "color": [
           "rgb(213,62,79)",
           "rgb(252,141,89)",
           "rgb(254,224,139)",
           "rgb(230,245,152)",
           "rgb(153,213,148)",
           "rgb(50,136,189)"
          ]
         },
         "type": "bar",
         "uid": "73fdd732-2689-457c-916a-c496ec671dcb",
         "x": [
          2
         ],
         "y": [
          1
         ]
        }
       ],
       "layout": {}
      },
      "text/html": [
       "<div id=\"9a43a4fc-916e-4cb7-a0dd-87c2acbc9abd\" style=\"height: 525px; width: 100%;\" class=\"plotly-graph-div\"></div><script type=\"text/javascript\">require([\"plotly\"], function(Plotly) { window.PLOTLYENV=window.PLOTLYENV || {};window.PLOTLYENV.BASE_URL=\"https://plot.ly\";\n",
       "if (document.getElementById(\"9a43a4fc-916e-4cb7-a0dd-87c2acbc9abd\")) {\n",
       "    Plotly.newPlot(\"9a43a4fc-916e-4cb7-a0dd-87c2acbc9abd\", [{\"marker\": {\"color\": [\"rgb(213,62,79)\", \"rgb(252,141,89)\", \"rgb(254,224,139)\", \"rgb(230,245,152)\", \"rgb(153,213,148)\", \"rgb(50,136,189)\"]}, \"x\": [2], \"y\": [1], \"type\": \"bar\", \"uid\": \"1b9be561-f989-4326-b03f-db4dcbaec90d\"}], {}, {\"showLink\": false, \"linkText\": \"Export to plot.ly\", \"plotlyServerURL\": \"https://plot.ly\"}); \n",
       "}\n",
       "});</script><script type=\"text/javascript\">window.addEventListener(\"resize\", function(){if (document.getElementById(\"9a43a4fc-916e-4cb7-a0dd-87c2acbc9abd\")) {window._Plotly.Plots.resize(document.getElementById(\"9a43a4fc-916e-4cb7-a0dd-87c2acbc9abd\"));};})</script>"
      ],
      "text/vnd.plotly.v1+html": [
       "<div id=\"9a43a4fc-916e-4cb7-a0dd-87c2acbc9abd\" style=\"height: 525px; width: 100%;\" class=\"plotly-graph-div\"></div><script type=\"text/javascript\">require([\"plotly\"], function(Plotly) { window.PLOTLYENV=window.PLOTLYENV || {};window.PLOTLYENV.BASE_URL=\"https://plot.ly\";\n",
       "if (document.getElementById(\"9a43a4fc-916e-4cb7-a0dd-87c2acbc9abd\")) {\n",
       "    Plotly.newPlot(\"9a43a4fc-916e-4cb7-a0dd-87c2acbc9abd\", [{\"marker\": {\"color\": [\"rgb(213,62,79)\", \"rgb(252,141,89)\", \"rgb(254,224,139)\", \"rgb(230,245,152)\", \"rgb(153,213,148)\", \"rgb(50,136,189)\"]}, \"x\": [2], \"y\": [1], \"type\": \"bar\", \"uid\": \"1b9be561-f989-4326-b03f-db4dcbaec90d\"}], {}, {\"showLink\": false, \"linkText\": \"Export to plot.ly\", \"plotlyServerURL\": \"https://plot.ly\"}); \n",
       "}\n",
       "});</script><script type=\"text/javascript\">window.addEventListener(\"resize\", function(){if (document.getElementById(\"9a43a4fc-916e-4cb7-a0dd-87c2acbc9abd\")) {window._Plotly.Plots.resize(document.getElementById(\"9a43a4fc-916e-4cb7-a0dd-87c2acbc9abd\"));};})</script>"
      ]
     },
     "metadata": {},
     "output_type": "display_data"
    },
    {
     "name": "stdout",
     "output_type": "stream",
     "text": [
      "\n",
      "\n",
      "Cluster 5 || variable: Edad\n",
      "Describiendo la pregunta Edad\n"
     ]
    },
    {
     "data": {
      "text/plain": [
       "count     1.0\n",
       "mean     20.0\n",
       "std       NaN\n",
       "min      20.0\n",
       "25%      20.0\n",
       "50%      20.0\n",
       "75%      20.0\n",
       "max      20.0\n",
       "Name: Edad, dtype: float64"
      ]
     },
     "metadata": {},
     "output_type": "display_data"
    },
    {
     "name": "stdout",
     "output_type": "stream",
     "text": [
      "Conteo de cada valor en Edad expresada como valor / cantidad\n"
     ]
    },
    {
     "data": {
      "text/plain": [
       "20    1\n",
       "Name: Edad, dtype: int64"
      ]
     },
     "metadata": {},
     "output_type": "display_data"
    },
    {
     "name": "stdout",
     "output_type": "stream",
     "text": [
      "Porcentaje de cada valor en Edad expresado como valor / porcentaje\n"
     ]
    },
    {
     "data": {
      "text/plain": [
       "20    100.0\n",
       "Name: Edad, dtype: float64"
      ]
     },
     "metadata": {},
     "output_type": "display_data"
    },
    {
     "data": {
      "application/vnd.plotly.v1+json": {
       "config": {
        "linkText": "Export to plot.ly",
        "plotlyServerURL": "https://plot.ly",
        "showLink": false
       },
       "data": [
        {
         "marker": {
          "color": [
           "hsl(147.27999999999997, 42.84%, 62.760000000000005%)",
           "hsl(18.2, 90.52%, 62.24%)",
           "hsl(47.2, 98.4%, 79.0%)",
           "hsl(74.16000000000001, 77.56%, 76.76%)",
           "hsl(147.27999999999997, 42.84%, 62.760000000000005%)",
           "hsl(67.2, 85.60000000000001%, 79.0%)",
           "hsl(64.32000000000001, 91.35999999999999%, 82.19999999999999%)",
           "hsl(67.2, 85.60000000000001%, 79.0%)",
           "hsl(27.799999999999997, 96.28%, 67.36%)",
           "hsl(57.44, 99.68%, 85.4%)",
           "hsl(37.4, 97.56%, 73.04%)",
           "hsl(353.0, 64.0%, 53.0%)",
           "hsl(32.6, 97.24%, 70.16%)",
           "hsl(13.160000000000025, 87.03999999999999%, 59.72%)",
           "hsl(359.72, 71.68%, 55.24%)",
           "hsl(353.0, 64.0%, 53.0%)",
           "hsl(6.439999999999998, 79.36%, 57.480000000000004%)",
           "hsl(359.72, 71.68%, 55.24%)",
           "hsl(27.799999999999997, 96.28%, 67.36%)",
           "hsl(27.799999999999997, 96.28%, 67.36%)",
           "hsl(27.799999999999997, 96.28%, 67.36%)",
           "hsl(23.0, 93.4%, 64.8%)",
           "hsl(18.2, 90.52%, 62.24%)",
           "hsl(52.32, 99.04%, 82.2%)",
           "hsl(47.2, 98.4%, 79.0%)",
           "hsl(42.2, 97.88%, 75.92%)",
           "hsl(61.44, 97.12%, 85.4%)",
           "hsl(87.92000000000002, 65.71999999999998%, 76.12%)",
           "hsl(87.92000000000002, 65.71999999999998%, 76.12%)",
           "hsl(64.32000000000001, 91.35999999999999%, 82.19999999999999%)",
           "hsl(64.32000000000001, 91.35999999999999%, 82.19999999999999%)",
           "hsl(101.67999999999999, 53.88000000000001%, 75.48%)",
           "hsl(101.67999999999999, 53.88000000000001%, 75.48%)",
           "hsl(61.44, 97.12%, 85.4%)",
           "hsl(87.92000000000002, 65.71999999999998%, 76.12%)",
           "hsl(147.27999999999997, 42.84%, 62.760000000000005%)",
           "hsl(162.64000000000001, 42.64%, 57.519999999999996%)",
           "hsl(131.60000000000002, 43.8%, 68.19999999999999%)",
           "hsl(131.60000000000002, 43.8%, 68.19999999999999%)",
           "hsl(188.88, 52.879999999999995%, 49.84%)",
           "hsl(101.67999999999999, 53.88000000000001%, 75.48%)",
           "hsl(162.64000000000001, 42.64%, 57.519999999999996%)",
           "hsl(115.92, 44.76%, 73.64%)",
           "hsl(147.27999999999997, 42.84%, 62.760000000000005%)",
           "hsl(131.60000000000002, 43.8%, 68.19999999999999%)",
           "hsl(202.0, 58.0%, 46.0%)",
           "hsl(188.88, 52.879999999999995%, 49.84%)",
           "hsl(147.27999999999997, 42.84%, 62.760000000000005%)",
           "hsl(175.76000000000002, 47.760000000000005%, 53.67999999999999%)",
           "hsl(115.92, 44.76%, 73.64%)",
           "hsl(202.0, 58.0%, 46.0%)",
           "hsl(175.76000000000002, 47.760000000000005%, 53.67999999999999%)",
           "hsl(188.88, 52.879999999999995%, 49.84%)",
           "hsl(188.88, 52.879999999999995%, 49.84%)",
           "hsl(162.64000000000001, 42.64%, 57.519999999999996%)",
           "hsl(202.0, 58.0%, 46.0%)",
           "hsl(188.88, 52.879999999999995%, 49.84%)",
           "hsl(202.0, 58.0%, 46.0%)",
           "hsl(202.0, 58.0%, 46.0%)",
           "hsl(202.0, 58.0%, 46.0%)",
           "hsl(202.0, 58.0%, 46.0%)",
           "hsl(188.88, 52.879999999999995%, 49.84%)"
          ]
         },
         "type": "bar",
         "uid": "5b911107-c5dc-4158-897d-6f3ddf6fafc6",
         "x": [
          20
         ],
         "y": [
          1
         ]
        }
       ],
       "layout": {}
      },
      "text/html": [
       "<div id=\"ba8f8c74-44f2-45f7-a852-443ea32707f4\" style=\"height: 525px; width: 100%;\" class=\"plotly-graph-div\"></div><script type=\"text/javascript\">require([\"plotly\"], function(Plotly) { window.PLOTLYENV=window.PLOTLYENV || {};window.PLOTLYENV.BASE_URL=\"https://plot.ly\";\n",
       "if (document.getElementById(\"ba8f8c74-44f2-45f7-a852-443ea32707f4\")) {\n",
       "    Plotly.newPlot(\"ba8f8c74-44f2-45f7-a852-443ea32707f4\", [{\"marker\": {\"color\": [\"hsl(147.27999999999997, 42.84%, 62.760000000000005%)\", \"hsl(18.2, 90.52%, 62.24%)\", \"hsl(47.2, 98.4%, 79.0%)\", \"hsl(74.16000000000001, 77.56%, 76.76%)\", \"hsl(147.27999999999997, 42.84%, 62.760000000000005%)\", \"hsl(67.2, 85.60000000000001%, 79.0%)\", \"hsl(64.32000000000001, 91.35999999999999%, 82.19999999999999%)\", \"hsl(67.2, 85.60000000000001%, 79.0%)\", \"hsl(27.799999999999997, 96.28%, 67.36%)\", \"hsl(57.44, 99.68%, 85.4%)\", \"hsl(37.4, 97.56%, 73.04%)\", \"hsl(353.0, 64.0%, 53.0%)\", \"hsl(32.6, 97.24%, 70.16%)\", \"hsl(13.160000000000025, 87.03999999999999%, 59.72%)\", \"hsl(359.72, 71.68%, 55.24%)\", \"hsl(353.0, 64.0%, 53.0%)\", \"hsl(6.439999999999998, 79.36%, 57.480000000000004%)\", \"hsl(359.72, 71.68%, 55.24%)\", \"hsl(27.799999999999997, 96.28%, 67.36%)\", \"hsl(27.799999999999997, 96.28%, 67.36%)\", \"hsl(27.799999999999997, 96.28%, 67.36%)\", \"hsl(23.0, 93.4%, 64.8%)\", \"hsl(18.2, 90.52%, 62.24%)\", \"hsl(52.32, 99.04%, 82.2%)\", \"hsl(47.2, 98.4%, 79.0%)\", \"hsl(42.2, 97.88%, 75.92%)\", \"hsl(61.44, 97.12%, 85.4%)\", \"hsl(87.92000000000002, 65.71999999999998%, 76.12%)\", \"hsl(87.92000000000002, 65.71999999999998%, 76.12%)\", \"hsl(64.32000000000001, 91.35999999999999%, 82.19999999999999%)\", \"hsl(64.32000000000001, 91.35999999999999%, 82.19999999999999%)\", \"hsl(101.67999999999999, 53.88000000000001%, 75.48%)\", \"hsl(101.67999999999999, 53.88000000000001%, 75.48%)\", \"hsl(61.44, 97.12%, 85.4%)\", \"hsl(87.92000000000002, 65.71999999999998%, 76.12%)\", \"hsl(147.27999999999997, 42.84%, 62.760000000000005%)\", \"hsl(162.64000000000001, 42.64%, 57.519999999999996%)\", \"hsl(131.60000000000002, 43.8%, 68.19999999999999%)\", \"hsl(131.60000000000002, 43.8%, 68.19999999999999%)\", \"hsl(188.88, 52.879999999999995%, 49.84%)\", \"hsl(101.67999999999999, 53.88000000000001%, 75.48%)\", \"hsl(162.64000000000001, 42.64%, 57.519999999999996%)\", \"hsl(115.92, 44.76%, 73.64%)\", \"hsl(147.27999999999997, 42.84%, 62.760000000000005%)\", \"hsl(131.60000000000002, 43.8%, 68.19999999999999%)\", \"hsl(202.0, 58.0%, 46.0%)\", \"hsl(188.88, 52.879999999999995%, 49.84%)\", \"hsl(147.27999999999997, 42.84%, 62.760000000000005%)\", \"hsl(175.76000000000002, 47.760000000000005%, 53.67999999999999%)\", \"hsl(115.92, 44.76%, 73.64%)\", \"hsl(202.0, 58.0%, 46.0%)\", \"hsl(175.76000000000002, 47.760000000000005%, 53.67999999999999%)\", \"hsl(188.88, 52.879999999999995%, 49.84%)\", \"hsl(188.88, 52.879999999999995%, 49.84%)\", \"hsl(162.64000000000001, 42.64%, 57.519999999999996%)\", \"hsl(202.0, 58.0%, 46.0%)\", \"hsl(188.88, 52.879999999999995%, 49.84%)\", \"hsl(202.0, 58.0%, 46.0%)\", \"hsl(202.0, 58.0%, 46.0%)\", \"hsl(202.0, 58.0%, 46.0%)\", \"hsl(202.0, 58.0%, 46.0%)\", \"hsl(188.88, 52.879999999999995%, 49.84%)\"]}, \"x\": [20], \"y\": [1], \"type\": \"bar\", \"uid\": \"6dc5c74f-78b7-47a7-b2f0-87bc8f28af01\"}], {}, {\"showLink\": false, \"linkText\": \"Export to plot.ly\", \"plotlyServerURL\": \"https://plot.ly\"}); \n",
       "}\n",
       "});</script><script type=\"text/javascript\">window.addEventListener(\"resize\", function(){if (document.getElementById(\"ba8f8c74-44f2-45f7-a852-443ea32707f4\")) {window._Plotly.Plots.resize(document.getElementById(\"ba8f8c74-44f2-45f7-a852-443ea32707f4\"));};})</script>"
      ],
      "text/vnd.plotly.v1+html": [
       "<div id=\"ba8f8c74-44f2-45f7-a852-443ea32707f4\" style=\"height: 525px; width: 100%;\" class=\"plotly-graph-div\"></div><script type=\"text/javascript\">require([\"plotly\"], function(Plotly) { window.PLOTLYENV=window.PLOTLYENV || {};window.PLOTLYENV.BASE_URL=\"https://plot.ly\";\n",
       "if (document.getElementById(\"ba8f8c74-44f2-45f7-a852-443ea32707f4\")) {\n",
       "    Plotly.newPlot(\"ba8f8c74-44f2-45f7-a852-443ea32707f4\", [{\"marker\": {\"color\": [\"hsl(147.27999999999997, 42.84%, 62.760000000000005%)\", \"hsl(18.2, 90.52%, 62.24%)\", \"hsl(47.2, 98.4%, 79.0%)\", \"hsl(74.16000000000001, 77.56%, 76.76%)\", \"hsl(147.27999999999997, 42.84%, 62.760000000000005%)\", \"hsl(67.2, 85.60000000000001%, 79.0%)\", \"hsl(64.32000000000001, 91.35999999999999%, 82.19999999999999%)\", \"hsl(67.2, 85.60000000000001%, 79.0%)\", \"hsl(27.799999999999997, 96.28%, 67.36%)\", \"hsl(57.44, 99.68%, 85.4%)\", \"hsl(37.4, 97.56%, 73.04%)\", \"hsl(353.0, 64.0%, 53.0%)\", \"hsl(32.6, 97.24%, 70.16%)\", \"hsl(13.160000000000025, 87.03999999999999%, 59.72%)\", \"hsl(359.72, 71.68%, 55.24%)\", \"hsl(353.0, 64.0%, 53.0%)\", \"hsl(6.439999999999998, 79.36%, 57.480000000000004%)\", \"hsl(359.72, 71.68%, 55.24%)\", \"hsl(27.799999999999997, 96.28%, 67.36%)\", \"hsl(27.799999999999997, 96.28%, 67.36%)\", \"hsl(27.799999999999997, 96.28%, 67.36%)\", \"hsl(23.0, 93.4%, 64.8%)\", \"hsl(18.2, 90.52%, 62.24%)\", \"hsl(52.32, 99.04%, 82.2%)\", \"hsl(47.2, 98.4%, 79.0%)\", \"hsl(42.2, 97.88%, 75.92%)\", \"hsl(61.44, 97.12%, 85.4%)\", \"hsl(87.92000000000002, 65.71999999999998%, 76.12%)\", \"hsl(87.92000000000002, 65.71999999999998%, 76.12%)\", \"hsl(64.32000000000001, 91.35999999999999%, 82.19999999999999%)\", \"hsl(64.32000000000001, 91.35999999999999%, 82.19999999999999%)\", \"hsl(101.67999999999999, 53.88000000000001%, 75.48%)\", \"hsl(101.67999999999999, 53.88000000000001%, 75.48%)\", \"hsl(61.44, 97.12%, 85.4%)\", \"hsl(87.92000000000002, 65.71999999999998%, 76.12%)\", \"hsl(147.27999999999997, 42.84%, 62.760000000000005%)\", \"hsl(162.64000000000001, 42.64%, 57.519999999999996%)\", \"hsl(131.60000000000002, 43.8%, 68.19999999999999%)\", \"hsl(131.60000000000002, 43.8%, 68.19999999999999%)\", \"hsl(188.88, 52.879999999999995%, 49.84%)\", \"hsl(101.67999999999999, 53.88000000000001%, 75.48%)\", \"hsl(162.64000000000001, 42.64%, 57.519999999999996%)\", \"hsl(115.92, 44.76%, 73.64%)\", \"hsl(147.27999999999997, 42.84%, 62.760000000000005%)\", \"hsl(131.60000000000002, 43.8%, 68.19999999999999%)\", \"hsl(202.0, 58.0%, 46.0%)\", \"hsl(188.88, 52.879999999999995%, 49.84%)\", \"hsl(147.27999999999997, 42.84%, 62.760000000000005%)\", \"hsl(175.76000000000002, 47.760000000000005%, 53.67999999999999%)\", \"hsl(115.92, 44.76%, 73.64%)\", \"hsl(202.0, 58.0%, 46.0%)\", \"hsl(175.76000000000002, 47.760000000000005%, 53.67999999999999%)\", \"hsl(188.88, 52.879999999999995%, 49.84%)\", \"hsl(188.88, 52.879999999999995%, 49.84%)\", \"hsl(162.64000000000001, 42.64%, 57.519999999999996%)\", \"hsl(202.0, 58.0%, 46.0%)\", \"hsl(188.88, 52.879999999999995%, 49.84%)\", \"hsl(202.0, 58.0%, 46.0%)\", \"hsl(202.0, 58.0%, 46.0%)\", \"hsl(202.0, 58.0%, 46.0%)\", \"hsl(202.0, 58.0%, 46.0%)\", \"hsl(188.88, 52.879999999999995%, 49.84%)\"]}, \"x\": [20], \"y\": [1], \"type\": \"bar\", \"uid\": \"6dc5c74f-78b7-47a7-b2f0-87bc8f28af01\"}], {}, {\"showLink\": false, \"linkText\": \"Export to plot.ly\", \"plotlyServerURL\": \"https://plot.ly\"}); \n",
       "}\n",
       "});</script><script type=\"text/javascript\">window.addEventListener(\"resize\", function(){if (document.getElementById(\"ba8f8c74-44f2-45f7-a852-443ea32707f4\")) {window._Plotly.Plots.resize(document.getElementById(\"ba8f8c74-44f2-45f7-a852-443ea32707f4\"));};})</script>"
      ]
     },
     "metadata": {},
     "output_type": "display_data"
    },
    {
     "name": "stdout",
     "output_type": "stream",
     "text": [
      "\n",
      "\n",
      "Cluster 5 || variable: Nacionalidad\n",
      "Describiendo la pregunta Nacionalidad\n",
      "Valores numéricos asociados a las respuestas [0, 1, 2, 3, 4, 5, 6, 7, 8, 9, 10, 11, 12, 13, 14, 15, 16, 17, 18, 19, 20, 21, 22, 23, 24, 25, 26, 27, 28, 29, 30, 31, 32, 33]\n",
      "Respuestas posibles a la pregunta/variable ['España', 'Colombia', 'México', 'República Dominicana', 'Austria', 'Chile', 'Francia', 'Canadá', 'Nigeria', 'China', 'Australia', 'Rusia', 'Alemania', 'Brasil', 'Estados Unidos de América', 'India', 'Eslovaquia', 'Italia', 'Inglaterra', 'Cuba', 'Ukrania', 'Venezuela', 'Indonesia', 'Albania', 'Paquistan', 'Bahamas', 'Argentina', 'Islandia', 'Escocia', 'Sudán', 'Nueva Zelanda', 'Irlanda', 'Macedonia', 'Unknown']\n"
     ]
    },
    {
     "data": {
      "text/plain": [
       "count    1.0\n",
       "mean     0.0\n",
       "std      NaN\n",
       "min      0.0\n",
       "25%      0.0\n",
       "50%      0.0\n",
       "75%      0.0\n",
       "max      0.0\n",
       "Name: Nacionalidad, dtype: float64"
      ]
     },
     "metadata": {},
     "output_type": "display_data"
    },
    {
     "name": "stdout",
     "output_type": "stream",
     "text": [
      "Conteo de cada valor en Nacionalidad expresada como valor / cantidad\n"
     ]
    },
    {
     "data": {
      "text/plain": [
       "0    1\n",
       "Name: Nacionalidad, dtype: int64"
      ]
     },
     "metadata": {},
     "output_type": "display_data"
    },
    {
     "name": "stdout",
     "output_type": "stream",
     "text": [
      "Porcentaje de cada valor en Nacionalidad expresado como valor / porcentaje\n"
     ]
    },
    {
     "data": {
      "text/plain": [
       "0    100.0\n",
       "Name: Nacionalidad, dtype: float64"
      ]
     },
     "metadata": {},
     "output_type": "display_data"
    },
    {
     "data": {
      "application/vnd.plotly.v1+json": {
       "config": {
        "linkText": "Export to plot.ly",
        "plotlyServerURL": "https://plot.ly",
        "showLink": false
       },
       "data": [
        {
         "marker": {
          "color": [
           "hsl(353.0, 64.0%, 53.0%)",
           "hsl(358.09090909090907, 69.81818181818181%, 54.696969696969695%)",
           "hsl(3.181818181818187, 75.63636363636364%, 56.39393939393939%)",
           "hsl(8.272727272727252, 81.45454545454545%, 58.09090909090909%)",
           "hsl(13.363636363636374, 87.27272727272728%, 59.78787878787879%)",
           "hsl(17.181818181818183, 89.9090909090909%, 61.696969696969695%)",
           "hsl(20.81818181818182, 92.0909090909091%, 63.63636363636364%)",
           "hsl(24.454545454545453, 94.27272727272728%, 65.57575757575758%)",
           "hsl(28.090909090909093, 96.45454545454545%, 67.51515151515152%)",
           "hsl(31.727272727272727, 97.18181818181819%, 69.63636363636364%)",
           "hsl(35.36363636363637, 97.42424242424242%, 71.81818181818181%)",
           "hsl(39.0, 97.66666666666667%, 74.0%)",
           "hsl(42.63636363636364, 97.9090909090909%, 76.18181818181819%)",
           "hsl(46.42424242424242, 98.3030303030303%, 78.51515151515152%)",
           "hsl(50.303030303030305, 98.78787878787878%, 80.93939393939394%)",
           "hsl(54.18181818181818, 99.27272727272727%, 83.36363636363636%)",
           "hsl(58.06060606060606, 99.75757575757575%, 85.78787878787878%)",
           "hsl(61.09090909090909, 97.81818181818181%, 85.78787878787878%)",
           "hsl(63.272727272727266, 93.45454545454547%, 83.36363636363637%)",
           "hsl(65.45454545454545, 89.09090909090908%, 80.93939393939394%)",
           "hsl(67.63636363636364, 84.72727272727272%, 78.51515151515152%)",
           "hsl(72.9090909090909, 78.63636363636364%, 76.81818181818181%)",
           "hsl(83.33333333333331, 69.66666666666669%, 76.33333333333333%)",
           "hsl(93.75757575757578, 60.69696969696968%, 75.84848484848484%)",
           "hsl(104.18181818181819, 51.72727272727272%, 75.36363636363636%)",
           "hsl(114.96969696969697, 44.81818181818182%, 73.96969696969697%)",
           "hsl(126.84848484848483, 44.09090909090909%, 69.84848484848486%)",
           "hsl(138.72727272727275, 43.36363636363636%, 65.72727272727272%)",
           "hsl(150.60606060606062, 42.63636363636363%, 61.6060606060606%)",
           "hsl(162.24242424242425, 42.484848484848484%, 57.63636363636364%)",
           "hsl(172.1818181818182, 46.36363636363636%, 54.727272727272734%)",
           "hsl(182.12121212121212, 50.24242424242425%, 51.81818181818181%)",
           "hsl(192.06060606060606, 54.121212121212125%, 48.90909090909091%)",
           "hsl(202.0, 58.0%, 46.0%)"
          ]
         },
         "type": "bar",
         "uid": "b85a5bbd-b399-4754-9dca-99b8e4bbecb1",
         "x": [
          0
         ],
         "y": [
          1
         ]
        }
       ],
       "layout": {
        "bargap": 0.2,
        "xaxis": {
         "ticktext": [
          "España",
          "Colombia",
          "México",
          "República Dominicana",
          "Austria",
          "Chile",
          "Francia",
          "Canadá",
          "Nigeria",
          "China",
          "Australia",
          "Rusia",
          "Alemania",
          "Brasil",
          "Estados Unidos de América",
          "India",
          "Eslovaquia",
          "Italia",
          "Inglaterra",
          "Cuba",
          "Ukrania",
          "Venezuela",
          "Indonesia",
          "Albania",
          "Paquistan",
          "Bahamas",
          "Argentina",
          "Islandia",
          "Escocia",
          "Sudán",
          "Nueva Zelanda",
          "Irlanda",
          "Macedonia",
          "Unknown"
         ],
         "tickvals": [
          0,
          1,
          2,
          3,
          4,
          5,
          6,
          7,
          8,
          9,
          10,
          11,
          12,
          13,
          14,
          15,
          16,
          17,
          18,
          19,
          20,
          21,
          22,
          23,
          24,
          25,
          26,
          27,
          28,
          29,
          30,
          31,
          32,
          33
         ]
        }
       }
      },
      "text/html": [
       "<div id=\"421d172a-0d78-48fd-83a2-10f1690b4d80\" style=\"height: 525px; width: 100%;\" class=\"plotly-graph-div\"></div><script type=\"text/javascript\">require([\"plotly\"], function(Plotly) { window.PLOTLYENV=window.PLOTLYENV || {};window.PLOTLYENV.BASE_URL=\"https://plot.ly\";\n",
       "if (document.getElementById(\"421d172a-0d78-48fd-83a2-10f1690b4d80\")) {\n",
       "    Plotly.newPlot(\"421d172a-0d78-48fd-83a2-10f1690b4d80\", [{\"marker\": {\"color\": [\"hsl(353.0, 64.0%, 53.0%)\", \"hsl(358.09090909090907, 69.81818181818181%, 54.696969696969695%)\", \"hsl(3.181818181818187, 75.63636363636364%, 56.39393939393939%)\", \"hsl(8.272727272727252, 81.45454545454545%, 58.09090909090909%)\", \"hsl(13.363636363636374, 87.27272727272728%, 59.78787878787879%)\", \"hsl(17.181818181818183, 89.9090909090909%, 61.696969696969695%)\", \"hsl(20.81818181818182, 92.0909090909091%, 63.63636363636364%)\", \"hsl(24.454545454545453, 94.27272727272728%, 65.57575757575758%)\", \"hsl(28.090909090909093, 96.45454545454545%, 67.51515151515152%)\", \"hsl(31.727272727272727, 97.18181818181819%, 69.63636363636364%)\", \"hsl(35.36363636363637, 97.42424242424242%, 71.81818181818181%)\", \"hsl(39.0, 97.66666666666667%, 74.0%)\", \"hsl(42.63636363636364, 97.9090909090909%, 76.18181818181819%)\", \"hsl(46.42424242424242, 98.3030303030303%, 78.51515151515152%)\", \"hsl(50.303030303030305, 98.78787878787878%, 80.93939393939394%)\", \"hsl(54.18181818181818, 99.27272727272727%, 83.36363636363636%)\", \"hsl(58.06060606060606, 99.75757575757575%, 85.78787878787878%)\", \"hsl(61.09090909090909, 97.81818181818181%, 85.78787878787878%)\", \"hsl(63.272727272727266, 93.45454545454547%, 83.36363636363637%)\", \"hsl(65.45454545454545, 89.09090909090908%, 80.93939393939394%)\", \"hsl(67.63636363636364, 84.72727272727272%, 78.51515151515152%)\", \"hsl(72.9090909090909, 78.63636363636364%, 76.81818181818181%)\", \"hsl(83.33333333333331, 69.66666666666669%, 76.33333333333333%)\", \"hsl(93.75757575757578, 60.69696969696968%, 75.84848484848484%)\", \"hsl(104.18181818181819, 51.72727272727272%, 75.36363636363636%)\", \"hsl(114.96969696969697, 44.81818181818182%, 73.96969696969697%)\", \"hsl(126.84848484848483, 44.09090909090909%, 69.84848484848486%)\", \"hsl(138.72727272727275, 43.36363636363636%, 65.72727272727272%)\", \"hsl(150.60606060606062, 42.63636363636363%, 61.6060606060606%)\", \"hsl(162.24242424242425, 42.484848484848484%, 57.63636363636364%)\", \"hsl(172.1818181818182, 46.36363636363636%, 54.727272727272734%)\", \"hsl(182.12121212121212, 50.24242424242425%, 51.81818181818181%)\", \"hsl(192.06060606060606, 54.121212121212125%, 48.90909090909091%)\", \"hsl(202.0, 58.0%, 46.0%)\"]}, \"x\": [0], \"y\": [1], \"type\": \"bar\", \"uid\": \"b85a5bbd-b399-4754-9dca-99b8e4bbecb1\"}], {\"bargap\": 0.2, \"xaxis\": {\"ticktext\": [\"Espa\\u00f1a\", \"Colombia\", \"M\\u00e9xico\", \"Rep\\u00fablica Dominicana\", \"Austria\", \"Chile\", \"Francia\", \"Canad\\u00e1\", \"Nigeria\", \"China\", \"Australia\", \"Rusia\", \"Alemania\", \"Brasil\", \"Estados Unidos de Am\\u00e9rica\", \"India\", \"Eslovaquia\", \"Italia\", \"Inglaterra\", \"Cuba\", \"Ukrania\", \"Venezuela\", \"Indonesia\", \"Albania\", \"Paquistan\", \"Bahamas\", \"Argentina\", \"Islandia\", \"Escocia\", \"Sud\\u00e1n\", \"Nueva Zelanda\", \"Irlanda\", \"Macedonia\", \"Unknown\"], \"tickvals\": [0, 1, 2, 3, 4, 5, 6, 7, 8, 9, 10, 11, 12, 13, 14, 15, 16, 17, 18, 19, 20, 21, 22, 23, 24, 25, 26, 27, 28, 29, 30, 31, 32, 33]}}, {\"showLink\": false, \"linkText\": \"Export to plot.ly\", \"plotlyServerURL\": \"https://plot.ly\"}); \n",
       "}\n",
       "});</script><script type=\"text/javascript\">window.addEventListener(\"resize\", function(){if (document.getElementById(\"421d172a-0d78-48fd-83a2-10f1690b4d80\")) {window._Plotly.Plots.resize(document.getElementById(\"421d172a-0d78-48fd-83a2-10f1690b4d80\"));};})</script>"
      ],
      "text/vnd.plotly.v1+html": [
       "<div id=\"421d172a-0d78-48fd-83a2-10f1690b4d80\" style=\"height: 525px; width: 100%;\" class=\"plotly-graph-div\"></div><script type=\"text/javascript\">require([\"plotly\"], function(Plotly) { window.PLOTLYENV=window.PLOTLYENV || {};window.PLOTLYENV.BASE_URL=\"https://plot.ly\";\n",
       "if (document.getElementById(\"421d172a-0d78-48fd-83a2-10f1690b4d80\")) {\n",
       "    Plotly.newPlot(\"421d172a-0d78-48fd-83a2-10f1690b4d80\", [{\"marker\": {\"color\": [\"hsl(353.0, 64.0%, 53.0%)\", \"hsl(358.09090909090907, 69.81818181818181%, 54.696969696969695%)\", \"hsl(3.181818181818187, 75.63636363636364%, 56.39393939393939%)\", \"hsl(8.272727272727252, 81.45454545454545%, 58.09090909090909%)\", \"hsl(13.363636363636374, 87.27272727272728%, 59.78787878787879%)\", \"hsl(17.181818181818183, 89.9090909090909%, 61.696969696969695%)\", \"hsl(20.81818181818182, 92.0909090909091%, 63.63636363636364%)\", \"hsl(24.454545454545453, 94.27272727272728%, 65.57575757575758%)\", \"hsl(28.090909090909093, 96.45454545454545%, 67.51515151515152%)\", \"hsl(31.727272727272727, 97.18181818181819%, 69.63636363636364%)\", \"hsl(35.36363636363637, 97.42424242424242%, 71.81818181818181%)\", \"hsl(39.0, 97.66666666666667%, 74.0%)\", \"hsl(42.63636363636364, 97.9090909090909%, 76.18181818181819%)\", \"hsl(46.42424242424242, 98.3030303030303%, 78.51515151515152%)\", \"hsl(50.303030303030305, 98.78787878787878%, 80.93939393939394%)\", \"hsl(54.18181818181818, 99.27272727272727%, 83.36363636363636%)\", \"hsl(58.06060606060606, 99.75757575757575%, 85.78787878787878%)\", \"hsl(61.09090909090909, 97.81818181818181%, 85.78787878787878%)\", \"hsl(63.272727272727266, 93.45454545454547%, 83.36363636363637%)\", \"hsl(65.45454545454545, 89.09090909090908%, 80.93939393939394%)\", \"hsl(67.63636363636364, 84.72727272727272%, 78.51515151515152%)\", \"hsl(72.9090909090909, 78.63636363636364%, 76.81818181818181%)\", \"hsl(83.33333333333331, 69.66666666666669%, 76.33333333333333%)\", \"hsl(93.75757575757578, 60.69696969696968%, 75.84848484848484%)\", \"hsl(104.18181818181819, 51.72727272727272%, 75.36363636363636%)\", \"hsl(114.96969696969697, 44.81818181818182%, 73.96969696969697%)\", \"hsl(126.84848484848483, 44.09090909090909%, 69.84848484848486%)\", \"hsl(138.72727272727275, 43.36363636363636%, 65.72727272727272%)\", \"hsl(150.60606060606062, 42.63636363636363%, 61.6060606060606%)\", \"hsl(162.24242424242425, 42.484848484848484%, 57.63636363636364%)\", \"hsl(172.1818181818182, 46.36363636363636%, 54.727272727272734%)\", \"hsl(182.12121212121212, 50.24242424242425%, 51.81818181818181%)\", \"hsl(192.06060606060606, 54.121212121212125%, 48.90909090909091%)\", \"hsl(202.0, 58.0%, 46.0%)\"]}, \"x\": [0], \"y\": [1], \"type\": \"bar\", \"uid\": \"b85a5bbd-b399-4754-9dca-99b8e4bbecb1\"}], {\"bargap\": 0.2, \"xaxis\": {\"ticktext\": [\"Espa\\u00f1a\", \"Colombia\", \"M\\u00e9xico\", \"Rep\\u00fablica Dominicana\", \"Austria\", \"Chile\", \"Francia\", \"Canad\\u00e1\", \"Nigeria\", \"China\", \"Australia\", \"Rusia\", \"Alemania\", \"Brasil\", \"Estados Unidos de Am\\u00e9rica\", \"India\", \"Eslovaquia\", \"Italia\", \"Inglaterra\", \"Cuba\", \"Ukrania\", \"Venezuela\", \"Indonesia\", \"Albania\", \"Paquistan\", \"Bahamas\", \"Argentina\", \"Islandia\", \"Escocia\", \"Sud\\u00e1n\", \"Nueva Zelanda\", \"Irlanda\", \"Macedonia\", \"Unknown\"], \"tickvals\": [0, 1, 2, 3, 4, 5, 6, 7, 8, 9, 10, 11, 12, 13, 14, 15, 16, 17, 18, 19, 20, 21, 22, 23, 24, 25, 26, 27, 28, 29, 30, 31, 32, 33]}}, {\"showLink\": false, \"linkText\": \"Export to plot.ly\", \"plotlyServerURL\": \"https://plot.ly\"}); \n",
       "}\n",
       "});</script><script type=\"text/javascript\">window.addEventListener(\"resize\", function(){if (document.getElementById(\"421d172a-0d78-48fd-83a2-10f1690b4d80\")) {window._Plotly.Plots.resize(document.getElementById(\"421d172a-0d78-48fd-83a2-10f1690b4d80\"));};})</script>"
      ]
     },
     "metadata": {},
     "output_type": "display_data"
    },
    {
     "name": "stdout",
     "output_type": "stream",
     "text": [
      "\n",
      "\n",
      "Cluster 5 || variable: Nivel de estudios\n",
      "Describiendo la pregunta Nivel de estudios\n",
      "Valores numéricos asociados a las respuestas [0, 1, 2, 3, 4, 5]\n",
      "Respuestas posibles a la pregunta/variable ['Educación Primaria', 'Sin terminar Educación Secundaria Obligatoria', 'Terminada Educación Secundaria Obligatoria', 'FP', 'Universitario sin graduar', 'Universitario graduado']\n"
     ]
    },
    {
     "data": {
      "text/plain": [
       "count    1.0\n",
       "mean     4.0\n",
       "std      NaN\n",
       "min      4.0\n",
       "25%      4.0\n",
       "50%      4.0\n",
       "75%      4.0\n",
       "max      4.0\n",
       "Name: Nivel de estudios, dtype: float64"
      ]
     },
     "metadata": {},
     "output_type": "display_data"
    },
    {
     "name": "stdout",
     "output_type": "stream",
     "text": [
      "Conteo de cada valor en Nivel de estudios expresada como valor / cantidad\n"
     ]
    },
    {
     "data": {
      "text/plain": [
       "4    1\n",
       "Name: Nivel de estudios, dtype: int64"
      ]
     },
     "metadata": {},
     "output_type": "display_data"
    },
    {
     "name": "stdout",
     "output_type": "stream",
     "text": [
      "Porcentaje de cada valor en Nivel de estudios expresado como valor / porcentaje\n"
     ]
    },
    {
     "data": {
      "text/plain": [
       "4    100.0\n",
       "Name: Nivel de estudios, dtype: float64"
      ]
     },
     "metadata": {},
     "output_type": "display_data"
    },
    {
     "data": {
      "application/vnd.plotly.v1+json": {
       "config": {
        "linkText": "Export to plot.ly",
        "plotlyServerURL": "https://plot.ly",
        "showLink": false
       },
       "data": [
        {
         "marker": {
          "color": [
           "rgb(213,62,79)",
           "rgb(252,141,89)",
           "rgb(254,224,139)",
           "rgb(230,245,152)",
           "rgb(153,213,148)",
           "rgb(50,136,189)"
          ]
         },
         "type": "bar",
         "uid": "2312f050-16df-4de7-8f6b-bce5ad118a2a",
         "x": [
          4
         ],
         "y": [
          1
         ]
        }
       ],
       "layout": {
        "bargap": 0.2,
        "xaxis": {
         "ticktext": [
          "Educación Primaria",
          "Sin terminar Educación Secundaria Obligatoria",
          "Terminada Educación Secundaria Obligatoria",
          "FP",
          "Universitario sin graduar",
          "Universitario graduado"
         ],
         "tickvals": [
          0,
          1,
          2,
          3,
          4,
          5
         ]
        }
       }
      },
      "text/html": [
       "<div id=\"76b6f26e-3b52-4828-a660-a3175b5b777e\" style=\"height: 525px; width: 100%;\" class=\"plotly-graph-div\"></div><script type=\"text/javascript\">require([\"plotly\"], function(Plotly) { window.PLOTLYENV=window.PLOTLYENV || {};window.PLOTLYENV.BASE_URL=\"https://plot.ly\";\n",
       "if (document.getElementById(\"76b6f26e-3b52-4828-a660-a3175b5b777e\")) {\n",
       "    Plotly.newPlot(\"76b6f26e-3b52-4828-a660-a3175b5b777e\", [{\"marker\": {\"color\": [\"rgb(213,62,79)\", \"rgb(252,141,89)\", \"rgb(254,224,139)\", \"rgb(230,245,152)\", \"rgb(153,213,148)\", \"rgb(50,136,189)\"]}, \"x\": [4], \"y\": [1], \"type\": \"bar\", \"uid\": \"2312f050-16df-4de7-8f6b-bce5ad118a2a\"}], {\"bargap\": 0.2, \"xaxis\": {\"ticktext\": [\"Educaci\\u00f3n Primaria\", \"Sin terminar Educaci\\u00f3n Secundaria Obligatoria\", \"Terminada Educaci\\u00f3n Secundaria Obligatoria\", \"FP\", \"Universitario sin graduar\", \"Universitario graduado\"], \"tickvals\": [0, 1, 2, 3, 4, 5]}}, {\"showLink\": false, \"linkText\": \"Export to plot.ly\", \"plotlyServerURL\": \"https://plot.ly\"}); \n",
       "}\n",
       "});</script><script type=\"text/javascript\">window.addEventListener(\"resize\", function(){if (document.getElementById(\"76b6f26e-3b52-4828-a660-a3175b5b777e\")) {window._Plotly.Plots.resize(document.getElementById(\"76b6f26e-3b52-4828-a660-a3175b5b777e\"));};})</script>"
      ],
      "text/vnd.plotly.v1+html": [
       "<div id=\"76b6f26e-3b52-4828-a660-a3175b5b777e\" style=\"height: 525px; width: 100%;\" class=\"plotly-graph-div\"></div><script type=\"text/javascript\">require([\"plotly\"], function(Plotly) { window.PLOTLYENV=window.PLOTLYENV || {};window.PLOTLYENV.BASE_URL=\"https://plot.ly\";\n",
       "if (document.getElementById(\"76b6f26e-3b52-4828-a660-a3175b5b777e\")) {\n",
       "    Plotly.newPlot(\"76b6f26e-3b52-4828-a660-a3175b5b777e\", [{\"marker\": {\"color\": [\"rgb(213,62,79)\", \"rgb(252,141,89)\", \"rgb(254,224,139)\", \"rgb(230,245,152)\", \"rgb(153,213,148)\", \"rgb(50,136,189)\"]}, \"x\": [4], \"y\": [1], \"type\": \"bar\", \"uid\": \"2312f050-16df-4de7-8f6b-bce5ad118a2a\"}], {\"bargap\": 0.2, \"xaxis\": {\"ticktext\": [\"Educaci\\u00f3n Primaria\", \"Sin terminar Educaci\\u00f3n Secundaria Obligatoria\", \"Terminada Educaci\\u00f3n Secundaria Obligatoria\", \"FP\", \"Universitario sin graduar\", \"Universitario graduado\"], \"tickvals\": [0, 1, 2, 3, 4, 5]}}, {\"showLink\": false, \"linkText\": \"Export to plot.ly\", \"plotlyServerURL\": \"https://plot.ly\"}); \n",
       "}\n",
       "});</script><script type=\"text/javascript\">window.addEventListener(\"resize\", function(){if (document.getElementById(\"76b6f26e-3b52-4828-a660-a3175b5b777e\")) {window._Plotly.Plots.resize(document.getElementById(\"76b6f26e-3b52-4828-a660-a3175b5b777e\"));};})</script>"
      ]
     },
     "metadata": {},
     "output_type": "display_data"
    },
    {
     "name": "stdout",
     "output_type": "stream",
     "text": [
      "\n",
      "\n",
      "Cluster 4 || variable: Género\n",
      "Describiendo la pregunta Género\n"
     ]
    },
    {
     "data": {
      "text/plain": [
       "count    215.000000\n",
       "mean       0.413953\n",
       "std        0.512271\n",
       "min        0.000000\n",
       "25%        0.000000\n",
       "50%        0.000000\n",
       "75%        1.000000\n",
       "max        2.000000\n",
       "Name: Género, dtype: float64"
      ]
     },
     "metadata": {},
     "output_type": "display_data"
    },
    {
     "name": "stdout",
     "output_type": "stream",
     "text": [
      "Conteo de cada valor en Género expresada como valor / cantidad\n"
     ]
    },
    {
     "data": {
      "text/plain": [
       "0    128\n",
       "1     85\n",
       "2      2\n",
       "Name: Género, dtype: int64"
      ]
     },
     "metadata": {},
     "output_type": "display_data"
    },
    {
     "name": "stdout",
     "output_type": "stream",
     "text": [
      "Porcentaje de cada valor en Género expresado como valor / porcentaje\n"
     ]
    },
    {
     "data": {
      "text/plain": [
       "0    59.53\n",
       "1    39.53\n",
       "2     0.93\n",
       "Name: Género, dtype: float64"
      ]
     },
     "metadata": {},
     "output_type": "display_data"
    },
    {
     "data": {
      "application/vnd.plotly.v1+json": {
       "config": {
        "linkText": "Export to plot.ly",
        "plotlyServerURL": "https://plot.ly",
        "showLink": false
       },
       "data": [
        {
         "marker": {
          "color": [
           "rgb(213,62,79)",
           "rgb(252,141,89)",
           "rgb(254,224,139)",
           "rgb(230,245,152)",
           "rgb(153,213,148)",
           "rgb(50,136,189)"
          ]
         },
         "type": "bar",
         "uid": "46eb60e2-d5d2-4ea1-8004-04c5e135af3e",
         "x": [
          0,
          1,
          2
         ],
         "y": [
          128,
          85,
          2
         ]
        }
       ],
       "layout": {}
      },
      "text/html": [
       "<div id=\"53226dcd-2bad-4244-83f2-3f9d6a9d5f56\" style=\"height: 525px; width: 100%;\" class=\"plotly-graph-div\"></div><script type=\"text/javascript\">require([\"plotly\"], function(Plotly) { window.PLOTLYENV=window.PLOTLYENV || {};window.PLOTLYENV.BASE_URL=\"https://plot.ly\";\n",
       "if (document.getElementById(\"53226dcd-2bad-4244-83f2-3f9d6a9d5f56\")) {\n",
       "    Plotly.newPlot(\"53226dcd-2bad-4244-83f2-3f9d6a9d5f56\", [{\"marker\": {\"color\": [\"rgb(213,62,79)\", \"rgb(252,141,89)\", \"rgb(254,224,139)\", \"rgb(230,245,152)\", \"rgb(153,213,148)\", \"rgb(50,136,189)\"]}, \"x\": [0, 1, 2], \"y\": [128, 85, 2], \"type\": \"bar\", \"uid\": \"2abac4a0-9361-4176-a2c7-fb3fab383c25\"}], {}, {\"showLink\": false, \"linkText\": \"Export to plot.ly\", \"plotlyServerURL\": \"https://plot.ly\"}); \n",
       "}\n",
       "});</script><script type=\"text/javascript\">window.addEventListener(\"resize\", function(){if (document.getElementById(\"53226dcd-2bad-4244-83f2-3f9d6a9d5f56\")) {window._Plotly.Plots.resize(document.getElementById(\"53226dcd-2bad-4244-83f2-3f9d6a9d5f56\"));};})</script>"
      ],
      "text/vnd.plotly.v1+html": [
       "<div id=\"53226dcd-2bad-4244-83f2-3f9d6a9d5f56\" style=\"height: 525px; width: 100%;\" class=\"plotly-graph-div\"></div><script type=\"text/javascript\">require([\"plotly\"], function(Plotly) { window.PLOTLYENV=window.PLOTLYENV || {};window.PLOTLYENV.BASE_URL=\"https://plot.ly\";\n",
       "if (document.getElementById(\"53226dcd-2bad-4244-83f2-3f9d6a9d5f56\")) {\n",
       "    Plotly.newPlot(\"53226dcd-2bad-4244-83f2-3f9d6a9d5f56\", [{\"marker\": {\"color\": [\"rgb(213,62,79)\", \"rgb(252,141,89)\", \"rgb(254,224,139)\", \"rgb(230,245,152)\", \"rgb(153,213,148)\", \"rgb(50,136,189)\"]}, \"x\": [0, 1, 2], \"y\": [128, 85, 2], \"type\": \"bar\", \"uid\": \"2abac4a0-9361-4176-a2c7-fb3fab383c25\"}], {}, {\"showLink\": false, \"linkText\": \"Export to plot.ly\", \"plotlyServerURL\": \"https://plot.ly\"}); \n",
       "}\n",
       "});</script><script type=\"text/javascript\">window.addEventListener(\"resize\", function(){if (document.getElementById(\"53226dcd-2bad-4244-83f2-3f9d6a9d5f56\")) {window._Plotly.Plots.resize(document.getElementById(\"53226dcd-2bad-4244-83f2-3f9d6a9d5f56\"));};})</script>"
      ]
     },
     "metadata": {},
     "output_type": "display_data"
    },
    {
     "name": "stdout",
     "output_type": "stream",
     "text": [
      "\n",
      "\n",
      "Cluster 4 || variable: Edad\n",
      "Describiendo la pregunta Edad\n"
     ]
    },
    {
     "data": {
      "text/plain": [
       "count    215.000000\n",
       "mean      29.767442\n",
       "std       12.335340\n",
       "min       13.000000\n",
       "25%       21.000000\n",
       "50%       28.000000\n",
       "75%       35.000000\n",
       "max       69.000000\n",
       "Name: Edad, dtype: float64"
      ]
     },
     "metadata": {},
     "output_type": "display_data"
    },
    {
     "name": "stdout",
     "output_type": "stream",
     "text": [
      "Conteo de cada valor en Edad expresada como valor / cantidad\n"
     ]
    },
    {
     "data": {
      "text/plain": [
       "13     3\n",
       "14    22\n",
       "15     9\n",
       "16     7\n",
       "18     6\n",
       "19     1\n",
       "20     1\n",
       "21     7\n",
       "22     3\n",
       "23     4\n",
       "24     8\n",
       "25     7\n",
       "26    12\n",
       "27    12\n",
       "28     8\n",
       "29     9\n",
       "30    11\n",
       "31     5\n",
       "32     8\n",
       "33     8\n",
       "34     6\n",
       "35     9\n",
       "36     1\n",
       "37     1\n",
       "38     5\n",
       "39     3\n",
       "40     3\n",
       "41     1\n",
       "42     4\n",
       "43     3\n",
       "44     3\n",
       "46     3\n",
       "47     2\n",
       "48     1\n",
       "49     1\n",
       "50     2\n",
       "51     1\n",
       "52     1\n",
       "55     3\n",
       "56     2\n",
       "57     2\n",
       "60     1\n",
       "62     2\n",
       "63     1\n",
       "66     1\n",
       "67     1\n",
       "69     1\n",
       "Name: Edad, dtype: int64"
      ]
     },
     "metadata": {},
     "output_type": "display_data"
    },
    {
     "name": "stdout",
     "output_type": "stream",
     "text": [
      "Porcentaje de cada valor en Edad expresado como valor / porcentaje\n"
     ]
    },
    {
     "data": {
      "text/plain": [
       "13     1.40\n",
       "14    10.23\n",
       "15     4.19\n",
       "16     3.26\n",
       "18     2.79\n",
       "19     0.47\n",
       "20     0.47\n",
       "21     3.26\n",
       "22     1.40\n",
       "23     1.86\n",
       "24     3.72\n",
       "25     3.26\n",
       "26     5.58\n",
       "27     5.58\n",
       "28     3.72\n",
       "29     4.19\n",
       "30     5.12\n",
       "31     2.33\n",
       "32     3.72\n",
       "33     3.72\n",
       "34     2.79\n",
       "35     4.19\n",
       "36     0.47\n",
       "37     0.47\n",
       "38     2.33\n",
       "39     1.40\n",
       "40     1.40\n",
       "41     0.47\n",
       "42     1.86\n",
       "43     1.40\n",
       "44     1.40\n",
       "46     1.40\n",
       "47     0.93\n",
       "48     0.47\n",
       "49     0.47\n",
       "50     0.93\n",
       "51     0.47\n",
       "52     0.47\n",
       "55     1.40\n",
       "56     0.93\n",
       "57     0.93\n",
       "60     0.47\n",
       "62     0.93\n",
       "63     0.47\n",
       "66     0.47\n",
       "67     0.47\n",
       "69     0.47\n",
       "Name: Edad, dtype: float64"
      ]
     },
     "metadata": {},
     "output_type": "display_data"
    },
    {
     "data": {
      "application/vnd.plotly.v1+json": {
       "config": {
        "linkText": "Export to plot.ly",
        "plotlyServerURL": "https://plot.ly",
        "showLink": false
       },
       "data": [
        {
         "marker": {
          "color": [
           "hsl(147.27999999999997, 42.84%, 62.760000000000005%)",
           "hsl(18.2, 90.52%, 62.24%)",
           "hsl(47.2, 98.4%, 79.0%)",
           "hsl(74.16000000000001, 77.56%, 76.76%)",
           "hsl(147.27999999999997, 42.84%, 62.760000000000005%)",
           "hsl(67.2, 85.60000000000001%, 79.0%)",
           "hsl(64.32000000000001, 91.35999999999999%, 82.19999999999999%)",
           "hsl(67.2, 85.60000000000001%, 79.0%)",
           "hsl(27.799999999999997, 96.28%, 67.36%)",
           "hsl(57.44, 99.68%, 85.4%)",
           "hsl(37.4, 97.56%, 73.04%)",
           "hsl(353.0, 64.0%, 53.0%)",
           "hsl(32.6, 97.24%, 70.16%)",
           "hsl(13.160000000000025, 87.03999999999999%, 59.72%)",
           "hsl(359.72, 71.68%, 55.24%)",
           "hsl(353.0, 64.0%, 53.0%)",
           "hsl(6.439999999999998, 79.36%, 57.480000000000004%)",
           "hsl(359.72, 71.68%, 55.24%)",
           "hsl(27.799999999999997, 96.28%, 67.36%)",
           "hsl(27.799999999999997, 96.28%, 67.36%)",
           "hsl(27.799999999999997, 96.28%, 67.36%)",
           "hsl(23.0, 93.4%, 64.8%)",
           "hsl(18.2, 90.52%, 62.24%)",
           "hsl(52.32, 99.04%, 82.2%)",
           "hsl(47.2, 98.4%, 79.0%)",
           "hsl(42.2, 97.88%, 75.92%)",
           "hsl(61.44, 97.12%, 85.4%)",
           "hsl(87.92000000000002, 65.71999999999998%, 76.12%)",
           "hsl(87.92000000000002, 65.71999999999998%, 76.12%)",
           "hsl(64.32000000000001, 91.35999999999999%, 82.19999999999999%)",
           "hsl(64.32000000000001, 91.35999999999999%, 82.19999999999999%)",
           "hsl(101.67999999999999, 53.88000000000001%, 75.48%)",
           "hsl(101.67999999999999, 53.88000000000001%, 75.48%)",
           "hsl(61.44, 97.12%, 85.4%)",
           "hsl(87.92000000000002, 65.71999999999998%, 76.12%)",
           "hsl(147.27999999999997, 42.84%, 62.760000000000005%)",
           "hsl(162.64000000000001, 42.64%, 57.519999999999996%)",
           "hsl(131.60000000000002, 43.8%, 68.19999999999999%)",
           "hsl(131.60000000000002, 43.8%, 68.19999999999999%)",
           "hsl(188.88, 52.879999999999995%, 49.84%)",
           "hsl(101.67999999999999, 53.88000000000001%, 75.48%)",
           "hsl(162.64000000000001, 42.64%, 57.519999999999996%)",
           "hsl(115.92, 44.76%, 73.64%)",
           "hsl(147.27999999999997, 42.84%, 62.760000000000005%)",
           "hsl(131.60000000000002, 43.8%, 68.19999999999999%)",
           "hsl(202.0, 58.0%, 46.0%)",
           "hsl(188.88, 52.879999999999995%, 49.84%)",
           "hsl(147.27999999999997, 42.84%, 62.760000000000005%)",
           "hsl(175.76000000000002, 47.760000000000005%, 53.67999999999999%)",
           "hsl(115.92, 44.76%, 73.64%)",
           "hsl(202.0, 58.0%, 46.0%)",
           "hsl(175.76000000000002, 47.760000000000005%, 53.67999999999999%)",
           "hsl(188.88, 52.879999999999995%, 49.84%)",
           "hsl(188.88, 52.879999999999995%, 49.84%)",
           "hsl(162.64000000000001, 42.64%, 57.519999999999996%)",
           "hsl(202.0, 58.0%, 46.0%)",
           "hsl(188.88, 52.879999999999995%, 49.84%)",
           "hsl(202.0, 58.0%, 46.0%)",
           "hsl(202.0, 58.0%, 46.0%)",
           "hsl(202.0, 58.0%, 46.0%)",
           "hsl(202.0, 58.0%, 46.0%)",
           "hsl(188.88, 52.879999999999995%, 49.84%)"
          ]
         },
         "type": "bar",
         "uid": "1594f685-54fa-4700-8fde-125243824cc3",
         "x": [
          13,
          14,
          15,
          16,
          18,
          19,
          20,
          21,
          22,
          23,
          24,
          25,
          26,
          27,
          28,
          29,
          30,
          31,
          32,
          33,
          34,
          35,
          36,
          37,
          38,
          39,
          40,
          41,
          42,
          43,
          44,
          46,
          47,
          48,
          49,
          50,
          51,
          52,
          55,
          56,
          57,
          60,
          62,
          63,
          66,
          67,
          69
         ],
         "y": [
          3,
          22,
          9,
          7,
          6,
          1,
          1,
          7,
          3,
          4,
          8,
          7,
          12,
          12,
          8,
          9,
          11,
          5,
          8,
          8,
          6,
          9,
          1,
          1,
          5,
          3,
          3,
          1,
          4,
          3,
          3,
          3,
          2,
          1,
          1,
          2,
          1,
          1,
          3,
          2,
          2,
          1,
          2,
          1,
          1,
          1,
          1
         ]
        }
       ],
       "layout": {}
      },
      "text/html": [
       "<div id=\"34a7881b-190d-4345-bf74-373281989a0f\" style=\"height: 525px; width: 100%;\" class=\"plotly-graph-div\"></div><script type=\"text/javascript\">require([\"plotly\"], function(Plotly) { window.PLOTLYENV=window.PLOTLYENV || {};window.PLOTLYENV.BASE_URL=\"https://plot.ly\";\n",
       "if (document.getElementById(\"34a7881b-190d-4345-bf74-373281989a0f\")) {\n",
       "    Plotly.newPlot(\"34a7881b-190d-4345-bf74-373281989a0f\", [{\"marker\": {\"color\": [\"hsl(147.27999999999997, 42.84%, 62.760000000000005%)\", \"hsl(18.2, 90.52%, 62.24%)\", \"hsl(47.2, 98.4%, 79.0%)\", \"hsl(74.16000000000001, 77.56%, 76.76%)\", \"hsl(147.27999999999997, 42.84%, 62.760000000000005%)\", \"hsl(67.2, 85.60000000000001%, 79.0%)\", \"hsl(64.32000000000001, 91.35999999999999%, 82.19999999999999%)\", \"hsl(67.2, 85.60000000000001%, 79.0%)\", \"hsl(27.799999999999997, 96.28%, 67.36%)\", \"hsl(57.44, 99.68%, 85.4%)\", \"hsl(37.4, 97.56%, 73.04%)\", \"hsl(353.0, 64.0%, 53.0%)\", \"hsl(32.6, 97.24%, 70.16%)\", \"hsl(13.160000000000025, 87.03999999999999%, 59.72%)\", \"hsl(359.72, 71.68%, 55.24%)\", \"hsl(353.0, 64.0%, 53.0%)\", \"hsl(6.439999999999998, 79.36%, 57.480000000000004%)\", \"hsl(359.72, 71.68%, 55.24%)\", \"hsl(27.799999999999997, 96.28%, 67.36%)\", \"hsl(27.799999999999997, 96.28%, 67.36%)\", \"hsl(27.799999999999997, 96.28%, 67.36%)\", \"hsl(23.0, 93.4%, 64.8%)\", \"hsl(18.2, 90.52%, 62.24%)\", \"hsl(52.32, 99.04%, 82.2%)\", \"hsl(47.2, 98.4%, 79.0%)\", \"hsl(42.2, 97.88%, 75.92%)\", \"hsl(61.44, 97.12%, 85.4%)\", \"hsl(87.92000000000002, 65.71999999999998%, 76.12%)\", \"hsl(87.92000000000002, 65.71999999999998%, 76.12%)\", \"hsl(64.32000000000001, 91.35999999999999%, 82.19999999999999%)\", \"hsl(64.32000000000001, 91.35999999999999%, 82.19999999999999%)\", \"hsl(101.67999999999999, 53.88000000000001%, 75.48%)\", \"hsl(101.67999999999999, 53.88000000000001%, 75.48%)\", \"hsl(61.44, 97.12%, 85.4%)\", \"hsl(87.92000000000002, 65.71999999999998%, 76.12%)\", \"hsl(147.27999999999997, 42.84%, 62.760000000000005%)\", \"hsl(162.64000000000001, 42.64%, 57.519999999999996%)\", \"hsl(131.60000000000002, 43.8%, 68.19999999999999%)\", \"hsl(131.60000000000002, 43.8%, 68.19999999999999%)\", \"hsl(188.88, 52.879999999999995%, 49.84%)\", \"hsl(101.67999999999999, 53.88000000000001%, 75.48%)\", \"hsl(162.64000000000001, 42.64%, 57.519999999999996%)\", \"hsl(115.92, 44.76%, 73.64%)\", \"hsl(147.27999999999997, 42.84%, 62.760000000000005%)\", \"hsl(131.60000000000002, 43.8%, 68.19999999999999%)\", \"hsl(202.0, 58.0%, 46.0%)\", \"hsl(188.88, 52.879999999999995%, 49.84%)\", \"hsl(147.27999999999997, 42.84%, 62.760000000000005%)\", \"hsl(175.76000000000002, 47.760000000000005%, 53.67999999999999%)\", \"hsl(115.92, 44.76%, 73.64%)\", \"hsl(202.0, 58.0%, 46.0%)\", \"hsl(175.76000000000002, 47.760000000000005%, 53.67999999999999%)\", \"hsl(188.88, 52.879999999999995%, 49.84%)\", \"hsl(188.88, 52.879999999999995%, 49.84%)\", \"hsl(162.64000000000001, 42.64%, 57.519999999999996%)\", \"hsl(202.0, 58.0%, 46.0%)\", \"hsl(188.88, 52.879999999999995%, 49.84%)\", \"hsl(202.0, 58.0%, 46.0%)\", \"hsl(202.0, 58.0%, 46.0%)\", \"hsl(202.0, 58.0%, 46.0%)\", \"hsl(202.0, 58.0%, 46.0%)\", \"hsl(188.88, 52.879999999999995%, 49.84%)\"]}, \"x\": [13, 14, 15, 16, 18, 19, 20, 21, 22, 23, 24, 25, 26, 27, 28, 29, 30, 31, 32, 33, 34, 35, 36, 37, 38, 39, 40, 41, 42, 43, 44, 46, 47, 48, 49, 50, 51, 52, 55, 56, 57, 60, 62, 63, 66, 67, 69], \"y\": [3, 22, 9, 7, 6, 1, 1, 7, 3, 4, 8, 7, 12, 12, 8, 9, 11, 5, 8, 8, 6, 9, 1, 1, 5, 3, 3, 1, 4, 3, 3, 3, 2, 1, 1, 2, 1, 1, 3, 2, 2, 1, 2, 1, 1, 1, 1], \"type\": \"bar\", \"uid\": \"b56a851f-fafb-407a-9d9f-c65a6b9872a7\"}], {}, {\"showLink\": false, \"linkText\": \"Export to plot.ly\", \"plotlyServerURL\": \"https://plot.ly\"}); \n",
       "}\n",
       "});</script><script type=\"text/javascript\">window.addEventListener(\"resize\", function(){if (document.getElementById(\"34a7881b-190d-4345-bf74-373281989a0f\")) {window._Plotly.Plots.resize(document.getElementById(\"34a7881b-190d-4345-bf74-373281989a0f\"));};})</script>"
      ],
      "text/vnd.plotly.v1+html": [
       "<div id=\"34a7881b-190d-4345-bf74-373281989a0f\" style=\"height: 525px; width: 100%;\" class=\"plotly-graph-div\"></div><script type=\"text/javascript\">require([\"plotly\"], function(Plotly) { window.PLOTLYENV=window.PLOTLYENV || {};window.PLOTLYENV.BASE_URL=\"https://plot.ly\";\n",
       "if (document.getElementById(\"34a7881b-190d-4345-bf74-373281989a0f\")) {\n",
       "    Plotly.newPlot(\"34a7881b-190d-4345-bf74-373281989a0f\", [{\"marker\": {\"color\": [\"hsl(147.27999999999997, 42.84%, 62.760000000000005%)\", \"hsl(18.2, 90.52%, 62.24%)\", \"hsl(47.2, 98.4%, 79.0%)\", \"hsl(74.16000000000001, 77.56%, 76.76%)\", \"hsl(147.27999999999997, 42.84%, 62.760000000000005%)\", \"hsl(67.2, 85.60000000000001%, 79.0%)\", \"hsl(64.32000000000001, 91.35999999999999%, 82.19999999999999%)\", \"hsl(67.2, 85.60000000000001%, 79.0%)\", \"hsl(27.799999999999997, 96.28%, 67.36%)\", \"hsl(57.44, 99.68%, 85.4%)\", \"hsl(37.4, 97.56%, 73.04%)\", \"hsl(353.0, 64.0%, 53.0%)\", \"hsl(32.6, 97.24%, 70.16%)\", \"hsl(13.160000000000025, 87.03999999999999%, 59.72%)\", \"hsl(359.72, 71.68%, 55.24%)\", \"hsl(353.0, 64.0%, 53.0%)\", \"hsl(6.439999999999998, 79.36%, 57.480000000000004%)\", \"hsl(359.72, 71.68%, 55.24%)\", \"hsl(27.799999999999997, 96.28%, 67.36%)\", \"hsl(27.799999999999997, 96.28%, 67.36%)\", \"hsl(27.799999999999997, 96.28%, 67.36%)\", \"hsl(23.0, 93.4%, 64.8%)\", \"hsl(18.2, 90.52%, 62.24%)\", \"hsl(52.32, 99.04%, 82.2%)\", \"hsl(47.2, 98.4%, 79.0%)\", \"hsl(42.2, 97.88%, 75.92%)\", \"hsl(61.44, 97.12%, 85.4%)\", \"hsl(87.92000000000002, 65.71999999999998%, 76.12%)\", \"hsl(87.92000000000002, 65.71999999999998%, 76.12%)\", \"hsl(64.32000000000001, 91.35999999999999%, 82.19999999999999%)\", \"hsl(64.32000000000001, 91.35999999999999%, 82.19999999999999%)\", \"hsl(101.67999999999999, 53.88000000000001%, 75.48%)\", \"hsl(101.67999999999999, 53.88000000000001%, 75.48%)\", \"hsl(61.44, 97.12%, 85.4%)\", \"hsl(87.92000000000002, 65.71999999999998%, 76.12%)\", \"hsl(147.27999999999997, 42.84%, 62.760000000000005%)\", \"hsl(162.64000000000001, 42.64%, 57.519999999999996%)\", \"hsl(131.60000000000002, 43.8%, 68.19999999999999%)\", \"hsl(131.60000000000002, 43.8%, 68.19999999999999%)\", \"hsl(188.88, 52.879999999999995%, 49.84%)\", \"hsl(101.67999999999999, 53.88000000000001%, 75.48%)\", \"hsl(162.64000000000001, 42.64%, 57.519999999999996%)\", \"hsl(115.92, 44.76%, 73.64%)\", \"hsl(147.27999999999997, 42.84%, 62.760000000000005%)\", \"hsl(131.60000000000002, 43.8%, 68.19999999999999%)\", \"hsl(202.0, 58.0%, 46.0%)\", \"hsl(188.88, 52.879999999999995%, 49.84%)\", \"hsl(147.27999999999997, 42.84%, 62.760000000000005%)\", \"hsl(175.76000000000002, 47.760000000000005%, 53.67999999999999%)\", \"hsl(115.92, 44.76%, 73.64%)\", \"hsl(202.0, 58.0%, 46.0%)\", \"hsl(175.76000000000002, 47.760000000000005%, 53.67999999999999%)\", \"hsl(188.88, 52.879999999999995%, 49.84%)\", \"hsl(188.88, 52.879999999999995%, 49.84%)\", \"hsl(162.64000000000001, 42.64%, 57.519999999999996%)\", \"hsl(202.0, 58.0%, 46.0%)\", \"hsl(188.88, 52.879999999999995%, 49.84%)\", \"hsl(202.0, 58.0%, 46.0%)\", \"hsl(202.0, 58.0%, 46.0%)\", \"hsl(202.0, 58.0%, 46.0%)\", \"hsl(202.0, 58.0%, 46.0%)\", \"hsl(188.88, 52.879999999999995%, 49.84%)\"]}, \"x\": [13, 14, 15, 16, 18, 19, 20, 21, 22, 23, 24, 25, 26, 27, 28, 29, 30, 31, 32, 33, 34, 35, 36, 37, 38, 39, 40, 41, 42, 43, 44, 46, 47, 48, 49, 50, 51, 52, 55, 56, 57, 60, 62, 63, 66, 67, 69], \"y\": [3, 22, 9, 7, 6, 1, 1, 7, 3, 4, 8, 7, 12, 12, 8, 9, 11, 5, 8, 8, 6, 9, 1, 1, 5, 3, 3, 1, 4, 3, 3, 3, 2, 1, 1, 2, 1, 1, 3, 2, 2, 1, 2, 1, 1, 1, 1], \"type\": \"bar\", \"uid\": \"b56a851f-fafb-407a-9d9f-c65a6b9872a7\"}], {}, {\"showLink\": false, \"linkText\": \"Export to plot.ly\", \"plotlyServerURL\": \"https://plot.ly\"}); \n",
       "}\n",
       "});</script><script type=\"text/javascript\">window.addEventListener(\"resize\", function(){if (document.getElementById(\"34a7881b-190d-4345-bf74-373281989a0f\")) {window._Plotly.Plots.resize(document.getElementById(\"34a7881b-190d-4345-bf74-373281989a0f\"));};})</script>"
      ]
     },
     "metadata": {},
     "output_type": "display_data"
    },
    {
     "name": "stdout",
     "output_type": "stream",
     "text": [
      "\n",
      "\n",
      "Cluster 4 || variable: Nacionalidad\n",
      "Describiendo la pregunta Nacionalidad\n",
      "Valores numéricos asociados a las respuestas [0, 1, 2, 3, 4, 5, 6, 7, 8, 9, 10, 11, 12, 13, 14, 15, 16, 17, 18, 19, 20, 21, 22, 23, 24, 25, 26, 27, 28, 29, 30, 31, 32, 33]\n",
      "Respuestas posibles a la pregunta/variable ['España', 'Colombia', 'México', 'República Dominicana', 'Austria', 'Chile', 'Francia', 'Canadá', 'Nigeria', 'China', 'Australia', 'Rusia', 'Alemania', 'Brasil', 'Estados Unidos de América', 'India', 'Eslovaquia', 'Italia', 'Inglaterra', 'Cuba', 'Ukrania', 'Venezuela', 'Indonesia', 'Albania', 'Paquistan', 'Bahamas', 'Argentina', 'Islandia', 'Escocia', 'Sudán', 'Nueva Zelanda', 'Irlanda', 'Macedonia', 'Unknown']\n"
     ]
    },
    {
     "data": {
      "text/plain": [
       "count    215.000000\n",
       "mean      10.362791\n",
       "std        7.984712\n",
       "min        0.000000\n",
       "25%        0.000000\n",
       "50%       14.000000\n",
       "75%       14.000000\n",
       "max       33.000000\n",
       "Name: Nacionalidad, dtype: float64"
      ]
     },
     "metadata": {},
     "output_type": "display_data"
    },
    {
     "name": "stdout",
     "output_type": "stream",
     "text": [
      "Conteo de cada valor en Nacionalidad expresada como valor / cantidad\n"
     ]
    },
    {
     "data": {
      "text/plain": [
       "0     67\n",
       "6      3\n",
       "7      1\n",
       "8      3\n",
       "12     1\n",
       "14    91\n",
       "15    36\n",
       "17     3\n",
       "18     1\n",
       "20     1\n",
       "33     8\n",
       "Name: Nacionalidad, dtype: int64"
      ]
     },
     "metadata": {},
     "output_type": "display_data"
    },
    {
     "name": "stdout",
     "output_type": "stream",
     "text": [
      "Porcentaje de cada valor en Nacionalidad expresado como valor / porcentaje\n"
     ]
    },
    {
     "data": {
      "text/plain": [
       "0     31.16\n",
       "6      1.40\n",
       "7      0.47\n",
       "8      1.40\n",
       "12     0.47\n",
       "14    42.33\n",
       "15    16.74\n",
       "17     1.40\n",
       "18     0.47\n",
       "20     0.47\n",
       "33     3.72\n",
       "Name: Nacionalidad, dtype: float64"
      ]
     },
     "metadata": {},
     "output_type": "display_data"
    },
    {
     "data": {
      "application/vnd.plotly.v1+json": {
       "config": {
        "linkText": "Export to plot.ly",
        "plotlyServerURL": "https://plot.ly",
        "showLink": false
       },
       "data": [
        {
         "marker": {
          "color": [
           "hsl(353.0, 64.0%, 53.0%)",
           "hsl(358.09090909090907, 69.81818181818181%, 54.696969696969695%)",
           "hsl(3.181818181818187, 75.63636363636364%, 56.39393939393939%)",
           "hsl(8.272727272727252, 81.45454545454545%, 58.09090909090909%)",
           "hsl(13.363636363636374, 87.27272727272728%, 59.78787878787879%)",
           "hsl(17.181818181818183, 89.9090909090909%, 61.696969696969695%)",
           "hsl(20.81818181818182, 92.0909090909091%, 63.63636363636364%)",
           "hsl(24.454545454545453, 94.27272727272728%, 65.57575757575758%)",
           "hsl(28.090909090909093, 96.45454545454545%, 67.51515151515152%)",
           "hsl(31.727272727272727, 97.18181818181819%, 69.63636363636364%)",
           "hsl(35.36363636363637, 97.42424242424242%, 71.81818181818181%)",
           "hsl(39.0, 97.66666666666667%, 74.0%)",
           "hsl(42.63636363636364, 97.9090909090909%, 76.18181818181819%)",
           "hsl(46.42424242424242, 98.3030303030303%, 78.51515151515152%)",
           "hsl(50.303030303030305, 98.78787878787878%, 80.93939393939394%)",
           "hsl(54.18181818181818, 99.27272727272727%, 83.36363636363636%)",
           "hsl(58.06060606060606, 99.75757575757575%, 85.78787878787878%)",
           "hsl(61.09090909090909, 97.81818181818181%, 85.78787878787878%)",
           "hsl(63.272727272727266, 93.45454545454547%, 83.36363636363637%)",
           "hsl(65.45454545454545, 89.09090909090908%, 80.93939393939394%)",
           "hsl(67.63636363636364, 84.72727272727272%, 78.51515151515152%)",
           "hsl(72.9090909090909, 78.63636363636364%, 76.81818181818181%)",
           "hsl(83.33333333333331, 69.66666666666669%, 76.33333333333333%)",
           "hsl(93.75757575757578, 60.69696969696968%, 75.84848484848484%)",
           "hsl(104.18181818181819, 51.72727272727272%, 75.36363636363636%)",
           "hsl(114.96969696969697, 44.81818181818182%, 73.96969696969697%)",
           "hsl(126.84848484848483, 44.09090909090909%, 69.84848484848486%)",
           "hsl(138.72727272727275, 43.36363636363636%, 65.72727272727272%)",
           "hsl(150.60606060606062, 42.63636363636363%, 61.6060606060606%)",
           "hsl(162.24242424242425, 42.484848484848484%, 57.63636363636364%)",
           "hsl(172.1818181818182, 46.36363636363636%, 54.727272727272734%)",
           "hsl(182.12121212121212, 50.24242424242425%, 51.81818181818181%)",
           "hsl(192.06060606060606, 54.121212121212125%, 48.90909090909091%)",
           "hsl(202.0, 58.0%, 46.0%)"
          ]
         },
         "type": "bar",
         "uid": "96adf5ec-66a9-4f3b-b0d7-dd401faafc0a",
         "x": [
          0,
          6,
          7,
          8,
          12,
          14,
          15,
          17,
          18,
          20,
          33
         ],
         "y": [
          67,
          3,
          1,
          3,
          1,
          91,
          36,
          3,
          1,
          1,
          8
         ]
        }
       ],
       "layout": {
        "bargap": 0.2,
        "xaxis": {
         "ticktext": [
          "España",
          "Colombia",
          "México",
          "República Dominicana",
          "Austria",
          "Chile",
          "Francia",
          "Canadá",
          "Nigeria",
          "China",
          "Australia",
          "Rusia",
          "Alemania",
          "Brasil",
          "Estados Unidos de América",
          "India",
          "Eslovaquia",
          "Italia",
          "Inglaterra",
          "Cuba",
          "Ukrania",
          "Venezuela",
          "Indonesia",
          "Albania",
          "Paquistan",
          "Bahamas",
          "Argentina",
          "Islandia",
          "Escocia",
          "Sudán",
          "Nueva Zelanda",
          "Irlanda",
          "Macedonia",
          "Unknown"
         ],
         "tickvals": [
          0,
          1,
          2,
          3,
          4,
          5,
          6,
          7,
          8,
          9,
          10,
          11,
          12,
          13,
          14,
          15,
          16,
          17,
          18,
          19,
          20,
          21,
          22,
          23,
          24,
          25,
          26,
          27,
          28,
          29,
          30,
          31,
          32,
          33
         ]
        }
       }
      },
      "text/html": [
       "<div id=\"7fd5fe90-6e8b-481b-b6b6-85791cdf013a\" style=\"height: 525px; width: 100%;\" class=\"plotly-graph-div\"></div><script type=\"text/javascript\">require([\"plotly\"], function(Plotly) { window.PLOTLYENV=window.PLOTLYENV || {};window.PLOTLYENV.BASE_URL=\"https://plot.ly\";\n",
       "if (document.getElementById(\"7fd5fe90-6e8b-481b-b6b6-85791cdf013a\")) {\n",
       "    Plotly.newPlot(\"7fd5fe90-6e8b-481b-b6b6-85791cdf013a\", [{\"marker\": {\"color\": [\"hsl(353.0, 64.0%, 53.0%)\", \"hsl(358.09090909090907, 69.81818181818181%, 54.696969696969695%)\", \"hsl(3.181818181818187, 75.63636363636364%, 56.39393939393939%)\", \"hsl(8.272727272727252, 81.45454545454545%, 58.09090909090909%)\", \"hsl(13.363636363636374, 87.27272727272728%, 59.78787878787879%)\", \"hsl(17.181818181818183, 89.9090909090909%, 61.696969696969695%)\", \"hsl(20.81818181818182, 92.0909090909091%, 63.63636363636364%)\", \"hsl(24.454545454545453, 94.27272727272728%, 65.57575757575758%)\", \"hsl(28.090909090909093, 96.45454545454545%, 67.51515151515152%)\", \"hsl(31.727272727272727, 97.18181818181819%, 69.63636363636364%)\", \"hsl(35.36363636363637, 97.42424242424242%, 71.81818181818181%)\", \"hsl(39.0, 97.66666666666667%, 74.0%)\", \"hsl(42.63636363636364, 97.9090909090909%, 76.18181818181819%)\", \"hsl(46.42424242424242, 98.3030303030303%, 78.51515151515152%)\", \"hsl(50.303030303030305, 98.78787878787878%, 80.93939393939394%)\", \"hsl(54.18181818181818, 99.27272727272727%, 83.36363636363636%)\", \"hsl(58.06060606060606, 99.75757575757575%, 85.78787878787878%)\", \"hsl(61.09090909090909, 97.81818181818181%, 85.78787878787878%)\", \"hsl(63.272727272727266, 93.45454545454547%, 83.36363636363637%)\", \"hsl(65.45454545454545, 89.09090909090908%, 80.93939393939394%)\", \"hsl(67.63636363636364, 84.72727272727272%, 78.51515151515152%)\", \"hsl(72.9090909090909, 78.63636363636364%, 76.81818181818181%)\", \"hsl(83.33333333333331, 69.66666666666669%, 76.33333333333333%)\", \"hsl(93.75757575757578, 60.69696969696968%, 75.84848484848484%)\", \"hsl(104.18181818181819, 51.72727272727272%, 75.36363636363636%)\", \"hsl(114.96969696969697, 44.81818181818182%, 73.96969696969697%)\", \"hsl(126.84848484848483, 44.09090909090909%, 69.84848484848486%)\", \"hsl(138.72727272727275, 43.36363636363636%, 65.72727272727272%)\", \"hsl(150.60606060606062, 42.63636363636363%, 61.6060606060606%)\", \"hsl(162.24242424242425, 42.484848484848484%, 57.63636363636364%)\", \"hsl(172.1818181818182, 46.36363636363636%, 54.727272727272734%)\", \"hsl(182.12121212121212, 50.24242424242425%, 51.81818181818181%)\", \"hsl(192.06060606060606, 54.121212121212125%, 48.90909090909091%)\", \"hsl(202.0, 58.0%, 46.0%)\"]}, \"x\": [0, 6, 7, 8, 12, 14, 15, 17, 18, 20, 33], \"y\": [67, 3, 1, 3, 1, 91, 36, 3, 1, 1, 8], \"type\": \"bar\", \"uid\": \"96adf5ec-66a9-4f3b-b0d7-dd401faafc0a\"}], {\"bargap\": 0.2, \"xaxis\": {\"ticktext\": [\"Espa\\u00f1a\", \"Colombia\", \"M\\u00e9xico\", \"Rep\\u00fablica Dominicana\", \"Austria\", \"Chile\", \"Francia\", \"Canad\\u00e1\", \"Nigeria\", \"China\", \"Australia\", \"Rusia\", \"Alemania\", \"Brasil\", \"Estados Unidos de Am\\u00e9rica\", \"India\", \"Eslovaquia\", \"Italia\", \"Inglaterra\", \"Cuba\", \"Ukrania\", \"Venezuela\", \"Indonesia\", \"Albania\", \"Paquistan\", \"Bahamas\", \"Argentina\", \"Islandia\", \"Escocia\", \"Sud\\u00e1n\", \"Nueva Zelanda\", \"Irlanda\", \"Macedonia\", \"Unknown\"], \"tickvals\": [0, 1, 2, 3, 4, 5, 6, 7, 8, 9, 10, 11, 12, 13, 14, 15, 16, 17, 18, 19, 20, 21, 22, 23, 24, 25, 26, 27, 28, 29, 30, 31, 32, 33]}}, {\"showLink\": false, \"linkText\": \"Export to plot.ly\", \"plotlyServerURL\": \"https://plot.ly\"}); \n",
       "}\n",
       "});</script><script type=\"text/javascript\">window.addEventListener(\"resize\", function(){if (document.getElementById(\"7fd5fe90-6e8b-481b-b6b6-85791cdf013a\")) {window._Plotly.Plots.resize(document.getElementById(\"7fd5fe90-6e8b-481b-b6b6-85791cdf013a\"));};})</script>"
      ],
      "text/vnd.plotly.v1+html": [
       "<div id=\"7fd5fe90-6e8b-481b-b6b6-85791cdf013a\" style=\"height: 525px; width: 100%;\" class=\"plotly-graph-div\"></div><script type=\"text/javascript\">require([\"plotly\"], function(Plotly) { window.PLOTLYENV=window.PLOTLYENV || {};window.PLOTLYENV.BASE_URL=\"https://plot.ly\";\n",
       "if (document.getElementById(\"7fd5fe90-6e8b-481b-b6b6-85791cdf013a\")) {\n",
       "    Plotly.newPlot(\"7fd5fe90-6e8b-481b-b6b6-85791cdf013a\", [{\"marker\": {\"color\": [\"hsl(353.0, 64.0%, 53.0%)\", \"hsl(358.09090909090907, 69.81818181818181%, 54.696969696969695%)\", \"hsl(3.181818181818187, 75.63636363636364%, 56.39393939393939%)\", \"hsl(8.272727272727252, 81.45454545454545%, 58.09090909090909%)\", \"hsl(13.363636363636374, 87.27272727272728%, 59.78787878787879%)\", \"hsl(17.181818181818183, 89.9090909090909%, 61.696969696969695%)\", \"hsl(20.81818181818182, 92.0909090909091%, 63.63636363636364%)\", \"hsl(24.454545454545453, 94.27272727272728%, 65.57575757575758%)\", \"hsl(28.090909090909093, 96.45454545454545%, 67.51515151515152%)\", \"hsl(31.727272727272727, 97.18181818181819%, 69.63636363636364%)\", \"hsl(35.36363636363637, 97.42424242424242%, 71.81818181818181%)\", \"hsl(39.0, 97.66666666666667%, 74.0%)\", \"hsl(42.63636363636364, 97.9090909090909%, 76.18181818181819%)\", \"hsl(46.42424242424242, 98.3030303030303%, 78.51515151515152%)\", \"hsl(50.303030303030305, 98.78787878787878%, 80.93939393939394%)\", \"hsl(54.18181818181818, 99.27272727272727%, 83.36363636363636%)\", \"hsl(58.06060606060606, 99.75757575757575%, 85.78787878787878%)\", \"hsl(61.09090909090909, 97.81818181818181%, 85.78787878787878%)\", \"hsl(63.272727272727266, 93.45454545454547%, 83.36363636363637%)\", \"hsl(65.45454545454545, 89.09090909090908%, 80.93939393939394%)\", \"hsl(67.63636363636364, 84.72727272727272%, 78.51515151515152%)\", \"hsl(72.9090909090909, 78.63636363636364%, 76.81818181818181%)\", \"hsl(83.33333333333331, 69.66666666666669%, 76.33333333333333%)\", \"hsl(93.75757575757578, 60.69696969696968%, 75.84848484848484%)\", \"hsl(104.18181818181819, 51.72727272727272%, 75.36363636363636%)\", \"hsl(114.96969696969697, 44.81818181818182%, 73.96969696969697%)\", \"hsl(126.84848484848483, 44.09090909090909%, 69.84848484848486%)\", \"hsl(138.72727272727275, 43.36363636363636%, 65.72727272727272%)\", \"hsl(150.60606060606062, 42.63636363636363%, 61.6060606060606%)\", \"hsl(162.24242424242425, 42.484848484848484%, 57.63636363636364%)\", \"hsl(172.1818181818182, 46.36363636363636%, 54.727272727272734%)\", \"hsl(182.12121212121212, 50.24242424242425%, 51.81818181818181%)\", \"hsl(192.06060606060606, 54.121212121212125%, 48.90909090909091%)\", \"hsl(202.0, 58.0%, 46.0%)\"]}, \"x\": [0, 6, 7, 8, 12, 14, 15, 17, 18, 20, 33], \"y\": [67, 3, 1, 3, 1, 91, 36, 3, 1, 1, 8], \"type\": \"bar\", \"uid\": \"96adf5ec-66a9-4f3b-b0d7-dd401faafc0a\"}], {\"bargap\": 0.2, \"xaxis\": {\"ticktext\": [\"Espa\\u00f1a\", \"Colombia\", \"M\\u00e9xico\", \"Rep\\u00fablica Dominicana\", \"Austria\", \"Chile\", \"Francia\", \"Canad\\u00e1\", \"Nigeria\", \"China\", \"Australia\", \"Rusia\", \"Alemania\", \"Brasil\", \"Estados Unidos de Am\\u00e9rica\", \"India\", \"Eslovaquia\", \"Italia\", \"Inglaterra\", \"Cuba\", \"Ukrania\", \"Venezuela\", \"Indonesia\", \"Albania\", \"Paquistan\", \"Bahamas\", \"Argentina\", \"Islandia\", \"Escocia\", \"Sud\\u00e1n\", \"Nueva Zelanda\", \"Irlanda\", \"Macedonia\", \"Unknown\"], \"tickvals\": [0, 1, 2, 3, 4, 5, 6, 7, 8, 9, 10, 11, 12, 13, 14, 15, 16, 17, 18, 19, 20, 21, 22, 23, 24, 25, 26, 27, 28, 29, 30, 31, 32, 33]}}, {\"showLink\": false, \"linkText\": \"Export to plot.ly\", \"plotlyServerURL\": \"https://plot.ly\"}); \n",
       "}\n",
       "});</script><script type=\"text/javascript\">window.addEventListener(\"resize\", function(){if (document.getElementById(\"7fd5fe90-6e8b-481b-b6b6-85791cdf013a\")) {window._Plotly.Plots.resize(document.getElementById(\"7fd5fe90-6e8b-481b-b6b6-85791cdf013a\"));};})</script>"
      ]
     },
     "metadata": {},
     "output_type": "display_data"
    },
    {
     "name": "stdout",
     "output_type": "stream",
     "text": [
      "\n",
      "\n",
      "Cluster 4 || variable: Nivel de estudios\n",
      "Describiendo la pregunta Nivel de estudios\n",
      "Valores numéricos asociados a las respuestas [0, 1, 2, 3, 4, 5]\n",
      "Respuestas posibles a la pregunta/variable ['Educación Primaria', 'Sin terminar Educación Secundaria Obligatoria', 'Terminada Educación Secundaria Obligatoria', 'FP', 'Universitario sin graduar', 'Universitario graduado']\n"
     ]
    },
    {
     "data": {
      "text/plain": [
       "count    215.000000\n",
       "mean       3.520930\n",
       "std        1.693384\n",
       "min        0.000000\n",
       "25%        2.000000\n",
       "50%        4.000000\n",
       "75%        5.000000\n",
       "max        5.000000\n",
       "Name: Nivel de estudios, dtype: float64"
      ]
     },
     "metadata": {},
     "output_type": "display_data"
    },
    {
     "name": "stdout",
     "output_type": "stream",
     "text": [
      "Conteo de cada valor en Nivel de estudios expresada como valor / cantidad\n"
     ]
    },
    {
     "data": {
      "text/plain": [
       "0      3\n",
       "1     47\n",
       "2     21\n",
       "3      8\n",
       "4     36\n",
       "5    100\n",
       "Name: Nivel de estudios, dtype: int64"
      ]
     },
     "metadata": {},
     "output_type": "display_data"
    },
    {
     "name": "stdout",
     "output_type": "stream",
     "text": [
      "Porcentaje de cada valor en Nivel de estudios expresado como valor / porcentaje\n"
     ]
    },
    {
     "data": {
      "text/plain": [
       "0     1.40\n",
       "1    21.86\n",
       "2     9.77\n",
       "3     3.72\n",
       "4    16.74\n",
       "5    46.51\n",
       "Name: Nivel de estudios, dtype: float64"
      ]
     },
     "metadata": {},
     "output_type": "display_data"
    },
    {
     "data": {
      "application/vnd.plotly.v1+json": {
       "config": {
        "linkText": "Export to plot.ly",
        "plotlyServerURL": "https://plot.ly",
        "showLink": false
       },
       "data": [
        {
         "marker": {
          "color": [
           "rgb(213,62,79)",
           "rgb(252,141,89)",
           "rgb(254,224,139)",
           "rgb(230,245,152)",
           "rgb(153,213,148)",
           "rgb(50,136,189)"
          ]
         },
         "type": "bar",
         "uid": "04cf0e76-ae7a-4588-b9b4-fab398c5db14",
         "x": [
          0,
          1,
          2,
          3,
          4,
          5
         ],
         "y": [
          3,
          47,
          21,
          8,
          36,
          100
         ]
        }
       ],
       "layout": {
        "bargap": 0.2,
        "xaxis": {
         "ticktext": [
          "Educación Primaria",
          "Sin terminar Educación Secundaria Obligatoria",
          "Terminada Educación Secundaria Obligatoria",
          "FP",
          "Universitario sin graduar",
          "Universitario graduado"
         ],
         "tickvals": [
          0,
          1,
          2,
          3,
          4,
          5
         ]
        }
       }
      },
      "text/html": [
       "<div id=\"675456d7-605b-42a9-8624-aa71fb41cc90\" style=\"height: 525px; width: 100%;\" class=\"plotly-graph-div\"></div><script type=\"text/javascript\">require([\"plotly\"], function(Plotly) { window.PLOTLYENV=window.PLOTLYENV || {};window.PLOTLYENV.BASE_URL=\"https://plot.ly\";\n",
       "if (document.getElementById(\"675456d7-605b-42a9-8624-aa71fb41cc90\")) {\n",
       "    Plotly.newPlot(\"675456d7-605b-42a9-8624-aa71fb41cc90\", [{\"marker\": {\"color\": [\"rgb(213,62,79)\", \"rgb(252,141,89)\", \"rgb(254,224,139)\", \"rgb(230,245,152)\", \"rgb(153,213,148)\", \"rgb(50,136,189)\"]}, \"x\": [0, 1, 2, 3, 4, 5], \"y\": [3, 47, 21, 8, 36, 100], \"type\": \"bar\", \"uid\": \"04cf0e76-ae7a-4588-b9b4-fab398c5db14\"}], {\"bargap\": 0.2, \"xaxis\": {\"ticktext\": [\"Educaci\\u00f3n Primaria\", \"Sin terminar Educaci\\u00f3n Secundaria Obligatoria\", \"Terminada Educaci\\u00f3n Secundaria Obligatoria\", \"FP\", \"Universitario sin graduar\", \"Universitario graduado\"], \"tickvals\": [0, 1, 2, 3, 4, 5]}}, {\"showLink\": false, \"linkText\": \"Export to plot.ly\", \"plotlyServerURL\": \"https://plot.ly\"}); \n",
       "}\n",
       "});</script><script type=\"text/javascript\">window.addEventListener(\"resize\", function(){if (document.getElementById(\"675456d7-605b-42a9-8624-aa71fb41cc90\")) {window._Plotly.Plots.resize(document.getElementById(\"675456d7-605b-42a9-8624-aa71fb41cc90\"));};})</script>"
      ],
      "text/vnd.plotly.v1+html": [
       "<div id=\"675456d7-605b-42a9-8624-aa71fb41cc90\" style=\"height: 525px; width: 100%;\" class=\"plotly-graph-div\"></div><script type=\"text/javascript\">require([\"plotly\"], function(Plotly) { window.PLOTLYENV=window.PLOTLYENV || {};window.PLOTLYENV.BASE_URL=\"https://plot.ly\";\n",
       "if (document.getElementById(\"675456d7-605b-42a9-8624-aa71fb41cc90\")) {\n",
       "    Plotly.newPlot(\"675456d7-605b-42a9-8624-aa71fb41cc90\", [{\"marker\": {\"color\": [\"rgb(213,62,79)\", \"rgb(252,141,89)\", \"rgb(254,224,139)\", \"rgb(230,245,152)\", \"rgb(153,213,148)\", \"rgb(50,136,189)\"]}, \"x\": [0, 1, 2, 3, 4, 5], \"y\": [3, 47, 21, 8, 36, 100], \"type\": \"bar\", \"uid\": \"04cf0e76-ae7a-4588-b9b4-fab398c5db14\"}], {\"bargap\": 0.2, \"xaxis\": {\"ticktext\": [\"Educaci\\u00f3n Primaria\", \"Sin terminar Educaci\\u00f3n Secundaria Obligatoria\", \"Terminada Educaci\\u00f3n Secundaria Obligatoria\", \"FP\", \"Universitario sin graduar\", \"Universitario graduado\"], \"tickvals\": [0, 1, 2, 3, 4, 5]}}, {\"showLink\": false, \"linkText\": \"Export to plot.ly\", \"plotlyServerURL\": \"https://plot.ly\"}); \n",
       "}\n",
       "});</script><script type=\"text/javascript\">window.addEventListener(\"resize\", function(){if (document.getElementById(\"675456d7-605b-42a9-8624-aa71fb41cc90\")) {window._Plotly.Plots.resize(document.getElementById(\"675456d7-605b-42a9-8624-aa71fb41cc90\"));};})</script>"
      ]
     },
     "metadata": {},
     "output_type": "display_data"
    },
    {
     "name": "stdout",
     "output_type": "stream",
     "text": [
      "\n",
      "\n",
      "Cluster 3 || variable: Género\n",
      "Describiendo la pregunta Género\n"
     ]
    },
    {
     "data": {
      "text/plain": [
       "count    27.000000\n",
       "mean      0.481481\n",
       "std       0.509175\n",
       "min       0.000000\n",
       "25%       0.000000\n",
       "50%       0.000000\n",
       "75%       1.000000\n",
       "max       1.000000\n",
       "Name: Género, dtype: float64"
      ]
     },
     "metadata": {},
     "output_type": "display_data"
    },
    {
     "name": "stdout",
     "output_type": "stream",
     "text": [
      "Conteo de cada valor en Género expresada como valor / cantidad\n"
     ]
    },
    {
     "data": {
      "text/plain": [
       "0    14\n",
       "1    13\n",
       "Name: Género, dtype: int64"
      ]
     },
     "metadata": {},
     "output_type": "display_data"
    },
    {
     "name": "stdout",
     "output_type": "stream",
     "text": [
      "Porcentaje de cada valor en Género expresado como valor / porcentaje\n"
     ]
    },
    {
     "data": {
      "text/plain": [
       "0    51.85\n",
       "1    48.15\n",
       "Name: Género, dtype: float64"
      ]
     },
     "metadata": {},
     "output_type": "display_data"
    },
    {
     "data": {
      "application/vnd.plotly.v1+json": {
       "config": {
        "linkText": "Export to plot.ly",
        "plotlyServerURL": "https://plot.ly",
        "showLink": false
       },
       "data": [
        {
         "marker": {
          "color": [
           "rgb(213,62,79)",
           "rgb(252,141,89)",
           "rgb(254,224,139)",
           "rgb(230,245,152)",
           "rgb(153,213,148)",
           "rgb(50,136,189)"
          ]
         },
         "type": "bar",
         "uid": "8880d4cb-249b-49c9-ac8c-acb057cfedf1",
         "x": [
          0,
          1
         ],
         "y": [
          14,
          13
         ]
        }
       ],
       "layout": {}
      },
      "text/html": [
       "<div id=\"e7faa89c-c3e5-45e0-9410-acab0042ae47\" style=\"height: 525px; width: 100%;\" class=\"plotly-graph-div\"></div><script type=\"text/javascript\">require([\"plotly\"], function(Plotly) { window.PLOTLYENV=window.PLOTLYENV || {};window.PLOTLYENV.BASE_URL=\"https://plot.ly\";\n",
       "if (document.getElementById(\"e7faa89c-c3e5-45e0-9410-acab0042ae47\")) {\n",
       "    Plotly.newPlot(\"e7faa89c-c3e5-45e0-9410-acab0042ae47\", [{\"marker\": {\"color\": [\"rgb(213,62,79)\", \"rgb(252,141,89)\", \"rgb(254,224,139)\", \"rgb(230,245,152)\", \"rgb(153,213,148)\", \"rgb(50,136,189)\"]}, \"x\": [0, 1], \"y\": [14, 13], \"type\": \"bar\", \"uid\": \"d759acdc-d285-48c9-bc84-af6ccadc8844\"}], {}, {\"showLink\": false, \"linkText\": \"Export to plot.ly\", \"plotlyServerURL\": \"https://plot.ly\"}); \n",
       "}\n",
       "});</script><script type=\"text/javascript\">window.addEventListener(\"resize\", function(){if (document.getElementById(\"e7faa89c-c3e5-45e0-9410-acab0042ae47\")) {window._Plotly.Plots.resize(document.getElementById(\"e7faa89c-c3e5-45e0-9410-acab0042ae47\"));};})</script>"
      ],
      "text/vnd.plotly.v1+html": [
       "<div id=\"e7faa89c-c3e5-45e0-9410-acab0042ae47\" style=\"height: 525px; width: 100%;\" class=\"plotly-graph-div\"></div><script type=\"text/javascript\">require([\"plotly\"], function(Plotly) { window.PLOTLYENV=window.PLOTLYENV || {};window.PLOTLYENV.BASE_URL=\"https://plot.ly\";\n",
       "if (document.getElementById(\"e7faa89c-c3e5-45e0-9410-acab0042ae47\")) {\n",
       "    Plotly.newPlot(\"e7faa89c-c3e5-45e0-9410-acab0042ae47\", [{\"marker\": {\"color\": [\"rgb(213,62,79)\", \"rgb(252,141,89)\", \"rgb(254,224,139)\", \"rgb(230,245,152)\", \"rgb(153,213,148)\", \"rgb(50,136,189)\"]}, \"x\": [0, 1], \"y\": [14, 13], \"type\": \"bar\", \"uid\": \"d759acdc-d285-48c9-bc84-af6ccadc8844\"}], {}, {\"showLink\": false, \"linkText\": \"Export to plot.ly\", \"plotlyServerURL\": \"https://plot.ly\"}); \n",
       "}\n",
       "});</script><script type=\"text/javascript\">window.addEventListener(\"resize\", function(){if (document.getElementById(\"e7faa89c-c3e5-45e0-9410-acab0042ae47\")) {window._Plotly.Plots.resize(document.getElementById(\"e7faa89c-c3e5-45e0-9410-acab0042ae47\"));};})</script>"
      ]
     },
     "metadata": {},
     "output_type": "display_data"
    },
    {
     "name": "stdout",
     "output_type": "stream",
     "text": [
      "\n",
      "\n",
      "Cluster 3 || variable: Edad\n",
      "Describiendo la pregunta Edad\n"
     ]
    },
    {
     "data": {
      "text/plain": [
       "count    27.000000\n",
       "mean     31.592593\n",
       "std      13.834904\n",
       "min      14.000000\n",
       "25%      23.000000\n",
       "50%      28.000000\n",
       "75%      37.500000\n",
       "max      71.000000\n",
       "Name: Edad, dtype: float64"
      ]
     },
     "metadata": {},
     "output_type": "display_data"
    },
    {
     "name": "stdout",
     "output_type": "stream",
     "text": [
      "Conteo de cada valor en Edad expresada como valor / cantidad\n"
     ]
    },
    {
     "data": {
      "text/plain": [
       "14    1\n",
       "15    2\n",
       "20    1\n",
       "22    3\n",
       "24    1\n",
       "25    1\n",
       "26    2\n",
       "27    1\n",
       "28    4\n",
       "29    2\n",
       "32    1\n",
       "36    1\n",
       "39    1\n",
       "40    1\n",
       "45    1\n",
       "48    1\n",
       "54    1\n",
       "60    1\n",
       "71    1\n",
       "Name: Edad, dtype: int64"
      ]
     },
     "metadata": {},
     "output_type": "display_data"
    },
    {
     "name": "stdout",
     "output_type": "stream",
     "text": [
      "Porcentaje de cada valor en Edad expresado como valor / porcentaje\n"
     ]
    },
    {
     "data": {
      "text/plain": [
       "14     3.70\n",
       "15     7.41\n",
       "20     3.70\n",
       "22    11.11\n",
       "24     3.70\n",
       "25     3.70\n",
       "26     7.41\n",
       "27     3.70\n",
       "28    14.81\n",
       "29     7.41\n",
       "32     3.70\n",
       "36     3.70\n",
       "39     3.70\n",
       "40     3.70\n",
       "45     3.70\n",
       "48     3.70\n",
       "54     3.70\n",
       "60     3.70\n",
       "71     3.70\n",
       "Name: Edad, dtype: float64"
      ]
     },
     "metadata": {},
     "output_type": "display_data"
    },
    {
     "data": {
      "application/vnd.plotly.v1+json": {
       "config": {
        "linkText": "Export to plot.ly",
        "plotlyServerURL": "https://plot.ly",
        "showLink": false
       },
       "data": [
        {
         "marker": {
          "color": [
           "hsl(147.27999999999997, 42.84%, 62.760000000000005%)",
           "hsl(18.2, 90.52%, 62.24%)",
           "hsl(47.2, 98.4%, 79.0%)",
           "hsl(74.16000000000001, 77.56%, 76.76%)",
           "hsl(147.27999999999997, 42.84%, 62.760000000000005%)",
           "hsl(67.2, 85.60000000000001%, 79.0%)",
           "hsl(64.32000000000001, 91.35999999999999%, 82.19999999999999%)",
           "hsl(67.2, 85.60000000000001%, 79.0%)",
           "hsl(27.799999999999997, 96.28%, 67.36%)",
           "hsl(57.44, 99.68%, 85.4%)",
           "hsl(37.4, 97.56%, 73.04%)",
           "hsl(353.0, 64.0%, 53.0%)",
           "hsl(32.6, 97.24%, 70.16%)",
           "hsl(13.160000000000025, 87.03999999999999%, 59.72%)",
           "hsl(359.72, 71.68%, 55.24%)",
           "hsl(353.0, 64.0%, 53.0%)",
           "hsl(6.439999999999998, 79.36%, 57.480000000000004%)",
           "hsl(359.72, 71.68%, 55.24%)",
           "hsl(27.799999999999997, 96.28%, 67.36%)",
           "hsl(27.799999999999997, 96.28%, 67.36%)",
           "hsl(27.799999999999997, 96.28%, 67.36%)",
           "hsl(23.0, 93.4%, 64.8%)",
           "hsl(18.2, 90.52%, 62.24%)",
           "hsl(52.32, 99.04%, 82.2%)",
           "hsl(47.2, 98.4%, 79.0%)",
           "hsl(42.2, 97.88%, 75.92%)",
           "hsl(61.44, 97.12%, 85.4%)",
           "hsl(87.92000000000002, 65.71999999999998%, 76.12%)",
           "hsl(87.92000000000002, 65.71999999999998%, 76.12%)",
           "hsl(64.32000000000001, 91.35999999999999%, 82.19999999999999%)",
           "hsl(64.32000000000001, 91.35999999999999%, 82.19999999999999%)",
           "hsl(101.67999999999999, 53.88000000000001%, 75.48%)",
           "hsl(101.67999999999999, 53.88000000000001%, 75.48%)",
           "hsl(61.44, 97.12%, 85.4%)",
           "hsl(87.92000000000002, 65.71999999999998%, 76.12%)",
           "hsl(147.27999999999997, 42.84%, 62.760000000000005%)",
           "hsl(162.64000000000001, 42.64%, 57.519999999999996%)",
           "hsl(131.60000000000002, 43.8%, 68.19999999999999%)",
           "hsl(131.60000000000002, 43.8%, 68.19999999999999%)",
           "hsl(188.88, 52.879999999999995%, 49.84%)",
           "hsl(101.67999999999999, 53.88000000000001%, 75.48%)",
           "hsl(162.64000000000001, 42.64%, 57.519999999999996%)",
           "hsl(115.92, 44.76%, 73.64%)",
           "hsl(147.27999999999997, 42.84%, 62.760000000000005%)",
           "hsl(131.60000000000002, 43.8%, 68.19999999999999%)",
           "hsl(202.0, 58.0%, 46.0%)",
           "hsl(188.88, 52.879999999999995%, 49.84%)",
           "hsl(147.27999999999997, 42.84%, 62.760000000000005%)",
           "hsl(175.76000000000002, 47.760000000000005%, 53.67999999999999%)",
           "hsl(115.92, 44.76%, 73.64%)",
           "hsl(202.0, 58.0%, 46.0%)",
           "hsl(175.76000000000002, 47.760000000000005%, 53.67999999999999%)",
           "hsl(188.88, 52.879999999999995%, 49.84%)",
           "hsl(188.88, 52.879999999999995%, 49.84%)",
           "hsl(162.64000000000001, 42.64%, 57.519999999999996%)",
           "hsl(202.0, 58.0%, 46.0%)",
           "hsl(188.88, 52.879999999999995%, 49.84%)",
           "hsl(202.0, 58.0%, 46.0%)",
           "hsl(202.0, 58.0%, 46.0%)",
           "hsl(202.0, 58.0%, 46.0%)",
           "hsl(202.0, 58.0%, 46.0%)",
           "hsl(188.88, 52.879999999999995%, 49.84%)"
          ]
         },
         "type": "bar",
         "uid": "836fefc0-486f-4b46-82d4-f3f7219e20a2",
         "x": [
          14,
          15,
          20,
          22,
          24,
          25,
          26,
          27,
          28,
          29,
          32,
          36,
          39,
          40,
          45,
          48,
          54,
          60,
          71
         ],
         "y": [
          1,
          2,
          1,
          3,
          1,
          1,
          2,
          1,
          4,
          2,
          1,
          1,
          1,
          1,
          1,
          1,
          1,
          1,
          1
         ]
        }
       ],
       "layout": {}
      },
      "text/html": [
       "<div id=\"f66b3bbb-2f44-423c-820b-890a40be1352\" style=\"height: 525px; width: 100%;\" class=\"plotly-graph-div\"></div><script type=\"text/javascript\">require([\"plotly\"], function(Plotly) { window.PLOTLYENV=window.PLOTLYENV || {};window.PLOTLYENV.BASE_URL=\"https://plot.ly\";\n",
       "if (document.getElementById(\"f66b3bbb-2f44-423c-820b-890a40be1352\")) {\n",
       "    Plotly.newPlot(\"f66b3bbb-2f44-423c-820b-890a40be1352\", [{\"marker\": {\"color\": [\"hsl(147.27999999999997, 42.84%, 62.760000000000005%)\", \"hsl(18.2, 90.52%, 62.24%)\", \"hsl(47.2, 98.4%, 79.0%)\", \"hsl(74.16000000000001, 77.56%, 76.76%)\", \"hsl(147.27999999999997, 42.84%, 62.760000000000005%)\", \"hsl(67.2, 85.60000000000001%, 79.0%)\", \"hsl(64.32000000000001, 91.35999999999999%, 82.19999999999999%)\", \"hsl(67.2, 85.60000000000001%, 79.0%)\", \"hsl(27.799999999999997, 96.28%, 67.36%)\", \"hsl(57.44, 99.68%, 85.4%)\", \"hsl(37.4, 97.56%, 73.04%)\", \"hsl(353.0, 64.0%, 53.0%)\", \"hsl(32.6, 97.24%, 70.16%)\", \"hsl(13.160000000000025, 87.03999999999999%, 59.72%)\", \"hsl(359.72, 71.68%, 55.24%)\", \"hsl(353.0, 64.0%, 53.0%)\", \"hsl(6.439999999999998, 79.36%, 57.480000000000004%)\", \"hsl(359.72, 71.68%, 55.24%)\", \"hsl(27.799999999999997, 96.28%, 67.36%)\", \"hsl(27.799999999999997, 96.28%, 67.36%)\", \"hsl(27.799999999999997, 96.28%, 67.36%)\", \"hsl(23.0, 93.4%, 64.8%)\", \"hsl(18.2, 90.52%, 62.24%)\", \"hsl(52.32, 99.04%, 82.2%)\", \"hsl(47.2, 98.4%, 79.0%)\", \"hsl(42.2, 97.88%, 75.92%)\", \"hsl(61.44, 97.12%, 85.4%)\", \"hsl(87.92000000000002, 65.71999999999998%, 76.12%)\", \"hsl(87.92000000000002, 65.71999999999998%, 76.12%)\", \"hsl(64.32000000000001, 91.35999999999999%, 82.19999999999999%)\", \"hsl(64.32000000000001, 91.35999999999999%, 82.19999999999999%)\", \"hsl(101.67999999999999, 53.88000000000001%, 75.48%)\", \"hsl(101.67999999999999, 53.88000000000001%, 75.48%)\", \"hsl(61.44, 97.12%, 85.4%)\", \"hsl(87.92000000000002, 65.71999999999998%, 76.12%)\", \"hsl(147.27999999999997, 42.84%, 62.760000000000005%)\", \"hsl(162.64000000000001, 42.64%, 57.519999999999996%)\", \"hsl(131.60000000000002, 43.8%, 68.19999999999999%)\", \"hsl(131.60000000000002, 43.8%, 68.19999999999999%)\", \"hsl(188.88, 52.879999999999995%, 49.84%)\", \"hsl(101.67999999999999, 53.88000000000001%, 75.48%)\", \"hsl(162.64000000000001, 42.64%, 57.519999999999996%)\", \"hsl(115.92, 44.76%, 73.64%)\", \"hsl(147.27999999999997, 42.84%, 62.760000000000005%)\", \"hsl(131.60000000000002, 43.8%, 68.19999999999999%)\", \"hsl(202.0, 58.0%, 46.0%)\", \"hsl(188.88, 52.879999999999995%, 49.84%)\", \"hsl(147.27999999999997, 42.84%, 62.760000000000005%)\", \"hsl(175.76000000000002, 47.760000000000005%, 53.67999999999999%)\", \"hsl(115.92, 44.76%, 73.64%)\", \"hsl(202.0, 58.0%, 46.0%)\", \"hsl(175.76000000000002, 47.760000000000005%, 53.67999999999999%)\", \"hsl(188.88, 52.879999999999995%, 49.84%)\", \"hsl(188.88, 52.879999999999995%, 49.84%)\", \"hsl(162.64000000000001, 42.64%, 57.519999999999996%)\", \"hsl(202.0, 58.0%, 46.0%)\", \"hsl(188.88, 52.879999999999995%, 49.84%)\", \"hsl(202.0, 58.0%, 46.0%)\", \"hsl(202.0, 58.0%, 46.0%)\", \"hsl(202.0, 58.0%, 46.0%)\", \"hsl(202.0, 58.0%, 46.0%)\", \"hsl(188.88, 52.879999999999995%, 49.84%)\"]}, \"x\": [14, 15, 20, 22, 24, 25, 26, 27, 28, 29, 32, 36, 39, 40, 45, 48, 54, 60, 71], \"y\": [1, 2, 1, 3, 1, 1, 2, 1, 4, 2, 1, 1, 1, 1, 1, 1, 1, 1, 1], \"type\": \"bar\", \"uid\": \"6dd47953-19ca-49bf-a71f-b076071d2cbb\"}], {}, {\"showLink\": false, \"linkText\": \"Export to plot.ly\", \"plotlyServerURL\": \"https://plot.ly\"}); \n",
       "}\n",
       "});</script><script type=\"text/javascript\">window.addEventListener(\"resize\", function(){if (document.getElementById(\"f66b3bbb-2f44-423c-820b-890a40be1352\")) {window._Plotly.Plots.resize(document.getElementById(\"f66b3bbb-2f44-423c-820b-890a40be1352\"));};})</script>"
      ],
      "text/vnd.plotly.v1+html": [
       "<div id=\"f66b3bbb-2f44-423c-820b-890a40be1352\" style=\"height: 525px; width: 100%;\" class=\"plotly-graph-div\"></div><script type=\"text/javascript\">require([\"plotly\"], function(Plotly) { window.PLOTLYENV=window.PLOTLYENV || {};window.PLOTLYENV.BASE_URL=\"https://plot.ly\";\n",
       "if (document.getElementById(\"f66b3bbb-2f44-423c-820b-890a40be1352\")) {\n",
       "    Plotly.newPlot(\"f66b3bbb-2f44-423c-820b-890a40be1352\", [{\"marker\": {\"color\": [\"hsl(147.27999999999997, 42.84%, 62.760000000000005%)\", \"hsl(18.2, 90.52%, 62.24%)\", \"hsl(47.2, 98.4%, 79.0%)\", \"hsl(74.16000000000001, 77.56%, 76.76%)\", \"hsl(147.27999999999997, 42.84%, 62.760000000000005%)\", \"hsl(67.2, 85.60000000000001%, 79.0%)\", \"hsl(64.32000000000001, 91.35999999999999%, 82.19999999999999%)\", \"hsl(67.2, 85.60000000000001%, 79.0%)\", \"hsl(27.799999999999997, 96.28%, 67.36%)\", \"hsl(57.44, 99.68%, 85.4%)\", \"hsl(37.4, 97.56%, 73.04%)\", \"hsl(353.0, 64.0%, 53.0%)\", \"hsl(32.6, 97.24%, 70.16%)\", \"hsl(13.160000000000025, 87.03999999999999%, 59.72%)\", \"hsl(359.72, 71.68%, 55.24%)\", \"hsl(353.0, 64.0%, 53.0%)\", \"hsl(6.439999999999998, 79.36%, 57.480000000000004%)\", \"hsl(359.72, 71.68%, 55.24%)\", \"hsl(27.799999999999997, 96.28%, 67.36%)\", \"hsl(27.799999999999997, 96.28%, 67.36%)\", \"hsl(27.799999999999997, 96.28%, 67.36%)\", \"hsl(23.0, 93.4%, 64.8%)\", \"hsl(18.2, 90.52%, 62.24%)\", \"hsl(52.32, 99.04%, 82.2%)\", \"hsl(47.2, 98.4%, 79.0%)\", \"hsl(42.2, 97.88%, 75.92%)\", \"hsl(61.44, 97.12%, 85.4%)\", \"hsl(87.92000000000002, 65.71999999999998%, 76.12%)\", \"hsl(87.92000000000002, 65.71999999999998%, 76.12%)\", \"hsl(64.32000000000001, 91.35999999999999%, 82.19999999999999%)\", \"hsl(64.32000000000001, 91.35999999999999%, 82.19999999999999%)\", \"hsl(101.67999999999999, 53.88000000000001%, 75.48%)\", \"hsl(101.67999999999999, 53.88000000000001%, 75.48%)\", \"hsl(61.44, 97.12%, 85.4%)\", \"hsl(87.92000000000002, 65.71999999999998%, 76.12%)\", \"hsl(147.27999999999997, 42.84%, 62.760000000000005%)\", \"hsl(162.64000000000001, 42.64%, 57.519999999999996%)\", \"hsl(131.60000000000002, 43.8%, 68.19999999999999%)\", \"hsl(131.60000000000002, 43.8%, 68.19999999999999%)\", \"hsl(188.88, 52.879999999999995%, 49.84%)\", \"hsl(101.67999999999999, 53.88000000000001%, 75.48%)\", \"hsl(162.64000000000001, 42.64%, 57.519999999999996%)\", \"hsl(115.92, 44.76%, 73.64%)\", \"hsl(147.27999999999997, 42.84%, 62.760000000000005%)\", \"hsl(131.60000000000002, 43.8%, 68.19999999999999%)\", \"hsl(202.0, 58.0%, 46.0%)\", \"hsl(188.88, 52.879999999999995%, 49.84%)\", \"hsl(147.27999999999997, 42.84%, 62.760000000000005%)\", \"hsl(175.76000000000002, 47.760000000000005%, 53.67999999999999%)\", \"hsl(115.92, 44.76%, 73.64%)\", \"hsl(202.0, 58.0%, 46.0%)\", \"hsl(175.76000000000002, 47.760000000000005%, 53.67999999999999%)\", \"hsl(188.88, 52.879999999999995%, 49.84%)\", \"hsl(188.88, 52.879999999999995%, 49.84%)\", \"hsl(162.64000000000001, 42.64%, 57.519999999999996%)\", \"hsl(202.0, 58.0%, 46.0%)\", \"hsl(188.88, 52.879999999999995%, 49.84%)\", \"hsl(202.0, 58.0%, 46.0%)\", \"hsl(202.0, 58.0%, 46.0%)\", \"hsl(202.0, 58.0%, 46.0%)\", \"hsl(202.0, 58.0%, 46.0%)\", \"hsl(188.88, 52.879999999999995%, 49.84%)\"]}, \"x\": [14, 15, 20, 22, 24, 25, 26, 27, 28, 29, 32, 36, 39, 40, 45, 48, 54, 60, 71], \"y\": [1, 2, 1, 3, 1, 1, 2, 1, 4, 2, 1, 1, 1, 1, 1, 1, 1, 1, 1], \"type\": \"bar\", \"uid\": \"6dd47953-19ca-49bf-a71f-b076071d2cbb\"}], {}, {\"showLink\": false, \"linkText\": \"Export to plot.ly\", \"plotlyServerURL\": \"https://plot.ly\"}); \n",
       "}\n",
       "});</script><script type=\"text/javascript\">window.addEventListener(\"resize\", function(){if (document.getElementById(\"f66b3bbb-2f44-423c-820b-890a40be1352\")) {window._Plotly.Plots.resize(document.getElementById(\"f66b3bbb-2f44-423c-820b-890a40be1352\"));};})</script>"
      ]
     },
     "metadata": {},
     "output_type": "display_data"
    },
    {
     "name": "stdout",
     "output_type": "stream",
     "text": [
      "\n",
      "\n",
      "Cluster 3 || variable: Nacionalidad\n",
      "Describiendo la pregunta Nacionalidad\n",
      "Valores numéricos asociados a las respuestas [0, 1, 2, 3, 4, 5, 6, 7, 8, 9, 10, 11, 12, 13, 14, 15, 16, 17, 18, 19, 20, 21, 22, 23, 24, 25, 26, 27, 28, 29, 30, 31, 32, 33]\n",
      "Respuestas posibles a la pregunta/variable ['España', 'Colombia', 'México', 'República Dominicana', 'Austria', 'Chile', 'Francia', 'Canadá', 'Nigeria', 'China', 'Australia', 'Rusia', 'Alemania', 'Brasil', 'Estados Unidos de América', 'India', 'Eslovaquia', 'Italia', 'Inglaterra', 'Cuba', 'Ukrania', 'Venezuela', 'Indonesia', 'Albania', 'Paquistan', 'Bahamas', 'Argentina', 'Islandia', 'Escocia', 'Sudán', 'Nueva Zelanda', 'Irlanda', 'Macedonia', 'Unknown']\n"
     ]
    },
    {
     "data": {
      "text/plain": [
       "count    27.000000\n",
       "mean     14.592593\n",
       "std       8.068263\n",
       "min       0.000000\n",
       "25%      14.000000\n",
       "50%      14.000000\n",
       "75%      15.000000\n",
       "max      33.000000\n",
       "Name: Nacionalidad, dtype: float64"
      ]
     },
     "metadata": {},
     "output_type": "display_data"
    },
    {
     "name": "stdout",
     "output_type": "stream",
     "text": [
      "Conteo de cada valor en Nacionalidad expresada como valor / cantidad\n"
     ]
    },
    {
     "data": {
      "text/plain": [
       "0      3\n",
       "9      1\n",
       "14    14\n",
       "15     6\n",
       "33     3\n",
       "Name: Nacionalidad, dtype: int64"
      ]
     },
     "metadata": {},
     "output_type": "display_data"
    },
    {
     "name": "stdout",
     "output_type": "stream",
     "text": [
      "Porcentaje de cada valor en Nacionalidad expresado como valor / porcentaje\n"
     ]
    },
    {
     "data": {
      "text/plain": [
       "0     11.11\n",
       "9      3.70\n",
       "14    51.85\n",
       "15    22.22\n",
       "33    11.11\n",
       "Name: Nacionalidad, dtype: float64"
      ]
     },
     "metadata": {},
     "output_type": "display_data"
    },
    {
     "data": {
      "application/vnd.plotly.v1+json": {
       "config": {
        "linkText": "Export to plot.ly",
        "plotlyServerURL": "https://plot.ly",
        "showLink": false
       },
       "data": [
        {
         "marker": {
          "color": [
           "hsl(353.0, 64.0%, 53.0%)",
           "hsl(358.09090909090907, 69.81818181818181%, 54.696969696969695%)",
           "hsl(3.181818181818187, 75.63636363636364%, 56.39393939393939%)",
           "hsl(8.272727272727252, 81.45454545454545%, 58.09090909090909%)",
           "hsl(13.363636363636374, 87.27272727272728%, 59.78787878787879%)",
           "hsl(17.181818181818183, 89.9090909090909%, 61.696969696969695%)",
           "hsl(20.81818181818182, 92.0909090909091%, 63.63636363636364%)",
           "hsl(24.454545454545453, 94.27272727272728%, 65.57575757575758%)",
           "hsl(28.090909090909093, 96.45454545454545%, 67.51515151515152%)",
           "hsl(31.727272727272727, 97.18181818181819%, 69.63636363636364%)",
           "hsl(35.36363636363637, 97.42424242424242%, 71.81818181818181%)",
           "hsl(39.0, 97.66666666666667%, 74.0%)",
           "hsl(42.63636363636364, 97.9090909090909%, 76.18181818181819%)",
           "hsl(46.42424242424242, 98.3030303030303%, 78.51515151515152%)",
           "hsl(50.303030303030305, 98.78787878787878%, 80.93939393939394%)",
           "hsl(54.18181818181818, 99.27272727272727%, 83.36363636363636%)",
           "hsl(58.06060606060606, 99.75757575757575%, 85.78787878787878%)",
           "hsl(61.09090909090909, 97.81818181818181%, 85.78787878787878%)",
           "hsl(63.272727272727266, 93.45454545454547%, 83.36363636363637%)",
           "hsl(65.45454545454545, 89.09090909090908%, 80.93939393939394%)",
           "hsl(67.63636363636364, 84.72727272727272%, 78.51515151515152%)",
           "hsl(72.9090909090909, 78.63636363636364%, 76.81818181818181%)",
           "hsl(83.33333333333331, 69.66666666666669%, 76.33333333333333%)",
           "hsl(93.75757575757578, 60.69696969696968%, 75.84848484848484%)",
           "hsl(104.18181818181819, 51.72727272727272%, 75.36363636363636%)",
           "hsl(114.96969696969697, 44.81818181818182%, 73.96969696969697%)",
           "hsl(126.84848484848483, 44.09090909090909%, 69.84848484848486%)",
           "hsl(138.72727272727275, 43.36363636363636%, 65.72727272727272%)",
           "hsl(150.60606060606062, 42.63636363636363%, 61.6060606060606%)",
           "hsl(162.24242424242425, 42.484848484848484%, 57.63636363636364%)",
           "hsl(172.1818181818182, 46.36363636363636%, 54.727272727272734%)",
           "hsl(182.12121212121212, 50.24242424242425%, 51.81818181818181%)",
           "hsl(192.06060606060606, 54.121212121212125%, 48.90909090909091%)",
           "hsl(202.0, 58.0%, 46.0%)"
          ]
         },
         "type": "bar",
         "uid": "d15f92eb-86a5-46bf-beb9-aeea6ea64667",
         "x": [
          0,
          9,
          14,
          15,
          33
         ],
         "y": [
          3,
          1,
          14,
          6,
          3
         ]
        }
       ],
       "layout": {
        "bargap": 0.2,
        "xaxis": {
         "ticktext": [
          "España",
          "Colombia",
          "México",
          "República Dominicana",
          "Austria",
          "Chile",
          "Francia",
          "Canadá",
          "Nigeria",
          "China",
          "Australia",
          "Rusia",
          "Alemania",
          "Brasil",
          "Estados Unidos de América",
          "India",
          "Eslovaquia",
          "Italia",
          "Inglaterra",
          "Cuba",
          "Ukrania",
          "Venezuela",
          "Indonesia",
          "Albania",
          "Paquistan",
          "Bahamas",
          "Argentina",
          "Islandia",
          "Escocia",
          "Sudán",
          "Nueva Zelanda",
          "Irlanda",
          "Macedonia",
          "Unknown"
         ],
         "tickvals": [
          0,
          1,
          2,
          3,
          4,
          5,
          6,
          7,
          8,
          9,
          10,
          11,
          12,
          13,
          14,
          15,
          16,
          17,
          18,
          19,
          20,
          21,
          22,
          23,
          24,
          25,
          26,
          27,
          28,
          29,
          30,
          31,
          32,
          33
         ]
        }
       }
      },
      "text/html": [
       "<div id=\"04c60c44-997f-4f55-bb93-9fd7a3f58968\" style=\"height: 525px; width: 100%;\" class=\"plotly-graph-div\"></div><script type=\"text/javascript\">require([\"plotly\"], function(Plotly) { window.PLOTLYENV=window.PLOTLYENV || {};window.PLOTLYENV.BASE_URL=\"https://plot.ly\";\n",
       "if (document.getElementById(\"04c60c44-997f-4f55-bb93-9fd7a3f58968\")) {\n",
       "    Plotly.newPlot(\"04c60c44-997f-4f55-bb93-9fd7a3f58968\", [{\"marker\": {\"color\": [\"hsl(353.0, 64.0%, 53.0%)\", \"hsl(358.09090909090907, 69.81818181818181%, 54.696969696969695%)\", \"hsl(3.181818181818187, 75.63636363636364%, 56.39393939393939%)\", \"hsl(8.272727272727252, 81.45454545454545%, 58.09090909090909%)\", \"hsl(13.363636363636374, 87.27272727272728%, 59.78787878787879%)\", \"hsl(17.181818181818183, 89.9090909090909%, 61.696969696969695%)\", \"hsl(20.81818181818182, 92.0909090909091%, 63.63636363636364%)\", \"hsl(24.454545454545453, 94.27272727272728%, 65.57575757575758%)\", \"hsl(28.090909090909093, 96.45454545454545%, 67.51515151515152%)\", \"hsl(31.727272727272727, 97.18181818181819%, 69.63636363636364%)\", \"hsl(35.36363636363637, 97.42424242424242%, 71.81818181818181%)\", \"hsl(39.0, 97.66666666666667%, 74.0%)\", \"hsl(42.63636363636364, 97.9090909090909%, 76.18181818181819%)\", \"hsl(46.42424242424242, 98.3030303030303%, 78.51515151515152%)\", \"hsl(50.303030303030305, 98.78787878787878%, 80.93939393939394%)\", \"hsl(54.18181818181818, 99.27272727272727%, 83.36363636363636%)\", \"hsl(58.06060606060606, 99.75757575757575%, 85.78787878787878%)\", \"hsl(61.09090909090909, 97.81818181818181%, 85.78787878787878%)\", \"hsl(63.272727272727266, 93.45454545454547%, 83.36363636363637%)\", \"hsl(65.45454545454545, 89.09090909090908%, 80.93939393939394%)\", \"hsl(67.63636363636364, 84.72727272727272%, 78.51515151515152%)\", \"hsl(72.9090909090909, 78.63636363636364%, 76.81818181818181%)\", \"hsl(83.33333333333331, 69.66666666666669%, 76.33333333333333%)\", \"hsl(93.75757575757578, 60.69696969696968%, 75.84848484848484%)\", \"hsl(104.18181818181819, 51.72727272727272%, 75.36363636363636%)\", \"hsl(114.96969696969697, 44.81818181818182%, 73.96969696969697%)\", \"hsl(126.84848484848483, 44.09090909090909%, 69.84848484848486%)\", \"hsl(138.72727272727275, 43.36363636363636%, 65.72727272727272%)\", \"hsl(150.60606060606062, 42.63636363636363%, 61.6060606060606%)\", \"hsl(162.24242424242425, 42.484848484848484%, 57.63636363636364%)\", \"hsl(172.1818181818182, 46.36363636363636%, 54.727272727272734%)\", \"hsl(182.12121212121212, 50.24242424242425%, 51.81818181818181%)\", \"hsl(192.06060606060606, 54.121212121212125%, 48.90909090909091%)\", \"hsl(202.0, 58.0%, 46.0%)\"]}, \"x\": [0, 9, 14, 15, 33], \"y\": [3, 1, 14, 6, 3], \"type\": \"bar\", \"uid\": \"d15f92eb-86a5-46bf-beb9-aeea6ea64667\"}], {\"bargap\": 0.2, \"xaxis\": {\"ticktext\": [\"Espa\\u00f1a\", \"Colombia\", \"M\\u00e9xico\", \"Rep\\u00fablica Dominicana\", \"Austria\", \"Chile\", \"Francia\", \"Canad\\u00e1\", \"Nigeria\", \"China\", \"Australia\", \"Rusia\", \"Alemania\", \"Brasil\", \"Estados Unidos de Am\\u00e9rica\", \"India\", \"Eslovaquia\", \"Italia\", \"Inglaterra\", \"Cuba\", \"Ukrania\", \"Venezuela\", \"Indonesia\", \"Albania\", \"Paquistan\", \"Bahamas\", \"Argentina\", \"Islandia\", \"Escocia\", \"Sud\\u00e1n\", \"Nueva Zelanda\", \"Irlanda\", \"Macedonia\", \"Unknown\"], \"tickvals\": [0, 1, 2, 3, 4, 5, 6, 7, 8, 9, 10, 11, 12, 13, 14, 15, 16, 17, 18, 19, 20, 21, 22, 23, 24, 25, 26, 27, 28, 29, 30, 31, 32, 33]}}, {\"showLink\": false, \"linkText\": \"Export to plot.ly\", \"plotlyServerURL\": \"https://plot.ly\"}); \n",
       "}\n",
       "});</script><script type=\"text/javascript\">window.addEventListener(\"resize\", function(){if (document.getElementById(\"04c60c44-997f-4f55-bb93-9fd7a3f58968\")) {window._Plotly.Plots.resize(document.getElementById(\"04c60c44-997f-4f55-bb93-9fd7a3f58968\"));};})</script>"
      ],
      "text/vnd.plotly.v1+html": [
       "<div id=\"04c60c44-997f-4f55-bb93-9fd7a3f58968\" style=\"height: 525px; width: 100%;\" class=\"plotly-graph-div\"></div><script type=\"text/javascript\">require([\"plotly\"], function(Plotly) { window.PLOTLYENV=window.PLOTLYENV || {};window.PLOTLYENV.BASE_URL=\"https://plot.ly\";\n",
       "if (document.getElementById(\"04c60c44-997f-4f55-bb93-9fd7a3f58968\")) {\n",
       "    Plotly.newPlot(\"04c60c44-997f-4f55-bb93-9fd7a3f58968\", [{\"marker\": {\"color\": [\"hsl(353.0, 64.0%, 53.0%)\", \"hsl(358.09090909090907, 69.81818181818181%, 54.696969696969695%)\", \"hsl(3.181818181818187, 75.63636363636364%, 56.39393939393939%)\", \"hsl(8.272727272727252, 81.45454545454545%, 58.09090909090909%)\", \"hsl(13.363636363636374, 87.27272727272728%, 59.78787878787879%)\", \"hsl(17.181818181818183, 89.9090909090909%, 61.696969696969695%)\", \"hsl(20.81818181818182, 92.0909090909091%, 63.63636363636364%)\", \"hsl(24.454545454545453, 94.27272727272728%, 65.57575757575758%)\", \"hsl(28.090909090909093, 96.45454545454545%, 67.51515151515152%)\", \"hsl(31.727272727272727, 97.18181818181819%, 69.63636363636364%)\", \"hsl(35.36363636363637, 97.42424242424242%, 71.81818181818181%)\", \"hsl(39.0, 97.66666666666667%, 74.0%)\", \"hsl(42.63636363636364, 97.9090909090909%, 76.18181818181819%)\", \"hsl(46.42424242424242, 98.3030303030303%, 78.51515151515152%)\", \"hsl(50.303030303030305, 98.78787878787878%, 80.93939393939394%)\", \"hsl(54.18181818181818, 99.27272727272727%, 83.36363636363636%)\", \"hsl(58.06060606060606, 99.75757575757575%, 85.78787878787878%)\", \"hsl(61.09090909090909, 97.81818181818181%, 85.78787878787878%)\", \"hsl(63.272727272727266, 93.45454545454547%, 83.36363636363637%)\", \"hsl(65.45454545454545, 89.09090909090908%, 80.93939393939394%)\", \"hsl(67.63636363636364, 84.72727272727272%, 78.51515151515152%)\", \"hsl(72.9090909090909, 78.63636363636364%, 76.81818181818181%)\", \"hsl(83.33333333333331, 69.66666666666669%, 76.33333333333333%)\", \"hsl(93.75757575757578, 60.69696969696968%, 75.84848484848484%)\", \"hsl(104.18181818181819, 51.72727272727272%, 75.36363636363636%)\", \"hsl(114.96969696969697, 44.81818181818182%, 73.96969696969697%)\", \"hsl(126.84848484848483, 44.09090909090909%, 69.84848484848486%)\", \"hsl(138.72727272727275, 43.36363636363636%, 65.72727272727272%)\", \"hsl(150.60606060606062, 42.63636363636363%, 61.6060606060606%)\", \"hsl(162.24242424242425, 42.484848484848484%, 57.63636363636364%)\", \"hsl(172.1818181818182, 46.36363636363636%, 54.727272727272734%)\", \"hsl(182.12121212121212, 50.24242424242425%, 51.81818181818181%)\", \"hsl(192.06060606060606, 54.121212121212125%, 48.90909090909091%)\", \"hsl(202.0, 58.0%, 46.0%)\"]}, \"x\": [0, 9, 14, 15, 33], \"y\": [3, 1, 14, 6, 3], \"type\": \"bar\", \"uid\": \"d15f92eb-86a5-46bf-beb9-aeea6ea64667\"}], {\"bargap\": 0.2, \"xaxis\": {\"ticktext\": [\"Espa\\u00f1a\", \"Colombia\", \"M\\u00e9xico\", \"Rep\\u00fablica Dominicana\", \"Austria\", \"Chile\", \"Francia\", \"Canad\\u00e1\", \"Nigeria\", \"China\", \"Australia\", \"Rusia\", \"Alemania\", \"Brasil\", \"Estados Unidos de Am\\u00e9rica\", \"India\", \"Eslovaquia\", \"Italia\", \"Inglaterra\", \"Cuba\", \"Ukrania\", \"Venezuela\", \"Indonesia\", \"Albania\", \"Paquistan\", \"Bahamas\", \"Argentina\", \"Islandia\", \"Escocia\", \"Sud\\u00e1n\", \"Nueva Zelanda\", \"Irlanda\", \"Macedonia\", \"Unknown\"], \"tickvals\": [0, 1, 2, 3, 4, 5, 6, 7, 8, 9, 10, 11, 12, 13, 14, 15, 16, 17, 18, 19, 20, 21, 22, 23, 24, 25, 26, 27, 28, 29, 30, 31, 32, 33]}}, {\"showLink\": false, \"linkText\": \"Export to plot.ly\", \"plotlyServerURL\": \"https://plot.ly\"}); \n",
       "}\n",
       "});</script><script type=\"text/javascript\">window.addEventListener(\"resize\", function(){if (document.getElementById(\"04c60c44-997f-4f55-bb93-9fd7a3f58968\")) {window._Plotly.Plots.resize(document.getElementById(\"04c60c44-997f-4f55-bb93-9fd7a3f58968\"));};})</script>"
      ]
     },
     "metadata": {},
     "output_type": "display_data"
    },
    {
     "name": "stdout",
     "output_type": "stream",
     "text": [
      "\n",
      "\n",
      "Cluster 3 || variable: Nivel de estudios\n",
      "Describiendo la pregunta Nivel de estudios\n",
      "Valores numéricos asociados a las respuestas [0, 1, 2, 3, 4, 5]\n",
      "Respuestas posibles a la pregunta/variable ['Educación Primaria', 'Sin terminar Educación Secundaria Obligatoria', 'Terminada Educación Secundaria Obligatoria', 'FP', 'Universitario sin graduar', 'Universitario graduado']\n"
     ]
    },
    {
     "data": {
      "text/plain": [
       "count    27.000000\n",
       "mean      3.925926\n",
       "std       1.439175\n",
       "min       1.000000\n",
       "25%       3.500000\n",
       "50%       5.000000\n",
       "75%       5.000000\n",
       "max       5.000000\n",
       "Name: Nivel de estudios, dtype: float64"
      ]
     },
     "metadata": {},
     "output_type": "display_data"
    },
    {
     "name": "stdout",
     "output_type": "stream",
     "text": [
      "Conteo de cada valor en Nivel de estudios expresada como valor / cantidad\n"
     ]
    },
    {
     "data": {
      "text/plain": [
       "1     3\n",
       "2     3\n",
       "3     1\n",
       "4     6\n",
       "5    14\n",
       "Name: Nivel de estudios, dtype: int64"
      ]
     },
     "metadata": {},
     "output_type": "display_data"
    },
    {
     "name": "stdout",
     "output_type": "stream",
     "text": [
      "Porcentaje de cada valor en Nivel de estudios expresado como valor / porcentaje\n"
     ]
    },
    {
     "data": {
      "text/plain": [
       "1    11.11\n",
       "2    11.11\n",
       "3     3.70\n",
       "4    22.22\n",
       "5    51.85\n",
       "Name: Nivel de estudios, dtype: float64"
      ]
     },
     "metadata": {},
     "output_type": "display_data"
    },
    {
     "data": {
      "application/vnd.plotly.v1+json": {
       "config": {
        "linkText": "Export to plot.ly",
        "plotlyServerURL": "https://plot.ly",
        "showLink": false
       },
       "data": [
        {
         "marker": {
          "color": [
           "rgb(213,62,79)",
           "rgb(252,141,89)",
           "rgb(254,224,139)",
           "rgb(230,245,152)",
           "rgb(153,213,148)",
           "rgb(50,136,189)"
          ]
         },
         "type": "bar",
         "uid": "09a342d7-723f-4e35-a396-5165cb20fa24",
         "x": [
          1,
          2,
          3,
          4,
          5
         ],
         "y": [
          3,
          3,
          1,
          6,
          14
         ]
        }
       ],
       "layout": {
        "bargap": 0.2,
        "xaxis": {
         "ticktext": [
          "Educación Primaria",
          "Sin terminar Educación Secundaria Obligatoria",
          "Terminada Educación Secundaria Obligatoria",
          "FP",
          "Universitario sin graduar",
          "Universitario graduado"
         ],
         "tickvals": [
          0,
          1,
          2,
          3,
          4,
          5
         ]
        }
       }
      },
      "text/html": [
       "<div id=\"1faf3961-98e4-4acf-bd0b-af67330917da\" style=\"height: 525px; width: 100%;\" class=\"plotly-graph-div\"></div><script type=\"text/javascript\">require([\"plotly\"], function(Plotly) { window.PLOTLYENV=window.PLOTLYENV || {};window.PLOTLYENV.BASE_URL=\"https://plot.ly\";\n",
       "if (document.getElementById(\"1faf3961-98e4-4acf-bd0b-af67330917da\")) {\n",
       "    Plotly.newPlot(\"1faf3961-98e4-4acf-bd0b-af67330917da\", [{\"marker\": {\"color\": [\"rgb(213,62,79)\", \"rgb(252,141,89)\", \"rgb(254,224,139)\", \"rgb(230,245,152)\", \"rgb(153,213,148)\", \"rgb(50,136,189)\"]}, \"x\": [1, 2, 3, 4, 5], \"y\": [3, 3, 1, 6, 14], \"type\": \"bar\", \"uid\": \"09a342d7-723f-4e35-a396-5165cb20fa24\"}], {\"bargap\": 0.2, \"xaxis\": {\"ticktext\": [\"Educaci\\u00f3n Primaria\", \"Sin terminar Educaci\\u00f3n Secundaria Obligatoria\", \"Terminada Educaci\\u00f3n Secundaria Obligatoria\", \"FP\", \"Universitario sin graduar\", \"Universitario graduado\"], \"tickvals\": [0, 1, 2, 3, 4, 5]}}, {\"showLink\": false, \"linkText\": \"Export to plot.ly\", \"plotlyServerURL\": \"https://plot.ly\"}); \n",
       "}\n",
       "});</script><script type=\"text/javascript\">window.addEventListener(\"resize\", function(){if (document.getElementById(\"1faf3961-98e4-4acf-bd0b-af67330917da\")) {window._Plotly.Plots.resize(document.getElementById(\"1faf3961-98e4-4acf-bd0b-af67330917da\"));};})</script>"
      ],
      "text/vnd.plotly.v1+html": [
       "<div id=\"1faf3961-98e4-4acf-bd0b-af67330917da\" style=\"height: 525px; width: 100%;\" class=\"plotly-graph-div\"></div><script type=\"text/javascript\">require([\"plotly\"], function(Plotly) { window.PLOTLYENV=window.PLOTLYENV || {};window.PLOTLYENV.BASE_URL=\"https://plot.ly\";\n",
       "if (document.getElementById(\"1faf3961-98e4-4acf-bd0b-af67330917da\")) {\n",
       "    Plotly.newPlot(\"1faf3961-98e4-4acf-bd0b-af67330917da\", [{\"marker\": {\"color\": [\"rgb(213,62,79)\", \"rgb(252,141,89)\", \"rgb(254,224,139)\", \"rgb(230,245,152)\", \"rgb(153,213,148)\", \"rgb(50,136,189)\"]}, \"x\": [1, 2, 3, 4, 5], \"y\": [3, 3, 1, 6, 14], \"type\": \"bar\", \"uid\": \"09a342d7-723f-4e35-a396-5165cb20fa24\"}], {\"bargap\": 0.2, \"xaxis\": {\"ticktext\": [\"Educaci\\u00f3n Primaria\", \"Sin terminar Educaci\\u00f3n Secundaria Obligatoria\", \"Terminada Educaci\\u00f3n Secundaria Obligatoria\", \"FP\", \"Universitario sin graduar\", \"Universitario graduado\"], \"tickvals\": [0, 1, 2, 3, 4, 5]}}, {\"showLink\": false, \"linkText\": \"Export to plot.ly\", \"plotlyServerURL\": \"https://plot.ly\"}); \n",
       "}\n",
       "});</script><script type=\"text/javascript\">window.addEventListener(\"resize\", function(){if (document.getElementById(\"1faf3961-98e4-4acf-bd0b-af67330917da\")) {window._Plotly.Plots.resize(document.getElementById(\"1faf3961-98e4-4acf-bd0b-af67330917da\"));};})</script>"
      ]
     },
     "metadata": {},
     "output_type": "display_data"
    }
   ],
   "source": [
    "visualize_personal_info_by_cultural_clusters_esp(dataframe_with_clusters_esp)"
   ]
  },
  {
   "cell_type": "code",
   "execution_count": 10,
   "metadata": {
    "scrolled": false
   },
   "outputs": [],
   "source": [
    "# visualize_personal_info_by_cultural_clusters_en(dataframe_with_clusters_en)"
   ]
  },
  {
   "cell_type": "code",
   "execution_count": 11,
   "metadata": {
    "scrolled": false
   },
   "outputs": [
    {
     "name": "stdout",
     "output_type": "stream",
     "text": [
      "Comparando la pregunta Género\n"
     ]
    },
    {
     "data": {
      "application/vnd.plotly.v1+json": {
       "config": {
        "linkText": "Export to plot.ly",
        "plotlyServerURL": "https://plot.ly",
        "showLink": false
       },
       "data": [
        {
         "hovertemplate": "Género=0<br>counts=%{r}<br>cultural_cluster=%{theta}<extra></extra>",
         "legendgroup": "Género=0",
         "marker": {
          "color": "rgb(213,62,79)"
         },
         "name": "Género=0",
         "r": [
          80,
          136,
          14,
          128
         ],
         "showlegend": true,
         "theta": [
          "cluster_1",
          "cluster_2",
          "cluster_3",
          "cluster_4"
         ],
         "type": "barpolar",
         "uid": "cf05c431-6527-49d4-8dfd-65f44685d773"
        },
        {
         "hovertemplate": "Género=1<br>counts=%{r}<br>cultural_cluster=%{theta}<extra></extra>",
         "legendgroup": "Género=1",
         "marker": {
          "color": "rgb(252,141,89)"
         },
         "name": "Género=1",
         "r": [
          140,
          165,
          13,
          85
         ],
         "showlegend": true,
         "theta": [
          "cluster_1",
          "cluster_2",
          "cluster_3",
          "cluster_4"
         ],
         "type": "barpolar",
         "uid": "0754cf8c-d30a-49b2-9675-d560b2e6045e"
        },
        {
         "hovertemplate": "Género=2<br>counts=%{r}<br>cultural_cluster=%{theta}<extra></extra>",
         "legendgroup": "Género=2",
         "marker": {
          "color": "rgb(254,224,139)"
         },
         "name": "Género=2",
         "r": [
          3,
          2,
          1
         ],
         "showlegend": true,
         "theta": [
          "cluster_1",
          "cluster_4",
          "cluster_5"
         ],
         "type": "barpolar",
         "uid": "f3dd8e28-dd1c-4633-b313-34b9ae9de335"
        }
       ],
       "layout": {
        "barmode": "group",
        "barnorm": "",
        "height": 600,
        "legend": {
         "tracegroupgap": 0
        },
        "margin": {
         "t": 60
        },
        "polar": {
         "angularaxis": {
          "direction": "clockwise",
          "rotation": 90
         }
        },
        "template": {
         "data": {
          "bar": [
           {
            "marker": {
             "line": {
              "color": "#E5ECF6",
              "width": 0.5
             }
            },
            "type": "bar"
           }
          ],
          "barpolar": [
           {
            "marker": {
             "line": {
              "color": "#E5ECF6",
              "width": 0.5
             }
            },
            "type": "barpolar"
           }
          ],
          "carpet": [
           {
            "aaxis": {
             "endlinecolor": "#2a3f5f",
             "gridcolor": "white",
             "linecolor": "white",
             "minorgridcolor": "white",
             "startlinecolor": "#2a3f5f"
            },
            "baxis": {
             "endlinecolor": "#2a3f5f",
             "gridcolor": "white",
             "linecolor": "white",
             "minorgridcolor": "white",
             "startlinecolor": "#2a3f5f"
            },
            "type": "carpet"
           }
          ],
          "choropleth": [
           {
            "colorbar": {
             "outlinewidth": 0,
             "ticks": ""
            },
            "type": "choropleth"
           }
          ],
          "contour": [
           {
            "autocolorscale": true,
            "colorbar": {
             "outlinewidth": 0,
             "ticks": ""
            },
            "type": "contour"
           }
          ],
          "contourcarpet": [
           {
            "colorbar": {
             "outlinewidth": 0,
             "ticks": ""
            },
            "type": "contourcarpet"
           }
          ],
          "heatmap": [
           {
            "autocolorscale": true,
            "colorbar": {
             "outlinewidth": 0,
             "ticks": ""
            },
            "type": "heatmap"
           }
          ],
          "heatmapgl": [
           {
            "colorbar": {
             "outlinewidth": 0,
             "ticks": ""
            },
            "type": "heatmapgl"
           }
          ],
          "histogram": [
           {
            "marker": {
             "colorbar": {
              "outlinewidth": 0,
              "ticks": ""
             }
            },
            "type": "histogram"
           }
          ],
          "histogram2d": [
           {
            "autocolorscale": true,
            "colorbar": {
             "outlinewidth": 0,
             "ticks": ""
            },
            "type": "histogram2d"
           }
          ],
          "histogram2dcontour": [
           {
            "autocolorscale": true,
            "colorbar": {
             "outlinewidth": 0,
             "ticks": ""
            },
            "type": "histogram2dcontour"
           }
          ],
          "mesh3d": [
           {
            "colorbar": {
             "outlinewidth": 0,
             "ticks": ""
            },
            "type": "mesh3d"
           }
          ],
          "parcoords": [
           {
            "line": {
             "colorbar": {
              "outlinewidth": 0,
              "ticks": ""
             }
            },
            "type": "parcoords"
           }
          ],
          "scatter": [
           {
            "marker": {
             "colorbar": {
              "outlinewidth": 0,
              "ticks": ""
             }
            },
            "type": "scatter"
           }
          ],
          "scatter3d": [
           {
            "marker": {
             "colorbar": {
              "outlinewidth": 0,
              "ticks": ""
             }
            },
            "type": "scatter3d"
           }
          ],
          "scattercarpet": [
           {
            "marker": {
             "colorbar": {
              "outlinewidth": 0,
              "ticks": ""
             }
            },
            "type": "scattercarpet"
           }
          ],
          "scattergeo": [
           {
            "marker": {
             "colorbar": {
              "outlinewidth": 0,
              "ticks": ""
             }
            },
            "type": "scattergeo"
           }
          ],
          "scattergl": [
           {
            "marker": {
             "colorbar": {
              "outlinewidth": 0,
              "ticks": ""
             }
            },
            "type": "scattergl"
           }
          ],
          "scattermapbox": [
           {
            "marker": {
             "colorbar": {
              "outlinewidth": 0,
              "ticks": ""
             }
            },
            "type": "scattermapbox"
           }
          ],
          "scatterpolar": [
           {
            "marker": {
             "colorbar": {
              "outlinewidth": 0,
              "ticks": ""
             }
            },
            "type": "scatterpolar"
           }
          ],
          "scatterpolargl": [
           {
            "marker": {
             "colorbar": {
              "outlinewidth": 0,
              "ticks": ""
             }
            },
            "type": "scatterpolargl"
           }
          ],
          "scatterternary": [
           {
            "marker": {
             "colorbar": {
              "outlinewidth": 0,
              "ticks": ""
             }
            },
            "type": "scatterternary"
           }
          ],
          "surface": [
           {
            "colorbar": {
             "outlinewidth": 0,
             "ticks": ""
            },
            "type": "surface"
           }
          ],
          "table": [
           {
            "cells": {
             "fill": {
              "color": "#EBF0F8"
             },
             "line": {
              "color": "white"
             }
            },
            "header": {
             "fill": {
              "color": "#C8D4E3"
             },
             "line": {
              "color": "white"
             }
            },
            "type": "table"
           }
          ]
         },
         "layout": {
          "annotationdefaults": {
           "arrowcolor": "#506784",
           "arrowhead": 0,
           "arrowwidth": 1
          },
          "colorscale": {
           "diverging": [
            [
             0,
             "#8e0152"
            ],
            [
             0.1,
             "#c51b7d"
            ],
            [
             0.2,
             "#de77ae"
            ],
            [
             0.3,
             "#f1b6da"
            ],
            [
             0.4,
             "#fde0ef"
            ],
            [
             0.5,
             "#f7f7f7"
            ],
            [
             0.6,
             "#e6f5d0"
            ],
            [
             0.7,
             "#b8e186"
            ],
            [
             0.8,
             "#7fbc41"
            ],
            [
             0.9,
             "#4d9221"
            ],
            [
             1,
             "#276419"
            ]
           ],
           "sequential": [
            [
             0,
             "#0508b8"
            ],
            [
             0.0893854748603352,
             "#1910d8"
            ],
            [
             0.1787709497206704,
             "#3c19f0"
            ],
            [
             0.2681564245810056,
             "#6b1cfb"
            ],
            [
             0.3575418994413408,
             "#981cfd"
            ],
            [
             0.44692737430167595,
             "#bf1cfd"
            ],
            [
             0.5363128491620112,
             "#dd2bfd"
            ],
            [
             0.6256983240223464,
             "#f246fe"
            ],
            [
             0.7150837988826816,
             "#fc67fd"
            ],
            [
             0.8044692737430168,
             "#fe88fc"
            ],
            [
             0.8938547486033519,
             "#fea5fd"
            ],
            [
             0.9832402234636871,
             "#febefe"
            ],
            [
             1,
             "#fec3fe"
            ]
           ],
           "sequentialminus": [
            [
             0,
             "#0508b8"
            ],
            [
             0.0893854748603352,
             "#1910d8"
            ],
            [
             0.1787709497206704,
             "#3c19f0"
            ],
            [
             0.2681564245810056,
             "#6b1cfb"
            ],
            [
             0.3575418994413408,
             "#981cfd"
            ],
            [
             0.44692737430167595,
             "#bf1cfd"
            ],
            [
             0.5363128491620112,
             "#dd2bfd"
            ],
            [
             0.6256983240223464,
             "#f246fe"
            ],
            [
             0.7150837988826816,
             "#fc67fd"
            ],
            [
             0.8044692737430168,
             "#fe88fc"
            ],
            [
             0.8938547486033519,
             "#fea5fd"
            ],
            [
             0.9832402234636871,
             "#febefe"
            ],
            [
             1,
             "#fec3fe"
            ]
           ]
          },
          "colorway": [
           "#636efa",
           "#EF553B",
           "#00cc96",
           "#ab63fa",
           "#19d3f3",
           "#e763fa",
           "#FECB52",
           "#FFA15A",
           "#FF6692",
           "#B6E880"
          ],
          "font": {
           "color": "#2a3f5f"
          },
          "geo": {
           "bgcolor": "white",
           "lakecolor": "white",
           "landcolor": "#E5ECF6",
           "showlakes": true,
           "showland": true,
           "subunitcolor": "white"
          },
          "hovermode": "closest",
          "mapbox": {
           "style": "light"
          },
          "paper_bgcolor": "white",
          "plot_bgcolor": "#E5ECF6",
          "polar": {
           "angularaxis": {
            "gridcolor": "white",
            "linecolor": "white",
            "ticks": ""
           },
           "bgcolor": "#E5ECF6",
           "radialaxis": {
            "gridcolor": "white",
            "linecolor": "white",
            "ticks": ""
           }
          },
          "scene": {
           "xaxis": {
            "backgroundcolor": "#E5ECF6",
            "gridcolor": "white",
            "gridwidth": 2,
            "linecolor": "white",
            "showbackground": true,
            "ticks": "",
            "zerolinecolor": "white"
           },
           "yaxis": {
            "backgroundcolor": "#E5ECF6",
            "gridcolor": "white",
            "gridwidth": 2,
            "linecolor": "white",
            "showbackground": true,
            "ticks": "",
            "zerolinecolor": "white"
           },
           "zaxis": {
            "backgroundcolor": "#E5ECF6",
            "gridcolor": "white",
            "gridwidth": 2,
            "linecolor": "white",
            "showbackground": true,
            "ticks": "",
            "zerolinecolor": "white"
           }
          },
          "shapedefaults": {
           "fillcolor": "#506784",
           "line": {
            "width": 0
           },
           "opacity": 0.4
          },
          "ternary": {
           "aaxis": {
            "gridcolor": "white",
            "linecolor": "white",
            "ticks": ""
           },
           "baxis": {
            "gridcolor": "white",
            "linecolor": "white",
            "ticks": ""
           },
           "bgcolor": "#E5ECF6",
           "caxis": {
            "gridcolor": "white",
            "linecolor": "white",
            "ticks": ""
           }
          },
          "title": {
           "x": 0.05
          },
          "xaxis": {
           "automargin": true,
           "gridcolor": "white",
           "linecolor": "white",
           "ticks": "",
           "zerolinecolor": "white",
           "zerolinewidth": 2
          },
          "yaxis": {
           "automargin": true,
           "gridcolor": "white",
           "linecolor": "white",
           "ticks": "",
           "zerolinecolor": "white",
           "zerolinewidth": 2
          }
         }
        }
       }
      },
      "text/html": [
       "<div id=\"b150ea10-7c98-4521-8bdd-6cde534fa65b\" style=\"height: 600px; width: 100%;\" class=\"plotly-graph-div\"></div><script type=\"text/javascript\">require([\"plotly\"], function(Plotly) { window.PLOTLYENV=window.PLOTLYENV || {};window.PLOTLYENV.BASE_URL=\"https://plot.ly\";\n",
       "if (document.getElementById(\"b150ea10-7c98-4521-8bdd-6cde534fa65b\")) {\n",
       "    Plotly.newPlot(\"b150ea10-7c98-4521-8bdd-6cde534fa65b\", [{\"hovertemplate\": \"G\\u00e9nero=0<br>counts=%{r}<br>cultural_cluster=%{theta}<extra></extra>\", \"legendgroup\": \"G\\u00e9nero=0\", \"marker\": {\"color\": \"rgb(213,62,79)\"}, \"name\": \"G\\u00e9nero=0\", \"r\": [80, 136, 14, 128], \"showlegend\": true, \"theta\": [\"cluster_1\", \"cluster_2\", \"cluster_3\", \"cluster_4\"], \"type\": \"barpolar\", \"uid\": \"cf05c431-6527-49d4-8dfd-65f44685d773\"}, {\"hovertemplate\": \"G\\u00e9nero=1<br>counts=%{r}<br>cultural_cluster=%{theta}<extra></extra>\", \"legendgroup\": \"G\\u00e9nero=1\", \"marker\": {\"color\": \"rgb(252,141,89)\"}, \"name\": \"G\\u00e9nero=1\", \"r\": [140, 165, 13, 85], \"showlegend\": true, \"theta\": [\"cluster_1\", \"cluster_2\", \"cluster_3\", \"cluster_4\"], \"type\": \"barpolar\", \"uid\": \"0754cf8c-d30a-49b2-9675-d560b2e6045e\"}, {\"hovertemplate\": \"G\\u00e9nero=2<br>counts=%{r}<br>cultural_cluster=%{theta}<extra></extra>\", \"legendgroup\": \"G\\u00e9nero=2\", \"marker\": {\"color\": \"rgb(254,224,139)\"}, \"name\": \"G\\u00e9nero=2\", \"r\": [3, 2, 1], \"showlegend\": true, \"theta\": [\"cluster_1\", \"cluster_4\", \"cluster_5\"], \"type\": \"barpolar\", \"uid\": \"f3dd8e28-dd1c-4633-b313-34b9ae9de335\"}], {\"barmode\": \"group\", \"barnorm\": \"\", \"height\": 600, \"legend\": {\"tracegroupgap\": 0}, \"margin\": {\"t\": 60}, \"template\": {\"data\": {\"barpolar\": [{\"marker\": {\"line\": {\"color\": \"#E5ECF6\", \"width\": 0.5}}, \"type\": \"barpolar\"}], \"bar\": [{\"marker\": {\"line\": {\"color\": \"#E5ECF6\", \"width\": 0.5}}, \"type\": \"bar\"}], \"carpet\": [{\"aaxis\": {\"endlinecolor\": \"#2a3f5f\", \"gridcolor\": \"white\", \"linecolor\": \"white\", \"minorgridcolor\": \"white\", \"startlinecolor\": \"#2a3f5f\"}, \"baxis\": {\"endlinecolor\": \"#2a3f5f\", \"gridcolor\": \"white\", \"linecolor\": \"white\", \"minorgridcolor\": \"white\", \"startlinecolor\": \"#2a3f5f\"}, \"type\": \"carpet\"}], \"choropleth\": [{\"colorbar\": {\"outlinewidth\": 0, \"ticks\": \"\"}, \"type\": \"choropleth\"}], \"contourcarpet\": [{\"colorbar\": {\"outlinewidth\": 0, \"ticks\": \"\"}, \"type\": \"contourcarpet\"}], \"contour\": [{\"autocolorscale\": true, \"colorbar\": {\"outlinewidth\": 0, \"ticks\": \"\"}, \"type\": \"contour\"}], \"heatmapgl\": [{\"colorbar\": {\"outlinewidth\": 0, \"ticks\": \"\"}, \"type\": \"heatmapgl\"}], \"heatmap\": [{\"autocolorscale\": true, \"colorbar\": {\"outlinewidth\": 0, \"ticks\": \"\"}, \"type\": \"heatmap\"}], \"histogram2dcontour\": [{\"autocolorscale\": true, \"colorbar\": {\"outlinewidth\": 0, \"ticks\": \"\"}, \"type\": \"histogram2dcontour\"}], \"histogram2d\": [{\"autocolorscale\": true, \"colorbar\": {\"outlinewidth\": 0, \"ticks\": \"\"}, \"type\": \"histogram2d\"}], \"histogram\": [{\"marker\": {\"colorbar\": {\"outlinewidth\": 0, \"ticks\": \"\"}}, \"type\": \"histogram\"}], \"mesh3d\": [{\"colorbar\": {\"outlinewidth\": 0, \"ticks\": \"\"}, \"type\": \"mesh3d\"}], \"parcoords\": [{\"line\": {\"colorbar\": {\"outlinewidth\": 0, \"ticks\": \"\"}}, \"type\": \"parcoords\"}], \"scatter3d\": [{\"marker\": {\"colorbar\": {\"outlinewidth\": 0, \"ticks\": \"\"}}, \"type\": \"scatter3d\"}], \"scattercarpet\": [{\"marker\": {\"colorbar\": {\"outlinewidth\": 0, \"ticks\": \"\"}}, \"type\": \"scattercarpet\"}], \"scattergeo\": [{\"marker\": {\"colorbar\": {\"outlinewidth\": 0, \"ticks\": \"\"}}, \"type\": \"scattergeo\"}], \"scattergl\": [{\"marker\": {\"colorbar\": {\"outlinewidth\": 0, \"ticks\": \"\"}}, \"type\": \"scattergl\"}], \"scattermapbox\": [{\"marker\": {\"colorbar\": {\"outlinewidth\": 0, \"ticks\": \"\"}}, \"type\": \"scattermapbox\"}], \"scatterpolargl\": [{\"marker\": {\"colorbar\": {\"outlinewidth\": 0, \"ticks\": \"\"}}, \"type\": \"scatterpolargl\"}], \"scatterpolar\": [{\"marker\": {\"colorbar\": {\"outlinewidth\": 0, \"ticks\": \"\"}}, \"type\": \"scatterpolar\"}], \"scatter\": [{\"marker\": {\"colorbar\": {\"outlinewidth\": 0, \"ticks\": \"\"}}, \"type\": \"scatter\"}], \"scatterternary\": [{\"marker\": {\"colorbar\": {\"outlinewidth\": 0, \"ticks\": \"\"}}, \"type\": \"scatterternary\"}], \"surface\": [{\"colorbar\": {\"outlinewidth\": 0, \"ticks\": \"\"}, \"type\": \"surface\"}], \"table\": [{\"cells\": {\"fill\": {\"color\": \"#EBF0F8\"}, \"line\": {\"color\": \"white\"}}, \"header\": {\"fill\": {\"color\": \"#C8D4E3\"}, \"line\": {\"color\": \"white\"}}, \"type\": \"table\"}]}, \"layout\": {\"annotationdefaults\": {\"arrowcolor\": \"#506784\", \"arrowhead\": 0, \"arrowwidth\": 1}, \"colorscale\": {\"diverging\": [[0, \"#8e0152\"], [0.1, \"#c51b7d\"], [0.2, \"#de77ae\"], [0.3, \"#f1b6da\"], [0.4, \"#fde0ef\"], [0.5, \"#f7f7f7\"], [0.6, \"#e6f5d0\"], [0.7, \"#b8e186\"], [0.8, \"#7fbc41\"], [0.9, \"#4d9221\"], [1, \"#276419\"]], \"sequential\": [[0.0, \"#0508b8\"], [0.0893854748603352, \"#1910d8\"], [0.1787709497206704, \"#3c19f0\"], [0.2681564245810056, \"#6b1cfb\"], [0.3575418994413408, \"#981cfd\"], [0.44692737430167595, \"#bf1cfd\"], [0.5363128491620112, \"#dd2bfd\"], [0.6256983240223464, \"#f246fe\"], [0.7150837988826816, \"#fc67fd\"], [0.8044692737430168, \"#fe88fc\"], [0.8938547486033519, \"#fea5fd\"], [0.9832402234636871, \"#febefe\"], [1.0, \"#fec3fe\"]], \"sequentialminus\": [[0.0, \"#0508b8\"], [0.0893854748603352, \"#1910d8\"], [0.1787709497206704, \"#3c19f0\"], [0.2681564245810056, \"#6b1cfb\"], [0.3575418994413408, \"#981cfd\"], [0.44692737430167595, \"#bf1cfd\"], [0.5363128491620112, \"#dd2bfd\"], [0.6256983240223464, \"#f246fe\"], [0.7150837988826816, \"#fc67fd\"], [0.8044692737430168, \"#fe88fc\"], [0.8938547486033519, \"#fea5fd\"], [0.9832402234636871, \"#febefe\"], [1.0, \"#fec3fe\"]]}, \"colorway\": [\"#636efa\", \"#EF553B\", \"#00cc96\", \"#ab63fa\", \"#19d3f3\", \"#e763fa\", \"#FECB52\", \"#FFA15A\", \"#FF6692\", \"#B6E880\"], \"font\": {\"color\": \"#2a3f5f\"}, \"geo\": {\"bgcolor\": \"white\", \"lakecolor\": \"white\", \"landcolor\": \"#E5ECF6\", \"showlakes\": true, \"showland\": true, \"subunitcolor\": \"white\"}, \"hovermode\": \"closest\", \"mapbox\": {\"style\": \"light\"}, \"paper_bgcolor\": \"white\", \"plot_bgcolor\": \"#E5ECF6\", \"polar\": {\"angularaxis\": {\"gridcolor\": \"white\", \"linecolor\": \"white\", \"ticks\": \"\"}, \"bgcolor\": \"#E5ECF6\", \"radialaxis\": {\"gridcolor\": \"white\", \"linecolor\": \"white\", \"ticks\": \"\"}}, \"scene\": {\"xaxis\": {\"backgroundcolor\": \"#E5ECF6\", \"gridcolor\": \"white\", \"gridwidth\": 2, \"linecolor\": \"white\", \"showbackground\": true, \"ticks\": \"\", \"zerolinecolor\": \"white\"}, \"yaxis\": {\"backgroundcolor\": \"#E5ECF6\", \"gridcolor\": \"white\", \"gridwidth\": 2, \"linecolor\": \"white\", \"showbackground\": true, \"ticks\": \"\", \"zerolinecolor\": \"white\"}, \"zaxis\": {\"backgroundcolor\": \"#E5ECF6\", \"gridcolor\": \"white\", \"gridwidth\": 2, \"linecolor\": \"white\", \"showbackground\": true, \"ticks\": \"\", \"zerolinecolor\": \"white\"}}, \"shapedefaults\": {\"fillcolor\": \"#506784\", \"line\": {\"width\": 0}, \"opacity\": 0.4}, \"ternary\": {\"aaxis\": {\"gridcolor\": \"white\", \"linecolor\": \"white\", \"ticks\": \"\"}, \"baxis\": {\"gridcolor\": \"white\", \"linecolor\": \"white\", \"ticks\": \"\"}, \"bgcolor\": \"#E5ECF6\", \"caxis\": {\"gridcolor\": \"white\", \"linecolor\": \"white\", \"ticks\": \"\"}}, \"title\": {\"x\": 0.05}, \"xaxis\": {\"automargin\": true, \"gridcolor\": \"white\", \"linecolor\": \"white\", \"ticks\": \"\", \"zerolinecolor\": \"white\", \"zerolinewidth\": 2}, \"yaxis\": {\"automargin\": true, \"gridcolor\": \"white\", \"linecolor\": \"white\", \"ticks\": \"\", \"zerolinecolor\": \"white\", \"zerolinewidth\": 2}}}, \"polar\": {\"angularaxis\": {\"direction\": \"clockwise\", \"rotation\": 90}}}, {\"showLink\": false, \"linkText\": \"Export to plot.ly\", \"plotlyServerURL\": \"https://plot.ly\"}); \n",
       "}\n",
       "});</script><script type=\"text/javascript\">window.addEventListener(\"resize\", function(){if (document.getElementById(\"b150ea10-7c98-4521-8bdd-6cde534fa65b\")) {window._Plotly.Plots.resize(document.getElementById(\"b150ea10-7c98-4521-8bdd-6cde534fa65b\"));};})</script>"
      ],
      "text/vnd.plotly.v1+html": [
       "<div id=\"b150ea10-7c98-4521-8bdd-6cde534fa65b\" style=\"height: 600px; width: 100%;\" class=\"plotly-graph-div\"></div><script type=\"text/javascript\">require([\"plotly\"], function(Plotly) { window.PLOTLYENV=window.PLOTLYENV || {};window.PLOTLYENV.BASE_URL=\"https://plot.ly\";\n",
       "if (document.getElementById(\"b150ea10-7c98-4521-8bdd-6cde534fa65b\")) {\n",
       "    Plotly.newPlot(\"b150ea10-7c98-4521-8bdd-6cde534fa65b\", [{\"hovertemplate\": \"G\\u00e9nero=0<br>counts=%{r}<br>cultural_cluster=%{theta}<extra></extra>\", \"legendgroup\": \"G\\u00e9nero=0\", \"marker\": {\"color\": \"rgb(213,62,79)\"}, \"name\": \"G\\u00e9nero=0\", \"r\": [80, 136, 14, 128], \"showlegend\": true, \"theta\": [\"cluster_1\", \"cluster_2\", \"cluster_3\", \"cluster_4\"], \"type\": \"barpolar\", \"uid\": \"cf05c431-6527-49d4-8dfd-65f44685d773\"}, {\"hovertemplate\": \"G\\u00e9nero=1<br>counts=%{r}<br>cultural_cluster=%{theta}<extra></extra>\", \"legendgroup\": \"G\\u00e9nero=1\", \"marker\": {\"color\": \"rgb(252,141,89)\"}, \"name\": \"G\\u00e9nero=1\", \"r\": [140, 165, 13, 85], \"showlegend\": true, \"theta\": [\"cluster_1\", \"cluster_2\", \"cluster_3\", \"cluster_4\"], \"type\": \"barpolar\", \"uid\": \"0754cf8c-d30a-49b2-9675-d560b2e6045e\"}, {\"hovertemplate\": \"G\\u00e9nero=2<br>counts=%{r}<br>cultural_cluster=%{theta}<extra></extra>\", \"legendgroup\": \"G\\u00e9nero=2\", \"marker\": {\"color\": \"rgb(254,224,139)\"}, \"name\": \"G\\u00e9nero=2\", \"r\": [3, 2, 1], \"showlegend\": true, \"theta\": [\"cluster_1\", \"cluster_4\", \"cluster_5\"], \"type\": \"barpolar\", \"uid\": \"f3dd8e28-dd1c-4633-b313-34b9ae9de335\"}], {\"barmode\": \"group\", \"barnorm\": \"\", \"height\": 600, \"legend\": {\"tracegroupgap\": 0}, \"margin\": {\"t\": 60}, \"template\": {\"data\": {\"barpolar\": [{\"marker\": {\"line\": {\"color\": \"#E5ECF6\", \"width\": 0.5}}, \"type\": \"barpolar\"}], \"bar\": [{\"marker\": {\"line\": {\"color\": \"#E5ECF6\", \"width\": 0.5}}, \"type\": \"bar\"}], \"carpet\": [{\"aaxis\": {\"endlinecolor\": \"#2a3f5f\", \"gridcolor\": \"white\", \"linecolor\": \"white\", \"minorgridcolor\": \"white\", \"startlinecolor\": \"#2a3f5f\"}, \"baxis\": {\"endlinecolor\": \"#2a3f5f\", \"gridcolor\": \"white\", \"linecolor\": \"white\", \"minorgridcolor\": \"white\", \"startlinecolor\": \"#2a3f5f\"}, \"type\": \"carpet\"}], \"choropleth\": [{\"colorbar\": {\"outlinewidth\": 0, \"ticks\": \"\"}, \"type\": \"choropleth\"}], \"contourcarpet\": [{\"colorbar\": {\"outlinewidth\": 0, \"ticks\": \"\"}, \"type\": \"contourcarpet\"}], \"contour\": [{\"autocolorscale\": true, \"colorbar\": {\"outlinewidth\": 0, \"ticks\": \"\"}, \"type\": \"contour\"}], \"heatmapgl\": [{\"colorbar\": {\"outlinewidth\": 0, \"ticks\": \"\"}, \"type\": \"heatmapgl\"}], \"heatmap\": [{\"autocolorscale\": true, \"colorbar\": {\"outlinewidth\": 0, \"ticks\": \"\"}, \"type\": \"heatmap\"}], \"histogram2dcontour\": [{\"autocolorscale\": true, \"colorbar\": {\"outlinewidth\": 0, \"ticks\": \"\"}, \"type\": \"histogram2dcontour\"}], \"histogram2d\": [{\"autocolorscale\": true, \"colorbar\": {\"outlinewidth\": 0, \"ticks\": \"\"}, \"type\": \"histogram2d\"}], \"histogram\": [{\"marker\": {\"colorbar\": {\"outlinewidth\": 0, \"ticks\": \"\"}}, \"type\": \"histogram\"}], \"mesh3d\": [{\"colorbar\": {\"outlinewidth\": 0, \"ticks\": \"\"}, \"type\": \"mesh3d\"}], \"parcoords\": [{\"line\": {\"colorbar\": {\"outlinewidth\": 0, \"ticks\": \"\"}}, \"type\": \"parcoords\"}], \"scatter3d\": [{\"marker\": {\"colorbar\": {\"outlinewidth\": 0, \"ticks\": \"\"}}, \"type\": \"scatter3d\"}], \"scattercarpet\": [{\"marker\": {\"colorbar\": {\"outlinewidth\": 0, \"ticks\": \"\"}}, \"type\": \"scattercarpet\"}], \"scattergeo\": [{\"marker\": {\"colorbar\": {\"outlinewidth\": 0, \"ticks\": \"\"}}, \"type\": \"scattergeo\"}], \"scattergl\": [{\"marker\": {\"colorbar\": {\"outlinewidth\": 0, \"ticks\": \"\"}}, \"type\": \"scattergl\"}], \"scattermapbox\": [{\"marker\": {\"colorbar\": {\"outlinewidth\": 0, \"ticks\": \"\"}}, \"type\": \"scattermapbox\"}], \"scatterpolargl\": [{\"marker\": {\"colorbar\": {\"outlinewidth\": 0, \"ticks\": \"\"}}, \"type\": \"scatterpolargl\"}], \"scatterpolar\": [{\"marker\": {\"colorbar\": {\"outlinewidth\": 0, \"ticks\": \"\"}}, \"type\": \"scatterpolar\"}], \"scatter\": [{\"marker\": {\"colorbar\": {\"outlinewidth\": 0, \"ticks\": \"\"}}, \"type\": \"scatter\"}], \"scatterternary\": [{\"marker\": {\"colorbar\": {\"outlinewidth\": 0, \"ticks\": \"\"}}, \"type\": \"scatterternary\"}], \"surface\": [{\"colorbar\": {\"outlinewidth\": 0, \"ticks\": \"\"}, \"type\": \"surface\"}], \"table\": [{\"cells\": {\"fill\": {\"color\": \"#EBF0F8\"}, \"line\": {\"color\": \"white\"}}, \"header\": {\"fill\": {\"color\": \"#C8D4E3\"}, \"line\": {\"color\": \"white\"}}, \"type\": \"table\"}]}, \"layout\": {\"annotationdefaults\": {\"arrowcolor\": \"#506784\", \"arrowhead\": 0, \"arrowwidth\": 1}, \"colorscale\": {\"diverging\": [[0, \"#8e0152\"], [0.1, \"#c51b7d\"], [0.2, \"#de77ae\"], [0.3, \"#f1b6da\"], [0.4, \"#fde0ef\"], [0.5, \"#f7f7f7\"], [0.6, \"#e6f5d0\"], [0.7, \"#b8e186\"], [0.8, \"#7fbc41\"], [0.9, \"#4d9221\"], [1, \"#276419\"]], \"sequential\": [[0.0, \"#0508b8\"], [0.0893854748603352, \"#1910d8\"], [0.1787709497206704, \"#3c19f0\"], [0.2681564245810056, \"#6b1cfb\"], [0.3575418994413408, \"#981cfd\"], [0.44692737430167595, \"#bf1cfd\"], [0.5363128491620112, \"#dd2bfd\"], [0.6256983240223464, \"#f246fe\"], [0.7150837988826816, \"#fc67fd\"], [0.8044692737430168, \"#fe88fc\"], [0.8938547486033519, \"#fea5fd\"], [0.9832402234636871, \"#febefe\"], [1.0, \"#fec3fe\"]], \"sequentialminus\": [[0.0, \"#0508b8\"], [0.0893854748603352, \"#1910d8\"], [0.1787709497206704, \"#3c19f0\"], [0.2681564245810056, \"#6b1cfb\"], [0.3575418994413408, \"#981cfd\"], [0.44692737430167595, \"#bf1cfd\"], [0.5363128491620112, \"#dd2bfd\"], [0.6256983240223464, \"#f246fe\"], [0.7150837988826816, \"#fc67fd\"], [0.8044692737430168, \"#fe88fc\"], [0.8938547486033519, \"#fea5fd\"], [0.9832402234636871, \"#febefe\"], [1.0, \"#fec3fe\"]]}, \"colorway\": [\"#636efa\", \"#EF553B\", \"#00cc96\", \"#ab63fa\", \"#19d3f3\", \"#e763fa\", \"#FECB52\", \"#FFA15A\", \"#FF6692\", \"#B6E880\"], \"font\": {\"color\": \"#2a3f5f\"}, \"geo\": {\"bgcolor\": \"white\", \"lakecolor\": \"white\", \"landcolor\": \"#E5ECF6\", \"showlakes\": true, \"showland\": true, \"subunitcolor\": \"white\"}, \"hovermode\": \"closest\", \"mapbox\": {\"style\": \"light\"}, \"paper_bgcolor\": \"white\", \"plot_bgcolor\": \"#E5ECF6\", \"polar\": {\"angularaxis\": {\"gridcolor\": \"white\", \"linecolor\": \"white\", \"ticks\": \"\"}, \"bgcolor\": \"#E5ECF6\", \"radialaxis\": {\"gridcolor\": \"white\", \"linecolor\": \"white\", \"ticks\": \"\"}}, \"scene\": {\"xaxis\": {\"backgroundcolor\": \"#E5ECF6\", \"gridcolor\": \"white\", \"gridwidth\": 2, \"linecolor\": \"white\", \"showbackground\": true, \"ticks\": \"\", \"zerolinecolor\": \"white\"}, \"yaxis\": {\"backgroundcolor\": \"#E5ECF6\", \"gridcolor\": \"white\", \"gridwidth\": 2, \"linecolor\": \"white\", \"showbackground\": true, \"ticks\": \"\", \"zerolinecolor\": \"white\"}, \"zaxis\": {\"backgroundcolor\": \"#E5ECF6\", \"gridcolor\": \"white\", \"gridwidth\": 2, \"linecolor\": \"white\", \"showbackground\": true, \"ticks\": \"\", \"zerolinecolor\": \"white\"}}, \"shapedefaults\": {\"fillcolor\": \"#506784\", \"line\": {\"width\": 0}, \"opacity\": 0.4}, \"ternary\": {\"aaxis\": {\"gridcolor\": \"white\", \"linecolor\": \"white\", \"ticks\": \"\"}, \"baxis\": {\"gridcolor\": \"white\", \"linecolor\": \"white\", \"ticks\": \"\"}, \"bgcolor\": \"#E5ECF6\", \"caxis\": {\"gridcolor\": \"white\", \"linecolor\": \"white\", \"ticks\": \"\"}}, \"title\": {\"x\": 0.05}, \"xaxis\": {\"automargin\": true, \"gridcolor\": \"white\", \"linecolor\": \"white\", \"ticks\": \"\", \"zerolinecolor\": \"white\", \"zerolinewidth\": 2}, \"yaxis\": {\"automargin\": true, \"gridcolor\": \"white\", \"linecolor\": \"white\", \"ticks\": \"\", \"zerolinecolor\": \"white\", \"zerolinewidth\": 2}}}, \"polar\": {\"angularaxis\": {\"direction\": \"clockwise\", \"rotation\": 90}}}, {\"showLink\": false, \"linkText\": \"Export to plot.ly\", \"plotlyServerURL\": \"https://plot.ly\"}); \n",
       "}\n",
       "});</script><script type=\"text/javascript\">window.addEventListener(\"resize\", function(){if (document.getElementById(\"b150ea10-7c98-4521-8bdd-6cde534fa65b\")) {window._Plotly.Plots.resize(document.getElementById(\"b150ea10-7c98-4521-8bdd-6cde534fa65b\"));};})</script>"
      ]
     },
     "metadata": {},
     "output_type": "display_data"
    },
    {
     "name": "stdout",
     "output_type": "stream",
     "text": [
      "Comparando la pregunta Edad\n"
     ]
    },
    {
     "data": {
      "application/vnd.plotly.v1+json": {
       "config": {
        "linkText": "Export to plot.ly",
        "plotlyServerURL": "https://plot.ly",
        "showLink": false
       },
       "data": [
        {
         "hovertemplate": "Edad=13<br>counts=%{r}<br>cultural_cluster=%{theta}<extra></extra>",
         "legendgroup": "Edad=13",
         "marker": {
          "color": "rgb(213,62,79)"
         },
         "name": "Edad=13",
         "r": [
          1,
          1,
          3
         ],
         "showlegend": true,
         "theta": [
          "cluster_1",
          "cluster_2",
          "cluster_4"
         ],
         "type": "barpolar",
         "uid": "a7ae9166-3384-41e2-b64e-0c22e14d11bd"
        },
        {
         "hovertemplate": "Edad=14<br>counts=%{r}<br>cultural_cluster=%{theta}<extra></extra>",
         "legendgroup": "Edad=14",
         "marker": {
          "color": "rgb(252,141,89)"
         },
         "name": "Edad=14",
         "r": [
          4,
          1,
          1,
          22
         ],
         "showlegend": true,
         "theta": [
          "cluster_1",
          "cluster_2",
          "cluster_3",
          "cluster_4"
         ],
         "type": "barpolar",
         "uid": "40cbe761-3558-471e-9093-b988fe6c480a"
        },
        {
         "hovertemplate": "Edad=15<br>counts=%{r}<br>cultural_cluster=%{theta}<extra></extra>",
         "legendgroup": "Edad=15",
         "marker": {
          "color": "rgb(254,224,139)"
         },
         "name": "Edad=15",
         "r": [
          7,
          2,
          9
         ],
         "showlegend": true,
         "theta": [
          "cluster_1",
          "cluster_3",
          "cluster_4"
         ],
         "type": "barpolar",
         "uid": "ce174c66-0165-410b-ab4a-fadc99ba2e02"
        },
        {
         "hovertemplate": "Edad=16<br>counts=%{r}<br>cultural_cluster=%{theta}<extra></extra>",
         "legendgroup": "Edad=16",
         "marker": {
          "color": "rgb(230,245,152)"
         },
         "name": "Edad=16",
         "r": [
          2,
          1,
          7
         ],
         "showlegend": true,
         "theta": [
          "cluster_1",
          "cluster_2",
          "cluster_4"
         ],
         "type": "barpolar",
         "uid": "6e0767c0-17cf-48a4-839f-2a78a7acc612"
        },
        {
         "hovertemplate": "Edad=17<br>counts=%{r}<br>cultural_cluster=%{theta}<extra></extra>",
         "legendgroup": "Edad=17",
         "marker": {
          "color": "rgb(153,213,148)"
         },
         "name": "Edad=17",
         "r": [
          4,
          1
         ],
         "showlegend": true,
         "theta": [
          "cluster_1",
          "cluster_2"
         ],
         "type": "barpolar",
         "uid": "b1b518de-5d87-458f-99ee-57d3679626ac"
        },
        {
         "hovertemplate": "Edad=18<br>counts=%{r}<br>cultural_cluster=%{theta}<extra></extra>",
         "legendgroup": "Edad=18",
         "marker": {
          "color": "rgb(50,136,189)"
         },
         "name": "Edad=18",
         "r": [
          4,
          1,
          6
         ],
         "showlegend": true,
         "theta": [
          "cluster_1",
          "cluster_2",
          "cluster_4"
         ],
         "type": "barpolar",
         "uid": "9c298cfc-d891-4cf7-adbd-e762d726e9cd"
        },
        {
         "hovertemplate": "Edad=19<br>counts=%{r}<br>cultural_cluster=%{theta}<extra></extra>",
         "legendgroup": "Edad=19",
         "marker": {
          "color": "rgb(213,62,79)"
         },
         "name": "Edad=19",
         "r": [
          6,
          5,
          1
         ],
         "showlegend": true,
         "theta": [
          "cluster_1",
          "cluster_2",
          "cluster_4"
         ],
         "type": "barpolar",
         "uid": "9ee12f85-6437-4974-abf0-602f28a9925e"
        },
        {
         "hovertemplate": "Edad=20<br>counts=%{r}<br>cultural_cluster=%{theta}<extra></extra>",
         "legendgroup": "Edad=20",
         "marker": {
          "color": "rgb(252,141,89)"
         },
         "name": "Edad=20",
         "r": [
          4,
          4,
          1,
          1,
          1
         ],
         "showlegend": true,
         "theta": [
          "cluster_1",
          "cluster_2",
          "cluster_3",
          "cluster_4",
          "cluster_5"
         ],
         "type": "barpolar",
         "uid": "0d13da42-9340-4b1c-9349-2c7deba2cb2d"
        },
        {
         "hovertemplate": "Edad=21<br>counts=%{r}<br>cultural_cluster=%{theta}<extra></extra>",
         "legendgroup": "Edad=21",
         "marker": {
          "color": "rgb(254,224,139)"
         },
         "name": "Edad=21",
         "r": [
          14,
          3,
          7
         ],
         "showlegend": true,
         "theta": [
          "cluster_1",
          "cluster_2",
          "cluster_4"
         ],
         "type": "barpolar",
         "uid": "f13352ac-04b3-497e-a096-a783ec40cac7"
        },
        {
         "hovertemplate": "Edad=22<br>counts=%{r}<br>cultural_cluster=%{theta}<extra></extra>",
         "legendgroup": "Edad=22",
         "marker": {
          "color": "rgb(230,245,152)"
         },
         "name": "Edad=22",
         "r": [
          6,
          4,
          3,
          3
         ],
         "showlegend": true,
         "theta": [
          "cluster_1",
          "cluster_2",
          "cluster_3",
          "cluster_4"
         ],
         "type": "barpolar",
         "uid": "cc7d2ea4-b335-4d21-92be-554c2b3c978e"
        },
        {
         "hovertemplate": "Edad=23<br>counts=%{r}<br>cultural_cluster=%{theta}<extra></extra>",
         "legendgroup": "Edad=23",
         "marker": {
          "color": "rgb(153,213,148)"
         },
         "name": "Edad=23",
         "r": [
          11,
          5,
          4
         ],
         "showlegend": true,
         "theta": [
          "cluster_1",
          "cluster_2",
          "cluster_4"
         ],
         "type": "barpolar",
         "uid": "f32a82b6-e133-47c0-b568-069a09398a9c"
        },
        {
         "hovertemplate": "Edad=24<br>counts=%{r}<br>cultural_cluster=%{theta}<extra></extra>",
         "legendgroup": "Edad=24",
         "marker": {
          "color": "rgb(50,136,189)"
         },
         "name": "Edad=24",
         "r": [
          6,
          24,
          1,
          8
         ],
         "showlegend": true,
         "theta": [
          "cluster_1",
          "cluster_2",
          "cluster_3",
          "cluster_4"
         ],
         "type": "barpolar",
         "uid": "9e15dbaf-2c6f-4f87-acaa-b5d1b88f0e40"
        },
        {
         "hovertemplate": "Edad=25<br>counts=%{r}<br>cultural_cluster=%{theta}<extra></extra>",
         "legendgroup": "Edad=25",
         "marker": {
          "color": "rgb(213,62,79)"
         },
         "name": "Edad=25",
         "r": [
          10,
          3,
          1,
          7
         ],
         "showlegend": true,
         "theta": [
          "cluster_1",
          "cluster_2",
          "cluster_3",
          "cluster_4"
         ],
         "type": "barpolar",
         "uid": "3a9d92b6-697f-4156-80ea-3ab1af7f91cf"
        },
        {
         "hovertemplate": "Edad=26<br>counts=%{r}<br>cultural_cluster=%{theta}<extra></extra>",
         "legendgroup": "Edad=26",
         "marker": {
          "color": "rgb(252,141,89)"
         },
         "name": "Edad=26",
         "r": [
          7,
          10,
          2,
          12
         ],
         "showlegend": true,
         "theta": [
          "cluster_1",
          "cluster_2",
          "cluster_3",
          "cluster_4"
         ],
         "type": "barpolar",
         "uid": "07f3430a-8fd3-49c5-9fca-bcd19e2cdb76"
        },
        {
         "hovertemplate": "Edad=27<br>counts=%{r}<br>cultural_cluster=%{theta}<extra></extra>",
         "legendgroup": "Edad=27",
         "marker": {
          "color": "rgb(254,224,139)"
         },
         "name": "Edad=27",
         "r": [
          10,
          15,
          1,
          12
         ],
         "showlegend": true,
         "theta": [
          "cluster_1",
          "cluster_2",
          "cluster_3",
          "cluster_4"
         ],
         "type": "barpolar",
         "uid": "266ad38f-9750-47b6-a685-10e0edeafad4"
        },
        {
         "hovertemplate": "Edad=28<br>counts=%{r}<br>cultural_cluster=%{theta}<extra></extra>",
         "legendgroup": "Edad=28",
         "marker": {
          "color": "rgb(230,245,152)"
         },
         "name": "Edad=28",
         "r": [
          11,
          16,
          4,
          8
         ],
         "showlegend": true,
         "theta": [
          "cluster_1",
          "cluster_2",
          "cluster_3",
          "cluster_4"
         ],
         "type": "barpolar",
         "uid": "f3a5abcd-beb8-4554-9997-91b3a33a0b84"
        },
        {
         "hovertemplate": "Edad=29<br>counts=%{r}<br>cultural_cluster=%{theta}<extra></extra>",
         "legendgroup": "Edad=29",
         "marker": {
          "color": "rgb(153,213,148)"
         },
         "name": "Edad=29",
         "r": [
          9,
          12,
          2,
          9
         ],
         "showlegend": true,
         "theta": [
          "cluster_1",
          "cluster_2",
          "cluster_3",
          "cluster_4"
         ],
         "type": "barpolar",
         "uid": "254e2bce-174b-4997-b5b8-a534f5d71d82"
        },
        {
         "hovertemplate": "Edad=30<br>counts=%{r}<br>cultural_cluster=%{theta}<extra></extra>",
         "legendgroup": "Edad=30",
         "marker": {
          "color": "rgb(50,136,189)"
         },
         "name": "Edad=30",
         "r": [
          12,
          15,
          11
         ],
         "showlegend": true,
         "theta": [
          "cluster_1",
          "cluster_2",
          "cluster_4"
         ],
         "type": "barpolar",
         "uid": "cae3b69c-ec7a-4636-a120-bd34e4db0853"
        },
        {
         "hovertemplate": "Edad=31<br>counts=%{r}<br>cultural_cluster=%{theta}<extra></extra>",
         "legendgroup": "Edad=31",
         "marker": {
          "color": "rgb(213,62,79)"
         },
         "name": "Edad=31",
         "r": [
          7,
          12,
          5
         ],
         "showlegend": true,
         "theta": [
          "cluster_1",
          "cluster_2",
          "cluster_4"
         ],
         "type": "barpolar",
         "uid": "2dc48f83-13da-4089-932b-c61a04104be2"
        },
        {
         "hovertemplate": "Edad=32<br>counts=%{r}<br>cultural_cluster=%{theta}<extra></extra>",
         "legendgroup": "Edad=32",
         "marker": {
          "color": "rgb(252,141,89)"
         },
         "name": "Edad=32",
         "r": [
          6,
          9,
          1,
          8
         ],
         "showlegend": true,
         "theta": [
          "cluster_1",
          "cluster_2",
          "cluster_3",
          "cluster_4"
         ],
         "type": "barpolar",
         "uid": "3dec7522-8a56-4cca-b70e-7eb37cfbd174"
        },
        {
         "hovertemplate": "Edad=33<br>counts=%{r}<br>cultural_cluster=%{theta}<extra></extra>",
         "legendgroup": "Edad=33",
         "marker": {
          "color": "rgb(254,224,139)"
         },
         "name": "Edad=33",
         "r": [
          8,
          8,
          8
         ],
         "showlegend": true,
         "theta": [
          "cluster_1",
          "cluster_2",
          "cluster_4"
         ],
         "type": "barpolar",
         "uid": "d64bc8d8-720d-4140-8118-ee78195a9324"
        },
        {
         "hovertemplate": "Edad=34<br>counts=%{r}<br>cultural_cluster=%{theta}<extra></extra>",
         "legendgroup": "Edad=34",
         "marker": {
          "color": "rgb(230,245,152)"
         },
         "name": "Edad=34",
         "r": [
          5,
          15,
          6
         ],
         "showlegend": true,
         "theta": [
          "cluster_1",
          "cluster_2",
          "cluster_4"
         ],
         "type": "barpolar",
         "uid": "d998285f-5ff3-4d5c-bc96-665847f23d96"
        },
        {
         "hovertemplate": "Edad=35<br>counts=%{r}<br>cultural_cluster=%{theta}<extra></extra>",
         "legendgroup": "Edad=35",
         "marker": {
          "color": "rgb(153,213,148)"
         },
         "name": "Edad=35",
         "r": [
          12,
          7,
          9
         ],
         "showlegend": true,
         "theta": [
          "cluster_1",
          "cluster_2",
          "cluster_4"
         ],
         "type": "barpolar",
         "uid": "0736e1f5-53fe-4c05-91f2-cc585e1a1859"
        },
        {
         "hovertemplate": "Edad=36<br>counts=%{r}<br>cultural_cluster=%{theta}<extra></extra>",
         "legendgroup": "Edad=36",
         "marker": {
          "color": "rgb(50,136,189)"
         },
         "name": "Edad=36",
         "r": [
          7,
          8,
          1,
          1
         ],
         "showlegend": true,
         "theta": [
          "cluster_1",
          "cluster_2",
          "cluster_3",
          "cluster_4"
         ],
         "type": "barpolar",
         "uid": "1ea29ebe-904a-42a8-bcda-31f5ad1cc2f8"
        },
        {
         "hovertemplate": "Edad=37<br>counts=%{r}<br>cultural_cluster=%{theta}<extra></extra>",
         "legendgroup": "Edad=37",
         "marker": {
          "color": "rgb(213,62,79)"
         },
         "name": "Edad=37",
         "r": [
          5,
          12,
          1
         ],
         "showlegend": true,
         "theta": [
          "cluster_1",
          "cluster_2",
          "cluster_4"
         ],
         "type": "barpolar",
         "uid": "9aa4c5b1-85b7-485b-9a5a-1a20761043ee"
        },
        {
         "hovertemplate": "Edad=38<br>counts=%{r}<br>cultural_cluster=%{theta}<extra></extra>",
         "legendgroup": "Edad=38",
         "marker": {
          "color": "rgb(252,141,89)"
         },
         "name": "Edad=38",
         "r": [
          5,
          9,
          5
         ],
         "showlegend": true,
         "theta": [
          "cluster_1",
          "cluster_2",
          "cluster_4"
         ],
         "type": "barpolar",
         "uid": "fd522a6b-4507-4711-8281-1e0c066ab2d5"
        },
        {
         "hovertemplate": "Edad=39<br>counts=%{r}<br>cultural_cluster=%{theta}<extra></extra>",
         "legendgroup": "Edad=39",
         "marker": {
          "color": "rgb(254,224,139)"
         },
         "name": "Edad=39",
         "r": [
          6,
          5,
          1,
          3
         ],
         "showlegend": true,
         "theta": [
          "cluster_1",
          "cluster_2",
          "cluster_3",
          "cluster_4"
         ],
         "type": "barpolar",
         "uid": "ee6dfd2b-e0aa-4d86-b762-d9903ecd4075"
        },
        {
         "hovertemplate": "Edad=40<br>counts=%{r}<br>cultural_cluster=%{theta}<extra></extra>",
         "legendgroup": "Edad=40",
         "marker": {
          "color": "rgb(230,245,152)"
         },
         "name": "Edad=40",
         "r": [
          5,
          1,
          3
         ],
         "showlegend": true,
         "theta": [
          "cluster_2",
          "cluster_3",
          "cluster_4"
         ],
         "type": "barpolar",
         "uid": "7e8a5d3d-8bca-4cb4-81fa-62651c18548f"
        },
        {
         "hovertemplate": "Edad=41<br>counts=%{r}<br>cultural_cluster=%{theta}<extra></extra>",
         "legendgroup": "Edad=41",
         "marker": {
          "color": "rgb(153,213,148)"
         },
         "name": "Edad=41",
         "r": [
          2,
          6,
          1
         ],
         "showlegend": true,
         "theta": [
          "cluster_1",
          "cluster_2",
          "cluster_4"
         ],
         "type": "barpolar",
         "uid": "01be11cd-2527-445f-921b-d54abc1b866d"
        },
        {
         "hovertemplate": "Edad=42<br>counts=%{r}<br>cultural_cluster=%{theta}<extra></extra>",
         "legendgroup": "Edad=42",
         "marker": {
          "color": "rgb(50,136,189)"
         },
         "name": "Edad=42",
         "r": [
          3,
          5,
          4
         ],
         "showlegend": true,
         "theta": [
          "cluster_1",
          "cluster_2",
          "cluster_4"
         ],
         "type": "barpolar",
         "uid": "d228a1a6-fc9e-4f11-9c15-eb1f0d4d53ee"
        },
        {
         "hovertemplate": "Edad=43<br>counts=%{r}<br>cultural_cluster=%{theta}<extra></extra>",
         "legendgroup": "Edad=43",
         "marker": {
          "color": "rgb(213,62,79)"
         },
         "name": "Edad=43",
         "r": [
          4,
          5,
          3
         ],
         "showlegend": true,
         "theta": [
          "cluster_1",
          "cluster_2",
          "cluster_4"
         ],
         "type": "barpolar",
         "uid": "09ea1cb1-d007-43f1-97cf-b784247961f9"
        },
        {
         "hovertemplate": "Edad=44<br>counts=%{r}<br>cultural_cluster=%{theta}<extra></extra>",
         "legendgroup": "Edad=44",
         "marker": {
          "color": "rgb(252,141,89)"
         },
         "name": "Edad=44",
         "r": [
          1,
          4,
          3
         ],
         "showlegend": true,
         "theta": [
          "cluster_1",
          "cluster_2",
          "cluster_4"
         ],
         "type": "barpolar",
         "uid": "033fc6da-7c2c-4c3a-9d9d-28b97c7b790c"
        },
        {
         "hovertemplate": "Edad=45<br>counts=%{r}<br>cultural_cluster=%{theta}<extra></extra>",
         "legendgroup": "Edad=45",
         "marker": {
          "color": "rgb(254,224,139)"
         },
         "name": "Edad=45",
         "r": [
          2,
          5,
          1
         ],
         "showlegend": true,
         "theta": [
          "cluster_1",
          "cluster_2",
          "cluster_3"
         ],
         "type": "barpolar",
         "uid": "ff7e08c9-0adb-44b1-8e93-2eba23f9358b"
        },
        {
         "hovertemplate": "Edad=46<br>counts=%{r}<br>cultural_cluster=%{theta}<extra></extra>",
         "legendgroup": "Edad=46",
         "marker": {
          "color": "rgb(230,245,152)"
         },
         "name": "Edad=46",
         "r": [
          4,
          8,
          3
         ],
         "showlegend": true,
         "theta": [
          "cluster_1",
          "cluster_2",
          "cluster_4"
         ],
         "type": "barpolar",
         "uid": "422b003b-fba4-4003-835c-915707c0f4e4"
        },
        {
         "hovertemplate": "Edad=47<br>counts=%{r}<br>cultural_cluster=%{theta}<extra></extra>",
         "legendgroup": "Edad=47",
         "marker": {
          "color": "rgb(153,213,148)"
         },
         "name": "Edad=47",
         "r": [
          3,
          4,
          2
         ],
         "showlegend": true,
         "theta": [
          "cluster_1",
          "cluster_2",
          "cluster_4"
         ],
         "type": "barpolar",
         "uid": "3130e349-dbe7-465e-9268-c9c93f16b924"
        },
        {
         "hovertemplate": "Edad=48<br>counts=%{r}<br>cultural_cluster=%{theta}<extra></extra>",
         "legendgroup": "Edad=48",
         "marker": {
          "color": "rgb(50,136,189)"
         },
         "name": "Edad=48",
         "r": [
          3,
          1,
          1
         ],
         "showlegend": true,
         "theta": [
          "cluster_2",
          "cluster_3",
          "cluster_4"
         ],
         "type": "barpolar",
         "uid": "43329040-ce72-4618-b4aa-aa450bbfec20"
        },
        {
         "hovertemplate": "Edad=49<br>counts=%{r}<br>cultural_cluster=%{theta}<extra></extra>",
         "legendgroup": "Edad=49",
         "marker": {
          "color": "rgb(213,62,79)"
         },
         "name": "Edad=49",
         "r": [
          2,
          1,
          1
         ],
         "showlegend": true,
         "theta": [
          "cluster_1",
          "cluster_2",
          "cluster_4"
         ],
         "type": "barpolar",
         "uid": "a357a6fc-faf0-4a00-8837-acea41cd9afa"
        },
        {
         "hovertemplate": "Edad=50<br>counts=%{r}<br>cultural_cluster=%{theta}<extra></extra>",
         "legendgroup": "Edad=50",
         "marker": {
          "color": "rgb(252,141,89)"
         },
         "name": "Edad=50",
         "r": [
          4,
          2
         ],
         "showlegend": true,
         "theta": [
          "cluster_1",
          "cluster_4"
         ],
         "type": "barpolar",
         "uid": "2eb74550-ec41-45ca-9ec0-ad9ef2cc4acd"
        },
        {
         "hovertemplate": "Edad=51<br>counts=%{r}<br>cultural_cluster=%{theta}<extra></extra>",
         "legendgroup": "Edad=51",
         "marker": {
          "color": "rgb(254,224,139)"
         },
         "name": "Edad=51",
         "r": [
          1,
          4,
          1
         ],
         "showlegend": true,
         "theta": [
          "cluster_1",
          "cluster_2",
          "cluster_4"
         ],
         "type": "barpolar",
         "uid": "a94bd8f4-fec7-4e3c-a662-be1ebb93a985"
        },
        {
         "hovertemplate": "Edad=52<br>counts=%{r}<br>cultural_cluster=%{theta}<extra></extra>",
         "legendgroup": "Edad=52",
         "marker": {
          "color": "rgb(230,245,152)"
         },
         "name": "Edad=52",
         "r": [
          1,
          1
         ],
         "showlegend": true,
         "theta": [
          "cluster_1",
          "cluster_4"
         ],
         "type": "barpolar",
         "uid": "4bc63b82-ce3c-4e36-8e5b-6610ebcae416"
        },
        {
         "hovertemplate": "Edad=53<br>counts=%{r}<br>cultural_cluster=%{theta}<extra></extra>",
         "legendgroup": "Edad=53",
         "marker": {
          "color": "rgb(153,213,148)"
         },
         "name": "Edad=53",
         "r": [
          2,
          6
         ],
         "showlegend": true,
         "theta": [
          "cluster_1",
          "cluster_2"
         ],
         "type": "barpolar",
         "uid": "8a027de9-f04d-45b7-ac7d-9d2b6dcfe3bf"
        },
        {
         "hovertemplate": "Edad=54<br>counts=%{r}<br>cultural_cluster=%{theta}<extra></extra>",
         "legendgroup": "Edad=54",
         "marker": {
          "color": "rgb(50,136,189)"
         },
         "name": "Edad=54",
         "r": [
          3,
          1
         ],
         "showlegend": true,
         "theta": [
          "cluster_2",
          "cluster_3"
         ],
         "type": "barpolar",
         "uid": "595ba46e-a0f6-4c1e-bc39-c228ea91321b"
        },
        {
         "hovertemplate": "Edad=55<br>counts=%{r}<br>cultural_cluster=%{theta}<extra></extra>",
         "legendgroup": "Edad=55",
         "marker": {
          "color": "rgb(213,62,79)"
         },
         "name": "Edad=55",
         "r": [
          4,
          3
         ],
         "showlegend": true,
         "theta": [
          "cluster_2",
          "cluster_4"
         ],
         "type": "barpolar",
         "uid": "329c2d78-0074-4e59-a110-fa2f6de1bf57"
        },
        {
         "hovertemplate": "Edad=56<br>counts=%{r}<br>cultural_cluster=%{theta}<extra></extra>",
         "legendgroup": "Edad=56",
         "marker": {
          "color": "rgb(252,141,89)"
         },
         "name": "Edad=56",
         "r": [
          1,
          2,
          2
         ],
         "showlegend": true,
         "theta": [
          "cluster_1",
          "cluster_2",
          "cluster_4"
         ],
         "type": "barpolar",
         "uid": "423b48e9-0fed-4c88-a5c3-32fe77cc413c"
        },
        {
         "hovertemplate": "Edad=57<br>counts=%{r}<br>cultural_cluster=%{theta}<extra></extra>",
         "legendgroup": "Edad=57",
         "marker": {
          "color": "rgb(254,224,139)"
         },
         "name": "Edad=57",
         "r": [
          4,
          2
         ],
         "showlegend": true,
         "theta": [
          "cluster_2",
          "cluster_4"
         ],
         "type": "barpolar",
         "uid": "c130f859-4514-4975-85b5-1410b394241a"
        },
        {
         "hovertemplate": "Edad=58<br>counts=%{r}<br>cultural_cluster=%{theta}<extra></extra>",
         "legendgroup": "Edad=58",
         "marker": {
          "color": "rgb(230,245,152)"
         },
         "name": "Edad=58",
         "r": [
          1
         ],
         "showlegend": true,
         "theta": [
          "cluster_2"
         ],
         "type": "barpolar",
         "uid": "49a76a20-825a-4a8d-aad4-1b4594834d6f"
        },
        {
         "hovertemplate": "Edad=59<br>counts=%{r}<br>cultural_cluster=%{theta}<extra></extra>",
         "legendgroup": "Edad=59",
         "marker": {
          "color": "rgb(153,213,148)"
         },
         "name": "Edad=59",
         "r": [
          2
         ],
         "showlegend": true,
         "theta": [
          "cluster_2"
         ],
         "type": "barpolar",
         "uid": "1e4e71f9-fa7c-4760-b08f-2da2d5ecbd4f"
        },
        {
         "hovertemplate": "Edad=60<br>counts=%{r}<br>cultural_cluster=%{theta}<extra></extra>",
         "legendgroup": "Edad=60",
         "marker": {
          "color": "rgb(50,136,189)"
         },
         "name": "Edad=60",
         "r": [
          3,
          1,
          1
         ],
         "showlegend": true,
         "theta": [
          "cluster_2",
          "cluster_3",
          "cluster_4"
         ],
         "type": "barpolar",
         "uid": "dfc60174-2dc1-4ac7-8a0e-ce4f7e5534ea"
        },
        {
         "hovertemplate": "Edad=61<br>counts=%{r}<br>cultural_cluster=%{theta}<extra></extra>",
         "legendgroup": "Edad=61",
         "marker": {
          "color": "rgb(213,62,79)"
         },
         "name": "Edad=61",
         "r": [
          3
         ],
         "showlegend": true,
         "theta": [
          "cluster_2"
         ],
         "type": "barpolar",
         "uid": "0f9076e7-9ff2-4335-b52e-58f325328b3b"
        },
        {
         "hovertemplate": "Edad=62<br>counts=%{r}<br>cultural_cluster=%{theta}<extra></extra>",
         "legendgroup": "Edad=62",
         "marker": {
          "color": "rgb(252,141,89)"
         },
         "name": "Edad=62",
         "r": [
          5,
          2
         ],
         "showlegend": true,
         "theta": [
          "cluster_2",
          "cluster_4"
         ],
         "type": "barpolar",
         "uid": "1b9eb19b-6036-4bf5-9a04-54b0d4b97f0e"
        },
        {
         "hovertemplate": "Edad=63<br>counts=%{r}<br>cultural_cluster=%{theta}<extra></extra>",
         "legendgroup": "Edad=63",
         "marker": {
          "color": "rgb(254,224,139)"
         },
         "name": "Edad=63",
         "r": [
          1
         ],
         "showlegend": true,
         "theta": [
          "cluster_4"
         ],
         "type": "barpolar",
         "uid": "3fe1bac4-66e1-40df-9c27-427cb1c7359d"
        },
        {
         "hovertemplate": "Edad=64<br>counts=%{r}<br>cultural_cluster=%{theta}<extra></extra>",
         "legendgroup": "Edad=64",
         "marker": {
          "color": "rgb(230,245,152)"
         },
         "name": "Edad=64",
         "r": [
          3
         ],
         "showlegend": true,
         "theta": [
          "cluster_1"
         ],
         "type": "barpolar",
         "uid": "64dbe4b9-055e-4289-a04e-57b6875f19c2"
        },
        {
         "hovertemplate": "Edad=65<br>counts=%{r}<br>cultural_cluster=%{theta}<extra></extra>",
         "legendgroup": "Edad=65",
         "marker": {
          "color": "rgb(153,213,148)"
         },
         "name": "Edad=65",
         "r": [
          1,
          1
         ],
         "showlegend": true,
         "theta": [
          "cluster_1",
          "cluster_2"
         ],
         "type": "barpolar",
         "uid": "e8be0bcd-ca8a-41c6-a63d-d2708b9c4aa2"
        },
        {
         "hovertemplate": "Edad=66<br>counts=%{r}<br>cultural_cluster=%{theta}<extra></extra>",
         "legendgroup": "Edad=66",
         "marker": {
          "color": "rgb(50,136,189)"
         },
         "name": "Edad=66",
         "r": [
          1,
          1
         ],
         "showlegend": true,
         "theta": [
          "cluster_2",
          "cluster_4"
         ],
         "type": "barpolar",
         "uid": "34b5f2aa-50aa-4e65-83c3-4525ad0a6dea"
        },
        {
         "hovertemplate": "Edad=67<br>counts=%{r}<br>cultural_cluster=%{theta}<extra></extra>",
         "legendgroup": "Edad=67",
         "marker": {
          "color": "rgb(213,62,79)"
         },
         "name": "Edad=67",
         "r": [
          3,
          1
         ],
         "showlegend": true,
         "theta": [
          "cluster_2",
          "cluster_4"
         ],
         "type": "barpolar",
         "uid": "f9b0b1ee-9902-4a4c-9a0f-526917066bd2"
        },
        {
         "hovertemplate": "Edad=68<br>counts=%{r}<br>cultural_cluster=%{theta}<extra></extra>",
         "legendgroup": "Edad=68",
         "marker": {
          "color": "rgb(252,141,89)"
         },
         "name": "Edad=68",
         "r": [
          1
         ],
         "showlegend": true,
         "theta": [
          "cluster_2"
         ],
         "type": "barpolar",
         "uid": "a38e1359-3852-4a0a-9cdd-d0aa2dcef43d"
        },
        {
         "hovertemplate": "Edad=69<br>counts=%{r}<br>cultural_cluster=%{theta}<extra></extra>",
         "legendgroup": "Edad=69",
         "marker": {
          "color": "rgb(254,224,139)"
         },
         "name": "Edad=69",
         "r": [
          1,
          1
         ],
         "showlegend": true,
         "theta": [
          "cluster_2",
          "cluster_4"
         ],
         "type": "barpolar",
         "uid": "26b6e06e-b670-4299-b5d9-80897af01124"
        },
        {
         "hovertemplate": "Edad=70<br>counts=%{r}<br>cultural_cluster=%{theta}<extra></extra>",
         "legendgroup": "Edad=70",
         "marker": {
          "color": "rgb(230,245,152)"
         },
         "name": "Edad=70",
         "r": [
          1
         ],
         "showlegend": true,
         "theta": [
          "cluster_2"
         ],
         "type": "barpolar",
         "uid": "e853df29-db0a-41fc-87bd-1f9a15bc703f"
        },
        {
         "hovertemplate": "Edad=71<br>counts=%{r}<br>cultural_cluster=%{theta}<extra></extra>",
         "legendgroup": "Edad=71",
         "marker": {
          "color": "rgb(153,213,148)"
         },
         "name": "Edad=71",
         "r": [
          1
         ],
         "showlegend": true,
         "theta": [
          "cluster_3"
         ],
         "type": "barpolar",
         "uid": "2a1dd7fe-b610-40b5-876f-6106bc4eb3c3"
        },
        {
         "hovertemplate": "Edad=73<br>counts=%{r}<br>cultural_cluster=%{theta}<extra></extra>",
         "legendgroup": "Edad=73",
         "marker": {
          "color": "rgb(50,136,189)"
         },
         "name": "Edad=73",
         "r": [
          1
         ],
         "showlegend": true,
         "theta": [
          "cluster_2"
         ],
         "type": "barpolar",
         "uid": "de95f44e-2424-493e-a6a1-70a282bcf748"
        },
        {
         "hovertemplate": "Edad=78<br>counts=%{r}<br>cultural_cluster=%{theta}<extra></extra>",
         "legendgroup": "Edad=78",
         "marker": {
          "color": "rgb(213,62,79)"
         },
         "name": "Edad=78",
         "r": [
          1
         ],
         "showlegend": true,
         "theta": [
          "cluster_2"
         ],
         "type": "barpolar",
         "uid": "abf8d716-9d79-4b11-a7ef-19183c7e1ffe"
        },
        {
         "hovertemplate": "Edad=81<br>counts=%{r}<br>cultural_cluster=%{theta}<extra></extra>",
         "legendgroup": "Edad=81",
         "marker": {
          "color": "rgb(252,141,89)"
         },
         "name": "Edad=81",
         "r": [
          2
         ],
         "showlegend": true,
         "theta": [
          "cluster_2"
         ],
         "type": "barpolar",
         "uid": "3a218766-be41-4287-975e-d61d097a6272"
        }
       ],
       "layout": {
        "barmode": "group",
        "barnorm": "",
        "height": 600,
        "legend": {
         "tracegroupgap": 0
        },
        "margin": {
         "t": 60
        },
        "polar": {
         "angularaxis": {
          "direction": "clockwise",
          "rotation": 90
         }
        },
        "template": {
         "data": {
          "bar": [
           {
            "marker": {
             "line": {
              "color": "#E5ECF6",
              "width": 0.5
             }
            },
            "type": "bar"
           }
          ],
          "barpolar": [
           {
            "marker": {
             "line": {
              "color": "#E5ECF6",
              "width": 0.5
             }
            },
            "type": "barpolar"
           }
          ],
          "carpet": [
           {
            "aaxis": {
             "endlinecolor": "#2a3f5f",
             "gridcolor": "white",
             "linecolor": "white",
             "minorgridcolor": "white",
             "startlinecolor": "#2a3f5f"
            },
            "baxis": {
             "endlinecolor": "#2a3f5f",
             "gridcolor": "white",
             "linecolor": "white",
             "minorgridcolor": "white",
             "startlinecolor": "#2a3f5f"
            },
            "type": "carpet"
           }
          ],
          "choropleth": [
           {
            "colorbar": {
             "outlinewidth": 0,
             "ticks": ""
            },
            "type": "choropleth"
           }
          ],
          "contour": [
           {
            "autocolorscale": true,
            "colorbar": {
             "outlinewidth": 0,
             "ticks": ""
            },
            "type": "contour"
           }
          ],
          "contourcarpet": [
           {
            "colorbar": {
             "outlinewidth": 0,
             "ticks": ""
            },
            "type": "contourcarpet"
           }
          ],
          "heatmap": [
           {
            "autocolorscale": true,
            "colorbar": {
             "outlinewidth": 0,
             "ticks": ""
            },
            "type": "heatmap"
           }
          ],
          "heatmapgl": [
           {
            "colorbar": {
             "outlinewidth": 0,
             "ticks": ""
            },
            "type": "heatmapgl"
           }
          ],
          "histogram": [
           {
            "marker": {
             "colorbar": {
              "outlinewidth": 0,
              "ticks": ""
             }
            },
            "type": "histogram"
           }
          ],
          "histogram2d": [
           {
            "autocolorscale": true,
            "colorbar": {
             "outlinewidth": 0,
             "ticks": ""
            },
            "type": "histogram2d"
           }
          ],
          "histogram2dcontour": [
           {
            "autocolorscale": true,
            "colorbar": {
             "outlinewidth": 0,
             "ticks": ""
            },
            "type": "histogram2dcontour"
           }
          ],
          "mesh3d": [
           {
            "colorbar": {
             "outlinewidth": 0,
             "ticks": ""
            },
            "type": "mesh3d"
           }
          ],
          "parcoords": [
           {
            "line": {
             "colorbar": {
              "outlinewidth": 0,
              "ticks": ""
             }
            },
            "type": "parcoords"
           }
          ],
          "scatter": [
           {
            "marker": {
             "colorbar": {
              "outlinewidth": 0,
              "ticks": ""
             }
            },
            "type": "scatter"
           }
          ],
          "scatter3d": [
           {
            "marker": {
             "colorbar": {
              "outlinewidth": 0,
              "ticks": ""
             }
            },
            "type": "scatter3d"
           }
          ],
          "scattercarpet": [
           {
            "marker": {
             "colorbar": {
              "outlinewidth": 0,
              "ticks": ""
             }
            },
            "type": "scattercarpet"
           }
          ],
          "scattergeo": [
           {
            "marker": {
             "colorbar": {
              "outlinewidth": 0,
              "ticks": ""
             }
            },
            "type": "scattergeo"
           }
          ],
          "scattergl": [
           {
            "marker": {
             "colorbar": {
              "outlinewidth": 0,
              "ticks": ""
             }
            },
            "type": "scattergl"
           }
          ],
          "scattermapbox": [
           {
            "marker": {
             "colorbar": {
              "outlinewidth": 0,
              "ticks": ""
             }
            },
            "type": "scattermapbox"
           }
          ],
          "scatterpolar": [
           {
            "marker": {
             "colorbar": {
              "outlinewidth": 0,
              "ticks": ""
             }
            },
            "type": "scatterpolar"
           }
          ],
          "scatterpolargl": [
           {
            "marker": {
             "colorbar": {
              "outlinewidth": 0,
              "ticks": ""
             }
            },
            "type": "scatterpolargl"
           }
          ],
          "scatterternary": [
           {
            "marker": {
             "colorbar": {
              "outlinewidth": 0,
              "ticks": ""
             }
            },
            "type": "scatterternary"
           }
          ],
          "surface": [
           {
            "colorbar": {
             "outlinewidth": 0,
             "ticks": ""
            },
            "type": "surface"
           }
          ],
          "table": [
           {
            "cells": {
             "fill": {
              "color": "#EBF0F8"
             },
             "line": {
              "color": "white"
             }
            },
            "header": {
             "fill": {
              "color": "#C8D4E3"
             },
             "line": {
              "color": "white"
             }
            },
            "type": "table"
           }
          ]
         },
         "layout": {
          "annotationdefaults": {
           "arrowcolor": "#506784",
           "arrowhead": 0,
           "arrowwidth": 1
          },
          "colorscale": {
           "diverging": [
            [
             0,
             "#8e0152"
            ],
            [
             0.1,
             "#c51b7d"
            ],
            [
             0.2,
             "#de77ae"
            ],
            [
             0.3,
             "#f1b6da"
            ],
            [
             0.4,
             "#fde0ef"
            ],
            [
             0.5,
             "#f7f7f7"
            ],
            [
             0.6,
             "#e6f5d0"
            ],
            [
             0.7,
             "#b8e186"
            ],
            [
             0.8,
             "#7fbc41"
            ],
            [
             0.9,
             "#4d9221"
            ],
            [
             1,
             "#276419"
            ]
           ],
           "sequential": [
            [
             0,
             "#0508b8"
            ],
            [
             0.0893854748603352,
             "#1910d8"
            ],
            [
             0.1787709497206704,
             "#3c19f0"
            ],
            [
             0.2681564245810056,
             "#6b1cfb"
            ],
            [
             0.3575418994413408,
             "#981cfd"
            ],
            [
             0.44692737430167595,
             "#bf1cfd"
            ],
            [
             0.5363128491620112,
             "#dd2bfd"
            ],
            [
             0.6256983240223464,
             "#f246fe"
            ],
            [
             0.7150837988826816,
             "#fc67fd"
            ],
            [
             0.8044692737430168,
             "#fe88fc"
            ],
            [
             0.8938547486033519,
             "#fea5fd"
            ],
            [
             0.9832402234636871,
             "#febefe"
            ],
            [
             1,
             "#fec3fe"
            ]
           ],
           "sequentialminus": [
            [
             0,
             "#0508b8"
            ],
            [
             0.0893854748603352,
             "#1910d8"
            ],
            [
             0.1787709497206704,
             "#3c19f0"
            ],
            [
             0.2681564245810056,
             "#6b1cfb"
            ],
            [
             0.3575418994413408,
             "#981cfd"
            ],
            [
             0.44692737430167595,
             "#bf1cfd"
            ],
            [
             0.5363128491620112,
             "#dd2bfd"
            ],
            [
             0.6256983240223464,
             "#f246fe"
            ],
            [
             0.7150837988826816,
             "#fc67fd"
            ],
            [
             0.8044692737430168,
             "#fe88fc"
            ],
            [
             0.8938547486033519,
             "#fea5fd"
            ],
            [
             0.9832402234636871,
             "#febefe"
            ],
            [
             1,
             "#fec3fe"
            ]
           ]
          },
          "colorway": [
           "#636efa",
           "#EF553B",
           "#00cc96",
           "#ab63fa",
           "#19d3f3",
           "#e763fa",
           "#FECB52",
           "#FFA15A",
           "#FF6692",
           "#B6E880"
          ],
          "font": {
           "color": "#2a3f5f"
          },
          "geo": {
           "bgcolor": "white",
           "lakecolor": "white",
           "landcolor": "#E5ECF6",
           "showlakes": true,
           "showland": true,
           "subunitcolor": "white"
          },
          "hovermode": "closest",
          "mapbox": {
           "style": "light"
          },
          "paper_bgcolor": "white",
          "plot_bgcolor": "#E5ECF6",
          "polar": {
           "angularaxis": {
            "gridcolor": "white",
            "linecolor": "white",
            "ticks": ""
           },
           "bgcolor": "#E5ECF6",
           "radialaxis": {
            "gridcolor": "white",
            "linecolor": "white",
            "ticks": ""
           }
          },
          "scene": {
           "xaxis": {
            "backgroundcolor": "#E5ECF6",
            "gridcolor": "white",
            "gridwidth": 2,
            "linecolor": "white",
            "showbackground": true,
            "ticks": "",
            "zerolinecolor": "white"
           },
           "yaxis": {
            "backgroundcolor": "#E5ECF6",
            "gridcolor": "white",
            "gridwidth": 2,
            "linecolor": "white",
            "showbackground": true,
            "ticks": "",
            "zerolinecolor": "white"
           },
           "zaxis": {
            "backgroundcolor": "#E5ECF6",
            "gridcolor": "white",
            "gridwidth": 2,
            "linecolor": "white",
            "showbackground": true,
            "ticks": "",
            "zerolinecolor": "white"
           }
          },
          "shapedefaults": {
           "fillcolor": "#506784",
           "line": {
            "width": 0
           },
           "opacity": 0.4
          },
          "ternary": {
           "aaxis": {
            "gridcolor": "white",
            "linecolor": "white",
            "ticks": ""
           },
           "baxis": {
            "gridcolor": "white",
            "linecolor": "white",
            "ticks": ""
           },
           "bgcolor": "#E5ECF6",
           "caxis": {
            "gridcolor": "white",
            "linecolor": "white",
            "ticks": ""
           }
          },
          "title": {
           "x": 0.05
          },
          "xaxis": {
           "automargin": true,
           "gridcolor": "white",
           "linecolor": "white",
           "ticks": "",
           "zerolinecolor": "white",
           "zerolinewidth": 2
          },
          "yaxis": {
           "automargin": true,
           "gridcolor": "white",
           "linecolor": "white",
           "ticks": "",
           "zerolinecolor": "white",
           "zerolinewidth": 2
          }
         }
        }
       }
      },
      "text/html": [
       "<div id=\"b08073d0-5dad-4b7c-a11f-13705121ba2d\" style=\"height: 600px; width: 100%;\" class=\"plotly-graph-div\"></div><script type=\"text/javascript\">require([\"plotly\"], function(Plotly) { window.PLOTLYENV=window.PLOTLYENV || {};window.PLOTLYENV.BASE_URL=\"https://plot.ly\";\n",
       "if (document.getElementById(\"b08073d0-5dad-4b7c-a11f-13705121ba2d\")) {\n",
       "    Plotly.newPlot(\"b08073d0-5dad-4b7c-a11f-13705121ba2d\", [{\"hovertemplate\": \"Edad=13<br>counts=%{r}<br>cultural_cluster=%{theta}<extra></extra>\", \"legendgroup\": \"Edad=13\", \"marker\": {\"color\": \"rgb(213,62,79)\"}, \"name\": \"Edad=13\", \"r\": [1, 1, 3], \"showlegend\": true, \"theta\": [\"cluster_1\", \"cluster_2\", \"cluster_4\"], \"type\": \"barpolar\", \"uid\": \"a7ae9166-3384-41e2-b64e-0c22e14d11bd\"}, {\"hovertemplate\": \"Edad=14<br>counts=%{r}<br>cultural_cluster=%{theta}<extra></extra>\", \"legendgroup\": \"Edad=14\", \"marker\": {\"color\": \"rgb(252,141,89)\"}, \"name\": \"Edad=14\", \"r\": [4, 1, 1, 22], \"showlegend\": true, \"theta\": [\"cluster_1\", \"cluster_2\", \"cluster_3\", \"cluster_4\"], \"type\": \"barpolar\", \"uid\": \"40cbe761-3558-471e-9093-b988fe6c480a\"}, {\"hovertemplate\": \"Edad=15<br>counts=%{r}<br>cultural_cluster=%{theta}<extra></extra>\", \"legendgroup\": \"Edad=15\", \"marker\": {\"color\": \"rgb(254,224,139)\"}, \"name\": \"Edad=15\", \"r\": [7, 2, 9], \"showlegend\": true, \"theta\": [\"cluster_1\", \"cluster_3\", \"cluster_4\"], \"type\": \"barpolar\", \"uid\": \"ce174c66-0165-410b-ab4a-fadc99ba2e02\"}, {\"hovertemplate\": \"Edad=16<br>counts=%{r}<br>cultural_cluster=%{theta}<extra></extra>\", \"legendgroup\": \"Edad=16\", \"marker\": {\"color\": \"rgb(230,245,152)\"}, \"name\": \"Edad=16\", \"r\": [2, 1, 7], \"showlegend\": true, \"theta\": [\"cluster_1\", \"cluster_2\", \"cluster_4\"], \"type\": \"barpolar\", \"uid\": \"6e0767c0-17cf-48a4-839f-2a78a7acc612\"}, {\"hovertemplate\": \"Edad=17<br>counts=%{r}<br>cultural_cluster=%{theta}<extra></extra>\", \"legendgroup\": \"Edad=17\", \"marker\": {\"color\": \"rgb(153,213,148)\"}, \"name\": \"Edad=17\", \"r\": [4, 1], \"showlegend\": true, \"theta\": [\"cluster_1\", \"cluster_2\"], \"type\": \"barpolar\", \"uid\": \"b1b518de-5d87-458f-99ee-57d3679626ac\"}, {\"hovertemplate\": \"Edad=18<br>counts=%{r}<br>cultural_cluster=%{theta}<extra></extra>\", \"legendgroup\": \"Edad=18\", \"marker\": {\"color\": \"rgb(50,136,189)\"}, \"name\": \"Edad=18\", \"r\": [4, 1, 6], \"showlegend\": true, \"theta\": [\"cluster_1\", \"cluster_2\", \"cluster_4\"], \"type\": \"barpolar\", \"uid\": \"9c298cfc-d891-4cf7-adbd-e762d726e9cd\"}, {\"hovertemplate\": \"Edad=19<br>counts=%{r}<br>cultural_cluster=%{theta}<extra></extra>\", \"legendgroup\": \"Edad=19\", \"marker\": {\"color\": \"rgb(213,62,79)\"}, \"name\": \"Edad=19\", \"r\": [6, 5, 1], \"showlegend\": true, \"theta\": [\"cluster_1\", \"cluster_2\", \"cluster_4\"], \"type\": \"barpolar\", \"uid\": \"9ee12f85-6437-4974-abf0-602f28a9925e\"}, {\"hovertemplate\": \"Edad=20<br>counts=%{r}<br>cultural_cluster=%{theta}<extra></extra>\", \"legendgroup\": \"Edad=20\", \"marker\": {\"color\": \"rgb(252,141,89)\"}, \"name\": \"Edad=20\", \"r\": [4, 4, 1, 1, 1], \"showlegend\": true, \"theta\": [\"cluster_1\", \"cluster_2\", \"cluster_3\", \"cluster_4\", \"cluster_5\"], \"type\": \"barpolar\", \"uid\": \"0d13da42-9340-4b1c-9349-2c7deba2cb2d\"}, {\"hovertemplate\": \"Edad=21<br>counts=%{r}<br>cultural_cluster=%{theta}<extra></extra>\", \"legendgroup\": \"Edad=21\", \"marker\": {\"color\": \"rgb(254,224,139)\"}, \"name\": \"Edad=21\", \"r\": [14, 3, 7], \"showlegend\": true, \"theta\": [\"cluster_1\", \"cluster_2\", \"cluster_4\"], \"type\": \"barpolar\", \"uid\": \"f13352ac-04b3-497e-a096-a783ec40cac7\"}, {\"hovertemplate\": \"Edad=22<br>counts=%{r}<br>cultural_cluster=%{theta}<extra></extra>\", \"legendgroup\": \"Edad=22\", \"marker\": {\"color\": \"rgb(230,245,152)\"}, \"name\": \"Edad=22\", \"r\": [6, 4, 3, 3], \"showlegend\": true, \"theta\": [\"cluster_1\", \"cluster_2\", \"cluster_3\", \"cluster_4\"], \"type\": \"barpolar\", \"uid\": \"cc7d2ea4-b335-4d21-92be-554c2b3c978e\"}, {\"hovertemplate\": \"Edad=23<br>counts=%{r}<br>cultural_cluster=%{theta}<extra></extra>\", \"legendgroup\": \"Edad=23\", \"marker\": {\"color\": \"rgb(153,213,148)\"}, \"name\": \"Edad=23\", \"r\": [11, 5, 4], \"showlegend\": true, \"theta\": [\"cluster_1\", \"cluster_2\", \"cluster_4\"], \"type\": \"barpolar\", \"uid\": \"f32a82b6-e133-47c0-b568-069a09398a9c\"}, {\"hovertemplate\": \"Edad=24<br>counts=%{r}<br>cultural_cluster=%{theta}<extra></extra>\", \"legendgroup\": \"Edad=24\", \"marker\": {\"color\": \"rgb(50,136,189)\"}, \"name\": \"Edad=24\", \"r\": [6, 24, 1, 8], \"showlegend\": true, \"theta\": [\"cluster_1\", \"cluster_2\", \"cluster_3\", \"cluster_4\"], \"type\": \"barpolar\", \"uid\": \"9e15dbaf-2c6f-4f87-acaa-b5d1b88f0e40\"}, {\"hovertemplate\": \"Edad=25<br>counts=%{r}<br>cultural_cluster=%{theta}<extra></extra>\", \"legendgroup\": \"Edad=25\", \"marker\": {\"color\": \"rgb(213,62,79)\"}, \"name\": \"Edad=25\", \"r\": [10, 3, 1, 7], \"showlegend\": true, \"theta\": [\"cluster_1\", \"cluster_2\", \"cluster_3\", \"cluster_4\"], \"type\": \"barpolar\", \"uid\": \"3a9d92b6-697f-4156-80ea-3ab1af7f91cf\"}, {\"hovertemplate\": \"Edad=26<br>counts=%{r}<br>cultural_cluster=%{theta}<extra></extra>\", \"legendgroup\": \"Edad=26\", \"marker\": {\"color\": \"rgb(252,141,89)\"}, \"name\": \"Edad=26\", \"r\": [7, 10, 2, 12], \"showlegend\": true, \"theta\": [\"cluster_1\", \"cluster_2\", \"cluster_3\", \"cluster_4\"], \"type\": \"barpolar\", \"uid\": \"07f3430a-8fd3-49c5-9fca-bcd19e2cdb76\"}, {\"hovertemplate\": \"Edad=27<br>counts=%{r}<br>cultural_cluster=%{theta}<extra></extra>\", \"legendgroup\": \"Edad=27\", \"marker\": {\"color\": \"rgb(254,224,139)\"}, \"name\": \"Edad=27\", \"r\": [10, 15, 1, 12], \"showlegend\": true, \"theta\": [\"cluster_1\", \"cluster_2\", \"cluster_3\", \"cluster_4\"], \"type\": \"barpolar\", \"uid\": \"266ad38f-9750-47b6-a685-10e0edeafad4\"}, {\"hovertemplate\": \"Edad=28<br>counts=%{r}<br>cultural_cluster=%{theta}<extra></extra>\", \"legendgroup\": \"Edad=28\", \"marker\": {\"color\": \"rgb(230,245,152)\"}, \"name\": \"Edad=28\", \"r\": [11, 16, 4, 8], \"showlegend\": true, \"theta\": [\"cluster_1\", \"cluster_2\", \"cluster_3\", \"cluster_4\"], \"type\": \"barpolar\", \"uid\": \"f3a5abcd-beb8-4554-9997-91b3a33a0b84\"}, {\"hovertemplate\": \"Edad=29<br>counts=%{r}<br>cultural_cluster=%{theta}<extra></extra>\", \"legendgroup\": \"Edad=29\", \"marker\": {\"color\": \"rgb(153,213,148)\"}, \"name\": \"Edad=29\", \"r\": [9, 12, 2, 9], \"showlegend\": true, \"theta\": [\"cluster_1\", \"cluster_2\", \"cluster_3\", \"cluster_4\"], \"type\": \"barpolar\", \"uid\": \"254e2bce-174b-4997-b5b8-a534f5d71d82\"}, {\"hovertemplate\": \"Edad=30<br>counts=%{r}<br>cultural_cluster=%{theta}<extra></extra>\", \"legendgroup\": \"Edad=30\", \"marker\": {\"color\": \"rgb(50,136,189)\"}, \"name\": \"Edad=30\", \"r\": [12, 15, 11], \"showlegend\": true, \"theta\": [\"cluster_1\", \"cluster_2\", \"cluster_4\"], \"type\": \"barpolar\", \"uid\": \"cae3b69c-ec7a-4636-a120-bd34e4db0853\"}, {\"hovertemplate\": \"Edad=31<br>counts=%{r}<br>cultural_cluster=%{theta}<extra></extra>\", \"legendgroup\": \"Edad=31\", \"marker\": {\"color\": \"rgb(213,62,79)\"}, \"name\": \"Edad=31\", \"r\": [7, 12, 5], \"showlegend\": true, \"theta\": [\"cluster_1\", \"cluster_2\", \"cluster_4\"], \"type\": \"barpolar\", \"uid\": \"2dc48f83-13da-4089-932b-c61a04104be2\"}, {\"hovertemplate\": \"Edad=32<br>counts=%{r}<br>cultural_cluster=%{theta}<extra></extra>\", \"legendgroup\": \"Edad=32\", \"marker\": {\"color\": \"rgb(252,141,89)\"}, \"name\": \"Edad=32\", \"r\": [6, 9, 1, 8], \"showlegend\": true, \"theta\": [\"cluster_1\", \"cluster_2\", \"cluster_3\", \"cluster_4\"], \"type\": \"barpolar\", \"uid\": \"3dec7522-8a56-4cca-b70e-7eb37cfbd174\"}, {\"hovertemplate\": \"Edad=33<br>counts=%{r}<br>cultural_cluster=%{theta}<extra></extra>\", \"legendgroup\": \"Edad=33\", \"marker\": {\"color\": \"rgb(254,224,139)\"}, \"name\": \"Edad=33\", \"r\": [8, 8, 8], \"showlegend\": true, \"theta\": [\"cluster_1\", \"cluster_2\", \"cluster_4\"], \"type\": \"barpolar\", \"uid\": \"d64bc8d8-720d-4140-8118-ee78195a9324\"}, {\"hovertemplate\": \"Edad=34<br>counts=%{r}<br>cultural_cluster=%{theta}<extra></extra>\", \"legendgroup\": \"Edad=34\", \"marker\": {\"color\": \"rgb(230,245,152)\"}, \"name\": \"Edad=34\", \"r\": [5, 15, 6], \"showlegend\": true, \"theta\": [\"cluster_1\", \"cluster_2\", \"cluster_4\"], \"type\": \"barpolar\", \"uid\": \"d998285f-5ff3-4d5c-bc96-665847f23d96\"}, {\"hovertemplate\": \"Edad=35<br>counts=%{r}<br>cultural_cluster=%{theta}<extra></extra>\", \"legendgroup\": \"Edad=35\", \"marker\": {\"color\": \"rgb(153,213,148)\"}, \"name\": \"Edad=35\", \"r\": [12, 7, 9], \"showlegend\": true, \"theta\": [\"cluster_1\", \"cluster_2\", \"cluster_4\"], \"type\": \"barpolar\", \"uid\": \"0736e1f5-53fe-4c05-91f2-cc585e1a1859\"}, {\"hovertemplate\": \"Edad=36<br>counts=%{r}<br>cultural_cluster=%{theta}<extra></extra>\", \"legendgroup\": \"Edad=36\", \"marker\": {\"color\": \"rgb(50,136,189)\"}, \"name\": \"Edad=36\", \"r\": [7, 8, 1, 1], \"showlegend\": true, \"theta\": [\"cluster_1\", \"cluster_2\", \"cluster_3\", \"cluster_4\"], \"type\": \"barpolar\", \"uid\": \"1ea29ebe-904a-42a8-bcda-31f5ad1cc2f8\"}, {\"hovertemplate\": \"Edad=37<br>counts=%{r}<br>cultural_cluster=%{theta}<extra></extra>\", \"legendgroup\": \"Edad=37\", \"marker\": {\"color\": \"rgb(213,62,79)\"}, \"name\": \"Edad=37\", \"r\": [5, 12, 1], \"showlegend\": true, \"theta\": [\"cluster_1\", \"cluster_2\", \"cluster_4\"], \"type\": \"barpolar\", \"uid\": \"9aa4c5b1-85b7-485b-9a5a-1a20761043ee\"}, {\"hovertemplate\": \"Edad=38<br>counts=%{r}<br>cultural_cluster=%{theta}<extra></extra>\", \"legendgroup\": \"Edad=38\", \"marker\": {\"color\": \"rgb(252,141,89)\"}, \"name\": \"Edad=38\", \"r\": [5, 9, 5], \"showlegend\": true, \"theta\": [\"cluster_1\", \"cluster_2\", \"cluster_4\"], \"type\": \"barpolar\", \"uid\": \"fd522a6b-4507-4711-8281-1e0c066ab2d5\"}, {\"hovertemplate\": \"Edad=39<br>counts=%{r}<br>cultural_cluster=%{theta}<extra></extra>\", \"legendgroup\": \"Edad=39\", \"marker\": {\"color\": \"rgb(254,224,139)\"}, \"name\": \"Edad=39\", \"r\": [6, 5, 1, 3], \"showlegend\": true, \"theta\": [\"cluster_1\", \"cluster_2\", \"cluster_3\", \"cluster_4\"], \"type\": \"barpolar\", \"uid\": \"ee6dfd2b-e0aa-4d86-b762-d9903ecd4075\"}, {\"hovertemplate\": \"Edad=40<br>counts=%{r}<br>cultural_cluster=%{theta}<extra></extra>\", \"legendgroup\": \"Edad=40\", \"marker\": {\"color\": \"rgb(230,245,152)\"}, \"name\": \"Edad=40\", \"r\": [5, 1, 3], \"showlegend\": true, \"theta\": [\"cluster_2\", \"cluster_3\", \"cluster_4\"], \"type\": \"barpolar\", \"uid\": \"7e8a5d3d-8bca-4cb4-81fa-62651c18548f\"}, {\"hovertemplate\": \"Edad=41<br>counts=%{r}<br>cultural_cluster=%{theta}<extra></extra>\", \"legendgroup\": \"Edad=41\", \"marker\": {\"color\": \"rgb(153,213,148)\"}, \"name\": \"Edad=41\", \"r\": [2, 6, 1], \"showlegend\": true, \"theta\": [\"cluster_1\", \"cluster_2\", \"cluster_4\"], \"type\": \"barpolar\", \"uid\": \"01be11cd-2527-445f-921b-d54abc1b866d\"}, {\"hovertemplate\": \"Edad=42<br>counts=%{r}<br>cultural_cluster=%{theta}<extra></extra>\", \"legendgroup\": \"Edad=42\", \"marker\": {\"color\": \"rgb(50,136,189)\"}, \"name\": \"Edad=42\", \"r\": [3, 5, 4], \"showlegend\": true, \"theta\": [\"cluster_1\", \"cluster_2\", \"cluster_4\"], \"type\": \"barpolar\", \"uid\": \"d228a1a6-fc9e-4f11-9c15-eb1f0d4d53ee\"}, {\"hovertemplate\": \"Edad=43<br>counts=%{r}<br>cultural_cluster=%{theta}<extra></extra>\", \"legendgroup\": \"Edad=43\", \"marker\": {\"color\": \"rgb(213,62,79)\"}, \"name\": \"Edad=43\", \"r\": [4, 5, 3], \"showlegend\": true, \"theta\": [\"cluster_1\", \"cluster_2\", \"cluster_4\"], \"type\": \"barpolar\", \"uid\": \"09ea1cb1-d007-43f1-97cf-b784247961f9\"}, {\"hovertemplate\": \"Edad=44<br>counts=%{r}<br>cultural_cluster=%{theta}<extra></extra>\", \"legendgroup\": \"Edad=44\", \"marker\": {\"color\": \"rgb(252,141,89)\"}, \"name\": \"Edad=44\", \"r\": [1, 4, 3], \"showlegend\": true, \"theta\": [\"cluster_1\", \"cluster_2\", \"cluster_4\"], \"type\": \"barpolar\", \"uid\": \"033fc6da-7c2c-4c3a-9d9d-28b97c7b790c\"}, {\"hovertemplate\": \"Edad=45<br>counts=%{r}<br>cultural_cluster=%{theta}<extra></extra>\", \"legendgroup\": \"Edad=45\", \"marker\": {\"color\": \"rgb(254,224,139)\"}, \"name\": \"Edad=45\", \"r\": [2, 5, 1], \"showlegend\": true, \"theta\": [\"cluster_1\", \"cluster_2\", \"cluster_3\"], \"type\": \"barpolar\", \"uid\": \"ff7e08c9-0adb-44b1-8e93-2eba23f9358b\"}, {\"hovertemplate\": \"Edad=46<br>counts=%{r}<br>cultural_cluster=%{theta}<extra></extra>\", \"legendgroup\": \"Edad=46\", \"marker\": {\"color\": \"rgb(230,245,152)\"}, \"name\": \"Edad=46\", \"r\": [4, 8, 3], \"showlegend\": true, \"theta\": [\"cluster_1\", \"cluster_2\", \"cluster_4\"], \"type\": \"barpolar\", \"uid\": \"422b003b-fba4-4003-835c-915707c0f4e4\"}, {\"hovertemplate\": \"Edad=47<br>counts=%{r}<br>cultural_cluster=%{theta}<extra></extra>\", \"legendgroup\": \"Edad=47\", \"marker\": {\"color\": \"rgb(153,213,148)\"}, \"name\": \"Edad=47\", \"r\": [3, 4, 2], \"showlegend\": true, \"theta\": [\"cluster_1\", \"cluster_2\", \"cluster_4\"], \"type\": \"barpolar\", \"uid\": \"3130e349-dbe7-465e-9268-c9c93f16b924\"}, {\"hovertemplate\": \"Edad=48<br>counts=%{r}<br>cultural_cluster=%{theta}<extra></extra>\", \"legendgroup\": \"Edad=48\", \"marker\": {\"color\": \"rgb(50,136,189)\"}, \"name\": \"Edad=48\", \"r\": [3, 1, 1], \"showlegend\": true, \"theta\": [\"cluster_2\", \"cluster_3\", \"cluster_4\"], \"type\": \"barpolar\", \"uid\": \"43329040-ce72-4618-b4aa-aa450bbfec20\"}, {\"hovertemplate\": \"Edad=49<br>counts=%{r}<br>cultural_cluster=%{theta}<extra></extra>\", \"legendgroup\": \"Edad=49\", \"marker\": {\"color\": \"rgb(213,62,79)\"}, \"name\": \"Edad=49\", \"r\": [2, 1, 1], \"showlegend\": true, \"theta\": [\"cluster_1\", \"cluster_2\", \"cluster_4\"], \"type\": \"barpolar\", \"uid\": \"a357a6fc-faf0-4a00-8837-acea41cd9afa\"}, {\"hovertemplate\": \"Edad=50<br>counts=%{r}<br>cultural_cluster=%{theta}<extra></extra>\", \"legendgroup\": \"Edad=50\", \"marker\": {\"color\": \"rgb(252,141,89)\"}, \"name\": \"Edad=50\", \"r\": [4, 2], \"showlegend\": true, \"theta\": [\"cluster_1\", \"cluster_4\"], \"type\": \"barpolar\", \"uid\": \"2eb74550-ec41-45ca-9ec0-ad9ef2cc4acd\"}, {\"hovertemplate\": \"Edad=51<br>counts=%{r}<br>cultural_cluster=%{theta}<extra></extra>\", \"legendgroup\": \"Edad=51\", \"marker\": {\"color\": \"rgb(254,224,139)\"}, \"name\": \"Edad=51\", \"r\": [1, 4, 1], \"showlegend\": true, \"theta\": [\"cluster_1\", \"cluster_2\", \"cluster_4\"], \"type\": \"barpolar\", \"uid\": \"a94bd8f4-fec7-4e3c-a662-be1ebb93a985\"}, {\"hovertemplate\": \"Edad=52<br>counts=%{r}<br>cultural_cluster=%{theta}<extra></extra>\", \"legendgroup\": \"Edad=52\", \"marker\": {\"color\": \"rgb(230,245,152)\"}, \"name\": \"Edad=52\", \"r\": [1, 1], \"showlegend\": true, \"theta\": [\"cluster_1\", \"cluster_4\"], \"type\": \"barpolar\", \"uid\": \"4bc63b82-ce3c-4e36-8e5b-6610ebcae416\"}, {\"hovertemplate\": \"Edad=53<br>counts=%{r}<br>cultural_cluster=%{theta}<extra></extra>\", \"legendgroup\": \"Edad=53\", \"marker\": {\"color\": \"rgb(153,213,148)\"}, \"name\": \"Edad=53\", \"r\": [2, 6], \"showlegend\": true, \"theta\": [\"cluster_1\", \"cluster_2\"], \"type\": \"barpolar\", \"uid\": \"8a027de9-f04d-45b7-ac7d-9d2b6dcfe3bf\"}, {\"hovertemplate\": \"Edad=54<br>counts=%{r}<br>cultural_cluster=%{theta}<extra></extra>\", \"legendgroup\": \"Edad=54\", \"marker\": {\"color\": \"rgb(50,136,189)\"}, \"name\": \"Edad=54\", \"r\": [3, 1], \"showlegend\": true, \"theta\": [\"cluster_2\", \"cluster_3\"], \"type\": \"barpolar\", \"uid\": \"595ba46e-a0f6-4c1e-bc39-c228ea91321b\"}, {\"hovertemplate\": \"Edad=55<br>counts=%{r}<br>cultural_cluster=%{theta}<extra></extra>\", \"legendgroup\": \"Edad=55\", \"marker\": {\"color\": \"rgb(213,62,79)\"}, \"name\": \"Edad=55\", \"r\": [4, 3], \"showlegend\": true, \"theta\": [\"cluster_2\", \"cluster_4\"], \"type\": \"barpolar\", \"uid\": \"329c2d78-0074-4e59-a110-fa2f6de1bf57\"}, {\"hovertemplate\": \"Edad=56<br>counts=%{r}<br>cultural_cluster=%{theta}<extra></extra>\", \"legendgroup\": \"Edad=56\", \"marker\": {\"color\": \"rgb(252,141,89)\"}, \"name\": \"Edad=56\", \"r\": [1, 2, 2], \"showlegend\": true, \"theta\": [\"cluster_1\", \"cluster_2\", \"cluster_4\"], \"type\": \"barpolar\", \"uid\": \"423b48e9-0fed-4c88-a5c3-32fe77cc413c\"}, {\"hovertemplate\": \"Edad=57<br>counts=%{r}<br>cultural_cluster=%{theta}<extra></extra>\", \"legendgroup\": \"Edad=57\", \"marker\": {\"color\": \"rgb(254,224,139)\"}, \"name\": \"Edad=57\", \"r\": [4, 2], \"showlegend\": true, \"theta\": [\"cluster_2\", \"cluster_4\"], \"type\": \"barpolar\", \"uid\": \"c130f859-4514-4975-85b5-1410b394241a\"}, {\"hovertemplate\": \"Edad=58<br>counts=%{r}<br>cultural_cluster=%{theta}<extra></extra>\", \"legendgroup\": \"Edad=58\", \"marker\": {\"color\": \"rgb(230,245,152)\"}, \"name\": \"Edad=58\", \"r\": [1], \"showlegend\": true, \"theta\": [\"cluster_2\"], \"type\": \"barpolar\", \"uid\": \"49a76a20-825a-4a8d-aad4-1b4594834d6f\"}, {\"hovertemplate\": \"Edad=59<br>counts=%{r}<br>cultural_cluster=%{theta}<extra></extra>\", \"legendgroup\": \"Edad=59\", \"marker\": {\"color\": \"rgb(153,213,148)\"}, \"name\": \"Edad=59\", \"r\": [2], \"showlegend\": true, \"theta\": [\"cluster_2\"], \"type\": \"barpolar\", \"uid\": \"1e4e71f9-fa7c-4760-b08f-2da2d5ecbd4f\"}, {\"hovertemplate\": \"Edad=60<br>counts=%{r}<br>cultural_cluster=%{theta}<extra></extra>\", \"legendgroup\": \"Edad=60\", \"marker\": {\"color\": \"rgb(50,136,189)\"}, \"name\": \"Edad=60\", \"r\": [3, 1, 1], \"showlegend\": true, \"theta\": [\"cluster_2\", \"cluster_3\", \"cluster_4\"], \"type\": \"barpolar\", \"uid\": \"dfc60174-2dc1-4ac7-8a0e-ce4f7e5534ea\"}, {\"hovertemplate\": \"Edad=61<br>counts=%{r}<br>cultural_cluster=%{theta}<extra></extra>\", \"legendgroup\": \"Edad=61\", \"marker\": {\"color\": \"rgb(213,62,79)\"}, \"name\": \"Edad=61\", \"r\": [3], \"showlegend\": true, \"theta\": [\"cluster_2\"], \"type\": \"barpolar\", \"uid\": \"0f9076e7-9ff2-4335-b52e-58f325328b3b\"}, {\"hovertemplate\": \"Edad=62<br>counts=%{r}<br>cultural_cluster=%{theta}<extra></extra>\", \"legendgroup\": \"Edad=62\", \"marker\": {\"color\": \"rgb(252,141,89)\"}, \"name\": \"Edad=62\", \"r\": [5, 2], \"showlegend\": true, \"theta\": [\"cluster_2\", \"cluster_4\"], \"type\": \"barpolar\", \"uid\": \"1b9eb19b-6036-4bf5-9a04-54b0d4b97f0e\"}, {\"hovertemplate\": \"Edad=63<br>counts=%{r}<br>cultural_cluster=%{theta}<extra></extra>\", \"legendgroup\": \"Edad=63\", \"marker\": {\"color\": \"rgb(254,224,139)\"}, \"name\": \"Edad=63\", \"r\": [1], \"showlegend\": true, \"theta\": [\"cluster_4\"], \"type\": \"barpolar\", \"uid\": \"3fe1bac4-66e1-40df-9c27-427cb1c7359d\"}, {\"hovertemplate\": \"Edad=64<br>counts=%{r}<br>cultural_cluster=%{theta}<extra></extra>\", \"legendgroup\": \"Edad=64\", \"marker\": {\"color\": \"rgb(230,245,152)\"}, \"name\": \"Edad=64\", \"r\": [3], \"showlegend\": true, \"theta\": [\"cluster_1\"], \"type\": \"barpolar\", \"uid\": \"64dbe4b9-055e-4289-a04e-57b6875f19c2\"}, {\"hovertemplate\": \"Edad=65<br>counts=%{r}<br>cultural_cluster=%{theta}<extra></extra>\", \"legendgroup\": \"Edad=65\", \"marker\": {\"color\": \"rgb(153,213,148)\"}, \"name\": \"Edad=65\", \"r\": [1, 1], \"showlegend\": true, \"theta\": [\"cluster_1\", \"cluster_2\"], \"type\": \"barpolar\", \"uid\": \"e8be0bcd-ca8a-41c6-a63d-d2708b9c4aa2\"}, {\"hovertemplate\": \"Edad=66<br>counts=%{r}<br>cultural_cluster=%{theta}<extra></extra>\", \"legendgroup\": \"Edad=66\", \"marker\": {\"color\": \"rgb(50,136,189)\"}, \"name\": \"Edad=66\", \"r\": [1, 1], \"showlegend\": true, \"theta\": [\"cluster_2\", \"cluster_4\"], \"type\": \"barpolar\", \"uid\": \"34b5f2aa-50aa-4e65-83c3-4525ad0a6dea\"}, {\"hovertemplate\": \"Edad=67<br>counts=%{r}<br>cultural_cluster=%{theta}<extra></extra>\", \"legendgroup\": \"Edad=67\", \"marker\": {\"color\": \"rgb(213,62,79)\"}, \"name\": \"Edad=67\", \"r\": [3, 1], \"showlegend\": true, \"theta\": [\"cluster_2\", \"cluster_4\"], \"type\": \"barpolar\", \"uid\": \"f9b0b1ee-9902-4a4c-9a0f-526917066bd2\"}, {\"hovertemplate\": \"Edad=68<br>counts=%{r}<br>cultural_cluster=%{theta}<extra></extra>\", \"legendgroup\": \"Edad=68\", \"marker\": {\"color\": \"rgb(252,141,89)\"}, \"name\": \"Edad=68\", \"r\": [1], \"showlegend\": true, \"theta\": [\"cluster_2\"], \"type\": \"barpolar\", \"uid\": \"a38e1359-3852-4a0a-9cdd-d0aa2dcef43d\"}, {\"hovertemplate\": \"Edad=69<br>counts=%{r}<br>cultural_cluster=%{theta}<extra></extra>\", \"legendgroup\": \"Edad=69\", \"marker\": {\"color\": \"rgb(254,224,139)\"}, \"name\": \"Edad=69\", \"r\": [1, 1], \"showlegend\": true, \"theta\": [\"cluster_2\", \"cluster_4\"], \"type\": \"barpolar\", \"uid\": \"26b6e06e-b670-4299-b5d9-80897af01124\"}, {\"hovertemplate\": \"Edad=70<br>counts=%{r}<br>cultural_cluster=%{theta}<extra></extra>\", \"legendgroup\": \"Edad=70\", \"marker\": {\"color\": \"rgb(230,245,152)\"}, \"name\": \"Edad=70\", \"r\": [1], \"showlegend\": true, \"theta\": [\"cluster_2\"], \"type\": \"barpolar\", \"uid\": \"e853df29-db0a-41fc-87bd-1f9a15bc703f\"}, {\"hovertemplate\": \"Edad=71<br>counts=%{r}<br>cultural_cluster=%{theta}<extra></extra>\", \"legendgroup\": \"Edad=71\", \"marker\": {\"color\": \"rgb(153,213,148)\"}, \"name\": \"Edad=71\", \"r\": [1], \"showlegend\": true, \"theta\": [\"cluster_3\"], \"type\": \"barpolar\", \"uid\": \"2a1dd7fe-b610-40b5-876f-6106bc4eb3c3\"}, {\"hovertemplate\": \"Edad=73<br>counts=%{r}<br>cultural_cluster=%{theta}<extra></extra>\", \"legendgroup\": \"Edad=73\", \"marker\": {\"color\": \"rgb(50,136,189)\"}, \"name\": \"Edad=73\", \"r\": [1], \"showlegend\": true, \"theta\": [\"cluster_2\"], \"type\": \"barpolar\", \"uid\": \"de95f44e-2424-493e-a6a1-70a282bcf748\"}, {\"hovertemplate\": \"Edad=78<br>counts=%{r}<br>cultural_cluster=%{theta}<extra></extra>\", \"legendgroup\": \"Edad=78\", \"marker\": {\"color\": \"rgb(213,62,79)\"}, \"name\": \"Edad=78\", \"r\": [1], \"showlegend\": true, \"theta\": [\"cluster_2\"], \"type\": \"barpolar\", \"uid\": \"abf8d716-9d79-4b11-a7ef-19183c7e1ffe\"}, {\"hovertemplate\": \"Edad=81<br>counts=%{r}<br>cultural_cluster=%{theta}<extra></extra>\", \"legendgroup\": \"Edad=81\", \"marker\": {\"color\": \"rgb(252,141,89)\"}, \"name\": \"Edad=81\", \"r\": [2], \"showlegend\": true, \"theta\": [\"cluster_2\"], \"type\": \"barpolar\", \"uid\": \"3a218766-be41-4287-975e-d61d097a6272\"}], {\"barmode\": \"group\", \"barnorm\": \"\", \"height\": 600, \"legend\": {\"tracegroupgap\": 0}, \"margin\": {\"t\": 60}, \"template\": {\"data\": {\"barpolar\": [{\"marker\": {\"line\": {\"color\": \"#E5ECF6\", \"width\": 0.5}}, \"type\": \"barpolar\"}], \"bar\": [{\"marker\": {\"line\": {\"color\": \"#E5ECF6\", \"width\": 0.5}}, \"type\": \"bar\"}], \"carpet\": [{\"aaxis\": {\"endlinecolor\": \"#2a3f5f\", \"gridcolor\": \"white\", \"linecolor\": \"white\", \"minorgridcolor\": \"white\", \"startlinecolor\": \"#2a3f5f\"}, \"baxis\": {\"endlinecolor\": \"#2a3f5f\", \"gridcolor\": \"white\", \"linecolor\": \"white\", \"minorgridcolor\": \"white\", \"startlinecolor\": \"#2a3f5f\"}, \"type\": \"carpet\"}], \"choropleth\": [{\"colorbar\": {\"outlinewidth\": 0, \"ticks\": \"\"}, \"type\": \"choropleth\"}], \"contourcarpet\": [{\"colorbar\": {\"outlinewidth\": 0, \"ticks\": \"\"}, \"type\": \"contourcarpet\"}], \"contour\": [{\"autocolorscale\": true, \"colorbar\": {\"outlinewidth\": 0, \"ticks\": \"\"}, \"type\": \"contour\"}], \"heatmapgl\": [{\"colorbar\": {\"outlinewidth\": 0, \"ticks\": \"\"}, \"type\": \"heatmapgl\"}], \"heatmap\": [{\"autocolorscale\": true, \"colorbar\": {\"outlinewidth\": 0, \"ticks\": \"\"}, \"type\": \"heatmap\"}], \"histogram2dcontour\": [{\"autocolorscale\": true, \"colorbar\": {\"outlinewidth\": 0, \"ticks\": \"\"}, \"type\": \"histogram2dcontour\"}], \"histogram2d\": [{\"autocolorscale\": true, \"colorbar\": {\"outlinewidth\": 0, \"ticks\": \"\"}, \"type\": \"histogram2d\"}], \"histogram\": [{\"marker\": {\"colorbar\": {\"outlinewidth\": 0, \"ticks\": \"\"}}, \"type\": \"histogram\"}], \"mesh3d\": [{\"colorbar\": {\"outlinewidth\": 0, \"ticks\": \"\"}, \"type\": \"mesh3d\"}], \"parcoords\": [{\"line\": {\"colorbar\": {\"outlinewidth\": 0, \"ticks\": \"\"}}, \"type\": \"parcoords\"}], \"scatter3d\": [{\"marker\": {\"colorbar\": {\"outlinewidth\": 0, \"ticks\": \"\"}}, \"type\": \"scatter3d\"}], \"scattercarpet\": [{\"marker\": {\"colorbar\": {\"outlinewidth\": 0, \"ticks\": \"\"}}, \"type\": \"scattercarpet\"}], \"scattergeo\": [{\"marker\": {\"colorbar\": {\"outlinewidth\": 0, \"ticks\": \"\"}}, \"type\": \"scattergeo\"}], \"scattergl\": [{\"marker\": {\"colorbar\": {\"outlinewidth\": 0, \"ticks\": \"\"}}, \"type\": \"scattergl\"}], \"scattermapbox\": [{\"marker\": {\"colorbar\": {\"outlinewidth\": 0, \"ticks\": \"\"}}, \"type\": \"scattermapbox\"}], \"scatterpolargl\": [{\"marker\": {\"colorbar\": {\"outlinewidth\": 0, \"ticks\": \"\"}}, \"type\": \"scatterpolargl\"}], \"scatterpolar\": [{\"marker\": {\"colorbar\": {\"outlinewidth\": 0, \"ticks\": \"\"}}, \"type\": \"scatterpolar\"}], \"scatter\": [{\"marker\": {\"colorbar\": {\"outlinewidth\": 0, \"ticks\": \"\"}}, \"type\": \"scatter\"}], \"scatterternary\": [{\"marker\": {\"colorbar\": {\"outlinewidth\": 0, \"ticks\": \"\"}}, \"type\": \"scatterternary\"}], \"surface\": [{\"colorbar\": {\"outlinewidth\": 0, \"ticks\": \"\"}, \"type\": \"surface\"}], \"table\": [{\"cells\": {\"fill\": {\"color\": \"#EBF0F8\"}, \"line\": {\"color\": \"white\"}}, \"header\": {\"fill\": {\"color\": \"#C8D4E3\"}, \"line\": {\"color\": \"white\"}}, \"type\": \"table\"}]}, \"layout\": {\"annotationdefaults\": {\"arrowcolor\": \"#506784\", \"arrowhead\": 0, \"arrowwidth\": 1}, \"colorscale\": {\"diverging\": [[0, \"#8e0152\"], [0.1, \"#c51b7d\"], [0.2, \"#de77ae\"], [0.3, \"#f1b6da\"], [0.4, \"#fde0ef\"], [0.5, \"#f7f7f7\"], [0.6, \"#e6f5d0\"], [0.7, \"#b8e186\"], [0.8, \"#7fbc41\"], [0.9, \"#4d9221\"], [1, \"#276419\"]], \"sequential\": [[0.0, \"#0508b8\"], [0.0893854748603352, \"#1910d8\"], [0.1787709497206704, \"#3c19f0\"], [0.2681564245810056, \"#6b1cfb\"], [0.3575418994413408, \"#981cfd\"], [0.44692737430167595, \"#bf1cfd\"], [0.5363128491620112, \"#dd2bfd\"], [0.6256983240223464, \"#f246fe\"], [0.7150837988826816, \"#fc67fd\"], [0.8044692737430168, \"#fe88fc\"], [0.8938547486033519, \"#fea5fd\"], [0.9832402234636871, \"#febefe\"], [1.0, \"#fec3fe\"]], \"sequentialminus\": [[0.0, \"#0508b8\"], [0.0893854748603352, \"#1910d8\"], [0.1787709497206704, \"#3c19f0\"], [0.2681564245810056, \"#6b1cfb\"], [0.3575418994413408, \"#981cfd\"], [0.44692737430167595, \"#bf1cfd\"], [0.5363128491620112, \"#dd2bfd\"], [0.6256983240223464, \"#f246fe\"], [0.7150837988826816, \"#fc67fd\"], [0.8044692737430168, \"#fe88fc\"], [0.8938547486033519, \"#fea5fd\"], [0.9832402234636871, \"#febefe\"], [1.0, \"#fec3fe\"]]}, \"colorway\": [\"#636efa\", \"#EF553B\", \"#00cc96\", \"#ab63fa\", \"#19d3f3\", \"#e763fa\", \"#FECB52\", \"#FFA15A\", \"#FF6692\", \"#B6E880\"], \"font\": {\"color\": \"#2a3f5f\"}, \"geo\": {\"bgcolor\": \"white\", \"lakecolor\": \"white\", \"landcolor\": \"#E5ECF6\", \"showlakes\": true, \"showland\": true, \"subunitcolor\": \"white\"}, \"hovermode\": \"closest\", \"mapbox\": {\"style\": \"light\"}, \"paper_bgcolor\": \"white\", \"plot_bgcolor\": \"#E5ECF6\", \"polar\": {\"angularaxis\": {\"gridcolor\": \"white\", \"linecolor\": \"white\", \"ticks\": \"\"}, \"bgcolor\": \"#E5ECF6\", \"radialaxis\": {\"gridcolor\": \"white\", \"linecolor\": \"white\", \"ticks\": \"\"}}, \"scene\": {\"xaxis\": {\"backgroundcolor\": \"#E5ECF6\", \"gridcolor\": \"white\", \"gridwidth\": 2, \"linecolor\": \"white\", \"showbackground\": true, \"ticks\": \"\", \"zerolinecolor\": \"white\"}, \"yaxis\": {\"backgroundcolor\": \"#E5ECF6\", \"gridcolor\": \"white\", \"gridwidth\": 2, \"linecolor\": \"white\", \"showbackground\": true, \"ticks\": \"\", \"zerolinecolor\": \"white\"}, \"zaxis\": {\"backgroundcolor\": \"#E5ECF6\", \"gridcolor\": \"white\", \"gridwidth\": 2, \"linecolor\": \"white\", \"showbackground\": true, \"ticks\": \"\", \"zerolinecolor\": \"white\"}}, \"shapedefaults\": {\"fillcolor\": \"#506784\", \"line\": {\"width\": 0}, \"opacity\": 0.4}, \"ternary\": {\"aaxis\": {\"gridcolor\": \"white\", \"linecolor\": \"white\", \"ticks\": \"\"}, \"baxis\": {\"gridcolor\": \"white\", \"linecolor\": \"white\", \"ticks\": \"\"}, \"bgcolor\": \"#E5ECF6\", \"caxis\": {\"gridcolor\": \"white\", \"linecolor\": \"white\", \"ticks\": \"\"}}, \"title\": {\"x\": 0.05}, \"xaxis\": {\"automargin\": true, \"gridcolor\": \"white\", \"linecolor\": \"white\", \"ticks\": \"\", \"zerolinecolor\": \"white\", \"zerolinewidth\": 2}, \"yaxis\": {\"automargin\": true, \"gridcolor\": \"white\", \"linecolor\": \"white\", \"ticks\": \"\", \"zerolinecolor\": \"white\", \"zerolinewidth\": 2}}}, \"polar\": {\"angularaxis\": {\"direction\": \"clockwise\", \"rotation\": 90}}}, {\"showLink\": false, \"linkText\": \"Export to plot.ly\", \"plotlyServerURL\": \"https://plot.ly\"}); \n",
       "}\n",
       "});</script><script type=\"text/javascript\">window.addEventListener(\"resize\", function(){if (document.getElementById(\"b08073d0-5dad-4b7c-a11f-13705121ba2d\")) {window._Plotly.Plots.resize(document.getElementById(\"b08073d0-5dad-4b7c-a11f-13705121ba2d\"));};})</script>"
      ],
      "text/vnd.plotly.v1+html": [
       "<div id=\"b08073d0-5dad-4b7c-a11f-13705121ba2d\" style=\"height: 600px; width: 100%;\" class=\"plotly-graph-div\"></div><script type=\"text/javascript\">require([\"plotly\"], function(Plotly) { window.PLOTLYENV=window.PLOTLYENV || {};window.PLOTLYENV.BASE_URL=\"https://plot.ly\";\n",
       "if (document.getElementById(\"b08073d0-5dad-4b7c-a11f-13705121ba2d\")) {\n",
       "    Plotly.newPlot(\"b08073d0-5dad-4b7c-a11f-13705121ba2d\", [{\"hovertemplate\": \"Edad=13<br>counts=%{r}<br>cultural_cluster=%{theta}<extra></extra>\", \"legendgroup\": \"Edad=13\", \"marker\": {\"color\": \"rgb(213,62,79)\"}, \"name\": \"Edad=13\", \"r\": [1, 1, 3], \"showlegend\": true, \"theta\": [\"cluster_1\", \"cluster_2\", \"cluster_4\"], \"type\": \"barpolar\", \"uid\": \"a7ae9166-3384-41e2-b64e-0c22e14d11bd\"}, {\"hovertemplate\": \"Edad=14<br>counts=%{r}<br>cultural_cluster=%{theta}<extra></extra>\", \"legendgroup\": \"Edad=14\", \"marker\": {\"color\": \"rgb(252,141,89)\"}, \"name\": \"Edad=14\", \"r\": [4, 1, 1, 22], \"showlegend\": true, \"theta\": [\"cluster_1\", \"cluster_2\", \"cluster_3\", \"cluster_4\"], \"type\": \"barpolar\", \"uid\": \"40cbe761-3558-471e-9093-b988fe6c480a\"}, {\"hovertemplate\": \"Edad=15<br>counts=%{r}<br>cultural_cluster=%{theta}<extra></extra>\", \"legendgroup\": \"Edad=15\", \"marker\": {\"color\": \"rgb(254,224,139)\"}, \"name\": \"Edad=15\", \"r\": [7, 2, 9], \"showlegend\": true, \"theta\": [\"cluster_1\", \"cluster_3\", \"cluster_4\"], \"type\": \"barpolar\", \"uid\": \"ce174c66-0165-410b-ab4a-fadc99ba2e02\"}, {\"hovertemplate\": \"Edad=16<br>counts=%{r}<br>cultural_cluster=%{theta}<extra></extra>\", \"legendgroup\": \"Edad=16\", \"marker\": {\"color\": \"rgb(230,245,152)\"}, \"name\": \"Edad=16\", \"r\": [2, 1, 7], \"showlegend\": true, \"theta\": [\"cluster_1\", \"cluster_2\", \"cluster_4\"], \"type\": \"barpolar\", \"uid\": \"6e0767c0-17cf-48a4-839f-2a78a7acc612\"}, {\"hovertemplate\": \"Edad=17<br>counts=%{r}<br>cultural_cluster=%{theta}<extra></extra>\", \"legendgroup\": \"Edad=17\", \"marker\": {\"color\": \"rgb(153,213,148)\"}, \"name\": \"Edad=17\", \"r\": [4, 1], \"showlegend\": true, \"theta\": [\"cluster_1\", \"cluster_2\"], \"type\": \"barpolar\", \"uid\": \"b1b518de-5d87-458f-99ee-57d3679626ac\"}, {\"hovertemplate\": \"Edad=18<br>counts=%{r}<br>cultural_cluster=%{theta}<extra></extra>\", \"legendgroup\": \"Edad=18\", \"marker\": {\"color\": \"rgb(50,136,189)\"}, \"name\": \"Edad=18\", \"r\": [4, 1, 6], \"showlegend\": true, \"theta\": [\"cluster_1\", \"cluster_2\", \"cluster_4\"], \"type\": \"barpolar\", \"uid\": \"9c298cfc-d891-4cf7-adbd-e762d726e9cd\"}, {\"hovertemplate\": \"Edad=19<br>counts=%{r}<br>cultural_cluster=%{theta}<extra></extra>\", \"legendgroup\": \"Edad=19\", \"marker\": {\"color\": \"rgb(213,62,79)\"}, \"name\": \"Edad=19\", \"r\": [6, 5, 1], \"showlegend\": true, \"theta\": [\"cluster_1\", \"cluster_2\", \"cluster_4\"], \"type\": \"barpolar\", \"uid\": \"9ee12f85-6437-4974-abf0-602f28a9925e\"}, {\"hovertemplate\": \"Edad=20<br>counts=%{r}<br>cultural_cluster=%{theta}<extra></extra>\", \"legendgroup\": \"Edad=20\", \"marker\": {\"color\": \"rgb(252,141,89)\"}, \"name\": \"Edad=20\", \"r\": [4, 4, 1, 1, 1], \"showlegend\": true, \"theta\": [\"cluster_1\", \"cluster_2\", \"cluster_3\", \"cluster_4\", \"cluster_5\"], \"type\": \"barpolar\", \"uid\": \"0d13da42-9340-4b1c-9349-2c7deba2cb2d\"}, {\"hovertemplate\": \"Edad=21<br>counts=%{r}<br>cultural_cluster=%{theta}<extra></extra>\", \"legendgroup\": \"Edad=21\", \"marker\": {\"color\": \"rgb(254,224,139)\"}, \"name\": \"Edad=21\", \"r\": [14, 3, 7], \"showlegend\": true, \"theta\": [\"cluster_1\", \"cluster_2\", \"cluster_4\"], \"type\": \"barpolar\", \"uid\": \"f13352ac-04b3-497e-a096-a783ec40cac7\"}, {\"hovertemplate\": \"Edad=22<br>counts=%{r}<br>cultural_cluster=%{theta}<extra></extra>\", \"legendgroup\": \"Edad=22\", \"marker\": {\"color\": \"rgb(230,245,152)\"}, \"name\": \"Edad=22\", \"r\": [6, 4, 3, 3], \"showlegend\": true, \"theta\": [\"cluster_1\", \"cluster_2\", \"cluster_3\", \"cluster_4\"], \"type\": \"barpolar\", \"uid\": \"cc7d2ea4-b335-4d21-92be-554c2b3c978e\"}, {\"hovertemplate\": \"Edad=23<br>counts=%{r}<br>cultural_cluster=%{theta}<extra></extra>\", \"legendgroup\": \"Edad=23\", \"marker\": {\"color\": \"rgb(153,213,148)\"}, \"name\": \"Edad=23\", \"r\": [11, 5, 4], \"showlegend\": true, \"theta\": [\"cluster_1\", \"cluster_2\", \"cluster_4\"], \"type\": \"barpolar\", \"uid\": \"f32a82b6-e133-47c0-b568-069a09398a9c\"}, {\"hovertemplate\": \"Edad=24<br>counts=%{r}<br>cultural_cluster=%{theta}<extra></extra>\", \"legendgroup\": \"Edad=24\", \"marker\": {\"color\": \"rgb(50,136,189)\"}, \"name\": \"Edad=24\", \"r\": [6, 24, 1, 8], \"showlegend\": true, \"theta\": [\"cluster_1\", \"cluster_2\", \"cluster_3\", \"cluster_4\"], \"type\": \"barpolar\", \"uid\": \"9e15dbaf-2c6f-4f87-acaa-b5d1b88f0e40\"}, {\"hovertemplate\": \"Edad=25<br>counts=%{r}<br>cultural_cluster=%{theta}<extra></extra>\", \"legendgroup\": \"Edad=25\", \"marker\": {\"color\": \"rgb(213,62,79)\"}, \"name\": \"Edad=25\", \"r\": [10, 3, 1, 7], \"showlegend\": true, \"theta\": [\"cluster_1\", \"cluster_2\", \"cluster_3\", \"cluster_4\"], \"type\": \"barpolar\", \"uid\": \"3a9d92b6-697f-4156-80ea-3ab1af7f91cf\"}, {\"hovertemplate\": \"Edad=26<br>counts=%{r}<br>cultural_cluster=%{theta}<extra></extra>\", \"legendgroup\": \"Edad=26\", \"marker\": {\"color\": \"rgb(252,141,89)\"}, \"name\": \"Edad=26\", \"r\": [7, 10, 2, 12], \"showlegend\": true, \"theta\": [\"cluster_1\", \"cluster_2\", \"cluster_3\", \"cluster_4\"], \"type\": \"barpolar\", \"uid\": \"07f3430a-8fd3-49c5-9fca-bcd19e2cdb76\"}, {\"hovertemplate\": \"Edad=27<br>counts=%{r}<br>cultural_cluster=%{theta}<extra></extra>\", \"legendgroup\": \"Edad=27\", \"marker\": {\"color\": \"rgb(254,224,139)\"}, \"name\": \"Edad=27\", \"r\": [10, 15, 1, 12], \"showlegend\": true, \"theta\": [\"cluster_1\", \"cluster_2\", \"cluster_3\", \"cluster_4\"], \"type\": \"barpolar\", \"uid\": \"266ad38f-9750-47b6-a685-10e0edeafad4\"}, {\"hovertemplate\": \"Edad=28<br>counts=%{r}<br>cultural_cluster=%{theta}<extra></extra>\", \"legendgroup\": \"Edad=28\", \"marker\": {\"color\": \"rgb(230,245,152)\"}, \"name\": \"Edad=28\", \"r\": [11, 16, 4, 8], \"showlegend\": true, \"theta\": [\"cluster_1\", \"cluster_2\", \"cluster_3\", \"cluster_4\"], \"type\": \"barpolar\", \"uid\": \"f3a5abcd-beb8-4554-9997-91b3a33a0b84\"}, {\"hovertemplate\": \"Edad=29<br>counts=%{r}<br>cultural_cluster=%{theta}<extra></extra>\", \"legendgroup\": \"Edad=29\", \"marker\": {\"color\": \"rgb(153,213,148)\"}, \"name\": \"Edad=29\", \"r\": [9, 12, 2, 9], \"showlegend\": true, \"theta\": [\"cluster_1\", \"cluster_2\", \"cluster_3\", \"cluster_4\"], \"type\": \"barpolar\", \"uid\": \"254e2bce-174b-4997-b5b8-a534f5d71d82\"}, {\"hovertemplate\": \"Edad=30<br>counts=%{r}<br>cultural_cluster=%{theta}<extra></extra>\", \"legendgroup\": \"Edad=30\", \"marker\": {\"color\": \"rgb(50,136,189)\"}, \"name\": \"Edad=30\", \"r\": [12, 15, 11], \"showlegend\": true, \"theta\": [\"cluster_1\", \"cluster_2\", \"cluster_4\"], \"type\": \"barpolar\", \"uid\": \"cae3b69c-ec7a-4636-a120-bd34e4db0853\"}, {\"hovertemplate\": \"Edad=31<br>counts=%{r}<br>cultural_cluster=%{theta}<extra></extra>\", \"legendgroup\": \"Edad=31\", \"marker\": {\"color\": \"rgb(213,62,79)\"}, \"name\": \"Edad=31\", \"r\": [7, 12, 5], \"showlegend\": true, \"theta\": [\"cluster_1\", \"cluster_2\", \"cluster_4\"], \"type\": \"barpolar\", \"uid\": \"2dc48f83-13da-4089-932b-c61a04104be2\"}, {\"hovertemplate\": \"Edad=32<br>counts=%{r}<br>cultural_cluster=%{theta}<extra></extra>\", \"legendgroup\": \"Edad=32\", \"marker\": {\"color\": \"rgb(252,141,89)\"}, \"name\": \"Edad=32\", \"r\": [6, 9, 1, 8], \"showlegend\": true, \"theta\": [\"cluster_1\", \"cluster_2\", \"cluster_3\", \"cluster_4\"], \"type\": \"barpolar\", \"uid\": \"3dec7522-8a56-4cca-b70e-7eb37cfbd174\"}, {\"hovertemplate\": \"Edad=33<br>counts=%{r}<br>cultural_cluster=%{theta}<extra></extra>\", \"legendgroup\": \"Edad=33\", \"marker\": {\"color\": \"rgb(254,224,139)\"}, \"name\": \"Edad=33\", \"r\": [8, 8, 8], \"showlegend\": true, \"theta\": [\"cluster_1\", \"cluster_2\", \"cluster_4\"], \"type\": \"barpolar\", \"uid\": \"d64bc8d8-720d-4140-8118-ee78195a9324\"}, {\"hovertemplate\": \"Edad=34<br>counts=%{r}<br>cultural_cluster=%{theta}<extra></extra>\", \"legendgroup\": \"Edad=34\", \"marker\": {\"color\": \"rgb(230,245,152)\"}, \"name\": \"Edad=34\", \"r\": [5, 15, 6], \"showlegend\": true, \"theta\": [\"cluster_1\", \"cluster_2\", \"cluster_4\"], \"type\": \"barpolar\", \"uid\": \"d998285f-5ff3-4d5c-bc96-665847f23d96\"}, {\"hovertemplate\": \"Edad=35<br>counts=%{r}<br>cultural_cluster=%{theta}<extra></extra>\", \"legendgroup\": \"Edad=35\", \"marker\": {\"color\": \"rgb(153,213,148)\"}, \"name\": \"Edad=35\", \"r\": [12, 7, 9], \"showlegend\": true, \"theta\": [\"cluster_1\", \"cluster_2\", \"cluster_4\"], \"type\": \"barpolar\", \"uid\": \"0736e1f5-53fe-4c05-91f2-cc585e1a1859\"}, {\"hovertemplate\": \"Edad=36<br>counts=%{r}<br>cultural_cluster=%{theta}<extra></extra>\", \"legendgroup\": \"Edad=36\", \"marker\": {\"color\": \"rgb(50,136,189)\"}, \"name\": \"Edad=36\", \"r\": [7, 8, 1, 1], \"showlegend\": true, \"theta\": [\"cluster_1\", \"cluster_2\", \"cluster_3\", \"cluster_4\"], \"type\": \"barpolar\", \"uid\": \"1ea29ebe-904a-42a8-bcda-31f5ad1cc2f8\"}, {\"hovertemplate\": \"Edad=37<br>counts=%{r}<br>cultural_cluster=%{theta}<extra></extra>\", \"legendgroup\": \"Edad=37\", \"marker\": {\"color\": \"rgb(213,62,79)\"}, \"name\": \"Edad=37\", \"r\": [5, 12, 1], \"showlegend\": true, \"theta\": [\"cluster_1\", \"cluster_2\", \"cluster_4\"], \"type\": \"barpolar\", \"uid\": \"9aa4c5b1-85b7-485b-9a5a-1a20761043ee\"}, {\"hovertemplate\": \"Edad=38<br>counts=%{r}<br>cultural_cluster=%{theta}<extra></extra>\", \"legendgroup\": \"Edad=38\", \"marker\": {\"color\": \"rgb(252,141,89)\"}, \"name\": \"Edad=38\", \"r\": [5, 9, 5], \"showlegend\": true, \"theta\": [\"cluster_1\", \"cluster_2\", \"cluster_4\"], \"type\": \"barpolar\", \"uid\": \"fd522a6b-4507-4711-8281-1e0c066ab2d5\"}, {\"hovertemplate\": \"Edad=39<br>counts=%{r}<br>cultural_cluster=%{theta}<extra></extra>\", \"legendgroup\": \"Edad=39\", \"marker\": {\"color\": \"rgb(254,224,139)\"}, \"name\": \"Edad=39\", \"r\": [6, 5, 1, 3], \"showlegend\": true, \"theta\": [\"cluster_1\", \"cluster_2\", \"cluster_3\", \"cluster_4\"], \"type\": \"barpolar\", \"uid\": \"ee6dfd2b-e0aa-4d86-b762-d9903ecd4075\"}, {\"hovertemplate\": \"Edad=40<br>counts=%{r}<br>cultural_cluster=%{theta}<extra></extra>\", \"legendgroup\": \"Edad=40\", \"marker\": {\"color\": \"rgb(230,245,152)\"}, \"name\": \"Edad=40\", \"r\": [5, 1, 3], \"showlegend\": true, \"theta\": [\"cluster_2\", \"cluster_3\", \"cluster_4\"], \"type\": \"barpolar\", \"uid\": \"7e8a5d3d-8bca-4cb4-81fa-62651c18548f\"}, {\"hovertemplate\": \"Edad=41<br>counts=%{r}<br>cultural_cluster=%{theta}<extra></extra>\", \"legendgroup\": \"Edad=41\", \"marker\": {\"color\": \"rgb(153,213,148)\"}, \"name\": \"Edad=41\", \"r\": [2, 6, 1], \"showlegend\": true, \"theta\": [\"cluster_1\", \"cluster_2\", \"cluster_4\"], \"type\": \"barpolar\", \"uid\": \"01be11cd-2527-445f-921b-d54abc1b866d\"}, {\"hovertemplate\": \"Edad=42<br>counts=%{r}<br>cultural_cluster=%{theta}<extra></extra>\", \"legendgroup\": \"Edad=42\", \"marker\": {\"color\": \"rgb(50,136,189)\"}, \"name\": \"Edad=42\", \"r\": [3, 5, 4], \"showlegend\": true, \"theta\": [\"cluster_1\", \"cluster_2\", \"cluster_4\"], \"type\": \"barpolar\", \"uid\": \"d228a1a6-fc9e-4f11-9c15-eb1f0d4d53ee\"}, {\"hovertemplate\": \"Edad=43<br>counts=%{r}<br>cultural_cluster=%{theta}<extra></extra>\", \"legendgroup\": \"Edad=43\", \"marker\": {\"color\": \"rgb(213,62,79)\"}, \"name\": \"Edad=43\", \"r\": [4, 5, 3], \"showlegend\": true, \"theta\": [\"cluster_1\", \"cluster_2\", \"cluster_4\"], \"type\": \"barpolar\", \"uid\": \"09ea1cb1-d007-43f1-97cf-b784247961f9\"}, {\"hovertemplate\": \"Edad=44<br>counts=%{r}<br>cultural_cluster=%{theta}<extra></extra>\", \"legendgroup\": \"Edad=44\", \"marker\": {\"color\": \"rgb(252,141,89)\"}, \"name\": \"Edad=44\", \"r\": [1, 4, 3], \"showlegend\": true, \"theta\": [\"cluster_1\", \"cluster_2\", \"cluster_4\"], \"type\": \"barpolar\", \"uid\": \"033fc6da-7c2c-4c3a-9d9d-28b97c7b790c\"}, {\"hovertemplate\": \"Edad=45<br>counts=%{r}<br>cultural_cluster=%{theta}<extra></extra>\", \"legendgroup\": \"Edad=45\", \"marker\": {\"color\": \"rgb(254,224,139)\"}, \"name\": \"Edad=45\", \"r\": [2, 5, 1], \"showlegend\": true, \"theta\": [\"cluster_1\", \"cluster_2\", \"cluster_3\"], \"type\": \"barpolar\", \"uid\": \"ff7e08c9-0adb-44b1-8e93-2eba23f9358b\"}, {\"hovertemplate\": \"Edad=46<br>counts=%{r}<br>cultural_cluster=%{theta}<extra></extra>\", \"legendgroup\": \"Edad=46\", \"marker\": {\"color\": \"rgb(230,245,152)\"}, \"name\": \"Edad=46\", \"r\": [4, 8, 3], \"showlegend\": true, \"theta\": [\"cluster_1\", \"cluster_2\", \"cluster_4\"], \"type\": \"barpolar\", \"uid\": \"422b003b-fba4-4003-835c-915707c0f4e4\"}, {\"hovertemplate\": \"Edad=47<br>counts=%{r}<br>cultural_cluster=%{theta}<extra></extra>\", \"legendgroup\": \"Edad=47\", \"marker\": {\"color\": \"rgb(153,213,148)\"}, \"name\": \"Edad=47\", \"r\": [3, 4, 2], \"showlegend\": true, \"theta\": [\"cluster_1\", \"cluster_2\", \"cluster_4\"], \"type\": \"barpolar\", \"uid\": \"3130e349-dbe7-465e-9268-c9c93f16b924\"}, {\"hovertemplate\": \"Edad=48<br>counts=%{r}<br>cultural_cluster=%{theta}<extra></extra>\", \"legendgroup\": \"Edad=48\", \"marker\": {\"color\": \"rgb(50,136,189)\"}, \"name\": \"Edad=48\", \"r\": [3, 1, 1], \"showlegend\": true, \"theta\": [\"cluster_2\", \"cluster_3\", \"cluster_4\"], \"type\": \"barpolar\", \"uid\": \"43329040-ce72-4618-b4aa-aa450bbfec20\"}, {\"hovertemplate\": \"Edad=49<br>counts=%{r}<br>cultural_cluster=%{theta}<extra></extra>\", \"legendgroup\": \"Edad=49\", \"marker\": {\"color\": \"rgb(213,62,79)\"}, \"name\": \"Edad=49\", \"r\": [2, 1, 1], \"showlegend\": true, \"theta\": [\"cluster_1\", \"cluster_2\", \"cluster_4\"], \"type\": \"barpolar\", \"uid\": \"a357a6fc-faf0-4a00-8837-acea41cd9afa\"}, {\"hovertemplate\": \"Edad=50<br>counts=%{r}<br>cultural_cluster=%{theta}<extra></extra>\", \"legendgroup\": \"Edad=50\", \"marker\": {\"color\": \"rgb(252,141,89)\"}, \"name\": \"Edad=50\", \"r\": [4, 2], \"showlegend\": true, \"theta\": [\"cluster_1\", \"cluster_4\"], \"type\": \"barpolar\", \"uid\": \"2eb74550-ec41-45ca-9ec0-ad9ef2cc4acd\"}, {\"hovertemplate\": \"Edad=51<br>counts=%{r}<br>cultural_cluster=%{theta}<extra></extra>\", \"legendgroup\": \"Edad=51\", \"marker\": {\"color\": \"rgb(254,224,139)\"}, \"name\": \"Edad=51\", \"r\": [1, 4, 1], \"showlegend\": true, \"theta\": [\"cluster_1\", \"cluster_2\", \"cluster_4\"], \"type\": \"barpolar\", \"uid\": \"a94bd8f4-fec7-4e3c-a662-be1ebb93a985\"}, {\"hovertemplate\": \"Edad=52<br>counts=%{r}<br>cultural_cluster=%{theta}<extra></extra>\", \"legendgroup\": \"Edad=52\", \"marker\": {\"color\": \"rgb(230,245,152)\"}, \"name\": \"Edad=52\", \"r\": [1, 1], \"showlegend\": true, \"theta\": [\"cluster_1\", \"cluster_4\"], \"type\": \"barpolar\", \"uid\": \"4bc63b82-ce3c-4e36-8e5b-6610ebcae416\"}, {\"hovertemplate\": \"Edad=53<br>counts=%{r}<br>cultural_cluster=%{theta}<extra></extra>\", \"legendgroup\": \"Edad=53\", \"marker\": {\"color\": \"rgb(153,213,148)\"}, \"name\": \"Edad=53\", \"r\": [2, 6], \"showlegend\": true, \"theta\": [\"cluster_1\", \"cluster_2\"], \"type\": \"barpolar\", \"uid\": \"8a027de9-f04d-45b7-ac7d-9d2b6dcfe3bf\"}, {\"hovertemplate\": \"Edad=54<br>counts=%{r}<br>cultural_cluster=%{theta}<extra></extra>\", \"legendgroup\": \"Edad=54\", \"marker\": {\"color\": \"rgb(50,136,189)\"}, \"name\": \"Edad=54\", \"r\": [3, 1], \"showlegend\": true, \"theta\": [\"cluster_2\", \"cluster_3\"], \"type\": \"barpolar\", \"uid\": \"595ba46e-a0f6-4c1e-bc39-c228ea91321b\"}, {\"hovertemplate\": \"Edad=55<br>counts=%{r}<br>cultural_cluster=%{theta}<extra></extra>\", \"legendgroup\": \"Edad=55\", \"marker\": {\"color\": \"rgb(213,62,79)\"}, \"name\": \"Edad=55\", \"r\": [4, 3], \"showlegend\": true, \"theta\": [\"cluster_2\", \"cluster_4\"], \"type\": \"barpolar\", \"uid\": \"329c2d78-0074-4e59-a110-fa2f6de1bf57\"}, {\"hovertemplate\": \"Edad=56<br>counts=%{r}<br>cultural_cluster=%{theta}<extra></extra>\", \"legendgroup\": \"Edad=56\", \"marker\": {\"color\": \"rgb(252,141,89)\"}, \"name\": \"Edad=56\", \"r\": [1, 2, 2], \"showlegend\": true, \"theta\": [\"cluster_1\", \"cluster_2\", \"cluster_4\"], \"type\": \"barpolar\", \"uid\": \"423b48e9-0fed-4c88-a5c3-32fe77cc413c\"}, {\"hovertemplate\": \"Edad=57<br>counts=%{r}<br>cultural_cluster=%{theta}<extra></extra>\", \"legendgroup\": \"Edad=57\", \"marker\": {\"color\": \"rgb(254,224,139)\"}, \"name\": \"Edad=57\", \"r\": [4, 2], \"showlegend\": true, \"theta\": [\"cluster_2\", \"cluster_4\"], \"type\": \"barpolar\", \"uid\": \"c130f859-4514-4975-85b5-1410b394241a\"}, {\"hovertemplate\": \"Edad=58<br>counts=%{r}<br>cultural_cluster=%{theta}<extra></extra>\", \"legendgroup\": \"Edad=58\", \"marker\": {\"color\": \"rgb(230,245,152)\"}, \"name\": \"Edad=58\", \"r\": [1], \"showlegend\": true, \"theta\": [\"cluster_2\"], \"type\": \"barpolar\", \"uid\": \"49a76a20-825a-4a8d-aad4-1b4594834d6f\"}, {\"hovertemplate\": \"Edad=59<br>counts=%{r}<br>cultural_cluster=%{theta}<extra></extra>\", \"legendgroup\": \"Edad=59\", \"marker\": {\"color\": \"rgb(153,213,148)\"}, \"name\": \"Edad=59\", \"r\": [2], \"showlegend\": true, \"theta\": [\"cluster_2\"], \"type\": \"barpolar\", \"uid\": \"1e4e71f9-fa7c-4760-b08f-2da2d5ecbd4f\"}, {\"hovertemplate\": \"Edad=60<br>counts=%{r}<br>cultural_cluster=%{theta}<extra></extra>\", \"legendgroup\": \"Edad=60\", \"marker\": {\"color\": \"rgb(50,136,189)\"}, \"name\": \"Edad=60\", \"r\": [3, 1, 1], \"showlegend\": true, \"theta\": [\"cluster_2\", \"cluster_3\", \"cluster_4\"], \"type\": \"barpolar\", \"uid\": \"dfc60174-2dc1-4ac7-8a0e-ce4f7e5534ea\"}, {\"hovertemplate\": \"Edad=61<br>counts=%{r}<br>cultural_cluster=%{theta}<extra></extra>\", \"legendgroup\": \"Edad=61\", \"marker\": {\"color\": \"rgb(213,62,79)\"}, \"name\": \"Edad=61\", \"r\": [3], \"showlegend\": true, \"theta\": [\"cluster_2\"], \"type\": \"barpolar\", \"uid\": \"0f9076e7-9ff2-4335-b52e-58f325328b3b\"}, {\"hovertemplate\": \"Edad=62<br>counts=%{r}<br>cultural_cluster=%{theta}<extra></extra>\", \"legendgroup\": \"Edad=62\", \"marker\": {\"color\": \"rgb(252,141,89)\"}, \"name\": \"Edad=62\", \"r\": [5, 2], \"showlegend\": true, \"theta\": [\"cluster_2\", \"cluster_4\"], \"type\": \"barpolar\", \"uid\": \"1b9eb19b-6036-4bf5-9a04-54b0d4b97f0e\"}, {\"hovertemplate\": \"Edad=63<br>counts=%{r}<br>cultural_cluster=%{theta}<extra></extra>\", \"legendgroup\": \"Edad=63\", \"marker\": {\"color\": \"rgb(254,224,139)\"}, \"name\": \"Edad=63\", \"r\": [1], \"showlegend\": true, \"theta\": [\"cluster_4\"], \"type\": \"barpolar\", \"uid\": \"3fe1bac4-66e1-40df-9c27-427cb1c7359d\"}, {\"hovertemplate\": \"Edad=64<br>counts=%{r}<br>cultural_cluster=%{theta}<extra></extra>\", \"legendgroup\": \"Edad=64\", \"marker\": {\"color\": \"rgb(230,245,152)\"}, \"name\": \"Edad=64\", \"r\": [3], \"showlegend\": true, \"theta\": [\"cluster_1\"], \"type\": \"barpolar\", \"uid\": \"64dbe4b9-055e-4289-a04e-57b6875f19c2\"}, {\"hovertemplate\": \"Edad=65<br>counts=%{r}<br>cultural_cluster=%{theta}<extra></extra>\", \"legendgroup\": \"Edad=65\", \"marker\": {\"color\": \"rgb(153,213,148)\"}, \"name\": \"Edad=65\", \"r\": [1, 1], \"showlegend\": true, \"theta\": [\"cluster_1\", \"cluster_2\"], \"type\": \"barpolar\", \"uid\": \"e8be0bcd-ca8a-41c6-a63d-d2708b9c4aa2\"}, {\"hovertemplate\": \"Edad=66<br>counts=%{r}<br>cultural_cluster=%{theta}<extra></extra>\", \"legendgroup\": \"Edad=66\", \"marker\": {\"color\": \"rgb(50,136,189)\"}, \"name\": \"Edad=66\", \"r\": [1, 1], \"showlegend\": true, \"theta\": [\"cluster_2\", \"cluster_4\"], \"type\": \"barpolar\", \"uid\": \"34b5f2aa-50aa-4e65-83c3-4525ad0a6dea\"}, {\"hovertemplate\": \"Edad=67<br>counts=%{r}<br>cultural_cluster=%{theta}<extra></extra>\", \"legendgroup\": \"Edad=67\", \"marker\": {\"color\": \"rgb(213,62,79)\"}, \"name\": \"Edad=67\", \"r\": [3, 1], \"showlegend\": true, \"theta\": [\"cluster_2\", \"cluster_4\"], \"type\": \"barpolar\", \"uid\": \"f9b0b1ee-9902-4a4c-9a0f-526917066bd2\"}, {\"hovertemplate\": \"Edad=68<br>counts=%{r}<br>cultural_cluster=%{theta}<extra></extra>\", \"legendgroup\": \"Edad=68\", \"marker\": {\"color\": \"rgb(252,141,89)\"}, \"name\": \"Edad=68\", \"r\": [1], \"showlegend\": true, \"theta\": [\"cluster_2\"], \"type\": \"barpolar\", \"uid\": \"a38e1359-3852-4a0a-9cdd-d0aa2dcef43d\"}, {\"hovertemplate\": \"Edad=69<br>counts=%{r}<br>cultural_cluster=%{theta}<extra></extra>\", \"legendgroup\": \"Edad=69\", \"marker\": {\"color\": \"rgb(254,224,139)\"}, \"name\": \"Edad=69\", \"r\": [1, 1], \"showlegend\": true, \"theta\": [\"cluster_2\", \"cluster_4\"], \"type\": \"barpolar\", \"uid\": \"26b6e06e-b670-4299-b5d9-80897af01124\"}, {\"hovertemplate\": \"Edad=70<br>counts=%{r}<br>cultural_cluster=%{theta}<extra></extra>\", \"legendgroup\": \"Edad=70\", \"marker\": {\"color\": \"rgb(230,245,152)\"}, \"name\": \"Edad=70\", \"r\": [1], \"showlegend\": true, \"theta\": [\"cluster_2\"], \"type\": \"barpolar\", \"uid\": \"e853df29-db0a-41fc-87bd-1f9a15bc703f\"}, {\"hovertemplate\": \"Edad=71<br>counts=%{r}<br>cultural_cluster=%{theta}<extra></extra>\", \"legendgroup\": \"Edad=71\", \"marker\": {\"color\": \"rgb(153,213,148)\"}, \"name\": \"Edad=71\", \"r\": [1], \"showlegend\": true, \"theta\": [\"cluster_3\"], \"type\": \"barpolar\", \"uid\": \"2a1dd7fe-b610-40b5-876f-6106bc4eb3c3\"}, {\"hovertemplate\": \"Edad=73<br>counts=%{r}<br>cultural_cluster=%{theta}<extra></extra>\", \"legendgroup\": \"Edad=73\", \"marker\": {\"color\": \"rgb(50,136,189)\"}, \"name\": \"Edad=73\", \"r\": [1], \"showlegend\": true, \"theta\": [\"cluster_2\"], \"type\": \"barpolar\", \"uid\": \"de95f44e-2424-493e-a6a1-70a282bcf748\"}, {\"hovertemplate\": \"Edad=78<br>counts=%{r}<br>cultural_cluster=%{theta}<extra></extra>\", \"legendgroup\": \"Edad=78\", \"marker\": {\"color\": \"rgb(213,62,79)\"}, \"name\": \"Edad=78\", \"r\": [1], \"showlegend\": true, \"theta\": [\"cluster_2\"], \"type\": \"barpolar\", \"uid\": \"abf8d716-9d79-4b11-a7ef-19183c7e1ffe\"}, {\"hovertemplate\": \"Edad=81<br>counts=%{r}<br>cultural_cluster=%{theta}<extra></extra>\", \"legendgroup\": \"Edad=81\", \"marker\": {\"color\": \"rgb(252,141,89)\"}, \"name\": \"Edad=81\", \"r\": [2], \"showlegend\": true, \"theta\": [\"cluster_2\"], \"type\": \"barpolar\", \"uid\": \"3a218766-be41-4287-975e-d61d097a6272\"}], {\"barmode\": \"group\", \"barnorm\": \"\", \"height\": 600, \"legend\": {\"tracegroupgap\": 0}, \"margin\": {\"t\": 60}, \"template\": {\"data\": {\"barpolar\": [{\"marker\": {\"line\": {\"color\": \"#E5ECF6\", \"width\": 0.5}}, \"type\": \"barpolar\"}], \"bar\": [{\"marker\": {\"line\": {\"color\": \"#E5ECF6\", \"width\": 0.5}}, \"type\": \"bar\"}], \"carpet\": [{\"aaxis\": {\"endlinecolor\": \"#2a3f5f\", \"gridcolor\": \"white\", \"linecolor\": \"white\", \"minorgridcolor\": \"white\", \"startlinecolor\": \"#2a3f5f\"}, \"baxis\": {\"endlinecolor\": \"#2a3f5f\", \"gridcolor\": \"white\", \"linecolor\": \"white\", \"minorgridcolor\": \"white\", \"startlinecolor\": \"#2a3f5f\"}, \"type\": \"carpet\"}], \"choropleth\": [{\"colorbar\": {\"outlinewidth\": 0, \"ticks\": \"\"}, \"type\": \"choropleth\"}], \"contourcarpet\": [{\"colorbar\": {\"outlinewidth\": 0, \"ticks\": \"\"}, \"type\": \"contourcarpet\"}], \"contour\": [{\"autocolorscale\": true, \"colorbar\": {\"outlinewidth\": 0, \"ticks\": \"\"}, \"type\": \"contour\"}], \"heatmapgl\": [{\"colorbar\": {\"outlinewidth\": 0, \"ticks\": \"\"}, \"type\": \"heatmapgl\"}], \"heatmap\": [{\"autocolorscale\": true, \"colorbar\": {\"outlinewidth\": 0, \"ticks\": \"\"}, \"type\": \"heatmap\"}], \"histogram2dcontour\": [{\"autocolorscale\": true, \"colorbar\": {\"outlinewidth\": 0, \"ticks\": \"\"}, \"type\": \"histogram2dcontour\"}], \"histogram2d\": [{\"autocolorscale\": true, \"colorbar\": {\"outlinewidth\": 0, \"ticks\": \"\"}, \"type\": \"histogram2d\"}], \"histogram\": [{\"marker\": {\"colorbar\": {\"outlinewidth\": 0, \"ticks\": \"\"}}, \"type\": \"histogram\"}], \"mesh3d\": [{\"colorbar\": {\"outlinewidth\": 0, \"ticks\": \"\"}, \"type\": \"mesh3d\"}], \"parcoords\": [{\"line\": {\"colorbar\": {\"outlinewidth\": 0, \"ticks\": \"\"}}, \"type\": \"parcoords\"}], \"scatter3d\": [{\"marker\": {\"colorbar\": {\"outlinewidth\": 0, \"ticks\": \"\"}}, \"type\": \"scatter3d\"}], \"scattercarpet\": [{\"marker\": {\"colorbar\": {\"outlinewidth\": 0, \"ticks\": \"\"}}, \"type\": \"scattercarpet\"}], \"scattergeo\": [{\"marker\": {\"colorbar\": {\"outlinewidth\": 0, \"ticks\": \"\"}}, \"type\": \"scattergeo\"}], \"scattergl\": [{\"marker\": {\"colorbar\": {\"outlinewidth\": 0, \"ticks\": \"\"}}, \"type\": \"scattergl\"}], \"scattermapbox\": [{\"marker\": {\"colorbar\": {\"outlinewidth\": 0, \"ticks\": \"\"}}, \"type\": \"scattermapbox\"}], \"scatterpolargl\": [{\"marker\": {\"colorbar\": {\"outlinewidth\": 0, \"ticks\": \"\"}}, \"type\": \"scatterpolargl\"}], \"scatterpolar\": [{\"marker\": {\"colorbar\": {\"outlinewidth\": 0, \"ticks\": \"\"}}, \"type\": \"scatterpolar\"}], \"scatter\": [{\"marker\": {\"colorbar\": {\"outlinewidth\": 0, \"ticks\": \"\"}}, \"type\": \"scatter\"}], \"scatterternary\": [{\"marker\": {\"colorbar\": {\"outlinewidth\": 0, \"ticks\": \"\"}}, \"type\": \"scatterternary\"}], \"surface\": [{\"colorbar\": {\"outlinewidth\": 0, \"ticks\": \"\"}, \"type\": \"surface\"}], \"table\": [{\"cells\": {\"fill\": {\"color\": \"#EBF0F8\"}, \"line\": {\"color\": \"white\"}}, \"header\": {\"fill\": {\"color\": \"#C8D4E3\"}, \"line\": {\"color\": \"white\"}}, \"type\": \"table\"}]}, \"layout\": {\"annotationdefaults\": {\"arrowcolor\": \"#506784\", \"arrowhead\": 0, \"arrowwidth\": 1}, \"colorscale\": {\"diverging\": [[0, \"#8e0152\"], [0.1, \"#c51b7d\"], [0.2, \"#de77ae\"], [0.3, \"#f1b6da\"], [0.4, \"#fde0ef\"], [0.5, \"#f7f7f7\"], [0.6, \"#e6f5d0\"], [0.7, \"#b8e186\"], [0.8, \"#7fbc41\"], [0.9, \"#4d9221\"], [1, \"#276419\"]], \"sequential\": [[0.0, \"#0508b8\"], [0.0893854748603352, \"#1910d8\"], [0.1787709497206704, \"#3c19f0\"], [0.2681564245810056, \"#6b1cfb\"], [0.3575418994413408, \"#981cfd\"], [0.44692737430167595, \"#bf1cfd\"], [0.5363128491620112, \"#dd2bfd\"], [0.6256983240223464, \"#f246fe\"], [0.7150837988826816, \"#fc67fd\"], [0.8044692737430168, \"#fe88fc\"], [0.8938547486033519, \"#fea5fd\"], [0.9832402234636871, \"#febefe\"], [1.0, \"#fec3fe\"]], \"sequentialminus\": [[0.0, \"#0508b8\"], [0.0893854748603352, \"#1910d8\"], [0.1787709497206704, \"#3c19f0\"], [0.2681564245810056, \"#6b1cfb\"], [0.3575418994413408, \"#981cfd\"], [0.44692737430167595, \"#bf1cfd\"], [0.5363128491620112, \"#dd2bfd\"], [0.6256983240223464, \"#f246fe\"], [0.7150837988826816, \"#fc67fd\"], [0.8044692737430168, \"#fe88fc\"], [0.8938547486033519, \"#fea5fd\"], [0.9832402234636871, \"#febefe\"], [1.0, \"#fec3fe\"]]}, \"colorway\": [\"#636efa\", \"#EF553B\", \"#00cc96\", \"#ab63fa\", \"#19d3f3\", \"#e763fa\", \"#FECB52\", \"#FFA15A\", \"#FF6692\", \"#B6E880\"], \"font\": {\"color\": \"#2a3f5f\"}, \"geo\": {\"bgcolor\": \"white\", \"lakecolor\": \"white\", \"landcolor\": \"#E5ECF6\", \"showlakes\": true, \"showland\": true, \"subunitcolor\": \"white\"}, \"hovermode\": \"closest\", \"mapbox\": {\"style\": \"light\"}, \"paper_bgcolor\": \"white\", \"plot_bgcolor\": \"#E5ECF6\", \"polar\": {\"angularaxis\": {\"gridcolor\": \"white\", \"linecolor\": \"white\", \"ticks\": \"\"}, \"bgcolor\": \"#E5ECF6\", \"radialaxis\": {\"gridcolor\": \"white\", \"linecolor\": \"white\", \"ticks\": \"\"}}, \"scene\": {\"xaxis\": {\"backgroundcolor\": \"#E5ECF6\", \"gridcolor\": \"white\", \"gridwidth\": 2, \"linecolor\": \"white\", \"showbackground\": true, \"ticks\": \"\", \"zerolinecolor\": \"white\"}, \"yaxis\": {\"backgroundcolor\": \"#E5ECF6\", \"gridcolor\": \"white\", \"gridwidth\": 2, \"linecolor\": \"white\", \"showbackground\": true, \"ticks\": \"\", \"zerolinecolor\": \"white\"}, \"zaxis\": {\"backgroundcolor\": \"#E5ECF6\", \"gridcolor\": \"white\", \"gridwidth\": 2, \"linecolor\": \"white\", \"showbackground\": true, \"ticks\": \"\", \"zerolinecolor\": \"white\"}}, \"shapedefaults\": {\"fillcolor\": \"#506784\", \"line\": {\"width\": 0}, \"opacity\": 0.4}, \"ternary\": {\"aaxis\": {\"gridcolor\": \"white\", \"linecolor\": \"white\", \"ticks\": \"\"}, \"baxis\": {\"gridcolor\": \"white\", \"linecolor\": \"white\", \"ticks\": \"\"}, \"bgcolor\": \"#E5ECF6\", \"caxis\": {\"gridcolor\": \"white\", \"linecolor\": \"white\", \"ticks\": \"\"}}, \"title\": {\"x\": 0.05}, \"xaxis\": {\"automargin\": true, \"gridcolor\": \"white\", \"linecolor\": \"white\", \"ticks\": \"\", \"zerolinecolor\": \"white\", \"zerolinewidth\": 2}, \"yaxis\": {\"automargin\": true, \"gridcolor\": \"white\", \"linecolor\": \"white\", \"ticks\": \"\", \"zerolinecolor\": \"white\", \"zerolinewidth\": 2}}}, \"polar\": {\"angularaxis\": {\"direction\": \"clockwise\", \"rotation\": 90}}}, {\"showLink\": false, \"linkText\": \"Export to plot.ly\", \"plotlyServerURL\": \"https://plot.ly\"}); \n",
       "}\n",
       "});</script><script type=\"text/javascript\">window.addEventListener(\"resize\", function(){if (document.getElementById(\"b08073d0-5dad-4b7c-a11f-13705121ba2d\")) {window._Plotly.Plots.resize(document.getElementById(\"b08073d0-5dad-4b7c-a11f-13705121ba2d\"));};})</script>"
      ]
     },
     "metadata": {},
     "output_type": "display_data"
    },
    {
     "name": "stdout",
     "output_type": "stream",
     "text": [
      "Comparando la pregunta Nacionalidad\n"
     ]
    },
    {
     "data": {
      "application/vnd.plotly.v1+json": {
       "config": {
        "linkText": "Export to plot.ly",
        "plotlyServerURL": "https://plot.ly",
        "showLink": false
       },
       "data": [
        {
         "hovertemplate": "Nacionalidad=Albania<br>counts=%{r}<br>cultural_cluster=%{theta}<extra></extra>",
         "legendgroup": "Nacionalidad=Albania",
         "marker": {
          "color": "rgb(213,62,79)"
         },
         "name": "Nacionalidad=Albania",
         "r": [
          1
         ],
         "showlegend": true,
         "theta": [
          "cluster_2"
         ],
         "type": "barpolar",
         "uid": "cf24dccf-917a-4f01-8e07-fe22145f3fa5"
        },
        {
         "hovertemplate": "Nacionalidad=Alemania<br>counts=%{r}<br>cultural_cluster=%{theta}<extra></extra>",
         "legendgroup": "Nacionalidad=Alemania",
         "marker": {
          "color": "rgb(252,141,89)"
         },
         "name": "Nacionalidad=Alemania",
         "r": [
          1
         ],
         "showlegend": true,
         "theta": [
          "cluster_4"
         ],
         "type": "barpolar",
         "uid": "b98cb8e8-7bf3-480a-b190-d122d9a519d4"
        },
        {
         "hovertemplate": "Nacionalidad=Argentina<br>counts=%{r}<br>cultural_cluster=%{theta}<extra></extra>",
         "legendgroup": "Nacionalidad=Argentina",
         "marker": {
          "color": "rgb(254,224,139)"
         },
         "name": "Nacionalidad=Argentina",
         "r": [
          1
         ],
         "showlegend": true,
         "theta": [
          "cluster_1"
         ],
         "type": "barpolar",
         "uid": "79aaebf4-035a-4bb6-8206-c722da107944"
        },
        {
         "hovertemplate": "Nacionalidad=Australia<br>counts=%{r}<br>cultural_cluster=%{theta}<extra></extra>",
         "legendgroup": "Nacionalidad=Australia",
         "marker": {
          "color": "rgb(230,245,152)"
         },
         "name": "Nacionalidad=Australia",
         "r": [
          1
         ],
         "showlegend": true,
         "theta": [
          "cluster_1"
         ],
         "type": "barpolar",
         "uid": "552e390b-0673-44fe-90a9-524f376e902b"
        },
        {
         "hovertemplate": "Nacionalidad=Austria<br>counts=%{r}<br>cultural_cluster=%{theta}<extra></extra>",
         "legendgroup": "Nacionalidad=Austria",
         "marker": {
          "color": "rgb(153,213,148)"
         },
         "name": "Nacionalidad=Austria",
         "r": [
          1
         ],
         "showlegend": true,
         "theta": [
          "cluster_1"
         ],
         "type": "barpolar",
         "uid": "6ec02978-7281-44c7-aa01-13d8ce495d7b"
        },
        {
         "hovertemplate": "Nacionalidad=Bahamas<br>counts=%{r}<br>cultural_cluster=%{theta}<extra></extra>",
         "legendgroup": "Nacionalidad=Bahamas",
         "marker": {
          "color": "rgb(50,136,189)"
         },
         "name": "Nacionalidad=Bahamas",
         "r": [
          1
         ],
         "showlegend": true,
         "theta": [
          "cluster_2"
         ],
         "type": "barpolar",
         "uid": "2bcff89b-7f50-4509-8cf0-0fa3e953d309"
        },
        {
         "hovertemplate": "Nacionalidad=Brasil<br>counts=%{r}<br>cultural_cluster=%{theta}<extra></extra>",
         "legendgroup": "Nacionalidad=Brasil",
         "marker": {
          "color": "rgb(213,62,79)"
         },
         "name": "Nacionalidad=Brasil",
         "r": [
          2,
          1
         ],
         "showlegend": true,
         "theta": [
          "cluster_1",
          "cluster_2"
         ],
         "type": "barpolar",
         "uid": "f838132e-682a-40d1-b4a6-ece0a82f958c"
        },
        {
         "hovertemplate": "Nacionalidad=Canadá<br>counts=%{r}<br>cultural_cluster=%{theta}<extra></extra>",
         "legendgroup": "Nacionalidad=Canadá",
         "marker": {
          "color": "rgb(252,141,89)"
         },
         "name": "Nacionalidad=Canadá",
         "r": [
          4,
          4,
          1
         ],
         "showlegend": true,
         "theta": [
          "cluster_1",
          "cluster_2",
          "cluster_4"
         ],
         "type": "barpolar",
         "uid": "fbf4dfb2-f951-4743-98e9-02ea0c41713b"
        },
        {
         "hovertemplate": "Nacionalidad=Chile<br>counts=%{r}<br>cultural_cluster=%{theta}<extra></extra>",
         "legendgroup": "Nacionalidad=Chile",
         "marker": {
          "color": "rgb(254,224,139)"
         },
         "name": "Nacionalidad=Chile",
         "r": [
          1
         ],
         "showlegend": true,
         "theta": [
          "cluster_1"
         ],
         "type": "barpolar",
         "uid": "1082f991-99f1-420f-8e83-bfbec09e1178"
        },
        {
         "hovertemplate": "Nacionalidad=China<br>counts=%{r}<br>cultural_cluster=%{theta}<extra></extra>",
         "legendgroup": "Nacionalidad=China",
         "marker": {
          "color": "rgb(230,245,152)"
         },
         "name": "Nacionalidad=China",
         "r": [
          1
         ],
         "showlegend": true,
         "theta": [
          "cluster_3"
         ],
         "type": "barpolar",
         "uid": "82baabcc-d06c-44ba-9fc1-a5628de50322"
        },
        {
         "hovertemplate": "Nacionalidad=Colombia<br>counts=%{r}<br>cultural_cluster=%{theta}<extra></extra>",
         "legendgroup": "Nacionalidad=Colombia",
         "marker": {
          "color": "rgb(153,213,148)"
         },
         "name": "Nacionalidad=Colombia",
         "r": [
          1
         ],
         "showlegend": true,
         "theta": [
          "cluster_1"
         ],
         "type": "barpolar",
         "uid": "8a5cb94b-baed-4998-b7f2-fe9ec1f6a233"
        },
        {
         "hovertemplate": "Nacionalidad=Cuba<br>counts=%{r}<br>cultural_cluster=%{theta}<extra></extra>",
         "legendgroup": "Nacionalidad=Cuba",
         "marker": {
          "color": "rgb(50,136,189)"
         },
         "name": "Nacionalidad=Cuba",
         "r": [
          1
         ],
         "showlegend": true,
         "theta": [
          "cluster_1"
         ],
         "type": "barpolar",
         "uid": "ff8d903e-f3c8-4cf6-a022-547df770dda8"
        },
        {
         "hovertemplate": "Nacionalidad=Escocia<br>counts=%{r}<br>cultural_cluster=%{theta}<extra></extra>",
         "legendgroup": "Nacionalidad=Escocia",
         "marker": {
          "color": "rgb(213,62,79)"
         },
         "name": "Nacionalidad=Escocia",
         "r": [
          1
         ],
         "showlegend": true,
         "theta": [
          "cluster_1"
         ],
         "type": "barpolar",
         "uid": "428b1056-76af-4c87-9608-553371bffaa7"
        },
        {
         "hovertemplate": "Nacionalidad=Eslovaquia<br>counts=%{r}<br>cultural_cluster=%{theta}<extra></extra>",
         "legendgroup": "Nacionalidad=Eslovaquia",
         "marker": {
          "color": "rgb(252,141,89)"
         },
         "name": "Nacionalidad=Eslovaquia",
         "r": [
          1
         ],
         "showlegend": true,
         "theta": [
          "cluster_2"
         ],
         "type": "barpolar",
         "uid": "f193e25f-deda-4db7-8892-f3f4bf307e59"
        },
        {
         "hovertemplate": "Nacionalidad=España<br>counts=%{r}<br>cultural_cluster=%{theta}<extra></extra>",
         "legendgroup": "Nacionalidad=España",
         "marker": {
          "color": "rgb(254,224,139)"
         },
         "name": "Nacionalidad=España",
         "r": [
          90,
          56,
          3,
          67,
          1
         ],
         "showlegend": true,
         "theta": [
          "cluster_1",
          "cluster_2",
          "cluster_3",
          "cluster_4",
          "cluster_5"
         ],
         "type": "barpolar",
         "uid": "553d46d7-016a-4f28-9947-8889b3119350"
        },
        {
         "hovertemplate": "Nacionalidad=Estados Unidos de América<br>counts=%{r}<br>cultural_cluster=%{theta}<extra></extra>",
         "legendgroup": "Nacionalidad=Estados Unidos de América",
         "marker": {
          "color": "rgb(230,245,152)"
         },
         "name": "Nacionalidad=Estados Unidos de América",
         "r": [
          71,
          130,
          14,
          91
         ],
         "showlegend": true,
         "theta": [
          "cluster_1",
          "cluster_2",
          "cluster_3",
          "cluster_4"
         ],
         "type": "barpolar",
         "uid": "be656bcd-897d-4a0e-8e41-0bd37c6a4650"
        },
        {
         "hovertemplate": "Nacionalidad=Francia<br>counts=%{r}<br>cultural_cluster=%{theta}<extra></extra>",
         "legendgroup": "Nacionalidad=Francia",
         "marker": {
          "color": "rgb(153,213,148)"
         },
         "name": "Nacionalidad=Francia",
         "r": [
          11,
          5,
          3
         ],
         "showlegend": true,
         "theta": [
          "cluster_1",
          "cluster_2",
          "cluster_4"
         ],
         "type": "barpolar",
         "uid": "e2c76c3d-f0a2-45ff-9b2f-c525b24a1d44"
        },
        {
         "hovertemplate": "Nacionalidad=India<br>counts=%{r}<br>cultural_cluster=%{theta}<extra></extra>",
         "legendgroup": "Nacionalidad=India",
         "marker": {
          "color": "rgb(50,136,189)"
         },
         "name": "Nacionalidad=India",
         "r": [
          17,
          61,
          6,
          36
         ],
         "showlegend": true,
         "theta": [
          "cluster_1",
          "cluster_2",
          "cluster_3",
          "cluster_4"
         ],
         "type": "barpolar",
         "uid": "65fe0dba-3d90-427d-a7a4-ce260b7639c0"
        },
        {
         "hovertemplate": "Nacionalidad=Indonesia<br>counts=%{r}<br>cultural_cluster=%{theta}<extra></extra>",
         "legendgroup": "Nacionalidad=Indonesia",
         "marker": {
          "color": "rgb(213,62,79)"
         },
         "name": "Nacionalidad=Indonesia",
         "r": [
          1
         ],
         "showlegend": true,
         "theta": [
          "cluster_1"
         ],
         "type": "barpolar",
         "uid": "fbebc505-34ee-4a9f-97b9-6addd350bcb2"
        },
        {
         "hovertemplate": "Nacionalidad=Inglaterra<br>counts=%{r}<br>cultural_cluster=%{theta}<extra></extra>",
         "legendgroup": "Nacionalidad=Inglaterra",
         "marker": {
          "color": "rgb(252,141,89)"
         },
         "name": "Nacionalidad=Inglaterra",
         "r": [
          2,
          7,
          1
         ],
         "showlegend": true,
         "theta": [
          "cluster_1",
          "cluster_2",
          "cluster_4"
         ],
         "type": "barpolar",
         "uid": "7e56494e-9c80-4e43-afc3-d00ae2759258"
        },
        {
         "hovertemplate": "Nacionalidad=Irlanda<br>counts=%{r}<br>cultural_cluster=%{theta}<extra></extra>",
         "legendgroup": "Nacionalidad=Irlanda",
         "marker": {
          "color": "rgb(254,224,139)"
         },
         "name": "Nacionalidad=Irlanda",
         "r": [
          1,
          1
         ],
         "showlegend": true,
         "theta": [
          "cluster_1",
          "cluster_2"
         ],
         "type": "barpolar",
         "uid": "de101c5b-9ce8-4008-9c72-6d00027a668f"
        },
        {
         "hovertemplate": "Nacionalidad=Islandia<br>counts=%{r}<br>cultural_cluster=%{theta}<extra></extra>",
         "legendgroup": "Nacionalidad=Islandia",
         "marker": {
          "color": "rgb(230,245,152)"
         },
         "name": "Nacionalidad=Islandia",
         "r": [
          1
         ],
         "showlegend": true,
         "theta": [
          "cluster_2"
         ],
         "type": "barpolar",
         "uid": "b9e4b760-32d4-45e5-a13e-1d9738a563de"
        },
        {
         "hovertemplate": "Nacionalidad=Italia<br>counts=%{r}<br>cultural_cluster=%{theta}<extra></extra>",
         "legendgroup": "Nacionalidad=Italia",
         "marker": {
          "color": "rgb(153,213,148)"
         },
         "name": "Nacionalidad=Italia",
         "r": [
          3,
          5,
          3
         ],
         "showlegend": true,
         "theta": [
          "cluster_1",
          "cluster_2",
          "cluster_4"
         ],
         "type": "barpolar",
         "uid": "22de73eb-e7d2-4205-ada8-42dc1b1dd277"
        },
        {
         "hovertemplate": "Nacionalidad=Macedonia<br>counts=%{r}<br>cultural_cluster=%{theta}<extra></extra>",
         "legendgroup": "Nacionalidad=Macedonia",
         "marker": {
          "color": "rgb(50,136,189)"
         },
         "name": "Nacionalidad=Macedonia",
         "r": [
          1
         ],
         "showlegend": true,
         "theta": [
          "cluster_2"
         ],
         "type": "barpolar",
         "uid": "42337a9c-9603-4d10-88f8-e4db4d5eac7d"
        },
        {
         "hovertemplate": "Nacionalidad=México<br>counts=%{r}<br>cultural_cluster=%{theta}<extra></extra>",
         "legendgroup": "Nacionalidad=México",
         "marker": {
          "color": "rgb(213,62,79)"
         },
         "name": "Nacionalidad=México",
         "r": [
          1
         ],
         "showlegend": true,
         "theta": [
          "cluster_2"
         ],
         "type": "barpolar",
         "uid": "e1e6ca5d-842f-4cea-a6a0-b92521659ce0"
        },
        {
         "hovertemplate": "Nacionalidad=Nigeria<br>counts=%{r}<br>cultural_cluster=%{theta}<extra></extra>",
         "legendgroup": "Nacionalidad=Nigeria",
         "marker": {
          "color": "rgb(252,141,89)"
         },
         "name": "Nacionalidad=Nigeria",
         "r": [
          1,
          3
         ],
         "showlegend": true,
         "theta": [
          "cluster_1",
          "cluster_4"
         ],
         "type": "barpolar",
         "uid": "e4c8586b-e89b-4dbb-b0e5-58d709e7901a"
        },
        {
         "hovertemplate": "Nacionalidad=Nueva Zelanda<br>counts=%{r}<br>cultural_cluster=%{theta}<extra></extra>",
         "legendgroup": "Nacionalidad=Nueva Zelanda",
         "marker": {
          "color": "rgb(254,224,139)"
         },
         "name": "Nacionalidad=Nueva Zelanda",
         "r": [
          1
         ],
         "showlegend": true,
         "theta": [
          "cluster_2"
         ],
         "type": "barpolar",
         "uid": "594a1aa2-83b1-44af-ac33-a6913f823cf7"
        },
        {
         "hovertemplate": "Nacionalidad=Paquistan<br>counts=%{r}<br>cultural_cluster=%{theta}<extra></extra>",
         "legendgroup": "Nacionalidad=Paquistan",
         "marker": {
          "color": "rgb(230,245,152)"
         },
         "name": "Nacionalidad=Paquistan",
         "r": [
          1
         ],
         "showlegend": true,
         "theta": [
          "cluster_2"
         ],
         "type": "barpolar",
         "uid": "753dedd7-a9f1-42cb-964b-aaa144b32b40"
        },
        {
         "hovertemplate": "Nacionalidad=República Dominicana<br>counts=%{r}<br>cultural_cluster=%{theta}<extra></extra>",
         "legendgroup": "Nacionalidad=República Dominicana",
         "marker": {
          "color": "rgb(153,213,148)"
         },
         "name": "Nacionalidad=República Dominicana",
         "r": [
          2
         ],
         "showlegend": true,
         "theta": [
          "cluster_1"
         ],
         "type": "barpolar",
         "uid": "a9543e1a-8ed6-4809-98a2-46ce7093e74e"
        },
        {
         "hovertemplate": "Nacionalidad=Rusia<br>counts=%{r}<br>cultural_cluster=%{theta}<extra></extra>",
         "legendgroup": "Nacionalidad=Rusia",
         "marker": {
          "color": "rgb(50,136,189)"
         },
         "name": "Nacionalidad=Rusia",
         "r": [
          1,
          1
         ],
         "showlegend": true,
         "theta": [
          "cluster_1",
          "cluster_2"
         ],
         "type": "barpolar",
         "uid": "befa98b8-401d-4c93-8ee2-33c3ff2aba2e"
        },
        {
         "hovertemplate": "Nacionalidad=Sudán<br>counts=%{r}<br>cultural_cluster=%{theta}<extra></extra>",
         "legendgroup": "Nacionalidad=Sudán",
         "marker": {
          "color": "rgb(213,62,79)"
         },
         "name": "Nacionalidad=Sudán",
         "r": [
          1
         ],
         "showlegend": true,
         "theta": [
          "cluster_1"
         ],
         "type": "barpolar",
         "uid": "0ade7f77-a5a1-4f5d-af23-e9b1a4b6c54a"
        },
        {
         "hovertemplate": "Nacionalidad=Ukrania<br>counts=%{r}<br>cultural_cluster=%{theta}<extra></extra>",
         "legendgroup": "Nacionalidad=Ukrania",
         "marker": {
          "color": "rgb(252,141,89)"
         },
         "name": "Nacionalidad=Ukrania",
         "r": [
          1
         ],
         "showlegend": true,
         "theta": [
          "cluster_4"
         ],
         "type": "barpolar",
         "uid": "022b8fbf-5236-4ec0-9372-a9774b9e11ce"
        },
        {
         "hovertemplate": "Nacionalidad=Unknown<br>counts=%{r}<br>cultural_cluster=%{theta}<extra></extra>",
         "legendgroup": "Nacionalidad=Unknown",
         "marker": {
          "color": "rgb(254,224,139)"
         },
         "name": "Nacionalidad=Unknown",
         "r": [
          9,
          18,
          3,
          8
         ],
         "showlegend": true,
         "theta": [
          "cluster_1",
          "cluster_2",
          "cluster_3",
          "cluster_4"
         ],
         "type": "barpolar",
         "uid": "6a27ac7b-846e-42ea-a5c9-ee7d39c7099a"
        },
        {
         "hovertemplate": "Nacionalidad=Venezuela<br>counts=%{r}<br>cultural_cluster=%{theta}<extra></extra>",
         "legendgroup": "Nacionalidad=Venezuela",
         "marker": {
          "color": "rgb(230,245,152)"
         },
         "name": "Nacionalidad=Venezuela",
         "r": [
          4
         ],
         "showlegend": true,
         "theta": [
          "cluster_2"
         ],
         "type": "barpolar",
         "uid": "8ec260c0-979c-4d2e-afbb-cf93338ff211"
        }
       ],
       "layout": {
        "barmode": "group",
        "barnorm": "",
        "height": 600,
        "legend": {
         "tracegroupgap": 0
        },
        "margin": {
         "t": 60
        },
        "polar": {
         "angularaxis": {
          "direction": "clockwise",
          "rotation": 90
         }
        },
        "template": {
         "data": {
          "bar": [
           {
            "marker": {
             "line": {
              "color": "#E5ECF6",
              "width": 0.5
             }
            },
            "type": "bar"
           }
          ],
          "barpolar": [
           {
            "marker": {
             "line": {
              "color": "#E5ECF6",
              "width": 0.5
             }
            },
            "type": "barpolar"
           }
          ],
          "carpet": [
           {
            "aaxis": {
             "endlinecolor": "#2a3f5f",
             "gridcolor": "white",
             "linecolor": "white",
             "minorgridcolor": "white",
             "startlinecolor": "#2a3f5f"
            },
            "baxis": {
             "endlinecolor": "#2a3f5f",
             "gridcolor": "white",
             "linecolor": "white",
             "minorgridcolor": "white",
             "startlinecolor": "#2a3f5f"
            },
            "type": "carpet"
           }
          ],
          "choropleth": [
           {
            "colorbar": {
             "outlinewidth": 0,
             "ticks": ""
            },
            "type": "choropleth"
           }
          ],
          "contour": [
           {
            "autocolorscale": true,
            "colorbar": {
             "outlinewidth": 0,
             "ticks": ""
            },
            "type": "contour"
           }
          ],
          "contourcarpet": [
           {
            "colorbar": {
             "outlinewidth": 0,
             "ticks": ""
            },
            "type": "contourcarpet"
           }
          ],
          "heatmap": [
           {
            "autocolorscale": true,
            "colorbar": {
             "outlinewidth": 0,
             "ticks": ""
            },
            "type": "heatmap"
           }
          ],
          "heatmapgl": [
           {
            "colorbar": {
             "outlinewidth": 0,
             "ticks": ""
            },
            "type": "heatmapgl"
           }
          ],
          "histogram": [
           {
            "marker": {
             "colorbar": {
              "outlinewidth": 0,
              "ticks": ""
             }
            },
            "type": "histogram"
           }
          ],
          "histogram2d": [
           {
            "autocolorscale": true,
            "colorbar": {
             "outlinewidth": 0,
             "ticks": ""
            },
            "type": "histogram2d"
           }
          ],
          "histogram2dcontour": [
           {
            "autocolorscale": true,
            "colorbar": {
             "outlinewidth": 0,
             "ticks": ""
            },
            "type": "histogram2dcontour"
           }
          ],
          "mesh3d": [
           {
            "colorbar": {
             "outlinewidth": 0,
             "ticks": ""
            },
            "type": "mesh3d"
           }
          ],
          "parcoords": [
           {
            "line": {
             "colorbar": {
              "outlinewidth": 0,
              "ticks": ""
             }
            },
            "type": "parcoords"
           }
          ],
          "scatter": [
           {
            "marker": {
             "colorbar": {
              "outlinewidth": 0,
              "ticks": ""
             }
            },
            "type": "scatter"
           }
          ],
          "scatter3d": [
           {
            "marker": {
             "colorbar": {
              "outlinewidth": 0,
              "ticks": ""
             }
            },
            "type": "scatter3d"
           }
          ],
          "scattercarpet": [
           {
            "marker": {
             "colorbar": {
              "outlinewidth": 0,
              "ticks": ""
             }
            },
            "type": "scattercarpet"
           }
          ],
          "scattergeo": [
           {
            "marker": {
             "colorbar": {
              "outlinewidth": 0,
              "ticks": ""
             }
            },
            "type": "scattergeo"
           }
          ],
          "scattergl": [
           {
            "marker": {
             "colorbar": {
              "outlinewidth": 0,
              "ticks": ""
             }
            },
            "type": "scattergl"
           }
          ],
          "scattermapbox": [
           {
            "marker": {
             "colorbar": {
              "outlinewidth": 0,
              "ticks": ""
             }
            },
            "type": "scattermapbox"
           }
          ],
          "scatterpolar": [
           {
            "marker": {
             "colorbar": {
              "outlinewidth": 0,
              "ticks": ""
             }
            },
            "type": "scatterpolar"
           }
          ],
          "scatterpolargl": [
           {
            "marker": {
             "colorbar": {
              "outlinewidth": 0,
              "ticks": ""
             }
            },
            "type": "scatterpolargl"
           }
          ],
          "scatterternary": [
           {
            "marker": {
             "colorbar": {
              "outlinewidth": 0,
              "ticks": ""
             }
            },
            "type": "scatterternary"
           }
          ],
          "surface": [
           {
            "colorbar": {
             "outlinewidth": 0,
             "ticks": ""
            },
            "type": "surface"
           }
          ],
          "table": [
           {
            "cells": {
             "fill": {
              "color": "#EBF0F8"
             },
             "line": {
              "color": "white"
             }
            },
            "header": {
             "fill": {
              "color": "#C8D4E3"
             },
             "line": {
              "color": "white"
             }
            },
            "type": "table"
           }
          ]
         },
         "layout": {
          "annotationdefaults": {
           "arrowcolor": "#506784",
           "arrowhead": 0,
           "arrowwidth": 1
          },
          "colorscale": {
           "diverging": [
            [
             0,
             "#8e0152"
            ],
            [
             0.1,
             "#c51b7d"
            ],
            [
             0.2,
             "#de77ae"
            ],
            [
             0.3,
             "#f1b6da"
            ],
            [
             0.4,
             "#fde0ef"
            ],
            [
             0.5,
             "#f7f7f7"
            ],
            [
             0.6,
             "#e6f5d0"
            ],
            [
             0.7,
             "#b8e186"
            ],
            [
             0.8,
             "#7fbc41"
            ],
            [
             0.9,
             "#4d9221"
            ],
            [
             1,
             "#276419"
            ]
           ],
           "sequential": [
            [
             0,
             "#0508b8"
            ],
            [
             0.0893854748603352,
             "#1910d8"
            ],
            [
             0.1787709497206704,
             "#3c19f0"
            ],
            [
             0.2681564245810056,
             "#6b1cfb"
            ],
            [
             0.3575418994413408,
             "#981cfd"
            ],
            [
             0.44692737430167595,
             "#bf1cfd"
            ],
            [
             0.5363128491620112,
             "#dd2bfd"
            ],
            [
             0.6256983240223464,
             "#f246fe"
            ],
            [
             0.7150837988826816,
             "#fc67fd"
            ],
            [
             0.8044692737430168,
             "#fe88fc"
            ],
            [
             0.8938547486033519,
             "#fea5fd"
            ],
            [
             0.9832402234636871,
             "#febefe"
            ],
            [
             1,
             "#fec3fe"
            ]
           ],
           "sequentialminus": [
            [
             0,
             "#0508b8"
            ],
            [
             0.0893854748603352,
             "#1910d8"
            ],
            [
             0.1787709497206704,
             "#3c19f0"
            ],
            [
             0.2681564245810056,
             "#6b1cfb"
            ],
            [
             0.3575418994413408,
             "#981cfd"
            ],
            [
             0.44692737430167595,
             "#bf1cfd"
            ],
            [
             0.5363128491620112,
             "#dd2bfd"
            ],
            [
             0.6256983240223464,
             "#f246fe"
            ],
            [
             0.7150837988826816,
             "#fc67fd"
            ],
            [
             0.8044692737430168,
             "#fe88fc"
            ],
            [
             0.8938547486033519,
             "#fea5fd"
            ],
            [
             0.9832402234636871,
             "#febefe"
            ],
            [
             1,
             "#fec3fe"
            ]
           ]
          },
          "colorway": [
           "#636efa",
           "#EF553B",
           "#00cc96",
           "#ab63fa",
           "#19d3f3",
           "#e763fa",
           "#FECB52",
           "#FFA15A",
           "#FF6692",
           "#B6E880"
          ],
          "font": {
           "color": "#2a3f5f"
          },
          "geo": {
           "bgcolor": "white",
           "lakecolor": "white",
           "landcolor": "#E5ECF6",
           "showlakes": true,
           "showland": true,
           "subunitcolor": "white"
          },
          "hovermode": "closest",
          "mapbox": {
           "style": "light"
          },
          "paper_bgcolor": "white",
          "plot_bgcolor": "#E5ECF6",
          "polar": {
           "angularaxis": {
            "gridcolor": "white",
            "linecolor": "white",
            "ticks": ""
           },
           "bgcolor": "#E5ECF6",
           "radialaxis": {
            "gridcolor": "white",
            "linecolor": "white",
            "ticks": ""
           }
          },
          "scene": {
           "xaxis": {
            "backgroundcolor": "#E5ECF6",
            "gridcolor": "white",
            "gridwidth": 2,
            "linecolor": "white",
            "showbackground": true,
            "ticks": "",
            "zerolinecolor": "white"
           },
           "yaxis": {
            "backgroundcolor": "#E5ECF6",
            "gridcolor": "white",
            "gridwidth": 2,
            "linecolor": "white",
            "showbackground": true,
            "ticks": "",
            "zerolinecolor": "white"
           },
           "zaxis": {
            "backgroundcolor": "#E5ECF6",
            "gridcolor": "white",
            "gridwidth": 2,
            "linecolor": "white",
            "showbackground": true,
            "ticks": "",
            "zerolinecolor": "white"
           }
          },
          "shapedefaults": {
           "fillcolor": "#506784",
           "line": {
            "width": 0
           },
           "opacity": 0.4
          },
          "ternary": {
           "aaxis": {
            "gridcolor": "white",
            "linecolor": "white",
            "ticks": ""
           },
           "baxis": {
            "gridcolor": "white",
            "linecolor": "white",
            "ticks": ""
           },
           "bgcolor": "#E5ECF6",
           "caxis": {
            "gridcolor": "white",
            "linecolor": "white",
            "ticks": ""
           }
          },
          "title": {
           "x": 0.05
          },
          "xaxis": {
           "automargin": true,
           "gridcolor": "white",
           "linecolor": "white",
           "ticks": "",
           "zerolinecolor": "white",
           "zerolinewidth": 2
          },
          "yaxis": {
           "automargin": true,
           "gridcolor": "white",
           "linecolor": "white",
           "ticks": "",
           "zerolinecolor": "white",
           "zerolinewidth": 2
          }
         }
        }
       }
      },
      "text/html": [
       "<div id=\"59ba1bdc-7731-43c6-925d-f73c229eb8af\" style=\"height: 600px; width: 100%;\" class=\"plotly-graph-div\"></div><script type=\"text/javascript\">require([\"plotly\"], function(Plotly) { window.PLOTLYENV=window.PLOTLYENV || {};window.PLOTLYENV.BASE_URL=\"https://plot.ly\";\n",
       "if (document.getElementById(\"59ba1bdc-7731-43c6-925d-f73c229eb8af\")) {\n",
       "    Plotly.newPlot(\"59ba1bdc-7731-43c6-925d-f73c229eb8af\", [{\"hovertemplate\": \"Nacionalidad=Albania<br>counts=%{r}<br>cultural_cluster=%{theta}<extra></extra>\", \"legendgroup\": \"Nacionalidad=Albania\", \"marker\": {\"color\": \"rgb(213,62,79)\"}, \"name\": \"Nacionalidad=Albania\", \"r\": [1], \"showlegend\": true, \"theta\": [\"cluster_2\"], \"type\": \"barpolar\", \"uid\": \"cf24dccf-917a-4f01-8e07-fe22145f3fa5\"}, {\"hovertemplate\": \"Nacionalidad=Alemania<br>counts=%{r}<br>cultural_cluster=%{theta}<extra></extra>\", \"legendgroup\": \"Nacionalidad=Alemania\", \"marker\": {\"color\": \"rgb(252,141,89)\"}, \"name\": \"Nacionalidad=Alemania\", \"r\": [1], \"showlegend\": true, \"theta\": [\"cluster_4\"], \"type\": \"barpolar\", \"uid\": \"b98cb8e8-7bf3-480a-b190-d122d9a519d4\"}, {\"hovertemplate\": \"Nacionalidad=Argentina<br>counts=%{r}<br>cultural_cluster=%{theta}<extra></extra>\", \"legendgroup\": \"Nacionalidad=Argentina\", \"marker\": {\"color\": \"rgb(254,224,139)\"}, \"name\": \"Nacionalidad=Argentina\", \"r\": [1], \"showlegend\": true, \"theta\": [\"cluster_1\"], \"type\": \"barpolar\", \"uid\": \"79aaebf4-035a-4bb6-8206-c722da107944\"}, {\"hovertemplate\": \"Nacionalidad=Australia<br>counts=%{r}<br>cultural_cluster=%{theta}<extra></extra>\", \"legendgroup\": \"Nacionalidad=Australia\", \"marker\": {\"color\": \"rgb(230,245,152)\"}, \"name\": \"Nacionalidad=Australia\", \"r\": [1], \"showlegend\": true, \"theta\": [\"cluster_1\"], \"type\": \"barpolar\", \"uid\": \"552e390b-0673-44fe-90a9-524f376e902b\"}, {\"hovertemplate\": \"Nacionalidad=Austria<br>counts=%{r}<br>cultural_cluster=%{theta}<extra></extra>\", \"legendgroup\": \"Nacionalidad=Austria\", \"marker\": {\"color\": \"rgb(153,213,148)\"}, \"name\": \"Nacionalidad=Austria\", \"r\": [1], \"showlegend\": true, \"theta\": [\"cluster_1\"], \"type\": \"barpolar\", \"uid\": \"6ec02978-7281-44c7-aa01-13d8ce495d7b\"}, {\"hovertemplate\": \"Nacionalidad=Bahamas<br>counts=%{r}<br>cultural_cluster=%{theta}<extra></extra>\", \"legendgroup\": \"Nacionalidad=Bahamas\", \"marker\": {\"color\": \"rgb(50,136,189)\"}, \"name\": \"Nacionalidad=Bahamas\", \"r\": [1], \"showlegend\": true, \"theta\": [\"cluster_2\"], \"type\": \"barpolar\", \"uid\": \"2bcff89b-7f50-4509-8cf0-0fa3e953d309\"}, {\"hovertemplate\": \"Nacionalidad=Brasil<br>counts=%{r}<br>cultural_cluster=%{theta}<extra></extra>\", \"legendgroup\": \"Nacionalidad=Brasil\", \"marker\": {\"color\": \"rgb(213,62,79)\"}, \"name\": \"Nacionalidad=Brasil\", \"r\": [2, 1], \"showlegend\": true, \"theta\": [\"cluster_1\", \"cluster_2\"], \"type\": \"barpolar\", \"uid\": \"f838132e-682a-40d1-b4a6-ece0a82f958c\"}, {\"hovertemplate\": \"Nacionalidad=Canad\\u00e1<br>counts=%{r}<br>cultural_cluster=%{theta}<extra></extra>\", \"legendgroup\": \"Nacionalidad=Canad\\u00e1\", \"marker\": {\"color\": \"rgb(252,141,89)\"}, \"name\": \"Nacionalidad=Canad\\u00e1\", \"r\": [4, 4, 1], \"showlegend\": true, \"theta\": [\"cluster_1\", \"cluster_2\", \"cluster_4\"], \"type\": \"barpolar\", \"uid\": \"fbf4dfb2-f951-4743-98e9-02ea0c41713b\"}, {\"hovertemplate\": \"Nacionalidad=Chile<br>counts=%{r}<br>cultural_cluster=%{theta}<extra></extra>\", \"legendgroup\": \"Nacionalidad=Chile\", \"marker\": {\"color\": \"rgb(254,224,139)\"}, \"name\": \"Nacionalidad=Chile\", \"r\": [1], \"showlegend\": true, \"theta\": [\"cluster_1\"], \"type\": \"barpolar\", \"uid\": \"1082f991-99f1-420f-8e83-bfbec09e1178\"}, {\"hovertemplate\": \"Nacionalidad=China<br>counts=%{r}<br>cultural_cluster=%{theta}<extra></extra>\", \"legendgroup\": \"Nacionalidad=China\", \"marker\": {\"color\": \"rgb(230,245,152)\"}, \"name\": \"Nacionalidad=China\", \"r\": [1], \"showlegend\": true, \"theta\": [\"cluster_3\"], \"type\": \"barpolar\", \"uid\": \"82baabcc-d06c-44ba-9fc1-a5628de50322\"}, {\"hovertemplate\": \"Nacionalidad=Colombia<br>counts=%{r}<br>cultural_cluster=%{theta}<extra></extra>\", \"legendgroup\": \"Nacionalidad=Colombia\", \"marker\": {\"color\": \"rgb(153,213,148)\"}, \"name\": \"Nacionalidad=Colombia\", \"r\": [1], \"showlegend\": true, \"theta\": [\"cluster_1\"], \"type\": \"barpolar\", \"uid\": \"8a5cb94b-baed-4998-b7f2-fe9ec1f6a233\"}, {\"hovertemplate\": \"Nacionalidad=Cuba<br>counts=%{r}<br>cultural_cluster=%{theta}<extra></extra>\", \"legendgroup\": \"Nacionalidad=Cuba\", \"marker\": {\"color\": \"rgb(50,136,189)\"}, \"name\": \"Nacionalidad=Cuba\", \"r\": [1], \"showlegend\": true, \"theta\": [\"cluster_1\"], \"type\": \"barpolar\", \"uid\": \"ff8d903e-f3c8-4cf6-a022-547df770dda8\"}, {\"hovertemplate\": \"Nacionalidad=Escocia<br>counts=%{r}<br>cultural_cluster=%{theta}<extra></extra>\", \"legendgroup\": \"Nacionalidad=Escocia\", \"marker\": {\"color\": \"rgb(213,62,79)\"}, \"name\": \"Nacionalidad=Escocia\", \"r\": [1], \"showlegend\": true, \"theta\": [\"cluster_1\"], \"type\": \"barpolar\", \"uid\": \"428b1056-76af-4c87-9608-553371bffaa7\"}, {\"hovertemplate\": \"Nacionalidad=Eslovaquia<br>counts=%{r}<br>cultural_cluster=%{theta}<extra></extra>\", \"legendgroup\": \"Nacionalidad=Eslovaquia\", \"marker\": {\"color\": \"rgb(252,141,89)\"}, \"name\": \"Nacionalidad=Eslovaquia\", \"r\": [1], \"showlegend\": true, \"theta\": [\"cluster_2\"], \"type\": \"barpolar\", \"uid\": \"f193e25f-deda-4db7-8892-f3f4bf307e59\"}, {\"hovertemplate\": \"Nacionalidad=Espa\\u00f1a<br>counts=%{r}<br>cultural_cluster=%{theta}<extra></extra>\", \"legendgroup\": \"Nacionalidad=Espa\\u00f1a\", \"marker\": {\"color\": \"rgb(254,224,139)\"}, \"name\": \"Nacionalidad=Espa\\u00f1a\", \"r\": [90, 56, 3, 67, 1], \"showlegend\": true, \"theta\": [\"cluster_1\", \"cluster_2\", \"cluster_3\", \"cluster_4\", \"cluster_5\"], \"type\": \"barpolar\", \"uid\": \"553d46d7-016a-4f28-9947-8889b3119350\"}, {\"hovertemplate\": \"Nacionalidad=Estados Unidos de Am\\u00e9rica<br>counts=%{r}<br>cultural_cluster=%{theta}<extra></extra>\", \"legendgroup\": \"Nacionalidad=Estados Unidos de Am\\u00e9rica\", \"marker\": {\"color\": \"rgb(230,245,152)\"}, \"name\": \"Nacionalidad=Estados Unidos de Am\\u00e9rica\", \"r\": [71, 130, 14, 91], \"showlegend\": true, \"theta\": [\"cluster_1\", \"cluster_2\", \"cluster_3\", \"cluster_4\"], \"type\": \"barpolar\", \"uid\": \"be656bcd-897d-4a0e-8e41-0bd37c6a4650\"}, {\"hovertemplate\": \"Nacionalidad=Francia<br>counts=%{r}<br>cultural_cluster=%{theta}<extra></extra>\", \"legendgroup\": \"Nacionalidad=Francia\", \"marker\": {\"color\": \"rgb(153,213,148)\"}, \"name\": \"Nacionalidad=Francia\", \"r\": [11, 5, 3], \"showlegend\": true, \"theta\": [\"cluster_1\", \"cluster_2\", \"cluster_4\"], \"type\": \"barpolar\", \"uid\": \"e2c76c3d-f0a2-45ff-9b2f-c525b24a1d44\"}, {\"hovertemplate\": \"Nacionalidad=India<br>counts=%{r}<br>cultural_cluster=%{theta}<extra></extra>\", \"legendgroup\": \"Nacionalidad=India\", \"marker\": {\"color\": \"rgb(50,136,189)\"}, \"name\": \"Nacionalidad=India\", \"r\": [17, 61, 6, 36], \"showlegend\": true, \"theta\": [\"cluster_1\", \"cluster_2\", \"cluster_3\", \"cluster_4\"], \"type\": \"barpolar\", \"uid\": \"65fe0dba-3d90-427d-a7a4-ce260b7639c0\"}, {\"hovertemplate\": \"Nacionalidad=Indonesia<br>counts=%{r}<br>cultural_cluster=%{theta}<extra></extra>\", \"legendgroup\": \"Nacionalidad=Indonesia\", \"marker\": {\"color\": \"rgb(213,62,79)\"}, \"name\": \"Nacionalidad=Indonesia\", \"r\": [1], \"showlegend\": true, \"theta\": [\"cluster_1\"], \"type\": \"barpolar\", \"uid\": \"fbebc505-34ee-4a9f-97b9-6addd350bcb2\"}, {\"hovertemplate\": \"Nacionalidad=Inglaterra<br>counts=%{r}<br>cultural_cluster=%{theta}<extra></extra>\", \"legendgroup\": \"Nacionalidad=Inglaterra\", \"marker\": {\"color\": \"rgb(252,141,89)\"}, \"name\": \"Nacionalidad=Inglaterra\", \"r\": [2, 7, 1], \"showlegend\": true, \"theta\": [\"cluster_1\", \"cluster_2\", \"cluster_4\"], \"type\": \"barpolar\", \"uid\": \"7e56494e-9c80-4e43-afc3-d00ae2759258\"}, {\"hovertemplate\": \"Nacionalidad=Irlanda<br>counts=%{r}<br>cultural_cluster=%{theta}<extra></extra>\", \"legendgroup\": \"Nacionalidad=Irlanda\", \"marker\": {\"color\": \"rgb(254,224,139)\"}, \"name\": \"Nacionalidad=Irlanda\", \"r\": [1, 1], \"showlegend\": true, \"theta\": [\"cluster_1\", \"cluster_2\"], \"type\": \"barpolar\", \"uid\": \"de101c5b-9ce8-4008-9c72-6d00027a668f\"}, {\"hovertemplate\": \"Nacionalidad=Islandia<br>counts=%{r}<br>cultural_cluster=%{theta}<extra></extra>\", \"legendgroup\": \"Nacionalidad=Islandia\", \"marker\": {\"color\": \"rgb(230,245,152)\"}, \"name\": \"Nacionalidad=Islandia\", \"r\": [1], \"showlegend\": true, \"theta\": [\"cluster_2\"], \"type\": \"barpolar\", \"uid\": \"b9e4b760-32d4-45e5-a13e-1d9738a563de\"}, {\"hovertemplate\": \"Nacionalidad=Italia<br>counts=%{r}<br>cultural_cluster=%{theta}<extra></extra>\", \"legendgroup\": \"Nacionalidad=Italia\", \"marker\": {\"color\": \"rgb(153,213,148)\"}, \"name\": \"Nacionalidad=Italia\", \"r\": [3, 5, 3], \"showlegend\": true, \"theta\": [\"cluster_1\", \"cluster_2\", \"cluster_4\"], \"type\": \"barpolar\", \"uid\": \"22de73eb-e7d2-4205-ada8-42dc1b1dd277\"}, {\"hovertemplate\": \"Nacionalidad=Macedonia<br>counts=%{r}<br>cultural_cluster=%{theta}<extra></extra>\", \"legendgroup\": \"Nacionalidad=Macedonia\", \"marker\": {\"color\": \"rgb(50,136,189)\"}, \"name\": \"Nacionalidad=Macedonia\", \"r\": [1], \"showlegend\": true, \"theta\": [\"cluster_2\"], \"type\": \"barpolar\", \"uid\": \"42337a9c-9603-4d10-88f8-e4db4d5eac7d\"}, {\"hovertemplate\": \"Nacionalidad=M\\u00e9xico<br>counts=%{r}<br>cultural_cluster=%{theta}<extra></extra>\", \"legendgroup\": \"Nacionalidad=M\\u00e9xico\", \"marker\": {\"color\": \"rgb(213,62,79)\"}, \"name\": \"Nacionalidad=M\\u00e9xico\", \"r\": [1], \"showlegend\": true, \"theta\": [\"cluster_2\"], \"type\": \"barpolar\", \"uid\": \"e1e6ca5d-842f-4cea-a6a0-b92521659ce0\"}, {\"hovertemplate\": \"Nacionalidad=Nigeria<br>counts=%{r}<br>cultural_cluster=%{theta}<extra></extra>\", \"legendgroup\": \"Nacionalidad=Nigeria\", \"marker\": {\"color\": \"rgb(252,141,89)\"}, \"name\": \"Nacionalidad=Nigeria\", \"r\": [1, 3], \"showlegend\": true, \"theta\": [\"cluster_1\", \"cluster_4\"], \"type\": \"barpolar\", \"uid\": \"e4c8586b-e89b-4dbb-b0e5-58d709e7901a\"}, {\"hovertemplate\": \"Nacionalidad=Nueva Zelanda<br>counts=%{r}<br>cultural_cluster=%{theta}<extra></extra>\", \"legendgroup\": \"Nacionalidad=Nueva Zelanda\", \"marker\": {\"color\": \"rgb(254,224,139)\"}, \"name\": \"Nacionalidad=Nueva Zelanda\", \"r\": [1], \"showlegend\": true, \"theta\": [\"cluster_2\"], \"type\": \"barpolar\", \"uid\": \"594a1aa2-83b1-44af-ac33-a6913f823cf7\"}, {\"hovertemplate\": \"Nacionalidad=Paquistan<br>counts=%{r}<br>cultural_cluster=%{theta}<extra></extra>\", \"legendgroup\": \"Nacionalidad=Paquistan\", \"marker\": {\"color\": \"rgb(230,245,152)\"}, \"name\": \"Nacionalidad=Paquistan\", \"r\": [1], \"showlegend\": true, \"theta\": [\"cluster_2\"], \"type\": \"barpolar\", \"uid\": \"753dedd7-a9f1-42cb-964b-aaa144b32b40\"}, {\"hovertemplate\": \"Nacionalidad=Rep\\u00fablica Dominicana<br>counts=%{r}<br>cultural_cluster=%{theta}<extra></extra>\", \"legendgroup\": \"Nacionalidad=Rep\\u00fablica Dominicana\", \"marker\": {\"color\": \"rgb(153,213,148)\"}, \"name\": \"Nacionalidad=Rep\\u00fablica Dominicana\", \"r\": [2], \"showlegend\": true, \"theta\": [\"cluster_1\"], \"type\": \"barpolar\", \"uid\": \"a9543e1a-8ed6-4809-98a2-46ce7093e74e\"}, {\"hovertemplate\": \"Nacionalidad=Rusia<br>counts=%{r}<br>cultural_cluster=%{theta}<extra></extra>\", \"legendgroup\": \"Nacionalidad=Rusia\", \"marker\": {\"color\": \"rgb(50,136,189)\"}, \"name\": \"Nacionalidad=Rusia\", \"r\": [1, 1], \"showlegend\": true, \"theta\": [\"cluster_1\", \"cluster_2\"], \"type\": \"barpolar\", \"uid\": \"befa98b8-401d-4c93-8ee2-33c3ff2aba2e\"}, {\"hovertemplate\": \"Nacionalidad=Sud\\u00e1n<br>counts=%{r}<br>cultural_cluster=%{theta}<extra></extra>\", \"legendgroup\": \"Nacionalidad=Sud\\u00e1n\", \"marker\": {\"color\": \"rgb(213,62,79)\"}, \"name\": \"Nacionalidad=Sud\\u00e1n\", \"r\": [1], \"showlegend\": true, \"theta\": [\"cluster_1\"], \"type\": \"barpolar\", \"uid\": \"0ade7f77-a5a1-4f5d-af23-e9b1a4b6c54a\"}, {\"hovertemplate\": \"Nacionalidad=Ukrania<br>counts=%{r}<br>cultural_cluster=%{theta}<extra></extra>\", \"legendgroup\": \"Nacionalidad=Ukrania\", \"marker\": {\"color\": \"rgb(252,141,89)\"}, \"name\": \"Nacionalidad=Ukrania\", \"r\": [1], \"showlegend\": true, \"theta\": [\"cluster_4\"], \"type\": \"barpolar\", \"uid\": \"022b8fbf-5236-4ec0-9372-a9774b9e11ce\"}, {\"hovertemplate\": \"Nacionalidad=Unknown<br>counts=%{r}<br>cultural_cluster=%{theta}<extra></extra>\", \"legendgroup\": \"Nacionalidad=Unknown\", \"marker\": {\"color\": \"rgb(254,224,139)\"}, \"name\": \"Nacionalidad=Unknown\", \"r\": [9, 18, 3, 8], \"showlegend\": true, \"theta\": [\"cluster_1\", \"cluster_2\", \"cluster_3\", \"cluster_4\"], \"type\": \"barpolar\", \"uid\": \"6a27ac7b-846e-42ea-a5c9-ee7d39c7099a\"}, {\"hovertemplate\": \"Nacionalidad=Venezuela<br>counts=%{r}<br>cultural_cluster=%{theta}<extra></extra>\", \"legendgroup\": \"Nacionalidad=Venezuela\", \"marker\": {\"color\": \"rgb(230,245,152)\"}, \"name\": \"Nacionalidad=Venezuela\", \"r\": [4], \"showlegend\": true, \"theta\": [\"cluster_2\"], \"type\": \"barpolar\", \"uid\": \"8ec260c0-979c-4d2e-afbb-cf93338ff211\"}], {\"barmode\": \"group\", \"barnorm\": \"\", \"height\": 600, \"legend\": {\"tracegroupgap\": 0}, \"margin\": {\"t\": 60}, \"template\": {\"data\": {\"barpolar\": [{\"marker\": {\"line\": {\"color\": \"#E5ECF6\", \"width\": 0.5}}, \"type\": \"barpolar\"}], \"bar\": [{\"marker\": {\"line\": {\"color\": \"#E5ECF6\", \"width\": 0.5}}, \"type\": \"bar\"}], \"carpet\": [{\"aaxis\": {\"endlinecolor\": \"#2a3f5f\", \"gridcolor\": \"white\", \"linecolor\": \"white\", \"minorgridcolor\": \"white\", \"startlinecolor\": \"#2a3f5f\"}, \"baxis\": {\"endlinecolor\": \"#2a3f5f\", \"gridcolor\": \"white\", \"linecolor\": \"white\", \"minorgridcolor\": \"white\", \"startlinecolor\": \"#2a3f5f\"}, \"type\": \"carpet\"}], \"choropleth\": [{\"colorbar\": {\"outlinewidth\": 0, \"ticks\": \"\"}, \"type\": \"choropleth\"}], \"contourcarpet\": [{\"colorbar\": {\"outlinewidth\": 0, \"ticks\": \"\"}, \"type\": \"contourcarpet\"}], \"contour\": [{\"autocolorscale\": true, \"colorbar\": {\"outlinewidth\": 0, \"ticks\": \"\"}, \"type\": \"contour\"}], \"heatmapgl\": [{\"colorbar\": {\"outlinewidth\": 0, \"ticks\": \"\"}, \"type\": \"heatmapgl\"}], \"heatmap\": [{\"autocolorscale\": true, \"colorbar\": {\"outlinewidth\": 0, \"ticks\": \"\"}, \"type\": \"heatmap\"}], \"histogram2dcontour\": [{\"autocolorscale\": true, \"colorbar\": {\"outlinewidth\": 0, \"ticks\": \"\"}, \"type\": \"histogram2dcontour\"}], \"histogram2d\": [{\"autocolorscale\": true, \"colorbar\": {\"outlinewidth\": 0, \"ticks\": \"\"}, \"type\": \"histogram2d\"}], \"histogram\": [{\"marker\": {\"colorbar\": {\"outlinewidth\": 0, \"ticks\": \"\"}}, \"type\": \"histogram\"}], \"mesh3d\": [{\"colorbar\": {\"outlinewidth\": 0, \"ticks\": \"\"}, \"type\": \"mesh3d\"}], \"parcoords\": [{\"line\": {\"colorbar\": {\"outlinewidth\": 0, \"ticks\": \"\"}}, \"type\": \"parcoords\"}], \"scatter3d\": [{\"marker\": {\"colorbar\": {\"outlinewidth\": 0, \"ticks\": \"\"}}, \"type\": \"scatter3d\"}], \"scattercarpet\": [{\"marker\": {\"colorbar\": {\"outlinewidth\": 0, \"ticks\": \"\"}}, \"type\": \"scattercarpet\"}], \"scattergeo\": [{\"marker\": {\"colorbar\": {\"outlinewidth\": 0, \"ticks\": \"\"}}, \"type\": \"scattergeo\"}], \"scattergl\": [{\"marker\": {\"colorbar\": {\"outlinewidth\": 0, \"ticks\": \"\"}}, \"type\": \"scattergl\"}], \"scattermapbox\": [{\"marker\": {\"colorbar\": {\"outlinewidth\": 0, \"ticks\": \"\"}}, \"type\": \"scattermapbox\"}], \"scatterpolargl\": [{\"marker\": {\"colorbar\": {\"outlinewidth\": 0, \"ticks\": \"\"}}, \"type\": \"scatterpolargl\"}], \"scatterpolar\": [{\"marker\": {\"colorbar\": {\"outlinewidth\": 0, \"ticks\": \"\"}}, \"type\": \"scatterpolar\"}], \"scatter\": [{\"marker\": {\"colorbar\": {\"outlinewidth\": 0, \"ticks\": \"\"}}, \"type\": \"scatter\"}], \"scatterternary\": [{\"marker\": {\"colorbar\": {\"outlinewidth\": 0, \"ticks\": \"\"}}, \"type\": \"scatterternary\"}], \"surface\": [{\"colorbar\": {\"outlinewidth\": 0, \"ticks\": \"\"}, \"type\": \"surface\"}], \"table\": [{\"cells\": {\"fill\": {\"color\": \"#EBF0F8\"}, \"line\": {\"color\": \"white\"}}, \"header\": {\"fill\": {\"color\": \"#C8D4E3\"}, \"line\": {\"color\": \"white\"}}, \"type\": \"table\"}]}, \"layout\": {\"annotationdefaults\": {\"arrowcolor\": \"#506784\", \"arrowhead\": 0, \"arrowwidth\": 1}, \"colorscale\": {\"diverging\": [[0, \"#8e0152\"], [0.1, \"#c51b7d\"], [0.2, \"#de77ae\"], [0.3, \"#f1b6da\"], [0.4, \"#fde0ef\"], [0.5, \"#f7f7f7\"], [0.6, \"#e6f5d0\"], [0.7, \"#b8e186\"], [0.8, \"#7fbc41\"], [0.9, \"#4d9221\"], [1, \"#276419\"]], \"sequential\": [[0.0, \"#0508b8\"], [0.0893854748603352, \"#1910d8\"], [0.1787709497206704, \"#3c19f0\"], [0.2681564245810056, \"#6b1cfb\"], [0.3575418994413408, \"#981cfd\"], [0.44692737430167595, \"#bf1cfd\"], [0.5363128491620112, \"#dd2bfd\"], [0.6256983240223464, \"#f246fe\"], [0.7150837988826816, \"#fc67fd\"], [0.8044692737430168, \"#fe88fc\"], [0.8938547486033519, \"#fea5fd\"], [0.9832402234636871, \"#febefe\"], [1.0, \"#fec3fe\"]], \"sequentialminus\": [[0.0, \"#0508b8\"], [0.0893854748603352, \"#1910d8\"], [0.1787709497206704, \"#3c19f0\"], [0.2681564245810056, \"#6b1cfb\"], [0.3575418994413408, \"#981cfd\"], [0.44692737430167595, \"#bf1cfd\"], [0.5363128491620112, \"#dd2bfd\"], [0.6256983240223464, \"#f246fe\"], [0.7150837988826816, \"#fc67fd\"], [0.8044692737430168, \"#fe88fc\"], [0.8938547486033519, \"#fea5fd\"], [0.9832402234636871, \"#febefe\"], [1.0, \"#fec3fe\"]]}, \"colorway\": [\"#636efa\", \"#EF553B\", \"#00cc96\", \"#ab63fa\", \"#19d3f3\", \"#e763fa\", \"#FECB52\", \"#FFA15A\", \"#FF6692\", \"#B6E880\"], \"font\": {\"color\": \"#2a3f5f\"}, \"geo\": {\"bgcolor\": \"white\", \"lakecolor\": \"white\", \"landcolor\": \"#E5ECF6\", \"showlakes\": true, \"showland\": true, \"subunitcolor\": \"white\"}, \"hovermode\": \"closest\", \"mapbox\": {\"style\": \"light\"}, \"paper_bgcolor\": \"white\", \"plot_bgcolor\": \"#E5ECF6\", \"polar\": {\"angularaxis\": {\"gridcolor\": \"white\", \"linecolor\": \"white\", \"ticks\": \"\"}, \"bgcolor\": \"#E5ECF6\", \"radialaxis\": {\"gridcolor\": \"white\", \"linecolor\": \"white\", \"ticks\": \"\"}}, \"scene\": {\"xaxis\": {\"backgroundcolor\": \"#E5ECF6\", \"gridcolor\": \"white\", \"gridwidth\": 2, \"linecolor\": \"white\", \"showbackground\": true, \"ticks\": \"\", \"zerolinecolor\": \"white\"}, \"yaxis\": {\"backgroundcolor\": \"#E5ECF6\", \"gridcolor\": \"white\", \"gridwidth\": 2, \"linecolor\": \"white\", \"showbackground\": true, \"ticks\": \"\", \"zerolinecolor\": \"white\"}, \"zaxis\": {\"backgroundcolor\": \"#E5ECF6\", \"gridcolor\": \"white\", \"gridwidth\": 2, \"linecolor\": \"white\", \"showbackground\": true, \"ticks\": \"\", \"zerolinecolor\": \"white\"}}, \"shapedefaults\": {\"fillcolor\": \"#506784\", \"line\": {\"width\": 0}, \"opacity\": 0.4}, \"ternary\": {\"aaxis\": {\"gridcolor\": \"white\", \"linecolor\": \"white\", \"ticks\": \"\"}, \"baxis\": {\"gridcolor\": \"white\", \"linecolor\": \"white\", \"ticks\": \"\"}, \"bgcolor\": \"#E5ECF6\", \"caxis\": {\"gridcolor\": \"white\", \"linecolor\": \"white\", \"ticks\": \"\"}}, \"title\": {\"x\": 0.05}, \"xaxis\": {\"automargin\": true, \"gridcolor\": \"white\", \"linecolor\": \"white\", \"ticks\": \"\", \"zerolinecolor\": \"white\", \"zerolinewidth\": 2}, \"yaxis\": {\"automargin\": true, \"gridcolor\": \"white\", \"linecolor\": \"white\", \"ticks\": \"\", \"zerolinecolor\": \"white\", \"zerolinewidth\": 2}}}, \"polar\": {\"angularaxis\": {\"direction\": \"clockwise\", \"rotation\": 90}}}, {\"showLink\": false, \"linkText\": \"Export to plot.ly\", \"plotlyServerURL\": \"https://plot.ly\"}); \n",
       "}\n",
       "});</script><script type=\"text/javascript\">window.addEventListener(\"resize\", function(){if (document.getElementById(\"59ba1bdc-7731-43c6-925d-f73c229eb8af\")) {window._Plotly.Plots.resize(document.getElementById(\"59ba1bdc-7731-43c6-925d-f73c229eb8af\"));};})</script>"
      ],
      "text/vnd.plotly.v1+html": [
       "<div id=\"59ba1bdc-7731-43c6-925d-f73c229eb8af\" style=\"height: 600px; width: 100%;\" class=\"plotly-graph-div\"></div><script type=\"text/javascript\">require([\"plotly\"], function(Plotly) { window.PLOTLYENV=window.PLOTLYENV || {};window.PLOTLYENV.BASE_URL=\"https://plot.ly\";\n",
       "if (document.getElementById(\"59ba1bdc-7731-43c6-925d-f73c229eb8af\")) {\n",
       "    Plotly.newPlot(\"59ba1bdc-7731-43c6-925d-f73c229eb8af\", [{\"hovertemplate\": \"Nacionalidad=Albania<br>counts=%{r}<br>cultural_cluster=%{theta}<extra></extra>\", \"legendgroup\": \"Nacionalidad=Albania\", \"marker\": {\"color\": \"rgb(213,62,79)\"}, \"name\": \"Nacionalidad=Albania\", \"r\": [1], \"showlegend\": true, \"theta\": [\"cluster_2\"], \"type\": \"barpolar\", \"uid\": \"cf24dccf-917a-4f01-8e07-fe22145f3fa5\"}, {\"hovertemplate\": \"Nacionalidad=Alemania<br>counts=%{r}<br>cultural_cluster=%{theta}<extra></extra>\", \"legendgroup\": \"Nacionalidad=Alemania\", \"marker\": {\"color\": \"rgb(252,141,89)\"}, \"name\": \"Nacionalidad=Alemania\", \"r\": [1], \"showlegend\": true, \"theta\": [\"cluster_4\"], \"type\": \"barpolar\", \"uid\": \"b98cb8e8-7bf3-480a-b190-d122d9a519d4\"}, {\"hovertemplate\": \"Nacionalidad=Argentina<br>counts=%{r}<br>cultural_cluster=%{theta}<extra></extra>\", \"legendgroup\": \"Nacionalidad=Argentina\", \"marker\": {\"color\": \"rgb(254,224,139)\"}, \"name\": \"Nacionalidad=Argentina\", \"r\": [1], \"showlegend\": true, \"theta\": [\"cluster_1\"], \"type\": \"barpolar\", \"uid\": \"79aaebf4-035a-4bb6-8206-c722da107944\"}, {\"hovertemplate\": \"Nacionalidad=Australia<br>counts=%{r}<br>cultural_cluster=%{theta}<extra></extra>\", \"legendgroup\": \"Nacionalidad=Australia\", \"marker\": {\"color\": \"rgb(230,245,152)\"}, \"name\": \"Nacionalidad=Australia\", \"r\": [1], \"showlegend\": true, \"theta\": [\"cluster_1\"], \"type\": \"barpolar\", \"uid\": \"552e390b-0673-44fe-90a9-524f376e902b\"}, {\"hovertemplate\": \"Nacionalidad=Austria<br>counts=%{r}<br>cultural_cluster=%{theta}<extra></extra>\", \"legendgroup\": \"Nacionalidad=Austria\", \"marker\": {\"color\": \"rgb(153,213,148)\"}, \"name\": \"Nacionalidad=Austria\", \"r\": [1], \"showlegend\": true, \"theta\": [\"cluster_1\"], \"type\": \"barpolar\", \"uid\": \"6ec02978-7281-44c7-aa01-13d8ce495d7b\"}, {\"hovertemplate\": \"Nacionalidad=Bahamas<br>counts=%{r}<br>cultural_cluster=%{theta}<extra></extra>\", \"legendgroup\": \"Nacionalidad=Bahamas\", \"marker\": {\"color\": \"rgb(50,136,189)\"}, \"name\": \"Nacionalidad=Bahamas\", \"r\": [1], \"showlegend\": true, \"theta\": [\"cluster_2\"], \"type\": \"barpolar\", \"uid\": \"2bcff89b-7f50-4509-8cf0-0fa3e953d309\"}, {\"hovertemplate\": \"Nacionalidad=Brasil<br>counts=%{r}<br>cultural_cluster=%{theta}<extra></extra>\", \"legendgroup\": \"Nacionalidad=Brasil\", \"marker\": {\"color\": \"rgb(213,62,79)\"}, \"name\": \"Nacionalidad=Brasil\", \"r\": [2, 1], \"showlegend\": true, \"theta\": [\"cluster_1\", \"cluster_2\"], \"type\": \"barpolar\", \"uid\": \"f838132e-682a-40d1-b4a6-ece0a82f958c\"}, {\"hovertemplate\": \"Nacionalidad=Canad\\u00e1<br>counts=%{r}<br>cultural_cluster=%{theta}<extra></extra>\", \"legendgroup\": \"Nacionalidad=Canad\\u00e1\", \"marker\": {\"color\": \"rgb(252,141,89)\"}, \"name\": \"Nacionalidad=Canad\\u00e1\", \"r\": [4, 4, 1], \"showlegend\": true, \"theta\": [\"cluster_1\", \"cluster_2\", \"cluster_4\"], \"type\": \"barpolar\", \"uid\": \"fbf4dfb2-f951-4743-98e9-02ea0c41713b\"}, {\"hovertemplate\": \"Nacionalidad=Chile<br>counts=%{r}<br>cultural_cluster=%{theta}<extra></extra>\", \"legendgroup\": \"Nacionalidad=Chile\", \"marker\": {\"color\": \"rgb(254,224,139)\"}, \"name\": \"Nacionalidad=Chile\", \"r\": [1], \"showlegend\": true, \"theta\": [\"cluster_1\"], \"type\": \"barpolar\", \"uid\": \"1082f991-99f1-420f-8e83-bfbec09e1178\"}, {\"hovertemplate\": \"Nacionalidad=China<br>counts=%{r}<br>cultural_cluster=%{theta}<extra></extra>\", \"legendgroup\": \"Nacionalidad=China\", \"marker\": {\"color\": \"rgb(230,245,152)\"}, \"name\": \"Nacionalidad=China\", \"r\": [1], \"showlegend\": true, \"theta\": [\"cluster_3\"], \"type\": \"barpolar\", \"uid\": \"82baabcc-d06c-44ba-9fc1-a5628de50322\"}, {\"hovertemplate\": \"Nacionalidad=Colombia<br>counts=%{r}<br>cultural_cluster=%{theta}<extra></extra>\", \"legendgroup\": \"Nacionalidad=Colombia\", \"marker\": {\"color\": \"rgb(153,213,148)\"}, \"name\": \"Nacionalidad=Colombia\", \"r\": [1], \"showlegend\": true, \"theta\": [\"cluster_1\"], \"type\": \"barpolar\", \"uid\": \"8a5cb94b-baed-4998-b7f2-fe9ec1f6a233\"}, {\"hovertemplate\": \"Nacionalidad=Cuba<br>counts=%{r}<br>cultural_cluster=%{theta}<extra></extra>\", \"legendgroup\": \"Nacionalidad=Cuba\", \"marker\": {\"color\": \"rgb(50,136,189)\"}, \"name\": \"Nacionalidad=Cuba\", \"r\": [1], \"showlegend\": true, \"theta\": [\"cluster_1\"], \"type\": \"barpolar\", \"uid\": \"ff8d903e-f3c8-4cf6-a022-547df770dda8\"}, {\"hovertemplate\": \"Nacionalidad=Escocia<br>counts=%{r}<br>cultural_cluster=%{theta}<extra></extra>\", \"legendgroup\": \"Nacionalidad=Escocia\", \"marker\": {\"color\": \"rgb(213,62,79)\"}, \"name\": \"Nacionalidad=Escocia\", \"r\": [1], \"showlegend\": true, \"theta\": [\"cluster_1\"], \"type\": \"barpolar\", \"uid\": \"428b1056-76af-4c87-9608-553371bffaa7\"}, {\"hovertemplate\": \"Nacionalidad=Eslovaquia<br>counts=%{r}<br>cultural_cluster=%{theta}<extra></extra>\", \"legendgroup\": \"Nacionalidad=Eslovaquia\", \"marker\": {\"color\": \"rgb(252,141,89)\"}, \"name\": \"Nacionalidad=Eslovaquia\", \"r\": [1], \"showlegend\": true, \"theta\": [\"cluster_2\"], \"type\": \"barpolar\", \"uid\": \"f193e25f-deda-4db7-8892-f3f4bf307e59\"}, {\"hovertemplate\": \"Nacionalidad=Espa\\u00f1a<br>counts=%{r}<br>cultural_cluster=%{theta}<extra></extra>\", \"legendgroup\": \"Nacionalidad=Espa\\u00f1a\", \"marker\": {\"color\": \"rgb(254,224,139)\"}, \"name\": \"Nacionalidad=Espa\\u00f1a\", \"r\": [90, 56, 3, 67, 1], \"showlegend\": true, \"theta\": [\"cluster_1\", \"cluster_2\", \"cluster_3\", \"cluster_4\", \"cluster_5\"], \"type\": \"barpolar\", \"uid\": \"553d46d7-016a-4f28-9947-8889b3119350\"}, {\"hovertemplate\": \"Nacionalidad=Estados Unidos de Am\\u00e9rica<br>counts=%{r}<br>cultural_cluster=%{theta}<extra></extra>\", \"legendgroup\": \"Nacionalidad=Estados Unidos de Am\\u00e9rica\", \"marker\": {\"color\": \"rgb(230,245,152)\"}, \"name\": \"Nacionalidad=Estados Unidos de Am\\u00e9rica\", \"r\": [71, 130, 14, 91], \"showlegend\": true, \"theta\": [\"cluster_1\", \"cluster_2\", \"cluster_3\", \"cluster_4\"], \"type\": \"barpolar\", \"uid\": \"be656bcd-897d-4a0e-8e41-0bd37c6a4650\"}, {\"hovertemplate\": \"Nacionalidad=Francia<br>counts=%{r}<br>cultural_cluster=%{theta}<extra></extra>\", \"legendgroup\": \"Nacionalidad=Francia\", \"marker\": {\"color\": \"rgb(153,213,148)\"}, \"name\": \"Nacionalidad=Francia\", \"r\": [11, 5, 3], \"showlegend\": true, \"theta\": [\"cluster_1\", \"cluster_2\", \"cluster_4\"], \"type\": \"barpolar\", \"uid\": \"e2c76c3d-f0a2-45ff-9b2f-c525b24a1d44\"}, {\"hovertemplate\": \"Nacionalidad=India<br>counts=%{r}<br>cultural_cluster=%{theta}<extra></extra>\", \"legendgroup\": \"Nacionalidad=India\", \"marker\": {\"color\": \"rgb(50,136,189)\"}, \"name\": \"Nacionalidad=India\", \"r\": [17, 61, 6, 36], \"showlegend\": true, \"theta\": [\"cluster_1\", \"cluster_2\", \"cluster_3\", \"cluster_4\"], \"type\": \"barpolar\", \"uid\": \"65fe0dba-3d90-427d-a7a4-ce260b7639c0\"}, {\"hovertemplate\": \"Nacionalidad=Indonesia<br>counts=%{r}<br>cultural_cluster=%{theta}<extra></extra>\", \"legendgroup\": \"Nacionalidad=Indonesia\", \"marker\": {\"color\": \"rgb(213,62,79)\"}, \"name\": \"Nacionalidad=Indonesia\", \"r\": [1], \"showlegend\": true, \"theta\": [\"cluster_1\"], \"type\": \"barpolar\", \"uid\": \"fbebc505-34ee-4a9f-97b9-6addd350bcb2\"}, {\"hovertemplate\": \"Nacionalidad=Inglaterra<br>counts=%{r}<br>cultural_cluster=%{theta}<extra></extra>\", \"legendgroup\": \"Nacionalidad=Inglaterra\", \"marker\": {\"color\": \"rgb(252,141,89)\"}, \"name\": \"Nacionalidad=Inglaterra\", \"r\": [2, 7, 1], \"showlegend\": true, \"theta\": [\"cluster_1\", \"cluster_2\", \"cluster_4\"], \"type\": \"barpolar\", \"uid\": \"7e56494e-9c80-4e43-afc3-d00ae2759258\"}, {\"hovertemplate\": \"Nacionalidad=Irlanda<br>counts=%{r}<br>cultural_cluster=%{theta}<extra></extra>\", \"legendgroup\": \"Nacionalidad=Irlanda\", \"marker\": {\"color\": \"rgb(254,224,139)\"}, \"name\": \"Nacionalidad=Irlanda\", \"r\": [1, 1], \"showlegend\": true, \"theta\": [\"cluster_1\", \"cluster_2\"], \"type\": \"barpolar\", \"uid\": \"de101c5b-9ce8-4008-9c72-6d00027a668f\"}, {\"hovertemplate\": \"Nacionalidad=Islandia<br>counts=%{r}<br>cultural_cluster=%{theta}<extra></extra>\", \"legendgroup\": \"Nacionalidad=Islandia\", \"marker\": {\"color\": \"rgb(230,245,152)\"}, \"name\": \"Nacionalidad=Islandia\", \"r\": [1], \"showlegend\": true, \"theta\": [\"cluster_2\"], \"type\": \"barpolar\", \"uid\": \"b9e4b760-32d4-45e5-a13e-1d9738a563de\"}, {\"hovertemplate\": \"Nacionalidad=Italia<br>counts=%{r}<br>cultural_cluster=%{theta}<extra></extra>\", \"legendgroup\": \"Nacionalidad=Italia\", \"marker\": {\"color\": \"rgb(153,213,148)\"}, \"name\": \"Nacionalidad=Italia\", \"r\": [3, 5, 3], \"showlegend\": true, \"theta\": [\"cluster_1\", \"cluster_2\", \"cluster_4\"], \"type\": \"barpolar\", \"uid\": \"22de73eb-e7d2-4205-ada8-42dc1b1dd277\"}, {\"hovertemplate\": \"Nacionalidad=Macedonia<br>counts=%{r}<br>cultural_cluster=%{theta}<extra></extra>\", \"legendgroup\": \"Nacionalidad=Macedonia\", \"marker\": {\"color\": \"rgb(50,136,189)\"}, \"name\": \"Nacionalidad=Macedonia\", \"r\": [1], \"showlegend\": true, \"theta\": [\"cluster_2\"], \"type\": \"barpolar\", \"uid\": \"42337a9c-9603-4d10-88f8-e4db4d5eac7d\"}, {\"hovertemplate\": \"Nacionalidad=M\\u00e9xico<br>counts=%{r}<br>cultural_cluster=%{theta}<extra></extra>\", \"legendgroup\": \"Nacionalidad=M\\u00e9xico\", \"marker\": {\"color\": \"rgb(213,62,79)\"}, \"name\": \"Nacionalidad=M\\u00e9xico\", \"r\": [1], \"showlegend\": true, \"theta\": [\"cluster_2\"], \"type\": \"barpolar\", \"uid\": \"e1e6ca5d-842f-4cea-a6a0-b92521659ce0\"}, {\"hovertemplate\": \"Nacionalidad=Nigeria<br>counts=%{r}<br>cultural_cluster=%{theta}<extra></extra>\", \"legendgroup\": \"Nacionalidad=Nigeria\", \"marker\": {\"color\": \"rgb(252,141,89)\"}, \"name\": \"Nacionalidad=Nigeria\", \"r\": [1, 3], \"showlegend\": true, \"theta\": [\"cluster_1\", \"cluster_4\"], \"type\": \"barpolar\", \"uid\": \"e4c8586b-e89b-4dbb-b0e5-58d709e7901a\"}, {\"hovertemplate\": \"Nacionalidad=Nueva Zelanda<br>counts=%{r}<br>cultural_cluster=%{theta}<extra></extra>\", \"legendgroup\": \"Nacionalidad=Nueva Zelanda\", \"marker\": {\"color\": \"rgb(254,224,139)\"}, \"name\": \"Nacionalidad=Nueva Zelanda\", \"r\": [1], \"showlegend\": true, \"theta\": [\"cluster_2\"], \"type\": \"barpolar\", \"uid\": \"594a1aa2-83b1-44af-ac33-a6913f823cf7\"}, {\"hovertemplate\": \"Nacionalidad=Paquistan<br>counts=%{r}<br>cultural_cluster=%{theta}<extra></extra>\", \"legendgroup\": \"Nacionalidad=Paquistan\", \"marker\": {\"color\": \"rgb(230,245,152)\"}, \"name\": \"Nacionalidad=Paquistan\", \"r\": [1], \"showlegend\": true, \"theta\": [\"cluster_2\"], \"type\": \"barpolar\", \"uid\": \"753dedd7-a9f1-42cb-964b-aaa144b32b40\"}, {\"hovertemplate\": \"Nacionalidad=Rep\\u00fablica Dominicana<br>counts=%{r}<br>cultural_cluster=%{theta}<extra></extra>\", \"legendgroup\": \"Nacionalidad=Rep\\u00fablica Dominicana\", \"marker\": {\"color\": \"rgb(153,213,148)\"}, \"name\": \"Nacionalidad=Rep\\u00fablica Dominicana\", \"r\": [2], \"showlegend\": true, \"theta\": [\"cluster_1\"], \"type\": \"barpolar\", \"uid\": \"a9543e1a-8ed6-4809-98a2-46ce7093e74e\"}, {\"hovertemplate\": \"Nacionalidad=Rusia<br>counts=%{r}<br>cultural_cluster=%{theta}<extra></extra>\", \"legendgroup\": \"Nacionalidad=Rusia\", \"marker\": {\"color\": \"rgb(50,136,189)\"}, \"name\": \"Nacionalidad=Rusia\", \"r\": [1, 1], \"showlegend\": true, \"theta\": [\"cluster_1\", \"cluster_2\"], \"type\": \"barpolar\", \"uid\": \"befa98b8-401d-4c93-8ee2-33c3ff2aba2e\"}, {\"hovertemplate\": \"Nacionalidad=Sud\\u00e1n<br>counts=%{r}<br>cultural_cluster=%{theta}<extra></extra>\", \"legendgroup\": \"Nacionalidad=Sud\\u00e1n\", \"marker\": {\"color\": \"rgb(213,62,79)\"}, \"name\": \"Nacionalidad=Sud\\u00e1n\", \"r\": [1], \"showlegend\": true, \"theta\": [\"cluster_1\"], \"type\": \"barpolar\", \"uid\": \"0ade7f77-a5a1-4f5d-af23-e9b1a4b6c54a\"}, {\"hovertemplate\": \"Nacionalidad=Ukrania<br>counts=%{r}<br>cultural_cluster=%{theta}<extra></extra>\", \"legendgroup\": \"Nacionalidad=Ukrania\", \"marker\": {\"color\": \"rgb(252,141,89)\"}, \"name\": \"Nacionalidad=Ukrania\", \"r\": [1], \"showlegend\": true, \"theta\": [\"cluster_4\"], \"type\": \"barpolar\", \"uid\": \"022b8fbf-5236-4ec0-9372-a9774b9e11ce\"}, {\"hovertemplate\": \"Nacionalidad=Unknown<br>counts=%{r}<br>cultural_cluster=%{theta}<extra></extra>\", \"legendgroup\": \"Nacionalidad=Unknown\", \"marker\": {\"color\": \"rgb(254,224,139)\"}, \"name\": \"Nacionalidad=Unknown\", \"r\": [9, 18, 3, 8], \"showlegend\": true, \"theta\": [\"cluster_1\", \"cluster_2\", \"cluster_3\", \"cluster_4\"], \"type\": \"barpolar\", \"uid\": \"6a27ac7b-846e-42ea-a5c9-ee7d39c7099a\"}, {\"hovertemplate\": \"Nacionalidad=Venezuela<br>counts=%{r}<br>cultural_cluster=%{theta}<extra></extra>\", \"legendgroup\": \"Nacionalidad=Venezuela\", \"marker\": {\"color\": \"rgb(230,245,152)\"}, \"name\": \"Nacionalidad=Venezuela\", \"r\": [4], \"showlegend\": true, \"theta\": [\"cluster_2\"], \"type\": \"barpolar\", \"uid\": \"8ec260c0-979c-4d2e-afbb-cf93338ff211\"}], {\"barmode\": \"group\", \"barnorm\": \"\", \"height\": 600, \"legend\": {\"tracegroupgap\": 0}, \"margin\": {\"t\": 60}, \"template\": {\"data\": {\"barpolar\": [{\"marker\": {\"line\": {\"color\": \"#E5ECF6\", \"width\": 0.5}}, \"type\": \"barpolar\"}], \"bar\": [{\"marker\": {\"line\": {\"color\": \"#E5ECF6\", \"width\": 0.5}}, \"type\": \"bar\"}], \"carpet\": [{\"aaxis\": {\"endlinecolor\": \"#2a3f5f\", \"gridcolor\": \"white\", \"linecolor\": \"white\", \"minorgridcolor\": \"white\", \"startlinecolor\": \"#2a3f5f\"}, \"baxis\": {\"endlinecolor\": \"#2a3f5f\", \"gridcolor\": \"white\", \"linecolor\": \"white\", \"minorgridcolor\": \"white\", \"startlinecolor\": \"#2a3f5f\"}, \"type\": \"carpet\"}], \"choropleth\": [{\"colorbar\": {\"outlinewidth\": 0, \"ticks\": \"\"}, \"type\": \"choropleth\"}], \"contourcarpet\": [{\"colorbar\": {\"outlinewidth\": 0, \"ticks\": \"\"}, \"type\": \"contourcarpet\"}], \"contour\": [{\"autocolorscale\": true, \"colorbar\": {\"outlinewidth\": 0, \"ticks\": \"\"}, \"type\": \"contour\"}], \"heatmapgl\": [{\"colorbar\": {\"outlinewidth\": 0, \"ticks\": \"\"}, \"type\": \"heatmapgl\"}], \"heatmap\": [{\"autocolorscale\": true, \"colorbar\": {\"outlinewidth\": 0, \"ticks\": \"\"}, \"type\": \"heatmap\"}], \"histogram2dcontour\": [{\"autocolorscale\": true, \"colorbar\": {\"outlinewidth\": 0, \"ticks\": \"\"}, \"type\": \"histogram2dcontour\"}], \"histogram2d\": [{\"autocolorscale\": true, \"colorbar\": {\"outlinewidth\": 0, \"ticks\": \"\"}, \"type\": \"histogram2d\"}], \"histogram\": [{\"marker\": {\"colorbar\": {\"outlinewidth\": 0, \"ticks\": \"\"}}, \"type\": \"histogram\"}], \"mesh3d\": [{\"colorbar\": {\"outlinewidth\": 0, \"ticks\": \"\"}, \"type\": \"mesh3d\"}], \"parcoords\": [{\"line\": {\"colorbar\": {\"outlinewidth\": 0, \"ticks\": \"\"}}, \"type\": \"parcoords\"}], \"scatter3d\": [{\"marker\": {\"colorbar\": {\"outlinewidth\": 0, \"ticks\": \"\"}}, \"type\": \"scatter3d\"}], \"scattercarpet\": [{\"marker\": {\"colorbar\": {\"outlinewidth\": 0, \"ticks\": \"\"}}, \"type\": \"scattercarpet\"}], \"scattergeo\": [{\"marker\": {\"colorbar\": {\"outlinewidth\": 0, \"ticks\": \"\"}}, \"type\": \"scattergeo\"}], \"scattergl\": [{\"marker\": {\"colorbar\": {\"outlinewidth\": 0, \"ticks\": \"\"}}, \"type\": \"scattergl\"}], \"scattermapbox\": [{\"marker\": {\"colorbar\": {\"outlinewidth\": 0, \"ticks\": \"\"}}, \"type\": \"scattermapbox\"}], \"scatterpolargl\": [{\"marker\": {\"colorbar\": {\"outlinewidth\": 0, \"ticks\": \"\"}}, \"type\": \"scatterpolargl\"}], \"scatterpolar\": [{\"marker\": {\"colorbar\": {\"outlinewidth\": 0, \"ticks\": \"\"}}, \"type\": \"scatterpolar\"}], \"scatter\": [{\"marker\": {\"colorbar\": {\"outlinewidth\": 0, \"ticks\": \"\"}}, \"type\": \"scatter\"}], \"scatterternary\": [{\"marker\": {\"colorbar\": {\"outlinewidth\": 0, \"ticks\": \"\"}}, \"type\": \"scatterternary\"}], \"surface\": [{\"colorbar\": {\"outlinewidth\": 0, \"ticks\": \"\"}, \"type\": \"surface\"}], \"table\": [{\"cells\": {\"fill\": {\"color\": \"#EBF0F8\"}, \"line\": {\"color\": \"white\"}}, \"header\": {\"fill\": {\"color\": \"#C8D4E3\"}, \"line\": {\"color\": \"white\"}}, \"type\": \"table\"}]}, \"layout\": {\"annotationdefaults\": {\"arrowcolor\": \"#506784\", \"arrowhead\": 0, \"arrowwidth\": 1}, \"colorscale\": {\"diverging\": [[0, \"#8e0152\"], [0.1, \"#c51b7d\"], [0.2, \"#de77ae\"], [0.3, \"#f1b6da\"], [0.4, \"#fde0ef\"], [0.5, \"#f7f7f7\"], [0.6, \"#e6f5d0\"], [0.7, \"#b8e186\"], [0.8, \"#7fbc41\"], [0.9, \"#4d9221\"], [1, \"#276419\"]], \"sequential\": [[0.0, \"#0508b8\"], [0.0893854748603352, \"#1910d8\"], [0.1787709497206704, \"#3c19f0\"], [0.2681564245810056, \"#6b1cfb\"], [0.3575418994413408, \"#981cfd\"], [0.44692737430167595, \"#bf1cfd\"], [0.5363128491620112, \"#dd2bfd\"], [0.6256983240223464, \"#f246fe\"], [0.7150837988826816, \"#fc67fd\"], [0.8044692737430168, \"#fe88fc\"], [0.8938547486033519, \"#fea5fd\"], [0.9832402234636871, \"#febefe\"], [1.0, \"#fec3fe\"]], \"sequentialminus\": [[0.0, \"#0508b8\"], [0.0893854748603352, \"#1910d8\"], [0.1787709497206704, \"#3c19f0\"], [0.2681564245810056, \"#6b1cfb\"], [0.3575418994413408, \"#981cfd\"], [0.44692737430167595, \"#bf1cfd\"], [0.5363128491620112, \"#dd2bfd\"], [0.6256983240223464, \"#f246fe\"], [0.7150837988826816, \"#fc67fd\"], [0.8044692737430168, \"#fe88fc\"], [0.8938547486033519, \"#fea5fd\"], [0.9832402234636871, \"#febefe\"], [1.0, \"#fec3fe\"]]}, \"colorway\": [\"#636efa\", \"#EF553B\", \"#00cc96\", \"#ab63fa\", \"#19d3f3\", \"#e763fa\", \"#FECB52\", \"#FFA15A\", \"#FF6692\", \"#B6E880\"], \"font\": {\"color\": \"#2a3f5f\"}, \"geo\": {\"bgcolor\": \"white\", \"lakecolor\": \"white\", \"landcolor\": \"#E5ECF6\", \"showlakes\": true, \"showland\": true, \"subunitcolor\": \"white\"}, \"hovermode\": \"closest\", \"mapbox\": {\"style\": \"light\"}, \"paper_bgcolor\": \"white\", \"plot_bgcolor\": \"#E5ECF6\", \"polar\": {\"angularaxis\": {\"gridcolor\": \"white\", \"linecolor\": \"white\", \"ticks\": \"\"}, \"bgcolor\": \"#E5ECF6\", \"radialaxis\": {\"gridcolor\": \"white\", \"linecolor\": \"white\", \"ticks\": \"\"}}, \"scene\": {\"xaxis\": {\"backgroundcolor\": \"#E5ECF6\", \"gridcolor\": \"white\", \"gridwidth\": 2, \"linecolor\": \"white\", \"showbackground\": true, \"ticks\": \"\", \"zerolinecolor\": \"white\"}, \"yaxis\": {\"backgroundcolor\": \"#E5ECF6\", \"gridcolor\": \"white\", \"gridwidth\": 2, \"linecolor\": \"white\", \"showbackground\": true, \"ticks\": \"\", \"zerolinecolor\": \"white\"}, \"zaxis\": {\"backgroundcolor\": \"#E5ECF6\", \"gridcolor\": \"white\", \"gridwidth\": 2, \"linecolor\": \"white\", \"showbackground\": true, \"ticks\": \"\", \"zerolinecolor\": \"white\"}}, \"shapedefaults\": {\"fillcolor\": \"#506784\", \"line\": {\"width\": 0}, \"opacity\": 0.4}, \"ternary\": {\"aaxis\": {\"gridcolor\": \"white\", \"linecolor\": \"white\", \"ticks\": \"\"}, \"baxis\": {\"gridcolor\": \"white\", \"linecolor\": \"white\", \"ticks\": \"\"}, \"bgcolor\": \"#E5ECF6\", \"caxis\": {\"gridcolor\": \"white\", \"linecolor\": \"white\", \"ticks\": \"\"}}, \"title\": {\"x\": 0.05}, \"xaxis\": {\"automargin\": true, \"gridcolor\": \"white\", \"linecolor\": \"white\", \"ticks\": \"\", \"zerolinecolor\": \"white\", \"zerolinewidth\": 2}, \"yaxis\": {\"automargin\": true, \"gridcolor\": \"white\", \"linecolor\": \"white\", \"ticks\": \"\", \"zerolinecolor\": \"white\", \"zerolinewidth\": 2}}}, \"polar\": {\"angularaxis\": {\"direction\": \"clockwise\", \"rotation\": 90}}}, {\"showLink\": false, \"linkText\": \"Export to plot.ly\", \"plotlyServerURL\": \"https://plot.ly\"}); \n",
       "}\n",
       "});</script><script type=\"text/javascript\">window.addEventListener(\"resize\", function(){if (document.getElementById(\"59ba1bdc-7731-43c6-925d-f73c229eb8af\")) {window._Plotly.Plots.resize(document.getElementById(\"59ba1bdc-7731-43c6-925d-f73c229eb8af\"));};})</script>"
      ]
     },
     "metadata": {},
     "output_type": "display_data"
    },
    {
     "name": "stdout",
     "output_type": "stream",
     "text": [
      "Comparando la pregunta Nivel de estudios\n"
     ]
    },
    {
     "data": {
      "application/vnd.plotly.v1+json": {
       "config": {
        "linkText": "Export to plot.ly",
        "plotlyServerURL": "https://plot.ly",
        "showLink": false
       },
       "data": [
        {
         "hovertemplate": "Nivel de estudios=Educación Primaria<br>counts=%{r}<br>cultural_cluster=%{theta}<extra></extra>",
         "legendgroup": "Nivel de estudios=Educación Primaria",
         "marker": {
          "color": "rgb(213,62,79)"
         },
         "name": "Nivel de estudios=Educación Primaria",
         "r": [
          3,
          8,
          3
         ],
         "showlegend": true,
         "theta": [
          "cluster_1",
          "cluster_2",
          "cluster_4"
         ],
         "type": "barpolar",
         "uid": "1db46d92-0257-432f-bffc-2894943ce091"
        },
        {
         "hovertemplate": "Nivel de estudios=FP<br>counts=%{r}<br>cultural_cluster=%{theta}<extra></extra>",
         "legendgroup": "Nivel de estudios=FP",
         "marker": {
          "color": "rgb(252,141,89)"
         },
         "name": "Nivel de estudios=FP",
         "r": [
          10,
          23,
          1,
          8
         ],
         "showlegend": true,
         "theta": [
          "cluster_1",
          "cluster_2",
          "cluster_3",
          "cluster_4"
         ],
         "type": "barpolar",
         "uid": "5c1cffaa-2c16-46f6-8ec4-4250f9d064af"
        },
        {
         "hovertemplate": "Nivel de estudios=Sin terminar Educación Secundaria Obligatoria<br>counts=%{r}<br>cultural_cluster=%{theta}<extra></extra>",
         "legendgroup": "Nivel de estudios=Sin terminar Educación Secundaria Obligatoria",
         "marker": {
          "color": "rgb(254,224,139)"
         },
         "name": "Nivel de estudios=Sin terminar Educación Secundaria Obligatoria",
         "r": [
          21,
          6,
          3,
          47
         ],
         "showlegend": true,
         "theta": [
          "cluster_1",
          "cluster_2",
          "cluster_3",
          "cluster_4"
         ],
         "type": "barpolar",
         "uid": "a5f392f2-8d19-4d0f-a8d3-ee92ffc06e4f"
        },
        {
         "hovertemplate": "Nivel de estudios=Terminada Educación Secundaria Obligatoria<br>counts=%{r}<br>cultural_cluster=%{theta}<extra></extra>",
         "legendgroup": "Nivel de estudios=Terminada Educación Secundaria Obligatoria",
         "marker": {
          "color": "rgb(230,245,152)"
         },
         "name": "Nivel de estudios=Terminada Educación Secundaria Obligatoria",
         "r": [
          14,
          10,
          3,
          21
         ],
         "showlegend": true,
         "theta": [
          "cluster_1",
          "cluster_2",
          "cluster_3",
          "cluster_4"
         ],
         "type": "barpolar",
         "uid": "9cb642a2-5025-458d-9a5d-b745e737531d"
        },
        {
         "hovertemplate": "Nivel de estudios=Universitario graduado<br>counts=%{r}<br>cultural_cluster=%{theta}<extra></extra>",
         "legendgroup": "Nivel de estudios=Universitario graduado",
         "marker": {
          "color": "rgb(153,213,148)"
         },
         "name": "Nivel de estudios=Universitario graduado",
         "r": [
          118,
          199,
          14,
          100
         ],
         "showlegend": true,
         "theta": [
          "cluster_1",
          "cluster_2",
          "cluster_3",
          "cluster_4"
         ],
         "type": "barpolar",
         "uid": "c1406203-8625-49f0-b8ba-eb2a2876118b"
        },
        {
         "hovertemplate": "Nivel de estudios=Universitario sin graduar<br>counts=%{r}<br>cultural_cluster=%{theta}<extra></extra>",
         "legendgroup": "Nivel de estudios=Universitario sin graduar",
         "marker": {
          "color": "rgb(50,136,189)"
         },
         "name": "Nivel de estudios=Universitario sin graduar",
         "r": [
          57,
          55,
          6,
          36,
          1
         ],
         "showlegend": true,
         "theta": [
          "cluster_1",
          "cluster_2",
          "cluster_3",
          "cluster_4",
          "cluster_5"
         ],
         "type": "barpolar",
         "uid": "c7aaa372-584e-416e-bbea-05625388bb14"
        }
       ],
       "layout": {
        "barmode": "group",
        "barnorm": "",
        "height": 600,
        "legend": {
         "tracegroupgap": 0
        },
        "margin": {
         "t": 60
        },
        "polar": {
         "angularaxis": {
          "direction": "clockwise",
          "rotation": 90
         }
        },
        "template": {
         "data": {
          "bar": [
           {
            "marker": {
             "line": {
              "color": "#E5ECF6",
              "width": 0.5
             }
            },
            "type": "bar"
           }
          ],
          "barpolar": [
           {
            "marker": {
             "line": {
              "color": "#E5ECF6",
              "width": 0.5
             }
            },
            "type": "barpolar"
           }
          ],
          "carpet": [
           {
            "aaxis": {
             "endlinecolor": "#2a3f5f",
             "gridcolor": "white",
             "linecolor": "white",
             "minorgridcolor": "white",
             "startlinecolor": "#2a3f5f"
            },
            "baxis": {
             "endlinecolor": "#2a3f5f",
             "gridcolor": "white",
             "linecolor": "white",
             "minorgridcolor": "white",
             "startlinecolor": "#2a3f5f"
            },
            "type": "carpet"
           }
          ],
          "choropleth": [
           {
            "colorbar": {
             "outlinewidth": 0,
             "ticks": ""
            },
            "type": "choropleth"
           }
          ],
          "contour": [
           {
            "autocolorscale": true,
            "colorbar": {
             "outlinewidth": 0,
             "ticks": ""
            },
            "type": "contour"
           }
          ],
          "contourcarpet": [
           {
            "colorbar": {
             "outlinewidth": 0,
             "ticks": ""
            },
            "type": "contourcarpet"
           }
          ],
          "heatmap": [
           {
            "autocolorscale": true,
            "colorbar": {
             "outlinewidth": 0,
             "ticks": ""
            },
            "type": "heatmap"
           }
          ],
          "heatmapgl": [
           {
            "colorbar": {
             "outlinewidth": 0,
             "ticks": ""
            },
            "type": "heatmapgl"
           }
          ],
          "histogram": [
           {
            "marker": {
             "colorbar": {
              "outlinewidth": 0,
              "ticks": ""
             }
            },
            "type": "histogram"
           }
          ],
          "histogram2d": [
           {
            "autocolorscale": true,
            "colorbar": {
             "outlinewidth": 0,
             "ticks": ""
            },
            "type": "histogram2d"
           }
          ],
          "histogram2dcontour": [
           {
            "autocolorscale": true,
            "colorbar": {
             "outlinewidth": 0,
             "ticks": ""
            },
            "type": "histogram2dcontour"
           }
          ],
          "mesh3d": [
           {
            "colorbar": {
             "outlinewidth": 0,
             "ticks": ""
            },
            "type": "mesh3d"
           }
          ],
          "parcoords": [
           {
            "line": {
             "colorbar": {
              "outlinewidth": 0,
              "ticks": ""
             }
            },
            "type": "parcoords"
           }
          ],
          "scatter": [
           {
            "marker": {
             "colorbar": {
              "outlinewidth": 0,
              "ticks": ""
             }
            },
            "type": "scatter"
           }
          ],
          "scatter3d": [
           {
            "marker": {
             "colorbar": {
              "outlinewidth": 0,
              "ticks": ""
             }
            },
            "type": "scatter3d"
           }
          ],
          "scattercarpet": [
           {
            "marker": {
             "colorbar": {
              "outlinewidth": 0,
              "ticks": ""
             }
            },
            "type": "scattercarpet"
           }
          ],
          "scattergeo": [
           {
            "marker": {
             "colorbar": {
              "outlinewidth": 0,
              "ticks": ""
             }
            },
            "type": "scattergeo"
           }
          ],
          "scattergl": [
           {
            "marker": {
             "colorbar": {
              "outlinewidth": 0,
              "ticks": ""
             }
            },
            "type": "scattergl"
           }
          ],
          "scattermapbox": [
           {
            "marker": {
             "colorbar": {
              "outlinewidth": 0,
              "ticks": ""
             }
            },
            "type": "scattermapbox"
           }
          ],
          "scatterpolar": [
           {
            "marker": {
             "colorbar": {
              "outlinewidth": 0,
              "ticks": ""
             }
            },
            "type": "scatterpolar"
           }
          ],
          "scatterpolargl": [
           {
            "marker": {
             "colorbar": {
              "outlinewidth": 0,
              "ticks": ""
             }
            },
            "type": "scatterpolargl"
           }
          ],
          "scatterternary": [
           {
            "marker": {
             "colorbar": {
              "outlinewidth": 0,
              "ticks": ""
             }
            },
            "type": "scatterternary"
           }
          ],
          "surface": [
           {
            "colorbar": {
             "outlinewidth": 0,
             "ticks": ""
            },
            "type": "surface"
           }
          ],
          "table": [
           {
            "cells": {
             "fill": {
              "color": "#EBF0F8"
             },
             "line": {
              "color": "white"
             }
            },
            "header": {
             "fill": {
              "color": "#C8D4E3"
             },
             "line": {
              "color": "white"
             }
            },
            "type": "table"
           }
          ]
         },
         "layout": {
          "annotationdefaults": {
           "arrowcolor": "#506784",
           "arrowhead": 0,
           "arrowwidth": 1
          },
          "colorscale": {
           "diverging": [
            [
             0,
             "#8e0152"
            ],
            [
             0.1,
             "#c51b7d"
            ],
            [
             0.2,
             "#de77ae"
            ],
            [
             0.3,
             "#f1b6da"
            ],
            [
             0.4,
             "#fde0ef"
            ],
            [
             0.5,
             "#f7f7f7"
            ],
            [
             0.6,
             "#e6f5d0"
            ],
            [
             0.7,
             "#b8e186"
            ],
            [
             0.8,
             "#7fbc41"
            ],
            [
             0.9,
             "#4d9221"
            ],
            [
             1,
             "#276419"
            ]
           ],
           "sequential": [
            [
             0,
             "#0508b8"
            ],
            [
             0.0893854748603352,
             "#1910d8"
            ],
            [
             0.1787709497206704,
             "#3c19f0"
            ],
            [
             0.2681564245810056,
             "#6b1cfb"
            ],
            [
             0.3575418994413408,
             "#981cfd"
            ],
            [
             0.44692737430167595,
             "#bf1cfd"
            ],
            [
             0.5363128491620112,
             "#dd2bfd"
            ],
            [
             0.6256983240223464,
             "#f246fe"
            ],
            [
             0.7150837988826816,
             "#fc67fd"
            ],
            [
             0.8044692737430168,
             "#fe88fc"
            ],
            [
             0.8938547486033519,
             "#fea5fd"
            ],
            [
             0.9832402234636871,
             "#febefe"
            ],
            [
             1,
             "#fec3fe"
            ]
           ],
           "sequentialminus": [
            [
             0,
             "#0508b8"
            ],
            [
             0.0893854748603352,
             "#1910d8"
            ],
            [
             0.1787709497206704,
             "#3c19f0"
            ],
            [
             0.2681564245810056,
             "#6b1cfb"
            ],
            [
             0.3575418994413408,
             "#981cfd"
            ],
            [
             0.44692737430167595,
             "#bf1cfd"
            ],
            [
             0.5363128491620112,
             "#dd2bfd"
            ],
            [
             0.6256983240223464,
             "#f246fe"
            ],
            [
             0.7150837988826816,
             "#fc67fd"
            ],
            [
             0.8044692737430168,
             "#fe88fc"
            ],
            [
             0.8938547486033519,
             "#fea5fd"
            ],
            [
             0.9832402234636871,
             "#febefe"
            ],
            [
             1,
             "#fec3fe"
            ]
           ]
          },
          "colorway": [
           "#636efa",
           "#EF553B",
           "#00cc96",
           "#ab63fa",
           "#19d3f3",
           "#e763fa",
           "#FECB52",
           "#FFA15A",
           "#FF6692",
           "#B6E880"
          ],
          "font": {
           "color": "#2a3f5f"
          },
          "geo": {
           "bgcolor": "white",
           "lakecolor": "white",
           "landcolor": "#E5ECF6",
           "showlakes": true,
           "showland": true,
           "subunitcolor": "white"
          },
          "hovermode": "closest",
          "mapbox": {
           "style": "light"
          },
          "paper_bgcolor": "white",
          "plot_bgcolor": "#E5ECF6",
          "polar": {
           "angularaxis": {
            "gridcolor": "white",
            "linecolor": "white",
            "ticks": ""
           },
           "bgcolor": "#E5ECF6",
           "radialaxis": {
            "gridcolor": "white",
            "linecolor": "white",
            "ticks": ""
           }
          },
          "scene": {
           "xaxis": {
            "backgroundcolor": "#E5ECF6",
            "gridcolor": "white",
            "gridwidth": 2,
            "linecolor": "white",
            "showbackground": true,
            "ticks": "",
            "zerolinecolor": "white"
           },
           "yaxis": {
            "backgroundcolor": "#E5ECF6",
            "gridcolor": "white",
            "gridwidth": 2,
            "linecolor": "white",
            "showbackground": true,
            "ticks": "",
            "zerolinecolor": "white"
           },
           "zaxis": {
            "backgroundcolor": "#E5ECF6",
            "gridcolor": "white",
            "gridwidth": 2,
            "linecolor": "white",
            "showbackground": true,
            "ticks": "",
            "zerolinecolor": "white"
           }
          },
          "shapedefaults": {
           "fillcolor": "#506784",
           "line": {
            "width": 0
           },
           "opacity": 0.4
          },
          "ternary": {
           "aaxis": {
            "gridcolor": "white",
            "linecolor": "white",
            "ticks": ""
           },
           "baxis": {
            "gridcolor": "white",
            "linecolor": "white",
            "ticks": ""
           },
           "bgcolor": "#E5ECF6",
           "caxis": {
            "gridcolor": "white",
            "linecolor": "white",
            "ticks": ""
           }
          },
          "title": {
           "x": 0.05
          },
          "xaxis": {
           "automargin": true,
           "gridcolor": "white",
           "linecolor": "white",
           "ticks": "",
           "zerolinecolor": "white",
           "zerolinewidth": 2
          },
          "yaxis": {
           "automargin": true,
           "gridcolor": "white",
           "linecolor": "white",
           "ticks": "",
           "zerolinecolor": "white",
           "zerolinewidth": 2
          }
         }
        }
       }
      },
      "text/html": [
       "<div id=\"9182c366-a6f4-49ff-8fb9-ecaae487269b\" style=\"height: 600px; width: 100%;\" class=\"plotly-graph-div\"></div><script type=\"text/javascript\">require([\"plotly\"], function(Plotly) { window.PLOTLYENV=window.PLOTLYENV || {};window.PLOTLYENV.BASE_URL=\"https://plot.ly\";\n",
       "if (document.getElementById(\"9182c366-a6f4-49ff-8fb9-ecaae487269b\")) {\n",
       "    Plotly.newPlot(\"9182c366-a6f4-49ff-8fb9-ecaae487269b\", [{\"hovertemplate\": \"Nivel de estudios=Educaci\\u00f3n Primaria<br>counts=%{r}<br>cultural_cluster=%{theta}<extra></extra>\", \"legendgroup\": \"Nivel de estudios=Educaci\\u00f3n Primaria\", \"marker\": {\"color\": \"rgb(213,62,79)\"}, \"name\": \"Nivel de estudios=Educaci\\u00f3n Primaria\", \"r\": [3, 8, 3], \"showlegend\": true, \"theta\": [\"cluster_1\", \"cluster_2\", \"cluster_4\"], \"type\": \"barpolar\", \"uid\": \"1db46d92-0257-432f-bffc-2894943ce091\"}, {\"hovertemplate\": \"Nivel de estudios=FP<br>counts=%{r}<br>cultural_cluster=%{theta}<extra></extra>\", \"legendgroup\": \"Nivel de estudios=FP\", \"marker\": {\"color\": \"rgb(252,141,89)\"}, \"name\": \"Nivel de estudios=FP\", \"r\": [10, 23, 1, 8], \"showlegend\": true, \"theta\": [\"cluster_1\", \"cluster_2\", \"cluster_3\", \"cluster_4\"], \"type\": \"barpolar\", \"uid\": \"5c1cffaa-2c16-46f6-8ec4-4250f9d064af\"}, {\"hovertemplate\": \"Nivel de estudios=Sin terminar Educaci\\u00f3n Secundaria Obligatoria<br>counts=%{r}<br>cultural_cluster=%{theta}<extra></extra>\", \"legendgroup\": \"Nivel de estudios=Sin terminar Educaci\\u00f3n Secundaria Obligatoria\", \"marker\": {\"color\": \"rgb(254,224,139)\"}, \"name\": \"Nivel de estudios=Sin terminar Educaci\\u00f3n Secundaria Obligatoria\", \"r\": [21, 6, 3, 47], \"showlegend\": true, \"theta\": [\"cluster_1\", \"cluster_2\", \"cluster_3\", \"cluster_4\"], \"type\": \"barpolar\", \"uid\": \"a5f392f2-8d19-4d0f-a8d3-ee92ffc06e4f\"}, {\"hovertemplate\": \"Nivel de estudios=Terminada Educaci\\u00f3n Secundaria Obligatoria<br>counts=%{r}<br>cultural_cluster=%{theta}<extra></extra>\", \"legendgroup\": \"Nivel de estudios=Terminada Educaci\\u00f3n Secundaria Obligatoria\", \"marker\": {\"color\": \"rgb(230,245,152)\"}, \"name\": \"Nivel de estudios=Terminada Educaci\\u00f3n Secundaria Obligatoria\", \"r\": [14, 10, 3, 21], \"showlegend\": true, \"theta\": [\"cluster_1\", \"cluster_2\", \"cluster_3\", \"cluster_4\"], \"type\": \"barpolar\", \"uid\": \"9cb642a2-5025-458d-9a5d-b745e737531d\"}, {\"hovertemplate\": \"Nivel de estudios=Universitario graduado<br>counts=%{r}<br>cultural_cluster=%{theta}<extra></extra>\", \"legendgroup\": \"Nivel de estudios=Universitario graduado\", \"marker\": {\"color\": \"rgb(153,213,148)\"}, \"name\": \"Nivel de estudios=Universitario graduado\", \"r\": [118, 199, 14, 100], \"showlegend\": true, \"theta\": [\"cluster_1\", \"cluster_2\", \"cluster_3\", \"cluster_4\"], \"type\": \"barpolar\", \"uid\": \"c1406203-8625-49f0-b8ba-eb2a2876118b\"}, {\"hovertemplate\": \"Nivel de estudios=Universitario sin graduar<br>counts=%{r}<br>cultural_cluster=%{theta}<extra></extra>\", \"legendgroup\": \"Nivel de estudios=Universitario sin graduar\", \"marker\": {\"color\": \"rgb(50,136,189)\"}, \"name\": \"Nivel de estudios=Universitario sin graduar\", \"r\": [57, 55, 6, 36, 1], \"showlegend\": true, \"theta\": [\"cluster_1\", \"cluster_2\", \"cluster_3\", \"cluster_4\", \"cluster_5\"], \"type\": \"barpolar\", \"uid\": \"c7aaa372-584e-416e-bbea-05625388bb14\"}], {\"barmode\": \"group\", \"barnorm\": \"\", \"height\": 600, \"legend\": {\"tracegroupgap\": 0}, \"margin\": {\"t\": 60}, \"template\": {\"data\": {\"barpolar\": [{\"marker\": {\"line\": {\"color\": \"#E5ECF6\", \"width\": 0.5}}, \"type\": \"barpolar\"}], \"bar\": [{\"marker\": {\"line\": {\"color\": \"#E5ECF6\", \"width\": 0.5}}, \"type\": \"bar\"}], \"carpet\": [{\"aaxis\": {\"endlinecolor\": \"#2a3f5f\", \"gridcolor\": \"white\", \"linecolor\": \"white\", \"minorgridcolor\": \"white\", \"startlinecolor\": \"#2a3f5f\"}, \"baxis\": {\"endlinecolor\": \"#2a3f5f\", \"gridcolor\": \"white\", \"linecolor\": \"white\", \"minorgridcolor\": \"white\", \"startlinecolor\": \"#2a3f5f\"}, \"type\": \"carpet\"}], \"choropleth\": [{\"colorbar\": {\"outlinewidth\": 0, \"ticks\": \"\"}, \"type\": \"choropleth\"}], \"contourcarpet\": [{\"colorbar\": {\"outlinewidth\": 0, \"ticks\": \"\"}, \"type\": \"contourcarpet\"}], \"contour\": [{\"autocolorscale\": true, \"colorbar\": {\"outlinewidth\": 0, \"ticks\": \"\"}, \"type\": \"contour\"}], \"heatmapgl\": [{\"colorbar\": {\"outlinewidth\": 0, \"ticks\": \"\"}, \"type\": \"heatmapgl\"}], \"heatmap\": [{\"autocolorscale\": true, \"colorbar\": {\"outlinewidth\": 0, \"ticks\": \"\"}, \"type\": \"heatmap\"}], \"histogram2dcontour\": [{\"autocolorscale\": true, \"colorbar\": {\"outlinewidth\": 0, \"ticks\": \"\"}, \"type\": \"histogram2dcontour\"}], \"histogram2d\": [{\"autocolorscale\": true, \"colorbar\": {\"outlinewidth\": 0, \"ticks\": \"\"}, \"type\": \"histogram2d\"}], \"histogram\": [{\"marker\": {\"colorbar\": {\"outlinewidth\": 0, \"ticks\": \"\"}}, \"type\": \"histogram\"}], \"mesh3d\": [{\"colorbar\": {\"outlinewidth\": 0, \"ticks\": \"\"}, \"type\": \"mesh3d\"}], \"parcoords\": [{\"line\": {\"colorbar\": {\"outlinewidth\": 0, \"ticks\": \"\"}}, \"type\": \"parcoords\"}], \"scatter3d\": [{\"marker\": {\"colorbar\": {\"outlinewidth\": 0, \"ticks\": \"\"}}, \"type\": \"scatter3d\"}], \"scattercarpet\": [{\"marker\": {\"colorbar\": {\"outlinewidth\": 0, \"ticks\": \"\"}}, \"type\": \"scattercarpet\"}], \"scattergeo\": [{\"marker\": {\"colorbar\": {\"outlinewidth\": 0, \"ticks\": \"\"}}, \"type\": \"scattergeo\"}], \"scattergl\": [{\"marker\": {\"colorbar\": {\"outlinewidth\": 0, \"ticks\": \"\"}}, \"type\": \"scattergl\"}], \"scattermapbox\": [{\"marker\": {\"colorbar\": {\"outlinewidth\": 0, \"ticks\": \"\"}}, \"type\": \"scattermapbox\"}], \"scatterpolargl\": [{\"marker\": {\"colorbar\": {\"outlinewidth\": 0, \"ticks\": \"\"}}, \"type\": \"scatterpolargl\"}], \"scatterpolar\": [{\"marker\": {\"colorbar\": {\"outlinewidth\": 0, \"ticks\": \"\"}}, \"type\": \"scatterpolar\"}], \"scatter\": [{\"marker\": {\"colorbar\": {\"outlinewidth\": 0, \"ticks\": \"\"}}, \"type\": \"scatter\"}], \"scatterternary\": [{\"marker\": {\"colorbar\": {\"outlinewidth\": 0, \"ticks\": \"\"}}, \"type\": \"scatterternary\"}], \"surface\": [{\"colorbar\": {\"outlinewidth\": 0, \"ticks\": \"\"}, \"type\": \"surface\"}], \"table\": [{\"cells\": {\"fill\": {\"color\": \"#EBF0F8\"}, \"line\": {\"color\": \"white\"}}, \"header\": {\"fill\": {\"color\": \"#C8D4E3\"}, \"line\": {\"color\": \"white\"}}, \"type\": \"table\"}]}, \"layout\": {\"annotationdefaults\": {\"arrowcolor\": \"#506784\", \"arrowhead\": 0, \"arrowwidth\": 1}, \"colorscale\": {\"diverging\": [[0, \"#8e0152\"], [0.1, \"#c51b7d\"], [0.2, \"#de77ae\"], [0.3, \"#f1b6da\"], [0.4, \"#fde0ef\"], [0.5, \"#f7f7f7\"], [0.6, \"#e6f5d0\"], [0.7, \"#b8e186\"], [0.8, \"#7fbc41\"], [0.9, \"#4d9221\"], [1, \"#276419\"]], \"sequential\": [[0.0, \"#0508b8\"], [0.0893854748603352, \"#1910d8\"], [0.1787709497206704, \"#3c19f0\"], [0.2681564245810056, \"#6b1cfb\"], [0.3575418994413408, \"#981cfd\"], [0.44692737430167595, \"#bf1cfd\"], [0.5363128491620112, \"#dd2bfd\"], [0.6256983240223464, \"#f246fe\"], [0.7150837988826816, \"#fc67fd\"], [0.8044692737430168, \"#fe88fc\"], [0.8938547486033519, \"#fea5fd\"], [0.9832402234636871, \"#febefe\"], [1.0, \"#fec3fe\"]], \"sequentialminus\": [[0.0, \"#0508b8\"], [0.0893854748603352, \"#1910d8\"], [0.1787709497206704, \"#3c19f0\"], [0.2681564245810056, \"#6b1cfb\"], [0.3575418994413408, \"#981cfd\"], [0.44692737430167595, \"#bf1cfd\"], [0.5363128491620112, \"#dd2bfd\"], [0.6256983240223464, \"#f246fe\"], [0.7150837988826816, \"#fc67fd\"], [0.8044692737430168, \"#fe88fc\"], [0.8938547486033519, \"#fea5fd\"], [0.9832402234636871, \"#febefe\"], [1.0, \"#fec3fe\"]]}, \"colorway\": [\"#636efa\", \"#EF553B\", \"#00cc96\", \"#ab63fa\", \"#19d3f3\", \"#e763fa\", \"#FECB52\", \"#FFA15A\", \"#FF6692\", \"#B6E880\"], \"font\": {\"color\": \"#2a3f5f\"}, \"geo\": {\"bgcolor\": \"white\", \"lakecolor\": \"white\", \"landcolor\": \"#E5ECF6\", \"showlakes\": true, \"showland\": true, \"subunitcolor\": \"white\"}, \"hovermode\": \"closest\", \"mapbox\": {\"style\": \"light\"}, \"paper_bgcolor\": \"white\", \"plot_bgcolor\": \"#E5ECF6\", \"polar\": {\"angularaxis\": {\"gridcolor\": \"white\", \"linecolor\": \"white\", \"ticks\": \"\"}, \"bgcolor\": \"#E5ECF6\", \"radialaxis\": {\"gridcolor\": \"white\", \"linecolor\": \"white\", \"ticks\": \"\"}}, \"scene\": {\"xaxis\": {\"backgroundcolor\": \"#E5ECF6\", \"gridcolor\": \"white\", \"gridwidth\": 2, \"linecolor\": \"white\", \"showbackground\": true, \"ticks\": \"\", \"zerolinecolor\": \"white\"}, \"yaxis\": {\"backgroundcolor\": \"#E5ECF6\", \"gridcolor\": \"white\", \"gridwidth\": 2, \"linecolor\": \"white\", \"showbackground\": true, \"ticks\": \"\", \"zerolinecolor\": \"white\"}, \"zaxis\": {\"backgroundcolor\": \"#E5ECF6\", \"gridcolor\": \"white\", \"gridwidth\": 2, \"linecolor\": \"white\", \"showbackground\": true, \"ticks\": \"\", \"zerolinecolor\": \"white\"}}, \"shapedefaults\": {\"fillcolor\": \"#506784\", \"line\": {\"width\": 0}, \"opacity\": 0.4}, \"ternary\": {\"aaxis\": {\"gridcolor\": \"white\", \"linecolor\": \"white\", \"ticks\": \"\"}, \"baxis\": {\"gridcolor\": \"white\", \"linecolor\": \"white\", \"ticks\": \"\"}, \"bgcolor\": \"#E5ECF6\", \"caxis\": {\"gridcolor\": \"white\", \"linecolor\": \"white\", \"ticks\": \"\"}}, \"title\": {\"x\": 0.05}, \"xaxis\": {\"automargin\": true, \"gridcolor\": \"white\", \"linecolor\": \"white\", \"ticks\": \"\", \"zerolinecolor\": \"white\", \"zerolinewidth\": 2}, \"yaxis\": {\"automargin\": true, \"gridcolor\": \"white\", \"linecolor\": \"white\", \"ticks\": \"\", \"zerolinecolor\": \"white\", \"zerolinewidth\": 2}}}, \"polar\": {\"angularaxis\": {\"direction\": \"clockwise\", \"rotation\": 90}}}, {\"showLink\": false, \"linkText\": \"Export to plot.ly\", \"plotlyServerURL\": \"https://plot.ly\"}); \n",
       "}\n",
       "});</script><script type=\"text/javascript\">window.addEventListener(\"resize\", function(){if (document.getElementById(\"9182c366-a6f4-49ff-8fb9-ecaae487269b\")) {window._Plotly.Plots.resize(document.getElementById(\"9182c366-a6f4-49ff-8fb9-ecaae487269b\"));};})</script>"
      ],
      "text/vnd.plotly.v1+html": [
       "<div id=\"9182c366-a6f4-49ff-8fb9-ecaae487269b\" style=\"height: 600px; width: 100%;\" class=\"plotly-graph-div\"></div><script type=\"text/javascript\">require([\"plotly\"], function(Plotly) { window.PLOTLYENV=window.PLOTLYENV || {};window.PLOTLYENV.BASE_URL=\"https://plot.ly\";\n",
       "if (document.getElementById(\"9182c366-a6f4-49ff-8fb9-ecaae487269b\")) {\n",
       "    Plotly.newPlot(\"9182c366-a6f4-49ff-8fb9-ecaae487269b\", [{\"hovertemplate\": \"Nivel de estudios=Educaci\\u00f3n Primaria<br>counts=%{r}<br>cultural_cluster=%{theta}<extra></extra>\", \"legendgroup\": \"Nivel de estudios=Educaci\\u00f3n Primaria\", \"marker\": {\"color\": \"rgb(213,62,79)\"}, \"name\": \"Nivel de estudios=Educaci\\u00f3n Primaria\", \"r\": [3, 8, 3], \"showlegend\": true, \"theta\": [\"cluster_1\", \"cluster_2\", \"cluster_4\"], \"type\": \"barpolar\", \"uid\": \"1db46d92-0257-432f-bffc-2894943ce091\"}, {\"hovertemplate\": \"Nivel de estudios=FP<br>counts=%{r}<br>cultural_cluster=%{theta}<extra></extra>\", \"legendgroup\": \"Nivel de estudios=FP\", \"marker\": {\"color\": \"rgb(252,141,89)\"}, \"name\": \"Nivel de estudios=FP\", \"r\": [10, 23, 1, 8], \"showlegend\": true, \"theta\": [\"cluster_1\", \"cluster_2\", \"cluster_3\", \"cluster_4\"], \"type\": \"barpolar\", \"uid\": \"5c1cffaa-2c16-46f6-8ec4-4250f9d064af\"}, {\"hovertemplate\": \"Nivel de estudios=Sin terminar Educaci\\u00f3n Secundaria Obligatoria<br>counts=%{r}<br>cultural_cluster=%{theta}<extra></extra>\", \"legendgroup\": \"Nivel de estudios=Sin terminar Educaci\\u00f3n Secundaria Obligatoria\", \"marker\": {\"color\": \"rgb(254,224,139)\"}, \"name\": \"Nivel de estudios=Sin terminar Educaci\\u00f3n Secundaria Obligatoria\", \"r\": [21, 6, 3, 47], \"showlegend\": true, \"theta\": [\"cluster_1\", \"cluster_2\", \"cluster_3\", \"cluster_4\"], \"type\": \"barpolar\", \"uid\": \"a5f392f2-8d19-4d0f-a8d3-ee92ffc06e4f\"}, {\"hovertemplate\": \"Nivel de estudios=Terminada Educaci\\u00f3n Secundaria Obligatoria<br>counts=%{r}<br>cultural_cluster=%{theta}<extra></extra>\", \"legendgroup\": \"Nivel de estudios=Terminada Educaci\\u00f3n Secundaria Obligatoria\", \"marker\": {\"color\": \"rgb(230,245,152)\"}, \"name\": \"Nivel de estudios=Terminada Educaci\\u00f3n Secundaria Obligatoria\", \"r\": [14, 10, 3, 21], \"showlegend\": true, \"theta\": [\"cluster_1\", \"cluster_2\", \"cluster_3\", \"cluster_4\"], \"type\": \"barpolar\", \"uid\": \"9cb642a2-5025-458d-9a5d-b745e737531d\"}, {\"hovertemplate\": \"Nivel de estudios=Universitario graduado<br>counts=%{r}<br>cultural_cluster=%{theta}<extra></extra>\", \"legendgroup\": \"Nivel de estudios=Universitario graduado\", \"marker\": {\"color\": \"rgb(153,213,148)\"}, \"name\": \"Nivel de estudios=Universitario graduado\", \"r\": [118, 199, 14, 100], \"showlegend\": true, \"theta\": [\"cluster_1\", \"cluster_2\", \"cluster_3\", \"cluster_4\"], \"type\": \"barpolar\", \"uid\": \"c1406203-8625-49f0-b8ba-eb2a2876118b\"}, {\"hovertemplate\": \"Nivel de estudios=Universitario sin graduar<br>counts=%{r}<br>cultural_cluster=%{theta}<extra></extra>\", \"legendgroup\": \"Nivel de estudios=Universitario sin graduar\", \"marker\": {\"color\": \"rgb(50,136,189)\"}, \"name\": \"Nivel de estudios=Universitario sin graduar\", \"r\": [57, 55, 6, 36, 1], \"showlegend\": true, \"theta\": [\"cluster_1\", \"cluster_2\", \"cluster_3\", \"cluster_4\", \"cluster_5\"], \"type\": \"barpolar\", \"uid\": \"c7aaa372-584e-416e-bbea-05625388bb14\"}], {\"barmode\": \"group\", \"barnorm\": \"\", \"height\": 600, \"legend\": {\"tracegroupgap\": 0}, \"margin\": {\"t\": 60}, \"template\": {\"data\": {\"barpolar\": [{\"marker\": {\"line\": {\"color\": \"#E5ECF6\", \"width\": 0.5}}, \"type\": \"barpolar\"}], \"bar\": [{\"marker\": {\"line\": {\"color\": \"#E5ECF6\", \"width\": 0.5}}, \"type\": \"bar\"}], \"carpet\": [{\"aaxis\": {\"endlinecolor\": \"#2a3f5f\", \"gridcolor\": \"white\", \"linecolor\": \"white\", \"minorgridcolor\": \"white\", \"startlinecolor\": \"#2a3f5f\"}, \"baxis\": {\"endlinecolor\": \"#2a3f5f\", \"gridcolor\": \"white\", \"linecolor\": \"white\", \"minorgridcolor\": \"white\", \"startlinecolor\": \"#2a3f5f\"}, \"type\": \"carpet\"}], \"choropleth\": [{\"colorbar\": {\"outlinewidth\": 0, \"ticks\": \"\"}, \"type\": \"choropleth\"}], \"contourcarpet\": [{\"colorbar\": {\"outlinewidth\": 0, \"ticks\": \"\"}, \"type\": \"contourcarpet\"}], \"contour\": [{\"autocolorscale\": true, \"colorbar\": {\"outlinewidth\": 0, \"ticks\": \"\"}, \"type\": \"contour\"}], \"heatmapgl\": [{\"colorbar\": {\"outlinewidth\": 0, \"ticks\": \"\"}, \"type\": \"heatmapgl\"}], \"heatmap\": [{\"autocolorscale\": true, \"colorbar\": {\"outlinewidth\": 0, \"ticks\": \"\"}, \"type\": \"heatmap\"}], \"histogram2dcontour\": [{\"autocolorscale\": true, \"colorbar\": {\"outlinewidth\": 0, \"ticks\": \"\"}, \"type\": \"histogram2dcontour\"}], \"histogram2d\": [{\"autocolorscale\": true, \"colorbar\": {\"outlinewidth\": 0, \"ticks\": \"\"}, \"type\": \"histogram2d\"}], \"histogram\": [{\"marker\": {\"colorbar\": {\"outlinewidth\": 0, \"ticks\": \"\"}}, \"type\": \"histogram\"}], \"mesh3d\": [{\"colorbar\": {\"outlinewidth\": 0, \"ticks\": \"\"}, \"type\": \"mesh3d\"}], \"parcoords\": [{\"line\": {\"colorbar\": {\"outlinewidth\": 0, \"ticks\": \"\"}}, \"type\": \"parcoords\"}], \"scatter3d\": [{\"marker\": {\"colorbar\": {\"outlinewidth\": 0, \"ticks\": \"\"}}, \"type\": \"scatter3d\"}], \"scattercarpet\": [{\"marker\": {\"colorbar\": {\"outlinewidth\": 0, \"ticks\": \"\"}}, \"type\": \"scattercarpet\"}], \"scattergeo\": [{\"marker\": {\"colorbar\": {\"outlinewidth\": 0, \"ticks\": \"\"}}, \"type\": \"scattergeo\"}], \"scattergl\": [{\"marker\": {\"colorbar\": {\"outlinewidth\": 0, \"ticks\": \"\"}}, \"type\": \"scattergl\"}], \"scattermapbox\": [{\"marker\": {\"colorbar\": {\"outlinewidth\": 0, \"ticks\": \"\"}}, \"type\": \"scattermapbox\"}], \"scatterpolargl\": [{\"marker\": {\"colorbar\": {\"outlinewidth\": 0, \"ticks\": \"\"}}, \"type\": \"scatterpolargl\"}], \"scatterpolar\": [{\"marker\": {\"colorbar\": {\"outlinewidth\": 0, \"ticks\": \"\"}}, \"type\": \"scatterpolar\"}], \"scatter\": [{\"marker\": {\"colorbar\": {\"outlinewidth\": 0, \"ticks\": \"\"}}, \"type\": \"scatter\"}], \"scatterternary\": [{\"marker\": {\"colorbar\": {\"outlinewidth\": 0, \"ticks\": \"\"}}, \"type\": \"scatterternary\"}], \"surface\": [{\"colorbar\": {\"outlinewidth\": 0, \"ticks\": \"\"}, \"type\": \"surface\"}], \"table\": [{\"cells\": {\"fill\": {\"color\": \"#EBF0F8\"}, \"line\": {\"color\": \"white\"}}, \"header\": {\"fill\": {\"color\": \"#C8D4E3\"}, \"line\": {\"color\": \"white\"}}, \"type\": \"table\"}]}, \"layout\": {\"annotationdefaults\": {\"arrowcolor\": \"#506784\", \"arrowhead\": 0, \"arrowwidth\": 1}, \"colorscale\": {\"diverging\": [[0, \"#8e0152\"], [0.1, \"#c51b7d\"], [0.2, \"#de77ae\"], [0.3, \"#f1b6da\"], [0.4, \"#fde0ef\"], [0.5, \"#f7f7f7\"], [0.6, \"#e6f5d0\"], [0.7, \"#b8e186\"], [0.8, \"#7fbc41\"], [0.9, \"#4d9221\"], [1, \"#276419\"]], \"sequential\": [[0.0, \"#0508b8\"], [0.0893854748603352, \"#1910d8\"], [0.1787709497206704, \"#3c19f0\"], [0.2681564245810056, \"#6b1cfb\"], [0.3575418994413408, \"#981cfd\"], [0.44692737430167595, \"#bf1cfd\"], [0.5363128491620112, \"#dd2bfd\"], [0.6256983240223464, \"#f246fe\"], [0.7150837988826816, \"#fc67fd\"], [0.8044692737430168, \"#fe88fc\"], [0.8938547486033519, \"#fea5fd\"], [0.9832402234636871, \"#febefe\"], [1.0, \"#fec3fe\"]], \"sequentialminus\": [[0.0, \"#0508b8\"], [0.0893854748603352, \"#1910d8\"], [0.1787709497206704, \"#3c19f0\"], [0.2681564245810056, \"#6b1cfb\"], [0.3575418994413408, \"#981cfd\"], [0.44692737430167595, \"#bf1cfd\"], [0.5363128491620112, \"#dd2bfd\"], [0.6256983240223464, \"#f246fe\"], [0.7150837988826816, \"#fc67fd\"], [0.8044692737430168, \"#fe88fc\"], [0.8938547486033519, \"#fea5fd\"], [0.9832402234636871, \"#febefe\"], [1.0, \"#fec3fe\"]]}, \"colorway\": [\"#636efa\", \"#EF553B\", \"#00cc96\", \"#ab63fa\", \"#19d3f3\", \"#e763fa\", \"#FECB52\", \"#FFA15A\", \"#FF6692\", \"#B6E880\"], \"font\": {\"color\": \"#2a3f5f\"}, \"geo\": {\"bgcolor\": \"white\", \"lakecolor\": \"white\", \"landcolor\": \"#E5ECF6\", \"showlakes\": true, \"showland\": true, \"subunitcolor\": \"white\"}, \"hovermode\": \"closest\", \"mapbox\": {\"style\": \"light\"}, \"paper_bgcolor\": \"white\", \"plot_bgcolor\": \"#E5ECF6\", \"polar\": {\"angularaxis\": {\"gridcolor\": \"white\", \"linecolor\": \"white\", \"ticks\": \"\"}, \"bgcolor\": \"#E5ECF6\", \"radialaxis\": {\"gridcolor\": \"white\", \"linecolor\": \"white\", \"ticks\": \"\"}}, \"scene\": {\"xaxis\": {\"backgroundcolor\": \"#E5ECF6\", \"gridcolor\": \"white\", \"gridwidth\": 2, \"linecolor\": \"white\", \"showbackground\": true, \"ticks\": \"\", \"zerolinecolor\": \"white\"}, \"yaxis\": {\"backgroundcolor\": \"#E5ECF6\", \"gridcolor\": \"white\", \"gridwidth\": 2, \"linecolor\": \"white\", \"showbackground\": true, \"ticks\": \"\", \"zerolinecolor\": \"white\"}, \"zaxis\": {\"backgroundcolor\": \"#E5ECF6\", \"gridcolor\": \"white\", \"gridwidth\": 2, \"linecolor\": \"white\", \"showbackground\": true, \"ticks\": \"\", \"zerolinecolor\": \"white\"}}, \"shapedefaults\": {\"fillcolor\": \"#506784\", \"line\": {\"width\": 0}, \"opacity\": 0.4}, \"ternary\": {\"aaxis\": {\"gridcolor\": \"white\", \"linecolor\": \"white\", \"ticks\": \"\"}, \"baxis\": {\"gridcolor\": \"white\", \"linecolor\": \"white\", \"ticks\": \"\"}, \"bgcolor\": \"#E5ECF6\", \"caxis\": {\"gridcolor\": \"white\", \"linecolor\": \"white\", \"ticks\": \"\"}}, \"title\": {\"x\": 0.05}, \"xaxis\": {\"automargin\": true, \"gridcolor\": \"white\", \"linecolor\": \"white\", \"ticks\": \"\", \"zerolinecolor\": \"white\", \"zerolinewidth\": 2}, \"yaxis\": {\"automargin\": true, \"gridcolor\": \"white\", \"linecolor\": \"white\", \"ticks\": \"\", \"zerolinecolor\": \"white\", \"zerolinewidth\": 2}}}, \"polar\": {\"angularaxis\": {\"direction\": \"clockwise\", \"rotation\": 90}}}, {\"showLink\": false, \"linkText\": \"Export to plot.ly\", \"plotlyServerURL\": \"https://plot.ly\"}); \n",
       "}\n",
       "});</script><script type=\"text/javascript\">window.addEventListener(\"resize\", function(){if (document.getElementById(\"9182c366-a6f4-49ff-8fb9-ecaae487269b\")) {window._Plotly.Plots.resize(document.getElementById(\"9182c366-a6f4-49ff-8fb9-ecaae487269b\"));};})</script>"
      ]
     },
     "metadata": {},
     "output_type": "display_data"
    }
   ],
   "source": [
    "compare_personal_info_by_cultural_clusters_esp(dataframe_with_clusters_esp)"
   ]
  },
  {
   "cell_type": "code",
   "execution_count": 12,
   "metadata": {},
   "outputs": [],
   "source": [
    "# compare_personal_info_by_cultural_clusters_en(dataframe_with_clusters_en)"
   ]
  },
  {
   "cell_type": "code",
   "execution_count": null,
   "metadata": {},
   "outputs": [],
   "source": []
  }
 ],
 "metadata": {
  "kernelspec": {
   "display_name": "Python 3",
   "language": "python",
   "name": "python3"
  },
  "language_info": {
   "codemirror_mode": {
    "name": "ipython",
    "version": 3
   },
   "file_extension": ".py",
   "mimetype": "text/x-python",
   "name": "python",
   "nbconvert_exporter": "python",
   "pygments_lexer": "ipython3",
   "version": "3.6.8"
  }
 },
 "nbformat": 4,
 "nbformat_minor": 2
}

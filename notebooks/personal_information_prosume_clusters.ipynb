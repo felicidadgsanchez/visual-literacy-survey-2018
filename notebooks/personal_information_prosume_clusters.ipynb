{
 "cells": [
  {
   "cell_type": "code",
   "execution_count": 1,
   "metadata": {},
   "outputs": [
    {
     "name": "stdout",
     "output_type": "stream",
     "text": [
      "Importing Jupyter notebook from data_preparation.ipynb\n",
      "Importing Jupyter notebook from prosume_clustering.ipynb\n"
     ]
    }
   ],
   "source": [
    "import nbimporter\n",
    "from data_preparation import *\n",
    "from prosume_clustering import * "
   ]
  },
  {
   "cell_type": "code",
   "execution_count": 2,
   "metadata": {},
   "outputs": [
    {
     "data": {
      "text/html": [
       "<script type=\"text/javascript\">window.PlotlyConfig = {MathJaxConfig: 'local'};</script><script type=\"text/javascript\">if (window.MathJax) {MathJax.Hub.Config({SVG: {font: \"STIX-Web\"}});}</script><script>requirejs.config({paths: { 'plotly': ['https://cdn.plot.ly/plotly-latest.min']},});if(!window._Plotly) {require(['plotly'],function(plotly) {window._Plotly=plotly;});}</script>"
      ],
      "text/vnd.plotly.v1+html": [
       "<script type=\"text/javascript\">window.PlotlyConfig = {MathJaxConfig: 'local'};</script><script type=\"text/javascript\">if (window.MathJax) {MathJax.Hub.Config({SVG: {font: \"STIX-Web\"}});}</script><script>requirejs.config({paths: { 'plotly': ['https://cdn.plot.ly/plotly-latest.min']},});if(!window._Plotly) {require(['plotly'],function(plotly) {window._Plotly=plotly;});}</script>"
      ]
     },
     "metadata": {},
     "output_type": "display_data"
    }
   ],
   "source": [
    "import matplotlib.pyplot as plt\n",
    "plt.style.use('fivethirtyeight')\n",
    "import colorlover as cl\n",
    "\n",
    "from plotly.offline import download_plotlyjs, init_notebook_mode, plot, iplot\n",
    "import plotly.graph_objs as go\n",
    "init_notebook_mode(connected=True)"
   ]
  },
  {
   "cell_type": "code",
   "execution_count": 3,
   "metadata": {},
   "outputs": [
    {
     "name": "stderr",
     "output_type": "stream",
     "text": [
      "prosume_clustering.ipynb:17: DataConversionWarning:\n",
      "\n",
      "Data with input dtype int64 were all converted to float64 by the scale function.\n",
      "\n"
     ]
    },
    {
     "data": {
      "text/html": [
       "<div>\n",
       "<style scoped>\n",
       "    .dataframe tbody tr th:only-of-type {\n",
       "        vertical-align: middle;\n",
       "    }\n",
       "\n",
       "    .dataframe tbody tr th {\n",
       "        vertical-align: top;\n",
       "    }\n",
       "\n",
       "    .dataframe thead th {\n",
       "        text-align: right;\n",
       "    }\n",
       "</style>\n",
       "<table border=\"1\" class=\"dataframe\">\n",
       "  <thead>\n",
       "    <tr style=\"text-align: right;\">\n",
       "      <th></th>\n",
       "      <th>Cuando compartes imágenes, ¿habitualmente las envías a otras personas?</th>\n",
       "      <th>Cuando compartes imágenes, ¿habitualmente las produces tú?</th>\n",
       "      <th>Cuando compartes imágenes, ¿habitualmente las recibes de otras personas?</th>\n",
       "      <th>Cuando generas una imagen, ¿qué tipo de dispositivo usas? (Respuesta múltiple) [1. Cámara de fotos]</th>\n",
       "      <th>Cuando generas una imagen, ¿qué tipo de dispositivo usas? (Respuesta múltiple) [2. Teléfono móvil]</th>\n",
       "      <th>Cuando generas una imagen, ¿qué tipo de dispositivo usas? (Respuesta múltiple) [3. Tableta]</th>\n",
       "      <th>Cuando produces imágenes, ¿cuánto tiempo dedicas a prepararlas? (minutos)</th>\n",
       "      <th>Cuando produces imágenes, ¿piensas en la imagen que quieres crear antes de hacerla?</th>\n",
       "      <th>Dentro de tus redes sociales o aplicaciones móviles, ¿se comparte información visual que tú no buscas (campañas de concienciación social, chistes, publicidad, etc.)?</th>\n",
       "      <th>En tu entorno, ¿las personas que utilizan la tecnología crean imágenes y las comparten?</th>\n",
       "      <th>...</th>\n",
       "      <th>¿Qué tipo de aplicaciones utilizas en tu ordenador/tableta/móvil? (Respuesta múltiple) [1. Apps de contenidos audiovisuales (Netflix, HBO, etc.)]</th>\n",
       "      <th>¿Qué tipo de aplicaciones utilizas en tu ordenador/tableta/móvil? (Respuesta múltiple) [2. Aplicaciones de mensajería (Whatsapp, Facebook Messenger, etc.)]</th>\n",
       "      <th>¿Qué tipo de aplicaciones utilizas en tu ordenador/tableta/móvil? (Respuesta múltiple) [3. Bibliotecas de fotos online (Google Photos, iPhoto, etc.)]</th>\n",
       "      <th>¿Qué tipo de aplicaciones utilizas en tu ordenador/tableta/móvil? (Respuesta múltiple) [4. Redes sociales (Facebook, Instagram, Twitter, etc.).]</th>\n",
       "      <th>¿Qué tipo de aplicaciones utilizas en tu ordenador/tableta/móvil? (Respuesta múltiple) [5. Aplicaciones de vídeo (Youtube, Vimeo, etc.).]</th>\n",
       "      <th>¿Te gusta seguir a personas que admiras en redes sociales? ¿Eres fan o follower de alguna? ¿En ocasiones escribes comentarios en sus publicaciones?</th>\n",
       "      <th>¿Tienes acceso a dispositivos (ordenador, móvil, tablet, etc.) conectados a Internet habitualmente?</th>\n",
       "      <th>¿Tienes alguna carencia visual que afecte a la recepción de formas, colores, distancias, etc.?</th>\n",
       "      <th>¿Utilizas gafas o lentes de contacto?</th>\n",
       "      <th>prosume_cluster</th>\n",
       "    </tr>\n",
       "  </thead>\n",
       "  <tbody>\n",
       "    <tr>\n",
       "      <th>0</th>\n",
       "      <td>3</td>\n",
       "      <td>4</td>\n",
       "      <td>3</td>\n",
       "      <td>0</td>\n",
       "      <td>1</td>\n",
       "      <td>0</td>\n",
       "      <td>1.0</td>\n",
       "      <td>3</td>\n",
       "      <td>4</td>\n",
       "      <td>4</td>\n",
       "      <td>...</td>\n",
       "      <td>1</td>\n",
       "      <td>1</td>\n",
       "      <td>1</td>\n",
       "      <td>1</td>\n",
       "      <td>1</td>\n",
       "      <td>3</td>\n",
       "      <td>5</td>\n",
       "      <td>0</td>\n",
       "      <td>1</td>\n",
       "      <td>5</td>\n",
       "    </tr>\n",
       "    <tr>\n",
       "      <th>1</th>\n",
       "      <td>5</td>\n",
       "      <td>4</td>\n",
       "      <td>5</td>\n",
       "      <td>0</td>\n",
       "      <td>1</td>\n",
       "      <td>0</td>\n",
       "      <td>1.0</td>\n",
       "      <td>5</td>\n",
       "      <td>5</td>\n",
       "      <td>5</td>\n",
       "      <td>...</td>\n",
       "      <td>1</td>\n",
       "      <td>1</td>\n",
       "      <td>0</td>\n",
       "      <td>0</td>\n",
       "      <td>1</td>\n",
       "      <td>1</td>\n",
       "      <td>5</td>\n",
       "      <td>0</td>\n",
       "      <td>1</td>\n",
       "      <td>5</td>\n",
       "    </tr>\n",
       "    <tr>\n",
       "      <th>2</th>\n",
       "      <td>3</td>\n",
       "      <td>4</td>\n",
       "      <td>4</td>\n",
       "      <td>0</td>\n",
       "      <td>1</td>\n",
       "      <td>0</td>\n",
       "      <td>1.0</td>\n",
       "      <td>5</td>\n",
       "      <td>4</td>\n",
       "      <td>4</td>\n",
       "      <td>...</td>\n",
       "      <td>1</td>\n",
       "      <td>1</td>\n",
       "      <td>1</td>\n",
       "      <td>1</td>\n",
       "      <td>1</td>\n",
       "      <td>3</td>\n",
       "      <td>5</td>\n",
       "      <td>0</td>\n",
       "      <td>1</td>\n",
       "      <td>5</td>\n",
       "    </tr>\n",
       "    <tr>\n",
       "      <th>3</th>\n",
       "      <td>4</td>\n",
       "      <td>4</td>\n",
       "      <td>2</td>\n",
       "      <td>1</td>\n",
       "      <td>1</td>\n",
       "      <td>0</td>\n",
       "      <td>10.0</td>\n",
       "      <td>5</td>\n",
       "      <td>1</td>\n",
       "      <td>4</td>\n",
       "      <td>...</td>\n",
       "      <td>0</td>\n",
       "      <td>1</td>\n",
       "      <td>1</td>\n",
       "      <td>1</td>\n",
       "      <td>1</td>\n",
       "      <td>3</td>\n",
       "      <td>5</td>\n",
       "      <td>0</td>\n",
       "      <td>1</td>\n",
       "      <td>5</td>\n",
       "    </tr>\n",
       "    <tr>\n",
       "      <th>4</th>\n",
       "      <td>4</td>\n",
       "      <td>3</td>\n",
       "      <td>4</td>\n",
       "      <td>1</td>\n",
       "      <td>1</td>\n",
       "      <td>0</td>\n",
       "      <td>10.0</td>\n",
       "      <td>3</td>\n",
       "      <td>3</td>\n",
       "      <td>5</td>\n",
       "      <td>...</td>\n",
       "      <td>0</td>\n",
       "      <td>1</td>\n",
       "      <td>0</td>\n",
       "      <td>1</td>\n",
       "      <td>1</td>\n",
       "      <td>2</td>\n",
       "      <td>5</td>\n",
       "      <td>0</td>\n",
       "      <td>1</td>\n",
       "      <td>2</td>\n",
       "    </tr>\n",
       "  </tbody>\n",
       "</table>\n",
       "<p>5 rows × 79 columns</p>\n",
       "</div>"
      ],
      "text/plain": [
       "   Cuando compartes imágenes, ¿habitualmente las envías a otras personas?  \\\n",
       "0                                                  3                        \n",
       "1                                                  5                        \n",
       "2                                                  3                        \n",
       "3                                                  4                        \n",
       "4                                                  4                        \n",
       "\n",
       "   Cuando compartes imágenes, ¿habitualmente las produces tú?  \\\n",
       "0                                                  4            \n",
       "1                                                  4            \n",
       "2                                                  4            \n",
       "3                                                  4            \n",
       "4                                                  3            \n",
       "\n",
       "   Cuando compartes imágenes, ¿habitualmente las recibes de otras personas?  \\\n",
       "0                                                  3                          \n",
       "1                                                  5                          \n",
       "2                                                  4                          \n",
       "3                                                  2                          \n",
       "4                                                  4                          \n",
       "\n",
       "   Cuando generas una imagen, ¿qué tipo de dispositivo usas? (Respuesta múltiple) [1. Cámara de fotos]  \\\n",
       "0                                                  0                                                     \n",
       "1                                                  0                                                     \n",
       "2                                                  0                                                     \n",
       "3                                                  1                                                     \n",
       "4                                                  1                                                     \n",
       "\n",
       "   Cuando generas una imagen, ¿qué tipo de dispositivo usas? (Respuesta múltiple) [2. Teléfono móvil]  \\\n",
       "0                                                  1                                                    \n",
       "1                                                  1                                                    \n",
       "2                                                  1                                                    \n",
       "3                                                  1                                                    \n",
       "4                                                  1                                                    \n",
       "\n",
       "   Cuando generas una imagen, ¿qué tipo de dispositivo usas? (Respuesta múltiple) [3. Tableta]  \\\n",
       "0                                                  0                                             \n",
       "1                                                  0                                             \n",
       "2                                                  0                                             \n",
       "3                                                  0                                             \n",
       "4                                                  0                                             \n",
       "\n",
       "   Cuando produces imágenes, ¿cuánto tiempo dedicas a prepararlas? (minutos)  \\\n",
       "0                                                1.0                           \n",
       "1                                                1.0                           \n",
       "2                                                1.0                           \n",
       "3                                               10.0                           \n",
       "4                                               10.0                           \n",
       "\n",
       "   Cuando produces imágenes, ¿piensas en la imagen que quieres crear antes de hacerla?  \\\n",
       "0                                                  3                                     \n",
       "1                                                  5                                     \n",
       "2                                                  5                                     \n",
       "3                                                  5                                     \n",
       "4                                                  3                                     \n",
       "\n",
       "   Dentro de tus redes sociales o aplicaciones móviles, ¿se comparte información visual que tú no buscas (campañas de concienciación social, chistes, publicidad, etc.)?  \\\n",
       "0                                                  4                                                                                                                       \n",
       "1                                                  5                                                                                                                       \n",
       "2                                                  4                                                                                                                       \n",
       "3                                                  1                                                                                                                       \n",
       "4                                                  3                                                                                                                       \n",
       "\n",
       "   En tu entorno, ¿las personas que utilizan la tecnología crean imágenes y las comparten?  \\\n",
       "0                                                  4                                         \n",
       "1                                                  5                                         \n",
       "2                                                  4                                         \n",
       "3                                                  4                                         \n",
       "4                                                  5                                         \n",
       "\n",
       "        ...         \\\n",
       "0       ...          \n",
       "1       ...          \n",
       "2       ...          \n",
       "3       ...          \n",
       "4       ...          \n",
       "\n",
       "   ¿Qué tipo de aplicaciones utilizas en tu ordenador/tableta/móvil? (Respuesta múltiple) [1. Apps de contenidos audiovisuales (Netflix, HBO, etc.)]  \\\n",
       "0                                                  1                                                                                                   \n",
       "1                                                  1                                                                                                   \n",
       "2                                                  1                                                                                                   \n",
       "3                                                  0                                                                                                   \n",
       "4                                                  0                                                                                                   \n",
       "\n",
       "   ¿Qué tipo de aplicaciones utilizas en tu ordenador/tableta/móvil? (Respuesta múltiple) [2. Aplicaciones de mensajería (Whatsapp, Facebook Messenger, etc.)]  \\\n",
       "0                                                  1                                                                                                             \n",
       "1                                                  1                                                                                                             \n",
       "2                                                  1                                                                                                             \n",
       "3                                                  1                                                                                                             \n",
       "4                                                  1                                                                                                             \n",
       "\n",
       "   ¿Qué tipo de aplicaciones utilizas en tu ordenador/tableta/móvil? (Respuesta múltiple) [3. Bibliotecas de fotos online (Google Photos, iPhoto, etc.)]  \\\n",
       "0                                                  1                                                                                                       \n",
       "1                                                  0                                                                                                       \n",
       "2                                                  1                                                                                                       \n",
       "3                                                  1                                                                                                       \n",
       "4                                                  0                                                                                                       \n",
       "\n",
       "   ¿Qué tipo de aplicaciones utilizas en tu ordenador/tableta/móvil? (Respuesta múltiple) [4. Redes sociales (Facebook, Instagram, Twitter, etc.).]  \\\n",
       "0                                                  1                                                                                                  \n",
       "1                                                  0                                                                                                  \n",
       "2                                                  1                                                                                                  \n",
       "3                                                  1                                                                                                  \n",
       "4                                                  1                                                                                                  \n",
       "\n",
       "   ¿Qué tipo de aplicaciones utilizas en tu ordenador/tableta/móvil? (Respuesta múltiple) [5. Aplicaciones de vídeo (Youtube, Vimeo, etc.).]  \\\n",
       "0                                                  1                                                                                           \n",
       "1                                                  1                                                                                           \n",
       "2                                                  1                                                                                           \n",
       "3                                                  1                                                                                           \n",
       "4                                                  1                                                                                           \n",
       "\n",
       "   ¿Te gusta seguir a personas que admiras en redes sociales? ¿Eres fan o follower de alguna? ¿En ocasiones escribes comentarios en sus publicaciones?  \\\n",
       "0                                                  3                                                                                                     \n",
       "1                                                  1                                                                                                     \n",
       "2                                                  3                                                                                                     \n",
       "3                                                  3                                                                                                     \n",
       "4                                                  2                                                                                                     \n",
       "\n",
       "   ¿Tienes acceso a dispositivos (ordenador, móvil, tablet, etc.) conectados a Internet habitualmente?  \\\n",
       "0                                                  5                                                     \n",
       "1                                                  5                                                     \n",
       "2                                                  5                                                     \n",
       "3                                                  5                                                     \n",
       "4                                                  5                                                     \n",
       "\n",
       "   ¿Tienes alguna carencia visual que afecte a la recepción de formas, colores, distancias, etc.?  \\\n",
       "0                                                  0                                                \n",
       "1                                                  0                                                \n",
       "2                                                  0                                                \n",
       "3                                                  0                                                \n",
       "4                                                  0                                                \n",
       "\n",
       "   ¿Utilizas gafas o lentes de contacto?  prosume_cluster  \n",
       "0                                      1                5  \n",
       "1                                      1                5  \n",
       "2                                      1                5  \n",
       "3                                      1                5  \n",
       "4                                      1                2  \n",
       "\n",
       "[5 rows x 79 columns]"
      ]
     },
     "execution_count": 3,
     "metadata": {},
     "output_type": "execute_result"
    }
   ],
   "source": [
    "dataframe_with_clusters_esp = get_dataframe_with_clusters_esp(get_dataframe_analysis_esp(True), 32)\n",
    "dataframe_with_clusters_esp.head()"
   ]
  },
  {
   "cell_type": "code",
   "execution_count": 4,
   "metadata": {},
   "outputs": [
    {
     "name": "stderr",
     "output_type": "stream",
     "text": [
      "prosume_clustering.ipynb:17: DataConversionWarning:\n",
      "\n",
      "Data with input dtype int64 were all converted to float64 by the scale function.\n",
      "\n"
     ]
    },
    {
     "data": {
      "text/html": [
       "<div>\n",
       "<style scoped>\n",
       "    .dataframe tbody tr th:only-of-type {\n",
       "        vertical-align: middle;\n",
       "    }\n",
       "\n",
       "    .dataframe tbody tr th {\n",
       "        vertical-align: top;\n",
       "    }\n",
       "\n",
       "    .dataframe thead th {\n",
       "        text-align: right;\n",
       "    }\n",
       "</style>\n",
       "<table border=\"1\" class=\"dataframe\">\n",
       "  <thead>\n",
       "    <tr style=\"text-align: right;\">\n",
       "      <th></th>\n",
       "      <th>Do you repeat the images until you get the expected result?</th>\n",
       "      <th>How much of your consumption of digital images comes from digital media (digital press, internet, television,etc.) and how much by analogical means?</th>\n",
       "      <th>How often do you produce images?</th>\n",
       "      <th>If you answered that you NEVER produce or consume images, why do not you use them? (Multiple answer) [1. I do not like]</th>\n",
       "      <th>If you answered that you NEVER produce or consume images, why do not you use them? (Multiple answer) [2. I do not know how they are made]</th>\n",
       "      <th>If you answered that you NEVER produce or consume images, why do not you use them? (Multiple answer) [3. I do not use technology]</th>\n",
       "      <th>If you answered that you NEVER produce or consume images, why do not you use them? (Multiple answer) [4. When I share them, I do not know what they mean]</th>\n",
       "      <th>If you answered that you NEVER produce or consume images, why do not you use them? (Multiple answer) [5. Because they take up a lot of space]</th>\n",
       "      <th>If you answered that you NEVER produce or consume images, why do not you use them? (Multiple answer) [6. I find it useless]</th>\n",
       "      <th>If you find that suggested information, what is your attitude?</th>\n",
       "      <th>...</th>\n",
       "      <th>When you receive/ consume images... (select the option / options with which you identify yourself) [2. I wonder if they mean something to me]</th>\n",
       "      <th>When you receive/ consume images... (select the option / options with which you identify yourself) [3. I observe the moment and context in which they appear]</th>\n",
       "      <th>When you share images on social networks, do the text companions follow the indications suggested by the applications (labeling, explanation of the image, inspiring text, etc.)?</th>\n",
       "      <th>When you take photos from any of the media at your fingertips, do the process facilitate the options offered by the applications (filter application, cuts, graphic editing, etc.)?</th>\n",
       "      <th>When you use social networks, do you consider that being accepted as a member of a group is more important than having autonomy and independence?</th>\n",
       "      <th>Which of the paired images do you find most attractive? 1/2 2/2.1</th>\n",
       "      <th>Which of the paired images do you find most attractive? 1/2 2/2.2</th>\n",
       "      <th>Which of the paired images do you find most attractive? 1/2 2/2.3</th>\n",
       "      <th>Which of the paired images do you find most attractive? 1/2 2/2.4</th>\n",
       "      <th>prosume_cluster</th>\n",
       "    </tr>\n",
       "  </thead>\n",
       "  <tbody>\n",
       "    <tr>\n",
       "      <th>0</th>\n",
       "      <td>1</td>\n",
       "      <td>3</td>\n",
       "      <td>5</td>\n",
       "      <td>0</td>\n",
       "      <td>0</td>\n",
       "      <td>0</td>\n",
       "      <td>0</td>\n",
       "      <td>0</td>\n",
       "      <td>0</td>\n",
       "      <td>1</td>\n",
       "      <td>...</td>\n",
       "      <td>1</td>\n",
       "      <td>0</td>\n",
       "      <td>1</td>\n",
       "      <td>3</td>\n",
       "      <td>1</td>\n",
       "      <td>1</td>\n",
       "      <td>2</td>\n",
       "      <td>2</td>\n",
       "      <td>2</td>\n",
       "      <td>5</td>\n",
       "    </tr>\n",
       "    <tr>\n",
       "      <th>1</th>\n",
       "      <td>0</td>\n",
       "      <td>3</td>\n",
       "      <td>5</td>\n",
       "      <td>0</td>\n",
       "      <td>0</td>\n",
       "      <td>0</td>\n",
       "      <td>0</td>\n",
       "      <td>0</td>\n",
       "      <td>0</td>\n",
       "      <td>1</td>\n",
       "      <td>...</td>\n",
       "      <td>1</td>\n",
       "      <td>0</td>\n",
       "      <td>3</td>\n",
       "      <td>3</td>\n",
       "      <td>2</td>\n",
       "      <td>2</td>\n",
       "      <td>2</td>\n",
       "      <td>2</td>\n",
       "      <td>2</td>\n",
       "      <td>5</td>\n",
       "    </tr>\n",
       "    <tr>\n",
       "      <th>2</th>\n",
       "      <td>1</td>\n",
       "      <td>1</td>\n",
       "      <td>4</td>\n",
       "      <td>0</td>\n",
       "      <td>0</td>\n",
       "      <td>0</td>\n",
       "      <td>0</td>\n",
       "      <td>0</td>\n",
       "      <td>0</td>\n",
       "      <td>1</td>\n",
       "      <td>...</td>\n",
       "      <td>1</td>\n",
       "      <td>1</td>\n",
       "      <td>3</td>\n",
       "      <td>5</td>\n",
       "      <td>2</td>\n",
       "      <td>1</td>\n",
       "      <td>1</td>\n",
       "      <td>2</td>\n",
       "      <td>2</td>\n",
       "      <td>5</td>\n",
       "    </tr>\n",
       "    <tr>\n",
       "      <th>3</th>\n",
       "      <td>1</td>\n",
       "      <td>2</td>\n",
       "      <td>4</td>\n",
       "      <td>0</td>\n",
       "      <td>0</td>\n",
       "      <td>0</td>\n",
       "      <td>0</td>\n",
       "      <td>0</td>\n",
       "      <td>0</td>\n",
       "      <td>1</td>\n",
       "      <td>...</td>\n",
       "      <td>0</td>\n",
       "      <td>1</td>\n",
       "      <td>5</td>\n",
       "      <td>5</td>\n",
       "      <td>2</td>\n",
       "      <td>1</td>\n",
       "      <td>2</td>\n",
       "      <td>2</td>\n",
       "      <td>1</td>\n",
       "      <td>5</td>\n",
       "    </tr>\n",
       "    <tr>\n",
       "      <th>4</th>\n",
       "      <td>1</td>\n",
       "      <td>2</td>\n",
       "      <td>5</td>\n",
       "      <td>0</td>\n",
       "      <td>0</td>\n",
       "      <td>0</td>\n",
       "      <td>0</td>\n",
       "      <td>0</td>\n",
       "      <td>0</td>\n",
       "      <td>1</td>\n",
       "      <td>...</td>\n",
       "      <td>0</td>\n",
       "      <td>1</td>\n",
       "      <td>4</td>\n",
       "      <td>3</td>\n",
       "      <td>2</td>\n",
       "      <td>1</td>\n",
       "      <td>2</td>\n",
       "      <td>2</td>\n",
       "      <td>2</td>\n",
       "      <td>2</td>\n",
       "    </tr>\n",
       "  </tbody>\n",
       "</table>\n",
       "<p>5 rows × 79 columns</p>\n",
       "</div>"
      ],
      "text/plain": [
       "   Do you repeat the images until you get the expected result?  \\\n",
       "0                                                  1             \n",
       "1                                                  0             \n",
       "2                                                  1             \n",
       "3                                                  1             \n",
       "4                                                  1             \n",
       "\n",
       "   How much of your consumption of digital images comes from digital media (digital press, internet, television,etc.) and how much by analogical means?  \\\n",
       "0                                                  3                                                                                                      \n",
       "1                                                  3                                                                                                      \n",
       "2                                                  1                                                                                                      \n",
       "3                                                  2                                                                                                      \n",
       "4                                                  2                                                                                                      \n",
       "\n",
       "   How often do you produce images?  \\\n",
       "0                                 5   \n",
       "1                                 5   \n",
       "2                                 4   \n",
       "3                                 4   \n",
       "4                                 5   \n",
       "\n",
       "   If you answered that you NEVER produce or consume images, why do not you use them? (Multiple answer) [1. I do not like]  \\\n",
       "0                                                  0                                                                         \n",
       "1                                                  0                                                                         \n",
       "2                                                  0                                                                         \n",
       "3                                                  0                                                                         \n",
       "4                                                  0                                                                         \n",
       "\n",
       "   If you answered that you NEVER produce or consume images, why do not you use them? (Multiple answer) [2. I do not know how they are made]  \\\n",
       "0                                                  0                                                                                           \n",
       "1                                                  0                                                                                           \n",
       "2                                                  0                                                                                           \n",
       "3                                                  0                                                                                           \n",
       "4                                                  0                                                                                           \n",
       "\n",
       "   If you answered that you NEVER produce or consume images, why do not you use them? (Multiple answer) [3. I do not use technology]  \\\n",
       "0                                                  0                                                                                   \n",
       "1                                                  0                                                                                   \n",
       "2                                                  0                                                                                   \n",
       "3                                                  0                                                                                   \n",
       "4                                                  0                                                                                   \n",
       "\n",
       "   If you answered that you NEVER produce or consume images, why do not you use them? (Multiple answer) [4. When I share them, I do not know what they mean]  \\\n",
       "0                                                  0                                                                                                           \n",
       "1                                                  0                                                                                                           \n",
       "2                                                  0                                                                                                           \n",
       "3                                                  0                                                                                                           \n",
       "4                                                  0                                                                                                           \n",
       "\n",
       "   If you answered that you NEVER produce or consume images, why do not you use them? (Multiple answer) [5. Because they take up a lot of space]  \\\n",
       "0                                                  0                                                                                               \n",
       "1                                                  0                                                                                               \n",
       "2                                                  0                                                                                               \n",
       "3                                                  0                                                                                               \n",
       "4                                                  0                                                                                               \n",
       "\n",
       "   If you answered that you NEVER produce or consume images, why do not you use them? (Multiple answer) [6. I find it useless]  \\\n",
       "0                                                  0                                                                             \n",
       "1                                                  0                                                                             \n",
       "2                                                  0                                                                             \n",
       "3                                                  0                                                                             \n",
       "4                                                  0                                                                             \n",
       "\n",
       "   If you find that suggested information, what is your attitude?  \\\n",
       "0                                                  1                \n",
       "1                                                  1                \n",
       "2                                                  1                \n",
       "3                                                  1                \n",
       "4                                                  1                \n",
       "\n",
       "        ...         \\\n",
       "0       ...          \n",
       "1       ...          \n",
       "2       ...          \n",
       "3       ...          \n",
       "4       ...          \n",
       "\n",
       "   When you receive/ consume images... (select the option / options with which you identify yourself) [2. I wonder if they mean something to me]  \\\n",
       "0                                                  1                                                                                               \n",
       "1                                                  1                                                                                               \n",
       "2                                                  1                                                                                               \n",
       "3                                                  0                                                                                               \n",
       "4                                                  0                                                                                               \n",
       "\n",
       "   When you receive/ consume images... (select the option / options with which you identify yourself) [3. I observe the moment and context in which they appear]  \\\n",
       "0                                                  0                                                                                                               \n",
       "1                                                  0                                                                                                               \n",
       "2                                                  1                                                                                                               \n",
       "3                                                  1                                                                                                               \n",
       "4                                                  1                                                                                                               \n",
       "\n",
       "   When you share images on social networks, do the text companions follow the indications suggested by the applications (labeling, explanation of the image, inspiring text, etc.)?  \\\n",
       "0                                                  1                                                                                                                                   \n",
       "1                                                  3                                                                                                                                   \n",
       "2                                                  3                                                                                                                                   \n",
       "3                                                  5                                                                                                                                   \n",
       "4                                                  4                                                                                                                                   \n",
       "\n",
       "   When you take photos from any of the media at your fingertips, do the process facilitate the options offered by the applications (filter application, cuts, graphic editing, etc.)?  \\\n",
       "0                                                  3                                                                                                                                     \n",
       "1                                                  3                                                                                                                                     \n",
       "2                                                  5                                                                                                                                     \n",
       "3                                                  5                                                                                                                                     \n",
       "4                                                  3                                                                                                                                     \n",
       "\n",
       "   When you use social networks, do you consider that being accepted as a member of a group is more important than having autonomy and independence?  \\\n",
       "0                                                  1                                                                                                   \n",
       "1                                                  2                                                                                                   \n",
       "2                                                  2                                                                                                   \n",
       "3                                                  2                                                                                                   \n",
       "4                                                  2                                                                                                   \n",
       "\n",
       "   Which of the paired images do you find most attractive? 1/2 2/2.1  \\\n",
       "0                                                  1                   \n",
       "1                                                  2                   \n",
       "2                                                  1                   \n",
       "3                                                  1                   \n",
       "4                                                  1                   \n",
       "\n",
       "   Which of the paired images do you find most attractive? 1/2 2/2.2  \\\n",
       "0                                                  2                   \n",
       "1                                                  2                   \n",
       "2                                                  1                   \n",
       "3                                                  2                   \n",
       "4                                                  2                   \n",
       "\n",
       "   Which of the paired images do you find most attractive? 1/2 2/2.3  \\\n",
       "0                                                  2                   \n",
       "1                                                  2                   \n",
       "2                                                  2                   \n",
       "3                                                  2                   \n",
       "4                                                  2                   \n",
       "\n",
       "   Which of the paired images do you find most attractive? 1/2 2/2.4  \\\n",
       "0                                                  2                   \n",
       "1                                                  2                   \n",
       "2                                                  2                   \n",
       "3                                                  1                   \n",
       "4                                                  2                   \n",
       "\n",
       "   prosume_cluster  \n",
       "0                5  \n",
       "1                5  \n",
       "2                5  \n",
       "3                5  \n",
       "4                2  \n",
       "\n",
       "[5 rows x 79 columns]"
      ]
     },
     "execution_count": 4,
     "metadata": {},
     "output_type": "execute_result"
    }
   ],
   "source": [
    "dataframe_with_clusters_en = get_dataframe_with_clusters_en(get_dataframe_analysis_en(True), 32)\n",
    "dataframe_with_clusters_en.head()"
   ]
  },
  {
   "cell_type": "code",
   "execution_count": 5,
   "metadata": {},
   "outputs": [],
   "source": [
    "def visualize_personal_info_by_prosume_clusters_esp(dataframe):\n",
    "\n",
    "    for selected_cluster in dataframe['prosume_cluster'].unique():\n",
    "        for column in get_personal_information_items_esp():\n",
    "            try:\n",
    "                print(\"\\n\\nCluster \"+str(selected_cluster) +\n",
    "                      \" || variable: \"+str(column))\n",
    "                print(f'Describiendo la pregunta {column}')\n",
    "                dict_item = get_data_replacements(str(column))\n",
    "                if dict_item:\n",
    "                    print(\n",
    "                        f'Valores numéricos asociados a las respuestas {list(dict_item.keys())}')\n",
    "                    print(\n",
    "                        f'Respuestas posibles a la pregunta/variable {list(dict_item.values())}')\n",
    "                \n",
    "                if column == 'Edad':\n",
    "                    color_scale = cl.interp(cl.scales['9']['div']['Spectral'], dataframe['Edad'].value_counts().nunique())\n",
    "                    values_list = dataframe['Edad'].value_counts().unique()\n",
    "                    color_list = []\n",
    "                    for value in dataframe['Edad'].value_counts().sort_index():\n",
    "                        color_list.append(color_scale[list(values_list).index(value)])\n",
    "                    color_marker = dict(color=color_list)\n",
    "                elif column == 'Nacionalidad':\n",
    "                    color_marker = dict(color=cl.interp(cl.scales['9']['div']['Spectral'], dataframe['Nacionalidad'].nunique()))\n",
    "                else:\n",
    "                    color_marker = dict(color=cl.scales['6']['div']['Spectral'])\n",
    "                \n",
    "                display(dataframe.loc[dataframe['prosume_cluster']\n",
    "                                      == selected_cluster][column].describe())\n",
    "                print(\n",
    "                    f'Conteo de cada valor en {column} expresada como valor / cantidad')\n",
    "                display(dataframe.loc[dataframe['prosume_cluster'] ==\n",
    "                                      selected_cluster][column].value_counts().sort_index())\n",
    "                print(\n",
    "                    f'Porcentaje de cada valor en {column} expresado como valor / porcentaje')\n",
    "                display(dataframe.loc[dataframe['prosume_cluster'] == selected_cluster][column].value_counts(\n",
    "                    normalize=True).sort_index().round(4) * 100)\n",
    "                # sns.distplot(workCleanDummiesCluster.loc[workCleanDummiesCluster['cluster'] == selected_cluster][column], kde=False, rug=True);\n",
    "                data = [go.Bar(x=sorted(dataframe.loc[dataframe['prosume_cluster'] == selected_cluster][column].unique()),\n",
    "                               y=dataframe.loc[dataframe['prosume_cluster'] == selected_cluster][column].value_counts().reindex(\n",
    "                                   dataframe.loc[dataframe['prosume_cluster'] == selected_cluster][column].unique(), fill_value=0).sort_index(),\n",
    "                               marker=color_marker)]\n",
    "\n",
    "                if dict_item:\n",
    "                    layout = go.Layout(\n",
    "                        xaxis=go.layout.XAxis(\n",
    "                            ticktext=list(dict_item.values()),\n",
    "                            tickvals=list(dict_item.keys()),\n",
    "                        ),\n",
    "                        bargap=0.2,\n",
    "                    )\n",
    "                    fig = go.Figure(data, layout)\n",
    "                    iplot(fig)\n",
    "                else:\n",
    "                    iplot(data)\n",
    "                plt.show()\n",
    "            except BaseException:\n",
    "                pass"
   ]
  },
  {
   "cell_type": "code",
   "execution_count": 6,
   "metadata": {},
   "outputs": [],
   "source": [
    "def visualize_personal_info_by_prosume_clusters_en(dataframe):\n",
    "    \n",
    "    for selected_cluster in dataframe['prosume_cluster'].unique():\n",
    "        for column in get_personal_information_items_en():\n",
    "            try:\n",
    "                print(\"\\n\\nCluster \"+str(selected_cluster) +\n",
    "                      \" || feature: \"+str(column))\n",
    "\n",
    "                print(f'Describing the feature {column}')\n",
    "                dict_item = get_data_replacements(str(column))\n",
    "                if dict_item:\n",
    "                    print(\n",
    "                        f'Numeric values associated to the responses {list(dict_item.keys())}')\n",
    "                    print(\n",
    "                        f'Possible responses to the question/variable {list(dict_item.values())}')\n",
    "\n",
    "                if column == 'Age':\n",
    "                    color_scale = cl.interp(cl.scales['9']['div']['Spectral'], dataframe['Age'].value_counts().nunique())\n",
    "                    values_list = dataframe['Age'].value_counts().unique()\n",
    "                    color_list = []\n",
    "                    for value in dataframe['Age'].value_counts().sort_index():\n",
    "                        color_list.append(color_scale[list(values_list).index(value)])\n",
    "                    color_marker = dict(color=color_list)\n",
    "                elif column == 'Nationality':\n",
    "                    color_marker = dict(color=cl.interp(cl.scales['9']['div']['Spectral'], dataframe['Nationality'].nunique()))\n",
    "                else:\n",
    "                    color_marker = dict(color=cl.scales['6']['div']['Spectral'])\n",
    "                display(dataframe.loc[dataframe['prosume_cluster']\n",
    "                                      == selected_cluster][column].describe())\n",
    "                print(\n",
    "                    f'Count of each value in {column} expresed as value / amount')\n",
    "                display(dataframe.loc[dataframe['prosume_cluster'] ==\n",
    "                                      selected_cluster][column].value_counts().sort_index())\n",
    "                print(\n",
    "                    f'Percentage of each value in {column} expresed as value / percentage')\n",
    "                display(dataframe.loc[dataframe['prosume_cluster'] == selected_cluster][column].value_counts(\n",
    "                    normalize=True).sort_index().round(4) * 100)\n",
    "                # sns.distplot(workCleanDummiesCluster.loc[workCleanDummiesCluster['cluster'] == selected_cluster][column], kde=False, rug=True);\n",
    "                data = [go.Bar(x=sorted(dataframe.loc[dataframe['prosume_cluster'] == selected_cluster][column].unique()),\n",
    "                               y=dataframe.loc[dataframe['prosume_cluster'] == selected_cluster][column].value_counts().reindex(\n",
    "                                   dataframe.loc[dataframe['prosume_cluster'] == selected_cluster][column].unique(), fill_value=0).sort_index(),\n",
    "                               marker=color_marker)]\n",
    "\n",
    "                if dict_item:\n",
    "                    layout = go.Layout(\n",
    "                        xaxis=go.layout.XAxis(\n",
    "                            ticktext=list(dict_item.values()),\n",
    "                            tickvals=list(dict_item.keys()),\n",
    "                        ),\n",
    "                        bargap=0.2,\n",
    "                    )\n",
    "                    fig = go.Figure(data, layout)\n",
    "                    iplot(fig)\n",
    "                else:\n",
    "                    iplot(data)\n",
    "                plt.show()\n",
    "            except BaseException:\n",
    "                pass"
   ]
  },
  {
   "cell_type": "code",
   "execution_count": 7,
   "metadata": {
    "scrolled": false
   },
   "outputs": [
    {
     "name": "stdout",
     "output_type": "stream",
     "text": [
      "\n",
      "\n",
      "Cluster 5 || variable: Género\n",
      "Describiendo la pregunta Género\n",
      "Valores numéricos asociados a las respuestas [0, 1, 2]\n",
      "Respuestas posibles a la pregunta/variable ['Masculino', 'Femenino', 'Otro']\n"
     ]
    },
    {
     "data": {
      "text/plain": [
       "count    336.000000\n",
       "mean       0.601190\n",
       "std        0.508317\n",
       "min        0.000000\n",
       "25%        0.000000\n",
       "50%        1.000000\n",
       "75%        1.000000\n",
       "max        2.000000\n",
       "Name: Género, dtype: float64"
      ]
     },
     "metadata": {},
     "output_type": "display_data"
    },
    {
     "name": "stdout",
     "output_type": "stream",
     "text": [
      "Conteo de cada valor en Género expresada como valor / cantidad\n"
     ]
    },
    {
     "data": {
      "text/plain": [
       "0    137\n",
       "1    196\n",
       "2      3\n",
       "Name: Género, dtype: int64"
      ]
     },
     "metadata": {},
     "output_type": "display_data"
    },
    {
     "name": "stdout",
     "output_type": "stream",
     "text": [
      "Porcentaje de cada valor en Género expresado como valor / porcentaje\n"
     ]
    },
    {
     "data": {
      "text/plain": [
       "0    40.77\n",
       "1    58.33\n",
       "2     0.89\n",
       "Name: Género, dtype: float64"
      ]
     },
     "metadata": {},
     "output_type": "display_data"
    },
    {
     "data": {
      "application/vnd.plotly.v1+json": {
       "config": {
        "linkText": "Export to plot.ly",
        "plotlyServerURL": "https://plot.ly",
        "showLink": false
       },
       "data": [
        {
         "marker": {
          "color": [
           "rgb(213,62,79)",
           "rgb(252,141,89)",
           "rgb(254,224,139)",
           "rgb(230,245,152)",
           "rgb(153,213,148)",
           "rgb(50,136,189)"
          ]
         },
         "type": "bar",
         "uid": "6a0929cf-7690-45dc-b9b2-6437d6106e1b",
         "x": [
          0,
          1,
          2
         ],
         "y": [
          137,
          196,
          3
         ]
        }
       ],
       "layout": {
        "bargap": 0.2,
        "xaxis": {
         "ticktext": [
          "Masculino",
          "Femenino",
          "Otro"
         ],
         "tickvals": [
          0,
          1,
          2
         ]
        }
       }
      },
      "text/html": [
       "<div id=\"b5fe46b6-ca5c-4eb2-a4bc-10b4281f387b\" style=\"height: 525px; width: 100%;\" class=\"plotly-graph-div\"></div><script type=\"text/javascript\">require([\"plotly\"], function(Plotly) { window.PLOTLYENV=window.PLOTLYENV || {};window.PLOTLYENV.BASE_URL=\"https://plot.ly\";\n",
       "if (document.getElementById(\"b5fe46b6-ca5c-4eb2-a4bc-10b4281f387b\")) {\n",
       "    Plotly.newPlot(\"b5fe46b6-ca5c-4eb2-a4bc-10b4281f387b\", [{\"marker\": {\"color\": [\"rgb(213,62,79)\", \"rgb(252,141,89)\", \"rgb(254,224,139)\", \"rgb(230,245,152)\", \"rgb(153,213,148)\", \"rgb(50,136,189)\"]}, \"x\": [0, 1, 2], \"y\": [137, 196, 3], \"type\": \"bar\", \"uid\": \"6a0929cf-7690-45dc-b9b2-6437d6106e1b\"}], {\"bargap\": 0.2, \"xaxis\": {\"ticktext\": [\"Masculino\", \"Femenino\", \"Otro\"], \"tickvals\": [0, 1, 2]}}, {\"showLink\": false, \"linkText\": \"Export to plot.ly\", \"plotlyServerURL\": \"https://plot.ly\"}); \n",
       "}\n",
       "});</script><script type=\"text/javascript\">window.addEventListener(\"resize\", function(){if (document.getElementById(\"b5fe46b6-ca5c-4eb2-a4bc-10b4281f387b\")) {window._Plotly.Plots.resize(document.getElementById(\"b5fe46b6-ca5c-4eb2-a4bc-10b4281f387b\"));};})</script>"
      ],
      "text/vnd.plotly.v1+html": [
       "<div id=\"b5fe46b6-ca5c-4eb2-a4bc-10b4281f387b\" style=\"height: 525px; width: 100%;\" class=\"plotly-graph-div\"></div><script type=\"text/javascript\">require([\"plotly\"], function(Plotly) { window.PLOTLYENV=window.PLOTLYENV || {};window.PLOTLYENV.BASE_URL=\"https://plot.ly\";\n",
       "if (document.getElementById(\"b5fe46b6-ca5c-4eb2-a4bc-10b4281f387b\")) {\n",
       "    Plotly.newPlot(\"b5fe46b6-ca5c-4eb2-a4bc-10b4281f387b\", [{\"marker\": {\"color\": [\"rgb(213,62,79)\", \"rgb(252,141,89)\", \"rgb(254,224,139)\", \"rgb(230,245,152)\", \"rgb(153,213,148)\", \"rgb(50,136,189)\"]}, \"x\": [0, 1, 2], \"y\": [137, 196, 3], \"type\": \"bar\", \"uid\": \"6a0929cf-7690-45dc-b9b2-6437d6106e1b\"}], {\"bargap\": 0.2, \"xaxis\": {\"ticktext\": [\"Masculino\", \"Femenino\", \"Otro\"], \"tickvals\": [0, 1, 2]}}, {\"showLink\": false, \"linkText\": \"Export to plot.ly\", \"plotlyServerURL\": \"https://plot.ly\"}); \n",
       "}\n",
       "});</script><script type=\"text/javascript\">window.addEventListener(\"resize\", function(){if (document.getElementById(\"b5fe46b6-ca5c-4eb2-a4bc-10b4281f387b\")) {window._Plotly.Plots.resize(document.getElementById(\"b5fe46b6-ca5c-4eb2-a4bc-10b4281f387b\"));};})</script>"
      ]
     },
     "metadata": {},
     "output_type": "display_data"
    },
    {
     "name": "stdout",
     "output_type": "stream",
     "text": [
      "\n",
      "\n",
      "Cluster 5 || variable: Edad\n",
      "Describiendo la pregunta Edad\n"
     ]
    },
    {
     "data": {
      "text/plain": [
       "count    336.000000\n",
       "mean      36.955357\n",
       "std       12.555350\n",
       "min       14.000000\n",
       "25%       27.000000\n",
       "50%       35.000000\n",
       "75%       44.000000\n",
       "max       81.000000\n",
       "Name: Edad, dtype: float64"
      ]
     },
     "metadata": {},
     "output_type": "display_data"
    },
    {
     "name": "stdout",
     "output_type": "stream",
     "text": [
      "Conteo de cada valor en Edad expresada como valor / cantidad\n"
     ]
    },
    {
     "data": {
      "text/plain": [
       "14     2\n",
       "16     1\n",
       "17     1\n",
       "18     1\n",
       "19     4\n",
       "20     6\n",
       "21    11\n",
       "22     5\n",
       "23     5\n",
       "24    11\n",
       "25     8\n",
       "26    13\n",
       "27    17\n",
       "28    15\n",
       "29    11\n",
       "30    11\n",
       "31     8\n",
       "32     8\n",
       "33    11\n",
       "34    14\n",
       "35    16\n",
       "36     9\n",
       "37    12\n",
       "38    12\n",
       "39    12\n",
       "40     4\n",
       "41     6\n",
       "42     9\n",
       "43     8\n",
       "44     4\n",
       "45     6\n",
       "46    10\n",
       "47     4\n",
       "48     2\n",
       "49     2\n",
       "50     3\n",
       "51     6\n",
       "52     1\n",
       "53     5\n",
       "54     4\n",
       "55     6\n",
       "56     4\n",
       "57     4\n",
       "58     1\n",
       "59     2\n",
       "60     1\n",
       "61     3\n",
       "62     5\n",
       "64     2\n",
       "65     1\n",
       "66     1\n",
       "67     2\n",
       "69     1\n",
       "70     1\n",
       "73     1\n",
       "78     1\n",
       "81     2\n",
       "Name: Edad, dtype: int64"
      ]
     },
     "metadata": {},
     "output_type": "display_data"
    },
    {
     "name": "stdout",
     "output_type": "stream",
     "text": [
      "Porcentaje de cada valor en Edad expresado como valor / porcentaje\n"
     ]
    },
    {
     "data": {
      "text/plain": [
       "14    0.60\n",
       "16    0.30\n",
       "17    0.30\n",
       "18    0.30\n",
       "19    1.19\n",
       "20    1.79\n",
       "21    3.27\n",
       "22    1.49\n",
       "23    1.49\n",
       "24    3.27\n",
       "25    2.38\n",
       "26    3.87\n",
       "27    5.06\n",
       "28    4.46\n",
       "29    3.27\n",
       "30    3.27\n",
       "31    2.38\n",
       "32    2.38\n",
       "33    3.27\n",
       "34    4.17\n",
       "35    4.76\n",
       "36    2.68\n",
       "37    3.57\n",
       "38    3.57\n",
       "39    3.57\n",
       "40    1.19\n",
       "41    1.79\n",
       "42    2.68\n",
       "43    2.38\n",
       "44    1.19\n",
       "45    1.79\n",
       "46    2.98\n",
       "47    1.19\n",
       "48    0.60\n",
       "49    0.60\n",
       "50    0.89\n",
       "51    1.79\n",
       "52    0.30\n",
       "53    1.49\n",
       "54    1.19\n",
       "55    1.79\n",
       "56    1.19\n",
       "57    1.19\n",
       "58    0.30\n",
       "59    0.60\n",
       "60    0.30\n",
       "61    0.89\n",
       "62    1.49\n",
       "64    0.60\n",
       "65    0.30\n",
       "66    0.30\n",
       "67    0.60\n",
       "69    0.30\n",
       "70    0.30\n",
       "73    0.30\n",
       "78    0.30\n",
       "81    0.60\n",
       "Name: Edad, dtype: float64"
      ]
     },
     "metadata": {},
     "output_type": "display_data"
    },
    {
     "data": {
      "application/vnd.plotly.v1+json": {
       "config": {
        "linkText": "Export to plot.ly",
        "plotlyServerURL": "https://plot.ly",
        "showLink": false
       },
       "data": [
        {
         "marker": {
          "color": [
           "hsl(147.27999999999997, 42.84%, 62.760000000000005%)",
           "hsl(18.2, 90.52%, 62.24%)",
           "hsl(47.2, 98.4%, 79.0%)",
           "hsl(74.16000000000001, 77.56%, 76.76%)",
           "hsl(147.27999999999997, 42.84%, 62.760000000000005%)",
           "hsl(67.2, 85.60000000000001%, 79.0%)",
           "hsl(64.32000000000001, 91.35999999999999%, 82.19999999999999%)",
           "hsl(67.2, 85.60000000000001%, 79.0%)",
           "hsl(27.799999999999997, 96.28%, 67.36%)",
           "hsl(57.44, 99.68%, 85.4%)",
           "hsl(37.4, 97.56%, 73.04%)",
           "hsl(353.0, 64.0%, 53.0%)",
           "hsl(32.6, 97.24%, 70.16%)",
           "hsl(13.160000000000025, 87.03999999999999%, 59.72%)",
           "hsl(359.72, 71.68%, 55.24%)",
           "hsl(353.0, 64.0%, 53.0%)",
           "hsl(6.439999999999998, 79.36%, 57.480000000000004%)",
           "hsl(359.72, 71.68%, 55.24%)",
           "hsl(27.799999999999997, 96.28%, 67.36%)",
           "hsl(27.799999999999997, 96.28%, 67.36%)",
           "hsl(27.799999999999997, 96.28%, 67.36%)",
           "hsl(23.0, 93.4%, 64.8%)",
           "hsl(18.2, 90.52%, 62.24%)",
           "hsl(52.32, 99.04%, 82.2%)",
           "hsl(47.2, 98.4%, 79.0%)",
           "hsl(42.2, 97.88%, 75.92%)",
           "hsl(61.44, 97.12%, 85.4%)",
           "hsl(87.92000000000002, 65.71999999999998%, 76.12%)",
           "hsl(87.92000000000002, 65.71999999999998%, 76.12%)",
           "hsl(64.32000000000001, 91.35999999999999%, 82.19999999999999%)",
           "hsl(64.32000000000001, 91.35999999999999%, 82.19999999999999%)",
           "hsl(101.67999999999999, 53.88000000000001%, 75.48%)",
           "hsl(101.67999999999999, 53.88000000000001%, 75.48%)",
           "hsl(61.44, 97.12%, 85.4%)",
           "hsl(87.92000000000002, 65.71999999999998%, 76.12%)",
           "hsl(147.27999999999997, 42.84%, 62.760000000000005%)",
           "hsl(162.64000000000001, 42.64%, 57.519999999999996%)",
           "hsl(131.60000000000002, 43.8%, 68.19999999999999%)",
           "hsl(131.60000000000002, 43.8%, 68.19999999999999%)",
           "hsl(188.88, 52.879999999999995%, 49.84%)",
           "hsl(101.67999999999999, 53.88000000000001%, 75.48%)",
           "hsl(162.64000000000001, 42.64%, 57.519999999999996%)",
           "hsl(115.92, 44.76%, 73.64%)",
           "hsl(147.27999999999997, 42.84%, 62.760000000000005%)",
           "hsl(131.60000000000002, 43.8%, 68.19999999999999%)",
           "hsl(202.0, 58.0%, 46.0%)",
           "hsl(188.88, 52.879999999999995%, 49.84%)",
           "hsl(147.27999999999997, 42.84%, 62.760000000000005%)",
           "hsl(175.76000000000002, 47.760000000000005%, 53.67999999999999%)",
           "hsl(115.92, 44.76%, 73.64%)",
           "hsl(202.0, 58.0%, 46.0%)",
           "hsl(175.76000000000002, 47.760000000000005%, 53.67999999999999%)",
           "hsl(188.88, 52.879999999999995%, 49.84%)",
           "hsl(188.88, 52.879999999999995%, 49.84%)",
           "hsl(162.64000000000001, 42.64%, 57.519999999999996%)",
           "hsl(202.0, 58.0%, 46.0%)",
           "hsl(188.88, 52.879999999999995%, 49.84%)",
           "hsl(202.0, 58.0%, 46.0%)",
           "hsl(202.0, 58.0%, 46.0%)",
           "hsl(202.0, 58.0%, 46.0%)",
           "hsl(202.0, 58.0%, 46.0%)",
           "hsl(188.88, 52.879999999999995%, 49.84%)"
          ]
         },
         "type": "bar",
         "uid": "7cf683ee-f47b-418e-803d-887b5268174c",
         "x": [
          14,
          16,
          17,
          18,
          19,
          20,
          21,
          22,
          23,
          24,
          25,
          26,
          27,
          28,
          29,
          30,
          31,
          32,
          33,
          34,
          35,
          36,
          37,
          38,
          39,
          40,
          41,
          42,
          43,
          44,
          45,
          46,
          47,
          48,
          49,
          50,
          51,
          52,
          53,
          54,
          55,
          56,
          57,
          58,
          59,
          60,
          61,
          62,
          64,
          65,
          66,
          67,
          69,
          70,
          73,
          78,
          81
         ],
         "y": [
          2,
          1,
          1,
          1,
          4,
          6,
          11,
          5,
          5,
          11,
          8,
          13,
          17,
          15,
          11,
          11,
          8,
          8,
          11,
          14,
          16,
          9,
          12,
          12,
          12,
          4,
          6,
          9,
          8,
          4,
          6,
          10,
          4,
          2,
          2,
          3,
          6,
          1,
          5,
          4,
          6,
          4,
          4,
          1,
          2,
          1,
          3,
          5,
          2,
          1,
          1,
          2,
          1,
          1,
          1,
          1,
          2
         ]
        }
       ],
       "layout": {}
      },
      "text/html": [
       "<div id=\"9ebaadc7-b40f-4796-924b-7b4bfa786e08\" style=\"height: 525px; width: 100%;\" class=\"plotly-graph-div\"></div><script type=\"text/javascript\">require([\"plotly\"], function(Plotly) { window.PLOTLYENV=window.PLOTLYENV || {};window.PLOTLYENV.BASE_URL=\"https://plot.ly\";\n",
       "if (document.getElementById(\"9ebaadc7-b40f-4796-924b-7b4bfa786e08\")) {\n",
       "    Plotly.newPlot(\"9ebaadc7-b40f-4796-924b-7b4bfa786e08\", [{\"marker\": {\"color\": [\"hsl(147.27999999999997, 42.84%, 62.760000000000005%)\", \"hsl(18.2, 90.52%, 62.24%)\", \"hsl(47.2, 98.4%, 79.0%)\", \"hsl(74.16000000000001, 77.56%, 76.76%)\", \"hsl(147.27999999999997, 42.84%, 62.760000000000005%)\", \"hsl(67.2, 85.60000000000001%, 79.0%)\", \"hsl(64.32000000000001, 91.35999999999999%, 82.19999999999999%)\", \"hsl(67.2, 85.60000000000001%, 79.0%)\", \"hsl(27.799999999999997, 96.28%, 67.36%)\", \"hsl(57.44, 99.68%, 85.4%)\", \"hsl(37.4, 97.56%, 73.04%)\", \"hsl(353.0, 64.0%, 53.0%)\", \"hsl(32.6, 97.24%, 70.16%)\", \"hsl(13.160000000000025, 87.03999999999999%, 59.72%)\", \"hsl(359.72, 71.68%, 55.24%)\", \"hsl(353.0, 64.0%, 53.0%)\", \"hsl(6.439999999999998, 79.36%, 57.480000000000004%)\", \"hsl(359.72, 71.68%, 55.24%)\", \"hsl(27.799999999999997, 96.28%, 67.36%)\", \"hsl(27.799999999999997, 96.28%, 67.36%)\", \"hsl(27.799999999999997, 96.28%, 67.36%)\", \"hsl(23.0, 93.4%, 64.8%)\", \"hsl(18.2, 90.52%, 62.24%)\", \"hsl(52.32, 99.04%, 82.2%)\", \"hsl(47.2, 98.4%, 79.0%)\", \"hsl(42.2, 97.88%, 75.92%)\", \"hsl(61.44, 97.12%, 85.4%)\", \"hsl(87.92000000000002, 65.71999999999998%, 76.12%)\", \"hsl(87.92000000000002, 65.71999999999998%, 76.12%)\", \"hsl(64.32000000000001, 91.35999999999999%, 82.19999999999999%)\", \"hsl(64.32000000000001, 91.35999999999999%, 82.19999999999999%)\", \"hsl(101.67999999999999, 53.88000000000001%, 75.48%)\", \"hsl(101.67999999999999, 53.88000000000001%, 75.48%)\", \"hsl(61.44, 97.12%, 85.4%)\", \"hsl(87.92000000000002, 65.71999999999998%, 76.12%)\", \"hsl(147.27999999999997, 42.84%, 62.760000000000005%)\", \"hsl(162.64000000000001, 42.64%, 57.519999999999996%)\", \"hsl(131.60000000000002, 43.8%, 68.19999999999999%)\", \"hsl(131.60000000000002, 43.8%, 68.19999999999999%)\", \"hsl(188.88, 52.879999999999995%, 49.84%)\", \"hsl(101.67999999999999, 53.88000000000001%, 75.48%)\", \"hsl(162.64000000000001, 42.64%, 57.519999999999996%)\", \"hsl(115.92, 44.76%, 73.64%)\", \"hsl(147.27999999999997, 42.84%, 62.760000000000005%)\", \"hsl(131.60000000000002, 43.8%, 68.19999999999999%)\", \"hsl(202.0, 58.0%, 46.0%)\", \"hsl(188.88, 52.879999999999995%, 49.84%)\", \"hsl(147.27999999999997, 42.84%, 62.760000000000005%)\", \"hsl(175.76000000000002, 47.760000000000005%, 53.67999999999999%)\", \"hsl(115.92, 44.76%, 73.64%)\", \"hsl(202.0, 58.0%, 46.0%)\", \"hsl(175.76000000000002, 47.760000000000005%, 53.67999999999999%)\", \"hsl(188.88, 52.879999999999995%, 49.84%)\", \"hsl(188.88, 52.879999999999995%, 49.84%)\", \"hsl(162.64000000000001, 42.64%, 57.519999999999996%)\", \"hsl(202.0, 58.0%, 46.0%)\", \"hsl(188.88, 52.879999999999995%, 49.84%)\", \"hsl(202.0, 58.0%, 46.0%)\", \"hsl(202.0, 58.0%, 46.0%)\", \"hsl(202.0, 58.0%, 46.0%)\", \"hsl(202.0, 58.0%, 46.0%)\", \"hsl(188.88, 52.879999999999995%, 49.84%)\"]}, \"x\": [14, 16, 17, 18, 19, 20, 21, 22, 23, 24, 25, 26, 27, 28, 29, 30, 31, 32, 33, 34, 35, 36, 37, 38, 39, 40, 41, 42, 43, 44, 45, 46, 47, 48, 49, 50, 51, 52, 53, 54, 55, 56, 57, 58, 59, 60, 61, 62, 64, 65, 66, 67, 69, 70, 73, 78, 81], \"y\": [2, 1, 1, 1, 4, 6, 11, 5, 5, 11, 8, 13, 17, 15, 11, 11, 8, 8, 11, 14, 16, 9, 12, 12, 12, 4, 6, 9, 8, 4, 6, 10, 4, 2, 2, 3, 6, 1, 5, 4, 6, 4, 4, 1, 2, 1, 3, 5, 2, 1, 1, 2, 1, 1, 1, 1, 2], \"type\": \"bar\", \"uid\": \"35d0a33d-daa1-4d4b-9bc8-6918a3fa0a1a\"}], {}, {\"showLink\": false, \"linkText\": \"Export to plot.ly\", \"plotlyServerURL\": \"https://plot.ly\"}); \n",
       "}\n",
       "});</script><script type=\"text/javascript\">window.addEventListener(\"resize\", function(){if (document.getElementById(\"9ebaadc7-b40f-4796-924b-7b4bfa786e08\")) {window._Plotly.Plots.resize(document.getElementById(\"9ebaadc7-b40f-4796-924b-7b4bfa786e08\"));};})</script>"
      ],
      "text/vnd.plotly.v1+html": [
       "<div id=\"9ebaadc7-b40f-4796-924b-7b4bfa786e08\" style=\"height: 525px; width: 100%;\" class=\"plotly-graph-div\"></div><script type=\"text/javascript\">require([\"plotly\"], function(Plotly) { window.PLOTLYENV=window.PLOTLYENV || {};window.PLOTLYENV.BASE_URL=\"https://plot.ly\";\n",
       "if (document.getElementById(\"9ebaadc7-b40f-4796-924b-7b4bfa786e08\")) {\n",
       "    Plotly.newPlot(\"9ebaadc7-b40f-4796-924b-7b4bfa786e08\", [{\"marker\": {\"color\": [\"hsl(147.27999999999997, 42.84%, 62.760000000000005%)\", \"hsl(18.2, 90.52%, 62.24%)\", \"hsl(47.2, 98.4%, 79.0%)\", \"hsl(74.16000000000001, 77.56%, 76.76%)\", \"hsl(147.27999999999997, 42.84%, 62.760000000000005%)\", \"hsl(67.2, 85.60000000000001%, 79.0%)\", \"hsl(64.32000000000001, 91.35999999999999%, 82.19999999999999%)\", \"hsl(67.2, 85.60000000000001%, 79.0%)\", \"hsl(27.799999999999997, 96.28%, 67.36%)\", \"hsl(57.44, 99.68%, 85.4%)\", \"hsl(37.4, 97.56%, 73.04%)\", \"hsl(353.0, 64.0%, 53.0%)\", \"hsl(32.6, 97.24%, 70.16%)\", \"hsl(13.160000000000025, 87.03999999999999%, 59.72%)\", \"hsl(359.72, 71.68%, 55.24%)\", \"hsl(353.0, 64.0%, 53.0%)\", \"hsl(6.439999999999998, 79.36%, 57.480000000000004%)\", \"hsl(359.72, 71.68%, 55.24%)\", \"hsl(27.799999999999997, 96.28%, 67.36%)\", \"hsl(27.799999999999997, 96.28%, 67.36%)\", \"hsl(27.799999999999997, 96.28%, 67.36%)\", \"hsl(23.0, 93.4%, 64.8%)\", \"hsl(18.2, 90.52%, 62.24%)\", \"hsl(52.32, 99.04%, 82.2%)\", \"hsl(47.2, 98.4%, 79.0%)\", \"hsl(42.2, 97.88%, 75.92%)\", \"hsl(61.44, 97.12%, 85.4%)\", \"hsl(87.92000000000002, 65.71999999999998%, 76.12%)\", \"hsl(87.92000000000002, 65.71999999999998%, 76.12%)\", \"hsl(64.32000000000001, 91.35999999999999%, 82.19999999999999%)\", \"hsl(64.32000000000001, 91.35999999999999%, 82.19999999999999%)\", \"hsl(101.67999999999999, 53.88000000000001%, 75.48%)\", \"hsl(101.67999999999999, 53.88000000000001%, 75.48%)\", \"hsl(61.44, 97.12%, 85.4%)\", \"hsl(87.92000000000002, 65.71999999999998%, 76.12%)\", \"hsl(147.27999999999997, 42.84%, 62.760000000000005%)\", \"hsl(162.64000000000001, 42.64%, 57.519999999999996%)\", \"hsl(131.60000000000002, 43.8%, 68.19999999999999%)\", \"hsl(131.60000000000002, 43.8%, 68.19999999999999%)\", \"hsl(188.88, 52.879999999999995%, 49.84%)\", \"hsl(101.67999999999999, 53.88000000000001%, 75.48%)\", \"hsl(162.64000000000001, 42.64%, 57.519999999999996%)\", \"hsl(115.92, 44.76%, 73.64%)\", \"hsl(147.27999999999997, 42.84%, 62.760000000000005%)\", \"hsl(131.60000000000002, 43.8%, 68.19999999999999%)\", \"hsl(202.0, 58.0%, 46.0%)\", \"hsl(188.88, 52.879999999999995%, 49.84%)\", \"hsl(147.27999999999997, 42.84%, 62.760000000000005%)\", \"hsl(175.76000000000002, 47.760000000000005%, 53.67999999999999%)\", \"hsl(115.92, 44.76%, 73.64%)\", \"hsl(202.0, 58.0%, 46.0%)\", \"hsl(175.76000000000002, 47.760000000000005%, 53.67999999999999%)\", \"hsl(188.88, 52.879999999999995%, 49.84%)\", \"hsl(188.88, 52.879999999999995%, 49.84%)\", \"hsl(162.64000000000001, 42.64%, 57.519999999999996%)\", \"hsl(202.0, 58.0%, 46.0%)\", \"hsl(188.88, 52.879999999999995%, 49.84%)\", \"hsl(202.0, 58.0%, 46.0%)\", \"hsl(202.0, 58.0%, 46.0%)\", \"hsl(202.0, 58.0%, 46.0%)\", \"hsl(202.0, 58.0%, 46.0%)\", \"hsl(188.88, 52.879999999999995%, 49.84%)\"]}, \"x\": [14, 16, 17, 18, 19, 20, 21, 22, 23, 24, 25, 26, 27, 28, 29, 30, 31, 32, 33, 34, 35, 36, 37, 38, 39, 40, 41, 42, 43, 44, 45, 46, 47, 48, 49, 50, 51, 52, 53, 54, 55, 56, 57, 58, 59, 60, 61, 62, 64, 65, 66, 67, 69, 70, 73, 78, 81], \"y\": [2, 1, 1, 1, 4, 6, 11, 5, 5, 11, 8, 13, 17, 15, 11, 11, 8, 8, 11, 14, 16, 9, 12, 12, 12, 4, 6, 9, 8, 4, 6, 10, 4, 2, 2, 3, 6, 1, 5, 4, 6, 4, 4, 1, 2, 1, 3, 5, 2, 1, 1, 2, 1, 1, 1, 1, 2], \"type\": \"bar\", \"uid\": \"35d0a33d-daa1-4d4b-9bc8-6918a3fa0a1a\"}], {}, {\"showLink\": false, \"linkText\": \"Export to plot.ly\", \"plotlyServerURL\": \"https://plot.ly\"}); \n",
       "}\n",
       "});</script><script type=\"text/javascript\">window.addEventListener(\"resize\", function(){if (document.getElementById(\"9ebaadc7-b40f-4796-924b-7b4bfa786e08\")) {window._Plotly.Plots.resize(document.getElementById(\"9ebaadc7-b40f-4796-924b-7b4bfa786e08\"));};})</script>"
      ]
     },
     "metadata": {},
     "output_type": "display_data"
    },
    {
     "name": "stdout",
     "output_type": "stream",
     "text": [
      "\n",
      "\n",
      "Cluster 5 || variable: Nacionalidad\n",
      "Describiendo la pregunta Nacionalidad\n",
      "Valores numéricos asociados a las respuestas [0, 1, 2, 3, 4, 5, 6, 7, 8, 9, 10, 11, 12, 13, 14, 15, 16, 17, 18, 19, 20, 21, 22, 23, 24, 25, 26, 27, 28, 29, 30, 31, 32, 33]\n",
      "Respuestas posibles a la pregunta/variable ['España', 'Colombia', 'México', 'República Dominicana', 'Austria', 'Chile', 'Francia', 'Canadá', 'Nigeria', 'China', 'Australia', 'Rusia', 'Alemania', 'Brasil', 'Estados Unidos de América', 'India', 'Eslovaquia', 'Italia', 'Inglaterra', 'Cuba', 'Ukrania', 'Venezuela', 'Indonesia', 'Albania', 'Paquistan', 'Bahamas', 'Argentina', 'Islandia', 'Escocia', 'Sudán', 'Nueva Zelanda', 'Irlanda', 'Macedonia', 'Unknown']\n"
     ]
    },
    {
     "data": {
      "text/plain": [
       "count    336.000000\n",
       "mean      12.300595\n",
       "std        8.584025\n",
       "min        0.000000\n",
       "25%        6.000000\n",
       "50%       14.000000\n",
       "75%       14.000000\n",
       "max       33.000000\n",
       "Name: Nacionalidad, dtype: float64"
      ]
     },
     "metadata": {},
     "output_type": "display_data"
    },
    {
     "name": "stdout",
     "output_type": "stream",
     "text": [
      "Conteo de cada valor en Nacionalidad expresada como valor / cantidad\n"
     ]
    },
    {
     "data": {
      "text/plain": [
       "0      73\n",
       "1       1\n",
       "2       1\n",
       "3       2\n",
       "4       1\n",
       "5       1\n",
       "6       8\n",
       "7       4\n",
       "8       1\n",
       "12      1\n",
       "13      1\n",
       "14    168\n",
       "15     29\n",
       "16      1\n",
       "17      5\n",
       "18      7\n",
       "21      2\n",
       "24      1\n",
       "25      1\n",
       "26      1\n",
       "27      1\n",
       "28      1\n",
       "31      2\n",
       "32      1\n",
       "33     22\n",
       "Name: Nacionalidad, dtype: int64"
      ]
     },
     "metadata": {},
     "output_type": "display_data"
    },
    {
     "name": "stdout",
     "output_type": "stream",
     "text": [
      "Porcentaje de cada valor en Nacionalidad expresado como valor / porcentaje\n"
     ]
    },
    {
     "data": {
      "text/plain": [
       "0     21.73\n",
       "1      0.30\n",
       "2      0.30\n",
       "3      0.60\n",
       "4      0.30\n",
       "5      0.30\n",
       "6      2.38\n",
       "7      1.19\n",
       "8      0.30\n",
       "12     0.30\n",
       "13     0.30\n",
       "14    50.00\n",
       "15     8.63\n",
       "16     0.30\n",
       "17     1.49\n",
       "18     2.08\n",
       "21     0.60\n",
       "24     0.30\n",
       "25     0.30\n",
       "26     0.30\n",
       "27     0.30\n",
       "28     0.30\n",
       "31     0.60\n",
       "32     0.30\n",
       "33     6.55\n",
       "Name: Nacionalidad, dtype: float64"
      ]
     },
     "metadata": {},
     "output_type": "display_data"
    },
    {
     "data": {
      "application/vnd.plotly.v1+json": {
       "config": {
        "linkText": "Export to plot.ly",
        "plotlyServerURL": "https://plot.ly",
        "showLink": false
       },
       "data": [
        {
         "marker": {
          "color": [
           "hsl(353.0, 64.0%, 53.0%)",
           "hsl(358.09090909090907, 69.81818181818181%, 54.696969696969695%)",
           "hsl(3.181818181818187, 75.63636363636364%, 56.39393939393939%)",
           "hsl(8.272727272727252, 81.45454545454545%, 58.09090909090909%)",
           "hsl(13.363636363636374, 87.27272727272728%, 59.78787878787879%)",
           "hsl(17.181818181818183, 89.9090909090909%, 61.696969696969695%)",
           "hsl(20.81818181818182, 92.0909090909091%, 63.63636363636364%)",
           "hsl(24.454545454545453, 94.27272727272728%, 65.57575757575758%)",
           "hsl(28.090909090909093, 96.45454545454545%, 67.51515151515152%)",
           "hsl(31.727272727272727, 97.18181818181819%, 69.63636363636364%)",
           "hsl(35.36363636363637, 97.42424242424242%, 71.81818181818181%)",
           "hsl(39.0, 97.66666666666667%, 74.0%)",
           "hsl(42.63636363636364, 97.9090909090909%, 76.18181818181819%)",
           "hsl(46.42424242424242, 98.3030303030303%, 78.51515151515152%)",
           "hsl(50.303030303030305, 98.78787878787878%, 80.93939393939394%)",
           "hsl(54.18181818181818, 99.27272727272727%, 83.36363636363636%)",
           "hsl(58.06060606060606, 99.75757575757575%, 85.78787878787878%)",
           "hsl(61.09090909090909, 97.81818181818181%, 85.78787878787878%)",
           "hsl(63.272727272727266, 93.45454545454547%, 83.36363636363637%)",
           "hsl(65.45454545454545, 89.09090909090908%, 80.93939393939394%)",
           "hsl(67.63636363636364, 84.72727272727272%, 78.51515151515152%)",
           "hsl(72.9090909090909, 78.63636363636364%, 76.81818181818181%)",
           "hsl(83.33333333333331, 69.66666666666669%, 76.33333333333333%)",
           "hsl(93.75757575757578, 60.69696969696968%, 75.84848484848484%)",
           "hsl(104.18181818181819, 51.72727272727272%, 75.36363636363636%)",
           "hsl(114.96969696969697, 44.81818181818182%, 73.96969696969697%)",
           "hsl(126.84848484848483, 44.09090909090909%, 69.84848484848486%)",
           "hsl(138.72727272727275, 43.36363636363636%, 65.72727272727272%)",
           "hsl(150.60606060606062, 42.63636363636363%, 61.6060606060606%)",
           "hsl(162.24242424242425, 42.484848484848484%, 57.63636363636364%)",
           "hsl(172.1818181818182, 46.36363636363636%, 54.727272727272734%)",
           "hsl(182.12121212121212, 50.24242424242425%, 51.81818181818181%)",
           "hsl(192.06060606060606, 54.121212121212125%, 48.90909090909091%)",
           "hsl(202.0, 58.0%, 46.0%)"
          ]
         },
         "type": "bar",
         "uid": "011e27c3-1b9c-43e7-a92a-c5190f91c8c5",
         "x": [
          0,
          1,
          2,
          3,
          4,
          5,
          6,
          7,
          8,
          12,
          13,
          14,
          15,
          16,
          17,
          18,
          21,
          24,
          25,
          26,
          27,
          28,
          31,
          32,
          33
         ],
         "y": [
          73,
          1,
          1,
          2,
          1,
          1,
          8,
          4,
          1,
          1,
          1,
          168,
          29,
          1,
          5,
          7,
          2,
          1,
          1,
          1,
          1,
          1,
          2,
          1,
          22
         ]
        }
       ],
       "layout": {
        "bargap": 0.2,
        "xaxis": {
         "ticktext": [
          "España",
          "Colombia",
          "México",
          "República Dominicana",
          "Austria",
          "Chile",
          "Francia",
          "Canadá",
          "Nigeria",
          "China",
          "Australia",
          "Rusia",
          "Alemania",
          "Brasil",
          "Estados Unidos de América",
          "India",
          "Eslovaquia",
          "Italia",
          "Inglaterra",
          "Cuba",
          "Ukrania",
          "Venezuela",
          "Indonesia",
          "Albania",
          "Paquistan",
          "Bahamas",
          "Argentina",
          "Islandia",
          "Escocia",
          "Sudán",
          "Nueva Zelanda",
          "Irlanda",
          "Macedonia",
          "Unknown"
         ],
         "tickvals": [
          0,
          1,
          2,
          3,
          4,
          5,
          6,
          7,
          8,
          9,
          10,
          11,
          12,
          13,
          14,
          15,
          16,
          17,
          18,
          19,
          20,
          21,
          22,
          23,
          24,
          25,
          26,
          27,
          28,
          29,
          30,
          31,
          32,
          33
         ]
        }
       }
      },
      "text/html": [
       "<div id=\"93456298-83ca-4542-bc9e-a10d800042e7\" style=\"height: 525px; width: 100%;\" class=\"plotly-graph-div\"></div><script type=\"text/javascript\">require([\"plotly\"], function(Plotly) { window.PLOTLYENV=window.PLOTLYENV || {};window.PLOTLYENV.BASE_URL=\"https://plot.ly\";\n",
       "if (document.getElementById(\"93456298-83ca-4542-bc9e-a10d800042e7\")) {\n",
       "    Plotly.newPlot(\"93456298-83ca-4542-bc9e-a10d800042e7\", [{\"marker\": {\"color\": [\"hsl(353.0, 64.0%, 53.0%)\", \"hsl(358.09090909090907, 69.81818181818181%, 54.696969696969695%)\", \"hsl(3.181818181818187, 75.63636363636364%, 56.39393939393939%)\", \"hsl(8.272727272727252, 81.45454545454545%, 58.09090909090909%)\", \"hsl(13.363636363636374, 87.27272727272728%, 59.78787878787879%)\", \"hsl(17.181818181818183, 89.9090909090909%, 61.696969696969695%)\", \"hsl(20.81818181818182, 92.0909090909091%, 63.63636363636364%)\", \"hsl(24.454545454545453, 94.27272727272728%, 65.57575757575758%)\", \"hsl(28.090909090909093, 96.45454545454545%, 67.51515151515152%)\", \"hsl(31.727272727272727, 97.18181818181819%, 69.63636363636364%)\", \"hsl(35.36363636363637, 97.42424242424242%, 71.81818181818181%)\", \"hsl(39.0, 97.66666666666667%, 74.0%)\", \"hsl(42.63636363636364, 97.9090909090909%, 76.18181818181819%)\", \"hsl(46.42424242424242, 98.3030303030303%, 78.51515151515152%)\", \"hsl(50.303030303030305, 98.78787878787878%, 80.93939393939394%)\", \"hsl(54.18181818181818, 99.27272727272727%, 83.36363636363636%)\", \"hsl(58.06060606060606, 99.75757575757575%, 85.78787878787878%)\", \"hsl(61.09090909090909, 97.81818181818181%, 85.78787878787878%)\", \"hsl(63.272727272727266, 93.45454545454547%, 83.36363636363637%)\", \"hsl(65.45454545454545, 89.09090909090908%, 80.93939393939394%)\", \"hsl(67.63636363636364, 84.72727272727272%, 78.51515151515152%)\", \"hsl(72.9090909090909, 78.63636363636364%, 76.81818181818181%)\", \"hsl(83.33333333333331, 69.66666666666669%, 76.33333333333333%)\", \"hsl(93.75757575757578, 60.69696969696968%, 75.84848484848484%)\", \"hsl(104.18181818181819, 51.72727272727272%, 75.36363636363636%)\", \"hsl(114.96969696969697, 44.81818181818182%, 73.96969696969697%)\", \"hsl(126.84848484848483, 44.09090909090909%, 69.84848484848486%)\", \"hsl(138.72727272727275, 43.36363636363636%, 65.72727272727272%)\", \"hsl(150.60606060606062, 42.63636363636363%, 61.6060606060606%)\", \"hsl(162.24242424242425, 42.484848484848484%, 57.63636363636364%)\", \"hsl(172.1818181818182, 46.36363636363636%, 54.727272727272734%)\", \"hsl(182.12121212121212, 50.24242424242425%, 51.81818181818181%)\", \"hsl(192.06060606060606, 54.121212121212125%, 48.90909090909091%)\", \"hsl(202.0, 58.0%, 46.0%)\"]}, \"x\": [0, 1, 2, 3, 4, 5, 6, 7, 8, 12, 13, 14, 15, 16, 17, 18, 21, 24, 25, 26, 27, 28, 31, 32, 33], \"y\": [73, 1, 1, 2, 1, 1, 8, 4, 1, 1, 1, 168, 29, 1, 5, 7, 2, 1, 1, 1, 1, 1, 2, 1, 22], \"type\": \"bar\", \"uid\": \"011e27c3-1b9c-43e7-a92a-c5190f91c8c5\"}], {\"bargap\": 0.2, \"xaxis\": {\"ticktext\": [\"Espa\\u00f1a\", \"Colombia\", \"M\\u00e9xico\", \"Rep\\u00fablica Dominicana\", \"Austria\", \"Chile\", \"Francia\", \"Canad\\u00e1\", \"Nigeria\", \"China\", \"Australia\", \"Rusia\", \"Alemania\", \"Brasil\", \"Estados Unidos de Am\\u00e9rica\", \"India\", \"Eslovaquia\", \"Italia\", \"Inglaterra\", \"Cuba\", \"Ukrania\", \"Venezuela\", \"Indonesia\", \"Albania\", \"Paquistan\", \"Bahamas\", \"Argentina\", \"Islandia\", \"Escocia\", \"Sud\\u00e1n\", \"Nueva Zelanda\", \"Irlanda\", \"Macedonia\", \"Unknown\"], \"tickvals\": [0, 1, 2, 3, 4, 5, 6, 7, 8, 9, 10, 11, 12, 13, 14, 15, 16, 17, 18, 19, 20, 21, 22, 23, 24, 25, 26, 27, 28, 29, 30, 31, 32, 33]}}, {\"showLink\": false, \"linkText\": \"Export to plot.ly\", \"plotlyServerURL\": \"https://plot.ly\"}); \n",
       "}\n",
       "});</script><script type=\"text/javascript\">window.addEventListener(\"resize\", function(){if (document.getElementById(\"93456298-83ca-4542-bc9e-a10d800042e7\")) {window._Plotly.Plots.resize(document.getElementById(\"93456298-83ca-4542-bc9e-a10d800042e7\"));};})</script>"
      ],
      "text/vnd.plotly.v1+html": [
       "<div id=\"93456298-83ca-4542-bc9e-a10d800042e7\" style=\"height: 525px; width: 100%;\" class=\"plotly-graph-div\"></div><script type=\"text/javascript\">require([\"plotly\"], function(Plotly) { window.PLOTLYENV=window.PLOTLYENV || {};window.PLOTLYENV.BASE_URL=\"https://plot.ly\";\n",
       "if (document.getElementById(\"93456298-83ca-4542-bc9e-a10d800042e7\")) {\n",
       "    Plotly.newPlot(\"93456298-83ca-4542-bc9e-a10d800042e7\", [{\"marker\": {\"color\": [\"hsl(353.0, 64.0%, 53.0%)\", \"hsl(358.09090909090907, 69.81818181818181%, 54.696969696969695%)\", \"hsl(3.181818181818187, 75.63636363636364%, 56.39393939393939%)\", \"hsl(8.272727272727252, 81.45454545454545%, 58.09090909090909%)\", \"hsl(13.363636363636374, 87.27272727272728%, 59.78787878787879%)\", \"hsl(17.181818181818183, 89.9090909090909%, 61.696969696969695%)\", \"hsl(20.81818181818182, 92.0909090909091%, 63.63636363636364%)\", \"hsl(24.454545454545453, 94.27272727272728%, 65.57575757575758%)\", \"hsl(28.090909090909093, 96.45454545454545%, 67.51515151515152%)\", \"hsl(31.727272727272727, 97.18181818181819%, 69.63636363636364%)\", \"hsl(35.36363636363637, 97.42424242424242%, 71.81818181818181%)\", \"hsl(39.0, 97.66666666666667%, 74.0%)\", \"hsl(42.63636363636364, 97.9090909090909%, 76.18181818181819%)\", \"hsl(46.42424242424242, 98.3030303030303%, 78.51515151515152%)\", \"hsl(50.303030303030305, 98.78787878787878%, 80.93939393939394%)\", \"hsl(54.18181818181818, 99.27272727272727%, 83.36363636363636%)\", \"hsl(58.06060606060606, 99.75757575757575%, 85.78787878787878%)\", \"hsl(61.09090909090909, 97.81818181818181%, 85.78787878787878%)\", \"hsl(63.272727272727266, 93.45454545454547%, 83.36363636363637%)\", \"hsl(65.45454545454545, 89.09090909090908%, 80.93939393939394%)\", \"hsl(67.63636363636364, 84.72727272727272%, 78.51515151515152%)\", \"hsl(72.9090909090909, 78.63636363636364%, 76.81818181818181%)\", \"hsl(83.33333333333331, 69.66666666666669%, 76.33333333333333%)\", \"hsl(93.75757575757578, 60.69696969696968%, 75.84848484848484%)\", \"hsl(104.18181818181819, 51.72727272727272%, 75.36363636363636%)\", \"hsl(114.96969696969697, 44.81818181818182%, 73.96969696969697%)\", \"hsl(126.84848484848483, 44.09090909090909%, 69.84848484848486%)\", \"hsl(138.72727272727275, 43.36363636363636%, 65.72727272727272%)\", \"hsl(150.60606060606062, 42.63636363636363%, 61.6060606060606%)\", \"hsl(162.24242424242425, 42.484848484848484%, 57.63636363636364%)\", \"hsl(172.1818181818182, 46.36363636363636%, 54.727272727272734%)\", \"hsl(182.12121212121212, 50.24242424242425%, 51.81818181818181%)\", \"hsl(192.06060606060606, 54.121212121212125%, 48.90909090909091%)\", \"hsl(202.0, 58.0%, 46.0%)\"]}, \"x\": [0, 1, 2, 3, 4, 5, 6, 7, 8, 12, 13, 14, 15, 16, 17, 18, 21, 24, 25, 26, 27, 28, 31, 32, 33], \"y\": [73, 1, 1, 2, 1, 1, 8, 4, 1, 1, 1, 168, 29, 1, 5, 7, 2, 1, 1, 1, 1, 1, 2, 1, 22], \"type\": \"bar\", \"uid\": \"011e27c3-1b9c-43e7-a92a-c5190f91c8c5\"}], {\"bargap\": 0.2, \"xaxis\": {\"ticktext\": [\"Espa\\u00f1a\", \"Colombia\", \"M\\u00e9xico\", \"Rep\\u00fablica Dominicana\", \"Austria\", \"Chile\", \"Francia\", \"Canad\\u00e1\", \"Nigeria\", \"China\", \"Australia\", \"Rusia\", \"Alemania\", \"Brasil\", \"Estados Unidos de Am\\u00e9rica\", \"India\", \"Eslovaquia\", \"Italia\", \"Inglaterra\", \"Cuba\", \"Ukrania\", \"Venezuela\", \"Indonesia\", \"Albania\", \"Paquistan\", \"Bahamas\", \"Argentina\", \"Islandia\", \"Escocia\", \"Sud\\u00e1n\", \"Nueva Zelanda\", \"Irlanda\", \"Macedonia\", \"Unknown\"], \"tickvals\": [0, 1, 2, 3, 4, 5, 6, 7, 8, 9, 10, 11, 12, 13, 14, 15, 16, 17, 18, 19, 20, 21, 22, 23, 24, 25, 26, 27, 28, 29, 30, 31, 32, 33]}}, {\"showLink\": false, \"linkText\": \"Export to plot.ly\", \"plotlyServerURL\": \"https://plot.ly\"}); \n",
       "}\n",
       "});</script><script type=\"text/javascript\">window.addEventListener(\"resize\", function(){if (document.getElementById(\"93456298-83ca-4542-bc9e-a10d800042e7\")) {window._Plotly.Plots.resize(document.getElementById(\"93456298-83ca-4542-bc9e-a10d800042e7\"));};})</script>"
      ]
     },
     "metadata": {},
     "output_type": "display_data"
    },
    {
     "name": "stdout",
     "output_type": "stream",
     "text": [
      "\n",
      "\n",
      "Cluster 5 || variable: Nivel de estudios\n",
      "Describiendo la pregunta Nivel de estudios\n",
      "Valores numéricos asociados a las respuestas [0, 1, 2, 3, 4, 5]\n",
      "Respuestas posibles a la pregunta/variable ['Educación Primaria', 'Sin terminar Educación Secundaria Obligatoria', 'Terminada Educación Secundaria Obligatoria', 'FP', 'Universitario sin graduar', 'Universitario graduado']\n"
     ]
    },
    {
     "data": {
      "text/plain": [
       "count    336.000000\n",
       "mean       4.300595\n",
       "std        1.170074\n",
       "min        0.000000\n",
       "25%        4.000000\n",
       "50%        5.000000\n",
       "75%        5.000000\n",
       "max        5.000000\n",
       "Name: Nivel de estudios, dtype: float64"
      ]
     },
     "metadata": {},
     "output_type": "display_data"
    },
    {
     "name": "stdout",
     "output_type": "stream",
     "text": [
      "Conteo de cada valor en Nivel de estudios expresada como valor / cantidad\n"
     ]
    },
    {
     "data": {
      "text/plain": [
       "0      6\n",
       "1     11\n",
       "2     15\n",
       "3     23\n",
       "4     70\n",
       "5    211\n",
       "Name: Nivel de estudios, dtype: int64"
      ]
     },
     "metadata": {},
     "output_type": "display_data"
    },
    {
     "name": "stdout",
     "output_type": "stream",
     "text": [
      "Porcentaje de cada valor en Nivel de estudios expresado como valor / porcentaje\n"
     ]
    },
    {
     "data": {
      "text/plain": [
       "0     1.79\n",
       "1     3.27\n",
       "2     4.46\n",
       "3     6.85\n",
       "4    20.83\n",
       "5    62.80\n",
       "Name: Nivel de estudios, dtype: float64"
      ]
     },
     "metadata": {},
     "output_type": "display_data"
    },
    {
     "data": {
      "application/vnd.plotly.v1+json": {
       "config": {
        "linkText": "Export to plot.ly",
        "plotlyServerURL": "https://plot.ly",
        "showLink": false
       },
       "data": [
        {
         "marker": {
          "color": [
           "rgb(213,62,79)",
           "rgb(252,141,89)",
           "rgb(254,224,139)",
           "rgb(230,245,152)",
           "rgb(153,213,148)",
           "rgb(50,136,189)"
          ]
         },
         "type": "bar",
         "uid": "27064eab-ac1d-4b52-b2a0-6c831b2165da",
         "x": [
          0,
          1,
          2,
          3,
          4,
          5
         ],
         "y": [
          6,
          11,
          15,
          23,
          70,
          211
         ]
        }
       ],
       "layout": {
        "bargap": 0.2,
        "xaxis": {
         "ticktext": [
          "Educación Primaria",
          "Sin terminar Educación Secundaria Obligatoria",
          "Terminada Educación Secundaria Obligatoria",
          "FP",
          "Universitario sin graduar",
          "Universitario graduado"
         ],
         "tickvals": [
          0,
          1,
          2,
          3,
          4,
          5
         ]
        }
       }
      },
      "text/html": [
       "<div id=\"57af8089-e19e-4f10-982e-3cf97d144865\" style=\"height: 525px; width: 100%;\" class=\"plotly-graph-div\"></div><script type=\"text/javascript\">require([\"plotly\"], function(Plotly) { window.PLOTLYENV=window.PLOTLYENV || {};window.PLOTLYENV.BASE_URL=\"https://plot.ly\";\n",
       "if (document.getElementById(\"57af8089-e19e-4f10-982e-3cf97d144865\")) {\n",
       "    Plotly.newPlot(\"57af8089-e19e-4f10-982e-3cf97d144865\", [{\"marker\": {\"color\": [\"rgb(213,62,79)\", \"rgb(252,141,89)\", \"rgb(254,224,139)\", \"rgb(230,245,152)\", \"rgb(153,213,148)\", \"rgb(50,136,189)\"]}, \"x\": [0, 1, 2, 3, 4, 5], \"y\": [6, 11, 15, 23, 70, 211], \"type\": \"bar\", \"uid\": \"27064eab-ac1d-4b52-b2a0-6c831b2165da\"}], {\"bargap\": 0.2, \"xaxis\": {\"ticktext\": [\"Educaci\\u00f3n Primaria\", \"Sin terminar Educaci\\u00f3n Secundaria Obligatoria\", \"Terminada Educaci\\u00f3n Secundaria Obligatoria\", \"FP\", \"Universitario sin graduar\", \"Universitario graduado\"], \"tickvals\": [0, 1, 2, 3, 4, 5]}}, {\"showLink\": false, \"linkText\": \"Export to plot.ly\", \"plotlyServerURL\": \"https://plot.ly\"}); \n",
       "}\n",
       "});</script><script type=\"text/javascript\">window.addEventListener(\"resize\", function(){if (document.getElementById(\"57af8089-e19e-4f10-982e-3cf97d144865\")) {window._Plotly.Plots.resize(document.getElementById(\"57af8089-e19e-4f10-982e-3cf97d144865\"));};})</script>"
      ],
      "text/vnd.plotly.v1+html": [
       "<div id=\"57af8089-e19e-4f10-982e-3cf97d144865\" style=\"height: 525px; width: 100%;\" class=\"plotly-graph-div\"></div><script type=\"text/javascript\">require([\"plotly\"], function(Plotly) { window.PLOTLYENV=window.PLOTLYENV || {};window.PLOTLYENV.BASE_URL=\"https://plot.ly\";\n",
       "if (document.getElementById(\"57af8089-e19e-4f10-982e-3cf97d144865\")) {\n",
       "    Plotly.newPlot(\"57af8089-e19e-4f10-982e-3cf97d144865\", [{\"marker\": {\"color\": [\"rgb(213,62,79)\", \"rgb(252,141,89)\", \"rgb(254,224,139)\", \"rgb(230,245,152)\", \"rgb(153,213,148)\", \"rgb(50,136,189)\"]}, \"x\": [0, 1, 2, 3, 4, 5], \"y\": [6, 11, 15, 23, 70, 211], \"type\": \"bar\", \"uid\": \"27064eab-ac1d-4b52-b2a0-6c831b2165da\"}], {\"bargap\": 0.2, \"xaxis\": {\"ticktext\": [\"Educaci\\u00f3n Primaria\", \"Sin terminar Educaci\\u00f3n Secundaria Obligatoria\", \"Terminada Educaci\\u00f3n Secundaria Obligatoria\", \"FP\", \"Universitario sin graduar\", \"Universitario graduado\"], \"tickvals\": [0, 1, 2, 3, 4, 5]}}, {\"showLink\": false, \"linkText\": \"Export to plot.ly\", \"plotlyServerURL\": \"https://plot.ly\"}); \n",
       "}\n",
       "});</script><script type=\"text/javascript\">window.addEventListener(\"resize\", function(){if (document.getElementById(\"57af8089-e19e-4f10-982e-3cf97d144865\")) {window._Plotly.Plots.resize(document.getElementById(\"57af8089-e19e-4f10-982e-3cf97d144865\"));};})</script>"
      ]
     },
     "metadata": {},
     "output_type": "display_data"
    },
    {
     "name": "stdout",
     "output_type": "stream",
     "text": [
      "\n",
      "\n",
      "Cluster 2 || variable: Género\n",
      "Describiendo la pregunta Género\n",
      "Valores numéricos asociados a las respuestas [0, 1, 2]\n",
      "Respuestas posibles a la pregunta/variable ['Masculino', 'Femenino', 'Otro']\n"
     ]
    },
    {
     "data": {
      "text/plain": [
       "count    196.000000\n",
       "mean       0.479592\n",
       "std        0.510999\n",
       "min        0.000000\n",
       "25%        0.000000\n",
       "50%        0.000000\n",
       "75%        1.000000\n",
       "max        2.000000\n",
       "Name: Género, dtype: float64"
      ]
     },
     "metadata": {},
     "output_type": "display_data"
    },
    {
     "name": "stdout",
     "output_type": "stream",
     "text": [
      "Conteo de cada valor en Género expresada como valor / cantidad\n"
     ]
    },
    {
     "data": {
      "text/plain": [
       "0    103\n",
       "1     92\n",
       "2      1\n",
       "Name: Género, dtype: int64"
      ]
     },
     "metadata": {},
     "output_type": "display_data"
    },
    {
     "name": "stdout",
     "output_type": "stream",
     "text": [
      "Porcentaje de cada valor en Género expresado como valor / porcentaje\n"
     ]
    },
    {
     "data": {
      "text/plain": [
       "0    52.55\n",
       "1    46.94\n",
       "2     0.51\n",
       "Name: Género, dtype: float64"
      ]
     },
     "metadata": {},
     "output_type": "display_data"
    },
    {
     "data": {
      "application/vnd.plotly.v1+json": {
       "config": {
        "linkText": "Export to plot.ly",
        "plotlyServerURL": "https://plot.ly",
        "showLink": false
       },
       "data": [
        {
         "marker": {
          "color": [
           "rgb(213,62,79)",
           "rgb(252,141,89)",
           "rgb(254,224,139)",
           "rgb(230,245,152)",
           "rgb(153,213,148)",
           "rgb(50,136,189)"
          ]
         },
         "type": "bar",
         "uid": "8730e57e-2138-4fd9-a8f2-5e99b7cef55d",
         "x": [
          0,
          1,
          2
         ],
         "y": [
          103,
          92,
          1
         ]
        }
       ],
       "layout": {
        "bargap": 0.2,
        "xaxis": {
         "ticktext": [
          "Masculino",
          "Femenino",
          "Otro"
         ],
         "tickvals": [
          0,
          1,
          2
         ]
        }
       }
      },
      "text/html": [
       "<div id=\"b4effbff-4ab2-4d22-bd2c-2ef21824a589\" style=\"height: 525px; width: 100%;\" class=\"plotly-graph-div\"></div><script type=\"text/javascript\">require([\"plotly\"], function(Plotly) { window.PLOTLYENV=window.PLOTLYENV || {};window.PLOTLYENV.BASE_URL=\"https://plot.ly\";\n",
       "if (document.getElementById(\"b4effbff-4ab2-4d22-bd2c-2ef21824a589\")) {\n",
       "    Plotly.newPlot(\"b4effbff-4ab2-4d22-bd2c-2ef21824a589\", [{\"marker\": {\"color\": [\"rgb(213,62,79)\", \"rgb(252,141,89)\", \"rgb(254,224,139)\", \"rgb(230,245,152)\", \"rgb(153,213,148)\", \"rgb(50,136,189)\"]}, \"x\": [0, 1, 2], \"y\": [103, 92, 1], \"type\": \"bar\", \"uid\": \"8730e57e-2138-4fd9-a8f2-5e99b7cef55d\"}], {\"bargap\": 0.2, \"xaxis\": {\"ticktext\": [\"Masculino\", \"Femenino\", \"Otro\"], \"tickvals\": [0, 1, 2]}}, {\"showLink\": false, \"linkText\": \"Export to plot.ly\", \"plotlyServerURL\": \"https://plot.ly\"}); \n",
       "}\n",
       "});</script><script type=\"text/javascript\">window.addEventListener(\"resize\", function(){if (document.getElementById(\"b4effbff-4ab2-4d22-bd2c-2ef21824a589\")) {window._Plotly.Plots.resize(document.getElementById(\"b4effbff-4ab2-4d22-bd2c-2ef21824a589\"));};})</script>"
      ],
      "text/vnd.plotly.v1+html": [
       "<div id=\"b4effbff-4ab2-4d22-bd2c-2ef21824a589\" style=\"height: 525px; width: 100%;\" class=\"plotly-graph-div\"></div><script type=\"text/javascript\">require([\"plotly\"], function(Plotly) { window.PLOTLYENV=window.PLOTLYENV || {};window.PLOTLYENV.BASE_URL=\"https://plot.ly\";\n",
       "if (document.getElementById(\"b4effbff-4ab2-4d22-bd2c-2ef21824a589\")) {\n",
       "    Plotly.newPlot(\"b4effbff-4ab2-4d22-bd2c-2ef21824a589\", [{\"marker\": {\"color\": [\"rgb(213,62,79)\", \"rgb(252,141,89)\", \"rgb(254,224,139)\", \"rgb(230,245,152)\", \"rgb(153,213,148)\", \"rgb(50,136,189)\"]}, \"x\": [0, 1, 2], \"y\": [103, 92, 1], \"type\": \"bar\", \"uid\": \"8730e57e-2138-4fd9-a8f2-5e99b7cef55d\"}], {\"bargap\": 0.2, \"xaxis\": {\"ticktext\": [\"Masculino\", \"Femenino\", \"Otro\"], \"tickvals\": [0, 1, 2]}}, {\"showLink\": false, \"linkText\": \"Export to plot.ly\", \"plotlyServerURL\": \"https://plot.ly\"}); \n",
       "}\n",
       "});</script><script type=\"text/javascript\">window.addEventListener(\"resize\", function(){if (document.getElementById(\"b4effbff-4ab2-4d22-bd2c-2ef21824a589\")) {window._Plotly.Plots.resize(document.getElementById(\"b4effbff-4ab2-4d22-bd2c-2ef21824a589\"));};})</script>"
      ]
     },
     "metadata": {},
     "output_type": "display_data"
    },
    {
     "name": "stdout",
     "output_type": "stream",
     "text": [
      "\n",
      "\n",
      "Cluster 2 || variable: Edad\n",
      "Describiendo la pregunta Edad\n"
     ]
    },
    {
     "data": {
      "text/plain": [
       "count    196.000000\n",
       "mean      29.994898\n",
       "std       13.760403\n",
       "min       13.000000\n",
       "25%       16.750000\n",
       "50%       30.000000\n",
       "75%       36.250000\n",
       "max       71.000000\n",
       "Name: Edad, dtype: float64"
      ]
     },
     "metadata": {},
     "output_type": "display_data"
    },
    {
     "name": "stdout",
     "output_type": "stream",
     "text": [
      "Conteo de cada valor en Edad expresada como valor / cantidad\n"
     ]
    },
    {
     "data": {
      "text/plain": [
       "13     4\n",
       "14    22\n",
       "15    16\n",
       "16     7\n",
       "17     2\n",
       "18     7\n",
       "19     2\n",
       "20     1\n",
       "21     4\n",
       "22     2\n",
       "23     2\n",
       "24     5\n",
       "25     2\n",
       "26     4\n",
       "27     4\n",
       "28     6\n",
       "29     5\n",
       "30    12\n",
       "31     6\n",
       "32     9\n",
       "33     7\n",
       "34     9\n",
       "35     6\n",
       "36     3\n",
       "37     3\n",
       "38     6\n",
       "39     1\n",
       "40     3\n",
       "41     1\n",
       "43     3\n",
       "44     3\n",
       "45     2\n",
       "46     5\n",
       "47     2\n",
       "48     2\n",
       "49     1\n",
       "50     1\n",
       "53     2\n",
       "55     1\n",
       "57     2\n",
       "60     3\n",
       "62     2\n",
       "63     1\n",
       "66     1\n",
       "67     2\n",
       "69     1\n",
       "71     1\n",
       "Name: Edad, dtype: int64"
      ]
     },
     "metadata": {},
     "output_type": "display_data"
    },
    {
     "name": "stdout",
     "output_type": "stream",
     "text": [
      "Porcentaje de cada valor en Edad expresado como valor / porcentaje\n"
     ]
    },
    {
     "data": {
      "text/plain": [
       "13     2.04\n",
       "14    11.22\n",
       "15     8.16\n",
       "16     3.57\n",
       "17     1.02\n",
       "18     3.57\n",
       "19     1.02\n",
       "20     0.51\n",
       "21     2.04\n",
       "22     1.02\n",
       "23     1.02\n",
       "24     2.55\n",
       "25     1.02\n",
       "26     2.04\n",
       "27     2.04\n",
       "28     3.06\n",
       "29     2.55\n",
       "30     6.12\n",
       "31     3.06\n",
       "32     4.59\n",
       "33     3.57\n",
       "34     4.59\n",
       "35     3.06\n",
       "36     1.53\n",
       "37     1.53\n",
       "38     3.06\n",
       "39     0.51\n",
       "40     1.53\n",
       "41     0.51\n",
       "43     1.53\n",
       "44     1.53\n",
       "45     1.02\n",
       "46     2.55\n",
       "47     1.02\n",
       "48     1.02\n",
       "49     0.51\n",
       "50     0.51\n",
       "53     1.02\n",
       "55     0.51\n",
       "57     1.02\n",
       "60     1.53\n",
       "62     1.02\n",
       "63     0.51\n",
       "66     0.51\n",
       "67     1.02\n",
       "69     0.51\n",
       "71     0.51\n",
       "Name: Edad, dtype: float64"
      ]
     },
     "metadata": {},
     "output_type": "display_data"
    },
    {
     "data": {
      "application/vnd.plotly.v1+json": {
       "config": {
        "linkText": "Export to plot.ly",
        "plotlyServerURL": "https://plot.ly",
        "showLink": false
       },
       "data": [
        {
         "marker": {
          "color": [
           "hsl(147.27999999999997, 42.84%, 62.760000000000005%)",
           "hsl(18.2, 90.52%, 62.24%)",
           "hsl(47.2, 98.4%, 79.0%)",
           "hsl(74.16000000000001, 77.56%, 76.76%)",
           "hsl(147.27999999999997, 42.84%, 62.760000000000005%)",
           "hsl(67.2, 85.60000000000001%, 79.0%)",
           "hsl(64.32000000000001, 91.35999999999999%, 82.19999999999999%)",
           "hsl(67.2, 85.60000000000001%, 79.0%)",
           "hsl(27.799999999999997, 96.28%, 67.36%)",
           "hsl(57.44, 99.68%, 85.4%)",
           "hsl(37.4, 97.56%, 73.04%)",
           "hsl(353.0, 64.0%, 53.0%)",
           "hsl(32.6, 97.24%, 70.16%)",
           "hsl(13.160000000000025, 87.03999999999999%, 59.72%)",
           "hsl(359.72, 71.68%, 55.24%)",
           "hsl(353.0, 64.0%, 53.0%)",
           "hsl(6.439999999999998, 79.36%, 57.480000000000004%)",
           "hsl(359.72, 71.68%, 55.24%)",
           "hsl(27.799999999999997, 96.28%, 67.36%)",
           "hsl(27.799999999999997, 96.28%, 67.36%)",
           "hsl(27.799999999999997, 96.28%, 67.36%)",
           "hsl(23.0, 93.4%, 64.8%)",
           "hsl(18.2, 90.52%, 62.24%)",
           "hsl(52.32, 99.04%, 82.2%)",
           "hsl(47.2, 98.4%, 79.0%)",
           "hsl(42.2, 97.88%, 75.92%)",
           "hsl(61.44, 97.12%, 85.4%)",
           "hsl(87.92000000000002, 65.71999999999998%, 76.12%)",
           "hsl(87.92000000000002, 65.71999999999998%, 76.12%)",
           "hsl(64.32000000000001, 91.35999999999999%, 82.19999999999999%)",
           "hsl(64.32000000000001, 91.35999999999999%, 82.19999999999999%)",
           "hsl(101.67999999999999, 53.88000000000001%, 75.48%)",
           "hsl(101.67999999999999, 53.88000000000001%, 75.48%)",
           "hsl(61.44, 97.12%, 85.4%)",
           "hsl(87.92000000000002, 65.71999999999998%, 76.12%)",
           "hsl(147.27999999999997, 42.84%, 62.760000000000005%)",
           "hsl(162.64000000000001, 42.64%, 57.519999999999996%)",
           "hsl(131.60000000000002, 43.8%, 68.19999999999999%)",
           "hsl(131.60000000000002, 43.8%, 68.19999999999999%)",
           "hsl(188.88, 52.879999999999995%, 49.84%)",
           "hsl(101.67999999999999, 53.88000000000001%, 75.48%)",
           "hsl(162.64000000000001, 42.64%, 57.519999999999996%)",
           "hsl(115.92, 44.76%, 73.64%)",
           "hsl(147.27999999999997, 42.84%, 62.760000000000005%)",
           "hsl(131.60000000000002, 43.8%, 68.19999999999999%)",
           "hsl(202.0, 58.0%, 46.0%)",
           "hsl(188.88, 52.879999999999995%, 49.84%)",
           "hsl(147.27999999999997, 42.84%, 62.760000000000005%)",
           "hsl(175.76000000000002, 47.760000000000005%, 53.67999999999999%)",
           "hsl(115.92, 44.76%, 73.64%)",
           "hsl(202.0, 58.0%, 46.0%)",
           "hsl(175.76000000000002, 47.760000000000005%, 53.67999999999999%)",
           "hsl(188.88, 52.879999999999995%, 49.84%)",
           "hsl(188.88, 52.879999999999995%, 49.84%)",
           "hsl(162.64000000000001, 42.64%, 57.519999999999996%)",
           "hsl(202.0, 58.0%, 46.0%)",
           "hsl(188.88, 52.879999999999995%, 49.84%)",
           "hsl(202.0, 58.0%, 46.0%)",
           "hsl(202.0, 58.0%, 46.0%)",
           "hsl(202.0, 58.0%, 46.0%)",
           "hsl(202.0, 58.0%, 46.0%)",
           "hsl(188.88, 52.879999999999995%, 49.84%)"
          ]
         },
         "type": "bar",
         "uid": "5a89a8b4-b974-45f9-b9c3-529b42033580",
         "x": [
          13,
          14,
          15,
          16,
          17,
          18,
          19,
          20,
          21,
          22,
          23,
          24,
          25,
          26,
          27,
          28,
          29,
          30,
          31,
          32,
          33,
          34,
          35,
          36,
          37,
          38,
          39,
          40,
          41,
          43,
          44,
          45,
          46,
          47,
          48,
          49,
          50,
          53,
          55,
          57,
          60,
          62,
          63,
          66,
          67,
          69,
          71
         ],
         "y": [
          4,
          22,
          16,
          7,
          2,
          7,
          2,
          1,
          4,
          2,
          2,
          5,
          2,
          4,
          4,
          6,
          5,
          12,
          6,
          9,
          7,
          9,
          6,
          3,
          3,
          6,
          1,
          3,
          1,
          3,
          3,
          2,
          5,
          2,
          2,
          1,
          1,
          2,
          1,
          2,
          3,
          2,
          1,
          1,
          2,
          1,
          1
         ]
        }
       ],
       "layout": {}
      },
      "text/html": [
       "<div id=\"2d0e67bf-c256-4c1f-81f8-1ccb92dba913\" style=\"height: 525px; width: 100%;\" class=\"plotly-graph-div\"></div><script type=\"text/javascript\">require([\"plotly\"], function(Plotly) { window.PLOTLYENV=window.PLOTLYENV || {};window.PLOTLYENV.BASE_URL=\"https://plot.ly\";\n",
       "if (document.getElementById(\"2d0e67bf-c256-4c1f-81f8-1ccb92dba913\")) {\n",
       "    Plotly.newPlot(\"2d0e67bf-c256-4c1f-81f8-1ccb92dba913\", [{\"marker\": {\"color\": [\"hsl(147.27999999999997, 42.84%, 62.760000000000005%)\", \"hsl(18.2, 90.52%, 62.24%)\", \"hsl(47.2, 98.4%, 79.0%)\", \"hsl(74.16000000000001, 77.56%, 76.76%)\", \"hsl(147.27999999999997, 42.84%, 62.760000000000005%)\", \"hsl(67.2, 85.60000000000001%, 79.0%)\", \"hsl(64.32000000000001, 91.35999999999999%, 82.19999999999999%)\", \"hsl(67.2, 85.60000000000001%, 79.0%)\", \"hsl(27.799999999999997, 96.28%, 67.36%)\", \"hsl(57.44, 99.68%, 85.4%)\", \"hsl(37.4, 97.56%, 73.04%)\", \"hsl(353.0, 64.0%, 53.0%)\", \"hsl(32.6, 97.24%, 70.16%)\", \"hsl(13.160000000000025, 87.03999999999999%, 59.72%)\", \"hsl(359.72, 71.68%, 55.24%)\", \"hsl(353.0, 64.0%, 53.0%)\", \"hsl(6.439999999999998, 79.36%, 57.480000000000004%)\", \"hsl(359.72, 71.68%, 55.24%)\", \"hsl(27.799999999999997, 96.28%, 67.36%)\", \"hsl(27.799999999999997, 96.28%, 67.36%)\", \"hsl(27.799999999999997, 96.28%, 67.36%)\", \"hsl(23.0, 93.4%, 64.8%)\", \"hsl(18.2, 90.52%, 62.24%)\", \"hsl(52.32, 99.04%, 82.2%)\", \"hsl(47.2, 98.4%, 79.0%)\", \"hsl(42.2, 97.88%, 75.92%)\", \"hsl(61.44, 97.12%, 85.4%)\", \"hsl(87.92000000000002, 65.71999999999998%, 76.12%)\", \"hsl(87.92000000000002, 65.71999999999998%, 76.12%)\", \"hsl(64.32000000000001, 91.35999999999999%, 82.19999999999999%)\", \"hsl(64.32000000000001, 91.35999999999999%, 82.19999999999999%)\", \"hsl(101.67999999999999, 53.88000000000001%, 75.48%)\", \"hsl(101.67999999999999, 53.88000000000001%, 75.48%)\", \"hsl(61.44, 97.12%, 85.4%)\", \"hsl(87.92000000000002, 65.71999999999998%, 76.12%)\", \"hsl(147.27999999999997, 42.84%, 62.760000000000005%)\", \"hsl(162.64000000000001, 42.64%, 57.519999999999996%)\", \"hsl(131.60000000000002, 43.8%, 68.19999999999999%)\", \"hsl(131.60000000000002, 43.8%, 68.19999999999999%)\", \"hsl(188.88, 52.879999999999995%, 49.84%)\", \"hsl(101.67999999999999, 53.88000000000001%, 75.48%)\", \"hsl(162.64000000000001, 42.64%, 57.519999999999996%)\", \"hsl(115.92, 44.76%, 73.64%)\", \"hsl(147.27999999999997, 42.84%, 62.760000000000005%)\", \"hsl(131.60000000000002, 43.8%, 68.19999999999999%)\", \"hsl(202.0, 58.0%, 46.0%)\", \"hsl(188.88, 52.879999999999995%, 49.84%)\", \"hsl(147.27999999999997, 42.84%, 62.760000000000005%)\", \"hsl(175.76000000000002, 47.760000000000005%, 53.67999999999999%)\", \"hsl(115.92, 44.76%, 73.64%)\", \"hsl(202.0, 58.0%, 46.0%)\", \"hsl(175.76000000000002, 47.760000000000005%, 53.67999999999999%)\", \"hsl(188.88, 52.879999999999995%, 49.84%)\", \"hsl(188.88, 52.879999999999995%, 49.84%)\", \"hsl(162.64000000000001, 42.64%, 57.519999999999996%)\", \"hsl(202.0, 58.0%, 46.0%)\", \"hsl(188.88, 52.879999999999995%, 49.84%)\", \"hsl(202.0, 58.0%, 46.0%)\", \"hsl(202.0, 58.0%, 46.0%)\", \"hsl(202.0, 58.0%, 46.0%)\", \"hsl(202.0, 58.0%, 46.0%)\", \"hsl(188.88, 52.879999999999995%, 49.84%)\"]}, \"x\": [13, 14, 15, 16, 17, 18, 19, 20, 21, 22, 23, 24, 25, 26, 27, 28, 29, 30, 31, 32, 33, 34, 35, 36, 37, 38, 39, 40, 41, 43, 44, 45, 46, 47, 48, 49, 50, 53, 55, 57, 60, 62, 63, 66, 67, 69, 71], \"y\": [4, 22, 16, 7, 2, 7, 2, 1, 4, 2, 2, 5, 2, 4, 4, 6, 5, 12, 6, 9, 7, 9, 6, 3, 3, 6, 1, 3, 1, 3, 3, 2, 5, 2, 2, 1, 1, 2, 1, 2, 3, 2, 1, 1, 2, 1, 1], \"type\": \"bar\", \"uid\": \"c8ef722b-9803-4826-a9eb-cae774656e5a\"}], {}, {\"showLink\": false, \"linkText\": \"Export to plot.ly\", \"plotlyServerURL\": \"https://plot.ly\"}); \n",
       "}\n",
       "});</script><script type=\"text/javascript\">window.addEventListener(\"resize\", function(){if (document.getElementById(\"2d0e67bf-c256-4c1f-81f8-1ccb92dba913\")) {window._Plotly.Plots.resize(document.getElementById(\"2d0e67bf-c256-4c1f-81f8-1ccb92dba913\"));};})</script>"
      ],
      "text/vnd.plotly.v1+html": [
       "<div id=\"2d0e67bf-c256-4c1f-81f8-1ccb92dba913\" style=\"height: 525px; width: 100%;\" class=\"plotly-graph-div\"></div><script type=\"text/javascript\">require([\"plotly\"], function(Plotly) { window.PLOTLYENV=window.PLOTLYENV || {};window.PLOTLYENV.BASE_URL=\"https://plot.ly\";\n",
       "if (document.getElementById(\"2d0e67bf-c256-4c1f-81f8-1ccb92dba913\")) {\n",
       "    Plotly.newPlot(\"2d0e67bf-c256-4c1f-81f8-1ccb92dba913\", [{\"marker\": {\"color\": [\"hsl(147.27999999999997, 42.84%, 62.760000000000005%)\", \"hsl(18.2, 90.52%, 62.24%)\", \"hsl(47.2, 98.4%, 79.0%)\", \"hsl(74.16000000000001, 77.56%, 76.76%)\", \"hsl(147.27999999999997, 42.84%, 62.760000000000005%)\", \"hsl(67.2, 85.60000000000001%, 79.0%)\", \"hsl(64.32000000000001, 91.35999999999999%, 82.19999999999999%)\", \"hsl(67.2, 85.60000000000001%, 79.0%)\", \"hsl(27.799999999999997, 96.28%, 67.36%)\", \"hsl(57.44, 99.68%, 85.4%)\", \"hsl(37.4, 97.56%, 73.04%)\", \"hsl(353.0, 64.0%, 53.0%)\", \"hsl(32.6, 97.24%, 70.16%)\", \"hsl(13.160000000000025, 87.03999999999999%, 59.72%)\", \"hsl(359.72, 71.68%, 55.24%)\", \"hsl(353.0, 64.0%, 53.0%)\", \"hsl(6.439999999999998, 79.36%, 57.480000000000004%)\", \"hsl(359.72, 71.68%, 55.24%)\", \"hsl(27.799999999999997, 96.28%, 67.36%)\", \"hsl(27.799999999999997, 96.28%, 67.36%)\", \"hsl(27.799999999999997, 96.28%, 67.36%)\", \"hsl(23.0, 93.4%, 64.8%)\", \"hsl(18.2, 90.52%, 62.24%)\", \"hsl(52.32, 99.04%, 82.2%)\", \"hsl(47.2, 98.4%, 79.0%)\", \"hsl(42.2, 97.88%, 75.92%)\", \"hsl(61.44, 97.12%, 85.4%)\", \"hsl(87.92000000000002, 65.71999999999998%, 76.12%)\", \"hsl(87.92000000000002, 65.71999999999998%, 76.12%)\", \"hsl(64.32000000000001, 91.35999999999999%, 82.19999999999999%)\", \"hsl(64.32000000000001, 91.35999999999999%, 82.19999999999999%)\", \"hsl(101.67999999999999, 53.88000000000001%, 75.48%)\", \"hsl(101.67999999999999, 53.88000000000001%, 75.48%)\", \"hsl(61.44, 97.12%, 85.4%)\", \"hsl(87.92000000000002, 65.71999999999998%, 76.12%)\", \"hsl(147.27999999999997, 42.84%, 62.760000000000005%)\", \"hsl(162.64000000000001, 42.64%, 57.519999999999996%)\", \"hsl(131.60000000000002, 43.8%, 68.19999999999999%)\", \"hsl(131.60000000000002, 43.8%, 68.19999999999999%)\", \"hsl(188.88, 52.879999999999995%, 49.84%)\", \"hsl(101.67999999999999, 53.88000000000001%, 75.48%)\", \"hsl(162.64000000000001, 42.64%, 57.519999999999996%)\", \"hsl(115.92, 44.76%, 73.64%)\", \"hsl(147.27999999999997, 42.84%, 62.760000000000005%)\", \"hsl(131.60000000000002, 43.8%, 68.19999999999999%)\", \"hsl(202.0, 58.0%, 46.0%)\", \"hsl(188.88, 52.879999999999995%, 49.84%)\", \"hsl(147.27999999999997, 42.84%, 62.760000000000005%)\", \"hsl(175.76000000000002, 47.760000000000005%, 53.67999999999999%)\", \"hsl(115.92, 44.76%, 73.64%)\", \"hsl(202.0, 58.0%, 46.0%)\", \"hsl(175.76000000000002, 47.760000000000005%, 53.67999999999999%)\", \"hsl(188.88, 52.879999999999995%, 49.84%)\", \"hsl(188.88, 52.879999999999995%, 49.84%)\", \"hsl(162.64000000000001, 42.64%, 57.519999999999996%)\", \"hsl(202.0, 58.0%, 46.0%)\", \"hsl(188.88, 52.879999999999995%, 49.84%)\", \"hsl(202.0, 58.0%, 46.0%)\", \"hsl(202.0, 58.0%, 46.0%)\", \"hsl(202.0, 58.0%, 46.0%)\", \"hsl(202.0, 58.0%, 46.0%)\", \"hsl(188.88, 52.879999999999995%, 49.84%)\"]}, \"x\": [13, 14, 15, 16, 17, 18, 19, 20, 21, 22, 23, 24, 25, 26, 27, 28, 29, 30, 31, 32, 33, 34, 35, 36, 37, 38, 39, 40, 41, 43, 44, 45, 46, 47, 48, 49, 50, 53, 55, 57, 60, 62, 63, 66, 67, 69, 71], \"y\": [4, 22, 16, 7, 2, 7, 2, 1, 4, 2, 2, 5, 2, 4, 4, 6, 5, 12, 6, 9, 7, 9, 6, 3, 3, 6, 1, 3, 1, 3, 3, 2, 5, 2, 2, 1, 1, 2, 1, 2, 3, 2, 1, 1, 2, 1, 1], \"type\": \"bar\", \"uid\": \"c8ef722b-9803-4826-a9eb-cae774656e5a\"}], {}, {\"showLink\": false, \"linkText\": \"Export to plot.ly\", \"plotlyServerURL\": \"https://plot.ly\"}); \n",
       "}\n",
       "});</script><script type=\"text/javascript\">window.addEventListener(\"resize\", function(){if (document.getElementById(\"2d0e67bf-c256-4c1f-81f8-1ccb92dba913\")) {window._Plotly.Plots.resize(document.getElementById(\"2d0e67bf-c256-4c1f-81f8-1ccb92dba913\"));};})</script>"
      ]
     },
     "metadata": {},
     "output_type": "display_data"
    },
    {
     "name": "stdout",
     "output_type": "stream",
     "text": [
      "\n",
      "\n",
      "Cluster 2 || variable: Nacionalidad\n",
      "Describiendo la pregunta Nacionalidad\n",
      "Valores numéricos asociados a las respuestas [0, 1, 2, 3, 4, 5, 6, 7, 8, 9, 10, 11, 12, 13, 14, 15, 16, 17, 18, 19, 20, 21, 22, 23, 24, 25, 26, 27, 28, 29, 30, 31, 32, 33]\n",
      "Respuestas posibles a la pregunta/variable ['España', 'Colombia', 'México', 'República Dominicana', 'Austria', 'Chile', 'Francia', 'Canadá', 'Nigeria', 'China', 'Australia', 'Rusia', 'Alemania', 'Brasil', 'Estados Unidos de América', 'India', 'Eslovaquia', 'Italia', 'Inglaterra', 'Cuba', 'Ukrania', 'Venezuela', 'Indonesia', 'Albania', 'Paquistan', 'Bahamas', 'Argentina', 'Islandia', 'Escocia', 'Sudán', 'Nueva Zelanda', 'Irlanda', 'Macedonia', 'Unknown']\n"
     ]
    },
    {
     "data": {
      "text/plain": [
       "count    196.000000\n",
       "mean       8.255102\n",
       "std        8.268335\n",
       "min        0.000000\n",
       "25%        0.000000\n",
       "50%       14.000000\n",
       "75%       14.000000\n",
       "max       33.000000\n",
       "Name: Nacionalidad, dtype: float64"
      ]
     },
     "metadata": {},
     "output_type": "display_data"
    },
    {
     "name": "stdout",
     "output_type": "stream",
     "text": [
      "Conteo de cada valor en Nacionalidad expresada como valor / cantidad\n"
     ]
    },
    {
     "data": {
      "text/plain": [
       "0     87\n",
       "6      4\n",
       "7      1\n",
       "8      3\n",
       "9      1\n",
       "13     1\n",
       "14    65\n",
       "15    26\n",
       "20     1\n",
       "23     1\n",
       "33     6\n",
       "Name: Nacionalidad, dtype: int64"
      ]
     },
     "metadata": {},
     "output_type": "display_data"
    },
    {
     "name": "stdout",
     "output_type": "stream",
     "text": [
      "Porcentaje de cada valor en Nacionalidad expresado como valor / porcentaje\n"
     ]
    },
    {
     "data": {
      "text/plain": [
       "0     44.39\n",
       "6      2.04\n",
       "7      0.51\n",
       "8      1.53\n",
       "9      0.51\n",
       "13     0.51\n",
       "14    33.16\n",
       "15    13.27\n",
       "20     0.51\n",
       "23     0.51\n",
       "33     3.06\n",
       "Name: Nacionalidad, dtype: float64"
      ]
     },
     "metadata": {},
     "output_type": "display_data"
    },
    {
     "data": {
      "application/vnd.plotly.v1+json": {
       "config": {
        "linkText": "Export to plot.ly",
        "plotlyServerURL": "https://plot.ly",
        "showLink": false
       },
       "data": [
        {
         "marker": {
          "color": [
           "hsl(353.0, 64.0%, 53.0%)",
           "hsl(358.09090909090907, 69.81818181818181%, 54.696969696969695%)",
           "hsl(3.181818181818187, 75.63636363636364%, 56.39393939393939%)",
           "hsl(8.272727272727252, 81.45454545454545%, 58.09090909090909%)",
           "hsl(13.363636363636374, 87.27272727272728%, 59.78787878787879%)",
           "hsl(17.181818181818183, 89.9090909090909%, 61.696969696969695%)",
           "hsl(20.81818181818182, 92.0909090909091%, 63.63636363636364%)",
           "hsl(24.454545454545453, 94.27272727272728%, 65.57575757575758%)",
           "hsl(28.090909090909093, 96.45454545454545%, 67.51515151515152%)",
           "hsl(31.727272727272727, 97.18181818181819%, 69.63636363636364%)",
           "hsl(35.36363636363637, 97.42424242424242%, 71.81818181818181%)",
           "hsl(39.0, 97.66666666666667%, 74.0%)",
           "hsl(42.63636363636364, 97.9090909090909%, 76.18181818181819%)",
           "hsl(46.42424242424242, 98.3030303030303%, 78.51515151515152%)",
           "hsl(50.303030303030305, 98.78787878787878%, 80.93939393939394%)",
           "hsl(54.18181818181818, 99.27272727272727%, 83.36363636363636%)",
           "hsl(58.06060606060606, 99.75757575757575%, 85.78787878787878%)",
           "hsl(61.09090909090909, 97.81818181818181%, 85.78787878787878%)",
           "hsl(63.272727272727266, 93.45454545454547%, 83.36363636363637%)",
           "hsl(65.45454545454545, 89.09090909090908%, 80.93939393939394%)",
           "hsl(67.63636363636364, 84.72727272727272%, 78.51515151515152%)",
           "hsl(72.9090909090909, 78.63636363636364%, 76.81818181818181%)",
           "hsl(83.33333333333331, 69.66666666666669%, 76.33333333333333%)",
           "hsl(93.75757575757578, 60.69696969696968%, 75.84848484848484%)",
           "hsl(104.18181818181819, 51.72727272727272%, 75.36363636363636%)",
           "hsl(114.96969696969697, 44.81818181818182%, 73.96969696969697%)",
           "hsl(126.84848484848483, 44.09090909090909%, 69.84848484848486%)",
           "hsl(138.72727272727275, 43.36363636363636%, 65.72727272727272%)",
           "hsl(150.60606060606062, 42.63636363636363%, 61.6060606060606%)",
           "hsl(162.24242424242425, 42.484848484848484%, 57.63636363636364%)",
           "hsl(172.1818181818182, 46.36363636363636%, 54.727272727272734%)",
           "hsl(182.12121212121212, 50.24242424242425%, 51.81818181818181%)",
           "hsl(192.06060606060606, 54.121212121212125%, 48.90909090909091%)",
           "hsl(202.0, 58.0%, 46.0%)"
          ]
         },
         "type": "bar",
         "uid": "92a7282d-5561-4610-8525-f12ca2179827",
         "x": [
          0,
          6,
          7,
          8,
          9,
          13,
          14,
          15,
          20,
          23,
          33
         ],
         "y": [
          87,
          4,
          1,
          3,
          1,
          1,
          65,
          26,
          1,
          1,
          6
         ]
        }
       ],
       "layout": {
        "bargap": 0.2,
        "xaxis": {
         "ticktext": [
          "España",
          "Colombia",
          "México",
          "República Dominicana",
          "Austria",
          "Chile",
          "Francia",
          "Canadá",
          "Nigeria",
          "China",
          "Australia",
          "Rusia",
          "Alemania",
          "Brasil",
          "Estados Unidos de América",
          "India",
          "Eslovaquia",
          "Italia",
          "Inglaterra",
          "Cuba",
          "Ukrania",
          "Venezuela",
          "Indonesia",
          "Albania",
          "Paquistan",
          "Bahamas",
          "Argentina",
          "Islandia",
          "Escocia",
          "Sudán",
          "Nueva Zelanda",
          "Irlanda",
          "Macedonia",
          "Unknown"
         ],
         "tickvals": [
          0,
          1,
          2,
          3,
          4,
          5,
          6,
          7,
          8,
          9,
          10,
          11,
          12,
          13,
          14,
          15,
          16,
          17,
          18,
          19,
          20,
          21,
          22,
          23,
          24,
          25,
          26,
          27,
          28,
          29,
          30,
          31,
          32,
          33
         ]
        }
       }
      },
      "text/html": [
       "<div id=\"36bcaf3f-17e3-4161-ab8a-647fb7ddfa3d\" style=\"height: 525px; width: 100%;\" class=\"plotly-graph-div\"></div><script type=\"text/javascript\">require([\"plotly\"], function(Plotly) { window.PLOTLYENV=window.PLOTLYENV || {};window.PLOTLYENV.BASE_URL=\"https://plot.ly\";\n",
       "if (document.getElementById(\"36bcaf3f-17e3-4161-ab8a-647fb7ddfa3d\")) {\n",
       "    Plotly.newPlot(\"36bcaf3f-17e3-4161-ab8a-647fb7ddfa3d\", [{\"marker\": {\"color\": [\"hsl(353.0, 64.0%, 53.0%)\", \"hsl(358.09090909090907, 69.81818181818181%, 54.696969696969695%)\", \"hsl(3.181818181818187, 75.63636363636364%, 56.39393939393939%)\", \"hsl(8.272727272727252, 81.45454545454545%, 58.09090909090909%)\", \"hsl(13.363636363636374, 87.27272727272728%, 59.78787878787879%)\", \"hsl(17.181818181818183, 89.9090909090909%, 61.696969696969695%)\", \"hsl(20.81818181818182, 92.0909090909091%, 63.63636363636364%)\", \"hsl(24.454545454545453, 94.27272727272728%, 65.57575757575758%)\", \"hsl(28.090909090909093, 96.45454545454545%, 67.51515151515152%)\", \"hsl(31.727272727272727, 97.18181818181819%, 69.63636363636364%)\", \"hsl(35.36363636363637, 97.42424242424242%, 71.81818181818181%)\", \"hsl(39.0, 97.66666666666667%, 74.0%)\", \"hsl(42.63636363636364, 97.9090909090909%, 76.18181818181819%)\", \"hsl(46.42424242424242, 98.3030303030303%, 78.51515151515152%)\", \"hsl(50.303030303030305, 98.78787878787878%, 80.93939393939394%)\", \"hsl(54.18181818181818, 99.27272727272727%, 83.36363636363636%)\", \"hsl(58.06060606060606, 99.75757575757575%, 85.78787878787878%)\", \"hsl(61.09090909090909, 97.81818181818181%, 85.78787878787878%)\", \"hsl(63.272727272727266, 93.45454545454547%, 83.36363636363637%)\", \"hsl(65.45454545454545, 89.09090909090908%, 80.93939393939394%)\", \"hsl(67.63636363636364, 84.72727272727272%, 78.51515151515152%)\", \"hsl(72.9090909090909, 78.63636363636364%, 76.81818181818181%)\", \"hsl(83.33333333333331, 69.66666666666669%, 76.33333333333333%)\", \"hsl(93.75757575757578, 60.69696969696968%, 75.84848484848484%)\", \"hsl(104.18181818181819, 51.72727272727272%, 75.36363636363636%)\", \"hsl(114.96969696969697, 44.81818181818182%, 73.96969696969697%)\", \"hsl(126.84848484848483, 44.09090909090909%, 69.84848484848486%)\", \"hsl(138.72727272727275, 43.36363636363636%, 65.72727272727272%)\", \"hsl(150.60606060606062, 42.63636363636363%, 61.6060606060606%)\", \"hsl(162.24242424242425, 42.484848484848484%, 57.63636363636364%)\", \"hsl(172.1818181818182, 46.36363636363636%, 54.727272727272734%)\", \"hsl(182.12121212121212, 50.24242424242425%, 51.81818181818181%)\", \"hsl(192.06060606060606, 54.121212121212125%, 48.90909090909091%)\", \"hsl(202.0, 58.0%, 46.0%)\"]}, \"x\": [0, 6, 7, 8, 9, 13, 14, 15, 20, 23, 33], \"y\": [87, 4, 1, 3, 1, 1, 65, 26, 1, 1, 6], \"type\": \"bar\", \"uid\": \"92a7282d-5561-4610-8525-f12ca2179827\"}], {\"bargap\": 0.2, \"xaxis\": {\"ticktext\": [\"Espa\\u00f1a\", \"Colombia\", \"M\\u00e9xico\", \"Rep\\u00fablica Dominicana\", \"Austria\", \"Chile\", \"Francia\", \"Canad\\u00e1\", \"Nigeria\", \"China\", \"Australia\", \"Rusia\", \"Alemania\", \"Brasil\", \"Estados Unidos de Am\\u00e9rica\", \"India\", \"Eslovaquia\", \"Italia\", \"Inglaterra\", \"Cuba\", \"Ukrania\", \"Venezuela\", \"Indonesia\", \"Albania\", \"Paquistan\", \"Bahamas\", \"Argentina\", \"Islandia\", \"Escocia\", \"Sud\\u00e1n\", \"Nueva Zelanda\", \"Irlanda\", \"Macedonia\", \"Unknown\"], \"tickvals\": [0, 1, 2, 3, 4, 5, 6, 7, 8, 9, 10, 11, 12, 13, 14, 15, 16, 17, 18, 19, 20, 21, 22, 23, 24, 25, 26, 27, 28, 29, 30, 31, 32, 33]}}, {\"showLink\": false, \"linkText\": \"Export to plot.ly\", \"plotlyServerURL\": \"https://plot.ly\"}); \n",
       "}\n",
       "});</script><script type=\"text/javascript\">window.addEventListener(\"resize\", function(){if (document.getElementById(\"36bcaf3f-17e3-4161-ab8a-647fb7ddfa3d\")) {window._Plotly.Plots.resize(document.getElementById(\"36bcaf3f-17e3-4161-ab8a-647fb7ddfa3d\"));};})</script>"
      ],
      "text/vnd.plotly.v1+html": [
       "<div id=\"36bcaf3f-17e3-4161-ab8a-647fb7ddfa3d\" style=\"height: 525px; width: 100%;\" class=\"plotly-graph-div\"></div><script type=\"text/javascript\">require([\"plotly\"], function(Plotly) { window.PLOTLYENV=window.PLOTLYENV || {};window.PLOTLYENV.BASE_URL=\"https://plot.ly\";\n",
       "if (document.getElementById(\"36bcaf3f-17e3-4161-ab8a-647fb7ddfa3d\")) {\n",
       "    Plotly.newPlot(\"36bcaf3f-17e3-4161-ab8a-647fb7ddfa3d\", [{\"marker\": {\"color\": [\"hsl(353.0, 64.0%, 53.0%)\", \"hsl(358.09090909090907, 69.81818181818181%, 54.696969696969695%)\", \"hsl(3.181818181818187, 75.63636363636364%, 56.39393939393939%)\", \"hsl(8.272727272727252, 81.45454545454545%, 58.09090909090909%)\", \"hsl(13.363636363636374, 87.27272727272728%, 59.78787878787879%)\", \"hsl(17.181818181818183, 89.9090909090909%, 61.696969696969695%)\", \"hsl(20.81818181818182, 92.0909090909091%, 63.63636363636364%)\", \"hsl(24.454545454545453, 94.27272727272728%, 65.57575757575758%)\", \"hsl(28.090909090909093, 96.45454545454545%, 67.51515151515152%)\", \"hsl(31.727272727272727, 97.18181818181819%, 69.63636363636364%)\", \"hsl(35.36363636363637, 97.42424242424242%, 71.81818181818181%)\", \"hsl(39.0, 97.66666666666667%, 74.0%)\", \"hsl(42.63636363636364, 97.9090909090909%, 76.18181818181819%)\", \"hsl(46.42424242424242, 98.3030303030303%, 78.51515151515152%)\", \"hsl(50.303030303030305, 98.78787878787878%, 80.93939393939394%)\", \"hsl(54.18181818181818, 99.27272727272727%, 83.36363636363636%)\", \"hsl(58.06060606060606, 99.75757575757575%, 85.78787878787878%)\", \"hsl(61.09090909090909, 97.81818181818181%, 85.78787878787878%)\", \"hsl(63.272727272727266, 93.45454545454547%, 83.36363636363637%)\", \"hsl(65.45454545454545, 89.09090909090908%, 80.93939393939394%)\", \"hsl(67.63636363636364, 84.72727272727272%, 78.51515151515152%)\", \"hsl(72.9090909090909, 78.63636363636364%, 76.81818181818181%)\", \"hsl(83.33333333333331, 69.66666666666669%, 76.33333333333333%)\", \"hsl(93.75757575757578, 60.69696969696968%, 75.84848484848484%)\", \"hsl(104.18181818181819, 51.72727272727272%, 75.36363636363636%)\", \"hsl(114.96969696969697, 44.81818181818182%, 73.96969696969697%)\", \"hsl(126.84848484848483, 44.09090909090909%, 69.84848484848486%)\", \"hsl(138.72727272727275, 43.36363636363636%, 65.72727272727272%)\", \"hsl(150.60606060606062, 42.63636363636363%, 61.6060606060606%)\", \"hsl(162.24242424242425, 42.484848484848484%, 57.63636363636364%)\", \"hsl(172.1818181818182, 46.36363636363636%, 54.727272727272734%)\", \"hsl(182.12121212121212, 50.24242424242425%, 51.81818181818181%)\", \"hsl(192.06060606060606, 54.121212121212125%, 48.90909090909091%)\", \"hsl(202.0, 58.0%, 46.0%)\"]}, \"x\": [0, 6, 7, 8, 9, 13, 14, 15, 20, 23, 33], \"y\": [87, 4, 1, 3, 1, 1, 65, 26, 1, 1, 6], \"type\": \"bar\", \"uid\": \"92a7282d-5561-4610-8525-f12ca2179827\"}], {\"bargap\": 0.2, \"xaxis\": {\"ticktext\": [\"Espa\\u00f1a\", \"Colombia\", \"M\\u00e9xico\", \"Rep\\u00fablica Dominicana\", \"Austria\", \"Chile\", \"Francia\", \"Canad\\u00e1\", \"Nigeria\", \"China\", \"Australia\", \"Rusia\", \"Alemania\", \"Brasil\", \"Estados Unidos de Am\\u00e9rica\", \"India\", \"Eslovaquia\", \"Italia\", \"Inglaterra\", \"Cuba\", \"Ukrania\", \"Venezuela\", \"Indonesia\", \"Albania\", \"Paquistan\", \"Bahamas\", \"Argentina\", \"Islandia\", \"Escocia\", \"Sud\\u00e1n\", \"Nueva Zelanda\", \"Irlanda\", \"Macedonia\", \"Unknown\"], \"tickvals\": [0, 1, 2, 3, 4, 5, 6, 7, 8, 9, 10, 11, 12, 13, 14, 15, 16, 17, 18, 19, 20, 21, 22, 23, 24, 25, 26, 27, 28, 29, 30, 31, 32, 33]}}, {\"showLink\": false, \"linkText\": \"Export to plot.ly\", \"plotlyServerURL\": \"https://plot.ly\"}); \n",
       "}\n",
       "});</script><script type=\"text/javascript\">window.addEventListener(\"resize\", function(){if (document.getElementById(\"36bcaf3f-17e3-4161-ab8a-647fb7ddfa3d\")) {window._Plotly.Plots.resize(document.getElementById(\"36bcaf3f-17e3-4161-ab8a-647fb7ddfa3d\"));};})</script>"
      ]
     },
     "metadata": {},
     "output_type": "display_data"
    },
    {
     "name": "stdout",
     "output_type": "stream",
     "text": [
      "\n",
      "\n",
      "Cluster 2 || variable: Nivel de estudios\n",
      "Describiendo la pregunta Nivel de estudios\n",
      "Valores numéricos asociados a las respuestas [0, 1, 2, 3, 4, 5]\n",
      "Respuestas posibles a la pregunta/variable ['Educación Primaria', 'Sin terminar Educación Secundaria Obligatoria', 'Terminada Educación Secundaria Obligatoria', 'FP', 'Universitario sin graduar', 'Universitario graduado']\n"
     ]
    },
    {
     "data": {
      "text/plain": [
       "count    196.000000\n",
       "mean       3.397959\n",
       "std        1.755518\n",
       "min        0.000000\n",
       "25%        1.000000\n",
       "50%        4.000000\n",
       "75%        5.000000\n",
       "max        5.000000\n",
       "Name: Nivel de estudios, dtype: float64"
      ]
     },
     "metadata": {},
     "output_type": "display_data"
    },
    {
     "name": "stdout",
     "output_type": "stream",
     "text": [
      "Conteo de cada valor en Nivel de estudios expresada como valor / cantidad\n"
     ]
    },
    {
     "data": {
      "text/plain": [
       "0     2\n",
       "1    54\n",
       "2    14\n",
       "3     9\n",
       "4    28\n",
       "5    89\n",
       "Name: Nivel de estudios, dtype: int64"
      ]
     },
     "metadata": {},
     "output_type": "display_data"
    },
    {
     "name": "stdout",
     "output_type": "stream",
     "text": [
      "Porcentaje de cada valor en Nivel de estudios expresado como valor / porcentaje\n"
     ]
    },
    {
     "data": {
      "text/plain": [
       "0     1.02\n",
       "1    27.55\n",
       "2     7.14\n",
       "3     4.59\n",
       "4    14.29\n",
       "5    45.41\n",
       "Name: Nivel de estudios, dtype: float64"
      ]
     },
     "metadata": {},
     "output_type": "display_data"
    },
    {
     "data": {
      "application/vnd.plotly.v1+json": {
       "config": {
        "linkText": "Export to plot.ly",
        "plotlyServerURL": "https://plot.ly",
        "showLink": false
       },
       "data": [
        {
         "marker": {
          "color": [
           "rgb(213,62,79)",
           "rgb(252,141,89)",
           "rgb(254,224,139)",
           "rgb(230,245,152)",
           "rgb(153,213,148)",
           "rgb(50,136,189)"
          ]
         },
         "type": "bar",
         "uid": "33b3a743-0265-4b89-b969-a13555452473",
         "x": [
          0,
          1,
          2,
          3,
          4,
          5
         ],
         "y": [
          2,
          54,
          14,
          9,
          28,
          89
         ]
        }
       ],
       "layout": {
        "bargap": 0.2,
        "xaxis": {
         "ticktext": [
          "Educación Primaria",
          "Sin terminar Educación Secundaria Obligatoria",
          "Terminada Educación Secundaria Obligatoria",
          "FP",
          "Universitario sin graduar",
          "Universitario graduado"
         ],
         "tickvals": [
          0,
          1,
          2,
          3,
          4,
          5
         ]
        }
       }
      },
      "text/html": [
       "<div id=\"4ca2864e-ff12-41b4-b83b-6b41aec28c82\" style=\"height: 525px; width: 100%;\" class=\"plotly-graph-div\"></div><script type=\"text/javascript\">require([\"plotly\"], function(Plotly) { window.PLOTLYENV=window.PLOTLYENV || {};window.PLOTLYENV.BASE_URL=\"https://plot.ly\";\n",
       "if (document.getElementById(\"4ca2864e-ff12-41b4-b83b-6b41aec28c82\")) {\n",
       "    Plotly.newPlot(\"4ca2864e-ff12-41b4-b83b-6b41aec28c82\", [{\"marker\": {\"color\": [\"rgb(213,62,79)\", \"rgb(252,141,89)\", \"rgb(254,224,139)\", \"rgb(230,245,152)\", \"rgb(153,213,148)\", \"rgb(50,136,189)\"]}, \"x\": [0, 1, 2, 3, 4, 5], \"y\": [2, 54, 14, 9, 28, 89], \"type\": \"bar\", \"uid\": \"33b3a743-0265-4b89-b969-a13555452473\"}], {\"bargap\": 0.2, \"xaxis\": {\"ticktext\": [\"Educaci\\u00f3n Primaria\", \"Sin terminar Educaci\\u00f3n Secundaria Obligatoria\", \"Terminada Educaci\\u00f3n Secundaria Obligatoria\", \"FP\", \"Universitario sin graduar\", \"Universitario graduado\"], \"tickvals\": [0, 1, 2, 3, 4, 5]}}, {\"showLink\": false, \"linkText\": \"Export to plot.ly\", \"plotlyServerURL\": \"https://plot.ly\"}); \n",
       "}\n",
       "});</script><script type=\"text/javascript\">window.addEventListener(\"resize\", function(){if (document.getElementById(\"4ca2864e-ff12-41b4-b83b-6b41aec28c82\")) {window._Plotly.Plots.resize(document.getElementById(\"4ca2864e-ff12-41b4-b83b-6b41aec28c82\"));};})</script>"
      ],
      "text/vnd.plotly.v1+html": [
       "<div id=\"4ca2864e-ff12-41b4-b83b-6b41aec28c82\" style=\"height: 525px; width: 100%;\" class=\"plotly-graph-div\"></div><script type=\"text/javascript\">require([\"plotly\"], function(Plotly) { window.PLOTLYENV=window.PLOTLYENV || {};window.PLOTLYENV.BASE_URL=\"https://plot.ly\";\n",
       "if (document.getElementById(\"4ca2864e-ff12-41b4-b83b-6b41aec28c82\")) {\n",
       "    Plotly.newPlot(\"4ca2864e-ff12-41b4-b83b-6b41aec28c82\", [{\"marker\": {\"color\": [\"rgb(213,62,79)\", \"rgb(252,141,89)\", \"rgb(254,224,139)\", \"rgb(230,245,152)\", \"rgb(153,213,148)\", \"rgb(50,136,189)\"]}, \"x\": [0, 1, 2, 3, 4, 5], \"y\": [2, 54, 14, 9, 28, 89], \"type\": \"bar\", \"uid\": \"33b3a743-0265-4b89-b969-a13555452473\"}], {\"bargap\": 0.2, \"xaxis\": {\"ticktext\": [\"Educaci\\u00f3n Primaria\", \"Sin terminar Educaci\\u00f3n Secundaria Obligatoria\", \"Terminada Educaci\\u00f3n Secundaria Obligatoria\", \"FP\", \"Universitario sin graduar\", \"Universitario graduado\"], \"tickvals\": [0, 1, 2, 3, 4, 5]}}, {\"showLink\": false, \"linkText\": \"Export to plot.ly\", \"plotlyServerURL\": \"https://plot.ly\"}); \n",
       "}\n",
       "});</script><script type=\"text/javascript\">window.addEventListener(\"resize\", function(){if (document.getElementById(\"4ca2864e-ff12-41b4-b83b-6b41aec28c82\")) {window._Plotly.Plots.resize(document.getElementById(\"4ca2864e-ff12-41b4-b83b-6b41aec28c82\"));};})</script>"
      ]
     },
     "metadata": {},
     "output_type": "display_data"
    },
    {
     "name": "stdout",
     "output_type": "stream",
     "text": [
      "\n",
      "\n",
      "Cluster 4 || variable: Género\n",
      "Describiendo la pregunta Género\n",
      "Valores numéricos asociados a las respuestas [0, 1, 2]\n",
      "Respuestas posibles a la pregunta/variable ['Masculino', 'Femenino', 'Otro']\n"
     ]
    },
    {
     "data": {
      "text/plain": [
       "count    98.000000\n",
       "mean      0.642857\n",
       "std       0.522681\n",
       "min       0.000000\n",
       "25%       0.000000\n",
       "50%       1.000000\n",
       "75%       1.000000\n",
       "max       2.000000\n",
       "Name: Género, dtype: float64"
      ]
     },
     "metadata": {},
     "output_type": "display_data"
    },
    {
     "name": "stdout",
     "output_type": "stream",
     "text": [
      "Conteo de cada valor en Género expresada como valor / cantidad\n"
     ]
    },
    {
     "data": {
      "text/plain": [
       "0    37\n",
       "1    59\n",
       "2     2\n",
       "Name: Género, dtype: int64"
      ]
     },
     "metadata": {},
     "output_type": "display_data"
    },
    {
     "name": "stdout",
     "output_type": "stream",
     "text": [
      "Porcentaje de cada valor en Género expresado como valor / porcentaje\n"
     ]
    },
    {
     "data": {
      "text/plain": [
       "0    37.76\n",
       "1    60.20\n",
       "2     2.04\n",
       "Name: Género, dtype: float64"
      ]
     },
     "metadata": {},
     "output_type": "display_data"
    },
    {
     "data": {
      "application/vnd.plotly.v1+json": {
       "config": {
        "linkText": "Export to plot.ly",
        "plotlyServerURL": "https://plot.ly",
        "showLink": false
       },
       "data": [
        {
         "marker": {
          "color": [
           "rgb(213,62,79)",
           "rgb(252,141,89)",
           "rgb(254,224,139)",
           "rgb(230,245,152)",
           "rgb(153,213,148)",
           "rgb(50,136,189)"
          ]
         },
         "type": "bar",
         "uid": "2efdec6c-bfe8-43f9-8a0e-be29a16a360b",
         "x": [
          0,
          1,
          2
         ],
         "y": [
          37,
          59,
          2
         ]
        }
       ],
       "layout": {
        "bargap": 0.2,
        "xaxis": {
         "ticktext": [
          "Masculino",
          "Femenino",
          "Otro"
         ],
         "tickvals": [
          0,
          1,
          2
         ]
        }
       }
      },
      "text/html": [
       "<div id=\"d8453a7a-86a4-4a6e-b525-176ffed46a86\" style=\"height: 525px; width: 100%;\" class=\"plotly-graph-div\"></div><script type=\"text/javascript\">require([\"plotly\"], function(Plotly) { window.PLOTLYENV=window.PLOTLYENV || {};window.PLOTLYENV.BASE_URL=\"https://plot.ly\";\n",
       "if (document.getElementById(\"d8453a7a-86a4-4a6e-b525-176ffed46a86\")) {\n",
       "    Plotly.newPlot(\"d8453a7a-86a4-4a6e-b525-176ffed46a86\", [{\"marker\": {\"color\": [\"rgb(213,62,79)\", \"rgb(252,141,89)\", \"rgb(254,224,139)\", \"rgb(230,245,152)\", \"rgb(153,213,148)\", \"rgb(50,136,189)\"]}, \"x\": [0, 1, 2], \"y\": [37, 59, 2], \"type\": \"bar\", \"uid\": \"2efdec6c-bfe8-43f9-8a0e-be29a16a360b\"}], {\"bargap\": 0.2, \"xaxis\": {\"ticktext\": [\"Masculino\", \"Femenino\", \"Otro\"], \"tickvals\": [0, 1, 2]}}, {\"showLink\": false, \"linkText\": \"Export to plot.ly\", \"plotlyServerURL\": \"https://plot.ly\"}); \n",
       "}\n",
       "});</script><script type=\"text/javascript\">window.addEventListener(\"resize\", function(){if (document.getElementById(\"d8453a7a-86a4-4a6e-b525-176ffed46a86\")) {window._Plotly.Plots.resize(document.getElementById(\"d8453a7a-86a4-4a6e-b525-176ffed46a86\"));};})</script>"
      ],
      "text/vnd.plotly.v1+html": [
       "<div id=\"d8453a7a-86a4-4a6e-b525-176ffed46a86\" style=\"height: 525px; width: 100%;\" class=\"plotly-graph-div\"></div><script type=\"text/javascript\">require([\"plotly\"], function(Plotly) { window.PLOTLYENV=window.PLOTLYENV || {};window.PLOTLYENV.BASE_URL=\"https://plot.ly\";\n",
       "if (document.getElementById(\"d8453a7a-86a4-4a6e-b525-176ffed46a86\")) {\n",
       "    Plotly.newPlot(\"d8453a7a-86a4-4a6e-b525-176ffed46a86\", [{\"marker\": {\"color\": [\"rgb(213,62,79)\", \"rgb(252,141,89)\", \"rgb(254,224,139)\", \"rgb(230,245,152)\", \"rgb(153,213,148)\", \"rgb(50,136,189)\"]}, \"x\": [0, 1, 2], \"y\": [37, 59, 2], \"type\": \"bar\", \"uid\": \"2efdec6c-bfe8-43f9-8a0e-be29a16a360b\"}], {\"bargap\": 0.2, \"xaxis\": {\"ticktext\": [\"Masculino\", \"Femenino\", \"Otro\"], \"tickvals\": [0, 1, 2]}}, {\"showLink\": false, \"linkText\": \"Export to plot.ly\", \"plotlyServerURL\": \"https://plot.ly\"}); \n",
       "}\n",
       "});</script><script type=\"text/javascript\">window.addEventListener(\"resize\", function(){if (document.getElementById(\"d8453a7a-86a4-4a6e-b525-176ffed46a86\")) {window._Plotly.Plots.resize(document.getElementById(\"d8453a7a-86a4-4a6e-b525-176ffed46a86\"));};})</script>"
      ]
     },
     "metadata": {},
     "output_type": "display_data"
    },
    {
     "name": "stdout",
     "output_type": "stream",
     "text": [
      "\n",
      "\n",
      "Cluster 4 || variable: Edad\n",
      "Describiendo la pregunta Edad\n"
     ]
    },
    {
     "data": {
      "text/plain": [
       "count    98.000000\n",
       "mean     27.928571\n",
       "std      10.929248\n",
       "min      13.000000\n",
       "25%      21.000000\n",
       "50%      25.000000\n",
       "75%      32.000000\n",
       "max      68.000000\n",
       "Name: Edad, dtype: float64"
      ]
     },
     "metadata": {},
     "output_type": "display_data"
    },
    {
     "name": "stdout",
     "output_type": "stream",
     "text": [
      "Conteo de cada valor en Edad expresada como valor / cantidad\n"
     ]
    },
    {
     "data": {
      "text/plain": [
       "13    1\n",
       "14    4\n",
       "15    2\n",
       "16    2\n",
       "17    2\n",
       "18    3\n",
       "19    6\n",
       "20    4\n",
       "21    7\n",
       "22    8\n",
       "23    6\n",
       "24    1\n",
       "25    4\n",
       "26    1\n",
       "27    3\n",
       "28    3\n",
       "29    3\n",
       "30    5\n",
       "31    7\n",
       "32    4\n",
       "33    1\n",
       "34    1\n",
       "35    3\n",
       "36    3\n",
       "39    1\n",
       "41    2\n",
       "42    1\n",
       "43    1\n",
       "44    1\n",
       "47    3\n",
       "49    1\n",
       "53    1\n",
       "60    1\n",
       "65    1\n",
       "68    1\n",
       "Name: Edad, dtype: int64"
      ]
     },
     "metadata": {},
     "output_type": "display_data"
    },
    {
     "name": "stdout",
     "output_type": "stream",
     "text": [
      "Porcentaje de cada valor en Edad expresado como valor / porcentaje\n"
     ]
    },
    {
     "data": {
      "text/plain": [
       "13    1.02\n",
       "14    4.08\n",
       "15    2.04\n",
       "16    2.04\n",
       "17    2.04\n",
       "18    3.06\n",
       "19    6.12\n",
       "20    4.08\n",
       "21    7.14\n",
       "22    8.16\n",
       "23    6.12\n",
       "24    1.02\n",
       "25    4.08\n",
       "26    1.02\n",
       "27    3.06\n",
       "28    3.06\n",
       "29    3.06\n",
       "30    5.10\n",
       "31    7.14\n",
       "32    4.08\n",
       "33    1.02\n",
       "34    1.02\n",
       "35    3.06\n",
       "36    3.06\n",
       "39    1.02\n",
       "41    2.04\n",
       "42    1.02\n",
       "43    1.02\n",
       "44    1.02\n",
       "47    3.06\n",
       "49    1.02\n",
       "53    1.02\n",
       "60    1.02\n",
       "65    1.02\n",
       "68    1.02\n",
       "Name: Edad, dtype: float64"
      ]
     },
     "metadata": {},
     "output_type": "display_data"
    },
    {
     "data": {
      "application/vnd.plotly.v1+json": {
       "config": {
        "linkText": "Export to plot.ly",
        "plotlyServerURL": "https://plot.ly",
        "showLink": false
       },
       "data": [
        {
         "marker": {
          "color": [
           "hsl(147.27999999999997, 42.84%, 62.760000000000005%)",
           "hsl(18.2, 90.52%, 62.24%)",
           "hsl(47.2, 98.4%, 79.0%)",
           "hsl(74.16000000000001, 77.56%, 76.76%)",
           "hsl(147.27999999999997, 42.84%, 62.760000000000005%)",
           "hsl(67.2, 85.60000000000001%, 79.0%)",
           "hsl(64.32000000000001, 91.35999999999999%, 82.19999999999999%)",
           "hsl(67.2, 85.60000000000001%, 79.0%)",
           "hsl(27.799999999999997, 96.28%, 67.36%)",
           "hsl(57.44, 99.68%, 85.4%)",
           "hsl(37.4, 97.56%, 73.04%)",
           "hsl(353.0, 64.0%, 53.0%)",
           "hsl(32.6, 97.24%, 70.16%)",
           "hsl(13.160000000000025, 87.03999999999999%, 59.72%)",
           "hsl(359.72, 71.68%, 55.24%)",
           "hsl(353.0, 64.0%, 53.0%)",
           "hsl(6.439999999999998, 79.36%, 57.480000000000004%)",
           "hsl(359.72, 71.68%, 55.24%)",
           "hsl(27.799999999999997, 96.28%, 67.36%)",
           "hsl(27.799999999999997, 96.28%, 67.36%)",
           "hsl(27.799999999999997, 96.28%, 67.36%)",
           "hsl(23.0, 93.4%, 64.8%)",
           "hsl(18.2, 90.52%, 62.24%)",
           "hsl(52.32, 99.04%, 82.2%)",
           "hsl(47.2, 98.4%, 79.0%)",
           "hsl(42.2, 97.88%, 75.92%)",
           "hsl(61.44, 97.12%, 85.4%)",
           "hsl(87.92000000000002, 65.71999999999998%, 76.12%)",
           "hsl(87.92000000000002, 65.71999999999998%, 76.12%)",
           "hsl(64.32000000000001, 91.35999999999999%, 82.19999999999999%)",
           "hsl(64.32000000000001, 91.35999999999999%, 82.19999999999999%)",
           "hsl(101.67999999999999, 53.88000000000001%, 75.48%)",
           "hsl(101.67999999999999, 53.88000000000001%, 75.48%)",
           "hsl(61.44, 97.12%, 85.4%)",
           "hsl(87.92000000000002, 65.71999999999998%, 76.12%)",
           "hsl(147.27999999999997, 42.84%, 62.760000000000005%)",
           "hsl(162.64000000000001, 42.64%, 57.519999999999996%)",
           "hsl(131.60000000000002, 43.8%, 68.19999999999999%)",
           "hsl(131.60000000000002, 43.8%, 68.19999999999999%)",
           "hsl(188.88, 52.879999999999995%, 49.84%)",
           "hsl(101.67999999999999, 53.88000000000001%, 75.48%)",
           "hsl(162.64000000000001, 42.64%, 57.519999999999996%)",
           "hsl(115.92, 44.76%, 73.64%)",
           "hsl(147.27999999999997, 42.84%, 62.760000000000005%)",
           "hsl(131.60000000000002, 43.8%, 68.19999999999999%)",
           "hsl(202.0, 58.0%, 46.0%)",
           "hsl(188.88, 52.879999999999995%, 49.84%)",
           "hsl(147.27999999999997, 42.84%, 62.760000000000005%)",
           "hsl(175.76000000000002, 47.760000000000005%, 53.67999999999999%)",
           "hsl(115.92, 44.76%, 73.64%)",
           "hsl(202.0, 58.0%, 46.0%)",
           "hsl(175.76000000000002, 47.760000000000005%, 53.67999999999999%)",
           "hsl(188.88, 52.879999999999995%, 49.84%)",
           "hsl(188.88, 52.879999999999995%, 49.84%)",
           "hsl(162.64000000000001, 42.64%, 57.519999999999996%)",
           "hsl(202.0, 58.0%, 46.0%)",
           "hsl(188.88, 52.879999999999995%, 49.84%)",
           "hsl(202.0, 58.0%, 46.0%)",
           "hsl(202.0, 58.0%, 46.0%)",
           "hsl(202.0, 58.0%, 46.0%)",
           "hsl(202.0, 58.0%, 46.0%)",
           "hsl(188.88, 52.879999999999995%, 49.84%)"
          ]
         },
         "type": "bar",
         "uid": "b2cb644d-04db-410b-b330-ef6b4afc91de",
         "x": [
          13,
          14,
          15,
          16,
          17,
          18,
          19,
          20,
          21,
          22,
          23,
          24,
          25,
          26,
          27,
          28,
          29,
          30,
          31,
          32,
          33,
          34,
          35,
          36,
          39,
          41,
          42,
          43,
          44,
          47,
          49,
          53,
          60,
          65,
          68
         ],
         "y": [
          1,
          4,
          2,
          2,
          2,
          3,
          6,
          4,
          7,
          8,
          6,
          1,
          4,
          1,
          3,
          3,
          3,
          5,
          7,
          4,
          1,
          1,
          3,
          3,
          1,
          2,
          1,
          1,
          1,
          3,
          1,
          1,
          1,
          1,
          1
         ]
        }
       ],
       "layout": {}
      },
      "text/html": [
       "<div id=\"4dcf697e-0b03-438f-9d66-09e2e87f35b1\" style=\"height: 525px; width: 100%;\" class=\"plotly-graph-div\"></div><script type=\"text/javascript\">require([\"plotly\"], function(Plotly) { window.PLOTLYENV=window.PLOTLYENV || {};window.PLOTLYENV.BASE_URL=\"https://plot.ly\";\n",
       "if (document.getElementById(\"4dcf697e-0b03-438f-9d66-09e2e87f35b1\")) {\n",
       "    Plotly.newPlot(\"4dcf697e-0b03-438f-9d66-09e2e87f35b1\", [{\"marker\": {\"color\": [\"hsl(147.27999999999997, 42.84%, 62.760000000000005%)\", \"hsl(18.2, 90.52%, 62.24%)\", \"hsl(47.2, 98.4%, 79.0%)\", \"hsl(74.16000000000001, 77.56%, 76.76%)\", \"hsl(147.27999999999997, 42.84%, 62.760000000000005%)\", \"hsl(67.2, 85.60000000000001%, 79.0%)\", \"hsl(64.32000000000001, 91.35999999999999%, 82.19999999999999%)\", \"hsl(67.2, 85.60000000000001%, 79.0%)\", \"hsl(27.799999999999997, 96.28%, 67.36%)\", \"hsl(57.44, 99.68%, 85.4%)\", \"hsl(37.4, 97.56%, 73.04%)\", \"hsl(353.0, 64.0%, 53.0%)\", \"hsl(32.6, 97.24%, 70.16%)\", \"hsl(13.160000000000025, 87.03999999999999%, 59.72%)\", \"hsl(359.72, 71.68%, 55.24%)\", \"hsl(353.0, 64.0%, 53.0%)\", \"hsl(6.439999999999998, 79.36%, 57.480000000000004%)\", \"hsl(359.72, 71.68%, 55.24%)\", \"hsl(27.799999999999997, 96.28%, 67.36%)\", \"hsl(27.799999999999997, 96.28%, 67.36%)\", \"hsl(27.799999999999997, 96.28%, 67.36%)\", \"hsl(23.0, 93.4%, 64.8%)\", \"hsl(18.2, 90.52%, 62.24%)\", \"hsl(52.32, 99.04%, 82.2%)\", \"hsl(47.2, 98.4%, 79.0%)\", \"hsl(42.2, 97.88%, 75.92%)\", \"hsl(61.44, 97.12%, 85.4%)\", \"hsl(87.92000000000002, 65.71999999999998%, 76.12%)\", \"hsl(87.92000000000002, 65.71999999999998%, 76.12%)\", \"hsl(64.32000000000001, 91.35999999999999%, 82.19999999999999%)\", \"hsl(64.32000000000001, 91.35999999999999%, 82.19999999999999%)\", \"hsl(101.67999999999999, 53.88000000000001%, 75.48%)\", \"hsl(101.67999999999999, 53.88000000000001%, 75.48%)\", \"hsl(61.44, 97.12%, 85.4%)\", \"hsl(87.92000000000002, 65.71999999999998%, 76.12%)\", \"hsl(147.27999999999997, 42.84%, 62.760000000000005%)\", \"hsl(162.64000000000001, 42.64%, 57.519999999999996%)\", \"hsl(131.60000000000002, 43.8%, 68.19999999999999%)\", \"hsl(131.60000000000002, 43.8%, 68.19999999999999%)\", \"hsl(188.88, 52.879999999999995%, 49.84%)\", \"hsl(101.67999999999999, 53.88000000000001%, 75.48%)\", \"hsl(162.64000000000001, 42.64%, 57.519999999999996%)\", \"hsl(115.92, 44.76%, 73.64%)\", \"hsl(147.27999999999997, 42.84%, 62.760000000000005%)\", \"hsl(131.60000000000002, 43.8%, 68.19999999999999%)\", \"hsl(202.0, 58.0%, 46.0%)\", \"hsl(188.88, 52.879999999999995%, 49.84%)\", \"hsl(147.27999999999997, 42.84%, 62.760000000000005%)\", \"hsl(175.76000000000002, 47.760000000000005%, 53.67999999999999%)\", \"hsl(115.92, 44.76%, 73.64%)\", \"hsl(202.0, 58.0%, 46.0%)\", \"hsl(175.76000000000002, 47.760000000000005%, 53.67999999999999%)\", \"hsl(188.88, 52.879999999999995%, 49.84%)\", \"hsl(188.88, 52.879999999999995%, 49.84%)\", \"hsl(162.64000000000001, 42.64%, 57.519999999999996%)\", \"hsl(202.0, 58.0%, 46.0%)\", \"hsl(188.88, 52.879999999999995%, 49.84%)\", \"hsl(202.0, 58.0%, 46.0%)\", \"hsl(202.0, 58.0%, 46.0%)\", \"hsl(202.0, 58.0%, 46.0%)\", \"hsl(202.0, 58.0%, 46.0%)\", \"hsl(188.88, 52.879999999999995%, 49.84%)\"]}, \"x\": [13, 14, 15, 16, 17, 18, 19, 20, 21, 22, 23, 24, 25, 26, 27, 28, 29, 30, 31, 32, 33, 34, 35, 36, 39, 41, 42, 43, 44, 47, 49, 53, 60, 65, 68], \"y\": [1, 4, 2, 2, 2, 3, 6, 4, 7, 8, 6, 1, 4, 1, 3, 3, 3, 5, 7, 4, 1, 1, 3, 3, 1, 2, 1, 1, 1, 3, 1, 1, 1, 1, 1], \"type\": \"bar\", \"uid\": \"f11f5594-fc5e-4340-857f-28446ef108ee\"}], {}, {\"showLink\": false, \"linkText\": \"Export to plot.ly\", \"plotlyServerURL\": \"https://plot.ly\"}); \n",
       "}\n",
       "});</script><script type=\"text/javascript\">window.addEventListener(\"resize\", function(){if (document.getElementById(\"4dcf697e-0b03-438f-9d66-09e2e87f35b1\")) {window._Plotly.Plots.resize(document.getElementById(\"4dcf697e-0b03-438f-9d66-09e2e87f35b1\"));};})</script>"
      ],
      "text/vnd.plotly.v1+html": [
       "<div id=\"4dcf697e-0b03-438f-9d66-09e2e87f35b1\" style=\"height: 525px; width: 100%;\" class=\"plotly-graph-div\"></div><script type=\"text/javascript\">require([\"plotly\"], function(Plotly) { window.PLOTLYENV=window.PLOTLYENV || {};window.PLOTLYENV.BASE_URL=\"https://plot.ly\";\n",
       "if (document.getElementById(\"4dcf697e-0b03-438f-9d66-09e2e87f35b1\")) {\n",
       "    Plotly.newPlot(\"4dcf697e-0b03-438f-9d66-09e2e87f35b1\", [{\"marker\": {\"color\": [\"hsl(147.27999999999997, 42.84%, 62.760000000000005%)\", \"hsl(18.2, 90.52%, 62.24%)\", \"hsl(47.2, 98.4%, 79.0%)\", \"hsl(74.16000000000001, 77.56%, 76.76%)\", \"hsl(147.27999999999997, 42.84%, 62.760000000000005%)\", \"hsl(67.2, 85.60000000000001%, 79.0%)\", \"hsl(64.32000000000001, 91.35999999999999%, 82.19999999999999%)\", \"hsl(67.2, 85.60000000000001%, 79.0%)\", \"hsl(27.799999999999997, 96.28%, 67.36%)\", \"hsl(57.44, 99.68%, 85.4%)\", \"hsl(37.4, 97.56%, 73.04%)\", \"hsl(353.0, 64.0%, 53.0%)\", \"hsl(32.6, 97.24%, 70.16%)\", \"hsl(13.160000000000025, 87.03999999999999%, 59.72%)\", \"hsl(359.72, 71.68%, 55.24%)\", \"hsl(353.0, 64.0%, 53.0%)\", \"hsl(6.439999999999998, 79.36%, 57.480000000000004%)\", \"hsl(359.72, 71.68%, 55.24%)\", \"hsl(27.799999999999997, 96.28%, 67.36%)\", \"hsl(27.799999999999997, 96.28%, 67.36%)\", \"hsl(27.799999999999997, 96.28%, 67.36%)\", \"hsl(23.0, 93.4%, 64.8%)\", \"hsl(18.2, 90.52%, 62.24%)\", \"hsl(52.32, 99.04%, 82.2%)\", \"hsl(47.2, 98.4%, 79.0%)\", \"hsl(42.2, 97.88%, 75.92%)\", \"hsl(61.44, 97.12%, 85.4%)\", \"hsl(87.92000000000002, 65.71999999999998%, 76.12%)\", \"hsl(87.92000000000002, 65.71999999999998%, 76.12%)\", \"hsl(64.32000000000001, 91.35999999999999%, 82.19999999999999%)\", \"hsl(64.32000000000001, 91.35999999999999%, 82.19999999999999%)\", \"hsl(101.67999999999999, 53.88000000000001%, 75.48%)\", \"hsl(101.67999999999999, 53.88000000000001%, 75.48%)\", \"hsl(61.44, 97.12%, 85.4%)\", \"hsl(87.92000000000002, 65.71999999999998%, 76.12%)\", \"hsl(147.27999999999997, 42.84%, 62.760000000000005%)\", \"hsl(162.64000000000001, 42.64%, 57.519999999999996%)\", \"hsl(131.60000000000002, 43.8%, 68.19999999999999%)\", \"hsl(131.60000000000002, 43.8%, 68.19999999999999%)\", \"hsl(188.88, 52.879999999999995%, 49.84%)\", \"hsl(101.67999999999999, 53.88000000000001%, 75.48%)\", \"hsl(162.64000000000001, 42.64%, 57.519999999999996%)\", \"hsl(115.92, 44.76%, 73.64%)\", \"hsl(147.27999999999997, 42.84%, 62.760000000000005%)\", \"hsl(131.60000000000002, 43.8%, 68.19999999999999%)\", \"hsl(202.0, 58.0%, 46.0%)\", \"hsl(188.88, 52.879999999999995%, 49.84%)\", \"hsl(147.27999999999997, 42.84%, 62.760000000000005%)\", \"hsl(175.76000000000002, 47.760000000000005%, 53.67999999999999%)\", \"hsl(115.92, 44.76%, 73.64%)\", \"hsl(202.0, 58.0%, 46.0%)\", \"hsl(175.76000000000002, 47.760000000000005%, 53.67999999999999%)\", \"hsl(188.88, 52.879999999999995%, 49.84%)\", \"hsl(188.88, 52.879999999999995%, 49.84%)\", \"hsl(162.64000000000001, 42.64%, 57.519999999999996%)\", \"hsl(202.0, 58.0%, 46.0%)\", \"hsl(188.88, 52.879999999999995%, 49.84%)\", \"hsl(202.0, 58.0%, 46.0%)\", \"hsl(202.0, 58.0%, 46.0%)\", \"hsl(202.0, 58.0%, 46.0%)\", \"hsl(202.0, 58.0%, 46.0%)\", \"hsl(188.88, 52.879999999999995%, 49.84%)\"]}, \"x\": [13, 14, 15, 16, 17, 18, 19, 20, 21, 22, 23, 24, 25, 26, 27, 28, 29, 30, 31, 32, 33, 34, 35, 36, 39, 41, 42, 43, 44, 47, 49, 53, 60, 65, 68], \"y\": [1, 4, 2, 2, 2, 3, 6, 4, 7, 8, 6, 1, 4, 1, 3, 3, 3, 5, 7, 4, 1, 1, 3, 3, 1, 2, 1, 1, 1, 3, 1, 1, 1, 1, 1], \"type\": \"bar\", \"uid\": \"f11f5594-fc5e-4340-857f-28446ef108ee\"}], {}, {\"showLink\": false, \"linkText\": \"Export to plot.ly\", \"plotlyServerURL\": \"https://plot.ly\"}); \n",
       "}\n",
       "});</script><script type=\"text/javascript\">window.addEventListener(\"resize\", function(){if (document.getElementById(\"4dcf697e-0b03-438f-9d66-09e2e87f35b1\")) {window._Plotly.Plots.resize(document.getElementById(\"4dcf697e-0b03-438f-9d66-09e2e87f35b1\"));};})</script>"
      ]
     },
     "metadata": {},
     "output_type": "display_data"
    },
    {
     "name": "stdout",
     "output_type": "stream",
     "text": [
      "\n",
      "\n",
      "Cluster 4 || variable: Nacionalidad\n",
      "Describiendo la pregunta Nacionalidad\n",
      "Valores numéricos asociados a las respuestas [0, 1, 2, 3, 4, 5, 6, 7, 8, 9, 10, 11, 12, 13, 14, 15, 16, 17, 18, 19, 20, 21, 22, 23, 24, 25, 26, 27, 28, 29, 30, 31, 32, 33]\n",
      "Respuestas posibles a la pregunta/variable ['España', 'Colombia', 'México', 'República Dominicana', 'Austria', 'Chile', 'Francia', 'Canadá', 'Nigeria', 'China', 'Australia', 'Rusia', 'Alemania', 'Brasil', 'Estados Unidos de América', 'India', 'Eslovaquia', 'Italia', 'Inglaterra', 'Cuba', 'Ukrania', 'Venezuela', 'Indonesia', 'Albania', 'Paquistan', 'Bahamas', 'Argentina', 'Islandia', 'Escocia', 'Sudán', 'Nueva Zelanda', 'Irlanda', 'Macedonia', 'Unknown']\n"
     ]
    },
    {
     "data": {
      "text/plain": [
       "count    98.000000\n",
       "mean      5.520408\n",
       "std       7.078688\n",
       "min       0.000000\n",
       "25%       0.000000\n",
       "50%       0.000000\n",
       "75%      14.000000\n",
       "max      29.000000\n",
       "Name: Nacionalidad, dtype: float64"
      ]
     },
     "metadata": {},
     "output_type": "display_data"
    },
    {
     "name": "stdout",
     "output_type": "stream",
     "text": [
      "Conteo de cada valor en Nacionalidad expresada como valor / cantidad\n"
     ]
    },
    {
     "data": {
      "text/plain": [
       "0     56\n",
       "6      7\n",
       "7      3\n",
       "10     1\n",
       "11     1\n",
       "13     1\n",
       "14    21\n",
       "15     1\n",
       "17     3\n",
       "18     2\n",
       "19     1\n",
       "29     1\n",
       "Name: Nacionalidad, dtype: int64"
      ]
     },
     "metadata": {},
     "output_type": "display_data"
    },
    {
     "name": "stdout",
     "output_type": "stream",
     "text": [
      "Porcentaje de cada valor en Nacionalidad expresado como valor / porcentaje\n"
     ]
    },
    {
     "data": {
      "text/plain": [
       "0     57.14\n",
       "6      7.14\n",
       "7      3.06\n",
       "10     1.02\n",
       "11     1.02\n",
       "13     1.02\n",
       "14    21.43\n",
       "15     1.02\n",
       "17     3.06\n",
       "18     2.04\n",
       "19     1.02\n",
       "29     1.02\n",
       "Name: Nacionalidad, dtype: float64"
      ]
     },
     "metadata": {},
     "output_type": "display_data"
    },
    {
     "data": {
      "application/vnd.plotly.v1+json": {
       "config": {
        "linkText": "Export to plot.ly",
        "plotlyServerURL": "https://plot.ly",
        "showLink": false
       },
       "data": [
        {
         "marker": {
          "color": [
           "hsl(353.0, 64.0%, 53.0%)",
           "hsl(358.09090909090907, 69.81818181818181%, 54.696969696969695%)",
           "hsl(3.181818181818187, 75.63636363636364%, 56.39393939393939%)",
           "hsl(8.272727272727252, 81.45454545454545%, 58.09090909090909%)",
           "hsl(13.363636363636374, 87.27272727272728%, 59.78787878787879%)",
           "hsl(17.181818181818183, 89.9090909090909%, 61.696969696969695%)",
           "hsl(20.81818181818182, 92.0909090909091%, 63.63636363636364%)",
           "hsl(24.454545454545453, 94.27272727272728%, 65.57575757575758%)",
           "hsl(28.090909090909093, 96.45454545454545%, 67.51515151515152%)",
           "hsl(31.727272727272727, 97.18181818181819%, 69.63636363636364%)",
           "hsl(35.36363636363637, 97.42424242424242%, 71.81818181818181%)",
           "hsl(39.0, 97.66666666666667%, 74.0%)",
           "hsl(42.63636363636364, 97.9090909090909%, 76.18181818181819%)",
           "hsl(46.42424242424242, 98.3030303030303%, 78.51515151515152%)",
           "hsl(50.303030303030305, 98.78787878787878%, 80.93939393939394%)",
           "hsl(54.18181818181818, 99.27272727272727%, 83.36363636363636%)",
           "hsl(58.06060606060606, 99.75757575757575%, 85.78787878787878%)",
           "hsl(61.09090909090909, 97.81818181818181%, 85.78787878787878%)",
           "hsl(63.272727272727266, 93.45454545454547%, 83.36363636363637%)",
           "hsl(65.45454545454545, 89.09090909090908%, 80.93939393939394%)",
           "hsl(67.63636363636364, 84.72727272727272%, 78.51515151515152%)",
           "hsl(72.9090909090909, 78.63636363636364%, 76.81818181818181%)",
           "hsl(83.33333333333331, 69.66666666666669%, 76.33333333333333%)",
           "hsl(93.75757575757578, 60.69696969696968%, 75.84848484848484%)",
           "hsl(104.18181818181819, 51.72727272727272%, 75.36363636363636%)",
           "hsl(114.96969696969697, 44.81818181818182%, 73.96969696969697%)",
           "hsl(126.84848484848483, 44.09090909090909%, 69.84848484848486%)",
           "hsl(138.72727272727275, 43.36363636363636%, 65.72727272727272%)",
           "hsl(150.60606060606062, 42.63636363636363%, 61.6060606060606%)",
           "hsl(162.24242424242425, 42.484848484848484%, 57.63636363636364%)",
           "hsl(172.1818181818182, 46.36363636363636%, 54.727272727272734%)",
           "hsl(182.12121212121212, 50.24242424242425%, 51.81818181818181%)",
           "hsl(192.06060606060606, 54.121212121212125%, 48.90909090909091%)",
           "hsl(202.0, 58.0%, 46.0%)"
          ]
         },
         "type": "bar",
         "uid": "13d8222b-c2a9-4d41-955a-569c3873e71f",
         "x": [
          0,
          6,
          7,
          10,
          11,
          13,
          14,
          15,
          17,
          18,
          19,
          29
         ],
         "y": [
          56,
          7,
          3,
          1,
          1,
          1,
          21,
          1,
          3,
          2,
          1,
          1
         ]
        }
       ],
       "layout": {
        "bargap": 0.2,
        "xaxis": {
         "ticktext": [
          "España",
          "Colombia",
          "México",
          "República Dominicana",
          "Austria",
          "Chile",
          "Francia",
          "Canadá",
          "Nigeria",
          "China",
          "Australia",
          "Rusia",
          "Alemania",
          "Brasil",
          "Estados Unidos de América",
          "India",
          "Eslovaquia",
          "Italia",
          "Inglaterra",
          "Cuba",
          "Ukrania",
          "Venezuela",
          "Indonesia",
          "Albania",
          "Paquistan",
          "Bahamas",
          "Argentina",
          "Islandia",
          "Escocia",
          "Sudán",
          "Nueva Zelanda",
          "Irlanda",
          "Macedonia",
          "Unknown"
         ],
         "tickvals": [
          0,
          1,
          2,
          3,
          4,
          5,
          6,
          7,
          8,
          9,
          10,
          11,
          12,
          13,
          14,
          15,
          16,
          17,
          18,
          19,
          20,
          21,
          22,
          23,
          24,
          25,
          26,
          27,
          28,
          29,
          30,
          31,
          32,
          33
         ]
        }
       }
      },
      "text/html": [
       "<div id=\"37571631-46a3-4ff9-9c2c-a858e0b5f08d\" style=\"height: 525px; width: 100%;\" class=\"plotly-graph-div\"></div><script type=\"text/javascript\">require([\"plotly\"], function(Plotly) { window.PLOTLYENV=window.PLOTLYENV || {};window.PLOTLYENV.BASE_URL=\"https://plot.ly\";\n",
       "if (document.getElementById(\"37571631-46a3-4ff9-9c2c-a858e0b5f08d\")) {\n",
       "    Plotly.newPlot(\"37571631-46a3-4ff9-9c2c-a858e0b5f08d\", [{\"marker\": {\"color\": [\"hsl(353.0, 64.0%, 53.0%)\", \"hsl(358.09090909090907, 69.81818181818181%, 54.696969696969695%)\", \"hsl(3.181818181818187, 75.63636363636364%, 56.39393939393939%)\", \"hsl(8.272727272727252, 81.45454545454545%, 58.09090909090909%)\", \"hsl(13.363636363636374, 87.27272727272728%, 59.78787878787879%)\", \"hsl(17.181818181818183, 89.9090909090909%, 61.696969696969695%)\", \"hsl(20.81818181818182, 92.0909090909091%, 63.63636363636364%)\", \"hsl(24.454545454545453, 94.27272727272728%, 65.57575757575758%)\", \"hsl(28.090909090909093, 96.45454545454545%, 67.51515151515152%)\", \"hsl(31.727272727272727, 97.18181818181819%, 69.63636363636364%)\", \"hsl(35.36363636363637, 97.42424242424242%, 71.81818181818181%)\", \"hsl(39.0, 97.66666666666667%, 74.0%)\", \"hsl(42.63636363636364, 97.9090909090909%, 76.18181818181819%)\", \"hsl(46.42424242424242, 98.3030303030303%, 78.51515151515152%)\", \"hsl(50.303030303030305, 98.78787878787878%, 80.93939393939394%)\", \"hsl(54.18181818181818, 99.27272727272727%, 83.36363636363636%)\", \"hsl(58.06060606060606, 99.75757575757575%, 85.78787878787878%)\", \"hsl(61.09090909090909, 97.81818181818181%, 85.78787878787878%)\", \"hsl(63.272727272727266, 93.45454545454547%, 83.36363636363637%)\", \"hsl(65.45454545454545, 89.09090909090908%, 80.93939393939394%)\", \"hsl(67.63636363636364, 84.72727272727272%, 78.51515151515152%)\", \"hsl(72.9090909090909, 78.63636363636364%, 76.81818181818181%)\", \"hsl(83.33333333333331, 69.66666666666669%, 76.33333333333333%)\", \"hsl(93.75757575757578, 60.69696969696968%, 75.84848484848484%)\", \"hsl(104.18181818181819, 51.72727272727272%, 75.36363636363636%)\", \"hsl(114.96969696969697, 44.81818181818182%, 73.96969696969697%)\", \"hsl(126.84848484848483, 44.09090909090909%, 69.84848484848486%)\", \"hsl(138.72727272727275, 43.36363636363636%, 65.72727272727272%)\", \"hsl(150.60606060606062, 42.63636363636363%, 61.6060606060606%)\", \"hsl(162.24242424242425, 42.484848484848484%, 57.63636363636364%)\", \"hsl(172.1818181818182, 46.36363636363636%, 54.727272727272734%)\", \"hsl(182.12121212121212, 50.24242424242425%, 51.81818181818181%)\", \"hsl(192.06060606060606, 54.121212121212125%, 48.90909090909091%)\", \"hsl(202.0, 58.0%, 46.0%)\"]}, \"x\": [0, 6, 7, 10, 11, 13, 14, 15, 17, 18, 19, 29], \"y\": [56, 7, 3, 1, 1, 1, 21, 1, 3, 2, 1, 1], \"type\": \"bar\", \"uid\": \"13d8222b-c2a9-4d41-955a-569c3873e71f\"}], {\"bargap\": 0.2, \"xaxis\": {\"ticktext\": [\"Espa\\u00f1a\", \"Colombia\", \"M\\u00e9xico\", \"Rep\\u00fablica Dominicana\", \"Austria\", \"Chile\", \"Francia\", \"Canad\\u00e1\", \"Nigeria\", \"China\", \"Australia\", \"Rusia\", \"Alemania\", \"Brasil\", \"Estados Unidos de Am\\u00e9rica\", \"India\", \"Eslovaquia\", \"Italia\", \"Inglaterra\", \"Cuba\", \"Ukrania\", \"Venezuela\", \"Indonesia\", \"Albania\", \"Paquistan\", \"Bahamas\", \"Argentina\", \"Islandia\", \"Escocia\", \"Sud\\u00e1n\", \"Nueva Zelanda\", \"Irlanda\", \"Macedonia\", \"Unknown\"], \"tickvals\": [0, 1, 2, 3, 4, 5, 6, 7, 8, 9, 10, 11, 12, 13, 14, 15, 16, 17, 18, 19, 20, 21, 22, 23, 24, 25, 26, 27, 28, 29, 30, 31, 32, 33]}}, {\"showLink\": false, \"linkText\": \"Export to plot.ly\", \"plotlyServerURL\": \"https://plot.ly\"}); \n",
       "}\n",
       "});</script><script type=\"text/javascript\">window.addEventListener(\"resize\", function(){if (document.getElementById(\"37571631-46a3-4ff9-9c2c-a858e0b5f08d\")) {window._Plotly.Plots.resize(document.getElementById(\"37571631-46a3-4ff9-9c2c-a858e0b5f08d\"));};})</script>"
      ],
      "text/vnd.plotly.v1+html": [
       "<div id=\"37571631-46a3-4ff9-9c2c-a858e0b5f08d\" style=\"height: 525px; width: 100%;\" class=\"plotly-graph-div\"></div><script type=\"text/javascript\">require([\"plotly\"], function(Plotly) { window.PLOTLYENV=window.PLOTLYENV || {};window.PLOTLYENV.BASE_URL=\"https://plot.ly\";\n",
       "if (document.getElementById(\"37571631-46a3-4ff9-9c2c-a858e0b5f08d\")) {\n",
       "    Plotly.newPlot(\"37571631-46a3-4ff9-9c2c-a858e0b5f08d\", [{\"marker\": {\"color\": [\"hsl(353.0, 64.0%, 53.0%)\", \"hsl(358.09090909090907, 69.81818181818181%, 54.696969696969695%)\", \"hsl(3.181818181818187, 75.63636363636364%, 56.39393939393939%)\", \"hsl(8.272727272727252, 81.45454545454545%, 58.09090909090909%)\", \"hsl(13.363636363636374, 87.27272727272728%, 59.78787878787879%)\", \"hsl(17.181818181818183, 89.9090909090909%, 61.696969696969695%)\", \"hsl(20.81818181818182, 92.0909090909091%, 63.63636363636364%)\", \"hsl(24.454545454545453, 94.27272727272728%, 65.57575757575758%)\", \"hsl(28.090909090909093, 96.45454545454545%, 67.51515151515152%)\", \"hsl(31.727272727272727, 97.18181818181819%, 69.63636363636364%)\", \"hsl(35.36363636363637, 97.42424242424242%, 71.81818181818181%)\", \"hsl(39.0, 97.66666666666667%, 74.0%)\", \"hsl(42.63636363636364, 97.9090909090909%, 76.18181818181819%)\", \"hsl(46.42424242424242, 98.3030303030303%, 78.51515151515152%)\", \"hsl(50.303030303030305, 98.78787878787878%, 80.93939393939394%)\", \"hsl(54.18181818181818, 99.27272727272727%, 83.36363636363636%)\", \"hsl(58.06060606060606, 99.75757575757575%, 85.78787878787878%)\", \"hsl(61.09090909090909, 97.81818181818181%, 85.78787878787878%)\", \"hsl(63.272727272727266, 93.45454545454547%, 83.36363636363637%)\", \"hsl(65.45454545454545, 89.09090909090908%, 80.93939393939394%)\", \"hsl(67.63636363636364, 84.72727272727272%, 78.51515151515152%)\", \"hsl(72.9090909090909, 78.63636363636364%, 76.81818181818181%)\", \"hsl(83.33333333333331, 69.66666666666669%, 76.33333333333333%)\", \"hsl(93.75757575757578, 60.69696969696968%, 75.84848484848484%)\", \"hsl(104.18181818181819, 51.72727272727272%, 75.36363636363636%)\", \"hsl(114.96969696969697, 44.81818181818182%, 73.96969696969697%)\", \"hsl(126.84848484848483, 44.09090909090909%, 69.84848484848486%)\", \"hsl(138.72727272727275, 43.36363636363636%, 65.72727272727272%)\", \"hsl(150.60606060606062, 42.63636363636363%, 61.6060606060606%)\", \"hsl(162.24242424242425, 42.484848484848484%, 57.63636363636364%)\", \"hsl(172.1818181818182, 46.36363636363636%, 54.727272727272734%)\", \"hsl(182.12121212121212, 50.24242424242425%, 51.81818181818181%)\", \"hsl(192.06060606060606, 54.121212121212125%, 48.90909090909091%)\", \"hsl(202.0, 58.0%, 46.0%)\"]}, \"x\": [0, 6, 7, 10, 11, 13, 14, 15, 17, 18, 19, 29], \"y\": [56, 7, 3, 1, 1, 1, 21, 1, 3, 2, 1, 1], \"type\": \"bar\", \"uid\": \"13d8222b-c2a9-4d41-955a-569c3873e71f\"}], {\"bargap\": 0.2, \"xaxis\": {\"ticktext\": [\"Espa\\u00f1a\", \"Colombia\", \"M\\u00e9xico\", \"Rep\\u00fablica Dominicana\", \"Austria\", \"Chile\", \"Francia\", \"Canad\\u00e1\", \"Nigeria\", \"China\", \"Australia\", \"Rusia\", \"Alemania\", \"Brasil\", \"Estados Unidos de Am\\u00e9rica\", \"India\", \"Eslovaquia\", \"Italia\", \"Inglaterra\", \"Cuba\", \"Ukrania\", \"Venezuela\", \"Indonesia\", \"Albania\", \"Paquistan\", \"Bahamas\", \"Argentina\", \"Islandia\", \"Escocia\", \"Sud\\u00e1n\", \"Nueva Zelanda\", \"Irlanda\", \"Macedonia\", \"Unknown\"], \"tickvals\": [0, 1, 2, 3, 4, 5, 6, 7, 8, 9, 10, 11, 12, 13, 14, 15, 16, 17, 18, 19, 20, 21, 22, 23, 24, 25, 26, 27, 28, 29, 30, 31, 32, 33]}}, {\"showLink\": false, \"linkText\": \"Export to plot.ly\", \"plotlyServerURL\": \"https://plot.ly\"}); \n",
       "}\n",
       "});</script><script type=\"text/javascript\">window.addEventListener(\"resize\", function(){if (document.getElementById(\"37571631-46a3-4ff9-9c2c-a858e0b5f08d\")) {window._Plotly.Plots.resize(document.getElementById(\"37571631-46a3-4ff9-9c2c-a858e0b5f08d\"));};})</script>"
      ]
     },
     "metadata": {},
     "output_type": "display_data"
    },
    {
     "name": "stdout",
     "output_type": "stream",
     "text": [
      "\n",
      "\n",
      "Cluster 4 || variable: Nivel de estudios\n",
      "Describiendo la pregunta Nivel de estudios\n",
      "Valores numéricos asociados a las respuestas [0, 1, 2, 3, 4, 5]\n",
      "Respuestas posibles a la pregunta/variable ['Educación Primaria', 'Sin terminar Educación Secundaria Obligatoria', 'Terminada Educación Secundaria Obligatoria', 'FP', 'Universitario sin graduar', 'Universitario graduado']\n"
     ]
    },
    {
     "data": {
      "text/plain": [
       "count    98.000000\n",
       "mean      3.867347\n",
       "std       1.404248\n",
       "min       0.000000\n",
       "25%       4.000000\n",
       "50%       4.000000\n",
       "75%       5.000000\n",
       "max       5.000000\n",
       "Name: Nivel de estudios, dtype: float64"
      ]
     },
     "metadata": {},
     "output_type": "display_data"
    },
    {
     "name": "stdout",
     "output_type": "stream",
     "text": [
      "Conteo de cada valor en Nivel de estudios expresada como valor / cantidad\n"
     ]
    },
    {
     "data": {
      "text/plain": [
       "0     2\n",
       "1    11\n",
       "2     4\n",
       "3     5\n",
       "4    35\n",
       "5    41\n",
       "Name: Nivel de estudios, dtype: int64"
      ]
     },
     "metadata": {},
     "output_type": "display_data"
    },
    {
     "name": "stdout",
     "output_type": "stream",
     "text": [
      "Porcentaje de cada valor en Nivel de estudios expresado como valor / porcentaje\n"
     ]
    },
    {
     "data": {
      "text/plain": [
       "0     2.04\n",
       "1    11.22\n",
       "2     4.08\n",
       "3     5.10\n",
       "4    35.71\n",
       "5    41.84\n",
       "Name: Nivel de estudios, dtype: float64"
      ]
     },
     "metadata": {},
     "output_type": "display_data"
    },
    {
     "data": {
      "application/vnd.plotly.v1+json": {
       "config": {
        "linkText": "Export to plot.ly",
        "plotlyServerURL": "https://plot.ly",
        "showLink": false
       },
       "data": [
        {
         "marker": {
          "color": [
           "rgb(213,62,79)",
           "rgb(252,141,89)",
           "rgb(254,224,139)",
           "rgb(230,245,152)",
           "rgb(153,213,148)",
           "rgb(50,136,189)"
          ]
         },
         "type": "bar",
         "uid": "4d16979f-c721-4501-b5bd-41385d87c4ca",
         "x": [
          0,
          1,
          2,
          3,
          4,
          5
         ],
         "y": [
          2,
          11,
          4,
          5,
          35,
          41
         ]
        }
       ],
       "layout": {
        "bargap": 0.2,
        "xaxis": {
         "ticktext": [
          "Educación Primaria",
          "Sin terminar Educación Secundaria Obligatoria",
          "Terminada Educación Secundaria Obligatoria",
          "FP",
          "Universitario sin graduar",
          "Universitario graduado"
         ],
         "tickvals": [
          0,
          1,
          2,
          3,
          4,
          5
         ]
        }
       }
      },
      "text/html": [
       "<div id=\"adf7757a-145c-44a4-861c-598d49707868\" style=\"height: 525px; width: 100%;\" class=\"plotly-graph-div\"></div><script type=\"text/javascript\">require([\"plotly\"], function(Plotly) { window.PLOTLYENV=window.PLOTLYENV || {};window.PLOTLYENV.BASE_URL=\"https://plot.ly\";\n",
       "if (document.getElementById(\"adf7757a-145c-44a4-861c-598d49707868\")) {\n",
       "    Plotly.newPlot(\"adf7757a-145c-44a4-861c-598d49707868\", [{\"marker\": {\"color\": [\"rgb(213,62,79)\", \"rgb(252,141,89)\", \"rgb(254,224,139)\", \"rgb(230,245,152)\", \"rgb(153,213,148)\", \"rgb(50,136,189)\"]}, \"x\": [0, 1, 2, 3, 4, 5], \"y\": [2, 11, 4, 5, 35, 41], \"type\": \"bar\", \"uid\": \"4d16979f-c721-4501-b5bd-41385d87c4ca\"}], {\"bargap\": 0.2, \"xaxis\": {\"ticktext\": [\"Educaci\\u00f3n Primaria\", \"Sin terminar Educaci\\u00f3n Secundaria Obligatoria\", \"Terminada Educaci\\u00f3n Secundaria Obligatoria\", \"FP\", \"Universitario sin graduar\", \"Universitario graduado\"], \"tickvals\": [0, 1, 2, 3, 4, 5]}}, {\"showLink\": false, \"linkText\": \"Export to plot.ly\", \"plotlyServerURL\": \"https://plot.ly\"}); \n",
       "}\n",
       "});</script><script type=\"text/javascript\">window.addEventListener(\"resize\", function(){if (document.getElementById(\"adf7757a-145c-44a4-861c-598d49707868\")) {window._Plotly.Plots.resize(document.getElementById(\"adf7757a-145c-44a4-861c-598d49707868\"));};})</script>"
      ],
      "text/vnd.plotly.v1+html": [
       "<div id=\"adf7757a-145c-44a4-861c-598d49707868\" style=\"height: 525px; width: 100%;\" class=\"plotly-graph-div\"></div><script type=\"text/javascript\">require([\"plotly\"], function(Plotly) { window.PLOTLYENV=window.PLOTLYENV || {};window.PLOTLYENV.BASE_URL=\"https://plot.ly\";\n",
       "if (document.getElementById(\"adf7757a-145c-44a4-861c-598d49707868\")) {\n",
       "    Plotly.newPlot(\"adf7757a-145c-44a4-861c-598d49707868\", [{\"marker\": {\"color\": [\"rgb(213,62,79)\", \"rgb(252,141,89)\", \"rgb(254,224,139)\", \"rgb(230,245,152)\", \"rgb(153,213,148)\", \"rgb(50,136,189)\"]}, \"x\": [0, 1, 2, 3, 4, 5], \"y\": [2, 11, 4, 5, 35, 41], \"type\": \"bar\", \"uid\": \"4d16979f-c721-4501-b5bd-41385d87c4ca\"}], {\"bargap\": 0.2, \"xaxis\": {\"ticktext\": [\"Educaci\\u00f3n Primaria\", \"Sin terminar Educaci\\u00f3n Secundaria Obligatoria\", \"Terminada Educaci\\u00f3n Secundaria Obligatoria\", \"FP\", \"Universitario sin graduar\", \"Universitario graduado\"], \"tickvals\": [0, 1, 2, 3, 4, 5]}}, {\"showLink\": false, \"linkText\": \"Export to plot.ly\", \"plotlyServerURL\": \"https://plot.ly\"}); \n",
       "}\n",
       "});</script><script type=\"text/javascript\">window.addEventListener(\"resize\", function(){if (document.getElementById(\"adf7757a-145c-44a4-861c-598d49707868\")) {window._Plotly.Plots.resize(document.getElementById(\"adf7757a-145c-44a4-861c-598d49707868\"));};})</script>"
      ]
     },
     "metadata": {},
     "output_type": "display_data"
    },
    {
     "name": "stdout",
     "output_type": "stream",
     "text": [
      "\n",
      "\n",
      "Cluster 3 || variable: Género\n",
      "Describiendo la pregunta Género\n",
      "Valores numéricos asociados a las respuestas [0, 1, 2]\n",
      "Respuestas posibles a la pregunta/variable ['Masculino', 'Femenino', 'Otro']\n"
     ]
    },
    {
     "data": {
      "text/plain": [
       "count    100.00000\n",
       "mean       0.43000\n",
       "std        0.49757\n",
       "min        0.00000\n",
       "25%        0.00000\n",
       "50%        0.00000\n",
       "75%        1.00000\n",
       "max        1.00000\n",
       "Name: Género, dtype: float64"
      ]
     },
     "metadata": {},
     "output_type": "display_data"
    },
    {
     "name": "stdout",
     "output_type": "stream",
     "text": [
      "Conteo de cada valor en Género expresada como valor / cantidad\n"
     ]
    },
    {
     "data": {
      "text/plain": [
       "0    57\n",
       "1    43\n",
       "Name: Género, dtype: int64"
      ]
     },
     "metadata": {},
     "output_type": "display_data"
    },
    {
     "name": "stdout",
     "output_type": "stream",
     "text": [
      "Porcentaje de cada valor en Género expresado como valor / porcentaje\n"
     ]
    },
    {
     "data": {
      "text/plain": [
       "0    57.0\n",
       "1    43.0\n",
       "Name: Género, dtype: float64"
      ]
     },
     "metadata": {},
     "output_type": "display_data"
    },
    {
     "data": {
      "application/vnd.plotly.v1+json": {
       "config": {
        "linkText": "Export to plot.ly",
        "plotlyServerURL": "https://plot.ly",
        "showLink": false
       },
       "data": [
        {
         "marker": {
          "color": [
           "rgb(213,62,79)",
           "rgb(252,141,89)",
           "rgb(254,224,139)",
           "rgb(230,245,152)",
           "rgb(153,213,148)",
           "rgb(50,136,189)"
          ]
         },
         "type": "bar",
         "uid": "81ab3cb7-93a9-4a34-8cf7-ae2a9de58a96",
         "x": [
          0,
          1
         ],
         "y": [
          57,
          43
         ]
        }
       ],
       "layout": {
        "bargap": 0.2,
        "xaxis": {
         "ticktext": [
          "Masculino",
          "Femenino",
          "Otro"
         ],
         "tickvals": [
          0,
          1,
          2
         ]
        }
       }
      },
      "text/html": [
       "<div id=\"d2a25afb-e95d-46bd-8bf3-4dba03e1b3bf\" style=\"height: 525px; width: 100%;\" class=\"plotly-graph-div\"></div><script type=\"text/javascript\">require([\"plotly\"], function(Plotly) { window.PLOTLYENV=window.PLOTLYENV || {};window.PLOTLYENV.BASE_URL=\"https://plot.ly\";\n",
       "if (document.getElementById(\"d2a25afb-e95d-46bd-8bf3-4dba03e1b3bf\")) {\n",
       "    Plotly.newPlot(\"d2a25afb-e95d-46bd-8bf3-4dba03e1b3bf\", [{\"marker\": {\"color\": [\"rgb(213,62,79)\", \"rgb(252,141,89)\", \"rgb(254,224,139)\", \"rgb(230,245,152)\", \"rgb(153,213,148)\", \"rgb(50,136,189)\"]}, \"x\": [0, 1], \"y\": [57, 43], \"type\": \"bar\", \"uid\": \"81ab3cb7-93a9-4a34-8cf7-ae2a9de58a96\"}], {\"bargap\": 0.2, \"xaxis\": {\"ticktext\": [\"Masculino\", \"Femenino\", \"Otro\"], \"tickvals\": [0, 1, 2]}}, {\"showLink\": false, \"linkText\": \"Export to plot.ly\", \"plotlyServerURL\": \"https://plot.ly\"}); \n",
       "}\n",
       "});</script><script type=\"text/javascript\">window.addEventListener(\"resize\", function(){if (document.getElementById(\"d2a25afb-e95d-46bd-8bf3-4dba03e1b3bf\")) {window._Plotly.Plots.resize(document.getElementById(\"d2a25afb-e95d-46bd-8bf3-4dba03e1b3bf\"));};})</script>"
      ],
      "text/vnd.plotly.v1+html": [
       "<div id=\"d2a25afb-e95d-46bd-8bf3-4dba03e1b3bf\" style=\"height: 525px; width: 100%;\" class=\"plotly-graph-div\"></div><script type=\"text/javascript\">require([\"plotly\"], function(Plotly) { window.PLOTLYENV=window.PLOTLYENV || {};window.PLOTLYENV.BASE_URL=\"https://plot.ly\";\n",
       "if (document.getElementById(\"d2a25afb-e95d-46bd-8bf3-4dba03e1b3bf\")) {\n",
       "    Plotly.newPlot(\"d2a25afb-e95d-46bd-8bf3-4dba03e1b3bf\", [{\"marker\": {\"color\": [\"rgb(213,62,79)\", \"rgb(252,141,89)\", \"rgb(254,224,139)\", \"rgb(230,245,152)\", \"rgb(153,213,148)\", \"rgb(50,136,189)\"]}, \"x\": [0, 1], \"y\": [57, 43], \"type\": \"bar\", \"uid\": \"81ab3cb7-93a9-4a34-8cf7-ae2a9de58a96\"}], {\"bargap\": 0.2, \"xaxis\": {\"ticktext\": [\"Masculino\", \"Femenino\", \"Otro\"], \"tickvals\": [0, 1, 2]}}, {\"showLink\": false, \"linkText\": \"Export to plot.ly\", \"plotlyServerURL\": \"https://plot.ly\"}); \n",
       "}\n",
       "});</script><script type=\"text/javascript\">window.addEventListener(\"resize\", function(){if (document.getElementById(\"d2a25afb-e95d-46bd-8bf3-4dba03e1b3bf\")) {window._Plotly.Plots.resize(document.getElementById(\"d2a25afb-e95d-46bd-8bf3-4dba03e1b3bf\"));};})</script>"
      ]
     },
     "metadata": {},
     "output_type": "display_data"
    },
    {
     "name": "stdout",
     "output_type": "stream",
     "text": [
      "\n",
      "\n",
      "Cluster 3 || variable: Edad\n",
      "Describiendo la pregunta Edad\n"
     ]
    },
    {
     "data": {
      "text/plain": [
       "count    100.00000\n",
       "mean      29.08000\n",
       "std        6.34159\n",
       "min       21.00000\n",
       "25%       24.75000\n",
       "50%       28.00000\n",
       "75%       30.00000\n",
       "max       64.00000\n",
       "Name: Edad, dtype: float64"
      ]
     },
     "metadata": {},
     "output_type": "display_data"
    },
    {
     "name": "stdout",
     "output_type": "stream",
     "text": [
      "Conteo de cada valor en Edad expresada como valor / cantidad\n"
     ]
    },
    {
     "data": {
      "text/plain": [
       "21     1\n",
       "23     5\n",
       "24    19\n",
       "25     3\n",
       "26     7\n",
       "27    12\n",
       "28    13\n",
       "29    12\n",
       "30     6\n",
       "31     1\n",
       "32     2\n",
       "33     2\n",
       "34     2\n",
       "35     2\n",
       "36     2\n",
       "37     3\n",
       "38     1\n",
       "39     1\n",
       "40     2\n",
       "42     1\n",
       "48     1\n",
       "50     1\n",
       "64     1\n",
       "Name: Edad, dtype: int64"
      ]
     },
     "metadata": {},
     "output_type": "display_data"
    },
    {
     "name": "stdout",
     "output_type": "stream",
     "text": [
      "Porcentaje de cada valor en Edad expresado como valor / porcentaje\n"
     ]
    },
    {
     "data": {
      "text/plain": [
       "21     1.0\n",
       "23     5.0\n",
       "24    19.0\n",
       "25     3.0\n",
       "26     7.0\n",
       "27    12.0\n",
       "28    13.0\n",
       "29    12.0\n",
       "30     6.0\n",
       "31     1.0\n",
       "32     2.0\n",
       "33     2.0\n",
       "34     2.0\n",
       "35     2.0\n",
       "36     2.0\n",
       "37     3.0\n",
       "38     1.0\n",
       "39     1.0\n",
       "40     2.0\n",
       "42     1.0\n",
       "48     1.0\n",
       "50     1.0\n",
       "64     1.0\n",
       "Name: Edad, dtype: float64"
      ]
     },
     "metadata": {},
     "output_type": "display_data"
    },
    {
     "data": {
      "application/vnd.plotly.v1+json": {
       "config": {
        "linkText": "Export to plot.ly",
        "plotlyServerURL": "https://plot.ly",
        "showLink": false
       },
       "data": [
        {
         "marker": {
          "color": [
           "hsl(147.27999999999997, 42.84%, 62.760000000000005%)",
           "hsl(18.2, 90.52%, 62.24%)",
           "hsl(47.2, 98.4%, 79.0%)",
           "hsl(74.16000000000001, 77.56%, 76.76%)",
           "hsl(147.27999999999997, 42.84%, 62.760000000000005%)",
           "hsl(67.2, 85.60000000000001%, 79.0%)",
           "hsl(64.32000000000001, 91.35999999999999%, 82.19999999999999%)",
           "hsl(67.2, 85.60000000000001%, 79.0%)",
           "hsl(27.799999999999997, 96.28%, 67.36%)",
           "hsl(57.44, 99.68%, 85.4%)",
           "hsl(37.4, 97.56%, 73.04%)",
           "hsl(353.0, 64.0%, 53.0%)",
           "hsl(32.6, 97.24%, 70.16%)",
           "hsl(13.160000000000025, 87.03999999999999%, 59.72%)",
           "hsl(359.72, 71.68%, 55.24%)",
           "hsl(353.0, 64.0%, 53.0%)",
           "hsl(6.439999999999998, 79.36%, 57.480000000000004%)",
           "hsl(359.72, 71.68%, 55.24%)",
           "hsl(27.799999999999997, 96.28%, 67.36%)",
           "hsl(27.799999999999997, 96.28%, 67.36%)",
           "hsl(27.799999999999997, 96.28%, 67.36%)",
           "hsl(23.0, 93.4%, 64.8%)",
           "hsl(18.2, 90.52%, 62.24%)",
           "hsl(52.32, 99.04%, 82.2%)",
           "hsl(47.2, 98.4%, 79.0%)",
           "hsl(42.2, 97.88%, 75.92%)",
           "hsl(61.44, 97.12%, 85.4%)",
           "hsl(87.92000000000002, 65.71999999999998%, 76.12%)",
           "hsl(87.92000000000002, 65.71999999999998%, 76.12%)",
           "hsl(64.32000000000001, 91.35999999999999%, 82.19999999999999%)",
           "hsl(64.32000000000001, 91.35999999999999%, 82.19999999999999%)",
           "hsl(101.67999999999999, 53.88000000000001%, 75.48%)",
           "hsl(101.67999999999999, 53.88000000000001%, 75.48%)",
           "hsl(61.44, 97.12%, 85.4%)",
           "hsl(87.92000000000002, 65.71999999999998%, 76.12%)",
           "hsl(147.27999999999997, 42.84%, 62.760000000000005%)",
           "hsl(162.64000000000001, 42.64%, 57.519999999999996%)",
           "hsl(131.60000000000002, 43.8%, 68.19999999999999%)",
           "hsl(131.60000000000002, 43.8%, 68.19999999999999%)",
           "hsl(188.88, 52.879999999999995%, 49.84%)",
           "hsl(101.67999999999999, 53.88000000000001%, 75.48%)",
           "hsl(162.64000000000001, 42.64%, 57.519999999999996%)",
           "hsl(115.92, 44.76%, 73.64%)",
           "hsl(147.27999999999997, 42.84%, 62.760000000000005%)",
           "hsl(131.60000000000002, 43.8%, 68.19999999999999%)",
           "hsl(202.0, 58.0%, 46.0%)",
           "hsl(188.88, 52.879999999999995%, 49.84%)",
           "hsl(147.27999999999997, 42.84%, 62.760000000000005%)",
           "hsl(175.76000000000002, 47.760000000000005%, 53.67999999999999%)",
           "hsl(115.92, 44.76%, 73.64%)",
           "hsl(202.0, 58.0%, 46.0%)",
           "hsl(175.76000000000002, 47.760000000000005%, 53.67999999999999%)",
           "hsl(188.88, 52.879999999999995%, 49.84%)",
           "hsl(188.88, 52.879999999999995%, 49.84%)",
           "hsl(162.64000000000001, 42.64%, 57.519999999999996%)",
           "hsl(202.0, 58.0%, 46.0%)",
           "hsl(188.88, 52.879999999999995%, 49.84%)",
           "hsl(202.0, 58.0%, 46.0%)",
           "hsl(202.0, 58.0%, 46.0%)",
           "hsl(202.0, 58.0%, 46.0%)",
           "hsl(202.0, 58.0%, 46.0%)",
           "hsl(188.88, 52.879999999999995%, 49.84%)"
          ]
         },
         "type": "bar",
         "uid": "86609c07-bf0b-48c5-9a54-4ffc235094f5",
         "x": [
          21,
          23,
          24,
          25,
          26,
          27,
          28,
          29,
          30,
          31,
          32,
          33,
          34,
          35,
          36,
          37,
          38,
          39,
          40,
          42,
          48,
          50,
          64
         ],
         "y": [
          1,
          5,
          19,
          3,
          7,
          12,
          13,
          12,
          6,
          1,
          2,
          2,
          2,
          2,
          2,
          3,
          1,
          1,
          2,
          1,
          1,
          1,
          1
         ]
        }
       ],
       "layout": {}
      },
      "text/html": [
       "<div id=\"c3e789ce-650b-4a79-bd1c-d9cc201b546a\" style=\"height: 525px; width: 100%;\" class=\"plotly-graph-div\"></div><script type=\"text/javascript\">require([\"plotly\"], function(Plotly) { window.PLOTLYENV=window.PLOTLYENV || {};window.PLOTLYENV.BASE_URL=\"https://plot.ly\";\n",
       "if (document.getElementById(\"c3e789ce-650b-4a79-bd1c-d9cc201b546a\")) {\n",
       "    Plotly.newPlot(\"c3e789ce-650b-4a79-bd1c-d9cc201b546a\", [{\"marker\": {\"color\": [\"hsl(147.27999999999997, 42.84%, 62.760000000000005%)\", \"hsl(18.2, 90.52%, 62.24%)\", \"hsl(47.2, 98.4%, 79.0%)\", \"hsl(74.16000000000001, 77.56%, 76.76%)\", \"hsl(147.27999999999997, 42.84%, 62.760000000000005%)\", \"hsl(67.2, 85.60000000000001%, 79.0%)\", \"hsl(64.32000000000001, 91.35999999999999%, 82.19999999999999%)\", \"hsl(67.2, 85.60000000000001%, 79.0%)\", \"hsl(27.799999999999997, 96.28%, 67.36%)\", \"hsl(57.44, 99.68%, 85.4%)\", \"hsl(37.4, 97.56%, 73.04%)\", \"hsl(353.0, 64.0%, 53.0%)\", \"hsl(32.6, 97.24%, 70.16%)\", \"hsl(13.160000000000025, 87.03999999999999%, 59.72%)\", \"hsl(359.72, 71.68%, 55.24%)\", \"hsl(353.0, 64.0%, 53.0%)\", \"hsl(6.439999999999998, 79.36%, 57.480000000000004%)\", \"hsl(359.72, 71.68%, 55.24%)\", \"hsl(27.799999999999997, 96.28%, 67.36%)\", \"hsl(27.799999999999997, 96.28%, 67.36%)\", \"hsl(27.799999999999997, 96.28%, 67.36%)\", \"hsl(23.0, 93.4%, 64.8%)\", \"hsl(18.2, 90.52%, 62.24%)\", \"hsl(52.32, 99.04%, 82.2%)\", \"hsl(47.2, 98.4%, 79.0%)\", \"hsl(42.2, 97.88%, 75.92%)\", \"hsl(61.44, 97.12%, 85.4%)\", \"hsl(87.92000000000002, 65.71999999999998%, 76.12%)\", \"hsl(87.92000000000002, 65.71999999999998%, 76.12%)\", \"hsl(64.32000000000001, 91.35999999999999%, 82.19999999999999%)\", \"hsl(64.32000000000001, 91.35999999999999%, 82.19999999999999%)\", \"hsl(101.67999999999999, 53.88000000000001%, 75.48%)\", \"hsl(101.67999999999999, 53.88000000000001%, 75.48%)\", \"hsl(61.44, 97.12%, 85.4%)\", \"hsl(87.92000000000002, 65.71999999999998%, 76.12%)\", \"hsl(147.27999999999997, 42.84%, 62.760000000000005%)\", \"hsl(162.64000000000001, 42.64%, 57.519999999999996%)\", \"hsl(131.60000000000002, 43.8%, 68.19999999999999%)\", \"hsl(131.60000000000002, 43.8%, 68.19999999999999%)\", \"hsl(188.88, 52.879999999999995%, 49.84%)\", \"hsl(101.67999999999999, 53.88000000000001%, 75.48%)\", \"hsl(162.64000000000001, 42.64%, 57.519999999999996%)\", \"hsl(115.92, 44.76%, 73.64%)\", \"hsl(147.27999999999997, 42.84%, 62.760000000000005%)\", \"hsl(131.60000000000002, 43.8%, 68.19999999999999%)\", \"hsl(202.0, 58.0%, 46.0%)\", \"hsl(188.88, 52.879999999999995%, 49.84%)\", \"hsl(147.27999999999997, 42.84%, 62.760000000000005%)\", \"hsl(175.76000000000002, 47.760000000000005%, 53.67999999999999%)\", \"hsl(115.92, 44.76%, 73.64%)\", \"hsl(202.0, 58.0%, 46.0%)\", \"hsl(175.76000000000002, 47.760000000000005%, 53.67999999999999%)\", \"hsl(188.88, 52.879999999999995%, 49.84%)\", \"hsl(188.88, 52.879999999999995%, 49.84%)\", \"hsl(162.64000000000001, 42.64%, 57.519999999999996%)\", \"hsl(202.0, 58.0%, 46.0%)\", \"hsl(188.88, 52.879999999999995%, 49.84%)\", \"hsl(202.0, 58.0%, 46.0%)\", \"hsl(202.0, 58.0%, 46.0%)\", \"hsl(202.0, 58.0%, 46.0%)\", \"hsl(202.0, 58.0%, 46.0%)\", \"hsl(188.88, 52.879999999999995%, 49.84%)\"]}, \"x\": [21, 23, 24, 25, 26, 27, 28, 29, 30, 31, 32, 33, 34, 35, 36, 37, 38, 39, 40, 42, 48, 50, 64], \"y\": [1, 5, 19, 3, 7, 12, 13, 12, 6, 1, 2, 2, 2, 2, 2, 3, 1, 1, 2, 1, 1, 1, 1], \"type\": \"bar\", \"uid\": \"ef5e2a72-d20c-48c2-a8f7-a54a3e093ed5\"}], {}, {\"showLink\": false, \"linkText\": \"Export to plot.ly\", \"plotlyServerURL\": \"https://plot.ly\"}); \n",
       "}\n",
       "});</script><script type=\"text/javascript\">window.addEventListener(\"resize\", function(){if (document.getElementById(\"c3e789ce-650b-4a79-bd1c-d9cc201b546a\")) {window._Plotly.Plots.resize(document.getElementById(\"c3e789ce-650b-4a79-bd1c-d9cc201b546a\"));};})</script>"
      ],
      "text/vnd.plotly.v1+html": [
       "<div id=\"c3e789ce-650b-4a79-bd1c-d9cc201b546a\" style=\"height: 525px; width: 100%;\" class=\"plotly-graph-div\"></div><script type=\"text/javascript\">require([\"plotly\"], function(Plotly) { window.PLOTLYENV=window.PLOTLYENV || {};window.PLOTLYENV.BASE_URL=\"https://plot.ly\";\n",
       "if (document.getElementById(\"c3e789ce-650b-4a79-bd1c-d9cc201b546a\")) {\n",
       "    Plotly.newPlot(\"c3e789ce-650b-4a79-bd1c-d9cc201b546a\", [{\"marker\": {\"color\": [\"hsl(147.27999999999997, 42.84%, 62.760000000000005%)\", \"hsl(18.2, 90.52%, 62.24%)\", \"hsl(47.2, 98.4%, 79.0%)\", \"hsl(74.16000000000001, 77.56%, 76.76%)\", \"hsl(147.27999999999997, 42.84%, 62.760000000000005%)\", \"hsl(67.2, 85.60000000000001%, 79.0%)\", \"hsl(64.32000000000001, 91.35999999999999%, 82.19999999999999%)\", \"hsl(67.2, 85.60000000000001%, 79.0%)\", \"hsl(27.799999999999997, 96.28%, 67.36%)\", \"hsl(57.44, 99.68%, 85.4%)\", \"hsl(37.4, 97.56%, 73.04%)\", \"hsl(353.0, 64.0%, 53.0%)\", \"hsl(32.6, 97.24%, 70.16%)\", \"hsl(13.160000000000025, 87.03999999999999%, 59.72%)\", \"hsl(359.72, 71.68%, 55.24%)\", \"hsl(353.0, 64.0%, 53.0%)\", \"hsl(6.439999999999998, 79.36%, 57.480000000000004%)\", \"hsl(359.72, 71.68%, 55.24%)\", \"hsl(27.799999999999997, 96.28%, 67.36%)\", \"hsl(27.799999999999997, 96.28%, 67.36%)\", \"hsl(27.799999999999997, 96.28%, 67.36%)\", \"hsl(23.0, 93.4%, 64.8%)\", \"hsl(18.2, 90.52%, 62.24%)\", \"hsl(52.32, 99.04%, 82.2%)\", \"hsl(47.2, 98.4%, 79.0%)\", \"hsl(42.2, 97.88%, 75.92%)\", \"hsl(61.44, 97.12%, 85.4%)\", \"hsl(87.92000000000002, 65.71999999999998%, 76.12%)\", \"hsl(87.92000000000002, 65.71999999999998%, 76.12%)\", \"hsl(64.32000000000001, 91.35999999999999%, 82.19999999999999%)\", \"hsl(64.32000000000001, 91.35999999999999%, 82.19999999999999%)\", \"hsl(101.67999999999999, 53.88000000000001%, 75.48%)\", \"hsl(101.67999999999999, 53.88000000000001%, 75.48%)\", \"hsl(61.44, 97.12%, 85.4%)\", \"hsl(87.92000000000002, 65.71999999999998%, 76.12%)\", \"hsl(147.27999999999997, 42.84%, 62.760000000000005%)\", \"hsl(162.64000000000001, 42.64%, 57.519999999999996%)\", \"hsl(131.60000000000002, 43.8%, 68.19999999999999%)\", \"hsl(131.60000000000002, 43.8%, 68.19999999999999%)\", \"hsl(188.88, 52.879999999999995%, 49.84%)\", \"hsl(101.67999999999999, 53.88000000000001%, 75.48%)\", \"hsl(162.64000000000001, 42.64%, 57.519999999999996%)\", \"hsl(115.92, 44.76%, 73.64%)\", \"hsl(147.27999999999997, 42.84%, 62.760000000000005%)\", \"hsl(131.60000000000002, 43.8%, 68.19999999999999%)\", \"hsl(202.0, 58.0%, 46.0%)\", \"hsl(188.88, 52.879999999999995%, 49.84%)\", \"hsl(147.27999999999997, 42.84%, 62.760000000000005%)\", \"hsl(175.76000000000002, 47.760000000000005%, 53.67999999999999%)\", \"hsl(115.92, 44.76%, 73.64%)\", \"hsl(202.0, 58.0%, 46.0%)\", \"hsl(175.76000000000002, 47.760000000000005%, 53.67999999999999%)\", \"hsl(188.88, 52.879999999999995%, 49.84%)\", \"hsl(188.88, 52.879999999999995%, 49.84%)\", \"hsl(162.64000000000001, 42.64%, 57.519999999999996%)\", \"hsl(202.0, 58.0%, 46.0%)\", \"hsl(188.88, 52.879999999999995%, 49.84%)\", \"hsl(202.0, 58.0%, 46.0%)\", \"hsl(202.0, 58.0%, 46.0%)\", \"hsl(202.0, 58.0%, 46.0%)\", \"hsl(202.0, 58.0%, 46.0%)\", \"hsl(188.88, 52.879999999999995%, 49.84%)\"]}, \"x\": [21, 23, 24, 25, 26, 27, 28, 29, 30, 31, 32, 33, 34, 35, 36, 37, 38, 39, 40, 42, 48, 50, 64], \"y\": [1, 5, 19, 3, 7, 12, 13, 12, 6, 1, 2, 2, 2, 2, 2, 3, 1, 1, 2, 1, 1, 1, 1], \"type\": \"bar\", \"uid\": \"ef5e2a72-d20c-48c2-a8f7-a54a3e093ed5\"}], {}, {\"showLink\": false, \"linkText\": \"Export to plot.ly\", \"plotlyServerURL\": \"https://plot.ly\"}); \n",
       "}\n",
       "});</script><script type=\"text/javascript\">window.addEventListener(\"resize\", function(){if (document.getElementById(\"c3e789ce-650b-4a79-bd1c-d9cc201b546a\")) {window._Plotly.Plots.resize(document.getElementById(\"c3e789ce-650b-4a79-bd1c-d9cc201b546a\"));};})</script>"
      ]
     },
     "metadata": {},
     "output_type": "display_data"
    },
    {
     "name": "stdout",
     "output_type": "stream",
     "text": [
      "\n",
      "\n",
      "Cluster 3 || variable: Nacionalidad\n",
      "Describiendo la pregunta Nacionalidad\n",
      "Valores numéricos asociados a las respuestas [0, 1, 2, 3, 4, 5, 6, 7, 8, 9, 10, 11, 12, 13, 14, 15, 16, 17, 18, 19, 20, 21, 22, 23, 24, 25, 26, 27, 28, 29, 30, 31, 32, 33]\n",
      "Respuestas posibles a la pregunta/variable ['España', 'Colombia', 'México', 'República Dominicana', 'Austria', 'Chile', 'Francia', 'Canadá', 'Nigeria', 'China', 'Australia', 'Rusia', 'Alemania', 'Brasil', 'Estados Unidos de América', 'India', 'Eslovaquia', 'Italia', 'Inglaterra', 'Cuba', 'Ukrania', 'Venezuela', 'Indonesia', 'Albania', 'Paquistan', 'Bahamas', 'Argentina', 'Islandia', 'Escocia', 'Sudán', 'Nueva Zelanda', 'Irlanda', 'Macedonia', 'Unknown']\n"
     ]
    },
    {
     "data": {
      "text/plain": [
       "count    100.000000\n",
       "mean      15.910000\n",
       "std        5.091278\n",
       "min        0.000000\n",
       "25%       14.000000\n",
       "50%       15.000000\n",
       "75%       15.000000\n",
       "max       33.000000\n",
       "Name: Nacionalidad, dtype: float64"
      ]
     },
     "metadata": {},
     "output_type": "display_data"
    },
    {
     "name": "stdout",
     "output_type": "stream",
     "text": [
      "Conteo de cada valor en Nacionalidad expresada como valor / cantidad\n"
     ]
    },
    {
     "data": {
      "text/plain": [
       "0      1\n",
       "7      1\n",
       "11     1\n",
       "14    33\n",
       "15    50\n",
       "17     3\n",
       "18     1\n",
       "21     2\n",
       "22     1\n",
       "30     1\n",
       "33     6\n",
       "Name: Nacionalidad, dtype: int64"
      ]
     },
     "metadata": {},
     "output_type": "display_data"
    },
    {
     "name": "stdout",
     "output_type": "stream",
     "text": [
      "Porcentaje de cada valor en Nacionalidad expresado como valor / porcentaje\n"
     ]
    },
    {
     "data": {
      "text/plain": [
       "0      1.0\n",
       "7      1.0\n",
       "11     1.0\n",
       "14    33.0\n",
       "15    50.0\n",
       "17     3.0\n",
       "18     1.0\n",
       "21     2.0\n",
       "22     1.0\n",
       "30     1.0\n",
       "33     6.0\n",
       "Name: Nacionalidad, dtype: float64"
      ]
     },
     "metadata": {},
     "output_type": "display_data"
    },
    {
     "data": {
      "application/vnd.plotly.v1+json": {
       "config": {
        "linkText": "Export to plot.ly",
        "plotlyServerURL": "https://plot.ly",
        "showLink": false
       },
       "data": [
        {
         "marker": {
          "color": [
           "hsl(353.0, 64.0%, 53.0%)",
           "hsl(358.09090909090907, 69.81818181818181%, 54.696969696969695%)",
           "hsl(3.181818181818187, 75.63636363636364%, 56.39393939393939%)",
           "hsl(8.272727272727252, 81.45454545454545%, 58.09090909090909%)",
           "hsl(13.363636363636374, 87.27272727272728%, 59.78787878787879%)",
           "hsl(17.181818181818183, 89.9090909090909%, 61.696969696969695%)",
           "hsl(20.81818181818182, 92.0909090909091%, 63.63636363636364%)",
           "hsl(24.454545454545453, 94.27272727272728%, 65.57575757575758%)",
           "hsl(28.090909090909093, 96.45454545454545%, 67.51515151515152%)",
           "hsl(31.727272727272727, 97.18181818181819%, 69.63636363636364%)",
           "hsl(35.36363636363637, 97.42424242424242%, 71.81818181818181%)",
           "hsl(39.0, 97.66666666666667%, 74.0%)",
           "hsl(42.63636363636364, 97.9090909090909%, 76.18181818181819%)",
           "hsl(46.42424242424242, 98.3030303030303%, 78.51515151515152%)",
           "hsl(50.303030303030305, 98.78787878787878%, 80.93939393939394%)",
           "hsl(54.18181818181818, 99.27272727272727%, 83.36363636363636%)",
           "hsl(58.06060606060606, 99.75757575757575%, 85.78787878787878%)",
           "hsl(61.09090909090909, 97.81818181818181%, 85.78787878787878%)",
           "hsl(63.272727272727266, 93.45454545454547%, 83.36363636363637%)",
           "hsl(65.45454545454545, 89.09090909090908%, 80.93939393939394%)",
           "hsl(67.63636363636364, 84.72727272727272%, 78.51515151515152%)",
           "hsl(72.9090909090909, 78.63636363636364%, 76.81818181818181%)",
           "hsl(83.33333333333331, 69.66666666666669%, 76.33333333333333%)",
           "hsl(93.75757575757578, 60.69696969696968%, 75.84848484848484%)",
           "hsl(104.18181818181819, 51.72727272727272%, 75.36363636363636%)",
           "hsl(114.96969696969697, 44.81818181818182%, 73.96969696969697%)",
           "hsl(126.84848484848483, 44.09090909090909%, 69.84848484848486%)",
           "hsl(138.72727272727275, 43.36363636363636%, 65.72727272727272%)",
           "hsl(150.60606060606062, 42.63636363636363%, 61.6060606060606%)",
           "hsl(162.24242424242425, 42.484848484848484%, 57.63636363636364%)",
           "hsl(172.1818181818182, 46.36363636363636%, 54.727272727272734%)",
           "hsl(182.12121212121212, 50.24242424242425%, 51.81818181818181%)",
           "hsl(192.06060606060606, 54.121212121212125%, 48.90909090909091%)",
           "hsl(202.0, 58.0%, 46.0%)"
          ]
         },
         "type": "bar",
         "uid": "8d2a1c30-73f9-490c-873c-045ec805b71a",
         "x": [
          0,
          7,
          11,
          14,
          15,
          17,
          18,
          21,
          22,
          30,
          33
         ],
         "y": [
          1,
          1,
          1,
          33,
          50,
          3,
          1,
          2,
          1,
          1,
          6
         ]
        }
       ],
       "layout": {
        "bargap": 0.2,
        "xaxis": {
         "ticktext": [
          "España",
          "Colombia",
          "México",
          "República Dominicana",
          "Austria",
          "Chile",
          "Francia",
          "Canadá",
          "Nigeria",
          "China",
          "Australia",
          "Rusia",
          "Alemania",
          "Brasil",
          "Estados Unidos de América",
          "India",
          "Eslovaquia",
          "Italia",
          "Inglaterra",
          "Cuba",
          "Ukrania",
          "Venezuela",
          "Indonesia",
          "Albania",
          "Paquistan",
          "Bahamas",
          "Argentina",
          "Islandia",
          "Escocia",
          "Sudán",
          "Nueva Zelanda",
          "Irlanda",
          "Macedonia",
          "Unknown"
         ],
         "tickvals": [
          0,
          1,
          2,
          3,
          4,
          5,
          6,
          7,
          8,
          9,
          10,
          11,
          12,
          13,
          14,
          15,
          16,
          17,
          18,
          19,
          20,
          21,
          22,
          23,
          24,
          25,
          26,
          27,
          28,
          29,
          30,
          31,
          32,
          33
         ]
        }
       }
      },
      "text/html": [
       "<div id=\"fcccacc1-ac77-4fec-9281-8e37e0cbee17\" style=\"height: 525px; width: 100%;\" class=\"plotly-graph-div\"></div><script type=\"text/javascript\">require([\"plotly\"], function(Plotly) { window.PLOTLYENV=window.PLOTLYENV || {};window.PLOTLYENV.BASE_URL=\"https://plot.ly\";\n",
       "if (document.getElementById(\"fcccacc1-ac77-4fec-9281-8e37e0cbee17\")) {\n",
       "    Plotly.newPlot(\"fcccacc1-ac77-4fec-9281-8e37e0cbee17\", [{\"marker\": {\"color\": [\"hsl(353.0, 64.0%, 53.0%)\", \"hsl(358.09090909090907, 69.81818181818181%, 54.696969696969695%)\", \"hsl(3.181818181818187, 75.63636363636364%, 56.39393939393939%)\", \"hsl(8.272727272727252, 81.45454545454545%, 58.09090909090909%)\", \"hsl(13.363636363636374, 87.27272727272728%, 59.78787878787879%)\", \"hsl(17.181818181818183, 89.9090909090909%, 61.696969696969695%)\", \"hsl(20.81818181818182, 92.0909090909091%, 63.63636363636364%)\", \"hsl(24.454545454545453, 94.27272727272728%, 65.57575757575758%)\", \"hsl(28.090909090909093, 96.45454545454545%, 67.51515151515152%)\", \"hsl(31.727272727272727, 97.18181818181819%, 69.63636363636364%)\", \"hsl(35.36363636363637, 97.42424242424242%, 71.81818181818181%)\", \"hsl(39.0, 97.66666666666667%, 74.0%)\", \"hsl(42.63636363636364, 97.9090909090909%, 76.18181818181819%)\", \"hsl(46.42424242424242, 98.3030303030303%, 78.51515151515152%)\", \"hsl(50.303030303030305, 98.78787878787878%, 80.93939393939394%)\", \"hsl(54.18181818181818, 99.27272727272727%, 83.36363636363636%)\", \"hsl(58.06060606060606, 99.75757575757575%, 85.78787878787878%)\", \"hsl(61.09090909090909, 97.81818181818181%, 85.78787878787878%)\", \"hsl(63.272727272727266, 93.45454545454547%, 83.36363636363637%)\", \"hsl(65.45454545454545, 89.09090909090908%, 80.93939393939394%)\", \"hsl(67.63636363636364, 84.72727272727272%, 78.51515151515152%)\", \"hsl(72.9090909090909, 78.63636363636364%, 76.81818181818181%)\", \"hsl(83.33333333333331, 69.66666666666669%, 76.33333333333333%)\", \"hsl(93.75757575757578, 60.69696969696968%, 75.84848484848484%)\", \"hsl(104.18181818181819, 51.72727272727272%, 75.36363636363636%)\", \"hsl(114.96969696969697, 44.81818181818182%, 73.96969696969697%)\", \"hsl(126.84848484848483, 44.09090909090909%, 69.84848484848486%)\", \"hsl(138.72727272727275, 43.36363636363636%, 65.72727272727272%)\", \"hsl(150.60606060606062, 42.63636363636363%, 61.6060606060606%)\", \"hsl(162.24242424242425, 42.484848484848484%, 57.63636363636364%)\", \"hsl(172.1818181818182, 46.36363636363636%, 54.727272727272734%)\", \"hsl(182.12121212121212, 50.24242424242425%, 51.81818181818181%)\", \"hsl(192.06060606060606, 54.121212121212125%, 48.90909090909091%)\", \"hsl(202.0, 58.0%, 46.0%)\"]}, \"x\": [0, 7, 11, 14, 15, 17, 18, 21, 22, 30, 33], \"y\": [1, 1, 1, 33, 50, 3, 1, 2, 1, 1, 6], \"type\": \"bar\", \"uid\": \"8d2a1c30-73f9-490c-873c-045ec805b71a\"}], {\"bargap\": 0.2, \"xaxis\": {\"ticktext\": [\"Espa\\u00f1a\", \"Colombia\", \"M\\u00e9xico\", \"Rep\\u00fablica Dominicana\", \"Austria\", \"Chile\", \"Francia\", \"Canad\\u00e1\", \"Nigeria\", \"China\", \"Australia\", \"Rusia\", \"Alemania\", \"Brasil\", \"Estados Unidos de Am\\u00e9rica\", \"India\", \"Eslovaquia\", \"Italia\", \"Inglaterra\", \"Cuba\", \"Ukrania\", \"Venezuela\", \"Indonesia\", \"Albania\", \"Paquistan\", \"Bahamas\", \"Argentina\", \"Islandia\", \"Escocia\", \"Sud\\u00e1n\", \"Nueva Zelanda\", \"Irlanda\", \"Macedonia\", \"Unknown\"], \"tickvals\": [0, 1, 2, 3, 4, 5, 6, 7, 8, 9, 10, 11, 12, 13, 14, 15, 16, 17, 18, 19, 20, 21, 22, 23, 24, 25, 26, 27, 28, 29, 30, 31, 32, 33]}}, {\"showLink\": false, \"linkText\": \"Export to plot.ly\", \"plotlyServerURL\": \"https://plot.ly\"}); \n",
       "}\n",
       "});</script><script type=\"text/javascript\">window.addEventListener(\"resize\", function(){if (document.getElementById(\"fcccacc1-ac77-4fec-9281-8e37e0cbee17\")) {window._Plotly.Plots.resize(document.getElementById(\"fcccacc1-ac77-4fec-9281-8e37e0cbee17\"));};})</script>"
      ],
      "text/vnd.plotly.v1+html": [
       "<div id=\"fcccacc1-ac77-4fec-9281-8e37e0cbee17\" style=\"height: 525px; width: 100%;\" class=\"plotly-graph-div\"></div><script type=\"text/javascript\">require([\"plotly\"], function(Plotly) { window.PLOTLYENV=window.PLOTLYENV || {};window.PLOTLYENV.BASE_URL=\"https://plot.ly\";\n",
       "if (document.getElementById(\"fcccacc1-ac77-4fec-9281-8e37e0cbee17\")) {\n",
       "    Plotly.newPlot(\"fcccacc1-ac77-4fec-9281-8e37e0cbee17\", [{\"marker\": {\"color\": [\"hsl(353.0, 64.0%, 53.0%)\", \"hsl(358.09090909090907, 69.81818181818181%, 54.696969696969695%)\", \"hsl(3.181818181818187, 75.63636363636364%, 56.39393939393939%)\", \"hsl(8.272727272727252, 81.45454545454545%, 58.09090909090909%)\", \"hsl(13.363636363636374, 87.27272727272728%, 59.78787878787879%)\", \"hsl(17.181818181818183, 89.9090909090909%, 61.696969696969695%)\", \"hsl(20.81818181818182, 92.0909090909091%, 63.63636363636364%)\", \"hsl(24.454545454545453, 94.27272727272728%, 65.57575757575758%)\", \"hsl(28.090909090909093, 96.45454545454545%, 67.51515151515152%)\", \"hsl(31.727272727272727, 97.18181818181819%, 69.63636363636364%)\", \"hsl(35.36363636363637, 97.42424242424242%, 71.81818181818181%)\", \"hsl(39.0, 97.66666666666667%, 74.0%)\", \"hsl(42.63636363636364, 97.9090909090909%, 76.18181818181819%)\", \"hsl(46.42424242424242, 98.3030303030303%, 78.51515151515152%)\", \"hsl(50.303030303030305, 98.78787878787878%, 80.93939393939394%)\", \"hsl(54.18181818181818, 99.27272727272727%, 83.36363636363636%)\", \"hsl(58.06060606060606, 99.75757575757575%, 85.78787878787878%)\", \"hsl(61.09090909090909, 97.81818181818181%, 85.78787878787878%)\", \"hsl(63.272727272727266, 93.45454545454547%, 83.36363636363637%)\", \"hsl(65.45454545454545, 89.09090909090908%, 80.93939393939394%)\", \"hsl(67.63636363636364, 84.72727272727272%, 78.51515151515152%)\", \"hsl(72.9090909090909, 78.63636363636364%, 76.81818181818181%)\", \"hsl(83.33333333333331, 69.66666666666669%, 76.33333333333333%)\", \"hsl(93.75757575757578, 60.69696969696968%, 75.84848484848484%)\", \"hsl(104.18181818181819, 51.72727272727272%, 75.36363636363636%)\", \"hsl(114.96969696969697, 44.81818181818182%, 73.96969696969697%)\", \"hsl(126.84848484848483, 44.09090909090909%, 69.84848484848486%)\", \"hsl(138.72727272727275, 43.36363636363636%, 65.72727272727272%)\", \"hsl(150.60606060606062, 42.63636363636363%, 61.6060606060606%)\", \"hsl(162.24242424242425, 42.484848484848484%, 57.63636363636364%)\", \"hsl(172.1818181818182, 46.36363636363636%, 54.727272727272734%)\", \"hsl(182.12121212121212, 50.24242424242425%, 51.81818181818181%)\", \"hsl(192.06060606060606, 54.121212121212125%, 48.90909090909091%)\", \"hsl(202.0, 58.0%, 46.0%)\"]}, \"x\": [0, 7, 11, 14, 15, 17, 18, 21, 22, 30, 33], \"y\": [1, 1, 1, 33, 50, 3, 1, 2, 1, 1, 6], \"type\": \"bar\", \"uid\": \"8d2a1c30-73f9-490c-873c-045ec805b71a\"}], {\"bargap\": 0.2, \"xaxis\": {\"ticktext\": [\"Espa\\u00f1a\", \"Colombia\", \"M\\u00e9xico\", \"Rep\\u00fablica Dominicana\", \"Austria\", \"Chile\", \"Francia\", \"Canad\\u00e1\", \"Nigeria\", \"China\", \"Australia\", \"Rusia\", \"Alemania\", \"Brasil\", \"Estados Unidos de Am\\u00e9rica\", \"India\", \"Eslovaquia\", \"Italia\", \"Inglaterra\", \"Cuba\", \"Ukrania\", \"Venezuela\", \"Indonesia\", \"Albania\", \"Paquistan\", \"Bahamas\", \"Argentina\", \"Islandia\", \"Escocia\", \"Sud\\u00e1n\", \"Nueva Zelanda\", \"Irlanda\", \"Macedonia\", \"Unknown\"], \"tickvals\": [0, 1, 2, 3, 4, 5, 6, 7, 8, 9, 10, 11, 12, 13, 14, 15, 16, 17, 18, 19, 20, 21, 22, 23, 24, 25, 26, 27, 28, 29, 30, 31, 32, 33]}}, {\"showLink\": false, \"linkText\": \"Export to plot.ly\", \"plotlyServerURL\": \"https://plot.ly\"}); \n",
       "}\n",
       "});</script><script type=\"text/javascript\">window.addEventListener(\"resize\", function(){if (document.getElementById(\"fcccacc1-ac77-4fec-9281-8e37e0cbee17\")) {window._Plotly.Plots.resize(document.getElementById(\"fcccacc1-ac77-4fec-9281-8e37e0cbee17\"));};})</script>"
      ]
     },
     "metadata": {},
     "output_type": "display_data"
    },
    {
     "name": "stdout",
     "output_type": "stream",
     "text": [
      "\n",
      "\n",
      "Cluster 3 || variable: Nivel de estudios\n",
      "Describiendo la pregunta Nivel de estudios\n",
      "Valores numéricos asociados a las respuestas [0, 1, 2, 3, 4, 5]\n",
      "Respuestas posibles a la pregunta/variable ['Educación Primaria', 'Sin terminar Educación Secundaria Obligatoria', 'Terminada Educación Secundaria Obligatoria', 'FP', 'Universitario sin graduar', 'Universitario graduado']\n"
     ]
    },
    {
     "data": {
      "text/plain": [
       "count    100.000000\n",
       "mean       4.370000\n",
       "std        1.211519\n",
       "min        0.000000\n",
       "25%        4.000000\n",
       "50%        5.000000\n",
       "75%        5.000000\n",
       "max        5.000000\n",
       "Name: Nivel de estudios, dtype: float64"
      ]
     },
     "metadata": {},
     "output_type": "display_data"
    },
    {
     "name": "stdout",
     "output_type": "stream",
     "text": [
      "Conteo de cada valor en Nivel de estudios expresada como valor / cantidad\n"
     ]
    },
    {
     "data": {
      "text/plain": [
       "0     3\n",
       "2     9\n",
       "3     4\n",
       "4    13\n",
       "5    71\n",
       "Name: Nivel de estudios, dtype: int64"
      ]
     },
     "metadata": {},
     "output_type": "display_data"
    },
    {
     "name": "stdout",
     "output_type": "stream",
     "text": [
      "Porcentaje de cada valor en Nivel de estudios expresado como valor / porcentaje\n"
     ]
    },
    {
     "data": {
      "text/plain": [
       "0     3.0\n",
       "2     9.0\n",
       "3     4.0\n",
       "4    13.0\n",
       "5    71.0\n",
       "Name: Nivel de estudios, dtype: float64"
      ]
     },
     "metadata": {},
     "output_type": "display_data"
    },
    {
     "data": {
      "application/vnd.plotly.v1+json": {
       "config": {
        "linkText": "Export to plot.ly",
        "plotlyServerURL": "https://plot.ly",
        "showLink": false
       },
       "data": [
        {
         "marker": {
          "color": [
           "rgb(213,62,79)",
           "rgb(252,141,89)",
           "rgb(254,224,139)",
           "rgb(230,245,152)",
           "rgb(153,213,148)",
           "rgb(50,136,189)"
          ]
         },
         "type": "bar",
         "uid": "13235b9e-659d-495a-aa51-b9d71414f080",
         "x": [
          0,
          2,
          3,
          4,
          5
         ],
         "y": [
          3,
          9,
          4,
          13,
          71
         ]
        }
       ],
       "layout": {
        "bargap": 0.2,
        "xaxis": {
         "ticktext": [
          "Educación Primaria",
          "Sin terminar Educación Secundaria Obligatoria",
          "Terminada Educación Secundaria Obligatoria",
          "FP",
          "Universitario sin graduar",
          "Universitario graduado"
         ],
         "tickvals": [
          0,
          1,
          2,
          3,
          4,
          5
         ]
        }
       }
      },
      "text/html": [
       "<div id=\"5d1e4b25-0b73-4bcd-bffd-fdbe168f80ee\" style=\"height: 525px; width: 100%;\" class=\"plotly-graph-div\"></div><script type=\"text/javascript\">require([\"plotly\"], function(Plotly) { window.PLOTLYENV=window.PLOTLYENV || {};window.PLOTLYENV.BASE_URL=\"https://plot.ly\";\n",
       "if (document.getElementById(\"5d1e4b25-0b73-4bcd-bffd-fdbe168f80ee\")) {\n",
       "    Plotly.newPlot(\"5d1e4b25-0b73-4bcd-bffd-fdbe168f80ee\", [{\"marker\": {\"color\": [\"rgb(213,62,79)\", \"rgb(252,141,89)\", \"rgb(254,224,139)\", \"rgb(230,245,152)\", \"rgb(153,213,148)\", \"rgb(50,136,189)\"]}, \"x\": [0, 2, 3, 4, 5], \"y\": [3, 9, 4, 13, 71], \"type\": \"bar\", \"uid\": \"13235b9e-659d-495a-aa51-b9d71414f080\"}], {\"bargap\": 0.2, \"xaxis\": {\"ticktext\": [\"Educaci\\u00f3n Primaria\", \"Sin terminar Educaci\\u00f3n Secundaria Obligatoria\", \"Terminada Educaci\\u00f3n Secundaria Obligatoria\", \"FP\", \"Universitario sin graduar\", \"Universitario graduado\"], \"tickvals\": [0, 1, 2, 3, 4, 5]}}, {\"showLink\": false, \"linkText\": \"Export to plot.ly\", \"plotlyServerURL\": \"https://plot.ly\"}); \n",
       "}\n",
       "});</script><script type=\"text/javascript\">window.addEventListener(\"resize\", function(){if (document.getElementById(\"5d1e4b25-0b73-4bcd-bffd-fdbe168f80ee\")) {window._Plotly.Plots.resize(document.getElementById(\"5d1e4b25-0b73-4bcd-bffd-fdbe168f80ee\"));};})</script>"
      ],
      "text/vnd.plotly.v1+html": [
       "<div id=\"5d1e4b25-0b73-4bcd-bffd-fdbe168f80ee\" style=\"height: 525px; width: 100%;\" class=\"plotly-graph-div\"></div><script type=\"text/javascript\">require([\"plotly\"], function(Plotly) { window.PLOTLYENV=window.PLOTLYENV || {};window.PLOTLYENV.BASE_URL=\"https://plot.ly\";\n",
       "if (document.getElementById(\"5d1e4b25-0b73-4bcd-bffd-fdbe168f80ee\")) {\n",
       "    Plotly.newPlot(\"5d1e4b25-0b73-4bcd-bffd-fdbe168f80ee\", [{\"marker\": {\"color\": [\"rgb(213,62,79)\", \"rgb(252,141,89)\", \"rgb(254,224,139)\", \"rgb(230,245,152)\", \"rgb(153,213,148)\", \"rgb(50,136,189)\"]}, \"x\": [0, 2, 3, 4, 5], \"y\": [3, 9, 4, 13, 71], \"type\": \"bar\", \"uid\": \"13235b9e-659d-495a-aa51-b9d71414f080\"}], {\"bargap\": 0.2, \"xaxis\": {\"ticktext\": [\"Educaci\\u00f3n Primaria\", \"Sin terminar Educaci\\u00f3n Secundaria Obligatoria\", \"Terminada Educaci\\u00f3n Secundaria Obligatoria\", \"FP\", \"Universitario sin graduar\", \"Universitario graduado\"], \"tickvals\": [0, 1, 2, 3, 4, 5]}}, {\"showLink\": false, \"linkText\": \"Export to plot.ly\", \"plotlyServerURL\": \"https://plot.ly\"}); \n",
       "}\n",
       "});</script><script type=\"text/javascript\">window.addEventListener(\"resize\", function(){if (document.getElementById(\"5d1e4b25-0b73-4bcd-bffd-fdbe168f80ee\")) {window._Plotly.Plots.resize(document.getElementById(\"5d1e4b25-0b73-4bcd-bffd-fdbe168f80ee\"));};})</script>"
      ]
     },
     "metadata": {},
     "output_type": "display_data"
    },
    {
     "name": "stdout",
     "output_type": "stream",
     "text": [
      "\n",
      "\n",
      "Cluster 1 || variable: Género\n",
      "Describiendo la pregunta Género\n",
      "Valores numéricos asociados a las respuestas [0, 1, 2]\n",
      "Respuestas posibles a la pregunta/variable ['Masculino', 'Femenino', 'Otro']\n"
     ]
    },
    {
     "data": {
      "text/plain": [
       "count    37.000000\n",
       "mean      0.351351\n",
       "std       0.483978\n",
       "min       0.000000\n",
       "25%       0.000000\n",
       "50%       0.000000\n",
       "75%       1.000000\n",
       "max       1.000000\n",
       "Name: Género, dtype: float64"
      ]
     },
     "metadata": {},
     "output_type": "display_data"
    },
    {
     "name": "stdout",
     "output_type": "stream",
     "text": [
      "Conteo de cada valor en Género expresada como valor / cantidad\n"
     ]
    },
    {
     "data": {
      "text/plain": [
       "0    24\n",
       "1    13\n",
       "Name: Género, dtype: int64"
      ]
     },
     "metadata": {},
     "output_type": "display_data"
    },
    {
     "name": "stdout",
     "output_type": "stream",
     "text": [
      "Porcentaje de cada valor en Género expresado como valor / porcentaje\n"
     ]
    },
    {
     "data": {
      "text/plain": [
       "0    64.86\n",
       "1    35.14\n",
       "Name: Género, dtype: float64"
      ]
     },
     "metadata": {},
     "output_type": "display_data"
    },
    {
     "data": {
      "application/vnd.plotly.v1+json": {
       "config": {
        "linkText": "Export to plot.ly",
        "plotlyServerURL": "https://plot.ly",
        "showLink": false
       },
       "data": [
        {
         "marker": {
          "color": [
           "rgb(213,62,79)",
           "rgb(252,141,89)",
           "rgb(254,224,139)",
           "rgb(230,245,152)",
           "rgb(153,213,148)",
           "rgb(50,136,189)"
          ]
         },
         "type": "bar",
         "uid": "cfda614e-8f01-4d74-ab78-42bba63dd0d6",
         "x": [
          0,
          1
         ],
         "y": [
          24,
          13
         ]
        }
       ],
       "layout": {
        "bargap": 0.2,
        "xaxis": {
         "ticktext": [
          "Masculino",
          "Femenino",
          "Otro"
         ],
         "tickvals": [
          0,
          1,
          2
         ]
        }
       }
      },
      "text/html": [
       "<div id=\"8e6fe173-a14a-456f-b7b6-62b8ea545344\" style=\"height: 525px; width: 100%;\" class=\"plotly-graph-div\"></div><script type=\"text/javascript\">require([\"plotly\"], function(Plotly) { window.PLOTLYENV=window.PLOTLYENV || {};window.PLOTLYENV.BASE_URL=\"https://plot.ly\";\n",
       "if (document.getElementById(\"8e6fe173-a14a-456f-b7b6-62b8ea545344\")) {\n",
       "    Plotly.newPlot(\"8e6fe173-a14a-456f-b7b6-62b8ea545344\", [{\"marker\": {\"color\": [\"rgb(213,62,79)\", \"rgb(252,141,89)\", \"rgb(254,224,139)\", \"rgb(230,245,152)\", \"rgb(153,213,148)\", \"rgb(50,136,189)\"]}, \"x\": [0, 1], \"y\": [24, 13], \"type\": \"bar\", \"uid\": \"cfda614e-8f01-4d74-ab78-42bba63dd0d6\"}], {\"bargap\": 0.2, \"xaxis\": {\"ticktext\": [\"Masculino\", \"Femenino\", \"Otro\"], \"tickvals\": [0, 1, 2]}}, {\"showLink\": false, \"linkText\": \"Export to plot.ly\", \"plotlyServerURL\": \"https://plot.ly\"}); \n",
       "}\n",
       "});</script><script type=\"text/javascript\">window.addEventListener(\"resize\", function(){if (document.getElementById(\"8e6fe173-a14a-456f-b7b6-62b8ea545344\")) {window._Plotly.Plots.resize(document.getElementById(\"8e6fe173-a14a-456f-b7b6-62b8ea545344\"));};})</script>"
      ],
      "text/vnd.plotly.v1+html": [
       "<div id=\"8e6fe173-a14a-456f-b7b6-62b8ea545344\" style=\"height: 525px; width: 100%;\" class=\"plotly-graph-div\"></div><script type=\"text/javascript\">require([\"plotly\"], function(Plotly) { window.PLOTLYENV=window.PLOTLYENV || {};window.PLOTLYENV.BASE_URL=\"https://plot.ly\";\n",
       "if (document.getElementById(\"8e6fe173-a14a-456f-b7b6-62b8ea545344\")) {\n",
       "    Plotly.newPlot(\"8e6fe173-a14a-456f-b7b6-62b8ea545344\", [{\"marker\": {\"color\": [\"rgb(213,62,79)\", \"rgb(252,141,89)\", \"rgb(254,224,139)\", \"rgb(230,245,152)\", \"rgb(153,213,148)\", \"rgb(50,136,189)\"]}, \"x\": [0, 1], \"y\": [24, 13], \"type\": \"bar\", \"uid\": \"cfda614e-8f01-4d74-ab78-42bba63dd0d6\"}], {\"bargap\": 0.2, \"xaxis\": {\"ticktext\": [\"Masculino\", \"Femenino\", \"Otro\"], \"tickvals\": [0, 1, 2]}}, {\"showLink\": false, \"linkText\": \"Export to plot.ly\", \"plotlyServerURL\": \"https://plot.ly\"}); \n",
       "}\n",
       "});</script><script type=\"text/javascript\">window.addEventListener(\"resize\", function(){if (document.getElementById(\"8e6fe173-a14a-456f-b7b6-62b8ea545344\")) {window._Plotly.Plots.resize(document.getElementById(\"8e6fe173-a14a-456f-b7b6-62b8ea545344\"));};})</script>"
      ]
     },
     "metadata": {},
     "output_type": "display_data"
    },
    {
     "name": "stdout",
     "output_type": "stream",
     "text": [
      "\n",
      "\n",
      "Cluster 1 || variable: Edad\n",
      "Describiendo la pregunta Edad\n"
     ]
    },
    {
     "data": {
      "text/plain": [
       "count    37.000000\n",
       "mean     29.837838\n",
       "std       8.053686\n",
       "min      21.000000\n",
       "25%      25.000000\n",
       "50%      27.000000\n",
       "75%      31.000000\n",
       "max      56.000000\n",
       "Name: Edad, dtype: float64"
      ]
     },
     "metadata": {},
     "output_type": "display_data"
    },
    {
     "name": "stdout",
     "output_type": "stream",
     "text": [
      "Conteo de cada valor en Edad expresada como valor / cantidad\n"
     ]
    },
    {
     "data": {
      "text/plain": [
       "21    1\n",
       "22    1\n",
       "23    2\n",
       "24    3\n",
       "25    4\n",
       "26    6\n",
       "27    2\n",
       "28    2\n",
       "29    1\n",
       "30    4\n",
       "31    2\n",
       "32    1\n",
       "33    3\n",
       "35    1\n",
       "42    1\n",
       "50    1\n",
       "52    1\n",
       "56    1\n",
       "Name: Edad, dtype: int64"
      ]
     },
     "metadata": {},
     "output_type": "display_data"
    },
    {
     "name": "stdout",
     "output_type": "stream",
     "text": [
      "Porcentaje de cada valor en Edad expresado como valor / porcentaje\n"
     ]
    },
    {
     "data": {
      "text/plain": [
       "21     2.70\n",
       "22     2.70\n",
       "23     5.41\n",
       "24     8.11\n",
       "25    10.81\n",
       "26    16.22\n",
       "27     5.41\n",
       "28     5.41\n",
       "29     2.70\n",
       "30    10.81\n",
       "31     5.41\n",
       "32     2.70\n",
       "33     8.11\n",
       "35     2.70\n",
       "42     2.70\n",
       "50     2.70\n",
       "52     2.70\n",
       "56     2.70\n",
       "Name: Edad, dtype: float64"
      ]
     },
     "metadata": {},
     "output_type": "display_data"
    },
    {
     "data": {
      "application/vnd.plotly.v1+json": {
       "config": {
        "linkText": "Export to plot.ly",
        "plotlyServerURL": "https://plot.ly",
        "showLink": false
       },
       "data": [
        {
         "marker": {
          "color": [
           "hsl(147.27999999999997, 42.84%, 62.760000000000005%)",
           "hsl(18.2, 90.52%, 62.24%)",
           "hsl(47.2, 98.4%, 79.0%)",
           "hsl(74.16000000000001, 77.56%, 76.76%)",
           "hsl(147.27999999999997, 42.84%, 62.760000000000005%)",
           "hsl(67.2, 85.60000000000001%, 79.0%)",
           "hsl(64.32000000000001, 91.35999999999999%, 82.19999999999999%)",
           "hsl(67.2, 85.60000000000001%, 79.0%)",
           "hsl(27.799999999999997, 96.28%, 67.36%)",
           "hsl(57.44, 99.68%, 85.4%)",
           "hsl(37.4, 97.56%, 73.04%)",
           "hsl(353.0, 64.0%, 53.0%)",
           "hsl(32.6, 97.24%, 70.16%)",
           "hsl(13.160000000000025, 87.03999999999999%, 59.72%)",
           "hsl(359.72, 71.68%, 55.24%)",
           "hsl(353.0, 64.0%, 53.0%)",
           "hsl(6.439999999999998, 79.36%, 57.480000000000004%)",
           "hsl(359.72, 71.68%, 55.24%)",
           "hsl(27.799999999999997, 96.28%, 67.36%)",
           "hsl(27.799999999999997, 96.28%, 67.36%)",
           "hsl(27.799999999999997, 96.28%, 67.36%)",
           "hsl(23.0, 93.4%, 64.8%)",
           "hsl(18.2, 90.52%, 62.24%)",
           "hsl(52.32, 99.04%, 82.2%)",
           "hsl(47.2, 98.4%, 79.0%)",
           "hsl(42.2, 97.88%, 75.92%)",
           "hsl(61.44, 97.12%, 85.4%)",
           "hsl(87.92000000000002, 65.71999999999998%, 76.12%)",
           "hsl(87.92000000000002, 65.71999999999998%, 76.12%)",
           "hsl(64.32000000000001, 91.35999999999999%, 82.19999999999999%)",
           "hsl(64.32000000000001, 91.35999999999999%, 82.19999999999999%)",
           "hsl(101.67999999999999, 53.88000000000001%, 75.48%)",
           "hsl(101.67999999999999, 53.88000000000001%, 75.48%)",
           "hsl(61.44, 97.12%, 85.4%)",
           "hsl(87.92000000000002, 65.71999999999998%, 76.12%)",
           "hsl(147.27999999999997, 42.84%, 62.760000000000005%)",
           "hsl(162.64000000000001, 42.64%, 57.519999999999996%)",
           "hsl(131.60000000000002, 43.8%, 68.19999999999999%)",
           "hsl(131.60000000000002, 43.8%, 68.19999999999999%)",
           "hsl(188.88, 52.879999999999995%, 49.84%)",
           "hsl(101.67999999999999, 53.88000000000001%, 75.48%)",
           "hsl(162.64000000000001, 42.64%, 57.519999999999996%)",
           "hsl(115.92, 44.76%, 73.64%)",
           "hsl(147.27999999999997, 42.84%, 62.760000000000005%)",
           "hsl(131.60000000000002, 43.8%, 68.19999999999999%)",
           "hsl(202.0, 58.0%, 46.0%)",
           "hsl(188.88, 52.879999999999995%, 49.84%)",
           "hsl(147.27999999999997, 42.84%, 62.760000000000005%)",
           "hsl(175.76000000000002, 47.760000000000005%, 53.67999999999999%)",
           "hsl(115.92, 44.76%, 73.64%)",
           "hsl(202.0, 58.0%, 46.0%)",
           "hsl(175.76000000000002, 47.760000000000005%, 53.67999999999999%)",
           "hsl(188.88, 52.879999999999995%, 49.84%)",
           "hsl(188.88, 52.879999999999995%, 49.84%)",
           "hsl(162.64000000000001, 42.64%, 57.519999999999996%)",
           "hsl(202.0, 58.0%, 46.0%)",
           "hsl(188.88, 52.879999999999995%, 49.84%)",
           "hsl(202.0, 58.0%, 46.0%)",
           "hsl(202.0, 58.0%, 46.0%)",
           "hsl(202.0, 58.0%, 46.0%)",
           "hsl(202.0, 58.0%, 46.0%)",
           "hsl(188.88, 52.879999999999995%, 49.84%)"
          ]
         },
         "type": "bar",
         "uid": "6c5877e1-280c-4769-980f-89c446faa013",
         "x": [
          21,
          22,
          23,
          24,
          25,
          26,
          27,
          28,
          29,
          30,
          31,
          32,
          33,
          35,
          42,
          50,
          52,
          56
         ],
         "y": [
          1,
          1,
          2,
          3,
          4,
          6,
          2,
          2,
          1,
          4,
          2,
          1,
          3,
          1,
          1,
          1,
          1,
          1
         ]
        }
       ],
       "layout": {}
      },
      "text/html": [
       "<div id=\"b975b6b0-fed1-4773-ac78-0be53fde8410\" style=\"height: 525px; width: 100%;\" class=\"plotly-graph-div\"></div><script type=\"text/javascript\">require([\"plotly\"], function(Plotly) { window.PLOTLYENV=window.PLOTLYENV || {};window.PLOTLYENV.BASE_URL=\"https://plot.ly\";\n",
       "if (document.getElementById(\"b975b6b0-fed1-4773-ac78-0be53fde8410\")) {\n",
       "    Plotly.newPlot(\"b975b6b0-fed1-4773-ac78-0be53fde8410\", [{\"marker\": {\"color\": [\"hsl(147.27999999999997, 42.84%, 62.760000000000005%)\", \"hsl(18.2, 90.52%, 62.24%)\", \"hsl(47.2, 98.4%, 79.0%)\", \"hsl(74.16000000000001, 77.56%, 76.76%)\", \"hsl(147.27999999999997, 42.84%, 62.760000000000005%)\", \"hsl(67.2, 85.60000000000001%, 79.0%)\", \"hsl(64.32000000000001, 91.35999999999999%, 82.19999999999999%)\", \"hsl(67.2, 85.60000000000001%, 79.0%)\", \"hsl(27.799999999999997, 96.28%, 67.36%)\", \"hsl(57.44, 99.68%, 85.4%)\", \"hsl(37.4, 97.56%, 73.04%)\", \"hsl(353.0, 64.0%, 53.0%)\", \"hsl(32.6, 97.24%, 70.16%)\", \"hsl(13.160000000000025, 87.03999999999999%, 59.72%)\", \"hsl(359.72, 71.68%, 55.24%)\", \"hsl(353.0, 64.0%, 53.0%)\", \"hsl(6.439999999999998, 79.36%, 57.480000000000004%)\", \"hsl(359.72, 71.68%, 55.24%)\", \"hsl(27.799999999999997, 96.28%, 67.36%)\", \"hsl(27.799999999999997, 96.28%, 67.36%)\", \"hsl(27.799999999999997, 96.28%, 67.36%)\", \"hsl(23.0, 93.4%, 64.8%)\", \"hsl(18.2, 90.52%, 62.24%)\", \"hsl(52.32, 99.04%, 82.2%)\", \"hsl(47.2, 98.4%, 79.0%)\", \"hsl(42.2, 97.88%, 75.92%)\", \"hsl(61.44, 97.12%, 85.4%)\", \"hsl(87.92000000000002, 65.71999999999998%, 76.12%)\", \"hsl(87.92000000000002, 65.71999999999998%, 76.12%)\", \"hsl(64.32000000000001, 91.35999999999999%, 82.19999999999999%)\", \"hsl(64.32000000000001, 91.35999999999999%, 82.19999999999999%)\", \"hsl(101.67999999999999, 53.88000000000001%, 75.48%)\", \"hsl(101.67999999999999, 53.88000000000001%, 75.48%)\", \"hsl(61.44, 97.12%, 85.4%)\", \"hsl(87.92000000000002, 65.71999999999998%, 76.12%)\", \"hsl(147.27999999999997, 42.84%, 62.760000000000005%)\", \"hsl(162.64000000000001, 42.64%, 57.519999999999996%)\", \"hsl(131.60000000000002, 43.8%, 68.19999999999999%)\", \"hsl(131.60000000000002, 43.8%, 68.19999999999999%)\", \"hsl(188.88, 52.879999999999995%, 49.84%)\", \"hsl(101.67999999999999, 53.88000000000001%, 75.48%)\", \"hsl(162.64000000000001, 42.64%, 57.519999999999996%)\", \"hsl(115.92, 44.76%, 73.64%)\", \"hsl(147.27999999999997, 42.84%, 62.760000000000005%)\", \"hsl(131.60000000000002, 43.8%, 68.19999999999999%)\", \"hsl(202.0, 58.0%, 46.0%)\", \"hsl(188.88, 52.879999999999995%, 49.84%)\", \"hsl(147.27999999999997, 42.84%, 62.760000000000005%)\", \"hsl(175.76000000000002, 47.760000000000005%, 53.67999999999999%)\", \"hsl(115.92, 44.76%, 73.64%)\", \"hsl(202.0, 58.0%, 46.0%)\", \"hsl(175.76000000000002, 47.760000000000005%, 53.67999999999999%)\", \"hsl(188.88, 52.879999999999995%, 49.84%)\", \"hsl(188.88, 52.879999999999995%, 49.84%)\", \"hsl(162.64000000000001, 42.64%, 57.519999999999996%)\", \"hsl(202.0, 58.0%, 46.0%)\", \"hsl(188.88, 52.879999999999995%, 49.84%)\", \"hsl(202.0, 58.0%, 46.0%)\", \"hsl(202.0, 58.0%, 46.0%)\", \"hsl(202.0, 58.0%, 46.0%)\", \"hsl(202.0, 58.0%, 46.0%)\", \"hsl(188.88, 52.879999999999995%, 49.84%)\"]}, \"x\": [21, 22, 23, 24, 25, 26, 27, 28, 29, 30, 31, 32, 33, 35, 42, 50, 52, 56], \"y\": [1, 1, 2, 3, 4, 6, 2, 2, 1, 4, 2, 1, 3, 1, 1, 1, 1, 1], \"type\": \"bar\", \"uid\": \"59dd3980-db4d-4ce9-b343-201677b0d21f\"}], {}, {\"showLink\": false, \"linkText\": \"Export to plot.ly\", \"plotlyServerURL\": \"https://plot.ly\"}); \n",
       "}\n",
       "});</script><script type=\"text/javascript\">window.addEventListener(\"resize\", function(){if (document.getElementById(\"b975b6b0-fed1-4773-ac78-0be53fde8410\")) {window._Plotly.Plots.resize(document.getElementById(\"b975b6b0-fed1-4773-ac78-0be53fde8410\"));};})</script>"
      ],
      "text/vnd.plotly.v1+html": [
       "<div id=\"b975b6b0-fed1-4773-ac78-0be53fde8410\" style=\"height: 525px; width: 100%;\" class=\"plotly-graph-div\"></div><script type=\"text/javascript\">require([\"plotly\"], function(Plotly) { window.PLOTLYENV=window.PLOTLYENV || {};window.PLOTLYENV.BASE_URL=\"https://plot.ly\";\n",
       "if (document.getElementById(\"b975b6b0-fed1-4773-ac78-0be53fde8410\")) {\n",
       "    Plotly.newPlot(\"b975b6b0-fed1-4773-ac78-0be53fde8410\", [{\"marker\": {\"color\": [\"hsl(147.27999999999997, 42.84%, 62.760000000000005%)\", \"hsl(18.2, 90.52%, 62.24%)\", \"hsl(47.2, 98.4%, 79.0%)\", \"hsl(74.16000000000001, 77.56%, 76.76%)\", \"hsl(147.27999999999997, 42.84%, 62.760000000000005%)\", \"hsl(67.2, 85.60000000000001%, 79.0%)\", \"hsl(64.32000000000001, 91.35999999999999%, 82.19999999999999%)\", \"hsl(67.2, 85.60000000000001%, 79.0%)\", \"hsl(27.799999999999997, 96.28%, 67.36%)\", \"hsl(57.44, 99.68%, 85.4%)\", \"hsl(37.4, 97.56%, 73.04%)\", \"hsl(353.0, 64.0%, 53.0%)\", \"hsl(32.6, 97.24%, 70.16%)\", \"hsl(13.160000000000025, 87.03999999999999%, 59.72%)\", \"hsl(359.72, 71.68%, 55.24%)\", \"hsl(353.0, 64.0%, 53.0%)\", \"hsl(6.439999999999998, 79.36%, 57.480000000000004%)\", \"hsl(359.72, 71.68%, 55.24%)\", \"hsl(27.799999999999997, 96.28%, 67.36%)\", \"hsl(27.799999999999997, 96.28%, 67.36%)\", \"hsl(27.799999999999997, 96.28%, 67.36%)\", \"hsl(23.0, 93.4%, 64.8%)\", \"hsl(18.2, 90.52%, 62.24%)\", \"hsl(52.32, 99.04%, 82.2%)\", \"hsl(47.2, 98.4%, 79.0%)\", \"hsl(42.2, 97.88%, 75.92%)\", \"hsl(61.44, 97.12%, 85.4%)\", \"hsl(87.92000000000002, 65.71999999999998%, 76.12%)\", \"hsl(87.92000000000002, 65.71999999999998%, 76.12%)\", \"hsl(64.32000000000001, 91.35999999999999%, 82.19999999999999%)\", \"hsl(64.32000000000001, 91.35999999999999%, 82.19999999999999%)\", \"hsl(101.67999999999999, 53.88000000000001%, 75.48%)\", \"hsl(101.67999999999999, 53.88000000000001%, 75.48%)\", \"hsl(61.44, 97.12%, 85.4%)\", \"hsl(87.92000000000002, 65.71999999999998%, 76.12%)\", \"hsl(147.27999999999997, 42.84%, 62.760000000000005%)\", \"hsl(162.64000000000001, 42.64%, 57.519999999999996%)\", \"hsl(131.60000000000002, 43.8%, 68.19999999999999%)\", \"hsl(131.60000000000002, 43.8%, 68.19999999999999%)\", \"hsl(188.88, 52.879999999999995%, 49.84%)\", \"hsl(101.67999999999999, 53.88000000000001%, 75.48%)\", \"hsl(162.64000000000001, 42.64%, 57.519999999999996%)\", \"hsl(115.92, 44.76%, 73.64%)\", \"hsl(147.27999999999997, 42.84%, 62.760000000000005%)\", \"hsl(131.60000000000002, 43.8%, 68.19999999999999%)\", \"hsl(202.0, 58.0%, 46.0%)\", \"hsl(188.88, 52.879999999999995%, 49.84%)\", \"hsl(147.27999999999997, 42.84%, 62.760000000000005%)\", \"hsl(175.76000000000002, 47.760000000000005%, 53.67999999999999%)\", \"hsl(115.92, 44.76%, 73.64%)\", \"hsl(202.0, 58.0%, 46.0%)\", \"hsl(175.76000000000002, 47.760000000000005%, 53.67999999999999%)\", \"hsl(188.88, 52.879999999999995%, 49.84%)\", \"hsl(188.88, 52.879999999999995%, 49.84%)\", \"hsl(162.64000000000001, 42.64%, 57.519999999999996%)\", \"hsl(202.0, 58.0%, 46.0%)\", \"hsl(188.88, 52.879999999999995%, 49.84%)\", \"hsl(202.0, 58.0%, 46.0%)\", \"hsl(202.0, 58.0%, 46.0%)\", \"hsl(202.0, 58.0%, 46.0%)\", \"hsl(202.0, 58.0%, 46.0%)\", \"hsl(188.88, 52.879999999999995%, 49.84%)\"]}, \"x\": [21, 22, 23, 24, 25, 26, 27, 28, 29, 30, 31, 32, 33, 35, 42, 50, 52, 56], \"y\": [1, 1, 2, 3, 4, 6, 2, 2, 1, 4, 2, 1, 3, 1, 1, 1, 1, 1], \"type\": \"bar\", \"uid\": \"59dd3980-db4d-4ce9-b343-201677b0d21f\"}], {}, {\"showLink\": false, \"linkText\": \"Export to plot.ly\", \"plotlyServerURL\": \"https://plot.ly\"}); \n",
       "}\n",
       "});</script><script type=\"text/javascript\">window.addEventListener(\"resize\", function(){if (document.getElementById(\"b975b6b0-fed1-4773-ac78-0be53fde8410\")) {window._Plotly.Plots.resize(document.getElementById(\"b975b6b0-fed1-4773-ac78-0be53fde8410\"));};})</script>"
      ]
     },
     "metadata": {},
     "output_type": "display_data"
    },
    {
     "name": "stdout",
     "output_type": "stream",
     "text": [
      "\n",
      "\n",
      "Cluster 1 || variable: Nacionalidad\n",
      "Describiendo la pregunta Nacionalidad\n",
      "Valores numéricos asociados a las respuestas [0, 1, 2, 3, 4, 5, 6, 7, 8, 9, 10, 11, 12, 13, 14, 15, 16, 17, 18, 19, 20, 21, 22, 23, 24, 25, 26, 27, 28, 29, 30, 31, 32, 33]\n",
      "Respuestas posibles a la pregunta/variable ['España', 'Colombia', 'México', 'República Dominicana', 'Austria', 'Chile', 'Francia', 'Canadá', 'Nigeria', 'China', 'Australia', 'Rusia', 'Alemania', 'Brasil', 'Estados Unidos de América', 'India', 'Eslovaquia', 'Italia', 'Inglaterra', 'Cuba', 'Ukrania', 'Venezuela', 'Indonesia', 'Albania', 'Paquistan', 'Bahamas', 'Argentina', 'Islandia', 'Escocia', 'Sudán', 'Nueva Zelanda', 'Irlanda', 'Macedonia', 'Unknown']\n"
     ]
    },
    {
     "data": {
      "text/plain": [
       "count    37.000000\n",
       "mean     16.432432\n",
       "std       5.866764\n",
       "min      14.000000\n",
       "25%      14.000000\n",
       "50%      14.000000\n",
       "75%      15.000000\n",
       "max      33.000000\n",
       "Name: Nacionalidad, dtype: float64"
      ]
     },
     "metadata": {},
     "output_type": "display_data"
    },
    {
     "name": "stdout",
     "output_type": "stream",
     "text": [
      "Conteo de cada valor en Nacionalidad expresada como valor / cantidad\n"
     ]
    },
    {
     "data": {
      "text/plain": [
       "14    19\n",
       "15    14\n",
       "33     4\n",
       "Name: Nacionalidad, dtype: int64"
      ]
     },
     "metadata": {},
     "output_type": "display_data"
    },
    {
     "name": "stdout",
     "output_type": "stream",
     "text": [
      "Porcentaje de cada valor en Nacionalidad expresado como valor / porcentaje\n"
     ]
    },
    {
     "data": {
      "text/plain": [
       "14    51.35\n",
       "15    37.84\n",
       "33    10.81\n",
       "Name: Nacionalidad, dtype: float64"
      ]
     },
     "metadata": {},
     "output_type": "display_data"
    },
    {
     "data": {
      "application/vnd.plotly.v1+json": {
       "config": {
        "linkText": "Export to plot.ly",
        "plotlyServerURL": "https://plot.ly",
        "showLink": false
       },
       "data": [
        {
         "marker": {
          "color": [
           "hsl(353.0, 64.0%, 53.0%)",
           "hsl(358.09090909090907, 69.81818181818181%, 54.696969696969695%)",
           "hsl(3.181818181818187, 75.63636363636364%, 56.39393939393939%)",
           "hsl(8.272727272727252, 81.45454545454545%, 58.09090909090909%)",
           "hsl(13.363636363636374, 87.27272727272728%, 59.78787878787879%)",
           "hsl(17.181818181818183, 89.9090909090909%, 61.696969696969695%)",
           "hsl(20.81818181818182, 92.0909090909091%, 63.63636363636364%)",
           "hsl(24.454545454545453, 94.27272727272728%, 65.57575757575758%)",
           "hsl(28.090909090909093, 96.45454545454545%, 67.51515151515152%)",
           "hsl(31.727272727272727, 97.18181818181819%, 69.63636363636364%)",
           "hsl(35.36363636363637, 97.42424242424242%, 71.81818181818181%)",
           "hsl(39.0, 97.66666666666667%, 74.0%)",
           "hsl(42.63636363636364, 97.9090909090909%, 76.18181818181819%)",
           "hsl(46.42424242424242, 98.3030303030303%, 78.51515151515152%)",
           "hsl(50.303030303030305, 98.78787878787878%, 80.93939393939394%)",
           "hsl(54.18181818181818, 99.27272727272727%, 83.36363636363636%)",
           "hsl(58.06060606060606, 99.75757575757575%, 85.78787878787878%)",
           "hsl(61.09090909090909, 97.81818181818181%, 85.78787878787878%)",
           "hsl(63.272727272727266, 93.45454545454547%, 83.36363636363637%)",
           "hsl(65.45454545454545, 89.09090909090908%, 80.93939393939394%)",
           "hsl(67.63636363636364, 84.72727272727272%, 78.51515151515152%)",
           "hsl(72.9090909090909, 78.63636363636364%, 76.81818181818181%)",
           "hsl(83.33333333333331, 69.66666666666669%, 76.33333333333333%)",
           "hsl(93.75757575757578, 60.69696969696968%, 75.84848484848484%)",
           "hsl(104.18181818181819, 51.72727272727272%, 75.36363636363636%)",
           "hsl(114.96969696969697, 44.81818181818182%, 73.96969696969697%)",
           "hsl(126.84848484848483, 44.09090909090909%, 69.84848484848486%)",
           "hsl(138.72727272727275, 43.36363636363636%, 65.72727272727272%)",
           "hsl(150.60606060606062, 42.63636363636363%, 61.6060606060606%)",
           "hsl(162.24242424242425, 42.484848484848484%, 57.63636363636364%)",
           "hsl(172.1818181818182, 46.36363636363636%, 54.727272727272734%)",
           "hsl(182.12121212121212, 50.24242424242425%, 51.81818181818181%)",
           "hsl(192.06060606060606, 54.121212121212125%, 48.90909090909091%)",
           "hsl(202.0, 58.0%, 46.0%)"
          ]
         },
         "type": "bar",
         "uid": "d74ff188-6390-4d7c-9de8-9499fbdc4a85",
         "x": [
          14,
          15,
          33
         ],
         "y": [
          19,
          14,
          4
         ]
        }
       ],
       "layout": {
        "bargap": 0.2,
        "xaxis": {
         "ticktext": [
          "España",
          "Colombia",
          "México",
          "República Dominicana",
          "Austria",
          "Chile",
          "Francia",
          "Canadá",
          "Nigeria",
          "China",
          "Australia",
          "Rusia",
          "Alemania",
          "Brasil",
          "Estados Unidos de América",
          "India",
          "Eslovaquia",
          "Italia",
          "Inglaterra",
          "Cuba",
          "Ukrania",
          "Venezuela",
          "Indonesia",
          "Albania",
          "Paquistan",
          "Bahamas",
          "Argentina",
          "Islandia",
          "Escocia",
          "Sudán",
          "Nueva Zelanda",
          "Irlanda",
          "Macedonia",
          "Unknown"
         ],
         "tickvals": [
          0,
          1,
          2,
          3,
          4,
          5,
          6,
          7,
          8,
          9,
          10,
          11,
          12,
          13,
          14,
          15,
          16,
          17,
          18,
          19,
          20,
          21,
          22,
          23,
          24,
          25,
          26,
          27,
          28,
          29,
          30,
          31,
          32,
          33
         ]
        }
       }
      },
      "text/html": [
       "<div id=\"a632aa0d-0c52-4025-9bf0-68519c730645\" style=\"height: 525px; width: 100%;\" class=\"plotly-graph-div\"></div><script type=\"text/javascript\">require([\"plotly\"], function(Plotly) { window.PLOTLYENV=window.PLOTLYENV || {};window.PLOTLYENV.BASE_URL=\"https://plot.ly\";\n",
       "if (document.getElementById(\"a632aa0d-0c52-4025-9bf0-68519c730645\")) {\n",
       "    Plotly.newPlot(\"a632aa0d-0c52-4025-9bf0-68519c730645\", [{\"marker\": {\"color\": [\"hsl(353.0, 64.0%, 53.0%)\", \"hsl(358.09090909090907, 69.81818181818181%, 54.696969696969695%)\", \"hsl(3.181818181818187, 75.63636363636364%, 56.39393939393939%)\", \"hsl(8.272727272727252, 81.45454545454545%, 58.09090909090909%)\", \"hsl(13.363636363636374, 87.27272727272728%, 59.78787878787879%)\", \"hsl(17.181818181818183, 89.9090909090909%, 61.696969696969695%)\", \"hsl(20.81818181818182, 92.0909090909091%, 63.63636363636364%)\", \"hsl(24.454545454545453, 94.27272727272728%, 65.57575757575758%)\", \"hsl(28.090909090909093, 96.45454545454545%, 67.51515151515152%)\", \"hsl(31.727272727272727, 97.18181818181819%, 69.63636363636364%)\", \"hsl(35.36363636363637, 97.42424242424242%, 71.81818181818181%)\", \"hsl(39.0, 97.66666666666667%, 74.0%)\", \"hsl(42.63636363636364, 97.9090909090909%, 76.18181818181819%)\", \"hsl(46.42424242424242, 98.3030303030303%, 78.51515151515152%)\", \"hsl(50.303030303030305, 98.78787878787878%, 80.93939393939394%)\", \"hsl(54.18181818181818, 99.27272727272727%, 83.36363636363636%)\", \"hsl(58.06060606060606, 99.75757575757575%, 85.78787878787878%)\", \"hsl(61.09090909090909, 97.81818181818181%, 85.78787878787878%)\", \"hsl(63.272727272727266, 93.45454545454547%, 83.36363636363637%)\", \"hsl(65.45454545454545, 89.09090909090908%, 80.93939393939394%)\", \"hsl(67.63636363636364, 84.72727272727272%, 78.51515151515152%)\", \"hsl(72.9090909090909, 78.63636363636364%, 76.81818181818181%)\", \"hsl(83.33333333333331, 69.66666666666669%, 76.33333333333333%)\", \"hsl(93.75757575757578, 60.69696969696968%, 75.84848484848484%)\", \"hsl(104.18181818181819, 51.72727272727272%, 75.36363636363636%)\", \"hsl(114.96969696969697, 44.81818181818182%, 73.96969696969697%)\", \"hsl(126.84848484848483, 44.09090909090909%, 69.84848484848486%)\", \"hsl(138.72727272727275, 43.36363636363636%, 65.72727272727272%)\", \"hsl(150.60606060606062, 42.63636363636363%, 61.6060606060606%)\", \"hsl(162.24242424242425, 42.484848484848484%, 57.63636363636364%)\", \"hsl(172.1818181818182, 46.36363636363636%, 54.727272727272734%)\", \"hsl(182.12121212121212, 50.24242424242425%, 51.81818181818181%)\", \"hsl(192.06060606060606, 54.121212121212125%, 48.90909090909091%)\", \"hsl(202.0, 58.0%, 46.0%)\"]}, \"x\": [14, 15, 33], \"y\": [19, 14, 4], \"type\": \"bar\", \"uid\": \"d74ff188-6390-4d7c-9de8-9499fbdc4a85\"}], {\"bargap\": 0.2, \"xaxis\": {\"ticktext\": [\"Espa\\u00f1a\", \"Colombia\", \"M\\u00e9xico\", \"Rep\\u00fablica Dominicana\", \"Austria\", \"Chile\", \"Francia\", \"Canad\\u00e1\", \"Nigeria\", \"China\", \"Australia\", \"Rusia\", \"Alemania\", \"Brasil\", \"Estados Unidos de Am\\u00e9rica\", \"India\", \"Eslovaquia\", \"Italia\", \"Inglaterra\", \"Cuba\", \"Ukrania\", \"Venezuela\", \"Indonesia\", \"Albania\", \"Paquistan\", \"Bahamas\", \"Argentina\", \"Islandia\", \"Escocia\", \"Sud\\u00e1n\", \"Nueva Zelanda\", \"Irlanda\", \"Macedonia\", \"Unknown\"], \"tickvals\": [0, 1, 2, 3, 4, 5, 6, 7, 8, 9, 10, 11, 12, 13, 14, 15, 16, 17, 18, 19, 20, 21, 22, 23, 24, 25, 26, 27, 28, 29, 30, 31, 32, 33]}}, {\"showLink\": false, \"linkText\": \"Export to plot.ly\", \"plotlyServerURL\": \"https://plot.ly\"}); \n",
       "}\n",
       "});</script><script type=\"text/javascript\">window.addEventListener(\"resize\", function(){if (document.getElementById(\"a632aa0d-0c52-4025-9bf0-68519c730645\")) {window._Plotly.Plots.resize(document.getElementById(\"a632aa0d-0c52-4025-9bf0-68519c730645\"));};})</script>"
      ],
      "text/vnd.plotly.v1+html": [
       "<div id=\"a632aa0d-0c52-4025-9bf0-68519c730645\" style=\"height: 525px; width: 100%;\" class=\"plotly-graph-div\"></div><script type=\"text/javascript\">require([\"plotly\"], function(Plotly) { window.PLOTLYENV=window.PLOTLYENV || {};window.PLOTLYENV.BASE_URL=\"https://plot.ly\";\n",
       "if (document.getElementById(\"a632aa0d-0c52-4025-9bf0-68519c730645\")) {\n",
       "    Plotly.newPlot(\"a632aa0d-0c52-4025-9bf0-68519c730645\", [{\"marker\": {\"color\": [\"hsl(353.0, 64.0%, 53.0%)\", \"hsl(358.09090909090907, 69.81818181818181%, 54.696969696969695%)\", \"hsl(3.181818181818187, 75.63636363636364%, 56.39393939393939%)\", \"hsl(8.272727272727252, 81.45454545454545%, 58.09090909090909%)\", \"hsl(13.363636363636374, 87.27272727272728%, 59.78787878787879%)\", \"hsl(17.181818181818183, 89.9090909090909%, 61.696969696969695%)\", \"hsl(20.81818181818182, 92.0909090909091%, 63.63636363636364%)\", \"hsl(24.454545454545453, 94.27272727272728%, 65.57575757575758%)\", \"hsl(28.090909090909093, 96.45454545454545%, 67.51515151515152%)\", \"hsl(31.727272727272727, 97.18181818181819%, 69.63636363636364%)\", \"hsl(35.36363636363637, 97.42424242424242%, 71.81818181818181%)\", \"hsl(39.0, 97.66666666666667%, 74.0%)\", \"hsl(42.63636363636364, 97.9090909090909%, 76.18181818181819%)\", \"hsl(46.42424242424242, 98.3030303030303%, 78.51515151515152%)\", \"hsl(50.303030303030305, 98.78787878787878%, 80.93939393939394%)\", \"hsl(54.18181818181818, 99.27272727272727%, 83.36363636363636%)\", \"hsl(58.06060606060606, 99.75757575757575%, 85.78787878787878%)\", \"hsl(61.09090909090909, 97.81818181818181%, 85.78787878787878%)\", \"hsl(63.272727272727266, 93.45454545454547%, 83.36363636363637%)\", \"hsl(65.45454545454545, 89.09090909090908%, 80.93939393939394%)\", \"hsl(67.63636363636364, 84.72727272727272%, 78.51515151515152%)\", \"hsl(72.9090909090909, 78.63636363636364%, 76.81818181818181%)\", \"hsl(83.33333333333331, 69.66666666666669%, 76.33333333333333%)\", \"hsl(93.75757575757578, 60.69696969696968%, 75.84848484848484%)\", \"hsl(104.18181818181819, 51.72727272727272%, 75.36363636363636%)\", \"hsl(114.96969696969697, 44.81818181818182%, 73.96969696969697%)\", \"hsl(126.84848484848483, 44.09090909090909%, 69.84848484848486%)\", \"hsl(138.72727272727275, 43.36363636363636%, 65.72727272727272%)\", \"hsl(150.60606060606062, 42.63636363636363%, 61.6060606060606%)\", \"hsl(162.24242424242425, 42.484848484848484%, 57.63636363636364%)\", \"hsl(172.1818181818182, 46.36363636363636%, 54.727272727272734%)\", \"hsl(182.12121212121212, 50.24242424242425%, 51.81818181818181%)\", \"hsl(192.06060606060606, 54.121212121212125%, 48.90909090909091%)\", \"hsl(202.0, 58.0%, 46.0%)\"]}, \"x\": [14, 15, 33], \"y\": [19, 14, 4], \"type\": \"bar\", \"uid\": \"d74ff188-6390-4d7c-9de8-9499fbdc4a85\"}], {\"bargap\": 0.2, \"xaxis\": {\"ticktext\": [\"Espa\\u00f1a\", \"Colombia\", \"M\\u00e9xico\", \"Rep\\u00fablica Dominicana\", \"Austria\", \"Chile\", \"Francia\", \"Canad\\u00e1\", \"Nigeria\", \"China\", \"Australia\", \"Rusia\", \"Alemania\", \"Brasil\", \"Estados Unidos de Am\\u00e9rica\", \"India\", \"Eslovaquia\", \"Italia\", \"Inglaterra\", \"Cuba\", \"Ukrania\", \"Venezuela\", \"Indonesia\", \"Albania\", \"Paquistan\", \"Bahamas\", \"Argentina\", \"Islandia\", \"Escocia\", \"Sud\\u00e1n\", \"Nueva Zelanda\", \"Irlanda\", \"Macedonia\", \"Unknown\"], \"tickvals\": [0, 1, 2, 3, 4, 5, 6, 7, 8, 9, 10, 11, 12, 13, 14, 15, 16, 17, 18, 19, 20, 21, 22, 23, 24, 25, 26, 27, 28, 29, 30, 31, 32, 33]}}, {\"showLink\": false, \"linkText\": \"Export to plot.ly\", \"plotlyServerURL\": \"https://plot.ly\"}); \n",
       "}\n",
       "});</script><script type=\"text/javascript\">window.addEventListener(\"resize\", function(){if (document.getElementById(\"a632aa0d-0c52-4025-9bf0-68519c730645\")) {window._Plotly.Plots.resize(document.getElementById(\"a632aa0d-0c52-4025-9bf0-68519c730645\"));};})</script>"
      ]
     },
     "metadata": {},
     "output_type": "display_data"
    },
    {
     "name": "stdout",
     "output_type": "stream",
     "text": [
      "\n",
      "\n",
      "Cluster 1 || variable: Nivel de estudios\n",
      "Describiendo la pregunta Nivel de estudios\n",
      "Valores numéricos asociados a las respuestas [0, 1, 2, 3, 4, 5]\n",
      "Respuestas posibles a la pregunta/variable ['Educación Primaria', 'Sin terminar Educación Secundaria Obligatoria', 'Terminada Educación Secundaria Obligatoria', 'FP', 'Universitario sin graduar', 'Universitario graduado']\n"
     ]
    },
    {
     "data": {
      "text/plain": [
       "count    37.000000\n",
       "mean      3.972973\n",
       "std       1.384166\n",
       "min       0.000000\n",
       "25%       4.000000\n",
       "50%       5.000000\n",
       "75%       5.000000\n",
       "max       5.000000\n",
       "Name: Nivel de estudios, dtype: float64"
      ]
     },
     "metadata": {},
     "output_type": "display_data"
    },
    {
     "name": "stdout",
     "output_type": "stream",
     "text": [
      "Conteo de cada valor en Nivel de estudios expresada como valor / cantidad\n"
     ]
    },
    {
     "data": {
      "text/plain": [
       "0     1\n",
       "1     1\n",
       "2     6\n",
       "3     1\n",
       "4     9\n",
       "5    19\n",
       "Name: Nivel de estudios, dtype: int64"
      ]
     },
     "metadata": {},
     "output_type": "display_data"
    },
    {
     "name": "stdout",
     "output_type": "stream",
     "text": [
      "Porcentaje de cada valor en Nivel de estudios expresado como valor / porcentaje\n"
     ]
    },
    {
     "data": {
      "text/plain": [
       "0     2.70\n",
       "1     2.70\n",
       "2    16.22\n",
       "3     2.70\n",
       "4    24.32\n",
       "5    51.35\n",
       "Name: Nivel de estudios, dtype: float64"
      ]
     },
     "metadata": {},
     "output_type": "display_data"
    },
    {
     "data": {
      "application/vnd.plotly.v1+json": {
       "config": {
        "linkText": "Export to plot.ly",
        "plotlyServerURL": "https://plot.ly",
        "showLink": false
       },
       "data": [
        {
         "marker": {
          "color": [
           "rgb(213,62,79)",
           "rgb(252,141,89)",
           "rgb(254,224,139)",
           "rgb(230,245,152)",
           "rgb(153,213,148)",
           "rgb(50,136,189)"
          ]
         },
         "type": "bar",
         "uid": "ef804bf1-ed79-4202-acb6-91eb7f7ca460",
         "x": [
          0,
          1,
          2,
          3,
          4,
          5
         ],
         "y": [
          1,
          1,
          6,
          1,
          9,
          19
         ]
        }
       ],
       "layout": {
        "bargap": 0.2,
        "xaxis": {
         "ticktext": [
          "Educación Primaria",
          "Sin terminar Educación Secundaria Obligatoria",
          "Terminada Educación Secundaria Obligatoria",
          "FP",
          "Universitario sin graduar",
          "Universitario graduado"
         ],
         "tickvals": [
          0,
          1,
          2,
          3,
          4,
          5
         ]
        }
       }
      },
      "text/html": [
       "<div id=\"285dd69b-4522-4023-bfa0-1ca553c40292\" style=\"height: 525px; width: 100%;\" class=\"plotly-graph-div\"></div><script type=\"text/javascript\">require([\"plotly\"], function(Plotly) { window.PLOTLYENV=window.PLOTLYENV || {};window.PLOTLYENV.BASE_URL=\"https://plot.ly\";\n",
       "if (document.getElementById(\"285dd69b-4522-4023-bfa0-1ca553c40292\")) {\n",
       "    Plotly.newPlot(\"285dd69b-4522-4023-bfa0-1ca553c40292\", [{\"marker\": {\"color\": [\"rgb(213,62,79)\", \"rgb(252,141,89)\", \"rgb(254,224,139)\", \"rgb(230,245,152)\", \"rgb(153,213,148)\", \"rgb(50,136,189)\"]}, \"x\": [0, 1, 2, 3, 4, 5], \"y\": [1, 1, 6, 1, 9, 19], \"type\": \"bar\", \"uid\": \"ef804bf1-ed79-4202-acb6-91eb7f7ca460\"}], {\"bargap\": 0.2, \"xaxis\": {\"ticktext\": [\"Educaci\\u00f3n Primaria\", \"Sin terminar Educaci\\u00f3n Secundaria Obligatoria\", \"Terminada Educaci\\u00f3n Secundaria Obligatoria\", \"FP\", \"Universitario sin graduar\", \"Universitario graduado\"], \"tickvals\": [0, 1, 2, 3, 4, 5]}}, {\"showLink\": false, \"linkText\": \"Export to plot.ly\", \"plotlyServerURL\": \"https://plot.ly\"}); \n",
       "}\n",
       "});</script><script type=\"text/javascript\">window.addEventListener(\"resize\", function(){if (document.getElementById(\"285dd69b-4522-4023-bfa0-1ca553c40292\")) {window._Plotly.Plots.resize(document.getElementById(\"285dd69b-4522-4023-bfa0-1ca553c40292\"));};})</script>"
      ],
      "text/vnd.plotly.v1+html": [
       "<div id=\"285dd69b-4522-4023-bfa0-1ca553c40292\" style=\"height: 525px; width: 100%;\" class=\"plotly-graph-div\"></div><script type=\"text/javascript\">require([\"plotly\"], function(Plotly) { window.PLOTLYENV=window.PLOTLYENV || {};window.PLOTLYENV.BASE_URL=\"https://plot.ly\";\n",
       "if (document.getElementById(\"285dd69b-4522-4023-bfa0-1ca553c40292\")) {\n",
       "    Plotly.newPlot(\"285dd69b-4522-4023-bfa0-1ca553c40292\", [{\"marker\": {\"color\": [\"rgb(213,62,79)\", \"rgb(252,141,89)\", \"rgb(254,224,139)\", \"rgb(230,245,152)\", \"rgb(153,213,148)\", \"rgb(50,136,189)\"]}, \"x\": [0, 1, 2, 3, 4, 5], \"y\": [1, 1, 6, 1, 9, 19], \"type\": \"bar\", \"uid\": \"ef804bf1-ed79-4202-acb6-91eb7f7ca460\"}], {\"bargap\": 0.2, \"xaxis\": {\"ticktext\": [\"Educaci\\u00f3n Primaria\", \"Sin terminar Educaci\\u00f3n Secundaria Obligatoria\", \"Terminada Educaci\\u00f3n Secundaria Obligatoria\", \"FP\", \"Universitario sin graduar\", \"Universitario graduado\"], \"tickvals\": [0, 1, 2, 3, 4, 5]}}, {\"showLink\": false, \"linkText\": \"Export to plot.ly\", \"plotlyServerURL\": \"https://plot.ly\"}); \n",
       "}\n",
       "});</script><script type=\"text/javascript\">window.addEventListener(\"resize\", function(){if (document.getElementById(\"285dd69b-4522-4023-bfa0-1ca553c40292\")) {window._Plotly.Plots.resize(document.getElementById(\"285dd69b-4522-4023-bfa0-1ca553c40292\"));};})</script>"
      ]
     },
     "metadata": {},
     "output_type": "display_data"
    }
   ],
   "source": [
    "visualize_personal_info_by_prosume_clusters_esp(dataframe_with_clusters_esp)"
   ]
  },
  {
   "cell_type": "code",
   "execution_count": 8,
   "metadata": {
    "scrolled": false
   },
   "outputs": [],
   "source": [
    "# visualize_personal_info_by_prosume_clusters_en(dataframe_with_clusters_en)"
   ]
  },
  {
   "cell_type": "code",
   "execution_count": null,
   "metadata": {},
   "outputs": [],
   "source": []
  }
 ],
 "metadata": {
  "kernelspec": {
   "display_name": "Python 3",
   "language": "python",
   "name": "python3"
  },
  "language_info": {
   "codemirror_mode": {
    "name": "ipython",
    "version": 3
   },
   "file_extension": ".py",
   "mimetype": "text/x-python",
   "name": "python",
   "nbconvert_exporter": "python",
   "pygments_lexer": "ipython3",
   "version": "3.6.8"
  }
 },
 "nbformat": 4,
 "nbformat_minor": 2
}

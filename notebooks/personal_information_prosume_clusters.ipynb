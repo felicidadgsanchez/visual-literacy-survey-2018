{
 "cells": [
  {
   "cell_type": "code",
   "execution_count": 1,
   "metadata": {},
   "outputs": [
    {
     "name": "stdout",
     "output_type": "stream",
     "text": [
      "Importing Jupyter notebook from data_preparation.ipynb\n",
      "Importing Jupyter notebook from prosume_clustering.ipynb\n"
     ]
    }
   ],
   "source": [
    "import nbimporter\n",
    "from data_preparation import *\n",
    "from prosume_clustering import * "
   ]
  },
  {
   "cell_type": "code",
   "execution_count": 2,
   "metadata": {},
   "outputs": [
    {
     "data": {
      "text/html": [
       "<script type=\"text/javascript\">window.PlotlyConfig = {MathJaxConfig: 'local'};</script><script type=\"text/javascript\">if (window.MathJax) {MathJax.Hub.Config({SVG: {font: \"STIX-Web\"}});}</script><script>requirejs.config({paths: { 'plotly': ['https://cdn.plot.ly/plotly-latest.min']},});if(!window._Plotly) {require(['plotly'],function(plotly) {window._Plotly=plotly;});}</script>"
      ],
      "text/vnd.plotly.v1+html": [
       "<script type=\"text/javascript\">window.PlotlyConfig = {MathJaxConfig: 'local'};</script><script type=\"text/javascript\">if (window.MathJax) {MathJax.Hub.Config({SVG: {font: \"STIX-Web\"}});}</script><script>requirejs.config({paths: { 'plotly': ['https://cdn.plot.ly/plotly-latest.min']},});if(!window._Plotly) {require(['plotly'],function(plotly) {window._Plotly=plotly;});}</script>"
      ]
     },
     "metadata": {},
     "output_type": "display_data"
    }
   ],
   "source": [
    "import matplotlib.pyplot as plt\n",
    "plt.style.use('fivethirtyeight')\n",
    "import colorlover as cl\n",
    "import plotly_express as px\n",
    "\n",
    "from plotly.offline import download_plotlyjs, init_notebook_mode, plot, iplot\n",
    "import plotly.graph_objs as go\n",
    "init_notebook_mode(connected=True)"
   ]
  },
  {
   "cell_type": "code",
   "execution_count": 3,
   "metadata": {},
   "outputs": [
    {
     "name": "stderr",
     "output_type": "stream",
     "text": [
      "prosume_clustering.ipynb:17: DataConversionWarning:\n",
      "\n",
      "Data with input dtype int64 were all converted to float64 by the scale function.\n",
      "\n"
     ]
    },
    {
     "data": {
      "text/html": [
       "<div>\n",
       "<style scoped>\n",
       "    .dataframe tbody tr th:only-of-type {\n",
       "        vertical-align: middle;\n",
       "    }\n",
       "\n",
       "    .dataframe tbody tr th {\n",
       "        vertical-align: top;\n",
       "    }\n",
       "\n",
       "    .dataframe thead th {\n",
       "        text-align: right;\n",
       "    }\n",
       "</style>\n",
       "<table border=\"1\" class=\"dataframe\">\n",
       "  <thead>\n",
       "    <tr style=\"text-align: right;\">\n",
       "      <th></th>\n",
       "      <th>Cuando compartes imágenes, ¿habitualmente las envías a otras personas?</th>\n",
       "      <th>Cuando compartes imágenes, ¿habitualmente las produces tú?</th>\n",
       "      <th>Cuando compartes imágenes, ¿habitualmente las recibes de otras personas?</th>\n",
       "      <th>Cuando generas una imagen, ¿qué tipo de dispositivo usas? (Respuesta múltiple) [1. Cámara de fotos]</th>\n",
       "      <th>Cuando generas una imagen, ¿qué tipo de dispositivo usas? (Respuesta múltiple) [2. Teléfono móvil]</th>\n",
       "      <th>Cuando generas una imagen, ¿qué tipo de dispositivo usas? (Respuesta múltiple) [3. Tableta]</th>\n",
       "      <th>Cuando produces imágenes, ¿cuánto tiempo dedicas a prepararlas? (minutos)</th>\n",
       "      <th>Cuando produces imágenes, ¿piensas en la imagen que quieres crear antes de hacerla?</th>\n",
       "      <th>Dentro de tus redes sociales o aplicaciones móviles, ¿se comparte información visual que tú no buscas (campañas de concienciación social, chistes, publicidad, etc.)?</th>\n",
       "      <th>En tu entorno, ¿las personas que utilizan la tecnología crean imágenes y las comparten?</th>\n",
       "      <th>...</th>\n",
       "      <th>¿Qué tipo de aplicaciones utilizas en tu ordenador/tableta/móvil? (Respuesta múltiple) [1. Apps de contenidos audiovisuales (Netflix, HBO, etc.)]</th>\n",
       "      <th>¿Qué tipo de aplicaciones utilizas en tu ordenador/tableta/móvil? (Respuesta múltiple) [2. Aplicaciones de mensajería (Whatsapp, Facebook Messenger, etc.)]</th>\n",
       "      <th>¿Qué tipo de aplicaciones utilizas en tu ordenador/tableta/móvil? (Respuesta múltiple) [3. Bibliotecas de fotos online (Google Photos, iPhoto, etc.)]</th>\n",
       "      <th>¿Qué tipo de aplicaciones utilizas en tu ordenador/tableta/móvil? (Respuesta múltiple) [4. Redes sociales (Facebook, Instagram, Twitter, etc.).]</th>\n",
       "      <th>¿Qué tipo de aplicaciones utilizas en tu ordenador/tableta/móvil? (Respuesta múltiple) [5. Aplicaciones de vídeo (Youtube, Vimeo, etc.).]</th>\n",
       "      <th>¿Te gusta seguir a personas que admiras en redes sociales? ¿Eres fan o follower de alguna? ¿En ocasiones escribes comentarios en sus publicaciones?</th>\n",
       "      <th>¿Tienes acceso a dispositivos (ordenador, móvil, tablet, etc.) conectados a Internet habitualmente?</th>\n",
       "      <th>¿Tienes alguna carencia visual que afecte a la recepción de formas, colores, distancias, etc.?</th>\n",
       "      <th>¿Utilizas gafas o lentes de contacto?</th>\n",
       "      <th>prosume_cluster</th>\n",
       "    </tr>\n",
       "  </thead>\n",
       "  <tbody>\n",
       "    <tr>\n",
       "      <th>0</th>\n",
       "      <td>3</td>\n",
       "      <td>4</td>\n",
       "      <td>3</td>\n",
       "      <td>0</td>\n",
       "      <td>1</td>\n",
       "      <td>0</td>\n",
       "      <td>1.0</td>\n",
       "      <td>3</td>\n",
       "      <td>4</td>\n",
       "      <td>4</td>\n",
       "      <td>...</td>\n",
       "      <td>1</td>\n",
       "      <td>1</td>\n",
       "      <td>1</td>\n",
       "      <td>1</td>\n",
       "      <td>1</td>\n",
       "      <td>3</td>\n",
       "      <td>5</td>\n",
       "      <td>0</td>\n",
       "      <td>1</td>\n",
       "      <td>5</td>\n",
       "    </tr>\n",
       "    <tr>\n",
       "      <th>1</th>\n",
       "      <td>5</td>\n",
       "      <td>4</td>\n",
       "      <td>5</td>\n",
       "      <td>0</td>\n",
       "      <td>1</td>\n",
       "      <td>0</td>\n",
       "      <td>1.0</td>\n",
       "      <td>5</td>\n",
       "      <td>5</td>\n",
       "      <td>5</td>\n",
       "      <td>...</td>\n",
       "      <td>1</td>\n",
       "      <td>1</td>\n",
       "      <td>0</td>\n",
       "      <td>0</td>\n",
       "      <td>1</td>\n",
       "      <td>1</td>\n",
       "      <td>5</td>\n",
       "      <td>0</td>\n",
       "      <td>1</td>\n",
       "      <td>5</td>\n",
       "    </tr>\n",
       "    <tr>\n",
       "      <th>2</th>\n",
       "      <td>3</td>\n",
       "      <td>4</td>\n",
       "      <td>4</td>\n",
       "      <td>0</td>\n",
       "      <td>1</td>\n",
       "      <td>0</td>\n",
       "      <td>1.0</td>\n",
       "      <td>5</td>\n",
       "      <td>4</td>\n",
       "      <td>4</td>\n",
       "      <td>...</td>\n",
       "      <td>1</td>\n",
       "      <td>1</td>\n",
       "      <td>1</td>\n",
       "      <td>1</td>\n",
       "      <td>1</td>\n",
       "      <td>3</td>\n",
       "      <td>5</td>\n",
       "      <td>0</td>\n",
       "      <td>1</td>\n",
       "      <td>5</td>\n",
       "    </tr>\n",
       "    <tr>\n",
       "      <th>3</th>\n",
       "      <td>4</td>\n",
       "      <td>4</td>\n",
       "      <td>2</td>\n",
       "      <td>1</td>\n",
       "      <td>1</td>\n",
       "      <td>0</td>\n",
       "      <td>10.0</td>\n",
       "      <td>5</td>\n",
       "      <td>1</td>\n",
       "      <td>4</td>\n",
       "      <td>...</td>\n",
       "      <td>0</td>\n",
       "      <td>1</td>\n",
       "      <td>1</td>\n",
       "      <td>1</td>\n",
       "      <td>1</td>\n",
       "      <td>3</td>\n",
       "      <td>5</td>\n",
       "      <td>0</td>\n",
       "      <td>1</td>\n",
       "      <td>5</td>\n",
       "    </tr>\n",
       "    <tr>\n",
       "      <th>4</th>\n",
       "      <td>4</td>\n",
       "      <td>3</td>\n",
       "      <td>4</td>\n",
       "      <td>1</td>\n",
       "      <td>1</td>\n",
       "      <td>0</td>\n",
       "      <td>10.0</td>\n",
       "      <td>3</td>\n",
       "      <td>3</td>\n",
       "      <td>5</td>\n",
       "      <td>...</td>\n",
       "      <td>0</td>\n",
       "      <td>1</td>\n",
       "      <td>0</td>\n",
       "      <td>1</td>\n",
       "      <td>1</td>\n",
       "      <td>2</td>\n",
       "      <td>5</td>\n",
       "      <td>0</td>\n",
       "      <td>1</td>\n",
       "      <td>2</td>\n",
       "    </tr>\n",
       "  </tbody>\n",
       "</table>\n",
       "<p>5 rows × 79 columns</p>\n",
       "</div>"
      ],
      "text/plain": [
       "   Cuando compartes imágenes, ¿habitualmente las envías a otras personas?  \\\n",
       "0                                                  3                        \n",
       "1                                                  5                        \n",
       "2                                                  3                        \n",
       "3                                                  4                        \n",
       "4                                                  4                        \n",
       "\n",
       "   Cuando compartes imágenes, ¿habitualmente las produces tú?  \\\n",
       "0                                                  4            \n",
       "1                                                  4            \n",
       "2                                                  4            \n",
       "3                                                  4            \n",
       "4                                                  3            \n",
       "\n",
       "   Cuando compartes imágenes, ¿habitualmente las recibes de otras personas?  \\\n",
       "0                                                  3                          \n",
       "1                                                  5                          \n",
       "2                                                  4                          \n",
       "3                                                  2                          \n",
       "4                                                  4                          \n",
       "\n",
       "   Cuando generas una imagen, ¿qué tipo de dispositivo usas? (Respuesta múltiple) [1. Cámara de fotos]  \\\n",
       "0                                                  0                                                     \n",
       "1                                                  0                                                     \n",
       "2                                                  0                                                     \n",
       "3                                                  1                                                     \n",
       "4                                                  1                                                     \n",
       "\n",
       "   Cuando generas una imagen, ¿qué tipo de dispositivo usas? (Respuesta múltiple) [2. Teléfono móvil]  \\\n",
       "0                                                  1                                                    \n",
       "1                                                  1                                                    \n",
       "2                                                  1                                                    \n",
       "3                                                  1                                                    \n",
       "4                                                  1                                                    \n",
       "\n",
       "   Cuando generas una imagen, ¿qué tipo de dispositivo usas? (Respuesta múltiple) [3. Tableta]  \\\n",
       "0                                                  0                                             \n",
       "1                                                  0                                             \n",
       "2                                                  0                                             \n",
       "3                                                  0                                             \n",
       "4                                                  0                                             \n",
       "\n",
       "   Cuando produces imágenes, ¿cuánto tiempo dedicas a prepararlas? (minutos)  \\\n",
       "0                                                1.0                           \n",
       "1                                                1.0                           \n",
       "2                                                1.0                           \n",
       "3                                               10.0                           \n",
       "4                                               10.0                           \n",
       "\n",
       "   Cuando produces imágenes, ¿piensas en la imagen que quieres crear antes de hacerla?  \\\n",
       "0                                                  3                                     \n",
       "1                                                  5                                     \n",
       "2                                                  5                                     \n",
       "3                                                  5                                     \n",
       "4                                                  3                                     \n",
       "\n",
       "   Dentro de tus redes sociales o aplicaciones móviles, ¿se comparte información visual que tú no buscas (campañas de concienciación social, chistes, publicidad, etc.)?  \\\n",
       "0                                                  4                                                                                                                       \n",
       "1                                                  5                                                                                                                       \n",
       "2                                                  4                                                                                                                       \n",
       "3                                                  1                                                                                                                       \n",
       "4                                                  3                                                                                                                       \n",
       "\n",
       "   En tu entorno, ¿las personas que utilizan la tecnología crean imágenes y las comparten?  \\\n",
       "0                                                  4                                         \n",
       "1                                                  5                                         \n",
       "2                                                  4                                         \n",
       "3                                                  4                                         \n",
       "4                                                  5                                         \n",
       "\n",
       "        ...         \\\n",
       "0       ...          \n",
       "1       ...          \n",
       "2       ...          \n",
       "3       ...          \n",
       "4       ...          \n",
       "\n",
       "   ¿Qué tipo de aplicaciones utilizas en tu ordenador/tableta/móvil? (Respuesta múltiple) [1. Apps de contenidos audiovisuales (Netflix, HBO, etc.)]  \\\n",
       "0                                                  1                                                                                                   \n",
       "1                                                  1                                                                                                   \n",
       "2                                                  1                                                                                                   \n",
       "3                                                  0                                                                                                   \n",
       "4                                                  0                                                                                                   \n",
       "\n",
       "   ¿Qué tipo de aplicaciones utilizas en tu ordenador/tableta/móvil? (Respuesta múltiple) [2. Aplicaciones de mensajería (Whatsapp, Facebook Messenger, etc.)]  \\\n",
       "0                                                  1                                                                                                             \n",
       "1                                                  1                                                                                                             \n",
       "2                                                  1                                                                                                             \n",
       "3                                                  1                                                                                                             \n",
       "4                                                  1                                                                                                             \n",
       "\n",
       "   ¿Qué tipo de aplicaciones utilizas en tu ordenador/tableta/móvil? (Respuesta múltiple) [3. Bibliotecas de fotos online (Google Photos, iPhoto, etc.)]  \\\n",
       "0                                                  1                                                                                                       \n",
       "1                                                  0                                                                                                       \n",
       "2                                                  1                                                                                                       \n",
       "3                                                  1                                                                                                       \n",
       "4                                                  0                                                                                                       \n",
       "\n",
       "   ¿Qué tipo de aplicaciones utilizas en tu ordenador/tableta/móvil? (Respuesta múltiple) [4. Redes sociales (Facebook, Instagram, Twitter, etc.).]  \\\n",
       "0                                                  1                                                                                                  \n",
       "1                                                  0                                                                                                  \n",
       "2                                                  1                                                                                                  \n",
       "3                                                  1                                                                                                  \n",
       "4                                                  1                                                                                                  \n",
       "\n",
       "   ¿Qué tipo de aplicaciones utilizas en tu ordenador/tableta/móvil? (Respuesta múltiple) [5. Aplicaciones de vídeo (Youtube, Vimeo, etc.).]  \\\n",
       "0                                                  1                                                                                           \n",
       "1                                                  1                                                                                           \n",
       "2                                                  1                                                                                           \n",
       "3                                                  1                                                                                           \n",
       "4                                                  1                                                                                           \n",
       "\n",
       "   ¿Te gusta seguir a personas que admiras en redes sociales? ¿Eres fan o follower de alguna? ¿En ocasiones escribes comentarios en sus publicaciones?  \\\n",
       "0                                                  3                                                                                                     \n",
       "1                                                  1                                                                                                     \n",
       "2                                                  3                                                                                                     \n",
       "3                                                  3                                                                                                     \n",
       "4                                                  2                                                                                                     \n",
       "\n",
       "   ¿Tienes acceso a dispositivos (ordenador, móvil, tablet, etc.) conectados a Internet habitualmente?  \\\n",
       "0                                                  5                                                     \n",
       "1                                                  5                                                     \n",
       "2                                                  5                                                     \n",
       "3                                                  5                                                     \n",
       "4                                                  5                                                     \n",
       "\n",
       "   ¿Tienes alguna carencia visual que afecte a la recepción de formas, colores, distancias, etc.?  \\\n",
       "0                                                  0                                                \n",
       "1                                                  0                                                \n",
       "2                                                  0                                                \n",
       "3                                                  0                                                \n",
       "4                                                  0                                                \n",
       "\n",
       "   ¿Utilizas gafas o lentes de contacto?  prosume_cluster  \n",
       "0                                      1                5  \n",
       "1                                      1                5  \n",
       "2                                      1                5  \n",
       "3                                      1                5  \n",
       "4                                      1                2  \n",
       "\n",
       "[5 rows x 79 columns]"
      ]
     },
     "execution_count": 3,
     "metadata": {},
     "output_type": "execute_result"
    }
   ],
   "source": [
    "dataframe_with_clusters_esp = get_dataframe_with_clusters_esp(get_dataframe_analysis_esp(True), 32)\n",
    "dataframe_with_clusters_esp.head()"
   ]
  },
  {
   "cell_type": "code",
   "execution_count": 4,
   "metadata": {},
   "outputs": [
    {
     "name": "stderr",
     "output_type": "stream",
     "text": [
      "prosume_clustering.ipynb:17: DataConversionWarning:\n",
      "\n",
      "Data with input dtype int64 were all converted to float64 by the scale function.\n",
      "\n"
     ]
    },
    {
     "data": {
      "text/html": [
       "<div>\n",
       "<style scoped>\n",
       "    .dataframe tbody tr th:only-of-type {\n",
       "        vertical-align: middle;\n",
       "    }\n",
       "\n",
       "    .dataframe tbody tr th {\n",
       "        vertical-align: top;\n",
       "    }\n",
       "\n",
       "    .dataframe thead th {\n",
       "        text-align: right;\n",
       "    }\n",
       "</style>\n",
       "<table border=\"1\" class=\"dataframe\">\n",
       "  <thead>\n",
       "    <tr style=\"text-align: right;\">\n",
       "      <th></th>\n",
       "      <th>Do you repeat the images until you get the expected result?</th>\n",
       "      <th>How much of your consumption of digital images comes from digital media (digital press, internet, television,etc.) and how much by analogical means?</th>\n",
       "      <th>How often do you produce images?</th>\n",
       "      <th>If you answered that you NEVER produce or consume images, why do not you use them? (Multiple answer) [1. I do not like]</th>\n",
       "      <th>If you answered that you NEVER produce or consume images, why do not you use them? (Multiple answer) [2. I do not know how they are made]</th>\n",
       "      <th>If you answered that you NEVER produce or consume images, why do not you use them? (Multiple answer) [3. I do not use technology]</th>\n",
       "      <th>If you answered that you NEVER produce or consume images, why do not you use them? (Multiple answer) [4. When I share them, I do not know what they mean]</th>\n",
       "      <th>If you answered that you NEVER produce or consume images, why do not you use them? (Multiple answer) [5. Because they take up a lot of space]</th>\n",
       "      <th>If you answered that you NEVER produce or consume images, why do not you use them? (Multiple answer) [6. I find it useless]</th>\n",
       "      <th>If you find that suggested information, what is your attitude?</th>\n",
       "      <th>...</th>\n",
       "      <th>When you receive/ consume images... (select the option / options with which you identify yourself) [2. I wonder if they mean something to me]</th>\n",
       "      <th>When you receive/ consume images... (select the option / options with which you identify yourself) [3. I observe the moment and context in which they appear]</th>\n",
       "      <th>When you share images on social networks, do the text companions follow the indications suggested by the applications (labeling, explanation of the image, inspiring text, etc.)?</th>\n",
       "      <th>When you take photos from any of the media at your fingertips, do the process facilitate the options offered by the applications (filter application, cuts, graphic editing, etc.)?</th>\n",
       "      <th>When you use social networks, do you consider that being accepted as a member of a group is more important than having autonomy and independence?</th>\n",
       "      <th>Which of the paired images do you find most attractive? 1/2 2/2.1</th>\n",
       "      <th>Which of the paired images do you find most attractive? 1/2 2/2.2</th>\n",
       "      <th>Which of the paired images do you find most attractive? 1/2 2/2.3</th>\n",
       "      <th>Which of the paired images do you find most attractive? 1/2 2/2.4</th>\n",
       "      <th>prosume_cluster</th>\n",
       "    </tr>\n",
       "  </thead>\n",
       "  <tbody>\n",
       "    <tr>\n",
       "      <th>0</th>\n",
       "      <td>1</td>\n",
       "      <td>3</td>\n",
       "      <td>5</td>\n",
       "      <td>0</td>\n",
       "      <td>0</td>\n",
       "      <td>0</td>\n",
       "      <td>0</td>\n",
       "      <td>0</td>\n",
       "      <td>0</td>\n",
       "      <td>1</td>\n",
       "      <td>...</td>\n",
       "      <td>1</td>\n",
       "      <td>0</td>\n",
       "      <td>1</td>\n",
       "      <td>3</td>\n",
       "      <td>1</td>\n",
       "      <td>1</td>\n",
       "      <td>2</td>\n",
       "      <td>2</td>\n",
       "      <td>2</td>\n",
       "      <td>5</td>\n",
       "    </tr>\n",
       "    <tr>\n",
       "      <th>1</th>\n",
       "      <td>0</td>\n",
       "      <td>3</td>\n",
       "      <td>5</td>\n",
       "      <td>0</td>\n",
       "      <td>0</td>\n",
       "      <td>0</td>\n",
       "      <td>0</td>\n",
       "      <td>0</td>\n",
       "      <td>0</td>\n",
       "      <td>1</td>\n",
       "      <td>...</td>\n",
       "      <td>1</td>\n",
       "      <td>0</td>\n",
       "      <td>3</td>\n",
       "      <td>3</td>\n",
       "      <td>2</td>\n",
       "      <td>2</td>\n",
       "      <td>2</td>\n",
       "      <td>2</td>\n",
       "      <td>2</td>\n",
       "      <td>5</td>\n",
       "    </tr>\n",
       "    <tr>\n",
       "      <th>2</th>\n",
       "      <td>1</td>\n",
       "      <td>1</td>\n",
       "      <td>4</td>\n",
       "      <td>0</td>\n",
       "      <td>0</td>\n",
       "      <td>0</td>\n",
       "      <td>0</td>\n",
       "      <td>0</td>\n",
       "      <td>0</td>\n",
       "      <td>1</td>\n",
       "      <td>...</td>\n",
       "      <td>1</td>\n",
       "      <td>1</td>\n",
       "      <td>3</td>\n",
       "      <td>5</td>\n",
       "      <td>2</td>\n",
       "      <td>1</td>\n",
       "      <td>1</td>\n",
       "      <td>2</td>\n",
       "      <td>2</td>\n",
       "      <td>5</td>\n",
       "    </tr>\n",
       "    <tr>\n",
       "      <th>3</th>\n",
       "      <td>1</td>\n",
       "      <td>2</td>\n",
       "      <td>4</td>\n",
       "      <td>0</td>\n",
       "      <td>0</td>\n",
       "      <td>0</td>\n",
       "      <td>0</td>\n",
       "      <td>0</td>\n",
       "      <td>0</td>\n",
       "      <td>1</td>\n",
       "      <td>...</td>\n",
       "      <td>0</td>\n",
       "      <td>1</td>\n",
       "      <td>5</td>\n",
       "      <td>5</td>\n",
       "      <td>2</td>\n",
       "      <td>1</td>\n",
       "      <td>2</td>\n",
       "      <td>2</td>\n",
       "      <td>1</td>\n",
       "      <td>5</td>\n",
       "    </tr>\n",
       "    <tr>\n",
       "      <th>4</th>\n",
       "      <td>1</td>\n",
       "      <td>2</td>\n",
       "      <td>5</td>\n",
       "      <td>0</td>\n",
       "      <td>0</td>\n",
       "      <td>0</td>\n",
       "      <td>0</td>\n",
       "      <td>0</td>\n",
       "      <td>0</td>\n",
       "      <td>1</td>\n",
       "      <td>...</td>\n",
       "      <td>0</td>\n",
       "      <td>1</td>\n",
       "      <td>4</td>\n",
       "      <td>3</td>\n",
       "      <td>2</td>\n",
       "      <td>1</td>\n",
       "      <td>2</td>\n",
       "      <td>2</td>\n",
       "      <td>2</td>\n",
       "      <td>2</td>\n",
       "    </tr>\n",
       "  </tbody>\n",
       "</table>\n",
       "<p>5 rows × 79 columns</p>\n",
       "</div>"
      ],
      "text/plain": [
       "   Do you repeat the images until you get the expected result?  \\\n",
       "0                                                  1             \n",
       "1                                                  0             \n",
       "2                                                  1             \n",
       "3                                                  1             \n",
       "4                                                  1             \n",
       "\n",
       "   How much of your consumption of digital images comes from digital media (digital press, internet, television,etc.) and how much by analogical means?  \\\n",
       "0                                                  3                                                                                                      \n",
       "1                                                  3                                                                                                      \n",
       "2                                                  1                                                                                                      \n",
       "3                                                  2                                                                                                      \n",
       "4                                                  2                                                                                                      \n",
       "\n",
       "   How often do you produce images?  \\\n",
       "0                                 5   \n",
       "1                                 5   \n",
       "2                                 4   \n",
       "3                                 4   \n",
       "4                                 5   \n",
       "\n",
       "   If you answered that you NEVER produce or consume images, why do not you use them? (Multiple answer) [1. I do not like]  \\\n",
       "0                                                  0                                                                         \n",
       "1                                                  0                                                                         \n",
       "2                                                  0                                                                         \n",
       "3                                                  0                                                                         \n",
       "4                                                  0                                                                         \n",
       "\n",
       "   If you answered that you NEVER produce or consume images, why do not you use them? (Multiple answer) [2. I do not know how they are made]  \\\n",
       "0                                                  0                                                                                           \n",
       "1                                                  0                                                                                           \n",
       "2                                                  0                                                                                           \n",
       "3                                                  0                                                                                           \n",
       "4                                                  0                                                                                           \n",
       "\n",
       "   If you answered that you NEVER produce or consume images, why do not you use them? (Multiple answer) [3. I do not use technology]  \\\n",
       "0                                                  0                                                                                   \n",
       "1                                                  0                                                                                   \n",
       "2                                                  0                                                                                   \n",
       "3                                                  0                                                                                   \n",
       "4                                                  0                                                                                   \n",
       "\n",
       "   If you answered that you NEVER produce or consume images, why do not you use them? (Multiple answer) [4. When I share them, I do not know what they mean]  \\\n",
       "0                                                  0                                                                                                           \n",
       "1                                                  0                                                                                                           \n",
       "2                                                  0                                                                                                           \n",
       "3                                                  0                                                                                                           \n",
       "4                                                  0                                                                                                           \n",
       "\n",
       "   If you answered that you NEVER produce or consume images, why do not you use them? (Multiple answer) [5. Because they take up a lot of space]  \\\n",
       "0                                                  0                                                                                               \n",
       "1                                                  0                                                                                               \n",
       "2                                                  0                                                                                               \n",
       "3                                                  0                                                                                               \n",
       "4                                                  0                                                                                               \n",
       "\n",
       "   If you answered that you NEVER produce or consume images, why do not you use them? (Multiple answer) [6. I find it useless]  \\\n",
       "0                                                  0                                                                             \n",
       "1                                                  0                                                                             \n",
       "2                                                  0                                                                             \n",
       "3                                                  0                                                                             \n",
       "4                                                  0                                                                             \n",
       "\n",
       "   If you find that suggested information, what is your attitude?  \\\n",
       "0                                                  1                \n",
       "1                                                  1                \n",
       "2                                                  1                \n",
       "3                                                  1                \n",
       "4                                                  1                \n",
       "\n",
       "        ...         \\\n",
       "0       ...          \n",
       "1       ...          \n",
       "2       ...          \n",
       "3       ...          \n",
       "4       ...          \n",
       "\n",
       "   When you receive/ consume images... (select the option / options with which you identify yourself) [2. I wonder if they mean something to me]  \\\n",
       "0                                                  1                                                                                               \n",
       "1                                                  1                                                                                               \n",
       "2                                                  1                                                                                               \n",
       "3                                                  0                                                                                               \n",
       "4                                                  0                                                                                               \n",
       "\n",
       "   When you receive/ consume images... (select the option / options with which you identify yourself) [3. I observe the moment and context in which they appear]  \\\n",
       "0                                                  0                                                                                                               \n",
       "1                                                  0                                                                                                               \n",
       "2                                                  1                                                                                                               \n",
       "3                                                  1                                                                                                               \n",
       "4                                                  1                                                                                                               \n",
       "\n",
       "   When you share images on social networks, do the text companions follow the indications suggested by the applications (labeling, explanation of the image, inspiring text, etc.)?  \\\n",
       "0                                                  1                                                                                                                                   \n",
       "1                                                  3                                                                                                                                   \n",
       "2                                                  3                                                                                                                                   \n",
       "3                                                  5                                                                                                                                   \n",
       "4                                                  4                                                                                                                                   \n",
       "\n",
       "   When you take photos from any of the media at your fingertips, do the process facilitate the options offered by the applications (filter application, cuts, graphic editing, etc.)?  \\\n",
       "0                                                  3                                                                                                                                     \n",
       "1                                                  3                                                                                                                                     \n",
       "2                                                  5                                                                                                                                     \n",
       "3                                                  5                                                                                                                                     \n",
       "4                                                  3                                                                                                                                     \n",
       "\n",
       "   When you use social networks, do you consider that being accepted as a member of a group is more important than having autonomy and independence?  \\\n",
       "0                                                  1                                                                                                   \n",
       "1                                                  2                                                                                                   \n",
       "2                                                  2                                                                                                   \n",
       "3                                                  2                                                                                                   \n",
       "4                                                  2                                                                                                   \n",
       "\n",
       "   Which of the paired images do you find most attractive? 1/2 2/2.1  \\\n",
       "0                                                  1                   \n",
       "1                                                  2                   \n",
       "2                                                  1                   \n",
       "3                                                  1                   \n",
       "4                                                  1                   \n",
       "\n",
       "   Which of the paired images do you find most attractive? 1/2 2/2.2  \\\n",
       "0                                                  2                   \n",
       "1                                                  2                   \n",
       "2                                                  1                   \n",
       "3                                                  2                   \n",
       "4                                                  2                   \n",
       "\n",
       "   Which of the paired images do you find most attractive? 1/2 2/2.3  \\\n",
       "0                                                  2                   \n",
       "1                                                  2                   \n",
       "2                                                  2                   \n",
       "3                                                  2                   \n",
       "4                                                  2                   \n",
       "\n",
       "   Which of the paired images do you find most attractive? 1/2 2/2.4  \\\n",
       "0                                                  2                   \n",
       "1                                                  2                   \n",
       "2                                                  2                   \n",
       "3                                                  1                   \n",
       "4                                                  2                   \n",
       "\n",
       "   prosume_cluster  \n",
       "0                5  \n",
       "1                5  \n",
       "2                5  \n",
       "3                5  \n",
       "4                2  \n",
       "\n",
       "[5 rows x 79 columns]"
      ]
     },
     "execution_count": 4,
     "metadata": {},
     "output_type": "execute_result"
    }
   ],
   "source": [
    "dataframe_with_clusters_en = get_dataframe_with_clusters_en(get_dataframe_analysis_en(True), 32)\n",
    "dataframe_with_clusters_en.head()"
   ]
  },
  {
   "cell_type": "code",
   "execution_count": 5,
   "metadata": {},
   "outputs": [],
   "source": [
    "def visualize_personal_info_by_prosume_clusters_esp(dataframe):\n",
    "\n",
    "    for selected_cluster in dataframe['prosume_cluster'].unique():\n",
    "        for column in get_personal_information_items_esp():\n",
    "            try:\n",
    "                print(\"\\n\\nCluster \"+str(selected_cluster) +\n",
    "                      \" || variable: \"+str(column))\n",
    "                print(f'Describiendo la pregunta {column}')\n",
    "                dict_item = get_data_replacements(str(column))\n",
    "                if dict_item:\n",
    "                    print(\n",
    "                        f'Valores numéricos asociados a las respuestas {list(dict_item.keys())}')\n",
    "                    print(\n",
    "                        f'Respuestas posibles a la pregunta/variable {list(dict_item.values())}')\n",
    "                \n",
    "                if column == 'Edad':\n",
    "                    color_scale = cl.interp(cl.scales['9']['div']['Spectral'], dataframe['Edad'].value_counts().nunique())\n",
    "                    values_list = dataframe['Edad'].value_counts().unique()\n",
    "                    color_list = []\n",
    "                    for value in dataframe['Edad'].value_counts().sort_index():\n",
    "                        color_list.append(color_scale[list(values_list).index(value)])\n",
    "                    color_marker = dict(color=color_list)\n",
    "                elif column == 'Nacionalidad':\n",
    "                    color_marker = dict(color=cl.interp(cl.scales['9']['div']['Spectral'], dataframe['Nacionalidad'].nunique()))\n",
    "                else:\n",
    "                    color_marker = dict(color=cl.scales['6']['div']['Spectral'])\n",
    "                \n",
    "                display(dataframe.loc[dataframe['prosume_cluster']\n",
    "                                      == selected_cluster][column].describe())\n",
    "                print(\n",
    "                    f'Conteo de cada valor en {column} expresada como valor / cantidad')\n",
    "                display(dataframe.loc[dataframe['prosume_cluster'] ==\n",
    "                                      selected_cluster][column].value_counts().sort_index())\n",
    "                print(\n",
    "                    f'Porcentaje de cada valor en {column} expresado como valor / porcentaje')\n",
    "                display(dataframe.loc[dataframe['prosume_cluster'] == selected_cluster][column].value_counts(\n",
    "                    normalize=True).sort_index().round(4) * 100)\n",
    "                # sns.distplot(workCleanDummiesCluster.loc[workCleanDummiesCluster['cluster'] == selected_cluster][column], kde=False, rug=True);\n",
    "                data = [go.Bar(x=sorted(dataframe.loc[dataframe['prosume_cluster'] == selected_cluster][column].unique()),\n",
    "                               y=dataframe.loc[dataframe['prosume_cluster'] == selected_cluster][column].value_counts().reindex(\n",
    "                                   dataframe.loc[dataframe['prosume_cluster'] == selected_cluster][column].unique(), fill_value=0).sort_index(),\n",
    "                               marker=color_marker)]\n",
    "\n",
    "                if dict_item:\n",
    "                    layout = go.Layout(\n",
    "                        xaxis=go.layout.XAxis(\n",
    "                            ticktext=list(dict_item.values()),\n",
    "                            tickvals=list(dict_item.keys()),\n",
    "                        ),\n",
    "                        bargap=0.2,\n",
    "                    )\n",
    "                    fig = go.Figure(data, layout)\n",
    "                    iplot(fig)\n",
    "                else:\n",
    "                    iplot(data)\n",
    "                plt.show()\n",
    "            except BaseException:\n",
    "                pass"
   ]
  },
  {
   "cell_type": "code",
   "execution_count": 6,
   "metadata": {},
   "outputs": [],
   "source": [
    "def visualize_personal_info_by_prosume_clusters_en(dataframe):\n",
    "    \n",
    "    for selected_cluster in dataframe['prosume_cluster'].unique():\n",
    "        for column in get_personal_information_items_en():\n",
    "            try:\n",
    "                print(\"\\n\\nCluster \"+str(selected_cluster) +\n",
    "                      \" || feature: \"+str(column))\n",
    "\n",
    "                print(f'Describing the feature {column}')\n",
    "                dict_item = get_data_replacements(str(column))\n",
    "                if dict_item:\n",
    "                    print(\n",
    "                        f'Numeric values associated to the responses {list(dict_item.keys())}')\n",
    "                    print(\n",
    "                        f'Possible responses to the question/variable {list(dict_item.values())}')\n",
    "\n",
    "                if column == 'Age':\n",
    "                    color_scale = cl.interp(cl.scales['9']['div']['Spectral'], dataframe['Age'].value_counts().nunique())\n",
    "                    values_list = dataframe['Age'].value_counts().unique()\n",
    "                    color_list = []\n",
    "                    for value in dataframe['Age'].value_counts().sort_index():\n",
    "                        color_list.append(color_scale[list(values_list).index(value)])\n",
    "                    color_marker = dict(color=color_list)\n",
    "                elif column == 'Nationality':\n",
    "                    color_marker = dict(color=cl.interp(cl.scales['9']['div']['Spectral'], dataframe['Nationality'].nunique()))\n",
    "                else:\n",
    "                    color_marker = dict(color=cl.scales['6']['div']['Spectral'])\n",
    "                display(dataframe.loc[dataframe['prosume_cluster']\n",
    "                                      == selected_cluster][column].describe())\n",
    "                print(\n",
    "                    f'Count of each value in {column} expresed as value / amount')\n",
    "                display(dataframe.loc[dataframe['prosume_cluster'] ==\n",
    "                                      selected_cluster][column].value_counts().sort_index())\n",
    "                print(\n",
    "                    f'Percentage of each value in {column} expresed as value / percentage')\n",
    "                display(dataframe.loc[dataframe['prosume_cluster'] == selected_cluster][column].value_counts(\n",
    "                    normalize=True).sort_index().round(4) * 100)\n",
    "                # sns.distplot(workCleanDummiesCluster.loc[workCleanDummiesCluster['cluster'] == selected_cluster][column], kde=False, rug=True);\n",
    "                data = [go.Bar(x=sorted(dataframe.loc[dataframe['prosume_cluster'] == selected_cluster][column].unique()),\n",
    "                               y=dataframe.loc[dataframe['prosume_cluster'] == selected_cluster][column].value_counts().reindex(\n",
    "                                   dataframe.loc[dataframe['prosume_cluster'] == selected_cluster][column].unique(), fill_value=0).sort_index(),\n",
    "                               marker=color_marker)]\n",
    "\n",
    "                if dict_item:\n",
    "                    layout = go.Layout(\n",
    "                        xaxis=go.layout.XAxis(\n",
    "                            ticktext=list(dict_item.values()),\n",
    "                            tickvals=list(dict_item.keys()),\n",
    "                        ),\n",
    "                        bargap=0.2,\n",
    "                    )\n",
    "                    fig = go.Figure(data, layout)\n",
    "                    iplot(fig)\n",
    "                else:\n",
    "                    iplot(data)\n",
    "                plt.show()\n",
    "            except BaseException:\n",
    "                pass"
   ]
  },
  {
   "cell_type": "code",
   "execution_count": 7,
   "metadata": {},
   "outputs": [],
   "source": [
    "def compare_personal_info_by_prosume_clusters_esp(dataframe):\n",
    "    temp_dataframe = dataframe.copy()\n",
    "    temp_dataframe['prosume_cluster'] = 'cluster_' + temp_dataframe['prosume_cluster'].astype(str)\n",
    "    for column in get_personal_information_items_esp():\n",
    "        try:\n",
    "            newDataframe = pd.DataFrame(temp_dataframe.groupby('prosume_cluster')[column].value_counts(dropna=True, sort=True).reset_index(name='counts'))\n",
    "            if get_data_replacements(str(column)):\n",
    "                newDataframe[column] = newDataframe[column].apply(get_data_replacements(str(column)).get)\n",
    "            print(f'Comparando la pregunta {column}')\n",
    "            iplot(px.bar_polar(newDataframe, r='counts', theta=\"prosume_cluster\", color=column,\n",
    "            color_discrete_sequence= cl.scales['6']['div']['Spectral'], barmode=\"group\"))\n",
    "            # plt.show()\n",
    "        except KeyError:\n",
    "            pass"
   ]
  },
  {
   "cell_type": "code",
   "execution_count": 8,
   "metadata": {},
   "outputs": [],
   "source": [
    "def compare_personal_info_by_prosume_clusters_en(dataframe):\n",
    "    temp_dataframe = dataframe.copy()\n",
    "    temp_dataframe['prosume_cluster'] = 'cluster_' + temp_dataframe['prosume_cluster'].astype(str)\n",
    "    for column in get_personal_information_items_en():\n",
    "        try:\n",
    "            newDataframe = pd.DataFrame(temp_dataframe.groupby('prosume_cluster')[column].value_counts(dropna=True, sort=True).reset_index(name='counts'))\n",
    "            if get_data_replacements(str(column)):\n",
    "                newDataframe[column] = newDataframe[column].apply(get_data_replacements(str(column)).get)\n",
    "            print(f'Comparing the feature {column}')\n",
    "            iplot(px.bar_polar(newDataframe, r='counts', theta=\"prosume_cluster\", color=column,\n",
    "            color_discrete_sequence= cl.scales['6']['div']['Spectral'], barmode=\"group\"))\n",
    "            # plt.show()\n",
    "        except KeyError:\n",
    "            pass"
   ]
  },
  {
   "cell_type": "code",
   "execution_count": 9,
   "metadata": {
    "scrolled": false
   },
   "outputs": [
    {
     "name": "stdout",
     "output_type": "stream",
     "text": [
      "\n",
      "\n",
      "Cluster 5 || variable: Género\n",
      "Describiendo la pregunta Género\n"
     ]
    },
    {
     "data": {
      "text/plain": [
       "count    336.000000\n",
       "mean       0.601190\n",
       "std        0.508317\n",
       "min        0.000000\n",
       "25%        0.000000\n",
       "50%        1.000000\n",
       "75%        1.000000\n",
       "max        2.000000\n",
       "Name: Género, dtype: float64"
      ]
     },
     "metadata": {},
     "output_type": "display_data"
    },
    {
     "name": "stdout",
     "output_type": "stream",
     "text": [
      "Conteo de cada valor en Género expresada como valor / cantidad\n"
     ]
    },
    {
     "data": {
      "text/plain": [
       "0    137\n",
       "1    196\n",
       "2      3\n",
       "Name: Género, dtype: int64"
      ]
     },
     "metadata": {},
     "output_type": "display_data"
    },
    {
     "name": "stdout",
     "output_type": "stream",
     "text": [
      "Porcentaje de cada valor en Género expresado como valor / porcentaje\n"
     ]
    },
    {
     "data": {
      "text/plain": [
       "0    40.77\n",
       "1    58.33\n",
       "2     0.89\n",
       "Name: Género, dtype: float64"
      ]
     },
     "metadata": {},
     "output_type": "display_data"
    },
    {
     "data": {
      "application/vnd.plotly.v1+json": {
       "config": {
        "linkText": "Export to plot.ly",
        "plotlyServerURL": "https://plot.ly",
        "showLink": false
       },
       "data": [
        {
         "marker": {
          "color": [
           "rgb(213,62,79)",
           "rgb(252,141,89)",
           "rgb(254,224,139)",
           "rgb(230,245,152)",
           "rgb(153,213,148)",
           "rgb(50,136,189)"
          ]
         },
         "type": "bar",
         "uid": "1e3c0bf6-9420-4e45-9bdb-d5b746cef834",
         "x": [
          0,
          1,
          2
         ],
         "y": [
          137,
          196,
          3
         ]
        }
       ],
       "layout": {}
      },
      "text/html": [
       "<div id=\"21d1826f-1125-4b44-8a20-6dda9f463eac\" style=\"height: 525px; width: 100%;\" class=\"plotly-graph-div\"></div><script type=\"text/javascript\">require([\"plotly\"], function(Plotly) { window.PLOTLYENV=window.PLOTLYENV || {};window.PLOTLYENV.BASE_URL=\"https://plot.ly\";\n",
       "if (document.getElementById(\"21d1826f-1125-4b44-8a20-6dda9f463eac\")) {\n",
       "    Plotly.newPlot(\"21d1826f-1125-4b44-8a20-6dda9f463eac\", [{\"marker\": {\"color\": [\"rgb(213,62,79)\", \"rgb(252,141,89)\", \"rgb(254,224,139)\", \"rgb(230,245,152)\", \"rgb(153,213,148)\", \"rgb(50,136,189)\"]}, \"x\": [0, 1, 2], \"y\": [137, 196, 3], \"type\": \"bar\", \"uid\": \"98ee740c-66bb-4a93-96af-36a702d22bb3\"}], {}, {\"showLink\": false, \"linkText\": \"Export to plot.ly\", \"plotlyServerURL\": \"https://plot.ly\"}); \n",
       "}\n",
       "});</script><script type=\"text/javascript\">window.addEventListener(\"resize\", function(){if (document.getElementById(\"21d1826f-1125-4b44-8a20-6dda9f463eac\")) {window._Plotly.Plots.resize(document.getElementById(\"21d1826f-1125-4b44-8a20-6dda9f463eac\"));};})</script>"
      ],
      "text/vnd.plotly.v1+html": [
       "<div id=\"21d1826f-1125-4b44-8a20-6dda9f463eac\" style=\"height: 525px; width: 100%;\" class=\"plotly-graph-div\"></div><script type=\"text/javascript\">require([\"plotly\"], function(Plotly) { window.PLOTLYENV=window.PLOTLYENV || {};window.PLOTLYENV.BASE_URL=\"https://plot.ly\";\n",
       "if (document.getElementById(\"21d1826f-1125-4b44-8a20-6dda9f463eac\")) {\n",
       "    Plotly.newPlot(\"21d1826f-1125-4b44-8a20-6dda9f463eac\", [{\"marker\": {\"color\": [\"rgb(213,62,79)\", \"rgb(252,141,89)\", \"rgb(254,224,139)\", \"rgb(230,245,152)\", \"rgb(153,213,148)\", \"rgb(50,136,189)\"]}, \"x\": [0, 1, 2], \"y\": [137, 196, 3], \"type\": \"bar\", \"uid\": \"98ee740c-66bb-4a93-96af-36a702d22bb3\"}], {}, {\"showLink\": false, \"linkText\": \"Export to plot.ly\", \"plotlyServerURL\": \"https://plot.ly\"}); \n",
       "}\n",
       "});</script><script type=\"text/javascript\">window.addEventListener(\"resize\", function(){if (document.getElementById(\"21d1826f-1125-4b44-8a20-6dda9f463eac\")) {window._Plotly.Plots.resize(document.getElementById(\"21d1826f-1125-4b44-8a20-6dda9f463eac\"));};})</script>"
      ]
     },
     "metadata": {},
     "output_type": "display_data"
    },
    {
     "name": "stdout",
     "output_type": "stream",
     "text": [
      "\n",
      "\n",
      "Cluster 5 || variable: Edad\n",
      "Describiendo la pregunta Edad\n"
     ]
    },
    {
     "data": {
      "text/plain": [
       "count    336.000000\n",
       "mean      36.955357\n",
       "std       12.555350\n",
       "min       14.000000\n",
       "25%       27.000000\n",
       "50%       35.000000\n",
       "75%       44.000000\n",
       "max       81.000000\n",
       "Name: Edad, dtype: float64"
      ]
     },
     "metadata": {},
     "output_type": "display_data"
    },
    {
     "name": "stdout",
     "output_type": "stream",
     "text": [
      "Conteo de cada valor en Edad expresada como valor / cantidad\n"
     ]
    },
    {
     "data": {
      "text/plain": [
       "14     2\n",
       "16     1\n",
       "17     1\n",
       "18     1\n",
       "19     4\n",
       "20     6\n",
       "21    11\n",
       "22     5\n",
       "23     5\n",
       "24    11\n",
       "25     8\n",
       "26    13\n",
       "27    17\n",
       "28    15\n",
       "29    11\n",
       "30    11\n",
       "31     8\n",
       "32     8\n",
       "33    11\n",
       "34    14\n",
       "35    16\n",
       "36     9\n",
       "37    12\n",
       "38    12\n",
       "39    12\n",
       "40     4\n",
       "41     6\n",
       "42     9\n",
       "43     8\n",
       "44     4\n",
       "45     6\n",
       "46    10\n",
       "47     4\n",
       "48     2\n",
       "49     2\n",
       "50     3\n",
       "51     6\n",
       "52     1\n",
       "53     5\n",
       "54     4\n",
       "55     6\n",
       "56     4\n",
       "57     4\n",
       "58     1\n",
       "59     2\n",
       "60     1\n",
       "61     3\n",
       "62     5\n",
       "64     2\n",
       "65     1\n",
       "66     1\n",
       "67     2\n",
       "69     1\n",
       "70     1\n",
       "73     1\n",
       "78     1\n",
       "81     2\n",
       "Name: Edad, dtype: int64"
      ]
     },
     "metadata": {},
     "output_type": "display_data"
    },
    {
     "name": "stdout",
     "output_type": "stream",
     "text": [
      "Porcentaje de cada valor en Edad expresado como valor / porcentaje\n"
     ]
    },
    {
     "data": {
      "text/plain": [
       "14    0.60\n",
       "16    0.30\n",
       "17    0.30\n",
       "18    0.30\n",
       "19    1.19\n",
       "20    1.79\n",
       "21    3.27\n",
       "22    1.49\n",
       "23    1.49\n",
       "24    3.27\n",
       "25    2.38\n",
       "26    3.87\n",
       "27    5.06\n",
       "28    4.46\n",
       "29    3.27\n",
       "30    3.27\n",
       "31    2.38\n",
       "32    2.38\n",
       "33    3.27\n",
       "34    4.17\n",
       "35    4.76\n",
       "36    2.68\n",
       "37    3.57\n",
       "38    3.57\n",
       "39    3.57\n",
       "40    1.19\n",
       "41    1.79\n",
       "42    2.68\n",
       "43    2.38\n",
       "44    1.19\n",
       "45    1.79\n",
       "46    2.98\n",
       "47    1.19\n",
       "48    0.60\n",
       "49    0.60\n",
       "50    0.89\n",
       "51    1.79\n",
       "52    0.30\n",
       "53    1.49\n",
       "54    1.19\n",
       "55    1.79\n",
       "56    1.19\n",
       "57    1.19\n",
       "58    0.30\n",
       "59    0.60\n",
       "60    0.30\n",
       "61    0.89\n",
       "62    1.49\n",
       "64    0.60\n",
       "65    0.30\n",
       "66    0.30\n",
       "67    0.60\n",
       "69    0.30\n",
       "70    0.30\n",
       "73    0.30\n",
       "78    0.30\n",
       "81    0.60\n",
       "Name: Edad, dtype: float64"
      ]
     },
     "metadata": {},
     "output_type": "display_data"
    },
    {
     "data": {
      "application/vnd.plotly.v1+json": {
       "config": {
        "linkText": "Export to plot.ly",
        "plotlyServerURL": "https://plot.ly",
        "showLink": false
       },
       "data": [
        {
         "marker": {
          "color": [
           "hsl(147.27999999999997, 42.84%, 62.760000000000005%)",
           "hsl(18.2, 90.52%, 62.24%)",
           "hsl(47.2, 98.4%, 79.0%)",
           "hsl(74.16000000000001, 77.56%, 76.76%)",
           "hsl(147.27999999999997, 42.84%, 62.760000000000005%)",
           "hsl(67.2, 85.60000000000001%, 79.0%)",
           "hsl(64.32000000000001, 91.35999999999999%, 82.19999999999999%)",
           "hsl(67.2, 85.60000000000001%, 79.0%)",
           "hsl(27.799999999999997, 96.28%, 67.36%)",
           "hsl(57.44, 99.68%, 85.4%)",
           "hsl(37.4, 97.56%, 73.04%)",
           "hsl(353.0, 64.0%, 53.0%)",
           "hsl(32.6, 97.24%, 70.16%)",
           "hsl(13.160000000000025, 87.03999999999999%, 59.72%)",
           "hsl(359.72, 71.68%, 55.24%)",
           "hsl(353.0, 64.0%, 53.0%)",
           "hsl(6.439999999999998, 79.36%, 57.480000000000004%)",
           "hsl(359.72, 71.68%, 55.24%)",
           "hsl(27.799999999999997, 96.28%, 67.36%)",
           "hsl(27.799999999999997, 96.28%, 67.36%)",
           "hsl(27.799999999999997, 96.28%, 67.36%)",
           "hsl(23.0, 93.4%, 64.8%)",
           "hsl(18.2, 90.52%, 62.24%)",
           "hsl(52.32, 99.04%, 82.2%)",
           "hsl(47.2, 98.4%, 79.0%)",
           "hsl(42.2, 97.88%, 75.92%)",
           "hsl(61.44, 97.12%, 85.4%)",
           "hsl(87.92000000000002, 65.71999999999998%, 76.12%)",
           "hsl(87.92000000000002, 65.71999999999998%, 76.12%)",
           "hsl(64.32000000000001, 91.35999999999999%, 82.19999999999999%)",
           "hsl(64.32000000000001, 91.35999999999999%, 82.19999999999999%)",
           "hsl(101.67999999999999, 53.88000000000001%, 75.48%)",
           "hsl(101.67999999999999, 53.88000000000001%, 75.48%)",
           "hsl(61.44, 97.12%, 85.4%)",
           "hsl(87.92000000000002, 65.71999999999998%, 76.12%)",
           "hsl(147.27999999999997, 42.84%, 62.760000000000005%)",
           "hsl(162.64000000000001, 42.64%, 57.519999999999996%)",
           "hsl(131.60000000000002, 43.8%, 68.19999999999999%)",
           "hsl(131.60000000000002, 43.8%, 68.19999999999999%)",
           "hsl(188.88, 52.879999999999995%, 49.84%)",
           "hsl(101.67999999999999, 53.88000000000001%, 75.48%)",
           "hsl(162.64000000000001, 42.64%, 57.519999999999996%)",
           "hsl(115.92, 44.76%, 73.64%)",
           "hsl(147.27999999999997, 42.84%, 62.760000000000005%)",
           "hsl(131.60000000000002, 43.8%, 68.19999999999999%)",
           "hsl(202.0, 58.0%, 46.0%)",
           "hsl(188.88, 52.879999999999995%, 49.84%)",
           "hsl(147.27999999999997, 42.84%, 62.760000000000005%)",
           "hsl(175.76000000000002, 47.760000000000005%, 53.67999999999999%)",
           "hsl(115.92, 44.76%, 73.64%)",
           "hsl(202.0, 58.0%, 46.0%)",
           "hsl(175.76000000000002, 47.760000000000005%, 53.67999999999999%)",
           "hsl(188.88, 52.879999999999995%, 49.84%)",
           "hsl(188.88, 52.879999999999995%, 49.84%)",
           "hsl(162.64000000000001, 42.64%, 57.519999999999996%)",
           "hsl(202.0, 58.0%, 46.0%)",
           "hsl(188.88, 52.879999999999995%, 49.84%)",
           "hsl(202.0, 58.0%, 46.0%)",
           "hsl(202.0, 58.0%, 46.0%)",
           "hsl(202.0, 58.0%, 46.0%)",
           "hsl(202.0, 58.0%, 46.0%)",
           "hsl(188.88, 52.879999999999995%, 49.84%)"
          ]
         },
         "type": "bar",
         "uid": "0130baf1-6b5c-441b-817b-0b2fdf240610",
         "x": [
          14,
          16,
          17,
          18,
          19,
          20,
          21,
          22,
          23,
          24,
          25,
          26,
          27,
          28,
          29,
          30,
          31,
          32,
          33,
          34,
          35,
          36,
          37,
          38,
          39,
          40,
          41,
          42,
          43,
          44,
          45,
          46,
          47,
          48,
          49,
          50,
          51,
          52,
          53,
          54,
          55,
          56,
          57,
          58,
          59,
          60,
          61,
          62,
          64,
          65,
          66,
          67,
          69,
          70,
          73,
          78,
          81
         ],
         "y": [
          2,
          1,
          1,
          1,
          4,
          6,
          11,
          5,
          5,
          11,
          8,
          13,
          17,
          15,
          11,
          11,
          8,
          8,
          11,
          14,
          16,
          9,
          12,
          12,
          12,
          4,
          6,
          9,
          8,
          4,
          6,
          10,
          4,
          2,
          2,
          3,
          6,
          1,
          5,
          4,
          6,
          4,
          4,
          1,
          2,
          1,
          3,
          5,
          2,
          1,
          1,
          2,
          1,
          1,
          1,
          1,
          2
         ]
        }
       ],
       "layout": {}
      },
      "text/html": [
       "<div id=\"da560fa2-50f6-4291-a021-3d624504296a\" style=\"height: 525px; width: 100%;\" class=\"plotly-graph-div\"></div><script type=\"text/javascript\">require([\"plotly\"], function(Plotly) { window.PLOTLYENV=window.PLOTLYENV || {};window.PLOTLYENV.BASE_URL=\"https://plot.ly\";\n",
       "if (document.getElementById(\"da560fa2-50f6-4291-a021-3d624504296a\")) {\n",
       "    Plotly.newPlot(\"da560fa2-50f6-4291-a021-3d624504296a\", [{\"marker\": {\"color\": [\"hsl(147.27999999999997, 42.84%, 62.760000000000005%)\", \"hsl(18.2, 90.52%, 62.24%)\", \"hsl(47.2, 98.4%, 79.0%)\", \"hsl(74.16000000000001, 77.56%, 76.76%)\", \"hsl(147.27999999999997, 42.84%, 62.760000000000005%)\", \"hsl(67.2, 85.60000000000001%, 79.0%)\", \"hsl(64.32000000000001, 91.35999999999999%, 82.19999999999999%)\", \"hsl(67.2, 85.60000000000001%, 79.0%)\", \"hsl(27.799999999999997, 96.28%, 67.36%)\", \"hsl(57.44, 99.68%, 85.4%)\", \"hsl(37.4, 97.56%, 73.04%)\", \"hsl(353.0, 64.0%, 53.0%)\", \"hsl(32.6, 97.24%, 70.16%)\", \"hsl(13.160000000000025, 87.03999999999999%, 59.72%)\", \"hsl(359.72, 71.68%, 55.24%)\", \"hsl(353.0, 64.0%, 53.0%)\", \"hsl(6.439999999999998, 79.36%, 57.480000000000004%)\", \"hsl(359.72, 71.68%, 55.24%)\", \"hsl(27.799999999999997, 96.28%, 67.36%)\", \"hsl(27.799999999999997, 96.28%, 67.36%)\", \"hsl(27.799999999999997, 96.28%, 67.36%)\", \"hsl(23.0, 93.4%, 64.8%)\", \"hsl(18.2, 90.52%, 62.24%)\", \"hsl(52.32, 99.04%, 82.2%)\", \"hsl(47.2, 98.4%, 79.0%)\", \"hsl(42.2, 97.88%, 75.92%)\", \"hsl(61.44, 97.12%, 85.4%)\", \"hsl(87.92000000000002, 65.71999999999998%, 76.12%)\", \"hsl(87.92000000000002, 65.71999999999998%, 76.12%)\", \"hsl(64.32000000000001, 91.35999999999999%, 82.19999999999999%)\", \"hsl(64.32000000000001, 91.35999999999999%, 82.19999999999999%)\", \"hsl(101.67999999999999, 53.88000000000001%, 75.48%)\", \"hsl(101.67999999999999, 53.88000000000001%, 75.48%)\", \"hsl(61.44, 97.12%, 85.4%)\", \"hsl(87.92000000000002, 65.71999999999998%, 76.12%)\", \"hsl(147.27999999999997, 42.84%, 62.760000000000005%)\", \"hsl(162.64000000000001, 42.64%, 57.519999999999996%)\", \"hsl(131.60000000000002, 43.8%, 68.19999999999999%)\", \"hsl(131.60000000000002, 43.8%, 68.19999999999999%)\", \"hsl(188.88, 52.879999999999995%, 49.84%)\", \"hsl(101.67999999999999, 53.88000000000001%, 75.48%)\", \"hsl(162.64000000000001, 42.64%, 57.519999999999996%)\", \"hsl(115.92, 44.76%, 73.64%)\", \"hsl(147.27999999999997, 42.84%, 62.760000000000005%)\", \"hsl(131.60000000000002, 43.8%, 68.19999999999999%)\", \"hsl(202.0, 58.0%, 46.0%)\", \"hsl(188.88, 52.879999999999995%, 49.84%)\", \"hsl(147.27999999999997, 42.84%, 62.760000000000005%)\", \"hsl(175.76000000000002, 47.760000000000005%, 53.67999999999999%)\", \"hsl(115.92, 44.76%, 73.64%)\", \"hsl(202.0, 58.0%, 46.0%)\", \"hsl(175.76000000000002, 47.760000000000005%, 53.67999999999999%)\", \"hsl(188.88, 52.879999999999995%, 49.84%)\", \"hsl(188.88, 52.879999999999995%, 49.84%)\", \"hsl(162.64000000000001, 42.64%, 57.519999999999996%)\", \"hsl(202.0, 58.0%, 46.0%)\", \"hsl(188.88, 52.879999999999995%, 49.84%)\", \"hsl(202.0, 58.0%, 46.0%)\", \"hsl(202.0, 58.0%, 46.0%)\", \"hsl(202.0, 58.0%, 46.0%)\", \"hsl(202.0, 58.0%, 46.0%)\", \"hsl(188.88, 52.879999999999995%, 49.84%)\"]}, \"x\": [14, 16, 17, 18, 19, 20, 21, 22, 23, 24, 25, 26, 27, 28, 29, 30, 31, 32, 33, 34, 35, 36, 37, 38, 39, 40, 41, 42, 43, 44, 45, 46, 47, 48, 49, 50, 51, 52, 53, 54, 55, 56, 57, 58, 59, 60, 61, 62, 64, 65, 66, 67, 69, 70, 73, 78, 81], \"y\": [2, 1, 1, 1, 4, 6, 11, 5, 5, 11, 8, 13, 17, 15, 11, 11, 8, 8, 11, 14, 16, 9, 12, 12, 12, 4, 6, 9, 8, 4, 6, 10, 4, 2, 2, 3, 6, 1, 5, 4, 6, 4, 4, 1, 2, 1, 3, 5, 2, 1, 1, 2, 1, 1, 1, 1, 2], \"type\": \"bar\", \"uid\": \"cc645c46-dfd7-4092-9ab0-af8d23094a52\"}], {}, {\"showLink\": false, \"linkText\": \"Export to plot.ly\", \"plotlyServerURL\": \"https://plot.ly\"}); \n",
       "}\n",
       "});</script><script type=\"text/javascript\">window.addEventListener(\"resize\", function(){if (document.getElementById(\"da560fa2-50f6-4291-a021-3d624504296a\")) {window._Plotly.Plots.resize(document.getElementById(\"da560fa2-50f6-4291-a021-3d624504296a\"));};})</script>"
      ],
      "text/vnd.plotly.v1+html": [
       "<div id=\"da560fa2-50f6-4291-a021-3d624504296a\" style=\"height: 525px; width: 100%;\" class=\"plotly-graph-div\"></div><script type=\"text/javascript\">require([\"plotly\"], function(Plotly) { window.PLOTLYENV=window.PLOTLYENV || {};window.PLOTLYENV.BASE_URL=\"https://plot.ly\";\n",
       "if (document.getElementById(\"da560fa2-50f6-4291-a021-3d624504296a\")) {\n",
       "    Plotly.newPlot(\"da560fa2-50f6-4291-a021-3d624504296a\", [{\"marker\": {\"color\": [\"hsl(147.27999999999997, 42.84%, 62.760000000000005%)\", \"hsl(18.2, 90.52%, 62.24%)\", \"hsl(47.2, 98.4%, 79.0%)\", \"hsl(74.16000000000001, 77.56%, 76.76%)\", \"hsl(147.27999999999997, 42.84%, 62.760000000000005%)\", \"hsl(67.2, 85.60000000000001%, 79.0%)\", \"hsl(64.32000000000001, 91.35999999999999%, 82.19999999999999%)\", \"hsl(67.2, 85.60000000000001%, 79.0%)\", \"hsl(27.799999999999997, 96.28%, 67.36%)\", \"hsl(57.44, 99.68%, 85.4%)\", \"hsl(37.4, 97.56%, 73.04%)\", \"hsl(353.0, 64.0%, 53.0%)\", \"hsl(32.6, 97.24%, 70.16%)\", \"hsl(13.160000000000025, 87.03999999999999%, 59.72%)\", \"hsl(359.72, 71.68%, 55.24%)\", \"hsl(353.0, 64.0%, 53.0%)\", \"hsl(6.439999999999998, 79.36%, 57.480000000000004%)\", \"hsl(359.72, 71.68%, 55.24%)\", \"hsl(27.799999999999997, 96.28%, 67.36%)\", \"hsl(27.799999999999997, 96.28%, 67.36%)\", \"hsl(27.799999999999997, 96.28%, 67.36%)\", \"hsl(23.0, 93.4%, 64.8%)\", \"hsl(18.2, 90.52%, 62.24%)\", \"hsl(52.32, 99.04%, 82.2%)\", \"hsl(47.2, 98.4%, 79.0%)\", \"hsl(42.2, 97.88%, 75.92%)\", \"hsl(61.44, 97.12%, 85.4%)\", \"hsl(87.92000000000002, 65.71999999999998%, 76.12%)\", \"hsl(87.92000000000002, 65.71999999999998%, 76.12%)\", \"hsl(64.32000000000001, 91.35999999999999%, 82.19999999999999%)\", \"hsl(64.32000000000001, 91.35999999999999%, 82.19999999999999%)\", \"hsl(101.67999999999999, 53.88000000000001%, 75.48%)\", \"hsl(101.67999999999999, 53.88000000000001%, 75.48%)\", \"hsl(61.44, 97.12%, 85.4%)\", \"hsl(87.92000000000002, 65.71999999999998%, 76.12%)\", \"hsl(147.27999999999997, 42.84%, 62.760000000000005%)\", \"hsl(162.64000000000001, 42.64%, 57.519999999999996%)\", \"hsl(131.60000000000002, 43.8%, 68.19999999999999%)\", \"hsl(131.60000000000002, 43.8%, 68.19999999999999%)\", \"hsl(188.88, 52.879999999999995%, 49.84%)\", \"hsl(101.67999999999999, 53.88000000000001%, 75.48%)\", \"hsl(162.64000000000001, 42.64%, 57.519999999999996%)\", \"hsl(115.92, 44.76%, 73.64%)\", \"hsl(147.27999999999997, 42.84%, 62.760000000000005%)\", \"hsl(131.60000000000002, 43.8%, 68.19999999999999%)\", \"hsl(202.0, 58.0%, 46.0%)\", \"hsl(188.88, 52.879999999999995%, 49.84%)\", \"hsl(147.27999999999997, 42.84%, 62.760000000000005%)\", \"hsl(175.76000000000002, 47.760000000000005%, 53.67999999999999%)\", \"hsl(115.92, 44.76%, 73.64%)\", \"hsl(202.0, 58.0%, 46.0%)\", \"hsl(175.76000000000002, 47.760000000000005%, 53.67999999999999%)\", \"hsl(188.88, 52.879999999999995%, 49.84%)\", \"hsl(188.88, 52.879999999999995%, 49.84%)\", \"hsl(162.64000000000001, 42.64%, 57.519999999999996%)\", \"hsl(202.0, 58.0%, 46.0%)\", \"hsl(188.88, 52.879999999999995%, 49.84%)\", \"hsl(202.0, 58.0%, 46.0%)\", \"hsl(202.0, 58.0%, 46.0%)\", \"hsl(202.0, 58.0%, 46.0%)\", \"hsl(202.0, 58.0%, 46.0%)\", \"hsl(188.88, 52.879999999999995%, 49.84%)\"]}, \"x\": [14, 16, 17, 18, 19, 20, 21, 22, 23, 24, 25, 26, 27, 28, 29, 30, 31, 32, 33, 34, 35, 36, 37, 38, 39, 40, 41, 42, 43, 44, 45, 46, 47, 48, 49, 50, 51, 52, 53, 54, 55, 56, 57, 58, 59, 60, 61, 62, 64, 65, 66, 67, 69, 70, 73, 78, 81], \"y\": [2, 1, 1, 1, 4, 6, 11, 5, 5, 11, 8, 13, 17, 15, 11, 11, 8, 8, 11, 14, 16, 9, 12, 12, 12, 4, 6, 9, 8, 4, 6, 10, 4, 2, 2, 3, 6, 1, 5, 4, 6, 4, 4, 1, 2, 1, 3, 5, 2, 1, 1, 2, 1, 1, 1, 1, 2], \"type\": \"bar\", \"uid\": \"cc645c46-dfd7-4092-9ab0-af8d23094a52\"}], {}, {\"showLink\": false, \"linkText\": \"Export to plot.ly\", \"plotlyServerURL\": \"https://plot.ly\"}); \n",
       "}\n",
       "});</script><script type=\"text/javascript\">window.addEventListener(\"resize\", function(){if (document.getElementById(\"da560fa2-50f6-4291-a021-3d624504296a\")) {window._Plotly.Plots.resize(document.getElementById(\"da560fa2-50f6-4291-a021-3d624504296a\"));};})</script>"
      ]
     },
     "metadata": {},
     "output_type": "display_data"
    },
    {
     "name": "stdout",
     "output_type": "stream",
     "text": [
      "\n",
      "\n",
      "Cluster 5 || variable: Nacionalidad\n",
      "Describiendo la pregunta Nacionalidad\n",
      "Valores numéricos asociados a las respuestas [0, 1, 2, 3, 4, 5, 6, 7, 8, 9, 10, 11, 12, 13, 14, 15, 16, 17, 18, 19, 20, 21, 22, 23, 24, 25, 26, 27, 28, 29, 30, 31, 32, 33]\n",
      "Respuestas posibles a la pregunta/variable ['España', 'Colombia', 'México', 'República Dominicana', 'Austria', 'Chile', 'Francia', 'Canadá', 'Nigeria', 'China', 'Australia', 'Rusia', 'Alemania', 'Brasil', 'Estados Unidos de América', 'India', 'Eslovaquia', 'Italia', 'Inglaterra', 'Cuba', 'Ukrania', 'Venezuela', 'Indonesia', 'Albania', 'Paquistan', 'Bahamas', 'Argentina', 'Islandia', 'Escocia', 'Sudán', 'Nueva Zelanda', 'Irlanda', 'Macedonia', 'Unknown']\n"
     ]
    },
    {
     "data": {
      "text/plain": [
       "count    336.000000\n",
       "mean      12.300595\n",
       "std        8.584025\n",
       "min        0.000000\n",
       "25%        6.000000\n",
       "50%       14.000000\n",
       "75%       14.000000\n",
       "max       33.000000\n",
       "Name: Nacionalidad, dtype: float64"
      ]
     },
     "metadata": {},
     "output_type": "display_data"
    },
    {
     "name": "stdout",
     "output_type": "stream",
     "text": [
      "Conteo de cada valor en Nacionalidad expresada como valor / cantidad\n"
     ]
    },
    {
     "data": {
      "text/plain": [
       "0      73\n",
       "1       1\n",
       "2       1\n",
       "3       2\n",
       "4       1\n",
       "5       1\n",
       "6       8\n",
       "7       4\n",
       "8       1\n",
       "12      1\n",
       "13      1\n",
       "14    168\n",
       "15     29\n",
       "16      1\n",
       "17      5\n",
       "18      7\n",
       "21      2\n",
       "24      1\n",
       "25      1\n",
       "26      1\n",
       "27      1\n",
       "28      1\n",
       "31      2\n",
       "32      1\n",
       "33     22\n",
       "Name: Nacionalidad, dtype: int64"
      ]
     },
     "metadata": {},
     "output_type": "display_data"
    },
    {
     "name": "stdout",
     "output_type": "stream",
     "text": [
      "Porcentaje de cada valor en Nacionalidad expresado como valor / porcentaje\n"
     ]
    },
    {
     "data": {
      "text/plain": [
       "0     21.73\n",
       "1      0.30\n",
       "2      0.30\n",
       "3      0.60\n",
       "4      0.30\n",
       "5      0.30\n",
       "6      2.38\n",
       "7      1.19\n",
       "8      0.30\n",
       "12     0.30\n",
       "13     0.30\n",
       "14    50.00\n",
       "15     8.63\n",
       "16     0.30\n",
       "17     1.49\n",
       "18     2.08\n",
       "21     0.60\n",
       "24     0.30\n",
       "25     0.30\n",
       "26     0.30\n",
       "27     0.30\n",
       "28     0.30\n",
       "31     0.60\n",
       "32     0.30\n",
       "33     6.55\n",
       "Name: Nacionalidad, dtype: float64"
      ]
     },
     "metadata": {},
     "output_type": "display_data"
    },
    {
     "data": {
      "application/vnd.plotly.v1+json": {
       "config": {
        "linkText": "Export to plot.ly",
        "plotlyServerURL": "https://plot.ly",
        "showLink": false
       },
       "data": [
        {
         "marker": {
          "color": [
           "hsl(353.0, 64.0%, 53.0%)",
           "hsl(358.09090909090907, 69.81818181818181%, 54.696969696969695%)",
           "hsl(3.181818181818187, 75.63636363636364%, 56.39393939393939%)",
           "hsl(8.272727272727252, 81.45454545454545%, 58.09090909090909%)",
           "hsl(13.363636363636374, 87.27272727272728%, 59.78787878787879%)",
           "hsl(17.181818181818183, 89.9090909090909%, 61.696969696969695%)",
           "hsl(20.81818181818182, 92.0909090909091%, 63.63636363636364%)",
           "hsl(24.454545454545453, 94.27272727272728%, 65.57575757575758%)",
           "hsl(28.090909090909093, 96.45454545454545%, 67.51515151515152%)",
           "hsl(31.727272727272727, 97.18181818181819%, 69.63636363636364%)",
           "hsl(35.36363636363637, 97.42424242424242%, 71.81818181818181%)",
           "hsl(39.0, 97.66666666666667%, 74.0%)",
           "hsl(42.63636363636364, 97.9090909090909%, 76.18181818181819%)",
           "hsl(46.42424242424242, 98.3030303030303%, 78.51515151515152%)",
           "hsl(50.303030303030305, 98.78787878787878%, 80.93939393939394%)",
           "hsl(54.18181818181818, 99.27272727272727%, 83.36363636363636%)",
           "hsl(58.06060606060606, 99.75757575757575%, 85.78787878787878%)",
           "hsl(61.09090909090909, 97.81818181818181%, 85.78787878787878%)",
           "hsl(63.272727272727266, 93.45454545454547%, 83.36363636363637%)",
           "hsl(65.45454545454545, 89.09090909090908%, 80.93939393939394%)",
           "hsl(67.63636363636364, 84.72727272727272%, 78.51515151515152%)",
           "hsl(72.9090909090909, 78.63636363636364%, 76.81818181818181%)",
           "hsl(83.33333333333331, 69.66666666666669%, 76.33333333333333%)",
           "hsl(93.75757575757578, 60.69696969696968%, 75.84848484848484%)",
           "hsl(104.18181818181819, 51.72727272727272%, 75.36363636363636%)",
           "hsl(114.96969696969697, 44.81818181818182%, 73.96969696969697%)",
           "hsl(126.84848484848483, 44.09090909090909%, 69.84848484848486%)",
           "hsl(138.72727272727275, 43.36363636363636%, 65.72727272727272%)",
           "hsl(150.60606060606062, 42.63636363636363%, 61.6060606060606%)",
           "hsl(162.24242424242425, 42.484848484848484%, 57.63636363636364%)",
           "hsl(172.1818181818182, 46.36363636363636%, 54.727272727272734%)",
           "hsl(182.12121212121212, 50.24242424242425%, 51.81818181818181%)",
           "hsl(192.06060606060606, 54.121212121212125%, 48.90909090909091%)",
           "hsl(202.0, 58.0%, 46.0%)"
          ]
         },
         "type": "bar",
         "uid": "e060ec3c-6f0b-4be6-b21a-fd77ba25d762",
         "x": [
          0,
          1,
          2,
          3,
          4,
          5,
          6,
          7,
          8,
          12,
          13,
          14,
          15,
          16,
          17,
          18,
          21,
          24,
          25,
          26,
          27,
          28,
          31,
          32,
          33
         ],
         "y": [
          73,
          1,
          1,
          2,
          1,
          1,
          8,
          4,
          1,
          1,
          1,
          168,
          29,
          1,
          5,
          7,
          2,
          1,
          1,
          1,
          1,
          1,
          2,
          1,
          22
         ]
        }
       ],
       "layout": {
        "bargap": 0.2,
        "xaxis": {
         "ticktext": [
          "España",
          "Colombia",
          "México",
          "República Dominicana",
          "Austria",
          "Chile",
          "Francia",
          "Canadá",
          "Nigeria",
          "China",
          "Australia",
          "Rusia",
          "Alemania",
          "Brasil",
          "Estados Unidos de América",
          "India",
          "Eslovaquia",
          "Italia",
          "Inglaterra",
          "Cuba",
          "Ukrania",
          "Venezuela",
          "Indonesia",
          "Albania",
          "Paquistan",
          "Bahamas",
          "Argentina",
          "Islandia",
          "Escocia",
          "Sudán",
          "Nueva Zelanda",
          "Irlanda",
          "Macedonia",
          "Unknown"
         ],
         "tickvals": [
          0,
          1,
          2,
          3,
          4,
          5,
          6,
          7,
          8,
          9,
          10,
          11,
          12,
          13,
          14,
          15,
          16,
          17,
          18,
          19,
          20,
          21,
          22,
          23,
          24,
          25,
          26,
          27,
          28,
          29,
          30,
          31,
          32,
          33
         ]
        }
       }
      },
      "text/html": [
       "<div id=\"3b100c89-2bf3-4053-8b6b-bab70b891ab0\" style=\"height: 525px; width: 100%;\" class=\"plotly-graph-div\"></div><script type=\"text/javascript\">require([\"plotly\"], function(Plotly) { window.PLOTLYENV=window.PLOTLYENV || {};window.PLOTLYENV.BASE_URL=\"https://plot.ly\";\n",
       "if (document.getElementById(\"3b100c89-2bf3-4053-8b6b-bab70b891ab0\")) {\n",
       "    Plotly.newPlot(\"3b100c89-2bf3-4053-8b6b-bab70b891ab0\", [{\"marker\": {\"color\": [\"hsl(353.0, 64.0%, 53.0%)\", \"hsl(358.09090909090907, 69.81818181818181%, 54.696969696969695%)\", \"hsl(3.181818181818187, 75.63636363636364%, 56.39393939393939%)\", \"hsl(8.272727272727252, 81.45454545454545%, 58.09090909090909%)\", \"hsl(13.363636363636374, 87.27272727272728%, 59.78787878787879%)\", \"hsl(17.181818181818183, 89.9090909090909%, 61.696969696969695%)\", \"hsl(20.81818181818182, 92.0909090909091%, 63.63636363636364%)\", \"hsl(24.454545454545453, 94.27272727272728%, 65.57575757575758%)\", \"hsl(28.090909090909093, 96.45454545454545%, 67.51515151515152%)\", \"hsl(31.727272727272727, 97.18181818181819%, 69.63636363636364%)\", \"hsl(35.36363636363637, 97.42424242424242%, 71.81818181818181%)\", \"hsl(39.0, 97.66666666666667%, 74.0%)\", \"hsl(42.63636363636364, 97.9090909090909%, 76.18181818181819%)\", \"hsl(46.42424242424242, 98.3030303030303%, 78.51515151515152%)\", \"hsl(50.303030303030305, 98.78787878787878%, 80.93939393939394%)\", \"hsl(54.18181818181818, 99.27272727272727%, 83.36363636363636%)\", \"hsl(58.06060606060606, 99.75757575757575%, 85.78787878787878%)\", \"hsl(61.09090909090909, 97.81818181818181%, 85.78787878787878%)\", \"hsl(63.272727272727266, 93.45454545454547%, 83.36363636363637%)\", \"hsl(65.45454545454545, 89.09090909090908%, 80.93939393939394%)\", \"hsl(67.63636363636364, 84.72727272727272%, 78.51515151515152%)\", \"hsl(72.9090909090909, 78.63636363636364%, 76.81818181818181%)\", \"hsl(83.33333333333331, 69.66666666666669%, 76.33333333333333%)\", \"hsl(93.75757575757578, 60.69696969696968%, 75.84848484848484%)\", \"hsl(104.18181818181819, 51.72727272727272%, 75.36363636363636%)\", \"hsl(114.96969696969697, 44.81818181818182%, 73.96969696969697%)\", \"hsl(126.84848484848483, 44.09090909090909%, 69.84848484848486%)\", \"hsl(138.72727272727275, 43.36363636363636%, 65.72727272727272%)\", \"hsl(150.60606060606062, 42.63636363636363%, 61.6060606060606%)\", \"hsl(162.24242424242425, 42.484848484848484%, 57.63636363636364%)\", \"hsl(172.1818181818182, 46.36363636363636%, 54.727272727272734%)\", \"hsl(182.12121212121212, 50.24242424242425%, 51.81818181818181%)\", \"hsl(192.06060606060606, 54.121212121212125%, 48.90909090909091%)\", \"hsl(202.0, 58.0%, 46.0%)\"]}, \"x\": [0, 1, 2, 3, 4, 5, 6, 7, 8, 12, 13, 14, 15, 16, 17, 18, 21, 24, 25, 26, 27, 28, 31, 32, 33], \"y\": [73, 1, 1, 2, 1, 1, 8, 4, 1, 1, 1, 168, 29, 1, 5, 7, 2, 1, 1, 1, 1, 1, 2, 1, 22], \"type\": \"bar\", \"uid\": \"e060ec3c-6f0b-4be6-b21a-fd77ba25d762\"}], {\"bargap\": 0.2, \"xaxis\": {\"ticktext\": [\"Espa\\u00f1a\", \"Colombia\", \"M\\u00e9xico\", \"Rep\\u00fablica Dominicana\", \"Austria\", \"Chile\", \"Francia\", \"Canad\\u00e1\", \"Nigeria\", \"China\", \"Australia\", \"Rusia\", \"Alemania\", \"Brasil\", \"Estados Unidos de Am\\u00e9rica\", \"India\", \"Eslovaquia\", \"Italia\", \"Inglaterra\", \"Cuba\", \"Ukrania\", \"Venezuela\", \"Indonesia\", \"Albania\", \"Paquistan\", \"Bahamas\", \"Argentina\", \"Islandia\", \"Escocia\", \"Sud\\u00e1n\", \"Nueva Zelanda\", \"Irlanda\", \"Macedonia\", \"Unknown\"], \"tickvals\": [0, 1, 2, 3, 4, 5, 6, 7, 8, 9, 10, 11, 12, 13, 14, 15, 16, 17, 18, 19, 20, 21, 22, 23, 24, 25, 26, 27, 28, 29, 30, 31, 32, 33]}}, {\"showLink\": false, \"linkText\": \"Export to plot.ly\", \"plotlyServerURL\": \"https://plot.ly\"}); \n",
       "}\n",
       "});</script><script type=\"text/javascript\">window.addEventListener(\"resize\", function(){if (document.getElementById(\"3b100c89-2bf3-4053-8b6b-bab70b891ab0\")) {window._Plotly.Plots.resize(document.getElementById(\"3b100c89-2bf3-4053-8b6b-bab70b891ab0\"));};})</script>"
      ],
      "text/vnd.plotly.v1+html": [
       "<div id=\"3b100c89-2bf3-4053-8b6b-bab70b891ab0\" style=\"height: 525px; width: 100%;\" class=\"plotly-graph-div\"></div><script type=\"text/javascript\">require([\"plotly\"], function(Plotly) { window.PLOTLYENV=window.PLOTLYENV || {};window.PLOTLYENV.BASE_URL=\"https://plot.ly\";\n",
       "if (document.getElementById(\"3b100c89-2bf3-4053-8b6b-bab70b891ab0\")) {\n",
       "    Plotly.newPlot(\"3b100c89-2bf3-4053-8b6b-bab70b891ab0\", [{\"marker\": {\"color\": [\"hsl(353.0, 64.0%, 53.0%)\", \"hsl(358.09090909090907, 69.81818181818181%, 54.696969696969695%)\", \"hsl(3.181818181818187, 75.63636363636364%, 56.39393939393939%)\", \"hsl(8.272727272727252, 81.45454545454545%, 58.09090909090909%)\", \"hsl(13.363636363636374, 87.27272727272728%, 59.78787878787879%)\", \"hsl(17.181818181818183, 89.9090909090909%, 61.696969696969695%)\", \"hsl(20.81818181818182, 92.0909090909091%, 63.63636363636364%)\", \"hsl(24.454545454545453, 94.27272727272728%, 65.57575757575758%)\", \"hsl(28.090909090909093, 96.45454545454545%, 67.51515151515152%)\", \"hsl(31.727272727272727, 97.18181818181819%, 69.63636363636364%)\", \"hsl(35.36363636363637, 97.42424242424242%, 71.81818181818181%)\", \"hsl(39.0, 97.66666666666667%, 74.0%)\", \"hsl(42.63636363636364, 97.9090909090909%, 76.18181818181819%)\", \"hsl(46.42424242424242, 98.3030303030303%, 78.51515151515152%)\", \"hsl(50.303030303030305, 98.78787878787878%, 80.93939393939394%)\", \"hsl(54.18181818181818, 99.27272727272727%, 83.36363636363636%)\", \"hsl(58.06060606060606, 99.75757575757575%, 85.78787878787878%)\", \"hsl(61.09090909090909, 97.81818181818181%, 85.78787878787878%)\", \"hsl(63.272727272727266, 93.45454545454547%, 83.36363636363637%)\", \"hsl(65.45454545454545, 89.09090909090908%, 80.93939393939394%)\", \"hsl(67.63636363636364, 84.72727272727272%, 78.51515151515152%)\", \"hsl(72.9090909090909, 78.63636363636364%, 76.81818181818181%)\", \"hsl(83.33333333333331, 69.66666666666669%, 76.33333333333333%)\", \"hsl(93.75757575757578, 60.69696969696968%, 75.84848484848484%)\", \"hsl(104.18181818181819, 51.72727272727272%, 75.36363636363636%)\", \"hsl(114.96969696969697, 44.81818181818182%, 73.96969696969697%)\", \"hsl(126.84848484848483, 44.09090909090909%, 69.84848484848486%)\", \"hsl(138.72727272727275, 43.36363636363636%, 65.72727272727272%)\", \"hsl(150.60606060606062, 42.63636363636363%, 61.6060606060606%)\", \"hsl(162.24242424242425, 42.484848484848484%, 57.63636363636364%)\", \"hsl(172.1818181818182, 46.36363636363636%, 54.727272727272734%)\", \"hsl(182.12121212121212, 50.24242424242425%, 51.81818181818181%)\", \"hsl(192.06060606060606, 54.121212121212125%, 48.90909090909091%)\", \"hsl(202.0, 58.0%, 46.0%)\"]}, \"x\": [0, 1, 2, 3, 4, 5, 6, 7, 8, 12, 13, 14, 15, 16, 17, 18, 21, 24, 25, 26, 27, 28, 31, 32, 33], \"y\": [73, 1, 1, 2, 1, 1, 8, 4, 1, 1, 1, 168, 29, 1, 5, 7, 2, 1, 1, 1, 1, 1, 2, 1, 22], \"type\": \"bar\", \"uid\": \"e060ec3c-6f0b-4be6-b21a-fd77ba25d762\"}], {\"bargap\": 0.2, \"xaxis\": {\"ticktext\": [\"Espa\\u00f1a\", \"Colombia\", \"M\\u00e9xico\", \"Rep\\u00fablica Dominicana\", \"Austria\", \"Chile\", \"Francia\", \"Canad\\u00e1\", \"Nigeria\", \"China\", \"Australia\", \"Rusia\", \"Alemania\", \"Brasil\", \"Estados Unidos de Am\\u00e9rica\", \"India\", \"Eslovaquia\", \"Italia\", \"Inglaterra\", \"Cuba\", \"Ukrania\", \"Venezuela\", \"Indonesia\", \"Albania\", \"Paquistan\", \"Bahamas\", \"Argentina\", \"Islandia\", \"Escocia\", \"Sud\\u00e1n\", \"Nueva Zelanda\", \"Irlanda\", \"Macedonia\", \"Unknown\"], \"tickvals\": [0, 1, 2, 3, 4, 5, 6, 7, 8, 9, 10, 11, 12, 13, 14, 15, 16, 17, 18, 19, 20, 21, 22, 23, 24, 25, 26, 27, 28, 29, 30, 31, 32, 33]}}, {\"showLink\": false, \"linkText\": \"Export to plot.ly\", \"plotlyServerURL\": \"https://plot.ly\"}); \n",
       "}\n",
       "});</script><script type=\"text/javascript\">window.addEventListener(\"resize\", function(){if (document.getElementById(\"3b100c89-2bf3-4053-8b6b-bab70b891ab0\")) {window._Plotly.Plots.resize(document.getElementById(\"3b100c89-2bf3-4053-8b6b-bab70b891ab0\"));};})</script>"
      ]
     },
     "metadata": {},
     "output_type": "display_data"
    },
    {
     "name": "stdout",
     "output_type": "stream",
     "text": [
      "\n",
      "\n",
      "Cluster 5 || variable: Nivel de estudios\n",
      "Describiendo la pregunta Nivel de estudios\n",
      "Valores numéricos asociados a las respuestas [0, 1, 2, 3, 4, 5]\n",
      "Respuestas posibles a la pregunta/variable ['Educación Primaria', 'Sin terminar Educación Secundaria Obligatoria', 'Terminada Educación Secundaria Obligatoria', 'FP', 'Universitario sin graduar', 'Universitario graduado']\n"
     ]
    },
    {
     "data": {
      "text/plain": [
       "count    336.000000\n",
       "mean       4.300595\n",
       "std        1.170074\n",
       "min        0.000000\n",
       "25%        4.000000\n",
       "50%        5.000000\n",
       "75%        5.000000\n",
       "max        5.000000\n",
       "Name: Nivel de estudios, dtype: float64"
      ]
     },
     "metadata": {},
     "output_type": "display_data"
    },
    {
     "name": "stdout",
     "output_type": "stream",
     "text": [
      "Conteo de cada valor en Nivel de estudios expresada como valor / cantidad\n"
     ]
    },
    {
     "data": {
      "text/plain": [
       "0      6\n",
       "1     11\n",
       "2     15\n",
       "3     23\n",
       "4     70\n",
       "5    211\n",
       "Name: Nivel de estudios, dtype: int64"
      ]
     },
     "metadata": {},
     "output_type": "display_data"
    },
    {
     "name": "stdout",
     "output_type": "stream",
     "text": [
      "Porcentaje de cada valor en Nivel de estudios expresado como valor / porcentaje\n"
     ]
    },
    {
     "data": {
      "text/plain": [
       "0     1.79\n",
       "1     3.27\n",
       "2     4.46\n",
       "3     6.85\n",
       "4    20.83\n",
       "5    62.80\n",
       "Name: Nivel de estudios, dtype: float64"
      ]
     },
     "metadata": {},
     "output_type": "display_data"
    },
    {
     "data": {
      "application/vnd.plotly.v1+json": {
       "config": {
        "linkText": "Export to plot.ly",
        "plotlyServerURL": "https://plot.ly",
        "showLink": false
       },
       "data": [
        {
         "marker": {
          "color": [
           "rgb(213,62,79)",
           "rgb(252,141,89)",
           "rgb(254,224,139)",
           "rgb(230,245,152)",
           "rgb(153,213,148)",
           "rgb(50,136,189)"
          ]
         },
         "type": "bar",
         "uid": "9754e212-916d-4676-bc40-8c9d9c172abc",
         "x": [
          0,
          1,
          2,
          3,
          4,
          5
         ],
         "y": [
          6,
          11,
          15,
          23,
          70,
          211
         ]
        }
       ],
       "layout": {
        "bargap": 0.2,
        "xaxis": {
         "ticktext": [
          "Educación Primaria",
          "Sin terminar Educación Secundaria Obligatoria",
          "Terminada Educación Secundaria Obligatoria",
          "FP",
          "Universitario sin graduar",
          "Universitario graduado"
         ],
         "tickvals": [
          0,
          1,
          2,
          3,
          4,
          5
         ]
        }
       }
      },
      "text/html": [
       "<div id=\"912d01b1-6369-4b48-96cf-edab6b617a38\" style=\"height: 525px; width: 100%;\" class=\"plotly-graph-div\"></div><script type=\"text/javascript\">require([\"plotly\"], function(Plotly) { window.PLOTLYENV=window.PLOTLYENV || {};window.PLOTLYENV.BASE_URL=\"https://plot.ly\";\n",
       "if (document.getElementById(\"912d01b1-6369-4b48-96cf-edab6b617a38\")) {\n",
       "    Plotly.newPlot(\"912d01b1-6369-4b48-96cf-edab6b617a38\", [{\"marker\": {\"color\": [\"rgb(213,62,79)\", \"rgb(252,141,89)\", \"rgb(254,224,139)\", \"rgb(230,245,152)\", \"rgb(153,213,148)\", \"rgb(50,136,189)\"]}, \"x\": [0, 1, 2, 3, 4, 5], \"y\": [6, 11, 15, 23, 70, 211], \"type\": \"bar\", \"uid\": \"9754e212-916d-4676-bc40-8c9d9c172abc\"}], {\"bargap\": 0.2, \"xaxis\": {\"ticktext\": [\"Educaci\\u00f3n Primaria\", \"Sin terminar Educaci\\u00f3n Secundaria Obligatoria\", \"Terminada Educaci\\u00f3n Secundaria Obligatoria\", \"FP\", \"Universitario sin graduar\", \"Universitario graduado\"], \"tickvals\": [0, 1, 2, 3, 4, 5]}}, {\"showLink\": false, \"linkText\": \"Export to plot.ly\", \"plotlyServerURL\": \"https://plot.ly\"}); \n",
       "}\n",
       "});</script><script type=\"text/javascript\">window.addEventListener(\"resize\", function(){if (document.getElementById(\"912d01b1-6369-4b48-96cf-edab6b617a38\")) {window._Plotly.Plots.resize(document.getElementById(\"912d01b1-6369-4b48-96cf-edab6b617a38\"));};})</script>"
      ],
      "text/vnd.plotly.v1+html": [
       "<div id=\"912d01b1-6369-4b48-96cf-edab6b617a38\" style=\"height: 525px; width: 100%;\" class=\"plotly-graph-div\"></div><script type=\"text/javascript\">require([\"plotly\"], function(Plotly) { window.PLOTLYENV=window.PLOTLYENV || {};window.PLOTLYENV.BASE_URL=\"https://plot.ly\";\n",
       "if (document.getElementById(\"912d01b1-6369-4b48-96cf-edab6b617a38\")) {\n",
       "    Plotly.newPlot(\"912d01b1-6369-4b48-96cf-edab6b617a38\", [{\"marker\": {\"color\": [\"rgb(213,62,79)\", \"rgb(252,141,89)\", \"rgb(254,224,139)\", \"rgb(230,245,152)\", \"rgb(153,213,148)\", \"rgb(50,136,189)\"]}, \"x\": [0, 1, 2, 3, 4, 5], \"y\": [6, 11, 15, 23, 70, 211], \"type\": \"bar\", \"uid\": \"9754e212-916d-4676-bc40-8c9d9c172abc\"}], {\"bargap\": 0.2, \"xaxis\": {\"ticktext\": [\"Educaci\\u00f3n Primaria\", \"Sin terminar Educaci\\u00f3n Secundaria Obligatoria\", \"Terminada Educaci\\u00f3n Secundaria Obligatoria\", \"FP\", \"Universitario sin graduar\", \"Universitario graduado\"], \"tickvals\": [0, 1, 2, 3, 4, 5]}}, {\"showLink\": false, \"linkText\": \"Export to plot.ly\", \"plotlyServerURL\": \"https://plot.ly\"}); \n",
       "}\n",
       "});</script><script type=\"text/javascript\">window.addEventListener(\"resize\", function(){if (document.getElementById(\"912d01b1-6369-4b48-96cf-edab6b617a38\")) {window._Plotly.Plots.resize(document.getElementById(\"912d01b1-6369-4b48-96cf-edab6b617a38\"));};})</script>"
      ]
     },
     "metadata": {},
     "output_type": "display_data"
    },
    {
     "name": "stdout",
     "output_type": "stream",
     "text": [
      "\n",
      "\n",
      "Cluster 2 || variable: Género\n",
      "Describiendo la pregunta Género\n"
     ]
    },
    {
     "data": {
      "text/plain": [
       "count    196.000000\n",
       "mean       0.479592\n",
       "std        0.510999\n",
       "min        0.000000\n",
       "25%        0.000000\n",
       "50%        0.000000\n",
       "75%        1.000000\n",
       "max        2.000000\n",
       "Name: Género, dtype: float64"
      ]
     },
     "metadata": {},
     "output_type": "display_data"
    },
    {
     "name": "stdout",
     "output_type": "stream",
     "text": [
      "Conteo de cada valor en Género expresada como valor / cantidad\n"
     ]
    },
    {
     "data": {
      "text/plain": [
       "0    103\n",
       "1     92\n",
       "2      1\n",
       "Name: Género, dtype: int64"
      ]
     },
     "metadata": {},
     "output_type": "display_data"
    },
    {
     "name": "stdout",
     "output_type": "stream",
     "text": [
      "Porcentaje de cada valor en Género expresado como valor / porcentaje\n"
     ]
    },
    {
     "data": {
      "text/plain": [
       "0    52.55\n",
       "1    46.94\n",
       "2     0.51\n",
       "Name: Género, dtype: float64"
      ]
     },
     "metadata": {},
     "output_type": "display_data"
    },
    {
     "data": {
      "application/vnd.plotly.v1+json": {
       "config": {
        "linkText": "Export to plot.ly",
        "plotlyServerURL": "https://plot.ly",
        "showLink": false
       },
       "data": [
        {
         "marker": {
          "color": [
           "rgb(213,62,79)",
           "rgb(252,141,89)",
           "rgb(254,224,139)",
           "rgb(230,245,152)",
           "rgb(153,213,148)",
           "rgb(50,136,189)"
          ]
         },
         "type": "bar",
         "uid": "eee8b9a9-5095-45be-b73f-a48d6a589f82",
         "x": [
          0,
          1,
          2
         ],
         "y": [
          103,
          92,
          1
         ]
        }
       ],
       "layout": {}
      },
      "text/html": [
       "<div id=\"51b94050-fe2f-4c0b-87c2-6bc7a94ff260\" style=\"height: 525px; width: 100%;\" class=\"plotly-graph-div\"></div><script type=\"text/javascript\">require([\"plotly\"], function(Plotly) { window.PLOTLYENV=window.PLOTLYENV || {};window.PLOTLYENV.BASE_URL=\"https://plot.ly\";\n",
       "if (document.getElementById(\"51b94050-fe2f-4c0b-87c2-6bc7a94ff260\")) {\n",
       "    Plotly.newPlot(\"51b94050-fe2f-4c0b-87c2-6bc7a94ff260\", [{\"marker\": {\"color\": [\"rgb(213,62,79)\", \"rgb(252,141,89)\", \"rgb(254,224,139)\", \"rgb(230,245,152)\", \"rgb(153,213,148)\", \"rgb(50,136,189)\"]}, \"x\": [0, 1, 2], \"y\": [103, 92, 1], \"type\": \"bar\", \"uid\": \"3c9e105e-d7ed-4abc-9c64-32e5e360bc69\"}], {}, {\"showLink\": false, \"linkText\": \"Export to plot.ly\", \"plotlyServerURL\": \"https://plot.ly\"}); \n",
       "}\n",
       "});</script><script type=\"text/javascript\">window.addEventListener(\"resize\", function(){if (document.getElementById(\"51b94050-fe2f-4c0b-87c2-6bc7a94ff260\")) {window._Plotly.Plots.resize(document.getElementById(\"51b94050-fe2f-4c0b-87c2-6bc7a94ff260\"));};})</script>"
      ],
      "text/vnd.plotly.v1+html": [
       "<div id=\"51b94050-fe2f-4c0b-87c2-6bc7a94ff260\" style=\"height: 525px; width: 100%;\" class=\"plotly-graph-div\"></div><script type=\"text/javascript\">require([\"plotly\"], function(Plotly) { window.PLOTLYENV=window.PLOTLYENV || {};window.PLOTLYENV.BASE_URL=\"https://plot.ly\";\n",
       "if (document.getElementById(\"51b94050-fe2f-4c0b-87c2-6bc7a94ff260\")) {\n",
       "    Plotly.newPlot(\"51b94050-fe2f-4c0b-87c2-6bc7a94ff260\", [{\"marker\": {\"color\": [\"rgb(213,62,79)\", \"rgb(252,141,89)\", \"rgb(254,224,139)\", \"rgb(230,245,152)\", \"rgb(153,213,148)\", \"rgb(50,136,189)\"]}, \"x\": [0, 1, 2], \"y\": [103, 92, 1], \"type\": \"bar\", \"uid\": \"3c9e105e-d7ed-4abc-9c64-32e5e360bc69\"}], {}, {\"showLink\": false, \"linkText\": \"Export to plot.ly\", \"plotlyServerURL\": \"https://plot.ly\"}); \n",
       "}\n",
       "});</script><script type=\"text/javascript\">window.addEventListener(\"resize\", function(){if (document.getElementById(\"51b94050-fe2f-4c0b-87c2-6bc7a94ff260\")) {window._Plotly.Plots.resize(document.getElementById(\"51b94050-fe2f-4c0b-87c2-6bc7a94ff260\"));};})</script>"
      ]
     },
     "metadata": {},
     "output_type": "display_data"
    },
    {
     "name": "stdout",
     "output_type": "stream",
     "text": [
      "\n",
      "\n",
      "Cluster 2 || variable: Edad\n",
      "Describiendo la pregunta Edad\n"
     ]
    },
    {
     "data": {
      "text/plain": [
       "count    196.000000\n",
       "mean      29.994898\n",
       "std       13.760403\n",
       "min       13.000000\n",
       "25%       16.750000\n",
       "50%       30.000000\n",
       "75%       36.250000\n",
       "max       71.000000\n",
       "Name: Edad, dtype: float64"
      ]
     },
     "metadata": {},
     "output_type": "display_data"
    },
    {
     "name": "stdout",
     "output_type": "stream",
     "text": [
      "Conteo de cada valor en Edad expresada como valor / cantidad\n"
     ]
    },
    {
     "data": {
      "text/plain": [
       "13     4\n",
       "14    22\n",
       "15    16\n",
       "16     7\n",
       "17     2\n",
       "18     7\n",
       "19     2\n",
       "20     1\n",
       "21     4\n",
       "22     2\n",
       "23     2\n",
       "24     5\n",
       "25     2\n",
       "26     4\n",
       "27     4\n",
       "28     6\n",
       "29     5\n",
       "30    12\n",
       "31     6\n",
       "32     9\n",
       "33     7\n",
       "34     9\n",
       "35     6\n",
       "36     3\n",
       "37     3\n",
       "38     6\n",
       "39     1\n",
       "40     3\n",
       "41     1\n",
       "43     3\n",
       "44     3\n",
       "45     2\n",
       "46     5\n",
       "47     2\n",
       "48     2\n",
       "49     1\n",
       "50     1\n",
       "53     2\n",
       "55     1\n",
       "57     2\n",
       "60     3\n",
       "62     2\n",
       "63     1\n",
       "66     1\n",
       "67     2\n",
       "69     1\n",
       "71     1\n",
       "Name: Edad, dtype: int64"
      ]
     },
     "metadata": {},
     "output_type": "display_data"
    },
    {
     "name": "stdout",
     "output_type": "stream",
     "text": [
      "Porcentaje de cada valor en Edad expresado como valor / porcentaje\n"
     ]
    },
    {
     "data": {
      "text/plain": [
       "13     2.04\n",
       "14    11.22\n",
       "15     8.16\n",
       "16     3.57\n",
       "17     1.02\n",
       "18     3.57\n",
       "19     1.02\n",
       "20     0.51\n",
       "21     2.04\n",
       "22     1.02\n",
       "23     1.02\n",
       "24     2.55\n",
       "25     1.02\n",
       "26     2.04\n",
       "27     2.04\n",
       "28     3.06\n",
       "29     2.55\n",
       "30     6.12\n",
       "31     3.06\n",
       "32     4.59\n",
       "33     3.57\n",
       "34     4.59\n",
       "35     3.06\n",
       "36     1.53\n",
       "37     1.53\n",
       "38     3.06\n",
       "39     0.51\n",
       "40     1.53\n",
       "41     0.51\n",
       "43     1.53\n",
       "44     1.53\n",
       "45     1.02\n",
       "46     2.55\n",
       "47     1.02\n",
       "48     1.02\n",
       "49     0.51\n",
       "50     0.51\n",
       "53     1.02\n",
       "55     0.51\n",
       "57     1.02\n",
       "60     1.53\n",
       "62     1.02\n",
       "63     0.51\n",
       "66     0.51\n",
       "67     1.02\n",
       "69     0.51\n",
       "71     0.51\n",
       "Name: Edad, dtype: float64"
      ]
     },
     "metadata": {},
     "output_type": "display_data"
    },
    {
     "data": {
      "application/vnd.plotly.v1+json": {
       "config": {
        "linkText": "Export to plot.ly",
        "plotlyServerURL": "https://plot.ly",
        "showLink": false
       },
       "data": [
        {
         "marker": {
          "color": [
           "hsl(147.27999999999997, 42.84%, 62.760000000000005%)",
           "hsl(18.2, 90.52%, 62.24%)",
           "hsl(47.2, 98.4%, 79.0%)",
           "hsl(74.16000000000001, 77.56%, 76.76%)",
           "hsl(147.27999999999997, 42.84%, 62.760000000000005%)",
           "hsl(67.2, 85.60000000000001%, 79.0%)",
           "hsl(64.32000000000001, 91.35999999999999%, 82.19999999999999%)",
           "hsl(67.2, 85.60000000000001%, 79.0%)",
           "hsl(27.799999999999997, 96.28%, 67.36%)",
           "hsl(57.44, 99.68%, 85.4%)",
           "hsl(37.4, 97.56%, 73.04%)",
           "hsl(353.0, 64.0%, 53.0%)",
           "hsl(32.6, 97.24%, 70.16%)",
           "hsl(13.160000000000025, 87.03999999999999%, 59.72%)",
           "hsl(359.72, 71.68%, 55.24%)",
           "hsl(353.0, 64.0%, 53.0%)",
           "hsl(6.439999999999998, 79.36%, 57.480000000000004%)",
           "hsl(359.72, 71.68%, 55.24%)",
           "hsl(27.799999999999997, 96.28%, 67.36%)",
           "hsl(27.799999999999997, 96.28%, 67.36%)",
           "hsl(27.799999999999997, 96.28%, 67.36%)",
           "hsl(23.0, 93.4%, 64.8%)",
           "hsl(18.2, 90.52%, 62.24%)",
           "hsl(52.32, 99.04%, 82.2%)",
           "hsl(47.2, 98.4%, 79.0%)",
           "hsl(42.2, 97.88%, 75.92%)",
           "hsl(61.44, 97.12%, 85.4%)",
           "hsl(87.92000000000002, 65.71999999999998%, 76.12%)",
           "hsl(87.92000000000002, 65.71999999999998%, 76.12%)",
           "hsl(64.32000000000001, 91.35999999999999%, 82.19999999999999%)",
           "hsl(64.32000000000001, 91.35999999999999%, 82.19999999999999%)",
           "hsl(101.67999999999999, 53.88000000000001%, 75.48%)",
           "hsl(101.67999999999999, 53.88000000000001%, 75.48%)",
           "hsl(61.44, 97.12%, 85.4%)",
           "hsl(87.92000000000002, 65.71999999999998%, 76.12%)",
           "hsl(147.27999999999997, 42.84%, 62.760000000000005%)",
           "hsl(162.64000000000001, 42.64%, 57.519999999999996%)",
           "hsl(131.60000000000002, 43.8%, 68.19999999999999%)",
           "hsl(131.60000000000002, 43.8%, 68.19999999999999%)",
           "hsl(188.88, 52.879999999999995%, 49.84%)",
           "hsl(101.67999999999999, 53.88000000000001%, 75.48%)",
           "hsl(162.64000000000001, 42.64%, 57.519999999999996%)",
           "hsl(115.92, 44.76%, 73.64%)",
           "hsl(147.27999999999997, 42.84%, 62.760000000000005%)",
           "hsl(131.60000000000002, 43.8%, 68.19999999999999%)",
           "hsl(202.0, 58.0%, 46.0%)",
           "hsl(188.88, 52.879999999999995%, 49.84%)",
           "hsl(147.27999999999997, 42.84%, 62.760000000000005%)",
           "hsl(175.76000000000002, 47.760000000000005%, 53.67999999999999%)",
           "hsl(115.92, 44.76%, 73.64%)",
           "hsl(202.0, 58.0%, 46.0%)",
           "hsl(175.76000000000002, 47.760000000000005%, 53.67999999999999%)",
           "hsl(188.88, 52.879999999999995%, 49.84%)",
           "hsl(188.88, 52.879999999999995%, 49.84%)",
           "hsl(162.64000000000001, 42.64%, 57.519999999999996%)",
           "hsl(202.0, 58.0%, 46.0%)",
           "hsl(188.88, 52.879999999999995%, 49.84%)",
           "hsl(202.0, 58.0%, 46.0%)",
           "hsl(202.0, 58.0%, 46.0%)",
           "hsl(202.0, 58.0%, 46.0%)",
           "hsl(202.0, 58.0%, 46.0%)",
           "hsl(188.88, 52.879999999999995%, 49.84%)"
          ]
         },
         "type": "bar",
         "uid": "98d255c2-9e4b-490b-9917-207fa4b416c5",
         "x": [
          13,
          14,
          15,
          16,
          17,
          18,
          19,
          20,
          21,
          22,
          23,
          24,
          25,
          26,
          27,
          28,
          29,
          30,
          31,
          32,
          33,
          34,
          35,
          36,
          37,
          38,
          39,
          40,
          41,
          43,
          44,
          45,
          46,
          47,
          48,
          49,
          50,
          53,
          55,
          57,
          60,
          62,
          63,
          66,
          67,
          69,
          71
         ],
         "y": [
          4,
          22,
          16,
          7,
          2,
          7,
          2,
          1,
          4,
          2,
          2,
          5,
          2,
          4,
          4,
          6,
          5,
          12,
          6,
          9,
          7,
          9,
          6,
          3,
          3,
          6,
          1,
          3,
          1,
          3,
          3,
          2,
          5,
          2,
          2,
          1,
          1,
          2,
          1,
          2,
          3,
          2,
          1,
          1,
          2,
          1,
          1
         ]
        }
       ],
       "layout": {}
      },
      "text/html": [
       "<div id=\"7f16eb1d-65ea-4d04-ab84-394904c5fe8d\" style=\"height: 525px; width: 100%;\" class=\"plotly-graph-div\"></div><script type=\"text/javascript\">require([\"plotly\"], function(Plotly) { window.PLOTLYENV=window.PLOTLYENV || {};window.PLOTLYENV.BASE_URL=\"https://plot.ly\";\n",
       "if (document.getElementById(\"7f16eb1d-65ea-4d04-ab84-394904c5fe8d\")) {\n",
       "    Plotly.newPlot(\"7f16eb1d-65ea-4d04-ab84-394904c5fe8d\", [{\"marker\": {\"color\": [\"hsl(147.27999999999997, 42.84%, 62.760000000000005%)\", \"hsl(18.2, 90.52%, 62.24%)\", \"hsl(47.2, 98.4%, 79.0%)\", \"hsl(74.16000000000001, 77.56%, 76.76%)\", \"hsl(147.27999999999997, 42.84%, 62.760000000000005%)\", \"hsl(67.2, 85.60000000000001%, 79.0%)\", \"hsl(64.32000000000001, 91.35999999999999%, 82.19999999999999%)\", \"hsl(67.2, 85.60000000000001%, 79.0%)\", \"hsl(27.799999999999997, 96.28%, 67.36%)\", \"hsl(57.44, 99.68%, 85.4%)\", \"hsl(37.4, 97.56%, 73.04%)\", \"hsl(353.0, 64.0%, 53.0%)\", \"hsl(32.6, 97.24%, 70.16%)\", \"hsl(13.160000000000025, 87.03999999999999%, 59.72%)\", \"hsl(359.72, 71.68%, 55.24%)\", \"hsl(353.0, 64.0%, 53.0%)\", \"hsl(6.439999999999998, 79.36%, 57.480000000000004%)\", \"hsl(359.72, 71.68%, 55.24%)\", \"hsl(27.799999999999997, 96.28%, 67.36%)\", \"hsl(27.799999999999997, 96.28%, 67.36%)\", \"hsl(27.799999999999997, 96.28%, 67.36%)\", \"hsl(23.0, 93.4%, 64.8%)\", \"hsl(18.2, 90.52%, 62.24%)\", \"hsl(52.32, 99.04%, 82.2%)\", \"hsl(47.2, 98.4%, 79.0%)\", \"hsl(42.2, 97.88%, 75.92%)\", \"hsl(61.44, 97.12%, 85.4%)\", \"hsl(87.92000000000002, 65.71999999999998%, 76.12%)\", \"hsl(87.92000000000002, 65.71999999999998%, 76.12%)\", \"hsl(64.32000000000001, 91.35999999999999%, 82.19999999999999%)\", \"hsl(64.32000000000001, 91.35999999999999%, 82.19999999999999%)\", \"hsl(101.67999999999999, 53.88000000000001%, 75.48%)\", \"hsl(101.67999999999999, 53.88000000000001%, 75.48%)\", \"hsl(61.44, 97.12%, 85.4%)\", \"hsl(87.92000000000002, 65.71999999999998%, 76.12%)\", \"hsl(147.27999999999997, 42.84%, 62.760000000000005%)\", \"hsl(162.64000000000001, 42.64%, 57.519999999999996%)\", \"hsl(131.60000000000002, 43.8%, 68.19999999999999%)\", \"hsl(131.60000000000002, 43.8%, 68.19999999999999%)\", \"hsl(188.88, 52.879999999999995%, 49.84%)\", \"hsl(101.67999999999999, 53.88000000000001%, 75.48%)\", \"hsl(162.64000000000001, 42.64%, 57.519999999999996%)\", \"hsl(115.92, 44.76%, 73.64%)\", \"hsl(147.27999999999997, 42.84%, 62.760000000000005%)\", \"hsl(131.60000000000002, 43.8%, 68.19999999999999%)\", \"hsl(202.0, 58.0%, 46.0%)\", \"hsl(188.88, 52.879999999999995%, 49.84%)\", \"hsl(147.27999999999997, 42.84%, 62.760000000000005%)\", \"hsl(175.76000000000002, 47.760000000000005%, 53.67999999999999%)\", \"hsl(115.92, 44.76%, 73.64%)\", \"hsl(202.0, 58.0%, 46.0%)\", \"hsl(175.76000000000002, 47.760000000000005%, 53.67999999999999%)\", \"hsl(188.88, 52.879999999999995%, 49.84%)\", \"hsl(188.88, 52.879999999999995%, 49.84%)\", \"hsl(162.64000000000001, 42.64%, 57.519999999999996%)\", \"hsl(202.0, 58.0%, 46.0%)\", \"hsl(188.88, 52.879999999999995%, 49.84%)\", \"hsl(202.0, 58.0%, 46.0%)\", \"hsl(202.0, 58.0%, 46.0%)\", \"hsl(202.0, 58.0%, 46.0%)\", \"hsl(202.0, 58.0%, 46.0%)\", \"hsl(188.88, 52.879999999999995%, 49.84%)\"]}, \"x\": [13, 14, 15, 16, 17, 18, 19, 20, 21, 22, 23, 24, 25, 26, 27, 28, 29, 30, 31, 32, 33, 34, 35, 36, 37, 38, 39, 40, 41, 43, 44, 45, 46, 47, 48, 49, 50, 53, 55, 57, 60, 62, 63, 66, 67, 69, 71], \"y\": [4, 22, 16, 7, 2, 7, 2, 1, 4, 2, 2, 5, 2, 4, 4, 6, 5, 12, 6, 9, 7, 9, 6, 3, 3, 6, 1, 3, 1, 3, 3, 2, 5, 2, 2, 1, 1, 2, 1, 2, 3, 2, 1, 1, 2, 1, 1], \"type\": \"bar\", \"uid\": \"f053d621-8509-4d8e-a3a8-c1c4f13e58bb\"}], {}, {\"showLink\": false, \"linkText\": \"Export to plot.ly\", \"plotlyServerURL\": \"https://plot.ly\"}); \n",
       "}\n",
       "});</script><script type=\"text/javascript\">window.addEventListener(\"resize\", function(){if (document.getElementById(\"7f16eb1d-65ea-4d04-ab84-394904c5fe8d\")) {window._Plotly.Plots.resize(document.getElementById(\"7f16eb1d-65ea-4d04-ab84-394904c5fe8d\"));};})</script>"
      ],
      "text/vnd.plotly.v1+html": [
       "<div id=\"7f16eb1d-65ea-4d04-ab84-394904c5fe8d\" style=\"height: 525px; width: 100%;\" class=\"plotly-graph-div\"></div><script type=\"text/javascript\">require([\"plotly\"], function(Plotly) { window.PLOTLYENV=window.PLOTLYENV || {};window.PLOTLYENV.BASE_URL=\"https://plot.ly\";\n",
       "if (document.getElementById(\"7f16eb1d-65ea-4d04-ab84-394904c5fe8d\")) {\n",
       "    Plotly.newPlot(\"7f16eb1d-65ea-4d04-ab84-394904c5fe8d\", [{\"marker\": {\"color\": [\"hsl(147.27999999999997, 42.84%, 62.760000000000005%)\", \"hsl(18.2, 90.52%, 62.24%)\", \"hsl(47.2, 98.4%, 79.0%)\", \"hsl(74.16000000000001, 77.56%, 76.76%)\", \"hsl(147.27999999999997, 42.84%, 62.760000000000005%)\", \"hsl(67.2, 85.60000000000001%, 79.0%)\", \"hsl(64.32000000000001, 91.35999999999999%, 82.19999999999999%)\", \"hsl(67.2, 85.60000000000001%, 79.0%)\", \"hsl(27.799999999999997, 96.28%, 67.36%)\", \"hsl(57.44, 99.68%, 85.4%)\", \"hsl(37.4, 97.56%, 73.04%)\", \"hsl(353.0, 64.0%, 53.0%)\", \"hsl(32.6, 97.24%, 70.16%)\", \"hsl(13.160000000000025, 87.03999999999999%, 59.72%)\", \"hsl(359.72, 71.68%, 55.24%)\", \"hsl(353.0, 64.0%, 53.0%)\", \"hsl(6.439999999999998, 79.36%, 57.480000000000004%)\", \"hsl(359.72, 71.68%, 55.24%)\", \"hsl(27.799999999999997, 96.28%, 67.36%)\", \"hsl(27.799999999999997, 96.28%, 67.36%)\", \"hsl(27.799999999999997, 96.28%, 67.36%)\", \"hsl(23.0, 93.4%, 64.8%)\", \"hsl(18.2, 90.52%, 62.24%)\", \"hsl(52.32, 99.04%, 82.2%)\", \"hsl(47.2, 98.4%, 79.0%)\", \"hsl(42.2, 97.88%, 75.92%)\", \"hsl(61.44, 97.12%, 85.4%)\", \"hsl(87.92000000000002, 65.71999999999998%, 76.12%)\", \"hsl(87.92000000000002, 65.71999999999998%, 76.12%)\", \"hsl(64.32000000000001, 91.35999999999999%, 82.19999999999999%)\", \"hsl(64.32000000000001, 91.35999999999999%, 82.19999999999999%)\", \"hsl(101.67999999999999, 53.88000000000001%, 75.48%)\", \"hsl(101.67999999999999, 53.88000000000001%, 75.48%)\", \"hsl(61.44, 97.12%, 85.4%)\", \"hsl(87.92000000000002, 65.71999999999998%, 76.12%)\", \"hsl(147.27999999999997, 42.84%, 62.760000000000005%)\", \"hsl(162.64000000000001, 42.64%, 57.519999999999996%)\", \"hsl(131.60000000000002, 43.8%, 68.19999999999999%)\", \"hsl(131.60000000000002, 43.8%, 68.19999999999999%)\", \"hsl(188.88, 52.879999999999995%, 49.84%)\", \"hsl(101.67999999999999, 53.88000000000001%, 75.48%)\", \"hsl(162.64000000000001, 42.64%, 57.519999999999996%)\", \"hsl(115.92, 44.76%, 73.64%)\", \"hsl(147.27999999999997, 42.84%, 62.760000000000005%)\", \"hsl(131.60000000000002, 43.8%, 68.19999999999999%)\", \"hsl(202.0, 58.0%, 46.0%)\", \"hsl(188.88, 52.879999999999995%, 49.84%)\", \"hsl(147.27999999999997, 42.84%, 62.760000000000005%)\", \"hsl(175.76000000000002, 47.760000000000005%, 53.67999999999999%)\", \"hsl(115.92, 44.76%, 73.64%)\", \"hsl(202.0, 58.0%, 46.0%)\", \"hsl(175.76000000000002, 47.760000000000005%, 53.67999999999999%)\", \"hsl(188.88, 52.879999999999995%, 49.84%)\", \"hsl(188.88, 52.879999999999995%, 49.84%)\", \"hsl(162.64000000000001, 42.64%, 57.519999999999996%)\", \"hsl(202.0, 58.0%, 46.0%)\", \"hsl(188.88, 52.879999999999995%, 49.84%)\", \"hsl(202.0, 58.0%, 46.0%)\", \"hsl(202.0, 58.0%, 46.0%)\", \"hsl(202.0, 58.0%, 46.0%)\", \"hsl(202.0, 58.0%, 46.0%)\", \"hsl(188.88, 52.879999999999995%, 49.84%)\"]}, \"x\": [13, 14, 15, 16, 17, 18, 19, 20, 21, 22, 23, 24, 25, 26, 27, 28, 29, 30, 31, 32, 33, 34, 35, 36, 37, 38, 39, 40, 41, 43, 44, 45, 46, 47, 48, 49, 50, 53, 55, 57, 60, 62, 63, 66, 67, 69, 71], \"y\": [4, 22, 16, 7, 2, 7, 2, 1, 4, 2, 2, 5, 2, 4, 4, 6, 5, 12, 6, 9, 7, 9, 6, 3, 3, 6, 1, 3, 1, 3, 3, 2, 5, 2, 2, 1, 1, 2, 1, 2, 3, 2, 1, 1, 2, 1, 1], \"type\": \"bar\", \"uid\": \"f053d621-8509-4d8e-a3a8-c1c4f13e58bb\"}], {}, {\"showLink\": false, \"linkText\": \"Export to plot.ly\", \"plotlyServerURL\": \"https://plot.ly\"}); \n",
       "}\n",
       "});</script><script type=\"text/javascript\">window.addEventListener(\"resize\", function(){if (document.getElementById(\"7f16eb1d-65ea-4d04-ab84-394904c5fe8d\")) {window._Plotly.Plots.resize(document.getElementById(\"7f16eb1d-65ea-4d04-ab84-394904c5fe8d\"));};})</script>"
      ]
     },
     "metadata": {},
     "output_type": "display_data"
    },
    {
     "name": "stdout",
     "output_type": "stream",
     "text": [
      "\n",
      "\n",
      "Cluster 2 || variable: Nacionalidad\n",
      "Describiendo la pregunta Nacionalidad\n",
      "Valores numéricos asociados a las respuestas [0, 1, 2, 3, 4, 5, 6, 7, 8, 9, 10, 11, 12, 13, 14, 15, 16, 17, 18, 19, 20, 21, 22, 23, 24, 25, 26, 27, 28, 29, 30, 31, 32, 33]\n",
      "Respuestas posibles a la pregunta/variable ['España', 'Colombia', 'México', 'República Dominicana', 'Austria', 'Chile', 'Francia', 'Canadá', 'Nigeria', 'China', 'Australia', 'Rusia', 'Alemania', 'Brasil', 'Estados Unidos de América', 'India', 'Eslovaquia', 'Italia', 'Inglaterra', 'Cuba', 'Ukrania', 'Venezuela', 'Indonesia', 'Albania', 'Paquistan', 'Bahamas', 'Argentina', 'Islandia', 'Escocia', 'Sudán', 'Nueva Zelanda', 'Irlanda', 'Macedonia', 'Unknown']\n"
     ]
    },
    {
     "data": {
      "text/plain": [
       "count    196.000000\n",
       "mean       8.255102\n",
       "std        8.268335\n",
       "min        0.000000\n",
       "25%        0.000000\n",
       "50%       14.000000\n",
       "75%       14.000000\n",
       "max       33.000000\n",
       "Name: Nacionalidad, dtype: float64"
      ]
     },
     "metadata": {},
     "output_type": "display_data"
    },
    {
     "name": "stdout",
     "output_type": "stream",
     "text": [
      "Conteo de cada valor en Nacionalidad expresada como valor / cantidad\n"
     ]
    },
    {
     "data": {
      "text/plain": [
       "0     87\n",
       "6      4\n",
       "7      1\n",
       "8      3\n",
       "9      1\n",
       "13     1\n",
       "14    65\n",
       "15    26\n",
       "20     1\n",
       "23     1\n",
       "33     6\n",
       "Name: Nacionalidad, dtype: int64"
      ]
     },
     "metadata": {},
     "output_type": "display_data"
    },
    {
     "name": "stdout",
     "output_type": "stream",
     "text": [
      "Porcentaje de cada valor en Nacionalidad expresado como valor / porcentaje\n"
     ]
    },
    {
     "data": {
      "text/plain": [
       "0     44.39\n",
       "6      2.04\n",
       "7      0.51\n",
       "8      1.53\n",
       "9      0.51\n",
       "13     0.51\n",
       "14    33.16\n",
       "15    13.27\n",
       "20     0.51\n",
       "23     0.51\n",
       "33     3.06\n",
       "Name: Nacionalidad, dtype: float64"
      ]
     },
     "metadata": {},
     "output_type": "display_data"
    },
    {
     "data": {
      "application/vnd.plotly.v1+json": {
       "config": {
        "linkText": "Export to plot.ly",
        "plotlyServerURL": "https://plot.ly",
        "showLink": false
       },
       "data": [
        {
         "marker": {
          "color": [
           "hsl(353.0, 64.0%, 53.0%)",
           "hsl(358.09090909090907, 69.81818181818181%, 54.696969696969695%)",
           "hsl(3.181818181818187, 75.63636363636364%, 56.39393939393939%)",
           "hsl(8.272727272727252, 81.45454545454545%, 58.09090909090909%)",
           "hsl(13.363636363636374, 87.27272727272728%, 59.78787878787879%)",
           "hsl(17.181818181818183, 89.9090909090909%, 61.696969696969695%)",
           "hsl(20.81818181818182, 92.0909090909091%, 63.63636363636364%)",
           "hsl(24.454545454545453, 94.27272727272728%, 65.57575757575758%)",
           "hsl(28.090909090909093, 96.45454545454545%, 67.51515151515152%)",
           "hsl(31.727272727272727, 97.18181818181819%, 69.63636363636364%)",
           "hsl(35.36363636363637, 97.42424242424242%, 71.81818181818181%)",
           "hsl(39.0, 97.66666666666667%, 74.0%)",
           "hsl(42.63636363636364, 97.9090909090909%, 76.18181818181819%)",
           "hsl(46.42424242424242, 98.3030303030303%, 78.51515151515152%)",
           "hsl(50.303030303030305, 98.78787878787878%, 80.93939393939394%)",
           "hsl(54.18181818181818, 99.27272727272727%, 83.36363636363636%)",
           "hsl(58.06060606060606, 99.75757575757575%, 85.78787878787878%)",
           "hsl(61.09090909090909, 97.81818181818181%, 85.78787878787878%)",
           "hsl(63.272727272727266, 93.45454545454547%, 83.36363636363637%)",
           "hsl(65.45454545454545, 89.09090909090908%, 80.93939393939394%)",
           "hsl(67.63636363636364, 84.72727272727272%, 78.51515151515152%)",
           "hsl(72.9090909090909, 78.63636363636364%, 76.81818181818181%)",
           "hsl(83.33333333333331, 69.66666666666669%, 76.33333333333333%)",
           "hsl(93.75757575757578, 60.69696969696968%, 75.84848484848484%)",
           "hsl(104.18181818181819, 51.72727272727272%, 75.36363636363636%)",
           "hsl(114.96969696969697, 44.81818181818182%, 73.96969696969697%)",
           "hsl(126.84848484848483, 44.09090909090909%, 69.84848484848486%)",
           "hsl(138.72727272727275, 43.36363636363636%, 65.72727272727272%)",
           "hsl(150.60606060606062, 42.63636363636363%, 61.6060606060606%)",
           "hsl(162.24242424242425, 42.484848484848484%, 57.63636363636364%)",
           "hsl(172.1818181818182, 46.36363636363636%, 54.727272727272734%)",
           "hsl(182.12121212121212, 50.24242424242425%, 51.81818181818181%)",
           "hsl(192.06060606060606, 54.121212121212125%, 48.90909090909091%)",
           "hsl(202.0, 58.0%, 46.0%)"
          ]
         },
         "type": "bar",
         "uid": "b6a7206d-2d38-43bb-9360-4593c6d917e2",
         "x": [
          0,
          6,
          7,
          8,
          9,
          13,
          14,
          15,
          20,
          23,
          33
         ],
         "y": [
          87,
          4,
          1,
          3,
          1,
          1,
          65,
          26,
          1,
          1,
          6
         ]
        }
       ],
       "layout": {
        "bargap": 0.2,
        "xaxis": {
         "ticktext": [
          "España",
          "Colombia",
          "México",
          "República Dominicana",
          "Austria",
          "Chile",
          "Francia",
          "Canadá",
          "Nigeria",
          "China",
          "Australia",
          "Rusia",
          "Alemania",
          "Brasil",
          "Estados Unidos de América",
          "India",
          "Eslovaquia",
          "Italia",
          "Inglaterra",
          "Cuba",
          "Ukrania",
          "Venezuela",
          "Indonesia",
          "Albania",
          "Paquistan",
          "Bahamas",
          "Argentina",
          "Islandia",
          "Escocia",
          "Sudán",
          "Nueva Zelanda",
          "Irlanda",
          "Macedonia",
          "Unknown"
         ],
         "tickvals": [
          0,
          1,
          2,
          3,
          4,
          5,
          6,
          7,
          8,
          9,
          10,
          11,
          12,
          13,
          14,
          15,
          16,
          17,
          18,
          19,
          20,
          21,
          22,
          23,
          24,
          25,
          26,
          27,
          28,
          29,
          30,
          31,
          32,
          33
         ]
        }
       }
      },
      "text/html": [
       "<div id=\"fd0ba082-13e1-4c4f-8fde-a2dc4c8d2a78\" style=\"height: 525px; width: 100%;\" class=\"plotly-graph-div\"></div><script type=\"text/javascript\">require([\"plotly\"], function(Plotly) { window.PLOTLYENV=window.PLOTLYENV || {};window.PLOTLYENV.BASE_URL=\"https://plot.ly\";\n",
       "if (document.getElementById(\"fd0ba082-13e1-4c4f-8fde-a2dc4c8d2a78\")) {\n",
       "    Plotly.newPlot(\"fd0ba082-13e1-4c4f-8fde-a2dc4c8d2a78\", [{\"marker\": {\"color\": [\"hsl(353.0, 64.0%, 53.0%)\", \"hsl(358.09090909090907, 69.81818181818181%, 54.696969696969695%)\", \"hsl(3.181818181818187, 75.63636363636364%, 56.39393939393939%)\", \"hsl(8.272727272727252, 81.45454545454545%, 58.09090909090909%)\", \"hsl(13.363636363636374, 87.27272727272728%, 59.78787878787879%)\", \"hsl(17.181818181818183, 89.9090909090909%, 61.696969696969695%)\", \"hsl(20.81818181818182, 92.0909090909091%, 63.63636363636364%)\", \"hsl(24.454545454545453, 94.27272727272728%, 65.57575757575758%)\", \"hsl(28.090909090909093, 96.45454545454545%, 67.51515151515152%)\", \"hsl(31.727272727272727, 97.18181818181819%, 69.63636363636364%)\", \"hsl(35.36363636363637, 97.42424242424242%, 71.81818181818181%)\", \"hsl(39.0, 97.66666666666667%, 74.0%)\", \"hsl(42.63636363636364, 97.9090909090909%, 76.18181818181819%)\", \"hsl(46.42424242424242, 98.3030303030303%, 78.51515151515152%)\", \"hsl(50.303030303030305, 98.78787878787878%, 80.93939393939394%)\", \"hsl(54.18181818181818, 99.27272727272727%, 83.36363636363636%)\", \"hsl(58.06060606060606, 99.75757575757575%, 85.78787878787878%)\", \"hsl(61.09090909090909, 97.81818181818181%, 85.78787878787878%)\", \"hsl(63.272727272727266, 93.45454545454547%, 83.36363636363637%)\", \"hsl(65.45454545454545, 89.09090909090908%, 80.93939393939394%)\", \"hsl(67.63636363636364, 84.72727272727272%, 78.51515151515152%)\", \"hsl(72.9090909090909, 78.63636363636364%, 76.81818181818181%)\", \"hsl(83.33333333333331, 69.66666666666669%, 76.33333333333333%)\", \"hsl(93.75757575757578, 60.69696969696968%, 75.84848484848484%)\", \"hsl(104.18181818181819, 51.72727272727272%, 75.36363636363636%)\", \"hsl(114.96969696969697, 44.81818181818182%, 73.96969696969697%)\", \"hsl(126.84848484848483, 44.09090909090909%, 69.84848484848486%)\", \"hsl(138.72727272727275, 43.36363636363636%, 65.72727272727272%)\", \"hsl(150.60606060606062, 42.63636363636363%, 61.6060606060606%)\", \"hsl(162.24242424242425, 42.484848484848484%, 57.63636363636364%)\", \"hsl(172.1818181818182, 46.36363636363636%, 54.727272727272734%)\", \"hsl(182.12121212121212, 50.24242424242425%, 51.81818181818181%)\", \"hsl(192.06060606060606, 54.121212121212125%, 48.90909090909091%)\", \"hsl(202.0, 58.0%, 46.0%)\"]}, \"x\": [0, 6, 7, 8, 9, 13, 14, 15, 20, 23, 33], \"y\": [87, 4, 1, 3, 1, 1, 65, 26, 1, 1, 6], \"type\": \"bar\", \"uid\": \"b6a7206d-2d38-43bb-9360-4593c6d917e2\"}], {\"bargap\": 0.2, \"xaxis\": {\"ticktext\": [\"Espa\\u00f1a\", \"Colombia\", \"M\\u00e9xico\", \"Rep\\u00fablica Dominicana\", \"Austria\", \"Chile\", \"Francia\", \"Canad\\u00e1\", \"Nigeria\", \"China\", \"Australia\", \"Rusia\", \"Alemania\", \"Brasil\", \"Estados Unidos de Am\\u00e9rica\", \"India\", \"Eslovaquia\", \"Italia\", \"Inglaterra\", \"Cuba\", \"Ukrania\", \"Venezuela\", \"Indonesia\", \"Albania\", \"Paquistan\", \"Bahamas\", \"Argentina\", \"Islandia\", \"Escocia\", \"Sud\\u00e1n\", \"Nueva Zelanda\", \"Irlanda\", \"Macedonia\", \"Unknown\"], \"tickvals\": [0, 1, 2, 3, 4, 5, 6, 7, 8, 9, 10, 11, 12, 13, 14, 15, 16, 17, 18, 19, 20, 21, 22, 23, 24, 25, 26, 27, 28, 29, 30, 31, 32, 33]}}, {\"showLink\": false, \"linkText\": \"Export to plot.ly\", \"plotlyServerURL\": \"https://plot.ly\"}); \n",
       "}\n",
       "});</script><script type=\"text/javascript\">window.addEventListener(\"resize\", function(){if (document.getElementById(\"fd0ba082-13e1-4c4f-8fde-a2dc4c8d2a78\")) {window._Plotly.Plots.resize(document.getElementById(\"fd0ba082-13e1-4c4f-8fde-a2dc4c8d2a78\"));};})</script>"
      ],
      "text/vnd.plotly.v1+html": [
       "<div id=\"fd0ba082-13e1-4c4f-8fde-a2dc4c8d2a78\" style=\"height: 525px; width: 100%;\" class=\"plotly-graph-div\"></div><script type=\"text/javascript\">require([\"plotly\"], function(Plotly) { window.PLOTLYENV=window.PLOTLYENV || {};window.PLOTLYENV.BASE_URL=\"https://plot.ly\";\n",
       "if (document.getElementById(\"fd0ba082-13e1-4c4f-8fde-a2dc4c8d2a78\")) {\n",
       "    Plotly.newPlot(\"fd0ba082-13e1-4c4f-8fde-a2dc4c8d2a78\", [{\"marker\": {\"color\": [\"hsl(353.0, 64.0%, 53.0%)\", \"hsl(358.09090909090907, 69.81818181818181%, 54.696969696969695%)\", \"hsl(3.181818181818187, 75.63636363636364%, 56.39393939393939%)\", \"hsl(8.272727272727252, 81.45454545454545%, 58.09090909090909%)\", \"hsl(13.363636363636374, 87.27272727272728%, 59.78787878787879%)\", \"hsl(17.181818181818183, 89.9090909090909%, 61.696969696969695%)\", \"hsl(20.81818181818182, 92.0909090909091%, 63.63636363636364%)\", \"hsl(24.454545454545453, 94.27272727272728%, 65.57575757575758%)\", \"hsl(28.090909090909093, 96.45454545454545%, 67.51515151515152%)\", \"hsl(31.727272727272727, 97.18181818181819%, 69.63636363636364%)\", \"hsl(35.36363636363637, 97.42424242424242%, 71.81818181818181%)\", \"hsl(39.0, 97.66666666666667%, 74.0%)\", \"hsl(42.63636363636364, 97.9090909090909%, 76.18181818181819%)\", \"hsl(46.42424242424242, 98.3030303030303%, 78.51515151515152%)\", \"hsl(50.303030303030305, 98.78787878787878%, 80.93939393939394%)\", \"hsl(54.18181818181818, 99.27272727272727%, 83.36363636363636%)\", \"hsl(58.06060606060606, 99.75757575757575%, 85.78787878787878%)\", \"hsl(61.09090909090909, 97.81818181818181%, 85.78787878787878%)\", \"hsl(63.272727272727266, 93.45454545454547%, 83.36363636363637%)\", \"hsl(65.45454545454545, 89.09090909090908%, 80.93939393939394%)\", \"hsl(67.63636363636364, 84.72727272727272%, 78.51515151515152%)\", \"hsl(72.9090909090909, 78.63636363636364%, 76.81818181818181%)\", \"hsl(83.33333333333331, 69.66666666666669%, 76.33333333333333%)\", \"hsl(93.75757575757578, 60.69696969696968%, 75.84848484848484%)\", \"hsl(104.18181818181819, 51.72727272727272%, 75.36363636363636%)\", \"hsl(114.96969696969697, 44.81818181818182%, 73.96969696969697%)\", \"hsl(126.84848484848483, 44.09090909090909%, 69.84848484848486%)\", \"hsl(138.72727272727275, 43.36363636363636%, 65.72727272727272%)\", \"hsl(150.60606060606062, 42.63636363636363%, 61.6060606060606%)\", \"hsl(162.24242424242425, 42.484848484848484%, 57.63636363636364%)\", \"hsl(172.1818181818182, 46.36363636363636%, 54.727272727272734%)\", \"hsl(182.12121212121212, 50.24242424242425%, 51.81818181818181%)\", \"hsl(192.06060606060606, 54.121212121212125%, 48.90909090909091%)\", \"hsl(202.0, 58.0%, 46.0%)\"]}, \"x\": [0, 6, 7, 8, 9, 13, 14, 15, 20, 23, 33], \"y\": [87, 4, 1, 3, 1, 1, 65, 26, 1, 1, 6], \"type\": \"bar\", \"uid\": \"b6a7206d-2d38-43bb-9360-4593c6d917e2\"}], {\"bargap\": 0.2, \"xaxis\": {\"ticktext\": [\"Espa\\u00f1a\", \"Colombia\", \"M\\u00e9xico\", \"Rep\\u00fablica Dominicana\", \"Austria\", \"Chile\", \"Francia\", \"Canad\\u00e1\", \"Nigeria\", \"China\", \"Australia\", \"Rusia\", \"Alemania\", \"Brasil\", \"Estados Unidos de Am\\u00e9rica\", \"India\", \"Eslovaquia\", \"Italia\", \"Inglaterra\", \"Cuba\", \"Ukrania\", \"Venezuela\", \"Indonesia\", \"Albania\", \"Paquistan\", \"Bahamas\", \"Argentina\", \"Islandia\", \"Escocia\", \"Sud\\u00e1n\", \"Nueva Zelanda\", \"Irlanda\", \"Macedonia\", \"Unknown\"], \"tickvals\": [0, 1, 2, 3, 4, 5, 6, 7, 8, 9, 10, 11, 12, 13, 14, 15, 16, 17, 18, 19, 20, 21, 22, 23, 24, 25, 26, 27, 28, 29, 30, 31, 32, 33]}}, {\"showLink\": false, \"linkText\": \"Export to plot.ly\", \"plotlyServerURL\": \"https://plot.ly\"}); \n",
       "}\n",
       "});</script><script type=\"text/javascript\">window.addEventListener(\"resize\", function(){if (document.getElementById(\"fd0ba082-13e1-4c4f-8fde-a2dc4c8d2a78\")) {window._Plotly.Plots.resize(document.getElementById(\"fd0ba082-13e1-4c4f-8fde-a2dc4c8d2a78\"));};})</script>"
      ]
     },
     "metadata": {},
     "output_type": "display_data"
    },
    {
     "name": "stdout",
     "output_type": "stream",
     "text": [
      "\n",
      "\n",
      "Cluster 2 || variable: Nivel de estudios\n",
      "Describiendo la pregunta Nivel de estudios\n",
      "Valores numéricos asociados a las respuestas [0, 1, 2, 3, 4, 5]\n",
      "Respuestas posibles a la pregunta/variable ['Educación Primaria', 'Sin terminar Educación Secundaria Obligatoria', 'Terminada Educación Secundaria Obligatoria', 'FP', 'Universitario sin graduar', 'Universitario graduado']\n"
     ]
    },
    {
     "data": {
      "text/plain": [
       "count    196.000000\n",
       "mean       3.397959\n",
       "std        1.755518\n",
       "min        0.000000\n",
       "25%        1.000000\n",
       "50%        4.000000\n",
       "75%        5.000000\n",
       "max        5.000000\n",
       "Name: Nivel de estudios, dtype: float64"
      ]
     },
     "metadata": {},
     "output_type": "display_data"
    },
    {
     "name": "stdout",
     "output_type": "stream",
     "text": [
      "Conteo de cada valor en Nivel de estudios expresada como valor / cantidad\n"
     ]
    },
    {
     "data": {
      "text/plain": [
       "0     2\n",
       "1    54\n",
       "2    14\n",
       "3     9\n",
       "4    28\n",
       "5    89\n",
       "Name: Nivel de estudios, dtype: int64"
      ]
     },
     "metadata": {},
     "output_type": "display_data"
    },
    {
     "name": "stdout",
     "output_type": "stream",
     "text": [
      "Porcentaje de cada valor en Nivel de estudios expresado como valor / porcentaje\n"
     ]
    },
    {
     "data": {
      "text/plain": [
       "0     1.02\n",
       "1    27.55\n",
       "2     7.14\n",
       "3     4.59\n",
       "4    14.29\n",
       "5    45.41\n",
       "Name: Nivel de estudios, dtype: float64"
      ]
     },
     "metadata": {},
     "output_type": "display_data"
    },
    {
     "data": {
      "application/vnd.plotly.v1+json": {
       "config": {
        "linkText": "Export to plot.ly",
        "plotlyServerURL": "https://plot.ly",
        "showLink": false
       },
       "data": [
        {
         "marker": {
          "color": [
           "rgb(213,62,79)",
           "rgb(252,141,89)",
           "rgb(254,224,139)",
           "rgb(230,245,152)",
           "rgb(153,213,148)",
           "rgb(50,136,189)"
          ]
         },
         "type": "bar",
         "uid": "07290ab0-9c9d-453f-adf6-6d8758b3b9d2",
         "x": [
          0,
          1,
          2,
          3,
          4,
          5
         ],
         "y": [
          2,
          54,
          14,
          9,
          28,
          89
         ]
        }
       ],
       "layout": {
        "bargap": 0.2,
        "xaxis": {
         "ticktext": [
          "Educación Primaria",
          "Sin terminar Educación Secundaria Obligatoria",
          "Terminada Educación Secundaria Obligatoria",
          "FP",
          "Universitario sin graduar",
          "Universitario graduado"
         ],
         "tickvals": [
          0,
          1,
          2,
          3,
          4,
          5
         ]
        }
       }
      },
      "text/html": [
       "<div id=\"38f7ef6d-e588-4e72-9f53-35f5c308c8f4\" style=\"height: 525px; width: 100%;\" class=\"plotly-graph-div\"></div><script type=\"text/javascript\">require([\"plotly\"], function(Plotly) { window.PLOTLYENV=window.PLOTLYENV || {};window.PLOTLYENV.BASE_URL=\"https://plot.ly\";\n",
       "if (document.getElementById(\"38f7ef6d-e588-4e72-9f53-35f5c308c8f4\")) {\n",
       "    Plotly.newPlot(\"38f7ef6d-e588-4e72-9f53-35f5c308c8f4\", [{\"marker\": {\"color\": [\"rgb(213,62,79)\", \"rgb(252,141,89)\", \"rgb(254,224,139)\", \"rgb(230,245,152)\", \"rgb(153,213,148)\", \"rgb(50,136,189)\"]}, \"x\": [0, 1, 2, 3, 4, 5], \"y\": [2, 54, 14, 9, 28, 89], \"type\": \"bar\", \"uid\": \"07290ab0-9c9d-453f-adf6-6d8758b3b9d2\"}], {\"bargap\": 0.2, \"xaxis\": {\"ticktext\": [\"Educaci\\u00f3n Primaria\", \"Sin terminar Educaci\\u00f3n Secundaria Obligatoria\", \"Terminada Educaci\\u00f3n Secundaria Obligatoria\", \"FP\", \"Universitario sin graduar\", \"Universitario graduado\"], \"tickvals\": [0, 1, 2, 3, 4, 5]}}, {\"showLink\": false, \"linkText\": \"Export to plot.ly\", \"plotlyServerURL\": \"https://plot.ly\"}); \n",
       "}\n",
       "});</script><script type=\"text/javascript\">window.addEventListener(\"resize\", function(){if (document.getElementById(\"38f7ef6d-e588-4e72-9f53-35f5c308c8f4\")) {window._Plotly.Plots.resize(document.getElementById(\"38f7ef6d-e588-4e72-9f53-35f5c308c8f4\"));};})</script>"
      ],
      "text/vnd.plotly.v1+html": [
       "<div id=\"38f7ef6d-e588-4e72-9f53-35f5c308c8f4\" style=\"height: 525px; width: 100%;\" class=\"plotly-graph-div\"></div><script type=\"text/javascript\">require([\"plotly\"], function(Plotly) { window.PLOTLYENV=window.PLOTLYENV || {};window.PLOTLYENV.BASE_URL=\"https://plot.ly\";\n",
       "if (document.getElementById(\"38f7ef6d-e588-4e72-9f53-35f5c308c8f4\")) {\n",
       "    Plotly.newPlot(\"38f7ef6d-e588-4e72-9f53-35f5c308c8f4\", [{\"marker\": {\"color\": [\"rgb(213,62,79)\", \"rgb(252,141,89)\", \"rgb(254,224,139)\", \"rgb(230,245,152)\", \"rgb(153,213,148)\", \"rgb(50,136,189)\"]}, \"x\": [0, 1, 2, 3, 4, 5], \"y\": [2, 54, 14, 9, 28, 89], \"type\": \"bar\", \"uid\": \"07290ab0-9c9d-453f-adf6-6d8758b3b9d2\"}], {\"bargap\": 0.2, \"xaxis\": {\"ticktext\": [\"Educaci\\u00f3n Primaria\", \"Sin terminar Educaci\\u00f3n Secundaria Obligatoria\", \"Terminada Educaci\\u00f3n Secundaria Obligatoria\", \"FP\", \"Universitario sin graduar\", \"Universitario graduado\"], \"tickvals\": [0, 1, 2, 3, 4, 5]}}, {\"showLink\": false, \"linkText\": \"Export to plot.ly\", \"plotlyServerURL\": \"https://plot.ly\"}); \n",
       "}\n",
       "});</script><script type=\"text/javascript\">window.addEventListener(\"resize\", function(){if (document.getElementById(\"38f7ef6d-e588-4e72-9f53-35f5c308c8f4\")) {window._Plotly.Plots.resize(document.getElementById(\"38f7ef6d-e588-4e72-9f53-35f5c308c8f4\"));};})</script>"
      ]
     },
     "metadata": {},
     "output_type": "display_data"
    },
    {
     "name": "stdout",
     "output_type": "stream",
     "text": [
      "\n",
      "\n",
      "Cluster 4 || variable: Género\n",
      "Describiendo la pregunta Género\n"
     ]
    },
    {
     "data": {
      "text/plain": [
       "count    98.000000\n",
       "mean      0.642857\n",
       "std       0.522681\n",
       "min       0.000000\n",
       "25%       0.000000\n",
       "50%       1.000000\n",
       "75%       1.000000\n",
       "max       2.000000\n",
       "Name: Género, dtype: float64"
      ]
     },
     "metadata": {},
     "output_type": "display_data"
    },
    {
     "name": "stdout",
     "output_type": "stream",
     "text": [
      "Conteo de cada valor en Género expresada como valor / cantidad\n"
     ]
    },
    {
     "data": {
      "text/plain": [
       "0    37\n",
       "1    59\n",
       "2     2\n",
       "Name: Género, dtype: int64"
      ]
     },
     "metadata": {},
     "output_type": "display_data"
    },
    {
     "name": "stdout",
     "output_type": "stream",
     "text": [
      "Porcentaje de cada valor en Género expresado como valor / porcentaje\n"
     ]
    },
    {
     "data": {
      "text/plain": [
       "0    37.76\n",
       "1    60.20\n",
       "2     2.04\n",
       "Name: Género, dtype: float64"
      ]
     },
     "metadata": {},
     "output_type": "display_data"
    },
    {
     "data": {
      "application/vnd.plotly.v1+json": {
       "config": {
        "linkText": "Export to plot.ly",
        "plotlyServerURL": "https://plot.ly",
        "showLink": false
       },
       "data": [
        {
         "marker": {
          "color": [
           "rgb(213,62,79)",
           "rgb(252,141,89)",
           "rgb(254,224,139)",
           "rgb(230,245,152)",
           "rgb(153,213,148)",
           "rgb(50,136,189)"
          ]
         },
         "type": "bar",
         "uid": "dd86422c-9ac4-4325-9561-34545d9b23ad",
         "x": [
          0,
          1,
          2
         ],
         "y": [
          37,
          59,
          2
         ]
        }
       ],
       "layout": {}
      },
      "text/html": [
       "<div id=\"06787e35-bad2-45ee-91f6-b8ba35c8727e\" style=\"height: 525px; width: 100%;\" class=\"plotly-graph-div\"></div><script type=\"text/javascript\">require([\"plotly\"], function(Plotly) { window.PLOTLYENV=window.PLOTLYENV || {};window.PLOTLYENV.BASE_URL=\"https://plot.ly\";\n",
       "if (document.getElementById(\"06787e35-bad2-45ee-91f6-b8ba35c8727e\")) {\n",
       "    Plotly.newPlot(\"06787e35-bad2-45ee-91f6-b8ba35c8727e\", [{\"marker\": {\"color\": [\"rgb(213,62,79)\", \"rgb(252,141,89)\", \"rgb(254,224,139)\", \"rgb(230,245,152)\", \"rgb(153,213,148)\", \"rgb(50,136,189)\"]}, \"x\": [0, 1, 2], \"y\": [37, 59, 2], \"type\": \"bar\", \"uid\": \"ab027a79-a12e-48a7-b80f-7f6c2fd02d24\"}], {}, {\"showLink\": false, \"linkText\": \"Export to plot.ly\", \"plotlyServerURL\": \"https://plot.ly\"}); \n",
       "}\n",
       "});</script><script type=\"text/javascript\">window.addEventListener(\"resize\", function(){if (document.getElementById(\"06787e35-bad2-45ee-91f6-b8ba35c8727e\")) {window._Plotly.Plots.resize(document.getElementById(\"06787e35-bad2-45ee-91f6-b8ba35c8727e\"));};})</script>"
      ],
      "text/vnd.plotly.v1+html": [
       "<div id=\"06787e35-bad2-45ee-91f6-b8ba35c8727e\" style=\"height: 525px; width: 100%;\" class=\"plotly-graph-div\"></div><script type=\"text/javascript\">require([\"plotly\"], function(Plotly) { window.PLOTLYENV=window.PLOTLYENV || {};window.PLOTLYENV.BASE_URL=\"https://plot.ly\";\n",
       "if (document.getElementById(\"06787e35-bad2-45ee-91f6-b8ba35c8727e\")) {\n",
       "    Plotly.newPlot(\"06787e35-bad2-45ee-91f6-b8ba35c8727e\", [{\"marker\": {\"color\": [\"rgb(213,62,79)\", \"rgb(252,141,89)\", \"rgb(254,224,139)\", \"rgb(230,245,152)\", \"rgb(153,213,148)\", \"rgb(50,136,189)\"]}, \"x\": [0, 1, 2], \"y\": [37, 59, 2], \"type\": \"bar\", \"uid\": \"ab027a79-a12e-48a7-b80f-7f6c2fd02d24\"}], {}, {\"showLink\": false, \"linkText\": \"Export to plot.ly\", \"plotlyServerURL\": \"https://plot.ly\"}); \n",
       "}\n",
       "});</script><script type=\"text/javascript\">window.addEventListener(\"resize\", function(){if (document.getElementById(\"06787e35-bad2-45ee-91f6-b8ba35c8727e\")) {window._Plotly.Plots.resize(document.getElementById(\"06787e35-bad2-45ee-91f6-b8ba35c8727e\"));};})</script>"
      ]
     },
     "metadata": {},
     "output_type": "display_data"
    },
    {
     "name": "stdout",
     "output_type": "stream",
     "text": [
      "\n",
      "\n",
      "Cluster 4 || variable: Edad\n",
      "Describiendo la pregunta Edad\n"
     ]
    },
    {
     "data": {
      "text/plain": [
       "count    98.000000\n",
       "mean     27.928571\n",
       "std      10.929248\n",
       "min      13.000000\n",
       "25%      21.000000\n",
       "50%      25.000000\n",
       "75%      32.000000\n",
       "max      68.000000\n",
       "Name: Edad, dtype: float64"
      ]
     },
     "metadata": {},
     "output_type": "display_data"
    },
    {
     "name": "stdout",
     "output_type": "stream",
     "text": [
      "Conteo de cada valor en Edad expresada como valor / cantidad\n"
     ]
    },
    {
     "data": {
      "text/plain": [
       "13    1\n",
       "14    4\n",
       "15    2\n",
       "16    2\n",
       "17    2\n",
       "18    3\n",
       "19    6\n",
       "20    4\n",
       "21    7\n",
       "22    8\n",
       "23    6\n",
       "24    1\n",
       "25    4\n",
       "26    1\n",
       "27    3\n",
       "28    3\n",
       "29    3\n",
       "30    5\n",
       "31    7\n",
       "32    4\n",
       "33    1\n",
       "34    1\n",
       "35    3\n",
       "36    3\n",
       "39    1\n",
       "41    2\n",
       "42    1\n",
       "43    1\n",
       "44    1\n",
       "47    3\n",
       "49    1\n",
       "53    1\n",
       "60    1\n",
       "65    1\n",
       "68    1\n",
       "Name: Edad, dtype: int64"
      ]
     },
     "metadata": {},
     "output_type": "display_data"
    },
    {
     "name": "stdout",
     "output_type": "stream",
     "text": [
      "Porcentaje de cada valor en Edad expresado como valor / porcentaje\n"
     ]
    },
    {
     "data": {
      "text/plain": [
       "13    1.02\n",
       "14    4.08\n",
       "15    2.04\n",
       "16    2.04\n",
       "17    2.04\n",
       "18    3.06\n",
       "19    6.12\n",
       "20    4.08\n",
       "21    7.14\n",
       "22    8.16\n",
       "23    6.12\n",
       "24    1.02\n",
       "25    4.08\n",
       "26    1.02\n",
       "27    3.06\n",
       "28    3.06\n",
       "29    3.06\n",
       "30    5.10\n",
       "31    7.14\n",
       "32    4.08\n",
       "33    1.02\n",
       "34    1.02\n",
       "35    3.06\n",
       "36    3.06\n",
       "39    1.02\n",
       "41    2.04\n",
       "42    1.02\n",
       "43    1.02\n",
       "44    1.02\n",
       "47    3.06\n",
       "49    1.02\n",
       "53    1.02\n",
       "60    1.02\n",
       "65    1.02\n",
       "68    1.02\n",
       "Name: Edad, dtype: float64"
      ]
     },
     "metadata": {},
     "output_type": "display_data"
    },
    {
     "data": {
      "application/vnd.plotly.v1+json": {
       "config": {
        "linkText": "Export to plot.ly",
        "plotlyServerURL": "https://plot.ly",
        "showLink": false
       },
       "data": [
        {
         "marker": {
          "color": [
           "hsl(147.27999999999997, 42.84%, 62.760000000000005%)",
           "hsl(18.2, 90.52%, 62.24%)",
           "hsl(47.2, 98.4%, 79.0%)",
           "hsl(74.16000000000001, 77.56%, 76.76%)",
           "hsl(147.27999999999997, 42.84%, 62.760000000000005%)",
           "hsl(67.2, 85.60000000000001%, 79.0%)",
           "hsl(64.32000000000001, 91.35999999999999%, 82.19999999999999%)",
           "hsl(67.2, 85.60000000000001%, 79.0%)",
           "hsl(27.799999999999997, 96.28%, 67.36%)",
           "hsl(57.44, 99.68%, 85.4%)",
           "hsl(37.4, 97.56%, 73.04%)",
           "hsl(353.0, 64.0%, 53.0%)",
           "hsl(32.6, 97.24%, 70.16%)",
           "hsl(13.160000000000025, 87.03999999999999%, 59.72%)",
           "hsl(359.72, 71.68%, 55.24%)",
           "hsl(353.0, 64.0%, 53.0%)",
           "hsl(6.439999999999998, 79.36%, 57.480000000000004%)",
           "hsl(359.72, 71.68%, 55.24%)",
           "hsl(27.799999999999997, 96.28%, 67.36%)",
           "hsl(27.799999999999997, 96.28%, 67.36%)",
           "hsl(27.799999999999997, 96.28%, 67.36%)",
           "hsl(23.0, 93.4%, 64.8%)",
           "hsl(18.2, 90.52%, 62.24%)",
           "hsl(52.32, 99.04%, 82.2%)",
           "hsl(47.2, 98.4%, 79.0%)",
           "hsl(42.2, 97.88%, 75.92%)",
           "hsl(61.44, 97.12%, 85.4%)",
           "hsl(87.92000000000002, 65.71999999999998%, 76.12%)",
           "hsl(87.92000000000002, 65.71999999999998%, 76.12%)",
           "hsl(64.32000000000001, 91.35999999999999%, 82.19999999999999%)",
           "hsl(64.32000000000001, 91.35999999999999%, 82.19999999999999%)",
           "hsl(101.67999999999999, 53.88000000000001%, 75.48%)",
           "hsl(101.67999999999999, 53.88000000000001%, 75.48%)",
           "hsl(61.44, 97.12%, 85.4%)",
           "hsl(87.92000000000002, 65.71999999999998%, 76.12%)",
           "hsl(147.27999999999997, 42.84%, 62.760000000000005%)",
           "hsl(162.64000000000001, 42.64%, 57.519999999999996%)",
           "hsl(131.60000000000002, 43.8%, 68.19999999999999%)",
           "hsl(131.60000000000002, 43.8%, 68.19999999999999%)",
           "hsl(188.88, 52.879999999999995%, 49.84%)",
           "hsl(101.67999999999999, 53.88000000000001%, 75.48%)",
           "hsl(162.64000000000001, 42.64%, 57.519999999999996%)",
           "hsl(115.92, 44.76%, 73.64%)",
           "hsl(147.27999999999997, 42.84%, 62.760000000000005%)",
           "hsl(131.60000000000002, 43.8%, 68.19999999999999%)",
           "hsl(202.0, 58.0%, 46.0%)",
           "hsl(188.88, 52.879999999999995%, 49.84%)",
           "hsl(147.27999999999997, 42.84%, 62.760000000000005%)",
           "hsl(175.76000000000002, 47.760000000000005%, 53.67999999999999%)",
           "hsl(115.92, 44.76%, 73.64%)",
           "hsl(202.0, 58.0%, 46.0%)",
           "hsl(175.76000000000002, 47.760000000000005%, 53.67999999999999%)",
           "hsl(188.88, 52.879999999999995%, 49.84%)",
           "hsl(188.88, 52.879999999999995%, 49.84%)",
           "hsl(162.64000000000001, 42.64%, 57.519999999999996%)",
           "hsl(202.0, 58.0%, 46.0%)",
           "hsl(188.88, 52.879999999999995%, 49.84%)",
           "hsl(202.0, 58.0%, 46.0%)",
           "hsl(202.0, 58.0%, 46.0%)",
           "hsl(202.0, 58.0%, 46.0%)",
           "hsl(202.0, 58.0%, 46.0%)",
           "hsl(188.88, 52.879999999999995%, 49.84%)"
          ]
         },
         "type": "bar",
         "uid": "4e896133-0cbc-4148-9d7f-9d1b7a9e3efe",
         "x": [
          13,
          14,
          15,
          16,
          17,
          18,
          19,
          20,
          21,
          22,
          23,
          24,
          25,
          26,
          27,
          28,
          29,
          30,
          31,
          32,
          33,
          34,
          35,
          36,
          39,
          41,
          42,
          43,
          44,
          47,
          49,
          53,
          60,
          65,
          68
         ],
         "y": [
          1,
          4,
          2,
          2,
          2,
          3,
          6,
          4,
          7,
          8,
          6,
          1,
          4,
          1,
          3,
          3,
          3,
          5,
          7,
          4,
          1,
          1,
          3,
          3,
          1,
          2,
          1,
          1,
          1,
          3,
          1,
          1,
          1,
          1,
          1
         ]
        }
       ],
       "layout": {}
      },
      "text/html": [
       "<div id=\"5b9be2a0-8b6d-4dfd-8892-dece97c17f00\" style=\"height: 525px; width: 100%;\" class=\"plotly-graph-div\"></div><script type=\"text/javascript\">require([\"plotly\"], function(Plotly) { window.PLOTLYENV=window.PLOTLYENV || {};window.PLOTLYENV.BASE_URL=\"https://plot.ly\";\n",
       "if (document.getElementById(\"5b9be2a0-8b6d-4dfd-8892-dece97c17f00\")) {\n",
       "    Plotly.newPlot(\"5b9be2a0-8b6d-4dfd-8892-dece97c17f00\", [{\"marker\": {\"color\": [\"hsl(147.27999999999997, 42.84%, 62.760000000000005%)\", \"hsl(18.2, 90.52%, 62.24%)\", \"hsl(47.2, 98.4%, 79.0%)\", \"hsl(74.16000000000001, 77.56%, 76.76%)\", \"hsl(147.27999999999997, 42.84%, 62.760000000000005%)\", \"hsl(67.2, 85.60000000000001%, 79.0%)\", \"hsl(64.32000000000001, 91.35999999999999%, 82.19999999999999%)\", \"hsl(67.2, 85.60000000000001%, 79.0%)\", \"hsl(27.799999999999997, 96.28%, 67.36%)\", \"hsl(57.44, 99.68%, 85.4%)\", \"hsl(37.4, 97.56%, 73.04%)\", \"hsl(353.0, 64.0%, 53.0%)\", \"hsl(32.6, 97.24%, 70.16%)\", \"hsl(13.160000000000025, 87.03999999999999%, 59.72%)\", \"hsl(359.72, 71.68%, 55.24%)\", \"hsl(353.0, 64.0%, 53.0%)\", \"hsl(6.439999999999998, 79.36%, 57.480000000000004%)\", \"hsl(359.72, 71.68%, 55.24%)\", \"hsl(27.799999999999997, 96.28%, 67.36%)\", \"hsl(27.799999999999997, 96.28%, 67.36%)\", \"hsl(27.799999999999997, 96.28%, 67.36%)\", \"hsl(23.0, 93.4%, 64.8%)\", \"hsl(18.2, 90.52%, 62.24%)\", \"hsl(52.32, 99.04%, 82.2%)\", \"hsl(47.2, 98.4%, 79.0%)\", \"hsl(42.2, 97.88%, 75.92%)\", \"hsl(61.44, 97.12%, 85.4%)\", \"hsl(87.92000000000002, 65.71999999999998%, 76.12%)\", \"hsl(87.92000000000002, 65.71999999999998%, 76.12%)\", \"hsl(64.32000000000001, 91.35999999999999%, 82.19999999999999%)\", \"hsl(64.32000000000001, 91.35999999999999%, 82.19999999999999%)\", \"hsl(101.67999999999999, 53.88000000000001%, 75.48%)\", \"hsl(101.67999999999999, 53.88000000000001%, 75.48%)\", \"hsl(61.44, 97.12%, 85.4%)\", \"hsl(87.92000000000002, 65.71999999999998%, 76.12%)\", \"hsl(147.27999999999997, 42.84%, 62.760000000000005%)\", \"hsl(162.64000000000001, 42.64%, 57.519999999999996%)\", \"hsl(131.60000000000002, 43.8%, 68.19999999999999%)\", \"hsl(131.60000000000002, 43.8%, 68.19999999999999%)\", \"hsl(188.88, 52.879999999999995%, 49.84%)\", \"hsl(101.67999999999999, 53.88000000000001%, 75.48%)\", \"hsl(162.64000000000001, 42.64%, 57.519999999999996%)\", \"hsl(115.92, 44.76%, 73.64%)\", \"hsl(147.27999999999997, 42.84%, 62.760000000000005%)\", \"hsl(131.60000000000002, 43.8%, 68.19999999999999%)\", \"hsl(202.0, 58.0%, 46.0%)\", \"hsl(188.88, 52.879999999999995%, 49.84%)\", \"hsl(147.27999999999997, 42.84%, 62.760000000000005%)\", \"hsl(175.76000000000002, 47.760000000000005%, 53.67999999999999%)\", \"hsl(115.92, 44.76%, 73.64%)\", \"hsl(202.0, 58.0%, 46.0%)\", \"hsl(175.76000000000002, 47.760000000000005%, 53.67999999999999%)\", \"hsl(188.88, 52.879999999999995%, 49.84%)\", \"hsl(188.88, 52.879999999999995%, 49.84%)\", \"hsl(162.64000000000001, 42.64%, 57.519999999999996%)\", \"hsl(202.0, 58.0%, 46.0%)\", \"hsl(188.88, 52.879999999999995%, 49.84%)\", \"hsl(202.0, 58.0%, 46.0%)\", \"hsl(202.0, 58.0%, 46.0%)\", \"hsl(202.0, 58.0%, 46.0%)\", \"hsl(202.0, 58.0%, 46.0%)\", \"hsl(188.88, 52.879999999999995%, 49.84%)\"]}, \"x\": [13, 14, 15, 16, 17, 18, 19, 20, 21, 22, 23, 24, 25, 26, 27, 28, 29, 30, 31, 32, 33, 34, 35, 36, 39, 41, 42, 43, 44, 47, 49, 53, 60, 65, 68], \"y\": [1, 4, 2, 2, 2, 3, 6, 4, 7, 8, 6, 1, 4, 1, 3, 3, 3, 5, 7, 4, 1, 1, 3, 3, 1, 2, 1, 1, 1, 3, 1, 1, 1, 1, 1], \"type\": \"bar\", \"uid\": \"0012935d-310e-4c5a-b626-721e4f1ed54f\"}], {}, {\"showLink\": false, \"linkText\": \"Export to plot.ly\", \"plotlyServerURL\": \"https://plot.ly\"}); \n",
       "}\n",
       "});</script><script type=\"text/javascript\">window.addEventListener(\"resize\", function(){if (document.getElementById(\"5b9be2a0-8b6d-4dfd-8892-dece97c17f00\")) {window._Plotly.Plots.resize(document.getElementById(\"5b9be2a0-8b6d-4dfd-8892-dece97c17f00\"));};})</script>"
      ],
      "text/vnd.plotly.v1+html": [
       "<div id=\"5b9be2a0-8b6d-4dfd-8892-dece97c17f00\" style=\"height: 525px; width: 100%;\" class=\"plotly-graph-div\"></div><script type=\"text/javascript\">require([\"plotly\"], function(Plotly) { window.PLOTLYENV=window.PLOTLYENV || {};window.PLOTLYENV.BASE_URL=\"https://plot.ly\";\n",
       "if (document.getElementById(\"5b9be2a0-8b6d-4dfd-8892-dece97c17f00\")) {\n",
       "    Plotly.newPlot(\"5b9be2a0-8b6d-4dfd-8892-dece97c17f00\", [{\"marker\": {\"color\": [\"hsl(147.27999999999997, 42.84%, 62.760000000000005%)\", \"hsl(18.2, 90.52%, 62.24%)\", \"hsl(47.2, 98.4%, 79.0%)\", \"hsl(74.16000000000001, 77.56%, 76.76%)\", \"hsl(147.27999999999997, 42.84%, 62.760000000000005%)\", \"hsl(67.2, 85.60000000000001%, 79.0%)\", \"hsl(64.32000000000001, 91.35999999999999%, 82.19999999999999%)\", \"hsl(67.2, 85.60000000000001%, 79.0%)\", \"hsl(27.799999999999997, 96.28%, 67.36%)\", \"hsl(57.44, 99.68%, 85.4%)\", \"hsl(37.4, 97.56%, 73.04%)\", \"hsl(353.0, 64.0%, 53.0%)\", \"hsl(32.6, 97.24%, 70.16%)\", \"hsl(13.160000000000025, 87.03999999999999%, 59.72%)\", \"hsl(359.72, 71.68%, 55.24%)\", \"hsl(353.0, 64.0%, 53.0%)\", \"hsl(6.439999999999998, 79.36%, 57.480000000000004%)\", \"hsl(359.72, 71.68%, 55.24%)\", \"hsl(27.799999999999997, 96.28%, 67.36%)\", \"hsl(27.799999999999997, 96.28%, 67.36%)\", \"hsl(27.799999999999997, 96.28%, 67.36%)\", \"hsl(23.0, 93.4%, 64.8%)\", \"hsl(18.2, 90.52%, 62.24%)\", \"hsl(52.32, 99.04%, 82.2%)\", \"hsl(47.2, 98.4%, 79.0%)\", \"hsl(42.2, 97.88%, 75.92%)\", \"hsl(61.44, 97.12%, 85.4%)\", \"hsl(87.92000000000002, 65.71999999999998%, 76.12%)\", \"hsl(87.92000000000002, 65.71999999999998%, 76.12%)\", \"hsl(64.32000000000001, 91.35999999999999%, 82.19999999999999%)\", \"hsl(64.32000000000001, 91.35999999999999%, 82.19999999999999%)\", \"hsl(101.67999999999999, 53.88000000000001%, 75.48%)\", \"hsl(101.67999999999999, 53.88000000000001%, 75.48%)\", \"hsl(61.44, 97.12%, 85.4%)\", \"hsl(87.92000000000002, 65.71999999999998%, 76.12%)\", \"hsl(147.27999999999997, 42.84%, 62.760000000000005%)\", \"hsl(162.64000000000001, 42.64%, 57.519999999999996%)\", \"hsl(131.60000000000002, 43.8%, 68.19999999999999%)\", \"hsl(131.60000000000002, 43.8%, 68.19999999999999%)\", \"hsl(188.88, 52.879999999999995%, 49.84%)\", \"hsl(101.67999999999999, 53.88000000000001%, 75.48%)\", \"hsl(162.64000000000001, 42.64%, 57.519999999999996%)\", \"hsl(115.92, 44.76%, 73.64%)\", \"hsl(147.27999999999997, 42.84%, 62.760000000000005%)\", \"hsl(131.60000000000002, 43.8%, 68.19999999999999%)\", \"hsl(202.0, 58.0%, 46.0%)\", \"hsl(188.88, 52.879999999999995%, 49.84%)\", \"hsl(147.27999999999997, 42.84%, 62.760000000000005%)\", \"hsl(175.76000000000002, 47.760000000000005%, 53.67999999999999%)\", \"hsl(115.92, 44.76%, 73.64%)\", \"hsl(202.0, 58.0%, 46.0%)\", \"hsl(175.76000000000002, 47.760000000000005%, 53.67999999999999%)\", \"hsl(188.88, 52.879999999999995%, 49.84%)\", \"hsl(188.88, 52.879999999999995%, 49.84%)\", \"hsl(162.64000000000001, 42.64%, 57.519999999999996%)\", \"hsl(202.0, 58.0%, 46.0%)\", \"hsl(188.88, 52.879999999999995%, 49.84%)\", \"hsl(202.0, 58.0%, 46.0%)\", \"hsl(202.0, 58.0%, 46.0%)\", \"hsl(202.0, 58.0%, 46.0%)\", \"hsl(202.0, 58.0%, 46.0%)\", \"hsl(188.88, 52.879999999999995%, 49.84%)\"]}, \"x\": [13, 14, 15, 16, 17, 18, 19, 20, 21, 22, 23, 24, 25, 26, 27, 28, 29, 30, 31, 32, 33, 34, 35, 36, 39, 41, 42, 43, 44, 47, 49, 53, 60, 65, 68], \"y\": [1, 4, 2, 2, 2, 3, 6, 4, 7, 8, 6, 1, 4, 1, 3, 3, 3, 5, 7, 4, 1, 1, 3, 3, 1, 2, 1, 1, 1, 3, 1, 1, 1, 1, 1], \"type\": \"bar\", \"uid\": \"0012935d-310e-4c5a-b626-721e4f1ed54f\"}], {}, {\"showLink\": false, \"linkText\": \"Export to plot.ly\", \"plotlyServerURL\": \"https://plot.ly\"}); \n",
       "}\n",
       "});</script><script type=\"text/javascript\">window.addEventListener(\"resize\", function(){if (document.getElementById(\"5b9be2a0-8b6d-4dfd-8892-dece97c17f00\")) {window._Plotly.Plots.resize(document.getElementById(\"5b9be2a0-8b6d-4dfd-8892-dece97c17f00\"));};})</script>"
      ]
     },
     "metadata": {},
     "output_type": "display_data"
    },
    {
     "name": "stdout",
     "output_type": "stream",
     "text": [
      "\n",
      "\n",
      "Cluster 4 || variable: Nacionalidad\n",
      "Describiendo la pregunta Nacionalidad\n",
      "Valores numéricos asociados a las respuestas [0, 1, 2, 3, 4, 5, 6, 7, 8, 9, 10, 11, 12, 13, 14, 15, 16, 17, 18, 19, 20, 21, 22, 23, 24, 25, 26, 27, 28, 29, 30, 31, 32, 33]\n",
      "Respuestas posibles a la pregunta/variable ['España', 'Colombia', 'México', 'República Dominicana', 'Austria', 'Chile', 'Francia', 'Canadá', 'Nigeria', 'China', 'Australia', 'Rusia', 'Alemania', 'Brasil', 'Estados Unidos de América', 'India', 'Eslovaquia', 'Italia', 'Inglaterra', 'Cuba', 'Ukrania', 'Venezuela', 'Indonesia', 'Albania', 'Paquistan', 'Bahamas', 'Argentina', 'Islandia', 'Escocia', 'Sudán', 'Nueva Zelanda', 'Irlanda', 'Macedonia', 'Unknown']\n"
     ]
    },
    {
     "data": {
      "text/plain": [
       "count    98.000000\n",
       "mean      5.520408\n",
       "std       7.078688\n",
       "min       0.000000\n",
       "25%       0.000000\n",
       "50%       0.000000\n",
       "75%      14.000000\n",
       "max      29.000000\n",
       "Name: Nacionalidad, dtype: float64"
      ]
     },
     "metadata": {},
     "output_type": "display_data"
    },
    {
     "name": "stdout",
     "output_type": "stream",
     "text": [
      "Conteo de cada valor en Nacionalidad expresada como valor / cantidad\n"
     ]
    },
    {
     "data": {
      "text/plain": [
       "0     56\n",
       "6      7\n",
       "7      3\n",
       "10     1\n",
       "11     1\n",
       "13     1\n",
       "14    21\n",
       "15     1\n",
       "17     3\n",
       "18     2\n",
       "19     1\n",
       "29     1\n",
       "Name: Nacionalidad, dtype: int64"
      ]
     },
     "metadata": {},
     "output_type": "display_data"
    },
    {
     "name": "stdout",
     "output_type": "stream",
     "text": [
      "Porcentaje de cada valor en Nacionalidad expresado como valor / porcentaje\n"
     ]
    },
    {
     "data": {
      "text/plain": [
       "0     57.14\n",
       "6      7.14\n",
       "7      3.06\n",
       "10     1.02\n",
       "11     1.02\n",
       "13     1.02\n",
       "14    21.43\n",
       "15     1.02\n",
       "17     3.06\n",
       "18     2.04\n",
       "19     1.02\n",
       "29     1.02\n",
       "Name: Nacionalidad, dtype: float64"
      ]
     },
     "metadata": {},
     "output_type": "display_data"
    },
    {
     "data": {
      "application/vnd.plotly.v1+json": {
       "config": {
        "linkText": "Export to plot.ly",
        "plotlyServerURL": "https://plot.ly",
        "showLink": false
       },
       "data": [
        {
         "marker": {
          "color": [
           "hsl(353.0, 64.0%, 53.0%)",
           "hsl(358.09090909090907, 69.81818181818181%, 54.696969696969695%)",
           "hsl(3.181818181818187, 75.63636363636364%, 56.39393939393939%)",
           "hsl(8.272727272727252, 81.45454545454545%, 58.09090909090909%)",
           "hsl(13.363636363636374, 87.27272727272728%, 59.78787878787879%)",
           "hsl(17.181818181818183, 89.9090909090909%, 61.696969696969695%)",
           "hsl(20.81818181818182, 92.0909090909091%, 63.63636363636364%)",
           "hsl(24.454545454545453, 94.27272727272728%, 65.57575757575758%)",
           "hsl(28.090909090909093, 96.45454545454545%, 67.51515151515152%)",
           "hsl(31.727272727272727, 97.18181818181819%, 69.63636363636364%)",
           "hsl(35.36363636363637, 97.42424242424242%, 71.81818181818181%)",
           "hsl(39.0, 97.66666666666667%, 74.0%)",
           "hsl(42.63636363636364, 97.9090909090909%, 76.18181818181819%)",
           "hsl(46.42424242424242, 98.3030303030303%, 78.51515151515152%)",
           "hsl(50.303030303030305, 98.78787878787878%, 80.93939393939394%)",
           "hsl(54.18181818181818, 99.27272727272727%, 83.36363636363636%)",
           "hsl(58.06060606060606, 99.75757575757575%, 85.78787878787878%)",
           "hsl(61.09090909090909, 97.81818181818181%, 85.78787878787878%)",
           "hsl(63.272727272727266, 93.45454545454547%, 83.36363636363637%)",
           "hsl(65.45454545454545, 89.09090909090908%, 80.93939393939394%)",
           "hsl(67.63636363636364, 84.72727272727272%, 78.51515151515152%)",
           "hsl(72.9090909090909, 78.63636363636364%, 76.81818181818181%)",
           "hsl(83.33333333333331, 69.66666666666669%, 76.33333333333333%)",
           "hsl(93.75757575757578, 60.69696969696968%, 75.84848484848484%)",
           "hsl(104.18181818181819, 51.72727272727272%, 75.36363636363636%)",
           "hsl(114.96969696969697, 44.81818181818182%, 73.96969696969697%)",
           "hsl(126.84848484848483, 44.09090909090909%, 69.84848484848486%)",
           "hsl(138.72727272727275, 43.36363636363636%, 65.72727272727272%)",
           "hsl(150.60606060606062, 42.63636363636363%, 61.6060606060606%)",
           "hsl(162.24242424242425, 42.484848484848484%, 57.63636363636364%)",
           "hsl(172.1818181818182, 46.36363636363636%, 54.727272727272734%)",
           "hsl(182.12121212121212, 50.24242424242425%, 51.81818181818181%)",
           "hsl(192.06060606060606, 54.121212121212125%, 48.90909090909091%)",
           "hsl(202.0, 58.0%, 46.0%)"
          ]
         },
         "type": "bar",
         "uid": "50b7e861-3b52-4008-8d8a-10625eae9a6b",
         "x": [
          0,
          6,
          7,
          10,
          11,
          13,
          14,
          15,
          17,
          18,
          19,
          29
         ],
         "y": [
          56,
          7,
          3,
          1,
          1,
          1,
          21,
          1,
          3,
          2,
          1,
          1
         ]
        }
       ],
       "layout": {
        "bargap": 0.2,
        "xaxis": {
         "ticktext": [
          "España",
          "Colombia",
          "México",
          "República Dominicana",
          "Austria",
          "Chile",
          "Francia",
          "Canadá",
          "Nigeria",
          "China",
          "Australia",
          "Rusia",
          "Alemania",
          "Brasil",
          "Estados Unidos de América",
          "India",
          "Eslovaquia",
          "Italia",
          "Inglaterra",
          "Cuba",
          "Ukrania",
          "Venezuela",
          "Indonesia",
          "Albania",
          "Paquistan",
          "Bahamas",
          "Argentina",
          "Islandia",
          "Escocia",
          "Sudán",
          "Nueva Zelanda",
          "Irlanda",
          "Macedonia",
          "Unknown"
         ],
         "tickvals": [
          0,
          1,
          2,
          3,
          4,
          5,
          6,
          7,
          8,
          9,
          10,
          11,
          12,
          13,
          14,
          15,
          16,
          17,
          18,
          19,
          20,
          21,
          22,
          23,
          24,
          25,
          26,
          27,
          28,
          29,
          30,
          31,
          32,
          33
         ]
        }
       }
      },
      "text/html": [
       "<div id=\"5cdb321e-2802-4496-a522-3557eb1fbae2\" style=\"height: 525px; width: 100%;\" class=\"plotly-graph-div\"></div><script type=\"text/javascript\">require([\"plotly\"], function(Plotly) { window.PLOTLYENV=window.PLOTLYENV || {};window.PLOTLYENV.BASE_URL=\"https://plot.ly\";\n",
       "if (document.getElementById(\"5cdb321e-2802-4496-a522-3557eb1fbae2\")) {\n",
       "    Plotly.newPlot(\"5cdb321e-2802-4496-a522-3557eb1fbae2\", [{\"marker\": {\"color\": [\"hsl(353.0, 64.0%, 53.0%)\", \"hsl(358.09090909090907, 69.81818181818181%, 54.696969696969695%)\", \"hsl(3.181818181818187, 75.63636363636364%, 56.39393939393939%)\", \"hsl(8.272727272727252, 81.45454545454545%, 58.09090909090909%)\", \"hsl(13.363636363636374, 87.27272727272728%, 59.78787878787879%)\", \"hsl(17.181818181818183, 89.9090909090909%, 61.696969696969695%)\", \"hsl(20.81818181818182, 92.0909090909091%, 63.63636363636364%)\", \"hsl(24.454545454545453, 94.27272727272728%, 65.57575757575758%)\", \"hsl(28.090909090909093, 96.45454545454545%, 67.51515151515152%)\", \"hsl(31.727272727272727, 97.18181818181819%, 69.63636363636364%)\", \"hsl(35.36363636363637, 97.42424242424242%, 71.81818181818181%)\", \"hsl(39.0, 97.66666666666667%, 74.0%)\", \"hsl(42.63636363636364, 97.9090909090909%, 76.18181818181819%)\", \"hsl(46.42424242424242, 98.3030303030303%, 78.51515151515152%)\", \"hsl(50.303030303030305, 98.78787878787878%, 80.93939393939394%)\", \"hsl(54.18181818181818, 99.27272727272727%, 83.36363636363636%)\", \"hsl(58.06060606060606, 99.75757575757575%, 85.78787878787878%)\", \"hsl(61.09090909090909, 97.81818181818181%, 85.78787878787878%)\", \"hsl(63.272727272727266, 93.45454545454547%, 83.36363636363637%)\", \"hsl(65.45454545454545, 89.09090909090908%, 80.93939393939394%)\", \"hsl(67.63636363636364, 84.72727272727272%, 78.51515151515152%)\", \"hsl(72.9090909090909, 78.63636363636364%, 76.81818181818181%)\", \"hsl(83.33333333333331, 69.66666666666669%, 76.33333333333333%)\", \"hsl(93.75757575757578, 60.69696969696968%, 75.84848484848484%)\", \"hsl(104.18181818181819, 51.72727272727272%, 75.36363636363636%)\", \"hsl(114.96969696969697, 44.81818181818182%, 73.96969696969697%)\", \"hsl(126.84848484848483, 44.09090909090909%, 69.84848484848486%)\", \"hsl(138.72727272727275, 43.36363636363636%, 65.72727272727272%)\", \"hsl(150.60606060606062, 42.63636363636363%, 61.6060606060606%)\", \"hsl(162.24242424242425, 42.484848484848484%, 57.63636363636364%)\", \"hsl(172.1818181818182, 46.36363636363636%, 54.727272727272734%)\", \"hsl(182.12121212121212, 50.24242424242425%, 51.81818181818181%)\", \"hsl(192.06060606060606, 54.121212121212125%, 48.90909090909091%)\", \"hsl(202.0, 58.0%, 46.0%)\"]}, \"x\": [0, 6, 7, 10, 11, 13, 14, 15, 17, 18, 19, 29], \"y\": [56, 7, 3, 1, 1, 1, 21, 1, 3, 2, 1, 1], \"type\": \"bar\", \"uid\": \"50b7e861-3b52-4008-8d8a-10625eae9a6b\"}], {\"bargap\": 0.2, \"xaxis\": {\"ticktext\": [\"Espa\\u00f1a\", \"Colombia\", \"M\\u00e9xico\", \"Rep\\u00fablica Dominicana\", \"Austria\", \"Chile\", \"Francia\", \"Canad\\u00e1\", \"Nigeria\", \"China\", \"Australia\", \"Rusia\", \"Alemania\", \"Brasil\", \"Estados Unidos de Am\\u00e9rica\", \"India\", \"Eslovaquia\", \"Italia\", \"Inglaterra\", \"Cuba\", \"Ukrania\", \"Venezuela\", \"Indonesia\", \"Albania\", \"Paquistan\", \"Bahamas\", \"Argentina\", \"Islandia\", \"Escocia\", \"Sud\\u00e1n\", \"Nueva Zelanda\", \"Irlanda\", \"Macedonia\", \"Unknown\"], \"tickvals\": [0, 1, 2, 3, 4, 5, 6, 7, 8, 9, 10, 11, 12, 13, 14, 15, 16, 17, 18, 19, 20, 21, 22, 23, 24, 25, 26, 27, 28, 29, 30, 31, 32, 33]}}, {\"showLink\": false, \"linkText\": \"Export to plot.ly\", \"plotlyServerURL\": \"https://plot.ly\"}); \n",
       "}\n",
       "});</script><script type=\"text/javascript\">window.addEventListener(\"resize\", function(){if (document.getElementById(\"5cdb321e-2802-4496-a522-3557eb1fbae2\")) {window._Plotly.Plots.resize(document.getElementById(\"5cdb321e-2802-4496-a522-3557eb1fbae2\"));};})</script>"
      ],
      "text/vnd.plotly.v1+html": [
       "<div id=\"5cdb321e-2802-4496-a522-3557eb1fbae2\" style=\"height: 525px; width: 100%;\" class=\"plotly-graph-div\"></div><script type=\"text/javascript\">require([\"plotly\"], function(Plotly) { window.PLOTLYENV=window.PLOTLYENV || {};window.PLOTLYENV.BASE_URL=\"https://plot.ly\";\n",
       "if (document.getElementById(\"5cdb321e-2802-4496-a522-3557eb1fbae2\")) {\n",
       "    Plotly.newPlot(\"5cdb321e-2802-4496-a522-3557eb1fbae2\", [{\"marker\": {\"color\": [\"hsl(353.0, 64.0%, 53.0%)\", \"hsl(358.09090909090907, 69.81818181818181%, 54.696969696969695%)\", \"hsl(3.181818181818187, 75.63636363636364%, 56.39393939393939%)\", \"hsl(8.272727272727252, 81.45454545454545%, 58.09090909090909%)\", \"hsl(13.363636363636374, 87.27272727272728%, 59.78787878787879%)\", \"hsl(17.181818181818183, 89.9090909090909%, 61.696969696969695%)\", \"hsl(20.81818181818182, 92.0909090909091%, 63.63636363636364%)\", \"hsl(24.454545454545453, 94.27272727272728%, 65.57575757575758%)\", \"hsl(28.090909090909093, 96.45454545454545%, 67.51515151515152%)\", \"hsl(31.727272727272727, 97.18181818181819%, 69.63636363636364%)\", \"hsl(35.36363636363637, 97.42424242424242%, 71.81818181818181%)\", \"hsl(39.0, 97.66666666666667%, 74.0%)\", \"hsl(42.63636363636364, 97.9090909090909%, 76.18181818181819%)\", \"hsl(46.42424242424242, 98.3030303030303%, 78.51515151515152%)\", \"hsl(50.303030303030305, 98.78787878787878%, 80.93939393939394%)\", \"hsl(54.18181818181818, 99.27272727272727%, 83.36363636363636%)\", \"hsl(58.06060606060606, 99.75757575757575%, 85.78787878787878%)\", \"hsl(61.09090909090909, 97.81818181818181%, 85.78787878787878%)\", \"hsl(63.272727272727266, 93.45454545454547%, 83.36363636363637%)\", \"hsl(65.45454545454545, 89.09090909090908%, 80.93939393939394%)\", \"hsl(67.63636363636364, 84.72727272727272%, 78.51515151515152%)\", \"hsl(72.9090909090909, 78.63636363636364%, 76.81818181818181%)\", \"hsl(83.33333333333331, 69.66666666666669%, 76.33333333333333%)\", \"hsl(93.75757575757578, 60.69696969696968%, 75.84848484848484%)\", \"hsl(104.18181818181819, 51.72727272727272%, 75.36363636363636%)\", \"hsl(114.96969696969697, 44.81818181818182%, 73.96969696969697%)\", \"hsl(126.84848484848483, 44.09090909090909%, 69.84848484848486%)\", \"hsl(138.72727272727275, 43.36363636363636%, 65.72727272727272%)\", \"hsl(150.60606060606062, 42.63636363636363%, 61.6060606060606%)\", \"hsl(162.24242424242425, 42.484848484848484%, 57.63636363636364%)\", \"hsl(172.1818181818182, 46.36363636363636%, 54.727272727272734%)\", \"hsl(182.12121212121212, 50.24242424242425%, 51.81818181818181%)\", \"hsl(192.06060606060606, 54.121212121212125%, 48.90909090909091%)\", \"hsl(202.0, 58.0%, 46.0%)\"]}, \"x\": [0, 6, 7, 10, 11, 13, 14, 15, 17, 18, 19, 29], \"y\": [56, 7, 3, 1, 1, 1, 21, 1, 3, 2, 1, 1], \"type\": \"bar\", \"uid\": \"50b7e861-3b52-4008-8d8a-10625eae9a6b\"}], {\"bargap\": 0.2, \"xaxis\": {\"ticktext\": [\"Espa\\u00f1a\", \"Colombia\", \"M\\u00e9xico\", \"Rep\\u00fablica Dominicana\", \"Austria\", \"Chile\", \"Francia\", \"Canad\\u00e1\", \"Nigeria\", \"China\", \"Australia\", \"Rusia\", \"Alemania\", \"Brasil\", \"Estados Unidos de Am\\u00e9rica\", \"India\", \"Eslovaquia\", \"Italia\", \"Inglaterra\", \"Cuba\", \"Ukrania\", \"Venezuela\", \"Indonesia\", \"Albania\", \"Paquistan\", \"Bahamas\", \"Argentina\", \"Islandia\", \"Escocia\", \"Sud\\u00e1n\", \"Nueva Zelanda\", \"Irlanda\", \"Macedonia\", \"Unknown\"], \"tickvals\": [0, 1, 2, 3, 4, 5, 6, 7, 8, 9, 10, 11, 12, 13, 14, 15, 16, 17, 18, 19, 20, 21, 22, 23, 24, 25, 26, 27, 28, 29, 30, 31, 32, 33]}}, {\"showLink\": false, \"linkText\": \"Export to plot.ly\", \"plotlyServerURL\": \"https://plot.ly\"}); \n",
       "}\n",
       "});</script><script type=\"text/javascript\">window.addEventListener(\"resize\", function(){if (document.getElementById(\"5cdb321e-2802-4496-a522-3557eb1fbae2\")) {window._Plotly.Plots.resize(document.getElementById(\"5cdb321e-2802-4496-a522-3557eb1fbae2\"));};})</script>"
      ]
     },
     "metadata": {},
     "output_type": "display_data"
    },
    {
     "name": "stdout",
     "output_type": "stream",
     "text": [
      "\n",
      "\n",
      "Cluster 4 || variable: Nivel de estudios\n",
      "Describiendo la pregunta Nivel de estudios\n",
      "Valores numéricos asociados a las respuestas [0, 1, 2, 3, 4, 5]\n",
      "Respuestas posibles a la pregunta/variable ['Educación Primaria', 'Sin terminar Educación Secundaria Obligatoria', 'Terminada Educación Secundaria Obligatoria', 'FP', 'Universitario sin graduar', 'Universitario graduado']\n"
     ]
    },
    {
     "data": {
      "text/plain": [
       "count    98.000000\n",
       "mean      3.867347\n",
       "std       1.404248\n",
       "min       0.000000\n",
       "25%       4.000000\n",
       "50%       4.000000\n",
       "75%       5.000000\n",
       "max       5.000000\n",
       "Name: Nivel de estudios, dtype: float64"
      ]
     },
     "metadata": {},
     "output_type": "display_data"
    },
    {
     "name": "stdout",
     "output_type": "stream",
     "text": [
      "Conteo de cada valor en Nivel de estudios expresada como valor / cantidad\n"
     ]
    },
    {
     "data": {
      "text/plain": [
       "0     2\n",
       "1    11\n",
       "2     4\n",
       "3     5\n",
       "4    35\n",
       "5    41\n",
       "Name: Nivel de estudios, dtype: int64"
      ]
     },
     "metadata": {},
     "output_type": "display_data"
    },
    {
     "name": "stdout",
     "output_type": "stream",
     "text": [
      "Porcentaje de cada valor en Nivel de estudios expresado como valor / porcentaje\n"
     ]
    },
    {
     "data": {
      "text/plain": [
       "0     2.04\n",
       "1    11.22\n",
       "2     4.08\n",
       "3     5.10\n",
       "4    35.71\n",
       "5    41.84\n",
       "Name: Nivel de estudios, dtype: float64"
      ]
     },
     "metadata": {},
     "output_type": "display_data"
    },
    {
     "data": {
      "application/vnd.plotly.v1+json": {
       "config": {
        "linkText": "Export to plot.ly",
        "plotlyServerURL": "https://plot.ly",
        "showLink": false
       },
       "data": [
        {
         "marker": {
          "color": [
           "rgb(213,62,79)",
           "rgb(252,141,89)",
           "rgb(254,224,139)",
           "rgb(230,245,152)",
           "rgb(153,213,148)",
           "rgb(50,136,189)"
          ]
         },
         "type": "bar",
         "uid": "eb485cb0-05c1-4c9a-a26b-fe216a8d78b7",
         "x": [
          0,
          1,
          2,
          3,
          4,
          5
         ],
         "y": [
          2,
          11,
          4,
          5,
          35,
          41
         ]
        }
       ],
       "layout": {
        "bargap": 0.2,
        "xaxis": {
         "ticktext": [
          "Educación Primaria",
          "Sin terminar Educación Secundaria Obligatoria",
          "Terminada Educación Secundaria Obligatoria",
          "FP",
          "Universitario sin graduar",
          "Universitario graduado"
         ],
         "tickvals": [
          0,
          1,
          2,
          3,
          4,
          5
         ]
        }
       }
      },
      "text/html": [
       "<div id=\"c0c07cb5-1124-4a25-9d4a-af08f38c086a\" style=\"height: 525px; width: 100%;\" class=\"plotly-graph-div\"></div><script type=\"text/javascript\">require([\"plotly\"], function(Plotly) { window.PLOTLYENV=window.PLOTLYENV || {};window.PLOTLYENV.BASE_URL=\"https://plot.ly\";\n",
       "if (document.getElementById(\"c0c07cb5-1124-4a25-9d4a-af08f38c086a\")) {\n",
       "    Plotly.newPlot(\"c0c07cb5-1124-4a25-9d4a-af08f38c086a\", [{\"marker\": {\"color\": [\"rgb(213,62,79)\", \"rgb(252,141,89)\", \"rgb(254,224,139)\", \"rgb(230,245,152)\", \"rgb(153,213,148)\", \"rgb(50,136,189)\"]}, \"x\": [0, 1, 2, 3, 4, 5], \"y\": [2, 11, 4, 5, 35, 41], \"type\": \"bar\", \"uid\": \"eb485cb0-05c1-4c9a-a26b-fe216a8d78b7\"}], {\"bargap\": 0.2, \"xaxis\": {\"ticktext\": [\"Educaci\\u00f3n Primaria\", \"Sin terminar Educaci\\u00f3n Secundaria Obligatoria\", \"Terminada Educaci\\u00f3n Secundaria Obligatoria\", \"FP\", \"Universitario sin graduar\", \"Universitario graduado\"], \"tickvals\": [0, 1, 2, 3, 4, 5]}}, {\"showLink\": false, \"linkText\": \"Export to plot.ly\", \"plotlyServerURL\": \"https://plot.ly\"}); \n",
       "}\n",
       "});</script><script type=\"text/javascript\">window.addEventListener(\"resize\", function(){if (document.getElementById(\"c0c07cb5-1124-4a25-9d4a-af08f38c086a\")) {window._Plotly.Plots.resize(document.getElementById(\"c0c07cb5-1124-4a25-9d4a-af08f38c086a\"));};})</script>"
      ],
      "text/vnd.plotly.v1+html": [
       "<div id=\"c0c07cb5-1124-4a25-9d4a-af08f38c086a\" style=\"height: 525px; width: 100%;\" class=\"plotly-graph-div\"></div><script type=\"text/javascript\">require([\"plotly\"], function(Plotly) { window.PLOTLYENV=window.PLOTLYENV || {};window.PLOTLYENV.BASE_URL=\"https://plot.ly\";\n",
       "if (document.getElementById(\"c0c07cb5-1124-4a25-9d4a-af08f38c086a\")) {\n",
       "    Plotly.newPlot(\"c0c07cb5-1124-4a25-9d4a-af08f38c086a\", [{\"marker\": {\"color\": [\"rgb(213,62,79)\", \"rgb(252,141,89)\", \"rgb(254,224,139)\", \"rgb(230,245,152)\", \"rgb(153,213,148)\", \"rgb(50,136,189)\"]}, \"x\": [0, 1, 2, 3, 4, 5], \"y\": [2, 11, 4, 5, 35, 41], \"type\": \"bar\", \"uid\": \"eb485cb0-05c1-4c9a-a26b-fe216a8d78b7\"}], {\"bargap\": 0.2, \"xaxis\": {\"ticktext\": [\"Educaci\\u00f3n Primaria\", \"Sin terminar Educaci\\u00f3n Secundaria Obligatoria\", \"Terminada Educaci\\u00f3n Secundaria Obligatoria\", \"FP\", \"Universitario sin graduar\", \"Universitario graduado\"], \"tickvals\": [0, 1, 2, 3, 4, 5]}}, {\"showLink\": false, \"linkText\": \"Export to plot.ly\", \"plotlyServerURL\": \"https://plot.ly\"}); \n",
       "}\n",
       "});</script><script type=\"text/javascript\">window.addEventListener(\"resize\", function(){if (document.getElementById(\"c0c07cb5-1124-4a25-9d4a-af08f38c086a\")) {window._Plotly.Plots.resize(document.getElementById(\"c0c07cb5-1124-4a25-9d4a-af08f38c086a\"));};})</script>"
      ]
     },
     "metadata": {},
     "output_type": "display_data"
    },
    {
     "name": "stdout",
     "output_type": "stream",
     "text": [
      "\n",
      "\n",
      "Cluster 3 || variable: Género\n",
      "Describiendo la pregunta Género\n"
     ]
    },
    {
     "data": {
      "text/plain": [
       "count    100.00000\n",
       "mean       0.43000\n",
       "std        0.49757\n",
       "min        0.00000\n",
       "25%        0.00000\n",
       "50%        0.00000\n",
       "75%        1.00000\n",
       "max        1.00000\n",
       "Name: Género, dtype: float64"
      ]
     },
     "metadata": {},
     "output_type": "display_data"
    },
    {
     "name": "stdout",
     "output_type": "stream",
     "text": [
      "Conteo de cada valor en Género expresada como valor / cantidad\n"
     ]
    },
    {
     "data": {
      "text/plain": [
       "0    57\n",
       "1    43\n",
       "Name: Género, dtype: int64"
      ]
     },
     "metadata": {},
     "output_type": "display_data"
    },
    {
     "name": "stdout",
     "output_type": "stream",
     "text": [
      "Porcentaje de cada valor en Género expresado como valor / porcentaje\n"
     ]
    },
    {
     "data": {
      "text/plain": [
       "0    57.0\n",
       "1    43.0\n",
       "Name: Género, dtype: float64"
      ]
     },
     "metadata": {},
     "output_type": "display_data"
    },
    {
     "data": {
      "application/vnd.plotly.v1+json": {
       "config": {
        "linkText": "Export to plot.ly",
        "plotlyServerURL": "https://plot.ly",
        "showLink": false
       },
       "data": [
        {
         "marker": {
          "color": [
           "rgb(213,62,79)",
           "rgb(252,141,89)",
           "rgb(254,224,139)",
           "rgb(230,245,152)",
           "rgb(153,213,148)",
           "rgb(50,136,189)"
          ]
         },
         "type": "bar",
         "uid": "e89250e2-feb5-4471-89c0-8139f696e00c",
         "x": [
          0,
          1
         ],
         "y": [
          57,
          43
         ]
        }
       ],
       "layout": {}
      },
      "text/html": [
       "<div id=\"e81ade45-c126-470c-afbf-ab21907b4753\" style=\"height: 525px; width: 100%;\" class=\"plotly-graph-div\"></div><script type=\"text/javascript\">require([\"plotly\"], function(Plotly) { window.PLOTLYENV=window.PLOTLYENV || {};window.PLOTLYENV.BASE_URL=\"https://plot.ly\";\n",
       "if (document.getElementById(\"e81ade45-c126-470c-afbf-ab21907b4753\")) {\n",
       "    Plotly.newPlot(\"e81ade45-c126-470c-afbf-ab21907b4753\", [{\"marker\": {\"color\": [\"rgb(213,62,79)\", \"rgb(252,141,89)\", \"rgb(254,224,139)\", \"rgb(230,245,152)\", \"rgb(153,213,148)\", \"rgb(50,136,189)\"]}, \"x\": [0, 1], \"y\": [57, 43], \"type\": \"bar\", \"uid\": \"736162e2-095f-49db-947c-913388051743\"}], {}, {\"showLink\": false, \"linkText\": \"Export to plot.ly\", \"plotlyServerURL\": \"https://plot.ly\"}); \n",
       "}\n",
       "});</script><script type=\"text/javascript\">window.addEventListener(\"resize\", function(){if (document.getElementById(\"e81ade45-c126-470c-afbf-ab21907b4753\")) {window._Plotly.Plots.resize(document.getElementById(\"e81ade45-c126-470c-afbf-ab21907b4753\"));};})</script>"
      ],
      "text/vnd.plotly.v1+html": [
       "<div id=\"e81ade45-c126-470c-afbf-ab21907b4753\" style=\"height: 525px; width: 100%;\" class=\"plotly-graph-div\"></div><script type=\"text/javascript\">require([\"plotly\"], function(Plotly) { window.PLOTLYENV=window.PLOTLYENV || {};window.PLOTLYENV.BASE_URL=\"https://plot.ly\";\n",
       "if (document.getElementById(\"e81ade45-c126-470c-afbf-ab21907b4753\")) {\n",
       "    Plotly.newPlot(\"e81ade45-c126-470c-afbf-ab21907b4753\", [{\"marker\": {\"color\": [\"rgb(213,62,79)\", \"rgb(252,141,89)\", \"rgb(254,224,139)\", \"rgb(230,245,152)\", \"rgb(153,213,148)\", \"rgb(50,136,189)\"]}, \"x\": [0, 1], \"y\": [57, 43], \"type\": \"bar\", \"uid\": \"736162e2-095f-49db-947c-913388051743\"}], {}, {\"showLink\": false, \"linkText\": \"Export to plot.ly\", \"plotlyServerURL\": \"https://plot.ly\"}); \n",
       "}\n",
       "});</script><script type=\"text/javascript\">window.addEventListener(\"resize\", function(){if (document.getElementById(\"e81ade45-c126-470c-afbf-ab21907b4753\")) {window._Plotly.Plots.resize(document.getElementById(\"e81ade45-c126-470c-afbf-ab21907b4753\"));};})</script>"
      ]
     },
     "metadata": {},
     "output_type": "display_data"
    },
    {
     "name": "stdout",
     "output_type": "stream",
     "text": [
      "\n",
      "\n",
      "Cluster 3 || variable: Edad\n",
      "Describiendo la pregunta Edad\n"
     ]
    },
    {
     "data": {
      "text/plain": [
       "count    100.00000\n",
       "mean      29.08000\n",
       "std        6.34159\n",
       "min       21.00000\n",
       "25%       24.75000\n",
       "50%       28.00000\n",
       "75%       30.00000\n",
       "max       64.00000\n",
       "Name: Edad, dtype: float64"
      ]
     },
     "metadata": {},
     "output_type": "display_data"
    },
    {
     "name": "stdout",
     "output_type": "stream",
     "text": [
      "Conteo de cada valor en Edad expresada como valor / cantidad\n"
     ]
    },
    {
     "data": {
      "text/plain": [
       "21     1\n",
       "23     5\n",
       "24    19\n",
       "25     3\n",
       "26     7\n",
       "27    12\n",
       "28    13\n",
       "29    12\n",
       "30     6\n",
       "31     1\n",
       "32     2\n",
       "33     2\n",
       "34     2\n",
       "35     2\n",
       "36     2\n",
       "37     3\n",
       "38     1\n",
       "39     1\n",
       "40     2\n",
       "42     1\n",
       "48     1\n",
       "50     1\n",
       "64     1\n",
       "Name: Edad, dtype: int64"
      ]
     },
     "metadata": {},
     "output_type": "display_data"
    },
    {
     "name": "stdout",
     "output_type": "stream",
     "text": [
      "Porcentaje de cada valor en Edad expresado como valor / porcentaje\n"
     ]
    },
    {
     "data": {
      "text/plain": [
       "21     1.0\n",
       "23     5.0\n",
       "24    19.0\n",
       "25     3.0\n",
       "26     7.0\n",
       "27    12.0\n",
       "28    13.0\n",
       "29    12.0\n",
       "30     6.0\n",
       "31     1.0\n",
       "32     2.0\n",
       "33     2.0\n",
       "34     2.0\n",
       "35     2.0\n",
       "36     2.0\n",
       "37     3.0\n",
       "38     1.0\n",
       "39     1.0\n",
       "40     2.0\n",
       "42     1.0\n",
       "48     1.0\n",
       "50     1.0\n",
       "64     1.0\n",
       "Name: Edad, dtype: float64"
      ]
     },
     "metadata": {},
     "output_type": "display_data"
    },
    {
     "data": {
      "application/vnd.plotly.v1+json": {
       "config": {
        "linkText": "Export to plot.ly",
        "plotlyServerURL": "https://plot.ly",
        "showLink": false
       },
       "data": [
        {
         "marker": {
          "color": [
           "hsl(147.27999999999997, 42.84%, 62.760000000000005%)",
           "hsl(18.2, 90.52%, 62.24%)",
           "hsl(47.2, 98.4%, 79.0%)",
           "hsl(74.16000000000001, 77.56%, 76.76%)",
           "hsl(147.27999999999997, 42.84%, 62.760000000000005%)",
           "hsl(67.2, 85.60000000000001%, 79.0%)",
           "hsl(64.32000000000001, 91.35999999999999%, 82.19999999999999%)",
           "hsl(67.2, 85.60000000000001%, 79.0%)",
           "hsl(27.799999999999997, 96.28%, 67.36%)",
           "hsl(57.44, 99.68%, 85.4%)",
           "hsl(37.4, 97.56%, 73.04%)",
           "hsl(353.0, 64.0%, 53.0%)",
           "hsl(32.6, 97.24%, 70.16%)",
           "hsl(13.160000000000025, 87.03999999999999%, 59.72%)",
           "hsl(359.72, 71.68%, 55.24%)",
           "hsl(353.0, 64.0%, 53.0%)",
           "hsl(6.439999999999998, 79.36%, 57.480000000000004%)",
           "hsl(359.72, 71.68%, 55.24%)",
           "hsl(27.799999999999997, 96.28%, 67.36%)",
           "hsl(27.799999999999997, 96.28%, 67.36%)",
           "hsl(27.799999999999997, 96.28%, 67.36%)",
           "hsl(23.0, 93.4%, 64.8%)",
           "hsl(18.2, 90.52%, 62.24%)",
           "hsl(52.32, 99.04%, 82.2%)",
           "hsl(47.2, 98.4%, 79.0%)",
           "hsl(42.2, 97.88%, 75.92%)",
           "hsl(61.44, 97.12%, 85.4%)",
           "hsl(87.92000000000002, 65.71999999999998%, 76.12%)",
           "hsl(87.92000000000002, 65.71999999999998%, 76.12%)",
           "hsl(64.32000000000001, 91.35999999999999%, 82.19999999999999%)",
           "hsl(64.32000000000001, 91.35999999999999%, 82.19999999999999%)",
           "hsl(101.67999999999999, 53.88000000000001%, 75.48%)",
           "hsl(101.67999999999999, 53.88000000000001%, 75.48%)",
           "hsl(61.44, 97.12%, 85.4%)",
           "hsl(87.92000000000002, 65.71999999999998%, 76.12%)",
           "hsl(147.27999999999997, 42.84%, 62.760000000000005%)",
           "hsl(162.64000000000001, 42.64%, 57.519999999999996%)",
           "hsl(131.60000000000002, 43.8%, 68.19999999999999%)",
           "hsl(131.60000000000002, 43.8%, 68.19999999999999%)",
           "hsl(188.88, 52.879999999999995%, 49.84%)",
           "hsl(101.67999999999999, 53.88000000000001%, 75.48%)",
           "hsl(162.64000000000001, 42.64%, 57.519999999999996%)",
           "hsl(115.92, 44.76%, 73.64%)",
           "hsl(147.27999999999997, 42.84%, 62.760000000000005%)",
           "hsl(131.60000000000002, 43.8%, 68.19999999999999%)",
           "hsl(202.0, 58.0%, 46.0%)",
           "hsl(188.88, 52.879999999999995%, 49.84%)",
           "hsl(147.27999999999997, 42.84%, 62.760000000000005%)",
           "hsl(175.76000000000002, 47.760000000000005%, 53.67999999999999%)",
           "hsl(115.92, 44.76%, 73.64%)",
           "hsl(202.0, 58.0%, 46.0%)",
           "hsl(175.76000000000002, 47.760000000000005%, 53.67999999999999%)",
           "hsl(188.88, 52.879999999999995%, 49.84%)",
           "hsl(188.88, 52.879999999999995%, 49.84%)",
           "hsl(162.64000000000001, 42.64%, 57.519999999999996%)",
           "hsl(202.0, 58.0%, 46.0%)",
           "hsl(188.88, 52.879999999999995%, 49.84%)",
           "hsl(202.0, 58.0%, 46.0%)",
           "hsl(202.0, 58.0%, 46.0%)",
           "hsl(202.0, 58.0%, 46.0%)",
           "hsl(202.0, 58.0%, 46.0%)",
           "hsl(188.88, 52.879999999999995%, 49.84%)"
          ]
         },
         "type": "bar",
         "uid": "92a1889e-e545-43b3-ac87-24b1656a4e14",
         "x": [
          21,
          23,
          24,
          25,
          26,
          27,
          28,
          29,
          30,
          31,
          32,
          33,
          34,
          35,
          36,
          37,
          38,
          39,
          40,
          42,
          48,
          50,
          64
         ],
         "y": [
          1,
          5,
          19,
          3,
          7,
          12,
          13,
          12,
          6,
          1,
          2,
          2,
          2,
          2,
          2,
          3,
          1,
          1,
          2,
          1,
          1,
          1,
          1
         ]
        }
       ],
       "layout": {}
      },
      "text/html": [
       "<div id=\"d9c72624-ae5b-4abc-8672-60e25d597b9b\" style=\"height: 525px; width: 100%;\" class=\"plotly-graph-div\"></div><script type=\"text/javascript\">require([\"plotly\"], function(Plotly) { window.PLOTLYENV=window.PLOTLYENV || {};window.PLOTLYENV.BASE_URL=\"https://plot.ly\";\n",
       "if (document.getElementById(\"d9c72624-ae5b-4abc-8672-60e25d597b9b\")) {\n",
       "    Plotly.newPlot(\"d9c72624-ae5b-4abc-8672-60e25d597b9b\", [{\"marker\": {\"color\": [\"hsl(147.27999999999997, 42.84%, 62.760000000000005%)\", \"hsl(18.2, 90.52%, 62.24%)\", \"hsl(47.2, 98.4%, 79.0%)\", \"hsl(74.16000000000001, 77.56%, 76.76%)\", \"hsl(147.27999999999997, 42.84%, 62.760000000000005%)\", \"hsl(67.2, 85.60000000000001%, 79.0%)\", \"hsl(64.32000000000001, 91.35999999999999%, 82.19999999999999%)\", \"hsl(67.2, 85.60000000000001%, 79.0%)\", \"hsl(27.799999999999997, 96.28%, 67.36%)\", \"hsl(57.44, 99.68%, 85.4%)\", \"hsl(37.4, 97.56%, 73.04%)\", \"hsl(353.0, 64.0%, 53.0%)\", \"hsl(32.6, 97.24%, 70.16%)\", \"hsl(13.160000000000025, 87.03999999999999%, 59.72%)\", \"hsl(359.72, 71.68%, 55.24%)\", \"hsl(353.0, 64.0%, 53.0%)\", \"hsl(6.439999999999998, 79.36%, 57.480000000000004%)\", \"hsl(359.72, 71.68%, 55.24%)\", \"hsl(27.799999999999997, 96.28%, 67.36%)\", \"hsl(27.799999999999997, 96.28%, 67.36%)\", \"hsl(27.799999999999997, 96.28%, 67.36%)\", \"hsl(23.0, 93.4%, 64.8%)\", \"hsl(18.2, 90.52%, 62.24%)\", \"hsl(52.32, 99.04%, 82.2%)\", \"hsl(47.2, 98.4%, 79.0%)\", \"hsl(42.2, 97.88%, 75.92%)\", \"hsl(61.44, 97.12%, 85.4%)\", \"hsl(87.92000000000002, 65.71999999999998%, 76.12%)\", \"hsl(87.92000000000002, 65.71999999999998%, 76.12%)\", \"hsl(64.32000000000001, 91.35999999999999%, 82.19999999999999%)\", \"hsl(64.32000000000001, 91.35999999999999%, 82.19999999999999%)\", \"hsl(101.67999999999999, 53.88000000000001%, 75.48%)\", \"hsl(101.67999999999999, 53.88000000000001%, 75.48%)\", \"hsl(61.44, 97.12%, 85.4%)\", \"hsl(87.92000000000002, 65.71999999999998%, 76.12%)\", \"hsl(147.27999999999997, 42.84%, 62.760000000000005%)\", \"hsl(162.64000000000001, 42.64%, 57.519999999999996%)\", \"hsl(131.60000000000002, 43.8%, 68.19999999999999%)\", \"hsl(131.60000000000002, 43.8%, 68.19999999999999%)\", \"hsl(188.88, 52.879999999999995%, 49.84%)\", \"hsl(101.67999999999999, 53.88000000000001%, 75.48%)\", \"hsl(162.64000000000001, 42.64%, 57.519999999999996%)\", \"hsl(115.92, 44.76%, 73.64%)\", \"hsl(147.27999999999997, 42.84%, 62.760000000000005%)\", \"hsl(131.60000000000002, 43.8%, 68.19999999999999%)\", \"hsl(202.0, 58.0%, 46.0%)\", \"hsl(188.88, 52.879999999999995%, 49.84%)\", \"hsl(147.27999999999997, 42.84%, 62.760000000000005%)\", \"hsl(175.76000000000002, 47.760000000000005%, 53.67999999999999%)\", \"hsl(115.92, 44.76%, 73.64%)\", \"hsl(202.0, 58.0%, 46.0%)\", \"hsl(175.76000000000002, 47.760000000000005%, 53.67999999999999%)\", \"hsl(188.88, 52.879999999999995%, 49.84%)\", \"hsl(188.88, 52.879999999999995%, 49.84%)\", \"hsl(162.64000000000001, 42.64%, 57.519999999999996%)\", \"hsl(202.0, 58.0%, 46.0%)\", \"hsl(188.88, 52.879999999999995%, 49.84%)\", \"hsl(202.0, 58.0%, 46.0%)\", \"hsl(202.0, 58.0%, 46.0%)\", \"hsl(202.0, 58.0%, 46.0%)\", \"hsl(202.0, 58.0%, 46.0%)\", \"hsl(188.88, 52.879999999999995%, 49.84%)\"]}, \"x\": [21, 23, 24, 25, 26, 27, 28, 29, 30, 31, 32, 33, 34, 35, 36, 37, 38, 39, 40, 42, 48, 50, 64], \"y\": [1, 5, 19, 3, 7, 12, 13, 12, 6, 1, 2, 2, 2, 2, 2, 3, 1, 1, 2, 1, 1, 1, 1], \"type\": \"bar\", \"uid\": \"b92fb16e-85d1-40ee-ac61-63f754656a8c\"}], {}, {\"showLink\": false, \"linkText\": \"Export to plot.ly\", \"plotlyServerURL\": \"https://plot.ly\"}); \n",
       "}\n",
       "});</script><script type=\"text/javascript\">window.addEventListener(\"resize\", function(){if (document.getElementById(\"d9c72624-ae5b-4abc-8672-60e25d597b9b\")) {window._Plotly.Plots.resize(document.getElementById(\"d9c72624-ae5b-4abc-8672-60e25d597b9b\"));};})</script>"
      ],
      "text/vnd.plotly.v1+html": [
       "<div id=\"d9c72624-ae5b-4abc-8672-60e25d597b9b\" style=\"height: 525px; width: 100%;\" class=\"plotly-graph-div\"></div><script type=\"text/javascript\">require([\"plotly\"], function(Plotly) { window.PLOTLYENV=window.PLOTLYENV || {};window.PLOTLYENV.BASE_URL=\"https://plot.ly\";\n",
       "if (document.getElementById(\"d9c72624-ae5b-4abc-8672-60e25d597b9b\")) {\n",
       "    Plotly.newPlot(\"d9c72624-ae5b-4abc-8672-60e25d597b9b\", [{\"marker\": {\"color\": [\"hsl(147.27999999999997, 42.84%, 62.760000000000005%)\", \"hsl(18.2, 90.52%, 62.24%)\", \"hsl(47.2, 98.4%, 79.0%)\", \"hsl(74.16000000000001, 77.56%, 76.76%)\", \"hsl(147.27999999999997, 42.84%, 62.760000000000005%)\", \"hsl(67.2, 85.60000000000001%, 79.0%)\", \"hsl(64.32000000000001, 91.35999999999999%, 82.19999999999999%)\", \"hsl(67.2, 85.60000000000001%, 79.0%)\", \"hsl(27.799999999999997, 96.28%, 67.36%)\", \"hsl(57.44, 99.68%, 85.4%)\", \"hsl(37.4, 97.56%, 73.04%)\", \"hsl(353.0, 64.0%, 53.0%)\", \"hsl(32.6, 97.24%, 70.16%)\", \"hsl(13.160000000000025, 87.03999999999999%, 59.72%)\", \"hsl(359.72, 71.68%, 55.24%)\", \"hsl(353.0, 64.0%, 53.0%)\", \"hsl(6.439999999999998, 79.36%, 57.480000000000004%)\", \"hsl(359.72, 71.68%, 55.24%)\", \"hsl(27.799999999999997, 96.28%, 67.36%)\", \"hsl(27.799999999999997, 96.28%, 67.36%)\", \"hsl(27.799999999999997, 96.28%, 67.36%)\", \"hsl(23.0, 93.4%, 64.8%)\", \"hsl(18.2, 90.52%, 62.24%)\", \"hsl(52.32, 99.04%, 82.2%)\", \"hsl(47.2, 98.4%, 79.0%)\", \"hsl(42.2, 97.88%, 75.92%)\", \"hsl(61.44, 97.12%, 85.4%)\", \"hsl(87.92000000000002, 65.71999999999998%, 76.12%)\", \"hsl(87.92000000000002, 65.71999999999998%, 76.12%)\", \"hsl(64.32000000000001, 91.35999999999999%, 82.19999999999999%)\", \"hsl(64.32000000000001, 91.35999999999999%, 82.19999999999999%)\", \"hsl(101.67999999999999, 53.88000000000001%, 75.48%)\", \"hsl(101.67999999999999, 53.88000000000001%, 75.48%)\", \"hsl(61.44, 97.12%, 85.4%)\", \"hsl(87.92000000000002, 65.71999999999998%, 76.12%)\", \"hsl(147.27999999999997, 42.84%, 62.760000000000005%)\", \"hsl(162.64000000000001, 42.64%, 57.519999999999996%)\", \"hsl(131.60000000000002, 43.8%, 68.19999999999999%)\", \"hsl(131.60000000000002, 43.8%, 68.19999999999999%)\", \"hsl(188.88, 52.879999999999995%, 49.84%)\", \"hsl(101.67999999999999, 53.88000000000001%, 75.48%)\", \"hsl(162.64000000000001, 42.64%, 57.519999999999996%)\", \"hsl(115.92, 44.76%, 73.64%)\", \"hsl(147.27999999999997, 42.84%, 62.760000000000005%)\", \"hsl(131.60000000000002, 43.8%, 68.19999999999999%)\", \"hsl(202.0, 58.0%, 46.0%)\", \"hsl(188.88, 52.879999999999995%, 49.84%)\", \"hsl(147.27999999999997, 42.84%, 62.760000000000005%)\", \"hsl(175.76000000000002, 47.760000000000005%, 53.67999999999999%)\", \"hsl(115.92, 44.76%, 73.64%)\", \"hsl(202.0, 58.0%, 46.0%)\", \"hsl(175.76000000000002, 47.760000000000005%, 53.67999999999999%)\", \"hsl(188.88, 52.879999999999995%, 49.84%)\", \"hsl(188.88, 52.879999999999995%, 49.84%)\", \"hsl(162.64000000000001, 42.64%, 57.519999999999996%)\", \"hsl(202.0, 58.0%, 46.0%)\", \"hsl(188.88, 52.879999999999995%, 49.84%)\", \"hsl(202.0, 58.0%, 46.0%)\", \"hsl(202.0, 58.0%, 46.0%)\", \"hsl(202.0, 58.0%, 46.0%)\", \"hsl(202.0, 58.0%, 46.0%)\", \"hsl(188.88, 52.879999999999995%, 49.84%)\"]}, \"x\": [21, 23, 24, 25, 26, 27, 28, 29, 30, 31, 32, 33, 34, 35, 36, 37, 38, 39, 40, 42, 48, 50, 64], \"y\": [1, 5, 19, 3, 7, 12, 13, 12, 6, 1, 2, 2, 2, 2, 2, 3, 1, 1, 2, 1, 1, 1, 1], \"type\": \"bar\", \"uid\": \"b92fb16e-85d1-40ee-ac61-63f754656a8c\"}], {}, {\"showLink\": false, \"linkText\": \"Export to plot.ly\", \"plotlyServerURL\": \"https://plot.ly\"}); \n",
       "}\n",
       "});</script><script type=\"text/javascript\">window.addEventListener(\"resize\", function(){if (document.getElementById(\"d9c72624-ae5b-4abc-8672-60e25d597b9b\")) {window._Plotly.Plots.resize(document.getElementById(\"d9c72624-ae5b-4abc-8672-60e25d597b9b\"));};})</script>"
      ]
     },
     "metadata": {},
     "output_type": "display_data"
    },
    {
     "name": "stdout",
     "output_type": "stream",
     "text": [
      "\n",
      "\n",
      "Cluster 3 || variable: Nacionalidad\n",
      "Describiendo la pregunta Nacionalidad\n",
      "Valores numéricos asociados a las respuestas [0, 1, 2, 3, 4, 5, 6, 7, 8, 9, 10, 11, 12, 13, 14, 15, 16, 17, 18, 19, 20, 21, 22, 23, 24, 25, 26, 27, 28, 29, 30, 31, 32, 33]\n",
      "Respuestas posibles a la pregunta/variable ['España', 'Colombia', 'México', 'República Dominicana', 'Austria', 'Chile', 'Francia', 'Canadá', 'Nigeria', 'China', 'Australia', 'Rusia', 'Alemania', 'Brasil', 'Estados Unidos de América', 'India', 'Eslovaquia', 'Italia', 'Inglaterra', 'Cuba', 'Ukrania', 'Venezuela', 'Indonesia', 'Albania', 'Paquistan', 'Bahamas', 'Argentina', 'Islandia', 'Escocia', 'Sudán', 'Nueva Zelanda', 'Irlanda', 'Macedonia', 'Unknown']\n"
     ]
    },
    {
     "data": {
      "text/plain": [
       "count    100.000000\n",
       "mean      15.910000\n",
       "std        5.091278\n",
       "min        0.000000\n",
       "25%       14.000000\n",
       "50%       15.000000\n",
       "75%       15.000000\n",
       "max       33.000000\n",
       "Name: Nacionalidad, dtype: float64"
      ]
     },
     "metadata": {},
     "output_type": "display_data"
    },
    {
     "name": "stdout",
     "output_type": "stream",
     "text": [
      "Conteo de cada valor en Nacionalidad expresada como valor / cantidad\n"
     ]
    },
    {
     "data": {
      "text/plain": [
       "0      1\n",
       "7      1\n",
       "11     1\n",
       "14    33\n",
       "15    50\n",
       "17     3\n",
       "18     1\n",
       "21     2\n",
       "22     1\n",
       "30     1\n",
       "33     6\n",
       "Name: Nacionalidad, dtype: int64"
      ]
     },
     "metadata": {},
     "output_type": "display_data"
    },
    {
     "name": "stdout",
     "output_type": "stream",
     "text": [
      "Porcentaje de cada valor en Nacionalidad expresado como valor / porcentaje\n"
     ]
    },
    {
     "data": {
      "text/plain": [
       "0      1.0\n",
       "7      1.0\n",
       "11     1.0\n",
       "14    33.0\n",
       "15    50.0\n",
       "17     3.0\n",
       "18     1.0\n",
       "21     2.0\n",
       "22     1.0\n",
       "30     1.0\n",
       "33     6.0\n",
       "Name: Nacionalidad, dtype: float64"
      ]
     },
     "metadata": {},
     "output_type": "display_data"
    },
    {
     "data": {
      "application/vnd.plotly.v1+json": {
       "config": {
        "linkText": "Export to plot.ly",
        "plotlyServerURL": "https://plot.ly",
        "showLink": false
       },
       "data": [
        {
         "marker": {
          "color": [
           "hsl(353.0, 64.0%, 53.0%)",
           "hsl(358.09090909090907, 69.81818181818181%, 54.696969696969695%)",
           "hsl(3.181818181818187, 75.63636363636364%, 56.39393939393939%)",
           "hsl(8.272727272727252, 81.45454545454545%, 58.09090909090909%)",
           "hsl(13.363636363636374, 87.27272727272728%, 59.78787878787879%)",
           "hsl(17.181818181818183, 89.9090909090909%, 61.696969696969695%)",
           "hsl(20.81818181818182, 92.0909090909091%, 63.63636363636364%)",
           "hsl(24.454545454545453, 94.27272727272728%, 65.57575757575758%)",
           "hsl(28.090909090909093, 96.45454545454545%, 67.51515151515152%)",
           "hsl(31.727272727272727, 97.18181818181819%, 69.63636363636364%)",
           "hsl(35.36363636363637, 97.42424242424242%, 71.81818181818181%)",
           "hsl(39.0, 97.66666666666667%, 74.0%)",
           "hsl(42.63636363636364, 97.9090909090909%, 76.18181818181819%)",
           "hsl(46.42424242424242, 98.3030303030303%, 78.51515151515152%)",
           "hsl(50.303030303030305, 98.78787878787878%, 80.93939393939394%)",
           "hsl(54.18181818181818, 99.27272727272727%, 83.36363636363636%)",
           "hsl(58.06060606060606, 99.75757575757575%, 85.78787878787878%)",
           "hsl(61.09090909090909, 97.81818181818181%, 85.78787878787878%)",
           "hsl(63.272727272727266, 93.45454545454547%, 83.36363636363637%)",
           "hsl(65.45454545454545, 89.09090909090908%, 80.93939393939394%)",
           "hsl(67.63636363636364, 84.72727272727272%, 78.51515151515152%)",
           "hsl(72.9090909090909, 78.63636363636364%, 76.81818181818181%)",
           "hsl(83.33333333333331, 69.66666666666669%, 76.33333333333333%)",
           "hsl(93.75757575757578, 60.69696969696968%, 75.84848484848484%)",
           "hsl(104.18181818181819, 51.72727272727272%, 75.36363636363636%)",
           "hsl(114.96969696969697, 44.81818181818182%, 73.96969696969697%)",
           "hsl(126.84848484848483, 44.09090909090909%, 69.84848484848486%)",
           "hsl(138.72727272727275, 43.36363636363636%, 65.72727272727272%)",
           "hsl(150.60606060606062, 42.63636363636363%, 61.6060606060606%)",
           "hsl(162.24242424242425, 42.484848484848484%, 57.63636363636364%)",
           "hsl(172.1818181818182, 46.36363636363636%, 54.727272727272734%)",
           "hsl(182.12121212121212, 50.24242424242425%, 51.81818181818181%)",
           "hsl(192.06060606060606, 54.121212121212125%, 48.90909090909091%)",
           "hsl(202.0, 58.0%, 46.0%)"
          ]
         },
         "type": "bar",
         "uid": "2b9753e2-3987-4257-b459-30f910f31b44",
         "x": [
          0,
          7,
          11,
          14,
          15,
          17,
          18,
          21,
          22,
          30,
          33
         ],
         "y": [
          1,
          1,
          1,
          33,
          50,
          3,
          1,
          2,
          1,
          1,
          6
         ]
        }
       ],
       "layout": {
        "bargap": 0.2,
        "xaxis": {
         "ticktext": [
          "España",
          "Colombia",
          "México",
          "República Dominicana",
          "Austria",
          "Chile",
          "Francia",
          "Canadá",
          "Nigeria",
          "China",
          "Australia",
          "Rusia",
          "Alemania",
          "Brasil",
          "Estados Unidos de América",
          "India",
          "Eslovaquia",
          "Italia",
          "Inglaterra",
          "Cuba",
          "Ukrania",
          "Venezuela",
          "Indonesia",
          "Albania",
          "Paquistan",
          "Bahamas",
          "Argentina",
          "Islandia",
          "Escocia",
          "Sudán",
          "Nueva Zelanda",
          "Irlanda",
          "Macedonia",
          "Unknown"
         ],
         "tickvals": [
          0,
          1,
          2,
          3,
          4,
          5,
          6,
          7,
          8,
          9,
          10,
          11,
          12,
          13,
          14,
          15,
          16,
          17,
          18,
          19,
          20,
          21,
          22,
          23,
          24,
          25,
          26,
          27,
          28,
          29,
          30,
          31,
          32,
          33
         ]
        }
       }
      },
      "text/html": [
       "<div id=\"78450fca-a621-4168-9462-fdff4b7e399b\" style=\"height: 525px; width: 100%;\" class=\"plotly-graph-div\"></div><script type=\"text/javascript\">require([\"plotly\"], function(Plotly) { window.PLOTLYENV=window.PLOTLYENV || {};window.PLOTLYENV.BASE_URL=\"https://plot.ly\";\n",
       "if (document.getElementById(\"78450fca-a621-4168-9462-fdff4b7e399b\")) {\n",
       "    Plotly.newPlot(\"78450fca-a621-4168-9462-fdff4b7e399b\", [{\"marker\": {\"color\": [\"hsl(353.0, 64.0%, 53.0%)\", \"hsl(358.09090909090907, 69.81818181818181%, 54.696969696969695%)\", \"hsl(3.181818181818187, 75.63636363636364%, 56.39393939393939%)\", \"hsl(8.272727272727252, 81.45454545454545%, 58.09090909090909%)\", \"hsl(13.363636363636374, 87.27272727272728%, 59.78787878787879%)\", \"hsl(17.181818181818183, 89.9090909090909%, 61.696969696969695%)\", \"hsl(20.81818181818182, 92.0909090909091%, 63.63636363636364%)\", \"hsl(24.454545454545453, 94.27272727272728%, 65.57575757575758%)\", \"hsl(28.090909090909093, 96.45454545454545%, 67.51515151515152%)\", \"hsl(31.727272727272727, 97.18181818181819%, 69.63636363636364%)\", \"hsl(35.36363636363637, 97.42424242424242%, 71.81818181818181%)\", \"hsl(39.0, 97.66666666666667%, 74.0%)\", \"hsl(42.63636363636364, 97.9090909090909%, 76.18181818181819%)\", \"hsl(46.42424242424242, 98.3030303030303%, 78.51515151515152%)\", \"hsl(50.303030303030305, 98.78787878787878%, 80.93939393939394%)\", \"hsl(54.18181818181818, 99.27272727272727%, 83.36363636363636%)\", \"hsl(58.06060606060606, 99.75757575757575%, 85.78787878787878%)\", \"hsl(61.09090909090909, 97.81818181818181%, 85.78787878787878%)\", \"hsl(63.272727272727266, 93.45454545454547%, 83.36363636363637%)\", \"hsl(65.45454545454545, 89.09090909090908%, 80.93939393939394%)\", \"hsl(67.63636363636364, 84.72727272727272%, 78.51515151515152%)\", \"hsl(72.9090909090909, 78.63636363636364%, 76.81818181818181%)\", \"hsl(83.33333333333331, 69.66666666666669%, 76.33333333333333%)\", \"hsl(93.75757575757578, 60.69696969696968%, 75.84848484848484%)\", \"hsl(104.18181818181819, 51.72727272727272%, 75.36363636363636%)\", \"hsl(114.96969696969697, 44.81818181818182%, 73.96969696969697%)\", \"hsl(126.84848484848483, 44.09090909090909%, 69.84848484848486%)\", \"hsl(138.72727272727275, 43.36363636363636%, 65.72727272727272%)\", \"hsl(150.60606060606062, 42.63636363636363%, 61.6060606060606%)\", \"hsl(162.24242424242425, 42.484848484848484%, 57.63636363636364%)\", \"hsl(172.1818181818182, 46.36363636363636%, 54.727272727272734%)\", \"hsl(182.12121212121212, 50.24242424242425%, 51.81818181818181%)\", \"hsl(192.06060606060606, 54.121212121212125%, 48.90909090909091%)\", \"hsl(202.0, 58.0%, 46.0%)\"]}, \"x\": [0, 7, 11, 14, 15, 17, 18, 21, 22, 30, 33], \"y\": [1, 1, 1, 33, 50, 3, 1, 2, 1, 1, 6], \"type\": \"bar\", \"uid\": \"2b9753e2-3987-4257-b459-30f910f31b44\"}], {\"bargap\": 0.2, \"xaxis\": {\"ticktext\": [\"Espa\\u00f1a\", \"Colombia\", \"M\\u00e9xico\", \"Rep\\u00fablica Dominicana\", \"Austria\", \"Chile\", \"Francia\", \"Canad\\u00e1\", \"Nigeria\", \"China\", \"Australia\", \"Rusia\", \"Alemania\", \"Brasil\", \"Estados Unidos de Am\\u00e9rica\", \"India\", \"Eslovaquia\", \"Italia\", \"Inglaterra\", \"Cuba\", \"Ukrania\", \"Venezuela\", \"Indonesia\", \"Albania\", \"Paquistan\", \"Bahamas\", \"Argentina\", \"Islandia\", \"Escocia\", \"Sud\\u00e1n\", \"Nueva Zelanda\", \"Irlanda\", \"Macedonia\", \"Unknown\"], \"tickvals\": [0, 1, 2, 3, 4, 5, 6, 7, 8, 9, 10, 11, 12, 13, 14, 15, 16, 17, 18, 19, 20, 21, 22, 23, 24, 25, 26, 27, 28, 29, 30, 31, 32, 33]}}, {\"showLink\": false, \"linkText\": \"Export to plot.ly\", \"plotlyServerURL\": \"https://plot.ly\"}); \n",
       "}\n",
       "});</script><script type=\"text/javascript\">window.addEventListener(\"resize\", function(){if (document.getElementById(\"78450fca-a621-4168-9462-fdff4b7e399b\")) {window._Plotly.Plots.resize(document.getElementById(\"78450fca-a621-4168-9462-fdff4b7e399b\"));};})</script>"
      ],
      "text/vnd.plotly.v1+html": [
       "<div id=\"78450fca-a621-4168-9462-fdff4b7e399b\" style=\"height: 525px; width: 100%;\" class=\"plotly-graph-div\"></div><script type=\"text/javascript\">require([\"plotly\"], function(Plotly) { window.PLOTLYENV=window.PLOTLYENV || {};window.PLOTLYENV.BASE_URL=\"https://plot.ly\";\n",
       "if (document.getElementById(\"78450fca-a621-4168-9462-fdff4b7e399b\")) {\n",
       "    Plotly.newPlot(\"78450fca-a621-4168-9462-fdff4b7e399b\", [{\"marker\": {\"color\": [\"hsl(353.0, 64.0%, 53.0%)\", \"hsl(358.09090909090907, 69.81818181818181%, 54.696969696969695%)\", \"hsl(3.181818181818187, 75.63636363636364%, 56.39393939393939%)\", \"hsl(8.272727272727252, 81.45454545454545%, 58.09090909090909%)\", \"hsl(13.363636363636374, 87.27272727272728%, 59.78787878787879%)\", \"hsl(17.181818181818183, 89.9090909090909%, 61.696969696969695%)\", \"hsl(20.81818181818182, 92.0909090909091%, 63.63636363636364%)\", \"hsl(24.454545454545453, 94.27272727272728%, 65.57575757575758%)\", \"hsl(28.090909090909093, 96.45454545454545%, 67.51515151515152%)\", \"hsl(31.727272727272727, 97.18181818181819%, 69.63636363636364%)\", \"hsl(35.36363636363637, 97.42424242424242%, 71.81818181818181%)\", \"hsl(39.0, 97.66666666666667%, 74.0%)\", \"hsl(42.63636363636364, 97.9090909090909%, 76.18181818181819%)\", \"hsl(46.42424242424242, 98.3030303030303%, 78.51515151515152%)\", \"hsl(50.303030303030305, 98.78787878787878%, 80.93939393939394%)\", \"hsl(54.18181818181818, 99.27272727272727%, 83.36363636363636%)\", \"hsl(58.06060606060606, 99.75757575757575%, 85.78787878787878%)\", \"hsl(61.09090909090909, 97.81818181818181%, 85.78787878787878%)\", \"hsl(63.272727272727266, 93.45454545454547%, 83.36363636363637%)\", \"hsl(65.45454545454545, 89.09090909090908%, 80.93939393939394%)\", \"hsl(67.63636363636364, 84.72727272727272%, 78.51515151515152%)\", \"hsl(72.9090909090909, 78.63636363636364%, 76.81818181818181%)\", \"hsl(83.33333333333331, 69.66666666666669%, 76.33333333333333%)\", \"hsl(93.75757575757578, 60.69696969696968%, 75.84848484848484%)\", \"hsl(104.18181818181819, 51.72727272727272%, 75.36363636363636%)\", \"hsl(114.96969696969697, 44.81818181818182%, 73.96969696969697%)\", \"hsl(126.84848484848483, 44.09090909090909%, 69.84848484848486%)\", \"hsl(138.72727272727275, 43.36363636363636%, 65.72727272727272%)\", \"hsl(150.60606060606062, 42.63636363636363%, 61.6060606060606%)\", \"hsl(162.24242424242425, 42.484848484848484%, 57.63636363636364%)\", \"hsl(172.1818181818182, 46.36363636363636%, 54.727272727272734%)\", \"hsl(182.12121212121212, 50.24242424242425%, 51.81818181818181%)\", \"hsl(192.06060606060606, 54.121212121212125%, 48.90909090909091%)\", \"hsl(202.0, 58.0%, 46.0%)\"]}, \"x\": [0, 7, 11, 14, 15, 17, 18, 21, 22, 30, 33], \"y\": [1, 1, 1, 33, 50, 3, 1, 2, 1, 1, 6], \"type\": \"bar\", \"uid\": \"2b9753e2-3987-4257-b459-30f910f31b44\"}], {\"bargap\": 0.2, \"xaxis\": {\"ticktext\": [\"Espa\\u00f1a\", \"Colombia\", \"M\\u00e9xico\", \"Rep\\u00fablica Dominicana\", \"Austria\", \"Chile\", \"Francia\", \"Canad\\u00e1\", \"Nigeria\", \"China\", \"Australia\", \"Rusia\", \"Alemania\", \"Brasil\", \"Estados Unidos de Am\\u00e9rica\", \"India\", \"Eslovaquia\", \"Italia\", \"Inglaterra\", \"Cuba\", \"Ukrania\", \"Venezuela\", \"Indonesia\", \"Albania\", \"Paquistan\", \"Bahamas\", \"Argentina\", \"Islandia\", \"Escocia\", \"Sud\\u00e1n\", \"Nueva Zelanda\", \"Irlanda\", \"Macedonia\", \"Unknown\"], \"tickvals\": [0, 1, 2, 3, 4, 5, 6, 7, 8, 9, 10, 11, 12, 13, 14, 15, 16, 17, 18, 19, 20, 21, 22, 23, 24, 25, 26, 27, 28, 29, 30, 31, 32, 33]}}, {\"showLink\": false, \"linkText\": \"Export to plot.ly\", \"plotlyServerURL\": \"https://plot.ly\"}); \n",
       "}\n",
       "});</script><script type=\"text/javascript\">window.addEventListener(\"resize\", function(){if (document.getElementById(\"78450fca-a621-4168-9462-fdff4b7e399b\")) {window._Plotly.Plots.resize(document.getElementById(\"78450fca-a621-4168-9462-fdff4b7e399b\"));};})</script>"
      ]
     },
     "metadata": {},
     "output_type": "display_data"
    },
    {
     "name": "stdout",
     "output_type": "stream",
     "text": [
      "\n",
      "\n",
      "Cluster 3 || variable: Nivel de estudios\n",
      "Describiendo la pregunta Nivel de estudios\n",
      "Valores numéricos asociados a las respuestas [0, 1, 2, 3, 4, 5]\n",
      "Respuestas posibles a la pregunta/variable ['Educación Primaria', 'Sin terminar Educación Secundaria Obligatoria', 'Terminada Educación Secundaria Obligatoria', 'FP', 'Universitario sin graduar', 'Universitario graduado']\n"
     ]
    },
    {
     "data": {
      "text/plain": [
       "count    100.000000\n",
       "mean       4.370000\n",
       "std        1.211519\n",
       "min        0.000000\n",
       "25%        4.000000\n",
       "50%        5.000000\n",
       "75%        5.000000\n",
       "max        5.000000\n",
       "Name: Nivel de estudios, dtype: float64"
      ]
     },
     "metadata": {},
     "output_type": "display_data"
    },
    {
     "name": "stdout",
     "output_type": "stream",
     "text": [
      "Conteo de cada valor en Nivel de estudios expresada como valor / cantidad\n"
     ]
    },
    {
     "data": {
      "text/plain": [
       "0     3\n",
       "2     9\n",
       "3     4\n",
       "4    13\n",
       "5    71\n",
       "Name: Nivel de estudios, dtype: int64"
      ]
     },
     "metadata": {},
     "output_type": "display_data"
    },
    {
     "name": "stdout",
     "output_type": "stream",
     "text": [
      "Porcentaje de cada valor en Nivel de estudios expresado como valor / porcentaje\n"
     ]
    },
    {
     "data": {
      "text/plain": [
       "0     3.0\n",
       "2     9.0\n",
       "3     4.0\n",
       "4    13.0\n",
       "5    71.0\n",
       "Name: Nivel de estudios, dtype: float64"
      ]
     },
     "metadata": {},
     "output_type": "display_data"
    },
    {
     "data": {
      "application/vnd.plotly.v1+json": {
       "config": {
        "linkText": "Export to plot.ly",
        "plotlyServerURL": "https://plot.ly",
        "showLink": false
       },
       "data": [
        {
         "marker": {
          "color": [
           "rgb(213,62,79)",
           "rgb(252,141,89)",
           "rgb(254,224,139)",
           "rgb(230,245,152)",
           "rgb(153,213,148)",
           "rgb(50,136,189)"
          ]
         },
         "type": "bar",
         "uid": "141d274f-a27b-44cc-b366-d139d7d2a3cc",
         "x": [
          0,
          2,
          3,
          4,
          5
         ],
         "y": [
          3,
          9,
          4,
          13,
          71
         ]
        }
       ],
       "layout": {
        "bargap": 0.2,
        "xaxis": {
         "ticktext": [
          "Educación Primaria",
          "Sin terminar Educación Secundaria Obligatoria",
          "Terminada Educación Secundaria Obligatoria",
          "FP",
          "Universitario sin graduar",
          "Universitario graduado"
         ],
         "tickvals": [
          0,
          1,
          2,
          3,
          4,
          5
         ]
        }
       }
      },
      "text/html": [
       "<div id=\"d4c6710f-6123-46bb-be77-12f670aacd08\" style=\"height: 525px; width: 100%;\" class=\"plotly-graph-div\"></div><script type=\"text/javascript\">require([\"plotly\"], function(Plotly) { window.PLOTLYENV=window.PLOTLYENV || {};window.PLOTLYENV.BASE_URL=\"https://plot.ly\";\n",
       "if (document.getElementById(\"d4c6710f-6123-46bb-be77-12f670aacd08\")) {\n",
       "    Plotly.newPlot(\"d4c6710f-6123-46bb-be77-12f670aacd08\", [{\"marker\": {\"color\": [\"rgb(213,62,79)\", \"rgb(252,141,89)\", \"rgb(254,224,139)\", \"rgb(230,245,152)\", \"rgb(153,213,148)\", \"rgb(50,136,189)\"]}, \"x\": [0, 2, 3, 4, 5], \"y\": [3, 9, 4, 13, 71], \"type\": \"bar\", \"uid\": \"141d274f-a27b-44cc-b366-d139d7d2a3cc\"}], {\"bargap\": 0.2, \"xaxis\": {\"ticktext\": [\"Educaci\\u00f3n Primaria\", \"Sin terminar Educaci\\u00f3n Secundaria Obligatoria\", \"Terminada Educaci\\u00f3n Secundaria Obligatoria\", \"FP\", \"Universitario sin graduar\", \"Universitario graduado\"], \"tickvals\": [0, 1, 2, 3, 4, 5]}}, {\"showLink\": false, \"linkText\": \"Export to plot.ly\", \"plotlyServerURL\": \"https://plot.ly\"}); \n",
       "}\n",
       "});</script><script type=\"text/javascript\">window.addEventListener(\"resize\", function(){if (document.getElementById(\"d4c6710f-6123-46bb-be77-12f670aacd08\")) {window._Plotly.Plots.resize(document.getElementById(\"d4c6710f-6123-46bb-be77-12f670aacd08\"));};})</script>"
      ],
      "text/vnd.plotly.v1+html": [
       "<div id=\"d4c6710f-6123-46bb-be77-12f670aacd08\" style=\"height: 525px; width: 100%;\" class=\"plotly-graph-div\"></div><script type=\"text/javascript\">require([\"plotly\"], function(Plotly) { window.PLOTLYENV=window.PLOTLYENV || {};window.PLOTLYENV.BASE_URL=\"https://plot.ly\";\n",
       "if (document.getElementById(\"d4c6710f-6123-46bb-be77-12f670aacd08\")) {\n",
       "    Plotly.newPlot(\"d4c6710f-6123-46bb-be77-12f670aacd08\", [{\"marker\": {\"color\": [\"rgb(213,62,79)\", \"rgb(252,141,89)\", \"rgb(254,224,139)\", \"rgb(230,245,152)\", \"rgb(153,213,148)\", \"rgb(50,136,189)\"]}, \"x\": [0, 2, 3, 4, 5], \"y\": [3, 9, 4, 13, 71], \"type\": \"bar\", \"uid\": \"141d274f-a27b-44cc-b366-d139d7d2a3cc\"}], {\"bargap\": 0.2, \"xaxis\": {\"ticktext\": [\"Educaci\\u00f3n Primaria\", \"Sin terminar Educaci\\u00f3n Secundaria Obligatoria\", \"Terminada Educaci\\u00f3n Secundaria Obligatoria\", \"FP\", \"Universitario sin graduar\", \"Universitario graduado\"], \"tickvals\": [0, 1, 2, 3, 4, 5]}}, {\"showLink\": false, \"linkText\": \"Export to plot.ly\", \"plotlyServerURL\": \"https://plot.ly\"}); \n",
       "}\n",
       "});</script><script type=\"text/javascript\">window.addEventListener(\"resize\", function(){if (document.getElementById(\"d4c6710f-6123-46bb-be77-12f670aacd08\")) {window._Plotly.Plots.resize(document.getElementById(\"d4c6710f-6123-46bb-be77-12f670aacd08\"));};})</script>"
      ]
     },
     "metadata": {},
     "output_type": "display_data"
    },
    {
     "name": "stdout",
     "output_type": "stream",
     "text": [
      "\n",
      "\n",
      "Cluster 1 || variable: Género\n",
      "Describiendo la pregunta Género\n"
     ]
    },
    {
     "data": {
      "text/plain": [
       "count    37.000000\n",
       "mean      0.351351\n",
       "std       0.483978\n",
       "min       0.000000\n",
       "25%       0.000000\n",
       "50%       0.000000\n",
       "75%       1.000000\n",
       "max       1.000000\n",
       "Name: Género, dtype: float64"
      ]
     },
     "metadata": {},
     "output_type": "display_data"
    },
    {
     "name": "stdout",
     "output_type": "stream",
     "text": [
      "Conteo de cada valor en Género expresada como valor / cantidad\n"
     ]
    },
    {
     "data": {
      "text/plain": [
       "0    24\n",
       "1    13\n",
       "Name: Género, dtype: int64"
      ]
     },
     "metadata": {},
     "output_type": "display_data"
    },
    {
     "name": "stdout",
     "output_type": "stream",
     "text": [
      "Porcentaje de cada valor en Género expresado como valor / porcentaje\n"
     ]
    },
    {
     "data": {
      "text/plain": [
       "0    64.86\n",
       "1    35.14\n",
       "Name: Género, dtype: float64"
      ]
     },
     "metadata": {},
     "output_type": "display_data"
    },
    {
     "data": {
      "application/vnd.plotly.v1+json": {
       "config": {
        "linkText": "Export to plot.ly",
        "plotlyServerURL": "https://plot.ly",
        "showLink": false
       },
       "data": [
        {
         "marker": {
          "color": [
           "rgb(213,62,79)",
           "rgb(252,141,89)",
           "rgb(254,224,139)",
           "rgb(230,245,152)",
           "rgb(153,213,148)",
           "rgb(50,136,189)"
          ]
         },
         "type": "bar",
         "uid": "4af741e6-08d2-4efa-86d8-932ff826d581",
         "x": [
          0,
          1
         ],
         "y": [
          24,
          13
         ]
        }
       ],
       "layout": {}
      },
      "text/html": [
       "<div id=\"c3e39780-8e7b-40cf-ab08-2894f6ccac98\" style=\"height: 525px; width: 100%;\" class=\"plotly-graph-div\"></div><script type=\"text/javascript\">require([\"plotly\"], function(Plotly) { window.PLOTLYENV=window.PLOTLYENV || {};window.PLOTLYENV.BASE_URL=\"https://plot.ly\";\n",
       "if (document.getElementById(\"c3e39780-8e7b-40cf-ab08-2894f6ccac98\")) {\n",
       "    Plotly.newPlot(\"c3e39780-8e7b-40cf-ab08-2894f6ccac98\", [{\"marker\": {\"color\": [\"rgb(213,62,79)\", \"rgb(252,141,89)\", \"rgb(254,224,139)\", \"rgb(230,245,152)\", \"rgb(153,213,148)\", \"rgb(50,136,189)\"]}, \"x\": [0, 1], \"y\": [24, 13], \"type\": \"bar\", \"uid\": \"a60d9ede-bd5b-4270-aab8-beb673d8ffc6\"}], {}, {\"showLink\": false, \"linkText\": \"Export to plot.ly\", \"plotlyServerURL\": \"https://plot.ly\"}); \n",
       "}\n",
       "});</script><script type=\"text/javascript\">window.addEventListener(\"resize\", function(){if (document.getElementById(\"c3e39780-8e7b-40cf-ab08-2894f6ccac98\")) {window._Plotly.Plots.resize(document.getElementById(\"c3e39780-8e7b-40cf-ab08-2894f6ccac98\"));};})</script>"
      ],
      "text/vnd.plotly.v1+html": [
       "<div id=\"c3e39780-8e7b-40cf-ab08-2894f6ccac98\" style=\"height: 525px; width: 100%;\" class=\"plotly-graph-div\"></div><script type=\"text/javascript\">require([\"plotly\"], function(Plotly) { window.PLOTLYENV=window.PLOTLYENV || {};window.PLOTLYENV.BASE_URL=\"https://plot.ly\";\n",
       "if (document.getElementById(\"c3e39780-8e7b-40cf-ab08-2894f6ccac98\")) {\n",
       "    Plotly.newPlot(\"c3e39780-8e7b-40cf-ab08-2894f6ccac98\", [{\"marker\": {\"color\": [\"rgb(213,62,79)\", \"rgb(252,141,89)\", \"rgb(254,224,139)\", \"rgb(230,245,152)\", \"rgb(153,213,148)\", \"rgb(50,136,189)\"]}, \"x\": [0, 1], \"y\": [24, 13], \"type\": \"bar\", \"uid\": \"a60d9ede-bd5b-4270-aab8-beb673d8ffc6\"}], {}, {\"showLink\": false, \"linkText\": \"Export to plot.ly\", \"plotlyServerURL\": \"https://plot.ly\"}); \n",
       "}\n",
       "});</script><script type=\"text/javascript\">window.addEventListener(\"resize\", function(){if (document.getElementById(\"c3e39780-8e7b-40cf-ab08-2894f6ccac98\")) {window._Plotly.Plots.resize(document.getElementById(\"c3e39780-8e7b-40cf-ab08-2894f6ccac98\"));};})</script>"
      ]
     },
     "metadata": {},
     "output_type": "display_data"
    },
    {
     "name": "stdout",
     "output_type": "stream",
     "text": [
      "\n",
      "\n",
      "Cluster 1 || variable: Edad\n",
      "Describiendo la pregunta Edad\n"
     ]
    },
    {
     "data": {
      "text/plain": [
       "count    37.000000\n",
       "mean     29.837838\n",
       "std       8.053686\n",
       "min      21.000000\n",
       "25%      25.000000\n",
       "50%      27.000000\n",
       "75%      31.000000\n",
       "max      56.000000\n",
       "Name: Edad, dtype: float64"
      ]
     },
     "metadata": {},
     "output_type": "display_data"
    },
    {
     "name": "stdout",
     "output_type": "stream",
     "text": [
      "Conteo de cada valor en Edad expresada como valor / cantidad\n"
     ]
    },
    {
     "data": {
      "text/plain": [
       "21    1\n",
       "22    1\n",
       "23    2\n",
       "24    3\n",
       "25    4\n",
       "26    6\n",
       "27    2\n",
       "28    2\n",
       "29    1\n",
       "30    4\n",
       "31    2\n",
       "32    1\n",
       "33    3\n",
       "35    1\n",
       "42    1\n",
       "50    1\n",
       "52    1\n",
       "56    1\n",
       "Name: Edad, dtype: int64"
      ]
     },
     "metadata": {},
     "output_type": "display_data"
    },
    {
     "name": "stdout",
     "output_type": "stream",
     "text": [
      "Porcentaje de cada valor en Edad expresado como valor / porcentaje\n"
     ]
    },
    {
     "data": {
      "text/plain": [
       "21     2.70\n",
       "22     2.70\n",
       "23     5.41\n",
       "24     8.11\n",
       "25    10.81\n",
       "26    16.22\n",
       "27     5.41\n",
       "28     5.41\n",
       "29     2.70\n",
       "30    10.81\n",
       "31     5.41\n",
       "32     2.70\n",
       "33     8.11\n",
       "35     2.70\n",
       "42     2.70\n",
       "50     2.70\n",
       "52     2.70\n",
       "56     2.70\n",
       "Name: Edad, dtype: float64"
      ]
     },
     "metadata": {},
     "output_type": "display_data"
    },
    {
     "data": {
      "application/vnd.plotly.v1+json": {
       "config": {
        "linkText": "Export to plot.ly",
        "plotlyServerURL": "https://plot.ly",
        "showLink": false
       },
       "data": [
        {
         "marker": {
          "color": [
           "hsl(147.27999999999997, 42.84%, 62.760000000000005%)",
           "hsl(18.2, 90.52%, 62.24%)",
           "hsl(47.2, 98.4%, 79.0%)",
           "hsl(74.16000000000001, 77.56%, 76.76%)",
           "hsl(147.27999999999997, 42.84%, 62.760000000000005%)",
           "hsl(67.2, 85.60000000000001%, 79.0%)",
           "hsl(64.32000000000001, 91.35999999999999%, 82.19999999999999%)",
           "hsl(67.2, 85.60000000000001%, 79.0%)",
           "hsl(27.799999999999997, 96.28%, 67.36%)",
           "hsl(57.44, 99.68%, 85.4%)",
           "hsl(37.4, 97.56%, 73.04%)",
           "hsl(353.0, 64.0%, 53.0%)",
           "hsl(32.6, 97.24%, 70.16%)",
           "hsl(13.160000000000025, 87.03999999999999%, 59.72%)",
           "hsl(359.72, 71.68%, 55.24%)",
           "hsl(353.0, 64.0%, 53.0%)",
           "hsl(6.439999999999998, 79.36%, 57.480000000000004%)",
           "hsl(359.72, 71.68%, 55.24%)",
           "hsl(27.799999999999997, 96.28%, 67.36%)",
           "hsl(27.799999999999997, 96.28%, 67.36%)",
           "hsl(27.799999999999997, 96.28%, 67.36%)",
           "hsl(23.0, 93.4%, 64.8%)",
           "hsl(18.2, 90.52%, 62.24%)",
           "hsl(52.32, 99.04%, 82.2%)",
           "hsl(47.2, 98.4%, 79.0%)",
           "hsl(42.2, 97.88%, 75.92%)",
           "hsl(61.44, 97.12%, 85.4%)",
           "hsl(87.92000000000002, 65.71999999999998%, 76.12%)",
           "hsl(87.92000000000002, 65.71999999999998%, 76.12%)",
           "hsl(64.32000000000001, 91.35999999999999%, 82.19999999999999%)",
           "hsl(64.32000000000001, 91.35999999999999%, 82.19999999999999%)",
           "hsl(101.67999999999999, 53.88000000000001%, 75.48%)",
           "hsl(101.67999999999999, 53.88000000000001%, 75.48%)",
           "hsl(61.44, 97.12%, 85.4%)",
           "hsl(87.92000000000002, 65.71999999999998%, 76.12%)",
           "hsl(147.27999999999997, 42.84%, 62.760000000000005%)",
           "hsl(162.64000000000001, 42.64%, 57.519999999999996%)",
           "hsl(131.60000000000002, 43.8%, 68.19999999999999%)",
           "hsl(131.60000000000002, 43.8%, 68.19999999999999%)",
           "hsl(188.88, 52.879999999999995%, 49.84%)",
           "hsl(101.67999999999999, 53.88000000000001%, 75.48%)",
           "hsl(162.64000000000001, 42.64%, 57.519999999999996%)",
           "hsl(115.92, 44.76%, 73.64%)",
           "hsl(147.27999999999997, 42.84%, 62.760000000000005%)",
           "hsl(131.60000000000002, 43.8%, 68.19999999999999%)",
           "hsl(202.0, 58.0%, 46.0%)",
           "hsl(188.88, 52.879999999999995%, 49.84%)",
           "hsl(147.27999999999997, 42.84%, 62.760000000000005%)",
           "hsl(175.76000000000002, 47.760000000000005%, 53.67999999999999%)",
           "hsl(115.92, 44.76%, 73.64%)",
           "hsl(202.0, 58.0%, 46.0%)",
           "hsl(175.76000000000002, 47.760000000000005%, 53.67999999999999%)",
           "hsl(188.88, 52.879999999999995%, 49.84%)",
           "hsl(188.88, 52.879999999999995%, 49.84%)",
           "hsl(162.64000000000001, 42.64%, 57.519999999999996%)",
           "hsl(202.0, 58.0%, 46.0%)",
           "hsl(188.88, 52.879999999999995%, 49.84%)",
           "hsl(202.0, 58.0%, 46.0%)",
           "hsl(202.0, 58.0%, 46.0%)",
           "hsl(202.0, 58.0%, 46.0%)",
           "hsl(202.0, 58.0%, 46.0%)",
           "hsl(188.88, 52.879999999999995%, 49.84%)"
          ]
         },
         "type": "bar",
         "uid": "04d37e8b-82bb-42ba-8185-21c7db958f35",
         "x": [
          21,
          22,
          23,
          24,
          25,
          26,
          27,
          28,
          29,
          30,
          31,
          32,
          33,
          35,
          42,
          50,
          52,
          56
         ],
         "y": [
          1,
          1,
          2,
          3,
          4,
          6,
          2,
          2,
          1,
          4,
          2,
          1,
          3,
          1,
          1,
          1,
          1,
          1
         ]
        }
       ],
       "layout": {}
      },
      "text/html": [
       "<div id=\"dd22f195-1b3c-43e6-9d74-55f1d16a0a92\" style=\"height: 525px; width: 100%;\" class=\"plotly-graph-div\"></div><script type=\"text/javascript\">require([\"plotly\"], function(Plotly) { window.PLOTLYENV=window.PLOTLYENV || {};window.PLOTLYENV.BASE_URL=\"https://plot.ly\";\n",
       "if (document.getElementById(\"dd22f195-1b3c-43e6-9d74-55f1d16a0a92\")) {\n",
       "    Plotly.newPlot(\"dd22f195-1b3c-43e6-9d74-55f1d16a0a92\", [{\"marker\": {\"color\": [\"hsl(147.27999999999997, 42.84%, 62.760000000000005%)\", \"hsl(18.2, 90.52%, 62.24%)\", \"hsl(47.2, 98.4%, 79.0%)\", \"hsl(74.16000000000001, 77.56%, 76.76%)\", \"hsl(147.27999999999997, 42.84%, 62.760000000000005%)\", \"hsl(67.2, 85.60000000000001%, 79.0%)\", \"hsl(64.32000000000001, 91.35999999999999%, 82.19999999999999%)\", \"hsl(67.2, 85.60000000000001%, 79.0%)\", \"hsl(27.799999999999997, 96.28%, 67.36%)\", \"hsl(57.44, 99.68%, 85.4%)\", \"hsl(37.4, 97.56%, 73.04%)\", \"hsl(353.0, 64.0%, 53.0%)\", \"hsl(32.6, 97.24%, 70.16%)\", \"hsl(13.160000000000025, 87.03999999999999%, 59.72%)\", \"hsl(359.72, 71.68%, 55.24%)\", \"hsl(353.0, 64.0%, 53.0%)\", \"hsl(6.439999999999998, 79.36%, 57.480000000000004%)\", \"hsl(359.72, 71.68%, 55.24%)\", \"hsl(27.799999999999997, 96.28%, 67.36%)\", \"hsl(27.799999999999997, 96.28%, 67.36%)\", \"hsl(27.799999999999997, 96.28%, 67.36%)\", \"hsl(23.0, 93.4%, 64.8%)\", \"hsl(18.2, 90.52%, 62.24%)\", \"hsl(52.32, 99.04%, 82.2%)\", \"hsl(47.2, 98.4%, 79.0%)\", \"hsl(42.2, 97.88%, 75.92%)\", \"hsl(61.44, 97.12%, 85.4%)\", \"hsl(87.92000000000002, 65.71999999999998%, 76.12%)\", \"hsl(87.92000000000002, 65.71999999999998%, 76.12%)\", \"hsl(64.32000000000001, 91.35999999999999%, 82.19999999999999%)\", \"hsl(64.32000000000001, 91.35999999999999%, 82.19999999999999%)\", \"hsl(101.67999999999999, 53.88000000000001%, 75.48%)\", \"hsl(101.67999999999999, 53.88000000000001%, 75.48%)\", \"hsl(61.44, 97.12%, 85.4%)\", \"hsl(87.92000000000002, 65.71999999999998%, 76.12%)\", \"hsl(147.27999999999997, 42.84%, 62.760000000000005%)\", \"hsl(162.64000000000001, 42.64%, 57.519999999999996%)\", \"hsl(131.60000000000002, 43.8%, 68.19999999999999%)\", \"hsl(131.60000000000002, 43.8%, 68.19999999999999%)\", \"hsl(188.88, 52.879999999999995%, 49.84%)\", \"hsl(101.67999999999999, 53.88000000000001%, 75.48%)\", \"hsl(162.64000000000001, 42.64%, 57.519999999999996%)\", \"hsl(115.92, 44.76%, 73.64%)\", \"hsl(147.27999999999997, 42.84%, 62.760000000000005%)\", \"hsl(131.60000000000002, 43.8%, 68.19999999999999%)\", \"hsl(202.0, 58.0%, 46.0%)\", \"hsl(188.88, 52.879999999999995%, 49.84%)\", \"hsl(147.27999999999997, 42.84%, 62.760000000000005%)\", \"hsl(175.76000000000002, 47.760000000000005%, 53.67999999999999%)\", \"hsl(115.92, 44.76%, 73.64%)\", \"hsl(202.0, 58.0%, 46.0%)\", \"hsl(175.76000000000002, 47.760000000000005%, 53.67999999999999%)\", \"hsl(188.88, 52.879999999999995%, 49.84%)\", \"hsl(188.88, 52.879999999999995%, 49.84%)\", \"hsl(162.64000000000001, 42.64%, 57.519999999999996%)\", \"hsl(202.0, 58.0%, 46.0%)\", \"hsl(188.88, 52.879999999999995%, 49.84%)\", \"hsl(202.0, 58.0%, 46.0%)\", \"hsl(202.0, 58.0%, 46.0%)\", \"hsl(202.0, 58.0%, 46.0%)\", \"hsl(202.0, 58.0%, 46.0%)\", \"hsl(188.88, 52.879999999999995%, 49.84%)\"]}, \"x\": [21, 22, 23, 24, 25, 26, 27, 28, 29, 30, 31, 32, 33, 35, 42, 50, 52, 56], \"y\": [1, 1, 2, 3, 4, 6, 2, 2, 1, 4, 2, 1, 3, 1, 1, 1, 1, 1], \"type\": \"bar\", \"uid\": \"b18ff372-74aa-4b3f-b0b4-829af7b61088\"}], {}, {\"showLink\": false, \"linkText\": \"Export to plot.ly\", \"plotlyServerURL\": \"https://plot.ly\"}); \n",
       "}\n",
       "});</script><script type=\"text/javascript\">window.addEventListener(\"resize\", function(){if (document.getElementById(\"dd22f195-1b3c-43e6-9d74-55f1d16a0a92\")) {window._Plotly.Plots.resize(document.getElementById(\"dd22f195-1b3c-43e6-9d74-55f1d16a0a92\"));};})</script>"
      ],
      "text/vnd.plotly.v1+html": [
       "<div id=\"dd22f195-1b3c-43e6-9d74-55f1d16a0a92\" style=\"height: 525px; width: 100%;\" class=\"plotly-graph-div\"></div><script type=\"text/javascript\">require([\"plotly\"], function(Plotly) { window.PLOTLYENV=window.PLOTLYENV || {};window.PLOTLYENV.BASE_URL=\"https://plot.ly\";\n",
       "if (document.getElementById(\"dd22f195-1b3c-43e6-9d74-55f1d16a0a92\")) {\n",
       "    Plotly.newPlot(\"dd22f195-1b3c-43e6-9d74-55f1d16a0a92\", [{\"marker\": {\"color\": [\"hsl(147.27999999999997, 42.84%, 62.760000000000005%)\", \"hsl(18.2, 90.52%, 62.24%)\", \"hsl(47.2, 98.4%, 79.0%)\", \"hsl(74.16000000000001, 77.56%, 76.76%)\", \"hsl(147.27999999999997, 42.84%, 62.760000000000005%)\", \"hsl(67.2, 85.60000000000001%, 79.0%)\", \"hsl(64.32000000000001, 91.35999999999999%, 82.19999999999999%)\", \"hsl(67.2, 85.60000000000001%, 79.0%)\", \"hsl(27.799999999999997, 96.28%, 67.36%)\", \"hsl(57.44, 99.68%, 85.4%)\", \"hsl(37.4, 97.56%, 73.04%)\", \"hsl(353.0, 64.0%, 53.0%)\", \"hsl(32.6, 97.24%, 70.16%)\", \"hsl(13.160000000000025, 87.03999999999999%, 59.72%)\", \"hsl(359.72, 71.68%, 55.24%)\", \"hsl(353.0, 64.0%, 53.0%)\", \"hsl(6.439999999999998, 79.36%, 57.480000000000004%)\", \"hsl(359.72, 71.68%, 55.24%)\", \"hsl(27.799999999999997, 96.28%, 67.36%)\", \"hsl(27.799999999999997, 96.28%, 67.36%)\", \"hsl(27.799999999999997, 96.28%, 67.36%)\", \"hsl(23.0, 93.4%, 64.8%)\", \"hsl(18.2, 90.52%, 62.24%)\", \"hsl(52.32, 99.04%, 82.2%)\", \"hsl(47.2, 98.4%, 79.0%)\", \"hsl(42.2, 97.88%, 75.92%)\", \"hsl(61.44, 97.12%, 85.4%)\", \"hsl(87.92000000000002, 65.71999999999998%, 76.12%)\", \"hsl(87.92000000000002, 65.71999999999998%, 76.12%)\", \"hsl(64.32000000000001, 91.35999999999999%, 82.19999999999999%)\", \"hsl(64.32000000000001, 91.35999999999999%, 82.19999999999999%)\", \"hsl(101.67999999999999, 53.88000000000001%, 75.48%)\", \"hsl(101.67999999999999, 53.88000000000001%, 75.48%)\", \"hsl(61.44, 97.12%, 85.4%)\", \"hsl(87.92000000000002, 65.71999999999998%, 76.12%)\", \"hsl(147.27999999999997, 42.84%, 62.760000000000005%)\", \"hsl(162.64000000000001, 42.64%, 57.519999999999996%)\", \"hsl(131.60000000000002, 43.8%, 68.19999999999999%)\", \"hsl(131.60000000000002, 43.8%, 68.19999999999999%)\", \"hsl(188.88, 52.879999999999995%, 49.84%)\", \"hsl(101.67999999999999, 53.88000000000001%, 75.48%)\", \"hsl(162.64000000000001, 42.64%, 57.519999999999996%)\", \"hsl(115.92, 44.76%, 73.64%)\", \"hsl(147.27999999999997, 42.84%, 62.760000000000005%)\", \"hsl(131.60000000000002, 43.8%, 68.19999999999999%)\", \"hsl(202.0, 58.0%, 46.0%)\", \"hsl(188.88, 52.879999999999995%, 49.84%)\", \"hsl(147.27999999999997, 42.84%, 62.760000000000005%)\", \"hsl(175.76000000000002, 47.760000000000005%, 53.67999999999999%)\", \"hsl(115.92, 44.76%, 73.64%)\", \"hsl(202.0, 58.0%, 46.0%)\", \"hsl(175.76000000000002, 47.760000000000005%, 53.67999999999999%)\", \"hsl(188.88, 52.879999999999995%, 49.84%)\", \"hsl(188.88, 52.879999999999995%, 49.84%)\", \"hsl(162.64000000000001, 42.64%, 57.519999999999996%)\", \"hsl(202.0, 58.0%, 46.0%)\", \"hsl(188.88, 52.879999999999995%, 49.84%)\", \"hsl(202.0, 58.0%, 46.0%)\", \"hsl(202.0, 58.0%, 46.0%)\", \"hsl(202.0, 58.0%, 46.0%)\", \"hsl(202.0, 58.0%, 46.0%)\", \"hsl(188.88, 52.879999999999995%, 49.84%)\"]}, \"x\": [21, 22, 23, 24, 25, 26, 27, 28, 29, 30, 31, 32, 33, 35, 42, 50, 52, 56], \"y\": [1, 1, 2, 3, 4, 6, 2, 2, 1, 4, 2, 1, 3, 1, 1, 1, 1, 1], \"type\": \"bar\", \"uid\": \"b18ff372-74aa-4b3f-b0b4-829af7b61088\"}], {}, {\"showLink\": false, \"linkText\": \"Export to plot.ly\", \"plotlyServerURL\": \"https://plot.ly\"}); \n",
       "}\n",
       "});</script><script type=\"text/javascript\">window.addEventListener(\"resize\", function(){if (document.getElementById(\"dd22f195-1b3c-43e6-9d74-55f1d16a0a92\")) {window._Plotly.Plots.resize(document.getElementById(\"dd22f195-1b3c-43e6-9d74-55f1d16a0a92\"));};})</script>"
      ]
     },
     "metadata": {},
     "output_type": "display_data"
    },
    {
     "name": "stdout",
     "output_type": "stream",
     "text": [
      "\n",
      "\n",
      "Cluster 1 || variable: Nacionalidad\n",
      "Describiendo la pregunta Nacionalidad\n",
      "Valores numéricos asociados a las respuestas [0, 1, 2, 3, 4, 5, 6, 7, 8, 9, 10, 11, 12, 13, 14, 15, 16, 17, 18, 19, 20, 21, 22, 23, 24, 25, 26, 27, 28, 29, 30, 31, 32, 33]\n",
      "Respuestas posibles a la pregunta/variable ['España', 'Colombia', 'México', 'República Dominicana', 'Austria', 'Chile', 'Francia', 'Canadá', 'Nigeria', 'China', 'Australia', 'Rusia', 'Alemania', 'Brasil', 'Estados Unidos de América', 'India', 'Eslovaquia', 'Italia', 'Inglaterra', 'Cuba', 'Ukrania', 'Venezuela', 'Indonesia', 'Albania', 'Paquistan', 'Bahamas', 'Argentina', 'Islandia', 'Escocia', 'Sudán', 'Nueva Zelanda', 'Irlanda', 'Macedonia', 'Unknown']\n"
     ]
    },
    {
     "data": {
      "text/plain": [
       "count    37.000000\n",
       "mean     16.432432\n",
       "std       5.866764\n",
       "min      14.000000\n",
       "25%      14.000000\n",
       "50%      14.000000\n",
       "75%      15.000000\n",
       "max      33.000000\n",
       "Name: Nacionalidad, dtype: float64"
      ]
     },
     "metadata": {},
     "output_type": "display_data"
    },
    {
     "name": "stdout",
     "output_type": "stream",
     "text": [
      "Conteo de cada valor en Nacionalidad expresada como valor / cantidad\n"
     ]
    },
    {
     "data": {
      "text/plain": [
       "14    19\n",
       "15    14\n",
       "33     4\n",
       "Name: Nacionalidad, dtype: int64"
      ]
     },
     "metadata": {},
     "output_type": "display_data"
    },
    {
     "name": "stdout",
     "output_type": "stream",
     "text": [
      "Porcentaje de cada valor en Nacionalidad expresado como valor / porcentaje\n"
     ]
    },
    {
     "data": {
      "text/plain": [
       "14    51.35\n",
       "15    37.84\n",
       "33    10.81\n",
       "Name: Nacionalidad, dtype: float64"
      ]
     },
     "metadata": {},
     "output_type": "display_data"
    },
    {
     "data": {
      "application/vnd.plotly.v1+json": {
       "config": {
        "linkText": "Export to plot.ly",
        "plotlyServerURL": "https://plot.ly",
        "showLink": false
       },
       "data": [
        {
         "marker": {
          "color": [
           "hsl(353.0, 64.0%, 53.0%)",
           "hsl(358.09090909090907, 69.81818181818181%, 54.696969696969695%)",
           "hsl(3.181818181818187, 75.63636363636364%, 56.39393939393939%)",
           "hsl(8.272727272727252, 81.45454545454545%, 58.09090909090909%)",
           "hsl(13.363636363636374, 87.27272727272728%, 59.78787878787879%)",
           "hsl(17.181818181818183, 89.9090909090909%, 61.696969696969695%)",
           "hsl(20.81818181818182, 92.0909090909091%, 63.63636363636364%)",
           "hsl(24.454545454545453, 94.27272727272728%, 65.57575757575758%)",
           "hsl(28.090909090909093, 96.45454545454545%, 67.51515151515152%)",
           "hsl(31.727272727272727, 97.18181818181819%, 69.63636363636364%)",
           "hsl(35.36363636363637, 97.42424242424242%, 71.81818181818181%)",
           "hsl(39.0, 97.66666666666667%, 74.0%)",
           "hsl(42.63636363636364, 97.9090909090909%, 76.18181818181819%)",
           "hsl(46.42424242424242, 98.3030303030303%, 78.51515151515152%)",
           "hsl(50.303030303030305, 98.78787878787878%, 80.93939393939394%)",
           "hsl(54.18181818181818, 99.27272727272727%, 83.36363636363636%)",
           "hsl(58.06060606060606, 99.75757575757575%, 85.78787878787878%)",
           "hsl(61.09090909090909, 97.81818181818181%, 85.78787878787878%)",
           "hsl(63.272727272727266, 93.45454545454547%, 83.36363636363637%)",
           "hsl(65.45454545454545, 89.09090909090908%, 80.93939393939394%)",
           "hsl(67.63636363636364, 84.72727272727272%, 78.51515151515152%)",
           "hsl(72.9090909090909, 78.63636363636364%, 76.81818181818181%)",
           "hsl(83.33333333333331, 69.66666666666669%, 76.33333333333333%)",
           "hsl(93.75757575757578, 60.69696969696968%, 75.84848484848484%)",
           "hsl(104.18181818181819, 51.72727272727272%, 75.36363636363636%)",
           "hsl(114.96969696969697, 44.81818181818182%, 73.96969696969697%)",
           "hsl(126.84848484848483, 44.09090909090909%, 69.84848484848486%)",
           "hsl(138.72727272727275, 43.36363636363636%, 65.72727272727272%)",
           "hsl(150.60606060606062, 42.63636363636363%, 61.6060606060606%)",
           "hsl(162.24242424242425, 42.484848484848484%, 57.63636363636364%)",
           "hsl(172.1818181818182, 46.36363636363636%, 54.727272727272734%)",
           "hsl(182.12121212121212, 50.24242424242425%, 51.81818181818181%)",
           "hsl(192.06060606060606, 54.121212121212125%, 48.90909090909091%)",
           "hsl(202.0, 58.0%, 46.0%)"
          ]
         },
         "type": "bar",
         "uid": "529da421-97ad-47d5-94a4-f27351d60dff",
         "x": [
          14,
          15,
          33
         ],
         "y": [
          19,
          14,
          4
         ]
        }
       ],
       "layout": {
        "bargap": 0.2,
        "xaxis": {
         "ticktext": [
          "España",
          "Colombia",
          "México",
          "República Dominicana",
          "Austria",
          "Chile",
          "Francia",
          "Canadá",
          "Nigeria",
          "China",
          "Australia",
          "Rusia",
          "Alemania",
          "Brasil",
          "Estados Unidos de América",
          "India",
          "Eslovaquia",
          "Italia",
          "Inglaterra",
          "Cuba",
          "Ukrania",
          "Venezuela",
          "Indonesia",
          "Albania",
          "Paquistan",
          "Bahamas",
          "Argentina",
          "Islandia",
          "Escocia",
          "Sudán",
          "Nueva Zelanda",
          "Irlanda",
          "Macedonia",
          "Unknown"
         ],
         "tickvals": [
          0,
          1,
          2,
          3,
          4,
          5,
          6,
          7,
          8,
          9,
          10,
          11,
          12,
          13,
          14,
          15,
          16,
          17,
          18,
          19,
          20,
          21,
          22,
          23,
          24,
          25,
          26,
          27,
          28,
          29,
          30,
          31,
          32,
          33
         ]
        }
       }
      },
      "text/html": [
       "<div id=\"67418aea-f23a-4143-80cf-7804b10244a5\" style=\"height: 525px; width: 100%;\" class=\"plotly-graph-div\"></div><script type=\"text/javascript\">require([\"plotly\"], function(Plotly) { window.PLOTLYENV=window.PLOTLYENV || {};window.PLOTLYENV.BASE_URL=\"https://plot.ly\";\n",
       "if (document.getElementById(\"67418aea-f23a-4143-80cf-7804b10244a5\")) {\n",
       "    Plotly.newPlot(\"67418aea-f23a-4143-80cf-7804b10244a5\", [{\"marker\": {\"color\": [\"hsl(353.0, 64.0%, 53.0%)\", \"hsl(358.09090909090907, 69.81818181818181%, 54.696969696969695%)\", \"hsl(3.181818181818187, 75.63636363636364%, 56.39393939393939%)\", \"hsl(8.272727272727252, 81.45454545454545%, 58.09090909090909%)\", \"hsl(13.363636363636374, 87.27272727272728%, 59.78787878787879%)\", \"hsl(17.181818181818183, 89.9090909090909%, 61.696969696969695%)\", \"hsl(20.81818181818182, 92.0909090909091%, 63.63636363636364%)\", \"hsl(24.454545454545453, 94.27272727272728%, 65.57575757575758%)\", \"hsl(28.090909090909093, 96.45454545454545%, 67.51515151515152%)\", \"hsl(31.727272727272727, 97.18181818181819%, 69.63636363636364%)\", \"hsl(35.36363636363637, 97.42424242424242%, 71.81818181818181%)\", \"hsl(39.0, 97.66666666666667%, 74.0%)\", \"hsl(42.63636363636364, 97.9090909090909%, 76.18181818181819%)\", \"hsl(46.42424242424242, 98.3030303030303%, 78.51515151515152%)\", \"hsl(50.303030303030305, 98.78787878787878%, 80.93939393939394%)\", \"hsl(54.18181818181818, 99.27272727272727%, 83.36363636363636%)\", \"hsl(58.06060606060606, 99.75757575757575%, 85.78787878787878%)\", \"hsl(61.09090909090909, 97.81818181818181%, 85.78787878787878%)\", \"hsl(63.272727272727266, 93.45454545454547%, 83.36363636363637%)\", \"hsl(65.45454545454545, 89.09090909090908%, 80.93939393939394%)\", \"hsl(67.63636363636364, 84.72727272727272%, 78.51515151515152%)\", \"hsl(72.9090909090909, 78.63636363636364%, 76.81818181818181%)\", \"hsl(83.33333333333331, 69.66666666666669%, 76.33333333333333%)\", \"hsl(93.75757575757578, 60.69696969696968%, 75.84848484848484%)\", \"hsl(104.18181818181819, 51.72727272727272%, 75.36363636363636%)\", \"hsl(114.96969696969697, 44.81818181818182%, 73.96969696969697%)\", \"hsl(126.84848484848483, 44.09090909090909%, 69.84848484848486%)\", \"hsl(138.72727272727275, 43.36363636363636%, 65.72727272727272%)\", \"hsl(150.60606060606062, 42.63636363636363%, 61.6060606060606%)\", \"hsl(162.24242424242425, 42.484848484848484%, 57.63636363636364%)\", \"hsl(172.1818181818182, 46.36363636363636%, 54.727272727272734%)\", \"hsl(182.12121212121212, 50.24242424242425%, 51.81818181818181%)\", \"hsl(192.06060606060606, 54.121212121212125%, 48.90909090909091%)\", \"hsl(202.0, 58.0%, 46.0%)\"]}, \"x\": [14, 15, 33], \"y\": [19, 14, 4], \"type\": \"bar\", \"uid\": \"529da421-97ad-47d5-94a4-f27351d60dff\"}], {\"bargap\": 0.2, \"xaxis\": {\"ticktext\": [\"Espa\\u00f1a\", \"Colombia\", \"M\\u00e9xico\", \"Rep\\u00fablica Dominicana\", \"Austria\", \"Chile\", \"Francia\", \"Canad\\u00e1\", \"Nigeria\", \"China\", \"Australia\", \"Rusia\", \"Alemania\", \"Brasil\", \"Estados Unidos de Am\\u00e9rica\", \"India\", \"Eslovaquia\", \"Italia\", \"Inglaterra\", \"Cuba\", \"Ukrania\", \"Venezuela\", \"Indonesia\", \"Albania\", \"Paquistan\", \"Bahamas\", \"Argentina\", \"Islandia\", \"Escocia\", \"Sud\\u00e1n\", \"Nueva Zelanda\", \"Irlanda\", \"Macedonia\", \"Unknown\"], \"tickvals\": [0, 1, 2, 3, 4, 5, 6, 7, 8, 9, 10, 11, 12, 13, 14, 15, 16, 17, 18, 19, 20, 21, 22, 23, 24, 25, 26, 27, 28, 29, 30, 31, 32, 33]}}, {\"showLink\": false, \"linkText\": \"Export to plot.ly\", \"plotlyServerURL\": \"https://plot.ly\"}); \n",
       "}\n",
       "});</script><script type=\"text/javascript\">window.addEventListener(\"resize\", function(){if (document.getElementById(\"67418aea-f23a-4143-80cf-7804b10244a5\")) {window._Plotly.Plots.resize(document.getElementById(\"67418aea-f23a-4143-80cf-7804b10244a5\"));};})</script>"
      ],
      "text/vnd.plotly.v1+html": [
       "<div id=\"67418aea-f23a-4143-80cf-7804b10244a5\" style=\"height: 525px; width: 100%;\" class=\"plotly-graph-div\"></div><script type=\"text/javascript\">require([\"plotly\"], function(Plotly) { window.PLOTLYENV=window.PLOTLYENV || {};window.PLOTLYENV.BASE_URL=\"https://plot.ly\";\n",
       "if (document.getElementById(\"67418aea-f23a-4143-80cf-7804b10244a5\")) {\n",
       "    Plotly.newPlot(\"67418aea-f23a-4143-80cf-7804b10244a5\", [{\"marker\": {\"color\": [\"hsl(353.0, 64.0%, 53.0%)\", \"hsl(358.09090909090907, 69.81818181818181%, 54.696969696969695%)\", \"hsl(3.181818181818187, 75.63636363636364%, 56.39393939393939%)\", \"hsl(8.272727272727252, 81.45454545454545%, 58.09090909090909%)\", \"hsl(13.363636363636374, 87.27272727272728%, 59.78787878787879%)\", \"hsl(17.181818181818183, 89.9090909090909%, 61.696969696969695%)\", \"hsl(20.81818181818182, 92.0909090909091%, 63.63636363636364%)\", \"hsl(24.454545454545453, 94.27272727272728%, 65.57575757575758%)\", \"hsl(28.090909090909093, 96.45454545454545%, 67.51515151515152%)\", \"hsl(31.727272727272727, 97.18181818181819%, 69.63636363636364%)\", \"hsl(35.36363636363637, 97.42424242424242%, 71.81818181818181%)\", \"hsl(39.0, 97.66666666666667%, 74.0%)\", \"hsl(42.63636363636364, 97.9090909090909%, 76.18181818181819%)\", \"hsl(46.42424242424242, 98.3030303030303%, 78.51515151515152%)\", \"hsl(50.303030303030305, 98.78787878787878%, 80.93939393939394%)\", \"hsl(54.18181818181818, 99.27272727272727%, 83.36363636363636%)\", \"hsl(58.06060606060606, 99.75757575757575%, 85.78787878787878%)\", \"hsl(61.09090909090909, 97.81818181818181%, 85.78787878787878%)\", \"hsl(63.272727272727266, 93.45454545454547%, 83.36363636363637%)\", \"hsl(65.45454545454545, 89.09090909090908%, 80.93939393939394%)\", \"hsl(67.63636363636364, 84.72727272727272%, 78.51515151515152%)\", \"hsl(72.9090909090909, 78.63636363636364%, 76.81818181818181%)\", \"hsl(83.33333333333331, 69.66666666666669%, 76.33333333333333%)\", \"hsl(93.75757575757578, 60.69696969696968%, 75.84848484848484%)\", \"hsl(104.18181818181819, 51.72727272727272%, 75.36363636363636%)\", \"hsl(114.96969696969697, 44.81818181818182%, 73.96969696969697%)\", \"hsl(126.84848484848483, 44.09090909090909%, 69.84848484848486%)\", \"hsl(138.72727272727275, 43.36363636363636%, 65.72727272727272%)\", \"hsl(150.60606060606062, 42.63636363636363%, 61.6060606060606%)\", \"hsl(162.24242424242425, 42.484848484848484%, 57.63636363636364%)\", \"hsl(172.1818181818182, 46.36363636363636%, 54.727272727272734%)\", \"hsl(182.12121212121212, 50.24242424242425%, 51.81818181818181%)\", \"hsl(192.06060606060606, 54.121212121212125%, 48.90909090909091%)\", \"hsl(202.0, 58.0%, 46.0%)\"]}, \"x\": [14, 15, 33], \"y\": [19, 14, 4], \"type\": \"bar\", \"uid\": \"529da421-97ad-47d5-94a4-f27351d60dff\"}], {\"bargap\": 0.2, \"xaxis\": {\"ticktext\": [\"Espa\\u00f1a\", \"Colombia\", \"M\\u00e9xico\", \"Rep\\u00fablica Dominicana\", \"Austria\", \"Chile\", \"Francia\", \"Canad\\u00e1\", \"Nigeria\", \"China\", \"Australia\", \"Rusia\", \"Alemania\", \"Brasil\", \"Estados Unidos de Am\\u00e9rica\", \"India\", \"Eslovaquia\", \"Italia\", \"Inglaterra\", \"Cuba\", \"Ukrania\", \"Venezuela\", \"Indonesia\", \"Albania\", \"Paquistan\", \"Bahamas\", \"Argentina\", \"Islandia\", \"Escocia\", \"Sud\\u00e1n\", \"Nueva Zelanda\", \"Irlanda\", \"Macedonia\", \"Unknown\"], \"tickvals\": [0, 1, 2, 3, 4, 5, 6, 7, 8, 9, 10, 11, 12, 13, 14, 15, 16, 17, 18, 19, 20, 21, 22, 23, 24, 25, 26, 27, 28, 29, 30, 31, 32, 33]}}, {\"showLink\": false, \"linkText\": \"Export to plot.ly\", \"plotlyServerURL\": \"https://plot.ly\"}); \n",
       "}\n",
       "});</script><script type=\"text/javascript\">window.addEventListener(\"resize\", function(){if (document.getElementById(\"67418aea-f23a-4143-80cf-7804b10244a5\")) {window._Plotly.Plots.resize(document.getElementById(\"67418aea-f23a-4143-80cf-7804b10244a5\"));};})</script>"
      ]
     },
     "metadata": {},
     "output_type": "display_data"
    },
    {
     "name": "stdout",
     "output_type": "stream",
     "text": [
      "\n",
      "\n",
      "Cluster 1 || variable: Nivel de estudios\n",
      "Describiendo la pregunta Nivel de estudios\n",
      "Valores numéricos asociados a las respuestas [0, 1, 2, 3, 4, 5]\n",
      "Respuestas posibles a la pregunta/variable ['Educación Primaria', 'Sin terminar Educación Secundaria Obligatoria', 'Terminada Educación Secundaria Obligatoria', 'FP', 'Universitario sin graduar', 'Universitario graduado']\n"
     ]
    },
    {
     "data": {
      "text/plain": [
       "count    37.000000\n",
       "mean      3.972973\n",
       "std       1.384166\n",
       "min       0.000000\n",
       "25%       4.000000\n",
       "50%       5.000000\n",
       "75%       5.000000\n",
       "max       5.000000\n",
       "Name: Nivel de estudios, dtype: float64"
      ]
     },
     "metadata": {},
     "output_type": "display_data"
    },
    {
     "name": "stdout",
     "output_type": "stream",
     "text": [
      "Conteo de cada valor en Nivel de estudios expresada como valor / cantidad\n"
     ]
    },
    {
     "data": {
      "text/plain": [
       "0     1\n",
       "1     1\n",
       "2     6\n",
       "3     1\n",
       "4     9\n",
       "5    19\n",
       "Name: Nivel de estudios, dtype: int64"
      ]
     },
     "metadata": {},
     "output_type": "display_data"
    },
    {
     "name": "stdout",
     "output_type": "stream",
     "text": [
      "Porcentaje de cada valor en Nivel de estudios expresado como valor / porcentaje\n"
     ]
    },
    {
     "data": {
      "text/plain": [
       "0     2.70\n",
       "1     2.70\n",
       "2    16.22\n",
       "3     2.70\n",
       "4    24.32\n",
       "5    51.35\n",
       "Name: Nivel de estudios, dtype: float64"
      ]
     },
     "metadata": {},
     "output_type": "display_data"
    },
    {
     "data": {
      "application/vnd.plotly.v1+json": {
       "config": {
        "linkText": "Export to plot.ly",
        "plotlyServerURL": "https://plot.ly",
        "showLink": false
       },
       "data": [
        {
         "marker": {
          "color": [
           "rgb(213,62,79)",
           "rgb(252,141,89)",
           "rgb(254,224,139)",
           "rgb(230,245,152)",
           "rgb(153,213,148)",
           "rgb(50,136,189)"
          ]
         },
         "type": "bar",
         "uid": "3fdd1724-713d-44e4-a85a-4cf3bed29c9d",
         "x": [
          0,
          1,
          2,
          3,
          4,
          5
         ],
         "y": [
          1,
          1,
          6,
          1,
          9,
          19
         ]
        }
       ],
       "layout": {
        "bargap": 0.2,
        "xaxis": {
         "ticktext": [
          "Educación Primaria",
          "Sin terminar Educación Secundaria Obligatoria",
          "Terminada Educación Secundaria Obligatoria",
          "FP",
          "Universitario sin graduar",
          "Universitario graduado"
         ],
         "tickvals": [
          0,
          1,
          2,
          3,
          4,
          5
         ]
        }
       }
      },
      "text/html": [
       "<div id=\"92bf771d-b1c5-458c-90ec-f2935e529aa0\" style=\"height: 525px; width: 100%;\" class=\"plotly-graph-div\"></div><script type=\"text/javascript\">require([\"plotly\"], function(Plotly) { window.PLOTLYENV=window.PLOTLYENV || {};window.PLOTLYENV.BASE_URL=\"https://plot.ly\";\n",
       "if (document.getElementById(\"92bf771d-b1c5-458c-90ec-f2935e529aa0\")) {\n",
       "    Plotly.newPlot(\"92bf771d-b1c5-458c-90ec-f2935e529aa0\", [{\"marker\": {\"color\": [\"rgb(213,62,79)\", \"rgb(252,141,89)\", \"rgb(254,224,139)\", \"rgb(230,245,152)\", \"rgb(153,213,148)\", \"rgb(50,136,189)\"]}, \"x\": [0, 1, 2, 3, 4, 5], \"y\": [1, 1, 6, 1, 9, 19], \"type\": \"bar\", \"uid\": \"3fdd1724-713d-44e4-a85a-4cf3bed29c9d\"}], {\"bargap\": 0.2, \"xaxis\": {\"ticktext\": [\"Educaci\\u00f3n Primaria\", \"Sin terminar Educaci\\u00f3n Secundaria Obligatoria\", \"Terminada Educaci\\u00f3n Secundaria Obligatoria\", \"FP\", \"Universitario sin graduar\", \"Universitario graduado\"], \"tickvals\": [0, 1, 2, 3, 4, 5]}}, {\"showLink\": false, \"linkText\": \"Export to plot.ly\", \"plotlyServerURL\": \"https://plot.ly\"}); \n",
       "}\n",
       "});</script><script type=\"text/javascript\">window.addEventListener(\"resize\", function(){if (document.getElementById(\"92bf771d-b1c5-458c-90ec-f2935e529aa0\")) {window._Plotly.Plots.resize(document.getElementById(\"92bf771d-b1c5-458c-90ec-f2935e529aa0\"));};})</script>"
      ],
      "text/vnd.plotly.v1+html": [
       "<div id=\"92bf771d-b1c5-458c-90ec-f2935e529aa0\" style=\"height: 525px; width: 100%;\" class=\"plotly-graph-div\"></div><script type=\"text/javascript\">require([\"plotly\"], function(Plotly) { window.PLOTLYENV=window.PLOTLYENV || {};window.PLOTLYENV.BASE_URL=\"https://plot.ly\";\n",
       "if (document.getElementById(\"92bf771d-b1c5-458c-90ec-f2935e529aa0\")) {\n",
       "    Plotly.newPlot(\"92bf771d-b1c5-458c-90ec-f2935e529aa0\", [{\"marker\": {\"color\": [\"rgb(213,62,79)\", \"rgb(252,141,89)\", \"rgb(254,224,139)\", \"rgb(230,245,152)\", \"rgb(153,213,148)\", \"rgb(50,136,189)\"]}, \"x\": [0, 1, 2, 3, 4, 5], \"y\": [1, 1, 6, 1, 9, 19], \"type\": \"bar\", \"uid\": \"3fdd1724-713d-44e4-a85a-4cf3bed29c9d\"}], {\"bargap\": 0.2, \"xaxis\": {\"ticktext\": [\"Educaci\\u00f3n Primaria\", \"Sin terminar Educaci\\u00f3n Secundaria Obligatoria\", \"Terminada Educaci\\u00f3n Secundaria Obligatoria\", \"FP\", \"Universitario sin graduar\", \"Universitario graduado\"], \"tickvals\": [0, 1, 2, 3, 4, 5]}}, {\"showLink\": false, \"linkText\": \"Export to plot.ly\", \"plotlyServerURL\": \"https://plot.ly\"}); \n",
       "}\n",
       "});</script><script type=\"text/javascript\">window.addEventListener(\"resize\", function(){if (document.getElementById(\"92bf771d-b1c5-458c-90ec-f2935e529aa0\")) {window._Plotly.Plots.resize(document.getElementById(\"92bf771d-b1c5-458c-90ec-f2935e529aa0\"));};})</script>"
      ]
     },
     "metadata": {},
     "output_type": "display_data"
    }
   ],
   "source": [
    "visualize_personal_info_by_prosume_clusters_esp(dataframe_with_clusters_esp)"
   ]
  },
  {
   "cell_type": "code",
   "execution_count": 10,
   "metadata": {
    "scrolled": false
   },
   "outputs": [],
   "source": [
    "# visualize_personal_info_by_prosume_clusters_en(dataframe_with_clusters_en)"
   ]
  },
  {
   "cell_type": "code",
   "execution_count": 11,
   "metadata": {
    "scrolled": false
   },
   "outputs": [
    {
     "name": "stdout",
     "output_type": "stream",
     "text": [
      "Comparando la pregunta Género\n"
     ]
    },
    {
     "data": {
      "application/vnd.plotly.v1+json": {
       "config": {
        "linkText": "Export to plot.ly",
        "plotlyServerURL": "https://plot.ly",
        "showLink": false
       },
       "data": [
        {
         "hovertemplate": "Género=0<br>counts=%{r}<br>prosume_cluster=%{theta}<extra></extra>",
         "legendgroup": "Género=0",
         "marker": {
          "color": "rgb(213,62,79)"
         },
         "name": "Género=0",
         "r": [
          24,
          103,
          57,
          37,
          137
         ],
         "showlegend": true,
         "theta": [
          "cluster_1",
          "cluster_2",
          "cluster_3",
          "cluster_4",
          "cluster_5"
         ],
         "type": "barpolar",
         "uid": "07430c0b-edc4-49dd-b009-9c836da3afd9"
        },
        {
         "hovertemplate": "Género=1<br>counts=%{r}<br>prosume_cluster=%{theta}<extra></extra>",
         "legendgroup": "Género=1",
         "marker": {
          "color": "rgb(252,141,89)"
         },
         "name": "Género=1",
         "r": [
          13,
          92,
          43,
          59,
          196
         ],
         "showlegend": true,
         "theta": [
          "cluster_1",
          "cluster_2",
          "cluster_3",
          "cluster_4",
          "cluster_5"
         ],
         "type": "barpolar",
         "uid": "23f0ff52-050d-4bd8-9086-bd470650fc87"
        },
        {
         "hovertemplate": "Género=2<br>counts=%{r}<br>prosume_cluster=%{theta}<extra></extra>",
         "legendgroup": "Género=2",
         "marker": {
          "color": "rgb(254,224,139)"
         },
         "name": "Género=2",
         "r": [
          1,
          2,
          3
         ],
         "showlegend": true,
         "theta": [
          "cluster_2",
          "cluster_4",
          "cluster_5"
         ],
         "type": "barpolar",
         "uid": "ede663f6-41ba-4a7d-8962-0c9a8b0dfc3a"
        }
       ],
       "layout": {
        "barmode": "group",
        "barnorm": "",
        "height": 600,
        "legend": {
         "tracegroupgap": 0
        },
        "margin": {
         "t": 60
        },
        "polar": {
         "angularaxis": {
          "direction": "clockwise",
          "rotation": 90
         }
        },
        "template": {
         "data": {
          "bar": [
           {
            "marker": {
             "line": {
              "color": "#E5ECF6",
              "width": 0.5
             }
            },
            "type": "bar"
           }
          ],
          "barpolar": [
           {
            "marker": {
             "line": {
              "color": "#E5ECF6",
              "width": 0.5
             }
            },
            "type": "barpolar"
           }
          ],
          "carpet": [
           {
            "aaxis": {
             "endlinecolor": "#2a3f5f",
             "gridcolor": "white",
             "linecolor": "white",
             "minorgridcolor": "white",
             "startlinecolor": "#2a3f5f"
            },
            "baxis": {
             "endlinecolor": "#2a3f5f",
             "gridcolor": "white",
             "linecolor": "white",
             "minorgridcolor": "white",
             "startlinecolor": "#2a3f5f"
            },
            "type": "carpet"
           }
          ],
          "choropleth": [
           {
            "colorbar": {
             "outlinewidth": 0,
             "ticks": ""
            },
            "type": "choropleth"
           }
          ],
          "contour": [
           {
            "autocolorscale": true,
            "colorbar": {
             "outlinewidth": 0,
             "ticks": ""
            },
            "type": "contour"
           }
          ],
          "contourcarpet": [
           {
            "colorbar": {
             "outlinewidth": 0,
             "ticks": ""
            },
            "type": "contourcarpet"
           }
          ],
          "heatmap": [
           {
            "autocolorscale": true,
            "colorbar": {
             "outlinewidth": 0,
             "ticks": ""
            },
            "type": "heatmap"
           }
          ],
          "heatmapgl": [
           {
            "colorbar": {
             "outlinewidth": 0,
             "ticks": ""
            },
            "type": "heatmapgl"
           }
          ],
          "histogram": [
           {
            "marker": {
             "colorbar": {
              "outlinewidth": 0,
              "ticks": ""
             }
            },
            "type": "histogram"
           }
          ],
          "histogram2d": [
           {
            "autocolorscale": true,
            "colorbar": {
             "outlinewidth": 0,
             "ticks": ""
            },
            "type": "histogram2d"
           }
          ],
          "histogram2dcontour": [
           {
            "autocolorscale": true,
            "colorbar": {
             "outlinewidth": 0,
             "ticks": ""
            },
            "type": "histogram2dcontour"
           }
          ],
          "mesh3d": [
           {
            "colorbar": {
             "outlinewidth": 0,
             "ticks": ""
            },
            "type": "mesh3d"
           }
          ],
          "parcoords": [
           {
            "line": {
             "colorbar": {
              "outlinewidth": 0,
              "ticks": ""
             }
            },
            "type": "parcoords"
           }
          ],
          "scatter": [
           {
            "marker": {
             "colorbar": {
              "outlinewidth": 0,
              "ticks": ""
             }
            },
            "type": "scatter"
           }
          ],
          "scatter3d": [
           {
            "marker": {
             "colorbar": {
              "outlinewidth": 0,
              "ticks": ""
             }
            },
            "type": "scatter3d"
           }
          ],
          "scattercarpet": [
           {
            "marker": {
             "colorbar": {
              "outlinewidth": 0,
              "ticks": ""
             }
            },
            "type": "scattercarpet"
           }
          ],
          "scattergeo": [
           {
            "marker": {
             "colorbar": {
              "outlinewidth": 0,
              "ticks": ""
             }
            },
            "type": "scattergeo"
           }
          ],
          "scattergl": [
           {
            "marker": {
             "colorbar": {
              "outlinewidth": 0,
              "ticks": ""
             }
            },
            "type": "scattergl"
           }
          ],
          "scattermapbox": [
           {
            "marker": {
             "colorbar": {
              "outlinewidth": 0,
              "ticks": ""
             }
            },
            "type": "scattermapbox"
           }
          ],
          "scatterpolar": [
           {
            "marker": {
             "colorbar": {
              "outlinewidth": 0,
              "ticks": ""
             }
            },
            "type": "scatterpolar"
           }
          ],
          "scatterpolargl": [
           {
            "marker": {
             "colorbar": {
              "outlinewidth": 0,
              "ticks": ""
             }
            },
            "type": "scatterpolargl"
           }
          ],
          "scatterternary": [
           {
            "marker": {
             "colorbar": {
              "outlinewidth": 0,
              "ticks": ""
             }
            },
            "type": "scatterternary"
           }
          ],
          "surface": [
           {
            "colorbar": {
             "outlinewidth": 0,
             "ticks": ""
            },
            "type": "surface"
           }
          ],
          "table": [
           {
            "cells": {
             "fill": {
              "color": "#EBF0F8"
             },
             "line": {
              "color": "white"
             }
            },
            "header": {
             "fill": {
              "color": "#C8D4E3"
             },
             "line": {
              "color": "white"
             }
            },
            "type": "table"
           }
          ]
         },
         "layout": {
          "annotationdefaults": {
           "arrowcolor": "#506784",
           "arrowhead": 0,
           "arrowwidth": 1
          },
          "colorscale": {
           "diverging": [
            [
             0,
             "#8e0152"
            ],
            [
             0.1,
             "#c51b7d"
            ],
            [
             0.2,
             "#de77ae"
            ],
            [
             0.3,
             "#f1b6da"
            ],
            [
             0.4,
             "#fde0ef"
            ],
            [
             0.5,
             "#f7f7f7"
            ],
            [
             0.6,
             "#e6f5d0"
            ],
            [
             0.7,
             "#b8e186"
            ],
            [
             0.8,
             "#7fbc41"
            ],
            [
             0.9,
             "#4d9221"
            ],
            [
             1,
             "#276419"
            ]
           ],
           "sequential": [
            [
             0,
             "#0508b8"
            ],
            [
             0.0893854748603352,
             "#1910d8"
            ],
            [
             0.1787709497206704,
             "#3c19f0"
            ],
            [
             0.2681564245810056,
             "#6b1cfb"
            ],
            [
             0.3575418994413408,
             "#981cfd"
            ],
            [
             0.44692737430167595,
             "#bf1cfd"
            ],
            [
             0.5363128491620112,
             "#dd2bfd"
            ],
            [
             0.6256983240223464,
             "#f246fe"
            ],
            [
             0.7150837988826816,
             "#fc67fd"
            ],
            [
             0.8044692737430168,
             "#fe88fc"
            ],
            [
             0.8938547486033519,
             "#fea5fd"
            ],
            [
             0.9832402234636871,
             "#febefe"
            ],
            [
             1,
             "#fec3fe"
            ]
           ],
           "sequentialminus": [
            [
             0,
             "#0508b8"
            ],
            [
             0.0893854748603352,
             "#1910d8"
            ],
            [
             0.1787709497206704,
             "#3c19f0"
            ],
            [
             0.2681564245810056,
             "#6b1cfb"
            ],
            [
             0.3575418994413408,
             "#981cfd"
            ],
            [
             0.44692737430167595,
             "#bf1cfd"
            ],
            [
             0.5363128491620112,
             "#dd2bfd"
            ],
            [
             0.6256983240223464,
             "#f246fe"
            ],
            [
             0.7150837988826816,
             "#fc67fd"
            ],
            [
             0.8044692737430168,
             "#fe88fc"
            ],
            [
             0.8938547486033519,
             "#fea5fd"
            ],
            [
             0.9832402234636871,
             "#febefe"
            ],
            [
             1,
             "#fec3fe"
            ]
           ]
          },
          "colorway": [
           "#636efa",
           "#EF553B",
           "#00cc96",
           "#ab63fa",
           "#19d3f3",
           "#e763fa",
           "#FECB52",
           "#FFA15A",
           "#FF6692",
           "#B6E880"
          ],
          "font": {
           "color": "#2a3f5f"
          },
          "geo": {
           "bgcolor": "white",
           "lakecolor": "white",
           "landcolor": "#E5ECF6",
           "showlakes": true,
           "showland": true,
           "subunitcolor": "white"
          },
          "hovermode": "closest",
          "mapbox": {
           "style": "light"
          },
          "paper_bgcolor": "white",
          "plot_bgcolor": "#E5ECF6",
          "polar": {
           "angularaxis": {
            "gridcolor": "white",
            "linecolor": "white",
            "ticks": ""
           },
           "bgcolor": "#E5ECF6",
           "radialaxis": {
            "gridcolor": "white",
            "linecolor": "white",
            "ticks": ""
           }
          },
          "scene": {
           "xaxis": {
            "backgroundcolor": "#E5ECF6",
            "gridcolor": "white",
            "gridwidth": 2,
            "linecolor": "white",
            "showbackground": true,
            "ticks": "",
            "zerolinecolor": "white"
           },
           "yaxis": {
            "backgroundcolor": "#E5ECF6",
            "gridcolor": "white",
            "gridwidth": 2,
            "linecolor": "white",
            "showbackground": true,
            "ticks": "",
            "zerolinecolor": "white"
           },
           "zaxis": {
            "backgroundcolor": "#E5ECF6",
            "gridcolor": "white",
            "gridwidth": 2,
            "linecolor": "white",
            "showbackground": true,
            "ticks": "",
            "zerolinecolor": "white"
           }
          },
          "shapedefaults": {
           "fillcolor": "#506784",
           "line": {
            "width": 0
           },
           "opacity": 0.4
          },
          "ternary": {
           "aaxis": {
            "gridcolor": "white",
            "linecolor": "white",
            "ticks": ""
           },
           "baxis": {
            "gridcolor": "white",
            "linecolor": "white",
            "ticks": ""
           },
           "bgcolor": "#E5ECF6",
           "caxis": {
            "gridcolor": "white",
            "linecolor": "white",
            "ticks": ""
           }
          },
          "title": {
           "x": 0.05
          },
          "xaxis": {
           "automargin": true,
           "gridcolor": "white",
           "linecolor": "white",
           "ticks": "",
           "zerolinecolor": "white",
           "zerolinewidth": 2
          },
          "yaxis": {
           "automargin": true,
           "gridcolor": "white",
           "linecolor": "white",
           "ticks": "",
           "zerolinecolor": "white",
           "zerolinewidth": 2
          }
         }
        }
       }
      },
      "text/html": [
       "<div id=\"552534fb-4003-4a3f-9971-b2c8d18b2838\" style=\"height: 600px; width: 100%;\" class=\"plotly-graph-div\"></div><script type=\"text/javascript\">require([\"plotly\"], function(Plotly) { window.PLOTLYENV=window.PLOTLYENV || {};window.PLOTLYENV.BASE_URL=\"https://plot.ly\";\n",
       "if (document.getElementById(\"552534fb-4003-4a3f-9971-b2c8d18b2838\")) {\n",
       "    Plotly.newPlot(\"552534fb-4003-4a3f-9971-b2c8d18b2838\", [{\"hovertemplate\": \"G\\u00e9nero=0<br>counts=%{r}<br>prosume_cluster=%{theta}<extra></extra>\", \"legendgroup\": \"G\\u00e9nero=0\", \"marker\": {\"color\": \"rgb(213,62,79)\"}, \"name\": \"G\\u00e9nero=0\", \"r\": [24, 103, 57, 37, 137], \"showlegend\": true, \"theta\": [\"cluster_1\", \"cluster_2\", \"cluster_3\", \"cluster_4\", \"cluster_5\"], \"type\": \"barpolar\", \"uid\": \"07430c0b-edc4-49dd-b009-9c836da3afd9\"}, {\"hovertemplate\": \"G\\u00e9nero=1<br>counts=%{r}<br>prosume_cluster=%{theta}<extra></extra>\", \"legendgroup\": \"G\\u00e9nero=1\", \"marker\": {\"color\": \"rgb(252,141,89)\"}, \"name\": \"G\\u00e9nero=1\", \"r\": [13, 92, 43, 59, 196], \"showlegend\": true, \"theta\": [\"cluster_1\", \"cluster_2\", \"cluster_3\", \"cluster_4\", \"cluster_5\"], \"type\": \"barpolar\", \"uid\": \"23f0ff52-050d-4bd8-9086-bd470650fc87\"}, {\"hovertemplate\": \"G\\u00e9nero=2<br>counts=%{r}<br>prosume_cluster=%{theta}<extra></extra>\", \"legendgroup\": \"G\\u00e9nero=2\", \"marker\": {\"color\": \"rgb(254,224,139)\"}, \"name\": \"G\\u00e9nero=2\", \"r\": [1, 2, 3], \"showlegend\": true, \"theta\": [\"cluster_2\", \"cluster_4\", \"cluster_5\"], \"type\": \"barpolar\", \"uid\": \"ede663f6-41ba-4a7d-8962-0c9a8b0dfc3a\"}], {\"barmode\": \"group\", \"barnorm\": \"\", \"height\": 600, \"legend\": {\"tracegroupgap\": 0}, \"margin\": {\"t\": 60}, \"template\": {\"data\": {\"barpolar\": [{\"marker\": {\"line\": {\"color\": \"#E5ECF6\", \"width\": 0.5}}, \"type\": \"barpolar\"}], \"bar\": [{\"marker\": {\"line\": {\"color\": \"#E5ECF6\", \"width\": 0.5}}, \"type\": \"bar\"}], \"carpet\": [{\"aaxis\": {\"endlinecolor\": \"#2a3f5f\", \"gridcolor\": \"white\", \"linecolor\": \"white\", \"minorgridcolor\": \"white\", \"startlinecolor\": \"#2a3f5f\"}, \"baxis\": {\"endlinecolor\": \"#2a3f5f\", \"gridcolor\": \"white\", \"linecolor\": \"white\", \"minorgridcolor\": \"white\", \"startlinecolor\": \"#2a3f5f\"}, \"type\": \"carpet\"}], \"choropleth\": [{\"colorbar\": {\"outlinewidth\": 0, \"ticks\": \"\"}, \"type\": \"choropleth\"}], \"contourcarpet\": [{\"colorbar\": {\"outlinewidth\": 0, \"ticks\": \"\"}, \"type\": \"contourcarpet\"}], \"contour\": [{\"autocolorscale\": true, \"colorbar\": {\"outlinewidth\": 0, \"ticks\": \"\"}, \"type\": \"contour\"}], \"heatmapgl\": [{\"colorbar\": {\"outlinewidth\": 0, \"ticks\": \"\"}, \"type\": \"heatmapgl\"}], \"heatmap\": [{\"autocolorscale\": true, \"colorbar\": {\"outlinewidth\": 0, \"ticks\": \"\"}, \"type\": \"heatmap\"}], \"histogram2dcontour\": [{\"autocolorscale\": true, \"colorbar\": {\"outlinewidth\": 0, \"ticks\": \"\"}, \"type\": \"histogram2dcontour\"}], \"histogram2d\": [{\"autocolorscale\": true, \"colorbar\": {\"outlinewidth\": 0, \"ticks\": \"\"}, \"type\": \"histogram2d\"}], \"histogram\": [{\"marker\": {\"colorbar\": {\"outlinewidth\": 0, \"ticks\": \"\"}}, \"type\": \"histogram\"}], \"mesh3d\": [{\"colorbar\": {\"outlinewidth\": 0, \"ticks\": \"\"}, \"type\": \"mesh3d\"}], \"parcoords\": [{\"line\": {\"colorbar\": {\"outlinewidth\": 0, \"ticks\": \"\"}}, \"type\": \"parcoords\"}], \"scatter3d\": [{\"marker\": {\"colorbar\": {\"outlinewidth\": 0, \"ticks\": \"\"}}, \"type\": \"scatter3d\"}], \"scattercarpet\": [{\"marker\": {\"colorbar\": {\"outlinewidth\": 0, \"ticks\": \"\"}}, \"type\": \"scattercarpet\"}], \"scattergeo\": [{\"marker\": {\"colorbar\": {\"outlinewidth\": 0, \"ticks\": \"\"}}, \"type\": \"scattergeo\"}], \"scattergl\": [{\"marker\": {\"colorbar\": {\"outlinewidth\": 0, \"ticks\": \"\"}}, \"type\": \"scattergl\"}], \"scattermapbox\": [{\"marker\": {\"colorbar\": {\"outlinewidth\": 0, \"ticks\": \"\"}}, \"type\": \"scattermapbox\"}], \"scatterpolargl\": [{\"marker\": {\"colorbar\": {\"outlinewidth\": 0, \"ticks\": \"\"}}, \"type\": \"scatterpolargl\"}], \"scatterpolar\": [{\"marker\": {\"colorbar\": {\"outlinewidth\": 0, \"ticks\": \"\"}}, \"type\": \"scatterpolar\"}], \"scatter\": [{\"marker\": {\"colorbar\": {\"outlinewidth\": 0, \"ticks\": \"\"}}, \"type\": \"scatter\"}], \"scatterternary\": [{\"marker\": {\"colorbar\": {\"outlinewidth\": 0, \"ticks\": \"\"}}, \"type\": \"scatterternary\"}], \"surface\": [{\"colorbar\": {\"outlinewidth\": 0, \"ticks\": \"\"}, \"type\": \"surface\"}], \"table\": [{\"cells\": {\"fill\": {\"color\": \"#EBF0F8\"}, \"line\": {\"color\": \"white\"}}, \"header\": {\"fill\": {\"color\": \"#C8D4E3\"}, \"line\": {\"color\": \"white\"}}, \"type\": \"table\"}]}, \"layout\": {\"annotationdefaults\": {\"arrowcolor\": \"#506784\", \"arrowhead\": 0, \"arrowwidth\": 1}, \"colorscale\": {\"diverging\": [[0, \"#8e0152\"], [0.1, \"#c51b7d\"], [0.2, \"#de77ae\"], [0.3, \"#f1b6da\"], [0.4, \"#fde0ef\"], [0.5, \"#f7f7f7\"], [0.6, \"#e6f5d0\"], [0.7, \"#b8e186\"], [0.8, \"#7fbc41\"], [0.9, \"#4d9221\"], [1, \"#276419\"]], \"sequential\": [[0.0, \"#0508b8\"], [0.0893854748603352, \"#1910d8\"], [0.1787709497206704, \"#3c19f0\"], [0.2681564245810056, \"#6b1cfb\"], [0.3575418994413408, \"#981cfd\"], [0.44692737430167595, \"#bf1cfd\"], [0.5363128491620112, \"#dd2bfd\"], [0.6256983240223464, \"#f246fe\"], [0.7150837988826816, \"#fc67fd\"], [0.8044692737430168, \"#fe88fc\"], [0.8938547486033519, \"#fea5fd\"], [0.9832402234636871, \"#febefe\"], [1.0, \"#fec3fe\"]], \"sequentialminus\": [[0.0, \"#0508b8\"], [0.0893854748603352, \"#1910d8\"], [0.1787709497206704, \"#3c19f0\"], [0.2681564245810056, \"#6b1cfb\"], [0.3575418994413408, \"#981cfd\"], [0.44692737430167595, \"#bf1cfd\"], [0.5363128491620112, \"#dd2bfd\"], [0.6256983240223464, \"#f246fe\"], [0.7150837988826816, \"#fc67fd\"], [0.8044692737430168, \"#fe88fc\"], [0.8938547486033519, \"#fea5fd\"], [0.9832402234636871, \"#febefe\"], [1.0, \"#fec3fe\"]]}, \"colorway\": [\"#636efa\", \"#EF553B\", \"#00cc96\", \"#ab63fa\", \"#19d3f3\", \"#e763fa\", \"#FECB52\", \"#FFA15A\", \"#FF6692\", \"#B6E880\"], \"font\": {\"color\": \"#2a3f5f\"}, \"geo\": {\"bgcolor\": \"white\", \"lakecolor\": \"white\", \"landcolor\": \"#E5ECF6\", \"showlakes\": true, \"showland\": true, \"subunitcolor\": \"white\"}, \"hovermode\": \"closest\", \"mapbox\": {\"style\": \"light\"}, \"paper_bgcolor\": \"white\", \"plot_bgcolor\": \"#E5ECF6\", \"polar\": {\"angularaxis\": {\"gridcolor\": \"white\", \"linecolor\": \"white\", \"ticks\": \"\"}, \"bgcolor\": \"#E5ECF6\", \"radialaxis\": {\"gridcolor\": \"white\", \"linecolor\": \"white\", \"ticks\": \"\"}}, \"scene\": {\"xaxis\": {\"backgroundcolor\": \"#E5ECF6\", \"gridcolor\": \"white\", \"gridwidth\": 2, \"linecolor\": \"white\", \"showbackground\": true, \"ticks\": \"\", \"zerolinecolor\": \"white\"}, \"yaxis\": {\"backgroundcolor\": \"#E5ECF6\", \"gridcolor\": \"white\", \"gridwidth\": 2, \"linecolor\": \"white\", \"showbackground\": true, \"ticks\": \"\", \"zerolinecolor\": \"white\"}, \"zaxis\": {\"backgroundcolor\": \"#E5ECF6\", \"gridcolor\": \"white\", \"gridwidth\": 2, \"linecolor\": \"white\", \"showbackground\": true, \"ticks\": \"\", \"zerolinecolor\": \"white\"}}, \"shapedefaults\": {\"fillcolor\": \"#506784\", \"line\": {\"width\": 0}, \"opacity\": 0.4}, \"ternary\": {\"aaxis\": {\"gridcolor\": \"white\", \"linecolor\": \"white\", \"ticks\": \"\"}, \"baxis\": {\"gridcolor\": \"white\", \"linecolor\": \"white\", \"ticks\": \"\"}, \"bgcolor\": \"#E5ECF6\", \"caxis\": {\"gridcolor\": \"white\", \"linecolor\": \"white\", \"ticks\": \"\"}}, \"title\": {\"x\": 0.05}, \"xaxis\": {\"automargin\": true, \"gridcolor\": \"white\", \"linecolor\": \"white\", \"ticks\": \"\", \"zerolinecolor\": \"white\", \"zerolinewidth\": 2}, \"yaxis\": {\"automargin\": true, \"gridcolor\": \"white\", \"linecolor\": \"white\", \"ticks\": \"\", \"zerolinecolor\": \"white\", \"zerolinewidth\": 2}}}, \"polar\": {\"angularaxis\": {\"direction\": \"clockwise\", \"rotation\": 90}}}, {\"showLink\": false, \"linkText\": \"Export to plot.ly\", \"plotlyServerURL\": \"https://plot.ly\"}); \n",
       "}\n",
       "});</script><script type=\"text/javascript\">window.addEventListener(\"resize\", function(){if (document.getElementById(\"552534fb-4003-4a3f-9971-b2c8d18b2838\")) {window._Plotly.Plots.resize(document.getElementById(\"552534fb-4003-4a3f-9971-b2c8d18b2838\"));};})</script>"
      ],
      "text/vnd.plotly.v1+html": [
       "<div id=\"552534fb-4003-4a3f-9971-b2c8d18b2838\" style=\"height: 600px; width: 100%;\" class=\"plotly-graph-div\"></div><script type=\"text/javascript\">require([\"plotly\"], function(Plotly) { window.PLOTLYENV=window.PLOTLYENV || {};window.PLOTLYENV.BASE_URL=\"https://plot.ly\";\n",
       "if (document.getElementById(\"552534fb-4003-4a3f-9971-b2c8d18b2838\")) {\n",
       "    Plotly.newPlot(\"552534fb-4003-4a3f-9971-b2c8d18b2838\", [{\"hovertemplate\": \"G\\u00e9nero=0<br>counts=%{r}<br>prosume_cluster=%{theta}<extra></extra>\", \"legendgroup\": \"G\\u00e9nero=0\", \"marker\": {\"color\": \"rgb(213,62,79)\"}, \"name\": \"G\\u00e9nero=0\", \"r\": [24, 103, 57, 37, 137], \"showlegend\": true, \"theta\": [\"cluster_1\", \"cluster_2\", \"cluster_3\", \"cluster_4\", \"cluster_5\"], \"type\": \"barpolar\", \"uid\": \"07430c0b-edc4-49dd-b009-9c836da3afd9\"}, {\"hovertemplate\": \"G\\u00e9nero=1<br>counts=%{r}<br>prosume_cluster=%{theta}<extra></extra>\", \"legendgroup\": \"G\\u00e9nero=1\", \"marker\": {\"color\": \"rgb(252,141,89)\"}, \"name\": \"G\\u00e9nero=1\", \"r\": [13, 92, 43, 59, 196], \"showlegend\": true, \"theta\": [\"cluster_1\", \"cluster_2\", \"cluster_3\", \"cluster_4\", \"cluster_5\"], \"type\": \"barpolar\", \"uid\": \"23f0ff52-050d-4bd8-9086-bd470650fc87\"}, {\"hovertemplate\": \"G\\u00e9nero=2<br>counts=%{r}<br>prosume_cluster=%{theta}<extra></extra>\", \"legendgroup\": \"G\\u00e9nero=2\", \"marker\": {\"color\": \"rgb(254,224,139)\"}, \"name\": \"G\\u00e9nero=2\", \"r\": [1, 2, 3], \"showlegend\": true, \"theta\": [\"cluster_2\", \"cluster_4\", \"cluster_5\"], \"type\": \"barpolar\", \"uid\": \"ede663f6-41ba-4a7d-8962-0c9a8b0dfc3a\"}], {\"barmode\": \"group\", \"barnorm\": \"\", \"height\": 600, \"legend\": {\"tracegroupgap\": 0}, \"margin\": {\"t\": 60}, \"template\": {\"data\": {\"barpolar\": [{\"marker\": {\"line\": {\"color\": \"#E5ECF6\", \"width\": 0.5}}, \"type\": \"barpolar\"}], \"bar\": [{\"marker\": {\"line\": {\"color\": \"#E5ECF6\", \"width\": 0.5}}, \"type\": \"bar\"}], \"carpet\": [{\"aaxis\": {\"endlinecolor\": \"#2a3f5f\", \"gridcolor\": \"white\", \"linecolor\": \"white\", \"minorgridcolor\": \"white\", \"startlinecolor\": \"#2a3f5f\"}, \"baxis\": {\"endlinecolor\": \"#2a3f5f\", \"gridcolor\": \"white\", \"linecolor\": \"white\", \"minorgridcolor\": \"white\", \"startlinecolor\": \"#2a3f5f\"}, \"type\": \"carpet\"}], \"choropleth\": [{\"colorbar\": {\"outlinewidth\": 0, \"ticks\": \"\"}, \"type\": \"choropleth\"}], \"contourcarpet\": [{\"colorbar\": {\"outlinewidth\": 0, \"ticks\": \"\"}, \"type\": \"contourcarpet\"}], \"contour\": [{\"autocolorscale\": true, \"colorbar\": {\"outlinewidth\": 0, \"ticks\": \"\"}, \"type\": \"contour\"}], \"heatmapgl\": [{\"colorbar\": {\"outlinewidth\": 0, \"ticks\": \"\"}, \"type\": \"heatmapgl\"}], \"heatmap\": [{\"autocolorscale\": true, \"colorbar\": {\"outlinewidth\": 0, \"ticks\": \"\"}, \"type\": \"heatmap\"}], \"histogram2dcontour\": [{\"autocolorscale\": true, \"colorbar\": {\"outlinewidth\": 0, \"ticks\": \"\"}, \"type\": \"histogram2dcontour\"}], \"histogram2d\": [{\"autocolorscale\": true, \"colorbar\": {\"outlinewidth\": 0, \"ticks\": \"\"}, \"type\": \"histogram2d\"}], \"histogram\": [{\"marker\": {\"colorbar\": {\"outlinewidth\": 0, \"ticks\": \"\"}}, \"type\": \"histogram\"}], \"mesh3d\": [{\"colorbar\": {\"outlinewidth\": 0, \"ticks\": \"\"}, \"type\": \"mesh3d\"}], \"parcoords\": [{\"line\": {\"colorbar\": {\"outlinewidth\": 0, \"ticks\": \"\"}}, \"type\": \"parcoords\"}], \"scatter3d\": [{\"marker\": {\"colorbar\": {\"outlinewidth\": 0, \"ticks\": \"\"}}, \"type\": \"scatter3d\"}], \"scattercarpet\": [{\"marker\": {\"colorbar\": {\"outlinewidth\": 0, \"ticks\": \"\"}}, \"type\": \"scattercarpet\"}], \"scattergeo\": [{\"marker\": {\"colorbar\": {\"outlinewidth\": 0, \"ticks\": \"\"}}, \"type\": \"scattergeo\"}], \"scattergl\": [{\"marker\": {\"colorbar\": {\"outlinewidth\": 0, \"ticks\": \"\"}}, \"type\": \"scattergl\"}], \"scattermapbox\": [{\"marker\": {\"colorbar\": {\"outlinewidth\": 0, \"ticks\": \"\"}}, \"type\": \"scattermapbox\"}], \"scatterpolargl\": [{\"marker\": {\"colorbar\": {\"outlinewidth\": 0, \"ticks\": \"\"}}, \"type\": \"scatterpolargl\"}], \"scatterpolar\": [{\"marker\": {\"colorbar\": {\"outlinewidth\": 0, \"ticks\": \"\"}}, \"type\": \"scatterpolar\"}], \"scatter\": [{\"marker\": {\"colorbar\": {\"outlinewidth\": 0, \"ticks\": \"\"}}, \"type\": \"scatter\"}], \"scatterternary\": [{\"marker\": {\"colorbar\": {\"outlinewidth\": 0, \"ticks\": \"\"}}, \"type\": \"scatterternary\"}], \"surface\": [{\"colorbar\": {\"outlinewidth\": 0, \"ticks\": \"\"}, \"type\": \"surface\"}], \"table\": [{\"cells\": {\"fill\": {\"color\": \"#EBF0F8\"}, \"line\": {\"color\": \"white\"}}, \"header\": {\"fill\": {\"color\": \"#C8D4E3\"}, \"line\": {\"color\": \"white\"}}, \"type\": \"table\"}]}, \"layout\": {\"annotationdefaults\": {\"arrowcolor\": \"#506784\", \"arrowhead\": 0, \"arrowwidth\": 1}, \"colorscale\": {\"diverging\": [[0, \"#8e0152\"], [0.1, \"#c51b7d\"], [0.2, \"#de77ae\"], [0.3, \"#f1b6da\"], [0.4, \"#fde0ef\"], [0.5, \"#f7f7f7\"], [0.6, \"#e6f5d0\"], [0.7, \"#b8e186\"], [0.8, \"#7fbc41\"], [0.9, \"#4d9221\"], [1, \"#276419\"]], \"sequential\": [[0.0, \"#0508b8\"], [0.0893854748603352, \"#1910d8\"], [0.1787709497206704, \"#3c19f0\"], [0.2681564245810056, \"#6b1cfb\"], [0.3575418994413408, \"#981cfd\"], [0.44692737430167595, \"#bf1cfd\"], [0.5363128491620112, \"#dd2bfd\"], [0.6256983240223464, \"#f246fe\"], [0.7150837988826816, \"#fc67fd\"], [0.8044692737430168, \"#fe88fc\"], [0.8938547486033519, \"#fea5fd\"], [0.9832402234636871, \"#febefe\"], [1.0, \"#fec3fe\"]], \"sequentialminus\": [[0.0, \"#0508b8\"], [0.0893854748603352, \"#1910d8\"], [0.1787709497206704, \"#3c19f0\"], [0.2681564245810056, \"#6b1cfb\"], [0.3575418994413408, \"#981cfd\"], [0.44692737430167595, \"#bf1cfd\"], [0.5363128491620112, \"#dd2bfd\"], [0.6256983240223464, \"#f246fe\"], [0.7150837988826816, \"#fc67fd\"], [0.8044692737430168, \"#fe88fc\"], [0.8938547486033519, \"#fea5fd\"], [0.9832402234636871, \"#febefe\"], [1.0, \"#fec3fe\"]]}, \"colorway\": [\"#636efa\", \"#EF553B\", \"#00cc96\", \"#ab63fa\", \"#19d3f3\", \"#e763fa\", \"#FECB52\", \"#FFA15A\", \"#FF6692\", \"#B6E880\"], \"font\": {\"color\": \"#2a3f5f\"}, \"geo\": {\"bgcolor\": \"white\", \"lakecolor\": \"white\", \"landcolor\": \"#E5ECF6\", \"showlakes\": true, \"showland\": true, \"subunitcolor\": \"white\"}, \"hovermode\": \"closest\", \"mapbox\": {\"style\": \"light\"}, \"paper_bgcolor\": \"white\", \"plot_bgcolor\": \"#E5ECF6\", \"polar\": {\"angularaxis\": {\"gridcolor\": \"white\", \"linecolor\": \"white\", \"ticks\": \"\"}, \"bgcolor\": \"#E5ECF6\", \"radialaxis\": {\"gridcolor\": \"white\", \"linecolor\": \"white\", \"ticks\": \"\"}}, \"scene\": {\"xaxis\": {\"backgroundcolor\": \"#E5ECF6\", \"gridcolor\": \"white\", \"gridwidth\": 2, \"linecolor\": \"white\", \"showbackground\": true, \"ticks\": \"\", \"zerolinecolor\": \"white\"}, \"yaxis\": {\"backgroundcolor\": \"#E5ECF6\", \"gridcolor\": \"white\", \"gridwidth\": 2, \"linecolor\": \"white\", \"showbackground\": true, \"ticks\": \"\", \"zerolinecolor\": \"white\"}, \"zaxis\": {\"backgroundcolor\": \"#E5ECF6\", \"gridcolor\": \"white\", \"gridwidth\": 2, \"linecolor\": \"white\", \"showbackground\": true, \"ticks\": \"\", \"zerolinecolor\": \"white\"}}, \"shapedefaults\": {\"fillcolor\": \"#506784\", \"line\": {\"width\": 0}, \"opacity\": 0.4}, \"ternary\": {\"aaxis\": {\"gridcolor\": \"white\", \"linecolor\": \"white\", \"ticks\": \"\"}, \"baxis\": {\"gridcolor\": \"white\", \"linecolor\": \"white\", \"ticks\": \"\"}, \"bgcolor\": \"#E5ECF6\", \"caxis\": {\"gridcolor\": \"white\", \"linecolor\": \"white\", \"ticks\": \"\"}}, \"title\": {\"x\": 0.05}, \"xaxis\": {\"automargin\": true, \"gridcolor\": \"white\", \"linecolor\": \"white\", \"ticks\": \"\", \"zerolinecolor\": \"white\", \"zerolinewidth\": 2}, \"yaxis\": {\"automargin\": true, \"gridcolor\": \"white\", \"linecolor\": \"white\", \"ticks\": \"\", \"zerolinecolor\": \"white\", \"zerolinewidth\": 2}}}, \"polar\": {\"angularaxis\": {\"direction\": \"clockwise\", \"rotation\": 90}}}, {\"showLink\": false, \"linkText\": \"Export to plot.ly\", \"plotlyServerURL\": \"https://plot.ly\"}); \n",
       "}\n",
       "});</script><script type=\"text/javascript\">window.addEventListener(\"resize\", function(){if (document.getElementById(\"552534fb-4003-4a3f-9971-b2c8d18b2838\")) {window._Plotly.Plots.resize(document.getElementById(\"552534fb-4003-4a3f-9971-b2c8d18b2838\"));};})</script>"
      ]
     },
     "metadata": {},
     "output_type": "display_data"
    },
    {
     "name": "stdout",
     "output_type": "stream",
     "text": [
      "Comparando la pregunta Edad\n"
     ]
    },
    {
     "data": {
      "application/vnd.plotly.v1+json": {
       "config": {
        "linkText": "Export to plot.ly",
        "plotlyServerURL": "https://plot.ly",
        "showLink": false
       },
       "data": [
        {
         "hovertemplate": "Edad=13<br>counts=%{r}<br>prosume_cluster=%{theta}<extra></extra>",
         "legendgroup": "Edad=13",
         "marker": {
          "color": "rgb(213,62,79)"
         },
         "name": "Edad=13",
         "r": [
          4,
          1
         ],
         "showlegend": true,
         "theta": [
          "cluster_2",
          "cluster_4"
         ],
         "type": "barpolar",
         "uid": "0382c440-db13-43c5-9952-456f0e0bd416"
        },
        {
         "hovertemplate": "Edad=14<br>counts=%{r}<br>prosume_cluster=%{theta}<extra></extra>",
         "legendgroup": "Edad=14",
         "marker": {
          "color": "rgb(252,141,89)"
         },
         "name": "Edad=14",
         "r": [
          22,
          4,
          2
         ],
         "showlegend": true,
         "theta": [
          "cluster_2",
          "cluster_4",
          "cluster_5"
         ],
         "type": "barpolar",
         "uid": "12b1c7d5-aa46-4734-a51b-a3765760a698"
        },
        {
         "hovertemplate": "Edad=15<br>counts=%{r}<br>prosume_cluster=%{theta}<extra></extra>",
         "legendgroup": "Edad=15",
         "marker": {
          "color": "rgb(254,224,139)"
         },
         "name": "Edad=15",
         "r": [
          16,
          2
         ],
         "showlegend": true,
         "theta": [
          "cluster_2",
          "cluster_4"
         ],
         "type": "barpolar",
         "uid": "7f622e23-0d2c-4496-a5aa-f239c0813273"
        },
        {
         "hovertemplate": "Edad=16<br>counts=%{r}<br>prosume_cluster=%{theta}<extra></extra>",
         "legendgroup": "Edad=16",
         "marker": {
          "color": "rgb(230,245,152)"
         },
         "name": "Edad=16",
         "r": [
          7,
          2,
          1
         ],
         "showlegend": true,
         "theta": [
          "cluster_2",
          "cluster_4",
          "cluster_5"
         ],
         "type": "barpolar",
         "uid": "78b1df89-4156-473c-baa7-3046d576ec84"
        },
        {
         "hovertemplate": "Edad=17<br>counts=%{r}<br>prosume_cluster=%{theta}<extra></extra>",
         "legendgroup": "Edad=17",
         "marker": {
          "color": "rgb(153,213,148)"
         },
         "name": "Edad=17",
         "r": [
          2,
          2,
          1
         ],
         "showlegend": true,
         "theta": [
          "cluster_2",
          "cluster_4",
          "cluster_5"
         ],
         "type": "barpolar",
         "uid": "b397636f-731a-4202-bfb0-3001372feb8c"
        },
        {
         "hovertemplate": "Edad=18<br>counts=%{r}<br>prosume_cluster=%{theta}<extra></extra>",
         "legendgroup": "Edad=18",
         "marker": {
          "color": "rgb(50,136,189)"
         },
         "name": "Edad=18",
         "r": [
          7,
          3,
          1
         ],
         "showlegend": true,
         "theta": [
          "cluster_2",
          "cluster_4",
          "cluster_5"
         ],
         "type": "barpolar",
         "uid": "f10f12c8-09de-4b64-bf83-e1d95d1a67ac"
        },
        {
         "hovertemplate": "Edad=19<br>counts=%{r}<br>prosume_cluster=%{theta}<extra></extra>",
         "legendgroup": "Edad=19",
         "marker": {
          "color": "rgb(213,62,79)"
         },
         "name": "Edad=19",
         "r": [
          2,
          6,
          4
         ],
         "showlegend": true,
         "theta": [
          "cluster_2",
          "cluster_4",
          "cluster_5"
         ],
         "type": "barpolar",
         "uid": "270a158e-70cc-49a6-9913-93e9c316b13e"
        },
        {
         "hovertemplate": "Edad=20<br>counts=%{r}<br>prosume_cluster=%{theta}<extra></extra>",
         "legendgroup": "Edad=20",
         "marker": {
          "color": "rgb(252,141,89)"
         },
         "name": "Edad=20",
         "r": [
          1,
          4,
          6
         ],
         "showlegend": true,
         "theta": [
          "cluster_2",
          "cluster_4",
          "cluster_5"
         ],
         "type": "barpolar",
         "uid": "37c6c089-f572-477c-9a7c-c72afd22ea51"
        },
        {
         "hovertemplate": "Edad=21<br>counts=%{r}<br>prosume_cluster=%{theta}<extra></extra>",
         "legendgroup": "Edad=21",
         "marker": {
          "color": "rgb(254,224,139)"
         },
         "name": "Edad=21",
         "r": [
          1,
          4,
          1,
          7,
          11
         ],
         "showlegend": true,
         "theta": [
          "cluster_1",
          "cluster_2",
          "cluster_3",
          "cluster_4",
          "cluster_5"
         ],
         "type": "barpolar",
         "uid": "4dbe0958-126b-40d1-b0bb-ddc704c17a94"
        },
        {
         "hovertemplate": "Edad=22<br>counts=%{r}<br>prosume_cluster=%{theta}<extra></extra>",
         "legendgroup": "Edad=22",
         "marker": {
          "color": "rgb(230,245,152)"
         },
         "name": "Edad=22",
         "r": [
          1,
          2,
          8,
          5
         ],
         "showlegend": true,
         "theta": [
          "cluster_1",
          "cluster_2",
          "cluster_4",
          "cluster_5"
         ],
         "type": "barpolar",
         "uid": "8aeefcef-76b6-4dad-9215-8f6fd4585026"
        },
        {
         "hovertemplate": "Edad=23<br>counts=%{r}<br>prosume_cluster=%{theta}<extra></extra>",
         "legendgroup": "Edad=23",
         "marker": {
          "color": "rgb(153,213,148)"
         },
         "name": "Edad=23",
         "r": [
          2,
          2,
          5,
          6,
          5
         ],
         "showlegend": true,
         "theta": [
          "cluster_1",
          "cluster_2",
          "cluster_3",
          "cluster_4",
          "cluster_5"
         ],
         "type": "barpolar",
         "uid": "224cb360-6c6c-4aca-af26-27d92840563e"
        },
        {
         "hovertemplate": "Edad=24<br>counts=%{r}<br>prosume_cluster=%{theta}<extra></extra>",
         "legendgroup": "Edad=24",
         "marker": {
          "color": "rgb(50,136,189)"
         },
         "name": "Edad=24",
         "r": [
          3,
          5,
          19,
          1,
          11
         ],
         "showlegend": true,
         "theta": [
          "cluster_1",
          "cluster_2",
          "cluster_3",
          "cluster_4",
          "cluster_5"
         ],
         "type": "barpolar",
         "uid": "5d64c873-ed47-4314-97e1-9fa758043997"
        },
        {
         "hovertemplate": "Edad=25<br>counts=%{r}<br>prosume_cluster=%{theta}<extra></extra>",
         "legendgroup": "Edad=25",
         "marker": {
          "color": "rgb(213,62,79)"
         },
         "name": "Edad=25",
         "r": [
          4,
          2,
          3,
          4,
          8
         ],
         "showlegend": true,
         "theta": [
          "cluster_1",
          "cluster_2",
          "cluster_3",
          "cluster_4",
          "cluster_5"
         ],
         "type": "barpolar",
         "uid": "5b065567-24f2-4bd2-a3fd-c5a0a364bce2"
        },
        {
         "hovertemplate": "Edad=26<br>counts=%{r}<br>prosume_cluster=%{theta}<extra></extra>",
         "legendgroup": "Edad=26",
         "marker": {
          "color": "rgb(252,141,89)"
         },
         "name": "Edad=26",
         "r": [
          6,
          4,
          7,
          1,
          13
         ],
         "showlegend": true,
         "theta": [
          "cluster_1",
          "cluster_2",
          "cluster_3",
          "cluster_4",
          "cluster_5"
         ],
         "type": "barpolar",
         "uid": "bbb9095d-20c7-438b-9dab-ef5cc8be7dbe"
        },
        {
         "hovertemplate": "Edad=27<br>counts=%{r}<br>prosume_cluster=%{theta}<extra></extra>",
         "legendgroup": "Edad=27",
         "marker": {
          "color": "rgb(254,224,139)"
         },
         "name": "Edad=27",
         "r": [
          2,
          4,
          12,
          3,
          17
         ],
         "showlegend": true,
         "theta": [
          "cluster_1",
          "cluster_2",
          "cluster_3",
          "cluster_4",
          "cluster_5"
         ],
         "type": "barpolar",
         "uid": "a1b755fa-b16d-4e1f-a155-005f9c170f15"
        },
        {
         "hovertemplate": "Edad=28<br>counts=%{r}<br>prosume_cluster=%{theta}<extra></extra>",
         "legendgroup": "Edad=28",
         "marker": {
          "color": "rgb(230,245,152)"
         },
         "name": "Edad=28",
         "r": [
          2,
          6,
          13,
          3,
          15
         ],
         "showlegend": true,
         "theta": [
          "cluster_1",
          "cluster_2",
          "cluster_3",
          "cluster_4",
          "cluster_5"
         ],
         "type": "barpolar",
         "uid": "5f113996-deaa-416f-a191-94d9b8b2b021"
        },
        {
         "hovertemplate": "Edad=29<br>counts=%{r}<br>prosume_cluster=%{theta}<extra></extra>",
         "legendgroup": "Edad=29",
         "marker": {
          "color": "rgb(153,213,148)"
         },
         "name": "Edad=29",
         "r": [
          1,
          5,
          12,
          3,
          11
         ],
         "showlegend": true,
         "theta": [
          "cluster_1",
          "cluster_2",
          "cluster_3",
          "cluster_4",
          "cluster_5"
         ],
         "type": "barpolar",
         "uid": "fe2eb30f-f2a6-4431-ac4e-188055379274"
        },
        {
         "hovertemplate": "Edad=30<br>counts=%{r}<br>prosume_cluster=%{theta}<extra></extra>",
         "legendgroup": "Edad=30",
         "marker": {
          "color": "rgb(50,136,189)"
         },
         "name": "Edad=30",
         "r": [
          4,
          12,
          6,
          5,
          11
         ],
         "showlegend": true,
         "theta": [
          "cluster_1",
          "cluster_2",
          "cluster_3",
          "cluster_4",
          "cluster_5"
         ],
         "type": "barpolar",
         "uid": "61df5275-128c-47c1-9e67-2bf60fb2fbab"
        },
        {
         "hovertemplate": "Edad=31<br>counts=%{r}<br>prosume_cluster=%{theta}<extra></extra>",
         "legendgroup": "Edad=31",
         "marker": {
          "color": "rgb(213,62,79)"
         },
         "name": "Edad=31",
         "r": [
          2,
          6,
          1,
          7,
          8
         ],
         "showlegend": true,
         "theta": [
          "cluster_1",
          "cluster_2",
          "cluster_3",
          "cluster_4",
          "cluster_5"
         ],
         "type": "barpolar",
         "uid": "c8153ed4-7856-497c-8933-59ed6d889b3b"
        },
        {
         "hovertemplate": "Edad=32<br>counts=%{r}<br>prosume_cluster=%{theta}<extra></extra>",
         "legendgroup": "Edad=32",
         "marker": {
          "color": "rgb(252,141,89)"
         },
         "name": "Edad=32",
         "r": [
          1,
          9,
          2,
          4,
          8
         ],
         "showlegend": true,
         "theta": [
          "cluster_1",
          "cluster_2",
          "cluster_3",
          "cluster_4",
          "cluster_5"
         ],
         "type": "barpolar",
         "uid": "a26cd114-11fe-4a28-97fe-9217dbf6a606"
        },
        {
         "hovertemplate": "Edad=33<br>counts=%{r}<br>prosume_cluster=%{theta}<extra></extra>",
         "legendgroup": "Edad=33",
         "marker": {
          "color": "rgb(254,224,139)"
         },
         "name": "Edad=33",
         "r": [
          3,
          7,
          2,
          1,
          11
         ],
         "showlegend": true,
         "theta": [
          "cluster_1",
          "cluster_2",
          "cluster_3",
          "cluster_4",
          "cluster_5"
         ],
         "type": "barpolar",
         "uid": "fca3d6e1-e9a8-439d-87db-0c2aee18ad22"
        },
        {
         "hovertemplate": "Edad=34<br>counts=%{r}<br>prosume_cluster=%{theta}<extra></extra>",
         "legendgroup": "Edad=34",
         "marker": {
          "color": "rgb(230,245,152)"
         },
         "name": "Edad=34",
         "r": [
          9,
          2,
          1,
          14
         ],
         "showlegend": true,
         "theta": [
          "cluster_2",
          "cluster_3",
          "cluster_4",
          "cluster_5"
         ],
         "type": "barpolar",
         "uid": "70b415be-3420-4910-9401-3690cec8999a"
        },
        {
         "hovertemplate": "Edad=35<br>counts=%{r}<br>prosume_cluster=%{theta}<extra></extra>",
         "legendgroup": "Edad=35",
         "marker": {
          "color": "rgb(153,213,148)"
         },
         "name": "Edad=35",
         "r": [
          1,
          6,
          2,
          3,
          16
         ],
         "showlegend": true,
         "theta": [
          "cluster_1",
          "cluster_2",
          "cluster_3",
          "cluster_4",
          "cluster_5"
         ],
         "type": "barpolar",
         "uid": "68f13018-85ee-4d5c-aaf0-da4f7fc586e8"
        },
        {
         "hovertemplate": "Edad=36<br>counts=%{r}<br>prosume_cluster=%{theta}<extra></extra>",
         "legendgroup": "Edad=36",
         "marker": {
          "color": "rgb(50,136,189)"
         },
         "name": "Edad=36",
         "r": [
          3,
          2,
          3,
          9
         ],
         "showlegend": true,
         "theta": [
          "cluster_2",
          "cluster_3",
          "cluster_4",
          "cluster_5"
         ],
         "type": "barpolar",
         "uid": "571fdd29-9fff-4e2c-9b88-608990e02b50"
        },
        {
         "hovertemplate": "Edad=37<br>counts=%{r}<br>prosume_cluster=%{theta}<extra></extra>",
         "legendgroup": "Edad=37",
         "marker": {
          "color": "rgb(213,62,79)"
         },
         "name": "Edad=37",
         "r": [
          3,
          3,
          12
         ],
         "showlegend": true,
         "theta": [
          "cluster_2",
          "cluster_3",
          "cluster_5"
         ],
         "type": "barpolar",
         "uid": "034134b5-91f2-4ef8-97a9-5b090ce92d96"
        },
        {
         "hovertemplate": "Edad=38<br>counts=%{r}<br>prosume_cluster=%{theta}<extra></extra>",
         "legendgroup": "Edad=38",
         "marker": {
          "color": "rgb(252,141,89)"
         },
         "name": "Edad=38",
         "r": [
          6,
          1,
          12
         ],
         "showlegend": true,
         "theta": [
          "cluster_2",
          "cluster_3",
          "cluster_5"
         ],
         "type": "barpolar",
         "uid": "953b12e6-355c-4019-90fa-55bf8d08ef88"
        },
        {
         "hovertemplate": "Edad=39<br>counts=%{r}<br>prosume_cluster=%{theta}<extra></extra>",
         "legendgroup": "Edad=39",
         "marker": {
          "color": "rgb(254,224,139)"
         },
         "name": "Edad=39",
         "r": [
          1,
          1,
          1,
          12
         ],
         "showlegend": true,
         "theta": [
          "cluster_2",
          "cluster_3",
          "cluster_4",
          "cluster_5"
         ],
         "type": "barpolar",
         "uid": "32d6716d-47fd-4e2a-ac72-14e2e87535ae"
        },
        {
         "hovertemplate": "Edad=40<br>counts=%{r}<br>prosume_cluster=%{theta}<extra></extra>",
         "legendgroup": "Edad=40",
         "marker": {
          "color": "rgb(230,245,152)"
         },
         "name": "Edad=40",
         "r": [
          3,
          2,
          4
         ],
         "showlegend": true,
         "theta": [
          "cluster_2",
          "cluster_3",
          "cluster_5"
         ],
         "type": "barpolar",
         "uid": "2636285a-b892-422e-8428-461e9ae709fb"
        },
        {
         "hovertemplate": "Edad=41<br>counts=%{r}<br>prosume_cluster=%{theta}<extra></extra>",
         "legendgroup": "Edad=41",
         "marker": {
          "color": "rgb(153,213,148)"
         },
         "name": "Edad=41",
         "r": [
          1,
          2,
          6
         ],
         "showlegend": true,
         "theta": [
          "cluster_2",
          "cluster_4",
          "cluster_5"
         ],
         "type": "barpolar",
         "uid": "f030323b-09a1-4f7b-970f-5a4dc4534730"
        },
        {
         "hovertemplate": "Edad=42<br>counts=%{r}<br>prosume_cluster=%{theta}<extra></extra>",
         "legendgroup": "Edad=42",
         "marker": {
          "color": "rgb(50,136,189)"
         },
         "name": "Edad=42",
         "r": [
          1,
          1,
          1,
          9
         ],
         "showlegend": true,
         "theta": [
          "cluster_1",
          "cluster_3",
          "cluster_4",
          "cluster_5"
         ],
         "type": "barpolar",
         "uid": "db585552-0006-4c32-94ed-51a029152f04"
        },
        {
         "hovertemplate": "Edad=43<br>counts=%{r}<br>prosume_cluster=%{theta}<extra></extra>",
         "legendgroup": "Edad=43",
         "marker": {
          "color": "rgb(213,62,79)"
         },
         "name": "Edad=43",
         "r": [
          3,
          1,
          8
         ],
         "showlegend": true,
         "theta": [
          "cluster_2",
          "cluster_4",
          "cluster_5"
         ],
         "type": "barpolar",
         "uid": "3bcac033-7a8c-4865-ba0f-5f1e3c4e1294"
        },
        {
         "hovertemplate": "Edad=44<br>counts=%{r}<br>prosume_cluster=%{theta}<extra></extra>",
         "legendgroup": "Edad=44",
         "marker": {
          "color": "rgb(252,141,89)"
         },
         "name": "Edad=44",
         "r": [
          3,
          1,
          4
         ],
         "showlegend": true,
         "theta": [
          "cluster_2",
          "cluster_4",
          "cluster_5"
         ],
         "type": "barpolar",
         "uid": "345727c3-2334-4b9e-ad5e-90a67747261d"
        },
        {
         "hovertemplate": "Edad=45<br>counts=%{r}<br>prosume_cluster=%{theta}<extra></extra>",
         "legendgroup": "Edad=45",
         "marker": {
          "color": "rgb(254,224,139)"
         },
         "name": "Edad=45",
         "r": [
          2,
          6
         ],
         "showlegend": true,
         "theta": [
          "cluster_2",
          "cluster_5"
         ],
         "type": "barpolar",
         "uid": "6c58af0f-b4a6-44c3-a950-837213b48b57"
        },
        {
         "hovertemplate": "Edad=46<br>counts=%{r}<br>prosume_cluster=%{theta}<extra></extra>",
         "legendgroup": "Edad=46",
         "marker": {
          "color": "rgb(230,245,152)"
         },
         "name": "Edad=46",
         "r": [
          5,
          10
         ],
         "showlegend": true,
         "theta": [
          "cluster_2",
          "cluster_5"
         ],
         "type": "barpolar",
         "uid": "0d4b207e-3e8e-4a2e-a86f-f7ab3a0f48cf"
        },
        {
         "hovertemplate": "Edad=47<br>counts=%{r}<br>prosume_cluster=%{theta}<extra></extra>",
         "legendgroup": "Edad=47",
         "marker": {
          "color": "rgb(153,213,148)"
         },
         "name": "Edad=47",
         "r": [
          2,
          3,
          4
         ],
         "showlegend": true,
         "theta": [
          "cluster_2",
          "cluster_4",
          "cluster_5"
         ],
         "type": "barpolar",
         "uid": "024b89bb-f8bc-4f69-9257-c3623ebd9cd7"
        },
        {
         "hovertemplate": "Edad=48<br>counts=%{r}<br>prosume_cluster=%{theta}<extra></extra>",
         "legendgroup": "Edad=48",
         "marker": {
          "color": "rgb(50,136,189)"
         },
         "name": "Edad=48",
         "r": [
          2,
          1,
          2
         ],
         "showlegend": true,
         "theta": [
          "cluster_2",
          "cluster_3",
          "cluster_5"
         ],
         "type": "barpolar",
         "uid": "1a8e5eff-f97e-48a5-b383-be4430775925"
        },
        {
         "hovertemplate": "Edad=49<br>counts=%{r}<br>prosume_cluster=%{theta}<extra></extra>",
         "legendgroup": "Edad=49",
         "marker": {
          "color": "rgb(213,62,79)"
         },
         "name": "Edad=49",
         "r": [
          1,
          1,
          2
         ],
         "showlegend": true,
         "theta": [
          "cluster_2",
          "cluster_4",
          "cluster_5"
         ],
         "type": "barpolar",
         "uid": "18cccf81-f65e-44e7-9f60-84ffb6547b7b"
        },
        {
         "hovertemplate": "Edad=50<br>counts=%{r}<br>prosume_cluster=%{theta}<extra></extra>",
         "legendgroup": "Edad=50",
         "marker": {
          "color": "rgb(252,141,89)"
         },
         "name": "Edad=50",
         "r": [
          1,
          1,
          1,
          3
         ],
         "showlegend": true,
         "theta": [
          "cluster_1",
          "cluster_2",
          "cluster_3",
          "cluster_5"
         ],
         "type": "barpolar",
         "uid": "526e2dde-cdc2-4b05-9abb-7016661e3e7e"
        },
        {
         "hovertemplate": "Edad=51<br>counts=%{r}<br>prosume_cluster=%{theta}<extra></extra>",
         "legendgroup": "Edad=51",
         "marker": {
          "color": "rgb(254,224,139)"
         },
         "name": "Edad=51",
         "r": [
          6
         ],
         "showlegend": true,
         "theta": [
          "cluster_5"
         ],
         "type": "barpolar",
         "uid": "94aa17f8-37b1-4fc7-90ff-ea714a5aa8b8"
        },
        {
         "hovertemplate": "Edad=52<br>counts=%{r}<br>prosume_cluster=%{theta}<extra></extra>",
         "legendgroup": "Edad=52",
         "marker": {
          "color": "rgb(230,245,152)"
         },
         "name": "Edad=52",
         "r": [
          1,
          1
         ],
         "showlegend": true,
         "theta": [
          "cluster_1",
          "cluster_5"
         ],
         "type": "barpolar",
         "uid": "4637b9c6-e347-4324-9e6d-241aaf7b3c24"
        },
        {
         "hovertemplate": "Edad=53<br>counts=%{r}<br>prosume_cluster=%{theta}<extra></extra>",
         "legendgroup": "Edad=53",
         "marker": {
          "color": "rgb(153,213,148)"
         },
         "name": "Edad=53",
         "r": [
          2,
          1,
          5
         ],
         "showlegend": true,
         "theta": [
          "cluster_2",
          "cluster_4",
          "cluster_5"
         ],
         "type": "barpolar",
         "uid": "389106ad-4f15-4e35-8776-209f86a170f8"
        },
        {
         "hovertemplate": "Edad=54<br>counts=%{r}<br>prosume_cluster=%{theta}<extra></extra>",
         "legendgroup": "Edad=54",
         "marker": {
          "color": "rgb(50,136,189)"
         },
         "name": "Edad=54",
         "r": [
          4
         ],
         "showlegend": true,
         "theta": [
          "cluster_5"
         ],
         "type": "barpolar",
         "uid": "0ba41a22-2a49-4bab-a257-6bfbaac950fe"
        },
        {
         "hovertemplate": "Edad=55<br>counts=%{r}<br>prosume_cluster=%{theta}<extra></extra>",
         "legendgroup": "Edad=55",
         "marker": {
          "color": "rgb(213,62,79)"
         },
         "name": "Edad=55",
         "r": [
          1,
          6
         ],
         "showlegend": true,
         "theta": [
          "cluster_2",
          "cluster_5"
         ],
         "type": "barpolar",
         "uid": "616ff242-328f-4383-b46b-1771f4b5a75b"
        },
        {
         "hovertemplate": "Edad=56<br>counts=%{r}<br>prosume_cluster=%{theta}<extra></extra>",
         "legendgroup": "Edad=56",
         "marker": {
          "color": "rgb(252,141,89)"
         },
         "name": "Edad=56",
         "r": [
          1,
          4
         ],
         "showlegend": true,
         "theta": [
          "cluster_1",
          "cluster_5"
         ],
         "type": "barpolar",
         "uid": "670d234e-0caa-4423-aa8e-e3aa02bed679"
        },
        {
         "hovertemplate": "Edad=57<br>counts=%{r}<br>prosume_cluster=%{theta}<extra></extra>",
         "legendgroup": "Edad=57",
         "marker": {
          "color": "rgb(254,224,139)"
         },
         "name": "Edad=57",
         "r": [
          2,
          4
         ],
         "showlegend": true,
         "theta": [
          "cluster_2",
          "cluster_5"
         ],
         "type": "barpolar",
         "uid": "a68ca7d5-e50a-4b98-831c-cc7fea92ce9b"
        },
        {
         "hovertemplate": "Edad=58<br>counts=%{r}<br>prosume_cluster=%{theta}<extra></extra>",
         "legendgroup": "Edad=58",
         "marker": {
          "color": "rgb(230,245,152)"
         },
         "name": "Edad=58",
         "r": [
          1
         ],
         "showlegend": true,
         "theta": [
          "cluster_5"
         ],
         "type": "barpolar",
         "uid": "a662cb37-d3df-4025-9906-798966165604"
        },
        {
         "hovertemplate": "Edad=59<br>counts=%{r}<br>prosume_cluster=%{theta}<extra></extra>",
         "legendgroup": "Edad=59",
         "marker": {
          "color": "rgb(153,213,148)"
         },
         "name": "Edad=59",
         "r": [
          2
         ],
         "showlegend": true,
         "theta": [
          "cluster_5"
         ],
         "type": "barpolar",
         "uid": "eef6c3d7-0804-4da6-ac56-4150a0c0e680"
        },
        {
         "hovertemplate": "Edad=60<br>counts=%{r}<br>prosume_cluster=%{theta}<extra></extra>",
         "legendgroup": "Edad=60",
         "marker": {
          "color": "rgb(50,136,189)"
         },
         "name": "Edad=60",
         "r": [
          3,
          1,
          1
         ],
         "showlegend": true,
         "theta": [
          "cluster_2",
          "cluster_4",
          "cluster_5"
         ],
         "type": "barpolar",
         "uid": "a66557c0-8ee5-41ad-b80c-2dba87385a62"
        },
        {
         "hovertemplate": "Edad=61<br>counts=%{r}<br>prosume_cluster=%{theta}<extra></extra>",
         "legendgroup": "Edad=61",
         "marker": {
          "color": "rgb(213,62,79)"
         },
         "name": "Edad=61",
         "r": [
          3
         ],
         "showlegend": true,
         "theta": [
          "cluster_5"
         ],
         "type": "barpolar",
         "uid": "088a2172-a20d-4ba0-8b0b-f212720112a3"
        },
        {
         "hovertemplate": "Edad=62<br>counts=%{r}<br>prosume_cluster=%{theta}<extra></extra>",
         "legendgroup": "Edad=62",
         "marker": {
          "color": "rgb(252,141,89)"
         },
         "name": "Edad=62",
         "r": [
          2,
          5
         ],
         "showlegend": true,
         "theta": [
          "cluster_2",
          "cluster_5"
         ],
         "type": "barpolar",
         "uid": "6a9ee6ff-c806-47ce-92bb-9ac935c1c1c3"
        },
        {
         "hovertemplate": "Edad=63<br>counts=%{r}<br>prosume_cluster=%{theta}<extra></extra>",
         "legendgroup": "Edad=63",
         "marker": {
          "color": "rgb(254,224,139)"
         },
         "name": "Edad=63",
         "r": [
          1
         ],
         "showlegend": true,
         "theta": [
          "cluster_2"
         ],
         "type": "barpolar",
         "uid": "83f975c2-67d5-45db-80d3-645e39ec6787"
        },
        {
         "hovertemplate": "Edad=64<br>counts=%{r}<br>prosume_cluster=%{theta}<extra></extra>",
         "legendgroup": "Edad=64",
         "marker": {
          "color": "rgb(230,245,152)"
         },
         "name": "Edad=64",
         "r": [
          1,
          2
         ],
         "showlegend": true,
         "theta": [
          "cluster_3",
          "cluster_5"
         ],
         "type": "barpolar",
         "uid": "1e5bbb75-7e9e-4fb5-abd4-483fcef0af59"
        },
        {
         "hovertemplate": "Edad=65<br>counts=%{r}<br>prosume_cluster=%{theta}<extra></extra>",
         "legendgroup": "Edad=65",
         "marker": {
          "color": "rgb(153,213,148)"
         },
         "name": "Edad=65",
         "r": [
          1,
          1
         ],
         "showlegend": true,
         "theta": [
          "cluster_4",
          "cluster_5"
         ],
         "type": "barpolar",
         "uid": "5b5955b0-01a3-49c2-aa31-89d41a58d9c3"
        },
        {
         "hovertemplate": "Edad=66<br>counts=%{r}<br>prosume_cluster=%{theta}<extra></extra>",
         "legendgroup": "Edad=66",
         "marker": {
          "color": "rgb(50,136,189)"
         },
         "name": "Edad=66",
         "r": [
          1,
          1
         ],
         "showlegend": true,
         "theta": [
          "cluster_2",
          "cluster_5"
         ],
         "type": "barpolar",
         "uid": "5a83d8a2-6a1c-4328-ae38-52c3869cf7b3"
        },
        {
         "hovertemplate": "Edad=67<br>counts=%{r}<br>prosume_cluster=%{theta}<extra></extra>",
         "legendgroup": "Edad=67",
         "marker": {
          "color": "rgb(213,62,79)"
         },
         "name": "Edad=67",
         "r": [
          2,
          2
         ],
         "showlegend": true,
         "theta": [
          "cluster_2",
          "cluster_5"
         ],
         "type": "barpolar",
         "uid": "44157477-52b5-4331-9b5b-b521dd5102a5"
        },
        {
         "hovertemplate": "Edad=68<br>counts=%{r}<br>prosume_cluster=%{theta}<extra></extra>",
         "legendgroup": "Edad=68",
         "marker": {
          "color": "rgb(252,141,89)"
         },
         "name": "Edad=68",
         "r": [
          1
         ],
         "showlegend": true,
         "theta": [
          "cluster_4"
         ],
         "type": "barpolar",
         "uid": "0604523f-5673-4627-a910-75dd523fd9ad"
        },
        {
         "hovertemplate": "Edad=69<br>counts=%{r}<br>prosume_cluster=%{theta}<extra></extra>",
         "legendgroup": "Edad=69",
         "marker": {
          "color": "rgb(254,224,139)"
         },
         "name": "Edad=69",
         "r": [
          1,
          1
         ],
         "showlegend": true,
         "theta": [
          "cluster_2",
          "cluster_5"
         ],
         "type": "barpolar",
         "uid": "9be7b06b-da71-4073-92e2-d8b740122cb8"
        },
        {
         "hovertemplate": "Edad=70<br>counts=%{r}<br>prosume_cluster=%{theta}<extra></extra>",
         "legendgroup": "Edad=70",
         "marker": {
          "color": "rgb(230,245,152)"
         },
         "name": "Edad=70",
         "r": [
          1
         ],
         "showlegend": true,
         "theta": [
          "cluster_5"
         ],
         "type": "barpolar",
         "uid": "a914131e-aefe-4ac3-b190-f47f2dd479bc"
        },
        {
         "hovertemplate": "Edad=71<br>counts=%{r}<br>prosume_cluster=%{theta}<extra></extra>",
         "legendgroup": "Edad=71",
         "marker": {
          "color": "rgb(153,213,148)"
         },
         "name": "Edad=71",
         "r": [
          1
         ],
         "showlegend": true,
         "theta": [
          "cluster_2"
         ],
         "type": "barpolar",
         "uid": "e56aa00f-6165-43d0-8981-d52ff774e782"
        },
        {
         "hovertemplate": "Edad=73<br>counts=%{r}<br>prosume_cluster=%{theta}<extra></extra>",
         "legendgroup": "Edad=73",
         "marker": {
          "color": "rgb(50,136,189)"
         },
         "name": "Edad=73",
         "r": [
          1
         ],
         "showlegend": true,
         "theta": [
          "cluster_5"
         ],
         "type": "barpolar",
         "uid": "9aa6c0a9-dd65-4bca-bff3-cb158bd829d1"
        },
        {
         "hovertemplate": "Edad=78<br>counts=%{r}<br>prosume_cluster=%{theta}<extra></extra>",
         "legendgroup": "Edad=78",
         "marker": {
          "color": "rgb(213,62,79)"
         },
         "name": "Edad=78",
         "r": [
          1
         ],
         "showlegend": true,
         "theta": [
          "cluster_5"
         ],
         "type": "barpolar",
         "uid": "cd6ec7f5-ea63-4fb6-a834-c06a3579203c"
        },
        {
         "hovertemplate": "Edad=81<br>counts=%{r}<br>prosume_cluster=%{theta}<extra></extra>",
         "legendgroup": "Edad=81",
         "marker": {
          "color": "rgb(252,141,89)"
         },
         "name": "Edad=81",
         "r": [
          2
         ],
         "showlegend": true,
         "theta": [
          "cluster_5"
         ],
         "type": "barpolar",
         "uid": "13bbb795-a3ed-4841-ad81-f624d29831d9"
        }
       ],
       "layout": {
        "barmode": "group",
        "barnorm": "",
        "height": 600,
        "legend": {
         "tracegroupgap": 0
        },
        "margin": {
         "t": 60
        },
        "polar": {
         "angularaxis": {
          "direction": "clockwise",
          "rotation": 90
         }
        },
        "template": {
         "data": {
          "bar": [
           {
            "marker": {
             "line": {
              "color": "#E5ECF6",
              "width": 0.5
             }
            },
            "type": "bar"
           }
          ],
          "barpolar": [
           {
            "marker": {
             "line": {
              "color": "#E5ECF6",
              "width": 0.5
             }
            },
            "type": "barpolar"
           }
          ],
          "carpet": [
           {
            "aaxis": {
             "endlinecolor": "#2a3f5f",
             "gridcolor": "white",
             "linecolor": "white",
             "minorgridcolor": "white",
             "startlinecolor": "#2a3f5f"
            },
            "baxis": {
             "endlinecolor": "#2a3f5f",
             "gridcolor": "white",
             "linecolor": "white",
             "minorgridcolor": "white",
             "startlinecolor": "#2a3f5f"
            },
            "type": "carpet"
           }
          ],
          "choropleth": [
           {
            "colorbar": {
             "outlinewidth": 0,
             "ticks": ""
            },
            "type": "choropleth"
           }
          ],
          "contour": [
           {
            "autocolorscale": true,
            "colorbar": {
             "outlinewidth": 0,
             "ticks": ""
            },
            "type": "contour"
           }
          ],
          "contourcarpet": [
           {
            "colorbar": {
             "outlinewidth": 0,
             "ticks": ""
            },
            "type": "contourcarpet"
           }
          ],
          "heatmap": [
           {
            "autocolorscale": true,
            "colorbar": {
             "outlinewidth": 0,
             "ticks": ""
            },
            "type": "heatmap"
           }
          ],
          "heatmapgl": [
           {
            "colorbar": {
             "outlinewidth": 0,
             "ticks": ""
            },
            "type": "heatmapgl"
           }
          ],
          "histogram": [
           {
            "marker": {
             "colorbar": {
              "outlinewidth": 0,
              "ticks": ""
             }
            },
            "type": "histogram"
           }
          ],
          "histogram2d": [
           {
            "autocolorscale": true,
            "colorbar": {
             "outlinewidth": 0,
             "ticks": ""
            },
            "type": "histogram2d"
           }
          ],
          "histogram2dcontour": [
           {
            "autocolorscale": true,
            "colorbar": {
             "outlinewidth": 0,
             "ticks": ""
            },
            "type": "histogram2dcontour"
           }
          ],
          "mesh3d": [
           {
            "colorbar": {
             "outlinewidth": 0,
             "ticks": ""
            },
            "type": "mesh3d"
           }
          ],
          "parcoords": [
           {
            "line": {
             "colorbar": {
              "outlinewidth": 0,
              "ticks": ""
             }
            },
            "type": "parcoords"
           }
          ],
          "scatter": [
           {
            "marker": {
             "colorbar": {
              "outlinewidth": 0,
              "ticks": ""
             }
            },
            "type": "scatter"
           }
          ],
          "scatter3d": [
           {
            "marker": {
             "colorbar": {
              "outlinewidth": 0,
              "ticks": ""
             }
            },
            "type": "scatter3d"
           }
          ],
          "scattercarpet": [
           {
            "marker": {
             "colorbar": {
              "outlinewidth": 0,
              "ticks": ""
             }
            },
            "type": "scattercarpet"
           }
          ],
          "scattergeo": [
           {
            "marker": {
             "colorbar": {
              "outlinewidth": 0,
              "ticks": ""
             }
            },
            "type": "scattergeo"
           }
          ],
          "scattergl": [
           {
            "marker": {
             "colorbar": {
              "outlinewidth": 0,
              "ticks": ""
             }
            },
            "type": "scattergl"
           }
          ],
          "scattermapbox": [
           {
            "marker": {
             "colorbar": {
              "outlinewidth": 0,
              "ticks": ""
             }
            },
            "type": "scattermapbox"
           }
          ],
          "scatterpolar": [
           {
            "marker": {
             "colorbar": {
              "outlinewidth": 0,
              "ticks": ""
             }
            },
            "type": "scatterpolar"
           }
          ],
          "scatterpolargl": [
           {
            "marker": {
             "colorbar": {
              "outlinewidth": 0,
              "ticks": ""
             }
            },
            "type": "scatterpolargl"
           }
          ],
          "scatterternary": [
           {
            "marker": {
             "colorbar": {
              "outlinewidth": 0,
              "ticks": ""
             }
            },
            "type": "scatterternary"
           }
          ],
          "surface": [
           {
            "colorbar": {
             "outlinewidth": 0,
             "ticks": ""
            },
            "type": "surface"
           }
          ],
          "table": [
           {
            "cells": {
             "fill": {
              "color": "#EBF0F8"
             },
             "line": {
              "color": "white"
             }
            },
            "header": {
             "fill": {
              "color": "#C8D4E3"
             },
             "line": {
              "color": "white"
             }
            },
            "type": "table"
           }
          ]
         },
         "layout": {
          "annotationdefaults": {
           "arrowcolor": "#506784",
           "arrowhead": 0,
           "arrowwidth": 1
          },
          "colorscale": {
           "diverging": [
            [
             0,
             "#8e0152"
            ],
            [
             0.1,
             "#c51b7d"
            ],
            [
             0.2,
             "#de77ae"
            ],
            [
             0.3,
             "#f1b6da"
            ],
            [
             0.4,
             "#fde0ef"
            ],
            [
             0.5,
             "#f7f7f7"
            ],
            [
             0.6,
             "#e6f5d0"
            ],
            [
             0.7,
             "#b8e186"
            ],
            [
             0.8,
             "#7fbc41"
            ],
            [
             0.9,
             "#4d9221"
            ],
            [
             1,
             "#276419"
            ]
           ],
           "sequential": [
            [
             0,
             "#0508b8"
            ],
            [
             0.0893854748603352,
             "#1910d8"
            ],
            [
             0.1787709497206704,
             "#3c19f0"
            ],
            [
             0.2681564245810056,
             "#6b1cfb"
            ],
            [
             0.3575418994413408,
             "#981cfd"
            ],
            [
             0.44692737430167595,
             "#bf1cfd"
            ],
            [
             0.5363128491620112,
             "#dd2bfd"
            ],
            [
             0.6256983240223464,
             "#f246fe"
            ],
            [
             0.7150837988826816,
             "#fc67fd"
            ],
            [
             0.8044692737430168,
             "#fe88fc"
            ],
            [
             0.8938547486033519,
             "#fea5fd"
            ],
            [
             0.9832402234636871,
             "#febefe"
            ],
            [
             1,
             "#fec3fe"
            ]
           ],
           "sequentialminus": [
            [
             0,
             "#0508b8"
            ],
            [
             0.0893854748603352,
             "#1910d8"
            ],
            [
             0.1787709497206704,
             "#3c19f0"
            ],
            [
             0.2681564245810056,
             "#6b1cfb"
            ],
            [
             0.3575418994413408,
             "#981cfd"
            ],
            [
             0.44692737430167595,
             "#bf1cfd"
            ],
            [
             0.5363128491620112,
             "#dd2bfd"
            ],
            [
             0.6256983240223464,
             "#f246fe"
            ],
            [
             0.7150837988826816,
             "#fc67fd"
            ],
            [
             0.8044692737430168,
             "#fe88fc"
            ],
            [
             0.8938547486033519,
             "#fea5fd"
            ],
            [
             0.9832402234636871,
             "#febefe"
            ],
            [
             1,
             "#fec3fe"
            ]
           ]
          },
          "colorway": [
           "#636efa",
           "#EF553B",
           "#00cc96",
           "#ab63fa",
           "#19d3f3",
           "#e763fa",
           "#FECB52",
           "#FFA15A",
           "#FF6692",
           "#B6E880"
          ],
          "font": {
           "color": "#2a3f5f"
          },
          "geo": {
           "bgcolor": "white",
           "lakecolor": "white",
           "landcolor": "#E5ECF6",
           "showlakes": true,
           "showland": true,
           "subunitcolor": "white"
          },
          "hovermode": "closest",
          "mapbox": {
           "style": "light"
          },
          "paper_bgcolor": "white",
          "plot_bgcolor": "#E5ECF6",
          "polar": {
           "angularaxis": {
            "gridcolor": "white",
            "linecolor": "white",
            "ticks": ""
           },
           "bgcolor": "#E5ECF6",
           "radialaxis": {
            "gridcolor": "white",
            "linecolor": "white",
            "ticks": ""
           }
          },
          "scene": {
           "xaxis": {
            "backgroundcolor": "#E5ECF6",
            "gridcolor": "white",
            "gridwidth": 2,
            "linecolor": "white",
            "showbackground": true,
            "ticks": "",
            "zerolinecolor": "white"
           },
           "yaxis": {
            "backgroundcolor": "#E5ECF6",
            "gridcolor": "white",
            "gridwidth": 2,
            "linecolor": "white",
            "showbackground": true,
            "ticks": "",
            "zerolinecolor": "white"
           },
           "zaxis": {
            "backgroundcolor": "#E5ECF6",
            "gridcolor": "white",
            "gridwidth": 2,
            "linecolor": "white",
            "showbackground": true,
            "ticks": "",
            "zerolinecolor": "white"
           }
          },
          "shapedefaults": {
           "fillcolor": "#506784",
           "line": {
            "width": 0
           },
           "opacity": 0.4
          },
          "ternary": {
           "aaxis": {
            "gridcolor": "white",
            "linecolor": "white",
            "ticks": ""
           },
           "baxis": {
            "gridcolor": "white",
            "linecolor": "white",
            "ticks": ""
           },
           "bgcolor": "#E5ECF6",
           "caxis": {
            "gridcolor": "white",
            "linecolor": "white",
            "ticks": ""
           }
          },
          "title": {
           "x": 0.05
          },
          "xaxis": {
           "automargin": true,
           "gridcolor": "white",
           "linecolor": "white",
           "ticks": "",
           "zerolinecolor": "white",
           "zerolinewidth": 2
          },
          "yaxis": {
           "automargin": true,
           "gridcolor": "white",
           "linecolor": "white",
           "ticks": "",
           "zerolinecolor": "white",
           "zerolinewidth": 2
          }
         }
        }
       }
      },
      "text/html": [
       "<div id=\"353c8218-e52c-4f72-87bd-9ae8eea362c9\" style=\"height: 600px; width: 100%;\" class=\"plotly-graph-div\"></div><script type=\"text/javascript\">require([\"plotly\"], function(Plotly) { window.PLOTLYENV=window.PLOTLYENV || {};window.PLOTLYENV.BASE_URL=\"https://plot.ly\";\n",
       "if (document.getElementById(\"353c8218-e52c-4f72-87bd-9ae8eea362c9\")) {\n",
       "    Plotly.newPlot(\"353c8218-e52c-4f72-87bd-9ae8eea362c9\", [{\"hovertemplate\": \"Edad=13<br>counts=%{r}<br>prosume_cluster=%{theta}<extra></extra>\", \"legendgroup\": \"Edad=13\", \"marker\": {\"color\": \"rgb(213,62,79)\"}, \"name\": \"Edad=13\", \"r\": [4, 1], \"showlegend\": true, \"theta\": [\"cluster_2\", \"cluster_4\"], \"type\": \"barpolar\", \"uid\": \"0382c440-db13-43c5-9952-456f0e0bd416\"}, {\"hovertemplate\": \"Edad=14<br>counts=%{r}<br>prosume_cluster=%{theta}<extra></extra>\", \"legendgroup\": \"Edad=14\", \"marker\": {\"color\": \"rgb(252,141,89)\"}, \"name\": \"Edad=14\", \"r\": [22, 4, 2], \"showlegend\": true, \"theta\": [\"cluster_2\", \"cluster_4\", \"cluster_5\"], \"type\": \"barpolar\", \"uid\": \"12b1c7d5-aa46-4734-a51b-a3765760a698\"}, {\"hovertemplate\": \"Edad=15<br>counts=%{r}<br>prosume_cluster=%{theta}<extra></extra>\", \"legendgroup\": \"Edad=15\", \"marker\": {\"color\": \"rgb(254,224,139)\"}, \"name\": \"Edad=15\", \"r\": [16, 2], \"showlegend\": true, \"theta\": [\"cluster_2\", \"cluster_4\"], \"type\": \"barpolar\", \"uid\": \"7f622e23-0d2c-4496-a5aa-f239c0813273\"}, {\"hovertemplate\": \"Edad=16<br>counts=%{r}<br>prosume_cluster=%{theta}<extra></extra>\", \"legendgroup\": \"Edad=16\", \"marker\": {\"color\": \"rgb(230,245,152)\"}, \"name\": \"Edad=16\", \"r\": [7, 2, 1], \"showlegend\": true, \"theta\": [\"cluster_2\", \"cluster_4\", \"cluster_5\"], \"type\": \"barpolar\", \"uid\": \"78b1df89-4156-473c-baa7-3046d576ec84\"}, {\"hovertemplate\": \"Edad=17<br>counts=%{r}<br>prosume_cluster=%{theta}<extra></extra>\", \"legendgroup\": \"Edad=17\", \"marker\": {\"color\": \"rgb(153,213,148)\"}, \"name\": \"Edad=17\", \"r\": [2, 2, 1], \"showlegend\": true, \"theta\": [\"cluster_2\", \"cluster_4\", \"cluster_5\"], \"type\": \"barpolar\", \"uid\": \"b397636f-731a-4202-bfb0-3001372feb8c\"}, {\"hovertemplate\": \"Edad=18<br>counts=%{r}<br>prosume_cluster=%{theta}<extra></extra>\", \"legendgroup\": \"Edad=18\", \"marker\": {\"color\": \"rgb(50,136,189)\"}, \"name\": \"Edad=18\", \"r\": [7, 3, 1], \"showlegend\": true, \"theta\": [\"cluster_2\", \"cluster_4\", \"cluster_5\"], \"type\": \"barpolar\", \"uid\": \"f10f12c8-09de-4b64-bf83-e1d95d1a67ac\"}, {\"hovertemplate\": \"Edad=19<br>counts=%{r}<br>prosume_cluster=%{theta}<extra></extra>\", \"legendgroup\": \"Edad=19\", \"marker\": {\"color\": \"rgb(213,62,79)\"}, \"name\": \"Edad=19\", \"r\": [2, 6, 4], \"showlegend\": true, \"theta\": [\"cluster_2\", \"cluster_4\", \"cluster_5\"], \"type\": \"barpolar\", \"uid\": \"270a158e-70cc-49a6-9913-93e9c316b13e\"}, {\"hovertemplate\": \"Edad=20<br>counts=%{r}<br>prosume_cluster=%{theta}<extra></extra>\", \"legendgroup\": \"Edad=20\", \"marker\": {\"color\": \"rgb(252,141,89)\"}, \"name\": \"Edad=20\", \"r\": [1, 4, 6], \"showlegend\": true, \"theta\": [\"cluster_2\", \"cluster_4\", \"cluster_5\"], \"type\": \"barpolar\", \"uid\": \"37c6c089-f572-477c-9a7c-c72afd22ea51\"}, {\"hovertemplate\": \"Edad=21<br>counts=%{r}<br>prosume_cluster=%{theta}<extra></extra>\", \"legendgroup\": \"Edad=21\", \"marker\": {\"color\": \"rgb(254,224,139)\"}, \"name\": \"Edad=21\", \"r\": [1, 4, 1, 7, 11], \"showlegend\": true, \"theta\": [\"cluster_1\", \"cluster_2\", \"cluster_3\", \"cluster_4\", \"cluster_5\"], \"type\": \"barpolar\", \"uid\": \"4dbe0958-126b-40d1-b0bb-ddc704c17a94\"}, {\"hovertemplate\": \"Edad=22<br>counts=%{r}<br>prosume_cluster=%{theta}<extra></extra>\", \"legendgroup\": \"Edad=22\", \"marker\": {\"color\": \"rgb(230,245,152)\"}, \"name\": \"Edad=22\", \"r\": [1, 2, 8, 5], \"showlegend\": true, \"theta\": [\"cluster_1\", \"cluster_2\", \"cluster_4\", \"cluster_5\"], \"type\": \"barpolar\", \"uid\": \"8aeefcef-76b6-4dad-9215-8f6fd4585026\"}, {\"hovertemplate\": \"Edad=23<br>counts=%{r}<br>prosume_cluster=%{theta}<extra></extra>\", \"legendgroup\": \"Edad=23\", \"marker\": {\"color\": \"rgb(153,213,148)\"}, \"name\": \"Edad=23\", \"r\": [2, 2, 5, 6, 5], \"showlegend\": true, \"theta\": [\"cluster_1\", \"cluster_2\", \"cluster_3\", \"cluster_4\", \"cluster_5\"], \"type\": \"barpolar\", \"uid\": \"224cb360-6c6c-4aca-af26-27d92840563e\"}, {\"hovertemplate\": \"Edad=24<br>counts=%{r}<br>prosume_cluster=%{theta}<extra></extra>\", \"legendgroup\": \"Edad=24\", \"marker\": {\"color\": \"rgb(50,136,189)\"}, \"name\": \"Edad=24\", \"r\": [3, 5, 19, 1, 11], \"showlegend\": true, \"theta\": [\"cluster_1\", \"cluster_2\", \"cluster_3\", \"cluster_4\", \"cluster_5\"], \"type\": \"barpolar\", \"uid\": \"5d64c873-ed47-4314-97e1-9fa758043997\"}, {\"hovertemplate\": \"Edad=25<br>counts=%{r}<br>prosume_cluster=%{theta}<extra></extra>\", \"legendgroup\": \"Edad=25\", \"marker\": {\"color\": \"rgb(213,62,79)\"}, \"name\": \"Edad=25\", \"r\": [4, 2, 3, 4, 8], \"showlegend\": true, \"theta\": [\"cluster_1\", \"cluster_2\", \"cluster_3\", \"cluster_4\", \"cluster_5\"], \"type\": \"barpolar\", \"uid\": \"5b065567-24f2-4bd2-a3fd-c5a0a364bce2\"}, {\"hovertemplate\": \"Edad=26<br>counts=%{r}<br>prosume_cluster=%{theta}<extra></extra>\", \"legendgroup\": \"Edad=26\", \"marker\": {\"color\": \"rgb(252,141,89)\"}, \"name\": \"Edad=26\", \"r\": [6, 4, 7, 1, 13], \"showlegend\": true, \"theta\": [\"cluster_1\", \"cluster_2\", \"cluster_3\", \"cluster_4\", \"cluster_5\"], \"type\": \"barpolar\", \"uid\": \"bbb9095d-20c7-438b-9dab-ef5cc8be7dbe\"}, {\"hovertemplate\": \"Edad=27<br>counts=%{r}<br>prosume_cluster=%{theta}<extra></extra>\", \"legendgroup\": \"Edad=27\", \"marker\": {\"color\": \"rgb(254,224,139)\"}, \"name\": \"Edad=27\", \"r\": [2, 4, 12, 3, 17], \"showlegend\": true, \"theta\": [\"cluster_1\", \"cluster_2\", \"cluster_3\", \"cluster_4\", \"cluster_5\"], \"type\": \"barpolar\", \"uid\": \"a1b755fa-b16d-4e1f-a155-005f9c170f15\"}, {\"hovertemplate\": \"Edad=28<br>counts=%{r}<br>prosume_cluster=%{theta}<extra></extra>\", \"legendgroup\": \"Edad=28\", \"marker\": {\"color\": \"rgb(230,245,152)\"}, \"name\": \"Edad=28\", \"r\": [2, 6, 13, 3, 15], \"showlegend\": true, \"theta\": [\"cluster_1\", \"cluster_2\", \"cluster_3\", \"cluster_4\", \"cluster_5\"], \"type\": \"barpolar\", \"uid\": \"5f113996-deaa-416f-a191-94d9b8b2b021\"}, {\"hovertemplate\": \"Edad=29<br>counts=%{r}<br>prosume_cluster=%{theta}<extra></extra>\", \"legendgroup\": \"Edad=29\", \"marker\": {\"color\": \"rgb(153,213,148)\"}, \"name\": \"Edad=29\", \"r\": [1, 5, 12, 3, 11], \"showlegend\": true, \"theta\": [\"cluster_1\", \"cluster_2\", \"cluster_3\", \"cluster_4\", \"cluster_5\"], \"type\": \"barpolar\", \"uid\": \"fe2eb30f-f2a6-4431-ac4e-188055379274\"}, {\"hovertemplate\": \"Edad=30<br>counts=%{r}<br>prosume_cluster=%{theta}<extra></extra>\", \"legendgroup\": \"Edad=30\", \"marker\": {\"color\": \"rgb(50,136,189)\"}, \"name\": \"Edad=30\", \"r\": [4, 12, 6, 5, 11], \"showlegend\": true, \"theta\": [\"cluster_1\", \"cluster_2\", \"cluster_3\", \"cluster_4\", \"cluster_5\"], \"type\": \"barpolar\", \"uid\": \"61df5275-128c-47c1-9e67-2bf60fb2fbab\"}, {\"hovertemplate\": \"Edad=31<br>counts=%{r}<br>prosume_cluster=%{theta}<extra></extra>\", \"legendgroup\": \"Edad=31\", \"marker\": {\"color\": \"rgb(213,62,79)\"}, \"name\": \"Edad=31\", \"r\": [2, 6, 1, 7, 8], \"showlegend\": true, \"theta\": [\"cluster_1\", \"cluster_2\", \"cluster_3\", \"cluster_4\", \"cluster_5\"], \"type\": \"barpolar\", \"uid\": \"c8153ed4-7856-497c-8933-59ed6d889b3b\"}, {\"hovertemplate\": \"Edad=32<br>counts=%{r}<br>prosume_cluster=%{theta}<extra></extra>\", \"legendgroup\": \"Edad=32\", \"marker\": {\"color\": \"rgb(252,141,89)\"}, \"name\": \"Edad=32\", \"r\": [1, 9, 2, 4, 8], \"showlegend\": true, \"theta\": [\"cluster_1\", \"cluster_2\", \"cluster_3\", \"cluster_4\", \"cluster_5\"], \"type\": \"barpolar\", \"uid\": \"a26cd114-11fe-4a28-97fe-9217dbf6a606\"}, {\"hovertemplate\": \"Edad=33<br>counts=%{r}<br>prosume_cluster=%{theta}<extra></extra>\", \"legendgroup\": \"Edad=33\", \"marker\": {\"color\": \"rgb(254,224,139)\"}, \"name\": \"Edad=33\", \"r\": [3, 7, 2, 1, 11], \"showlegend\": true, \"theta\": [\"cluster_1\", \"cluster_2\", \"cluster_3\", \"cluster_4\", \"cluster_5\"], \"type\": \"barpolar\", \"uid\": \"fca3d6e1-e9a8-439d-87db-0c2aee18ad22\"}, {\"hovertemplate\": \"Edad=34<br>counts=%{r}<br>prosume_cluster=%{theta}<extra></extra>\", \"legendgroup\": \"Edad=34\", \"marker\": {\"color\": \"rgb(230,245,152)\"}, \"name\": \"Edad=34\", \"r\": [9, 2, 1, 14], \"showlegend\": true, \"theta\": [\"cluster_2\", \"cluster_3\", \"cluster_4\", \"cluster_5\"], \"type\": \"barpolar\", \"uid\": \"70b415be-3420-4910-9401-3690cec8999a\"}, {\"hovertemplate\": \"Edad=35<br>counts=%{r}<br>prosume_cluster=%{theta}<extra></extra>\", \"legendgroup\": \"Edad=35\", \"marker\": {\"color\": \"rgb(153,213,148)\"}, \"name\": \"Edad=35\", \"r\": [1, 6, 2, 3, 16], \"showlegend\": true, \"theta\": [\"cluster_1\", \"cluster_2\", \"cluster_3\", \"cluster_4\", \"cluster_5\"], \"type\": \"barpolar\", \"uid\": \"68f13018-85ee-4d5c-aaf0-da4f7fc586e8\"}, {\"hovertemplate\": \"Edad=36<br>counts=%{r}<br>prosume_cluster=%{theta}<extra></extra>\", \"legendgroup\": \"Edad=36\", \"marker\": {\"color\": \"rgb(50,136,189)\"}, \"name\": \"Edad=36\", \"r\": [3, 2, 3, 9], \"showlegend\": true, \"theta\": [\"cluster_2\", \"cluster_3\", \"cluster_4\", \"cluster_5\"], \"type\": \"barpolar\", \"uid\": \"571fdd29-9fff-4e2c-9b88-608990e02b50\"}, {\"hovertemplate\": \"Edad=37<br>counts=%{r}<br>prosume_cluster=%{theta}<extra></extra>\", \"legendgroup\": \"Edad=37\", \"marker\": {\"color\": \"rgb(213,62,79)\"}, \"name\": \"Edad=37\", \"r\": [3, 3, 12], \"showlegend\": true, \"theta\": [\"cluster_2\", \"cluster_3\", \"cluster_5\"], \"type\": \"barpolar\", \"uid\": \"034134b5-91f2-4ef8-97a9-5b090ce92d96\"}, {\"hovertemplate\": \"Edad=38<br>counts=%{r}<br>prosume_cluster=%{theta}<extra></extra>\", \"legendgroup\": \"Edad=38\", \"marker\": {\"color\": \"rgb(252,141,89)\"}, \"name\": \"Edad=38\", \"r\": [6, 1, 12], \"showlegend\": true, \"theta\": [\"cluster_2\", \"cluster_3\", \"cluster_5\"], \"type\": \"barpolar\", \"uid\": \"953b12e6-355c-4019-90fa-55bf8d08ef88\"}, {\"hovertemplate\": \"Edad=39<br>counts=%{r}<br>prosume_cluster=%{theta}<extra></extra>\", \"legendgroup\": \"Edad=39\", \"marker\": {\"color\": \"rgb(254,224,139)\"}, \"name\": \"Edad=39\", \"r\": [1, 1, 1, 12], \"showlegend\": true, \"theta\": [\"cluster_2\", \"cluster_3\", \"cluster_4\", \"cluster_5\"], \"type\": \"barpolar\", \"uid\": \"32d6716d-47fd-4e2a-ac72-14e2e87535ae\"}, {\"hovertemplate\": \"Edad=40<br>counts=%{r}<br>prosume_cluster=%{theta}<extra></extra>\", \"legendgroup\": \"Edad=40\", \"marker\": {\"color\": \"rgb(230,245,152)\"}, \"name\": \"Edad=40\", \"r\": [3, 2, 4], \"showlegend\": true, \"theta\": [\"cluster_2\", \"cluster_3\", \"cluster_5\"], \"type\": \"barpolar\", \"uid\": \"2636285a-b892-422e-8428-461e9ae709fb\"}, {\"hovertemplate\": \"Edad=41<br>counts=%{r}<br>prosume_cluster=%{theta}<extra></extra>\", \"legendgroup\": \"Edad=41\", \"marker\": {\"color\": \"rgb(153,213,148)\"}, \"name\": \"Edad=41\", \"r\": [1, 2, 6], \"showlegend\": true, \"theta\": [\"cluster_2\", \"cluster_4\", \"cluster_5\"], \"type\": \"barpolar\", \"uid\": \"f030323b-09a1-4f7b-970f-5a4dc4534730\"}, {\"hovertemplate\": \"Edad=42<br>counts=%{r}<br>prosume_cluster=%{theta}<extra></extra>\", \"legendgroup\": \"Edad=42\", \"marker\": {\"color\": \"rgb(50,136,189)\"}, \"name\": \"Edad=42\", \"r\": [1, 1, 1, 9], \"showlegend\": true, \"theta\": [\"cluster_1\", \"cluster_3\", \"cluster_4\", \"cluster_5\"], \"type\": \"barpolar\", \"uid\": \"db585552-0006-4c32-94ed-51a029152f04\"}, {\"hovertemplate\": \"Edad=43<br>counts=%{r}<br>prosume_cluster=%{theta}<extra></extra>\", \"legendgroup\": \"Edad=43\", \"marker\": {\"color\": \"rgb(213,62,79)\"}, \"name\": \"Edad=43\", \"r\": [3, 1, 8], \"showlegend\": true, \"theta\": [\"cluster_2\", \"cluster_4\", \"cluster_5\"], \"type\": \"barpolar\", \"uid\": \"3bcac033-7a8c-4865-ba0f-5f1e3c4e1294\"}, {\"hovertemplate\": \"Edad=44<br>counts=%{r}<br>prosume_cluster=%{theta}<extra></extra>\", \"legendgroup\": \"Edad=44\", \"marker\": {\"color\": \"rgb(252,141,89)\"}, \"name\": \"Edad=44\", \"r\": [3, 1, 4], \"showlegend\": true, \"theta\": [\"cluster_2\", \"cluster_4\", \"cluster_5\"], \"type\": \"barpolar\", \"uid\": \"345727c3-2334-4b9e-ad5e-90a67747261d\"}, {\"hovertemplate\": \"Edad=45<br>counts=%{r}<br>prosume_cluster=%{theta}<extra></extra>\", \"legendgroup\": \"Edad=45\", \"marker\": {\"color\": \"rgb(254,224,139)\"}, \"name\": \"Edad=45\", \"r\": [2, 6], \"showlegend\": true, \"theta\": [\"cluster_2\", \"cluster_5\"], \"type\": \"barpolar\", \"uid\": \"6c58af0f-b4a6-44c3-a950-837213b48b57\"}, {\"hovertemplate\": \"Edad=46<br>counts=%{r}<br>prosume_cluster=%{theta}<extra></extra>\", \"legendgroup\": \"Edad=46\", \"marker\": {\"color\": \"rgb(230,245,152)\"}, \"name\": \"Edad=46\", \"r\": [5, 10], \"showlegend\": true, \"theta\": [\"cluster_2\", \"cluster_5\"], \"type\": \"barpolar\", \"uid\": \"0d4b207e-3e8e-4a2e-a86f-f7ab3a0f48cf\"}, {\"hovertemplate\": \"Edad=47<br>counts=%{r}<br>prosume_cluster=%{theta}<extra></extra>\", \"legendgroup\": \"Edad=47\", \"marker\": {\"color\": \"rgb(153,213,148)\"}, \"name\": \"Edad=47\", \"r\": [2, 3, 4], \"showlegend\": true, \"theta\": [\"cluster_2\", \"cluster_4\", \"cluster_5\"], \"type\": \"barpolar\", \"uid\": \"024b89bb-f8bc-4f69-9257-c3623ebd9cd7\"}, {\"hovertemplate\": \"Edad=48<br>counts=%{r}<br>prosume_cluster=%{theta}<extra></extra>\", \"legendgroup\": \"Edad=48\", \"marker\": {\"color\": \"rgb(50,136,189)\"}, \"name\": \"Edad=48\", \"r\": [2, 1, 2], \"showlegend\": true, \"theta\": [\"cluster_2\", \"cluster_3\", \"cluster_5\"], \"type\": \"barpolar\", \"uid\": \"1a8e5eff-f97e-48a5-b383-be4430775925\"}, {\"hovertemplate\": \"Edad=49<br>counts=%{r}<br>prosume_cluster=%{theta}<extra></extra>\", \"legendgroup\": \"Edad=49\", \"marker\": {\"color\": \"rgb(213,62,79)\"}, \"name\": \"Edad=49\", \"r\": [1, 1, 2], \"showlegend\": true, \"theta\": [\"cluster_2\", \"cluster_4\", \"cluster_5\"], \"type\": \"barpolar\", \"uid\": \"18cccf81-f65e-44e7-9f60-84ffb6547b7b\"}, {\"hovertemplate\": \"Edad=50<br>counts=%{r}<br>prosume_cluster=%{theta}<extra></extra>\", \"legendgroup\": \"Edad=50\", \"marker\": {\"color\": \"rgb(252,141,89)\"}, \"name\": \"Edad=50\", \"r\": [1, 1, 1, 3], \"showlegend\": true, \"theta\": [\"cluster_1\", \"cluster_2\", \"cluster_3\", \"cluster_5\"], \"type\": \"barpolar\", \"uid\": \"526e2dde-cdc2-4b05-9abb-7016661e3e7e\"}, {\"hovertemplate\": \"Edad=51<br>counts=%{r}<br>prosume_cluster=%{theta}<extra></extra>\", \"legendgroup\": \"Edad=51\", \"marker\": {\"color\": \"rgb(254,224,139)\"}, \"name\": \"Edad=51\", \"r\": [6], \"showlegend\": true, \"theta\": [\"cluster_5\"], \"type\": \"barpolar\", \"uid\": \"94aa17f8-37b1-4fc7-90ff-ea714a5aa8b8\"}, {\"hovertemplate\": \"Edad=52<br>counts=%{r}<br>prosume_cluster=%{theta}<extra></extra>\", \"legendgroup\": \"Edad=52\", \"marker\": {\"color\": \"rgb(230,245,152)\"}, \"name\": \"Edad=52\", \"r\": [1, 1], \"showlegend\": true, \"theta\": [\"cluster_1\", \"cluster_5\"], \"type\": \"barpolar\", \"uid\": \"4637b9c6-e347-4324-9e6d-241aaf7b3c24\"}, {\"hovertemplate\": \"Edad=53<br>counts=%{r}<br>prosume_cluster=%{theta}<extra></extra>\", \"legendgroup\": \"Edad=53\", \"marker\": {\"color\": \"rgb(153,213,148)\"}, \"name\": \"Edad=53\", \"r\": [2, 1, 5], \"showlegend\": true, \"theta\": [\"cluster_2\", \"cluster_4\", \"cluster_5\"], \"type\": \"barpolar\", \"uid\": \"389106ad-4f15-4e35-8776-209f86a170f8\"}, {\"hovertemplate\": \"Edad=54<br>counts=%{r}<br>prosume_cluster=%{theta}<extra></extra>\", \"legendgroup\": \"Edad=54\", \"marker\": {\"color\": \"rgb(50,136,189)\"}, \"name\": \"Edad=54\", \"r\": [4], \"showlegend\": true, \"theta\": [\"cluster_5\"], \"type\": \"barpolar\", \"uid\": \"0ba41a22-2a49-4bab-a257-6bfbaac950fe\"}, {\"hovertemplate\": \"Edad=55<br>counts=%{r}<br>prosume_cluster=%{theta}<extra></extra>\", \"legendgroup\": \"Edad=55\", \"marker\": {\"color\": \"rgb(213,62,79)\"}, \"name\": \"Edad=55\", \"r\": [1, 6], \"showlegend\": true, \"theta\": [\"cluster_2\", \"cluster_5\"], \"type\": \"barpolar\", \"uid\": \"616ff242-328f-4383-b46b-1771f4b5a75b\"}, {\"hovertemplate\": \"Edad=56<br>counts=%{r}<br>prosume_cluster=%{theta}<extra></extra>\", \"legendgroup\": \"Edad=56\", \"marker\": {\"color\": \"rgb(252,141,89)\"}, \"name\": \"Edad=56\", \"r\": [1, 4], \"showlegend\": true, \"theta\": [\"cluster_1\", \"cluster_5\"], \"type\": \"barpolar\", \"uid\": \"670d234e-0caa-4423-aa8e-e3aa02bed679\"}, {\"hovertemplate\": \"Edad=57<br>counts=%{r}<br>prosume_cluster=%{theta}<extra></extra>\", \"legendgroup\": \"Edad=57\", \"marker\": {\"color\": \"rgb(254,224,139)\"}, \"name\": \"Edad=57\", \"r\": [2, 4], \"showlegend\": true, \"theta\": [\"cluster_2\", \"cluster_5\"], \"type\": \"barpolar\", \"uid\": \"a68ca7d5-e50a-4b98-831c-cc7fea92ce9b\"}, {\"hovertemplate\": \"Edad=58<br>counts=%{r}<br>prosume_cluster=%{theta}<extra></extra>\", \"legendgroup\": \"Edad=58\", \"marker\": {\"color\": \"rgb(230,245,152)\"}, \"name\": \"Edad=58\", \"r\": [1], \"showlegend\": true, \"theta\": [\"cluster_5\"], \"type\": \"barpolar\", \"uid\": \"a662cb37-d3df-4025-9906-798966165604\"}, {\"hovertemplate\": \"Edad=59<br>counts=%{r}<br>prosume_cluster=%{theta}<extra></extra>\", \"legendgroup\": \"Edad=59\", \"marker\": {\"color\": \"rgb(153,213,148)\"}, \"name\": \"Edad=59\", \"r\": [2], \"showlegend\": true, \"theta\": [\"cluster_5\"], \"type\": \"barpolar\", \"uid\": \"eef6c3d7-0804-4da6-ac56-4150a0c0e680\"}, {\"hovertemplate\": \"Edad=60<br>counts=%{r}<br>prosume_cluster=%{theta}<extra></extra>\", \"legendgroup\": \"Edad=60\", \"marker\": {\"color\": \"rgb(50,136,189)\"}, \"name\": \"Edad=60\", \"r\": [3, 1, 1], \"showlegend\": true, \"theta\": [\"cluster_2\", \"cluster_4\", \"cluster_5\"], \"type\": \"barpolar\", \"uid\": \"a66557c0-8ee5-41ad-b80c-2dba87385a62\"}, {\"hovertemplate\": \"Edad=61<br>counts=%{r}<br>prosume_cluster=%{theta}<extra></extra>\", \"legendgroup\": \"Edad=61\", \"marker\": {\"color\": \"rgb(213,62,79)\"}, \"name\": \"Edad=61\", \"r\": [3], \"showlegend\": true, \"theta\": [\"cluster_5\"], \"type\": \"barpolar\", \"uid\": \"088a2172-a20d-4ba0-8b0b-f212720112a3\"}, {\"hovertemplate\": \"Edad=62<br>counts=%{r}<br>prosume_cluster=%{theta}<extra></extra>\", \"legendgroup\": \"Edad=62\", \"marker\": {\"color\": \"rgb(252,141,89)\"}, \"name\": \"Edad=62\", \"r\": [2, 5], \"showlegend\": true, \"theta\": [\"cluster_2\", \"cluster_5\"], \"type\": \"barpolar\", \"uid\": \"6a9ee6ff-c806-47ce-92bb-9ac935c1c1c3\"}, {\"hovertemplate\": \"Edad=63<br>counts=%{r}<br>prosume_cluster=%{theta}<extra></extra>\", \"legendgroup\": \"Edad=63\", \"marker\": {\"color\": \"rgb(254,224,139)\"}, \"name\": \"Edad=63\", \"r\": [1], \"showlegend\": true, \"theta\": [\"cluster_2\"], \"type\": \"barpolar\", \"uid\": \"83f975c2-67d5-45db-80d3-645e39ec6787\"}, {\"hovertemplate\": \"Edad=64<br>counts=%{r}<br>prosume_cluster=%{theta}<extra></extra>\", \"legendgroup\": \"Edad=64\", \"marker\": {\"color\": \"rgb(230,245,152)\"}, \"name\": \"Edad=64\", \"r\": [1, 2], \"showlegend\": true, \"theta\": [\"cluster_3\", \"cluster_5\"], \"type\": \"barpolar\", \"uid\": \"1e5bbb75-7e9e-4fb5-abd4-483fcef0af59\"}, {\"hovertemplate\": \"Edad=65<br>counts=%{r}<br>prosume_cluster=%{theta}<extra></extra>\", \"legendgroup\": \"Edad=65\", \"marker\": {\"color\": \"rgb(153,213,148)\"}, \"name\": \"Edad=65\", \"r\": [1, 1], \"showlegend\": true, \"theta\": [\"cluster_4\", \"cluster_5\"], \"type\": \"barpolar\", \"uid\": \"5b5955b0-01a3-49c2-aa31-89d41a58d9c3\"}, {\"hovertemplate\": \"Edad=66<br>counts=%{r}<br>prosume_cluster=%{theta}<extra></extra>\", \"legendgroup\": \"Edad=66\", \"marker\": {\"color\": \"rgb(50,136,189)\"}, \"name\": \"Edad=66\", \"r\": [1, 1], \"showlegend\": true, \"theta\": [\"cluster_2\", \"cluster_5\"], \"type\": \"barpolar\", \"uid\": \"5a83d8a2-6a1c-4328-ae38-52c3869cf7b3\"}, {\"hovertemplate\": \"Edad=67<br>counts=%{r}<br>prosume_cluster=%{theta}<extra></extra>\", \"legendgroup\": \"Edad=67\", \"marker\": {\"color\": \"rgb(213,62,79)\"}, \"name\": \"Edad=67\", \"r\": [2, 2], \"showlegend\": true, \"theta\": [\"cluster_2\", \"cluster_5\"], \"type\": \"barpolar\", \"uid\": \"44157477-52b5-4331-9b5b-b521dd5102a5\"}, {\"hovertemplate\": \"Edad=68<br>counts=%{r}<br>prosume_cluster=%{theta}<extra></extra>\", \"legendgroup\": \"Edad=68\", \"marker\": {\"color\": \"rgb(252,141,89)\"}, \"name\": \"Edad=68\", \"r\": [1], \"showlegend\": true, \"theta\": [\"cluster_4\"], \"type\": \"barpolar\", \"uid\": \"0604523f-5673-4627-a910-75dd523fd9ad\"}, {\"hovertemplate\": \"Edad=69<br>counts=%{r}<br>prosume_cluster=%{theta}<extra></extra>\", \"legendgroup\": \"Edad=69\", \"marker\": {\"color\": \"rgb(254,224,139)\"}, \"name\": \"Edad=69\", \"r\": [1, 1], \"showlegend\": true, \"theta\": [\"cluster_2\", \"cluster_5\"], \"type\": \"barpolar\", \"uid\": \"9be7b06b-da71-4073-92e2-d8b740122cb8\"}, {\"hovertemplate\": \"Edad=70<br>counts=%{r}<br>prosume_cluster=%{theta}<extra></extra>\", \"legendgroup\": \"Edad=70\", \"marker\": {\"color\": \"rgb(230,245,152)\"}, \"name\": \"Edad=70\", \"r\": [1], \"showlegend\": true, \"theta\": [\"cluster_5\"], \"type\": \"barpolar\", \"uid\": \"a914131e-aefe-4ac3-b190-f47f2dd479bc\"}, {\"hovertemplate\": \"Edad=71<br>counts=%{r}<br>prosume_cluster=%{theta}<extra></extra>\", \"legendgroup\": \"Edad=71\", \"marker\": {\"color\": \"rgb(153,213,148)\"}, \"name\": \"Edad=71\", \"r\": [1], \"showlegend\": true, \"theta\": [\"cluster_2\"], \"type\": \"barpolar\", \"uid\": \"e56aa00f-6165-43d0-8981-d52ff774e782\"}, {\"hovertemplate\": \"Edad=73<br>counts=%{r}<br>prosume_cluster=%{theta}<extra></extra>\", \"legendgroup\": \"Edad=73\", \"marker\": {\"color\": \"rgb(50,136,189)\"}, \"name\": \"Edad=73\", \"r\": [1], \"showlegend\": true, \"theta\": [\"cluster_5\"], \"type\": \"barpolar\", \"uid\": \"9aa6c0a9-dd65-4bca-bff3-cb158bd829d1\"}, {\"hovertemplate\": \"Edad=78<br>counts=%{r}<br>prosume_cluster=%{theta}<extra></extra>\", \"legendgroup\": \"Edad=78\", \"marker\": {\"color\": \"rgb(213,62,79)\"}, \"name\": \"Edad=78\", \"r\": [1], \"showlegend\": true, \"theta\": [\"cluster_5\"], \"type\": \"barpolar\", \"uid\": \"cd6ec7f5-ea63-4fb6-a834-c06a3579203c\"}, {\"hovertemplate\": \"Edad=81<br>counts=%{r}<br>prosume_cluster=%{theta}<extra></extra>\", \"legendgroup\": \"Edad=81\", \"marker\": {\"color\": \"rgb(252,141,89)\"}, \"name\": \"Edad=81\", \"r\": [2], \"showlegend\": true, \"theta\": [\"cluster_5\"], \"type\": \"barpolar\", \"uid\": \"13bbb795-a3ed-4841-ad81-f624d29831d9\"}], {\"barmode\": \"group\", \"barnorm\": \"\", \"height\": 600, \"legend\": {\"tracegroupgap\": 0}, \"margin\": {\"t\": 60}, \"template\": {\"data\": {\"barpolar\": [{\"marker\": {\"line\": {\"color\": \"#E5ECF6\", \"width\": 0.5}}, \"type\": \"barpolar\"}], \"bar\": [{\"marker\": {\"line\": {\"color\": \"#E5ECF6\", \"width\": 0.5}}, \"type\": \"bar\"}], \"carpet\": [{\"aaxis\": {\"endlinecolor\": \"#2a3f5f\", \"gridcolor\": \"white\", \"linecolor\": \"white\", \"minorgridcolor\": \"white\", \"startlinecolor\": \"#2a3f5f\"}, \"baxis\": {\"endlinecolor\": \"#2a3f5f\", \"gridcolor\": \"white\", \"linecolor\": \"white\", \"minorgridcolor\": \"white\", \"startlinecolor\": \"#2a3f5f\"}, \"type\": \"carpet\"}], \"choropleth\": [{\"colorbar\": {\"outlinewidth\": 0, \"ticks\": \"\"}, \"type\": \"choropleth\"}], \"contourcarpet\": [{\"colorbar\": {\"outlinewidth\": 0, \"ticks\": \"\"}, \"type\": \"contourcarpet\"}], \"contour\": [{\"autocolorscale\": true, \"colorbar\": {\"outlinewidth\": 0, \"ticks\": \"\"}, \"type\": \"contour\"}], \"heatmapgl\": [{\"colorbar\": {\"outlinewidth\": 0, \"ticks\": \"\"}, \"type\": \"heatmapgl\"}], \"heatmap\": [{\"autocolorscale\": true, \"colorbar\": {\"outlinewidth\": 0, \"ticks\": \"\"}, \"type\": \"heatmap\"}], \"histogram2dcontour\": [{\"autocolorscale\": true, \"colorbar\": {\"outlinewidth\": 0, \"ticks\": \"\"}, \"type\": \"histogram2dcontour\"}], \"histogram2d\": [{\"autocolorscale\": true, \"colorbar\": {\"outlinewidth\": 0, \"ticks\": \"\"}, \"type\": \"histogram2d\"}], \"histogram\": [{\"marker\": {\"colorbar\": {\"outlinewidth\": 0, \"ticks\": \"\"}}, \"type\": \"histogram\"}], \"mesh3d\": [{\"colorbar\": {\"outlinewidth\": 0, \"ticks\": \"\"}, \"type\": \"mesh3d\"}], \"parcoords\": [{\"line\": {\"colorbar\": {\"outlinewidth\": 0, \"ticks\": \"\"}}, \"type\": \"parcoords\"}], \"scatter3d\": [{\"marker\": {\"colorbar\": {\"outlinewidth\": 0, \"ticks\": \"\"}}, \"type\": \"scatter3d\"}], \"scattercarpet\": [{\"marker\": {\"colorbar\": {\"outlinewidth\": 0, \"ticks\": \"\"}}, \"type\": \"scattercarpet\"}], \"scattergeo\": [{\"marker\": {\"colorbar\": {\"outlinewidth\": 0, \"ticks\": \"\"}}, \"type\": \"scattergeo\"}], \"scattergl\": [{\"marker\": {\"colorbar\": {\"outlinewidth\": 0, \"ticks\": \"\"}}, \"type\": \"scattergl\"}], \"scattermapbox\": [{\"marker\": {\"colorbar\": {\"outlinewidth\": 0, \"ticks\": \"\"}}, \"type\": \"scattermapbox\"}], \"scatterpolargl\": [{\"marker\": {\"colorbar\": {\"outlinewidth\": 0, \"ticks\": \"\"}}, \"type\": \"scatterpolargl\"}], \"scatterpolar\": [{\"marker\": {\"colorbar\": {\"outlinewidth\": 0, \"ticks\": \"\"}}, \"type\": \"scatterpolar\"}], \"scatter\": [{\"marker\": {\"colorbar\": {\"outlinewidth\": 0, \"ticks\": \"\"}}, \"type\": \"scatter\"}], \"scatterternary\": [{\"marker\": {\"colorbar\": {\"outlinewidth\": 0, \"ticks\": \"\"}}, \"type\": \"scatterternary\"}], \"surface\": [{\"colorbar\": {\"outlinewidth\": 0, \"ticks\": \"\"}, \"type\": \"surface\"}], \"table\": [{\"cells\": {\"fill\": {\"color\": \"#EBF0F8\"}, \"line\": {\"color\": \"white\"}}, \"header\": {\"fill\": {\"color\": \"#C8D4E3\"}, \"line\": {\"color\": \"white\"}}, \"type\": \"table\"}]}, \"layout\": {\"annotationdefaults\": {\"arrowcolor\": \"#506784\", \"arrowhead\": 0, \"arrowwidth\": 1}, \"colorscale\": {\"diverging\": [[0, \"#8e0152\"], [0.1, \"#c51b7d\"], [0.2, \"#de77ae\"], [0.3, \"#f1b6da\"], [0.4, \"#fde0ef\"], [0.5, \"#f7f7f7\"], [0.6, \"#e6f5d0\"], [0.7, \"#b8e186\"], [0.8, \"#7fbc41\"], [0.9, \"#4d9221\"], [1, \"#276419\"]], \"sequential\": [[0.0, \"#0508b8\"], [0.0893854748603352, \"#1910d8\"], [0.1787709497206704, \"#3c19f0\"], [0.2681564245810056, \"#6b1cfb\"], [0.3575418994413408, \"#981cfd\"], [0.44692737430167595, \"#bf1cfd\"], [0.5363128491620112, \"#dd2bfd\"], [0.6256983240223464, \"#f246fe\"], [0.7150837988826816, \"#fc67fd\"], [0.8044692737430168, \"#fe88fc\"], [0.8938547486033519, \"#fea5fd\"], [0.9832402234636871, \"#febefe\"], [1.0, \"#fec3fe\"]], \"sequentialminus\": [[0.0, \"#0508b8\"], [0.0893854748603352, \"#1910d8\"], [0.1787709497206704, \"#3c19f0\"], [0.2681564245810056, \"#6b1cfb\"], [0.3575418994413408, \"#981cfd\"], [0.44692737430167595, \"#bf1cfd\"], [0.5363128491620112, \"#dd2bfd\"], [0.6256983240223464, \"#f246fe\"], [0.7150837988826816, \"#fc67fd\"], [0.8044692737430168, \"#fe88fc\"], [0.8938547486033519, \"#fea5fd\"], [0.9832402234636871, \"#febefe\"], [1.0, \"#fec3fe\"]]}, \"colorway\": [\"#636efa\", \"#EF553B\", \"#00cc96\", \"#ab63fa\", \"#19d3f3\", \"#e763fa\", \"#FECB52\", \"#FFA15A\", \"#FF6692\", \"#B6E880\"], \"font\": {\"color\": \"#2a3f5f\"}, \"geo\": {\"bgcolor\": \"white\", \"lakecolor\": \"white\", \"landcolor\": \"#E5ECF6\", \"showlakes\": true, \"showland\": true, \"subunitcolor\": \"white\"}, \"hovermode\": \"closest\", \"mapbox\": {\"style\": \"light\"}, \"paper_bgcolor\": \"white\", \"plot_bgcolor\": \"#E5ECF6\", \"polar\": {\"angularaxis\": {\"gridcolor\": \"white\", \"linecolor\": \"white\", \"ticks\": \"\"}, \"bgcolor\": \"#E5ECF6\", \"radialaxis\": {\"gridcolor\": \"white\", \"linecolor\": \"white\", \"ticks\": \"\"}}, \"scene\": {\"xaxis\": {\"backgroundcolor\": \"#E5ECF6\", \"gridcolor\": \"white\", \"gridwidth\": 2, \"linecolor\": \"white\", \"showbackground\": true, \"ticks\": \"\", \"zerolinecolor\": \"white\"}, \"yaxis\": {\"backgroundcolor\": \"#E5ECF6\", \"gridcolor\": \"white\", \"gridwidth\": 2, \"linecolor\": \"white\", \"showbackground\": true, \"ticks\": \"\", \"zerolinecolor\": \"white\"}, \"zaxis\": {\"backgroundcolor\": \"#E5ECF6\", \"gridcolor\": \"white\", \"gridwidth\": 2, \"linecolor\": \"white\", \"showbackground\": true, \"ticks\": \"\", \"zerolinecolor\": \"white\"}}, \"shapedefaults\": {\"fillcolor\": \"#506784\", \"line\": {\"width\": 0}, \"opacity\": 0.4}, \"ternary\": {\"aaxis\": {\"gridcolor\": \"white\", \"linecolor\": \"white\", \"ticks\": \"\"}, \"baxis\": {\"gridcolor\": \"white\", \"linecolor\": \"white\", \"ticks\": \"\"}, \"bgcolor\": \"#E5ECF6\", \"caxis\": {\"gridcolor\": \"white\", \"linecolor\": \"white\", \"ticks\": \"\"}}, \"title\": {\"x\": 0.05}, \"xaxis\": {\"automargin\": true, \"gridcolor\": \"white\", \"linecolor\": \"white\", \"ticks\": \"\", \"zerolinecolor\": \"white\", \"zerolinewidth\": 2}, \"yaxis\": {\"automargin\": true, \"gridcolor\": \"white\", \"linecolor\": \"white\", \"ticks\": \"\", \"zerolinecolor\": \"white\", \"zerolinewidth\": 2}}}, \"polar\": {\"angularaxis\": {\"direction\": \"clockwise\", \"rotation\": 90}}}, {\"showLink\": false, \"linkText\": \"Export to plot.ly\", \"plotlyServerURL\": \"https://plot.ly\"}); \n",
       "}\n",
       "});</script><script type=\"text/javascript\">window.addEventListener(\"resize\", function(){if (document.getElementById(\"353c8218-e52c-4f72-87bd-9ae8eea362c9\")) {window._Plotly.Plots.resize(document.getElementById(\"353c8218-e52c-4f72-87bd-9ae8eea362c9\"));};})</script>"
      ],
      "text/vnd.plotly.v1+html": [
       "<div id=\"353c8218-e52c-4f72-87bd-9ae8eea362c9\" style=\"height: 600px; width: 100%;\" class=\"plotly-graph-div\"></div><script type=\"text/javascript\">require([\"plotly\"], function(Plotly) { window.PLOTLYENV=window.PLOTLYENV || {};window.PLOTLYENV.BASE_URL=\"https://plot.ly\";\n",
       "if (document.getElementById(\"353c8218-e52c-4f72-87bd-9ae8eea362c9\")) {\n",
       "    Plotly.newPlot(\"353c8218-e52c-4f72-87bd-9ae8eea362c9\", [{\"hovertemplate\": \"Edad=13<br>counts=%{r}<br>prosume_cluster=%{theta}<extra></extra>\", \"legendgroup\": \"Edad=13\", \"marker\": {\"color\": \"rgb(213,62,79)\"}, \"name\": \"Edad=13\", \"r\": [4, 1], \"showlegend\": true, \"theta\": [\"cluster_2\", \"cluster_4\"], \"type\": \"barpolar\", \"uid\": \"0382c440-db13-43c5-9952-456f0e0bd416\"}, {\"hovertemplate\": \"Edad=14<br>counts=%{r}<br>prosume_cluster=%{theta}<extra></extra>\", \"legendgroup\": \"Edad=14\", \"marker\": {\"color\": \"rgb(252,141,89)\"}, \"name\": \"Edad=14\", \"r\": [22, 4, 2], \"showlegend\": true, \"theta\": [\"cluster_2\", \"cluster_4\", \"cluster_5\"], \"type\": \"barpolar\", \"uid\": \"12b1c7d5-aa46-4734-a51b-a3765760a698\"}, {\"hovertemplate\": \"Edad=15<br>counts=%{r}<br>prosume_cluster=%{theta}<extra></extra>\", \"legendgroup\": \"Edad=15\", \"marker\": {\"color\": \"rgb(254,224,139)\"}, \"name\": \"Edad=15\", \"r\": [16, 2], \"showlegend\": true, \"theta\": [\"cluster_2\", \"cluster_4\"], \"type\": \"barpolar\", \"uid\": \"7f622e23-0d2c-4496-a5aa-f239c0813273\"}, {\"hovertemplate\": \"Edad=16<br>counts=%{r}<br>prosume_cluster=%{theta}<extra></extra>\", \"legendgroup\": \"Edad=16\", \"marker\": {\"color\": \"rgb(230,245,152)\"}, \"name\": \"Edad=16\", \"r\": [7, 2, 1], \"showlegend\": true, \"theta\": [\"cluster_2\", \"cluster_4\", \"cluster_5\"], \"type\": \"barpolar\", \"uid\": \"78b1df89-4156-473c-baa7-3046d576ec84\"}, {\"hovertemplate\": \"Edad=17<br>counts=%{r}<br>prosume_cluster=%{theta}<extra></extra>\", \"legendgroup\": \"Edad=17\", \"marker\": {\"color\": \"rgb(153,213,148)\"}, \"name\": \"Edad=17\", \"r\": [2, 2, 1], \"showlegend\": true, \"theta\": [\"cluster_2\", \"cluster_4\", \"cluster_5\"], \"type\": \"barpolar\", \"uid\": \"b397636f-731a-4202-bfb0-3001372feb8c\"}, {\"hovertemplate\": \"Edad=18<br>counts=%{r}<br>prosume_cluster=%{theta}<extra></extra>\", \"legendgroup\": \"Edad=18\", \"marker\": {\"color\": \"rgb(50,136,189)\"}, \"name\": \"Edad=18\", \"r\": [7, 3, 1], \"showlegend\": true, \"theta\": [\"cluster_2\", \"cluster_4\", \"cluster_5\"], \"type\": \"barpolar\", \"uid\": \"f10f12c8-09de-4b64-bf83-e1d95d1a67ac\"}, {\"hovertemplate\": \"Edad=19<br>counts=%{r}<br>prosume_cluster=%{theta}<extra></extra>\", \"legendgroup\": \"Edad=19\", \"marker\": {\"color\": \"rgb(213,62,79)\"}, \"name\": \"Edad=19\", \"r\": [2, 6, 4], \"showlegend\": true, \"theta\": [\"cluster_2\", \"cluster_4\", \"cluster_5\"], \"type\": \"barpolar\", \"uid\": \"270a158e-70cc-49a6-9913-93e9c316b13e\"}, {\"hovertemplate\": \"Edad=20<br>counts=%{r}<br>prosume_cluster=%{theta}<extra></extra>\", \"legendgroup\": \"Edad=20\", \"marker\": {\"color\": \"rgb(252,141,89)\"}, \"name\": \"Edad=20\", \"r\": [1, 4, 6], \"showlegend\": true, \"theta\": [\"cluster_2\", \"cluster_4\", \"cluster_5\"], \"type\": \"barpolar\", \"uid\": \"37c6c089-f572-477c-9a7c-c72afd22ea51\"}, {\"hovertemplate\": \"Edad=21<br>counts=%{r}<br>prosume_cluster=%{theta}<extra></extra>\", \"legendgroup\": \"Edad=21\", \"marker\": {\"color\": \"rgb(254,224,139)\"}, \"name\": \"Edad=21\", \"r\": [1, 4, 1, 7, 11], \"showlegend\": true, \"theta\": [\"cluster_1\", \"cluster_2\", \"cluster_3\", \"cluster_4\", \"cluster_5\"], \"type\": \"barpolar\", \"uid\": \"4dbe0958-126b-40d1-b0bb-ddc704c17a94\"}, {\"hovertemplate\": \"Edad=22<br>counts=%{r}<br>prosume_cluster=%{theta}<extra></extra>\", \"legendgroup\": \"Edad=22\", \"marker\": {\"color\": \"rgb(230,245,152)\"}, \"name\": \"Edad=22\", \"r\": [1, 2, 8, 5], \"showlegend\": true, \"theta\": [\"cluster_1\", \"cluster_2\", \"cluster_4\", \"cluster_5\"], \"type\": \"barpolar\", \"uid\": \"8aeefcef-76b6-4dad-9215-8f6fd4585026\"}, {\"hovertemplate\": \"Edad=23<br>counts=%{r}<br>prosume_cluster=%{theta}<extra></extra>\", \"legendgroup\": \"Edad=23\", \"marker\": {\"color\": \"rgb(153,213,148)\"}, \"name\": \"Edad=23\", \"r\": [2, 2, 5, 6, 5], \"showlegend\": true, \"theta\": [\"cluster_1\", \"cluster_2\", \"cluster_3\", \"cluster_4\", \"cluster_5\"], \"type\": \"barpolar\", \"uid\": \"224cb360-6c6c-4aca-af26-27d92840563e\"}, {\"hovertemplate\": \"Edad=24<br>counts=%{r}<br>prosume_cluster=%{theta}<extra></extra>\", \"legendgroup\": \"Edad=24\", \"marker\": {\"color\": \"rgb(50,136,189)\"}, \"name\": \"Edad=24\", \"r\": [3, 5, 19, 1, 11], \"showlegend\": true, \"theta\": [\"cluster_1\", \"cluster_2\", \"cluster_3\", \"cluster_4\", \"cluster_5\"], \"type\": \"barpolar\", \"uid\": \"5d64c873-ed47-4314-97e1-9fa758043997\"}, {\"hovertemplate\": \"Edad=25<br>counts=%{r}<br>prosume_cluster=%{theta}<extra></extra>\", \"legendgroup\": \"Edad=25\", \"marker\": {\"color\": \"rgb(213,62,79)\"}, \"name\": \"Edad=25\", \"r\": [4, 2, 3, 4, 8], \"showlegend\": true, \"theta\": [\"cluster_1\", \"cluster_2\", \"cluster_3\", \"cluster_4\", \"cluster_5\"], \"type\": \"barpolar\", \"uid\": \"5b065567-24f2-4bd2-a3fd-c5a0a364bce2\"}, {\"hovertemplate\": \"Edad=26<br>counts=%{r}<br>prosume_cluster=%{theta}<extra></extra>\", \"legendgroup\": \"Edad=26\", \"marker\": {\"color\": \"rgb(252,141,89)\"}, \"name\": \"Edad=26\", \"r\": [6, 4, 7, 1, 13], \"showlegend\": true, \"theta\": [\"cluster_1\", \"cluster_2\", \"cluster_3\", \"cluster_4\", \"cluster_5\"], \"type\": \"barpolar\", \"uid\": \"bbb9095d-20c7-438b-9dab-ef5cc8be7dbe\"}, {\"hovertemplate\": \"Edad=27<br>counts=%{r}<br>prosume_cluster=%{theta}<extra></extra>\", \"legendgroup\": \"Edad=27\", \"marker\": {\"color\": \"rgb(254,224,139)\"}, \"name\": \"Edad=27\", \"r\": [2, 4, 12, 3, 17], \"showlegend\": true, \"theta\": [\"cluster_1\", \"cluster_2\", \"cluster_3\", \"cluster_4\", \"cluster_5\"], \"type\": \"barpolar\", \"uid\": \"a1b755fa-b16d-4e1f-a155-005f9c170f15\"}, {\"hovertemplate\": \"Edad=28<br>counts=%{r}<br>prosume_cluster=%{theta}<extra></extra>\", \"legendgroup\": \"Edad=28\", \"marker\": {\"color\": \"rgb(230,245,152)\"}, \"name\": \"Edad=28\", \"r\": [2, 6, 13, 3, 15], \"showlegend\": true, \"theta\": [\"cluster_1\", \"cluster_2\", \"cluster_3\", \"cluster_4\", \"cluster_5\"], \"type\": \"barpolar\", \"uid\": \"5f113996-deaa-416f-a191-94d9b8b2b021\"}, {\"hovertemplate\": \"Edad=29<br>counts=%{r}<br>prosume_cluster=%{theta}<extra></extra>\", \"legendgroup\": \"Edad=29\", \"marker\": {\"color\": \"rgb(153,213,148)\"}, \"name\": \"Edad=29\", \"r\": [1, 5, 12, 3, 11], \"showlegend\": true, \"theta\": [\"cluster_1\", \"cluster_2\", \"cluster_3\", \"cluster_4\", \"cluster_5\"], \"type\": \"barpolar\", \"uid\": \"fe2eb30f-f2a6-4431-ac4e-188055379274\"}, {\"hovertemplate\": \"Edad=30<br>counts=%{r}<br>prosume_cluster=%{theta}<extra></extra>\", \"legendgroup\": \"Edad=30\", \"marker\": {\"color\": \"rgb(50,136,189)\"}, \"name\": \"Edad=30\", \"r\": [4, 12, 6, 5, 11], \"showlegend\": true, \"theta\": [\"cluster_1\", \"cluster_2\", \"cluster_3\", \"cluster_4\", \"cluster_5\"], \"type\": \"barpolar\", \"uid\": \"61df5275-128c-47c1-9e67-2bf60fb2fbab\"}, {\"hovertemplate\": \"Edad=31<br>counts=%{r}<br>prosume_cluster=%{theta}<extra></extra>\", \"legendgroup\": \"Edad=31\", \"marker\": {\"color\": \"rgb(213,62,79)\"}, \"name\": \"Edad=31\", \"r\": [2, 6, 1, 7, 8], \"showlegend\": true, \"theta\": [\"cluster_1\", \"cluster_2\", \"cluster_3\", \"cluster_4\", \"cluster_5\"], \"type\": \"barpolar\", \"uid\": \"c8153ed4-7856-497c-8933-59ed6d889b3b\"}, {\"hovertemplate\": \"Edad=32<br>counts=%{r}<br>prosume_cluster=%{theta}<extra></extra>\", \"legendgroup\": \"Edad=32\", \"marker\": {\"color\": \"rgb(252,141,89)\"}, \"name\": \"Edad=32\", \"r\": [1, 9, 2, 4, 8], \"showlegend\": true, \"theta\": [\"cluster_1\", \"cluster_2\", \"cluster_3\", \"cluster_4\", \"cluster_5\"], \"type\": \"barpolar\", \"uid\": \"a26cd114-11fe-4a28-97fe-9217dbf6a606\"}, {\"hovertemplate\": \"Edad=33<br>counts=%{r}<br>prosume_cluster=%{theta}<extra></extra>\", \"legendgroup\": \"Edad=33\", \"marker\": {\"color\": \"rgb(254,224,139)\"}, \"name\": \"Edad=33\", \"r\": [3, 7, 2, 1, 11], \"showlegend\": true, \"theta\": [\"cluster_1\", \"cluster_2\", \"cluster_3\", \"cluster_4\", \"cluster_5\"], \"type\": \"barpolar\", \"uid\": \"fca3d6e1-e9a8-439d-87db-0c2aee18ad22\"}, {\"hovertemplate\": \"Edad=34<br>counts=%{r}<br>prosume_cluster=%{theta}<extra></extra>\", \"legendgroup\": \"Edad=34\", \"marker\": {\"color\": \"rgb(230,245,152)\"}, \"name\": \"Edad=34\", \"r\": [9, 2, 1, 14], \"showlegend\": true, \"theta\": [\"cluster_2\", \"cluster_3\", \"cluster_4\", \"cluster_5\"], \"type\": \"barpolar\", \"uid\": \"70b415be-3420-4910-9401-3690cec8999a\"}, {\"hovertemplate\": \"Edad=35<br>counts=%{r}<br>prosume_cluster=%{theta}<extra></extra>\", \"legendgroup\": \"Edad=35\", \"marker\": {\"color\": \"rgb(153,213,148)\"}, \"name\": \"Edad=35\", \"r\": [1, 6, 2, 3, 16], \"showlegend\": true, \"theta\": [\"cluster_1\", \"cluster_2\", \"cluster_3\", \"cluster_4\", \"cluster_5\"], \"type\": \"barpolar\", \"uid\": \"68f13018-85ee-4d5c-aaf0-da4f7fc586e8\"}, {\"hovertemplate\": \"Edad=36<br>counts=%{r}<br>prosume_cluster=%{theta}<extra></extra>\", \"legendgroup\": \"Edad=36\", \"marker\": {\"color\": \"rgb(50,136,189)\"}, \"name\": \"Edad=36\", \"r\": [3, 2, 3, 9], \"showlegend\": true, \"theta\": [\"cluster_2\", \"cluster_3\", \"cluster_4\", \"cluster_5\"], \"type\": \"barpolar\", \"uid\": \"571fdd29-9fff-4e2c-9b88-608990e02b50\"}, {\"hovertemplate\": \"Edad=37<br>counts=%{r}<br>prosume_cluster=%{theta}<extra></extra>\", \"legendgroup\": \"Edad=37\", \"marker\": {\"color\": \"rgb(213,62,79)\"}, \"name\": \"Edad=37\", \"r\": [3, 3, 12], \"showlegend\": true, \"theta\": [\"cluster_2\", \"cluster_3\", \"cluster_5\"], \"type\": \"barpolar\", \"uid\": \"034134b5-91f2-4ef8-97a9-5b090ce92d96\"}, {\"hovertemplate\": \"Edad=38<br>counts=%{r}<br>prosume_cluster=%{theta}<extra></extra>\", \"legendgroup\": \"Edad=38\", \"marker\": {\"color\": \"rgb(252,141,89)\"}, \"name\": \"Edad=38\", \"r\": [6, 1, 12], \"showlegend\": true, \"theta\": [\"cluster_2\", \"cluster_3\", \"cluster_5\"], \"type\": \"barpolar\", \"uid\": \"953b12e6-355c-4019-90fa-55bf8d08ef88\"}, {\"hovertemplate\": \"Edad=39<br>counts=%{r}<br>prosume_cluster=%{theta}<extra></extra>\", \"legendgroup\": \"Edad=39\", \"marker\": {\"color\": \"rgb(254,224,139)\"}, \"name\": \"Edad=39\", \"r\": [1, 1, 1, 12], \"showlegend\": true, \"theta\": [\"cluster_2\", \"cluster_3\", \"cluster_4\", \"cluster_5\"], \"type\": \"barpolar\", \"uid\": \"32d6716d-47fd-4e2a-ac72-14e2e87535ae\"}, {\"hovertemplate\": \"Edad=40<br>counts=%{r}<br>prosume_cluster=%{theta}<extra></extra>\", \"legendgroup\": \"Edad=40\", \"marker\": {\"color\": \"rgb(230,245,152)\"}, \"name\": \"Edad=40\", \"r\": [3, 2, 4], \"showlegend\": true, \"theta\": [\"cluster_2\", \"cluster_3\", \"cluster_5\"], \"type\": \"barpolar\", \"uid\": \"2636285a-b892-422e-8428-461e9ae709fb\"}, {\"hovertemplate\": \"Edad=41<br>counts=%{r}<br>prosume_cluster=%{theta}<extra></extra>\", \"legendgroup\": \"Edad=41\", \"marker\": {\"color\": \"rgb(153,213,148)\"}, \"name\": \"Edad=41\", \"r\": [1, 2, 6], \"showlegend\": true, \"theta\": [\"cluster_2\", \"cluster_4\", \"cluster_5\"], \"type\": \"barpolar\", \"uid\": \"f030323b-09a1-4f7b-970f-5a4dc4534730\"}, {\"hovertemplate\": \"Edad=42<br>counts=%{r}<br>prosume_cluster=%{theta}<extra></extra>\", \"legendgroup\": \"Edad=42\", \"marker\": {\"color\": \"rgb(50,136,189)\"}, \"name\": \"Edad=42\", \"r\": [1, 1, 1, 9], \"showlegend\": true, \"theta\": [\"cluster_1\", \"cluster_3\", \"cluster_4\", \"cluster_5\"], \"type\": \"barpolar\", \"uid\": \"db585552-0006-4c32-94ed-51a029152f04\"}, {\"hovertemplate\": \"Edad=43<br>counts=%{r}<br>prosume_cluster=%{theta}<extra></extra>\", \"legendgroup\": \"Edad=43\", \"marker\": {\"color\": \"rgb(213,62,79)\"}, \"name\": \"Edad=43\", \"r\": [3, 1, 8], \"showlegend\": true, \"theta\": [\"cluster_2\", \"cluster_4\", \"cluster_5\"], \"type\": \"barpolar\", \"uid\": \"3bcac033-7a8c-4865-ba0f-5f1e3c4e1294\"}, {\"hovertemplate\": \"Edad=44<br>counts=%{r}<br>prosume_cluster=%{theta}<extra></extra>\", \"legendgroup\": \"Edad=44\", \"marker\": {\"color\": \"rgb(252,141,89)\"}, \"name\": \"Edad=44\", \"r\": [3, 1, 4], \"showlegend\": true, \"theta\": [\"cluster_2\", \"cluster_4\", \"cluster_5\"], \"type\": \"barpolar\", \"uid\": \"345727c3-2334-4b9e-ad5e-90a67747261d\"}, {\"hovertemplate\": \"Edad=45<br>counts=%{r}<br>prosume_cluster=%{theta}<extra></extra>\", \"legendgroup\": \"Edad=45\", \"marker\": {\"color\": \"rgb(254,224,139)\"}, \"name\": \"Edad=45\", \"r\": [2, 6], \"showlegend\": true, \"theta\": [\"cluster_2\", \"cluster_5\"], \"type\": \"barpolar\", \"uid\": \"6c58af0f-b4a6-44c3-a950-837213b48b57\"}, {\"hovertemplate\": \"Edad=46<br>counts=%{r}<br>prosume_cluster=%{theta}<extra></extra>\", \"legendgroup\": \"Edad=46\", \"marker\": {\"color\": \"rgb(230,245,152)\"}, \"name\": \"Edad=46\", \"r\": [5, 10], \"showlegend\": true, \"theta\": [\"cluster_2\", \"cluster_5\"], \"type\": \"barpolar\", \"uid\": \"0d4b207e-3e8e-4a2e-a86f-f7ab3a0f48cf\"}, {\"hovertemplate\": \"Edad=47<br>counts=%{r}<br>prosume_cluster=%{theta}<extra></extra>\", \"legendgroup\": \"Edad=47\", \"marker\": {\"color\": \"rgb(153,213,148)\"}, \"name\": \"Edad=47\", \"r\": [2, 3, 4], \"showlegend\": true, \"theta\": [\"cluster_2\", \"cluster_4\", \"cluster_5\"], \"type\": \"barpolar\", \"uid\": \"024b89bb-f8bc-4f69-9257-c3623ebd9cd7\"}, {\"hovertemplate\": \"Edad=48<br>counts=%{r}<br>prosume_cluster=%{theta}<extra></extra>\", \"legendgroup\": \"Edad=48\", \"marker\": {\"color\": \"rgb(50,136,189)\"}, \"name\": \"Edad=48\", \"r\": [2, 1, 2], \"showlegend\": true, \"theta\": [\"cluster_2\", \"cluster_3\", \"cluster_5\"], \"type\": \"barpolar\", \"uid\": \"1a8e5eff-f97e-48a5-b383-be4430775925\"}, {\"hovertemplate\": \"Edad=49<br>counts=%{r}<br>prosume_cluster=%{theta}<extra></extra>\", \"legendgroup\": \"Edad=49\", \"marker\": {\"color\": \"rgb(213,62,79)\"}, \"name\": \"Edad=49\", \"r\": [1, 1, 2], \"showlegend\": true, \"theta\": [\"cluster_2\", \"cluster_4\", \"cluster_5\"], \"type\": \"barpolar\", \"uid\": \"18cccf81-f65e-44e7-9f60-84ffb6547b7b\"}, {\"hovertemplate\": \"Edad=50<br>counts=%{r}<br>prosume_cluster=%{theta}<extra></extra>\", \"legendgroup\": \"Edad=50\", \"marker\": {\"color\": \"rgb(252,141,89)\"}, \"name\": \"Edad=50\", \"r\": [1, 1, 1, 3], \"showlegend\": true, \"theta\": [\"cluster_1\", \"cluster_2\", \"cluster_3\", \"cluster_5\"], \"type\": \"barpolar\", \"uid\": \"526e2dde-cdc2-4b05-9abb-7016661e3e7e\"}, {\"hovertemplate\": \"Edad=51<br>counts=%{r}<br>prosume_cluster=%{theta}<extra></extra>\", \"legendgroup\": \"Edad=51\", \"marker\": {\"color\": \"rgb(254,224,139)\"}, \"name\": \"Edad=51\", \"r\": [6], \"showlegend\": true, \"theta\": [\"cluster_5\"], \"type\": \"barpolar\", \"uid\": \"94aa17f8-37b1-4fc7-90ff-ea714a5aa8b8\"}, {\"hovertemplate\": \"Edad=52<br>counts=%{r}<br>prosume_cluster=%{theta}<extra></extra>\", \"legendgroup\": \"Edad=52\", \"marker\": {\"color\": \"rgb(230,245,152)\"}, \"name\": \"Edad=52\", \"r\": [1, 1], \"showlegend\": true, \"theta\": [\"cluster_1\", \"cluster_5\"], \"type\": \"barpolar\", \"uid\": \"4637b9c6-e347-4324-9e6d-241aaf7b3c24\"}, {\"hovertemplate\": \"Edad=53<br>counts=%{r}<br>prosume_cluster=%{theta}<extra></extra>\", \"legendgroup\": \"Edad=53\", \"marker\": {\"color\": \"rgb(153,213,148)\"}, \"name\": \"Edad=53\", \"r\": [2, 1, 5], \"showlegend\": true, \"theta\": [\"cluster_2\", \"cluster_4\", \"cluster_5\"], \"type\": \"barpolar\", \"uid\": \"389106ad-4f15-4e35-8776-209f86a170f8\"}, {\"hovertemplate\": \"Edad=54<br>counts=%{r}<br>prosume_cluster=%{theta}<extra></extra>\", \"legendgroup\": \"Edad=54\", \"marker\": {\"color\": \"rgb(50,136,189)\"}, \"name\": \"Edad=54\", \"r\": [4], \"showlegend\": true, \"theta\": [\"cluster_5\"], \"type\": \"barpolar\", \"uid\": \"0ba41a22-2a49-4bab-a257-6bfbaac950fe\"}, {\"hovertemplate\": \"Edad=55<br>counts=%{r}<br>prosume_cluster=%{theta}<extra></extra>\", \"legendgroup\": \"Edad=55\", \"marker\": {\"color\": \"rgb(213,62,79)\"}, \"name\": \"Edad=55\", \"r\": [1, 6], \"showlegend\": true, \"theta\": [\"cluster_2\", \"cluster_5\"], \"type\": \"barpolar\", \"uid\": \"616ff242-328f-4383-b46b-1771f4b5a75b\"}, {\"hovertemplate\": \"Edad=56<br>counts=%{r}<br>prosume_cluster=%{theta}<extra></extra>\", \"legendgroup\": \"Edad=56\", \"marker\": {\"color\": \"rgb(252,141,89)\"}, \"name\": \"Edad=56\", \"r\": [1, 4], \"showlegend\": true, \"theta\": [\"cluster_1\", \"cluster_5\"], \"type\": \"barpolar\", \"uid\": \"670d234e-0caa-4423-aa8e-e3aa02bed679\"}, {\"hovertemplate\": \"Edad=57<br>counts=%{r}<br>prosume_cluster=%{theta}<extra></extra>\", \"legendgroup\": \"Edad=57\", \"marker\": {\"color\": \"rgb(254,224,139)\"}, \"name\": \"Edad=57\", \"r\": [2, 4], \"showlegend\": true, \"theta\": [\"cluster_2\", \"cluster_5\"], \"type\": \"barpolar\", \"uid\": \"a68ca7d5-e50a-4b98-831c-cc7fea92ce9b\"}, {\"hovertemplate\": \"Edad=58<br>counts=%{r}<br>prosume_cluster=%{theta}<extra></extra>\", \"legendgroup\": \"Edad=58\", \"marker\": {\"color\": \"rgb(230,245,152)\"}, \"name\": \"Edad=58\", \"r\": [1], \"showlegend\": true, \"theta\": [\"cluster_5\"], \"type\": \"barpolar\", \"uid\": \"a662cb37-d3df-4025-9906-798966165604\"}, {\"hovertemplate\": \"Edad=59<br>counts=%{r}<br>prosume_cluster=%{theta}<extra></extra>\", \"legendgroup\": \"Edad=59\", \"marker\": {\"color\": \"rgb(153,213,148)\"}, \"name\": \"Edad=59\", \"r\": [2], \"showlegend\": true, \"theta\": [\"cluster_5\"], \"type\": \"barpolar\", \"uid\": \"eef6c3d7-0804-4da6-ac56-4150a0c0e680\"}, {\"hovertemplate\": \"Edad=60<br>counts=%{r}<br>prosume_cluster=%{theta}<extra></extra>\", \"legendgroup\": \"Edad=60\", \"marker\": {\"color\": \"rgb(50,136,189)\"}, \"name\": \"Edad=60\", \"r\": [3, 1, 1], \"showlegend\": true, \"theta\": [\"cluster_2\", \"cluster_4\", \"cluster_5\"], \"type\": \"barpolar\", \"uid\": \"a66557c0-8ee5-41ad-b80c-2dba87385a62\"}, {\"hovertemplate\": \"Edad=61<br>counts=%{r}<br>prosume_cluster=%{theta}<extra></extra>\", \"legendgroup\": \"Edad=61\", \"marker\": {\"color\": \"rgb(213,62,79)\"}, \"name\": \"Edad=61\", \"r\": [3], \"showlegend\": true, \"theta\": [\"cluster_5\"], \"type\": \"barpolar\", \"uid\": \"088a2172-a20d-4ba0-8b0b-f212720112a3\"}, {\"hovertemplate\": \"Edad=62<br>counts=%{r}<br>prosume_cluster=%{theta}<extra></extra>\", \"legendgroup\": \"Edad=62\", \"marker\": {\"color\": \"rgb(252,141,89)\"}, \"name\": \"Edad=62\", \"r\": [2, 5], \"showlegend\": true, \"theta\": [\"cluster_2\", \"cluster_5\"], \"type\": \"barpolar\", \"uid\": \"6a9ee6ff-c806-47ce-92bb-9ac935c1c1c3\"}, {\"hovertemplate\": \"Edad=63<br>counts=%{r}<br>prosume_cluster=%{theta}<extra></extra>\", \"legendgroup\": \"Edad=63\", \"marker\": {\"color\": \"rgb(254,224,139)\"}, \"name\": \"Edad=63\", \"r\": [1], \"showlegend\": true, \"theta\": [\"cluster_2\"], \"type\": \"barpolar\", \"uid\": \"83f975c2-67d5-45db-80d3-645e39ec6787\"}, {\"hovertemplate\": \"Edad=64<br>counts=%{r}<br>prosume_cluster=%{theta}<extra></extra>\", \"legendgroup\": \"Edad=64\", \"marker\": {\"color\": \"rgb(230,245,152)\"}, \"name\": \"Edad=64\", \"r\": [1, 2], \"showlegend\": true, \"theta\": [\"cluster_3\", \"cluster_5\"], \"type\": \"barpolar\", \"uid\": \"1e5bbb75-7e9e-4fb5-abd4-483fcef0af59\"}, {\"hovertemplate\": \"Edad=65<br>counts=%{r}<br>prosume_cluster=%{theta}<extra></extra>\", \"legendgroup\": \"Edad=65\", \"marker\": {\"color\": \"rgb(153,213,148)\"}, \"name\": \"Edad=65\", \"r\": [1, 1], \"showlegend\": true, \"theta\": [\"cluster_4\", \"cluster_5\"], \"type\": \"barpolar\", \"uid\": \"5b5955b0-01a3-49c2-aa31-89d41a58d9c3\"}, {\"hovertemplate\": \"Edad=66<br>counts=%{r}<br>prosume_cluster=%{theta}<extra></extra>\", \"legendgroup\": \"Edad=66\", \"marker\": {\"color\": \"rgb(50,136,189)\"}, \"name\": \"Edad=66\", \"r\": [1, 1], \"showlegend\": true, \"theta\": [\"cluster_2\", \"cluster_5\"], \"type\": \"barpolar\", \"uid\": \"5a83d8a2-6a1c-4328-ae38-52c3869cf7b3\"}, {\"hovertemplate\": \"Edad=67<br>counts=%{r}<br>prosume_cluster=%{theta}<extra></extra>\", \"legendgroup\": \"Edad=67\", \"marker\": {\"color\": \"rgb(213,62,79)\"}, \"name\": \"Edad=67\", \"r\": [2, 2], \"showlegend\": true, \"theta\": [\"cluster_2\", \"cluster_5\"], \"type\": \"barpolar\", \"uid\": \"44157477-52b5-4331-9b5b-b521dd5102a5\"}, {\"hovertemplate\": \"Edad=68<br>counts=%{r}<br>prosume_cluster=%{theta}<extra></extra>\", \"legendgroup\": \"Edad=68\", \"marker\": {\"color\": \"rgb(252,141,89)\"}, \"name\": \"Edad=68\", \"r\": [1], \"showlegend\": true, \"theta\": [\"cluster_4\"], \"type\": \"barpolar\", \"uid\": \"0604523f-5673-4627-a910-75dd523fd9ad\"}, {\"hovertemplate\": \"Edad=69<br>counts=%{r}<br>prosume_cluster=%{theta}<extra></extra>\", \"legendgroup\": \"Edad=69\", \"marker\": {\"color\": \"rgb(254,224,139)\"}, \"name\": \"Edad=69\", \"r\": [1, 1], \"showlegend\": true, \"theta\": [\"cluster_2\", \"cluster_5\"], \"type\": \"barpolar\", \"uid\": \"9be7b06b-da71-4073-92e2-d8b740122cb8\"}, {\"hovertemplate\": \"Edad=70<br>counts=%{r}<br>prosume_cluster=%{theta}<extra></extra>\", \"legendgroup\": \"Edad=70\", \"marker\": {\"color\": \"rgb(230,245,152)\"}, \"name\": \"Edad=70\", \"r\": [1], \"showlegend\": true, \"theta\": [\"cluster_5\"], \"type\": \"barpolar\", \"uid\": \"a914131e-aefe-4ac3-b190-f47f2dd479bc\"}, {\"hovertemplate\": \"Edad=71<br>counts=%{r}<br>prosume_cluster=%{theta}<extra></extra>\", \"legendgroup\": \"Edad=71\", \"marker\": {\"color\": \"rgb(153,213,148)\"}, \"name\": \"Edad=71\", \"r\": [1], \"showlegend\": true, \"theta\": [\"cluster_2\"], \"type\": \"barpolar\", \"uid\": \"e56aa00f-6165-43d0-8981-d52ff774e782\"}, {\"hovertemplate\": \"Edad=73<br>counts=%{r}<br>prosume_cluster=%{theta}<extra></extra>\", \"legendgroup\": \"Edad=73\", \"marker\": {\"color\": \"rgb(50,136,189)\"}, \"name\": \"Edad=73\", \"r\": [1], \"showlegend\": true, \"theta\": [\"cluster_5\"], \"type\": \"barpolar\", \"uid\": \"9aa6c0a9-dd65-4bca-bff3-cb158bd829d1\"}, {\"hovertemplate\": \"Edad=78<br>counts=%{r}<br>prosume_cluster=%{theta}<extra></extra>\", \"legendgroup\": \"Edad=78\", \"marker\": {\"color\": \"rgb(213,62,79)\"}, \"name\": \"Edad=78\", \"r\": [1], \"showlegend\": true, \"theta\": [\"cluster_5\"], \"type\": \"barpolar\", \"uid\": \"cd6ec7f5-ea63-4fb6-a834-c06a3579203c\"}, {\"hovertemplate\": \"Edad=81<br>counts=%{r}<br>prosume_cluster=%{theta}<extra></extra>\", \"legendgroup\": \"Edad=81\", \"marker\": {\"color\": \"rgb(252,141,89)\"}, \"name\": \"Edad=81\", \"r\": [2], \"showlegend\": true, \"theta\": [\"cluster_5\"], \"type\": \"barpolar\", \"uid\": \"13bbb795-a3ed-4841-ad81-f624d29831d9\"}], {\"barmode\": \"group\", \"barnorm\": \"\", \"height\": 600, \"legend\": {\"tracegroupgap\": 0}, \"margin\": {\"t\": 60}, \"template\": {\"data\": {\"barpolar\": [{\"marker\": {\"line\": {\"color\": \"#E5ECF6\", \"width\": 0.5}}, \"type\": \"barpolar\"}], \"bar\": [{\"marker\": {\"line\": {\"color\": \"#E5ECF6\", \"width\": 0.5}}, \"type\": \"bar\"}], \"carpet\": [{\"aaxis\": {\"endlinecolor\": \"#2a3f5f\", \"gridcolor\": \"white\", \"linecolor\": \"white\", \"minorgridcolor\": \"white\", \"startlinecolor\": \"#2a3f5f\"}, \"baxis\": {\"endlinecolor\": \"#2a3f5f\", \"gridcolor\": \"white\", \"linecolor\": \"white\", \"minorgridcolor\": \"white\", \"startlinecolor\": \"#2a3f5f\"}, \"type\": \"carpet\"}], \"choropleth\": [{\"colorbar\": {\"outlinewidth\": 0, \"ticks\": \"\"}, \"type\": \"choropleth\"}], \"contourcarpet\": [{\"colorbar\": {\"outlinewidth\": 0, \"ticks\": \"\"}, \"type\": \"contourcarpet\"}], \"contour\": [{\"autocolorscale\": true, \"colorbar\": {\"outlinewidth\": 0, \"ticks\": \"\"}, \"type\": \"contour\"}], \"heatmapgl\": [{\"colorbar\": {\"outlinewidth\": 0, \"ticks\": \"\"}, \"type\": \"heatmapgl\"}], \"heatmap\": [{\"autocolorscale\": true, \"colorbar\": {\"outlinewidth\": 0, \"ticks\": \"\"}, \"type\": \"heatmap\"}], \"histogram2dcontour\": [{\"autocolorscale\": true, \"colorbar\": {\"outlinewidth\": 0, \"ticks\": \"\"}, \"type\": \"histogram2dcontour\"}], \"histogram2d\": [{\"autocolorscale\": true, \"colorbar\": {\"outlinewidth\": 0, \"ticks\": \"\"}, \"type\": \"histogram2d\"}], \"histogram\": [{\"marker\": {\"colorbar\": {\"outlinewidth\": 0, \"ticks\": \"\"}}, \"type\": \"histogram\"}], \"mesh3d\": [{\"colorbar\": {\"outlinewidth\": 0, \"ticks\": \"\"}, \"type\": \"mesh3d\"}], \"parcoords\": [{\"line\": {\"colorbar\": {\"outlinewidth\": 0, \"ticks\": \"\"}}, \"type\": \"parcoords\"}], \"scatter3d\": [{\"marker\": {\"colorbar\": {\"outlinewidth\": 0, \"ticks\": \"\"}}, \"type\": \"scatter3d\"}], \"scattercarpet\": [{\"marker\": {\"colorbar\": {\"outlinewidth\": 0, \"ticks\": \"\"}}, \"type\": \"scattercarpet\"}], \"scattergeo\": [{\"marker\": {\"colorbar\": {\"outlinewidth\": 0, \"ticks\": \"\"}}, \"type\": \"scattergeo\"}], \"scattergl\": [{\"marker\": {\"colorbar\": {\"outlinewidth\": 0, \"ticks\": \"\"}}, \"type\": \"scattergl\"}], \"scattermapbox\": [{\"marker\": {\"colorbar\": {\"outlinewidth\": 0, \"ticks\": \"\"}}, \"type\": \"scattermapbox\"}], \"scatterpolargl\": [{\"marker\": {\"colorbar\": {\"outlinewidth\": 0, \"ticks\": \"\"}}, \"type\": \"scatterpolargl\"}], \"scatterpolar\": [{\"marker\": {\"colorbar\": {\"outlinewidth\": 0, \"ticks\": \"\"}}, \"type\": \"scatterpolar\"}], \"scatter\": [{\"marker\": {\"colorbar\": {\"outlinewidth\": 0, \"ticks\": \"\"}}, \"type\": \"scatter\"}], \"scatterternary\": [{\"marker\": {\"colorbar\": {\"outlinewidth\": 0, \"ticks\": \"\"}}, \"type\": \"scatterternary\"}], \"surface\": [{\"colorbar\": {\"outlinewidth\": 0, \"ticks\": \"\"}, \"type\": \"surface\"}], \"table\": [{\"cells\": {\"fill\": {\"color\": \"#EBF0F8\"}, \"line\": {\"color\": \"white\"}}, \"header\": {\"fill\": {\"color\": \"#C8D4E3\"}, \"line\": {\"color\": \"white\"}}, \"type\": \"table\"}]}, \"layout\": {\"annotationdefaults\": {\"arrowcolor\": \"#506784\", \"arrowhead\": 0, \"arrowwidth\": 1}, \"colorscale\": {\"diverging\": [[0, \"#8e0152\"], [0.1, \"#c51b7d\"], [0.2, \"#de77ae\"], [0.3, \"#f1b6da\"], [0.4, \"#fde0ef\"], [0.5, \"#f7f7f7\"], [0.6, \"#e6f5d0\"], [0.7, \"#b8e186\"], [0.8, \"#7fbc41\"], [0.9, \"#4d9221\"], [1, \"#276419\"]], \"sequential\": [[0.0, \"#0508b8\"], [0.0893854748603352, \"#1910d8\"], [0.1787709497206704, \"#3c19f0\"], [0.2681564245810056, \"#6b1cfb\"], [0.3575418994413408, \"#981cfd\"], [0.44692737430167595, \"#bf1cfd\"], [0.5363128491620112, \"#dd2bfd\"], [0.6256983240223464, \"#f246fe\"], [0.7150837988826816, \"#fc67fd\"], [0.8044692737430168, \"#fe88fc\"], [0.8938547486033519, \"#fea5fd\"], [0.9832402234636871, \"#febefe\"], [1.0, \"#fec3fe\"]], \"sequentialminus\": [[0.0, \"#0508b8\"], [0.0893854748603352, \"#1910d8\"], [0.1787709497206704, \"#3c19f0\"], [0.2681564245810056, \"#6b1cfb\"], [0.3575418994413408, \"#981cfd\"], [0.44692737430167595, \"#bf1cfd\"], [0.5363128491620112, \"#dd2bfd\"], [0.6256983240223464, \"#f246fe\"], [0.7150837988826816, \"#fc67fd\"], [0.8044692737430168, \"#fe88fc\"], [0.8938547486033519, \"#fea5fd\"], [0.9832402234636871, \"#febefe\"], [1.0, \"#fec3fe\"]]}, \"colorway\": [\"#636efa\", \"#EF553B\", \"#00cc96\", \"#ab63fa\", \"#19d3f3\", \"#e763fa\", \"#FECB52\", \"#FFA15A\", \"#FF6692\", \"#B6E880\"], \"font\": {\"color\": \"#2a3f5f\"}, \"geo\": {\"bgcolor\": \"white\", \"lakecolor\": \"white\", \"landcolor\": \"#E5ECF6\", \"showlakes\": true, \"showland\": true, \"subunitcolor\": \"white\"}, \"hovermode\": \"closest\", \"mapbox\": {\"style\": \"light\"}, \"paper_bgcolor\": \"white\", \"plot_bgcolor\": \"#E5ECF6\", \"polar\": {\"angularaxis\": {\"gridcolor\": \"white\", \"linecolor\": \"white\", \"ticks\": \"\"}, \"bgcolor\": \"#E5ECF6\", \"radialaxis\": {\"gridcolor\": \"white\", \"linecolor\": \"white\", \"ticks\": \"\"}}, \"scene\": {\"xaxis\": {\"backgroundcolor\": \"#E5ECF6\", \"gridcolor\": \"white\", \"gridwidth\": 2, \"linecolor\": \"white\", \"showbackground\": true, \"ticks\": \"\", \"zerolinecolor\": \"white\"}, \"yaxis\": {\"backgroundcolor\": \"#E5ECF6\", \"gridcolor\": \"white\", \"gridwidth\": 2, \"linecolor\": \"white\", \"showbackground\": true, \"ticks\": \"\", \"zerolinecolor\": \"white\"}, \"zaxis\": {\"backgroundcolor\": \"#E5ECF6\", \"gridcolor\": \"white\", \"gridwidth\": 2, \"linecolor\": \"white\", \"showbackground\": true, \"ticks\": \"\", \"zerolinecolor\": \"white\"}}, \"shapedefaults\": {\"fillcolor\": \"#506784\", \"line\": {\"width\": 0}, \"opacity\": 0.4}, \"ternary\": {\"aaxis\": {\"gridcolor\": \"white\", \"linecolor\": \"white\", \"ticks\": \"\"}, \"baxis\": {\"gridcolor\": \"white\", \"linecolor\": \"white\", \"ticks\": \"\"}, \"bgcolor\": \"#E5ECF6\", \"caxis\": {\"gridcolor\": \"white\", \"linecolor\": \"white\", \"ticks\": \"\"}}, \"title\": {\"x\": 0.05}, \"xaxis\": {\"automargin\": true, \"gridcolor\": \"white\", \"linecolor\": \"white\", \"ticks\": \"\", \"zerolinecolor\": \"white\", \"zerolinewidth\": 2}, \"yaxis\": {\"automargin\": true, \"gridcolor\": \"white\", \"linecolor\": \"white\", \"ticks\": \"\", \"zerolinecolor\": \"white\", \"zerolinewidth\": 2}}}, \"polar\": {\"angularaxis\": {\"direction\": \"clockwise\", \"rotation\": 90}}}, {\"showLink\": false, \"linkText\": \"Export to plot.ly\", \"plotlyServerURL\": \"https://plot.ly\"}); \n",
       "}\n",
       "});</script><script type=\"text/javascript\">window.addEventListener(\"resize\", function(){if (document.getElementById(\"353c8218-e52c-4f72-87bd-9ae8eea362c9\")) {window._Plotly.Plots.resize(document.getElementById(\"353c8218-e52c-4f72-87bd-9ae8eea362c9\"));};})</script>"
      ]
     },
     "metadata": {},
     "output_type": "display_data"
    },
    {
     "name": "stdout",
     "output_type": "stream",
     "text": [
      "Comparando la pregunta Nacionalidad\n"
     ]
    },
    {
     "data": {
      "application/vnd.plotly.v1+json": {
       "config": {
        "linkText": "Export to plot.ly",
        "plotlyServerURL": "https://plot.ly",
        "showLink": false
       },
       "data": [
        {
         "hovertemplate": "Nacionalidad=Albania<br>counts=%{r}<br>prosume_cluster=%{theta}<extra></extra>",
         "legendgroup": "Nacionalidad=Albania",
         "marker": {
          "color": "rgb(213,62,79)"
         },
         "name": "Nacionalidad=Albania",
         "r": [
          1
         ],
         "showlegend": true,
         "theta": [
          "cluster_2"
         ],
         "type": "barpolar",
         "uid": "72c25d7e-a11b-4ec9-891f-c1d93c828765"
        },
        {
         "hovertemplate": "Nacionalidad=Alemania<br>counts=%{r}<br>prosume_cluster=%{theta}<extra></extra>",
         "legendgroup": "Nacionalidad=Alemania",
         "marker": {
          "color": "rgb(252,141,89)"
         },
         "name": "Nacionalidad=Alemania",
         "r": [
          1
         ],
         "showlegend": true,
         "theta": [
          "cluster_5"
         ],
         "type": "barpolar",
         "uid": "3fb111e9-e0a7-4bdf-b00b-14a84a24e9f5"
        },
        {
         "hovertemplate": "Nacionalidad=Argentina<br>counts=%{r}<br>prosume_cluster=%{theta}<extra></extra>",
         "legendgroup": "Nacionalidad=Argentina",
         "marker": {
          "color": "rgb(254,224,139)"
         },
         "name": "Nacionalidad=Argentina",
         "r": [
          1
         ],
         "showlegend": true,
         "theta": [
          "cluster_5"
         ],
         "type": "barpolar",
         "uid": "c28311bc-5afd-47f7-8c87-15ca1eb945df"
        },
        {
         "hovertemplate": "Nacionalidad=Australia<br>counts=%{r}<br>prosume_cluster=%{theta}<extra></extra>",
         "legendgroup": "Nacionalidad=Australia",
         "marker": {
          "color": "rgb(230,245,152)"
         },
         "name": "Nacionalidad=Australia",
         "r": [
          1
         ],
         "showlegend": true,
         "theta": [
          "cluster_4"
         ],
         "type": "barpolar",
         "uid": "a48acb27-45bb-4405-be23-6ab73002a608"
        },
        {
         "hovertemplate": "Nacionalidad=Austria<br>counts=%{r}<br>prosume_cluster=%{theta}<extra></extra>",
         "legendgroup": "Nacionalidad=Austria",
         "marker": {
          "color": "rgb(153,213,148)"
         },
         "name": "Nacionalidad=Austria",
         "r": [
          1
         ],
         "showlegend": true,
         "theta": [
          "cluster_5"
         ],
         "type": "barpolar",
         "uid": "70c4d41d-d5c9-4074-bbc5-2828f7469b4d"
        },
        {
         "hovertemplate": "Nacionalidad=Bahamas<br>counts=%{r}<br>prosume_cluster=%{theta}<extra></extra>",
         "legendgroup": "Nacionalidad=Bahamas",
         "marker": {
          "color": "rgb(50,136,189)"
         },
         "name": "Nacionalidad=Bahamas",
         "r": [
          1
         ],
         "showlegend": true,
         "theta": [
          "cluster_5"
         ],
         "type": "barpolar",
         "uid": "a47ef60a-c117-4220-885e-d4731d0a08d4"
        },
        {
         "hovertemplate": "Nacionalidad=Brasil<br>counts=%{r}<br>prosume_cluster=%{theta}<extra></extra>",
         "legendgroup": "Nacionalidad=Brasil",
         "marker": {
          "color": "rgb(213,62,79)"
         },
         "name": "Nacionalidad=Brasil",
         "r": [
          1,
          1,
          1
         ],
         "showlegend": true,
         "theta": [
          "cluster_2",
          "cluster_4",
          "cluster_5"
         ],
         "type": "barpolar",
         "uid": "30a17031-7282-42b4-a0a4-b41894b1b915"
        },
        {
         "hovertemplate": "Nacionalidad=Canadá<br>counts=%{r}<br>prosume_cluster=%{theta}<extra></extra>",
         "legendgroup": "Nacionalidad=Canadá",
         "marker": {
          "color": "rgb(252,141,89)"
         },
         "name": "Nacionalidad=Canadá",
         "r": [
          1,
          1,
          3,
          4
         ],
         "showlegend": true,
         "theta": [
          "cluster_2",
          "cluster_3",
          "cluster_4",
          "cluster_5"
         ],
         "type": "barpolar",
         "uid": "1c0e3451-49d1-4874-8133-33d9ed9cc163"
        },
        {
         "hovertemplate": "Nacionalidad=Chile<br>counts=%{r}<br>prosume_cluster=%{theta}<extra></extra>",
         "legendgroup": "Nacionalidad=Chile",
         "marker": {
          "color": "rgb(254,224,139)"
         },
         "name": "Nacionalidad=Chile",
         "r": [
          1
         ],
         "showlegend": true,
         "theta": [
          "cluster_5"
         ],
         "type": "barpolar",
         "uid": "5ea82b4f-a1c0-4eae-a737-43b9a5f9477c"
        },
        {
         "hovertemplate": "Nacionalidad=China<br>counts=%{r}<br>prosume_cluster=%{theta}<extra></extra>",
         "legendgroup": "Nacionalidad=China",
         "marker": {
          "color": "rgb(230,245,152)"
         },
         "name": "Nacionalidad=China",
         "r": [
          1
         ],
         "showlegend": true,
         "theta": [
          "cluster_2"
         ],
         "type": "barpolar",
         "uid": "7ee64dc4-2211-449d-9509-c16d9070620b"
        },
        {
         "hovertemplate": "Nacionalidad=Colombia<br>counts=%{r}<br>prosume_cluster=%{theta}<extra></extra>",
         "legendgroup": "Nacionalidad=Colombia",
         "marker": {
          "color": "rgb(153,213,148)"
         },
         "name": "Nacionalidad=Colombia",
         "r": [
          1
         ],
         "showlegend": true,
         "theta": [
          "cluster_5"
         ],
         "type": "barpolar",
         "uid": "fccc201b-0cc5-4051-b90d-d931d6194cff"
        },
        {
         "hovertemplate": "Nacionalidad=Cuba<br>counts=%{r}<br>prosume_cluster=%{theta}<extra></extra>",
         "legendgroup": "Nacionalidad=Cuba",
         "marker": {
          "color": "rgb(50,136,189)"
         },
         "name": "Nacionalidad=Cuba",
         "r": [
          1
         ],
         "showlegend": true,
         "theta": [
          "cluster_4"
         ],
         "type": "barpolar",
         "uid": "39dceb72-0a56-4632-b4bd-0d6f6ec76502"
        },
        {
         "hovertemplate": "Nacionalidad=Escocia<br>counts=%{r}<br>prosume_cluster=%{theta}<extra></extra>",
         "legendgroup": "Nacionalidad=Escocia",
         "marker": {
          "color": "rgb(213,62,79)"
         },
         "name": "Nacionalidad=Escocia",
         "r": [
          1
         ],
         "showlegend": true,
         "theta": [
          "cluster_5"
         ],
         "type": "barpolar",
         "uid": "6bb56fbc-7025-4d31-bf57-6fe6e54831e5"
        },
        {
         "hovertemplate": "Nacionalidad=Eslovaquia<br>counts=%{r}<br>prosume_cluster=%{theta}<extra></extra>",
         "legendgroup": "Nacionalidad=Eslovaquia",
         "marker": {
          "color": "rgb(252,141,89)"
         },
         "name": "Nacionalidad=Eslovaquia",
         "r": [
          1
         ],
         "showlegend": true,
         "theta": [
          "cluster_5"
         ],
         "type": "barpolar",
         "uid": "805e98b6-924f-4898-bc6c-048123c02188"
        },
        {
         "hovertemplate": "Nacionalidad=España<br>counts=%{r}<br>prosume_cluster=%{theta}<extra></extra>",
         "legendgroup": "Nacionalidad=España",
         "marker": {
          "color": "rgb(254,224,139)"
         },
         "name": "Nacionalidad=España",
         "r": [
          87,
          1,
          56,
          73
         ],
         "showlegend": true,
         "theta": [
          "cluster_2",
          "cluster_3",
          "cluster_4",
          "cluster_5"
         ],
         "type": "barpolar",
         "uid": "f866fe95-37e2-402d-8cce-f02ca74eb999"
        },
        {
         "hovertemplate": "Nacionalidad=Estados Unidos de América<br>counts=%{r}<br>prosume_cluster=%{theta}<extra></extra>",
         "legendgroup": "Nacionalidad=Estados Unidos de América",
         "marker": {
          "color": "rgb(230,245,152)"
         },
         "name": "Nacionalidad=Estados Unidos de América",
         "r": [
          19,
          65,
          33,
          21,
          168
         ],
         "showlegend": true,
         "theta": [
          "cluster_1",
          "cluster_2",
          "cluster_3",
          "cluster_4",
          "cluster_5"
         ],
         "type": "barpolar",
         "uid": "4365016f-e807-4b3e-93fc-1c911e3d057b"
        },
        {
         "hovertemplate": "Nacionalidad=Francia<br>counts=%{r}<br>prosume_cluster=%{theta}<extra></extra>",
         "legendgroup": "Nacionalidad=Francia",
         "marker": {
          "color": "rgb(153,213,148)"
         },
         "name": "Nacionalidad=Francia",
         "r": [
          4,
          7,
          8
         ],
         "showlegend": true,
         "theta": [
          "cluster_2",
          "cluster_4",
          "cluster_5"
         ],
         "type": "barpolar",
         "uid": "d11ad6ac-ff66-4b25-a9b6-88e954f2ff79"
        },
        {
         "hovertemplate": "Nacionalidad=India<br>counts=%{r}<br>prosume_cluster=%{theta}<extra></extra>",
         "legendgroup": "Nacionalidad=India",
         "marker": {
          "color": "rgb(50,136,189)"
         },
         "name": "Nacionalidad=India",
         "r": [
          14,
          26,
          50,
          1,
          29
         ],
         "showlegend": true,
         "theta": [
          "cluster_1",
          "cluster_2",
          "cluster_3",
          "cluster_4",
          "cluster_5"
         ],
         "type": "barpolar",
         "uid": "32e605cd-152f-4153-bb56-53527ff13f58"
        },
        {
         "hovertemplate": "Nacionalidad=Indonesia<br>counts=%{r}<br>prosume_cluster=%{theta}<extra></extra>",
         "legendgroup": "Nacionalidad=Indonesia",
         "marker": {
          "color": "rgb(213,62,79)"
         },
         "name": "Nacionalidad=Indonesia",
         "r": [
          1
         ],
         "showlegend": true,
         "theta": [
          "cluster_3"
         ],
         "type": "barpolar",
         "uid": "d0caf320-da49-4fc7-8334-c7057da8de52"
        },
        {
         "hovertemplate": "Nacionalidad=Inglaterra<br>counts=%{r}<br>prosume_cluster=%{theta}<extra></extra>",
         "legendgroup": "Nacionalidad=Inglaterra",
         "marker": {
          "color": "rgb(252,141,89)"
         },
         "name": "Nacionalidad=Inglaterra",
         "r": [
          1,
          2,
          7
         ],
         "showlegend": true,
         "theta": [
          "cluster_3",
          "cluster_4",
          "cluster_5"
         ],
         "type": "barpolar",
         "uid": "701bbeb0-8c36-4b79-a3dc-7e60d13d1c1a"
        },
        {
         "hovertemplate": "Nacionalidad=Irlanda<br>counts=%{r}<br>prosume_cluster=%{theta}<extra></extra>",
         "legendgroup": "Nacionalidad=Irlanda",
         "marker": {
          "color": "rgb(254,224,139)"
         },
         "name": "Nacionalidad=Irlanda",
         "r": [
          2
         ],
         "showlegend": true,
         "theta": [
          "cluster_5"
         ],
         "type": "barpolar",
         "uid": "d5dd5695-3f08-4f7c-8368-9f32645fefe6"
        },
        {
         "hovertemplate": "Nacionalidad=Islandia<br>counts=%{r}<br>prosume_cluster=%{theta}<extra></extra>",
         "legendgroup": "Nacionalidad=Islandia",
         "marker": {
          "color": "rgb(230,245,152)"
         },
         "name": "Nacionalidad=Islandia",
         "r": [
          1
         ],
         "showlegend": true,
         "theta": [
          "cluster_5"
         ],
         "type": "barpolar",
         "uid": "62424934-2af8-4e5b-bc57-c61701a1f002"
        },
        {
         "hovertemplate": "Nacionalidad=Italia<br>counts=%{r}<br>prosume_cluster=%{theta}<extra></extra>",
         "legendgroup": "Nacionalidad=Italia",
         "marker": {
          "color": "rgb(153,213,148)"
         },
         "name": "Nacionalidad=Italia",
         "r": [
          3,
          3,
          5
         ],
         "showlegend": true,
         "theta": [
          "cluster_3",
          "cluster_4",
          "cluster_5"
         ],
         "type": "barpolar",
         "uid": "4ae78bdf-8877-40a9-9618-6d24139cf563"
        },
        {
         "hovertemplate": "Nacionalidad=Macedonia<br>counts=%{r}<br>prosume_cluster=%{theta}<extra></extra>",
         "legendgroup": "Nacionalidad=Macedonia",
         "marker": {
          "color": "rgb(50,136,189)"
         },
         "name": "Nacionalidad=Macedonia",
         "r": [
          1
         ],
         "showlegend": true,
         "theta": [
          "cluster_5"
         ],
         "type": "barpolar",
         "uid": "48558387-1081-46e4-b933-3245098d4e91"
        },
        {
         "hovertemplate": "Nacionalidad=México<br>counts=%{r}<br>prosume_cluster=%{theta}<extra></extra>",
         "legendgroup": "Nacionalidad=México",
         "marker": {
          "color": "rgb(213,62,79)"
         },
         "name": "Nacionalidad=México",
         "r": [
          1
         ],
         "showlegend": true,
         "theta": [
          "cluster_5"
         ],
         "type": "barpolar",
         "uid": "8eefcbd5-f2a3-4702-9295-413f3fa9a154"
        },
        {
         "hovertemplate": "Nacionalidad=Nigeria<br>counts=%{r}<br>prosume_cluster=%{theta}<extra></extra>",
         "legendgroup": "Nacionalidad=Nigeria",
         "marker": {
          "color": "rgb(252,141,89)"
         },
         "name": "Nacionalidad=Nigeria",
         "r": [
          3,
          1
         ],
         "showlegend": true,
         "theta": [
          "cluster_2",
          "cluster_5"
         ],
         "type": "barpolar",
         "uid": "509d09b3-579a-42a8-815a-b089417083b2"
        },
        {
         "hovertemplate": "Nacionalidad=Nueva Zelanda<br>counts=%{r}<br>prosume_cluster=%{theta}<extra></extra>",
         "legendgroup": "Nacionalidad=Nueva Zelanda",
         "marker": {
          "color": "rgb(254,224,139)"
         },
         "name": "Nacionalidad=Nueva Zelanda",
         "r": [
          1
         ],
         "showlegend": true,
         "theta": [
          "cluster_3"
         ],
         "type": "barpolar",
         "uid": "742633b7-dfff-4d01-8d01-0d18424d4667"
        },
        {
         "hovertemplate": "Nacionalidad=Paquistan<br>counts=%{r}<br>prosume_cluster=%{theta}<extra></extra>",
         "legendgroup": "Nacionalidad=Paquistan",
         "marker": {
          "color": "rgb(230,245,152)"
         },
         "name": "Nacionalidad=Paquistan",
         "r": [
          1
         ],
         "showlegend": true,
         "theta": [
          "cluster_5"
         ],
         "type": "barpolar",
         "uid": "6fc5f060-305f-464f-a0af-e99b04198f2c"
        },
        {
         "hovertemplate": "Nacionalidad=República Dominicana<br>counts=%{r}<br>prosume_cluster=%{theta}<extra></extra>",
         "legendgroup": "Nacionalidad=República Dominicana",
         "marker": {
          "color": "rgb(153,213,148)"
         },
         "name": "Nacionalidad=República Dominicana",
         "r": [
          2
         ],
         "showlegend": true,
         "theta": [
          "cluster_5"
         ],
         "type": "barpolar",
         "uid": "698de10a-5c3a-4d7b-b3f4-500dad68b28e"
        },
        {
         "hovertemplate": "Nacionalidad=Rusia<br>counts=%{r}<br>prosume_cluster=%{theta}<extra></extra>",
         "legendgroup": "Nacionalidad=Rusia",
         "marker": {
          "color": "rgb(50,136,189)"
         },
         "name": "Nacionalidad=Rusia",
         "r": [
          1,
          1
         ],
         "showlegend": true,
         "theta": [
          "cluster_3",
          "cluster_4"
         ],
         "type": "barpolar",
         "uid": "d39d4b9b-4c5b-4fe0-a14a-d06343d77cd6"
        },
        {
         "hovertemplate": "Nacionalidad=Sudán<br>counts=%{r}<br>prosume_cluster=%{theta}<extra></extra>",
         "legendgroup": "Nacionalidad=Sudán",
         "marker": {
          "color": "rgb(213,62,79)"
         },
         "name": "Nacionalidad=Sudán",
         "r": [
          1
         ],
         "showlegend": true,
         "theta": [
          "cluster_4"
         ],
         "type": "barpolar",
         "uid": "1581c5b1-a4ff-4cd1-9ac0-b58fa4c5e492"
        },
        {
         "hovertemplate": "Nacionalidad=Ukrania<br>counts=%{r}<br>prosume_cluster=%{theta}<extra></extra>",
         "legendgroup": "Nacionalidad=Ukrania",
         "marker": {
          "color": "rgb(252,141,89)"
         },
         "name": "Nacionalidad=Ukrania",
         "r": [
          1
         ],
         "showlegend": true,
         "theta": [
          "cluster_2"
         ],
         "type": "barpolar",
         "uid": "614bb7d3-fecc-4a8e-b349-45ddcd1d3260"
        },
        {
         "hovertemplate": "Nacionalidad=Unknown<br>counts=%{r}<br>prosume_cluster=%{theta}<extra></extra>",
         "legendgroup": "Nacionalidad=Unknown",
         "marker": {
          "color": "rgb(254,224,139)"
         },
         "name": "Nacionalidad=Unknown",
         "r": [
          4,
          6,
          6,
          22
         ],
         "showlegend": true,
         "theta": [
          "cluster_1",
          "cluster_2",
          "cluster_3",
          "cluster_5"
         ],
         "type": "barpolar",
         "uid": "0f96e5e6-a2df-4f7f-b7a8-0008d187b29b"
        },
        {
         "hovertemplate": "Nacionalidad=Venezuela<br>counts=%{r}<br>prosume_cluster=%{theta}<extra></extra>",
         "legendgroup": "Nacionalidad=Venezuela",
         "marker": {
          "color": "rgb(230,245,152)"
         },
         "name": "Nacionalidad=Venezuela",
         "r": [
          2,
          2
         ],
         "showlegend": true,
         "theta": [
          "cluster_3",
          "cluster_5"
         ],
         "type": "barpolar",
         "uid": "05b31ecd-0184-4c20-ac77-a7864a4f414d"
        }
       ],
       "layout": {
        "barmode": "group",
        "barnorm": "",
        "height": 600,
        "legend": {
         "tracegroupgap": 0
        },
        "margin": {
         "t": 60
        },
        "polar": {
         "angularaxis": {
          "direction": "clockwise",
          "rotation": 90
         }
        },
        "template": {
         "data": {
          "bar": [
           {
            "marker": {
             "line": {
              "color": "#E5ECF6",
              "width": 0.5
             }
            },
            "type": "bar"
           }
          ],
          "barpolar": [
           {
            "marker": {
             "line": {
              "color": "#E5ECF6",
              "width": 0.5
             }
            },
            "type": "barpolar"
           }
          ],
          "carpet": [
           {
            "aaxis": {
             "endlinecolor": "#2a3f5f",
             "gridcolor": "white",
             "linecolor": "white",
             "minorgridcolor": "white",
             "startlinecolor": "#2a3f5f"
            },
            "baxis": {
             "endlinecolor": "#2a3f5f",
             "gridcolor": "white",
             "linecolor": "white",
             "minorgridcolor": "white",
             "startlinecolor": "#2a3f5f"
            },
            "type": "carpet"
           }
          ],
          "choropleth": [
           {
            "colorbar": {
             "outlinewidth": 0,
             "ticks": ""
            },
            "type": "choropleth"
           }
          ],
          "contour": [
           {
            "autocolorscale": true,
            "colorbar": {
             "outlinewidth": 0,
             "ticks": ""
            },
            "type": "contour"
           }
          ],
          "contourcarpet": [
           {
            "colorbar": {
             "outlinewidth": 0,
             "ticks": ""
            },
            "type": "contourcarpet"
           }
          ],
          "heatmap": [
           {
            "autocolorscale": true,
            "colorbar": {
             "outlinewidth": 0,
             "ticks": ""
            },
            "type": "heatmap"
           }
          ],
          "heatmapgl": [
           {
            "colorbar": {
             "outlinewidth": 0,
             "ticks": ""
            },
            "type": "heatmapgl"
           }
          ],
          "histogram": [
           {
            "marker": {
             "colorbar": {
              "outlinewidth": 0,
              "ticks": ""
             }
            },
            "type": "histogram"
           }
          ],
          "histogram2d": [
           {
            "autocolorscale": true,
            "colorbar": {
             "outlinewidth": 0,
             "ticks": ""
            },
            "type": "histogram2d"
           }
          ],
          "histogram2dcontour": [
           {
            "autocolorscale": true,
            "colorbar": {
             "outlinewidth": 0,
             "ticks": ""
            },
            "type": "histogram2dcontour"
           }
          ],
          "mesh3d": [
           {
            "colorbar": {
             "outlinewidth": 0,
             "ticks": ""
            },
            "type": "mesh3d"
           }
          ],
          "parcoords": [
           {
            "line": {
             "colorbar": {
              "outlinewidth": 0,
              "ticks": ""
             }
            },
            "type": "parcoords"
           }
          ],
          "scatter": [
           {
            "marker": {
             "colorbar": {
              "outlinewidth": 0,
              "ticks": ""
             }
            },
            "type": "scatter"
           }
          ],
          "scatter3d": [
           {
            "marker": {
             "colorbar": {
              "outlinewidth": 0,
              "ticks": ""
             }
            },
            "type": "scatter3d"
           }
          ],
          "scattercarpet": [
           {
            "marker": {
             "colorbar": {
              "outlinewidth": 0,
              "ticks": ""
             }
            },
            "type": "scattercarpet"
           }
          ],
          "scattergeo": [
           {
            "marker": {
             "colorbar": {
              "outlinewidth": 0,
              "ticks": ""
             }
            },
            "type": "scattergeo"
           }
          ],
          "scattergl": [
           {
            "marker": {
             "colorbar": {
              "outlinewidth": 0,
              "ticks": ""
             }
            },
            "type": "scattergl"
           }
          ],
          "scattermapbox": [
           {
            "marker": {
             "colorbar": {
              "outlinewidth": 0,
              "ticks": ""
             }
            },
            "type": "scattermapbox"
           }
          ],
          "scatterpolar": [
           {
            "marker": {
             "colorbar": {
              "outlinewidth": 0,
              "ticks": ""
             }
            },
            "type": "scatterpolar"
           }
          ],
          "scatterpolargl": [
           {
            "marker": {
             "colorbar": {
              "outlinewidth": 0,
              "ticks": ""
             }
            },
            "type": "scatterpolargl"
           }
          ],
          "scatterternary": [
           {
            "marker": {
             "colorbar": {
              "outlinewidth": 0,
              "ticks": ""
             }
            },
            "type": "scatterternary"
           }
          ],
          "surface": [
           {
            "colorbar": {
             "outlinewidth": 0,
             "ticks": ""
            },
            "type": "surface"
           }
          ],
          "table": [
           {
            "cells": {
             "fill": {
              "color": "#EBF0F8"
             },
             "line": {
              "color": "white"
             }
            },
            "header": {
             "fill": {
              "color": "#C8D4E3"
             },
             "line": {
              "color": "white"
             }
            },
            "type": "table"
           }
          ]
         },
         "layout": {
          "annotationdefaults": {
           "arrowcolor": "#506784",
           "arrowhead": 0,
           "arrowwidth": 1
          },
          "colorscale": {
           "diverging": [
            [
             0,
             "#8e0152"
            ],
            [
             0.1,
             "#c51b7d"
            ],
            [
             0.2,
             "#de77ae"
            ],
            [
             0.3,
             "#f1b6da"
            ],
            [
             0.4,
             "#fde0ef"
            ],
            [
             0.5,
             "#f7f7f7"
            ],
            [
             0.6,
             "#e6f5d0"
            ],
            [
             0.7,
             "#b8e186"
            ],
            [
             0.8,
             "#7fbc41"
            ],
            [
             0.9,
             "#4d9221"
            ],
            [
             1,
             "#276419"
            ]
           ],
           "sequential": [
            [
             0,
             "#0508b8"
            ],
            [
             0.0893854748603352,
             "#1910d8"
            ],
            [
             0.1787709497206704,
             "#3c19f0"
            ],
            [
             0.2681564245810056,
             "#6b1cfb"
            ],
            [
             0.3575418994413408,
             "#981cfd"
            ],
            [
             0.44692737430167595,
             "#bf1cfd"
            ],
            [
             0.5363128491620112,
             "#dd2bfd"
            ],
            [
             0.6256983240223464,
             "#f246fe"
            ],
            [
             0.7150837988826816,
             "#fc67fd"
            ],
            [
             0.8044692737430168,
             "#fe88fc"
            ],
            [
             0.8938547486033519,
             "#fea5fd"
            ],
            [
             0.9832402234636871,
             "#febefe"
            ],
            [
             1,
             "#fec3fe"
            ]
           ],
           "sequentialminus": [
            [
             0,
             "#0508b8"
            ],
            [
             0.0893854748603352,
             "#1910d8"
            ],
            [
             0.1787709497206704,
             "#3c19f0"
            ],
            [
             0.2681564245810056,
             "#6b1cfb"
            ],
            [
             0.3575418994413408,
             "#981cfd"
            ],
            [
             0.44692737430167595,
             "#bf1cfd"
            ],
            [
             0.5363128491620112,
             "#dd2bfd"
            ],
            [
             0.6256983240223464,
             "#f246fe"
            ],
            [
             0.7150837988826816,
             "#fc67fd"
            ],
            [
             0.8044692737430168,
             "#fe88fc"
            ],
            [
             0.8938547486033519,
             "#fea5fd"
            ],
            [
             0.9832402234636871,
             "#febefe"
            ],
            [
             1,
             "#fec3fe"
            ]
           ]
          },
          "colorway": [
           "#636efa",
           "#EF553B",
           "#00cc96",
           "#ab63fa",
           "#19d3f3",
           "#e763fa",
           "#FECB52",
           "#FFA15A",
           "#FF6692",
           "#B6E880"
          ],
          "font": {
           "color": "#2a3f5f"
          },
          "geo": {
           "bgcolor": "white",
           "lakecolor": "white",
           "landcolor": "#E5ECF6",
           "showlakes": true,
           "showland": true,
           "subunitcolor": "white"
          },
          "hovermode": "closest",
          "mapbox": {
           "style": "light"
          },
          "paper_bgcolor": "white",
          "plot_bgcolor": "#E5ECF6",
          "polar": {
           "angularaxis": {
            "gridcolor": "white",
            "linecolor": "white",
            "ticks": ""
           },
           "bgcolor": "#E5ECF6",
           "radialaxis": {
            "gridcolor": "white",
            "linecolor": "white",
            "ticks": ""
           }
          },
          "scene": {
           "xaxis": {
            "backgroundcolor": "#E5ECF6",
            "gridcolor": "white",
            "gridwidth": 2,
            "linecolor": "white",
            "showbackground": true,
            "ticks": "",
            "zerolinecolor": "white"
           },
           "yaxis": {
            "backgroundcolor": "#E5ECF6",
            "gridcolor": "white",
            "gridwidth": 2,
            "linecolor": "white",
            "showbackground": true,
            "ticks": "",
            "zerolinecolor": "white"
           },
           "zaxis": {
            "backgroundcolor": "#E5ECF6",
            "gridcolor": "white",
            "gridwidth": 2,
            "linecolor": "white",
            "showbackground": true,
            "ticks": "",
            "zerolinecolor": "white"
           }
          },
          "shapedefaults": {
           "fillcolor": "#506784",
           "line": {
            "width": 0
           },
           "opacity": 0.4
          },
          "ternary": {
           "aaxis": {
            "gridcolor": "white",
            "linecolor": "white",
            "ticks": ""
           },
           "baxis": {
            "gridcolor": "white",
            "linecolor": "white",
            "ticks": ""
           },
           "bgcolor": "#E5ECF6",
           "caxis": {
            "gridcolor": "white",
            "linecolor": "white",
            "ticks": ""
           }
          },
          "title": {
           "x": 0.05
          },
          "xaxis": {
           "automargin": true,
           "gridcolor": "white",
           "linecolor": "white",
           "ticks": "",
           "zerolinecolor": "white",
           "zerolinewidth": 2
          },
          "yaxis": {
           "automargin": true,
           "gridcolor": "white",
           "linecolor": "white",
           "ticks": "",
           "zerolinecolor": "white",
           "zerolinewidth": 2
          }
         }
        }
       }
      },
      "text/html": [
       "<div id=\"2b99deab-52df-4c0b-9a3c-5644542a5611\" style=\"height: 600px; width: 100%;\" class=\"plotly-graph-div\"></div><script type=\"text/javascript\">require([\"plotly\"], function(Plotly) { window.PLOTLYENV=window.PLOTLYENV || {};window.PLOTLYENV.BASE_URL=\"https://plot.ly\";\n",
       "if (document.getElementById(\"2b99deab-52df-4c0b-9a3c-5644542a5611\")) {\n",
       "    Plotly.newPlot(\"2b99deab-52df-4c0b-9a3c-5644542a5611\", [{\"hovertemplate\": \"Nacionalidad=Albania<br>counts=%{r}<br>prosume_cluster=%{theta}<extra></extra>\", \"legendgroup\": \"Nacionalidad=Albania\", \"marker\": {\"color\": \"rgb(213,62,79)\"}, \"name\": \"Nacionalidad=Albania\", \"r\": [1], \"showlegend\": true, \"theta\": [\"cluster_2\"], \"type\": \"barpolar\", \"uid\": \"72c25d7e-a11b-4ec9-891f-c1d93c828765\"}, {\"hovertemplate\": \"Nacionalidad=Alemania<br>counts=%{r}<br>prosume_cluster=%{theta}<extra></extra>\", \"legendgroup\": \"Nacionalidad=Alemania\", \"marker\": {\"color\": \"rgb(252,141,89)\"}, \"name\": \"Nacionalidad=Alemania\", \"r\": [1], \"showlegend\": true, \"theta\": [\"cluster_5\"], \"type\": \"barpolar\", \"uid\": \"3fb111e9-e0a7-4bdf-b00b-14a84a24e9f5\"}, {\"hovertemplate\": \"Nacionalidad=Argentina<br>counts=%{r}<br>prosume_cluster=%{theta}<extra></extra>\", \"legendgroup\": \"Nacionalidad=Argentina\", \"marker\": {\"color\": \"rgb(254,224,139)\"}, \"name\": \"Nacionalidad=Argentina\", \"r\": [1], \"showlegend\": true, \"theta\": [\"cluster_5\"], \"type\": \"barpolar\", \"uid\": \"c28311bc-5afd-47f7-8c87-15ca1eb945df\"}, {\"hovertemplate\": \"Nacionalidad=Australia<br>counts=%{r}<br>prosume_cluster=%{theta}<extra></extra>\", \"legendgroup\": \"Nacionalidad=Australia\", \"marker\": {\"color\": \"rgb(230,245,152)\"}, \"name\": \"Nacionalidad=Australia\", \"r\": [1], \"showlegend\": true, \"theta\": [\"cluster_4\"], \"type\": \"barpolar\", \"uid\": \"a48acb27-45bb-4405-be23-6ab73002a608\"}, {\"hovertemplate\": \"Nacionalidad=Austria<br>counts=%{r}<br>prosume_cluster=%{theta}<extra></extra>\", \"legendgroup\": \"Nacionalidad=Austria\", \"marker\": {\"color\": \"rgb(153,213,148)\"}, \"name\": \"Nacionalidad=Austria\", \"r\": [1], \"showlegend\": true, \"theta\": [\"cluster_5\"], \"type\": \"barpolar\", \"uid\": \"70c4d41d-d5c9-4074-bbc5-2828f7469b4d\"}, {\"hovertemplate\": \"Nacionalidad=Bahamas<br>counts=%{r}<br>prosume_cluster=%{theta}<extra></extra>\", \"legendgroup\": \"Nacionalidad=Bahamas\", \"marker\": {\"color\": \"rgb(50,136,189)\"}, \"name\": \"Nacionalidad=Bahamas\", \"r\": [1], \"showlegend\": true, \"theta\": [\"cluster_5\"], \"type\": \"barpolar\", \"uid\": \"a47ef60a-c117-4220-885e-d4731d0a08d4\"}, {\"hovertemplate\": \"Nacionalidad=Brasil<br>counts=%{r}<br>prosume_cluster=%{theta}<extra></extra>\", \"legendgroup\": \"Nacionalidad=Brasil\", \"marker\": {\"color\": \"rgb(213,62,79)\"}, \"name\": \"Nacionalidad=Brasil\", \"r\": [1, 1, 1], \"showlegend\": true, \"theta\": [\"cluster_2\", \"cluster_4\", \"cluster_5\"], \"type\": \"barpolar\", \"uid\": \"30a17031-7282-42b4-a0a4-b41894b1b915\"}, {\"hovertemplate\": \"Nacionalidad=Canad\\u00e1<br>counts=%{r}<br>prosume_cluster=%{theta}<extra></extra>\", \"legendgroup\": \"Nacionalidad=Canad\\u00e1\", \"marker\": {\"color\": \"rgb(252,141,89)\"}, \"name\": \"Nacionalidad=Canad\\u00e1\", \"r\": [1, 1, 3, 4], \"showlegend\": true, \"theta\": [\"cluster_2\", \"cluster_3\", \"cluster_4\", \"cluster_5\"], \"type\": \"barpolar\", \"uid\": \"1c0e3451-49d1-4874-8133-33d9ed9cc163\"}, {\"hovertemplate\": \"Nacionalidad=Chile<br>counts=%{r}<br>prosume_cluster=%{theta}<extra></extra>\", \"legendgroup\": \"Nacionalidad=Chile\", \"marker\": {\"color\": \"rgb(254,224,139)\"}, \"name\": \"Nacionalidad=Chile\", \"r\": [1], \"showlegend\": true, \"theta\": [\"cluster_5\"], \"type\": \"barpolar\", \"uid\": \"5ea82b4f-a1c0-4eae-a737-43b9a5f9477c\"}, {\"hovertemplate\": \"Nacionalidad=China<br>counts=%{r}<br>prosume_cluster=%{theta}<extra></extra>\", \"legendgroup\": \"Nacionalidad=China\", \"marker\": {\"color\": \"rgb(230,245,152)\"}, \"name\": \"Nacionalidad=China\", \"r\": [1], \"showlegend\": true, \"theta\": [\"cluster_2\"], \"type\": \"barpolar\", \"uid\": \"7ee64dc4-2211-449d-9509-c16d9070620b\"}, {\"hovertemplate\": \"Nacionalidad=Colombia<br>counts=%{r}<br>prosume_cluster=%{theta}<extra></extra>\", \"legendgroup\": \"Nacionalidad=Colombia\", \"marker\": {\"color\": \"rgb(153,213,148)\"}, \"name\": \"Nacionalidad=Colombia\", \"r\": [1], \"showlegend\": true, \"theta\": [\"cluster_5\"], \"type\": \"barpolar\", \"uid\": \"fccc201b-0cc5-4051-b90d-d931d6194cff\"}, {\"hovertemplate\": \"Nacionalidad=Cuba<br>counts=%{r}<br>prosume_cluster=%{theta}<extra></extra>\", \"legendgroup\": \"Nacionalidad=Cuba\", \"marker\": {\"color\": \"rgb(50,136,189)\"}, \"name\": \"Nacionalidad=Cuba\", \"r\": [1], \"showlegend\": true, \"theta\": [\"cluster_4\"], \"type\": \"barpolar\", \"uid\": \"39dceb72-0a56-4632-b4bd-0d6f6ec76502\"}, {\"hovertemplate\": \"Nacionalidad=Escocia<br>counts=%{r}<br>prosume_cluster=%{theta}<extra></extra>\", \"legendgroup\": \"Nacionalidad=Escocia\", \"marker\": {\"color\": \"rgb(213,62,79)\"}, \"name\": \"Nacionalidad=Escocia\", \"r\": [1], \"showlegend\": true, \"theta\": [\"cluster_5\"], \"type\": \"barpolar\", \"uid\": \"6bb56fbc-7025-4d31-bf57-6fe6e54831e5\"}, {\"hovertemplate\": \"Nacionalidad=Eslovaquia<br>counts=%{r}<br>prosume_cluster=%{theta}<extra></extra>\", \"legendgroup\": \"Nacionalidad=Eslovaquia\", \"marker\": {\"color\": \"rgb(252,141,89)\"}, \"name\": \"Nacionalidad=Eslovaquia\", \"r\": [1], \"showlegend\": true, \"theta\": [\"cluster_5\"], \"type\": \"barpolar\", \"uid\": \"805e98b6-924f-4898-bc6c-048123c02188\"}, {\"hovertemplate\": \"Nacionalidad=Espa\\u00f1a<br>counts=%{r}<br>prosume_cluster=%{theta}<extra></extra>\", \"legendgroup\": \"Nacionalidad=Espa\\u00f1a\", \"marker\": {\"color\": \"rgb(254,224,139)\"}, \"name\": \"Nacionalidad=Espa\\u00f1a\", \"r\": [87, 1, 56, 73], \"showlegend\": true, \"theta\": [\"cluster_2\", \"cluster_3\", \"cluster_4\", \"cluster_5\"], \"type\": \"barpolar\", \"uid\": \"f866fe95-37e2-402d-8cce-f02ca74eb999\"}, {\"hovertemplate\": \"Nacionalidad=Estados Unidos de Am\\u00e9rica<br>counts=%{r}<br>prosume_cluster=%{theta}<extra></extra>\", \"legendgroup\": \"Nacionalidad=Estados Unidos de Am\\u00e9rica\", \"marker\": {\"color\": \"rgb(230,245,152)\"}, \"name\": \"Nacionalidad=Estados Unidos de Am\\u00e9rica\", \"r\": [19, 65, 33, 21, 168], \"showlegend\": true, \"theta\": [\"cluster_1\", \"cluster_2\", \"cluster_3\", \"cluster_4\", \"cluster_5\"], \"type\": \"barpolar\", \"uid\": \"4365016f-e807-4b3e-93fc-1c911e3d057b\"}, {\"hovertemplate\": \"Nacionalidad=Francia<br>counts=%{r}<br>prosume_cluster=%{theta}<extra></extra>\", \"legendgroup\": \"Nacionalidad=Francia\", \"marker\": {\"color\": \"rgb(153,213,148)\"}, \"name\": \"Nacionalidad=Francia\", \"r\": [4, 7, 8], \"showlegend\": true, \"theta\": [\"cluster_2\", \"cluster_4\", \"cluster_5\"], \"type\": \"barpolar\", \"uid\": \"d11ad6ac-ff66-4b25-a9b6-88e954f2ff79\"}, {\"hovertemplate\": \"Nacionalidad=India<br>counts=%{r}<br>prosume_cluster=%{theta}<extra></extra>\", \"legendgroup\": \"Nacionalidad=India\", \"marker\": {\"color\": \"rgb(50,136,189)\"}, \"name\": \"Nacionalidad=India\", \"r\": [14, 26, 50, 1, 29], \"showlegend\": true, \"theta\": [\"cluster_1\", \"cluster_2\", \"cluster_3\", \"cluster_4\", \"cluster_5\"], \"type\": \"barpolar\", \"uid\": \"32e605cd-152f-4153-bb56-53527ff13f58\"}, {\"hovertemplate\": \"Nacionalidad=Indonesia<br>counts=%{r}<br>prosume_cluster=%{theta}<extra></extra>\", \"legendgroup\": \"Nacionalidad=Indonesia\", \"marker\": {\"color\": \"rgb(213,62,79)\"}, \"name\": \"Nacionalidad=Indonesia\", \"r\": [1], \"showlegend\": true, \"theta\": [\"cluster_3\"], \"type\": \"barpolar\", \"uid\": \"d0caf320-da49-4fc7-8334-c7057da8de52\"}, {\"hovertemplate\": \"Nacionalidad=Inglaterra<br>counts=%{r}<br>prosume_cluster=%{theta}<extra></extra>\", \"legendgroup\": \"Nacionalidad=Inglaterra\", \"marker\": {\"color\": \"rgb(252,141,89)\"}, \"name\": \"Nacionalidad=Inglaterra\", \"r\": [1, 2, 7], \"showlegend\": true, \"theta\": [\"cluster_3\", \"cluster_4\", \"cluster_5\"], \"type\": \"barpolar\", \"uid\": \"701bbeb0-8c36-4b79-a3dc-7e60d13d1c1a\"}, {\"hovertemplate\": \"Nacionalidad=Irlanda<br>counts=%{r}<br>prosume_cluster=%{theta}<extra></extra>\", \"legendgroup\": \"Nacionalidad=Irlanda\", \"marker\": {\"color\": \"rgb(254,224,139)\"}, \"name\": \"Nacionalidad=Irlanda\", \"r\": [2], \"showlegend\": true, \"theta\": [\"cluster_5\"], \"type\": \"barpolar\", \"uid\": \"d5dd5695-3f08-4f7c-8368-9f32645fefe6\"}, {\"hovertemplate\": \"Nacionalidad=Islandia<br>counts=%{r}<br>prosume_cluster=%{theta}<extra></extra>\", \"legendgroup\": \"Nacionalidad=Islandia\", \"marker\": {\"color\": \"rgb(230,245,152)\"}, \"name\": \"Nacionalidad=Islandia\", \"r\": [1], \"showlegend\": true, \"theta\": [\"cluster_5\"], \"type\": \"barpolar\", \"uid\": \"62424934-2af8-4e5b-bc57-c61701a1f002\"}, {\"hovertemplate\": \"Nacionalidad=Italia<br>counts=%{r}<br>prosume_cluster=%{theta}<extra></extra>\", \"legendgroup\": \"Nacionalidad=Italia\", \"marker\": {\"color\": \"rgb(153,213,148)\"}, \"name\": \"Nacionalidad=Italia\", \"r\": [3, 3, 5], \"showlegend\": true, \"theta\": [\"cluster_3\", \"cluster_4\", \"cluster_5\"], \"type\": \"barpolar\", \"uid\": \"4ae78bdf-8877-40a9-9618-6d24139cf563\"}, {\"hovertemplate\": \"Nacionalidad=Macedonia<br>counts=%{r}<br>prosume_cluster=%{theta}<extra></extra>\", \"legendgroup\": \"Nacionalidad=Macedonia\", \"marker\": {\"color\": \"rgb(50,136,189)\"}, \"name\": \"Nacionalidad=Macedonia\", \"r\": [1], \"showlegend\": true, \"theta\": [\"cluster_5\"], \"type\": \"barpolar\", \"uid\": \"48558387-1081-46e4-b933-3245098d4e91\"}, {\"hovertemplate\": \"Nacionalidad=M\\u00e9xico<br>counts=%{r}<br>prosume_cluster=%{theta}<extra></extra>\", \"legendgroup\": \"Nacionalidad=M\\u00e9xico\", \"marker\": {\"color\": \"rgb(213,62,79)\"}, \"name\": \"Nacionalidad=M\\u00e9xico\", \"r\": [1], \"showlegend\": true, \"theta\": [\"cluster_5\"], \"type\": \"barpolar\", \"uid\": \"8eefcbd5-f2a3-4702-9295-413f3fa9a154\"}, {\"hovertemplate\": \"Nacionalidad=Nigeria<br>counts=%{r}<br>prosume_cluster=%{theta}<extra></extra>\", \"legendgroup\": \"Nacionalidad=Nigeria\", \"marker\": {\"color\": \"rgb(252,141,89)\"}, \"name\": \"Nacionalidad=Nigeria\", \"r\": [3, 1], \"showlegend\": true, \"theta\": [\"cluster_2\", \"cluster_5\"], \"type\": \"barpolar\", \"uid\": \"509d09b3-579a-42a8-815a-b089417083b2\"}, {\"hovertemplate\": \"Nacionalidad=Nueva Zelanda<br>counts=%{r}<br>prosume_cluster=%{theta}<extra></extra>\", \"legendgroup\": \"Nacionalidad=Nueva Zelanda\", \"marker\": {\"color\": \"rgb(254,224,139)\"}, \"name\": \"Nacionalidad=Nueva Zelanda\", \"r\": [1], \"showlegend\": true, \"theta\": [\"cluster_3\"], \"type\": \"barpolar\", \"uid\": \"742633b7-dfff-4d01-8d01-0d18424d4667\"}, {\"hovertemplate\": \"Nacionalidad=Paquistan<br>counts=%{r}<br>prosume_cluster=%{theta}<extra></extra>\", \"legendgroup\": \"Nacionalidad=Paquistan\", \"marker\": {\"color\": \"rgb(230,245,152)\"}, \"name\": \"Nacionalidad=Paquistan\", \"r\": [1], \"showlegend\": true, \"theta\": [\"cluster_5\"], \"type\": \"barpolar\", \"uid\": \"6fc5f060-305f-464f-a0af-e99b04198f2c\"}, {\"hovertemplate\": \"Nacionalidad=Rep\\u00fablica Dominicana<br>counts=%{r}<br>prosume_cluster=%{theta}<extra></extra>\", \"legendgroup\": \"Nacionalidad=Rep\\u00fablica Dominicana\", \"marker\": {\"color\": \"rgb(153,213,148)\"}, \"name\": \"Nacionalidad=Rep\\u00fablica Dominicana\", \"r\": [2], \"showlegend\": true, \"theta\": [\"cluster_5\"], \"type\": \"barpolar\", \"uid\": \"698de10a-5c3a-4d7b-b3f4-500dad68b28e\"}, {\"hovertemplate\": \"Nacionalidad=Rusia<br>counts=%{r}<br>prosume_cluster=%{theta}<extra></extra>\", \"legendgroup\": \"Nacionalidad=Rusia\", \"marker\": {\"color\": \"rgb(50,136,189)\"}, \"name\": \"Nacionalidad=Rusia\", \"r\": [1, 1], \"showlegend\": true, \"theta\": [\"cluster_3\", \"cluster_4\"], \"type\": \"barpolar\", \"uid\": \"d39d4b9b-4c5b-4fe0-a14a-d06343d77cd6\"}, {\"hovertemplate\": \"Nacionalidad=Sud\\u00e1n<br>counts=%{r}<br>prosume_cluster=%{theta}<extra></extra>\", \"legendgroup\": \"Nacionalidad=Sud\\u00e1n\", \"marker\": {\"color\": \"rgb(213,62,79)\"}, \"name\": \"Nacionalidad=Sud\\u00e1n\", \"r\": [1], \"showlegend\": true, \"theta\": [\"cluster_4\"], \"type\": \"barpolar\", \"uid\": \"1581c5b1-a4ff-4cd1-9ac0-b58fa4c5e492\"}, {\"hovertemplate\": \"Nacionalidad=Ukrania<br>counts=%{r}<br>prosume_cluster=%{theta}<extra></extra>\", \"legendgroup\": \"Nacionalidad=Ukrania\", \"marker\": {\"color\": \"rgb(252,141,89)\"}, \"name\": \"Nacionalidad=Ukrania\", \"r\": [1], \"showlegend\": true, \"theta\": [\"cluster_2\"], \"type\": \"barpolar\", \"uid\": \"614bb7d3-fecc-4a8e-b349-45ddcd1d3260\"}, {\"hovertemplate\": \"Nacionalidad=Unknown<br>counts=%{r}<br>prosume_cluster=%{theta}<extra></extra>\", \"legendgroup\": \"Nacionalidad=Unknown\", \"marker\": {\"color\": \"rgb(254,224,139)\"}, \"name\": \"Nacionalidad=Unknown\", \"r\": [4, 6, 6, 22], \"showlegend\": true, \"theta\": [\"cluster_1\", \"cluster_2\", \"cluster_3\", \"cluster_5\"], \"type\": \"barpolar\", \"uid\": \"0f96e5e6-a2df-4f7f-b7a8-0008d187b29b\"}, {\"hovertemplate\": \"Nacionalidad=Venezuela<br>counts=%{r}<br>prosume_cluster=%{theta}<extra></extra>\", \"legendgroup\": \"Nacionalidad=Venezuela\", \"marker\": {\"color\": \"rgb(230,245,152)\"}, \"name\": \"Nacionalidad=Venezuela\", \"r\": [2, 2], \"showlegend\": true, \"theta\": [\"cluster_3\", \"cluster_5\"], \"type\": \"barpolar\", \"uid\": \"05b31ecd-0184-4c20-ac77-a7864a4f414d\"}], {\"barmode\": \"group\", \"barnorm\": \"\", \"height\": 600, \"legend\": {\"tracegroupgap\": 0}, \"margin\": {\"t\": 60}, \"template\": {\"data\": {\"barpolar\": [{\"marker\": {\"line\": {\"color\": \"#E5ECF6\", \"width\": 0.5}}, \"type\": \"barpolar\"}], \"bar\": [{\"marker\": {\"line\": {\"color\": \"#E5ECF6\", \"width\": 0.5}}, \"type\": \"bar\"}], \"carpet\": [{\"aaxis\": {\"endlinecolor\": \"#2a3f5f\", \"gridcolor\": \"white\", \"linecolor\": \"white\", \"minorgridcolor\": \"white\", \"startlinecolor\": \"#2a3f5f\"}, \"baxis\": {\"endlinecolor\": \"#2a3f5f\", \"gridcolor\": \"white\", \"linecolor\": \"white\", \"minorgridcolor\": \"white\", \"startlinecolor\": \"#2a3f5f\"}, \"type\": \"carpet\"}], \"choropleth\": [{\"colorbar\": {\"outlinewidth\": 0, \"ticks\": \"\"}, \"type\": \"choropleth\"}], \"contourcarpet\": [{\"colorbar\": {\"outlinewidth\": 0, \"ticks\": \"\"}, \"type\": \"contourcarpet\"}], \"contour\": [{\"autocolorscale\": true, \"colorbar\": {\"outlinewidth\": 0, \"ticks\": \"\"}, \"type\": \"contour\"}], \"heatmapgl\": [{\"colorbar\": {\"outlinewidth\": 0, \"ticks\": \"\"}, \"type\": \"heatmapgl\"}], \"heatmap\": [{\"autocolorscale\": true, \"colorbar\": {\"outlinewidth\": 0, \"ticks\": \"\"}, \"type\": \"heatmap\"}], \"histogram2dcontour\": [{\"autocolorscale\": true, \"colorbar\": {\"outlinewidth\": 0, \"ticks\": \"\"}, \"type\": \"histogram2dcontour\"}], \"histogram2d\": [{\"autocolorscale\": true, \"colorbar\": {\"outlinewidth\": 0, \"ticks\": \"\"}, \"type\": \"histogram2d\"}], \"histogram\": [{\"marker\": {\"colorbar\": {\"outlinewidth\": 0, \"ticks\": \"\"}}, \"type\": \"histogram\"}], \"mesh3d\": [{\"colorbar\": {\"outlinewidth\": 0, \"ticks\": \"\"}, \"type\": \"mesh3d\"}], \"parcoords\": [{\"line\": {\"colorbar\": {\"outlinewidth\": 0, \"ticks\": \"\"}}, \"type\": \"parcoords\"}], \"scatter3d\": [{\"marker\": {\"colorbar\": {\"outlinewidth\": 0, \"ticks\": \"\"}}, \"type\": \"scatter3d\"}], \"scattercarpet\": [{\"marker\": {\"colorbar\": {\"outlinewidth\": 0, \"ticks\": \"\"}}, \"type\": \"scattercarpet\"}], \"scattergeo\": [{\"marker\": {\"colorbar\": {\"outlinewidth\": 0, \"ticks\": \"\"}}, \"type\": \"scattergeo\"}], \"scattergl\": [{\"marker\": {\"colorbar\": {\"outlinewidth\": 0, \"ticks\": \"\"}}, \"type\": \"scattergl\"}], \"scattermapbox\": [{\"marker\": {\"colorbar\": {\"outlinewidth\": 0, \"ticks\": \"\"}}, \"type\": \"scattermapbox\"}], \"scatterpolargl\": [{\"marker\": {\"colorbar\": {\"outlinewidth\": 0, \"ticks\": \"\"}}, \"type\": \"scatterpolargl\"}], \"scatterpolar\": [{\"marker\": {\"colorbar\": {\"outlinewidth\": 0, \"ticks\": \"\"}}, \"type\": \"scatterpolar\"}], \"scatter\": [{\"marker\": {\"colorbar\": {\"outlinewidth\": 0, \"ticks\": \"\"}}, \"type\": \"scatter\"}], \"scatterternary\": [{\"marker\": {\"colorbar\": {\"outlinewidth\": 0, \"ticks\": \"\"}}, \"type\": \"scatterternary\"}], \"surface\": [{\"colorbar\": {\"outlinewidth\": 0, \"ticks\": \"\"}, \"type\": \"surface\"}], \"table\": [{\"cells\": {\"fill\": {\"color\": \"#EBF0F8\"}, \"line\": {\"color\": \"white\"}}, \"header\": {\"fill\": {\"color\": \"#C8D4E3\"}, \"line\": {\"color\": \"white\"}}, \"type\": \"table\"}]}, \"layout\": {\"annotationdefaults\": {\"arrowcolor\": \"#506784\", \"arrowhead\": 0, \"arrowwidth\": 1}, \"colorscale\": {\"diverging\": [[0, \"#8e0152\"], [0.1, \"#c51b7d\"], [0.2, \"#de77ae\"], [0.3, \"#f1b6da\"], [0.4, \"#fde0ef\"], [0.5, \"#f7f7f7\"], [0.6, \"#e6f5d0\"], [0.7, \"#b8e186\"], [0.8, \"#7fbc41\"], [0.9, \"#4d9221\"], [1, \"#276419\"]], \"sequential\": [[0.0, \"#0508b8\"], [0.0893854748603352, \"#1910d8\"], [0.1787709497206704, \"#3c19f0\"], [0.2681564245810056, \"#6b1cfb\"], [0.3575418994413408, \"#981cfd\"], [0.44692737430167595, \"#bf1cfd\"], [0.5363128491620112, \"#dd2bfd\"], [0.6256983240223464, \"#f246fe\"], [0.7150837988826816, \"#fc67fd\"], [0.8044692737430168, \"#fe88fc\"], [0.8938547486033519, \"#fea5fd\"], [0.9832402234636871, \"#febefe\"], [1.0, \"#fec3fe\"]], \"sequentialminus\": [[0.0, \"#0508b8\"], [0.0893854748603352, \"#1910d8\"], [0.1787709497206704, \"#3c19f0\"], [0.2681564245810056, \"#6b1cfb\"], [0.3575418994413408, \"#981cfd\"], [0.44692737430167595, \"#bf1cfd\"], [0.5363128491620112, \"#dd2bfd\"], [0.6256983240223464, \"#f246fe\"], [0.7150837988826816, \"#fc67fd\"], [0.8044692737430168, \"#fe88fc\"], [0.8938547486033519, \"#fea5fd\"], [0.9832402234636871, \"#febefe\"], [1.0, \"#fec3fe\"]]}, \"colorway\": [\"#636efa\", \"#EF553B\", \"#00cc96\", \"#ab63fa\", \"#19d3f3\", \"#e763fa\", \"#FECB52\", \"#FFA15A\", \"#FF6692\", \"#B6E880\"], \"font\": {\"color\": \"#2a3f5f\"}, \"geo\": {\"bgcolor\": \"white\", \"lakecolor\": \"white\", \"landcolor\": \"#E5ECF6\", \"showlakes\": true, \"showland\": true, \"subunitcolor\": \"white\"}, \"hovermode\": \"closest\", \"mapbox\": {\"style\": \"light\"}, \"paper_bgcolor\": \"white\", \"plot_bgcolor\": \"#E5ECF6\", \"polar\": {\"angularaxis\": {\"gridcolor\": \"white\", \"linecolor\": \"white\", \"ticks\": \"\"}, \"bgcolor\": \"#E5ECF6\", \"radialaxis\": {\"gridcolor\": \"white\", \"linecolor\": \"white\", \"ticks\": \"\"}}, \"scene\": {\"xaxis\": {\"backgroundcolor\": \"#E5ECF6\", \"gridcolor\": \"white\", \"gridwidth\": 2, \"linecolor\": \"white\", \"showbackground\": true, \"ticks\": \"\", \"zerolinecolor\": \"white\"}, \"yaxis\": {\"backgroundcolor\": \"#E5ECF6\", \"gridcolor\": \"white\", \"gridwidth\": 2, \"linecolor\": \"white\", \"showbackground\": true, \"ticks\": \"\", \"zerolinecolor\": \"white\"}, \"zaxis\": {\"backgroundcolor\": \"#E5ECF6\", \"gridcolor\": \"white\", \"gridwidth\": 2, \"linecolor\": \"white\", \"showbackground\": true, \"ticks\": \"\", \"zerolinecolor\": \"white\"}}, \"shapedefaults\": {\"fillcolor\": \"#506784\", \"line\": {\"width\": 0}, \"opacity\": 0.4}, \"ternary\": {\"aaxis\": {\"gridcolor\": \"white\", \"linecolor\": \"white\", \"ticks\": \"\"}, \"baxis\": {\"gridcolor\": \"white\", \"linecolor\": \"white\", \"ticks\": \"\"}, \"bgcolor\": \"#E5ECF6\", \"caxis\": {\"gridcolor\": \"white\", \"linecolor\": \"white\", \"ticks\": \"\"}}, \"title\": {\"x\": 0.05}, \"xaxis\": {\"automargin\": true, \"gridcolor\": \"white\", \"linecolor\": \"white\", \"ticks\": \"\", \"zerolinecolor\": \"white\", \"zerolinewidth\": 2}, \"yaxis\": {\"automargin\": true, \"gridcolor\": \"white\", \"linecolor\": \"white\", \"ticks\": \"\", \"zerolinecolor\": \"white\", \"zerolinewidth\": 2}}}, \"polar\": {\"angularaxis\": {\"direction\": \"clockwise\", \"rotation\": 90}}}, {\"showLink\": false, \"linkText\": \"Export to plot.ly\", \"plotlyServerURL\": \"https://plot.ly\"}); \n",
       "}\n",
       "});</script><script type=\"text/javascript\">window.addEventListener(\"resize\", function(){if (document.getElementById(\"2b99deab-52df-4c0b-9a3c-5644542a5611\")) {window._Plotly.Plots.resize(document.getElementById(\"2b99deab-52df-4c0b-9a3c-5644542a5611\"));};})</script>"
      ],
      "text/vnd.plotly.v1+html": [
       "<div id=\"2b99deab-52df-4c0b-9a3c-5644542a5611\" style=\"height: 600px; width: 100%;\" class=\"plotly-graph-div\"></div><script type=\"text/javascript\">require([\"plotly\"], function(Plotly) { window.PLOTLYENV=window.PLOTLYENV || {};window.PLOTLYENV.BASE_URL=\"https://plot.ly\";\n",
       "if (document.getElementById(\"2b99deab-52df-4c0b-9a3c-5644542a5611\")) {\n",
       "    Plotly.newPlot(\"2b99deab-52df-4c0b-9a3c-5644542a5611\", [{\"hovertemplate\": \"Nacionalidad=Albania<br>counts=%{r}<br>prosume_cluster=%{theta}<extra></extra>\", \"legendgroup\": \"Nacionalidad=Albania\", \"marker\": {\"color\": \"rgb(213,62,79)\"}, \"name\": \"Nacionalidad=Albania\", \"r\": [1], \"showlegend\": true, \"theta\": [\"cluster_2\"], \"type\": \"barpolar\", \"uid\": \"72c25d7e-a11b-4ec9-891f-c1d93c828765\"}, {\"hovertemplate\": \"Nacionalidad=Alemania<br>counts=%{r}<br>prosume_cluster=%{theta}<extra></extra>\", \"legendgroup\": \"Nacionalidad=Alemania\", \"marker\": {\"color\": \"rgb(252,141,89)\"}, \"name\": \"Nacionalidad=Alemania\", \"r\": [1], \"showlegend\": true, \"theta\": [\"cluster_5\"], \"type\": \"barpolar\", \"uid\": \"3fb111e9-e0a7-4bdf-b00b-14a84a24e9f5\"}, {\"hovertemplate\": \"Nacionalidad=Argentina<br>counts=%{r}<br>prosume_cluster=%{theta}<extra></extra>\", \"legendgroup\": \"Nacionalidad=Argentina\", \"marker\": {\"color\": \"rgb(254,224,139)\"}, \"name\": \"Nacionalidad=Argentina\", \"r\": [1], \"showlegend\": true, \"theta\": [\"cluster_5\"], \"type\": \"barpolar\", \"uid\": \"c28311bc-5afd-47f7-8c87-15ca1eb945df\"}, {\"hovertemplate\": \"Nacionalidad=Australia<br>counts=%{r}<br>prosume_cluster=%{theta}<extra></extra>\", \"legendgroup\": \"Nacionalidad=Australia\", \"marker\": {\"color\": \"rgb(230,245,152)\"}, \"name\": \"Nacionalidad=Australia\", \"r\": [1], \"showlegend\": true, \"theta\": [\"cluster_4\"], \"type\": \"barpolar\", \"uid\": \"a48acb27-45bb-4405-be23-6ab73002a608\"}, {\"hovertemplate\": \"Nacionalidad=Austria<br>counts=%{r}<br>prosume_cluster=%{theta}<extra></extra>\", \"legendgroup\": \"Nacionalidad=Austria\", \"marker\": {\"color\": \"rgb(153,213,148)\"}, \"name\": \"Nacionalidad=Austria\", \"r\": [1], \"showlegend\": true, \"theta\": [\"cluster_5\"], \"type\": \"barpolar\", \"uid\": \"70c4d41d-d5c9-4074-bbc5-2828f7469b4d\"}, {\"hovertemplate\": \"Nacionalidad=Bahamas<br>counts=%{r}<br>prosume_cluster=%{theta}<extra></extra>\", \"legendgroup\": \"Nacionalidad=Bahamas\", \"marker\": {\"color\": \"rgb(50,136,189)\"}, \"name\": \"Nacionalidad=Bahamas\", \"r\": [1], \"showlegend\": true, \"theta\": [\"cluster_5\"], \"type\": \"barpolar\", \"uid\": \"a47ef60a-c117-4220-885e-d4731d0a08d4\"}, {\"hovertemplate\": \"Nacionalidad=Brasil<br>counts=%{r}<br>prosume_cluster=%{theta}<extra></extra>\", \"legendgroup\": \"Nacionalidad=Brasil\", \"marker\": {\"color\": \"rgb(213,62,79)\"}, \"name\": \"Nacionalidad=Brasil\", \"r\": [1, 1, 1], \"showlegend\": true, \"theta\": [\"cluster_2\", \"cluster_4\", \"cluster_5\"], \"type\": \"barpolar\", \"uid\": \"30a17031-7282-42b4-a0a4-b41894b1b915\"}, {\"hovertemplate\": \"Nacionalidad=Canad\\u00e1<br>counts=%{r}<br>prosume_cluster=%{theta}<extra></extra>\", \"legendgroup\": \"Nacionalidad=Canad\\u00e1\", \"marker\": {\"color\": \"rgb(252,141,89)\"}, \"name\": \"Nacionalidad=Canad\\u00e1\", \"r\": [1, 1, 3, 4], \"showlegend\": true, \"theta\": [\"cluster_2\", \"cluster_3\", \"cluster_4\", \"cluster_5\"], \"type\": \"barpolar\", \"uid\": \"1c0e3451-49d1-4874-8133-33d9ed9cc163\"}, {\"hovertemplate\": \"Nacionalidad=Chile<br>counts=%{r}<br>prosume_cluster=%{theta}<extra></extra>\", \"legendgroup\": \"Nacionalidad=Chile\", \"marker\": {\"color\": \"rgb(254,224,139)\"}, \"name\": \"Nacionalidad=Chile\", \"r\": [1], \"showlegend\": true, \"theta\": [\"cluster_5\"], \"type\": \"barpolar\", \"uid\": \"5ea82b4f-a1c0-4eae-a737-43b9a5f9477c\"}, {\"hovertemplate\": \"Nacionalidad=China<br>counts=%{r}<br>prosume_cluster=%{theta}<extra></extra>\", \"legendgroup\": \"Nacionalidad=China\", \"marker\": {\"color\": \"rgb(230,245,152)\"}, \"name\": \"Nacionalidad=China\", \"r\": [1], \"showlegend\": true, \"theta\": [\"cluster_2\"], \"type\": \"barpolar\", \"uid\": \"7ee64dc4-2211-449d-9509-c16d9070620b\"}, {\"hovertemplate\": \"Nacionalidad=Colombia<br>counts=%{r}<br>prosume_cluster=%{theta}<extra></extra>\", \"legendgroup\": \"Nacionalidad=Colombia\", \"marker\": {\"color\": \"rgb(153,213,148)\"}, \"name\": \"Nacionalidad=Colombia\", \"r\": [1], \"showlegend\": true, \"theta\": [\"cluster_5\"], \"type\": \"barpolar\", \"uid\": \"fccc201b-0cc5-4051-b90d-d931d6194cff\"}, {\"hovertemplate\": \"Nacionalidad=Cuba<br>counts=%{r}<br>prosume_cluster=%{theta}<extra></extra>\", \"legendgroup\": \"Nacionalidad=Cuba\", \"marker\": {\"color\": \"rgb(50,136,189)\"}, \"name\": \"Nacionalidad=Cuba\", \"r\": [1], \"showlegend\": true, \"theta\": [\"cluster_4\"], \"type\": \"barpolar\", \"uid\": \"39dceb72-0a56-4632-b4bd-0d6f6ec76502\"}, {\"hovertemplate\": \"Nacionalidad=Escocia<br>counts=%{r}<br>prosume_cluster=%{theta}<extra></extra>\", \"legendgroup\": \"Nacionalidad=Escocia\", \"marker\": {\"color\": \"rgb(213,62,79)\"}, \"name\": \"Nacionalidad=Escocia\", \"r\": [1], \"showlegend\": true, \"theta\": [\"cluster_5\"], \"type\": \"barpolar\", \"uid\": \"6bb56fbc-7025-4d31-bf57-6fe6e54831e5\"}, {\"hovertemplate\": \"Nacionalidad=Eslovaquia<br>counts=%{r}<br>prosume_cluster=%{theta}<extra></extra>\", \"legendgroup\": \"Nacionalidad=Eslovaquia\", \"marker\": {\"color\": \"rgb(252,141,89)\"}, \"name\": \"Nacionalidad=Eslovaquia\", \"r\": [1], \"showlegend\": true, \"theta\": [\"cluster_5\"], \"type\": \"barpolar\", \"uid\": \"805e98b6-924f-4898-bc6c-048123c02188\"}, {\"hovertemplate\": \"Nacionalidad=Espa\\u00f1a<br>counts=%{r}<br>prosume_cluster=%{theta}<extra></extra>\", \"legendgroup\": \"Nacionalidad=Espa\\u00f1a\", \"marker\": {\"color\": \"rgb(254,224,139)\"}, \"name\": \"Nacionalidad=Espa\\u00f1a\", \"r\": [87, 1, 56, 73], \"showlegend\": true, \"theta\": [\"cluster_2\", \"cluster_3\", \"cluster_4\", \"cluster_5\"], \"type\": \"barpolar\", \"uid\": \"f866fe95-37e2-402d-8cce-f02ca74eb999\"}, {\"hovertemplate\": \"Nacionalidad=Estados Unidos de Am\\u00e9rica<br>counts=%{r}<br>prosume_cluster=%{theta}<extra></extra>\", \"legendgroup\": \"Nacionalidad=Estados Unidos de Am\\u00e9rica\", \"marker\": {\"color\": \"rgb(230,245,152)\"}, \"name\": \"Nacionalidad=Estados Unidos de Am\\u00e9rica\", \"r\": [19, 65, 33, 21, 168], \"showlegend\": true, \"theta\": [\"cluster_1\", \"cluster_2\", \"cluster_3\", \"cluster_4\", \"cluster_5\"], \"type\": \"barpolar\", \"uid\": \"4365016f-e807-4b3e-93fc-1c911e3d057b\"}, {\"hovertemplate\": \"Nacionalidad=Francia<br>counts=%{r}<br>prosume_cluster=%{theta}<extra></extra>\", \"legendgroup\": \"Nacionalidad=Francia\", \"marker\": {\"color\": \"rgb(153,213,148)\"}, \"name\": \"Nacionalidad=Francia\", \"r\": [4, 7, 8], \"showlegend\": true, \"theta\": [\"cluster_2\", \"cluster_4\", \"cluster_5\"], \"type\": \"barpolar\", \"uid\": \"d11ad6ac-ff66-4b25-a9b6-88e954f2ff79\"}, {\"hovertemplate\": \"Nacionalidad=India<br>counts=%{r}<br>prosume_cluster=%{theta}<extra></extra>\", \"legendgroup\": \"Nacionalidad=India\", \"marker\": {\"color\": \"rgb(50,136,189)\"}, \"name\": \"Nacionalidad=India\", \"r\": [14, 26, 50, 1, 29], \"showlegend\": true, \"theta\": [\"cluster_1\", \"cluster_2\", \"cluster_3\", \"cluster_4\", \"cluster_5\"], \"type\": \"barpolar\", \"uid\": \"32e605cd-152f-4153-bb56-53527ff13f58\"}, {\"hovertemplate\": \"Nacionalidad=Indonesia<br>counts=%{r}<br>prosume_cluster=%{theta}<extra></extra>\", \"legendgroup\": \"Nacionalidad=Indonesia\", \"marker\": {\"color\": \"rgb(213,62,79)\"}, \"name\": \"Nacionalidad=Indonesia\", \"r\": [1], \"showlegend\": true, \"theta\": [\"cluster_3\"], \"type\": \"barpolar\", \"uid\": \"d0caf320-da49-4fc7-8334-c7057da8de52\"}, {\"hovertemplate\": \"Nacionalidad=Inglaterra<br>counts=%{r}<br>prosume_cluster=%{theta}<extra></extra>\", \"legendgroup\": \"Nacionalidad=Inglaterra\", \"marker\": {\"color\": \"rgb(252,141,89)\"}, \"name\": \"Nacionalidad=Inglaterra\", \"r\": [1, 2, 7], \"showlegend\": true, \"theta\": [\"cluster_3\", \"cluster_4\", \"cluster_5\"], \"type\": \"barpolar\", \"uid\": \"701bbeb0-8c36-4b79-a3dc-7e60d13d1c1a\"}, {\"hovertemplate\": \"Nacionalidad=Irlanda<br>counts=%{r}<br>prosume_cluster=%{theta}<extra></extra>\", \"legendgroup\": \"Nacionalidad=Irlanda\", \"marker\": {\"color\": \"rgb(254,224,139)\"}, \"name\": \"Nacionalidad=Irlanda\", \"r\": [2], \"showlegend\": true, \"theta\": [\"cluster_5\"], \"type\": \"barpolar\", \"uid\": \"d5dd5695-3f08-4f7c-8368-9f32645fefe6\"}, {\"hovertemplate\": \"Nacionalidad=Islandia<br>counts=%{r}<br>prosume_cluster=%{theta}<extra></extra>\", \"legendgroup\": \"Nacionalidad=Islandia\", \"marker\": {\"color\": \"rgb(230,245,152)\"}, \"name\": \"Nacionalidad=Islandia\", \"r\": [1], \"showlegend\": true, \"theta\": [\"cluster_5\"], \"type\": \"barpolar\", \"uid\": \"62424934-2af8-4e5b-bc57-c61701a1f002\"}, {\"hovertemplate\": \"Nacionalidad=Italia<br>counts=%{r}<br>prosume_cluster=%{theta}<extra></extra>\", \"legendgroup\": \"Nacionalidad=Italia\", \"marker\": {\"color\": \"rgb(153,213,148)\"}, \"name\": \"Nacionalidad=Italia\", \"r\": [3, 3, 5], \"showlegend\": true, \"theta\": [\"cluster_3\", \"cluster_4\", \"cluster_5\"], \"type\": \"barpolar\", \"uid\": \"4ae78bdf-8877-40a9-9618-6d24139cf563\"}, {\"hovertemplate\": \"Nacionalidad=Macedonia<br>counts=%{r}<br>prosume_cluster=%{theta}<extra></extra>\", \"legendgroup\": \"Nacionalidad=Macedonia\", \"marker\": {\"color\": \"rgb(50,136,189)\"}, \"name\": \"Nacionalidad=Macedonia\", \"r\": [1], \"showlegend\": true, \"theta\": [\"cluster_5\"], \"type\": \"barpolar\", \"uid\": \"48558387-1081-46e4-b933-3245098d4e91\"}, {\"hovertemplate\": \"Nacionalidad=M\\u00e9xico<br>counts=%{r}<br>prosume_cluster=%{theta}<extra></extra>\", \"legendgroup\": \"Nacionalidad=M\\u00e9xico\", \"marker\": {\"color\": \"rgb(213,62,79)\"}, \"name\": \"Nacionalidad=M\\u00e9xico\", \"r\": [1], \"showlegend\": true, \"theta\": [\"cluster_5\"], \"type\": \"barpolar\", \"uid\": \"8eefcbd5-f2a3-4702-9295-413f3fa9a154\"}, {\"hovertemplate\": \"Nacionalidad=Nigeria<br>counts=%{r}<br>prosume_cluster=%{theta}<extra></extra>\", \"legendgroup\": \"Nacionalidad=Nigeria\", \"marker\": {\"color\": \"rgb(252,141,89)\"}, \"name\": \"Nacionalidad=Nigeria\", \"r\": [3, 1], \"showlegend\": true, \"theta\": [\"cluster_2\", \"cluster_5\"], \"type\": \"barpolar\", \"uid\": \"509d09b3-579a-42a8-815a-b089417083b2\"}, {\"hovertemplate\": \"Nacionalidad=Nueva Zelanda<br>counts=%{r}<br>prosume_cluster=%{theta}<extra></extra>\", \"legendgroup\": \"Nacionalidad=Nueva Zelanda\", \"marker\": {\"color\": \"rgb(254,224,139)\"}, \"name\": \"Nacionalidad=Nueva Zelanda\", \"r\": [1], \"showlegend\": true, \"theta\": [\"cluster_3\"], \"type\": \"barpolar\", \"uid\": \"742633b7-dfff-4d01-8d01-0d18424d4667\"}, {\"hovertemplate\": \"Nacionalidad=Paquistan<br>counts=%{r}<br>prosume_cluster=%{theta}<extra></extra>\", \"legendgroup\": \"Nacionalidad=Paquistan\", \"marker\": {\"color\": \"rgb(230,245,152)\"}, \"name\": \"Nacionalidad=Paquistan\", \"r\": [1], \"showlegend\": true, \"theta\": [\"cluster_5\"], \"type\": \"barpolar\", \"uid\": \"6fc5f060-305f-464f-a0af-e99b04198f2c\"}, {\"hovertemplate\": \"Nacionalidad=Rep\\u00fablica Dominicana<br>counts=%{r}<br>prosume_cluster=%{theta}<extra></extra>\", \"legendgroup\": \"Nacionalidad=Rep\\u00fablica Dominicana\", \"marker\": {\"color\": \"rgb(153,213,148)\"}, \"name\": \"Nacionalidad=Rep\\u00fablica Dominicana\", \"r\": [2], \"showlegend\": true, \"theta\": [\"cluster_5\"], \"type\": \"barpolar\", \"uid\": \"698de10a-5c3a-4d7b-b3f4-500dad68b28e\"}, {\"hovertemplate\": \"Nacionalidad=Rusia<br>counts=%{r}<br>prosume_cluster=%{theta}<extra></extra>\", \"legendgroup\": \"Nacionalidad=Rusia\", \"marker\": {\"color\": \"rgb(50,136,189)\"}, \"name\": \"Nacionalidad=Rusia\", \"r\": [1, 1], \"showlegend\": true, \"theta\": [\"cluster_3\", \"cluster_4\"], \"type\": \"barpolar\", \"uid\": \"d39d4b9b-4c5b-4fe0-a14a-d06343d77cd6\"}, {\"hovertemplate\": \"Nacionalidad=Sud\\u00e1n<br>counts=%{r}<br>prosume_cluster=%{theta}<extra></extra>\", \"legendgroup\": \"Nacionalidad=Sud\\u00e1n\", \"marker\": {\"color\": \"rgb(213,62,79)\"}, \"name\": \"Nacionalidad=Sud\\u00e1n\", \"r\": [1], \"showlegend\": true, \"theta\": [\"cluster_4\"], \"type\": \"barpolar\", \"uid\": \"1581c5b1-a4ff-4cd1-9ac0-b58fa4c5e492\"}, {\"hovertemplate\": \"Nacionalidad=Ukrania<br>counts=%{r}<br>prosume_cluster=%{theta}<extra></extra>\", \"legendgroup\": \"Nacionalidad=Ukrania\", \"marker\": {\"color\": \"rgb(252,141,89)\"}, \"name\": \"Nacionalidad=Ukrania\", \"r\": [1], \"showlegend\": true, \"theta\": [\"cluster_2\"], \"type\": \"barpolar\", \"uid\": \"614bb7d3-fecc-4a8e-b349-45ddcd1d3260\"}, {\"hovertemplate\": \"Nacionalidad=Unknown<br>counts=%{r}<br>prosume_cluster=%{theta}<extra></extra>\", \"legendgroup\": \"Nacionalidad=Unknown\", \"marker\": {\"color\": \"rgb(254,224,139)\"}, \"name\": \"Nacionalidad=Unknown\", \"r\": [4, 6, 6, 22], \"showlegend\": true, \"theta\": [\"cluster_1\", \"cluster_2\", \"cluster_3\", \"cluster_5\"], \"type\": \"barpolar\", \"uid\": \"0f96e5e6-a2df-4f7f-b7a8-0008d187b29b\"}, {\"hovertemplate\": \"Nacionalidad=Venezuela<br>counts=%{r}<br>prosume_cluster=%{theta}<extra></extra>\", \"legendgroup\": \"Nacionalidad=Venezuela\", \"marker\": {\"color\": \"rgb(230,245,152)\"}, \"name\": \"Nacionalidad=Venezuela\", \"r\": [2, 2], \"showlegend\": true, \"theta\": [\"cluster_3\", \"cluster_5\"], \"type\": \"barpolar\", \"uid\": \"05b31ecd-0184-4c20-ac77-a7864a4f414d\"}], {\"barmode\": \"group\", \"barnorm\": \"\", \"height\": 600, \"legend\": {\"tracegroupgap\": 0}, \"margin\": {\"t\": 60}, \"template\": {\"data\": {\"barpolar\": [{\"marker\": {\"line\": {\"color\": \"#E5ECF6\", \"width\": 0.5}}, \"type\": \"barpolar\"}], \"bar\": [{\"marker\": {\"line\": {\"color\": \"#E5ECF6\", \"width\": 0.5}}, \"type\": \"bar\"}], \"carpet\": [{\"aaxis\": {\"endlinecolor\": \"#2a3f5f\", \"gridcolor\": \"white\", \"linecolor\": \"white\", \"minorgridcolor\": \"white\", \"startlinecolor\": \"#2a3f5f\"}, \"baxis\": {\"endlinecolor\": \"#2a3f5f\", \"gridcolor\": \"white\", \"linecolor\": \"white\", \"minorgridcolor\": \"white\", \"startlinecolor\": \"#2a3f5f\"}, \"type\": \"carpet\"}], \"choropleth\": [{\"colorbar\": {\"outlinewidth\": 0, \"ticks\": \"\"}, \"type\": \"choropleth\"}], \"contourcarpet\": [{\"colorbar\": {\"outlinewidth\": 0, \"ticks\": \"\"}, \"type\": \"contourcarpet\"}], \"contour\": [{\"autocolorscale\": true, \"colorbar\": {\"outlinewidth\": 0, \"ticks\": \"\"}, \"type\": \"contour\"}], \"heatmapgl\": [{\"colorbar\": {\"outlinewidth\": 0, \"ticks\": \"\"}, \"type\": \"heatmapgl\"}], \"heatmap\": [{\"autocolorscale\": true, \"colorbar\": {\"outlinewidth\": 0, \"ticks\": \"\"}, \"type\": \"heatmap\"}], \"histogram2dcontour\": [{\"autocolorscale\": true, \"colorbar\": {\"outlinewidth\": 0, \"ticks\": \"\"}, \"type\": \"histogram2dcontour\"}], \"histogram2d\": [{\"autocolorscale\": true, \"colorbar\": {\"outlinewidth\": 0, \"ticks\": \"\"}, \"type\": \"histogram2d\"}], \"histogram\": [{\"marker\": {\"colorbar\": {\"outlinewidth\": 0, \"ticks\": \"\"}}, \"type\": \"histogram\"}], \"mesh3d\": [{\"colorbar\": {\"outlinewidth\": 0, \"ticks\": \"\"}, \"type\": \"mesh3d\"}], \"parcoords\": [{\"line\": {\"colorbar\": {\"outlinewidth\": 0, \"ticks\": \"\"}}, \"type\": \"parcoords\"}], \"scatter3d\": [{\"marker\": {\"colorbar\": {\"outlinewidth\": 0, \"ticks\": \"\"}}, \"type\": \"scatter3d\"}], \"scattercarpet\": [{\"marker\": {\"colorbar\": {\"outlinewidth\": 0, \"ticks\": \"\"}}, \"type\": \"scattercarpet\"}], \"scattergeo\": [{\"marker\": {\"colorbar\": {\"outlinewidth\": 0, \"ticks\": \"\"}}, \"type\": \"scattergeo\"}], \"scattergl\": [{\"marker\": {\"colorbar\": {\"outlinewidth\": 0, \"ticks\": \"\"}}, \"type\": \"scattergl\"}], \"scattermapbox\": [{\"marker\": {\"colorbar\": {\"outlinewidth\": 0, \"ticks\": \"\"}}, \"type\": \"scattermapbox\"}], \"scatterpolargl\": [{\"marker\": {\"colorbar\": {\"outlinewidth\": 0, \"ticks\": \"\"}}, \"type\": \"scatterpolargl\"}], \"scatterpolar\": [{\"marker\": {\"colorbar\": {\"outlinewidth\": 0, \"ticks\": \"\"}}, \"type\": \"scatterpolar\"}], \"scatter\": [{\"marker\": {\"colorbar\": {\"outlinewidth\": 0, \"ticks\": \"\"}}, \"type\": \"scatter\"}], \"scatterternary\": [{\"marker\": {\"colorbar\": {\"outlinewidth\": 0, \"ticks\": \"\"}}, \"type\": \"scatterternary\"}], \"surface\": [{\"colorbar\": {\"outlinewidth\": 0, \"ticks\": \"\"}, \"type\": \"surface\"}], \"table\": [{\"cells\": {\"fill\": {\"color\": \"#EBF0F8\"}, \"line\": {\"color\": \"white\"}}, \"header\": {\"fill\": {\"color\": \"#C8D4E3\"}, \"line\": {\"color\": \"white\"}}, \"type\": \"table\"}]}, \"layout\": {\"annotationdefaults\": {\"arrowcolor\": \"#506784\", \"arrowhead\": 0, \"arrowwidth\": 1}, \"colorscale\": {\"diverging\": [[0, \"#8e0152\"], [0.1, \"#c51b7d\"], [0.2, \"#de77ae\"], [0.3, \"#f1b6da\"], [0.4, \"#fde0ef\"], [0.5, \"#f7f7f7\"], [0.6, \"#e6f5d0\"], [0.7, \"#b8e186\"], [0.8, \"#7fbc41\"], [0.9, \"#4d9221\"], [1, \"#276419\"]], \"sequential\": [[0.0, \"#0508b8\"], [0.0893854748603352, \"#1910d8\"], [0.1787709497206704, \"#3c19f0\"], [0.2681564245810056, \"#6b1cfb\"], [0.3575418994413408, \"#981cfd\"], [0.44692737430167595, \"#bf1cfd\"], [0.5363128491620112, \"#dd2bfd\"], [0.6256983240223464, \"#f246fe\"], [0.7150837988826816, \"#fc67fd\"], [0.8044692737430168, \"#fe88fc\"], [0.8938547486033519, \"#fea5fd\"], [0.9832402234636871, \"#febefe\"], [1.0, \"#fec3fe\"]], \"sequentialminus\": [[0.0, \"#0508b8\"], [0.0893854748603352, \"#1910d8\"], [0.1787709497206704, \"#3c19f0\"], [0.2681564245810056, \"#6b1cfb\"], [0.3575418994413408, \"#981cfd\"], [0.44692737430167595, \"#bf1cfd\"], [0.5363128491620112, \"#dd2bfd\"], [0.6256983240223464, \"#f246fe\"], [0.7150837988826816, \"#fc67fd\"], [0.8044692737430168, \"#fe88fc\"], [0.8938547486033519, \"#fea5fd\"], [0.9832402234636871, \"#febefe\"], [1.0, \"#fec3fe\"]]}, \"colorway\": [\"#636efa\", \"#EF553B\", \"#00cc96\", \"#ab63fa\", \"#19d3f3\", \"#e763fa\", \"#FECB52\", \"#FFA15A\", \"#FF6692\", \"#B6E880\"], \"font\": {\"color\": \"#2a3f5f\"}, \"geo\": {\"bgcolor\": \"white\", \"lakecolor\": \"white\", \"landcolor\": \"#E5ECF6\", \"showlakes\": true, \"showland\": true, \"subunitcolor\": \"white\"}, \"hovermode\": \"closest\", \"mapbox\": {\"style\": \"light\"}, \"paper_bgcolor\": \"white\", \"plot_bgcolor\": \"#E5ECF6\", \"polar\": {\"angularaxis\": {\"gridcolor\": \"white\", \"linecolor\": \"white\", \"ticks\": \"\"}, \"bgcolor\": \"#E5ECF6\", \"radialaxis\": {\"gridcolor\": \"white\", \"linecolor\": \"white\", \"ticks\": \"\"}}, \"scene\": {\"xaxis\": {\"backgroundcolor\": \"#E5ECF6\", \"gridcolor\": \"white\", \"gridwidth\": 2, \"linecolor\": \"white\", \"showbackground\": true, \"ticks\": \"\", \"zerolinecolor\": \"white\"}, \"yaxis\": {\"backgroundcolor\": \"#E5ECF6\", \"gridcolor\": \"white\", \"gridwidth\": 2, \"linecolor\": \"white\", \"showbackground\": true, \"ticks\": \"\", \"zerolinecolor\": \"white\"}, \"zaxis\": {\"backgroundcolor\": \"#E5ECF6\", \"gridcolor\": \"white\", \"gridwidth\": 2, \"linecolor\": \"white\", \"showbackground\": true, \"ticks\": \"\", \"zerolinecolor\": \"white\"}}, \"shapedefaults\": {\"fillcolor\": \"#506784\", \"line\": {\"width\": 0}, \"opacity\": 0.4}, \"ternary\": {\"aaxis\": {\"gridcolor\": \"white\", \"linecolor\": \"white\", \"ticks\": \"\"}, \"baxis\": {\"gridcolor\": \"white\", \"linecolor\": \"white\", \"ticks\": \"\"}, \"bgcolor\": \"#E5ECF6\", \"caxis\": {\"gridcolor\": \"white\", \"linecolor\": \"white\", \"ticks\": \"\"}}, \"title\": {\"x\": 0.05}, \"xaxis\": {\"automargin\": true, \"gridcolor\": \"white\", \"linecolor\": \"white\", \"ticks\": \"\", \"zerolinecolor\": \"white\", \"zerolinewidth\": 2}, \"yaxis\": {\"automargin\": true, \"gridcolor\": \"white\", \"linecolor\": \"white\", \"ticks\": \"\", \"zerolinecolor\": \"white\", \"zerolinewidth\": 2}}}, \"polar\": {\"angularaxis\": {\"direction\": \"clockwise\", \"rotation\": 90}}}, {\"showLink\": false, \"linkText\": \"Export to plot.ly\", \"plotlyServerURL\": \"https://plot.ly\"}); \n",
       "}\n",
       "});</script><script type=\"text/javascript\">window.addEventListener(\"resize\", function(){if (document.getElementById(\"2b99deab-52df-4c0b-9a3c-5644542a5611\")) {window._Plotly.Plots.resize(document.getElementById(\"2b99deab-52df-4c0b-9a3c-5644542a5611\"));};})</script>"
      ]
     },
     "metadata": {},
     "output_type": "display_data"
    },
    {
     "name": "stdout",
     "output_type": "stream",
     "text": [
      "Comparando la pregunta Nivel de estudios\n"
     ]
    },
    {
     "data": {
      "application/vnd.plotly.v1+json": {
       "config": {
        "linkText": "Export to plot.ly",
        "plotlyServerURL": "https://plot.ly",
        "showLink": false
       },
       "data": [
        {
         "hovertemplate": "Nivel de estudios=Educación Primaria<br>counts=%{r}<br>prosume_cluster=%{theta}<extra></extra>",
         "legendgroup": "Nivel de estudios=Educación Primaria",
         "marker": {
          "color": "rgb(213,62,79)"
         },
         "name": "Nivel de estudios=Educación Primaria",
         "r": [
          1,
          2,
          3,
          2,
          6
         ],
         "showlegend": true,
         "theta": [
          "cluster_1",
          "cluster_2",
          "cluster_3",
          "cluster_4",
          "cluster_5"
         ],
         "type": "barpolar",
         "uid": "9205bca5-5e4d-4a14-9152-919bb5d6f437"
        },
        {
         "hovertemplate": "Nivel de estudios=FP<br>counts=%{r}<br>prosume_cluster=%{theta}<extra></extra>",
         "legendgroup": "Nivel de estudios=FP",
         "marker": {
          "color": "rgb(252,141,89)"
         },
         "name": "Nivel de estudios=FP",
         "r": [
          1,
          9,
          4,
          5,
          23
         ],
         "showlegend": true,
         "theta": [
          "cluster_1",
          "cluster_2",
          "cluster_3",
          "cluster_4",
          "cluster_5"
         ],
         "type": "barpolar",
         "uid": "807d2129-e01e-4370-b5df-8acdced445b4"
        },
        {
         "hovertemplate": "Nivel de estudios=Sin terminar Educación Secundaria Obligatoria<br>counts=%{r}<br>prosume_cluster=%{theta}<extra></extra>",
         "legendgroup": "Nivel de estudios=Sin terminar Educación Secundaria Obligatoria",
         "marker": {
          "color": "rgb(254,224,139)"
         },
         "name": "Nivel de estudios=Sin terminar Educación Secundaria Obligatoria",
         "r": [
          1,
          54,
          11,
          11
         ],
         "showlegend": true,
         "theta": [
          "cluster_1",
          "cluster_2",
          "cluster_4",
          "cluster_5"
         ],
         "type": "barpolar",
         "uid": "a4d1243d-851e-4a38-b669-ee6231ac3ee2"
        },
        {
         "hovertemplate": "Nivel de estudios=Terminada Educación Secundaria Obligatoria<br>counts=%{r}<br>prosume_cluster=%{theta}<extra></extra>",
         "legendgroup": "Nivel de estudios=Terminada Educación Secundaria Obligatoria",
         "marker": {
          "color": "rgb(230,245,152)"
         },
         "name": "Nivel de estudios=Terminada Educación Secundaria Obligatoria",
         "r": [
          6,
          14,
          9,
          4,
          15
         ],
         "showlegend": true,
         "theta": [
          "cluster_1",
          "cluster_2",
          "cluster_3",
          "cluster_4",
          "cluster_5"
         ],
         "type": "barpolar",
         "uid": "d833215f-c772-41a0-ac1b-e9ee37a25854"
        },
        {
         "hovertemplate": "Nivel de estudios=Universitario graduado<br>counts=%{r}<br>prosume_cluster=%{theta}<extra></extra>",
         "legendgroup": "Nivel de estudios=Universitario graduado",
         "marker": {
          "color": "rgb(153,213,148)"
         },
         "name": "Nivel de estudios=Universitario graduado",
         "r": [
          19,
          89,
          71,
          41,
          211
         ],
         "showlegend": true,
         "theta": [
          "cluster_1",
          "cluster_2",
          "cluster_3",
          "cluster_4",
          "cluster_5"
         ],
         "type": "barpolar",
         "uid": "5ded610f-d4fd-487d-bfb2-b98f928d2945"
        },
        {
         "hovertemplate": "Nivel de estudios=Universitario sin graduar<br>counts=%{r}<br>prosume_cluster=%{theta}<extra></extra>",
         "legendgroup": "Nivel de estudios=Universitario sin graduar",
         "marker": {
          "color": "rgb(50,136,189)"
         },
         "name": "Nivel de estudios=Universitario sin graduar",
         "r": [
          9,
          28,
          13,
          35,
          70
         ],
         "showlegend": true,
         "theta": [
          "cluster_1",
          "cluster_2",
          "cluster_3",
          "cluster_4",
          "cluster_5"
         ],
         "type": "barpolar",
         "uid": "5333de99-a743-4082-9248-c967f5e75160"
        }
       ],
       "layout": {
        "barmode": "group",
        "barnorm": "",
        "height": 600,
        "legend": {
         "tracegroupgap": 0
        },
        "margin": {
         "t": 60
        },
        "polar": {
         "angularaxis": {
          "direction": "clockwise",
          "rotation": 90
         }
        },
        "template": {
         "data": {
          "bar": [
           {
            "marker": {
             "line": {
              "color": "#E5ECF6",
              "width": 0.5
             }
            },
            "type": "bar"
           }
          ],
          "barpolar": [
           {
            "marker": {
             "line": {
              "color": "#E5ECF6",
              "width": 0.5
             }
            },
            "type": "barpolar"
           }
          ],
          "carpet": [
           {
            "aaxis": {
             "endlinecolor": "#2a3f5f",
             "gridcolor": "white",
             "linecolor": "white",
             "minorgridcolor": "white",
             "startlinecolor": "#2a3f5f"
            },
            "baxis": {
             "endlinecolor": "#2a3f5f",
             "gridcolor": "white",
             "linecolor": "white",
             "minorgridcolor": "white",
             "startlinecolor": "#2a3f5f"
            },
            "type": "carpet"
           }
          ],
          "choropleth": [
           {
            "colorbar": {
             "outlinewidth": 0,
             "ticks": ""
            },
            "type": "choropleth"
           }
          ],
          "contour": [
           {
            "autocolorscale": true,
            "colorbar": {
             "outlinewidth": 0,
             "ticks": ""
            },
            "type": "contour"
           }
          ],
          "contourcarpet": [
           {
            "colorbar": {
             "outlinewidth": 0,
             "ticks": ""
            },
            "type": "contourcarpet"
           }
          ],
          "heatmap": [
           {
            "autocolorscale": true,
            "colorbar": {
             "outlinewidth": 0,
             "ticks": ""
            },
            "type": "heatmap"
           }
          ],
          "heatmapgl": [
           {
            "colorbar": {
             "outlinewidth": 0,
             "ticks": ""
            },
            "type": "heatmapgl"
           }
          ],
          "histogram": [
           {
            "marker": {
             "colorbar": {
              "outlinewidth": 0,
              "ticks": ""
             }
            },
            "type": "histogram"
           }
          ],
          "histogram2d": [
           {
            "autocolorscale": true,
            "colorbar": {
             "outlinewidth": 0,
             "ticks": ""
            },
            "type": "histogram2d"
           }
          ],
          "histogram2dcontour": [
           {
            "autocolorscale": true,
            "colorbar": {
             "outlinewidth": 0,
             "ticks": ""
            },
            "type": "histogram2dcontour"
           }
          ],
          "mesh3d": [
           {
            "colorbar": {
             "outlinewidth": 0,
             "ticks": ""
            },
            "type": "mesh3d"
           }
          ],
          "parcoords": [
           {
            "line": {
             "colorbar": {
              "outlinewidth": 0,
              "ticks": ""
             }
            },
            "type": "parcoords"
           }
          ],
          "scatter": [
           {
            "marker": {
             "colorbar": {
              "outlinewidth": 0,
              "ticks": ""
             }
            },
            "type": "scatter"
           }
          ],
          "scatter3d": [
           {
            "marker": {
             "colorbar": {
              "outlinewidth": 0,
              "ticks": ""
             }
            },
            "type": "scatter3d"
           }
          ],
          "scattercarpet": [
           {
            "marker": {
             "colorbar": {
              "outlinewidth": 0,
              "ticks": ""
             }
            },
            "type": "scattercarpet"
           }
          ],
          "scattergeo": [
           {
            "marker": {
             "colorbar": {
              "outlinewidth": 0,
              "ticks": ""
             }
            },
            "type": "scattergeo"
           }
          ],
          "scattergl": [
           {
            "marker": {
             "colorbar": {
              "outlinewidth": 0,
              "ticks": ""
             }
            },
            "type": "scattergl"
           }
          ],
          "scattermapbox": [
           {
            "marker": {
             "colorbar": {
              "outlinewidth": 0,
              "ticks": ""
             }
            },
            "type": "scattermapbox"
           }
          ],
          "scatterpolar": [
           {
            "marker": {
             "colorbar": {
              "outlinewidth": 0,
              "ticks": ""
             }
            },
            "type": "scatterpolar"
           }
          ],
          "scatterpolargl": [
           {
            "marker": {
             "colorbar": {
              "outlinewidth": 0,
              "ticks": ""
             }
            },
            "type": "scatterpolargl"
           }
          ],
          "scatterternary": [
           {
            "marker": {
             "colorbar": {
              "outlinewidth": 0,
              "ticks": ""
             }
            },
            "type": "scatterternary"
           }
          ],
          "surface": [
           {
            "colorbar": {
             "outlinewidth": 0,
             "ticks": ""
            },
            "type": "surface"
           }
          ],
          "table": [
           {
            "cells": {
             "fill": {
              "color": "#EBF0F8"
             },
             "line": {
              "color": "white"
             }
            },
            "header": {
             "fill": {
              "color": "#C8D4E3"
             },
             "line": {
              "color": "white"
             }
            },
            "type": "table"
           }
          ]
         },
         "layout": {
          "annotationdefaults": {
           "arrowcolor": "#506784",
           "arrowhead": 0,
           "arrowwidth": 1
          },
          "colorscale": {
           "diverging": [
            [
             0,
             "#8e0152"
            ],
            [
             0.1,
             "#c51b7d"
            ],
            [
             0.2,
             "#de77ae"
            ],
            [
             0.3,
             "#f1b6da"
            ],
            [
             0.4,
             "#fde0ef"
            ],
            [
             0.5,
             "#f7f7f7"
            ],
            [
             0.6,
             "#e6f5d0"
            ],
            [
             0.7,
             "#b8e186"
            ],
            [
             0.8,
             "#7fbc41"
            ],
            [
             0.9,
             "#4d9221"
            ],
            [
             1,
             "#276419"
            ]
           ],
           "sequential": [
            [
             0,
             "#0508b8"
            ],
            [
             0.0893854748603352,
             "#1910d8"
            ],
            [
             0.1787709497206704,
             "#3c19f0"
            ],
            [
             0.2681564245810056,
             "#6b1cfb"
            ],
            [
             0.3575418994413408,
             "#981cfd"
            ],
            [
             0.44692737430167595,
             "#bf1cfd"
            ],
            [
             0.5363128491620112,
             "#dd2bfd"
            ],
            [
             0.6256983240223464,
             "#f246fe"
            ],
            [
             0.7150837988826816,
             "#fc67fd"
            ],
            [
             0.8044692737430168,
             "#fe88fc"
            ],
            [
             0.8938547486033519,
             "#fea5fd"
            ],
            [
             0.9832402234636871,
             "#febefe"
            ],
            [
             1,
             "#fec3fe"
            ]
           ],
           "sequentialminus": [
            [
             0,
             "#0508b8"
            ],
            [
             0.0893854748603352,
             "#1910d8"
            ],
            [
             0.1787709497206704,
             "#3c19f0"
            ],
            [
             0.2681564245810056,
             "#6b1cfb"
            ],
            [
             0.3575418994413408,
             "#981cfd"
            ],
            [
             0.44692737430167595,
             "#bf1cfd"
            ],
            [
             0.5363128491620112,
             "#dd2bfd"
            ],
            [
             0.6256983240223464,
             "#f246fe"
            ],
            [
             0.7150837988826816,
             "#fc67fd"
            ],
            [
             0.8044692737430168,
             "#fe88fc"
            ],
            [
             0.8938547486033519,
             "#fea5fd"
            ],
            [
             0.9832402234636871,
             "#febefe"
            ],
            [
             1,
             "#fec3fe"
            ]
           ]
          },
          "colorway": [
           "#636efa",
           "#EF553B",
           "#00cc96",
           "#ab63fa",
           "#19d3f3",
           "#e763fa",
           "#FECB52",
           "#FFA15A",
           "#FF6692",
           "#B6E880"
          ],
          "font": {
           "color": "#2a3f5f"
          },
          "geo": {
           "bgcolor": "white",
           "lakecolor": "white",
           "landcolor": "#E5ECF6",
           "showlakes": true,
           "showland": true,
           "subunitcolor": "white"
          },
          "hovermode": "closest",
          "mapbox": {
           "style": "light"
          },
          "paper_bgcolor": "white",
          "plot_bgcolor": "#E5ECF6",
          "polar": {
           "angularaxis": {
            "gridcolor": "white",
            "linecolor": "white",
            "ticks": ""
           },
           "bgcolor": "#E5ECF6",
           "radialaxis": {
            "gridcolor": "white",
            "linecolor": "white",
            "ticks": ""
           }
          },
          "scene": {
           "xaxis": {
            "backgroundcolor": "#E5ECF6",
            "gridcolor": "white",
            "gridwidth": 2,
            "linecolor": "white",
            "showbackground": true,
            "ticks": "",
            "zerolinecolor": "white"
           },
           "yaxis": {
            "backgroundcolor": "#E5ECF6",
            "gridcolor": "white",
            "gridwidth": 2,
            "linecolor": "white",
            "showbackground": true,
            "ticks": "",
            "zerolinecolor": "white"
           },
           "zaxis": {
            "backgroundcolor": "#E5ECF6",
            "gridcolor": "white",
            "gridwidth": 2,
            "linecolor": "white",
            "showbackground": true,
            "ticks": "",
            "zerolinecolor": "white"
           }
          },
          "shapedefaults": {
           "fillcolor": "#506784",
           "line": {
            "width": 0
           },
           "opacity": 0.4
          },
          "ternary": {
           "aaxis": {
            "gridcolor": "white",
            "linecolor": "white",
            "ticks": ""
           },
           "baxis": {
            "gridcolor": "white",
            "linecolor": "white",
            "ticks": ""
           },
           "bgcolor": "#E5ECF6",
           "caxis": {
            "gridcolor": "white",
            "linecolor": "white",
            "ticks": ""
           }
          },
          "title": {
           "x": 0.05
          },
          "xaxis": {
           "automargin": true,
           "gridcolor": "white",
           "linecolor": "white",
           "ticks": "",
           "zerolinecolor": "white",
           "zerolinewidth": 2
          },
          "yaxis": {
           "automargin": true,
           "gridcolor": "white",
           "linecolor": "white",
           "ticks": "",
           "zerolinecolor": "white",
           "zerolinewidth": 2
          }
         }
        }
       }
      },
      "text/html": [
       "<div id=\"23d46035-7c4e-4712-9a8e-aac4d11f0f1f\" style=\"height: 600px; width: 100%;\" class=\"plotly-graph-div\"></div><script type=\"text/javascript\">require([\"plotly\"], function(Plotly) { window.PLOTLYENV=window.PLOTLYENV || {};window.PLOTLYENV.BASE_URL=\"https://plot.ly\";\n",
       "if (document.getElementById(\"23d46035-7c4e-4712-9a8e-aac4d11f0f1f\")) {\n",
       "    Plotly.newPlot(\"23d46035-7c4e-4712-9a8e-aac4d11f0f1f\", [{\"hovertemplate\": \"Nivel de estudios=Educaci\\u00f3n Primaria<br>counts=%{r}<br>prosume_cluster=%{theta}<extra></extra>\", \"legendgroup\": \"Nivel de estudios=Educaci\\u00f3n Primaria\", \"marker\": {\"color\": \"rgb(213,62,79)\"}, \"name\": \"Nivel de estudios=Educaci\\u00f3n Primaria\", \"r\": [1, 2, 3, 2, 6], \"showlegend\": true, \"theta\": [\"cluster_1\", \"cluster_2\", \"cluster_3\", \"cluster_4\", \"cluster_5\"], \"type\": \"barpolar\", \"uid\": \"9205bca5-5e4d-4a14-9152-919bb5d6f437\"}, {\"hovertemplate\": \"Nivel de estudios=FP<br>counts=%{r}<br>prosume_cluster=%{theta}<extra></extra>\", \"legendgroup\": \"Nivel de estudios=FP\", \"marker\": {\"color\": \"rgb(252,141,89)\"}, \"name\": \"Nivel de estudios=FP\", \"r\": [1, 9, 4, 5, 23], \"showlegend\": true, \"theta\": [\"cluster_1\", \"cluster_2\", \"cluster_3\", \"cluster_4\", \"cluster_5\"], \"type\": \"barpolar\", \"uid\": \"807d2129-e01e-4370-b5df-8acdced445b4\"}, {\"hovertemplate\": \"Nivel de estudios=Sin terminar Educaci\\u00f3n Secundaria Obligatoria<br>counts=%{r}<br>prosume_cluster=%{theta}<extra></extra>\", \"legendgroup\": \"Nivel de estudios=Sin terminar Educaci\\u00f3n Secundaria Obligatoria\", \"marker\": {\"color\": \"rgb(254,224,139)\"}, \"name\": \"Nivel de estudios=Sin terminar Educaci\\u00f3n Secundaria Obligatoria\", \"r\": [1, 54, 11, 11], \"showlegend\": true, \"theta\": [\"cluster_1\", \"cluster_2\", \"cluster_4\", \"cluster_5\"], \"type\": \"barpolar\", \"uid\": \"a4d1243d-851e-4a38-b669-ee6231ac3ee2\"}, {\"hovertemplate\": \"Nivel de estudios=Terminada Educaci\\u00f3n Secundaria Obligatoria<br>counts=%{r}<br>prosume_cluster=%{theta}<extra></extra>\", \"legendgroup\": \"Nivel de estudios=Terminada Educaci\\u00f3n Secundaria Obligatoria\", \"marker\": {\"color\": \"rgb(230,245,152)\"}, \"name\": \"Nivel de estudios=Terminada Educaci\\u00f3n Secundaria Obligatoria\", \"r\": [6, 14, 9, 4, 15], \"showlegend\": true, \"theta\": [\"cluster_1\", \"cluster_2\", \"cluster_3\", \"cluster_4\", \"cluster_5\"], \"type\": \"barpolar\", \"uid\": \"d833215f-c772-41a0-ac1b-e9ee37a25854\"}, {\"hovertemplate\": \"Nivel de estudios=Universitario graduado<br>counts=%{r}<br>prosume_cluster=%{theta}<extra></extra>\", \"legendgroup\": \"Nivel de estudios=Universitario graduado\", \"marker\": {\"color\": \"rgb(153,213,148)\"}, \"name\": \"Nivel de estudios=Universitario graduado\", \"r\": [19, 89, 71, 41, 211], \"showlegend\": true, \"theta\": [\"cluster_1\", \"cluster_2\", \"cluster_3\", \"cluster_4\", \"cluster_5\"], \"type\": \"barpolar\", \"uid\": \"5ded610f-d4fd-487d-bfb2-b98f928d2945\"}, {\"hovertemplate\": \"Nivel de estudios=Universitario sin graduar<br>counts=%{r}<br>prosume_cluster=%{theta}<extra></extra>\", \"legendgroup\": \"Nivel de estudios=Universitario sin graduar\", \"marker\": {\"color\": \"rgb(50,136,189)\"}, \"name\": \"Nivel de estudios=Universitario sin graduar\", \"r\": [9, 28, 13, 35, 70], \"showlegend\": true, \"theta\": [\"cluster_1\", \"cluster_2\", \"cluster_3\", \"cluster_4\", \"cluster_5\"], \"type\": \"barpolar\", \"uid\": \"5333de99-a743-4082-9248-c967f5e75160\"}], {\"barmode\": \"group\", \"barnorm\": \"\", \"height\": 600, \"legend\": {\"tracegroupgap\": 0}, \"margin\": {\"t\": 60}, \"template\": {\"data\": {\"barpolar\": [{\"marker\": {\"line\": {\"color\": \"#E5ECF6\", \"width\": 0.5}}, \"type\": \"barpolar\"}], \"bar\": [{\"marker\": {\"line\": {\"color\": \"#E5ECF6\", \"width\": 0.5}}, \"type\": \"bar\"}], \"carpet\": [{\"aaxis\": {\"endlinecolor\": \"#2a3f5f\", \"gridcolor\": \"white\", \"linecolor\": \"white\", \"minorgridcolor\": \"white\", \"startlinecolor\": \"#2a3f5f\"}, \"baxis\": {\"endlinecolor\": \"#2a3f5f\", \"gridcolor\": \"white\", \"linecolor\": \"white\", \"minorgridcolor\": \"white\", \"startlinecolor\": \"#2a3f5f\"}, \"type\": \"carpet\"}], \"choropleth\": [{\"colorbar\": {\"outlinewidth\": 0, \"ticks\": \"\"}, \"type\": \"choropleth\"}], \"contourcarpet\": [{\"colorbar\": {\"outlinewidth\": 0, \"ticks\": \"\"}, \"type\": \"contourcarpet\"}], \"contour\": [{\"autocolorscale\": true, \"colorbar\": {\"outlinewidth\": 0, \"ticks\": \"\"}, \"type\": \"contour\"}], \"heatmapgl\": [{\"colorbar\": {\"outlinewidth\": 0, \"ticks\": \"\"}, \"type\": \"heatmapgl\"}], \"heatmap\": [{\"autocolorscale\": true, \"colorbar\": {\"outlinewidth\": 0, \"ticks\": \"\"}, \"type\": \"heatmap\"}], \"histogram2dcontour\": [{\"autocolorscale\": true, \"colorbar\": {\"outlinewidth\": 0, \"ticks\": \"\"}, \"type\": \"histogram2dcontour\"}], \"histogram2d\": [{\"autocolorscale\": true, \"colorbar\": {\"outlinewidth\": 0, \"ticks\": \"\"}, \"type\": \"histogram2d\"}], \"histogram\": [{\"marker\": {\"colorbar\": {\"outlinewidth\": 0, \"ticks\": \"\"}}, \"type\": \"histogram\"}], \"mesh3d\": [{\"colorbar\": {\"outlinewidth\": 0, \"ticks\": \"\"}, \"type\": \"mesh3d\"}], \"parcoords\": [{\"line\": {\"colorbar\": {\"outlinewidth\": 0, \"ticks\": \"\"}}, \"type\": \"parcoords\"}], \"scatter3d\": [{\"marker\": {\"colorbar\": {\"outlinewidth\": 0, \"ticks\": \"\"}}, \"type\": \"scatter3d\"}], \"scattercarpet\": [{\"marker\": {\"colorbar\": {\"outlinewidth\": 0, \"ticks\": \"\"}}, \"type\": \"scattercarpet\"}], \"scattergeo\": [{\"marker\": {\"colorbar\": {\"outlinewidth\": 0, \"ticks\": \"\"}}, \"type\": \"scattergeo\"}], \"scattergl\": [{\"marker\": {\"colorbar\": {\"outlinewidth\": 0, \"ticks\": \"\"}}, \"type\": \"scattergl\"}], \"scattermapbox\": [{\"marker\": {\"colorbar\": {\"outlinewidth\": 0, \"ticks\": \"\"}}, \"type\": \"scattermapbox\"}], \"scatterpolargl\": [{\"marker\": {\"colorbar\": {\"outlinewidth\": 0, \"ticks\": \"\"}}, \"type\": \"scatterpolargl\"}], \"scatterpolar\": [{\"marker\": {\"colorbar\": {\"outlinewidth\": 0, \"ticks\": \"\"}}, \"type\": \"scatterpolar\"}], \"scatter\": [{\"marker\": {\"colorbar\": {\"outlinewidth\": 0, \"ticks\": \"\"}}, \"type\": \"scatter\"}], \"scatterternary\": [{\"marker\": {\"colorbar\": {\"outlinewidth\": 0, \"ticks\": \"\"}}, \"type\": \"scatterternary\"}], \"surface\": [{\"colorbar\": {\"outlinewidth\": 0, \"ticks\": \"\"}, \"type\": \"surface\"}], \"table\": [{\"cells\": {\"fill\": {\"color\": \"#EBF0F8\"}, \"line\": {\"color\": \"white\"}}, \"header\": {\"fill\": {\"color\": \"#C8D4E3\"}, \"line\": {\"color\": \"white\"}}, \"type\": \"table\"}]}, \"layout\": {\"annotationdefaults\": {\"arrowcolor\": \"#506784\", \"arrowhead\": 0, \"arrowwidth\": 1}, \"colorscale\": {\"diverging\": [[0, \"#8e0152\"], [0.1, \"#c51b7d\"], [0.2, \"#de77ae\"], [0.3, \"#f1b6da\"], [0.4, \"#fde0ef\"], [0.5, \"#f7f7f7\"], [0.6, \"#e6f5d0\"], [0.7, \"#b8e186\"], [0.8, \"#7fbc41\"], [0.9, \"#4d9221\"], [1, \"#276419\"]], \"sequential\": [[0.0, \"#0508b8\"], [0.0893854748603352, \"#1910d8\"], [0.1787709497206704, \"#3c19f0\"], [0.2681564245810056, \"#6b1cfb\"], [0.3575418994413408, \"#981cfd\"], [0.44692737430167595, \"#bf1cfd\"], [0.5363128491620112, \"#dd2bfd\"], [0.6256983240223464, \"#f246fe\"], [0.7150837988826816, \"#fc67fd\"], [0.8044692737430168, \"#fe88fc\"], [0.8938547486033519, \"#fea5fd\"], [0.9832402234636871, \"#febefe\"], [1.0, \"#fec3fe\"]], \"sequentialminus\": [[0.0, \"#0508b8\"], [0.0893854748603352, \"#1910d8\"], [0.1787709497206704, \"#3c19f0\"], [0.2681564245810056, \"#6b1cfb\"], [0.3575418994413408, \"#981cfd\"], [0.44692737430167595, \"#bf1cfd\"], [0.5363128491620112, \"#dd2bfd\"], [0.6256983240223464, \"#f246fe\"], [0.7150837988826816, \"#fc67fd\"], [0.8044692737430168, \"#fe88fc\"], [0.8938547486033519, \"#fea5fd\"], [0.9832402234636871, \"#febefe\"], [1.0, \"#fec3fe\"]]}, \"colorway\": [\"#636efa\", \"#EF553B\", \"#00cc96\", \"#ab63fa\", \"#19d3f3\", \"#e763fa\", \"#FECB52\", \"#FFA15A\", \"#FF6692\", \"#B6E880\"], \"font\": {\"color\": \"#2a3f5f\"}, \"geo\": {\"bgcolor\": \"white\", \"lakecolor\": \"white\", \"landcolor\": \"#E5ECF6\", \"showlakes\": true, \"showland\": true, \"subunitcolor\": \"white\"}, \"hovermode\": \"closest\", \"mapbox\": {\"style\": \"light\"}, \"paper_bgcolor\": \"white\", \"plot_bgcolor\": \"#E5ECF6\", \"polar\": {\"angularaxis\": {\"gridcolor\": \"white\", \"linecolor\": \"white\", \"ticks\": \"\"}, \"bgcolor\": \"#E5ECF6\", \"radialaxis\": {\"gridcolor\": \"white\", \"linecolor\": \"white\", \"ticks\": \"\"}}, \"scene\": {\"xaxis\": {\"backgroundcolor\": \"#E5ECF6\", \"gridcolor\": \"white\", \"gridwidth\": 2, \"linecolor\": \"white\", \"showbackground\": true, \"ticks\": \"\", \"zerolinecolor\": \"white\"}, \"yaxis\": {\"backgroundcolor\": \"#E5ECF6\", \"gridcolor\": \"white\", \"gridwidth\": 2, \"linecolor\": \"white\", \"showbackground\": true, \"ticks\": \"\", \"zerolinecolor\": \"white\"}, \"zaxis\": {\"backgroundcolor\": \"#E5ECF6\", \"gridcolor\": \"white\", \"gridwidth\": 2, \"linecolor\": \"white\", \"showbackground\": true, \"ticks\": \"\", \"zerolinecolor\": \"white\"}}, \"shapedefaults\": {\"fillcolor\": \"#506784\", \"line\": {\"width\": 0}, \"opacity\": 0.4}, \"ternary\": {\"aaxis\": {\"gridcolor\": \"white\", \"linecolor\": \"white\", \"ticks\": \"\"}, \"baxis\": {\"gridcolor\": \"white\", \"linecolor\": \"white\", \"ticks\": \"\"}, \"bgcolor\": \"#E5ECF6\", \"caxis\": {\"gridcolor\": \"white\", \"linecolor\": \"white\", \"ticks\": \"\"}}, \"title\": {\"x\": 0.05}, \"xaxis\": {\"automargin\": true, \"gridcolor\": \"white\", \"linecolor\": \"white\", \"ticks\": \"\", \"zerolinecolor\": \"white\", \"zerolinewidth\": 2}, \"yaxis\": {\"automargin\": true, \"gridcolor\": \"white\", \"linecolor\": \"white\", \"ticks\": \"\", \"zerolinecolor\": \"white\", \"zerolinewidth\": 2}}}, \"polar\": {\"angularaxis\": {\"direction\": \"clockwise\", \"rotation\": 90}}}, {\"showLink\": false, \"linkText\": \"Export to plot.ly\", \"plotlyServerURL\": \"https://plot.ly\"}); \n",
       "}\n",
       "});</script><script type=\"text/javascript\">window.addEventListener(\"resize\", function(){if (document.getElementById(\"23d46035-7c4e-4712-9a8e-aac4d11f0f1f\")) {window._Plotly.Plots.resize(document.getElementById(\"23d46035-7c4e-4712-9a8e-aac4d11f0f1f\"));};})</script>"
      ],
      "text/vnd.plotly.v1+html": [
       "<div id=\"23d46035-7c4e-4712-9a8e-aac4d11f0f1f\" style=\"height: 600px; width: 100%;\" class=\"plotly-graph-div\"></div><script type=\"text/javascript\">require([\"plotly\"], function(Plotly) { window.PLOTLYENV=window.PLOTLYENV || {};window.PLOTLYENV.BASE_URL=\"https://plot.ly\";\n",
       "if (document.getElementById(\"23d46035-7c4e-4712-9a8e-aac4d11f0f1f\")) {\n",
       "    Plotly.newPlot(\"23d46035-7c4e-4712-9a8e-aac4d11f0f1f\", [{\"hovertemplate\": \"Nivel de estudios=Educaci\\u00f3n Primaria<br>counts=%{r}<br>prosume_cluster=%{theta}<extra></extra>\", \"legendgroup\": \"Nivel de estudios=Educaci\\u00f3n Primaria\", \"marker\": {\"color\": \"rgb(213,62,79)\"}, \"name\": \"Nivel de estudios=Educaci\\u00f3n Primaria\", \"r\": [1, 2, 3, 2, 6], \"showlegend\": true, \"theta\": [\"cluster_1\", \"cluster_2\", \"cluster_3\", \"cluster_4\", \"cluster_5\"], \"type\": \"barpolar\", \"uid\": \"9205bca5-5e4d-4a14-9152-919bb5d6f437\"}, {\"hovertemplate\": \"Nivel de estudios=FP<br>counts=%{r}<br>prosume_cluster=%{theta}<extra></extra>\", \"legendgroup\": \"Nivel de estudios=FP\", \"marker\": {\"color\": \"rgb(252,141,89)\"}, \"name\": \"Nivel de estudios=FP\", \"r\": [1, 9, 4, 5, 23], \"showlegend\": true, \"theta\": [\"cluster_1\", \"cluster_2\", \"cluster_3\", \"cluster_4\", \"cluster_5\"], \"type\": \"barpolar\", \"uid\": \"807d2129-e01e-4370-b5df-8acdced445b4\"}, {\"hovertemplate\": \"Nivel de estudios=Sin terminar Educaci\\u00f3n Secundaria Obligatoria<br>counts=%{r}<br>prosume_cluster=%{theta}<extra></extra>\", \"legendgroup\": \"Nivel de estudios=Sin terminar Educaci\\u00f3n Secundaria Obligatoria\", \"marker\": {\"color\": \"rgb(254,224,139)\"}, \"name\": \"Nivel de estudios=Sin terminar Educaci\\u00f3n Secundaria Obligatoria\", \"r\": [1, 54, 11, 11], \"showlegend\": true, \"theta\": [\"cluster_1\", \"cluster_2\", \"cluster_4\", \"cluster_5\"], \"type\": \"barpolar\", \"uid\": \"a4d1243d-851e-4a38-b669-ee6231ac3ee2\"}, {\"hovertemplate\": \"Nivel de estudios=Terminada Educaci\\u00f3n Secundaria Obligatoria<br>counts=%{r}<br>prosume_cluster=%{theta}<extra></extra>\", \"legendgroup\": \"Nivel de estudios=Terminada Educaci\\u00f3n Secundaria Obligatoria\", \"marker\": {\"color\": \"rgb(230,245,152)\"}, \"name\": \"Nivel de estudios=Terminada Educaci\\u00f3n Secundaria Obligatoria\", \"r\": [6, 14, 9, 4, 15], \"showlegend\": true, \"theta\": [\"cluster_1\", \"cluster_2\", \"cluster_3\", \"cluster_4\", \"cluster_5\"], \"type\": \"barpolar\", \"uid\": \"d833215f-c772-41a0-ac1b-e9ee37a25854\"}, {\"hovertemplate\": \"Nivel de estudios=Universitario graduado<br>counts=%{r}<br>prosume_cluster=%{theta}<extra></extra>\", \"legendgroup\": \"Nivel de estudios=Universitario graduado\", \"marker\": {\"color\": \"rgb(153,213,148)\"}, \"name\": \"Nivel de estudios=Universitario graduado\", \"r\": [19, 89, 71, 41, 211], \"showlegend\": true, \"theta\": [\"cluster_1\", \"cluster_2\", \"cluster_3\", \"cluster_4\", \"cluster_5\"], \"type\": \"barpolar\", \"uid\": \"5ded610f-d4fd-487d-bfb2-b98f928d2945\"}, {\"hovertemplate\": \"Nivel de estudios=Universitario sin graduar<br>counts=%{r}<br>prosume_cluster=%{theta}<extra></extra>\", \"legendgroup\": \"Nivel de estudios=Universitario sin graduar\", \"marker\": {\"color\": \"rgb(50,136,189)\"}, \"name\": \"Nivel de estudios=Universitario sin graduar\", \"r\": [9, 28, 13, 35, 70], \"showlegend\": true, \"theta\": [\"cluster_1\", \"cluster_2\", \"cluster_3\", \"cluster_4\", \"cluster_5\"], \"type\": \"barpolar\", \"uid\": \"5333de99-a743-4082-9248-c967f5e75160\"}], {\"barmode\": \"group\", \"barnorm\": \"\", \"height\": 600, \"legend\": {\"tracegroupgap\": 0}, \"margin\": {\"t\": 60}, \"template\": {\"data\": {\"barpolar\": [{\"marker\": {\"line\": {\"color\": \"#E5ECF6\", \"width\": 0.5}}, \"type\": \"barpolar\"}], \"bar\": [{\"marker\": {\"line\": {\"color\": \"#E5ECF6\", \"width\": 0.5}}, \"type\": \"bar\"}], \"carpet\": [{\"aaxis\": {\"endlinecolor\": \"#2a3f5f\", \"gridcolor\": \"white\", \"linecolor\": \"white\", \"minorgridcolor\": \"white\", \"startlinecolor\": \"#2a3f5f\"}, \"baxis\": {\"endlinecolor\": \"#2a3f5f\", \"gridcolor\": \"white\", \"linecolor\": \"white\", \"minorgridcolor\": \"white\", \"startlinecolor\": \"#2a3f5f\"}, \"type\": \"carpet\"}], \"choropleth\": [{\"colorbar\": {\"outlinewidth\": 0, \"ticks\": \"\"}, \"type\": \"choropleth\"}], \"contourcarpet\": [{\"colorbar\": {\"outlinewidth\": 0, \"ticks\": \"\"}, \"type\": \"contourcarpet\"}], \"contour\": [{\"autocolorscale\": true, \"colorbar\": {\"outlinewidth\": 0, \"ticks\": \"\"}, \"type\": \"contour\"}], \"heatmapgl\": [{\"colorbar\": {\"outlinewidth\": 0, \"ticks\": \"\"}, \"type\": \"heatmapgl\"}], \"heatmap\": [{\"autocolorscale\": true, \"colorbar\": {\"outlinewidth\": 0, \"ticks\": \"\"}, \"type\": \"heatmap\"}], \"histogram2dcontour\": [{\"autocolorscale\": true, \"colorbar\": {\"outlinewidth\": 0, \"ticks\": \"\"}, \"type\": \"histogram2dcontour\"}], \"histogram2d\": [{\"autocolorscale\": true, \"colorbar\": {\"outlinewidth\": 0, \"ticks\": \"\"}, \"type\": \"histogram2d\"}], \"histogram\": [{\"marker\": {\"colorbar\": {\"outlinewidth\": 0, \"ticks\": \"\"}}, \"type\": \"histogram\"}], \"mesh3d\": [{\"colorbar\": {\"outlinewidth\": 0, \"ticks\": \"\"}, \"type\": \"mesh3d\"}], \"parcoords\": [{\"line\": {\"colorbar\": {\"outlinewidth\": 0, \"ticks\": \"\"}}, \"type\": \"parcoords\"}], \"scatter3d\": [{\"marker\": {\"colorbar\": {\"outlinewidth\": 0, \"ticks\": \"\"}}, \"type\": \"scatter3d\"}], \"scattercarpet\": [{\"marker\": {\"colorbar\": {\"outlinewidth\": 0, \"ticks\": \"\"}}, \"type\": \"scattercarpet\"}], \"scattergeo\": [{\"marker\": {\"colorbar\": {\"outlinewidth\": 0, \"ticks\": \"\"}}, \"type\": \"scattergeo\"}], \"scattergl\": [{\"marker\": {\"colorbar\": {\"outlinewidth\": 0, \"ticks\": \"\"}}, \"type\": \"scattergl\"}], \"scattermapbox\": [{\"marker\": {\"colorbar\": {\"outlinewidth\": 0, \"ticks\": \"\"}}, \"type\": \"scattermapbox\"}], \"scatterpolargl\": [{\"marker\": {\"colorbar\": {\"outlinewidth\": 0, \"ticks\": \"\"}}, \"type\": \"scatterpolargl\"}], \"scatterpolar\": [{\"marker\": {\"colorbar\": {\"outlinewidth\": 0, \"ticks\": \"\"}}, \"type\": \"scatterpolar\"}], \"scatter\": [{\"marker\": {\"colorbar\": {\"outlinewidth\": 0, \"ticks\": \"\"}}, \"type\": \"scatter\"}], \"scatterternary\": [{\"marker\": {\"colorbar\": {\"outlinewidth\": 0, \"ticks\": \"\"}}, \"type\": \"scatterternary\"}], \"surface\": [{\"colorbar\": {\"outlinewidth\": 0, \"ticks\": \"\"}, \"type\": \"surface\"}], \"table\": [{\"cells\": {\"fill\": {\"color\": \"#EBF0F8\"}, \"line\": {\"color\": \"white\"}}, \"header\": {\"fill\": {\"color\": \"#C8D4E3\"}, \"line\": {\"color\": \"white\"}}, \"type\": \"table\"}]}, \"layout\": {\"annotationdefaults\": {\"arrowcolor\": \"#506784\", \"arrowhead\": 0, \"arrowwidth\": 1}, \"colorscale\": {\"diverging\": [[0, \"#8e0152\"], [0.1, \"#c51b7d\"], [0.2, \"#de77ae\"], [0.3, \"#f1b6da\"], [0.4, \"#fde0ef\"], [0.5, \"#f7f7f7\"], [0.6, \"#e6f5d0\"], [0.7, \"#b8e186\"], [0.8, \"#7fbc41\"], [0.9, \"#4d9221\"], [1, \"#276419\"]], \"sequential\": [[0.0, \"#0508b8\"], [0.0893854748603352, \"#1910d8\"], [0.1787709497206704, \"#3c19f0\"], [0.2681564245810056, \"#6b1cfb\"], [0.3575418994413408, \"#981cfd\"], [0.44692737430167595, \"#bf1cfd\"], [0.5363128491620112, \"#dd2bfd\"], [0.6256983240223464, \"#f246fe\"], [0.7150837988826816, \"#fc67fd\"], [0.8044692737430168, \"#fe88fc\"], [0.8938547486033519, \"#fea5fd\"], [0.9832402234636871, \"#febefe\"], [1.0, \"#fec3fe\"]], \"sequentialminus\": [[0.0, \"#0508b8\"], [0.0893854748603352, \"#1910d8\"], [0.1787709497206704, \"#3c19f0\"], [0.2681564245810056, \"#6b1cfb\"], [0.3575418994413408, \"#981cfd\"], [0.44692737430167595, \"#bf1cfd\"], [0.5363128491620112, \"#dd2bfd\"], [0.6256983240223464, \"#f246fe\"], [0.7150837988826816, \"#fc67fd\"], [0.8044692737430168, \"#fe88fc\"], [0.8938547486033519, \"#fea5fd\"], [0.9832402234636871, \"#febefe\"], [1.0, \"#fec3fe\"]]}, \"colorway\": [\"#636efa\", \"#EF553B\", \"#00cc96\", \"#ab63fa\", \"#19d3f3\", \"#e763fa\", \"#FECB52\", \"#FFA15A\", \"#FF6692\", \"#B6E880\"], \"font\": {\"color\": \"#2a3f5f\"}, \"geo\": {\"bgcolor\": \"white\", \"lakecolor\": \"white\", \"landcolor\": \"#E5ECF6\", \"showlakes\": true, \"showland\": true, \"subunitcolor\": \"white\"}, \"hovermode\": \"closest\", \"mapbox\": {\"style\": \"light\"}, \"paper_bgcolor\": \"white\", \"plot_bgcolor\": \"#E5ECF6\", \"polar\": {\"angularaxis\": {\"gridcolor\": \"white\", \"linecolor\": \"white\", \"ticks\": \"\"}, \"bgcolor\": \"#E5ECF6\", \"radialaxis\": {\"gridcolor\": \"white\", \"linecolor\": \"white\", \"ticks\": \"\"}}, \"scene\": {\"xaxis\": {\"backgroundcolor\": \"#E5ECF6\", \"gridcolor\": \"white\", \"gridwidth\": 2, \"linecolor\": \"white\", \"showbackground\": true, \"ticks\": \"\", \"zerolinecolor\": \"white\"}, \"yaxis\": {\"backgroundcolor\": \"#E5ECF6\", \"gridcolor\": \"white\", \"gridwidth\": 2, \"linecolor\": \"white\", \"showbackground\": true, \"ticks\": \"\", \"zerolinecolor\": \"white\"}, \"zaxis\": {\"backgroundcolor\": \"#E5ECF6\", \"gridcolor\": \"white\", \"gridwidth\": 2, \"linecolor\": \"white\", \"showbackground\": true, \"ticks\": \"\", \"zerolinecolor\": \"white\"}}, \"shapedefaults\": {\"fillcolor\": \"#506784\", \"line\": {\"width\": 0}, \"opacity\": 0.4}, \"ternary\": {\"aaxis\": {\"gridcolor\": \"white\", \"linecolor\": \"white\", \"ticks\": \"\"}, \"baxis\": {\"gridcolor\": \"white\", \"linecolor\": \"white\", \"ticks\": \"\"}, \"bgcolor\": \"#E5ECF6\", \"caxis\": {\"gridcolor\": \"white\", \"linecolor\": \"white\", \"ticks\": \"\"}}, \"title\": {\"x\": 0.05}, \"xaxis\": {\"automargin\": true, \"gridcolor\": \"white\", \"linecolor\": \"white\", \"ticks\": \"\", \"zerolinecolor\": \"white\", \"zerolinewidth\": 2}, \"yaxis\": {\"automargin\": true, \"gridcolor\": \"white\", \"linecolor\": \"white\", \"ticks\": \"\", \"zerolinecolor\": \"white\", \"zerolinewidth\": 2}}}, \"polar\": {\"angularaxis\": {\"direction\": \"clockwise\", \"rotation\": 90}}}, {\"showLink\": false, \"linkText\": \"Export to plot.ly\", \"plotlyServerURL\": \"https://plot.ly\"}); \n",
       "}\n",
       "});</script><script type=\"text/javascript\">window.addEventListener(\"resize\", function(){if (document.getElementById(\"23d46035-7c4e-4712-9a8e-aac4d11f0f1f\")) {window._Plotly.Plots.resize(document.getElementById(\"23d46035-7c4e-4712-9a8e-aac4d11f0f1f\"));};})</script>"
      ]
     },
     "metadata": {},
     "output_type": "display_data"
    }
   ],
   "source": [
    "compare_personal_info_by_prosume_clusters_esp(dataframe_with_clusters_esp)"
   ]
  },
  {
   "cell_type": "code",
   "execution_count": 12,
   "metadata": {},
   "outputs": [],
   "source": [
    "# compare_personal_info_by_prosume_clusters_en(dataframe_with_clusters_en)"
   ]
  }
 ],
 "metadata": {
  "kernelspec": {
   "display_name": "Python 3",
   "language": "python",
   "name": "python3"
  },
  "language_info": {
   "codemirror_mode": {
    "name": "ipython",
    "version": 3
   },
   "file_extension": ".py",
   "mimetype": "text/x-python",
   "name": "python",
   "nbconvert_exporter": "python",
   "pygments_lexer": "ipython3",
   "version": "3.6.8"
  }
 },
 "nbformat": 4,
 "nbformat_minor": 2
}

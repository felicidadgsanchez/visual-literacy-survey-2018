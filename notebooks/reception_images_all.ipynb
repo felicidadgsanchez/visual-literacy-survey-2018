{
 "cells": [
  {
   "cell_type": "code",
   "execution_count": 1,
   "metadata": {},
   "outputs": [
    {
     "name": "stdout",
     "output_type": "stream",
     "text": [
      "Importing Jupyter notebook from data_preparation.ipynb\n",
      "Importing Jupyter notebook from cultural_clustering.ipynb\n"
     ]
    }
   ],
   "source": [
    "import nbimporter\n",
    "from data_preparation import *\n",
    "from cultural_clustering import * "
   ]
  },
  {
   "cell_type": "code",
   "execution_count": 2,
   "metadata": {},
   "outputs": [
    {
     "data": {
      "text/html": [
       "<script type=\"text/javascript\">window.PlotlyConfig = {MathJaxConfig: 'local'};</script><script type=\"text/javascript\">if (window.MathJax) {MathJax.Hub.Config({SVG: {font: \"STIX-Web\"}});}</script><script>requirejs.config({paths: { 'plotly': ['https://cdn.plot.ly/plotly-latest.min']},});if(!window._Plotly) {require(['plotly'],function(plotly) {window._Plotly=plotly;});}</script>"
      ],
      "text/vnd.plotly.v1+html": [
       "<script type=\"text/javascript\">window.PlotlyConfig = {MathJaxConfig: 'local'};</script><script type=\"text/javascript\">if (window.MathJax) {MathJax.Hub.Config({SVG: {font: \"STIX-Web\"}});}</script><script>requirejs.config({paths: { 'plotly': ['https://cdn.plot.ly/plotly-latest.min']},});if(!window._Plotly) {require(['plotly'],function(plotly) {window._Plotly=plotly;});}</script>"
      ]
     },
     "metadata": {},
     "output_type": "display_data"
    }
   ],
   "source": [
    "import matplotlib.pyplot as plt\n",
    "plt.style.use('fivethirtyeight')\n",
    "import colorlover as cl\n",
    "import plotly_express as px\n",
    "\n",
    "from plotly.offline import download_plotlyjs, init_notebook_mode, plot, iplot\n",
    "import plotly.graph_objs as go\n",
    "init_notebook_mode(connected=True)"
   ]
  },
  {
   "cell_type": "code",
   "execution_count": 3,
   "metadata": {},
   "outputs": [
    {
     "data": {
      "text/html": [
       "<div>\n",
       "<style scoped>\n",
       "    .dataframe tbody tr th:only-of-type {\n",
       "        vertical-align: middle;\n",
       "    }\n",
       "\n",
       "    .dataframe tbody tr th {\n",
       "        vertical-align: top;\n",
       "    }\n",
       "\n",
       "    .dataframe thead th {\n",
       "        text-align: right;\n",
       "    }\n",
       "</style>\n",
       "<table border=\"1\" class=\"dataframe\">\n",
       "  <thead>\n",
       "    <tr style=\"text-align: right;\">\n",
       "      <th></th>\n",
       "      <th>Age</th>\n",
       "      <th>Are you able to express verbally the emotions produced by an image you have seen?</th>\n",
       "      <th>By reusing an image, can you redefine the message that the sender has thought about?</th>\n",
       "      <th>Classify your degree of vision</th>\n",
       "      <th>Do you find this image attractive? Why?</th>\n",
       "      <th>Do you find this image attractive? Why?</th>\n",
       "      <th>Do you find this image attractive? Why?.1</th>\n",
       "      <th>Do you find this image attractive? Why?.2</th>\n",
       "      <th>Do you find this image attractive? Why?.3</th>\n",
       "      <th>Do you have access to devices (computer, mobile, tablet, etc.) connected to the Internet usually?</th>\n",
       "      <th>...</th>\n",
       "      <th>Which of the paired images do you find most attractive? 1/2 2/2.2</th>\n",
       "      <th>Which of the paired images do you find most attractive? 1/2 2/2.3</th>\n",
       "      <th>Which of the paired images do you find most attractive? 1/2 2/2.4</th>\n",
       "      <th>With whom do you usually share images? [1. Friends]</th>\n",
       "      <th>With whom do you usually share images? [2. Family]</th>\n",
       "      <th>With whom do you usually share images? [3. Partners]</th>\n",
       "      <th>With whom do you usually share images? [4. With all my acquaintances]</th>\n",
       "      <th>With whom do you usually share images? [5. With nobody]</th>\n",
       "      <th>With whom do you usually share images? [Other]</th>\n",
       "      <th>Within your social networks or mobile applications, do you see visual information that you are not looking for (social awareness campaigns, jokes, advertising, etc.)?</th>\n",
       "    </tr>\n",
       "  </thead>\n",
       "  <tbody>\n",
       "    <tr>\n",
       "      <th>0</th>\n",
       "      <td>37</td>\n",
       "      <td>3</td>\n",
       "      <td>1</td>\n",
       "      <td>3</td>\n",
       "      <td>Si, el puente que sostiene al tren</td>\n",
       "      <td>No, me provoca angustia</td>\n",
       "      <td>No, no me interesa</td>\n",
       "      <td>No, demasiado color y no.me.interesa</td>\n",
       "      <td>Si, por el efecto del cohete en la mano</td>\n",
       "      <td>5</td>\n",
       "      <td>...</td>\n",
       "      <td>2</td>\n",
       "      <td>2</td>\n",
       "      <td>2</td>\n",
       "      <td>1</td>\n",
       "      <td>1</td>\n",
       "      <td>0</td>\n",
       "      <td>0</td>\n",
       "      <td>0</td>\n",
       "      <td>NaN</td>\n",
       "      <td>4</td>\n",
       "    </tr>\n",
       "    <tr>\n",
       "      <th>1</th>\n",
       "      <td>62</td>\n",
       "      <td>3</td>\n",
       "      <td>1</td>\n",
       "      <td>3</td>\n",
       "      <td>Serviría para ilustrar una historia. Quizá una...</td>\n",
       "      <td>Broma de chocolate con leche</td>\n",
       "      <td>Texturas, personas, no sabemos quienes pero el...</td>\n",
       "      <td>Exhuberancia se recrea en la iconografia  con ...</td>\n",
       "      <td>No se discute la hombría de quién de modo tan ...</td>\n",
       "      <td>5</td>\n",
       "      <td>...</td>\n",
       "      <td>2</td>\n",
       "      <td>2</td>\n",
       "      <td>2</td>\n",
       "      <td>1</td>\n",
       "      <td>1</td>\n",
       "      <td>0</td>\n",
       "      <td>0</td>\n",
       "      <td>0</td>\n",
       "      <td>NaN</td>\n",
       "      <td>5</td>\n",
       "    </tr>\n",
       "    <tr>\n",
       "      <th>2</th>\n",
       "      <td>28</td>\n",
       "      <td>3</td>\n",
       "      <td>1</td>\n",
       "      <td>4</td>\n",
       "      <td>No, no encuentro enfocados elementos que me at...</td>\n",
       "      <td>Sí, es muy curioso el contraste de colores ent...</td>\n",
       "      <td>Sí, me causa curiosidad la situación que se va...</td>\n",
       "      <td>Sí, el color y las metáforas que recoge están ...</td>\n",
       "      <td>Sí, el lanzamiento de cohete con el humo y la ...</td>\n",
       "      <td>5</td>\n",
       "      <td>...</td>\n",
       "      <td>1</td>\n",
       "      <td>2</td>\n",
       "      <td>2</td>\n",
       "      <td>1</td>\n",
       "      <td>1</td>\n",
       "      <td>0</td>\n",
       "      <td>0</td>\n",
       "      <td>0</td>\n",
       "      <td>NaN</td>\n",
       "      <td>4</td>\n",
       "    </tr>\n",
       "    <tr>\n",
       "      <th>3</th>\n",
       "      <td>31</td>\n",
       "      <td>3</td>\n",
       "      <td>1</td>\n",
       "      <td>4</td>\n",
       "      <td>No. No me gusta que se vean las obras al fondo...</td>\n",
       "      <td>No. Me parece divertida y original, pero no la...</td>\n",
       "      <td>No. No me gusta la Semana Santa aunque ciertam...</td>\n",
       "      <td>No. Me parece que es recargada, que no está bi...</td>\n",
       "      <td>Sí, me parece que captura el momento, la celeb...</td>\n",
       "      <td>5</td>\n",
       "      <td>...</td>\n",
       "      <td>2</td>\n",
       "      <td>2</td>\n",
       "      <td>1</td>\n",
       "      <td>1</td>\n",
       "      <td>1</td>\n",
       "      <td>1</td>\n",
       "      <td>0</td>\n",
       "      <td>0</td>\n",
       "      <td>NaN</td>\n",
       "      <td>1</td>\n",
       "    </tr>\n",
       "    <tr>\n",
       "      <th>4</th>\n",
       "      <td>24</td>\n",
       "      <td>2</td>\n",
       "      <td>3</td>\n",
       "      <td>4</td>\n",
       "      <td>No, me transmite mucha tristeza</td>\n",
       "      <td>No, porque la persona sale haciendo el bobo</td>\n",
       "      <td>Si</td>\n",
       "      <td>Si, por los colores llamativos</td>\n",
       "      <td>0</td>\n",
       "      <td>5</td>\n",
       "      <td>...</td>\n",
       "      <td>2</td>\n",
       "      <td>2</td>\n",
       "      <td>2</td>\n",
       "      <td>1</td>\n",
       "      <td>1</td>\n",
       "      <td>0</td>\n",
       "      <td>0</td>\n",
       "      <td>0</td>\n",
       "      <td>Pareja</td>\n",
       "      <td>3</td>\n",
       "    </tr>\n",
       "  </tbody>\n",
       "</table>\n",
       "<p>5 rows × 125 columns</p>\n",
       "</div>"
      ],
      "text/plain": [
       "   Age  \\\n",
       "0   37   \n",
       "1   62   \n",
       "2   28   \n",
       "3   31   \n",
       "4   24   \n",
       "\n",
       "   Are you able to express verbally the emotions produced by an image you have seen?  \\\n",
       "0                                                  3                                   \n",
       "1                                                  3                                   \n",
       "2                                                  3                                   \n",
       "3                                                  3                                   \n",
       "4                                                  2                                   \n",
       "\n",
       "   By reusing an image, can you redefine the message that the sender has thought about?  \\\n",
       "0                                                  1                                      \n",
       "1                                                  1                                      \n",
       "2                                                  1                                      \n",
       "3                                                  1                                      \n",
       "4                                                  3                                      \n",
       "\n",
       "   Classify your degree of vision  \\\n",
       "0                               3   \n",
       "1                               3   \n",
       "2                               4   \n",
       "3                               4   \n",
       "4                               4   \n",
       "\n",
       "             Do you find this image attractive? Why?  \\\n",
       "0                Si, el puente que sostiene al tren    \n",
       "1  Serviría para ilustrar una historia. Quizá una...   \n",
       "2  No, no encuentro enfocados elementos que me at...   \n",
       "3  No. No me gusta que se vean las obras al fondo...   \n",
       "4                    No, me transmite mucha tristeza   \n",
       "\n",
       "        Do you find this image attractive? Why?       \\\n",
       "0                           No, me provoca angustia    \n",
       "1                       Broma de chocolate con leche   \n",
       "2  Sí, es muy curioso el contraste de colores ent...   \n",
       "3  No. Me parece divertida y original, pero no la...   \n",
       "4        No, porque la persona sale haciendo el bobo   \n",
       "\n",
       "           Do you find this image attractive? Why?.1  \\\n",
       "0                                No, no me interesa    \n",
       "1  Texturas, personas, no sabemos quienes pero el...   \n",
       "2  Sí, me causa curiosidad la situación que se va...   \n",
       "3  No. No me gusta la Semana Santa aunque ciertam...   \n",
       "4                                                 Si   \n",
       "\n",
       "           Do you find this image attractive? Why?.2  \\\n",
       "0               No, demasiado color y no.me.interesa   \n",
       "1  Exhuberancia se recrea en la iconografia  con ...   \n",
       "2  Sí, el color y las metáforas que recoge están ...   \n",
       "3  No. Me parece que es recargada, que no está bi...   \n",
       "4                     Si, por los colores llamativos   \n",
       "\n",
       "           Do you find this image attractive? Why?.3  \\\n",
       "0            Si, por el efecto del cohete en la mano   \n",
       "1  No se discute la hombría de quién de modo tan ...   \n",
       "2  Sí, el lanzamiento de cohete con el humo y la ...   \n",
       "3  Sí, me parece que captura el momento, la celeb...   \n",
       "4                                                  0   \n",
       "\n",
       "   Do you have access to devices (computer, mobile, tablet, etc.) connected to the Internet usually?  \\\n",
       "0                                                  5                                                   \n",
       "1                                                  5                                                   \n",
       "2                                                  5                                                   \n",
       "3                                                  5                                                   \n",
       "4                                                  5                                                   \n",
       "\n",
       "                                                                                    ...                                                                                    \\\n",
       "0                                                                                   ...                                                                                     \n",
       "1                                                                                   ...                                                                                     \n",
       "2                                                                                   ...                                                                                     \n",
       "3                                                                                   ...                                                                                     \n",
       "4                                                                                   ...                                                                                     \n",
       "\n",
       "   Which of the paired images do you find most attractive? 1/2 2/2.2  \\\n",
       "0                                                  2                   \n",
       "1                                                  2                   \n",
       "2                                                  1                   \n",
       "3                                                  2                   \n",
       "4                                                  2                   \n",
       "\n",
       "   Which of the paired images do you find most attractive? 1/2 2/2.3  \\\n",
       "0                                                  2                   \n",
       "1                                                  2                   \n",
       "2                                                  2                   \n",
       "3                                                  2                   \n",
       "4                                                  2                   \n",
       "\n",
       "   Which of the paired images do you find most attractive? 1/2 2/2.4  \\\n",
       "0                                                  2                   \n",
       "1                                                  2                   \n",
       "2                                                  2                   \n",
       "3                                                  1                   \n",
       "4                                                  2                   \n",
       "\n",
       "   With whom do you usually share images? [1. Friends]  \\\n",
       "0                                                  1     \n",
       "1                                                  1     \n",
       "2                                                  1     \n",
       "3                                                  1     \n",
       "4                                                  1     \n",
       "\n",
       "   With whom do you usually share images? [2. Family]  \\\n",
       "0                                                  1    \n",
       "1                                                  1    \n",
       "2                                                  1    \n",
       "3                                                  1    \n",
       "4                                                  1    \n",
       "\n",
       "   With whom do you usually share images? [3. Partners]  \\\n",
       "0                                                  0      \n",
       "1                                                  0      \n",
       "2                                                  0      \n",
       "3                                                  1      \n",
       "4                                                  0      \n",
       "\n",
       "   With whom do you usually share images? [4. With all my acquaintances]  \\\n",
       "0                                                  0                       \n",
       "1                                                  0                       \n",
       "2                                                  0                       \n",
       "3                                                  0                       \n",
       "4                                                  0                       \n",
       "\n",
       "   With whom do you usually share images? [5. With nobody]  \\\n",
       "0                                                  0         \n",
       "1                                                  0         \n",
       "2                                                  0         \n",
       "3                                                  0         \n",
       "4                                                  0         \n",
       "\n",
       "   With whom do you usually share images? [Other]  \\\n",
       "0                                             NaN   \n",
       "1                                             NaN   \n",
       "2                                             NaN   \n",
       "3                                             NaN   \n",
       "4                                          Pareja   \n",
       "\n",
       "   Within your social networks or mobile applications, do you see visual information that you are not looking for (social awareness campaigns, jokes, advertising, etc.)?  \n",
       "0                                                  4                                                                                                                       \n",
       "1                                                  5                                                                                                                       \n",
       "2                                                  4                                                                                                                       \n",
       "3                                                  1                                                                                                                       \n",
       "4                                                  3                                                                                                                       \n",
       "\n",
       "[5 rows x 125 columns]"
      ]
     },
     "execution_count": 3,
     "metadata": {},
     "output_type": "execute_result"
    }
   ],
   "source": [
    "dataframe_all_en = get_dataframe_analysis_en(True)\n",
    "dataframe_all_en.head()"
   ]
  },
  {
   "cell_type": "code",
   "execution_count": 4,
   "metadata": {},
   "outputs": [
    {
     "data": {
      "text/html": [
       "<div>\n",
       "<style scoped>\n",
       "    .dataframe tbody tr th:only-of-type {\n",
       "        vertical-align: middle;\n",
       "    }\n",
       "\n",
       "    .dataframe tbody tr th {\n",
       "        vertical-align: top;\n",
       "    }\n",
       "\n",
       "    .dataframe thead th {\n",
       "        text-align: right;\n",
       "    }\n",
       "</style>\n",
       "<table border=\"1\" class=\"dataframe\">\n",
       "  <thead>\n",
       "    <tr style=\"text-align: right;\">\n",
       "      <th></th>\n",
       "      <th>Al reutilizar una imagen, ¿crees puedes redefinir el mensaje que el emisor ha pensado?</th>\n",
       "      <th>Clasifica tu grado de visión</th>\n",
       "      <th>Cuando compartes imágenes en redes sociales, ¿las acompañas de texto siguiendo las indicaciones que te sugieren las aplicaciones (etiquetado, explicación de la imagen, texto inspirador, etc.)?</th>\n",
       "      <th>Cuando compartes imágenes, ¿habitualmente las envías a otras personas?</th>\n",
       "      <th>Cuando compartes imágenes, ¿habitualmente las produces tú?</th>\n",
       "      <th>Cuando compartes imágenes, ¿habitualmente las recibes de otras personas?</th>\n",
       "      <th>Cuando generas una imagen, ¿qué tipo de dispositivo usas? (Respuesta múltiple) [1. Cámara de fotos]</th>\n",
       "      <th>Cuando generas una imagen, ¿qué tipo de dispositivo usas? (Respuesta múltiple) [2. Teléfono móvil]</th>\n",
       "      <th>Cuando generas una imagen, ¿qué tipo de dispositivo usas? (Respuesta múltiple) [3. Tableta]</th>\n",
       "      <th>Cuando generas una imagen, ¿qué tipo de dispositivo usas? (Respuesta múltiple) [Otro]</th>\n",
       "      <th>...</th>\n",
       "      <th>¿Repites las imágenes hasta conseguir el resultado esperado?</th>\n",
       "      <th>¿Te gusta seguir a personas que admiras en redes sociales? ¿Eres fan o follower de alguna? ¿En ocasiones escribes comentarios en sus publicaciones?</th>\n",
       "      <th>¿Te resulta atractiva esta imagen? ¿Por qué?</th>\n",
       "      <th>¿Te resulta atractiva esta imagen? ¿Por qué?.1</th>\n",
       "      <th>¿Te resulta atractiva esta imagen? ¿Por qué?.2</th>\n",
       "      <th>¿Te resulta atractiva esta imagen? ¿Por qué?.3</th>\n",
       "      <th>¿Te resulta atractiva esta imagen? ¿Por qué?.4</th>\n",
       "      <th>¿Tienes acceso a dispositivos (ordenador, móvil, tablet, etc.) conectados a Internet habitualmente?</th>\n",
       "      <th>¿Tienes alguna carencia visual que afecte a la recepción de formas, colores, distancias, etc.?</th>\n",
       "      <th>¿Utilizas gafas o lentes de contacto?</th>\n",
       "    </tr>\n",
       "  </thead>\n",
       "  <tbody>\n",
       "    <tr>\n",
       "      <th>0</th>\n",
       "      <td>1</td>\n",
       "      <td>3</td>\n",
       "      <td>1</td>\n",
       "      <td>3</td>\n",
       "      <td>4</td>\n",
       "      <td>3</td>\n",
       "      <td>0</td>\n",
       "      <td>1</td>\n",
       "      <td>0</td>\n",
       "      <td>NaN</td>\n",
       "      <td>...</td>\n",
       "      <td>1</td>\n",
       "      <td>3</td>\n",
       "      <td>Si, el puente que sostiene al tren</td>\n",
       "      <td>No, no me interesa</td>\n",
       "      <td>No, demasiado color y no.me.interesa</td>\n",
       "      <td>Si, por el efecto del cohete en la mano</td>\n",
       "      <td>No, me provoca angustia</td>\n",
       "      <td>5</td>\n",
       "      <td>0</td>\n",
       "      <td>1</td>\n",
       "    </tr>\n",
       "    <tr>\n",
       "      <th>1</th>\n",
       "      <td>1</td>\n",
       "      <td>3</td>\n",
       "      <td>3</td>\n",
       "      <td>5</td>\n",
       "      <td>4</td>\n",
       "      <td>5</td>\n",
       "      <td>0</td>\n",
       "      <td>1</td>\n",
       "      <td>0</td>\n",
       "      <td>NaN</td>\n",
       "      <td>...</td>\n",
       "      <td>0</td>\n",
       "      <td>1</td>\n",
       "      <td>Serviría para ilustrar una historia. Quizá una...</td>\n",
       "      <td>Texturas, personas, no sabemos quienes pero el...</td>\n",
       "      <td>Exhuberancia se recrea en la iconografia  con ...</td>\n",
       "      <td>No se discute la hombría de quién de modo tan ...</td>\n",
       "      <td>Broma de chocolate con leche</td>\n",
       "      <td>5</td>\n",
       "      <td>0</td>\n",
       "      <td>1</td>\n",
       "    </tr>\n",
       "    <tr>\n",
       "      <th>2</th>\n",
       "      <td>1</td>\n",
       "      <td>4</td>\n",
       "      <td>3</td>\n",
       "      <td>3</td>\n",
       "      <td>4</td>\n",
       "      <td>4</td>\n",
       "      <td>0</td>\n",
       "      <td>1</td>\n",
       "      <td>0</td>\n",
       "      <td>NaN</td>\n",
       "      <td>...</td>\n",
       "      <td>1</td>\n",
       "      <td>3</td>\n",
       "      <td>No, no encuentro enfocados elementos que me at...</td>\n",
       "      <td>Sí, me causa curiosidad la situación que se va...</td>\n",
       "      <td>Sí, el color y las metáforas que recoge están ...</td>\n",
       "      <td>Sí, el lanzamiento de cohete con el humo y la ...</td>\n",
       "      <td>Sí, es muy curioso el contraste de colores ent...</td>\n",
       "      <td>5</td>\n",
       "      <td>0</td>\n",
       "      <td>1</td>\n",
       "    </tr>\n",
       "    <tr>\n",
       "      <th>3</th>\n",
       "      <td>1</td>\n",
       "      <td>4</td>\n",
       "      <td>5</td>\n",
       "      <td>4</td>\n",
       "      <td>4</td>\n",
       "      <td>2</td>\n",
       "      <td>1</td>\n",
       "      <td>1</td>\n",
       "      <td>0</td>\n",
       "      <td>NaN</td>\n",
       "      <td>...</td>\n",
       "      <td>1</td>\n",
       "      <td>3</td>\n",
       "      <td>No. No me gusta que se vean las obras al fondo...</td>\n",
       "      <td>No. No me gusta la Semana Santa aunque ciertam...</td>\n",
       "      <td>No. Me parece que es recargada, que no está bi...</td>\n",
       "      <td>Sí, me parece que captura el momento, la celeb...</td>\n",
       "      <td>No. Me parece divertida y original, pero no la...</td>\n",
       "      <td>5</td>\n",
       "      <td>0</td>\n",
       "      <td>1</td>\n",
       "    </tr>\n",
       "    <tr>\n",
       "      <th>4</th>\n",
       "      <td>3</td>\n",
       "      <td>4</td>\n",
       "      <td>4</td>\n",
       "      <td>4</td>\n",
       "      <td>3</td>\n",
       "      <td>4</td>\n",
       "      <td>1</td>\n",
       "      <td>1</td>\n",
       "      <td>0</td>\n",
       "      <td>NaN</td>\n",
       "      <td>...</td>\n",
       "      <td>1</td>\n",
       "      <td>2</td>\n",
       "      <td>No, me transmite mucha tristeza</td>\n",
       "      <td>Si</td>\n",
       "      <td>Si, por los colores llamativos</td>\n",
       "      <td>0</td>\n",
       "      <td>No, porque la persona sale haciendo el bobo</td>\n",
       "      <td>5</td>\n",
       "      <td>0</td>\n",
       "      <td>1</td>\n",
       "    </tr>\n",
       "  </tbody>\n",
       "</table>\n",
       "<p>5 rows × 125 columns</p>\n",
       "</div>"
      ],
      "text/plain": [
       "   Al reutilizar una imagen, ¿crees puedes redefinir el mensaje que el emisor ha pensado?  \\\n",
       "0                                                  1                                        \n",
       "1                                                  1                                        \n",
       "2                                                  1                                        \n",
       "3                                                  1                                        \n",
       "4                                                  3                                        \n",
       "\n",
       "   Clasifica tu grado de visión  \\\n",
       "0                             3   \n",
       "1                             3   \n",
       "2                             4   \n",
       "3                             4   \n",
       "4                             4   \n",
       "\n",
       "   Cuando compartes imágenes en redes sociales, ¿las acompañas de texto siguiendo las indicaciones que te sugieren las aplicaciones (etiquetado, explicación de la imagen, texto inspirador, etc.)?  \\\n",
       "0                                                  1                                                                                                                                                  \n",
       "1                                                  3                                                                                                                                                  \n",
       "2                                                  3                                                                                                                                                  \n",
       "3                                                  5                                                                                                                                                  \n",
       "4                                                  4                                                                                                                                                  \n",
       "\n",
       "   Cuando compartes imágenes, ¿habitualmente las envías a otras personas?  \\\n",
       "0                                                  3                        \n",
       "1                                                  5                        \n",
       "2                                                  3                        \n",
       "3                                                  4                        \n",
       "4                                                  4                        \n",
       "\n",
       "   Cuando compartes imágenes, ¿habitualmente las produces tú?  \\\n",
       "0                                                  4            \n",
       "1                                                  4            \n",
       "2                                                  4            \n",
       "3                                                  4            \n",
       "4                                                  3            \n",
       "\n",
       "   Cuando compartes imágenes, ¿habitualmente las recibes de otras personas?  \\\n",
       "0                                                  3                          \n",
       "1                                                  5                          \n",
       "2                                                  4                          \n",
       "3                                                  2                          \n",
       "4                                                  4                          \n",
       "\n",
       "   Cuando generas una imagen, ¿qué tipo de dispositivo usas? (Respuesta múltiple) [1. Cámara de fotos]  \\\n",
       "0                                                  0                                                     \n",
       "1                                                  0                                                     \n",
       "2                                                  0                                                     \n",
       "3                                                  1                                                     \n",
       "4                                                  1                                                     \n",
       "\n",
       "   Cuando generas una imagen, ¿qué tipo de dispositivo usas? (Respuesta múltiple) [2. Teléfono móvil]  \\\n",
       "0                                                  1                                                    \n",
       "1                                                  1                                                    \n",
       "2                                                  1                                                    \n",
       "3                                                  1                                                    \n",
       "4                                                  1                                                    \n",
       "\n",
       "   Cuando generas una imagen, ¿qué tipo de dispositivo usas? (Respuesta múltiple) [3. Tableta]  \\\n",
       "0                                                  0                                             \n",
       "1                                                  0                                             \n",
       "2                                                  0                                             \n",
       "3                                                  0                                             \n",
       "4                                                  0                                             \n",
       "\n",
       "  Cuando generas una imagen, ¿qué tipo de dispositivo usas? (Respuesta múltiple) [Otro]  \\\n",
       "0                                                NaN                                      \n",
       "1                                                NaN                                      \n",
       "2                                                NaN                                      \n",
       "3                                                NaN                                      \n",
       "4                                                NaN                                      \n",
       "\n",
       "                   ...                    \\\n",
       "0                  ...                     \n",
       "1                  ...                     \n",
       "2                  ...                     \n",
       "3                  ...                     \n",
       "4                  ...                     \n",
       "\n",
       "   ¿Repites las imágenes hasta conseguir el resultado esperado?  \\\n",
       "0                                                  1              \n",
       "1                                                  0              \n",
       "2                                                  1              \n",
       "3                                                  1              \n",
       "4                                                  1              \n",
       "\n",
       "   ¿Te gusta seguir a personas que admiras en redes sociales? ¿Eres fan o follower de alguna? ¿En ocasiones escribes comentarios en sus publicaciones?  \\\n",
       "0                                                  3                                                                                                     \n",
       "1                                                  1                                                                                                     \n",
       "2                                                  3                                                                                                     \n",
       "3                                                  3                                                                                                     \n",
       "4                                                  2                                                                                                     \n",
       "\n",
       "        ¿Te resulta atractiva esta imagen? ¿Por qué?  \\\n",
       "0                Si, el puente que sostiene al tren    \n",
       "1  Serviría para ilustrar una historia. Quizá una...   \n",
       "2  No, no encuentro enfocados elementos que me at...   \n",
       "3  No. No me gusta que se vean las obras al fondo...   \n",
       "4                    No, me transmite mucha tristeza   \n",
       "\n",
       "      ¿Te resulta atractiva esta imagen? ¿Por qué?.1  \\\n",
       "0                                No, no me interesa    \n",
       "1  Texturas, personas, no sabemos quienes pero el...   \n",
       "2  Sí, me causa curiosidad la situación que se va...   \n",
       "3  No. No me gusta la Semana Santa aunque ciertam...   \n",
       "4                                                 Si   \n",
       "\n",
       "      ¿Te resulta atractiva esta imagen? ¿Por qué?.2  \\\n",
       "0               No, demasiado color y no.me.interesa   \n",
       "1  Exhuberancia se recrea en la iconografia  con ...   \n",
       "2  Sí, el color y las metáforas que recoge están ...   \n",
       "3  No. Me parece que es recargada, que no está bi...   \n",
       "4                     Si, por los colores llamativos   \n",
       "\n",
       "      ¿Te resulta atractiva esta imagen? ¿Por qué?.3  \\\n",
       "0            Si, por el efecto del cohete en la mano   \n",
       "1  No se discute la hombría de quién de modo tan ...   \n",
       "2  Sí, el lanzamiento de cohete con el humo y la ...   \n",
       "3  Sí, me parece que captura el momento, la celeb...   \n",
       "4                                                  0   \n",
       "\n",
       "      ¿Te resulta atractiva esta imagen? ¿Por qué?.4  \\\n",
       "0                           No, me provoca angustia    \n",
       "1                       Broma de chocolate con leche   \n",
       "2  Sí, es muy curioso el contraste de colores ent...   \n",
       "3  No. Me parece divertida y original, pero no la...   \n",
       "4        No, porque la persona sale haciendo el bobo   \n",
       "\n",
       "   ¿Tienes acceso a dispositivos (ordenador, móvil, tablet, etc.) conectados a Internet habitualmente?  \\\n",
       "0                                                  5                                                     \n",
       "1                                                  5                                                     \n",
       "2                                                  5                                                     \n",
       "3                                                  5                                                     \n",
       "4                                                  5                                                     \n",
       "\n",
       "   ¿Tienes alguna carencia visual que afecte a la recepción de formas, colores, distancias, etc.?  \\\n",
       "0                                                  0                                                \n",
       "1                                                  0                                                \n",
       "2                                                  0                                                \n",
       "3                                                  0                                                \n",
       "4                                                  0                                                \n",
       "\n",
       "   ¿Utilizas gafas o lentes de contacto?  \n",
       "0                                      1  \n",
       "1                                      1  \n",
       "2                                      1  \n",
       "3                                      1  \n",
       "4                                      1  \n",
       "\n",
       "[5 rows x 125 columns]"
      ]
     },
     "execution_count": 4,
     "metadata": {},
     "output_type": "execute_result"
    }
   ],
   "source": [
    "dataframe_all_esp = get_dataframe_analysis_esp(True)\n",
    "dataframe_all_esp.head()"
   ]
  },
  {
   "cell_type": "code",
   "execution_count": 5,
   "metadata": {},
   "outputs": [],
   "source": [
    "def visualize_reception_images_all_esp(dataframe):\n",
    "    newDataframe = dataframe.copy()\n",
    "    for column in get_reception_image_items_esp():\n",
    "        try:\n",
    "            print(f'Describiendo la pregunta {column}')\n",
    "            dict_item = get_data_replacements(str(column))\n",
    "            if dict_item:\n",
    "                newDataframe[column] = newDataframe[column].apply(get_data_replacements(str(column)).get)\n",
    "            display(newDataframe[column].describe())\n",
    "            print(\n",
    "                f'Conteo de cada valor en {column} expresada como valor / cantidad')\n",
    "            display(newDataframe[column].value_counts().sort_index())\n",
    "            print(\n",
    "                f'Porcentaje de cada valor en {column} expresado como valor / porcentaje')\n",
    "            display(newDataframe[column].value_counts(normalize=True).sort_index().round(4) * 100)\n",
    "            # sns.distplot(workCleanDummiesCluster.loc[workCleanDummiesCluster['cluster'] == selected_cluster][column], kde=False, rug=True);\n",
    "            data = [go.Bar(x=sorted(newDataframe[column].unique()),\n",
    "                           y=newDataframe[column].value_counts().reindex(\n",
    "                               newDataframe[column].unique(), fill_value=0).sort_index(),\n",
    "                           marker=dict(color=cl.scales['6']['div']['Spectral']))]\n",
    "\n",
    "            iplot(data)\n",
    "            plt.show()\n",
    "        except BaseException:\n",
    "            pass"
   ]
  },
  {
   "cell_type": "code",
   "execution_count": 6,
   "metadata": {},
   "outputs": [],
   "source": [
    "def visualize_reception_images_all_en(dataframe):\n",
    "    newDataframe = dataframe.copy()\n",
    "    for column in get_reception_image_items_en():\n",
    "        try:\n",
    "            print(f'Describing the feature {column}')\n",
    "            dict_item = get_data_replacements(str(column))\n",
    "            if dict_item:\n",
    "                newDataframe[column] = newDataframe[column].apply(get_data_replacements(str(column)).get)\n",
    "            display(newDataframe[column].describe())\n",
    "            print(\n",
    "                f'Count of each value in {column} expresed as value / amount')\n",
    "            display(newDataframe[column].value_counts().sort_index())\n",
    "            print(\n",
    "                f'Percentage of each value in {column} expresed as value / percentage')\n",
    "            display(newDataframe[column].value_counts(normalize=True).sort_index().round(4) * 100)\n",
    "            # sns.distplot(workCleanDummiesCluster.loc[workCleanDummiesCluster['cluster'] == selected_cluster][column], kde=False, rug=True);\n",
    "            display(newDataframe[column].value_counts(normalize=True).sort_index().round(4) * 100)\n",
    "            # sns.distplot(workCleanDummiesCluster.loc[workCleanDummiesCluster['cluster'] == selected_cluster][column], kde=False, rug=True);\n",
    "            data = [go.Bar(x=sorted(newDataframe[column].unique()),\n",
    "                           y=newDataframe[column].value_counts().reindex(\n",
    "                               newDataframe[column].unique(), fill_value=0).sort_index(),\n",
    "                           marker=dict(color=cl.scales['6']['div']['Spectral']))]\n",
    "\n",
    "            iplot(data)\n",
    "            plt.show()\n",
    "        except BaseException:\n",
    "            pass"
   ]
  },
  {
   "cell_type": "code",
   "execution_count": 7,
   "metadata": {
    "scrolled": false
   },
   "outputs": [
    {
     "name": "stdout",
     "output_type": "stream",
     "text": [
      "Describiendo la pregunta Clasifica tu grado de visión\n"
     ]
    },
    {
     "data": {
      "text/plain": [
       "count          767\n",
       "unique           5\n",
       "top       4. Bueno\n",
       "freq           334\n",
       "Name: Clasifica tu grado de visión, dtype: object"
      ]
     },
     "metadata": {},
     "output_type": "display_data"
    },
    {
     "name": "stdout",
     "output_type": "stream",
     "text": [
      "Conteo de cada valor en Clasifica tu grado de visión expresada como valor / cantidad\n"
     ]
    },
    {
     "data": {
      "text/plain": [
       "1. Muy malo       4\n",
       "2. Malo          28\n",
       "3. Regular      155\n",
       "4. Bueno        334\n",
       "5. Muy bueno    246\n",
       "Name: Clasifica tu grado de visión, dtype: int64"
      ]
     },
     "metadata": {},
     "output_type": "display_data"
    },
    {
     "name": "stdout",
     "output_type": "stream",
     "text": [
      "Porcentaje de cada valor en Clasifica tu grado de visión expresado como valor / porcentaje\n"
     ]
    },
    {
     "data": {
      "text/plain": [
       "1. Muy malo      0.52\n",
       "2. Malo          3.65\n",
       "3. Regular      20.21\n",
       "4. Bueno        43.55\n",
       "5. Muy bueno    32.07\n",
       "Name: Clasifica tu grado de visión, dtype: float64"
      ]
     },
     "metadata": {},
     "output_type": "display_data"
    },
    {
     "data": {
      "application/vnd.plotly.v1+json": {
       "config": {
        "linkText": "Export to plot.ly",
        "plotlyServerURL": "https://plot.ly",
        "showLink": false
       },
       "data": [
        {
         "marker": {
          "color": [
           "rgb(213,62,79)",
           "rgb(252,141,89)",
           "rgb(254,224,139)",
           "rgb(230,245,152)",
           "rgb(153,213,148)",
           "rgb(50,136,189)"
          ]
         },
         "type": "bar",
         "uid": "3ebc592e-c511-4ddd-8ee2-fca99dcc327b",
         "x": [
          "1. Muy malo",
          "2. Malo",
          "3. Regular",
          "4. Bueno",
          "5. Muy bueno"
         ],
         "y": [
          4,
          28,
          155,
          334,
          246
         ]
        }
       ],
       "layout": {}
      },
      "text/html": [
       "<div id=\"97238694-86ce-42b8-a936-5d3c969a1089\" style=\"height: 525px; width: 100%;\" class=\"plotly-graph-div\"></div><script type=\"text/javascript\">require([\"plotly\"], function(Plotly) { window.PLOTLYENV=window.PLOTLYENV || {};window.PLOTLYENV.BASE_URL=\"https://plot.ly\";\n",
       "if (document.getElementById(\"97238694-86ce-42b8-a936-5d3c969a1089\")) {\n",
       "    Plotly.newPlot(\"97238694-86ce-42b8-a936-5d3c969a1089\", [{\"marker\": {\"color\": [\"rgb(213,62,79)\", \"rgb(252,141,89)\", \"rgb(254,224,139)\", \"rgb(230,245,152)\", \"rgb(153,213,148)\", \"rgb(50,136,189)\"]}, \"x\": [\"1. Muy malo\", \"2. Malo\", \"3. Regular\", \"4. Bueno\", \"5. Muy bueno\"], \"y\": [4, 28, 155, 334, 246], \"type\": \"bar\", \"uid\": \"1ca7b51f-6556-4181-a7ae-815daba0af29\"}], {}, {\"showLink\": false, \"linkText\": \"Export to plot.ly\", \"plotlyServerURL\": \"https://plot.ly\"}); \n",
       "}\n",
       "});</script><script type=\"text/javascript\">window.addEventListener(\"resize\", function(){if (document.getElementById(\"97238694-86ce-42b8-a936-5d3c969a1089\")) {window._Plotly.Plots.resize(document.getElementById(\"97238694-86ce-42b8-a936-5d3c969a1089\"));};})</script>"
      ],
      "text/vnd.plotly.v1+html": [
       "<div id=\"97238694-86ce-42b8-a936-5d3c969a1089\" style=\"height: 525px; width: 100%;\" class=\"plotly-graph-div\"></div><script type=\"text/javascript\">require([\"plotly\"], function(Plotly) { window.PLOTLYENV=window.PLOTLYENV || {};window.PLOTLYENV.BASE_URL=\"https://plot.ly\";\n",
       "if (document.getElementById(\"97238694-86ce-42b8-a936-5d3c969a1089\")) {\n",
       "    Plotly.newPlot(\"97238694-86ce-42b8-a936-5d3c969a1089\", [{\"marker\": {\"color\": [\"rgb(213,62,79)\", \"rgb(252,141,89)\", \"rgb(254,224,139)\", \"rgb(230,245,152)\", \"rgb(153,213,148)\", \"rgb(50,136,189)\"]}, \"x\": [\"1. Muy malo\", \"2. Malo\", \"3. Regular\", \"4. Bueno\", \"5. Muy bueno\"], \"y\": [4, 28, 155, 334, 246], \"type\": \"bar\", \"uid\": \"1ca7b51f-6556-4181-a7ae-815daba0af29\"}], {}, {\"showLink\": false, \"linkText\": \"Export to plot.ly\", \"plotlyServerURL\": \"https://plot.ly\"}); \n",
       "}\n",
       "});</script><script type=\"text/javascript\">window.addEventListener(\"resize\", function(){if (document.getElementById(\"97238694-86ce-42b8-a936-5d3c969a1089\")) {window._Plotly.Plots.resize(document.getElementById(\"97238694-86ce-42b8-a936-5d3c969a1089\"));};})</script>"
      ]
     },
     "metadata": {},
     "output_type": "display_data"
    },
    {
     "name": "stdout",
     "output_type": "stream",
     "text": [
      "Describiendo la pregunta ¿Utilizas gafas o lentes de contacto?\n"
     ]
    },
    {
     "data": {
      "text/plain": [
       "count     767\n",
       "unique      2\n",
       "top        Sí\n",
       "freq      397\n",
       "Name: ¿Utilizas gafas o lentes de contacto?, dtype: object"
      ]
     },
     "metadata": {},
     "output_type": "display_data"
    },
    {
     "name": "stdout",
     "output_type": "stream",
     "text": [
      "Conteo de cada valor en ¿Utilizas gafas o lentes de contacto? expresada como valor / cantidad\n"
     ]
    },
    {
     "data": {
      "text/plain": [
       "No    370\n",
       "Sí    397\n",
       "Name: ¿Utilizas gafas o lentes de contacto?, dtype: int64"
      ]
     },
     "metadata": {},
     "output_type": "display_data"
    },
    {
     "name": "stdout",
     "output_type": "stream",
     "text": [
      "Porcentaje de cada valor en ¿Utilizas gafas o lentes de contacto? expresado como valor / porcentaje\n"
     ]
    },
    {
     "data": {
      "text/plain": [
       "No    48.24\n",
       "Sí    51.76\n",
       "Name: ¿Utilizas gafas o lentes de contacto?, dtype: float64"
      ]
     },
     "metadata": {},
     "output_type": "display_data"
    },
    {
     "data": {
      "application/vnd.plotly.v1+json": {
       "config": {
        "linkText": "Export to plot.ly",
        "plotlyServerURL": "https://plot.ly",
        "showLink": false
       },
       "data": [
        {
         "marker": {
          "color": [
           "rgb(213,62,79)",
           "rgb(252,141,89)",
           "rgb(254,224,139)",
           "rgb(230,245,152)",
           "rgb(153,213,148)",
           "rgb(50,136,189)"
          ]
         },
         "type": "bar",
         "uid": "99b053c9-b2bf-424d-a12e-95ec69cf5cbd",
         "x": [
          "No",
          "Sí"
         ],
         "y": [
          370,
          397
         ]
        }
       ],
       "layout": {}
      },
      "text/html": [
       "<div id=\"390cc4e3-063a-4be4-ba40-07f026ad3b03\" style=\"height: 525px; width: 100%;\" class=\"plotly-graph-div\"></div><script type=\"text/javascript\">require([\"plotly\"], function(Plotly) { window.PLOTLYENV=window.PLOTLYENV || {};window.PLOTLYENV.BASE_URL=\"https://plot.ly\";\n",
       "if (document.getElementById(\"390cc4e3-063a-4be4-ba40-07f026ad3b03\")) {\n",
       "    Plotly.newPlot(\"390cc4e3-063a-4be4-ba40-07f026ad3b03\", [{\"marker\": {\"color\": [\"rgb(213,62,79)\", \"rgb(252,141,89)\", \"rgb(254,224,139)\", \"rgb(230,245,152)\", \"rgb(153,213,148)\", \"rgb(50,136,189)\"]}, \"x\": [\"No\", \"S\\u00ed\"], \"y\": [370, 397], \"type\": \"bar\", \"uid\": \"5f2dbd98-e70b-4115-ae11-777f86a2dab7\"}], {}, {\"showLink\": false, \"linkText\": \"Export to plot.ly\", \"plotlyServerURL\": \"https://plot.ly\"}); \n",
       "}\n",
       "});</script><script type=\"text/javascript\">window.addEventListener(\"resize\", function(){if (document.getElementById(\"390cc4e3-063a-4be4-ba40-07f026ad3b03\")) {window._Plotly.Plots.resize(document.getElementById(\"390cc4e3-063a-4be4-ba40-07f026ad3b03\"));};})</script>"
      ],
      "text/vnd.plotly.v1+html": [
       "<div id=\"390cc4e3-063a-4be4-ba40-07f026ad3b03\" style=\"height: 525px; width: 100%;\" class=\"plotly-graph-div\"></div><script type=\"text/javascript\">require([\"plotly\"], function(Plotly) { window.PLOTLYENV=window.PLOTLYENV || {};window.PLOTLYENV.BASE_URL=\"https://plot.ly\";\n",
       "if (document.getElementById(\"390cc4e3-063a-4be4-ba40-07f026ad3b03\")) {\n",
       "    Plotly.newPlot(\"390cc4e3-063a-4be4-ba40-07f026ad3b03\", [{\"marker\": {\"color\": [\"rgb(213,62,79)\", \"rgb(252,141,89)\", \"rgb(254,224,139)\", \"rgb(230,245,152)\", \"rgb(153,213,148)\", \"rgb(50,136,189)\"]}, \"x\": [\"No\", \"S\\u00ed\"], \"y\": [370, 397], \"type\": \"bar\", \"uid\": \"5f2dbd98-e70b-4115-ae11-777f86a2dab7\"}], {}, {\"showLink\": false, \"linkText\": \"Export to plot.ly\", \"plotlyServerURL\": \"https://plot.ly\"}); \n",
       "}\n",
       "});</script><script type=\"text/javascript\">window.addEventListener(\"resize\", function(){if (document.getElementById(\"390cc4e3-063a-4be4-ba40-07f026ad3b03\")) {window._Plotly.Plots.resize(document.getElementById(\"390cc4e3-063a-4be4-ba40-07f026ad3b03\"));};})</script>"
      ]
     },
     "metadata": {},
     "output_type": "display_data"
    },
    {
     "name": "stdout",
     "output_type": "stream",
     "text": [
      "Describiendo la pregunta ¿Tienes alguna carencia visual que afecte a la recepción de formas, colores, distancias, etc.?\n"
     ]
    },
    {
     "data": {
      "text/plain": [
       "count     767\n",
       "unique      2\n",
       "top        No\n",
       "freq      647\n",
       "Name: ¿Tienes alguna carencia visual que afecte a la recepción de formas, colores, distancias, etc.?, dtype: object"
      ]
     },
     "metadata": {},
     "output_type": "display_data"
    },
    {
     "name": "stdout",
     "output_type": "stream",
     "text": [
      "Conteo de cada valor en ¿Tienes alguna carencia visual que afecte a la recepción de formas, colores, distancias, etc.? expresada como valor / cantidad\n"
     ]
    },
    {
     "data": {
      "text/plain": [
       "No    647\n",
       "Sí    120\n",
       "Name: ¿Tienes alguna carencia visual que afecte a la recepción de formas, colores, distancias, etc.?, dtype: int64"
      ]
     },
     "metadata": {},
     "output_type": "display_data"
    },
    {
     "name": "stdout",
     "output_type": "stream",
     "text": [
      "Porcentaje de cada valor en ¿Tienes alguna carencia visual que afecte a la recepción de formas, colores, distancias, etc.? expresado como valor / porcentaje\n"
     ]
    },
    {
     "data": {
      "text/plain": [
       "No    84.35\n",
       "Sí    15.65\n",
       "Name: ¿Tienes alguna carencia visual que afecte a la recepción de formas, colores, distancias, etc.?, dtype: float64"
      ]
     },
     "metadata": {},
     "output_type": "display_data"
    },
    {
     "data": {
      "application/vnd.plotly.v1+json": {
       "config": {
        "linkText": "Export to plot.ly",
        "plotlyServerURL": "https://plot.ly",
        "showLink": false
       },
       "data": [
        {
         "marker": {
          "color": [
           "rgb(213,62,79)",
           "rgb(252,141,89)",
           "rgb(254,224,139)",
           "rgb(230,245,152)",
           "rgb(153,213,148)",
           "rgb(50,136,189)"
          ]
         },
         "type": "bar",
         "uid": "bbad0373-f2b2-4fa2-93d5-be0c9dd80925",
         "x": [
          "No",
          "Sí"
         ],
         "y": [
          647,
          120
         ]
        }
       ],
       "layout": {}
      },
      "text/html": [
       "<div id=\"95b96a2a-6186-4750-a176-42db568e6d49\" style=\"height: 525px; width: 100%;\" class=\"plotly-graph-div\"></div><script type=\"text/javascript\">require([\"plotly\"], function(Plotly) { window.PLOTLYENV=window.PLOTLYENV || {};window.PLOTLYENV.BASE_URL=\"https://plot.ly\";\n",
       "if (document.getElementById(\"95b96a2a-6186-4750-a176-42db568e6d49\")) {\n",
       "    Plotly.newPlot(\"95b96a2a-6186-4750-a176-42db568e6d49\", [{\"marker\": {\"color\": [\"rgb(213,62,79)\", \"rgb(252,141,89)\", \"rgb(254,224,139)\", \"rgb(230,245,152)\", \"rgb(153,213,148)\", \"rgb(50,136,189)\"]}, \"x\": [\"No\", \"S\\u00ed\"], \"y\": [647, 120], \"type\": \"bar\", \"uid\": \"d9acf054-c5d3-4146-86e1-efffb7549fa4\"}], {}, {\"showLink\": false, \"linkText\": \"Export to plot.ly\", \"plotlyServerURL\": \"https://plot.ly\"}); \n",
       "}\n",
       "});</script><script type=\"text/javascript\">window.addEventListener(\"resize\", function(){if (document.getElementById(\"95b96a2a-6186-4750-a176-42db568e6d49\")) {window._Plotly.Plots.resize(document.getElementById(\"95b96a2a-6186-4750-a176-42db568e6d49\"));};})</script>"
      ],
      "text/vnd.plotly.v1+html": [
       "<div id=\"95b96a2a-6186-4750-a176-42db568e6d49\" style=\"height: 525px; width: 100%;\" class=\"plotly-graph-div\"></div><script type=\"text/javascript\">require([\"plotly\"], function(Plotly) { window.PLOTLYENV=window.PLOTLYENV || {};window.PLOTLYENV.BASE_URL=\"https://plot.ly\";\n",
       "if (document.getElementById(\"95b96a2a-6186-4750-a176-42db568e6d49\")) {\n",
       "    Plotly.newPlot(\"95b96a2a-6186-4750-a176-42db568e6d49\", [{\"marker\": {\"color\": [\"rgb(213,62,79)\", \"rgb(252,141,89)\", \"rgb(254,224,139)\", \"rgb(230,245,152)\", \"rgb(153,213,148)\", \"rgb(50,136,189)\"]}, \"x\": [\"No\", \"S\\u00ed\"], \"y\": [647, 120], \"type\": \"bar\", \"uid\": \"d9acf054-c5d3-4146-86e1-efffb7549fa4\"}], {}, {\"showLink\": false, \"linkText\": \"Export to plot.ly\", \"plotlyServerURL\": \"https://plot.ly\"}); \n",
       "}\n",
       "});</script><script type=\"text/javascript\">window.addEventListener(\"resize\", function(){if (document.getElementById(\"95b96a2a-6186-4750-a176-42db568e6d49\")) {window._Plotly.Plots.resize(document.getElementById(\"95b96a2a-6186-4750-a176-42db568e6d49\"));};})</script>"
      ]
     },
     "metadata": {},
     "output_type": "display_data"
    },
    {
     "name": "stdout",
     "output_type": "stream",
     "text": [
      "Describiendo la pregunta ¿Tienes acceso a dispositivos (ordenador, móvil, tablet, etc.) conectados a Internet habitualmente?\n"
     ]
    },
    {
     "data": {
      "text/plain": [
       "count                        767\n",
       "unique                         5\n",
       "top       5. Varias veces al día\n",
       "freq                         560\n",
       "Name: ¿Tienes acceso a dispositivos (ordenador, móvil, tablet, etc.) conectados a Internet habitualmente?, dtype: object"
      ]
     },
     "metadata": {},
     "output_type": "display_data"
    },
    {
     "name": "stdout",
     "output_type": "stream",
     "text": [
      "Conteo de cada valor en ¿Tienes acceso a dispositivos (ordenador, móvil, tablet, etc.) conectados a Internet habitualmente? expresada como valor / cantidad\n"
     ]
    },
    {
     "data": {
      "text/plain": [
       "1. Nunca                    1\n",
       "2. Ocasionalmente           8\n",
       "3. Semanalmente            28\n",
       "4. Diariamente            170\n",
       "5. Varias veces al día    560\n",
       "Name: ¿Tienes acceso a dispositivos (ordenador, móvil, tablet, etc.) conectados a Internet habitualmente?, dtype: int64"
      ]
     },
     "metadata": {},
     "output_type": "display_data"
    },
    {
     "name": "stdout",
     "output_type": "stream",
     "text": [
      "Porcentaje de cada valor en ¿Tienes acceso a dispositivos (ordenador, móvil, tablet, etc.) conectados a Internet habitualmente? expresado como valor / porcentaje\n"
     ]
    },
    {
     "data": {
      "text/plain": [
       "1. Nunca                   0.13\n",
       "2. Ocasionalmente          1.04\n",
       "3. Semanalmente            3.65\n",
       "4. Diariamente            22.16\n",
       "5. Varias veces al día    73.01\n",
       "Name: ¿Tienes acceso a dispositivos (ordenador, móvil, tablet, etc.) conectados a Internet habitualmente?, dtype: float64"
      ]
     },
     "metadata": {},
     "output_type": "display_data"
    },
    {
     "data": {
      "application/vnd.plotly.v1+json": {
       "config": {
        "linkText": "Export to plot.ly",
        "plotlyServerURL": "https://plot.ly",
        "showLink": false
       },
       "data": [
        {
         "marker": {
          "color": [
           "rgb(213,62,79)",
           "rgb(252,141,89)",
           "rgb(254,224,139)",
           "rgb(230,245,152)",
           "rgb(153,213,148)",
           "rgb(50,136,189)"
          ]
         },
         "type": "bar",
         "uid": "c1b58241-54e5-4664-a928-ab0b2bccd088",
         "x": [
          "1. Nunca",
          "2. Ocasionalmente",
          "3. Semanalmente",
          "4. Diariamente",
          "5. Varias veces al día"
         ],
         "y": [
          1,
          8,
          28,
          170,
          560
         ]
        }
       ],
       "layout": {}
      },
      "text/html": [
       "<div id=\"5905261a-c7a9-4b8a-995e-add38fbd4493\" style=\"height: 525px; width: 100%;\" class=\"plotly-graph-div\"></div><script type=\"text/javascript\">require([\"plotly\"], function(Plotly) { window.PLOTLYENV=window.PLOTLYENV || {};window.PLOTLYENV.BASE_URL=\"https://plot.ly\";\n",
       "if (document.getElementById(\"5905261a-c7a9-4b8a-995e-add38fbd4493\")) {\n",
       "    Plotly.newPlot(\"5905261a-c7a9-4b8a-995e-add38fbd4493\", [{\"marker\": {\"color\": [\"rgb(213,62,79)\", \"rgb(252,141,89)\", \"rgb(254,224,139)\", \"rgb(230,245,152)\", \"rgb(153,213,148)\", \"rgb(50,136,189)\"]}, \"x\": [\"1. Nunca\", \"2. Ocasionalmente\", \"3. Semanalmente\", \"4. Diariamente\", \"5. Varias veces al d\\u00eda\"], \"y\": [1, 8, 28, 170, 560], \"type\": \"bar\", \"uid\": \"9d02b169-1c61-47af-9b90-a43742fa9124\"}], {}, {\"showLink\": false, \"linkText\": \"Export to plot.ly\", \"plotlyServerURL\": \"https://plot.ly\"}); \n",
       "}\n",
       "});</script><script type=\"text/javascript\">window.addEventListener(\"resize\", function(){if (document.getElementById(\"5905261a-c7a9-4b8a-995e-add38fbd4493\")) {window._Plotly.Plots.resize(document.getElementById(\"5905261a-c7a9-4b8a-995e-add38fbd4493\"));};})</script>"
      ],
      "text/vnd.plotly.v1+html": [
       "<div id=\"5905261a-c7a9-4b8a-995e-add38fbd4493\" style=\"height: 525px; width: 100%;\" class=\"plotly-graph-div\"></div><script type=\"text/javascript\">require([\"plotly\"], function(Plotly) { window.PLOTLYENV=window.PLOTLYENV || {};window.PLOTLYENV.BASE_URL=\"https://plot.ly\";\n",
       "if (document.getElementById(\"5905261a-c7a9-4b8a-995e-add38fbd4493\")) {\n",
       "    Plotly.newPlot(\"5905261a-c7a9-4b8a-995e-add38fbd4493\", [{\"marker\": {\"color\": [\"rgb(213,62,79)\", \"rgb(252,141,89)\", \"rgb(254,224,139)\", \"rgb(230,245,152)\", \"rgb(153,213,148)\", \"rgb(50,136,189)\"]}, \"x\": [\"1. Nunca\", \"2. Ocasionalmente\", \"3. Semanalmente\", \"4. Diariamente\", \"5. Varias veces al d\\u00eda\"], \"y\": [1, 8, 28, 170, 560], \"type\": \"bar\", \"uid\": \"9d02b169-1c61-47af-9b90-a43742fa9124\"}], {}, {\"showLink\": false, \"linkText\": \"Export to plot.ly\", \"plotlyServerURL\": \"https://plot.ly\"}); \n",
       "}\n",
       "});</script><script type=\"text/javascript\">window.addEventListener(\"resize\", function(){if (document.getElementById(\"5905261a-c7a9-4b8a-995e-add38fbd4493\")) {window._Plotly.Plots.resize(document.getElementById(\"5905261a-c7a9-4b8a-995e-add38fbd4493\"));};})</script>"
      ]
     },
     "metadata": {},
     "output_type": "display_data"
    },
    {
     "name": "stdout",
     "output_type": "stream",
     "text": [
      "Describiendo la pregunta ¿Cuánto tiempo al día usas el móvil/tableta/ordenador/TV?\n"
     ]
    },
    {
     "data": {
      "text/plain": [
       "count                   767\n",
       "unique                    6\n",
       "top       6. Más de 6 horas\n",
       "freq                    316\n",
       "Name: ¿Cuánto tiempo al día usas el móvil/tableta/ordenador/TV?, dtype: object"
      ]
     },
     "metadata": {},
     "output_type": "display_data"
    },
    {
     "name": "stdout",
     "output_type": "stream",
     "text": [
      "Conteo de cada valor en ¿Cuánto tiempo al día usas el móvil/tableta/ordenador/TV? expresada como valor / cantidad\n"
     ]
    },
    {
     "data": {
      "text/plain": [
       "1. Nada                   1\n",
       "2. Menos de una hora      6\n",
       "3. 1-2 horas             82\n",
       "4. 2-4 horas            166\n",
       "5. 4-6 horas            196\n",
       "6. Más de 6 horas       316\n",
       "Name: ¿Cuánto tiempo al día usas el móvil/tableta/ordenador/TV?, dtype: int64"
      ]
     },
     "metadata": {},
     "output_type": "display_data"
    },
    {
     "name": "stdout",
     "output_type": "stream",
     "text": [
      "Porcentaje de cada valor en ¿Cuánto tiempo al día usas el móvil/tableta/ordenador/TV? expresado como valor / porcentaje\n"
     ]
    },
    {
     "data": {
      "text/plain": [
       "1. Nada                  0.13\n",
       "2. Menos de una hora     0.78\n",
       "3. 1-2 horas            10.69\n",
       "4. 2-4 horas            21.64\n",
       "5. 4-6 horas            25.55\n",
       "6. Más de 6 horas       41.20\n",
       "Name: ¿Cuánto tiempo al día usas el móvil/tableta/ordenador/TV?, dtype: float64"
      ]
     },
     "metadata": {},
     "output_type": "display_data"
    },
    {
     "data": {
      "application/vnd.plotly.v1+json": {
       "config": {
        "linkText": "Export to plot.ly",
        "plotlyServerURL": "https://plot.ly",
        "showLink": false
       },
       "data": [
        {
         "marker": {
          "color": [
           "rgb(213,62,79)",
           "rgb(252,141,89)",
           "rgb(254,224,139)",
           "rgb(230,245,152)",
           "rgb(153,213,148)",
           "rgb(50,136,189)"
          ]
         },
         "type": "bar",
         "uid": "978e280d-338b-40e5-92aa-75a930be358f",
         "x": [
          "1. Nada",
          "2. Menos de una hora",
          "3. 1-2 horas",
          "4. 2-4 horas",
          "5. 4-6 horas",
          "6. Más de 6 horas"
         ],
         "y": [
          1,
          6,
          82,
          166,
          196,
          316
         ]
        }
       ],
       "layout": {}
      },
      "text/html": [
       "<div id=\"9a08444a-6fe0-4b01-8733-06bd81ed04e9\" style=\"height: 525px; width: 100%;\" class=\"plotly-graph-div\"></div><script type=\"text/javascript\">require([\"plotly\"], function(Plotly) { window.PLOTLYENV=window.PLOTLYENV || {};window.PLOTLYENV.BASE_URL=\"https://plot.ly\";\n",
       "if (document.getElementById(\"9a08444a-6fe0-4b01-8733-06bd81ed04e9\")) {\n",
       "    Plotly.newPlot(\"9a08444a-6fe0-4b01-8733-06bd81ed04e9\", [{\"marker\": {\"color\": [\"rgb(213,62,79)\", \"rgb(252,141,89)\", \"rgb(254,224,139)\", \"rgb(230,245,152)\", \"rgb(153,213,148)\", \"rgb(50,136,189)\"]}, \"x\": [\"1. Nada\", \"2. Menos de una hora\", \"3. 1-2 horas\", \"4. 2-4 horas\", \"5. 4-6 horas\", \"6. M\\u00e1s de 6 horas\"], \"y\": [1, 6, 82, 166, 196, 316], \"type\": \"bar\", \"uid\": \"53d3e167-0bb0-4a05-a4df-5607e83c40a2\"}], {}, {\"showLink\": false, \"linkText\": \"Export to plot.ly\", \"plotlyServerURL\": \"https://plot.ly\"}); \n",
       "}\n",
       "});</script><script type=\"text/javascript\">window.addEventListener(\"resize\", function(){if (document.getElementById(\"9a08444a-6fe0-4b01-8733-06bd81ed04e9\")) {window._Plotly.Plots.resize(document.getElementById(\"9a08444a-6fe0-4b01-8733-06bd81ed04e9\"));};})</script>"
      ],
      "text/vnd.plotly.v1+html": [
       "<div id=\"9a08444a-6fe0-4b01-8733-06bd81ed04e9\" style=\"height: 525px; width: 100%;\" class=\"plotly-graph-div\"></div><script type=\"text/javascript\">require([\"plotly\"], function(Plotly) { window.PLOTLYENV=window.PLOTLYENV || {};window.PLOTLYENV.BASE_URL=\"https://plot.ly\";\n",
       "if (document.getElementById(\"9a08444a-6fe0-4b01-8733-06bd81ed04e9\")) {\n",
       "    Plotly.newPlot(\"9a08444a-6fe0-4b01-8733-06bd81ed04e9\", [{\"marker\": {\"color\": [\"rgb(213,62,79)\", \"rgb(252,141,89)\", \"rgb(254,224,139)\", \"rgb(230,245,152)\", \"rgb(153,213,148)\", \"rgb(50,136,189)\"]}, \"x\": [\"1. Nada\", \"2. Menos de una hora\", \"3. 1-2 horas\", \"4. 2-4 horas\", \"5. 4-6 horas\", \"6. M\\u00e1s de 6 horas\"], \"y\": [1, 6, 82, 166, 196, 316], \"type\": \"bar\", \"uid\": \"53d3e167-0bb0-4a05-a4df-5607e83c40a2\"}], {}, {\"showLink\": false, \"linkText\": \"Export to plot.ly\", \"plotlyServerURL\": \"https://plot.ly\"}); \n",
       "}\n",
       "});</script><script type=\"text/javascript\">window.addEventListener(\"resize\", function(){if (document.getElementById(\"9a08444a-6fe0-4b01-8733-06bd81ed04e9\")) {window._Plotly.Plots.resize(document.getElementById(\"9a08444a-6fe0-4b01-8733-06bd81ed04e9\"));};})</script>"
      ]
     },
     "metadata": {},
     "output_type": "display_data"
    },
    {
     "name": "stdout",
     "output_type": "stream",
     "text": [
      "Describiendo la pregunta ¿Qué tipo de aplicaciones utilizas en tu ordenador/tableta/móvil? (Respuesta múltiple) [1. Apps de contenidos audiovisuales (Netflix, HBO, etc.)]\n"
     ]
    },
    {
     "data": {
      "text/plain": [
       "count     767\n",
       "unique      2\n",
       "top        Sí\n",
       "freq      427\n",
       "Name: ¿Qué tipo de aplicaciones utilizas en tu ordenador/tableta/móvil? (Respuesta múltiple) [1. Apps de contenidos audiovisuales (Netflix, HBO, etc.)], dtype: object"
      ]
     },
     "metadata": {},
     "output_type": "display_data"
    },
    {
     "name": "stdout",
     "output_type": "stream",
     "text": [
      "Conteo de cada valor en ¿Qué tipo de aplicaciones utilizas en tu ordenador/tableta/móvil? (Respuesta múltiple) [1. Apps de contenidos audiovisuales (Netflix, HBO, etc.)] expresada como valor / cantidad\n"
     ]
    },
    {
     "data": {
      "text/plain": [
       "No    340\n",
       "Sí    427\n",
       "Name: ¿Qué tipo de aplicaciones utilizas en tu ordenador/tableta/móvil? (Respuesta múltiple) [1. Apps de contenidos audiovisuales (Netflix, HBO, etc.)], dtype: int64"
      ]
     },
     "metadata": {},
     "output_type": "display_data"
    },
    {
     "name": "stdout",
     "output_type": "stream",
     "text": [
      "Porcentaje de cada valor en ¿Qué tipo de aplicaciones utilizas en tu ordenador/tableta/móvil? (Respuesta múltiple) [1. Apps de contenidos audiovisuales (Netflix, HBO, etc.)] expresado como valor / porcentaje\n"
     ]
    },
    {
     "data": {
      "text/plain": [
       "No    44.33\n",
       "Sí    55.67\n",
       "Name: ¿Qué tipo de aplicaciones utilizas en tu ordenador/tableta/móvil? (Respuesta múltiple) [1. Apps de contenidos audiovisuales (Netflix, HBO, etc.)], dtype: float64"
      ]
     },
     "metadata": {},
     "output_type": "display_data"
    },
    {
     "data": {
      "application/vnd.plotly.v1+json": {
       "config": {
        "linkText": "Export to plot.ly",
        "plotlyServerURL": "https://plot.ly",
        "showLink": false
       },
       "data": [
        {
         "marker": {
          "color": [
           "rgb(213,62,79)",
           "rgb(252,141,89)",
           "rgb(254,224,139)",
           "rgb(230,245,152)",
           "rgb(153,213,148)",
           "rgb(50,136,189)"
          ]
         },
         "type": "bar",
         "uid": "1a09def5-1fc9-4bd4-9a9d-7b386c0bfc86",
         "x": [
          "No",
          "Sí"
         ],
         "y": [
          340,
          427
         ]
        }
       ],
       "layout": {}
      },
      "text/html": [
       "<div id=\"f421bf83-5411-4921-b566-7acf95cfce00\" style=\"height: 525px; width: 100%;\" class=\"plotly-graph-div\"></div><script type=\"text/javascript\">require([\"plotly\"], function(Plotly) { window.PLOTLYENV=window.PLOTLYENV || {};window.PLOTLYENV.BASE_URL=\"https://plot.ly\";\n",
       "if (document.getElementById(\"f421bf83-5411-4921-b566-7acf95cfce00\")) {\n",
       "    Plotly.newPlot(\"f421bf83-5411-4921-b566-7acf95cfce00\", [{\"marker\": {\"color\": [\"rgb(213,62,79)\", \"rgb(252,141,89)\", \"rgb(254,224,139)\", \"rgb(230,245,152)\", \"rgb(153,213,148)\", \"rgb(50,136,189)\"]}, \"x\": [\"No\", \"S\\u00ed\"], \"y\": [340, 427], \"type\": \"bar\", \"uid\": \"84d1c8d4-2827-4c82-942c-7c699047b866\"}], {}, {\"showLink\": false, \"linkText\": \"Export to plot.ly\", \"plotlyServerURL\": \"https://plot.ly\"}); \n",
       "}\n",
       "});</script><script type=\"text/javascript\">window.addEventListener(\"resize\", function(){if (document.getElementById(\"f421bf83-5411-4921-b566-7acf95cfce00\")) {window._Plotly.Plots.resize(document.getElementById(\"f421bf83-5411-4921-b566-7acf95cfce00\"));};})</script>"
      ],
      "text/vnd.plotly.v1+html": [
       "<div id=\"f421bf83-5411-4921-b566-7acf95cfce00\" style=\"height: 525px; width: 100%;\" class=\"plotly-graph-div\"></div><script type=\"text/javascript\">require([\"plotly\"], function(Plotly) { window.PLOTLYENV=window.PLOTLYENV || {};window.PLOTLYENV.BASE_URL=\"https://plot.ly\";\n",
       "if (document.getElementById(\"f421bf83-5411-4921-b566-7acf95cfce00\")) {\n",
       "    Plotly.newPlot(\"f421bf83-5411-4921-b566-7acf95cfce00\", [{\"marker\": {\"color\": [\"rgb(213,62,79)\", \"rgb(252,141,89)\", \"rgb(254,224,139)\", \"rgb(230,245,152)\", \"rgb(153,213,148)\", \"rgb(50,136,189)\"]}, \"x\": [\"No\", \"S\\u00ed\"], \"y\": [340, 427], \"type\": \"bar\", \"uid\": \"84d1c8d4-2827-4c82-942c-7c699047b866\"}], {}, {\"showLink\": false, \"linkText\": \"Export to plot.ly\", \"plotlyServerURL\": \"https://plot.ly\"}); \n",
       "}\n",
       "});</script><script type=\"text/javascript\">window.addEventListener(\"resize\", function(){if (document.getElementById(\"f421bf83-5411-4921-b566-7acf95cfce00\")) {window._Plotly.Plots.resize(document.getElementById(\"f421bf83-5411-4921-b566-7acf95cfce00\"));};})</script>"
      ]
     },
     "metadata": {},
     "output_type": "display_data"
    },
    {
     "name": "stdout",
     "output_type": "stream",
     "text": [
      "Describiendo la pregunta ¿Qué tipo de aplicaciones utilizas en tu ordenador/tableta/móvil? (Respuesta múltiple) [2. Aplicaciones de mensajería (Whatsapp, Facebook Messenger, etc.)]\n"
     ]
    },
    {
     "data": {
      "text/plain": [
       "count     767\n",
       "unique      2\n",
       "top        Sí\n",
       "freq      606\n",
       "Name: ¿Qué tipo de aplicaciones utilizas en tu ordenador/tableta/móvil? (Respuesta múltiple) [2. Aplicaciones de mensajería (Whatsapp, Facebook Messenger, etc.)], dtype: object"
      ]
     },
     "metadata": {},
     "output_type": "display_data"
    },
    {
     "name": "stdout",
     "output_type": "stream",
     "text": [
      "Conteo de cada valor en ¿Qué tipo de aplicaciones utilizas en tu ordenador/tableta/móvil? (Respuesta múltiple) [2. Aplicaciones de mensajería (Whatsapp, Facebook Messenger, etc.)] expresada como valor / cantidad\n"
     ]
    },
    {
     "data": {
      "text/plain": [
       "No    161\n",
       "Sí    606\n",
       "Name: ¿Qué tipo de aplicaciones utilizas en tu ordenador/tableta/móvil? (Respuesta múltiple) [2. Aplicaciones de mensajería (Whatsapp, Facebook Messenger, etc.)], dtype: int64"
      ]
     },
     "metadata": {},
     "output_type": "display_data"
    },
    {
     "name": "stdout",
     "output_type": "stream",
     "text": [
      "Porcentaje de cada valor en ¿Qué tipo de aplicaciones utilizas en tu ordenador/tableta/móvil? (Respuesta múltiple) [2. Aplicaciones de mensajería (Whatsapp, Facebook Messenger, etc.)] expresado como valor / porcentaje\n"
     ]
    },
    {
     "data": {
      "text/plain": [
       "No    20.99\n",
       "Sí    79.01\n",
       "Name: ¿Qué tipo de aplicaciones utilizas en tu ordenador/tableta/móvil? (Respuesta múltiple) [2. Aplicaciones de mensajería (Whatsapp, Facebook Messenger, etc.)], dtype: float64"
      ]
     },
     "metadata": {},
     "output_type": "display_data"
    },
    {
     "data": {
      "application/vnd.plotly.v1+json": {
       "config": {
        "linkText": "Export to plot.ly",
        "plotlyServerURL": "https://plot.ly",
        "showLink": false
       },
       "data": [
        {
         "marker": {
          "color": [
           "rgb(213,62,79)",
           "rgb(252,141,89)",
           "rgb(254,224,139)",
           "rgb(230,245,152)",
           "rgb(153,213,148)",
           "rgb(50,136,189)"
          ]
         },
         "type": "bar",
         "uid": "9edaa4c9-6a96-4519-9a20-509a7bd86d13",
         "x": [
          "No",
          "Sí"
         ],
         "y": [
          161,
          606
         ]
        }
       ],
       "layout": {}
      },
      "text/html": [
       "<div id=\"d1a99f34-44c0-41be-86c2-fa640e530a70\" style=\"height: 525px; width: 100%;\" class=\"plotly-graph-div\"></div><script type=\"text/javascript\">require([\"plotly\"], function(Plotly) { window.PLOTLYENV=window.PLOTLYENV || {};window.PLOTLYENV.BASE_URL=\"https://plot.ly\";\n",
       "if (document.getElementById(\"d1a99f34-44c0-41be-86c2-fa640e530a70\")) {\n",
       "    Plotly.newPlot(\"d1a99f34-44c0-41be-86c2-fa640e530a70\", [{\"marker\": {\"color\": [\"rgb(213,62,79)\", \"rgb(252,141,89)\", \"rgb(254,224,139)\", \"rgb(230,245,152)\", \"rgb(153,213,148)\", \"rgb(50,136,189)\"]}, \"x\": [\"No\", \"S\\u00ed\"], \"y\": [161, 606], \"type\": \"bar\", \"uid\": \"d5c4325a-31f6-47ac-8eaa-d5a7852245f1\"}], {}, {\"showLink\": false, \"linkText\": \"Export to plot.ly\", \"plotlyServerURL\": \"https://plot.ly\"}); \n",
       "}\n",
       "});</script><script type=\"text/javascript\">window.addEventListener(\"resize\", function(){if (document.getElementById(\"d1a99f34-44c0-41be-86c2-fa640e530a70\")) {window._Plotly.Plots.resize(document.getElementById(\"d1a99f34-44c0-41be-86c2-fa640e530a70\"));};})</script>"
      ],
      "text/vnd.plotly.v1+html": [
       "<div id=\"d1a99f34-44c0-41be-86c2-fa640e530a70\" style=\"height: 525px; width: 100%;\" class=\"plotly-graph-div\"></div><script type=\"text/javascript\">require([\"plotly\"], function(Plotly) { window.PLOTLYENV=window.PLOTLYENV || {};window.PLOTLYENV.BASE_URL=\"https://plot.ly\";\n",
       "if (document.getElementById(\"d1a99f34-44c0-41be-86c2-fa640e530a70\")) {\n",
       "    Plotly.newPlot(\"d1a99f34-44c0-41be-86c2-fa640e530a70\", [{\"marker\": {\"color\": [\"rgb(213,62,79)\", \"rgb(252,141,89)\", \"rgb(254,224,139)\", \"rgb(230,245,152)\", \"rgb(153,213,148)\", \"rgb(50,136,189)\"]}, \"x\": [\"No\", \"S\\u00ed\"], \"y\": [161, 606], \"type\": \"bar\", \"uid\": \"d5c4325a-31f6-47ac-8eaa-d5a7852245f1\"}], {}, {\"showLink\": false, \"linkText\": \"Export to plot.ly\", \"plotlyServerURL\": \"https://plot.ly\"}); \n",
       "}\n",
       "});</script><script type=\"text/javascript\">window.addEventListener(\"resize\", function(){if (document.getElementById(\"d1a99f34-44c0-41be-86c2-fa640e530a70\")) {window._Plotly.Plots.resize(document.getElementById(\"d1a99f34-44c0-41be-86c2-fa640e530a70\"));};})</script>"
      ]
     },
     "metadata": {},
     "output_type": "display_data"
    },
    {
     "name": "stdout",
     "output_type": "stream",
     "text": [
      "Describiendo la pregunta ¿Qué tipo de aplicaciones utilizas en tu ordenador/tableta/móvil? (Respuesta múltiple) [3. Bibliotecas de fotos online (Google Photos, iPhoto, etc.)]\n"
     ]
    },
    {
     "data": {
      "text/plain": [
       "count     767\n",
       "unique      2\n",
       "top        No\n",
       "freq      386\n",
       "Name: ¿Qué tipo de aplicaciones utilizas en tu ordenador/tableta/móvil? (Respuesta múltiple) [3. Bibliotecas de fotos online (Google Photos, iPhoto, etc.)], dtype: object"
      ]
     },
     "metadata": {},
     "output_type": "display_data"
    },
    {
     "name": "stdout",
     "output_type": "stream",
     "text": [
      "Conteo de cada valor en ¿Qué tipo de aplicaciones utilizas en tu ordenador/tableta/móvil? (Respuesta múltiple) [3. Bibliotecas de fotos online (Google Photos, iPhoto, etc.)] expresada como valor / cantidad\n"
     ]
    },
    {
     "data": {
      "text/plain": [
       "No    386\n",
       "Sí    381\n",
       "Name: ¿Qué tipo de aplicaciones utilizas en tu ordenador/tableta/móvil? (Respuesta múltiple) [3. Bibliotecas de fotos online (Google Photos, iPhoto, etc.)], dtype: int64"
      ]
     },
     "metadata": {},
     "output_type": "display_data"
    },
    {
     "name": "stdout",
     "output_type": "stream",
     "text": [
      "Porcentaje de cada valor en ¿Qué tipo de aplicaciones utilizas en tu ordenador/tableta/móvil? (Respuesta múltiple) [3. Bibliotecas de fotos online (Google Photos, iPhoto, etc.)] expresado como valor / porcentaje\n"
     ]
    },
    {
     "data": {
      "text/plain": [
       "No    50.33\n",
       "Sí    49.67\n",
       "Name: ¿Qué tipo de aplicaciones utilizas en tu ordenador/tableta/móvil? (Respuesta múltiple) [3. Bibliotecas de fotos online (Google Photos, iPhoto, etc.)], dtype: float64"
      ]
     },
     "metadata": {},
     "output_type": "display_data"
    },
    {
     "data": {
      "application/vnd.plotly.v1+json": {
       "config": {
        "linkText": "Export to plot.ly",
        "plotlyServerURL": "https://plot.ly",
        "showLink": false
       },
       "data": [
        {
         "marker": {
          "color": [
           "rgb(213,62,79)",
           "rgb(252,141,89)",
           "rgb(254,224,139)",
           "rgb(230,245,152)",
           "rgb(153,213,148)",
           "rgb(50,136,189)"
          ]
         },
         "type": "bar",
         "uid": "783f171f-d441-4bc2-aa57-a16f2183ce9b",
         "x": [
          "No",
          "Sí"
         ],
         "y": [
          386,
          381
         ]
        }
       ],
       "layout": {}
      },
      "text/html": [
       "<div id=\"9197183e-607c-42bf-a5a0-3aafdd8274fd\" style=\"height: 525px; width: 100%;\" class=\"plotly-graph-div\"></div><script type=\"text/javascript\">require([\"plotly\"], function(Plotly) { window.PLOTLYENV=window.PLOTLYENV || {};window.PLOTLYENV.BASE_URL=\"https://plot.ly\";\n",
       "if (document.getElementById(\"9197183e-607c-42bf-a5a0-3aafdd8274fd\")) {\n",
       "    Plotly.newPlot(\"9197183e-607c-42bf-a5a0-3aafdd8274fd\", [{\"marker\": {\"color\": [\"rgb(213,62,79)\", \"rgb(252,141,89)\", \"rgb(254,224,139)\", \"rgb(230,245,152)\", \"rgb(153,213,148)\", \"rgb(50,136,189)\"]}, \"x\": [\"No\", \"S\\u00ed\"], \"y\": [386, 381], \"type\": \"bar\", \"uid\": \"c26f14fd-9d05-47b7-a401-3bd904082ddd\"}], {}, {\"showLink\": false, \"linkText\": \"Export to plot.ly\", \"plotlyServerURL\": \"https://plot.ly\"}); \n",
       "}\n",
       "});</script><script type=\"text/javascript\">window.addEventListener(\"resize\", function(){if (document.getElementById(\"9197183e-607c-42bf-a5a0-3aafdd8274fd\")) {window._Plotly.Plots.resize(document.getElementById(\"9197183e-607c-42bf-a5a0-3aafdd8274fd\"));};})</script>"
      ],
      "text/vnd.plotly.v1+html": [
       "<div id=\"9197183e-607c-42bf-a5a0-3aafdd8274fd\" style=\"height: 525px; width: 100%;\" class=\"plotly-graph-div\"></div><script type=\"text/javascript\">require([\"plotly\"], function(Plotly) { window.PLOTLYENV=window.PLOTLYENV || {};window.PLOTLYENV.BASE_URL=\"https://plot.ly\";\n",
       "if (document.getElementById(\"9197183e-607c-42bf-a5a0-3aafdd8274fd\")) {\n",
       "    Plotly.newPlot(\"9197183e-607c-42bf-a5a0-3aafdd8274fd\", [{\"marker\": {\"color\": [\"rgb(213,62,79)\", \"rgb(252,141,89)\", \"rgb(254,224,139)\", \"rgb(230,245,152)\", \"rgb(153,213,148)\", \"rgb(50,136,189)\"]}, \"x\": [\"No\", \"S\\u00ed\"], \"y\": [386, 381], \"type\": \"bar\", \"uid\": \"c26f14fd-9d05-47b7-a401-3bd904082ddd\"}], {}, {\"showLink\": false, \"linkText\": \"Export to plot.ly\", \"plotlyServerURL\": \"https://plot.ly\"}); \n",
       "}\n",
       "});</script><script type=\"text/javascript\">window.addEventListener(\"resize\", function(){if (document.getElementById(\"9197183e-607c-42bf-a5a0-3aafdd8274fd\")) {window._Plotly.Plots.resize(document.getElementById(\"9197183e-607c-42bf-a5a0-3aafdd8274fd\"));};})</script>"
      ]
     },
     "metadata": {},
     "output_type": "display_data"
    },
    {
     "name": "stdout",
     "output_type": "stream",
     "text": [
      "Describiendo la pregunta ¿Qué tipo de aplicaciones utilizas en tu ordenador/tableta/móvil? (Respuesta múltiple) [4. Redes sociales (Facebook, Instagram, Twitter, etc.).]\n"
     ]
    },
    {
     "data": {
      "text/plain": [
       "count     767\n",
       "unique      2\n",
       "top        Sí\n",
       "freq      621\n",
       "Name: ¿Qué tipo de aplicaciones utilizas en tu ordenador/tableta/móvil? (Respuesta múltiple) [4. Redes sociales (Facebook, Instagram, Twitter, etc.).], dtype: object"
      ]
     },
     "metadata": {},
     "output_type": "display_data"
    },
    {
     "name": "stdout",
     "output_type": "stream",
     "text": [
      "Conteo de cada valor en ¿Qué tipo de aplicaciones utilizas en tu ordenador/tableta/móvil? (Respuesta múltiple) [4. Redes sociales (Facebook, Instagram, Twitter, etc.).] expresada como valor / cantidad\n"
     ]
    },
    {
     "data": {
      "text/plain": [
       "No    146\n",
       "Sí    621\n",
       "Name: ¿Qué tipo de aplicaciones utilizas en tu ordenador/tableta/móvil? (Respuesta múltiple) [4. Redes sociales (Facebook, Instagram, Twitter, etc.).], dtype: int64"
      ]
     },
     "metadata": {},
     "output_type": "display_data"
    },
    {
     "name": "stdout",
     "output_type": "stream",
     "text": [
      "Porcentaje de cada valor en ¿Qué tipo de aplicaciones utilizas en tu ordenador/tableta/móvil? (Respuesta múltiple) [4. Redes sociales (Facebook, Instagram, Twitter, etc.).] expresado como valor / porcentaje\n"
     ]
    },
    {
     "data": {
      "text/plain": [
       "No    19.04\n",
       "Sí    80.96\n",
       "Name: ¿Qué tipo de aplicaciones utilizas en tu ordenador/tableta/móvil? (Respuesta múltiple) [4. Redes sociales (Facebook, Instagram, Twitter, etc.).], dtype: float64"
      ]
     },
     "metadata": {},
     "output_type": "display_data"
    },
    {
     "data": {
      "application/vnd.plotly.v1+json": {
       "config": {
        "linkText": "Export to plot.ly",
        "plotlyServerURL": "https://plot.ly",
        "showLink": false
       },
       "data": [
        {
         "marker": {
          "color": [
           "rgb(213,62,79)",
           "rgb(252,141,89)",
           "rgb(254,224,139)",
           "rgb(230,245,152)",
           "rgb(153,213,148)",
           "rgb(50,136,189)"
          ]
         },
         "type": "bar",
         "uid": "db00f228-b1be-4542-8dd8-cc2fe9830c45",
         "x": [
          "No",
          "Sí"
         ],
         "y": [
          146,
          621
         ]
        }
       ],
       "layout": {}
      },
      "text/html": [
       "<div id=\"317899c2-e7ea-42a7-b701-501466a389d0\" style=\"height: 525px; width: 100%;\" class=\"plotly-graph-div\"></div><script type=\"text/javascript\">require([\"plotly\"], function(Plotly) { window.PLOTLYENV=window.PLOTLYENV || {};window.PLOTLYENV.BASE_URL=\"https://plot.ly\";\n",
       "if (document.getElementById(\"317899c2-e7ea-42a7-b701-501466a389d0\")) {\n",
       "    Plotly.newPlot(\"317899c2-e7ea-42a7-b701-501466a389d0\", [{\"marker\": {\"color\": [\"rgb(213,62,79)\", \"rgb(252,141,89)\", \"rgb(254,224,139)\", \"rgb(230,245,152)\", \"rgb(153,213,148)\", \"rgb(50,136,189)\"]}, \"x\": [\"No\", \"S\\u00ed\"], \"y\": [146, 621], \"type\": \"bar\", \"uid\": \"c676675c-fa51-4ddf-9660-36c320a5eb20\"}], {}, {\"showLink\": false, \"linkText\": \"Export to plot.ly\", \"plotlyServerURL\": \"https://plot.ly\"}); \n",
       "}\n",
       "});</script><script type=\"text/javascript\">window.addEventListener(\"resize\", function(){if (document.getElementById(\"317899c2-e7ea-42a7-b701-501466a389d0\")) {window._Plotly.Plots.resize(document.getElementById(\"317899c2-e7ea-42a7-b701-501466a389d0\"));};})</script>"
      ],
      "text/vnd.plotly.v1+html": [
       "<div id=\"317899c2-e7ea-42a7-b701-501466a389d0\" style=\"height: 525px; width: 100%;\" class=\"plotly-graph-div\"></div><script type=\"text/javascript\">require([\"plotly\"], function(Plotly) { window.PLOTLYENV=window.PLOTLYENV || {};window.PLOTLYENV.BASE_URL=\"https://plot.ly\";\n",
       "if (document.getElementById(\"317899c2-e7ea-42a7-b701-501466a389d0\")) {\n",
       "    Plotly.newPlot(\"317899c2-e7ea-42a7-b701-501466a389d0\", [{\"marker\": {\"color\": [\"rgb(213,62,79)\", \"rgb(252,141,89)\", \"rgb(254,224,139)\", \"rgb(230,245,152)\", \"rgb(153,213,148)\", \"rgb(50,136,189)\"]}, \"x\": [\"No\", \"S\\u00ed\"], \"y\": [146, 621], \"type\": \"bar\", \"uid\": \"c676675c-fa51-4ddf-9660-36c320a5eb20\"}], {}, {\"showLink\": false, \"linkText\": \"Export to plot.ly\", \"plotlyServerURL\": \"https://plot.ly\"}); \n",
       "}\n",
       "});</script><script type=\"text/javascript\">window.addEventListener(\"resize\", function(){if (document.getElementById(\"317899c2-e7ea-42a7-b701-501466a389d0\")) {window._Plotly.Plots.resize(document.getElementById(\"317899c2-e7ea-42a7-b701-501466a389d0\"));};})</script>"
      ]
     },
     "metadata": {},
     "output_type": "display_data"
    },
    {
     "name": "stdout",
     "output_type": "stream",
     "text": [
      "Describiendo la pregunta ¿Qué tipo de aplicaciones utilizas en tu ordenador/tableta/móvil? (Respuesta múltiple) [5. Aplicaciones de vídeo (Youtube, Vimeo, etc.).]\n"
     ]
    },
    {
     "data": {
      "text/plain": [
       "count     767\n",
       "unique      2\n",
       "top        Sí\n",
       "freq      554\n",
       "Name: ¿Qué tipo de aplicaciones utilizas en tu ordenador/tableta/móvil? (Respuesta múltiple) [5. Aplicaciones de vídeo (Youtube, Vimeo, etc.).], dtype: object"
      ]
     },
     "metadata": {},
     "output_type": "display_data"
    },
    {
     "name": "stdout",
     "output_type": "stream",
     "text": [
      "Conteo de cada valor en ¿Qué tipo de aplicaciones utilizas en tu ordenador/tableta/móvil? (Respuesta múltiple) [5. Aplicaciones de vídeo (Youtube, Vimeo, etc.).] expresada como valor / cantidad\n"
     ]
    },
    {
     "data": {
      "text/plain": [
       "No    213\n",
       "Sí    554\n",
       "Name: ¿Qué tipo de aplicaciones utilizas en tu ordenador/tableta/móvil? (Respuesta múltiple) [5. Aplicaciones de vídeo (Youtube, Vimeo, etc.).], dtype: int64"
      ]
     },
     "metadata": {},
     "output_type": "display_data"
    },
    {
     "name": "stdout",
     "output_type": "stream",
     "text": [
      "Porcentaje de cada valor en ¿Qué tipo de aplicaciones utilizas en tu ordenador/tableta/móvil? (Respuesta múltiple) [5. Aplicaciones de vídeo (Youtube, Vimeo, etc.).] expresado como valor / porcentaje\n"
     ]
    },
    {
     "data": {
      "text/plain": [
       "No    27.77\n",
       "Sí    72.23\n",
       "Name: ¿Qué tipo de aplicaciones utilizas en tu ordenador/tableta/móvil? (Respuesta múltiple) [5. Aplicaciones de vídeo (Youtube, Vimeo, etc.).], dtype: float64"
      ]
     },
     "metadata": {},
     "output_type": "display_data"
    },
    {
     "data": {
      "application/vnd.plotly.v1+json": {
       "config": {
        "linkText": "Export to plot.ly",
        "plotlyServerURL": "https://plot.ly",
        "showLink": false
       },
       "data": [
        {
         "marker": {
          "color": [
           "rgb(213,62,79)",
           "rgb(252,141,89)",
           "rgb(254,224,139)",
           "rgb(230,245,152)",
           "rgb(153,213,148)",
           "rgb(50,136,189)"
          ]
         },
         "type": "bar",
         "uid": "f506e7e6-b29f-4758-a7a9-105aa897847b",
         "x": [
          "No",
          "Sí"
         ],
         "y": [
          213,
          554
         ]
        }
       ],
       "layout": {}
      },
      "text/html": [
       "<div id=\"780e1a7e-9b37-4b11-981f-4c6e0dbe5a78\" style=\"height: 525px; width: 100%;\" class=\"plotly-graph-div\"></div><script type=\"text/javascript\">require([\"plotly\"], function(Plotly) { window.PLOTLYENV=window.PLOTLYENV || {};window.PLOTLYENV.BASE_URL=\"https://plot.ly\";\n",
       "if (document.getElementById(\"780e1a7e-9b37-4b11-981f-4c6e0dbe5a78\")) {\n",
       "    Plotly.newPlot(\"780e1a7e-9b37-4b11-981f-4c6e0dbe5a78\", [{\"marker\": {\"color\": [\"rgb(213,62,79)\", \"rgb(252,141,89)\", \"rgb(254,224,139)\", \"rgb(230,245,152)\", \"rgb(153,213,148)\", \"rgb(50,136,189)\"]}, \"x\": [\"No\", \"S\\u00ed\"], \"y\": [213, 554], \"type\": \"bar\", \"uid\": \"33a6c7e1-ea90-491d-b73f-bcef62521c02\"}], {}, {\"showLink\": false, \"linkText\": \"Export to plot.ly\", \"plotlyServerURL\": \"https://plot.ly\"}); \n",
       "}\n",
       "});</script><script type=\"text/javascript\">window.addEventListener(\"resize\", function(){if (document.getElementById(\"780e1a7e-9b37-4b11-981f-4c6e0dbe5a78\")) {window._Plotly.Plots.resize(document.getElementById(\"780e1a7e-9b37-4b11-981f-4c6e0dbe5a78\"));};})</script>"
      ],
      "text/vnd.plotly.v1+html": [
       "<div id=\"780e1a7e-9b37-4b11-981f-4c6e0dbe5a78\" style=\"height: 525px; width: 100%;\" class=\"plotly-graph-div\"></div><script type=\"text/javascript\">require([\"plotly\"], function(Plotly) { window.PLOTLYENV=window.PLOTLYENV || {};window.PLOTLYENV.BASE_URL=\"https://plot.ly\";\n",
       "if (document.getElementById(\"780e1a7e-9b37-4b11-981f-4c6e0dbe5a78\")) {\n",
       "    Plotly.newPlot(\"780e1a7e-9b37-4b11-981f-4c6e0dbe5a78\", [{\"marker\": {\"color\": [\"rgb(213,62,79)\", \"rgb(252,141,89)\", \"rgb(254,224,139)\", \"rgb(230,245,152)\", \"rgb(153,213,148)\", \"rgb(50,136,189)\"]}, \"x\": [\"No\", \"S\\u00ed\"], \"y\": [213, 554], \"type\": \"bar\", \"uid\": \"33a6c7e1-ea90-491d-b73f-bcef62521c02\"}], {}, {\"showLink\": false, \"linkText\": \"Export to plot.ly\", \"plotlyServerURL\": \"https://plot.ly\"}); \n",
       "}\n",
       "});</script><script type=\"text/javascript\">window.addEventListener(\"resize\", function(){if (document.getElementById(\"780e1a7e-9b37-4b11-981f-4c6e0dbe5a78\")) {window._Plotly.Plots.resize(document.getElementById(\"780e1a7e-9b37-4b11-981f-4c6e0dbe5a78\"));};})</script>"
      ]
     },
     "metadata": {},
     "output_type": "display_data"
    },
    {
     "name": "stdout",
     "output_type": "stream",
     "text": [
      "Describiendo la pregunta ¿Qué tipo de aplicaciones utilizas en tu ordenador/tableta/móvil? (Respuesta múltiple) [Otro]\n"
     ]
    },
    {
     "data": {
      "text/plain": [
       "count        80\n",
       "unique       62\n",
       "top       Games\n",
       "freq         10\n",
       "Name: ¿Qué tipo de aplicaciones utilizas en tu ordenador/tableta/móvil? (Respuesta múltiple) [Otro], dtype: object"
      ]
     },
     "metadata": {},
     "output_type": "display_data"
    },
    {
     "name": "stdout",
     "output_type": "stream",
     "text": [
      "Conteo de cada valor en ¿Qué tipo de aplicaciones utilizas en tu ordenador/tableta/móvil? (Respuesta múltiple) [Otro] expresada como valor / cantidad\n"
     ]
    },
    {
     "data": {
      "text/plain": [
       "Aplicaciones de creación, como photoshop o illustrator                                                            1\n",
       "Aplicaciones de trabajo como office y demás                                                                       1\n",
       "Apps de lectura                                                                                                   1\n",
       "Bases datos profesionales                                                                                         1\n",
       "Cad                                                                                                               1\n",
       "Correo electrónico                                                                                                1\n",
       "E-mail                                                                                                            1\n",
       "Editor de fotos                                                                                                   1\n",
       "Editores de codigo                                                                                                1\n",
       "Editores de texto                                                                                                 1\n",
       "Email                                                                                                             2\n",
       "Fortnite                                                                                                          1\n",
       "GAMES                                                                                                             1\n",
       "Games                                                                                                            10\n",
       "IDEs                                                                                                              1\n",
       "IDEs de desarrollo                                                                                                1\n",
       "J'utlise l'ordinateur pour recopier mes cours                                                                     1\n",
       "Juegos                                                                                                            3\n",
       "Libro electrónico                                                                                                 1\n",
       "News                                                                                                              1\n",
       "News websites, reading                                                                                            1\n",
       "Office                                                                                                            1\n",
       "Ofimática                                                                                                         1\n",
       "Online videogames                                                                                                 1\n",
       "Paginas de internet                                                                                               1\n",
       "Programas de edición de fotografías y vídeo                                                                       1\n",
       "Propias de mi trabajo                                                                                             1\n",
       "Reading media: news, books, magazines, etc.                                                                       1\n",
       "Surfing                                                                                                           1\n",
       "Trabajo                                                                                                           1\n",
       "                                                                                                                 ..\n",
       "Traitement de texte                                                                                               1\n",
       "Traitements de texte                                                                                              1\n",
       "Videojuegos                                                                                                       3\n",
       "Videojuegos, lectura, climatologia                                                                                1\n",
       "Web Browser, Kindle                                                                                               1\n",
       "Work apps                                                                                                         1\n",
       "Work/office software                                                                                              1\n",
       "app educativas                                                                                                    1\n",
       "carrot rewards                                                                                                    1\n",
       "email                                                                                                             1\n",
       "facebook,whatsapp,intagram, google, youtube.                                                                      1\n",
       "game                                                                                                              1\n",
       "games                                                                                                             2\n",
       "gestores bibliográficos                                                                                           1\n",
       "izap4u, radio en ligne                                                                                            1\n",
       "juegos                                                                                                            2\n",
       "juegos, entrenamiento                                                                                             1\n",
       "linkedin                                                                                                          1\n",
       "offline projects                                                                                                  1\n",
       "photoshop, premiere, after effects                                                                                1\n",
       "productivity software                                                                                             1\n",
       "redes y videos                                                                                                    1\n",
       "sales sites, and research sites                                                                                   1\n",
       "video games (mobile, P.C.)                                                                                        1\n",
       "website devouted to a specific subject (e.g. news, fansites, lifestyle ect.) Also, I use the web for research     1\n",
       "wordprocessing/email                                                                                              1\n",
       "work                                                                                                              3\n",
       "work related                                                                                                      1\n",
       "work related tools such as mls and research                                                                       1\n",
       "zazzle                                                                                                            1\n",
       "Name: ¿Qué tipo de aplicaciones utilizas en tu ordenador/tableta/móvil? (Respuesta múltiple) [Otro], Length: 62, dtype: int64"
      ]
     },
     "metadata": {},
     "output_type": "display_data"
    },
    {
     "name": "stdout",
     "output_type": "stream",
     "text": [
      "Porcentaje de cada valor en ¿Qué tipo de aplicaciones utilizas en tu ordenador/tableta/móvil? (Respuesta múltiple) [Otro] expresado como valor / porcentaje\n"
     ]
    },
    {
     "data": {
      "text/plain": [
       "Aplicaciones de creación, como photoshop o illustrator                                                            1.25\n",
       "Aplicaciones de trabajo como office y demás                                                                       1.25\n",
       "Apps de lectura                                                                                                   1.25\n",
       "Bases datos profesionales                                                                                         1.25\n",
       "Cad                                                                                                               1.25\n",
       "Correo electrónico                                                                                                1.25\n",
       "E-mail                                                                                                            1.25\n",
       "Editor de fotos                                                                                                   1.25\n",
       "Editores de codigo                                                                                                1.25\n",
       "Editores de texto                                                                                                 1.25\n",
       "Email                                                                                                             2.50\n",
       "Fortnite                                                                                                          1.25\n",
       "GAMES                                                                                                             1.25\n",
       "Games                                                                                                            12.50\n",
       "IDEs                                                                                                              1.25\n",
       "IDEs de desarrollo                                                                                                1.25\n",
       "J'utlise l'ordinateur pour recopier mes cours                                                                     1.25\n",
       "Juegos                                                                                                            3.75\n",
       "Libro electrónico                                                                                                 1.25\n",
       "News                                                                                                              1.25\n",
       "News websites, reading                                                                                            1.25\n",
       "Office                                                                                                            1.25\n",
       "Ofimática                                                                                                         1.25\n",
       "Online videogames                                                                                                 1.25\n",
       "Paginas de internet                                                                                               1.25\n",
       "Programas de edición de fotografías y vídeo                                                                       1.25\n",
       "Propias de mi trabajo                                                                                             1.25\n",
       "Reading media: news, books, magazines, etc.                                                                       1.25\n",
       "Surfing                                                                                                           1.25\n",
       "Trabajo                                                                                                           1.25\n",
       "                                                                                                                 ...  \n",
       "Traitement de texte                                                                                               1.25\n",
       "Traitements de texte                                                                                              1.25\n",
       "Videojuegos                                                                                                       3.75\n",
       "Videojuegos, lectura, climatologia                                                                                1.25\n",
       "Web Browser, Kindle                                                                                               1.25\n",
       "Work apps                                                                                                         1.25\n",
       "Work/office software                                                                                              1.25\n",
       "app educativas                                                                                                    1.25\n",
       "carrot rewards                                                                                                    1.25\n",
       "email                                                                                                             1.25\n",
       "facebook,whatsapp,intagram, google, youtube.                                                                      1.25\n",
       "game                                                                                                              1.25\n",
       "games                                                                                                             2.50\n",
       "gestores bibliográficos                                                                                           1.25\n",
       "izap4u, radio en ligne                                                                                            1.25\n",
       "juegos                                                                                                            2.50\n",
       "juegos, entrenamiento                                                                                             1.25\n",
       "linkedin                                                                                                          1.25\n",
       "offline projects                                                                                                  1.25\n",
       "photoshop, premiere, after effects                                                                                1.25\n",
       "productivity software                                                                                             1.25\n",
       "redes y videos                                                                                                    1.25\n",
       "sales sites, and research sites                                                                                   1.25\n",
       "video games (mobile, P.C.)                                                                                        1.25\n",
       "website devouted to a specific subject (e.g. news, fansites, lifestyle ect.) Also, I use the web for research     1.25\n",
       "wordprocessing/email                                                                                              1.25\n",
       "work                                                                                                              3.75\n",
       "work related                                                                                                      1.25\n",
       "work related tools such as mls and research                                                                       1.25\n",
       "zazzle                                                                                                            1.25\n",
       "Name: ¿Qué tipo de aplicaciones utilizas en tu ordenador/tableta/móvil? (Respuesta múltiple) [Otro], Length: 62, dtype: float64"
      ]
     },
     "metadata": {},
     "output_type": "display_data"
    },
    {
     "name": "stdout",
     "output_type": "stream",
     "text": [
      "Describiendo la pregunta Durante ese uso, ¿cuántas imágenes consumes (ves y compartes)?\n"
     ]
    },
    {
     "data": {
      "text/plain": [
       "count              767\n",
       "unique               5\n",
       "top       4. Bastantes\n",
       "freq               391\n",
       "Name: Durante ese uso, ¿cuántas imágenes consumes (ves y compartes)?, dtype: object"
      ]
     },
     "metadata": {},
     "output_type": "display_data"
    },
    {
     "name": "stdout",
     "output_type": "stream",
     "text": [
      "Conteo de cada valor en Durante ese uso, ¿cuántas imágenes consumes (ves y compartes)? expresada como valor / cantidad\n"
     ]
    },
    {
     "data": {
      "text/plain": [
       "1. Ninguna                                         8\n",
       "2. Pocas                                          62\n",
       "3. Ni muchas ni pocas                            135\n",
       "4. Bastantes                                     391\n",
       "5. Recibo y envio imágenes de forma constante    171\n",
       "Name: Durante ese uso, ¿cuántas imágenes consumes (ves y compartes)?, dtype: int64"
      ]
     },
     "metadata": {},
     "output_type": "display_data"
    },
    {
     "name": "stdout",
     "output_type": "stream",
     "text": [
      "Porcentaje de cada valor en Durante ese uso, ¿cuántas imágenes consumes (ves y compartes)? expresado como valor / porcentaje\n"
     ]
    },
    {
     "data": {
      "text/plain": [
       "1. Ninguna                                        1.04\n",
       "2. Pocas                                          8.08\n",
       "3. Ni muchas ni pocas                            17.60\n",
       "4. Bastantes                                     50.98\n",
       "5. Recibo y envio imágenes de forma constante    22.29\n",
       "Name: Durante ese uso, ¿cuántas imágenes consumes (ves y compartes)?, dtype: float64"
      ]
     },
     "metadata": {},
     "output_type": "display_data"
    },
    {
     "data": {
      "application/vnd.plotly.v1+json": {
       "config": {
        "linkText": "Export to plot.ly",
        "plotlyServerURL": "https://plot.ly",
        "showLink": false
       },
       "data": [
        {
         "marker": {
          "color": [
           "rgb(213,62,79)",
           "rgb(252,141,89)",
           "rgb(254,224,139)",
           "rgb(230,245,152)",
           "rgb(153,213,148)",
           "rgb(50,136,189)"
          ]
         },
         "type": "bar",
         "uid": "196043d0-462d-4103-b393-6219cdf48fc4",
         "x": [
          "1. Ninguna",
          "2. Pocas",
          "3. Ni muchas ni pocas",
          "4. Bastantes",
          "5. Recibo y envio imágenes de forma constante"
         ],
         "y": [
          8,
          62,
          135,
          391,
          171
         ]
        }
       ],
       "layout": {}
      },
      "text/html": [
       "<div id=\"236962af-1afe-47db-92c8-806f5736da81\" style=\"height: 525px; width: 100%;\" class=\"plotly-graph-div\"></div><script type=\"text/javascript\">require([\"plotly\"], function(Plotly) { window.PLOTLYENV=window.PLOTLYENV || {};window.PLOTLYENV.BASE_URL=\"https://plot.ly\";\n",
       "if (document.getElementById(\"236962af-1afe-47db-92c8-806f5736da81\")) {\n",
       "    Plotly.newPlot(\"236962af-1afe-47db-92c8-806f5736da81\", [{\"marker\": {\"color\": [\"rgb(213,62,79)\", \"rgb(252,141,89)\", \"rgb(254,224,139)\", \"rgb(230,245,152)\", \"rgb(153,213,148)\", \"rgb(50,136,189)\"]}, \"x\": [\"1. Ninguna\", \"2. Pocas\", \"3. Ni muchas ni pocas\", \"4. Bastantes\", \"5. Recibo y envio im\\u00e1genes de forma constante\"], \"y\": [8, 62, 135, 391, 171], \"type\": \"bar\", \"uid\": \"ad20e1b2-2513-4d87-9611-8f748d99cf41\"}], {}, {\"showLink\": false, \"linkText\": \"Export to plot.ly\", \"plotlyServerURL\": \"https://plot.ly\"}); \n",
       "}\n",
       "});</script><script type=\"text/javascript\">window.addEventListener(\"resize\", function(){if (document.getElementById(\"236962af-1afe-47db-92c8-806f5736da81\")) {window._Plotly.Plots.resize(document.getElementById(\"236962af-1afe-47db-92c8-806f5736da81\"));};})</script>"
      ],
      "text/vnd.plotly.v1+html": [
       "<div id=\"236962af-1afe-47db-92c8-806f5736da81\" style=\"height: 525px; width: 100%;\" class=\"plotly-graph-div\"></div><script type=\"text/javascript\">require([\"plotly\"], function(Plotly) { window.PLOTLYENV=window.PLOTLYENV || {};window.PLOTLYENV.BASE_URL=\"https://plot.ly\";\n",
       "if (document.getElementById(\"236962af-1afe-47db-92c8-806f5736da81\")) {\n",
       "    Plotly.newPlot(\"236962af-1afe-47db-92c8-806f5736da81\", [{\"marker\": {\"color\": [\"rgb(213,62,79)\", \"rgb(252,141,89)\", \"rgb(254,224,139)\", \"rgb(230,245,152)\", \"rgb(153,213,148)\", \"rgb(50,136,189)\"]}, \"x\": [\"1. Ninguna\", \"2. Pocas\", \"3. Ni muchas ni pocas\", \"4. Bastantes\", \"5. Recibo y envio im\\u00e1genes de forma constante\"], \"y\": [8, 62, 135, 391, 171], \"type\": \"bar\", \"uid\": \"ad20e1b2-2513-4d87-9611-8f748d99cf41\"}], {}, {\"showLink\": false, \"linkText\": \"Export to plot.ly\", \"plotlyServerURL\": \"https://plot.ly\"}); \n",
       "}\n",
       "});</script><script type=\"text/javascript\">window.addEventListener(\"resize\", function(){if (document.getElementById(\"236962af-1afe-47db-92c8-806f5736da81\")) {window._Plotly.Plots.resize(document.getElementById(\"236962af-1afe-47db-92c8-806f5736da81\"));};})</script>"
      ]
     },
     "metadata": {},
     "output_type": "display_data"
    },
    {
     "name": "stdout",
     "output_type": "stream",
     "text": [
      "Describiendo la pregunta ¿Cuál es tu herramienta habitual de consumo de imágenes?\n"
     ]
    },
    {
     "data": {
      "text/plain": [
       "count          767\n",
       "unique           5\n",
       "top       1. Móvil\n",
       "freq           422\n",
       "Name: ¿Cuál es tu herramienta habitual de consumo de imágenes?, dtype: object"
      ]
     },
     "metadata": {},
     "output_type": "display_data"
    },
    {
     "name": "stdout",
     "output_type": "stream",
     "text": [
      "Conteo de cada valor en ¿Cuál es tu herramienta habitual de consumo de imágenes? expresada como valor / cantidad\n"
     ]
    },
    {
     "data": {
      "text/plain": [
       "1. Móvil                                                           422\n",
       "2. Televisión                                                       51\n",
       "3. Ordenador                                                       264\n",
       "4. Tableta                                                          29\n",
       "5. Otros (Libros y periódicos en papel, marquesinas, museos...)      1\n",
       "Name: ¿Cuál es tu herramienta habitual de consumo de imágenes?, dtype: int64"
      ]
     },
     "metadata": {},
     "output_type": "display_data"
    },
    {
     "name": "stdout",
     "output_type": "stream",
     "text": [
      "Porcentaje de cada valor en ¿Cuál es tu herramienta habitual de consumo de imágenes? expresado como valor / porcentaje\n"
     ]
    },
    {
     "data": {
      "text/plain": [
       "1. Móvil                                                           55.02\n",
       "2. Televisión                                                       6.65\n",
       "3. Ordenador                                                       34.42\n",
       "4. Tableta                                                          3.78\n",
       "5. Otros (Libros y periódicos en papel, marquesinas, museos...)     0.13\n",
       "Name: ¿Cuál es tu herramienta habitual de consumo de imágenes?, dtype: float64"
      ]
     },
     "metadata": {},
     "output_type": "display_data"
    },
    {
     "data": {
      "application/vnd.plotly.v1+json": {
       "config": {
        "linkText": "Export to plot.ly",
        "plotlyServerURL": "https://plot.ly",
        "showLink": false
       },
       "data": [
        {
         "marker": {
          "color": [
           "rgb(213,62,79)",
           "rgb(252,141,89)",
           "rgb(254,224,139)",
           "rgb(230,245,152)",
           "rgb(153,213,148)",
           "rgb(50,136,189)"
          ]
         },
         "type": "bar",
         "uid": "1fc961cc-9f07-44c6-bedc-e6e6731e9329",
         "x": [
          "1. Móvil",
          "2. Televisión",
          "3. Ordenador",
          "4. Tableta",
          "5. Otros (Libros y periódicos en papel, marquesinas, museos...)"
         ],
         "y": [
          422,
          51,
          264,
          29,
          1
         ]
        }
       ],
       "layout": {}
      },
      "text/html": [
       "<div id=\"dc445d63-b1bf-422e-abc4-a6e9cf867f0a\" style=\"height: 525px; width: 100%;\" class=\"plotly-graph-div\"></div><script type=\"text/javascript\">require([\"plotly\"], function(Plotly) { window.PLOTLYENV=window.PLOTLYENV || {};window.PLOTLYENV.BASE_URL=\"https://plot.ly\";\n",
       "if (document.getElementById(\"dc445d63-b1bf-422e-abc4-a6e9cf867f0a\")) {\n",
       "    Plotly.newPlot(\"dc445d63-b1bf-422e-abc4-a6e9cf867f0a\", [{\"marker\": {\"color\": [\"rgb(213,62,79)\", \"rgb(252,141,89)\", \"rgb(254,224,139)\", \"rgb(230,245,152)\", \"rgb(153,213,148)\", \"rgb(50,136,189)\"]}, \"x\": [\"1. M\\u00f3vil\", \"2. Televisi\\u00f3n\", \"3. Ordenador\", \"4. Tableta\", \"5. Otros (Libros y peri\\u00f3dicos en papel, marquesinas, museos...)\"], \"y\": [422, 51, 264, 29, 1], \"type\": \"bar\", \"uid\": \"1aa7419b-98f3-4790-b7fd-9b03323e87d3\"}], {}, {\"showLink\": false, \"linkText\": \"Export to plot.ly\", \"plotlyServerURL\": \"https://plot.ly\"}); \n",
       "}\n",
       "});</script><script type=\"text/javascript\">window.addEventListener(\"resize\", function(){if (document.getElementById(\"dc445d63-b1bf-422e-abc4-a6e9cf867f0a\")) {window._Plotly.Plots.resize(document.getElementById(\"dc445d63-b1bf-422e-abc4-a6e9cf867f0a\"));};})</script>"
      ],
      "text/vnd.plotly.v1+html": [
       "<div id=\"dc445d63-b1bf-422e-abc4-a6e9cf867f0a\" style=\"height: 525px; width: 100%;\" class=\"plotly-graph-div\"></div><script type=\"text/javascript\">require([\"plotly\"], function(Plotly) { window.PLOTLYENV=window.PLOTLYENV || {};window.PLOTLYENV.BASE_URL=\"https://plot.ly\";\n",
       "if (document.getElementById(\"dc445d63-b1bf-422e-abc4-a6e9cf867f0a\")) {\n",
       "    Plotly.newPlot(\"dc445d63-b1bf-422e-abc4-a6e9cf867f0a\", [{\"marker\": {\"color\": [\"rgb(213,62,79)\", \"rgb(252,141,89)\", \"rgb(254,224,139)\", \"rgb(230,245,152)\", \"rgb(153,213,148)\", \"rgb(50,136,189)\"]}, \"x\": [\"1. M\\u00f3vil\", \"2. Televisi\\u00f3n\", \"3. Ordenador\", \"4. Tableta\", \"5. Otros (Libros y peri\\u00f3dicos en papel, marquesinas, museos...)\"], \"y\": [422, 51, 264, 29, 1], \"type\": \"bar\", \"uid\": \"1aa7419b-98f3-4790-b7fd-9b03323e87d3\"}], {}, {\"showLink\": false, \"linkText\": \"Export to plot.ly\", \"plotlyServerURL\": \"https://plot.ly\"}); \n",
       "}\n",
       "});</script><script type=\"text/javascript\">window.addEventListener(\"resize\", function(){if (document.getElementById(\"dc445d63-b1bf-422e-abc4-a6e9cf867f0a\")) {window._Plotly.Plots.resize(document.getElementById(\"dc445d63-b1bf-422e-abc4-a6e9cf867f0a\"));};})</script>"
      ]
     },
     "metadata": {},
     "output_type": "display_data"
    },
    {
     "name": "stdout",
     "output_type": "stream",
     "text": [
      "Describiendo la pregunta ¿Cada cuánto tiempo consumes imágenes?\n"
     ]
    },
    {
     "data": {
      "text/plain": [
       "count             767\n",
       "unique              4\n",
       "top       4. A diario\n",
       "freq              433\n",
       "Name: ¿Cada cuánto tiempo consumes imágenes?, dtype: object"
      ]
     },
     "metadata": {},
     "output_type": "display_data"
    },
    {
     "name": "stdout",
     "output_type": "stream",
     "text": [
      "Conteo de cada valor en ¿Cada cuánto tiempo consumes imágenes? expresada como valor / cantidad\n"
     ]
    },
    {
     "data": {
      "text/plain": [
       "1. Nunca                           13\n",
       "2. Dos o tres veces por semana    101\n",
       "3. Casi todos los días            220\n",
       "4. A diario                       433\n",
       "Name: ¿Cada cuánto tiempo consumes imágenes?, dtype: int64"
      ]
     },
     "metadata": {},
     "output_type": "display_data"
    },
    {
     "name": "stdout",
     "output_type": "stream",
     "text": [
      "Porcentaje de cada valor en ¿Cada cuánto tiempo consumes imágenes? expresado como valor / porcentaje\n"
     ]
    },
    {
     "data": {
      "text/plain": [
       "1. Nunca                           1.69\n",
       "2. Dos o tres veces por semana    13.17\n",
       "3. Casi todos los días            28.68\n",
       "4. A diario                       56.45\n",
       "Name: ¿Cada cuánto tiempo consumes imágenes?, dtype: float64"
      ]
     },
     "metadata": {},
     "output_type": "display_data"
    },
    {
     "data": {
      "application/vnd.plotly.v1+json": {
       "config": {
        "linkText": "Export to plot.ly",
        "plotlyServerURL": "https://plot.ly",
        "showLink": false
       },
       "data": [
        {
         "marker": {
          "color": [
           "rgb(213,62,79)",
           "rgb(252,141,89)",
           "rgb(254,224,139)",
           "rgb(230,245,152)",
           "rgb(153,213,148)",
           "rgb(50,136,189)"
          ]
         },
         "type": "bar",
         "uid": "2e77d18c-fd10-4897-9f3e-5c3f2c888a71",
         "x": [
          "1. Nunca",
          "2. Dos o tres veces por semana",
          "3. Casi todos los días",
          "4. A diario"
         ],
         "y": [
          13,
          101,
          220,
          433
         ]
        }
       ],
       "layout": {}
      },
      "text/html": [
       "<div id=\"423a88ac-495e-4e10-a1a3-51bef0f43cc0\" style=\"height: 525px; width: 100%;\" class=\"plotly-graph-div\"></div><script type=\"text/javascript\">require([\"plotly\"], function(Plotly) { window.PLOTLYENV=window.PLOTLYENV || {};window.PLOTLYENV.BASE_URL=\"https://plot.ly\";\n",
       "if (document.getElementById(\"423a88ac-495e-4e10-a1a3-51bef0f43cc0\")) {\n",
       "    Plotly.newPlot(\"423a88ac-495e-4e10-a1a3-51bef0f43cc0\", [{\"marker\": {\"color\": [\"rgb(213,62,79)\", \"rgb(252,141,89)\", \"rgb(254,224,139)\", \"rgb(230,245,152)\", \"rgb(153,213,148)\", \"rgb(50,136,189)\"]}, \"x\": [\"1. Nunca\", \"2. Dos o tres veces por semana\", \"3. Casi todos los d\\u00edas\", \"4. A diario\"], \"y\": [13, 101, 220, 433], \"type\": \"bar\", \"uid\": \"564028fa-6333-4dd4-bb58-6a2df2914a60\"}], {}, {\"showLink\": false, \"linkText\": \"Export to plot.ly\", \"plotlyServerURL\": \"https://plot.ly\"}); \n",
       "}\n",
       "});</script><script type=\"text/javascript\">window.addEventListener(\"resize\", function(){if (document.getElementById(\"423a88ac-495e-4e10-a1a3-51bef0f43cc0\")) {window._Plotly.Plots.resize(document.getElementById(\"423a88ac-495e-4e10-a1a3-51bef0f43cc0\"));};})</script>"
      ],
      "text/vnd.plotly.v1+html": [
       "<div id=\"423a88ac-495e-4e10-a1a3-51bef0f43cc0\" style=\"height: 525px; width: 100%;\" class=\"plotly-graph-div\"></div><script type=\"text/javascript\">require([\"plotly\"], function(Plotly) { window.PLOTLYENV=window.PLOTLYENV || {};window.PLOTLYENV.BASE_URL=\"https://plot.ly\";\n",
       "if (document.getElementById(\"423a88ac-495e-4e10-a1a3-51bef0f43cc0\")) {\n",
       "    Plotly.newPlot(\"423a88ac-495e-4e10-a1a3-51bef0f43cc0\", [{\"marker\": {\"color\": [\"rgb(213,62,79)\", \"rgb(252,141,89)\", \"rgb(254,224,139)\", \"rgb(230,245,152)\", \"rgb(153,213,148)\", \"rgb(50,136,189)\"]}, \"x\": [\"1. Nunca\", \"2. Dos o tres veces por semana\", \"3. Casi todos los d\\u00edas\", \"4. A diario\"], \"y\": [13, 101, 220, 433], \"type\": \"bar\", \"uid\": \"564028fa-6333-4dd4-bb58-6a2df2914a60\"}], {}, {\"showLink\": false, \"linkText\": \"Export to plot.ly\", \"plotlyServerURL\": \"https://plot.ly\"}); \n",
       "}\n",
       "});</script><script type=\"text/javascript\">window.addEventListener(\"resize\", function(){if (document.getElementById(\"423a88ac-495e-4e10-a1a3-51bef0f43cc0\")) {window._Plotly.Plots.resize(document.getElementById(\"423a88ac-495e-4e10-a1a3-51bef0f43cc0\"));};})</script>"
      ]
     },
     "metadata": {},
     "output_type": "display_data"
    }
   ],
   "source": [
    "visualize_reception_images_all_esp(dataframe_all_esp)"
   ]
  },
  {
   "cell_type": "code",
   "execution_count": 8,
   "metadata": {
    "scrolled": false
   },
   "outputs": [],
   "source": [
    "# visualize_reception_images_all_en(dataframe_all_en)"
   ]
  }
 ],
 "metadata": {
  "kernelspec": {
   "display_name": "Python 3",
   "language": "python",
   "name": "python3"
  },
  "language_info": {
   "codemirror_mode": {
    "name": "ipython",
    "version": 3
   },
   "file_extension": ".py",
   "mimetype": "text/x-python",
   "name": "python",
   "nbconvert_exporter": "python",
   "pygments_lexer": "ipython3",
   "version": "3.6.8"
  }
 },
 "nbformat": 4,
 "nbformat_minor": 2
}

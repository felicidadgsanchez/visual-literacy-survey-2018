{
 "cells": [
  {
   "cell_type": "code",
   "execution_count": 1,
   "metadata": {},
   "outputs": [
    {
     "name": "stdout",
     "output_type": "stream",
     "text": [
      "Importing Jupyter notebook from data_preparation.ipynb\n",
      "Importing Jupyter notebook from cultural_clustering.ipynb\n"
     ]
    }
   ],
   "source": [
    "import nbimporter\n",
    "from data_preparation import *\n",
    "from cultural_clustering import * "
   ]
  },
  {
   "cell_type": "code",
   "execution_count": 2,
   "metadata": {},
   "outputs": [
    {
     "data": {
      "text/html": [
       "<script type=\"text/javascript\">window.PlotlyConfig = {MathJaxConfig: 'local'};</script><script type=\"text/javascript\">if (window.MathJax) {MathJax.Hub.Config({SVG: {font: \"STIX-Web\"}});}</script><script>requirejs.config({paths: { 'plotly': ['https://cdn.plot.ly/plotly-latest.min']},});if(!window._Plotly) {require(['plotly'],function(plotly) {window._Plotly=plotly;});}</script>"
      ],
      "text/vnd.plotly.v1+html": [
       "<script type=\"text/javascript\">window.PlotlyConfig = {MathJaxConfig: 'local'};</script><script type=\"text/javascript\">if (window.MathJax) {MathJax.Hub.Config({SVG: {font: \"STIX-Web\"}});}</script><script>requirejs.config({paths: { 'plotly': ['https://cdn.plot.ly/plotly-latest.min']},});if(!window._Plotly) {require(['plotly'],function(plotly) {window._Plotly=plotly;});}</script>"
      ]
     },
     "metadata": {},
     "output_type": "display_data"
    }
   ],
   "source": [
    "import matplotlib.pyplot as plt\n",
    "plt.style.use('fivethirtyeight')\n",
    "import colorlover as cl\n",
    "import plotly_express as px\n",
    "\n",
    "from plotly.offline import download_plotlyjs, init_notebook_mode, plot, iplot\n",
    "import plotly.graph_objs as go\n",
    "init_notebook_mode(connected=True)"
   ]
  },
  {
   "cell_type": "code",
   "execution_count": 3,
   "metadata": {},
   "outputs": [
    {
     "data": {
      "text/html": [
       "<div>\n",
       "<style scoped>\n",
       "    .dataframe tbody tr th:only-of-type {\n",
       "        vertical-align: middle;\n",
       "    }\n",
       "\n",
       "    .dataframe tbody tr th {\n",
       "        vertical-align: top;\n",
       "    }\n",
       "\n",
       "    .dataframe thead th {\n",
       "        text-align: right;\n",
       "    }\n",
       "</style>\n",
       "<table border=\"1\" class=\"dataframe\">\n",
       "  <thead>\n",
       "    <tr style=\"text-align: right;\">\n",
       "      <th></th>\n",
       "      <th>Age</th>\n",
       "      <th>Are you able to express verbally the emotions produced by an image you have seen?</th>\n",
       "      <th>By reusing an image, can you redefine the message that the sender has thought about?</th>\n",
       "      <th>Classify your degree of vision</th>\n",
       "      <th>Do you find this image attractive? Why?</th>\n",
       "      <th>Do you find this image attractive? Why?</th>\n",
       "      <th>Do you find this image attractive? Why?.1</th>\n",
       "      <th>Do you find this image attractive? Why?.2</th>\n",
       "      <th>Do you find this image attractive? Why?.3</th>\n",
       "      <th>Do you have access to devices (computer, mobile, tablet, etc.) connected to the Internet usually?</th>\n",
       "      <th>...</th>\n",
       "      <th>Which of the paired images do you find most attractive? 1/2 2/2.2</th>\n",
       "      <th>Which of the paired images do you find most attractive? 1/2 2/2.3</th>\n",
       "      <th>Which of the paired images do you find most attractive? 1/2 2/2.4</th>\n",
       "      <th>With whom do you usually share images? [1. Friends]</th>\n",
       "      <th>With whom do you usually share images? [2. Family]</th>\n",
       "      <th>With whom do you usually share images? [3. Partners]</th>\n",
       "      <th>With whom do you usually share images? [4. With all my acquaintances]</th>\n",
       "      <th>With whom do you usually share images? [5. With nobody]</th>\n",
       "      <th>With whom do you usually share images? [Other]</th>\n",
       "      <th>Within your social networks or mobile applications, do you see visual information that you are not looking for (social awareness campaigns, jokes, advertising, etc.)?</th>\n",
       "    </tr>\n",
       "  </thead>\n",
       "  <tbody>\n",
       "    <tr>\n",
       "      <th>0</th>\n",
       "      <td>37</td>\n",
       "      <td>3</td>\n",
       "      <td>1</td>\n",
       "      <td>3</td>\n",
       "      <td>Si, el puente que sostiene al tren</td>\n",
       "      <td>No, me provoca angustia</td>\n",
       "      <td>No, no me interesa</td>\n",
       "      <td>No, demasiado color y no.me.interesa</td>\n",
       "      <td>Si, por el efecto del cohete en la mano</td>\n",
       "      <td>5</td>\n",
       "      <td>...</td>\n",
       "      <td>2</td>\n",
       "      <td>2</td>\n",
       "      <td>2</td>\n",
       "      <td>1</td>\n",
       "      <td>1</td>\n",
       "      <td>0</td>\n",
       "      <td>0</td>\n",
       "      <td>0</td>\n",
       "      <td>NaN</td>\n",
       "      <td>4</td>\n",
       "    </tr>\n",
       "    <tr>\n",
       "      <th>1</th>\n",
       "      <td>62</td>\n",
       "      <td>3</td>\n",
       "      <td>1</td>\n",
       "      <td>3</td>\n",
       "      <td>Serviría para ilustrar una historia. Quizá una...</td>\n",
       "      <td>Broma de chocolate con leche</td>\n",
       "      <td>Texturas, personas, no sabemos quienes pero el...</td>\n",
       "      <td>Exhuberancia se recrea en la iconografia  con ...</td>\n",
       "      <td>No se discute la hombría de quién de modo tan ...</td>\n",
       "      <td>5</td>\n",
       "      <td>...</td>\n",
       "      <td>2</td>\n",
       "      <td>2</td>\n",
       "      <td>2</td>\n",
       "      <td>1</td>\n",
       "      <td>1</td>\n",
       "      <td>0</td>\n",
       "      <td>0</td>\n",
       "      <td>0</td>\n",
       "      <td>NaN</td>\n",
       "      <td>5</td>\n",
       "    </tr>\n",
       "    <tr>\n",
       "      <th>2</th>\n",
       "      <td>28</td>\n",
       "      <td>3</td>\n",
       "      <td>1</td>\n",
       "      <td>4</td>\n",
       "      <td>No, no encuentro enfocados elementos que me at...</td>\n",
       "      <td>Sí, es muy curioso el contraste de colores ent...</td>\n",
       "      <td>Sí, me causa curiosidad la situación que se va...</td>\n",
       "      <td>Sí, el color y las metáforas que recoge están ...</td>\n",
       "      <td>Sí, el lanzamiento de cohete con el humo y la ...</td>\n",
       "      <td>5</td>\n",
       "      <td>...</td>\n",
       "      <td>1</td>\n",
       "      <td>2</td>\n",
       "      <td>2</td>\n",
       "      <td>1</td>\n",
       "      <td>1</td>\n",
       "      <td>0</td>\n",
       "      <td>0</td>\n",
       "      <td>0</td>\n",
       "      <td>NaN</td>\n",
       "      <td>4</td>\n",
       "    </tr>\n",
       "    <tr>\n",
       "      <th>3</th>\n",
       "      <td>31</td>\n",
       "      <td>3</td>\n",
       "      <td>1</td>\n",
       "      <td>4</td>\n",
       "      <td>No. No me gusta que se vean las obras al fondo...</td>\n",
       "      <td>No. Me parece divertida y original, pero no la...</td>\n",
       "      <td>No. No me gusta la Semana Santa aunque ciertam...</td>\n",
       "      <td>No. Me parece que es recargada, que no está bi...</td>\n",
       "      <td>Sí, me parece que captura el momento, la celeb...</td>\n",
       "      <td>5</td>\n",
       "      <td>...</td>\n",
       "      <td>2</td>\n",
       "      <td>2</td>\n",
       "      <td>1</td>\n",
       "      <td>1</td>\n",
       "      <td>1</td>\n",
       "      <td>1</td>\n",
       "      <td>0</td>\n",
       "      <td>0</td>\n",
       "      <td>NaN</td>\n",
       "      <td>1</td>\n",
       "    </tr>\n",
       "    <tr>\n",
       "      <th>4</th>\n",
       "      <td>24</td>\n",
       "      <td>2</td>\n",
       "      <td>3</td>\n",
       "      <td>4</td>\n",
       "      <td>No, me transmite mucha tristeza</td>\n",
       "      <td>No, porque la persona sale haciendo el bobo</td>\n",
       "      <td>Si</td>\n",
       "      <td>Si, por los colores llamativos</td>\n",
       "      <td>0</td>\n",
       "      <td>5</td>\n",
       "      <td>...</td>\n",
       "      <td>2</td>\n",
       "      <td>2</td>\n",
       "      <td>2</td>\n",
       "      <td>1</td>\n",
       "      <td>1</td>\n",
       "      <td>0</td>\n",
       "      <td>0</td>\n",
       "      <td>0</td>\n",
       "      <td>Pareja</td>\n",
       "      <td>3</td>\n",
       "    </tr>\n",
       "  </tbody>\n",
       "</table>\n",
       "<p>5 rows × 125 columns</p>\n",
       "</div>"
      ],
      "text/plain": [
       "   Age  \\\n",
       "0   37   \n",
       "1   62   \n",
       "2   28   \n",
       "3   31   \n",
       "4   24   \n",
       "\n",
       "   Are you able to express verbally the emotions produced by an image you have seen?  \\\n",
       "0                                                  3                                   \n",
       "1                                                  3                                   \n",
       "2                                                  3                                   \n",
       "3                                                  3                                   \n",
       "4                                                  2                                   \n",
       "\n",
       "   By reusing an image, can you redefine the message that the sender has thought about?  \\\n",
       "0                                                  1                                      \n",
       "1                                                  1                                      \n",
       "2                                                  1                                      \n",
       "3                                                  1                                      \n",
       "4                                                  3                                      \n",
       "\n",
       "   Classify your degree of vision  \\\n",
       "0                               3   \n",
       "1                               3   \n",
       "2                               4   \n",
       "3                               4   \n",
       "4                               4   \n",
       "\n",
       "             Do you find this image attractive? Why?  \\\n",
       "0                Si, el puente que sostiene al tren    \n",
       "1  Serviría para ilustrar una historia. Quizá una...   \n",
       "2  No, no encuentro enfocados elementos que me at...   \n",
       "3  No. No me gusta que se vean las obras al fondo...   \n",
       "4                    No, me transmite mucha tristeza   \n",
       "\n",
       "        Do you find this image attractive? Why?       \\\n",
       "0                           No, me provoca angustia    \n",
       "1                       Broma de chocolate con leche   \n",
       "2  Sí, es muy curioso el contraste de colores ent...   \n",
       "3  No. Me parece divertida y original, pero no la...   \n",
       "4        No, porque la persona sale haciendo el bobo   \n",
       "\n",
       "           Do you find this image attractive? Why?.1  \\\n",
       "0                                No, no me interesa    \n",
       "1  Texturas, personas, no sabemos quienes pero el...   \n",
       "2  Sí, me causa curiosidad la situación que se va...   \n",
       "3  No. No me gusta la Semana Santa aunque ciertam...   \n",
       "4                                                 Si   \n",
       "\n",
       "           Do you find this image attractive? Why?.2  \\\n",
       "0               No, demasiado color y no.me.interesa   \n",
       "1  Exhuberancia se recrea en la iconografia  con ...   \n",
       "2  Sí, el color y las metáforas que recoge están ...   \n",
       "3  No. Me parece que es recargada, que no está bi...   \n",
       "4                     Si, por los colores llamativos   \n",
       "\n",
       "           Do you find this image attractive? Why?.3  \\\n",
       "0            Si, por el efecto del cohete en la mano   \n",
       "1  No se discute la hombría de quién de modo tan ...   \n",
       "2  Sí, el lanzamiento de cohete con el humo y la ...   \n",
       "3  Sí, me parece que captura el momento, la celeb...   \n",
       "4                                                  0   \n",
       "\n",
       "   Do you have access to devices (computer, mobile, tablet, etc.) connected to the Internet usually?  \\\n",
       "0                                                  5                                                   \n",
       "1                                                  5                                                   \n",
       "2                                                  5                                                   \n",
       "3                                                  5                                                   \n",
       "4                                                  5                                                   \n",
       "\n",
       "                                                                                    ...                                                                                    \\\n",
       "0                                                                                   ...                                                                                     \n",
       "1                                                                                   ...                                                                                     \n",
       "2                                                                                   ...                                                                                     \n",
       "3                                                                                   ...                                                                                     \n",
       "4                                                                                   ...                                                                                     \n",
       "\n",
       "   Which of the paired images do you find most attractive? 1/2 2/2.2  \\\n",
       "0                                                  2                   \n",
       "1                                                  2                   \n",
       "2                                                  1                   \n",
       "3                                                  2                   \n",
       "4                                                  2                   \n",
       "\n",
       "   Which of the paired images do you find most attractive? 1/2 2/2.3  \\\n",
       "0                                                  2                   \n",
       "1                                                  2                   \n",
       "2                                                  2                   \n",
       "3                                                  2                   \n",
       "4                                                  2                   \n",
       "\n",
       "   Which of the paired images do you find most attractive? 1/2 2/2.4  \\\n",
       "0                                                  2                   \n",
       "1                                                  2                   \n",
       "2                                                  2                   \n",
       "3                                                  1                   \n",
       "4                                                  2                   \n",
       "\n",
       "   With whom do you usually share images? [1. Friends]  \\\n",
       "0                                                  1     \n",
       "1                                                  1     \n",
       "2                                                  1     \n",
       "3                                                  1     \n",
       "4                                                  1     \n",
       "\n",
       "   With whom do you usually share images? [2. Family]  \\\n",
       "0                                                  1    \n",
       "1                                                  1    \n",
       "2                                                  1    \n",
       "3                                                  1    \n",
       "4                                                  1    \n",
       "\n",
       "   With whom do you usually share images? [3. Partners]  \\\n",
       "0                                                  0      \n",
       "1                                                  0      \n",
       "2                                                  0      \n",
       "3                                                  1      \n",
       "4                                                  0      \n",
       "\n",
       "   With whom do you usually share images? [4. With all my acquaintances]  \\\n",
       "0                                                  0                       \n",
       "1                                                  0                       \n",
       "2                                                  0                       \n",
       "3                                                  0                       \n",
       "4                                                  0                       \n",
       "\n",
       "   With whom do you usually share images? [5. With nobody]  \\\n",
       "0                                                  0         \n",
       "1                                                  0         \n",
       "2                                                  0         \n",
       "3                                                  0         \n",
       "4                                                  0         \n",
       "\n",
       "   With whom do you usually share images? [Other]  \\\n",
       "0                                             NaN   \n",
       "1                                             NaN   \n",
       "2                                             NaN   \n",
       "3                                             NaN   \n",
       "4                                          Pareja   \n",
       "\n",
       "   Within your social networks or mobile applications, do you see visual information that you are not looking for (social awareness campaigns, jokes, advertising, etc.)?  \n",
       "0                                                  4                                                                                                                       \n",
       "1                                                  5                                                                                                                       \n",
       "2                                                  4                                                                                                                       \n",
       "3                                                  1                                                                                                                       \n",
       "4                                                  3                                                                                                                       \n",
       "\n",
       "[5 rows x 125 columns]"
      ]
     },
     "execution_count": 3,
     "metadata": {},
     "output_type": "execute_result"
    }
   ],
   "source": [
    "dataframe_all_en = get_dataframe_analysis_en(True)\n",
    "dataframe_all_en.head()"
   ]
  },
  {
   "cell_type": "code",
   "execution_count": 4,
   "metadata": {},
   "outputs": [
    {
     "data": {
      "text/html": [
       "<div>\n",
       "<style scoped>\n",
       "    .dataframe tbody tr th:only-of-type {\n",
       "        vertical-align: middle;\n",
       "    }\n",
       "\n",
       "    .dataframe tbody tr th {\n",
       "        vertical-align: top;\n",
       "    }\n",
       "\n",
       "    .dataframe thead th {\n",
       "        text-align: right;\n",
       "    }\n",
       "</style>\n",
       "<table border=\"1\" class=\"dataframe\">\n",
       "  <thead>\n",
       "    <tr style=\"text-align: right;\">\n",
       "      <th></th>\n",
       "      <th>Al reutilizar una imagen, ¿crees puedes redefinir el mensaje que el emisor ha pensado?</th>\n",
       "      <th>Clasifica tu grado de visión</th>\n",
       "      <th>Cuando compartes imágenes en redes sociales, ¿las acompañas de texto siguiendo las indicaciones que te sugieren las aplicaciones (etiquetado, explicación de la imagen, texto inspirador, etc.)?</th>\n",
       "      <th>Cuando compartes imágenes, ¿habitualmente las envías a otras personas?</th>\n",
       "      <th>Cuando compartes imágenes, ¿habitualmente las produces tú?</th>\n",
       "      <th>Cuando compartes imágenes, ¿habitualmente las recibes de otras personas?</th>\n",
       "      <th>Cuando generas una imagen, ¿qué tipo de dispositivo usas? (Respuesta múltiple) [1. Cámara de fotos]</th>\n",
       "      <th>Cuando generas una imagen, ¿qué tipo de dispositivo usas? (Respuesta múltiple) [2. Teléfono móvil]</th>\n",
       "      <th>Cuando generas una imagen, ¿qué tipo de dispositivo usas? (Respuesta múltiple) [3. Tableta]</th>\n",
       "      <th>Cuando generas una imagen, ¿qué tipo de dispositivo usas? (Respuesta múltiple) [Otro]</th>\n",
       "      <th>...</th>\n",
       "      <th>¿Repites las imágenes hasta conseguir el resultado esperado?</th>\n",
       "      <th>¿Te gusta seguir a personas que admiras en redes sociales? ¿Eres fan o follower de alguna? ¿En ocasiones escribes comentarios en sus publicaciones?</th>\n",
       "      <th>¿Te resulta atractiva esta imagen? ¿Por qué?</th>\n",
       "      <th>¿Te resulta atractiva esta imagen? ¿Por qué?.1</th>\n",
       "      <th>¿Te resulta atractiva esta imagen? ¿Por qué?.2</th>\n",
       "      <th>¿Te resulta atractiva esta imagen? ¿Por qué?.3</th>\n",
       "      <th>¿Te resulta atractiva esta imagen? ¿Por qué?.4</th>\n",
       "      <th>¿Tienes acceso a dispositivos (ordenador, móvil, tablet, etc.) conectados a Internet habitualmente?</th>\n",
       "      <th>¿Tienes alguna carencia visual que afecte a la recepción de formas, colores, distancias, etc.?</th>\n",
       "      <th>¿Utilizas gafas o lentes de contacto?</th>\n",
       "    </tr>\n",
       "  </thead>\n",
       "  <tbody>\n",
       "    <tr>\n",
       "      <th>0</th>\n",
       "      <td>1</td>\n",
       "      <td>3</td>\n",
       "      <td>1</td>\n",
       "      <td>3</td>\n",
       "      <td>4</td>\n",
       "      <td>3</td>\n",
       "      <td>0</td>\n",
       "      <td>1</td>\n",
       "      <td>0</td>\n",
       "      <td>NaN</td>\n",
       "      <td>...</td>\n",
       "      <td>1</td>\n",
       "      <td>3</td>\n",
       "      <td>Si, el puente que sostiene al tren</td>\n",
       "      <td>No, no me interesa</td>\n",
       "      <td>No, demasiado color y no.me.interesa</td>\n",
       "      <td>Si, por el efecto del cohete en la mano</td>\n",
       "      <td>No, me provoca angustia</td>\n",
       "      <td>5</td>\n",
       "      <td>0</td>\n",
       "      <td>1</td>\n",
       "    </tr>\n",
       "    <tr>\n",
       "      <th>1</th>\n",
       "      <td>1</td>\n",
       "      <td>3</td>\n",
       "      <td>3</td>\n",
       "      <td>5</td>\n",
       "      <td>4</td>\n",
       "      <td>5</td>\n",
       "      <td>0</td>\n",
       "      <td>1</td>\n",
       "      <td>0</td>\n",
       "      <td>NaN</td>\n",
       "      <td>...</td>\n",
       "      <td>0</td>\n",
       "      <td>1</td>\n",
       "      <td>Serviría para ilustrar una historia. Quizá una...</td>\n",
       "      <td>Texturas, personas, no sabemos quienes pero el...</td>\n",
       "      <td>Exhuberancia se recrea en la iconografia  con ...</td>\n",
       "      <td>No se discute la hombría de quién de modo tan ...</td>\n",
       "      <td>Broma de chocolate con leche</td>\n",
       "      <td>5</td>\n",
       "      <td>0</td>\n",
       "      <td>1</td>\n",
       "    </tr>\n",
       "    <tr>\n",
       "      <th>2</th>\n",
       "      <td>1</td>\n",
       "      <td>4</td>\n",
       "      <td>3</td>\n",
       "      <td>3</td>\n",
       "      <td>4</td>\n",
       "      <td>4</td>\n",
       "      <td>0</td>\n",
       "      <td>1</td>\n",
       "      <td>0</td>\n",
       "      <td>NaN</td>\n",
       "      <td>...</td>\n",
       "      <td>1</td>\n",
       "      <td>3</td>\n",
       "      <td>No, no encuentro enfocados elementos que me at...</td>\n",
       "      <td>Sí, me causa curiosidad la situación que se va...</td>\n",
       "      <td>Sí, el color y las metáforas que recoge están ...</td>\n",
       "      <td>Sí, el lanzamiento de cohete con el humo y la ...</td>\n",
       "      <td>Sí, es muy curioso el contraste de colores ent...</td>\n",
       "      <td>5</td>\n",
       "      <td>0</td>\n",
       "      <td>1</td>\n",
       "    </tr>\n",
       "    <tr>\n",
       "      <th>3</th>\n",
       "      <td>1</td>\n",
       "      <td>4</td>\n",
       "      <td>5</td>\n",
       "      <td>4</td>\n",
       "      <td>4</td>\n",
       "      <td>2</td>\n",
       "      <td>1</td>\n",
       "      <td>1</td>\n",
       "      <td>0</td>\n",
       "      <td>NaN</td>\n",
       "      <td>...</td>\n",
       "      <td>1</td>\n",
       "      <td>3</td>\n",
       "      <td>No. No me gusta que se vean las obras al fondo...</td>\n",
       "      <td>No. No me gusta la Semana Santa aunque ciertam...</td>\n",
       "      <td>No. Me parece que es recargada, que no está bi...</td>\n",
       "      <td>Sí, me parece que captura el momento, la celeb...</td>\n",
       "      <td>No. Me parece divertida y original, pero no la...</td>\n",
       "      <td>5</td>\n",
       "      <td>0</td>\n",
       "      <td>1</td>\n",
       "    </tr>\n",
       "    <tr>\n",
       "      <th>4</th>\n",
       "      <td>3</td>\n",
       "      <td>4</td>\n",
       "      <td>4</td>\n",
       "      <td>4</td>\n",
       "      <td>3</td>\n",
       "      <td>4</td>\n",
       "      <td>1</td>\n",
       "      <td>1</td>\n",
       "      <td>0</td>\n",
       "      <td>NaN</td>\n",
       "      <td>...</td>\n",
       "      <td>1</td>\n",
       "      <td>2</td>\n",
       "      <td>No, me transmite mucha tristeza</td>\n",
       "      <td>Si</td>\n",
       "      <td>Si, por los colores llamativos</td>\n",
       "      <td>0</td>\n",
       "      <td>No, porque la persona sale haciendo el bobo</td>\n",
       "      <td>5</td>\n",
       "      <td>0</td>\n",
       "      <td>1</td>\n",
       "    </tr>\n",
       "  </tbody>\n",
       "</table>\n",
       "<p>5 rows × 125 columns</p>\n",
       "</div>"
      ],
      "text/plain": [
       "   Al reutilizar una imagen, ¿crees puedes redefinir el mensaje que el emisor ha pensado?  \\\n",
       "0                                                  1                                        \n",
       "1                                                  1                                        \n",
       "2                                                  1                                        \n",
       "3                                                  1                                        \n",
       "4                                                  3                                        \n",
       "\n",
       "   Clasifica tu grado de visión  \\\n",
       "0                             3   \n",
       "1                             3   \n",
       "2                             4   \n",
       "3                             4   \n",
       "4                             4   \n",
       "\n",
       "   Cuando compartes imágenes en redes sociales, ¿las acompañas de texto siguiendo las indicaciones que te sugieren las aplicaciones (etiquetado, explicación de la imagen, texto inspirador, etc.)?  \\\n",
       "0                                                  1                                                                                                                                                  \n",
       "1                                                  3                                                                                                                                                  \n",
       "2                                                  3                                                                                                                                                  \n",
       "3                                                  5                                                                                                                                                  \n",
       "4                                                  4                                                                                                                                                  \n",
       "\n",
       "   Cuando compartes imágenes, ¿habitualmente las envías a otras personas?  \\\n",
       "0                                                  3                        \n",
       "1                                                  5                        \n",
       "2                                                  3                        \n",
       "3                                                  4                        \n",
       "4                                                  4                        \n",
       "\n",
       "   Cuando compartes imágenes, ¿habitualmente las produces tú?  \\\n",
       "0                                                  4            \n",
       "1                                                  4            \n",
       "2                                                  4            \n",
       "3                                                  4            \n",
       "4                                                  3            \n",
       "\n",
       "   Cuando compartes imágenes, ¿habitualmente las recibes de otras personas?  \\\n",
       "0                                                  3                          \n",
       "1                                                  5                          \n",
       "2                                                  4                          \n",
       "3                                                  2                          \n",
       "4                                                  4                          \n",
       "\n",
       "   Cuando generas una imagen, ¿qué tipo de dispositivo usas? (Respuesta múltiple) [1. Cámara de fotos]  \\\n",
       "0                                                  0                                                     \n",
       "1                                                  0                                                     \n",
       "2                                                  0                                                     \n",
       "3                                                  1                                                     \n",
       "4                                                  1                                                     \n",
       "\n",
       "   Cuando generas una imagen, ¿qué tipo de dispositivo usas? (Respuesta múltiple) [2. Teléfono móvil]  \\\n",
       "0                                                  1                                                    \n",
       "1                                                  1                                                    \n",
       "2                                                  1                                                    \n",
       "3                                                  1                                                    \n",
       "4                                                  1                                                    \n",
       "\n",
       "   Cuando generas una imagen, ¿qué tipo de dispositivo usas? (Respuesta múltiple) [3. Tableta]  \\\n",
       "0                                                  0                                             \n",
       "1                                                  0                                             \n",
       "2                                                  0                                             \n",
       "3                                                  0                                             \n",
       "4                                                  0                                             \n",
       "\n",
       "  Cuando generas una imagen, ¿qué tipo de dispositivo usas? (Respuesta múltiple) [Otro]  \\\n",
       "0                                                NaN                                      \n",
       "1                                                NaN                                      \n",
       "2                                                NaN                                      \n",
       "3                                                NaN                                      \n",
       "4                                                NaN                                      \n",
       "\n",
       "                   ...                    \\\n",
       "0                  ...                     \n",
       "1                  ...                     \n",
       "2                  ...                     \n",
       "3                  ...                     \n",
       "4                  ...                     \n",
       "\n",
       "   ¿Repites las imágenes hasta conseguir el resultado esperado?  \\\n",
       "0                                                  1              \n",
       "1                                                  0              \n",
       "2                                                  1              \n",
       "3                                                  1              \n",
       "4                                                  1              \n",
       "\n",
       "   ¿Te gusta seguir a personas que admiras en redes sociales? ¿Eres fan o follower de alguna? ¿En ocasiones escribes comentarios en sus publicaciones?  \\\n",
       "0                                                  3                                                                                                     \n",
       "1                                                  1                                                                                                     \n",
       "2                                                  3                                                                                                     \n",
       "3                                                  3                                                                                                     \n",
       "4                                                  2                                                                                                     \n",
       "\n",
       "        ¿Te resulta atractiva esta imagen? ¿Por qué?  \\\n",
       "0                Si, el puente que sostiene al tren    \n",
       "1  Serviría para ilustrar una historia. Quizá una...   \n",
       "2  No, no encuentro enfocados elementos que me at...   \n",
       "3  No. No me gusta que se vean las obras al fondo...   \n",
       "4                    No, me transmite mucha tristeza   \n",
       "\n",
       "      ¿Te resulta atractiva esta imagen? ¿Por qué?.1  \\\n",
       "0                                No, no me interesa    \n",
       "1  Texturas, personas, no sabemos quienes pero el...   \n",
       "2  Sí, me causa curiosidad la situación que se va...   \n",
       "3  No. No me gusta la Semana Santa aunque ciertam...   \n",
       "4                                                 Si   \n",
       "\n",
       "      ¿Te resulta atractiva esta imagen? ¿Por qué?.2  \\\n",
       "0               No, demasiado color y no.me.interesa   \n",
       "1  Exhuberancia se recrea en la iconografia  con ...   \n",
       "2  Sí, el color y las metáforas que recoge están ...   \n",
       "3  No. Me parece que es recargada, que no está bi...   \n",
       "4                     Si, por los colores llamativos   \n",
       "\n",
       "      ¿Te resulta atractiva esta imagen? ¿Por qué?.3  \\\n",
       "0            Si, por el efecto del cohete en la mano   \n",
       "1  No se discute la hombría de quién de modo tan ...   \n",
       "2  Sí, el lanzamiento de cohete con el humo y la ...   \n",
       "3  Sí, me parece que captura el momento, la celeb...   \n",
       "4                                                  0   \n",
       "\n",
       "      ¿Te resulta atractiva esta imagen? ¿Por qué?.4  \\\n",
       "0                           No, me provoca angustia    \n",
       "1                       Broma de chocolate con leche   \n",
       "2  Sí, es muy curioso el contraste de colores ent...   \n",
       "3  No. Me parece divertida y original, pero no la...   \n",
       "4        No, porque la persona sale haciendo el bobo   \n",
       "\n",
       "   ¿Tienes acceso a dispositivos (ordenador, móvil, tablet, etc.) conectados a Internet habitualmente?  \\\n",
       "0                                                  5                                                     \n",
       "1                                                  5                                                     \n",
       "2                                                  5                                                     \n",
       "3                                                  5                                                     \n",
       "4                                                  5                                                     \n",
       "\n",
       "   ¿Tienes alguna carencia visual que afecte a la recepción de formas, colores, distancias, etc.?  \\\n",
       "0                                                  0                                                \n",
       "1                                                  0                                                \n",
       "2                                                  0                                                \n",
       "3                                                  0                                                \n",
       "4                                                  0                                                \n",
       "\n",
       "   ¿Utilizas gafas o lentes de contacto?  \n",
       "0                                      1  \n",
       "1                                      1  \n",
       "2                                      1  \n",
       "3                                      1  \n",
       "4                                      1  \n",
       "\n",
       "[5 rows x 125 columns]"
      ]
     },
     "execution_count": 4,
     "metadata": {},
     "output_type": "execute_result"
    }
   ],
   "source": [
    "dataframe_all_esp = get_dataframe_analysis_esp(True)\n",
    "dataframe_all_esp.head()"
   ]
  },
  {
   "cell_type": "code",
   "execution_count": 5,
   "metadata": {},
   "outputs": [],
   "source": [
    "def visualize_reception_images_all_esp(dataframe):\n",
    "    newDataframe = dataframe.copy()\n",
    "    for column in get_reception_image_items_esp():\n",
    "        try:\n",
    "            print(f'Describiendo la pregunta {column}')\n",
    "            dict_item = get_data_replacements(str(column))\n",
    "            if dict_item:\n",
    "                newDataframe[column] = newDataframe[column].apply(get_data_replacements(str(column)).get)\n",
    "            display(newDataframe[column].describe())\n",
    "            print(\n",
    "                f'Conteo de cada valor en {column} expresada como valor / cantidad')\n",
    "            display(newDataframe[column].value_counts().sort_index())\n",
    "            print(\n",
    "                f'Porcentaje de cada valor en {column} expresado como valor / porcentaje')\n",
    "            display(newDataframe[column].value_counts(normalize=True).sort_index().round(4) * 100)\n",
    "            # sns.distplot(workCleanDummiesCluster.loc[workCleanDummiesCluster['cluster'] == selected_cluster][column], kde=False, rug=True);\n",
    "            data = [go.Bar(x=sorted(newDataframe[column].unique()),\n",
    "                           y=newDataframe[column].value_counts().reindex(\n",
    "                               newDataframe[column].unique(), fill_value=0).sort_index(),\n",
    "                           marker=dict(color=cl.scales['6']['div']['Spectral']))]\n",
    "\n",
    "            iplot(data)\n",
    "            plt.show()\n",
    "        except BaseException:\n",
    "            pass"
   ]
  },
  {
   "cell_type": "code",
   "execution_count": 6,
   "metadata": {},
   "outputs": [],
   "source": [
    "def visualize_reception_images_all_en(dataframe):\n",
    "    newDataframe = dataframe.copy()\n",
    "    for column in get_reception_image_items_en():\n",
    "        try:\n",
    "            print(\"\\n\\nCluster \"+str(selected_cluster) +\n",
    "                  \" || feature: \"+str(column))\n",
    "\n",
    "            print(f'Describing the feature {column}')\n",
    "            dict_item = get_data_replacements(str(column))\n",
    "            if dict_item:\n",
    "                newDataframe[column] = newDataframe[column].apply(get_data_replacements(str(column)).get)\n",
    "            display(newDataframe[column].describe())\n",
    "            print(\n",
    "                f'Count of each value in {column} expresed as value / amount')\n",
    "            display(newDataframe[column].value_counts().sort_index())\n",
    "            print(\n",
    "                f'Percentage of each value in {column} expresed as value / percentage')\n",
    "            display(newDataframe[column].value_counts(normalize=True).sort_index().round(4) * 100)\n",
    "            # sns.distplot(workCleanDummiesCluster.loc[workCleanDummiesCluster['cluster'] == selected_cluster][column], kde=False, rug=True);\n",
    "            display(newDataframe[column].value_counts(normalize=True).sort_index().round(4) * 100)\n",
    "            # sns.distplot(workCleanDummiesCluster.loc[workCleanDummiesCluster['cluster'] == selected_cluster][column], kde=False, rug=True);\n",
    "            data = [go.Bar(x=sorted(newDataframe[column].unique()),\n",
    "                           y=newDataframe[column].value_counts().reindex(\n",
    "                               newDataframe[column].unique(), fill_value=0).sort_index(),\n",
    "                           marker=dict(color=cl.scales['6']['div']['Spectral']))]\n",
    "\n",
    "            iplot(data)\n",
    "            plt.show()\n",
    "        except BaseException:\n",
    "            pass"
   ]
  },
  {
   "cell_type": "code",
   "execution_count": 7,
   "metadata": {
    "scrolled": false
   },
   "outputs": [
    {
     "name": "stdout",
     "output_type": "stream",
     "text": [
      "Describiendo la pregunta Clasifica tu grado de visión\n"
     ]
    },
    {
     "data": {
      "text/plain": [
       "count          767\n",
       "unique           5\n",
       "top       4. Bueno\n",
       "freq           334\n",
       "Name: Clasifica tu grado de visión, dtype: object"
      ]
     },
     "metadata": {},
     "output_type": "display_data"
    },
    {
     "name": "stdout",
     "output_type": "stream",
     "text": [
      "Conteo de cada valor en Clasifica tu grado de visión expresada como valor / cantidad\n"
     ]
    },
    {
     "data": {
      "text/plain": [
       "1. Muy malo       4\n",
       "2. Malo          28\n",
       "3. Regular      155\n",
       "4. Bueno        334\n",
       "5. Muy bueno    246\n",
       "Name: Clasifica tu grado de visión, dtype: int64"
      ]
     },
     "metadata": {},
     "output_type": "display_data"
    },
    {
     "name": "stdout",
     "output_type": "stream",
     "text": [
      "Porcentaje de cada valor en Clasifica tu grado de visión expresado como valor / porcentaje\n"
     ]
    },
    {
     "data": {
      "text/plain": [
       "1. Muy malo      0.52\n",
       "2. Malo          3.65\n",
       "3. Regular      20.21\n",
       "4. Bueno        43.55\n",
       "5. Muy bueno    32.07\n",
       "Name: Clasifica tu grado de visión, dtype: float64"
      ]
     },
     "metadata": {},
     "output_type": "display_data"
    },
    {
     "data": {
      "application/vnd.plotly.v1+json": {
       "config": {
        "linkText": "Export to plot.ly",
        "plotlyServerURL": "https://plot.ly",
        "showLink": false
       },
       "data": [
        {
         "marker": {
          "color": [
           "rgb(213,62,79)",
           "rgb(252,141,89)",
           "rgb(254,224,139)",
           "rgb(230,245,152)",
           "rgb(153,213,148)",
           "rgb(50,136,189)"
          ]
         },
         "type": "bar",
         "uid": "46eec6a4-611b-497a-8b7a-da85d660a8ed",
         "x": [
          "1. Muy malo",
          "2. Malo",
          "3. Regular",
          "4. Bueno",
          "5. Muy bueno"
         ],
         "y": [
          4,
          28,
          155,
          334,
          246
         ]
        }
       ],
       "layout": {}
      },
      "text/html": [
       "<div id=\"2086971a-7510-4024-9b22-a0014fb3e981\" style=\"height: 525px; width: 100%;\" class=\"plotly-graph-div\"></div><script type=\"text/javascript\">require([\"plotly\"], function(Plotly) { window.PLOTLYENV=window.PLOTLYENV || {};window.PLOTLYENV.BASE_URL=\"https://plot.ly\";\n",
       "if (document.getElementById(\"2086971a-7510-4024-9b22-a0014fb3e981\")) {\n",
       "    Plotly.newPlot(\"2086971a-7510-4024-9b22-a0014fb3e981\", [{\"marker\": {\"color\": [\"rgb(213,62,79)\", \"rgb(252,141,89)\", \"rgb(254,224,139)\", \"rgb(230,245,152)\", \"rgb(153,213,148)\", \"rgb(50,136,189)\"]}, \"x\": [\"1. Muy malo\", \"2. Malo\", \"3. Regular\", \"4. Bueno\", \"5. Muy bueno\"], \"y\": [4, 28, 155, 334, 246], \"type\": \"bar\", \"uid\": \"0f2255da-9c45-4ca6-be03-a522529430dc\"}], {}, {\"showLink\": false, \"linkText\": \"Export to plot.ly\", \"plotlyServerURL\": \"https://plot.ly\"}); \n",
       "}\n",
       "});</script><script type=\"text/javascript\">window.addEventListener(\"resize\", function(){if (document.getElementById(\"2086971a-7510-4024-9b22-a0014fb3e981\")) {window._Plotly.Plots.resize(document.getElementById(\"2086971a-7510-4024-9b22-a0014fb3e981\"));};})</script>"
      ],
      "text/vnd.plotly.v1+html": [
       "<div id=\"2086971a-7510-4024-9b22-a0014fb3e981\" style=\"height: 525px; width: 100%;\" class=\"plotly-graph-div\"></div><script type=\"text/javascript\">require([\"plotly\"], function(Plotly) { window.PLOTLYENV=window.PLOTLYENV || {};window.PLOTLYENV.BASE_URL=\"https://plot.ly\";\n",
       "if (document.getElementById(\"2086971a-7510-4024-9b22-a0014fb3e981\")) {\n",
       "    Plotly.newPlot(\"2086971a-7510-4024-9b22-a0014fb3e981\", [{\"marker\": {\"color\": [\"rgb(213,62,79)\", \"rgb(252,141,89)\", \"rgb(254,224,139)\", \"rgb(230,245,152)\", \"rgb(153,213,148)\", \"rgb(50,136,189)\"]}, \"x\": [\"1. Muy malo\", \"2. Malo\", \"3. Regular\", \"4. Bueno\", \"5. Muy bueno\"], \"y\": [4, 28, 155, 334, 246], \"type\": \"bar\", \"uid\": \"0f2255da-9c45-4ca6-be03-a522529430dc\"}], {}, {\"showLink\": false, \"linkText\": \"Export to plot.ly\", \"plotlyServerURL\": \"https://plot.ly\"}); \n",
       "}\n",
       "});</script><script type=\"text/javascript\">window.addEventListener(\"resize\", function(){if (document.getElementById(\"2086971a-7510-4024-9b22-a0014fb3e981\")) {window._Plotly.Plots.resize(document.getElementById(\"2086971a-7510-4024-9b22-a0014fb3e981\"));};})</script>"
      ]
     },
     "metadata": {},
     "output_type": "display_data"
    },
    {
     "name": "stdout",
     "output_type": "stream",
     "text": [
      "Describiendo la pregunta ¿Utilizas gafas o lentes de contacto?\n"
     ]
    },
    {
     "data": {
      "text/plain": [
       "count     767\n",
       "unique      2\n",
       "top        Sí\n",
       "freq      397\n",
       "Name: ¿Utilizas gafas o lentes de contacto?, dtype: object"
      ]
     },
     "metadata": {},
     "output_type": "display_data"
    },
    {
     "name": "stdout",
     "output_type": "stream",
     "text": [
      "Conteo de cada valor en ¿Utilizas gafas o lentes de contacto? expresada como valor / cantidad\n"
     ]
    },
    {
     "data": {
      "text/plain": [
       "No    370\n",
       "Sí    397\n",
       "Name: ¿Utilizas gafas o lentes de contacto?, dtype: int64"
      ]
     },
     "metadata": {},
     "output_type": "display_data"
    },
    {
     "name": "stdout",
     "output_type": "stream",
     "text": [
      "Porcentaje de cada valor en ¿Utilizas gafas o lentes de contacto? expresado como valor / porcentaje\n"
     ]
    },
    {
     "data": {
      "text/plain": [
       "No    48.24\n",
       "Sí    51.76\n",
       "Name: ¿Utilizas gafas o lentes de contacto?, dtype: float64"
      ]
     },
     "metadata": {},
     "output_type": "display_data"
    },
    {
     "data": {
      "application/vnd.plotly.v1+json": {
       "config": {
        "linkText": "Export to plot.ly",
        "plotlyServerURL": "https://plot.ly",
        "showLink": false
       },
       "data": [
        {
         "marker": {
          "color": [
           "rgb(213,62,79)",
           "rgb(252,141,89)",
           "rgb(254,224,139)",
           "rgb(230,245,152)",
           "rgb(153,213,148)",
           "rgb(50,136,189)"
          ]
         },
         "type": "bar",
         "uid": "a997b7aa-0654-4def-befd-b00febf3a0cf",
         "x": [
          "No",
          "Sí"
         ],
         "y": [
          370,
          397
         ]
        }
       ],
       "layout": {}
      },
      "text/html": [
       "<div id=\"da27be8f-af79-4337-a69f-bccd99596698\" style=\"height: 525px; width: 100%;\" class=\"plotly-graph-div\"></div><script type=\"text/javascript\">require([\"plotly\"], function(Plotly) { window.PLOTLYENV=window.PLOTLYENV || {};window.PLOTLYENV.BASE_URL=\"https://plot.ly\";\n",
       "if (document.getElementById(\"da27be8f-af79-4337-a69f-bccd99596698\")) {\n",
       "    Plotly.newPlot(\"da27be8f-af79-4337-a69f-bccd99596698\", [{\"marker\": {\"color\": [\"rgb(213,62,79)\", \"rgb(252,141,89)\", \"rgb(254,224,139)\", \"rgb(230,245,152)\", \"rgb(153,213,148)\", \"rgb(50,136,189)\"]}, \"x\": [\"No\", \"S\\u00ed\"], \"y\": [370, 397], \"type\": \"bar\", \"uid\": \"3bc91d6a-4f97-42d7-86a0-72c07cd49b33\"}], {}, {\"showLink\": false, \"linkText\": \"Export to plot.ly\", \"plotlyServerURL\": \"https://plot.ly\"}); \n",
       "}\n",
       "});</script><script type=\"text/javascript\">window.addEventListener(\"resize\", function(){if (document.getElementById(\"da27be8f-af79-4337-a69f-bccd99596698\")) {window._Plotly.Plots.resize(document.getElementById(\"da27be8f-af79-4337-a69f-bccd99596698\"));};})</script>"
      ],
      "text/vnd.plotly.v1+html": [
       "<div id=\"da27be8f-af79-4337-a69f-bccd99596698\" style=\"height: 525px; width: 100%;\" class=\"plotly-graph-div\"></div><script type=\"text/javascript\">require([\"plotly\"], function(Plotly) { window.PLOTLYENV=window.PLOTLYENV || {};window.PLOTLYENV.BASE_URL=\"https://plot.ly\";\n",
       "if (document.getElementById(\"da27be8f-af79-4337-a69f-bccd99596698\")) {\n",
       "    Plotly.newPlot(\"da27be8f-af79-4337-a69f-bccd99596698\", [{\"marker\": {\"color\": [\"rgb(213,62,79)\", \"rgb(252,141,89)\", \"rgb(254,224,139)\", \"rgb(230,245,152)\", \"rgb(153,213,148)\", \"rgb(50,136,189)\"]}, \"x\": [\"No\", \"S\\u00ed\"], \"y\": [370, 397], \"type\": \"bar\", \"uid\": \"3bc91d6a-4f97-42d7-86a0-72c07cd49b33\"}], {}, {\"showLink\": false, \"linkText\": \"Export to plot.ly\", \"plotlyServerURL\": \"https://plot.ly\"}); \n",
       "}\n",
       "});</script><script type=\"text/javascript\">window.addEventListener(\"resize\", function(){if (document.getElementById(\"da27be8f-af79-4337-a69f-bccd99596698\")) {window._Plotly.Plots.resize(document.getElementById(\"da27be8f-af79-4337-a69f-bccd99596698\"));};})</script>"
      ]
     },
     "metadata": {},
     "output_type": "display_data"
    },
    {
     "name": "stdout",
     "output_type": "stream",
     "text": [
      "Describiendo la pregunta ¿Tienes alguna carencia visual que afecte a la recepción de formas, colores, distancias, etc.?\n"
     ]
    },
    {
     "data": {
      "text/plain": [
       "count     767\n",
       "unique      2\n",
       "top        No\n",
       "freq      647\n",
       "Name: ¿Tienes alguna carencia visual que afecte a la recepción de formas, colores, distancias, etc.?, dtype: object"
      ]
     },
     "metadata": {},
     "output_type": "display_data"
    },
    {
     "name": "stdout",
     "output_type": "stream",
     "text": [
      "Conteo de cada valor en ¿Tienes alguna carencia visual que afecte a la recepción de formas, colores, distancias, etc.? expresada como valor / cantidad\n"
     ]
    },
    {
     "data": {
      "text/plain": [
       "No    647\n",
       "Sí    120\n",
       "Name: ¿Tienes alguna carencia visual que afecte a la recepción de formas, colores, distancias, etc.?, dtype: int64"
      ]
     },
     "metadata": {},
     "output_type": "display_data"
    },
    {
     "name": "stdout",
     "output_type": "stream",
     "text": [
      "Porcentaje de cada valor en ¿Tienes alguna carencia visual que afecte a la recepción de formas, colores, distancias, etc.? expresado como valor / porcentaje\n"
     ]
    },
    {
     "data": {
      "text/plain": [
       "No    84.35\n",
       "Sí    15.65\n",
       "Name: ¿Tienes alguna carencia visual que afecte a la recepción de formas, colores, distancias, etc.?, dtype: float64"
      ]
     },
     "metadata": {},
     "output_type": "display_data"
    },
    {
     "data": {
      "application/vnd.plotly.v1+json": {
       "config": {
        "linkText": "Export to plot.ly",
        "plotlyServerURL": "https://plot.ly",
        "showLink": false
       },
       "data": [
        {
         "marker": {
          "color": [
           "rgb(213,62,79)",
           "rgb(252,141,89)",
           "rgb(254,224,139)",
           "rgb(230,245,152)",
           "rgb(153,213,148)",
           "rgb(50,136,189)"
          ]
         },
         "type": "bar",
         "uid": "58d30f3a-b36c-4505-a10f-40554bcf79f9",
         "x": [
          "No",
          "Sí"
         ],
         "y": [
          647,
          120
         ]
        }
       ],
       "layout": {}
      },
      "text/html": [
       "<div id=\"28ecb410-54a1-4652-9798-601d1026ee4c\" style=\"height: 525px; width: 100%;\" class=\"plotly-graph-div\"></div><script type=\"text/javascript\">require([\"plotly\"], function(Plotly) { window.PLOTLYENV=window.PLOTLYENV || {};window.PLOTLYENV.BASE_URL=\"https://plot.ly\";\n",
       "if (document.getElementById(\"28ecb410-54a1-4652-9798-601d1026ee4c\")) {\n",
       "    Plotly.newPlot(\"28ecb410-54a1-4652-9798-601d1026ee4c\", [{\"marker\": {\"color\": [\"rgb(213,62,79)\", \"rgb(252,141,89)\", \"rgb(254,224,139)\", \"rgb(230,245,152)\", \"rgb(153,213,148)\", \"rgb(50,136,189)\"]}, \"x\": [\"No\", \"S\\u00ed\"], \"y\": [647, 120], \"type\": \"bar\", \"uid\": \"cc1be977-84e0-4f5c-a240-2c6e0b79faf0\"}], {}, {\"showLink\": false, \"linkText\": \"Export to plot.ly\", \"plotlyServerURL\": \"https://plot.ly\"}); \n",
       "}\n",
       "});</script><script type=\"text/javascript\">window.addEventListener(\"resize\", function(){if (document.getElementById(\"28ecb410-54a1-4652-9798-601d1026ee4c\")) {window._Plotly.Plots.resize(document.getElementById(\"28ecb410-54a1-4652-9798-601d1026ee4c\"));};})</script>"
      ],
      "text/vnd.plotly.v1+html": [
       "<div id=\"28ecb410-54a1-4652-9798-601d1026ee4c\" style=\"height: 525px; width: 100%;\" class=\"plotly-graph-div\"></div><script type=\"text/javascript\">require([\"plotly\"], function(Plotly) { window.PLOTLYENV=window.PLOTLYENV || {};window.PLOTLYENV.BASE_URL=\"https://plot.ly\";\n",
       "if (document.getElementById(\"28ecb410-54a1-4652-9798-601d1026ee4c\")) {\n",
       "    Plotly.newPlot(\"28ecb410-54a1-4652-9798-601d1026ee4c\", [{\"marker\": {\"color\": [\"rgb(213,62,79)\", \"rgb(252,141,89)\", \"rgb(254,224,139)\", \"rgb(230,245,152)\", \"rgb(153,213,148)\", \"rgb(50,136,189)\"]}, \"x\": [\"No\", \"S\\u00ed\"], \"y\": [647, 120], \"type\": \"bar\", \"uid\": \"cc1be977-84e0-4f5c-a240-2c6e0b79faf0\"}], {}, {\"showLink\": false, \"linkText\": \"Export to plot.ly\", \"plotlyServerURL\": \"https://plot.ly\"}); \n",
       "}\n",
       "});</script><script type=\"text/javascript\">window.addEventListener(\"resize\", function(){if (document.getElementById(\"28ecb410-54a1-4652-9798-601d1026ee4c\")) {window._Plotly.Plots.resize(document.getElementById(\"28ecb410-54a1-4652-9798-601d1026ee4c\"));};})</script>"
      ]
     },
     "metadata": {},
     "output_type": "display_data"
    },
    {
     "name": "stdout",
     "output_type": "stream",
     "text": [
      "Describiendo la pregunta ¿Tienes acceso a dispositivos (ordenador, móvil, tablet, etc.) conectados a Internet habitualmente?\n"
     ]
    },
    {
     "data": {
      "text/plain": [
       "count                        767\n",
       "unique                         5\n",
       "top       5. Varias veces al día\n",
       "freq                         560\n",
       "Name: ¿Tienes acceso a dispositivos (ordenador, móvil, tablet, etc.) conectados a Internet habitualmente?, dtype: object"
      ]
     },
     "metadata": {},
     "output_type": "display_data"
    },
    {
     "name": "stdout",
     "output_type": "stream",
     "text": [
      "Conteo de cada valor en ¿Tienes acceso a dispositivos (ordenador, móvil, tablet, etc.) conectados a Internet habitualmente? expresada como valor / cantidad\n"
     ]
    },
    {
     "data": {
      "text/plain": [
       "1. Nunca                    1\n",
       "2. Ocasionalmente           8\n",
       "3. Semanalmente            28\n",
       "4. Diariamente            170\n",
       "5. Varias veces al día    560\n",
       "Name: ¿Tienes acceso a dispositivos (ordenador, móvil, tablet, etc.) conectados a Internet habitualmente?, dtype: int64"
      ]
     },
     "metadata": {},
     "output_type": "display_data"
    },
    {
     "name": "stdout",
     "output_type": "stream",
     "text": [
      "Porcentaje de cada valor en ¿Tienes acceso a dispositivos (ordenador, móvil, tablet, etc.) conectados a Internet habitualmente? expresado como valor / porcentaje\n"
     ]
    },
    {
     "data": {
      "text/plain": [
       "1. Nunca                   0.13\n",
       "2. Ocasionalmente          1.04\n",
       "3. Semanalmente            3.65\n",
       "4. Diariamente            22.16\n",
       "5. Varias veces al día    73.01\n",
       "Name: ¿Tienes acceso a dispositivos (ordenador, móvil, tablet, etc.) conectados a Internet habitualmente?, dtype: float64"
      ]
     },
     "metadata": {},
     "output_type": "display_data"
    },
    {
     "data": {
      "application/vnd.plotly.v1+json": {
       "config": {
        "linkText": "Export to plot.ly",
        "plotlyServerURL": "https://plot.ly",
        "showLink": false
       },
       "data": [
        {
         "marker": {
          "color": [
           "rgb(213,62,79)",
           "rgb(252,141,89)",
           "rgb(254,224,139)",
           "rgb(230,245,152)",
           "rgb(153,213,148)",
           "rgb(50,136,189)"
          ]
         },
         "type": "bar",
         "uid": "e67ac757-1c79-481c-851c-323d920a8763",
         "x": [
          "1. Nunca",
          "2. Ocasionalmente",
          "3. Semanalmente",
          "4. Diariamente",
          "5. Varias veces al día"
         ],
         "y": [
          1,
          8,
          28,
          170,
          560
         ]
        }
       ],
       "layout": {}
      },
      "text/html": [
       "<div id=\"64461634-ff7d-4cb2-a53d-ca2cae5586a5\" style=\"height: 525px; width: 100%;\" class=\"plotly-graph-div\"></div><script type=\"text/javascript\">require([\"plotly\"], function(Plotly) { window.PLOTLYENV=window.PLOTLYENV || {};window.PLOTLYENV.BASE_URL=\"https://plot.ly\";\n",
       "if (document.getElementById(\"64461634-ff7d-4cb2-a53d-ca2cae5586a5\")) {\n",
       "    Plotly.newPlot(\"64461634-ff7d-4cb2-a53d-ca2cae5586a5\", [{\"marker\": {\"color\": [\"rgb(213,62,79)\", \"rgb(252,141,89)\", \"rgb(254,224,139)\", \"rgb(230,245,152)\", \"rgb(153,213,148)\", \"rgb(50,136,189)\"]}, \"x\": [\"1. Nunca\", \"2. Ocasionalmente\", \"3. Semanalmente\", \"4. Diariamente\", \"5. Varias veces al d\\u00eda\"], \"y\": [1, 8, 28, 170, 560], \"type\": \"bar\", \"uid\": \"52c740de-70ad-42c6-a2d5-9a6daf254277\"}], {}, {\"showLink\": false, \"linkText\": \"Export to plot.ly\", \"plotlyServerURL\": \"https://plot.ly\"}); \n",
       "}\n",
       "});</script><script type=\"text/javascript\">window.addEventListener(\"resize\", function(){if (document.getElementById(\"64461634-ff7d-4cb2-a53d-ca2cae5586a5\")) {window._Plotly.Plots.resize(document.getElementById(\"64461634-ff7d-4cb2-a53d-ca2cae5586a5\"));};})</script>"
      ],
      "text/vnd.plotly.v1+html": [
       "<div id=\"64461634-ff7d-4cb2-a53d-ca2cae5586a5\" style=\"height: 525px; width: 100%;\" class=\"plotly-graph-div\"></div><script type=\"text/javascript\">require([\"plotly\"], function(Plotly) { window.PLOTLYENV=window.PLOTLYENV || {};window.PLOTLYENV.BASE_URL=\"https://plot.ly\";\n",
       "if (document.getElementById(\"64461634-ff7d-4cb2-a53d-ca2cae5586a5\")) {\n",
       "    Plotly.newPlot(\"64461634-ff7d-4cb2-a53d-ca2cae5586a5\", [{\"marker\": {\"color\": [\"rgb(213,62,79)\", \"rgb(252,141,89)\", \"rgb(254,224,139)\", \"rgb(230,245,152)\", \"rgb(153,213,148)\", \"rgb(50,136,189)\"]}, \"x\": [\"1. Nunca\", \"2. Ocasionalmente\", \"3. Semanalmente\", \"4. Diariamente\", \"5. Varias veces al d\\u00eda\"], \"y\": [1, 8, 28, 170, 560], \"type\": \"bar\", \"uid\": \"52c740de-70ad-42c6-a2d5-9a6daf254277\"}], {}, {\"showLink\": false, \"linkText\": \"Export to plot.ly\", \"plotlyServerURL\": \"https://plot.ly\"}); \n",
       "}\n",
       "});</script><script type=\"text/javascript\">window.addEventListener(\"resize\", function(){if (document.getElementById(\"64461634-ff7d-4cb2-a53d-ca2cae5586a5\")) {window._Plotly.Plots.resize(document.getElementById(\"64461634-ff7d-4cb2-a53d-ca2cae5586a5\"));};})</script>"
      ]
     },
     "metadata": {},
     "output_type": "display_data"
    },
    {
     "name": "stdout",
     "output_type": "stream",
     "text": [
      "Describiendo la pregunta ¿Cuánto tiempo al día usas el móvil/tableta/ordenador/TV?\n"
     ]
    },
    {
     "data": {
      "text/plain": [
       "count                   767\n",
       "unique                    6\n",
       "top       6. Más de 6 horas\n",
       "freq                    316\n",
       "Name: ¿Cuánto tiempo al día usas el móvil/tableta/ordenador/TV?, dtype: object"
      ]
     },
     "metadata": {},
     "output_type": "display_data"
    },
    {
     "name": "stdout",
     "output_type": "stream",
     "text": [
      "Conteo de cada valor en ¿Cuánto tiempo al día usas el móvil/tableta/ordenador/TV? expresada como valor / cantidad\n"
     ]
    },
    {
     "data": {
      "text/plain": [
       "1. Nada                   1\n",
       "2. Menos de una hora      6\n",
       "3. 1-2 horas             82\n",
       "4. 2-4 horas            166\n",
       "5. 4-6 horas            196\n",
       "6. Más de 6 horas       316\n",
       "Name: ¿Cuánto tiempo al día usas el móvil/tableta/ordenador/TV?, dtype: int64"
      ]
     },
     "metadata": {},
     "output_type": "display_data"
    },
    {
     "name": "stdout",
     "output_type": "stream",
     "text": [
      "Porcentaje de cada valor en ¿Cuánto tiempo al día usas el móvil/tableta/ordenador/TV? expresado como valor / porcentaje\n"
     ]
    },
    {
     "data": {
      "text/plain": [
       "1. Nada                  0.13\n",
       "2. Menos de una hora     0.78\n",
       "3. 1-2 horas            10.69\n",
       "4. 2-4 horas            21.64\n",
       "5. 4-6 horas            25.55\n",
       "6. Más de 6 horas       41.20\n",
       "Name: ¿Cuánto tiempo al día usas el móvil/tableta/ordenador/TV?, dtype: float64"
      ]
     },
     "metadata": {},
     "output_type": "display_data"
    },
    {
     "data": {
      "application/vnd.plotly.v1+json": {
       "config": {
        "linkText": "Export to plot.ly",
        "plotlyServerURL": "https://plot.ly",
        "showLink": false
       },
       "data": [
        {
         "marker": {
          "color": [
           "rgb(213,62,79)",
           "rgb(252,141,89)",
           "rgb(254,224,139)",
           "rgb(230,245,152)",
           "rgb(153,213,148)",
           "rgb(50,136,189)"
          ]
         },
         "type": "bar",
         "uid": "de1e2a1b-bffe-4b14-9ba6-726dcdd24747",
         "x": [
          "1. Nada",
          "2. Menos de una hora",
          "3. 1-2 horas",
          "4. 2-4 horas",
          "5. 4-6 horas",
          "6. Más de 6 horas"
         ],
         "y": [
          1,
          6,
          82,
          166,
          196,
          316
         ]
        }
       ],
       "layout": {}
      },
      "text/html": [
       "<div id=\"3e4c2ae6-674f-4497-935a-91f642e9849b\" style=\"height: 525px; width: 100%;\" class=\"plotly-graph-div\"></div><script type=\"text/javascript\">require([\"plotly\"], function(Plotly) { window.PLOTLYENV=window.PLOTLYENV || {};window.PLOTLYENV.BASE_URL=\"https://plot.ly\";\n",
       "if (document.getElementById(\"3e4c2ae6-674f-4497-935a-91f642e9849b\")) {\n",
       "    Plotly.newPlot(\"3e4c2ae6-674f-4497-935a-91f642e9849b\", [{\"marker\": {\"color\": [\"rgb(213,62,79)\", \"rgb(252,141,89)\", \"rgb(254,224,139)\", \"rgb(230,245,152)\", \"rgb(153,213,148)\", \"rgb(50,136,189)\"]}, \"x\": [\"1. Nada\", \"2. Menos de una hora\", \"3. 1-2 horas\", \"4. 2-4 horas\", \"5. 4-6 horas\", \"6. M\\u00e1s de 6 horas\"], \"y\": [1, 6, 82, 166, 196, 316], \"type\": \"bar\", \"uid\": \"e031d376-6a1e-48b9-905f-d53ad5baf481\"}], {}, {\"showLink\": false, \"linkText\": \"Export to plot.ly\", \"plotlyServerURL\": \"https://plot.ly\"}); \n",
       "}\n",
       "});</script><script type=\"text/javascript\">window.addEventListener(\"resize\", function(){if (document.getElementById(\"3e4c2ae6-674f-4497-935a-91f642e9849b\")) {window._Plotly.Plots.resize(document.getElementById(\"3e4c2ae6-674f-4497-935a-91f642e9849b\"));};})</script>"
      ],
      "text/vnd.plotly.v1+html": [
       "<div id=\"3e4c2ae6-674f-4497-935a-91f642e9849b\" style=\"height: 525px; width: 100%;\" class=\"plotly-graph-div\"></div><script type=\"text/javascript\">require([\"plotly\"], function(Plotly) { window.PLOTLYENV=window.PLOTLYENV || {};window.PLOTLYENV.BASE_URL=\"https://plot.ly\";\n",
       "if (document.getElementById(\"3e4c2ae6-674f-4497-935a-91f642e9849b\")) {\n",
       "    Plotly.newPlot(\"3e4c2ae6-674f-4497-935a-91f642e9849b\", [{\"marker\": {\"color\": [\"rgb(213,62,79)\", \"rgb(252,141,89)\", \"rgb(254,224,139)\", \"rgb(230,245,152)\", \"rgb(153,213,148)\", \"rgb(50,136,189)\"]}, \"x\": [\"1. Nada\", \"2. Menos de una hora\", \"3. 1-2 horas\", \"4. 2-4 horas\", \"5. 4-6 horas\", \"6. M\\u00e1s de 6 horas\"], \"y\": [1, 6, 82, 166, 196, 316], \"type\": \"bar\", \"uid\": \"e031d376-6a1e-48b9-905f-d53ad5baf481\"}], {}, {\"showLink\": false, \"linkText\": \"Export to plot.ly\", \"plotlyServerURL\": \"https://plot.ly\"}); \n",
       "}\n",
       "});</script><script type=\"text/javascript\">window.addEventListener(\"resize\", function(){if (document.getElementById(\"3e4c2ae6-674f-4497-935a-91f642e9849b\")) {window._Plotly.Plots.resize(document.getElementById(\"3e4c2ae6-674f-4497-935a-91f642e9849b\"));};})</script>"
      ]
     },
     "metadata": {},
     "output_type": "display_data"
    },
    {
     "name": "stdout",
     "output_type": "stream",
     "text": [
      "Describiendo la pregunta ¿Qué tipo de aplicaciones utilizas en tu ordenador/tableta/móvil? (Respuesta múltiple) [1. Apps de contenidos audiovisuales (Netflix, HBO, etc.)]\n"
     ]
    },
    {
     "data": {
      "text/plain": [
       "count     767\n",
       "unique      2\n",
       "top        Sí\n",
       "freq      427\n",
       "Name: ¿Qué tipo de aplicaciones utilizas en tu ordenador/tableta/móvil? (Respuesta múltiple) [1. Apps de contenidos audiovisuales (Netflix, HBO, etc.)], dtype: object"
      ]
     },
     "metadata": {},
     "output_type": "display_data"
    },
    {
     "name": "stdout",
     "output_type": "stream",
     "text": [
      "Conteo de cada valor en ¿Qué tipo de aplicaciones utilizas en tu ordenador/tableta/móvil? (Respuesta múltiple) [1. Apps de contenidos audiovisuales (Netflix, HBO, etc.)] expresada como valor / cantidad\n"
     ]
    },
    {
     "data": {
      "text/plain": [
       "No    340\n",
       "Sí    427\n",
       "Name: ¿Qué tipo de aplicaciones utilizas en tu ordenador/tableta/móvil? (Respuesta múltiple) [1. Apps de contenidos audiovisuales (Netflix, HBO, etc.)], dtype: int64"
      ]
     },
     "metadata": {},
     "output_type": "display_data"
    },
    {
     "name": "stdout",
     "output_type": "stream",
     "text": [
      "Porcentaje de cada valor en ¿Qué tipo de aplicaciones utilizas en tu ordenador/tableta/móvil? (Respuesta múltiple) [1. Apps de contenidos audiovisuales (Netflix, HBO, etc.)] expresado como valor / porcentaje\n"
     ]
    },
    {
     "data": {
      "text/plain": [
       "No    44.33\n",
       "Sí    55.67\n",
       "Name: ¿Qué tipo de aplicaciones utilizas en tu ordenador/tableta/móvil? (Respuesta múltiple) [1. Apps de contenidos audiovisuales (Netflix, HBO, etc.)], dtype: float64"
      ]
     },
     "metadata": {},
     "output_type": "display_data"
    },
    {
     "data": {
      "application/vnd.plotly.v1+json": {
       "config": {
        "linkText": "Export to plot.ly",
        "plotlyServerURL": "https://plot.ly",
        "showLink": false
       },
       "data": [
        {
         "marker": {
          "color": [
           "rgb(213,62,79)",
           "rgb(252,141,89)",
           "rgb(254,224,139)",
           "rgb(230,245,152)",
           "rgb(153,213,148)",
           "rgb(50,136,189)"
          ]
         },
         "type": "bar",
         "uid": "2cdd80c7-8e05-428d-b8fa-d5dfb82863f4",
         "x": [
          "No",
          "Sí"
         ],
         "y": [
          340,
          427
         ]
        }
       ],
       "layout": {}
      },
      "text/html": [
       "<div id=\"b3b14061-3776-4ea6-a14e-bb50fdc77400\" style=\"height: 525px; width: 100%;\" class=\"plotly-graph-div\"></div><script type=\"text/javascript\">require([\"plotly\"], function(Plotly) { window.PLOTLYENV=window.PLOTLYENV || {};window.PLOTLYENV.BASE_URL=\"https://plot.ly\";\n",
       "if (document.getElementById(\"b3b14061-3776-4ea6-a14e-bb50fdc77400\")) {\n",
       "    Plotly.newPlot(\"b3b14061-3776-4ea6-a14e-bb50fdc77400\", [{\"marker\": {\"color\": [\"rgb(213,62,79)\", \"rgb(252,141,89)\", \"rgb(254,224,139)\", \"rgb(230,245,152)\", \"rgb(153,213,148)\", \"rgb(50,136,189)\"]}, \"x\": [\"No\", \"S\\u00ed\"], \"y\": [340, 427], \"type\": \"bar\", \"uid\": \"6d7ad9dd-007c-4cf6-9be8-fb49802d9ec4\"}], {}, {\"showLink\": false, \"linkText\": \"Export to plot.ly\", \"plotlyServerURL\": \"https://plot.ly\"}); \n",
       "}\n",
       "});</script><script type=\"text/javascript\">window.addEventListener(\"resize\", function(){if (document.getElementById(\"b3b14061-3776-4ea6-a14e-bb50fdc77400\")) {window._Plotly.Plots.resize(document.getElementById(\"b3b14061-3776-4ea6-a14e-bb50fdc77400\"));};})</script>"
      ],
      "text/vnd.plotly.v1+html": [
       "<div id=\"b3b14061-3776-4ea6-a14e-bb50fdc77400\" style=\"height: 525px; width: 100%;\" class=\"plotly-graph-div\"></div><script type=\"text/javascript\">require([\"plotly\"], function(Plotly) { window.PLOTLYENV=window.PLOTLYENV || {};window.PLOTLYENV.BASE_URL=\"https://plot.ly\";\n",
       "if (document.getElementById(\"b3b14061-3776-4ea6-a14e-bb50fdc77400\")) {\n",
       "    Plotly.newPlot(\"b3b14061-3776-4ea6-a14e-bb50fdc77400\", [{\"marker\": {\"color\": [\"rgb(213,62,79)\", \"rgb(252,141,89)\", \"rgb(254,224,139)\", \"rgb(230,245,152)\", \"rgb(153,213,148)\", \"rgb(50,136,189)\"]}, \"x\": [\"No\", \"S\\u00ed\"], \"y\": [340, 427], \"type\": \"bar\", \"uid\": \"6d7ad9dd-007c-4cf6-9be8-fb49802d9ec4\"}], {}, {\"showLink\": false, \"linkText\": \"Export to plot.ly\", \"plotlyServerURL\": \"https://plot.ly\"}); \n",
       "}\n",
       "});</script><script type=\"text/javascript\">window.addEventListener(\"resize\", function(){if (document.getElementById(\"b3b14061-3776-4ea6-a14e-bb50fdc77400\")) {window._Plotly.Plots.resize(document.getElementById(\"b3b14061-3776-4ea6-a14e-bb50fdc77400\"));};})</script>"
      ]
     },
     "metadata": {},
     "output_type": "display_data"
    },
    {
     "name": "stdout",
     "output_type": "stream",
     "text": [
      "Describiendo la pregunta ¿Qué tipo de aplicaciones utilizas en tu ordenador/tableta/móvil? (Respuesta múltiple) [2. Aplicaciones de mensajería (Whatsapp, Facebook Messenger, etc.)]\n"
     ]
    },
    {
     "data": {
      "text/plain": [
       "count     767\n",
       "unique      2\n",
       "top        Sí\n",
       "freq      606\n",
       "Name: ¿Qué tipo de aplicaciones utilizas en tu ordenador/tableta/móvil? (Respuesta múltiple) [2. Aplicaciones de mensajería (Whatsapp, Facebook Messenger, etc.)], dtype: object"
      ]
     },
     "metadata": {},
     "output_type": "display_data"
    },
    {
     "name": "stdout",
     "output_type": "stream",
     "text": [
      "Conteo de cada valor en ¿Qué tipo de aplicaciones utilizas en tu ordenador/tableta/móvil? (Respuesta múltiple) [2. Aplicaciones de mensajería (Whatsapp, Facebook Messenger, etc.)] expresada como valor / cantidad\n"
     ]
    },
    {
     "data": {
      "text/plain": [
       "No    161\n",
       "Sí    606\n",
       "Name: ¿Qué tipo de aplicaciones utilizas en tu ordenador/tableta/móvil? (Respuesta múltiple) [2. Aplicaciones de mensajería (Whatsapp, Facebook Messenger, etc.)], dtype: int64"
      ]
     },
     "metadata": {},
     "output_type": "display_data"
    },
    {
     "name": "stdout",
     "output_type": "stream",
     "text": [
      "Porcentaje de cada valor en ¿Qué tipo de aplicaciones utilizas en tu ordenador/tableta/móvil? (Respuesta múltiple) [2. Aplicaciones de mensajería (Whatsapp, Facebook Messenger, etc.)] expresado como valor / porcentaje\n"
     ]
    },
    {
     "data": {
      "text/plain": [
       "No    20.99\n",
       "Sí    79.01\n",
       "Name: ¿Qué tipo de aplicaciones utilizas en tu ordenador/tableta/móvil? (Respuesta múltiple) [2. Aplicaciones de mensajería (Whatsapp, Facebook Messenger, etc.)], dtype: float64"
      ]
     },
     "metadata": {},
     "output_type": "display_data"
    },
    {
     "data": {
      "application/vnd.plotly.v1+json": {
       "config": {
        "linkText": "Export to plot.ly",
        "plotlyServerURL": "https://plot.ly",
        "showLink": false
       },
       "data": [
        {
         "marker": {
          "color": [
           "rgb(213,62,79)",
           "rgb(252,141,89)",
           "rgb(254,224,139)",
           "rgb(230,245,152)",
           "rgb(153,213,148)",
           "rgb(50,136,189)"
          ]
         },
         "type": "bar",
         "uid": "a1ed826e-3929-4d5e-bfc1-ddcd1e2bcc04",
         "x": [
          "No",
          "Sí"
         ],
         "y": [
          161,
          606
         ]
        }
       ],
       "layout": {}
      },
      "text/html": [
       "<div id=\"fbf20840-ed64-46f3-8d7d-b2e55000c12e\" style=\"height: 525px; width: 100%;\" class=\"plotly-graph-div\"></div><script type=\"text/javascript\">require([\"plotly\"], function(Plotly) { window.PLOTLYENV=window.PLOTLYENV || {};window.PLOTLYENV.BASE_URL=\"https://plot.ly\";\n",
       "if (document.getElementById(\"fbf20840-ed64-46f3-8d7d-b2e55000c12e\")) {\n",
       "    Plotly.newPlot(\"fbf20840-ed64-46f3-8d7d-b2e55000c12e\", [{\"marker\": {\"color\": [\"rgb(213,62,79)\", \"rgb(252,141,89)\", \"rgb(254,224,139)\", \"rgb(230,245,152)\", \"rgb(153,213,148)\", \"rgb(50,136,189)\"]}, \"x\": [\"No\", \"S\\u00ed\"], \"y\": [161, 606], \"type\": \"bar\", \"uid\": \"bf61ab4f-1c50-40a9-a958-4c5e2b1c8162\"}], {}, {\"showLink\": false, \"linkText\": \"Export to plot.ly\", \"plotlyServerURL\": \"https://plot.ly\"}); \n",
       "}\n",
       "});</script><script type=\"text/javascript\">window.addEventListener(\"resize\", function(){if (document.getElementById(\"fbf20840-ed64-46f3-8d7d-b2e55000c12e\")) {window._Plotly.Plots.resize(document.getElementById(\"fbf20840-ed64-46f3-8d7d-b2e55000c12e\"));};})</script>"
      ],
      "text/vnd.plotly.v1+html": [
       "<div id=\"fbf20840-ed64-46f3-8d7d-b2e55000c12e\" style=\"height: 525px; width: 100%;\" class=\"plotly-graph-div\"></div><script type=\"text/javascript\">require([\"plotly\"], function(Plotly) { window.PLOTLYENV=window.PLOTLYENV || {};window.PLOTLYENV.BASE_URL=\"https://plot.ly\";\n",
       "if (document.getElementById(\"fbf20840-ed64-46f3-8d7d-b2e55000c12e\")) {\n",
       "    Plotly.newPlot(\"fbf20840-ed64-46f3-8d7d-b2e55000c12e\", [{\"marker\": {\"color\": [\"rgb(213,62,79)\", \"rgb(252,141,89)\", \"rgb(254,224,139)\", \"rgb(230,245,152)\", \"rgb(153,213,148)\", \"rgb(50,136,189)\"]}, \"x\": [\"No\", \"S\\u00ed\"], \"y\": [161, 606], \"type\": \"bar\", \"uid\": \"bf61ab4f-1c50-40a9-a958-4c5e2b1c8162\"}], {}, {\"showLink\": false, \"linkText\": \"Export to plot.ly\", \"plotlyServerURL\": \"https://plot.ly\"}); \n",
       "}\n",
       "});</script><script type=\"text/javascript\">window.addEventListener(\"resize\", function(){if (document.getElementById(\"fbf20840-ed64-46f3-8d7d-b2e55000c12e\")) {window._Plotly.Plots.resize(document.getElementById(\"fbf20840-ed64-46f3-8d7d-b2e55000c12e\"));};})</script>"
      ]
     },
     "metadata": {},
     "output_type": "display_data"
    },
    {
     "name": "stdout",
     "output_type": "stream",
     "text": [
      "Describiendo la pregunta ¿Qué tipo de aplicaciones utilizas en tu ordenador/tableta/móvil? (Respuesta múltiple) [3. Bibliotecas de fotos online (Google Photos, iPhoto, etc.)]\n"
     ]
    },
    {
     "data": {
      "text/plain": [
       "count     767\n",
       "unique      2\n",
       "top        No\n",
       "freq      386\n",
       "Name: ¿Qué tipo de aplicaciones utilizas en tu ordenador/tableta/móvil? (Respuesta múltiple) [3. Bibliotecas de fotos online (Google Photos, iPhoto, etc.)], dtype: object"
      ]
     },
     "metadata": {},
     "output_type": "display_data"
    },
    {
     "name": "stdout",
     "output_type": "stream",
     "text": [
      "Conteo de cada valor en ¿Qué tipo de aplicaciones utilizas en tu ordenador/tableta/móvil? (Respuesta múltiple) [3. Bibliotecas de fotos online (Google Photos, iPhoto, etc.)] expresada como valor / cantidad\n"
     ]
    },
    {
     "data": {
      "text/plain": [
       "No    386\n",
       "Sí    381\n",
       "Name: ¿Qué tipo de aplicaciones utilizas en tu ordenador/tableta/móvil? (Respuesta múltiple) [3. Bibliotecas de fotos online (Google Photos, iPhoto, etc.)], dtype: int64"
      ]
     },
     "metadata": {},
     "output_type": "display_data"
    },
    {
     "name": "stdout",
     "output_type": "stream",
     "text": [
      "Porcentaje de cada valor en ¿Qué tipo de aplicaciones utilizas en tu ordenador/tableta/móvil? (Respuesta múltiple) [3. Bibliotecas de fotos online (Google Photos, iPhoto, etc.)] expresado como valor / porcentaje\n"
     ]
    },
    {
     "data": {
      "text/plain": [
       "No    50.33\n",
       "Sí    49.67\n",
       "Name: ¿Qué tipo de aplicaciones utilizas en tu ordenador/tableta/móvil? (Respuesta múltiple) [3. Bibliotecas de fotos online (Google Photos, iPhoto, etc.)], dtype: float64"
      ]
     },
     "metadata": {},
     "output_type": "display_data"
    },
    {
     "data": {
      "application/vnd.plotly.v1+json": {
       "config": {
        "linkText": "Export to plot.ly",
        "plotlyServerURL": "https://plot.ly",
        "showLink": false
       },
       "data": [
        {
         "marker": {
          "color": [
           "rgb(213,62,79)",
           "rgb(252,141,89)",
           "rgb(254,224,139)",
           "rgb(230,245,152)",
           "rgb(153,213,148)",
           "rgb(50,136,189)"
          ]
         },
         "type": "bar",
         "uid": "3d317d8d-cc61-41e6-9629-02f8ae614190",
         "x": [
          "No",
          "Sí"
         ],
         "y": [
          386,
          381
         ]
        }
       ],
       "layout": {}
      },
      "text/html": [
       "<div id=\"90a27b2a-bcc8-4e65-9def-474f2b1aa137\" style=\"height: 525px; width: 100%;\" class=\"plotly-graph-div\"></div><script type=\"text/javascript\">require([\"plotly\"], function(Plotly) { window.PLOTLYENV=window.PLOTLYENV || {};window.PLOTLYENV.BASE_URL=\"https://plot.ly\";\n",
       "if (document.getElementById(\"90a27b2a-bcc8-4e65-9def-474f2b1aa137\")) {\n",
       "    Plotly.newPlot(\"90a27b2a-bcc8-4e65-9def-474f2b1aa137\", [{\"marker\": {\"color\": [\"rgb(213,62,79)\", \"rgb(252,141,89)\", \"rgb(254,224,139)\", \"rgb(230,245,152)\", \"rgb(153,213,148)\", \"rgb(50,136,189)\"]}, \"x\": [\"No\", \"S\\u00ed\"], \"y\": [386, 381], \"type\": \"bar\", \"uid\": \"e1adc48e-b652-4795-9736-420aa4d3fcb6\"}], {}, {\"showLink\": false, \"linkText\": \"Export to plot.ly\", \"plotlyServerURL\": \"https://plot.ly\"}); \n",
       "}\n",
       "});</script><script type=\"text/javascript\">window.addEventListener(\"resize\", function(){if (document.getElementById(\"90a27b2a-bcc8-4e65-9def-474f2b1aa137\")) {window._Plotly.Plots.resize(document.getElementById(\"90a27b2a-bcc8-4e65-9def-474f2b1aa137\"));};})</script>"
      ],
      "text/vnd.plotly.v1+html": [
       "<div id=\"90a27b2a-bcc8-4e65-9def-474f2b1aa137\" style=\"height: 525px; width: 100%;\" class=\"plotly-graph-div\"></div><script type=\"text/javascript\">require([\"plotly\"], function(Plotly) { window.PLOTLYENV=window.PLOTLYENV || {};window.PLOTLYENV.BASE_URL=\"https://plot.ly\";\n",
       "if (document.getElementById(\"90a27b2a-bcc8-4e65-9def-474f2b1aa137\")) {\n",
       "    Plotly.newPlot(\"90a27b2a-bcc8-4e65-9def-474f2b1aa137\", [{\"marker\": {\"color\": [\"rgb(213,62,79)\", \"rgb(252,141,89)\", \"rgb(254,224,139)\", \"rgb(230,245,152)\", \"rgb(153,213,148)\", \"rgb(50,136,189)\"]}, \"x\": [\"No\", \"S\\u00ed\"], \"y\": [386, 381], \"type\": \"bar\", \"uid\": \"e1adc48e-b652-4795-9736-420aa4d3fcb6\"}], {}, {\"showLink\": false, \"linkText\": \"Export to plot.ly\", \"plotlyServerURL\": \"https://plot.ly\"}); \n",
       "}\n",
       "});</script><script type=\"text/javascript\">window.addEventListener(\"resize\", function(){if (document.getElementById(\"90a27b2a-bcc8-4e65-9def-474f2b1aa137\")) {window._Plotly.Plots.resize(document.getElementById(\"90a27b2a-bcc8-4e65-9def-474f2b1aa137\"));};})</script>"
      ]
     },
     "metadata": {},
     "output_type": "display_data"
    },
    {
     "name": "stdout",
     "output_type": "stream",
     "text": [
      "Describiendo la pregunta ¿Qué tipo de aplicaciones utilizas en tu ordenador/tableta/móvil? (Respuesta múltiple) [4. Redes sociales (Facebook, Instagram, Twitter, etc.).]\n"
     ]
    },
    {
     "data": {
      "text/plain": [
       "count     767\n",
       "unique      2\n",
       "top        Sí\n",
       "freq      621\n",
       "Name: ¿Qué tipo de aplicaciones utilizas en tu ordenador/tableta/móvil? (Respuesta múltiple) [4. Redes sociales (Facebook, Instagram, Twitter, etc.).], dtype: object"
      ]
     },
     "metadata": {},
     "output_type": "display_data"
    },
    {
     "name": "stdout",
     "output_type": "stream",
     "text": [
      "Conteo de cada valor en ¿Qué tipo de aplicaciones utilizas en tu ordenador/tableta/móvil? (Respuesta múltiple) [4. Redes sociales (Facebook, Instagram, Twitter, etc.).] expresada como valor / cantidad\n"
     ]
    },
    {
     "data": {
      "text/plain": [
       "No    146\n",
       "Sí    621\n",
       "Name: ¿Qué tipo de aplicaciones utilizas en tu ordenador/tableta/móvil? (Respuesta múltiple) [4. Redes sociales (Facebook, Instagram, Twitter, etc.).], dtype: int64"
      ]
     },
     "metadata": {},
     "output_type": "display_data"
    },
    {
     "name": "stdout",
     "output_type": "stream",
     "text": [
      "Porcentaje de cada valor en ¿Qué tipo de aplicaciones utilizas en tu ordenador/tableta/móvil? (Respuesta múltiple) [4. Redes sociales (Facebook, Instagram, Twitter, etc.).] expresado como valor / porcentaje\n"
     ]
    },
    {
     "data": {
      "text/plain": [
       "No    19.04\n",
       "Sí    80.96\n",
       "Name: ¿Qué tipo de aplicaciones utilizas en tu ordenador/tableta/móvil? (Respuesta múltiple) [4. Redes sociales (Facebook, Instagram, Twitter, etc.).], dtype: float64"
      ]
     },
     "metadata": {},
     "output_type": "display_data"
    },
    {
     "data": {
      "application/vnd.plotly.v1+json": {
       "config": {
        "linkText": "Export to plot.ly",
        "plotlyServerURL": "https://plot.ly",
        "showLink": false
       },
       "data": [
        {
         "marker": {
          "color": [
           "rgb(213,62,79)",
           "rgb(252,141,89)",
           "rgb(254,224,139)",
           "rgb(230,245,152)",
           "rgb(153,213,148)",
           "rgb(50,136,189)"
          ]
         },
         "type": "bar",
         "uid": "940be142-8b30-44da-9fa8-beab98c42cc2",
         "x": [
          "No",
          "Sí"
         ],
         "y": [
          146,
          621
         ]
        }
       ],
       "layout": {}
      },
      "text/html": [
       "<div id=\"517804df-1125-400a-96bb-0e2961941781\" style=\"height: 525px; width: 100%;\" class=\"plotly-graph-div\"></div><script type=\"text/javascript\">require([\"plotly\"], function(Plotly) { window.PLOTLYENV=window.PLOTLYENV || {};window.PLOTLYENV.BASE_URL=\"https://plot.ly\";\n",
       "if (document.getElementById(\"517804df-1125-400a-96bb-0e2961941781\")) {\n",
       "    Plotly.newPlot(\"517804df-1125-400a-96bb-0e2961941781\", [{\"marker\": {\"color\": [\"rgb(213,62,79)\", \"rgb(252,141,89)\", \"rgb(254,224,139)\", \"rgb(230,245,152)\", \"rgb(153,213,148)\", \"rgb(50,136,189)\"]}, \"x\": [\"No\", \"S\\u00ed\"], \"y\": [146, 621], \"type\": \"bar\", \"uid\": \"076fa970-a51e-459f-b22f-d126aad4c5d9\"}], {}, {\"showLink\": false, \"linkText\": \"Export to plot.ly\", \"plotlyServerURL\": \"https://plot.ly\"}); \n",
       "}\n",
       "});</script><script type=\"text/javascript\">window.addEventListener(\"resize\", function(){if (document.getElementById(\"517804df-1125-400a-96bb-0e2961941781\")) {window._Plotly.Plots.resize(document.getElementById(\"517804df-1125-400a-96bb-0e2961941781\"));};})</script>"
      ],
      "text/vnd.plotly.v1+html": [
       "<div id=\"517804df-1125-400a-96bb-0e2961941781\" style=\"height: 525px; width: 100%;\" class=\"plotly-graph-div\"></div><script type=\"text/javascript\">require([\"plotly\"], function(Plotly) { window.PLOTLYENV=window.PLOTLYENV || {};window.PLOTLYENV.BASE_URL=\"https://plot.ly\";\n",
       "if (document.getElementById(\"517804df-1125-400a-96bb-0e2961941781\")) {\n",
       "    Plotly.newPlot(\"517804df-1125-400a-96bb-0e2961941781\", [{\"marker\": {\"color\": [\"rgb(213,62,79)\", \"rgb(252,141,89)\", \"rgb(254,224,139)\", \"rgb(230,245,152)\", \"rgb(153,213,148)\", \"rgb(50,136,189)\"]}, \"x\": [\"No\", \"S\\u00ed\"], \"y\": [146, 621], \"type\": \"bar\", \"uid\": \"076fa970-a51e-459f-b22f-d126aad4c5d9\"}], {}, {\"showLink\": false, \"linkText\": \"Export to plot.ly\", \"plotlyServerURL\": \"https://plot.ly\"}); \n",
       "}\n",
       "});</script><script type=\"text/javascript\">window.addEventListener(\"resize\", function(){if (document.getElementById(\"517804df-1125-400a-96bb-0e2961941781\")) {window._Plotly.Plots.resize(document.getElementById(\"517804df-1125-400a-96bb-0e2961941781\"));};})</script>"
      ]
     },
     "metadata": {},
     "output_type": "display_data"
    },
    {
     "name": "stdout",
     "output_type": "stream",
     "text": [
      "Describiendo la pregunta ¿Qué tipo de aplicaciones utilizas en tu ordenador/tableta/móvil? (Respuesta múltiple) [5. Aplicaciones de vídeo (Youtube, Vimeo, etc.).]\n"
     ]
    },
    {
     "data": {
      "text/plain": [
       "count     767\n",
       "unique      2\n",
       "top        Sí\n",
       "freq      554\n",
       "Name: ¿Qué tipo de aplicaciones utilizas en tu ordenador/tableta/móvil? (Respuesta múltiple) [5. Aplicaciones de vídeo (Youtube, Vimeo, etc.).], dtype: object"
      ]
     },
     "metadata": {},
     "output_type": "display_data"
    },
    {
     "name": "stdout",
     "output_type": "stream",
     "text": [
      "Conteo de cada valor en ¿Qué tipo de aplicaciones utilizas en tu ordenador/tableta/móvil? (Respuesta múltiple) [5. Aplicaciones de vídeo (Youtube, Vimeo, etc.).] expresada como valor / cantidad\n"
     ]
    },
    {
     "data": {
      "text/plain": [
       "No    213\n",
       "Sí    554\n",
       "Name: ¿Qué tipo de aplicaciones utilizas en tu ordenador/tableta/móvil? (Respuesta múltiple) [5. Aplicaciones de vídeo (Youtube, Vimeo, etc.).], dtype: int64"
      ]
     },
     "metadata": {},
     "output_type": "display_data"
    },
    {
     "name": "stdout",
     "output_type": "stream",
     "text": [
      "Porcentaje de cada valor en ¿Qué tipo de aplicaciones utilizas en tu ordenador/tableta/móvil? (Respuesta múltiple) [5. Aplicaciones de vídeo (Youtube, Vimeo, etc.).] expresado como valor / porcentaje\n"
     ]
    },
    {
     "data": {
      "text/plain": [
       "No    27.77\n",
       "Sí    72.23\n",
       "Name: ¿Qué tipo de aplicaciones utilizas en tu ordenador/tableta/móvil? (Respuesta múltiple) [5. Aplicaciones de vídeo (Youtube, Vimeo, etc.).], dtype: float64"
      ]
     },
     "metadata": {},
     "output_type": "display_data"
    },
    {
     "data": {
      "application/vnd.plotly.v1+json": {
       "config": {
        "linkText": "Export to plot.ly",
        "plotlyServerURL": "https://plot.ly",
        "showLink": false
       },
       "data": [
        {
         "marker": {
          "color": [
           "rgb(213,62,79)",
           "rgb(252,141,89)",
           "rgb(254,224,139)",
           "rgb(230,245,152)",
           "rgb(153,213,148)",
           "rgb(50,136,189)"
          ]
         },
         "type": "bar",
         "uid": "8cbae2cc-4330-4c72-9904-4f6233ad842e",
         "x": [
          "No",
          "Sí"
         ],
         "y": [
          213,
          554
         ]
        }
       ],
       "layout": {}
      },
      "text/html": [
       "<div id=\"35df97ed-1334-4758-aebd-b175cc4f7842\" style=\"height: 525px; width: 100%;\" class=\"plotly-graph-div\"></div><script type=\"text/javascript\">require([\"plotly\"], function(Plotly) { window.PLOTLYENV=window.PLOTLYENV || {};window.PLOTLYENV.BASE_URL=\"https://plot.ly\";\n",
       "if (document.getElementById(\"35df97ed-1334-4758-aebd-b175cc4f7842\")) {\n",
       "    Plotly.newPlot(\"35df97ed-1334-4758-aebd-b175cc4f7842\", [{\"marker\": {\"color\": [\"rgb(213,62,79)\", \"rgb(252,141,89)\", \"rgb(254,224,139)\", \"rgb(230,245,152)\", \"rgb(153,213,148)\", \"rgb(50,136,189)\"]}, \"x\": [\"No\", \"S\\u00ed\"], \"y\": [213, 554], \"type\": \"bar\", \"uid\": \"fd89f3ca-2a19-4f45-9753-09411dcb8cfb\"}], {}, {\"showLink\": false, \"linkText\": \"Export to plot.ly\", \"plotlyServerURL\": \"https://plot.ly\"}); \n",
       "}\n",
       "});</script><script type=\"text/javascript\">window.addEventListener(\"resize\", function(){if (document.getElementById(\"35df97ed-1334-4758-aebd-b175cc4f7842\")) {window._Plotly.Plots.resize(document.getElementById(\"35df97ed-1334-4758-aebd-b175cc4f7842\"));};})</script>"
      ],
      "text/vnd.plotly.v1+html": [
       "<div id=\"35df97ed-1334-4758-aebd-b175cc4f7842\" style=\"height: 525px; width: 100%;\" class=\"plotly-graph-div\"></div><script type=\"text/javascript\">require([\"plotly\"], function(Plotly) { window.PLOTLYENV=window.PLOTLYENV || {};window.PLOTLYENV.BASE_URL=\"https://plot.ly\";\n",
       "if (document.getElementById(\"35df97ed-1334-4758-aebd-b175cc4f7842\")) {\n",
       "    Plotly.newPlot(\"35df97ed-1334-4758-aebd-b175cc4f7842\", [{\"marker\": {\"color\": [\"rgb(213,62,79)\", \"rgb(252,141,89)\", \"rgb(254,224,139)\", \"rgb(230,245,152)\", \"rgb(153,213,148)\", \"rgb(50,136,189)\"]}, \"x\": [\"No\", \"S\\u00ed\"], \"y\": [213, 554], \"type\": \"bar\", \"uid\": \"fd89f3ca-2a19-4f45-9753-09411dcb8cfb\"}], {}, {\"showLink\": false, \"linkText\": \"Export to plot.ly\", \"plotlyServerURL\": \"https://plot.ly\"}); \n",
       "}\n",
       "});</script><script type=\"text/javascript\">window.addEventListener(\"resize\", function(){if (document.getElementById(\"35df97ed-1334-4758-aebd-b175cc4f7842\")) {window._Plotly.Plots.resize(document.getElementById(\"35df97ed-1334-4758-aebd-b175cc4f7842\"));};})</script>"
      ]
     },
     "metadata": {},
     "output_type": "display_data"
    },
    {
     "name": "stdout",
     "output_type": "stream",
     "text": [
      "Describiendo la pregunta ¿Qué tipo de aplicaciones utilizas en tu ordenador/tableta/móvil? (Respuesta múltiple) [Otro]\n"
     ]
    },
    {
     "data": {
      "text/plain": [
       "count        80\n",
       "unique       62\n",
       "top       Games\n",
       "freq         10\n",
       "Name: ¿Qué tipo de aplicaciones utilizas en tu ordenador/tableta/móvil? (Respuesta múltiple) [Otro], dtype: object"
      ]
     },
     "metadata": {},
     "output_type": "display_data"
    },
    {
     "name": "stdout",
     "output_type": "stream",
     "text": [
      "Conteo de cada valor en ¿Qué tipo de aplicaciones utilizas en tu ordenador/tableta/móvil? (Respuesta múltiple) [Otro] expresada como valor / cantidad\n"
     ]
    },
    {
     "data": {
      "text/plain": [
       "Aplicaciones de creación, como photoshop o illustrator                                                            1\n",
       "Aplicaciones de trabajo como office y demás                                                                       1\n",
       "Apps de lectura                                                                                                   1\n",
       "Bases datos profesionales                                                                                         1\n",
       "Cad                                                                                                               1\n",
       "Correo electrónico                                                                                                1\n",
       "E-mail                                                                                                            1\n",
       "Editor de fotos                                                                                                   1\n",
       "Editores de codigo                                                                                                1\n",
       "Editores de texto                                                                                                 1\n",
       "Email                                                                                                             2\n",
       "Fortnite                                                                                                          1\n",
       "GAMES                                                                                                             1\n",
       "Games                                                                                                            10\n",
       "IDEs                                                                                                              1\n",
       "IDEs de desarrollo                                                                                                1\n",
       "J'utlise l'ordinateur pour recopier mes cours                                                                     1\n",
       "Juegos                                                                                                            3\n",
       "Libro electrónico                                                                                                 1\n",
       "News                                                                                                              1\n",
       "News websites, reading                                                                                            1\n",
       "Office                                                                                                            1\n",
       "Ofimática                                                                                                         1\n",
       "Online videogames                                                                                                 1\n",
       "Paginas de internet                                                                                               1\n",
       "Programas de edición de fotografías y vídeo                                                                       1\n",
       "Propias de mi trabajo                                                                                             1\n",
       "Reading media: news, books, magazines, etc.                                                                       1\n",
       "Surfing                                                                                                           1\n",
       "Trabajo                                                                                                           1\n",
       "                                                                                                                 ..\n",
       "Traitement de texte                                                                                               1\n",
       "Traitements de texte                                                                                              1\n",
       "Videojuegos                                                                                                       3\n",
       "Videojuegos, lectura, climatologia                                                                                1\n",
       "Web Browser, Kindle                                                                                               1\n",
       "Work apps                                                                                                         1\n",
       "Work/office software                                                                                              1\n",
       "app educativas                                                                                                    1\n",
       "carrot rewards                                                                                                    1\n",
       "email                                                                                                             1\n",
       "facebook,whatsapp,intagram, google, youtube.                                                                      1\n",
       "game                                                                                                              1\n",
       "games                                                                                                             2\n",
       "gestores bibliográficos                                                                                           1\n",
       "izap4u, radio en ligne                                                                                            1\n",
       "juegos                                                                                                            2\n",
       "juegos, entrenamiento                                                                                             1\n",
       "linkedin                                                                                                          1\n",
       "offline projects                                                                                                  1\n",
       "photoshop, premiere, after effects                                                                                1\n",
       "productivity software                                                                                             1\n",
       "redes y videos                                                                                                    1\n",
       "sales sites, and research sites                                                                                   1\n",
       "video games (mobile, P.C.)                                                                                        1\n",
       "website devouted to a specific subject (e.g. news, fansites, lifestyle ect.) Also, I use the web for research     1\n",
       "wordprocessing/email                                                                                              1\n",
       "work                                                                                                              3\n",
       "work related                                                                                                      1\n",
       "work related tools such as mls and research                                                                       1\n",
       "zazzle                                                                                                            1\n",
       "Name: ¿Qué tipo de aplicaciones utilizas en tu ordenador/tableta/móvil? (Respuesta múltiple) [Otro], Length: 62, dtype: int64"
      ]
     },
     "metadata": {},
     "output_type": "display_data"
    },
    {
     "name": "stdout",
     "output_type": "stream",
     "text": [
      "Porcentaje de cada valor en ¿Qué tipo de aplicaciones utilizas en tu ordenador/tableta/móvil? (Respuesta múltiple) [Otro] expresado como valor / porcentaje\n"
     ]
    },
    {
     "data": {
      "text/plain": [
       "Aplicaciones de creación, como photoshop o illustrator                                                            1.25\n",
       "Aplicaciones de trabajo como office y demás                                                                       1.25\n",
       "Apps de lectura                                                                                                   1.25\n",
       "Bases datos profesionales                                                                                         1.25\n",
       "Cad                                                                                                               1.25\n",
       "Correo electrónico                                                                                                1.25\n",
       "E-mail                                                                                                            1.25\n",
       "Editor de fotos                                                                                                   1.25\n",
       "Editores de codigo                                                                                                1.25\n",
       "Editores de texto                                                                                                 1.25\n",
       "Email                                                                                                             2.50\n",
       "Fortnite                                                                                                          1.25\n",
       "GAMES                                                                                                             1.25\n",
       "Games                                                                                                            12.50\n",
       "IDEs                                                                                                              1.25\n",
       "IDEs de desarrollo                                                                                                1.25\n",
       "J'utlise l'ordinateur pour recopier mes cours                                                                     1.25\n",
       "Juegos                                                                                                            3.75\n",
       "Libro electrónico                                                                                                 1.25\n",
       "News                                                                                                              1.25\n",
       "News websites, reading                                                                                            1.25\n",
       "Office                                                                                                            1.25\n",
       "Ofimática                                                                                                         1.25\n",
       "Online videogames                                                                                                 1.25\n",
       "Paginas de internet                                                                                               1.25\n",
       "Programas de edición de fotografías y vídeo                                                                       1.25\n",
       "Propias de mi trabajo                                                                                             1.25\n",
       "Reading media: news, books, magazines, etc.                                                                       1.25\n",
       "Surfing                                                                                                           1.25\n",
       "Trabajo                                                                                                           1.25\n",
       "                                                                                                                 ...  \n",
       "Traitement de texte                                                                                               1.25\n",
       "Traitements de texte                                                                                              1.25\n",
       "Videojuegos                                                                                                       3.75\n",
       "Videojuegos, lectura, climatologia                                                                                1.25\n",
       "Web Browser, Kindle                                                                                               1.25\n",
       "Work apps                                                                                                         1.25\n",
       "Work/office software                                                                                              1.25\n",
       "app educativas                                                                                                    1.25\n",
       "carrot rewards                                                                                                    1.25\n",
       "email                                                                                                             1.25\n",
       "facebook,whatsapp,intagram, google, youtube.                                                                      1.25\n",
       "game                                                                                                              1.25\n",
       "games                                                                                                             2.50\n",
       "gestores bibliográficos                                                                                           1.25\n",
       "izap4u, radio en ligne                                                                                            1.25\n",
       "juegos                                                                                                            2.50\n",
       "juegos, entrenamiento                                                                                             1.25\n",
       "linkedin                                                                                                          1.25\n",
       "offline projects                                                                                                  1.25\n",
       "photoshop, premiere, after effects                                                                                1.25\n",
       "productivity software                                                                                             1.25\n",
       "redes y videos                                                                                                    1.25\n",
       "sales sites, and research sites                                                                                   1.25\n",
       "video games (mobile, P.C.)                                                                                        1.25\n",
       "website devouted to a specific subject (e.g. news, fansites, lifestyle ect.) Also, I use the web for research     1.25\n",
       "wordprocessing/email                                                                                              1.25\n",
       "work                                                                                                              3.75\n",
       "work related                                                                                                      1.25\n",
       "work related tools such as mls and research                                                                       1.25\n",
       "zazzle                                                                                                            1.25\n",
       "Name: ¿Qué tipo de aplicaciones utilizas en tu ordenador/tableta/móvil? (Respuesta múltiple) [Otro], Length: 62, dtype: float64"
      ]
     },
     "metadata": {},
     "output_type": "display_data"
    },
    {
     "name": "stdout",
     "output_type": "stream",
     "text": [
      "Describiendo la pregunta Durante ese uso, ¿cuántas imágenes consumes (ves y compartes)?\n"
     ]
    },
    {
     "data": {
      "text/plain": [
       "count              767\n",
       "unique               5\n",
       "top       4. Bastantes\n",
       "freq               391\n",
       "Name: Durante ese uso, ¿cuántas imágenes consumes (ves y compartes)?, dtype: object"
      ]
     },
     "metadata": {},
     "output_type": "display_data"
    },
    {
     "name": "stdout",
     "output_type": "stream",
     "text": [
      "Conteo de cada valor en Durante ese uso, ¿cuántas imágenes consumes (ves y compartes)? expresada como valor / cantidad\n"
     ]
    },
    {
     "data": {
      "text/plain": [
       "1. Ninguna                                         8\n",
       "2. Pocas                                          62\n",
       "3. Ni muchas ni pocas                            135\n",
       "4. Bastantes                                     391\n",
       "5. Recibo y envio imágenes de forma constante    171\n",
       "Name: Durante ese uso, ¿cuántas imágenes consumes (ves y compartes)?, dtype: int64"
      ]
     },
     "metadata": {},
     "output_type": "display_data"
    },
    {
     "name": "stdout",
     "output_type": "stream",
     "text": [
      "Porcentaje de cada valor en Durante ese uso, ¿cuántas imágenes consumes (ves y compartes)? expresado como valor / porcentaje\n"
     ]
    },
    {
     "data": {
      "text/plain": [
       "1. Ninguna                                        1.04\n",
       "2. Pocas                                          8.08\n",
       "3. Ni muchas ni pocas                            17.60\n",
       "4. Bastantes                                     50.98\n",
       "5. Recibo y envio imágenes de forma constante    22.29\n",
       "Name: Durante ese uso, ¿cuántas imágenes consumes (ves y compartes)?, dtype: float64"
      ]
     },
     "metadata": {},
     "output_type": "display_data"
    },
    {
     "data": {
      "application/vnd.plotly.v1+json": {
       "config": {
        "linkText": "Export to plot.ly",
        "plotlyServerURL": "https://plot.ly",
        "showLink": false
       },
       "data": [
        {
         "marker": {
          "color": [
           "rgb(213,62,79)",
           "rgb(252,141,89)",
           "rgb(254,224,139)",
           "rgb(230,245,152)",
           "rgb(153,213,148)",
           "rgb(50,136,189)"
          ]
         },
         "type": "bar",
         "uid": "d1ffeeaf-0e53-43cc-861f-9e8f1432b867",
         "x": [
          "1. Ninguna",
          "2. Pocas",
          "3. Ni muchas ni pocas",
          "4. Bastantes",
          "5. Recibo y envio imágenes de forma constante"
         ],
         "y": [
          8,
          62,
          135,
          391,
          171
         ]
        }
       ],
       "layout": {}
      },
      "text/html": [
       "<div id=\"a7249726-16fc-40ae-9e83-6dded3e3e6ad\" style=\"height: 525px; width: 100%;\" class=\"plotly-graph-div\"></div><script type=\"text/javascript\">require([\"plotly\"], function(Plotly) { window.PLOTLYENV=window.PLOTLYENV || {};window.PLOTLYENV.BASE_URL=\"https://plot.ly\";\n",
       "if (document.getElementById(\"a7249726-16fc-40ae-9e83-6dded3e3e6ad\")) {\n",
       "    Plotly.newPlot(\"a7249726-16fc-40ae-9e83-6dded3e3e6ad\", [{\"marker\": {\"color\": [\"rgb(213,62,79)\", \"rgb(252,141,89)\", \"rgb(254,224,139)\", \"rgb(230,245,152)\", \"rgb(153,213,148)\", \"rgb(50,136,189)\"]}, \"x\": [\"1. Ninguna\", \"2. Pocas\", \"3. Ni muchas ni pocas\", \"4. Bastantes\", \"5. Recibo y envio im\\u00e1genes de forma constante\"], \"y\": [8, 62, 135, 391, 171], \"type\": \"bar\", \"uid\": \"e2fdb642-d377-49d6-8e2c-814c5a284e45\"}], {}, {\"showLink\": false, \"linkText\": \"Export to plot.ly\", \"plotlyServerURL\": \"https://plot.ly\"}); \n",
       "}\n",
       "});</script><script type=\"text/javascript\">window.addEventListener(\"resize\", function(){if (document.getElementById(\"a7249726-16fc-40ae-9e83-6dded3e3e6ad\")) {window._Plotly.Plots.resize(document.getElementById(\"a7249726-16fc-40ae-9e83-6dded3e3e6ad\"));};})</script>"
      ],
      "text/vnd.plotly.v1+html": [
       "<div id=\"a7249726-16fc-40ae-9e83-6dded3e3e6ad\" style=\"height: 525px; width: 100%;\" class=\"plotly-graph-div\"></div><script type=\"text/javascript\">require([\"plotly\"], function(Plotly) { window.PLOTLYENV=window.PLOTLYENV || {};window.PLOTLYENV.BASE_URL=\"https://plot.ly\";\n",
       "if (document.getElementById(\"a7249726-16fc-40ae-9e83-6dded3e3e6ad\")) {\n",
       "    Plotly.newPlot(\"a7249726-16fc-40ae-9e83-6dded3e3e6ad\", [{\"marker\": {\"color\": [\"rgb(213,62,79)\", \"rgb(252,141,89)\", \"rgb(254,224,139)\", \"rgb(230,245,152)\", \"rgb(153,213,148)\", \"rgb(50,136,189)\"]}, \"x\": [\"1. Ninguna\", \"2. Pocas\", \"3. Ni muchas ni pocas\", \"4. Bastantes\", \"5. Recibo y envio im\\u00e1genes de forma constante\"], \"y\": [8, 62, 135, 391, 171], \"type\": \"bar\", \"uid\": \"e2fdb642-d377-49d6-8e2c-814c5a284e45\"}], {}, {\"showLink\": false, \"linkText\": \"Export to plot.ly\", \"plotlyServerURL\": \"https://plot.ly\"}); \n",
       "}\n",
       "});</script><script type=\"text/javascript\">window.addEventListener(\"resize\", function(){if (document.getElementById(\"a7249726-16fc-40ae-9e83-6dded3e3e6ad\")) {window._Plotly.Plots.resize(document.getElementById(\"a7249726-16fc-40ae-9e83-6dded3e3e6ad\"));};})</script>"
      ]
     },
     "metadata": {},
     "output_type": "display_data"
    },
    {
     "name": "stdout",
     "output_type": "stream",
     "text": [
      "Describiendo la pregunta ¿Cuál es tu herramienta habitual de consumo de imágenes?\n"
     ]
    },
    {
     "data": {
      "text/plain": [
       "count          767\n",
       "unique           5\n",
       "top       1. Móvil\n",
       "freq           422\n",
       "Name: ¿Cuál es tu herramienta habitual de consumo de imágenes?, dtype: object"
      ]
     },
     "metadata": {},
     "output_type": "display_data"
    },
    {
     "name": "stdout",
     "output_type": "stream",
     "text": [
      "Conteo de cada valor en ¿Cuál es tu herramienta habitual de consumo de imágenes? expresada como valor / cantidad\n"
     ]
    },
    {
     "data": {
      "text/plain": [
       "1. Móvil                                                           422\n",
       "2. Televisión                                                       51\n",
       "3. Ordenador                                                       264\n",
       "4. Tableta                                                          29\n",
       "5. Otros (Libros y periódicos en papel, marquesinas, museos...)      1\n",
       "Name: ¿Cuál es tu herramienta habitual de consumo de imágenes?, dtype: int64"
      ]
     },
     "metadata": {},
     "output_type": "display_data"
    },
    {
     "name": "stdout",
     "output_type": "stream",
     "text": [
      "Porcentaje de cada valor en ¿Cuál es tu herramienta habitual de consumo de imágenes? expresado como valor / porcentaje\n"
     ]
    },
    {
     "data": {
      "text/plain": [
       "1. Móvil                                                           55.02\n",
       "2. Televisión                                                       6.65\n",
       "3. Ordenador                                                       34.42\n",
       "4. Tableta                                                          3.78\n",
       "5. Otros (Libros y periódicos en papel, marquesinas, museos...)     0.13\n",
       "Name: ¿Cuál es tu herramienta habitual de consumo de imágenes?, dtype: float64"
      ]
     },
     "metadata": {},
     "output_type": "display_data"
    },
    {
     "data": {
      "application/vnd.plotly.v1+json": {
       "config": {
        "linkText": "Export to plot.ly",
        "plotlyServerURL": "https://plot.ly",
        "showLink": false
       },
       "data": [
        {
         "marker": {
          "color": [
           "rgb(213,62,79)",
           "rgb(252,141,89)",
           "rgb(254,224,139)",
           "rgb(230,245,152)",
           "rgb(153,213,148)",
           "rgb(50,136,189)"
          ]
         },
         "type": "bar",
         "uid": "e4889f0a-31bd-44df-8fdc-056b7d410775",
         "x": [
          "1. Móvil",
          "2. Televisión",
          "3. Ordenador",
          "4. Tableta",
          "5. Otros (Libros y periódicos en papel, marquesinas, museos...)"
         ],
         "y": [
          422,
          51,
          264,
          29,
          1
         ]
        }
       ],
       "layout": {}
      },
      "text/html": [
       "<div id=\"7ee1b0ee-83f8-4a5b-b545-f237d6855d72\" style=\"height: 525px; width: 100%;\" class=\"plotly-graph-div\"></div><script type=\"text/javascript\">require([\"plotly\"], function(Plotly) { window.PLOTLYENV=window.PLOTLYENV || {};window.PLOTLYENV.BASE_URL=\"https://plot.ly\";\n",
       "if (document.getElementById(\"7ee1b0ee-83f8-4a5b-b545-f237d6855d72\")) {\n",
       "    Plotly.newPlot(\"7ee1b0ee-83f8-4a5b-b545-f237d6855d72\", [{\"marker\": {\"color\": [\"rgb(213,62,79)\", \"rgb(252,141,89)\", \"rgb(254,224,139)\", \"rgb(230,245,152)\", \"rgb(153,213,148)\", \"rgb(50,136,189)\"]}, \"x\": [\"1. M\\u00f3vil\", \"2. Televisi\\u00f3n\", \"3. Ordenador\", \"4. Tableta\", \"5. Otros (Libros y peri\\u00f3dicos en papel, marquesinas, museos...)\"], \"y\": [422, 51, 264, 29, 1], \"type\": \"bar\", \"uid\": \"77370bfa-5ad3-423d-87d5-1d6f768f4ef0\"}], {}, {\"showLink\": false, \"linkText\": \"Export to plot.ly\", \"plotlyServerURL\": \"https://plot.ly\"}); \n",
       "}\n",
       "});</script><script type=\"text/javascript\">window.addEventListener(\"resize\", function(){if (document.getElementById(\"7ee1b0ee-83f8-4a5b-b545-f237d6855d72\")) {window._Plotly.Plots.resize(document.getElementById(\"7ee1b0ee-83f8-4a5b-b545-f237d6855d72\"));};})</script>"
      ],
      "text/vnd.plotly.v1+html": [
       "<div id=\"7ee1b0ee-83f8-4a5b-b545-f237d6855d72\" style=\"height: 525px; width: 100%;\" class=\"plotly-graph-div\"></div><script type=\"text/javascript\">require([\"plotly\"], function(Plotly) { window.PLOTLYENV=window.PLOTLYENV || {};window.PLOTLYENV.BASE_URL=\"https://plot.ly\";\n",
       "if (document.getElementById(\"7ee1b0ee-83f8-4a5b-b545-f237d6855d72\")) {\n",
       "    Plotly.newPlot(\"7ee1b0ee-83f8-4a5b-b545-f237d6855d72\", [{\"marker\": {\"color\": [\"rgb(213,62,79)\", \"rgb(252,141,89)\", \"rgb(254,224,139)\", \"rgb(230,245,152)\", \"rgb(153,213,148)\", \"rgb(50,136,189)\"]}, \"x\": [\"1. M\\u00f3vil\", \"2. Televisi\\u00f3n\", \"3. Ordenador\", \"4. Tableta\", \"5. Otros (Libros y peri\\u00f3dicos en papel, marquesinas, museos...)\"], \"y\": [422, 51, 264, 29, 1], \"type\": \"bar\", \"uid\": \"77370bfa-5ad3-423d-87d5-1d6f768f4ef0\"}], {}, {\"showLink\": false, \"linkText\": \"Export to plot.ly\", \"plotlyServerURL\": \"https://plot.ly\"}); \n",
       "}\n",
       "});</script><script type=\"text/javascript\">window.addEventListener(\"resize\", function(){if (document.getElementById(\"7ee1b0ee-83f8-4a5b-b545-f237d6855d72\")) {window._Plotly.Plots.resize(document.getElementById(\"7ee1b0ee-83f8-4a5b-b545-f237d6855d72\"));};})</script>"
      ]
     },
     "metadata": {},
     "output_type": "display_data"
    },
    {
     "name": "stdout",
     "output_type": "stream",
     "text": [
      "Describiendo la pregunta ¿Cada cuánto tiempo consumes imágenes?\n"
     ]
    },
    {
     "data": {
      "text/plain": [
       "count             767\n",
       "unique              4\n",
       "top       4. A diario\n",
       "freq              433\n",
       "Name: ¿Cada cuánto tiempo consumes imágenes?, dtype: object"
      ]
     },
     "metadata": {},
     "output_type": "display_data"
    },
    {
     "name": "stdout",
     "output_type": "stream",
     "text": [
      "Conteo de cada valor en ¿Cada cuánto tiempo consumes imágenes? expresada como valor / cantidad\n"
     ]
    },
    {
     "data": {
      "text/plain": [
       "1. Nunca                           13\n",
       "2. Dos o tres veces por semana    101\n",
       "3. Casi todos los días            220\n",
       "4. A diario                       433\n",
       "Name: ¿Cada cuánto tiempo consumes imágenes?, dtype: int64"
      ]
     },
     "metadata": {},
     "output_type": "display_data"
    },
    {
     "name": "stdout",
     "output_type": "stream",
     "text": [
      "Porcentaje de cada valor en ¿Cada cuánto tiempo consumes imágenes? expresado como valor / porcentaje\n"
     ]
    },
    {
     "data": {
      "text/plain": [
       "1. Nunca                           1.69\n",
       "2. Dos o tres veces por semana    13.17\n",
       "3. Casi todos los días            28.68\n",
       "4. A diario                       56.45\n",
       "Name: ¿Cada cuánto tiempo consumes imágenes?, dtype: float64"
      ]
     },
     "metadata": {},
     "output_type": "display_data"
    },
    {
     "data": {
      "application/vnd.plotly.v1+json": {
       "config": {
        "linkText": "Export to plot.ly",
        "plotlyServerURL": "https://plot.ly",
        "showLink": false
       },
       "data": [
        {
         "marker": {
          "color": [
           "rgb(213,62,79)",
           "rgb(252,141,89)",
           "rgb(254,224,139)",
           "rgb(230,245,152)",
           "rgb(153,213,148)",
           "rgb(50,136,189)"
          ]
         },
         "type": "bar",
         "uid": "a61efb6d-2a65-4351-a153-222bd7c49bab",
         "x": [
          "1. Nunca",
          "2. Dos o tres veces por semana",
          "3. Casi todos los días",
          "4. A diario"
         ],
         "y": [
          13,
          101,
          220,
          433
         ]
        }
       ],
       "layout": {}
      },
      "text/html": [
       "<div id=\"30191223-d554-426c-a6be-90c757312fc0\" style=\"height: 525px; width: 100%;\" class=\"plotly-graph-div\"></div><script type=\"text/javascript\">require([\"plotly\"], function(Plotly) { window.PLOTLYENV=window.PLOTLYENV || {};window.PLOTLYENV.BASE_URL=\"https://plot.ly\";\n",
       "if (document.getElementById(\"30191223-d554-426c-a6be-90c757312fc0\")) {\n",
       "    Plotly.newPlot(\"30191223-d554-426c-a6be-90c757312fc0\", [{\"marker\": {\"color\": [\"rgb(213,62,79)\", \"rgb(252,141,89)\", \"rgb(254,224,139)\", \"rgb(230,245,152)\", \"rgb(153,213,148)\", \"rgb(50,136,189)\"]}, \"x\": [\"1. Nunca\", \"2. Dos o tres veces por semana\", \"3. Casi todos los d\\u00edas\", \"4. A diario\"], \"y\": [13, 101, 220, 433], \"type\": \"bar\", \"uid\": \"c31a647c-c6a0-476a-bcc1-400124575f76\"}], {}, {\"showLink\": false, \"linkText\": \"Export to plot.ly\", \"plotlyServerURL\": \"https://plot.ly\"}); \n",
       "}\n",
       "});</script><script type=\"text/javascript\">window.addEventListener(\"resize\", function(){if (document.getElementById(\"30191223-d554-426c-a6be-90c757312fc0\")) {window._Plotly.Plots.resize(document.getElementById(\"30191223-d554-426c-a6be-90c757312fc0\"));};})</script>"
      ],
      "text/vnd.plotly.v1+html": [
       "<div id=\"30191223-d554-426c-a6be-90c757312fc0\" style=\"height: 525px; width: 100%;\" class=\"plotly-graph-div\"></div><script type=\"text/javascript\">require([\"plotly\"], function(Plotly) { window.PLOTLYENV=window.PLOTLYENV || {};window.PLOTLYENV.BASE_URL=\"https://plot.ly\";\n",
       "if (document.getElementById(\"30191223-d554-426c-a6be-90c757312fc0\")) {\n",
       "    Plotly.newPlot(\"30191223-d554-426c-a6be-90c757312fc0\", [{\"marker\": {\"color\": [\"rgb(213,62,79)\", \"rgb(252,141,89)\", \"rgb(254,224,139)\", \"rgb(230,245,152)\", \"rgb(153,213,148)\", \"rgb(50,136,189)\"]}, \"x\": [\"1. Nunca\", \"2. Dos o tres veces por semana\", \"3. Casi todos los d\\u00edas\", \"4. A diario\"], \"y\": [13, 101, 220, 433], \"type\": \"bar\", \"uid\": \"c31a647c-c6a0-476a-bcc1-400124575f76\"}], {}, {\"showLink\": false, \"linkText\": \"Export to plot.ly\", \"plotlyServerURL\": \"https://plot.ly\"}); \n",
       "}\n",
       "});</script><script type=\"text/javascript\">window.addEventListener(\"resize\", function(){if (document.getElementById(\"30191223-d554-426c-a6be-90c757312fc0\")) {window._Plotly.Plots.resize(document.getElementById(\"30191223-d554-426c-a6be-90c757312fc0\"));};})</script>"
      ]
     },
     "metadata": {},
     "output_type": "display_data"
    }
   ],
   "source": [
    "visualize_reception_images_all_esp(dataframe_all_esp)"
   ]
  },
  {
   "cell_type": "code",
   "execution_count": 8,
   "metadata": {
    "scrolled": false
   },
   "outputs": [],
   "source": [
    "# visualize_reception_images_all_en(dataframe_all_en)"
   ]
  }
 ],
 "metadata": {
  "kernelspec": {
   "display_name": "Python 3",
   "language": "python",
   "name": "python3"
  },
  "language_info": {
   "codemirror_mode": {
    "name": "ipython",
    "version": 3
   },
   "file_extension": ".py",
   "mimetype": "text/x-python",
   "name": "python",
   "nbconvert_exporter": "python",
   "pygments_lexer": "ipython3",
   "version": "3.6.8"
  }
 },
 "nbformat": 4,
 "nbformat_minor": 2
}

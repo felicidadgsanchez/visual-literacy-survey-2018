{
 "cells": [
  {
   "cell_type": "code",
   "execution_count": 1,
   "metadata": {},
   "outputs": [
    {
     "name": "stdout",
     "output_type": "stream",
     "text": [
      "Importing Jupyter notebook from data_preparation.ipynb\n",
      "Importing Jupyter notebook from cultural_clustering.ipynb\n"
     ]
    }
   ],
   "source": [
    "import nbimporter\n",
    "from data_preparation import *\n",
    "from cultural_clustering import * "
   ]
  },
  {
   "cell_type": "code",
   "execution_count": 2,
   "metadata": {},
   "outputs": [
    {
     "data": {
      "text/html": [
       "<script type=\"text/javascript\">window.PlotlyConfig = {MathJaxConfig: 'local'};</script><script type=\"text/javascript\">if (window.MathJax) {MathJax.Hub.Config({SVG: {font: \"STIX-Web\"}});}</script><script>requirejs.config({paths: { 'plotly': ['https://cdn.plot.ly/plotly-latest.min']},});if(!window._Plotly) {require(['plotly'],function(plotly) {window._Plotly=plotly;});}</script>"
      ],
      "text/vnd.plotly.v1+html": [
       "<script type=\"text/javascript\">window.PlotlyConfig = {MathJaxConfig: 'local'};</script><script type=\"text/javascript\">if (window.MathJax) {MathJax.Hub.Config({SVG: {font: \"STIX-Web\"}});}</script><script>requirejs.config({paths: { 'plotly': ['https://cdn.plot.ly/plotly-latest.min']},});if(!window._Plotly) {require(['plotly'],function(plotly) {window._Plotly=plotly;});}</script>"
      ]
     },
     "metadata": {},
     "output_type": "display_data"
    }
   ],
   "source": [
    "import matplotlib.pyplot as plt\n",
    "plt.style.use('fivethirtyeight')\n",
    "import colorlover as cl\n",
    "import plotly_express as px\n",
    "\n",
    "from plotly.offline import download_plotlyjs, init_notebook_mode, plot, iplot\n",
    "import plotly.graph_objs as go\n",
    "init_notebook_mode(connected=True)"
   ]
  },
  {
   "cell_type": "code",
   "execution_count": 3,
   "metadata": {},
   "outputs": [
    {
     "name": "stderr",
     "output_type": "stream",
     "text": [
      "cultural_clustering.ipynb:17: DataConversionWarning:\n",
      "\n",
      "Data with input dtype int64, float64 were all converted to float64 by the scale function.\n",
      "\n"
     ]
    },
    {
     "data": {
      "text/html": [
       "<div>\n",
       "<style scoped>\n",
       "    .dataframe tbody tr th:only-of-type {\n",
       "        vertical-align: middle;\n",
       "    }\n",
       "\n",
       "    .dataframe tbody tr th {\n",
       "        vertical-align: top;\n",
       "    }\n",
       "\n",
       "    .dataframe thead th {\n",
       "        text-align: right;\n",
       "    }\n",
       "</style>\n",
       "<table border=\"1\" class=\"dataframe\">\n",
       "  <thead>\n",
       "    <tr style=\"text-align: right;\">\n",
       "      <th></th>\n",
       "      <th>Al reutilizar una imagen, ¿crees puedes redefinir el mensaje que el emisor ha pensado?</th>\n",
       "      <th>Cuando compartes imágenes en redes sociales, ¿las acompañas de texto siguiendo las indicaciones que te sugieren las aplicaciones (etiquetado, explicación de la imagen, texto inspirador, etc.)?</th>\n",
       "      <th>Cuando haces fotos desde cualquiera de los medios a tu alcance, ¿te facilitan el proceso las opciones que te ofrecen las aplicaciones (filtros, recortes, edición mediante grafismo, etc.)?</th>\n",
       "      <th>Cuando usas redes sociales, ¿consideras que ser aceptado como miembro de un grupo es más importante que tener autonomía e independencia?</th>\n",
       "      <th>En alguna ocasión, aún estando preparado para ello, ¿has dejado de incorporar imágenes en tus mensajes en redes sociales, aplicaciones móviles, etc., porque no entiendes cómo hacerlo?</th>\n",
       "      <th>¿Conoces autores/as que trabajen produciendo imágenes?</th>\n",
       "      <th>¿Crees que en la creacción de imágenes trabajan más mujeres, u hombres?</th>\n",
       "      <th>¿Crees que las imágenes producidas por hombres son diferentes a las que hacen mujeres?</th>\n",
       "      <th>¿Te gusta seguir a personas que admiras en redes sociales? ¿Eres fan o follower de alguna? ¿En ocasiones escribes comentarios en sus publicaciones?</th>\n",
       "      <th>Clasifica tu grado de visión</th>\n",
       "      <th>...</th>\n",
       "      <th>¿Qué tipo de aplicaciones utilizas en tu ordenador/tableta/móvil? (Respuesta múltiple) [1. Apps de contenidos audiovisuales (Netflix, HBO, etc.)]</th>\n",
       "      <th>¿Qué tipo de aplicaciones utilizas en tu ordenador/tableta/móvil? (Respuesta múltiple) [2. Aplicaciones de mensajería (Whatsapp, Facebook Messenger, etc.)]</th>\n",
       "      <th>¿Qué tipo de aplicaciones utilizas en tu ordenador/tableta/móvil? (Respuesta múltiple) [3. Bibliotecas de fotos online (Google Photos, iPhoto, etc.)]</th>\n",
       "      <th>¿Qué tipo de aplicaciones utilizas en tu ordenador/tableta/móvil? (Respuesta múltiple) [4. Redes sociales (Facebook, Instagram, Twitter, etc.).]</th>\n",
       "      <th>¿Qué tipo de aplicaciones utilizas en tu ordenador/tableta/móvil? (Respuesta múltiple) [5. Aplicaciones de vídeo (Youtube, Vimeo, etc.).]</th>\n",
       "      <th>¿Repites las imágenes hasta conseguir el resultado esperado?</th>\n",
       "      <th>¿Tienes acceso a dispositivos (ordenador, móvil, tablet, etc.) conectados a Internet habitualmente?</th>\n",
       "      <th>¿Tienes alguna carencia visual que afecte a la recepción de formas, colores, distancias, etc.?</th>\n",
       "      <th>¿Utilizas gafas o lentes de contacto?</th>\n",
       "      <th>cultural_cluster</th>\n",
       "    </tr>\n",
       "  </thead>\n",
       "  <tbody>\n",
       "    <tr>\n",
       "      <th>0</th>\n",
       "      <td>1</td>\n",
       "      <td>1</td>\n",
       "      <td>3</td>\n",
       "      <td>1</td>\n",
       "      <td>2</td>\n",
       "      <td>0</td>\n",
       "      <td>3</td>\n",
       "      <td>1</td>\n",
       "      <td>3</td>\n",
       "      <td>3</td>\n",
       "      <td>...</td>\n",
       "      <td>1</td>\n",
       "      <td>1</td>\n",
       "      <td>1</td>\n",
       "      <td>1</td>\n",
       "      <td>1</td>\n",
       "      <td>1</td>\n",
       "      <td>5</td>\n",
       "      <td>0</td>\n",
       "      <td>1</td>\n",
       "      <td>2</td>\n",
       "    </tr>\n",
       "    <tr>\n",
       "      <th>1</th>\n",
       "      <td>1</td>\n",
       "      <td>3</td>\n",
       "      <td>3</td>\n",
       "      <td>2</td>\n",
       "      <td>3</td>\n",
       "      <td>0</td>\n",
       "      <td>3</td>\n",
       "      <td>0</td>\n",
       "      <td>1</td>\n",
       "      <td>3</td>\n",
       "      <td>...</td>\n",
       "      <td>1</td>\n",
       "      <td>1</td>\n",
       "      <td>0</td>\n",
       "      <td>0</td>\n",
       "      <td>1</td>\n",
       "      <td>0</td>\n",
       "      <td>5</td>\n",
       "      <td>0</td>\n",
       "      <td>1</td>\n",
       "      <td>2</td>\n",
       "    </tr>\n",
       "    <tr>\n",
       "      <th>2</th>\n",
       "      <td>1</td>\n",
       "      <td>3</td>\n",
       "      <td>5</td>\n",
       "      <td>2</td>\n",
       "      <td>2</td>\n",
       "      <td>1</td>\n",
       "      <td>2</td>\n",
       "      <td>1</td>\n",
       "      <td>3</td>\n",
       "      <td>4</td>\n",
       "      <td>...</td>\n",
       "      <td>1</td>\n",
       "      <td>1</td>\n",
       "      <td>1</td>\n",
       "      <td>1</td>\n",
       "      <td>1</td>\n",
       "      <td>1</td>\n",
       "      <td>5</td>\n",
       "      <td>0</td>\n",
       "      <td>1</td>\n",
       "      <td>1</td>\n",
       "    </tr>\n",
       "    <tr>\n",
       "      <th>3</th>\n",
       "      <td>1</td>\n",
       "      <td>5</td>\n",
       "      <td>5</td>\n",
       "      <td>2</td>\n",
       "      <td>1</td>\n",
       "      <td>1</td>\n",
       "      <td>4</td>\n",
       "      <td>1</td>\n",
       "      <td>3</td>\n",
       "      <td>4</td>\n",
       "      <td>...</td>\n",
       "      <td>0</td>\n",
       "      <td>1</td>\n",
       "      <td>1</td>\n",
       "      <td>1</td>\n",
       "      <td>1</td>\n",
       "      <td>1</td>\n",
       "      <td>5</td>\n",
       "      <td>0</td>\n",
       "      <td>1</td>\n",
       "      <td>1</td>\n",
       "    </tr>\n",
       "    <tr>\n",
       "      <th>4</th>\n",
       "      <td>3</td>\n",
       "      <td>4</td>\n",
       "      <td>3</td>\n",
       "      <td>2</td>\n",
       "      <td>1</td>\n",
       "      <td>0</td>\n",
       "      <td>4</td>\n",
       "      <td>0</td>\n",
       "      <td>2</td>\n",
       "      <td>4</td>\n",
       "      <td>...</td>\n",
       "      <td>0</td>\n",
       "      <td>1</td>\n",
       "      <td>0</td>\n",
       "      <td>1</td>\n",
       "      <td>1</td>\n",
       "      <td>1</td>\n",
       "      <td>5</td>\n",
       "      <td>0</td>\n",
       "      <td>1</td>\n",
       "      <td>1</td>\n",
       "    </tr>\n",
       "  </tbody>\n",
       "</table>\n",
       "<p>5 rows × 79 columns</p>\n",
       "</div>"
      ],
      "text/plain": [
       "   Al reutilizar una imagen, ¿crees puedes redefinir el mensaje que el emisor ha pensado?  \\\n",
       "0                                                  1                                        \n",
       "1                                                  1                                        \n",
       "2                                                  1                                        \n",
       "3                                                  1                                        \n",
       "4                                                  3                                        \n",
       "\n",
       "   Cuando compartes imágenes en redes sociales, ¿las acompañas de texto siguiendo las indicaciones que te sugieren las aplicaciones (etiquetado, explicación de la imagen, texto inspirador, etc.)?  \\\n",
       "0                                                  1                                                                                                                                                  \n",
       "1                                                  3                                                                                                                                                  \n",
       "2                                                  3                                                                                                                                                  \n",
       "3                                                  5                                                                                                                                                  \n",
       "4                                                  4                                                                                                                                                  \n",
       "\n",
       "   Cuando haces fotos desde cualquiera de los medios a tu alcance, ¿te facilitan el proceso las opciones que te ofrecen las aplicaciones (filtros, recortes, edición mediante grafismo, etc.)?  \\\n",
       "0                                                  3                                                                                                                                             \n",
       "1                                                  3                                                                                                                                             \n",
       "2                                                  5                                                                                                                                             \n",
       "3                                                  5                                                                                                                                             \n",
       "4                                                  3                                                                                                                                             \n",
       "\n",
       "   Cuando usas redes sociales, ¿consideras que ser aceptado como miembro de un grupo es más importante que tener autonomía e independencia?  \\\n",
       "0                                                  1                                                                                          \n",
       "1                                                  2                                                                                          \n",
       "2                                                  2                                                                                          \n",
       "3                                                  2                                                                                          \n",
       "4                                                  2                                                                                          \n",
       "\n",
       "   En alguna ocasión, aún estando preparado para ello, ¿has dejado de incorporar imágenes en tus mensajes en redes sociales, aplicaciones móviles, etc., porque no entiendes cómo hacerlo?  \\\n",
       "0                                                  2                                                                                                                                         \n",
       "1                                                  3                                                                                                                                         \n",
       "2                                                  2                                                                                                                                         \n",
       "3                                                  1                                                                                                                                         \n",
       "4                                                  1                                                                                                                                         \n",
       "\n",
       "   ¿Conoces autores/as que trabajen produciendo imágenes?  \\\n",
       "0                                                  0        \n",
       "1                                                  0        \n",
       "2                                                  1        \n",
       "3                                                  1        \n",
       "4                                                  0        \n",
       "\n",
       "   ¿Crees que en la creacción de imágenes trabajan más mujeres, u hombres?  \\\n",
       "0                                                  3                         \n",
       "1                                                  3                         \n",
       "2                                                  2                         \n",
       "3                                                  4                         \n",
       "4                                                  4                         \n",
       "\n",
       "   ¿Crees que las imágenes producidas por hombres son diferentes a las que hacen mujeres?  \\\n",
       "0                                                  1                                        \n",
       "1                                                  0                                        \n",
       "2                                                  1                                        \n",
       "3                                                  1                                        \n",
       "4                                                  0                                        \n",
       "\n",
       "   ¿Te gusta seguir a personas que admiras en redes sociales? ¿Eres fan o follower de alguna? ¿En ocasiones escribes comentarios en sus publicaciones?  \\\n",
       "0                                                  3                                                                                                     \n",
       "1                                                  1                                                                                                     \n",
       "2                                                  3                                                                                                     \n",
       "3                                                  3                                                                                                     \n",
       "4                                                  2                                                                                                     \n",
       "\n",
       "   Clasifica tu grado de visión        ...         \\\n",
       "0                             3        ...          \n",
       "1                             3        ...          \n",
       "2                             4        ...          \n",
       "3                             4        ...          \n",
       "4                             4        ...          \n",
       "\n",
       "   ¿Qué tipo de aplicaciones utilizas en tu ordenador/tableta/móvil? (Respuesta múltiple) [1. Apps de contenidos audiovisuales (Netflix, HBO, etc.)]  \\\n",
       "0                                                  1                                                                                                   \n",
       "1                                                  1                                                                                                   \n",
       "2                                                  1                                                                                                   \n",
       "3                                                  0                                                                                                   \n",
       "4                                                  0                                                                                                   \n",
       "\n",
       "   ¿Qué tipo de aplicaciones utilizas en tu ordenador/tableta/móvil? (Respuesta múltiple) [2. Aplicaciones de mensajería (Whatsapp, Facebook Messenger, etc.)]  \\\n",
       "0                                                  1                                                                                                             \n",
       "1                                                  1                                                                                                             \n",
       "2                                                  1                                                                                                             \n",
       "3                                                  1                                                                                                             \n",
       "4                                                  1                                                                                                             \n",
       "\n",
       "   ¿Qué tipo de aplicaciones utilizas en tu ordenador/tableta/móvil? (Respuesta múltiple) [3. Bibliotecas de fotos online (Google Photos, iPhoto, etc.)]  \\\n",
       "0                                                  1                                                                                                       \n",
       "1                                                  0                                                                                                       \n",
       "2                                                  1                                                                                                       \n",
       "3                                                  1                                                                                                       \n",
       "4                                                  0                                                                                                       \n",
       "\n",
       "   ¿Qué tipo de aplicaciones utilizas en tu ordenador/tableta/móvil? (Respuesta múltiple) [4. Redes sociales (Facebook, Instagram, Twitter, etc.).]  \\\n",
       "0                                                  1                                                                                                  \n",
       "1                                                  0                                                                                                  \n",
       "2                                                  1                                                                                                  \n",
       "3                                                  1                                                                                                  \n",
       "4                                                  1                                                                                                  \n",
       "\n",
       "   ¿Qué tipo de aplicaciones utilizas en tu ordenador/tableta/móvil? (Respuesta múltiple) [5. Aplicaciones de vídeo (Youtube, Vimeo, etc.).]  \\\n",
       "0                                                  1                                                                                           \n",
       "1                                                  1                                                                                           \n",
       "2                                                  1                                                                                           \n",
       "3                                                  1                                                                                           \n",
       "4                                                  1                                                                                           \n",
       "\n",
       "   ¿Repites las imágenes hasta conseguir el resultado esperado?  \\\n",
       "0                                                  1              \n",
       "1                                                  0              \n",
       "2                                                  1              \n",
       "3                                                  1              \n",
       "4                                                  1              \n",
       "\n",
       "   ¿Tienes acceso a dispositivos (ordenador, móvil, tablet, etc.) conectados a Internet habitualmente?  \\\n",
       "0                                                  5                                                     \n",
       "1                                                  5                                                     \n",
       "2                                                  5                                                     \n",
       "3                                                  5                                                     \n",
       "4                                                  5                                                     \n",
       "\n",
       "   ¿Tienes alguna carencia visual que afecte a la recepción de formas, colores, distancias, etc.?  \\\n",
       "0                                                  0                                                \n",
       "1                                                  0                                                \n",
       "2                                                  0                                                \n",
       "3                                                  0                                                \n",
       "4                                                  0                                                \n",
       "\n",
       "   ¿Utilizas gafas o lentes de contacto?  cultural_cluster  \n",
       "0                                      1                 2  \n",
       "1                                      1                 2  \n",
       "2                                      1                 1  \n",
       "3                                      1                 1  \n",
       "4                                      1                 1  \n",
       "\n",
       "[5 rows x 79 columns]"
      ]
     },
     "execution_count": 3,
     "metadata": {},
     "output_type": "execute_result"
    }
   ],
   "source": [
    "dataframe_with_clusters_esp = get_dataframe_with_clusters_esp(get_dataframe_analysis_esp(True), 40)\n",
    "dataframe_with_clusters_esp.head()"
   ]
  },
  {
   "cell_type": "code",
   "execution_count": 4,
   "metadata": {},
   "outputs": [
    {
     "name": "stderr",
     "output_type": "stream",
     "text": [
      "cultural_clustering.ipynb:17: DataConversionWarning:\n",
      "\n",
      "Data with input dtype int64, float64 were all converted to float64 by the scale function.\n",
      "\n"
     ]
    },
    {
     "data": {
      "text/html": [
       "<div>\n",
       "<style scoped>\n",
       "    .dataframe tbody tr th:only-of-type {\n",
       "        vertical-align: middle;\n",
       "    }\n",
       "\n",
       "    .dataframe tbody tr th {\n",
       "        vertical-align: top;\n",
       "    }\n",
       "\n",
       "    .dataframe thead th {\n",
       "        text-align: right;\n",
       "    }\n",
       "</style>\n",
       "<table border=\"1\" class=\"dataframe\">\n",
       "  <thead>\n",
       "    <tr style=\"text-align: right;\">\n",
       "      <th></th>\n",
       "      <th>By reusing an image, can you redefine the message that the sender has thought about?</th>\n",
       "      <th>Do you know authors who work producing images?</th>\n",
       "      <th>Do you like to follow people you admire in social networks? Are you a fan or follower of any of them? Do you sometimes write comments in their publications?</th>\n",
       "      <th>Do you think that images produced by men are different from those made by women?</th>\n",
       "      <th>Do you think that in the creation of images work more women, or men?</th>\n",
       "      <th>On the occasion, even being prepared for it, have you stopped attaching images in your messages in social networks, mobile applications, etc., because you do not understand how to do it?</th>\n",
       "      <th>When you share images on social networks, do the text companions follow the indications suggested by the applications (labeling, explanation of the image, inspiring text, etc.)?</th>\n",
       "      <th>When you take photos from any of the media at your fingertips, do the process facilitate the options offered by the applications (filter application, cuts, graphic editing, etc.)?</th>\n",
       "      <th>When you use social networks, do you consider that being accepted as a member of a group is more important than having autonomy and independence?</th>\n",
       "      <th>Age</th>\n",
       "      <th>...</th>\n",
       "      <th>Which of the paired images do you find most attractive? 1/2 2/2.2</th>\n",
       "      <th>Which of the paired images do you find most attractive? 1/2 2/2.3</th>\n",
       "      <th>Which of the paired images do you find most attractive? 1/2 2/2.4</th>\n",
       "      <th>With whom do you usually share images? [1. Friends]</th>\n",
       "      <th>With whom do you usually share images? [2. Family]</th>\n",
       "      <th>With whom do you usually share images? [3. Partners]</th>\n",
       "      <th>With whom do you usually share images? [4. With all my acquaintances]</th>\n",
       "      <th>With whom do you usually share images? [5. With nobody]</th>\n",
       "      <th>Within your social networks or mobile applications, do you see visual information that you are not looking for (social awareness campaigns, jokes, advertising, etc.)?</th>\n",
       "      <th>cultural_cluster</th>\n",
       "    </tr>\n",
       "  </thead>\n",
       "  <tbody>\n",
       "    <tr>\n",
       "      <th>0</th>\n",
       "      <td>1</td>\n",
       "      <td>0</td>\n",
       "      <td>3</td>\n",
       "      <td>1</td>\n",
       "      <td>3</td>\n",
       "      <td>2</td>\n",
       "      <td>1</td>\n",
       "      <td>3</td>\n",
       "      <td>1</td>\n",
       "      <td>37</td>\n",
       "      <td>...</td>\n",
       "      <td>2</td>\n",
       "      <td>2</td>\n",
       "      <td>2</td>\n",
       "      <td>1</td>\n",
       "      <td>1</td>\n",
       "      <td>0</td>\n",
       "      <td>0</td>\n",
       "      <td>0</td>\n",
       "      <td>4</td>\n",
       "      <td>2</td>\n",
       "    </tr>\n",
       "    <tr>\n",
       "      <th>1</th>\n",
       "      <td>1</td>\n",
       "      <td>0</td>\n",
       "      <td>1</td>\n",
       "      <td>0</td>\n",
       "      <td>3</td>\n",
       "      <td>3</td>\n",
       "      <td>3</td>\n",
       "      <td>3</td>\n",
       "      <td>2</td>\n",
       "      <td>62</td>\n",
       "      <td>...</td>\n",
       "      <td>2</td>\n",
       "      <td>2</td>\n",
       "      <td>2</td>\n",
       "      <td>1</td>\n",
       "      <td>1</td>\n",
       "      <td>0</td>\n",
       "      <td>0</td>\n",
       "      <td>0</td>\n",
       "      <td>5</td>\n",
       "      <td>2</td>\n",
       "    </tr>\n",
       "    <tr>\n",
       "      <th>2</th>\n",
       "      <td>1</td>\n",
       "      <td>1</td>\n",
       "      <td>3</td>\n",
       "      <td>1</td>\n",
       "      <td>2</td>\n",
       "      <td>2</td>\n",
       "      <td>3</td>\n",
       "      <td>5</td>\n",
       "      <td>2</td>\n",
       "      <td>28</td>\n",
       "      <td>...</td>\n",
       "      <td>1</td>\n",
       "      <td>2</td>\n",
       "      <td>2</td>\n",
       "      <td>1</td>\n",
       "      <td>1</td>\n",
       "      <td>0</td>\n",
       "      <td>0</td>\n",
       "      <td>0</td>\n",
       "      <td>4</td>\n",
       "      <td>1</td>\n",
       "    </tr>\n",
       "    <tr>\n",
       "      <th>3</th>\n",
       "      <td>1</td>\n",
       "      <td>1</td>\n",
       "      <td>3</td>\n",
       "      <td>1</td>\n",
       "      <td>4</td>\n",
       "      <td>1</td>\n",
       "      <td>5</td>\n",
       "      <td>5</td>\n",
       "      <td>2</td>\n",
       "      <td>31</td>\n",
       "      <td>...</td>\n",
       "      <td>2</td>\n",
       "      <td>2</td>\n",
       "      <td>1</td>\n",
       "      <td>1</td>\n",
       "      <td>1</td>\n",
       "      <td>1</td>\n",
       "      <td>0</td>\n",
       "      <td>0</td>\n",
       "      <td>1</td>\n",
       "      <td>1</td>\n",
       "    </tr>\n",
       "    <tr>\n",
       "      <th>4</th>\n",
       "      <td>3</td>\n",
       "      <td>0</td>\n",
       "      <td>2</td>\n",
       "      <td>0</td>\n",
       "      <td>4</td>\n",
       "      <td>1</td>\n",
       "      <td>4</td>\n",
       "      <td>3</td>\n",
       "      <td>2</td>\n",
       "      <td>24</td>\n",
       "      <td>...</td>\n",
       "      <td>2</td>\n",
       "      <td>2</td>\n",
       "      <td>2</td>\n",
       "      <td>1</td>\n",
       "      <td>1</td>\n",
       "      <td>0</td>\n",
       "      <td>0</td>\n",
       "      <td>0</td>\n",
       "      <td>3</td>\n",
       "      <td>1</td>\n",
       "    </tr>\n",
       "  </tbody>\n",
       "</table>\n",
       "<p>5 rows × 79 columns</p>\n",
       "</div>"
      ],
      "text/plain": [
       "   By reusing an image, can you redefine the message that the sender has thought about?  \\\n",
       "0                                                  1                                      \n",
       "1                                                  1                                      \n",
       "2                                                  1                                      \n",
       "3                                                  1                                      \n",
       "4                                                  3                                      \n",
       "\n",
       "   Do you know authors who work producing images?  \\\n",
       "0                                               0   \n",
       "1                                               0   \n",
       "2                                               1   \n",
       "3                                               1   \n",
       "4                                               0   \n",
       "\n",
       "   Do you like to follow people you admire in social networks? Are you a fan or follower of any of them? Do you sometimes write comments in their publications?  \\\n",
       "0                                                  3                                                                                                              \n",
       "1                                                  1                                                                                                              \n",
       "2                                                  3                                                                                                              \n",
       "3                                                  3                                                                                                              \n",
       "4                                                  2                                                                                                              \n",
       "\n",
       "   Do you think that images produced by men are different from those made by women?  \\\n",
       "0                                                  1                                  \n",
       "1                                                  0                                  \n",
       "2                                                  1                                  \n",
       "3                                                  1                                  \n",
       "4                                                  0                                  \n",
       "\n",
       "   Do you think that in the creation of images work more women, or men?  \\\n",
       "0                                                  3                      \n",
       "1                                                  3                      \n",
       "2                                                  2                      \n",
       "3                                                  4                      \n",
       "4                                                  4                      \n",
       "\n",
       "   On the occasion, even being prepared for it, have you stopped attaching images in your messages in social networks, mobile applications, etc., because you do not understand how to do it?  \\\n",
       "0                                                  2                                                                                                                                            \n",
       "1                                                  3                                                                                                                                            \n",
       "2                                                  2                                                                                                                                            \n",
       "3                                                  1                                                                                                                                            \n",
       "4                                                  1                                                                                                                                            \n",
       "\n",
       "   When you share images on social networks, do the text companions follow the indications suggested by the applications (labeling, explanation of the image, inspiring text, etc.)?  \\\n",
       "0                                                  1                                                                                                                                   \n",
       "1                                                  3                                                                                                                                   \n",
       "2                                                  3                                                                                                                                   \n",
       "3                                                  5                                                                                                                                   \n",
       "4                                                  4                                                                                                                                   \n",
       "\n",
       "   When you take photos from any of the media at your fingertips, do the process facilitate the options offered by the applications (filter application, cuts, graphic editing, etc.)?  \\\n",
       "0                                                  3                                                                                                                                     \n",
       "1                                                  3                                                                                                                                     \n",
       "2                                                  5                                                                                                                                     \n",
       "3                                                  5                                                                                                                                     \n",
       "4                                                  3                                                                                                                                     \n",
       "\n",
       "   When you use social networks, do you consider that being accepted as a member of a group is more important than having autonomy and independence?  \\\n",
       "0                                                  1                                                                                                   \n",
       "1                                                  2                                                                                                   \n",
       "2                                                  2                                                                                                   \n",
       "3                                                  2                                                                                                   \n",
       "4                                                  2                                                                                                   \n",
       "\n",
       "   Age        ...         \\\n",
       "0   37        ...          \n",
       "1   62        ...          \n",
       "2   28        ...          \n",
       "3   31        ...          \n",
       "4   24        ...          \n",
       "\n",
       "   Which of the paired images do you find most attractive? 1/2 2/2.2  \\\n",
       "0                                                  2                   \n",
       "1                                                  2                   \n",
       "2                                                  1                   \n",
       "3                                                  2                   \n",
       "4                                                  2                   \n",
       "\n",
       "   Which of the paired images do you find most attractive? 1/2 2/2.3  \\\n",
       "0                                                  2                   \n",
       "1                                                  2                   \n",
       "2                                                  2                   \n",
       "3                                                  2                   \n",
       "4                                                  2                   \n",
       "\n",
       "   Which of the paired images do you find most attractive? 1/2 2/2.4  \\\n",
       "0                                                  2                   \n",
       "1                                                  2                   \n",
       "2                                                  2                   \n",
       "3                                                  1                   \n",
       "4                                                  2                   \n",
       "\n",
       "   With whom do you usually share images? [1. Friends]  \\\n",
       "0                                                  1     \n",
       "1                                                  1     \n",
       "2                                                  1     \n",
       "3                                                  1     \n",
       "4                                                  1     \n",
       "\n",
       "   With whom do you usually share images? [2. Family]  \\\n",
       "0                                                  1    \n",
       "1                                                  1    \n",
       "2                                                  1    \n",
       "3                                                  1    \n",
       "4                                                  1    \n",
       "\n",
       "   With whom do you usually share images? [3. Partners]  \\\n",
       "0                                                  0      \n",
       "1                                                  0      \n",
       "2                                                  0      \n",
       "3                                                  1      \n",
       "4                                                  0      \n",
       "\n",
       "   With whom do you usually share images? [4. With all my acquaintances]  \\\n",
       "0                                                  0                       \n",
       "1                                                  0                       \n",
       "2                                                  0                       \n",
       "3                                                  0                       \n",
       "4                                                  0                       \n",
       "\n",
       "   With whom do you usually share images? [5. With nobody]  \\\n",
       "0                                                  0         \n",
       "1                                                  0         \n",
       "2                                                  0         \n",
       "3                                                  0         \n",
       "4                                                  0         \n",
       "\n",
       "   Within your social networks or mobile applications, do you see visual information that you are not looking for (social awareness campaigns, jokes, advertising, etc.)?  \\\n",
       "0                                                  4                                                                                                                        \n",
       "1                                                  5                                                                                                                        \n",
       "2                                                  4                                                                                                                        \n",
       "3                                                  1                                                                                                                        \n",
       "4                                                  3                                                                                                                        \n",
       "\n",
       "   cultural_cluster  \n",
       "0                 2  \n",
       "1                 2  \n",
       "2                 1  \n",
       "3                 1  \n",
       "4                 1  \n",
       "\n",
       "[5 rows x 79 columns]"
      ]
     },
     "execution_count": 4,
     "metadata": {},
     "output_type": "execute_result"
    }
   ],
   "source": [
    "dataframe_with_clusters_en = get_dataframe_with_clusters_en(get_dataframe_analysis_en(True), 40)\n",
    "dataframe_with_clusters_en.head()"
   ]
  },
  {
   "cell_type": "code",
   "execution_count": 5,
   "metadata": {},
   "outputs": [],
   "source": [
    "def visualize_reception_images_by_cultural_clusters_esp(dataframe):\n",
    "\n",
    "    for selected_cluster in dataframe['cultural_cluster'].unique():\n",
    "        for column in get_reception_image_items_esp():\n",
    "            try:\n",
    "                print(\"\\n\\nCluster \"+str(selected_cluster) +\n",
    "                      \" || variable: \"+str(column))\n",
    "                print(f'Describiendo la pregunta {column}')\n",
    "                dict_item = get_data_replacements(str(column))\n",
    "                if dict_item:\n",
    "                    print(\n",
    "                        f'Valores numéricos asociados a las respuestas {list(dict_item.keys())}')\n",
    "                    print(\n",
    "                        f'Respuestas posibles a la pregunta/variable {list(dict_item.values())}')\n",
    "                display(dataframe.loc[dataframe['cultural_cluster']\n",
    "                                      == selected_cluster][column].describe())\n",
    "                print(\n",
    "                    f'Conteo de cada valor en {column} expresada como valor / cantidad')\n",
    "                display(dataframe.loc[dataframe['cultural_cluster'] ==\n",
    "                                      selected_cluster][column].value_counts().sort_index())\n",
    "                print(\n",
    "                    f'Porcentaje de cada valor en {column} expresado como valor / porcentaje')\n",
    "                display(dataframe.loc[dataframe['cultural_cluster'] == selected_cluster][column].value_counts(\n",
    "                    normalize=True).sort_index().round(4) * 100)\n",
    "                # sns.distplot(workCleanDummiesCluster.loc[workCleanDummiesCluster['cluster'] == selected_cluster][column], kde=False, rug=True);\n",
    "                data = [go.Bar(x=sorted(dataframe.loc[dataframe['cultural_cluster'] == selected_cluster][column].unique()),\n",
    "                               y=dataframe.loc[dataframe['cultural_cluster'] == selected_cluster][column].value_counts().reindex(\n",
    "                                   dataframe.loc[dataframe['cultural_cluster'] == selected_cluster][column].unique(), fill_value=0).sort_index(),\n",
    "                               marker=dict(color=cl.scales['6']['div']['Spectral']))]\n",
    "\n",
    "                if dict_item:\n",
    "                    layout = go.Layout(\n",
    "                        xaxis=go.layout.XAxis(\n",
    "                            ticktext=list(dict_item.values()),\n",
    "                            tickvals=list(dict_item.keys()),\n",
    "                        ),\n",
    "                        bargap=0.2,\n",
    "                    )\n",
    "                    fig = go.Figure(data, layout)\n",
    "                    iplot(fig)\n",
    "                else:\n",
    "                    iplot(data)\n",
    "                plt.show()\n",
    "            except BaseException:\n",
    "                pass"
   ]
  },
  {
   "cell_type": "code",
   "execution_count": 6,
   "metadata": {},
   "outputs": [],
   "source": [
    "def visualize_reception_images_by_cultural_clusters_en(dataframe):\n",
    "    \n",
    "    for selected_cluster in dataframe['cultural_cluster'].unique():\n",
    "        for column in get_reception_image_items_en():\n",
    "            try:\n",
    "                print(\"\\n\\nCluster \"+str(selected_cluster) +\n",
    "                      \" || feature: \"+str(column))\n",
    "\n",
    "                print(f'Describing the feature {column}')\n",
    "                dict_item = get_data_replacements(str(column))\n",
    "                if dict_item:\n",
    "                    print(\n",
    "                        f'Numeric values associated to the responses {list(dict_item.keys())}')\n",
    "                    print(\n",
    "                        f'Possible responses to the question/variable {list(dict_item.values())}')\n",
    "                display(dataframe.loc[dataframe['cultural_cluster']\n",
    "                                      == selected_cluster][column].describe())\n",
    "                print(\n",
    "                    f'Count of each value in {column} expresed as value / amount')\n",
    "                display(dataframe.loc[dataframe['cultural_cluster'] ==\n",
    "                                      selected_cluster][column].value_counts().sort_index())\n",
    "                print(\n",
    "                    f'Percentage of each value in {column} expresed as value / percentage')\n",
    "                display(dataframe.loc[dataframe['cultural_cluster'] == selected_cluster][column].value_counts(\n",
    "                    normalize=True).sort_index().round(4) * 100)\n",
    "                # sns.distplot(workCleanDummiesCluster.loc[workCleanDummiesCluster['cluster'] == selected_cluster][column], kde=False, rug=True);\n",
    "                data = [go.Bar(x=sorted(dataframe.loc[dataframe['cultural_cluster'] == selected_cluster][column].unique()),\n",
    "                               y=dataframe.loc[dataframe['cultural_cluster'] == selected_cluster][column].value_counts().reindex(\n",
    "                                   dataframe.loc[dataframe['cultural_cluster'] == selected_cluster][column].unique(), fill_value=0).sort_index(),\n",
    "                               marker=dict(color=cl.scales['6']['div']['Spectral']))]\n",
    "\n",
    "                if dict_item:\n",
    "                    layout = go.Layout(\n",
    "                        xaxis=go.layout.XAxis(\n",
    "                            ticktext=list(dict_item.values()),\n",
    "                            tickvals=list(dict_item.keys()),\n",
    "                        ),\n",
    "                        bargap=0.2,\n",
    "                    )\n",
    "                    fig = go.Figure(data, layout)\n",
    "                    iplot(fig)\n",
    "                else:\n",
    "                    iplot(data)\n",
    "                plt.show()\n",
    "            except BaseException:\n",
    "                pass"
   ]
  },
  {
   "cell_type": "code",
   "execution_count": 7,
   "metadata": {},
   "outputs": [],
   "source": [
    "def compare_reception_images_by_cultural_clusters_esp(dataframe):\n",
    "    temp_dataframe = dataframe.copy()\n",
    "    temp_dataframe['cultural_cluster'] = 'cluster_' + temp_dataframe['cultural_cluster'].astype(str)\n",
    "    for column in get_reception_image_items_esp():\n",
    "        try:\n",
    "            newDataframe = pd.DataFrame(temp_dataframe.groupby('cultural_cluster')[column].value_counts(dropna=True, sort=True).reset_index(name='counts'))\n",
    "            if get_data_replacements(str(column)):\n",
    "                newDataframe[column] = newDataframe[column].apply(get_data_replacements(str(column)).get)\n",
    "            print(f'Comparando la pregunta {column}')\n",
    "            iplot(px.bar_polar(newDataframe, r='counts', theta=\"cultural_cluster\", color=column,\n",
    "            color_discrete_sequence= cl.scales['6']['div']['Spectral'], barmode=\"group\"))\n",
    "            # plt.show()\n",
    "        except KeyError:\n",
    "            pass"
   ]
  },
  {
   "cell_type": "code",
   "execution_count": 8,
   "metadata": {},
   "outputs": [],
   "source": [
    "def compare_reception_images_by_cultural_clusters_en(dataframe):\n",
    "    temp_dataframe = dataframe.copy()\n",
    "    temp_dataframe['cultural_cluster'] = 'cluster_' + temp_dataframe['cultural_cluster'].astype(str)\n",
    "    for column in get_reception_image_items_en():\n",
    "        try:\n",
    "            newDataframe = pd.DataFrame(temp_dataframe.groupby('cultural_cluster')[column].value_counts(dropna=True, sort=True).reset_index(name='counts'))\n",
    "            if get_data_replacements(str(column)):\n",
    "                newDataframe[column] = newDataframe[column].apply(get_data_replacements(str(column)).get)\n",
    "            print(f'Comparing the feature {column}')\n",
    "            iplot(px.bar_polar(newDataframe, r='counts', theta=\"cultural_cluster\", color=column,\n",
    "            color_discrete_sequence= cl.scales['6']['div']['Spectral'], barmode=\"group\"))\n",
    "            # plt.show()\n",
    "        except KeyError:\n",
    "            pass"
   ]
  },
  {
   "cell_type": "code",
   "execution_count": 9,
   "metadata": {
    "scrolled": false
   },
   "outputs": [
    {
     "name": "stdout",
     "output_type": "stream",
     "text": [
      "\n",
      "\n",
      "Cluster 2 || variable: Clasifica tu grado de visión\n",
      "Describiendo la pregunta Clasifica tu grado de visión\n",
      "Valores numéricos asociados a las respuestas [1, 2, 3, 4, 5]\n",
      "Respuestas posibles a la pregunta/variable ['1. Muy malo', '2. Malo', '3. Regular', '4. Bueno', '5. Muy bueno']\n"
     ]
    },
    {
     "data": {
      "text/plain": [
       "count    301.000000\n",
       "mean       4.159468\n",
       "std        0.771029\n",
       "min        2.000000\n",
       "25%        4.000000\n",
       "50%        4.000000\n",
       "75%        5.000000\n",
       "max        5.000000\n",
       "Name: Clasifica tu grado de visión, dtype: float64"
      ]
     },
     "metadata": {},
     "output_type": "display_data"
    },
    {
     "name": "stdout",
     "output_type": "stream",
     "text": [
      "Conteo de cada valor en Clasifica tu grado de visión expresada como valor / cantidad\n"
     ]
    },
    {
     "data": {
      "text/plain": [
       "2      5\n",
       "3     54\n",
       "4    130\n",
       "5    112\n",
       "Name: Clasifica tu grado de visión, dtype: int64"
      ]
     },
     "metadata": {},
     "output_type": "display_data"
    },
    {
     "name": "stdout",
     "output_type": "stream",
     "text": [
      "Porcentaje de cada valor en Clasifica tu grado de visión expresado como valor / porcentaje\n"
     ]
    },
    {
     "data": {
      "text/plain": [
       "2     1.66\n",
       "3    17.94\n",
       "4    43.19\n",
       "5    37.21\n",
       "Name: Clasifica tu grado de visión, dtype: float64"
      ]
     },
     "metadata": {},
     "output_type": "display_data"
    },
    {
     "data": {
      "application/vnd.plotly.v1+json": {
       "config": {
        "linkText": "Export to plot.ly",
        "plotlyServerURL": "https://plot.ly",
        "showLink": false
       },
       "data": [
        {
         "marker": {
          "color": [
           "rgb(213,62,79)",
           "rgb(252,141,89)",
           "rgb(254,224,139)",
           "rgb(230,245,152)",
           "rgb(153,213,148)",
           "rgb(50,136,189)"
          ]
         },
         "type": "bar",
         "uid": "92dfba6b-c080-4a42-89a4-f39732599994",
         "x": [
          2,
          3,
          4,
          5
         ],
         "y": [
          5,
          54,
          130,
          112
         ]
        }
       ],
       "layout": {
        "bargap": 0.2,
        "xaxis": {
         "ticktext": [
          "1. Muy malo",
          "2. Malo",
          "3. Regular",
          "4. Bueno",
          "5. Muy bueno"
         ],
         "tickvals": [
          1,
          2,
          3,
          4,
          5
         ]
        }
       }
      },
      "text/html": [
       "<div id=\"92d77a78-2166-438a-a847-0af14d5ee246\" style=\"height: 525px; width: 100%;\" class=\"plotly-graph-div\"></div><script type=\"text/javascript\">require([\"plotly\"], function(Plotly) { window.PLOTLYENV=window.PLOTLYENV || {};window.PLOTLYENV.BASE_URL=\"https://plot.ly\";\n",
       "if (document.getElementById(\"92d77a78-2166-438a-a847-0af14d5ee246\")) {\n",
       "    Plotly.newPlot(\"92d77a78-2166-438a-a847-0af14d5ee246\", [{\"marker\": {\"color\": [\"rgb(213,62,79)\", \"rgb(252,141,89)\", \"rgb(254,224,139)\", \"rgb(230,245,152)\", \"rgb(153,213,148)\", \"rgb(50,136,189)\"]}, \"x\": [2, 3, 4, 5], \"y\": [5, 54, 130, 112], \"type\": \"bar\", \"uid\": \"92dfba6b-c080-4a42-89a4-f39732599994\"}], {\"bargap\": 0.2, \"xaxis\": {\"ticktext\": [\"1. Muy malo\", \"2. Malo\", \"3. Regular\", \"4. Bueno\", \"5. Muy bueno\"], \"tickvals\": [1, 2, 3, 4, 5]}}, {\"showLink\": false, \"linkText\": \"Export to plot.ly\", \"plotlyServerURL\": \"https://plot.ly\"}); \n",
       "}\n",
       "});</script><script type=\"text/javascript\">window.addEventListener(\"resize\", function(){if (document.getElementById(\"92d77a78-2166-438a-a847-0af14d5ee246\")) {window._Plotly.Plots.resize(document.getElementById(\"92d77a78-2166-438a-a847-0af14d5ee246\"));};})</script>"
      ],
      "text/vnd.plotly.v1+html": [
       "<div id=\"92d77a78-2166-438a-a847-0af14d5ee246\" style=\"height: 525px; width: 100%;\" class=\"plotly-graph-div\"></div><script type=\"text/javascript\">require([\"plotly\"], function(Plotly) { window.PLOTLYENV=window.PLOTLYENV || {};window.PLOTLYENV.BASE_URL=\"https://plot.ly\";\n",
       "if (document.getElementById(\"92d77a78-2166-438a-a847-0af14d5ee246\")) {\n",
       "    Plotly.newPlot(\"92d77a78-2166-438a-a847-0af14d5ee246\", [{\"marker\": {\"color\": [\"rgb(213,62,79)\", \"rgb(252,141,89)\", \"rgb(254,224,139)\", \"rgb(230,245,152)\", \"rgb(153,213,148)\", \"rgb(50,136,189)\"]}, \"x\": [2, 3, 4, 5], \"y\": [5, 54, 130, 112], \"type\": \"bar\", \"uid\": \"92dfba6b-c080-4a42-89a4-f39732599994\"}], {\"bargap\": 0.2, \"xaxis\": {\"ticktext\": [\"1. Muy malo\", \"2. Malo\", \"3. Regular\", \"4. Bueno\", \"5. Muy bueno\"], \"tickvals\": [1, 2, 3, 4, 5]}}, {\"showLink\": false, \"linkText\": \"Export to plot.ly\", \"plotlyServerURL\": \"https://plot.ly\"}); \n",
       "}\n",
       "});</script><script type=\"text/javascript\">window.addEventListener(\"resize\", function(){if (document.getElementById(\"92d77a78-2166-438a-a847-0af14d5ee246\")) {window._Plotly.Plots.resize(document.getElementById(\"92d77a78-2166-438a-a847-0af14d5ee246\"));};})</script>"
      ]
     },
     "metadata": {},
     "output_type": "display_data"
    },
    {
     "name": "stdout",
     "output_type": "stream",
     "text": [
      "\n",
      "\n",
      "Cluster 2 || variable: ¿Utilizas gafas o lentes de contacto?\n",
      "Describiendo la pregunta ¿Utilizas gafas o lentes de contacto?\n",
      "Valores numéricos asociados a las respuestas [0, 1]\n",
      "Respuestas posibles a la pregunta/variable ['No', 'Sí']\n"
     ]
    },
    {
     "data": {
      "text/plain": [
       "count    301.000000\n",
       "mean       0.468439\n",
       "std        0.499834\n",
       "min        0.000000\n",
       "25%        0.000000\n",
       "50%        0.000000\n",
       "75%        1.000000\n",
       "max        1.000000\n",
       "Name: ¿Utilizas gafas o lentes de contacto?, dtype: float64"
      ]
     },
     "metadata": {},
     "output_type": "display_data"
    },
    {
     "name": "stdout",
     "output_type": "stream",
     "text": [
      "Conteo de cada valor en ¿Utilizas gafas o lentes de contacto? expresada como valor / cantidad\n"
     ]
    },
    {
     "data": {
      "text/plain": [
       "0    160\n",
       "1    141\n",
       "Name: ¿Utilizas gafas o lentes de contacto?, dtype: int64"
      ]
     },
     "metadata": {},
     "output_type": "display_data"
    },
    {
     "name": "stdout",
     "output_type": "stream",
     "text": [
      "Porcentaje de cada valor en ¿Utilizas gafas o lentes de contacto? expresado como valor / porcentaje\n"
     ]
    },
    {
     "data": {
      "text/plain": [
       "0    53.16\n",
       "1    46.84\n",
       "Name: ¿Utilizas gafas o lentes de contacto?, dtype: float64"
      ]
     },
     "metadata": {},
     "output_type": "display_data"
    },
    {
     "data": {
      "application/vnd.plotly.v1+json": {
       "config": {
        "linkText": "Export to plot.ly",
        "plotlyServerURL": "https://plot.ly",
        "showLink": false
       },
       "data": [
        {
         "marker": {
          "color": [
           "rgb(213,62,79)",
           "rgb(252,141,89)",
           "rgb(254,224,139)",
           "rgb(230,245,152)",
           "rgb(153,213,148)",
           "rgb(50,136,189)"
          ]
         },
         "type": "bar",
         "uid": "069b84f5-9048-408a-9e76-ba653188b4ce",
         "x": [
          0,
          1
         ],
         "y": [
          160,
          141
         ]
        }
       ],
       "layout": {
        "bargap": 0.2,
        "xaxis": {
         "ticktext": [
          "No",
          "Sí"
         ],
         "tickvals": [
          0,
          1
         ]
        }
       }
      },
      "text/html": [
       "<div id=\"7118542b-821e-451f-98b8-6de1847119f1\" style=\"height: 525px; width: 100%;\" class=\"plotly-graph-div\"></div><script type=\"text/javascript\">require([\"plotly\"], function(Plotly) { window.PLOTLYENV=window.PLOTLYENV || {};window.PLOTLYENV.BASE_URL=\"https://plot.ly\";\n",
       "if (document.getElementById(\"7118542b-821e-451f-98b8-6de1847119f1\")) {\n",
       "    Plotly.newPlot(\"7118542b-821e-451f-98b8-6de1847119f1\", [{\"marker\": {\"color\": [\"rgb(213,62,79)\", \"rgb(252,141,89)\", \"rgb(254,224,139)\", \"rgb(230,245,152)\", \"rgb(153,213,148)\", \"rgb(50,136,189)\"]}, \"x\": [0, 1], \"y\": [160, 141], \"type\": \"bar\", \"uid\": \"069b84f5-9048-408a-9e76-ba653188b4ce\"}], {\"bargap\": 0.2, \"xaxis\": {\"ticktext\": [\"No\", \"S\\u00ed\"], \"tickvals\": [0, 1]}}, {\"showLink\": false, \"linkText\": \"Export to plot.ly\", \"plotlyServerURL\": \"https://plot.ly\"}); \n",
       "}\n",
       "});</script><script type=\"text/javascript\">window.addEventListener(\"resize\", function(){if (document.getElementById(\"7118542b-821e-451f-98b8-6de1847119f1\")) {window._Plotly.Plots.resize(document.getElementById(\"7118542b-821e-451f-98b8-6de1847119f1\"));};})</script>"
      ],
      "text/vnd.plotly.v1+html": [
       "<div id=\"7118542b-821e-451f-98b8-6de1847119f1\" style=\"height: 525px; width: 100%;\" class=\"plotly-graph-div\"></div><script type=\"text/javascript\">require([\"plotly\"], function(Plotly) { window.PLOTLYENV=window.PLOTLYENV || {};window.PLOTLYENV.BASE_URL=\"https://plot.ly\";\n",
       "if (document.getElementById(\"7118542b-821e-451f-98b8-6de1847119f1\")) {\n",
       "    Plotly.newPlot(\"7118542b-821e-451f-98b8-6de1847119f1\", [{\"marker\": {\"color\": [\"rgb(213,62,79)\", \"rgb(252,141,89)\", \"rgb(254,224,139)\", \"rgb(230,245,152)\", \"rgb(153,213,148)\", \"rgb(50,136,189)\"]}, \"x\": [0, 1], \"y\": [160, 141], \"type\": \"bar\", \"uid\": \"069b84f5-9048-408a-9e76-ba653188b4ce\"}], {\"bargap\": 0.2, \"xaxis\": {\"ticktext\": [\"No\", \"S\\u00ed\"], \"tickvals\": [0, 1]}}, {\"showLink\": false, \"linkText\": \"Export to plot.ly\", \"plotlyServerURL\": \"https://plot.ly\"}); \n",
       "}\n",
       "});</script><script type=\"text/javascript\">window.addEventListener(\"resize\", function(){if (document.getElementById(\"7118542b-821e-451f-98b8-6de1847119f1\")) {window._Plotly.Plots.resize(document.getElementById(\"7118542b-821e-451f-98b8-6de1847119f1\"));};})</script>"
      ]
     },
     "metadata": {},
     "output_type": "display_data"
    },
    {
     "name": "stdout",
     "output_type": "stream",
     "text": [
      "\n",
      "\n",
      "Cluster 2 || variable: ¿Tienes alguna carencia visual que afecte a la recepción de formas, colores, distancias, etc.?\n",
      "Describiendo la pregunta ¿Tienes alguna carencia visual que afecte a la recepción de formas, colores, distancias, etc.?\n",
      "Valores numéricos asociados a las respuestas [0, 1]\n",
      "Respuestas posibles a la pregunta/variable ['No', 'Sí']\n"
     ]
    },
    {
     "data": {
      "text/plain": [
       "count    301.000000\n",
       "mean       0.083056\n",
       "std        0.276427\n",
       "min        0.000000\n",
       "25%        0.000000\n",
       "50%        0.000000\n",
       "75%        0.000000\n",
       "max        1.000000\n",
       "Name: ¿Tienes alguna carencia visual que afecte a la recepción de formas, colores, distancias, etc.?, dtype: float64"
      ]
     },
     "metadata": {},
     "output_type": "display_data"
    },
    {
     "name": "stdout",
     "output_type": "stream",
     "text": [
      "Conteo de cada valor en ¿Tienes alguna carencia visual que afecte a la recepción de formas, colores, distancias, etc.? expresada como valor / cantidad\n"
     ]
    },
    {
     "data": {
      "text/plain": [
       "0    276\n",
       "1     25\n",
       "Name: ¿Tienes alguna carencia visual que afecte a la recepción de formas, colores, distancias, etc.?, dtype: int64"
      ]
     },
     "metadata": {},
     "output_type": "display_data"
    },
    {
     "name": "stdout",
     "output_type": "stream",
     "text": [
      "Porcentaje de cada valor en ¿Tienes alguna carencia visual que afecte a la recepción de formas, colores, distancias, etc.? expresado como valor / porcentaje\n"
     ]
    },
    {
     "data": {
      "text/plain": [
       "0    91.69\n",
       "1     8.31\n",
       "Name: ¿Tienes alguna carencia visual que afecte a la recepción de formas, colores, distancias, etc.?, dtype: float64"
      ]
     },
     "metadata": {},
     "output_type": "display_data"
    },
    {
     "data": {
      "application/vnd.plotly.v1+json": {
       "config": {
        "linkText": "Export to plot.ly",
        "plotlyServerURL": "https://plot.ly",
        "showLink": false
       },
       "data": [
        {
         "marker": {
          "color": [
           "rgb(213,62,79)",
           "rgb(252,141,89)",
           "rgb(254,224,139)",
           "rgb(230,245,152)",
           "rgb(153,213,148)",
           "rgb(50,136,189)"
          ]
         },
         "type": "bar",
         "uid": "37ba51b6-d6b7-49ac-bee7-d6d3bf0ac721",
         "x": [
          0,
          1
         ],
         "y": [
          276,
          25
         ]
        }
       ],
       "layout": {
        "bargap": 0.2,
        "xaxis": {
         "ticktext": [
          "No",
          "Sí"
         ],
         "tickvals": [
          0,
          1
         ]
        }
       }
      },
      "text/html": [
       "<div id=\"ffd3a1cd-a4a0-4765-aaa9-10589d3c9380\" style=\"height: 525px; width: 100%;\" class=\"plotly-graph-div\"></div><script type=\"text/javascript\">require([\"plotly\"], function(Plotly) { window.PLOTLYENV=window.PLOTLYENV || {};window.PLOTLYENV.BASE_URL=\"https://plot.ly\";\n",
       "if (document.getElementById(\"ffd3a1cd-a4a0-4765-aaa9-10589d3c9380\")) {\n",
       "    Plotly.newPlot(\"ffd3a1cd-a4a0-4765-aaa9-10589d3c9380\", [{\"marker\": {\"color\": [\"rgb(213,62,79)\", \"rgb(252,141,89)\", \"rgb(254,224,139)\", \"rgb(230,245,152)\", \"rgb(153,213,148)\", \"rgb(50,136,189)\"]}, \"x\": [0, 1], \"y\": [276, 25], \"type\": \"bar\", \"uid\": \"37ba51b6-d6b7-49ac-bee7-d6d3bf0ac721\"}], {\"bargap\": 0.2, \"xaxis\": {\"ticktext\": [\"No\", \"S\\u00ed\"], \"tickvals\": [0, 1]}}, {\"showLink\": false, \"linkText\": \"Export to plot.ly\", \"plotlyServerURL\": \"https://plot.ly\"}); \n",
       "}\n",
       "});</script><script type=\"text/javascript\">window.addEventListener(\"resize\", function(){if (document.getElementById(\"ffd3a1cd-a4a0-4765-aaa9-10589d3c9380\")) {window._Plotly.Plots.resize(document.getElementById(\"ffd3a1cd-a4a0-4765-aaa9-10589d3c9380\"));};})</script>"
      ],
      "text/vnd.plotly.v1+html": [
       "<div id=\"ffd3a1cd-a4a0-4765-aaa9-10589d3c9380\" style=\"height: 525px; width: 100%;\" class=\"plotly-graph-div\"></div><script type=\"text/javascript\">require([\"plotly\"], function(Plotly) { window.PLOTLYENV=window.PLOTLYENV || {};window.PLOTLYENV.BASE_URL=\"https://plot.ly\";\n",
       "if (document.getElementById(\"ffd3a1cd-a4a0-4765-aaa9-10589d3c9380\")) {\n",
       "    Plotly.newPlot(\"ffd3a1cd-a4a0-4765-aaa9-10589d3c9380\", [{\"marker\": {\"color\": [\"rgb(213,62,79)\", \"rgb(252,141,89)\", \"rgb(254,224,139)\", \"rgb(230,245,152)\", \"rgb(153,213,148)\", \"rgb(50,136,189)\"]}, \"x\": [0, 1], \"y\": [276, 25], \"type\": \"bar\", \"uid\": \"37ba51b6-d6b7-49ac-bee7-d6d3bf0ac721\"}], {\"bargap\": 0.2, \"xaxis\": {\"ticktext\": [\"No\", \"S\\u00ed\"], \"tickvals\": [0, 1]}}, {\"showLink\": false, \"linkText\": \"Export to plot.ly\", \"plotlyServerURL\": \"https://plot.ly\"}); \n",
       "}\n",
       "});</script><script type=\"text/javascript\">window.addEventListener(\"resize\", function(){if (document.getElementById(\"ffd3a1cd-a4a0-4765-aaa9-10589d3c9380\")) {window._Plotly.Plots.resize(document.getElementById(\"ffd3a1cd-a4a0-4765-aaa9-10589d3c9380\"));};})</script>"
      ]
     },
     "metadata": {},
     "output_type": "display_data"
    },
    {
     "name": "stdout",
     "output_type": "stream",
     "text": [
      "\n",
      "\n",
      "Cluster 2 || variable: ¿Tienes acceso a dispositivos (ordenador, móvil, tablet, etc.) conectados a Internet habitualmente?\n",
      "Describiendo la pregunta ¿Tienes acceso a dispositivos (ordenador, móvil, tablet, etc.) conectados a Internet habitualmente?\n",
      "Valores numéricos asociados a las respuestas [1, 2, 3, 4, 5]\n",
      "Respuestas posibles a la pregunta/variable ['1. Nunca', '2. Ocasionalmente', '3. Semanalmente', '4. Diariamente', '5. Varias veces al día']\n"
     ]
    },
    {
     "data": {
      "text/plain": [
       "count    301.000000\n",
       "mean       4.823920\n",
       "std        0.381522\n",
       "min        4.000000\n",
       "25%        5.000000\n",
       "50%        5.000000\n",
       "75%        5.000000\n",
       "max        5.000000\n",
       "Name: ¿Tienes acceso a dispositivos (ordenador, móvil, tablet, etc.) conectados a Internet habitualmente?, dtype: float64"
      ]
     },
     "metadata": {},
     "output_type": "display_data"
    },
    {
     "name": "stdout",
     "output_type": "stream",
     "text": [
      "Conteo de cada valor en ¿Tienes acceso a dispositivos (ordenador, móvil, tablet, etc.) conectados a Internet habitualmente? expresada como valor / cantidad\n"
     ]
    },
    {
     "data": {
      "text/plain": [
       "4     53\n",
       "5    248\n",
       "Name: ¿Tienes acceso a dispositivos (ordenador, móvil, tablet, etc.) conectados a Internet habitualmente?, dtype: int64"
      ]
     },
     "metadata": {},
     "output_type": "display_data"
    },
    {
     "name": "stdout",
     "output_type": "stream",
     "text": [
      "Porcentaje de cada valor en ¿Tienes acceso a dispositivos (ordenador, móvil, tablet, etc.) conectados a Internet habitualmente? expresado como valor / porcentaje\n"
     ]
    },
    {
     "data": {
      "text/plain": [
       "4    17.61\n",
       "5    82.39\n",
       "Name: ¿Tienes acceso a dispositivos (ordenador, móvil, tablet, etc.) conectados a Internet habitualmente?, dtype: float64"
      ]
     },
     "metadata": {},
     "output_type": "display_data"
    },
    {
     "data": {
      "application/vnd.plotly.v1+json": {
       "config": {
        "linkText": "Export to plot.ly",
        "plotlyServerURL": "https://plot.ly",
        "showLink": false
       },
       "data": [
        {
         "marker": {
          "color": [
           "rgb(213,62,79)",
           "rgb(252,141,89)",
           "rgb(254,224,139)",
           "rgb(230,245,152)",
           "rgb(153,213,148)",
           "rgb(50,136,189)"
          ]
         },
         "type": "bar",
         "uid": "1cc60eb5-5451-494e-bbd9-765187d9c4c0",
         "x": [
          4,
          5
         ],
         "y": [
          53,
          248
         ]
        }
       ],
       "layout": {
        "bargap": 0.2,
        "xaxis": {
         "ticktext": [
          "1. Nunca",
          "2. Ocasionalmente",
          "3. Semanalmente",
          "4. Diariamente",
          "5. Varias veces al día"
         ],
         "tickvals": [
          1,
          2,
          3,
          4,
          5
         ]
        }
       }
      },
      "text/html": [
       "<div id=\"b4ab46f2-2acb-4aa6-a9e5-cb7767dae255\" style=\"height: 525px; width: 100%;\" class=\"plotly-graph-div\"></div><script type=\"text/javascript\">require([\"plotly\"], function(Plotly) { window.PLOTLYENV=window.PLOTLYENV || {};window.PLOTLYENV.BASE_URL=\"https://plot.ly\";\n",
       "if (document.getElementById(\"b4ab46f2-2acb-4aa6-a9e5-cb7767dae255\")) {\n",
       "    Plotly.newPlot(\"b4ab46f2-2acb-4aa6-a9e5-cb7767dae255\", [{\"marker\": {\"color\": [\"rgb(213,62,79)\", \"rgb(252,141,89)\", \"rgb(254,224,139)\", \"rgb(230,245,152)\", \"rgb(153,213,148)\", \"rgb(50,136,189)\"]}, \"x\": [4, 5], \"y\": [53, 248], \"type\": \"bar\", \"uid\": \"1cc60eb5-5451-494e-bbd9-765187d9c4c0\"}], {\"bargap\": 0.2, \"xaxis\": {\"ticktext\": [\"1. Nunca\", \"2. Ocasionalmente\", \"3. Semanalmente\", \"4. Diariamente\", \"5. Varias veces al d\\u00eda\"], \"tickvals\": [1, 2, 3, 4, 5]}}, {\"showLink\": false, \"linkText\": \"Export to plot.ly\", \"plotlyServerURL\": \"https://plot.ly\"}); \n",
       "}\n",
       "});</script><script type=\"text/javascript\">window.addEventListener(\"resize\", function(){if (document.getElementById(\"b4ab46f2-2acb-4aa6-a9e5-cb7767dae255\")) {window._Plotly.Plots.resize(document.getElementById(\"b4ab46f2-2acb-4aa6-a9e5-cb7767dae255\"));};})</script>"
      ],
      "text/vnd.plotly.v1+html": [
       "<div id=\"b4ab46f2-2acb-4aa6-a9e5-cb7767dae255\" style=\"height: 525px; width: 100%;\" class=\"plotly-graph-div\"></div><script type=\"text/javascript\">require([\"plotly\"], function(Plotly) { window.PLOTLYENV=window.PLOTLYENV || {};window.PLOTLYENV.BASE_URL=\"https://plot.ly\";\n",
       "if (document.getElementById(\"b4ab46f2-2acb-4aa6-a9e5-cb7767dae255\")) {\n",
       "    Plotly.newPlot(\"b4ab46f2-2acb-4aa6-a9e5-cb7767dae255\", [{\"marker\": {\"color\": [\"rgb(213,62,79)\", \"rgb(252,141,89)\", \"rgb(254,224,139)\", \"rgb(230,245,152)\", \"rgb(153,213,148)\", \"rgb(50,136,189)\"]}, \"x\": [4, 5], \"y\": [53, 248], \"type\": \"bar\", \"uid\": \"1cc60eb5-5451-494e-bbd9-765187d9c4c0\"}], {\"bargap\": 0.2, \"xaxis\": {\"ticktext\": [\"1. Nunca\", \"2. Ocasionalmente\", \"3. Semanalmente\", \"4. Diariamente\", \"5. Varias veces al d\\u00eda\"], \"tickvals\": [1, 2, 3, 4, 5]}}, {\"showLink\": false, \"linkText\": \"Export to plot.ly\", \"plotlyServerURL\": \"https://plot.ly\"}); \n",
       "}\n",
       "});</script><script type=\"text/javascript\">window.addEventListener(\"resize\", function(){if (document.getElementById(\"b4ab46f2-2acb-4aa6-a9e5-cb7767dae255\")) {window._Plotly.Plots.resize(document.getElementById(\"b4ab46f2-2acb-4aa6-a9e5-cb7767dae255\"));};})</script>"
      ]
     },
     "metadata": {},
     "output_type": "display_data"
    },
    {
     "name": "stdout",
     "output_type": "stream",
     "text": [
      "\n",
      "\n",
      "Cluster 2 || variable: ¿Cuánto tiempo al día usas el móvil/tableta/ordenador/TV?\n",
      "Describiendo la pregunta ¿Cuánto tiempo al día usas el móvil/tableta/ordenador/TV?\n",
      "Valores numéricos asociados a las respuestas [1, 2, 3, 4, 5, 6]\n",
      "Respuestas posibles a la pregunta/variable ['1. Nada', '2. Menos de una hora', '3. 1-2 horas', '4. 2-4 horas', '5. 4-6 horas', '6. Más de 6 horas']\n"
     ]
    },
    {
     "data": {
      "text/plain": [
       "count    301.000000\n",
       "mean       5.169435\n",
       "std        0.970153\n",
       "min        2.000000\n",
       "25%        5.000000\n",
       "50%        5.000000\n",
       "75%        6.000000\n",
       "max        6.000000\n",
       "Name: ¿Cuánto tiempo al día usas el móvil/tableta/ordenador/TV?, dtype: float64"
      ]
     },
     "metadata": {},
     "output_type": "display_data"
    },
    {
     "name": "stdout",
     "output_type": "stream",
     "text": [
      "Conteo de cada valor en ¿Cuánto tiempo al día usas el móvil/tableta/ordenador/TV? expresada como valor / cantidad\n"
     ]
    },
    {
     "data": {
      "text/plain": [
       "2      2\n",
       "3     18\n",
       "4     54\n",
       "5     80\n",
       "6    147\n",
       "Name: ¿Cuánto tiempo al día usas el móvil/tableta/ordenador/TV?, dtype: int64"
      ]
     },
     "metadata": {},
     "output_type": "display_data"
    },
    {
     "name": "stdout",
     "output_type": "stream",
     "text": [
      "Porcentaje de cada valor en ¿Cuánto tiempo al día usas el móvil/tableta/ordenador/TV? expresado como valor / porcentaje\n"
     ]
    },
    {
     "data": {
      "text/plain": [
       "2     0.66\n",
       "3     5.98\n",
       "4    17.94\n",
       "5    26.58\n",
       "6    48.84\n",
       "Name: ¿Cuánto tiempo al día usas el móvil/tableta/ordenador/TV?, dtype: float64"
      ]
     },
     "metadata": {},
     "output_type": "display_data"
    },
    {
     "data": {
      "application/vnd.plotly.v1+json": {
       "config": {
        "linkText": "Export to plot.ly",
        "plotlyServerURL": "https://plot.ly",
        "showLink": false
       },
       "data": [
        {
         "marker": {
          "color": [
           "rgb(213,62,79)",
           "rgb(252,141,89)",
           "rgb(254,224,139)",
           "rgb(230,245,152)",
           "rgb(153,213,148)",
           "rgb(50,136,189)"
          ]
         },
         "type": "bar",
         "uid": "633655ce-15b3-44cb-9203-3430bcd72257",
         "x": [
          2,
          3,
          4,
          5,
          6
         ],
         "y": [
          2,
          18,
          54,
          80,
          147
         ]
        }
       ],
       "layout": {
        "bargap": 0.2,
        "xaxis": {
         "ticktext": [
          "1. Nada",
          "2. Menos de una hora",
          "3. 1-2 horas",
          "4. 2-4 horas",
          "5. 4-6 horas",
          "6. Más de 6 horas"
         ],
         "tickvals": [
          1,
          2,
          3,
          4,
          5,
          6
         ]
        }
       }
      },
      "text/html": [
       "<div id=\"9b56776f-c09c-4809-9bf6-f30fe43a6893\" style=\"height: 525px; width: 100%;\" class=\"plotly-graph-div\"></div><script type=\"text/javascript\">require([\"plotly\"], function(Plotly) { window.PLOTLYENV=window.PLOTLYENV || {};window.PLOTLYENV.BASE_URL=\"https://plot.ly\";\n",
       "if (document.getElementById(\"9b56776f-c09c-4809-9bf6-f30fe43a6893\")) {\n",
       "    Plotly.newPlot(\"9b56776f-c09c-4809-9bf6-f30fe43a6893\", [{\"marker\": {\"color\": [\"rgb(213,62,79)\", \"rgb(252,141,89)\", \"rgb(254,224,139)\", \"rgb(230,245,152)\", \"rgb(153,213,148)\", \"rgb(50,136,189)\"]}, \"x\": [2, 3, 4, 5, 6], \"y\": [2, 18, 54, 80, 147], \"type\": \"bar\", \"uid\": \"633655ce-15b3-44cb-9203-3430bcd72257\"}], {\"bargap\": 0.2, \"xaxis\": {\"ticktext\": [\"1. Nada\", \"2. Menos de una hora\", \"3. 1-2 horas\", \"4. 2-4 horas\", \"5. 4-6 horas\", \"6. M\\u00e1s de 6 horas\"], \"tickvals\": [1, 2, 3, 4, 5, 6]}}, {\"showLink\": false, \"linkText\": \"Export to plot.ly\", \"plotlyServerURL\": \"https://plot.ly\"}); \n",
       "}\n",
       "});</script><script type=\"text/javascript\">window.addEventListener(\"resize\", function(){if (document.getElementById(\"9b56776f-c09c-4809-9bf6-f30fe43a6893\")) {window._Plotly.Plots.resize(document.getElementById(\"9b56776f-c09c-4809-9bf6-f30fe43a6893\"));};})</script>"
      ],
      "text/vnd.plotly.v1+html": [
       "<div id=\"9b56776f-c09c-4809-9bf6-f30fe43a6893\" style=\"height: 525px; width: 100%;\" class=\"plotly-graph-div\"></div><script type=\"text/javascript\">require([\"plotly\"], function(Plotly) { window.PLOTLYENV=window.PLOTLYENV || {};window.PLOTLYENV.BASE_URL=\"https://plot.ly\";\n",
       "if (document.getElementById(\"9b56776f-c09c-4809-9bf6-f30fe43a6893\")) {\n",
       "    Plotly.newPlot(\"9b56776f-c09c-4809-9bf6-f30fe43a6893\", [{\"marker\": {\"color\": [\"rgb(213,62,79)\", \"rgb(252,141,89)\", \"rgb(254,224,139)\", \"rgb(230,245,152)\", \"rgb(153,213,148)\", \"rgb(50,136,189)\"]}, \"x\": [2, 3, 4, 5, 6], \"y\": [2, 18, 54, 80, 147], \"type\": \"bar\", \"uid\": \"633655ce-15b3-44cb-9203-3430bcd72257\"}], {\"bargap\": 0.2, \"xaxis\": {\"ticktext\": [\"1. Nada\", \"2. Menos de una hora\", \"3. 1-2 horas\", \"4. 2-4 horas\", \"5. 4-6 horas\", \"6. M\\u00e1s de 6 horas\"], \"tickvals\": [1, 2, 3, 4, 5, 6]}}, {\"showLink\": false, \"linkText\": \"Export to plot.ly\", \"plotlyServerURL\": \"https://plot.ly\"}); \n",
       "}\n",
       "});</script><script type=\"text/javascript\">window.addEventListener(\"resize\", function(){if (document.getElementById(\"9b56776f-c09c-4809-9bf6-f30fe43a6893\")) {window._Plotly.Plots.resize(document.getElementById(\"9b56776f-c09c-4809-9bf6-f30fe43a6893\"));};})</script>"
      ]
     },
     "metadata": {},
     "output_type": "display_data"
    },
    {
     "name": "stdout",
     "output_type": "stream",
     "text": [
      "\n",
      "\n",
      "Cluster 2 || variable: ¿Qué tipo de aplicaciones utilizas en tu ordenador/tableta/móvil? (Respuesta múltiple) [1. Apps de contenidos audiovisuales (Netflix, HBO, etc.)]\n",
      "Describiendo la pregunta ¿Qué tipo de aplicaciones utilizas en tu ordenador/tableta/móvil? (Respuesta múltiple) [1. Apps de contenidos audiovisuales (Netflix, HBO, etc.)]\n",
      "Valores numéricos asociados a las respuestas [0, 1]\n",
      "Respuestas posibles a la pregunta/variable ['No', 'Sí']\n"
     ]
    },
    {
     "data": {
      "text/plain": [
       "count    301.000000\n",
       "mean       0.598007\n",
       "std        0.491117\n",
       "min        0.000000\n",
       "25%        0.000000\n",
       "50%        1.000000\n",
       "75%        1.000000\n",
       "max        1.000000\n",
       "Name: ¿Qué tipo de aplicaciones utilizas en tu ordenador/tableta/móvil? (Respuesta múltiple) [1. Apps de contenidos audiovisuales (Netflix, HBO, etc.)], dtype: float64"
      ]
     },
     "metadata": {},
     "output_type": "display_data"
    },
    {
     "name": "stdout",
     "output_type": "stream",
     "text": [
      "Conteo de cada valor en ¿Qué tipo de aplicaciones utilizas en tu ordenador/tableta/móvil? (Respuesta múltiple) [1. Apps de contenidos audiovisuales (Netflix, HBO, etc.)] expresada como valor / cantidad\n"
     ]
    },
    {
     "data": {
      "text/plain": [
       "0    121\n",
       "1    180\n",
       "Name: ¿Qué tipo de aplicaciones utilizas en tu ordenador/tableta/móvil? (Respuesta múltiple) [1. Apps de contenidos audiovisuales (Netflix, HBO, etc.)], dtype: int64"
      ]
     },
     "metadata": {},
     "output_type": "display_data"
    },
    {
     "name": "stdout",
     "output_type": "stream",
     "text": [
      "Porcentaje de cada valor en ¿Qué tipo de aplicaciones utilizas en tu ordenador/tableta/móvil? (Respuesta múltiple) [1. Apps de contenidos audiovisuales (Netflix, HBO, etc.)] expresado como valor / porcentaje\n"
     ]
    },
    {
     "data": {
      "text/plain": [
       "0    40.2\n",
       "1    59.8\n",
       "Name: ¿Qué tipo de aplicaciones utilizas en tu ordenador/tableta/móvil? (Respuesta múltiple) [1. Apps de contenidos audiovisuales (Netflix, HBO, etc.)], dtype: float64"
      ]
     },
     "metadata": {},
     "output_type": "display_data"
    },
    {
     "data": {
      "application/vnd.plotly.v1+json": {
       "config": {
        "linkText": "Export to plot.ly",
        "plotlyServerURL": "https://plot.ly",
        "showLink": false
       },
       "data": [
        {
         "marker": {
          "color": [
           "rgb(213,62,79)",
           "rgb(252,141,89)",
           "rgb(254,224,139)",
           "rgb(230,245,152)",
           "rgb(153,213,148)",
           "rgb(50,136,189)"
          ]
         },
         "type": "bar",
         "uid": "d47bbbfa-3a31-4155-9654-3669e423f9a9",
         "x": [
          0,
          1
         ],
         "y": [
          121,
          180
         ]
        }
       ],
       "layout": {
        "bargap": 0.2,
        "xaxis": {
         "ticktext": [
          "No",
          "Sí"
         ],
         "tickvals": [
          0,
          1
         ]
        }
       }
      },
      "text/html": [
       "<div id=\"9338a2b9-ec75-492a-850e-e9a707ac7357\" style=\"height: 525px; width: 100%;\" class=\"plotly-graph-div\"></div><script type=\"text/javascript\">require([\"plotly\"], function(Plotly) { window.PLOTLYENV=window.PLOTLYENV || {};window.PLOTLYENV.BASE_URL=\"https://plot.ly\";\n",
       "if (document.getElementById(\"9338a2b9-ec75-492a-850e-e9a707ac7357\")) {\n",
       "    Plotly.newPlot(\"9338a2b9-ec75-492a-850e-e9a707ac7357\", [{\"marker\": {\"color\": [\"rgb(213,62,79)\", \"rgb(252,141,89)\", \"rgb(254,224,139)\", \"rgb(230,245,152)\", \"rgb(153,213,148)\", \"rgb(50,136,189)\"]}, \"x\": [0, 1], \"y\": [121, 180], \"type\": \"bar\", \"uid\": \"d47bbbfa-3a31-4155-9654-3669e423f9a9\"}], {\"bargap\": 0.2, \"xaxis\": {\"ticktext\": [\"No\", \"S\\u00ed\"], \"tickvals\": [0, 1]}}, {\"showLink\": false, \"linkText\": \"Export to plot.ly\", \"plotlyServerURL\": \"https://plot.ly\"}); \n",
       "}\n",
       "});</script><script type=\"text/javascript\">window.addEventListener(\"resize\", function(){if (document.getElementById(\"9338a2b9-ec75-492a-850e-e9a707ac7357\")) {window._Plotly.Plots.resize(document.getElementById(\"9338a2b9-ec75-492a-850e-e9a707ac7357\"));};})</script>"
      ],
      "text/vnd.plotly.v1+html": [
       "<div id=\"9338a2b9-ec75-492a-850e-e9a707ac7357\" style=\"height: 525px; width: 100%;\" class=\"plotly-graph-div\"></div><script type=\"text/javascript\">require([\"plotly\"], function(Plotly) { window.PLOTLYENV=window.PLOTLYENV || {};window.PLOTLYENV.BASE_URL=\"https://plot.ly\";\n",
       "if (document.getElementById(\"9338a2b9-ec75-492a-850e-e9a707ac7357\")) {\n",
       "    Plotly.newPlot(\"9338a2b9-ec75-492a-850e-e9a707ac7357\", [{\"marker\": {\"color\": [\"rgb(213,62,79)\", \"rgb(252,141,89)\", \"rgb(254,224,139)\", \"rgb(230,245,152)\", \"rgb(153,213,148)\", \"rgb(50,136,189)\"]}, \"x\": [0, 1], \"y\": [121, 180], \"type\": \"bar\", \"uid\": \"d47bbbfa-3a31-4155-9654-3669e423f9a9\"}], {\"bargap\": 0.2, \"xaxis\": {\"ticktext\": [\"No\", \"S\\u00ed\"], \"tickvals\": [0, 1]}}, {\"showLink\": false, \"linkText\": \"Export to plot.ly\", \"plotlyServerURL\": \"https://plot.ly\"}); \n",
       "}\n",
       "});</script><script type=\"text/javascript\">window.addEventListener(\"resize\", function(){if (document.getElementById(\"9338a2b9-ec75-492a-850e-e9a707ac7357\")) {window._Plotly.Plots.resize(document.getElementById(\"9338a2b9-ec75-492a-850e-e9a707ac7357\"));};})</script>"
      ]
     },
     "metadata": {},
     "output_type": "display_data"
    },
    {
     "name": "stdout",
     "output_type": "stream",
     "text": [
      "\n",
      "\n",
      "Cluster 2 || variable: ¿Qué tipo de aplicaciones utilizas en tu ordenador/tableta/móvil? (Respuesta múltiple) [2. Aplicaciones de mensajería (Whatsapp, Facebook Messenger, etc.)]\n",
      "Describiendo la pregunta ¿Qué tipo de aplicaciones utilizas en tu ordenador/tableta/móvil? (Respuesta múltiple) [2. Aplicaciones de mensajería (Whatsapp, Facebook Messenger, etc.)]\n",
      "Valores numéricos asociados a las respuestas [0, 1]\n",
      "Respuestas posibles a la pregunta/variable ['No', 'Sí']\n"
     ]
    },
    {
     "data": {
      "text/plain": [
       "count    301.000000\n",
       "mean       0.827243\n",
       "std        0.378667\n",
       "min        0.000000\n",
       "25%        1.000000\n",
       "50%        1.000000\n",
       "75%        1.000000\n",
       "max        1.000000\n",
       "Name: ¿Qué tipo de aplicaciones utilizas en tu ordenador/tableta/móvil? (Respuesta múltiple) [2. Aplicaciones de mensajería (Whatsapp, Facebook Messenger, etc.)], dtype: float64"
      ]
     },
     "metadata": {},
     "output_type": "display_data"
    },
    {
     "name": "stdout",
     "output_type": "stream",
     "text": [
      "Conteo de cada valor en ¿Qué tipo de aplicaciones utilizas en tu ordenador/tableta/móvil? (Respuesta múltiple) [2. Aplicaciones de mensajería (Whatsapp, Facebook Messenger, etc.)] expresada como valor / cantidad\n"
     ]
    },
    {
     "data": {
      "text/plain": [
       "0     52\n",
       "1    249\n",
       "Name: ¿Qué tipo de aplicaciones utilizas en tu ordenador/tableta/móvil? (Respuesta múltiple) [2. Aplicaciones de mensajería (Whatsapp, Facebook Messenger, etc.)], dtype: int64"
      ]
     },
     "metadata": {},
     "output_type": "display_data"
    },
    {
     "name": "stdout",
     "output_type": "stream",
     "text": [
      "Porcentaje de cada valor en ¿Qué tipo de aplicaciones utilizas en tu ordenador/tableta/móvil? (Respuesta múltiple) [2. Aplicaciones de mensajería (Whatsapp, Facebook Messenger, etc.)] expresado como valor / porcentaje\n"
     ]
    },
    {
     "data": {
      "text/plain": [
       "0    17.28\n",
       "1    82.72\n",
       "Name: ¿Qué tipo de aplicaciones utilizas en tu ordenador/tableta/móvil? (Respuesta múltiple) [2. Aplicaciones de mensajería (Whatsapp, Facebook Messenger, etc.)], dtype: float64"
      ]
     },
     "metadata": {},
     "output_type": "display_data"
    },
    {
     "data": {
      "application/vnd.plotly.v1+json": {
       "config": {
        "linkText": "Export to plot.ly",
        "plotlyServerURL": "https://plot.ly",
        "showLink": false
       },
       "data": [
        {
         "marker": {
          "color": [
           "rgb(213,62,79)",
           "rgb(252,141,89)",
           "rgb(254,224,139)",
           "rgb(230,245,152)",
           "rgb(153,213,148)",
           "rgb(50,136,189)"
          ]
         },
         "type": "bar",
         "uid": "8f79f08a-b7b4-43c9-9fca-f06cddb034b9",
         "x": [
          0,
          1
         ],
         "y": [
          52,
          249
         ]
        }
       ],
       "layout": {
        "bargap": 0.2,
        "xaxis": {
         "ticktext": [
          "No",
          "Sí"
         ],
         "tickvals": [
          0,
          1
         ]
        }
       }
      },
      "text/html": [
       "<div id=\"4bcda383-ce94-4b8d-a487-294c4ee453b8\" style=\"height: 525px; width: 100%;\" class=\"plotly-graph-div\"></div><script type=\"text/javascript\">require([\"plotly\"], function(Plotly) { window.PLOTLYENV=window.PLOTLYENV || {};window.PLOTLYENV.BASE_URL=\"https://plot.ly\";\n",
       "if (document.getElementById(\"4bcda383-ce94-4b8d-a487-294c4ee453b8\")) {\n",
       "    Plotly.newPlot(\"4bcda383-ce94-4b8d-a487-294c4ee453b8\", [{\"marker\": {\"color\": [\"rgb(213,62,79)\", \"rgb(252,141,89)\", \"rgb(254,224,139)\", \"rgb(230,245,152)\", \"rgb(153,213,148)\", \"rgb(50,136,189)\"]}, \"x\": [0, 1], \"y\": [52, 249], \"type\": \"bar\", \"uid\": \"8f79f08a-b7b4-43c9-9fca-f06cddb034b9\"}], {\"bargap\": 0.2, \"xaxis\": {\"ticktext\": [\"No\", \"S\\u00ed\"], \"tickvals\": [0, 1]}}, {\"showLink\": false, \"linkText\": \"Export to plot.ly\", \"plotlyServerURL\": \"https://plot.ly\"}); \n",
       "}\n",
       "});</script><script type=\"text/javascript\">window.addEventListener(\"resize\", function(){if (document.getElementById(\"4bcda383-ce94-4b8d-a487-294c4ee453b8\")) {window._Plotly.Plots.resize(document.getElementById(\"4bcda383-ce94-4b8d-a487-294c4ee453b8\"));};})</script>"
      ],
      "text/vnd.plotly.v1+html": [
       "<div id=\"4bcda383-ce94-4b8d-a487-294c4ee453b8\" style=\"height: 525px; width: 100%;\" class=\"plotly-graph-div\"></div><script type=\"text/javascript\">require([\"plotly\"], function(Plotly) { window.PLOTLYENV=window.PLOTLYENV || {};window.PLOTLYENV.BASE_URL=\"https://plot.ly\";\n",
       "if (document.getElementById(\"4bcda383-ce94-4b8d-a487-294c4ee453b8\")) {\n",
       "    Plotly.newPlot(\"4bcda383-ce94-4b8d-a487-294c4ee453b8\", [{\"marker\": {\"color\": [\"rgb(213,62,79)\", \"rgb(252,141,89)\", \"rgb(254,224,139)\", \"rgb(230,245,152)\", \"rgb(153,213,148)\", \"rgb(50,136,189)\"]}, \"x\": [0, 1], \"y\": [52, 249], \"type\": \"bar\", \"uid\": \"8f79f08a-b7b4-43c9-9fca-f06cddb034b9\"}], {\"bargap\": 0.2, \"xaxis\": {\"ticktext\": [\"No\", \"S\\u00ed\"], \"tickvals\": [0, 1]}}, {\"showLink\": false, \"linkText\": \"Export to plot.ly\", \"plotlyServerURL\": \"https://plot.ly\"}); \n",
       "}\n",
       "});</script><script type=\"text/javascript\">window.addEventListener(\"resize\", function(){if (document.getElementById(\"4bcda383-ce94-4b8d-a487-294c4ee453b8\")) {window._Plotly.Plots.resize(document.getElementById(\"4bcda383-ce94-4b8d-a487-294c4ee453b8\"));};})</script>"
      ]
     },
     "metadata": {},
     "output_type": "display_data"
    },
    {
     "name": "stdout",
     "output_type": "stream",
     "text": [
      "\n",
      "\n",
      "Cluster 2 || variable: ¿Qué tipo de aplicaciones utilizas en tu ordenador/tableta/móvil? (Respuesta múltiple) [3. Bibliotecas de fotos online (Google Photos, iPhoto, etc.)]\n",
      "Describiendo la pregunta ¿Qué tipo de aplicaciones utilizas en tu ordenador/tableta/móvil? (Respuesta múltiple) [3. Bibliotecas de fotos online (Google Photos, iPhoto, etc.)]\n",
      "Valores numéricos asociados a las respuestas [0, 1]\n",
      "Respuestas posibles a la pregunta/variable ['No', 'Sí']\n"
     ]
    },
    {
     "data": {
      "text/plain": [
       "count    301.000000\n",
       "mean       0.568106\n",
       "std        0.496165\n",
       "min        0.000000\n",
       "25%        0.000000\n",
       "50%        1.000000\n",
       "75%        1.000000\n",
       "max        1.000000\n",
       "Name: ¿Qué tipo de aplicaciones utilizas en tu ordenador/tableta/móvil? (Respuesta múltiple) [3. Bibliotecas de fotos online (Google Photos, iPhoto, etc.)], dtype: float64"
      ]
     },
     "metadata": {},
     "output_type": "display_data"
    },
    {
     "name": "stdout",
     "output_type": "stream",
     "text": [
      "Conteo de cada valor en ¿Qué tipo de aplicaciones utilizas en tu ordenador/tableta/móvil? (Respuesta múltiple) [3. Bibliotecas de fotos online (Google Photos, iPhoto, etc.)] expresada como valor / cantidad\n"
     ]
    },
    {
     "data": {
      "text/plain": [
       "0    130\n",
       "1    171\n",
       "Name: ¿Qué tipo de aplicaciones utilizas en tu ordenador/tableta/móvil? (Respuesta múltiple) [3. Bibliotecas de fotos online (Google Photos, iPhoto, etc.)], dtype: int64"
      ]
     },
     "metadata": {},
     "output_type": "display_data"
    },
    {
     "name": "stdout",
     "output_type": "stream",
     "text": [
      "Porcentaje de cada valor en ¿Qué tipo de aplicaciones utilizas en tu ordenador/tableta/móvil? (Respuesta múltiple) [3. Bibliotecas de fotos online (Google Photos, iPhoto, etc.)] expresado como valor / porcentaje\n"
     ]
    },
    {
     "data": {
      "text/plain": [
       "0    43.19\n",
       "1    56.81\n",
       "Name: ¿Qué tipo de aplicaciones utilizas en tu ordenador/tableta/móvil? (Respuesta múltiple) [3. Bibliotecas de fotos online (Google Photos, iPhoto, etc.)], dtype: float64"
      ]
     },
     "metadata": {},
     "output_type": "display_data"
    },
    {
     "data": {
      "application/vnd.plotly.v1+json": {
       "config": {
        "linkText": "Export to plot.ly",
        "plotlyServerURL": "https://plot.ly",
        "showLink": false
       },
       "data": [
        {
         "marker": {
          "color": [
           "rgb(213,62,79)",
           "rgb(252,141,89)",
           "rgb(254,224,139)",
           "rgb(230,245,152)",
           "rgb(153,213,148)",
           "rgb(50,136,189)"
          ]
         },
         "type": "bar",
         "uid": "b2232be7-f523-464b-bc23-2fdd69b6a7ae",
         "x": [
          0,
          1
         ],
         "y": [
          130,
          171
         ]
        }
       ],
       "layout": {
        "bargap": 0.2,
        "xaxis": {
         "ticktext": [
          "No",
          "Sí"
         ],
         "tickvals": [
          0,
          1
         ]
        }
       }
      },
      "text/html": [
       "<div id=\"506a143b-48fe-4c4a-816b-e2618077a633\" style=\"height: 525px; width: 100%;\" class=\"plotly-graph-div\"></div><script type=\"text/javascript\">require([\"plotly\"], function(Plotly) { window.PLOTLYENV=window.PLOTLYENV || {};window.PLOTLYENV.BASE_URL=\"https://plot.ly\";\n",
       "if (document.getElementById(\"506a143b-48fe-4c4a-816b-e2618077a633\")) {\n",
       "    Plotly.newPlot(\"506a143b-48fe-4c4a-816b-e2618077a633\", [{\"marker\": {\"color\": [\"rgb(213,62,79)\", \"rgb(252,141,89)\", \"rgb(254,224,139)\", \"rgb(230,245,152)\", \"rgb(153,213,148)\", \"rgb(50,136,189)\"]}, \"x\": [0, 1], \"y\": [130, 171], \"type\": \"bar\", \"uid\": \"b2232be7-f523-464b-bc23-2fdd69b6a7ae\"}], {\"bargap\": 0.2, \"xaxis\": {\"ticktext\": [\"No\", \"S\\u00ed\"], \"tickvals\": [0, 1]}}, {\"showLink\": false, \"linkText\": \"Export to plot.ly\", \"plotlyServerURL\": \"https://plot.ly\"}); \n",
       "}\n",
       "});</script><script type=\"text/javascript\">window.addEventListener(\"resize\", function(){if (document.getElementById(\"506a143b-48fe-4c4a-816b-e2618077a633\")) {window._Plotly.Plots.resize(document.getElementById(\"506a143b-48fe-4c4a-816b-e2618077a633\"));};})</script>"
      ],
      "text/vnd.plotly.v1+html": [
       "<div id=\"506a143b-48fe-4c4a-816b-e2618077a633\" style=\"height: 525px; width: 100%;\" class=\"plotly-graph-div\"></div><script type=\"text/javascript\">require([\"plotly\"], function(Plotly) { window.PLOTLYENV=window.PLOTLYENV || {};window.PLOTLYENV.BASE_URL=\"https://plot.ly\";\n",
       "if (document.getElementById(\"506a143b-48fe-4c4a-816b-e2618077a633\")) {\n",
       "    Plotly.newPlot(\"506a143b-48fe-4c4a-816b-e2618077a633\", [{\"marker\": {\"color\": [\"rgb(213,62,79)\", \"rgb(252,141,89)\", \"rgb(254,224,139)\", \"rgb(230,245,152)\", \"rgb(153,213,148)\", \"rgb(50,136,189)\"]}, \"x\": [0, 1], \"y\": [130, 171], \"type\": \"bar\", \"uid\": \"b2232be7-f523-464b-bc23-2fdd69b6a7ae\"}], {\"bargap\": 0.2, \"xaxis\": {\"ticktext\": [\"No\", \"S\\u00ed\"], \"tickvals\": [0, 1]}}, {\"showLink\": false, \"linkText\": \"Export to plot.ly\", \"plotlyServerURL\": \"https://plot.ly\"}); \n",
       "}\n",
       "});</script><script type=\"text/javascript\">window.addEventListener(\"resize\", function(){if (document.getElementById(\"506a143b-48fe-4c4a-816b-e2618077a633\")) {window._Plotly.Plots.resize(document.getElementById(\"506a143b-48fe-4c4a-816b-e2618077a633\"));};})</script>"
      ]
     },
     "metadata": {},
     "output_type": "display_data"
    },
    {
     "name": "stdout",
     "output_type": "stream",
     "text": [
      "\n",
      "\n",
      "Cluster 2 || variable: ¿Qué tipo de aplicaciones utilizas en tu ordenador/tableta/móvil? (Respuesta múltiple) [4. Redes sociales (Facebook, Instagram, Twitter, etc.).]\n",
      "Describiendo la pregunta ¿Qué tipo de aplicaciones utilizas en tu ordenador/tableta/móvil? (Respuesta múltiple) [4. Redes sociales (Facebook, Instagram, Twitter, etc.).]\n",
      "Valores numéricos asociados a las respuestas [0, 1]\n",
      "Respuestas posibles a la pregunta/variable ['No', 'Sí']\n"
     ]
    },
    {
     "data": {
      "text/plain": [
       "count    301.000000\n",
       "mean       0.840532\n",
       "std        0.366722\n",
       "min        0.000000\n",
       "25%        1.000000\n",
       "50%        1.000000\n",
       "75%        1.000000\n",
       "max        1.000000\n",
       "Name: ¿Qué tipo de aplicaciones utilizas en tu ordenador/tableta/móvil? (Respuesta múltiple) [4. Redes sociales (Facebook, Instagram, Twitter, etc.).], dtype: float64"
      ]
     },
     "metadata": {},
     "output_type": "display_data"
    },
    {
     "name": "stdout",
     "output_type": "stream",
     "text": [
      "Conteo de cada valor en ¿Qué tipo de aplicaciones utilizas en tu ordenador/tableta/móvil? (Respuesta múltiple) [4. Redes sociales (Facebook, Instagram, Twitter, etc.).] expresada como valor / cantidad\n"
     ]
    },
    {
     "data": {
      "text/plain": [
       "0     48\n",
       "1    253\n",
       "Name: ¿Qué tipo de aplicaciones utilizas en tu ordenador/tableta/móvil? (Respuesta múltiple) [4. Redes sociales (Facebook, Instagram, Twitter, etc.).], dtype: int64"
      ]
     },
     "metadata": {},
     "output_type": "display_data"
    },
    {
     "name": "stdout",
     "output_type": "stream",
     "text": [
      "Porcentaje de cada valor en ¿Qué tipo de aplicaciones utilizas en tu ordenador/tableta/móvil? (Respuesta múltiple) [4. Redes sociales (Facebook, Instagram, Twitter, etc.).] expresado como valor / porcentaje\n"
     ]
    },
    {
     "data": {
      "text/plain": [
       "0    15.95\n",
       "1    84.05\n",
       "Name: ¿Qué tipo de aplicaciones utilizas en tu ordenador/tableta/móvil? (Respuesta múltiple) [4. Redes sociales (Facebook, Instagram, Twitter, etc.).], dtype: float64"
      ]
     },
     "metadata": {},
     "output_type": "display_data"
    },
    {
     "data": {
      "application/vnd.plotly.v1+json": {
       "config": {
        "linkText": "Export to plot.ly",
        "plotlyServerURL": "https://plot.ly",
        "showLink": false
       },
       "data": [
        {
         "marker": {
          "color": [
           "rgb(213,62,79)",
           "rgb(252,141,89)",
           "rgb(254,224,139)",
           "rgb(230,245,152)",
           "rgb(153,213,148)",
           "rgb(50,136,189)"
          ]
         },
         "type": "bar",
         "uid": "2a67ce57-f229-45ef-9978-eb6560682523",
         "x": [
          0,
          1
         ],
         "y": [
          48,
          253
         ]
        }
       ],
       "layout": {
        "bargap": 0.2,
        "xaxis": {
         "ticktext": [
          "No",
          "Sí"
         ],
         "tickvals": [
          0,
          1
         ]
        }
       }
      },
      "text/html": [
       "<div id=\"c51d9122-c1f0-40d6-9bcb-81618a8a4fbb\" style=\"height: 525px; width: 100%;\" class=\"plotly-graph-div\"></div><script type=\"text/javascript\">require([\"plotly\"], function(Plotly) { window.PLOTLYENV=window.PLOTLYENV || {};window.PLOTLYENV.BASE_URL=\"https://plot.ly\";\n",
       "if (document.getElementById(\"c51d9122-c1f0-40d6-9bcb-81618a8a4fbb\")) {\n",
       "    Plotly.newPlot(\"c51d9122-c1f0-40d6-9bcb-81618a8a4fbb\", [{\"marker\": {\"color\": [\"rgb(213,62,79)\", \"rgb(252,141,89)\", \"rgb(254,224,139)\", \"rgb(230,245,152)\", \"rgb(153,213,148)\", \"rgb(50,136,189)\"]}, \"x\": [0, 1], \"y\": [48, 253], \"type\": \"bar\", \"uid\": \"2a67ce57-f229-45ef-9978-eb6560682523\"}], {\"bargap\": 0.2, \"xaxis\": {\"ticktext\": [\"No\", \"S\\u00ed\"], \"tickvals\": [0, 1]}}, {\"showLink\": false, \"linkText\": \"Export to plot.ly\", \"plotlyServerURL\": \"https://plot.ly\"}); \n",
       "}\n",
       "});</script><script type=\"text/javascript\">window.addEventListener(\"resize\", function(){if (document.getElementById(\"c51d9122-c1f0-40d6-9bcb-81618a8a4fbb\")) {window._Plotly.Plots.resize(document.getElementById(\"c51d9122-c1f0-40d6-9bcb-81618a8a4fbb\"));};})</script>"
      ],
      "text/vnd.plotly.v1+html": [
       "<div id=\"c51d9122-c1f0-40d6-9bcb-81618a8a4fbb\" style=\"height: 525px; width: 100%;\" class=\"plotly-graph-div\"></div><script type=\"text/javascript\">require([\"plotly\"], function(Plotly) { window.PLOTLYENV=window.PLOTLYENV || {};window.PLOTLYENV.BASE_URL=\"https://plot.ly\";\n",
       "if (document.getElementById(\"c51d9122-c1f0-40d6-9bcb-81618a8a4fbb\")) {\n",
       "    Plotly.newPlot(\"c51d9122-c1f0-40d6-9bcb-81618a8a4fbb\", [{\"marker\": {\"color\": [\"rgb(213,62,79)\", \"rgb(252,141,89)\", \"rgb(254,224,139)\", \"rgb(230,245,152)\", \"rgb(153,213,148)\", \"rgb(50,136,189)\"]}, \"x\": [0, 1], \"y\": [48, 253], \"type\": \"bar\", \"uid\": \"2a67ce57-f229-45ef-9978-eb6560682523\"}], {\"bargap\": 0.2, \"xaxis\": {\"ticktext\": [\"No\", \"S\\u00ed\"], \"tickvals\": [0, 1]}}, {\"showLink\": false, \"linkText\": \"Export to plot.ly\", \"plotlyServerURL\": \"https://plot.ly\"}); \n",
       "}\n",
       "});</script><script type=\"text/javascript\">window.addEventListener(\"resize\", function(){if (document.getElementById(\"c51d9122-c1f0-40d6-9bcb-81618a8a4fbb\")) {window._Plotly.Plots.resize(document.getElementById(\"c51d9122-c1f0-40d6-9bcb-81618a8a4fbb\"));};})</script>"
      ]
     },
     "metadata": {},
     "output_type": "display_data"
    },
    {
     "name": "stdout",
     "output_type": "stream",
     "text": [
      "\n",
      "\n",
      "Cluster 2 || variable: ¿Qué tipo de aplicaciones utilizas en tu ordenador/tableta/móvil? (Respuesta múltiple) [5. Aplicaciones de vídeo (Youtube, Vimeo, etc.).]\n",
      "Describiendo la pregunta ¿Qué tipo de aplicaciones utilizas en tu ordenador/tableta/móvil? (Respuesta múltiple) [5. Aplicaciones de vídeo (Youtube, Vimeo, etc.).]\n",
      "Valores numéricos asociados a las respuestas [0, 1]\n",
      "Respuestas posibles a la pregunta/variable ['No', 'Sí']\n"
     ]
    },
    {
     "data": {
      "text/plain": [
       "count    301.000000\n",
       "mean       0.710963\n",
       "std        0.454070\n",
       "min        0.000000\n",
       "25%        0.000000\n",
       "50%        1.000000\n",
       "75%        1.000000\n",
       "max        1.000000\n",
       "Name: ¿Qué tipo de aplicaciones utilizas en tu ordenador/tableta/móvil? (Respuesta múltiple) [5. Aplicaciones de vídeo (Youtube, Vimeo, etc.).], dtype: float64"
      ]
     },
     "metadata": {},
     "output_type": "display_data"
    },
    {
     "name": "stdout",
     "output_type": "stream",
     "text": [
      "Conteo de cada valor en ¿Qué tipo de aplicaciones utilizas en tu ordenador/tableta/móvil? (Respuesta múltiple) [5. Aplicaciones de vídeo (Youtube, Vimeo, etc.).] expresada como valor / cantidad\n"
     ]
    },
    {
     "data": {
      "text/plain": [
       "0     87\n",
       "1    214\n",
       "Name: ¿Qué tipo de aplicaciones utilizas en tu ordenador/tableta/móvil? (Respuesta múltiple) [5. Aplicaciones de vídeo (Youtube, Vimeo, etc.).], dtype: int64"
      ]
     },
     "metadata": {},
     "output_type": "display_data"
    },
    {
     "name": "stdout",
     "output_type": "stream",
     "text": [
      "Porcentaje de cada valor en ¿Qué tipo de aplicaciones utilizas en tu ordenador/tableta/móvil? (Respuesta múltiple) [5. Aplicaciones de vídeo (Youtube, Vimeo, etc.).] expresado como valor / porcentaje\n"
     ]
    },
    {
     "data": {
      "text/plain": [
       "0    28.9\n",
       "1    71.1\n",
       "Name: ¿Qué tipo de aplicaciones utilizas en tu ordenador/tableta/móvil? (Respuesta múltiple) [5. Aplicaciones de vídeo (Youtube, Vimeo, etc.).], dtype: float64"
      ]
     },
     "metadata": {},
     "output_type": "display_data"
    },
    {
     "data": {
      "application/vnd.plotly.v1+json": {
       "config": {
        "linkText": "Export to plot.ly",
        "plotlyServerURL": "https://plot.ly",
        "showLink": false
       },
       "data": [
        {
         "marker": {
          "color": [
           "rgb(213,62,79)",
           "rgb(252,141,89)",
           "rgb(254,224,139)",
           "rgb(230,245,152)",
           "rgb(153,213,148)",
           "rgb(50,136,189)"
          ]
         },
         "type": "bar",
         "uid": "47e3ae2a-d562-40e3-9b12-80d9d6884394",
         "x": [
          0,
          1
         ],
         "y": [
          87,
          214
         ]
        }
       ],
       "layout": {
        "bargap": 0.2,
        "xaxis": {
         "ticktext": [
          "No",
          "Sí"
         ],
         "tickvals": [
          0,
          1
         ]
        }
       }
      },
      "text/html": [
       "<div id=\"b7544f20-368c-479e-8023-3938436330db\" style=\"height: 525px; width: 100%;\" class=\"plotly-graph-div\"></div><script type=\"text/javascript\">require([\"plotly\"], function(Plotly) { window.PLOTLYENV=window.PLOTLYENV || {};window.PLOTLYENV.BASE_URL=\"https://plot.ly\";\n",
       "if (document.getElementById(\"b7544f20-368c-479e-8023-3938436330db\")) {\n",
       "    Plotly.newPlot(\"b7544f20-368c-479e-8023-3938436330db\", [{\"marker\": {\"color\": [\"rgb(213,62,79)\", \"rgb(252,141,89)\", \"rgb(254,224,139)\", \"rgb(230,245,152)\", \"rgb(153,213,148)\", \"rgb(50,136,189)\"]}, \"x\": [0, 1], \"y\": [87, 214], \"type\": \"bar\", \"uid\": \"47e3ae2a-d562-40e3-9b12-80d9d6884394\"}], {\"bargap\": 0.2, \"xaxis\": {\"ticktext\": [\"No\", \"S\\u00ed\"], \"tickvals\": [0, 1]}}, {\"showLink\": false, \"linkText\": \"Export to plot.ly\", \"plotlyServerURL\": \"https://plot.ly\"}); \n",
       "}\n",
       "});</script><script type=\"text/javascript\">window.addEventListener(\"resize\", function(){if (document.getElementById(\"b7544f20-368c-479e-8023-3938436330db\")) {window._Plotly.Plots.resize(document.getElementById(\"b7544f20-368c-479e-8023-3938436330db\"));};})</script>"
      ],
      "text/vnd.plotly.v1+html": [
       "<div id=\"b7544f20-368c-479e-8023-3938436330db\" style=\"height: 525px; width: 100%;\" class=\"plotly-graph-div\"></div><script type=\"text/javascript\">require([\"plotly\"], function(Plotly) { window.PLOTLYENV=window.PLOTLYENV || {};window.PLOTLYENV.BASE_URL=\"https://plot.ly\";\n",
       "if (document.getElementById(\"b7544f20-368c-479e-8023-3938436330db\")) {\n",
       "    Plotly.newPlot(\"b7544f20-368c-479e-8023-3938436330db\", [{\"marker\": {\"color\": [\"rgb(213,62,79)\", \"rgb(252,141,89)\", \"rgb(254,224,139)\", \"rgb(230,245,152)\", \"rgb(153,213,148)\", \"rgb(50,136,189)\"]}, \"x\": [0, 1], \"y\": [87, 214], \"type\": \"bar\", \"uid\": \"47e3ae2a-d562-40e3-9b12-80d9d6884394\"}], {\"bargap\": 0.2, \"xaxis\": {\"ticktext\": [\"No\", \"S\\u00ed\"], \"tickvals\": [0, 1]}}, {\"showLink\": false, \"linkText\": \"Export to plot.ly\", \"plotlyServerURL\": \"https://plot.ly\"}); \n",
       "}\n",
       "});</script><script type=\"text/javascript\">window.addEventListener(\"resize\", function(){if (document.getElementById(\"b7544f20-368c-479e-8023-3938436330db\")) {window._Plotly.Plots.resize(document.getElementById(\"b7544f20-368c-479e-8023-3938436330db\"));};})</script>"
      ]
     },
     "metadata": {},
     "output_type": "display_data"
    },
    {
     "name": "stdout",
     "output_type": "stream",
     "text": [
      "\n",
      "\n",
      "Cluster 2 || variable: ¿Qué tipo de aplicaciones utilizas en tu ordenador/tableta/móvil? (Respuesta múltiple) [Otro]\n",
      "Describiendo la pregunta ¿Qué tipo de aplicaciones utilizas en tu ordenador/tableta/móvil? (Respuesta múltiple) [Otro]\n",
      "\n",
      "\n",
      "Cluster 2 || variable: Durante ese uso, ¿cuántas imágenes consumes (ves y compartes)?\n",
      "Describiendo la pregunta Durante ese uso, ¿cuántas imágenes consumes (ves y compartes)?\n",
      "Valores numéricos asociados a las respuestas [1, 2, 3, 4, 5]\n",
      "Respuestas posibles a la pregunta/variable ['1. Ninguna', '2. Pocas', '3. Ni muchas ni pocas', '4. Bastantes', '5. Recibo y envio imágenes de forma constante']\n"
     ]
    },
    {
     "data": {
      "text/plain": [
       "count    301.000000\n",
       "mean       3.933555\n",
       "std        0.813779\n",
       "min        1.000000\n",
       "25%        4.000000\n",
       "50%        4.000000\n",
       "75%        4.000000\n",
       "max        5.000000\n",
       "Name: Durante ese uso, ¿cuántas imágenes consumes (ves y compartes)?, dtype: float64"
      ]
     },
     "metadata": {},
     "output_type": "display_data"
    },
    {
     "name": "stdout",
     "output_type": "stream",
     "text": [
      "Conteo de cada valor en Durante ese uso, ¿cuántas imágenes consumes (ves y compartes)? expresada como valor / cantidad\n"
     ]
    },
    {
     "data": {
      "text/plain": [
       "1      2\n",
       "2     19\n",
       "3     41\n",
       "4    174\n",
       "5     65\n",
       "Name: Durante ese uso, ¿cuántas imágenes consumes (ves y compartes)?, dtype: int64"
      ]
     },
     "metadata": {},
     "output_type": "display_data"
    },
    {
     "name": "stdout",
     "output_type": "stream",
     "text": [
      "Porcentaje de cada valor en Durante ese uso, ¿cuántas imágenes consumes (ves y compartes)? expresado como valor / porcentaje\n"
     ]
    },
    {
     "data": {
      "text/plain": [
       "1     0.66\n",
       "2     6.31\n",
       "3    13.62\n",
       "4    57.81\n",
       "5    21.59\n",
       "Name: Durante ese uso, ¿cuántas imágenes consumes (ves y compartes)?, dtype: float64"
      ]
     },
     "metadata": {},
     "output_type": "display_data"
    },
    {
     "data": {
      "application/vnd.plotly.v1+json": {
       "config": {
        "linkText": "Export to plot.ly",
        "plotlyServerURL": "https://plot.ly",
        "showLink": false
       },
       "data": [
        {
         "marker": {
          "color": [
           "rgb(213,62,79)",
           "rgb(252,141,89)",
           "rgb(254,224,139)",
           "rgb(230,245,152)",
           "rgb(153,213,148)",
           "rgb(50,136,189)"
          ]
         },
         "type": "bar",
         "uid": "403602c9-0c41-40bf-a175-df8410301e01",
         "x": [
          1,
          2,
          3,
          4,
          5
         ],
         "y": [
          2,
          19,
          41,
          174,
          65
         ]
        }
       ],
       "layout": {
        "bargap": 0.2,
        "xaxis": {
         "ticktext": [
          "1. Ninguna",
          "2. Pocas",
          "3. Ni muchas ni pocas",
          "4. Bastantes",
          "5. Recibo y envio imágenes de forma constante"
         ],
         "tickvals": [
          1,
          2,
          3,
          4,
          5
         ]
        }
       }
      },
      "text/html": [
       "<div id=\"46d264d8-a0ff-4507-b2dc-885dc9f65e43\" style=\"height: 525px; width: 100%;\" class=\"plotly-graph-div\"></div><script type=\"text/javascript\">require([\"plotly\"], function(Plotly) { window.PLOTLYENV=window.PLOTLYENV || {};window.PLOTLYENV.BASE_URL=\"https://plot.ly\";\n",
       "if (document.getElementById(\"46d264d8-a0ff-4507-b2dc-885dc9f65e43\")) {\n",
       "    Plotly.newPlot(\"46d264d8-a0ff-4507-b2dc-885dc9f65e43\", [{\"marker\": {\"color\": [\"rgb(213,62,79)\", \"rgb(252,141,89)\", \"rgb(254,224,139)\", \"rgb(230,245,152)\", \"rgb(153,213,148)\", \"rgb(50,136,189)\"]}, \"x\": [1, 2, 3, 4, 5], \"y\": [2, 19, 41, 174, 65], \"type\": \"bar\", \"uid\": \"403602c9-0c41-40bf-a175-df8410301e01\"}], {\"bargap\": 0.2, \"xaxis\": {\"ticktext\": [\"1. Ninguna\", \"2. Pocas\", \"3. Ni muchas ni pocas\", \"4. Bastantes\", \"5. Recibo y envio im\\u00e1genes de forma constante\"], \"tickvals\": [1, 2, 3, 4, 5]}}, {\"showLink\": false, \"linkText\": \"Export to plot.ly\", \"plotlyServerURL\": \"https://plot.ly\"}); \n",
       "}\n",
       "});</script><script type=\"text/javascript\">window.addEventListener(\"resize\", function(){if (document.getElementById(\"46d264d8-a0ff-4507-b2dc-885dc9f65e43\")) {window._Plotly.Plots.resize(document.getElementById(\"46d264d8-a0ff-4507-b2dc-885dc9f65e43\"));};})</script>"
      ],
      "text/vnd.plotly.v1+html": [
       "<div id=\"46d264d8-a0ff-4507-b2dc-885dc9f65e43\" style=\"height: 525px; width: 100%;\" class=\"plotly-graph-div\"></div><script type=\"text/javascript\">require([\"plotly\"], function(Plotly) { window.PLOTLYENV=window.PLOTLYENV || {};window.PLOTLYENV.BASE_URL=\"https://plot.ly\";\n",
       "if (document.getElementById(\"46d264d8-a0ff-4507-b2dc-885dc9f65e43\")) {\n",
       "    Plotly.newPlot(\"46d264d8-a0ff-4507-b2dc-885dc9f65e43\", [{\"marker\": {\"color\": [\"rgb(213,62,79)\", \"rgb(252,141,89)\", \"rgb(254,224,139)\", \"rgb(230,245,152)\", \"rgb(153,213,148)\", \"rgb(50,136,189)\"]}, \"x\": [1, 2, 3, 4, 5], \"y\": [2, 19, 41, 174, 65], \"type\": \"bar\", \"uid\": \"403602c9-0c41-40bf-a175-df8410301e01\"}], {\"bargap\": 0.2, \"xaxis\": {\"ticktext\": [\"1. Ninguna\", \"2. Pocas\", \"3. Ni muchas ni pocas\", \"4. Bastantes\", \"5. Recibo y envio im\\u00e1genes de forma constante\"], \"tickvals\": [1, 2, 3, 4, 5]}}, {\"showLink\": false, \"linkText\": \"Export to plot.ly\", \"plotlyServerURL\": \"https://plot.ly\"}); \n",
       "}\n",
       "});</script><script type=\"text/javascript\">window.addEventListener(\"resize\", function(){if (document.getElementById(\"46d264d8-a0ff-4507-b2dc-885dc9f65e43\")) {window._Plotly.Plots.resize(document.getElementById(\"46d264d8-a0ff-4507-b2dc-885dc9f65e43\"));};})</script>"
      ]
     },
     "metadata": {},
     "output_type": "display_data"
    },
    {
     "name": "stdout",
     "output_type": "stream",
     "text": [
      "\n",
      "\n",
      "Cluster 2 || variable: ¿Cuál es tu herramienta habitual de consumo de imágenes?\n",
      "Describiendo la pregunta ¿Cuál es tu herramienta habitual de consumo de imágenes?\n",
      "Valores numéricos asociados a las respuestas [1, 2, 3, 4, 5]\n",
      "Respuestas posibles a la pregunta/variable ['1. Móvil', '2. Televisión', '3. Ordenador', '4. Tableta', '5. Otros (Libros y periódicos en papel, marquesinas, museos...)']\n"
     ]
    },
    {
     "data": {
      "text/plain": [
       "count    301.000000\n",
       "mean       2.023256\n",
       "std        1.046959\n",
       "min        1.000000\n",
       "25%        1.000000\n",
       "50%        2.000000\n",
       "75%        3.000000\n",
       "max        4.000000\n",
       "Name: ¿Cuál es tu herramienta habitual de consumo de imágenes?, dtype: float64"
      ]
     },
     "metadata": {},
     "output_type": "display_data"
    },
    {
     "name": "stdout",
     "output_type": "stream",
     "text": [
      "Conteo de cada valor en ¿Cuál es tu herramienta habitual de consumo de imágenes? expresada como valor / cantidad\n"
     ]
    },
    {
     "data": {
      "text/plain": [
       "1    145\n",
       "2     20\n",
       "3    120\n",
       "4     16\n",
       "Name: ¿Cuál es tu herramienta habitual de consumo de imágenes?, dtype: int64"
      ]
     },
     "metadata": {},
     "output_type": "display_data"
    },
    {
     "name": "stdout",
     "output_type": "stream",
     "text": [
      "Porcentaje de cada valor en ¿Cuál es tu herramienta habitual de consumo de imágenes? expresado como valor / porcentaje\n"
     ]
    },
    {
     "data": {
      "text/plain": [
       "1    48.17\n",
       "2     6.64\n",
       "3    39.87\n",
       "4     5.32\n",
       "Name: ¿Cuál es tu herramienta habitual de consumo de imágenes?, dtype: float64"
      ]
     },
     "metadata": {},
     "output_type": "display_data"
    },
    {
     "data": {
      "application/vnd.plotly.v1+json": {
       "config": {
        "linkText": "Export to plot.ly",
        "plotlyServerURL": "https://plot.ly",
        "showLink": false
       },
       "data": [
        {
         "marker": {
          "color": [
           "rgb(213,62,79)",
           "rgb(252,141,89)",
           "rgb(254,224,139)",
           "rgb(230,245,152)",
           "rgb(153,213,148)",
           "rgb(50,136,189)"
          ]
         },
         "type": "bar",
         "uid": "8c7af641-3006-42a5-b933-853a8b8c74d8",
         "x": [
          1,
          2,
          3,
          4
         ],
         "y": [
          145,
          20,
          120,
          16
         ]
        }
       ],
       "layout": {
        "bargap": 0.2,
        "xaxis": {
         "ticktext": [
          "1. Móvil",
          "2. Televisión",
          "3. Ordenador",
          "4. Tableta",
          "5. Otros (Libros y periódicos en papel, marquesinas, museos...)"
         ],
         "tickvals": [
          1,
          2,
          3,
          4,
          5
         ]
        }
       }
      },
      "text/html": [
       "<div id=\"1bb9cb54-d36d-40f1-a78a-d50f823fa0cb\" style=\"height: 525px; width: 100%;\" class=\"plotly-graph-div\"></div><script type=\"text/javascript\">require([\"plotly\"], function(Plotly) { window.PLOTLYENV=window.PLOTLYENV || {};window.PLOTLYENV.BASE_URL=\"https://plot.ly\";\n",
       "if (document.getElementById(\"1bb9cb54-d36d-40f1-a78a-d50f823fa0cb\")) {\n",
       "    Plotly.newPlot(\"1bb9cb54-d36d-40f1-a78a-d50f823fa0cb\", [{\"marker\": {\"color\": [\"rgb(213,62,79)\", \"rgb(252,141,89)\", \"rgb(254,224,139)\", \"rgb(230,245,152)\", \"rgb(153,213,148)\", \"rgb(50,136,189)\"]}, \"x\": [1, 2, 3, 4], \"y\": [145, 20, 120, 16], \"type\": \"bar\", \"uid\": \"8c7af641-3006-42a5-b933-853a8b8c74d8\"}], {\"bargap\": 0.2, \"xaxis\": {\"ticktext\": [\"1. M\\u00f3vil\", \"2. Televisi\\u00f3n\", \"3. Ordenador\", \"4. Tableta\", \"5. Otros (Libros y peri\\u00f3dicos en papel, marquesinas, museos...)\"], \"tickvals\": [1, 2, 3, 4, 5]}}, {\"showLink\": false, \"linkText\": \"Export to plot.ly\", \"plotlyServerURL\": \"https://plot.ly\"}); \n",
       "}\n",
       "});</script><script type=\"text/javascript\">window.addEventListener(\"resize\", function(){if (document.getElementById(\"1bb9cb54-d36d-40f1-a78a-d50f823fa0cb\")) {window._Plotly.Plots.resize(document.getElementById(\"1bb9cb54-d36d-40f1-a78a-d50f823fa0cb\"));};})</script>"
      ],
      "text/vnd.plotly.v1+html": [
       "<div id=\"1bb9cb54-d36d-40f1-a78a-d50f823fa0cb\" style=\"height: 525px; width: 100%;\" class=\"plotly-graph-div\"></div><script type=\"text/javascript\">require([\"plotly\"], function(Plotly) { window.PLOTLYENV=window.PLOTLYENV || {};window.PLOTLYENV.BASE_URL=\"https://plot.ly\";\n",
       "if (document.getElementById(\"1bb9cb54-d36d-40f1-a78a-d50f823fa0cb\")) {\n",
       "    Plotly.newPlot(\"1bb9cb54-d36d-40f1-a78a-d50f823fa0cb\", [{\"marker\": {\"color\": [\"rgb(213,62,79)\", \"rgb(252,141,89)\", \"rgb(254,224,139)\", \"rgb(230,245,152)\", \"rgb(153,213,148)\", \"rgb(50,136,189)\"]}, \"x\": [1, 2, 3, 4], \"y\": [145, 20, 120, 16], \"type\": \"bar\", \"uid\": \"8c7af641-3006-42a5-b933-853a8b8c74d8\"}], {\"bargap\": 0.2, \"xaxis\": {\"ticktext\": [\"1. M\\u00f3vil\", \"2. Televisi\\u00f3n\", \"3. Ordenador\", \"4. Tableta\", \"5. Otros (Libros y peri\\u00f3dicos en papel, marquesinas, museos...)\"], \"tickvals\": [1, 2, 3, 4, 5]}}, {\"showLink\": false, \"linkText\": \"Export to plot.ly\", \"plotlyServerURL\": \"https://plot.ly\"}); \n",
       "}\n",
       "});</script><script type=\"text/javascript\">window.addEventListener(\"resize\", function(){if (document.getElementById(\"1bb9cb54-d36d-40f1-a78a-d50f823fa0cb\")) {window._Plotly.Plots.resize(document.getElementById(\"1bb9cb54-d36d-40f1-a78a-d50f823fa0cb\"));};})</script>"
      ]
     },
     "metadata": {},
     "output_type": "display_data"
    },
    {
     "name": "stdout",
     "output_type": "stream",
     "text": [
      "\n",
      "\n",
      "Cluster 2 || variable: ¿Cada cuánto tiempo consumes imágenes?\n",
      "Describiendo la pregunta ¿Cada cuánto tiempo consumes imágenes?\n",
      "Valores numéricos asociados a las respuestas [1, 2, 3, 4]\n",
      "Respuestas posibles a la pregunta/variable ['1. Nunca', '2. Dos o tres veces por semana', '3. Casi todos los días', '4. A diario']\n"
     ]
    },
    {
     "data": {
      "text/plain": [
       "count    301.000000\n",
       "mean       3.468439\n",
       "std        0.699881\n",
       "min        1.000000\n",
       "25%        3.000000\n",
       "50%        4.000000\n",
       "75%        4.000000\n",
       "max        4.000000\n",
       "Name: ¿Cada cuánto tiempo consumes imágenes?, dtype: float64"
      ]
     },
     "metadata": {},
     "output_type": "display_data"
    },
    {
     "name": "stdout",
     "output_type": "stream",
     "text": [
      "Conteo de cada valor en ¿Cada cuánto tiempo consumes imágenes? expresada como valor / cantidad\n"
     ]
    },
    {
     "data": {
      "text/plain": [
       "1      2\n",
       "2     30\n",
       "3     94\n",
       "4    175\n",
       "Name: ¿Cada cuánto tiempo consumes imágenes?, dtype: int64"
      ]
     },
     "metadata": {},
     "output_type": "display_data"
    },
    {
     "name": "stdout",
     "output_type": "stream",
     "text": [
      "Porcentaje de cada valor en ¿Cada cuánto tiempo consumes imágenes? expresado como valor / porcentaje\n"
     ]
    },
    {
     "data": {
      "text/plain": [
       "1     0.66\n",
       "2     9.97\n",
       "3    31.23\n",
       "4    58.14\n",
       "Name: ¿Cada cuánto tiempo consumes imágenes?, dtype: float64"
      ]
     },
     "metadata": {},
     "output_type": "display_data"
    },
    {
     "data": {
      "application/vnd.plotly.v1+json": {
       "config": {
        "linkText": "Export to plot.ly",
        "plotlyServerURL": "https://plot.ly",
        "showLink": false
       },
       "data": [
        {
         "marker": {
          "color": [
           "rgb(213,62,79)",
           "rgb(252,141,89)",
           "rgb(254,224,139)",
           "rgb(230,245,152)",
           "rgb(153,213,148)",
           "rgb(50,136,189)"
          ]
         },
         "type": "bar",
         "uid": "7249b815-6f3a-453d-be0b-7759b8cc372a",
         "x": [
          1,
          2,
          3,
          4
         ],
         "y": [
          2,
          30,
          94,
          175
         ]
        }
       ],
       "layout": {
        "bargap": 0.2,
        "xaxis": {
         "ticktext": [
          "1. Nunca",
          "2. Dos o tres veces por semana",
          "3. Casi todos los días",
          "4. A diario"
         ],
         "tickvals": [
          1,
          2,
          3,
          4
         ]
        }
       }
      },
      "text/html": [
       "<div id=\"6f8ba931-c3a8-441a-8f12-47005f4e3676\" style=\"height: 525px; width: 100%;\" class=\"plotly-graph-div\"></div><script type=\"text/javascript\">require([\"plotly\"], function(Plotly) { window.PLOTLYENV=window.PLOTLYENV || {};window.PLOTLYENV.BASE_URL=\"https://plot.ly\";\n",
       "if (document.getElementById(\"6f8ba931-c3a8-441a-8f12-47005f4e3676\")) {\n",
       "    Plotly.newPlot(\"6f8ba931-c3a8-441a-8f12-47005f4e3676\", [{\"marker\": {\"color\": [\"rgb(213,62,79)\", \"rgb(252,141,89)\", \"rgb(254,224,139)\", \"rgb(230,245,152)\", \"rgb(153,213,148)\", \"rgb(50,136,189)\"]}, \"x\": [1, 2, 3, 4], \"y\": [2, 30, 94, 175], \"type\": \"bar\", \"uid\": \"7249b815-6f3a-453d-be0b-7759b8cc372a\"}], {\"bargap\": 0.2, \"xaxis\": {\"ticktext\": [\"1. Nunca\", \"2. Dos o tres veces por semana\", \"3. Casi todos los d\\u00edas\", \"4. A diario\"], \"tickvals\": [1, 2, 3, 4]}}, {\"showLink\": false, \"linkText\": \"Export to plot.ly\", \"plotlyServerURL\": \"https://plot.ly\"}); \n",
       "}\n",
       "});</script><script type=\"text/javascript\">window.addEventListener(\"resize\", function(){if (document.getElementById(\"6f8ba931-c3a8-441a-8f12-47005f4e3676\")) {window._Plotly.Plots.resize(document.getElementById(\"6f8ba931-c3a8-441a-8f12-47005f4e3676\"));};})</script>"
      ],
      "text/vnd.plotly.v1+html": [
       "<div id=\"6f8ba931-c3a8-441a-8f12-47005f4e3676\" style=\"height: 525px; width: 100%;\" class=\"plotly-graph-div\"></div><script type=\"text/javascript\">require([\"plotly\"], function(Plotly) { window.PLOTLYENV=window.PLOTLYENV || {};window.PLOTLYENV.BASE_URL=\"https://plot.ly\";\n",
       "if (document.getElementById(\"6f8ba931-c3a8-441a-8f12-47005f4e3676\")) {\n",
       "    Plotly.newPlot(\"6f8ba931-c3a8-441a-8f12-47005f4e3676\", [{\"marker\": {\"color\": [\"rgb(213,62,79)\", \"rgb(252,141,89)\", \"rgb(254,224,139)\", \"rgb(230,245,152)\", \"rgb(153,213,148)\", \"rgb(50,136,189)\"]}, \"x\": [1, 2, 3, 4], \"y\": [2, 30, 94, 175], \"type\": \"bar\", \"uid\": \"7249b815-6f3a-453d-be0b-7759b8cc372a\"}], {\"bargap\": 0.2, \"xaxis\": {\"ticktext\": [\"1. Nunca\", \"2. Dos o tres veces por semana\", \"3. Casi todos los d\\u00edas\", \"4. A diario\"], \"tickvals\": [1, 2, 3, 4]}}, {\"showLink\": false, \"linkText\": \"Export to plot.ly\", \"plotlyServerURL\": \"https://plot.ly\"}); \n",
       "}\n",
       "});</script><script type=\"text/javascript\">window.addEventListener(\"resize\", function(){if (document.getElementById(\"6f8ba931-c3a8-441a-8f12-47005f4e3676\")) {window._Plotly.Plots.resize(document.getElementById(\"6f8ba931-c3a8-441a-8f12-47005f4e3676\"));};})</script>"
      ]
     },
     "metadata": {},
     "output_type": "display_data"
    },
    {
     "name": "stdout",
     "output_type": "stream",
     "text": [
      "\n",
      "\n",
      "Cluster 1 || variable: Clasifica tu grado de visión\n",
      "Describiendo la pregunta Clasifica tu grado de visión\n",
      "Valores numéricos asociados a las respuestas [1, 2, 3, 4, 5]\n",
      "Respuestas posibles a la pregunta/variable ['1. Muy malo', '2. Malo', '3. Regular', '4. Bueno', '5. Muy bueno']\n"
     ]
    },
    {
     "data": {
      "text/plain": [
       "count    223.000000\n",
       "mean       3.910314\n",
       "std        0.944892\n",
       "min        1.000000\n",
       "25%        3.000000\n",
       "50%        4.000000\n",
       "75%        5.000000\n",
       "max        5.000000\n",
       "Name: Clasifica tu grado de visión, dtype: float64"
      ]
     },
     "metadata": {},
     "output_type": "display_data"
    },
    {
     "name": "stdout",
     "output_type": "stream",
     "text": [
      "Conteo de cada valor en Clasifica tu grado de visión expresada como valor / cantidad\n"
     ]
    },
    {
     "data": {
      "text/plain": [
       "1     2\n",
       "2    17\n",
       "3    47\n",
       "4    90\n",
       "5    67\n",
       "Name: Clasifica tu grado de visión, dtype: int64"
      ]
     },
     "metadata": {},
     "output_type": "display_data"
    },
    {
     "name": "stdout",
     "output_type": "stream",
     "text": [
      "Porcentaje de cada valor en Clasifica tu grado de visión expresado como valor / porcentaje\n"
     ]
    },
    {
     "data": {
      "text/plain": [
       "1     0.90\n",
       "2     7.62\n",
       "3    21.08\n",
       "4    40.36\n",
       "5    30.04\n",
       "Name: Clasifica tu grado de visión, dtype: float64"
      ]
     },
     "metadata": {},
     "output_type": "display_data"
    },
    {
     "data": {
      "application/vnd.plotly.v1+json": {
       "config": {
        "linkText": "Export to plot.ly",
        "plotlyServerURL": "https://plot.ly",
        "showLink": false
       },
       "data": [
        {
         "marker": {
          "color": [
           "rgb(213,62,79)",
           "rgb(252,141,89)",
           "rgb(254,224,139)",
           "rgb(230,245,152)",
           "rgb(153,213,148)",
           "rgb(50,136,189)"
          ]
         },
         "type": "bar",
         "uid": "b04c03ed-3157-4b0f-9864-623a95cc3ede",
         "x": [
          1,
          2,
          3,
          4,
          5
         ],
         "y": [
          2,
          17,
          47,
          90,
          67
         ]
        }
       ],
       "layout": {
        "bargap": 0.2,
        "xaxis": {
         "ticktext": [
          "1. Muy malo",
          "2. Malo",
          "3. Regular",
          "4. Bueno",
          "5. Muy bueno"
         ],
         "tickvals": [
          1,
          2,
          3,
          4,
          5
         ]
        }
       }
      },
      "text/html": [
       "<div id=\"468fac61-2810-439c-b221-174df7118744\" style=\"height: 525px; width: 100%;\" class=\"plotly-graph-div\"></div><script type=\"text/javascript\">require([\"plotly\"], function(Plotly) { window.PLOTLYENV=window.PLOTLYENV || {};window.PLOTLYENV.BASE_URL=\"https://plot.ly\";\n",
       "if (document.getElementById(\"468fac61-2810-439c-b221-174df7118744\")) {\n",
       "    Plotly.newPlot(\"468fac61-2810-439c-b221-174df7118744\", [{\"marker\": {\"color\": [\"rgb(213,62,79)\", \"rgb(252,141,89)\", \"rgb(254,224,139)\", \"rgb(230,245,152)\", \"rgb(153,213,148)\", \"rgb(50,136,189)\"]}, \"x\": [1, 2, 3, 4, 5], \"y\": [2, 17, 47, 90, 67], \"type\": \"bar\", \"uid\": \"b04c03ed-3157-4b0f-9864-623a95cc3ede\"}], {\"bargap\": 0.2, \"xaxis\": {\"ticktext\": [\"1. Muy malo\", \"2. Malo\", \"3. Regular\", \"4. Bueno\", \"5. Muy bueno\"], \"tickvals\": [1, 2, 3, 4, 5]}}, {\"showLink\": false, \"linkText\": \"Export to plot.ly\", \"plotlyServerURL\": \"https://plot.ly\"}); \n",
       "}\n",
       "});</script><script type=\"text/javascript\">window.addEventListener(\"resize\", function(){if (document.getElementById(\"468fac61-2810-439c-b221-174df7118744\")) {window._Plotly.Plots.resize(document.getElementById(\"468fac61-2810-439c-b221-174df7118744\"));};})</script>"
      ],
      "text/vnd.plotly.v1+html": [
       "<div id=\"468fac61-2810-439c-b221-174df7118744\" style=\"height: 525px; width: 100%;\" class=\"plotly-graph-div\"></div><script type=\"text/javascript\">require([\"plotly\"], function(Plotly) { window.PLOTLYENV=window.PLOTLYENV || {};window.PLOTLYENV.BASE_URL=\"https://plot.ly\";\n",
       "if (document.getElementById(\"468fac61-2810-439c-b221-174df7118744\")) {\n",
       "    Plotly.newPlot(\"468fac61-2810-439c-b221-174df7118744\", [{\"marker\": {\"color\": [\"rgb(213,62,79)\", \"rgb(252,141,89)\", \"rgb(254,224,139)\", \"rgb(230,245,152)\", \"rgb(153,213,148)\", \"rgb(50,136,189)\"]}, \"x\": [1, 2, 3, 4, 5], \"y\": [2, 17, 47, 90, 67], \"type\": \"bar\", \"uid\": \"b04c03ed-3157-4b0f-9864-623a95cc3ede\"}], {\"bargap\": 0.2, \"xaxis\": {\"ticktext\": [\"1. Muy malo\", \"2. Malo\", \"3. Regular\", \"4. Bueno\", \"5. Muy bueno\"], \"tickvals\": [1, 2, 3, 4, 5]}}, {\"showLink\": false, \"linkText\": \"Export to plot.ly\", \"plotlyServerURL\": \"https://plot.ly\"}); \n",
       "}\n",
       "});</script><script type=\"text/javascript\">window.addEventListener(\"resize\", function(){if (document.getElementById(\"468fac61-2810-439c-b221-174df7118744\")) {window._Plotly.Plots.resize(document.getElementById(\"468fac61-2810-439c-b221-174df7118744\"));};})</script>"
      ]
     },
     "metadata": {},
     "output_type": "display_data"
    },
    {
     "name": "stdout",
     "output_type": "stream",
     "text": [
      "\n",
      "\n",
      "Cluster 1 || variable: ¿Utilizas gafas o lentes de contacto?\n",
      "Describiendo la pregunta ¿Utilizas gafas o lentes de contacto?\n",
      "Valores numéricos asociados a las respuestas [0, 1]\n",
      "Respuestas posibles a la pregunta/variable ['No', 'Sí']\n"
     ]
    },
    {
     "data": {
      "text/plain": [
       "count    223.000000\n",
       "mean       0.632287\n",
       "std        0.483267\n",
       "min        0.000000\n",
       "25%        0.000000\n",
       "50%        1.000000\n",
       "75%        1.000000\n",
       "max        1.000000\n",
       "Name: ¿Utilizas gafas o lentes de contacto?, dtype: float64"
      ]
     },
     "metadata": {},
     "output_type": "display_data"
    },
    {
     "name": "stdout",
     "output_type": "stream",
     "text": [
      "Conteo de cada valor en ¿Utilizas gafas o lentes de contacto? expresada como valor / cantidad\n"
     ]
    },
    {
     "data": {
      "text/plain": [
       "0     82\n",
       "1    141\n",
       "Name: ¿Utilizas gafas o lentes de contacto?, dtype: int64"
      ]
     },
     "metadata": {},
     "output_type": "display_data"
    },
    {
     "name": "stdout",
     "output_type": "stream",
     "text": [
      "Porcentaje de cada valor en ¿Utilizas gafas o lentes de contacto? expresado como valor / porcentaje\n"
     ]
    },
    {
     "data": {
      "text/plain": [
       "0    36.77\n",
       "1    63.23\n",
       "Name: ¿Utilizas gafas o lentes de contacto?, dtype: float64"
      ]
     },
     "metadata": {},
     "output_type": "display_data"
    },
    {
     "data": {
      "application/vnd.plotly.v1+json": {
       "config": {
        "linkText": "Export to plot.ly",
        "plotlyServerURL": "https://plot.ly",
        "showLink": false
       },
       "data": [
        {
         "marker": {
          "color": [
           "rgb(213,62,79)",
           "rgb(252,141,89)",
           "rgb(254,224,139)",
           "rgb(230,245,152)",
           "rgb(153,213,148)",
           "rgb(50,136,189)"
          ]
         },
         "type": "bar",
         "uid": "93a623ef-59af-4244-be74-ce7377631157",
         "x": [
          0,
          1
         ],
         "y": [
          82,
          141
         ]
        }
       ],
       "layout": {
        "bargap": 0.2,
        "xaxis": {
         "ticktext": [
          "No",
          "Sí"
         ],
         "tickvals": [
          0,
          1
         ]
        }
       }
      },
      "text/html": [
       "<div id=\"e4273882-2ef4-4936-a0f8-c596182d3f18\" style=\"height: 525px; width: 100%;\" class=\"plotly-graph-div\"></div><script type=\"text/javascript\">require([\"plotly\"], function(Plotly) { window.PLOTLYENV=window.PLOTLYENV || {};window.PLOTLYENV.BASE_URL=\"https://plot.ly\";\n",
       "if (document.getElementById(\"e4273882-2ef4-4936-a0f8-c596182d3f18\")) {\n",
       "    Plotly.newPlot(\"e4273882-2ef4-4936-a0f8-c596182d3f18\", [{\"marker\": {\"color\": [\"rgb(213,62,79)\", \"rgb(252,141,89)\", \"rgb(254,224,139)\", \"rgb(230,245,152)\", \"rgb(153,213,148)\", \"rgb(50,136,189)\"]}, \"x\": [0, 1], \"y\": [82, 141], \"type\": \"bar\", \"uid\": \"93a623ef-59af-4244-be74-ce7377631157\"}], {\"bargap\": 0.2, \"xaxis\": {\"ticktext\": [\"No\", \"S\\u00ed\"], \"tickvals\": [0, 1]}}, {\"showLink\": false, \"linkText\": \"Export to plot.ly\", \"plotlyServerURL\": \"https://plot.ly\"}); \n",
       "}\n",
       "});</script><script type=\"text/javascript\">window.addEventListener(\"resize\", function(){if (document.getElementById(\"e4273882-2ef4-4936-a0f8-c596182d3f18\")) {window._Plotly.Plots.resize(document.getElementById(\"e4273882-2ef4-4936-a0f8-c596182d3f18\"));};})</script>"
      ],
      "text/vnd.plotly.v1+html": [
       "<div id=\"e4273882-2ef4-4936-a0f8-c596182d3f18\" style=\"height: 525px; width: 100%;\" class=\"plotly-graph-div\"></div><script type=\"text/javascript\">require([\"plotly\"], function(Plotly) { window.PLOTLYENV=window.PLOTLYENV || {};window.PLOTLYENV.BASE_URL=\"https://plot.ly\";\n",
       "if (document.getElementById(\"e4273882-2ef4-4936-a0f8-c596182d3f18\")) {\n",
       "    Plotly.newPlot(\"e4273882-2ef4-4936-a0f8-c596182d3f18\", [{\"marker\": {\"color\": [\"rgb(213,62,79)\", \"rgb(252,141,89)\", \"rgb(254,224,139)\", \"rgb(230,245,152)\", \"rgb(153,213,148)\", \"rgb(50,136,189)\"]}, \"x\": [0, 1], \"y\": [82, 141], \"type\": \"bar\", \"uid\": \"93a623ef-59af-4244-be74-ce7377631157\"}], {\"bargap\": 0.2, \"xaxis\": {\"ticktext\": [\"No\", \"S\\u00ed\"], \"tickvals\": [0, 1]}}, {\"showLink\": false, \"linkText\": \"Export to plot.ly\", \"plotlyServerURL\": \"https://plot.ly\"}); \n",
       "}\n",
       "});</script><script type=\"text/javascript\">window.addEventListener(\"resize\", function(){if (document.getElementById(\"e4273882-2ef4-4936-a0f8-c596182d3f18\")) {window._Plotly.Plots.resize(document.getElementById(\"e4273882-2ef4-4936-a0f8-c596182d3f18\"));};})</script>"
      ]
     },
     "metadata": {},
     "output_type": "display_data"
    },
    {
     "name": "stdout",
     "output_type": "stream",
     "text": [
      "\n",
      "\n",
      "Cluster 1 || variable: ¿Tienes alguna carencia visual que afecte a la recepción de formas, colores, distancias, etc.?\n",
      "Describiendo la pregunta ¿Tienes alguna carencia visual que afecte a la recepción de formas, colores, distancias, etc.?\n",
      "Valores numéricos asociados a las respuestas [0, 1]\n",
      "Respuestas posibles a la pregunta/variable ['No', 'Sí']\n"
     ]
    },
    {
     "data": {
      "text/plain": [
       "count    223.000000\n",
       "mean       0.233184\n",
       "std        0.423810\n",
       "min        0.000000\n",
       "25%        0.000000\n",
       "50%        0.000000\n",
       "75%        0.000000\n",
       "max        1.000000\n",
       "Name: ¿Tienes alguna carencia visual que afecte a la recepción de formas, colores, distancias, etc.?, dtype: float64"
      ]
     },
     "metadata": {},
     "output_type": "display_data"
    },
    {
     "name": "stdout",
     "output_type": "stream",
     "text": [
      "Conteo de cada valor en ¿Tienes alguna carencia visual que afecte a la recepción de formas, colores, distancias, etc.? expresada como valor / cantidad\n"
     ]
    },
    {
     "data": {
      "text/plain": [
       "0    171\n",
       "1     52\n",
       "Name: ¿Tienes alguna carencia visual que afecte a la recepción de formas, colores, distancias, etc.?, dtype: int64"
      ]
     },
     "metadata": {},
     "output_type": "display_data"
    },
    {
     "name": "stdout",
     "output_type": "stream",
     "text": [
      "Porcentaje de cada valor en ¿Tienes alguna carencia visual que afecte a la recepción de formas, colores, distancias, etc.? expresado como valor / porcentaje\n"
     ]
    },
    {
     "data": {
      "text/plain": [
       "0    76.68\n",
       "1    23.32\n",
       "Name: ¿Tienes alguna carencia visual que afecte a la recepción de formas, colores, distancias, etc.?, dtype: float64"
      ]
     },
     "metadata": {},
     "output_type": "display_data"
    },
    {
     "data": {
      "application/vnd.plotly.v1+json": {
       "config": {
        "linkText": "Export to plot.ly",
        "plotlyServerURL": "https://plot.ly",
        "showLink": false
       },
       "data": [
        {
         "marker": {
          "color": [
           "rgb(213,62,79)",
           "rgb(252,141,89)",
           "rgb(254,224,139)",
           "rgb(230,245,152)",
           "rgb(153,213,148)",
           "rgb(50,136,189)"
          ]
         },
         "type": "bar",
         "uid": "48f3b2ed-eee9-400b-b526-8e53d3be7659",
         "x": [
          0,
          1
         ],
         "y": [
          171,
          52
         ]
        }
       ],
       "layout": {
        "bargap": 0.2,
        "xaxis": {
         "ticktext": [
          "No",
          "Sí"
         ],
         "tickvals": [
          0,
          1
         ]
        }
       }
      },
      "text/html": [
       "<div id=\"8bdc4362-97c5-4876-8572-6def18bcd7f4\" style=\"height: 525px; width: 100%;\" class=\"plotly-graph-div\"></div><script type=\"text/javascript\">require([\"plotly\"], function(Plotly) { window.PLOTLYENV=window.PLOTLYENV || {};window.PLOTLYENV.BASE_URL=\"https://plot.ly\";\n",
       "if (document.getElementById(\"8bdc4362-97c5-4876-8572-6def18bcd7f4\")) {\n",
       "    Plotly.newPlot(\"8bdc4362-97c5-4876-8572-6def18bcd7f4\", [{\"marker\": {\"color\": [\"rgb(213,62,79)\", \"rgb(252,141,89)\", \"rgb(254,224,139)\", \"rgb(230,245,152)\", \"rgb(153,213,148)\", \"rgb(50,136,189)\"]}, \"x\": [0, 1], \"y\": [171, 52], \"type\": \"bar\", \"uid\": \"48f3b2ed-eee9-400b-b526-8e53d3be7659\"}], {\"bargap\": 0.2, \"xaxis\": {\"ticktext\": [\"No\", \"S\\u00ed\"], \"tickvals\": [0, 1]}}, {\"showLink\": false, \"linkText\": \"Export to plot.ly\", \"plotlyServerURL\": \"https://plot.ly\"}); \n",
       "}\n",
       "});</script><script type=\"text/javascript\">window.addEventListener(\"resize\", function(){if (document.getElementById(\"8bdc4362-97c5-4876-8572-6def18bcd7f4\")) {window._Plotly.Plots.resize(document.getElementById(\"8bdc4362-97c5-4876-8572-6def18bcd7f4\"));};})</script>"
      ],
      "text/vnd.plotly.v1+html": [
       "<div id=\"8bdc4362-97c5-4876-8572-6def18bcd7f4\" style=\"height: 525px; width: 100%;\" class=\"plotly-graph-div\"></div><script type=\"text/javascript\">require([\"plotly\"], function(Plotly) { window.PLOTLYENV=window.PLOTLYENV || {};window.PLOTLYENV.BASE_URL=\"https://plot.ly\";\n",
       "if (document.getElementById(\"8bdc4362-97c5-4876-8572-6def18bcd7f4\")) {\n",
       "    Plotly.newPlot(\"8bdc4362-97c5-4876-8572-6def18bcd7f4\", [{\"marker\": {\"color\": [\"rgb(213,62,79)\", \"rgb(252,141,89)\", \"rgb(254,224,139)\", \"rgb(230,245,152)\", \"rgb(153,213,148)\", \"rgb(50,136,189)\"]}, \"x\": [0, 1], \"y\": [171, 52], \"type\": \"bar\", \"uid\": \"48f3b2ed-eee9-400b-b526-8e53d3be7659\"}], {\"bargap\": 0.2, \"xaxis\": {\"ticktext\": [\"No\", \"S\\u00ed\"], \"tickvals\": [0, 1]}}, {\"showLink\": false, \"linkText\": \"Export to plot.ly\", \"plotlyServerURL\": \"https://plot.ly\"}); \n",
       "}\n",
       "});</script><script type=\"text/javascript\">window.addEventListener(\"resize\", function(){if (document.getElementById(\"8bdc4362-97c5-4876-8572-6def18bcd7f4\")) {window._Plotly.Plots.resize(document.getElementById(\"8bdc4362-97c5-4876-8572-6def18bcd7f4\"));};})</script>"
      ]
     },
     "metadata": {},
     "output_type": "display_data"
    },
    {
     "name": "stdout",
     "output_type": "stream",
     "text": [
      "\n",
      "\n",
      "Cluster 1 || variable: ¿Tienes acceso a dispositivos (ordenador, móvil, tablet, etc.) conectados a Internet habitualmente?\n",
      "Describiendo la pregunta ¿Tienes acceso a dispositivos (ordenador, móvil, tablet, etc.) conectados a Internet habitualmente?\n",
      "Valores numéricos asociados a las respuestas [1, 2, 3, 4, 5]\n",
      "Respuestas posibles a la pregunta/variable ['1. Nunca', '2. Ocasionalmente', '3. Semanalmente', '4. Diariamente', '5. Varias veces al día']\n"
     ]
    },
    {
     "data": {
      "text/plain": [
       "count    223.000000\n",
       "mean       4.901345\n",
       "std        0.298869\n",
       "min        4.000000\n",
       "25%        5.000000\n",
       "50%        5.000000\n",
       "75%        5.000000\n",
       "max        5.000000\n",
       "Name: ¿Tienes acceso a dispositivos (ordenador, móvil, tablet, etc.) conectados a Internet habitualmente?, dtype: float64"
      ]
     },
     "metadata": {},
     "output_type": "display_data"
    },
    {
     "name": "stdout",
     "output_type": "stream",
     "text": [
      "Conteo de cada valor en ¿Tienes acceso a dispositivos (ordenador, móvil, tablet, etc.) conectados a Internet habitualmente? expresada como valor / cantidad\n"
     ]
    },
    {
     "data": {
      "text/plain": [
       "4     22\n",
       "5    201\n",
       "Name: ¿Tienes acceso a dispositivos (ordenador, móvil, tablet, etc.) conectados a Internet habitualmente?, dtype: int64"
      ]
     },
     "metadata": {},
     "output_type": "display_data"
    },
    {
     "name": "stdout",
     "output_type": "stream",
     "text": [
      "Porcentaje de cada valor en ¿Tienes acceso a dispositivos (ordenador, móvil, tablet, etc.) conectados a Internet habitualmente? expresado como valor / porcentaje\n"
     ]
    },
    {
     "data": {
      "text/plain": [
       "4     9.87\n",
       "5    90.13\n",
       "Name: ¿Tienes acceso a dispositivos (ordenador, móvil, tablet, etc.) conectados a Internet habitualmente?, dtype: float64"
      ]
     },
     "metadata": {},
     "output_type": "display_data"
    },
    {
     "data": {
      "application/vnd.plotly.v1+json": {
       "config": {
        "linkText": "Export to plot.ly",
        "plotlyServerURL": "https://plot.ly",
        "showLink": false
       },
       "data": [
        {
         "marker": {
          "color": [
           "rgb(213,62,79)",
           "rgb(252,141,89)",
           "rgb(254,224,139)",
           "rgb(230,245,152)",
           "rgb(153,213,148)",
           "rgb(50,136,189)"
          ]
         },
         "type": "bar",
         "uid": "c3d338af-2fbc-4cd6-81b7-22a264c9bc19",
         "x": [
          4,
          5
         ],
         "y": [
          22,
          201
         ]
        }
       ],
       "layout": {
        "bargap": 0.2,
        "xaxis": {
         "ticktext": [
          "1. Nunca",
          "2. Ocasionalmente",
          "3. Semanalmente",
          "4. Diariamente",
          "5. Varias veces al día"
         ],
         "tickvals": [
          1,
          2,
          3,
          4,
          5
         ]
        }
       }
      },
      "text/html": [
       "<div id=\"718212bb-9d3b-4b28-8df6-a6e57b5502ca\" style=\"height: 525px; width: 100%;\" class=\"plotly-graph-div\"></div><script type=\"text/javascript\">require([\"plotly\"], function(Plotly) { window.PLOTLYENV=window.PLOTLYENV || {};window.PLOTLYENV.BASE_URL=\"https://plot.ly\";\n",
       "if (document.getElementById(\"718212bb-9d3b-4b28-8df6-a6e57b5502ca\")) {\n",
       "    Plotly.newPlot(\"718212bb-9d3b-4b28-8df6-a6e57b5502ca\", [{\"marker\": {\"color\": [\"rgb(213,62,79)\", \"rgb(252,141,89)\", \"rgb(254,224,139)\", \"rgb(230,245,152)\", \"rgb(153,213,148)\", \"rgb(50,136,189)\"]}, \"x\": [4, 5], \"y\": [22, 201], \"type\": \"bar\", \"uid\": \"c3d338af-2fbc-4cd6-81b7-22a264c9bc19\"}], {\"bargap\": 0.2, \"xaxis\": {\"ticktext\": [\"1. Nunca\", \"2. Ocasionalmente\", \"3. Semanalmente\", \"4. Diariamente\", \"5. Varias veces al d\\u00eda\"], \"tickvals\": [1, 2, 3, 4, 5]}}, {\"showLink\": false, \"linkText\": \"Export to plot.ly\", \"plotlyServerURL\": \"https://plot.ly\"}); \n",
       "}\n",
       "});</script><script type=\"text/javascript\">window.addEventListener(\"resize\", function(){if (document.getElementById(\"718212bb-9d3b-4b28-8df6-a6e57b5502ca\")) {window._Plotly.Plots.resize(document.getElementById(\"718212bb-9d3b-4b28-8df6-a6e57b5502ca\"));};})</script>"
      ],
      "text/vnd.plotly.v1+html": [
       "<div id=\"718212bb-9d3b-4b28-8df6-a6e57b5502ca\" style=\"height: 525px; width: 100%;\" class=\"plotly-graph-div\"></div><script type=\"text/javascript\">require([\"plotly\"], function(Plotly) { window.PLOTLYENV=window.PLOTLYENV || {};window.PLOTLYENV.BASE_URL=\"https://plot.ly\";\n",
       "if (document.getElementById(\"718212bb-9d3b-4b28-8df6-a6e57b5502ca\")) {\n",
       "    Plotly.newPlot(\"718212bb-9d3b-4b28-8df6-a6e57b5502ca\", [{\"marker\": {\"color\": [\"rgb(213,62,79)\", \"rgb(252,141,89)\", \"rgb(254,224,139)\", \"rgb(230,245,152)\", \"rgb(153,213,148)\", \"rgb(50,136,189)\"]}, \"x\": [4, 5], \"y\": [22, 201], \"type\": \"bar\", \"uid\": \"c3d338af-2fbc-4cd6-81b7-22a264c9bc19\"}], {\"bargap\": 0.2, \"xaxis\": {\"ticktext\": [\"1. Nunca\", \"2. Ocasionalmente\", \"3. Semanalmente\", \"4. Diariamente\", \"5. Varias veces al d\\u00eda\"], \"tickvals\": [1, 2, 3, 4, 5]}}, {\"showLink\": false, \"linkText\": \"Export to plot.ly\", \"plotlyServerURL\": \"https://plot.ly\"}); \n",
       "}\n",
       "});</script><script type=\"text/javascript\">window.addEventListener(\"resize\", function(){if (document.getElementById(\"718212bb-9d3b-4b28-8df6-a6e57b5502ca\")) {window._Plotly.Plots.resize(document.getElementById(\"718212bb-9d3b-4b28-8df6-a6e57b5502ca\"));};})</script>"
      ]
     },
     "metadata": {},
     "output_type": "display_data"
    },
    {
     "name": "stdout",
     "output_type": "stream",
     "text": [
      "\n",
      "\n",
      "Cluster 1 || variable: ¿Cuánto tiempo al día usas el móvil/tableta/ordenador/TV?\n",
      "Describiendo la pregunta ¿Cuánto tiempo al día usas el móvil/tableta/ordenador/TV?\n",
      "Valores numéricos asociados a las respuestas [1, 2, 3, 4, 5, 6]\n",
      "Respuestas posibles a la pregunta/variable ['1. Nada', '2. Menos de una hora', '3. 1-2 horas', '4. 2-4 horas', '5. 4-6 horas', '6. Más de 6 horas']\n"
     ]
    },
    {
     "data": {
      "text/plain": [
       "count    223.000000\n",
       "mean       5.251121\n",
       "std        0.885156\n",
       "min        3.000000\n",
       "25%        5.000000\n",
       "50%        6.000000\n",
       "75%        6.000000\n",
       "max        6.000000\n",
       "Name: ¿Cuánto tiempo al día usas el móvil/tableta/ordenador/TV?, dtype: float64"
      ]
     },
     "metadata": {},
     "output_type": "display_data"
    },
    {
     "name": "stdout",
     "output_type": "stream",
     "text": [
      "Conteo de cada valor en ¿Cuánto tiempo al día usas el móvil/tableta/ordenador/TV? expresada como valor / cantidad\n"
     ]
    },
    {
     "data": {
      "text/plain": [
       "3     10\n",
       "4     36\n",
       "5     65\n",
       "6    112\n",
       "Name: ¿Cuánto tiempo al día usas el móvil/tableta/ordenador/TV?, dtype: int64"
      ]
     },
     "metadata": {},
     "output_type": "display_data"
    },
    {
     "name": "stdout",
     "output_type": "stream",
     "text": [
      "Porcentaje de cada valor en ¿Cuánto tiempo al día usas el móvil/tableta/ordenador/TV? expresado como valor / porcentaje\n"
     ]
    },
    {
     "data": {
      "text/plain": [
       "3     4.48\n",
       "4    16.14\n",
       "5    29.15\n",
       "6    50.22\n",
       "Name: ¿Cuánto tiempo al día usas el móvil/tableta/ordenador/TV?, dtype: float64"
      ]
     },
     "metadata": {},
     "output_type": "display_data"
    },
    {
     "data": {
      "application/vnd.plotly.v1+json": {
       "config": {
        "linkText": "Export to plot.ly",
        "plotlyServerURL": "https://plot.ly",
        "showLink": false
       },
       "data": [
        {
         "marker": {
          "color": [
           "rgb(213,62,79)",
           "rgb(252,141,89)",
           "rgb(254,224,139)",
           "rgb(230,245,152)",
           "rgb(153,213,148)",
           "rgb(50,136,189)"
          ]
         },
         "type": "bar",
         "uid": "752ff418-2e8e-4cfe-a3d5-d61f94cac6f4",
         "x": [
          3,
          4,
          5,
          6
         ],
         "y": [
          10,
          36,
          65,
          112
         ]
        }
       ],
       "layout": {
        "bargap": 0.2,
        "xaxis": {
         "ticktext": [
          "1. Nada",
          "2. Menos de una hora",
          "3. 1-2 horas",
          "4. 2-4 horas",
          "5. 4-6 horas",
          "6. Más de 6 horas"
         ],
         "tickvals": [
          1,
          2,
          3,
          4,
          5,
          6
         ]
        }
       }
      },
      "text/html": [
       "<div id=\"c8333c7b-4ff4-4df1-ad91-f3245c2ea51e\" style=\"height: 525px; width: 100%;\" class=\"plotly-graph-div\"></div><script type=\"text/javascript\">require([\"plotly\"], function(Plotly) { window.PLOTLYENV=window.PLOTLYENV || {};window.PLOTLYENV.BASE_URL=\"https://plot.ly\";\n",
       "if (document.getElementById(\"c8333c7b-4ff4-4df1-ad91-f3245c2ea51e\")) {\n",
       "    Plotly.newPlot(\"c8333c7b-4ff4-4df1-ad91-f3245c2ea51e\", [{\"marker\": {\"color\": [\"rgb(213,62,79)\", \"rgb(252,141,89)\", \"rgb(254,224,139)\", \"rgb(230,245,152)\", \"rgb(153,213,148)\", \"rgb(50,136,189)\"]}, \"x\": [3, 4, 5, 6], \"y\": [10, 36, 65, 112], \"type\": \"bar\", \"uid\": \"752ff418-2e8e-4cfe-a3d5-d61f94cac6f4\"}], {\"bargap\": 0.2, \"xaxis\": {\"ticktext\": [\"1. Nada\", \"2. Menos de una hora\", \"3. 1-2 horas\", \"4. 2-4 horas\", \"5. 4-6 horas\", \"6. M\\u00e1s de 6 horas\"], \"tickvals\": [1, 2, 3, 4, 5, 6]}}, {\"showLink\": false, \"linkText\": \"Export to plot.ly\", \"plotlyServerURL\": \"https://plot.ly\"}); \n",
       "}\n",
       "});</script><script type=\"text/javascript\">window.addEventListener(\"resize\", function(){if (document.getElementById(\"c8333c7b-4ff4-4df1-ad91-f3245c2ea51e\")) {window._Plotly.Plots.resize(document.getElementById(\"c8333c7b-4ff4-4df1-ad91-f3245c2ea51e\"));};})</script>"
      ],
      "text/vnd.plotly.v1+html": [
       "<div id=\"c8333c7b-4ff4-4df1-ad91-f3245c2ea51e\" style=\"height: 525px; width: 100%;\" class=\"plotly-graph-div\"></div><script type=\"text/javascript\">require([\"plotly\"], function(Plotly) { window.PLOTLYENV=window.PLOTLYENV || {};window.PLOTLYENV.BASE_URL=\"https://plot.ly\";\n",
       "if (document.getElementById(\"c8333c7b-4ff4-4df1-ad91-f3245c2ea51e\")) {\n",
       "    Plotly.newPlot(\"c8333c7b-4ff4-4df1-ad91-f3245c2ea51e\", [{\"marker\": {\"color\": [\"rgb(213,62,79)\", \"rgb(252,141,89)\", \"rgb(254,224,139)\", \"rgb(230,245,152)\", \"rgb(153,213,148)\", \"rgb(50,136,189)\"]}, \"x\": [3, 4, 5, 6], \"y\": [10, 36, 65, 112], \"type\": \"bar\", \"uid\": \"752ff418-2e8e-4cfe-a3d5-d61f94cac6f4\"}], {\"bargap\": 0.2, \"xaxis\": {\"ticktext\": [\"1. Nada\", \"2. Menos de una hora\", \"3. 1-2 horas\", \"4. 2-4 horas\", \"5. 4-6 horas\", \"6. M\\u00e1s de 6 horas\"], \"tickvals\": [1, 2, 3, 4, 5, 6]}}, {\"showLink\": false, \"linkText\": \"Export to plot.ly\", \"plotlyServerURL\": \"https://plot.ly\"}); \n",
       "}\n",
       "});</script><script type=\"text/javascript\">window.addEventListener(\"resize\", function(){if (document.getElementById(\"c8333c7b-4ff4-4df1-ad91-f3245c2ea51e\")) {window._Plotly.Plots.resize(document.getElementById(\"c8333c7b-4ff4-4df1-ad91-f3245c2ea51e\"));};})</script>"
      ]
     },
     "metadata": {},
     "output_type": "display_data"
    },
    {
     "name": "stdout",
     "output_type": "stream",
     "text": [
      "\n",
      "\n",
      "Cluster 1 || variable: ¿Qué tipo de aplicaciones utilizas en tu ordenador/tableta/móvil? (Respuesta múltiple) [1. Apps de contenidos audiovisuales (Netflix, HBO, etc.)]\n",
      "Describiendo la pregunta ¿Qué tipo de aplicaciones utilizas en tu ordenador/tableta/móvil? (Respuesta múltiple) [1. Apps de contenidos audiovisuales (Netflix, HBO, etc.)]\n",
      "Valores numéricos asociados a las respuestas [0, 1]\n",
      "Respuestas posibles a la pregunta/variable ['No', 'Sí']\n"
     ]
    },
    {
     "data": {
      "text/plain": [
       "count    223.000000\n",
       "mean       0.695067\n",
       "std        0.461415\n",
       "min        0.000000\n",
       "25%        0.000000\n",
       "50%        1.000000\n",
       "75%        1.000000\n",
       "max        1.000000\n",
       "Name: ¿Qué tipo de aplicaciones utilizas en tu ordenador/tableta/móvil? (Respuesta múltiple) [1. Apps de contenidos audiovisuales (Netflix, HBO, etc.)], dtype: float64"
      ]
     },
     "metadata": {},
     "output_type": "display_data"
    },
    {
     "name": "stdout",
     "output_type": "stream",
     "text": [
      "Conteo de cada valor en ¿Qué tipo de aplicaciones utilizas en tu ordenador/tableta/móvil? (Respuesta múltiple) [1. Apps de contenidos audiovisuales (Netflix, HBO, etc.)] expresada como valor / cantidad\n"
     ]
    },
    {
     "data": {
      "text/plain": [
       "0     68\n",
       "1    155\n",
       "Name: ¿Qué tipo de aplicaciones utilizas en tu ordenador/tableta/móvil? (Respuesta múltiple) [1. Apps de contenidos audiovisuales (Netflix, HBO, etc.)], dtype: int64"
      ]
     },
     "metadata": {},
     "output_type": "display_data"
    },
    {
     "name": "stdout",
     "output_type": "stream",
     "text": [
      "Porcentaje de cada valor en ¿Qué tipo de aplicaciones utilizas en tu ordenador/tableta/móvil? (Respuesta múltiple) [1. Apps de contenidos audiovisuales (Netflix, HBO, etc.)] expresado como valor / porcentaje\n"
     ]
    },
    {
     "data": {
      "text/plain": [
       "0    30.49\n",
       "1    69.51\n",
       "Name: ¿Qué tipo de aplicaciones utilizas en tu ordenador/tableta/móvil? (Respuesta múltiple) [1. Apps de contenidos audiovisuales (Netflix, HBO, etc.)], dtype: float64"
      ]
     },
     "metadata": {},
     "output_type": "display_data"
    },
    {
     "data": {
      "application/vnd.plotly.v1+json": {
       "config": {
        "linkText": "Export to plot.ly",
        "plotlyServerURL": "https://plot.ly",
        "showLink": false
       },
       "data": [
        {
         "marker": {
          "color": [
           "rgb(213,62,79)",
           "rgb(252,141,89)",
           "rgb(254,224,139)",
           "rgb(230,245,152)",
           "rgb(153,213,148)",
           "rgb(50,136,189)"
          ]
         },
         "type": "bar",
         "uid": "983cb42e-fd9e-4812-9139-9a154ebbd2a6",
         "x": [
          0,
          1
         ],
         "y": [
          68,
          155
         ]
        }
       ],
       "layout": {
        "bargap": 0.2,
        "xaxis": {
         "ticktext": [
          "No",
          "Sí"
         ],
         "tickvals": [
          0,
          1
         ]
        }
       }
      },
      "text/html": [
       "<div id=\"a04f1c0f-caf4-4fd0-97dd-4abe8e80dfd1\" style=\"height: 525px; width: 100%;\" class=\"plotly-graph-div\"></div><script type=\"text/javascript\">require([\"plotly\"], function(Plotly) { window.PLOTLYENV=window.PLOTLYENV || {};window.PLOTLYENV.BASE_URL=\"https://plot.ly\";\n",
       "if (document.getElementById(\"a04f1c0f-caf4-4fd0-97dd-4abe8e80dfd1\")) {\n",
       "    Plotly.newPlot(\"a04f1c0f-caf4-4fd0-97dd-4abe8e80dfd1\", [{\"marker\": {\"color\": [\"rgb(213,62,79)\", \"rgb(252,141,89)\", \"rgb(254,224,139)\", \"rgb(230,245,152)\", \"rgb(153,213,148)\", \"rgb(50,136,189)\"]}, \"x\": [0, 1], \"y\": [68, 155], \"type\": \"bar\", \"uid\": \"983cb42e-fd9e-4812-9139-9a154ebbd2a6\"}], {\"bargap\": 0.2, \"xaxis\": {\"ticktext\": [\"No\", \"S\\u00ed\"], \"tickvals\": [0, 1]}}, {\"showLink\": false, \"linkText\": \"Export to plot.ly\", \"plotlyServerURL\": \"https://plot.ly\"}); \n",
       "}\n",
       "});</script><script type=\"text/javascript\">window.addEventListener(\"resize\", function(){if (document.getElementById(\"a04f1c0f-caf4-4fd0-97dd-4abe8e80dfd1\")) {window._Plotly.Plots.resize(document.getElementById(\"a04f1c0f-caf4-4fd0-97dd-4abe8e80dfd1\"));};})</script>"
      ],
      "text/vnd.plotly.v1+html": [
       "<div id=\"a04f1c0f-caf4-4fd0-97dd-4abe8e80dfd1\" style=\"height: 525px; width: 100%;\" class=\"plotly-graph-div\"></div><script type=\"text/javascript\">require([\"plotly\"], function(Plotly) { window.PLOTLYENV=window.PLOTLYENV || {};window.PLOTLYENV.BASE_URL=\"https://plot.ly\";\n",
       "if (document.getElementById(\"a04f1c0f-caf4-4fd0-97dd-4abe8e80dfd1\")) {\n",
       "    Plotly.newPlot(\"a04f1c0f-caf4-4fd0-97dd-4abe8e80dfd1\", [{\"marker\": {\"color\": [\"rgb(213,62,79)\", \"rgb(252,141,89)\", \"rgb(254,224,139)\", \"rgb(230,245,152)\", \"rgb(153,213,148)\", \"rgb(50,136,189)\"]}, \"x\": [0, 1], \"y\": [68, 155], \"type\": \"bar\", \"uid\": \"983cb42e-fd9e-4812-9139-9a154ebbd2a6\"}], {\"bargap\": 0.2, \"xaxis\": {\"ticktext\": [\"No\", \"S\\u00ed\"], \"tickvals\": [0, 1]}}, {\"showLink\": false, \"linkText\": \"Export to plot.ly\", \"plotlyServerURL\": \"https://plot.ly\"}); \n",
       "}\n",
       "});</script><script type=\"text/javascript\">window.addEventListener(\"resize\", function(){if (document.getElementById(\"a04f1c0f-caf4-4fd0-97dd-4abe8e80dfd1\")) {window._Plotly.Plots.resize(document.getElementById(\"a04f1c0f-caf4-4fd0-97dd-4abe8e80dfd1\"));};})</script>"
      ]
     },
     "metadata": {},
     "output_type": "display_data"
    },
    {
     "name": "stdout",
     "output_type": "stream",
     "text": [
      "\n",
      "\n",
      "Cluster 1 || variable: ¿Qué tipo de aplicaciones utilizas en tu ordenador/tableta/móvil? (Respuesta múltiple) [2. Aplicaciones de mensajería (Whatsapp, Facebook Messenger, etc.)]\n",
      "Describiendo la pregunta ¿Qué tipo de aplicaciones utilizas en tu ordenador/tableta/móvil? (Respuesta múltiple) [2. Aplicaciones de mensajería (Whatsapp, Facebook Messenger, etc.)]\n",
      "Valores numéricos asociados a las respuestas [0, 1]\n",
      "Respuestas posibles a la pregunta/variable ['No', 'Sí']\n"
     ]
    },
    {
     "data": {
      "text/plain": [
       "count    223.000000\n",
       "mean       0.928251\n",
       "std        0.258652\n",
       "min        0.000000\n",
       "25%        1.000000\n",
       "50%        1.000000\n",
       "75%        1.000000\n",
       "max        1.000000\n",
       "Name: ¿Qué tipo de aplicaciones utilizas en tu ordenador/tableta/móvil? (Respuesta múltiple) [2. Aplicaciones de mensajería (Whatsapp, Facebook Messenger, etc.)], dtype: float64"
      ]
     },
     "metadata": {},
     "output_type": "display_data"
    },
    {
     "name": "stdout",
     "output_type": "stream",
     "text": [
      "Conteo de cada valor en ¿Qué tipo de aplicaciones utilizas en tu ordenador/tableta/móvil? (Respuesta múltiple) [2. Aplicaciones de mensajería (Whatsapp, Facebook Messenger, etc.)] expresada como valor / cantidad\n"
     ]
    },
    {
     "data": {
      "text/plain": [
       "0     16\n",
       "1    207\n",
       "Name: ¿Qué tipo de aplicaciones utilizas en tu ordenador/tableta/móvil? (Respuesta múltiple) [2. Aplicaciones de mensajería (Whatsapp, Facebook Messenger, etc.)], dtype: int64"
      ]
     },
     "metadata": {},
     "output_type": "display_data"
    },
    {
     "name": "stdout",
     "output_type": "stream",
     "text": [
      "Porcentaje de cada valor en ¿Qué tipo de aplicaciones utilizas en tu ordenador/tableta/móvil? (Respuesta múltiple) [2. Aplicaciones de mensajería (Whatsapp, Facebook Messenger, etc.)] expresado como valor / porcentaje\n"
     ]
    },
    {
     "data": {
      "text/plain": [
       "0     7.17\n",
       "1    92.83\n",
       "Name: ¿Qué tipo de aplicaciones utilizas en tu ordenador/tableta/móvil? (Respuesta múltiple) [2. Aplicaciones de mensajería (Whatsapp, Facebook Messenger, etc.)], dtype: float64"
      ]
     },
     "metadata": {},
     "output_type": "display_data"
    },
    {
     "data": {
      "application/vnd.plotly.v1+json": {
       "config": {
        "linkText": "Export to plot.ly",
        "plotlyServerURL": "https://plot.ly",
        "showLink": false
       },
       "data": [
        {
         "marker": {
          "color": [
           "rgb(213,62,79)",
           "rgb(252,141,89)",
           "rgb(254,224,139)",
           "rgb(230,245,152)",
           "rgb(153,213,148)",
           "rgb(50,136,189)"
          ]
         },
         "type": "bar",
         "uid": "de59fce9-727c-4fcb-8765-e95c60f0e7cb",
         "x": [
          0,
          1
         ],
         "y": [
          16,
          207
         ]
        }
       ],
       "layout": {
        "bargap": 0.2,
        "xaxis": {
         "ticktext": [
          "No",
          "Sí"
         ],
         "tickvals": [
          0,
          1
         ]
        }
       }
      },
      "text/html": [
       "<div id=\"7c3de4ee-c3be-4a15-98bd-9ceaccc3f396\" style=\"height: 525px; width: 100%;\" class=\"plotly-graph-div\"></div><script type=\"text/javascript\">require([\"plotly\"], function(Plotly) { window.PLOTLYENV=window.PLOTLYENV || {};window.PLOTLYENV.BASE_URL=\"https://plot.ly\";\n",
       "if (document.getElementById(\"7c3de4ee-c3be-4a15-98bd-9ceaccc3f396\")) {\n",
       "    Plotly.newPlot(\"7c3de4ee-c3be-4a15-98bd-9ceaccc3f396\", [{\"marker\": {\"color\": [\"rgb(213,62,79)\", \"rgb(252,141,89)\", \"rgb(254,224,139)\", \"rgb(230,245,152)\", \"rgb(153,213,148)\", \"rgb(50,136,189)\"]}, \"x\": [0, 1], \"y\": [16, 207], \"type\": \"bar\", \"uid\": \"de59fce9-727c-4fcb-8765-e95c60f0e7cb\"}], {\"bargap\": 0.2, \"xaxis\": {\"ticktext\": [\"No\", \"S\\u00ed\"], \"tickvals\": [0, 1]}}, {\"showLink\": false, \"linkText\": \"Export to plot.ly\", \"plotlyServerURL\": \"https://plot.ly\"}); \n",
       "}\n",
       "});</script><script type=\"text/javascript\">window.addEventListener(\"resize\", function(){if (document.getElementById(\"7c3de4ee-c3be-4a15-98bd-9ceaccc3f396\")) {window._Plotly.Plots.resize(document.getElementById(\"7c3de4ee-c3be-4a15-98bd-9ceaccc3f396\"));};})</script>"
      ],
      "text/vnd.plotly.v1+html": [
       "<div id=\"7c3de4ee-c3be-4a15-98bd-9ceaccc3f396\" style=\"height: 525px; width: 100%;\" class=\"plotly-graph-div\"></div><script type=\"text/javascript\">require([\"plotly\"], function(Plotly) { window.PLOTLYENV=window.PLOTLYENV || {};window.PLOTLYENV.BASE_URL=\"https://plot.ly\";\n",
       "if (document.getElementById(\"7c3de4ee-c3be-4a15-98bd-9ceaccc3f396\")) {\n",
       "    Plotly.newPlot(\"7c3de4ee-c3be-4a15-98bd-9ceaccc3f396\", [{\"marker\": {\"color\": [\"rgb(213,62,79)\", \"rgb(252,141,89)\", \"rgb(254,224,139)\", \"rgb(230,245,152)\", \"rgb(153,213,148)\", \"rgb(50,136,189)\"]}, \"x\": [0, 1], \"y\": [16, 207], \"type\": \"bar\", \"uid\": \"de59fce9-727c-4fcb-8765-e95c60f0e7cb\"}], {\"bargap\": 0.2, \"xaxis\": {\"ticktext\": [\"No\", \"S\\u00ed\"], \"tickvals\": [0, 1]}}, {\"showLink\": false, \"linkText\": \"Export to plot.ly\", \"plotlyServerURL\": \"https://plot.ly\"}); \n",
       "}\n",
       "});</script><script type=\"text/javascript\">window.addEventListener(\"resize\", function(){if (document.getElementById(\"7c3de4ee-c3be-4a15-98bd-9ceaccc3f396\")) {window._Plotly.Plots.resize(document.getElementById(\"7c3de4ee-c3be-4a15-98bd-9ceaccc3f396\"));};})</script>"
      ]
     },
     "metadata": {},
     "output_type": "display_data"
    },
    {
     "name": "stdout",
     "output_type": "stream",
     "text": [
      "\n",
      "\n",
      "Cluster 1 || variable: ¿Qué tipo de aplicaciones utilizas en tu ordenador/tableta/móvil? (Respuesta múltiple) [3. Bibliotecas de fotos online (Google Photos, iPhoto, etc.)]\n",
      "Describiendo la pregunta ¿Qué tipo de aplicaciones utilizas en tu ordenador/tableta/móvil? (Respuesta múltiple) [3. Bibliotecas de fotos online (Google Photos, iPhoto, etc.)]\n",
      "Valores numéricos asociados a las respuestas [0, 1]\n",
      "Respuestas posibles a la pregunta/variable ['No', 'Sí']\n"
     ]
    },
    {
     "data": {
      "text/plain": [
       "count    223.000000\n",
       "mean       0.560538\n",
       "std        0.497438\n",
       "min        0.000000\n",
       "25%        0.000000\n",
       "50%        1.000000\n",
       "75%        1.000000\n",
       "max        1.000000\n",
       "Name: ¿Qué tipo de aplicaciones utilizas en tu ordenador/tableta/móvil? (Respuesta múltiple) [3. Bibliotecas de fotos online (Google Photos, iPhoto, etc.)], dtype: float64"
      ]
     },
     "metadata": {},
     "output_type": "display_data"
    },
    {
     "name": "stdout",
     "output_type": "stream",
     "text": [
      "Conteo de cada valor en ¿Qué tipo de aplicaciones utilizas en tu ordenador/tableta/móvil? (Respuesta múltiple) [3. Bibliotecas de fotos online (Google Photos, iPhoto, etc.)] expresada como valor / cantidad\n"
     ]
    },
    {
     "data": {
      "text/plain": [
       "0     98\n",
       "1    125\n",
       "Name: ¿Qué tipo de aplicaciones utilizas en tu ordenador/tableta/móvil? (Respuesta múltiple) [3. Bibliotecas de fotos online (Google Photos, iPhoto, etc.)], dtype: int64"
      ]
     },
     "metadata": {},
     "output_type": "display_data"
    },
    {
     "name": "stdout",
     "output_type": "stream",
     "text": [
      "Porcentaje de cada valor en ¿Qué tipo de aplicaciones utilizas en tu ordenador/tableta/móvil? (Respuesta múltiple) [3. Bibliotecas de fotos online (Google Photos, iPhoto, etc.)] expresado como valor / porcentaje\n"
     ]
    },
    {
     "data": {
      "text/plain": [
       "0    43.95\n",
       "1    56.05\n",
       "Name: ¿Qué tipo de aplicaciones utilizas en tu ordenador/tableta/móvil? (Respuesta múltiple) [3. Bibliotecas de fotos online (Google Photos, iPhoto, etc.)], dtype: float64"
      ]
     },
     "metadata": {},
     "output_type": "display_data"
    },
    {
     "data": {
      "application/vnd.plotly.v1+json": {
       "config": {
        "linkText": "Export to plot.ly",
        "plotlyServerURL": "https://plot.ly",
        "showLink": false
       },
       "data": [
        {
         "marker": {
          "color": [
           "rgb(213,62,79)",
           "rgb(252,141,89)",
           "rgb(254,224,139)",
           "rgb(230,245,152)",
           "rgb(153,213,148)",
           "rgb(50,136,189)"
          ]
         },
         "type": "bar",
         "uid": "ac7c2180-2b15-4190-976c-cf0e63a6fab3",
         "x": [
          0,
          1
         ],
         "y": [
          98,
          125
         ]
        }
       ],
       "layout": {
        "bargap": 0.2,
        "xaxis": {
         "ticktext": [
          "No",
          "Sí"
         ],
         "tickvals": [
          0,
          1
         ]
        }
       }
      },
      "text/html": [
       "<div id=\"e54c1163-8f7a-4d7d-8ba0-264916754f25\" style=\"height: 525px; width: 100%;\" class=\"plotly-graph-div\"></div><script type=\"text/javascript\">require([\"plotly\"], function(Plotly) { window.PLOTLYENV=window.PLOTLYENV || {};window.PLOTLYENV.BASE_URL=\"https://plot.ly\";\n",
       "if (document.getElementById(\"e54c1163-8f7a-4d7d-8ba0-264916754f25\")) {\n",
       "    Plotly.newPlot(\"e54c1163-8f7a-4d7d-8ba0-264916754f25\", [{\"marker\": {\"color\": [\"rgb(213,62,79)\", \"rgb(252,141,89)\", \"rgb(254,224,139)\", \"rgb(230,245,152)\", \"rgb(153,213,148)\", \"rgb(50,136,189)\"]}, \"x\": [0, 1], \"y\": [98, 125], \"type\": \"bar\", \"uid\": \"ac7c2180-2b15-4190-976c-cf0e63a6fab3\"}], {\"bargap\": 0.2, \"xaxis\": {\"ticktext\": [\"No\", \"S\\u00ed\"], \"tickvals\": [0, 1]}}, {\"showLink\": false, \"linkText\": \"Export to plot.ly\", \"plotlyServerURL\": \"https://plot.ly\"}); \n",
       "}\n",
       "});</script><script type=\"text/javascript\">window.addEventListener(\"resize\", function(){if (document.getElementById(\"e54c1163-8f7a-4d7d-8ba0-264916754f25\")) {window._Plotly.Plots.resize(document.getElementById(\"e54c1163-8f7a-4d7d-8ba0-264916754f25\"));};})</script>"
      ],
      "text/vnd.plotly.v1+html": [
       "<div id=\"e54c1163-8f7a-4d7d-8ba0-264916754f25\" style=\"height: 525px; width: 100%;\" class=\"plotly-graph-div\"></div><script type=\"text/javascript\">require([\"plotly\"], function(Plotly) { window.PLOTLYENV=window.PLOTLYENV || {};window.PLOTLYENV.BASE_URL=\"https://plot.ly\";\n",
       "if (document.getElementById(\"e54c1163-8f7a-4d7d-8ba0-264916754f25\")) {\n",
       "    Plotly.newPlot(\"e54c1163-8f7a-4d7d-8ba0-264916754f25\", [{\"marker\": {\"color\": [\"rgb(213,62,79)\", \"rgb(252,141,89)\", \"rgb(254,224,139)\", \"rgb(230,245,152)\", \"rgb(153,213,148)\", \"rgb(50,136,189)\"]}, \"x\": [0, 1], \"y\": [98, 125], \"type\": \"bar\", \"uid\": \"ac7c2180-2b15-4190-976c-cf0e63a6fab3\"}], {\"bargap\": 0.2, \"xaxis\": {\"ticktext\": [\"No\", \"S\\u00ed\"], \"tickvals\": [0, 1]}}, {\"showLink\": false, \"linkText\": \"Export to plot.ly\", \"plotlyServerURL\": \"https://plot.ly\"}); \n",
       "}\n",
       "});</script><script type=\"text/javascript\">window.addEventListener(\"resize\", function(){if (document.getElementById(\"e54c1163-8f7a-4d7d-8ba0-264916754f25\")) {window._Plotly.Plots.resize(document.getElementById(\"e54c1163-8f7a-4d7d-8ba0-264916754f25\"));};})</script>"
      ]
     },
     "metadata": {},
     "output_type": "display_data"
    },
    {
     "name": "stdout",
     "output_type": "stream",
     "text": [
      "\n",
      "\n",
      "Cluster 1 || variable: ¿Qué tipo de aplicaciones utilizas en tu ordenador/tableta/móvil? (Respuesta múltiple) [4. Redes sociales (Facebook, Instagram, Twitter, etc.).]\n",
      "Describiendo la pregunta ¿Qué tipo de aplicaciones utilizas en tu ordenador/tableta/móvil? (Respuesta múltiple) [4. Redes sociales (Facebook, Instagram, Twitter, etc.).]\n",
      "Valores numéricos asociados a las respuestas [0, 1]\n",
      "Respuestas posibles a la pregunta/variable ['No', 'Sí']\n"
     ]
    },
    {
     "data": {
      "text/plain": [
       "count    223.000000\n",
       "mean       0.950673\n",
       "std        0.217038\n",
       "min        0.000000\n",
       "25%        1.000000\n",
       "50%        1.000000\n",
       "75%        1.000000\n",
       "max        1.000000\n",
       "Name: ¿Qué tipo de aplicaciones utilizas en tu ordenador/tableta/móvil? (Respuesta múltiple) [4. Redes sociales (Facebook, Instagram, Twitter, etc.).], dtype: float64"
      ]
     },
     "metadata": {},
     "output_type": "display_data"
    },
    {
     "name": "stdout",
     "output_type": "stream",
     "text": [
      "Conteo de cada valor en ¿Qué tipo de aplicaciones utilizas en tu ordenador/tableta/móvil? (Respuesta múltiple) [4. Redes sociales (Facebook, Instagram, Twitter, etc.).] expresada como valor / cantidad\n"
     ]
    },
    {
     "data": {
      "text/plain": [
       "0     11\n",
       "1    212\n",
       "Name: ¿Qué tipo de aplicaciones utilizas en tu ordenador/tableta/móvil? (Respuesta múltiple) [4. Redes sociales (Facebook, Instagram, Twitter, etc.).], dtype: int64"
      ]
     },
     "metadata": {},
     "output_type": "display_data"
    },
    {
     "name": "stdout",
     "output_type": "stream",
     "text": [
      "Porcentaje de cada valor en ¿Qué tipo de aplicaciones utilizas en tu ordenador/tableta/móvil? (Respuesta múltiple) [4. Redes sociales (Facebook, Instagram, Twitter, etc.).] expresado como valor / porcentaje\n"
     ]
    },
    {
     "data": {
      "text/plain": [
       "0     4.93\n",
       "1    95.07\n",
       "Name: ¿Qué tipo de aplicaciones utilizas en tu ordenador/tableta/móvil? (Respuesta múltiple) [4. Redes sociales (Facebook, Instagram, Twitter, etc.).], dtype: float64"
      ]
     },
     "metadata": {},
     "output_type": "display_data"
    },
    {
     "data": {
      "application/vnd.plotly.v1+json": {
       "config": {
        "linkText": "Export to plot.ly",
        "plotlyServerURL": "https://plot.ly",
        "showLink": false
       },
       "data": [
        {
         "marker": {
          "color": [
           "rgb(213,62,79)",
           "rgb(252,141,89)",
           "rgb(254,224,139)",
           "rgb(230,245,152)",
           "rgb(153,213,148)",
           "rgb(50,136,189)"
          ]
         },
         "type": "bar",
         "uid": "0e3ee6ff-5fd9-4504-b6e0-c352e26f2646",
         "x": [
          0,
          1
         ],
         "y": [
          11,
          212
         ]
        }
       ],
       "layout": {
        "bargap": 0.2,
        "xaxis": {
         "ticktext": [
          "No",
          "Sí"
         ],
         "tickvals": [
          0,
          1
         ]
        }
       }
      },
      "text/html": [
       "<div id=\"5277f063-6110-47d7-b37d-79ec1be58dc8\" style=\"height: 525px; width: 100%;\" class=\"plotly-graph-div\"></div><script type=\"text/javascript\">require([\"plotly\"], function(Plotly) { window.PLOTLYENV=window.PLOTLYENV || {};window.PLOTLYENV.BASE_URL=\"https://plot.ly\";\n",
       "if (document.getElementById(\"5277f063-6110-47d7-b37d-79ec1be58dc8\")) {\n",
       "    Plotly.newPlot(\"5277f063-6110-47d7-b37d-79ec1be58dc8\", [{\"marker\": {\"color\": [\"rgb(213,62,79)\", \"rgb(252,141,89)\", \"rgb(254,224,139)\", \"rgb(230,245,152)\", \"rgb(153,213,148)\", \"rgb(50,136,189)\"]}, \"x\": [0, 1], \"y\": [11, 212], \"type\": \"bar\", \"uid\": \"0e3ee6ff-5fd9-4504-b6e0-c352e26f2646\"}], {\"bargap\": 0.2, \"xaxis\": {\"ticktext\": [\"No\", \"S\\u00ed\"], \"tickvals\": [0, 1]}}, {\"showLink\": false, \"linkText\": \"Export to plot.ly\", \"plotlyServerURL\": \"https://plot.ly\"}); \n",
       "}\n",
       "});</script><script type=\"text/javascript\">window.addEventListener(\"resize\", function(){if (document.getElementById(\"5277f063-6110-47d7-b37d-79ec1be58dc8\")) {window._Plotly.Plots.resize(document.getElementById(\"5277f063-6110-47d7-b37d-79ec1be58dc8\"));};})</script>"
      ],
      "text/vnd.plotly.v1+html": [
       "<div id=\"5277f063-6110-47d7-b37d-79ec1be58dc8\" style=\"height: 525px; width: 100%;\" class=\"plotly-graph-div\"></div><script type=\"text/javascript\">require([\"plotly\"], function(Plotly) { window.PLOTLYENV=window.PLOTLYENV || {};window.PLOTLYENV.BASE_URL=\"https://plot.ly\";\n",
       "if (document.getElementById(\"5277f063-6110-47d7-b37d-79ec1be58dc8\")) {\n",
       "    Plotly.newPlot(\"5277f063-6110-47d7-b37d-79ec1be58dc8\", [{\"marker\": {\"color\": [\"rgb(213,62,79)\", \"rgb(252,141,89)\", \"rgb(254,224,139)\", \"rgb(230,245,152)\", \"rgb(153,213,148)\", \"rgb(50,136,189)\"]}, \"x\": [0, 1], \"y\": [11, 212], \"type\": \"bar\", \"uid\": \"0e3ee6ff-5fd9-4504-b6e0-c352e26f2646\"}], {\"bargap\": 0.2, \"xaxis\": {\"ticktext\": [\"No\", \"S\\u00ed\"], \"tickvals\": [0, 1]}}, {\"showLink\": false, \"linkText\": \"Export to plot.ly\", \"plotlyServerURL\": \"https://plot.ly\"}); \n",
       "}\n",
       "});</script><script type=\"text/javascript\">window.addEventListener(\"resize\", function(){if (document.getElementById(\"5277f063-6110-47d7-b37d-79ec1be58dc8\")) {window._Plotly.Plots.resize(document.getElementById(\"5277f063-6110-47d7-b37d-79ec1be58dc8\"));};})</script>"
      ]
     },
     "metadata": {},
     "output_type": "display_data"
    },
    {
     "name": "stdout",
     "output_type": "stream",
     "text": [
      "\n",
      "\n",
      "Cluster 1 || variable: ¿Qué tipo de aplicaciones utilizas en tu ordenador/tableta/móvil? (Respuesta múltiple) [5. Aplicaciones de vídeo (Youtube, Vimeo, etc.).]\n",
      "Describiendo la pregunta ¿Qué tipo de aplicaciones utilizas en tu ordenador/tableta/móvil? (Respuesta múltiple) [5. Aplicaciones de vídeo (Youtube, Vimeo, etc.).]\n",
      "Valores numéricos asociados a las respuestas [0, 1]\n",
      "Respuestas posibles a la pregunta/variable ['No', 'Sí']\n"
     ]
    },
    {
     "data": {
      "text/plain": [
       "count    223.000000\n",
       "mean       0.950673\n",
       "std        0.217038\n",
       "min        0.000000\n",
       "25%        1.000000\n",
       "50%        1.000000\n",
       "75%        1.000000\n",
       "max        1.000000\n",
       "Name: ¿Qué tipo de aplicaciones utilizas en tu ordenador/tableta/móvil? (Respuesta múltiple) [5. Aplicaciones de vídeo (Youtube, Vimeo, etc.).], dtype: float64"
      ]
     },
     "metadata": {},
     "output_type": "display_data"
    },
    {
     "name": "stdout",
     "output_type": "stream",
     "text": [
      "Conteo de cada valor en ¿Qué tipo de aplicaciones utilizas en tu ordenador/tableta/móvil? (Respuesta múltiple) [5. Aplicaciones de vídeo (Youtube, Vimeo, etc.).] expresada como valor / cantidad\n"
     ]
    },
    {
     "data": {
      "text/plain": [
       "0     11\n",
       "1    212\n",
       "Name: ¿Qué tipo de aplicaciones utilizas en tu ordenador/tableta/móvil? (Respuesta múltiple) [5. Aplicaciones de vídeo (Youtube, Vimeo, etc.).], dtype: int64"
      ]
     },
     "metadata": {},
     "output_type": "display_data"
    },
    {
     "name": "stdout",
     "output_type": "stream",
     "text": [
      "Porcentaje de cada valor en ¿Qué tipo de aplicaciones utilizas en tu ordenador/tableta/móvil? (Respuesta múltiple) [5. Aplicaciones de vídeo (Youtube, Vimeo, etc.).] expresado como valor / porcentaje\n"
     ]
    },
    {
     "data": {
      "text/plain": [
       "0     4.93\n",
       "1    95.07\n",
       "Name: ¿Qué tipo de aplicaciones utilizas en tu ordenador/tableta/móvil? (Respuesta múltiple) [5. Aplicaciones de vídeo (Youtube, Vimeo, etc.).], dtype: float64"
      ]
     },
     "metadata": {},
     "output_type": "display_data"
    },
    {
     "data": {
      "application/vnd.plotly.v1+json": {
       "config": {
        "linkText": "Export to plot.ly",
        "plotlyServerURL": "https://plot.ly",
        "showLink": false
       },
       "data": [
        {
         "marker": {
          "color": [
           "rgb(213,62,79)",
           "rgb(252,141,89)",
           "rgb(254,224,139)",
           "rgb(230,245,152)",
           "rgb(153,213,148)",
           "rgb(50,136,189)"
          ]
         },
         "type": "bar",
         "uid": "1491eae7-e4da-465d-905f-5910b8e14969",
         "x": [
          0,
          1
         ],
         "y": [
          11,
          212
         ]
        }
       ],
       "layout": {
        "bargap": 0.2,
        "xaxis": {
         "ticktext": [
          "No",
          "Sí"
         ],
         "tickvals": [
          0,
          1
         ]
        }
       }
      },
      "text/html": [
       "<div id=\"ba358da3-c6a9-485d-b1ad-c5a1a45dc223\" style=\"height: 525px; width: 100%;\" class=\"plotly-graph-div\"></div><script type=\"text/javascript\">require([\"plotly\"], function(Plotly) { window.PLOTLYENV=window.PLOTLYENV || {};window.PLOTLYENV.BASE_URL=\"https://plot.ly\";\n",
       "if (document.getElementById(\"ba358da3-c6a9-485d-b1ad-c5a1a45dc223\")) {\n",
       "    Plotly.newPlot(\"ba358da3-c6a9-485d-b1ad-c5a1a45dc223\", [{\"marker\": {\"color\": [\"rgb(213,62,79)\", \"rgb(252,141,89)\", \"rgb(254,224,139)\", \"rgb(230,245,152)\", \"rgb(153,213,148)\", \"rgb(50,136,189)\"]}, \"x\": [0, 1], \"y\": [11, 212], \"type\": \"bar\", \"uid\": \"1491eae7-e4da-465d-905f-5910b8e14969\"}], {\"bargap\": 0.2, \"xaxis\": {\"ticktext\": [\"No\", \"S\\u00ed\"], \"tickvals\": [0, 1]}}, {\"showLink\": false, \"linkText\": \"Export to plot.ly\", \"plotlyServerURL\": \"https://plot.ly\"}); \n",
       "}\n",
       "});</script><script type=\"text/javascript\">window.addEventListener(\"resize\", function(){if (document.getElementById(\"ba358da3-c6a9-485d-b1ad-c5a1a45dc223\")) {window._Plotly.Plots.resize(document.getElementById(\"ba358da3-c6a9-485d-b1ad-c5a1a45dc223\"));};})</script>"
      ],
      "text/vnd.plotly.v1+html": [
       "<div id=\"ba358da3-c6a9-485d-b1ad-c5a1a45dc223\" style=\"height: 525px; width: 100%;\" class=\"plotly-graph-div\"></div><script type=\"text/javascript\">require([\"plotly\"], function(Plotly) { window.PLOTLYENV=window.PLOTLYENV || {};window.PLOTLYENV.BASE_URL=\"https://plot.ly\";\n",
       "if (document.getElementById(\"ba358da3-c6a9-485d-b1ad-c5a1a45dc223\")) {\n",
       "    Plotly.newPlot(\"ba358da3-c6a9-485d-b1ad-c5a1a45dc223\", [{\"marker\": {\"color\": [\"rgb(213,62,79)\", \"rgb(252,141,89)\", \"rgb(254,224,139)\", \"rgb(230,245,152)\", \"rgb(153,213,148)\", \"rgb(50,136,189)\"]}, \"x\": [0, 1], \"y\": [11, 212], \"type\": \"bar\", \"uid\": \"1491eae7-e4da-465d-905f-5910b8e14969\"}], {\"bargap\": 0.2, \"xaxis\": {\"ticktext\": [\"No\", \"S\\u00ed\"], \"tickvals\": [0, 1]}}, {\"showLink\": false, \"linkText\": \"Export to plot.ly\", \"plotlyServerURL\": \"https://plot.ly\"}); \n",
       "}\n",
       "});</script><script type=\"text/javascript\">window.addEventListener(\"resize\", function(){if (document.getElementById(\"ba358da3-c6a9-485d-b1ad-c5a1a45dc223\")) {window._Plotly.Plots.resize(document.getElementById(\"ba358da3-c6a9-485d-b1ad-c5a1a45dc223\"));};})</script>"
      ]
     },
     "metadata": {},
     "output_type": "display_data"
    },
    {
     "name": "stdout",
     "output_type": "stream",
     "text": [
      "\n",
      "\n",
      "Cluster 1 || variable: ¿Qué tipo de aplicaciones utilizas en tu ordenador/tableta/móvil? (Respuesta múltiple) [Otro]\n",
      "Describiendo la pregunta ¿Qué tipo de aplicaciones utilizas en tu ordenador/tableta/móvil? (Respuesta múltiple) [Otro]\n",
      "\n",
      "\n",
      "Cluster 1 || variable: Durante ese uso, ¿cuántas imágenes consumes (ves y compartes)?\n",
      "Describiendo la pregunta Durante ese uso, ¿cuántas imágenes consumes (ves y compartes)?\n",
      "Valores numéricos asociados a las respuestas [1, 2, 3, 4, 5]\n",
      "Respuestas posibles a la pregunta/variable ['1. Ninguna', '2. Pocas', '3. Ni muchas ni pocas', '4. Bastantes', '5. Recibo y envio imágenes de forma constante']\n"
     ]
    },
    {
     "data": {
      "text/plain": [
       "count    223.000000\n",
       "mean       4.273543\n",
       "std        0.658670\n",
       "min        2.000000\n",
       "25%        4.000000\n",
       "50%        4.000000\n",
       "75%        5.000000\n",
       "max        5.000000\n",
       "Name: Durante ese uso, ¿cuántas imágenes consumes (ves y compartes)?, dtype: float64"
      ]
     },
     "metadata": {},
     "output_type": "display_data"
    },
    {
     "name": "stdout",
     "output_type": "stream",
     "text": [
      "Conteo de cada valor en Durante ese uso, ¿cuántas imágenes consumes (ves y compartes)? expresada como valor / cantidad\n"
     ]
    },
    {
     "data": {
      "text/plain": [
       "2      3\n",
       "3     17\n",
       "4    119\n",
       "5     84\n",
       "Name: Durante ese uso, ¿cuántas imágenes consumes (ves y compartes)?, dtype: int64"
      ]
     },
     "metadata": {},
     "output_type": "display_data"
    },
    {
     "name": "stdout",
     "output_type": "stream",
     "text": [
      "Porcentaje de cada valor en Durante ese uso, ¿cuántas imágenes consumes (ves y compartes)? expresado como valor / porcentaje\n"
     ]
    },
    {
     "data": {
      "text/plain": [
       "2     1.35\n",
       "3     7.62\n",
       "4    53.36\n",
       "5    37.67\n",
       "Name: Durante ese uso, ¿cuántas imágenes consumes (ves y compartes)?, dtype: float64"
      ]
     },
     "metadata": {},
     "output_type": "display_data"
    },
    {
     "data": {
      "application/vnd.plotly.v1+json": {
       "config": {
        "linkText": "Export to plot.ly",
        "plotlyServerURL": "https://plot.ly",
        "showLink": false
       },
       "data": [
        {
         "marker": {
          "color": [
           "rgb(213,62,79)",
           "rgb(252,141,89)",
           "rgb(254,224,139)",
           "rgb(230,245,152)",
           "rgb(153,213,148)",
           "rgb(50,136,189)"
          ]
         },
         "type": "bar",
         "uid": "48206156-3603-4cbb-878c-91ef25cf6356",
         "x": [
          2,
          3,
          4,
          5
         ],
         "y": [
          3,
          17,
          119,
          84
         ]
        }
       ],
       "layout": {
        "bargap": 0.2,
        "xaxis": {
         "ticktext": [
          "1. Ninguna",
          "2. Pocas",
          "3. Ni muchas ni pocas",
          "4. Bastantes",
          "5. Recibo y envio imágenes de forma constante"
         ],
         "tickvals": [
          1,
          2,
          3,
          4,
          5
         ]
        }
       }
      },
      "text/html": [
       "<div id=\"532b30dd-22b4-4e8a-abd4-cedc797e26a0\" style=\"height: 525px; width: 100%;\" class=\"plotly-graph-div\"></div><script type=\"text/javascript\">require([\"plotly\"], function(Plotly) { window.PLOTLYENV=window.PLOTLYENV || {};window.PLOTLYENV.BASE_URL=\"https://plot.ly\";\n",
       "if (document.getElementById(\"532b30dd-22b4-4e8a-abd4-cedc797e26a0\")) {\n",
       "    Plotly.newPlot(\"532b30dd-22b4-4e8a-abd4-cedc797e26a0\", [{\"marker\": {\"color\": [\"rgb(213,62,79)\", \"rgb(252,141,89)\", \"rgb(254,224,139)\", \"rgb(230,245,152)\", \"rgb(153,213,148)\", \"rgb(50,136,189)\"]}, \"x\": [2, 3, 4, 5], \"y\": [3, 17, 119, 84], \"type\": \"bar\", \"uid\": \"48206156-3603-4cbb-878c-91ef25cf6356\"}], {\"bargap\": 0.2, \"xaxis\": {\"ticktext\": [\"1. Ninguna\", \"2. Pocas\", \"3. Ni muchas ni pocas\", \"4. Bastantes\", \"5. Recibo y envio im\\u00e1genes de forma constante\"], \"tickvals\": [1, 2, 3, 4, 5]}}, {\"showLink\": false, \"linkText\": \"Export to plot.ly\", \"plotlyServerURL\": \"https://plot.ly\"}); \n",
       "}\n",
       "});</script><script type=\"text/javascript\">window.addEventListener(\"resize\", function(){if (document.getElementById(\"532b30dd-22b4-4e8a-abd4-cedc797e26a0\")) {window._Plotly.Plots.resize(document.getElementById(\"532b30dd-22b4-4e8a-abd4-cedc797e26a0\"));};})</script>"
      ],
      "text/vnd.plotly.v1+html": [
       "<div id=\"532b30dd-22b4-4e8a-abd4-cedc797e26a0\" style=\"height: 525px; width: 100%;\" class=\"plotly-graph-div\"></div><script type=\"text/javascript\">require([\"plotly\"], function(Plotly) { window.PLOTLYENV=window.PLOTLYENV || {};window.PLOTLYENV.BASE_URL=\"https://plot.ly\";\n",
       "if (document.getElementById(\"532b30dd-22b4-4e8a-abd4-cedc797e26a0\")) {\n",
       "    Plotly.newPlot(\"532b30dd-22b4-4e8a-abd4-cedc797e26a0\", [{\"marker\": {\"color\": [\"rgb(213,62,79)\", \"rgb(252,141,89)\", \"rgb(254,224,139)\", \"rgb(230,245,152)\", \"rgb(153,213,148)\", \"rgb(50,136,189)\"]}, \"x\": [2, 3, 4, 5], \"y\": [3, 17, 119, 84], \"type\": \"bar\", \"uid\": \"48206156-3603-4cbb-878c-91ef25cf6356\"}], {\"bargap\": 0.2, \"xaxis\": {\"ticktext\": [\"1. Ninguna\", \"2. Pocas\", \"3. Ni muchas ni pocas\", \"4. Bastantes\", \"5. Recibo y envio im\\u00e1genes de forma constante\"], \"tickvals\": [1, 2, 3, 4, 5]}}, {\"showLink\": false, \"linkText\": \"Export to plot.ly\", \"plotlyServerURL\": \"https://plot.ly\"}); \n",
       "}\n",
       "});</script><script type=\"text/javascript\">window.addEventListener(\"resize\", function(){if (document.getElementById(\"532b30dd-22b4-4e8a-abd4-cedc797e26a0\")) {window._Plotly.Plots.resize(document.getElementById(\"532b30dd-22b4-4e8a-abd4-cedc797e26a0\"));};})</script>"
      ]
     },
     "metadata": {},
     "output_type": "display_data"
    },
    {
     "name": "stdout",
     "output_type": "stream",
     "text": [
      "\n",
      "\n",
      "Cluster 1 || variable: ¿Cuál es tu herramienta habitual de consumo de imágenes?\n",
      "Describiendo la pregunta ¿Cuál es tu herramienta habitual de consumo de imágenes?\n",
      "Valores numéricos asociados a las respuestas [1, 2, 3, 4, 5]\n",
      "Respuestas posibles a la pregunta/variable ['1. Móvil', '2. Televisión', '3. Ordenador', '4. Tableta', '5. Otros (Libros y periódicos en papel, marquesinas, museos...)']\n"
     ]
    },
    {
     "data": {
      "text/plain": [
       "count    223.000000\n",
       "mean       1.587444\n",
       "std        0.925234\n",
       "min        1.000000\n",
       "25%        1.000000\n",
       "50%        1.000000\n",
       "75%        3.000000\n",
       "max        4.000000\n",
       "Name: ¿Cuál es tu herramienta habitual de consumo de imágenes?, dtype: float64"
      ]
     },
     "metadata": {},
     "output_type": "display_data"
    },
    {
     "name": "stdout",
     "output_type": "stream",
     "text": [
      "Conteo de cada valor en ¿Cuál es tu herramienta habitual de consumo de imágenes? expresada como valor / cantidad\n"
     ]
    },
    {
     "data": {
      "text/plain": [
       "1    155\n",
       "2     10\n",
       "3     53\n",
       "4      5\n",
       "Name: ¿Cuál es tu herramienta habitual de consumo de imágenes?, dtype: int64"
      ]
     },
     "metadata": {},
     "output_type": "display_data"
    },
    {
     "name": "stdout",
     "output_type": "stream",
     "text": [
      "Porcentaje de cada valor en ¿Cuál es tu herramienta habitual de consumo de imágenes? expresado como valor / porcentaje\n"
     ]
    },
    {
     "data": {
      "text/plain": [
       "1    69.51\n",
       "2     4.48\n",
       "3    23.77\n",
       "4     2.24\n",
       "Name: ¿Cuál es tu herramienta habitual de consumo de imágenes?, dtype: float64"
      ]
     },
     "metadata": {},
     "output_type": "display_data"
    },
    {
     "data": {
      "application/vnd.plotly.v1+json": {
       "config": {
        "linkText": "Export to plot.ly",
        "plotlyServerURL": "https://plot.ly",
        "showLink": false
       },
       "data": [
        {
         "marker": {
          "color": [
           "rgb(213,62,79)",
           "rgb(252,141,89)",
           "rgb(254,224,139)",
           "rgb(230,245,152)",
           "rgb(153,213,148)",
           "rgb(50,136,189)"
          ]
         },
         "type": "bar",
         "uid": "bd08a3ed-ac22-48ed-ab04-cf2c3ebebb26",
         "x": [
          1,
          2,
          3,
          4
         ],
         "y": [
          155,
          10,
          53,
          5
         ]
        }
       ],
       "layout": {
        "bargap": 0.2,
        "xaxis": {
         "ticktext": [
          "1. Móvil",
          "2. Televisión",
          "3. Ordenador",
          "4. Tableta",
          "5. Otros (Libros y periódicos en papel, marquesinas, museos...)"
         ],
         "tickvals": [
          1,
          2,
          3,
          4,
          5
         ]
        }
       }
      },
      "text/html": [
       "<div id=\"09e02f37-5c2a-4058-8697-ab37cf952b70\" style=\"height: 525px; width: 100%;\" class=\"plotly-graph-div\"></div><script type=\"text/javascript\">require([\"plotly\"], function(Plotly) { window.PLOTLYENV=window.PLOTLYENV || {};window.PLOTLYENV.BASE_URL=\"https://plot.ly\";\n",
       "if (document.getElementById(\"09e02f37-5c2a-4058-8697-ab37cf952b70\")) {\n",
       "    Plotly.newPlot(\"09e02f37-5c2a-4058-8697-ab37cf952b70\", [{\"marker\": {\"color\": [\"rgb(213,62,79)\", \"rgb(252,141,89)\", \"rgb(254,224,139)\", \"rgb(230,245,152)\", \"rgb(153,213,148)\", \"rgb(50,136,189)\"]}, \"x\": [1, 2, 3, 4], \"y\": [155, 10, 53, 5], \"type\": \"bar\", \"uid\": \"bd08a3ed-ac22-48ed-ab04-cf2c3ebebb26\"}], {\"bargap\": 0.2, \"xaxis\": {\"ticktext\": [\"1. M\\u00f3vil\", \"2. Televisi\\u00f3n\", \"3. Ordenador\", \"4. Tableta\", \"5. Otros (Libros y peri\\u00f3dicos en papel, marquesinas, museos...)\"], \"tickvals\": [1, 2, 3, 4, 5]}}, {\"showLink\": false, \"linkText\": \"Export to plot.ly\", \"plotlyServerURL\": \"https://plot.ly\"}); \n",
       "}\n",
       "});</script><script type=\"text/javascript\">window.addEventListener(\"resize\", function(){if (document.getElementById(\"09e02f37-5c2a-4058-8697-ab37cf952b70\")) {window._Plotly.Plots.resize(document.getElementById(\"09e02f37-5c2a-4058-8697-ab37cf952b70\"));};})</script>"
      ],
      "text/vnd.plotly.v1+html": [
       "<div id=\"09e02f37-5c2a-4058-8697-ab37cf952b70\" style=\"height: 525px; width: 100%;\" class=\"plotly-graph-div\"></div><script type=\"text/javascript\">require([\"plotly\"], function(Plotly) { window.PLOTLYENV=window.PLOTLYENV || {};window.PLOTLYENV.BASE_URL=\"https://plot.ly\";\n",
       "if (document.getElementById(\"09e02f37-5c2a-4058-8697-ab37cf952b70\")) {\n",
       "    Plotly.newPlot(\"09e02f37-5c2a-4058-8697-ab37cf952b70\", [{\"marker\": {\"color\": [\"rgb(213,62,79)\", \"rgb(252,141,89)\", \"rgb(254,224,139)\", \"rgb(230,245,152)\", \"rgb(153,213,148)\", \"rgb(50,136,189)\"]}, \"x\": [1, 2, 3, 4], \"y\": [155, 10, 53, 5], \"type\": \"bar\", \"uid\": \"bd08a3ed-ac22-48ed-ab04-cf2c3ebebb26\"}], {\"bargap\": 0.2, \"xaxis\": {\"ticktext\": [\"1. M\\u00f3vil\", \"2. Televisi\\u00f3n\", \"3. Ordenador\", \"4. Tableta\", \"5. Otros (Libros y peri\\u00f3dicos en papel, marquesinas, museos...)\"], \"tickvals\": [1, 2, 3, 4, 5]}}, {\"showLink\": false, \"linkText\": \"Export to plot.ly\", \"plotlyServerURL\": \"https://plot.ly\"}); \n",
       "}\n",
       "});</script><script type=\"text/javascript\">window.addEventListener(\"resize\", function(){if (document.getElementById(\"09e02f37-5c2a-4058-8697-ab37cf952b70\")) {window._Plotly.Plots.resize(document.getElementById(\"09e02f37-5c2a-4058-8697-ab37cf952b70\"));};})</script>"
      ]
     },
     "metadata": {},
     "output_type": "display_data"
    },
    {
     "name": "stdout",
     "output_type": "stream",
     "text": [
      "\n",
      "\n",
      "Cluster 1 || variable: ¿Cada cuánto tiempo consumes imágenes?\n",
      "Describiendo la pregunta ¿Cada cuánto tiempo consumes imágenes?\n",
      "Valores numéricos asociados a las respuestas [1, 2, 3, 4]\n",
      "Respuestas posibles a la pregunta/variable ['1. Nunca', '2. Dos o tres veces por semana', '3. Casi todos los días', '4. A diario']\n"
     ]
    },
    {
     "data": {
      "text/plain": [
       "count    223.000000\n",
       "mean       3.775785\n",
       "std        0.487637\n",
       "min        2.000000\n",
       "25%        4.000000\n",
       "50%        4.000000\n",
       "75%        4.000000\n",
       "max        4.000000\n",
       "Name: ¿Cada cuánto tiempo consumes imágenes?, dtype: float64"
      ]
     },
     "metadata": {},
     "output_type": "display_data"
    },
    {
     "name": "stdout",
     "output_type": "stream",
     "text": [
      "Conteo de cada valor en ¿Cada cuánto tiempo consumes imágenes? expresada como valor / cantidad\n"
     ]
    },
    {
     "data": {
      "text/plain": [
       "2      7\n",
       "3     36\n",
       "4    180\n",
       "Name: ¿Cada cuánto tiempo consumes imágenes?, dtype: int64"
      ]
     },
     "metadata": {},
     "output_type": "display_data"
    },
    {
     "name": "stdout",
     "output_type": "stream",
     "text": [
      "Porcentaje de cada valor en ¿Cada cuánto tiempo consumes imágenes? expresado como valor / porcentaje\n"
     ]
    },
    {
     "data": {
      "text/plain": [
       "2     3.14\n",
       "3    16.14\n",
       "4    80.72\n",
       "Name: ¿Cada cuánto tiempo consumes imágenes?, dtype: float64"
      ]
     },
     "metadata": {},
     "output_type": "display_data"
    },
    {
     "data": {
      "application/vnd.plotly.v1+json": {
       "config": {
        "linkText": "Export to plot.ly",
        "plotlyServerURL": "https://plot.ly",
        "showLink": false
       },
       "data": [
        {
         "marker": {
          "color": [
           "rgb(213,62,79)",
           "rgb(252,141,89)",
           "rgb(254,224,139)",
           "rgb(230,245,152)",
           "rgb(153,213,148)",
           "rgb(50,136,189)"
          ]
         },
         "type": "bar",
         "uid": "a4c05870-c9b5-4809-a4e7-a9cd9e0f7414",
         "x": [
          2,
          3,
          4
         ],
         "y": [
          7,
          36,
          180
         ]
        }
       ],
       "layout": {
        "bargap": 0.2,
        "xaxis": {
         "ticktext": [
          "1. Nunca",
          "2. Dos o tres veces por semana",
          "3. Casi todos los días",
          "4. A diario"
         ],
         "tickvals": [
          1,
          2,
          3,
          4
         ]
        }
       }
      },
      "text/html": [
       "<div id=\"758ed57e-a2df-4e84-9506-7904c7a70cbf\" style=\"height: 525px; width: 100%;\" class=\"plotly-graph-div\"></div><script type=\"text/javascript\">require([\"plotly\"], function(Plotly) { window.PLOTLYENV=window.PLOTLYENV || {};window.PLOTLYENV.BASE_URL=\"https://plot.ly\";\n",
       "if (document.getElementById(\"758ed57e-a2df-4e84-9506-7904c7a70cbf\")) {\n",
       "    Plotly.newPlot(\"758ed57e-a2df-4e84-9506-7904c7a70cbf\", [{\"marker\": {\"color\": [\"rgb(213,62,79)\", \"rgb(252,141,89)\", \"rgb(254,224,139)\", \"rgb(230,245,152)\", \"rgb(153,213,148)\", \"rgb(50,136,189)\"]}, \"x\": [2, 3, 4], \"y\": [7, 36, 180], \"type\": \"bar\", \"uid\": \"a4c05870-c9b5-4809-a4e7-a9cd9e0f7414\"}], {\"bargap\": 0.2, \"xaxis\": {\"ticktext\": [\"1. Nunca\", \"2. Dos o tres veces por semana\", \"3. Casi todos los d\\u00edas\", \"4. A diario\"], \"tickvals\": [1, 2, 3, 4]}}, {\"showLink\": false, \"linkText\": \"Export to plot.ly\", \"plotlyServerURL\": \"https://plot.ly\"}); \n",
       "}\n",
       "});</script><script type=\"text/javascript\">window.addEventListener(\"resize\", function(){if (document.getElementById(\"758ed57e-a2df-4e84-9506-7904c7a70cbf\")) {window._Plotly.Plots.resize(document.getElementById(\"758ed57e-a2df-4e84-9506-7904c7a70cbf\"));};})</script>"
      ],
      "text/vnd.plotly.v1+html": [
       "<div id=\"758ed57e-a2df-4e84-9506-7904c7a70cbf\" style=\"height: 525px; width: 100%;\" class=\"plotly-graph-div\"></div><script type=\"text/javascript\">require([\"plotly\"], function(Plotly) { window.PLOTLYENV=window.PLOTLYENV || {};window.PLOTLYENV.BASE_URL=\"https://plot.ly\";\n",
       "if (document.getElementById(\"758ed57e-a2df-4e84-9506-7904c7a70cbf\")) {\n",
       "    Plotly.newPlot(\"758ed57e-a2df-4e84-9506-7904c7a70cbf\", [{\"marker\": {\"color\": [\"rgb(213,62,79)\", \"rgb(252,141,89)\", \"rgb(254,224,139)\", \"rgb(230,245,152)\", \"rgb(153,213,148)\", \"rgb(50,136,189)\"]}, \"x\": [2, 3, 4], \"y\": [7, 36, 180], \"type\": \"bar\", \"uid\": \"a4c05870-c9b5-4809-a4e7-a9cd9e0f7414\"}], {\"bargap\": 0.2, \"xaxis\": {\"ticktext\": [\"1. Nunca\", \"2. Dos o tres veces por semana\", \"3. Casi todos los d\\u00edas\", \"4. A diario\"], \"tickvals\": [1, 2, 3, 4]}}, {\"showLink\": false, \"linkText\": \"Export to plot.ly\", \"plotlyServerURL\": \"https://plot.ly\"}); \n",
       "}\n",
       "});</script><script type=\"text/javascript\">window.addEventListener(\"resize\", function(){if (document.getElementById(\"758ed57e-a2df-4e84-9506-7904c7a70cbf\")) {window._Plotly.Plots.resize(document.getElementById(\"758ed57e-a2df-4e84-9506-7904c7a70cbf\"));};})</script>"
      ]
     },
     "metadata": {},
     "output_type": "display_data"
    },
    {
     "name": "stdout",
     "output_type": "stream",
     "text": [
      "\n",
      "\n",
      "Cluster 5 || variable: Clasifica tu grado de visión\n",
      "Describiendo la pregunta Clasifica tu grado de visión\n",
      "Valores numéricos asociados a las respuestas [1, 2, 3, 4, 5]\n",
      "Respuestas posibles a la pregunta/variable ['1. Muy malo', '2. Malo', '3. Regular', '4. Bueno', '5. Muy bueno']\n"
     ]
    },
    {
     "data": {
      "text/plain": [
       "count    1.0\n",
       "mean     3.0\n",
       "std      NaN\n",
       "min      3.0\n",
       "25%      3.0\n",
       "50%      3.0\n",
       "75%      3.0\n",
       "max      3.0\n",
       "Name: Clasifica tu grado de visión, dtype: float64"
      ]
     },
     "metadata": {},
     "output_type": "display_data"
    },
    {
     "name": "stdout",
     "output_type": "stream",
     "text": [
      "Conteo de cada valor en Clasifica tu grado de visión expresada como valor / cantidad\n"
     ]
    },
    {
     "data": {
      "text/plain": [
       "3    1\n",
       "Name: Clasifica tu grado de visión, dtype: int64"
      ]
     },
     "metadata": {},
     "output_type": "display_data"
    },
    {
     "name": "stdout",
     "output_type": "stream",
     "text": [
      "Porcentaje de cada valor en Clasifica tu grado de visión expresado como valor / porcentaje\n"
     ]
    },
    {
     "data": {
      "text/plain": [
       "3    100.0\n",
       "Name: Clasifica tu grado de visión, dtype: float64"
      ]
     },
     "metadata": {},
     "output_type": "display_data"
    },
    {
     "data": {
      "application/vnd.plotly.v1+json": {
       "config": {
        "linkText": "Export to plot.ly",
        "plotlyServerURL": "https://plot.ly",
        "showLink": false
       },
       "data": [
        {
         "marker": {
          "color": [
           "rgb(213,62,79)",
           "rgb(252,141,89)",
           "rgb(254,224,139)",
           "rgb(230,245,152)",
           "rgb(153,213,148)",
           "rgb(50,136,189)"
          ]
         },
         "type": "bar",
         "uid": "fb51c4b4-77a1-4688-81c7-f0f8e91df77e",
         "x": [
          3
         ],
         "y": [
          1
         ]
        }
       ],
       "layout": {
        "bargap": 0.2,
        "xaxis": {
         "ticktext": [
          "1. Muy malo",
          "2. Malo",
          "3. Regular",
          "4. Bueno",
          "5. Muy bueno"
         ],
         "tickvals": [
          1,
          2,
          3,
          4,
          5
         ]
        }
       }
      },
      "text/html": [
       "<div id=\"b7927ee7-5548-4e6a-936d-56cbef865ea5\" style=\"height: 525px; width: 100%;\" class=\"plotly-graph-div\"></div><script type=\"text/javascript\">require([\"plotly\"], function(Plotly) { window.PLOTLYENV=window.PLOTLYENV || {};window.PLOTLYENV.BASE_URL=\"https://plot.ly\";\n",
       "if (document.getElementById(\"b7927ee7-5548-4e6a-936d-56cbef865ea5\")) {\n",
       "    Plotly.newPlot(\"b7927ee7-5548-4e6a-936d-56cbef865ea5\", [{\"marker\": {\"color\": [\"rgb(213,62,79)\", \"rgb(252,141,89)\", \"rgb(254,224,139)\", \"rgb(230,245,152)\", \"rgb(153,213,148)\", \"rgb(50,136,189)\"]}, \"x\": [3], \"y\": [1], \"type\": \"bar\", \"uid\": \"fb51c4b4-77a1-4688-81c7-f0f8e91df77e\"}], {\"bargap\": 0.2, \"xaxis\": {\"ticktext\": [\"1. Muy malo\", \"2. Malo\", \"3. Regular\", \"4. Bueno\", \"5. Muy bueno\"], \"tickvals\": [1, 2, 3, 4, 5]}}, {\"showLink\": false, \"linkText\": \"Export to plot.ly\", \"plotlyServerURL\": \"https://plot.ly\"}); \n",
       "}\n",
       "});</script><script type=\"text/javascript\">window.addEventListener(\"resize\", function(){if (document.getElementById(\"b7927ee7-5548-4e6a-936d-56cbef865ea5\")) {window._Plotly.Plots.resize(document.getElementById(\"b7927ee7-5548-4e6a-936d-56cbef865ea5\"));};})</script>"
      ],
      "text/vnd.plotly.v1+html": [
       "<div id=\"b7927ee7-5548-4e6a-936d-56cbef865ea5\" style=\"height: 525px; width: 100%;\" class=\"plotly-graph-div\"></div><script type=\"text/javascript\">require([\"plotly\"], function(Plotly) { window.PLOTLYENV=window.PLOTLYENV || {};window.PLOTLYENV.BASE_URL=\"https://plot.ly\";\n",
       "if (document.getElementById(\"b7927ee7-5548-4e6a-936d-56cbef865ea5\")) {\n",
       "    Plotly.newPlot(\"b7927ee7-5548-4e6a-936d-56cbef865ea5\", [{\"marker\": {\"color\": [\"rgb(213,62,79)\", \"rgb(252,141,89)\", \"rgb(254,224,139)\", \"rgb(230,245,152)\", \"rgb(153,213,148)\", \"rgb(50,136,189)\"]}, \"x\": [3], \"y\": [1], \"type\": \"bar\", \"uid\": \"fb51c4b4-77a1-4688-81c7-f0f8e91df77e\"}], {\"bargap\": 0.2, \"xaxis\": {\"ticktext\": [\"1. Muy malo\", \"2. Malo\", \"3. Regular\", \"4. Bueno\", \"5. Muy bueno\"], \"tickvals\": [1, 2, 3, 4, 5]}}, {\"showLink\": false, \"linkText\": \"Export to plot.ly\", \"plotlyServerURL\": \"https://plot.ly\"}); \n",
       "}\n",
       "});</script><script type=\"text/javascript\">window.addEventListener(\"resize\", function(){if (document.getElementById(\"b7927ee7-5548-4e6a-936d-56cbef865ea5\")) {window._Plotly.Plots.resize(document.getElementById(\"b7927ee7-5548-4e6a-936d-56cbef865ea5\"));};})</script>"
      ]
     },
     "metadata": {},
     "output_type": "display_data"
    },
    {
     "name": "stdout",
     "output_type": "stream",
     "text": [
      "\n",
      "\n",
      "Cluster 5 || variable: ¿Utilizas gafas o lentes de contacto?\n",
      "Describiendo la pregunta ¿Utilizas gafas o lentes de contacto?\n",
      "Valores numéricos asociados a las respuestas [0, 1]\n",
      "Respuestas posibles a la pregunta/variable ['No', 'Sí']\n"
     ]
    },
    {
     "data": {
      "text/plain": [
       "count    1.0\n",
       "mean     1.0\n",
       "std      NaN\n",
       "min      1.0\n",
       "25%      1.0\n",
       "50%      1.0\n",
       "75%      1.0\n",
       "max      1.0\n",
       "Name: ¿Utilizas gafas o lentes de contacto?, dtype: float64"
      ]
     },
     "metadata": {},
     "output_type": "display_data"
    },
    {
     "name": "stdout",
     "output_type": "stream",
     "text": [
      "Conteo de cada valor en ¿Utilizas gafas o lentes de contacto? expresada como valor / cantidad\n"
     ]
    },
    {
     "data": {
      "text/plain": [
       "1    1\n",
       "Name: ¿Utilizas gafas o lentes de contacto?, dtype: int64"
      ]
     },
     "metadata": {},
     "output_type": "display_data"
    },
    {
     "name": "stdout",
     "output_type": "stream",
     "text": [
      "Porcentaje de cada valor en ¿Utilizas gafas o lentes de contacto? expresado como valor / porcentaje\n"
     ]
    },
    {
     "data": {
      "text/plain": [
       "1    100.0\n",
       "Name: ¿Utilizas gafas o lentes de contacto?, dtype: float64"
      ]
     },
     "metadata": {},
     "output_type": "display_data"
    },
    {
     "data": {
      "application/vnd.plotly.v1+json": {
       "config": {
        "linkText": "Export to plot.ly",
        "plotlyServerURL": "https://plot.ly",
        "showLink": false
       },
       "data": [
        {
         "marker": {
          "color": [
           "rgb(213,62,79)",
           "rgb(252,141,89)",
           "rgb(254,224,139)",
           "rgb(230,245,152)",
           "rgb(153,213,148)",
           "rgb(50,136,189)"
          ]
         },
         "type": "bar",
         "uid": "9a2d0f59-fc60-444b-8787-2715b3717e59",
         "x": [
          1
         ],
         "y": [
          1
         ]
        }
       ],
       "layout": {
        "bargap": 0.2,
        "xaxis": {
         "ticktext": [
          "No",
          "Sí"
         ],
         "tickvals": [
          0,
          1
         ]
        }
       }
      },
      "text/html": [
       "<div id=\"2afd122f-2d4d-4945-8a15-a186d7f5593c\" style=\"height: 525px; width: 100%;\" class=\"plotly-graph-div\"></div><script type=\"text/javascript\">require([\"plotly\"], function(Plotly) { window.PLOTLYENV=window.PLOTLYENV || {};window.PLOTLYENV.BASE_URL=\"https://plot.ly\";\n",
       "if (document.getElementById(\"2afd122f-2d4d-4945-8a15-a186d7f5593c\")) {\n",
       "    Plotly.newPlot(\"2afd122f-2d4d-4945-8a15-a186d7f5593c\", [{\"marker\": {\"color\": [\"rgb(213,62,79)\", \"rgb(252,141,89)\", \"rgb(254,224,139)\", \"rgb(230,245,152)\", \"rgb(153,213,148)\", \"rgb(50,136,189)\"]}, \"x\": [1], \"y\": [1], \"type\": \"bar\", \"uid\": \"9a2d0f59-fc60-444b-8787-2715b3717e59\"}], {\"bargap\": 0.2, \"xaxis\": {\"ticktext\": [\"No\", \"S\\u00ed\"], \"tickvals\": [0, 1]}}, {\"showLink\": false, \"linkText\": \"Export to plot.ly\", \"plotlyServerURL\": \"https://plot.ly\"}); \n",
       "}\n",
       "});</script><script type=\"text/javascript\">window.addEventListener(\"resize\", function(){if (document.getElementById(\"2afd122f-2d4d-4945-8a15-a186d7f5593c\")) {window._Plotly.Plots.resize(document.getElementById(\"2afd122f-2d4d-4945-8a15-a186d7f5593c\"));};})</script>"
      ],
      "text/vnd.plotly.v1+html": [
       "<div id=\"2afd122f-2d4d-4945-8a15-a186d7f5593c\" style=\"height: 525px; width: 100%;\" class=\"plotly-graph-div\"></div><script type=\"text/javascript\">require([\"plotly\"], function(Plotly) { window.PLOTLYENV=window.PLOTLYENV || {};window.PLOTLYENV.BASE_URL=\"https://plot.ly\";\n",
       "if (document.getElementById(\"2afd122f-2d4d-4945-8a15-a186d7f5593c\")) {\n",
       "    Plotly.newPlot(\"2afd122f-2d4d-4945-8a15-a186d7f5593c\", [{\"marker\": {\"color\": [\"rgb(213,62,79)\", \"rgb(252,141,89)\", \"rgb(254,224,139)\", \"rgb(230,245,152)\", \"rgb(153,213,148)\", \"rgb(50,136,189)\"]}, \"x\": [1], \"y\": [1], \"type\": \"bar\", \"uid\": \"9a2d0f59-fc60-444b-8787-2715b3717e59\"}], {\"bargap\": 0.2, \"xaxis\": {\"ticktext\": [\"No\", \"S\\u00ed\"], \"tickvals\": [0, 1]}}, {\"showLink\": false, \"linkText\": \"Export to plot.ly\", \"plotlyServerURL\": \"https://plot.ly\"}); \n",
       "}\n",
       "});</script><script type=\"text/javascript\">window.addEventListener(\"resize\", function(){if (document.getElementById(\"2afd122f-2d4d-4945-8a15-a186d7f5593c\")) {window._Plotly.Plots.resize(document.getElementById(\"2afd122f-2d4d-4945-8a15-a186d7f5593c\"));};})</script>"
      ]
     },
     "metadata": {},
     "output_type": "display_data"
    },
    {
     "name": "stdout",
     "output_type": "stream",
     "text": [
      "\n",
      "\n",
      "Cluster 5 || variable: ¿Tienes alguna carencia visual que afecte a la recepción de formas, colores, distancias, etc.?\n",
      "Describiendo la pregunta ¿Tienes alguna carencia visual que afecte a la recepción de formas, colores, distancias, etc.?\n",
      "Valores numéricos asociados a las respuestas [0, 1]\n",
      "Respuestas posibles a la pregunta/variable ['No', 'Sí']\n"
     ]
    },
    {
     "data": {
      "text/plain": [
       "count    1.0\n",
       "mean     0.0\n",
       "std      NaN\n",
       "min      0.0\n",
       "25%      0.0\n",
       "50%      0.0\n",
       "75%      0.0\n",
       "max      0.0\n",
       "Name: ¿Tienes alguna carencia visual que afecte a la recepción de formas, colores, distancias, etc.?, dtype: float64"
      ]
     },
     "metadata": {},
     "output_type": "display_data"
    },
    {
     "name": "stdout",
     "output_type": "stream",
     "text": [
      "Conteo de cada valor en ¿Tienes alguna carencia visual que afecte a la recepción de formas, colores, distancias, etc.? expresada como valor / cantidad\n"
     ]
    },
    {
     "data": {
      "text/plain": [
       "0    1\n",
       "Name: ¿Tienes alguna carencia visual que afecte a la recepción de formas, colores, distancias, etc.?, dtype: int64"
      ]
     },
     "metadata": {},
     "output_type": "display_data"
    },
    {
     "name": "stdout",
     "output_type": "stream",
     "text": [
      "Porcentaje de cada valor en ¿Tienes alguna carencia visual que afecte a la recepción de formas, colores, distancias, etc.? expresado como valor / porcentaje\n"
     ]
    },
    {
     "data": {
      "text/plain": [
       "0    100.0\n",
       "Name: ¿Tienes alguna carencia visual que afecte a la recepción de formas, colores, distancias, etc.?, dtype: float64"
      ]
     },
     "metadata": {},
     "output_type": "display_data"
    },
    {
     "data": {
      "application/vnd.plotly.v1+json": {
       "config": {
        "linkText": "Export to plot.ly",
        "plotlyServerURL": "https://plot.ly",
        "showLink": false
       },
       "data": [
        {
         "marker": {
          "color": [
           "rgb(213,62,79)",
           "rgb(252,141,89)",
           "rgb(254,224,139)",
           "rgb(230,245,152)",
           "rgb(153,213,148)",
           "rgb(50,136,189)"
          ]
         },
         "type": "bar",
         "uid": "af706ce8-c9d0-4f37-a8bf-5c7d3a36e2b5",
         "x": [
          0
         ],
         "y": [
          1
         ]
        }
       ],
       "layout": {
        "bargap": 0.2,
        "xaxis": {
         "ticktext": [
          "No",
          "Sí"
         ],
         "tickvals": [
          0,
          1
         ]
        }
       }
      },
      "text/html": [
       "<div id=\"999d2476-b9ef-401c-b92c-850d45b0eb77\" style=\"height: 525px; width: 100%;\" class=\"plotly-graph-div\"></div><script type=\"text/javascript\">require([\"plotly\"], function(Plotly) { window.PLOTLYENV=window.PLOTLYENV || {};window.PLOTLYENV.BASE_URL=\"https://plot.ly\";\n",
       "if (document.getElementById(\"999d2476-b9ef-401c-b92c-850d45b0eb77\")) {\n",
       "    Plotly.newPlot(\"999d2476-b9ef-401c-b92c-850d45b0eb77\", [{\"marker\": {\"color\": [\"rgb(213,62,79)\", \"rgb(252,141,89)\", \"rgb(254,224,139)\", \"rgb(230,245,152)\", \"rgb(153,213,148)\", \"rgb(50,136,189)\"]}, \"x\": [0], \"y\": [1], \"type\": \"bar\", \"uid\": \"af706ce8-c9d0-4f37-a8bf-5c7d3a36e2b5\"}], {\"bargap\": 0.2, \"xaxis\": {\"ticktext\": [\"No\", \"S\\u00ed\"], \"tickvals\": [0, 1]}}, {\"showLink\": false, \"linkText\": \"Export to plot.ly\", \"plotlyServerURL\": \"https://plot.ly\"}); \n",
       "}\n",
       "});</script><script type=\"text/javascript\">window.addEventListener(\"resize\", function(){if (document.getElementById(\"999d2476-b9ef-401c-b92c-850d45b0eb77\")) {window._Plotly.Plots.resize(document.getElementById(\"999d2476-b9ef-401c-b92c-850d45b0eb77\"));};})</script>"
      ],
      "text/vnd.plotly.v1+html": [
       "<div id=\"999d2476-b9ef-401c-b92c-850d45b0eb77\" style=\"height: 525px; width: 100%;\" class=\"plotly-graph-div\"></div><script type=\"text/javascript\">require([\"plotly\"], function(Plotly) { window.PLOTLYENV=window.PLOTLYENV || {};window.PLOTLYENV.BASE_URL=\"https://plot.ly\";\n",
       "if (document.getElementById(\"999d2476-b9ef-401c-b92c-850d45b0eb77\")) {\n",
       "    Plotly.newPlot(\"999d2476-b9ef-401c-b92c-850d45b0eb77\", [{\"marker\": {\"color\": [\"rgb(213,62,79)\", \"rgb(252,141,89)\", \"rgb(254,224,139)\", \"rgb(230,245,152)\", \"rgb(153,213,148)\", \"rgb(50,136,189)\"]}, \"x\": [0], \"y\": [1], \"type\": \"bar\", \"uid\": \"af706ce8-c9d0-4f37-a8bf-5c7d3a36e2b5\"}], {\"bargap\": 0.2, \"xaxis\": {\"ticktext\": [\"No\", \"S\\u00ed\"], \"tickvals\": [0, 1]}}, {\"showLink\": false, \"linkText\": \"Export to plot.ly\", \"plotlyServerURL\": \"https://plot.ly\"}); \n",
       "}\n",
       "});</script><script type=\"text/javascript\">window.addEventListener(\"resize\", function(){if (document.getElementById(\"999d2476-b9ef-401c-b92c-850d45b0eb77\")) {window._Plotly.Plots.resize(document.getElementById(\"999d2476-b9ef-401c-b92c-850d45b0eb77\"));};})</script>"
      ]
     },
     "metadata": {},
     "output_type": "display_data"
    },
    {
     "name": "stdout",
     "output_type": "stream",
     "text": [
      "\n",
      "\n",
      "Cluster 5 || variable: ¿Tienes acceso a dispositivos (ordenador, móvil, tablet, etc.) conectados a Internet habitualmente?\n",
      "Describiendo la pregunta ¿Tienes acceso a dispositivos (ordenador, móvil, tablet, etc.) conectados a Internet habitualmente?\n",
      "Valores numéricos asociados a las respuestas [1, 2, 3, 4, 5]\n",
      "Respuestas posibles a la pregunta/variable ['1. Nunca', '2. Ocasionalmente', '3. Semanalmente', '4. Diariamente', '5. Varias veces al día']\n"
     ]
    },
    {
     "data": {
      "text/plain": [
       "count    1.0\n",
       "mean     5.0\n",
       "std      NaN\n",
       "min      5.0\n",
       "25%      5.0\n",
       "50%      5.0\n",
       "75%      5.0\n",
       "max      5.0\n",
       "Name: ¿Tienes acceso a dispositivos (ordenador, móvil, tablet, etc.) conectados a Internet habitualmente?, dtype: float64"
      ]
     },
     "metadata": {},
     "output_type": "display_data"
    },
    {
     "name": "stdout",
     "output_type": "stream",
     "text": [
      "Conteo de cada valor en ¿Tienes acceso a dispositivos (ordenador, móvil, tablet, etc.) conectados a Internet habitualmente? expresada como valor / cantidad\n"
     ]
    },
    {
     "data": {
      "text/plain": [
       "5    1\n",
       "Name: ¿Tienes acceso a dispositivos (ordenador, móvil, tablet, etc.) conectados a Internet habitualmente?, dtype: int64"
      ]
     },
     "metadata": {},
     "output_type": "display_data"
    },
    {
     "name": "stdout",
     "output_type": "stream",
     "text": [
      "Porcentaje de cada valor en ¿Tienes acceso a dispositivos (ordenador, móvil, tablet, etc.) conectados a Internet habitualmente? expresado como valor / porcentaje\n"
     ]
    },
    {
     "data": {
      "text/plain": [
       "5    100.0\n",
       "Name: ¿Tienes acceso a dispositivos (ordenador, móvil, tablet, etc.) conectados a Internet habitualmente?, dtype: float64"
      ]
     },
     "metadata": {},
     "output_type": "display_data"
    },
    {
     "data": {
      "application/vnd.plotly.v1+json": {
       "config": {
        "linkText": "Export to plot.ly",
        "plotlyServerURL": "https://plot.ly",
        "showLink": false
       },
       "data": [
        {
         "marker": {
          "color": [
           "rgb(213,62,79)",
           "rgb(252,141,89)",
           "rgb(254,224,139)",
           "rgb(230,245,152)",
           "rgb(153,213,148)",
           "rgb(50,136,189)"
          ]
         },
         "type": "bar",
         "uid": "9148ede6-b17d-41db-bac9-4c443cf9c225",
         "x": [
          5
         ],
         "y": [
          1
         ]
        }
       ],
       "layout": {
        "bargap": 0.2,
        "xaxis": {
         "ticktext": [
          "1. Nunca",
          "2. Ocasionalmente",
          "3. Semanalmente",
          "4. Diariamente",
          "5. Varias veces al día"
         ],
         "tickvals": [
          1,
          2,
          3,
          4,
          5
         ]
        }
       }
      },
      "text/html": [
       "<div id=\"7432bf3f-c2db-4aec-baad-683a0655345a\" style=\"height: 525px; width: 100%;\" class=\"plotly-graph-div\"></div><script type=\"text/javascript\">require([\"plotly\"], function(Plotly) { window.PLOTLYENV=window.PLOTLYENV || {};window.PLOTLYENV.BASE_URL=\"https://plot.ly\";\n",
       "if (document.getElementById(\"7432bf3f-c2db-4aec-baad-683a0655345a\")) {\n",
       "    Plotly.newPlot(\"7432bf3f-c2db-4aec-baad-683a0655345a\", [{\"marker\": {\"color\": [\"rgb(213,62,79)\", \"rgb(252,141,89)\", \"rgb(254,224,139)\", \"rgb(230,245,152)\", \"rgb(153,213,148)\", \"rgb(50,136,189)\"]}, \"x\": [5], \"y\": [1], \"type\": \"bar\", \"uid\": \"9148ede6-b17d-41db-bac9-4c443cf9c225\"}], {\"bargap\": 0.2, \"xaxis\": {\"ticktext\": [\"1. Nunca\", \"2. Ocasionalmente\", \"3. Semanalmente\", \"4. Diariamente\", \"5. Varias veces al d\\u00eda\"], \"tickvals\": [1, 2, 3, 4, 5]}}, {\"showLink\": false, \"linkText\": \"Export to plot.ly\", \"plotlyServerURL\": \"https://plot.ly\"}); \n",
       "}\n",
       "});</script><script type=\"text/javascript\">window.addEventListener(\"resize\", function(){if (document.getElementById(\"7432bf3f-c2db-4aec-baad-683a0655345a\")) {window._Plotly.Plots.resize(document.getElementById(\"7432bf3f-c2db-4aec-baad-683a0655345a\"));};})</script>"
      ],
      "text/vnd.plotly.v1+html": [
       "<div id=\"7432bf3f-c2db-4aec-baad-683a0655345a\" style=\"height: 525px; width: 100%;\" class=\"plotly-graph-div\"></div><script type=\"text/javascript\">require([\"plotly\"], function(Plotly) { window.PLOTLYENV=window.PLOTLYENV || {};window.PLOTLYENV.BASE_URL=\"https://plot.ly\";\n",
       "if (document.getElementById(\"7432bf3f-c2db-4aec-baad-683a0655345a\")) {\n",
       "    Plotly.newPlot(\"7432bf3f-c2db-4aec-baad-683a0655345a\", [{\"marker\": {\"color\": [\"rgb(213,62,79)\", \"rgb(252,141,89)\", \"rgb(254,224,139)\", \"rgb(230,245,152)\", \"rgb(153,213,148)\", \"rgb(50,136,189)\"]}, \"x\": [5], \"y\": [1], \"type\": \"bar\", \"uid\": \"9148ede6-b17d-41db-bac9-4c443cf9c225\"}], {\"bargap\": 0.2, \"xaxis\": {\"ticktext\": [\"1. Nunca\", \"2. Ocasionalmente\", \"3. Semanalmente\", \"4. Diariamente\", \"5. Varias veces al d\\u00eda\"], \"tickvals\": [1, 2, 3, 4, 5]}}, {\"showLink\": false, \"linkText\": \"Export to plot.ly\", \"plotlyServerURL\": \"https://plot.ly\"}); \n",
       "}\n",
       "});</script><script type=\"text/javascript\">window.addEventListener(\"resize\", function(){if (document.getElementById(\"7432bf3f-c2db-4aec-baad-683a0655345a\")) {window._Plotly.Plots.resize(document.getElementById(\"7432bf3f-c2db-4aec-baad-683a0655345a\"));};})</script>"
      ]
     },
     "metadata": {},
     "output_type": "display_data"
    },
    {
     "name": "stdout",
     "output_type": "stream",
     "text": [
      "\n",
      "\n",
      "Cluster 5 || variable: ¿Cuánto tiempo al día usas el móvil/tableta/ordenador/TV?\n",
      "Describiendo la pregunta ¿Cuánto tiempo al día usas el móvil/tableta/ordenador/TV?\n",
      "Valores numéricos asociados a las respuestas [1, 2, 3, 4, 5, 6]\n",
      "Respuestas posibles a la pregunta/variable ['1. Nada', '2. Menos de una hora', '3. 1-2 horas', '4. 2-4 horas', '5. 4-6 horas', '6. Más de 6 horas']\n"
     ]
    },
    {
     "data": {
      "text/plain": [
       "count    1.0\n",
       "mean     6.0\n",
       "std      NaN\n",
       "min      6.0\n",
       "25%      6.0\n",
       "50%      6.0\n",
       "75%      6.0\n",
       "max      6.0\n",
       "Name: ¿Cuánto tiempo al día usas el móvil/tableta/ordenador/TV?, dtype: float64"
      ]
     },
     "metadata": {},
     "output_type": "display_data"
    },
    {
     "name": "stdout",
     "output_type": "stream",
     "text": [
      "Conteo de cada valor en ¿Cuánto tiempo al día usas el móvil/tableta/ordenador/TV? expresada como valor / cantidad\n"
     ]
    },
    {
     "data": {
      "text/plain": [
       "6    1\n",
       "Name: ¿Cuánto tiempo al día usas el móvil/tableta/ordenador/TV?, dtype: int64"
      ]
     },
     "metadata": {},
     "output_type": "display_data"
    },
    {
     "name": "stdout",
     "output_type": "stream",
     "text": [
      "Porcentaje de cada valor en ¿Cuánto tiempo al día usas el móvil/tableta/ordenador/TV? expresado como valor / porcentaje\n"
     ]
    },
    {
     "data": {
      "text/plain": [
       "6    100.0\n",
       "Name: ¿Cuánto tiempo al día usas el móvil/tableta/ordenador/TV?, dtype: float64"
      ]
     },
     "metadata": {},
     "output_type": "display_data"
    },
    {
     "data": {
      "application/vnd.plotly.v1+json": {
       "config": {
        "linkText": "Export to plot.ly",
        "plotlyServerURL": "https://plot.ly",
        "showLink": false
       },
       "data": [
        {
         "marker": {
          "color": [
           "rgb(213,62,79)",
           "rgb(252,141,89)",
           "rgb(254,224,139)",
           "rgb(230,245,152)",
           "rgb(153,213,148)",
           "rgb(50,136,189)"
          ]
         },
         "type": "bar",
         "uid": "4468f9b2-77da-45e1-8767-c4fcf2cc32dc",
         "x": [
          6
         ],
         "y": [
          1
         ]
        }
       ],
       "layout": {
        "bargap": 0.2,
        "xaxis": {
         "ticktext": [
          "1. Nada",
          "2. Menos de una hora",
          "3. 1-2 horas",
          "4. 2-4 horas",
          "5. 4-6 horas",
          "6. Más de 6 horas"
         ],
         "tickvals": [
          1,
          2,
          3,
          4,
          5,
          6
         ]
        }
       }
      },
      "text/html": [
       "<div id=\"c3ab596d-423e-4dc0-bc30-8979f1ce893f\" style=\"height: 525px; width: 100%;\" class=\"plotly-graph-div\"></div><script type=\"text/javascript\">require([\"plotly\"], function(Plotly) { window.PLOTLYENV=window.PLOTLYENV || {};window.PLOTLYENV.BASE_URL=\"https://plot.ly\";\n",
       "if (document.getElementById(\"c3ab596d-423e-4dc0-bc30-8979f1ce893f\")) {\n",
       "    Plotly.newPlot(\"c3ab596d-423e-4dc0-bc30-8979f1ce893f\", [{\"marker\": {\"color\": [\"rgb(213,62,79)\", \"rgb(252,141,89)\", \"rgb(254,224,139)\", \"rgb(230,245,152)\", \"rgb(153,213,148)\", \"rgb(50,136,189)\"]}, \"x\": [6], \"y\": [1], \"type\": \"bar\", \"uid\": \"4468f9b2-77da-45e1-8767-c4fcf2cc32dc\"}], {\"bargap\": 0.2, \"xaxis\": {\"ticktext\": [\"1. Nada\", \"2. Menos de una hora\", \"3. 1-2 horas\", \"4. 2-4 horas\", \"5. 4-6 horas\", \"6. M\\u00e1s de 6 horas\"], \"tickvals\": [1, 2, 3, 4, 5, 6]}}, {\"showLink\": false, \"linkText\": \"Export to plot.ly\", \"plotlyServerURL\": \"https://plot.ly\"}); \n",
       "}\n",
       "});</script><script type=\"text/javascript\">window.addEventListener(\"resize\", function(){if (document.getElementById(\"c3ab596d-423e-4dc0-bc30-8979f1ce893f\")) {window._Plotly.Plots.resize(document.getElementById(\"c3ab596d-423e-4dc0-bc30-8979f1ce893f\"));};})</script>"
      ],
      "text/vnd.plotly.v1+html": [
       "<div id=\"c3ab596d-423e-4dc0-bc30-8979f1ce893f\" style=\"height: 525px; width: 100%;\" class=\"plotly-graph-div\"></div><script type=\"text/javascript\">require([\"plotly\"], function(Plotly) { window.PLOTLYENV=window.PLOTLYENV || {};window.PLOTLYENV.BASE_URL=\"https://plot.ly\";\n",
       "if (document.getElementById(\"c3ab596d-423e-4dc0-bc30-8979f1ce893f\")) {\n",
       "    Plotly.newPlot(\"c3ab596d-423e-4dc0-bc30-8979f1ce893f\", [{\"marker\": {\"color\": [\"rgb(213,62,79)\", \"rgb(252,141,89)\", \"rgb(254,224,139)\", \"rgb(230,245,152)\", \"rgb(153,213,148)\", \"rgb(50,136,189)\"]}, \"x\": [6], \"y\": [1], \"type\": \"bar\", \"uid\": \"4468f9b2-77da-45e1-8767-c4fcf2cc32dc\"}], {\"bargap\": 0.2, \"xaxis\": {\"ticktext\": [\"1. Nada\", \"2. Menos de una hora\", \"3. 1-2 horas\", \"4. 2-4 horas\", \"5. 4-6 horas\", \"6. M\\u00e1s de 6 horas\"], \"tickvals\": [1, 2, 3, 4, 5, 6]}}, {\"showLink\": false, \"linkText\": \"Export to plot.ly\", \"plotlyServerURL\": \"https://plot.ly\"}); \n",
       "}\n",
       "});</script><script type=\"text/javascript\">window.addEventListener(\"resize\", function(){if (document.getElementById(\"c3ab596d-423e-4dc0-bc30-8979f1ce893f\")) {window._Plotly.Plots.resize(document.getElementById(\"c3ab596d-423e-4dc0-bc30-8979f1ce893f\"));};})</script>"
      ]
     },
     "metadata": {},
     "output_type": "display_data"
    },
    {
     "name": "stdout",
     "output_type": "stream",
     "text": [
      "\n",
      "\n",
      "Cluster 5 || variable: ¿Qué tipo de aplicaciones utilizas en tu ordenador/tableta/móvil? (Respuesta múltiple) [1. Apps de contenidos audiovisuales (Netflix, HBO, etc.)]\n",
      "Describiendo la pregunta ¿Qué tipo de aplicaciones utilizas en tu ordenador/tableta/móvil? (Respuesta múltiple) [1. Apps de contenidos audiovisuales (Netflix, HBO, etc.)]\n",
      "Valores numéricos asociados a las respuestas [0, 1]\n",
      "Respuestas posibles a la pregunta/variable ['No', 'Sí']\n"
     ]
    },
    {
     "data": {
      "text/plain": [
       "count    1.0\n",
       "mean     1.0\n",
       "std      NaN\n",
       "min      1.0\n",
       "25%      1.0\n",
       "50%      1.0\n",
       "75%      1.0\n",
       "max      1.0\n",
       "Name: ¿Qué tipo de aplicaciones utilizas en tu ordenador/tableta/móvil? (Respuesta múltiple) [1. Apps de contenidos audiovisuales (Netflix, HBO, etc.)], dtype: float64"
      ]
     },
     "metadata": {},
     "output_type": "display_data"
    },
    {
     "name": "stdout",
     "output_type": "stream",
     "text": [
      "Conteo de cada valor en ¿Qué tipo de aplicaciones utilizas en tu ordenador/tableta/móvil? (Respuesta múltiple) [1. Apps de contenidos audiovisuales (Netflix, HBO, etc.)] expresada como valor / cantidad\n"
     ]
    },
    {
     "data": {
      "text/plain": [
       "1    1\n",
       "Name: ¿Qué tipo de aplicaciones utilizas en tu ordenador/tableta/móvil? (Respuesta múltiple) [1. Apps de contenidos audiovisuales (Netflix, HBO, etc.)], dtype: int64"
      ]
     },
     "metadata": {},
     "output_type": "display_data"
    },
    {
     "name": "stdout",
     "output_type": "stream",
     "text": [
      "Porcentaje de cada valor en ¿Qué tipo de aplicaciones utilizas en tu ordenador/tableta/móvil? (Respuesta múltiple) [1. Apps de contenidos audiovisuales (Netflix, HBO, etc.)] expresado como valor / porcentaje\n"
     ]
    },
    {
     "data": {
      "text/plain": [
       "1    100.0\n",
       "Name: ¿Qué tipo de aplicaciones utilizas en tu ordenador/tableta/móvil? (Respuesta múltiple) [1. Apps de contenidos audiovisuales (Netflix, HBO, etc.)], dtype: float64"
      ]
     },
     "metadata": {},
     "output_type": "display_data"
    },
    {
     "data": {
      "application/vnd.plotly.v1+json": {
       "config": {
        "linkText": "Export to plot.ly",
        "plotlyServerURL": "https://plot.ly",
        "showLink": false
       },
       "data": [
        {
         "marker": {
          "color": [
           "rgb(213,62,79)",
           "rgb(252,141,89)",
           "rgb(254,224,139)",
           "rgb(230,245,152)",
           "rgb(153,213,148)",
           "rgb(50,136,189)"
          ]
         },
         "type": "bar",
         "uid": "a2ad7207-5e49-401c-a4f1-be7f69916a9b",
         "x": [
          1
         ],
         "y": [
          1
         ]
        }
       ],
       "layout": {
        "bargap": 0.2,
        "xaxis": {
         "ticktext": [
          "No",
          "Sí"
         ],
         "tickvals": [
          0,
          1
         ]
        }
       }
      },
      "text/html": [
       "<div id=\"244605be-59ba-4c44-bdbf-307617809960\" style=\"height: 525px; width: 100%;\" class=\"plotly-graph-div\"></div><script type=\"text/javascript\">require([\"plotly\"], function(Plotly) { window.PLOTLYENV=window.PLOTLYENV || {};window.PLOTLYENV.BASE_URL=\"https://plot.ly\";\n",
       "if (document.getElementById(\"244605be-59ba-4c44-bdbf-307617809960\")) {\n",
       "    Plotly.newPlot(\"244605be-59ba-4c44-bdbf-307617809960\", [{\"marker\": {\"color\": [\"rgb(213,62,79)\", \"rgb(252,141,89)\", \"rgb(254,224,139)\", \"rgb(230,245,152)\", \"rgb(153,213,148)\", \"rgb(50,136,189)\"]}, \"x\": [1], \"y\": [1], \"type\": \"bar\", \"uid\": \"a2ad7207-5e49-401c-a4f1-be7f69916a9b\"}], {\"bargap\": 0.2, \"xaxis\": {\"ticktext\": [\"No\", \"S\\u00ed\"], \"tickvals\": [0, 1]}}, {\"showLink\": false, \"linkText\": \"Export to plot.ly\", \"plotlyServerURL\": \"https://plot.ly\"}); \n",
       "}\n",
       "});</script><script type=\"text/javascript\">window.addEventListener(\"resize\", function(){if (document.getElementById(\"244605be-59ba-4c44-bdbf-307617809960\")) {window._Plotly.Plots.resize(document.getElementById(\"244605be-59ba-4c44-bdbf-307617809960\"));};})</script>"
      ],
      "text/vnd.plotly.v1+html": [
       "<div id=\"244605be-59ba-4c44-bdbf-307617809960\" style=\"height: 525px; width: 100%;\" class=\"plotly-graph-div\"></div><script type=\"text/javascript\">require([\"plotly\"], function(Plotly) { window.PLOTLYENV=window.PLOTLYENV || {};window.PLOTLYENV.BASE_URL=\"https://plot.ly\";\n",
       "if (document.getElementById(\"244605be-59ba-4c44-bdbf-307617809960\")) {\n",
       "    Plotly.newPlot(\"244605be-59ba-4c44-bdbf-307617809960\", [{\"marker\": {\"color\": [\"rgb(213,62,79)\", \"rgb(252,141,89)\", \"rgb(254,224,139)\", \"rgb(230,245,152)\", \"rgb(153,213,148)\", \"rgb(50,136,189)\"]}, \"x\": [1], \"y\": [1], \"type\": \"bar\", \"uid\": \"a2ad7207-5e49-401c-a4f1-be7f69916a9b\"}], {\"bargap\": 0.2, \"xaxis\": {\"ticktext\": [\"No\", \"S\\u00ed\"], \"tickvals\": [0, 1]}}, {\"showLink\": false, \"linkText\": \"Export to plot.ly\", \"plotlyServerURL\": \"https://plot.ly\"}); \n",
       "}\n",
       "});</script><script type=\"text/javascript\">window.addEventListener(\"resize\", function(){if (document.getElementById(\"244605be-59ba-4c44-bdbf-307617809960\")) {window._Plotly.Plots.resize(document.getElementById(\"244605be-59ba-4c44-bdbf-307617809960\"));};})</script>"
      ]
     },
     "metadata": {},
     "output_type": "display_data"
    },
    {
     "name": "stdout",
     "output_type": "stream",
     "text": [
      "\n",
      "\n",
      "Cluster 5 || variable: ¿Qué tipo de aplicaciones utilizas en tu ordenador/tableta/móvil? (Respuesta múltiple) [2. Aplicaciones de mensajería (Whatsapp, Facebook Messenger, etc.)]\n",
      "Describiendo la pregunta ¿Qué tipo de aplicaciones utilizas en tu ordenador/tableta/móvil? (Respuesta múltiple) [2. Aplicaciones de mensajería (Whatsapp, Facebook Messenger, etc.)]\n",
      "Valores numéricos asociados a las respuestas [0, 1]\n",
      "Respuestas posibles a la pregunta/variable ['No', 'Sí']\n"
     ]
    },
    {
     "data": {
      "text/plain": [
       "count    1.0\n",
       "mean     1.0\n",
       "std      NaN\n",
       "min      1.0\n",
       "25%      1.0\n",
       "50%      1.0\n",
       "75%      1.0\n",
       "max      1.0\n",
       "Name: ¿Qué tipo de aplicaciones utilizas en tu ordenador/tableta/móvil? (Respuesta múltiple) [2. Aplicaciones de mensajería (Whatsapp, Facebook Messenger, etc.)], dtype: float64"
      ]
     },
     "metadata": {},
     "output_type": "display_data"
    },
    {
     "name": "stdout",
     "output_type": "stream",
     "text": [
      "Conteo de cada valor en ¿Qué tipo de aplicaciones utilizas en tu ordenador/tableta/móvil? (Respuesta múltiple) [2. Aplicaciones de mensajería (Whatsapp, Facebook Messenger, etc.)] expresada como valor / cantidad\n"
     ]
    },
    {
     "data": {
      "text/plain": [
       "1    1\n",
       "Name: ¿Qué tipo de aplicaciones utilizas en tu ordenador/tableta/móvil? (Respuesta múltiple) [2. Aplicaciones de mensajería (Whatsapp, Facebook Messenger, etc.)], dtype: int64"
      ]
     },
     "metadata": {},
     "output_type": "display_data"
    },
    {
     "name": "stdout",
     "output_type": "stream",
     "text": [
      "Porcentaje de cada valor en ¿Qué tipo de aplicaciones utilizas en tu ordenador/tableta/móvil? (Respuesta múltiple) [2. Aplicaciones de mensajería (Whatsapp, Facebook Messenger, etc.)] expresado como valor / porcentaje\n"
     ]
    },
    {
     "data": {
      "text/plain": [
       "1    100.0\n",
       "Name: ¿Qué tipo de aplicaciones utilizas en tu ordenador/tableta/móvil? (Respuesta múltiple) [2. Aplicaciones de mensajería (Whatsapp, Facebook Messenger, etc.)], dtype: float64"
      ]
     },
     "metadata": {},
     "output_type": "display_data"
    },
    {
     "data": {
      "application/vnd.plotly.v1+json": {
       "config": {
        "linkText": "Export to plot.ly",
        "plotlyServerURL": "https://plot.ly",
        "showLink": false
       },
       "data": [
        {
         "marker": {
          "color": [
           "rgb(213,62,79)",
           "rgb(252,141,89)",
           "rgb(254,224,139)",
           "rgb(230,245,152)",
           "rgb(153,213,148)",
           "rgb(50,136,189)"
          ]
         },
         "type": "bar",
         "uid": "251d1bbc-6ee4-4bc4-b6ce-06d9bd2a7702",
         "x": [
          1
         ],
         "y": [
          1
         ]
        }
       ],
       "layout": {
        "bargap": 0.2,
        "xaxis": {
         "ticktext": [
          "No",
          "Sí"
         ],
         "tickvals": [
          0,
          1
         ]
        }
       }
      },
      "text/html": [
       "<div id=\"55d85799-4eea-49bf-8852-853d71808c4d\" style=\"height: 525px; width: 100%;\" class=\"plotly-graph-div\"></div><script type=\"text/javascript\">require([\"plotly\"], function(Plotly) { window.PLOTLYENV=window.PLOTLYENV || {};window.PLOTLYENV.BASE_URL=\"https://plot.ly\";\n",
       "if (document.getElementById(\"55d85799-4eea-49bf-8852-853d71808c4d\")) {\n",
       "    Plotly.newPlot(\"55d85799-4eea-49bf-8852-853d71808c4d\", [{\"marker\": {\"color\": [\"rgb(213,62,79)\", \"rgb(252,141,89)\", \"rgb(254,224,139)\", \"rgb(230,245,152)\", \"rgb(153,213,148)\", \"rgb(50,136,189)\"]}, \"x\": [1], \"y\": [1], \"type\": \"bar\", \"uid\": \"251d1bbc-6ee4-4bc4-b6ce-06d9bd2a7702\"}], {\"bargap\": 0.2, \"xaxis\": {\"ticktext\": [\"No\", \"S\\u00ed\"], \"tickvals\": [0, 1]}}, {\"showLink\": false, \"linkText\": \"Export to plot.ly\", \"plotlyServerURL\": \"https://plot.ly\"}); \n",
       "}\n",
       "});</script><script type=\"text/javascript\">window.addEventListener(\"resize\", function(){if (document.getElementById(\"55d85799-4eea-49bf-8852-853d71808c4d\")) {window._Plotly.Plots.resize(document.getElementById(\"55d85799-4eea-49bf-8852-853d71808c4d\"));};})</script>"
      ],
      "text/vnd.plotly.v1+html": [
       "<div id=\"55d85799-4eea-49bf-8852-853d71808c4d\" style=\"height: 525px; width: 100%;\" class=\"plotly-graph-div\"></div><script type=\"text/javascript\">require([\"plotly\"], function(Plotly) { window.PLOTLYENV=window.PLOTLYENV || {};window.PLOTLYENV.BASE_URL=\"https://plot.ly\";\n",
       "if (document.getElementById(\"55d85799-4eea-49bf-8852-853d71808c4d\")) {\n",
       "    Plotly.newPlot(\"55d85799-4eea-49bf-8852-853d71808c4d\", [{\"marker\": {\"color\": [\"rgb(213,62,79)\", \"rgb(252,141,89)\", \"rgb(254,224,139)\", \"rgb(230,245,152)\", \"rgb(153,213,148)\", \"rgb(50,136,189)\"]}, \"x\": [1], \"y\": [1], \"type\": \"bar\", \"uid\": \"251d1bbc-6ee4-4bc4-b6ce-06d9bd2a7702\"}], {\"bargap\": 0.2, \"xaxis\": {\"ticktext\": [\"No\", \"S\\u00ed\"], \"tickvals\": [0, 1]}}, {\"showLink\": false, \"linkText\": \"Export to plot.ly\", \"plotlyServerURL\": \"https://plot.ly\"}); \n",
       "}\n",
       "});</script><script type=\"text/javascript\">window.addEventListener(\"resize\", function(){if (document.getElementById(\"55d85799-4eea-49bf-8852-853d71808c4d\")) {window._Plotly.Plots.resize(document.getElementById(\"55d85799-4eea-49bf-8852-853d71808c4d\"));};})</script>"
      ]
     },
     "metadata": {},
     "output_type": "display_data"
    },
    {
     "name": "stdout",
     "output_type": "stream",
     "text": [
      "\n",
      "\n",
      "Cluster 5 || variable: ¿Qué tipo de aplicaciones utilizas en tu ordenador/tableta/móvil? (Respuesta múltiple) [3. Bibliotecas de fotos online (Google Photos, iPhoto, etc.)]\n",
      "Describiendo la pregunta ¿Qué tipo de aplicaciones utilizas en tu ordenador/tableta/móvil? (Respuesta múltiple) [3. Bibliotecas de fotos online (Google Photos, iPhoto, etc.)]\n",
      "Valores numéricos asociados a las respuestas [0, 1]\n",
      "Respuestas posibles a la pregunta/variable ['No', 'Sí']\n"
     ]
    },
    {
     "data": {
      "text/plain": [
       "count    1.0\n",
       "mean     0.0\n",
       "std      NaN\n",
       "min      0.0\n",
       "25%      0.0\n",
       "50%      0.0\n",
       "75%      0.0\n",
       "max      0.0\n",
       "Name: ¿Qué tipo de aplicaciones utilizas en tu ordenador/tableta/móvil? (Respuesta múltiple) [3. Bibliotecas de fotos online (Google Photos, iPhoto, etc.)], dtype: float64"
      ]
     },
     "metadata": {},
     "output_type": "display_data"
    },
    {
     "name": "stdout",
     "output_type": "stream",
     "text": [
      "Conteo de cada valor en ¿Qué tipo de aplicaciones utilizas en tu ordenador/tableta/móvil? (Respuesta múltiple) [3. Bibliotecas de fotos online (Google Photos, iPhoto, etc.)] expresada como valor / cantidad\n"
     ]
    },
    {
     "data": {
      "text/plain": [
       "0    1\n",
       "Name: ¿Qué tipo de aplicaciones utilizas en tu ordenador/tableta/móvil? (Respuesta múltiple) [3. Bibliotecas de fotos online (Google Photos, iPhoto, etc.)], dtype: int64"
      ]
     },
     "metadata": {},
     "output_type": "display_data"
    },
    {
     "name": "stdout",
     "output_type": "stream",
     "text": [
      "Porcentaje de cada valor en ¿Qué tipo de aplicaciones utilizas en tu ordenador/tableta/móvil? (Respuesta múltiple) [3. Bibliotecas de fotos online (Google Photos, iPhoto, etc.)] expresado como valor / porcentaje\n"
     ]
    },
    {
     "data": {
      "text/plain": [
       "0    100.0\n",
       "Name: ¿Qué tipo de aplicaciones utilizas en tu ordenador/tableta/móvil? (Respuesta múltiple) [3. Bibliotecas de fotos online (Google Photos, iPhoto, etc.)], dtype: float64"
      ]
     },
     "metadata": {},
     "output_type": "display_data"
    },
    {
     "data": {
      "application/vnd.plotly.v1+json": {
       "config": {
        "linkText": "Export to plot.ly",
        "plotlyServerURL": "https://plot.ly",
        "showLink": false
       },
       "data": [
        {
         "marker": {
          "color": [
           "rgb(213,62,79)",
           "rgb(252,141,89)",
           "rgb(254,224,139)",
           "rgb(230,245,152)",
           "rgb(153,213,148)",
           "rgb(50,136,189)"
          ]
         },
         "type": "bar",
         "uid": "5367136c-1a2a-480b-b23c-03f0f6fe8760",
         "x": [
          0
         ],
         "y": [
          1
         ]
        }
       ],
       "layout": {
        "bargap": 0.2,
        "xaxis": {
         "ticktext": [
          "No",
          "Sí"
         ],
         "tickvals": [
          0,
          1
         ]
        }
       }
      },
      "text/html": [
       "<div id=\"a91b3df8-faca-46b9-91cc-a5ab4a26ab1d\" style=\"height: 525px; width: 100%;\" class=\"plotly-graph-div\"></div><script type=\"text/javascript\">require([\"plotly\"], function(Plotly) { window.PLOTLYENV=window.PLOTLYENV || {};window.PLOTLYENV.BASE_URL=\"https://plot.ly\";\n",
       "if (document.getElementById(\"a91b3df8-faca-46b9-91cc-a5ab4a26ab1d\")) {\n",
       "    Plotly.newPlot(\"a91b3df8-faca-46b9-91cc-a5ab4a26ab1d\", [{\"marker\": {\"color\": [\"rgb(213,62,79)\", \"rgb(252,141,89)\", \"rgb(254,224,139)\", \"rgb(230,245,152)\", \"rgb(153,213,148)\", \"rgb(50,136,189)\"]}, \"x\": [0], \"y\": [1], \"type\": \"bar\", \"uid\": \"5367136c-1a2a-480b-b23c-03f0f6fe8760\"}], {\"bargap\": 0.2, \"xaxis\": {\"ticktext\": [\"No\", \"S\\u00ed\"], \"tickvals\": [0, 1]}}, {\"showLink\": false, \"linkText\": \"Export to plot.ly\", \"plotlyServerURL\": \"https://plot.ly\"}); \n",
       "}\n",
       "});</script><script type=\"text/javascript\">window.addEventListener(\"resize\", function(){if (document.getElementById(\"a91b3df8-faca-46b9-91cc-a5ab4a26ab1d\")) {window._Plotly.Plots.resize(document.getElementById(\"a91b3df8-faca-46b9-91cc-a5ab4a26ab1d\"));};})</script>"
      ],
      "text/vnd.plotly.v1+html": [
       "<div id=\"a91b3df8-faca-46b9-91cc-a5ab4a26ab1d\" style=\"height: 525px; width: 100%;\" class=\"plotly-graph-div\"></div><script type=\"text/javascript\">require([\"plotly\"], function(Plotly) { window.PLOTLYENV=window.PLOTLYENV || {};window.PLOTLYENV.BASE_URL=\"https://plot.ly\";\n",
       "if (document.getElementById(\"a91b3df8-faca-46b9-91cc-a5ab4a26ab1d\")) {\n",
       "    Plotly.newPlot(\"a91b3df8-faca-46b9-91cc-a5ab4a26ab1d\", [{\"marker\": {\"color\": [\"rgb(213,62,79)\", \"rgb(252,141,89)\", \"rgb(254,224,139)\", \"rgb(230,245,152)\", \"rgb(153,213,148)\", \"rgb(50,136,189)\"]}, \"x\": [0], \"y\": [1], \"type\": \"bar\", \"uid\": \"5367136c-1a2a-480b-b23c-03f0f6fe8760\"}], {\"bargap\": 0.2, \"xaxis\": {\"ticktext\": [\"No\", \"S\\u00ed\"], \"tickvals\": [0, 1]}}, {\"showLink\": false, \"linkText\": \"Export to plot.ly\", \"plotlyServerURL\": \"https://plot.ly\"}); \n",
       "}\n",
       "});</script><script type=\"text/javascript\">window.addEventListener(\"resize\", function(){if (document.getElementById(\"a91b3df8-faca-46b9-91cc-a5ab4a26ab1d\")) {window._Plotly.Plots.resize(document.getElementById(\"a91b3df8-faca-46b9-91cc-a5ab4a26ab1d\"));};})</script>"
      ]
     },
     "metadata": {},
     "output_type": "display_data"
    },
    {
     "name": "stdout",
     "output_type": "stream",
     "text": [
      "\n",
      "\n",
      "Cluster 5 || variable: ¿Qué tipo de aplicaciones utilizas en tu ordenador/tableta/móvil? (Respuesta múltiple) [4. Redes sociales (Facebook, Instagram, Twitter, etc.).]\n",
      "Describiendo la pregunta ¿Qué tipo de aplicaciones utilizas en tu ordenador/tableta/móvil? (Respuesta múltiple) [4. Redes sociales (Facebook, Instagram, Twitter, etc.).]\n",
      "Valores numéricos asociados a las respuestas [0, 1]\n",
      "Respuestas posibles a la pregunta/variable ['No', 'Sí']\n"
     ]
    },
    {
     "data": {
      "text/plain": [
       "count    1.0\n",
       "mean     1.0\n",
       "std      NaN\n",
       "min      1.0\n",
       "25%      1.0\n",
       "50%      1.0\n",
       "75%      1.0\n",
       "max      1.0\n",
       "Name: ¿Qué tipo de aplicaciones utilizas en tu ordenador/tableta/móvil? (Respuesta múltiple) [4. Redes sociales (Facebook, Instagram, Twitter, etc.).], dtype: float64"
      ]
     },
     "metadata": {},
     "output_type": "display_data"
    },
    {
     "name": "stdout",
     "output_type": "stream",
     "text": [
      "Conteo de cada valor en ¿Qué tipo de aplicaciones utilizas en tu ordenador/tableta/móvil? (Respuesta múltiple) [4. Redes sociales (Facebook, Instagram, Twitter, etc.).] expresada como valor / cantidad\n"
     ]
    },
    {
     "data": {
      "text/plain": [
       "1    1\n",
       "Name: ¿Qué tipo de aplicaciones utilizas en tu ordenador/tableta/móvil? (Respuesta múltiple) [4. Redes sociales (Facebook, Instagram, Twitter, etc.).], dtype: int64"
      ]
     },
     "metadata": {},
     "output_type": "display_data"
    },
    {
     "name": "stdout",
     "output_type": "stream",
     "text": [
      "Porcentaje de cada valor en ¿Qué tipo de aplicaciones utilizas en tu ordenador/tableta/móvil? (Respuesta múltiple) [4. Redes sociales (Facebook, Instagram, Twitter, etc.).] expresado como valor / porcentaje\n"
     ]
    },
    {
     "data": {
      "text/plain": [
       "1    100.0\n",
       "Name: ¿Qué tipo de aplicaciones utilizas en tu ordenador/tableta/móvil? (Respuesta múltiple) [4. Redes sociales (Facebook, Instagram, Twitter, etc.).], dtype: float64"
      ]
     },
     "metadata": {},
     "output_type": "display_data"
    },
    {
     "data": {
      "application/vnd.plotly.v1+json": {
       "config": {
        "linkText": "Export to plot.ly",
        "plotlyServerURL": "https://plot.ly",
        "showLink": false
       },
       "data": [
        {
         "marker": {
          "color": [
           "rgb(213,62,79)",
           "rgb(252,141,89)",
           "rgb(254,224,139)",
           "rgb(230,245,152)",
           "rgb(153,213,148)",
           "rgb(50,136,189)"
          ]
         },
         "type": "bar",
         "uid": "f3ea1458-2add-4339-9597-2829a9c318f8",
         "x": [
          1
         ],
         "y": [
          1
         ]
        }
       ],
       "layout": {
        "bargap": 0.2,
        "xaxis": {
         "ticktext": [
          "No",
          "Sí"
         ],
         "tickvals": [
          0,
          1
         ]
        }
       }
      },
      "text/html": [
       "<div id=\"13208114-c831-4689-9abe-05afea97217d\" style=\"height: 525px; width: 100%;\" class=\"plotly-graph-div\"></div><script type=\"text/javascript\">require([\"plotly\"], function(Plotly) { window.PLOTLYENV=window.PLOTLYENV || {};window.PLOTLYENV.BASE_URL=\"https://plot.ly\";\n",
       "if (document.getElementById(\"13208114-c831-4689-9abe-05afea97217d\")) {\n",
       "    Plotly.newPlot(\"13208114-c831-4689-9abe-05afea97217d\", [{\"marker\": {\"color\": [\"rgb(213,62,79)\", \"rgb(252,141,89)\", \"rgb(254,224,139)\", \"rgb(230,245,152)\", \"rgb(153,213,148)\", \"rgb(50,136,189)\"]}, \"x\": [1], \"y\": [1], \"type\": \"bar\", \"uid\": \"f3ea1458-2add-4339-9597-2829a9c318f8\"}], {\"bargap\": 0.2, \"xaxis\": {\"ticktext\": [\"No\", \"S\\u00ed\"], \"tickvals\": [0, 1]}}, {\"showLink\": false, \"linkText\": \"Export to plot.ly\", \"plotlyServerURL\": \"https://plot.ly\"}); \n",
       "}\n",
       "});</script><script type=\"text/javascript\">window.addEventListener(\"resize\", function(){if (document.getElementById(\"13208114-c831-4689-9abe-05afea97217d\")) {window._Plotly.Plots.resize(document.getElementById(\"13208114-c831-4689-9abe-05afea97217d\"));};})</script>"
      ],
      "text/vnd.plotly.v1+html": [
       "<div id=\"13208114-c831-4689-9abe-05afea97217d\" style=\"height: 525px; width: 100%;\" class=\"plotly-graph-div\"></div><script type=\"text/javascript\">require([\"plotly\"], function(Plotly) { window.PLOTLYENV=window.PLOTLYENV || {};window.PLOTLYENV.BASE_URL=\"https://plot.ly\";\n",
       "if (document.getElementById(\"13208114-c831-4689-9abe-05afea97217d\")) {\n",
       "    Plotly.newPlot(\"13208114-c831-4689-9abe-05afea97217d\", [{\"marker\": {\"color\": [\"rgb(213,62,79)\", \"rgb(252,141,89)\", \"rgb(254,224,139)\", \"rgb(230,245,152)\", \"rgb(153,213,148)\", \"rgb(50,136,189)\"]}, \"x\": [1], \"y\": [1], \"type\": \"bar\", \"uid\": \"f3ea1458-2add-4339-9597-2829a9c318f8\"}], {\"bargap\": 0.2, \"xaxis\": {\"ticktext\": [\"No\", \"S\\u00ed\"], \"tickvals\": [0, 1]}}, {\"showLink\": false, \"linkText\": \"Export to plot.ly\", \"plotlyServerURL\": \"https://plot.ly\"}); \n",
       "}\n",
       "});</script><script type=\"text/javascript\">window.addEventListener(\"resize\", function(){if (document.getElementById(\"13208114-c831-4689-9abe-05afea97217d\")) {window._Plotly.Plots.resize(document.getElementById(\"13208114-c831-4689-9abe-05afea97217d\"));};})</script>"
      ]
     },
     "metadata": {},
     "output_type": "display_data"
    },
    {
     "name": "stdout",
     "output_type": "stream",
     "text": [
      "\n",
      "\n",
      "Cluster 5 || variable: ¿Qué tipo de aplicaciones utilizas en tu ordenador/tableta/móvil? (Respuesta múltiple) [5. Aplicaciones de vídeo (Youtube, Vimeo, etc.).]\n",
      "Describiendo la pregunta ¿Qué tipo de aplicaciones utilizas en tu ordenador/tableta/móvil? (Respuesta múltiple) [5. Aplicaciones de vídeo (Youtube, Vimeo, etc.).]\n",
      "Valores numéricos asociados a las respuestas [0, 1]\n",
      "Respuestas posibles a la pregunta/variable ['No', 'Sí']\n"
     ]
    },
    {
     "data": {
      "text/plain": [
       "count    1.0\n",
       "mean     1.0\n",
       "std      NaN\n",
       "min      1.0\n",
       "25%      1.0\n",
       "50%      1.0\n",
       "75%      1.0\n",
       "max      1.0\n",
       "Name: ¿Qué tipo de aplicaciones utilizas en tu ordenador/tableta/móvil? (Respuesta múltiple) [5. Aplicaciones de vídeo (Youtube, Vimeo, etc.).], dtype: float64"
      ]
     },
     "metadata": {},
     "output_type": "display_data"
    },
    {
     "name": "stdout",
     "output_type": "stream",
     "text": [
      "Conteo de cada valor en ¿Qué tipo de aplicaciones utilizas en tu ordenador/tableta/móvil? (Respuesta múltiple) [5. Aplicaciones de vídeo (Youtube, Vimeo, etc.).] expresada como valor / cantidad\n"
     ]
    },
    {
     "data": {
      "text/plain": [
       "1    1\n",
       "Name: ¿Qué tipo de aplicaciones utilizas en tu ordenador/tableta/móvil? (Respuesta múltiple) [5. Aplicaciones de vídeo (Youtube, Vimeo, etc.).], dtype: int64"
      ]
     },
     "metadata": {},
     "output_type": "display_data"
    },
    {
     "name": "stdout",
     "output_type": "stream",
     "text": [
      "Porcentaje de cada valor en ¿Qué tipo de aplicaciones utilizas en tu ordenador/tableta/móvil? (Respuesta múltiple) [5. Aplicaciones de vídeo (Youtube, Vimeo, etc.).] expresado como valor / porcentaje\n"
     ]
    },
    {
     "data": {
      "text/plain": [
       "1    100.0\n",
       "Name: ¿Qué tipo de aplicaciones utilizas en tu ordenador/tableta/móvil? (Respuesta múltiple) [5. Aplicaciones de vídeo (Youtube, Vimeo, etc.).], dtype: float64"
      ]
     },
     "metadata": {},
     "output_type": "display_data"
    },
    {
     "data": {
      "application/vnd.plotly.v1+json": {
       "config": {
        "linkText": "Export to plot.ly",
        "plotlyServerURL": "https://plot.ly",
        "showLink": false
       },
       "data": [
        {
         "marker": {
          "color": [
           "rgb(213,62,79)",
           "rgb(252,141,89)",
           "rgb(254,224,139)",
           "rgb(230,245,152)",
           "rgb(153,213,148)",
           "rgb(50,136,189)"
          ]
         },
         "type": "bar",
         "uid": "a3018742-653f-46aa-a748-32102b16d159",
         "x": [
          1
         ],
         "y": [
          1
         ]
        }
       ],
       "layout": {
        "bargap": 0.2,
        "xaxis": {
         "ticktext": [
          "No",
          "Sí"
         ],
         "tickvals": [
          0,
          1
         ]
        }
       }
      },
      "text/html": [
       "<div id=\"e1a5a08c-b07e-431d-9c46-d0c1cfaa83cf\" style=\"height: 525px; width: 100%;\" class=\"plotly-graph-div\"></div><script type=\"text/javascript\">require([\"plotly\"], function(Plotly) { window.PLOTLYENV=window.PLOTLYENV || {};window.PLOTLYENV.BASE_URL=\"https://plot.ly\";\n",
       "if (document.getElementById(\"e1a5a08c-b07e-431d-9c46-d0c1cfaa83cf\")) {\n",
       "    Plotly.newPlot(\"e1a5a08c-b07e-431d-9c46-d0c1cfaa83cf\", [{\"marker\": {\"color\": [\"rgb(213,62,79)\", \"rgb(252,141,89)\", \"rgb(254,224,139)\", \"rgb(230,245,152)\", \"rgb(153,213,148)\", \"rgb(50,136,189)\"]}, \"x\": [1], \"y\": [1], \"type\": \"bar\", \"uid\": \"a3018742-653f-46aa-a748-32102b16d159\"}], {\"bargap\": 0.2, \"xaxis\": {\"ticktext\": [\"No\", \"S\\u00ed\"], \"tickvals\": [0, 1]}}, {\"showLink\": false, \"linkText\": \"Export to plot.ly\", \"plotlyServerURL\": \"https://plot.ly\"}); \n",
       "}\n",
       "});</script><script type=\"text/javascript\">window.addEventListener(\"resize\", function(){if (document.getElementById(\"e1a5a08c-b07e-431d-9c46-d0c1cfaa83cf\")) {window._Plotly.Plots.resize(document.getElementById(\"e1a5a08c-b07e-431d-9c46-d0c1cfaa83cf\"));};})</script>"
      ],
      "text/vnd.plotly.v1+html": [
       "<div id=\"e1a5a08c-b07e-431d-9c46-d0c1cfaa83cf\" style=\"height: 525px; width: 100%;\" class=\"plotly-graph-div\"></div><script type=\"text/javascript\">require([\"plotly\"], function(Plotly) { window.PLOTLYENV=window.PLOTLYENV || {};window.PLOTLYENV.BASE_URL=\"https://plot.ly\";\n",
       "if (document.getElementById(\"e1a5a08c-b07e-431d-9c46-d0c1cfaa83cf\")) {\n",
       "    Plotly.newPlot(\"e1a5a08c-b07e-431d-9c46-d0c1cfaa83cf\", [{\"marker\": {\"color\": [\"rgb(213,62,79)\", \"rgb(252,141,89)\", \"rgb(254,224,139)\", \"rgb(230,245,152)\", \"rgb(153,213,148)\", \"rgb(50,136,189)\"]}, \"x\": [1], \"y\": [1], \"type\": \"bar\", \"uid\": \"a3018742-653f-46aa-a748-32102b16d159\"}], {\"bargap\": 0.2, \"xaxis\": {\"ticktext\": [\"No\", \"S\\u00ed\"], \"tickvals\": [0, 1]}}, {\"showLink\": false, \"linkText\": \"Export to plot.ly\", \"plotlyServerURL\": \"https://plot.ly\"}); \n",
       "}\n",
       "});</script><script type=\"text/javascript\">window.addEventListener(\"resize\", function(){if (document.getElementById(\"e1a5a08c-b07e-431d-9c46-d0c1cfaa83cf\")) {window._Plotly.Plots.resize(document.getElementById(\"e1a5a08c-b07e-431d-9c46-d0c1cfaa83cf\"));};})</script>"
      ]
     },
     "metadata": {},
     "output_type": "display_data"
    },
    {
     "name": "stdout",
     "output_type": "stream",
     "text": [
      "\n",
      "\n",
      "Cluster 5 || variable: ¿Qué tipo de aplicaciones utilizas en tu ordenador/tableta/móvil? (Respuesta múltiple) [Otro]\n",
      "Describiendo la pregunta ¿Qué tipo de aplicaciones utilizas en tu ordenador/tableta/móvil? (Respuesta múltiple) [Otro]\n",
      "\n",
      "\n",
      "Cluster 5 || variable: Durante ese uso, ¿cuántas imágenes consumes (ves y compartes)?\n",
      "Describiendo la pregunta Durante ese uso, ¿cuántas imágenes consumes (ves y compartes)?\n",
      "Valores numéricos asociados a las respuestas [1, 2, 3, 4, 5]\n",
      "Respuestas posibles a la pregunta/variable ['1. Ninguna', '2. Pocas', '3. Ni muchas ni pocas', '4. Bastantes', '5. Recibo y envio imágenes de forma constante']\n"
     ]
    },
    {
     "data": {
      "text/plain": [
       "count    1.0\n",
       "mean     4.0\n",
       "std      NaN\n",
       "min      4.0\n",
       "25%      4.0\n",
       "50%      4.0\n",
       "75%      4.0\n",
       "max      4.0\n",
       "Name: Durante ese uso, ¿cuántas imágenes consumes (ves y compartes)?, dtype: float64"
      ]
     },
     "metadata": {},
     "output_type": "display_data"
    },
    {
     "name": "stdout",
     "output_type": "stream",
     "text": [
      "Conteo de cada valor en Durante ese uso, ¿cuántas imágenes consumes (ves y compartes)? expresada como valor / cantidad\n"
     ]
    },
    {
     "data": {
      "text/plain": [
       "4    1\n",
       "Name: Durante ese uso, ¿cuántas imágenes consumes (ves y compartes)?, dtype: int64"
      ]
     },
     "metadata": {},
     "output_type": "display_data"
    },
    {
     "name": "stdout",
     "output_type": "stream",
     "text": [
      "Porcentaje de cada valor en Durante ese uso, ¿cuántas imágenes consumes (ves y compartes)? expresado como valor / porcentaje\n"
     ]
    },
    {
     "data": {
      "text/plain": [
       "4    100.0\n",
       "Name: Durante ese uso, ¿cuántas imágenes consumes (ves y compartes)?, dtype: float64"
      ]
     },
     "metadata": {},
     "output_type": "display_data"
    },
    {
     "data": {
      "application/vnd.plotly.v1+json": {
       "config": {
        "linkText": "Export to plot.ly",
        "plotlyServerURL": "https://plot.ly",
        "showLink": false
       },
       "data": [
        {
         "marker": {
          "color": [
           "rgb(213,62,79)",
           "rgb(252,141,89)",
           "rgb(254,224,139)",
           "rgb(230,245,152)",
           "rgb(153,213,148)",
           "rgb(50,136,189)"
          ]
         },
         "type": "bar",
         "uid": "cf112de5-2d78-4b5d-ac14-d9415e883e4f",
         "x": [
          4
         ],
         "y": [
          1
         ]
        }
       ],
       "layout": {
        "bargap": 0.2,
        "xaxis": {
         "ticktext": [
          "1. Ninguna",
          "2. Pocas",
          "3. Ni muchas ni pocas",
          "4. Bastantes",
          "5. Recibo y envio imágenes de forma constante"
         ],
         "tickvals": [
          1,
          2,
          3,
          4,
          5
         ]
        }
       }
      },
      "text/html": [
       "<div id=\"8b70f15a-d9ac-427f-a273-805151e8ca8d\" style=\"height: 525px; width: 100%;\" class=\"plotly-graph-div\"></div><script type=\"text/javascript\">require([\"plotly\"], function(Plotly) { window.PLOTLYENV=window.PLOTLYENV || {};window.PLOTLYENV.BASE_URL=\"https://plot.ly\";\n",
       "if (document.getElementById(\"8b70f15a-d9ac-427f-a273-805151e8ca8d\")) {\n",
       "    Plotly.newPlot(\"8b70f15a-d9ac-427f-a273-805151e8ca8d\", [{\"marker\": {\"color\": [\"rgb(213,62,79)\", \"rgb(252,141,89)\", \"rgb(254,224,139)\", \"rgb(230,245,152)\", \"rgb(153,213,148)\", \"rgb(50,136,189)\"]}, \"x\": [4], \"y\": [1], \"type\": \"bar\", \"uid\": \"cf112de5-2d78-4b5d-ac14-d9415e883e4f\"}], {\"bargap\": 0.2, \"xaxis\": {\"ticktext\": [\"1. Ninguna\", \"2. Pocas\", \"3. Ni muchas ni pocas\", \"4. Bastantes\", \"5. Recibo y envio im\\u00e1genes de forma constante\"], \"tickvals\": [1, 2, 3, 4, 5]}}, {\"showLink\": false, \"linkText\": \"Export to plot.ly\", \"plotlyServerURL\": \"https://plot.ly\"}); \n",
       "}\n",
       "});</script><script type=\"text/javascript\">window.addEventListener(\"resize\", function(){if (document.getElementById(\"8b70f15a-d9ac-427f-a273-805151e8ca8d\")) {window._Plotly.Plots.resize(document.getElementById(\"8b70f15a-d9ac-427f-a273-805151e8ca8d\"));};})</script>"
      ],
      "text/vnd.plotly.v1+html": [
       "<div id=\"8b70f15a-d9ac-427f-a273-805151e8ca8d\" style=\"height: 525px; width: 100%;\" class=\"plotly-graph-div\"></div><script type=\"text/javascript\">require([\"plotly\"], function(Plotly) { window.PLOTLYENV=window.PLOTLYENV || {};window.PLOTLYENV.BASE_URL=\"https://plot.ly\";\n",
       "if (document.getElementById(\"8b70f15a-d9ac-427f-a273-805151e8ca8d\")) {\n",
       "    Plotly.newPlot(\"8b70f15a-d9ac-427f-a273-805151e8ca8d\", [{\"marker\": {\"color\": [\"rgb(213,62,79)\", \"rgb(252,141,89)\", \"rgb(254,224,139)\", \"rgb(230,245,152)\", \"rgb(153,213,148)\", \"rgb(50,136,189)\"]}, \"x\": [4], \"y\": [1], \"type\": \"bar\", \"uid\": \"cf112de5-2d78-4b5d-ac14-d9415e883e4f\"}], {\"bargap\": 0.2, \"xaxis\": {\"ticktext\": [\"1. Ninguna\", \"2. Pocas\", \"3. Ni muchas ni pocas\", \"4. Bastantes\", \"5. Recibo y envio im\\u00e1genes de forma constante\"], \"tickvals\": [1, 2, 3, 4, 5]}}, {\"showLink\": false, \"linkText\": \"Export to plot.ly\", \"plotlyServerURL\": \"https://plot.ly\"}); \n",
       "}\n",
       "});</script><script type=\"text/javascript\">window.addEventListener(\"resize\", function(){if (document.getElementById(\"8b70f15a-d9ac-427f-a273-805151e8ca8d\")) {window._Plotly.Plots.resize(document.getElementById(\"8b70f15a-d9ac-427f-a273-805151e8ca8d\"));};})</script>"
      ]
     },
     "metadata": {},
     "output_type": "display_data"
    },
    {
     "name": "stdout",
     "output_type": "stream",
     "text": [
      "\n",
      "\n",
      "Cluster 5 || variable: ¿Cuál es tu herramienta habitual de consumo de imágenes?\n",
      "Describiendo la pregunta ¿Cuál es tu herramienta habitual de consumo de imágenes?\n",
      "Valores numéricos asociados a las respuestas [1, 2, 3, 4, 5]\n",
      "Respuestas posibles a la pregunta/variable ['1. Móvil', '2. Televisión', '3. Ordenador', '4. Tableta', '5. Otros (Libros y periódicos en papel, marquesinas, museos...)']\n"
     ]
    },
    {
     "data": {
      "text/plain": [
       "count    1.0\n",
       "mean     1.0\n",
       "std      NaN\n",
       "min      1.0\n",
       "25%      1.0\n",
       "50%      1.0\n",
       "75%      1.0\n",
       "max      1.0\n",
       "Name: ¿Cuál es tu herramienta habitual de consumo de imágenes?, dtype: float64"
      ]
     },
     "metadata": {},
     "output_type": "display_data"
    },
    {
     "name": "stdout",
     "output_type": "stream",
     "text": [
      "Conteo de cada valor en ¿Cuál es tu herramienta habitual de consumo de imágenes? expresada como valor / cantidad\n"
     ]
    },
    {
     "data": {
      "text/plain": [
       "1    1\n",
       "Name: ¿Cuál es tu herramienta habitual de consumo de imágenes?, dtype: int64"
      ]
     },
     "metadata": {},
     "output_type": "display_data"
    },
    {
     "name": "stdout",
     "output_type": "stream",
     "text": [
      "Porcentaje de cada valor en ¿Cuál es tu herramienta habitual de consumo de imágenes? expresado como valor / porcentaje\n"
     ]
    },
    {
     "data": {
      "text/plain": [
       "1    100.0\n",
       "Name: ¿Cuál es tu herramienta habitual de consumo de imágenes?, dtype: float64"
      ]
     },
     "metadata": {},
     "output_type": "display_data"
    },
    {
     "data": {
      "application/vnd.plotly.v1+json": {
       "config": {
        "linkText": "Export to plot.ly",
        "plotlyServerURL": "https://plot.ly",
        "showLink": false
       },
       "data": [
        {
         "marker": {
          "color": [
           "rgb(213,62,79)",
           "rgb(252,141,89)",
           "rgb(254,224,139)",
           "rgb(230,245,152)",
           "rgb(153,213,148)",
           "rgb(50,136,189)"
          ]
         },
         "type": "bar",
         "uid": "cc6d1ec8-0467-4a99-aa03-e53ba8b3a325",
         "x": [
          1
         ],
         "y": [
          1
         ]
        }
       ],
       "layout": {
        "bargap": 0.2,
        "xaxis": {
         "ticktext": [
          "1. Móvil",
          "2. Televisión",
          "3. Ordenador",
          "4. Tableta",
          "5. Otros (Libros y periódicos en papel, marquesinas, museos...)"
         ],
         "tickvals": [
          1,
          2,
          3,
          4,
          5
         ]
        }
       }
      },
      "text/html": [
       "<div id=\"94a10009-56ec-4411-81a4-50b9c935cd2f\" style=\"height: 525px; width: 100%;\" class=\"plotly-graph-div\"></div><script type=\"text/javascript\">require([\"plotly\"], function(Plotly) { window.PLOTLYENV=window.PLOTLYENV || {};window.PLOTLYENV.BASE_URL=\"https://plot.ly\";\n",
       "if (document.getElementById(\"94a10009-56ec-4411-81a4-50b9c935cd2f\")) {\n",
       "    Plotly.newPlot(\"94a10009-56ec-4411-81a4-50b9c935cd2f\", [{\"marker\": {\"color\": [\"rgb(213,62,79)\", \"rgb(252,141,89)\", \"rgb(254,224,139)\", \"rgb(230,245,152)\", \"rgb(153,213,148)\", \"rgb(50,136,189)\"]}, \"x\": [1], \"y\": [1], \"type\": \"bar\", \"uid\": \"cc6d1ec8-0467-4a99-aa03-e53ba8b3a325\"}], {\"bargap\": 0.2, \"xaxis\": {\"ticktext\": [\"1. M\\u00f3vil\", \"2. Televisi\\u00f3n\", \"3. Ordenador\", \"4. Tableta\", \"5. Otros (Libros y peri\\u00f3dicos en papel, marquesinas, museos...)\"], \"tickvals\": [1, 2, 3, 4, 5]}}, {\"showLink\": false, \"linkText\": \"Export to plot.ly\", \"plotlyServerURL\": \"https://plot.ly\"}); \n",
       "}\n",
       "});</script><script type=\"text/javascript\">window.addEventListener(\"resize\", function(){if (document.getElementById(\"94a10009-56ec-4411-81a4-50b9c935cd2f\")) {window._Plotly.Plots.resize(document.getElementById(\"94a10009-56ec-4411-81a4-50b9c935cd2f\"));};})</script>"
      ],
      "text/vnd.plotly.v1+html": [
       "<div id=\"94a10009-56ec-4411-81a4-50b9c935cd2f\" style=\"height: 525px; width: 100%;\" class=\"plotly-graph-div\"></div><script type=\"text/javascript\">require([\"plotly\"], function(Plotly) { window.PLOTLYENV=window.PLOTLYENV || {};window.PLOTLYENV.BASE_URL=\"https://plot.ly\";\n",
       "if (document.getElementById(\"94a10009-56ec-4411-81a4-50b9c935cd2f\")) {\n",
       "    Plotly.newPlot(\"94a10009-56ec-4411-81a4-50b9c935cd2f\", [{\"marker\": {\"color\": [\"rgb(213,62,79)\", \"rgb(252,141,89)\", \"rgb(254,224,139)\", \"rgb(230,245,152)\", \"rgb(153,213,148)\", \"rgb(50,136,189)\"]}, \"x\": [1], \"y\": [1], \"type\": \"bar\", \"uid\": \"cc6d1ec8-0467-4a99-aa03-e53ba8b3a325\"}], {\"bargap\": 0.2, \"xaxis\": {\"ticktext\": [\"1. M\\u00f3vil\", \"2. Televisi\\u00f3n\", \"3. Ordenador\", \"4. Tableta\", \"5. Otros (Libros y peri\\u00f3dicos en papel, marquesinas, museos...)\"], \"tickvals\": [1, 2, 3, 4, 5]}}, {\"showLink\": false, \"linkText\": \"Export to plot.ly\", \"plotlyServerURL\": \"https://plot.ly\"}); \n",
       "}\n",
       "});</script><script type=\"text/javascript\">window.addEventListener(\"resize\", function(){if (document.getElementById(\"94a10009-56ec-4411-81a4-50b9c935cd2f\")) {window._Plotly.Plots.resize(document.getElementById(\"94a10009-56ec-4411-81a4-50b9c935cd2f\"));};})</script>"
      ]
     },
     "metadata": {},
     "output_type": "display_data"
    },
    {
     "name": "stdout",
     "output_type": "stream",
     "text": [
      "\n",
      "\n",
      "Cluster 5 || variable: ¿Cada cuánto tiempo consumes imágenes?\n",
      "Describiendo la pregunta ¿Cada cuánto tiempo consumes imágenes?\n",
      "Valores numéricos asociados a las respuestas [1, 2, 3, 4]\n",
      "Respuestas posibles a la pregunta/variable ['1. Nunca', '2. Dos o tres veces por semana', '3. Casi todos los días', '4. A diario']\n"
     ]
    },
    {
     "data": {
      "text/plain": [
       "count    1.0\n",
       "mean     4.0\n",
       "std      NaN\n",
       "min      4.0\n",
       "25%      4.0\n",
       "50%      4.0\n",
       "75%      4.0\n",
       "max      4.0\n",
       "Name: ¿Cada cuánto tiempo consumes imágenes?, dtype: float64"
      ]
     },
     "metadata": {},
     "output_type": "display_data"
    },
    {
     "name": "stdout",
     "output_type": "stream",
     "text": [
      "Conteo de cada valor en ¿Cada cuánto tiempo consumes imágenes? expresada como valor / cantidad\n"
     ]
    },
    {
     "data": {
      "text/plain": [
       "4    1\n",
       "Name: ¿Cada cuánto tiempo consumes imágenes?, dtype: int64"
      ]
     },
     "metadata": {},
     "output_type": "display_data"
    },
    {
     "name": "stdout",
     "output_type": "stream",
     "text": [
      "Porcentaje de cada valor en ¿Cada cuánto tiempo consumes imágenes? expresado como valor / porcentaje\n"
     ]
    },
    {
     "data": {
      "text/plain": [
       "4    100.0\n",
       "Name: ¿Cada cuánto tiempo consumes imágenes?, dtype: float64"
      ]
     },
     "metadata": {},
     "output_type": "display_data"
    },
    {
     "data": {
      "application/vnd.plotly.v1+json": {
       "config": {
        "linkText": "Export to plot.ly",
        "plotlyServerURL": "https://plot.ly",
        "showLink": false
       },
       "data": [
        {
         "marker": {
          "color": [
           "rgb(213,62,79)",
           "rgb(252,141,89)",
           "rgb(254,224,139)",
           "rgb(230,245,152)",
           "rgb(153,213,148)",
           "rgb(50,136,189)"
          ]
         },
         "type": "bar",
         "uid": "cb991ecb-36fb-4f06-ba18-17099becb964",
         "x": [
          4
         ],
         "y": [
          1
         ]
        }
       ],
       "layout": {
        "bargap": 0.2,
        "xaxis": {
         "ticktext": [
          "1. Nunca",
          "2. Dos o tres veces por semana",
          "3. Casi todos los días",
          "4. A diario"
         ],
         "tickvals": [
          1,
          2,
          3,
          4
         ]
        }
       }
      },
      "text/html": [
       "<div id=\"9985730f-d38c-4a75-9fb0-2a1a72e1df6f\" style=\"height: 525px; width: 100%;\" class=\"plotly-graph-div\"></div><script type=\"text/javascript\">require([\"plotly\"], function(Plotly) { window.PLOTLYENV=window.PLOTLYENV || {};window.PLOTLYENV.BASE_URL=\"https://plot.ly\";\n",
       "if (document.getElementById(\"9985730f-d38c-4a75-9fb0-2a1a72e1df6f\")) {\n",
       "    Plotly.newPlot(\"9985730f-d38c-4a75-9fb0-2a1a72e1df6f\", [{\"marker\": {\"color\": [\"rgb(213,62,79)\", \"rgb(252,141,89)\", \"rgb(254,224,139)\", \"rgb(230,245,152)\", \"rgb(153,213,148)\", \"rgb(50,136,189)\"]}, \"x\": [4], \"y\": [1], \"type\": \"bar\", \"uid\": \"cb991ecb-36fb-4f06-ba18-17099becb964\"}], {\"bargap\": 0.2, \"xaxis\": {\"ticktext\": [\"1. Nunca\", \"2. Dos o tres veces por semana\", \"3. Casi todos los d\\u00edas\", \"4. A diario\"], \"tickvals\": [1, 2, 3, 4]}}, {\"showLink\": false, \"linkText\": \"Export to plot.ly\", \"plotlyServerURL\": \"https://plot.ly\"}); \n",
       "}\n",
       "});</script><script type=\"text/javascript\">window.addEventListener(\"resize\", function(){if (document.getElementById(\"9985730f-d38c-4a75-9fb0-2a1a72e1df6f\")) {window._Plotly.Plots.resize(document.getElementById(\"9985730f-d38c-4a75-9fb0-2a1a72e1df6f\"));};})</script>"
      ],
      "text/vnd.plotly.v1+html": [
       "<div id=\"9985730f-d38c-4a75-9fb0-2a1a72e1df6f\" style=\"height: 525px; width: 100%;\" class=\"plotly-graph-div\"></div><script type=\"text/javascript\">require([\"plotly\"], function(Plotly) { window.PLOTLYENV=window.PLOTLYENV || {};window.PLOTLYENV.BASE_URL=\"https://plot.ly\";\n",
       "if (document.getElementById(\"9985730f-d38c-4a75-9fb0-2a1a72e1df6f\")) {\n",
       "    Plotly.newPlot(\"9985730f-d38c-4a75-9fb0-2a1a72e1df6f\", [{\"marker\": {\"color\": [\"rgb(213,62,79)\", \"rgb(252,141,89)\", \"rgb(254,224,139)\", \"rgb(230,245,152)\", \"rgb(153,213,148)\", \"rgb(50,136,189)\"]}, \"x\": [4], \"y\": [1], \"type\": \"bar\", \"uid\": \"cb991ecb-36fb-4f06-ba18-17099becb964\"}], {\"bargap\": 0.2, \"xaxis\": {\"ticktext\": [\"1. Nunca\", \"2. Dos o tres veces por semana\", \"3. Casi todos los d\\u00edas\", \"4. A diario\"], \"tickvals\": [1, 2, 3, 4]}}, {\"showLink\": false, \"linkText\": \"Export to plot.ly\", \"plotlyServerURL\": \"https://plot.ly\"}); \n",
       "}\n",
       "});</script><script type=\"text/javascript\">window.addEventListener(\"resize\", function(){if (document.getElementById(\"9985730f-d38c-4a75-9fb0-2a1a72e1df6f\")) {window._Plotly.Plots.resize(document.getElementById(\"9985730f-d38c-4a75-9fb0-2a1a72e1df6f\"));};})</script>"
      ]
     },
     "metadata": {},
     "output_type": "display_data"
    },
    {
     "name": "stdout",
     "output_type": "stream",
     "text": [
      "\n",
      "\n",
      "Cluster 4 || variable: Clasifica tu grado de visión\n",
      "Describiendo la pregunta Clasifica tu grado de visión\n",
      "Valores numéricos asociados a las respuestas [1, 2, 3, 4, 5]\n",
      "Respuestas posibles a la pregunta/variable ['1. Muy malo', '2. Malo', '3. Regular', '4. Bueno', '5. Muy bueno']\n"
     ]
    },
    {
     "data": {
      "text/plain": [
       "count    215.000000\n",
       "mean       4.009302\n",
       "std        0.814533\n",
       "min        1.000000\n",
       "25%        4.000000\n",
       "50%        4.000000\n",
       "75%        5.000000\n",
       "max        5.000000\n",
       "Name: Clasifica tu grado de visión, dtype: float64"
      ]
     },
     "metadata": {},
     "output_type": "display_data"
    },
    {
     "name": "stdout",
     "output_type": "stream",
     "text": [
      "Conteo de cada valor en Clasifica tu grado de visión expresada como valor / cantidad\n"
     ]
    },
    {
     "data": {
      "text/plain": [
       "1      2\n",
       "2      4\n",
       "3     46\n",
       "4    101\n",
       "5     62\n",
       "Name: Clasifica tu grado de visión, dtype: int64"
      ]
     },
     "metadata": {},
     "output_type": "display_data"
    },
    {
     "name": "stdout",
     "output_type": "stream",
     "text": [
      "Porcentaje de cada valor en Clasifica tu grado de visión expresado como valor / porcentaje\n"
     ]
    },
    {
     "data": {
      "text/plain": [
       "1     0.93\n",
       "2     1.86\n",
       "3    21.40\n",
       "4    46.98\n",
       "5    28.84\n",
       "Name: Clasifica tu grado de visión, dtype: float64"
      ]
     },
     "metadata": {},
     "output_type": "display_data"
    },
    {
     "data": {
      "application/vnd.plotly.v1+json": {
       "config": {
        "linkText": "Export to plot.ly",
        "plotlyServerURL": "https://plot.ly",
        "showLink": false
       },
       "data": [
        {
         "marker": {
          "color": [
           "rgb(213,62,79)",
           "rgb(252,141,89)",
           "rgb(254,224,139)",
           "rgb(230,245,152)",
           "rgb(153,213,148)",
           "rgb(50,136,189)"
          ]
         },
         "type": "bar",
         "uid": "3ef7b1d4-5ab4-423c-90a7-084536241ea0",
         "x": [
          1,
          2,
          3,
          4,
          5
         ],
         "y": [
          2,
          4,
          46,
          101,
          62
         ]
        }
       ],
       "layout": {
        "bargap": 0.2,
        "xaxis": {
         "ticktext": [
          "1. Muy malo",
          "2. Malo",
          "3. Regular",
          "4. Bueno",
          "5. Muy bueno"
         ],
         "tickvals": [
          1,
          2,
          3,
          4,
          5
         ]
        }
       }
      },
      "text/html": [
       "<div id=\"a6d127f3-b330-4edd-83f7-c1ca34a679e4\" style=\"height: 525px; width: 100%;\" class=\"plotly-graph-div\"></div><script type=\"text/javascript\">require([\"plotly\"], function(Plotly) { window.PLOTLYENV=window.PLOTLYENV || {};window.PLOTLYENV.BASE_URL=\"https://plot.ly\";\n",
       "if (document.getElementById(\"a6d127f3-b330-4edd-83f7-c1ca34a679e4\")) {\n",
       "    Plotly.newPlot(\"a6d127f3-b330-4edd-83f7-c1ca34a679e4\", [{\"marker\": {\"color\": [\"rgb(213,62,79)\", \"rgb(252,141,89)\", \"rgb(254,224,139)\", \"rgb(230,245,152)\", \"rgb(153,213,148)\", \"rgb(50,136,189)\"]}, \"x\": [1, 2, 3, 4, 5], \"y\": [2, 4, 46, 101, 62], \"type\": \"bar\", \"uid\": \"3ef7b1d4-5ab4-423c-90a7-084536241ea0\"}], {\"bargap\": 0.2, \"xaxis\": {\"ticktext\": [\"1. Muy malo\", \"2. Malo\", \"3. Regular\", \"4. Bueno\", \"5. Muy bueno\"], \"tickvals\": [1, 2, 3, 4, 5]}}, {\"showLink\": false, \"linkText\": \"Export to plot.ly\", \"plotlyServerURL\": \"https://plot.ly\"}); \n",
       "}\n",
       "});</script><script type=\"text/javascript\">window.addEventListener(\"resize\", function(){if (document.getElementById(\"a6d127f3-b330-4edd-83f7-c1ca34a679e4\")) {window._Plotly.Plots.resize(document.getElementById(\"a6d127f3-b330-4edd-83f7-c1ca34a679e4\"));};})</script>"
      ],
      "text/vnd.plotly.v1+html": [
       "<div id=\"a6d127f3-b330-4edd-83f7-c1ca34a679e4\" style=\"height: 525px; width: 100%;\" class=\"plotly-graph-div\"></div><script type=\"text/javascript\">require([\"plotly\"], function(Plotly) { window.PLOTLYENV=window.PLOTLYENV || {};window.PLOTLYENV.BASE_URL=\"https://plot.ly\";\n",
       "if (document.getElementById(\"a6d127f3-b330-4edd-83f7-c1ca34a679e4\")) {\n",
       "    Plotly.newPlot(\"a6d127f3-b330-4edd-83f7-c1ca34a679e4\", [{\"marker\": {\"color\": [\"rgb(213,62,79)\", \"rgb(252,141,89)\", \"rgb(254,224,139)\", \"rgb(230,245,152)\", \"rgb(153,213,148)\", \"rgb(50,136,189)\"]}, \"x\": [1, 2, 3, 4, 5], \"y\": [2, 4, 46, 101, 62], \"type\": \"bar\", \"uid\": \"3ef7b1d4-5ab4-423c-90a7-084536241ea0\"}], {\"bargap\": 0.2, \"xaxis\": {\"ticktext\": [\"1. Muy malo\", \"2. Malo\", \"3. Regular\", \"4. Bueno\", \"5. Muy bueno\"], \"tickvals\": [1, 2, 3, 4, 5]}}, {\"showLink\": false, \"linkText\": \"Export to plot.ly\", \"plotlyServerURL\": \"https://plot.ly\"}); \n",
       "}\n",
       "});</script><script type=\"text/javascript\">window.addEventListener(\"resize\", function(){if (document.getElementById(\"a6d127f3-b330-4edd-83f7-c1ca34a679e4\")) {window._Plotly.Plots.resize(document.getElementById(\"a6d127f3-b330-4edd-83f7-c1ca34a679e4\"));};})</script>"
      ]
     },
     "metadata": {},
     "output_type": "display_data"
    },
    {
     "name": "stdout",
     "output_type": "stream",
     "text": [
      "\n",
      "\n",
      "Cluster 4 || variable: ¿Utilizas gafas o lentes de contacto?\n",
      "Describiendo la pregunta ¿Utilizas gafas o lentes de contacto?\n",
      "Valores numéricos asociados a las respuestas [0, 1]\n",
      "Respuestas posibles a la pregunta/variable ['No', 'Sí']\n"
     ]
    },
    {
     "data": {
      "text/plain": [
       "count    215.000000\n",
       "mean       0.441860\n",
       "std        0.497767\n",
       "min        0.000000\n",
       "25%        0.000000\n",
       "50%        0.000000\n",
       "75%        1.000000\n",
       "max        1.000000\n",
       "Name: ¿Utilizas gafas o lentes de contacto?, dtype: float64"
      ]
     },
     "metadata": {},
     "output_type": "display_data"
    },
    {
     "name": "stdout",
     "output_type": "stream",
     "text": [
      "Conteo de cada valor en ¿Utilizas gafas o lentes de contacto? expresada como valor / cantidad\n"
     ]
    },
    {
     "data": {
      "text/plain": [
       "0    120\n",
       "1     95\n",
       "Name: ¿Utilizas gafas o lentes de contacto?, dtype: int64"
      ]
     },
     "metadata": {},
     "output_type": "display_data"
    },
    {
     "name": "stdout",
     "output_type": "stream",
     "text": [
      "Porcentaje de cada valor en ¿Utilizas gafas o lentes de contacto? expresado como valor / porcentaje\n"
     ]
    },
    {
     "data": {
      "text/plain": [
       "0    55.81\n",
       "1    44.19\n",
       "Name: ¿Utilizas gafas o lentes de contacto?, dtype: float64"
      ]
     },
     "metadata": {},
     "output_type": "display_data"
    },
    {
     "data": {
      "application/vnd.plotly.v1+json": {
       "config": {
        "linkText": "Export to plot.ly",
        "plotlyServerURL": "https://plot.ly",
        "showLink": false
       },
       "data": [
        {
         "marker": {
          "color": [
           "rgb(213,62,79)",
           "rgb(252,141,89)",
           "rgb(254,224,139)",
           "rgb(230,245,152)",
           "rgb(153,213,148)",
           "rgb(50,136,189)"
          ]
         },
         "type": "bar",
         "uid": "f2c0f230-f267-456f-b354-78bd8c7da470",
         "x": [
          0,
          1
         ],
         "y": [
          120,
          95
         ]
        }
       ],
       "layout": {
        "bargap": 0.2,
        "xaxis": {
         "ticktext": [
          "No",
          "Sí"
         ],
         "tickvals": [
          0,
          1
         ]
        }
       }
      },
      "text/html": [
       "<div id=\"d6e88044-9149-4e20-a4de-9a010b91add6\" style=\"height: 525px; width: 100%;\" class=\"plotly-graph-div\"></div><script type=\"text/javascript\">require([\"plotly\"], function(Plotly) { window.PLOTLYENV=window.PLOTLYENV || {};window.PLOTLYENV.BASE_URL=\"https://plot.ly\";\n",
       "if (document.getElementById(\"d6e88044-9149-4e20-a4de-9a010b91add6\")) {\n",
       "    Plotly.newPlot(\"d6e88044-9149-4e20-a4de-9a010b91add6\", [{\"marker\": {\"color\": [\"rgb(213,62,79)\", \"rgb(252,141,89)\", \"rgb(254,224,139)\", \"rgb(230,245,152)\", \"rgb(153,213,148)\", \"rgb(50,136,189)\"]}, \"x\": [0, 1], \"y\": [120, 95], \"type\": \"bar\", \"uid\": \"f2c0f230-f267-456f-b354-78bd8c7da470\"}], {\"bargap\": 0.2, \"xaxis\": {\"ticktext\": [\"No\", \"S\\u00ed\"], \"tickvals\": [0, 1]}}, {\"showLink\": false, \"linkText\": \"Export to plot.ly\", \"plotlyServerURL\": \"https://plot.ly\"}); \n",
       "}\n",
       "});</script><script type=\"text/javascript\">window.addEventListener(\"resize\", function(){if (document.getElementById(\"d6e88044-9149-4e20-a4de-9a010b91add6\")) {window._Plotly.Plots.resize(document.getElementById(\"d6e88044-9149-4e20-a4de-9a010b91add6\"));};})</script>"
      ],
      "text/vnd.plotly.v1+html": [
       "<div id=\"d6e88044-9149-4e20-a4de-9a010b91add6\" style=\"height: 525px; width: 100%;\" class=\"plotly-graph-div\"></div><script type=\"text/javascript\">require([\"plotly\"], function(Plotly) { window.PLOTLYENV=window.PLOTLYENV || {};window.PLOTLYENV.BASE_URL=\"https://plot.ly\";\n",
       "if (document.getElementById(\"d6e88044-9149-4e20-a4de-9a010b91add6\")) {\n",
       "    Plotly.newPlot(\"d6e88044-9149-4e20-a4de-9a010b91add6\", [{\"marker\": {\"color\": [\"rgb(213,62,79)\", \"rgb(252,141,89)\", \"rgb(254,224,139)\", \"rgb(230,245,152)\", \"rgb(153,213,148)\", \"rgb(50,136,189)\"]}, \"x\": [0, 1], \"y\": [120, 95], \"type\": \"bar\", \"uid\": \"f2c0f230-f267-456f-b354-78bd8c7da470\"}], {\"bargap\": 0.2, \"xaxis\": {\"ticktext\": [\"No\", \"S\\u00ed\"], \"tickvals\": [0, 1]}}, {\"showLink\": false, \"linkText\": \"Export to plot.ly\", \"plotlyServerURL\": \"https://plot.ly\"}); \n",
       "}\n",
       "});</script><script type=\"text/javascript\">window.addEventListener(\"resize\", function(){if (document.getElementById(\"d6e88044-9149-4e20-a4de-9a010b91add6\")) {window._Plotly.Plots.resize(document.getElementById(\"d6e88044-9149-4e20-a4de-9a010b91add6\"));};})</script>"
      ]
     },
     "metadata": {},
     "output_type": "display_data"
    },
    {
     "name": "stdout",
     "output_type": "stream",
     "text": [
      "\n",
      "\n",
      "Cluster 4 || variable: ¿Tienes alguna carencia visual que afecte a la recepción de formas, colores, distancias, etc.?\n",
      "Describiendo la pregunta ¿Tienes alguna carencia visual que afecte a la recepción de formas, colores, distancias, etc.?\n",
      "Valores numéricos asociados a las respuestas [0, 1]\n",
      "Respuestas posibles a la pregunta/variable ['No', 'Sí']\n"
     ]
    },
    {
     "data": {
      "text/plain": [
       "count    215.000000\n",
       "mean       0.162791\n",
       "std        0.370036\n",
       "min        0.000000\n",
       "25%        0.000000\n",
       "50%        0.000000\n",
       "75%        0.000000\n",
       "max        1.000000\n",
       "Name: ¿Tienes alguna carencia visual que afecte a la recepción de formas, colores, distancias, etc.?, dtype: float64"
      ]
     },
     "metadata": {},
     "output_type": "display_data"
    },
    {
     "name": "stdout",
     "output_type": "stream",
     "text": [
      "Conteo de cada valor en ¿Tienes alguna carencia visual que afecte a la recepción de formas, colores, distancias, etc.? expresada como valor / cantidad\n"
     ]
    },
    {
     "data": {
      "text/plain": [
       "0    180\n",
       "1     35\n",
       "Name: ¿Tienes alguna carencia visual que afecte a la recepción de formas, colores, distancias, etc.?, dtype: int64"
      ]
     },
     "metadata": {},
     "output_type": "display_data"
    },
    {
     "name": "stdout",
     "output_type": "stream",
     "text": [
      "Porcentaje de cada valor en ¿Tienes alguna carencia visual que afecte a la recepción de formas, colores, distancias, etc.? expresado como valor / porcentaje\n"
     ]
    },
    {
     "data": {
      "text/plain": [
       "0    83.72\n",
       "1    16.28\n",
       "Name: ¿Tienes alguna carencia visual que afecte a la recepción de formas, colores, distancias, etc.?, dtype: float64"
      ]
     },
     "metadata": {},
     "output_type": "display_data"
    },
    {
     "data": {
      "application/vnd.plotly.v1+json": {
       "config": {
        "linkText": "Export to plot.ly",
        "plotlyServerURL": "https://plot.ly",
        "showLink": false
       },
       "data": [
        {
         "marker": {
          "color": [
           "rgb(213,62,79)",
           "rgb(252,141,89)",
           "rgb(254,224,139)",
           "rgb(230,245,152)",
           "rgb(153,213,148)",
           "rgb(50,136,189)"
          ]
         },
         "type": "bar",
         "uid": "b6d75136-92a7-4b53-844b-23cd18a599c6",
         "x": [
          0,
          1
         ],
         "y": [
          180,
          35
         ]
        }
       ],
       "layout": {
        "bargap": 0.2,
        "xaxis": {
         "ticktext": [
          "No",
          "Sí"
         ],
         "tickvals": [
          0,
          1
         ]
        }
       }
      },
      "text/html": [
       "<div id=\"77b2d1be-02b0-4539-b503-23e0e92986d3\" style=\"height: 525px; width: 100%;\" class=\"plotly-graph-div\"></div><script type=\"text/javascript\">require([\"plotly\"], function(Plotly) { window.PLOTLYENV=window.PLOTLYENV || {};window.PLOTLYENV.BASE_URL=\"https://plot.ly\";\n",
       "if (document.getElementById(\"77b2d1be-02b0-4539-b503-23e0e92986d3\")) {\n",
       "    Plotly.newPlot(\"77b2d1be-02b0-4539-b503-23e0e92986d3\", [{\"marker\": {\"color\": [\"rgb(213,62,79)\", \"rgb(252,141,89)\", \"rgb(254,224,139)\", \"rgb(230,245,152)\", \"rgb(153,213,148)\", \"rgb(50,136,189)\"]}, \"x\": [0, 1], \"y\": [180, 35], \"type\": \"bar\", \"uid\": \"b6d75136-92a7-4b53-844b-23cd18a599c6\"}], {\"bargap\": 0.2, \"xaxis\": {\"ticktext\": [\"No\", \"S\\u00ed\"], \"tickvals\": [0, 1]}}, {\"showLink\": false, \"linkText\": \"Export to plot.ly\", \"plotlyServerURL\": \"https://plot.ly\"}); \n",
       "}\n",
       "});</script><script type=\"text/javascript\">window.addEventListener(\"resize\", function(){if (document.getElementById(\"77b2d1be-02b0-4539-b503-23e0e92986d3\")) {window._Plotly.Plots.resize(document.getElementById(\"77b2d1be-02b0-4539-b503-23e0e92986d3\"));};})</script>"
      ],
      "text/vnd.plotly.v1+html": [
       "<div id=\"77b2d1be-02b0-4539-b503-23e0e92986d3\" style=\"height: 525px; width: 100%;\" class=\"plotly-graph-div\"></div><script type=\"text/javascript\">require([\"plotly\"], function(Plotly) { window.PLOTLYENV=window.PLOTLYENV || {};window.PLOTLYENV.BASE_URL=\"https://plot.ly\";\n",
       "if (document.getElementById(\"77b2d1be-02b0-4539-b503-23e0e92986d3\")) {\n",
       "    Plotly.newPlot(\"77b2d1be-02b0-4539-b503-23e0e92986d3\", [{\"marker\": {\"color\": [\"rgb(213,62,79)\", \"rgb(252,141,89)\", \"rgb(254,224,139)\", \"rgb(230,245,152)\", \"rgb(153,213,148)\", \"rgb(50,136,189)\"]}, \"x\": [0, 1], \"y\": [180, 35], \"type\": \"bar\", \"uid\": \"b6d75136-92a7-4b53-844b-23cd18a599c6\"}], {\"bargap\": 0.2, \"xaxis\": {\"ticktext\": [\"No\", \"S\\u00ed\"], \"tickvals\": [0, 1]}}, {\"showLink\": false, \"linkText\": \"Export to plot.ly\", \"plotlyServerURL\": \"https://plot.ly\"}); \n",
       "}\n",
       "});</script><script type=\"text/javascript\">window.addEventListener(\"resize\", function(){if (document.getElementById(\"77b2d1be-02b0-4539-b503-23e0e92986d3\")) {window._Plotly.Plots.resize(document.getElementById(\"77b2d1be-02b0-4539-b503-23e0e92986d3\"));};})</script>"
      ]
     },
     "metadata": {},
     "output_type": "display_data"
    },
    {
     "name": "stdout",
     "output_type": "stream",
     "text": [
      "\n",
      "\n",
      "Cluster 4 || variable: ¿Tienes acceso a dispositivos (ordenador, móvil, tablet, etc.) conectados a Internet habitualmente?\n",
      "Describiendo la pregunta ¿Tienes acceso a dispositivos (ordenador, móvil, tablet, etc.) conectados a Internet habitualmente?\n",
      "Valores numéricos asociados a las respuestas [1, 2, 3, 4, 5]\n",
      "Respuestas posibles a la pregunta/variable ['1. Nunca', '2. Ocasionalmente', '3. Semanalmente', '4. Diariamente', '5. Varias veces al día']\n"
     ]
    },
    {
     "data": {
      "text/plain": [
       "count    215.000000\n",
       "mean       4.265116\n",
       "std        0.814266\n",
       "min        1.000000\n",
       "25%        4.000000\n",
       "50%        4.000000\n",
       "75%        5.000000\n",
       "max        5.000000\n",
       "Name: ¿Tienes acceso a dispositivos (ordenador, móvil, tablet, etc.) conectados a Internet habitualmente?, dtype: float64"
      ]
     },
     "metadata": {},
     "output_type": "display_data"
    },
    {
     "name": "stdout",
     "output_type": "stream",
     "text": [
      "Conteo de cada valor en ¿Tienes acceso a dispositivos (ordenador, móvil, tablet, etc.) conectados a Internet habitualmente? expresada como valor / cantidad\n"
     ]
    },
    {
     "data": {
      "text/plain": [
       "1     1\n",
       "2     6\n",
       "3    26\n",
       "4    84\n",
       "5    98\n",
       "Name: ¿Tienes acceso a dispositivos (ordenador, móvil, tablet, etc.) conectados a Internet habitualmente?, dtype: int64"
      ]
     },
     "metadata": {},
     "output_type": "display_data"
    },
    {
     "name": "stdout",
     "output_type": "stream",
     "text": [
      "Porcentaje de cada valor en ¿Tienes acceso a dispositivos (ordenador, móvil, tablet, etc.) conectados a Internet habitualmente? expresado como valor / porcentaje\n"
     ]
    },
    {
     "data": {
      "text/plain": [
       "1     0.47\n",
       "2     2.79\n",
       "3    12.09\n",
       "4    39.07\n",
       "5    45.58\n",
       "Name: ¿Tienes acceso a dispositivos (ordenador, móvil, tablet, etc.) conectados a Internet habitualmente?, dtype: float64"
      ]
     },
     "metadata": {},
     "output_type": "display_data"
    },
    {
     "data": {
      "application/vnd.plotly.v1+json": {
       "config": {
        "linkText": "Export to plot.ly",
        "plotlyServerURL": "https://plot.ly",
        "showLink": false
       },
       "data": [
        {
         "marker": {
          "color": [
           "rgb(213,62,79)",
           "rgb(252,141,89)",
           "rgb(254,224,139)",
           "rgb(230,245,152)",
           "rgb(153,213,148)",
           "rgb(50,136,189)"
          ]
         },
         "type": "bar",
         "uid": "fac40a17-77e8-4dfa-b396-ec008036a10a",
         "x": [
          1,
          2,
          3,
          4,
          5
         ],
         "y": [
          1,
          6,
          26,
          84,
          98
         ]
        }
       ],
       "layout": {
        "bargap": 0.2,
        "xaxis": {
         "ticktext": [
          "1. Nunca",
          "2. Ocasionalmente",
          "3. Semanalmente",
          "4. Diariamente",
          "5. Varias veces al día"
         ],
         "tickvals": [
          1,
          2,
          3,
          4,
          5
         ]
        }
       }
      },
      "text/html": [
       "<div id=\"5b700028-b1fc-41cf-a183-ffa136895498\" style=\"height: 525px; width: 100%;\" class=\"plotly-graph-div\"></div><script type=\"text/javascript\">require([\"plotly\"], function(Plotly) { window.PLOTLYENV=window.PLOTLYENV || {};window.PLOTLYENV.BASE_URL=\"https://plot.ly\";\n",
       "if (document.getElementById(\"5b700028-b1fc-41cf-a183-ffa136895498\")) {\n",
       "    Plotly.newPlot(\"5b700028-b1fc-41cf-a183-ffa136895498\", [{\"marker\": {\"color\": [\"rgb(213,62,79)\", \"rgb(252,141,89)\", \"rgb(254,224,139)\", \"rgb(230,245,152)\", \"rgb(153,213,148)\", \"rgb(50,136,189)\"]}, \"x\": [1, 2, 3, 4, 5], \"y\": [1, 6, 26, 84, 98], \"type\": \"bar\", \"uid\": \"fac40a17-77e8-4dfa-b396-ec008036a10a\"}], {\"bargap\": 0.2, \"xaxis\": {\"ticktext\": [\"1. Nunca\", \"2. Ocasionalmente\", \"3. Semanalmente\", \"4. Diariamente\", \"5. Varias veces al d\\u00eda\"], \"tickvals\": [1, 2, 3, 4, 5]}}, {\"showLink\": false, \"linkText\": \"Export to plot.ly\", \"plotlyServerURL\": \"https://plot.ly\"}); \n",
       "}\n",
       "});</script><script type=\"text/javascript\">window.addEventListener(\"resize\", function(){if (document.getElementById(\"5b700028-b1fc-41cf-a183-ffa136895498\")) {window._Plotly.Plots.resize(document.getElementById(\"5b700028-b1fc-41cf-a183-ffa136895498\"));};})</script>"
      ],
      "text/vnd.plotly.v1+html": [
       "<div id=\"5b700028-b1fc-41cf-a183-ffa136895498\" style=\"height: 525px; width: 100%;\" class=\"plotly-graph-div\"></div><script type=\"text/javascript\">require([\"plotly\"], function(Plotly) { window.PLOTLYENV=window.PLOTLYENV || {};window.PLOTLYENV.BASE_URL=\"https://plot.ly\";\n",
       "if (document.getElementById(\"5b700028-b1fc-41cf-a183-ffa136895498\")) {\n",
       "    Plotly.newPlot(\"5b700028-b1fc-41cf-a183-ffa136895498\", [{\"marker\": {\"color\": [\"rgb(213,62,79)\", \"rgb(252,141,89)\", \"rgb(254,224,139)\", \"rgb(230,245,152)\", \"rgb(153,213,148)\", \"rgb(50,136,189)\"]}, \"x\": [1, 2, 3, 4, 5], \"y\": [1, 6, 26, 84, 98], \"type\": \"bar\", \"uid\": \"fac40a17-77e8-4dfa-b396-ec008036a10a\"}], {\"bargap\": 0.2, \"xaxis\": {\"ticktext\": [\"1. Nunca\", \"2. Ocasionalmente\", \"3. Semanalmente\", \"4. Diariamente\", \"5. Varias veces al d\\u00eda\"], \"tickvals\": [1, 2, 3, 4, 5]}}, {\"showLink\": false, \"linkText\": \"Export to plot.ly\", \"plotlyServerURL\": \"https://plot.ly\"}); \n",
       "}\n",
       "});</script><script type=\"text/javascript\">window.addEventListener(\"resize\", function(){if (document.getElementById(\"5b700028-b1fc-41cf-a183-ffa136895498\")) {window._Plotly.Plots.resize(document.getElementById(\"5b700028-b1fc-41cf-a183-ffa136895498\"));};})</script>"
      ]
     },
     "metadata": {},
     "output_type": "display_data"
    },
    {
     "name": "stdout",
     "output_type": "stream",
     "text": [
      "\n",
      "\n",
      "Cluster 4 || variable: ¿Cuánto tiempo al día usas el móvil/tableta/ordenador/TV?\n",
      "Describiendo la pregunta ¿Cuánto tiempo al día usas el móvil/tableta/ordenador/TV?\n",
      "Valores numéricos asociados a las respuestas [1, 2, 3, 4, 5, 6]\n",
      "Respuestas posibles a la pregunta/variable ['1. Nada', '2. Menos de una hora', '3. 1-2 horas', '4. 2-4 horas', '5. 4-6 horas', '6. Más de 6 horas']\n"
     ]
    },
    {
     "data": {
      "text/plain": [
       "count    215.000000\n",
       "mean       4.395349\n",
       "std        1.134414\n",
       "min        1.000000\n",
       "25%        4.000000\n",
       "50%        4.000000\n",
       "75%        5.000000\n",
       "max        6.000000\n",
       "Name: ¿Cuánto tiempo al día usas el móvil/tableta/ordenador/TV?, dtype: float64"
      ]
     },
     "metadata": {},
     "output_type": "display_data"
    },
    {
     "name": "stdout",
     "output_type": "stream",
     "text": [
      "Conteo de cada valor en ¿Cuánto tiempo al día usas el móvil/tableta/ordenador/TV? expresada como valor / cantidad\n"
     ]
    },
    {
     "data": {
      "text/plain": [
       "1     1\n",
       "2     3\n",
       "3    49\n",
       "4    67\n",
       "5    47\n",
       "6    48\n",
       "Name: ¿Cuánto tiempo al día usas el móvil/tableta/ordenador/TV?, dtype: int64"
      ]
     },
     "metadata": {},
     "output_type": "display_data"
    },
    {
     "name": "stdout",
     "output_type": "stream",
     "text": [
      "Porcentaje de cada valor en ¿Cuánto tiempo al día usas el móvil/tableta/ordenador/TV? expresado como valor / porcentaje\n"
     ]
    },
    {
     "data": {
      "text/plain": [
       "1     0.47\n",
       "2     1.40\n",
       "3    22.79\n",
       "4    31.16\n",
       "5    21.86\n",
       "6    22.33\n",
       "Name: ¿Cuánto tiempo al día usas el móvil/tableta/ordenador/TV?, dtype: float64"
      ]
     },
     "metadata": {},
     "output_type": "display_data"
    },
    {
     "data": {
      "application/vnd.plotly.v1+json": {
       "config": {
        "linkText": "Export to plot.ly",
        "plotlyServerURL": "https://plot.ly",
        "showLink": false
       },
       "data": [
        {
         "marker": {
          "color": [
           "rgb(213,62,79)",
           "rgb(252,141,89)",
           "rgb(254,224,139)",
           "rgb(230,245,152)",
           "rgb(153,213,148)",
           "rgb(50,136,189)"
          ]
         },
         "type": "bar",
         "uid": "709cbb13-7480-41e5-ba06-3a4b1f5103df",
         "x": [
          1,
          2,
          3,
          4,
          5,
          6
         ],
         "y": [
          1,
          3,
          49,
          67,
          47,
          48
         ]
        }
       ],
       "layout": {
        "bargap": 0.2,
        "xaxis": {
         "ticktext": [
          "1. Nada",
          "2. Menos de una hora",
          "3. 1-2 horas",
          "4. 2-4 horas",
          "5. 4-6 horas",
          "6. Más de 6 horas"
         ],
         "tickvals": [
          1,
          2,
          3,
          4,
          5,
          6
         ]
        }
       }
      },
      "text/html": [
       "<div id=\"50d5cfc2-898b-4a8f-9289-418bb2445e09\" style=\"height: 525px; width: 100%;\" class=\"plotly-graph-div\"></div><script type=\"text/javascript\">require([\"plotly\"], function(Plotly) { window.PLOTLYENV=window.PLOTLYENV || {};window.PLOTLYENV.BASE_URL=\"https://plot.ly\";\n",
       "if (document.getElementById(\"50d5cfc2-898b-4a8f-9289-418bb2445e09\")) {\n",
       "    Plotly.newPlot(\"50d5cfc2-898b-4a8f-9289-418bb2445e09\", [{\"marker\": {\"color\": [\"rgb(213,62,79)\", \"rgb(252,141,89)\", \"rgb(254,224,139)\", \"rgb(230,245,152)\", \"rgb(153,213,148)\", \"rgb(50,136,189)\"]}, \"x\": [1, 2, 3, 4, 5, 6], \"y\": [1, 3, 49, 67, 47, 48], \"type\": \"bar\", \"uid\": \"709cbb13-7480-41e5-ba06-3a4b1f5103df\"}], {\"bargap\": 0.2, \"xaxis\": {\"ticktext\": [\"1. Nada\", \"2. Menos de una hora\", \"3. 1-2 horas\", \"4. 2-4 horas\", \"5. 4-6 horas\", \"6. M\\u00e1s de 6 horas\"], \"tickvals\": [1, 2, 3, 4, 5, 6]}}, {\"showLink\": false, \"linkText\": \"Export to plot.ly\", \"plotlyServerURL\": \"https://plot.ly\"}); \n",
       "}\n",
       "});</script><script type=\"text/javascript\">window.addEventListener(\"resize\", function(){if (document.getElementById(\"50d5cfc2-898b-4a8f-9289-418bb2445e09\")) {window._Plotly.Plots.resize(document.getElementById(\"50d5cfc2-898b-4a8f-9289-418bb2445e09\"));};})</script>"
      ],
      "text/vnd.plotly.v1+html": [
       "<div id=\"50d5cfc2-898b-4a8f-9289-418bb2445e09\" style=\"height: 525px; width: 100%;\" class=\"plotly-graph-div\"></div><script type=\"text/javascript\">require([\"plotly\"], function(Plotly) { window.PLOTLYENV=window.PLOTLYENV || {};window.PLOTLYENV.BASE_URL=\"https://plot.ly\";\n",
       "if (document.getElementById(\"50d5cfc2-898b-4a8f-9289-418bb2445e09\")) {\n",
       "    Plotly.newPlot(\"50d5cfc2-898b-4a8f-9289-418bb2445e09\", [{\"marker\": {\"color\": [\"rgb(213,62,79)\", \"rgb(252,141,89)\", \"rgb(254,224,139)\", \"rgb(230,245,152)\", \"rgb(153,213,148)\", \"rgb(50,136,189)\"]}, \"x\": [1, 2, 3, 4, 5, 6], \"y\": [1, 3, 49, 67, 47, 48], \"type\": \"bar\", \"uid\": \"709cbb13-7480-41e5-ba06-3a4b1f5103df\"}], {\"bargap\": 0.2, \"xaxis\": {\"ticktext\": [\"1. Nada\", \"2. Menos de una hora\", \"3. 1-2 horas\", \"4. 2-4 horas\", \"5. 4-6 horas\", \"6. M\\u00e1s de 6 horas\"], \"tickvals\": [1, 2, 3, 4, 5, 6]}}, {\"showLink\": false, \"linkText\": \"Export to plot.ly\", \"plotlyServerURL\": \"https://plot.ly\"}); \n",
       "}\n",
       "});</script><script type=\"text/javascript\">window.addEventListener(\"resize\", function(){if (document.getElementById(\"50d5cfc2-898b-4a8f-9289-418bb2445e09\")) {window._Plotly.Plots.resize(document.getElementById(\"50d5cfc2-898b-4a8f-9289-418bb2445e09\"));};})</script>"
      ]
     },
     "metadata": {},
     "output_type": "display_data"
    },
    {
     "name": "stdout",
     "output_type": "stream",
     "text": [
      "\n",
      "\n",
      "Cluster 4 || variable: ¿Qué tipo de aplicaciones utilizas en tu ordenador/tableta/móvil? (Respuesta múltiple) [1. Apps de contenidos audiovisuales (Netflix, HBO, etc.)]\n",
      "Describiendo la pregunta ¿Qué tipo de aplicaciones utilizas en tu ordenador/tableta/móvil? (Respuesta múltiple) [1. Apps de contenidos audiovisuales (Netflix, HBO, etc.)]\n",
      "Valores numéricos asociados a las respuestas [0, 1]\n",
      "Respuestas posibles a la pregunta/variable ['No', 'Sí']\n"
     ]
    },
    {
     "data": {
      "text/plain": [
       "count    215.000000\n",
       "mean       0.353488\n",
       "std        0.479168\n",
       "min        0.000000\n",
       "25%        0.000000\n",
       "50%        0.000000\n",
       "75%        1.000000\n",
       "max        1.000000\n",
       "Name: ¿Qué tipo de aplicaciones utilizas en tu ordenador/tableta/móvil? (Respuesta múltiple) [1. Apps de contenidos audiovisuales (Netflix, HBO, etc.)], dtype: float64"
      ]
     },
     "metadata": {},
     "output_type": "display_data"
    },
    {
     "name": "stdout",
     "output_type": "stream",
     "text": [
      "Conteo de cada valor en ¿Qué tipo de aplicaciones utilizas en tu ordenador/tableta/móvil? (Respuesta múltiple) [1. Apps de contenidos audiovisuales (Netflix, HBO, etc.)] expresada como valor / cantidad\n"
     ]
    },
    {
     "data": {
      "text/plain": [
       "0    139\n",
       "1     76\n",
       "Name: ¿Qué tipo de aplicaciones utilizas en tu ordenador/tableta/móvil? (Respuesta múltiple) [1. Apps de contenidos audiovisuales (Netflix, HBO, etc.)], dtype: int64"
      ]
     },
     "metadata": {},
     "output_type": "display_data"
    },
    {
     "name": "stdout",
     "output_type": "stream",
     "text": [
      "Porcentaje de cada valor en ¿Qué tipo de aplicaciones utilizas en tu ordenador/tableta/móvil? (Respuesta múltiple) [1. Apps de contenidos audiovisuales (Netflix, HBO, etc.)] expresado como valor / porcentaje\n"
     ]
    },
    {
     "data": {
      "text/plain": [
       "0    64.65\n",
       "1    35.35\n",
       "Name: ¿Qué tipo de aplicaciones utilizas en tu ordenador/tableta/móvil? (Respuesta múltiple) [1. Apps de contenidos audiovisuales (Netflix, HBO, etc.)], dtype: float64"
      ]
     },
     "metadata": {},
     "output_type": "display_data"
    },
    {
     "data": {
      "application/vnd.plotly.v1+json": {
       "config": {
        "linkText": "Export to plot.ly",
        "plotlyServerURL": "https://plot.ly",
        "showLink": false
       },
       "data": [
        {
         "marker": {
          "color": [
           "rgb(213,62,79)",
           "rgb(252,141,89)",
           "rgb(254,224,139)",
           "rgb(230,245,152)",
           "rgb(153,213,148)",
           "rgb(50,136,189)"
          ]
         },
         "type": "bar",
         "uid": "311086d9-ad8d-42e2-9009-1effe64ca443",
         "x": [
          0,
          1
         ],
         "y": [
          139,
          76
         ]
        }
       ],
       "layout": {
        "bargap": 0.2,
        "xaxis": {
         "ticktext": [
          "No",
          "Sí"
         ],
         "tickvals": [
          0,
          1
         ]
        }
       }
      },
      "text/html": [
       "<div id=\"c50d99da-f564-44ac-b83c-5d012e448de5\" style=\"height: 525px; width: 100%;\" class=\"plotly-graph-div\"></div><script type=\"text/javascript\">require([\"plotly\"], function(Plotly) { window.PLOTLYENV=window.PLOTLYENV || {};window.PLOTLYENV.BASE_URL=\"https://plot.ly\";\n",
       "if (document.getElementById(\"c50d99da-f564-44ac-b83c-5d012e448de5\")) {\n",
       "    Plotly.newPlot(\"c50d99da-f564-44ac-b83c-5d012e448de5\", [{\"marker\": {\"color\": [\"rgb(213,62,79)\", \"rgb(252,141,89)\", \"rgb(254,224,139)\", \"rgb(230,245,152)\", \"rgb(153,213,148)\", \"rgb(50,136,189)\"]}, \"x\": [0, 1], \"y\": [139, 76], \"type\": \"bar\", \"uid\": \"311086d9-ad8d-42e2-9009-1effe64ca443\"}], {\"bargap\": 0.2, \"xaxis\": {\"ticktext\": [\"No\", \"S\\u00ed\"], \"tickvals\": [0, 1]}}, {\"showLink\": false, \"linkText\": \"Export to plot.ly\", \"plotlyServerURL\": \"https://plot.ly\"}); \n",
       "}\n",
       "});</script><script type=\"text/javascript\">window.addEventListener(\"resize\", function(){if (document.getElementById(\"c50d99da-f564-44ac-b83c-5d012e448de5\")) {window._Plotly.Plots.resize(document.getElementById(\"c50d99da-f564-44ac-b83c-5d012e448de5\"));};})</script>"
      ],
      "text/vnd.plotly.v1+html": [
       "<div id=\"c50d99da-f564-44ac-b83c-5d012e448de5\" style=\"height: 525px; width: 100%;\" class=\"plotly-graph-div\"></div><script type=\"text/javascript\">require([\"plotly\"], function(Plotly) { window.PLOTLYENV=window.PLOTLYENV || {};window.PLOTLYENV.BASE_URL=\"https://plot.ly\";\n",
       "if (document.getElementById(\"c50d99da-f564-44ac-b83c-5d012e448de5\")) {\n",
       "    Plotly.newPlot(\"c50d99da-f564-44ac-b83c-5d012e448de5\", [{\"marker\": {\"color\": [\"rgb(213,62,79)\", \"rgb(252,141,89)\", \"rgb(254,224,139)\", \"rgb(230,245,152)\", \"rgb(153,213,148)\", \"rgb(50,136,189)\"]}, \"x\": [0, 1], \"y\": [139, 76], \"type\": \"bar\", \"uid\": \"311086d9-ad8d-42e2-9009-1effe64ca443\"}], {\"bargap\": 0.2, \"xaxis\": {\"ticktext\": [\"No\", \"S\\u00ed\"], \"tickvals\": [0, 1]}}, {\"showLink\": false, \"linkText\": \"Export to plot.ly\", \"plotlyServerURL\": \"https://plot.ly\"}); \n",
       "}\n",
       "});</script><script type=\"text/javascript\">window.addEventListener(\"resize\", function(){if (document.getElementById(\"c50d99da-f564-44ac-b83c-5d012e448de5\")) {window._Plotly.Plots.resize(document.getElementById(\"c50d99da-f564-44ac-b83c-5d012e448de5\"));};})</script>"
      ]
     },
     "metadata": {},
     "output_type": "display_data"
    },
    {
     "name": "stdout",
     "output_type": "stream",
     "text": [
      "\n",
      "\n",
      "Cluster 4 || variable: ¿Qué tipo de aplicaciones utilizas en tu ordenador/tableta/móvil? (Respuesta múltiple) [2. Aplicaciones de mensajería (Whatsapp, Facebook Messenger, etc.)]\n",
      "Describiendo la pregunta ¿Qué tipo de aplicaciones utilizas en tu ordenador/tableta/móvil? (Respuesta múltiple) [2. Aplicaciones de mensajería (Whatsapp, Facebook Messenger, etc.)]\n",
      "Valores numéricos asociados a las respuestas [0, 1]\n",
      "Respuestas posibles a la pregunta/variable ['No', 'Sí']\n"
     ]
    },
    {
     "data": {
      "text/plain": [
       "count    215.000000\n",
       "mean       0.613953\n",
       "std        0.487978\n",
       "min        0.000000\n",
       "25%        0.000000\n",
       "50%        1.000000\n",
       "75%        1.000000\n",
       "max        1.000000\n",
       "Name: ¿Qué tipo de aplicaciones utilizas en tu ordenador/tableta/móvil? (Respuesta múltiple) [2. Aplicaciones de mensajería (Whatsapp, Facebook Messenger, etc.)], dtype: float64"
      ]
     },
     "metadata": {},
     "output_type": "display_data"
    },
    {
     "name": "stdout",
     "output_type": "stream",
     "text": [
      "Conteo de cada valor en ¿Qué tipo de aplicaciones utilizas en tu ordenador/tableta/móvil? (Respuesta múltiple) [2. Aplicaciones de mensajería (Whatsapp, Facebook Messenger, etc.)] expresada como valor / cantidad\n"
     ]
    },
    {
     "data": {
      "text/plain": [
       "0     83\n",
       "1    132\n",
       "Name: ¿Qué tipo de aplicaciones utilizas en tu ordenador/tableta/móvil? (Respuesta múltiple) [2. Aplicaciones de mensajería (Whatsapp, Facebook Messenger, etc.)], dtype: int64"
      ]
     },
     "metadata": {},
     "output_type": "display_data"
    },
    {
     "name": "stdout",
     "output_type": "stream",
     "text": [
      "Porcentaje de cada valor en ¿Qué tipo de aplicaciones utilizas en tu ordenador/tableta/móvil? (Respuesta múltiple) [2. Aplicaciones de mensajería (Whatsapp, Facebook Messenger, etc.)] expresado como valor / porcentaje\n"
     ]
    },
    {
     "data": {
      "text/plain": [
       "0    38.6\n",
       "1    61.4\n",
       "Name: ¿Qué tipo de aplicaciones utilizas en tu ordenador/tableta/móvil? (Respuesta múltiple) [2. Aplicaciones de mensajería (Whatsapp, Facebook Messenger, etc.)], dtype: float64"
      ]
     },
     "metadata": {},
     "output_type": "display_data"
    },
    {
     "data": {
      "application/vnd.plotly.v1+json": {
       "config": {
        "linkText": "Export to plot.ly",
        "plotlyServerURL": "https://plot.ly",
        "showLink": false
       },
       "data": [
        {
         "marker": {
          "color": [
           "rgb(213,62,79)",
           "rgb(252,141,89)",
           "rgb(254,224,139)",
           "rgb(230,245,152)",
           "rgb(153,213,148)",
           "rgb(50,136,189)"
          ]
         },
         "type": "bar",
         "uid": "736ba024-ed1f-43dc-9888-fba58f9bedbf",
         "x": [
          0,
          1
         ],
         "y": [
          83,
          132
         ]
        }
       ],
       "layout": {
        "bargap": 0.2,
        "xaxis": {
         "ticktext": [
          "No",
          "Sí"
         ],
         "tickvals": [
          0,
          1
         ]
        }
       }
      },
      "text/html": [
       "<div id=\"f419e7e7-4343-443b-a902-4826725be839\" style=\"height: 525px; width: 100%;\" class=\"plotly-graph-div\"></div><script type=\"text/javascript\">require([\"plotly\"], function(Plotly) { window.PLOTLYENV=window.PLOTLYENV || {};window.PLOTLYENV.BASE_URL=\"https://plot.ly\";\n",
       "if (document.getElementById(\"f419e7e7-4343-443b-a902-4826725be839\")) {\n",
       "    Plotly.newPlot(\"f419e7e7-4343-443b-a902-4826725be839\", [{\"marker\": {\"color\": [\"rgb(213,62,79)\", \"rgb(252,141,89)\", \"rgb(254,224,139)\", \"rgb(230,245,152)\", \"rgb(153,213,148)\", \"rgb(50,136,189)\"]}, \"x\": [0, 1], \"y\": [83, 132], \"type\": \"bar\", \"uid\": \"736ba024-ed1f-43dc-9888-fba58f9bedbf\"}], {\"bargap\": 0.2, \"xaxis\": {\"ticktext\": [\"No\", \"S\\u00ed\"], \"tickvals\": [0, 1]}}, {\"showLink\": false, \"linkText\": \"Export to plot.ly\", \"plotlyServerURL\": \"https://plot.ly\"}); \n",
       "}\n",
       "});</script><script type=\"text/javascript\">window.addEventListener(\"resize\", function(){if (document.getElementById(\"f419e7e7-4343-443b-a902-4826725be839\")) {window._Plotly.Plots.resize(document.getElementById(\"f419e7e7-4343-443b-a902-4826725be839\"));};})</script>"
      ],
      "text/vnd.plotly.v1+html": [
       "<div id=\"f419e7e7-4343-443b-a902-4826725be839\" style=\"height: 525px; width: 100%;\" class=\"plotly-graph-div\"></div><script type=\"text/javascript\">require([\"plotly\"], function(Plotly) { window.PLOTLYENV=window.PLOTLYENV || {};window.PLOTLYENV.BASE_URL=\"https://plot.ly\";\n",
       "if (document.getElementById(\"f419e7e7-4343-443b-a902-4826725be839\")) {\n",
       "    Plotly.newPlot(\"f419e7e7-4343-443b-a902-4826725be839\", [{\"marker\": {\"color\": [\"rgb(213,62,79)\", \"rgb(252,141,89)\", \"rgb(254,224,139)\", \"rgb(230,245,152)\", \"rgb(153,213,148)\", \"rgb(50,136,189)\"]}, \"x\": [0, 1], \"y\": [83, 132], \"type\": \"bar\", \"uid\": \"736ba024-ed1f-43dc-9888-fba58f9bedbf\"}], {\"bargap\": 0.2, \"xaxis\": {\"ticktext\": [\"No\", \"S\\u00ed\"], \"tickvals\": [0, 1]}}, {\"showLink\": false, \"linkText\": \"Export to plot.ly\", \"plotlyServerURL\": \"https://plot.ly\"}); \n",
       "}\n",
       "});</script><script type=\"text/javascript\">window.addEventListener(\"resize\", function(){if (document.getElementById(\"f419e7e7-4343-443b-a902-4826725be839\")) {window._Plotly.Plots.resize(document.getElementById(\"f419e7e7-4343-443b-a902-4826725be839\"));};})</script>"
      ]
     },
     "metadata": {},
     "output_type": "display_data"
    },
    {
     "name": "stdout",
     "output_type": "stream",
     "text": [
      "\n",
      "\n",
      "Cluster 4 || variable: ¿Qué tipo de aplicaciones utilizas en tu ordenador/tableta/móvil? (Respuesta múltiple) [3. Bibliotecas de fotos online (Google Photos, iPhoto, etc.)]\n",
      "Describiendo la pregunta ¿Qué tipo de aplicaciones utilizas en tu ordenador/tableta/móvil? (Respuesta múltiple) [3. Bibliotecas de fotos online (Google Photos, iPhoto, etc.)]\n",
      "Valores numéricos asociados a las respuestas [0, 1]\n",
      "Respuestas posibles a la pregunta/variable ['No', 'Sí']\n"
     ]
    },
    {
     "data": {
      "text/plain": [
       "count    215.000000\n",
       "mean       0.339535\n",
       "std        0.474657\n",
       "min        0.000000\n",
       "25%        0.000000\n",
       "50%        0.000000\n",
       "75%        1.000000\n",
       "max        1.000000\n",
       "Name: ¿Qué tipo de aplicaciones utilizas en tu ordenador/tableta/móvil? (Respuesta múltiple) [3. Bibliotecas de fotos online (Google Photos, iPhoto, etc.)], dtype: float64"
      ]
     },
     "metadata": {},
     "output_type": "display_data"
    },
    {
     "name": "stdout",
     "output_type": "stream",
     "text": [
      "Conteo de cada valor en ¿Qué tipo de aplicaciones utilizas en tu ordenador/tableta/móvil? (Respuesta múltiple) [3. Bibliotecas de fotos online (Google Photos, iPhoto, etc.)] expresada como valor / cantidad\n"
     ]
    },
    {
     "data": {
      "text/plain": [
       "0    142\n",
       "1     73\n",
       "Name: ¿Qué tipo de aplicaciones utilizas en tu ordenador/tableta/móvil? (Respuesta múltiple) [3. Bibliotecas de fotos online (Google Photos, iPhoto, etc.)], dtype: int64"
      ]
     },
     "metadata": {},
     "output_type": "display_data"
    },
    {
     "name": "stdout",
     "output_type": "stream",
     "text": [
      "Porcentaje de cada valor en ¿Qué tipo de aplicaciones utilizas en tu ordenador/tableta/móvil? (Respuesta múltiple) [3. Bibliotecas de fotos online (Google Photos, iPhoto, etc.)] expresado como valor / porcentaje\n"
     ]
    },
    {
     "data": {
      "text/plain": [
       "0    66.05\n",
       "1    33.95\n",
       "Name: ¿Qué tipo de aplicaciones utilizas en tu ordenador/tableta/móvil? (Respuesta múltiple) [3. Bibliotecas de fotos online (Google Photos, iPhoto, etc.)], dtype: float64"
      ]
     },
     "metadata": {},
     "output_type": "display_data"
    },
    {
     "data": {
      "application/vnd.plotly.v1+json": {
       "config": {
        "linkText": "Export to plot.ly",
        "plotlyServerURL": "https://plot.ly",
        "showLink": false
       },
       "data": [
        {
         "marker": {
          "color": [
           "rgb(213,62,79)",
           "rgb(252,141,89)",
           "rgb(254,224,139)",
           "rgb(230,245,152)",
           "rgb(153,213,148)",
           "rgb(50,136,189)"
          ]
         },
         "type": "bar",
         "uid": "29ddfed8-5c27-43e7-a40f-33a78016032a",
         "x": [
          0,
          1
         ],
         "y": [
          142,
          73
         ]
        }
       ],
       "layout": {
        "bargap": 0.2,
        "xaxis": {
         "ticktext": [
          "No",
          "Sí"
         ],
         "tickvals": [
          0,
          1
         ]
        }
       }
      },
      "text/html": [
       "<div id=\"d6acc0fd-926c-46b3-b128-19f8b34b767e\" style=\"height: 525px; width: 100%;\" class=\"plotly-graph-div\"></div><script type=\"text/javascript\">require([\"plotly\"], function(Plotly) { window.PLOTLYENV=window.PLOTLYENV || {};window.PLOTLYENV.BASE_URL=\"https://plot.ly\";\n",
       "if (document.getElementById(\"d6acc0fd-926c-46b3-b128-19f8b34b767e\")) {\n",
       "    Plotly.newPlot(\"d6acc0fd-926c-46b3-b128-19f8b34b767e\", [{\"marker\": {\"color\": [\"rgb(213,62,79)\", \"rgb(252,141,89)\", \"rgb(254,224,139)\", \"rgb(230,245,152)\", \"rgb(153,213,148)\", \"rgb(50,136,189)\"]}, \"x\": [0, 1], \"y\": [142, 73], \"type\": \"bar\", \"uid\": \"29ddfed8-5c27-43e7-a40f-33a78016032a\"}], {\"bargap\": 0.2, \"xaxis\": {\"ticktext\": [\"No\", \"S\\u00ed\"], \"tickvals\": [0, 1]}}, {\"showLink\": false, \"linkText\": \"Export to plot.ly\", \"plotlyServerURL\": \"https://plot.ly\"}); \n",
       "}\n",
       "});</script><script type=\"text/javascript\">window.addEventListener(\"resize\", function(){if (document.getElementById(\"d6acc0fd-926c-46b3-b128-19f8b34b767e\")) {window._Plotly.Plots.resize(document.getElementById(\"d6acc0fd-926c-46b3-b128-19f8b34b767e\"));};})</script>"
      ],
      "text/vnd.plotly.v1+html": [
       "<div id=\"d6acc0fd-926c-46b3-b128-19f8b34b767e\" style=\"height: 525px; width: 100%;\" class=\"plotly-graph-div\"></div><script type=\"text/javascript\">require([\"plotly\"], function(Plotly) { window.PLOTLYENV=window.PLOTLYENV || {};window.PLOTLYENV.BASE_URL=\"https://plot.ly\";\n",
       "if (document.getElementById(\"d6acc0fd-926c-46b3-b128-19f8b34b767e\")) {\n",
       "    Plotly.newPlot(\"d6acc0fd-926c-46b3-b128-19f8b34b767e\", [{\"marker\": {\"color\": [\"rgb(213,62,79)\", \"rgb(252,141,89)\", \"rgb(254,224,139)\", \"rgb(230,245,152)\", \"rgb(153,213,148)\", \"rgb(50,136,189)\"]}, \"x\": [0, 1], \"y\": [142, 73], \"type\": \"bar\", \"uid\": \"29ddfed8-5c27-43e7-a40f-33a78016032a\"}], {\"bargap\": 0.2, \"xaxis\": {\"ticktext\": [\"No\", \"S\\u00ed\"], \"tickvals\": [0, 1]}}, {\"showLink\": false, \"linkText\": \"Export to plot.ly\", \"plotlyServerURL\": \"https://plot.ly\"}); \n",
       "}\n",
       "});</script><script type=\"text/javascript\">window.addEventListener(\"resize\", function(){if (document.getElementById(\"d6acc0fd-926c-46b3-b128-19f8b34b767e\")) {window._Plotly.Plots.resize(document.getElementById(\"d6acc0fd-926c-46b3-b128-19f8b34b767e\"));};})</script>"
      ]
     },
     "metadata": {},
     "output_type": "display_data"
    },
    {
     "name": "stdout",
     "output_type": "stream",
     "text": [
      "\n",
      "\n",
      "Cluster 4 || variable: ¿Qué tipo de aplicaciones utilizas en tu ordenador/tableta/móvil? (Respuesta múltiple) [4. Redes sociales (Facebook, Instagram, Twitter, etc.).]\n",
      "Describiendo la pregunta ¿Qué tipo de aplicaciones utilizas en tu ordenador/tableta/móvil? (Respuesta múltiple) [4. Redes sociales (Facebook, Instagram, Twitter, etc.).]\n",
      "Valores numéricos asociados a las respuestas [0, 1]\n",
      "Respuestas posibles a la pregunta/variable ['No', 'Sí']\n"
     ]
    },
    {
     "data": {
      "text/plain": [
       "count    215.000000\n",
       "mean       0.613953\n",
       "std        0.487978\n",
       "min        0.000000\n",
       "25%        0.000000\n",
       "50%        1.000000\n",
       "75%        1.000000\n",
       "max        1.000000\n",
       "Name: ¿Qué tipo de aplicaciones utilizas en tu ordenador/tableta/móvil? (Respuesta múltiple) [4. Redes sociales (Facebook, Instagram, Twitter, etc.).], dtype: float64"
      ]
     },
     "metadata": {},
     "output_type": "display_data"
    },
    {
     "name": "stdout",
     "output_type": "stream",
     "text": [
      "Conteo de cada valor en ¿Qué tipo de aplicaciones utilizas en tu ordenador/tableta/móvil? (Respuesta múltiple) [4. Redes sociales (Facebook, Instagram, Twitter, etc.).] expresada como valor / cantidad\n"
     ]
    },
    {
     "data": {
      "text/plain": [
       "0     83\n",
       "1    132\n",
       "Name: ¿Qué tipo de aplicaciones utilizas en tu ordenador/tableta/móvil? (Respuesta múltiple) [4. Redes sociales (Facebook, Instagram, Twitter, etc.).], dtype: int64"
      ]
     },
     "metadata": {},
     "output_type": "display_data"
    },
    {
     "name": "stdout",
     "output_type": "stream",
     "text": [
      "Porcentaje de cada valor en ¿Qué tipo de aplicaciones utilizas en tu ordenador/tableta/móvil? (Respuesta múltiple) [4. Redes sociales (Facebook, Instagram, Twitter, etc.).] expresado como valor / porcentaje\n"
     ]
    },
    {
     "data": {
      "text/plain": [
       "0    38.6\n",
       "1    61.4\n",
       "Name: ¿Qué tipo de aplicaciones utilizas en tu ordenador/tableta/móvil? (Respuesta múltiple) [4. Redes sociales (Facebook, Instagram, Twitter, etc.).], dtype: float64"
      ]
     },
     "metadata": {},
     "output_type": "display_data"
    },
    {
     "data": {
      "application/vnd.plotly.v1+json": {
       "config": {
        "linkText": "Export to plot.ly",
        "plotlyServerURL": "https://plot.ly",
        "showLink": false
       },
       "data": [
        {
         "marker": {
          "color": [
           "rgb(213,62,79)",
           "rgb(252,141,89)",
           "rgb(254,224,139)",
           "rgb(230,245,152)",
           "rgb(153,213,148)",
           "rgb(50,136,189)"
          ]
         },
         "type": "bar",
         "uid": "5d4e386e-7425-4704-9252-ed44580b5394",
         "x": [
          0,
          1
         ],
         "y": [
          83,
          132
         ]
        }
       ],
       "layout": {
        "bargap": 0.2,
        "xaxis": {
         "ticktext": [
          "No",
          "Sí"
         ],
         "tickvals": [
          0,
          1
         ]
        }
       }
      },
      "text/html": [
       "<div id=\"1d36cf64-1fa0-405f-81a1-8dd081317f1b\" style=\"height: 525px; width: 100%;\" class=\"plotly-graph-div\"></div><script type=\"text/javascript\">require([\"plotly\"], function(Plotly) { window.PLOTLYENV=window.PLOTLYENV || {};window.PLOTLYENV.BASE_URL=\"https://plot.ly\";\n",
       "if (document.getElementById(\"1d36cf64-1fa0-405f-81a1-8dd081317f1b\")) {\n",
       "    Plotly.newPlot(\"1d36cf64-1fa0-405f-81a1-8dd081317f1b\", [{\"marker\": {\"color\": [\"rgb(213,62,79)\", \"rgb(252,141,89)\", \"rgb(254,224,139)\", \"rgb(230,245,152)\", \"rgb(153,213,148)\", \"rgb(50,136,189)\"]}, \"x\": [0, 1], \"y\": [83, 132], \"type\": \"bar\", \"uid\": \"5d4e386e-7425-4704-9252-ed44580b5394\"}], {\"bargap\": 0.2, \"xaxis\": {\"ticktext\": [\"No\", \"S\\u00ed\"], \"tickvals\": [0, 1]}}, {\"showLink\": false, \"linkText\": \"Export to plot.ly\", \"plotlyServerURL\": \"https://plot.ly\"}); \n",
       "}\n",
       "});</script><script type=\"text/javascript\">window.addEventListener(\"resize\", function(){if (document.getElementById(\"1d36cf64-1fa0-405f-81a1-8dd081317f1b\")) {window._Plotly.Plots.resize(document.getElementById(\"1d36cf64-1fa0-405f-81a1-8dd081317f1b\"));};})</script>"
      ],
      "text/vnd.plotly.v1+html": [
       "<div id=\"1d36cf64-1fa0-405f-81a1-8dd081317f1b\" style=\"height: 525px; width: 100%;\" class=\"plotly-graph-div\"></div><script type=\"text/javascript\">require([\"plotly\"], function(Plotly) { window.PLOTLYENV=window.PLOTLYENV || {};window.PLOTLYENV.BASE_URL=\"https://plot.ly\";\n",
       "if (document.getElementById(\"1d36cf64-1fa0-405f-81a1-8dd081317f1b\")) {\n",
       "    Plotly.newPlot(\"1d36cf64-1fa0-405f-81a1-8dd081317f1b\", [{\"marker\": {\"color\": [\"rgb(213,62,79)\", \"rgb(252,141,89)\", \"rgb(254,224,139)\", \"rgb(230,245,152)\", \"rgb(153,213,148)\", \"rgb(50,136,189)\"]}, \"x\": [0, 1], \"y\": [83, 132], \"type\": \"bar\", \"uid\": \"5d4e386e-7425-4704-9252-ed44580b5394\"}], {\"bargap\": 0.2, \"xaxis\": {\"ticktext\": [\"No\", \"S\\u00ed\"], \"tickvals\": [0, 1]}}, {\"showLink\": false, \"linkText\": \"Export to plot.ly\", \"plotlyServerURL\": \"https://plot.ly\"}); \n",
       "}\n",
       "});</script><script type=\"text/javascript\">window.addEventListener(\"resize\", function(){if (document.getElementById(\"1d36cf64-1fa0-405f-81a1-8dd081317f1b\")) {window._Plotly.Plots.resize(document.getElementById(\"1d36cf64-1fa0-405f-81a1-8dd081317f1b\"));};})</script>"
      ]
     },
     "metadata": {},
     "output_type": "display_data"
    },
    {
     "name": "stdout",
     "output_type": "stream",
     "text": [
      "\n",
      "\n",
      "Cluster 4 || variable: ¿Qué tipo de aplicaciones utilizas en tu ordenador/tableta/móvil? (Respuesta múltiple) [5. Aplicaciones de vídeo (Youtube, Vimeo, etc.).]\n",
      "Describiendo la pregunta ¿Qué tipo de aplicaciones utilizas en tu ordenador/tableta/móvil? (Respuesta múltiple) [5. Aplicaciones de vídeo (Youtube, Vimeo, etc.).]\n",
      "Valores numéricos asociados a las respuestas [0, 1]\n",
      "Respuestas posibles a la pregunta/variable ['No', 'Sí']\n"
     ]
    },
    {
     "data": {
      "text/plain": [
       "count    215.000000\n",
       "mean       0.497674\n",
       "std        0.501161\n",
       "min        0.000000\n",
       "25%        0.000000\n",
       "50%        0.000000\n",
       "75%        1.000000\n",
       "max        1.000000\n",
       "Name: ¿Qué tipo de aplicaciones utilizas en tu ordenador/tableta/móvil? (Respuesta múltiple) [5. Aplicaciones de vídeo (Youtube, Vimeo, etc.).], dtype: float64"
      ]
     },
     "metadata": {},
     "output_type": "display_data"
    },
    {
     "name": "stdout",
     "output_type": "stream",
     "text": [
      "Conteo de cada valor en ¿Qué tipo de aplicaciones utilizas en tu ordenador/tableta/móvil? (Respuesta múltiple) [5. Aplicaciones de vídeo (Youtube, Vimeo, etc.).] expresada como valor / cantidad\n"
     ]
    },
    {
     "data": {
      "text/plain": [
       "0    108\n",
       "1    107\n",
       "Name: ¿Qué tipo de aplicaciones utilizas en tu ordenador/tableta/móvil? (Respuesta múltiple) [5. Aplicaciones de vídeo (Youtube, Vimeo, etc.).], dtype: int64"
      ]
     },
     "metadata": {},
     "output_type": "display_data"
    },
    {
     "name": "stdout",
     "output_type": "stream",
     "text": [
      "Porcentaje de cada valor en ¿Qué tipo de aplicaciones utilizas en tu ordenador/tableta/móvil? (Respuesta múltiple) [5. Aplicaciones de vídeo (Youtube, Vimeo, etc.).] expresado como valor / porcentaje\n"
     ]
    },
    {
     "data": {
      "text/plain": [
       "0    50.23\n",
       "1    49.77\n",
       "Name: ¿Qué tipo de aplicaciones utilizas en tu ordenador/tableta/móvil? (Respuesta múltiple) [5. Aplicaciones de vídeo (Youtube, Vimeo, etc.).], dtype: float64"
      ]
     },
     "metadata": {},
     "output_type": "display_data"
    },
    {
     "data": {
      "application/vnd.plotly.v1+json": {
       "config": {
        "linkText": "Export to plot.ly",
        "plotlyServerURL": "https://plot.ly",
        "showLink": false
       },
       "data": [
        {
         "marker": {
          "color": [
           "rgb(213,62,79)",
           "rgb(252,141,89)",
           "rgb(254,224,139)",
           "rgb(230,245,152)",
           "rgb(153,213,148)",
           "rgb(50,136,189)"
          ]
         },
         "type": "bar",
         "uid": "df6fe32e-2250-4e3e-a8d0-e03c9199b87a",
         "x": [
          0,
          1
         ],
         "y": [
          108,
          107
         ]
        }
       ],
       "layout": {
        "bargap": 0.2,
        "xaxis": {
         "ticktext": [
          "No",
          "Sí"
         ],
         "tickvals": [
          0,
          1
         ]
        }
       }
      },
      "text/html": [
       "<div id=\"89fe269a-9e26-406e-be5e-7885ff5fc26e\" style=\"height: 525px; width: 100%;\" class=\"plotly-graph-div\"></div><script type=\"text/javascript\">require([\"plotly\"], function(Plotly) { window.PLOTLYENV=window.PLOTLYENV || {};window.PLOTLYENV.BASE_URL=\"https://plot.ly\";\n",
       "if (document.getElementById(\"89fe269a-9e26-406e-be5e-7885ff5fc26e\")) {\n",
       "    Plotly.newPlot(\"89fe269a-9e26-406e-be5e-7885ff5fc26e\", [{\"marker\": {\"color\": [\"rgb(213,62,79)\", \"rgb(252,141,89)\", \"rgb(254,224,139)\", \"rgb(230,245,152)\", \"rgb(153,213,148)\", \"rgb(50,136,189)\"]}, \"x\": [0, 1], \"y\": [108, 107], \"type\": \"bar\", \"uid\": \"df6fe32e-2250-4e3e-a8d0-e03c9199b87a\"}], {\"bargap\": 0.2, \"xaxis\": {\"ticktext\": [\"No\", \"S\\u00ed\"], \"tickvals\": [0, 1]}}, {\"showLink\": false, \"linkText\": \"Export to plot.ly\", \"plotlyServerURL\": \"https://plot.ly\"}); \n",
       "}\n",
       "});</script><script type=\"text/javascript\">window.addEventListener(\"resize\", function(){if (document.getElementById(\"89fe269a-9e26-406e-be5e-7885ff5fc26e\")) {window._Plotly.Plots.resize(document.getElementById(\"89fe269a-9e26-406e-be5e-7885ff5fc26e\"));};})</script>"
      ],
      "text/vnd.plotly.v1+html": [
       "<div id=\"89fe269a-9e26-406e-be5e-7885ff5fc26e\" style=\"height: 525px; width: 100%;\" class=\"plotly-graph-div\"></div><script type=\"text/javascript\">require([\"plotly\"], function(Plotly) { window.PLOTLYENV=window.PLOTLYENV || {};window.PLOTLYENV.BASE_URL=\"https://plot.ly\";\n",
       "if (document.getElementById(\"89fe269a-9e26-406e-be5e-7885ff5fc26e\")) {\n",
       "    Plotly.newPlot(\"89fe269a-9e26-406e-be5e-7885ff5fc26e\", [{\"marker\": {\"color\": [\"rgb(213,62,79)\", \"rgb(252,141,89)\", \"rgb(254,224,139)\", \"rgb(230,245,152)\", \"rgb(153,213,148)\", \"rgb(50,136,189)\"]}, \"x\": [0, 1], \"y\": [108, 107], \"type\": \"bar\", \"uid\": \"df6fe32e-2250-4e3e-a8d0-e03c9199b87a\"}], {\"bargap\": 0.2, \"xaxis\": {\"ticktext\": [\"No\", \"S\\u00ed\"], \"tickvals\": [0, 1]}}, {\"showLink\": false, \"linkText\": \"Export to plot.ly\", \"plotlyServerURL\": \"https://plot.ly\"}); \n",
       "}\n",
       "});</script><script type=\"text/javascript\">window.addEventListener(\"resize\", function(){if (document.getElementById(\"89fe269a-9e26-406e-be5e-7885ff5fc26e\")) {window._Plotly.Plots.resize(document.getElementById(\"89fe269a-9e26-406e-be5e-7885ff5fc26e\"));};})</script>"
      ]
     },
     "metadata": {},
     "output_type": "display_data"
    },
    {
     "name": "stdout",
     "output_type": "stream",
     "text": [
      "\n",
      "\n",
      "Cluster 4 || variable: ¿Qué tipo de aplicaciones utilizas en tu ordenador/tableta/móvil? (Respuesta múltiple) [Otro]\n",
      "Describiendo la pregunta ¿Qué tipo de aplicaciones utilizas en tu ordenador/tableta/móvil? (Respuesta múltiple) [Otro]\n",
      "\n",
      "\n",
      "Cluster 4 || variable: Durante ese uso, ¿cuántas imágenes consumes (ves y compartes)?\n",
      "Describiendo la pregunta Durante ese uso, ¿cuántas imágenes consumes (ves y compartes)?\n",
      "Valores numéricos asociados a las respuestas [1, 2, 3, 4, 5]\n",
      "Respuestas posibles a la pregunta/variable ['1. Ninguna', '2. Pocas', '3. Ni muchas ni pocas', '4. Bastantes', '5. Recibo y envio imágenes de forma constante']\n"
     ]
    },
    {
     "data": {
      "text/plain": [
       "count    215.000000\n",
       "mean       3.325581\n",
       "std        0.935313\n",
       "min        1.000000\n",
       "25%        3.000000\n",
       "50%        3.000000\n",
       "75%        4.000000\n",
       "max        5.000000\n",
       "Name: Durante ese uso, ¿cuántas imágenes consumes (ves y compartes)?, dtype: float64"
      ]
     },
     "metadata": {},
     "output_type": "display_data"
    },
    {
     "name": "stdout",
     "output_type": "stream",
     "text": [
      "Conteo de cada valor en Durante ese uso, ¿cuántas imágenes consumes (ves y compartes)? expresada como valor / cantidad\n"
     ]
    },
    {
     "data": {
      "text/plain": [
       "1     5\n",
       "2    39\n",
       "3    68\n",
       "4    87\n",
       "5    16\n",
       "Name: Durante ese uso, ¿cuántas imágenes consumes (ves y compartes)?, dtype: int64"
      ]
     },
     "metadata": {},
     "output_type": "display_data"
    },
    {
     "name": "stdout",
     "output_type": "stream",
     "text": [
      "Porcentaje de cada valor en Durante ese uso, ¿cuántas imágenes consumes (ves y compartes)? expresado como valor / porcentaje\n"
     ]
    },
    {
     "data": {
      "text/plain": [
       "1     2.33\n",
       "2    18.14\n",
       "3    31.63\n",
       "4    40.47\n",
       "5     7.44\n",
       "Name: Durante ese uso, ¿cuántas imágenes consumes (ves y compartes)?, dtype: float64"
      ]
     },
     "metadata": {},
     "output_type": "display_data"
    },
    {
     "data": {
      "application/vnd.plotly.v1+json": {
       "config": {
        "linkText": "Export to plot.ly",
        "plotlyServerURL": "https://plot.ly",
        "showLink": false
       },
       "data": [
        {
         "marker": {
          "color": [
           "rgb(213,62,79)",
           "rgb(252,141,89)",
           "rgb(254,224,139)",
           "rgb(230,245,152)",
           "rgb(153,213,148)",
           "rgb(50,136,189)"
          ]
         },
         "type": "bar",
         "uid": "c1fe8772-ee9b-47c9-82e9-94e5dabe672a",
         "x": [
          1,
          2,
          3,
          4,
          5
         ],
         "y": [
          5,
          39,
          68,
          87,
          16
         ]
        }
       ],
       "layout": {
        "bargap": 0.2,
        "xaxis": {
         "ticktext": [
          "1. Ninguna",
          "2. Pocas",
          "3. Ni muchas ni pocas",
          "4. Bastantes",
          "5. Recibo y envio imágenes de forma constante"
         ],
         "tickvals": [
          1,
          2,
          3,
          4,
          5
         ]
        }
       }
      },
      "text/html": [
       "<div id=\"d112452a-4d99-40fa-b248-c9f3c01a7d19\" style=\"height: 525px; width: 100%;\" class=\"plotly-graph-div\"></div><script type=\"text/javascript\">require([\"plotly\"], function(Plotly) { window.PLOTLYENV=window.PLOTLYENV || {};window.PLOTLYENV.BASE_URL=\"https://plot.ly\";\n",
       "if (document.getElementById(\"d112452a-4d99-40fa-b248-c9f3c01a7d19\")) {\n",
       "    Plotly.newPlot(\"d112452a-4d99-40fa-b248-c9f3c01a7d19\", [{\"marker\": {\"color\": [\"rgb(213,62,79)\", \"rgb(252,141,89)\", \"rgb(254,224,139)\", \"rgb(230,245,152)\", \"rgb(153,213,148)\", \"rgb(50,136,189)\"]}, \"x\": [1, 2, 3, 4, 5], \"y\": [5, 39, 68, 87, 16], \"type\": \"bar\", \"uid\": \"c1fe8772-ee9b-47c9-82e9-94e5dabe672a\"}], {\"bargap\": 0.2, \"xaxis\": {\"ticktext\": [\"1. Ninguna\", \"2. Pocas\", \"3. Ni muchas ni pocas\", \"4. Bastantes\", \"5. Recibo y envio im\\u00e1genes de forma constante\"], \"tickvals\": [1, 2, 3, 4, 5]}}, {\"showLink\": false, \"linkText\": \"Export to plot.ly\", \"plotlyServerURL\": \"https://plot.ly\"}); \n",
       "}\n",
       "});</script><script type=\"text/javascript\">window.addEventListener(\"resize\", function(){if (document.getElementById(\"d112452a-4d99-40fa-b248-c9f3c01a7d19\")) {window._Plotly.Plots.resize(document.getElementById(\"d112452a-4d99-40fa-b248-c9f3c01a7d19\"));};})</script>"
      ],
      "text/vnd.plotly.v1+html": [
       "<div id=\"d112452a-4d99-40fa-b248-c9f3c01a7d19\" style=\"height: 525px; width: 100%;\" class=\"plotly-graph-div\"></div><script type=\"text/javascript\">require([\"plotly\"], function(Plotly) { window.PLOTLYENV=window.PLOTLYENV || {};window.PLOTLYENV.BASE_URL=\"https://plot.ly\";\n",
       "if (document.getElementById(\"d112452a-4d99-40fa-b248-c9f3c01a7d19\")) {\n",
       "    Plotly.newPlot(\"d112452a-4d99-40fa-b248-c9f3c01a7d19\", [{\"marker\": {\"color\": [\"rgb(213,62,79)\", \"rgb(252,141,89)\", \"rgb(254,224,139)\", \"rgb(230,245,152)\", \"rgb(153,213,148)\", \"rgb(50,136,189)\"]}, \"x\": [1, 2, 3, 4, 5], \"y\": [5, 39, 68, 87, 16], \"type\": \"bar\", \"uid\": \"c1fe8772-ee9b-47c9-82e9-94e5dabe672a\"}], {\"bargap\": 0.2, \"xaxis\": {\"ticktext\": [\"1. Ninguna\", \"2. Pocas\", \"3. Ni muchas ni pocas\", \"4. Bastantes\", \"5. Recibo y envio im\\u00e1genes de forma constante\"], \"tickvals\": [1, 2, 3, 4, 5]}}, {\"showLink\": false, \"linkText\": \"Export to plot.ly\", \"plotlyServerURL\": \"https://plot.ly\"}); \n",
       "}\n",
       "});</script><script type=\"text/javascript\">window.addEventListener(\"resize\", function(){if (document.getElementById(\"d112452a-4d99-40fa-b248-c9f3c01a7d19\")) {window._Plotly.Plots.resize(document.getElementById(\"d112452a-4d99-40fa-b248-c9f3c01a7d19\"));};})</script>"
      ]
     },
     "metadata": {},
     "output_type": "display_data"
    },
    {
     "name": "stdout",
     "output_type": "stream",
     "text": [
      "\n",
      "\n",
      "Cluster 4 || variable: ¿Cuál es tu herramienta habitual de consumo de imágenes?\n",
      "Describiendo la pregunta ¿Cuál es tu herramienta habitual de consumo de imágenes?\n",
      "Valores numéricos asociados a las respuestas [1, 2, 3, 4, 5]\n",
      "Respuestas posibles a la pregunta/variable ['1. Móvil', '2. Televisión', '3. Ordenador', '4. Tableta', '5. Otros (Libros y periódicos en papel, marquesinas, museos...)']\n"
     ]
    },
    {
     "data": {
      "text/plain": [
       "count    215.000000\n",
       "mean       1.948837\n",
       "std        1.019523\n",
       "min        1.000000\n",
       "25%        1.000000\n",
       "50%        1.000000\n",
       "75%        3.000000\n",
       "max        5.000000\n",
       "Name: ¿Cuál es tu herramienta habitual de consumo de imágenes?, dtype: float64"
      ]
     },
     "metadata": {},
     "output_type": "display_data"
    },
    {
     "name": "stdout",
     "output_type": "stream",
     "text": [
      "Conteo de cada valor en ¿Cuál es tu herramienta habitual de consumo de imágenes? expresada como valor / cantidad\n"
     ]
    },
    {
     "data": {
      "text/plain": [
       "1    108\n",
       "2     18\n",
       "3     82\n",
       "4      6\n",
       "5      1\n",
       "Name: ¿Cuál es tu herramienta habitual de consumo de imágenes?, dtype: int64"
      ]
     },
     "metadata": {},
     "output_type": "display_data"
    },
    {
     "name": "stdout",
     "output_type": "stream",
     "text": [
      "Porcentaje de cada valor en ¿Cuál es tu herramienta habitual de consumo de imágenes? expresado como valor / porcentaje\n"
     ]
    },
    {
     "data": {
      "text/plain": [
       "1    50.23\n",
       "2     8.37\n",
       "3    38.14\n",
       "4     2.79\n",
       "5     0.47\n",
       "Name: ¿Cuál es tu herramienta habitual de consumo de imágenes?, dtype: float64"
      ]
     },
     "metadata": {},
     "output_type": "display_data"
    },
    {
     "data": {
      "application/vnd.plotly.v1+json": {
       "config": {
        "linkText": "Export to plot.ly",
        "plotlyServerURL": "https://plot.ly",
        "showLink": false
       },
       "data": [
        {
         "marker": {
          "color": [
           "rgb(213,62,79)",
           "rgb(252,141,89)",
           "rgb(254,224,139)",
           "rgb(230,245,152)",
           "rgb(153,213,148)",
           "rgb(50,136,189)"
          ]
         },
         "type": "bar",
         "uid": "e01e29a8-9c70-4918-8089-100b13cbc31a",
         "x": [
          1,
          2,
          3,
          4,
          5
         ],
         "y": [
          108,
          18,
          82,
          6,
          1
         ]
        }
       ],
       "layout": {
        "bargap": 0.2,
        "xaxis": {
         "ticktext": [
          "1. Móvil",
          "2. Televisión",
          "3. Ordenador",
          "4. Tableta",
          "5. Otros (Libros y periódicos en papel, marquesinas, museos...)"
         ],
         "tickvals": [
          1,
          2,
          3,
          4,
          5
         ]
        }
       }
      },
      "text/html": [
       "<div id=\"1ccbf01f-1718-4de3-a2e9-af775823abb5\" style=\"height: 525px; width: 100%;\" class=\"plotly-graph-div\"></div><script type=\"text/javascript\">require([\"plotly\"], function(Plotly) { window.PLOTLYENV=window.PLOTLYENV || {};window.PLOTLYENV.BASE_URL=\"https://plot.ly\";\n",
       "if (document.getElementById(\"1ccbf01f-1718-4de3-a2e9-af775823abb5\")) {\n",
       "    Plotly.newPlot(\"1ccbf01f-1718-4de3-a2e9-af775823abb5\", [{\"marker\": {\"color\": [\"rgb(213,62,79)\", \"rgb(252,141,89)\", \"rgb(254,224,139)\", \"rgb(230,245,152)\", \"rgb(153,213,148)\", \"rgb(50,136,189)\"]}, \"x\": [1, 2, 3, 4, 5], \"y\": [108, 18, 82, 6, 1], \"type\": \"bar\", \"uid\": \"e01e29a8-9c70-4918-8089-100b13cbc31a\"}], {\"bargap\": 0.2, \"xaxis\": {\"ticktext\": [\"1. M\\u00f3vil\", \"2. Televisi\\u00f3n\", \"3. Ordenador\", \"4. Tableta\", \"5. Otros (Libros y peri\\u00f3dicos en papel, marquesinas, museos...)\"], \"tickvals\": [1, 2, 3, 4, 5]}}, {\"showLink\": false, \"linkText\": \"Export to plot.ly\", \"plotlyServerURL\": \"https://plot.ly\"}); \n",
       "}\n",
       "});</script><script type=\"text/javascript\">window.addEventListener(\"resize\", function(){if (document.getElementById(\"1ccbf01f-1718-4de3-a2e9-af775823abb5\")) {window._Plotly.Plots.resize(document.getElementById(\"1ccbf01f-1718-4de3-a2e9-af775823abb5\"));};})</script>"
      ],
      "text/vnd.plotly.v1+html": [
       "<div id=\"1ccbf01f-1718-4de3-a2e9-af775823abb5\" style=\"height: 525px; width: 100%;\" class=\"plotly-graph-div\"></div><script type=\"text/javascript\">require([\"plotly\"], function(Plotly) { window.PLOTLYENV=window.PLOTLYENV || {};window.PLOTLYENV.BASE_URL=\"https://plot.ly\";\n",
       "if (document.getElementById(\"1ccbf01f-1718-4de3-a2e9-af775823abb5\")) {\n",
       "    Plotly.newPlot(\"1ccbf01f-1718-4de3-a2e9-af775823abb5\", [{\"marker\": {\"color\": [\"rgb(213,62,79)\", \"rgb(252,141,89)\", \"rgb(254,224,139)\", \"rgb(230,245,152)\", \"rgb(153,213,148)\", \"rgb(50,136,189)\"]}, \"x\": [1, 2, 3, 4, 5], \"y\": [108, 18, 82, 6, 1], \"type\": \"bar\", \"uid\": \"e01e29a8-9c70-4918-8089-100b13cbc31a\"}], {\"bargap\": 0.2, \"xaxis\": {\"ticktext\": [\"1. M\\u00f3vil\", \"2. Televisi\\u00f3n\", \"3. Ordenador\", \"4. Tableta\", \"5. Otros (Libros y peri\\u00f3dicos en papel, marquesinas, museos...)\"], \"tickvals\": [1, 2, 3, 4, 5]}}, {\"showLink\": false, \"linkText\": \"Export to plot.ly\", \"plotlyServerURL\": \"https://plot.ly\"}); \n",
       "}\n",
       "});</script><script type=\"text/javascript\">window.addEventListener(\"resize\", function(){if (document.getElementById(\"1ccbf01f-1718-4de3-a2e9-af775823abb5\")) {window._Plotly.Plots.resize(document.getElementById(\"1ccbf01f-1718-4de3-a2e9-af775823abb5\"));};})</script>"
      ]
     },
     "metadata": {},
     "output_type": "display_data"
    },
    {
     "name": "stdout",
     "output_type": "stream",
     "text": [
      "\n",
      "\n",
      "Cluster 4 || variable: ¿Cada cuánto tiempo consumes imágenes?\n",
      "Describiendo la pregunta ¿Cada cuánto tiempo consumes imágenes?\n",
      "Valores numéricos asociados a las respuestas [1, 2, 3, 4]\n",
      "Respuestas posibles a la pregunta/variable ['1. Nunca', '2. Dos o tres veces por semana', '3. Casi todos los días', '4. A diario']\n"
     ]
    },
    {
     "data": {
      "text/plain": [
       "count    215.000000\n",
       "mean       2.934884\n",
       "std        0.894136\n",
       "min        1.000000\n",
       "25%        2.000000\n",
       "50%        3.000000\n",
       "75%        4.000000\n",
       "max        4.000000\n",
       "Name: ¿Cada cuánto tiempo consumes imágenes?, dtype: float64"
      ]
     },
     "metadata": {},
     "output_type": "display_data"
    },
    {
     "name": "stdout",
     "output_type": "stream",
     "text": [
      "Conteo de cada valor en ¿Cada cuánto tiempo consumes imágenes? expresada como valor / cantidad\n"
     ]
    },
    {
     "data": {
      "text/plain": [
       "1    11\n",
       "2    60\n",
       "3    76\n",
       "4    68\n",
       "Name: ¿Cada cuánto tiempo consumes imágenes?, dtype: int64"
      ]
     },
     "metadata": {},
     "output_type": "display_data"
    },
    {
     "name": "stdout",
     "output_type": "stream",
     "text": [
      "Porcentaje de cada valor en ¿Cada cuánto tiempo consumes imágenes? expresado como valor / porcentaje\n"
     ]
    },
    {
     "data": {
      "text/plain": [
       "1     5.12\n",
       "2    27.91\n",
       "3    35.35\n",
       "4    31.63\n",
       "Name: ¿Cada cuánto tiempo consumes imágenes?, dtype: float64"
      ]
     },
     "metadata": {},
     "output_type": "display_data"
    },
    {
     "data": {
      "application/vnd.plotly.v1+json": {
       "config": {
        "linkText": "Export to plot.ly",
        "plotlyServerURL": "https://plot.ly",
        "showLink": false
       },
       "data": [
        {
         "marker": {
          "color": [
           "rgb(213,62,79)",
           "rgb(252,141,89)",
           "rgb(254,224,139)",
           "rgb(230,245,152)",
           "rgb(153,213,148)",
           "rgb(50,136,189)"
          ]
         },
         "type": "bar",
         "uid": "f7c79151-2698-403c-a2d3-e5d0716c984f",
         "x": [
          1,
          2,
          3,
          4
         ],
         "y": [
          11,
          60,
          76,
          68
         ]
        }
       ],
       "layout": {
        "bargap": 0.2,
        "xaxis": {
         "ticktext": [
          "1. Nunca",
          "2. Dos o tres veces por semana",
          "3. Casi todos los días",
          "4. A diario"
         ],
         "tickvals": [
          1,
          2,
          3,
          4
         ]
        }
       }
      },
      "text/html": [
       "<div id=\"bbfe9909-9e09-45b3-b9f3-95444be3854c\" style=\"height: 525px; width: 100%;\" class=\"plotly-graph-div\"></div><script type=\"text/javascript\">require([\"plotly\"], function(Plotly) { window.PLOTLYENV=window.PLOTLYENV || {};window.PLOTLYENV.BASE_URL=\"https://plot.ly\";\n",
       "if (document.getElementById(\"bbfe9909-9e09-45b3-b9f3-95444be3854c\")) {\n",
       "    Plotly.newPlot(\"bbfe9909-9e09-45b3-b9f3-95444be3854c\", [{\"marker\": {\"color\": [\"rgb(213,62,79)\", \"rgb(252,141,89)\", \"rgb(254,224,139)\", \"rgb(230,245,152)\", \"rgb(153,213,148)\", \"rgb(50,136,189)\"]}, \"x\": [1, 2, 3, 4], \"y\": [11, 60, 76, 68], \"type\": \"bar\", \"uid\": \"f7c79151-2698-403c-a2d3-e5d0716c984f\"}], {\"bargap\": 0.2, \"xaxis\": {\"ticktext\": [\"1. Nunca\", \"2. Dos o tres veces por semana\", \"3. Casi todos los d\\u00edas\", \"4. A diario\"], \"tickvals\": [1, 2, 3, 4]}}, {\"showLink\": false, \"linkText\": \"Export to plot.ly\", \"plotlyServerURL\": \"https://plot.ly\"}); \n",
       "}\n",
       "});</script><script type=\"text/javascript\">window.addEventListener(\"resize\", function(){if (document.getElementById(\"bbfe9909-9e09-45b3-b9f3-95444be3854c\")) {window._Plotly.Plots.resize(document.getElementById(\"bbfe9909-9e09-45b3-b9f3-95444be3854c\"));};})</script>"
      ],
      "text/vnd.plotly.v1+html": [
       "<div id=\"bbfe9909-9e09-45b3-b9f3-95444be3854c\" style=\"height: 525px; width: 100%;\" class=\"plotly-graph-div\"></div><script type=\"text/javascript\">require([\"plotly\"], function(Plotly) { window.PLOTLYENV=window.PLOTLYENV || {};window.PLOTLYENV.BASE_URL=\"https://plot.ly\";\n",
       "if (document.getElementById(\"bbfe9909-9e09-45b3-b9f3-95444be3854c\")) {\n",
       "    Plotly.newPlot(\"bbfe9909-9e09-45b3-b9f3-95444be3854c\", [{\"marker\": {\"color\": [\"rgb(213,62,79)\", \"rgb(252,141,89)\", \"rgb(254,224,139)\", \"rgb(230,245,152)\", \"rgb(153,213,148)\", \"rgb(50,136,189)\"]}, \"x\": [1, 2, 3, 4], \"y\": [11, 60, 76, 68], \"type\": \"bar\", \"uid\": \"f7c79151-2698-403c-a2d3-e5d0716c984f\"}], {\"bargap\": 0.2, \"xaxis\": {\"ticktext\": [\"1. Nunca\", \"2. Dos o tres veces por semana\", \"3. Casi todos los d\\u00edas\", \"4. A diario\"], \"tickvals\": [1, 2, 3, 4]}}, {\"showLink\": false, \"linkText\": \"Export to plot.ly\", \"plotlyServerURL\": \"https://plot.ly\"}); \n",
       "}\n",
       "});</script><script type=\"text/javascript\">window.addEventListener(\"resize\", function(){if (document.getElementById(\"bbfe9909-9e09-45b3-b9f3-95444be3854c\")) {window._Plotly.Plots.resize(document.getElementById(\"bbfe9909-9e09-45b3-b9f3-95444be3854c\"));};})</script>"
      ]
     },
     "metadata": {},
     "output_type": "display_data"
    },
    {
     "name": "stdout",
     "output_type": "stream",
     "text": [
      "\n",
      "\n",
      "Cluster 3 || variable: Clasifica tu grado de visión\n",
      "Describiendo la pregunta Clasifica tu grado de visión\n",
      "Valores numéricos asociados a las respuestas [1, 2, 3, 4, 5]\n",
      "Respuestas posibles a la pregunta/variable ['1. Muy malo', '2. Malo', '3. Regular', '4. Bueno', '5. Muy bueno']\n"
     ]
    },
    {
     "data": {
      "text/plain": [
       "count    27.000000\n",
       "mean      3.777778\n",
       "std       0.847319\n",
       "min       2.000000\n",
       "25%       3.000000\n",
       "50%       4.000000\n",
       "75%       4.000000\n",
       "max       5.000000\n",
       "Name: Clasifica tu grado de visión, dtype: float64"
      ]
     },
     "metadata": {},
     "output_type": "display_data"
    },
    {
     "name": "stdout",
     "output_type": "stream",
     "text": [
      "Conteo de cada valor en Clasifica tu grado de visión expresada como valor / cantidad\n"
     ]
    },
    {
     "data": {
      "text/plain": [
       "2     2\n",
       "3     7\n",
       "4    13\n",
       "5     5\n",
       "Name: Clasifica tu grado de visión, dtype: int64"
      ]
     },
     "metadata": {},
     "output_type": "display_data"
    },
    {
     "name": "stdout",
     "output_type": "stream",
     "text": [
      "Porcentaje de cada valor en Clasifica tu grado de visión expresado como valor / porcentaje\n"
     ]
    },
    {
     "data": {
      "text/plain": [
       "2     7.41\n",
       "3    25.93\n",
       "4    48.15\n",
       "5    18.52\n",
       "Name: Clasifica tu grado de visión, dtype: float64"
      ]
     },
     "metadata": {},
     "output_type": "display_data"
    },
    {
     "data": {
      "application/vnd.plotly.v1+json": {
       "config": {
        "linkText": "Export to plot.ly",
        "plotlyServerURL": "https://plot.ly",
        "showLink": false
       },
       "data": [
        {
         "marker": {
          "color": [
           "rgb(213,62,79)",
           "rgb(252,141,89)",
           "rgb(254,224,139)",
           "rgb(230,245,152)",
           "rgb(153,213,148)",
           "rgb(50,136,189)"
          ]
         },
         "type": "bar",
         "uid": "cb7c636f-632f-4969-a3bb-f549e7f5749c",
         "x": [
          2,
          3,
          4,
          5
         ],
         "y": [
          2,
          7,
          13,
          5
         ]
        }
       ],
       "layout": {
        "bargap": 0.2,
        "xaxis": {
         "ticktext": [
          "1. Muy malo",
          "2. Malo",
          "3. Regular",
          "4. Bueno",
          "5. Muy bueno"
         ],
         "tickvals": [
          1,
          2,
          3,
          4,
          5
         ]
        }
       }
      },
      "text/html": [
       "<div id=\"936aeb6d-9367-43c2-8340-1f082dfee3bd\" style=\"height: 525px; width: 100%;\" class=\"plotly-graph-div\"></div><script type=\"text/javascript\">require([\"plotly\"], function(Plotly) { window.PLOTLYENV=window.PLOTLYENV || {};window.PLOTLYENV.BASE_URL=\"https://plot.ly\";\n",
       "if (document.getElementById(\"936aeb6d-9367-43c2-8340-1f082dfee3bd\")) {\n",
       "    Plotly.newPlot(\"936aeb6d-9367-43c2-8340-1f082dfee3bd\", [{\"marker\": {\"color\": [\"rgb(213,62,79)\", \"rgb(252,141,89)\", \"rgb(254,224,139)\", \"rgb(230,245,152)\", \"rgb(153,213,148)\", \"rgb(50,136,189)\"]}, \"x\": [2, 3, 4, 5], \"y\": [2, 7, 13, 5], \"type\": \"bar\", \"uid\": \"cb7c636f-632f-4969-a3bb-f549e7f5749c\"}], {\"bargap\": 0.2, \"xaxis\": {\"ticktext\": [\"1. Muy malo\", \"2. Malo\", \"3. Regular\", \"4. Bueno\", \"5. Muy bueno\"], \"tickvals\": [1, 2, 3, 4, 5]}}, {\"showLink\": false, \"linkText\": \"Export to plot.ly\", \"plotlyServerURL\": \"https://plot.ly\"}); \n",
       "}\n",
       "});</script><script type=\"text/javascript\">window.addEventListener(\"resize\", function(){if (document.getElementById(\"936aeb6d-9367-43c2-8340-1f082dfee3bd\")) {window._Plotly.Plots.resize(document.getElementById(\"936aeb6d-9367-43c2-8340-1f082dfee3bd\"));};})</script>"
      ],
      "text/vnd.plotly.v1+html": [
       "<div id=\"936aeb6d-9367-43c2-8340-1f082dfee3bd\" style=\"height: 525px; width: 100%;\" class=\"plotly-graph-div\"></div><script type=\"text/javascript\">require([\"plotly\"], function(Plotly) { window.PLOTLYENV=window.PLOTLYENV || {};window.PLOTLYENV.BASE_URL=\"https://plot.ly\";\n",
       "if (document.getElementById(\"936aeb6d-9367-43c2-8340-1f082dfee3bd\")) {\n",
       "    Plotly.newPlot(\"936aeb6d-9367-43c2-8340-1f082dfee3bd\", [{\"marker\": {\"color\": [\"rgb(213,62,79)\", \"rgb(252,141,89)\", \"rgb(254,224,139)\", \"rgb(230,245,152)\", \"rgb(153,213,148)\", \"rgb(50,136,189)\"]}, \"x\": [2, 3, 4, 5], \"y\": [2, 7, 13, 5], \"type\": \"bar\", \"uid\": \"cb7c636f-632f-4969-a3bb-f549e7f5749c\"}], {\"bargap\": 0.2, \"xaxis\": {\"ticktext\": [\"1. Muy malo\", \"2. Malo\", \"3. Regular\", \"4. Bueno\", \"5. Muy bueno\"], \"tickvals\": [1, 2, 3, 4, 5]}}, {\"showLink\": false, \"linkText\": \"Export to plot.ly\", \"plotlyServerURL\": \"https://plot.ly\"}); \n",
       "}\n",
       "});</script><script type=\"text/javascript\">window.addEventListener(\"resize\", function(){if (document.getElementById(\"936aeb6d-9367-43c2-8340-1f082dfee3bd\")) {window._Plotly.Plots.resize(document.getElementById(\"936aeb6d-9367-43c2-8340-1f082dfee3bd\"));};})</script>"
      ]
     },
     "metadata": {},
     "output_type": "display_data"
    },
    {
     "name": "stdout",
     "output_type": "stream",
     "text": [
      "\n",
      "\n",
      "Cluster 3 || variable: ¿Utilizas gafas o lentes de contacto?\n",
      "Describiendo la pregunta ¿Utilizas gafas o lentes de contacto?\n",
      "Valores numéricos asociados a las respuestas [0, 1]\n",
      "Respuestas posibles a la pregunta/variable ['No', 'Sí']\n"
     ]
    },
    {
     "data": {
      "text/plain": [
       "count    27.000000\n",
       "mean      0.703704\n",
       "std       0.465322\n",
       "min       0.000000\n",
       "25%       0.000000\n",
       "50%       1.000000\n",
       "75%       1.000000\n",
       "max       1.000000\n",
       "Name: ¿Utilizas gafas o lentes de contacto?, dtype: float64"
      ]
     },
     "metadata": {},
     "output_type": "display_data"
    },
    {
     "name": "stdout",
     "output_type": "stream",
     "text": [
      "Conteo de cada valor en ¿Utilizas gafas o lentes de contacto? expresada como valor / cantidad\n"
     ]
    },
    {
     "data": {
      "text/plain": [
       "0     8\n",
       "1    19\n",
       "Name: ¿Utilizas gafas o lentes de contacto?, dtype: int64"
      ]
     },
     "metadata": {},
     "output_type": "display_data"
    },
    {
     "name": "stdout",
     "output_type": "stream",
     "text": [
      "Porcentaje de cada valor en ¿Utilizas gafas o lentes de contacto? expresado como valor / porcentaje\n"
     ]
    },
    {
     "data": {
      "text/plain": [
       "0    29.63\n",
       "1    70.37\n",
       "Name: ¿Utilizas gafas o lentes de contacto?, dtype: float64"
      ]
     },
     "metadata": {},
     "output_type": "display_data"
    },
    {
     "data": {
      "application/vnd.plotly.v1+json": {
       "config": {
        "linkText": "Export to plot.ly",
        "plotlyServerURL": "https://plot.ly",
        "showLink": false
       },
       "data": [
        {
         "marker": {
          "color": [
           "rgb(213,62,79)",
           "rgb(252,141,89)",
           "rgb(254,224,139)",
           "rgb(230,245,152)",
           "rgb(153,213,148)",
           "rgb(50,136,189)"
          ]
         },
         "type": "bar",
         "uid": "4028332f-0cad-492b-b08e-478014239565",
         "x": [
          0,
          1
         ],
         "y": [
          8,
          19
         ]
        }
       ],
       "layout": {
        "bargap": 0.2,
        "xaxis": {
         "ticktext": [
          "No",
          "Sí"
         ],
         "tickvals": [
          0,
          1
         ]
        }
       }
      },
      "text/html": [
       "<div id=\"846d1f83-f156-41d5-a81b-0a25e9126f9a\" style=\"height: 525px; width: 100%;\" class=\"plotly-graph-div\"></div><script type=\"text/javascript\">require([\"plotly\"], function(Plotly) { window.PLOTLYENV=window.PLOTLYENV || {};window.PLOTLYENV.BASE_URL=\"https://plot.ly\";\n",
       "if (document.getElementById(\"846d1f83-f156-41d5-a81b-0a25e9126f9a\")) {\n",
       "    Plotly.newPlot(\"846d1f83-f156-41d5-a81b-0a25e9126f9a\", [{\"marker\": {\"color\": [\"rgb(213,62,79)\", \"rgb(252,141,89)\", \"rgb(254,224,139)\", \"rgb(230,245,152)\", \"rgb(153,213,148)\", \"rgb(50,136,189)\"]}, \"x\": [0, 1], \"y\": [8, 19], \"type\": \"bar\", \"uid\": \"4028332f-0cad-492b-b08e-478014239565\"}], {\"bargap\": 0.2, \"xaxis\": {\"ticktext\": [\"No\", \"S\\u00ed\"], \"tickvals\": [0, 1]}}, {\"showLink\": false, \"linkText\": \"Export to plot.ly\", \"plotlyServerURL\": \"https://plot.ly\"}); \n",
       "}\n",
       "});</script><script type=\"text/javascript\">window.addEventListener(\"resize\", function(){if (document.getElementById(\"846d1f83-f156-41d5-a81b-0a25e9126f9a\")) {window._Plotly.Plots.resize(document.getElementById(\"846d1f83-f156-41d5-a81b-0a25e9126f9a\"));};})</script>"
      ],
      "text/vnd.plotly.v1+html": [
       "<div id=\"846d1f83-f156-41d5-a81b-0a25e9126f9a\" style=\"height: 525px; width: 100%;\" class=\"plotly-graph-div\"></div><script type=\"text/javascript\">require([\"plotly\"], function(Plotly) { window.PLOTLYENV=window.PLOTLYENV || {};window.PLOTLYENV.BASE_URL=\"https://plot.ly\";\n",
       "if (document.getElementById(\"846d1f83-f156-41d5-a81b-0a25e9126f9a\")) {\n",
       "    Plotly.newPlot(\"846d1f83-f156-41d5-a81b-0a25e9126f9a\", [{\"marker\": {\"color\": [\"rgb(213,62,79)\", \"rgb(252,141,89)\", \"rgb(254,224,139)\", \"rgb(230,245,152)\", \"rgb(153,213,148)\", \"rgb(50,136,189)\"]}, \"x\": [0, 1], \"y\": [8, 19], \"type\": \"bar\", \"uid\": \"4028332f-0cad-492b-b08e-478014239565\"}], {\"bargap\": 0.2, \"xaxis\": {\"ticktext\": [\"No\", \"S\\u00ed\"], \"tickvals\": [0, 1]}}, {\"showLink\": false, \"linkText\": \"Export to plot.ly\", \"plotlyServerURL\": \"https://plot.ly\"}); \n",
       "}\n",
       "});</script><script type=\"text/javascript\">window.addEventListener(\"resize\", function(){if (document.getElementById(\"846d1f83-f156-41d5-a81b-0a25e9126f9a\")) {window._Plotly.Plots.resize(document.getElementById(\"846d1f83-f156-41d5-a81b-0a25e9126f9a\"));};})</script>"
      ]
     },
     "metadata": {},
     "output_type": "display_data"
    },
    {
     "name": "stdout",
     "output_type": "stream",
     "text": [
      "\n",
      "\n",
      "Cluster 3 || variable: ¿Tienes alguna carencia visual que afecte a la recepción de formas, colores, distancias, etc.?\n",
      "Describiendo la pregunta ¿Tienes alguna carencia visual que afecte a la recepción de formas, colores, distancias, etc.?\n",
      "Valores numéricos asociados a las respuestas [0, 1]\n",
      "Respuestas posibles a la pregunta/variable ['No', 'Sí']\n"
     ]
    },
    {
     "data": {
      "text/plain": [
       "count    27.000000\n",
       "mean      0.296296\n",
       "std       0.465322\n",
       "min       0.000000\n",
       "25%       0.000000\n",
       "50%       0.000000\n",
       "75%       1.000000\n",
       "max       1.000000\n",
       "Name: ¿Tienes alguna carencia visual que afecte a la recepción de formas, colores, distancias, etc.?, dtype: float64"
      ]
     },
     "metadata": {},
     "output_type": "display_data"
    },
    {
     "name": "stdout",
     "output_type": "stream",
     "text": [
      "Conteo de cada valor en ¿Tienes alguna carencia visual que afecte a la recepción de formas, colores, distancias, etc.? expresada como valor / cantidad\n"
     ]
    },
    {
     "data": {
      "text/plain": [
       "0    19\n",
       "1     8\n",
       "Name: ¿Tienes alguna carencia visual que afecte a la recepción de formas, colores, distancias, etc.?, dtype: int64"
      ]
     },
     "metadata": {},
     "output_type": "display_data"
    },
    {
     "name": "stdout",
     "output_type": "stream",
     "text": [
      "Porcentaje de cada valor en ¿Tienes alguna carencia visual que afecte a la recepción de formas, colores, distancias, etc.? expresado como valor / porcentaje\n"
     ]
    },
    {
     "data": {
      "text/plain": [
       "0    70.37\n",
       "1    29.63\n",
       "Name: ¿Tienes alguna carencia visual que afecte a la recepción de formas, colores, distancias, etc.?, dtype: float64"
      ]
     },
     "metadata": {},
     "output_type": "display_data"
    },
    {
     "data": {
      "application/vnd.plotly.v1+json": {
       "config": {
        "linkText": "Export to plot.ly",
        "plotlyServerURL": "https://plot.ly",
        "showLink": false
       },
       "data": [
        {
         "marker": {
          "color": [
           "rgb(213,62,79)",
           "rgb(252,141,89)",
           "rgb(254,224,139)",
           "rgb(230,245,152)",
           "rgb(153,213,148)",
           "rgb(50,136,189)"
          ]
         },
         "type": "bar",
         "uid": "28ed7f28-9d95-4435-bac1-8a575d8e89b7",
         "x": [
          0,
          1
         ],
         "y": [
          19,
          8
         ]
        }
       ],
       "layout": {
        "bargap": 0.2,
        "xaxis": {
         "ticktext": [
          "No",
          "Sí"
         ],
         "tickvals": [
          0,
          1
         ]
        }
       }
      },
      "text/html": [
       "<div id=\"5cc0656e-ee57-4296-92de-ee9933f7e69d\" style=\"height: 525px; width: 100%;\" class=\"plotly-graph-div\"></div><script type=\"text/javascript\">require([\"plotly\"], function(Plotly) { window.PLOTLYENV=window.PLOTLYENV || {};window.PLOTLYENV.BASE_URL=\"https://plot.ly\";\n",
       "if (document.getElementById(\"5cc0656e-ee57-4296-92de-ee9933f7e69d\")) {\n",
       "    Plotly.newPlot(\"5cc0656e-ee57-4296-92de-ee9933f7e69d\", [{\"marker\": {\"color\": [\"rgb(213,62,79)\", \"rgb(252,141,89)\", \"rgb(254,224,139)\", \"rgb(230,245,152)\", \"rgb(153,213,148)\", \"rgb(50,136,189)\"]}, \"x\": [0, 1], \"y\": [19, 8], \"type\": \"bar\", \"uid\": \"28ed7f28-9d95-4435-bac1-8a575d8e89b7\"}], {\"bargap\": 0.2, \"xaxis\": {\"ticktext\": [\"No\", \"S\\u00ed\"], \"tickvals\": [0, 1]}}, {\"showLink\": false, \"linkText\": \"Export to plot.ly\", \"plotlyServerURL\": \"https://plot.ly\"}); \n",
       "}\n",
       "});</script><script type=\"text/javascript\">window.addEventListener(\"resize\", function(){if (document.getElementById(\"5cc0656e-ee57-4296-92de-ee9933f7e69d\")) {window._Plotly.Plots.resize(document.getElementById(\"5cc0656e-ee57-4296-92de-ee9933f7e69d\"));};})</script>"
      ],
      "text/vnd.plotly.v1+html": [
       "<div id=\"5cc0656e-ee57-4296-92de-ee9933f7e69d\" style=\"height: 525px; width: 100%;\" class=\"plotly-graph-div\"></div><script type=\"text/javascript\">require([\"plotly\"], function(Plotly) { window.PLOTLYENV=window.PLOTLYENV || {};window.PLOTLYENV.BASE_URL=\"https://plot.ly\";\n",
       "if (document.getElementById(\"5cc0656e-ee57-4296-92de-ee9933f7e69d\")) {\n",
       "    Plotly.newPlot(\"5cc0656e-ee57-4296-92de-ee9933f7e69d\", [{\"marker\": {\"color\": [\"rgb(213,62,79)\", \"rgb(252,141,89)\", \"rgb(254,224,139)\", \"rgb(230,245,152)\", \"rgb(153,213,148)\", \"rgb(50,136,189)\"]}, \"x\": [0, 1], \"y\": [19, 8], \"type\": \"bar\", \"uid\": \"28ed7f28-9d95-4435-bac1-8a575d8e89b7\"}], {\"bargap\": 0.2, \"xaxis\": {\"ticktext\": [\"No\", \"S\\u00ed\"], \"tickvals\": [0, 1]}}, {\"showLink\": false, \"linkText\": \"Export to plot.ly\", \"plotlyServerURL\": \"https://plot.ly\"}); \n",
       "}\n",
       "});</script><script type=\"text/javascript\">window.addEventListener(\"resize\", function(){if (document.getElementById(\"5cc0656e-ee57-4296-92de-ee9933f7e69d\")) {window._Plotly.Plots.resize(document.getElementById(\"5cc0656e-ee57-4296-92de-ee9933f7e69d\"));};})</script>"
      ]
     },
     "metadata": {},
     "output_type": "display_data"
    },
    {
     "name": "stdout",
     "output_type": "stream",
     "text": [
      "\n",
      "\n",
      "Cluster 3 || variable: ¿Tienes acceso a dispositivos (ordenador, móvil, tablet, etc.) conectados a Internet habitualmente?\n",
      "Describiendo la pregunta ¿Tienes acceso a dispositivos (ordenador, móvil, tablet, etc.) conectados a Internet habitualmente?\n",
      "Valores numéricos asociados a las respuestas [1, 2, 3, 4, 5]\n",
      "Respuestas posibles a la pregunta/variable ['1. Nunca', '2. Ocasionalmente', '3. Semanalmente', '4. Diariamente', '5. Varias veces al día']\n"
     ]
    },
    {
     "data": {
      "text/plain": [
       "count    27.000000\n",
       "mean      4.222222\n",
       "std       0.891556\n",
       "min       2.000000\n",
       "25%       4.000000\n",
       "50%       4.000000\n",
       "75%       5.000000\n",
       "max       5.000000\n",
       "Name: ¿Tienes acceso a dispositivos (ordenador, móvil, tablet, etc.) conectados a Internet habitualmente?, dtype: float64"
      ]
     },
     "metadata": {},
     "output_type": "display_data"
    },
    {
     "name": "stdout",
     "output_type": "stream",
     "text": [
      "Conteo de cada valor en ¿Tienes acceso a dispositivos (ordenador, móvil, tablet, etc.) conectados a Internet habitualmente? expresada como valor / cantidad\n"
     ]
    },
    {
     "data": {
      "text/plain": [
       "2     2\n",
       "3     2\n",
       "4    11\n",
       "5    12\n",
       "Name: ¿Tienes acceso a dispositivos (ordenador, móvil, tablet, etc.) conectados a Internet habitualmente?, dtype: int64"
      ]
     },
     "metadata": {},
     "output_type": "display_data"
    },
    {
     "name": "stdout",
     "output_type": "stream",
     "text": [
      "Porcentaje de cada valor en ¿Tienes acceso a dispositivos (ordenador, móvil, tablet, etc.) conectados a Internet habitualmente? expresado como valor / porcentaje\n"
     ]
    },
    {
     "data": {
      "text/plain": [
       "2     7.41\n",
       "3     7.41\n",
       "4    40.74\n",
       "5    44.44\n",
       "Name: ¿Tienes acceso a dispositivos (ordenador, móvil, tablet, etc.) conectados a Internet habitualmente?, dtype: float64"
      ]
     },
     "metadata": {},
     "output_type": "display_data"
    },
    {
     "data": {
      "application/vnd.plotly.v1+json": {
       "config": {
        "linkText": "Export to plot.ly",
        "plotlyServerURL": "https://plot.ly",
        "showLink": false
       },
       "data": [
        {
         "marker": {
          "color": [
           "rgb(213,62,79)",
           "rgb(252,141,89)",
           "rgb(254,224,139)",
           "rgb(230,245,152)",
           "rgb(153,213,148)",
           "rgb(50,136,189)"
          ]
         },
         "type": "bar",
         "uid": "25b3eb47-819f-46e6-a5e8-5f757aca58de",
         "x": [
          2,
          3,
          4,
          5
         ],
         "y": [
          2,
          2,
          11,
          12
         ]
        }
       ],
       "layout": {
        "bargap": 0.2,
        "xaxis": {
         "ticktext": [
          "1. Nunca",
          "2. Ocasionalmente",
          "3. Semanalmente",
          "4. Diariamente",
          "5. Varias veces al día"
         ],
         "tickvals": [
          1,
          2,
          3,
          4,
          5
         ]
        }
       }
      },
      "text/html": [
       "<div id=\"b425bc84-d52b-46a0-8ee5-4fdb6057337f\" style=\"height: 525px; width: 100%;\" class=\"plotly-graph-div\"></div><script type=\"text/javascript\">require([\"plotly\"], function(Plotly) { window.PLOTLYENV=window.PLOTLYENV || {};window.PLOTLYENV.BASE_URL=\"https://plot.ly\";\n",
       "if (document.getElementById(\"b425bc84-d52b-46a0-8ee5-4fdb6057337f\")) {\n",
       "    Plotly.newPlot(\"b425bc84-d52b-46a0-8ee5-4fdb6057337f\", [{\"marker\": {\"color\": [\"rgb(213,62,79)\", \"rgb(252,141,89)\", \"rgb(254,224,139)\", \"rgb(230,245,152)\", \"rgb(153,213,148)\", \"rgb(50,136,189)\"]}, \"x\": [2, 3, 4, 5], \"y\": [2, 2, 11, 12], \"type\": \"bar\", \"uid\": \"25b3eb47-819f-46e6-a5e8-5f757aca58de\"}], {\"bargap\": 0.2, \"xaxis\": {\"ticktext\": [\"1. Nunca\", \"2. Ocasionalmente\", \"3. Semanalmente\", \"4. Diariamente\", \"5. Varias veces al d\\u00eda\"], \"tickvals\": [1, 2, 3, 4, 5]}}, {\"showLink\": false, \"linkText\": \"Export to plot.ly\", \"plotlyServerURL\": \"https://plot.ly\"}); \n",
       "}\n",
       "});</script><script type=\"text/javascript\">window.addEventListener(\"resize\", function(){if (document.getElementById(\"b425bc84-d52b-46a0-8ee5-4fdb6057337f\")) {window._Plotly.Plots.resize(document.getElementById(\"b425bc84-d52b-46a0-8ee5-4fdb6057337f\"));};})</script>"
      ],
      "text/vnd.plotly.v1+html": [
       "<div id=\"b425bc84-d52b-46a0-8ee5-4fdb6057337f\" style=\"height: 525px; width: 100%;\" class=\"plotly-graph-div\"></div><script type=\"text/javascript\">require([\"plotly\"], function(Plotly) { window.PLOTLYENV=window.PLOTLYENV || {};window.PLOTLYENV.BASE_URL=\"https://plot.ly\";\n",
       "if (document.getElementById(\"b425bc84-d52b-46a0-8ee5-4fdb6057337f\")) {\n",
       "    Plotly.newPlot(\"b425bc84-d52b-46a0-8ee5-4fdb6057337f\", [{\"marker\": {\"color\": [\"rgb(213,62,79)\", \"rgb(252,141,89)\", \"rgb(254,224,139)\", \"rgb(230,245,152)\", \"rgb(153,213,148)\", \"rgb(50,136,189)\"]}, \"x\": [2, 3, 4, 5], \"y\": [2, 2, 11, 12], \"type\": \"bar\", \"uid\": \"25b3eb47-819f-46e6-a5e8-5f757aca58de\"}], {\"bargap\": 0.2, \"xaxis\": {\"ticktext\": [\"1. Nunca\", \"2. Ocasionalmente\", \"3. Semanalmente\", \"4. Diariamente\", \"5. Varias veces al d\\u00eda\"], \"tickvals\": [1, 2, 3, 4, 5]}}, {\"showLink\": false, \"linkText\": \"Export to plot.ly\", \"plotlyServerURL\": \"https://plot.ly\"}); \n",
       "}\n",
       "});</script><script type=\"text/javascript\">window.addEventListener(\"resize\", function(){if (document.getElementById(\"b425bc84-d52b-46a0-8ee5-4fdb6057337f\")) {window._Plotly.Plots.resize(document.getElementById(\"b425bc84-d52b-46a0-8ee5-4fdb6057337f\"));};})</script>"
      ]
     },
     "metadata": {},
     "output_type": "display_data"
    },
    {
     "name": "stdout",
     "output_type": "stream",
     "text": [
      "\n",
      "\n",
      "Cluster 3 || variable: ¿Cuánto tiempo al día usas el móvil/tableta/ordenador/TV?\n",
      "Describiendo la pregunta ¿Cuánto tiempo al día usas el móvil/tableta/ordenador/TV?\n",
      "Valores numéricos asociados a las respuestas [1, 2, 3, 4, 5, 6]\n",
      "Respuestas posibles a la pregunta/variable ['1. Nada', '2. Menos de una hora', '3. 1-2 horas', '4. 2-4 horas', '5. 4-6 horas', '6. Más de 6 horas']\n"
     ]
    },
    {
     "data": {
      "text/plain": [
       "count    27.000000\n",
       "mean      4.481481\n",
       "std       1.220667\n",
       "min       2.000000\n",
       "25%       4.000000\n",
       "50%       4.000000\n",
       "75%       6.000000\n",
       "max       6.000000\n",
       "Name: ¿Cuánto tiempo al día usas el móvil/tableta/ordenador/TV?, dtype: float64"
      ]
     },
     "metadata": {},
     "output_type": "display_data"
    },
    {
     "name": "stdout",
     "output_type": "stream",
     "text": [
      "Conteo de cada valor en ¿Cuánto tiempo al día usas el móvil/tableta/ordenador/TV? expresada como valor / cantidad\n"
     ]
    },
    {
     "data": {
      "text/plain": [
       "2    1\n",
       "3    5\n",
       "4    9\n",
       "5    4\n",
       "6    8\n",
       "Name: ¿Cuánto tiempo al día usas el móvil/tableta/ordenador/TV?, dtype: int64"
      ]
     },
     "metadata": {},
     "output_type": "display_data"
    },
    {
     "name": "stdout",
     "output_type": "stream",
     "text": [
      "Porcentaje de cada valor en ¿Cuánto tiempo al día usas el móvil/tableta/ordenador/TV? expresado como valor / porcentaje\n"
     ]
    },
    {
     "data": {
      "text/plain": [
       "2     3.70\n",
       "3    18.52\n",
       "4    33.33\n",
       "5    14.81\n",
       "6    29.63\n",
       "Name: ¿Cuánto tiempo al día usas el móvil/tableta/ordenador/TV?, dtype: float64"
      ]
     },
     "metadata": {},
     "output_type": "display_data"
    },
    {
     "data": {
      "application/vnd.plotly.v1+json": {
       "config": {
        "linkText": "Export to plot.ly",
        "plotlyServerURL": "https://plot.ly",
        "showLink": false
       },
       "data": [
        {
         "marker": {
          "color": [
           "rgb(213,62,79)",
           "rgb(252,141,89)",
           "rgb(254,224,139)",
           "rgb(230,245,152)",
           "rgb(153,213,148)",
           "rgb(50,136,189)"
          ]
         },
         "type": "bar",
         "uid": "8f50cd24-e5cb-4d57-82a8-b66b4bfc2879",
         "x": [
          2,
          3,
          4,
          5,
          6
         ],
         "y": [
          1,
          5,
          9,
          4,
          8
         ]
        }
       ],
       "layout": {
        "bargap": 0.2,
        "xaxis": {
         "ticktext": [
          "1. Nada",
          "2. Menos de una hora",
          "3. 1-2 horas",
          "4. 2-4 horas",
          "5. 4-6 horas",
          "6. Más de 6 horas"
         ],
         "tickvals": [
          1,
          2,
          3,
          4,
          5,
          6
         ]
        }
       }
      },
      "text/html": [
       "<div id=\"bd264540-9feb-4967-b3f5-8a55af4de61b\" style=\"height: 525px; width: 100%;\" class=\"plotly-graph-div\"></div><script type=\"text/javascript\">require([\"plotly\"], function(Plotly) { window.PLOTLYENV=window.PLOTLYENV || {};window.PLOTLYENV.BASE_URL=\"https://plot.ly\";\n",
       "if (document.getElementById(\"bd264540-9feb-4967-b3f5-8a55af4de61b\")) {\n",
       "    Plotly.newPlot(\"bd264540-9feb-4967-b3f5-8a55af4de61b\", [{\"marker\": {\"color\": [\"rgb(213,62,79)\", \"rgb(252,141,89)\", \"rgb(254,224,139)\", \"rgb(230,245,152)\", \"rgb(153,213,148)\", \"rgb(50,136,189)\"]}, \"x\": [2, 3, 4, 5, 6], \"y\": [1, 5, 9, 4, 8], \"type\": \"bar\", \"uid\": \"8f50cd24-e5cb-4d57-82a8-b66b4bfc2879\"}], {\"bargap\": 0.2, \"xaxis\": {\"ticktext\": [\"1. Nada\", \"2. Menos de una hora\", \"3. 1-2 horas\", \"4. 2-4 horas\", \"5. 4-6 horas\", \"6. M\\u00e1s de 6 horas\"], \"tickvals\": [1, 2, 3, 4, 5, 6]}}, {\"showLink\": false, \"linkText\": \"Export to plot.ly\", \"plotlyServerURL\": \"https://plot.ly\"}); \n",
       "}\n",
       "});</script><script type=\"text/javascript\">window.addEventListener(\"resize\", function(){if (document.getElementById(\"bd264540-9feb-4967-b3f5-8a55af4de61b\")) {window._Plotly.Plots.resize(document.getElementById(\"bd264540-9feb-4967-b3f5-8a55af4de61b\"));};})</script>"
      ],
      "text/vnd.plotly.v1+html": [
       "<div id=\"bd264540-9feb-4967-b3f5-8a55af4de61b\" style=\"height: 525px; width: 100%;\" class=\"plotly-graph-div\"></div><script type=\"text/javascript\">require([\"plotly\"], function(Plotly) { window.PLOTLYENV=window.PLOTLYENV || {};window.PLOTLYENV.BASE_URL=\"https://plot.ly\";\n",
       "if (document.getElementById(\"bd264540-9feb-4967-b3f5-8a55af4de61b\")) {\n",
       "    Plotly.newPlot(\"bd264540-9feb-4967-b3f5-8a55af4de61b\", [{\"marker\": {\"color\": [\"rgb(213,62,79)\", \"rgb(252,141,89)\", \"rgb(254,224,139)\", \"rgb(230,245,152)\", \"rgb(153,213,148)\", \"rgb(50,136,189)\"]}, \"x\": [2, 3, 4, 5, 6], \"y\": [1, 5, 9, 4, 8], \"type\": \"bar\", \"uid\": \"8f50cd24-e5cb-4d57-82a8-b66b4bfc2879\"}], {\"bargap\": 0.2, \"xaxis\": {\"ticktext\": [\"1. Nada\", \"2. Menos de una hora\", \"3. 1-2 horas\", \"4. 2-4 horas\", \"5. 4-6 horas\", \"6. M\\u00e1s de 6 horas\"], \"tickvals\": [1, 2, 3, 4, 5, 6]}}, {\"showLink\": false, \"linkText\": \"Export to plot.ly\", \"plotlyServerURL\": \"https://plot.ly\"}); \n",
       "}\n",
       "});</script><script type=\"text/javascript\">window.addEventListener(\"resize\", function(){if (document.getElementById(\"bd264540-9feb-4967-b3f5-8a55af4de61b\")) {window._Plotly.Plots.resize(document.getElementById(\"bd264540-9feb-4967-b3f5-8a55af4de61b\"));};})</script>"
      ]
     },
     "metadata": {},
     "output_type": "display_data"
    },
    {
     "name": "stdout",
     "output_type": "stream",
     "text": [
      "\n",
      "\n",
      "Cluster 3 || variable: ¿Qué tipo de aplicaciones utilizas en tu ordenador/tableta/móvil? (Respuesta múltiple) [1. Apps de contenidos audiovisuales (Netflix, HBO, etc.)]\n",
      "Describiendo la pregunta ¿Qué tipo de aplicaciones utilizas en tu ordenador/tableta/móvil? (Respuesta múltiple) [1. Apps de contenidos audiovisuales (Netflix, HBO, etc.)]\n",
      "Valores numéricos asociados a las respuestas [0, 1]\n",
      "Respuestas posibles a la pregunta/variable ['No', 'Sí']\n"
     ]
    },
    {
     "data": {
      "text/plain": [
       "count    27.000000\n",
       "mean      0.555556\n",
       "std       0.506370\n",
       "min       0.000000\n",
       "25%       0.000000\n",
       "50%       1.000000\n",
       "75%       1.000000\n",
       "max       1.000000\n",
       "Name: ¿Qué tipo de aplicaciones utilizas en tu ordenador/tableta/móvil? (Respuesta múltiple) [1. Apps de contenidos audiovisuales (Netflix, HBO, etc.)], dtype: float64"
      ]
     },
     "metadata": {},
     "output_type": "display_data"
    },
    {
     "name": "stdout",
     "output_type": "stream",
     "text": [
      "Conteo de cada valor en ¿Qué tipo de aplicaciones utilizas en tu ordenador/tableta/móvil? (Respuesta múltiple) [1. Apps de contenidos audiovisuales (Netflix, HBO, etc.)] expresada como valor / cantidad\n"
     ]
    },
    {
     "data": {
      "text/plain": [
       "0    12\n",
       "1    15\n",
       "Name: ¿Qué tipo de aplicaciones utilizas en tu ordenador/tableta/móvil? (Respuesta múltiple) [1. Apps de contenidos audiovisuales (Netflix, HBO, etc.)], dtype: int64"
      ]
     },
     "metadata": {},
     "output_type": "display_data"
    },
    {
     "name": "stdout",
     "output_type": "stream",
     "text": [
      "Porcentaje de cada valor en ¿Qué tipo de aplicaciones utilizas en tu ordenador/tableta/móvil? (Respuesta múltiple) [1. Apps de contenidos audiovisuales (Netflix, HBO, etc.)] expresado como valor / porcentaje\n"
     ]
    },
    {
     "data": {
      "text/plain": [
       "0    44.44\n",
       "1    55.56\n",
       "Name: ¿Qué tipo de aplicaciones utilizas en tu ordenador/tableta/móvil? (Respuesta múltiple) [1. Apps de contenidos audiovisuales (Netflix, HBO, etc.)], dtype: float64"
      ]
     },
     "metadata": {},
     "output_type": "display_data"
    },
    {
     "data": {
      "application/vnd.plotly.v1+json": {
       "config": {
        "linkText": "Export to plot.ly",
        "plotlyServerURL": "https://plot.ly",
        "showLink": false
       },
       "data": [
        {
         "marker": {
          "color": [
           "rgb(213,62,79)",
           "rgb(252,141,89)",
           "rgb(254,224,139)",
           "rgb(230,245,152)",
           "rgb(153,213,148)",
           "rgb(50,136,189)"
          ]
         },
         "type": "bar",
         "uid": "d7c51113-d062-4193-b2f3-6b5a5de8a933",
         "x": [
          0,
          1
         ],
         "y": [
          12,
          15
         ]
        }
       ],
       "layout": {
        "bargap": 0.2,
        "xaxis": {
         "ticktext": [
          "No",
          "Sí"
         ],
         "tickvals": [
          0,
          1
         ]
        }
       }
      },
      "text/html": [
       "<div id=\"f74782d9-94d3-492a-8034-73215d601e3c\" style=\"height: 525px; width: 100%;\" class=\"plotly-graph-div\"></div><script type=\"text/javascript\">require([\"plotly\"], function(Plotly) { window.PLOTLYENV=window.PLOTLYENV || {};window.PLOTLYENV.BASE_URL=\"https://plot.ly\";\n",
       "if (document.getElementById(\"f74782d9-94d3-492a-8034-73215d601e3c\")) {\n",
       "    Plotly.newPlot(\"f74782d9-94d3-492a-8034-73215d601e3c\", [{\"marker\": {\"color\": [\"rgb(213,62,79)\", \"rgb(252,141,89)\", \"rgb(254,224,139)\", \"rgb(230,245,152)\", \"rgb(153,213,148)\", \"rgb(50,136,189)\"]}, \"x\": [0, 1], \"y\": [12, 15], \"type\": \"bar\", \"uid\": \"d7c51113-d062-4193-b2f3-6b5a5de8a933\"}], {\"bargap\": 0.2, \"xaxis\": {\"ticktext\": [\"No\", \"S\\u00ed\"], \"tickvals\": [0, 1]}}, {\"showLink\": false, \"linkText\": \"Export to plot.ly\", \"plotlyServerURL\": \"https://plot.ly\"}); \n",
       "}\n",
       "});</script><script type=\"text/javascript\">window.addEventListener(\"resize\", function(){if (document.getElementById(\"f74782d9-94d3-492a-8034-73215d601e3c\")) {window._Plotly.Plots.resize(document.getElementById(\"f74782d9-94d3-492a-8034-73215d601e3c\"));};})</script>"
      ],
      "text/vnd.plotly.v1+html": [
       "<div id=\"f74782d9-94d3-492a-8034-73215d601e3c\" style=\"height: 525px; width: 100%;\" class=\"plotly-graph-div\"></div><script type=\"text/javascript\">require([\"plotly\"], function(Plotly) { window.PLOTLYENV=window.PLOTLYENV || {};window.PLOTLYENV.BASE_URL=\"https://plot.ly\";\n",
       "if (document.getElementById(\"f74782d9-94d3-492a-8034-73215d601e3c\")) {\n",
       "    Plotly.newPlot(\"f74782d9-94d3-492a-8034-73215d601e3c\", [{\"marker\": {\"color\": [\"rgb(213,62,79)\", \"rgb(252,141,89)\", \"rgb(254,224,139)\", \"rgb(230,245,152)\", \"rgb(153,213,148)\", \"rgb(50,136,189)\"]}, \"x\": [0, 1], \"y\": [12, 15], \"type\": \"bar\", \"uid\": \"d7c51113-d062-4193-b2f3-6b5a5de8a933\"}], {\"bargap\": 0.2, \"xaxis\": {\"ticktext\": [\"No\", \"S\\u00ed\"], \"tickvals\": [0, 1]}}, {\"showLink\": false, \"linkText\": \"Export to plot.ly\", \"plotlyServerURL\": \"https://plot.ly\"}); \n",
       "}\n",
       "});</script><script type=\"text/javascript\">window.addEventListener(\"resize\", function(){if (document.getElementById(\"f74782d9-94d3-492a-8034-73215d601e3c\")) {window._Plotly.Plots.resize(document.getElementById(\"f74782d9-94d3-492a-8034-73215d601e3c\"));};})</script>"
      ]
     },
     "metadata": {},
     "output_type": "display_data"
    },
    {
     "name": "stdout",
     "output_type": "stream",
     "text": [
      "\n",
      "\n",
      "Cluster 3 || variable: ¿Qué tipo de aplicaciones utilizas en tu ordenador/tableta/móvil? (Respuesta múltiple) [2. Aplicaciones de mensajería (Whatsapp, Facebook Messenger, etc.)]\n",
      "Describiendo la pregunta ¿Qué tipo de aplicaciones utilizas en tu ordenador/tableta/móvil? (Respuesta múltiple) [2. Aplicaciones de mensajería (Whatsapp, Facebook Messenger, etc.)]\n",
      "Valores numéricos asociados a las respuestas [0, 1]\n",
      "Respuestas posibles a la pregunta/variable ['No', 'Sí']\n"
     ]
    },
    {
     "data": {
      "text/plain": [
       "count    27.000000\n",
       "mean      0.629630\n",
       "std       0.492103\n",
       "min       0.000000\n",
       "25%       0.000000\n",
       "50%       1.000000\n",
       "75%       1.000000\n",
       "max       1.000000\n",
       "Name: ¿Qué tipo de aplicaciones utilizas en tu ordenador/tableta/móvil? (Respuesta múltiple) [2. Aplicaciones de mensajería (Whatsapp, Facebook Messenger, etc.)], dtype: float64"
      ]
     },
     "metadata": {},
     "output_type": "display_data"
    },
    {
     "name": "stdout",
     "output_type": "stream",
     "text": [
      "Conteo de cada valor en ¿Qué tipo de aplicaciones utilizas en tu ordenador/tableta/móvil? (Respuesta múltiple) [2. Aplicaciones de mensajería (Whatsapp, Facebook Messenger, etc.)] expresada como valor / cantidad\n"
     ]
    },
    {
     "data": {
      "text/plain": [
       "0    10\n",
       "1    17\n",
       "Name: ¿Qué tipo de aplicaciones utilizas en tu ordenador/tableta/móvil? (Respuesta múltiple) [2. Aplicaciones de mensajería (Whatsapp, Facebook Messenger, etc.)], dtype: int64"
      ]
     },
     "metadata": {},
     "output_type": "display_data"
    },
    {
     "name": "stdout",
     "output_type": "stream",
     "text": [
      "Porcentaje de cada valor en ¿Qué tipo de aplicaciones utilizas en tu ordenador/tableta/móvil? (Respuesta múltiple) [2. Aplicaciones de mensajería (Whatsapp, Facebook Messenger, etc.)] expresado como valor / porcentaje\n"
     ]
    },
    {
     "data": {
      "text/plain": [
       "0    37.04\n",
       "1    62.96\n",
       "Name: ¿Qué tipo de aplicaciones utilizas en tu ordenador/tableta/móvil? (Respuesta múltiple) [2. Aplicaciones de mensajería (Whatsapp, Facebook Messenger, etc.)], dtype: float64"
      ]
     },
     "metadata": {},
     "output_type": "display_data"
    },
    {
     "data": {
      "application/vnd.plotly.v1+json": {
       "config": {
        "linkText": "Export to plot.ly",
        "plotlyServerURL": "https://plot.ly",
        "showLink": false
       },
       "data": [
        {
         "marker": {
          "color": [
           "rgb(213,62,79)",
           "rgb(252,141,89)",
           "rgb(254,224,139)",
           "rgb(230,245,152)",
           "rgb(153,213,148)",
           "rgb(50,136,189)"
          ]
         },
         "type": "bar",
         "uid": "2a84aa47-8810-4301-b1e9-54db289a23ec",
         "x": [
          0,
          1
         ],
         "y": [
          10,
          17
         ]
        }
       ],
       "layout": {
        "bargap": 0.2,
        "xaxis": {
         "ticktext": [
          "No",
          "Sí"
         ],
         "tickvals": [
          0,
          1
         ]
        }
       }
      },
      "text/html": [
       "<div id=\"6b073b3f-763e-41b2-ba70-878baadbfe76\" style=\"height: 525px; width: 100%;\" class=\"plotly-graph-div\"></div><script type=\"text/javascript\">require([\"plotly\"], function(Plotly) { window.PLOTLYENV=window.PLOTLYENV || {};window.PLOTLYENV.BASE_URL=\"https://plot.ly\";\n",
       "if (document.getElementById(\"6b073b3f-763e-41b2-ba70-878baadbfe76\")) {\n",
       "    Plotly.newPlot(\"6b073b3f-763e-41b2-ba70-878baadbfe76\", [{\"marker\": {\"color\": [\"rgb(213,62,79)\", \"rgb(252,141,89)\", \"rgb(254,224,139)\", \"rgb(230,245,152)\", \"rgb(153,213,148)\", \"rgb(50,136,189)\"]}, \"x\": [0, 1], \"y\": [10, 17], \"type\": \"bar\", \"uid\": \"2a84aa47-8810-4301-b1e9-54db289a23ec\"}], {\"bargap\": 0.2, \"xaxis\": {\"ticktext\": [\"No\", \"S\\u00ed\"], \"tickvals\": [0, 1]}}, {\"showLink\": false, \"linkText\": \"Export to plot.ly\", \"plotlyServerURL\": \"https://plot.ly\"}); \n",
       "}\n",
       "});</script><script type=\"text/javascript\">window.addEventListener(\"resize\", function(){if (document.getElementById(\"6b073b3f-763e-41b2-ba70-878baadbfe76\")) {window._Plotly.Plots.resize(document.getElementById(\"6b073b3f-763e-41b2-ba70-878baadbfe76\"));};})</script>"
      ],
      "text/vnd.plotly.v1+html": [
       "<div id=\"6b073b3f-763e-41b2-ba70-878baadbfe76\" style=\"height: 525px; width: 100%;\" class=\"plotly-graph-div\"></div><script type=\"text/javascript\">require([\"plotly\"], function(Plotly) { window.PLOTLYENV=window.PLOTLYENV || {};window.PLOTLYENV.BASE_URL=\"https://plot.ly\";\n",
       "if (document.getElementById(\"6b073b3f-763e-41b2-ba70-878baadbfe76\")) {\n",
       "    Plotly.newPlot(\"6b073b3f-763e-41b2-ba70-878baadbfe76\", [{\"marker\": {\"color\": [\"rgb(213,62,79)\", \"rgb(252,141,89)\", \"rgb(254,224,139)\", \"rgb(230,245,152)\", \"rgb(153,213,148)\", \"rgb(50,136,189)\"]}, \"x\": [0, 1], \"y\": [10, 17], \"type\": \"bar\", \"uid\": \"2a84aa47-8810-4301-b1e9-54db289a23ec\"}], {\"bargap\": 0.2, \"xaxis\": {\"ticktext\": [\"No\", \"S\\u00ed\"], \"tickvals\": [0, 1]}}, {\"showLink\": false, \"linkText\": \"Export to plot.ly\", \"plotlyServerURL\": \"https://plot.ly\"}); \n",
       "}\n",
       "});</script><script type=\"text/javascript\">window.addEventListener(\"resize\", function(){if (document.getElementById(\"6b073b3f-763e-41b2-ba70-878baadbfe76\")) {window._Plotly.Plots.resize(document.getElementById(\"6b073b3f-763e-41b2-ba70-878baadbfe76\"));};})</script>"
      ]
     },
     "metadata": {},
     "output_type": "display_data"
    },
    {
     "name": "stdout",
     "output_type": "stream",
     "text": [
      "\n",
      "\n",
      "Cluster 3 || variable: ¿Qué tipo de aplicaciones utilizas en tu ordenador/tableta/móvil? (Respuesta múltiple) [3. Bibliotecas de fotos online (Google Photos, iPhoto, etc.)]\n",
      "Describiendo la pregunta ¿Qué tipo de aplicaciones utilizas en tu ordenador/tableta/móvil? (Respuesta múltiple) [3. Bibliotecas de fotos online (Google Photos, iPhoto, etc.)]\n",
      "Valores numéricos asociados a las respuestas [0, 1]\n",
      "Respuestas posibles a la pregunta/variable ['No', 'Sí']\n"
     ]
    },
    {
     "data": {
      "text/plain": [
       "count    27.000000\n",
       "mean      0.444444\n",
       "std       0.506370\n",
       "min       0.000000\n",
       "25%       0.000000\n",
       "50%       0.000000\n",
       "75%       1.000000\n",
       "max       1.000000\n",
       "Name: ¿Qué tipo de aplicaciones utilizas en tu ordenador/tableta/móvil? (Respuesta múltiple) [3. Bibliotecas de fotos online (Google Photos, iPhoto, etc.)], dtype: float64"
      ]
     },
     "metadata": {},
     "output_type": "display_data"
    },
    {
     "name": "stdout",
     "output_type": "stream",
     "text": [
      "Conteo de cada valor en ¿Qué tipo de aplicaciones utilizas en tu ordenador/tableta/móvil? (Respuesta múltiple) [3. Bibliotecas de fotos online (Google Photos, iPhoto, etc.)] expresada como valor / cantidad\n"
     ]
    },
    {
     "data": {
      "text/plain": [
       "0    15\n",
       "1    12\n",
       "Name: ¿Qué tipo de aplicaciones utilizas en tu ordenador/tableta/móvil? (Respuesta múltiple) [3. Bibliotecas de fotos online (Google Photos, iPhoto, etc.)], dtype: int64"
      ]
     },
     "metadata": {},
     "output_type": "display_data"
    },
    {
     "name": "stdout",
     "output_type": "stream",
     "text": [
      "Porcentaje de cada valor en ¿Qué tipo de aplicaciones utilizas en tu ordenador/tableta/móvil? (Respuesta múltiple) [3. Bibliotecas de fotos online (Google Photos, iPhoto, etc.)] expresado como valor / porcentaje\n"
     ]
    },
    {
     "data": {
      "text/plain": [
       "0    55.56\n",
       "1    44.44\n",
       "Name: ¿Qué tipo de aplicaciones utilizas en tu ordenador/tableta/móvil? (Respuesta múltiple) [3. Bibliotecas de fotos online (Google Photos, iPhoto, etc.)], dtype: float64"
      ]
     },
     "metadata": {},
     "output_type": "display_data"
    },
    {
     "data": {
      "application/vnd.plotly.v1+json": {
       "config": {
        "linkText": "Export to plot.ly",
        "plotlyServerURL": "https://plot.ly",
        "showLink": false
       },
       "data": [
        {
         "marker": {
          "color": [
           "rgb(213,62,79)",
           "rgb(252,141,89)",
           "rgb(254,224,139)",
           "rgb(230,245,152)",
           "rgb(153,213,148)",
           "rgb(50,136,189)"
          ]
         },
         "type": "bar",
         "uid": "b8f1be1d-fb67-409b-9567-605ca16e7ad2",
         "x": [
          0,
          1
         ],
         "y": [
          15,
          12
         ]
        }
       ],
       "layout": {
        "bargap": 0.2,
        "xaxis": {
         "ticktext": [
          "No",
          "Sí"
         ],
         "tickvals": [
          0,
          1
         ]
        }
       }
      },
      "text/html": [
       "<div id=\"b34061b3-36a2-4054-9f0a-db64bcdf9dda\" style=\"height: 525px; width: 100%;\" class=\"plotly-graph-div\"></div><script type=\"text/javascript\">require([\"plotly\"], function(Plotly) { window.PLOTLYENV=window.PLOTLYENV || {};window.PLOTLYENV.BASE_URL=\"https://plot.ly\";\n",
       "if (document.getElementById(\"b34061b3-36a2-4054-9f0a-db64bcdf9dda\")) {\n",
       "    Plotly.newPlot(\"b34061b3-36a2-4054-9f0a-db64bcdf9dda\", [{\"marker\": {\"color\": [\"rgb(213,62,79)\", \"rgb(252,141,89)\", \"rgb(254,224,139)\", \"rgb(230,245,152)\", \"rgb(153,213,148)\", \"rgb(50,136,189)\"]}, \"x\": [0, 1], \"y\": [15, 12], \"type\": \"bar\", \"uid\": \"b8f1be1d-fb67-409b-9567-605ca16e7ad2\"}], {\"bargap\": 0.2, \"xaxis\": {\"ticktext\": [\"No\", \"S\\u00ed\"], \"tickvals\": [0, 1]}}, {\"showLink\": false, \"linkText\": \"Export to plot.ly\", \"plotlyServerURL\": \"https://plot.ly\"}); \n",
       "}\n",
       "});</script><script type=\"text/javascript\">window.addEventListener(\"resize\", function(){if (document.getElementById(\"b34061b3-36a2-4054-9f0a-db64bcdf9dda\")) {window._Plotly.Plots.resize(document.getElementById(\"b34061b3-36a2-4054-9f0a-db64bcdf9dda\"));};})</script>"
      ],
      "text/vnd.plotly.v1+html": [
       "<div id=\"b34061b3-36a2-4054-9f0a-db64bcdf9dda\" style=\"height: 525px; width: 100%;\" class=\"plotly-graph-div\"></div><script type=\"text/javascript\">require([\"plotly\"], function(Plotly) { window.PLOTLYENV=window.PLOTLYENV || {};window.PLOTLYENV.BASE_URL=\"https://plot.ly\";\n",
       "if (document.getElementById(\"b34061b3-36a2-4054-9f0a-db64bcdf9dda\")) {\n",
       "    Plotly.newPlot(\"b34061b3-36a2-4054-9f0a-db64bcdf9dda\", [{\"marker\": {\"color\": [\"rgb(213,62,79)\", \"rgb(252,141,89)\", \"rgb(254,224,139)\", \"rgb(230,245,152)\", \"rgb(153,213,148)\", \"rgb(50,136,189)\"]}, \"x\": [0, 1], \"y\": [15, 12], \"type\": \"bar\", \"uid\": \"b8f1be1d-fb67-409b-9567-605ca16e7ad2\"}], {\"bargap\": 0.2, \"xaxis\": {\"ticktext\": [\"No\", \"S\\u00ed\"], \"tickvals\": [0, 1]}}, {\"showLink\": false, \"linkText\": \"Export to plot.ly\", \"plotlyServerURL\": \"https://plot.ly\"}); \n",
       "}\n",
       "});</script><script type=\"text/javascript\">window.addEventListener(\"resize\", function(){if (document.getElementById(\"b34061b3-36a2-4054-9f0a-db64bcdf9dda\")) {window._Plotly.Plots.resize(document.getElementById(\"b34061b3-36a2-4054-9f0a-db64bcdf9dda\"));};})</script>"
      ]
     },
     "metadata": {},
     "output_type": "display_data"
    },
    {
     "name": "stdout",
     "output_type": "stream",
     "text": [
      "\n",
      "\n",
      "Cluster 3 || variable: ¿Qué tipo de aplicaciones utilizas en tu ordenador/tableta/móvil? (Respuesta múltiple) [4. Redes sociales (Facebook, Instagram, Twitter, etc.).]\n",
      "Describiendo la pregunta ¿Qué tipo de aplicaciones utilizas en tu ordenador/tableta/móvil? (Respuesta múltiple) [4. Redes sociales (Facebook, Instagram, Twitter, etc.).]\n",
      "Valores numéricos asociados a las respuestas [0, 1]\n",
      "Respuestas posibles a la pregunta/variable ['No', 'Sí']\n"
     ]
    },
    {
     "data": {
      "text/plain": [
       "count    27.000000\n",
       "mean      0.851852\n",
       "std       0.362014\n",
       "min       0.000000\n",
       "25%       1.000000\n",
       "50%       1.000000\n",
       "75%       1.000000\n",
       "max       1.000000\n",
       "Name: ¿Qué tipo de aplicaciones utilizas en tu ordenador/tableta/móvil? (Respuesta múltiple) [4. Redes sociales (Facebook, Instagram, Twitter, etc.).], dtype: float64"
      ]
     },
     "metadata": {},
     "output_type": "display_data"
    },
    {
     "name": "stdout",
     "output_type": "stream",
     "text": [
      "Conteo de cada valor en ¿Qué tipo de aplicaciones utilizas en tu ordenador/tableta/móvil? (Respuesta múltiple) [4. Redes sociales (Facebook, Instagram, Twitter, etc.).] expresada como valor / cantidad\n"
     ]
    },
    {
     "data": {
      "text/plain": [
       "0     4\n",
       "1    23\n",
       "Name: ¿Qué tipo de aplicaciones utilizas en tu ordenador/tableta/móvil? (Respuesta múltiple) [4. Redes sociales (Facebook, Instagram, Twitter, etc.).], dtype: int64"
      ]
     },
     "metadata": {},
     "output_type": "display_data"
    },
    {
     "name": "stdout",
     "output_type": "stream",
     "text": [
      "Porcentaje de cada valor en ¿Qué tipo de aplicaciones utilizas en tu ordenador/tableta/móvil? (Respuesta múltiple) [4. Redes sociales (Facebook, Instagram, Twitter, etc.).] expresado como valor / porcentaje\n"
     ]
    },
    {
     "data": {
      "text/plain": [
       "0    14.81\n",
       "1    85.19\n",
       "Name: ¿Qué tipo de aplicaciones utilizas en tu ordenador/tableta/móvil? (Respuesta múltiple) [4. Redes sociales (Facebook, Instagram, Twitter, etc.).], dtype: float64"
      ]
     },
     "metadata": {},
     "output_type": "display_data"
    },
    {
     "data": {
      "application/vnd.plotly.v1+json": {
       "config": {
        "linkText": "Export to plot.ly",
        "plotlyServerURL": "https://plot.ly",
        "showLink": false
       },
       "data": [
        {
         "marker": {
          "color": [
           "rgb(213,62,79)",
           "rgb(252,141,89)",
           "rgb(254,224,139)",
           "rgb(230,245,152)",
           "rgb(153,213,148)",
           "rgb(50,136,189)"
          ]
         },
         "type": "bar",
         "uid": "4cb2aea1-9462-425a-8fc6-2892abddc9eb",
         "x": [
          0,
          1
         ],
         "y": [
          4,
          23
         ]
        }
       ],
       "layout": {
        "bargap": 0.2,
        "xaxis": {
         "ticktext": [
          "No",
          "Sí"
         ],
         "tickvals": [
          0,
          1
         ]
        }
       }
      },
      "text/html": [
       "<div id=\"3c7c8986-17b3-491d-9741-bbfbe60074bb\" style=\"height: 525px; width: 100%;\" class=\"plotly-graph-div\"></div><script type=\"text/javascript\">require([\"plotly\"], function(Plotly) { window.PLOTLYENV=window.PLOTLYENV || {};window.PLOTLYENV.BASE_URL=\"https://plot.ly\";\n",
       "if (document.getElementById(\"3c7c8986-17b3-491d-9741-bbfbe60074bb\")) {\n",
       "    Plotly.newPlot(\"3c7c8986-17b3-491d-9741-bbfbe60074bb\", [{\"marker\": {\"color\": [\"rgb(213,62,79)\", \"rgb(252,141,89)\", \"rgb(254,224,139)\", \"rgb(230,245,152)\", \"rgb(153,213,148)\", \"rgb(50,136,189)\"]}, \"x\": [0, 1], \"y\": [4, 23], \"type\": \"bar\", \"uid\": \"4cb2aea1-9462-425a-8fc6-2892abddc9eb\"}], {\"bargap\": 0.2, \"xaxis\": {\"ticktext\": [\"No\", \"S\\u00ed\"], \"tickvals\": [0, 1]}}, {\"showLink\": false, \"linkText\": \"Export to plot.ly\", \"plotlyServerURL\": \"https://plot.ly\"}); \n",
       "}\n",
       "});</script><script type=\"text/javascript\">window.addEventListener(\"resize\", function(){if (document.getElementById(\"3c7c8986-17b3-491d-9741-bbfbe60074bb\")) {window._Plotly.Plots.resize(document.getElementById(\"3c7c8986-17b3-491d-9741-bbfbe60074bb\"));};})</script>"
      ],
      "text/vnd.plotly.v1+html": [
       "<div id=\"3c7c8986-17b3-491d-9741-bbfbe60074bb\" style=\"height: 525px; width: 100%;\" class=\"plotly-graph-div\"></div><script type=\"text/javascript\">require([\"plotly\"], function(Plotly) { window.PLOTLYENV=window.PLOTLYENV || {};window.PLOTLYENV.BASE_URL=\"https://plot.ly\";\n",
       "if (document.getElementById(\"3c7c8986-17b3-491d-9741-bbfbe60074bb\")) {\n",
       "    Plotly.newPlot(\"3c7c8986-17b3-491d-9741-bbfbe60074bb\", [{\"marker\": {\"color\": [\"rgb(213,62,79)\", \"rgb(252,141,89)\", \"rgb(254,224,139)\", \"rgb(230,245,152)\", \"rgb(153,213,148)\", \"rgb(50,136,189)\"]}, \"x\": [0, 1], \"y\": [4, 23], \"type\": \"bar\", \"uid\": \"4cb2aea1-9462-425a-8fc6-2892abddc9eb\"}], {\"bargap\": 0.2, \"xaxis\": {\"ticktext\": [\"No\", \"S\\u00ed\"], \"tickvals\": [0, 1]}}, {\"showLink\": false, \"linkText\": \"Export to plot.ly\", \"plotlyServerURL\": \"https://plot.ly\"}); \n",
       "}\n",
       "});</script><script type=\"text/javascript\">window.addEventListener(\"resize\", function(){if (document.getElementById(\"3c7c8986-17b3-491d-9741-bbfbe60074bb\")) {window._Plotly.Plots.resize(document.getElementById(\"3c7c8986-17b3-491d-9741-bbfbe60074bb\"));};})</script>"
      ]
     },
     "metadata": {},
     "output_type": "display_data"
    },
    {
     "name": "stdout",
     "output_type": "stream",
     "text": [
      "\n",
      "\n",
      "Cluster 3 || variable: ¿Qué tipo de aplicaciones utilizas en tu ordenador/tableta/móvil? (Respuesta múltiple) [5. Aplicaciones de vídeo (Youtube, Vimeo, etc.).]\n",
      "Describiendo la pregunta ¿Qué tipo de aplicaciones utilizas en tu ordenador/tableta/móvil? (Respuesta múltiple) [5. Aplicaciones de vídeo (Youtube, Vimeo, etc.).]\n",
      "Valores numéricos asociados a las respuestas [0, 1]\n",
      "Respuestas posibles a la pregunta/variable ['No', 'Sí']\n"
     ]
    },
    {
     "data": {
      "text/plain": [
       "count    27.000000\n",
       "mean      0.740741\n",
       "std       0.446576\n",
       "min       0.000000\n",
       "25%       0.500000\n",
       "50%       1.000000\n",
       "75%       1.000000\n",
       "max       1.000000\n",
       "Name: ¿Qué tipo de aplicaciones utilizas en tu ordenador/tableta/móvil? (Respuesta múltiple) [5. Aplicaciones de vídeo (Youtube, Vimeo, etc.).], dtype: float64"
      ]
     },
     "metadata": {},
     "output_type": "display_data"
    },
    {
     "name": "stdout",
     "output_type": "stream",
     "text": [
      "Conteo de cada valor en ¿Qué tipo de aplicaciones utilizas en tu ordenador/tableta/móvil? (Respuesta múltiple) [5. Aplicaciones de vídeo (Youtube, Vimeo, etc.).] expresada como valor / cantidad\n"
     ]
    },
    {
     "data": {
      "text/plain": [
       "0     7\n",
       "1    20\n",
       "Name: ¿Qué tipo de aplicaciones utilizas en tu ordenador/tableta/móvil? (Respuesta múltiple) [5. Aplicaciones de vídeo (Youtube, Vimeo, etc.).], dtype: int64"
      ]
     },
     "metadata": {},
     "output_type": "display_data"
    },
    {
     "name": "stdout",
     "output_type": "stream",
     "text": [
      "Porcentaje de cada valor en ¿Qué tipo de aplicaciones utilizas en tu ordenador/tableta/móvil? (Respuesta múltiple) [5. Aplicaciones de vídeo (Youtube, Vimeo, etc.).] expresado como valor / porcentaje\n"
     ]
    },
    {
     "data": {
      "text/plain": [
       "0    25.93\n",
       "1    74.07\n",
       "Name: ¿Qué tipo de aplicaciones utilizas en tu ordenador/tableta/móvil? (Respuesta múltiple) [5. Aplicaciones de vídeo (Youtube, Vimeo, etc.).], dtype: float64"
      ]
     },
     "metadata": {},
     "output_type": "display_data"
    },
    {
     "data": {
      "application/vnd.plotly.v1+json": {
       "config": {
        "linkText": "Export to plot.ly",
        "plotlyServerURL": "https://plot.ly",
        "showLink": false
       },
       "data": [
        {
         "marker": {
          "color": [
           "rgb(213,62,79)",
           "rgb(252,141,89)",
           "rgb(254,224,139)",
           "rgb(230,245,152)",
           "rgb(153,213,148)",
           "rgb(50,136,189)"
          ]
         },
         "type": "bar",
         "uid": "ccd48364-68ea-4af1-855f-4e9c72108b07",
         "x": [
          0,
          1
         ],
         "y": [
          7,
          20
         ]
        }
       ],
       "layout": {
        "bargap": 0.2,
        "xaxis": {
         "ticktext": [
          "No",
          "Sí"
         ],
         "tickvals": [
          0,
          1
         ]
        }
       }
      },
      "text/html": [
       "<div id=\"eb041923-6eb5-4842-b568-1e2164916629\" style=\"height: 525px; width: 100%;\" class=\"plotly-graph-div\"></div><script type=\"text/javascript\">require([\"plotly\"], function(Plotly) { window.PLOTLYENV=window.PLOTLYENV || {};window.PLOTLYENV.BASE_URL=\"https://plot.ly\";\n",
       "if (document.getElementById(\"eb041923-6eb5-4842-b568-1e2164916629\")) {\n",
       "    Plotly.newPlot(\"eb041923-6eb5-4842-b568-1e2164916629\", [{\"marker\": {\"color\": [\"rgb(213,62,79)\", \"rgb(252,141,89)\", \"rgb(254,224,139)\", \"rgb(230,245,152)\", \"rgb(153,213,148)\", \"rgb(50,136,189)\"]}, \"x\": [0, 1], \"y\": [7, 20], \"type\": \"bar\", \"uid\": \"ccd48364-68ea-4af1-855f-4e9c72108b07\"}], {\"bargap\": 0.2, \"xaxis\": {\"ticktext\": [\"No\", \"S\\u00ed\"], \"tickvals\": [0, 1]}}, {\"showLink\": false, \"linkText\": \"Export to plot.ly\", \"plotlyServerURL\": \"https://plot.ly\"}); \n",
       "}\n",
       "});</script><script type=\"text/javascript\">window.addEventListener(\"resize\", function(){if (document.getElementById(\"eb041923-6eb5-4842-b568-1e2164916629\")) {window._Plotly.Plots.resize(document.getElementById(\"eb041923-6eb5-4842-b568-1e2164916629\"));};})</script>"
      ],
      "text/vnd.plotly.v1+html": [
       "<div id=\"eb041923-6eb5-4842-b568-1e2164916629\" style=\"height: 525px; width: 100%;\" class=\"plotly-graph-div\"></div><script type=\"text/javascript\">require([\"plotly\"], function(Plotly) { window.PLOTLYENV=window.PLOTLYENV || {};window.PLOTLYENV.BASE_URL=\"https://plot.ly\";\n",
       "if (document.getElementById(\"eb041923-6eb5-4842-b568-1e2164916629\")) {\n",
       "    Plotly.newPlot(\"eb041923-6eb5-4842-b568-1e2164916629\", [{\"marker\": {\"color\": [\"rgb(213,62,79)\", \"rgb(252,141,89)\", \"rgb(254,224,139)\", \"rgb(230,245,152)\", \"rgb(153,213,148)\", \"rgb(50,136,189)\"]}, \"x\": [0, 1], \"y\": [7, 20], \"type\": \"bar\", \"uid\": \"ccd48364-68ea-4af1-855f-4e9c72108b07\"}], {\"bargap\": 0.2, \"xaxis\": {\"ticktext\": [\"No\", \"S\\u00ed\"], \"tickvals\": [0, 1]}}, {\"showLink\": false, \"linkText\": \"Export to plot.ly\", \"plotlyServerURL\": \"https://plot.ly\"}); \n",
       "}\n",
       "});</script><script type=\"text/javascript\">window.addEventListener(\"resize\", function(){if (document.getElementById(\"eb041923-6eb5-4842-b568-1e2164916629\")) {window._Plotly.Plots.resize(document.getElementById(\"eb041923-6eb5-4842-b568-1e2164916629\"));};})</script>"
      ]
     },
     "metadata": {},
     "output_type": "display_data"
    },
    {
     "name": "stdout",
     "output_type": "stream",
     "text": [
      "\n",
      "\n",
      "Cluster 3 || variable: ¿Qué tipo de aplicaciones utilizas en tu ordenador/tableta/móvil? (Respuesta múltiple) [Otro]\n",
      "Describiendo la pregunta ¿Qué tipo de aplicaciones utilizas en tu ordenador/tableta/móvil? (Respuesta múltiple) [Otro]\n",
      "\n",
      "\n",
      "Cluster 3 || variable: Durante ese uso, ¿cuántas imágenes consumes (ves y compartes)?\n",
      "Describiendo la pregunta Durante ese uso, ¿cuántas imágenes consumes (ves y compartes)?\n",
      "Valores numéricos asociados a las respuestas [1, 2, 3, 4, 5]\n",
      "Respuestas posibles a la pregunta/variable ['1. Ninguna', '2. Pocas', '3. Ni muchas ni pocas', '4. Bastantes', '5. Recibo y envio imágenes de forma constante']\n"
     ]
    },
    {
     "data": {
      "text/plain": [
       "count    27.000000\n",
       "mean      3.703704\n",
       "std       0.992852\n",
       "min       1.000000\n",
       "25%       3.000000\n",
       "50%       4.000000\n",
       "75%       4.000000\n",
       "max       5.000000\n",
       "Name: Durante ese uso, ¿cuántas imágenes consumes (ves y compartes)?, dtype: float64"
      ]
     },
     "metadata": {},
     "output_type": "display_data"
    },
    {
     "name": "stdout",
     "output_type": "stream",
     "text": [
      "Conteo de cada valor en Durante ese uso, ¿cuántas imágenes consumes (ves y compartes)? expresada como valor / cantidad\n"
     ]
    },
    {
     "data": {
      "text/plain": [
       "1     1\n",
       "2     1\n",
       "3     9\n",
       "4    10\n",
       "5     6\n",
       "Name: Durante ese uso, ¿cuántas imágenes consumes (ves y compartes)?, dtype: int64"
      ]
     },
     "metadata": {},
     "output_type": "display_data"
    },
    {
     "name": "stdout",
     "output_type": "stream",
     "text": [
      "Porcentaje de cada valor en Durante ese uso, ¿cuántas imágenes consumes (ves y compartes)? expresado como valor / porcentaje\n"
     ]
    },
    {
     "data": {
      "text/plain": [
       "1     3.70\n",
       "2     3.70\n",
       "3    33.33\n",
       "4    37.04\n",
       "5    22.22\n",
       "Name: Durante ese uso, ¿cuántas imágenes consumes (ves y compartes)?, dtype: float64"
      ]
     },
     "metadata": {},
     "output_type": "display_data"
    },
    {
     "data": {
      "application/vnd.plotly.v1+json": {
       "config": {
        "linkText": "Export to plot.ly",
        "plotlyServerURL": "https://plot.ly",
        "showLink": false
       },
       "data": [
        {
         "marker": {
          "color": [
           "rgb(213,62,79)",
           "rgb(252,141,89)",
           "rgb(254,224,139)",
           "rgb(230,245,152)",
           "rgb(153,213,148)",
           "rgb(50,136,189)"
          ]
         },
         "type": "bar",
         "uid": "d8932c4a-f9a1-47f3-9236-396b4cda8034",
         "x": [
          1,
          2,
          3,
          4,
          5
         ],
         "y": [
          1,
          1,
          9,
          10,
          6
         ]
        }
       ],
       "layout": {
        "bargap": 0.2,
        "xaxis": {
         "ticktext": [
          "1. Ninguna",
          "2. Pocas",
          "3. Ni muchas ni pocas",
          "4. Bastantes",
          "5. Recibo y envio imágenes de forma constante"
         ],
         "tickvals": [
          1,
          2,
          3,
          4,
          5
         ]
        }
       }
      },
      "text/html": [
       "<div id=\"05568bc6-5418-41b1-947e-3524f014aeda\" style=\"height: 525px; width: 100%;\" class=\"plotly-graph-div\"></div><script type=\"text/javascript\">require([\"plotly\"], function(Plotly) { window.PLOTLYENV=window.PLOTLYENV || {};window.PLOTLYENV.BASE_URL=\"https://plot.ly\";\n",
       "if (document.getElementById(\"05568bc6-5418-41b1-947e-3524f014aeda\")) {\n",
       "    Plotly.newPlot(\"05568bc6-5418-41b1-947e-3524f014aeda\", [{\"marker\": {\"color\": [\"rgb(213,62,79)\", \"rgb(252,141,89)\", \"rgb(254,224,139)\", \"rgb(230,245,152)\", \"rgb(153,213,148)\", \"rgb(50,136,189)\"]}, \"x\": [1, 2, 3, 4, 5], \"y\": [1, 1, 9, 10, 6], \"type\": \"bar\", \"uid\": \"d8932c4a-f9a1-47f3-9236-396b4cda8034\"}], {\"bargap\": 0.2, \"xaxis\": {\"ticktext\": [\"1. Ninguna\", \"2. Pocas\", \"3. Ni muchas ni pocas\", \"4. Bastantes\", \"5. Recibo y envio im\\u00e1genes de forma constante\"], \"tickvals\": [1, 2, 3, 4, 5]}}, {\"showLink\": false, \"linkText\": \"Export to plot.ly\", \"plotlyServerURL\": \"https://plot.ly\"}); \n",
       "}\n",
       "});</script><script type=\"text/javascript\">window.addEventListener(\"resize\", function(){if (document.getElementById(\"05568bc6-5418-41b1-947e-3524f014aeda\")) {window._Plotly.Plots.resize(document.getElementById(\"05568bc6-5418-41b1-947e-3524f014aeda\"));};})</script>"
      ],
      "text/vnd.plotly.v1+html": [
       "<div id=\"05568bc6-5418-41b1-947e-3524f014aeda\" style=\"height: 525px; width: 100%;\" class=\"plotly-graph-div\"></div><script type=\"text/javascript\">require([\"plotly\"], function(Plotly) { window.PLOTLYENV=window.PLOTLYENV || {};window.PLOTLYENV.BASE_URL=\"https://plot.ly\";\n",
       "if (document.getElementById(\"05568bc6-5418-41b1-947e-3524f014aeda\")) {\n",
       "    Plotly.newPlot(\"05568bc6-5418-41b1-947e-3524f014aeda\", [{\"marker\": {\"color\": [\"rgb(213,62,79)\", \"rgb(252,141,89)\", \"rgb(254,224,139)\", \"rgb(230,245,152)\", \"rgb(153,213,148)\", \"rgb(50,136,189)\"]}, \"x\": [1, 2, 3, 4, 5], \"y\": [1, 1, 9, 10, 6], \"type\": \"bar\", \"uid\": \"d8932c4a-f9a1-47f3-9236-396b4cda8034\"}], {\"bargap\": 0.2, \"xaxis\": {\"ticktext\": [\"1. Ninguna\", \"2. Pocas\", \"3. Ni muchas ni pocas\", \"4. Bastantes\", \"5. Recibo y envio im\\u00e1genes de forma constante\"], \"tickvals\": [1, 2, 3, 4, 5]}}, {\"showLink\": false, \"linkText\": \"Export to plot.ly\", \"plotlyServerURL\": \"https://plot.ly\"}); \n",
       "}\n",
       "});</script><script type=\"text/javascript\">window.addEventListener(\"resize\", function(){if (document.getElementById(\"05568bc6-5418-41b1-947e-3524f014aeda\")) {window._Plotly.Plots.resize(document.getElementById(\"05568bc6-5418-41b1-947e-3524f014aeda\"));};})</script>"
      ]
     },
     "metadata": {},
     "output_type": "display_data"
    },
    {
     "name": "stdout",
     "output_type": "stream",
     "text": [
      "\n",
      "\n",
      "Cluster 3 || variable: ¿Cuál es tu herramienta habitual de consumo de imágenes?\n",
      "Describiendo la pregunta ¿Cuál es tu herramienta habitual de consumo de imágenes?\n",
      "Valores numéricos asociados a las respuestas [1, 2, 3, 4, 5]\n",
      "Respuestas posibles a la pregunta/variable ['1. Móvil', '2. Televisión', '3. Ordenador', '4. Tableta', '5. Otros (Libros y periódicos en papel, marquesinas, museos...)']\n"
     ]
    },
    {
     "data": {
      "text/plain": [
       "count    27.000000\n",
       "mean      2.000000\n",
       "std       1.074172\n",
       "min       1.000000\n",
       "25%       1.000000\n",
       "50%       2.000000\n",
       "75%       3.000000\n",
       "max       4.000000\n",
       "Name: ¿Cuál es tu herramienta habitual de consumo de imágenes?, dtype: float64"
      ]
     },
     "metadata": {},
     "output_type": "display_data"
    },
    {
     "name": "stdout",
     "output_type": "stream",
     "text": [
      "Conteo de cada valor en ¿Cuál es tu herramienta habitual de consumo de imágenes? expresada como valor / cantidad\n"
     ]
    },
    {
     "data": {
      "text/plain": [
       "1    13\n",
       "2     3\n",
       "3     9\n",
       "4     2\n",
       "Name: ¿Cuál es tu herramienta habitual de consumo de imágenes?, dtype: int64"
      ]
     },
     "metadata": {},
     "output_type": "display_data"
    },
    {
     "name": "stdout",
     "output_type": "stream",
     "text": [
      "Porcentaje de cada valor en ¿Cuál es tu herramienta habitual de consumo de imágenes? expresado como valor / porcentaje\n"
     ]
    },
    {
     "data": {
      "text/plain": [
       "1    48.15\n",
       "2    11.11\n",
       "3    33.33\n",
       "4     7.41\n",
       "Name: ¿Cuál es tu herramienta habitual de consumo de imágenes?, dtype: float64"
      ]
     },
     "metadata": {},
     "output_type": "display_data"
    },
    {
     "data": {
      "application/vnd.plotly.v1+json": {
       "config": {
        "linkText": "Export to plot.ly",
        "plotlyServerURL": "https://plot.ly",
        "showLink": false
       },
       "data": [
        {
         "marker": {
          "color": [
           "rgb(213,62,79)",
           "rgb(252,141,89)",
           "rgb(254,224,139)",
           "rgb(230,245,152)",
           "rgb(153,213,148)",
           "rgb(50,136,189)"
          ]
         },
         "type": "bar",
         "uid": "2014c2f4-d2fd-4f72-96fc-e451759aae25",
         "x": [
          1,
          2,
          3,
          4
         ],
         "y": [
          13,
          3,
          9,
          2
         ]
        }
       ],
       "layout": {
        "bargap": 0.2,
        "xaxis": {
         "ticktext": [
          "1. Móvil",
          "2. Televisión",
          "3. Ordenador",
          "4. Tableta",
          "5. Otros (Libros y periódicos en papel, marquesinas, museos...)"
         ],
         "tickvals": [
          1,
          2,
          3,
          4,
          5
         ]
        }
       }
      },
      "text/html": [
       "<div id=\"8e3d2c3f-4a83-4d0b-9dea-8a4de4ac93c4\" style=\"height: 525px; width: 100%;\" class=\"plotly-graph-div\"></div><script type=\"text/javascript\">require([\"plotly\"], function(Plotly) { window.PLOTLYENV=window.PLOTLYENV || {};window.PLOTLYENV.BASE_URL=\"https://plot.ly\";\n",
       "if (document.getElementById(\"8e3d2c3f-4a83-4d0b-9dea-8a4de4ac93c4\")) {\n",
       "    Plotly.newPlot(\"8e3d2c3f-4a83-4d0b-9dea-8a4de4ac93c4\", [{\"marker\": {\"color\": [\"rgb(213,62,79)\", \"rgb(252,141,89)\", \"rgb(254,224,139)\", \"rgb(230,245,152)\", \"rgb(153,213,148)\", \"rgb(50,136,189)\"]}, \"x\": [1, 2, 3, 4], \"y\": [13, 3, 9, 2], \"type\": \"bar\", \"uid\": \"2014c2f4-d2fd-4f72-96fc-e451759aae25\"}], {\"bargap\": 0.2, \"xaxis\": {\"ticktext\": [\"1. M\\u00f3vil\", \"2. Televisi\\u00f3n\", \"3. Ordenador\", \"4. Tableta\", \"5. Otros (Libros y peri\\u00f3dicos en papel, marquesinas, museos...)\"], \"tickvals\": [1, 2, 3, 4, 5]}}, {\"showLink\": false, \"linkText\": \"Export to plot.ly\", \"plotlyServerURL\": \"https://plot.ly\"}); \n",
       "}\n",
       "});</script><script type=\"text/javascript\">window.addEventListener(\"resize\", function(){if (document.getElementById(\"8e3d2c3f-4a83-4d0b-9dea-8a4de4ac93c4\")) {window._Plotly.Plots.resize(document.getElementById(\"8e3d2c3f-4a83-4d0b-9dea-8a4de4ac93c4\"));};})</script>"
      ],
      "text/vnd.plotly.v1+html": [
       "<div id=\"8e3d2c3f-4a83-4d0b-9dea-8a4de4ac93c4\" style=\"height: 525px; width: 100%;\" class=\"plotly-graph-div\"></div><script type=\"text/javascript\">require([\"plotly\"], function(Plotly) { window.PLOTLYENV=window.PLOTLYENV || {};window.PLOTLYENV.BASE_URL=\"https://plot.ly\";\n",
       "if (document.getElementById(\"8e3d2c3f-4a83-4d0b-9dea-8a4de4ac93c4\")) {\n",
       "    Plotly.newPlot(\"8e3d2c3f-4a83-4d0b-9dea-8a4de4ac93c4\", [{\"marker\": {\"color\": [\"rgb(213,62,79)\", \"rgb(252,141,89)\", \"rgb(254,224,139)\", \"rgb(230,245,152)\", \"rgb(153,213,148)\", \"rgb(50,136,189)\"]}, \"x\": [1, 2, 3, 4], \"y\": [13, 3, 9, 2], \"type\": \"bar\", \"uid\": \"2014c2f4-d2fd-4f72-96fc-e451759aae25\"}], {\"bargap\": 0.2, \"xaxis\": {\"ticktext\": [\"1. M\\u00f3vil\", \"2. Televisi\\u00f3n\", \"3. Ordenador\", \"4. Tableta\", \"5. Otros (Libros y peri\\u00f3dicos en papel, marquesinas, museos...)\"], \"tickvals\": [1, 2, 3, 4, 5]}}, {\"showLink\": false, \"linkText\": \"Export to plot.ly\", \"plotlyServerURL\": \"https://plot.ly\"}); \n",
       "}\n",
       "});</script><script type=\"text/javascript\">window.addEventListener(\"resize\", function(){if (document.getElementById(\"8e3d2c3f-4a83-4d0b-9dea-8a4de4ac93c4\")) {window._Plotly.Plots.resize(document.getElementById(\"8e3d2c3f-4a83-4d0b-9dea-8a4de4ac93c4\"));};})</script>"
      ]
     },
     "metadata": {},
     "output_type": "display_data"
    },
    {
     "name": "stdout",
     "output_type": "stream",
     "text": [
      "\n",
      "\n",
      "Cluster 3 || variable: ¿Cada cuánto tiempo consumes imágenes?\n",
      "Describiendo la pregunta ¿Cada cuánto tiempo consumes imágenes?\n",
      "Valores numéricos asociados a las respuestas [1, 2, 3, 4]\n",
      "Respuestas posibles a la pregunta/variable ['1. Nunca', '2. Dos o tres veces por semana', '3. Casi todos los días', '4. A diario']\n"
     ]
    },
    {
     "data": {
      "text/plain": [
       "count    27.000000\n",
       "mean      3.185185\n",
       "std       0.681460\n",
       "min       2.000000\n",
       "25%       3.000000\n",
       "50%       3.000000\n",
       "75%       4.000000\n",
       "max       4.000000\n",
       "Name: ¿Cada cuánto tiempo consumes imágenes?, dtype: float64"
      ]
     },
     "metadata": {},
     "output_type": "display_data"
    },
    {
     "name": "stdout",
     "output_type": "stream",
     "text": [
      "Conteo de cada valor en ¿Cada cuánto tiempo consumes imágenes? expresada como valor / cantidad\n"
     ]
    },
    {
     "data": {
      "text/plain": [
       "2     4\n",
       "3    14\n",
       "4     9\n",
       "Name: ¿Cada cuánto tiempo consumes imágenes?, dtype: int64"
      ]
     },
     "metadata": {},
     "output_type": "display_data"
    },
    {
     "name": "stdout",
     "output_type": "stream",
     "text": [
      "Porcentaje de cada valor en ¿Cada cuánto tiempo consumes imágenes? expresado como valor / porcentaje\n"
     ]
    },
    {
     "data": {
      "text/plain": [
       "2    14.81\n",
       "3    51.85\n",
       "4    33.33\n",
       "Name: ¿Cada cuánto tiempo consumes imágenes?, dtype: float64"
      ]
     },
     "metadata": {},
     "output_type": "display_data"
    },
    {
     "data": {
      "application/vnd.plotly.v1+json": {
       "config": {
        "linkText": "Export to plot.ly",
        "plotlyServerURL": "https://plot.ly",
        "showLink": false
       },
       "data": [
        {
         "marker": {
          "color": [
           "rgb(213,62,79)",
           "rgb(252,141,89)",
           "rgb(254,224,139)",
           "rgb(230,245,152)",
           "rgb(153,213,148)",
           "rgb(50,136,189)"
          ]
         },
         "type": "bar",
         "uid": "c7c40906-2202-47fb-a253-3803e8a533d4",
         "x": [
          2,
          3,
          4
         ],
         "y": [
          4,
          14,
          9
         ]
        }
       ],
       "layout": {
        "bargap": 0.2,
        "xaxis": {
         "ticktext": [
          "1. Nunca",
          "2. Dos o tres veces por semana",
          "3. Casi todos los días",
          "4. A diario"
         ],
         "tickvals": [
          1,
          2,
          3,
          4
         ]
        }
       }
      },
      "text/html": [
       "<div id=\"64043aa6-69a8-4b1b-9ed1-d5b09c2e8991\" style=\"height: 525px; width: 100%;\" class=\"plotly-graph-div\"></div><script type=\"text/javascript\">require([\"plotly\"], function(Plotly) { window.PLOTLYENV=window.PLOTLYENV || {};window.PLOTLYENV.BASE_URL=\"https://plot.ly\";\n",
       "if (document.getElementById(\"64043aa6-69a8-4b1b-9ed1-d5b09c2e8991\")) {\n",
       "    Plotly.newPlot(\"64043aa6-69a8-4b1b-9ed1-d5b09c2e8991\", [{\"marker\": {\"color\": [\"rgb(213,62,79)\", \"rgb(252,141,89)\", \"rgb(254,224,139)\", \"rgb(230,245,152)\", \"rgb(153,213,148)\", \"rgb(50,136,189)\"]}, \"x\": [2, 3, 4], \"y\": [4, 14, 9], \"type\": \"bar\", \"uid\": \"c7c40906-2202-47fb-a253-3803e8a533d4\"}], {\"bargap\": 0.2, \"xaxis\": {\"ticktext\": [\"1. Nunca\", \"2. Dos o tres veces por semana\", \"3. Casi todos los d\\u00edas\", \"4. A diario\"], \"tickvals\": [1, 2, 3, 4]}}, {\"showLink\": false, \"linkText\": \"Export to plot.ly\", \"plotlyServerURL\": \"https://plot.ly\"}); \n",
       "}\n",
       "});</script><script type=\"text/javascript\">window.addEventListener(\"resize\", function(){if (document.getElementById(\"64043aa6-69a8-4b1b-9ed1-d5b09c2e8991\")) {window._Plotly.Plots.resize(document.getElementById(\"64043aa6-69a8-4b1b-9ed1-d5b09c2e8991\"));};})</script>"
      ],
      "text/vnd.plotly.v1+html": [
       "<div id=\"64043aa6-69a8-4b1b-9ed1-d5b09c2e8991\" style=\"height: 525px; width: 100%;\" class=\"plotly-graph-div\"></div><script type=\"text/javascript\">require([\"plotly\"], function(Plotly) { window.PLOTLYENV=window.PLOTLYENV || {};window.PLOTLYENV.BASE_URL=\"https://plot.ly\";\n",
       "if (document.getElementById(\"64043aa6-69a8-4b1b-9ed1-d5b09c2e8991\")) {\n",
       "    Plotly.newPlot(\"64043aa6-69a8-4b1b-9ed1-d5b09c2e8991\", [{\"marker\": {\"color\": [\"rgb(213,62,79)\", \"rgb(252,141,89)\", \"rgb(254,224,139)\", \"rgb(230,245,152)\", \"rgb(153,213,148)\", \"rgb(50,136,189)\"]}, \"x\": [2, 3, 4], \"y\": [4, 14, 9], \"type\": \"bar\", \"uid\": \"c7c40906-2202-47fb-a253-3803e8a533d4\"}], {\"bargap\": 0.2, \"xaxis\": {\"ticktext\": [\"1. Nunca\", \"2. Dos o tres veces por semana\", \"3. Casi todos los d\\u00edas\", \"4. A diario\"], \"tickvals\": [1, 2, 3, 4]}}, {\"showLink\": false, \"linkText\": \"Export to plot.ly\", \"plotlyServerURL\": \"https://plot.ly\"}); \n",
       "}\n",
       "});</script><script type=\"text/javascript\">window.addEventListener(\"resize\", function(){if (document.getElementById(\"64043aa6-69a8-4b1b-9ed1-d5b09c2e8991\")) {window._Plotly.Plots.resize(document.getElementById(\"64043aa6-69a8-4b1b-9ed1-d5b09c2e8991\"));};})</script>"
      ]
     },
     "metadata": {},
     "output_type": "display_data"
    }
   ],
   "source": [
    "visualize_reception_images_by_cultural_clusters_esp(dataframe_with_clusters_esp)"
   ]
  },
  {
   "cell_type": "code",
   "execution_count": 10,
   "metadata": {
    "scrolled": false
   },
   "outputs": [],
   "source": [
    "# visualize_reception_images_by_cultural_clusters_en(dataframe_with_clusters_en)"
   ]
  },
  {
   "cell_type": "code",
   "execution_count": 11,
   "metadata": {
    "scrolled": false
   },
   "outputs": [
    {
     "name": "stdout",
     "output_type": "stream",
     "text": [
      "Comparando la pregunta Clasifica tu grado de visión\n"
     ]
    },
    {
     "data": {
      "application/vnd.plotly.v1+json": {
       "config": {
        "linkText": "Export to plot.ly",
        "plotlyServerURL": "https://plot.ly",
        "showLink": false
       },
       "data": [
        {
         "hovertemplate": "Clasifica tu grado de visión=1. Muy malo<br>counts=%{r}<br>cultural_cluster=%{theta}<extra></extra>",
         "legendgroup": "Clasifica tu grado de visión=1. Muy malo",
         "marker": {
          "color": "rgb(213,62,79)"
         },
         "name": "Clasifica tu grado de visión=1. Muy malo",
         "r": [
          2,
          2
         ],
         "showlegend": true,
         "theta": [
          "cluster_1",
          "cluster_4"
         ],
         "type": "barpolar",
         "uid": "2209fddc-af80-4075-ad6e-22827ea412f4"
        },
        {
         "hovertemplate": "Clasifica tu grado de visión=2. Malo<br>counts=%{r}<br>cultural_cluster=%{theta}<extra></extra>",
         "legendgroup": "Clasifica tu grado de visión=2. Malo",
         "marker": {
          "color": "rgb(252,141,89)"
         },
         "name": "Clasifica tu grado de visión=2. Malo",
         "r": [
          17,
          5,
          2,
          4
         ],
         "showlegend": true,
         "theta": [
          "cluster_1",
          "cluster_2",
          "cluster_3",
          "cluster_4"
         ],
         "type": "barpolar",
         "uid": "7c9bdeae-03cb-4d69-8c54-99750fd1ea66"
        },
        {
         "hovertemplate": "Clasifica tu grado de visión=3. Regular<br>counts=%{r}<br>cultural_cluster=%{theta}<extra></extra>",
         "legendgroup": "Clasifica tu grado de visión=3. Regular",
         "marker": {
          "color": "rgb(254,224,139)"
         },
         "name": "Clasifica tu grado de visión=3. Regular",
         "r": [
          47,
          54,
          7,
          46,
          1
         ],
         "showlegend": true,
         "theta": [
          "cluster_1",
          "cluster_2",
          "cluster_3",
          "cluster_4",
          "cluster_5"
         ],
         "type": "barpolar",
         "uid": "8cb44a03-5006-4b7f-9fd7-ba4168336651"
        },
        {
         "hovertemplate": "Clasifica tu grado de visión=4. Bueno<br>counts=%{r}<br>cultural_cluster=%{theta}<extra></extra>",
         "legendgroup": "Clasifica tu grado de visión=4. Bueno",
         "marker": {
          "color": "rgb(230,245,152)"
         },
         "name": "Clasifica tu grado de visión=4. Bueno",
         "r": [
          90,
          130,
          13,
          101
         ],
         "showlegend": true,
         "theta": [
          "cluster_1",
          "cluster_2",
          "cluster_3",
          "cluster_4"
         ],
         "type": "barpolar",
         "uid": "b3b419e8-eee8-40b3-ab13-0e197dfb409e"
        },
        {
         "hovertemplate": "Clasifica tu grado de visión=5. Muy bueno<br>counts=%{r}<br>cultural_cluster=%{theta}<extra></extra>",
         "legendgroup": "Clasifica tu grado de visión=5. Muy bueno",
         "marker": {
          "color": "rgb(153,213,148)"
         },
         "name": "Clasifica tu grado de visión=5. Muy bueno",
         "r": [
          67,
          112,
          5,
          62
         ],
         "showlegend": true,
         "theta": [
          "cluster_1",
          "cluster_2",
          "cluster_3",
          "cluster_4"
         ],
         "type": "barpolar",
         "uid": "57ff90f0-4344-419f-bc92-234dc884c95f"
        }
       ],
       "layout": {
        "barmode": "group",
        "barnorm": "",
        "height": 600,
        "legend": {
         "tracegroupgap": 0
        },
        "margin": {
         "t": 60
        },
        "polar": {
         "angularaxis": {
          "direction": "clockwise",
          "rotation": 90
         }
        },
        "template": {
         "data": {
          "bar": [
           {
            "marker": {
             "line": {
              "color": "#E5ECF6",
              "width": 0.5
             }
            },
            "type": "bar"
           }
          ],
          "barpolar": [
           {
            "marker": {
             "line": {
              "color": "#E5ECF6",
              "width": 0.5
             }
            },
            "type": "barpolar"
           }
          ],
          "carpet": [
           {
            "aaxis": {
             "endlinecolor": "#2a3f5f",
             "gridcolor": "white",
             "linecolor": "white",
             "minorgridcolor": "white",
             "startlinecolor": "#2a3f5f"
            },
            "baxis": {
             "endlinecolor": "#2a3f5f",
             "gridcolor": "white",
             "linecolor": "white",
             "minorgridcolor": "white",
             "startlinecolor": "#2a3f5f"
            },
            "type": "carpet"
           }
          ],
          "choropleth": [
           {
            "colorbar": {
             "outlinewidth": 0,
             "ticks": ""
            },
            "type": "choropleth"
           }
          ],
          "contour": [
           {
            "autocolorscale": true,
            "colorbar": {
             "outlinewidth": 0,
             "ticks": ""
            },
            "type": "contour"
           }
          ],
          "contourcarpet": [
           {
            "colorbar": {
             "outlinewidth": 0,
             "ticks": ""
            },
            "type": "contourcarpet"
           }
          ],
          "heatmap": [
           {
            "autocolorscale": true,
            "colorbar": {
             "outlinewidth": 0,
             "ticks": ""
            },
            "type": "heatmap"
           }
          ],
          "heatmapgl": [
           {
            "colorbar": {
             "outlinewidth": 0,
             "ticks": ""
            },
            "type": "heatmapgl"
           }
          ],
          "histogram": [
           {
            "marker": {
             "colorbar": {
              "outlinewidth": 0,
              "ticks": ""
             }
            },
            "type": "histogram"
           }
          ],
          "histogram2d": [
           {
            "autocolorscale": true,
            "colorbar": {
             "outlinewidth": 0,
             "ticks": ""
            },
            "type": "histogram2d"
           }
          ],
          "histogram2dcontour": [
           {
            "autocolorscale": true,
            "colorbar": {
             "outlinewidth": 0,
             "ticks": ""
            },
            "type": "histogram2dcontour"
           }
          ],
          "mesh3d": [
           {
            "colorbar": {
             "outlinewidth": 0,
             "ticks": ""
            },
            "type": "mesh3d"
           }
          ],
          "parcoords": [
           {
            "line": {
             "colorbar": {
              "outlinewidth": 0,
              "ticks": ""
             }
            },
            "type": "parcoords"
           }
          ],
          "scatter": [
           {
            "marker": {
             "colorbar": {
              "outlinewidth": 0,
              "ticks": ""
             }
            },
            "type": "scatter"
           }
          ],
          "scatter3d": [
           {
            "marker": {
             "colorbar": {
              "outlinewidth": 0,
              "ticks": ""
             }
            },
            "type": "scatter3d"
           }
          ],
          "scattercarpet": [
           {
            "marker": {
             "colorbar": {
              "outlinewidth": 0,
              "ticks": ""
             }
            },
            "type": "scattercarpet"
           }
          ],
          "scattergeo": [
           {
            "marker": {
             "colorbar": {
              "outlinewidth": 0,
              "ticks": ""
             }
            },
            "type": "scattergeo"
           }
          ],
          "scattergl": [
           {
            "marker": {
             "colorbar": {
              "outlinewidth": 0,
              "ticks": ""
             }
            },
            "type": "scattergl"
           }
          ],
          "scattermapbox": [
           {
            "marker": {
             "colorbar": {
              "outlinewidth": 0,
              "ticks": ""
             }
            },
            "type": "scattermapbox"
           }
          ],
          "scatterpolar": [
           {
            "marker": {
             "colorbar": {
              "outlinewidth": 0,
              "ticks": ""
             }
            },
            "type": "scatterpolar"
           }
          ],
          "scatterpolargl": [
           {
            "marker": {
             "colorbar": {
              "outlinewidth": 0,
              "ticks": ""
             }
            },
            "type": "scatterpolargl"
           }
          ],
          "scatterternary": [
           {
            "marker": {
             "colorbar": {
              "outlinewidth": 0,
              "ticks": ""
             }
            },
            "type": "scatterternary"
           }
          ],
          "surface": [
           {
            "colorbar": {
             "outlinewidth": 0,
             "ticks": ""
            },
            "type": "surface"
           }
          ],
          "table": [
           {
            "cells": {
             "fill": {
              "color": "#EBF0F8"
             },
             "line": {
              "color": "white"
             }
            },
            "header": {
             "fill": {
              "color": "#C8D4E3"
             },
             "line": {
              "color": "white"
             }
            },
            "type": "table"
           }
          ]
         },
         "layout": {
          "annotationdefaults": {
           "arrowcolor": "#506784",
           "arrowhead": 0,
           "arrowwidth": 1
          },
          "colorscale": {
           "diverging": [
            [
             0,
             "#8e0152"
            ],
            [
             0.1,
             "#c51b7d"
            ],
            [
             0.2,
             "#de77ae"
            ],
            [
             0.3,
             "#f1b6da"
            ],
            [
             0.4,
             "#fde0ef"
            ],
            [
             0.5,
             "#f7f7f7"
            ],
            [
             0.6,
             "#e6f5d0"
            ],
            [
             0.7,
             "#b8e186"
            ],
            [
             0.8,
             "#7fbc41"
            ],
            [
             0.9,
             "#4d9221"
            ],
            [
             1,
             "#276419"
            ]
           ],
           "sequential": [
            [
             0,
             "#0508b8"
            ],
            [
             0.0893854748603352,
             "#1910d8"
            ],
            [
             0.1787709497206704,
             "#3c19f0"
            ],
            [
             0.2681564245810056,
             "#6b1cfb"
            ],
            [
             0.3575418994413408,
             "#981cfd"
            ],
            [
             0.44692737430167595,
             "#bf1cfd"
            ],
            [
             0.5363128491620112,
             "#dd2bfd"
            ],
            [
             0.6256983240223464,
             "#f246fe"
            ],
            [
             0.7150837988826816,
             "#fc67fd"
            ],
            [
             0.8044692737430168,
             "#fe88fc"
            ],
            [
             0.8938547486033519,
             "#fea5fd"
            ],
            [
             0.9832402234636871,
             "#febefe"
            ],
            [
             1,
             "#fec3fe"
            ]
           ],
           "sequentialminus": [
            [
             0,
             "#0508b8"
            ],
            [
             0.0893854748603352,
             "#1910d8"
            ],
            [
             0.1787709497206704,
             "#3c19f0"
            ],
            [
             0.2681564245810056,
             "#6b1cfb"
            ],
            [
             0.3575418994413408,
             "#981cfd"
            ],
            [
             0.44692737430167595,
             "#bf1cfd"
            ],
            [
             0.5363128491620112,
             "#dd2bfd"
            ],
            [
             0.6256983240223464,
             "#f246fe"
            ],
            [
             0.7150837988826816,
             "#fc67fd"
            ],
            [
             0.8044692737430168,
             "#fe88fc"
            ],
            [
             0.8938547486033519,
             "#fea5fd"
            ],
            [
             0.9832402234636871,
             "#febefe"
            ],
            [
             1,
             "#fec3fe"
            ]
           ]
          },
          "colorway": [
           "#636efa",
           "#EF553B",
           "#00cc96",
           "#ab63fa",
           "#19d3f3",
           "#e763fa",
           "#FECB52",
           "#FFA15A",
           "#FF6692",
           "#B6E880"
          ],
          "font": {
           "color": "#2a3f5f"
          },
          "geo": {
           "bgcolor": "white",
           "lakecolor": "white",
           "landcolor": "#E5ECF6",
           "showlakes": true,
           "showland": true,
           "subunitcolor": "white"
          },
          "hovermode": "closest",
          "mapbox": {
           "style": "light"
          },
          "paper_bgcolor": "white",
          "plot_bgcolor": "#E5ECF6",
          "polar": {
           "angularaxis": {
            "gridcolor": "white",
            "linecolor": "white",
            "ticks": ""
           },
           "bgcolor": "#E5ECF6",
           "radialaxis": {
            "gridcolor": "white",
            "linecolor": "white",
            "ticks": ""
           }
          },
          "scene": {
           "xaxis": {
            "backgroundcolor": "#E5ECF6",
            "gridcolor": "white",
            "gridwidth": 2,
            "linecolor": "white",
            "showbackground": true,
            "ticks": "",
            "zerolinecolor": "white"
           },
           "yaxis": {
            "backgroundcolor": "#E5ECF6",
            "gridcolor": "white",
            "gridwidth": 2,
            "linecolor": "white",
            "showbackground": true,
            "ticks": "",
            "zerolinecolor": "white"
           },
           "zaxis": {
            "backgroundcolor": "#E5ECF6",
            "gridcolor": "white",
            "gridwidth": 2,
            "linecolor": "white",
            "showbackground": true,
            "ticks": "",
            "zerolinecolor": "white"
           }
          },
          "shapedefaults": {
           "fillcolor": "#506784",
           "line": {
            "width": 0
           },
           "opacity": 0.4
          },
          "ternary": {
           "aaxis": {
            "gridcolor": "white",
            "linecolor": "white",
            "ticks": ""
           },
           "baxis": {
            "gridcolor": "white",
            "linecolor": "white",
            "ticks": ""
           },
           "bgcolor": "#E5ECF6",
           "caxis": {
            "gridcolor": "white",
            "linecolor": "white",
            "ticks": ""
           }
          },
          "title": {
           "x": 0.05
          },
          "xaxis": {
           "automargin": true,
           "gridcolor": "white",
           "linecolor": "white",
           "ticks": "",
           "zerolinecolor": "white",
           "zerolinewidth": 2
          },
          "yaxis": {
           "automargin": true,
           "gridcolor": "white",
           "linecolor": "white",
           "ticks": "",
           "zerolinecolor": "white",
           "zerolinewidth": 2
          }
         }
        }
       }
      },
      "text/html": [
       "<div id=\"5775903a-2fb0-4f3a-a920-577639c76216\" style=\"height: 600px; width: 100%;\" class=\"plotly-graph-div\"></div><script type=\"text/javascript\">require([\"plotly\"], function(Plotly) { window.PLOTLYENV=window.PLOTLYENV || {};window.PLOTLYENV.BASE_URL=\"https://plot.ly\";\n",
       "if (document.getElementById(\"5775903a-2fb0-4f3a-a920-577639c76216\")) {\n",
       "    Plotly.newPlot(\"5775903a-2fb0-4f3a-a920-577639c76216\", [{\"hovertemplate\": \"Clasifica tu grado de visi\\u00f3n=1. Muy malo<br>counts=%{r}<br>cultural_cluster=%{theta}<extra></extra>\", \"legendgroup\": \"Clasifica tu grado de visi\\u00f3n=1. Muy malo\", \"marker\": {\"color\": \"rgb(213,62,79)\"}, \"name\": \"Clasifica tu grado de visi\\u00f3n=1. Muy malo\", \"r\": [2, 2], \"showlegend\": true, \"theta\": [\"cluster_1\", \"cluster_4\"], \"type\": \"barpolar\", \"uid\": \"2209fddc-af80-4075-ad6e-22827ea412f4\"}, {\"hovertemplate\": \"Clasifica tu grado de visi\\u00f3n=2. Malo<br>counts=%{r}<br>cultural_cluster=%{theta}<extra></extra>\", \"legendgroup\": \"Clasifica tu grado de visi\\u00f3n=2. Malo\", \"marker\": {\"color\": \"rgb(252,141,89)\"}, \"name\": \"Clasifica tu grado de visi\\u00f3n=2. Malo\", \"r\": [17, 5, 2, 4], \"showlegend\": true, \"theta\": [\"cluster_1\", \"cluster_2\", \"cluster_3\", \"cluster_4\"], \"type\": \"barpolar\", \"uid\": \"7c9bdeae-03cb-4d69-8c54-99750fd1ea66\"}, {\"hovertemplate\": \"Clasifica tu grado de visi\\u00f3n=3. Regular<br>counts=%{r}<br>cultural_cluster=%{theta}<extra></extra>\", \"legendgroup\": \"Clasifica tu grado de visi\\u00f3n=3. Regular\", \"marker\": {\"color\": \"rgb(254,224,139)\"}, \"name\": \"Clasifica tu grado de visi\\u00f3n=3. Regular\", \"r\": [47, 54, 7, 46, 1], \"showlegend\": true, \"theta\": [\"cluster_1\", \"cluster_2\", \"cluster_3\", \"cluster_4\", \"cluster_5\"], \"type\": \"barpolar\", \"uid\": \"8cb44a03-5006-4b7f-9fd7-ba4168336651\"}, {\"hovertemplate\": \"Clasifica tu grado de visi\\u00f3n=4. Bueno<br>counts=%{r}<br>cultural_cluster=%{theta}<extra></extra>\", \"legendgroup\": \"Clasifica tu grado de visi\\u00f3n=4. Bueno\", \"marker\": {\"color\": \"rgb(230,245,152)\"}, \"name\": \"Clasifica tu grado de visi\\u00f3n=4. Bueno\", \"r\": [90, 130, 13, 101], \"showlegend\": true, \"theta\": [\"cluster_1\", \"cluster_2\", \"cluster_3\", \"cluster_4\"], \"type\": \"barpolar\", \"uid\": \"b3b419e8-eee8-40b3-ab13-0e197dfb409e\"}, {\"hovertemplate\": \"Clasifica tu grado de visi\\u00f3n=5. Muy bueno<br>counts=%{r}<br>cultural_cluster=%{theta}<extra></extra>\", \"legendgroup\": \"Clasifica tu grado de visi\\u00f3n=5. Muy bueno\", \"marker\": {\"color\": \"rgb(153,213,148)\"}, \"name\": \"Clasifica tu grado de visi\\u00f3n=5. Muy bueno\", \"r\": [67, 112, 5, 62], \"showlegend\": true, \"theta\": [\"cluster_1\", \"cluster_2\", \"cluster_3\", \"cluster_4\"], \"type\": \"barpolar\", \"uid\": \"57ff90f0-4344-419f-bc92-234dc884c95f\"}], {\"barmode\": \"group\", \"barnorm\": \"\", \"height\": 600, \"legend\": {\"tracegroupgap\": 0}, \"margin\": {\"t\": 60}, \"template\": {\"data\": {\"barpolar\": [{\"marker\": {\"line\": {\"color\": \"#E5ECF6\", \"width\": 0.5}}, \"type\": \"barpolar\"}], \"bar\": [{\"marker\": {\"line\": {\"color\": \"#E5ECF6\", \"width\": 0.5}}, \"type\": \"bar\"}], \"carpet\": [{\"aaxis\": {\"endlinecolor\": \"#2a3f5f\", \"gridcolor\": \"white\", \"linecolor\": \"white\", \"minorgridcolor\": \"white\", \"startlinecolor\": \"#2a3f5f\"}, \"baxis\": {\"endlinecolor\": \"#2a3f5f\", \"gridcolor\": \"white\", \"linecolor\": \"white\", \"minorgridcolor\": \"white\", \"startlinecolor\": \"#2a3f5f\"}, \"type\": \"carpet\"}], \"choropleth\": [{\"colorbar\": {\"outlinewidth\": 0, \"ticks\": \"\"}, \"type\": \"choropleth\"}], \"contourcarpet\": [{\"colorbar\": {\"outlinewidth\": 0, \"ticks\": \"\"}, \"type\": \"contourcarpet\"}], \"contour\": [{\"autocolorscale\": true, \"colorbar\": {\"outlinewidth\": 0, \"ticks\": \"\"}, \"type\": \"contour\"}], \"heatmapgl\": [{\"colorbar\": {\"outlinewidth\": 0, \"ticks\": \"\"}, \"type\": \"heatmapgl\"}], \"heatmap\": [{\"autocolorscale\": true, \"colorbar\": {\"outlinewidth\": 0, \"ticks\": \"\"}, \"type\": \"heatmap\"}], \"histogram2dcontour\": [{\"autocolorscale\": true, \"colorbar\": {\"outlinewidth\": 0, \"ticks\": \"\"}, \"type\": \"histogram2dcontour\"}], \"histogram2d\": [{\"autocolorscale\": true, \"colorbar\": {\"outlinewidth\": 0, \"ticks\": \"\"}, \"type\": \"histogram2d\"}], \"histogram\": [{\"marker\": {\"colorbar\": {\"outlinewidth\": 0, \"ticks\": \"\"}}, \"type\": \"histogram\"}], \"mesh3d\": [{\"colorbar\": {\"outlinewidth\": 0, \"ticks\": \"\"}, \"type\": \"mesh3d\"}], \"parcoords\": [{\"line\": {\"colorbar\": {\"outlinewidth\": 0, \"ticks\": \"\"}}, \"type\": \"parcoords\"}], \"scatter3d\": [{\"marker\": {\"colorbar\": {\"outlinewidth\": 0, \"ticks\": \"\"}}, \"type\": \"scatter3d\"}], \"scattercarpet\": [{\"marker\": {\"colorbar\": {\"outlinewidth\": 0, \"ticks\": \"\"}}, \"type\": \"scattercarpet\"}], \"scattergeo\": [{\"marker\": {\"colorbar\": {\"outlinewidth\": 0, \"ticks\": \"\"}}, \"type\": \"scattergeo\"}], \"scattergl\": [{\"marker\": {\"colorbar\": {\"outlinewidth\": 0, \"ticks\": \"\"}}, \"type\": \"scattergl\"}], \"scattermapbox\": [{\"marker\": {\"colorbar\": {\"outlinewidth\": 0, \"ticks\": \"\"}}, \"type\": \"scattermapbox\"}], \"scatterpolargl\": [{\"marker\": {\"colorbar\": {\"outlinewidth\": 0, \"ticks\": \"\"}}, \"type\": \"scatterpolargl\"}], \"scatterpolar\": [{\"marker\": {\"colorbar\": {\"outlinewidth\": 0, \"ticks\": \"\"}}, \"type\": \"scatterpolar\"}], \"scatter\": [{\"marker\": {\"colorbar\": {\"outlinewidth\": 0, \"ticks\": \"\"}}, \"type\": \"scatter\"}], \"scatterternary\": [{\"marker\": {\"colorbar\": {\"outlinewidth\": 0, \"ticks\": \"\"}}, \"type\": \"scatterternary\"}], \"surface\": [{\"colorbar\": {\"outlinewidth\": 0, \"ticks\": \"\"}, \"type\": \"surface\"}], \"table\": [{\"cells\": {\"fill\": {\"color\": \"#EBF0F8\"}, \"line\": {\"color\": \"white\"}}, \"header\": {\"fill\": {\"color\": \"#C8D4E3\"}, \"line\": {\"color\": \"white\"}}, \"type\": \"table\"}]}, \"layout\": {\"annotationdefaults\": {\"arrowcolor\": \"#506784\", \"arrowhead\": 0, \"arrowwidth\": 1}, \"colorscale\": {\"diverging\": [[0, \"#8e0152\"], [0.1, \"#c51b7d\"], [0.2, \"#de77ae\"], [0.3, \"#f1b6da\"], [0.4, \"#fde0ef\"], [0.5, \"#f7f7f7\"], [0.6, \"#e6f5d0\"], [0.7, \"#b8e186\"], [0.8, \"#7fbc41\"], [0.9, \"#4d9221\"], [1, \"#276419\"]], \"sequential\": [[0.0, \"#0508b8\"], [0.0893854748603352, \"#1910d8\"], [0.1787709497206704, \"#3c19f0\"], [0.2681564245810056, \"#6b1cfb\"], [0.3575418994413408, \"#981cfd\"], [0.44692737430167595, \"#bf1cfd\"], [0.5363128491620112, \"#dd2bfd\"], [0.6256983240223464, \"#f246fe\"], [0.7150837988826816, \"#fc67fd\"], [0.8044692737430168, \"#fe88fc\"], [0.8938547486033519, \"#fea5fd\"], [0.9832402234636871, \"#febefe\"], [1.0, \"#fec3fe\"]], \"sequentialminus\": [[0.0, \"#0508b8\"], [0.0893854748603352, \"#1910d8\"], [0.1787709497206704, \"#3c19f0\"], [0.2681564245810056, \"#6b1cfb\"], [0.3575418994413408, \"#981cfd\"], [0.44692737430167595, \"#bf1cfd\"], [0.5363128491620112, \"#dd2bfd\"], [0.6256983240223464, \"#f246fe\"], [0.7150837988826816, \"#fc67fd\"], [0.8044692737430168, \"#fe88fc\"], [0.8938547486033519, \"#fea5fd\"], [0.9832402234636871, \"#febefe\"], [1.0, \"#fec3fe\"]]}, \"colorway\": [\"#636efa\", \"#EF553B\", \"#00cc96\", \"#ab63fa\", \"#19d3f3\", \"#e763fa\", \"#FECB52\", \"#FFA15A\", \"#FF6692\", \"#B6E880\"], \"font\": {\"color\": \"#2a3f5f\"}, \"geo\": {\"bgcolor\": \"white\", \"lakecolor\": \"white\", \"landcolor\": \"#E5ECF6\", \"showlakes\": true, \"showland\": true, \"subunitcolor\": \"white\"}, \"hovermode\": \"closest\", \"mapbox\": {\"style\": \"light\"}, \"paper_bgcolor\": \"white\", \"plot_bgcolor\": \"#E5ECF6\", \"polar\": {\"angularaxis\": {\"gridcolor\": \"white\", \"linecolor\": \"white\", \"ticks\": \"\"}, \"bgcolor\": \"#E5ECF6\", \"radialaxis\": {\"gridcolor\": \"white\", \"linecolor\": \"white\", \"ticks\": \"\"}}, \"scene\": {\"xaxis\": {\"backgroundcolor\": \"#E5ECF6\", \"gridcolor\": \"white\", \"gridwidth\": 2, \"linecolor\": \"white\", \"showbackground\": true, \"ticks\": \"\", \"zerolinecolor\": \"white\"}, \"yaxis\": {\"backgroundcolor\": \"#E5ECF6\", \"gridcolor\": \"white\", \"gridwidth\": 2, \"linecolor\": \"white\", \"showbackground\": true, \"ticks\": \"\", \"zerolinecolor\": \"white\"}, \"zaxis\": {\"backgroundcolor\": \"#E5ECF6\", \"gridcolor\": \"white\", \"gridwidth\": 2, \"linecolor\": \"white\", \"showbackground\": true, \"ticks\": \"\", \"zerolinecolor\": \"white\"}}, \"shapedefaults\": {\"fillcolor\": \"#506784\", \"line\": {\"width\": 0}, \"opacity\": 0.4}, \"ternary\": {\"aaxis\": {\"gridcolor\": \"white\", \"linecolor\": \"white\", \"ticks\": \"\"}, \"baxis\": {\"gridcolor\": \"white\", \"linecolor\": \"white\", \"ticks\": \"\"}, \"bgcolor\": \"#E5ECF6\", \"caxis\": {\"gridcolor\": \"white\", \"linecolor\": \"white\", \"ticks\": \"\"}}, \"title\": {\"x\": 0.05}, \"xaxis\": {\"automargin\": true, \"gridcolor\": \"white\", \"linecolor\": \"white\", \"ticks\": \"\", \"zerolinecolor\": \"white\", \"zerolinewidth\": 2}, \"yaxis\": {\"automargin\": true, \"gridcolor\": \"white\", \"linecolor\": \"white\", \"ticks\": \"\", \"zerolinecolor\": \"white\", \"zerolinewidth\": 2}}}, \"polar\": {\"angularaxis\": {\"direction\": \"clockwise\", \"rotation\": 90}}}, {\"showLink\": false, \"linkText\": \"Export to plot.ly\", \"plotlyServerURL\": \"https://plot.ly\"}); \n",
       "}\n",
       "});</script><script type=\"text/javascript\">window.addEventListener(\"resize\", function(){if (document.getElementById(\"5775903a-2fb0-4f3a-a920-577639c76216\")) {window._Plotly.Plots.resize(document.getElementById(\"5775903a-2fb0-4f3a-a920-577639c76216\"));};})</script>"
      ],
      "text/vnd.plotly.v1+html": [
       "<div id=\"5775903a-2fb0-4f3a-a920-577639c76216\" style=\"height: 600px; width: 100%;\" class=\"plotly-graph-div\"></div><script type=\"text/javascript\">require([\"plotly\"], function(Plotly) { window.PLOTLYENV=window.PLOTLYENV || {};window.PLOTLYENV.BASE_URL=\"https://plot.ly\";\n",
       "if (document.getElementById(\"5775903a-2fb0-4f3a-a920-577639c76216\")) {\n",
       "    Plotly.newPlot(\"5775903a-2fb0-4f3a-a920-577639c76216\", [{\"hovertemplate\": \"Clasifica tu grado de visi\\u00f3n=1. Muy malo<br>counts=%{r}<br>cultural_cluster=%{theta}<extra></extra>\", \"legendgroup\": \"Clasifica tu grado de visi\\u00f3n=1. Muy malo\", \"marker\": {\"color\": \"rgb(213,62,79)\"}, \"name\": \"Clasifica tu grado de visi\\u00f3n=1. Muy malo\", \"r\": [2, 2], \"showlegend\": true, \"theta\": [\"cluster_1\", \"cluster_4\"], \"type\": \"barpolar\", \"uid\": \"2209fddc-af80-4075-ad6e-22827ea412f4\"}, {\"hovertemplate\": \"Clasifica tu grado de visi\\u00f3n=2. Malo<br>counts=%{r}<br>cultural_cluster=%{theta}<extra></extra>\", \"legendgroup\": \"Clasifica tu grado de visi\\u00f3n=2. Malo\", \"marker\": {\"color\": \"rgb(252,141,89)\"}, \"name\": \"Clasifica tu grado de visi\\u00f3n=2. Malo\", \"r\": [17, 5, 2, 4], \"showlegend\": true, \"theta\": [\"cluster_1\", \"cluster_2\", \"cluster_3\", \"cluster_4\"], \"type\": \"barpolar\", \"uid\": \"7c9bdeae-03cb-4d69-8c54-99750fd1ea66\"}, {\"hovertemplate\": \"Clasifica tu grado de visi\\u00f3n=3. Regular<br>counts=%{r}<br>cultural_cluster=%{theta}<extra></extra>\", \"legendgroup\": \"Clasifica tu grado de visi\\u00f3n=3. Regular\", \"marker\": {\"color\": \"rgb(254,224,139)\"}, \"name\": \"Clasifica tu grado de visi\\u00f3n=3. Regular\", \"r\": [47, 54, 7, 46, 1], \"showlegend\": true, \"theta\": [\"cluster_1\", \"cluster_2\", \"cluster_3\", \"cluster_4\", \"cluster_5\"], \"type\": \"barpolar\", \"uid\": \"8cb44a03-5006-4b7f-9fd7-ba4168336651\"}, {\"hovertemplate\": \"Clasifica tu grado de visi\\u00f3n=4. Bueno<br>counts=%{r}<br>cultural_cluster=%{theta}<extra></extra>\", \"legendgroup\": \"Clasifica tu grado de visi\\u00f3n=4. Bueno\", \"marker\": {\"color\": \"rgb(230,245,152)\"}, \"name\": \"Clasifica tu grado de visi\\u00f3n=4. Bueno\", \"r\": [90, 130, 13, 101], \"showlegend\": true, \"theta\": [\"cluster_1\", \"cluster_2\", \"cluster_3\", \"cluster_4\"], \"type\": \"barpolar\", \"uid\": \"b3b419e8-eee8-40b3-ab13-0e197dfb409e\"}, {\"hovertemplate\": \"Clasifica tu grado de visi\\u00f3n=5. Muy bueno<br>counts=%{r}<br>cultural_cluster=%{theta}<extra></extra>\", \"legendgroup\": \"Clasifica tu grado de visi\\u00f3n=5. Muy bueno\", \"marker\": {\"color\": \"rgb(153,213,148)\"}, \"name\": \"Clasifica tu grado de visi\\u00f3n=5. Muy bueno\", \"r\": [67, 112, 5, 62], \"showlegend\": true, \"theta\": [\"cluster_1\", \"cluster_2\", \"cluster_3\", \"cluster_4\"], \"type\": \"barpolar\", \"uid\": \"57ff90f0-4344-419f-bc92-234dc884c95f\"}], {\"barmode\": \"group\", \"barnorm\": \"\", \"height\": 600, \"legend\": {\"tracegroupgap\": 0}, \"margin\": {\"t\": 60}, \"template\": {\"data\": {\"barpolar\": [{\"marker\": {\"line\": {\"color\": \"#E5ECF6\", \"width\": 0.5}}, \"type\": \"barpolar\"}], \"bar\": [{\"marker\": {\"line\": {\"color\": \"#E5ECF6\", \"width\": 0.5}}, \"type\": \"bar\"}], \"carpet\": [{\"aaxis\": {\"endlinecolor\": \"#2a3f5f\", \"gridcolor\": \"white\", \"linecolor\": \"white\", \"minorgridcolor\": \"white\", \"startlinecolor\": \"#2a3f5f\"}, \"baxis\": {\"endlinecolor\": \"#2a3f5f\", \"gridcolor\": \"white\", \"linecolor\": \"white\", \"minorgridcolor\": \"white\", \"startlinecolor\": \"#2a3f5f\"}, \"type\": \"carpet\"}], \"choropleth\": [{\"colorbar\": {\"outlinewidth\": 0, \"ticks\": \"\"}, \"type\": \"choropleth\"}], \"contourcarpet\": [{\"colorbar\": {\"outlinewidth\": 0, \"ticks\": \"\"}, \"type\": \"contourcarpet\"}], \"contour\": [{\"autocolorscale\": true, \"colorbar\": {\"outlinewidth\": 0, \"ticks\": \"\"}, \"type\": \"contour\"}], \"heatmapgl\": [{\"colorbar\": {\"outlinewidth\": 0, \"ticks\": \"\"}, \"type\": \"heatmapgl\"}], \"heatmap\": [{\"autocolorscale\": true, \"colorbar\": {\"outlinewidth\": 0, \"ticks\": \"\"}, \"type\": \"heatmap\"}], \"histogram2dcontour\": [{\"autocolorscale\": true, \"colorbar\": {\"outlinewidth\": 0, \"ticks\": \"\"}, \"type\": \"histogram2dcontour\"}], \"histogram2d\": [{\"autocolorscale\": true, \"colorbar\": {\"outlinewidth\": 0, \"ticks\": \"\"}, \"type\": \"histogram2d\"}], \"histogram\": [{\"marker\": {\"colorbar\": {\"outlinewidth\": 0, \"ticks\": \"\"}}, \"type\": \"histogram\"}], \"mesh3d\": [{\"colorbar\": {\"outlinewidth\": 0, \"ticks\": \"\"}, \"type\": \"mesh3d\"}], \"parcoords\": [{\"line\": {\"colorbar\": {\"outlinewidth\": 0, \"ticks\": \"\"}}, \"type\": \"parcoords\"}], \"scatter3d\": [{\"marker\": {\"colorbar\": {\"outlinewidth\": 0, \"ticks\": \"\"}}, \"type\": \"scatter3d\"}], \"scattercarpet\": [{\"marker\": {\"colorbar\": {\"outlinewidth\": 0, \"ticks\": \"\"}}, \"type\": \"scattercarpet\"}], \"scattergeo\": [{\"marker\": {\"colorbar\": {\"outlinewidth\": 0, \"ticks\": \"\"}}, \"type\": \"scattergeo\"}], \"scattergl\": [{\"marker\": {\"colorbar\": {\"outlinewidth\": 0, \"ticks\": \"\"}}, \"type\": \"scattergl\"}], \"scattermapbox\": [{\"marker\": {\"colorbar\": {\"outlinewidth\": 0, \"ticks\": \"\"}}, \"type\": \"scattermapbox\"}], \"scatterpolargl\": [{\"marker\": {\"colorbar\": {\"outlinewidth\": 0, \"ticks\": \"\"}}, \"type\": \"scatterpolargl\"}], \"scatterpolar\": [{\"marker\": {\"colorbar\": {\"outlinewidth\": 0, \"ticks\": \"\"}}, \"type\": \"scatterpolar\"}], \"scatter\": [{\"marker\": {\"colorbar\": {\"outlinewidth\": 0, \"ticks\": \"\"}}, \"type\": \"scatter\"}], \"scatterternary\": [{\"marker\": {\"colorbar\": {\"outlinewidth\": 0, \"ticks\": \"\"}}, \"type\": \"scatterternary\"}], \"surface\": [{\"colorbar\": {\"outlinewidth\": 0, \"ticks\": \"\"}, \"type\": \"surface\"}], \"table\": [{\"cells\": {\"fill\": {\"color\": \"#EBF0F8\"}, \"line\": {\"color\": \"white\"}}, \"header\": {\"fill\": {\"color\": \"#C8D4E3\"}, \"line\": {\"color\": \"white\"}}, \"type\": \"table\"}]}, \"layout\": {\"annotationdefaults\": {\"arrowcolor\": \"#506784\", \"arrowhead\": 0, \"arrowwidth\": 1}, \"colorscale\": {\"diverging\": [[0, \"#8e0152\"], [0.1, \"#c51b7d\"], [0.2, \"#de77ae\"], [0.3, \"#f1b6da\"], [0.4, \"#fde0ef\"], [0.5, \"#f7f7f7\"], [0.6, \"#e6f5d0\"], [0.7, \"#b8e186\"], [0.8, \"#7fbc41\"], [0.9, \"#4d9221\"], [1, \"#276419\"]], \"sequential\": [[0.0, \"#0508b8\"], [0.0893854748603352, \"#1910d8\"], [0.1787709497206704, \"#3c19f0\"], [0.2681564245810056, \"#6b1cfb\"], [0.3575418994413408, \"#981cfd\"], [0.44692737430167595, \"#bf1cfd\"], [0.5363128491620112, \"#dd2bfd\"], [0.6256983240223464, \"#f246fe\"], [0.7150837988826816, \"#fc67fd\"], [0.8044692737430168, \"#fe88fc\"], [0.8938547486033519, \"#fea5fd\"], [0.9832402234636871, \"#febefe\"], [1.0, \"#fec3fe\"]], \"sequentialminus\": [[0.0, \"#0508b8\"], [0.0893854748603352, \"#1910d8\"], [0.1787709497206704, \"#3c19f0\"], [0.2681564245810056, \"#6b1cfb\"], [0.3575418994413408, \"#981cfd\"], [0.44692737430167595, \"#bf1cfd\"], [0.5363128491620112, \"#dd2bfd\"], [0.6256983240223464, \"#f246fe\"], [0.7150837988826816, \"#fc67fd\"], [0.8044692737430168, \"#fe88fc\"], [0.8938547486033519, \"#fea5fd\"], [0.9832402234636871, \"#febefe\"], [1.0, \"#fec3fe\"]]}, \"colorway\": [\"#636efa\", \"#EF553B\", \"#00cc96\", \"#ab63fa\", \"#19d3f3\", \"#e763fa\", \"#FECB52\", \"#FFA15A\", \"#FF6692\", \"#B6E880\"], \"font\": {\"color\": \"#2a3f5f\"}, \"geo\": {\"bgcolor\": \"white\", \"lakecolor\": \"white\", \"landcolor\": \"#E5ECF6\", \"showlakes\": true, \"showland\": true, \"subunitcolor\": \"white\"}, \"hovermode\": \"closest\", \"mapbox\": {\"style\": \"light\"}, \"paper_bgcolor\": \"white\", \"plot_bgcolor\": \"#E5ECF6\", \"polar\": {\"angularaxis\": {\"gridcolor\": \"white\", \"linecolor\": \"white\", \"ticks\": \"\"}, \"bgcolor\": \"#E5ECF6\", \"radialaxis\": {\"gridcolor\": \"white\", \"linecolor\": \"white\", \"ticks\": \"\"}}, \"scene\": {\"xaxis\": {\"backgroundcolor\": \"#E5ECF6\", \"gridcolor\": \"white\", \"gridwidth\": 2, \"linecolor\": \"white\", \"showbackground\": true, \"ticks\": \"\", \"zerolinecolor\": \"white\"}, \"yaxis\": {\"backgroundcolor\": \"#E5ECF6\", \"gridcolor\": \"white\", \"gridwidth\": 2, \"linecolor\": \"white\", \"showbackground\": true, \"ticks\": \"\", \"zerolinecolor\": \"white\"}, \"zaxis\": {\"backgroundcolor\": \"#E5ECF6\", \"gridcolor\": \"white\", \"gridwidth\": 2, \"linecolor\": \"white\", \"showbackground\": true, \"ticks\": \"\", \"zerolinecolor\": \"white\"}}, \"shapedefaults\": {\"fillcolor\": \"#506784\", \"line\": {\"width\": 0}, \"opacity\": 0.4}, \"ternary\": {\"aaxis\": {\"gridcolor\": \"white\", \"linecolor\": \"white\", \"ticks\": \"\"}, \"baxis\": {\"gridcolor\": \"white\", \"linecolor\": \"white\", \"ticks\": \"\"}, \"bgcolor\": \"#E5ECF6\", \"caxis\": {\"gridcolor\": \"white\", \"linecolor\": \"white\", \"ticks\": \"\"}}, \"title\": {\"x\": 0.05}, \"xaxis\": {\"automargin\": true, \"gridcolor\": \"white\", \"linecolor\": \"white\", \"ticks\": \"\", \"zerolinecolor\": \"white\", \"zerolinewidth\": 2}, \"yaxis\": {\"automargin\": true, \"gridcolor\": \"white\", \"linecolor\": \"white\", \"ticks\": \"\", \"zerolinecolor\": \"white\", \"zerolinewidth\": 2}}}, \"polar\": {\"angularaxis\": {\"direction\": \"clockwise\", \"rotation\": 90}}}, {\"showLink\": false, \"linkText\": \"Export to plot.ly\", \"plotlyServerURL\": \"https://plot.ly\"}); \n",
       "}\n",
       "});</script><script type=\"text/javascript\">window.addEventListener(\"resize\", function(){if (document.getElementById(\"5775903a-2fb0-4f3a-a920-577639c76216\")) {window._Plotly.Plots.resize(document.getElementById(\"5775903a-2fb0-4f3a-a920-577639c76216\"));};})</script>"
      ]
     },
     "metadata": {},
     "output_type": "display_data"
    },
    {
     "name": "stdout",
     "output_type": "stream",
     "text": [
      "Comparando la pregunta ¿Utilizas gafas o lentes de contacto?\n"
     ]
    },
    {
     "data": {
      "application/vnd.plotly.v1+json": {
       "config": {
        "linkText": "Export to plot.ly",
        "plotlyServerURL": "https://plot.ly",
        "showLink": false
       },
       "data": [
        {
         "hovertemplate": "¿Utilizas gafas o lentes de contacto?=No<br>counts=%{r}<br>cultural_cluster=%{theta}<extra></extra>",
         "legendgroup": "¿Utilizas gafas o lentes de contacto?=No",
         "marker": {
          "color": "rgb(213,62,79)"
         },
         "name": "¿Utilizas gafas o lentes de contacto?=No",
         "r": [
          82,
          160,
          8,
          120
         ],
         "showlegend": true,
         "theta": [
          "cluster_1",
          "cluster_2",
          "cluster_3",
          "cluster_4"
         ],
         "type": "barpolar",
         "uid": "06f051a3-ae3d-45ca-a4a2-b6e78f931a7b"
        },
        {
         "hovertemplate": "¿Utilizas gafas o lentes de contacto?=Sí<br>counts=%{r}<br>cultural_cluster=%{theta}<extra></extra>",
         "legendgroup": "¿Utilizas gafas o lentes de contacto?=Sí",
         "marker": {
          "color": "rgb(252,141,89)"
         },
         "name": "¿Utilizas gafas o lentes de contacto?=Sí",
         "r": [
          141,
          141,
          19,
          95,
          1
         ],
         "showlegend": true,
         "theta": [
          "cluster_1",
          "cluster_2",
          "cluster_3",
          "cluster_4",
          "cluster_5"
         ],
         "type": "barpolar",
         "uid": "68ab1d8c-b52f-45a5-aed2-1a1ba4eb8c2f"
        }
       ],
       "layout": {
        "barmode": "group",
        "barnorm": "",
        "height": 600,
        "legend": {
         "tracegroupgap": 0
        },
        "margin": {
         "t": 60
        },
        "polar": {
         "angularaxis": {
          "direction": "clockwise",
          "rotation": 90
         }
        },
        "template": {
         "data": {
          "bar": [
           {
            "marker": {
             "line": {
              "color": "#E5ECF6",
              "width": 0.5
             }
            },
            "type": "bar"
           }
          ],
          "barpolar": [
           {
            "marker": {
             "line": {
              "color": "#E5ECF6",
              "width": 0.5
             }
            },
            "type": "barpolar"
           }
          ],
          "carpet": [
           {
            "aaxis": {
             "endlinecolor": "#2a3f5f",
             "gridcolor": "white",
             "linecolor": "white",
             "minorgridcolor": "white",
             "startlinecolor": "#2a3f5f"
            },
            "baxis": {
             "endlinecolor": "#2a3f5f",
             "gridcolor": "white",
             "linecolor": "white",
             "minorgridcolor": "white",
             "startlinecolor": "#2a3f5f"
            },
            "type": "carpet"
           }
          ],
          "choropleth": [
           {
            "colorbar": {
             "outlinewidth": 0,
             "ticks": ""
            },
            "type": "choropleth"
           }
          ],
          "contour": [
           {
            "autocolorscale": true,
            "colorbar": {
             "outlinewidth": 0,
             "ticks": ""
            },
            "type": "contour"
           }
          ],
          "contourcarpet": [
           {
            "colorbar": {
             "outlinewidth": 0,
             "ticks": ""
            },
            "type": "contourcarpet"
           }
          ],
          "heatmap": [
           {
            "autocolorscale": true,
            "colorbar": {
             "outlinewidth": 0,
             "ticks": ""
            },
            "type": "heatmap"
           }
          ],
          "heatmapgl": [
           {
            "colorbar": {
             "outlinewidth": 0,
             "ticks": ""
            },
            "type": "heatmapgl"
           }
          ],
          "histogram": [
           {
            "marker": {
             "colorbar": {
              "outlinewidth": 0,
              "ticks": ""
             }
            },
            "type": "histogram"
           }
          ],
          "histogram2d": [
           {
            "autocolorscale": true,
            "colorbar": {
             "outlinewidth": 0,
             "ticks": ""
            },
            "type": "histogram2d"
           }
          ],
          "histogram2dcontour": [
           {
            "autocolorscale": true,
            "colorbar": {
             "outlinewidth": 0,
             "ticks": ""
            },
            "type": "histogram2dcontour"
           }
          ],
          "mesh3d": [
           {
            "colorbar": {
             "outlinewidth": 0,
             "ticks": ""
            },
            "type": "mesh3d"
           }
          ],
          "parcoords": [
           {
            "line": {
             "colorbar": {
              "outlinewidth": 0,
              "ticks": ""
             }
            },
            "type": "parcoords"
           }
          ],
          "scatter": [
           {
            "marker": {
             "colorbar": {
              "outlinewidth": 0,
              "ticks": ""
             }
            },
            "type": "scatter"
           }
          ],
          "scatter3d": [
           {
            "marker": {
             "colorbar": {
              "outlinewidth": 0,
              "ticks": ""
             }
            },
            "type": "scatter3d"
           }
          ],
          "scattercarpet": [
           {
            "marker": {
             "colorbar": {
              "outlinewidth": 0,
              "ticks": ""
             }
            },
            "type": "scattercarpet"
           }
          ],
          "scattergeo": [
           {
            "marker": {
             "colorbar": {
              "outlinewidth": 0,
              "ticks": ""
             }
            },
            "type": "scattergeo"
           }
          ],
          "scattergl": [
           {
            "marker": {
             "colorbar": {
              "outlinewidth": 0,
              "ticks": ""
             }
            },
            "type": "scattergl"
           }
          ],
          "scattermapbox": [
           {
            "marker": {
             "colorbar": {
              "outlinewidth": 0,
              "ticks": ""
             }
            },
            "type": "scattermapbox"
           }
          ],
          "scatterpolar": [
           {
            "marker": {
             "colorbar": {
              "outlinewidth": 0,
              "ticks": ""
             }
            },
            "type": "scatterpolar"
           }
          ],
          "scatterpolargl": [
           {
            "marker": {
             "colorbar": {
              "outlinewidth": 0,
              "ticks": ""
             }
            },
            "type": "scatterpolargl"
           }
          ],
          "scatterternary": [
           {
            "marker": {
             "colorbar": {
              "outlinewidth": 0,
              "ticks": ""
             }
            },
            "type": "scatterternary"
           }
          ],
          "surface": [
           {
            "colorbar": {
             "outlinewidth": 0,
             "ticks": ""
            },
            "type": "surface"
           }
          ],
          "table": [
           {
            "cells": {
             "fill": {
              "color": "#EBF0F8"
             },
             "line": {
              "color": "white"
             }
            },
            "header": {
             "fill": {
              "color": "#C8D4E3"
             },
             "line": {
              "color": "white"
             }
            },
            "type": "table"
           }
          ]
         },
         "layout": {
          "annotationdefaults": {
           "arrowcolor": "#506784",
           "arrowhead": 0,
           "arrowwidth": 1
          },
          "colorscale": {
           "diverging": [
            [
             0,
             "#8e0152"
            ],
            [
             0.1,
             "#c51b7d"
            ],
            [
             0.2,
             "#de77ae"
            ],
            [
             0.3,
             "#f1b6da"
            ],
            [
             0.4,
             "#fde0ef"
            ],
            [
             0.5,
             "#f7f7f7"
            ],
            [
             0.6,
             "#e6f5d0"
            ],
            [
             0.7,
             "#b8e186"
            ],
            [
             0.8,
             "#7fbc41"
            ],
            [
             0.9,
             "#4d9221"
            ],
            [
             1,
             "#276419"
            ]
           ],
           "sequential": [
            [
             0,
             "#0508b8"
            ],
            [
             0.0893854748603352,
             "#1910d8"
            ],
            [
             0.1787709497206704,
             "#3c19f0"
            ],
            [
             0.2681564245810056,
             "#6b1cfb"
            ],
            [
             0.3575418994413408,
             "#981cfd"
            ],
            [
             0.44692737430167595,
             "#bf1cfd"
            ],
            [
             0.5363128491620112,
             "#dd2bfd"
            ],
            [
             0.6256983240223464,
             "#f246fe"
            ],
            [
             0.7150837988826816,
             "#fc67fd"
            ],
            [
             0.8044692737430168,
             "#fe88fc"
            ],
            [
             0.8938547486033519,
             "#fea5fd"
            ],
            [
             0.9832402234636871,
             "#febefe"
            ],
            [
             1,
             "#fec3fe"
            ]
           ],
           "sequentialminus": [
            [
             0,
             "#0508b8"
            ],
            [
             0.0893854748603352,
             "#1910d8"
            ],
            [
             0.1787709497206704,
             "#3c19f0"
            ],
            [
             0.2681564245810056,
             "#6b1cfb"
            ],
            [
             0.3575418994413408,
             "#981cfd"
            ],
            [
             0.44692737430167595,
             "#bf1cfd"
            ],
            [
             0.5363128491620112,
             "#dd2bfd"
            ],
            [
             0.6256983240223464,
             "#f246fe"
            ],
            [
             0.7150837988826816,
             "#fc67fd"
            ],
            [
             0.8044692737430168,
             "#fe88fc"
            ],
            [
             0.8938547486033519,
             "#fea5fd"
            ],
            [
             0.9832402234636871,
             "#febefe"
            ],
            [
             1,
             "#fec3fe"
            ]
           ]
          },
          "colorway": [
           "#636efa",
           "#EF553B",
           "#00cc96",
           "#ab63fa",
           "#19d3f3",
           "#e763fa",
           "#FECB52",
           "#FFA15A",
           "#FF6692",
           "#B6E880"
          ],
          "font": {
           "color": "#2a3f5f"
          },
          "geo": {
           "bgcolor": "white",
           "lakecolor": "white",
           "landcolor": "#E5ECF6",
           "showlakes": true,
           "showland": true,
           "subunitcolor": "white"
          },
          "hovermode": "closest",
          "mapbox": {
           "style": "light"
          },
          "paper_bgcolor": "white",
          "plot_bgcolor": "#E5ECF6",
          "polar": {
           "angularaxis": {
            "gridcolor": "white",
            "linecolor": "white",
            "ticks": ""
           },
           "bgcolor": "#E5ECF6",
           "radialaxis": {
            "gridcolor": "white",
            "linecolor": "white",
            "ticks": ""
           }
          },
          "scene": {
           "xaxis": {
            "backgroundcolor": "#E5ECF6",
            "gridcolor": "white",
            "gridwidth": 2,
            "linecolor": "white",
            "showbackground": true,
            "ticks": "",
            "zerolinecolor": "white"
           },
           "yaxis": {
            "backgroundcolor": "#E5ECF6",
            "gridcolor": "white",
            "gridwidth": 2,
            "linecolor": "white",
            "showbackground": true,
            "ticks": "",
            "zerolinecolor": "white"
           },
           "zaxis": {
            "backgroundcolor": "#E5ECF6",
            "gridcolor": "white",
            "gridwidth": 2,
            "linecolor": "white",
            "showbackground": true,
            "ticks": "",
            "zerolinecolor": "white"
           }
          },
          "shapedefaults": {
           "fillcolor": "#506784",
           "line": {
            "width": 0
           },
           "opacity": 0.4
          },
          "ternary": {
           "aaxis": {
            "gridcolor": "white",
            "linecolor": "white",
            "ticks": ""
           },
           "baxis": {
            "gridcolor": "white",
            "linecolor": "white",
            "ticks": ""
           },
           "bgcolor": "#E5ECF6",
           "caxis": {
            "gridcolor": "white",
            "linecolor": "white",
            "ticks": ""
           }
          },
          "title": {
           "x": 0.05
          },
          "xaxis": {
           "automargin": true,
           "gridcolor": "white",
           "linecolor": "white",
           "ticks": "",
           "zerolinecolor": "white",
           "zerolinewidth": 2
          },
          "yaxis": {
           "automargin": true,
           "gridcolor": "white",
           "linecolor": "white",
           "ticks": "",
           "zerolinecolor": "white",
           "zerolinewidth": 2
          }
         }
        }
       }
      },
      "text/html": [
       "<div id=\"7c8e1b08-dfdb-4980-89ee-df823b6deb0d\" style=\"height: 600px; width: 100%;\" class=\"plotly-graph-div\"></div><script type=\"text/javascript\">require([\"plotly\"], function(Plotly) { window.PLOTLYENV=window.PLOTLYENV || {};window.PLOTLYENV.BASE_URL=\"https://plot.ly\";\n",
       "if (document.getElementById(\"7c8e1b08-dfdb-4980-89ee-df823b6deb0d\")) {\n",
       "    Plotly.newPlot(\"7c8e1b08-dfdb-4980-89ee-df823b6deb0d\", [{\"hovertemplate\": \"\\u00bfUtilizas gafas o lentes de contacto?=No<br>counts=%{r}<br>cultural_cluster=%{theta}<extra></extra>\", \"legendgroup\": \"\\u00bfUtilizas gafas o lentes de contacto?=No\", \"marker\": {\"color\": \"rgb(213,62,79)\"}, \"name\": \"\\u00bfUtilizas gafas o lentes de contacto?=No\", \"r\": [82, 160, 8, 120], \"showlegend\": true, \"theta\": [\"cluster_1\", \"cluster_2\", \"cluster_3\", \"cluster_4\"], \"type\": \"barpolar\", \"uid\": \"06f051a3-ae3d-45ca-a4a2-b6e78f931a7b\"}, {\"hovertemplate\": \"\\u00bfUtilizas gafas o lentes de contacto?=S\\u00ed<br>counts=%{r}<br>cultural_cluster=%{theta}<extra></extra>\", \"legendgroup\": \"\\u00bfUtilizas gafas o lentes de contacto?=S\\u00ed\", \"marker\": {\"color\": \"rgb(252,141,89)\"}, \"name\": \"\\u00bfUtilizas gafas o lentes de contacto?=S\\u00ed\", \"r\": [141, 141, 19, 95, 1], \"showlegend\": true, \"theta\": [\"cluster_1\", \"cluster_2\", \"cluster_3\", \"cluster_4\", \"cluster_5\"], \"type\": \"barpolar\", \"uid\": \"68ab1d8c-b52f-45a5-aed2-1a1ba4eb8c2f\"}], {\"barmode\": \"group\", \"barnorm\": \"\", \"height\": 600, \"legend\": {\"tracegroupgap\": 0}, \"margin\": {\"t\": 60}, \"template\": {\"data\": {\"barpolar\": [{\"marker\": {\"line\": {\"color\": \"#E5ECF6\", \"width\": 0.5}}, \"type\": \"barpolar\"}], \"bar\": [{\"marker\": {\"line\": {\"color\": \"#E5ECF6\", \"width\": 0.5}}, \"type\": \"bar\"}], \"carpet\": [{\"aaxis\": {\"endlinecolor\": \"#2a3f5f\", \"gridcolor\": \"white\", \"linecolor\": \"white\", \"minorgridcolor\": \"white\", \"startlinecolor\": \"#2a3f5f\"}, \"baxis\": {\"endlinecolor\": \"#2a3f5f\", \"gridcolor\": \"white\", \"linecolor\": \"white\", \"minorgridcolor\": \"white\", \"startlinecolor\": \"#2a3f5f\"}, \"type\": \"carpet\"}], \"choropleth\": [{\"colorbar\": {\"outlinewidth\": 0, \"ticks\": \"\"}, \"type\": \"choropleth\"}], \"contourcarpet\": [{\"colorbar\": {\"outlinewidth\": 0, \"ticks\": \"\"}, \"type\": \"contourcarpet\"}], \"contour\": [{\"autocolorscale\": true, \"colorbar\": {\"outlinewidth\": 0, \"ticks\": \"\"}, \"type\": \"contour\"}], \"heatmapgl\": [{\"colorbar\": {\"outlinewidth\": 0, \"ticks\": \"\"}, \"type\": \"heatmapgl\"}], \"heatmap\": [{\"autocolorscale\": true, \"colorbar\": {\"outlinewidth\": 0, \"ticks\": \"\"}, \"type\": \"heatmap\"}], \"histogram2dcontour\": [{\"autocolorscale\": true, \"colorbar\": {\"outlinewidth\": 0, \"ticks\": \"\"}, \"type\": \"histogram2dcontour\"}], \"histogram2d\": [{\"autocolorscale\": true, \"colorbar\": {\"outlinewidth\": 0, \"ticks\": \"\"}, \"type\": \"histogram2d\"}], \"histogram\": [{\"marker\": {\"colorbar\": {\"outlinewidth\": 0, \"ticks\": \"\"}}, \"type\": \"histogram\"}], \"mesh3d\": [{\"colorbar\": {\"outlinewidth\": 0, \"ticks\": \"\"}, \"type\": \"mesh3d\"}], \"parcoords\": [{\"line\": {\"colorbar\": {\"outlinewidth\": 0, \"ticks\": \"\"}}, \"type\": \"parcoords\"}], \"scatter3d\": [{\"marker\": {\"colorbar\": {\"outlinewidth\": 0, \"ticks\": \"\"}}, \"type\": \"scatter3d\"}], \"scattercarpet\": [{\"marker\": {\"colorbar\": {\"outlinewidth\": 0, \"ticks\": \"\"}}, \"type\": \"scattercarpet\"}], \"scattergeo\": [{\"marker\": {\"colorbar\": {\"outlinewidth\": 0, \"ticks\": \"\"}}, \"type\": \"scattergeo\"}], \"scattergl\": [{\"marker\": {\"colorbar\": {\"outlinewidth\": 0, \"ticks\": \"\"}}, \"type\": \"scattergl\"}], \"scattermapbox\": [{\"marker\": {\"colorbar\": {\"outlinewidth\": 0, \"ticks\": \"\"}}, \"type\": \"scattermapbox\"}], \"scatterpolargl\": [{\"marker\": {\"colorbar\": {\"outlinewidth\": 0, \"ticks\": \"\"}}, \"type\": \"scatterpolargl\"}], \"scatterpolar\": [{\"marker\": {\"colorbar\": {\"outlinewidth\": 0, \"ticks\": \"\"}}, \"type\": \"scatterpolar\"}], \"scatter\": [{\"marker\": {\"colorbar\": {\"outlinewidth\": 0, \"ticks\": \"\"}}, \"type\": \"scatter\"}], \"scatterternary\": [{\"marker\": {\"colorbar\": {\"outlinewidth\": 0, \"ticks\": \"\"}}, \"type\": \"scatterternary\"}], \"surface\": [{\"colorbar\": {\"outlinewidth\": 0, \"ticks\": \"\"}, \"type\": \"surface\"}], \"table\": [{\"cells\": {\"fill\": {\"color\": \"#EBF0F8\"}, \"line\": {\"color\": \"white\"}}, \"header\": {\"fill\": {\"color\": \"#C8D4E3\"}, \"line\": {\"color\": \"white\"}}, \"type\": \"table\"}]}, \"layout\": {\"annotationdefaults\": {\"arrowcolor\": \"#506784\", \"arrowhead\": 0, \"arrowwidth\": 1}, \"colorscale\": {\"diverging\": [[0, \"#8e0152\"], [0.1, \"#c51b7d\"], [0.2, \"#de77ae\"], [0.3, \"#f1b6da\"], [0.4, \"#fde0ef\"], [0.5, \"#f7f7f7\"], [0.6, \"#e6f5d0\"], [0.7, \"#b8e186\"], [0.8, \"#7fbc41\"], [0.9, \"#4d9221\"], [1, \"#276419\"]], \"sequential\": [[0.0, \"#0508b8\"], [0.0893854748603352, \"#1910d8\"], [0.1787709497206704, \"#3c19f0\"], [0.2681564245810056, \"#6b1cfb\"], [0.3575418994413408, \"#981cfd\"], [0.44692737430167595, \"#bf1cfd\"], [0.5363128491620112, \"#dd2bfd\"], [0.6256983240223464, \"#f246fe\"], [0.7150837988826816, \"#fc67fd\"], [0.8044692737430168, \"#fe88fc\"], [0.8938547486033519, \"#fea5fd\"], [0.9832402234636871, \"#febefe\"], [1.0, \"#fec3fe\"]], \"sequentialminus\": [[0.0, \"#0508b8\"], [0.0893854748603352, \"#1910d8\"], [0.1787709497206704, \"#3c19f0\"], [0.2681564245810056, \"#6b1cfb\"], [0.3575418994413408, \"#981cfd\"], [0.44692737430167595, \"#bf1cfd\"], [0.5363128491620112, \"#dd2bfd\"], [0.6256983240223464, \"#f246fe\"], [0.7150837988826816, \"#fc67fd\"], [0.8044692737430168, \"#fe88fc\"], [0.8938547486033519, \"#fea5fd\"], [0.9832402234636871, \"#febefe\"], [1.0, \"#fec3fe\"]]}, \"colorway\": [\"#636efa\", \"#EF553B\", \"#00cc96\", \"#ab63fa\", \"#19d3f3\", \"#e763fa\", \"#FECB52\", \"#FFA15A\", \"#FF6692\", \"#B6E880\"], \"font\": {\"color\": \"#2a3f5f\"}, \"geo\": {\"bgcolor\": \"white\", \"lakecolor\": \"white\", \"landcolor\": \"#E5ECF6\", \"showlakes\": true, \"showland\": true, \"subunitcolor\": \"white\"}, \"hovermode\": \"closest\", \"mapbox\": {\"style\": \"light\"}, \"paper_bgcolor\": \"white\", \"plot_bgcolor\": \"#E5ECF6\", \"polar\": {\"angularaxis\": {\"gridcolor\": \"white\", \"linecolor\": \"white\", \"ticks\": \"\"}, \"bgcolor\": \"#E5ECF6\", \"radialaxis\": {\"gridcolor\": \"white\", \"linecolor\": \"white\", \"ticks\": \"\"}}, \"scene\": {\"xaxis\": {\"backgroundcolor\": \"#E5ECF6\", \"gridcolor\": \"white\", \"gridwidth\": 2, \"linecolor\": \"white\", \"showbackground\": true, \"ticks\": \"\", \"zerolinecolor\": \"white\"}, \"yaxis\": {\"backgroundcolor\": \"#E5ECF6\", \"gridcolor\": \"white\", \"gridwidth\": 2, \"linecolor\": \"white\", \"showbackground\": true, \"ticks\": \"\", \"zerolinecolor\": \"white\"}, \"zaxis\": {\"backgroundcolor\": \"#E5ECF6\", \"gridcolor\": \"white\", \"gridwidth\": 2, \"linecolor\": \"white\", \"showbackground\": true, \"ticks\": \"\", \"zerolinecolor\": \"white\"}}, \"shapedefaults\": {\"fillcolor\": \"#506784\", \"line\": {\"width\": 0}, \"opacity\": 0.4}, \"ternary\": {\"aaxis\": {\"gridcolor\": \"white\", \"linecolor\": \"white\", \"ticks\": \"\"}, \"baxis\": {\"gridcolor\": \"white\", \"linecolor\": \"white\", \"ticks\": \"\"}, \"bgcolor\": \"#E5ECF6\", \"caxis\": {\"gridcolor\": \"white\", \"linecolor\": \"white\", \"ticks\": \"\"}}, \"title\": {\"x\": 0.05}, \"xaxis\": {\"automargin\": true, \"gridcolor\": \"white\", \"linecolor\": \"white\", \"ticks\": \"\", \"zerolinecolor\": \"white\", \"zerolinewidth\": 2}, \"yaxis\": {\"automargin\": true, \"gridcolor\": \"white\", \"linecolor\": \"white\", \"ticks\": \"\", \"zerolinecolor\": \"white\", \"zerolinewidth\": 2}}}, \"polar\": {\"angularaxis\": {\"direction\": \"clockwise\", \"rotation\": 90}}}, {\"showLink\": false, \"linkText\": \"Export to plot.ly\", \"plotlyServerURL\": \"https://plot.ly\"}); \n",
       "}\n",
       "});</script><script type=\"text/javascript\">window.addEventListener(\"resize\", function(){if (document.getElementById(\"7c8e1b08-dfdb-4980-89ee-df823b6deb0d\")) {window._Plotly.Plots.resize(document.getElementById(\"7c8e1b08-dfdb-4980-89ee-df823b6deb0d\"));};})</script>"
      ],
      "text/vnd.plotly.v1+html": [
       "<div id=\"7c8e1b08-dfdb-4980-89ee-df823b6deb0d\" style=\"height: 600px; width: 100%;\" class=\"plotly-graph-div\"></div><script type=\"text/javascript\">require([\"plotly\"], function(Plotly) { window.PLOTLYENV=window.PLOTLYENV || {};window.PLOTLYENV.BASE_URL=\"https://plot.ly\";\n",
       "if (document.getElementById(\"7c8e1b08-dfdb-4980-89ee-df823b6deb0d\")) {\n",
       "    Plotly.newPlot(\"7c8e1b08-dfdb-4980-89ee-df823b6deb0d\", [{\"hovertemplate\": \"\\u00bfUtilizas gafas o lentes de contacto?=No<br>counts=%{r}<br>cultural_cluster=%{theta}<extra></extra>\", \"legendgroup\": \"\\u00bfUtilizas gafas o lentes de contacto?=No\", \"marker\": {\"color\": \"rgb(213,62,79)\"}, \"name\": \"\\u00bfUtilizas gafas o lentes de contacto?=No\", \"r\": [82, 160, 8, 120], \"showlegend\": true, \"theta\": [\"cluster_1\", \"cluster_2\", \"cluster_3\", \"cluster_4\"], \"type\": \"barpolar\", \"uid\": \"06f051a3-ae3d-45ca-a4a2-b6e78f931a7b\"}, {\"hovertemplate\": \"\\u00bfUtilizas gafas o lentes de contacto?=S\\u00ed<br>counts=%{r}<br>cultural_cluster=%{theta}<extra></extra>\", \"legendgroup\": \"\\u00bfUtilizas gafas o lentes de contacto?=S\\u00ed\", \"marker\": {\"color\": \"rgb(252,141,89)\"}, \"name\": \"\\u00bfUtilizas gafas o lentes de contacto?=S\\u00ed\", \"r\": [141, 141, 19, 95, 1], \"showlegend\": true, \"theta\": [\"cluster_1\", \"cluster_2\", \"cluster_3\", \"cluster_4\", \"cluster_5\"], \"type\": \"barpolar\", \"uid\": \"68ab1d8c-b52f-45a5-aed2-1a1ba4eb8c2f\"}], {\"barmode\": \"group\", \"barnorm\": \"\", \"height\": 600, \"legend\": {\"tracegroupgap\": 0}, \"margin\": {\"t\": 60}, \"template\": {\"data\": {\"barpolar\": [{\"marker\": {\"line\": {\"color\": \"#E5ECF6\", \"width\": 0.5}}, \"type\": \"barpolar\"}], \"bar\": [{\"marker\": {\"line\": {\"color\": \"#E5ECF6\", \"width\": 0.5}}, \"type\": \"bar\"}], \"carpet\": [{\"aaxis\": {\"endlinecolor\": \"#2a3f5f\", \"gridcolor\": \"white\", \"linecolor\": \"white\", \"minorgridcolor\": \"white\", \"startlinecolor\": \"#2a3f5f\"}, \"baxis\": {\"endlinecolor\": \"#2a3f5f\", \"gridcolor\": \"white\", \"linecolor\": \"white\", \"minorgridcolor\": \"white\", \"startlinecolor\": \"#2a3f5f\"}, \"type\": \"carpet\"}], \"choropleth\": [{\"colorbar\": {\"outlinewidth\": 0, \"ticks\": \"\"}, \"type\": \"choropleth\"}], \"contourcarpet\": [{\"colorbar\": {\"outlinewidth\": 0, \"ticks\": \"\"}, \"type\": \"contourcarpet\"}], \"contour\": [{\"autocolorscale\": true, \"colorbar\": {\"outlinewidth\": 0, \"ticks\": \"\"}, \"type\": \"contour\"}], \"heatmapgl\": [{\"colorbar\": {\"outlinewidth\": 0, \"ticks\": \"\"}, \"type\": \"heatmapgl\"}], \"heatmap\": [{\"autocolorscale\": true, \"colorbar\": {\"outlinewidth\": 0, \"ticks\": \"\"}, \"type\": \"heatmap\"}], \"histogram2dcontour\": [{\"autocolorscale\": true, \"colorbar\": {\"outlinewidth\": 0, \"ticks\": \"\"}, \"type\": \"histogram2dcontour\"}], \"histogram2d\": [{\"autocolorscale\": true, \"colorbar\": {\"outlinewidth\": 0, \"ticks\": \"\"}, \"type\": \"histogram2d\"}], \"histogram\": [{\"marker\": {\"colorbar\": {\"outlinewidth\": 0, \"ticks\": \"\"}}, \"type\": \"histogram\"}], \"mesh3d\": [{\"colorbar\": {\"outlinewidth\": 0, \"ticks\": \"\"}, \"type\": \"mesh3d\"}], \"parcoords\": [{\"line\": {\"colorbar\": {\"outlinewidth\": 0, \"ticks\": \"\"}}, \"type\": \"parcoords\"}], \"scatter3d\": [{\"marker\": {\"colorbar\": {\"outlinewidth\": 0, \"ticks\": \"\"}}, \"type\": \"scatter3d\"}], \"scattercarpet\": [{\"marker\": {\"colorbar\": {\"outlinewidth\": 0, \"ticks\": \"\"}}, \"type\": \"scattercarpet\"}], \"scattergeo\": [{\"marker\": {\"colorbar\": {\"outlinewidth\": 0, \"ticks\": \"\"}}, \"type\": \"scattergeo\"}], \"scattergl\": [{\"marker\": {\"colorbar\": {\"outlinewidth\": 0, \"ticks\": \"\"}}, \"type\": \"scattergl\"}], \"scattermapbox\": [{\"marker\": {\"colorbar\": {\"outlinewidth\": 0, \"ticks\": \"\"}}, \"type\": \"scattermapbox\"}], \"scatterpolargl\": [{\"marker\": {\"colorbar\": {\"outlinewidth\": 0, \"ticks\": \"\"}}, \"type\": \"scatterpolargl\"}], \"scatterpolar\": [{\"marker\": {\"colorbar\": {\"outlinewidth\": 0, \"ticks\": \"\"}}, \"type\": \"scatterpolar\"}], \"scatter\": [{\"marker\": {\"colorbar\": {\"outlinewidth\": 0, \"ticks\": \"\"}}, \"type\": \"scatter\"}], \"scatterternary\": [{\"marker\": {\"colorbar\": {\"outlinewidth\": 0, \"ticks\": \"\"}}, \"type\": \"scatterternary\"}], \"surface\": [{\"colorbar\": {\"outlinewidth\": 0, \"ticks\": \"\"}, \"type\": \"surface\"}], \"table\": [{\"cells\": {\"fill\": {\"color\": \"#EBF0F8\"}, \"line\": {\"color\": \"white\"}}, \"header\": {\"fill\": {\"color\": \"#C8D4E3\"}, \"line\": {\"color\": \"white\"}}, \"type\": \"table\"}]}, \"layout\": {\"annotationdefaults\": {\"arrowcolor\": \"#506784\", \"arrowhead\": 0, \"arrowwidth\": 1}, \"colorscale\": {\"diverging\": [[0, \"#8e0152\"], [0.1, \"#c51b7d\"], [0.2, \"#de77ae\"], [0.3, \"#f1b6da\"], [0.4, \"#fde0ef\"], [0.5, \"#f7f7f7\"], [0.6, \"#e6f5d0\"], [0.7, \"#b8e186\"], [0.8, \"#7fbc41\"], [0.9, \"#4d9221\"], [1, \"#276419\"]], \"sequential\": [[0.0, \"#0508b8\"], [0.0893854748603352, \"#1910d8\"], [0.1787709497206704, \"#3c19f0\"], [0.2681564245810056, \"#6b1cfb\"], [0.3575418994413408, \"#981cfd\"], [0.44692737430167595, \"#bf1cfd\"], [0.5363128491620112, \"#dd2bfd\"], [0.6256983240223464, \"#f246fe\"], [0.7150837988826816, \"#fc67fd\"], [0.8044692737430168, \"#fe88fc\"], [0.8938547486033519, \"#fea5fd\"], [0.9832402234636871, \"#febefe\"], [1.0, \"#fec3fe\"]], \"sequentialminus\": [[0.0, \"#0508b8\"], [0.0893854748603352, \"#1910d8\"], [0.1787709497206704, \"#3c19f0\"], [0.2681564245810056, \"#6b1cfb\"], [0.3575418994413408, \"#981cfd\"], [0.44692737430167595, \"#bf1cfd\"], [0.5363128491620112, \"#dd2bfd\"], [0.6256983240223464, \"#f246fe\"], [0.7150837988826816, \"#fc67fd\"], [0.8044692737430168, \"#fe88fc\"], [0.8938547486033519, \"#fea5fd\"], [0.9832402234636871, \"#febefe\"], [1.0, \"#fec3fe\"]]}, \"colorway\": [\"#636efa\", \"#EF553B\", \"#00cc96\", \"#ab63fa\", \"#19d3f3\", \"#e763fa\", \"#FECB52\", \"#FFA15A\", \"#FF6692\", \"#B6E880\"], \"font\": {\"color\": \"#2a3f5f\"}, \"geo\": {\"bgcolor\": \"white\", \"lakecolor\": \"white\", \"landcolor\": \"#E5ECF6\", \"showlakes\": true, \"showland\": true, \"subunitcolor\": \"white\"}, \"hovermode\": \"closest\", \"mapbox\": {\"style\": \"light\"}, \"paper_bgcolor\": \"white\", \"plot_bgcolor\": \"#E5ECF6\", \"polar\": {\"angularaxis\": {\"gridcolor\": \"white\", \"linecolor\": \"white\", \"ticks\": \"\"}, \"bgcolor\": \"#E5ECF6\", \"radialaxis\": {\"gridcolor\": \"white\", \"linecolor\": \"white\", \"ticks\": \"\"}}, \"scene\": {\"xaxis\": {\"backgroundcolor\": \"#E5ECF6\", \"gridcolor\": \"white\", \"gridwidth\": 2, \"linecolor\": \"white\", \"showbackground\": true, \"ticks\": \"\", \"zerolinecolor\": \"white\"}, \"yaxis\": {\"backgroundcolor\": \"#E5ECF6\", \"gridcolor\": \"white\", \"gridwidth\": 2, \"linecolor\": \"white\", \"showbackground\": true, \"ticks\": \"\", \"zerolinecolor\": \"white\"}, \"zaxis\": {\"backgroundcolor\": \"#E5ECF6\", \"gridcolor\": \"white\", \"gridwidth\": 2, \"linecolor\": \"white\", \"showbackground\": true, \"ticks\": \"\", \"zerolinecolor\": \"white\"}}, \"shapedefaults\": {\"fillcolor\": \"#506784\", \"line\": {\"width\": 0}, \"opacity\": 0.4}, \"ternary\": {\"aaxis\": {\"gridcolor\": \"white\", \"linecolor\": \"white\", \"ticks\": \"\"}, \"baxis\": {\"gridcolor\": \"white\", \"linecolor\": \"white\", \"ticks\": \"\"}, \"bgcolor\": \"#E5ECF6\", \"caxis\": {\"gridcolor\": \"white\", \"linecolor\": \"white\", \"ticks\": \"\"}}, \"title\": {\"x\": 0.05}, \"xaxis\": {\"automargin\": true, \"gridcolor\": \"white\", \"linecolor\": \"white\", \"ticks\": \"\", \"zerolinecolor\": \"white\", \"zerolinewidth\": 2}, \"yaxis\": {\"automargin\": true, \"gridcolor\": \"white\", \"linecolor\": \"white\", \"ticks\": \"\", \"zerolinecolor\": \"white\", \"zerolinewidth\": 2}}}, \"polar\": {\"angularaxis\": {\"direction\": \"clockwise\", \"rotation\": 90}}}, {\"showLink\": false, \"linkText\": \"Export to plot.ly\", \"plotlyServerURL\": \"https://plot.ly\"}); \n",
       "}\n",
       "});</script><script type=\"text/javascript\">window.addEventListener(\"resize\", function(){if (document.getElementById(\"7c8e1b08-dfdb-4980-89ee-df823b6deb0d\")) {window._Plotly.Plots.resize(document.getElementById(\"7c8e1b08-dfdb-4980-89ee-df823b6deb0d\"));};})</script>"
      ]
     },
     "metadata": {},
     "output_type": "display_data"
    },
    {
     "name": "stdout",
     "output_type": "stream",
     "text": [
      "Comparando la pregunta ¿Tienes alguna carencia visual que afecte a la recepción de formas, colores, distancias, etc.?\n"
     ]
    },
    {
     "data": {
      "application/vnd.plotly.v1+json": {
       "config": {
        "linkText": "Export to plot.ly",
        "plotlyServerURL": "https://plot.ly",
        "showLink": false
       },
       "data": [
        {
         "hovertemplate": "¿Tienes alguna carencia visual que afecte a la recepción de formas, colores, distancias, etc.?=No<br>counts=%{r}<br>cultural_cluster=%{theta}<extra></extra>",
         "legendgroup": "¿Tienes alguna carencia visual que afecte a la recepción de formas, colores, distancias, etc.?=No",
         "marker": {
          "color": "rgb(213,62,79)"
         },
         "name": "¿Tienes alguna carencia visual que afecte a la recepción de formas, colores, distancias, etc.?=No",
         "r": [
          171,
          276,
          19,
          180,
          1
         ],
         "showlegend": true,
         "theta": [
          "cluster_1",
          "cluster_2",
          "cluster_3",
          "cluster_4",
          "cluster_5"
         ],
         "type": "barpolar",
         "uid": "974a879d-1b2c-48b1-9978-faaf7d1cc224"
        },
        {
         "hovertemplate": "¿Tienes alguna carencia visual que afecte a la recepción de formas, colores, distancias, etc.?=Sí<br>counts=%{r}<br>cultural_cluster=%{theta}<extra></extra>",
         "legendgroup": "¿Tienes alguna carencia visual que afecte a la recepción de formas, colores, distancias, etc.?=Sí",
         "marker": {
          "color": "rgb(252,141,89)"
         },
         "name": "¿Tienes alguna carencia visual que afecte a la recepción de formas, colores, distancias, etc.?=Sí",
         "r": [
          52,
          25,
          8,
          35
         ],
         "showlegend": true,
         "theta": [
          "cluster_1",
          "cluster_2",
          "cluster_3",
          "cluster_4"
         ],
         "type": "barpolar",
         "uid": "dad7a40b-248d-44b2-a2b9-a29b142af89b"
        }
       ],
       "layout": {
        "barmode": "group",
        "barnorm": "",
        "height": 600,
        "legend": {
         "tracegroupgap": 0
        },
        "margin": {
         "t": 60
        },
        "polar": {
         "angularaxis": {
          "direction": "clockwise",
          "rotation": 90
         }
        },
        "template": {
         "data": {
          "bar": [
           {
            "marker": {
             "line": {
              "color": "#E5ECF6",
              "width": 0.5
             }
            },
            "type": "bar"
           }
          ],
          "barpolar": [
           {
            "marker": {
             "line": {
              "color": "#E5ECF6",
              "width": 0.5
             }
            },
            "type": "barpolar"
           }
          ],
          "carpet": [
           {
            "aaxis": {
             "endlinecolor": "#2a3f5f",
             "gridcolor": "white",
             "linecolor": "white",
             "minorgridcolor": "white",
             "startlinecolor": "#2a3f5f"
            },
            "baxis": {
             "endlinecolor": "#2a3f5f",
             "gridcolor": "white",
             "linecolor": "white",
             "minorgridcolor": "white",
             "startlinecolor": "#2a3f5f"
            },
            "type": "carpet"
           }
          ],
          "choropleth": [
           {
            "colorbar": {
             "outlinewidth": 0,
             "ticks": ""
            },
            "type": "choropleth"
           }
          ],
          "contour": [
           {
            "autocolorscale": true,
            "colorbar": {
             "outlinewidth": 0,
             "ticks": ""
            },
            "type": "contour"
           }
          ],
          "contourcarpet": [
           {
            "colorbar": {
             "outlinewidth": 0,
             "ticks": ""
            },
            "type": "contourcarpet"
           }
          ],
          "heatmap": [
           {
            "autocolorscale": true,
            "colorbar": {
             "outlinewidth": 0,
             "ticks": ""
            },
            "type": "heatmap"
           }
          ],
          "heatmapgl": [
           {
            "colorbar": {
             "outlinewidth": 0,
             "ticks": ""
            },
            "type": "heatmapgl"
           }
          ],
          "histogram": [
           {
            "marker": {
             "colorbar": {
              "outlinewidth": 0,
              "ticks": ""
             }
            },
            "type": "histogram"
           }
          ],
          "histogram2d": [
           {
            "autocolorscale": true,
            "colorbar": {
             "outlinewidth": 0,
             "ticks": ""
            },
            "type": "histogram2d"
           }
          ],
          "histogram2dcontour": [
           {
            "autocolorscale": true,
            "colorbar": {
             "outlinewidth": 0,
             "ticks": ""
            },
            "type": "histogram2dcontour"
           }
          ],
          "mesh3d": [
           {
            "colorbar": {
             "outlinewidth": 0,
             "ticks": ""
            },
            "type": "mesh3d"
           }
          ],
          "parcoords": [
           {
            "line": {
             "colorbar": {
              "outlinewidth": 0,
              "ticks": ""
             }
            },
            "type": "parcoords"
           }
          ],
          "scatter": [
           {
            "marker": {
             "colorbar": {
              "outlinewidth": 0,
              "ticks": ""
             }
            },
            "type": "scatter"
           }
          ],
          "scatter3d": [
           {
            "marker": {
             "colorbar": {
              "outlinewidth": 0,
              "ticks": ""
             }
            },
            "type": "scatter3d"
           }
          ],
          "scattercarpet": [
           {
            "marker": {
             "colorbar": {
              "outlinewidth": 0,
              "ticks": ""
             }
            },
            "type": "scattercarpet"
           }
          ],
          "scattergeo": [
           {
            "marker": {
             "colorbar": {
              "outlinewidth": 0,
              "ticks": ""
             }
            },
            "type": "scattergeo"
           }
          ],
          "scattergl": [
           {
            "marker": {
             "colorbar": {
              "outlinewidth": 0,
              "ticks": ""
             }
            },
            "type": "scattergl"
           }
          ],
          "scattermapbox": [
           {
            "marker": {
             "colorbar": {
              "outlinewidth": 0,
              "ticks": ""
             }
            },
            "type": "scattermapbox"
           }
          ],
          "scatterpolar": [
           {
            "marker": {
             "colorbar": {
              "outlinewidth": 0,
              "ticks": ""
             }
            },
            "type": "scatterpolar"
           }
          ],
          "scatterpolargl": [
           {
            "marker": {
             "colorbar": {
              "outlinewidth": 0,
              "ticks": ""
             }
            },
            "type": "scatterpolargl"
           }
          ],
          "scatterternary": [
           {
            "marker": {
             "colorbar": {
              "outlinewidth": 0,
              "ticks": ""
             }
            },
            "type": "scatterternary"
           }
          ],
          "surface": [
           {
            "colorbar": {
             "outlinewidth": 0,
             "ticks": ""
            },
            "type": "surface"
           }
          ],
          "table": [
           {
            "cells": {
             "fill": {
              "color": "#EBF0F8"
             },
             "line": {
              "color": "white"
             }
            },
            "header": {
             "fill": {
              "color": "#C8D4E3"
             },
             "line": {
              "color": "white"
             }
            },
            "type": "table"
           }
          ]
         },
         "layout": {
          "annotationdefaults": {
           "arrowcolor": "#506784",
           "arrowhead": 0,
           "arrowwidth": 1
          },
          "colorscale": {
           "diverging": [
            [
             0,
             "#8e0152"
            ],
            [
             0.1,
             "#c51b7d"
            ],
            [
             0.2,
             "#de77ae"
            ],
            [
             0.3,
             "#f1b6da"
            ],
            [
             0.4,
             "#fde0ef"
            ],
            [
             0.5,
             "#f7f7f7"
            ],
            [
             0.6,
             "#e6f5d0"
            ],
            [
             0.7,
             "#b8e186"
            ],
            [
             0.8,
             "#7fbc41"
            ],
            [
             0.9,
             "#4d9221"
            ],
            [
             1,
             "#276419"
            ]
           ],
           "sequential": [
            [
             0,
             "#0508b8"
            ],
            [
             0.0893854748603352,
             "#1910d8"
            ],
            [
             0.1787709497206704,
             "#3c19f0"
            ],
            [
             0.2681564245810056,
             "#6b1cfb"
            ],
            [
             0.3575418994413408,
             "#981cfd"
            ],
            [
             0.44692737430167595,
             "#bf1cfd"
            ],
            [
             0.5363128491620112,
             "#dd2bfd"
            ],
            [
             0.6256983240223464,
             "#f246fe"
            ],
            [
             0.7150837988826816,
             "#fc67fd"
            ],
            [
             0.8044692737430168,
             "#fe88fc"
            ],
            [
             0.8938547486033519,
             "#fea5fd"
            ],
            [
             0.9832402234636871,
             "#febefe"
            ],
            [
             1,
             "#fec3fe"
            ]
           ],
           "sequentialminus": [
            [
             0,
             "#0508b8"
            ],
            [
             0.0893854748603352,
             "#1910d8"
            ],
            [
             0.1787709497206704,
             "#3c19f0"
            ],
            [
             0.2681564245810056,
             "#6b1cfb"
            ],
            [
             0.3575418994413408,
             "#981cfd"
            ],
            [
             0.44692737430167595,
             "#bf1cfd"
            ],
            [
             0.5363128491620112,
             "#dd2bfd"
            ],
            [
             0.6256983240223464,
             "#f246fe"
            ],
            [
             0.7150837988826816,
             "#fc67fd"
            ],
            [
             0.8044692737430168,
             "#fe88fc"
            ],
            [
             0.8938547486033519,
             "#fea5fd"
            ],
            [
             0.9832402234636871,
             "#febefe"
            ],
            [
             1,
             "#fec3fe"
            ]
           ]
          },
          "colorway": [
           "#636efa",
           "#EF553B",
           "#00cc96",
           "#ab63fa",
           "#19d3f3",
           "#e763fa",
           "#FECB52",
           "#FFA15A",
           "#FF6692",
           "#B6E880"
          ],
          "font": {
           "color": "#2a3f5f"
          },
          "geo": {
           "bgcolor": "white",
           "lakecolor": "white",
           "landcolor": "#E5ECF6",
           "showlakes": true,
           "showland": true,
           "subunitcolor": "white"
          },
          "hovermode": "closest",
          "mapbox": {
           "style": "light"
          },
          "paper_bgcolor": "white",
          "plot_bgcolor": "#E5ECF6",
          "polar": {
           "angularaxis": {
            "gridcolor": "white",
            "linecolor": "white",
            "ticks": ""
           },
           "bgcolor": "#E5ECF6",
           "radialaxis": {
            "gridcolor": "white",
            "linecolor": "white",
            "ticks": ""
           }
          },
          "scene": {
           "xaxis": {
            "backgroundcolor": "#E5ECF6",
            "gridcolor": "white",
            "gridwidth": 2,
            "linecolor": "white",
            "showbackground": true,
            "ticks": "",
            "zerolinecolor": "white"
           },
           "yaxis": {
            "backgroundcolor": "#E5ECF6",
            "gridcolor": "white",
            "gridwidth": 2,
            "linecolor": "white",
            "showbackground": true,
            "ticks": "",
            "zerolinecolor": "white"
           },
           "zaxis": {
            "backgroundcolor": "#E5ECF6",
            "gridcolor": "white",
            "gridwidth": 2,
            "linecolor": "white",
            "showbackground": true,
            "ticks": "",
            "zerolinecolor": "white"
           }
          },
          "shapedefaults": {
           "fillcolor": "#506784",
           "line": {
            "width": 0
           },
           "opacity": 0.4
          },
          "ternary": {
           "aaxis": {
            "gridcolor": "white",
            "linecolor": "white",
            "ticks": ""
           },
           "baxis": {
            "gridcolor": "white",
            "linecolor": "white",
            "ticks": ""
           },
           "bgcolor": "#E5ECF6",
           "caxis": {
            "gridcolor": "white",
            "linecolor": "white",
            "ticks": ""
           }
          },
          "title": {
           "x": 0.05
          },
          "xaxis": {
           "automargin": true,
           "gridcolor": "white",
           "linecolor": "white",
           "ticks": "",
           "zerolinecolor": "white",
           "zerolinewidth": 2
          },
          "yaxis": {
           "automargin": true,
           "gridcolor": "white",
           "linecolor": "white",
           "ticks": "",
           "zerolinecolor": "white",
           "zerolinewidth": 2
          }
         }
        }
       }
      },
      "text/html": [
       "<div id=\"167cdb57-8409-4123-8fda-690c2d26792b\" style=\"height: 600px; width: 100%;\" class=\"plotly-graph-div\"></div><script type=\"text/javascript\">require([\"plotly\"], function(Plotly) { window.PLOTLYENV=window.PLOTLYENV || {};window.PLOTLYENV.BASE_URL=\"https://plot.ly\";\n",
       "if (document.getElementById(\"167cdb57-8409-4123-8fda-690c2d26792b\")) {\n",
       "    Plotly.newPlot(\"167cdb57-8409-4123-8fda-690c2d26792b\", [{\"hovertemplate\": \"\\u00bfTienes alguna carencia visual que afecte a la recepci\\u00f3n de formas, colores, distancias, etc.?=No<br>counts=%{r}<br>cultural_cluster=%{theta}<extra></extra>\", \"legendgroup\": \"\\u00bfTienes alguna carencia visual que afecte a la recepci\\u00f3n de formas, colores, distancias, etc.?=No\", \"marker\": {\"color\": \"rgb(213,62,79)\"}, \"name\": \"\\u00bfTienes alguna carencia visual que afecte a la recepci\\u00f3n de formas, colores, distancias, etc.?=No\", \"r\": [171, 276, 19, 180, 1], \"showlegend\": true, \"theta\": [\"cluster_1\", \"cluster_2\", \"cluster_3\", \"cluster_4\", \"cluster_5\"], \"type\": \"barpolar\", \"uid\": \"974a879d-1b2c-48b1-9978-faaf7d1cc224\"}, {\"hovertemplate\": \"\\u00bfTienes alguna carencia visual que afecte a la recepci\\u00f3n de formas, colores, distancias, etc.?=S\\u00ed<br>counts=%{r}<br>cultural_cluster=%{theta}<extra></extra>\", \"legendgroup\": \"\\u00bfTienes alguna carencia visual que afecte a la recepci\\u00f3n de formas, colores, distancias, etc.?=S\\u00ed\", \"marker\": {\"color\": \"rgb(252,141,89)\"}, \"name\": \"\\u00bfTienes alguna carencia visual que afecte a la recepci\\u00f3n de formas, colores, distancias, etc.?=S\\u00ed\", \"r\": [52, 25, 8, 35], \"showlegend\": true, \"theta\": [\"cluster_1\", \"cluster_2\", \"cluster_3\", \"cluster_4\"], \"type\": \"barpolar\", \"uid\": \"dad7a40b-248d-44b2-a2b9-a29b142af89b\"}], {\"barmode\": \"group\", \"barnorm\": \"\", \"height\": 600, \"legend\": {\"tracegroupgap\": 0}, \"margin\": {\"t\": 60}, \"template\": {\"data\": {\"barpolar\": [{\"marker\": {\"line\": {\"color\": \"#E5ECF6\", \"width\": 0.5}}, \"type\": \"barpolar\"}], \"bar\": [{\"marker\": {\"line\": {\"color\": \"#E5ECF6\", \"width\": 0.5}}, \"type\": \"bar\"}], \"carpet\": [{\"aaxis\": {\"endlinecolor\": \"#2a3f5f\", \"gridcolor\": \"white\", \"linecolor\": \"white\", \"minorgridcolor\": \"white\", \"startlinecolor\": \"#2a3f5f\"}, \"baxis\": {\"endlinecolor\": \"#2a3f5f\", \"gridcolor\": \"white\", \"linecolor\": \"white\", \"minorgridcolor\": \"white\", \"startlinecolor\": \"#2a3f5f\"}, \"type\": \"carpet\"}], \"choropleth\": [{\"colorbar\": {\"outlinewidth\": 0, \"ticks\": \"\"}, \"type\": \"choropleth\"}], \"contourcarpet\": [{\"colorbar\": {\"outlinewidth\": 0, \"ticks\": \"\"}, \"type\": \"contourcarpet\"}], \"contour\": [{\"autocolorscale\": true, \"colorbar\": {\"outlinewidth\": 0, \"ticks\": \"\"}, \"type\": \"contour\"}], \"heatmapgl\": [{\"colorbar\": {\"outlinewidth\": 0, \"ticks\": \"\"}, \"type\": \"heatmapgl\"}], \"heatmap\": [{\"autocolorscale\": true, \"colorbar\": {\"outlinewidth\": 0, \"ticks\": \"\"}, \"type\": \"heatmap\"}], \"histogram2dcontour\": [{\"autocolorscale\": true, \"colorbar\": {\"outlinewidth\": 0, \"ticks\": \"\"}, \"type\": \"histogram2dcontour\"}], \"histogram2d\": [{\"autocolorscale\": true, \"colorbar\": {\"outlinewidth\": 0, \"ticks\": \"\"}, \"type\": \"histogram2d\"}], \"histogram\": [{\"marker\": {\"colorbar\": {\"outlinewidth\": 0, \"ticks\": \"\"}}, \"type\": \"histogram\"}], \"mesh3d\": [{\"colorbar\": {\"outlinewidth\": 0, \"ticks\": \"\"}, \"type\": \"mesh3d\"}], \"parcoords\": [{\"line\": {\"colorbar\": {\"outlinewidth\": 0, \"ticks\": \"\"}}, \"type\": \"parcoords\"}], \"scatter3d\": [{\"marker\": {\"colorbar\": {\"outlinewidth\": 0, \"ticks\": \"\"}}, \"type\": \"scatter3d\"}], \"scattercarpet\": [{\"marker\": {\"colorbar\": {\"outlinewidth\": 0, \"ticks\": \"\"}}, \"type\": \"scattercarpet\"}], \"scattergeo\": [{\"marker\": {\"colorbar\": {\"outlinewidth\": 0, \"ticks\": \"\"}}, \"type\": \"scattergeo\"}], \"scattergl\": [{\"marker\": {\"colorbar\": {\"outlinewidth\": 0, \"ticks\": \"\"}}, \"type\": \"scattergl\"}], \"scattermapbox\": [{\"marker\": {\"colorbar\": {\"outlinewidth\": 0, \"ticks\": \"\"}}, \"type\": \"scattermapbox\"}], \"scatterpolargl\": [{\"marker\": {\"colorbar\": {\"outlinewidth\": 0, \"ticks\": \"\"}}, \"type\": \"scatterpolargl\"}], \"scatterpolar\": [{\"marker\": {\"colorbar\": {\"outlinewidth\": 0, \"ticks\": \"\"}}, \"type\": \"scatterpolar\"}], \"scatter\": [{\"marker\": {\"colorbar\": {\"outlinewidth\": 0, \"ticks\": \"\"}}, \"type\": \"scatter\"}], \"scatterternary\": [{\"marker\": {\"colorbar\": {\"outlinewidth\": 0, \"ticks\": \"\"}}, \"type\": \"scatterternary\"}], \"surface\": [{\"colorbar\": {\"outlinewidth\": 0, \"ticks\": \"\"}, \"type\": \"surface\"}], \"table\": [{\"cells\": {\"fill\": {\"color\": \"#EBF0F8\"}, \"line\": {\"color\": \"white\"}}, \"header\": {\"fill\": {\"color\": \"#C8D4E3\"}, \"line\": {\"color\": \"white\"}}, \"type\": \"table\"}]}, \"layout\": {\"annotationdefaults\": {\"arrowcolor\": \"#506784\", \"arrowhead\": 0, \"arrowwidth\": 1}, \"colorscale\": {\"diverging\": [[0, \"#8e0152\"], [0.1, \"#c51b7d\"], [0.2, \"#de77ae\"], [0.3, \"#f1b6da\"], [0.4, \"#fde0ef\"], [0.5, \"#f7f7f7\"], [0.6, \"#e6f5d0\"], [0.7, \"#b8e186\"], [0.8, \"#7fbc41\"], [0.9, \"#4d9221\"], [1, \"#276419\"]], \"sequential\": [[0.0, \"#0508b8\"], [0.0893854748603352, \"#1910d8\"], [0.1787709497206704, \"#3c19f0\"], [0.2681564245810056, \"#6b1cfb\"], [0.3575418994413408, \"#981cfd\"], [0.44692737430167595, \"#bf1cfd\"], [0.5363128491620112, \"#dd2bfd\"], [0.6256983240223464, \"#f246fe\"], [0.7150837988826816, \"#fc67fd\"], [0.8044692737430168, \"#fe88fc\"], [0.8938547486033519, \"#fea5fd\"], [0.9832402234636871, \"#febefe\"], [1.0, \"#fec3fe\"]], \"sequentialminus\": [[0.0, \"#0508b8\"], [0.0893854748603352, \"#1910d8\"], [0.1787709497206704, \"#3c19f0\"], [0.2681564245810056, \"#6b1cfb\"], [0.3575418994413408, \"#981cfd\"], [0.44692737430167595, \"#bf1cfd\"], [0.5363128491620112, \"#dd2bfd\"], [0.6256983240223464, \"#f246fe\"], [0.7150837988826816, \"#fc67fd\"], [0.8044692737430168, \"#fe88fc\"], [0.8938547486033519, \"#fea5fd\"], [0.9832402234636871, \"#febefe\"], [1.0, \"#fec3fe\"]]}, \"colorway\": [\"#636efa\", \"#EF553B\", \"#00cc96\", \"#ab63fa\", \"#19d3f3\", \"#e763fa\", \"#FECB52\", \"#FFA15A\", \"#FF6692\", \"#B6E880\"], \"font\": {\"color\": \"#2a3f5f\"}, \"geo\": {\"bgcolor\": \"white\", \"lakecolor\": \"white\", \"landcolor\": \"#E5ECF6\", \"showlakes\": true, \"showland\": true, \"subunitcolor\": \"white\"}, \"hovermode\": \"closest\", \"mapbox\": {\"style\": \"light\"}, \"paper_bgcolor\": \"white\", \"plot_bgcolor\": \"#E5ECF6\", \"polar\": {\"angularaxis\": {\"gridcolor\": \"white\", \"linecolor\": \"white\", \"ticks\": \"\"}, \"bgcolor\": \"#E5ECF6\", \"radialaxis\": {\"gridcolor\": \"white\", \"linecolor\": \"white\", \"ticks\": \"\"}}, \"scene\": {\"xaxis\": {\"backgroundcolor\": \"#E5ECF6\", \"gridcolor\": \"white\", \"gridwidth\": 2, \"linecolor\": \"white\", \"showbackground\": true, \"ticks\": \"\", \"zerolinecolor\": \"white\"}, \"yaxis\": {\"backgroundcolor\": \"#E5ECF6\", \"gridcolor\": \"white\", \"gridwidth\": 2, \"linecolor\": \"white\", \"showbackground\": true, \"ticks\": \"\", \"zerolinecolor\": \"white\"}, \"zaxis\": {\"backgroundcolor\": \"#E5ECF6\", \"gridcolor\": \"white\", \"gridwidth\": 2, \"linecolor\": \"white\", \"showbackground\": true, \"ticks\": \"\", \"zerolinecolor\": \"white\"}}, \"shapedefaults\": {\"fillcolor\": \"#506784\", \"line\": {\"width\": 0}, \"opacity\": 0.4}, \"ternary\": {\"aaxis\": {\"gridcolor\": \"white\", \"linecolor\": \"white\", \"ticks\": \"\"}, \"baxis\": {\"gridcolor\": \"white\", \"linecolor\": \"white\", \"ticks\": \"\"}, \"bgcolor\": \"#E5ECF6\", \"caxis\": {\"gridcolor\": \"white\", \"linecolor\": \"white\", \"ticks\": \"\"}}, \"title\": {\"x\": 0.05}, \"xaxis\": {\"automargin\": true, \"gridcolor\": \"white\", \"linecolor\": \"white\", \"ticks\": \"\", \"zerolinecolor\": \"white\", \"zerolinewidth\": 2}, \"yaxis\": {\"automargin\": true, \"gridcolor\": \"white\", \"linecolor\": \"white\", \"ticks\": \"\", \"zerolinecolor\": \"white\", \"zerolinewidth\": 2}}}, \"polar\": {\"angularaxis\": {\"direction\": \"clockwise\", \"rotation\": 90}}}, {\"showLink\": false, \"linkText\": \"Export to plot.ly\", \"plotlyServerURL\": \"https://plot.ly\"}); \n",
       "}\n",
       "});</script><script type=\"text/javascript\">window.addEventListener(\"resize\", function(){if (document.getElementById(\"167cdb57-8409-4123-8fda-690c2d26792b\")) {window._Plotly.Plots.resize(document.getElementById(\"167cdb57-8409-4123-8fda-690c2d26792b\"));};})</script>"
      ],
      "text/vnd.plotly.v1+html": [
       "<div id=\"167cdb57-8409-4123-8fda-690c2d26792b\" style=\"height: 600px; width: 100%;\" class=\"plotly-graph-div\"></div><script type=\"text/javascript\">require([\"plotly\"], function(Plotly) { window.PLOTLYENV=window.PLOTLYENV || {};window.PLOTLYENV.BASE_URL=\"https://plot.ly\";\n",
       "if (document.getElementById(\"167cdb57-8409-4123-8fda-690c2d26792b\")) {\n",
       "    Plotly.newPlot(\"167cdb57-8409-4123-8fda-690c2d26792b\", [{\"hovertemplate\": \"\\u00bfTienes alguna carencia visual que afecte a la recepci\\u00f3n de formas, colores, distancias, etc.?=No<br>counts=%{r}<br>cultural_cluster=%{theta}<extra></extra>\", \"legendgroup\": \"\\u00bfTienes alguna carencia visual que afecte a la recepci\\u00f3n de formas, colores, distancias, etc.?=No\", \"marker\": {\"color\": \"rgb(213,62,79)\"}, \"name\": \"\\u00bfTienes alguna carencia visual que afecte a la recepci\\u00f3n de formas, colores, distancias, etc.?=No\", \"r\": [171, 276, 19, 180, 1], \"showlegend\": true, \"theta\": [\"cluster_1\", \"cluster_2\", \"cluster_3\", \"cluster_4\", \"cluster_5\"], \"type\": \"barpolar\", \"uid\": \"974a879d-1b2c-48b1-9978-faaf7d1cc224\"}, {\"hovertemplate\": \"\\u00bfTienes alguna carencia visual que afecte a la recepci\\u00f3n de formas, colores, distancias, etc.?=S\\u00ed<br>counts=%{r}<br>cultural_cluster=%{theta}<extra></extra>\", \"legendgroup\": \"\\u00bfTienes alguna carencia visual que afecte a la recepci\\u00f3n de formas, colores, distancias, etc.?=S\\u00ed\", \"marker\": {\"color\": \"rgb(252,141,89)\"}, \"name\": \"\\u00bfTienes alguna carencia visual que afecte a la recepci\\u00f3n de formas, colores, distancias, etc.?=S\\u00ed\", \"r\": [52, 25, 8, 35], \"showlegend\": true, \"theta\": [\"cluster_1\", \"cluster_2\", \"cluster_3\", \"cluster_4\"], \"type\": \"barpolar\", \"uid\": \"dad7a40b-248d-44b2-a2b9-a29b142af89b\"}], {\"barmode\": \"group\", \"barnorm\": \"\", \"height\": 600, \"legend\": {\"tracegroupgap\": 0}, \"margin\": {\"t\": 60}, \"template\": {\"data\": {\"barpolar\": [{\"marker\": {\"line\": {\"color\": \"#E5ECF6\", \"width\": 0.5}}, \"type\": \"barpolar\"}], \"bar\": [{\"marker\": {\"line\": {\"color\": \"#E5ECF6\", \"width\": 0.5}}, \"type\": \"bar\"}], \"carpet\": [{\"aaxis\": {\"endlinecolor\": \"#2a3f5f\", \"gridcolor\": \"white\", \"linecolor\": \"white\", \"minorgridcolor\": \"white\", \"startlinecolor\": \"#2a3f5f\"}, \"baxis\": {\"endlinecolor\": \"#2a3f5f\", \"gridcolor\": \"white\", \"linecolor\": \"white\", \"minorgridcolor\": \"white\", \"startlinecolor\": \"#2a3f5f\"}, \"type\": \"carpet\"}], \"choropleth\": [{\"colorbar\": {\"outlinewidth\": 0, \"ticks\": \"\"}, \"type\": \"choropleth\"}], \"contourcarpet\": [{\"colorbar\": {\"outlinewidth\": 0, \"ticks\": \"\"}, \"type\": \"contourcarpet\"}], \"contour\": [{\"autocolorscale\": true, \"colorbar\": {\"outlinewidth\": 0, \"ticks\": \"\"}, \"type\": \"contour\"}], \"heatmapgl\": [{\"colorbar\": {\"outlinewidth\": 0, \"ticks\": \"\"}, \"type\": \"heatmapgl\"}], \"heatmap\": [{\"autocolorscale\": true, \"colorbar\": {\"outlinewidth\": 0, \"ticks\": \"\"}, \"type\": \"heatmap\"}], \"histogram2dcontour\": [{\"autocolorscale\": true, \"colorbar\": {\"outlinewidth\": 0, \"ticks\": \"\"}, \"type\": \"histogram2dcontour\"}], \"histogram2d\": [{\"autocolorscale\": true, \"colorbar\": {\"outlinewidth\": 0, \"ticks\": \"\"}, \"type\": \"histogram2d\"}], \"histogram\": [{\"marker\": {\"colorbar\": {\"outlinewidth\": 0, \"ticks\": \"\"}}, \"type\": \"histogram\"}], \"mesh3d\": [{\"colorbar\": {\"outlinewidth\": 0, \"ticks\": \"\"}, \"type\": \"mesh3d\"}], \"parcoords\": [{\"line\": {\"colorbar\": {\"outlinewidth\": 0, \"ticks\": \"\"}}, \"type\": \"parcoords\"}], \"scatter3d\": [{\"marker\": {\"colorbar\": {\"outlinewidth\": 0, \"ticks\": \"\"}}, \"type\": \"scatter3d\"}], \"scattercarpet\": [{\"marker\": {\"colorbar\": {\"outlinewidth\": 0, \"ticks\": \"\"}}, \"type\": \"scattercarpet\"}], \"scattergeo\": [{\"marker\": {\"colorbar\": {\"outlinewidth\": 0, \"ticks\": \"\"}}, \"type\": \"scattergeo\"}], \"scattergl\": [{\"marker\": {\"colorbar\": {\"outlinewidth\": 0, \"ticks\": \"\"}}, \"type\": \"scattergl\"}], \"scattermapbox\": [{\"marker\": {\"colorbar\": {\"outlinewidth\": 0, \"ticks\": \"\"}}, \"type\": \"scattermapbox\"}], \"scatterpolargl\": [{\"marker\": {\"colorbar\": {\"outlinewidth\": 0, \"ticks\": \"\"}}, \"type\": \"scatterpolargl\"}], \"scatterpolar\": [{\"marker\": {\"colorbar\": {\"outlinewidth\": 0, \"ticks\": \"\"}}, \"type\": \"scatterpolar\"}], \"scatter\": [{\"marker\": {\"colorbar\": {\"outlinewidth\": 0, \"ticks\": \"\"}}, \"type\": \"scatter\"}], \"scatterternary\": [{\"marker\": {\"colorbar\": {\"outlinewidth\": 0, \"ticks\": \"\"}}, \"type\": \"scatterternary\"}], \"surface\": [{\"colorbar\": {\"outlinewidth\": 0, \"ticks\": \"\"}, \"type\": \"surface\"}], \"table\": [{\"cells\": {\"fill\": {\"color\": \"#EBF0F8\"}, \"line\": {\"color\": \"white\"}}, \"header\": {\"fill\": {\"color\": \"#C8D4E3\"}, \"line\": {\"color\": \"white\"}}, \"type\": \"table\"}]}, \"layout\": {\"annotationdefaults\": {\"arrowcolor\": \"#506784\", \"arrowhead\": 0, \"arrowwidth\": 1}, \"colorscale\": {\"diverging\": [[0, \"#8e0152\"], [0.1, \"#c51b7d\"], [0.2, \"#de77ae\"], [0.3, \"#f1b6da\"], [0.4, \"#fde0ef\"], [0.5, \"#f7f7f7\"], [0.6, \"#e6f5d0\"], [0.7, \"#b8e186\"], [0.8, \"#7fbc41\"], [0.9, \"#4d9221\"], [1, \"#276419\"]], \"sequential\": [[0.0, \"#0508b8\"], [0.0893854748603352, \"#1910d8\"], [0.1787709497206704, \"#3c19f0\"], [0.2681564245810056, \"#6b1cfb\"], [0.3575418994413408, \"#981cfd\"], [0.44692737430167595, \"#bf1cfd\"], [0.5363128491620112, \"#dd2bfd\"], [0.6256983240223464, \"#f246fe\"], [0.7150837988826816, \"#fc67fd\"], [0.8044692737430168, \"#fe88fc\"], [0.8938547486033519, \"#fea5fd\"], [0.9832402234636871, \"#febefe\"], [1.0, \"#fec3fe\"]], \"sequentialminus\": [[0.0, \"#0508b8\"], [0.0893854748603352, \"#1910d8\"], [0.1787709497206704, \"#3c19f0\"], [0.2681564245810056, \"#6b1cfb\"], [0.3575418994413408, \"#981cfd\"], [0.44692737430167595, \"#bf1cfd\"], [0.5363128491620112, \"#dd2bfd\"], [0.6256983240223464, \"#f246fe\"], [0.7150837988826816, \"#fc67fd\"], [0.8044692737430168, \"#fe88fc\"], [0.8938547486033519, \"#fea5fd\"], [0.9832402234636871, \"#febefe\"], [1.0, \"#fec3fe\"]]}, \"colorway\": [\"#636efa\", \"#EF553B\", \"#00cc96\", \"#ab63fa\", \"#19d3f3\", \"#e763fa\", \"#FECB52\", \"#FFA15A\", \"#FF6692\", \"#B6E880\"], \"font\": {\"color\": \"#2a3f5f\"}, \"geo\": {\"bgcolor\": \"white\", \"lakecolor\": \"white\", \"landcolor\": \"#E5ECF6\", \"showlakes\": true, \"showland\": true, \"subunitcolor\": \"white\"}, \"hovermode\": \"closest\", \"mapbox\": {\"style\": \"light\"}, \"paper_bgcolor\": \"white\", \"plot_bgcolor\": \"#E5ECF6\", \"polar\": {\"angularaxis\": {\"gridcolor\": \"white\", \"linecolor\": \"white\", \"ticks\": \"\"}, \"bgcolor\": \"#E5ECF6\", \"radialaxis\": {\"gridcolor\": \"white\", \"linecolor\": \"white\", \"ticks\": \"\"}}, \"scene\": {\"xaxis\": {\"backgroundcolor\": \"#E5ECF6\", \"gridcolor\": \"white\", \"gridwidth\": 2, \"linecolor\": \"white\", \"showbackground\": true, \"ticks\": \"\", \"zerolinecolor\": \"white\"}, \"yaxis\": {\"backgroundcolor\": \"#E5ECF6\", \"gridcolor\": \"white\", \"gridwidth\": 2, \"linecolor\": \"white\", \"showbackground\": true, \"ticks\": \"\", \"zerolinecolor\": \"white\"}, \"zaxis\": {\"backgroundcolor\": \"#E5ECF6\", \"gridcolor\": \"white\", \"gridwidth\": 2, \"linecolor\": \"white\", \"showbackground\": true, \"ticks\": \"\", \"zerolinecolor\": \"white\"}}, \"shapedefaults\": {\"fillcolor\": \"#506784\", \"line\": {\"width\": 0}, \"opacity\": 0.4}, \"ternary\": {\"aaxis\": {\"gridcolor\": \"white\", \"linecolor\": \"white\", \"ticks\": \"\"}, \"baxis\": {\"gridcolor\": \"white\", \"linecolor\": \"white\", \"ticks\": \"\"}, \"bgcolor\": \"#E5ECF6\", \"caxis\": {\"gridcolor\": \"white\", \"linecolor\": \"white\", \"ticks\": \"\"}}, \"title\": {\"x\": 0.05}, \"xaxis\": {\"automargin\": true, \"gridcolor\": \"white\", \"linecolor\": \"white\", \"ticks\": \"\", \"zerolinecolor\": \"white\", \"zerolinewidth\": 2}, \"yaxis\": {\"automargin\": true, \"gridcolor\": \"white\", \"linecolor\": \"white\", \"ticks\": \"\", \"zerolinecolor\": \"white\", \"zerolinewidth\": 2}}}, \"polar\": {\"angularaxis\": {\"direction\": \"clockwise\", \"rotation\": 90}}}, {\"showLink\": false, \"linkText\": \"Export to plot.ly\", \"plotlyServerURL\": \"https://plot.ly\"}); \n",
       "}\n",
       "});</script><script type=\"text/javascript\">window.addEventListener(\"resize\", function(){if (document.getElementById(\"167cdb57-8409-4123-8fda-690c2d26792b\")) {window._Plotly.Plots.resize(document.getElementById(\"167cdb57-8409-4123-8fda-690c2d26792b\"));};})</script>"
      ]
     },
     "metadata": {},
     "output_type": "display_data"
    },
    {
     "name": "stdout",
     "output_type": "stream",
     "text": [
      "Comparando la pregunta ¿Tienes acceso a dispositivos (ordenador, móvil, tablet, etc.) conectados a Internet habitualmente?\n"
     ]
    },
    {
     "data": {
      "application/vnd.plotly.v1+json": {
       "config": {
        "linkText": "Export to plot.ly",
        "plotlyServerURL": "https://plot.ly",
        "showLink": false
       },
       "data": [
        {
         "hovertemplate": "¿Tienes acceso a dispositivos (ordenador, móvil, tablet, etc.) conectados a Internet habitualmente?=1. Nunca<br>counts=%{r}<br>cultural_cluster=%{theta}<extra></extra>",
         "legendgroup": "¿Tienes acceso a dispositivos (ordenador, móvil, tablet, etc.) conectados a Internet habitualmente?=1. Nunca",
         "marker": {
          "color": "rgb(213,62,79)"
         },
         "name": "¿Tienes acceso a dispositivos (ordenador, móvil, tablet, etc.) conectados a Internet habitualmente?=1. Nunca",
         "r": [
          1
         ],
         "showlegend": true,
         "theta": [
          "cluster_4"
         ],
         "type": "barpolar",
         "uid": "c35a73fe-7b87-46b6-911e-b6c1de8e5e1a"
        },
        {
         "hovertemplate": "¿Tienes acceso a dispositivos (ordenador, móvil, tablet, etc.) conectados a Internet habitualmente?=2. Ocasionalmente<br>counts=%{r}<br>cultural_cluster=%{theta}<extra></extra>",
         "legendgroup": "¿Tienes acceso a dispositivos (ordenador, móvil, tablet, etc.) conectados a Internet habitualmente?=2. Ocasionalmente",
         "marker": {
          "color": "rgb(252,141,89)"
         },
         "name": "¿Tienes acceso a dispositivos (ordenador, móvil, tablet, etc.) conectados a Internet habitualmente?=2. Ocasionalmente",
         "r": [
          2,
          6
         ],
         "showlegend": true,
         "theta": [
          "cluster_3",
          "cluster_4"
         ],
         "type": "barpolar",
         "uid": "ad893cf5-a821-4892-bc91-91b55b6a495d"
        },
        {
         "hovertemplate": "¿Tienes acceso a dispositivos (ordenador, móvil, tablet, etc.) conectados a Internet habitualmente?=3. Semanalmente<br>counts=%{r}<br>cultural_cluster=%{theta}<extra></extra>",
         "legendgroup": "¿Tienes acceso a dispositivos (ordenador, móvil, tablet, etc.) conectados a Internet habitualmente?=3. Semanalmente",
         "marker": {
          "color": "rgb(254,224,139)"
         },
         "name": "¿Tienes acceso a dispositivos (ordenador, móvil, tablet, etc.) conectados a Internet habitualmente?=3. Semanalmente",
         "r": [
          2,
          26
         ],
         "showlegend": true,
         "theta": [
          "cluster_3",
          "cluster_4"
         ],
         "type": "barpolar",
         "uid": "73b44113-e718-479b-83b4-2b84d1a78789"
        },
        {
         "hovertemplate": "¿Tienes acceso a dispositivos (ordenador, móvil, tablet, etc.) conectados a Internet habitualmente?=4. Diariamente<br>counts=%{r}<br>cultural_cluster=%{theta}<extra></extra>",
         "legendgroup": "¿Tienes acceso a dispositivos (ordenador, móvil, tablet, etc.) conectados a Internet habitualmente?=4. Diariamente",
         "marker": {
          "color": "rgb(230,245,152)"
         },
         "name": "¿Tienes acceso a dispositivos (ordenador, móvil, tablet, etc.) conectados a Internet habitualmente?=4. Diariamente",
         "r": [
          22,
          53,
          11,
          84
         ],
         "showlegend": true,
         "theta": [
          "cluster_1",
          "cluster_2",
          "cluster_3",
          "cluster_4"
         ],
         "type": "barpolar",
         "uid": "6f217070-8692-42a3-8438-a522e96857cf"
        },
        {
         "hovertemplate": "¿Tienes acceso a dispositivos (ordenador, móvil, tablet, etc.) conectados a Internet habitualmente?=5. Varias veces al día<br>counts=%{r}<br>cultural_cluster=%{theta}<extra></extra>",
         "legendgroup": "¿Tienes acceso a dispositivos (ordenador, móvil, tablet, etc.) conectados a Internet habitualmente?=5. Varias veces al día",
         "marker": {
          "color": "rgb(153,213,148)"
         },
         "name": "¿Tienes acceso a dispositivos (ordenador, móvil, tablet, etc.) conectados a Internet habitualmente?=5. Varias veces al día",
         "r": [
          201,
          248,
          12,
          98,
          1
         ],
         "showlegend": true,
         "theta": [
          "cluster_1",
          "cluster_2",
          "cluster_3",
          "cluster_4",
          "cluster_5"
         ],
         "type": "barpolar",
         "uid": "3b83d56e-fd57-4b52-bdef-6db2021c5733"
        }
       ],
       "layout": {
        "barmode": "group",
        "barnorm": "",
        "height": 600,
        "legend": {
         "tracegroupgap": 0
        },
        "margin": {
         "t": 60
        },
        "polar": {
         "angularaxis": {
          "direction": "clockwise",
          "rotation": 90
         }
        },
        "template": {
         "data": {
          "bar": [
           {
            "marker": {
             "line": {
              "color": "#E5ECF6",
              "width": 0.5
             }
            },
            "type": "bar"
           }
          ],
          "barpolar": [
           {
            "marker": {
             "line": {
              "color": "#E5ECF6",
              "width": 0.5
             }
            },
            "type": "barpolar"
           }
          ],
          "carpet": [
           {
            "aaxis": {
             "endlinecolor": "#2a3f5f",
             "gridcolor": "white",
             "linecolor": "white",
             "minorgridcolor": "white",
             "startlinecolor": "#2a3f5f"
            },
            "baxis": {
             "endlinecolor": "#2a3f5f",
             "gridcolor": "white",
             "linecolor": "white",
             "minorgridcolor": "white",
             "startlinecolor": "#2a3f5f"
            },
            "type": "carpet"
           }
          ],
          "choropleth": [
           {
            "colorbar": {
             "outlinewidth": 0,
             "ticks": ""
            },
            "type": "choropleth"
           }
          ],
          "contour": [
           {
            "autocolorscale": true,
            "colorbar": {
             "outlinewidth": 0,
             "ticks": ""
            },
            "type": "contour"
           }
          ],
          "contourcarpet": [
           {
            "colorbar": {
             "outlinewidth": 0,
             "ticks": ""
            },
            "type": "contourcarpet"
           }
          ],
          "heatmap": [
           {
            "autocolorscale": true,
            "colorbar": {
             "outlinewidth": 0,
             "ticks": ""
            },
            "type": "heatmap"
           }
          ],
          "heatmapgl": [
           {
            "colorbar": {
             "outlinewidth": 0,
             "ticks": ""
            },
            "type": "heatmapgl"
           }
          ],
          "histogram": [
           {
            "marker": {
             "colorbar": {
              "outlinewidth": 0,
              "ticks": ""
             }
            },
            "type": "histogram"
           }
          ],
          "histogram2d": [
           {
            "autocolorscale": true,
            "colorbar": {
             "outlinewidth": 0,
             "ticks": ""
            },
            "type": "histogram2d"
           }
          ],
          "histogram2dcontour": [
           {
            "autocolorscale": true,
            "colorbar": {
             "outlinewidth": 0,
             "ticks": ""
            },
            "type": "histogram2dcontour"
           }
          ],
          "mesh3d": [
           {
            "colorbar": {
             "outlinewidth": 0,
             "ticks": ""
            },
            "type": "mesh3d"
           }
          ],
          "parcoords": [
           {
            "line": {
             "colorbar": {
              "outlinewidth": 0,
              "ticks": ""
             }
            },
            "type": "parcoords"
           }
          ],
          "scatter": [
           {
            "marker": {
             "colorbar": {
              "outlinewidth": 0,
              "ticks": ""
             }
            },
            "type": "scatter"
           }
          ],
          "scatter3d": [
           {
            "marker": {
             "colorbar": {
              "outlinewidth": 0,
              "ticks": ""
             }
            },
            "type": "scatter3d"
           }
          ],
          "scattercarpet": [
           {
            "marker": {
             "colorbar": {
              "outlinewidth": 0,
              "ticks": ""
             }
            },
            "type": "scattercarpet"
           }
          ],
          "scattergeo": [
           {
            "marker": {
             "colorbar": {
              "outlinewidth": 0,
              "ticks": ""
             }
            },
            "type": "scattergeo"
           }
          ],
          "scattergl": [
           {
            "marker": {
             "colorbar": {
              "outlinewidth": 0,
              "ticks": ""
             }
            },
            "type": "scattergl"
           }
          ],
          "scattermapbox": [
           {
            "marker": {
             "colorbar": {
              "outlinewidth": 0,
              "ticks": ""
             }
            },
            "type": "scattermapbox"
           }
          ],
          "scatterpolar": [
           {
            "marker": {
             "colorbar": {
              "outlinewidth": 0,
              "ticks": ""
             }
            },
            "type": "scatterpolar"
           }
          ],
          "scatterpolargl": [
           {
            "marker": {
             "colorbar": {
              "outlinewidth": 0,
              "ticks": ""
             }
            },
            "type": "scatterpolargl"
           }
          ],
          "scatterternary": [
           {
            "marker": {
             "colorbar": {
              "outlinewidth": 0,
              "ticks": ""
             }
            },
            "type": "scatterternary"
           }
          ],
          "surface": [
           {
            "colorbar": {
             "outlinewidth": 0,
             "ticks": ""
            },
            "type": "surface"
           }
          ],
          "table": [
           {
            "cells": {
             "fill": {
              "color": "#EBF0F8"
             },
             "line": {
              "color": "white"
             }
            },
            "header": {
             "fill": {
              "color": "#C8D4E3"
             },
             "line": {
              "color": "white"
             }
            },
            "type": "table"
           }
          ]
         },
         "layout": {
          "annotationdefaults": {
           "arrowcolor": "#506784",
           "arrowhead": 0,
           "arrowwidth": 1
          },
          "colorscale": {
           "diverging": [
            [
             0,
             "#8e0152"
            ],
            [
             0.1,
             "#c51b7d"
            ],
            [
             0.2,
             "#de77ae"
            ],
            [
             0.3,
             "#f1b6da"
            ],
            [
             0.4,
             "#fde0ef"
            ],
            [
             0.5,
             "#f7f7f7"
            ],
            [
             0.6,
             "#e6f5d0"
            ],
            [
             0.7,
             "#b8e186"
            ],
            [
             0.8,
             "#7fbc41"
            ],
            [
             0.9,
             "#4d9221"
            ],
            [
             1,
             "#276419"
            ]
           ],
           "sequential": [
            [
             0,
             "#0508b8"
            ],
            [
             0.0893854748603352,
             "#1910d8"
            ],
            [
             0.1787709497206704,
             "#3c19f0"
            ],
            [
             0.2681564245810056,
             "#6b1cfb"
            ],
            [
             0.3575418994413408,
             "#981cfd"
            ],
            [
             0.44692737430167595,
             "#bf1cfd"
            ],
            [
             0.5363128491620112,
             "#dd2bfd"
            ],
            [
             0.6256983240223464,
             "#f246fe"
            ],
            [
             0.7150837988826816,
             "#fc67fd"
            ],
            [
             0.8044692737430168,
             "#fe88fc"
            ],
            [
             0.8938547486033519,
             "#fea5fd"
            ],
            [
             0.9832402234636871,
             "#febefe"
            ],
            [
             1,
             "#fec3fe"
            ]
           ],
           "sequentialminus": [
            [
             0,
             "#0508b8"
            ],
            [
             0.0893854748603352,
             "#1910d8"
            ],
            [
             0.1787709497206704,
             "#3c19f0"
            ],
            [
             0.2681564245810056,
             "#6b1cfb"
            ],
            [
             0.3575418994413408,
             "#981cfd"
            ],
            [
             0.44692737430167595,
             "#bf1cfd"
            ],
            [
             0.5363128491620112,
             "#dd2bfd"
            ],
            [
             0.6256983240223464,
             "#f246fe"
            ],
            [
             0.7150837988826816,
             "#fc67fd"
            ],
            [
             0.8044692737430168,
             "#fe88fc"
            ],
            [
             0.8938547486033519,
             "#fea5fd"
            ],
            [
             0.9832402234636871,
             "#febefe"
            ],
            [
             1,
             "#fec3fe"
            ]
           ]
          },
          "colorway": [
           "#636efa",
           "#EF553B",
           "#00cc96",
           "#ab63fa",
           "#19d3f3",
           "#e763fa",
           "#FECB52",
           "#FFA15A",
           "#FF6692",
           "#B6E880"
          ],
          "font": {
           "color": "#2a3f5f"
          },
          "geo": {
           "bgcolor": "white",
           "lakecolor": "white",
           "landcolor": "#E5ECF6",
           "showlakes": true,
           "showland": true,
           "subunitcolor": "white"
          },
          "hovermode": "closest",
          "mapbox": {
           "style": "light"
          },
          "paper_bgcolor": "white",
          "plot_bgcolor": "#E5ECF6",
          "polar": {
           "angularaxis": {
            "gridcolor": "white",
            "linecolor": "white",
            "ticks": ""
           },
           "bgcolor": "#E5ECF6",
           "radialaxis": {
            "gridcolor": "white",
            "linecolor": "white",
            "ticks": ""
           }
          },
          "scene": {
           "xaxis": {
            "backgroundcolor": "#E5ECF6",
            "gridcolor": "white",
            "gridwidth": 2,
            "linecolor": "white",
            "showbackground": true,
            "ticks": "",
            "zerolinecolor": "white"
           },
           "yaxis": {
            "backgroundcolor": "#E5ECF6",
            "gridcolor": "white",
            "gridwidth": 2,
            "linecolor": "white",
            "showbackground": true,
            "ticks": "",
            "zerolinecolor": "white"
           },
           "zaxis": {
            "backgroundcolor": "#E5ECF6",
            "gridcolor": "white",
            "gridwidth": 2,
            "linecolor": "white",
            "showbackground": true,
            "ticks": "",
            "zerolinecolor": "white"
           }
          },
          "shapedefaults": {
           "fillcolor": "#506784",
           "line": {
            "width": 0
           },
           "opacity": 0.4
          },
          "ternary": {
           "aaxis": {
            "gridcolor": "white",
            "linecolor": "white",
            "ticks": ""
           },
           "baxis": {
            "gridcolor": "white",
            "linecolor": "white",
            "ticks": ""
           },
           "bgcolor": "#E5ECF6",
           "caxis": {
            "gridcolor": "white",
            "linecolor": "white",
            "ticks": ""
           }
          },
          "title": {
           "x": 0.05
          },
          "xaxis": {
           "automargin": true,
           "gridcolor": "white",
           "linecolor": "white",
           "ticks": "",
           "zerolinecolor": "white",
           "zerolinewidth": 2
          },
          "yaxis": {
           "automargin": true,
           "gridcolor": "white",
           "linecolor": "white",
           "ticks": "",
           "zerolinecolor": "white",
           "zerolinewidth": 2
          }
         }
        }
       }
      },
      "text/html": [
       "<div id=\"8c1844fd-aac1-478a-ae1d-fc9ac740c354\" style=\"height: 600px; width: 100%;\" class=\"plotly-graph-div\"></div><script type=\"text/javascript\">require([\"plotly\"], function(Plotly) { window.PLOTLYENV=window.PLOTLYENV || {};window.PLOTLYENV.BASE_URL=\"https://plot.ly\";\n",
       "if (document.getElementById(\"8c1844fd-aac1-478a-ae1d-fc9ac740c354\")) {\n",
       "    Plotly.newPlot(\"8c1844fd-aac1-478a-ae1d-fc9ac740c354\", [{\"hovertemplate\": \"\\u00bfTienes acceso a dispositivos (ordenador, m\\u00f3vil, tablet, etc.) conectados a Internet habitualmente?=1. Nunca<br>counts=%{r}<br>cultural_cluster=%{theta}<extra></extra>\", \"legendgroup\": \"\\u00bfTienes acceso a dispositivos (ordenador, m\\u00f3vil, tablet, etc.) conectados a Internet habitualmente?=1. Nunca\", \"marker\": {\"color\": \"rgb(213,62,79)\"}, \"name\": \"\\u00bfTienes acceso a dispositivos (ordenador, m\\u00f3vil, tablet, etc.) conectados a Internet habitualmente?=1. Nunca\", \"r\": [1], \"showlegend\": true, \"theta\": [\"cluster_4\"], \"type\": \"barpolar\", \"uid\": \"c35a73fe-7b87-46b6-911e-b6c1de8e5e1a\"}, {\"hovertemplate\": \"\\u00bfTienes acceso a dispositivos (ordenador, m\\u00f3vil, tablet, etc.) conectados a Internet habitualmente?=2. Ocasionalmente<br>counts=%{r}<br>cultural_cluster=%{theta}<extra></extra>\", \"legendgroup\": \"\\u00bfTienes acceso a dispositivos (ordenador, m\\u00f3vil, tablet, etc.) conectados a Internet habitualmente?=2. Ocasionalmente\", \"marker\": {\"color\": \"rgb(252,141,89)\"}, \"name\": \"\\u00bfTienes acceso a dispositivos (ordenador, m\\u00f3vil, tablet, etc.) conectados a Internet habitualmente?=2. Ocasionalmente\", \"r\": [2, 6], \"showlegend\": true, \"theta\": [\"cluster_3\", \"cluster_4\"], \"type\": \"barpolar\", \"uid\": \"ad893cf5-a821-4892-bc91-91b55b6a495d\"}, {\"hovertemplate\": \"\\u00bfTienes acceso a dispositivos (ordenador, m\\u00f3vil, tablet, etc.) conectados a Internet habitualmente?=3. Semanalmente<br>counts=%{r}<br>cultural_cluster=%{theta}<extra></extra>\", \"legendgroup\": \"\\u00bfTienes acceso a dispositivos (ordenador, m\\u00f3vil, tablet, etc.) conectados a Internet habitualmente?=3. Semanalmente\", \"marker\": {\"color\": \"rgb(254,224,139)\"}, \"name\": \"\\u00bfTienes acceso a dispositivos (ordenador, m\\u00f3vil, tablet, etc.) conectados a Internet habitualmente?=3. Semanalmente\", \"r\": [2, 26], \"showlegend\": true, \"theta\": [\"cluster_3\", \"cluster_4\"], \"type\": \"barpolar\", \"uid\": \"73b44113-e718-479b-83b4-2b84d1a78789\"}, {\"hovertemplate\": \"\\u00bfTienes acceso a dispositivos (ordenador, m\\u00f3vil, tablet, etc.) conectados a Internet habitualmente?=4. Diariamente<br>counts=%{r}<br>cultural_cluster=%{theta}<extra></extra>\", \"legendgroup\": \"\\u00bfTienes acceso a dispositivos (ordenador, m\\u00f3vil, tablet, etc.) conectados a Internet habitualmente?=4. Diariamente\", \"marker\": {\"color\": \"rgb(230,245,152)\"}, \"name\": \"\\u00bfTienes acceso a dispositivos (ordenador, m\\u00f3vil, tablet, etc.) conectados a Internet habitualmente?=4. Diariamente\", \"r\": [22, 53, 11, 84], \"showlegend\": true, \"theta\": [\"cluster_1\", \"cluster_2\", \"cluster_3\", \"cluster_4\"], \"type\": \"barpolar\", \"uid\": \"6f217070-8692-42a3-8438-a522e96857cf\"}, {\"hovertemplate\": \"\\u00bfTienes acceso a dispositivos (ordenador, m\\u00f3vil, tablet, etc.) conectados a Internet habitualmente?=5. Varias veces al d\\u00eda<br>counts=%{r}<br>cultural_cluster=%{theta}<extra></extra>\", \"legendgroup\": \"\\u00bfTienes acceso a dispositivos (ordenador, m\\u00f3vil, tablet, etc.) conectados a Internet habitualmente?=5. Varias veces al d\\u00eda\", \"marker\": {\"color\": \"rgb(153,213,148)\"}, \"name\": \"\\u00bfTienes acceso a dispositivos (ordenador, m\\u00f3vil, tablet, etc.) conectados a Internet habitualmente?=5. Varias veces al d\\u00eda\", \"r\": [201, 248, 12, 98, 1], \"showlegend\": true, \"theta\": [\"cluster_1\", \"cluster_2\", \"cluster_3\", \"cluster_4\", \"cluster_5\"], \"type\": \"barpolar\", \"uid\": \"3b83d56e-fd57-4b52-bdef-6db2021c5733\"}], {\"barmode\": \"group\", \"barnorm\": \"\", \"height\": 600, \"legend\": {\"tracegroupgap\": 0}, \"margin\": {\"t\": 60}, \"template\": {\"data\": {\"barpolar\": [{\"marker\": {\"line\": {\"color\": \"#E5ECF6\", \"width\": 0.5}}, \"type\": \"barpolar\"}], \"bar\": [{\"marker\": {\"line\": {\"color\": \"#E5ECF6\", \"width\": 0.5}}, \"type\": \"bar\"}], \"carpet\": [{\"aaxis\": {\"endlinecolor\": \"#2a3f5f\", \"gridcolor\": \"white\", \"linecolor\": \"white\", \"minorgridcolor\": \"white\", \"startlinecolor\": \"#2a3f5f\"}, \"baxis\": {\"endlinecolor\": \"#2a3f5f\", \"gridcolor\": \"white\", \"linecolor\": \"white\", \"minorgridcolor\": \"white\", \"startlinecolor\": \"#2a3f5f\"}, \"type\": \"carpet\"}], \"choropleth\": [{\"colorbar\": {\"outlinewidth\": 0, \"ticks\": \"\"}, \"type\": \"choropleth\"}], \"contourcarpet\": [{\"colorbar\": {\"outlinewidth\": 0, \"ticks\": \"\"}, \"type\": \"contourcarpet\"}], \"contour\": [{\"autocolorscale\": true, \"colorbar\": {\"outlinewidth\": 0, \"ticks\": \"\"}, \"type\": \"contour\"}], \"heatmapgl\": [{\"colorbar\": {\"outlinewidth\": 0, \"ticks\": \"\"}, \"type\": \"heatmapgl\"}], \"heatmap\": [{\"autocolorscale\": true, \"colorbar\": {\"outlinewidth\": 0, \"ticks\": \"\"}, \"type\": \"heatmap\"}], \"histogram2dcontour\": [{\"autocolorscale\": true, \"colorbar\": {\"outlinewidth\": 0, \"ticks\": \"\"}, \"type\": \"histogram2dcontour\"}], \"histogram2d\": [{\"autocolorscale\": true, \"colorbar\": {\"outlinewidth\": 0, \"ticks\": \"\"}, \"type\": \"histogram2d\"}], \"histogram\": [{\"marker\": {\"colorbar\": {\"outlinewidth\": 0, \"ticks\": \"\"}}, \"type\": \"histogram\"}], \"mesh3d\": [{\"colorbar\": {\"outlinewidth\": 0, \"ticks\": \"\"}, \"type\": \"mesh3d\"}], \"parcoords\": [{\"line\": {\"colorbar\": {\"outlinewidth\": 0, \"ticks\": \"\"}}, \"type\": \"parcoords\"}], \"scatter3d\": [{\"marker\": {\"colorbar\": {\"outlinewidth\": 0, \"ticks\": \"\"}}, \"type\": \"scatter3d\"}], \"scattercarpet\": [{\"marker\": {\"colorbar\": {\"outlinewidth\": 0, \"ticks\": \"\"}}, \"type\": \"scattercarpet\"}], \"scattergeo\": [{\"marker\": {\"colorbar\": {\"outlinewidth\": 0, \"ticks\": \"\"}}, \"type\": \"scattergeo\"}], \"scattergl\": [{\"marker\": {\"colorbar\": {\"outlinewidth\": 0, \"ticks\": \"\"}}, \"type\": \"scattergl\"}], \"scattermapbox\": [{\"marker\": {\"colorbar\": {\"outlinewidth\": 0, \"ticks\": \"\"}}, \"type\": \"scattermapbox\"}], \"scatterpolargl\": [{\"marker\": {\"colorbar\": {\"outlinewidth\": 0, \"ticks\": \"\"}}, \"type\": \"scatterpolargl\"}], \"scatterpolar\": [{\"marker\": {\"colorbar\": {\"outlinewidth\": 0, \"ticks\": \"\"}}, \"type\": \"scatterpolar\"}], \"scatter\": [{\"marker\": {\"colorbar\": {\"outlinewidth\": 0, \"ticks\": \"\"}}, \"type\": \"scatter\"}], \"scatterternary\": [{\"marker\": {\"colorbar\": {\"outlinewidth\": 0, \"ticks\": \"\"}}, \"type\": \"scatterternary\"}], \"surface\": [{\"colorbar\": {\"outlinewidth\": 0, \"ticks\": \"\"}, \"type\": \"surface\"}], \"table\": [{\"cells\": {\"fill\": {\"color\": \"#EBF0F8\"}, \"line\": {\"color\": \"white\"}}, \"header\": {\"fill\": {\"color\": \"#C8D4E3\"}, \"line\": {\"color\": \"white\"}}, \"type\": \"table\"}]}, \"layout\": {\"annotationdefaults\": {\"arrowcolor\": \"#506784\", \"arrowhead\": 0, \"arrowwidth\": 1}, \"colorscale\": {\"diverging\": [[0, \"#8e0152\"], [0.1, \"#c51b7d\"], [0.2, \"#de77ae\"], [0.3, \"#f1b6da\"], [0.4, \"#fde0ef\"], [0.5, \"#f7f7f7\"], [0.6, \"#e6f5d0\"], [0.7, \"#b8e186\"], [0.8, \"#7fbc41\"], [0.9, \"#4d9221\"], [1, \"#276419\"]], \"sequential\": [[0.0, \"#0508b8\"], [0.0893854748603352, \"#1910d8\"], [0.1787709497206704, \"#3c19f0\"], [0.2681564245810056, \"#6b1cfb\"], [0.3575418994413408, \"#981cfd\"], [0.44692737430167595, \"#bf1cfd\"], [0.5363128491620112, \"#dd2bfd\"], [0.6256983240223464, \"#f246fe\"], [0.7150837988826816, \"#fc67fd\"], [0.8044692737430168, \"#fe88fc\"], [0.8938547486033519, \"#fea5fd\"], [0.9832402234636871, \"#febefe\"], [1.0, \"#fec3fe\"]], \"sequentialminus\": [[0.0, \"#0508b8\"], [0.0893854748603352, \"#1910d8\"], [0.1787709497206704, \"#3c19f0\"], [0.2681564245810056, \"#6b1cfb\"], [0.3575418994413408, \"#981cfd\"], [0.44692737430167595, \"#bf1cfd\"], [0.5363128491620112, \"#dd2bfd\"], [0.6256983240223464, \"#f246fe\"], [0.7150837988826816, \"#fc67fd\"], [0.8044692737430168, \"#fe88fc\"], [0.8938547486033519, \"#fea5fd\"], [0.9832402234636871, \"#febefe\"], [1.0, \"#fec3fe\"]]}, \"colorway\": [\"#636efa\", \"#EF553B\", \"#00cc96\", \"#ab63fa\", \"#19d3f3\", \"#e763fa\", \"#FECB52\", \"#FFA15A\", \"#FF6692\", \"#B6E880\"], \"font\": {\"color\": \"#2a3f5f\"}, \"geo\": {\"bgcolor\": \"white\", \"lakecolor\": \"white\", \"landcolor\": \"#E5ECF6\", \"showlakes\": true, \"showland\": true, \"subunitcolor\": \"white\"}, \"hovermode\": \"closest\", \"mapbox\": {\"style\": \"light\"}, \"paper_bgcolor\": \"white\", \"plot_bgcolor\": \"#E5ECF6\", \"polar\": {\"angularaxis\": {\"gridcolor\": \"white\", \"linecolor\": \"white\", \"ticks\": \"\"}, \"bgcolor\": \"#E5ECF6\", \"radialaxis\": {\"gridcolor\": \"white\", \"linecolor\": \"white\", \"ticks\": \"\"}}, \"scene\": {\"xaxis\": {\"backgroundcolor\": \"#E5ECF6\", \"gridcolor\": \"white\", \"gridwidth\": 2, \"linecolor\": \"white\", \"showbackground\": true, \"ticks\": \"\", \"zerolinecolor\": \"white\"}, \"yaxis\": {\"backgroundcolor\": \"#E5ECF6\", \"gridcolor\": \"white\", \"gridwidth\": 2, \"linecolor\": \"white\", \"showbackground\": true, \"ticks\": \"\", \"zerolinecolor\": \"white\"}, \"zaxis\": {\"backgroundcolor\": \"#E5ECF6\", \"gridcolor\": \"white\", \"gridwidth\": 2, \"linecolor\": \"white\", \"showbackground\": true, \"ticks\": \"\", \"zerolinecolor\": \"white\"}}, \"shapedefaults\": {\"fillcolor\": \"#506784\", \"line\": {\"width\": 0}, \"opacity\": 0.4}, \"ternary\": {\"aaxis\": {\"gridcolor\": \"white\", \"linecolor\": \"white\", \"ticks\": \"\"}, \"baxis\": {\"gridcolor\": \"white\", \"linecolor\": \"white\", \"ticks\": \"\"}, \"bgcolor\": \"#E5ECF6\", \"caxis\": {\"gridcolor\": \"white\", \"linecolor\": \"white\", \"ticks\": \"\"}}, \"title\": {\"x\": 0.05}, \"xaxis\": {\"automargin\": true, \"gridcolor\": \"white\", \"linecolor\": \"white\", \"ticks\": \"\", \"zerolinecolor\": \"white\", \"zerolinewidth\": 2}, \"yaxis\": {\"automargin\": true, \"gridcolor\": \"white\", \"linecolor\": \"white\", \"ticks\": \"\", \"zerolinecolor\": \"white\", \"zerolinewidth\": 2}}}, \"polar\": {\"angularaxis\": {\"direction\": \"clockwise\", \"rotation\": 90}}}, {\"showLink\": false, \"linkText\": \"Export to plot.ly\", \"plotlyServerURL\": \"https://plot.ly\"}); \n",
       "}\n",
       "});</script><script type=\"text/javascript\">window.addEventListener(\"resize\", function(){if (document.getElementById(\"8c1844fd-aac1-478a-ae1d-fc9ac740c354\")) {window._Plotly.Plots.resize(document.getElementById(\"8c1844fd-aac1-478a-ae1d-fc9ac740c354\"));};})</script>"
      ],
      "text/vnd.plotly.v1+html": [
       "<div id=\"8c1844fd-aac1-478a-ae1d-fc9ac740c354\" style=\"height: 600px; width: 100%;\" class=\"plotly-graph-div\"></div><script type=\"text/javascript\">require([\"plotly\"], function(Plotly) { window.PLOTLYENV=window.PLOTLYENV || {};window.PLOTLYENV.BASE_URL=\"https://plot.ly\";\n",
       "if (document.getElementById(\"8c1844fd-aac1-478a-ae1d-fc9ac740c354\")) {\n",
       "    Plotly.newPlot(\"8c1844fd-aac1-478a-ae1d-fc9ac740c354\", [{\"hovertemplate\": \"\\u00bfTienes acceso a dispositivos (ordenador, m\\u00f3vil, tablet, etc.) conectados a Internet habitualmente?=1. Nunca<br>counts=%{r}<br>cultural_cluster=%{theta}<extra></extra>\", \"legendgroup\": \"\\u00bfTienes acceso a dispositivos (ordenador, m\\u00f3vil, tablet, etc.) conectados a Internet habitualmente?=1. Nunca\", \"marker\": {\"color\": \"rgb(213,62,79)\"}, \"name\": \"\\u00bfTienes acceso a dispositivos (ordenador, m\\u00f3vil, tablet, etc.) conectados a Internet habitualmente?=1. Nunca\", \"r\": [1], \"showlegend\": true, \"theta\": [\"cluster_4\"], \"type\": \"barpolar\", \"uid\": \"c35a73fe-7b87-46b6-911e-b6c1de8e5e1a\"}, {\"hovertemplate\": \"\\u00bfTienes acceso a dispositivos (ordenador, m\\u00f3vil, tablet, etc.) conectados a Internet habitualmente?=2. Ocasionalmente<br>counts=%{r}<br>cultural_cluster=%{theta}<extra></extra>\", \"legendgroup\": \"\\u00bfTienes acceso a dispositivos (ordenador, m\\u00f3vil, tablet, etc.) conectados a Internet habitualmente?=2. Ocasionalmente\", \"marker\": {\"color\": \"rgb(252,141,89)\"}, \"name\": \"\\u00bfTienes acceso a dispositivos (ordenador, m\\u00f3vil, tablet, etc.) conectados a Internet habitualmente?=2. Ocasionalmente\", \"r\": [2, 6], \"showlegend\": true, \"theta\": [\"cluster_3\", \"cluster_4\"], \"type\": \"barpolar\", \"uid\": \"ad893cf5-a821-4892-bc91-91b55b6a495d\"}, {\"hovertemplate\": \"\\u00bfTienes acceso a dispositivos (ordenador, m\\u00f3vil, tablet, etc.) conectados a Internet habitualmente?=3. Semanalmente<br>counts=%{r}<br>cultural_cluster=%{theta}<extra></extra>\", \"legendgroup\": \"\\u00bfTienes acceso a dispositivos (ordenador, m\\u00f3vil, tablet, etc.) conectados a Internet habitualmente?=3. Semanalmente\", \"marker\": {\"color\": \"rgb(254,224,139)\"}, \"name\": \"\\u00bfTienes acceso a dispositivos (ordenador, m\\u00f3vil, tablet, etc.) conectados a Internet habitualmente?=3. Semanalmente\", \"r\": [2, 26], \"showlegend\": true, \"theta\": [\"cluster_3\", \"cluster_4\"], \"type\": \"barpolar\", \"uid\": \"73b44113-e718-479b-83b4-2b84d1a78789\"}, {\"hovertemplate\": \"\\u00bfTienes acceso a dispositivos (ordenador, m\\u00f3vil, tablet, etc.) conectados a Internet habitualmente?=4. Diariamente<br>counts=%{r}<br>cultural_cluster=%{theta}<extra></extra>\", \"legendgroup\": \"\\u00bfTienes acceso a dispositivos (ordenador, m\\u00f3vil, tablet, etc.) conectados a Internet habitualmente?=4. Diariamente\", \"marker\": {\"color\": \"rgb(230,245,152)\"}, \"name\": \"\\u00bfTienes acceso a dispositivos (ordenador, m\\u00f3vil, tablet, etc.) conectados a Internet habitualmente?=4. Diariamente\", \"r\": [22, 53, 11, 84], \"showlegend\": true, \"theta\": [\"cluster_1\", \"cluster_2\", \"cluster_3\", \"cluster_4\"], \"type\": \"barpolar\", \"uid\": \"6f217070-8692-42a3-8438-a522e96857cf\"}, {\"hovertemplate\": \"\\u00bfTienes acceso a dispositivos (ordenador, m\\u00f3vil, tablet, etc.) conectados a Internet habitualmente?=5. Varias veces al d\\u00eda<br>counts=%{r}<br>cultural_cluster=%{theta}<extra></extra>\", \"legendgroup\": \"\\u00bfTienes acceso a dispositivos (ordenador, m\\u00f3vil, tablet, etc.) conectados a Internet habitualmente?=5. Varias veces al d\\u00eda\", \"marker\": {\"color\": \"rgb(153,213,148)\"}, \"name\": \"\\u00bfTienes acceso a dispositivos (ordenador, m\\u00f3vil, tablet, etc.) conectados a Internet habitualmente?=5. Varias veces al d\\u00eda\", \"r\": [201, 248, 12, 98, 1], \"showlegend\": true, \"theta\": [\"cluster_1\", \"cluster_2\", \"cluster_3\", \"cluster_4\", \"cluster_5\"], \"type\": \"barpolar\", \"uid\": \"3b83d56e-fd57-4b52-bdef-6db2021c5733\"}], {\"barmode\": \"group\", \"barnorm\": \"\", \"height\": 600, \"legend\": {\"tracegroupgap\": 0}, \"margin\": {\"t\": 60}, \"template\": {\"data\": {\"barpolar\": [{\"marker\": {\"line\": {\"color\": \"#E5ECF6\", \"width\": 0.5}}, \"type\": \"barpolar\"}], \"bar\": [{\"marker\": {\"line\": {\"color\": \"#E5ECF6\", \"width\": 0.5}}, \"type\": \"bar\"}], \"carpet\": [{\"aaxis\": {\"endlinecolor\": \"#2a3f5f\", \"gridcolor\": \"white\", \"linecolor\": \"white\", \"minorgridcolor\": \"white\", \"startlinecolor\": \"#2a3f5f\"}, \"baxis\": {\"endlinecolor\": \"#2a3f5f\", \"gridcolor\": \"white\", \"linecolor\": \"white\", \"minorgridcolor\": \"white\", \"startlinecolor\": \"#2a3f5f\"}, \"type\": \"carpet\"}], \"choropleth\": [{\"colorbar\": {\"outlinewidth\": 0, \"ticks\": \"\"}, \"type\": \"choropleth\"}], \"contourcarpet\": [{\"colorbar\": {\"outlinewidth\": 0, \"ticks\": \"\"}, \"type\": \"contourcarpet\"}], \"contour\": [{\"autocolorscale\": true, \"colorbar\": {\"outlinewidth\": 0, \"ticks\": \"\"}, \"type\": \"contour\"}], \"heatmapgl\": [{\"colorbar\": {\"outlinewidth\": 0, \"ticks\": \"\"}, \"type\": \"heatmapgl\"}], \"heatmap\": [{\"autocolorscale\": true, \"colorbar\": {\"outlinewidth\": 0, \"ticks\": \"\"}, \"type\": \"heatmap\"}], \"histogram2dcontour\": [{\"autocolorscale\": true, \"colorbar\": {\"outlinewidth\": 0, \"ticks\": \"\"}, \"type\": \"histogram2dcontour\"}], \"histogram2d\": [{\"autocolorscale\": true, \"colorbar\": {\"outlinewidth\": 0, \"ticks\": \"\"}, \"type\": \"histogram2d\"}], \"histogram\": [{\"marker\": {\"colorbar\": {\"outlinewidth\": 0, \"ticks\": \"\"}}, \"type\": \"histogram\"}], \"mesh3d\": [{\"colorbar\": {\"outlinewidth\": 0, \"ticks\": \"\"}, \"type\": \"mesh3d\"}], \"parcoords\": [{\"line\": {\"colorbar\": {\"outlinewidth\": 0, \"ticks\": \"\"}}, \"type\": \"parcoords\"}], \"scatter3d\": [{\"marker\": {\"colorbar\": {\"outlinewidth\": 0, \"ticks\": \"\"}}, \"type\": \"scatter3d\"}], \"scattercarpet\": [{\"marker\": {\"colorbar\": {\"outlinewidth\": 0, \"ticks\": \"\"}}, \"type\": \"scattercarpet\"}], \"scattergeo\": [{\"marker\": {\"colorbar\": {\"outlinewidth\": 0, \"ticks\": \"\"}}, \"type\": \"scattergeo\"}], \"scattergl\": [{\"marker\": {\"colorbar\": {\"outlinewidth\": 0, \"ticks\": \"\"}}, \"type\": \"scattergl\"}], \"scattermapbox\": [{\"marker\": {\"colorbar\": {\"outlinewidth\": 0, \"ticks\": \"\"}}, \"type\": \"scattermapbox\"}], \"scatterpolargl\": [{\"marker\": {\"colorbar\": {\"outlinewidth\": 0, \"ticks\": \"\"}}, \"type\": \"scatterpolargl\"}], \"scatterpolar\": [{\"marker\": {\"colorbar\": {\"outlinewidth\": 0, \"ticks\": \"\"}}, \"type\": \"scatterpolar\"}], \"scatter\": [{\"marker\": {\"colorbar\": {\"outlinewidth\": 0, \"ticks\": \"\"}}, \"type\": \"scatter\"}], \"scatterternary\": [{\"marker\": {\"colorbar\": {\"outlinewidth\": 0, \"ticks\": \"\"}}, \"type\": \"scatterternary\"}], \"surface\": [{\"colorbar\": {\"outlinewidth\": 0, \"ticks\": \"\"}, \"type\": \"surface\"}], \"table\": [{\"cells\": {\"fill\": {\"color\": \"#EBF0F8\"}, \"line\": {\"color\": \"white\"}}, \"header\": {\"fill\": {\"color\": \"#C8D4E3\"}, \"line\": {\"color\": \"white\"}}, \"type\": \"table\"}]}, \"layout\": {\"annotationdefaults\": {\"arrowcolor\": \"#506784\", \"arrowhead\": 0, \"arrowwidth\": 1}, \"colorscale\": {\"diverging\": [[0, \"#8e0152\"], [0.1, \"#c51b7d\"], [0.2, \"#de77ae\"], [0.3, \"#f1b6da\"], [0.4, \"#fde0ef\"], [0.5, \"#f7f7f7\"], [0.6, \"#e6f5d0\"], [0.7, \"#b8e186\"], [0.8, \"#7fbc41\"], [0.9, \"#4d9221\"], [1, \"#276419\"]], \"sequential\": [[0.0, \"#0508b8\"], [0.0893854748603352, \"#1910d8\"], [0.1787709497206704, \"#3c19f0\"], [0.2681564245810056, \"#6b1cfb\"], [0.3575418994413408, \"#981cfd\"], [0.44692737430167595, \"#bf1cfd\"], [0.5363128491620112, \"#dd2bfd\"], [0.6256983240223464, \"#f246fe\"], [0.7150837988826816, \"#fc67fd\"], [0.8044692737430168, \"#fe88fc\"], [0.8938547486033519, \"#fea5fd\"], [0.9832402234636871, \"#febefe\"], [1.0, \"#fec3fe\"]], \"sequentialminus\": [[0.0, \"#0508b8\"], [0.0893854748603352, \"#1910d8\"], [0.1787709497206704, \"#3c19f0\"], [0.2681564245810056, \"#6b1cfb\"], [0.3575418994413408, \"#981cfd\"], [0.44692737430167595, \"#bf1cfd\"], [0.5363128491620112, \"#dd2bfd\"], [0.6256983240223464, \"#f246fe\"], [0.7150837988826816, \"#fc67fd\"], [0.8044692737430168, \"#fe88fc\"], [0.8938547486033519, \"#fea5fd\"], [0.9832402234636871, \"#febefe\"], [1.0, \"#fec3fe\"]]}, \"colorway\": [\"#636efa\", \"#EF553B\", \"#00cc96\", \"#ab63fa\", \"#19d3f3\", \"#e763fa\", \"#FECB52\", \"#FFA15A\", \"#FF6692\", \"#B6E880\"], \"font\": {\"color\": \"#2a3f5f\"}, \"geo\": {\"bgcolor\": \"white\", \"lakecolor\": \"white\", \"landcolor\": \"#E5ECF6\", \"showlakes\": true, \"showland\": true, \"subunitcolor\": \"white\"}, \"hovermode\": \"closest\", \"mapbox\": {\"style\": \"light\"}, \"paper_bgcolor\": \"white\", \"plot_bgcolor\": \"#E5ECF6\", \"polar\": {\"angularaxis\": {\"gridcolor\": \"white\", \"linecolor\": \"white\", \"ticks\": \"\"}, \"bgcolor\": \"#E5ECF6\", \"radialaxis\": {\"gridcolor\": \"white\", \"linecolor\": \"white\", \"ticks\": \"\"}}, \"scene\": {\"xaxis\": {\"backgroundcolor\": \"#E5ECF6\", \"gridcolor\": \"white\", \"gridwidth\": 2, \"linecolor\": \"white\", \"showbackground\": true, \"ticks\": \"\", \"zerolinecolor\": \"white\"}, \"yaxis\": {\"backgroundcolor\": \"#E5ECF6\", \"gridcolor\": \"white\", \"gridwidth\": 2, \"linecolor\": \"white\", \"showbackground\": true, \"ticks\": \"\", \"zerolinecolor\": \"white\"}, \"zaxis\": {\"backgroundcolor\": \"#E5ECF6\", \"gridcolor\": \"white\", \"gridwidth\": 2, \"linecolor\": \"white\", \"showbackground\": true, \"ticks\": \"\", \"zerolinecolor\": \"white\"}}, \"shapedefaults\": {\"fillcolor\": \"#506784\", \"line\": {\"width\": 0}, \"opacity\": 0.4}, \"ternary\": {\"aaxis\": {\"gridcolor\": \"white\", \"linecolor\": \"white\", \"ticks\": \"\"}, \"baxis\": {\"gridcolor\": \"white\", \"linecolor\": \"white\", \"ticks\": \"\"}, \"bgcolor\": \"#E5ECF6\", \"caxis\": {\"gridcolor\": \"white\", \"linecolor\": \"white\", \"ticks\": \"\"}}, \"title\": {\"x\": 0.05}, \"xaxis\": {\"automargin\": true, \"gridcolor\": \"white\", \"linecolor\": \"white\", \"ticks\": \"\", \"zerolinecolor\": \"white\", \"zerolinewidth\": 2}, \"yaxis\": {\"automargin\": true, \"gridcolor\": \"white\", \"linecolor\": \"white\", \"ticks\": \"\", \"zerolinecolor\": \"white\", \"zerolinewidth\": 2}}}, \"polar\": {\"angularaxis\": {\"direction\": \"clockwise\", \"rotation\": 90}}}, {\"showLink\": false, \"linkText\": \"Export to plot.ly\", \"plotlyServerURL\": \"https://plot.ly\"}); \n",
       "}\n",
       "});</script><script type=\"text/javascript\">window.addEventListener(\"resize\", function(){if (document.getElementById(\"8c1844fd-aac1-478a-ae1d-fc9ac740c354\")) {window._Plotly.Plots.resize(document.getElementById(\"8c1844fd-aac1-478a-ae1d-fc9ac740c354\"));};})</script>"
      ]
     },
     "metadata": {},
     "output_type": "display_data"
    },
    {
     "name": "stdout",
     "output_type": "stream",
     "text": [
      "Comparando la pregunta ¿Cuánto tiempo al día usas el móvil/tableta/ordenador/TV?\n"
     ]
    },
    {
     "data": {
      "application/vnd.plotly.v1+json": {
       "config": {
        "linkText": "Export to plot.ly",
        "plotlyServerURL": "https://plot.ly",
        "showLink": false
       },
       "data": [
        {
         "hovertemplate": "¿Cuánto tiempo al día usas el móvil/tableta/ordenador/TV?=1. Nada<br>counts=%{r}<br>cultural_cluster=%{theta}<extra></extra>",
         "legendgroup": "¿Cuánto tiempo al día usas el móvil/tableta/ordenador/TV?=1. Nada",
         "marker": {
          "color": "rgb(213,62,79)"
         },
         "name": "¿Cuánto tiempo al día usas el móvil/tableta/ordenador/TV?=1. Nada",
         "r": [
          1
         ],
         "showlegend": true,
         "theta": [
          "cluster_4"
         ],
         "type": "barpolar",
         "uid": "326459a5-5f4e-4269-b1fb-62b1ad6a9a6f"
        },
        {
         "hovertemplate": "¿Cuánto tiempo al día usas el móvil/tableta/ordenador/TV?=2. Menos de una hora<br>counts=%{r}<br>cultural_cluster=%{theta}<extra></extra>",
         "legendgroup": "¿Cuánto tiempo al día usas el móvil/tableta/ordenador/TV?=2. Menos de una hora",
         "marker": {
          "color": "rgb(252,141,89)"
         },
         "name": "¿Cuánto tiempo al día usas el móvil/tableta/ordenador/TV?=2. Menos de una hora",
         "r": [
          2,
          1,
          3
         ],
         "showlegend": true,
         "theta": [
          "cluster_2",
          "cluster_3",
          "cluster_4"
         ],
         "type": "barpolar",
         "uid": "361d295e-8ba5-46ed-8867-76212534418e"
        },
        {
         "hovertemplate": "¿Cuánto tiempo al día usas el móvil/tableta/ordenador/TV?=3. 1-2 horas<br>counts=%{r}<br>cultural_cluster=%{theta}<extra></extra>",
         "legendgroup": "¿Cuánto tiempo al día usas el móvil/tableta/ordenador/TV?=3. 1-2 horas",
         "marker": {
          "color": "rgb(254,224,139)"
         },
         "name": "¿Cuánto tiempo al día usas el móvil/tableta/ordenador/TV?=3. 1-2 horas",
         "r": [
          10,
          18,
          5,
          49
         ],
         "showlegend": true,
         "theta": [
          "cluster_1",
          "cluster_2",
          "cluster_3",
          "cluster_4"
         ],
         "type": "barpolar",
         "uid": "e6bc5a37-0ebd-4fce-b2a9-e44492c260bc"
        },
        {
         "hovertemplate": "¿Cuánto tiempo al día usas el móvil/tableta/ordenador/TV?=4. 2-4 horas<br>counts=%{r}<br>cultural_cluster=%{theta}<extra></extra>",
         "legendgroup": "¿Cuánto tiempo al día usas el móvil/tableta/ordenador/TV?=4. 2-4 horas",
         "marker": {
          "color": "rgb(230,245,152)"
         },
         "name": "¿Cuánto tiempo al día usas el móvil/tableta/ordenador/TV?=4. 2-4 horas",
         "r": [
          36,
          54,
          9,
          67
         ],
         "showlegend": true,
         "theta": [
          "cluster_1",
          "cluster_2",
          "cluster_3",
          "cluster_4"
         ],
         "type": "barpolar",
         "uid": "7e8d4ecd-6f72-4ca5-a514-8d6200ad53b8"
        },
        {
         "hovertemplate": "¿Cuánto tiempo al día usas el móvil/tableta/ordenador/TV?=5. 4-6 horas<br>counts=%{r}<br>cultural_cluster=%{theta}<extra></extra>",
         "legendgroup": "¿Cuánto tiempo al día usas el móvil/tableta/ordenador/TV?=5. 4-6 horas",
         "marker": {
          "color": "rgb(153,213,148)"
         },
         "name": "¿Cuánto tiempo al día usas el móvil/tableta/ordenador/TV?=5. 4-6 horas",
         "r": [
          65,
          80,
          4,
          47
         ],
         "showlegend": true,
         "theta": [
          "cluster_1",
          "cluster_2",
          "cluster_3",
          "cluster_4"
         ],
         "type": "barpolar",
         "uid": "7a0f1542-e97f-491f-9769-8b96c6aba491"
        },
        {
         "hovertemplate": "¿Cuánto tiempo al día usas el móvil/tableta/ordenador/TV?=6. Más de 6 horas<br>counts=%{r}<br>cultural_cluster=%{theta}<extra></extra>",
         "legendgroup": "¿Cuánto tiempo al día usas el móvil/tableta/ordenador/TV?=6. Más de 6 horas",
         "marker": {
          "color": "rgb(50,136,189)"
         },
         "name": "¿Cuánto tiempo al día usas el móvil/tableta/ordenador/TV?=6. Más de 6 horas",
         "r": [
          112,
          147,
          8,
          48,
          1
         ],
         "showlegend": true,
         "theta": [
          "cluster_1",
          "cluster_2",
          "cluster_3",
          "cluster_4",
          "cluster_5"
         ],
         "type": "barpolar",
         "uid": "32cfa5a9-f649-49eb-ae47-2f4da550fada"
        }
       ],
       "layout": {
        "barmode": "group",
        "barnorm": "",
        "height": 600,
        "legend": {
         "tracegroupgap": 0
        },
        "margin": {
         "t": 60
        },
        "polar": {
         "angularaxis": {
          "direction": "clockwise",
          "rotation": 90
         }
        },
        "template": {
         "data": {
          "bar": [
           {
            "marker": {
             "line": {
              "color": "#E5ECF6",
              "width": 0.5
             }
            },
            "type": "bar"
           }
          ],
          "barpolar": [
           {
            "marker": {
             "line": {
              "color": "#E5ECF6",
              "width": 0.5
             }
            },
            "type": "barpolar"
           }
          ],
          "carpet": [
           {
            "aaxis": {
             "endlinecolor": "#2a3f5f",
             "gridcolor": "white",
             "linecolor": "white",
             "minorgridcolor": "white",
             "startlinecolor": "#2a3f5f"
            },
            "baxis": {
             "endlinecolor": "#2a3f5f",
             "gridcolor": "white",
             "linecolor": "white",
             "minorgridcolor": "white",
             "startlinecolor": "#2a3f5f"
            },
            "type": "carpet"
           }
          ],
          "choropleth": [
           {
            "colorbar": {
             "outlinewidth": 0,
             "ticks": ""
            },
            "type": "choropleth"
           }
          ],
          "contour": [
           {
            "autocolorscale": true,
            "colorbar": {
             "outlinewidth": 0,
             "ticks": ""
            },
            "type": "contour"
           }
          ],
          "contourcarpet": [
           {
            "colorbar": {
             "outlinewidth": 0,
             "ticks": ""
            },
            "type": "contourcarpet"
           }
          ],
          "heatmap": [
           {
            "autocolorscale": true,
            "colorbar": {
             "outlinewidth": 0,
             "ticks": ""
            },
            "type": "heatmap"
           }
          ],
          "heatmapgl": [
           {
            "colorbar": {
             "outlinewidth": 0,
             "ticks": ""
            },
            "type": "heatmapgl"
           }
          ],
          "histogram": [
           {
            "marker": {
             "colorbar": {
              "outlinewidth": 0,
              "ticks": ""
             }
            },
            "type": "histogram"
           }
          ],
          "histogram2d": [
           {
            "autocolorscale": true,
            "colorbar": {
             "outlinewidth": 0,
             "ticks": ""
            },
            "type": "histogram2d"
           }
          ],
          "histogram2dcontour": [
           {
            "autocolorscale": true,
            "colorbar": {
             "outlinewidth": 0,
             "ticks": ""
            },
            "type": "histogram2dcontour"
           }
          ],
          "mesh3d": [
           {
            "colorbar": {
             "outlinewidth": 0,
             "ticks": ""
            },
            "type": "mesh3d"
           }
          ],
          "parcoords": [
           {
            "line": {
             "colorbar": {
              "outlinewidth": 0,
              "ticks": ""
             }
            },
            "type": "parcoords"
           }
          ],
          "scatter": [
           {
            "marker": {
             "colorbar": {
              "outlinewidth": 0,
              "ticks": ""
             }
            },
            "type": "scatter"
           }
          ],
          "scatter3d": [
           {
            "marker": {
             "colorbar": {
              "outlinewidth": 0,
              "ticks": ""
             }
            },
            "type": "scatter3d"
           }
          ],
          "scattercarpet": [
           {
            "marker": {
             "colorbar": {
              "outlinewidth": 0,
              "ticks": ""
             }
            },
            "type": "scattercarpet"
           }
          ],
          "scattergeo": [
           {
            "marker": {
             "colorbar": {
              "outlinewidth": 0,
              "ticks": ""
             }
            },
            "type": "scattergeo"
           }
          ],
          "scattergl": [
           {
            "marker": {
             "colorbar": {
              "outlinewidth": 0,
              "ticks": ""
             }
            },
            "type": "scattergl"
           }
          ],
          "scattermapbox": [
           {
            "marker": {
             "colorbar": {
              "outlinewidth": 0,
              "ticks": ""
             }
            },
            "type": "scattermapbox"
           }
          ],
          "scatterpolar": [
           {
            "marker": {
             "colorbar": {
              "outlinewidth": 0,
              "ticks": ""
             }
            },
            "type": "scatterpolar"
           }
          ],
          "scatterpolargl": [
           {
            "marker": {
             "colorbar": {
              "outlinewidth": 0,
              "ticks": ""
             }
            },
            "type": "scatterpolargl"
           }
          ],
          "scatterternary": [
           {
            "marker": {
             "colorbar": {
              "outlinewidth": 0,
              "ticks": ""
             }
            },
            "type": "scatterternary"
           }
          ],
          "surface": [
           {
            "colorbar": {
             "outlinewidth": 0,
             "ticks": ""
            },
            "type": "surface"
           }
          ],
          "table": [
           {
            "cells": {
             "fill": {
              "color": "#EBF0F8"
             },
             "line": {
              "color": "white"
             }
            },
            "header": {
             "fill": {
              "color": "#C8D4E3"
             },
             "line": {
              "color": "white"
             }
            },
            "type": "table"
           }
          ]
         },
         "layout": {
          "annotationdefaults": {
           "arrowcolor": "#506784",
           "arrowhead": 0,
           "arrowwidth": 1
          },
          "colorscale": {
           "diverging": [
            [
             0,
             "#8e0152"
            ],
            [
             0.1,
             "#c51b7d"
            ],
            [
             0.2,
             "#de77ae"
            ],
            [
             0.3,
             "#f1b6da"
            ],
            [
             0.4,
             "#fde0ef"
            ],
            [
             0.5,
             "#f7f7f7"
            ],
            [
             0.6,
             "#e6f5d0"
            ],
            [
             0.7,
             "#b8e186"
            ],
            [
             0.8,
             "#7fbc41"
            ],
            [
             0.9,
             "#4d9221"
            ],
            [
             1,
             "#276419"
            ]
           ],
           "sequential": [
            [
             0,
             "#0508b8"
            ],
            [
             0.0893854748603352,
             "#1910d8"
            ],
            [
             0.1787709497206704,
             "#3c19f0"
            ],
            [
             0.2681564245810056,
             "#6b1cfb"
            ],
            [
             0.3575418994413408,
             "#981cfd"
            ],
            [
             0.44692737430167595,
             "#bf1cfd"
            ],
            [
             0.5363128491620112,
             "#dd2bfd"
            ],
            [
             0.6256983240223464,
             "#f246fe"
            ],
            [
             0.7150837988826816,
             "#fc67fd"
            ],
            [
             0.8044692737430168,
             "#fe88fc"
            ],
            [
             0.8938547486033519,
             "#fea5fd"
            ],
            [
             0.9832402234636871,
             "#febefe"
            ],
            [
             1,
             "#fec3fe"
            ]
           ],
           "sequentialminus": [
            [
             0,
             "#0508b8"
            ],
            [
             0.0893854748603352,
             "#1910d8"
            ],
            [
             0.1787709497206704,
             "#3c19f0"
            ],
            [
             0.2681564245810056,
             "#6b1cfb"
            ],
            [
             0.3575418994413408,
             "#981cfd"
            ],
            [
             0.44692737430167595,
             "#bf1cfd"
            ],
            [
             0.5363128491620112,
             "#dd2bfd"
            ],
            [
             0.6256983240223464,
             "#f246fe"
            ],
            [
             0.7150837988826816,
             "#fc67fd"
            ],
            [
             0.8044692737430168,
             "#fe88fc"
            ],
            [
             0.8938547486033519,
             "#fea5fd"
            ],
            [
             0.9832402234636871,
             "#febefe"
            ],
            [
             1,
             "#fec3fe"
            ]
           ]
          },
          "colorway": [
           "#636efa",
           "#EF553B",
           "#00cc96",
           "#ab63fa",
           "#19d3f3",
           "#e763fa",
           "#FECB52",
           "#FFA15A",
           "#FF6692",
           "#B6E880"
          ],
          "font": {
           "color": "#2a3f5f"
          },
          "geo": {
           "bgcolor": "white",
           "lakecolor": "white",
           "landcolor": "#E5ECF6",
           "showlakes": true,
           "showland": true,
           "subunitcolor": "white"
          },
          "hovermode": "closest",
          "mapbox": {
           "style": "light"
          },
          "paper_bgcolor": "white",
          "plot_bgcolor": "#E5ECF6",
          "polar": {
           "angularaxis": {
            "gridcolor": "white",
            "linecolor": "white",
            "ticks": ""
           },
           "bgcolor": "#E5ECF6",
           "radialaxis": {
            "gridcolor": "white",
            "linecolor": "white",
            "ticks": ""
           }
          },
          "scene": {
           "xaxis": {
            "backgroundcolor": "#E5ECF6",
            "gridcolor": "white",
            "gridwidth": 2,
            "linecolor": "white",
            "showbackground": true,
            "ticks": "",
            "zerolinecolor": "white"
           },
           "yaxis": {
            "backgroundcolor": "#E5ECF6",
            "gridcolor": "white",
            "gridwidth": 2,
            "linecolor": "white",
            "showbackground": true,
            "ticks": "",
            "zerolinecolor": "white"
           },
           "zaxis": {
            "backgroundcolor": "#E5ECF6",
            "gridcolor": "white",
            "gridwidth": 2,
            "linecolor": "white",
            "showbackground": true,
            "ticks": "",
            "zerolinecolor": "white"
           }
          },
          "shapedefaults": {
           "fillcolor": "#506784",
           "line": {
            "width": 0
           },
           "opacity": 0.4
          },
          "ternary": {
           "aaxis": {
            "gridcolor": "white",
            "linecolor": "white",
            "ticks": ""
           },
           "baxis": {
            "gridcolor": "white",
            "linecolor": "white",
            "ticks": ""
           },
           "bgcolor": "#E5ECF6",
           "caxis": {
            "gridcolor": "white",
            "linecolor": "white",
            "ticks": ""
           }
          },
          "title": {
           "x": 0.05
          },
          "xaxis": {
           "automargin": true,
           "gridcolor": "white",
           "linecolor": "white",
           "ticks": "",
           "zerolinecolor": "white",
           "zerolinewidth": 2
          },
          "yaxis": {
           "automargin": true,
           "gridcolor": "white",
           "linecolor": "white",
           "ticks": "",
           "zerolinecolor": "white",
           "zerolinewidth": 2
          }
         }
        }
       }
      },
      "text/html": [
       "<div id=\"7510966b-1058-4aaa-8aa2-b0851e8b6196\" style=\"height: 600px; width: 100%;\" class=\"plotly-graph-div\"></div><script type=\"text/javascript\">require([\"plotly\"], function(Plotly) { window.PLOTLYENV=window.PLOTLYENV || {};window.PLOTLYENV.BASE_URL=\"https://plot.ly\";\n",
       "if (document.getElementById(\"7510966b-1058-4aaa-8aa2-b0851e8b6196\")) {\n",
       "    Plotly.newPlot(\"7510966b-1058-4aaa-8aa2-b0851e8b6196\", [{\"hovertemplate\": \"\\u00bfCu\\u00e1nto tiempo al d\\u00eda usas el m\\u00f3vil/tableta/ordenador/TV?=1. Nada<br>counts=%{r}<br>cultural_cluster=%{theta}<extra></extra>\", \"legendgroup\": \"\\u00bfCu\\u00e1nto tiempo al d\\u00eda usas el m\\u00f3vil/tableta/ordenador/TV?=1. Nada\", \"marker\": {\"color\": \"rgb(213,62,79)\"}, \"name\": \"\\u00bfCu\\u00e1nto tiempo al d\\u00eda usas el m\\u00f3vil/tableta/ordenador/TV?=1. Nada\", \"r\": [1], \"showlegend\": true, \"theta\": [\"cluster_4\"], \"type\": \"barpolar\", \"uid\": \"326459a5-5f4e-4269-b1fb-62b1ad6a9a6f\"}, {\"hovertemplate\": \"\\u00bfCu\\u00e1nto tiempo al d\\u00eda usas el m\\u00f3vil/tableta/ordenador/TV?=2. Menos de una hora<br>counts=%{r}<br>cultural_cluster=%{theta}<extra></extra>\", \"legendgroup\": \"\\u00bfCu\\u00e1nto tiempo al d\\u00eda usas el m\\u00f3vil/tableta/ordenador/TV?=2. Menos de una hora\", \"marker\": {\"color\": \"rgb(252,141,89)\"}, \"name\": \"\\u00bfCu\\u00e1nto tiempo al d\\u00eda usas el m\\u00f3vil/tableta/ordenador/TV?=2. Menos de una hora\", \"r\": [2, 1, 3], \"showlegend\": true, \"theta\": [\"cluster_2\", \"cluster_3\", \"cluster_4\"], \"type\": \"barpolar\", \"uid\": \"361d295e-8ba5-46ed-8867-76212534418e\"}, {\"hovertemplate\": \"\\u00bfCu\\u00e1nto tiempo al d\\u00eda usas el m\\u00f3vil/tableta/ordenador/TV?=3. 1-2 horas<br>counts=%{r}<br>cultural_cluster=%{theta}<extra></extra>\", \"legendgroup\": \"\\u00bfCu\\u00e1nto tiempo al d\\u00eda usas el m\\u00f3vil/tableta/ordenador/TV?=3. 1-2 horas\", \"marker\": {\"color\": \"rgb(254,224,139)\"}, \"name\": \"\\u00bfCu\\u00e1nto tiempo al d\\u00eda usas el m\\u00f3vil/tableta/ordenador/TV?=3. 1-2 horas\", \"r\": [10, 18, 5, 49], \"showlegend\": true, \"theta\": [\"cluster_1\", \"cluster_2\", \"cluster_3\", \"cluster_4\"], \"type\": \"barpolar\", \"uid\": \"e6bc5a37-0ebd-4fce-b2a9-e44492c260bc\"}, {\"hovertemplate\": \"\\u00bfCu\\u00e1nto tiempo al d\\u00eda usas el m\\u00f3vil/tableta/ordenador/TV?=4. 2-4 horas<br>counts=%{r}<br>cultural_cluster=%{theta}<extra></extra>\", \"legendgroup\": \"\\u00bfCu\\u00e1nto tiempo al d\\u00eda usas el m\\u00f3vil/tableta/ordenador/TV?=4. 2-4 horas\", \"marker\": {\"color\": \"rgb(230,245,152)\"}, \"name\": \"\\u00bfCu\\u00e1nto tiempo al d\\u00eda usas el m\\u00f3vil/tableta/ordenador/TV?=4. 2-4 horas\", \"r\": [36, 54, 9, 67], \"showlegend\": true, \"theta\": [\"cluster_1\", \"cluster_2\", \"cluster_3\", \"cluster_4\"], \"type\": \"barpolar\", \"uid\": \"7e8d4ecd-6f72-4ca5-a514-8d6200ad53b8\"}, {\"hovertemplate\": \"\\u00bfCu\\u00e1nto tiempo al d\\u00eda usas el m\\u00f3vil/tableta/ordenador/TV?=5. 4-6 horas<br>counts=%{r}<br>cultural_cluster=%{theta}<extra></extra>\", \"legendgroup\": \"\\u00bfCu\\u00e1nto tiempo al d\\u00eda usas el m\\u00f3vil/tableta/ordenador/TV?=5. 4-6 horas\", \"marker\": {\"color\": \"rgb(153,213,148)\"}, \"name\": \"\\u00bfCu\\u00e1nto tiempo al d\\u00eda usas el m\\u00f3vil/tableta/ordenador/TV?=5. 4-6 horas\", \"r\": [65, 80, 4, 47], \"showlegend\": true, \"theta\": [\"cluster_1\", \"cluster_2\", \"cluster_3\", \"cluster_4\"], \"type\": \"barpolar\", \"uid\": \"7a0f1542-e97f-491f-9769-8b96c6aba491\"}, {\"hovertemplate\": \"\\u00bfCu\\u00e1nto tiempo al d\\u00eda usas el m\\u00f3vil/tableta/ordenador/TV?=6. M\\u00e1s de 6 horas<br>counts=%{r}<br>cultural_cluster=%{theta}<extra></extra>\", \"legendgroup\": \"\\u00bfCu\\u00e1nto tiempo al d\\u00eda usas el m\\u00f3vil/tableta/ordenador/TV?=6. M\\u00e1s de 6 horas\", \"marker\": {\"color\": \"rgb(50,136,189)\"}, \"name\": \"\\u00bfCu\\u00e1nto tiempo al d\\u00eda usas el m\\u00f3vil/tableta/ordenador/TV?=6. M\\u00e1s de 6 horas\", \"r\": [112, 147, 8, 48, 1], \"showlegend\": true, \"theta\": [\"cluster_1\", \"cluster_2\", \"cluster_3\", \"cluster_4\", \"cluster_5\"], \"type\": \"barpolar\", \"uid\": \"32cfa5a9-f649-49eb-ae47-2f4da550fada\"}], {\"barmode\": \"group\", \"barnorm\": \"\", \"height\": 600, \"legend\": {\"tracegroupgap\": 0}, \"margin\": {\"t\": 60}, \"template\": {\"data\": {\"barpolar\": [{\"marker\": {\"line\": {\"color\": \"#E5ECF6\", \"width\": 0.5}}, \"type\": \"barpolar\"}], \"bar\": [{\"marker\": {\"line\": {\"color\": \"#E5ECF6\", \"width\": 0.5}}, \"type\": \"bar\"}], \"carpet\": [{\"aaxis\": {\"endlinecolor\": \"#2a3f5f\", \"gridcolor\": \"white\", \"linecolor\": \"white\", \"minorgridcolor\": \"white\", \"startlinecolor\": \"#2a3f5f\"}, \"baxis\": {\"endlinecolor\": \"#2a3f5f\", \"gridcolor\": \"white\", \"linecolor\": \"white\", \"minorgridcolor\": \"white\", \"startlinecolor\": \"#2a3f5f\"}, \"type\": \"carpet\"}], \"choropleth\": [{\"colorbar\": {\"outlinewidth\": 0, \"ticks\": \"\"}, \"type\": \"choropleth\"}], \"contourcarpet\": [{\"colorbar\": {\"outlinewidth\": 0, \"ticks\": \"\"}, \"type\": \"contourcarpet\"}], \"contour\": [{\"autocolorscale\": true, \"colorbar\": {\"outlinewidth\": 0, \"ticks\": \"\"}, \"type\": \"contour\"}], \"heatmapgl\": [{\"colorbar\": {\"outlinewidth\": 0, \"ticks\": \"\"}, \"type\": \"heatmapgl\"}], \"heatmap\": [{\"autocolorscale\": true, \"colorbar\": {\"outlinewidth\": 0, \"ticks\": \"\"}, \"type\": \"heatmap\"}], \"histogram2dcontour\": [{\"autocolorscale\": true, \"colorbar\": {\"outlinewidth\": 0, \"ticks\": \"\"}, \"type\": \"histogram2dcontour\"}], \"histogram2d\": [{\"autocolorscale\": true, \"colorbar\": {\"outlinewidth\": 0, \"ticks\": \"\"}, \"type\": \"histogram2d\"}], \"histogram\": [{\"marker\": {\"colorbar\": {\"outlinewidth\": 0, \"ticks\": \"\"}}, \"type\": \"histogram\"}], \"mesh3d\": [{\"colorbar\": {\"outlinewidth\": 0, \"ticks\": \"\"}, \"type\": \"mesh3d\"}], \"parcoords\": [{\"line\": {\"colorbar\": {\"outlinewidth\": 0, \"ticks\": \"\"}}, \"type\": \"parcoords\"}], \"scatter3d\": [{\"marker\": {\"colorbar\": {\"outlinewidth\": 0, \"ticks\": \"\"}}, \"type\": \"scatter3d\"}], \"scattercarpet\": [{\"marker\": {\"colorbar\": {\"outlinewidth\": 0, \"ticks\": \"\"}}, \"type\": \"scattercarpet\"}], \"scattergeo\": [{\"marker\": {\"colorbar\": {\"outlinewidth\": 0, \"ticks\": \"\"}}, \"type\": \"scattergeo\"}], \"scattergl\": [{\"marker\": {\"colorbar\": {\"outlinewidth\": 0, \"ticks\": \"\"}}, \"type\": \"scattergl\"}], \"scattermapbox\": [{\"marker\": {\"colorbar\": {\"outlinewidth\": 0, \"ticks\": \"\"}}, \"type\": \"scattermapbox\"}], \"scatterpolargl\": [{\"marker\": {\"colorbar\": {\"outlinewidth\": 0, \"ticks\": \"\"}}, \"type\": \"scatterpolargl\"}], \"scatterpolar\": [{\"marker\": {\"colorbar\": {\"outlinewidth\": 0, \"ticks\": \"\"}}, \"type\": \"scatterpolar\"}], \"scatter\": [{\"marker\": {\"colorbar\": {\"outlinewidth\": 0, \"ticks\": \"\"}}, \"type\": \"scatter\"}], \"scatterternary\": [{\"marker\": {\"colorbar\": {\"outlinewidth\": 0, \"ticks\": \"\"}}, \"type\": \"scatterternary\"}], \"surface\": [{\"colorbar\": {\"outlinewidth\": 0, \"ticks\": \"\"}, \"type\": \"surface\"}], \"table\": [{\"cells\": {\"fill\": {\"color\": \"#EBF0F8\"}, \"line\": {\"color\": \"white\"}}, \"header\": {\"fill\": {\"color\": \"#C8D4E3\"}, \"line\": {\"color\": \"white\"}}, \"type\": \"table\"}]}, \"layout\": {\"annotationdefaults\": {\"arrowcolor\": \"#506784\", \"arrowhead\": 0, \"arrowwidth\": 1}, \"colorscale\": {\"diverging\": [[0, \"#8e0152\"], [0.1, \"#c51b7d\"], [0.2, \"#de77ae\"], [0.3, \"#f1b6da\"], [0.4, \"#fde0ef\"], [0.5, \"#f7f7f7\"], [0.6, \"#e6f5d0\"], [0.7, \"#b8e186\"], [0.8, \"#7fbc41\"], [0.9, \"#4d9221\"], [1, \"#276419\"]], \"sequential\": [[0.0, \"#0508b8\"], [0.0893854748603352, \"#1910d8\"], [0.1787709497206704, \"#3c19f0\"], [0.2681564245810056, \"#6b1cfb\"], [0.3575418994413408, \"#981cfd\"], [0.44692737430167595, \"#bf1cfd\"], [0.5363128491620112, \"#dd2bfd\"], [0.6256983240223464, \"#f246fe\"], [0.7150837988826816, \"#fc67fd\"], [0.8044692737430168, \"#fe88fc\"], [0.8938547486033519, \"#fea5fd\"], [0.9832402234636871, \"#febefe\"], [1.0, \"#fec3fe\"]], \"sequentialminus\": [[0.0, \"#0508b8\"], [0.0893854748603352, \"#1910d8\"], [0.1787709497206704, \"#3c19f0\"], [0.2681564245810056, \"#6b1cfb\"], [0.3575418994413408, \"#981cfd\"], [0.44692737430167595, \"#bf1cfd\"], [0.5363128491620112, \"#dd2bfd\"], [0.6256983240223464, \"#f246fe\"], [0.7150837988826816, \"#fc67fd\"], [0.8044692737430168, \"#fe88fc\"], [0.8938547486033519, \"#fea5fd\"], [0.9832402234636871, \"#febefe\"], [1.0, \"#fec3fe\"]]}, \"colorway\": [\"#636efa\", \"#EF553B\", \"#00cc96\", \"#ab63fa\", \"#19d3f3\", \"#e763fa\", \"#FECB52\", \"#FFA15A\", \"#FF6692\", \"#B6E880\"], \"font\": {\"color\": \"#2a3f5f\"}, \"geo\": {\"bgcolor\": \"white\", \"lakecolor\": \"white\", \"landcolor\": \"#E5ECF6\", \"showlakes\": true, \"showland\": true, \"subunitcolor\": \"white\"}, \"hovermode\": \"closest\", \"mapbox\": {\"style\": \"light\"}, \"paper_bgcolor\": \"white\", \"plot_bgcolor\": \"#E5ECF6\", \"polar\": {\"angularaxis\": {\"gridcolor\": \"white\", \"linecolor\": \"white\", \"ticks\": \"\"}, \"bgcolor\": \"#E5ECF6\", \"radialaxis\": {\"gridcolor\": \"white\", \"linecolor\": \"white\", \"ticks\": \"\"}}, \"scene\": {\"xaxis\": {\"backgroundcolor\": \"#E5ECF6\", \"gridcolor\": \"white\", \"gridwidth\": 2, \"linecolor\": \"white\", \"showbackground\": true, \"ticks\": \"\", \"zerolinecolor\": \"white\"}, \"yaxis\": {\"backgroundcolor\": \"#E5ECF6\", \"gridcolor\": \"white\", \"gridwidth\": 2, \"linecolor\": \"white\", \"showbackground\": true, \"ticks\": \"\", \"zerolinecolor\": \"white\"}, \"zaxis\": {\"backgroundcolor\": \"#E5ECF6\", \"gridcolor\": \"white\", \"gridwidth\": 2, \"linecolor\": \"white\", \"showbackground\": true, \"ticks\": \"\", \"zerolinecolor\": \"white\"}}, \"shapedefaults\": {\"fillcolor\": \"#506784\", \"line\": {\"width\": 0}, \"opacity\": 0.4}, \"ternary\": {\"aaxis\": {\"gridcolor\": \"white\", \"linecolor\": \"white\", \"ticks\": \"\"}, \"baxis\": {\"gridcolor\": \"white\", \"linecolor\": \"white\", \"ticks\": \"\"}, \"bgcolor\": \"#E5ECF6\", \"caxis\": {\"gridcolor\": \"white\", \"linecolor\": \"white\", \"ticks\": \"\"}}, \"title\": {\"x\": 0.05}, \"xaxis\": {\"automargin\": true, \"gridcolor\": \"white\", \"linecolor\": \"white\", \"ticks\": \"\", \"zerolinecolor\": \"white\", \"zerolinewidth\": 2}, \"yaxis\": {\"automargin\": true, \"gridcolor\": \"white\", \"linecolor\": \"white\", \"ticks\": \"\", \"zerolinecolor\": \"white\", \"zerolinewidth\": 2}}}, \"polar\": {\"angularaxis\": {\"direction\": \"clockwise\", \"rotation\": 90}}}, {\"showLink\": false, \"linkText\": \"Export to plot.ly\", \"plotlyServerURL\": \"https://plot.ly\"}); \n",
       "}\n",
       "});</script><script type=\"text/javascript\">window.addEventListener(\"resize\", function(){if (document.getElementById(\"7510966b-1058-4aaa-8aa2-b0851e8b6196\")) {window._Plotly.Plots.resize(document.getElementById(\"7510966b-1058-4aaa-8aa2-b0851e8b6196\"));};})</script>"
      ],
      "text/vnd.plotly.v1+html": [
       "<div id=\"7510966b-1058-4aaa-8aa2-b0851e8b6196\" style=\"height: 600px; width: 100%;\" class=\"plotly-graph-div\"></div><script type=\"text/javascript\">require([\"plotly\"], function(Plotly) { window.PLOTLYENV=window.PLOTLYENV || {};window.PLOTLYENV.BASE_URL=\"https://plot.ly\";\n",
       "if (document.getElementById(\"7510966b-1058-4aaa-8aa2-b0851e8b6196\")) {\n",
       "    Plotly.newPlot(\"7510966b-1058-4aaa-8aa2-b0851e8b6196\", [{\"hovertemplate\": \"\\u00bfCu\\u00e1nto tiempo al d\\u00eda usas el m\\u00f3vil/tableta/ordenador/TV?=1. Nada<br>counts=%{r}<br>cultural_cluster=%{theta}<extra></extra>\", \"legendgroup\": \"\\u00bfCu\\u00e1nto tiempo al d\\u00eda usas el m\\u00f3vil/tableta/ordenador/TV?=1. Nada\", \"marker\": {\"color\": \"rgb(213,62,79)\"}, \"name\": \"\\u00bfCu\\u00e1nto tiempo al d\\u00eda usas el m\\u00f3vil/tableta/ordenador/TV?=1. Nada\", \"r\": [1], \"showlegend\": true, \"theta\": [\"cluster_4\"], \"type\": \"barpolar\", \"uid\": \"326459a5-5f4e-4269-b1fb-62b1ad6a9a6f\"}, {\"hovertemplate\": \"\\u00bfCu\\u00e1nto tiempo al d\\u00eda usas el m\\u00f3vil/tableta/ordenador/TV?=2. Menos de una hora<br>counts=%{r}<br>cultural_cluster=%{theta}<extra></extra>\", \"legendgroup\": \"\\u00bfCu\\u00e1nto tiempo al d\\u00eda usas el m\\u00f3vil/tableta/ordenador/TV?=2. Menos de una hora\", \"marker\": {\"color\": \"rgb(252,141,89)\"}, \"name\": \"\\u00bfCu\\u00e1nto tiempo al d\\u00eda usas el m\\u00f3vil/tableta/ordenador/TV?=2. Menos de una hora\", \"r\": [2, 1, 3], \"showlegend\": true, \"theta\": [\"cluster_2\", \"cluster_3\", \"cluster_4\"], \"type\": \"barpolar\", \"uid\": \"361d295e-8ba5-46ed-8867-76212534418e\"}, {\"hovertemplate\": \"\\u00bfCu\\u00e1nto tiempo al d\\u00eda usas el m\\u00f3vil/tableta/ordenador/TV?=3. 1-2 horas<br>counts=%{r}<br>cultural_cluster=%{theta}<extra></extra>\", \"legendgroup\": \"\\u00bfCu\\u00e1nto tiempo al d\\u00eda usas el m\\u00f3vil/tableta/ordenador/TV?=3. 1-2 horas\", \"marker\": {\"color\": \"rgb(254,224,139)\"}, \"name\": \"\\u00bfCu\\u00e1nto tiempo al d\\u00eda usas el m\\u00f3vil/tableta/ordenador/TV?=3. 1-2 horas\", \"r\": [10, 18, 5, 49], \"showlegend\": true, \"theta\": [\"cluster_1\", \"cluster_2\", \"cluster_3\", \"cluster_4\"], \"type\": \"barpolar\", \"uid\": \"e6bc5a37-0ebd-4fce-b2a9-e44492c260bc\"}, {\"hovertemplate\": \"\\u00bfCu\\u00e1nto tiempo al d\\u00eda usas el m\\u00f3vil/tableta/ordenador/TV?=4. 2-4 horas<br>counts=%{r}<br>cultural_cluster=%{theta}<extra></extra>\", \"legendgroup\": \"\\u00bfCu\\u00e1nto tiempo al d\\u00eda usas el m\\u00f3vil/tableta/ordenador/TV?=4. 2-4 horas\", \"marker\": {\"color\": \"rgb(230,245,152)\"}, \"name\": \"\\u00bfCu\\u00e1nto tiempo al d\\u00eda usas el m\\u00f3vil/tableta/ordenador/TV?=4. 2-4 horas\", \"r\": [36, 54, 9, 67], \"showlegend\": true, \"theta\": [\"cluster_1\", \"cluster_2\", \"cluster_3\", \"cluster_4\"], \"type\": \"barpolar\", \"uid\": \"7e8d4ecd-6f72-4ca5-a514-8d6200ad53b8\"}, {\"hovertemplate\": \"\\u00bfCu\\u00e1nto tiempo al d\\u00eda usas el m\\u00f3vil/tableta/ordenador/TV?=5. 4-6 horas<br>counts=%{r}<br>cultural_cluster=%{theta}<extra></extra>\", \"legendgroup\": \"\\u00bfCu\\u00e1nto tiempo al d\\u00eda usas el m\\u00f3vil/tableta/ordenador/TV?=5. 4-6 horas\", \"marker\": {\"color\": \"rgb(153,213,148)\"}, \"name\": \"\\u00bfCu\\u00e1nto tiempo al d\\u00eda usas el m\\u00f3vil/tableta/ordenador/TV?=5. 4-6 horas\", \"r\": [65, 80, 4, 47], \"showlegend\": true, \"theta\": [\"cluster_1\", \"cluster_2\", \"cluster_3\", \"cluster_4\"], \"type\": \"barpolar\", \"uid\": \"7a0f1542-e97f-491f-9769-8b96c6aba491\"}, {\"hovertemplate\": \"\\u00bfCu\\u00e1nto tiempo al d\\u00eda usas el m\\u00f3vil/tableta/ordenador/TV?=6. M\\u00e1s de 6 horas<br>counts=%{r}<br>cultural_cluster=%{theta}<extra></extra>\", \"legendgroup\": \"\\u00bfCu\\u00e1nto tiempo al d\\u00eda usas el m\\u00f3vil/tableta/ordenador/TV?=6. M\\u00e1s de 6 horas\", \"marker\": {\"color\": \"rgb(50,136,189)\"}, \"name\": \"\\u00bfCu\\u00e1nto tiempo al d\\u00eda usas el m\\u00f3vil/tableta/ordenador/TV?=6. M\\u00e1s de 6 horas\", \"r\": [112, 147, 8, 48, 1], \"showlegend\": true, \"theta\": [\"cluster_1\", \"cluster_2\", \"cluster_3\", \"cluster_4\", \"cluster_5\"], \"type\": \"barpolar\", \"uid\": \"32cfa5a9-f649-49eb-ae47-2f4da550fada\"}], {\"barmode\": \"group\", \"barnorm\": \"\", \"height\": 600, \"legend\": {\"tracegroupgap\": 0}, \"margin\": {\"t\": 60}, \"template\": {\"data\": {\"barpolar\": [{\"marker\": {\"line\": {\"color\": \"#E5ECF6\", \"width\": 0.5}}, \"type\": \"barpolar\"}], \"bar\": [{\"marker\": {\"line\": {\"color\": \"#E5ECF6\", \"width\": 0.5}}, \"type\": \"bar\"}], \"carpet\": [{\"aaxis\": {\"endlinecolor\": \"#2a3f5f\", \"gridcolor\": \"white\", \"linecolor\": \"white\", \"minorgridcolor\": \"white\", \"startlinecolor\": \"#2a3f5f\"}, \"baxis\": {\"endlinecolor\": \"#2a3f5f\", \"gridcolor\": \"white\", \"linecolor\": \"white\", \"minorgridcolor\": \"white\", \"startlinecolor\": \"#2a3f5f\"}, \"type\": \"carpet\"}], \"choropleth\": [{\"colorbar\": {\"outlinewidth\": 0, \"ticks\": \"\"}, \"type\": \"choropleth\"}], \"contourcarpet\": [{\"colorbar\": {\"outlinewidth\": 0, \"ticks\": \"\"}, \"type\": \"contourcarpet\"}], \"contour\": [{\"autocolorscale\": true, \"colorbar\": {\"outlinewidth\": 0, \"ticks\": \"\"}, \"type\": \"contour\"}], \"heatmapgl\": [{\"colorbar\": {\"outlinewidth\": 0, \"ticks\": \"\"}, \"type\": \"heatmapgl\"}], \"heatmap\": [{\"autocolorscale\": true, \"colorbar\": {\"outlinewidth\": 0, \"ticks\": \"\"}, \"type\": \"heatmap\"}], \"histogram2dcontour\": [{\"autocolorscale\": true, \"colorbar\": {\"outlinewidth\": 0, \"ticks\": \"\"}, \"type\": \"histogram2dcontour\"}], \"histogram2d\": [{\"autocolorscale\": true, \"colorbar\": {\"outlinewidth\": 0, \"ticks\": \"\"}, \"type\": \"histogram2d\"}], \"histogram\": [{\"marker\": {\"colorbar\": {\"outlinewidth\": 0, \"ticks\": \"\"}}, \"type\": \"histogram\"}], \"mesh3d\": [{\"colorbar\": {\"outlinewidth\": 0, \"ticks\": \"\"}, \"type\": \"mesh3d\"}], \"parcoords\": [{\"line\": {\"colorbar\": {\"outlinewidth\": 0, \"ticks\": \"\"}}, \"type\": \"parcoords\"}], \"scatter3d\": [{\"marker\": {\"colorbar\": {\"outlinewidth\": 0, \"ticks\": \"\"}}, \"type\": \"scatter3d\"}], \"scattercarpet\": [{\"marker\": {\"colorbar\": {\"outlinewidth\": 0, \"ticks\": \"\"}}, \"type\": \"scattercarpet\"}], \"scattergeo\": [{\"marker\": {\"colorbar\": {\"outlinewidth\": 0, \"ticks\": \"\"}}, \"type\": \"scattergeo\"}], \"scattergl\": [{\"marker\": {\"colorbar\": {\"outlinewidth\": 0, \"ticks\": \"\"}}, \"type\": \"scattergl\"}], \"scattermapbox\": [{\"marker\": {\"colorbar\": {\"outlinewidth\": 0, \"ticks\": \"\"}}, \"type\": \"scattermapbox\"}], \"scatterpolargl\": [{\"marker\": {\"colorbar\": {\"outlinewidth\": 0, \"ticks\": \"\"}}, \"type\": \"scatterpolargl\"}], \"scatterpolar\": [{\"marker\": {\"colorbar\": {\"outlinewidth\": 0, \"ticks\": \"\"}}, \"type\": \"scatterpolar\"}], \"scatter\": [{\"marker\": {\"colorbar\": {\"outlinewidth\": 0, \"ticks\": \"\"}}, \"type\": \"scatter\"}], \"scatterternary\": [{\"marker\": {\"colorbar\": {\"outlinewidth\": 0, \"ticks\": \"\"}}, \"type\": \"scatterternary\"}], \"surface\": [{\"colorbar\": {\"outlinewidth\": 0, \"ticks\": \"\"}, \"type\": \"surface\"}], \"table\": [{\"cells\": {\"fill\": {\"color\": \"#EBF0F8\"}, \"line\": {\"color\": \"white\"}}, \"header\": {\"fill\": {\"color\": \"#C8D4E3\"}, \"line\": {\"color\": \"white\"}}, \"type\": \"table\"}]}, \"layout\": {\"annotationdefaults\": {\"arrowcolor\": \"#506784\", \"arrowhead\": 0, \"arrowwidth\": 1}, \"colorscale\": {\"diverging\": [[0, \"#8e0152\"], [0.1, \"#c51b7d\"], [0.2, \"#de77ae\"], [0.3, \"#f1b6da\"], [0.4, \"#fde0ef\"], [0.5, \"#f7f7f7\"], [0.6, \"#e6f5d0\"], [0.7, \"#b8e186\"], [0.8, \"#7fbc41\"], [0.9, \"#4d9221\"], [1, \"#276419\"]], \"sequential\": [[0.0, \"#0508b8\"], [0.0893854748603352, \"#1910d8\"], [0.1787709497206704, \"#3c19f0\"], [0.2681564245810056, \"#6b1cfb\"], [0.3575418994413408, \"#981cfd\"], [0.44692737430167595, \"#bf1cfd\"], [0.5363128491620112, \"#dd2bfd\"], [0.6256983240223464, \"#f246fe\"], [0.7150837988826816, \"#fc67fd\"], [0.8044692737430168, \"#fe88fc\"], [0.8938547486033519, \"#fea5fd\"], [0.9832402234636871, \"#febefe\"], [1.0, \"#fec3fe\"]], \"sequentialminus\": [[0.0, \"#0508b8\"], [0.0893854748603352, \"#1910d8\"], [0.1787709497206704, \"#3c19f0\"], [0.2681564245810056, \"#6b1cfb\"], [0.3575418994413408, \"#981cfd\"], [0.44692737430167595, \"#bf1cfd\"], [0.5363128491620112, \"#dd2bfd\"], [0.6256983240223464, \"#f246fe\"], [0.7150837988826816, \"#fc67fd\"], [0.8044692737430168, \"#fe88fc\"], [0.8938547486033519, \"#fea5fd\"], [0.9832402234636871, \"#febefe\"], [1.0, \"#fec3fe\"]]}, \"colorway\": [\"#636efa\", \"#EF553B\", \"#00cc96\", \"#ab63fa\", \"#19d3f3\", \"#e763fa\", \"#FECB52\", \"#FFA15A\", \"#FF6692\", \"#B6E880\"], \"font\": {\"color\": \"#2a3f5f\"}, \"geo\": {\"bgcolor\": \"white\", \"lakecolor\": \"white\", \"landcolor\": \"#E5ECF6\", \"showlakes\": true, \"showland\": true, \"subunitcolor\": \"white\"}, \"hovermode\": \"closest\", \"mapbox\": {\"style\": \"light\"}, \"paper_bgcolor\": \"white\", \"plot_bgcolor\": \"#E5ECF6\", \"polar\": {\"angularaxis\": {\"gridcolor\": \"white\", \"linecolor\": \"white\", \"ticks\": \"\"}, \"bgcolor\": \"#E5ECF6\", \"radialaxis\": {\"gridcolor\": \"white\", \"linecolor\": \"white\", \"ticks\": \"\"}}, \"scene\": {\"xaxis\": {\"backgroundcolor\": \"#E5ECF6\", \"gridcolor\": \"white\", \"gridwidth\": 2, \"linecolor\": \"white\", \"showbackground\": true, \"ticks\": \"\", \"zerolinecolor\": \"white\"}, \"yaxis\": {\"backgroundcolor\": \"#E5ECF6\", \"gridcolor\": \"white\", \"gridwidth\": 2, \"linecolor\": \"white\", \"showbackground\": true, \"ticks\": \"\", \"zerolinecolor\": \"white\"}, \"zaxis\": {\"backgroundcolor\": \"#E5ECF6\", \"gridcolor\": \"white\", \"gridwidth\": 2, \"linecolor\": \"white\", \"showbackground\": true, \"ticks\": \"\", \"zerolinecolor\": \"white\"}}, \"shapedefaults\": {\"fillcolor\": \"#506784\", \"line\": {\"width\": 0}, \"opacity\": 0.4}, \"ternary\": {\"aaxis\": {\"gridcolor\": \"white\", \"linecolor\": \"white\", \"ticks\": \"\"}, \"baxis\": {\"gridcolor\": \"white\", \"linecolor\": \"white\", \"ticks\": \"\"}, \"bgcolor\": \"#E5ECF6\", \"caxis\": {\"gridcolor\": \"white\", \"linecolor\": \"white\", \"ticks\": \"\"}}, \"title\": {\"x\": 0.05}, \"xaxis\": {\"automargin\": true, \"gridcolor\": \"white\", \"linecolor\": \"white\", \"ticks\": \"\", \"zerolinecolor\": \"white\", \"zerolinewidth\": 2}, \"yaxis\": {\"automargin\": true, \"gridcolor\": \"white\", \"linecolor\": \"white\", \"ticks\": \"\", \"zerolinecolor\": \"white\", \"zerolinewidth\": 2}}}, \"polar\": {\"angularaxis\": {\"direction\": \"clockwise\", \"rotation\": 90}}}, {\"showLink\": false, \"linkText\": \"Export to plot.ly\", \"plotlyServerURL\": \"https://plot.ly\"}); \n",
       "}\n",
       "});</script><script type=\"text/javascript\">window.addEventListener(\"resize\", function(){if (document.getElementById(\"7510966b-1058-4aaa-8aa2-b0851e8b6196\")) {window._Plotly.Plots.resize(document.getElementById(\"7510966b-1058-4aaa-8aa2-b0851e8b6196\"));};})</script>"
      ]
     },
     "metadata": {},
     "output_type": "display_data"
    },
    {
     "name": "stdout",
     "output_type": "stream",
     "text": [
      "Comparando la pregunta ¿Qué tipo de aplicaciones utilizas en tu ordenador/tableta/móvil? (Respuesta múltiple) [1. Apps de contenidos audiovisuales (Netflix, HBO, etc.)]\n"
     ]
    },
    {
     "data": {
      "application/vnd.plotly.v1+json": {
       "config": {
        "linkText": "Export to plot.ly",
        "plotlyServerURL": "https://plot.ly",
        "showLink": false
       },
       "data": [
        {
         "hovertemplate": "¿Qué tipo de aplicaciones utilizas en tu ordenador/tableta/móvil? (Respuesta múltiple) [1. Apps de contenidos audiovisuales (Netflix, HBO, etc.)]=No<br>counts=%{r}<br>cultural_cluster=%{theta}<extra></extra>",
         "legendgroup": "¿Qué tipo de aplicaciones utilizas en tu ordenador/tableta/móvil? (Respuesta múltiple) [1. Apps de contenidos audiovisuales (Netflix, HBO, etc.)]=No",
         "marker": {
          "color": "rgb(213,62,79)"
         },
         "name": "¿Qué tipo de aplicaciones utilizas en tu ordenador/tableta/móvil? (Respuesta múltiple) [1. Apps de contenidos audiovisuales (Netflix, HBO, etc.)]=No",
         "r": [
          68,
          121,
          12,
          139
         ],
         "showlegend": true,
         "theta": [
          "cluster_1",
          "cluster_2",
          "cluster_3",
          "cluster_4"
         ],
         "type": "barpolar",
         "uid": "35263ab1-0cd9-440b-bd4f-dd33dafaf877"
        },
        {
         "hovertemplate": "¿Qué tipo de aplicaciones utilizas en tu ordenador/tableta/móvil? (Respuesta múltiple) [1. Apps de contenidos audiovisuales (Netflix, HBO, etc.)]=Sí<br>counts=%{r}<br>cultural_cluster=%{theta}<extra></extra>",
         "legendgroup": "¿Qué tipo de aplicaciones utilizas en tu ordenador/tableta/móvil? (Respuesta múltiple) [1. Apps de contenidos audiovisuales (Netflix, HBO, etc.)]=Sí",
         "marker": {
          "color": "rgb(252,141,89)"
         },
         "name": "¿Qué tipo de aplicaciones utilizas en tu ordenador/tableta/móvil? (Respuesta múltiple) [1. Apps de contenidos audiovisuales (Netflix, HBO, etc.)]=Sí",
         "r": [
          155,
          180,
          15,
          76,
          1
         ],
         "showlegend": true,
         "theta": [
          "cluster_1",
          "cluster_2",
          "cluster_3",
          "cluster_4",
          "cluster_5"
         ],
         "type": "barpolar",
         "uid": "c48c87ce-d358-4008-abea-3717a2efea77"
        }
       ],
       "layout": {
        "barmode": "group",
        "barnorm": "",
        "height": 600,
        "legend": {
         "tracegroupgap": 0
        },
        "margin": {
         "t": 60
        },
        "polar": {
         "angularaxis": {
          "direction": "clockwise",
          "rotation": 90
         }
        },
        "template": {
         "data": {
          "bar": [
           {
            "marker": {
             "line": {
              "color": "#E5ECF6",
              "width": 0.5
             }
            },
            "type": "bar"
           }
          ],
          "barpolar": [
           {
            "marker": {
             "line": {
              "color": "#E5ECF6",
              "width": 0.5
             }
            },
            "type": "barpolar"
           }
          ],
          "carpet": [
           {
            "aaxis": {
             "endlinecolor": "#2a3f5f",
             "gridcolor": "white",
             "linecolor": "white",
             "minorgridcolor": "white",
             "startlinecolor": "#2a3f5f"
            },
            "baxis": {
             "endlinecolor": "#2a3f5f",
             "gridcolor": "white",
             "linecolor": "white",
             "minorgridcolor": "white",
             "startlinecolor": "#2a3f5f"
            },
            "type": "carpet"
           }
          ],
          "choropleth": [
           {
            "colorbar": {
             "outlinewidth": 0,
             "ticks": ""
            },
            "type": "choropleth"
           }
          ],
          "contour": [
           {
            "autocolorscale": true,
            "colorbar": {
             "outlinewidth": 0,
             "ticks": ""
            },
            "type": "contour"
           }
          ],
          "contourcarpet": [
           {
            "colorbar": {
             "outlinewidth": 0,
             "ticks": ""
            },
            "type": "contourcarpet"
           }
          ],
          "heatmap": [
           {
            "autocolorscale": true,
            "colorbar": {
             "outlinewidth": 0,
             "ticks": ""
            },
            "type": "heatmap"
           }
          ],
          "heatmapgl": [
           {
            "colorbar": {
             "outlinewidth": 0,
             "ticks": ""
            },
            "type": "heatmapgl"
           }
          ],
          "histogram": [
           {
            "marker": {
             "colorbar": {
              "outlinewidth": 0,
              "ticks": ""
             }
            },
            "type": "histogram"
           }
          ],
          "histogram2d": [
           {
            "autocolorscale": true,
            "colorbar": {
             "outlinewidth": 0,
             "ticks": ""
            },
            "type": "histogram2d"
           }
          ],
          "histogram2dcontour": [
           {
            "autocolorscale": true,
            "colorbar": {
             "outlinewidth": 0,
             "ticks": ""
            },
            "type": "histogram2dcontour"
           }
          ],
          "mesh3d": [
           {
            "colorbar": {
             "outlinewidth": 0,
             "ticks": ""
            },
            "type": "mesh3d"
           }
          ],
          "parcoords": [
           {
            "line": {
             "colorbar": {
              "outlinewidth": 0,
              "ticks": ""
             }
            },
            "type": "parcoords"
           }
          ],
          "scatter": [
           {
            "marker": {
             "colorbar": {
              "outlinewidth": 0,
              "ticks": ""
             }
            },
            "type": "scatter"
           }
          ],
          "scatter3d": [
           {
            "marker": {
             "colorbar": {
              "outlinewidth": 0,
              "ticks": ""
             }
            },
            "type": "scatter3d"
           }
          ],
          "scattercarpet": [
           {
            "marker": {
             "colorbar": {
              "outlinewidth": 0,
              "ticks": ""
             }
            },
            "type": "scattercarpet"
           }
          ],
          "scattergeo": [
           {
            "marker": {
             "colorbar": {
              "outlinewidth": 0,
              "ticks": ""
             }
            },
            "type": "scattergeo"
           }
          ],
          "scattergl": [
           {
            "marker": {
             "colorbar": {
              "outlinewidth": 0,
              "ticks": ""
             }
            },
            "type": "scattergl"
           }
          ],
          "scattermapbox": [
           {
            "marker": {
             "colorbar": {
              "outlinewidth": 0,
              "ticks": ""
             }
            },
            "type": "scattermapbox"
           }
          ],
          "scatterpolar": [
           {
            "marker": {
             "colorbar": {
              "outlinewidth": 0,
              "ticks": ""
             }
            },
            "type": "scatterpolar"
           }
          ],
          "scatterpolargl": [
           {
            "marker": {
             "colorbar": {
              "outlinewidth": 0,
              "ticks": ""
             }
            },
            "type": "scatterpolargl"
           }
          ],
          "scatterternary": [
           {
            "marker": {
             "colorbar": {
              "outlinewidth": 0,
              "ticks": ""
             }
            },
            "type": "scatterternary"
           }
          ],
          "surface": [
           {
            "colorbar": {
             "outlinewidth": 0,
             "ticks": ""
            },
            "type": "surface"
           }
          ],
          "table": [
           {
            "cells": {
             "fill": {
              "color": "#EBF0F8"
             },
             "line": {
              "color": "white"
             }
            },
            "header": {
             "fill": {
              "color": "#C8D4E3"
             },
             "line": {
              "color": "white"
             }
            },
            "type": "table"
           }
          ]
         },
         "layout": {
          "annotationdefaults": {
           "arrowcolor": "#506784",
           "arrowhead": 0,
           "arrowwidth": 1
          },
          "colorscale": {
           "diverging": [
            [
             0,
             "#8e0152"
            ],
            [
             0.1,
             "#c51b7d"
            ],
            [
             0.2,
             "#de77ae"
            ],
            [
             0.3,
             "#f1b6da"
            ],
            [
             0.4,
             "#fde0ef"
            ],
            [
             0.5,
             "#f7f7f7"
            ],
            [
             0.6,
             "#e6f5d0"
            ],
            [
             0.7,
             "#b8e186"
            ],
            [
             0.8,
             "#7fbc41"
            ],
            [
             0.9,
             "#4d9221"
            ],
            [
             1,
             "#276419"
            ]
           ],
           "sequential": [
            [
             0,
             "#0508b8"
            ],
            [
             0.0893854748603352,
             "#1910d8"
            ],
            [
             0.1787709497206704,
             "#3c19f0"
            ],
            [
             0.2681564245810056,
             "#6b1cfb"
            ],
            [
             0.3575418994413408,
             "#981cfd"
            ],
            [
             0.44692737430167595,
             "#bf1cfd"
            ],
            [
             0.5363128491620112,
             "#dd2bfd"
            ],
            [
             0.6256983240223464,
             "#f246fe"
            ],
            [
             0.7150837988826816,
             "#fc67fd"
            ],
            [
             0.8044692737430168,
             "#fe88fc"
            ],
            [
             0.8938547486033519,
             "#fea5fd"
            ],
            [
             0.9832402234636871,
             "#febefe"
            ],
            [
             1,
             "#fec3fe"
            ]
           ],
           "sequentialminus": [
            [
             0,
             "#0508b8"
            ],
            [
             0.0893854748603352,
             "#1910d8"
            ],
            [
             0.1787709497206704,
             "#3c19f0"
            ],
            [
             0.2681564245810056,
             "#6b1cfb"
            ],
            [
             0.3575418994413408,
             "#981cfd"
            ],
            [
             0.44692737430167595,
             "#bf1cfd"
            ],
            [
             0.5363128491620112,
             "#dd2bfd"
            ],
            [
             0.6256983240223464,
             "#f246fe"
            ],
            [
             0.7150837988826816,
             "#fc67fd"
            ],
            [
             0.8044692737430168,
             "#fe88fc"
            ],
            [
             0.8938547486033519,
             "#fea5fd"
            ],
            [
             0.9832402234636871,
             "#febefe"
            ],
            [
             1,
             "#fec3fe"
            ]
           ]
          },
          "colorway": [
           "#636efa",
           "#EF553B",
           "#00cc96",
           "#ab63fa",
           "#19d3f3",
           "#e763fa",
           "#FECB52",
           "#FFA15A",
           "#FF6692",
           "#B6E880"
          ],
          "font": {
           "color": "#2a3f5f"
          },
          "geo": {
           "bgcolor": "white",
           "lakecolor": "white",
           "landcolor": "#E5ECF6",
           "showlakes": true,
           "showland": true,
           "subunitcolor": "white"
          },
          "hovermode": "closest",
          "mapbox": {
           "style": "light"
          },
          "paper_bgcolor": "white",
          "plot_bgcolor": "#E5ECF6",
          "polar": {
           "angularaxis": {
            "gridcolor": "white",
            "linecolor": "white",
            "ticks": ""
           },
           "bgcolor": "#E5ECF6",
           "radialaxis": {
            "gridcolor": "white",
            "linecolor": "white",
            "ticks": ""
           }
          },
          "scene": {
           "xaxis": {
            "backgroundcolor": "#E5ECF6",
            "gridcolor": "white",
            "gridwidth": 2,
            "linecolor": "white",
            "showbackground": true,
            "ticks": "",
            "zerolinecolor": "white"
           },
           "yaxis": {
            "backgroundcolor": "#E5ECF6",
            "gridcolor": "white",
            "gridwidth": 2,
            "linecolor": "white",
            "showbackground": true,
            "ticks": "",
            "zerolinecolor": "white"
           },
           "zaxis": {
            "backgroundcolor": "#E5ECF6",
            "gridcolor": "white",
            "gridwidth": 2,
            "linecolor": "white",
            "showbackground": true,
            "ticks": "",
            "zerolinecolor": "white"
           }
          },
          "shapedefaults": {
           "fillcolor": "#506784",
           "line": {
            "width": 0
           },
           "opacity": 0.4
          },
          "ternary": {
           "aaxis": {
            "gridcolor": "white",
            "linecolor": "white",
            "ticks": ""
           },
           "baxis": {
            "gridcolor": "white",
            "linecolor": "white",
            "ticks": ""
           },
           "bgcolor": "#E5ECF6",
           "caxis": {
            "gridcolor": "white",
            "linecolor": "white",
            "ticks": ""
           }
          },
          "title": {
           "x": 0.05
          },
          "xaxis": {
           "automargin": true,
           "gridcolor": "white",
           "linecolor": "white",
           "ticks": "",
           "zerolinecolor": "white",
           "zerolinewidth": 2
          },
          "yaxis": {
           "automargin": true,
           "gridcolor": "white",
           "linecolor": "white",
           "ticks": "",
           "zerolinecolor": "white",
           "zerolinewidth": 2
          }
         }
        }
       }
      },
      "text/html": [
       "<div id=\"94f54a43-7d33-431d-925e-3b2b376e0813\" style=\"height: 600px; width: 100%;\" class=\"plotly-graph-div\"></div><script type=\"text/javascript\">require([\"plotly\"], function(Plotly) { window.PLOTLYENV=window.PLOTLYENV || {};window.PLOTLYENV.BASE_URL=\"https://plot.ly\";\n",
       "if (document.getElementById(\"94f54a43-7d33-431d-925e-3b2b376e0813\")) {\n",
       "    Plotly.newPlot(\"94f54a43-7d33-431d-925e-3b2b376e0813\", [{\"hovertemplate\": \"\\u00bfQu\\u00e9 tipo de aplicaciones utilizas en tu ordenador/tableta/m\\u00f3vil? (Respuesta m\\u00faltiple) [1. Apps de contenidos audiovisuales (Netflix, HBO, etc.)]=No<br>counts=%{r}<br>cultural_cluster=%{theta}<extra></extra>\", \"legendgroup\": \"\\u00bfQu\\u00e9 tipo de aplicaciones utilizas en tu ordenador/tableta/m\\u00f3vil? (Respuesta m\\u00faltiple) [1. Apps de contenidos audiovisuales (Netflix, HBO, etc.)]=No\", \"marker\": {\"color\": \"rgb(213,62,79)\"}, \"name\": \"\\u00bfQu\\u00e9 tipo de aplicaciones utilizas en tu ordenador/tableta/m\\u00f3vil? (Respuesta m\\u00faltiple) [1. Apps de contenidos audiovisuales (Netflix, HBO, etc.)]=No\", \"r\": [68, 121, 12, 139], \"showlegend\": true, \"theta\": [\"cluster_1\", \"cluster_2\", \"cluster_3\", \"cluster_4\"], \"type\": \"barpolar\", \"uid\": \"35263ab1-0cd9-440b-bd4f-dd33dafaf877\"}, {\"hovertemplate\": \"\\u00bfQu\\u00e9 tipo de aplicaciones utilizas en tu ordenador/tableta/m\\u00f3vil? (Respuesta m\\u00faltiple) [1. Apps de contenidos audiovisuales (Netflix, HBO, etc.)]=S\\u00ed<br>counts=%{r}<br>cultural_cluster=%{theta}<extra></extra>\", \"legendgroup\": \"\\u00bfQu\\u00e9 tipo de aplicaciones utilizas en tu ordenador/tableta/m\\u00f3vil? (Respuesta m\\u00faltiple) [1. Apps de contenidos audiovisuales (Netflix, HBO, etc.)]=S\\u00ed\", \"marker\": {\"color\": \"rgb(252,141,89)\"}, \"name\": \"\\u00bfQu\\u00e9 tipo de aplicaciones utilizas en tu ordenador/tableta/m\\u00f3vil? (Respuesta m\\u00faltiple) [1. Apps de contenidos audiovisuales (Netflix, HBO, etc.)]=S\\u00ed\", \"r\": [155, 180, 15, 76, 1], \"showlegend\": true, \"theta\": [\"cluster_1\", \"cluster_2\", \"cluster_3\", \"cluster_4\", \"cluster_5\"], \"type\": \"barpolar\", \"uid\": \"c48c87ce-d358-4008-abea-3717a2efea77\"}], {\"barmode\": \"group\", \"barnorm\": \"\", \"height\": 600, \"legend\": {\"tracegroupgap\": 0}, \"margin\": {\"t\": 60}, \"template\": {\"data\": {\"barpolar\": [{\"marker\": {\"line\": {\"color\": \"#E5ECF6\", \"width\": 0.5}}, \"type\": \"barpolar\"}], \"bar\": [{\"marker\": {\"line\": {\"color\": \"#E5ECF6\", \"width\": 0.5}}, \"type\": \"bar\"}], \"carpet\": [{\"aaxis\": {\"endlinecolor\": \"#2a3f5f\", \"gridcolor\": \"white\", \"linecolor\": \"white\", \"minorgridcolor\": \"white\", \"startlinecolor\": \"#2a3f5f\"}, \"baxis\": {\"endlinecolor\": \"#2a3f5f\", \"gridcolor\": \"white\", \"linecolor\": \"white\", \"minorgridcolor\": \"white\", \"startlinecolor\": \"#2a3f5f\"}, \"type\": \"carpet\"}], \"choropleth\": [{\"colorbar\": {\"outlinewidth\": 0, \"ticks\": \"\"}, \"type\": \"choropleth\"}], \"contourcarpet\": [{\"colorbar\": {\"outlinewidth\": 0, \"ticks\": \"\"}, \"type\": \"contourcarpet\"}], \"contour\": [{\"autocolorscale\": true, \"colorbar\": {\"outlinewidth\": 0, \"ticks\": \"\"}, \"type\": \"contour\"}], \"heatmapgl\": [{\"colorbar\": {\"outlinewidth\": 0, \"ticks\": \"\"}, \"type\": \"heatmapgl\"}], \"heatmap\": [{\"autocolorscale\": true, \"colorbar\": {\"outlinewidth\": 0, \"ticks\": \"\"}, \"type\": \"heatmap\"}], \"histogram2dcontour\": [{\"autocolorscale\": true, \"colorbar\": {\"outlinewidth\": 0, \"ticks\": \"\"}, \"type\": \"histogram2dcontour\"}], \"histogram2d\": [{\"autocolorscale\": true, \"colorbar\": {\"outlinewidth\": 0, \"ticks\": \"\"}, \"type\": \"histogram2d\"}], \"histogram\": [{\"marker\": {\"colorbar\": {\"outlinewidth\": 0, \"ticks\": \"\"}}, \"type\": \"histogram\"}], \"mesh3d\": [{\"colorbar\": {\"outlinewidth\": 0, \"ticks\": \"\"}, \"type\": \"mesh3d\"}], \"parcoords\": [{\"line\": {\"colorbar\": {\"outlinewidth\": 0, \"ticks\": \"\"}}, \"type\": \"parcoords\"}], \"scatter3d\": [{\"marker\": {\"colorbar\": {\"outlinewidth\": 0, \"ticks\": \"\"}}, \"type\": \"scatter3d\"}], \"scattercarpet\": [{\"marker\": {\"colorbar\": {\"outlinewidth\": 0, \"ticks\": \"\"}}, \"type\": \"scattercarpet\"}], \"scattergeo\": [{\"marker\": {\"colorbar\": {\"outlinewidth\": 0, \"ticks\": \"\"}}, \"type\": \"scattergeo\"}], \"scattergl\": [{\"marker\": {\"colorbar\": {\"outlinewidth\": 0, \"ticks\": \"\"}}, \"type\": \"scattergl\"}], \"scattermapbox\": [{\"marker\": {\"colorbar\": {\"outlinewidth\": 0, \"ticks\": \"\"}}, \"type\": \"scattermapbox\"}], \"scatterpolargl\": [{\"marker\": {\"colorbar\": {\"outlinewidth\": 0, \"ticks\": \"\"}}, \"type\": \"scatterpolargl\"}], \"scatterpolar\": [{\"marker\": {\"colorbar\": {\"outlinewidth\": 0, \"ticks\": \"\"}}, \"type\": \"scatterpolar\"}], \"scatter\": [{\"marker\": {\"colorbar\": {\"outlinewidth\": 0, \"ticks\": \"\"}}, \"type\": \"scatter\"}], \"scatterternary\": [{\"marker\": {\"colorbar\": {\"outlinewidth\": 0, \"ticks\": \"\"}}, \"type\": \"scatterternary\"}], \"surface\": [{\"colorbar\": {\"outlinewidth\": 0, \"ticks\": \"\"}, \"type\": \"surface\"}], \"table\": [{\"cells\": {\"fill\": {\"color\": \"#EBF0F8\"}, \"line\": {\"color\": \"white\"}}, \"header\": {\"fill\": {\"color\": \"#C8D4E3\"}, \"line\": {\"color\": \"white\"}}, \"type\": \"table\"}]}, \"layout\": {\"annotationdefaults\": {\"arrowcolor\": \"#506784\", \"arrowhead\": 0, \"arrowwidth\": 1}, \"colorscale\": {\"diverging\": [[0, \"#8e0152\"], [0.1, \"#c51b7d\"], [0.2, \"#de77ae\"], [0.3, \"#f1b6da\"], [0.4, \"#fde0ef\"], [0.5, \"#f7f7f7\"], [0.6, \"#e6f5d0\"], [0.7, \"#b8e186\"], [0.8, \"#7fbc41\"], [0.9, \"#4d9221\"], [1, \"#276419\"]], \"sequential\": [[0.0, \"#0508b8\"], [0.0893854748603352, \"#1910d8\"], [0.1787709497206704, \"#3c19f0\"], [0.2681564245810056, \"#6b1cfb\"], [0.3575418994413408, \"#981cfd\"], [0.44692737430167595, \"#bf1cfd\"], [0.5363128491620112, \"#dd2bfd\"], [0.6256983240223464, \"#f246fe\"], [0.7150837988826816, \"#fc67fd\"], [0.8044692737430168, \"#fe88fc\"], [0.8938547486033519, \"#fea5fd\"], [0.9832402234636871, \"#febefe\"], [1.0, \"#fec3fe\"]], \"sequentialminus\": [[0.0, \"#0508b8\"], [0.0893854748603352, \"#1910d8\"], [0.1787709497206704, \"#3c19f0\"], [0.2681564245810056, \"#6b1cfb\"], [0.3575418994413408, \"#981cfd\"], [0.44692737430167595, \"#bf1cfd\"], [0.5363128491620112, \"#dd2bfd\"], [0.6256983240223464, \"#f246fe\"], [0.7150837988826816, \"#fc67fd\"], [0.8044692737430168, \"#fe88fc\"], [0.8938547486033519, \"#fea5fd\"], [0.9832402234636871, \"#febefe\"], [1.0, \"#fec3fe\"]]}, \"colorway\": [\"#636efa\", \"#EF553B\", \"#00cc96\", \"#ab63fa\", \"#19d3f3\", \"#e763fa\", \"#FECB52\", \"#FFA15A\", \"#FF6692\", \"#B6E880\"], \"font\": {\"color\": \"#2a3f5f\"}, \"geo\": {\"bgcolor\": \"white\", \"lakecolor\": \"white\", \"landcolor\": \"#E5ECF6\", \"showlakes\": true, \"showland\": true, \"subunitcolor\": \"white\"}, \"hovermode\": \"closest\", \"mapbox\": {\"style\": \"light\"}, \"paper_bgcolor\": \"white\", \"plot_bgcolor\": \"#E5ECF6\", \"polar\": {\"angularaxis\": {\"gridcolor\": \"white\", \"linecolor\": \"white\", \"ticks\": \"\"}, \"bgcolor\": \"#E5ECF6\", \"radialaxis\": {\"gridcolor\": \"white\", \"linecolor\": \"white\", \"ticks\": \"\"}}, \"scene\": {\"xaxis\": {\"backgroundcolor\": \"#E5ECF6\", \"gridcolor\": \"white\", \"gridwidth\": 2, \"linecolor\": \"white\", \"showbackground\": true, \"ticks\": \"\", \"zerolinecolor\": \"white\"}, \"yaxis\": {\"backgroundcolor\": \"#E5ECF6\", \"gridcolor\": \"white\", \"gridwidth\": 2, \"linecolor\": \"white\", \"showbackground\": true, \"ticks\": \"\", \"zerolinecolor\": \"white\"}, \"zaxis\": {\"backgroundcolor\": \"#E5ECF6\", \"gridcolor\": \"white\", \"gridwidth\": 2, \"linecolor\": \"white\", \"showbackground\": true, \"ticks\": \"\", \"zerolinecolor\": \"white\"}}, \"shapedefaults\": {\"fillcolor\": \"#506784\", \"line\": {\"width\": 0}, \"opacity\": 0.4}, \"ternary\": {\"aaxis\": {\"gridcolor\": \"white\", \"linecolor\": \"white\", \"ticks\": \"\"}, \"baxis\": {\"gridcolor\": \"white\", \"linecolor\": \"white\", \"ticks\": \"\"}, \"bgcolor\": \"#E5ECF6\", \"caxis\": {\"gridcolor\": \"white\", \"linecolor\": \"white\", \"ticks\": \"\"}}, \"title\": {\"x\": 0.05}, \"xaxis\": {\"automargin\": true, \"gridcolor\": \"white\", \"linecolor\": \"white\", \"ticks\": \"\", \"zerolinecolor\": \"white\", \"zerolinewidth\": 2}, \"yaxis\": {\"automargin\": true, \"gridcolor\": \"white\", \"linecolor\": \"white\", \"ticks\": \"\", \"zerolinecolor\": \"white\", \"zerolinewidth\": 2}}}, \"polar\": {\"angularaxis\": {\"direction\": \"clockwise\", \"rotation\": 90}}}, {\"showLink\": false, \"linkText\": \"Export to plot.ly\", \"plotlyServerURL\": \"https://plot.ly\"}); \n",
       "}\n",
       "});</script><script type=\"text/javascript\">window.addEventListener(\"resize\", function(){if (document.getElementById(\"94f54a43-7d33-431d-925e-3b2b376e0813\")) {window._Plotly.Plots.resize(document.getElementById(\"94f54a43-7d33-431d-925e-3b2b376e0813\"));};})</script>"
      ],
      "text/vnd.plotly.v1+html": [
       "<div id=\"94f54a43-7d33-431d-925e-3b2b376e0813\" style=\"height: 600px; width: 100%;\" class=\"plotly-graph-div\"></div><script type=\"text/javascript\">require([\"plotly\"], function(Plotly) { window.PLOTLYENV=window.PLOTLYENV || {};window.PLOTLYENV.BASE_URL=\"https://plot.ly\";\n",
       "if (document.getElementById(\"94f54a43-7d33-431d-925e-3b2b376e0813\")) {\n",
       "    Plotly.newPlot(\"94f54a43-7d33-431d-925e-3b2b376e0813\", [{\"hovertemplate\": \"\\u00bfQu\\u00e9 tipo de aplicaciones utilizas en tu ordenador/tableta/m\\u00f3vil? (Respuesta m\\u00faltiple) [1. Apps de contenidos audiovisuales (Netflix, HBO, etc.)]=No<br>counts=%{r}<br>cultural_cluster=%{theta}<extra></extra>\", \"legendgroup\": \"\\u00bfQu\\u00e9 tipo de aplicaciones utilizas en tu ordenador/tableta/m\\u00f3vil? (Respuesta m\\u00faltiple) [1. Apps de contenidos audiovisuales (Netflix, HBO, etc.)]=No\", \"marker\": {\"color\": \"rgb(213,62,79)\"}, \"name\": \"\\u00bfQu\\u00e9 tipo de aplicaciones utilizas en tu ordenador/tableta/m\\u00f3vil? (Respuesta m\\u00faltiple) [1. Apps de contenidos audiovisuales (Netflix, HBO, etc.)]=No\", \"r\": [68, 121, 12, 139], \"showlegend\": true, \"theta\": [\"cluster_1\", \"cluster_2\", \"cluster_3\", \"cluster_4\"], \"type\": \"barpolar\", \"uid\": \"35263ab1-0cd9-440b-bd4f-dd33dafaf877\"}, {\"hovertemplate\": \"\\u00bfQu\\u00e9 tipo de aplicaciones utilizas en tu ordenador/tableta/m\\u00f3vil? (Respuesta m\\u00faltiple) [1. Apps de contenidos audiovisuales (Netflix, HBO, etc.)]=S\\u00ed<br>counts=%{r}<br>cultural_cluster=%{theta}<extra></extra>\", \"legendgroup\": \"\\u00bfQu\\u00e9 tipo de aplicaciones utilizas en tu ordenador/tableta/m\\u00f3vil? (Respuesta m\\u00faltiple) [1. Apps de contenidos audiovisuales (Netflix, HBO, etc.)]=S\\u00ed\", \"marker\": {\"color\": \"rgb(252,141,89)\"}, \"name\": \"\\u00bfQu\\u00e9 tipo de aplicaciones utilizas en tu ordenador/tableta/m\\u00f3vil? (Respuesta m\\u00faltiple) [1. Apps de contenidos audiovisuales (Netflix, HBO, etc.)]=S\\u00ed\", \"r\": [155, 180, 15, 76, 1], \"showlegend\": true, \"theta\": [\"cluster_1\", \"cluster_2\", \"cluster_3\", \"cluster_4\", \"cluster_5\"], \"type\": \"barpolar\", \"uid\": \"c48c87ce-d358-4008-abea-3717a2efea77\"}], {\"barmode\": \"group\", \"barnorm\": \"\", \"height\": 600, \"legend\": {\"tracegroupgap\": 0}, \"margin\": {\"t\": 60}, \"template\": {\"data\": {\"barpolar\": [{\"marker\": {\"line\": {\"color\": \"#E5ECF6\", \"width\": 0.5}}, \"type\": \"barpolar\"}], \"bar\": [{\"marker\": {\"line\": {\"color\": \"#E5ECF6\", \"width\": 0.5}}, \"type\": \"bar\"}], \"carpet\": [{\"aaxis\": {\"endlinecolor\": \"#2a3f5f\", \"gridcolor\": \"white\", \"linecolor\": \"white\", \"minorgridcolor\": \"white\", \"startlinecolor\": \"#2a3f5f\"}, \"baxis\": {\"endlinecolor\": \"#2a3f5f\", \"gridcolor\": \"white\", \"linecolor\": \"white\", \"minorgridcolor\": \"white\", \"startlinecolor\": \"#2a3f5f\"}, \"type\": \"carpet\"}], \"choropleth\": [{\"colorbar\": {\"outlinewidth\": 0, \"ticks\": \"\"}, \"type\": \"choropleth\"}], \"contourcarpet\": [{\"colorbar\": {\"outlinewidth\": 0, \"ticks\": \"\"}, \"type\": \"contourcarpet\"}], \"contour\": [{\"autocolorscale\": true, \"colorbar\": {\"outlinewidth\": 0, \"ticks\": \"\"}, \"type\": \"contour\"}], \"heatmapgl\": [{\"colorbar\": {\"outlinewidth\": 0, \"ticks\": \"\"}, \"type\": \"heatmapgl\"}], \"heatmap\": [{\"autocolorscale\": true, \"colorbar\": {\"outlinewidth\": 0, \"ticks\": \"\"}, \"type\": \"heatmap\"}], \"histogram2dcontour\": [{\"autocolorscale\": true, \"colorbar\": {\"outlinewidth\": 0, \"ticks\": \"\"}, \"type\": \"histogram2dcontour\"}], \"histogram2d\": [{\"autocolorscale\": true, \"colorbar\": {\"outlinewidth\": 0, \"ticks\": \"\"}, \"type\": \"histogram2d\"}], \"histogram\": [{\"marker\": {\"colorbar\": {\"outlinewidth\": 0, \"ticks\": \"\"}}, \"type\": \"histogram\"}], \"mesh3d\": [{\"colorbar\": {\"outlinewidth\": 0, \"ticks\": \"\"}, \"type\": \"mesh3d\"}], \"parcoords\": [{\"line\": {\"colorbar\": {\"outlinewidth\": 0, \"ticks\": \"\"}}, \"type\": \"parcoords\"}], \"scatter3d\": [{\"marker\": {\"colorbar\": {\"outlinewidth\": 0, \"ticks\": \"\"}}, \"type\": \"scatter3d\"}], \"scattercarpet\": [{\"marker\": {\"colorbar\": {\"outlinewidth\": 0, \"ticks\": \"\"}}, \"type\": \"scattercarpet\"}], \"scattergeo\": [{\"marker\": {\"colorbar\": {\"outlinewidth\": 0, \"ticks\": \"\"}}, \"type\": \"scattergeo\"}], \"scattergl\": [{\"marker\": {\"colorbar\": {\"outlinewidth\": 0, \"ticks\": \"\"}}, \"type\": \"scattergl\"}], \"scattermapbox\": [{\"marker\": {\"colorbar\": {\"outlinewidth\": 0, \"ticks\": \"\"}}, \"type\": \"scattermapbox\"}], \"scatterpolargl\": [{\"marker\": {\"colorbar\": {\"outlinewidth\": 0, \"ticks\": \"\"}}, \"type\": \"scatterpolargl\"}], \"scatterpolar\": [{\"marker\": {\"colorbar\": {\"outlinewidth\": 0, \"ticks\": \"\"}}, \"type\": \"scatterpolar\"}], \"scatter\": [{\"marker\": {\"colorbar\": {\"outlinewidth\": 0, \"ticks\": \"\"}}, \"type\": \"scatter\"}], \"scatterternary\": [{\"marker\": {\"colorbar\": {\"outlinewidth\": 0, \"ticks\": \"\"}}, \"type\": \"scatterternary\"}], \"surface\": [{\"colorbar\": {\"outlinewidth\": 0, \"ticks\": \"\"}, \"type\": \"surface\"}], \"table\": [{\"cells\": {\"fill\": {\"color\": \"#EBF0F8\"}, \"line\": {\"color\": \"white\"}}, \"header\": {\"fill\": {\"color\": \"#C8D4E3\"}, \"line\": {\"color\": \"white\"}}, \"type\": \"table\"}]}, \"layout\": {\"annotationdefaults\": {\"arrowcolor\": \"#506784\", \"arrowhead\": 0, \"arrowwidth\": 1}, \"colorscale\": {\"diverging\": [[0, \"#8e0152\"], [0.1, \"#c51b7d\"], [0.2, \"#de77ae\"], [0.3, \"#f1b6da\"], [0.4, \"#fde0ef\"], [0.5, \"#f7f7f7\"], [0.6, \"#e6f5d0\"], [0.7, \"#b8e186\"], [0.8, \"#7fbc41\"], [0.9, \"#4d9221\"], [1, \"#276419\"]], \"sequential\": [[0.0, \"#0508b8\"], [0.0893854748603352, \"#1910d8\"], [0.1787709497206704, \"#3c19f0\"], [0.2681564245810056, \"#6b1cfb\"], [0.3575418994413408, \"#981cfd\"], [0.44692737430167595, \"#bf1cfd\"], [0.5363128491620112, \"#dd2bfd\"], [0.6256983240223464, \"#f246fe\"], [0.7150837988826816, \"#fc67fd\"], [0.8044692737430168, \"#fe88fc\"], [0.8938547486033519, \"#fea5fd\"], [0.9832402234636871, \"#febefe\"], [1.0, \"#fec3fe\"]], \"sequentialminus\": [[0.0, \"#0508b8\"], [0.0893854748603352, \"#1910d8\"], [0.1787709497206704, \"#3c19f0\"], [0.2681564245810056, \"#6b1cfb\"], [0.3575418994413408, \"#981cfd\"], [0.44692737430167595, \"#bf1cfd\"], [0.5363128491620112, \"#dd2bfd\"], [0.6256983240223464, \"#f246fe\"], [0.7150837988826816, \"#fc67fd\"], [0.8044692737430168, \"#fe88fc\"], [0.8938547486033519, \"#fea5fd\"], [0.9832402234636871, \"#febefe\"], [1.0, \"#fec3fe\"]]}, \"colorway\": [\"#636efa\", \"#EF553B\", \"#00cc96\", \"#ab63fa\", \"#19d3f3\", \"#e763fa\", \"#FECB52\", \"#FFA15A\", \"#FF6692\", \"#B6E880\"], \"font\": {\"color\": \"#2a3f5f\"}, \"geo\": {\"bgcolor\": \"white\", \"lakecolor\": \"white\", \"landcolor\": \"#E5ECF6\", \"showlakes\": true, \"showland\": true, \"subunitcolor\": \"white\"}, \"hovermode\": \"closest\", \"mapbox\": {\"style\": \"light\"}, \"paper_bgcolor\": \"white\", \"plot_bgcolor\": \"#E5ECF6\", \"polar\": {\"angularaxis\": {\"gridcolor\": \"white\", \"linecolor\": \"white\", \"ticks\": \"\"}, \"bgcolor\": \"#E5ECF6\", \"radialaxis\": {\"gridcolor\": \"white\", \"linecolor\": \"white\", \"ticks\": \"\"}}, \"scene\": {\"xaxis\": {\"backgroundcolor\": \"#E5ECF6\", \"gridcolor\": \"white\", \"gridwidth\": 2, \"linecolor\": \"white\", \"showbackground\": true, \"ticks\": \"\", \"zerolinecolor\": \"white\"}, \"yaxis\": {\"backgroundcolor\": \"#E5ECF6\", \"gridcolor\": \"white\", \"gridwidth\": 2, \"linecolor\": \"white\", \"showbackground\": true, \"ticks\": \"\", \"zerolinecolor\": \"white\"}, \"zaxis\": {\"backgroundcolor\": \"#E5ECF6\", \"gridcolor\": \"white\", \"gridwidth\": 2, \"linecolor\": \"white\", \"showbackground\": true, \"ticks\": \"\", \"zerolinecolor\": \"white\"}}, \"shapedefaults\": {\"fillcolor\": \"#506784\", \"line\": {\"width\": 0}, \"opacity\": 0.4}, \"ternary\": {\"aaxis\": {\"gridcolor\": \"white\", \"linecolor\": \"white\", \"ticks\": \"\"}, \"baxis\": {\"gridcolor\": \"white\", \"linecolor\": \"white\", \"ticks\": \"\"}, \"bgcolor\": \"#E5ECF6\", \"caxis\": {\"gridcolor\": \"white\", \"linecolor\": \"white\", \"ticks\": \"\"}}, \"title\": {\"x\": 0.05}, \"xaxis\": {\"automargin\": true, \"gridcolor\": \"white\", \"linecolor\": \"white\", \"ticks\": \"\", \"zerolinecolor\": \"white\", \"zerolinewidth\": 2}, \"yaxis\": {\"automargin\": true, \"gridcolor\": \"white\", \"linecolor\": \"white\", \"ticks\": \"\", \"zerolinecolor\": \"white\", \"zerolinewidth\": 2}}}, \"polar\": {\"angularaxis\": {\"direction\": \"clockwise\", \"rotation\": 90}}}, {\"showLink\": false, \"linkText\": \"Export to plot.ly\", \"plotlyServerURL\": \"https://plot.ly\"}); \n",
       "}\n",
       "});</script><script type=\"text/javascript\">window.addEventListener(\"resize\", function(){if (document.getElementById(\"94f54a43-7d33-431d-925e-3b2b376e0813\")) {window._Plotly.Plots.resize(document.getElementById(\"94f54a43-7d33-431d-925e-3b2b376e0813\"));};})</script>"
      ]
     },
     "metadata": {},
     "output_type": "display_data"
    },
    {
     "name": "stdout",
     "output_type": "stream",
     "text": [
      "Comparando la pregunta ¿Qué tipo de aplicaciones utilizas en tu ordenador/tableta/móvil? (Respuesta múltiple) [2. Aplicaciones de mensajería (Whatsapp, Facebook Messenger, etc.)]\n"
     ]
    },
    {
     "data": {
      "application/vnd.plotly.v1+json": {
       "config": {
        "linkText": "Export to plot.ly",
        "plotlyServerURL": "https://plot.ly",
        "showLink": false
       },
       "data": [
        {
         "hovertemplate": "¿Qué tipo de aplicaciones utilizas en tu ordenador/tableta/móvil? (Respuesta múltiple) [2. Aplicaciones de mensajería (Whatsapp, Facebook Messenger, etc.)]=No<br>counts=%{r}<br>cultural_cluster=%{theta}<extra></extra>",
         "legendgroup": "¿Qué tipo de aplicaciones utilizas en tu ordenador/tableta/móvil? (Respuesta múltiple) [2. Aplicaciones de mensajería (Whatsapp, Facebook Messenger, etc.)]=No",
         "marker": {
          "color": "rgb(213,62,79)"
         },
         "name": "¿Qué tipo de aplicaciones utilizas en tu ordenador/tableta/móvil? (Respuesta múltiple) [2. Aplicaciones de mensajería (Whatsapp, Facebook Messenger, etc.)]=No",
         "r": [
          16,
          52,
          10,
          83
         ],
         "showlegend": true,
         "theta": [
          "cluster_1",
          "cluster_2",
          "cluster_3",
          "cluster_4"
         ],
         "type": "barpolar",
         "uid": "35ac438c-b58b-4c40-a7e3-25310ee9b714"
        },
        {
         "hovertemplate": "¿Qué tipo de aplicaciones utilizas en tu ordenador/tableta/móvil? (Respuesta múltiple) [2. Aplicaciones de mensajería (Whatsapp, Facebook Messenger, etc.)]=Sí<br>counts=%{r}<br>cultural_cluster=%{theta}<extra></extra>",
         "legendgroup": "¿Qué tipo de aplicaciones utilizas en tu ordenador/tableta/móvil? (Respuesta múltiple) [2. Aplicaciones de mensajería (Whatsapp, Facebook Messenger, etc.)]=Sí",
         "marker": {
          "color": "rgb(252,141,89)"
         },
         "name": "¿Qué tipo de aplicaciones utilizas en tu ordenador/tableta/móvil? (Respuesta múltiple) [2. Aplicaciones de mensajería (Whatsapp, Facebook Messenger, etc.)]=Sí",
         "r": [
          207,
          249,
          17,
          132,
          1
         ],
         "showlegend": true,
         "theta": [
          "cluster_1",
          "cluster_2",
          "cluster_3",
          "cluster_4",
          "cluster_5"
         ],
         "type": "barpolar",
         "uid": "51287854-0f94-4f4d-94a8-acd754631004"
        }
       ],
       "layout": {
        "barmode": "group",
        "barnorm": "",
        "height": 600,
        "legend": {
         "tracegroupgap": 0
        },
        "margin": {
         "t": 60
        },
        "polar": {
         "angularaxis": {
          "direction": "clockwise",
          "rotation": 90
         }
        },
        "template": {
         "data": {
          "bar": [
           {
            "marker": {
             "line": {
              "color": "#E5ECF6",
              "width": 0.5
             }
            },
            "type": "bar"
           }
          ],
          "barpolar": [
           {
            "marker": {
             "line": {
              "color": "#E5ECF6",
              "width": 0.5
             }
            },
            "type": "barpolar"
           }
          ],
          "carpet": [
           {
            "aaxis": {
             "endlinecolor": "#2a3f5f",
             "gridcolor": "white",
             "linecolor": "white",
             "minorgridcolor": "white",
             "startlinecolor": "#2a3f5f"
            },
            "baxis": {
             "endlinecolor": "#2a3f5f",
             "gridcolor": "white",
             "linecolor": "white",
             "minorgridcolor": "white",
             "startlinecolor": "#2a3f5f"
            },
            "type": "carpet"
           }
          ],
          "choropleth": [
           {
            "colorbar": {
             "outlinewidth": 0,
             "ticks": ""
            },
            "type": "choropleth"
           }
          ],
          "contour": [
           {
            "autocolorscale": true,
            "colorbar": {
             "outlinewidth": 0,
             "ticks": ""
            },
            "type": "contour"
           }
          ],
          "contourcarpet": [
           {
            "colorbar": {
             "outlinewidth": 0,
             "ticks": ""
            },
            "type": "contourcarpet"
           }
          ],
          "heatmap": [
           {
            "autocolorscale": true,
            "colorbar": {
             "outlinewidth": 0,
             "ticks": ""
            },
            "type": "heatmap"
           }
          ],
          "heatmapgl": [
           {
            "colorbar": {
             "outlinewidth": 0,
             "ticks": ""
            },
            "type": "heatmapgl"
           }
          ],
          "histogram": [
           {
            "marker": {
             "colorbar": {
              "outlinewidth": 0,
              "ticks": ""
             }
            },
            "type": "histogram"
           }
          ],
          "histogram2d": [
           {
            "autocolorscale": true,
            "colorbar": {
             "outlinewidth": 0,
             "ticks": ""
            },
            "type": "histogram2d"
           }
          ],
          "histogram2dcontour": [
           {
            "autocolorscale": true,
            "colorbar": {
             "outlinewidth": 0,
             "ticks": ""
            },
            "type": "histogram2dcontour"
           }
          ],
          "mesh3d": [
           {
            "colorbar": {
             "outlinewidth": 0,
             "ticks": ""
            },
            "type": "mesh3d"
           }
          ],
          "parcoords": [
           {
            "line": {
             "colorbar": {
              "outlinewidth": 0,
              "ticks": ""
             }
            },
            "type": "parcoords"
           }
          ],
          "scatter": [
           {
            "marker": {
             "colorbar": {
              "outlinewidth": 0,
              "ticks": ""
             }
            },
            "type": "scatter"
           }
          ],
          "scatter3d": [
           {
            "marker": {
             "colorbar": {
              "outlinewidth": 0,
              "ticks": ""
             }
            },
            "type": "scatter3d"
           }
          ],
          "scattercarpet": [
           {
            "marker": {
             "colorbar": {
              "outlinewidth": 0,
              "ticks": ""
             }
            },
            "type": "scattercarpet"
           }
          ],
          "scattergeo": [
           {
            "marker": {
             "colorbar": {
              "outlinewidth": 0,
              "ticks": ""
             }
            },
            "type": "scattergeo"
           }
          ],
          "scattergl": [
           {
            "marker": {
             "colorbar": {
              "outlinewidth": 0,
              "ticks": ""
             }
            },
            "type": "scattergl"
           }
          ],
          "scattermapbox": [
           {
            "marker": {
             "colorbar": {
              "outlinewidth": 0,
              "ticks": ""
             }
            },
            "type": "scattermapbox"
           }
          ],
          "scatterpolar": [
           {
            "marker": {
             "colorbar": {
              "outlinewidth": 0,
              "ticks": ""
             }
            },
            "type": "scatterpolar"
           }
          ],
          "scatterpolargl": [
           {
            "marker": {
             "colorbar": {
              "outlinewidth": 0,
              "ticks": ""
             }
            },
            "type": "scatterpolargl"
           }
          ],
          "scatterternary": [
           {
            "marker": {
             "colorbar": {
              "outlinewidth": 0,
              "ticks": ""
             }
            },
            "type": "scatterternary"
           }
          ],
          "surface": [
           {
            "colorbar": {
             "outlinewidth": 0,
             "ticks": ""
            },
            "type": "surface"
           }
          ],
          "table": [
           {
            "cells": {
             "fill": {
              "color": "#EBF0F8"
             },
             "line": {
              "color": "white"
             }
            },
            "header": {
             "fill": {
              "color": "#C8D4E3"
             },
             "line": {
              "color": "white"
             }
            },
            "type": "table"
           }
          ]
         },
         "layout": {
          "annotationdefaults": {
           "arrowcolor": "#506784",
           "arrowhead": 0,
           "arrowwidth": 1
          },
          "colorscale": {
           "diverging": [
            [
             0,
             "#8e0152"
            ],
            [
             0.1,
             "#c51b7d"
            ],
            [
             0.2,
             "#de77ae"
            ],
            [
             0.3,
             "#f1b6da"
            ],
            [
             0.4,
             "#fde0ef"
            ],
            [
             0.5,
             "#f7f7f7"
            ],
            [
             0.6,
             "#e6f5d0"
            ],
            [
             0.7,
             "#b8e186"
            ],
            [
             0.8,
             "#7fbc41"
            ],
            [
             0.9,
             "#4d9221"
            ],
            [
             1,
             "#276419"
            ]
           ],
           "sequential": [
            [
             0,
             "#0508b8"
            ],
            [
             0.0893854748603352,
             "#1910d8"
            ],
            [
             0.1787709497206704,
             "#3c19f0"
            ],
            [
             0.2681564245810056,
             "#6b1cfb"
            ],
            [
             0.3575418994413408,
             "#981cfd"
            ],
            [
             0.44692737430167595,
             "#bf1cfd"
            ],
            [
             0.5363128491620112,
             "#dd2bfd"
            ],
            [
             0.6256983240223464,
             "#f246fe"
            ],
            [
             0.7150837988826816,
             "#fc67fd"
            ],
            [
             0.8044692737430168,
             "#fe88fc"
            ],
            [
             0.8938547486033519,
             "#fea5fd"
            ],
            [
             0.9832402234636871,
             "#febefe"
            ],
            [
             1,
             "#fec3fe"
            ]
           ],
           "sequentialminus": [
            [
             0,
             "#0508b8"
            ],
            [
             0.0893854748603352,
             "#1910d8"
            ],
            [
             0.1787709497206704,
             "#3c19f0"
            ],
            [
             0.2681564245810056,
             "#6b1cfb"
            ],
            [
             0.3575418994413408,
             "#981cfd"
            ],
            [
             0.44692737430167595,
             "#bf1cfd"
            ],
            [
             0.5363128491620112,
             "#dd2bfd"
            ],
            [
             0.6256983240223464,
             "#f246fe"
            ],
            [
             0.7150837988826816,
             "#fc67fd"
            ],
            [
             0.8044692737430168,
             "#fe88fc"
            ],
            [
             0.8938547486033519,
             "#fea5fd"
            ],
            [
             0.9832402234636871,
             "#febefe"
            ],
            [
             1,
             "#fec3fe"
            ]
           ]
          },
          "colorway": [
           "#636efa",
           "#EF553B",
           "#00cc96",
           "#ab63fa",
           "#19d3f3",
           "#e763fa",
           "#FECB52",
           "#FFA15A",
           "#FF6692",
           "#B6E880"
          ],
          "font": {
           "color": "#2a3f5f"
          },
          "geo": {
           "bgcolor": "white",
           "lakecolor": "white",
           "landcolor": "#E5ECF6",
           "showlakes": true,
           "showland": true,
           "subunitcolor": "white"
          },
          "hovermode": "closest",
          "mapbox": {
           "style": "light"
          },
          "paper_bgcolor": "white",
          "plot_bgcolor": "#E5ECF6",
          "polar": {
           "angularaxis": {
            "gridcolor": "white",
            "linecolor": "white",
            "ticks": ""
           },
           "bgcolor": "#E5ECF6",
           "radialaxis": {
            "gridcolor": "white",
            "linecolor": "white",
            "ticks": ""
           }
          },
          "scene": {
           "xaxis": {
            "backgroundcolor": "#E5ECF6",
            "gridcolor": "white",
            "gridwidth": 2,
            "linecolor": "white",
            "showbackground": true,
            "ticks": "",
            "zerolinecolor": "white"
           },
           "yaxis": {
            "backgroundcolor": "#E5ECF6",
            "gridcolor": "white",
            "gridwidth": 2,
            "linecolor": "white",
            "showbackground": true,
            "ticks": "",
            "zerolinecolor": "white"
           },
           "zaxis": {
            "backgroundcolor": "#E5ECF6",
            "gridcolor": "white",
            "gridwidth": 2,
            "linecolor": "white",
            "showbackground": true,
            "ticks": "",
            "zerolinecolor": "white"
           }
          },
          "shapedefaults": {
           "fillcolor": "#506784",
           "line": {
            "width": 0
           },
           "opacity": 0.4
          },
          "ternary": {
           "aaxis": {
            "gridcolor": "white",
            "linecolor": "white",
            "ticks": ""
           },
           "baxis": {
            "gridcolor": "white",
            "linecolor": "white",
            "ticks": ""
           },
           "bgcolor": "#E5ECF6",
           "caxis": {
            "gridcolor": "white",
            "linecolor": "white",
            "ticks": ""
           }
          },
          "title": {
           "x": 0.05
          },
          "xaxis": {
           "automargin": true,
           "gridcolor": "white",
           "linecolor": "white",
           "ticks": "",
           "zerolinecolor": "white",
           "zerolinewidth": 2
          },
          "yaxis": {
           "automargin": true,
           "gridcolor": "white",
           "linecolor": "white",
           "ticks": "",
           "zerolinecolor": "white",
           "zerolinewidth": 2
          }
         }
        }
       }
      },
      "text/html": [
       "<div id=\"03257244-a1e5-4fdb-812f-d744ab8ce83e\" style=\"height: 600px; width: 100%;\" class=\"plotly-graph-div\"></div><script type=\"text/javascript\">require([\"plotly\"], function(Plotly) { window.PLOTLYENV=window.PLOTLYENV || {};window.PLOTLYENV.BASE_URL=\"https://plot.ly\";\n",
       "if (document.getElementById(\"03257244-a1e5-4fdb-812f-d744ab8ce83e\")) {\n",
       "    Plotly.newPlot(\"03257244-a1e5-4fdb-812f-d744ab8ce83e\", [{\"hovertemplate\": \"\\u00bfQu\\u00e9 tipo de aplicaciones utilizas en tu ordenador/tableta/m\\u00f3vil? (Respuesta m\\u00faltiple) [2. Aplicaciones de mensajer\\u00eda (Whatsapp, Facebook Messenger, etc.)]=No<br>counts=%{r}<br>cultural_cluster=%{theta}<extra></extra>\", \"legendgroup\": \"\\u00bfQu\\u00e9 tipo de aplicaciones utilizas en tu ordenador/tableta/m\\u00f3vil? (Respuesta m\\u00faltiple) [2. Aplicaciones de mensajer\\u00eda (Whatsapp, Facebook Messenger, etc.)]=No\", \"marker\": {\"color\": \"rgb(213,62,79)\"}, \"name\": \"\\u00bfQu\\u00e9 tipo de aplicaciones utilizas en tu ordenador/tableta/m\\u00f3vil? (Respuesta m\\u00faltiple) [2. Aplicaciones de mensajer\\u00eda (Whatsapp, Facebook Messenger, etc.)]=No\", \"r\": [16, 52, 10, 83], \"showlegend\": true, \"theta\": [\"cluster_1\", \"cluster_2\", \"cluster_3\", \"cluster_4\"], \"type\": \"barpolar\", \"uid\": \"35ac438c-b58b-4c40-a7e3-25310ee9b714\"}, {\"hovertemplate\": \"\\u00bfQu\\u00e9 tipo de aplicaciones utilizas en tu ordenador/tableta/m\\u00f3vil? (Respuesta m\\u00faltiple) [2. Aplicaciones de mensajer\\u00eda (Whatsapp, Facebook Messenger, etc.)]=S\\u00ed<br>counts=%{r}<br>cultural_cluster=%{theta}<extra></extra>\", \"legendgroup\": \"\\u00bfQu\\u00e9 tipo de aplicaciones utilizas en tu ordenador/tableta/m\\u00f3vil? (Respuesta m\\u00faltiple) [2. Aplicaciones de mensajer\\u00eda (Whatsapp, Facebook Messenger, etc.)]=S\\u00ed\", \"marker\": {\"color\": \"rgb(252,141,89)\"}, \"name\": \"\\u00bfQu\\u00e9 tipo de aplicaciones utilizas en tu ordenador/tableta/m\\u00f3vil? (Respuesta m\\u00faltiple) [2. Aplicaciones de mensajer\\u00eda (Whatsapp, Facebook Messenger, etc.)]=S\\u00ed\", \"r\": [207, 249, 17, 132, 1], \"showlegend\": true, \"theta\": [\"cluster_1\", \"cluster_2\", \"cluster_3\", \"cluster_4\", \"cluster_5\"], \"type\": \"barpolar\", \"uid\": \"51287854-0f94-4f4d-94a8-acd754631004\"}], {\"barmode\": \"group\", \"barnorm\": \"\", \"height\": 600, \"legend\": {\"tracegroupgap\": 0}, \"margin\": {\"t\": 60}, \"template\": {\"data\": {\"barpolar\": [{\"marker\": {\"line\": {\"color\": \"#E5ECF6\", \"width\": 0.5}}, \"type\": \"barpolar\"}], \"bar\": [{\"marker\": {\"line\": {\"color\": \"#E5ECF6\", \"width\": 0.5}}, \"type\": \"bar\"}], \"carpet\": [{\"aaxis\": {\"endlinecolor\": \"#2a3f5f\", \"gridcolor\": \"white\", \"linecolor\": \"white\", \"minorgridcolor\": \"white\", \"startlinecolor\": \"#2a3f5f\"}, \"baxis\": {\"endlinecolor\": \"#2a3f5f\", \"gridcolor\": \"white\", \"linecolor\": \"white\", \"minorgridcolor\": \"white\", \"startlinecolor\": \"#2a3f5f\"}, \"type\": \"carpet\"}], \"choropleth\": [{\"colorbar\": {\"outlinewidth\": 0, \"ticks\": \"\"}, \"type\": \"choropleth\"}], \"contourcarpet\": [{\"colorbar\": {\"outlinewidth\": 0, \"ticks\": \"\"}, \"type\": \"contourcarpet\"}], \"contour\": [{\"autocolorscale\": true, \"colorbar\": {\"outlinewidth\": 0, \"ticks\": \"\"}, \"type\": \"contour\"}], \"heatmapgl\": [{\"colorbar\": {\"outlinewidth\": 0, \"ticks\": \"\"}, \"type\": \"heatmapgl\"}], \"heatmap\": [{\"autocolorscale\": true, \"colorbar\": {\"outlinewidth\": 0, \"ticks\": \"\"}, \"type\": \"heatmap\"}], \"histogram2dcontour\": [{\"autocolorscale\": true, \"colorbar\": {\"outlinewidth\": 0, \"ticks\": \"\"}, \"type\": \"histogram2dcontour\"}], \"histogram2d\": [{\"autocolorscale\": true, \"colorbar\": {\"outlinewidth\": 0, \"ticks\": \"\"}, \"type\": \"histogram2d\"}], \"histogram\": [{\"marker\": {\"colorbar\": {\"outlinewidth\": 0, \"ticks\": \"\"}}, \"type\": \"histogram\"}], \"mesh3d\": [{\"colorbar\": {\"outlinewidth\": 0, \"ticks\": \"\"}, \"type\": \"mesh3d\"}], \"parcoords\": [{\"line\": {\"colorbar\": {\"outlinewidth\": 0, \"ticks\": \"\"}}, \"type\": \"parcoords\"}], \"scatter3d\": [{\"marker\": {\"colorbar\": {\"outlinewidth\": 0, \"ticks\": \"\"}}, \"type\": \"scatter3d\"}], \"scattercarpet\": [{\"marker\": {\"colorbar\": {\"outlinewidth\": 0, \"ticks\": \"\"}}, \"type\": \"scattercarpet\"}], \"scattergeo\": [{\"marker\": {\"colorbar\": {\"outlinewidth\": 0, \"ticks\": \"\"}}, \"type\": \"scattergeo\"}], \"scattergl\": [{\"marker\": {\"colorbar\": {\"outlinewidth\": 0, \"ticks\": \"\"}}, \"type\": \"scattergl\"}], \"scattermapbox\": [{\"marker\": {\"colorbar\": {\"outlinewidth\": 0, \"ticks\": \"\"}}, \"type\": \"scattermapbox\"}], \"scatterpolargl\": [{\"marker\": {\"colorbar\": {\"outlinewidth\": 0, \"ticks\": \"\"}}, \"type\": \"scatterpolargl\"}], \"scatterpolar\": [{\"marker\": {\"colorbar\": {\"outlinewidth\": 0, \"ticks\": \"\"}}, \"type\": \"scatterpolar\"}], \"scatter\": [{\"marker\": {\"colorbar\": {\"outlinewidth\": 0, \"ticks\": \"\"}}, \"type\": \"scatter\"}], \"scatterternary\": [{\"marker\": {\"colorbar\": {\"outlinewidth\": 0, \"ticks\": \"\"}}, \"type\": \"scatterternary\"}], \"surface\": [{\"colorbar\": {\"outlinewidth\": 0, \"ticks\": \"\"}, \"type\": \"surface\"}], \"table\": [{\"cells\": {\"fill\": {\"color\": \"#EBF0F8\"}, \"line\": {\"color\": \"white\"}}, \"header\": {\"fill\": {\"color\": \"#C8D4E3\"}, \"line\": {\"color\": \"white\"}}, \"type\": \"table\"}]}, \"layout\": {\"annotationdefaults\": {\"arrowcolor\": \"#506784\", \"arrowhead\": 0, \"arrowwidth\": 1}, \"colorscale\": {\"diverging\": [[0, \"#8e0152\"], [0.1, \"#c51b7d\"], [0.2, \"#de77ae\"], [0.3, \"#f1b6da\"], [0.4, \"#fde0ef\"], [0.5, \"#f7f7f7\"], [0.6, \"#e6f5d0\"], [0.7, \"#b8e186\"], [0.8, \"#7fbc41\"], [0.9, \"#4d9221\"], [1, \"#276419\"]], \"sequential\": [[0.0, \"#0508b8\"], [0.0893854748603352, \"#1910d8\"], [0.1787709497206704, \"#3c19f0\"], [0.2681564245810056, \"#6b1cfb\"], [0.3575418994413408, \"#981cfd\"], [0.44692737430167595, \"#bf1cfd\"], [0.5363128491620112, \"#dd2bfd\"], [0.6256983240223464, \"#f246fe\"], [0.7150837988826816, \"#fc67fd\"], [0.8044692737430168, \"#fe88fc\"], [0.8938547486033519, \"#fea5fd\"], [0.9832402234636871, \"#febefe\"], [1.0, \"#fec3fe\"]], \"sequentialminus\": [[0.0, \"#0508b8\"], [0.0893854748603352, \"#1910d8\"], [0.1787709497206704, \"#3c19f0\"], [0.2681564245810056, \"#6b1cfb\"], [0.3575418994413408, \"#981cfd\"], [0.44692737430167595, \"#bf1cfd\"], [0.5363128491620112, \"#dd2bfd\"], [0.6256983240223464, \"#f246fe\"], [0.7150837988826816, \"#fc67fd\"], [0.8044692737430168, \"#fe88fc\"], [0.8938547486033519, \"#fea5fd\"], [0.9832402234636871, \"#febefe\"], [1.0, \"#fec3fe\"]]}, \"colorway\": [\"#636efa\", \"#EF553B\", \"#00cc96\", \"#ab63fa\", \"#19d3f3\", \"#e763fa\", \"#FECB52\", \"#FFA15A\", \"#FF6692\", \"#B6E880\"], \"font\": {\"color\": \"#2a3f5f\"}, \"geo\": {\"bgcolor\": \"white\", \"lakecolor\": \"white\", \"landcolor\": \"#E5ECF6\", \"showlakes\": true, \"showland\": true, \"subunitcolor\": \"white\"}, \"hovermode\": \"closest\", \"mapbox\": {\"style\": \"light\"}, \"paper_bgcolor\": \"white\", \"plot_bgcolor\": \"#E5ECF6\", \"polar\": {\"angularaxis\": {\"gridcolor\": \"white\", \"linecolor\": \"white\", \"ticks\": \"\"}, \"bgcolor\": \"#E5ECF6\", \"radialaxis\": {\"gridcolor\": \"white\", \"linecolor\": \"white\", \"ticks\": \"\"}}, \"scene\": {\"xaxis\": {\"backgroundcolor\": \"#E5ECF6\", \"gridcolor\": \"white\", \"gridwidth\": 2, \"linecolor\": \"white\", \"showbackground\": true, \"ticks\": \"\", \"zerolinecolor\": \"white\"}, \"yaxis\": {\"backgroundcolor\": \"#E5ECF6\", \"gridcolor\": \"white\", \"gridwidth\": 2, \"linecolor\": \"white\", \"showbackground\": true, \"ticks\": \"\", \"zerolinecolor\": \"white\"}, \"zaxis\": {\"backgroundcolor\": \"#E5ECF6\", \"gridcolor\": \"white\", \"gridwidth\": 2, \"linecolor\": \"white\", \"showbackground\": true, \"ticks\": \"\", \"zerolinecolor\": \"white\"}}, \"shapedefaults\": {\"fillcolor\": \"#506784\", \"line\": {\"width\": 0}, \"opacity\": 0.4}, \"ternary\": {\"aaxis\": {\"gridcolor\": \"white\", \"linecolor\": \"white\", \"ticks\": \"\"}, \"baxis\": {\"gridcolor\": \"white\", \"linecolor\": \"white\", \"ticks\": \"\"}, \"bgcolor\": \"#E5ECF6\", \"caxis\": {\"gridcolor\": \"white\", \"linecolor\": \"white\", \"ticks\": \"\"}}, \"title\": {\"x\": 0.05}, \"xaxis\": {\"automargin\": true, \"gridcolor\": \"white\", \"linecolor\": \"white\", \"ticks\": \"\", \"zerolinecolor\": \"white\", \"zerolinewidth\": 2}, \"yaxis\": {\"automargin\": true, \"gridcolor\": \"white\", \"linecolor\": \"white\", \"ticks\": \"\", \"zerolinecolor\": \"white\", \"zerolinewidth\": 2}}}, \"polar\": {\"angularaxis\": {\"direction\": \"clockwise\", \"rotation\": 90}}}, {\"showLink\": false, \"linkText\": \"Export to plot.ly\", \"plotlyServerURL\": \"https://plot.ly\"}); \n",
       "}\n",
       "});</script><script type=\"text/javascript\">window.addEventListener(\"resize\", function(){if (document.getElementById(\"03257244-a1e5-4fdb-812f-d744ab8ce83e\")) {window._Plotly.Plots.resize(document.getElementById(\"03257244-a1e5-4fdb-812f-d744ab8ce83e\"));};})</script>"
      ],
      "text/vnd.plotly.v1+html": [
       "<div id=\"03257244-a1e5-4fdb-812f-d744ab8ce83e\" style=\"height: 600px; width: 100%;\" class=\"plotly-graph-div\"></div><script type=\"text/javascript\">require([\"plotly\"], function(Plotly) { window.PLOTLYENV=window.PLOTLYENV || {};window.PLOTLYENV.BASE_URL=\"https://plot.ly\";\n",
       "if (document.getElementById(\"03257244-a1e5-4fdb-812f-d744ab8ce83e\")) {\n",
       "    Plotly.newPlot(\"03257244-a1e5-4fdb-812f-d744ab8ce83e\", [{\"hovertemplate\": \"\\u00bfQu\\u00e9 tipo de aplicaciones utilizas en tu ordenador/tableta/m\\u00f3vil? (Respuesta m\\u00faltiple) [2. Aplicaciones de mensajer\\u00eda (Whatsapp, Facebook Messenger, etc.)]=No<br>counts=%{r}<br>cultural_cluster=%{theta}<extra></extra>\", \"legendgroup\": \"\\u00bfQu\\u00e9 tipo de aplicaciones utilizas en tu ordenador/tableta/m\\u00f3vil? (Respuesta m\\u00faltiple) [2. Aplicaciones de mensajer\\u00eda (Whatsapp, Facebook Messenger, etc.)]=No\", \"marker\": {\"color\": \"rgb(213,62,79)\"}, \"name\": \"\\u00bfQu\\u00e9 tipo de aplicaciones utilizas en tu ordenador/tableta/m\\u00f3vil? (Respuesta m\\u00faltiple) [2. Aplicaciones de mensajer\\u00eda (Whatsapp, Facebook Messenger, etc.)]=No\", \"r\": [16, 52, 10, 83], \"showlegend\": true, \"theta\": [\"cluster_1\", \"cluster_2\", \"cluster_3\", \"cluster_4\"], \"type\": \"barpolar\", \"uid\": \"35ac438c-b58b-4c40-a7e3-25310ee9b714\"}, {\"hovertemplate\": \"\\u00bfQu\\u00e9 tipo de aplicaciones utilizas en tu ordenador/tableta/m\\u00f3vil? (Respuesta m\\u00faltiple) [2. Aplicaciones de mensajer\\u00eda (Whatsapp, Facebook Messenger, etc.)]=S\\u00ed<br>counts=%{r}<br>cultural_cluster=%{theta}<extra></extra>\", \"legendgroup\": \"\\u00bfQu\\u00e9 tipo de aplicaciones utilizas en tu ordenador/tableta/m\\u00f3vil? (Respuesta m\\u00faltiple) [2. Aplicaciones de mensajer\\u00eda (Whatsapp, Facebook Messenger, etc.)]=S\\u00ed\", \"marker\": {\"color\": \"rgb(252,141,89)\"}, \"name\": \"\\u00bfQu\\u00e9 tipo de aplicaciones utilizas en tu ordenador/tableta/m\\u00f3vil? (Respuesta m\\u00faltiple) [2. Aplicaciones de mensajer\\u00eda (Whatsapp, Facebook Messenger, etc.)]=S\\u00ed\", \"r\": [207, 249, 17, 132, 1], \"showlegend\": true, \"theta\": [\"cluster_1\", \"cluster_2\", \"cluster_3\", \"cluster_4\", \"cluster_5\"], \"type\": \"barpolar\", \"uid\": \"51287854-0f94-4f4d-94a8-acd754631004\"}], {\"barmode\": \"group\", \"barnorm\": \"\", \"height\": 600, \"legend\": {\"tracegroupgap\": 0}, \"margin\": {\"t\": 60}, \"template\": {\"data\": {\"barpolar\": [{\"marker\": {\"line\": {\"color\": \"#E5ECF6\", \"width\": 0.5}}, \"type\": \"barpolar\"}], \"bar\": [{\"marker\": {\"line\": {\"color\": \"#E5ECF6\", \"width\": 0.5}}, \"type\": \"bar\"}], \"carpet\": [{\"aaxis\": {\"endlinecolor\": \"#2a3f5f\", \"gridcolor\": \"white\", \"linecolor\": \"white\", \"minorgridcolor\": \"white\", \"startlinecolor\": \"#2a3f5f\"}, \"baxis\": {\"endlinecolor\": \"#2a3f5f\", \"gridcolor\": \"white\", \"linecolor\": \"white\", \"minorgridcolor\": \"white\", \"startlinecolor\": \"#2a3f5f\"}, \"type\": \"carpet\"}], \"choropleth\": [{\"colorbar\": {\"outlinewidth\": 0, \"ticks\": \"\"}, \"type\": \"choropleth\"}], \"contourcarpet\": [{\"colorbar\": {\"outlinewidth\": 0, \"ticks\": \"\"}, \"type\": \"contourcarpet\"}], \"contour\": [{\"autocolorscale\": true, \"colorbar\": {\"outlinewidth\": 0, \"ticks\": \"\"}, \"type\": \"contour\"}], \"heatmapgl\": [{\"colorbar\": {\"outlinewidth\": 0, \"ticks\": \"\"}, \"type\": \"heatmapgl\"}], \"heatmap\": [{\"autocolorscale\": true, \"colorbar\": {\"outlinewidth\": 0, \"ticks\": \"\"}, \"type\": \"heatmap\"}], \"histogram2dcontour\": [{\"autocolorscale\": true, \"colorbar\": {\"outlinewidth\": 0, \"ticks\": \"\"}, \"type\": \"histogram2dcontour\"}], \"histogram2d\": [{\"autocolorscale\": true, \"colorbar\": {\"outlinewidth\": 0, \"ticks\": \"\"}, \"type\": \"histogram2d\"}], \"histogram\": [{\"marker\": {\"colorbar\": {\"outlinewidth\": 0, \"ticks\": \"\"}}, \"type\": \"histogram\"}], \"mesh3d\": [{\"colorbar\": {\"outlinewidth\": 0, \"ticks\": \"\"}, \"type\": \"mesh3d\"}], \"parcoords\": [{\"line\": {\"colorbar\": {\"outlinewidth\": 0, \"ticks\": \"\"}}, \"type\": \"parcoords\"}], \"scatter3d\": [{\"marker\": {\"colorbar\": {\"outlinewidth\": 0, \"ticks\": \"\"}}, \"type\": \"scatter3d\"}], \"scattercarpet\": [{\"marker\": {\"colorbar\": {\"outlinewidth\": 0, \"ticks\": \"\"}}, \"type\": \"scattercarpet\"}], \"scattergeo\": [{\"marker\": {\"colorbar\": {\"outlinewidth\": 0, \"ticks\": \"\"}}, \"type\": \"scattergeo\"}], \"scattergl\": [{\"marker\": {\"colorbar\": {\"outlinewidth\": 0, \"ticks\": \"\"}}, \"type\": \"scattergl\"}], \"scattermapbox\": [{\"marker\": {\"colorbar\": {\"outlinewidth\": 0, \"ticks\": \"\"}}, \"type\": \"scattermapbox\"}], \"scatterpolargl\": [{\"marker\": {\"colorbar\": {\"outlinewidth\": 0, \"ticks\": \"\"}}, \"type\": \"scatterpolargl\"}], \"scatterpolar\": [{\"marker\": {\"colorbar\": {\"outlinewidth\": 0, \"ticks\": \"\"}}, \"type\": \"scatterpolar\"}], \"scatter\": [{\"marker\": {\"colorbar\": {\"outlinewidth\": 0, \"ticks\": \"\"}}, \"type\": \"scatter\"}], \"scatterternary\": [{\"marker\": {\"colorbar\": {\"outlinewidth\": 0, \"ticks\": \"\"}}, \"type\": \"scatterternary\"}], \"surface\": [{\"colorbar\": {\"outlinewidth\": 0, \"ticks\": \"\"}, \"type\": \"surface\"}], \"table\": [{\"cells\": {\"fill\": {\"color\": \"#EBF0F8\"}, \"line\": {\"color\": \"white\"}}, \"header\": {\"fill\": {\"color\": \"#C8D4E3\"}, \"line\": {\"color\": \"white\"}}, \"type\": \"table\"}]}, \"layout\": {\"annotationdefaults\": {\"arrowcolor\": \"#506784\", \"arrowhead\": 0, \"arrowwidth\": 1}, \"colorscale\": {\"diverging\": [[0, \"#8e0152\"], [0.1, \"#c51b7d\"], [0.2, \"#de77ae\"], [0.3, \"#f1b6da\"], [0.4, \"#fde0ef\"], [0.5, \"#f7f7f7\"], [0.6, \"#e6f5d0\"], [0.7, \"#b8e186\"], [0.8, \"#7fbc41\"], [0.9, \"#4d9221\"], [1, \"#276419\"]], \"sequential\": [[0.0, \"#0508b8\"], [0.0893854748603352, \"#1910d8\"], [0.1787709497206704, \"#3c19f0\"], [0.2681564245810056, \"#6b1cfb\"], [0.3575418994413408, \"#981cfd\"], [0.44692737430167595, \"#bf1cfd\"], [0.5363128491620112, \"#dd2bfd\"], [0.6256983240223464, \"#f246fe\"], [0.7150837988826816, \"#fc67fd\"], [0.8044692737430168, \"#fe88fc\"], [0.8938547486033519, \"#fea5fd\"], [0.9832402234636871, \"#febefe\"], [1.0, \"#fec3fe\"]], \"sequentialminus\": [[0.0, \"#0508b8\"], [0.0893854748603352, \"#1910d8\"], [0.1787709497206704, \"#3c19f0\"], [0.2681564245810056, \"#6b1cfb\"], [0.3575418994413408, \"#981cfd\"], [0.44692737430167595, \"#bf1cfd\"], [0.5363128491620112, \"#dd2bfd\"], [0.6256983240223464, \"#f246fe\"], [0.7150837988826816, \"#fc67fd\"], [0.8044692737430168, \"#fe88fc\"], [0.8938547486033519, \"#fea5fd\"], [0.9832402234636871, \"#febefe\"], [1.0, \"#fec3fe\"]]}, \"colorway\": [\"#636efa\", \"#EF553B\", \"#00cc96\", \"#ab63fa\", \"#19d3f3\", \"#e763fa\", \"#FECB52\", \"#FFA15A\", \"#FF6692\", \"#B6E880\"], \"font\": {\"color\": \"#2a3f5f\"}, \"geo\": {\"bgcolor\": \"white\", \"lakecolor\": \"white\", \"landcolor\": \"#E5ECF6\", \"showlakes\": true, \"showland\": true, \"subunitcolor\": \"white\"}, \"hovermode\": \"closest\", \"mapbox\": {\"style\": \"light\"}, \"paper_bgcolor\": \"white\", \"plot_bgcolor\": \"#E5ECF6\", \"polar\": {\"angularaxis\": {\"gridcolor\": \"white\", \"linecolor\": \"white\", \"ticks\": \"\"}, \"bgcolor\": \"#E5ECF6\", \"radialaxis\": {\"gridcolor\": \"white\", \"linecolor\": \"white\", \"ticks\": \"\"}}, \"scene\": {\"xaxis\": {\"backgroundcolor\": \"#E5ECF6\", \"gridcolor\": \"white\", \"gridwidth\": 2, \"linecolor\": \"white\", \"showbackground\": true, \"ticks\": \"\", \"zerolinecolor\": \"white\"}, \"yaxis\": {\"backgroundcolor\": \"#E5ECF6\", \"gridcolor\": \"white\", \"gridwidth\": 2, \"linecolor\": \"white\", \"showbackground\": true, \"ticks\": \"\", \"zerolinecolor\": \"white\"}, \"zaxis\": {\"backgroundcolor\": \"#E5ECF6\", \"gridcolor\": \"white\", \"gridwidth\": 2, \"linecolor\": \"white\", \"showbackground\": true, \"ticks\": \"\", \"zerolinecolor\": \"white\"}}, \"shapedefaults\": {\"fillcolor\": \"#506784\", \"line\": {\"width\": 0}, \"opacity\": 0.4}, \"ternary\": {\"aaxis\": {\"gridcolor\": \"white\", \"linecolor\": \"white\", \"ticks\": \"\"}, \"baxis\": {\"gridcolor\": \"white\", \"linecolor\": \"white\", \"ticks\": \"\"}, \"bgcolor\": \"#E5ECF6\", \"caxis\": {\"gridcolor\": \"white\", \"linecolor\": \"white\", \"ticks\": \"\"}}, \"title\": {\"x\": 0.05}, \"xaxis\": {\"automargin\": true, \"gridcolor\": \"white\", \"linecolor\": \"white\", \"ticks\": \"\", \"zerolinecolor\": \"white\", \"zerolinewidth\": 2}, \"yaxis\": {\"automargin\": true, \"gridcolor\": \"white\", \"linecolor\": \"white\", \"ticks\": \"\", \"zerolinecolor\": \"white\", \"zerolinewidth\": 2}}}, \"polar\": {\"angularaxis\": {\"direction\": \"clockwise\", \"rotation\": 90}}}, {\"showLink\": false, \"linkText\": \"Export to plot.ly\", \"plotlyServerURL\": \"https://plot.ly\"}); \n",
       "}\n",
       "});</script><script type=\"text/javascript\">window.addEventListener(\"resize\", function(){if (document.getElementById(\"03257244-a1e5-4fdb-812f-d744ab8ce83e\")) {window._Plotly.Plots.resize(document.getElementById(\"03257244-a1e5-4fdb-812f-d744ab8ce83e\"));};})</script>"
      ]
     },
     "metadata": {},
     "output_type": "display_data"
    },
    {
     "name": "stdout",
     "output_type": "stream",
     "text": [
      "Comparando la pregunta ¿Qué tipo de aplicaciones utilizas en tu ordenador/tableta/móvil? (Respuesta múltiple) [3. Bibliotecas de fotos online (Google Photos, iPhoto, etc.)]\n"
     ]
    },
    {
     "data": {
      "application/vnd.plotly.v1+json": {
       "config": {
        "linkText": "Export to plot.ly",
        "plotlyServerURL": "https://plot.ly",
        "showLink": false
       },
       "data": [
        {
         "hovertemplate": "¿Qué tipo de aplicaciones utilizas en tu ordenador/tableta/móvil? (Respuesta múltiple) [3. Bibliotecas de fotos online (Google Photos, iPhoto, etc.)]=No<br>counts=%{r}<br>cultural_cluster=%{theta}<extra></extra>",
         "legendgroup": "¿Qué tipo de aplicaciones utilizas en tu ordenador/tableta/móvil? (Respuesta múltiple) [3. Bibliotecas de fotos online (Google Photos, iPhoto, etc.)]=No",
         "marker": {
          "color": "rgb(213,62,79)"
         },
         "name": "¿Qué tipo de aplicaciones utilizas en tu ordenador/tableta/móvil? (Respuesta múltiple) [3. Bibliotecas de fotos online (Google Photos, iPhoto, etc.)]=No",
         "r": [
          98,
          130,
          15,
          142,
          1
         ],
         "showlegend": true,
         "theta": [
          "cluster_1",
          "cluster_2",
          "cluster_3",
          "cluster_4",
          "cluster_5"
         ],
         "type": "barpolar",
         "uid": "1160a9b1-84ff-4a90-857f-fa60fbeb86a8"
        },
        {
         "hovertemplate": "¿Qué tipo de aplicaciones utilizas en tu ordenador/tableta/móvil? (Respuesta múltiple) [3. Bibliotecas de fotos online (Google Photos, iPhoto, etc.)]=Sí<br>counts=%{r}<br>cultural_cluster=%{theta}<extra></extra>",
         "legendgroup": "¿Qué tipo de aplicaciones utilizas en tu ordenador/tableta/móvil? (Respuesta múltiple) [3. Bibliotecas de fotos online (Google Photos, iPhoto, etc.)]=Sí",
         "marker": {
          "color": "rgb(252,141,89)"
         },
         "name": "¿Qué tipo de aplicaciones utilizas en tu ordenador/tableta/móvil? (Respuesta múltiple) [3. Bibliotecas de fotos online (Google Photos, iPhoto, etc.)]=Sí",
         "r": [
          125,
          171,
          12,
          73
         ],
         "showlegend": true,
         "theta": [
          "cluster_1",
          "cluster_2",
          "cluster_3",
          "cluster_4"
         ],
         "type": "barpolar",
         "uid": "ddb9b818-e8dc-4fd3-9b86-f7fb60055157"
        }
       ],
       "layout": {
        "barmode": "group",
        "barnorm": "",
        "height": 600,
        "legend": {
         "tracegroupgap": 0
        },
        "margin": {
         "t": 60
        },
        "polar": {
         "angularaxis": {
          "direction": "clockwise",
          "rotation": 90
         }
        },
        "template": {
         "data": {
          "bar": [
           {
            "marker": {
             "line": {
              "color": "#E5ECF6",
              "width": 0.5
             }
            },
            "type": "bar"
           }
          ],
          "barpolar": [
           {
            "marker": {
             "line": {
              "color": "#E5ECF6",
              "width": 0.5
             }
            },
            "type": "barpolar"
           }
          ],
          "carpet": [
           {
            "aaxis": {
             "endlinecolor": "#2a3f5f",
             "gridcolor": "white",
             "linecolor": "white",
             "minorgridcolor": "white",
             "startlinecolor": "#2a3f5f"
            },
            "baxis": {
             "endlinecolor": "#2a3f5f",
             "gridcolor": "white",
             "linecolor": "white",
             "minorgridcolor": "white",
             "startlinecolor": "#2a3f5f"
            },
            "type": "carpet"
           }
          ],
          "choropleth": [
           {
            "colorbar": {
             "outlinewidth": 0,
             "ticks": ""
            },
            "type": "choropleth"
           }
          ],
          "contour": [
           {
            "autocolorscale": true,
            "colorbar": {
             "outlinewidth": 0,
             "ticks": ""
            },
            "type": "contour"
           }
          ],
          "contourcarpet": [
           {
            "colorbar": {
             "outlinewidth": 0,
             "ticks": ""
            },
            "type": "contourcarpet"
           }
          ],
          "heatmap": [
           {
            "autocolorscale": true,
            "colorbar": {
             "outlinewidth": 0,
             "ticks": ""
            },
            "type": "heatmap"
           }
          ],
          "heatmapgl": [
           {
            "colorbar": {
             "outlinewidth": 0,
             "ticks": ""
            },
            "type": "heatmapgl"
           }
          ],
          "histogram": [
           {
            "marker": {
             "colorbar": {
              "outlinewidth": 0,
              "ticks": ""
             }
            },
            "type": "histogram"
           }
          ],
          "histogram2d": [
           {
            "autocolorscale": true,
            "colorbar": {
             "outlinewidth": 0,
             "ticks": ""
            },
            "type": "histogram2d"
           }
          ],
          "histogram2dcontour": [
           {
            "autocolorscale": true,
            "colorbar": {
             "outlinewidth": 0,
             "ticks": ""
            },
            "type": "histogram2dcontour"
           }
          ],
          "mesh3d": [
           {
            "colorbar": {
             "outlinewidth": 0,
             "ticks": ""
            },
            "type": "mesh3d"
           }
          ],
          "parcoords": [
           {
            "line": {
             "colorbar": {
              "outlinewidth": 0,
              "ticks": ""
             }
            },
            "type": "parcoords"
           }
          ],
          "scatter": [
           {
            "marker": {
             "colorbar": {
              "outlinewidth": 0,
              "ticks": ""
             }
            },
            "type": "scatter"
           }
          ],
          "scatter3d": [
           {
            "marker": {
             "colorbar": {
              "outlinewidth": 0,
              "ticks": ""
             }
            },
            "type": "scatter3d"
           }
          ],
          "scattercarpet": [
           {
            "marker": {
             "colorbar": {
              "outlinewidth": 0,
              "ticks": ""
             }
            },
            "type": "scattercarpet"
           }
          ],
          "scattergeo": [
           {
            "marker": {
             "colorbar": {
              "outlinewidth": 0,
              "ticks": ""
             }
            },
            "type": "scattergeo"
           }
          ],
          "scattergl": [
           {
            "marker": {
             "colorbar": {
              "outlinewidth": 0,
              "ticks": ""
             }
            },
            "type": "scattergl"
           }
          ],
          "scattermapbox": [
           {
            "marker": {
             "colorbar": {
              "outlinewidth": 0,
              "ticks": ""
             }
            },
            "type": "scattermapbox"
           }
          ],
          "scatterpolar": [
           {
            "marker": {
             "colorbar": {
              "outlinewidth": 0,
              "ticks": ""
             }
            },
            "type": "scatterpolar"
           }
          ],
          "scatterpolargl": [
           {
            "marker": {
             "colorbar": {
              "outlinewidth": 0,
              "ticks": ""
             }
            },
            "type": "scatterpolargl"
           }
          ],
          "scatterternary": [
           {
            "marker": {
             "colorbar": {
              "outlinewidth": 0,
              "ticks": ""
             }
            },
            "type": "scatterternary"
           }
          ],
          "surface": [
           {
            "colorbar": {
             "outlinewidth": 0,
             "ticks": ""
            },
            "type": "surface"
           }
          ],
          "table": [
           {
            "cells": {
             "fill": {
              "color": "#EBF0F8"
             },
             "line": {
              "color": "white"
             }
            },
            "header": {
             "fill": {
              "color": "#C8D4E3"
             },
             "line": {
              "color": "white"
             }
            },
            "type": "table"
           }
          ]
         },
         "layout": {
          "annotationdefaults": {
           "arrowcolor": "#506784",
           "arrowhead": 0,
           "arrowwidth": 1
          },
          "colorscale": {
           "diverging": [
            [
             0,
             "#8e0152"
            ],
            [
             0.1,
             "#c51b7d"
            ],
            [
             0.2,
             "#de77ae"
            ],
            [
             0.3,
             "#f1b6da"
            ],
            [
             0.4,
             "#fde0ef"
            ],
            [
             0.5,
             "#f7f7f7"
            ],
            [
             0.6,
             "#e6f5d0"
            ],
            [
             0.7,
             "#b8e186"
            ],
            [
             0.8,
             "#7fbc41"
            ],
            [
             0.9,
             "#4d9221"
            ],
            [
             1,
             "#276419"
            ]
           ],
           "sequential": [
            [
             0,
             "#0508b8"
            ],
            [
             0.0893854748603352,
             "#1910d8"
            ],
            [
             0.1787709497206704,
             "#3c19f0"
            ],
            [
             0.2681564245810056,
             "#6b1cfb"
            ],
            [
             0.3575418994413408,
             "#981cfd"
            ],
            [
             0.44692737430167595,
             "#bf1cfd"
            ],
            [
             0.5363128491620112,
             "#dd2bfd"
            ],
            [
             0.6256983240223464,
             "#f246fe"
            ],
            [
             0.7150837988826816,
             "#fc67fd"
            ],
            [
             0.8044692737430168,
             "#fe88fc"
            ],
            [
             0.8938547486033519,
             "#fea5fd"
            ],
            [
             0.9832402234636871,
             "#febefe"
            ],
            [
             1,
             "#fec3fe"
            ]
           ],
           "sequentialminus": [
            [
             0,
             "#0508b8"
            ],
            [
             0.0893854748603352,
             "#1910d8"
            ],
            [
             0.1787709497206704,
             "#3c19f0"
            ],
            [
             0.2681564245810056,
             "#6b1cfb"
            ],
            [
             0.3575418994413408,
             "#981cfd"
            ],
            [
             0.44692737430167595,
             "#bf1cfd"
            ],
            [
             0.5363128491620112,
             "#dd2bfd"
            ],
            [
             0.6256983240223464,
             "#f246fe"
            ],
            [
             0.7150837988826816,
             "#fc67fd"
            ],
            [
             0.8044692737430168,
             "#fe88fc"
            ],
            [
             0.8938547486033519,
             "#fea5fd"
            ],
            [
             0.9832402234636871,
             "#febefe"
            ],
            [
             1,
             "#fec3fe"
            ]
           ]
          },
          "colorway": [
           "#636efa",
           "#EF553B",
           "#00cc96",
           "#ab63fa",
           "#19d3f3",
           "#e763fa",
           "#FECB52",
           "#FFA15A",
           "#FF6692",
           "#B6E880"
          ],
          "font": {
           "color": "#2a3f5f"
          },
          "geo": {
           "bgcolor": "white",
           "lakecolor": "white",
           "landcolor": "#E5ECF6",
           "showlakes": true,
           "showland": true,
           "subunitcolor": "white"
          },
          "hovermode": "closest",
          "mapbox": {
           "style": "light"
          },
          "paper_bgcolor": "white",
          "plot_bgcolor": "#E5ECF6",
          "polar": {
           "angularaxis": {
            "gridcolor": "white",
            "linecolor": "white",
            "ticks": ""
           },
           "bgcolor": "#E5ECF6",
           "radialaxis": {
            "gridcolor": "white",
            "linecolor": "white",
            "ticks": ""
           }
          },
          "scene": {
           "xaxis": {
            "backgroundcolor": "#E5ECF6",
            "gridcolor": "white",
            "gridwidth": 2,
            "linecolor": "white",
            "showbackground": true,
            "ticks": "",
            "zerolinecolor": "white"
           },
           "yaxis": {
            "backgroundcolor": "#E5ECF6",
            "gridcolor": "white",
            "gridwidth": 2,
            "linecolor": "white",
            "showbackground": true,
            "ticks": "",
            "zerolinecolor": "white"
           },
           "zaxis": {
            "backgroundcolor": "#E5ECF6",
            "gridcolor": "white",
            "gridwidth": 2,
            "linecolor": "white",
            "showbackground": true,
            "ticks": "",
            "zerolinecolor": "white"
           }
          },
          "shapedefaults": {
           "fillcolor": "#506784",
           "line": {
            "width": 0
           },
           "opacity": 0.4
          },
          "ternary": {
           "aaxis": {
            "gridcolor": "white",
            "linecolor": "white",
            "ticks": ""
           },
           "baxis": {
            "gridcolor": "white",
            "linecolor": "white",
            "ticks": ""
           },
           "bgcolor": "#E5ECF6",
           "caxis": {
            "gridcolor": "white",
            "linecolor": "white",
            "ticks": ""
           }
          },
          "title": {
           "x": 0.05
          },
          "xaxis": {
           "automargin": true,
           "gridcolor": "white",
           "linecolor": "white",
           "ticks": "",
           "zerolinecolor": "white",
           "zerolinewidth": 2
          },
          "yaxis": {
           "automargin": true,
           "gridcolor": "white",
           "linecolor": "white",
           "ticks": "",
           "zerolinecolor": "white",
           "zerolinewidth": 2
          }
         }
        }
       }
      },
      "text/html": [
       "<div id=\"d80cab3d-8c95-48ef-b8e2-272fd7ed0ad0\" style=\"height: 600px; width: 100%;\" class=\"plotly-graph-div\"></div><script type=\"text/javascript\">require([\"plotly\"], function(Plotly) { window.PLOTLYENV=window.PLOTLYENV || {};window.PLOTLYENV.BASE_URL=\"https://plot.ly\";\n",
       "if (document.getElementById(\"d80cab3d-8c95-48ef-b8e2-272fd7ed0ad0\")) {\n",
       "    Plotly.newPlot(\"d80cab3d-8c95-48ef-b8e2-272fd7ed0ad0\", [{\"hovertemplate\": \"\\u00bfQu\\u00e9 tipo de aplicaciones utilizas en tu ordenador/tableta/m\\u00f3vil? (Respuesta m\\u00faltiple) [3. Bibliotecas de fotos online (Google Photos, iPhoto, etc.)]=No<br>counts=%{r}<br>cultural_cluster=%{theta}<extra></extra>\", \"legendgroup\": \"\\u00bfQu\\u00e9 tipo de aplicaciones utilizas en tu ordenador/tableta/m\\u00f3vil? (Respuesta m\\u00faltiple) [3. Bibliotecas de fotos online (Google Photos, iPhoto, etc.)]=No\", \"marker\": {\"color\": \"rgb(213,62,79)\"}, \"name\": \"\\u00bfQu\\u00e9 tipo de aplicaciones utilizas en tu ordenador/tableta/m\\u00f3vil? (Respuesta m\\u00faltiple) [3. Bibliotecas de fotos online (Google Photos, iPhoto, etc.)]=No\", \"r\": [98, 130, 15, 142, 1], \"showlegend\": true, \"theta\": [\"cluster_1\", \"cluster_2\", \"cluster_3\", \"cluster_4\", \"cluster_5\"], \"type\": \"barpolar\", \"uid\": \"1160a9b1-84ff-4a90-857f-fa60fbeb86a8\"}, {\"hovertemplate\": \"\\u00bfQu\\u00e9 tipo de aplicaciones utilizas en tu ordenador/tableta/m\\u00f3vil? (Respuesta m\\u00faltiple) [3. Bibliotecas de fotos online (Google Photos, iPhoto, etc.)]=S\\u00ed<br>counts=%{r}<br>cultural_cluster=%{theta}<extra></extra>\", \"legendgroup\": \"\\u00bfQu\\u00e9 tipo de aplicaciones utilizas en tu ordenador/tableta/m\\u00f3vil? (Respuesta m\\u00faltiple) [3. Bibliotecas de fotos online (Google Photos, iPhoto, etc.)]=S\\u00ed\", \"marker\": {\"color\": \"rgb(252,141,89)\"}, \"name\": \"\\u00bfQu\\u00e9 tipo de aplicaciones utilizas en tu ordenador/tableta/m\\u00f3vil? (Respuesta m\\u00faltiple) [3. Bibliotecas de fotos online (Google Photos, iPhoto, etc.)]=S\\u00ed\", \"r\": [125, 171, 12, 73], \"showlegend\": true, \"theta\": [\"cluster_1\", \"cluster_2\", \"cluster_3\", \"cluster_4\"], \"type\": \"barpolar\", \"uid\": \"ddb9b818-e8dc-4fd3-9b86-f7fb60055157\"}], {\"barmode\": \"group\", \"barnorm\": \"\", \"height\": 600, \"legend\": {\"tracegroupgap\": 0}, \"margin\": {\"t\": 60}, \"template\": {\"data\": {\"barpolar\": [{\"marker\": {\"line\": {\"color\": \"#E5ECF6\", \"width\": 0.5}}, \"type\": \"barpolar\"}], \"bar\": [{\"marker\": {\"line\": {\"color\": \"#E5ECF6\", \"width\": 0.5}}, \"type\": \"bar\"}], \"carpet\": [{\"aaxis\": {\"endlinecolor\": \"#2a3f5f\", \"gridcolor\": \"white\", \"linecolor\": \"white\", \"minorgridcolor\": \"white\", \"startlinecolor\": \"#2a3f5f\"}, \"baxis\": {\"endlinecolor\": \"#2a3f5f\", \"gridcolor\": \"white\", \"linecolor\": \"white\", \"minorgridcolor\": \"white\", \"startlinecolor\": \"#2a3f5f\"}, \"type\": \"carpet\"}], \"choropleth\": [{\"colorbar\": {\"outlinewidth\": 0, \"ticks\": \"\"}, \"type\": \"choropleth\"}], \"contourcarpet\": [{\"colorbar\": {\"outlinewidth\": 0, \"ticks\": \"\"}, \"type\": \"contourcarpet\"}], \"contour\": [{\"autocolorscale\": true, \"colorbar\": {\"outlinewidth\": 0, \"ticks\": \"\"}, \"type\": \"contour\"}], \"heatmapgl\": [{\"colorbar\": {\"outlinewidth\": 0, \"ticks\": \"\"}, \"type\": \"heatmapgl\"}], \"heatmap\": [{\"autocolorscale\": true, \"colorbar\": {\"outlinewidth\": 0, \"ticks\": \"\"}, \"type\": \"heatmap\"}], \"histogram2dcontour\": [{\"autocolorscale\": true, \"colorbar\": {\"outlinewidth\": 0, \"ticks\": \"\"}, \"type\": \"histogram2dcontour\"}], \"histogram2d\": [{\"autocolorscale\": true, \"colorbar\": {\"outlinewidth\": 0, \"ticks\": \"\"}, \"type\": \"histogram2d\"}], \"histogram\": [{\"marker\": {\"colorbar\": {\"outlinewidth\": 0, \"ticks\": \"\"}}, \"type\": \"histogram\"}], \"mesh3d\": [{\"colorbar\": {\"outlinewidth\": 0, \"ticks\": \"\"}, \"type\": \"mesh3d\"}], \"parcoords\": [{\"line\": {\"colorbar\": {\"outlinewidth\": 0, \"ticks\": \"\"}}, \"type\": \"parcoords\"}], \"scatter3d\": [{\"marker\": {\"colorbar\": {\"outlinewidth\": 0, \"ticks\": \"\"}}, \"type\": \"scatter3d\"}], \"scattercarpet\": [{\"marker\": {\"colorbar\": {\"outlinewidth\": 0, \"ticks\": \"\"}}, \"type\": \"scattercarpet\"}], \"scattergeo\": [{\"marker\": {\"colorbar\": {\"outlinewidth\": 0, \"ticks\": \"\"}}, \"type\": \"scattergeo\"}], \"scattergl\": [{\"marker\": {\"colorbar\": {\"outlinewidth\": 0, \"ticks\": \"\"}}, \"type\": \"scattergl\"}], \"scattermapbox\": [{\"marker\": {\"colorbar\": {\"outlinewidth\": 0, \"ticks\": \"\"}}, \"type\": \"scattermapbox\"}], \"scatterpolargl\": [{\"marker\": {\"colorbar\": {\"outlinewidth\": 0, \"ticks\": \"\"}}, \"type\": \"scatterpolargl\"}], \"scatterpolar\": [{\"marker\": {\"colorbar\": {\"outlinewidth\": 0, \"ticks\": \"\"}}, \"type\": \"scatterpolar\"}], \"scatter\": [{\"marker\": {\"colorbar\": {\"outlinewidth\": 0, \"ticks\": \"\"}}, \"type\": \"scatter\"}], \"scatterternary\": [{\"marker\": {\"colorbar\": {\"outlinewidth\": 0, \"ticks\": \"\"}}, \"type\": \"scatterternary\"}], \"surface\": [{\"colorbar\": {\"outlinewidth\": 0, \"ticks\": \"\"}, \"type\": \"surface\"}], \"table\": [{\"cells\": {\"fill\": {\"color\": \"#EBF0F8\"}, \"line\": {\"color\": \"white\"}}, \"header\": {\"fill\": {\"color\": \"#C8D4E3\"}, \"line\": {\"color\": \"white\"}}, \"type\": \"table\"}]}, \"layout\": {\"annotationdefaults\": {\"arrowcolor\": \"#506784\", \"arrowhead\": 0, \"arrowwidth\": 1}, \"colorscale\": {\"diverging\": [[0, \"#8e0152\"], [0.1, \"#c51b7d\"], [0.2, \"#de77ae\"], [0.3, \"#f1b6da\"], [0.4, \"#fde0ef\"], [0.5, \"#f7f7f7\"], [0.6, \"#e6f5d0\"], [0.7, \"#b8e186\"], [0.8, \"#7fbc41\"], [0.9, \"#4d9221\"], [1, \"#276419\"]], \"sequential\": [[0.0, \"#0508b8\"], [0.0893854748603352, \"#1910d8\"], [0.1787709497206704, \"#3c19f0\"], [0.2681564245810056, \"#6b1cfb\"], [0.3575418994413408, \"#981cfd\"], [0.44692737430167595, \"#bf1cfd\"], [0.5363128491620112, \"#dd2bfd\"], [0.6256983240223464, \"#f246fe\"], [0.7150837988826816, \"#fc67fd\"], [0.8044692737430168, \"#fe88fc\"], [0.8938547486033519, \"#fea5fd\"], [0.9832402234636871, \"#febefe\"], [1.0, \"#fec3fe\"]], \"sequentialminus\": [[0.0, \"#0508b8\"], [0.0893854748603352, \"#1910d8\"], [0.1787709497206704, \"#3c19f0\"], [0.2681564245810056, \"#6b1cfb\"], [0.3575418994413408, \"#981cfd\"], [0.44692737430167595, \"#bf1cfd\"], [0.5363128491620112, \"#dd2bfd\"], [0.6256983240223464, \"#f246fe\"], [0.7150837988826816, \"#fc67fd\"], [0.8044692737430168, \"#fe88fc\"], [0.8938547486033519, \"#fea5fd\"], [0.9832402234636871, \"#febefe\"], [1.0, \"#fec3fe\"]]}, \"colorway\": [\"#636efa\", \"#EF553B\", \"#00cc96\", \"#ab63fa\", \"#19d3f3\", \"#e763fa\", \"#FECB52\", \"#FFA15A\", \"#FF6692\", \"#B6E880\"], \"font\": {\"color\": \"#2a3f5f\"}, \"geo\": {\"bgcolor\": \"white\", \"lakecolor\": \"white\", \"landcolor\": \"#E5ECF6\", \"showlakes\": true, \"showland\": true, \"subunitcolor\": \"white\"}, \"hovermode\": \"closest\", \"mapbox\": {\"style\": \"light\"}, \"paper_bgcolor\": \"white\", \"plot_bgcolor\": \"#E5ECF6\", \"polar\": {\"angularaxis\": {\"gridcolor\": \"white\", \"linecolor\": \"white\", \"ticks\": \"\"}, \"bgcolor\": \"#E5ECF6\", \"radialaxis\": {\"gridcolor\": \"white\", \"linecolor\": \"white\", \"ticks\": \"\"}}, \"scene\": {\"xaxis\": {\"backgroundcolor\": \"#E5ECF6\", \"gridcolor\": \"white\", \"gridwidth\": 2, \"linecolor\": \"white\", \"showbackground\": true, \"ticks\": \"\", \"zerolinecolor\": \"white\"}, \"yaxis\": {\"backgroundcolor\": \"#E5ECF6\", \"gridcolor\": \"white\", \"gridwidth\": 2, \"linecolor\": \"white\", \"showbackground\": true, \"ticks\": \"\", \"zerolinecolor\": \"white\"}, \"zaxis\": {\"backgroundcolor\": \"#E5ECF6\", \"gridcolor\": \"white\", \"gridwidth\": 2, \"linecolor\": \"white\", \"showbackground\": true, \"ticks\": \"\", \"zerolinecolor\": \"white\"}}, \"shapedefaults\": {\"fillcolor\": \"#506784\", \"line\": {\"width\": 0}, \"opacity\": 0.4}, \"ternary\": {\"aaxis\": {\"gridcolor\": \"white\", \"linecolor\": \"white\", \"ticks\": \"\"}, \"baxis\": {\"gridcolor\": \"white\", \"linecolor\": \"white\", \"ticks\": \"\"}, \"bgcolor\": \"#E5ECF6\", \"caxis\": {\"gridcolor\": \"white\", \"linecolor\": \"white\", \"ticks\": \"\"}}, \"title\": {\"x\": 0.05}, \"xaxis\": {\"automargin\": true, \"gridcolor\": \"white\", \"linecolor\": \"white\", \"ticks\": \"\", \"zerolinecolor\": \"white\", \"zerolinewidth\": 2}, \"yaxis\": {\"automargin\": true, \"gridcolor\": \"white\", \"linecolor\": \"white\", \"ticks\": \"\", \"zerolinecolor\": \"white\", \"zerolinewidth\": 2}}}, \"polar\": {\"angularaxis\": {\"direction\": \"clockwise\", \"rotation\": 90}}}, {\"showLink\": false, \"linkText\": \"Export to plot.ly\", \"plotlyServerURL\": \"https://plot.ly\"}); \n",
       "}\n",
       "});</script><script type=\"text/javascript\">window.addEventListener(\"resize\", function(){if (document.getElementById(\"d80cab3d-8c95-48ef-b8e2-272fd7ed0ad0\")) {window._Plotly.Plots.resize(document.getElementById(\"d80cab3d-8c95-48ef-b8e2-272fd7ed0ad0\"));};})</script>"
      ],
      "text/vnd.plotly.v1+html": [
       "<div id=\"d80cab3d-8c95-48ef-b8e2-272fd7ed0ad0\" style=\"height: 600px; width: 100%;\" class=\"plotly-graph-div\"></div><script type=\"text/javascript\">require([\"plotly\"], function(Plotly) { window.PLOTLYENV=window.PLOTLYENV || {};window.PLOTLYENV.BASE_URL=\"https://plot.ly\";\n",
       "if (document.getElementById(\"d80cab3d-8c95-48ef-b8e2-272fd7ed0ad0\")) {\n",
       "    Plotly.newPlot(\"d80cab3d-8c95-48ef-b8e2-272fd7ed0ad0\", [{\"hovertemplate\": \"\\u00bfQu\\u00e9 tipo de aplicaciones utilizas en tu ordenador/tableta/m\\u00f3vil? (Respuesta m\\u00faltiple) [3. Bibliotecas de fotos online (Google Photos, iPhoto, etc.)]=No<br>counts=%{r}<br>cultural_cluster=%{theta}<extra></extra>\", \"legendgroup\": \"\\u00bfQu\\u00e9 tipo de aplicaciones utilizas en tu ordenador/tableta/m\\u00f3vil? (Respuesta m\\u00faltiple) [3. Bibliotecas de fotos online (Google Photos, iPhoto, etc.)]=No\", \"marker\": {\"color\": \"rgb(213,62,79)\"}, \"name\": \"\\u00bfQu\\u00e9 tipo de aplicaciones utilizas en tu ordenador/tableta/m\\u00f3vil? (Respuesta m\\u00faltiple) [3. Bibliotecas de fotos online (Google Photos, iPhoto, etc.)]=No\", \"r\": [98, 130, 15, 142, 1], \"showlegend\": true, \"theta\": [\"cluster_1\", \"cluster_2\", \"cluster_3\", \"cluster_4\", \"cluster_5\"], \"type\": \"barpolar\", \"uid\": \"1160a9b1-84ff-4a90-857f-fa60fbeb86a8\"}, {\"hovertemplate\": \"\\u00bfQu\\u00e9 tipo de aplicaciones utilizas en tu ordenador/tableta/m\\u00f3vil? (Respuesta m\\u00faltiple) [3. Bibliotecas de fotos online (Google Photos, iPhoto, etc.)]=S\\u00ed<br>counts=%{r}<br>cultural_cluster=%{theta}<extra></extra>\", \"legendgroup\": \"\\u00bfQu\\u00e9 tipo de aplicaciones utilizas en tu ordenador/tableta/m\\u00f3vil? (Respuesta m\\u00faltiple) [3. Bibliotecas de fotos online (Google Photos, iPhoto, etc.)]=S\\u00ed\", \"marker\": {\"color\": \"rgb(252,141,89)\"}, \"name\": \"\\u00bfQu\\u00e9 tipo de aplicaciones utilizas en tu ordenador/tableta/m\\u00f3vil? (Respuesta m\\u00faltiple) [3. Bibliotecas de fotos online (Google Photos, iPhoto, etc.)]=S\\u00ed\", \"r\": [125, 171, 12, 73], \"showlegend\": true, \"theta\": [\"cluster_1\", \"cluster_2\", \"cluster_3\", \"cluster_4\"], \"type\": \"barpolar\", \"uid\": \"ddb9b818-e8dc-4fd3-9b86-f7fb60055157\"}], {\"barmode\": \"group\", \"barnorm\": \"\", \"height\": 600, \"legend\": {\"tracegroupgap\": 0}, \"margin\": {\"t\": 60}, \"template\": {\"data\": {\"barpolar\": [{\"marker\": {\"line\": {\"color\": \"#E5ECF6\", \"width\": 0.5}}, \"type\": \"barpolar\"}], \"bar\": [{\"marker\": {\"line\": {\"color\": \"#E5ECF6\", \"width\": 0.5}}, \"type\": \"bar\"}], \"carpet\": [{\"aaxis\": {\"endlinecolor\": \"#2a3f5f\", \"gridcolor\": \"white\", \"linecolor\": \"white\", \"minorgridcolor\": \"white\", \"startlinecolor\": \"#2a3f5f\"}, \"baxis\": {\"endlinecolor\": \"#2a3f5f\", \"gridcolor\": \"white\", \"linecolor\": \"white\", \"minorgridcolor\": \"white\", \"startlinecolor\": \"#2a3f5f\"}, \"type\": \"carpet\"}], \"choropleth\": [{\"colorbar\": {\"outlinewidth\": 0, \"ticks\": \"\"}, \"type\": \"choropleth\"}], \"contourcarpet\": [{\"colorbar\": {\"outlinewidth\": 0, \"ticks\": \"\"}, \"type\": \"contourcarpet\"}], \"contour\": [{\"autocolorscale\": true, \"colorbar\": {\"outlinewidth\": 0, \"ticks\": \"\"}, \"type\": \"contour\"}], \"heatmapgl\": [{\"colorbar\": {\"outlinewidth\": 0, \"ticks\": \"\"}, \"type\": \"heatmapgl\"}], \"heatmap\": [{\"autocolorscale\": true, \"colorbar\": {\"outlinewidth\": 0, \"ticks\": \"\"}, \"type\": \"heatmap\"}], \"histogram2dcontour\": [{\"autocolorscale\": true, \"colorbar\": {\"outlinewidth\": 0, \"ticks\": \"\"}, \"type\": \"histogram2dcontour\"}], \"histogram2d\": [{\"autocolorscale\": true, \"colorbar\": {\"outlinewidth\": 0, \"ticks\": \"\"}, \"type\": \"histogram2d\"}], \"histogram\": [{\"marker\": {\"colorbar\": {\"outlinewidth\": 0, \"ticks\": \"\"}}, \"type\": \"histogram\"}], \"mesh3d\": [{\"colorbar\": {\"outlinewidth\": 0, \"ticks\": \"\"}, \"type\": \"mesh3d\"}], \"parcoords\": [{\"line\": {\"colorbar\": {\"outlinewidth\": 0, \"ticks\": \"\"}}, \"type\": \"parcoords\"}], \"scatter3d\": [{\"marker\": {\"colorbar\": {\"outlinewidth\": 0, \"ticks\": \"\"}}, \"type\": \"scatter3d\"}], \"scattercarpet\": [{\"marker\": {\"colorbar\": {\"outlinewidth\": 0, \"ticks\": \"\"}}, \"type\": \"scattercarpet\"}], \"scattergeo\": [{\"marker\": {\"colorbar\": {\"outlinewidth\": 0, \"ticks\": \"\"}}, \"type\": \"scattergeo\"}], \"scattergl\": [{\"marker\": {\"colorbar\": {\"outlinewidth\": 0, \"ticks\": \"\"}}, \"type\": \"scattergl\"}], \"scattermapbox\": [{\"marker\": {\"colorbar\": {\"outlinewidth\": 0, \"ticks\": \"\"}}, \"type\": \"scattermapbox\"}], \"scatterpolargl\": [{\"marker\": {\"colorbar\": {\"outlinewidth\": 0, \"ticks\": \"\"}}, \"type\": \"scatterpolargl\"}], \"scatterpolar\": [{\"marker\": {\"colorbar\": {\"outlinewidth\": 0, \"ticks\": \"\"}}, \"type\": \"scatterpolar\"}], \"scatter\": [{\"marker\": {\"colorbar\": {\"outlinewidth\": 0, \"ticks\": \"\"}}, \"type\": \"scatter\"}], \"scatterternary\": [{\"marker\": {\"colorbar\": {\"outlinewidth\": 0, \"ticks\": \"\"}}, \"type\": \"scatterternary\"}], \"surface\": [{\"colorbar\": {\"outlinewidth\": 0, \"ticks\": \"\"}, \"type\": \"surface\"}], \"table\": [{\"cells\": {\"fill\": {\"color\": \"#EBF0F8\"}, \"line\": {\"color\": \"white\"}}, \"header\": {\"fill\": {\"color\": \"#C8D4E3\"}, \"line\": {\"color\": \"white\"}}, \"type\": \"table\"}]}, \"layout\": {\"annotationdefaults\": {\"arrowcolor\": \"#506784\", \"arrowhead\": 0, \"arrowwidth\": 1}, \"colorscale\": {\"diverging\": [[0, \"#8e0152\"], [0.1, \"#c51b7d\"], [0.2, \"#de77ae\"], [0.3, \"#f1b6da\"], [0.4, \"#fde0ef\"], [0.5, \"#f7f7f7\"], [0.6, \"#e6f5d0\"], [0.7, \"#b8e186\"], [0.8, \"#7fbc41\"], [0.9, \"#4d9221\"], [1, \"#276419\"]], \"sequential\": [[0.0, \"#0508b8\"], [0.0893854748603352, \"#1910d8\"], [0.1787709497206704, \"#3c19f0\"], [0.2681564245810056, \"#6b1cfb\"], [0.3575418994413408, \"#981cfd\"], [0.44692737430167595, \"#bf1cfd\"], [0.5363128491620112, \"#dd2bfd\"], [0.6256983240223464, \"#f246fe\"], [0.7150837988826816, \"#fc67fd\"], [0.8044692737430168, \"#fe88fc\"], [0.8938547486033519, \"#fea5fd\"], [0.9832402234636871, \"#febefe\"], [1.0, \"#fec3fe\"]], \"sequentialminus\": [[0.0, \"#0508b8\"], [0.0893854748603352, \"#1910d8\"], [0.1787709497206704, \"#3c19f0\"], [0.2681564245810056, \"#6b1cfb\"], [0.3575418994413408, \"#981cfd\"], [0.44692737430167595, \"#bf1cfd\"], [0.5363128491620112, \"#dd2bfd\"], [0.6256983240223464, \"#f246fe\"], [0.7150837988826816, \"#fc67fd\"], [0.8044692737430168, \"#fe88fc\"], [0.8938547486033519, \"#fea5fd\"], [0.9832402234636871, \"#febefe\"], [1.0, \"#fec3fe\"]]}, \"colorway\": [\"#636efa\", \"#EF553B\", \"#00cc96\", \"#ab63fa\", \"#19d3f3\", \"#e763fa\", \"#FECB52\", \"#FFA15A\", \"#FF6692\", \"#B6E880\"], \"font\": {\"color\": \"#2a3f5f\"}, \"geo\": {\"bgcolor\": \"white\", \"lakecolor\": \"white\", \"landcolor\": \"#E5ECF6\", \"showlakes\": true, \"showland\": true, \"subunitcolor\": \"white\"}, \"hovermode\": \"closest\", \"mapbox\": {\"style\": \"light\"}, \"paper_bgcolor\": \"white\", \"plot_bgcolor\": \"#E5ECF6\", \"polar\": {\"angularaxis\": {\"gridcolor\": \"white\", \"linecolor\": \"white\", \"ticks\": \"\"}, \"bgcolor\": \"#E5ECF6\", \"radialaxis\": {\"gridcolor\": \"white\", \"linecolor\": \"white\", \"ticks\": \"\"}}, \"scene\": {\"xaxis\": {\"backgroundcolor\": \"#E5ECF6\", \"gridcolor\": \"white\", \"gridwidth\": 2, \"linecolor\": \"white\", \"showbackground\": true, \"ticks\": \"\", \"zerolinecolor\": \"white\"}, \"yaxis\": {\"backgroundcolor\": \"#E5ECF6\", \"gridcolor\": \"white\", \"gridwidth\": 2, \"linecolor\": \"white\", \"showbackground\": true, \"ticks\": \"\", \"zerolinecolor\": \"white\"}, \"zaxis\": {\"backgroundcolor\": \"#E5ECF6\", \"gridcolor\": \"white\", \"gridwidth\": 2, \"linecolor\": \"white\", \"showbackground\": true, \"ticks\": \"\", \"zerolinecolor\": \"white\"}}, \"shapedefaults\": {\"fillcolor\": \"#506784\", \"line\": {\"width\": 0}, \"opacity\": 0.4}, \"ternary\": {\"aaxis\": {\"gridcolor\": \"white\", \"linecolor\": \"white\", \"ticks\": \"\"}, \"baxis\": {\"gridcolor\": \"white\", \"linecolor\": \"white\", \"ticks\": \"\"}, \"bgcolor\": \"#E5ECF6\", \"caxis\": {\"gridcolor\": \"white\", \"linecolor\": \"white\", \"ticks\": \"\"}}, \"title\": {\"x\": 0.05}, \"xaxis\": {\"automargin\": true, \"gridcolor\": \"white\", \"linecolor\": \"white\", \"ticks\": \"\", \"zerolinecolor\": \"white\", \"zerolinewidth\": 2}, \"yaxis\": {\"automargin\": true, \"gridcolor\": \"white\", \"linecolor\": \"white\", \"ticks\": \"\", \"zerolinecolor\": \"white\", \"zerolinewidth\": 2}}}, \"polar\": {\"angularaxis\": {\"direction\": \"clockwise\", \"rotation\": 90}}}, {\"showLink\": false, \"linkText\": \"Export to plot.ly\", \"plotlyServerURL\": \"https://plot.ly\"}); \n",
       "}\n",
       "});</script><script type=\"text/javascript\">window.addEventListener(\"resize\", function(){if (document.getElementById(\"d80cab3d-8c95-48ef-b8e2-272fd7ed0ad0\")) {window._Plotly.Plots.resize(document.getElementById(\"d80cab3d-8c95-48ef-b8e2-272fd7ed0ad0\"));};})</script>"
      ]
     },
     "metadata": {},
     "output_type": "display_data"
    },
    {
     "name": "stdout",
     "output_type": "stream",
     "text": [
      "Comparando la pregunta ¿Qué tipo de aplicaciones utilizas en tu ordenador/tableta/móvil? (Respuesta múltiple) [4. Redes sociales (Facebook, Instagram, Twitter, etc.).]\n"
     ]
    },
    {
     "data": {
      "application/vnd.plotly.v1+json": {
       "config": {
        "linkText": "Export to plot.ly",
        "plotlyServerURL": "https://plot.ly",
        "showLink": false
       },
       "data": [
        {
         "hovertemplate": "¿Qué tipo de aplicaciones utilizas en tu ordenador/tableta/móvil? (Respuesta múltiple) [4. Redes sociales (Facebook, Instagram, Twitter, etc.).]=No<br>counts=%{r}<br>cultural_cluster=%{theta}<extra></extra>",
         "legendgroup": "¿Qué tipo de aplicaciones utilizas en tu ordenador/tableta/móvil? (Respuesta múltiple) [4. Redes sociales (Facebook, Instagram, Twitter, etc.).]=No",
         "marker": {
          "color": "rgb(213,62,79)"
         },
         "name": "¿Qué tipo de aplicaciones utilizas en tu ordenador/tableta/móvil? (Respuesta múltiple) [4. Redes sociales (Facebook, Instagram, Twitter, etc.).]=No",
         "r": [
          11,
          48,
          4,
          83
         ],
         "showlegend": true,
         "theta": [
          "cluster_1",
          "cluster_2",
          "cluster_3",
          "cluster_4"
         ],
         "type": "barpolar",
         "uid": "b3dbcd2f-fea7-42b2-aa28-f1401227ee98"
        },
        {
         "hovertemplate": "¿Qué tipo de aplicaciones utilizas en tu ordenador/tableta/móvil? (Respuesta múltiple) [4. Redes sociales (Facebook, Instagram, Twitter, etc.).]=Sí<br>counts=%{r}<br>cultural_cluster=%{theta}<extra></extra>",
         "legendgroup": "¿Qué tipo de aplicaciones utilizas en tu ordenador/tableta/móvil? (Respuesta múltiple) [4. Redes sociales (Facebook, Instagram, Twitter, etc.).]=Sí",
         "marker": {
          "color": "rgb(252,141,89)"
         },
         "name": "¿Qué tipo de aplicaciones utilizas en tu ordenador/tableta/móvil? (Respuesta múltiple) [4. Redes sociales (Facebook, Instagram, Twitter, etc.).]=Sí",
         "r": [
          212,
          253,
          23,
          132,
          1
         ],
         "showlegend": true,
         "theta": [
          "cluster_1",
          "cluster_2",
          "cluster_3",
          "cluster_4",
          "cluster_5"
         ],
         "type": "barpolar",
         "uid": "ad2c7474-ff9a-4d9b-ba83-f58e9d2d4d14"
        }
       ],
       "layout": {
        "barmode": "group",
        "barnorm": "",
        "height": 600,
        "legend": {
         "tracegroupgap": 0
        },
        "margin": {
         "t": 60
        },
        "polar": {
         "angularaxis": {
          "direction": "clockwise",
          "rotation": 90
         }
        },
        "template": {
         "data": {
          "bar": [
           {
            "marker": {
             "line": {
              "color": "#E5ECF6",
              "width": 0.5
             }
            },
            "type": "bar"
           }
          ],
          "barpolar": [
           {
            "marker": {
             "line": {
              "color": "#E5ECF6",
              "width": 0.5
             }
            },
            "type": "barpolar"
           }
          ],
          "carpet": [
           {
            "aaxis": {
             "endlinecolor": "#2a3f5f",
             "gridcolor": "white",
             "linecolor": "white",
             "minorgridcolor": "white",
             "startlinecolor": "#2a3f5f"
            },
            "baxis": {
             "endlinecolor": "#2a3f5f",
             "gridcolor": "white",
             "linecolor": "white",
             "minorgridcolor": "white",
             "startlinecolor": "#2a3f5f"
            },
            "type": "carpet"
           }
          ],
          "choropleth": [
           {
            "colorbar": {
             "outlinewidth": 0,
             "ticks": ""
            },
            "type": "choropleth"
           }
          ],
          "contour": [
           {
            "autocolorscale": true,
            "colorbar": {
             "outlinewidth": 0,
             "ticks": ""
            },
            "type": "contour"
           }
          ],
          "contourcarpet": [
           {
            "colorbar": {
             "outlinewidth": 0,
             "ticks": ""
            },
            "type": "contourcarpet"
           }
          ],
          "heatmap": [
           {
            "autocolorscale": true,
            "colorbar": {
             "outlinewidth": 0,
             "ticks": ""
            },
            "type": "heatmap"
           }
          ],
          "heatmapgl": [
           {
            "colorbar": {
             "outlinewidth": 0,
             "ticks": ""
            },
            "type": "heatmapgl"
           }
          ],
          "histogram": [
           {
            "marker": {
             "colorbar": {
              "outlinewidth": 0,
              "ticks": ""
             }
            },
            "type": "histogram"
           }
          ],
          "histogram2d": [
           {
            "autocolorscale": true,
            "colorbar": {
             "outlinewidth": 0,
             "ticks": ""
            },
            "type": "histogram2d"
           }
          ],
          "histogram2dcontour": [
           {
            "autocolorscale": true,
            "colorbar": {
             "outlinewidth": 0,
             "ticks": ""
            },
            "type": "histogram2dcontour"
           }
          ],
          "mesh3d": [
           {
            "colorbar": {
             "outlinewidth": 0,
             "ticks": ""
            },
            "type": "mesh3d"
           }
          ],
          "parcoords": [
           {
            "line": {
             "colorbar": {
              "outlinewidth": 0,
              "ticks": ""
             }
            },
            "type": "parcoords"
           }
          ],
          "scatter": [
           {
            "marker": {
             "colorbar": {
              "outlinewidth": 0,
              "ticks": ""
             }
            },
            "type": "scatter"
           }
          ],
          "scatter3d": [
           {
            "marker": {
             "colorbar": {
              "outlinewidth": 0,
              "ticks": ""
             }
            },
            "type": "scatter3d"
           }
          ],
          "scattercarpet": [
           {
            "marker": {
             "colorbar": {
              "outlinewidth": 0,
              "ticks": ""
             }
            },
            "type": "scattercarpet"
           }
          ],
          "scattergeo": [
           {
            "marker": {
             "colorbar": {
              "outlinewidth": 0,
              "ticks": ""
             }
            },
            "type": "scattergeo"
           }
          ],
          "scattergl": [
           {
            "marker": {
             "colorbar": {
              "outlinewidth": 0,
              "ticks": ""
             }
            },
            "type": "scattergl"
           }
          ],
          "scattermapbox": [
           {
            "marker": {
             "colorbar": {
              "outlinewidth": 0,
              "ticks": ""
             }
            },
            "type": "scattermapbox"
           }
          ],
          "scatterpolar": [
           {
            "marker": {
             "colorbar": {
              "outlinewidth": 0,
              "ticks": ""
             }
            },
            "type": "scatterpolar"
           }
          ],
          "scatterpolargl": [
           {
            "marker": {
             "colorbar": {
              "outlinewidth": 0,
              "ticks": ""
             }
            },
            "type": "scatterpolargl"
           }
          ],
          "scatterternary": [
           {
            "marker": {
             "colorbar": {
              "outlinewidth": 0,
              "ticks": ""
             }
            },
            "type": "scatterternary"
           }
          ],
          "surface": [
           {
            "colorbar": {
             "outlinewidth": 0,
             "ticks": ""
            },
            "type": "surface"
           }
          ],
          "table": [
           {
            "cells": {
             "fill": {
              "color": "#EBF0F8"
             },
             "line": {
              "color": "white"
             }
            },
            "header": {
             "fill": {
              "color": "#C8D4E3"
             },
             "line": {
              "color": "white"
             }
            },
            "type": "table"
           }
          ]
         },
         "layout": {
          "annotationdefaults": {
           "arrowcolor": "#506784",
           "arrowhead": 0,
           "arrowwidth": 1
          },
          "colorscale": {
           "diverging": [
            [
             0,
             "#8e0152"
            ],
            [
             0.1,
             "#c51b7d"
            ],
            [
             0.2,
             "#de77ae"
            ],
            [
             0.3,
             "#f1b6da"
            ],
            [
             0.4,
             "#fde0ef"
            ],
            [
             0.5,
             "#f7f7f7"
            ],
            [
             0.6,
             "#e6f5d0"
            ],
            [
             0.7,
             "#b8e186"
            ],
            [
             0.8,
             "#7fbc41"
            ],
            [
             0.9,
             "#4d9221"
            ],
            [
             1,
             "#276419"
            ]
           ],
           "sequential": [
            [
             0,
             "#0508b8"
            ],
            [
             0.0893854748603352,
             "#1910d8"
            ],
            [
             0.1787709497206704,
             "#3c19f0"
            ],
            [
             0.2681564245810056,
             "#6b1cfb"
            ],
            [
             0.3575418994413408,
             "#981cfd"
            ],
            [
             0.44692737430167595,
             "#bf1cfd"
            ],
            [
             0.5363128491620112,
             "#dd2bfd"
            ],
            [
             0.6256983240223464,
             "#f246fe"
            ],
            [
             0.7150837988826816,
             "#fc67fd"
            ],
            [
             0.8044692737430168,
             "#fe88fc"
            ],
            [
             0.8938547486033519,
             "#fea5fd"
            ],
            [
             0.9832402234636871,
             "#febefe"
            ],
            [
             1,
             "#fec3fe"
            ]
           ],
           "sequentialminus": [
            [
             0,
             "#0508b8"
            ],
            [
             0.0893854748603352,
             "#1910d8"
            ],
            [
             0.1787709497206704,
             "#3c19f0"
            ],
            [
             0.2681564245810056,
             "#6b1cfb"
            ],
            [
             0.3575418994413408,
             "#981cfd"
            ],
            [
             0.44692737430167595,
             "#bf1cfd"
            ],
            [
             0.5363128491620112,
             "#dd2bfd"
            ],
            [
             0.6256983240223464,
             "#f246fe"
            ],
            [
             0.7150837988826816,
             "#fc67fd"
            ],
            [
             0.8044692737430168,
             "#fe88fc"
            ],
            [
             0.8938547486033519,
             "#fea5fd"
            ],
            [
             0.9832402234636871,
             "#febefe"
            ],
            [
             1,
             "#fec3fe"
            ]
           ]
          },
          "colorway": [
           "#636efa",
           "#EF553B",
           "#00cc96",
           "#ab63fa",
           "#19d3f3",
           "#e763fa",
           "#FECB52",
           "#FFA15A",
           "#FF6692",
           "#B6E880"
          ],
          "font": {
           "color": "#2a3f5f"
          },
          "geo": {
           "bgcolor": "white",
           "lakecolor": "white",
           "landcolor": "#E5ECF6",
           "showlakes": true,
           "showland": true,
           "subunitcolor": "white"
          },
          "hovermode": "closest",
          "mapbox": {
           "style": "light"
          },
          "paper_bgcolor": "white",
          "plot_bgcolor": "#E5ECF6",
          "polar": {
           "angularaxis": {
            "gridcolor": "white",
            "linecolor": "white",
            "ticks": ""
           },
           "bgcolor": "#E5ECF6",
           "radialaxis": {
            "gridcolor": "white",
            "linecolor": "white",
            "ticks": ""
           }
          },
          "scene": {
           "xaxis": {
            "backgroundcolor": "#E5ECF6",
            "gridcolor": "white",
            "gridwidth": 2,
            "linecolor": "white",
            "showbackground": true,
            "ticks": "",
            "zerolinecolor": "white"
           },
           "yaxis": {
            "backgroundcolor": "#E5ECF6",
            "gridcolor": "white",
            "gridwidth": 2,
            "linecolor": "white",
            "showbackground": true,
            "ticks": "",
            "zerolinecolor": "white"
           },
           "zaxis": {
            "backgroundcolor": "#E5ECF6",
            "gridcolor": "white",
            "gridwidth": 2,
            "linecolor": "white",
            "showbackground": true,
            "ticks": "",
            "zerolinecolor": "white"
           }
          },
          "shapedefaults": {
           "fillcolor": "#506784",
           "line": {
            "width": 0
           },
           "opacity": 0.4
          },
          "ternary": {
           "aaxis": {
            "gridcolor": "white",
            "linecolor": "white",
            "ticks": ""
           },
           "baxis": {
            "gridcolor": "white",
            "linecolor": "white",
            "ticks": ""
           },
           "bgcolor": "#E5ECF6",
           "caxis": {
            "gridcolor": "white",
            "linecolor": "white",
            "ticks": ""
           }
          },
          "title": {
           "x": 0.05
          },
          "xaxis": {
           "automargin": true,
           "gridcolor": "white",
           "linecolor": "white",
           "ticks": "",
           "zerolinecolor": "white",
           "zerolinewidth": 2
          },
          "yaxis": {
           "automargin": true,
           "gridcolor": "white",
           "linecolor": "white",
           "ticks": "",
           "zerolinecolor": "white",
           "zerolinewidth": 2
          }
         }
        }
       }
      },
      "text/html": [
       "<div id=\"d1895d59-ff6f-4e1b-9c02-a1342476f9ad\" style=\"height: 600px; width: 100%;\" class=\"plotly-graph-div\"></div><script type=\"text/javascript\">require([\"plotly\"], function(Plotly) { window.PLOTLYENV=window.PLOTLYENV || {};window.PLOTLYENV.BASE_URL=\"https://plot.ly\";\n",
       "if (document.getElementById(\"d1895d59-ff6f-4e1b-9c02-a1342476f9ad\")) {\n",
       "    Plotly.newPlot(\"d1895d59-ff6f-4e1b-9c02-a1342476f9ad\", [{\"hovertemplate\": \"\\u00bfQu\\u00e9 tipo de aplicaciones utilizas en tu ordenador/tableta/m\\u00f3vil? (Respuesta m\\u00faltiple) [4. Redes sociales (Facebook, Instagram, Twitter, etc.).]=No<br>counts=%{r}<br>cultural_cluster=%{theta}<extra></extra>\", \"legendgroup\": \"\\u00bfQu\\u00e9 tipo de aplicaciones utilizas en tu ordenador/tableta/m\\u00f3vil? (Respuesta m\\u00faltiple) [4. Redes sociales (Facebook, Instagram, Twitter, etc.).]=No\", \"marker\": {\"color\": \"rgb(213,62,79)\"}, \"name\": \"\\u00bfQu\\u00e9 tipo de aplicaciones utilizas en tu ordenador/tableta/m\\u00f3vil? (Respuesta m\\u00faltiple) [4. Redes sociales (Facebook, Instagram, Twitter, etc.).]=No\", \"r\": [11, 48, 4, 83], \"showlegend\": true, \"theta\": [\"cluster_1\", \"cluster_2\", \"cluster_3\", \"cluster_4\"], \"type\": \"barpolar\", \"uid\": \"b3dbcd2f-fea7-42b2-aa28-f1401227ee98\"}, {\"hovertemplate\": \"\\u00bfQu\\u00e9 tipo de aplicaciones utilizas en tu ordenador/tableta/m\\u00f3vil? (Respuesta m\\u00faltiple) [4. Redes sociales (Facebook, Instagram, Twitter, etc.).]=S\\u00ed<br>counts=%{r}<br>cultural_cluster=%{theta}<extra></extra>\", \"legendgroup\": \"\\u00bfQu\\u00e9 tipo de aplicaciones utilizas en tu ordenador/tableta/m\\u00f3vil? (Respuesta m\\u00faltiple) [4. Redes sociales (Facebook, Instagram, Twitter, etc.).]=S\\u00ed\", \"marker\": {\"color\": \"rgb(252,141,89)\"}, \"name\": \"\\u00bfQu\\u00e9 tipo de aplicaciones utilizas en tu ordenador/tableta/m\\u00f3vil? (Respuesta m\\u00faltiple) [4. Redes sociales (Facebook, Instagram, Twitter, etc.).]=S\\u00ed\", \"r\": [212, 253, 23, 132, 1], \"showlegend\": true, \"theta\": [\"cluster_1\", \"cluster_2\", \"cluster_3\", \"cluster_4\", \"cluster_5\"], \"type\": \"barpolar\", \"uid\": \"ad2c7474-ff9a-4d9b-ba83-f58e9d2d4d14\"}], {\"barmode\": \"group\", \"barnorm\": \"\", \"height\": 600, \"legend\": {\"tracegroupgap\": 0}, \"margin\": {\"t\": 60}, \"template\": {\"data\": {\"barpolar\": [{\"marker\": {\"line\": {\"color\": \"#E5ECF6\", \"width\": 0.5}}, \"type\": \"barpolar\"}], \"bar\": [{\"marker\": {\"line\": {\"color\": \"#E5ECF6\", \"width\": 0.5}}, \"type\": \"bar\"}], \"carpet\": [{\"aaxis\": {\"endlinecolor\": \"#2a3f5f\", \"gridcolor\": \"white\", \"linecolor\": \"white\", \"minorgridcolor\": \"white\", \"startlinecolor\": \"#2a3f5f\"}, \"baxis\": {\"endlinecolor\": \"#2a3f5f\", \"gridcolor\": \"white\", \"linecolor\": \"white\", \"minorgridcolor\": \"white\", \"startlinecolor\": \"#2a3f5f\"}, \"type\": \"carpet\"}], \"choropleth\": [{\"colorbar\": {\"outlinewidth\": 0, \"ticks\": \"\"}, \"type\": \"choropleth\"}], \"contourcarpet\": [{\"colorbar\": {\"outlinewidth\": 0, \"ticks\": \"\"}, \"type\": \"contourcarpet\"}], \"contour\": [{\"autocolorscale\": true, \"colorbar\": {\"outlinewidth\": 0, \"ticks\": \"\"}, \"type\": \"contour\"}], \"heatmapgl\": [{\"colorbar\": {\"outlinewidth\": 0, \"ticks\": \"\"}, \"type\": \"heatmapgl\"}], \"heatmap\": [{\"autocolorscale\": true, \"colorbar\": {\"outlinewidth\": 0, \"ticks\": \"\"}, \"type\": \"heatmap\"}], \"histogram2dcontour\": [{\"autocolorscale\": true, \"colorbar\": {\"outlinewidth\": 0, \"ticks\": \"\"}, \"type\": \"histogram2dcontour\"}], \"histogram2d\": [{\"autocolorscale\": true, \"colorbar\": {\"outlinewidth\": 0, \"ticks\": \"\"}, \"type\": \"histogram2d\"}], \"histogram\": [{\"marker\": {\"colorbar\": {\"outlinewidth\": 0, \"ticks\": \"\"}}, \"type\": \"histogram\"}], \"mesh3d\": [{\"colorbar\": {\"outlinewidth\": 0, \"ticks\": \"\"}, \"type\": \"mesh3d\"}], \"parcoords\": [{\"line\": {\"colorbar\": {\"outlinewidth\": 0, \"ticks\": \"\"}}, \"type\": \"parcoords\"}], \"scatter3d\": [{\"marker\": {\"colorbar\": {\"outlinewidth\": 0, \"ticks\": \"\"}}, \"type\": \"scatter3d\"}], \"scattercarpet\": [{\"marker\": {\"colorbar\": {\"outlinewidth\": 0, \"ticks\": \"\"}}, \"type\": \"scattercarpet\"}], \"scattergeo\": [{\"marker\": {\"colorbar\": {\"outlinewidth\": 0, \"ticks\": \"\"}}, \"type\": \"scattergeo\"}], \"scattergl\": [{\"marker\": {\"colorbar\": {\"outlinewidth\": 0, \"ticks\": \"\"}}, \"type\": \"scattergl\"}], \"scattermapbox\": [{\"marker\": {\"colorbar\": {\"outlinewidth\": 0, \"ticks\": \"\"}}, \"type\": \"scattermapbox\"}], \"scatterpolargl\": [{\"marker\": {\"colorbar\": {\"outlinewidth\": 0, \"ticks\": \"\"}}, \"type\": \"scatterpolargl\"}], \"scatterpolar\": [{\"marker\": {\"colorbar\": {\"outlinewidth\": 0, \"ticks\": \"\"}}, \"type\": \"scatterpolar\"}], \"scatter\": [{\"marker\": {\"colorbar\": {\"outlinewidth\": 0, \"ticks\": \"\"}}, \"type\": \"scatter\"}], \"scatterternary\": [{\"marker\": {\"colorbar\": {\"outlinewidth\": 0, \"ticks\": \"\"}}, \"type\": \"scatterternary\"}], \"surface\": [{\"colorbar\": {\"outlinewidth\": 0, \"ticks\": \"\"}, \"type\": \"surface\"}], \"table\": [{\"cells\": {\"fill\": {\"color\": \"#EBF0F8\"}, \"line\": {\"color\": \"white\"}}, \"header\": {\"fill\": {\"color\": \"#C8D4E3\"}, \"line\": {\"color\": \"white\"}}, \"type\": \"table\"}]}, \"layout\": {\"annotationdefaults\": {\"arrowcolor\": \"#506784\", \"arrowhead\": 0, \"arrowwidth\": 1}, \"colorscale\": {\"diverging\": [[0, \"#8e0152\"], [0.1, \"#c51b7d\"], [0.2, \"#de77ae\"], [0.3, \"#f1b6da\"], [0.4, \"#fde0ef\"], [0.5, \"#f7f7f7\"], [0.6, \"#e6f5d0\"], [0.7, \"#b8e186\"], [0.8, \"#7fbc41\"], [0.9, \"#4d9221\"], [1, \"#276419\"]], \"sequential\": [[0.0, \"#0508b8\"], [0.0893854748603352, \"#1910d8\"], [0.1787709497206704, \"#3c19f0\"], [0.2681564245810056, \"#6b1cfb\"], [0.3575418994413408, \"#981cfd\"], [0.44692737430167595, \"#bf1cfd\"], [0.5363128491620112, \"#dd2bfd\"], [0.6256983240223464, \"#f246fe\"], [0.7150837988826816, \"#fc67fd\"], [0.8044692737430168, \"#fe88fc\"], [0.8938547486033519, \"#fea5fd\"], [0.9832402234636871, \"#febefe\"], [1.0, \"#fec3fe\"]], \"sequentialminus\": [[0.0, \"#0508b8\"], [0.0893854748603352, \"#1910d8\"], [0.1787709497206704, \"#3c19f0\"], [0.2681564245810056, \"#6b1cfb\"], [0.3575418994413408, \"#981cfd\"], [0.44692737430167595, \"#bf1cfd\"], [0.5363128491620112, \"#dd2bfd\"], [0.6256983240223464, \"#f246fe\"], [0.7150837988826816, \"#fc67fd\"], [0.8044692737430168, \"#fe88fc\"], [0.8938547486033519, \"#fea5fd\"], [0.9832402234636871, \"#febefe\"], [1.0, \"#fec3fe\"]]}, \"colorway\": [\"#636efa\", \"#EF553B\", \"#00cc96\", \"#ab63fa\", \"#19d3f3\", \"#e763fa\", \"#FECB52\", \"#FFA15A\", \"#FF6692\", \"#B6E880\"], \"font\": {\"color\": \"#2a3f5f\"}, \"geo\": {\"bgcolor\": \"white\", \"lakecolor\": \"white\", \"landcolor\": \"#E5ECF6\", \"showlakes\": true, \"showland\": true, \"subunitcolor\": \"white\"}, \"hovermode\": \"closest\", \"mapbox\": {\"style\": \"light\"}, \"paper_bgcolor\": \"white\", \"plot_bgcolor\": \"#E5ECF6\", \"polar\": {\"angularaxis\": {\"gridcolor\": \"white\", \"linecolor\": \"white\", \"ticks\": \"\"}, \"bgcolor\": \"#E5ECF6\", \"radialaxis\": {\"gridcolor\": \"white\", \"linecolor\": \"white\", \"ticks\": \"\"}}, \"scene\": {\"xaxis\": {\"backgroundcolor\": \"#E5ECF6\", \"gridcolor\": \"white\", \"gridwidth\": 2, \"linecolor\": \"white\", \"showbackground\": true, \"ticks\": \"\", \"zerolinecolor\": \"white\"}, \"yaxis\": {\"backgroundcolor\": \"#E5ECF6\", \"gridcolor\": \"white\", \"gridwidth\": 2, \"linecolor\": \"white\", \"showbackground\": true, \"ticks\": \"\", \"zerolinecolor\": \"white\"}, \"zaxis\": {\"backgroundcolor\": \"#E5ECF6\", \"gridcolor\": \"white\", \"gridwidth\": 2, \"linecolor\": \"white\", \"showbackground\": true, \"ticks\": \"\", \"zerolinecolor\": \"white\"}}, \"shapedefaults\": {\"fillcolor\": \"#506784\", \"line\": {\"width\": 0}, \"opacity\": 0.4}, \"ternary\": {\"aaxis\": {\"gridcolor\": \"white\", \"linecolor\": \"white\", \"ticks\": \"\"}, \"baxis\": {\"gridcolor\": \"white\", \"linecolor\": \"white\", \"ticks\": \"\"}, \"bgcolor\": \"#E5ECF6\", \"caxis\": {\"gridcolor\": \"white\", \"linecolor\": \"white\", \"ticks\": \"\"}}, \"title\": {\"x\": 0.05}, \"xaxis\": {\"automargin\": true, \"gridcolor\": \"white\", \"linecolor\": \"white\", \"ticks\": \"\", \"zerolinecolor\": \"white\", \"zerolinewidth\": 2}, \"yaxis\": {\"automargin\": true, \"gridcolor\": \"white\", \"linecolor\": \"white\", \"ticks\": \"\", \"zerolinecolor\": \"white\", \"zerolinewidth\": 2}}}, \"polar\": {\"angularaxis\": {\"direction\": \"clockwise\", \"rotation\": 90}}}, {\"showLink\": false, \"linkText\": \"Export to plot.ly\", \"plotlyServerURL\": \"https://plot.ly\"}); \n",
       "}\n",
       "});</script><script type=\"text/javascript\">window.addEventListener(\"resize\", function(){if (document.getElementById(\"d1895d59-ff6f-4e1b-9c02-a1342476f9ad\")) {window._Plotly.Plots.resize(document.getElementById(\"d1895d59-ff6f-4e1b-9c02-a1342476f9ad\"));};})</script>"
      ],
      "text/vnd.plotly.v1+html": [
       "<div id=\"d1895d59-ff6f-4e1b-9c02-a1342476f9ad\" style=\"height: 600px; width: 100%;\" class=\"plotly-graph-div\"></div><script type=\"text/javascript\">require([\"plotly\"], function(Plotly) { window.PLOTLYENV=window.PLOTLYENV || {};window.PLOTLYENV.BASE_URL=\"https://plot.ly\";\n",
       "if (document.getElementById(\"d1895d59-ff6f-4e1b-9c02-a1342476f9ad\")) {\n",
       "    Plotly.newPlot(\"d1895d59-ff6f-4e1b-9c02-a1342476f9ad\", [{\"hovertemplate\": \"\\u00bfQu\\u00e9 tipo de aplicaciones utilizas en tu ordenador/tableta/m\\u00f3vil? (Respuesta m\\u00faltiple) [4. Redes sociales (Facebook, Instagram, Twitter, etc.).]=No<br>counts=%{r}<br>cultural_cluster=%{theta}<extra></extra>\", \"legendgroup\": \"\\u00bfQu\\u00e9 tipo de aplicaciones utilizas en tu ordenador/tableta/m\\u00f3vil? (Respuesta m\\u00faltiple) [4. Redes sociales (Facebook, Instagram, Twitter, etc.).]=No\", \"marker\": {\"color\": \"rgb(213,62,79)\"}, \"name\": \"\\u00bfQu\\u00e9 tipo de aplicaciones utilizas en tu ordenador/tableta/m\\u00f3vil? (Respuesta m\\u00faltiple) [4. Redes sociales (Facebook, Instagram, Twitter, etc.).]=No\", \"r\": [11, 48, 4, 83], \"showlegend\": true, \"theta\": [\"cluster_1\", \"cluster_2\", \"cluster_3\", \"cluster_4\"], \"type\": \"barpolar\", \"uid\": \"b3dbcd2f-fea7-42b2-aa28-f1401227ee98\"}, {\"hovertemplate\": \"\\u00bfQu\\u00e9 tipo de aplicaciones utilizas en tu ordenador/tableta/m\\u00f3vil? (Respuesta m\\u00faltiple) [4. Redes sociales (Facebook, Instagram, Twitter, etc.).]=S\\u00ed<br>counts=%{r}<br>cultural_cluster=%{theta}<extra></extra>\", \"legendgroup\": \"\\u00bfQu\\u00e9 tipo de aplicaciones utilizas en tu ordenador/tableta/m\\u00f3vil? (Respuesta m\\u00faltiple) [4. Redes sociales (Facebook, Instagram, Twitter, etc.).]=S\\u00ed\", \"marker\": {\"color\": \"rgb(252,141,89)\"}, \"name\": \"\\u00bfQu\\u00e9 tipo de aplicaciones utilizas en tu ordenador/tableta/m\\u00f3vil? (Respuesta m\\u00faltiple) [4. Redes sociales (Facebook, Instagram, Twitter, etc.).]=S\\u00ed\", \"r\": [212, 253, 23, 132, 1], \"showlegend\": true, \"theta\": [\"cluster_1\", \"cluster_2\", \"cluster_3\", \"cluster_4\", \"cluster_5\"], \"type\": \"barpolar\", \"uid\": \"ad2c7474-ff9a-4d9b-ba83-f58e9d2d4d14\"}], {\"barmode\": \"group\", \"barnorm\": \"\", \"height\": 600, \"legend\": {\"tracegroupgap\": 0}, \"margin\": {\"t\": 60}, \"template\": {\"data\": {\"barpolar\": [{\"marker\": {\"line\": {\"color\": \"#E5ECF6\", \"width\": 0.5}}, \"type\": \"barpolar\"}], \"bar\": [{\"marker\": {\"line\": {\"color\": \"#E5ECF6\", \"width\": 0.5}}, \"type\": \"bar\"}], \"carpet\": [{\"aaxis\": {\"endlinecolor\": \"#2a3f5f\", \"gridcolor\": \"white\", \"linecolor\": \"white\", \"minorgridcolor\": \"white\", \"startlinecolor\": \"#2a3f5f\"}, \"baxis\": {\"endlinecolor\": \"#2a3f5f\", \"gridcolor\": \"white\", \"linecolor\": \"white\", \"minorgridcolor\": \"white\", \"startlinecolor\": \"#2a3f5f\"}, \"type\": \"carpet\"}], \"choropleth\": [{\"colorbar\": {\"outlinewidth\": 0, \"ticks\": \"\"}, \"type\": \"choropleth\"}], \"contourcarpet\": [{\"colorbar\": {\"outlinewidth\": 0, \"ticks\": \"\"}, \"type\": \"contourcarpet\"}], \"contour\": [{\"autocolorscale\": true, \"colorbar\": {\"outlinewidth\": 0, \"ticks\": \"\"}, \"type\": \"contour\"}], \"heatmapgl\": [{\"colorbar\": {\"outlinewidth\": 0, \"ticks\": \"\"}, \"type\": \"heatmapgl\"}], \"heatmap\": [{\"autocolorscale\": true, \"colorbar\": {\"outlinewidth\": 0, \"ticks\": \"\"}, \"type\": \"heatmap\"}], \"histogram2dcontour\": [{\"autocolorscale\": true, \"colorbar\": {\"outlinewidth\": 0, \"ticks\": \"\"}, \"type\": \"histogram2dcontour\"}], \"histogram2d\": [{\"autocolorscale\": true, \"colorbar\": {\"outlinewidth\": 0, \"ticks\": \"\"}, \"type\": \"histogram2d\"}], \"histogram\": [{\"marker\": {\"colorbar\": {\"outlinewidth\": 0, \"ticks\": \"\"}}, \"type\": \"histogram\"}], \"mesh3d\": [{\"colorbar\": {\"outlinewidth\": 0, \"ticks\": \"\"}, \"type\": \"mesh3d\"}], \"parcoords\": [{\"line\": {\"colorbar\": {\"outlinewidth\": 0, \"ticks\": \"\"}}, \"type\": \"parcoords\"}], \"scatter3d\": [{\"marker\": {\"colorbar\": {\"outlinewidth\": 0, \"ticks\": \"\"}}, \"type\": \"scatter3d\"}], \"scattercarpet\": [{\"marker\": {\"colorbar\": {\"outlinewidth\": 0, \"ticks\": \"\"}}, \"type\": \"scattercarpet\"}], \"scattergeo\": [{\"marker\": {\"colorbar\": {\"outlinewidth\": 0, \"ticks\": \"\"}}, \"type\": \"scattergeo\"}], \"scattergl\": [{\"marker\": {\"colorbar\": {\"outlinewidth\": 0, \"ticks\": \"\"}}, \"type\": \"scattergl\"}], \"scattermapbox\": [{\"marker\": {\"colorbar\": {\"outlinewidth\": 0, \"ticks\": \"\"}}, \"type\": \"scattermapbox\"}], \"scatterpolargl\": [{\"marker\": {\"colorbar\": {\"outlinewidth\": 0, \"ticks\": \"\"}}, \"type\": \"scatterpolargl\"}], \"scatterpolar\": [{\"marker\": {\"colorbar\": {\"outlinewidth\": 0, \"ticks\": \"\"}}, \"type\": \"scatterpolar\"}], \"scatter\": [{\"marker\": {\"colorbar\": {\"outlinewidth\": 0, \"ticks\": \"\"}}, \"type\": \"scatter\"}], \"scatterternary\": [{\"marker\": {\"colorbar\": {\"outlinewidth\": 0, \"ticks\": \"\"}}, \"type\": \"scatterternary\"}], \"surface\": [{\"colorbar\": {\"outlinewidth\": 0, \"ticks\": \"\"}, \"type\": \"surface\"}], \"table\": [{\"cells\": {\"fill\": {\"color\": \"#EBF0F8\"}, \"line\": {\"color\": \"white\"}}, \"header\": {\"fill\": {\"color\": \"#C8D4E3\"}, \"line\": {\"color\": \"white\"}}, \"type\": \"table\"}]}, \"layout\": {\"annotationdefaults\": {\"arrowcolor\": \"#506784\", \"arrowhead\": 0, \"arrowwidth\": 1}, \"colorscale\": {\"diverging\": [[0, \"#8e0152\"], [0.1, \"#c51b7d\"], [0.2, \"#de77ae\"], [0.3, \"#f1b6da\"], [0.4, \"#fde0ef\"], [0.5, \"#f7f7f7\"], [0.6, \"#e6f5d0\"], [0.7, \"#b8e186\"], [0.8, \"#7fbc41\"], [0.9, \"#4d9221\"], [1, \"#276419\"]], \"sequential\": [[0.0, \"#0508b8\"], [0.0893854748603352, \"#1910d8\"], [0.1787709497206704, \"#3c19f0\"], [0.2681564245810056, \"#6b1cfb\"], [0.3575418994413408, \"#981cfd\"], [0.44692737430167595, \"#bf1cfd\"], [0.5363128491620112, \"#dd2bfd\"], [0.6256983240223464, \"#f246fe\"], [0.7150837988826816, \"#fc67fd\"], [0.8044692737430168, \"#fe88fc\"], [0.8938547486033519, \"#fea5fd\"], [0.9832402234636871, \"#febefe\"], [1.0, \"#fec3fe\"]], \"sequentialminus\": [[0.0, \"#0508b8\"], [0.0893854748603352, \"#1910d8\"], [0.1787709497206704, \"#3c19f0\"], [0.2681564245810056, \"#6b1cfb\"], [0.3575418994413408, \"#981cfd\"], [0.44692737430167595, \"#bf1cfd\"], [0.5363128491620112, \"#dd2bfd\"], [0.6256983240223464, \"#f246fe\"], [0.7150837988826816, \"#fc67fd\"], [0.8044692737430168, \"#fe88fc\"], [0.8938547486033519, \"#fea5fd\"], [0.9832402234636871, \"#febefe\"], [1.0, \"#fec3fe\"]]}, \"colorway\": [\"#636efa\", \"#EF553B\", \"#00cc96\", \"#ab63fa\", \"#19d3f3\", \"#e763fa\", \"#FECB52\", \"#FFA15A\", \"#FF6692\", \"#B6E880\"], \"font\": {\"color\": \"#2a3f5f\"}, \"geo\": {\"bgcolor\": \"white\", \"lakecolor\": \"white\", \"landcolor\": \"#E5ECF6\", \"showlakes\": true, \"showland\": true, \"subunitcolor\": \"white\"}, \"hovermode\": \"closest\", \"mapbox\": {\"style\": \"light\"}, \"paper_bgcolor\": \"white\", \"plot_bgcolor\": \"#E5ECF6\", \"polar\": {\"angularaxis\": {\"gridcolor\": \"white\", \"linecolor\": \"white\", \"ticks\": \"\"}, \"bgcolor\": \"#E5ECF6\", \"radialaxis\": {\"gridcolor\": \"white\", \"linecolor\": \"white\", \"ticks\": \"\"}}, \"scene\": {\"xaxis\": {\"backgroundcolor\": \"#E5ECF6\", \"gridcolor\": \"white\", \"gridwidth\": 2, \"linecolor\": \"white\", \"showbackground\": true, \"ticks\": \"\", \"zerolinecolor\": \"white\"}, \"yaxis\": {\"backgroundcolor\": \"#E5ECF6\", \"gridcolor\": \"white\", \"gridwidth\": 2, \"linecolor\": \"white\", \"showbackground\": true, \"ticks\": \"\", \"zerolinecolor\": \"white\"}, \"zaxis\": {\"backgroundcolor\": \"#E5ECF6\", \"gridcolor\": \"white\", \"gridwidth\": 2, \"linecolor\": \"white\", \"showbackground\": true, \"ticks\": \"\", \"zerolinecolor\": \"white\"}}, \"shapedefaults\": {\"fillcolor\": \"#506784\", \"line\": {\"width\": 0}, \"opacity\": 0.4}, \"ternary\": {\"aaxis\": {\"gridcolor\": \"white\", \"linecolor\": \"white\", \"ticks\": \"\"}, \"baxis\": {\"gridcolor\": \"white\", \"linecolor\": \"white\", \"ticks\": \"\"}, \"bgcolor\": \"#E5ECF6\", \"caxis\": {\"gridcolor\": \"white\", \"linecolor\": \"white\", \"ticks\": \"\"}}, \"title\": {\"x\": 0.05}, \"xaxis\": {\"automargin\": true, \"gridcolor\": \"white\", \"linecolor\": \"white\", \"ticks\": \"\", \"zerolinecolor\": \"white\", \"zerolinewidth\": 2}, \"yaxis\": {\"automargin\": true, \"gridcolor\": \"white\", \"linecolor\": \"white\", \"ticks\": \"\", \"zerolinecolor\": \"white\", \"zerolinewidth\": 2}}}, \"polar\": {\"angularaxis\": {\"direction\": \"clockwise\", \"rotation\": 90}}}, {\"showLink\": false, \"linkText\": \"Export to plot.ly\", \"plotlyServerURL\": \"https://plot.ly\"}); \n",
       "}\n",
       "});</script><script type=\"text/javascript\">window.addEventListener(\"resize\", function(){if (document.getElementById(\"d1895d59-ff6f-4e1b-9c02-a1342476f9ad\")) {window._Plotly.Plots.resize(document.getElementById(\"d1895d59-ff6f-4e1b-9c02-a1342476f9ad\"));};})</script>"
      ]
     },
     "metadata": {},
     "output_type": "display_data"
    },
    {
     "name": "stdout",
     "output_type": "stream",
     "text": [
      "Comparando la pregunta ¿Qué tipo de aplicaciones utilizas en tu ordenador/tableta/móvil? (Respuesta múltiple) [5. Aplicaciones de vídeo (Youtube, Vimeo, etc.).]\n"
     ]
    },
    {
     "data": {
      "application/vnd.plotly.v1+json": {
       "config": {
        "linkText": "Export to plot.ly",
        "plotlyServerURL": "https://plot.ly",
        "showLink": false
       },
       "data": [
        {
         "hovertemplate": "¿Qué tipo de aplicaciones utilizas en tu ordenador/tableta/móvil? (Respuesta múltiple) [5. Aplicaciones de vídeo (Youtube, Vimeo, etc.).]=No<br>counts=%{r}<br>cultural_cluster=%{theta}<extra></extra>",
         "legendgroup": "¿Qué tipo de aplicaciones utilizas en tu ordenador/tableta/móvil? (Respuesta múltiple) [5. Aplicaciones de vídeo (Youtube, Vimeo, etc.).]=No",
         "marker": {
          "color": "rgb(213,62,79)"
         },
         "name": "¿Qué tipo de aplicaciones utilizas en tu ordenador/tableta/móvil? (Respuesta múltiple) [5. Aplicaciones de vídeo (Youtube, Vimeo, etc.).]=No",
         "r": [
          11,
          87,
          7,
          108
         ],
         "showlegend": true,
         "theta": [
          "cluster_1",
          "cluster_2",
          "cluster_3",
          "cluster_4"
         ],
         "type": "barpolar",
         "uid": "ca255491-0305-4765-9a5a-175516da2781"
        },
        {
         "hovertemplate": "¿Qué tipo de aplicaciones utilizas en tu ordenador/tableta/móvil? (Respuesta múltiple) [5. Aplicaciones de vídeo (Youtube, Vimeo, etc.).]=Sí<br>counts=%{r}<br>cultural_cluster=%{theta}<extra></extra>",
         "legendgroup": "¿Qué tipo de aplicaciones utilizas en tu ordenador/tableta/móvil? (Respuesta múltiple) [5. Aplicaciones de vídeo (Youtube, Vimeo, etc.).]=Sí",
         "marker": {
          "color": "rgb(252,141,89)"
         },
         "name": "¿Qué tipo de aplicaciones utilizas en tu ordenador/tableta/móvil? (Respuesta múltiple) [5. Aplicaciones de vídeo (Youtube, Vimeo, etc.).]=Sí",
         "r": [
          212,
          214,
          20,
          107,
          1
         ],
         "showlegend": true,
         "theta": [
          "cluster_1",
          "cluster_2",
          "cluster_3",
          "cluster_4",
          "cluster_5"
         ],
         "type": "barpolar",
         "uid": "e1ac1533-b71f-4feb-b3e7-f65e9cfa2b48"
        }
       ],
       "layout": {
        "barmode": "group",
        "barnorm": "",
        "height": 600,
        "legend": {
         "tracegroupgap": 0
        },
        "margin": {
         "t": 60
        },
        "polar": {
         "angularaxis": {
          "direction": "clockwise",
          "rotation": 90
         }
        },
        "template": {
         "data": {
          "bar": [
           {
            "marker": {
             "line": {
              "color": "#E5ECF6",
              "width": 0.5
             }
            },
            "type": "bar"
           }
          ],
          "barpolar": [
           {
            "marker": {
             "line": {
              "color": "#E5ECF6",
              "width": 0.5
             }
            },
            "type": "barpolar"
           }
          ],
          "carpet": [
           {
            "aaxis": {
             "endlinecolor": "#2a3f5f",
             "gridcolor": "white",
             "linecolor": "white",
             "minorgridcolor": "white",
             "startlinecolor": "#2a3f5f"
            },
            "baxis": {
             "endlinecolor": "#2a3f5f",
             "gridcolor": "white",
             "linecolor": "white",
             "minorgridcolor": "white",
             "startlinecolor": "#2a3f5f"
            },
            "type": "carpet"
           }
          ],
          "choropleth": [
           {
            "colorbar": {
             "outlinewidth": 0,
             "ticks": ""
            },
            "type": "choropleth"
           }
          ],
          "contour": [
           {
            "autocolorscale": true,
            "colorbar": {
             "outlinewidth": 0,
             "ticks": ""
            },
            "type": "contour"
           }
          ],
          "contourcarpet": [
           {
            "colorbar": {
             "outlinewidth": 0,
             "ticks": ""
            },
            "type": "contourcarpet"
           }
          ],
          "heatmap": [
           {
            "autocolorscale": true,
            "colorbar": {
             "outlinewidth": 0,
             "ticks": ""
            },
            "type": "heatmap"
           }
          ],
          "heatmapgl": [
           {
            "colorbar": {
             "outlinewidth": 0,
             "ticks": ""
            },
            "type": "heatmapgl"
           }
          ],
          "histogram": [
           {
            "marker": {
             "colorbar": {
              "outlinewidth": 0,
              "ticks": ""
             }
            },
            "type": "histogram"
           }
          ],
          "histogram2d": [
           {
            "autocolorscale": true,
            "colorbar": {
             "outlinewidth": 0,
             "ticks": ""
            },
            "type": "histogram2d"
           }
          ],
          "histogram2dcontour": [
           {
            "autocolorscale": true,
            "colorbar": {
             "outlinewidth": 0,
             "ticks": ""
            },
            "type": "histogram2dcontour"
           }
          ],
          "mesh3d": [
           {
            "colorbar": {
             "outlinewidth": 0,
             "ticks": ""
            },
            "type": "mesh3d"
           }
          ],
          "parcoords": [
           {
            "line": {
             "colorbar": {
              "outlinewidth": 0,
              "ticks": ""
             }
            },
            "type": "parcoords"
           }
          ],
          "scatter": [
           {
            "marker": {
             "colorbar": {
              "outlinewidth": 0,
              "ticks": ""
             }
            },
            "type": "scatter"
           }
          ],
          "scatter3d": [
           {
            "marker": {
             "colorbar": {
              "outlinewidth": 0,
              "ticks": ""
             }
            },
            "type": "scatter3d"
           }
          ],
          "scattercarpet": [
           {
            "marker": {
             "colorbar": {
              "outlinewidth": 0,
              "ticks": ""
             }
            },
            "type": "scattercarpet"
           }
          ],
          "scattergeo": [
           {
            "marker": {
             "colorbar": {
              "outlinewidth": 0,
              "ticks": ""
             }
            },
            "type": "scattergeo"
           }
          ],
          "scattergl": [
           {
            "marker": {
             "colorbar": {
              "outlinewidth": 0,
              "ticks": ""
             }
            },
            "type": "scattergl"
           }
          ],
          "scattermapbox": [
           {
            "marker": {
             "colorbar": {
              "outlinewidth": 0,
              "ticks": ""
             }
            },
            "type": "scattermapbox"
           }
          ],
          "scatterpolar": [
           {
            "marker": {
             "colorbar": {
              "outlinewidth": 0,
              "ticks": ""
             }
            },
            "type": "scatterpolar"
           }
          ],
          "scatterpolargl": [
           {
            "marker": {
             "colorbar": {
              "outlinewidth": 0,
              "ticks": ""
             }
            },
            "type": "scatterpolargl"
           }
          ],
          "scatterternary": [
           {
            "marker": {
             "colorbar": {
              "outlinewidth": 0,
              "ticks": ""
             }
            },
            "type": "scatterternary"
           }
          ],
          "surface": [
           {
            "colorbar": {
             "outlinewidth": 0,
             "ticks": ""
            },
            "type": "surface"
           }
          ],
          "table": [
           {
            "cells": {
             "fill": {
              "color": "#EBF0F8"
             },
             "line": {
              "color": "white"
             }
            },
            "header": {
             "fill": {
              "color": "#C8D4E3"
             },
             "line": {
              "color": "white"
             }
            },
            "type": "table"
           }
          ]
         },
         "layout": {
          "annotationdefaults": {
           "arrowcolor": "#506784",
           "arrowhead": 0,
           "arrowwidth": 1
          },
          "colorscale": {
           "diverging": [
            [
             0,
             "#8e0152"
            ],
            [
             0.1,
             "#c51b7d"
            ],
            [
             0.2,
             "#de77ae"
            ],
            [
             0.3,
             "#f1b6da"
            ],
            [
             0.4,
             "#fde0ef"
            ],
            [
             0.5,
             "#f7f7f7"
            ],
            [
             0.6,
             "#e6f5d0"
            ],
            [
             0.7,
             "#b8e186"
            ],
            [
             0.8,
             "#7fbc41"
            ],
            [
             0.9,
             "#4d9221"
            ],
            [
             1,
             "#276419"
            ]
           ],
           "sequential": [
            [
             0,
             "#0508b8"
            ],
            [
             0.0893854748603352,
             "#1910d8"
            ],
            [
             0.1787709497206704,
             "#3c19f0"
            ],
            [
             0.2681564245810056,
             "#6b1cfb"
            ],
            [
             0.3575418994413408,
             "#981cfd"
            ],
            [
             0.44692737430167595,
             "#bf1cfd"
            ],
            [
             0.5363128491620112,
             "#dd2bfd"
            ],
            [
             0.6256983240223464,
             "#f246fe"
            ],
            [
             0.7150837988826816,
             "#fc67fd"
            ],
            [
             0.8044692737430168,
             "#fe88fc"
            ],
            [
             0.8938547486033519,
             "#fea5fd"
            ],
            [
             0.9832402234636871,
             "#febefe"
            ],
            [
             1,
             "#fec3fe"
            ]
           ],
           "sequentialminus": [
            [
             0,
             "#0508b8"
            ],
            [
             0.0893854748603352,
             "#1910d8"
            ],
            [
             0.1787709497206704,
             "#3c19f0"
            ],
            [
             0.2681564245810056,
             "#6b1cfb"
            ],
            [
             0.3575418994413408,
             "#981cfd"
            ],
            [
             0.44692737430167595,
             "#bf1cfd"
            ],
            [
             0.5363128491620112,
             "#dd2bfd"
            ],
            [
             0.6256983240223464,
             "#f246fe"
            ],
            [
             0.7150837988826816,
             "#fc67fd"
            ],
            [
             0.8044692737430168,
             "#fe88fc"
            ],
            [
             0.8938547486033519,
             "#fea5fd"
            ],
            [
             0.9832402234636871,
             "#febefe"
            ],
            [
             1,
             "#fec3fe"
            ]
           ]
          },
          "colorway": [
           "#636efa",
           "#EF553B",
           "#00cc96",
           "#ab63fa",
           "#19d3f3",
           "#e763fa",
           "#FECB52",
           "#FFA15A",
           "#FF6692",
           "#B6E880"
          ],
          "font": {
           "color": "#2a3f5f"
          },
          "geo": {
           "bgcolor": "white",
           "lakecolor": "white",
           "landcolor": "#E5ECF6",
           "showlakes": true,
           "showland": true,
           "subunitcolor": "white"
          },
          "hovermode": "closest",
          "mapbox": {
           "style": "light"
          },
          "paper_bgcolor": "white",
          "plot_bgcolor": "#E5ECF6",
          "polar": {
           "angularaxis": {
            "gridcolor": "white",
            "linecolor": "white",
            "ticks": ""
           },
           "bgcolor": "#E5ECF6",
           "radialaxis": {
            "gridcolor": "white",
            "linecolor": "white",
            "ticks": ""
           }
          },
          "scene": {
           "xaxis": {
            "backgroundcolor": "#E5ECF6",
            "gridcolor": "white",
            "gridwidth": 2,
            "linecolor": "white",
            "showbackground": true,
            "ticks": "",
            "zerolinecolor": "white"
           },
           "yaxis": {
            "backgroundcolor": "#E5ECF6",
            "gridcolor": "white",
            "gridwidth": 2,
            "linecolor": "white",
            "showbackground": true,
            "ticks": "",
            "zerolinecolor": "white"
           },
           "zaxis": {
            "backgroundcolor": "#E5ECF6",
            "gridcolor": "white",
            "gridwidth": 2,
            "linecolor": "white",
            "showbackground": true,
            "ticks": "",
            "zerolinecolor": "white"
           }
          },
          "shapedefaults": {
           "fillcolor": "#506784",
           "line": {
            "width": 0
           },
           "opacity": 0.4
          },
          "ternary": {
           "aaxis": {
            "gridcolor": "white",
            "linecolor": "white",
            "ticks": ""
           },
           "baxis": {
            "gridcolor": "white",
            "linecolor": "white",
            "ticks": ""
           },
           "bgcolor": "#E5ECF6",
           "caxis": {
            "gridcolor": "white",
            "linecolor": "white",
            "ticks": ""
           }
          },
          "title": {
           "x": 0.05
          },
          "xaxis": {
           "automargin": true,
           "gridcolor": "white",
           "linecolor": "white",
           "ticks": "",
           "zerolinecolor": "white",
           "zerolinewidth": 2
          },
          "yaxis": {
           "automargin": true,
           "gridcolor": "white",
           "linecolor": "white",
           "ticks": "",
           "zerolinecolor": "white",
           "zerolinewidth": 2
          }
         }
        }
       }
      },
      "text/html": [
       "<div id=\"866838c1-d492-410b-b072-e54bbce5672b\" style=\"height: 600px; width: 100%;\" class=\"plotly-graph-div\"></div><script type=\"text/javascript\">require([\"plotly\"], function(Plotly) { window.PLOTLYENV=window.PLOTLYENV || {};window.PLOTLYENV.BASE_URL=\"https://plot.ly\";\n",
       "if (document.getElementById(\"866838c1-d492-410b-b072-e54bbce5672b\")) {\n",
       "    Plotly.newPlot(\"866838c1-d492-410b-b072-e54bbce5672b\", [{\"hovertemplate\": \"\\u00bfQu\\u00e9 tipo de aplicaciones utilizas en tu ordenador/tableta/m\\u00f3vil? (Respuesta m\\u00faltiple) [5. Aplicaciones de v\\u00eddeo (Youtube, Vimeo, etc.).]=No<br>counts=%{r}<br>cultural_cluster=%{theta}<extra></extra>\", \"legendgroup\": \"\\u00bfQu\\u00e9 tipo de aplicaciones utilizas en tu ordenador/tableta/m\\u00f3vil? (Respuesta m\\u00faltiple) [5. Aplicaciones de v\\u00eddeo (Youtube, Vimeo, etc.).]=No\", \"marker\": {\"color\": \"rgb(213,62,79)\"}, \"name\": \"\\u00bfQu\\u00e9 tipo de aplicaciones utilizas en tu ordenador/tableta/m\\u00f3vil? (Respuesta m\\u00faltiple) [5. Aplicaciones de v\\u00eddeo (Youtube, Vimeo, etc.).]=No\", \"r\": [11, 87, 7, 108], \"showlegend\": true, \"theta\": [\"cluster_1\", \"cluster_2\", \"cluster_3\", \"cluster_4\"], \"type\": \"barpolar\", \"uid\": \"ca255491-0305-4765-9a5a-175516da2781\"}, {\"hovertemplate\": \"\\u00bfQu\\u00e9 tipo de aplicaciones utilizas en tu ordenador/tableta/m\\u00f3vil? (Respuesta m\\u00faltiple) [5. Aplicaciones de v\\u00eddeo (Youtube, Vimeo, etc.).]=S\\u00ed<br>counts=%{r}<br>cultural_cluster=%{theta}<extra></extra>\", \"legendgroup\": \"\\u00bfQu\\u00e9 tipo de aplicaciones utilizas en tu ordenador/tableta/m\\u00f3vil? (Respuesta m\\u00faltiple) [5. Aplicaciones de v\\u00eddeo (Youtube, Vimeo, etc.).]=S\\u00ed\", \"marker\": {\"color\": \"rgb(252,141,89)\"}, \"name\": \"\\u00bfQu\\u00e9 tipo de aplicaciones utilizas en tu ordenador/tableta/m\\u00f3vil? (Respuesta m\\u00faltiple) [5. Aplicaciones de v\\u00eddeo (Youtube, Vimeo, etc.).]=S\\u00ed\", \"r\": [212, 214, 20, 107, 1], \"showlegend\": true, \"theta\": [\"cluster_1\", \"cluster_2\", \"cluster_3\", \"cluster_4\", \"cluster_5\"], \"type\": \"barpolar\", \"uid\": \"e1ac1533-b71f-4feb-b3e7-f65e9cfa2b48\"}], {\"barmode\": \"group\", \"barnorm\": \"\", \"height\": 600, \"legend\": {\"tracegroupgap\": 0}, \"margin\": {\"t\": 60}, \"template\": {\"data\": {\"barpolar\": [{\"marker\": {\"line\": {\"color\": \"#E5ECF6\", \"width\": 0.5}}, \"type\": \"barpolar\"}], \"bar\": [{\"marker\": {\"line\": {\"color\": \"#E5ECF6\", \"width\": 0.5}}, \"type\": \"bar\"}], \"carpet\": [{\"aaxis\": {\"endlinecolor\": \"#2a3f5f\", \"gridcolor\": \"white\", \"linecolor\": \"white\", \"minorgridcolor\": \"white\", \"startlinecolor\": \"#2a3f5f\"}, \"baxis\": {\"endlinecolor\": \"#2a3f5f\", \"gridcolor\": \"white\", \"linecolor\": \"white\", \"minorgridcolor\": \"white\", \"startlinecolor\": \"#2a3f5f\"}, \"type\": \"carpet\"}], \"choropleth\": [{\"colorbar\": {\"outlinewidth\": 0, \"ticks\": \"\"}, \"type\": \"choropleth\"}], \"contourcarpet\": [{\"colorbar\": {\"outlinewidth\": 0, \"ticks\": \"\"}, \"type\": \"contourcarpet\"}], \"contour\": [{\"autocolorscale\": true, \"colorbar\": {\"outlinewidth\": 0, \"ticks\": \"\"}, \"type\": \"contour\"}], \"heatmapgl\": [{\"colorbar\": {\"outlinewidth\": 0, \"ticks\": \"\"}, \"type\": \"heatmapgl\"}], \"heatmap\": [{\"autocolorscale\": true, \"colorbar\": {\"outlinewidth\": 0, \"ticks\": \"\"}, \"type\": \"heatmap\"}], \"histogram2dcontour\": [{\"autocolorscale\": true, \"colorbar\": {\"outlinewidth\": 0, \"ticks\": \"\"}, \"type\": \"histogram2dcontour\"}], \"histogram2d\": [{\"autocolorscale\": true, \"colorbar\": {\"outlinewidth\": 0, \"ticks\": \"\"}, \"type\": \"histogram2d\"}], \"histogram\": [{\"marker\": {\"colorbar\": {\"outlinewidth\": 0, \"ticks\": \"\"}}, \"type\": \"histogram\"}], \"mesh3d\": [{\"colorbar\": {\"outlinewidth\": 0, \"ticks\": \"\"}, \"type\": \"mesh3d\"}], \"parcoords\": [{\"line\": {\"colorbar\": {\"outlinewidth\": 0, \"ticks\": \"\"}}, \"type\": \"parcoords\"}], \"scatter3d\": [{\"marker\": {\"colorbar\": {\"outlinewidth\": 0, \"ticks\": \"\"}}, \"type\": \"scatter3d\"}], \"scattercarpet\": [{\"marker\": {\"colorbar\": {\"outlinewidth\": 0, \"ticks\": \"\"}}, \"type\": \"scattercarpet\"}], \"scattergeo\": [{\"marker\": {\"colorbar\": {\"outlinewidth\": 0, \"ticks\": \"\"}}, \"type\": \"scattergeo\"}], \"scattergl\": [{\"marker\": {\"colorbar\": {\"outlinewidth\": 0, \"ticks\": \"\"}}, \"type\": \"scattergl\"}], \"scattermapbox\": [{\"marker\": {\"colorbar\": {\"outlinewidth\": 0, \"ticks\": \"\"}}, \"type\": \"scattermapbox\"}], \"scatterpolargl\": [{\"marker\": {\"colorbar\": {\"outlinewidth\": 0, \"ticks\": \"\"}}, \"type\": \"scatterpolargl\"}], \"scatterpolar\": [{\"marker\": {\"colorbar\": {\"outlinewidth\": 0, \"ticks\": \"\"}}, \"type\": \"scatterpolar\"}], \"scatter\": [{\"marker\": {\"colorbar\": {\"outlinewidth\": 0, \"ticks\": \"\"}}, \"type\": \"scatter\"}], \"scatterternary\": [{\"marker\": {\"colorbar\": {\"outlinewidth\": 0, \"ticks\": \"\"}}, \"type\": \"scatterternary\"}], \"surface\": [{\"colorbar\": {\"outlinewidth\": 0, \"ticks\": \"\"}, \"type\": \"surface\"}], \"table\": [{\"cells\": {\"fill\": {\"color\": \"#EBF0F8\"}, \"line\": {\"color\": \"white\"}}, \"header\": {\"fill\": {\"color\": \"#C8D4E3\"}, \"line\": {\"color\": \"white\"}}, \"type\": \"table\"}]}, \"layout\": {\"annotationdefaults\": {\"arrowcolor\": \"#506784\", \"arrowhead\": 0, \"arrowwidth\": 1}, \"colorscale\": {\"diverging\": [[0, \"#8e0152\"], [0.1, \"#c51b7d\"], [0.2, \"#de77ae\"], [0.3, \"#f1b6da\"], [0.4, \"#fde0ef\"], [0.5, \"#f7f7f7\"], [0.6, \"#e6f5d0\"], [0.7, \"#b8e186\"], [0.8, \"#7fbc41\"], [0.9, \"#4d9221\"], [1, \"#276419\"]], \"sequential\": [[0.0, \"#0508b8\"], [0.0893854748603352, \"#1910d8\"], [0.1787709497206704, \"#3c19f0\"], [0.2681564245810056, \"#6b1cfb\"], [0.3575418994413408, \"#981cfd\"], [0.44692737430167595, \"#bf1cfd\"], [0.5363128491620112, \"#dd2bfd\"], [0.6256983240223464, \"#f246fe\"], [0.7150837988826816, \"#fc67fd\"], [0.8044692737430168, \"#fe88fc\"], [0.8938547486033519, \"#fea5fd\"], [0.9832402234636871, \"#febefe\"], [1.0, \"#fec3fe\"]], \"sequentialminus\": [[0.0, \"#0508b8\"], [0.0893854748603352, \"#1910d8\"], [0.1787709497206704, \"#3c19f0\"], [0.2681564245810056, \"#6b1cfb\"], [0.3575418994413408, \"#981cfd\"], [0.44692737430167595, \"#bf1cfd\"], [0.5363128491620112, \"#dd2bfd\"], [0.6256983240223464, \"#f246fe\"], [0.7150837988826816, \"#fc67fd\"], [0.8044692737430168, \"#fe88fc\"], [0.8938547486033519, \"#fea5fd\"], [0.9832402234636871, \"#febefe\"], [1.0, \"#fec3fe\"]]}, \"colorway\": [\"#636efa\", \"#EF553B\", \"#00cc96\", \"#ab63fa\", \"#19d3f3\", \"#e763fa\", \"#FECB52\", \"#FFA15A\", \"#FF6692\", \"#B6E880\"], \"font\": {\"color\": \"#2a3f5f\"}, \"geo\": {\"bgcolor\": \"white\", \"lakecolor\": \"white\", \"landcolor\": \"#E5ECF6\", \"showlakes\": true, \"showland\": true, \"subunitcolor\": \"white\"}, \"hovermode\": \"closest\", \"mapbox\": {\"style\": \"light\"}, \"paper_bgcolor\": \"white\", \"plot_bgcolor\": \"#E5ECF6\", \"polar\": {\"angularaxis\": {\"gridcolor\": \"white\", \"linecolor\": \"white\", \"ticks\": \"\"}, \"bgcolor\": \"#E5ECF6\", \"radialaxis\": {\"gridcolor\": \"white\", \"linecolor\": \"white\", \"ticks\": \"\"}}, \"scene\": {\"xaxis\": {\"backgroundcolor\": \"#E5ECF6\", \"gridcolor\": \"white\", \"gridwidth\": 2, \"linecolor\": \"white\", \"showbackground\": true, \"ticks\": \"\", \"zerolinecolor\": \"white\"}, \"yaxis\": {\"backgroundcolor\": \"#E5ECF6\", \"gridcolor\": \"white\", \"gridwidth\": 2, \"linecolor\": \"white\", \"showbackground\": true, \"ticks\": \"\", \"zerolinecolor\": \"white\"}, \"zaxis\": {\"backgroundcolor\": \"#E5ECF6\", \"gridcolor\": \"white\", \"gridwidth\": 2, \"linecolor\": \"white\", \"showbackground\": true, \"ticks\": \"\", \"zerolinecolor\": \"white\"}}, \"shapedefaults\": {\"fillcolor\": \"#506784\", \"line\": {\"width\": 0}, \"opacity\": 0.4}, \"ternary\": {\"aaxis\": {\"gridcolor\": \"white\", \"linecolor\": \"white\", \"ticks\": \"\"}, \"baxis\": {\"gridcolor\": \"white\", \"linecolor\": \"white\", \"ticks\": \"\"}, \"bgcolor\": \"#E5ECF6\", \"caxis\": {\"gridcolor\": \"white\", \"linecolor\": \"white\", \"ticks\": \"\"}}, \"title\": {\"x\": 0.05}, \"xaxis\": {\"automargin\": true, \"gridcolor\": \"white\", \"linecolor\": \"white\", \"ticks\": \"\", \"zerolinecolor\": \"white\", \"zerolinewidth\": 2}, \"yaxis\": {\"automargin\": true, \"gridcolor\": \"white\", \"linecolor\": \"white\", \"ticks\": \"\", \"zerolinecolor\": \"white\", \"zerolinewidth\": 2}}}, \"polar\": {\"angularaxis\": {\"direction\": \"clockwise\", \"rotation\": 90}}}, {\"showLink\": false, \"linkText\": \"Export to plot.ly\", \"plotlyServerURL\": \"https://plot.ly\"}); \n",
       "}\n",
       "});</script><script type=\"text/javascript\">window.addEventListener(\"resize\", function(){if (document.getElementById(\"866838c1-d492-410b-b072-e54bbce5672b\")) {window._Plotly.Plots.resize(document.getElementById(\"866838c1-d492-410b-b072-e54bbce5672b\"));};})</script>"
      ],
      "text/vnd.plotly.v1+html": [
       "<div id=\"866838c1-d492-410b-b072-e54bbce5672b\" style=\"height: 600px; width: 100%;\" class=\"plotly-graph-div\"></div><script type=\"text/javascript\">require([\"plotly\"], function(Plotly) { window.PLOTLYENV=window.PLOTLYENV || {};window.PLOTLYENV.BASE_URL=\"https://plot.ly\";\n",
       "if (document.getElementById(\"866838c1-d492-410b-b072-e54bbce5672b\")) {\n",
       "    Plotly.newPlot(\"866838c1-d492-410b-b072-e54bbce5672b\", [{\"hovertemplate\": \"\\u00bfQu\\u00e9 tipo de aplicaciones utilizas en tu ordenador/tableta/m\\u00f3vil? (Respuesta m\\u00faltiple) [5. Aplicaciones de v\\u00eddeo (Youtube, Vimeo, etc.).]=No<br>counts=%{r}<br>cultural_cluster=%{theta}<extra></extra>\", \"legendgroup\": \"\\u00bfQu\\u00e9 tipo de aplicaciones utilizas en tu ordenador/tableta/m\\u00f3vil? (Respuesta m\\u00faltiple) [5. Aplicaciones de v\\u00eddeo (Youtube, Vimeo, etc.).]=No\", \"marker\": {\"color\": \"rgb(213,62,79)\"}, \"name\": \"\\u00bfQu\\u00e9 tipo de aplicaciones utilizas en tu ordenador/tableta/m\\u00f3vil? (Respuesta m\\u00faltiple) [5. Aplicaciones de v\\u00eddeo (Youtube, Vimeo, etc.).]=No\", \"r\": [11, 87, 7, 108], \"showlegend\": true, \"theta\": [\"cluster_1\", \"cluster_2\", \"cluster_3\", \"cluster_4\"], \"type\": \"barpolar\", \"uid\": \"ca255491-0305-4765-9a5a-175516da2781\"}, {\"hovertemplate\": \"\\u00bfQu\\u00e9 tipo de aplicaciones utilizas en tu ordenador/tableta/m\\u00f3vil? (Respuesta m\\u00faltiple) [5. Aplicaciones de v\\u00eddeo (Youtube, Vimeo, etc.).]=S\\u00ed<br>counts=%{r}<br>cultural_cluster=%{theta}<extra></extra>\", \"legendgroup\": \"\\u00bfQu\\u00e9 tipo de aplicaciones utilizas en tu ordenador/tableta/m\\u00f3vil? (Respuesta m\\u00faltiple) [5. Aplicaciones de v\\u00eddeo (Youtube, Vimeo, etc.).]=S\\u00ed\", \"marker\": {\"color\": \"rgb(252,141,89)\"}, \"name\": \"\\u00bfQu\\u00e9 tipo de aplicaciones utilizas en tu ordenador/tableta/m\\u00f3vil? (Respuesta m\\u00faltiple) [5. Aplicaciones de v\\u00eddeo (Youtube, Vimeo, etc.).]=S\\u00ed\", \"r\": [212, 214, 20, 107, 1], \"showlegend\": true, \"theta\": [\"cluster_1\", \"cluster_2\", \"cluster_3\", \"cluster_4\", \"cluster_5\"], \"type\": \"barpolar\", \"uid\": \"e1ac1533-b71f-4feb-b3e7-f65e9cfa2b48\"}], {\"barmode\": \"group\", \"barnorm\": \"\", \"height\": 600, \"legend\": {\"tracegroupgap\": 0}, \"margin\": {\"t\": 60}, \"template\": {\"data\": {\"barpolar\": [{\"marker\": {\"line\": {\"color\": \"#E5ECF6\", \"width\": 0.5}}, \"type\": \"barpolar\"}], \"bar\": [{\"marker\": {\"line\": {\"color\": \"#E5ECF6\", \"width\": 0.5}}, \"type\": \"bar\"}], \"carpet\": [{\"aaxis\": {\"endlinecolor\": \"#2a3f5f\", \"gridcolor\": \"white\", \"linecolor\": \"white\", \"minorgridcolor\": \"white\", \"startlinecolor\": \"#2a3f5f\"}, \"baxis\": {\"endlinecolor\": \"#2a3f5f\", \"gridcolor\": \"white\", \"linecolor\": \"white\", \"minorgridcolor\": \"white\", \"startlinecolor\": \"#2a3f5f\"}, \"type\": \"carpet\"}], \"choropleth\": [{\"colorbar\": {\"outlinewidth\": 0, \"ticks\": \"\"}, \"type\": \"choropleth\"}], \"contourcarpet\": [{\"colorbar\": {\"outlinewidth\": 0, \"ticks\": \"\"}, \"type\": \"contourcarpet\"}], \"contour\": [{\"autocolorscale\": true, \"colorbar\": {\"outlinewidth\": 0, \"ticks\": \"\"}, \"type\": \"contour\"}], \"heatmapgl\": [{\"colorbar\": {\"outlinewidth\": 0, \"ticks\": \"\"}, \"type\": \"heatmapgl\"}], \"heatmap\": [{\"autocolorscale\": true, \"colorbar\": {\"outlinewidth\": 0, \"ticks\": \"\"}, \"type\": \"heatmap\"}], \"histogram2dcontour\": [{\"autocolorscale\": true, \"colorbar\": {\"outlinewidth\": 0, \"ticks\": \"\"}, \"type\": \"histogram2dcontour\"}], \"histogram2d\": [{\"autocolorscale\": true, \"colorbar\": {\"outlinewidth\": 0, \"ticks\": \"\"}, \"type\": \"histogram2d\"}], \"histogram\": [{\"marker\": {\"colorbar\": {\"outlinewidth\": 0, \"ticks\": \"\"}}, \"type\": \"histogram\"}], \"mesh3d\": [{\"colorbar\": {\"outlinewidth\": 0, \"ticks\": \"\"}, \"type\": \"mesh3d\"}], \"parcoords\": [{\"line\": {\"colorbar\": {\"outlinewidth\": 0, \"ticks\": \"\"}}, \"type\": \"parcoords\"}], \"scatter3d\": [{\"marker\": {\"colorbar\": {\"outlinewidth\": 0, \"ticks\": \"\"}}, \"type\": \"scatter3d\"}], \"scattercarpet\": [{\"marker\": {\"colorbar\": {\"outlinewidth\": 0, \"ticks\": \"\"}}, \"type\": \"scattercarpet\"}], \"scattergeo\": [{\"marker\": {\"colorbar\": {\"outlinewidth\": 0, \"ticks\": \"\"}}, \"type\": \"scattergeo\"}], \"scattergl\": [{\"marker\": {\"colorbar\": {\"outlinewidth\": 0, \"ticks\": \"\"}}, \"type\": \"scattergl\"}], \"scattermapbox\": [{\"marker\": {\"colorbar\": {\"outlinewidth\": 0, \"ticks\": \"\"}}, \"type\": \"scattermapbox\"}], \"scatterpolargl\": [{\"marker\": {\"colorbar\": {\"outlinewidth\": 0, \"ticks\": \"\"}}, \"type\": \"scatterpolargl\"}], \"scatterpolar\": [{\"marker\": {\"colorbar\": {\"outlinewidth\": 0, \"ticks\": \"\"}}, \"type\": \"scatterpolar\"}], \"scatter\": [{\"marker\": {\"colorbar\": {\"outlinewidth\": 0, \"ticks\": \"\"}}, \"type\": \"scatter\"}], \"scatterternary\": [{\"marker\": {\"colorbar\": {\"outlinewidth\": 0, \"ticks\": \"\"}}, \"type\": \"scatterternary\"}], \"surface\": [{\"colorbar\": {\"outlinewidth\": 0, \"ticks\": \"\"}, \"type\": \"surface\"}], \"table\": [{\"cells\": {\"fill\": {\"color\": \"#EBF0F8\"}, \"line\": {\"color\": \"white\"}}, \"header\": {\"fill\": {\"color\": \"#C8D4E3\"}, \"line\": {\"color\": \"white\"}}, \"type\": \"table\"}]}, \"layout\": {\"annotationdefaults\": {\"arrowcolor\": \"#506784\", \"arrowhead\": 0, \"arrowwidth\": 1}, \"colorscale\": {\"diverging\": [[0, \"#8e0152\"], [0.1, \"#c51b7d\"], [0.2, \"#de77ae\"], [0.3, \"#f1b6da\"], [0.4, \"#fde0ef\"], [0.5, \"#f7f7f7\"], [0.6, \"#e6f5d0\"], [0.7, \"#b8e186\"], [0.8, \"#7fbc41\"], [0.9, \"#4d9221\"], [1, \"#276419\"]], \"sequential\": [[0.0, \"#0508b8\"], [0.0893854748603352, \"#1910d8\"], [0.1787709497206704, \"#3c19f0\"], [0.2681564245810056, \"#6b1cfb\"], [0.3575418994413408, \"#981cfd\"], [0.44692737430167595, \"#bf1cfd\"], [0.5363128491620112, \"#dd2bfd\"], [0.6256983240223464, \"#f246fe\"], [0.7150837988826816, \"#fc67fd\"], [0.8044692737430168, \"#fe88fc\"], [0.8938547486033519, \"#fea5fd\"], [0.9832402234636871, \"#febefe\"], [1.0, \"#fec3fe\"]], \"sequentialminus\": [[0.0, \"#0508b8\"], [0.0893854748603352, \"#1910d8\"], [0.1787709497206704, \"#3c19f0\"], [0.2681564245810056, \"#6b1cfb\"], [0.3575418994413408, \"#981cfd\"], [0.44692737430167595, \"#bf1cfd\"], [0.5363128491620112, \"#dd2bfd\"], [0.6256983240223464, \"#f246fe\"], [0.7150837988826816, \"#fc67fd\"], [0.8044692737430168, \"#fe88fc\"], [0.8938547486033519, \"#fea5fd\"], [0.9832402234636871, \"#febefe\"], [1.0, \"#fec3fe\"]]}, \"colorway\": [\"#636efa\", \"#EF553B\", \"#00cc96\", \"#ab63fa\", \"#19d3f3\", \"#e763fa\", \"#FECB52\", \"#FFA15A\", \"#FF6692\", \"#B6E880\"], \"font\": {\"color\": \"#2a3f5f\"}, \"geo\": {\"bgcolor\": \"white\", \"lakecolor\": \"white\", \"landcolor\": \"#E5ECF6\", \"showlakes\": true, \"showland\": true, \"subunitcolor\": \"white\"}, \"hovermode\": \"closest\", \"mapbox\": {\"style\": \"light\"}, \"paper_bgcolor\": \"white\", \"plot_bgcolor\": \"#E5ECF6\", \"polar\": {\"angularaxis\": {\"gridcolor\": \"white\", \"linecolor\": \"white\", \"ticks\": \"\"}, \"bgcolor\": \"#E5ECF6\", \"radialaxis\": {\"gridcolor\": \"white\", \"linecolor\": \"white\", \"ticks\": \"\"}}, \"scene\": {\"xaxis\": {\"backgroundcolor\": \"#E5ECF6\", \"gridcolor\": \"white\", \"gridwidth\": 2, \"linecolor\": \"white\", \"showbackground\": true, \"ticks\": \"\", \"zerolinecolor\": \"white\"}, \"yaxis\": {\"backgroundcolor\": \"#E5ECF6\", \"gridcolor\": \"white\", \"gridwidth\": 2, \"linecolor\": \"white\", \"showbackground\": true, \"ticks\": \"\", \"zerolinecolor\": \"white\"}, \"zaxis\": {\"backgroundcolor\": \"#E5ECF6\", \"gridcolor\": \"white\", \"gridwidth\": 2, \"linecolor\": \"white\", \"showbackground\": true, \"ticks\": \"\", \"zerolinecolor\": \"white\"}}, \"shapedefaults\": {\"fillcolor\": \"#506784\", \"line\": {\"width\": 0}, \"opacity\": 0.4}, \"ternary\": {\"aaxis\": {\"gridcolor\": \"white\", \"linecolor\": \"white\", \"ticks\": \"\"}, \"baxis\": {\"gridcolor\": \"white\", \"linecolor\": \"white\", \"ticks\": \"\"}, \"bgcolor\": \"#E5ECF6\", \"caxis\": {\"gridcolor\": \"white\", \"linecolor\": \"white\", \"ticks\": \"\"}}, \"title\": {\"x\": 0.05}, \"xaxis\": {\"automargin\": true, \"gridcolor\": \"white\", \"linecolor\": \"white\", \"ticks\": \"\", \"zerolinecolor\": \"white\", \"zerolinewidth\": 2}, \"yaxis\": {\"automargin\": true, \"gridcolor\": \"white\", \"linecolor\": \"white\", \"ticks\": \"\", \"zerolinecolor\": \"white\", \"zerolinewidth\": 2}}}, \"polar\": {\"angularaxis\": {\"direction\": \"clockwise\", \"rotation\": 90}}}, {\"showLink\": false, \"linkText\": \"Export to plot.ly\", \"plotlyServerURL\": \"https://plot.ly\"}); \n",
       "}\n",
       "});</script><script type=\"text/javascript\">window.addEventListener(\"resize\", function(){if (document.getElementById(\"866838c1-d492-410b-b072-e54bbce5672b\")) {window._Plotly.Plots.resize(document.getElementById(\"866838c1-d492-410b-b072-e54bbce5672b\"));};})</script>"
      ]
     },
     "metadata": {},
     "output_type": "display_data"
    },
    {
     "name": "stdout",
     "output_type": "stream",
     "text": [
      "Comparando la pregunta Durante ese uso, ¿cuántas imágenes consumes (ves y compartes)?\n"
     ]
    },
    {
     "data": {
      "application/vnd.plotly.v1+json": {
       "config": {
        "linkText": "Export to plot.ly",
        "plotlyServerURL": "https://plot.ly",
        "showLink": false
       },
       "data": [
        {
         "hovertemplate": "Durante ese uso, ¿cuántas imágenes consumes (ves y compartes)?=1. Ninguna<br>counts=%{r}<br>cultural_cluster=%{theta}<extra></extra>",
         "legendgroup": "Durante ese uso, ¿cuántas imágenes consumes (ves y compartes)?=1. Ninguna",
         "marker": {
          "color": "rgb(213,62,79)"
         },
         "name": "Durante ese uso, ¿cuántas imágenes consumes (ves y compartes)?=1. Ninguna",
         "r": [
          2,
          1,
          5
         ],
         "showlegend": true,
         "theta": [
          "cluster_2",
          "cluster_3",
          "cluster_4"
         ],
         "type": "barpolar",
         "uid": "1cb9efe5-5237-41b0-bd92-c6a437a0876c"
        },
        {
         "hovertemplate": "Durante ese uso, ¿cuántas imágenes consumes (ves y compartes)?=2. Pocas<br>counts=%{r}<br>cultural_cluster=%{theta}<extra></extra>",
         "legendgroup": "Durante ese uso, ¿cuántas imágenes consumes (ves y compartes)?=2. Pocas",
         "marker": {
          "color": "rgb(252,141,89)"
         },
         "name": "Durante ese uso, ¿cuántas imágenes consumes (ves y compartes)?=2. Pocas",
         "r": [
          3,
          19,
          1,
          39
         ],
         "showlegend": true,
         "theta": [
          "cluster_1",
          "cluster_2",
          "cluster_3",
          "cluster_4"
         ],
         "type": "barpolar",
         "uid": "7839e398-cb9f-42fc-94eb-fadf33f3c7a4"
        },
        {
         "hovertemplate": "Durante ese uso, ¿cuántas imágenes consumes (ves y compartes)?=3. Ni muchas ni pocas<br>counts=%{r}<br>cultural_cluster=%{theta}<extra></extra>",
         "legendgroup": "Durante ese uso, ¿cuántas imágenes consumes (ves y compartes)?=3. Ni muchas ni pocas",
         "marker": {
          "color": "rgb(254,224,139)"
         },
         "name": "Durante ese uso, ¿cuántas imágenes consumes (ves y compartes)?=3. Ni muchas ni pocas",
         "r": [
          17,
          41,
          9,
          68
         ],
         "showlegend": true,
         "theta": [
          "cluster_1",
          "cluster_2",
          "cluster_3",
          "cluster_4"
         ],
         "type": "barpolar",
         "uid": "4748f212-3381-419b-84f3-80548a5b51e5"
        },
        {
         "hovertemplate": "Durante ese uso, ¿cuántas imágenes consumes (ves y compartes)?=4. Bastantes<br>counts=%{r}<br>cultural_cluster=%{theta}<extra></extra>",
         "legendgroup": "Durante ese uso, ¿cuántas imágenes consumes (ves y compartes)?=4. Bastantes",
         "marker": {
          "color": "rgb(230,245,152)"
         },
         "name": "Durante ese uso, ¿cuántas imágenes consumes (ves y compartes)?=4. Bastantes",
         "r": [
          119,
          174,
          10,
          87,
          1
         ],
         "showlegend": true,
         "theta": [
          "cluster_1",
          "cluster_2",
          "cluster_3",
          "cluster_4",
          "cluster_5"
         ],
         "type": "barpolar",
         "uid": "8c586288-675b-4234-b9cd-460f1528e18a"
        },
        {
         "hovertemplate": "Durante ese uso, ¿cuántas imágenes consumes (ves y compartes)?=5. Recibo y envio imágenes de forma constante<br>counts=%{r}<br>cultural_cluster=%{theta}<extra></extra>",
         "legendgroup": "Durante ese uso, ¿cuántas imágenes consumes (ves y compartes)?=5. Recibo y envio imágenes de forma constante",
         "marker": {
          "color": "rgb(153,213,148)"
         },
         "name": "Durante ese uso, ¿cuántas imágenes consumes (ves y compartes)?=5. Recibo y envio imágenes de forma constante",
         "r": [
          84,
          65,
          6,
          16
         ],
         "showlegend": true,
         "theta": [
          "cluster_1",
          "cluster_2",
          "cluster_3",
          "cluster_4"
         ],
         "type": "barpolar",
         "uid": "7e917054-72f4-4849-96e9-7b92ea8fd7a6"
        }
       ],
       "layout": {
        "barmode": "group",
        "barnorm": "",
        "height": 600,
        "legend": {
         "tracegroupgap": 0
        },
        "margin": {
         "t": 60
        },
        "polar": {
         "angularaxis": {
          "direction": "clockwise",
          "rotation": 90
         }
        },
        "template": {
         "data": {
          "bar": [
           {
            "marker": {
             "line": {
              "color": "#E5ECF6",
              "width": 0.5
             }
            },
            "type": "bar"
           }
          ],
          "barpolar": [
           {
            "marker": {
             "line": {
              "color": "#E5ECF6",
              "width": 0.5
             }
            },
            "type": "barpolar"
           }
          ],
          "carpet": [
           {
            "aaxis": {
             "endlinecolor": "#2a3f5f",
             "gridcolor": "white",
             "linecolor": "white",
             "minorgridcolor": "white",
             "startlinecolor": "#2a3f5f"
            },
            "baxis": {
             "endlinecolor": "#2a3f5f",
             "gridcolor": "white",
             "linecolor": "white",
             "minorgridcolor": "white",
             "startlinecolor": "#2a3f5f"
            },
            "type": "carpet"
           }
          ],
          "choropleth": [
           {
            "colorbar": {
             "outlinewidth": 0,
             "ticks": ""
            },
            "type": "choropleth"
           }
          ],
          "contour": [
           {
            "autocolorscale": true,
            "colorbar": {
             "outlinewidth": 0,
             "ticks": ""
            },
            "type": "contour"
           }
          ],
          "contourcarpet": [
           {
            "colorbar": {
             "outlinewidth": 0,
             "ticks": ""
            },
            "type": "contourcarpet"
           }
          ],
          "heatmap": [
           {
            "autocolorscale": true,
            "colorbar": {
             "outlinewidth": 0,
             "ticks": ""
            },
            "type": "heatmap"
           }
          ],
          "heatmapgl": [
           {
            "colorbar": {
             "outlinewidth": 0,
             "ticks": ""
            },
            "type": "heatmapgl"
           }
          ],
          "histogram": [
           {
            "marker": {
             "colorbar": {
              "outlinewidth": 0,
              "ticks": ""
             }
            },
            "type": "histogram"
           }
          ],
          "histogram2d": [
           {
            "autocolorscale": true,
            "colorbar": {
             "outlinewidth": 0,
             "ticks": ""
            },
            "type": "histogram2d"
           }
          ],
          "histogram2dcontour": [
           {
            "autocolorscale": true,
            "colorbar": {
             "outlinewidth": 0,
             "ticks": ""
            },
            "type": "histogram2dcontour"
           }
          ],
          "mesh3d": [
           {
            "colorbar": {
             "outlinewidth": 0,
             "ticks": ""
            },
            "type": "mesh3d"
           }
          ],
          "parcoords": [
           {
            "line": {
             "colorbar": {
              "outlinewidth": 0,
              "ticks": ""
             }
            },
            "type": "parcoords"
           }
          ],
          "scatter": [
           {
            "marker": {
             "colorbar": {
              "outlinewidth": 0,
              "ticks": ""
             }
            },
            "type": "scatter"
           }
          ],
          "scatter3d": [
           {
            "marker": {
             "colorbar": {
              "outlinewidth": 0,
              "ticks": ""
             }
            },
            "type": "scatter3d"
           }
          ],
          "scattercarpet": [
           {
            "marker": {
             "colorbar": {
              "outlinewidth": 0,
              "ticks": ""
             }
            },
            "type": "scattercarpet"
           }
          ],
          "scattergeo": [
           {
            "marker": {
             "colorbar": {
              "outlinewidth": 0,
              "ticks": ""
             }
            },
            "type": "scattergeo"
           }
          ],
          "scattergl": [
           {
            "marker": {
             "colorbar": {
              "outlinewidth": 0,
              "ticks": ""
             }
            },
            "type": "scattergl"
           }
          ],
          "scattermapbox": [
           {
            "marker": {
             "colorbar": {
              "outlinewidth": 0,
              "ticks": ""
             }
            },
            "type": "scattermapbox"
           }
          ],
          "scatterpolar": [
           {
            "marker": {
             "colorbar": {
              "outlinewidth": 0,
              "ticks": ""
             }
            },
            "type": "scatterpolar"
           }
          ],
          "scatterpolargl": [
           {
            "marker": {
             "colorbar": {
              "outlinewidth": 0,
              "ticks": ""
             }
            },
            "type": "scatterpolargl"
           }
          ],
          "scatterternary": [
           {
            "marker": {
             "colorbar": {
              "outlinewidth": 0,
              "ticks": ""
             }
            },
            "type": "scatterternary"
           }
          ],
          "surface": [
           {
            "colorbar": {
             "outlinewidth": 0,
             "ticks": ""
            },
            "type": "surface"
           }
          ],
          "table": [
           {
            "cells": {
             "fill": {
              "color": "#EBF0F8"
             },
             "line": {
              "color": "white"
             }
            },
            "header": {
             "fill": {
              "color": "#C8D4E3"
             },
             "line": {
              "color": "white"
             }
            },
            "type": "table"
           }
          ]
         },
         "layout": {
          "annotationdefaults": {
           "arrowcolor": "#506784",
           "arrowhead": 0,
           "arrowwidth": 1
          },
          "colorscale": {
           "diverging": [
            [
             0,
             "#8e0152"
            ],
            [
             0.1,
             "#c51b7d"
            ],
            [
             0.2,
             "#de77ae"
            ],
            [
             0.3,
             "#f1b6da"
            ],
            [
             0.4,
             "#fde0ef"
            ],
            [
             0.5,
             "#f7f7f7"
            ],
            [
             0.6,
             "#e6f5d0"
            ],
            [
             0.7,
             "#b8e186"
            ],
            [
             0.8,
             "#7fbc41"
            ],
            [
             0.9,
             "#4d9221"
            ],
            [
             1,
             "#276419"
            ]
           ],
           "sequential": [
            [
             0,
             "#0508b8"
            ],
            [
             0.0893854748603352,
             "#1910d8"
            ],
            [
             0.1787709497206704,
             "#3c19f0"
            ],
            [
             0.2681564245810056,
             "#6b1cfb"
            ],
            [
             0.3575418994413408,
             "#981cfd"
            ],
            [
             0.44692737430167595,
             "#bf1cfd"
            ],
            [
             0.5363128491620112,
             "#dd2bfd"
            ],
            [
             0.6256983240223464,
             "#f246fe"
            ],
            [
             0.7150837988826816,
             "#fc67fd"
            ],
            [
             0.8044692737430168,
             "#fe88fc"
            ],
            [
             0.8938547486033519,
             "#fea5fd"
            ],
            [
             0.9832402234636871,
             "#febefe"
            ],
            [
             1,
             "#fec3fe"
            ]
           ],
           "sequentialminus": [
            [
             0,
             "#0508b8"
            ],
            [
             0.0893854748603352,
             "#1910d8"
            ],
            [
             0.1787709497206704,
             "#3c19f0"
            ],
            [
             0.2681564245810056,
             "#6b1cfb"
            ],
            [
             0.3575418994413408,
             "#981cfd"
            ],
            [
             0.44692737430167595,
             "#bf1cfd"
            ],
            [
             0.5363128491620112,
             "#dd2bfd"
            ],
            [
             0.6256983240223464,
             "#f246fe"
            ],
            [
             0.7150837988826816,
             "#fc67fd"
            ],
            [
             0.8044692737430168,
             "#fe88fc"
            ],
            [
             0.8938547486033519,
             "#fea5fd"
            ],
            [
             0.9832402234636871,
             "#febefe"
            ],
            [
             1,
             "#fec3fe"
            ]
           ]
          },
          "colorway": [
           "#636efa",
           "#EF553B",
           "#00cc96",
           "#ab63fa",
           "#19d3f3",
           "#e763fa",
           "#FECB52",
           "#FFA15A",
           "#FF6692",
           "#B6E880"
          ],
          "font": {
           "color": "#2a3f5f"
          },
          "geo": {
           "bgcolor": "white",
           "lakecolor": "white",
           "landcolor": "#E5ECF6",
           "showlakes": true,
           "showland": true,
           "subunitcolor": "white"
          },
          "hovermode": "closest",
          "mapbox": {
           "style": "light"
          },
          "paper_bgcolor": "white",
          "plot_bgcolor": "#E5ECF6",
          "polar": {
           "angularaxis": {
            "gridcolor": "white",
            "linecolor": "white",
            "ticks": ""
           },
           "bgcolor": "#E5ECF6",
           "radialaxis": {
            "gridcolor": "white",
            "linecolor": "white",
            "ticks": ""
           }
          },
          "scene": {
           "xaxis": {
            "backgroundcolor": "#E5ECF6",
            "gridcolor": "white",
            "gridwidth": 2,
            "linecolor": "white",
            "showbackground": true,
            "ticks": "",
            "zerolinecolor": "white"
           },
           "yaxis": {
            "backgroundcolor": "#E5ECF6",
            "gridcolor": "white",
            "gridwidth": 2,
            "linecolor": "white",
            "showbackground": true,
            "ticks": "",
            "zerolinecolor": "white"
           },
           "zaxis": {
            "backgroundcolor": "#E5ECF6",
            "gridcolor": "white",
            "gridwidth": 2,
            "linecolor": "white",
            "showbackground": true,
            "ticks": "",
            "zerolinecolor": "white"
           }
          },
          "shapedefaults": {
           "fillcolor": "#506784",
           "line": {
            "width": 0
           },
           "opacity": 0.4
          },
          "ternary": {
           "aaxis": {
            "gridcolor": "white",
            "linecolor": "white",
            "ticks": ""
           },
           "baxis": {
            "gridcolor": "white",
            "linecolor": "white",
            "ticks": ""
           },
           "bgcolor": "#E5ECF6",
           "caxis": {
            "gridcolor": "white",
            "linecolor": "white",
            "ticks": ""
           }
          },
          "title": {
           "x": 0.05
          },
          "xaxis": {
           "automargin": true,
           "gridcolor": "white",
           "linecolor": "white",
           "ticks": "",
           "zerolinecolor": "white",
           "zerolinewidth": 2
          },
          "yaxis": {
           "automargin": true,
           "gridcolor": "white",
           "linecolor": "white",
           "ticks": "",
           "zerolinecolor": "white",
           "zerolinewidth": 2
          }
         }
        }
       }
      },
      "text/html": [
       "<div id=\"b29f7318-05bf-426d-a6db-4a546035d342\" style=\"height: 600px; width: 100%;\" class=\"plotly-graph-div\"></div><script type=\"text/javascript\">require([\"plotly\"], function(Plotly) { window.PLOTLYENV=window.PLOTLYENV || {};window.PLOTLYENV.BASE_URL=\"https://plot.ly\";\n",
       "if (document.getElementById(\"b29f7318-05bf-426d-a6db-4a546035d342\")) {\n",
       "    Plotly.newPlot(\"b29f7318-05bf-426d-a6db-4a546035d342\", [{\"hovertemplate\": \"Durante ese uso, \\u00bfcu\\u00e1ntas im\\u00e1genes consumes (ves y compartes)?=1. Ninguna<br>counts=%{r}<br>cultural_cluster=%{theta}<extra></extra>\", \"legendgroup\": \"Durante ese uso, \\u00bfcu\\u00e1ntas im\\u00e1genes consumes (ves y compartes)?=1. Ninguna\", \"marker\": {\"color\": \"rgb(213,62,79)\"}, \"name\": \"Durante ese uso, \\u00bfcu\\u00e1ntas im\\u00e1genes consumes (ves y compartes)?=1. Ninguna\", \"r\": [2, 1, 5], \"showlegend\": true, \"theta\": [\"cluster_2\", \"cluster_3\", \"cluster_4\"], \"type\": \"barpolar\", \"uid\": \"1cb9efe5-5237-41b0-bd92-c6a437a0876c\"}, {\"hovertemplate\": \"Durante ese uso, \\u00bfcu\\u00e1ntas im\\u00e1genes consumes (ves y compartes)?=2. Pocas<br>counts=%{r}<br>cultural_cluster=%{theta}<extra></extra>\", \"legendgroup\": \"Durante ese uso, \\u00bfcu\\u00e1ntas im\\u00e1genes consumes (ves y compartes)?=2. Pocas\", \"marker\": {\"color\": \"rgb(252,141,89)\"}, \"name\": \"Durante ese uso, \\u00bfcu\\u00e1ntas im\\u00e1genes consumes (ves y compartes)?=2. Pocas\", \"r\": [3, 19, 1, 39], \"showlegend\": true, \"theta\": [\"cluster_1\", \"cluster_2\", \"cluster_3\", \"cluster_4\"], \"type\": \"barpolar\", \"uid\": \"7839e398-cb9f-42fc-94eb-fadf33f3c7a4\"}, {\"hovertemplate\": \"Durante ese uso, \\u00bfcu\\u00e1ntas im\\u00e1genes consumes (ves y compartes)?=3. Ni muchas ni pocas<br>counts=%{r}<br>cultural_cluster=%{theta}<extra></extra>\", \"legendgroup\": \"Durante ese uso, \\u00bfcu\\u00e1ntas im\\u00e1genes consumes (ves y compartes)?=3. Ni muchas ni pocas\", \"marker\": {\"color\": \"rgb(254,224,139)\"}, \"name\": \"Durante ese uso, \\u00bfcu\\u00e1ntas im\\u00e1genes consumes (ves y compartes)?=3. Ni muchas ni pocas\", \"r\": [17, 41, 9, 68], \"showlegend\": true, \"theta\": [\"cluster_1\", \"cluster_2\", \"cluster_3\", \"cluster_4\"], \"type\": \"barpolar\", \"uid\": \"4748f212-3381-419b-84f3-80548a5b51e5\"}, {\"hovertemplate\": \"Durante ese uso, \\u00bfcu\\u00e1ntas im\\u00e1genes consumes (ves y compartes)?=4. Bastantes<br>counts=%{r}<br>cultural_cluster=%{theta}<extra></extra>\", \"legendgroup\": \"Durante ese uso, \\u00bfcu\\u00e1ntas im\\u00e1genes consumes (ves y compartes)?=4. Bastantes\", \"marker\": {\"color\": \"rgb(230,245,152)\"}, \"name\": \"Durante ese uso, \\u00bfcu\\u00e1ntas im\\u00e1genes consumes (ves y compartes)?=4. Bastantes\", \"r\": [119, 174, 10, 87, 1], \"showlegend\": true, \"theta\": [\"cluster_1\", \"cluster_2\", \"cluster_3\", \"cluster_4\", \"cluster_5\"], \"type\": \"barpolar\", \"uid\": \"8c586288-675b-4234-b9cd-460f1528e18a\"}, {\"hovertemplate\": \"Durante ese uso, \\u00bfcu\\u00e1ntas im\\u00e1genes consumes (ves y compartes)?=5. Recibo y envio im\\u00e1genes de forma constante<br>counts=%{r}<br>cultural_cluster=%{theta}<extra></extra>\", \"legendgroup\": \"Durante ese uso, \\u00bfcu\\u00e1ntas im\\u00e1genes consumes (ves y compartes)?=5. Recibo y envio im\\u00e1genes de forma constante\", \"marker\": {\"color\": \"rgb(153,213,148)\"}, \"name\": \"Durante ese uso, \\u00bfcu\\u00e1ntas im\\u00e1genes consumes (ves y compartes)?=5. Recibo y envio im\\u00e1genes de forma constante\", \"r\": [84, 65, 6, 16], \"showlegend\": true, \"theta\": [\"cluster_1\", \"cluster_2\", \"cluster_3\", \"cluster_4\"], \"type\": \"barpolar\", \"uid\": \"7e917054-72f4-4849-96e9-7b92ea8fd7a6\"}], {\"barmode\": \"group\", \"barnorm\": \"\", \"height\": 600, \"legend\": {\"tracegroupgap\": 0}, \"margin\": {\"t\": 60}, \"template\": {\"data\": {\"barpolar\": [{\"marker\": {\"line\": {\"color\": \"#E5ECF6\", \"width\": 0.5}}, \"type\": \"barpolar\"}], \"bar\": [{\"marker\": {\"line\": {\"color\": \"#E5ECF6\", \"width\": 0.5}}, \"type\": \"bar\"}], \"carpet\": [{\"aaxis\": {\"endlinecolor\": \"#2a3f5f\", \"gridcolor\": \"white\", \"linecolor\": \"white\", \"minorgridcolor\": \"white\", \"startlinecolor\": \"#2a3f5f\"}, \"baxis\": {\"endlinecolor\": \"#2a3f5f\", \"gridcolor\": \"white\", \"linecolor\": \"white\", \"minorgridcolor\": \"white\", \"startlinecolor\": \"#2a3f5f\"}, \"type\": \"carpet\"}], \"choropleth\": [{\"colorbar\": {\"outlinewidth\": 0, \"ticks\": \"\"}, \"type\": \"choropleth\"}], \"contourcarpet\": [{\"colorbar\": {\"outlinewidth\": 0, \"ticks\": \"\"}, \"type\": \"contourcarpet\"}], \"contour\": [{\"autocolorscale\": true, \"colorbar\": {\"outlinewidth\": 0, \"ticks\": \"\"}, \"type\": \"contour\"}], \"heatmapgl\": [{\"colorbar\": {\"outlinewidth\": 0, \"ticks\": \"\"}, \"type\": \"heatmapgl\"}], \"heatmap\": [{\"autocolorscale\": true, \"colorbar\": {\"outlinewidth\": 0, \"ticks\": \"\"}, \"type\": \"heatmap\"}], \"histogram2dcontour\": [{\"autocolorscale\": true, \"colorbar\": {\"outlinewidth\": 0, \"ticks\": \"\"}, \"type\": \"histogram2dcontour\"}], \"histogram2d\": [{\"autocolorscale\": true, \"colorbar\": {\"outlinewidth\": 0, \"ticks\": \"\"}, \"type\": \"histogram2d\"}], \"histogram\": [{\"marker\": {\"colorbar\": {\"outlinewidth\": 0, \"ticks\": \"\"}}, \"type\": \"histogram\"}], \"mesh3d\": [{\"colorbar\": {\"outlinewidth\": 0, \"ticks\": \"\"}, \"type\": \"mesh3d\"}], \"parcoords\": [{\"line\": {\"colorbar\": {\"outlinewidth\": 0, \"ticks\": \"\"}}, \"type\": \"parcoords\"}], \"scatter3d\": [{\"marker\": {\"colorbar\": {\"outlinewidth\": 0, \"ticks\": \"\"}}, \"type\": \"scatter3d\"}], \"scattercarpet\": [{\"marker\": {\"colorbar\": {\"outlinewidth\": 0, \"ticks\": \"\"}}, \"type\": \"scattercarpet\"}], \"scattergeo\": [{\"marker\": {\"colorbar\": {\"outlinewidth\": 0, \"ticks\": \"\"}}, \"type\": \"scattergeo\"}], \"scattergl\": [{\"marker\": {\"colorbar\": {\"outlinewidth\": 0, \"ticks\": \"\"}}, \"type\": \"scattergl\"}], \"scattermapbox\": [{\"marker\": {\"colorbar\": {\"outlinewidth\": 0, \"ticks\": \"\"}}, \"type\": \"scattermapbox\"}], \"scatterpolargl\": [{\"marker\": {\"colorbar\": {\"outlinewidth\": 0, \"ticks\": \"\"}}, \"type\": \"scatterpolargl\"}], \"scatterpolar\": [{\"marker\": {\"colorbar\": {\"outlinewidth\": 0, \"ticks\": \"\"}}, \"type\": \"scatterpolar\"}], \"scatter\": [{\"marker\": {\"colorbar\": {\"outlinewidth\": 0, \"ticks\": \"\"}}, \"type\": \"scatter\"}], \"scatterternary\": [{\"marker\": {\"colorbar\": {\"outlinewidth\": 0, \"ticks\": \"\"}}, \"type\": \"scatterternary\"}], \"surface\": [{\"colorbar\": {\"outlinewidth\": 0, \"ticks\": \"\"}, \"type\": \"surface\"}], \"table\": [{\"cells\": {\"fill\": {\"color\": \"#EBF0F8\"}, \"line\": {\"color\": \"white\"}}, \"header\": {\"fill\": {\"color\": \"#C8D4E3\"}, \"line\": {\"color\": \"white\"}}, \"type\": \"table\"}]}, \"layout\": {\"annotationdefaults\": {\"arrowcolor\": \"#506784\", \"arrowhead\": 0, \"arrowwidth\": 1}, \"colorscale\": {\"diverging\": [[0, \"#8e0152\"], [0.1, \"#c51b7d\"], [0.2, \"#de77ae\"], [0.3, \"#f1b6da\"], [0.4, \"#fde0ef\"], [0.5, \"#f7f7f7\"], [0.6, \"#e6f5d0\"], [0.7, \"#b8e186\"], [0.8, \"#7fbc41\"], [0.9, \"#4d9221\"], [1, \"#276419\"]], \"sequential\": [[0.0, \"#0508b8\"], [0.0893854748603352, \"#1910d8\"], [0.1787709497206704, \"#3c19f0\"], [0.2681564245810056, \"#6b1cfb\"], [0.3575418994413408, \"#981cfd\"], [0.44692737430167595, \"#bf1cfd\"], [0.5363128491620112, \"#dd2bfd\"], [0.6256983240223464, \"#f246fe\"], [0.7150837988826816, \"#fc67fd\"], [0.8044692737430168, \"#fe88fc\"], [0.8938547486033519, \"#fea5fd\"], [0.9832402234636871, \"#febefe\"], [1.0, \"#fec3fe\"]], \"sequentialminus\": [[0.0, \"#0508b8\"], [0.0893854748603352, \"#1910d8\"], [0.1787709497206704, \"#3c19f0\"], [0.2681564245810056, \"#6b1cfb\"], [0.3575418994413408, \"#981cfd\"], [0.44692737430167595, \"#bf1cfd\"], [0.5363128491620112, \"#dd2bfd\"], [0.6256983240223464, \"#f246fe\"], [0.7150837988826816, \"#fc67fd\"], [0.8044692737430168, \"#fe88fc\"], [0.8938547486033519, \"#fea5fd\"], [0.9832402234636871, \"#febefe\"], [1.0, \"#fec3fe\"]]}, \"colorway\": [\"#636efa\", \"#EF553B\", \"#00cc96\", \"#ab63fa\", \"#19d3f3\", \"#e763fa\", \"#FECB52\", \"#FFA15A\", \"#FF6692\", \"#B6E880\"], \"font\": {\"color\": \"#2a3f5f\"}, \"geo\": {\"bgcolor\": \"white\", \"lakecolor\": \"white\", \"landcolor\": \"#E5ECF6\", \"showlakes\": true, \"showland\": true, \"subunitcolor\": \"white\"}, \"hovermode\": \"closest\", \"mapbox\": {\"style\": \"light\"}, \"paper_bgcolor\": \"white\", \"plot_bgcolor\": \"#E5ECF6\", \"polar\": {\"angularaxis\": {\"gridcolor\": \"white\", \"linecolor\": \"white\", \"ticks\": \"\"}, \"bgcolor\": \"#E5ECF6\", \"radialaxis\": {\"gridcolor\": \"white\", \"linecolor\": \"white\", \"ticks\": \"\"}}, \"scene\": {\"xaxis\": {\"backgroundcolor\": \"#E5ECF6\", \"gridcolor\": \"white\", \"gridwidth\": 2, \"linecolor\": \"white\", \"showbackground\": true, \"ticks\": \"\", \"zerolinecolor\": \"white\"}, \"yaxis\": {\"backgroundcolor\": \"#E5ECF6\", \"gridcolor\": \"white\", \"gridwidth\": 2, \"linecolor\": \"white\", \"showbackground\": true, \"ticks\": \"\", \"zerolinecolor\": \"white\"}, \"zaxis\": {\"backgroundcolor\": \"#E5ECF6\", \"gridcolor\": \"white\", \"gridwidth\": 2, \"linecolor\": \"white\", \"showbackground\": true, \"ticks\": \"\", \"zerolinecolor\": \"white\"}}, \"shapedefaults\": {\"fillcolor\": \"#506784\", \"line\": {\"width\": 0}, \"opacity\": 0.4}, \"ternary\": {\"aaxis\": {\"gridcolor\": \"white\", \"linecolor\": \"white\", \"ticks\": \"\"}, \"baxis\": {\"gridcolor\": \"white\", \"linecolor\": \"white\", \"ticks\": \"\"}, \"bgcolor\": \"#E5ECF6\", \"caxis\": {\"gridcolor\": \"white\", \"linecolor\": \"white\", \"ticks\": \"\"}}, \"title\": {\"x\": 0.05}, \"xaxis\": {\"automargin\": true, \"gridcolor\": \"white\", \"linecolor\": \"white\", \"ticks\": \"\", \"zerolinecolor\": \"white\", \"zerolinewidth\": 2}, \"yaxis\": {\"automargin\": true, \"gridcolor\": \"white\", \"linecolor\": \"white\", \"ticks\": \"\", \"zerolinecolor\": \"white\", \"zerolinewidth\": 2}}}, \"polar\": {\"angularaxis\": {\"direction\": \"clockwise\", \"rotation\": 90}}}, {\"showLink\": false, \"linkText\": \"Export to plot.ly\", \"plotlyServerURL\": \"https://plot.ly\"}); \n",
       "}\n",
       "});</script><script type=\"text/javascript\">window.addEventListener(\"resize\", function(){if (document.getElementById(\"b29f7318-05bf-426d-a6db-4a546035d342\")) {window._Plotly.Plots.resize(document.getElementById(\"b29f7318-05bf-426d-a6db-4a546035d342\"));};})</script>"
      ],
      "text/vnd.plotly.v1+html": [
       "<div id=\"b29f7318-05bf-426d-a6db-4a546035d342\" style=\"height: 600px; width: 100%;\" class=\"plotly-graph-div\"></div><script type=\"text/javascript\">require([\"plotly\"], function(Plotly) { window.PLOTLYENV=window.PLOTLYENV || {};window.PLOTLYENV.BASE_URL=\"https://plot.ly\";\n",
       "if (document.getElementById(\"b29f7318-05bf-426d-a6db-4a546035d342\")) {\n",
       "    Plotly.newPlot(\"b29f7318-05bf-426d-a6db-4a546035d342\", [{\"hovertemplate\": \"Durante ese uso, \\u00bfcu\\u00e1ntas im\\u00e1genes consumes (ves y compartes)?=1. Ninguna<br>counts=%{r}<br>cultural_cluster=%{theta}<extra></extra>\", \"legendgroup\": \"Durante ese uso, \\u00bfcu\\u00e1ntas im\\u00e1genes consumes (ves y compartes)?=1. Ninguna\", \"marker\": {\"color\": \"rgb(213,62,79)\"}, \"name\": \"Durante ese uso, \\u00bfcu\\u00e1ntas im\\u00e1genes consumes (ves y compartes)?=1. Ninguna\", \"r\": [2, 1, 5], \"showlegend\": true, \"theta\": [\"cluster_2\", \"cluster_3\", \"cluster_4\"], \"type\": \"barpolar\", \"uid\": \"1cb9efe5-5237-41b0-bd92-c6a437a0876c\"}, {\"hovertemplate\": \"Durante ese uso, \\u00bfcu\\u00e1ntas im\\u00e1genes consumes (ves y compartes)?=2. Pocas<br>counts=%{r}<br>cultural_cluster=%{theta}<extra></extra>\", \"legendgroup\": \"Durante ese uso, \\u00bfcu\\u00e1ntas im\\u00e1genes consumes (ves y compartes)?=2. Pocas\", \"marker\": {\"color\": \"rgb(252,141,89)\"}, \"name\": \"Durante ese uso, \\u00bfcu\\u00e1ntas im\\u00e1genes consumes (ves y compartes)?=2. Pocas\", \"r\": [3, 19, 1, 39], \"showlegend\": true, \"theta\": [\"cluster_1\", \"cluster_2\", \"cluster_3\", \"cluster_4\"], \"type\": \"barpolar\", \"uid\": \"7839e398-cb9f-42fc-94eb-fadf33f3c7a4\"}, {\"hovertemplate\": \"Durante ese uso, \\u00bfcu\\u00e1ntas im\\u00e1genes consumes (ves y compartes)?=3. Ni muchas ni pocas<br>counts=%{r}<br>cultural_cluster=%{theta}<extra></extra>\", \"legendgroup\": \"Durante ese uso, \\u00bfcu\\u00e1ntas im\\u00e1genes consumes (ves y compartes)?=3. Ni muchas ni pocas\", \"marker\": {\"color\": \"rgb(254,224,139)\"}, \"name\": \"Durante ese uso, \\u00bfcu\\u00e1ntas im\\u00e1genes consumes (ves y compartes)?=3. Ni muchas ni pocas\", \"r\": [17, 41, 9, 68], \"showlegend\": true, \"theta\": [\"cluster_1\", \"cluster_2\", \"cluster_3\", \"cluster_4\"], \"type\": \"barpolar\", \"uid\": \"4748f212-3381-419b-84f3-80548a5b51e5\"}, {\"hovertemplate\": \"Durante ese uso, \\u00bfcu\\u00e1ntas im\\u00e1genes consumes (ves y compartes)?=4. Bastantes<br>counts=%{r}<br>cultural_cluster=%{theta}<extra></extra>\", \"legendgroup\": \"Durante ese uso, \\u00bfcu\\u00e1ntas im\\u00e1genes consumes (ves y compartes)?=4. Bastantes\", \"marker\": {\"color\": \"rgb(230,245,152)\"}, \"name\": \"Durante ese uso, \\u00bfcu\\u00e1ntas im\\u00e1genes consumes (ves y compartes)?=4. Bastantes\", \"r\": [119, 174, 10, 87, 1], \"showlegend\": true, \"theta\": [\"cluster_1\", \"cluster_2\", \"cluster_3\", \"cluster_4\", \"cluster_5\"], \"type\": \"barpolar\", \"uid\": \"8c586288-675b-4234-b9cd-460f1528e18a\"}, {\"hovertemplate\": \"Durante ese uso, \\u00bfcu\\u00e1ntas im\\u00e1genes consumes (ves y compartes)?=5. Recibo y envio im\\u00e1genes de forma constante<br>counts=%{r}<br>cultural_cluster=%{theta}<extra></extra>\", \"legendgroup\": \"Durante ese uso, \\u00bfcu\\u00e1ntas im\\u00e1genes consumes (ves y compartes)?=5. Recibo y envio im\\u00e1genes de forma constante\", \"marker\": {\"color\": \"rgb(153,213,148)\"}, \"name\": \"Durante ese uso, \\u00bfcu\\u00e1ntas im\\u00e1genes consumes (ves y compartes)?=5. Recibo y envio im\\u00e1genes de forma constante\", \"r\": [84, 65, 6, 16], \"showlegend\": true, \"theta\": [\"cluster_1\", \"cluster_2\", \"cluster_3\", \"cluster_4\"], \"type\": \"barpolar\", \"uid\": \"7e917054-72f4-4849-96e9-7b92ea8fd7a6\"}], {\"barmode\": \"group\", \"barnorm\": \"\", \"height\": 600, \"legend\": {\"tracegroupgap\": 0}, \"margin\": {\"t\": 60}, \"template\": {\"data\": {\"barpolar\": [{\"marker\": {\"line\": {\"color\": \"#E5ECF6\", \"width\": 0.5}}, \"type\": \"barpolar\"}], \"bar\": [{\"marker\": {\"line\": {\"color\": \"#E5ECF6\", \"width\": 0.5}}, \"type\": \"bar\"}], \"carpet\": [{\"aaxis\": {\"endlinecolor\": \"#2a3f5f\", \"gridcolor\": \"white\", \"linecolor\": \"white\", \"minorgridcolor\": \"white\", \"startlinecolor\": \"#2a3f5f\"}, \"baxis\": {\"endlinecolor\": \"#2a3f5f\", \"gridcolor\": \"white\", \"linecolor\": \"white\", \"minorgridcolor\": \"white\", \"startlinecolor\": \"#2a3f5f\"}, \"type\": \"carpet\"}], \"choropleth\": [{\"colorbar\": {\"outlinewidth\": 0, \"ticks\": \"\"}, \"type\": \"choropleth\"}], \"contourcarpet\": [{\"colorbar\": {\"outlinewidth\": 0, \"ticks\": \"\"}, \"type\": \"contourcarpet\"}], \"contour\": [{\"autocolorscale\": true, \"colorbar\": {\"outlinewidth\": 0, \"ticks\": \"\"}, \"type\": \"contour\"}], \"heatmapgl\": [{\"colorbar\": {\"outlinewidth\": 0, \"ticks\": \"\"}, \"type\": \"heatmapgl\"}], \"heatmap\": [{\"autocolorscale\": true, \"colorbar\": {\"outlinewidth\": 0, \"ticks\": \"\"}, \"type\": \"heatmap\"}], \"histogram2dcontour\": [{\"autocolorscale\": true, \"colorbar\": {\"outlinewidth\": 0, \"ticks\": \"\"}, \"type\": \"histogram2dcontour\"}], \"histogram2d\": [{\"autocolorscale\": true, \"colorbar\": {\"outlinewidth\": 0, \"ticks\": \"\"}, \"type\": \"histogram2d\"}], \"histogram\": [{\"marker\": {\"colorbar\": {\"outlinewidth\": 0, \"ticks\": \"\"}}, \"type\": \"histogram\"}], \"mesh3d\": [{\"colorbar\": {\"outlinewidth\": 0, \"ticks\": \"\"}, \"type\": \"mesh3d\"}], \"parcoords\": [{\"line\": {\"colorbar\": {\"outlinewidth\": 0, \"ticks\": \"\"}}, \"type\": \"parcoords\"}], \"scatter3d\": [{\"marker\": {\"colorbar\": {\"outlinewidth\": 0, \"ticks\": \"\"}}, \"type\": \"scatter3d\"}], \"scattercarpet\": [{\"marker\": {\"colorbar\": {\"outlinewidth\": 0, \"ticks\": \"\"}}, \"type\": \"scattercarpet\"}], \"scattergeo\": [{\"marker\": {\"colorbar\": {\"outlinewidth\": 0, \"ticks\": \"\"}}, \"type\": \"scattergeo\"}], \"scattergl\": [{\"marker\": {\"colorbar\": {\"outlinewidth\": 0, \"ticks\": \"\"}}, \"type\": \"scattergl\"}], \"scattermapbox\": [{\"marker\": {\"colorbar\": {\"outlinewidth\": 0, \"ticks\": \"\"}}, \"type\": \"scattermapbox\"}], \"scatterpolargl\": [{\"marker\": {\"colorbar\": {\"outlinewidth\": 0, \"ticks\": \"\"}}, \"type\": \"scatterpolargl\"}], \"scatterpolar\": [{\"marker\": {\"colorbar\": {\"outlinewidth\": 0, \"ticks\": \"\"}}, \"type\": \"scatterpolar\"}], \"scatter\": [{\"marker\": {\"colorbar\": {\"outlinewidth\": 0, \"ticks\": \"\"}}, \"type\": \"scatter\"}], \"scatterternary\": [{\"marker\": {\"colorbar\": {\"outlinewidth\": 0, \"ticks\": \"\"}}, \"type\": \"scatterternary\"}], \"surface\": [{\"colorbar\": {\"outlinewidth\": 0, \"ticks\": \"\"}, \"type\": \"surface\"}], \"table\": [{\"cells\": {\"fill\": {\"color\": \"#EBF0F8\"}, \"line\": {\"color\": \"white\"}}, \"header\": {\"fill\": {\"color\": \"#C8D4E3\"}, \"line\": {\"color\": \"white\"}}, \"type\": \"table\"}]}, \"layout\": {\"annotationdefaults\": {\"arrowcolor\": \"#506784\", \"arrowhead\": 0, \"arrowwidth\": 1}, \"colorscale\": {\"diverging\": [[0, \"#8e0152\"], [0.1, \"#c51b7d\"], [0.2, \"#de77ae\"], [0.3, \"#f1b6da\"], [0.4, \"#fde0ef\"], [0.5, \"#f7f7f7\"], [0.6, \"#e6f5d0\"], [0.7, \"#b8e186\"], [0.8, \"#7fbc41\"], [0.9, \"#4d9221\"], [1, \"#276419\"]], \"sequential\": [[0.0, \"#0508b8\"], [0.0893854748603352, \"#1910d8\"], [0.1787709497206704, \"#3c19f0\"], [0.2681564245810056, \"#6b1cfb\"], [0.3575418994413408, \"#981cfd\"], [0.44692737430167595, \"#bf1cfd\"], [0.5363128491620112, \"#dd2bfd\"], [0.6256983240223464, \"#f246fe\"], [0.7150837988826816, \"#fc67fd\"], [0.8044692737430168, \"#fe88fc\"], [0.8938547486033519, \"#fea5fd\"], [0.9832402234636871, \"#febefe\"], [1.0, \"#fec3fe\"]], \"sequentialminus\": [[0.0, \"#0508b8\"], [0.0893854748603352, \"#1910d8\"], [0.1787709497206704, \"#3c19f0\"], [0.2681564245810056, \"#6b1cfb\"], [0.3575418994413408, \"#981cfd\"], [0.44692737430167595, \"#bf1cfd\"], [0.5363128491620112, \"#dd2bfd\"], [0.6256983240223464, \"#f246fe\"], [0.7150837988826816, \"#fc67fd\"], [0.8044692737430168, \"#fe88fc\"], [0.8938547486033519, \"#fea5fd\"], [0.9832402234636871, \"#febefe\"], [1.0, \"#fec3fe\"]]}, \"colorway\": [\"#636efa\", \"#EF553B\", \"#00cc96\", \"#ab63fa\", \"#19d3f3\", \"#e763fa\", \"#FECB52\", \"#FFA15A\", \"#FF6692\", \"#B6E880\"], \"font\": {\"color\": \"#2a3f5f\"}, \"geo\": {\"bgcolor\": \"white\", \"lakecolor\": \"white\", \"landcolor\": \"#E5ECF6\", \"showlakes\": true, \"showland\": true, \"subunitcolor\": \"white\"}, \"hovermode\": \"closest\", \"mapbox\": {\"style\": \"light\"}, \"paper_bgcolor\": \"white\", \"plot_bgcolor\": \"#E5ECF6\", \"polar\": {\"angularaxis\": {\"gridcolor\": \"white\", \"linecolor\": \"white\", \"ticks\": \"\"}, \"bgcolor\": \"#E5ECF6\", \"radialaxis\": {\"gridcolor\": \"white\", \"linecolor\": \"white\", \"ticks\": \"\"}}, \"scene\": {\"xaxis\": {\"backgroundcolor\": \"#E5ECF6\", \"gridcolor\": \"white\", \"gridwidth\": 2, \"linecolor\": \"white\", \"showbackground\": true, \"ticks\": \"\", \"zerolinecolor\": \"white\"}, \"yaxis\": {\"backgroundcolor\": \"#E5ECF6\", \"gridcolor\": \"white\", \"gridwidth\": 2, \"linecolor\": \"white\", \"showbackground\": true, \"ticks\": \"\", \"zerolinecolor\": \"white\"}, \"zaxis\": {\"backgroundcolor\": \"#E5ECF6\", \"gridcolor\": \"white\", \"gridwidth\": 2, \"linecolor\": \"white\", \"showbackground\": true, \"ticks\": \"\", \"zerolinecolor\": \"white\"}}, \"shapedefaults\": {\"fillcolor\": \"#506784\", \"line\": {\"width\": 0}, \"opacity\": 0.4}, \"ternary\": {\"aaxis\": {\"gridcolor\": \"white\", \"linecolor\": \"white\", \"ticks\": \"\"}, \"baxis\": {\"gridcolor\": \"white\", \"linecolor\": \"white\", \"ticks\": \"\"}, \"bgcolor\": \"#E5ECF6\", \"caxis\": {\"gridcolor\": \"white\", \"linecolor\": \"white\", \"ticks\": \"\"}}, \"title\": {\"x\": 0.05}, \"xaxis\": {\"automargin\": true, \"gridcolor\": \"white\", \"linecolor\": \"white\", \"ticks\": \"\", \"zerolinecolor\": \"white\", \"zerolinewidth\": 2}, \"yaxis\": {\"automargin\": true, \"gridcolor\": \"white\", \"linecolor\": \"white\", \"ticks\": \"\", \"zerolinecolor\": \"white\", \"zerolinewidth\": 2}}}, \"polar\": {\"angularaxis\": {\"direction\": \"clockwise\", \"rotation\": 90}}}, {\"showLink\": false, \"linkText\": \"Export to plot.ly\", \"plotlyServerURL\": \"https://plot.ly\"}); \n",
       "}\n",
       "});</script><script type=\"text/javascript\">window.addEventListener(\"resize\", function(){if (document.getElementById(\"b29f7318-05bf-426d-a6db-4a546035d342\")) {window._Plotly.Plots.resize(document.getElementById(\"b29f7318-05bf-426d-a6db-4a546035d342\"));};})</script>"
      ]
     },
     "metadata": {},
     "output_type": "display_data"
    },
    {
     "name": "stdout",
     "output_type": "stream",
     "text": [
      "Comparando la pregunta ¿Cuál es tu herramienta habitual de consumo de imágenes?\n"
     ]
    },
    {
     "data": {
      "application/vnd.plotly.v1+json": {
       "config": {
        "linkText": "Export to plot.ly",
        "plotlyServerURL": "https://plot.ly",
        "showLink": false
       },
       "data": [
        {
         "hovertemplate": "¿Cuál es tu herramienta habitual de consumo de imágenes?=1. Móvil<br>counts=%{r}<br>cultural_cluster=%{theta}<extra></extra>",
         "legendgroup": "¿Cuál es tu herramienta habitual de consumo de imágenes?=1. Móvil",
         "marker": {
          "color": "rgb(213,62,79)"
         },
         "name": "¿Cuál es tu herramienta habitual de consumo de imágenes?=1. Móvil",
         "r": [
          155,
          145,
          13,
          108,
          1
         ],
         "showlegend": true,
         "theta": [
          "cluster_1",
          "cluster_2",
          "cluster_3",
          "cluster_4",
          "cluster_5"
         ],
         "type": "barpolar",
         "uid": "d4f1c945-c297-4c7a-8010-7ae0dddf9aaa"
        },
        {
         "hovertemplate": "¿Cuál es tu herramienta habitual de consumo de imágenes?=2. Televisión<br>counts=%{r}<br>cultural_cluster=%{theta}<extra></extra>",
         "legendgroup": "¿Cuál es tu herramienta habitual de consumo de imágenes?=2. Televisión",
         "marker": {
          "color": "rgb(252,141,89)"
         },
         "name": "¿Cuál es tu herramienta habitual de consumo de imágenes?=2. Televisión",
         "r": [
          10,
          20,
          3,
          18
         ],
         "showlegend": true,
         "theta": [
          "cluster_1",
          "cluster_2",
          "cluster_3",
          "cluster_4"
         ],
         "type": "barpolar",
         "uid": "aa9fe3c6-0f50-4589-a223-202154ddb1ef"
        },
        {
         "hovertemplate": "¿Cuál es tu herramienta habitual de consumo de imágenes?=3. Ordenador<br>counts=%{r}<br>cultural_cluster=%{theta}<extra></extra>",
         "legendgroup": "¿Cuál es tu herramienta habitual de consumo de imágenes?=3. Ordenador",
         "marker": {
          "color": "rgb(254,224,139)"
         },
         "name": "¿Cuál es tu herramienta habitual de consumo de imágenes?=3. Ordenador",
         "r": [
          53,
          120,
          9,
          82
         ],
         "showlegend": true,
         "theta": [
          "cluster_1",
          "cluster_2",
          "cluster_3",
          "cluster_4"
         ],
         "type": "barpolar",
         "uid": "b72e8018-8912-4e0c-99ee-956aa9843cd8"
        },
        {
         "hovertemplate": "¿Cuál es tu herramienta habitual de consumo de imágenes?=4. Tableta<br>counts=%{r}<br>cultural_cluster=%{theta}<extra></extra>",
         "legendgroup": "¿Cuál es tu herramienta habitual de consumo de imágenes?=4. Tableta",
         "marker": {
          "color": "rgb(230,245,152)"
         },
         "name": "¿Cuál es tu herramienta habitual de consumo de imágenes?=4. Tableta",
         "r": [
          5,
          16,
          2,
          6
         ],
         "showlegend": true,
         "theta": [
          "cluster_1",
          "cluster_2",
          "cluster_3",
          "cluster_4"
         ],
         "type": "barpolar",
         "uid": "fab4e5cc-65c2-4f1a-a463-222ae6c02461"
        },
        {
         "hovertemplate": "¿Cuál es tu herramienta habitual de consumo de imágenes?=5. Otros (Libros y periódicos en papel, marquesinas, museos...)<br>counts=%{r}<br>cultural_cluster=%{theta}<extra></extra>",
         "legendgroup": "¿Cuál es tu herramienta habitual de consumo de imágenes?=5. Otros (Libros y periódicos en papel, marquesinas, museos...)",
         "marker": {
          "color": "rgb(153,213,148)"
         },
         "name": "¿Cuál es tu herramienta habitual de consumo de imágenes?=5. Otros (Libros y periódicos en papel, marquesinas, museos...)",
         "r": [
          1
         ],
         "showlegend": true,
         "theta": [
          "cluster_4"
         ],
         "type": "barpolar",
         "uid": "dc5da7e5-2f4c-4c9c-9e5a-1f2238f9d4f0"
        }
       ],
       "layout": {
        "barmode": "group",
        "barnorm": "",
        "height": 600,
        "legend": {
         "tracegroupgap": 0
        },
        "margin": {
         "t": 60
        },
        "polar": {
         "angularaxis": {
          "direction": "clockwise",
          "rotation": 90
         }
        },
        "template": {
         "data": {
          "bar": [
           {
            "marker": {
             "line": {
              "color": "#E5ECF6",
              "width": 0.5
             }
            },
            "type": "bar"
           }
          ],
          "barpolar": [
           {
            "marker": {
             "line": {
              "color": "#E5ECF6",
              "width": 0.5
             }
            },
            "type": "barpolar"
           }
          ],
          "carpet": [
           {
            "aaxis": {
             "endlinecolor": "#2a3f5f",
             "gridcolor": "white",
             "linecolor": "white",
             "minorgridcolor": "white",
             "startlinecolor": "#2a3f5f"
            },
            "baxis": {
             "endlinecolor": "#2a3f5f",
             "gridcolor": "white",
             "linecolor": "white",
             "minorgridcolor": "white",
             "startlinecolor": "#2a3f5f"
            },
            "type": "carpet"
           }
          ],
          "choropleth": [
           {
            "colorbar": {
             "outlinewidth": 0,
             "ticks": ""
            },
            "type": "choropleth"
           }
          ],
          "contour": [
           {
            "autocolorscale": true,
            "colorbar": {
             "outlinewidth": 0,
             "ticks": ""
            },
            "type": "contour"
           }
          ],
          "contourcarpet": [
           {
            "colorbar": {
             "outlinewidth": 0,
             "ticks": ""
            },
            "type": "contourcarpet"
           }
          ],
          "heatmap": [
           {
            "autocolorscale": true,
            "colorbar": {
             "outlinewidth": 0,
             "ticks": ""
            },
            "type": "heatmap"
           }
          ],
          "heatmapgl": [
           {
            "colorbar": {
             "outlinewidth": 0,
             "ticks": ""
            },
            "type": "heatmapgl"
           }
          ],
          "histogram": [
           {
            "marker": {
             "colorbar": {
              "outlinewidth": 0,
              "ticks": ""
             }
            },
            "type": "histogram"
           }
          ],
          "histogram2d": [
           {
            "autocolorscale": true,
            "colorbar": {
             "outlinewidth": 0,
             "ticks": ""
            },
            "type": "histogram2d"
           }
          ],
          "histogram2dcontour": [
           {
            "autocolorscale": true,
            "colorbar": {
             "outlinewidth": 0,
             "ticks": ""
            },
            "type": "histogram2dcontour"
           }
          ],
          "mesh3d": [
           {
            "colorbar": {
             "outlinewidth": 0,
             "ticks": ""
            },
            "type": "mesh3d"
           }
          ],
          "parcoords": [
           {
            "line": {
             "colorbar": {
              "outlinewidth": 0,
              "ticks": ""
             }
            },
            "type": "parcoords"
           }
          ],
          "scatter": [
           {
            "marker": {
             "colorbar": {
              "outlinewidth": 0,
              "ticks": ""
             }
            },
            "type": "scatter"
           }
          ],
          "scatter3d": [
           {
            "marker": {
             "colorbar": {
              "outlinewidth": 0,
              "ticks": ""
             }
            },
            "type": "scatter3d"
           }
          ],
          "scattercarpet": [
           {
            "marker": {
             "colorbar": {
              "outlinewidth": 0,
              "ticks": ""
             }
            },
            "type": "scattercarpet"
           }
          ],
          "scattergeo": [
           {
            "marker": {
             "colorbar": {
              "outlinewidth": 0,
              "ticks": ""
             }
            },
            "type": "scattergeo"
           }
          ],
          "scattergl": [
           {
            "marker": {
             "colorbar": {
              "outlinewidth": 0,
              "ticks": ""
             }
            },
            "type": "scattergl"
           }
          ],
          "scattermapbox": [
           {
            "marker": {
             "colorbar": {
              "outlinewidth": 0,
              "ticks": ""
             }
            },
            "type": "scattermapbox"
           }
          ],
          "scatterpolar": [
           {
            "marker": {
             "colorbar": {
              "outlinewidth": 0,
              "ticks": ""
             }
            },
            "type": "scatterpolar"
           }
          ],
          "scatterpolargl": [
           {
            "marker": {
             "colorbar": {
              "outlinewidth": 0,
              "ticks": ""
             }
            },
            "type": "scatterpolargl"
           }
          ],
          "scatterternary": [
           {
            "marker": {
             "colorbar": {
              "outlinewidth": 0,
              "ticks": ""
             }
            },
            "type": "scatterternary"
           }
          ],
          "surface": [
           {
            "colorbar": {
             "outlinewidth": 0,
             "ticks": ""
            },
            "type": "surface"
           }
          ],
          "table": [
           {
            "cells": {
             "fill": {
              "color": "#EBF0F8"
             },
             "line": {
              "color": "white"
             }
            },
            "header": {
             "fill": {
              "color": "#C8D4E3"
             },
             "line": {
              "color": "white"
             }
            },
            "type": "table"
           }
          ]
         },
         "layout": {
          "annotationdefaults": {
           "arrowcolor": "#506784",
           "arrowhead": 0,
           "arrowwidth": 1
          },
          "colorscale": {
           "diverging": [
            [
             0,
             "#8e0152"
            ],
            [
             0.1,
             "#c51b7d"
            ],
            [
             0.2,
             "#de77ae"
            ],
            [
             0.3,
             "#f1b6da"
            ],
            [
             0.4,
             "#fde0ef"
            ],
            [
             0.5,
             "#f7f7f7"
            ],
            [
             0.6,
             "#e6f5d0"
            ],
            [
             0.7,
             "#b8e186"
            ],
            [
             0.8,
             "#7fbc41"
            ],
            [
             0.9,
             "#4d9221"
            ],
            [
             1,
             "#276419"
            ]
           ],
           "sequential": [
            [
             0,
             "#0508b8"
            ],
            [
             0.0893854748603352,
             "#1910d8"
            ],
            [
             0.1787709497206704,
             "#3c19f0"
            ],
            [
             0.2681564245810056,
             "#6b1cfb"
            ],
            [
             0.3575418994413408,
             "#981cfd"
            ],
            [
             0.44692737430167595,
             "#bf1cfd"
            ],
            [
             0.5363128491620112,
             "#dd2bfd"
            ],
            [
             0.6256983240223464,
             "#f246fe"
            ],
            [
             0.7150837988826816,
             "#fc67fd"
            ],
            [
             0.8044692737430168,
             "#fe88fc"
            ],
            [
             0.8938547486033519,
             "#fea5fd"
            ],
            [
             0.9832402234636871,
             "#febefe"
            ],
            [
             1,
             "#fec3fe"
            ]
           ],
           "sequentialminus": [
            [
             0,
             "#0508b8"
            ],
            [
             0.0893854748603352,
             "#1910d8"
            ],
            [
             0.1787709497206704,
             "#3c19f0"
            ],
            [
             0.2681564245810056,
             "#6b1cfb"
            ],
            [
             0.3575418994413408,
             "#981cfd"
            ],
            [
             0.44692737430167595,
             "#bf1cfd"
            ],
            [
             0.5363128491620112,
             "#dd2bfd"
            ],
            [
             0.6256983240223464,
             "#f246fe"
            ],
            [
             0.7150837988826816,
             "#fc67fd"
            ],
            [
             0.8044692737430168,
             "#fe88fc"
            ],
            [
             0.8938547486033519,
             "#fea5fd"
            ],
            [
             0.9832402234636871,
             "#febefe"
            ],
            [
             1,
             "#fec3fe"
            ]
           ]
          },
          "colorway": [
           "#636efa",
           "#EF553B",
           "#00cc96",
           "#ab63fa",
           "#19d3f3",
           "#e763fa",
           "#FECB52",
           "#FFA15A",
           "#FF6692",
           "#B6E880"
          ],
          "font": {
           "color": "#2a3f5f"
          },
          "geo": {
           "bgcolor": "white",
           "lakecolor": "white",
           "landcolor": "#E5ECF6",
           "showlakes": true,
           "showland": true,
           "subunitcolor": "white"
          },
          "hovermode": "closest",
          "mapbox": {
           "style": "light"
          },
          "paper_bgcolor": "white",
          "plot_bgcolor": "#E5ECF6",
          "polar": {
           "angularaxis": {
            "gridcolor": "white",
            "linecolor": "white",
            "ticks": ""
           },
           "bgcolor": "#E5ECF6",
           "radialaxis": {
            "gridcolor": "white",
            "linecolor": "white",
            "ticks": ""
           }
          },
          "scene": {
           "xaxis": {
            "backgroundcolor": "#E5ECF6",
            "gridcolor": "white",
            "gridwidth": 2,
            "linecolor": "white",
            "showbackground": true,
            "ticks": "",
            "zerolinecolor": "white"
           },
           "yaxis": {
            "backgroundcolor": "#E5ECF6",
            "gridcolor": "white",
            "gridwidth": 2,
            "linecolor": "white",
            "showbackground": true,
            "ticks": "",
            "zerolinecolor": "white"
           },
           "zaxis": {
            "backgroundcolor": "#E5ECF6",
            "gridcolor": "white",
            "gridwidth": 2,
            "linecolor": "white",
            "showbackground": true,
            "ticks": "",
            "zerolinecolor": "white"
           }
          },
          "shapedefaults": {
           "fillcolor": "#506784",
           "line": {
            "width": 0
           },
           "opacity": 0.4
          },
          "ternary": {
           "aaxis": {
            "gridcolor": "white",
            "linecolor": "white",
            "ticks": ""
           },
           "baxis": {
            "gridcolor": "white",
            "linecolor": "white",
            "ticks": ""
           },
           "bgcolor": "#E5ECF6",
           "caxis": {
            "gridcolor": "white",
            "linecolor": "white",
            "ticks": ""
           }
          },
          "title": {
           "x": 0.05
          },
          "xaxis": {
           "automargin": true,
           "gridcolor": "white",
           "linecolor": "white",
           "ticks": "",
           "zerolinecolor": "white",
           "zerolinewidth": 2
          },
          "yaxis": {
           "automargin": true,
           "gridcolor": "white",
           "linecolor": "white",
           "ticks": "",
           "zerolinecolor": "white",
           "zerolinewidth": 2
          }
         }
        }
       }
      },
      "text/html": [
       "<div id=\"9d46ec3e-7d19-4851-a5b3-d049d8a89029\" style=\"height: 600px; width: 100%;\" class=\"plotly-graph-div\"></div><script type=\"text/javascript\">require([\"plotly\"], function(Plotly) { window.PLOTLYENV=window.PLOTLYENV || {};window.PLOTLYENV.BASE_URL=\"https://plot.ly\";\n",
       "if (document.getElementById(\"9d46ec3e-7d19-4851-a5b3-d049d8a89029\")) {\n",
       "    Plotly.newPlot(\"9d46ec3e-7d19-4851-a5b3-d049d8a89029\", [{\"hovertemplate\": \"\\u00bfCu\\u00e1l es tu herramienta habitual de consumo de im\\u00e1genes?=1. M\\u00f3vil<br>counts=%{r}<br>cultural_cluster=%{theta}<extra></extra>\", \"legendgroup\": \"\\u00bfCu\\u00e1l es tu herramienta habitual de consumo de im\\u00e1genes?=1. M\\u00f3vil\", \"marker\": {\"color\": \"rgb(213,62,79)\"}, \"name\": \"\\u00bfCu\\u00e1l es tu herramienta habitual de consumo de im\\u00e1genes?=1. M\\u00f3vil\", \"r\": [155, 145, 13, 108, 1], \"showlegend\": true, \"theta\": [\"cluster_1\", \"cluster_2\", \"cluster_3\", \"cluster_4\", \"cluster_5\"], \"type\": \"barpolar\", \"uid\": \"d4f1c945-c297-4c7a-8010-7ae0dddf9aaa\"}, {\"hovertemplate\": \"\\u00bfCu\\u00e1l es tu herramienta habitual de consumo de im\\u00e1genes?=2. Televisi\\u00f3n<br>counts=%{r}<br>cultural_cluster=%{theta}<extra></extra>\", \"legendgroup\": \"\\u00bfCu\\u00e1l es tu herramienta habitual de consumo de im\\u00e1genes?=2. Televisi\\u00f3n\", \"marker\": {\"color\": \"rgb(252,141,89)\"}, \"name\": \"\\u00bfCu\\u00e1l es tu herramienta habitual de consumo de im\\u00e1genes?=2. Televisi\\u00f3n\", \"r\": [10, 20, 3, 18], \"showlegend\": true, \"theta\": [\"cluster_1\", \"cluster_2\", \"cluster_3\", \"cluster_4\"], \"type\": \"barpolar\", \"uid\": \"aa9fe3c6-0f50-4589-a223-202154ddb1ef\"}, {\"hovertemplate\": \"\\u00bfCu\\u00e1l es tu herramienta habitual de consumo de im\\u00e1genes?=3. Ordenador<br>counts=%{r}<br>cultural_cluster=%{theta}<extra></extra>\", \"legendgroup\": \"\\u00bfCu\\u00e1l es tu herramienta habitual de consumo de im\\u00e1genes?=3. Ordenador\", \"marker\": {\"color\": \"rgb(254,224,139)\"}, \"name\": \"\\u00bfCu\\u00e1l es tu herramienta habitual de consumo de im\\u00e1genes?=3. Ordenador\", \"r\": [53, 120, 9, 82], \"showlegend\": true, \"theta\": [\"cluster_1\", \"cluster_2\", \"cluster_3\", \"cluster_4\"], \"type\": \"barpolar\", \"uid\": \"b72e8018-8912-4e0c-99ee-956aa9843cd8\"}, {\"hovertemplate\": \"\\u00bfCu\\u00e1l es tu herramienta habitual de consumo de im\\u00e1genes?=4. Tableta<br>counts=%{r}<br>cultural_cluster=%{theta}<extra></extra>\", \"legendgroup\": \"\\u00bfCu\\u00e1l es tu herramienta habitual de consumo de im\\u00e1genes?=4. Tableta\", \"marker\": {\"color\": \"rgb(230,245,152)\"}, \"name\": \"\\u00bfCu\\u00e1l es tu herramienta habitual de consumo de im\\u00e1genes?=4. Tableta\", \"r\": [5, 16, 2, 6], \"showlegend\": true, \"theta\": [\"cluster_1\", \"cluster_2\", \"cluster_3\", \"cluster_4\"], \"type\": \"barpolar\", \"uid\": \"fab4e5cc-65c2-4f1a-a463-222ae6c02461\"}, {\"hovertemplate\": \"\\u00bfCu\\u00e1l es tu herramienta habitual de consumo de im\\u00e1genes?=5. Otros (Libros y peri\\u00f3dicos en papel, marquesinas, museos...)<br>counts=%{r}<br>cultural_cluster=%{theta}<extra></extra>\", \"legendgroup\": \"\\u00bfCu\\u00e1l es tu herramienta habitual de consumo de im\\u00e1genes?=5. Otros (Libros y peri\\u00f3dicos en papel, marquesinas, museos...)\", \"marker\": {\"color\": \"rgb(153,213,148)\"}, \"name\": \"\\u00bfCu\\u00e1l es tu herramienta habitual de consumo de im\\u00e1genes?=5. Otros (Libros y peri\\u00f3dicos en papel, marquesinas, museos...)\", \"r\": [1], \"showlegend\": true, \"theta\": [\"cluster_4\"], \"type\": \"barpolar\", \"uid\": \"dc5da7e5-2f4c-4c9c-9e5a-1f2238f9d4f0\"}], {\"barmode\": \"group\", \"barnorm\": \"\", \"height\": 600, \"legend\": {\"tracegroupgap\": 0}, \"margin\": {\"t\": 60}, \"template\": {\"data\": {\"barpolar\": [{\"marker\": {\"line\": {\"color\": \"#E5ECF6\", \"width\": 0.5}}, \"type\": \"barpolar\"}], \"bar\": [{\"marker\": {\"line\": {\"color\": \"#E5ECF6\", \"width\": 0.5}}, \"type\": \"bar\"}], \"carpet\": [{\"aaxis\": {\"endlinecolor\": \"#2a3f5f\", \"gridcolor\": \"white\", \"linecolor\": \"white\", \"minorgridcolor\": \"white\", \"startlinecolor\": \"#2a3f5f\"}, \"baxis\": {\"endlinecolor\": \"#2a3f5f\", \"gridcolor\": \"white\", \"linecolor\": \"white\", \"minorgridcolor\": \"white\", \"startlinecolor\": \"#2a3f5f\"}, \"type\": \"carpet\"}], \"choropleth\": [{\"colorbar\": {\"outlinewidth\": 0, \"ticks\": \"\"}, \"type\": \"choropleth\"}], \"contourcarpet\": [{\"colorbar\": {\"outlinewidth\": 0, \"ticks\": \"\"}, \"type\": \"contourcarpet\"}], \"contour\": [{\"autocolorscale\": true, \"colorbar\": {\"outlinewidth\": 0, \"ticks\": \"\"}, \"type\": \"contour\"}], \"heatmapgl\": [{\"colorbar\": {\"outlinewidth\": 0, \"ticks\": \"\"}, \"type\": \"heatmapgl\"}], \"heatmap\": [{\"autocolorscale\": true, \"colorbar\": {\"outlinewidth\": 0, \"ticks\": \"\"}, \"type\": \"heatmap\"}], \"histogram2dcontour\": [{\"autocolorscale\": true, \"colorbar\": {\"outlinewidth\": 0, \"ticks\": \"\"}, \"type\": \"histogram2dcontour\"}], \"histogram2d\": [{\"autocolorscale\": true, \"colorbar\": {\"outlinewidth\": 0, \"ticks\": \"\"}, \"type\": \"histogram2d\"}], \"histogram\": [{\"marker\": {\"colorbar\": {\"outlinewidth\": 0, \"ticks\": \"\"}}, \"type\": \"histogram\"}], \"mesh3d\": [{\"colorbar\": {\"outlinewidth\": 0, \"ticks\": \"\"}, \"type\": \"mesh3d\"}], \"parcoords\": [{\"line\": {\"colorbar\": {\"outlinewidth\": 0, \"ticks\": \"\"}}, \"type\": \"parcoords\"}], \"scatter3d\": [{\"marker\": {\"colorbar\": {\"outlinewidth\": 0, \"ticks\": \"\"}}, \"type\": \"scatter3d\"}], \"scattercarpet\": [{\"marker\": {\"colorbar\": {\"outlinewidth\": 0, \"ticks\": \"\"}}, \"type\": \"scattercarpet\"}], \"scattergeo\": [{\"marker\": {\"colorbar\": {\"outlinewidth\": 0, \"ticks\": \"\"}}, \"type\": \"scattergeo\"}], \"scattergl\": [{\"marker\": {\"colorbar\": {\"outlinewidth\": 0, \"ticks\": \"\"}}, \"type\": \"scattergl\"}], \"scattermapbox\": [{\"marker\": {\"colorbar\": {\"outlinewidth\": 0, \"ticks\": \"\"}}, \"type\": \"scattermapbox\"}], \"scatterpolargl\": [{\"marker\": {\"colorbar\": {\"outlinewidth\": 0, \"ticks\": \"\"}}, \"type\": \"scatterpolargl\"}], \"scatterpolar\": [{\"marker\": {\"colorbar\": {\"outlinewidth\": 0, \"ticks\": \"\"}}, \"type\": \"scatterpolar\"}], \"scatter\": [{\"marker\": {\"colorbar\": {\"outlinewidth\": 0, \"ticks\": \"\"}}, \"type\": \"scatter\"}], \"scatterternary\": [{\"marker\": {\"colorbar\": {\"outlinewidth\": 0, \"ticks\": \"\"}}, \"type\": \"scatterternary\"}], \"surface\": [{\"colorbar\": {\"outlinewidth\": 0, \"ticks\": \"\"}, \"type\": \"surface\"}], \"table\": [{\"cells\": {\"fill\": {\"color\": \"#EBF0F8\"}, \"line\": {\"color\": \"white\"}}, \"header\": {\"fill\": {\"color\": \"#C8D4E3\"}, \"line\": {\"color\": \"white\"}}, \"type\": \"table\"}]}, \"layout\": {\"annotationdefaults\": {\"arrowcolor\": \"#506784\", \"arrowhead\": 0, \"arrowwidth\": 1}, \"colorscale\": {\"diverging\": [[0, \"#8e0152\"], [0.1, \"#c51b7d\"], [0.2, \"#de77ae\"], [0.3, \"#f1b6da\"], [0.4, \"#fde0ef\"], [0.5, \"#f7f7f7\"], [0.6, \"#e6f5d0\"], [0.7, \"#b8e186\"], [0.8, \"#7fbc41\"], [0.9, \"#4d9221\"], [1, \"#276419\"]], \"sequential\": [[0.0, \"#0508b8\"], [0.0893854748603352, \"#1910d8\"], [0.1787709497206704, \"#3c19f0\"], [0.2681564245810056, \"#6b1cfb\"], [0.3575418994413408, \"#981cfd\"], [0.44692737430167595, \"#bf1cfd\"], [0.5363128491620112, \"#dd2bfd\"], [0.6256983240223464, \"#f246fe\"], [0.7150837988826816, \"#fc67fd\"], [0.8044692737430168, \"#fe88fc\"], [0.8938547486033519, \"#fea5fd\"], [0.9832402234636871, \"#febefe\"], [1.0, \"#fec3fe\"]], \"sequentialminus\": [[0.0, \"#0508b8\"], [0.0893854748603352, \"#1910d8\"], [0.1787709497206704, \"#3c19f0\"], [0.2681564245810056, \"#6b1cfb\"], [0.3575418994413408, \"#981cfd\"], [0.44692737430167595, \"#bf1cfd\"], [0.5363128491620112, \"#dd2bfd\"], [0.6256983240223464, \"#f246fe\"], [0.7150837988826816, \"#fc67fd\"], [0.8044692737430168, \"#fe88fc\"], [0.8938547486033519, \"#fea5fd\"], [0.9832402234636871, \"#febefe\"], [1.0, \"#fec3fe\"]]}, \"colorway\": [\"#636efa\", \"#EF553B\", \"#00cc96\", \"#ab63fa\", \"#19d3f3\", \"#e763fa\", \"#FECB52\", \"#FFA15A\", \"#FF6692\", \"#B6E880\"], \"font\": {\"color\": \"#2a3f5f\"}, \"geo\": {\"bgcolor\": \"white\", \"lakecolor\": \"white\", \"landcolor\": \"#E5ECF6\", \"showlakes\": true, \"showland\": true, \"subunitcolor\": \"white\"}, \"hovermode\": \"closest\", \"mapbox\": {\"style\": \"light\"}, \"paper_bgcolor\": \"white\", \"plot_bgcolor\": \"#E5ECF6\", \"polar\": {\"angularaxis\": {\"gridcolor\": \"white\", \"linecolor\": \"white\", \"ticks\": \"\"}, \"bgcolor\": \"#E5ECF6\", \"radialaxis\": {\"gridcolor\": \"white\", \"linecolor\": \"white\", \"ticks\": \"\"}}, \"scene\": {\"xaxis\": {\"backgroundcolor\": \"#E5ECF6\", \"gridcolor\": \"white\", \"gridwidth\": 2, \"linecolor\": \"white\", \"showbackground\": true, \"ticks\": \"\", \"zerolinecolor\": \"white\"}, \"yaxis\": {\"backgroundcolor\": \"#E5ECF6\", \"gridcolor\": \"white\", \"gridwidth\": 2, \"linecolor\": \"white\", \"showbackground\": true, \"ticks\": \"\", \"zerolinecolor\": \"white\"}, \"zaxis\": {\"backgroundcolor\": \"#E5ECF6\", \"gridcolor\": \"white\", \"gridwidth\": 2, \"linecolor\": \"white\", \"showbackground\": true, \"ticks\": \"\", \"zerolinecolor\": \"white\"}}, \"shapedefaults\": {\"fillcolor\": \"#506784\", \"line\": {\"width\": 0}, \"opacity\": 0.4}, \"ternary\": {\"aaxis\": {\"gridcolor\": \"white\", \"linecolor\": \"white\", \"ticks\": \"\"}, \"baxis\": {\"gridcolor\": \"white\", \"linecolor\": \"white\", \"ticks\": \"\"}, \"bgcolor\": \"#E5ECF6\", \"caxis\": {\"gridcolor\": \"white\", \"linecolor\": \"white\", \"ticks\": \"\"}}, \"title\": {\"x\": 0.05}, \"xaxis\": {\"automargin\": true, \"gridcolor\": \"white\", \"linecolor\": \"white\", \"ticks\": \"\", \"zerolinecolor\": \"white\", \"zerolinewidth\": 2}, \"yaxis\": {\"automargin\": true, \"gridcolor\": \"white\", \"linecolor\": \"white\", \"ticks\": \"\", \"zerolinecolor\": \"white\", \"zerolinewidth\": 2}}}, \"polar\": {\"angularaxis\": {\"direction\": \"clockwise\", \"rotation\": 90}}}, {\"showLink\": false, \"linkText\": \"Export to plot.ly\", \"plotlyServerURL\": \"https://plot.ly\"}); \n",
       "}\n",
       "});</script><script type=\"text/javascript\">window.addEventListener(\"resize\", function(){if (document.getElementById(\"9d46ec3e-7d19-4851-a5b3-d049d8a89029\")) {window._Plotly.Plots.resize(document.getElementById(\"9d46ec3e-7d19-4851-a5b3-d049d8a89029\"));};})</script>"
      ],
      "text/vnd.plotly.v1+html": [
       "<div id=\"9d46ec3e-7d19-4851-a5b3-d049d8a89029\" style=\"height: 600px; width: 100%;\" class=\"plotly-graph-div\"></div><script type=\"text/javascript\">require([\"plotly\"], function(Plotly) { window.PLOTLYENV=window.PLOTLYENV || {};window.PLOTLYENV.BASE_URL=\"https://plot.ly\";\n",
       "if (document.getElementById(\"9d46ec3e-7d19-4851-a5b3-d049d8a89029\")) {\n",
       "    Plotly.newPlot(\"9d46ec3e-7d19-4851-a5b3-d049d8a89029\", [{\"hovertemplate\": \"\\u00bfCu\\u00e1l es tu herramienta habitual de consumo de im\\u00e1genes?=1. M\\u00f3vil<br>counts=%{r}<br>cultural_cluster=%{theta}<extra></extra>\", \"legendgroup\": \"\\u00bfCu\\u00e1l es tu herramienta habitual de consumo de im\\u00e1genes?=1. M\\u00f3vil\", \"marker\": {\"color\": \"rgb(213,62,79)\"}, \"name\": \"\\u00bfCu\\u00e1l es tu herramienta habitual de consumo de im\\u00e1genes?=1. M\\u00f3vil\", \"r\": [155, 145, 13, 108, 1], \"showlegend\": true, \"theta\": [\"cluster_1\", \"cluster_2\", \"cluster_3\", \"cluster_4\", \"cluster_5\"], \"type\": \"barpolar\", \"uid\": \"d4f1c945-c297-4c7a-8010-7ae0dddf9aaa\"}, {\"hovertemplate\": \"\\u00bfCu\\u00e1l es tu herramienta habitual de consumo de im\\u00e1genes?=2. Televisi\\u00f3n<br>counts=%{r}<br>cultural_cluster=%{theta}<extra></extra>\", \"legendgroup\": \"\\u00bfCu\\u00e1l es tu herramienta habitual de consumo de im\\u00e1genes?=2. Televisi\\u00f3n\", \"marker\": {\"color\": \"rgb(252,141,89)\"}, \"name\": \"\\u00bfCu\\u00e1l es tu herramienta habitual de consumo de im\\u00e1genes?=2. Televisi\\u00f3n\", \"r\": [10, 20, 3, 18], \"showlegend\": true, \"theta\": [\"cluster_1\", \"cluster_2\", \"cluster_3\", \"cluster_4\"], \"type\": \"barpolar\", \"uid\": \"aa9fe3c6-0f50-4589-a223-202154ddb1ef\"}, {\"hovertemplate\": \"\\u00bfCu\\u00e1l es tu herramienta habitual de consumo de im\\u00e1genes?=3. Ordenador<br>counts=%{r}<br>cultural_cluster=%{theta}<extra></extra>\", \"legendgroup\": \"\\u00bfCu\\u00e1l es tu herramienta habitual de consumo de im\\u00e1genes?=3. Ordenador\", \"marker\": {\"color\": \"rgb(254,224,139)\"}, \"name\": \"\\u00bfCu\\u00e1l es tu herramienta habitual de consumo de im\\u00e1genes?=3. Ordenador\", \"r\": [53, 120, 9, 82], \"showlegend\": true, \"theta\": [\"cluster_1\", \"cluster_2\", \"cluster_3\", \"cluster_4\"], \"type\": \"barpolar\", \"uid\": \"b72e8018-8912-4e0c-99ee-956aa9843cd8\"}, {\"hovertemplate\": \"\\u00bfCu\\u00e1l es tu herramienta habitual de consumo de im\\u00e1genes?=4. Tableta<br>counts=%{r}<br>cultural_cluster=%{theta}<extra></extra>\", \"legendgroup\": \"\\u00bfCu\\u00e1l es tu herramienta habitual de consumo de im\\u00e1genes?=4. Tableta\", \"marker\": {\"color\": \"rgb(230,245,152)\"}, \"name\": \"\\u00bfCu\\u00e1l es tu herramienta habitual de consumo de im\\u00e1genes?=4. Tableta\", \"r\": [5, 16, 2, 6], \"showlegend\": true, \"theta\": [\"cluster_1\", \"cluster_2\", \"cluster_3\", \"cluster_4\"], \"type\": \"barpolar\", \"uid\": \"fab4e5cc-65c2-4f1a-a463-222ae6c02461\"}, {\"hovertemplate\": \"\\u00bfCu\\u00e1l es tu herramienta habitual de consumo de im\\u00e1genes?=5. Otros (Libros y peri\\u00f3dicos en papel, marquesinas, museos...)<br>counts=%{r}<br>cultural_cluster=%{theta}<extra></extra>\", \"legendgroup\": \"\\u00bfCu\\u00e1l es tu herramienta habitual de consumo de im\\u00e1genes?=5. Otros (Libros y peri\\u00f3dicos en papel, marquesinas, museos...)\", \"marker\": {\"color\": \"rgb(153,213,148)\"}, \"name\": \"\\u00bfCu\\u00e1l es tu herramienta habitual de consumo de im\\u00e1genes?=5. Otros (Libros y peri\\u00f3dicos en papel, marquesinas, museos...)\", \"r\": [1], \"showlegend\": true, \"theta\": [\"cluster_4\"], \"type\": \"barpolar\", \"uid\": \"dc5da7e5-2f4c-4c9c-9e5a-1f2238f9d4f0\"}], {\"barmode\": \"group\", \"barnorm\": \"\", \"height\": 600, \"legend\": {\"tracegroupgap\": 0}, \"margin\": {\"t\": 60}, \"template\": {\"data\": {\"barpolar\": [{\"marker\": {\"line\": {\"color\": \"#E5ECF6\", \"width\": 0.5}}, \"type\": \"barpolar\"}], \"bar\": [{\"marker\": {\"line\": {\"color\": \"#E5ECF6\", \"width\": 0.5}}, \"type\": \"bar\"}], \"carpet\": [{\"aaxis\": {\"endlinecolor\": \"#2a3f5f\", \"gridcolor\": \"white\", \"linecolor\": \"white\", \"minorgridcolor\": \"white\", \"startlinecolor\": \"#2a3f5f\"}, \"baxis\": {\"endlinecolor\": \"#2a3f5f\", \"gridcolor\": \"white\", \"linecolor\": \"white\", \"minorgridcolor\": \"white\", \"startlinecolor\": \"#2a3f5f\"}, \"type\": \"carpet\"}], \"choropleth\": [{\"colorbar\": {\"outlinewidth\": 0, \"ticks\": \"\"}, \"type\": \"choropleth\"}], \"contourcarpet\": [{\"colorbar\": {\"outlinewidth\": 0, \"ticks\": \"\"}, \"type\": \"contourcarpet\"}], \"contour\": [{\"autocolorscale\": true, \"colorbar\": {\"outlinewidth\": 0, \"ticks\": \"\"}, \"type\": \"contour\"}], \"heatmapgl\": [{\"colorbar\": {\"outlinewidth\": 0, \"ticks\": \"\"}, \"type\": \"heatmapgl\"}], \"heatmap\": [{\"autocolorscale\": true, \"colorbar\": {\"outlinewidth\": 0, \"ticks\": \"\"}, \"type\": \"heatmap\"}], \"histogram2dcontour\": [{\"autocolorscale\": true, \"colorbar\": {\"outlinewidth\": 0, \"ticks\": \"\"}, \"type\": \"histogram2dcontour\"}], \"histogram2d\": [{\"autocolorscale\": true, \"colorbar\": {\"outlinewidth\": 0, \"ticks\": \"\"}, \"type\": \"histogram2d\"}], \"histogram\": [{\"marker\": {\"colorbar\": {\"outlinewidth\": 0, \"ticks\": \"\"}}, \"type\": \"histogram\"}], \"mesh3d\": [{\"colorbar\": {\"outlinewidth\": 0, \"ticks\": \"\"}, \"type\": \"mesh3d\"}], \"parcoords\": [{\"line\": {\"colorbar\": {\"outlinewidth\": 0, \"ticks\": \"\"}}, \"type\": \"parcoords\"}], \"scatter3d\": [{\"marker\": {\"colorbar\": {\"outlinewidth\": 0, \"ticks\": \"\"}}, \"type\": \"scatter3d\"}], \"scattercarpet\": [{\"marker\": {\"colorbar\": {\"outlinewidth\": 0, \"ticks\": \"\"}}, \"type\": \"scattercarpet\"}], \"scattergeo\": [{\"marker\": {\"colorbar\": {\"outlinewidth\": 0, \"ticks\": \"\"}}, \"type\": \"scattergeo\"}], \"scattergl\": [{\"marker\": {\"colorbar\": {\"outlinewidth\": 0, \"ticks\": \"\"}}, \"type\": \"scattergl\"}], \"scattermapbox\": [{\"marker\": {\"colorbar\": {\"outlinewidth\": 0, \"ticks\": \"\"}}, \"type\": \"scattermapbox\"}], \"scatterpolargl\": [{\"marker\": {\"colorbar\": {\"outlinewidth\": 0, \"ticks\": \"\"}}, \"type\": \"scatterpolargl\"}], \"scatterpolar\": [{\"marker\": {\"colorbar\": {\"outlinewidth\": 0, \"ticks\": \"\"}}, \"type\": \"scatterpolar\"}], \"scatter\": [{\"marker\": {\"colorbar\": {\"outlinewidth\": 0, \"ticks\": \"\"}}, \"type\": \"scatter\"}], \"scatterternary\": [{\"marker\": {\"colorbar\": {\"outlinewidth\": 0, \"ticks\": \"\"}}, \"type\": \"scatterternary\"}], \"surface\": [{\"colorbar\": {\"outlinewidth\": 0, \"ticks\": \"\"}, \"type\": \"surface\"}], \"table\": [{\"cells\": {\"fill\": {\"color\": \"#EBF0F8\"}, \"line\": {\"color\": \"white\"}}, \"header\": {\"fill\": {\"color\": \"#C8D4E3\"}, \"line\": {\"color\": \"white\"}}, \"type\": \"table\"}]}, \"layout\": {\"annotationdefaults\": {\"arrowcolor\": \"#506784\", \"arrowhead\": 0, \"arrowwidth\": 1}, \"colorscale\": {\"diverging\": [[0, \"#8e0152\"], [0.1, \"#c51b7d\"], [0.2, \"#de77ae\"], [0.3, \"#f1b6da\"], [0.4, \"#fde0ef\"], [0.5, \"#f7f7f7\"], [0.6, \"#e6f5d0\"], [0.7, \"#b8e186\"], [0.8, \"#7fbc41\"], [0.9, \"#4d9221\"], [1, \"#276419\"]], \"sequential\": [[0.0, \"#0508b8\"], [0.0893854748603352, \"#1910d8\"], [0.1787709497206704, \"#3c19f0\"], [0.2681564245810056, \"#6b1cfb\"], [0.3575418994413408, \"#981cfd\"], [0.44692737430167595, \"#bf1cfd\"], [0.5363128491620112, \"#dd2bfd\"], [0.6256983240223464, \"#f246fe\"], [0.7150837988826816, \"#fc67fd\"], [0.8044692737430168, \"#fe88fc\"], [0.8938547486033519, \"#fea5fd\"], [0.9832402234636871, \"#febefe\"], [1.0, \"#fec3fe\"]], \"sequentialminus\": [[0.0, \"#0508b8\"], [0.0893854748603352, \"#1910d8\"], [0.1787709497206704, \"#3c19f0\"], [0.2681564245810056, \"#6b1cfb\"], [0.3575418994413408, \"#981cfd\"], [0.44692737430167595, \"#bf1cfd\"], [0.5363128491620112, \"#dd2bfd\"], [0.6256983240223464, \"#f246fe\"], [0.7150837988826816, \"#fc67fd\"], [0.8044692737430168, \"#fe88fc\"], [0.8938547486033519, \"#fea5fd\"], [0.9832402234636871, \"#febefe\"], [1.0, \"#fec3fe\"]]}, \"colorway\": [\"#636efa\", \"#EF553B\", \"#00cc96\", \"#ab63fa\", \"#19d3f3\", \"#e763fa\", \"#FECB52\", \"#FFA15A\", \"#FF6692\", \"#B6E880\"], \"font\": {\"color\": \"#2a3f5f\"}, \"geo\": {\"bgcolor\": \"white\", \"lakecolor\": \"white\", \"landcolor\": \"#E5ECF6\", \"showlakes\": true, \"showland\": true, \"subunitcolor\": \"white\"}, \"hovermode\": \"closest\", \"mapbox\": {\"style\": \"light\"}, \"paper_bgcolor\": \"white\", \"plot_bgcolor\": \"#E5ECF6\", \"polar\": {\"angularaxis\": {\"gridcolor\": \"white\", \"linecolor\": \"white\", \"ticks\": \"\"}, \"bgcolor\": \"#E5ECF6\", \"radialaxis\": {\"gridcolor\": \"white\", \"linecolor\": \"white\", \"ticks\": \"\"}}, \"scene\": {\"xaxis\": {\"backgroundcolor\": \"#E5ECF6\", \"gridcolor\": \"white\", \"gridwidth\": 2, \"linecolor\": \"white\", \"showbackground\": true, \"ticks\": \"\", \"zerolinecolor\": \"white\"}, \"yaxis\": {\"backgroundcolor\": \"#E5ECF6\", \"gridcolor\": \"white\", \"gridwidth\": 2, \"linecolor\": \"white\", \"showbackground\": true, \"ticks\": \"\", \"zerolinecolor\": \"white\"}, \"zaxis\": {\"backgroundcolor\": \"#E5ECF6\", \"gridcolor\": \"white\", \"gridwidth\": 2, \"linecolor\": \"white\", \"showbackground\": true, \"ticks\": \"\", \"zerolinecolor\": \"white\"}}, \"shapedefaults\": {\"fillcolor\": \"#506784\", \"line\": {\"width\": 0}, \"opacity\": 0.4}, \"ternary\": {\"aaxis\": {\"gridcolor\": \"white\", \"linecolor\": \"white\", \"ticks\": \"\"}, \"baxis\": {\"gridcolor\": \"white\", \"linecolor\": \"white\", \"ticks\": \"\"}, \"bgcolor\": \"#E5ECF6\", \"caxis\": {\"gridcolor\": \"white\", \"linecolor\": \"white\", \"ticks\": \"\"}}, \"title\": {\"x\": 0.05}, \"xaxis\": {\"automargin\": true, \"gridcolor\": \"white\", \"linecolor\": \"white\", \"ticks\": \"\", \"zerolinecolor\": \"white\", \"zerolinewidth\": 2}, \"yaxis\": {\"automargin\": true, \"gridcolor\": \"white\", \"linecolor\": \"white\", \"ticks\": \"\", \"zerolinecolor\": \"white\", \"zerolinewidth\": 2}}}, \"polar\": {\"angularaxis\": {\"direction\": \"clockwise\", \"rotation\": 90}}}, {\"showLink\": false, \"linkText\": \"Export to plot.ly\", \"plotlyServerURL\": \"https://plot.ly\"}); \n",
       "}\n",
       "});</script><script type=\"text/javascript\">window.addEventListener(\"resize\", function(){if (document.getElementById(\"9d46ec3e-7d19-4851-a5b3-d049d8a89029\")) {window._Plotly.Plots.resize(document.getElementById(\"9d46ec3e-7d19-4851-a5b3-d049d8a89029\"));};})</script>"
      ]
     },
     "metadata": {},
     "output_type": "display_data"
    },
    {
     "name": "stdout",
     "output_type": "stream",
     "text": [
      "Comparando la pregunta ¿Cada cuánto tiempo consumes imágenes?\n"
     ]
    },
    {
     "data": {
      "application/vnd.plotly.v1+json": {
       "config": {
        "linkText": "Export to plot.ly",
        "plotlyServerURL": "https://plot.ly",
        "showLink": false
       },
       "data": [
        {
         "hovertemplate": "¿Cada cuánto tiempo consumes imágenes?=1. Nunca<br>counts=%{r}<br>cultural_cluster=%{theta}<extra></extra>",
         "legendgroup": "¿Cada cuánto tiempo consumes imágenes?=1. Nunca",
         "marker": {
          "color": "rgb(213,62,79)"
         },
         "name": "¿Cada cuánto tiempo consumes imágenes?=1. Nunca",
         "r": [
          2,
          11
         ],
         "showlegend": true,
         "theta": [
          "cluster_2",
          "cluster_4"
         ],
         "type": "barpolar",
         "uid": "e7648ed5-6c0b-4f06-848c-b1f2993729ad"
        },
        {
         "hovertemplate": "¿Cada cuánto tiempo consumes imágenes?=2. Dos o tres veces por semana<br>counts=%{r}<br>cultural_cluster=%{theta}<extra></extra>",
         "legendgroup": "¿Cada cuánto tiempo consumes imágenes?=2. Dos o tres veces por semana",
         "marker": {
          "color": "rgb(252,141,89)"
         },
         "name": "¿Cada cuánto tiempo consumes imágenes?=2. Dos o tres veces por semana",
         "r": [
          7,
          30,
          4,
          60
         ],
         "showlegend": true,
         "theta": [
          "cluster_1",
          "cluster_2",
          "cluster_3",
          "cluster_4"
         ],
         "type": "barpolar",
         "uid": "323b6792-8dc9-429e-af05-fc4304e7e5d3"
        },
        {
         "hovertemplate": "¿Cada cuánto tiempo consumes imágenes?=3. Casi todos los días<br>counts=%{r}<br>cultural_cluster=%{theta}<extra></extra>",
         "legendgroup": "¿Cada cuánto tiempo consumes imágenes?=3. Casi todos los días",
         "marker": {
          "color": "rgb(254,224,139)"
         },
         "name": "¿Cada cuánto tiempo consumes imágenes?=3. Casi todos los días",
         "r": [
          36,
          94,
          14,
          76
         ],
         "showlegend": true,
         "theta": [
          "cluster_1",
          "cluster_2",
          "cluster_3",
          "cluster_4"
         ],
         "type": "barpolar",
         "uid": "46d37699-83de-48f5-b91f-1cb776d22e80"
        },
        {
         "hovertemplate": "¿Cada cuánto tiempo consumes imágenes?=4. A diario<br>counts=%{r}<br>cultural_cluster=%{theta}<extra></extra>",
         "legendgroup": "¿Cada cuánto tiempo consumes imágenes?=4. A diario",
         "marker": {
          "color": "rgb(230,245,152)"
         },
         "name": "¿Cada cuánto tiempo consumes imágenes?=4. A diario",
         "r": [
          180,
          175,
          9,
          68,
          1
         ],
         "showlegend": true,
         "theta": [
          "cluster_1",
          "cluster_2",
          "cluster_3",
          "cluster_4",
          "cluster_5"
         ],
         "type": "barpolar",
         "uid": "2d2e231f-93aa-452f-9d6f-67e6636e6b0a"
        }
       ],
       "layout": {
        "barmode": "group",
        "barnorm": "",
        "height": 600,
        "legend": {
         "tracegroupgap": 0
        },
        "margin": {
         "t": 60
        },
        "polar": {
         "angularaxis": {
          "direction": "clockwise",
          "rotation": 90
         }
        },
        "template": {
         "data": {
          "bar": [
           {
            "marker": {
             "line": {
              "color": "#E5ECF6",
              "width": 0.5
             }
            },
            "type": "bar"
           }
          ],
          "barpolar": [
           {
            "marker": {
             "line": {
              "color": "#E5ECF6",
              "width": 0.5
             }
            },
            "type": "barpolar"
           }
          ],
          "carpet": [
           {
            "aaxis": {
             "endlinecolor": "#2a3f5f",
             "gridcolor": "white",
             "linecolor": "white",
             "minorgridcolor": "white",
             "startlinecolor": "#2a3f5f"
            },
            "baxis": {
             "endlinecolor": "#2a3f5f",
             "gridcolor": "white",
             "linecolor": "white",
             "minorgridcolor": "white",
             "startlinecolor": "#2a3f5f"
            },
            "type": "carpet"
           }
          ],
          "choropleth": [
           {
            "colorbar": {
             "outlinewidth": 0,
             "ticks": ""
            },
            "type": "choropleth"
           }
          ],
          "contour": [
           {
            "autocolorscale": true,
            "colorbar": {
             "outlinewidth": 0,
             "ticks": ""
            },
            "type": "contour"
           }
          ],
          "contourcarpet": [
           {
            "colorbar": {
             "outlinewidth": 0,
             "ticks": ""
            },
            "type": "contourcarpet"
           }
          ],
          "heatmap": [
           {
            "autocolorscale": true,
            "colorbar": {
             "outlinewidth": 0,
             "ticks": ""
            },
            "type": "heatmap"
           }
          ],
          "heatmapgl": [
           {
            "colorbar": {
             "outlinewidth": 0,
             "ticks": ""
            },
            "type": "heatmapgl"
           }
          ],
          "histogram": [
           {
            "marker": {
             "colorbar": {
              "outlinewidth": 0,
              "ticks": ""
             }
            },
            "type": "histogram"
           }
          ],
          "histogram2d": [
           {
            "autocolorscale": true,
            "colorbar": {
             "outlinewidth": 0,
             "ticks": ""
            },
            "type": "histogram2d"
           }
          ],
          "histogram2dcontour": [
           {
            "autocolorscale": true,
            "colorbar": {
             "outlinewidth": 0,
             "ticks": ""
            },
            "type": "histogram2dcontour"
           }
          ],
          "mesh3d": [
           {
            "colorbar": {
             "outlinewidth": 0,
             "ticks": ""
            },
            "type": "mesh3d"
           }
          ],
          "parcoords": [
           {
            "line": {
             "colorbar": {
              "outlinewidth": 0,
              "ticks": ""
             }
            },
            "type": "parcoords"
           }
          ],
          "scatter": [
           {
            "marker": {
             "colorbar": {
              "outlinewidth": 0,
              "ticks": ""
             }
            },
            "type": "scatter"
           }
          ],
          "scatter3d": [
           {
            "marker": {
             "colorbar": {
              "outlinewidth": 0,
              "ticks": ""
             }
            },
            "type": "scatter3d"
           }
          ],
          "scattercarpet": [
           {
            "marker": {
             "colorbar": {
              "outlinewidth": 0,
              "ticks": ""
             }
            },
            "type": "scattercarpet"
           }
          ],
          "scattergeo": [
           {
            "marker": {
             "colorbar": {
              "outlinewidth": 0,
              "ticks": ""
             }
            },
            "type": "scattergeo"
           }
          ],
          "scattergl": [
           {
            "marker": {
             "colorbar": {
              "outlinewidth": 0,
              "ticks": ""
             }
            },
            "type": "scattergl"
           }
          ],
          "scattermapbox": [
           {
            "marker": {
             "colorbar": {
              "outlinewidth": 0,
              "ticks": ""
             }
            },
            "type": "scattermapbox"
           }
          ],
          "scatterpolar": [
           {
            "marker": {
             "colorbar": {
              "outlinewidth": 0,
              "ticks": ""
             }
            },
            "type": "scatterpolar"
           }
          ],
          "scatterpolargl": [
           {
            "marker": {
             "colorbar": {
              "outlinewidth": 0,
              "ticks": ""
             }
            },
            "type": "scatterpolargl"
           }
          ],
          "scatterternary": [
           {
            "marker": {
             "colorbar": {
              "outlinewidth": 0,
              "ticks": ""
             }
            },
            "type": "scatterternary"
           }
          ],
          "surface": [
           {
            "colorbar": {
             "outlinewidth": 0,
             "ticks": ""
            },
            "type": "surface"
           }
          ],
          "table": [
           {
            "cells": {
             "fill": {
              "color": "#EBF0F8"
             },
             "line": {
              "color": "white"
             }
            },
            "header": {
             "fill": {
              "color": "#C8D4E3"
             },
             "line": {
              "color": "white"
             }
            },
            "type": "table"
           }
          ]
         },
         "layout": {
          "annotationdefaults": {
           "arrowcolor": "#506784",
           "arrowhead": 0,
           "arrowwidth": 1
          },
          "colorscale": {
           "diverging": [
            [
             0,
             "#8e0152"
            ],
            [
             0.1,
             "#c51b7d"
            ],
            [
             0.2,
             "#de77ae"
            ],
            [
             0.3,
             "#f1b6da"
            ],
            [
             0.4,
             "#fde0ef"
            ],
            [
             0.5,
             "#f7f7f7"
            ],
            [
             0.6,
             "#e6f5d0"
            ],
            [
             0.7,
             "#b8e186"
            ],
            [
             0.8,
             "#7fbc41"
            ],
            [
             0.9,
             "#4d9221"
            ],
            [
             1,
             "#276419"
            ]
           ],
           "sequential": [
            [
             0,
             "#0508b8"
            ],
            [
             0.0893854748603352,
             "#1910d8"
            ],
            [
             0.1787709497206704,
             "#3c19f0"
            ],
            [
             0.2681564245810056,
             "#6b1cfb"
            ],
            [
             0.3575418994413408,
             "#981cfd"
            ],
            [
             0.44692737430167595,
             "#bf1cfd"
            ],
            [
             0.5363128491620112,
             "#dd2bfd"
            ],
            [
             0.6256983240223464,
             "#f246fe"
            ],
            [
             0.7150837988826816,
             "#fc67fd"
            ],
            [
             0.8044692737430168,
             "#fe88fc"
            ],
            [
             0.8938547486033519,
             "#fea5fd"
            ],
            [
             0.9832402234636871,
             "#febefe"
            ],
            [
             1,
             "#fec3fe"
            ]
           ],
           "sequentialminus": [
            [
             0,
             "#0508b8"
            ],
            [
             0.0893854748603352,
             "#1910d8"
            ],
            [
             0.1787709497206704,
             "#3c19f0"
            ],
            [
             0.2681564245810056,
             "#6b1cfb"
            ],
            [
             0.3575418994413408,
             "#981cfd"
            ],
            [
             0.44692737430167595,
             "#bf1cfd"
            ],
            [
             0.5363128491620112,
             "#dd2bfd"
            ],
            [
             0.6256983240223464,
             "#f246fe"
            ],
            [
             0.7150837988826816,
             "#fc67fd"
            ],
            [
             0.8044692737430168,
             "#fe88fc"
            ],
            [
             0.8938547486033519,
             "#fea5fd"
            ],
            [
             0.9832402234636871,
             "#febefe"
            ],
            [
             1,
             "#fec3fe"
            ]
           ]
          },
          "colorway": [
           "#636efa",
           "#EF553B",
           "#00cc96",
           "#ab63fa",
           "#19d3f3",
           "#e763fa",
           "#FECB52",
           "#FFA15A",
           "#FF6692",
           "#B6E880"
          ],
          "font": {
           "color": "#2a3f5f"
          },
          "geo": {
           "bgcolor": "white",
           "lakecolor": "white",
           "landcolor": "#E5ECF6",
           "showlakes": true,
           "showland": true,
           "subunitcolor": "white"
          },
          "hovermode": "closest",
          "mapbox": {
           "style": "light"
          },
          "paper_bgcolor": "white",
          "plot_bgcolor": "#E5ECF6",
          "polar": {
           "angularaxis": {
            "gridcolor": "white",
            "linecolor": "white",
            "ticks": ""
           },
           "bgcolor": "#E5ECF6",
           "radialaxis": {
            "gridcolor": "white",
            "linecolor": "white",
            "ticks": ""
           }
          },
          "scene": {
           "xaxis": {
            "backgroundcolor": "#E5ECF6",
            "gridcolor": "white",
            "gridwidth": 2,
            "linecolor": "white",
            "showbackground": true,
            "ticks": "",
            "zerolinecolor": "white"
           },
           "yaxis": {
            "backgroundcolor": "#E5ECF6",
            "gridcolor": "white",
            "gridwidth": 2,
            "linecolor": "white",
            "showbackground": true,
            "ticks": "",
            "zerolinecolor": "white"
           },
           "zaxis": {
            "backgroundcolor": "#E5ECF6",
            "gridcolor": "white",
            "gridwidth": 2,
            "linecolor": "white",
            "showbackground": true,
            "ticks": "",
            "zerolinecolor": "white"
           }
          },
          "shapedefaults": {
           "fillcolor": "#506784",
           "line": {
            "width": 0
           },
           "opacity": 0.4
          },
          "ternary": {
           "aaxis": {
            "gridcolor": "white",
            "linecolor": "white",
            "ticks": ""
           },
           "baxis": {
            "gridcolor": "white",
            "linecolor": "white",
            "ticks": ""
           },
           "bgcolor": "#E5ECF6",
           "caxis": {
            "gridcolor": "white",
            "linecolor": "white",
            "ticks": ""
           }
          },
          "title": {
           "x": 0.05
          },
          "xaxis": {
           "automargin": true,
           "gridcolor": "white",
           "linecolor": "white",
           "ticks": "",
           "zerolinecolor": "white",
           "zerolinewidth": 2
          },
          "yaxis": {
           "automargin": true,
           "gridcolor": "white",
           "linecolor": "white",
           "ticks": "",
           "zerolinecolor": "white",
           "zerolinewidth": 2
          }
         }
        }
       }
      },
      "text/html": [
       "<div id=\"1117e2cf-d49e-4003-b898-f9ec9be16591\" style=\"height: 600px; width: 100%;\" class=\"plotly-graph-div\"></div><script type=\"text/javascript\">require([\"plotly\"], function(Plotly) { window.PLOTLYENV=window.PLOTLYENV || {};window.PLOTLYENV.BASE_URL=\"https://plot.ly\";\n",
       "if (document.getElementById(\"1117e2cf-d49e-4003-b898-f9ec9be16591\")) {\n",
       "    Plotly.newPlot(\"1117e2cf-d49e-4003-b898-f9ec9be16591\", [{\"hovertemplate\": \"\\u00bfCada cu\\u00e1nto tiempo consumes im\\u00e1genes?=1. Nunca<br>counts=%{r}<br>cultural_cluster=%{theta}<extra></extra>\", \"legendgroup\": \"\\u00bfCada cu\\u00e1nto tiempo consumes im\\u00e1genes?=1. Nunca\", \"marker\": {\"color\": \"rgb(213,62,79)\"}, \"name\": \"\\u00bfCada cu\\u00e1nto tiempo consumes im\\u00e1genes?=1. Nunca\", \"r\": [2, 11], \"showlegend\": true, \"theta\": [\"cluster_2\", \"cluster_4\"], \"type\": \"barpolar\", \"uid\": \"e7648ed5-6c0b-4f06-848c-b1f2993729ad\"}, {\"hovertemplate\": \"\\u00bfCada cu\\u00e1nto tiempo consumes im\\u00e1genes?=2. Dos o tres veces por semana<br>counts=%{r}<br>cultural_cluster=%{theta}<extra></extra>\", \"legendgroup\": \"\\u00bfCada cu\\u00e1nto tiempo consumes im\\u00e1genes?=2. Dos o tres veces por semana\", \"marker\": {\"color\": \"rgb(252,141,89)\"}, \"name\": \"\\u00bfCada cu\\u00e1nto tiempo consumes im\\u00e1genes?=2. Dos o tres veces por semana\", \"r\": [7, 30, 4, 60], \"showlegend\": true, \"theta\": [\"cluster_1\", \"cluster_2\", \"cluster_3\", \"cluster_4\"], \"type\": \"barpolar\", \"uid\": \"323b6792-8dc9-429e-af05-fc4304e7e5d3\"}, {\"hovertemplate\": \"\\u00bfCada cu\\u00e1nto tiempo consumes im\\u00e1genes?=3. Casi todos los d\\u00edas<br>counts=%{r}<br>cultural_cluster=%{theta}<extra></extra>\", \"legendgroup\": \"\\u00bfCada cu\\u00e1nto tiempo consumes im\\u00e1genes?=3. Casi todos los d\\u00edas\", \"marker\": {\"color\": \"rgb(254,224,139)\"}, \"name\": \"\\u00bfCada cu\\u00e1nto tiempo consumes im\\u00e1genes?=3. Casi todos los d\\u00edas\", \"r\": [36, 94, 14, 76], \"showlegend\": true, \"theta\": [\"cluster_1\", \"cluster_2\", \"cluster_3\", \"cluster_4\"], \"type\": \"barpolar\", \"uid\": \"46d37699-83de-48f5-b91f-1cb776d22e80\"}, {\"hovertemplate\": \"\\u00bfCada cu\\u00e1nto tiempo consumes im\\u00e1genes?=4. A diario<br>counts=%{r}<br>cultural_cluster=%{theta}<extra></extra>\", \"legendgroup\": \"\\u00bfCada cu\\u00e1nto tiempo consumes im\\u00e1genes?=4. A diario\", \"marker\": {\"color\": \"rgb(230,245,152)\"}, \"name\": \"\\u00bfCada cu\\u00e1nto tiempo consumes im\\u00e1genes?=4. A diario\", \"r\": [180, 175, 9, 68, 1], \"showlegend\": true, \"theta\": [\"cluster_1\", \"cluster_2\", \"cluster_3\", \"cluster_4\", \"cluster_5\"], \"type\": \"barpolar\", \"uid\": \"2d2e231f-93aa-452f-9d6f-67e6636e6b0a\"}], {\"barmode\": \"group\", \"barnorm\": \"\", \"height\": 600, \"legend\": {\"tracegroupgap\": 0}, \"margin\": {\"t\": 60}, \"template\": {\"data\": {\"barpolar\": [{\"marker\": {\"line\": {\"color\": \"#E5ECF6\", \"width\": 0.5}}, \"type\": \"barpolar\"}], \"bar\": [{\"marker\": {\"line\": {\"color\": \"#E5ECF6\", \"width\": 0.5}}, \"type\": \"bar\"}], \"carpet\": [{\"aaxis\": {\"endlinecolor\": \"#2a3f5f\", \"gridcolor\": \"white\", \"linecolor\": \"white\", \"minorgridcolor\": \"white\", \"startlinecolor\": \"#2a3f5f\"}, \"baxis\": {\"endlinecolor\": \"#2a3f5f\", \"gridcolor\": \"white\", \"linecolor\": \"white\", \"minorgridcolor\": \"white\", \"startlinecolor\": \"#2a3f5f\"}, \"type\": \"carpet\"}], \"choropleth\": [{\"colorbar\": {\"outlinewidth\": 0, \"ticks\": \"\"}, \"type\": \"choropleth\"}], \"contourcarpet\": [{\"colorbar\": {\"outlinewidth\": 0, \"ticks\": \"\"}, \"type\": \"contourcarpet\"}], \"contour\": [{\"autocolorscale\": true, \"colorbar\": {\"outlinewidth\": 0, \"ticks\": \"\"}, \"type\": \"contour\"}], \"heatmapgl\": [{\"colorbar\": {\"outlinewidth\": 0, \"ticks\": \"\"}, \"type\": \"heatmapgl\"}], \"heatmap\": [{\"autocolorscale\": true, \"colorbar\": {\"outlinewidth\": 0, \"ticks\": \"\"}, \"type\": \"heatmap\"}], \"histogram2dcontour\": [{\"autocolorscale\": true, \"colorbar\": {\"outlinewidth\": 0, \"ticks\": \"\"}, \"type\": \"histogram2dcontour\"}], \"histogram2d\": [{\"autocolorscale\": true, \"colorbar\": {\"outlinewidth\": 0, \"ticks\": \"\"}, \"type\": \"histogram2d\"}], \"histogram\": [{\"marker\": {\"colorbar\": {\"outlinewidth\": 0, \"ticks\": \"\"}}, \"type\": \"histogram\"}], \"mesh3d\": [{\"colorbar\": {\"outlinewidth\": 0, \"ticks\": \"\"}, \"type\": \"mesh3d\"}], \"parcoords\": [{\"line\": {\"colorbar\": {\"outlinewidth\": 0, \"ticks\": \"\"}}, \"type\": \"parcoords\"}], \"scatter3d\": [{\"marker\": {\"colorbar\": {\"outlinewidth\": 0, \"ticks\": \"\"}}, \"type\": \"scatter3d\"}], \"scattercarpet\": [{\"marker\": {\"colorbar\": {\"outlinewidth\": 0, \"ticks\": \"\"}}, \"type\": \"scattercarpet\"}], \"scattergeo\": [{\"marker\": {\"colorbar\": {\"outlinewidth\": 0, \"ticks\": \"\"}}, \"type\": \"scattergeo\"}], \"scattergl\": [{\"marker\": {\"colorbar\": {\"outlinewidth\": 0, \"ticks\": \"\"}}, \"type\": \"scattergl\"}], \"scattermapbox\": [{\"marker\": {\"colorbar\": {\"outlinewidth\": 0, \"ticks\": \"\"}}, \"type\": \"scattermapbox\"}], \"scatterpolargl\": [{\"marker\": {\"colorbar\": {\"outlinewidth\": 0, \"ticks\": \"\"}}, \"type\": \"scatterpolargl\"}], \"scatterpolar\": [{\"marker\": {\"colorbar\": {\"outlinewidth\": 0, \"ticks\": \"\"}}, \"type\": \"scatterpolar\"}], \"scatter\": [{\"marker\": {\"colorbar\": {\"outlinewidth\": 0, \"ticks\": \"\"}}, \"type\": \"scatter\"}], \"scatterternary\": [{\"marker\": {\"colorbar\": {\"outlinewidth\": 0, \"ticks\": \"\"}}, \"type\": \"scatterternary\"}], \"surface\": [{\"colorbar\": {\"outlinewidth\": 0, \"ticks\": \"\"}, \"type\": \"surface\"}], \"table\": [{\"cells\": {\"fill\": {\"color\": \"#EBF0F8\"}, \"line\": {\"color\": \"white\"}}, \"header\": {\"fill\": {\"color\": \"#C8D4E3\"}, \"line\": {\"color\": \"white\"}}, \"type\": \"table\"}]}, \"layout\": {\"annotationdefaults\": {\"arrowcolor\": \"#506784\", \"arrowhead\": 0, \"arrowwidth\": 1}, \"colorscale\": {\"diverging\": [[0, \"#8e0152\"], [0.1, \"#c51b7d\"], [0.2, \"#de77ae\"], [0.3, \"#f1b6da\"], [0.4, \"#fde0ef\"], [0.5, \"#f7f7f7\"], [0.6, \"#e6f5d0\"], [0.7, \"#b8e186\"], [0.8, \"#7fbc41\"], [0.9, \"#4d9221\"], [1, \"#276419\"]], \"sequential\": [[0.0, \"#0508b8\"], [0.0893854748603352, \"#1910d8\"], [0.1787709497206704, \"#3c19f0\"], [0.2681564245810056, \"#6b1cfb\"], [0.3575418994413408, \"#981cfd\"], [0.44692737430167595, \"#bf1cfd\"], [0.5363128491620112, \"#dd2bfd\"], [0.6256983240223464, \"#f246fe\"], [0.7150837988826816, \"#fc67fd\"], [0.8044692737430168, \"#fe88fc\"], [0.8938547486033519, \"#fea5fd\"], [0.9832402234636871, \"#febefe\"], [1.0, \"#fec3fe\"]], \"sequentialminus\": [[0.0, \"#0508b8\"], [0.0893854748603352, \"#1910d8\"], [0.1787709497206704, \"#3c19f0\"], [0.2681564245810056, \"#6b1cfb\"], [0.3575418994413408, \"#981cfd\"], [0.44692737430167595, \"#bf1cfd\"], [0.5363128491620112, \"#dd2bfd\"], [0.6256983240223464, \"#f246fe\"], [0.7150837988826816, \"#fc67fd\"], [0.8044692737430168, \"#fe88fc\"], [0.8938547486033519, \"#fea5fd\"], [0.9832402234636871, \"#febefe\"], [1.0, \"#fec3fe\"]]}, \"colorway\": [\"#636efa\", \"#EF553B\", \"#00cc96\", \"#ab63fa\", \"#19d3f3\", \"#e763fa\", \"#FECB52\", \"#FFA15A\", \"#FF6692\", \"#B6E880\"], \"font\": {\"color\": \"#2a3f5f\"}, \"geo\": {\"bgcolor\": \"white\", \"lakecolor\": \"white\", \"landcolor\": \"#E5ECF6\", \"showlakes\": true, \"showland\": true, \"subunitcolor\": \"white\"}, \"hovermode\": \"closest\", \"mapbox\": {\"style\": \"light\"}, \"paper_bgcolor\": \"white\", \"plot_bgcolor\": \"#E5ECF6\", \"polar\": {\"angularaxis\": {\"gridcolor\": \"white\", \"linecolor\": \"white\", \"ticks\": \"\"}, \"bgcolor\": \"#E5ECF6\", \"radialaxis\": {\"gridcolor\": \"white\", \"linecolor\": \"white\", \"ticks\": \"\"}}, \"scene\": {\"xaxis\": {\"backgroundcolor\": \"#E5ECF6\", \"gridcolor\": \"white\", \"gridwidth\": 2, \"linecolor\": \"white\", \"showbackground\": true, \"ticks\": \"\", \"zerolinecolor\": \"white\"}, \"yaxis\": {\"backgroundcolor\": \"#E5ECF6\", \"gridcolor\": \"white\", \"gridwidth\": 2, \"linecolor\": \"white\", \"showbackground\": true, \"ticks\": \"\", \"zerolinecolor\": \"white\"}, \"zaxis\": {\"backgroundcolor\": \"#E5ECF6\", \"gridcolor\": \"white\", \"gridwidth\": 2, \"linecolor\": \"white\", \"showbackground\": true, \"ticks\": \"\", \"zerolinecolor\": \"white\"}}, \"shapedefaults\": {\"fillcolor\": \"#506784\", \"line\": {\"width\": 0}, \"opacity\": 0.4}, \"ternary\": {\"aaxis\": {\"gridcolor\": \"white\", \"linecolor\": \"white\", \"ticks\": \"\"}, \"baxis\": {\"gridcolor\": \"white\", \"linecolor\": \"white\", \"ticks\": \"\"}, \"bgcolor\": \"#E5ECF6\", \"caxis\": {\"gridcolor\": \"white\", \"linecolor\": \"white\", \"ticks\": \"\"}}, \"title\": {\"x\": 0.05}, \"xaxis\": {\"automargin\": true, \"gridcolor\": \"white\", \"linecolor\": \"white\", \"ticks\": \"\", \"zerolinecolor\": \"white\", \"zerolinewidth\": 2}, \"yaxis\": {\"automargin\": true, \"gridcolor\": \"white\", \"linecolor\": \"white\", \"ticks\": \"\", \"zerolinecolor\": \"white\", \"zerolinewidth\": 2}}}, \"polar\": {\"angularaxis\": {\"direction\": \"clockwise\", \"rotation\": 90}}}, {\"showLink\": false, \"linkText\": \"Export to plot.ly\", \"plotlyServerURL\": \"https://plot.ly\"}); \n",
       "}\n",
       "});</script><script type=\"text/javascript\">window.addEventListener(\"resize\", function(){if (document.getElementById(\"1117e2cf-d49e-4003-b898-f9ec9be16591\")) {window._Plotly.Plots.resize(document.getElementById(\"1117e2cf-d49e-4003-b898-f9ec9be16591\"));};})</script>"
      ],
      "text/vnd.plotly.v1+html": [
       "<div id=\"1117e2cf-d49e-4003-b898-f9ec9be16591\" style=\"height: 600px; width: 100%;\" class=\"plotly-graph-div\"></div><script type=\"text/javascript\">require([\"plotly\"], function(Plotly) { window.PLOTLYENV=window.PLOTLYENV || {};window.PLOTLYENV.BASE_URL=\"https://plot.ly\";\n",
       "if (document.getElementById(\"1117e2cf-d49e-4003-b898-f9ec9be16591\")) {\n",
       "    Plotly.newPlot(\"1117e2cf-d49e-4003-b898-f9ec9be16591\", [{\"hovertemplate\": \"\\u00bfCada cu\\u00e1nto tiempo consumes im\\u00e1genes?=1. Nunca<br>counts=%{r}<br>cultural_cluster=%{theta}<extra></extra>\", \"legendgroup\": \"\\u00bfCada cu\\u00e1nto tiempo consumes im\\u00e1genes?=1. Nunca\", \"marker\": {\"color\": \"rgb(213,62,79)\"}, \"name\": \"\\u00bfCada cu\\u00e1nto tiempo consumes im\\u00e1genes?=1. Nunca\", \"r\": [2, 11], \"showlegend\": true, \"theta\": [\"cluster_2\", \"cluster_4\"], \"type\": \"barpolar\", \"uid\": \"e7648ed5-6c0b-4f06-848c-b1f2993729ad\"}, {\"hovertemplate\": \"\\u00bfCada cu\\u00e1nto tiempo consumes im\\u00e1genes?=2. Dos o tres veces por semana<br>counts=%{r}<br>cultural_cluster=%{theta}<extra></extra>\", \"legendgroup\": \"\\u00bfCada cu\\u00e1nto tiempo consumes im\\u00e1genes?=2. Dos o tres veces por semana\", \"marker\": {\"color\": \"rgb(252,141,89)\"}, \"name\": \"\\u00bfCada cu\\u00e1nto tiempo consumes im\\u00e1genes?=2. Dos o tres veces por semana\", \"r\": [7, 30, 4, 60], \"showlegend\": true, \"theta\": [\"cluster_1\", \"cluster_2\", \"cluster_3\", \"cluster_4\"], \"type\": \"barpolar\", \"uid\": \"323b6792-8dc9-429e-af05-fc4304e7e5d3\"}, {\"hovertemplate\": \"\\u00bfCada cu\\u00e1nto tiempo consumes im\\u00e1genes?=3. Casi todos los d\\u00edas<br>counts=%{r}<br>cultural_cluster=%{theta}<extra></extra>\", \"legendgroup\": \"\\u00bfCada cu\\u00e1nto tiempo consumes im\\u00e1genes?=3. Casi todos los d\\u00edas\", \"marker\": {\"color\": \"rgb(254,224,139)\"}, \"name\": \"\\u00bfCada cu\\u00e1nto tiempo consumes im\\u00e1genes?=3. Casi todos los d\\u00edas\", \"r\": [36, 94, 14, 76], \"showlegend\": true, \"theta\": [\"cluster_1\", \"cluster_2\", \"cluster_3\", \"cluster_4\"], \"type\": \"barpolar\", \"uid\": \"46d37699-83de-48f5-b91f-1cb776d22e80\"}, {\"hovertemplate\": \"\\u00bfCada cu\\u00e1nto tiempo consumes im\\u00e1genes?=4. A diario<br>counts=%{r}<br>cultural_cluster=%{theta}<extra></extra>\", \"legendgroup\": \"\\u00bfCada cu\\u00e1nto tiempo consumes im\\u00e1genes?=4. A diario\", \"marker\": {\"color\": \"rgb(230,245,152)\"}, \"name\": \"\\u00bfCada cu\\u00e1nto tiempo consumes im\\u00e1genes?=4. A diario\", \"r\": [180, 175, 9, 68, 1], \"showlegend\": true, \"theta\": [\"cluster_1\", \"cluster_2\", \"cluster_3\", \"cluster_4\", \"cluster_5\"], \"type\": \"barpolar\", \"uid\": \"2d2e231f-93aa-452f-9d6f-67e6636e6b0a\"}], {\"barmode\": \"group\", \"barnorm\": \"\", \"height\": 600, \"legend\": {\"tracegroupgap\": 0}, \"margin\": {\"t\": 60}, \"template\": {\"data\": {\"barpolar\": [{\"marker\": {\"line\": {\"color\": \"#E5ECF6\", \"width\": 0.5}}, \"type\": \"barpolar\"}], \"bar\": [{\"marker\": {\"line\": {\"color\": \"#E5ECF6\", \"width\": 0.5}}, \"type\": \"bar\"}], \"carpet\": [{\"aaxis\": {\"endlinecolor\": \"#2a3f5f\", \"gridcolor\": \"white\", \"linecolor\": \"white\", \"minorgridcolor\": \"white\", \"startlinecolor\": \"#2a3f5f\"}, \"baxis\": {\"endlinecolor\": \"#2a3f5f\", \"gridcolor\": \"white\", \"linecolor\": \"white\", \"minorgridcolor\": \"white\", \"startlinecolor\": \"#2a3f5f\"}, \"type\": \"carpet\"}], \"choropleth\": [{\"colorbar\": {\"outlinewidth\": 0, \"ticks\": \"\"}, \"type\": \"choropleth\"}], \"contourcarpet\": [{\"colorbar\": {\"outlinewidth\": 0, \"ticks\": \"\"}, \"type\": \"contourcarpet\"}], \"contour\": [{\"autocolorscale\": true, \"colorbar\": {\"outlinewidth\": 0, \"ticks\": \"\"}, \"type\": \"contour\"}], \"heatmapgl\": [{\"colorbar\": {\"outlinewidth\": 0, \"ticks\": \"\"}, \"type\": \"heatmapgl\"}], \"heatmap\": [{\"autocolorscale\": true, \"colorbar\": {\"outlinewidth\": 0, \"ticks\": \"\"}, \"type\": \"heatmap\"}], \"histogram2dcontour\": [{\"autocolorscale\": true, \"colorbar\": {\"outlinewidth\": 0, \"ticks\": \"\"}, \"type\": \"histogram2dcontour\"}], \"histogram2d\": [{\"autocolorscale\": true, \"colorbar\": {\"outlinewidth\": 0, \"ticks\": \"\"}, \"type\": \"histogram2d\"}], \"histogram\": [{\"marker\": {\"colorbar\": {\"outlinewidth\": 0, \"ticks\": \"\"}}, \"type\": \"histogram\"}], \"mesh3d\": [{\"colorbar\": {\"outlinewidth\": 0, \"ticks\": \"\"}, \"type\": \"mesh3d\"}], \"parcoords\": [{\"line\": {\"colorbar\": {\"outlinewidth\": 0, \"ticks\": \"\"}}, \"type\": \"parcoords\"}], \"scatter3d\": [{\"marker\": {\"colorbar\": {\"outlinewidth\": 0, \"ticks\": \"\"}}, \"type\": \"scatter3d\"}], \"scattercarpet\": [{\"marker\": {\"colorbar\": {\"outlinewidth\": 0, \"ticks\": \"\"}}, \"type\": \"scattercarpet\"}], \"scattergeo\": [{\"marker\": {\"colorbar\": {\"outlinewidth\": 0, \"ticks\": \"\"}}, \"type\": \"scattergeo\"}], \"scattergl\": [{\"marker\": {\"colorbar\": {\"outlinewidth\": 0, \"ticks\": \"\"}}, \"type\": \"scattergl\"}], \"scattermapbox\": [{\"marker\": {\"colorbar\": {\"outlinewidth\": 0, \"ticks\": \"\"}}, \"type\": \"scattermapbox\"}], \"scatterpolargl\": [{\"marker\": {\"colorbar\": {\"outlinewidth\": 0, \"ticks\": \"\"}}, \"type\": \"scatterpolargl\"}], \"scatterpolar\": [{\"marker\": {\"colorbar\": {\"outlinewidth\": 0, \"ticks\": \"\"}}, \"type\": \"scatterpolar\"}], \"scatter\": [{\"marker\": {\"colorbar\": {\"outlinewidth\": 0, \"ticks\": \"\"}}, \"type\": \"scatter\"}], \"scatterternary\": [{\"marker\": {\"colorbar\": {\"outlinewidth\": 0, \"ticks\": \"\"}}, \"type\": \"scatterternary\"}], \"surface\": [{\"colorbar\": {\"outlinewidth\": 0, \"ticks\": \"\"}, \"type\": \"surface\"}], \"table\": [{\"cells\": {\"fill\": {\"color\": \"#EBF0F8\"}, \"line\": {\"color\": \"white\"}}, \"header\": {\"fill\": {\"color\": \"#C8D4E3\"}, \"line\": {\"color\": \"white\"}}, \"type\": \"table\"}]}, \"layout\": {\"annotationdefaults\": {\"arrowcolor\": \"#506784\", \"arrowhead\": 0, \"arrowwidth\": 1}, \"colorscale\": {\"diverging\": [[0, \"#8e0152\"], [0.1, \"#c51b7d\"], [0.2, \"#de77ae\"], [0.3, \"#f1b6da\"], [0.4, \"#fde0ef\"], [0.5, \"#f7f7f7\"], [0.6, \"#e6f5d0\"], [0.7, \"#b8e186\"], [0.8, \"#7fbc41\"], [0.9, \"#4d9221\"], [1, \"#276419\"]], \"sequential\": [[0.0, \"#0508b8\"], [0.0893854748603352, \"#1910d8\"], [0.1787709497206704, \"#3c19f0\"], [0.2681564245810056, \"#6b1cfb\"], [0.3575418994413408, \"#981cfd\"], [0.44692737430167595, \"#bf1cfd\"], [0.5363128491620112, \"#dd2bfd\"], [0.6256983240223464, \"#f246fe\"], [0.7150837988826816, \"#fc67fd\"], [0.8044692737430168, \"#fe88fc\"], [0.8938547486033519, \"#fea5fd\"], [0.9832402234636871, \"#febefe\"], [1.0, \"#fec3fe\"]], \"sequentialminus\": [[0.0, \"#0508b8\"], [0.0893854748603352, \"#1910d8\"], [0.1787709497206704, \"#3c19f0\"], [0.2681564245810056, \"#6b1cfb\"], [0.3575418994413408, \"#981cfd\"], [0.44692737430167595, \"#bf1cfd\"], [0.5363128491620112, \"#dd2bfd\"], [0.6256983240223464, \"#f246fe\"], [0.7150837988826816, \"#fc67fd\"], [0.8044692737430168, \"#fe88fc\"], [0.8938547486033519, \"#fea5fd\"], [0.9832402234636871, \"#febefe\"], [1.0, \"#fec3fe\"]]}, \"colorway\": [\"#636efa\", \"#EF553B\", \"#00cc96\", \"#ab63fa\", \"#19d3f3\", \"#e763fa\", \"#FECB52\", \"#FFA15A\", \"#FF6692\", \"#B6E880\"], \"font\": {\"color\": \"#2a3f5f\"}, \"geo\": {\"bgcolor\": \"white\", \"lakecolor\": \"white\", \"landcolor\": \"#E5ECF6\", \"showlakes\": true, \"showland\": true, \"subunitcolor\": \"white\"}, \"hovermode\": \"closest\", \"mapbox\": {\"style\": \"light\"}, \"paper_bgcolor\": \"white\", \"plot_bgcolor\": \"#E5ECF6\", \"polar\": {\"angularaxis\": {\"gridcolor\": \"white\", \"linecolor\": \"white\", \"ticks\": \"\"}, \"bgcolor\": \"#E5ECF6\", \"radialaxis\": {\"gridcolor\": \"white\", \"linecolor\": \"white\", \"ticks\": \"\"}}, \"scene\": {\"xaxis\": {\"backgroundcolor\": \"#E5ECF6\", \"gridcolor\": \"white\", \"gridwidth\": 2, \"linecolor\": \"white\", \"showbackground\": true, \"ticks\": \"\", \"zerolinecolor\": \"white\"}, \"yaxis\": {\"backgroundcolor\": \"#E5ECF6\", \"gridcolor\": \"white\", \"gridwidth\": 2, \"linecolor\": \"white\", \"showbackground\": true, \"ticks\": \"\", \"zerolinecolor\": \"white\"}, \"zaxis\": {\"backgroundcolor\": \"#E5ECF6\", \"gridcolor\": \"white\", \"gridwidth\": 2, \"linecolor\": \"white\", \"showbackground\": true, \"ticks\": \"\", \"zerolinecolor\": \"white\"}}, \"shapedefaults\": {\"fillcolor\": \"#506784\", \"line\": {\"width\": 0}, \"opacity\": 0.4}, \"ternary\": {\"aaxis\": {\"gridcolor\": \"white\", \"linecolor\": \"white\", \"ticks\": \"\"}, \"baxis\": {\"gridcolor\": \"white\", \"linecolor\": \"white\", \"ticks\": \"\"}, \"bgcolor\": \"#E5ECF6\", \"caxis\": {\"gridcolor\": \"white\", \"linecolor\": \"white\", \"ticks\": \"\"}}, \"title\": {\"x\": 0.05}, \"xaxis\": {\"automargin\": true, \"gridcolor\": \"white\", \"linecolor\": \"white\", \"ticks\": \"\", \"zerolinecolor\": \"white\", \"zerolinewidth\": 2}, \"yaxis\": {\"automargin\": true, \"gridcolor\": \"white\", \"linecolor\": \"white\", \"ticks\": \"\", \"zerolinecolor\": \"white\", \"zerolinewidth\": 2}}}, \"polar\": {\"angularaxis\": {\"direction\": \"clockwise\", \"rotation\": 90}}}, {\"showLink\": false, \"linkText\": \"Export to plot.ly\", \"plotlyServerURL\": \"https://plot.ly\"}); \n",
       "}\n",
       "});</script><script type=\"text/javascript\">window.addEventListener(\"resize\", function(){if (document.getElementById(\"1117e2cf-d49e-4003-b898-f9ec9be16591\")) {window._Plotly.Plots.resize(document.getElementById(\"1117e2cf-d49e-4003-b898-f9ec9be16591\"));};})</script>"
      ]
     },
     "metadata": {},
     "output_type": "display_data"
    }
   ],
   "source": [
    "compare_reception_images_by_cultural_clusters_esp(dataframe_with_clusters_esp)"
   ]
  },
  {
   "cell_type": "code",
   "execution_count": 12,
   "metadata": {},
   "outputs": [],
   "source": [
    "# compare_reception_images_by_cultural_clusters_en(dataframe_with_clusters_en)"
   ]
  }
 ],
 "metadata": {
  "kernelspec": {
   "display_name": "Python 3",
   "language": "python",
   "name": "python3"
  },
  "language_info": {
   "codemirror_mode": {
    "name": "ipython",
    "version": 3
   },
   "file_extension": ".py",
   "mimetype": "text/x-python",
   "name": "python",
   "nbconvert_exporter": "python",
   "pygments_lexer": "ipython3",
   "version": "3.6.8"
  }
 },
 "nbformat": 4,
 "nbformat_minor": 2
}

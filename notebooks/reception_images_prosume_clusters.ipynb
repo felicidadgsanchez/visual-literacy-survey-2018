{
 "cells": [
  {
   "cell_type": "code",
   "execution_count": 1,
   "metadata": {},
   "outputs": [
    {
     "name": "stdout",
     "output_type": "stream",
     "text": [
      "Importing Jupyter notebook from data_preparation.ipynb\n",
      "Importing Jupyter notebook from prosume_clustering.ipynb\n"
     ]
    }
   ],
   "source": [
    "import nbimporter\n",
    "from data_preparation import *\n",
    "from prosume_clustering import * "
   ]
  },
  {
   "cell_type": "code",
   "execution_count": 2,
   "metadata": {},
   "outputs": [
    {
     "data": {
      "text/html": [
       "<script type=\"text/javascript\">window.PlotlyConfig = {MathJaxConfig: 'local'};</script><script type=\"text/javascript\">if (window.MathJax) {MathJax.Hub.Config({SVG: {font: \"STIX-Web\"}});}</script><script>requirejs.config({paths: { 'plotly': ['https://cdn.plot.ly/plotly-latest.min']},});if(!window._Plotly) {require(['plotly'],function(plotly) {window._Plotly=plotly;});}</script>"
      ],
      "text/vnd.plotly.v1+html": [
       "<script type=\"text/javascript\">window.PlotlyConfig = {MathJaxConfig: 'local'};</script><script type=\"text/javascript\">if (window.MathJax) {MathJax.Hub.Config({SVG: {font: \"STIX-Web\"}});}</script><script>requirejs.config({paths: { 'plotly': ['https://cdn.plot.ly/plotly-latest.min']},});if(!window._Plotly) {require(['plotly'],function(plotly) {window._Plotly=plotly;});}</script>"
      ]
     },
     "metadata": {},
     "output_type": "display_data"
    }
   ],
   "source": [
    "# import matplotlib.pyplot as plt\n",
    "# plt.style.use('fivethirtyeight')\n",
    "import colorlover as cl\n",
    "\n",
    "import plotly_express as px\n",
    "\n",
    "from plotly.offline import download_plotlyjs, init_notebook_mode, plot, iplot\n",
    "import plotly.graph_objs as go\n",
    "init_notebook_mode(connected=True)"
   ]
  },
  {
   "cell_type": "code",
   "execution_count": 3,
   "metadata": {},
   "outputs": [
    {
     "name": "stderr",
     "output_type": "stream",
     "text": [
      "prosume_clustering.ipynb:17: DataConversionWarning:\n",
      "\n",
      "Data with input dtype int64 were all converted to float64 by the scale function.\n",
      "\n"
     ]
    },
    {
     "data": {
      "text/html": [
       "<div>\n",
       "<style scoped>\n",
       "    .dataframe tbody tr th:only-of-type {\n",
       "        vertical-align: middle;\n",
       "    }\n",
       "\n",
       "    .dataframe tbody tr th {\n",
       "        vertical-align: top;\n",
       "    }\n",
       "\n",
       "    .dataframe thead th {\n",
       "        text-align: right;\n",
       "    }\n",
       "</style>\n",
       "<table border=\"1\" class=\"dataframe\">\n",
       "  <thead>\n",
       "    <tr style=\"text-align: right;\">\n",
       "      <th></th>\n",
       "      <th>Cuando compartes imágenes, ¿habitualmente las envías a otras personas?</th>\n",
       "      <th>Cuando compartes imágenes, ¿habitualmente las produces tú?</th>\n",
       "      <th>Cuando compartes imágenes, ¿habitualmente las recibes de otras personas?</th>\n",
       "      <th>Cuando generas una imagen, ¿qué tipo de dispositivo usas? (Respuesta múltiple) [1. Cámara de fotos]</th>\n",
       "      <th>Cuando generas una imagen, ¿qué tipo de dispositivo usas? (Respuesta múltiple) [2. Teléfono móvil]</th>\n",
       "      <th>Cuando generas una imagen, ¿qué tipo de dispositivo usas? (Respuesta múltiple) [3. Tableta]</th>\n",
       "      <th>Cuando produces imágenes, ¿cuánto tiempo dedicas a prepararlas? (minutos)</th>\n",
       "      <th>Cuando produces imágenes, ¿piensas en la imagen que quieres crear antes de hacerla?</th>\n",
       "      <th>Dentro de tus redes sociales o aplicaciones móviles, ¿se comparte información visual que tú no buscas (campañas de concienciación social, chistes, publicidad, etc.)?</th>\n",
       "      <th>En tu entorno, ¿las personas que utilizan la tecnología crean imágenes y las comparten?</th>\n",
       "      <th>...</th>\n",
       "      <th>¿Qué tipo de aplicaciones utilizas en tu ordenador/tableta/móvil? (Respuesta múltiple) [1. Apps de contenidos audiovisuales (Netflix, HBO, etc.)]</th>\n",
       "      <th>¿Qué tipo de aplicaciones utilizas en tu ordenador/tableta/móvil? (Respuesta múltiple) [2. Aplicaciones de mensajería (Whatsapp, Facebook Messenger, etc.)]</th>\n",
       "      <th>¿Qué tipo de aplicaciones utilizas en tu ordenador/tableta/móvil? (Respuesta múltiple) [3. Bibliotecas de fotos online (Google Photos, iPhoto, etc.)]</th>\n",
       "      <th>¿Qué tipo de aplicaciones utilizas en tu ordenador/tableta/móvil? (Respuesta múltiple) [4. Redes sociales (Facebook, Instagram, Twitter, etc.).]</th>\n",
       "      <th>¿Qué tipo de aplicaciones utilizas en tu ordenador/tableta/móvil? (Respuesta múltiple) [5. Aplicaciones de vídeo (Youtube, Vimeo, etc.).]</th>\n",
       "      <th>¿Te gusta seguir a personas que admiras en redes sociales? ¿Eres fan o follower de alguna? ¿En ocasiones escribes comentarios en sus publicaciones?</th>\n",
       "      <th>¿Tienes acceso a dispositivos (ordenador, móvil, tablet, etc.) conectados a Internet habitualmente?</th>\n",
       "      <th>¿Tienes alguna carencia visual que afecte a la recepción de formas, colores, distancias, etc.?</th>\n",
       "      <th>¿Utilizas gafas o lentes de contacto?</th>\n",
       "      <th>prosume_cluster</th>\n",
       "    </tr>\n",
       "  </thead>\n",
       "  <tbody>\n",
       "    <tr>\n",
       "      <th>0</th>\n",
       "      <td>3</td>\n",
       "      <td>4</td>\n",
       "      <td>3</td>\n",
       "      <td>0</td>\n",
       "      <td>1</td>\n",
       "      <td>0</td>\n",
       "      <td>1.0</td>\n",
       "      <td>3</td>\n",
       "      <td>4</td>\n",
       "      <td>4</td>\n",
       "      <td>...</td>\n",
       "      <td>1</td>\n",
       "      <td>1</td>\n",
       "      <td>1</td>\n",
       "      <td>1</td>\n",
       "      <td>1</td>\n",
       "      <td>3</td>\n",
       "      <td>5</td>\n",
       "      <td>0</td>\n",
       "      <td>1</td>\n",
       "      <td>5</td>\n",
       "    </tr>\n",
       "    <tr>\n",
       "      <th>1</th>\n",
       "      <td>5</td>\n",
       "      <td>4</td>\n",
       "      <td>5</td>\n",
       "      <td>0</td>\n",
       "      <td>1</td>\n",
       "      <td>0</td>\n",
       "      <td>1.0</td>\n",
       "      <td>5</td>\n",
       "      <td>5</td>\n",
       "      <td>5</td>\n",
       "      <td>...</td>\n",
       "      <td>1</td>\n",
       "      <td>1</td>\n",
       "      <td>0</td>\n",
       "      <td>0</td>\n",
       "      <td>1</td>\n",
       "      <td>1</td>\n",
       "      <td>5</td>\n",
       "      <td>0</td>\n",
       "      <td>1</td>\n",
       "      <td>5</td>\n",
       "    </tr>\n",
       "    <tr>\n",
       "      <th>2</th>\n",
       "      <td>3</td>\n",
       "      <td>4</td>\n",
       "      <td>4</td>\n",
       "      <td>0</td>\n",
       "      <td>1</td>\n",
       "      <td>0</td>\n",
       "      <td>1.0</td>\n",
       "      <td>5</td>\n",
       "      <td>4</td>\n",
       "      <td>4</td>\n",
       "      <td>...</td>\n",
       "      <td>1</td>\n",
       "      <td>1</td>\n",
       "      <td>1</td>\n",
       "      <td>1</td>\n",
       "      <td>1</td>\n",
       "      <td>3</td>\n",
       "      <td>5</td>\n",
       "      <td>0</td>\n",
       "      <td>1</td>\n",
       "      <td>5</td>\n",
       "    </tr>\n",
       "    <tr>\n",
       "      <th>3</th>\n",
       "      <td>4</td>\n",
       "      <td>4</td>\n",
       "      <td>2</td>\n",
       "      <td>1</td>\n",
       "      <td>1</td>\n",
       "      <td>0</td>\n",
       "      <td>10.0</td>\n",
       "      <td>5</td>\n",
       "      <td>1</td>\n",
       "      <td>4</td>\n",
       "      <td>...</td>\n",
       "      <td>0</td>\n",
       "      <td>1</td>\n",
       "      <td>1</td>\n",
       "      <td>1</td>\n",
       "      <td>1</td>\n",
       "      <td>3</td>\n",
       "      <td>5</td>\n",
       "      <td>0</td>\n",
       "      <td>1</td>\n",
       "      <td>5</td>\n",
       "    </tr>\n",
       "    <tr>\n",
       "      <th>4</th>\n",
       "      <td>4</td>\n",
       "      <td>3</td>\n",
       "      <td>4</td>\n",
       "      <td>1</td>\n",
       "      <td>1</td>\n",
       "      <td>0</td>\n",
       "      <td>10.0</td>\n",
       "      <td>3</td>\n",
       "      <td>3</td>\n",
       "      <td>5</td>\n",
       "      <td>...</td>\n",
       "      <td>0</td>\n",
       "      <td>1</td>\n",
       "      <td>0</td>\n",
       "      <td>1</td>\n",
       "      <td>1</td>\n",
       "      <td>2</td>\n",
       "      <td>5</td>\n",
       "      <td>0</td>\n",
       "      <td>1</td>\n",
       "      <td>2</td>\n",
       "    </tr>\n",
       "  </tbody>\n",
       "</table>\n",
       "<p>5 rows × 79 columns</p>\n",
       "</div>"
      ],
      "text/plain": [
       "   Cuando compartes imágenes, ¿habitualmente las envías a otras personas?  \\\n",
       "0                                                  3                        \n",
       "1                                                  5                        \n",
       "2                                                  3                        \n",
       "3                                                  4                        \n",
       "4                                                  4                        \n",
       "\n",
       "   Cuando compartes imágenes, ¿habitualmente las produces tú?  \\\n",
       "0                                                  4            \n",
       "1                                                  4            \n",
       "2                                                  4            \n",
       "3                                                  4            \n",
       "4                                                  3            \n",
       "\n",
       "   Cuando compartes imágenes, ¿habitualmente las recibes de otras personas?  \\\n",
       "0                                                  3                          \n",
       "1                                                  5                          \n",
       "2                                                  4                          \n",
       "3                                                  2                          \n",
       "4                                                  4                          \n",
       "\n",
       "   Cuando generas una imagen, ¿qué tipo de dispositivo usas? (Respuesta múltiple) [1. Cámara de fotos]  \\\n",
       "0                                                  0                                                     \n",
       "1                                                  0                                                     \n",
       "2                                                  0                                                     \n",
       "3                                                  1                                                     \n",
       "4                                                  1                                                     \n",
       "\n",
       "   Cuando generas una imagen, ¿qué tipo de dispositivo usas? (Respuesta múltiple) [2. Teléfono móvil]  \\\n",
       "0                                                  1                                                    \n",
       "1                                                  1                                                    \n",
       "2                                                  1                                                    \n",
       "3                                                  1                                                    \n",
       "4                                                  1                                                    \n",
       "\n",
       "   Cuando generas una imagen, ¿qué tipo de dispositivo usas? (Respuesta múltiple) [3. Tableta]  \\\n",
       "0                                                  0                                             \n",
       "1                                                  0                                             \n",
       "2                                                  0                                             \n",
       "3                                                  0                                             \n",
       "4                                                  0                                             \n",
       "\n",
       "   Cuando produces imágenes, ¿cuánto tiempo dedicas a prepararlas? (minutos)  \\\n",
       "0                                                1.0                           \n",
       "1                                                1.0                           \n",
       "2                                                1.0                           \n",
       "3                                               10.0                           \n",
       "4                                               10.0                           \n",
       "\n",
       "   Cuando produces imágenes, ¿piensas en la imagen que quieres crear antes de hacerla?  \\\n",
       "0                                                  3                                     \n",
       "1                                                  5                                     \n",
       "2                                                  5                                     \n",
       "3                                                  5                                     \n",
       "4                                                  3                                     \n",
       "\n",
       "   Dentro de tus redes sociales o aplicaciones móviles, ¿se comparte información visual que tú no buscas (campañas de concienciación social, chistes, publicidad, etc.)?  \\\n",
       "0                                                  4                                                                                                                       \n",
       "1                                                  5                                                                                                                       \n",
       "2                                                  4                                                                                                                       \n",
       "3                                                  1                                                                                                                       \n",
       "4                                                  3                                                                                                                       \n",
       "\n",
       "   En tu entorno, ¿las personas que utilizan la tecnología crean imágenes y las comparten?  \\\n",
       "0                                                  4                                         \n",
       "1                                                  5                                         \n",
       "2                                                  4                                         \n",
       "3                                                  4                                         \n",
       "4                                                  5                                         \n",
       "\n",
       "        ...         \\\n",
       "0       ...          \n",
       "1       ...          \n",
       "2       ...          \n",
       "3       ...          \n",
       "4       ...          \n",
       "\n",
       "   ¿Qué tipo de aplicaciones utilizas en tu ordenador/tableta/móvil? (Respuesta múltiple) [1. Apps de contenidos audiovisuales (Netflix, HBO, etc.)]  \\\n",
       "0                                                  1                                                                                                   \n",
       "1                                                  1                                                                                                   \n",
       "2                                                  1                                                                                                   \n",
       "3                                                  0                                                                                                   \n",
       "4                                                  0                                                                                                   \n",
       "\n",
       "   ¿Qué tipo de aplicaciones utilizas en tu ordenador/tableta/móvil? (Respuesta múltiple) [2. Aplicaciones de mensajería (Whatsapp, Facebook Messenger, etc.)]  \\\n",
       "0                                                  1                                                                                                             \n",
       "1                                                  1                                                                                                             \n",
       "2                                                  1                                                                                                             \n",
       "3                                                  1                                                                                                             \n",
       "4                                                  1                                                                                                             \n",
       "\n",
       "   ¿Qué tipo de aplicaciones utilizas en tu ordenador/tableta/móvil? (Respuesta múltiple) [3. Bibliotecas de fotos online (Google Photos, iPhoto, etc.)]  \\\n",
       "0                                                  1                                                                                                       \n",
       "1                                                  0                                                                                                       \n",
       "2                                                  1                                                                                                       \n",
       "3                                                  1                                                                                                       \n",
       "4                                                  0                                                                                                       \n",
       "\n",
       "   ¿Qué tipo de aplicaciones utilizas en tu ordenador/tableta/móvil? (Respuesta múltiple) [4. Redes sociales (Facebook, Instagram, Twitter, etc.).]  \\\n",
       "0                                                  1                                                                                                  \n",
       "1                                                  0                                                                                                  \n",
       "2                                                  1                                                                                                  \n",
       "3                                                  1                                                                                                  \n",
       "4                                                  1                                                                                                  \n",
       "\n",
       "   ¿Qué tipo de aplicaciones utilizas en tu ordenador/tableta/móvil? (Respuesta múltiple) [5. Aplicaciones de vídeo (Youtube, Vimeo, etc.).]  \\\n",
       "0                                                  1                                                                                           \n",
       "1                                                  1                                                                                           \n",
       "2                                                  1                                                                                           \n",
       "3                                                  1                                                                                           \n",
       "4                                                  1                                                                                           \n",
       "\n",
       "   ¿Te gusta seguir a personas que admiras en redes sociales? ¿Eres fan o follower de alguna? ¿En ocasiones escribes comentarios en sus publicaciones?  \\\n",
       "0                                                  3                                                                                                     \n",
       "1                                                  1                                                                                                     \n",
       "2                                                  3                                                                                                     \n",
       "3                                                  3                                                                                                     \n",
       "4                                                  2                                                                                                     \n",
       "\n",
       "   ¿Tienes acceso a dispositivos (ordenador, móvil, tablet, etc.) conectados a Internet habitualmente?  \\\n",
       "0                                                  5                                                     \n",
       "1                                                  5                                                     \n",
       "2                                                  5                                                     \n",
       "3                                                  5                                                     \n",
       "4                                                  5                                                     \n",
       "\n",
       "   ¿Tienes alguna carencia visual que afecte a la recepción de formas, colores, distancias, etc.?  \\\n",
       "0                                                  0                                                \n",
       "1                                                  0                                                \n",
       "2                                                  0                                                \n",
       "3                                                  0                                                \n",
       "4                                                  0                                                \n",
       "\n",
       "   ¿Utilizas gafas o lentes de contacto?  prosume_cluster  \n",
       "0                                      1                5  \n",
       "1                                      1                5  \n",
       "2                                      1                5  \n",
       "3                                      1                5  \n",
       "4                                      1                2  \n",
       "\n",
       "[5 rows x 79 columns]"
      ]
     },
     "execution_count": 3,
     "metadata": {},
     "output_type": "execute_result"
    }
   ],
   "source": [
    "dataframe_with_clusters_esp = get_dataframe_with_clusters_esp(get_dataframe_analysis_esp(True), 32)\n",
    "dataframe_with_clusters_esp.head()"
   ]
  },
  {
   "cell_type": "code",
   "execution_count": 4,
   "metadata": {},
   "outputs": [
    {
     "name": "stderr",
     "output_type": "stream",
     "text": [
      "prosume_clustering.ipynb:17: DataConversionWarning:\n",
      "\n",
      "Data with input dtype int64 were all converted to float64 by the scale function.\n",
      "\n"
     ]
    },
    {
     "data": {
      "text/html": [
       "<div>\n",
       "<style scoped>\n",
       "    .dataframe tbody tr th:only-of-type {\n",
       "        vertical-align: middle;\n",
       "    }\n",
       "\n",
       "    .dataframe tbody tr th {\n",
       "        vertical-align: top;\n",
       "    }\n",
       "\n",
       "    .dataframe thead th {\n",
       "        text-align: right;\n",
       "    }\n",
       "</style>\n",
       "<table border=\"1\" class=\"dataframe\">\n",
       "  <thead>\n",
       "    <tr style=\"text-align: right;\">\n",
       "      <th></th>\n",
       "      <th>Do you repeat the images until you get the expected result?</th>\n",
       "      <th>How much of your consumption of digital images comes from digital media (digital press, internet, television,etc.) and how much by analogical means?</th>\n",
       "      <th>How often do you produce images?</th>\n",
       "      <th>If you answered that you NEVER produce or consume images, why do not you use them? (Multiple answer) [1. I do not like]</th>\n",
       "      <th>If you answered that you NEVER produce or consume images, why do not you use them? (Multiple answer) [2. I do not know how they are made]</th>\n",
       "      <th>If you answered that you NEVER produce or consume images, why do not you use them? (Multiple answer) [3. I do not use technology]</th>\n",
       "      <th>If you answered that you NEVER produce or consume images, why do not you use them? (Multiple answer) [4. When I share them, I do not know what they mean]</th>\n",
       "      <th>If you answered that you NEVER produce or consume images, why do not you use them? (Multiple answer) [5. Because they take up a lot of space]</th>\n",
       "      <th>If you answered that you NEVER produce or consume images, why do not you use them? (Multiple answer) [6. I find it useless]</th>\n",
       "      <th>If you find that suggested information, what is your attitude?</th>\n",
       "      <th>...</th>\n",
       "      <th>When you receive/ consume images... (select the option / options with which you identify yourself) [2. I wonder if they mean something to me]</th>\n",
       "      <th>When you receive/ consume images... (select the option / options with which you identify yourself) [3. I observe the moment and context in which they appear]</th>\n",
       "      <th>When you share images on social networks, do the text companions follow the indications suggested by the applications (labeling, explanation of the image, inspiring text, etc.)?</th>\n",
       "      <th>When you take photos from any of the media at your fingertips, do the process facilitate the options offered by the applications (filter application, cuts, graphic editing, etc.)?</th>\n",
       "      <th>When you use social networks, do you consider that being accepted as a member of a group is more important than having autonomy and independence?</th>\n",
       "      <th>Which of the paired images do you find most attractive? 1/2 2/2.1</th>\n",
       "      <th>Which of the paired images do you find most attractive? 1/2 2/2.2</th>\n",
       "      <th>Which of the paired images do you find most attractive? 1/2 2/2.3</th>\n",
       "      <th>Which of the paired images do you find most attractive? 1/2 2/2.4</th>\n",
       "      <th>prosume_cluster</th>\n",
       "    </tr>\n",
       "  </thead>\n",
       "  <tbody>\n",
       "    <tr>\n",
       "      <th>0</th>\n",
       "      <td>1</td>\n",
       "      <td>3</td>\n",
       "      <td>5</td>\n",
       "      <td>0</td>\n",
       "      <td>0</td>\n",
       "      <td>0</td>\n",
       "      <td>0</td>\n",
       "      <td>0</td>\n",
       "      <td>0</td>\n",
       "      <td>1</td>\n",
       "      <td>...</td>\n",
       "      <td>1</td>\n",
       "      <td>0</td>\n",
       "      <td>1</td>\n",
       "      <td>3</td>\n",
       "      <td>1</td>\n",
       "      <td>1</td>\n",
       "      <td>2</td>\n",
       "      <td>2</td>\n",
       "      <td>2</td>\n",
       "      <td>5</td>\n",
       "    </tr>\n",
       "    <tr>\n",
       "      <th>1</th>\n",
       "      <td>0</td>\n",
       "      <td>3</td>\n",
       "      <td>5</td>\n",
       "      <td>0</td>\n",
       "      <td>0</td>\n",
       "      <td>0</td>\n",
       "      <td>0</td>\n",
       "      <td>0</td>\n",
       "      <td>0</td>\n",
       "      <td>1</td>\n",
       "      <td>...</td>\n",
       "      <td>1</td>\n",
       "      <td>0</td>\n",
       "      <td>3</td>\n",
       "      <td>3</td>\n",
       "      <td>2</td>\n",
       "      <td>2</td>\n",
       "      <td>2</td>\n",
       "      <td>2</td>\n",
       "      <td>2</td>\n",
       "      <td>5</td>\n",
       "    </tr>\n",
       "    <tr>\n",
       "      <th>2</th>\n",
       "      <td>1</td>\n",
       "      <td>1</td>\n",
       "      <td>4</td>\n",
       "      <td>0</td>\n",
       "      <td>0</td>\n",
       "      <td>0</td>\n",
       "      <td>0</td>\n",
       "      <td>0</td>\n",
       "      <td>0</td>\n",
       "      <td>1</td>\n",
       "      <td>...</td>\n",
       "      <td>1</td>\n",
       "      <td>1</td>\n",
       "      <td>3</td>\n",
       "      <td>5</td>\n",
       "      <td>2</td>\n",
       "      <td>1</td>\n",
       "      <td>1</td>\n",
       "      <td>2</td>\n",
       "      <td>2</td>\n",
       "      <td>5</td>\n",
       "    </tr>\n",
       "    <tr>\n",
       "      <th>3</th>\n",
       "      <td>1</td>\n",
       "      <td>2</td>\n",
       "      <td>4</td>\n",
       "      <td>0</td>\n",
       "      <td>0</td>\n",
       "      <td>0</td>\n",
       "      <td>0</td>\n",
       "      <td>0</td>\n",
       "      <td>0</td>\n",
       "      <td>1</td>\n",
       "      <td>...</td>\n",
       "      <td>0</td>\n",
       "      <td>1</td>\n",
       "      <td>5</td>\n",
       "      <td>5</td>\n",
       "      <td>2</td>\n",
       "      <td>1</td>\n",
       "      <td>2</td>\n",
       "      <td>2</td>\n",
       "      <td>1</td>\n",
       "      <td>5</td>\n",
       "    </tr>\n",
       "    <tr>\n",
       "      <th>4</th>\n",
       "      <td>1</td>\n",
       "      <td>2</td>\n",
       "      <td>5</td>\n",
       "      <td>0</td>\n",
       "      <td>0</td>\n",
       "      <td>0</td>\n",
       "      <td>0</td>\n",
       "      <td>0</td>\n",
       "      <td>0</td>\n",
       "      <td>1</td>\n",
       "      <td>...</td>\n",
       "      <td>0</td>\n",
       "      <td>1</td>\n",
       "      <td>4</td>\n",
       "      <td>3</td>\n",
       "      <td>2</td>\n",
       "      <td>1</td>\n",
       "      <td>2</td>\n",
       "      <td>2</td>\n",
       "      <td>2</td>\n",
       "      <td>2</td>\n",
       "    </tr>\n",
       "  </tbody>\n",
       "</table>\n",
       "<p>5 rows × 79 columns</p>\n",
       "</div>"
      ],
      "text/plain": [
       "   Do you repeat the images until you get the expected result?  \\\n",
       "0                                                  1             \n",
       "1                                                  0             \n",
       "2                                                  1             \n",
       "3                                                  1             \n",
       "4                                                  1             \n",
       "\n",
       "   How much of your consumption of digital images comes from digital media (digital press, internet, television,etc.) and how much by analogical means?  \\\n",
       "0                                                  3                                                                                                      \n",
       "1                                                  3                                                                                                      \n",
       "2                                                  1                                                                                                      \n",
       "3                                                  2                                                                                                      \n",
       "4                                                  2                                                                                                      \n",
       "\n",
       "   How often do you produce images?  \\\n",
       "0                                 5   \n",
       "1                                 5   \n",
       "2                                 4   \n",
       "3                                 4   \n",
       "4                                 5   \n",
       "\n",
       "   If you answered that you NEVER produce or consume images, why do not you use them? (Multiple answer) [1. I do not like]  \\\n",
       "0                                                  0                                                                         \n",
       "1                                                  0                                                                         \n",
       "2                                                  0                                                                         \n",
       "3                                                  0                                                                         \n",
       "4                                                  0                                                                         \n",
       "\n",
       "   If you answered that you NEVER produce or consume images, why do not you use them? (Multiple answer) [2. I do not know how they are made]  \\\n",
       "0                                                  0                                                                                           \n",
       "1                                                  0                                                                                           \n",
       "2                                                  0                                                                                           \n",
       "3                                                  0                                                                                           \n",
       "4                                                  0                                                                                           \n",
       "\n",
       "   If you answered that you NEVER produce or consume images, why do not you use them? (Multiple answer) [3. I do not use technology]  \\\n",
       "0                                                  0                                                                                   \n",
       "1                                                  0                                                                                   \n",
       "2                                                  0                                                                                   \n",
       "3                                                  0                                                                                   \n",
       "4                                                  0                                                                                   \n",
       "\n",
       "   If you answered that you NEVER produce or consume images, why do not you use them? (Multiple answer) [4. When I share them, I do not know what they mean]  \\\n",
       "0                                                  0                                                                                                           \n",
       "1                                                  0                                                                                                           \n",
       "2                                                  0                                                                                                           \n",
       "3                                                  0                                                                                                           \n",
       "4                                                  0                                                                                                           \n",
       "\n",
       "   If you answered that you NEVER produce or consume images, why do not you use them? (Multiple answer) [5. Because they take up a lot of space]  \\\n",
       "0                                                  0                                                                                               \n",
       "1                                                  0                                                                                               \n",
       "2                                                  0                                                                                               \n",
       "3                                                  0                                                                                               \n",
       "4                                                  0                                                                                               \n",
       "\n",
       "   If you answered that you NEVER produce or consume images, why do not you use them? (Multiple answer) [6. I find it useless]  \\\n",
       "0                                                  0                                                                             \n",
       "1                                                  0                                                                             \n",
       "2                                                  0                                                                             \n",
       "3                                                  0                                                                             \n",
       "4                                                  0                                                                             \n",
       "\n",
       "   If you find that suggested information, what is your attitude?  \\\n",
       "0                                                  1                \n",
       "1                                                  1                \n",
       "2                                                  1                \n",
       "3                                                  1                \n",
       "4                                                  1                \n",
       "\n",
       "        ...         \\\n",
       "0       ...          \n",
       "1       ...          \n",
       "2       ...          \n",
       "3       ...          \n",
       "4       ...          \n",
       "\n",
       "   When you receive/ consume images... (select the option / options with which you identify yourself) [2. I wonder if they mean something to me]  \\\n",
       "0                                                  1                                                                                               \n",
       "1                                                  1                                                                                               \n",
       "2                                                  1                                                                                               \n",
       "3                                                  0                                                                                               \n",
       "4                                                  0                                                                                               \n",
       "\n",
       "   When you receive/ consume images... (select the option / options with which you identify yourself) [3. I observe the moment and context in which they appear]  \\\n",
       "0                                                  0                                                                                                               \n",
       "1                                                  0                                                                                                               \n",
       "2                                                  1                                                                                                               \n",
       "3                                                  1                                                                                                               \n",
       "4                                                  1                                                                                                               \n",
       "\n",
       "   When you share images on social networks, do the text companions follow the indications suggested by the applications (labeling, explanation of the image, inspiring text, etc.)?  \\\n",
       "0                                                  1                                                                                                                                   \n",
       "1                                                  3                                                                                                                                   \n",
       "2                                                  3                                                                                                                                   \n",
       "3                                                  5                                                                                                                                   \n",
       "4                                                  4                                                                                                                                   \n",
       "\n",
       "   When you take photos from any of the media at your fingertips, do the process facilitate the options offered by the applications (filter application, cuts, graphic editing, etc.)?  \\\n",
       "0                                                  3                                                                                                                                     \n",
       "1                                                  3                                                                                                                                     \n",
       "2                                                  5                                                                                                                                     \n",
       "3                                                  5                                                                                                                                     \n",
       "4                                                  3                                                                                                                                     \n",
       "\n",
       "   When you use social networks, do you consider that being accepted as a member of a group is more important than having autonomy and independence?  \\\n",
       "0                                                  1                                                                                                   \n",
       "1                                                  2                                                                                                   \n",
       "2                                                  2                                                                                                   \n",
       "3                                                  2                                                                                                   \n",
       "4                                                  2                                                                                                   \n",
       "\n",
       "   Which of the paired images do you find most attractive? 1/2 2/2.1  \\\n",
       "0                                                  1                   \n",
       "1                                                  2                   \n",
       "2                                                  1                   \n",
       "3                                                  1                   \n",
       "4                                                  1                   \n",
       "\n",
       "   Which of the paired images do you find most attractive? 1/2 2/2.2  \\\n",
       "0                                                  2                   \n",
       "1                                                  2                   \n",
       "2                                                  1                   \n",
       "3                                                  2                   \n",
       "4                                                  2                   \n",
       "\n",
       "   Which of the paired images do you find most attractive? 1/2 2/2.3  \\\n",
       "0                                                  2                   \n",
       "1                                                  2                   \n",
       "2                                                  2                   \n",
       "3                                                  2                   \n",
       "4                                                  2                   \n",
       "\n",
       "   Which of the paired images do you find most attractive? 1/2 2/2.4  \\\n",
       "0                                                  2                   \n",
       "1                                                  2                   \n",
       "2                                                  2                   \n",
       "3                                                  1                   \n",
       "4                                                  2                   \n",
       "\n",
       "   prosume_cluster  \n",
       "0                5  \n",
       "1                5  \n",
       "2                5  \n",
       "3                5  \n",
       "4                2  \n",
       "\n",
       "[5 rows x 79 columns]"
      ]
     },
     "execution_count": 4,
     "metadata": {},
     "output_type": "execute_result"
    }
   ],
   "source": [
    "dataframe_with_clusters_en = get_dataframe_with_clusters_en(get_dataframe_analysis_en(True), 32)\n",
    "dataframe_with_clusters_en.head()"
   ]
  },
  {
   "cell_type": "code",
   "execution_count": 5,
   "metadata": {},
   "outputs": [],
   "source": [
    "def visualize_reception_images_by_prosume_clusters_esp(dataframe):\n",
    "\n",
    "    for selected_cluster in dataframe['prosume_cluster'].unique():\n",
    "        for column in get_reception_image_items_esp():\n",
    "            try:\n",
    "                print(\"\\n\\nCluster \"+str(selected_cluster) +\n",
    "                      \" || variable: \"+str(column))\n",
    "                print(f'Describiendo la pregunta {column}')\n",
    "                dict_item = get_data_replacements(str(column))\n",
    "                if dict_item:\n",
    "                    print(\n",
    "                        f'Valores numéricos asociados a las respuestas {list(dict_item.keys())}')\n",
    "                    print(\n",
    "                        f'Respuestas posibles a la pregunta/variable {list(dict_item.values())}')\n",
    "                display(dataframe.loc[dataframe['prosume_cluster']\n",
    "                                      == selected_cluster][column].describe())\n",
    "                print(\n",
    "                    f'Conteo de cada valor en {column} expresada como valor / cantidad')\n",
    "                display(dataframe.loc[dataframe['prosume_cluster'] ==\n",
    "                                      selected_cluster][column].value_counts().sort_index())\n",
    "                print(\n",
    "                    f'Porcentaje de cada valor en {column} expresado como valor / porcentaje')\n",
    "                display(dataframe.loc[dataframe['prosume_cluster'] == selected_cluster][column].value_counts(\n",
    "                    normalize=True).sort_index().round(4) * 100)\n",
    "                # sns.distplot(workCleanDummiesCluster.loc[workCleanDummiesCluster['cluster'] == selected_cluster][column], kde=False, rug=True);\n",
    "                data = [go.Bar(x=sorted(dataframe.loc[dataframe['prosume_cluster'] == selected_cluster][column].unique()),\n",
    "                               y=dataframe.loc[dataframe['prosume_cluster'] == selected_cluster][column].value_counts().reindex(\n",
    "                                   dataframe.loc[dataframe['prosume_cluster'] == selected_cluster][column].unique(), fill_value=0).sort_index(),\n",
    "                               marker=dict(color=cl.scales['6']['div']['Spectral']))]\n",
    "\n",
    "                if dict_item:\n",
    "                    layout = go.Layout(\n",
    "                        xaxis=go.layout.XAxis(\n",
    "                            ticktext=list(dict_item.values()),\n",
    "                            tickvals=list(dict_item.keys()),\n",
    "                        ),\n",
    "                        bargap=0.2,\n",
    "                    )\n",
    "                    fig = go.Figure(data, layout)\n",
    "                    iplot(fig)\n",
    "                else:\n",
    "                    iplot(data)\n",
    "                # plt.show()\n",
    "            except BaseException:\n",
    "                pass"
   ]
  },
  {
   "cell_type": "code",
   "execution_count": 6,
   "metadata": {},
   "outputs": [],
   "source": [
    "def visualize_reception_images_by_prosume_clusters_en(dataframe):\n",
    "    \n",
    "    for selected_cluster in dataframe['prosume_cluster'].unique():\n",
    "        for column in get_reception_image_items_en():\n",
    "            try:\n",
    "                print(\"\\n\\nCluster \"+str(selected_cluster) +\n",
    "                      \" || feature: \"+str(column))\n",
    "\n",
    "                print(f'Describing the feature {column}')\n",
    "                dict_item = get_data_replacements(str(column))\n",
    "                if dict_item:\n",
    "                    print(\n",
    "                        f'Numeric values associated to the responses {list(dict_item.keys())}')\n",
    "                    print(\n",
    "                        f'Possible responses to the question/variable {list(dict_item.values())}')\n",
    "                display(dataframe.loc[dataframe['prosume_cluster']\n",
    "                                      == selected_cluster][column].describe())\n",
    "                print(\n",
    "                    f'Count of each value in {column} expresed as value / amount')\n",
    "                display(dataframe.loc[dataframe['prosume_cluster'] ==\n",
    "                                      selected_cluster][column].value_counts().sort_index())\n",
    "                print(\n",
    "                    f'Percentage of each value in {column} expresed as value / percentage')\n",
    "                display(dataframe.loc[dataframe['prosume_cluster'] == selected_cluster][column].value_counts(\n",
    "                    normalize=True).sort_index().round(4) * 100)\n",
    "                # sns.distplot(workCleanDummiesCluster.loc[workCleanDummiesCluster['cluster'] == selected_cluster][column], kde=False, rug=True);\n",
    "                data = [go.Bar(x=sorted(dataframe.loc[dataframe['prosume_cluster'] == selected_cluster][column].unique()),\n",
    "                               y=dataframe.loc[dataframe['prosume_cluster'] == selected_cluster][column].value_counts().reindex(\n",
    "                                   dataframe.loc[dataframe['prosume_cluster'] == selected_cluster][column].unique(), fill_value=0).sort_index(),\n",
    "                               marker=dict(color=cl.scales['6']['div']['Spectral']))]\n",
    "\n",
    "                if dict_item:\n",
    "                    layout = go.Layout(\n",
    "                        xaxis=go.layout.XAxis(\n",
    "                            ticktext=list(dict_item.values()),\n",
    "                            tickvals=list(dict_item.keys()),\n",
    "                        ),\n",
    "                        bargap=0.2,\n",
    "                    )\n",
    "                    fig = go.Figure(data, layout)\n",
    "                    iplot(fig)\n",
    "                else:\n",
    "                    iplot(data)\n",
    "                # plt.show()\n",
    "            except BaseException:\n",
    "                pass"
   ]
  },
  {
   "cell_type": "code",
   "execution_count": 7,
   "metadata": {
    "scrolled": false
   },
   "outputs": [],
   "source": [
    "def compare_reception_images_by_prosume_clusters_esp(dataframe):\n",
    "    temp_dataframe = dataframe.copy()\n",
    "    temp_dataframe['prosume_cluster'] = 'cluster_' + temp_dataframe['prosume_cluster'].astype(str)\n",
    "    for column in get_reception_image_items_esp():\n",
    "        try:\n",
    "            newDataframe = pd.DataFrame(temp_dataframe.groupby('prosume_cluster')[column].value_counts(dropna=True, sort=True).reset_index(name='counts'))\n",
    "            if get_data_replacements(str(column)):\n",
    "                newDataframe[column] = newDataframe[column].apply(get_data_replacements(str(column)).get)\n",
    "            print(f'Comparando la pregunta {column}')\n",
    "            iplot(px.bar_polar(newDataframe, r='counts', theta=\"prosume_cluster\", color=column,\n",
    "            color_discrete_sequence= cl.scales['6']['div']['Spectral'], barmode=\"group\"))\n",
    "            # plt.show()\n",
    "        except KeyError:\n",
    "            pass"
   ]
  },
  {
   "cell_type": "code",
   "execution_count": 8,
   "metadata": {},
   "outputs": [],
   "source": [
    "def compare_reception_images_by_prosume_clusters_en(dataframe):\n",
    "    temp_dataframe = dataframe.copy()\n",
    "    temp_dataframe['prosume_cluster'] = 'cluster_' + temp_dataframe['prosume_cluster'].astype(str)\n",
    "    for column in get_reception_image_items_en():\n",
    "        try:\n",
    "            newDataframe = pd.DataFrame(temp_dataframe.groupby('prosume_cluster')[column].value_counts(dropna=True, sort=True).reset_index(name='counts'))\n",
    "            if get_data_replacements(str(column)):\n",
    "                newDataframe[column] = newDataframe[column].apply(get_data_replacements(str(column)).get)\n",
    "            print(f'Comparing the feature {column}')\n",
    "            iplot(px.bar_polar(newDataframe, r='counts', theta=\"prosume_cluster\", color=column,\n",
    "            color_discrete_sequence= cl.scales['6']['div']['Spectral'], barmode=\"group\"))\n",
    "            # plt.show()\n",
    "        except KeyError:\n",
    "            pass"
   ]
  },
  {
   "cell_type": "code",
   "execution_count": 9,
   "metadata": {
    "scrolled": false
   },
   "outputs": [
    {
     "name": "stdout",
     "output_type": "stream",
     "text": [
      "\n",
      "\n",
      "Cluster 5 || variable: Clasifica tu grado de visión\n",
      "Describiendo la pregunta Clasifica tu grado de visión\n",
      "Valores numéricos asociados a las respuestas [1, 2, 3, 4, 5]\n",
      "Respuestas posibles a la pregunta/variable ['1. Muy malo', '2. Malo', '3. Regular', '4. Bueno', '5. Muy bueno']\n"
     ]
    },
    {
     "data": {
      "text/plain": [
       "count    336.000000\n",
       "mean       4.080357\n",
       "std        0.789540\n",
       "min        2.000000\n",
       "25%        4.000000\n",
       "50%        4.000000\n",
       "75%        5.000000\n",
       "max        5.000000\n",
       "Name: Clasifica tu grado de visión, dtype: float64"
      ]
     },
     "metadata": {},
     "output_type": "display_data"
    },
    {
     "name": "stdout",
     "output_type": "stream",
     "text": [
      "Conteo de cada valor en Clasifica tu grado de visión expresada como valor / cantidad\n"
     ]
    },
    {
     "data": {
      "text/plain": [
       "2      8\n",
       "3     68\n",
       "4    149\n",
       "5    111\n",
       "Name: Clasifica tu grado de visión, dtype: int64"
      ]
     },
     "metadata": {},
     "output_type": "display_data"
    },
    {
     "name": "stdout",
     "output_type": "stream",
     "text": [
      "Porcentaje de cada valor en Clasifica tu grado de visión expresado como valor / porcentaje\n"
     ]
    },
    {
     "data": {
      "text/plain": [
       "2     2.38\n",
       "3    20.24\n",
       "4    44.35\n",
       "5    33.04\n",
       "Name: Clasifica tu grado de visión, dtype: float64"
      ]
     },
     "metadata": {},
     "output_type": "display_data"
    },
    {
     "data": {
      "application/vnd.plotly.v1+json": {
       "config": {
        "linkText": "Export to plot.ly",
        "plotlyServerURL": "https://plot.ly",
        "showLink": false
       },
       "data": [
        {
         "marker": {
          "color": [
           "rgb(213,62,79)",
           "rgb(252,141,89)",
           "rgb(254,224,139)",
           "rgb(230,245,152)",
           "rgb(153,213,148)",
           "rgb(50,136,189)"
          ]
         },
         "type": "bar",
         "uid": "ab0ee7e1-b660-4e92-a757-aa2c50044d1c",
         "x": [
          2,
          3,
          4,
          5
         ],
         "y": [
          8,
          68,
          149,
          111
         ]
        }
       ],
       "layout": {
        "bargap": 0.2,
        "xaxis": {
         "ticktext": [
          "1. Muy malo",
          "2. Malo",
          "3. Regular",
          "4. Bueno",
          "5. Muy bueno"
         ],
         "tickvals": [
          1,
          2,
          3,
          4,
          5
         ]
        }
       }
      },
      "text/html": [
       "<div id=\"ef4bed7c-88e3-442a-b63b-0b6725f5feeb\" style=\"height: 525px; width: 100%;\" class=\"plotly-graph-div\"></div><script type=\"text/javascript\">require([\"plotly\"], function(Plotly) { window.PLOTLYENV=window.PLOTLYENV || {};window.PLOTLYENV.BASE_URL=\"https://plot.ly\";\n",
       "if (document.getElementById(\"ef4bed7c-88e3-442a-b63b-0b6725f5feeb\")) {\n",
       "    Plotly.newPlot(\"ef4bed7c-88e3-442a-b63b-0b6725f5feeb\", [{\"marker\": {\"color\": [\"rgb(213,62,79)\", \"rgb(252,141,89)\", \"rgb(254,224,139)\", \"rgb(230,245,152)\", \"rgb(153,213,148)\", \"rgb(50,136,189)\"]}, \"x\": [2, 3, 4, 5], \"y\": [8, 68, 149, 111], \"type\": \"bar\", \"uid\": \"ab0ee7e1-b660-4e92-a757-aa2c50044d1c\"}], {\"bargap\": 0.2, \"xaxis\": {\"ticktext\": [\"1. Muy malo\", \"2. Malo\", \"3. Regular\", \"4. Bueno\", \"5. Muy bueno\"], \"tickvals\": [1, 2, 3, 4, 5]}}, {\"showLink\": false, \"linkText\": \"Export to plot.ly\", \"plotlyServerURL\": \"https://plot.ly\"}); \n",
       "}\n",
       "});</script><script type=\"text/javascript\">window.addEventListener(\"resize\", function(){if (document.getElementById(\"ef4bed7c-88e3-442a-b63b-0b6725f5feeb\")) {window._Plotly.Plots.resize(document.getElementById(\"ef4bed7c-88e3-442a-b63b-0b6725f5feeb\"));};})</script>"
      ],
      "text/vnd.plotly.v1+html": [
       "<div id=\"ef4bed7c-88e3-442a-b63b-0b6725f5feeb\" style=\"height: 525px; width: 100%;\" class=\"plotly-graph-div\"></div><script type=\"text/javascript\">require([\"plotly\"], function(Plotly) { window.PLOTLYENV=window.PLOTLYENV || {};window.PLOTLYENV.BASE_URL=\"https://plot.ly\";\n",
       "if (document.getElementById(\"ef4bed7c-88e3-442a-b63b-0b6725f5feeb\")) {\n",
       "    Plotly.newPlot(\"ef4bed7c-88e3-442a-b63b-0b6725f5feeb\", [{\"marker\": {\"color\": [\"rgb(213,62,79)\", \"rgb(252,141,89)\", \"rgb(254,224,139)\", \"rgb(230,245,152)\", \"rgb(153,213,148)\", \"rgb(50,136,189)\"]}, \"x\": [2, 3, 4, 5], \"y\": [8, 68, 149, 111], \"type\": \"bar\", \"uid\": \"ab0ee7e1-b660-4e92-a757-aa2c50044d1c\"}], {\"bargap\": 0.2, \"xaxis\": {\"ticktext\": [\"1. Muy malo\", \"2. Malo\", \"3. Regular\", \"4. Bueno\", \"5. Muy bueno\"], \"tickvals\": [1, 2, 3, 4, 5]}}, {\"showLink\": false, \"linkText\": \"Export to plot.ly\", \"plotlyServerURL\": \"https://plot.ly\"}); \n",
       "}\n",
       "});</script><script type=\"text/javascript\">window.addEventListener(\"resize\", function(){if (document.getElementById(\"ef4bed7c-88e3-442a-b63b-0b6725f5feeb\")) {window._Plotly.Plots.resize(document.getElementById(\"ef4bed7c-88e3-442a-b63b-0b6725f5feeb\"));};})</script>"
      ]
     },
     "metadata": {},
     "output_type": "display_data"
    },
    {
     "name": "stdout",
     "output_type": "stream",
     "text": [
      "\n",
      "\n",
      "Cluster 5 || variable: ¿Utilizas gafas o lentes de contacto?\n",
      "Describiendo la pregunta ¿Utilizas gafas o lentes de contacto?\n",
      "Valores numéricos asociados a las respuestas [0, 1]\n",
      "Respuestas posibles a la pregunta/variable ['No', 'Sí']\n"
     ]
    },
    {
     "data": {
      "text/plain": [
       "count    336.000000\n",
       "mean       0.565476\n",
       "std        0.496434\n",
       "min        0.000000\n",
       "25%        0.000000\n",
       "50%        1.000000\n",
       "75%        1.000000\n",
       "max        1.000000\n",
       "Name: ¿Utilizas gafas o lentes de contacto?, dtype: float64"
      ]
     },
     "metadata": {},
     "output_type": "display_data"
    },
    {
     "name": "stdout",
     "output_type": "stream",
     "text": [
      "Conteo de cada valor en ¿Utilizas gafas o lentes de contacto? expresada como valor / cantidad\n"
     ]
    },
    {
     "data": {
      "text/plain": [
       "0    146\n",
       "1    190\n",
       "Name: ¿Utilizas gafas o lentes de contacto?, dtype: int64"
      ]
     },
     "metadata": {},
     "output_type": "display_data"
    },
    {
     "name": "stdout",
     "output_type": "stream",
     "text": [
      "Porcentaje de cada valor en ¿Utilizas gafas o lentes de contacto? expresado como valor / porcentaje\n"
     ]
    },
    {
     "data": {
      "text/plain": [
       "0    43.45\n",
       "1    56.55\n",
       "Name: ¿Utilizas gafas o lentes de contacto?, dtype: float64"
      ]
     },
     "metadata": {},
     "output_type": "display_data"
    },
    {
     "data": {
      "application/vnd.plotly.v1+json": {
       "config": {
        "linkText": "Export to plot.ly",
        "plotlyServerURL": "https://plot.ly",
        "showLink": false
       },
       "data": [
        {
         "marker": {
          "color": [
           "rgb(213,62,79)",
           "rgb(252,141,89)",
           "rgb(254,224,139)",
           "rgb(230,245,152)",
           "rgb(153,213,148)",
           "rgb(50,136,189)"
          ]
         },
         "type": "bar",
         "uid": "2cc90ef7-802c-4661-94b4-82241a9df041",
         "x": [
          0,
          1
         ],
         "y": [
          146,
          190
         ]
        }
       ],
       "layout": {
        "bargap": 0.2,
        "xaxis": {
         "ticktext": [
          "No",
          "Sí"
         ],
         "tickvals": [
          0,
          1
         ]
        }
       }
      },
      "text/html": [
       "<div id=\"99a64614-9439-43d1-a62c-e12b656ccff1\" style=\"height: 525px; width: 100%;\" class=\"plotly-graph-div\"></div><script type=\"text/javascript\">require([\"plotly\"], function(Plotly) { window.PLOTLYENV=window.PLOTLYENV || {};window.PLOTLYENV.BASE_URL=\"https://plot.ly\";\n",
       "if (document.getElementById(\"99a64614-9439-43d1-a62c-e12b656ccff1\")) {\n",
       "    Plotly.newPlot(\"99a64614-9439-43d1-a62c-e12b656ccff1\", [{\"marker\": {\"color\": [\"rgb(213,62,79)\", \"rgb(252,141,89)\", \"rgb(254,224,139)\", \"rgb(230,245,152)\", \"rgb(153,213,148)\", \"rgb(50,136,189)\"]}, \"x\": [0, 1], \"y\": [146, 190], \"type\": \"bar\", \"uid\": \"2cc90ef7-802c-4661-94b4-82241a9df041\"}], {\"bargap\": 0.2, \"xaxis\": {\"ticktext\": [\"No\", \"S\\u00ed\"], \"tickvals\": [0, 1]}}, {\"showLink\": false, \"linkText\": \"Export to plot.ly\", \"plotlyServerURL\": \"https://plot.ly\"}); \n",
       "}\n",
       "});</script><script type=\"text/javascript\">window.addEventListener(\"resize\", function(){if (document.getElementById(\"99a64614-9439-43d1-a62c-e12b656ccff1\")) {window._Plotly.Plots.resize(document.getElementById(\"99a64614-9439-43d1-a62c-e12b656ccff1\"));};})</script>"
      ],
      "text/vnd.plotly.v1+html": [
       "<div id=\"99a64614-9439-43d1-a62c-e12b656ccff1\" style=\"height: 525px; width: 100%;\" class=\"plotly-graph-div\"></div><script type=\"text/javascript\">require([\"plotly\"], function(Plotly) { window.PLOTLYENV=window.PLOTLYENV || {};window.PLOTLYENV.BASE_URL=\"https://plot.ly\";\n",
       "if (document.getElementById(\"99a64614-9439-43d1-a62c-e12b656ccff1\")) {\n",
       "    Plotly.newPlot(\"99a64614-9439-43d1-a62c-e12b656ccff1\", [{\"marker\": {\"color\": [\"rgb(213,62,79)\", \"rgb(252,141,89)\", \"rgb(254,224,139)\", \"rgb(230,245,152)\", \"rgb(153,213,148)\", \"rgb(50,136,189)\"]}, \"x\": [0, 1], \"y\": [146, 190], \"type\": \"bar\", \"uid\": \"2cc90ef7-802c-4661-94b4-82241a9df041\"}], {\"bargap\": 0.2, \"xaxis\": {\"ticktext\": [\"No\", \"S\\u00ed\"], \"tickvals\": [0, 1]}}, {\"showLink\": false, \"linkText\": \"Export to plot.ly\", \"plotlyServerURL\": \"https://plot.ly\"}); \n",
       "}\n",
       "});</script><script type=\"text/javascript\">window.addEventListener(\"resize\", function(){if (document.getElementById(\"99a64614-9439-43d1-a62c-e12b656ccff1\")) {window._Plotly.Plots.resize(document.getElementById(\"99a64614-9439-43d1-a62c-e12b656ccff1\"));};})</script>"
      ]
     },
     "metadata": {},
     "output_type": "display_data"
    },
    {
     "name": "stdout",
     "output_type": "stream",
     "text": [
      "\n",
      "\n",
      "Cluster 5 || variable: ¿Tienes alguna carencia visual que afecte a la recepción de formas, colores, distancias, etc.?\n",
      "Describiendo la pregunta ¿Tienes alguna carencia visual que afecte a la recepción de formas, colores, distancias, etc.?\n",
      "Valores numéricos asociados a las respuestas [0, 1]\n",
      "Respuestas posibles a la pregunta/variable ['No', 'Sí']\n"
     ]
    },
    {
     "data": {
      "text/plain": [
       "count    336.000000\n",
       "mean       0.092262\n",
       "std        0.289827\n",
       "min        0.000000\n",
       "25%        0.000000\n",
       "50%        0.000000\n",
       "75%        0.000000\n",
       "max        1.000000\n",
       "Name: ¿Tienes alguna carencia visual que afecte a la recepción de formas, colores, distancias, etc.?, dtype: float64"
      ]
     },
     "metadata": {},
     "output_type": "display_data"
    },
    {
     "name": "stdout",
     "output_type": "stream",
     "text": [
      "Conteo de cada valor en ¿Tienes alguna carencia visual que afecte a la recepción de formas, colores, distancias, etc.? expresada como valor / cantidad\n"
     ]
    },
    {
     "data": {
      "text/plain": [
       "0    305\n",
       "1     31\n",
       "Name: ¿Tienes alguna carencia visual que afecte a la recepción de formas, colores, distancias, etc.?, dtype: int64"
      ]
     },
     "metadata": {},
     "output_type": "display_data"
    },
    {
     "name": "stdout",
     "output_type": "stream",
     "text": [
      "Porcentaje de cada valor en ¿Tienes alguna carencia visual que afecte a la recepción de formas, colores, distancias, etc.? expresado como valor / porcentaje\n"
     ]
    },
    {
     "data": {
      "text/plain": [
       "0    90.77\n",
       "1     9.23\n",
       "Name: ¿Tienes alguna carencia visual que afecte a la recepción de formas, colores, distancias, etc.?, dtype: float64"
      ]
     },
     "metadata": {},
     "output_type": "display_data"
    },
    {
     "data": {
      "application/vnd.plotly.v1+json": {
       "config": {
        "linkText": "Export to plot.ly",
        "plotlyServerURL": "https://plot.ly",
        "showLink": false
       },
       "data": [
        {
         "marker": {
          "color": [
           "rgb(213,62,79)",
           "rgb(252,141,89)",
           "rgb(254,224,139)",
           "rgb(230,245,152)",
           "rgb(153,213,148)",
           "rgb(50,136,189)"
          ]
         },
         "type": "bar",
         "uid": "42ef1802-c5fc-4831-95d2-03573c1f78a7",
         "x": [
          0,
          1
         ],
         "y": [
          305,
          31
         ]
        }
       ],
       "layout": {
        "bargap": 0.2,
        "xaxis": {
         "ticktext": [
          "No",
          "Sí"
         ],
         "tickvals": [
          0,
          1
         ]
        }
       }
      },
      "text/html": [
       "<div id=\"11fab07e-f6b8-4c3c-95b7-173e02d50b94\" style=\"height: 525px; width: 100%;\" class=\"plotly-graph-div\"></div><script type=\"text/javascript\">require([\"plotly\"], function(Plotly) { window.PLOTLYENV=window.PLOTLYENV || {};window.PLOTLYENV.BASE_URL=\"https://plot.ly\";\n",
       "if (document.getElementById(\"11fab07e-f6b8-4c3c-95b7-173e02d50b94\")) {\n",
       "    Plotly.newPlot(\"11fab07e-f6b8-4c3c-95b7-173e02d50b94\", [{\"marker\": {\"color\": [\"rgb(213,62,79)\", \"rgb(252,141,89)\", \"rgb(254,224,139)\", \"rgb(230,245,152)\", \"rgb(153,213,148)\", \"rgb(50,136,189)\"]}, \"x\": [0, 1], \"y\": [305, 31], \"type\": \"bar\", \"uid\": \"42ef1802-c5fc-4831-95d2-03573c1f78a7\"}], {\"bargap\": 0.2, \"xaxis\": {\"ticktext\": [\"No\", \"S\\u00ed\"], \"tickvals\": [0, 1]}}, {\"showLink\": false, \"linkText\": \"Export to plot.ly\", \"plotlyServerURL\": \"https://plot.ly\"}); \n",
       "}\n",
       "});</script><script type=\"text/javascript\">window.addEventListener(\"resize\", function(){if (document.getElementById(\"11fab07e-f6b8-4c3c-95b7-173e02d50b94\")) {window._Plotly.Plots.resize(document.getElementById(\"11fab07e-f6b8-4c3c-95b7-173e02d50b94\"));};})</script>"
      ],
      "text/vnd.plotly.v1+html": [
       "<div id=\"11fab07e-f6b8-4c3c-95b7-173e02d50b94\" style=\"height: 525px; width: 100%;\" class=\"plotly-graph-div\"></div><script type=\"text/javascript\">require([\"plotly\"], function(Plotly) { window.PLOTLYENV=window.PLOTLYENV || {};window.PLOTLYENV.BASE_URL=\"https://plot.ly\";\n",
       "if (document.getElementById(\"11fab07e-f6b8-4c3c-95b7-173e02d50b94\")) {\n",
       "    Plotly.newPlot(\"11fab07e-f6b8-4c3c-95b7-173e02d50b94\", [{\"marker\": {\"color\": [\"rgb(213,62,79)\", \"rgb(252,141,89)\", \"rgb(254,224,139)\", \"rgb(230,245,152)\", \"rgb(153,213,148)\", \"rgb(50,136,189)\"]}, \"x\": [0, 1], \"y\": [305, 31], \"type\": \"bar\", \"uid\": \"42ef1802-c5fc-4831-95d2-03573c1f78a7\"}], {\"bargap\": 0.2, \"xaxis\": {\"ticktext\": [\"No\", \"S\\u00ed\"], \"tickvals\": [0, 1]}}, {\"showLink\": false, \"linkText\": \"Export to plot.ly\", \"plotlyServerURL\": \"https://plot.ly\"}); \n",
       "}\n",
       "});</script><script type=\"text/javascript\">window.addEventListener(\"resize\", function(){if (document.getElementById(\"11fab07e-f6b8-4c3c-95b7-173e02d50b94\")) {window._Plotly.Plots.resize(document.getElementById(\"11fab07e-f6b8-4c3c-95b7-173e02d50b94\"));};})</script>"
      ]
     },
     "metadata": {},
     "output_type": "display_data"
    },
    {
     "name": "stdout",
     "output_type": "stream",
     "text": [
      "\n",
      "\n",
      "Cluster 5 || variable: ¿Tienes acceso a dispositivos (ordenador, móvil, tablet, etc.) conectados a Internet habitualmente?\n",
      "Describiendo la pregunta ¿Tienes acceso a dispositivos (ordenador, móvil, tablet, etc.) conectados a Internet habitualmente?\n",
      "Valores numéricos asociados a las respuestas [1, 2, 3, 4, 5]\n",
      "Respuestas posibles a la pregunta/variable ['1. Nunca', '2. Ocasionalmente', '3. Semanalmente', '4. Diariamente', '5. Varias veces al día']\n"
     ]
    },
    {
     "data": {
      "text/plain": [
       "count    336.000000\n",
       "mean       4.922619\n",
       "std        0.267593\n",
       "min        4.000000\n",
       "25%        5.000000\n",
       "50%        5.000000\n",
       "75%        5.000000\n",
       "max        5.000000\n",
       "Name: ¿Tienes acceso a dispositivos (ordenador, móvil, tablet, etc.) conectados a Internet habitualmente?, dtype: float64"
      ]
     },
     "metadata": {},
     "output_type": "display_data"
    },
    {
     "name": "stdout",
     "output_type": "stream",
     "text": [
      "Conteo de cada valor en ¿Tienes acceso a dispositivos (ordenador, móvil, tablet, etc.) conectados a Internet habitualmente? expresada como valor / cantidad\n"
     ]
    },
    {
     "data": {
      "text/plain": [
       "4     26\n",
       "5    310\n",
       "Name: ¿Tienes acceso a dispositivos (ordenador, móvil, tablet, etc.) conectados a Internet habitualmente?, dtype: int64"
      ]
     },
     "metadata": {},
     "output_type": "display_data"
    },
    {
     "name": "stdout",
     "output_type": "stream",
     "text": [
      "Porcentaje de cada valor en ¿Tienes acceso a dispositivos (ordenador, móvil, tablet, etc.) conectados a Internet habitualmente? expresado como valor / porcentaje\n"
     ]
    },
    {
     "data": {
      "text/plain": [
       "4     7.74\n",
       "5    92.26\n",
       "Name: ¿Tienes acceso a dispositivos (ordenador, móvil, tablet, etc.) conectados a Internet habitualmente?, dtype: float64"
      ]
     },
     "metadata": {},
     "output_type": "display_data"
    },
    {
     "data": {
      "application/vnd.plotly.v1+json": {
       "config": {
        "linkText": "Export to plot.ly",
        "plotlyServerURL": "https://plot.ly",
        "showLink": false
       },
       "data": [
        {
         "marker": {
          "color": [
           "rgb(213,62,79)",
           "rgb(252,141,89)",
           "rgb(254,224,139)",
           "rgb(230,245,152)",
           "rgb(153,213,148)",
           "rgb(50,136,189)"
          ]
         },
         "type": "bar",
         "uid": "61e2c82c-13d6-4b23-bda8-d05d561b9c96",
         "x": [
          4,
          5
         ],
         "y": [
          26,
          310
         ]
        }
       ],
       "layout": {
        "bargap": 0.2,
        "xaxis": {
         "ticktext": [
          "1. Nunca",
          "2. Ocasionalmente",
          "3. Semanalmente",
          "4. Diariamente",
          "5. Varias veces al día"
         ],
         "tickvals": [
          1,
          2,
          3,
          4,
          5
         ]
        }
       }
      },
      "text/html": [
       "<div id=\"f263179a-680a-4f6a-a337-07f7f44f1d31\" style=\"height: 525px; width: 100%;\" class=\"plotly-graph-div\"></div><script type=\"text/javascript\">require([\"plotly\"], function(Plotly) { window.PLOTLYENV=window.PLOTLYENV || {};window.PLOTLYENV.BASE_URL=\"https://plot.ly\";\n",
       "if (document.getElementById(\"f263179a-680a-4f6a-a337-07f7f44f1d31\")) {\n",
       "    Plotly.newPlot(\"f263179a-680a-4f6a-a337-07f7f44f1d31\", [{\"marker\": {\"color\": [\"rgb(213,62,79)\", \"rgb(252,141,89)\", \"rgb(254,224,139)\", \"rgb(230,245,152)\", \"rgb(153,213,148)\", \"rgb(50,136,189)\"]}, \"x\": [4, 5], \"y\": [26, 310], \"type\": \"bar\", \"uid\": \"61e2c82c-13d6-4b23-bda8-d05d561b9c96\"}], {\"bargap\": 0.2, \"xaxis\": {\"ticktext\": [\"1. Nunca\", \"2. Ocasionalmente\", \"3. Semanalmente\", \"4. Diariamente\", \"5. Varias veces al d\\u00eda\"], \"tickvals\": [1, 2, 3, 4, 5]}}, {\"showLink\": false, \"linkText\": \"Export to plot.ly\", \"plotlyServerURL\": \"https://plot.ly\"}); \n",
       "}\n",
       "});</script><script type=\"text/javascript\">window.addEventListener(\"resize\", function(){if (document.getElementById(\"f263179a-680a-4f6a-a337-07f7f44f1d31\")) {window._Plotly.Plots.resize(document.getElementById(\"f263179a-680a-4f6a-a337-07f7f44f1d31\"));};})</script>"
      ],
      "text/vnd.plotly.v1+html": [
       "<div id=\"f263179a-680a-4f6a-a337-07f7f44f1d31\" style=\"height: 525px; width: 100%;\" class=\"plotly-graph-div\"></div><script type=\"text/javascript\">require([\"plotly\"], function(Plotly) { window.PLOTLYENV=window.PLOTLYENV || {};window.PLOTLYENV.BASE_URL=\"https://plot.ly\";\n",
       "if (document.getElementById(\"f263179a-680a-4f6a-a337-07f7f44f1d31\")) {\n",
       "    Plotly.newPlot(\"f263179a-680a-4f6a-a337-07f7f44f1d31\", [{\"marker\": {\"color\": [\"rgb(213,62,79)\", \"rgb(252,141,89)\", \"rgb(254,224,139)\", \"rgb(230,245,152)\", \"rgb(153,213,148)\", \"rgb(50,136,189)\"]}, \"x\": [4, 5], \"y\": [26, 310], \"type\": \"bar\", \"uid\": \"61e2c82c-13d6-4b23-bda8-d05d561b9c96\"}], {\"bargap\": 0.2, \"xaxis\": {\"ticktext\": [\"1. Nunca\", \"2. Ocasionalmente\", \"3. Semanalmente\", \"4. Diariamente\", \"5. Varias veces al d\\u00eda\"], \"tickvals\": [1, 2, 3, 4, 5]}}, {\"showLink\": false, \"linkText\": \"Export to plot.ly\", \"plotlyServerURL\": \"https://plot.ly\"}); \n",
       "}\n",
       "});</script><script type=\"text/javascript\">window.addEventListener(\"resize\", function(){if (document.getElementById(\"f263179a-680a-4f6a-a337-07f7f44f1d31\")) {window._Plotly.Plots.resize(document.getElementById(\"f263179a-680a-4f6a-a337-07f7f44f1d31\"));};})</script>"
      ]
     },
     "metadata": {},
     "output_type": "display_data"
    },
    {
     "name": "stdout",
     "output_type": "stream",
     "text": [
      "\n",
      "\n",
      "Cluster 5 || variable: ¿Cuánto tiempo al día usas el móvil/tableta/ordenador/TV?\n",
      "Describiendo la pregunta ¿Cuánto tiempo al día usas el móvil/tableta/ordenador/TV?\n",
      "Valores numéricos asociados a las respuestas [1, 2, 3, 4, 5, 6]\n",
      "Respuestas posibles a la pregunta/variable ['1. Nada', '2. Menos de una hora', '3. 1-2 horas', '4. 2-4 horas', '5. 4-6 horas', '6. Más de 6 horas']\n"
     ]
    },
    {
     "data": {
      "text/plain": [
       "count    336.000000\n",
       "mean       5.273810\n",
       "std        0.889087\n",
       "min        2.000000\n",
       "25%        5.000000\n",
       "50%        6.000000\n",
       "75%        6.000000\n",
       "max        6.000000\n",
       "Name: ¿Cuánto tiempo al día usas el móvil/tableta/ordenador/TV?, dtype: float64"
      ]
     },
     "metadata": {},
     "output_type": "display_data"
    },
    {
     "name": "stdout",
     "output_type": "stream",
     "text": [
      "Conteo de cada valor en ¿Cuánto tiempo al día usas el móvil/tableta/ordenador/TV? expresada como valor / cantidad\n"
     ]
    },
    {
     "data": {
      "text/plain": [
       "2      1\n",
       "3     12\n",
       "4     57\n",
       "5     90\n",
       "6    176\n",
       "Name: ¿Cuánto tiempo al día usas el móvil/tableta/ordenador/TV?, dtype: int64"
      ]
     },
     "metadata": {},
     "output_type": "display_data"
    },
    {
     "name": "stdout",
     "output_type": "stream",
     "text": [
      "Porcentaje de cada valor en ¿Cuánto tiempo al día usas el móvil/tableta/ordenador/TV? expresado como valor / porcentaje\n"
     ]
    },
    {
     "data": {
      "text/plain": [
       "2     0.30\n",
       "3     3.57\n",
       "4    16.96\n",
       "5    26.79\n",
       "6    52.38\n",
       "Name: ¿Cuánto tiempo al día usas el móvil/tableta/ordenador/TV?, dtype: float64"
      ]
     },
     "metadata": {},
     "output_type": "display_data"
    },
    {
     "data": {
      "application/vnd.plotly.v1+json": {
       "config": {
        "linkText": "Export to plot.ly",
        "plotlyServerURL": "https://plot.ly",
        "showLink": false
       },
       "data": [
        {
         "marker": {
          "color": [
           "rgb(213,62,79)",
           "rgb(252,141,89)",
           "rgb(254,224,139)",
           "rgb(230,245,152)",
           "rgb(153,213,148)",
           "rgb(50,136,189)"
          ]
         },
         "type": "bar",
         "uid": "b2803135-6022-4d5f-93c7-44204a6f759f",
         "x": [
          2,
          3,
          4,
          5,
          6
         ],
         "y": [
          1,
          12,
          57,
          90,
          176
         ]
        }
       ],
       "layout": {
        "bargap": 0.2,
        "xaxis": {
         "ticktext": [
          "1. Nada",
          "2. Menos de una hora",
          "3. 1-2 horas",
          "4. 2-4 horas",
          "5. 4-6 horas",
          "6. Más de 6 horas"
         ],
         "tickvals": [
          1,
          2,
          3,
          4,
          5,
          6
         ]
        }
       }
      },
      "text/html": [
       "<div id=\"26a9af39-698b-46d0-836e-7423de3b8083\" style=\"height: 525px; width: 100%;\" class=\"plotly-graph-div\"></div><script type=\"text/javascript\">require([\"plotly\"], function(Plotly) { window.PLOTLYENV=window.PLOTLYENV || {};window.PLOTLYENV.BASE_URL=\"https://plot.ly\";\n",
       "if (document.getElementById(\"26a9af39-698b-46d0-836e-7423de3b8083\")) {\n",
       "    Plotly.newPlot(\"26a9af39-698b-46d0-836e-7423de3b8083\", [{\"marker\": {\"color\": [\"rgb(213,62,79)\", \"rgb(252,141,89)\", \"rgb(254,224,139)\", \"rgb(230,245,152)\", \"rgb(153,213,148)\", \"rgb(50,136,189)\"]}, \"x\": [2, 3, 4, 5, 6], \"y\": [1, 12, 57, 90, 176], \"type\": \"bar\", \"uid\": \"b2803135-6022-4d5f-93c7-44204a6f759f\"}], {\"bargap\": 0.2, \"xaxis\": {\"ticktext\": [\"1. Nada\", \"2. Menos de una hora\", \"3. 1-2 horas\", \"4. 2-4 horas\", \"5. 4-6 horas\", \"6. M\\u00e1s de 6 horas\"], \"tickvals\": [1, 2, 3, 4, 5, 6]}}, {\"showLink\": false, \"linkText\": \"Export to plot.ly\", \"plotlyServerURL\": \"https://plot.ly\"}); \n",
       "}\n",
       "});</script><script type=\"text/javascript\">window.addEventListener(\"resize\", function(){if (document.getElementById(\"26a9af39-698b-46d0-836e-7423de3b8083\")) {window._Plotly.Plots.resize(document.getElementById(\"26a9af39-698b-46d0-836e-7423de3b8083\"));};})</script>"
      ],
      "text/vnd.plotly.v1+html": [
       "<div id=\"26a9af39-698b-46d0-836e-7423de3b8083\" style=\"height: 525px; width: 100%;\" class=\"plotly-graph-div\"></div><script type=\"text/javascript\">require([\"plotly\"], function(Plotly) { window.PLOTLYENV=window.PLOTLYENV || {};window.PLOTLYENV.BASE_URL=\"https://plot.ly\";\n",
       "if (document.getElementById(\"26a9af39-698b-46d0-836e-7423de3b8083\")) {\n",
       "    Plotly.newPlot(\"26a9af39-698b-46d0-836e-7423de3b8083\", [{\"marker\": {\"color\": [\"rgb(213,62,79)\", \"rgb(252,141,89)\", \"rgb(254,224,139)\", \"rgb(230,245,152)\", \"rgb(153,213,148)\", \"rgb(50,136,189)\"]}, \"x\": [2, 3, 4, 5, 6], \"y\": [1, 12, 57, 90, 176], \"type\": \"bar\", \"uid\": \"b2803135-6022-4d5f-93c7-44204a6f759f\"}], {\"bargap\": 0.2, \"xaxis\": {\"ticktext\": [\"1. Nada\", \"2. Menos de una hora\", \"3. 1-2 horas\", \"4. 2-4 horas\", \"5. 4-6 horas\", \"6. M\\u00e1s de 6 horas\"], \"tickvals\": [1, 2, 3, 4, 5, 6]}}, {\"showLink\": false, \"linkText\": \"Export to plot.ly\", \"plotlyServerURL\": \"https://plot.ly\"}); \n",
       "}\n",
       "});</script><script type=\"text/javascript\">window.addEventListener(\"resize\", function(){if (document.getElementById(\"26a9af39-698b-46d0-836e-7423de3b8083\")) {window._Plotly.Plots.resize(document.getElementById(\"26a9af39-698b-46d0-836e-7423de3b8083\"));};})</script>"
      ]
     },
     "metadata": {},
     "output_type": "display_data"
    },
    {
     "name": "stdout",
     "output_type": "stream",
     "text": [
      "\n",
      "\n",
      "Cluster 5 || variable: ¿Qué tipo de aplicaciones utilizas en tu ordenador/tableta/móvil? (Respuesta múltiple) [1. Apps de contenidos audiovisuales (Netflix, HBO, etc.)]\n",
      "Describiendo la pregunta ¿Qué tipo de aplicaciones utilizas en tu ordenador/tableta/móvil? (Respuesta múltiple) [1. Apps de contenidos audiovisuales (Netflix, HBO, etc.)]\n",
      "Valores numéricos asociados a las respuestas [0, 1]\n",
      "Respuestas posibles a la pregunta/variable ['No', 'Sí']\n"
     ]
    },
    {
     "data": {
      "text/plain": [
       "count    336.000000\n",
       "mean       0.708333\n",
       "std        0.455208\n",
       "min        0.000000\n",
       "25%        0.000000\n",
       "50%        1.000000\n",
       "75%        1.000000\n",
       "max        1.000000\n",
       "Name: ¿Qué tipo de aplicaciones utilizas en tu ordenador/tableta/móvil? (Respuesta múltiple) [1. Apps de contenidos audiovisuales (Netflix, HBO, etc.)], dtype: float64"
      ]
     },
     "metadata": {},
     "output_type": "display_data"
    },
    {
     "name": "stdout",
     "output_type": "stream",
     "text": [
      "Conteo de cada valor en ¿Qué tipo de aplicaciones utilizas en tu ordenador/tableta/móvil? (Respuesta múltiple) [1. Apps de contenidos audiovisuales (Netflix, HBO, etc.)] expresada como valor / cantidad\n"
     ]
    },
    {
     "data": {
      "text/plain": [
       "0     98\n",
       "1    238\n",
       "Name: ¿Qué tipo de aplicaciones utilizas en tu ordenador/tableta/móvil? (Respuesta múltiple) [1. Apps de contenidos audiovisuales (Netflix, HBO, etc.)], dtype: int64"
      ]
     },
     "metadata": {},
     "output_type": "display_data"
    },
    {
     "name": "stdout",
     "output_type": "stream",
     "text": [
      "Porcentaje de cada valor en ¿Qué tipo de aplicaciones utilizas en tu ordenador/tableta/móvil? (Respuesta múltiple) [1. Apps de contenidos audiovisuales (Netflix, HBO, etc.)] expresado como valor / porcentaje\n"
     ]
    },
    {
     "data": {
      "text/plain": [
       "0    29.17\n",
       "1    70.83\n",
       "Name: ¿Qué tipo de aplicaciones utilizas en tu ordenador/tableta/móvil? (Respuesta múltiple) [1. Apps de contenidos audiovisuales (Netflix, HBO, etc.)], dtype: float64"
      ]
     },
     "metadata": {},
     "output_type": "display_data"
    },
    {
     "data": {
      "application/vnd.plotly.v1+json": {
       "config": {
        "linkText": "Export to plot.ly",
        "plotlyServerURL": "https://plot.ly",
        "showLink": false
       },
       "data": [
        {
         "marker": {
          "color": [
           "rgb(213,62,79)",
           "rgb(252,141,89)",
           "rgb(254,224,139)",
           "rgb(230,245,152)",
           "rgb(153,213,148)",
           "rgb(50,136,189)"
          ]
         },
         "type": "bar",
         "uid": "09493bf1-f0a4-4799-a96b-5cf3e269568e",
         "x": [
          0,
          1
         ],
         "y": [
          98,
          238
         ]
        }
       ],
       "layout": {
        "bargap": 0.2,
        "xaxis": {
         "ticktext": [
          "No",
          "Sí"
         ],
         "tickvals": [
          0,
          1
         ]
        }
       }
      },
      "text/html": [
       "<div id=\"bae827dd-ba02-44da-aa66-ae434a38a77f\" style=\"height: 525px; width: 100%;\" class=\"plotly-graph-div\"></div><script type=\"text/javascript\">require([\"plotly\"], function(Plotly) { window.PLOTLYENV=window.PLOTLYENV || {};window.PLOTLYENV.BASE_URL=\"https://plot.ly\";\n",
       "if (document.getElementById(\"bae827dd-ba02-44da-aa66-ae434a38a77f\")) {\n",
       "    Plotly.newPlot(\"bae827dd-ba02-44da-aa66-ae434a38a77f\", [{\"marker\": {\"color\": [\"rgb(213,62,79)\", \"rgb(252,141,89)\", \"rgb(254,224,139)\", \"rgb(230,245,152)\", \"rgb(153,213,148)\", \"rgb(50,136,189)\"]}, \"x\": [0, 1], \"y\": [98, 238], \"type\": \"bar\", \"uid\": \"09493bf1-f0a4-4799-a96b-5cf3e269568e\"}], {\"bargap\": 0.2, \"xaxis\": {\"ticktext\": [\"No\", \"S\\u00ed\"], \"tickvals\": [0, 1]}}, {\"showLink\": false, \"linkText\": \"Export to plot.ly\", \"plotlyServerURL\": \"https://plot.ly\"}); \n",
       "}\n",
       "});</script><script type=\"text/javascript\">window.addEventListener(\"resize\", function(){if (document.getElementById(\"bae827dd-ba02-44da-aa66-ae434a38a77f\")) {window._Plotly.Plots.resize(document.getElementById(\"bae827dd-ba02-44da-aa66-ae434a38a77f\"));};})</script>"
      ],
      "text/vnd.plotly.v1+html": [
       "<div id=\"bae827dd-ba02-44da-aa66-ae434a38a77f\" style=\"height: 525px; width: 100%;\" class=\"plotly-graph-div\"></div><script type=\"text/javascript\">require([\"plotly\"], function(Plotly) { window.PLOTLYENV=window.PLOTLYENV || {};window.PLOTLYENV.BASE_URL=\"https://plot.ly\";\n",
       "if (document.getElementById(\"bae827dd-ba02-44da-aa66-ae434a38a77f\")) {\n",
       "    Plotly.newPlot(\"bae827dd-ba02-44da-aa66-ae434a38a77f\", [{\"marker\": {\"color\": [\"rgb(213,62,79)\", \"rgb(252,141,89)\", \"rgb(254,224,139)\", \"rgb(230,245,152)\", \"rgb(153,213,148)\", \"rgb(50,136,189)\"]}, \"x\": [0, 1], \"y\": [98, 238], \"type\": \"bar\", \"uid\": \"09493bf1-f0a4-4799-a96b-5cf3e269568e\"}], {\"bargap\": 0.2, \"xaxis\": {\"ticktext\": [\"No\", \"S\\u00ed\"], \"tickvals\": [0, 1]}}, {\"showLink\": false, \"linkText\": \"Export to plot.ly\", \"plotlyServerURL\": \"https://plot.ly\"}); \n",
       "}\n",
       "});</script><script type=\"text/javascript\">window.addEventListener(\"resize\", function(){if (document.getElementById(\"bae827dd-ba02-44da-aa66-ae434a38a77f\")) {window._Plotly.Plots.resize(document.getElementById(\"bae827dd-ba02-44da-aa66-ae434a38a77f\"));};})</script>"
      ]
     },
     "metadata": {},
     "output_type": "display_data"
    },
    {
     "name": "stdout",
     "output_type": "stream",
     "text": [
      "\n",
      "\n",
      "Cluster 5 || variable: ¿Qué tipo de aplicaciones utilizas en tu ordenador/tableta/móvil? (Respuesta múltiple) [2. Aplicaciones de mensajería (Whatsapp, Facebook Messenger, etc.)]\n",
      "Describiendo la pregunta ¿Qué tipo de aplicaciones utilizas en tu ordenador/tableta/móvil? (Respuesta múltiple) [2. Aplicaciones de mensajería (Whatsapp, Facebook Messenger, etc.)]\n",
      "Valores numéricos asociados a las respuestas [0, 1]\n",
      "Respuestas posibles a la pregunta/variable ['No', 'Sí']\n"
     ]
    },
    {
     "data": {
      "text/plain": [
       "count    336.000000\n",
       "mean       0.857143\n",
       "std        0.350449\n",
       "min        0.000000\n",
       "25%        1.000000\n",
       "50%        1.000000\n",
       "75%        1.000000\n",
       "max        1.000000\n",
       "Name: ¿Qué tipo de aplicaciones utilizas en tu ordenador/tableta/móvil? (Respuesta múltiple) [2. Aplicaciones de mensajería (Whatsapp, Facebook Messenger, etc.)], dtype: float64"
      ]
     },
     "metadata": {},
     "output_type": "display_data"
    },
    {
     "name": "stdout",
     "output_type": "stream",
     "text": [
      "Conteo de cada valor en ¿Qué tipo de aplicaciones utilizas en tu ordenador/tableta/móvil? (Respuesta múltiple) [2. Aplicaciones de mensajería (Whatsapp, Facebook Messenger, etc.)] expresada como valor / cantidad\n"
     ]
    },
    {
     "data": {
      "text/plain": [
       "0     48\n",
       "1    288\n",
       "Name: ¿Qué tipo de aplicaciones utilizas en tu ordenador/tableta/móvil? (Respuesta múltiple) [2. Aplicaciones de mensajería (Whatsapp, Facebook Messenger, etc.)], dtype: int64"
      ]
     },
     "metadata": {},
     "output_type": "display_data"
    },
    {
     "name": "stdout",
     "output_type": "stream",
     "text": [
      "Porcentaje de cada valor en ¿Qué tipo de aplicaciones utilizas en tu ordenador/tableta/móvil? (Respuesta múltiple) [2. Aplicaciones de mensajería (Whatsapp, Facebook Messenger, etc.)] expresado como valor / porcentaje\n"
     ]
    },
    {
     "data": {
      "text/plain": [
       "0    14.29\n",
       "1    85.71\n",
       "Name: ¿Qué tipo de aplicaciones utilizas en tu ordenador/tableta/móvil? (Respuesta múltiple) [2. Aplicaciones de mensajería (Whatsapp, Facebook Messenger, etc.)], dtype: float64"
      ]
     },
     "metadata": {},
     "output_type": "display_data"
    },
    {
     "data": {
      "application/vnd.plotly.v1+json": {
       "config": {
        "linkText": "Export to plot.ly",
        "plotlyServerURL": "https://plot.ly",
        "showLink": false
       },
       "data": [
        {
         "marker": {
          "color": [
           "rgb(213,62,79)",
           "rgb(252,141,89)",
           "rgb(254,224,139)",
           "rgb(230,245,152)",
           "rgb(153,213,148)",
           "rgb(50,136,189)"
          ]
         },
         "type": "bar",
         "uid": "a23971b0-15a7-47c8-b218-67dadb775e18",
         "x": [
          0,
          1
         ],
         "y": [
          48,
          288
         ]
        }
       ],
       "layout": {
        "bargap": 0.2,
        "xaxis": {
         "ticktext": [
          "No",
          "Sí"
         ],
         "tickvals": [
          0,
          1
         ]
        }
       }
      },
      "text/html": [
       "<div id=\"24102910-13c3-4b3d-9180-8bd4e2d3efb6\" style=\"height: 525px; width: 100%;\" class=\"plotly-graph-div\"></div><script type=\"text/javascript\">require([\"plotly\"], function(Plotly) { window.PLOTLYENV=window.PLOTLYENV || {};window.PLOTLYENV.BASE_URL=\"https://plot.ly\";\n",
       "if (document.getElementById(\"24102910-13c3-4b3d-9180-8bd4e2d3efb6\")) {\n",
       "    Plotly.newPlot(\"24102910-13c3-4b3d-9180-8bd4e2d3efb6\", [{\"marker\": {\"color\": [\"rgb(213,62,79)\", \"rgb(252,141,89)\", \"rgb(254,224,139)\", \"rgb(230,245,152)\", \"rgb(153,213,148)\", \"rgb(50,136,189)\"]}, \"x\": [0, 1], \"y\": [48, 288], \"type\": \"bar\", \"uid\": \"a23971b0-15a7-47c8-b218-67dadb775e18\"}], {\"bargap\": 0.2, \"xaxis\": {\"ticktext\": [\"No\", \"S\\u00ed\"], \"tickvals\": [0, 1]}}, {\"showLink\": false, \"linkText\": \"Export to plot.ly\", \"plotlyServerURL\": \"https://plot.ly\"}); \n",
       "}\n",
       "});</script><script type=\"text/javascript\">window.addEventListener(\"resize\", function(){if (document.getElementById(\"24102910-13c3-4b3d-9180-8bd4e2d3efb6\")) {window._Plotly.Plots.resize(document.getElementById(\"24102910-13c3-4b3d-9180-8bd4e2d3efb6\"));};})</script>"
      ],
      "text/vnd.plotly.v1+html": [
       "<div id=\"24102910-13c3-4b3d-9180-8bd4e2d3efb6\" style=\"height: 525px; width: 100%;\" class=\"plotly-graph-div\"></div><script type=\"text/javascript\">require([\"plotly\"], function(Plotly) { window.PLOTLYENV=window.PLOTLYENV || {};window.PLOTLYENV.BASE_URL=\"https://plot.ly\";\n",
       "if (document.getElementById(\"24102910-13c3-4b3d-9180-8bd4e2d3efb6\")) {\n",
       "    Plotly.newPlot(\"24102910-13c3-4b3d-9180-8bd4e2d3efb6\", [{\"marker\": {\"color\": [\"rgb(213,62,79)\", \"rgb(252,141,89)\", \"rgb(254,224,139)\", \"rgb(230,245,152)\", \"rgb(153,213,148)\", \"rgb(50,136,189)\"]}, \"x\": [0, 1], \"y\": [48, 288], \"type\": \"bar\", \"uid\": \"a23971b0-15a7-47c8-b218-67dadb775e18\"}], {\"bargap\": 0.2, \"xaxis\": {\"ticktext\": [\"No\", \"S\\u00ed\"], \"tickvals\": [0, 1]}}, {\"showLink\": false, \"linkText\": \"Export to plot.ly\", \"plotlyServerURL\": \"https://plot.ly\"}); \n",
       "}\n",
       "});</script><script type=\"text/javascript\">window.addEventListener(\"resize\", function(){if (document.getElementById(\"24102910-13c3-4b3d-9180-8bd4e2d3efb6\")) {window._Plotly.Plots.resize(document.getElementById(\"24102910-13c3-4b3d-9180-8bd4e2d3efb6\"));};})</script>"
      ]
     },
     "metadata": {},
     "output_type": "display_data"
    },
    {
     "name": "stdout",
     "output_type": "stream",
     "text": [
      "\n",
      "\n",
      "Cluster 5 || variable: ¿Qué tipo de aplicaciones utilizas en tu ordenador/tableta/móvil? (Respuesta múltiple) [3. Bibliotecas de fotos online (Google Photos, iPhoto, etc.)]\n",
      "Describiendo la pregunta ¿Qué tipo de aplicaciones utilizas en tu ordenador/tableta/móvil? (Respuesta múltiple) [3. Bibliotecas de fotos online (Google Photos, iPhoto, etc.)]\n",
      "Valores numéricos asociados a las respuestas [0, 1]\n",
      "Respuestas posibles a la pregunta/variable ['No', 'Sí']\n"
     ]
    },
    {
     "data": {
      "text/plain": [
       "count    336.000000\n",
       "mean       0.574405\n",
       "std        0.495170\n",
       "min        0.000000\n",
       "25%        0.000000\n",
       "50%        1.000000\n",
       "75%        1.000000\n",
       "max        1.000000\n",
       "Name: ¿Qué tipo de aplicaciones utilizas en tu ordenador/tableta/móvil? (Respuesta múltiple) [3. Bibliotecas de fotos online (Google Photos, iPhoto, etc.)], dtype: float64"
      ]
     },
     "metadata": {},
     "output_type": "display_data"
    },
    {
     "name": "stdout",
     "output_type": "stream",
     "text": [
      "Conteo de cada valor en ¿Qué tipo de aplicaciones utilizas en tu ordenador/tableta/móvil? (Respuesta múltiple) [3. Bibliotecas de fotos online (Google Photos, iPhoto, etc.)] expresada como valor / cantidad\n"
     ]
    },
    {
     "data": {
      "text/plain": [
       "0    143\n",
       "1    193\n",
       "Name: ¿Qué tipo de aplicaciones utilizas en tu ordenador/tableta/móvil? (Respuesta múltiple) [3. Bibliotecas de fotos online (Google Photos, iPhoto, etc.)], dtype: int64"
      ]
     },
     "metadata": {},
     "output_type": "display_data"
    },
    {
     "name": "stdout",
     "output_type": "stream",
     "text": [
      "Porcentaje de cada valor en ¿Qué tipo de aplicaciones utilizas en tu ordenador/tableta/móvil? (Respuesta múltiple) [3. Bibliotecas de fotos online (Google Photos, iPhoto, etc.)] expresado como valor / porcentaje\n"
     ]
    },
    {
     "data": {
      "text/plain": [
       "0    42.56\n",
       "1    57.44\n",
       "Name: ¿Qué tipo de aplicaciones utilizas en tu ordenador/tableta/móvil? (Respuesta múltiple) [3. Bibliotecas de fotos online (Google Photos, iPhoto, etc.)], dtype: float64"
      ]
     },
     "metadata": {},
     "output_type": "display_data"
    },
    {
     "data": {
      "application/vnd.plotly.v1+json": {
       "config": {
        "linkText": "Export to plot.ly",
        "plotlyServerURL": "https://plot.ly",
        "showLink": false
       },
       "data": [
        {
         "marker": {
          "color": [
           "rgb(213,62,79)",
           "rgb(252,141,89)",
           "rgb(254,224,139)",
           "rgb(230,245,152)",
           "rgb(153,213,148)",
           "rgb(50,136,189)"
          ]
         },
         "type": "bar",
         "uid": "db41e8e5-5411-4632-9f41-66d3f1b67bd8",
         "x": [
          0,
          1
         ],
         "y": [
          143,
          193
         ]
        }
       ],
       "layout": {
        "bargap": 0.2,
        "xaxis": {
         "ticktext": [
          "No",
          "Sí"
         ],
         "tickvals": [
          0,
          1
         ]
        }
       }
      },
      "text/html": [
       "<div id=\"72f667cf-e2b6-4214-aaff-1be4047bddb0\" style=\"height: 525px; width: 100%;\" class=\"plotly-graph-div\"></div><script type=\"text/javascript\">require([\"plotly\"], function(Plotly) { window.PLOTLYENV=window.PLOTLYENV || {};window.PLOTLYENV.BASE_URL=\"https://plot.ly\";\n",
       "if (document.getElementById(\"72f667cf-e2b6-4214-aaff-1be4047bddb0\")) {\n",
       "    Plotly.newPlot(\"72f667cf-e2b6-4214-aaff-1be4047bddb0\", [{\"marker\": {\"color\": [\"rgb(213,62,79)\", \"rgb(252,141,89)\", \"rgb(254,224,139)\", \"rgb(230,245,152)\", \"rgb(153,213,148)\", \"rgb(50,136,189)\"]}, \"x\": [0, 1], \"y\": [143, 193], \"type\": \"bar\", \"uid\": \"db41e8e5-5411-4632-9f41-66d3f1b67bd8\"}], {\"bargap\": 0.2, \"xaxis\": {\"ticktext\": [\"No\", \"S\\u00ed\"], \"tickvals\": [0, 1]}}, {\"showLink\": false, \"linkText\": \"Export to plot.ly\", \"plotlyServerURL\": \"https://plot.ly\"}); \n",
       "}\n",
       "});</script><script type=\"text/javascript\">window.addEventListener(\"resize\", function(){if (document.getElementById(\"72f667cf-e2b6-4214-aaff-1be4047bddb0\")) {window._Plotly.Plots.resize(document.getElementById(\"72f667cf-e2b6-4214-aaff-1be4047bddb0\"));};})</script>"
      ],
      "text/vnd.plotly.v1+html": [
       "<div id=\"72f667cf-e2b6-4214-aaff-1be4047bddb0\" style=\"height: 525px; width: 100%;\" class=\"plotly-graph-div\"></div><script type=\"text/javascript\">require([\"plotly\"], function(Plotly) { window.PLOTLYENV=window.PLOTLYENV || {};window.PLOTLYENV.BASE_URL=\"https://plot.ly\";\n",
       "if (document.getElementById(\"72f667cf-e2b6-4214-aaff-1be4047bddb0\")) {\n",
       "    Plotly.newPlot(\"72f667cf-e2b6-4214-aaff-1be4047bddb0\", [{\"marker\": {\"color\": [\"rgb(213,62,79)\", \"rgb(252,141,89)\", \"rgb(254,224,139)\", \"rgb(230,245,152)\", \"rgb(153,213,148)\", \"rgb(50,136,189)\"]}, \"x\": [0, 1], \"y\": [143, 193], \"type\": \"bar\", \"uid\": \"db41e8e5-5411-4632-9f41-66d3f1b67bd8\"}], {\"bargap\": 0.2, \"xaxis\": {\"ticktext\": [\"No\", \"S\\u00ed\"], \"tickvals\": [0, 1]}}, {\"showLink\": false, \"linkText\": \"Export to plot.ly\", \"plotlyServerURL\": \"https://plot.ly\"}); \n",
       "}\n",
       "});</script><script type=\"text/javascript\">window.addEventListener(\"resize\", function(){if (document.getElementById(\"72f667cf-e2b6-4214-aaff-1be4047bddb0\")) {window._Plotly.Plots.resize(document.getElementById(\"72f667cf-e2b6-4214-aaff-1be4047bddb0\"));};})</script>"
      ]
     },
     "metadata": {},
     "output_type": "display_data"
    },
    {
     "name": "stdout",
     "output_type": "stream",
     "text": [
      "\n",
      "\n",
      "Cluster 5 || variable: ¿Qué tipo de aplicaciones utilizas en tu ordenador/tableta/móvil? (Respuesta múltiple) [4. Redes sociales (Facebook, Instagram, Twitter, etc.).]\n",
      "Describiendo la pregunta ¿Qué tipo de aplicaciones utilizas en tu ordenador/tableta/móvil? (Respuesta múltiple) [4. Redes sociales (Facebook, Instagram, Twitter, etc.).]\n",
      "Valores numéricos asociados a las respuestas [0, 1]\n",
      "Respuestas posibles a la pregunta/variable ['No', 'Sí']\n"
     ]
    },
    {
     "data": {
      "text/plain": [
       "count    336.000000\n",
       "mean       0.886905\n",
       "std        0.317182\n",
       "min        0.000000\n",
       "25%        1.000000\n",
       "50%        1.000000\n",
       "75%        1.000000\n",
       "max        1.000000\n",
       "Name: ¿Qué tipo de aplicaciones utilizas en tu ordenador/tableta/móvil? (Respuesta múltiple) [4. Redes sociales (Facebook, Instagram, Twitter, etc.).], dtype: float64"
      ]
     },
     "metadata": {},
     "output_type": "display_data"
    },
    {
     "name": "stdout",
     "output_type": "stream",
     "text": [
      "Conteo de cada valor en ¿Qué tipo de aplicaciones utilizas en tu ordenador/tableta/móvil? (Respuesta múltiple) [4. Redes sociales (Facebook, Instagram, Twitter, etc.).] expresada como valor / cantidad\n"
     ]
    },
    {
     "data": {
      "text/plain": [
       "0     38\n",
       "1    298\n",
       "Name: ¿Qué tipo de aplicaciones utilizas en tu ordenador/tableta/móvil? (Respuesta múltiple) [4. Redes sociales (Facebook, Instagram, Twitter, etc.).], dtype: int64"
      ]
     },
     "metadata": {},
     "output_type": "display_data"
    },
    {
     "name": "stdout",
     "output_type": "stream",
     "text": [
      "Porcentaje de cada valor en ¿Qué tipo de aplicaciones utilizas en tu ordenador/tableta/móvil? (Respuesta múltiple) [4. Redes sociales (Facebook, Instagram, Twitter, etc.).] expresado como valor / porcentaje\n"
     ]
    },
    {
     "data": {
      "text/plain": [
       "0    11.31\n",
       "1    88.69\n",
       "Name: ¿Qué tipo de aplicaciones utilizas en tu ordenador/tableta/móvil? (Respuesta múltiple) [4. Redes sociales (Facebook, Instagram, Twitter, etc.).], dtype: float64"
      ]
     },
     "metadata": {},
     "output_type": "display_data"
    },
    {
     "data": {
      "application/vnd.plotly.v1+json": {
       "config": {
        "linkText": "Export to plot.ly",
        "plotlyServerURL": "https://plot.ly",
        "showLink": false
       },
       "data": [
        {
         "marker": {
          "color": [
           "rgb(213,62,79)",
           "rgb(252,141,89)",
           "rgb(254,224,139)",
           "rgb(230,245,152)",
           "rgb(153,213,148)",
           "rgb(50,136,189)"
          ]
         },
         "type": "bar",
         "uid": "6116e344-b8f6-48f4-b7e7-6e5ac8a97af7",
         "x": [
          0,
          1
         ],
         "y": [
          38,
          298
         ]
        }
       ],
       "layout": {
        "bargap": 0.2,
        "xaxis": {
         "ticktext": [
          "No",
          "Sí"
         ],
         "tickvals": [
          0,
          1
         ]
        }
       }
      },
      "text/html": [
       "<div id=\"24e95089-1a54-41e2-a7f8-98bec8df1dbc\" style=\"height: 525px; width: 100%;\" class=\"plotly-graph-div\"></div><script type=\"text/javascript\">require([\"plotly\"], function(Plotly) { window.PLOTLYENV=window.PLOTLYENV || {};window.PLOTLYENV.BASE_URL=\"https://plot.ly\";\n",
       "if (document.getElementById(\"24e95089-1a54-41e2-a7f8-98bec8df1dbc\")) {\n",
       "    Plotly.newPlot(\"24e95089-1a54-41e2-a7f8-98bec8df1dbc\", [{\"marker\": {\"color\": [\"rgb(213,62,79)\", \"rgb(252,141,89)\", \"rgb(254,224,139)\", \"rgb(230,245,152)\", \"rgb(153,213,148)\", \"rgb(50,136,189)\"]}, \"x\": [0, 1], \"y\": [38, 298], \"type\": \"bar\", \"uid\": \"6116e344-b8f6-48f4-b7e7-6e5ac8a97af7\"}], {\"bargap\": 0.2, \"xaxis\": {\"ticktext\": [\"No\", \"S\\u00ed\"], \"tickvals\": [0, 1]}}, {\"showLink\": false, \"linkText\": \"Export to plot.ly\", \"plotlyServerURL\": \"https://plot.ly\"}); \n",
       "}\n",
       "});</script><script type=\"text/javascript\">window.addEventListener(\"resize\", function(){if (document.getElementById(\"24e95089-1a54-41e2-a7f8-98bec8df1dbc\")) {window._Plotly.Plots.resize(document.getElementById(\"24e95089-1a54-41e2-a7f8-98bec8df1dbc\"));};})</script>"
      ],
      "text/vnd.plotly.v1+html": [
       "<div id=\"24e95089-1a54-41e2-a7f8-98bec8df1dbc\" style=\"height: 525px; width: 100%;\" class=\"plotly-graph-div\"></div><script type=\"text/javascript\">require([\"plotly\"], function(Plotly) { window.PLOTLYENV=window.PLOTLYENV || {};window.PLOTLYENV.BASE_URL=\"https://plot.ly\";\n",
       "if (document.getElementById(\"24e95089-1a54-41e2-a7f8-98bec8df1dbc\")) {\n",
       "    Plotly.newPlot(\"24e95089-1a54-41e2-a7f8-98bec8df1dbc\", [{\"marker\": {\"color\": [\"rgb(213,62,79)\", \"rgb(252,141,89)\", \"rgb(254,224,139)\", \"rgb(230,245,152)\", \"rgb(153,213,148)\", \"rgb(50,136,189)\"]}, \"x\": [0, 1], \"y\": [38, 298], \"type\": \"bar\", \"uid\": \"6116e344-b8f6-48f4-b7e7-6e5ac8a97af7\"}], {\"bargap\": 0.2, \"xaxis\": {\"ticktext\": [\"No\", \"S\\u00ed\"], \"tickvals\": [0, 1]}}, {\"showLink\": false, \"linkText\": \"Export to plot.ly\", \"plotlyServerURL\": \"https://plot.ly\"}); \n",
       "}\n",
       "});</script><script type=\"text/javascript\">window.addEventListener(\"resize\", function(){if (document.getElementById(\"24e95089-1a54-41e2-a7f8-98bec8df1dbc\")) {window._Plotly.Plots.resize(document.getElementById(\"24e95089-1a54-41e2-a7f8-98bec8df1dbc\"));};})</script>"
      ]
     },
     "metadata": {},
     "output_type": "display_data"
    },
    {
     "name": "stdout",
     "output_type": "stream",
     "text": [
      "\n",
      "\n",
      "Cluster 5 || variable: ¿Qué tipo de aplicaciones utilizas en tu ordenador/tableta/móvil? (Respuesta múltiple) [5. Aplicaciones de vídeo (Youtube, Vimeo, etc.).]\n",
      "Describiendo la pregunta ¿Qué tipo de aplicaciones utilizas en tu ordenador/tableta/móvil? (Respuesta múltiple) [5. Aplicaciones de vídeo (Youtube, Vimeo, etc.).]\n",
      "Valores numéricos asociados a las respuestas [0, 1]\n",
      "Respuestas posibles a la pregunta/variable ['No', 'Sí']\n"
     ]
    },
    {
     "data": {
      "text/plain": [
       "count    336.000000\n",
       "mean       0.886905\n",
       "std        0.317182\n",
       "min        0.000000\n",
       "25%        1.000000\n",
       "50%        1.000000\n",
       "75%        1.000000\n",
       "max        1.000000\n",
       "Name: ¿Qué tipo de aplicaciones utilizas en tu ordenador/tableta/móvil? (Respuesta múltiple) [5. Aplicaciones de vídeo (Youtube, Vimeo, etc.).], dtype: float64"
      ]
     },
     "metadata": {},
     "output_type": "display_data"
    },
    {
     "name": "stdout",
     "output_type": "stream",
     "text": [
      "Conteo de cada valor en ¿Qué tipo de aplicaciones utilizas en tu ordenador/tableta/móvil? (Respuesta múltiple) [5. Aplicaciones de vídeo (Youtube, Vimeo, etc.).] expresada como valor / cantidad\n"
     ]
    },
    {
     "data": {
      "text/plain": [
       "0     38\n",
       "1    298\n",
       "Name: ¿Qué tipo de aplicaciones utilizas en tu ordenador/tableta/móvil? (Respuesta múltiple) [5. Aplicaciones de vídeo (Youtube, Vimeo, etc.).], dtype: int64"
      ]
     },
     "metadata": {},
     "output_type": "display_data"
    },
    {
     "name": "stdout",
     "output_type": "stream",
     "text": [
      "Porcentaje de cada valor en ¿Qué tipo de aplicaciones utilizas en tu ordenador/tableta/móvil? (Respuesta múltiple) [5. Aplicaciones de vídeo (Youtube, Vimeo, etc.).] expresado como valor / porcentaje\n"
     ]
    },
    {
     "data": {
      "text/plain": [
       "0    11.31\n",
       "1    88.69\n",
       "Name: ¿Qué tipo de aplicaciones utilizas en tu ordenador/tableta/móvil? (Respuesta múltiple) [5. Aplicaciones de vídeo (Youtube, Vimeo, etc.).], dtype: float64"
      ]
     },
     "metadata": {},
     "output_type": "display_data"
    },
    {
     "data": {
      "application/vnd.plotly.v1+json": {
       "config": {
        "linkText": "Export to plot.ly",
        "plotlyServerURL": "https://plot.ly",
        "showLink": false
       },
       "data": [
        {
         "marker": {
          "color": [
           "rgb(213,62,79)",
           "rgb(252,141,89)",
           "rgb(254,224,139)",
           "rgb(230,245,152)",
           "rgb(153,213,148)",
           "rgb(50,136,189)"
          ]
         },
         "type": "bar",
         "uid": "b97214f7-c0f3-4a86-b615-18d6a9656b23",
         "x": [
          0,
          1
         ],
         "y": [
          38,
          298
         ]
        }
       ],
       "layout": {
        "bargap": 0.2,
        "xaxis": {
         "ticktext": [
          "No",
          "Sí"
         ],
         "tickvals": [
          0,
          1
         ]
        }
       }
      },
      "text/html": [
       "<div id=\"362f1777-7abd-4f88-bf7b-f002b5f45c7c\" style=\"height: 525px; width: 100%;\" class=\"plotly-graph-div\"></div><script type=\"text/javascript\">require([\"plotly\"], function(Plotly) { window.PLOTLYENV=window.PLOTLYENV || {};window.PLOTLYENV.BASE_URL=\"https://plot.ly\";\n",
       "if (document.getElementById(\"362f1777-7abd-4f88-bf7b-f002b5f45c7c\")) {\n",
       "    Plotly.newPlot(\"362f1777-7abd-4f88-bf7b-f002b5f45c7c\", [{\"marker\": {\"color\": [\"rgb(213,62,79)\", \"rgb(252,141,89)\", \"rgb(254,224,139)\", \"rgb(230,245,152)\", \"rgb(153,213,148)\", \"rgb(50,136,189)\"]}, \"x\": [0, 1], \"y\": [38, 298], \"type\": \"bar\", \"uid\": \"b97214f7-c0f3-4a86-b615-18d6a9656b23\"}], {\"bargap\": 0.2, \"xaxis\": {\"ticktext\": [\"No\", \"S\\u00ed\"], \"tickvals\": [0, 1]}}, {\"showLink\": false, \"linkText\": \"Export to plot.ly\", \"plotlyServerURL\": \"https://plot.ly\"}); \n",
       "}\n",
       "});</script><script type=\"text/javascript\">window.addEventListener(\"resize\", function(){if (document.getElementById(\"362f1777-7abd-4f88-bf7b-f002b5f45c7c\")) {window._Plotly.Plots.resize(document.getElementById(\"362f1777-7abd-4f88-bf7b-f002b5f45c7c\"));};})</script>"
      ],
      "text/vnd.plotly.v1+html": [
       "<div id=\"362f1777-7abd-4f88-bf7b-f002b5f45c7c\" style=\"height: 525px; width: 100%;\" class=\"plotly-graph-div\"></div><script type=\"text/javascript\">require([\"plotly\"], function(Plotly) { window.PLOTLYENV=window.PLOTLYENV || {};window.PLOTLYENV.BASE_URL=\"https://plot.ly\";\n",
       "if (document.getElementById(\"362f1777-7abd-4f88-bf7b-f002b5f45c7c\")) {\n",
       "    Plotly.newPlot(\"362f1777-7abd-4f88-bf7b-f002b5f45c7c\", [{\"marker\": {\"color\": [\"rgb(213,62,79)\", \"rgb(252,141,89)\", \"rgb(254,224,139)\", \"rgb(230,245,152)\", \"rgb(153,213,148)\", \"rgb(50,136,189)\"]}, \"x\": [0, 1], \"y\": [38, 298], \"type\": \"bar\", \"uid\": \"b97214f7-c0f3-4a86-b615-18d6a9656b23\"}], {\"bargap\": 0.2, \"xaxis\": {\"ticktext\": [\"No\", \"S\\u00ed\"], \"tickvals\": [0, 1]}}, {\"showLink\": false, \"linkText\": \"Export to plot.ly\", \"plotlyServerURL\": \"https://plot.ly\"}); \n",
       "}\n",
       "});</script><script type=\"text/javascript\">window.addEventListener(\"resize\", function(){if (document.getElementById(\"362f1777-7abd-4f88-bf7b-f002b5f45c7c\")) {window._Plotly.Plots.resize(document.getElementById(\"362f1777-7abd-4f88-bf7b-f002b5f45c7c\"));};})</script>"
      ]
     },
     "metadata": {},
     "output_type": "display_data"
    },
    {
     "name": "stdout",
     "output_type": "stream",
     "text": [
      "\n",
      "\n",
      "Cluster 5 || variable: ¿Qué tipo de aplicaciones utilizas en tu ordenador/tableta/móvil? (Respuesta múltiple) [Otro]\n",
      "Describiendo la pregunta ¿Qué tipo de aplicaciones utilizas en tu ordenador/tableta/móvil? (Respuesta múltiple) [Otro]\n",
      "\n",
      "\n",
      "Cluster 5 || variable: Durante ese uso, ¿cuántas imágenes consumes (ves y compartes)?\n",
      "Describiendo la pregunta Durante ese uso, ¿cuántas imágenes consumes (ves y compartes)?\n",
      "Valores numéricos asociados a las respuestas [1, 2, 3, 4, 5]\n",
      "Respuestas posibles a la pregunta/variable ['1. Ninguna', '2. Pocas', '3. Ni muchas ni pocas', '4. Bastantes', '5. Recibo y envio imágenes de forma constante']\n"
     ]
    },
    {
     "data": {
      "text/plain": [
       "count    336.000000\n",
       "mean       4.101190\n",
       "std        0.717707\n",
       "min        2.000000\n",
       "25%        4.000000\n",
       "50%        4.000000\n",
       "75%        5.000000\n",
       "max        5.000000\n",
       "Name: Durante ese uso, ¿cuántas imágenes consumes (ves y compartes)?, dtype: float64"
      ]
     },
     "metadata": {},
     "output_type": "display_data"
    },
    {
     "name": "stdout",
     "output_type": "stream",
     "text": [
      "Conteo de cada valor en Durante ese uso, ¿cuántas imágenes consumes (ves y compartes)? expresada como valor / cantidad\n"
     ]
    },
    {
     "data": {
      "text/plain": [
       "2     10\n",
       "3     41\n",
       "4    190\n",
       "5     95\n",
       "Name: Durante ese uso, ¿cuántas imágenes consumes (ves y compartes)?, dtype: int64"
      ]
     },
     "metadata": {},
     "output_type": "display_data"
    },
    {
     "name": "stdout",
     "output_type": "stream",
     "text": [
      "Porcentaje de cada valor en Durante ese uso, ¿cuántas imágenes consumes (ves y compartes)? expresado como valor / porcentaje\n"
     ]
    },
    {
     "data": {
      "text/plain": [
       "2     2.98\n",
       "3    12.20\n",
       "4    56.55\n",
       "5    28.27\n",
       "Name: Durante ese uso, ¿cuántas imágenes consumes (ves y compartes)?, dtype: float64"
      ]
     },
     "metadata": {},
     "output_type": "display_data"
    },
    {
     "data": {
      "application/vnd.plotly.v1+json": {
       "config": {
        "linkText": "Export to plot.ly",
        "plotlyServerURL": "https://plot.ly",
        "showLink": false
       },
       "data": [
        {
         "marker": {
          "color": [
           "rgb(213,62,79)",
           "rgb(252,141,89)",
           "rgb(254,224,139)",
           "rgb(230,245,152)",
           "rgb(153,213,148)",
           "rgb(50,136,189)"
          ]
         },
         "type": "bar",
         "uid": "f1838e87-8998-4749-91e0-f7eefcaa9006",
         "x": [
          2,
          3,
          4,
          5
         ],
         "y": [
          10,
          41,
          190,
          95
         ]
        }
       ],
       "layout": {
        "bargap": 0.2,
        "xaxis": {
         "ticktext": [
          "1. Ninguna",
          "2. Pocas",
          "3. Ni muchas ni pocas",
          "4. Bastantes",
          "5. Recibo y envio imágenes de forma constante"
         ],
         "tickvals": [
          1,
          2,
          3,
          4,
          5
         ]
        }
       }
      },
      "text/html": [
       "<div id=\"b903841d-03d0-4bcb-a9ef-4f23198c7976\" style=\"height: 525px; width: 100%;\" class=\"plotly-graph-div\"></div><script type=\"text/javascript\">require([\"plotly\"], function(Plotly) { window.PLOTLYENV=window.PLOTLYENV || {};window.PLOTLYENV.BASE_URL=\"https://plot.ly\";\n",
       "if (document.getElementById(\"b903841d-03d0-4bcb-a9ef-4f23198c7976\")) {\n",
       "    Plotly.newPlot(\"b903841d-03d0-4bcb-a9ef-4f23198c7976\", [{\"marker\": {\"color\": [\"rgb(213,62,79)\", \"rgb(252,141,89)\", \"rgb(254,224,139)\", \"rgb(230,245,152)\", \"rgb(153,213,148)\", \"rgb(50,136,189)\"]}, \"x\": [2, 3, 4, 5], \"y\": [10, 41, 190, 95], \"type\": \"bar\", \"uid\": \"f1838e87-8998-4749-91e0-f7eefcaa9006\"}], {\"bargap\": 0.2, \"xaxis\": {\"ticktext\": [\"1. Ninguna\", \"2. Pocas\", \"3. Ni muchas ni pocas\", \"4. Bastantes\", \"5. Recibo y envio im\\u00e1genes de forma constante\"], \"tickvals\": [1, 2, 3, 4, 5]}}, {\"showLink\": false, \"linkText\": \"Export to plot.ly\", \"plotlyServerURL\": \"https://plot.ly\"}); \n",
       "}\n",
       "});</script><script type=\"text/javascript\">window.addEventListener(\"resize\", function(){if (document.getElementById(\"b903841d-03d0-4bcb-a9ef-4f23198c7976\")) {window._Plotly.Plots.resize(document.getElementById(\"b903841d-03d0-4bcb-a9ef-4f23198c7976\"));};})</script>"
      ],
      "text/vnd.plotly.v1+html": [
       "<div id=\"b903841d-03d0-4bcb-a9ef-4f23198c7976\" style=\"height: 525px; width: 100%;\" class=\"plotly-graph-div\"></div><script type=\"text/javascript\">require([\"plotly\"], function(Plotly) { window.PLOTLYENV=window.PLOTLYENV || {};window.PLOTLYENV.BASE_URL=\"https://plot.ly\";\n",
       "if (document.getElementById(\"b903841d-03d0-4bcb-a9ef-4f23198c7976\")) {\n",
       "    Plotly.newPlot(\"b903841d-03d0-4bcb-a9ef-4f23198c7976\", [{\"marker\": {\"color\": [\"rgb(213,62,79)\", \"rgb(252,141,89)\", \"rgb(254,224,139)\", \"rgb(230,245,152)\", \"rgb(153,213,148)\", \"rgb(50,136,189)\"]}, \"x\": [2, 3, 4, 5], \"y\": [10, 41, 190, 95], \"type\": \"bar\", \"uid\": \"f1838e87-8998-4749-91e0-f7eefcaa9006\"}], {\"bargap\": 0.2, \"xaxis\": {\"ticktext\": [\"1. Ninguna\", \"2. Pocas\", \"3. Ni muchas ni pocas\", \"4. Bastantes\", \"5. Recibo y envio im\\u00e1genes de forma constante\"], \"tickvals\": [1, 2, 3, 4, 5]}}, {\"showLink\": false, \"linkText\": \"Export to plot.ly\", \"plotlyServerURL\": \"https://plot.ly\"}); \n",
       "}\n",
       "});</script><script type=\"text/javascript\">window.addEventListener(\"resize\", function(){if (document.getElementById(\"b903841d-03d0-4bcb-a9ef-4f23198c7976\")) {window._Plotly.Plots.resize(document.getElementById(\"b903841d-03d0-4bcb-a9ef-4f23198c7976\"));};})</script>"
      ]
     },
     "metadata": {},
     "output_type": "display_data"
    },
    {
     "name": "stdout",
     "output_type": "stream",
     "text": [
      "\n",
      "\n",
      "Cluster 5 || variable: ¿Cuál es tu herramienta habitual de consumo de imágenes?\n",
      "Describiendo la pregunta ¿Cuál es tu herramienta habitual de consumo de imágenes?\n",
      "Valores numéricos asociados a las respuestas [1, 2, 3, 4, 5]\n",
      "Respuestas posibles a la pregunta/variable ['1. Móvil', '2. Televisión', '3. Ordenador', '4. Tableta', '5. Otros (Libros y periódicos en papel, marquesinas, museos...)']\n"
     ]
    },
    {
     "data": {
      "text/plain": [
       "count    336.000000\n",
       "mean       1.863095\n",
       "std        1.021708\n",
       "min        1.000000\n",
       "25%        1.000000\n",
       "50%        1.000000\n",
       "75%        3.000000\n",
       "max        4.000000\n",
       "Name: ¿Cuál es tu herramienta habitual de consumo de imágenes?, dtype: float64"
      ]
     },
     "metadata": {},
     "output_type": "display_data"
    },
    {
     "name": "stdout",
     "output_type": "stream",
     "text": [
      "Conteo de cada valor en ¿Cuál es tu herramienta habitual de consumo de imágenes? expresada como valor / cantidad\n"
     ]
    },
    {
     "data": {
      "text/plain": [
       "1    187\n",
       "2     22\n",
       "3    113\n",
       "4     14\n",
       "Name: ¿Cuál es tu herramienta habitual de consumo de imágenes?, dtype: int64"
      ]
     },
     "metadata": {},
     "output_type": "display_data"
    },
    {
     "name": "stdout",
     "output_type": "stream",
     "text": [
      "Porcentaje de cada valor en ¿Cuál es tu herramienta habitual de consumo de imágenes? expresado como valor / porcentaje\n"
     ]
    },
    {
     "data": {
      "text/plain": [
       "1    55.65\n",
       "2     6.55\n",
       "3    33.63\n",
       "4     4.17\n",
       "Name: ¿Cuál es tu herramienta habitual de consumo de imágenes?, dtype: float64"
      ]
     },
     "metadata": {},
     "output_type": "display_data"
    },
    {
     "data": {
      "application/vnd.plotly.v1+json": {
       "config": {
        "linkText": "Export to plot.ly",
        "plotlyServerURL": "https://plot.ly",
        "showLink": false
       },
       "data": [
        {
         "marker": {
          "color": [
           "rgb(213,62,79)",
           "rgb(252,141,89)",
           "rgb(254,224,139)",
           "rgb(230,245,152)",
           "rgb(153,213,148)",
           "rgb(50,136,189)"
          ]
         },
         "type": "bar",
         "uid": "e9326e8d-dfb1-451a-8f39-891328241421",
         "x": [
          1,
          2,
          3,
          4
         ],
         "y": [
          187,
          22,
          113,
          14
         ]
        }
       ],
       "layout": {
        "bargap": 0.2,
        "xaxis": {
         "ticktext": [
          "1. Móvil",
          "2. Televisión",
          "3. Ordenador",
          "4. Tableta",
          "5. Otros (Libros y periódicos en papel, marquesinas, museos...)"
         ],
         "tickvals": [
          1,
          2,
          3,
          4,
          5
         ]
        }
       }
      },
      "text/html": [
       "<div id=\"2ef9e108-2808-4262-bf91-92c84a826e79\" style=\"height: 525px; width: 100%;\" class=\"plotly-graph-div\"></div><script type=\"text/javascript\">require([\"plotly\"], function(Plotly) { window.PLOTLYENV=window.PLOTLYENV || {};window.PLOTLYENV.BASE_URL=\"https://plot.ly\";\n",
       "if (document.getElementById(\"2ef9e108-2808-4262-bf91-92c84a826e79\")) {\n",
       "    Plotly.newPlot(\"2ef9e108-2808-4262-bf91-92c84a826e79\", [{\"marker\": {\"color\": [\"rgb(213,62,79)\", \"rgb(252,141,89)\", \"rgb(254,224,139)\", \"rgb(230,245,152)\", \"rgb(153,213,148)\", \"rgb(50,136,189)\"]}, \"x\": [1, 2, 3, 4], \"y\": [187, 22, 113, 14], \"type\": \"bar\", \"uid\": \"e9326e8d-dfb1-451a-8f39-891328241421\"}], {\"bargap\": 0.2, \"xaxis\": {\"ticktext\": [\"1. M\\u00f3vil\", \"2. Televisi\\u00f3n\", \"3. Ordenador\", \"4. Tableta\", \"5. Otros (Libros y peri\\u00f3dicos en papel, marquesinas, museos...)\"], \"tickvals\": [1, 2, 3, 4, 5]}}, {\"showLink\": false, \"linkText\": \"Export to plot.ly\", \"plotlyServerURL\": \"https://plot.ly\"}); \n",
       "}\n",
       "});</script><script type=\"text/javascript\">window.addEventListener(\"resize\", function(){if (document.getElementById(\"2ef9e108-2808-4262-bf91-92c84a826e79\")) {window._Plotly.Plots.resize(document.getElementById(\"2ef9e108-2808-4262-bf91-92c84a826e79\"));};})</script>"
      ],
      "text/vnd.plotly.v1+html": [
       "<div id=\"2ef9e108-2808-4262-bf91-92c84a826e79\" style=\"height: 525px; width: 100%;\" class=\"plotly-graph-div\"></div><script type=\"text/javascript\">require([\"plotly\"], function(Plotly) { window.PLOTLYENV=window.PLOTLYENV || {};window.PLOTLYENV.BASE_URL=\"https://plot.ly\";\n",
       "if (document.getElementById(\"2ef9e108-2808-4262-bf91-92c84a826e79\")) {\n",
       "    Plotly.newPlot(\"2ef9e108-2808-4262-bf91-92c84a826e79\", [{\"marker\": {\"color\": [\"rgb(213,62,79)\", \"rgb(252,141,89)\", \"rgb(254,224,139)\", \"rgb(230,245,152)\", \"rgb(153,213,148)\", \"rgb(50,136,189)\"]}, \"x\": [1, 2, 3, 4], \"y\": [187, 22, 113, 14], \"type\": \"bar\", \"uid\": \"e9326e8d-dfb1-451a-8f39-891328241421\"}], {\"bargap\": 0.2, \"xaxis\": {\"ticktext\": [\"1. M\\u00f3vil\", \"2. Televisi\\u00f3n\", \"3. Ordenador\", \"4. Tableta\", \"5. Otros (Libros y peri\\u00f3dicos en papel, marquesinas, museos...)\"], \"tickvals\": [1, 2, 3, 4, 5]}}, {\"showLink\": false, \"linkText\": \"Export to plot.ly\", \"plotlyServerURL\": \"https://plot.ly\"}); \n",
       "}\n",
       "});</script><script type=\"text/javascript\">window.addEventListener(\"resize\", function(){if (document.getElementById(\"2ef9e108-2808-4262-bf91-92c84a826e79\")) {window._Plotly.Plots.resize(document.getElementById(\"2ef9e108-2808-4262-bf91-92c84a826e79\"));};})</script>"
      ]
     },
     "metadata": {},
     "output_type": "display_data"
    },
    {
     "name": "stdout",
     "output_type": "stream",
     "text": [
      "\n",
      "\n",
      "Cluster 5 || variable: ¿Cada cuánto tiempo consumes imágenes?\n",
      "Describiendo la pregunta ¿Cada cuánto tiempo consumes imágenes?\n",
      "Valores numéricos asociados a las respuestas [1, 2, 3, 4]\n",
      "Respuestas posibles a la pregunta/variable ['1. Nunca', '2. Dos o tres veces por semana', '3. Casi todos los días', '4. A diario']\n"
     ]
    },
    {
     "data": {
      "text/plain": [
       "count    336.000000\n",
       "mean       3.693452\n",
       "std        0.555638\n",
       "min        2.000000\n",
       "25%        3.000000\n",
       "50%        4.000000\n",
       "75%        4.000000\n",
       "max        4.000000\n",
       "Name: ¿Cada cuánto tiempo consumes imágenes?, dtype: float64"
      ]
     },
     "metadata": {},
     "output_type": "display_data"
    },
    {
     "name": "stdout",
     "output_type": "stream",
     "text": [
      "Conteo de cada valor en ¿Cada cuánto tiempo consumes imágenes? expresada como valor / cantidad\n"
     ]
    },
    {
     "data": {
      "text/plain": [
       "2     16\n",
       "3     71\n",
       "4    249\n",
       "Name: ¿Cada cuánto tiempo consumes imágenes?, dtype: int64"
      ]
     },
     "metadata": {},
     "output_type": "display_data"
    },
    {
     "name": "stdout",
     "output_type": "stream",
     "text": [
      "Porcentaje de cada valor en ¿Cada cuánto tiempo consumes imágenes? expresado como valor / porcentaje\n"
     ]
    },
    {
     "data": {
      "text/plain": [
       "2     4.76\n",
       "3    21.13\n",
       "4    74.11\n",
       "Name: ¿Cada cuánto tiempo consumes imágenes?, dtype: float64"
      ]
     },
     "metadata": {},
     "output_type": "display_data"
    },
    {
     "data": {
      "application/vnd.plotly.v1+json": {
       "config": {
        "linkText": "Export to plot.ly",
        "plotlyServerURL": "https://plot.ly",
        "showLink": false
       },
       "data": [
        {
         "marker": {
          "color": [
           "rgb(213,62,79)",
           "rgb(252,141,89)",
           "rgb(254,224,139)",
           "rgb(230,245,152)",
           "rgb(153,213,148)",
           "rgb(50,136,189)"
          ]
         },
         "type": "bar",
         "uid": "913e542c-2afc-40e9-9dfd-e0c78116017e",
         "x": [
          2,
          3,
          4
         ],
         "y": [
          16,
          71,
          249
         ]
        }
       ],
       "layout": {
        "bargap": 0.2,
        "xaxis": {
         "ticktext": [
          "1. Nunca",
          "2. Dos o tres veces por semana",
          "3. Casi todos los días",
          "4. A diario"
         ],
         "tickvals": [
          1,
          2,
          3,
          4
         ]
        }
       }
      },
      "text/html": [
       "<div id=\"55e983a6-74ea-4f47-844b-413397ac52b4\" style=\"height: 525px; width: 100%;\" class=\"plotly-graph-div\"></div><script type=\"text/javascript\">require([\"plotly\"], function(Plotly) { window.PLOTLYENV=window.PLOTLYENV || {};window.PLOTLYENV.BASE_URL=\"https://plot.ly\";\n",
       "if (document.getElementById(\"55e983a6-74ea-4f47-844b-413397ac52b4\")) {\n",
       "    Plotly.newPlot(\"55e983a6-74ea-4f47-844b-413397ac52b4\", [{\"marker\": {\"color\": [\"rgb(213,62,79)\", \"rgb(252,141,89)\", \"rgb(254,224,139)\", \"rgb(230,245,152)\", \"rgb(153,213,148)\", \"rgb(50,136,189)\"]}, \"x\": [2, 3, 4], \"y\": [16, 71, 249], \"type\": \"bar\", \"uid\": \"913e542c-2afc-40e9-9dfd-e0c78116017e\"}], {\"bargap\": 0.2, \"xaxis\": {\"ticktext\": [\"1. Nunca\", \"2. Dos o tres veces por semana\", \"3. Casi todos los d\\u00edas\", \"4. A diario\"], \"tickvals\": [1, 2, 3, 4]}}, {\"showLink\": false, \"linkText\": \"Export to plot.ly\", \"plotlyServerURL\": \"https://plot.ly\"}); \n",
       "}\n",
       "});</script><script type=\"text/javascript\">window.addEventListener(\"resize\", function(){if (document.getElementById(\"55e983a6-74ea-4f47-844b-413397ac52b4\")) {window._Plotly.Plots.resize(document.getElementById(\"55e983a6-74ea-4f47-844b-413397ac52b4\"));};})</script>"
      ],
      "text/vnd.plotly.v1+html": [
       "<div id=\"55e983a6-74ea-4f47-844b-413397ac52b4\" style=\"height: 525px; width: 100%;\" class=\"plotly-graph-div\"></div><script type=\"text/javascript\">require([\"plotly\"], function(Plotly) { window.PLOTLYENV=window.PLOTLYENV || {};window.PLOTLYENV.BASE_URL=\"https://plot.ly\";\n",
       "if (document.getElementById(\"55e983a6-74ea-4f47-844b-413397ac52b4\")) {\n",
       "    Plotly.newPlot(\"55e983a6-74ea-4f47-844b-413397ac52b4\", [{\"marker\": {\"color\": [\"rgb(213,62,79)\", \"rgb(252,141,89)\", \"rgb(254,224,139)\", \"rgb(230,245,152)\", \"rgb(153,213,148)\", \"rgb(50,136,189)\"]}, \"x\": [2, 3, 4], \"y\": [16, 71, 249], \"type\": \"bar\", \"uid\": \"913e542c-2afc-40e9-9dfd-e0c78116017e\"}], {\"bargap\": 0.2, \"xaxis\": {\"ticktext\": [\"1. Nunca\", \"2. Dos o tres veces por semana\", \"3. Casi todos los d\\u00edas\", \"4. A diario\"], \"tickvals\": [1, 2, 3, 4]}}, {\"showLink\": false, \"linkText\": \"Export to plot.ly\", \"plotlyServerURL\": \"https://plot.ly\"}); \n",
       "}\n",
       "});</script><script type=\"text/javascript\">window.addEventListener(\"resize\", function(){if (document.getElementById(\"55e983a6-74ea-4f47-844b-413397ac52b4\")) {window._Plotly.Plots.resize(document.getElementById(\"55e983a6-74ea-4f47-844b-413397ac52b4\"));};})</script>"
      ]
     },
     "metadata": {},
     "output_type": "display_data"
    },
    {
     "name": "stdout",
     "output_type": "stream",
     "text": [
      "\n",
      "\n",
      "Cluster 2 || variable: Clasifica tu grado de visión\n",
      "Describiendo la pregunta Clasifica tu grado de visión\n",
      "Valores numéricos asociados a las respuestas [1, 2, 3, 4, 5]\n",
      "Respuestas posibles a la pregunta/variable ['1. Muy malo', '2. Malo', '3. Regular', '4. Bueno', '5. Muy bueno']\n"
     ]
    },
    {
     "data": {
      "text/plain": [
       "count    196.000000\n",
       "mean       3.994898\n",
       "std        0.838175\n",
       "min        1.000000\n",
       "25%        3.000000\n",
       "50%        4.000000\n",
       "75%        5.000000\n",
       "max        5.000000\n",
       "Name: Clasifica tu grado de visión, dtype: float64"
      ]
     },
     "metadata": {},
     "output_type": "display_data"
    },
    {
     "name": "stdout",
     "output_type": "stream",
     "text": [
      "Conteo de cada valor en Clasifica tu grado de visión expresada como valor / cantidad\n"
     ]
    },
    {
     "data": {
      "text/plain": [
       "1     2\n",
       "2     4\n",
       "3    45\n",
       "4    87\n",
       "5    58\n",
       "Name: Clasifica tu grado de visión, dtype: int64"
      ]
     },
     "metadata": {},
     "output_type": "display_data"
    },
    {
     "name": "stdout",
     "output_type": "stream",
     "text": [
      "Porcentaje de cada valor en Clasifica tu grado de visión expresado como valor / porcentaje\n"
     ]
    },
    {
     "data": {
      "text/plain": [
       "1     1.02\n",
       "2     2.04\n",
       "3    22.96\n",
       "4    44.39\n",
       "5    29.59\n",
       "Name: Clasifica tu grado de visión, dtype: float64"
      ]
     },
     "metadata": {},
     "output_type": "display_data"
    },
    {
     "data": {
      "application/vnd.plotly.v1+json": {
       "config": {
        "linkText": "Export to plot.ly",
        "plotlyServerURL": "https://plot.ly",
        "showLink": false
       },
       "data": [
        {
         "marker": {
          "color": [
           "rgb(213,62,79)",
           "rgb(252,141,89)",
           "rgb(254,224,139)",
           "rgb(230,245,152)",
           "rgb(153,213,148)",
           "rgb(50,136,189)"
          ]
         },
         "type": "bar",
         "uid": "4c90c858-b3cd-4125-b2e1-66b99a8cd5db",
         "x": [
          1,
          2,
          3,
          4,
          5
         ],
         "y": [
          2,
          4,
          45,
          87,
          58
         ]
        }
       ],
       "layout": {
        "bargap": 0.2,
        "xaxis": {
         "ticktext": [
          "1. Muy malo",
          "2. Malo",
          "3. Regular",
          "4. Bueno",
          "5. Muy bueno"
         ],
         "tickvals": [
          1,
          2,
          3,
          4,
          5
         ]
        }
       }
      },
      "text/html": [
       "<div id=\"879f9a16-ec0c-429b-8fac-8853cba3b62e\" style=\"height: 525px; width: 100%;\" class=\"plotly-graph-div\"></div><script type=\"text/javascript\">require([\"plotly\"], function(Plotly) { window.PLOTLYENV=window.PLOTLYENV || {};window.PLOTLYENV.BASE_URL=\"https://plot.ly\";\n",
       "if (document.getElementById(\"879f9a16-ec0c-429b-8fac-8853cba3b62e\")) {\n",
       "    Plotly.newPlot(\"879f9a16-ec0c-429b-8fac-8853cba3b62e\", [{\"marker\": {\"color\": [\"rgb(213,62,79)\", \"rgb(252,141,89)\", \"rgb(254,224,139)\", \"rgb(230,245,152)\", \"rgb(153,213,148)\", \"rgb(50,136,189)\"]}, \"x\": [1, 2, 3, 4, 5], \"y\": [2, 4, 45, 87, 58], \"type\": \"bar\", \"uid\": \"4c90c858-b3cd-4125-b2e1-66b99a8cd5db\"}], {\"bargap\": 0.2, \"xaxis\": {\"ticktext\": [\"1. Muy malo\", \"2. Malo\", \"3. Regular\", \"4. Bueno\", \"5. Muy bueno\"], \"tickvals\": [1, 2, 3, 4, 5]}}, {\"showLink\": false, \"linkText\": \"Export to plot.ly\", \"plotlyServerURL\": \"https://plot.ly\"}); \n",
       "}\n",
       "});</script><script type=\"text/javascript\">window.addEventListener(\"resize\", function(){if (document.getElementById(\"879f9a16-ec0c-429b-8fac-8853cba3b62e\")) {window._Plotly.Plots.resize(document.getElementById(\"879f9a16-ec0c-429b-8fac-8853cba3b62e\"));};})</script>"
      ],
      "text/vnd.plotly.v1+html": [
       "<div id=\"879f9a16-ec0c-429b-8fac-8853cba3b62e\" style=\"height: 525px; width: 100%;\" class=\"plotly-graph-div\"></div><script type=\"text/javascript\">require([\"plotly\"], function(Plotly) { window.PLOTLYENV=window.PLOTLYENV || {};window.PLOTLYENV.BASE_URL=\"https://plot.ly\";\n",
       "if (document.getElementById(\"879f9a16-ec0c-429b-8fac-8853cba3b62e\")) {\n",
       "    Plotly.newPlot(\"879f9a16-ec0c-429b-8fac-8853cba3b62e\", [{\"marker\": {\"color\": [\"rgb(213,62,79)\", \"rgb(252,141,89)\", \"rgb(254,224,139)\", \"rgb(230,245,152)\", \"rgb(153,213,148)\", \"rgb(50,136,189)\"]}, \"x\": [1, 2, 3, 4, 5], \"y\": [2, 4, 45, 87, 58], \"type\": \"bar\", \"uid\": \"4c90c858-b3cd-4125-b2e1-66b99a8cd5db\"}], {\"bargap\": 0.2, \"xaxis\": {\"ticktext\": [\"1. Muy malo\", \"2. Malo\", \"3. Regular\", \"4. Bueno\", \"5. Muy bueno\"], \"tickvals\": [1, 2, 3, 4, 5]}}, {\"showLink\": false, \"linkText\": \"Export to plot.ly\", \"plotlyServerURL\": \"https://plot.ly\"}); \n",
       "}\n",
       "});</script><script type=\"text/javascript\">window.addEventListener(\"resize\", function(){if (document.getElementById(\"879f9a16-ec0c-429b-8fac-8853cba3b62e\")) {window._Plotly.Plots.resize(document.getElementById(\"879f9a16-ec0c-429b-8fac-8853cba3b62e\"));};})</script>"
      ]
     },
     "metadata": {},
     "output_type": "display_data"
    },
    {
     "name": "stdout",
     "output_type": "stream",
     "text": [
      "\n",
      "\n",
      "Cluster 2 || variable: ¿Utilizas gafas o lentes de contacto?\n",
      "Describiendo la pregunta ¿Utilizas gafas o lentes de contacto?\n",
      "Valores numéricos asociados a las respuestas [0, 1]\n",
      "Respuestas posibles a la pregunta/variable ['No', 'Sí']\n"
     ]
    },
    {
     "data": {
      "text/plain": [
       "count    196.000000\n",
       "mean       0.418367\n",
       "std        0.494554\n",
       "min        0.000000\n",
       "25%        0.000000\n",
       "50%        0.000000\n",
       "75%        1.000000\n",
       "max        1.000000\n",
       "Name: ¿Utilizas gafas o lentes de contacto?, dtype: float64"
      ]
     },
     "metadata": {},
     "output_type": "display_data"
    },
    {
     "name": "stdout",
     "output_type": "stream",
     "text": [
      "Conteo de cada valor en ¿Utilizas gafas o lentes de contacto? expresada como valor / cantidad\n"
     ]
    },
    {
     "data": {
      "text/plain": [
       "0    114\n",
       "1     82\n",
       "Name: ¿Utilizas gafas o lentes de contacto?, dtype: int64"
      ]
     },
     "metadata": {},
     "output_type": "display_data"
    },
    {
     "name": "stdout",
     "output_type": "stream",
     "text": [
      "Porcentaje de cada valor en ¿Utilizas gafas o lentes de contacto? expresado como valor / porcentaje\n"
     ]
    },
    {
     "data": {
      "text/plain": [
       "0    58.16\n",
       "1    41.84\n",
       "Name: ¿Utilizas gafas o lentes de contacto?, dtype: float64"
      ]
     },
     "metadata": {},
     "output_type": "display_data"
    },
    {
     "data": {
      "application/vnd.plotly.v1+json": {
       "config": {
        "linkText": "Export to plot.ly",
        "plotlyServerURL": "https://plot.ly",
        "showLink": false
       },
       "data": [
        {
         "marker": {
          "color": [
           "rgb(213,62,79)",
           "rgb(252,141,89)",
           "rgb(254,224,139)",
           "rgb(230,245,152)",
           "rgb(153,213,148)",
           "rgb(50,136,189)"
          ]
         },
         "type": "bar",
         "uid": "67ea7922-ead2-4693-8836-1c92b9bae88f",
         "x": [
          0,
          1
         ],
         "y": [
          114,
          82
         ]
        }
       ],
       "layout": {
        "bargap": 0.2,
        "xaxis": {
         "ticktext": [
          "No",
          "Sí"
         ],
         "tickvals": [
          0,
          1
         ]
        }
       }
      },
      "text/html": [
       "<div id=\"b9c0ed64-c353-4fd9-99fb-614536d80b03\" style=\"height: 525px; width: 100%;\" class=\"plotly-graph-div\"></div><script type=\"text/javascript\">require([\"plotly\"], function(Plotly) { window.PLOTLYENV=window.PLOTLYENV || {};window.PLOTLYENV.BASE_URL=\"https://plot.ly\";\n",
       "if (document.getElementById(\"b9c0ed64-c353-4fd9-99fb-614536d80b03\")) {\n",
       "    Plotly.newPlot(\"b9c0ed64-c353-4fd9-99fb-614536d80b03\", [{\"marker\": {\"color\": [\"rgb(213,62,79)\", \"rgb(252,141,89)\", \"rgb(254,224,139)\", \"rgb(230,245,152)\", \"rgb(153,213,148)\", \"rgb(50,136,189)\"]}, \"x\": [0, 1], \"y\": [114, 82], \"type\": \"bar\", \"uid\": \"67ea7922-ead2-4693-8836-1c92b9bae88f\"}], {\"bargap\": 0.2, \"xaxis\": {\"ticktext\": [\"No\", \"S\\u00ed\"], \"tickvals\": [0, 1]}}, {\"showLink\": false, \"linkText\": \"Export to plot.ly\", \"plotlyServerURL\": \"https://plot.ly\"}); \n",
       "}\n",
       "});</script><script type=\"text/javascript\">window.addEventListener(\"resize\", function(){if (document.getElementById(\"b9c0ed64-c353-4fd9-99fb-614536d80b03\")) {window._Plotly.Plots.resize(document.getElementById(\"b9c0ed64-c353-4fd9-99fb-614536d80b03\"));};})</script>"
      ],
      "text/vnd.plotly.v1+html": [
       "<div id=\"b9c0ed64-c353-4fd9-99fb-614536d80b03\" style=\"height: 525px; width: 100%;\" class=\"plotly-graph-div\"></div><script type=\"text/javascript\">require([\"plotly\"], function(Plotly) { window.PLOTLYENV=window.PLOTLYENV || {};window.PLOTLYENV.BASE_URL=\"https://plot.ly\";\n",
       "if (document.getElementById(\"b9c0ed64-c353-4fd9-99fb-614536d80b03\")) {\n",
       "    Plotly.newPlot(\"b9c0ed64-c353-4fd9-99fb-614536d80b03\", [{\"marker\": {\"color\": [\"rgb(213,62,79)\", \"rgb(252,141,89)\", \"rgb(254,224,139)\", \"rgb(230,245,152)\", \"rgb(153,213,148)\", \"rgb(50,136,189)\"]}, \"x\": [0, 1], \"y\": [114, 82], \"type\": \"bar\", \"uid\": \"67ea7922-ead2-4693-8836-1c92b9bae88f\"}], {\"bargap\": 0.2, \"xaxis\": {\"ticktext\": [\"No\", \"S\\u00ed\"], \"tickvals\": [0, 1]}}, {\"showLink\": false, \"linkText\": \"Export to plot.ly\", \"plotlyServerURL\": \"https://plot.ly\"}); \n",
       "}\n",
       "});</script><script type=\"text/javascript\">window.addEventListener(\"resize\", function(){if (document.getElementById(\"b9c0ed64-c353-4fd9-99fb-614536d80b03\")) {window._Plotly.Plots.resize(document.getElementById(\"b9c0ed64-c353-4fd9-99fb-614536d80b03\"));};})</script>"
      ]
     },
     "metadata": {},
     "output_type": "display_data"
    },
    {
     "name": "stdout",
     "output_type": "stream",
     "text": [
      "\n",
      "\n",
      "Cluster 2 || variable: ¿Tienes alguna carencia visual que afecte a la recepción de formas, colores, distancias, etc.?\n",
      "Describiendo la pregunta ¿Tienes alguna carencia visual que afecte a la recepción de formas, colores, distancias, etc.?\n",
      "Valores numéricos asociados a las respuestas [0, 1]\n",
      "Respuestas posibles a la pregunta/variable ['No', 'Sí']\n"
     ]
    },
    {
     "data": {
      "text/plain": [
       "count    196.000000\n",
       "mean       0.071429\n",
       "std        0.258199\n",
       "min        0.000000\n",
       "25%        0.000000\n",
       "50%        0.000000\n",
       "75%        0.000000\n",
       "max        1.000000\n",
       "Name: ¿Tienes alguna carencia visual que afecte a la recepción de formas, colores, distancias, etc.?, dtype: float64"
      ]
     },
     "metadata": {},
     "output_type": "display_data"
    },
    {
     "name": "stdout",
     "output_type": "stream",
     "text": [
      "Conteo de cada valor en ¿Tienes alguna carencia visual que afecte a la recepción de formas, colores, distancias, etc.? expresada como valor / cantidad\n"
     ]
    },
    {
     "data": {
      "text/plain": [
       "0    182\n",
       "1     14\n",
       "Name: ¿Tienes alguna carencia visual que afecte a la recepción de formas, colores, distancias, etc.?, dtype: int64"
      ]
     },
     "metadata": {},
     "output_type": "display_data"
    },
    {
     "name": "stdout",
     "output_type": "stream",
     "text": [
      "Porcentaje de cada valor en ¿Tienes alguna carencia visual que afecte a la recepción de formas, colores, distancias, etc.? expresado como valor / porcentaje\n"
     ]
    },
    {
     "data": {
      "text/plain": [
       "0    92.86\n",
       "1     7.14\n",
       "Name: ¿Tienes alguna carencia visual que afecte a la recepción de formas, colores, distancias, etc.?, dtype: float64"
      ]
     },
     "metadata": {},
     "output_type": "display_data"
    },
    {
     "data": {
      "application/vnd.plotly.v1+json": {
       "config": {
        "linkText": "Export to plot.ly",
        "plotlyServerURL": "https://plot.ly",
        "showLink": false
       },
       "data": [
        {
         "marker": {
          "color": [
           "rgb(213,62,79)",
           "rgb(252,141,89)",
           "rgb(254,224,139)",
           "rgb(230,245,152)",
           "rgb(153,213,148)",
           "rgb(50,136,189)"
          ]
         },
         "type": "bar",
         "uid": "b212f581-88e4-44e8-99c7-8f0f8d0c7c1d",
         "x": [
          0,
          1
         ],
         "y": [
          182,
          14
         ]
        }
       ],
       "layout": {
        "bargap": 0.2,
        "xaxis": {
         "ticktext": [
          "No",
          "Sí"
         ],
         "tickvals": [
          0,
          1
         ]
        }
       }
      },
      "text/html": [
       "<div id=\"d9004078-4011-4efe-8bbb-d8f71c2e7271\" style=\"height: 525px; width: 100%;\" class=\"plotly-graph-div\"></div><script type=\"text/javascript\">require([\"plotly\"], function(Plotly) { window.PLOTLYENV=window.PLOTLYENV || {};window.PLOTLYENV.BASE_URL=\"https://plot.ly\";\n",
       "if (document.getElementById(\"d9004078-4011-4efe-8bbb-d8f71c2e7271\")) {\n",
       "    Plotly.newPlot(\"d9004078-4011-4efe-8bbb-d8f71c2e7271\", [{\"marker\": {\"color\": [\"rgb(213,62,79)\", \"rgb(252,141,89)\", \"rgb(254,224,139)\", \"rgb(230,245,152)\", \"rgb(153,213,148)\", \"rgb(50,136,189)\"]}, \"x\": [0, 1], \"y\": [182, 14], \"type\": \"bar\", \"uid\": \"b212f581-88e4-44e8-99c7-8f0f8d0c7c1d\"}], {\"bargap\": 0.2, \"xaxis\": {\"ticktext\": [\"No\", \"S\\u00ed\"], \"tickvals\": [0, 1]}}, {\"showLink\": false, \"linkText\": \"Export to plot.ly\", \"plotlyServerURL\": \"https://plot.ly\"}); \n",
       "}\n",
       "});</script><script type=\"text/javascript\">window.addEventListener(\"resize\", function(){if (document.getElementById(\"d9004078-4011-4efe-8bbb-d8f71c2e7271\")) {window._Plotly.Plots.resize(document.getElementById(\"d9004078-4011-4efe-8bbb-d8f71c2e7271\"));};})</script>"
      ],
      "text/vnd.plotly.v1+html": [
       "<div id=\"d9004078-4011-4efe-8bbb-d8f71c2e7271\" style=\"height: 525px; width: 100%;\" class=\"plotly-graph-div\"></div><script type=\"text/javascript\">require([\"plotly\"], function(Plotly) { window.PLOTLYENV=window.PLOTLYENV || {};window.PLOTLYENV.BASE_URL=\"https://plot.ly\";\n",
       "if (document.getElementById(\"d9004078-4011-4efe-8bbb-d8f71c2e7271\")) {\n",
       "    Plotly.newPlot(\"d9004078-4011-4efe-8bbb-d8f71c2e7271\", [{\"marker\": {\"color\": [\"rgb(213,62,79)\", \"rgb(252,141,89)\", \"rgb(254,224,139)\", \"rgb(230,245,152)\", \"rgb(153,213,148)\", \"rgb(50,136,189)\"]}, \"x\": [0, 1], \"y\": [182, 14], \"type\": \"bar\", \"uid\": \"b212f581-88e4-44e8-99c7-8f0f8d0c7c1d\"}], {\"bargap\": 0.2, \"xaxis\": {\"ticktext\": [\"No\", \"S\\u00ed\"], \"tickvals\": [0, 1]}}, {\"showLink\": false, \"linkText\": \"Export to plot.ly\", \"plotlyServerURL\": \"https://plot.ly\"}); \n",
       "}\n",
       "});</script><script type=\"text/javascript\">window.addEventListener(\"resize\", function(){if (document.getElementById(\"d9004078-4011-4efe-8bbb-d8f71c2e7271\")) {window._Plotly.Plots.resize(document.getElementById(\"d9004078-4011-4efe-8bbb-d8f71c2e7271\"));};})</script>"
      ]
     },
     "metadata": {},
     "output_type": "display_data"
    },
    {
     "name": "stdout",
     "output_type": "stream",
     "text": [
      "\n",
      "\n",
      "Cluster 2 || variable: ¿Tienes acceso a dispositivos (ordenador, móvil, tablet, etc.) conectados a Internet habitualmente?\n",
      "Describiendo la pregunta ¿Tienes acceso a dispositivos (ordenador, móvil, tablet, etc.) conectados a Internet habitualmente?\n",
      "Valores numéricos asociados a las respuestas [1, 2, 3, 4, 5]\n",
      "Respuestas posibles a la pregunta/variable ['1. Nunca', '2. Ocasionalmente', '3. Semanalmente', '4. Diariamente', '5. Varias veces al día']\n"
     ]
    },
    {
     "data": {
      "text/plain": [
       "count    196.000000\n",
       "mean       4.484694\n",
       "std        0.682958\n",
       "min        2.000000\n",
       "25%        4.000000\n",
       "50%        5.000000\n",
       "75%        5.000000\n",
       "max        5.000000\n",
       "Name: ¿Tienes acceso a dispositivos (ordenador, móvil, tablet, etc.) conectados a Internet habitualmente?, dtype: float64"
      ]
     },
     "metadata": {},
     "output_type": "display_data"
    },
    {
     "name": "stdout",
     "output_type": "stream",
     "text": [
      "Conteo de cada valor en ¿Tienes acceso a dispositivos (ordenador, móvil, tablet, etc.) conectados a Internet habitualmente? expresada como valor / cantidad\n"
     ]
    },
    {
     "data": {
      "text/plain": [
       "2      4\n",
       "3      9\n",
       "4     71\n",
       "5    112\n",
       "Name: ¿Tienes acceso a dispositivos (ordenador, móvil, tablet, etc.) conectados a Internet habitualmente?, dtype: int64"
      ]
     },
     "metadata": {},
     "output_type": "display_data"
    },
    {
     "name": "stdout",
     "output_type": "stream",
     "text": [
      "Porcentaje de cada valor en ¿Tienes acceso a dispositivos (ordenador, móvil, tablet, etc.) conectados a Internet habitualmente? expresado como valor / porcentaje\n"
     ]
    },
    {
     "data": {
      "text/plain": [
       "2     2.04\n",
       "3     4.59\n",
       "4    36.22\n",
       "5    57.14\n",
       "Name: ¿Tienes acceso a dispositivos (ordenador, móvil, tablet, etc.) conectados a Internet habitualmente?, dtype: float64"
      ]
     },
     "metadata": {},
     "output_type": "display_data"
    },
    {
     "data": {
      "application/vnd.plotly.v1+json": {
       "config": {
        "linkText": "Export to plot.ly",
        "plotlyServerURL": "https://plot.ly",
        "showLink": false
       },
       "data": [
        {
         "marker": {
          "color": [
           "rgb(213,62,79)",
           "rgb(252,141,89)",
           "rgb(254,224,139)",
           "rgb(230,245,152)",
           "rgb(153,213,148)",
           "rgb(50,136,189)"
          ]
         },
         "type": "bar",
         "uid": "9b1810fb-d398-438b-a283-ddf3adf90552",
         "x": [
          2,
          3,
          4,
          5
         ],
         "y": [
          4,
          9,
          71,
          112
         ]
        }
       ],
       "layout": {
        "bargap": 0.2,
        "xaxis": {
         "ticktext": [
          "1. Nunca",
          "2. Ocasionalmente",
          "3. Semanalmente",
          "4. Diariamente",
          "5. Varias veces al día"
         ],
         "tickvals": [
          1,
          2,
          3,
          4,
          5
         ]
        }
       }
      },
      "text/html": [
       "<div id=\"a60aa50d-d47e-473b-9378-03fc0dc5a9c4\" style=\"height: 525px; width: 100%;\" class=\"plotly-graph-div\"></div><script type=\"text/javascript\">require([\"plotly\"], function(Plotly) { window.PLOTLYENV=window.PLOTLYENV || {};window.PLOTLYENV.BASE_URL=\"https://plot.ly\";\n",
       "if (document.getElementById(\"a60aa50d-d47e-473b-9378-03fc0dc5a9c4\")) {\n",
       "    Plotly.newPlot(\"a60aa50d-d47e-473b-9378-03fc0dc5a9c4\", [{\"marker\": {\"color\": [\"rgb(213,62,79)\", \"rgb(252,141,89)\", \"rgb(254,224,139)\", \"rgb(230,245,152)\", \"rgb(153,213,148)\", \"rgb(50,136,189)\"]}, \"x\": [2, 3, 4, 5], \"y\": [4, 9, 71, 112], \"type\": \"bar\", \"uid\": \"9b1810fb-d398-438b-a283-ddf3adf90552\"}], {\"bargap\": 0.2, \"xaxis\": {\"ticktext\": [\"1. Nunca\", \"2. Ocasionalmente\", \"3. Semanalmente\", \"4. Diariamente\", \"5. Varias veces al d\\u00eda\"], \"tickvals\": [1, 2, 3, 4, 5]}}, {\"showLink\": false, \"linkText\": \"Export to plot.ly\", \"plotlyServerURL\": \"https://plot.ly\"}); \n",
       "}\n",
       "});</script><script type=\"text/javascript\">window.addEventListener(\"resize\", function(){if (document.getElementById(\"a60aa50d-d47e-473b-9378-03fc0dc5a9c4\")) {window._Plotly.Plots.resize(document.getElementById(\"a60aa50d-d47e-473b-9378-03fc0dc5a9c4\"));};})</script>"
      ],
      "text/vnd.plotly.v1+html": [
       "<div id=\"a60aa50d-d47e-473b-9378-03fc0dc5a9c4\" style=\"height: 525px; width: 100%;\" class=\"plotly-graph-div\"></div><script type=\"text/javascript\">require([\"plotly\"], function(Plotly) { window.PLOTLYENV=window.PLOTLYENV || {};window.PLOTLYENV.BASE_URL=\"https://plot.ly\";\n",
       "if (document.getElementById(\"a60aa50d-d47e-473b-9378-03fc0dc5a9c4\")) {\n",
       "    Plotly.newPlot(\"a60aa50d-d47e-473b-9378-03fc0dc5a9c4\", [{\"marker\": {\"color\": [\"rgb(213,62,79)\", \"rgb(252,141,89)\", \"rgb(254,224,139)\", \"rgb(230,245,152)\", \"rgb(153,213,148)\", \"rgb(50,136,189)\"]}, \"x\": [2, 3, 4, 5], \"y\": [4, 9, 71, 112], \"type\": \"bar\", \"uid\": \"9b1810fb-d398-438b-a283-ddf3adf90552\"}], {\"bargap\": 0.2, \"xaxis\": {\"ticktext\": [\"1. Nunca\", \"2. Ocasionalmente\", \"3. Semanalmente\", \"4. Diariamente\", \"5. Varias veces al d\\u00eda\"], \"tickvals\": [1, 2, 3, 4, 5]}}, {\"showLink\": false, \"linkText\": \"Export to plot.ly\", \"plotlyServerURL\": \"https://plot.ly\"}); \n",
       "}\n",
       "});</script><script type=\"text/javascript\">window.addEventListener(\"resize\", function(){if (document.getElementById(\"a60aa50d-d47e-473b-9378-03fc0dc5a9c4\")) {window._Plotly.Plots.resize(document.getElementById(\"a60aa50d-d47e-473b-9378-03fc0dc5a9c4\"));};})</script>"
      ]
     },
     "metadata": {},
     "output_type": "display_data"
    },
    {
     "name": "stdout",
     "output_type": "stream",
     "text": [
      "\n",
      "\n",
      "Cluster 2 || variable: ¿Cuánto tiempo al día usas el móvil/tableta/ordenador/TV?\n",
      "Describiendo la pregunta ¿Cuánto tiempo al día usas el móvil/tableta/ordenador/TV?\n",
      "Valores numéricos asociados a las respuestas [1, 2, 3, 4, 5, 6]\n",
      "Respuestas posibles a la pregunta/variable ['1. Nada', '2. Menos de una hora', '3. 1-2 horas', '4. 2-4 horas', '5. 4-6 horas', '6. Más de 6 horas']\n"
     ]
    },
    {
     "data": {
      "text/plain": [
       "count    196.000000\n",
       "mean       4.561224\n",
       "std        1.105384\n",
       "min        2.000000\n",
       "25%        4.000000\n",
       "50%        5.000000\n",
       "75%        6.000000\n",
       "max        6.000000\n",
       "Name: ¿Cuánto tiempo al día usas el móvil/tableta/ordenador/TV?, dtype: float64"
      ]
     },
     "metadata": {},
     "output_type": "display_data"
    },
    {
     "name": "stdout",
     "output_type": "stream",
     "text": [
      "Conteo de cada valor en ¿Cuánto tiempo al día usas el móvil/tableta/ordenador/TV? expresada como valor / cantidad\n"
     ]
    },
    {
     "data": {
      "text/plain": [
       "2     4\n",
       "3    32\n",
       "4    61\n",
       "5    48\n",
       "6    51\n",
       "Name: ¿Cuánto tiempo al día usas el móvil/tableta/ordenador/TV?, dtype: int64"
      ]
     },
     "metadata": {},
     "output_type": "display_data"
    },
    {
     "name": "stdout",
     "output_type": "stream",
     "text": [
      "Porcentaje de cada valor en ¿Cuánto tiempo al día usas el móvil/tableta/ordenador/TV? expresado como valor / porcentaje\n"
     ]
    },
    {
     "data": {
      "text/plain": [
       "2     2.04\n",
       "3    16.33\n",
       "4    31.12\n",
       "5    24.49\n",
       "6    26.02\n",
       "Name: ¿Cuánto tiempo al día usas el móvil/tableta/ordenador/TV?, dtype: float64"
      ]
     },
     "metadata": {},
     "output_type": "display_data"
    },
    {
     "data": {
      "application/vnd.plotly.v1+json": {
       "config": {
        "linkText": "Export to plot.ly",
        "plotlyServerURL": "https://plot.ly",
        "showLink": false
       },
       "data": [
        {
         "marker": {
          "color": [
           "rgb(213,62,79)",
           "rgb(252,141,89)",
           "rgb(254,224,139)",
           "rgb(230,245,152)",
           "rgb(153,213,148)",
           "rgb(50,136,189)"
          ]
         },
         "type": "bar",
         "uid": "b7561e0c-9f70-43a9-a74c-d85f7ac794cb",
         "x": [
          2,
          3,
          4,
          5,
          6
         ],
         "y": [
          4,
          32,
          61,
          48,
          51
         ]
        }
       ],
       "layout": {
        "bargap": 0.2,
        "xaxis": {
         "ticktext": [
          "1. Nada",
          "2. Menos de una hora",
          "3. 1-2 horas",
          "4. 2-4 horas",
          "5. 4-6 horas",
          "6. Más de 6 horas"
         ],
         "tickvals": [
          1,
          2,
          3,
          4,
          5,
          6
         ]
        }
       }
      },
      "text/html": [
       "<div id=\"d545e4e8-6539-4e05-95dc-e9d413090e8c\" style=\"height: 525px; width: 100%;\" class=\"plotly-graph-div\"></div><script type=\"text/javascript\">require([\"plotly\"], function(Plotly) { window.PLOTLYENV=window.PLOTLYENV || {};window.PLOTLYENV.BASE_URL=\"https://plot.ly\";\n",
       "if (document.getElementById(\"d545e4e8-6539-4e05-95dc-e9d413090e8c\")) {\n",
       "    Plotly.newPlot(\"d545e4e8-6539-4e05-95dc-e9d413090e8c\", [{\"marker\": {\"color\": [\"rgb(213,62,79)\", \"rgb(252,141,89)\", \"rgb(254,224,139)\", \"rgb(230,245,152)\", \"rgb(153,213,148)\", \"rgb(50,136,189)\"]}, \"x\": [2, 3, 4, 5, 6], \"y\": [4, 32, 61, 48, 51], \"type\": \"bar\", \"uid\": \"b7561e0c-9f70-43a9-a74c-d85f7ac794cb\"}], {\"bargap\": 0.2, \"xaxis\": {\"ticktext\": [\"1. Nada\", \"2. Menos de una hora\", \"3. 1-2 horas\", \"4. 2-4 horas\", \"5. 4-6 horas\", \"6. M\\u00e1s de 6 horas\"], \"tickvals\": [1, 2, 3, 4, 5, 6]}}, {\"showLink\": false, \"linkText\": \"Export to plot.ly\", \"plotlyServerURL\": \"https://plot.ly\"}); \n",
       "}\n",
       "});</script><script type=\"text/javascript\">window.addEventListener(\"resize\", function(){if (document.getElementById(\"d545e4e8-6539-4e05-95dc-e9d413090e8c\")) {window._Plotly.Plots.resize(document.getElementById(\"d545e4e8-6539-4e05-95dc-e9d413090e8c\"));};})</script>"
      ],
      "text/vnd.plotly.v1+html": [
       "<div id=\"d545e4e8-6539-4e05-95dc-e9d413090e8c\" style=\"height: 525px; width: 100%;\" class=\"plotly-graph-div\"></div><script type=\"text/javascript\">require([\"plotly\"], function(Plotly) { window.PLOTLYENV=window.PLOTLYENV || {};window.PLOTLYENV.BASE_URL=\"https://plot.ly\";\n",
       "if (document.getElementById(\"d545e4e8-6539-4e05-95dc-e9d413090e8c\")) {\n",
       "    Plotly.newPlot(\"d545e4e8-6539-4e05-95dc-e9d413090e8c\", [{\"marker\": {\"color\": [\"rgb(213,62,79)\", \"rgb(252,141,89)\", \"rgb(254,224,139)\", \"rgb(230,245,152)\", \"rgb(153,213,148)\", \"rgb(50,136,189)\"]}, \"x\": [2, 3, 4, 5, 6], \"y\": [4, 32, 61, 48, 51], \"type\": \"bar\", \"uid\": \"b7561e0c-9f70-43a9-a74c-d85f7ac794cb\"}], {\"bargap\": 0.2, \"xaxis\": {\"ticktext\": [\"1. Nada\", \"2. Menos de una hora\", \"3. 1-2 horas\", \"4. 2-4 horas\", \"5. 4-6 horas\", \"6. M\\u00e1s de 6 horas\"], \"tickvals\": [1, 2, 3, 4, 5, 6]}}, {\"showLink\": false, \"linkText\": \"Export to plot.ly\", \"plotlyServerURL\": \"https://plot.ly\"}); \n",
       "}\n",
       "});</script><script type=\"text/javascript\">window.addEventListener(\"resize\", function(){if (document.getElementById(\"d545e4e8-6539-4e05-95dc-e9d413090e8c\")) {window._Plotly.Plots.resize(document.getElementById(\"d545e4e8-6539-4e05-95dc-e9d413090e8c\"));};})</script>"
      ]
     },
     "metadata": {},
     "output_type": "display_data"
    },
    {
     "name": "stdout",
     "output_type": "stream",
     "text": [
      "\n",
      "\n",
      "Cluster 2 || variable: ¿Qué tipo de aplicaciones utilizas en tu ordenador/tableta/móvil? (Respuesta múltiple) [1. Apps de contenidos audiovisuales (Netflix, HBO, etc.)]\n",
      "Describiendo la pregunta ¿Qué tipo de aplicaciones utilizas en tu ordenador/tableta/móvil? (Respuesta múltiple) [1. Apps de contenidos audiovisuales (Netflix, HBO, etc.)]\n",
      "Valores numéricos asociados a las respuestas [0, 1]\n",
      "Respuestas posibles a la pregunta/variable ['No', 'Sí']\n"
     ]
    },
    {
     "data": {
      "text/plain": [
       "count    196.000000\n",
       "mean       0.336735\n",
       "std        0.473804\n",
       "min        0.000000\n",
       "25%        0.000000\n",
       "50%        0.000000\n",
       "75%        1.000000\n",
       "max        1.000000\n",
       "Name: ¿Qué tipo de aplicaciones utilizas en tu ordenador/tableta/móvil? (Respuesta múltiple) [1. Apps de contenidos audiovisuales (Netflix, HBO, etc.)], dtype: float64"
      ]
     },
     "metadata": {},
     "output_type": "display_data"
    },
    {
     "name": "stdout",
     "output_type": "stream",
     "text": [
      "Conteo de cada valor en ¿Qué tipo de aplicaciones utilizas en tu ordenador/tableta/móvil? (Respuesta múltiple) [1. Apps de contenidos audiovisuales (Netflix, HBO, etc.)] expresada como valor / cantidad\n"
     ]
    },
    {
     "data": {
      "text/plain": [
       "0    130\n",
       "1     66\n",
       "Name: ¿Qué tipo de aplicaciones utilizas en tu ordenador/tableta/móvil? (Respuesta múltiple) [1. Apps de contenidos audiovisuales (Netflix, HBO, etc.)], dtype: int64"
      ]
     },
     "metadata": {},
     "output_type": "display_data"
    },
    {
     "name": "stdout",
     "output_type": "stream",
     "text": [
      "Porcentaje de cada valor en ¿Qué tipo de aplicaciones utilizas en tu ordenador/tableta/móvil? (Respuesta múltiple) [1. Apps de contenidos audiovisuales (Netflix, HBO, etc.)] expresado como valor / porcentaje\n"
     ]
    },
    {
     "data": {
      "text/plain": [
       "0    66.33\n",
       "1    33.67\n",
       "Name: ¿Qué tipo de aplicaciones utilizas en tu ordenador/tableta/móvil? (Respuesta múltiple) [1. Apps de contenidos audiovisuales (Netflix, HBO, etc.)], dtype: float64"
      ]
     },
     "metadata": {},
     "output_type": "display_data"
    },
    {
     "data": {
      "application/vnd.plotly.v1+json": {
       "config": {
        "linkText": "Export to plot.ly",
        "plotlyServerURL": "https://plot.ly",
        "showLink": false
       },
       "data": [
        {
         "marker": {
          "color": [
           "rgb(213,62,79)",
           "rgb(252,141,89)",
           "rgb(254,224,139)",
           "rgb(230,245,152)",
           "rgb(153,213,148)",
           "rgb(50,136,189)"
          ]
         },
         "type": "bar",
         "uid": "9a00d3e3-6298-493a-831f-38a8e8b51818",
         "x": [
          0,
          1
         ],
         "y": [
          130,
          66
         ]
        }
       ],
       "layout": {
        "bargap": 0.2,
        "xaxis": {
         "ticktext": [
          "No",
          "Sí"
         ],
         "tickvals": [
          0,
          1
         ]
        }
       }
      },
      "text/html": [
       "<div id=\"dc2c7181-c744-4701-8bbf-a66428818f5b\" style=\"height: 525px; width: 100%;\" class=\"plotly-graph-div\"></div><script type=\"text/javascript\">require([\"plotly\"], function(Plotly) { window.PLOTLYENV=window.PLOTLYENV || {};window.PLOTLYENV.BASE_URL=\"https://plot.ly\";\n",
       "if (document.getElementById(\"dc2c7181-c744-4701-8bbf-a66428818f5b\")) {\n",
       "    Plotly.newPlot(\"dc2c7181-c744-4701-8bbf-a66428818f5b\", [{\"marker\": {\"color\": [\"rgb(213,62,79)\", \"rgb(252,141,89)\", \"rgb(254,224,139)\", \"rgb(230,245,152)\", \"rgb(153,213,148)\", \"rgb(50,136,189)\"]}, \"x\": [0, 1], \"y\": [130, 66], \"type\": \"bar\", \"uid\": \"9a00d3e3-6298-493a-831f-38a8e8b51818\"}], {\"bargap\": 0.2, \"xaxis\": {\"ticktext\": [\"No\", \"S\\u00ed\"], \"tickvals\": [0, 1]}}, {\"showLink\": false, \"linkText\": \"Export to plot.ly\", \"plotlyServerURL\": \"https://plot.ly\"}); \n",
       "}\n",
       "});</script><script type=\"text/javascript\">window.addEventListener(\"resize\", function(){if (document.getElementById(\"dc2c7181-c744-4701-8bbf-a66428818f5b\")) {window._Plotly.Plots.resize(document.getElementById(\"dc2c7181-c744-4701-8bbf-a66428818f5b\"));};})</script>"
      ],
      "text/vnd.plotly.v1+html": [
       "<div id=\"dc2c7181-c744-4701-8bbf-a66428818f5b\" style=\"height: 525px; width: 100%;\" class=\"plotly-graph-div\"></div><script type=\"text/javascript\">require([\"plotly\"], function(Plotly) { window.PLOTLYENV=window.PLOTLYENV || {};window.PLOTLYENV.BASE_URL=\"https://plot.ly\";\n",
       "if (document.getElementById(\"dc2c7181-c744-4701-8bbf-a66428818f5b\")) {\n",
       "    Plotly.newPlot(\"dc2c7181-c744-4701-8bbf-a66428818f5b\", [{\"marker\": {\"color\": [\"rgb(213,62,79)\", \"rgb(252,141,89)\", \"rgb(254,224,139)\", \"rgb(230,245,152)\", \"rgb(153,213,148)\", \"rgb(50,136,189)\"]}, \"x\": [0, 1], \"y\": [130, 66], \"type\": \"bar\", \"uid\": \"9a00d3e3-6298-493a-831f-38a8e8b51818\"}], {\"bargap\": 0.2, \"xaxis\": {\"ticktext\": [\"No\", \"S\\u00ed\"], \"tickvals\": [0, 1]}}, {\"showLink\": false, \"linkText\": \"Export to plot.ly\", \"plotlyServerURL\": \"https://plot.ly\"}); \n",
       "}\n",
       "});</script><script type=\"text/javascript\">window.addEventListener(\"resize\", function(){if (document.getElementById(\"dc2c7181-c744-4701-8bbf-a66428818f5b\")) {window._Plotly.Plots.resize(document.getElementById(\"dc2c7181-c744-4701-8bbf-a66428818f5b\"));};})</script>"
      ]
     },
     "metadata": {},
     "output_type": "display_data"
    },
    {
     "name": "stdout",
     "output_type": "stream",
     "text": [
      "\n",
      "\n",
      "Cluster 2 || variable: ¿Qué tipo de aplicaciones utilizas en tu ordenador/tableta/móvil? (Respuesta múltiple) [2. Aplicaciones de mensajería (Whatsapp, Facebook Messenger, etc.)]\n",
      "Describiendo la pregunta ¿Qué tipo de aplicaciones utilizas en tu ordenador/tableta/móvil? (Respuesta múltiple) [2. Aplicaciones de mensajería (Whatsapp, Facebook Messenger, etc.)]\n",
      "Valores numéricos asociados a las respuestas [0, 1]\n",
      "Respuestas posibles a la pregunta/variable ['No', 'Sí']\n"
     ]
    },
    {
     "data": {
      "text/plain": [
       "count    196.000000\n",
       "mean       0.673469\n",
       "std        0.470145\n",
       "min        0.000000\n",
       "25%        0.000000\n",
       "50%        1.000000\n",
       "75%        1.000000\n",
       "max        1.000000\n",
       "Name: ¿Qué tipo de aplicaciones utilizas en tu ordenador/tableta/móvil? (Respuesta múltiple) [2. Aplicaciones de mensajería (Whatsapp, Facebook Messenger, etc.)], dtype: float64"
      ]
     },
     "metadata": {},
     "output_type": "display_data"
    },
    {
     "name": "stdout",
     "output_type": "stream",
     "text": [
      "Conteo de cada valor en ¿Qué tipo de aplicaciones utilizas en tu ordenador/tableta/móvil? (Respuesta múltiple) [2. Aplicaciones de mensajería (Whatsapp, Facebook Messenger, etc.)] expresada como valor / cantidad\n"
     ]
    },
    {
     "data": {
      "text/plain": [
       "0     64\n",
       "1    132\n",
       "Name: ¿Qué tipo de aplicaciones utilizas en tu ordenador/tableta/móvil? (Respuesta múltiple) [2. Aplicaciones de mensajería (Whatsapp, Facebook Messenger, etc.)], dtype: int64"
      ]
     },
     "metadata": {},
     "output_type": "display_data"
    },
    {
     "name": "stdout",
     "output_type": "stream",
     "text": [
      "Porcentaje de cada valor en ¿Qué tipo de aplicaciones utilizas en tu ordenador/tableta/móvil? (Respuesta múltiple) [2. Aplicaciones de mensajería (Whatsapp, Facebook Messenger, etc.)] expresado como valor / porcentaje\n"
     ]
    },
    {
     "data": {
      "text/plain": [
       "0    32.65\n",
       "1    67.35\n",
       "Name: ¿Qué tipo de aplicaciones utilizas en tu ordenador/tableta/móvil? (Respuesta múltiple) [2. Aplicaciones de mensajería (Whatsapp, Facebook Messenger, etc.)], dtype: float64"
      ]
     },
     "metadata": {},
     "output_type": "display_data"
    },
    {
     "data": {
      "application/vnd.plotly.v1+json": {
       "config": {
        "linkText": "Export to plot.ly",
        "plotlyServerURL": "https://plot.ly",
        "showLink": false
       },
       "data": [
        {
         "marker": {
          "color": [
           "rgb(213,62,79)",
           "rgb(252,141,89)",
           "rgb(254,224,139)",
           "rgb(230,245,152)",
           "rgb(153,213,148)",
           "rgb(50,136,189)"
          ]
         },
         "type": "bar",
         "uid": "d1c2ae81-f7d2-479b-a159-a4c7476a3859",
         "x": [
          0,
          1
         ],
         "y": [
          64,
          132
         ]
        }
       ],
       "layout": {
        "bargap": 0.2,
        "xaxis": {
         "ticktext": [
          "No",
          "Sí"
         ],
         "tickvals": [
          0,
          1
         ]
        }
       }
      },
      "text/html": [
       "<div id=\"38d56898-e9fe-4641-94bc-6d3da747b5f9\" style=\"height: 525px; width: 100%;\" class=\"plotly-graph-div\"></div><script type=\"text/javascript\">require([\"plotly\"], function(Plotly) { window.PLOTLYENV=window.PLOTLYENV || {};window.PLOTLYENV.BASE_URL=\"https://plot.ly\";\n",
       "if (document.getElementById(\"38d56898-e9fe-4641-94bc-6d3da747b5f9\")) {\n",
       "    Plotly.newPlot(\"38d56898-e9fe-4641-94bc-6d3da747b5f9\", [{\"marker\": {\"color\": [\"rgb(213,62,79)\", \"rgb(252,141,89)\", \"rgb(254,224,139)\", \"rgb(230,245,152)\", \"rgb(153,213,148)\", \"rgb(50,136,189)\"]}, \"x\": [0, 1], \"y\": [64, 132], \"type\": \"bar\", \"uid\": \"d1c2ae81-f7d2-479b-a159-a4c7476a3859\"}], {\"bargap\": 0.2, \"xaxis\": {\"ticktext\": [\"No\", \"S\\u00ed\"], \"tickvals\": [0, 1]}}, {\"showLink\": false, \"linkText\": \"Export to plot.ly\", \"plotlyServerURL\": \"https://plot.ly\"}); \n",
       "}\n",
       "});</script><script type=\"text/javascript\">window.addEventListener(\"resize\", function(){if (document.getElementById(\"38d56898-e9fe-4641-94bc-6d3da747b5f9\")) {window._Plotly.Plots.resize(document.getElementById(\"38d56898-e9fe-4641-94bc-6d3da747b5f9\"));};})</script>"
      ],
      "text/vnd.plotly.v1+html": [
       "<div id=\"38d56898-e9fe-4641-94bc-6d3da747b5f9\" style=\"height: 525px; width: 100%;\" class=\"plotly-graph-div\"></div><script type=\"text/javascript\">require([\"plotly\"], function(Plotly) { window.PLOTLYENV=window.PLOTLYENV || {};window.PLOTLYENV.BASE_URL=\"https://plot.ly\";\n",
       "if (document.getElementById(\"38d56898-e9fe-4641-94bc-6d3da747b5f9\")) {\n",
       "    Plotly.newPlot(\"38d56898-e9fe-4641-94bc-6d3da747b5f9\", [{\"marker\": {\"color\": [\"rgb(213,62,79)\", \"rgb(252,141,89)\", \"rgb(254,224,139)\", \"rgb(230,245,152)\", \"rgb(153,213,148)\", \"rgb(50,136,189)\"]}, \"x\": [0, 1], \"y\": [64, 132], \"type\": \"bar\", \"uid\": \"d1c2ae81-f7d2-479b-a159-a4c7476a3859\"}], {\"bargap\": 0.2, \"xaxis\": {\"ticktext\": [\"No\", \"S\\u00ed\"], \"tickvals\": [0, 1]}}, {\"showLink\": false, \"linkText\": \"Export to plot.ly\", \"plotlyServerURL\": \"https://plot.ly\"}); \n",
       "}\n",
       "});</script><script type=\"text/javascript\">window.addEventListener(\"resize\", function(){if (document.getElementById(\"38d56898-e9fe-4641-94bc-6d3da747b5f9\")) {window._Plotly.Plots.resize(document.getElementById(\"38d56898-e9fe-4641-94bc-6d3da747b5f9\"));};})</script>"
      ]
     },
     "metadata": {},
     "output_type": "display_data"
    },
    {
     "name": "stdout",
     "output_type": "stream",
     "text": [
      "\n",
      "\n",
      "Cluster 2 || variable: ¿Qué tipo de aplicaciones utilizas en tu ordenador/tableta/móvil? (Respuesta múltiple) [3. Bibliotecas de fotos online (Google Photos, iPhoto, etc.)]\n",
      "Describiendo la pregunta ¿Qué tipo de aplicaciones utilizas en tu ordenador/tableta/móvil? (Respuesta múltiple) [3. Bibliotecas de fotos online (Google Photos, iPhoto, etc.)]\n",
      "Valores numéricos asociados a las respuestas [0, 1]\n",
      "Respuestas posibles a la pregunta/variable ['No', 'Sí']\n"
     ]
    },
    {
     "data": {
      "text/plain": [
       "count    196.000000\n",
       "mean       0.255102\n",
       "std        0.437035\n",
       "min        0.000000\n",
       "25%        0.000000\n",
       "50%        0.000000\n",
       "75%        1.000000\n",
       "max        1.000000\n",
       "Name: ¿Qué tipo de aplicaciones utilizas en tu ordenador/tableta/móvil? (Respuesta múltiple) [3. Bibliotecas de fotos online (Google Photos, iPhoto, etc.)], dtype: float64"
      ]
     },
     "metadata": {},
     "output_type": "display_data"
    },
    {
     "name": "stdout",
     "output_type": "stream",
     "text": [
      "Conteo de cada valor en ¿Qué tipo de aplicaciones utilizas en tu ordenador/tableta/móvil? (Respuesta múltiple) [3. Bibliotecas de fotos online (Google Photos, iPhoto, etc.)] expresada como valor / cantidad\n"
     ]
    },
    {
     "data": {
      "text/plain": [
       "0    146\n",
       "1     50\n",
       "Name: ¿Qué tipo de aplicaciones utilizas en tu ordenador/tableta/móvil? (Respuesta múltiple) [3. Bibliotecas de fotos online (Google Photos, iPhoto, etc.)], dtype: int64"
      ]
     },
     "metadata": {},
     "output_type": "display_data"
    },
    {
     "name": "stdout",
     "output_type": "stream",
     "text": [
      "Porcentaje de cada valor en ¿Qué tipo de aplicaciones utilizas en tu ordenador/tableta/móvil? (Respuesta múltiple) [3. Bibliotecas de fotos online (Google Photos, iPhoto, etc.)] expresado como valor / porcentaje\n"
     ]
    },
    {
     "data": {
      "text/plain": [
       "0    74.49\n",
       "1    25.51\n",
       "Name: ¿Qué tipo de aplicaciones utilizas en tu ordenador/tableta/móvil? (Respuesta múltiple) [3. Bibliotecas de fotos online (Google Photos, iPhoto, etc.)], dtype: float64"
      ]
     },
     "metadata": {},
     "output_type": "display_data"
    },
    {
     "data": {
      "application/vnd.plotly.v1+json": {
       "config": {
        "linkText": "Export to plot.ly",
        "plotlyServerURL": "https://plot.ly",
        "showLink": false
       },
       "data": [
        {
         "marker": {
          "color": [
           "rgb(213,62,79)",
           "rgb(252,141,89)",
           "rgb(254,224,139)",
           "rgb(230,245,152)",
           "rgb(153,213,148)",
           "rgb(50,136,189)"
          ]
         },
         "type": "bar",
         "uid": "993f54c7-9f89-483d-bdb6-11adecfcf94f",
         "x": [
          0,
          1
         ],
         "y": [
          146,
          50
         ]
        }
       ],
       "layout": {
        "bargap": 0.2,
        "xaxis": {
         "ticktext": [
          "No",
          "Sí"
         ],
         "tickvals": [
          0,
          1
         ]
        }
       }
      },
      "text/html": [
       "<div id=\"2c9e8718-4e5f-4756-9bff-122e0d7fdabc\" style=\"height: 525px; width: 100%;\" class=\"plotly-graph-div\"></div><script type=\"text/javascript\">require([\"plotly\"], function(Plotly) { window.PLOTLYENV=window.PLOTLYENV || {};window.PLOTLYENV.BASE_URL=\"https://plot.ly\";\n",
       "if (document.getElementById(\"2c9e8718-4e5f-4756-9bff-122e0d7fdabc\")) {\n",
       "    Plotly.newPlot(\"2c9e8718-4e5f-4756-9bff-122e0d7fdabc\", [{\"marker\": {\"color\": [\"rgb(213,62,79)\", \"rgb(252,141,89)\", \"rgb(254,224,139)\", \"rgb(230,245,152)\", \"rgb(153,213,148)\", \"rgb(50,136,189)\"]}, \"x\": [0, 1], \"y\": [146, 50], \"type\": \"bar\", \"uid\": \"993f54c7-9f89-483d-bdb6-11adecfcf94f\"}], {\"bargap\": 0.2, \"xaxis\": {\"ticktext\": [\"No\", \"S\\u00ed\"], \"tickvals\": [0, 1]}}, {\"showLink\": false, \"linkText\": \"Export to plot.ly\", \"plotlyServerURL\": \"https://plot.ly\"}); \n",
       "}\n",
       "});</script><script type=\"text/javascript\">window.addEventListener(\"resize\", function(){if (document.getElementById(\"2c9e8718-4e5f-4756-9bff-122e0d7fdabc\")) {window._Plotly.Plots.resize(document.getElementById(\"2c9e8718-4e5f-4756-9bff-122e0d7fdabc\"));};})</script>"
      ],
      "text/vnd.plotly.v1+html": [
       "<div id=\"2c9e8718-4e5f-4756-9bff-122e0d7fdabc\" style=\"height: 525px; width: 100%;\" class=\"plotly-graph-div\"></div><script type=\"text/javascript\">require([\"plotly\"], function(Plotly) { window.PLOTLYENV=window.PLOTLYENV || {};window.PLOTLYENV.BASE_URL=\"https://plot.ly\";\n",
       "if (document.getElementById(\"2c9e8718-4e5f-4756-9bff-122e0d7fdabc\")) {\n",
       "    Plotly.newPlot(\"2c9e8718-4e5f-4756-9bff-122e0d7fdabc\", [{\"marker\": {\"color\": [\"rgb(213,62,79)\", \"rgb(252,141,89)\", \"rgb(254,224,139)\", \"rgb(230,245,152)\", \"rgb(153,213,148)\", \"rgb(50,136,189)\"]}, \"x\": [0, 1], \"y\": [146, 50], \"type\": \"bar\", \"uid\": \"993f54c7-9f89-483d-bdb6-11adecfcf94f\"}], {\"bargap\": 0.2, \"xaxis\": {\"ticktext\": [\"No\", \"S\\u00ed\"], \"tickvals\": [0, 1]}}, {\"showLink\": false, \"linkText\": \"Export to plot.ly\", \"plotlyServerURL\": \"https://plot.ly\"}); \n",
       "}\n",
       "});</script><script type=\"text/javascript\">window.addEventListener(\"resize\", function(){if (document.getElementById(\"2c9e8718-4e5f-4756-9bff-122e0d7fdabc\")) {window._Plotly.Plots.resize(document.getElementById(\"2c9e8718-4e5f-4756-9bff-122e0d7fdabc\"));};})</script>"
      ]
     },
     "metadata": {},
     "output_type": "display_data"
    },
    {
     "name": "stdout",
     "output_type": "stream",
     "text": [
      "\n",
      "\n",
      "Cluster 2 || variable: ¿Qué tipo de aplicaciones utilizas en tu ordenador/tableta/móvil? (Respuesta múltiple) [4. Redes sociales (Facebook, Instagram, Twitter, etc.).]\n",
      "Describiendo la pregunta ¿Qué tipo de aplicaciones utilizas en tu ordenador/tableta/móvil? (Respuesta múltiple) [4. Redes sociales (Facebook, Instagram, Twitter, etc.).]\n",
      "Valores numéricos asociados a las respuestas [0, 1]\n",
      "Respuestas posibles a la pregunta/variable ['No', 'Sí']\n"
     ]
    },
    {
     "data": {
      "text/plain": [
       "count    196.000000\n",
       "mean       0.658163\n",
       "std        0.475540\n",
       "min        0.000000\n",
       "25%        0.000000\n",
       "50%        1.000000\n",
       "75%        1.000000\n",
       "max        1.000000\n",
       "Name: ¿Qué tipo de aplicaciones utilizas en tu ordenador/tableta/móvil? (Respuesta múltiple) [4. Redes sociales (Facebook, Instagram, Twitter, etc.).], dtype: float64"
      ]
     },
     "metadata": {},
     "output_type": "display_data"
    },
    {
     "name": "stdout",
     "output_type": "stream",
     "text": [
      "Conteo de cada valor en ¿Qué tipo de aplicaciones utilizas en tu ordenador/tableta/móvil? (Respuesta múltiple) [4. Redes sociales (Facebook, Instagram, Twitter, etc.).] expresada como valor / cantidad\n"
     ]
    },
    {
     "data": {
      "text/plain": [
       "0     67\n",
       "1    129\n",
       "Name: ¿Qué tipo de aplicaciones utilizas en tu ordenador/tableta/móvil? (Respuesta múltiple) [4. Redes sociales (Facebook, Instagram, Twitter, etc.).], dtype: int64"
      ]
     },
     "metadata": {},
     "output_type": "display_data"
    },
    {
     "name": "stdout",
     "output_type": "stream",
     "text": [
      "Porcentaje de cada valor en ¿Qué tipo de aplicaciones utilizas en tu ordenador/tableta/móvil? (Respuesta múltiple) [4. Redes sociales (Facebook, Instagram, Twitter, etc.).] expresado como valor / porcentaje\n"
     ]
    },
    {
     "data": {
      "text/plain": [
       "0    34.18\n",
       "1    65.82\n",
       "Name: ¿Qué tipo de aplicaciones utilizas en tu ordenador/tableta/móvil? (Respuesta múltiple) [4. Redes sociales (Facebook, Instagram, Twitter, etc.).], dtype: float64"
      ]
     },
     "metadata": {},
     "output_type": "display_data"
    },
    {
     "data": {
      "application/vnd.plotly.v1+json": {
       "config": {
        "linkText": "Export to plot.ly",
        "plotlyServerURL": "https://plot.ly",
        "showLink": false
       },
       "data": [
        {
         "marker": {
          "color": [
           "rgb(213,62,79)",
           "rgb(252,141,89)",
           "rgb(254,224,139)",
           "rgb(230,245,152)",
           "rgb(153,213,148)",
           "rgb(50,136,189)"
          ]
         },
         "type": "bar",
         "uid": "7fd2933d-d07d-4335-aac8-4490b9220b85",
         "x": [
          0,
          1
         ],
         "y": [
          67,
          129
         ]
        }
       ],
       "layout": {
        "bargap": 0.2,
        "xaxis": {
         "ticktext": [
          "No",
          "Sí"
         ],
         "tickvals": [
          0,
          1
         ]
        }
       }
      },
      "text/html": [
       "<div id=\"6f974b26-7328-4d35-a89d-5395d8ae25e4\" style=\"height: 525px; width: 100%;\" class=\"plotly-graph-div\"></div><script type=\"text/javascript\">require([\"plotly\"], function(Plotly) { window.PLOTLYENV=window.PLOTLYENV || {};window.PLOTLYENV.BASE_URL=\"https://plot.ly\";\n",
       "if (document.getElementById(\"6f974b26-7328-4d35-a89d-5395d8ae25e4\")) {\n",
       "    Plotly.newPlot(\"6f974b26-7328-4d35-a89d-5395d8ae25e4\", [{\"marker\": {\"color\": [\"rgb(213,62,79)\", \"rgb(252,141,89)\", \"rgb(254,224,139)\", \"rgb(230,245,152)\", \"rgb(153,213,148)\", \"rgb(50,136,189)\"]}, \"x\": [0, 1], \"y\": [67, 129], \"type\": \"bar\", \"uid\": \"7fd2933d-d07d-4335-aac8-4490b9220b85\"}], {\"bargap\": 0.2, \"xaxis\": {\"ticktext\": [\"No\", \"S\\u00ed\"], \"tickvals\": [0, 1]}}, {\"showLink\": false, \"linkText\": \"Export to plot.ly\", \"plotlyServerURL\": \"https://plot.ly\"}); \n",
       "}\n",
       "});</script><script type=\"text/javascript\">window.addEventListener(\"resize\", function(){if (document.getElementById(\"6f974b26-7328-4d35-a89d-5395d8ae25e4\")) {window._Plotly.Plots.resize(document.getElementById(\"6f974b26-7328-4d35-a89d-5395d8ae25e4\"));};})</script>"
      ],
      "text/vnd.plotly.v1+html": [
       "<div id=\"6f974b26-7328-4d35-a89d-5395d8ae25e4\" style=\"height: 525px; width: 100%;\" class=\"plotly-graph-div\"></div><script type=\"text/javascript\">require([\"plotly\"], function(Plotly) { window.PLOTLYENV=window.PLOTLYENV || {};window.PLOTLYENV.BASE_URL=\"https://plot.ly\";\n",
       "if (document.getElementById(\"6f974b26-7328-4d35-a89d-5395d8ae25e4\")) {\n",
       "    Plotly.newPlot(\"6f974b26-7328-4d35-a89d-5395d8ae25e4\", [{\"marker\": {\"color\": [\"rgb(213,62,79)\", \"rgb(252,141,89)\", \"rgb(254,224,139)\", \"rgb(230,245,152)\", \"rgb(153,213,148)\", \"rgb(50,136,189)\"]}, \"x\": [0, 1], \"y\": [67, 129], \"type\": \"bar\", \"uid\": \"7fd2933d-d07d-4335-aac8-4490b9220b85\"}], {\"bargap\": 0.2, \"xaxis\": {\"ticktext\": [\"No\", \"S\\u00ed\"], \"tickvals\": [0, 1]}}, {\"showLink\": false, \"linkText\": \"Export to plot.ly\", \"plotlyServerURL\": \"https://plot.ly\"}); \n",
       "}\n",
       "});</script><script type=\"text/javascript\">window.addEventListener(\"resize\", function(){if (document.getElementById(\"6f974b26-7328-4d35-a89d-5395d8ae25e4\")) {window._Plotly.Plots.resize(document.getElementById(\"6f974b26-7328-4d35-a89d-5395d8ae25e4\"));};})</script>"
      ]
     },
     "metadata": {},
     "output_type": "display_data"
    },
    {
     "name": "stdout",
     "output_type": "stream",
     "text": [
      "\n",
      "\n",
      "Cluster 2 || variable: ¿Qué tipo de aplicaciones utilizas en tu ordenador/tableta/móvil? (Respuesta múltiple) [5. Aplicaciones de vídeo (Youtube, Vimeo, etc.).]\n",
      "Describiendo la pregunta ¿Qué tipo de aplicaciones utilizas en tu ordenador/tableta/móvil? (Respuesta múltiple) [5. Aplicaciones de vídeo (Youtube, Vimeo, etc.).]\n",
      "Valores numéricos asociados a las respuestas [0, 1]\n",
      "Respuestas posibles a la pregunta/variable ['No', 'Sí']\n"
     ]
    },
    {
     "data": {
      "text/plain": [
       "count    196.000000\n",
       "mean       0.545918\n",
       "std        0.499162\n",
       "min        0.000000\n",
       "25%        0.000000\n",
       "50%        1.000000\n",
       "75%        1.000000\n",
       "max        1.000000\n",
       "Name: ¿Qué tipo de aplicaciones utilizas en tu ordenador/tableta/móvil? (Respuesta múltiple) [5. Aplicaciones de vídeo (Youtube, Vimeo, etc.).], dtype: float64"
      ]
     },
     "metadata": {},
     "output_type": "display_data"
    },
    {
     "name": "stdout",
     "output_type": "stream",
     "text": [
      "Conteo de cada valor en ¿Qué tipo de aplicaciones utilizas en tu ordenador/tableta/móvil? (Respuesta múltiple) [5. Aplicaciones de vídeo (Youtube, Vimeo, etc.).] expresada como valor / cantidad\n"
     ]
    },
    {
     "data": {
      "text/plain": [
       "0     89\n",
       "1    107\n",
       "Name: ¿Qué tipo de aplicaciones utilizas en tu ordenador/tableta/móvil? (Respuesta múltiple) [5. Aplicaciones de vídeo (Youtube, Vimeo, etc.).], dtype: int64"
      ]
     },
     "metadata": {},
     "output_type": "display_data"
    },
    {
     "name": "stdout",
     "output_type": "stream",
     "text": [
      "Porcentaje de cada valor en ¿Qué tipo de aplicaciones utilizas en tu ordenador/tableta/móvil? (Respuesta múltiple) [5. Aplicaciones de vídeo (Youtube, Vimeo, etc.).] expresado como valor / porcentaje\n"
     ]
    },
    {
     "data": {
      "text/plain": [
       "0    45.41\n",
       "1    54.59\n",
       "Name: ¿Qué tipo de aplicaciones utilizas en tu ordenador/tableta/móvil? (Respuesta múltiple) [5. Aplicaciones de vídeo (Youtube, Vimeo, etc.).], dtype: float64"
      ]
     },
     "metadata": {},
     "output_type": "display_data"
    },
    {
     "data": {
      "application/vnd.plotly.v1+json": {
       "config": {
        "linkText": "Export to plot.ly",
        "plotlyServerURL": "https://plot.ly",
        "showLink": false
       },
       "data": [
        {
         "marker": {
          "color": [
           "rgb(213,62,79)",
           "rgb(252,141,89)",
           "rgb(254,224,139)",
           "rgb(230,245,152)",
           "rgb(153,213,148)",
           "rgb(50,136,189)"
          ]
         },
         "type": "bar",
         "uid": "46b7bacd-8621-4382-aaf7-f31429940f17",
         "x": [
          0,
          1
         ],
         "y": [
          89,
          107
         ]
        }
       ],
       "layout": {
        "bargap": 0.2,
        "xaxis": {
         "ticktext": [
          "No",
          "Sí"
         ],
         "tickvals": [
          0,
          1
         ]
        }
       }
      },
      "text/html": [
       "<div id=\"66ee27a9-0bf6-4f7a-9005-44fb4d82971c\" style=\"height: 525px; width: 100%;\" class=\"plotly-graph-div\"></div><script type=\"text/javascript\">require([\"plotly\"], function(Plotly) { window.PLOTLYENV=window.PLOTLYENV || {};window.PLOTLYENV.BASE_URL=\"https://plot.ly\";\n",
       "if (document.getElementById(\"66ee27a9-0bf6-4f7a-9005-44fb4d82971c\")) {\n",
       "    Plotly.newPlot(\"66ee27a9-0bf6-4f7a-9005-44fb4d82971c\", [{\"marker\": {\"color\": [\"rgb(213,62,79)\", \"rgb(252,141,89)\", \"rgb(254,224,139)\", \"rgb(230,245,152)\", \"rgb(153,213,148)\", \"rgb(50,136,189)\"]}, \"x\": [0, 1], \"y\": [89, 107], \"type\": \"bar\", \"uid\": \"46b7bacd-8621-4382-aaf7-f31429940f17\"}], {\"bargap\": 0.2, \"xaxis\": {\"ticktext\": [\"No\", \"S\\u00ed\"], \"tickvals\": [0, 1]}}, {\"showLink\": false, \"linkText\": \"Export to plot.ly\", \"plotlyServerURL\": \"https://plot.ly\"}); \n",
       "}\n",
       "});</script><script type=\"text/javascript\">window.addEventListener(\"resize\", function(){if (document.getElementById(\"66ee27a9-0bf6-4f7a-9005-44fb4d82971c\")) {window._Plotly.Plots.resize(document.getElementById(\"66ee27a9-0bf6-4f7a-9005-44fb4d82971c\"));};})</script>"
      ],
      "text/vnd.plotly.v1+html": [
       "<div id=\"66ee27a9-0bf6-4f7a-9005-44fb4d82971c\" style=\"height: 525px; width: 100%;\" class=\"plotly-graph-div\"></div><script type=\"text/javascript\">require([\"plotly\"], function(Plotly) { window.PLOTLYENV=window.PLOTLYENV || {};window.PLOTLYENV.BASE_URL=\"https://plot.ly\";\n",
       "if (document.getElementById(\"66ee27a9-0bf6-4f7a-9005-44fb4d82971c\")) {\n",
       "    Plotly.newPlot(\"66ee27a9-0bf6-4f7a-9005-44fb4d82971c\", [{\"marker\": {\"color\": [\"rgb(213,62,79)\", \"rgb(252,141,89)\", \"rgb(254,224,139)\", \"rgb(230,245,152)\", \"rgb(153,213,148)\", \"rgb(50,136,189)\"]}, \"x\": [0, 1], \"y\": [89, 107], \"type\": \"bar\", \"uid\": \"46b7bacd-8621-4382-aaf7-f31429940f17\"}], {\"bargap\": 0.2, \"xaxis\": {\"ticktext\": [\"No\", \"S\\u00ed\"], \"tickvals\": [0, 1]}}, {\"showLink\": false, \"linkText\": \"Export to plot.ly\", \"plotlyServerURL\": \"https://plot.ly\"}); \n",
       "}\n",
       "});</script><script type=\"text/javascript\">window.addEventListener(\"resize\", function(){if (document.getElementById(\"66ee27a9-0bf6-4f7a-9005-44fb4d82971c\")) {window._Plotly.Plots.resize(document.getElementById(\"66ee27a9-0bf6-4f7a-9005-44fb4d82971c\"));};})</script>"
      ]
     },
     "metadata": {},
     "output_type": "display_data"
    },
    {
     "name": "stdout",
     "output_type": "stream",
     "text": [
      "\n",
      "\n",
      "Cluster 2 || variable: ¿Qué tipo de aplicaciones utilizas en tu ordenador/tableta/móvil? (Respuesta múltiple) [Otro]\n",
      "Describiendo la pregunta ¿Qué tipo de aplicaciones utilizas en tu ordenador/tableta/móvil? (Respuesta múltiple) [Otro]\n",
      "\n",
      "\n",
      "Cluster 2 || variable: Durante ese uso, ¿cuántas imágenes consumes (ves y compartes)?\n",
      "Describiendo la pregunta Durante ese uso, ¿cuántas imágenes consumes (ves y compartes)?\n",
      "Valores numéricos asociados a las respuestas [1, 2, 3, 4, 5]\n",
      "Respuestas posibles a la pregunta/variable ['1. Ninguna', '2. Pocas', '3. Ni muchas ni pocas', '4. Bastantes', '5. Recibo y envio imágenes de forma constante']\n"
     ]
    },
    {
     "data": {
      "text/plain": [
       "count    196.000000\n",
       "mean       3.316327\n",
       "std        0.993279\n",
       "min        1.000000\n",
       "25%        3.000000\n",
       "50%        3.000000\n",
       "75%        4.000000\n",
       "max        5.000000\n",
       "Name: Durante ese uso, ¿cuántas imágenes consumes (ves y compartes)?, dtype: float64"
      ]
     },
     "metadata": {},
     "output_type": "display_data"
    },
    {
     "name": "stdout",
     "output_type": "stream",
     "text": [
      "Conteo de cada valor en Durante ese uso, ¿cuántas imágenes consumes (ves y compartes)? expresada como valor / cantidad\n"
     ]
    },
    {
     "data": {
      "text/plain": [
       "1     6\n",
       "2    39\n",
       "3    56\n",
       "4    77\n",
       "5    18\n",
       "Name: Durante ese uso, ¿cuántas imágenes consumes (ves y compartes)?, dtype: int64"
      ]
     },
     "metadata": {},
     "output_type": "display_data"
    },
    {
     "name": "stdout",
     "output_type": "stream",
     "text": [
      "Porcentaje de cada valor en Durante ese uso, ¿cuántas imágenes consumes (ves y compartes)? expresado como valor / porcentaje\n"
     ]
    },
    {
     "data": {
      "text/plain": [
       "1     3.06\n",
       "2    19.90\n",
       "3    28.57\n",
       "4    39.29\n",
       "5     9.18\n",
       "Name: Durante ese uso, ¿cuántas imágenes consumes (ves y compartes)?, dtype: float64"
      ]
     },
     "metadata": {},
     "output_type": "display_data"
    },
    {
     "data": {
      "application/vnd.plotly.v1+json": {
       "config": {
        "linkText": "Export to plot.ly",
        "plotlyServerURL": "https://plot.ly",
        "showLink": false
       },
       "data": [
        {
         "marker": {
          "color": [
           "rgb(213,62,79)",
           "rgb(252,141,89)",
           "rgb(254,224,139)",
           "rgb(230,245,152)",
           "rgb(153,213,148)",
           "rgb(50,136,189)"
          ]
         },
         "type": "bar",
         "uid": "d6599dbe-c970-4baa-9cb7-4cabf38722a2",
         "x": [
          1,
          2,
          3,
          4,
          5
         ],
         "y": [
          6,
          39,
          56,
          77,
          18
         ]
        }
       ],
       "layout": {
        "bargap": 0.2,
        "xaxis": {
         "ticktext": [
          "1. Ninguna",
          "2. Pocas",
          "3. Ni muchas ni pocas",
          "4. Bastantes",
          "5. Recibo y envio imágenes de forma constante"
         ],
         "tickvals": [
          1,
          2,
          3,
          4,
          5
         ]
        }
       }
      },
      "text/html": [
       "<div id=\"1251f789-e66f-4db6-9ff2-4ae4eb901b33\" style=\"height: 525px; width: 100%;\" class=\"plotly-graph-div\"></div><script type=\"text/javascript\">require([\"plotly\"], function(Plotly) { window.PLOTLYENV=window.PLOTLYENV || {};window.PLOTLYENV.BASE_URL=\"https://plot.ly\";\n",
       "if (document.getElementById(\"1251f789-e66f-4db6-9ff2-4ae4eb901b33\")) {\n",
       "    Plotly.newPlot(\"1251f789-e66f-4db6-9ff2-4ae4eb901b33\", [{\"marker\": {\"color\": [\"rgb(213,62,79)\", \"rgb(252,141,89)\", \"rgb(254,224,139)\", \"rgb(230,245,152)\", \"rgb(153,213,148)\", \"rgb(50,136,189)\"]}, \"x\": [1, 2, 3, 4, 5], \"y\": [6, 39, 56, 77, 18], \"type\": \"bar\", \"uid\": \"d6599dbe-c970-4baa-9cb7-4cabf38722a2\"}], {\"bargap\": 0.2, \"xaxis\": {\"ticktext\": [\"1. Ninguna\", \"2. Pocas\", \"3. Ni muchas ni pocas\", \"4. Bastantes\", \"5. Recibo y envio im\\u00e1genes de forma constante\"], \"tickvals\": [1, 2, 3, 4, 5]}}, {\"showLink\": false, \"linkText\": \"Export to plot.ly\", \"plotlyServerURL\": \"https://plot.ly\"}); \n",
       "}\n",
       "});</script><script type=\"text/javascript\">window.addEventListener(\"resize\", function(){if (document.getElementById(\"1251f789-e66f-4db6-9ff2-4ae4eb901b33\")) {window._Plotly.Plots.resize(document.getElementById(\"1251f789-e66f-4db6-9ff2-4ae4eb901b33\"));};})</script>"
      ],
      "text/vnd.plotly.v1+html": [
       "<div id=\"1251f789-e66f-4db6-9ff2-4ae4eb901b33\" style=\"height: 525px; width: 100%;\" class=\"plotly-graph-div\"></div><script type=\"text/javascript\">require([\"plotly\"], function(Plotly) { window.PLOTLYENV=window.PLOTLYENV || {};window.PLOTLYENV.BASE_URL=\"https://plot.ly\";\n",
       "if (document.getElementById(\"1251f789-e66f-4db6-9ff2-4ae4eb901b33\")) {\n",
       "    Plotly.newPlot(\"1251f789-e66f-4db6-9ff2-4ae4eb901b33\", [{\"marker\": {\"color\": [\"rgb(213,62,79)\", \"rgb(252,141,89)\", \"rgb(254,224,139)\", \"rgb(230,245,152)\", \"rgb(153,213,148)\", \"rgb(50,136,189)\"]}, \"x\": [1, 2, 3, 4, 5], \"y\": [6, 39, 56, 77, 18], \"type\": \"bar\", \"uid\": \"d6599dbe-c970-4baa-9cb7-4cabf38722a2\"}], {\"bargap\": 0.2, \"xaxis\": {\"ticktext\": [\"1. Ninguna\", \"2. Pocas\", \"3. Ni muchas ni pocas\", \"4. Bastantes\", \"5. Recibo y envio im\\u00e1genes de forma constante\"], \"tickvals\": [1, 2, 3, 4, 5]}}, {\"showLink\": false, \"linkText\": \"Export to plot.ly\", \"plotlyServerURL\": \"https://plot.ly\"}); \n",
       "}\n",
       "});</script><script type=\"text/javascript\">window.addEventListener(\"resize\", function(){if (document.getElementById(\"1251f789-e66f-4db6-9ff2-4ae4eb901b33\")) {window._Plotly.Plots.resize(document.getElementById(\"1251f789-e66f-4db6-9ff2-4ae4eb901b33\"));};})</script>"
      ]
     },
     "metadata": {},
     "output_type": "display_data"
    },
    {
     "name": "stdout",
     "output_type": "stream",
     "text": [
      "\n",
      "\n",
      "Cluster 2 || variable: ¿Cuál es tu herramienta habitual de consumo de imágenes?\n",
      "Describiendo la pregunta ¿Cuál es tu herramienta habitual de consumo de imágenes?\n",
      "Valores numéricos asociados a las respuestas [1, 2, 3, 4, 5]\n",
      "Respuestas posibles a la pregunta/variable ['1. Móvil', '2. Televisión', '3. Ordenador', '4. Tableta', '5. Otros (Libros y periódicos en papel, marquesinas, museos...)']\n"
     ]
    },
    {
     "data": {
      "text/plain": [
       "count    196.000000\n",
       "mean       1.704082\n",
       "std        0.989267\n",
       "min        1.000000\n",
       "25%        1.000000\n",
       "50%        1.000000\n",
       "75%        3.000000\n",
       "max        5.000000\n",
       "Name: ¿Cuál es tu herramienta habitual de consumo de imágenes?, dtype: float64"
      ]
     },
     "metadata": {},
     "output_type": "display_data"
    },
    {
     "name": "stdout",
     "output_type": "stream",
     "text": [
      "Conteo de cada valor en ¿Cuál es tu herramienta habitual de consumo de imágenes? expresada como valor / cantidad\n"
     ]
    },
    {
     "data": {
      "text/plain": [
       "1    124\n",
       "2     14\n",
       "3     51\n",
       "4      6\n",
       "5      1\n",
       "Name: ¿Cuál es tu herramienta habitual de consumo de imágenes?, dtype: int64"
      ]
     },
     "metadata": {},
     "output_type": "display_data"
    },
    {
     "name": "stdout",
     "output_type": "stream",
     "text": [
      "Porcentaje de cada valor en ¿Cuál es tu herramienta habitual de consumo de imágenes? expresado como valor / porcentaje\n"
     ]
    },
    {
     "data": {
      "text/plain": [
       "1    63.27\n",
       "2     7.14\n",
       "3    26.02\n",
       "4     3.06\n",
       "5     0.51\n",
       "Name: ¿Cuál es tu herramienta habitual de consumo de imágenes?, dtype: float64"
      ]
     },
     "metadata": {},
     "output_type": "display_data"
    },
    {
     "data": {
      "application/vnd.plotly.v1+json": {
       "config": {
        "linkText": "Export to plot.ly",
        "plotlyServerURL": "https://plot.ly",
        "showLink": false
       },
       "data": [
        {
         "marker": {
          "color": [
           "rgb(213,62,79)",
           "rgb(252,141,89)",
           "rgb(254,224,139)",
           "rgb(230,245,152)",
           "rgb(153,213,148)",
           "rgb(50,136,189)"
          ]
         },
         "type": "bar",
         "uid": "131b016a-5fd9-4142-8113-80bf24d1cb11",
         "x": [
          1,
          2,
          3,
          4,
          5
         ],
         "y": [
          124,
          14,
          51,
          6,
          1
         ]
        }
       ],
       "layout": {
        "bargap": 0.2,
        "xaxis": {
         "ticktext": [
          "1. Móvil",
          "2. Televisión",
          "3. Ordenador",
          "4. Tableta",
          "5. Otros (Libros y periódicos en papel, marquesinas, museos...)"
         ],
         "tickvals": [
          1,
          2,
          3,
          4,
          5
         ]
        }
       }
      },
      "text/html": [
       "<div id=\"623ad567-b936-4bc3-a115-ba506f4f3111\" style=\"height: 525px; width: 100%;\" class=\"plotly-graph-div\"></div><script type=\"text/javascript\">require([\"plotly\"], function(Plotly) { window.PLOTLYENV=window.PLOTLYENV || {};window.PLOTLYENV.BASE_URL=\"https://plot.ly\";\n",
       "if (document.getElementById(\"623ad567-b936-4bc3-a115-ba506f4f3111\")) {\n",
       "    Plotly.newPlot(\"623ad567-b936-4bc3-a115-ba506f4f3111\", [{\"marker\": {\"color\": [\"rgb(213,62,79)\", \"rgb(252,141,89)\", \"rgb(254,224,139)\", \"rgb(230,245,152)\", \"rgb(153,213,148)\", \"rgb(50,136,189)\"]}, \"x\": [1, 2, 3, 4, 5], \"y\": [124, 14, 51, 6, 1], \"type\": \"bar\", \"uid\": \"131b016a-5fd9-4142-8113-80bf24d1cb11\"}], {\"bargap\": 0.2, \"xaxis\": {\"ticktext\": [\"1. M\\u00f3vil\", \"2. Televisi\\u00f3n\", \"3. Ordenador\", \"4. Tableta\", \"5. Otros (Libros y peri\\u00f3dicos en papel, marquesinas, museos...)\"], \"tickvals\": [1, 2, 3, 4, 5]}}, {\"showLink\": false, \"linkText\": \"Export to plot.ly\", \"plotlyServerURL\": \"https://plot.ly\"}); \n",
       "}\n",
       "});</script><script type=\"text/javascript\">window.addEventListener(\"resize\", function(){if (document.getElementById(\"623ad567-b936-4bc3-a115-ba506f4f3111\")) {window._Plotly.Plots.resize(document.getElementById(\"623ad567-b936-4bc3-a115-ba506f4f3111\"));};})</script>"
      ],
      "text/vnd.plotly.v1+html": [
       "<div id=\"623ad567-b936-4bc3-a115-ba506f4f3111\" style=\"height: 525px; width: 100%;\" class=\"plotly-graph-div\"></div><script type=\"text/javascript\">require([\"plotly\"], function(Plotly) { window.PLOTLYENV=window.PLOTLYENV || {};window.PLOTLYENV.BASE_URL=\"https://plot.ly\";\n",
       "if (document.getElementById(\"623ad567-b936-4bc3-a115-ba506f4f3111\")) {\n",
       "    Plotly.newPlot(\"623ad567-b936-4bc3-a115-ba506f4f3111\", [{\"marker\": {\"color\": [\"rgb(213,62,79)\", \"rgb(252,141,89)\", \"rgb(254,224,139)\", \"rgb(230,245,152)\", \"rgb(153,213,148)\", \"rgb(50,136,189)\"]}, \"x\": [1, 2, 3, 4, 5], \"y\": [124, 14, 51, 6, 1], \"type\": \"bar\", \"uid\": \"131b016a-5fd9-4142-8113-80bf24d1cb11\"}], {\"bargap\": 0.2, \"xaxis\": {\"ticktext\": [\"1. M\\u00f3vil\", \"2. Televisi\\u00f3n\", \"3. Ordenador\", \"4. Tableta\", \"5. Otros (Libros y peri\\u00f3dicos en papel, marquesinas, museos...)\"], \"tickvals\": [1, 2, 3, 4, 5]}}, {\"showLink\": false, \"linkText\": \"Export to plot.ly\", \"plotlyServerURL\": \"https://plot.ly\"}); \n",
       "}\n",
       "});</script><script type=\"text/javascript\">window.addEventListener(\"resize\", function(){if (document.getElementById(\"623ad567-b936-4bc3-a115-ba506f4f3111\")) {window._Plotly.Plots.resize(document.getElementById(\"623ad567-b936-4bc3-a115-ba506f4f3111\"));};})</script>"
      ]
     },
     "metadata": {},
     "output_type": "display_data"
    },
    {
     "name": "stdout",
     "output_type": "stream",
     "text": [
      "\n",
      "\n",
      "Cluster 2 || variable: ¿Cada cuánto tiempo consumes imágenes?\n",
      "Describiendo la pregunta ¿Cada cuánto tiempo consumes imágenes?\n",
      "Valores numéricos asociados a las respuestas [1, 2, 3, 4]\n",
      "Respuestas posibles a la pregunta/variable ['1. Nunca', '2. Dos o tres veces por semana', '3. Casi todos los días', '4. A diario']\n"
     ]
    },
    {
     "data": {
      "text/plain": [
       "count    196.000000\n",
       "mean       2.979592\n",
       "std        0.899910\n",
       "min        1.000000\n",
       "25%        2.000000\n",
       "50%        3.000000\n",
       "75%        4.000000\n",
       "max        4.000000\n",
       "Name: ¿Cada cuánto tiempo consumes imágenes?, dtype: float64"
      ]
     },
     "metadata": {},
     "output_type": "display_data"
    },
    {
     "name": "stdout",
     "output_type": "stream",
     "text": [
      "Conteo de cada valor en ¿Cada cuánto tiempo consumes imágenes? expresada como valor / cantidad\n"
     ]
    },
    {
     "data": {
      "text/plain": [
       "1    10\n",
       "2    51\n",
       "3    68\n",
       "4    67\n",
       "Name: ¿Cada cuánto tiempo consumes imágenes?, dtype: int64"
      ]
     },
     "metadata": {},
     "output_type": "display_data"
    },
    {
     "name": "stdout",
     "output_type": "stream",
     "text": [
      "Porcentaje de cada valor en ¿Cada cuánto tiempo consumes imágenes? expresado como valor / porcentaje\n"
     ]
    },
    {
     "data": {
      "text/plain": [
       "1     5.10\n",
       "2    26.02\n",
       "3    34.69\n",
       "4    34.18\n",
       "Name: ¿Cada cuánto tiempo consumes imágenes?, dtype: float64"
      ]
     },
     "metadata": {},
     "output_type": "display_data"
    },
    {
     "data": {
      "application/vnd.plotly.v1+json": {
       "config": {
        "linkText": "Export to plot.ly",
        "plotlyServerURL": "https://plot.ly",
        "showLink": false
       },
       "data": [
        {
         "marker": {
          "color": [
           "rgb(213,62,79)",
           "rgb(252,141,89)",
           "rgb(254,224,139)",
           "rgb(230,245,152)",
           "rgb(153,213,148)",
           "rgb(50,136,189)"
          ]
         },
         "type": "bar",
         "uid": "ebd1153a-43b7-4364-b4cb-790c4fc78fa8",
         "x": [
          1,
          2,
          3,
          4
         ],
         "y": [
          10,
          51,
          68,
          67
         ]
        }
       ],
       "layout": {
        "bargap": 0.2,
        "xaxis": {
         "ticktext": [
          "1. Nunca",
          "2. Dos o tres veces por semana",
          "3. Casi todos los días",
          "4. A diario"
         ],
         "tickvals": [
          1,
          2,
          3,
          4
         ]
        }
       }
      },
      "text/html": [
       "<div id=\"a2c5867d-c39b-4a4f-a8b1-638f5021b2e5\" style=\"height: 525px; width: 100%;\" class=\"plotly-graph-div\"></div><script type=\"text/javascript\">require([\"plotly\"], function(Plotly) { window.PLOTLYENV=window.PLOTLYENV || {};window.PLOTLYENV.BASE_URL=\"https://plot.ly\";\n",
       "if (document.getElementById(\"a2c5867d-c39b-4a4f-a8b1-638f5021b2e5\")) {\n",
       "    Plotly.newPlot(\"a2c5867d-c39b-4a4f-a8b1-638f5021b2e5\", [{\"marker\": {\"color\": [\"rgb(213,62,79)\", \"rgb(252,141,89)\", \"rgb(254,224,139)\", \"rgb(230,245,152)\", \"rgb(153,213,148)\", \"rgb(50,136,189)\"]}, \"x\": [1, 2, 3, 4], \"y\": [10, 51, 68, 67], \"type\": \"bar\", \"uid\": \"ebd1153a-43b7-4364-b4cb-790c4fc78fa8\"}], {\"bargap\": 0.2, \"xaxis\": {\"ticktext\": [\"1. Nunca\", \"2. Dos o tres veces por semana\", \"3. Casi todos los d\\u00edas\", \"4. A diario\"], \"tickvals\": [1, 2, 3, 4]}}, {\"showLink\": false, \"linkText\": \"Export to plot.ly\", \"plotlyServerURL\": \"https://plot.ly\"}); \n",
       "}\n",
       "});</script><script type=\"text/javascript\">window.addEventListener(\"resize\", function(){if (document.getElementById(\"a2c5867d-c39b-4a4f-a8b1-638f5021b2e5\")) {window._Plotly.Plots.resize(document.getElementById(\"a2c5867d-c39b-4a4f-a8b1-638f5021b2e5\"));};})</script>"
      ],
      "text/vnd.plotly.v1+html": [
       "<div id=\"a2c5867d-c39b-4a4f-a8b1-638f5021b2e5\" style=\"height: 525px; width: 100%;\" class=\"plotly-graph-div\"></div><script type=\"text/javascript\">require([\"plotly\"], function(Plotly) { window.PLOTLYENV=window.PLOTLYENV || {};window.PLOTLYENV.BASE_URL=\"https://plot.ly\";\n",
       "if (document.getElementById(\"a2c5867d-c39b-4a4f-a8b1-638f5021b2e5\")) {\n",
       "    Plotly.newPlot(\"a2c5867d-c39b-4a4f-a8b1-638f5021b2e5\", [{\"marker\": {\"color\": [\"rgb(213,62,79)\", \"rgb(252,141,89)\", \"rgb(254,224,139)\", \"rgb(230,245,152)\", \"rgb(153,213,148)\", \"rgb(50,136,189)\"]}, \"x\": [1, 2, 3, 4], \"y\": [10, 51, 68, 67], \"type\": \"bar\", \"uid\": \"ebd1153a-43b7-4364-b4cb-790c4fc78fa8\"}], {\"bargap\": 0.2, \"xaxis\": {\"ticktext\": [\"1. Nunca\", \"2. Dos o tres veces por semana\", \"3. Casi todos los d\\u00edas\", \"4. A diario\"], \"tickvals\": [1, 2, 3, 4]}}, {\"showLink\": false, \"linkText\": \"Export to plot.ly\", \"plotlyServerURL\": \"https://plot.ly\"}); \n",
       "}\n",
       "});</script><script type=\"text/javascript\">window.addEventListener(\"resize\", function(){if (document.getElementById(\"a2c5867d-c39b-4a4f-a8b1-638f5021b2e5\")) {window._Plotly.Plots.resize(document.getElementById(\"a2c5867d-c39b-4a4f-a8b1-638f5021b2e5\"));};})</script>"
      ]
     },
     "metadata": {},
     "output_type": "display_data"
    },
    {
     "name": "stdout",
     "output_type": "stream",
     "text": [
      "\n",
      "\n",
      "Cluster 4 || variable: Clasifica tu grado de visión\n",
      "Describiendo la pregunta Clasifica tu grado de visión\n",
      "Valores numéricos asociados a las respuestas [1, 2, 3, 4, 5]\n",
      "Respuestas posibles a la pregunta/variable ['1. Muy malo', '2. Malo', '3. Regular', '4. Bueno', '5. Muy bueno']\n"
     ]
    },
    {
     "data": {
      "text/plain": [
       "count    98.000000\n",
       "mean      3.551020\n",
       "std       1.056374\n",
       "min       1.000000\n",
       "25%       3.000000\n",
       "50%       4.000000\n",
       "75%       4.000000\n",
       "max       5.000000\n",
       "Name: Clasifica tu grado de visión, dtype: float64"
      ]
     },
     "metadata": {},
     "output_type": "display_data"
    },
    {
     "name": "stdout",
     "output_type": "stream",
     "text": [
      "Conteo de cada valor en Clasifica tu grado de visión expresada como valor / cantidad\n"
     ]
    },
    {
     "data": {
      "text/plain": [
       "1     2\n",
       "2    16\n",
       "3    26\n",
       "4    34\n",
       "5    20\n",
       "Name: Clasifica tu grado de visión, dtype: int64"
      ]
     },
     "metadata": {},
     "output_type": "display_data"
    },
    {
     "name": "stdout",
     "output_type": "stream",
     "text": [
      "Porcentaje de cada valor en Clasifica tu grado de visión expresado como valor / porcentaje\n"
     ]
    },
    {
     "data": {
      "text/plain": [
       "1     2.04\n",
       "2    16.33\n",
       "3    26.53\n",
       "4    34.69\n",
       "5    20.41\n",
       "Name: Clasifica tu grado de visión, dtype: float64"
      ]
     },
     "metadata": {},
     "output_type": "display_data"
    },
    {
     "data": {
      "application/vnd.plotly.v1+json": {
       "config": {
        "linkText": "Export to plot.ly",
        "plotlyServerURL": "https://plot.ly",
        "showLink": false
       },
       "data": [
        {
         "marker": {
          "color": [
           "rgb(213,62,79)",
           "rgb(252,141,89)",
           "rgb(254,224,139)",
           "rgb(230,245,152)",
           "rgb(153,213,148)",
           "rgb(50,136,189)"
          ]
         },
         "type": "bar",
         "uid": "b1f6519c-6a46-4fe4-ae39-0743c31fc6ab",
         "x": [
          1,
          2,
          3,
          4,
          5
         ],
         "y": [
          2,
          16,
          26,
          34,
          20
         ]
        }
       ],
       "layout": {
        "bargap": 0.2,
        "xaxis": {
         "ticktext": [
          "1. Muy malo",
          "2. Malo",
          "3. Regular",
          "4. Bueno",
          "5. Muy bueno"
         ],
         "tickvals": [
          1,
          2,
          3,
          4,
          5
         ]
        }
       }
      },
      "text/html": [
       "<div id=\"b8d441a7-7859-40fc-a6cc-0ffcd5192995\" style=\"height: 525px; width: 100%;\" class=\"plotly-graph-div\"></div><script type=\"text/javascript\">require([\"plotly\"], function(Plotly) { window.PLOTLYENV=window.PLOTLYENV || {};window.PLOTLYENV.BASE_URL=\"https://plot.ly\";\n",
       "if (document.getElementById(\"b8d441a7-7859-40fc-a6cc-0ffcd5192995\")) {\n",
       "    Plotly.newPlot(\"b8d441a7-7859-40fc-a6cc-0ffcd5192995\", [{\"marker\": {\"color\": [\"rgb(213,62,79)\", \"rgb(252,141,89)\", \"rgb(254,224,139)\", \"rgb(230,245,152)\", \"rgb(153,213,148)\", \"rgb(50,136,189)\"]}, \"x\": [1, 2, 3, 4, 5], \"y\": [2, 16, 26, 34, 20], \"type\": \"bar\", \"uid\": \"b1f6519c-6a46-4fe4-ae39-0743c31fc6ab\"}], {\"bargap\": 0.2, \"xaxis\": {\"ticktext\": [\"1. Muy malo\", \"2. Malo\", \"3. Regular\", \"4. Bueno\", \"5. Muy bueno\"], \"tickvals\": [1, 2, 3, 4, 5]}}, {\"showLink\": false, \"linkText\": \"Export to plot.ly\", \"plotlyServerURL\": \"https://plot.ly\"}); \n",
       "}\n",
       "});</script><script type=\"text/javascript\">window.addEventListener(\"resize\", function(){if (document.getElementById(\"b8d441a7-7859-40fc-a6cc-0ffcd5192995\")) {window._Plotly.Plots.resize(document.getElementById(\"b8d441a7-7859-40fc-a6cc-0ffcd5192995\"));};})</script>"
      ],
      "text/vnd.plotly.v1+html": [
       "<div id=\"b8d441a7-7859-40fc-a6cc-0ffcd5192995\" style=\"height: 525px; width: 100%;\" class=\"plotly-graph-div\"></div><script type=\"text/javascript\">require([\"plotly\"], function(Plotly) { window.PLOTLYENV=window.PLOTLYENV || {};window.PLOTLYENV.BASE_URL=\"https://plot.ly\";\n",
       "if (document.getElementById(\"b8d441a7-7859-40fc-a6cc-0ffcd5192995\")) {\n",
       "    Plotly.newPlot(\"b8d441a7-7859-40fc-a6cc-0ffcd5192995\", [{\"marker\": {\"color\": [\"rgb(213,62,79)\", \"rgb(252,141,89)\", \"rgb(254,224,139)\", \"rgb(230,245,152)\", \"rgb(153,213,148)\", \"rgb(50,136,189)\"]}, \"x\": [1, 2, 3, 4, 5], \"y\": [2, 16, 26, 34, 20], \"type\": \"bar\", \"uid\": \"b1f6519c-6a46-4fe4-ae39-0743c31fc6ab\"}], {\"bargap\": 0.2, \"xaxis\": {\"ticktext\": [\"1. Muy malo\", \"2. Malo\", \"3. Regular\", \"4. Bueno\", \"5. Muy bueno\"], \"tickvals\": [1, 2, 3, 4, 5]}}, {\"showLink\": false, \"linkText\": \"Export to plot.ly\", \"plotlyServerURL\": \"https://plot.ly\"}); \n",
       "}\n",
       "});</script><script type=\"text/javascript\">window.addEventListener(\"resize\", function(){if (document.getElementById(\"b8d441a7-7859-40fc-a6cc-0ffcd5192995\")) {window._Plotly.Plots.resize(document.getElementById(\"b8d441a7-7859-40fc-a6cc-0ffcd5192995\"));};})</script>"
      ]
     },
     "metadata": {},
     "output_type": "display_data"
    },
    {
     "name": "stdout",
     "output_type": "stream",
     "text": [
      "\n",
      "\n",
      "Cluster 4 || variable: ¿Utilizas gafas o lentes de contacto?\n",
      "Describiendo la pregunta ¿Utilizas gafas o lentes de contacto?\n",
      "Valores numéricos asociados a las respuestas [0, 1]\n",
      "Respuestas posibles a la pregunta/variable ['No', 'Sí']\n"
     ]
    },
    {
     "data": {
      "text/plain": [
       "count    98.000000\n",
       "mean      0.755102\n",
       "std       0.432238\n",
       "min       0.000000\n",
       "25%       1.000000\n",
       "50%       1.000000\n",
       "75%       1.000000\n",
       "max       1.000000\n",
       "Name: ¿Utilizas gafas o lentes de contacto?, dtype: float64"
      ]
     },
     "metadata": {},
     "output_type": "display_data"
    },
    {
     "name": "stdout",
     "output_type": "stream",
     "text": [
      "Conteo de cada valor en ¿Utilizas gafas o lentes de contacto? expresada como valor / cantidad\n"
     ]
    },
    {
     "data": {
      "text/plain": [
       "0    24\n",
       "1    74\n",
       "Name: ¿Utilizas gafas o lentes de contacto?, dtype: int64"
      ]
     },
     "metadata": {},
     "output_type": "display_data"
    },
    {
     "name": "stdout",
     "output_type": "stream",
     "text": [
      "Porcentaje de cada valor en ¿Utilizas gafas o lentes de contacto? expresado como valor / porcentaje\n"
     ]
    },
    {
     "data": {
      "text/plain": [
       "0    24.49\n",
       "1    75.51\n",
       "Name: ¿Utilizas gafas o lentes de contacto?, dtype: float64"
      ]
     },
     "metadata": {},
     "output_type": "display_data"
    },
    {
     "data": {
      "application/vnd.plotly.v1+json": {
       "config": {
        "linkText": "Export to plot.ly",
        "plotlyServerURL": "https://plot.ly",
        "showLink": false
       },
       "data": [
        {
         "marker": {
          "color": [
           "rgb(213,62,79)",
           "rgb(252,141,89)",
           "rgb(254,224,139)",
           "rgb(230,245,152)",
           "rgb(153,213,148)",
           "rgb(50,136,189)"
          ]
         },
         "type": "bar",
         "uid": "cf0d0765-6cb3-43a1-bef2-788c11bbefae",
         "x": [
          0,
          1
         ],
         "y": [
          24,
          74
         ]
        }
       ],
       "layout": {
        "bargap": 0.2,
        "xaxis": {
         "ticktext": [
          "No",
          "Sí"
         ],
         "tickvals": [
          0,
          1
         ]
        }
       }
      },
      "text/html": [
       "<div id=\"2c347191-da65-444e-87fa-4e233866096b\" style=\"height: 525px; width: 100%;\" class=\"plotly-graph-div\"></div><script type=\"text/javascript\">require([\"plotly\"], function(Plotly) { window.PLOTLYENV=window.PLOTLYENV || {};window.PLOTLYENV.BASE_URL=\"https://plot.ly\";\n",
       "if (document.getElementById(\"2c347191-da65-444e-87fa-4e233866096b\")) {\n",
       "    Plotly.newPlot(\"2c347191-da65-444e-87fa-4e233866096b\", [{\"marker\": {\"color\": [\"rgb(213,62,79)\", \"rgb(252,141,89)\", \"rgb(254,224,139)\", \"rgb(230,245,152)\", \"rgb(153,213,148)\", \"rgb(50,136,189)\"]}, \"x\": [0, 1], \"y\": [24, 74], \"type\": \"bar\", \"uid\": \"cf0d0765-6cb3-43a1-bef2-788c11bbefae\"}], {\"bargap\": 0.2, \"xaxis\": {\"ticktext\": [\"No\", \"S\\u00ed\"], \"tickvals\": [0, 1]}}, {\"showLink\": false, \"linkText\": \"Export to plot.ly\", \"plotlyServerURL\": \"https://plot.ly\"}); \n",
       "}\n",
       "});</script><script type=\"text/javascript\">window.addEventListener(\"resize\", function(){if (document.getElementById(\"2c347191-da65-444e-87fa-4e233866096b\")) {window._Plotly.Plots.resize(document.getElementById(\"2c347191-da65-444e-87fa-4e233866096b\"));};})</script>"
      ],
      "text/vnd.plotly.v1+html": [
       "<div id=\"2c347191-da65-444e-87fa-4e233866096b\" style=\"height: 525px; width: 100%;\" class=\"plotly-graph-div\"></div><script type=\"text/javascript\">require([\"plotly\"], function(Plotly) { window.PLOTLYENV=window.PLOTLYENV || {};window.PLOTLYENV.BASE_URL=\"https://plot.ly\";\n",
       "if (document.getElementById(\"2c347191-da65-444e-87fa-4e233866096b\")) {\n",
       "    Plotly.newPlot(\"2c347191-da65-444e-87fa-4e233866096b\", [{\"marker\": {\"color\": [\"rgb(213,62,79)\", \"rgb(252,141,89)\", \"rgb(254,224,139)\", \"rgb(230,245,152)\", \"rgb(153,213,148)\", \"rgb(50,136,189)\"]}, \"x\": [0, 1], \"y\": [24, 74], \"type\": \"bar\", \"uid\": \"cf0d0765-6cb3-43a1-bef2-788c11bbefae\"}], {\"bargap\": 0.2, \"xaxis\": {\"ticktext\": [\"No\", \"S\\u00ed\"], \"tickvals\": [0, 1]}}, {\"showLink\": false, \"linkText\": \"Export to plot.ly\", \"plotlyServerURL\": \"https://plot.ly\"}); \n",
       "}\n",
       "});</script><script type=\"text/javascript\">window.addEventListener(\"resize\", function(){if (document.getElementById(\"2c347191-da65-444e-87fa-4e233866096b\")) {window._Plotly.Plots.resize(document.getElementById(\"2c347191-da65-444e-87fa-4e233866096b\"));};})</script>"
      ]
     },
     "metadata": {},
     "output_type": "display_data"
    },
    {
     "name": "stdout",
     "output_type": "stream",
     "text": [
      "\n",
      "\n",
      "Cluster 4 || variable: ¿Tienes alguna carencia visual que afecte a la recepción de formas, colores, distancias, etc.?\n",
      "Describiendo la pregunta ¿Tienes alguna carencia visual que afecte a la recepción de formas, colores, distancias, etc.?\n",
      "Valores numéricos asociados a las respuestas [0, 1]\n",
      "Respuestas posibles a la pregunta/variable ['No', 'Sí']\n"
     ]
    },
    {
     "data": {
      "text/plain": [
       "count    98.000000\n",
       "mean      0.418367\n",
       "std       0.495827\n",
       "min       0.000000\n",
       "25%       0.000000\n",
       "50%       0.000000\n",
       "75%       1.000000\n",
       "max       1.000000\n",
       "Name: ¿Tienes alguna carencia visual que afecte a la recepción de formas, colores, distancias, etc.?, dtype: float64"
      ]
     },
     "metadata": {},
     "output_type": "display_data"
    },
    {
     "name": "stdout",
     "output_type": "stream",
     "text": [
      "Conteo de cada valor en ¿Tienes alguna carencia visual que afecte a la recepción de formas, colores, distancias, etc.? expresada como valor / cantidad\n"
     ]
    },
    {
     "data": {
      "text/plain": [
       "0    57\n",
       "1    41\n",
       "Name: ¿Tienes alguna carencia visual que afecte a la recepción de formas, colores, distancias, etc.?, dtype: int64"
      ]
     },
     "metadata": {},
     "output_type": "display_data"
    },
    {
     "name": "stdout",
     "output_type": "stream",
     "text": [
      "Porcentaje de cada valor en ¿Tienes alguna carencia visual que afecte a la recepción de formas, colores, distancias, etc.? expresado como valor / porcentaje\n"
     ]
    },
    {
     "data": {
      "text/plain": [
       "0    58.16\n",
       "1    41.84\n",
       "Name: ¿Tienes alguna carencia visual que afecte a la recepción de formas, colores, distancias, etc.?, dtype: float64"
      ]
     },
     "metadata": {},
     "output_type": "display_data"
    },
    {
     "data": {
      "application/vnd.plotly.v1+json": {
       "config": {
        "linkText": "Export to plot.ly",
        "plotlyServerURL": "https://plot.ly",
        "showLink": false
       },
       "data": [
        {
         "marker": {
          "color": [
           "rgb(213,62,79)",
           "rgb(252,141,89)",
           "rgb(254,224,139)",
           "rgb(230,245,152)",
           "rgb(153,213,148)",
           "rgb(50,136,189)"
          ]
         },
         "type": "bar",
         "uid": "f2d56b31-e42f-43a7-93e3-5b5496dff171",
         "x": [
          0,
          1
         ],
         "y": [
          57,
          41
         ]
        }
       ],
       "layout": {
        "bargap": 0.2,
        "xaxis": {
         "ticktext": [
          "No",
          "Sí"
         ],
         "tickvals": [
          0,
          1
         ]
        }
       }
      },
      "text/html": [
       "<div id=\"990242e3-aecb-4a65-9177-8572fd55d682\" style=\"height: 525px; width: 100%;\" class=\"plotly-graph-div\"></div><script type=\"text/javascript\">require([\"plotly\"], function(Plotly) { window.PLOTLYENV=window.PLOTLYENV || {};window.PLOTLYENV.BASE_URL=\"https://plot.ly\";\n",
       "if (document.getElementById(\"990242e3-aecb-4a65-9177-8572fd55d682\")) {\n",
       "    Plotly.newPlot(\"990242e3-aecb-4a65-9177-8572fd55d682\", [{\"marker\": {\"color\": [\"rgb(213,62,79)\", \"rgb(252,141,89)\", \"rgb(254,224,139)\", \"rgb(230,245,152)\", \"rgb(153,213,148)\", \"rgb(50,136,189)\"]}, \"x\": [0, 1], \"y\": [57, 41], \"type\": \"bar\", \"uid\": \"f2d56b31-e42f-43a7-93e3-5b5496dff171\"}], {\"bargap\": 0.2, \"xaxis\": {\"ticktext\": [\"No\", \"S\\u00ed\"], \"tickvals\": [0, 1]}}, {\"showLink\": false, \"linkText\": \"Export to plot.ly\", \"plotlyServerURL\": \"https://plot.ly\"}); \n",
       "}\n",
       "});</script><script type=\"text/javascript\">window.addEventListener(\"resize\", function(){if (document.getElementById(\"990242e3-aecb-4a65-9177-8572fd55d682\")) {window._Plotly.Plots.resize(document.getElementById(\"990242e3-aecb-4a65-9177-8572fd55d682\"));};})</script>"
      ],
      "text/vnd.plotly.v1+html": [
       "<div id=\"990242e3-aecb-4a65-9177-8572fd55d682\" style=\"height: 525px; width: 100%;\" class=\"plotly-graph-div\"></div><script type=\"text/javascript\">require([\"plotly\"], function(Plotly) { window.PLOTLYENV=window.PLOTLYENV || {};window.PLOTLYENV.BASE_URL=\"https://plot.ly\";\n",
       "if (document.getElementById(\"990242e3-aecb-4a65-9177-8572fd55d682\")) {\n",
       "    Plotly.newPlot(\"990242e3-aecb-4a65-9177-8572fd55d682\", [{\"marker\": {\"color\": [\"rgb(213,62,79)\", \"rgb(252,141,89)\", \"rgb(254,224,139)\", \"rgb(230,245,152)\", \"rgb(153,213,148)\", \"rgb(50,136,189)\"]}, \"x\": [0, 1], \"y\": [57, 41], \"type\": \"bar\", \"uid\": \"f2d56b31-e42f-43a7-93e3-5b5496dff171\"}], {\"bargap\": 0.2, \"xaxis\": {\"ticktext\": [\"No\", \"S\\u00ed\"], \"tickvals\": [0, 1]}}, {\"showLink\": false, \"linkText\": \"Export to plot.ly\", \"plotlyServerURL\": \"https://plot.ly\"}); \n",
       "}\n",
       "});</script><script type=\"text/javascript\">window.addEventListener(\"resize\", function(){if (document.getElementById(\"990242e3-aecb-4a65-9177-8572fd55d682\")) {window._Plotly.Plots.resize(document.getElementById(\"990242e3-aecb-4a65-9177-8572fd55d682\"));};})</script>"
      ]
     },
     "metadata": {},
     "output_type": "display_data"
    },
    {
     "name": "stdout",
     "output_type": "stream",
     "text": [
      "\n",
      "\n",
      "Cluster 4 || variable: ¿Tienes acceso a dispositivos (ordenador, móvil, tablet, etc.) conectados a Internet habitualmente?\n",
      "Describiendo la pregunta ¿Tienes acceso a dispositivos (ordenador, móvil, tablet, etc.) conectados a Internet habitualmente?\n",
      "Valores numéricos asociados a las respuestas [1, 2, 3, 4, 5]\n",
      "Respuestas posibles a la pregunta/variable ['1. Nunca', '2. Ocasionalmente', '3. Semanalmente', '4. Diariamente', '5. Varias veces al día']\n"
     ]
    },
    {
     "data": {
      "text/plain": [
       "count    98.000000\n",
       "mean      4.897959\n",
       "std       0.304258\n",
       "min       4.000000\n",
       "25%       5.000000\n",
       "50%       5.000000\n",
       "75%       5.000000\n",
       "max       5.000000\n",
       "Name: ¿Tienes acceso a dispositivos (ordenador, móvil, tablet, etc.) conectados a Internet habitualmente?, dtype: float64"
      ]
     },
     "metadata": {},
     "output_type": "display_data"
    },
    {
     "name": "stdout",
     "output_type": "stream",
     "text": [
      "Conteo de cada valor en ¿Tienes acceso a dispositivos (ordenador, móvil, tablet, etc.) conectados a Internet habitualmente? expresada como valor / cantidad\n"
     ]
    },
    {
     "data": {
      "text/plain": [
       "4    10\n",
       "5    88\n",
       "Name: ¿Tienes acceso a dispositivos (ordenador, móvil, tablet, etc.) conectados a Internet habitualmente?, dtype: int64"
      ]
     },
     "metadata": {},
     "output_type": "display_data"
    },
    {
     "name": "stdout",
     "output_type": "stream",
     "text": [
      "Porcentaje de cada valor en ¿Tienes acceso a dispositivos (ordenador, móvil, tablet, etc.) conectados a Internet habitualmente? expresado como valor / porcentaje\n"
     ]
    },
    {
     "data": {
      "text/plain": [
       "4    10.2\n",
       "5    89.8\n",
       "Name: ¿Tienes acceso a dispositivos (ordenador, móvil, tablet, etc.) conectados a Internet habitualmente?, dtype: float64"
      ]
     },
     "metadata": {},
     "output_type": "display_data"
    },
    {
     "data": {
      "application/vnd.plotly.v1+json": {
       "config": {
        "linkText": "Export to plot.ly",
        "plotlyServerURL": "https://plot.ly",
        "showLink": false
       },
       "data": [
        {
         "marker": {
          "color": [
           "rgb(213,62,79)",
           "rgb(252,141,89)",
           "rgb(254,224,139)",
           "rgb(230,245,152)",
           "rgb(153,213,148)",
           "rgb(50,136,189)"
          ]
         },
         "type": "bar",
         "uid": "fedf6734-fb22-46da-a10e-ef6728bef100",
         "x": [
          4,
          5
         ],
         "y": [
          10,
          88
         ]
        }
       ],
       "layout": {
        "bargap": 0.2,
        "xaxis": {
         "ticktext": [
          "1. Nunca",
          "2. Ocasionalmente",
          "3. Semanalmente",
          "4. Diariamente",
          "5. Varias veces al día"
         ],
         "tickvals": [
          1,
          2,
          3,
          4,
          5
         ]
        }
       }
      },
      "text/html": [
       "<div id=\"8616edbf-ba23-4e54-93aa-a6e6f19ca0a6\" style=\"height: 525px; width: 100%;\" class=\"plotly-graph-div\"></div><script type=\"text/javascript\">require([\"plotly\"], function(Plotly) { window.PLOTLYENV=window.PLOTLYENV || {};window.PLOTLYENV.BASE_URL=\"https://plot.ly\";\n",
       "if (document.getElementById(\"8616edbf-ba23-4e54-93aa-a6e6f19ca0a6\")) {\n",
       "    Plotly.newPlot(\"8616edbf-ba23-4e54-93aa-a6e6f19ca0a6\", [{\"marker\": {\"color\": [\"rgb(213,62,79)\", \"rgb(252,141,89)\", \"rgb(254,224,139)\", \"rgb(230,245,152)\", \"rgb(153,213,148)\", \"rgb(50,136,189)\"]}, \"x\": [4, 5], \"y\": [10, 88], \"type\": \"bar\", \"uid\": \"fedf6734-fb22-46da-a10e-ef6728bef100\"}], {\"bargap\": 0.2, \"xaxis\": {\"ticktext\": [\"1. Nunca\", \"2. Ocasionalmente\", \"3. Semanalmente\", \"4. Diariamente\", \"5. Varias veces al d\\u00eda\"], \"tickvals\": [1, 2, 3, 4, 5]}}, {\"showLink\": false, \"linkText\": \"Export to plot.ly\", \"plotlyServerURL\": \"https://plot.ly\"}); \n",
       "}\n",
       "});</script><script type=\"text/javascript\">window.addEventListener(\"resize\", function(){if (document.getElementById(\"8616edbf-ba23-4e54-93aa-a6e6f19ca0a6\")) {window._Plotly.Plots.resize(document.getElementById(\"8616edbf-ba23-4e54-93aa-a6e6f19ca0a6\"));};})</script>"
      ],
      "text/vnd.plotly.v1+html": [
       "<div id=\"8616edbf-ba23-4e54-93aa-a6e6f19ca0a6\" style=\"height: 525px; width: 100%;\" class=\"plotly-graph-div\"></div><script type=\"text/javascript\">require([\"plotly\"], function(Plotly) { window.PLOTLYENV=window.PLOTLYENV || {};window.PLOTLYENV.BASE_URL=\"https://plot.ly\";\n",
       "if (document.getElementById(\"8616edbf-ba23-4e54-93aa-a6e6f19ca0a6\")) {\n",
       "    Plotly.newPlot(\"8616edbf-ba23-4e54-93aa-a6e6f19ca0a6\", [{\"marker\": {\"color\": [\"rgb(213,62,79)\", \"rgb(252,141,89)\", \"rgb(254,224,139)\", \"rgb(230,245,152)\", \"rgb(153,213,148)\", \"rgb(50,136,189)\"]}, \"x\": [4, 5], \"y\": [10, 88], \"type\": \"bar\", \"uid\": \"fedf6734-fb22-46da-a10e-ef6728bef100\"}], {\"bargap\": 0.2, \"xaxis\": {\"ticktext\": [\"1. Nunca\", \"2. Ocasionalmente\", \"3. Semanalmente\", \"4. Diariamente\", \"5. Varias veces al d\\u00eda\"], \"tickvals\": [1, 2, 3, 4, 5]}}, {\"showLink\": false, \"linkText\": \"Export to plot.ly\", \"plotlyServerURL\": \"https://plot.ly\"}); \n",
       "}\n",
       "});</script><script type=\"text/javascript\">window.addEventListener(\"resize\", function(){if (document.getElementById(\"8616edbf-ba23-4e54-93aa-a6e6f19ca0a6\")) {window._Plotly.Plots.resize(document.getElementById(\"8616edbf-ba23-4e54-93aa-a6e6f19ca0a6\"));};})</script>"
      ]
     },
     "metadata": {},
     "output_type": "display_data"
    },
    {
     "name": "stdout",
     "output_type": "stream",
     "text": [
      "\n",
      "\n",
      "Cluster 4 || variable: ¿Cuánto tiempo al día usas el móvil/tableta/ordenador/TV?\n",
      "Describiendo la pregunta ¿Cuánto tiempo al día usas el móvil/tableta/ordenador/TV?\n",
      "Valores numéricos asociados a las respuestas [1, 2, 3, 4, 5, 6]\n",
      "Respuestas posibles a la pregunta/variable ['1. Nada', '2. Menos de una hora', '3. 1-2 horas', '4. 2-4 horas', '5. 4-6 horas', '6. Más de 6 horas']\n"
     ]
    },
    {
     "data": {
      "text/plain": [
       "count    98.000000\n",
       "mean      5.030612\n",
       "std       0.924512\n",
       "min       3.000000\n",
       "25%       4.000000\n",
       "50%       5.000000\n",
       "75%       6.000000\n",
       "max       6.000000\n",
       "Name: ¿Cuánto tiempo al día usas el móvil/tableta/ordenador/TV?, dtype: float64"
      ]
     },
     "metadata": {},
     "output_type": "display_data"
    },
    {
     "name": "stdout",
     "output_type": "stream",
     "text": [
      "Conteo de cada valor en ¿Cuánto tiempo al día usas el móvil/tableta/ordenador/TV? expresada como valor / cantidad\n"
     ]
    },
    {
     "data": {
      "text/plain": [
       "3     5\n",
       "4    25\n",
       "5    30\n",
       "6    38\n",
       "Name: ¿Cuánto tiempo al día usas el móvil/tableta/ordenador/TV?, dtype: int64"
      ]
     },
     "metadata": {},
     "output_type": "display_data"
    },
    {
     "name": "stdout",
     "output_type": "stream",
     "text": [
      "Porcentaje de cada valor en ¿Cuánto tiempo al día usas el móvil/tableta/ordenador/TV? expresado como valor / porcentaje\n"
     ]
    },
    {
     "data": {
      "text/plain": [
       "3     5.10\n",
       "4    25.51\n",
       "5    30.61\n",
       "6    38.78\n",
       "Name: ¿Cuánto tiempo al día usas el móvil/tableta/ordenador/TV?, dtype: float64"
      ]
     },
     "metadata": {},
     "output_type": "display_data"
    },
    {
     "data": {
      "application/vnd.plotly.v1+json": {
       "config": {
        "linkText": "Export to plot.ly",
        "plotlyServerURL": "https://plot.ly",
        "showLink": false
       },
       "data": [
        {
         "marker": {
          "color": [
           "rgb(213,62,79)",
           "rgb(252,141,89)",
           "rgb(254,224,139)",
           "rgb(230,245,152)",
           "rgb(153,213,148)",
           "rgb(50,136,189)"
          ]
         },
         "type": "bar",
         "uid": "5c95f028-eb88-4663-9210-276d33882cdc",
         "x": [
          3,
          4,
          5,
          6
         ],
         "y": [
          5,
          25,
          30,
          38
         ]
        }
       ],
       "layout": {
        "bargap": 0.2,
        "xaxis": {
         "ticktext": [
          "1. Nada",
          "2. Menos de una hora",
          "3. 1-2 horas",
          "4. 2-4 horas",
          "5. 4-6 horas",
          "6. Más de 6 horas"
         ],
         "tickvals": [
          1,
          2,
          3,
          4,
          5,
          6
         ]
        }
       }
      },
      "text/html": [
       "<div id=\"b7e7ca13-027f-4533-85c9-f514f04ca7bc\" style=\"height: 525px; width: 100%;\" class=\"plotly-graph-div\"></div><script type=\"text/javascript\">require([\"plotly\"], function(Plotly) { window.PLOTLYENV=window.PLOTLYENV || {};window.PLOTLYENV.BASE_URL=\"https://plot.ly\";\n",
       "if (document.getElementById(\"b7e7ca13-027f-4533-85c9-f514f04ca7bc\")) {\n",
       "    Plotly.newPlot(\"b7e7ca13-027f-4533-85c9-f514f04ca7bc\", [{\"marker\": {\"color\": [\"rgb(213,62,79)\", \"rgb(252,141,89)\", \"rgb(254,224,139)\", \"rgb(230,245,152)\", \"rgb(153,213,148)\", \"rgb(50,136,189)\"]}, \"x\": [3, 4, 5, 6], \"y\": [5, 25, 30, 38], \"type\": \"bar\", \"uid\": \"5c95f028-eb88-4663-9210-276d33882cdc\"}], {\"bargap\": 0.2, \"xaxis\": {\"ticktext\": [\"1. Nada\", \"2. Menos de una hora\", \"3. 1-2 horas\", \"4. 2-4 horas\", \"5. 4-6 horas\", \"6. M\\u00e1s de 6 horas\"], \"tickvals\": [1, 2, 3, 4, 5, 6]}}, {\"showLink\": false, \"linkText\": \"Export to plot.ly\", \"plotlyServerURL\": \"https://plot.ly\"}); \n",
       "}\n",
       "});</script><script type=\"text/javascript\">window.addEventListener(\"resize\", function(){if (document.getElementById(\"b7e7ca13-027f-4533-85c9-f514f04ca7bc\")) {window._Plotly.Plots.resize(document.getElementById(\"b7e7ca13-027f-4533-85c9-f514f04ca7bc\"));};})</script>"
      ],
      "text/vnd.plotly.v1+html": [
       "<div id=\"b7e7ca13-027f-4533-85c9-f514f04ca7bc\" style=\"height: 525px; width: 100%;\" class=\"plotly-graph-div\"></div><script type=\"text/javascript\">require([\"plotly\"], function(Plotly) { window.PLOTLYENV=window.PLOTLYENV || {};window.PLOTLYENV.BASE_URL=\"https://plot.ly\";\n",
       "if (document.getElementById(\"b7e7ca13-027f-4533-85c9-f514f04ca7bc\")) {\n",
       "    Plotly.newPlot(\"b7e7ca13-027f-4533-85c9-f514f04ca7bc\", [{\"marker\": {\"color\": [\"rgb(213,62,79)\", \"rgb(252,141,89)\", \"rgb(254,224,139)\", \"rgb(230,245,152)\", \"rgb(153,213,148)\", \"rgb(50,136,189)\"]}, \"x\": [3, 4, 5, 6], \"y\": [5, 25, 30, 38], \"type\": \"bar\", \"uid\": \"5c95f028-eb88-4663-9210-276d33882cdc\"}], {\"bargap\": 0.2, \"xaxis\": {\"ticktext\": [\"1. Nada\", \"2. Menos de una hora\", \"3. 1-2 horas\", \"4. 2-4 horas\", \"5. 4-6 horas\", \"6. M\\u00e1s de 6 horas\"], \"tickvals\": [1, 2, 3, 4, 5, 6]}}, {\"showLink\": false, \"linkText\": \"Export to plot.ly\", \"plotlyServerURL\": \"https://plot.ly\"}); \n",
       "}\n",
       "});</script><script type=\"text/javascript\">window.addEventListener(\"resize\", function(){if (document.getElementById(\"b7e7ca13-027f-4533-85c9-f514f04ca7bc\")) {window._Plotly.Plots.resize(document.getElementById(\"b7e7ca13-027f-4533-85c9-f514f04ca7bc\"));};})</script>"
      ]
     },
     "metadata": {},
     "output_type": "display_data"
    },
    {
     "name": "stdout",
     "output_type": "stream",
     "text": [
      "\n",
      "\n",
      "Cluster 4 || variable: ¿Qué tipo de aplicaciones utilizas en tu ordenador/tableta/móvil? (Respuesta múltiple) [1. Apps de contenidos audiovisuales (Netflix, HBO, etc.)]\n",
      "Describiendo la pregunta ¿Qué tipo de aplicaciones utilizas en tu ordenador/tableta/móvil? (Respuesta múltiple) [1. Apps de contenidos audiovisuales (Netflix, HBO, etc.)]\n",
      "Valores numéricos asociados a las respuestas [0, 1]\n",
      "Respuestas posibles a la pregunta/variable ['No', 'Sí']\n"
     ]
    },
    {
     "data": {
      "text/plain": [
       "count    98.000000\n",
       "mean      0.765306\n",
       "std       0.425986\n",
       "min       0.000000\n",
       "25%       1.000000\n",
       "50%       1.000000\n",
       "75%       1.000000\n",
       "max       1.000000\n",
       "Name: ¿Qué tipo de aplicaciones utilizas en tu ordenador/tableta/móvil? (Respuesta múltiple) [1. Apps de contenidos audiovisuales (Netflix, HBO, etc.)], dtype: float64"
      ]
     },
     "metadata": {},
     "output_type": "display_data"
    },
    {
     "name": "stdout",
     "output_type": "stream",
     "text": [
      "Conteo de cada valor en ¿Qué tipo de aplicaciones utilizas en tu ordenador/tableta/móvil? (Respuesta múltiple) [1. Apps de contenidos audiovisuales (Netflix, HBO, etc.)] expresada como valor / cantidad\n"
     ]
    },
    {
     "data": {
      "text/plain": [
       "0    23\n",
       "1    75\n",
       "Name: ¿Qué tipo de aplicaciones utilizas en tu ordenador/tableta/móvil? (Respuesta múltiple) [1. Apps de contenidos audiovisuales (Netflix, HBO, etc.)], dtype: int64"
      ]
     },
     "metadata": {},
     "output_type": "display_data"
    },
    {
     "name": "stdout",
     "output_type": "stream",
     "text": [
      "Porcentaje de cada valor en ¿Qué tipo de aplicaciones utilizas en tu ordenador/tableta/móvil? (Respuesta múltiple) [1. Apps de contenidos audiovisuales (Netflix, HBO, etc.)] expresado como valor / porcentaje\n"
     ]
    },
    {
     "data": {
      "text/plain": [
       "0    23.47\n",
       "1    76.53\n",
       "Name: ¿Qué tipo de aplicaciones utilizas en tu ordenador/tableta/móvil? (Respuesta múltiple) [1. Apps de contenidos audiovisuales (Netflix, HBO, etc.)], dtype: float64"
      ]
     },
     "metadata": {},
     "output_type": "display_data"
    },
    {
     "data": {
      "application/vnd.plotly.v1+json": {
       "config": {
        "linkText": "Export to plot.ly",
        "plotlyServerURL": "https://plot.ly",
        "showLink": false
       },
       "data": [
        {
         "marker": {
          "color": [
           "rgb(213,62,79)",
           "rgb(252,141,89)",
           "rgb(254,224,139)",
           "rgb(230,245,152)",
           "rgb(153,213,148)",
           "rgb(50,136,189)"
          ]
         },
         "type": "bar",
         "uid": "873c95ef-7148-4f98-946b-8e4b23196837",
         "x": [
          0,
          1
         ],
         "y": [
          23,
          75
         ]
        }
       ],
       "layout": {
        "bargap": 0.2,
        "xaxis": {
         "ticktext": [
          "No",
          "Sí"
         ],
         "tickvals": [
          0,
          1
         ]
        }
       }
      },
      "text/html": [
       "<div id=\"bf22c9ee-66b9-431a-bc6a-264df3aba878\" style=\"height: 525px; width: 100%;\" class=\"plotly-graph-div\"></div><script type=\"text/javascript\">require([\"plotly\"], function(Plotly) { window.PLOTLYENV=window.PLOTLYENV || {};window.PLOTLYENV.BASE_URL=\"https://plot.ly\";\n",
       "if (document.getElementById(\"bf22c9ee-66b9-431a-bc6a-264df3aba878\")) {\n",
       "    Plotly.newPlot(\"bf22c9ee-66b9-431a-bc6a-264df3aba878\", [{\"marker\": {\"color\": [\"rgb(213,62,79)\", \"rgb(252,141,89)\", \"rgb(254,224,139)\", \"rgb(230,245,152)\", \"rgb(153,213,148)\", \"rgb(50,136,189)\"]}, \"x\": [0, 1], \"y\": [23, 75], \"type\": \"bar\", \"uid\": \"873c95ef-7148-4f98-946b-8e4b23196837\"}], {\"bargap\": 0.2, \"xaxis\": {\"ticktext\": [\"No\", \"S\\u00ed\"], \"tickvals\": [0, 1]}}, {\"showLink\": false, \"linkText\": \"Export to plot.ly\", \"plotlyServerURL\": \"https://plot.ly\"}); \n",
       "}\n",
       "});</script><script type=\"text/javascript\">window.addEventListener(\"resize\", function(){if (document.getElementById(\"bf22c9ee-66b9-431a-bc6a-264df3aba878\")) {window._Plotly.Plots.resize(document.getElementById(\"bf22c9ee-66b9-431a-bc6a-264df3aba878\"));};})</script>"
      ],
      "text/vnd.plotly.v1+html": [
       "<div id=\"bf22c9ee-66b9-431a-bc6a-264df3aba878\" style=\"height: 525px; width: 100%;\" class=\"plotly-graph-div\"></div><script type=\"text/javascript\">require([\"plotly\"], function(Plotly) { window.PLOTLYENV=window.PLOTLYENV || {};window.PLOTLYENV.BASE_URL=\"https://plot.ly\";\n",
       "if (document.getElementById(\"bf22c9ee-66b9-431a-bc6a-264df3aba878\")) {\n",
       "    Plotly.newPlot(\"bf22c9ee-66b9-431a-bc6a-264df3aba878\", [{\"marker\": {\"color\": [\"rgb(213,62,79)\", \"rgb(252,141,89)\", \"rgb(254,224,139)\", \"rgb(230,245,152)\", \"rgb(153,213,148)\", \"rgb(50,136,189)\"]}, \"x\": [0, 1], \"y\": [23, 75], \"type\": \"bar\", \"uid\": \"873c95ef-7148-4f98-946b-8e4b23196837\"}], {\"bargap\": 0.2, \"xaxis\": {\"ticktext\": [\"No\", \"S\\u00ed\"], \"tickvals\": [0, 1]}}, {\"showLink\": false, \"linkText\": \"Export to plot.ly\", \"plotlyServerURL\": \"https://plot.ly\"}); \n",
       "}\n",
       "});</script><script type=\"text/javascript\">window.addEventListener(\"resize\", function(){if (document.getElementById(\"bf22c9ee-66b9-431a-bc6a-264df3aba878\")) {window._Plotly.Plots.resize(document.getElementById(\"bf22c9ee-66b9-431a-bc6a-264df3aba878\"));};})</script>"
      ]
     },
     "metadata": {},
     "output_type": "display_data"
    },
    {
     "name": "stdout",
     "output_type": "stream",
     "text": [
      "\n",
      "\n",
      "Cluster 4 || variable: ¿Qué tipo de aplicaciones utilizas en tu ordenador/tableta/móvil? (Respuesta múltiple) [2. Aplicaciones de mensajería (Whatsapp, Facebook Messenger, etc.)]\n",
      "Describiendo la pregunta ¿Qué tipo de aplicaciones utilizas en tu ordenador/tableta/móvil? (Respuesta múltiple) [2. Aplicaciones de mensajería (Whatsapp, Facebook Messenger, etc.)]\n",
      "Valores numéricos asociados a las respuestas [0, 1]\n",
      "Respuestas posibles a la pregunta/variable ['No', 'Sí']\n"
     ]
    },
    {
     "data": {
      "text/plain": [
       "count    98.000000\n",
       "mean      0.969388\n",
       "std       0.173150\n",
       "min       0.000000\n",
       "25%       1.000000\n",
       "50%       1.000000\n",
       "75%       1.000000\n",
       "max       1.000000\n",
       "Name: ¿Qué tipo de aplicaciones utilizas en tu ordenador/tableta/móvil? (Respuesta múltiple) [2. Aplicaciones de mensajería (Whatsapp, Facebook Messenger, etc.)], dtype: float64"
      ]
     },
     "metadata": {},
     "output_type": "display_data"
    },
    {
     "name": "stdout",
     "output_type": "stream",
     "text": [
      "Conteo de cada valor en ¿Qué tipo de aplicaciones utilizas en tu ordenador/tableta/móvil? (Respuesta múltiple) [2. Aplicaciones de mensajería (Whatsapp, Facebook Messenger, etc.)] expresada como valor / cantidad\n"
     ]
    },
    {
     "data": {
      "text/plain": [
       "0     3\n",
       "1    95\n",
       "Name: ¿Qué tipo de aplicaciones utilizas en tu ordenador/tableta/móvil? (Respuesta múltiple) [2. Aplicaciones de mensajería (Whatsapp, Facebook Messenger, etc.)], dtype: int64"
      ]
     },
     "metadata": {},
     "output_type": "display_data"
    },
    {
     "name": "stdout",
     "output_type": "stream",
     "text": [
      "Porcentaje de cada valor en ¿Qué tipo de aplicaciones utilizas en tu ordenador/tableta/móvil? (Respuesta múltiple) [2. Aplicaciones de mensajería (Whatsapp, Facebook Messenger, etc.)] expresado como valor / porcentaje\n"
     ]
    },
    {
     "data": {
      "text/plain": [
       "0     3.06\n",
       "1    96.94\n",
       "Name: ¿Qué tipo de aplicaciones utilizas en tu ordenador/tableta/móvil? (Respuesta múltiple) [2. Aplicaciones de mensajería (Whatsapp, Facebook Messenger, etc.)], dtype: float64"
      ]
     },
     "metadata": {},
     "output_type": "display_data"
    },
    {
     "data": {
      "application/vnd.plotly.v1+json": {
       "config": {
        "linkText": "Export to plot.ly",
        "plotlyServerURL": "https://plot.ly",
        "showLink": false
       },
       "data": [
        {
         "marker": {
          "color": [
           "rgb(213,62,79)",
           "rgb(252,141,89)",
           "rgb(254,224,139)",
           "rgb(230,245,152)",
           "rgb(153,213,148)",
           "rgb(50,136,189)"
          ]
         },
         "type": "bar",
         "uid": "5f975c32-8525-4073-8f3d-9af0a9a0e526",
         "x": [
          0,
          1
         ],
         "y": [
          3,
          95
         ]
        }
       ],
       "layout": {
        "bargap": 0.2,
        "xaxis": {
         "ticktext": [
          "No",
          "Sí"
         ],
         "tickvals": [
          0,
          1
         ]
        }
       }
      },
      "text/html": [
       "<div id=\"72aae52c-fb91-4e6e-aca5-a265f2c05fcf\" style=\"height: 525px; width: 100%;\" class=\"plotly-graph-div\"></div><script type=\"text/javascript\">require([\"plotly\"], function(Plotly) { window.PLOTLYENV=window.PLOTLYENV || {};window.PLOTLYENV.BASE_URL=\"https://plot.ly\";\n",
       "if (document.getElementById(\"72aae52c-fb91-4e6e-aca5-a265f2c05fcf\")) {\n",
       "    Plotly.newPlot(\"72aae52c-fb91-4e6e-aca5-a265f2c05fcf\", [{\"marker\": {\"color\": [\"rgb(213,62,79)\", \"rgb(252,141,89)\", \"rgb(254,224,139)\", \"rgb(230,245,152)\", \"rgb(153,213,148)\", \"rgb(50,136,189)\"]}, \"x\": [0, 1], \"y\": [3, 95], \"type\": \"bar\", \"uid\": \"5f975c32-8525-4073-8f3d-9af0a9a0e526\"}], {\"bargap\": 0.2, \"xaxis\": {\"ticktext\": [\"No\", \"S\\u00ed\"], \"tickvals\": [0, 1]}}, {\"showLink\": false, \"linkText\": \"Export to plot.ly\", \"plotlyServerURL\": \"https://plot.ly\"}); \n",
       "}\n",
       "});</script><script type=\"text/javascript\">window.addEventListener(\"resize\", function(){if (document.getElementById(\"72aae52c-fb91-4e6e-aca5-a265f2c05fcf\")) {window._Plotly.Plots.resize(document.getElementById(\"72aae52c-fb91-4e6e-aca5-a265f2c05fcf\"));};})</script>"
      ],
      "text/vnd.plotly.v1+html": [
       "<div id=\"72aae52c-fb91-4e6e-aca5-a265f2c05fcf\" style=\"height: 525px; width: 100%;\" class=\"plotly-graph-div\"></div><script type=\"text/javascript\">require([\"plotly\"], function(Plotly) { window.PLOTLYENV=window.PLOTLYENV || {};window.PLOTLYENV.BASE_URL=\"https://plot.ly\";\n",
       "if (document.getElementById(\"72aae52c-fb91-4e6e-aca5-a265f2c05fcf\")) {\n",
       "    Plotly.newPlot(\"72aae52c-fb91-4e6e-aca5-a265f2c05fcf\", [{\"marker\": {\"color\": [\"rgb(213,62,79)\", \"rgb(252,141,89)\", \"rgb(254,224,139)\", \"rgb(230,245,152)\", \"rgb(153,213,148)\", \"rgb(50,136,189)\"]}, \"x\": [0, 1], \"y\": [3, 95], \"type\": \"bar\", \"uid\": \"5f975c32-8525-4073-8f3d-9af0a9a0e526\"}], {\"bargap\": 0.2, \"xaxis\": {\"ticktext\": [\"No\", \"S\\u00ed\"], \"tickvals\": [0, 1]}}, {\"showLink\": false, \"linkText\": \"Export to plot.ly\", \"plotlyServerURL\": \"https://plot.ly\"}); \n",
       "}\n",
       "});</script><script type=\"text/javascript\">window.addEventListener(\"resize\", function(){if (document.getElementById(\"72aae52c-fb91-4e6e-aca5-a265f2c05fcf\")) {window._Plotly.Plots.resize(document.getElementById(\"72aae52c-fb91-4e6e-aca5-a265f2c05fcf\"));};})</script>"
      ]
     },
     "metadata": {},
     "output_type": "display_data"
    },
    {
     "name": "stdout",
     "output_type": "stream",
     "text": [
      "\n",
      "\n",
      "Cluster 4 || variable: ¿Qué tipo de aplicaciones utilizas en tu ordenador/tableta/móvil? (Respuesta múltiple) [3. Bibliotecas de fotos online (Google Photos, iPhoto, etc.)]\n",
      "Describiendo la pregunta ¿Qué tipo de aplicaciones utilizas en tu ordenador/tableta/móvil? (Respuesta múltiple) [3. Bibliotecas de fotos online (Google Photos, iPhoto, etc.)]\n",
      "Valores numéricos asociados a las respuestas [0, 1]\n",
      "Respuestas posibles a la pregunta/variable ['No', 'Sí']\n"
     ]
    },
    {
     "data": {
      "text/plain": [
       "count    98.000000\n",
       "mean      0.500000\n",
       "std       0.502571\n",
       "min       0.000000\n",
       "25%       0.000000\n",
       "50%       0.500000\n",
       "75%       1.000000\n",
       "max       1.000000\n",
       "Name: ¿Qué tipo de aplicaciones utilizas en tu ordenador/tableta/móvil? (Respuesta múltiple) [3. Bibliotecas de fotos online (Google Photos, iPhoto, etc.)], dtype: float64"
      ]
     },
     "metadata": {},
     "output_type": "display_data"
    },
    {
     "name": "stdout",
     "output_type": "stream",
     "text": [
      "Conteo de cada valor en ¿Qué tipo de aplicaciones utilizas en tu ordenador/tableta/móvil? (Respuesta múltiple) [3. Bibliotecas de fotos online (Google Photos, iPhoto, etc.)] expresada como valor / cantidad\n"
     ]
    },
    {
     "data": {
      "text/plain": [
       "0    49\n",
       "1    49\n",
       "Name: ¿Qué tipo de aplicaciones utilizas en tu ordenador/tableta/móvil? (Respuesta múltiple) [3. Bibliotecas de fotos online (Google Photos, iPhoto, etc.)], dtype: int64"
      ]
     },
     "metadata": {},
     "output_type": "display_data"
    },
    {
     "name": "stdout",
     "output_type": "stream",
     "text": [
      "Porcentaje de cada valor en ¿Qué tipo de aplicaciones utilizas en tu ordenador/tableta/móvil? (Respuesta múltiple) [3. Bibliotecas de fotos online (Google Photos, iPhoto, etc.)] expresado como valor / porcentaje\n"
     ]
    },
    {
     "data": {
      "text/plain": [
       "0    50.0\n",
       "1    50.0\n",
       "Name: ¿Qué tipo de aplicaciones utilizas en tu ordenador/tableta/móvil? (Respuesta múltiple) [3. Bibliotecas de fotos online (Google Photos, iPhoto, etc.)], dtype: float64"
      ]
     },
     "metadata": {},
     "output_type": "display_data"
    },
    {
     "data": {
      "application/vnd.plotly.v1+json": {
       "config": {
        "linkText": "Export to plot.ly",
        "plotlyServerURL": "https://plot.ly",
        "showLink": false
       },
       "data": [
        {
         "marker": {
          "color": [
           "rgb(213,62,79)",
           "rgb(252,141,89)",
           "rgb(254,224,139)",
           "rgb(230,245,152)",
           "rgb(153,213,148)",
           "rgb(50,136,189)"
          ]
         },
         "type": "bar",
         "uid": "fc9b3268-e422-4ea6-818a-c38dd93179f0",
         "x": [
          0,
          1
         ],
         "y": [
          49,
          49
         ]
        }
       ],
       "layout": {
        "bargap": 0.2,
        "xaxis": {
         "ticktext": [
          "No",
          "Sí"
         ],
         "tickvals": [
          0,
          1
         ]
        }
       }
      },
      "text/html": [
       "<div id=\"2b4cadaf-6765-4c72-954b-94d655d15179\" style=\"height: 525px; width: 100%;\" class=\"plotly-graph-div\"></div><script type=\"text/javascript\">require([\"plotly\"], function(Plotly) { window.PLOTLYENV=window.PLOTLYENV || {};window.PLOTLYENV.BASE_URL=\"https://plot.ly\";\n",
       "if (document.getElementById(\"2b4cadaf-6765-4c72-954b-94d655d15179\")) {\n",
       "    Plotly.newPlot(\"2b4cadaf-6765-4c72-954b-94d655d15179\", [{\"marker\": {\"color\": [\"rgb(213,62,79)\", \"rgb(252,141,89)\", \"rgb(254,224,139)\", \"rgb(230,245,152)\", \"rgb(153,213,148)\", \"rgb(50,136,189)\"]}, \"x\": [0, 1], \"y\": [49, 49], \"type\": \"bar\", \"uid\": \"fc9b3268-e422-4ea6-818a-c38dd93179f0\"}], {\"bargap\": 0.2, \"xaxis\": {\"ticktext\": [\"No\", \"S\\u00ed\"], \"tickvals\": [0, 1]}}, {\"showLink\": false, \"linkText\": \"Export to plot.ly\", \"plotlyServerURL\": \"https://plot.ly\"}); \n",
       "}\n",
       "});</script><script type=\"text/javascript\">window.addEventListener(\"resize\", function(){if (document.getElementById(\"2b4cadaf-6765-4c72-954b-94d655d15179\")) {window._Plotly.Plots.resize(document.getElementById(\"2b4cadaf-6765-4c72-954b-94d655d15179\"));};})</script>"
      ],
      "text/vnd.plotly.v1+html": [
       "<div id=\"2b4cadaf-6765-4c72-954b-94d655d15179\" style=\"height: 525px; width: 100%;\" class=\"plotly-graph-div\"></div><script type=\"text/javascript\">require([\"plotly\"], function(Plotly) { window.PLOTLYENV=window.PLOTLYENV || {};window.PLOTLYENV.BASE_URL=\"https://plot.ly\";\n",
       "if (document.getElementById(\"2b4cadaf-6765-4c72-954b-94d655d15179\")) {\n",
       "    Plotly.newPlot(\"2b4cadaf-6765-4c72-954b-94d655d15179\", [{\"marker\": {\"color\": [\"rgb(213,62,79)\", \"rgb(252,141,89)\", \"rgb(254,224,139)\", \"rgb(230,245,152)\", \"rgb(153,213,148)\", \"rgb(50,136,189)\"]}, \"x\": [0, 1], \"y\": [49, 49], \"type\": \"bar\", \"uid\": \"fc9b3268-e422-4ea6-818a-c38dd93179f0\"}], {\"bargap\": 0.2, \"xaxis\": {\"ticktext\": [\"No\", \"S\\u00ed\"], \"tickvals\": [0, 1]}}, {\"showLink\": false, \"linkText\": \"Export to plot.ly\", \"plotlyServerURL\": \"https://plot.ly\"}); \n",
       "}\n",
       "});</script><script type=\"text/javascript\">window.addEventListener(\"resize\", function(){if (document.getElementById(\"2b4cadaf-6765-4c72-954b-94d655d15179\")) {window._Plotly.Plots.resize(document.getElementById(\"2b4cadaf-6765-4c72-954b-94d655d15179\"));};})</script>"
      ]
     },
     "metadata": {},
     "output_type": "display_data"
    },
    {
     "name": "stdout",
     "output_type": "stream",
     "text": [
      "\n",
      "\n",
      "Cluster 4 || variable: ¿Qué tipo de aplicaciones utilizas en tu ordenador/tableta/móvil? (Respuesta múltiple) [4. Redes sociales (Facebook, Instagram, Twitter, etc.).]\n",
      "Describiendo la pregunta ¿Qué tipo de aplicaciones utilizas en tu ordenador/tableta/móvil? (Respuesta múltiple) [4. Redes sociales (Facebook, Instagram, Twitter, etc.).]\n",
      "Valores numéricos asociados a las respuestas [0, 1]\n",
      "Respuestas posibles a la pregunta/variable ['No', 'Sí']\n"
     ]
    },
    {
     "data": {
      "text/plain": [
       "count    98.000000\n",
       "mean      0.969388\n",
       "std       0.173150\n",
       "min       0.000000\n",
       "25%       1.000000\n",
       "50%       1.000000\n",
       "75%       1.000000\n",
       "max       1.000000\n",
       "Name: ¿Qué tipo de aplicaciones utilizas en tu ordenador/tableta/móvil? (Respuesta múltiple) [4. Redes sociales (Facebook, Instagram, Twitter, etc.).], dtype: float64"
      ]
     },
     "metadata": {},
     "output_type": "display_data"
    },
    {
     "name": "stdout",
     "output_type": "stream",
     "text": [
      "Conteo de cada valor en ¿Qué tipo de aplicaciones utilizas en tu ordenador/tableta/móvil? (Respuesta múltiple) [4. Redes sociales (Facebook, Instagram, Twitter, etc.).] expresada como valor / cantidad\n"
     ]
    },
    {
     "data": {
      "text/plain": [
       "0     3\n",
       "1    95\n",
       "Name: ¿Qué tipo de aplicaciones utilizas en tu ordenador/tableta/móvil? (Respuesta múltiple) [4. Redes sociales (Facebook, Instagram, Twitter, etc.).], dtype: int64"
      ]
     },
     "metadata": {},
     "output_type": "display_data"
    },
    {
     "name": "stdout",
     "output_type": "stream",
     "text": [
      "Porcentaje de cada valor en ¿Qué tipo de aplicaciones utilizas en tu ordenador/tableta/móvil? (Respuesta múltiple) [4. Redes sociales (Facebook, Instagram, Twitter, etc.).] expresado como valor / porcentaje\n"
     ]
    },
    {
     "data": {
      "text/plain": [
       "0     3.06\n",
       "1    96.94\n",
       "Name: ¿Qué tipo de aplicaciones utilizas en tu ordenador/tableta/móvil? (Respuesta múltiple) [4. Redes sociales (Facebook, Instagram, Twitter, etc.).], dtype: float64"
      ]
     },
     "metadata": {},
     "output_type": "display_data"
    },
    {
     "data": {
      "application/vnd.plotly.v1+json": {
       "config": {
        "linkText": "Export to plot.ly",
        "plotlyServerURL": "https://plot.ly",
        "showLink": false
       },
       "data": [
        {
         "marker": {
          "color": [
           "rgb(213,62,79)",
           "rgb(252,141,89)",
           "rgb(254,224,139)",
           "rgb(230,245,152)",
           "rgb(153,213,148)",
           "rgb(50,136,189)"
          ]
         },
         "type": "bar",
         "uid": "2a82c08b-4600-466d-aaf0-220f544b5e52",
         "x": [
          0,
          1
         ],
         "y": [
          3,
          95
         ]
        }
       ],
       "layout": {
        "bargap": 0.2,
        "xaxis": {
         "ticktext": [
          "No",
          "Sí"
         ],
         "tickvals": [
          0,
          1
         ]
        }
       }
      },
      "text/html": [
       "<div id=\"d6b56f7d-fb4d-4f79-8689-fa4a61ddc1cd\" style=\"height: 525px; width: 100%;\" class=\"plotly-graph-div\"></div><script type=\"text/javascript\">require([\"plotly\"], function(Plotly) { window.PLOTLYENV=window.PLOTLYENV || {};window.PLOTLYENV.BASE_URL=\"https://plot.ly\";\n",
       "if (document.getElementById(\"d6b56f7d-fb4d-4f79-8689-fa4a61ddc1cd\")) {\n",
       "    Plotly.newPlot(\"d6b56f7d-fb4d-4f79-8689-fa4a61ddc1cd\", [{\"marker\": {\"color\": [\"rgb(213,62,79)\", \"rgb(252,141,89)\", \"rgb(254,224,139)\", \"rgb(230,245,152)\", \"rgb(153,213,148)\", \"rgb(50,136,189)\"]}, \"x\": [0, 1], \"y\": [3, 95], \"type\": \"bar\", \"uid\": \"2a82c08b-4600-466d-aaf0-220f544b5e52\"}], {\"bargap\": 0.2, \"xaxis\": {\"ticktext\": [\"No\", \"S\\u00ed\"], \"tickvals\": [0, 1]}}, {\"showLink\": false, \"linkText\": \"Export to plot.ly\", \"plotlyServerURL\": \"https://plot.ly\"}); \n",
       "}\n",
       "});</script><script type=\"text/javascript\">window.addEventListener(\"resize\", function(){if (document.getElementById(\"d6b56f7d-fb4d-4f79-8689-fa4a61ddc1cd\")) {window._Plotly.Plots.resize(document.getElementById(\"d6b56f7d-fb4d-4f79-8689-fa4a61ddc1cd\"));};})</script>"
      ],
      "text/vnd.plotly.v1+html": [
       "<div id=\"d6b56f7d-fb4d-4f79-8689-fa4a61ddc1cd\" style=\"height: 525px; width: 100%;\" class=\"plotly-graph-div\"></div><script type=\"text/javascript\">require([\"plotly\"], function(Plotly) { window.PLOTLYENV=window.PLOTLYENV || {};window.PLOTLYENV.BASE_URL=\"https://plot.ly\";\n",
       "if (document.getElementById(\"d6b56f7d-fb4d-4f79-8689-fa4a61ddc1cd\")) {\n",
       "    Plotly.newPlot(\"d6b56f7d-fb4d-4f79-8689-fa4a61ddc1cd\", [{\"marker\": {\"color\": [\"rgb(213,62,79)\", \"rgb(252,141,89)\", \"rgb(254,224,139)\", \"rgb(230,245,152)\", \"rgb(153,213,148)\", \"rgb(50,136,189)\"]}, \"x\": [0, 1], \"y\": [3, 95], \"type\": \"bar\", \"uid\": \"2a82c08b-4600-466d-aaf0-220f544b5e52\"}], {\"bargap\": 0.2, \"xaxis\": {\"ticktext\": [\"No\", \"S\\u00ed\"], \"tickvals\": [0, 1]}}, {\"showLink\": false, \"linkText\": \"Export to plot.ly\", \"plotlyServerURL\": \"https://plot.ly\"}); \n",
       "}\n",
       "});</script><script type=\"text/javascript\">window.addEventListener(\"resize\", function(){if (document.getElementById(\"d6b56f7d-fb4d-4f79-8689-fa4a61ddc1cd\")) {window._Plotly.Plots.resize(document.getElementById(\"d6b56f7d-fb4d-4f79-8689-fa4a61ddc1cd\"));};})</script>"
      ]
     },
     "metadata": {},
     "output_type": "display_data"
    },
    {
     "name": "stdout",
     "output_type": "stream",
     "text": [
      "\n",
      "\n",
      "Cluster 4 || variable: ¿Qué tipo de aplicaciones utilizas en tu ordenador/tableta/móvil? (Respuesta múltiple) [5. Aplicaciones de vídeo (Youtube, Vimeo, etc.).]\n",
      "Describiendo la pregunta ¿Qué tipo de aplicaciones utilizas en tu ordenador/tableta/móvil? (Respuesta múltiple) [5. Aplicaciones de vídeo (Youtube, Vimeo, etc.).]\n",
      "Valores numéricos asociados a las respuestas [0, 1]\n",
      "Respuestas posibles a la pregunta/variable ['No', 'Sí']\n"
     ]
    },
    {
     "data": {
      "text/plain": [
       "count    98.000000\n",
       "mean      0.928571\n",
       "std       0.258863\n",
       "min       0.000000\n",
       "25%       1.000000\n",
       "50%       1.000000\n",
       "75%       1.000000\n",
       "max       1.000000\n",
       "Name: ¿Qué tipo de aplicaciones utilizas en tu ordenador/tableta/móvil? (Respuesta múltiple) [5. Aplicaciones de vídeo (Youtube, Vimeo, etc.).], dtype: float64"
      ]
     },
     "metadata": {},
     "output_type": "display_data"
    },
    {
     "name": "stdout",
     "output_type": "stream",
     "text": [
      "Conteo de cada valor en ¿Qué tipo de aplicaciones utilizas en tu ordenador/tableta/móvil? (Respuesta múltiple) [5. Aplicaciones de vídeo (Youtube, Vimeo, etc.).] expresada como valor / cantidad\n"
     ]
    },
    {
     "data": {
      "text/plain": [
       "0     7\n",
       "1    91\n",
       "Name: ¿Qué tipo de aplicaciones utilizas en tu ordenador/tableta/móvil? (Respuesta múltiple) [5. Aplicaciones de vídeo (Youtube, Vimeo, etc.).], dtype: int64"
      ]
     },
     "metadata": {},
     "output_type": "display_data"
    },
    {
     "name": "stdout",
     "output_type": "stream",
     "text": [
      "Porcentaje de cada valor en ¿Qué tipo de aplicaciones utilizas en tu ordenador/tableta/móvil? (Respuesta múltiple) [5. Aplicaciones de vídeo (Youtube, Vimeo, etc.).] expresado como valor / porcentaje\n"
     ]
    },
    {
     "data": {
      "text/plain": [
       "0     7.14\n",
       "1    92.86\n",
       "Name: ¿Qué tipo de aplicaciones utilizas en tu ordenador/tableta/móvil? (Respuesta múltiple) [5. Aplicaciones de vídeo (Youtube, Vimeo, etc.).], dtype: float64"
      ]
     },
     "metadata": {},
     "output_type": "display_data"
    },
    {
     "data": {
      "application/vnd.plotly.v1+json": {
       "config": {
        "linkText": "Export to plot.ly",
        "plotlyServerURL": "https://plot.ly",
        "showLink": false
       },
       "data": [
        {
         "marker": {
          "color": [
           "rgb(213,62,79)",
           "rgb(252,141,89)",
           "rgb(254,224,139)",
           "rgb(230,245,152)",
           "rgb(153,213,148)",
           "rgb(50,136,189)"
          ]
         },
         "type": "bar",
         "uid": "096bafa4-b72b-466a-9725-712c24ace6d8",
         "x": [
          0,
          1
         ],
         "y": [
          7,
          91
         ]
        }
       ],
       "layout": {
        "bargap": 0.2,
        "xaxis": {
         "ticktext": [
          "No",
          "Sí"
         ],
         "tickvals": [
          0,
          1
         ]
        }
       }
      },
      "text/html": [
       "<div id=\"01074d2f-a5c0-459b-ba0d-82f0c230ab97\" style=\"height: 525px; width: 100%;\" class=\"plotly-graph-div\"></div><script type=\"text/javascript\">require([\"plotly\"], function(Plotly) { window.PLOTLYENV=window.PLOTLYENV || {};window.PLOTLYENV.BASE_URL=\"https://plot.ly\";\n",
       "if (document.getElementById(\"01074d2f-a5c0-459b-ba0d-82f0c230ab97\")) {\n",
       "    Plotly.newPlot(\"01074d2f-a5c0-459b-ba0d-82f0c230ab97\", [{\"marker\": {\"color\": [\"rgb(213,62,79)\", \"rgb(252,141,89)\", \"rgb(254,224,139)\", \"rgb(230,245,152)\", \"rgb(153,213,148)\", \"rgb(50,136,189)\"]}, \"x\": [0, 1], \"y\": [7, 91], \"type\": \"bar\", \"uid\": \"096bafa4-b72b-466a-9725-712c24ace6d8\"}], {\"bargap\": 0.2, \"xaxis\": {\"ticktext\": [\"No\", \"S\\u00ed\"], \"tickvals\": [0, 1]}}, {\"showLink\": false, \"linkText\": \"Export to plot.ly\", \"plotlyServerURL\": \"https://plot.ly\"}); \n",
       "}\n",
       "});</script><script type=\"text/javascript\">window.addEventListener(\"resize\", function(){if (document.getElementById(\"01074d2f-a5c0-459b-ba0d-82f0c230ab97\")) {window._Plotly.Plots.resize(document.getElementById(\"01074d2f-a5c0-459b-ba0d-82f0c230ab97\"));};})</script>"
      ],
      "text/vnd.plotly.v1+html": [
       "<div id=\"01074d2f-a5c0-459b-ba0d-82f0c230ab97\" style=\"height: 525px; width: 100%;\" class=\"plotly-graph-div\"></div><script type=\"text/javascript\">require([\"plotly\"], function(Plotly) { window.PLOTLYENV=window.PLOTLYENV || {};window.PLOTLYENV.BASE_URL=\"https://plot.ly\";\n",
       "if (document.getElementById(\"01074d2f-a5c0-459b-ba0d-82f0c230ab97\")) {\n",
       "    Plotly.newPlot(\"01074d2f-a5c0-459b-ba0d-82f0c230ab97\", [{\"marker\": {\"color\": [\"rgb(213,62,79)\", \"rgb(252,141,89)\", \"rgb(254,224,139)\", \"rgb(230,245,152)\", \"rgb(153,213,148)\", \"rgb(50,136,189)\"]}, \"x\": [0, 1], \"y\": [7, 91], \"type\": \"bar\", \"uid\": \"096bafa4-b72b-466a-9725-712c24ace6d8\"}], {\"bargap\": 0.2, \"xaxis\": {\"ticktext\": [\"No\", \"S\\u00ed\"], \"tickvals\": [0, 1]}}, {\"showLink\": false, \"linkText\": \"Export to plot.ly\", \"plotlyServerURL\": \"https://plot.ly\"}); \n",
       "}\n",
       "});</script><script type=\"text/javascript\">window.addEventListener(\"resize\", function(){if (document.getElementById(\"01074d2f-a5c0-459b-ba0d-82f0c230ab97\")) {window._Plotly.Plots.resize(document.getElementById(\"01074d2f-a5c0-459b-ba0d-82f0c230ab97\"));};})</script>"
      ]
     },
     "metadata": {},
     "output_type": "display_data"
    },
    {
     "name": "stdout",
     "output_type": "stream",
     "text": [
      "\n",
      "\n",
      "Cluster 4 || variable: ¿Qué tipo de aplicaciones utilizas en tu ordenador/tableta/móvil? (Respuesta múltiple) [Otro]\n",
      "Describiendo la pregunta ¿Qué tipo de aplicaciones utilizas en tu ordenador/tableta/móvil? (Respuesta múltiple) [Otro]\n",
      "\n",
      "\n",
      "Cluster 4 || variable: Durante ese uso, ¿cuántas imágenes consumes (ves y compartes)?\n",
      "Describiendo la pregunta Durante ese uso, ¿cuántas imágenes consumes (ves y compartes)?\n",
      "Valores numéricos asociados a las respuestas [1, 2, 3, 4, 5]\n",
      "Respuestas posibles a la pregunta/variable ['1. Ninguna', '2. Pocas', '3. Ni muchas ni pocas', '4. Bastantes', '5. Recibo y envio imágenes de forma constante']\n"
     ]
    },
    {
     "data": {
      "text/plain": [
       "count    98.000000\n",
       "mean      4.102041\n",
       "std       0.724957\n",
       "min       2.000000\n",
       "25%       4.000000\n",
       "50%       4.000000\n",
       "75%       5.000000\n",
       "max       5.000000\n",
       "Name: Durante ese uso, ¿cuántas imágenes consumes (ves y compartes)?, dtype: float64"
      ]
     },
     "metadata": {},
     "output_type": "display_data"
    },
    {
     "name": "stdout",
     "output_type": "stream",
     "text": [
      "Conteo de cada valor en Durante ese uso, ¿cuántas imágenes consumes (ves y compartes)? expresada como valor / cantidad\n"
     ]
    },
    {
     "data": {
      "text/plain": [
       "2     2\n",
       "3    15\n",
       "4    52\n",
       "5    29\n",
       "Name: Durante ese uso, ¿cuántas imágenes consumes (ves y compartes)?, dtype: int64"
      ]
     },
     "metadata": {},
     "output_type": "display_data"
    },
    {
     "name": "stdout",
     "output_type": "stream",
     "text": [
      "Porcentaje de cada valor en Durante ese uso, ¿cuántas imágenes consumes (ves y compartes)? expresado como valor / porcentaje\n"
     ]
    },
    {
     "data": {
      "text/plain": [
       "2     2.04\n",
       "3    15.31\n",
       "4    53.06\n",
       "5    29.59\n",
       "Name: Durante ese uso, ¿cuántas imágenes consumes (ves y compartes)?, dtype: float64"
      ]
     },
     "metadata": {},
     "output_type": "display_data"
    },
    {
     "data": {
      "application/vnd.plotly.v1+json": {
       "config": {
        "linkText": "Export to plot.ly",
        "plotlyServerURL": "https://plot.ly",
        "showLink": false
       },
       "data": [
        {
         "marker": {
          "color": [
           "rgb(213,62,79)",
           "rgb(252,141,89)",
           "rgb(254,224,139)",
           "rgb(230,245,152)",
           "rgb(153,213,148)",
           "rgb(50,136,189)"
          ]
         },
         "type": "bar",
         "uid": "04f770cf-57a6-4c18-a291-5f4c2ce9f732",
         "x": [
          2,
          3,
          4,
          5
         ],
         "y": [
          2,
          15,
          52,
          29
         ]
        }
       ],
       "layout": {
        "bargap": 0.2,
        "xaxis": {
         "ticktext": [
          "1. Ninguna",
          "2. Pocas",
          "3. Ni muchas ni pocas",
          "4. Bastantes",
          "5. Recibo y envio imágenes de forma constante"
         ],
         "tickvals": [
          1,
          2,
          3,
          4,
          5
         ]
        }
       }
      },
      "text/html": [
       "<div id=\"06094905-2bfa-40ad-800d-a456ef026745\" style=\"height: 525px; width: 100%;\" class=\"plotly-graph-div\"></div><script type=\"text/javascript\">require([\"plotly\"], function(Plotly) { window.PLOTLYENV=window.PLOTLYENV || {};window.PLOTLYENV.BASE_URL=\"https://plot.ly\";\n",
       "if (document.getElementById(\"06094905-2bfa-40ad-800d-a456ef026745\")) {\n",
       "    Plotly.newPlot(\"06094905-2bfa-40ad-800d-a456ef026745\", [{\"marker\": {\"color\": [\"rgb(213,62,79)\", \"rgb(252,141,89)\", \"rgb(254,224,139)\", \"rgb(230,245,152)\", \"rgb(153,213,148)\", \"rgb(50,136,189)\"]}, \"x\": [2, 3, 4, 5], \"y\": [2, 15, 52, 29], \"type\": \"bar\", \"uid\": \"04f770cf-57a6-4c18-a291-5f4c2ce9f732\"}], {\"bargap\": 0.2, \"xaxis\": {\"ticktext\": [\"1. Ninguna\", \"2. Pocas\", \"3. Ni muchas ni pocas\", \"4. Bastantes\", \"5. Recibo y envio im\\u00e1genes de forma constante\"], \"tickvals\": [1, 2, 3, 4, 5]}}, {\"showLink\": false, \"linkText\": \"Export to plot.ly\", \"plotlyServerURL\": \"https://plot.ly\"}); \n",
       "}\n",
       "});</script><script type=\"text/javascript\">window.addEventListener(\"resize\", function(){if (document.getElementById(\"06094905-2bfa-40ad-800d-a456ef026745\")) {window._Plotly.Plots.resize(document.getElementById(\"06094905-2bfa-40ad-800d-a456ef026745\"));};})</script>"
      ],
      "text/vnd.plotly.v1+html": [
       "<div id=\"06094905-2bfa-40ad-800d-a456ef026745\" style=\"height: 525px; width: 100%;\" class=\"plotly-graph-div\"></div><script type=\"text/javascript\">require([\"plotly\"], function(Plotly) { window.PLOTLYENV=window.PLOTLYENV || {};window.PLOTLYENV.BASE_URL=\"https://plot.ly\";\n",
       "if (document.getElementById(\"06094905-2bfa-40ad-800d-a456ef026745\")) {\n",
       "    Plotly.newPlot(\"06094905-2bfa-40ad-800d-a456ef026745\", [{\"marker\": {\"color\": [\"rgb(213,62,79)\", \"rgb(252,141,89)\", \"rgb(254,224,139)\", \"rgb(230,245,152)\", \"rgb(153,213,148)\", \"rgb(50,136,189)\"]}, \"x\": [2, 3, 4, 5], \"y\": [2, 15, 52, 29], \"type\": \"bar\", \"uid\": \"04f770cf-57a6-4c18-a291-5f4c2ce9f732\"}], {\"bargap\": 0.2, \"xaxis\": {\"ticktext\": [\"1. Ninguna\", \"2. Pocas\", \"3. Ni muchas ni pocas\", \"4. Bastantes\", \"5. Recibo y envio im\\u00e1genes de forma constante\"], \"tickvals\": [1, 2, 3, 4, 5]}}, {\"showLink\": false, \"linkText\": \"Export to plot.ly\", \"plotlyServerURL\": \"https://plot.ly\"}); \n",
       "}\n",
       "});</script><script type=\"text/javascript\">window.addEventListener(\"resize\", function(){if (document.getElementById(\"06094905-2bfa-40ad-800d-a456ef026745\")) {window._Plotly.Plots.resize(document.getElementById(\"06094905-2bfa-40ad-800d-a456ef026745\"));};})</script>"
      ]
     },
     "metadata": {},
     "output_type": "display_data"
    },
    {
     "name": "stdout",
     "output_type": "stream",
     "text": [
      "\n",
      "\n",
      "Cluster 4 || variable: ¿Cuál es tu herramienta habitual de consumo de imágenes?\n",
      "Describiendo la pregunta ¿Cuál es tu herramienta habitual de consumo de imágenes?\n",
      "Valores numéricos asociados a las respuestas [1, 2, 3, 4, 5]\n",
      "Respuestas posibles a la pregunta/variable ['1. Móvil', '2. Televisión', '3. Ordenador', '4. Tableta', '5. Otros (Libros y periódicos en papel, marquesinas, museos...)']\n"
     ]
    },
    {
     "data": {
      "text/plain": [
       "count    98.000000\n",
       "mean      1.673469\n",
       "std       0.971507\n",
       "min       1.000000\n",
       "25%       1.000000\n",
       "50%       1.000000\n",
       "75%       3.000000\n",
       "max       4.000000\n",
       "Name: ¿Cuál es tu herramienta habitual de consumo de imágenes?, dtype: float64"
      ]
     },
     "metadata": {},
     "output_type": "display_data"
    },
    {
     "name": "stdout",
     "output_type": "stream",
     "text": [
      "Conteo de cada valor en ¿Cuál es tu herramienta habitual de consumo de imágenes? expresada como valor / cantidad\n"
     ]
    },
    {
     "data": {
      "text/plain": [
       "1    64\n",
       "2     5\n",
       "3    26\n",
       "4     3\n",
       "Name: ¿Cuál es tu herramienta habitual de consumo de imágenes?, dtype: int64"
      ]
     },
     "metadata": {},
     "output_type": "display_data"
    },
    {
     "name": "stdout",
     "output_type": "stream",
     "text": [
      "Porcentaje de cada valor en ¿Cuál es tu herramienta habitual de consumo de imágenes? expresado como valor / porcentaje\n"
     ]
    },
    {
     "data": {
      "text/plain": [
       "1    65.31\n",
       "2     5.10\n",
       "3    26.53\n",
       "4     3.06\n",
       "Name: ¿Cuál es tu herramienta habitual de consumo de imágenes?, dtype: float64"
      ]
     },
     "metadata": {},
     "output_type": "display_data"
    },
    {
     "data": {
      "application/vnd.plotly.v1+json": {
       "config": {
        "linkText": "Export to plot.ly",
        "plotlyServerURL": "https://plot.ly",
        "showLink": false
       },
       "data": [
        {
         "marker": {
          "color": [
           "rgb(213,62,79)",
           "rgb(252,141,89)",
           "rgb(254,224,139)",
           "rgb(230,245,152)",
           "rgb(153,213,148)",
           "rgb(50,136,189)"
          ]
         },
         "type": "bar",
         "uid": "9e5a09aa-e963-402c-90bd-188700d2420e",
         "x": [
          1,
          2,
          3,
          4
         ],
         "y": [
          64,
          5,
          26,
          3
         ]
        }
       ],
       "layout": {
        "bargap": 0.2,
        "xaxis": {
         "ticktext": [
          "1. Móvil",
          "2. Televisión",
          "3. Ordenador",
          "4. Tableta",
          "5. Otros (Libros y periódicos en papel, marquesinas, museos...)"
         ],
         "tickvals": [
          1,
          2,
          3,
          4,
          5
         ]
        }
       }
      },
      "text/html": [
       "<div id=\"0e8d5408-03e4-4d4e-b067-803421fadf7f\" style=\"height: 525px; width: 100%;\" class=\"plotly-graph-div\"></div><script type=\"text/javascript\">require([\"plotly\"], function(Plotly) { window.PLOTLYENV=window.PLOTLYENV || {};window.PLOTLYENV.BASE_URL=\"https://plot.ly\";\n",
       "if (document.getElementById(\"0e8d5408-03e4-4d4e-b067-803421fadf7f\")) {\n",
       "    Plotly.newPlot(\"0e8d5408-03e4-4d4e-b067-803421fadf7f\", [{\"marker\": {\"color\": [\"rgb(213,62,79)\", \"rgb(252,141,89)\", \"rgb(254,224,139)\", \"rgb(230,245,152)\", \"rgb(153,213,148)\", \"rgb(50,136,189)\"]}, \"x\": [1, 2, 3, 4], \"y\": [64, 5, 26, 3], \"type\": \"bar\", \"uid\": \"9e5a09aa-e963-402c-90bd-188700d2420e\"}], {\"bargap\": 0.2, \"xaxis\": {\"ticktext\": [\"1. M\\u00f3vil\", \"2. Televisi\\u00f3n\", \"3. Ordenador\", \"4. Tableta\", \"5. Otros (Libros y peri\\u00f3dicos en papel, marquesinas, museos...)\"], \"tickvals\": [1, 2, 3, 4, 5]}}, {\"showLink\": false, \"linkText\": \"Export to plot.ly\", \"plotlyServerURL\": \"https://plot.ly\"}); \n",
       "}\n",
       "});</script><script type=\"text/javascript\">window.addEventListener(\"resize\", function(){if (document.getElementById(\"0e8d5408-03e4-4d4e-b067-803421fadf7f\")) {window._Plotly.Plots.resize(document.getElementById(\"0e8d5408-03e4-4d4e-b067-803421fadf7f\"));};})</script>"
      ],
      "text/vnd.plotly.v1+html": [
       "<div id=\"0e8d5408-03e4-4d4e-b067-803421fadf7f\" style=\"height: 525px; width: 100%;\" class=\"plotly-graph-div\"></div><script type=\"text/javascript\">require([\"plotly\"], function(Plotly) { window.PLOTLYENV=window.PLOTLYENV || {};window.PLOTLYENV.BASE_URL=\"https://plot.ly\";\n",
       "if (document.getElementById(\"0e8d5408-03e4-4d4e-b067-803421fadf7f\")) {\n",
       "    Plotly.newPlot(\"0e8d5408-03e4-4d4e-b067-803421fadf7f\", [{\"marker\": {\"color\": [\"rgb(213,62,79)\", \"rgb(252,141,89)\", \"rgb(254,224,139)\", \"rgb(230,245,152)\", \"rgb(153,213,148)\", \"rgb(50,136,189)\"]}, \"x\": [1, 2, 3, 4], \"y\": [64, 5, 26, 3], \"type\": \"bar\", \"uid\": \"9e5a09aa-e963-402c-90bd-188700d2420e\"}], {\"bargap\": 0.2, \"xaxis\": {\"ticktext\": [\"1. M\\u00f3vil\", \"2. Televisi\\u00f3n\", \"3. Ordenador\", \"4. Tableta\", \"5. Otros (Libros y peri\\u00f3dicos en papel, marquesinas, museos...)\"], \"tickvals\": [1, 2, 3, 4, 5]}}, {\"showLink\": false, \"linkText\": \"Export to plot.ly\", \"plotlyServerURL\": \"https://plot.ly\"}); \n",
       "}\n",
       "});</script><script type=\"text/javascript\">window.addEventListener(\"resize\", function(){if (document.getElementById(\"0e8d5408-03e4-4d4e-b067-803421fadf7f\")) {window._Plotly.Plots.resize(document.getElementById(\"0e8d5408-03e4-4d4e-b067-803421fadf7f\"));};})</script>"
      ]
     },
     "metadata": {},
     "output_type": "display_data"
    },
    {
     "name": "stdout",
     "output_type": "stream",
     "text": [
      "\n",
      "\n",
      "Cluster 4 || variable: ¿Cada cuánto tiempo consumes imágenes?\n",
      "Describiendo la pregunta ¿Cada cuánto tiempo consumes imágenes?\n",
      "Valores numéricos asociados a las respuestas [1, 2, 3, 4]\n",
      "Respuestas posibles a la pregunta/variable ['1. Nunca', '2. Dos o tres veces por semana', '3. Casi todos los días', '4. A diario']\n"
     ]
    },
    {
     "data": {
      "text/plain": [
       "count    98.000000\n",
       "mean      3.765306\n",
       "std       0.493275\n",
       "min       2.000000\n",
       "25%       4.000000\n",
       "50%       4.000000\n",
       "75%       4.000000\n",
       "max       4.000000\n",
       "Name: ¿Cada cuánto tiempo consumes imágenes?, dtype: float64"
      ]
     },
     "metadata": {},
     "output_type": "display_data"
    },
    {
     "name": "stdout",
     "output_type": "stream",
     "text": [
      "Conteo de cada valor en ¿Cada cuánto tiempo consumes imágenes? expresada como valor / cantidad\n"
     ]
    },
    {
     "data": {
      "text/plain": [
       "2     3\n",
       "3    17\n",
       "4    78\n",
       "Name: ¿Cada cuánto tiempo consumes imágenes?, dtype: int64"
      ]
     },
     "metadata": {},
     "output_type": "display_data"
    },
    {
     "name": "stdout",
     "output_type": "stream",
     "text": [
      "Porcentaje de cada valor en ¿Cada cuánto tiempo consumes imágenes? expresado como valor / porcentaje\n"
     ]
    },
    {
     "data": {
      "text/plain": [
       "2     3.06\n",
       "3    17.35\n",
       "4    79.59\n",
       "Name: ¿Cada cuánto tiempo consumes imágenes?, dtype: float64"
      ]
     },
     "metadata": {},
     "output_type": "display_data"
    },
    {
     "data": {
      "application/vnd.plotly.v1+json": {
       "config": {
        "linkText": "Export to plot.ly",
        "plotlyServerURL": "https://plot.ly",
        "showLink": false
       },
       "data": [
        {
         "marker": {
          "color": [
           "rgb(213,62,79)",
           "rgb(252,141,89)",
           "rgb(254,224,139)",
           "rgb(230,245,152)",
           "rgb(153,213,148)",
           "rgb(50,136,189)"
          ]
         },
         "type": "bar",
         "uid": "5aa1880d-ec1e-4f25-9352-2ea6cd2dc4a1",
         "x": [
          2,
          3,
          4
         ],
         "y": [
          3,
          17,
          78
         ]
        }
       ],
       "layout": {
        "bargap": 0.2,
        "xaxis": {
         "ticktext": [
          "1. Nunca",
          "2. Dos o tres veces por semana",
          "3. Casi todos los días",
          "4. A diario"
         ],
         "tickvals": [
          1,
          2,
          3,
          4
         ]
        }
       }
      },
      "text/html": [
       "<div id=\"ae55a53d-125d-4ecb-90c3-429c22ab1ffb\" style=\"height: 525px; width: 100%;\" class=\"plotly-graph-div\"></div><script type=\"text/javascript\">require([\"plotly\"], function(Plotly) { window.PLOTLYENV=window.PLOTLYENV || {};window.PLOTLYENV.BASE_URL=\"https://plot.ly\";\n",
       "if (document.getElementById(\"ae55a53d-125d-4ecb-90c3-429c22ab1ffb\")) {\n",
       "    Plotly.newPlot(\"ae55a53d-125d-4ecb-90c3-429c22ab1ffb\", [{\"marker\": {\"color\": [\"rgb(213,62,79)\", \"rgb(252,141,89)\", \"rgb(254,224,139)\", \"rgb(230,245,152)\", \"rgb(153,213,148)\", \"rgb(50,136,189)\"]}, \"x\": [2, 3, 4], \"y\": [3, 17, 78], \"type\": \"bar\", \"uid\": \"5aa1880d-ec1e-4f25-9352-2ea6cd2dc4a1\"}], {\"bargap\": 0.2, \"xaxis\": {\"ticktext\": [\"1. Nunca\", \"2. Dos o tres veces por semana\", \"3. Casi todos los d\\u00edas\", \"4. A diario\"], \"tickvals\": [1, 2, 3, 4]}}, {\"showLink\": false, \"linkText\": \"Export to plot.ly\", \"plotlyServerURL\": \"https://plot.ly\"}); \n",
       "}\n",
       "});</script><script type=\"text/javascript\">window.addEventListener(\"resize\", function(){if (document.getElementById(\"ae55a53d-125d-4ecb-90c3-429c22ab1ffb\")) {window._Plotly.Plots.resize(document.getElementById(\"ae55a53d-125d-4ecb-90c3-429c22ab1ffb\"));};})</script>"
      ],
      "text/vnd.plotly.v1+html": [
       "<div id=\"ae55a53d-125d-4ecb-90c3-429c22ab1ffb\" style=\"height: 525px; width: 100%;\" class=\"plotly-graph-div\"></div><script type=\"text/javascript\">require([\"plotly\"], function(Plotly) { window.PLOTLYENV=window.PLOTLYENV || {};window.PLOTLYENV.BASE_URL=\"https://plot.ly\";\n",
       "if (document.getElementById(\"ae55a53d-125d-4ecb-90c3-429c22ab1ffb\")) {\n",
       "    Plotly.newPlot(\"ae55a53d-125d-4ecb-90c3-429c22ab1ffb\", [{\"marker\": {\"color\": [\"rgb(213,62,79)\", \"rgb(252,141,89)\", \"rgb(254,224,139)\", \"rgb(230,245,152)\", \"rgb(153,213,148)\", \"rgb(50,136,189)\"]}, \"x\": [2, 3, 4], \"y\": [3, 17, 78], \"type\": \"bar\", \"uid\": \"5aa1880d-ec1e-4f25-9352-2ea6cd2dc4a1\"}], {\"bargap\": 0.2, \"xaxis\": {\"ticktext\": [\"1. Nunca\", \"2. Dos o tres veces por semana\", \"3. Casi todos los d\\u00edas\", \"4. A diario\"], \"tickvals\": [1, 2, 3, 4]}}, {\"showLink\": false, \"linkText\": \"Export to plot.ly\", \"plotlyServerURL\": \"https://plot.ly\"}); \n",
       "}\n",
       "});</script><script type=\"text/javascript\">window.addEventListener(\"resize\", function(){if (document.getElementById(\"ae55a53d-125d-4ecb-90c3-429c22ab1ffb\")) {window._Plotly.Plots.resize(document.getElementById(\"ae55a53d-125d-4ecb-90c3-429c22ab1ffb\"));};})</script>"
      ]
     },
     "metadata": {},
     "output_type": "display_data"
    },
    {
     "name": "stdout",
     "output_type": "stream",
     "text": [
      "\n",
      "\n",
      "Cluster 3 || variable: Clasifica tu grado de visión\n",
      "Describiendo la pregunta Clasifica tu grado de visión\n",
      "Valores numéricos asociados a las respuestas [1, 2, 3, 4, 5]\n",
      "Respuestas posibles a la pregunta/variable ['1. Muy malo', '2. Malo', '3. Regular', '4. Bueno', '5. Muy bueno']\n"
     ]
    },
    {
     "data": {
      "text/plain": [
       "count    100.000000\n",
       "mean       4.460000\n",
       "std        0.626357\n",
       "min        3.000000\n",
       "25%        4.000000\n",
       "50%        5.000000\n",
       "75%        5.000000\n",
       "max        5.000000\n",
       "Name: Clasifica tu grado de visión, dtype: float64"
      ]
     },
     "metadata": {},
     "output_type": "display_data"
    },
    {
     "name": "stdout",
     "output_type": "stream",
     "text": [
      "Conteo de cada valor en Clasifica tu grado de visión expresada como valor / cantidad\n"
     ]
    },
    {
     "data": {
      "text/plain": [
       "3     7\n",
       "4    40\n",
       "5    53\n",
       "Name: Clasifica tu grado de visión, dtype: int64"
      ]
     },
     "metadata": {},
     "output_type": "display_data"
    },
    {
     "name": "stdout",
     "output_type": "stream",
     "text": [
      "Porcentaje de cada valor en Clasifica tu grado de visión expresado como valor / porcentaje\n"
     ]
    },
    {
     "data": {
      "text/plain": [
       "3     7.0\n",
       "4    40.0\n",
       "5    53.0\n",
       "Name: Clasifica tu grado de visión, dtype: float64"
      ]
     },
     "metadata": {},
     "output_type": "display_data"
    },
    {
     "data": {
      "application/vnd.plotly.v1+json": {
       "config": {
        "linkText": "Export to plot.ly",
        "plotlyServerURL": "https://plot.ly",
        "showLink": false
       },
       "data": [
        {
         "marker": {
          "color": [
           "rgb(213,62,79)",
           "rgb(252,141,89)",
           "rgb(254,224,139)",
           "rgb(230,245,152)",
           "rgb(153,213,148)",
           "rgb(50,136,189)"
          ]
         },
         "type": "bar",
         "uid": "fd0f77cf-435d-4edc-ac47-ba076b67fc9a",
         "x": [
          3,
          4,
          5
         ],
         "y": [
          7,
          40,
          53
         ]
        }
       ],
       "layout": {
        "bargap": 0.2,
        "xaxis": {
         "ticktext": [
          "1. Muy malo",
          "2. Malo",
          "3. Regular",
          "4. Bueno",
          "5. Muy bueno"
         ],
         "tickvals": [
          1,
          2,
          3,
          4,
          5
         ]
        }
       }
      },
      "text/html": [
       "<div id=\"44f5d8f2-bf8a-41cd-be0e-50e14ed35045\" style=\"height: 525px; width: 100%;\" class=\"plotly-graph-div\"></div><script type=\"text/javascript\">require([\"plotly\"], function(Plotly) { window.PLOTLYENV=window.PLOTLYENV || {};window.PLOTLYENV.BASE_URL=\"https://plot.ly\";\n",
       "if (document.getElementById(\"44f5d8f2-bf8a-41cd-be0e-50e14ed35045\")) {\n",
       "    Plotly.newPlot(\"44f5d8f2-bf8a-41cd-be0e-50e14ed35045\", [{\"marker\": {\"color\": [\"rgb(213,62,79)\", \"rgb(252,141,89)\", \"rgb(254,224,139)\", \"rgb(230,245,152)\", \"rgb(153,213,148)\", \"rgb(50,136,189)\"]}, \"x\": [3, 4, 5], \"y\": [7, 40, 53], \"type\": \"bar\", \"uid\": \"fd0f77cf-435d-4edc-ac47-ba076b67fc9a\"}], {\"bargap\": 0.2, \"xaxis\": {\"ticktext\": [\"1. Muy malo\", \"2. Malo\", \"3. Regular\", \"4. Bueno\", \"5. Muy bueno\"], \"tickvals\": [1, 2, 3, 4, 5]}}, {\"showLink\": false, \"linkText\": \"Export to plot.ly\", \"plotlyServerURL\": \"https://plot.ly\"}); \n",
       "}\n",
       "});</script><script type=\"text/javascript\">window.addEventListener(\"resize\", function(){if (document.getElementById(\"44f5d8f2-bf8a-41cd-be0e-50e14ed35045\")) {window._Plotly.Plots.resize(document.getElementById(\"44f5d8f2-bf8a-41cd-be0e-50e14ed35045\"));};})</script>"
      ],
      "text/vnd.plotly.v1+html": [
       "<div id=\"44f5d8f2-bf8a-41cd-be0e-50e14ed35045\" style=\"height: 525px; width: 100%;\" class=\"plotly-graph-div\"></div><script type=\"text/javascript\">require([\"plotly\"], function(Plotly) { window.PLOTLYENV=window.PLOTLYENV || {};window.PLOTLYENV.BASE_URL=\"https://plot.ly\";\n",
       "if (document.getElementById(\"44f5d8f2-bf8a-41cd-be0e-50e14ed35045\")) {\n",
       "    Plotly.newPlot(\"44f5d8f2-bf8a-41cd-be0e-50e14ed35045\", [{\"marker\": {\"color\": [\"rgb(213,62,79)\", \"rgb(252,141,89)\", \"rgb(254,224,139)\", \"rgb(230,245,152)\", \"rgb(153,213,148)\", \"rgb(50,136,189)\"]}, \"x\": [3, 4, 5], \"y\": [7, 40, 53], \"type\": \"bar\", \"uid\": \"fd0f77cf-435d-4edc-ac47-ba076b67fc9a\"}], {\"bargap\": 0.2, \"xaxis\": {\"ticktext\": [\"1. Muy malo\", \"2. Malo\", \"3. Regular\", \"4. Bueno\", \"5. Muy bueno\"], \"tickvals\": [1, 2, 3, 4, 5]}}, {\"showLink\": false, \"linkText\": \"Export to plot.ly\", \"plotlyServerURL\": \"https://plot.ly\"}); \n",
       "}\n",
       "});</script><script type=\"text/javascript\">window.addEventListener(\"resize\", function(){if (document.getElementById(\"44f5d8f2-bf8a-41cd-be0e-50e14ed35045\")) {window._Plotly.Plots.resize(document.getElementById(\"44f5d8f2-bf8a-41cd-be0e-50e14ed35045\"));};})</script>"
      ]
     },
     "metadata": {},
     "output_type": "display_data"
    },
    {
     "name": "stdout",
     "output_type": "stream",
     "text": [
      "\n",
      "\n",
      "Cluster 3 || variable: ¿Utilizas gafas o lentes de contacto?\n",
      "Describiendo la pregunta ¿Utilizas gafas o lentes de contacto?\n",
      "Valores numéricos asociados a las respuestas [0, 1]\n",
      "Respuestas posibles a la pregunta/variable ['No', 'Sí']\n"
     ]
    },
    {
     "data": {
      "text/plain": [
       "count    100.000000\n",
       "mean       0.330000\n",
       "std        0.472582\n",
       "min        0.000000\n",
       "25%        0.000000\n",
       "50%        0.000000\n",
       "75%        1.000000\n",
       "max        1.000000\n",
       "Name: ¿Utilizas gafas o lentes de contacto?, dtype: float64"
      ]
     },
     "metadata": {},
     "output_type": "display_data"
    },
    {
     "name": "stdout",
     "output_type": "stream",
     "text": [
      "Conteo de cada valor en ¿Utilizas gafas o lentes de contacto? expresada como valor / cantidad\n"
     ]
    },
    {
     "data": {
      "text/plain": [
       "0    67\n",
       "1    33\n",
       "Name: ¿Utilizas gafas o lentes de contacto?, dtype: int64"
      ]
     },
     "metadata": {},
     "output_type": "display_data"
    },
    {
     "name": "stdout",
     "output_type": "stream",
     "text": [
      "Porcentaje de cada valor en ¿Utilizas gafas o lentes de contacto? expresado como valor / porcentaje\n"
     ]
    },
    {
     "data": {
      "text/plain": [
       "0    67.0\n",
       "1    33.0\n",
       "Name: ¿Utilizas gafas o lentes de contacto?, dtype: float64"
      ]
     },
     "metadata": {},
     "output_type": "display_data"
    },
    {
     "data": {
      "application/vnd.plotly.v1+json": {
       "config": {
        "linkText": "Export to plot.ly",
        "plotlyServerURL": "https://plot.ly",
        "showLink": false
       },
       "data": [
        {
         "marker": {
          "color": [
           "rgb(213,62,79)",
           "rgb(252,141,89)",
           "rgb(254,224,139)",
           "rgb(230,245,152)",
           "rgb(153,213,148)",
           "rgb(50,136,189)"
          ]
         },
         "type": "bar",
         "uid": "89ea20f5-2b61-45e5-bb4b-bf35ac563a0e",
         "x": [
          0,
          1
         ],
         "y": [
          67,
          33
         ]
        }
       ],
       "layout": {
        "bargap": 0.2,
        "xaxis": {
         "ticktext": [
          "No",
          "Sí"
         ],
         "tickvals": [
          0,
          1
         ]
        }
       }
      },
      "text/html": [
       "<div id=\"626165d5-822a-436f-a739-96f6c7b5c1d1\" style=\"height: 525px; width: 100%;\" class=\"plotly-graph-div\"></div><script type=\"text/javascript\">require([\"plotly\"], function(Plotly) { window.PLOTLYENV=window.PLOTLYENV || {};window.PLOTLYENV.BASE_URL=\"https://plot.ly\";\n",
       "if (document.getElementById(\"626165d5-822a-436f-a739-96f6c7b5c1d1\")) {\n",
       "    Plotly.newPlot(\"626165d5-822a-436f-a739-96f6c7b5c1d1\", [{\"marker\": {\"color\": [\"rgb(213,62,79)\", \"rgb(252,141,89)\", \"rgb(254,224,139)\", \"rgb(230,245,152)\", \"rgb(153,213,148)\", \"rgb(50,136,189)\"]}, \"x\": [0, 1], \"y\": [67, 33], \"type\": \"bar\", \"uid\": \"89ea20f5-2b61-45e5-bb4b-bf35ac563a0e\"}], {\"bargap\": 0.2, \"xaxis\": {\"ticktext\": [\"No\", \"S\\u00ed\"], \"tickvals\": [0, 1]}}, {\"showLink\": false, \"linkText\": \"Export to plot.ly\", \"plotlyServerURL\": \"https://plot.ly\"}); \n",
       "}\n",
       "});</script><script type=\"text/javascript\">window.addEventListener(\"resize\", function(){if (document.getElementById(\"626165d5-822a-436f-a739-96f6c7b5c1d1\")) {window._Plotly.Plots.resize(document.getElementById(\"626165d5-822a-436f-a739-96f6c7b5c1d1\"));};})</script>"
      ],
      "text/vnd.plotly.v1+html": [
       "<div id=\"626165d5-822a-436f-a739-96f6c7b5c1d1\" style=\"height: 525px; width: 100%;\" class=\"plotly-graph-div\"></div><script type=\"text/javascript\">require([\"plotly\"], function(Plotly) { window.PLOTLYENV=window.PLOTLYENV || {};window.PLOTLYENV.BASE_URL=\"https://plot.ly\";\n",
       "if (document.getElementById(\"626165d5-822a-436f-a739-96f6c7b5c1d1\")) {\n",
       "    Plotly.newPlot(\"626165d5-822a-436f-a739-96f6c7b5c1d1\", [{\"marker\": {\"color\": [\"rgb(213,62,79)\", \"rgb(252,141,89)\", \"rgb(254,224,139)\", \"rgb(230,245,152)\", \"rgb(153,213,148)\", \"rgb(50,136,189)\"]}, \"x\": [0, 1], \"y\": [67, 33], \"type\": \"bar\", \"uid\": \"89ea20f5-2b61-45e5-bb4b-bf35ac563a0e\"}], {\"bargap\": 0.2, \"xaxis\": {\"ticktext\": [\"No\", \"S\\u00ed\"], \"tickvals\": [0, 1]}}, {\"showLink\": false, \"linkText\": \"Export to plot.ly\", \"plotlyServerURL\": \"https://plot.ly\"}); \n",
       "}\n",
       "});</script><script type=\"text/javascript\">window.addEventListener(\"resize\", function(){if (document.getElementById(\"626165d5-822a-436f-a739-96f6c7b5c1d1\")) {window._Plotly.Plots.resize(document.getElementById(\"626165d5-822a-436f-a739-96f6c7b5c1d1\"));};})</script>"
      ]
     },
     "metadata": {},
     "output_type": "display_data"
    },
    {
     "name": "stdout",
     "output_type": "stream",
     "text": [
      "\n",
      "\n",
      "Cluster 3 || variable: ¿Tienes alguna carencia visual que afecte a la recepción de formas, colores, distancias, etc.?\n",
      "Describiendo la pregunta ¿Tienes alguna carencia visual que afecte a la recepción de formas, colores, distancias, etc.?\n",
      "Valores numéricos asociados a las respuestas [0, 1]\n",
      "Respuestas posibles a la pregunta/variable ['No', 'Sí']\n"
     ]
    },
    {
     "data": {
      "text/plain": [
       "count    100.000000\n",
       "mean       0.160000\n",
       "std        0.368453\n",
       "min        0.000000\n",
       "25%        0.000000\n",
       "50%        0.000000\n",
       "75%        0.000000\n",
       "max        1.000000\n",
       "Name: ¿Tienes alguna carencia visual que afecte a la recepción de formas, colores, distancias, etc.?, dtype: float64"
      ]
     },
     "metadata": {},
     "output_type": "display_data"
    },
    {
     "name": "stdout",
     "output_type": "stream",
     "text": [
      "Conteo de cada valor en ¿Tienes alguna carencia visual que afecte a la recepción de formas, colores, distancias, etc.? expresada como valor / cantidad\n"
     ]
    },
    {
     "data": {
      "text/plain": [
       "0    84\n",
       "1    16\n",
       "Name: ¿Tienes alguna carencia visual que afecte a la recepción de formas, colores, distancias, etc.?, dtype: int64"
      ]
     },
     "metadata": {},
     "output_type": "display_data"
    },
    {
     "name": "stdout",
     "output_type": "stream",
     "text": [
      "Porcentaje de cada valor en ¿Tienes alguna carencia visual que afecte a la recepción de formas, colores, distancias, etc.? expresado como valor / porcentaje\n"
     ]
    },
    {
     "data": {
      "text/plain": [
       "0    84.0\n",
       "1    16.0\n",
       "Name: ¿Tienes alguna carencia visual que afecte a la recepción de formas, colores, distancias, etc.?, dtype: float64"
      ]
     },
     "metadata": {},
     "output_type": "display_data"
    },
    {
     "data": {
      "application/vnd.plotly.v1+json": {
       "config": {
        "linkText": "Export to plot.ly",
        "plotlyServerURL": "https://plot.ly",
        "showLink": false
       },
       "data": [
        {
         "marker": {
          "color": [
           "rgb(213,62,79)",
           "rgb(252,141,89)",
           "rgb(254,224,139)",
           "rgb(230,245,152)",
           "rgb(153,213,148)",
           "rgb(50,136,189)"
          ]
         },
         "type": "bar",
         "uid": "400bf7f3-091d-4d03-841b-8e94b332d12d",
         "x": [
          0,
          1
         ],
         "y": [
          84,
          16
         ]
        }
       ],
       "layout": {
        "bargap": 0.2,
        "xaxis": {
         "ticktext": [
          "No",
          "Sí"
         ],
         "tickvals": [
          0,
          1
         ]
        }
       }
      },
      "text/html": [
       "<div id=\"adac2725-be70-4f61-9940-b406b3eb5551\" style=\"height: 525px; width: 100%;\" class=\"plotly-graph-div\"></div><script type=\"text/javascript\">require([\"plotly\"], function(Plotly) { window.PLOTLYENV=window.PLOTLYENV || {};window.PLOTLYENV.BASE_URL=\"https://plot.ly\";\n",
       "if (document.getElementById(\"adac2725-be70-4f61-9940-b406b3eb5551\")) {\n",
       "    Plotly.newPlot(\"adac2725-be70-4f61-9940-b406b3eb5551\", [{\"marker\": {\"color\": [\"rgb(213,62,79)\", \"rgb(252,141,89)\", \"rgb(254,224,139)\", \"rgb(230,245,152)\", \"rgb(153,213,148)\", \"rgb(50,136,189)\"]}, \"x\": [0, 1], \"y\": [84, 16], \"type\": \"bar\", \"uid\": \"400bf7f3-091d-4d03-841b-8e94b332d12d\"}], {\"bargap\": 0.2, \"xaxis\": {\"ticktext\": [\"No\", \"S\\u00ed\"], \"tickvals\": [0, 1]}}, {\"showLink\": false, \"linkText\": \"Export to plot.ly\", \"plotlyServerURL\": \"https://plot.ly\"}); \n",
       "}\n",
       "});</script><script type=\"text/javascript\">window.addEventListener(\"resize\", function(){if (document.getElementById(\"adac2725-be70-4f61-9940-b406b3eb5551\")) {window._Plotly.Plots.resize(document.getElementById(\"adac2725-be70-4f61-9940-b406b3eb5551\"));};})</script>"
      ],
      "text/vnd.plotly.v1+html": [
       "<div id=\"adac2725-be70-4f61-9940-b406b3eb5551\" style=\"height: 525px; width: 100%;\" class=\"plotly-graph-div\"></div><script type=\"text/javascript\">require([\"plotly\"], function(Plotly) { window.PLOTLYENV=window.PLOTLYENV || {};window.PLOTLYENV.BASE_URL=\"https://plot.ly\";\n",
       "if (document.getElementById(\"adac2725-be70-4f61-9940-b406b3eb5551\")) {\n",
       "    Plotly.newPlot(\"adac2725-be70-4f61-9940-b406b3eb5551\", [{\"marker\": {\"color\": [\"rgb(213,62,79)\", \"rgb(252,141,89)\", \"rgb(254,224,139)\", \"rgb(230,245,152)\", \"rgb(153,213,148)\", \"rgb(50,136,189)\"]}, \"x\": [0, 1], \"y\": [84, 16], \"type\": \"bar\", \"uid\": \"400bf7f3-091d-4d03-841b-8e94b332d12d\"}], {\"bargap\": 0.2, \"xaxis\": {\"ticktext\": [\"No\", \"S\\u00ed\"], \"tickvals\": [0, 1]}}, {\"showLink\": false, \"linkText\": \"Export to plot.ly\", \"plotlyServerURL\": \"https://plot.ly\"}); \n",
       "}\n",
       "});</script><script type=\"text/javascript\">window.addEventListener(\"resize\", function(){if (document.getElementById(\"adac2725-be70-4f61-9940-b406b3eb5551\")) {window._Plotly.Plots.resize(document.getElementById(\"adac2725-be70-4f61-9940-b406b3eb5551\"));};})</script>"
      ]
     },
     "metadata": {},
     "output_type": "display_data"
    },
    {
     "name": "stdout",
     "output_type": "stream",
     "text": [
      "\n",
      "\n",
      "Cluster 3 || variable: ¿Tienes acceso a dispositivos (ordenador, móvil, tablet, etc.) conectados a Internet habitualmente?\n",
      "Describiendo la pregunta ¿Tienes acceso a dispositivos (ordenador, móvil, tablet, etc.) conectados a Internet habitualmente?\n",
      "Valores numéricos asociados a las respuestas [1, 2, 3, 4, 5]\n",
      "Respuestas posibles a la pregunta/variable ['1. Nunca', '2. Ocasionalmente', '3. Semanalmente', '4. Diariamente', '5. Varias veces al día']\n"
     ]
    },
    {
     "data": {
      "text/plain": [
       "count    100.000000\n",
       "mean       4.450000\n",
       "std        0.575159\n",
       "min        3.000000\n",
       "25%        4.000000\n",
       "50%        4.000000\n",
       "75%        5.000000\n",
       "max        5.000000\n",
       "Name: ¿Tienes acceso a dispositivos (ordenador, móvil, tablet, etc.) conectados a Internet habitualmente?, dtype: float64"
      ]
     },
     "metadata": {},
     "output_type": "display_data"
    },
    {
     "name": "stdout",
     "output_type": "stream",
     "text": [
      "Conteo de cada valor en ¿Tienes acceso a dispositivos (ordenador, móvil, tablet, etc.) conectados a Internet habitualmente? expresada como valor / cantidad\n"
     ]
    },
    {
     "data": {
      "text/plain": [
       "3     4\n",
       "4    47\n",
       "5    49\n",
       "Name: ¿Tienes acceso a dispositivos (ordenador, móvil, tablet, etc.) conectados a Internet habitualmente?, dtype: int64"
      ]
     },
     "metadata": {},
     "output_type": "display_data"
    },
    {
     "name": "stdout",
     "output_type": "stream",
     "text": [
      "Porcentaje de cada valor en ¿Tienes acceso a dispositivos (ordenador, móvil, tablet, etc.) conectados a Internet habitualmente? expresado como valor / porcentaje\n"
     ]
    },
    {
     "data": {
      "text/plain": [
       "3     4.0\n",
       "4    47.0\n",
       "5    49.0\n",
       "Name: ¿Tienes acceso a dispositivos (ordenador, móvil, tablet, etc.) conectados a Internet habitualmente?, dtype: float64"
      ]
     },
     "metadata": {},
     "output_type": "display_data"
    },
    {
     "data": {
      "application/vnd.plotly.v1+json": {
       "config": {
        "linkText": "Export to plot.ly",
        "plotlyServerURL": "https://plot.ly",
        "showLink": false
       },
       "data": [
        {
         "marker": {
          "color": [
           "rgb(213,62,79)",
           "rgb(252,141,89)",
           "rgb(254,224,139)",
           "rgb(230,245,152)",
           "rgb(153,213,148)",
           "rgb(50,136,189)"
          ]
         },
         "type": "bar",
         "uid": "a0b8c9d8-893c-484b-9397-fe060751a071",
         "x": [
          3,
          4,
          5
         ],
         "y": [
          4,
          47,
          49
         ]
        }
       ],
       "layout": {
        "bargap": 0.2,
        "xaxis": {
         "ticktext": [
          "1. Nunca",
          "2. Ocasionalmente",
          "3. Semanalmente",
          "4. Diariamente",
          "5. Varias veces al día"
         ],
         "tickvals": [
          1,
          2,
          3,
          4,
          5
         ]
        }
       }
      },
      "text/html": [
       "<div id=\"91a98c78-11e3-4726-ab07-b1d42ae50fc7\" style=\"height: 525px; width: 100%;\" class=\"plotly-graph-div\"></div><script type=\"text/javascript\">require([\"plotly\"], function(Plotly) { window.PLOTLYENV=window.PLOTLYENV || {};window.PLOTLYENV.BASE_URL=\"https://plot.ly\";\n",
       "if (document.getElementById(\"91a98c78-11e3-4726-ab07-b1d42ae50fc7\")) {\n",
       "    Plotly.newPlot(\"91a98c78-11e3-4726-ab07-b1d42ae50fc7\", [{\"marker\": {\"color\": [\"rgb(213,62,79)\", \"rgb(252,141,89)\", \"rgb(254,224,139)\", \"rgb(230,245,152)\", \"rgb(153,213,148)\", \"rgb(50,136,189)\"]}, \"x\": [3, 4, 5], \"y\": [4, 47, 49], \"type\": \"bar\", \"uid\": \"a0b8c9d8-893c-484b-9397-fe060751a071\"}], {\"bargap\": 0.2, \"xaxis\": {\"ticktext\": [\"1. Nunca\", \"2. Ocasionalmente\", \"3. Semanalmente\", \"4. Diariamente\", \"5. Varias veces al d\\u00eda\"], \"tickvals\": [1, 2, 3, 4, 5]}}, {\"showLink\": false, \"linkText\": \"Export to plot.ly\", \"plotlyServerURL\": \"https://plot.ly\"}); \n",
       "}\n",
       "});</script><script type=\"text/javascript\">window.addEventListener(\"resize\", function(){if (document.getElementById(\"91a98c78-11e3-4726-ab07-b1d42ae50fc7\")) {window._Plotly.Plots.resize(document.getElementById(\"91a98c78-11e3-4726-ab07-b1d42ae50fc7\"));};})</script>"
      ],
      "text/vnd.plotly.v1+html": [
       "<div id=\"91a98c78-11e3-4726-ab07-b1d42ae50fc7\" style=\"height: 525px; width: 100%;\" class=\"plotly-graph-div\"></div><script type=\"text/javascript\">require([\"plotly\"], function(Plotly) { window.PLOTLYENV=window.PLOTLYENV || {};window.PLOTLYENV.BASE_URL=\"https://plot.ly\";\n",
       "if (document.getElementById(\"91a98c78-11e3-4726-ab07-b1d42ae50fc7\")) {\n",
       "    Plotly.newPlot(\"91a98c78-11e3-4726-ab07-b1d42ae50fc7\", [{\"marker\": {\"color\": [\"rgb(213,62,79)\", \"rgb(252,141,89)\", \"rgb(254,224,139)\", \"rgb(230,245,152)\", \"rgb(153,213,148)\", \"rgb(50,136,189)\"]}, \"x\": [3, 4, 5], \"y\": [4, 47, 49], \"type\": \"bar\", \"uid\": \"a0b8c9d8-893c-484b-9397-fe060751a071\"}], {\"bargap\": 0.2, \"xaxis\": {\"ticktext\": [\"1. Nunca\", \"2. Ocasionalmente\", \"3. Semanalmente\", \"4. Diariamente\", \"5. Varias veces al d\\u00eda\"], \"tickvals\": [1, 2, 3, 4, 5]}}, {\"showLink\": false, \"linkText\": \"Export to plot.ly\", \"plotlyServerURL\": \"https://plot.ly\"}); \n",
       "}\n",
       "});</script><script type=\"text/javascript\">window.addEventListener(\"resize\", function(){if (document.getElementById(\"91a98c78-11e3-4726-ab07-b1d42ae50fc7\")) {window._Plotly.Plots.resize(document.getElementById(\"91a98c78-11e3-4726-ab07-b1d42ae50fc7\"));};})</script>"
      ]
     },
     "metadata": {},
     "output_type": "display_data"
    },
    {
     "name": "stdout",
     "output_type": "stream",
     "text": [
      "\n",
      "\n",
      "Cluster 3 || variable: ¿Cuánto tiempo al día usas el móvil/tableta/ordenador/TV?\n",
      "Describiendo la pregunta ¿Cuánto tiempo al día usas el móvil/tableta/ordenador/TV?\n",
      "Valores numéricos asociados a las respuestas [1, 2, 3, 4, 5, 6]\n",
      "Respuestas posibles a la pregunta/variable ['1. Nada', '2. Menos de una hora', '3. 1-2 horas', '4. 2-4 horas', '5. 4-6 horas', '6. Más de 6 horas']\n"
     ]
    },
    {
     "data": {
      "text/plain": [
       "count    100.000000\n",
       "mean       5.140000\n",
       "std        1.025139\n",
       "min        3.000000\n",
       "25%        4.000000\n",
       "50%        5.500000\n",
       "75%        6.000000\n",
       "max        6.000000\n",
       "Name: ¿Cuánto tiempo al día usas el móvil/tableta/ordenador/TV?, dtype: float64"
      ]
     },
     "metadata": {},
     "output_type": "display_data"
    },
    {
     "name": "stdout",
     "output_type": "stream",
     "text": [
      "Conteo de cada valor en ¿Cuánto tiempo al día usas el móvil/tableta/ordenador/TV? expresada como valor / cantidad\n"
     ]
    },
    {
     "data": {
      "text/plain": [
       "3    10\n",
       "4    16\n",
       "5    24\n",
       "6    50\n",
       "Name: ¿Cuánto tiempo al día usas el móvil/tableta/ordenador/TV?, dtype: int64"
      ]
     },
     "metadata": {},
     "output_type": "display_data"
    },
    {
     "name": "stdout",
     "output_type": "stream",
     "text": [
      "Porcentaje de cada valor en ¿Cuánto tiempo al día usas el móvil/tableta/ordenador/TV? expresado como valor / porcentaje\n"
     ]
    },
    {
     "data": {
      "text/plain": [
       "3    10.0\n",
       "4    16.0\n",
       "5    24.0\n",
       "6    50.0\n",
       "Name: ¿Cuánto tiempo al día usas el móvil/tableta/ordenador/TV?, dtype: float64"
      ]
     },
     "metadata": {},
     "output_type": "display_data"
    },
    {
     "data": {
      "application/vnd.plotly.v1+json": {
       "config": {
        "linkText": "Export to plot.ly",
        "plotlyServerURL": "https://plot.ly",
        "showLink": false
       },
       "data": [
        {
         "marker": {
          "color": [
           "rgb(213,62,79)",
           "rgb(252,141,89)",
           "rgb(254,224,139)",
           "rgb(230,245,152)",
           "rgb(153,213,148)",
           "rgb(50,136,189)"
          ]
         },
         "type": "bar",
         "uid": "b8e26467-55b9-4aba-b4b8-8574ea59dcfd",
         "x": [
          3,
          4,
          5,
          6
         ],
         "y": [
          10,
          16,
          24,
          50
         ]
        }
       ],
       "layout": {
        "bargap": 0.2,
        "xaxis": {
         "ticktext": [
          "1. Nada",
          "2. Menos de una hora",
          "3. 1-2 horas",
          "4. 2-4 horas",
          "5. 4-6 horas",
          "6. Más de 6 horas"
         ],
         "tickvals": [
          1,
          2,
          3,
          4,
          5,
          6
         ]
        }
       }
      },
      "text/html": [
       "<div id=\"ead634fd-85fa-4315-9b3f-d2a47a56072d\" style=\"height: 525px; width: 100%;\" class=\"plotly-graph-div\"></div><script type=\"text/javascript\">require([\"plotly\"], function(Plotly) { window.PLOTLYENV=window.PLOTLYENV || {};window.PLOTLYENV.BASE_URL=\"https://plot.ly\";\n",
       "if (document.getElementById(\"ead634fd-85fa-4315-9b3f-d2a47a56072d\")) {\n",
       "    Plotly.newPlot(\"ead634fd-85fa-4315-9b3f-d2a47a56072d\", [{\"marker\": {\"color\": [\"rgb(213,62,79)\", \"rgb(252,141,89)\", \"rgb(254,224,139)\", \"rgb(230,245,152)\", \"rgb(153,213,148)\", \"rgb(50,136,189)\"]}, \"x\": [3, 4, 5, 6], \"y\": [10, 16, 24, 50], \"type\": \"bar\", \"uid\": \"b8e26467-55b9-4aba-b4b8-8574ea59dcfd\"}], {\"bargap\": 0.2, \"xaxis\": {\"ticktext\": [\"1. Nada\", \"2. Menos de una hora\", \"3. 1-2 horas\", \"4. 2-4 horas\", \"5. 4-6 horas\", \"6. M\\u00e1s de 6 horas\"], \"tickvals\": [1, 2, 3, 4, 5, 6]}}, {\"showLink\": false, \"linkText\": \"Export to plot.ly\", \"plotlyServerURL\": \"https://plot.ly\"}); \n",
       "}\n",
       "});</script><script type=\"text/javascript\">window.addEventListener(\"resize\", function(){if (document.getElementById(\"ead634fd-85fa-4315-9b3f-d2a47a56072d\")) {window._Plotly.Plots.resize(document.getElementById(\"ead634fd-85fa-4315-9b3f-d2a47a56072d\"));};})</script>"
      ],
      "text/vnd.plotly.v1+html": [
       "<div id=\"ead634fd-85fa-4315-9b3f-d2a47a56072d\" style=\"height: 525px; width: 100%;\" class=\"plotly-graph-div\"></div><script type=\"text/javascript\">require([\"plotly\"], function(Plotly) { window.PLOTLYENV=window.PLOTLYENV || {};window.PLOTLYENV.BASE_URL=\"https://plot.ly\";\n",
       "if (document.getElementById(\"ead634fd-85fa-4315-9b3f-d2a47a56072d\")) {\n",
       "    Plotly.newPlot(\"ead634fd-85fa-4315-9b3f-d2a47a56072d\", [{\"marker\": {\"color\": [\"rgb(213,62,79)\", \"rgb(252,141,89)\", \"rgb(254,224,139)\", \"rgb(230,245,152)\", \"rgb(153,213,148)\", \"rgb(50,136,189)\"]}, \"x\": [3, 4, 5, 6], \"y\": [10, 16, 24, 50], \"type\": \"bar\", \"uid\": \"b8e26467-55b9-4aba-b4b8-8574ea59dcfd\"}], {\"bargap\": 0.2, \"xaxis\": {\"ticktext\": [\"1. Nada\", \"2. Menos de una hora\", \"3. 1-2 horas\", \"4. 2-4 horas\", \"5. 4-6 horas\", \"6. M\\u00e1s de 6 horas\"], \"tickvals\": [1, 2, 3, 4, 5, 6]}}, {\"showLink\": false, \"linkText\": \"Export to plot.ly\", \"plotlyServerURL\": \"https://plot.ly\"}); \n",
       "}\n",
       "});</script><script type=\"text/javascript\">window.addEventListener(\"resize\", function(){if (document.getElementById(\"ead634fd-85fa-4315-9b3f-d2a47a56072d\")) {window._Plotly.Plots.resize(document.getElementById(\"ead634fd-85fa-4315-9b3f-d2a47a56072d\"));};})</script>"
      ]
     },
     "metadata": {},
     "output_type": "display_data"
    },
    {
     "name": "stdout",
     "output_type": "stream",
     "text": [
      "\n",
      "\n",
      "Cluster 3 || variable: ¿Qué tipo de aplicaciones utilizas en tu ordenador/tableta/móvil? (Respuesta múltiple) [1. Apps de contenidos audiovisuales (Netflix, HBO, etc.)]\n",
      "Describiendo la pregunta ¿Qué tipo de aplicaciones utilizas en tu ordenador/tableta/móvil? (Respuesta múltiple) [1. Apps de contenidos audiovisuales (Netflix, HBO, etc.)]\n",
      "Valores numéricos asociados a las respuestas [0, 1]\n",
      "Respuestas posibles a la pregunta/variable ['No', 'Sí']\n"
     ]
    },
    {
     "data": {
      "text/plain": [
       "count    100.00000\n",
       "mean       0.43000\n",
       "std        0.49757\n",
       "min        0.00000\n",
       "25%        0.00000\n",
       "50%        0.00000\n",
       "75%        1.00000\n",
       "max        1.00000\n",
       "Name: ¿Qué tipo de aplicaciones utilizas en tu ordenador/tableta/móvil? (Respuesta múltiple) [1. Apps de contenidos audiovisuales (Netflix, HBO, etc.)], dtype: float64"
      ]
     },
     "metadata": {},
     "output_type": "display_data"
    },
    {
     "name": "stdout",
     "output_type": "stream",
     "text": [
      "Conteo de cada valor en ¿Qué tipo de aplicaciones utilizas en tu ordenador/tableta/móvil? (Respuesta múltiple) [1. Apps de contenidos audiovisuales (Netflix, HBO, etc.)] expresada como valor / cantidad\n"
     ]
    },
    {
     "data": {
      "text/plain": [
       "0    57\n",
       "1    43\n",
       "Name: ¿Qué tipo de aplicaciones utilizas en tu ordenador/tableta/móvil? (Respuesta múltiple) [1. Apps de contenidos audiovisuales (Netflix, HBO, etc.)], dtype: int64"
      ]
     },
     "metadata": {},
     "output_type": "display_data"
    },
    {
     "name": "stdout",
     "output_type": "stream",
     "text": [
      "Porcentaje de cada valor en ¿Qué tipo de aplicaciones utilizas en tu ordenador/tableta/móvil? (Respuesta múltiple) [1. Apps de contenidos audiovisuales (Netflix, HBO, etc.)] expresado como valor / porcentaje\n"
     ]
    },
    {
     "data": {
      "text/plain": [
       "0    57.0\n",
       "1    43.0\n",
       "Name: ¿Qué tipo de aplicaciones utilizas en tu ordenador/tableta/móvil? (Respuesta múltiple) [1. Apps de contenidos audiovisuales (Netflix, HBO, etc.)], dtype: float64"
      ]
     },
     "metadata": {},
     "output_type": "display_data"
    },
    {
     "data": {
      "application/vnd.plotly.v1+json": {
       "config": {
        "linkText": "Export to plot.ly",
        "plotlyServerURL": "https://plot.ly",
        "showLink": false
       },
       "data": [
        {
         "marker": {
          "color": [
           "rgb(213,62,79)",
           "rgb(252,141,89)",
           "rgb(254,224,139)",
           "rgb(230,245,152)",
           "rgb(153,213,148)",
           "rgb(50,136,189)"
          ]
         },
         "type": "bar",
         "uid": "07cef9f8-3c5d-402d-a36e-3bcf4546d72f",
         "x": [
          0,
          1
         ],
         "y": [
          57,
          43
         ]
        }
       ],
       "layout": {
        "bargap": 0.2,
        "xaxis": {
         "ticktext": [
          "No",
          "Sí"
         ],
         "tickvals": [
          0,
          1
         ]
        }
       }
      },
      "text/html": [
       "<div id=\"e52a60a0-855a-47a4-a4d8-1645a7f05740\" style=\"height: 525px; width: 100%;\" class=\"plotly-graph-div\"></div><script type=\"text/javascript\">require([\"plotly\"], function(Plotly) { window.PLOTLYENV=window.PLOTLYENV || {};window.PLOTLYENV.BASE_URL=\"https://plot.ly\";\n",
       "if (document.getElementById(\"e52a60a0-855a-47a4-a4d8-1645a7f05740\")) {\n",
       "    Plotly.newPlot(\"e52a60a0-855a-47a4-a4d8-1645a7f05740\", [{\"marker\": {\"color\": [\"rgb(213,62,79)\", \"rgb(252,141,89)\", \"rgb(254,224,139)\", \"rgb(230,245,152)\", \"rgb(153,213,148)\", \"rgb(50,136,189)\"]}, \"x\": [0, 1], \"y\": [57, 43], \"type\": \"bar\", \"uid\": \"07cef9f8-3c5d-402d-a36e-3bcf4546d72f\"}], {\"bargap\": 0.2, \"xaxis\": {\"ticktext\": [\"No\", \"S\\u00ed\"], \"tickvals\": [0, 1]}}, {\"showLink\": false, \"linkText\": \"Export to plot.ly\", \"plotlyServerURL\": \"https://plot.ly\"}); \n",
       "}\n",
       "});</script><script type=\"text/javascript\">window.addEventListener(\"resize\", function(){if (document.getElementById(\"e52a60a0-855a-47a4-a4d8-1645a7f05740\")) {window._Plotly.Plots.resize(document.getElementById(\"e52a60a0-855a-47a4-a4d8-1645a7f05740\"));};})</script>"
      ],
      "text/vnd.plotly.v1+html": [
       "<div id=\"e52a60a0-855a-47a4-a4d8-1645a7f05740\" style=\"height: 525px; width: 100%;\" class=\"plotly-graph-div\"></div><script type=\"text/javascript\">require([\"plotly\"], function(Plotly) { window.PLOTLYENV=window.PLOTLYENV || {};window.PLOTLYENV.BASE_URL=\"https://plot.ly\";\n",
       "if (document.getElementById(\"e52a60a0-855a-47a4-a4d8-1645a7f05740\")) {\n",
       "    Plotly.newPlot(\"e52a60a0-855a-47a4-a4d8-1645a7f05740\", [{\"marker\": {\"color\": [\"rgb(213,62,79)\", \"rgb(252,141,89)\", \"rgb(254,224,139)\", \"rgb(230,245,152)\", \"rgb(153,213,148)\", \"rgb(50,136,189)\"]}, \"x\": [0, 1], \"y\": [57, 43], \"type\": \"bar\", \"uid\": \"07cef9f8-3c5d-402d-a36e-3bcf4546d72f\"}], {\"bargap\": 0.2, \"xaxis\": {\"ticktext\": [\"No\", \"S\\u00ed\"], \"tickvals\": [0, 1]}}, {\"showLink\": false, \"linkText\": \"Export to plot.ly\", \"plotlyServerURL\": \"https://plot.ly\"}); \n",
       "}\n",
       "});</script><script type=\"text/javascript\">window.addEventListener(\"resize\", function(){if (document.getElementById(\"e52a60a0-855a-47a4-a4d8-1645a7f05740\")) {window._Plotly.Plots.resize(document.getElementById(\"e52a60a0-855a-47a4-a4d8-1645a7f05740\"));};})</script>"
      ]
     },
     "metadata": {},
     "output_type": "display_data"
    },
    {
     "name": "stdout",
     "output_type": "stream",
     "text": [
      "\n",
      "\n",
      "Cluster 3 || variable: ¿Qué tipo de aplicaciones utilizas en tu ordenador/tableta/móvil? (Respuesta múltiple) [2. Aplicaciones de mensajería (Whatsapp, Facebook Messenger, etc.)]\n",
      "Describiendo la pregunta ¿Qué tipo de aplicaciones utilizas en tu ordenador/tableta/móvil? (Respuesta múltiple) [2. Aplicaciones de mensajería (Whatsapp, Facebook Messenger, etc.)]\n",
      "Valores numéricos asociados a las respuestas [0, 1]\n",
      "Respuestas posibles a la pregunta/variable ['No', 'Sí']\n"
     ]
    },
    {
     "data": {
      "text/plain": [
       "count    100.000000\n",
       "mean       0.740000\n",
       "std        0.440844\n",
       "min        0.000000\n",
       "25%        0.000000\n",
       "50%        1.000000\n",
       "75%        1.000000\n",
       "max        1.000000\n",
       "Name: ¿Qué tipo de aplicaciones utilizas en tu ordenador/tableta/móvil? (Respuesta múltiple) [2. Aplicaciones de mensajería (Whatsapp, Facebook Messenger, etc.)], dtype: float64"
      ]
     },
     "metadata": {},
     "output_type": "display_data"
    },
    {
     "name": "stdout",
     "output_type": "stream",
     "text": [
      "Conteo de cada valor en ¿Qué tipo de aplicaciones utilizas en tu ordenador/tableta/móvil? (Respuesta múltiple) [2. Aplicaciones de mensajería (Whatsapp, Facebook Messenger, etc.)] expresada como valor / cantidad\n"
     ]
    },
    {
     "data": {
      "text/plain": [
       "0    26\n",
       "1    74\n",
       "Name: ¿Qué tipo de aplicaciones utilizas en tu ordenador/tableta/móvil? (Respuesta múltiple) [2. Aplicaciones de mensajería (Whatsapp, Facebook Messenger, etc.)], dtype: int64"
      ]
     },
     "metadata": {},
     "output_type": "display_data"
    },
    {
     "name": "stdout",
     "output_type": "stream",
     "text": [
      "Porcentaje de cada valor en ¿Qué tipo de aplicaciones utilizas en tu ordenador/tableta/móvil? (Respuesta múltiple) [2. Aplicaciones de mensajería (Whatsapp, Facebook Messenger, etc.)] expresado como valor / porcentaje\n"
     ]
    },
    {
     "data": {
      "text/plain": [
       "0    26.0\n",
       "1    74.0\n",
       "Name: ¿Qué tipo de aplicaciones utilizas en tu ordenador/tableta/móvil? (Respuesta múltiple) [2. Aplicaciones de mensajería (Whatsapp, Facebook Messenger, etc.)], dtype: float64"
      ]
     },
     "metadata": {},
     "output_type": "display_data"
    },
    {
     "data": {
      "application/vnd.plotly.v1+json": {
       "config": {
        "linkText": "Export to plot.ly",
        "plotlyServerURL": "https://plot.ly",
        "showLink": false
       },
       "data": [
        {
         "marker": {
          "color": [
           "rgb(213,62,79)",
           "rgb(252,141,89)",
           "rgb(254,224,139)",
           "rgb(230,245,152)",
           "rgb(153,213,148)",
           "rgb(50,136,189)"
          ]
         },
         "type": "bar",
         "uid": "05dd3ccf-d562-49b0-8f7d-d495183536e5",
         "x": [
          0,
          1
         ],
         "y": [
          26,
          74
         ]
        }
       ],
       "layout": {
        "bargap": 0.2,
        "xaxis": {
         "ticktext": [
          "No",
          "Sí"
         ],
         "tickvals": [
          0,
          1
         ]
        }
       }
      },
      "text/html": [
       "<div id=\"793a8b27-ada8-484f-94c3-651af656ff09\" style=\"height: 525px; width: 100%;\" class=\"plotly-graph-div\"></div><script type=\"text/javascript\">require([\"plotly\"], function(Plotly) { window.PLOTLYENV=window.PLOTLYENV || {};window.PLOTLYENV.BASE_URL=\"https://plot.ly\";\n",
       "if (document.getElementById(\"793a8b27-ada8-484f-94c3-651af656ff09\")) {\n",
       "    Plotly.newPlot(\"793a8b27-ada8-484f-94c3-651af656ff09\", [{\"marker\": {\"color\": [\"rgb(213,62,79)\", \"rgb(252,141,89)\", \"rgb(254,224,139)\", \"rgb(230,245,152)\", \"rgb(153,213,148)\", \"rgb(50,136,189)\"]}, \"x\": [0, 1], \"y\": [26, 74], \"type\": \"bar\", \"uid\": \"05dd3ccf-d562-49b0-8f7d-d495183536e5\"}], {\"bargap\": 0.2, \"xaxis\": {\"ticktext\": [\"No\", \"S\\u00ed\"], \"tickvals\": [0, 1]}}, {\"showLink\": false, \"linkText\": \"Export to plot.ly\", \"plotlyServerURL\": \"https://plot.ly\"}); \n",
       "}\n",
       "});</script><script type=\"text/javascript\">window.addEventListener(\"resize\", function(){if (document.getElementById(\"793a8b27-ada8-484f-94c3-651af656ff09\")) {window._Plotly.Plots.resize(document.getElementById(\"793a8b27-ada8-484f-94c3-651af656ff09\"));};})</script>"
      ],
      "text/vnd.plotly.v1+html": [
       "<div id=\"793a8b27-ada8-484f-94c3-651af656ff09\" style=\"height: 525px; width: 100%;\" class=\"plotly-graph-div\"></div><script type=\"text/javascript\">require([\"plotly\"], function(Plotly) { window.PLOTLYENV=window.PLOTLYENV || {};window.PLOTLYENV.BASE_URL=\"https://plot.ly\";\n",
       "if (document.getElementById(\"793a8b27-ada8-484f-94c3-651af656ff09\")) {\n",
       "    Plotly.newPlot(\"793a8b27-ada8-484f-94c3-651af656ff09\", [{\"marker\": {\"color\": [\"rgb(213,62,79)\", \"rgb(252,141,89)\", \"rgb(254,224,139)\", \"rgb(230,245,152)\", \"rgb(153,213,148)\", \"rgb(50,136,189)\"]}, \"x\": [0, 1], \"y\": [26, 74], \"type\": \"bar\", \"uid\": \"05dd3ccf-d562-49b0-8f7d-d495183536e5\"}], {\"bargap\": 0.2, \"xaxis\": {\"ticktext\": [\"No\", \"S\\u00ed\"], \"tickvals\": [0, 1]}}, {\"showLink\": false, \"linkText\": \"Export to plot.ly\", \"plotlyServerURL\": \"https://plot.ly\"}); \n",
       "}\n",
       "});</script><script type=\"text/javascript\">window.addEventListener(\"resize\", function(){if (document.getElementById(\"793a8b27-ada8-484f-94c3-651af656ff09\")) {window._Plotly.Plots.resize(document.getElementById(\"793a8b27-ada8-484f-94c3-651af656ff09\"));};})</script>"
      ]
     },
     "metadata": {},
     "output_type": "display_data"
    },
    {
     "name": "stdout",
     "output_type": "stream",
     "text": [
      "\n",
      "\n",
      "Cluster 3 || variable: ¿Qué tipo de aplicaciones utilizas en tu ordenador/tableta/móvil? (Respuesta múltiple) [3. Bibliotecas de fotos online (Google Photos, iPhoto, etc.)]\n",
      "Describiendo la pregunta ¿Qué tipo de aplicaciones utilizas en tu ordenador/tableta/móvil? (Respuesta múltiple) [3. Bibliotecas de fotos online (Google Photos, iPhoto, etc.)]\n",
      "Valores numéricos asociados a las respuestas [0, 1]\n",
      "Respuestas posibles a la pregunta/variable ['No', 'Sí']\n"
     ]
    },
    {
     "data": {
      "text/plain": [
       "count    100.000000\n",
       "mean       0.690000\n",
       "std        0.464823\n",
       "min        0.000000\n",
       "25%        0.000000\n",
       "50%        1.000000\n",
       "75%        1.000000\n",
       "max        1.000000\n",
       "Name: ¿Qué tipo de aplicaciones utilizas en tu ordenador/tableta/móvil? (Respuesta múltiple) [3. Bibliotecas de fotos online (Google Photos, iPhoto, etc.)], dtype: float64"
      ]
     },
     "metadata": {},
     "output_type": "display_data"
    },
    {
     "name": "stdout",
     "output_type": "stream",
     "text": [
      "Conteo de cada valor en ¿Qué tipo de aplicaciones utilizas en tu ordenador/tableta/móvil? (Respuesta múltiple) [3. Bibliotecas de fotos online (Google Photos, iPhoto, etc.)] expresada como valor / cantidad\n"
     ]
    },
    {
     "data": {
      "text/plain": [
       "0    31\n",
       "1    69\n",
       "Name: ¿Qué tipo de aplicaciones utilizas en tu ordenador/tableta/móvil? (Respuesta múltiple) [3. Bibliotecas de fotos online (Google Photos, iPhoto, etc.)], dtype: int64"
      ]
     },
     "metadata": {},
     "output_type": "display_data"
    },
    {
     "name": "stdout",
     "output_type": "stream",
     "text": [
      "Porcentaje de cada valor en ¿Qué tipo de aplicaciones utilizas en tu ordenador/tableta/móvil? (Respuesta múltiple) [3. Bibliotecas de fotos online (Google Photos, iPhoto, etc.)] expresado como valor / porcentaje\n"
     ]
    },
    {
     "data": {
      "text/plain": [
       "0    31.0\n",
       "1    69.0\n",
       "Name: ¿Qué tipo de aplicaciones utilizas en tu ordenador/tableta/móvil? (Respuesta múltiple) [3. Bibliotecas de fotos online (Google Photos, iPhoto, etc.)], dtype: float64"
      ]
     },
     "metadata": {},
     "output_type": "display_data"
    },
    {
     "data": {
      "application/vnd.plotly.v1+json": {
       "config": {
        "linkText": "Export to plot.ly",
        "plotlyServerURL": "https://plot.ly",
        "showLink": false
       },
       "data": [
        {
         "marker": {
          "color": [
           "rgb(213,62,79)",
           "rgb(252,141,89)",
           "rgb(254,224,139)",
           "rgb(230,245,152)",
           "rgb(153,213,148)",
           "rgb(50,136,189)"
          ]
         },
         "type": "bar",
         "uid": "560e1456-f56d-4bcd-b94c-94e78c8ca791",
         "x": [
          0,
          1
         ],
         "y": [
          31,
          69
         ]
        }
       ],
       "layout": {
        "bargap": 0.2,
        "xaxis": {
         "ticktext": [
          "No",
          "Sí"
         ],
         "tickvals": [
          0,
          1
         ]
        }
       }
      },
      "text/html": [
       "<div id=\"496ed1f1-2c7a-4d07-8f19-65b94ce846c1\" style=\"height: 525px; width: 100%;\" class=\"plotly-graph-div\"></div><script type=\"text/javascript\">require([\"plotly\"], function(Plotly) { window.PLOTLYENV=window.PLOTLYENV || {};window.PLOTLYENV.BASE_URL=\"https://plot.ly\";\n",
       "if (document.getElementById(\"496ed1f1-2c7a-4d07-8f19-65b94ce846c1\")) {\n",
       "    Plotly.newPlot(\"496ed1f1-2c7a-4d07-8f19-65b94ce846c1\", [{\"marker\": {\"color\": [\"rgb(213,62,79)\", \"rgb(252,141,89)\", \"rgb(254,224,139)\", \"rgb(230,245,152)\", \"rgb(153,213,148)\", \"rgb(50,136,189)\"]}, \"x\": [0, 1], \"y\": [31, 69], \"type\": \"bar\", \"uid\": \"560e1456-f56d-4bcd-b94c-94e78c8ca791\"}], {\"bargap\": 0.2, \"xaxis\": {\"ticktext\": [\"No\", \"S\\u00ed\"], \"tickvals\": [0, 1]}}, {\"showLink\": false, \"linkText\": \"Export to plot.ly\", \"plotlyServerURL\": \"https://plot.ly\"}); \n",
       "}\n",
       "});</script><script type=\"text/javascript\">window.addEventListener(\"resize\", function(){if (document.getElementById(\"496ed1f1-2c7a-4d07-8f19-65b94ce846c1\")) {window._Plotly.Plots.resize(document.getElementById(\"496ed1f1-2c7a-4d07-8f19-65b94ce846c1\"));};})</script>"
      ],
      "text/vnd.plotly.v1+html": [
       "<div id=\"496ed1f1-2c7a-4d07-8f19-65b94ce846c1\" style=\"height: 525px; width: 100%;\" class=\"plotly-graph-div\"></div><script type=\"text/javascript\">require([\"plotly\"], function(Plotly) { window.PLOTLYENV=window.PLOTLYENV || {};window.PLOTLYENV.BASE_URL=\"https://plot.ly\";\n",
       "if (document.getElementById(\"496ed1f1-2c7a-4d07-8f19-65b94ce846c1\")) {\n",
       "    Plotly.newPlot(\"496ed1f1-2c7a-4d07-8f19-65b94ce846c1\", [{\"marker\": {\"color\": [\"rgb(213,62,79)\", \"rgb(252,141,89)\", \"rgb(254,224,139)\", \"rgb(230,245,152)\", \"rgb(153,213,148)\", \"rgb(50,136,189)\"]}, \"x\": [0, 1], \"y\": [31, 69], \"type\": \"bar\", \"uid\": \"560e1456-f56d-4bcd-b94c-94e78c8ca791\"}], {\"bargap\": 0.2, \"xaxis\": {\"ticktext\": [\"No\", \"S\\u00ed\"], \"tickvals\": [0, 1]}}, {\"showLink\": false, \"linkText\": \"Export to plot.ly\", \"plotlyServerURL\": \"https://plot.ly\"}); \n",
       "}\n",
       "});</script><script type=\"text/javascript\">window.addEventListener(\"resize\", function(){if (document.getElementById(\"496ed1f1-2c7a-4d07-8f19-65b94ce846c1\")) {window._Plotly.Plots.resize(document.getElementById(\"496ed1f1-2c7a-4d07-8f19-65b94ce846c1\"));};})</script>"
      ]
     },
     "metadata": {},
     "output_type": "display_data"
    },
    {
     "name": "stdout",
     "output_type": "stream",
     "text": [
      "\n",
      "\n",
      "Cluster 3 || variable: ¿Qué tipo de aplicaciones utilizas en tu ordenador/tableta/móvil? (Respuesta múltiple) [4. Redes sociales (Facebook, Instagram, Twitter, etc.).]\n",
      "Describiendo la pregunta ¿Qué tipo de aplicaciones utilizas en tu ordenador/tableta/móvil? (Respuesta múltiple) [4. Redes sociales (Facebook, Instagram, Twitter, etc.).]\n",
      "Valores numéricos asociados a las respuestas [0, 1]\n",
      "Respuestas posibles a la pregunta/variable ['No', 'Sí']\n"
     ]
    },
    {
     "data": {
      "text/plain": [
       "count    100.000000\n",
       "mean       0.890000\n",
       "std        0.314466\n",
       "min        0.000000\n",
       "25%        1.000000\n",
       "50%        1.000000\n",
       "75%        1.000000\n",
       "max        1.000000\n",
       "Name: ¿Qué tipo de aplicaciones utilizas en tu ordenador/tableta/móvil? (Respuesta múltiple) [4. Redes sociales (Facebook, Instagram, Twitter, etc.).], dtype: float64"
      ]
     },
     "metadata": {},
     "output_type": "display_data"
    },
    {
     "name": "stdout",
     "output_type": "stream",
     "text": [
      "Conteo de cada valor en ¿Qué tipo de aplicaciones utilizas en tu ordenador/tableta/móvil? (Respuesta múltiple) [4. Redes sociales (Facebook, Instagram, Twitter, etc.).] expresada como valor / cantidad\n"
     ]
    },
    {
     "data": {
      "text/plain": [
       "0    11\n",
       "1    89\n",
       "Name: ¿Qué tipo de aplicaciones utilizas en tu ordenador/tableta/móvil? (Respuesta múltiple) [4. Redes sociales (Facebook, Instagram, Twitter, etc.).], dtype: int64"
      ]
     },
     "metadata": {},
     "output_type": "display_data"
    },
    {
     "name": "stdout",
     "output_type": "stream",
     "text": [
      "Porcentaje de cada valor en ¿Qué tipo de aplicaciones utilizas en tu ordenador/tableta/móvil? (Respuesta múltiple) [4. Redes sociales (Facebook, Instagram, Twitter, etc.).] expresado como valor / porcentaje\n"
     ]
    },
    {
     "data": {
      "text/plain": [
       "0    11.0\n",
       "1    89.0\n",
       "Name: ¿Qué tipo de aplicaciones utilizas en tu ordenador/tableta/móvil? (Respuesta múltiple) [4. Redes sociales (Facebook, Instagram, Twitter, etc.).], dtype: float64"
      ]
     },
     "metadata": {},
     "output_type": "display_data"
    },
    {
     "data": {
      "application/vnd.plotly.v1+json": {
       "config": {
        "linkText": "Export to plot.ly",
        "plotlyServerURL": "https://plot.ly",
        "showLink": false
       },
       "data": [
        {
         "marker": {
          "color": [
           "rgb(213,62,79)",
           "rgb(252,141,89)",
           "rgb(254,224,139)",
           "rgb(230,245,152)",
           "rgb(153,213,148)",
           "rgb(50,136,189)"
          ]
         },
         "type": "bar",
         "uid": "4b63d8a4-ca5d-4722-a345-c7518385af29",
         "x": [
          0,
          1
         ],
         "y": [
          11,
          89
         ]
        }
       ],
       "layout": {
        "bargap": 0.2,
        "xaxis": {
         "ticktext": [
          "No",
          "Sí"
         ],
         "tickvals": [
          0,
          1
         ]
        }
       }
      },
      "text/html": [
       "<div id=\"a59c3606-a80c-47ea-9f60-e25f0aade039\" style=\"height: 525px; width: 100%;\" class=\"plotly-graph-div\"></div><script type=\"text/javascript\">require([\"plotly\"], function(Plotly) { window.PLOTLYENV=window.PLOTLYENV || {};window.PLOTLYENV.BASE_URL=\"https://plot.ly\";\n",
       "if (document.getElementById(\"a59c3606-a80c-47ea-9f60-e25f0aade039\")) {\n",
       "    Plotly.newPlot(\"a59c3606-a80c-47ea-9f60-e25f0aade039\", [{\"marker\": {\"color\": [\"rgb(213,62,79)\", \"rgb(252,141,89)\", \"rgb(254,224,139)\", \"rgb(230,245,152)\", \"rgb(153,213,148)\", \"rgb(50,136,189)\"]}, \"x\": [0, 1], \"y\": [11, 89], \"type\": \"bar\", \"uid\": \"4b63d8a4-ca5d-4722-a345-c7518385af29\"}], {\"bargap\": 0.2, \"xaxis\": {\"ticktext\": [\"No\", \"S\\u00ed\"], \"tickvals\": [0, 1]}}, {\"showLink\": false, \"linkText\": \"Export to plot.ly\", \"plotlyServerURL\": \"https://plot.ly\"}); \n",
       "}\n",
       "});</script><script type=\"text/javascript\">window.addEventListener(\"resize\", function(){if (document.getElementById(\"a59c3606-a80c-47ea-9f60-e25f0aade039\")) {window._Plotly.Plots.resize(document.getElementById(\"a59c3606-a80c-47ea-9f60-e25f0aade039\"));};})</script>"
      ],
      "text/vnd.plotly.v1+html": [
       "<div id=\"a59c3606-a80c-47ea-9f60-e25f0aade039\" style=\"height: 525px; width: 100%;\" class=\"plotly-graph-div\"></div><script type=\"text/javascript\">require([\"plotly\"], function(Plotly) { window.PLOTLYENV=window.PLOTLYENV || {};window.PLOTLYENV.BASE_URL=\"https://plot.ly\";\n",
       "if (document.getElementById(\"a59c3606-a80c-47ea-9f60-e25f0aade039\")) {\n",
       "    Plotly.newPlot(\"a59c3606-a80c-47ea-9f60-e25f0aade039\", [{\"marker\": {\"color\": [\"rgb(213,62,79)\", \"rgb(252,141,89)\", \"rgb(254,224,139)\", \"rgb(230,245,152)\", \"rgb(153,213,148)\", \"rgb(50,136,189)\"]}, \"x\": [0, 1], \"y\": [11, 89], \"type\": \"bar\", \"uid\": \"4b63d8a4-ca5d-4722-a345-c7518385af29\"}], {\"bargap\": 0.2, \"xaxis\": {\"ticktext\": [\"No\", \"S\\u00ed\"], \"tickvals\": [0, 1]}}, {\"showLink\": false, \"linkText\": \"Export to plot.ly\", \"plotlyServerURL\": \"https://plot.ly\"}); \n",
       "}\n",
       "});</script><script type=\"text/javascript\">window.addEventListener(\"resize\", function(){if (document.getElementById(\"a59c3606-a80c-47ea-9f60-e25f0aade039\")) {window._Plotly.Plots.resize(document.getElementById(\"a59c3606-a80c-47ea-9f60-e25f0aade039\"));};})</script>"
      ]
     },
     "metadata": {},
     "output_type": "display_data"
    },
    {
     "name": "stdout",
     "output_type": "stream",
     "text": [
      "\n",
      "\n",
      "Cluster 3 || variable: ¿Qué tipo de aplicaciones utilizas en tu ordenador/tableta/móvil? (Respuesta múltiple) [5. Aplicaciones de vídeo (Youtube, Vimeo, etc.).]\n",
      "Describiendo la pregunta ¿Qué tipo de aplicaciones utilizas en tu ordenador/tableta/móvil? (Respuesta múltiple) [5. Aplicaciones de vídeo (Youtube, Vimeo, etc.).]\n",
      "Valores numéricos asociados a las respuestas [0, 1]\n",
      "Respuestas posibles a la pregunta/variable ['No', 'Sí']\n"
     ]
    },
    {
     "data": {
      "text/plain": [
       "count    100.000000\n",
       "mean       0.540000\n",
       "std        0.500908\n",
       "min        0.000000\n",
       "25%        0.000000\n",
       "50%        1.000000\n",
       "75%        1.000000\n",
       "max        1.000000\n",
       "Name: ¿Qué tipo de aplicaciones utilizas en tu ordenador/tableta/móvil? (Respuesta múltiple) [5. Aplicaciones de vídeo (Youtube, Vimeo, etc.).], dtype: float64"
      ]
     },
     "metadata": {},
     "output_type": "display_data"
    },
    {
     "name": "stdout",
     "output_type": "stream",
     "text": [
      "Conteo de cada valor en ¿Qué tipo de aplicaciones utilizas en tu ordenador/tableta/móvil? (Respuesta múltiple) [5. Aplicaciones de vídeo (Youtube, Vimeo, etc.).] expresada como valor / cantidad\n"
     ]
    },
    {
     "data": {
      "text/plain": [
       "0    46\n",
       "1    54\n",
       "Name: ¿Qué tipo de aplicaciones utilizas en tu ordenador/tableta/móvil? (Respuesta múltiple) [5. Aplicaciones de vídeo (Youtube, Vimeo, etc.).], dtype: int64"
      ]
     },
     "metadata": {},
     "output_type": "display_data"
    },
    {
     "name": "stdout",
     "output_type": "stream",
     "text": [
      "Porcentaje de cada valor en ¿Qué tipo de aplicaciones utilizas en tu ordenador/tableta/móvil? (Respuesta múltiple) [5. Aplicaciones de vídeo (Youtube, Vimeo, etc.).] expresado como valor / porcentaje\n"
     ]
    },
    {
     "data": {
      "text/plain": [
       "0    46.0\n",
       "1    54.0\n",
       "Name: ¿Qué tipo de aplicaciones utilizas en tu ordenador/tableta/móvil? (Respuesta múltiple) [5. Aplicaciones de vídeo (Youtube, Vimeo, etc.).], dtype: float64"
      ]
     },
     "metadata": {},
     "output_type": "display_data"
    },
    {
     "data": {
      "application/vnd.plotly.v1+json": {
       "config": {
        "linkText": "Export to plot.ly",
        "plotlyServerURL": "https://plot.ly",
        "showLink": false
       },
       "data": [
        {
         "marker": {
          "color": [
           "rgb(213,62,79)",
           "rgb(252,141,89)",
           "rgb(254,224,139)",
           "rgb(230,245,152)",
           "rgb(153,213,148)",
           "rgb(50,136,189)"
          ]
         },
         "type": "bar",
         "uid": "3dfa7a04-fe7d-47a5-b9ea-03ca409d84bd",
         "x": [
          0,
          1
         ],
         "y": [
          46,
          54
         ]
        }
       ],
       "layout": {
        "bargap": 0.2,
        "xaxis": {
         "ticktext": [
          "No",
          "Sí"
         ],
         "tickvals": [
          0,
          1
         ]
        }
       }
      },
      "text/html": [
       "<div id=\"d9731705-02d4-4865-8c19-82a4c1ade3aa\" style=\"height: 525px; width: 100%;\" class=\"plotly-graph-div\"></div><script type=\"text/javascript\">require([\"plotly\"], function(Plotly) { window.PLOTLYENV=window.PLOTLYENV || {};window.PLOTLYENV.BASE_URL=\"https://plot.ly\";\n",
       "if (document.getElementById(\"d9731705-02d4-4865-8c19-82a4c1ade3aa\")) {\n",
       "    Plotly.newPlot(\"d9731705-02d4-4865-8c19-82a4c1ade3aa\", [{\"marker\": {\"color\": [\"rgb(213,62,79)\", \"rgb(252,141,89)\", \"rgb(254,224,139)\", \"rgb(230,245,152)\", \"rgb(153,213,148)\", \"rgb(50,136,189)\"]}, \"x\": [0, 1], \"y\": [46, 54], \"type\": \"bar\", \"uid\": \"3dfa7a04-fe7d-47a5-b9ea-03ca409d84bd\"}], {\"bargap\": 0.2, \"xaxis\": {\"ticktext\": [\"No\", \"S\\u00ed\"], \"tickvals\": [0, 1]}}, {\"showLink\": false, \"linkText\": \"Export to plot.ly\", \"plotlyServerURL\": \"https://plot.ly\"}); \n",
       "}\n",
       "});</script><script type=\"text/javascript\">window.addEventListener(\"resize\", function(){if (document.getElementById(\"d9731705-02d4-4865-8c19-82a4c1ade3aa\")) {window._Plotly.Plots.resize(document.getElementById(\"d9731705-02d4-4865-8c19-82a4c1ade3aa\"));};})</script>"
      ],
      "text/vnd.plotly.v1+html": [
       "<div id=\"d9731705-02d4-4865-8c19-82a4c1ade3aa\" style=\"height: 525px; width: 100%;\" class=\"plotly-graph-div\"></div><script type=\"text/javascript\">require([\"plotly\"], function(Plotly) { window.PLOTLYENV=window.PLOTLYENV || {};window.PLOTLYENV.BASE_URL=\"https://plot.ly\";\n",
       "if (document.getElementById(\"d9731705-02d4-4865-8c19-82a4c1ade3aa\")) {\n",
       "    Plotly.newPlot(\"d9731705-02d4-4865-8c19-82a4c1ade3aa\", [{\"marker\": {\"color\": [\"rgb(213,62,79)\", \"rgb(252,141,89)\", \"rgb(254,224,139)\", \"rgb(230,245,152)\", \"rgb(153,213,148)\", \"rgb(50,136,189)\"]}, \"x\": [0, 1], \"y\": [46, 54], \"type\": \"bar\", \"uid\": \"3dfa7a04-fe7d-47a5-b9ea-03ca409d84bd\"}], {\"bargap\": 0.2, \"xaxis\": {\"ticktext\": [\"No\", \"S\\u00ed\"], \"tickvals\": [0, 1]}}, {\"showLink\": false, \"linkText\": \"Export to plot.ly\", \"plotlyServerURL\": \"https://plot.ly\"}); \n",
       "}\n",
       "});</script><script type=\"text/javascript\">window.addEventListener(\"resize\", function(){if (document.getElementById(\"d9731705-02d4-4865-8c19-82a4c1ade3aa\")) {window._Plotly.Plots.resize(document.getElementById(\"d9731705-02d4-4865-8c19-82a4c1ade3aa\"));};})</script>"
      ]
     },
     "metadata": {},
     "output_type": "display_data"
    },
    {
     "name": "stdout",
     "output_type": "stream",
     "text": [
      "\n",
      "\n",
      "Cluster 3 || variable: ¿Qué tipo de aplicaciones utilizas en tu ordenador/tableta/móvil? (Respuesta múltiple) [Otro]\n",
      "Describiendo la pregunta ¿Qué tipo de aplicaciones utilizas en tu ordenador/tableta/móvil? (Respuesta múltiple) [Otro]\n",
      "\n",
      "\n",
      "Cluster 3 || variable: Durante ese uso, ¿cuántas imágenes consumes (ves y compartes)?\n",
      "Describiendo la pregunta Durante ese uso, ¿cuántas imágenes consumes (ves y compartes)?\n",
      "Valores numéricos asociados a las respuestas [1, 2, 3, 4, 5]\n",
      "Respuestas posibles a la pregunta/variable ['1. Ninguna', '2. Pocas', '3. Ni muchas ni pocas', '4. Bastantes', '5. Recibo y envio imágenes de forma constante']\n"
     ]
    },
    {
     "data": {
      "text/plain": [
       "count    100.000000\n",
       "mean       4.120000\n",
       "std        0.742369\n",
       "min        1.000000\n",
       "25%        4.000000\n",
       "50%        4.000000\n",
       "75%        5.000000\n",
       "max        5.000000\n",
       "Name: Durante ese uso, ¿cuántas imágenes consumes (ves y compartes)?, dtype: float64"
      ]
     },
     "metadata": {},
     "output_type": "display_data"
    },
    {
     "name": "stdout",
     "output_type": "stream",
     "text": [
      "Conteo de cada valor en Durante ese uso, ¿cuántas imágenes consumes (ves y compartes)? expresada como valor / cantidad\n"
     ]
    },
    {
     "data": {
      "text/plain": [
       "1     1\n",
       "2     3\n",
       "3     7\n",
       "4    61\n",
       "5    28\n",
       "Name: Durante ese uso, ¿cuántas imágenes consumes (ves y compartes)?, dtype: int64"
      ]
     },
     "metadata": {},
     "output_type": "display_data"
    },
    {
     "name": "stdout",
     "output_type": "stream",
     "text": [
      "Porcentaje de cada valor en Durante ese uso, ¿cuántas imágenes consumes (ves y compartes)? expresado como valor / porcentaje\n"
     ]
    },
    {
     "data": {
      "text/plain": [
       "1     1.0\n",
       "2     3.0\n",
       "3     7.0\n",
       "4    61.0\n",
       "5    28.0\n",
       "Name: Durante ese uso, ¿cuántas imágenes consumes (ves y compartes)?, dtype: float64"
      ]
     },
     "metadata": {},
     "output_type": "display_data"
    },
    {
     "data": {
      "application/vnd.plotly.v1+json": {
       "config": {
        "linkText": "Export to plot.ly",
        "plotlyServerURL": "https://plot.ly",
        "showLink": false
       },
       "data": [
        {
         "marker": {
          "color": [
           "rgb(213,62,79)",
           "rgb(252,141,89)",
           "rgb(254,224,139)",
           "rgb(230,245,152)",
           "rgb(153,213,148)",
           "rgb(50,136,189)"
          ]
         },
         "type": "bar",
         "uid": "c82665c5-5d6d-4c69-b8b1-daf14145a9c5",
         "x": [
          1,
          2,
          3,
          4,
          5
         ],
         "y": [
          1,
          3,
          7,
          61,
          28
         ]
        }
       ],
       "layout": {
        "bargap": 0.2,
        "xaxis": {
         "ticktext": [
          "1. Ninguna",
          "2. Pocas",
          "3. Ni muchas ni pocas",
          "4. Bastantes",
          "5. Recibo y envio imágenes de forma constante"
         ],
         "tickvals": [
          1,
          2,
          3,
          4,
          5
         ]
        }
       }
      },
      "text/html": [
       "<div id=\"873c4d8a-b61b-480d-ba98-4fc7cf016903\" style=\"height: 525px; width: 100%;\" class=\"plotly-graph-div\"></div><script type=\"text/javascript\">require([\"plotly\"], function(Plotly) { window.PLOTLYENV=window.PLOTLYENV || {};window.PLOTLYENV.BASE_URL=\"https://plot.ly\";\n",
       "if (document.getElementById(\"873c4d8a-b61b-480d-ba98-4fc7cf016903\")) {\n",
       "    Plotly.newPlot(\"873c4d8a-b61b-480d-ba98-4fc7cf016903\", [{\"marker\": {\"color\": [\"rgb(213,62,79)\", \"rgb(252,141,89)\", \"rgb(254,224,139)\", \"rgb(230,245,152)\", \"rgb(153,213,148)\", \"rgb(50,136,189)\"]}, \"x\": [1, 2, 3, 4, 5], \"y\": [1, 3, 7, 61, 28], \"type\": \"bar\", \"uid\": \"c82665c5-5d6d-4c69-b8b1-daf14145a9c5\"}], {\"bargap\": 0.2, \"xaxis\": {\"ticktext\": [\"1. Ninguna\", \"2. Pocas\", \"3. Ni muchas ni pocas\", \"4. Bastantes\", \"5. Recibo y envio im\\u00e1genes de forma constante\"], \"tickvals\": [1, 2, 3, 4, 5]}}, {\"showLink\": false, \"linkText\": \"Export to plot.ly\", \"plotlyServerURL\": \"https://plot.ly\"}); \n",
       "}\n",
       "});</script><script type=\"text/javascript\">window.addEventListener(\"resize\", function(){if (document.getElementById(\"873c4d8a-b61b-480d-ba98-4fc7cf016903\")) {window._Plotly.Plots.resize(document.getElementById(\"873c4d8a-b61b-480d-ba98-4fc7cf016903\"));};})</script>"
      ],
      "text/vnd.plotly.v1+html": [
       "<div id=\"873c4d8a-b61b-480d-ba98-4fc7cf016903\" style=\"height: 525px; width: 100%;\" class=\"plotly-graph-div\"></div><script type=\"text/javascript\">require([\"plotly\"], function(Plotly) { window.PLOTLYENV=window.PLOTLYENV || {};window.PLOTLYENV.BASE_URL=\"https://plot.ly\";\n",
       "if (document.getElementById(\"873c4d8a-b61b-480d-ba98-4fc7cf016903\")) {\n",
       "    Plotly.newPlot(\"873c4d8a-b61b-480d-ba98-4fc7cf016903\", [{\"marker\": {\"color\": [\"rgb(213,62,79)\", \"rgb(252,141,89)\", \"rgb(254,224,139)\", \"rgb(230,245,152)\", \"rgb(153,213,148)\", \"rgb(50,136,189)\"]}, \"x\": [1, 2, 3, 4, 5], \"y\": [1, 3, 7, 61, 28], \"type\": \"bar\", \"uid\": \"c82665c5-5d6d-4c69-b8b1-daf14145a9c5\"}], {\"bargap\": 0.2, \"xaxis\": {\"ticktext\": [\"1. Ninguna\", \"2. Pocas\", \"3. Ni muchas ni pocas\", \"4. Bastantes\", \"5. Recibo y envio im\\u00e1genes de forma constante\"], \"tickvals\": [1, 2, 3, 4, 5]}}, {\"showLink\": false, \"linkText\": \"Export to plot.ly\", \"plotlyServerURL\": \"https://plot.ly\"}); \n",
       "}\n",
       "});</script><script type=\"text/javascript\">window.addEventListener(\"resize\", function(){if (document.getElementById(\"873c4d8a-b61b-480d-ba98-4fc7cf016903\")) {window._Plotly.Plots.resize(document.getElementById(\"873c4d8a-b61b-480d-ba98-4fc7cf016903\"));};})</script>"
      ]
     },
     "metadata": {},
     "output_type": "display_data"
    },
    {
     "name": "stdout",
     "output_type": "stream",
     "text": [
      "\n",
      "\n",
      "Cluster 3 || variable: ¿Cuál es tu herramienta habitual de consumo de imágenes?\n",
      "Describiendo la pregunta ¿Cuál es tu herramienta habitual de consumo de imágenes?\n",
      "Valores numéricos asociados a las respuestas [1, 2, 3, 4, 5]\n",
      "Respuestas posibles a la pregunta/variable ['1. Móvil', '2. Televisión', '3. Ordenador', '4. Tableta', '5. Otros (Libros y periódicos en papel, marquesinas, museos...)']\n"
     ]
    },
    {
     "data": {
      "text/plain": [
       "count    100.000000\n",
       "mean       2.220000\n",
       "std        1.020794\n",
       "min        1.000000\n",
       "25%        1.000000\n",
       "50%        3.000000\n",
       "75%        3.000000\n",
       "max        4.000000\n",
       "Name: ¿Cuál es tu herramienta habitual de consumo de imágenes?, dtype: float64"
      ]
     },
     "metadata": {},
     "output_type": "display_data"
    },
    {
     "name": "stdout",
     "output_type": "stream",
     "text": [
      "Conteo de cada valor en ¿Cuál es tu herramienta habitual de consumo de imágenes? expresada como valor / cantidad\n"
     ]
    },
    {
     "data": {
      "text/plain": [
       "1    39\n",
       "2     4\n",
       "3    53\n",
       "4     4\n",
       "Name: ¿Cuál es tu herramienta habitual de consumo de imágenes?, dtype: int64"
      ]
     },
     "metadata": {},
     "output_type": "display_data"
    },
    {
     "name": "stdout",
     "output_type": "stream",
     "text": [
      "Porcentaje de cada valor en ¿Cuál es tu herramienta habitual de consumo de imágenes? expresado como valor / porcentaje\n"
     ]
    },
    {
     "data": {
      "text/plain": [
       "1    39.0\n",
       "2     4.0\n",
       "3    53.0\n",
       "4     4.0\n",
       "Name: ¿Cuál es tu herramienta habitual de consumo de imágenes?, dtype: float64"
      ]
     },
     "metadata": {},
     "output_type": "display_data"
    },
    {
     "data": {
      "application/vnd.plotly.v1+json": {
       "config": {
        "linkText": "Export to plot.ly",
        "plotlyServerURL": "https://plot.ly",
        "showLink": false
       },
       "data": [
        {
         "marker": {
          "color": [
           "rgb(213,62,79)",
           "rgb(252,141,89)",
           "rgb(254,224,139)",
           "rgb(230,245,152)",
           "rgb(153,213,148)",
           "rgb(50,136,189)"
          ]
         },
         "type": "bar",
         "uid": "1fa621e2-91a3-4d84-a210-1ff8a501de8c",
         "x": [
          1,
          2,
          3,
          4
         ],
         "y": [
          39,
          4,
          53,
          4
         ]
        }
       ],
       "layout": {
        "bargap": 0.2,
        "xaxis": {
         "ticktext": [
          "1. Móvil",
          "2. Televisión",
          "3. Ordenador",
          "4. Tableta",
          "5. Otros (Libros y periódicos en papel, marquesinas, museos...)"
         ],
         "tickvals": [
          1,
          2,
          3,
          4,
          5
         ]
        }
       }
      },
      "text/html": [
       "<div id=\"3884c887-a2f6-4387-9054-555878db1597\" style=\"height: 525px; width: 100%;\" class=\"plotly-graph-div\"></div><script type=\"text/javascript\">require([\"plotly\"], function(Plotly) { window.PLOTLYENV=window.PLOTLYENV || {};window.PLOTLYENV.BASE_URL=\"https://plot.ly\";\n",
       "if (document.getElementById(\"3884c887-a2f6-4387-9054-555878db1597\")) {\n",
       "    Plotly.newPlot(\"3884c887-a2f6-4387-9054-555878db1597\", [{\"marker\": {\"color\": [\"rgb(213,62,79)\", \"rgb(252,141,89)\", \"rgb(254,224,139)\", \"rgb(230,245,152)\", \"rgb(153,213,148)\", \"rgb(50,136,189)\"]}, \"x\": [1, 2, 3, 4], \"y\": [39, 4, 53, 4], \"type\": \"bar\", \"uid\": \"1fa621e2-91a3-4d84-a210-1ff8a501de8c\"}], {\"bargap\": 0.2, \"xaxis\": {\"ticktext\": [\"1. M\\u00f3vil\", \"2. Televisi\\u00f3n\", \"3. Ordenador\", \"4. Tableta\", \"5. Otros (Libros y peri\\u00f3dicos en papel, marquesinas, museos...)\"], \"tickvals\": [1, 2, 3, 4, 5]}}, {\"showLink\": false, \"linkText\": \"Export to plot.ly\", \"plotlyServerURL\": \"https://plot.ly\"}); \n",
       "}\n",
       "});</script><script type=\"text/javascript\">window.addEventListener(\"resize\", function(){if (document.getElementById(\"3884c887-a2f6-4387-9054-555878db1597\")) {window._Plotly.Plots.resize(document.getElementById(\"3884c887-a2f6-4387-9054-555878db1597\"));};})</script>"
      ],
      "text/vnd.plotly.v1+html": [
       "<div id=\"3884c887-a2f6-4387-9054-555878db1597\" style=\"height: 525px; width: 100%;\" class=\"plotly-graph-div\"></div><script type=\"text/javascript\">require([\"plotly\"], function(Plotly) { window.PLOTLYENV=window.PLOTLYENV || {};window.PLOTLYENV.BASE_URL=\"https://plot.ly\";\n",
       "if (document.getElementById(\"3884c887-a2f6-4387-9054-555878db1597\")) {\n",
       "    Plotly.newPlot(\"3884c887-a2f6-4387-9054-555878db1597\", [{\"marker\": {\"color\": [\"rgb(213,62,79)\", \"rgb(252,141,89)\", \"rgb(254,224,139)\", \"rgb(230,245,152)\", \"rgb(153,213,148)\", \"rgb(50,136,189)\"]}, \"x\": [1, 2, 3, 4], \"y\": [39, 4, 53, 4], \"type\": \"bar\", \"uid\": \"1fa621e2-91a3-4d84-a210-1ff8a501de8c\"}], {\"bargap\": 0.2, \"xaxis\": {\"ticktext\": [\"1. M\\u00f3vil\", \"2. Televisi\\u00f3n\", \"3. Ordenador\", \"4. Tableta\", \"5. Otros (Libros y peri\\u00f3dicos en papel, marquesinas, museos...)\"], \"tickvals\": [1, 2, 3, 4, 5]}}, {\"showLink\": false, \"linkText\": \"Export to plot.ly\", \"plotlyServerURL\": \"https://plot.ly\"}); \n",
       "}\n",
       "});</script><script type=\"text/javascript\">window.addEventListener(\"resize\", function(){if (document.getElementById(\"3884c887-a2f6-4387-9054-555878db1597\")) {window._Plotly.Plots.resize(document.getElementById(\"3884c887-a2f6-4387-9054-555878db1597\"));};})</script>"
      ]
     },
     "metadata": {},
     "output_type": "display_data"
    },
    {
     "name": "stdout",
     "output_type": "stream",
     "text": [
      "\n",
      "\n",
      "Cluster 3 || variable: ¿Cada cuánto tiempo consumes imágenes?\n",
      "Describiendo la pregunta ¿Cada cuánto tiempo consumes imágenes?\n",
      "Valores numéricos asociados a las respuestas [1, 2, 3, 4]\n",
      "Respuestas posibles a la pregunta/variable ['1. Nunca', '2. Dos o tres veces por semana', '3. Casi todos los días', '4. A diario']\n"
     ]
    },
    {
     "data": {
      "text/plain": [
       "count    100.000000\n",
       "mean       3.280000\n",
       "std        0.636912\n",
       "min        2.000000\n",
       "25%        3.000000\n",
       "50%        3.000000\n",
       "75%        4.000000\n",
       "max        4.000000\n",
       "Name: ¿Cada cuánto tiempo consumes imágenes?, dtype: float64"
      ]
     },
     "metadata": {},
     "output_type": "display_data"
    },
    {
     "name": "stdout",
     "output_type": "stream",
     "text": [
      "Conteo de cada valor en ¿Cada cuánto tiempo consumes imágenes? expresada como valor / cantidad\n"
     ]
    },
    {
     "data": {
      "text/plain": [
       "2    10\n",
       "3    52\n",
       "4    38\n",
       "Name: ¿Cada cuánto tiempo consumes imágenes?, dtype: int64"
      ]
     },
     "metadata": {},
     "output_type": "display_data"
    },
    {
     "name": "stdout",
     "output_type": "stream",
     "text": [
      "Porcentaje de cada valor en ¿Cada cuánto tiempo consumes imágenes? expresado como valor / porcentaje\n"
     ]
    },
    {
     "data": {
      "text/plain": [
       "2    10.0\n",
       "3    52.0\n",
       "4    38.0\n",
       "Name: ¿Cada cuánto tiempo consumes imágenes?, dtype: float64"
      ]
     },
     "metadata": {},
     "output_type": "display_data"
    },
    {
     "data": {
      "application/vnd.plotly.v1+json": {
       "config": {
        "linkText": "Export to plot.ly",
        "plotlyServerURL": "https://plot.ly",
        "showLink": false
       },
       "data": [
        {
         "marker": {
          "color": [
           "rgb(213,62,79)",
           "rgb(252,141,89)",
           "rgb(254,224,139)",
           "rgb(230,245,152)",
           "rgb(153,213,148)",
           "rgb(50,136,189)"
          ]
         },
         "type": "bar",
         "uid": "4586721d-61ce-4a10-bd0c-c7200ec2d1c7",
         "x": [
          2,
          3,
          4
         ],
         "y": [
          10,
          52,
          38
         ]
        }
       ],
       "layout": {
        "bargap": 0.2,
        "xaxis": {
         "ticktext": [
          "1. Nunca",
          "2. Dos o tres veces por semana",
          "3. Casi todos los días",
          "4. A diario"
         ],
         "tickvals": [
          1,
          2,
          3,
          4
         ]
        }
       }
      },
      "text/html": [
       "<div id=\"80b99387-a5d8-4eac-adff-683bd8e326e7\" style=\"height: 525px; width: 100%;\" class=\"plotly-graph-div\"></div><script type=\"text/javascript\">require([\"plotly\"], function(Plotly) { window.PLOTLYENV=window.PLOTLYENV || {};window.PLOTLYENV.BASE_URL=\"https://plot.ly\";\n",
       "if (document.getElementById(\"80b99387-a5d8-4eac-adff-683bd8e326e7\")) {\n",
       "    Plotly.newPlot(\"80b99387-a5d8-4eac-adff-683bd8e326e7\", [{\"marker\": {\"color\": [\"rgb(213,62,79)\", \"rgb(252,141,89)\", \"rgb(254,224,139)\", \"rgb(230,245,152)\", \"rgb(153,213,148)\", \"rgb(50,136,189)\"]}, \"x\": [2, 3, 4], \"y\": [10, 52, 38], \"type\": \"bar\", \"uid\": \"4586721d-61ce-4a10-bd0c-c7200ec2d1c7\"}], {\"bargap\": 0.2, \"xaxis\": {\"ticktext\": [\"1. Nunca\", \"2. Dos o tres veces por semana\", \"3. Casi todos los d\\u00edas\", \"4. A diario\"], \"tickvals\": [1, 2, 3, 4]}}, {\"showLink\": false, \"linkText\": \"Export to plot.ly\", \"plotlyServerURL\": \"https://plot.ly\"}); \n",
       "}\n",
       "});</script><script type=\"text/javascript\">window.addEventListener(\"resize\", function(){if (document.getElementById(\"80b99387-a5d8-4eac-adff-683bd8e326e7\")) {window._Plotly.Plots.resize(document.getElementById(\"80b99387-a5d8-4eac-adff-683bd8e326e7\"));};})</script>"
      ],
      "text/vnd.plotly.v1+html": [
       "<div id=\"80b99387-a5d8-4eac-adff-683bd8e326e7\" style=\"height: 525px; width: 100%;\" class=\"plotly-graph-div\"></div><script type=\"text/javascript\">require([\"plotly\"], function(Plotly) { window.PLOTLYENV=window.PLOTLYENV || {};window.PLOTLYENV.BASE_URL=\"https://plot.ly\";\n",
       "if (document.getElementById(\"80b99387-a5d8-4eac-adff-683bd8e326e7\")) {\n",
       "    Plotly.newPlot(\"80b99387-a5d8-4eac-adff-683bd8e326e7\", [{\"marker\": {\"color\": [\"rgb(213,62,79)\", \"rgb(252,141,89)\", \"rgb(254,224,139)\", \"rgb(230,245,152)\", \"rgb(153,213,148)\", \"rgb(50,136,189)\"]}, \"x\": [2, 3, 4], \"y\": [10, 52, 38], \"type\": \"bar\", \"uid\": \"4586721d-61ce-4a10-bd0c-c7200ec2d1c7\"}], {\"bargap\": 0.2, \"xaxis\": {\"ticktext\": [\"1. Nunca\", \"2. Dos o tres veces por semana\", \"3. Casi todos los d\\u00edas\", \"4. A diario\"], \"tickvals\": [1, 2, 3, 4]}}, {\"showLink\": false, \"linkText\": \"Export to plot.ly\", \"plotlyServerURL\": \"https://plot.ly\"}); \n",
       "}\n",
       "});</script><script type=\"text/javascript\">window.addEventListener(\"resize\", function(){if (document.getElementById(\"80b99387-a5d8-4eac-adff-683bd8e326e7\")) {window._Plotly.Plots.resize(document.getElementById(\"80b99387-a5d8-4eac-adff-683bd8e326e7\"));};})</script>"
      ]
     },
     "metadata": {},
     "output_type": "display_data"
    },
    {
     "name": "stdout",
     "output_type": "stream",
     "text": [
      "\n",
      "\n",
      "Cluster 1 || variable: Clasifica tu grado de visión\n",
      "Describiendo la pregunta Clasifica tu grado de visión\n",
      "Valores numéricos asociados a las respuestas [1, 2, 3, 4, 5]\n",
      "Respuestas posibles a la pregunta/variable ['1. Muy malo', '2. Malo', '3. Regular', '4. Bueno', '5. Muy bueno']\n"
     ]
    },
    {
     "data": {
      "text/plain": [
       "count    37.000000\n",
       "mean      3.864865\n",
       "std       0.585100\n",
       "min       3.000000\n",
       "25%       4.000000\n",
       "50%       4.000000\n",
       "75%       4.000000\n",
       "max       5.000000\n",
       "Name: Clasifica tu grado de visión, dtype: float64"
      ]
     },
     "metadata": {},
     "output_type": "display_data"
    },
    {
     "name": "stdout",
     "output_type": "stream",
     "text": [
      "Conteo de cada valor en Clasifica tu grado de visión expresada como valor / cantidad\n"
     ]
    },
    {
     "data": {
      "text/plain": [
       "3     9\n",
       "4    24\n",
       "5     4\n",
       "Name: Clasifica tu grado de visión, dtype: int64"
      ]
     },
     "metadata": {},
     "output_type": "display_data"
    },
    {
     "name": "stdout",
     "output_type": "stream",
     "text": [
      "Porcentaje de cada valor en Clasifica tu grado de visión expresado como valor / porcentaje\n"
     ]
    },
    {
     "data": {
      "text/plain": [
       "3    24.32\n",
       "4    64.86\n",
       "5    10.81\n",
       "Name: Clasifica tu grado de visión, dtype: float64"
      ]
     },
     "metadata": {},
     "output_type": "display_data"
    },
    {
     "data": {
      "application/vnd.plotly.v1+json": {
       "config": {
        "linkText": "Export to plot.ly",
        "plotlyServerURL": "https://plot.ly",
        "showLink": false
       },
       "data": [
        {
         "marker": {
          "color": [
           "rgb(213,62,79)",
           "rgb(252,141,89)",
           "rgb(254,224,139)",
           "rgb(230,245,152)",
           "rgb(153,213,148)",
           "rgb(50,136,189)"
          ]
         },
         "type": "bar",
         "uid": "fafdff2d-071e-4c0a-bc8d-6cc7dd5b4dc3",
         "x": [
          3,
          4,
          5
         ],
         "y": [
          9,
          24,
          4
         ]
        }
       ],
       "layout": {
        "bargap": 0.2,
        "xaxis": {
         "ticktext": [
          "1. Muy malo",
          "2. Malo",
          "3. Regular",
          "4. Bueno",
          "5. Muy bueno"
         ],
         "tickvals": [
          1,
          2,
          3,
          4,
          5
         ]
        }
       }
      },
      "text/html": [
       "<div id=\"ba79d036-be1a-4907-9c94-75c872d65cab\" style=\"height: 525px; width: 100%;\" class=\"plotly-graph-div\"></div><script type=\"text/javascript\">require([\"plotly\"], function(Plotly) { window.PLOTLYENV=window.PLOTLYENV || {};window.PLOTLYENV.BASE_URL=\"https://plot.ly\";\n",
       "if (document.getElementById(\"ba79d036-be1a-4907-9c94-75c872d65cab\")) {\n",
       "    Plotly.newPlot(\"ba79d036-be1a-4907-9c94-75c872d65cab\", [{\"marker\": {\"color\": [\"rgb(213,62,79)\", \"rgb(252,141,89)\", \"rgb(254,224,139)\", \"rgb(230,245,152)\", \"rgb(153,213,148)\", \"rgb(50,136,189)\"]}, \"x\": [3, 4, 5], \"y\": [9, 24, 4], \"type\": \"bar\", \"uid\": \"fafdff2d-071e-4c0a-bc8d-6cc7dd5b4dc3\"}], {\"bargap\": 0.2, \"xaxis\": {\"ticktext\": [\"1. Muy malo\", \"2. Malo\", \"3. Regular\", \"4. Bueno\", \"5. Muy bueno\"], \"tickvals\": [1, 2, 3, 4, 5]}}, {\"showLink\": false, \"linkText\": \"Export to plot.ly\", \"plotlyServerURL\": \"https://plot.ly\"}); \n",
       "}\n",
       "});</script><script type=\"text/javascript\">window.addEventListener(\"resize\", function(){if (document.getElementById(\"ba79d036-be1a-4907-9c94-75c872d65cab\")) {window._Plotly.Plots.resize(document.getElementById(\"ba79d036-be1a-4907-9c94-75c872d65cab\"));};})</script>"
      ],
      "text/vnd.plotly.v1+html": [
       "<div id=\"ba79d036-be1a-4907-9c94-75c872d65cab\" style=\"height: 525px; width: 100%;\" class=\"plotly-graph-div\"></div><script type=\"text/javascript\">require([\"plotly\"], function(Plotly) { window.PLOTLYENV=window.PLOTLYENV || {};window.PLOTLYENV.BASE_URL=\"https://plot.ly\";\n",
       "if (document.getElementById(\"ba79d036-be1a-4907-9c94-75c872d65cab\")) {\n",
       "    Plotly.newPlot(\"ba79d036-be1a-4907-9c94-75c872d65cab\", [{\"marker\": {\"color\": [\"rgb(213,62,79)\", \"rgb(252,141,89)\", \"rgb(254,224,139)\", \"rgb(230,245,152)\", \"rgb(153,213,148)\", \"rgb(50,136,189)\"]}, \"x\": [3, 4, 5], \"y\": [9, 24, 4], \"type\": \"bar\", \"uid\": \"fafdff2d-071e-4c0a-bc8d-6cc7dd5b4dc3\"}], {\"bargap\": 0.2, \"xaxis\": {\"ticktext\": [\"1. Muy malo\", \"2. Malo\", \"3. Regular\", \"4. Bueno\", \"5. Muy bueno\"], \"tickvals\": [1, 2, 3, 4, 5]}}, {\"showLink\": false, \"linkText\": \"Export to plot.ly\", \"plotlyServerURL\": \"https://plot.ly\"}); \n",
       "}\n",
       "});</script><script type=\"text/javascript\">window.addEventListener(\"resize\", function(){if (document.getElementById(\"ba79d036-be1a-4907-9c94-75c872d65cab\")) {window._Plotly.Plots.resize(document.getElementById(\"ba79d036-be1a-4907-9c94-75c872d65cab\"));};})</script>"
      ]
     },
     "metadata": {},
     "output_type": "display_data"
    },
    {
     "name": "stdout",
     "output_type": "stream",
     "text": [
      "\n",
      "\n",
      "Cluster 1 || variable: ¿Utilizas gafas o lentes de contacto?\n",
      "Describiendo la pregunta ¿Utilizas gafas o lentes de contacto?\n",
      "Valores numéricos asociados a las respuestas [0, 1]\n",
      "Respuestas posibles a la pregunta/variable ['No', 'Sí']\n"
     ]
    },
    {
     "data": {
      "text/plain": [
       "count    37.000000\n",
       "mean      0.486486\n",
       "std       0.506712\n",
       "min       0.000000\n",
       "25%       0.000000\n",
       "50%       0.000000\n",
       "75%       1.000000\n",
       "max       1.000000\n",
       "Name: ¿Utilizas gafas o lentes de contacto?, dtype: float64"
      ]
     },
     "metadata": {},
     "output_type": "display_data"
    },
    {
     "name": "stdout",
     "output_type": "stream",
     "text": [
      "Conteo de cada valor en ¿Utilizas gafas o lentes de contacto? expresada como valor / cantidad\n"
     ]
    },
    {
     "data": {
      "text/plain": [
       "0    19\n",
       "1    18\n",
       "Name: ¿Utilizas gafas o lentes de contacto?, dtype: int64"
      ]
     },
     "metadata": {},
     "output_type": "display_data"
    },
    {
     "name": "stdout",
     "output_type": "stream",
     "text": [
      "Porcentaje de cada valor en ¿Utilizas gafas o lentes de contacto? expresado como valor / porcentaje\n"
     ]
    },
    {
     "data": {
      "text/plain": [
       "0    51.35\n",
       "1    48.65\n",
       "Name: ¿Utilizas gafas o lentes de contacto?, dtype: float64"
      ]
     },
     "metadata": {},
     "output_type": "display_data"
    },
    {
     "data": {
      "application/vnd.plotly.v1+json": {
       "config": {
        "linkText": "Export to plot.ly",
        "plotlyServerURL": "https://plot.ly",
        "showLink": false
       },
       "data": [
        {
         "marker": {
          "color": [
           "rgb(213,62,79)",
           "rgb(252,141,89)",
           "rgb(254,224,139)",
           "rgb(230,245,152)",
           "rgb(153,213,148)",
           "rgb(50,136,189)"
          ]
         },
         "type": "bar",
         "uid": "2408faa5-dfc0-457f-9526-2cca7eee533f",
         "x": [
          0,
          1
         ],
         "y": [
          19,
          18
         ]
        }
       ],
       "layout": {
        "bargap": 0.2,
        "xaxis": {
         "ticktext": [
          "No",
          "Sí"
         ],
         "tickvals": [
          0,
          1
         ]
        }
       }
      },
      "text/html": [
       "<div id=\"9f10218b-da99-482e-af41-6e1d9623ea6d\" style=\"height: 525px; width: 100%;\" class=\"plotly-graph-div\"></div><script type=\"text/javascript\">require([\"plotly\"], function(Plotly) { window.PLOTLYENV=window.PLOTLYENV || {};window.PLOTLYENV.BASE_URL=\"https://plot.ly\";\n",
       "if (document.getElementById(\"9f10218b-da99-482e-af41-6e1d9623ea6d\")) {\n",
       "    Plotly.newPlot(\"9f10218b-da99-482e-af41-6e1d9623ea6d\", [{\"marker\": {\"color\": [\"rgb(213,62,79)\", \"rgb(252,141,89)\", \"rgb(254,224,139)\", \"rgb(230,245,152)\", \"rgb(153,213,148)\", \"rgb(50,136,189)\"]}, \"x\": [0, 1], \"y\": [19, 18], \"type\": \"bar\", \"uid\": \"2408faa5-dfc0-457f-9526-2cca7eee533f\"}], {\"bargap\": 0.2, \"xaxis\": {\"ticktext\": [\"No\", \"S\\u00ed\"], \"tickvals\": [0, 1]}}, {\"showLink\": false, \"linkText\": \"Export to plot.ly\", \"plotlyServerURL\": \"https://plot.ly\"}); \n",
       "}\n",
       "});</script><script type=\"text/javascript\">window.addEventListener(\"resize\", function(){if (document.getElementById(\"9f10218b-da99-482e-af41-6e1d9623ea6d\")) {window._Plotly.Plots.resize(document.getElementById(\"9f10218b-da99-482e-af41-6e1d9623ea6d\"));};})</script>"
      ],
      "text/vnd.plotly.v1+html": [
       "<div id=\"9f10218b-da99-482e-af41-6e1d9623ea6d\" style=\"height: 525px; width: 100%;\" class=\"plotly-graph-div\"></div><script type=\"text/javascript\">require([\"plotly\"], function(Plotly) { window.PLOTLYENV=window.PLOTLYENV || {};window.PLOTLYENV.BASE_URL=\"https://plot.ly\";\n",
       "if (document.getElementById(\"9f10218b-da99-482e-af41-6e1d9623ea6d\")) {\n",
       "    Plotly.newPlot(\"9f10218b-da99-482e-af41-6e1d9623ea6d\", [{\"marker\": {\"color\": [\"rgb(213,62,79)\", \"rgb(252,141,89)\", \"rgb(254,224,139)\", \"rgb(230,245,152)\", \"rgb(153,213,148)\", \"rgb(50,136,189)\"]}, \"x\": [0, 1], \"y\": [19, 18], \"type\": \"bar\", \"uid\": \"2408faa5-dfc0-457f-9526-2cca7eee533f\"}], {\"bargap\": 0.2, \"xaxis\": {\"ticktext\": [\"No\", \"S\\u00ed\"], \"tickvals\": [0, 1]}}, {\"showLink\": false, \"linkText\": \"Export to plot.ly\", \"plotlyServerURL\": \"https://plot.ly\"}); \n",
       "}\n",
       "});</script><script type=\"text/javascript\">window.addEventListener(\"resize\", function(){if (document.getElementById(\"9f10218b-da99-482e-af41-6e1d9623ea6d\")) {window._Plotly.Plots.resize(document.getElementById(\"9f10218b-da99-482e-af41-6e1d9623ea6d\"));};})</script>"
      ]
     },
     "metadata": {},
     "output_type": "display_data"
    },
    {
     "name": "stdout",
     "output_type": "stream",
     "text": [
      "\n",
      "\n",
      "Cluster 1 || variable: ¿Tienes alguna carencia visual que afecte a la recepción de formas, colores, distancias, etc.?\n",
      "Describiendo la pregunta ¿Tienes alguna carencia visual que afecte a la recepción de formas, colores, distancias, etc.?\n",
      "Valores numéricos asociados a las respuestas [0, 1]\n",
      "Respuestas posibles a la pregunta/variable ['No', 'Sí']\n"
     ]
    },
    {
     "data": {
      "text/plain": [
       "count    37.000000\n",
       "mean      0.486486\n",
       "std       0.506712\n",
       "min       0.000000\n",
       "25%       0.000000\n",
       "50%       0.000000\n",
       "75%       1.000000\n",
       "max       1.000000\n",
       "Name: ¿Tienes alguna carencia visual que afecte a la recepción de formas, colores, distancias, etc.?, dtype: float64"
      ]
     },
     "metadata": {},
     "output_type": "display_data"
    },
    {
     "name": "stdout",
     "output_type": "stream",
     "text": [
      "Conteo de cada valor en ¿Tienes alguna carencia visual que afecte a la recepción de formas, colores, distancias, etc.? expresada como valor / cantidad\n"
     ]
    },
    {
     "data": {
      "text/plain": [
       "0    19\n",
       "1    18\n",
       "Name: ¿Tienes alguna carencia visual que afecte a la recepción de formas, colores, distancias, etc.?, dtype: int64"
      ]
     },
     "metadata": {},
     "output_type": "display_data"
    },
    {
     "name": "stdout",
     "output_type": "stream",
     "text": [
      "Porcentaje de cada valor en ¿Tienes alguna carencia visual que afecte a la recepción de formas, colores, distancias, etc.? expresado como valor / porcentaje\n"
     ]
    },
    {
     "data": {
      "text/plain": [
       "0    51.35\n",
       "1    48.65\n",
       "Name: ¿Tienes alguna carencia visual que afecte a la recepción de formas, colores, distancias, etc.?, dtype: float64"
      ]
     },
     "metadata": {},
     "output_type": "display_data"
    },
    {
     "data": {
      "application/vnd.plotly.v1+json": {
       "config": {
        "linkText": "Export to plot.ly",
        "plotlyServerURL": "https://plot.ly",
        "showLink": false
       },
       "data": [
        {
         "marker": {
          "color": [
           "rgb(213,62,79)",
           "rgb(252,141,89)",
           "rgb(254,224,139)",
           "rgb(230,245,152)",
           "rgb(153,213,148)",
           "rgb(50,136,189)"
          ]
         },
         "type": "bar",
         "uid": "32d017ee-17eb-47f0-ac3a-dd6f9b0ccabe",
         "x": [
          0,
          1
         ],
         "y": [
          19,
          18
         ]
        }
       ],
       "layout": {
        "bargap": 0.2,
        "xaxis": {
         "ticktext": [
          "No",
          "Sí"
         ],
         "tickvals": [
          0,
          1
         ]
        }
       }
      },
      "text/html": [
       "<div id=\"33799c34-73b9-4501-b043-4eb1dbc6c40b\" style=\"height: 525px; width: 100%;\" class=\"plotly-graph-div\"></div><script type=\"text/javascript\">require([\"plotly\"], function(Plotly) { window.PLOTLYENV=window.PLOTLYENV || {};window.PLOTLYENV.BASE_URL=\"https://plot.ly\";\n",
       "if (document.getElementById(\"33799c34-73b9-4501-b043-4eb1dbc6c40b\")) {\n",
       "    Plotly.newPlot(\"33799c34-73b9-4501-b043-4eb1dbc6c40b\", [{\"marker\": {\"color\": [\"rgb(213,62,79)\", \"rgb(252,141,89)\", \"rgb(254,224,139)\", \"rgb(230,245,152)\", \"rgb(153,213,148)\", \"rgb(50,136,189)\"]}, \"x\": [0, 1], \"y\": [19, 18], \"type\": \"bar\", \"uid\": \"32d017ee-17eb-47f0-ac3a-dd6f9b0ccabe\"}], {\"bargap\": 0.2, \"xaxis\": {\"ticktext\": [\"No\", \"S\\u00ed\"], \"tickvals\": [0, 1]}}, {\"showLink\": false, \"linkText\": \"Export to plot.ly\", \"plotlyServerURL\": \"https://plot.ly\"}); \n",
       "}\n",
       "});</script><script type=\"text/javascript\">window.addEventListener(\"resize\", function(){if (document.getElementById(\"33799c34-73b9-4501-b043-4eb1dbc6c40b\")) {window._Plotly.Plots.resize(document.getElementById(\"33799c34-73b9-4501-b043-4eb1dbc6c40b\"));};})</script>"
      ],
      "text/vnd.plotly.v1+html": [
       "<div id=\"33799c34-73b9-4501-b043-4eb1dbc6c40b\" style=\"height: 525px; width: 100%;\" class=\"plotly-graph-div\"></div><script type=\"text/javascript\">require([\"plotly\"], function(Plotly) { window.PLOTLYENV=window.PLOTLYENV || {};window.PLOTLYENV.BASE_URL=\"https://plot.ly\";\n",
       "if (document.getElementById(\"33799c34-73b9-4501-b043-4eb1dbc6c40b\")) {\n",
       "    Plotly.newPlot(\"33799c34-73b9-4501-b043-4eb1dbc6c40b\", [{\"marker\": {\"color\": [\"rgb(213,62,79)\", \"rgb(252,141,89)\", \"rgb(254,224,139)\", \"rgb(230,245,152)\", \"rgb(153,213,148)\", \"rgb(50,136,189)\"]}, \"x\": [0, 1], \"y\": [19, 18], \"type\": \"bar\", \"uid\": \"32d017ee-17eb-47f0-ac3a-dd6f9b0ccabe\"}], {\"bargap\": 0.2, \"xaxis\": {\"ticktext\": [\"No\", \"S\\u00ed\"], \"tickvals\": [0, 1]}}, {\"showLink\": false, \"linkText\": \"Export to plot.ly\", \"plotlyServerURL\": \"https://plot.ly\"}); \n",
       "}\n",
       "});</script><script type=\"text/javascript\">window.addEventListener(\"resize\", function(){if (document.getElementById(\"33799c34-73b9-4501-b043-4eb1dbc6c40b\")) {window._Plotly.Plots.resize(document.getElementById(\"33799c34-73b9-4501-b043-4eb1dbc6c40b\"));};})</script>"
      ]
     },
     "metadata": {},
     "output_type": "display_data"
    },
    {
     "name": "stdout",
     "output_type": "stream",
     "text": [
      "\n",
      "\n",
      "Cluster 1 || variable: ¿Tienes acceso a dispositivos (ordenador, móvil, tablet, etc.) conectados a Internet habitualmente?\n",
      "Describiendo la pregunta ¿Tienes acceso a dispositivos (ordenador, móvil, tablet, etc.) conectados a Internet habitualmente?\n",
      "Valores numéricos asociados a las respuestas [1, 2, 3, 4, 5]\n",
      "Respuestas posibles a la pregunta/variable ['1. Nunca', '2. Ocasionalmente', '3. Semanalmente', '4. Diariamente', '5. Varias veces al día']\n"
     ]
    },
    {
     "data": {
      "text/plain": [
       "count    37.000000\n",
       "mean      3.324324\n",
       "std       0.818333\n",
       "min       1.000000\n",
       "25%       3.000000\n",
       "50%       3.000000\n",
       "75%       4.000000\n",
       "max       5.000000\n",
       "Name: ¿Tienes acceso a dispositivos (ordenador, móvil, tablet, etc.) conectados a Internet habitualmente?, dtype: float64"
      ]
     },
     "metadata": {},
     "output_type": "display_data"
    },
    {
     "name": "stdout",
     "output_type": "stream",
     "text": [
      "Conteo de cada valor en ¿Tienes acceso a dispositivos (ordenador, móvil, tablet, etc.) conectados a Internet habitualmente? expresada como valor / cantidad\n"
     ]
    },
    {
     "data": {
      "text/plain": [
       "1     1\n",
       "2     4\n",
       "3    15\n",
       "4    16\n",
       "5     1\n",
       "Name: ¿Tienes acceso a dispositivos (ordenador, móvil, tablet, etc.) conectados a Internet habitualmente?, dtype: int64"
      ]
     },
     "metadata": {},
     "output_type": "display_data"
    },
    {
     "name": "stdout",
     "output_type": "stream",
     "text": [
      "Porcentaje de cada valor en ¿Tienes acceso a dispositivos (ordenador, móvil, tablet, etc.) conectados a Internet habitualmente? expresado como valor / porcentaje\n"
     ]
    },
    {
     "data": {
      "text/plain": [
       "1     2.70\n",
       "2    10.81\n",
       "3    40.54\n",
       "4    43.24\n",
       "5     2.70\n",
       "Name: ¿Tienes acceso a dispositivos (ordenador, móvil, tablet, etc.) conectados a Internet habitualmente?, dtype: float64"
      ]
     },
     "metadata": {},
     "output_type": "display_data"
    },
    {
     "data": {
      "application/vnd.plotly.v1+json": {
       "config": {
        "linkText": "Export to plot.ly",
        "plotlyServerURL": "https://plot.ly",
        "showLink": false
       },
       "data": [
        {
         "marker": {
          "color": [
           "rgb(213,62,79)",
           "rgb(252,141,89)",
           "rgb(254,224,139)",
           "rgb(230,245,152)",
           "rgb(153,213,148)",
           "rgb(50,136,189)"
          ]
         },
         "type": "bar",
         "uid": "bcb00c52-8224-47b8-ae41-026e7b576d29",
         "x": [
          1,
          2,
          3,
          4,
          5
         ],
         "y": [
          1,
          4,
          15,
          16,
          1
         ]
        }
       ],
       "layout": {
        "bargap": 0.2,
        "xaxis": {
         "ticktext": [
          "1. Nunca",
          "2. Ocasionalmente",
          "3. Semanalmente",
          "4. Diariamente",
          "5. Varias veces al día"
         ],
         "tickvals": [
          1,
          2,
          3,
          4,
          5
         ]
        }
       }
      },
      "text/html": [
       "<div id=\"178c60b3-140f-49bf-b328-da6fbb09b27f\" style=\"height: 525px; width: 100%;\" class=\"plotly-graph-div\"></div><script type=\"text/javascript\">require([\"plotly\"], function(Plotly) { window.PLOTLYENV=window.PLOTLYENV || {};window.PLOTLYENV.BASE_URL=\"https://plot.ly\";\n",
       "if (document.getElementById(\"178c60b3-140f-49bf-b328-da6fbb09b27f\")) {\n",
       "    Plotly.newPlot(\"178c60b3-140f-49bf-b328-da6fbb09b27f\", [{\"marker\": {\"color\": [\"rgb(213,62,79)\", \"rgb(252,141,89)\", \"rgb(254,224,139)\", \"rgb(230,245,152)\", \"rgb(153,213,148)\", \"rgb(50,136,189)\"]}, \"x\": [1, 2, 3, 4, 5], \"y\": [1, 4, 15, 16, 1], \"type\": \"bar\", \"uid\": \"bcb00c52-8224-47b8-ae41-026e7b576d29\"}], {\"bargap\": 0.2, \"xaxis\": {\"ticktext\": [\"1. Nunca\", \"2. Ocasionalmente\", \"3. Semanalmente\", \"4. Diariamente\", \"5. Varias veces al d\\u00eda\"], \"tickvals\": [1, 2, 3, 4, 5]}}, {\"showLink\": false, \"linkText\": \"Export to plot.ly\", \"plotlyServerURL\": \"https://plot.ly\"}); \n",
       "}\n",
       "});</script><script type=\"text/javascript\">window.addEventListener(\"resize\", function(){if (document.getElementById(\"178c60b3-140f-49bf-b328-da6fbb09b27f\")) {window._Plotly.Plots.resize(document.getElementById(\"178c60b3-140f-49bf-b328-da6fbb09b27f\"));};})</script>"
      ],
      "text/vnd.plotly.v1+html": [
       "<div id=\"178c60b3-140f-49bf-b328-da6fbb09b27f\" style=\"height: 525px; width: 100%;\" class=\"plotly-graph-div\"></div><script type=\"text/javascript\">require([\"plotly\"], function(Plotly) { window.PLOTLYENV=window.PLOTLYENV || {};window.PLOTLYENV.BASE_URL=\"https://plot.ly\";\n",
       "if (document.getElementById(\"178c60b3-140f-49bf-b328-da6fbb09b27f\")) {\n",
       "    Plotly.newPlot(\"178c60b3-140f-49bf-b328-da6fbb09b27f\", [{\"marker\": {\"color\": [\"rgb(213,62,79)\", \"rgb(252,141,89)\", \"rgb(254,224,139)\", \"rgb(230,245,152)\", \"rgb(153,213,148)\", \"rgb(50,136,189)\"]}, \"x\": [1, 2, 3, 4, 5], \"y\": [1, 4, 15, 16, 1], \"type\": \"bar\", \"uid\": \"bcb00c52-8224-47b8-ae41-026e7b576d29\"}], {\"bargap\": 0.2, \"xaxis\": {\"ticktext\": [\"1. Nunca\", \"2. Ocasionalmente\", \"3. Semanalmente\", \"4. Diariamente\", \"5. Varias veces al d\\u00eda\"], \"tickvals\": [1, 2, 3, 4, 5]}}, {\"showLink\": false, \"linkText\": \"Export to plot.ly\", \"plotlyServerURL\": \"https://plot.ly\"}); \n",
       "}\n",
       "});</script><script type=\"text/javascript\">window.addEventListener(\"resize\", function(){if (document.getElementById(\"178c60b3-140f-49bf-b328-da6fbb09b27f\")) {window._Plotly.Plots.resize(document.getElementById(\"178c60b3-140f-49bf-b328-da6fbb09b27f\"));};})</script>"
      ]
     },
     "metadata": {},
     "output_type": "display_data"
    },
    {
     "name": "stdout",
     "output_type": "stream",
     "text": [
      "\n",
      "\n",
      "Cluster 1 || variable: ¿Cuánto tiempo al día usas el móvil/tableta/ordenador/TV?\n",
      "Describiendo la pregunta ¿Cuánto tiempo al día usas el móvil/tableta/ordenador/TV?\n",
      "Valores numéricos asociados a las respuestas [1, 2, 3, 4, 5, 6]\n",
      "Respuestas posibles a la pregunta/variable ['1. Nada', '2. Menos de una hora', '3. 1-2 horas', '4. 2-4 horas', '5. 4-6 horas', '6. Más de 6 horas']\n"
     ]
    },
    {
     "data": {
      "text/plain": [
       "count    37.000000\n",
       "mean      3.405405\n",
       "std       0.926746\n",
       "min       1.000000\n",
       "25%       3.000000\n",
       "50%       3.000000\n",
       "75%       4.000000\n",
       "max       6.000000\n",
       "Name: ¿Cuánto tiempo al día usas el móvil/tableta/ordenador/TV?, dtype: float64"
      ]
     },
     "metadata": {},
     "output_type": "display_data"
    },
    {
     "name": "stdout",
     "output_type": "stream",
     "text": [
      "Conteo de cada valor en ¿Cuánto tiempo al día usas el móvil/tableta/ordenador/TV? expresada como valor / cantidad\n"
     ]
    },
    {
     "data": {
      "text/plain": [
       "1     1\n",
       "2     1\n",
       "3    23\n",
       "4     7\n",
       "5     4\n",
       "6     1\n",
       "Name: ¿Cuánto tiempo al día usas el móvil/tableta/ordenador/TV?, dtype: int64"
      ]
     },
     "metadata": {},
     "output_type": "display_data"
    },
    {
     "name": "stdout",
     "output_type": "stream",
     "text": [
      "Porcentaje de cada valor en ¿Cuánto tiempo al día usas el móvil/tableta/ordenador/TV? expresado como valor / porcentaje\n"
     ]
    },
    {
     "data": {
      "text/plain": [
       "1     2.70\n",
       "2     2.70\n",
       "3    62.16\n",
       "4    18.92\n",
       "5    10.81\n",
       "6     2.70\n",
       "Name: ¿Cuánto tiempo al día usas el móvil/tableta/ordenador/TV?, dtype: float64"
      ]
     },
     "metadata": {},
     "output_type": "display_data"
    },
    {
     "data": {
      "application/vnd.plotly.v1+json": {
       "config": {
        "linkText": "Export to plot.ly",
        "plotlyServerURL": "https://plot.ly",
        "showLink": false
       },
       "data": [
        {
         "marker": {
          "color": [
           "rgb(213,62,79)",
           "rgb(252,141,89)",
           "rgb(254,224,139)",
           "rgb(230,245,152)",
           "rgb(153,213,148)",
           "rgb(50,136,189)"
          ]
         },
         "type": "bar",
         "uid": "b428a6d9-a89f-44fe-a393-40ddd38e1f8c",
         "x": [
          1,
          2,
          3,
          4,
          5,
          6
         ],
         "y": [
          1,
          1,
          23,
          7,
          4,
          1
         ]
        }
       ],
       "layout": {
        "bargap": 0.2,
        "xaxis": {
         "ticktext": [
          "1. Nada",
          "2. Menos de una hora",
          "3. 1-2 horas",
          "4. 2-4 horas",
          "5. 4-6 horas",
          "6. Más de 6 horas"
         ],
         "tickvals": [
          1,
          2,
          3,
          4,
          5,
          6
         ]
        }
       }
      },
      "text/html": [
       "<div id=\"67cb19b4-4e8e-4ad0-b66a-7c49cf2a5d78\" style=\"height: 525px; width: 100%;\" class=\"plotly-graph-div\"></div><script type=\"text/javascript\">require([\"plotly\"], function(Plotly) { window.PLOTLYENV=window.PLOTLYENV || {};window.PLOTLYENV.BASE_URL=\"https://plot.ly\";\n",
       "if (document.getElementById(\"67cb19b4-4e8e-4ad0-b66a-7c49cf2a5d78\")) {\n",
       "    Plotly.newPlot(\"67cb19b4-4e8e-4ad0-b66a-7c49cf2a5d78\", [{\"marker\": {\"color\": [\"rgb(213,62,79)\", \"rgb(252,141,89)\", \"rgb(254,224,139)\", \"rgb(230,245,152)\", \"rgb(153,213,148)\", \"rgb(50,136,189)\"]}, \"x\": [1, 2, 3, 4, 5, 6], \"y\": [1, 1, 23, 7, 4, 1], \"type\": \"bar\", \"uid\": \"b428a6d9-a89f-44fe-a393-40ddd38e1f8c\"}], {\"bargap\": 0.2, \"xaxis\": {\"ticktext\": [\"1. Nada\", \"2. Menos de una hora\", \"3. 1-2 horas\", \"4. 2-4 horas\", \"5. 4-6 horas\", \"6. M\\u00e1s de 6 horas\"], \"tickvals\": [1, 2, 3, 4, 5, 6]}}, {\"showLink\": false, \"linkText\": \"Export to plot.ly\", \"plotlyServerURL\": \"https://plot.ly\"}); \n",
       "}\n",
       "});</script><script type=\"text/javascript\">window.addEventListener(\"resize\", function(){if (document.getElementById(\"67cb19b4-4e8e-4ad0-b66a-7c49cf2a5d78\")) {window._Plotly.Plots.resize(document.getElementById(\"67cb19b4-4e8e-4ad0-b66a-7c49cf2a5d78\"));};})</script>"
      ],
      "text/vnd.plotly.v1+html": [
       "<div id=\"67cb19b4-4e8e-4ad0-b66a-7c49cf2a5d78\" style=\"height: 525px; width: 100%;\" class=\"plotly-graph-div\"></div><script type=\"text/javascript\">require([\"plotly\"], function(Plotly) { window.PLOTLYENV=window.PLOTLYENV || {};window.PLOTLYENV.BASE_URL=\"https://plot.ly\";\n",
       "if (document.getElementById(\"67cb19b4-4e8e-4ad0-b66a-7c49cf2a5d78\")) {\n",
       "    Plotly.newPlot(\"67cb19b4-4e8e-4ad0-b66a-7c49cf2a5d78\", [{\"marker\": {\"color\": [\"rgb(213,62,79)\", \"rgb(252,141,89)\", \"rgb(254,224,139)\", \"rgb(230,245,152)\", \"rgb(153,213,148)\", \"rgb(50,136,189)\"]}, \"x\": [1, 2, 3, 4, 5, 6], \"y\": [1, 1, 23, 7, 4, 1], \"type\": \"bar\", \"uid\": \"b428a6d9-a89f-44fe-a393-40ddd38e1f8c\"}], {\"bargap\": 0.2, \"xaxis\": {\"ticktext\": [\"1. Nada\", \"2. Menos de una hora\", \"3. 1-2 horas\", \"4. 2-4 horas\", \"5. 4-6 horas\", \"6. M\\u00e1s de 6 horas\"], \"tickvals\": [1, 2, 3, 4, 5, 6]}}, {\"showLink\": false, \"linkText\": \"Export to plot.ly\", \"plotlyServerURL\": \"https://plot.ly\"}); \n",
       "}\n",
       "});</script><script type=\"text/javascript\">window.addEventListener(\"resize\", function(){if (document.getElementById(\"67cb19b4-4e8e-4ad0-b66a-7c49cf2a5d78\")) {window._Plotly.Plots.resize(document.getElementById(\"67cb19b4-4e8e-4ad0-b66a-7c49cf2a5d78\"));};})</script>"
      ]
     },
     "metadata": {},
     "output_type": "display_data"
    },
    {
     "name": "stdout",
     "output_type": "stream",
     "text": [
      "\n",
      "\n",
      "Cluster 1 || variable: ¿Qué tipo de aplicaciones utilizas en tu ordenador/tableta/móvil? (Respuesta múltiple) [1. Apps de contenidos audiovisuales (Netflix, HBO, etc.)]\n",
      "Describiendo la pregunta ¿Qué tipo de aplicaciones utilizas en tu ordenador/tableta/móvil? (Respuesta múltiple) [1. Apps de contenidos audiovisuales (Netflix, HBO, etc.)]\n",
      "Valores numéricos asociados a las respuestas [0, 1]\n",
      "Respuestas posibles a la pregunta/variable ['No', 'Sí']\n"
     ]
    },
    {
     "data": {
      "text/plain": [
       "count    37.000000\n",
       "mean      0.135135\n",
       "std       0.346583\n",
       "min       0.000000\n",
       "25%       0.000000\n",
       "50%       0.000000\n",
       "75%       0.000000\n",
       "max       1.000000\n",
       "Name: ¿Qué tipo de aplicaciones utilizas en tu ordenador/tableta/móvil? (Respuesta múltiple) [1. Apps de contenidos audiovisuales (Netflix, HBO, etc.)], dtype: float64"
      ]
     },
     "metadata": {},
     "output_type": "display_data"
    },
    {
     "name": "stdout",
     "output_type": "stream",
     "text": [
      "Conteo de cada valor en ¿Qué tipo de aplicaciones utilizas en tu ordenador/tableta/móvil? (Respuesta múltiple) [1. Apps de contenidos audiovisuales (Netflix, HBO, etc.)] expresada como valor / cantidad\n"
     ]
    },
    {
     "data": {
      "text/plain": [
       "0    32\n",
       "1     5\n",
       "Name: ¿Qué tipo de aplicaciones utilizas en tu ordenador/tableta/móvil? (Respuesta múltiple) [1. Apps de contenidos audiovisuales (Netflix, HBO, etc.)], dtype: int64"
      ]
     },
     "metadata": {},
     "output_type": "display_data"
    },
    {
     "name": "stdout",
     "output_type": "stream",
     "text": [
      "Porcentaje de cada valor en ¿Qué tipo de aplicaciones utilizas en tu ordenador/tableta/móvil? (Respuesta múltiple) [1. Apps de contenidos audiovisuales (Netflix, HBO, etc.)] expresado como valor / porcentaje\n"
     ]
    },
    {
     "data": {
      "text/plain": [
       "0    86.49\n",
       "1    13.51\n",
       "Name: ¿Qué tipo de aplicaciones utilizas en tu ordenador/tableta/móvil? (Respuesta múltiple) [1. Apps de contenidos audiovisuales (Netflix, HBO, etc.)], dtype: float64"
      ]
     },
     "metadata": {},
     "output_type": "display_data"
    },
    {
     "data": {
      "application/vnd.plotly.v1+json": {
       "config": {
        "linkText": "Export to plot.ly",
        "plotlyServerURL": "https://plot.ly",
        "showLink": false
       },
       "data": [
        {
         "marker": {
          "color": [
           "rgb(213,62,79)",
           "rgb(252,141,89)",
           "rgb(254,224,139)",
           "rgb(230,245,152)",
           "rgb(153,213,148)",
           "rgb(50,136,189)"
          ]
         },
         "type": "bar",
         "uid": "fa4cfbcb-f34e-4017-9123-41839e12a741",
         "x": [
          0,
          1
         ],
         "y": [
          32,
          5
         ]
        }
       ],
       "layout": {
        "bargap": 0.2,
        "xaxis": {
         "ticktext": [
          "No",
          "Sí"
         ],
         "tickvals": [
          0,
          1
         ]
        }
       }
      },
      "text/html": [
       "<div id=\"0b27348b-a401-412d-9a14-43da3503db8b\" style=\"height: 525px; width: 100%;\" class=\"plotly-graph-div\"></div><script type=\"text/javascript\">require([\"plotly\"], function(Plotly) { window.PLOTLYENV=window.PLOTLYENV || {};window.PLOTLYENV.BASE_URL=\"https://plot.ly\";\n",
       "if (document.getElementById(\"0b27348b-a401-412d-9a14-43da3503db8b\")) {\n",
       "    Plotly.newPlot(\"0b27348b-a401-412d-9a14-43da3503db8b\", [{\"marker\": {\"color\": [\"rgb(213,62,79)\", \"rgb(252,141,89)\", \"rgb(254,224,139)\", \"rgb(230,245,152)\", \"rgb(153,213,148)\", \"rgb(50,136,189)\"]}, \"x\": [0, 1], \"y\": [32, 5], \"type\": \"bar\", \"uid\": \"fa4cfbcb-f34e-4017-9123-41839e12a741\"}], {\"bargap\": 0.2, \"xaxis\": {\"ticktext\": [\"No\", \"S\\u00ed\"], \"tickvals\": [0, 1]}}, {\"showLink\": false, \"linkText\": \"Export to plot.ly\", \"plotlyServerURL\": \"https://plot.ly\"}); \n",
       "}\n",
       "});</script><script type=\"text/javascript\">window.addEventListener(\"resize\", function(){if (document.getElementById(\"0b27348b-a401-412d-9a14-43da3503db8b\")) {window._Plotly.Plots.resize(document.getElementById(\"0b27348b-a401-412d-9a14-43da3503db8b\"));};})</script>"
      ],
      "text/vnd.plotly.v1+html": [
       "<div id=\"0b27348b-a401-412d-9a14-43da3503db8b\" style=\"height: 525px; width: 100%;\" class=\"plotly-graph-div\"></div><script type=\"text/javascript\">require([\"plotly\"], function(Plotly) { window.PLOTLYENV=window.PLOTLYENV || {};window.PLOTLYENV.BASE_URL=\"https://plot.ly\";\n",
       "if (document.getElementById(\"0b27348b-a401-412d-9a14-43da3503db8b\")) {\n",
       "    Plotly.newPlot(\"0b27348b-a401-412d-9a14-43da3503db8b\", [{\"marker\": {\"color\": [\"rgb(213,62,79)\", \"rgb(252,141,89)\", \"rgb(254,224,139)\", \"rgb(230,245,152)\", \"rgb(153,213,148)\", \"rgb(50,136,189)\"]}, \"x\": [0, 1], \"y\": [32, 5], \"type\": \"bar\", \"uid\": \"fa4cfbcb-f34e-4017-9123-41839e12a741\"}], {\"bargap\": 0.2, \"xaxis\": {\"ticktext\": [\"No\", \"S\\u00ed\"], \"tickvals\": [0, 1]}}, {\"showLink\": false, \"linkText\": \"Export to plot.ly\", \"plotlyServerURL\": \"https://plot.ly\"}); \n",
       "}\n",
       "});</script><script type=\"text/javascript\">window.addEventListener(\"resize\", function(){if (document.getElementById(\"0b27348b-a401-412d-9a14-43da3503db8b\")) {window._Plotly.Plots.resize(document.getElementById(\"0b27348b-a401-412d-9a14-43da3503db8b\"));};})</script>"
      ]
     },
     "metadata": {},
     "output_type": "display_data"
    },
    {
     "name": "stdout",
     "output_type": "stream",
     "text": [
      "\n",
      "\n",
      "Cluster 1 || variable: ¿Qué tipo de aplicaciones utilizas en tu ordenador/tableta/móvil? (Respuesta múltiple) [2. Aplicaciones de mensajería (Whatsapp, Facebook Messenger, etc.)]\n",
      "Describiendo la pregunta ¿Qué tipo de aplicaciones utilizas en tu ordenador/tableta/móvil? (Respuesta múltiple) [2. Aplicaciones de mensajería (Whatsapp, Facebook Messenger, etc.)]\n",
      "Valores numéricos asociados a las respuestas [0, 1]\n",
      "Respuestas posibles a la pregunta/variable ['No', 'Sí']\n"
     ]
    },
    {
     "data": {
      "text/plain": [
       "count    37.000000\n",
       "mean      0.459459\n",
       "std       0.505228\n",
       "min       0.000000\n",
       "25%       0.000000\n",
       "50%       0.000000\n",
       "75%       1.000000\n",
       "max       1.000000\n",
       "Name: ¿Qué tipo de aplicaciones utilizas en tu ordenador/tableta/móvil? (Respuesta múltiple) [2. Aplicaciones de mensajería (Whatsapp, Facebook Messenger, etc.)], dtype: float64"
      ]
     },
     "metadata": {},
     "output_type": "display_data"
    },
    {
     "name": "stdout",
     "output_type": "stream",
     "text": [
      "Conteo de cada valor en ¿Qué tipo de aplicaciones utilizas en tu ordenador/tableta/móvil? (Respuesta múltiple) [2. Aplicaciones de mensajería (Whatsapp, Facebook Messenger, etc.)] expresada como valor / cantidad\n"
     ]
    },
    {
     "data": {
      "text/plain": [
       "0    20\n",
       "1    17\n",
       "Name: ¿Qué tipo de aplicaciones utilizas en tu ordenador/tableta/móvil? (Respuesta múltiple) [2. Aplicaciones de mensajería (Whatsapp, Facebook Messenger, etc.)], dtype: int64"
      ]
     },
     "metadata": {},
     "output_type": "display_data"
    },
    {
     "name": "stdout",
     "output_type": "stream",
     "text": [
      "Porcentaje de cada valor en ¿Qué tipo de aplicaciones utilizas en tu ordenador/tableta/móvil? (Respuesta múltiple) [2. Aplicaciones de mensajería (Whatsapp, Facebook Messenger, etc.)] expresado como valor / porcentaje\n"
     ]
    },
    {
     "data": {
      "text/plain": [
       "0    54.05\n",
       "1    45.95\n",
       "Name: ¿Qué tipo de aplicaciones utilizas en tu ordenador/tableta/móvil? (Respuesta múltiple) [2. Aplicaciones de mensajería (Whatsapp, Facebook Messenger, etc.)], dtype: float64"
      ]
     },
     "metadata": {},
     "output_type": "display_data"
    },
    {
     "data": {
      "application/vnd.plotly.v1+json": {
       "config": {
        "linkText": "Export to plot.ly",
        "plotlyServerURL": "https://plot.ly",
        "showLink": false
       },
       "data": [
        {
         "marker": {
          "color": [
           "rgb(213,62,79)",
           "rgb(252,141,89)",
           "rgb(254,224,139)",
           "rgb(230,245,152)",
           "rgb(153,213,148)",
           "rgb(50,136,189)"
          ]
         },
         "type": "bar",
         "uid": "32a17c3d-2966-4128-bd73-a5a42a1fe4a2",
         "x": [
          0,
          1
         ],
         "y": [
          20,
          17
         ]
        }
       ],
       "layout": {
        "bargap": 0.2,
        "xaxis": {
         "ticktext": [
          "No",
          "Sí"
         ],
         "tickvals": [
          0,
          1
         ]
        }
       }
      },
      "text/html": [
       "<div id=\"686fb531-c99a-44be-a679-4ed0f0fd3cab\" style=\"height: 525px; width: 100%;\" class=\"plotly-graph-div\"></div><script type=\"text/javascript\">require([\"plotly\"], function(Plotly) { window.PLOTLYENV=window.PLOTLYENV || {};window.PLOTLYENV.BASE_URL=\"https://plot.ly\";\n",
       "if (document.getElementById(\"686fb531-c99a-44be-a679-4ed0f0fd3cab\")) {\n",
       "    Plotly.newPlot(\"686fb531-c99a-44be-a679-4ed0f0fd3cab\", [{\"marker\": {\"color\": [\"rgb(213,62,79)\", \"rgb(252,141,89)\", \"rgb(254,224,139)\", \"rgb(230,245,152)\", \"rgb(153,213,148)\", \"rgb(50,136,189)\"]}, \"x\": [0, 1], \"y\": [20, 17], \"type\": \"bar\", \"uid\": \"32a17c3d-2966-4128-bd73-a5a42a1fe4a2\"}], {\"bargap\": 0.2, \"xaxis\": {\"ticktext\": [\"No\", \"S\\u00ed\"], \"tickvals\": [0, 1]}}, {\"showLink\": false, \"linkText\": \"Export to plot.ly\", \"plotlyServerURL\": \"https://plot.ly\"}); \n",
       "}\n",
       "});</script><script type=\"text/javascript\">window.addEventListener(\"resize\", function(){if (document.getElementById(\"686fb531-c99a-44be-a679-4ed0f0fd3cab\")) {window._Plotly.Plots.resize(document.getElementById(\"686fb531-c99a-44be-a679-4ed0f0fd3cab\"));};})</script>"
      ],
      "text/vnd.plotly.v1+html": [
       "<div id=\"686fb531-c99a-44be-a679-4ed0f0fd3cab\" style=\"height: 525px; width: 100%;\" class=\"plotly-graph-div\"></div><script type=\"text/javascript\">require([\"plotly\"], function(Plotly) { window.PLOTLYENV=window.PLOTLYENV || {};window.PLOTLYENV.BASE_URL=\"https://plot.ly\";\n",
       "if (document.getElementById(\"686fb531-c99a-44be-a679-4ed0f0fd3cab\")) {\n",
       "    Plotly.newPlot(\"686fb531-c99a-44be-a679-4ed0f0fd3cab\", [{\"marker\": {\"color\": [\"rgb(213,62,79)\", \"rgb(252,141,89)\", \"rgb(254,224,139)\", \"rgb(230,245,152)\", \"rgb(153,213,148)\", \"rgb(50,136,189)\"]}, \"x\": [0, 1], \"y\": [20, 17], \"type\": \"bar\", \"uid\": \"32a17c3d-2966-4128-bd73-a5a42a1fe4a2\"}], {\"bargap\": 0.2, \"xaxis\": {\"ticktext\": [\"No\", \"S\\u00ed\"], \"tickvals\": [0, 1]}}, {\"showLink\": false, \"linkText\": \"Export to plot.ly\", \"plotlyServerURL\": \"https://plot.ly\"}); \n",
       "}\n",
       "});</script><script type=\"text/javascript\">window.addEventListener(\"resize\", function(){if (document.getElementById(\"686fb531-c99a-44be-a679-4ed0f0fd3cab\")) {window._Plotly.Plots.resize(document.getElementById(\"686fb531-c99a-44be-a679-4ed0f0fd3cab\"));};})</script>"
      ]
     },
     "metadata": {},
     "output_type": "display_data"
    },
    {
     "name": "stdout",
     "output_type": "stream",
     "text": [
      "\n",
      "\n",
      "Cluster 1 || variable: ¿Qué tipo de aplicaciones utilizas en tu ordenador/tableta/móvil? (Respuesta múltiple) [3. Bibliotecas de fotos online (Google Photos, iPhoto, etc.)]\n",
      "Describiendo la pregunta ¿Qué tipo de aplicaciones utilizas en tu ordenador/tableta/móvil? (Respuesta múltiple) [3. Bibliotecas de fotos online (Google Photos, iPhoto, etc.)]\n",
      "Valores numéricos asociados a las respuestas [0, 1]\n",
      "Respuestas posibles a la pregunta/variable ['No', 'Sí']\n"
     ]
    },
    {
     "data": {
      "text/plain": [
       "count    37.000000\n",
       "mean      0.540541\n",
       "std       0.505228\n",
       "min       0.000000\n",
       "25%       0.000000\n",
       "50%       1.000000\n",
       "75%       1.000000\n",
       "max       1.000000\n",
       "Name: ¿Qué tipo de aplicaciones utilizas en tu ordenador/tableta/móvil? (Respuesta múltiple) [3. Bibliotecas de fotos online (Google Photos, iPhoto, etc.)], dtype: float64"
      ]
     },
     "metadata": {},
     "output_type": "display_data"
    },
    {
     "name": "stdout",
     "output_type": "stream",
     "text": [
      "Conteo de cada valor en ¿Qué tipo de aplicaciones utilizas en tu ordenador/tableta/móvil? (Respuesta múltiple) [3. Bibliotecas de fotos online (Google Photos, iPhoto, etc.)] expresada como valor / cantidad\n"
     ]
    },
    {
     "data": {
      "text/plain": [
       "0    17\n",
       "1    20\n",
       "Name: ¿Qué tipo de aplicaciones utilizas en tu ordenador/tableta/móvil? (Respuesta múltiple) [3. Bibliotecas de fotos online (Google Photos, iPhoto, etc.)], dtype: int64"
      ]
     },
     "metadata": {},
     "output_type": "display_data"
    },
    {
     "name": "stdout",
     "output_type": "stream",
     "text": [
      "Porcentaje de cada valor en ¿Qué tipo de aplicaciones utilizas en tu ordenador/tableta/móvil? (Respuesta múltiple) [3. Bibliotecas de fotos online (Google Photos, iPhoto, etc.)] expresado como valor / porcentaje\n"
     ]
    },
    {
     "data": {
      "text/plain": [
       "0    45.95\n",
       "1    54.05\n",
       "Name: ¿Qué tipo de aplicaciones utilizas en tu ordenador/tableta/móvil? (Respuesta múltiple) [3. Bibliotecas de fotos online (Google Photos, iPhoto, etc.)], dtype: float64"
      ]
     },
     "metadata": {},
     "output_type": "display_data"
    },
    {
     "data": {
      "application/vnd.plotly.v1+json": {
       "config": {
        "linkText": "Export to plot.ly",
        "plotlyServerURL": "https://plot.ly",
        "showLink": false
       },
       "data": [
        {
         "marker": {
          "color": [
           "rgb(213,62,79)",
           "rgb(252,141,89)",
           "rgb(254,224,139)",
           "rgb(230,245,152)",
           "rgb(153,213,148)",
           "rgb(50,136,189)"
          ]
         },
         "type": "bar",
         "uid": "2994b614-7b5f-4e9d-a2e1-00f24562ce65",
         "x": [
          0,
          1
         ],
         "y": [
          17,
          20
         ]
        }
       ],
       "layout": {
        "bargap": 0.2,
        "xaxis": {
         "ticktext": [
          "No",
          "Sí"
         ],
         "tickvals": [
          0,
          1
         ]
        }
       }
      },
      "text/html": [
       "<div id=\"0492019d-d7c0-468c-a2c7-9f85aa2e2392\" style=\"height: 525px; width: 100%;\" class=\"plotly-graph-div\"></div><script type=\"text/javascript\">require([\"plotly\"], function(Plotly) { window.PLOTLYENV=window.PLOTLYENV || {};window.PLOTLYENV.BASE_URL=\"https://plot.ly\";\n",
       "if (document.getElementById(\"0492019d-d7c0-468c-a2c7-9f85aa2e2392\")) {\n",
       "    Plotly.newPlot(\"0492019d-d7c0-468c-a2c7-9f85aa2e2392\", [{\"marker\": {\"color\": [\"rgb(213,62,79)\", \"rgb(252,141,89)\", \"rgb(254,224,139)\", \"rgb(230,245,152)\", \"rgb(153,213,148)\", \"rgb(50,136,189)\"]}, \"x\": [0, 1], \"y\": [17, 20], \"type\": \"bar\", \"uid\": \"2994b614-7b5f-4e9d-a2e1-00f24562ce65\"}], {\"bargap\": 0.2, \"xaxis\": {\"ticktext\": [\"No\", \"S\\u00ed\"], \"tickvals\": [0, 1]}}, {\"showLink\": false, \"linkText\": \"Export to plot.ly\", \"plotlyServerURL\": \"https://plot.ly\"}); \n",
       "}\n",
       "});</script><script type=\"text/javascript\">window.addEventListener(\"resize\", function(){if (document.getElementById(\"0492019d-d7c0-468c-a2c7-9f85aa2e2392\")) {window._Plotly.Plots.resize(document.getElementById(\"0492019d-d7c0-468c-a2c7-9f85aa2e2392\"));};})</script>"
      ],
      "text/vnd.plotly.v1+html": [
       "<div id=\"0492019d-d7c0-468c-a2c7-9f85aa2e2392\" style=\"height: 525px; width: 100%;\" class=\"plotly-graph-div\"></div><script type=\"text/javascript\">require([\"plotly\"], function(Plotly) { window.PLOTLYENV=window.PLOTLYENV || {};window.PLOTLYENV.BASE_URL=\"https://plot.ly\";\n",
       "if (document.getElementById(\"0492019d-d7c0-468c-a2c7-9f85aa2e2392\")) {\n",
       "    Plotly.newPlot(\"0492019d-d7c0-468c-a2c7-9f85aa2e2392\", [{\"marker\": {\"color\": [\"rgb(213,62,79)\", \"rgb(252,141,89)\", \"rgb(254,224,139)\", \"rgb(230,245,152)\", \"rgb(153,213,148)\", \"rgb(50,136,189)\"]}, \"x\": [0, 1], \"y\": [17, 20], \"type\": \"bar\", \"uid\": \"2994b614-7b5f-4e9d-a2e1-00f24562ce65\"}], {\"bargap\": 0.2, \"xaxis\": {\"ticktext\": [\"No\", \"S\\u00ed\"], \"tickvals\": [0, 1]}}, {\"showLink\": false, \"linkText\": \"Export to plot.ly\", \"plotlyServerURL\": \"https://plot.ly\"}); \n",
       "}\n",
       "});</script><script type=\"text/javascript\">window.addEventListener(\"resize\", function(){if (document.getElementById(\"0492019d-d7c0-468c-a2c7-9f85aa2e2392\")) {window._Plotly.Plots.resize(document.getElementById(\"0492019d-d7c0-468c-a2c7-9f85aa2e2392\"));};})</script>"
      ]
     },
     "metadata": {},
     "output_type": "display_data"
    },
    {
     "name": "stdout",
     "output_type": "stream",
     "text": [
      "\n",
      "\n",
      "Cluster 1 || variable: ¿Qué tipo de aplicaciones utilizas en tu ordenador/tableta/móvil? (Respuesta múltiple) [4. Redes sociales (Facebook, Instagram, Twitter, etc.).]\n",
      "Describiendo la pregunta ¿Qué tipo de aplicaciones utilizas en tu ordenador/tableta/móvil? (Respuesta múltiple) [4. Redes sociales (Facebook, Instagram, Twitter, etc.).]\n",
      "Valores numéricos asociados a las respuestas [0, 1]\n",
      "Respuestas posibles a la pregunta/variable ['No', 'Sí']\n"
     ]
    },
    {
     "data": {
      "text/plain": [
       "count    37.000000\n",
       "mean      0.270270\n",
       "std       0.450225\n",
       "min       0.000000\n",
       "25%       0.000000\n",
       "50%       0.000000\n",
       "75%       1.000000\n",
       "max       1.000000\n",
       "Name: ¿Qué tipo de aplicaciones utilizas en tu ordenador/tableta/móvil? (Respuesta múltiple) [4. Redes sociales (Facebook, Instagram, Twitter, etc.).], dtype: float64"
      ]
     },
     "metadata": {},
     "output_type": "display_data"
    },
    {
     "name": "stdout",
     "output_type": "stream",
     "text": [
      "Conteo de cada valor en ¿Qué tipo de aplicaciones utilizas en tu ordenador/tableta/móvil? (Respuesta múltiple) [4. Redes sociales (Facebook, Instagram, Twitter, etc.).] expresada como valor / cantidad\n"
     ]
    },
    {
     "data": {
      "text/plain": [
       "0    27\n",
       "1    10\n",
       "Name: ¿Qué tipo de aplicaciones utilizas en tu ordenador/tableta/móvil? (Respuesta múltiple) [4. Redes sociales (Facebook, Instagram, Twitter, etc.).], dtype: int64"
      ]
     },
     "metadata": {},
     "output_type": "display_data"
    },
    {
     "name": "stdout",
     "output_type": "stream",
     "text": [
      "Porcentaje de cada valor en ¿Qué tipo de aplicaciones utilizas en tu ordenador/tableta/móvil? (Respuesta múltiple) [4. Redes sociales (Facebook, Instagram, Twitter, etc.).] expresado como valor / porcentaje\n"
     ]
    },
    {
     "data": {
      "text/plain": [
       "0    72.97\n",
       "1    27.03\n",
       "Name: ¿Qué tipo de aplicaciones utilizas en tu ordenador/tableta/móvil? (Respuesta múltiple) [4. Redes sociales (Facebook, Instagram, Twitter, etc.).], dtype: float64"
      ]
     },
     "metadata": {},
     "output_type": "display_data"
    },
    {
     "data": {
      "application/vnd.plotly.v1+json": {
       "config": {
        "linkText": "Export to plot.ly",
        "plotlyServerURL": "https://plot.ly",
        "showLink": false
       },
       "data": [
        {
         "marker": {
          "color": [
           "rgb(213,62,79)",
           "rgb(252,141,89)",
           "rgb(254,224,139)",
           "rgb(230,245,152)",
           "rgb(153,213,148)",
           "rgb(50,136,189)"
          ]
         },
         "type": "bar",
         "uid": "840f53c9-6b3a-414b-a484-a3e5d0545d02",
         "x": [
          0,
          1
         ],
         "y": [
          27,
          10
         ]
        }
       ],
       "layout": {
        "bargap": 0.2,
        "xaxis": {
         "ticktext": [
          "No",
          "Sí"
         ],
         "tickvals": [
          0,
          1
         ]
        }
       }
      },
      "text/html": [
       "<div id=\"989761e9-130a-4680-a577-bd3b27275261\" style=\"height: 525px; width: 100%;\" class=\"plotly-graph-div\"></div><script type=\"text/javascript\">require([\"plotly\"], function(Plotly) { window.PLOTLYENV=window.PLOTLYENV || {};window.PLOTLYENV.BASE_URL=\"https://plot.ly\";\n",
       "if (document.getElementById(\"989761e9-130a-4680-a577-bd3b27275261\")) {\n",
       "    Plotly.newPlot(\"989761e9-130a-4680-a577-bd3b27275261\", [{\"marker\": {\"color\": [\"rgb(213,62,79)\", \"rgb(252,141,89)\", \"rgb(254,224,139)\", \"rgb(230,245,152)\", \"rgb(153,213,148)\", \"rgb(50,136,189)\"]}, \"x\": [0, 1], \"y\": [27, 10], \"type\": \"bar\", \"uid\": \"840f53c9-6b3a-414b-a484-a3e5d0545d02\"}], {\"bargap\": 0.2, \"xaxis\": {\"ticktext\": [\"No\", \"S\\u00ed\"], \"tickvals\": [0, 1]}}, {\"showLink\": false, \"linkText\": \"Export to plot.ly\", \"plotlyServerURL\": \"https://plot.ly\"}); \n",
       "}\n",
       "});</script><script type=\"text/javascript\">window.addEventListener(\"resize\", function(){if (document.getElementById(\"989761e9-130a-4680-a577-bd3b27275261\")) {window._Plotly.Plots.resize(document.getElementById(\"989761e9-130a-4680-a577-bd3b27275261\"));};})</script>"
      ],
      "text/vnd.plotly.v1+html": [
       "<div id=\"989761e9-130a-4680-a577-bd3b27275261\" style=\"height: 525px; width: 100%;\" class=\"plotly-graph-div\"></div><script type=\"text/javascript\">require([\"plotly\"], function(Plotly) { window.PLOTLYENV=window.PLOTLYENV || {};window.PLOTLYENV.BASE_URL=\"https://plot.ly\";\n",
       "if (document.getElementById(\"989761e9-130a-4680-a577-bd3b27275261\")) {\n",
       "    Plotly.newPlot(\"989761e9-130a-4680-a577-bd3b27275261\", [{\"marker\": {\"color\": [\"rgb(213,62,79)\", \"rgb(252,141,89)\", \"rgb(254,224,139)\", \"rgb(230,245,152)\", \"rgb(153,213,148)\", \"rgb(50,136,189)\"]}, \"x\": [0, 1], \"y\": [27, 10], \"type\": \"bar\", \"uid\": \"840f53c9-6b3a-414b-a484-a3e5d0545d02\"}], {\"bargap\": 0.2, \"xaxis\": {\"ticktext\": [\"No\", \"S\\u00ed\"], \"tickvals\": [0, 1]}}, {\"showLink\": false, \"linkText\": \"Export to plot.ly\", \"plotlyServerURL\": \"https://plot.ly\"}); \n",
       "}\n",
       "});</script><script type=\"text/javascript\">window.addEventListener(\"resize\", function(){if (document.getElementById(\"989761e9-130a-4680-a577-bd3b27275261\")) {window._Plotly.Plots.resize(document.getElementById(\"989761e9-130a-4680-a577-bd3b27275261\"));};})</script>"
      ]
     },
     "metadata": {},
     "output_type": "display_data"
    },
    {
     "name": "stdout",
     "output_type": "stream",
     "text": [
      "\n",
      "\n",
      "Cluster 1 || variable: ¿Qué tipo de aplicaciones utilizas en tu ordenador/tableta/móvil? (Respuesta múltiple) [5. Aplicaciones de vídeo (Youtube, Vimeo, etc.).]\n",
      "Describiendo la pregunta ¿Qué tipo de aplicaciones utilizas en tu ordenador/tableta/móvil? (Respuesta múltiple) [5. Aplicaciones de vídeo (Youtube, Vimeo, etc.).]\n",
      "Valores numéricos asociados a las respuestas [0, 1]\n",
      "Respuestas posibles a la pregunta/variable ['No', 'Sí']\n"
     ]
    },
    {
     "data": {
      "text/plain": [
       "count    37.000000\n",
       "mean      0.108108\n",
       "std       0.314800\n",
       "min       0.000000\n",
       "25%       0.000000\n",
       "50%       0.000000\n",
       "75%       0.000000\n",
       "max       1.000000\n",
       "Name: ¿Qué tipo de aplicaciones utilizas en tu ordenador/tableta/móvil? (Respuesta múltiple) [5. Aplicaciones de vídeo (Youtube, Vimeo, etc.).], dtype: float64"
      ]
     },
     "metadata": {},
     "output_type": "display_data"
    },
    {
     "name": "stdout",
     "output_type": "stream",
     "text": [
      "Conteo de cada valor en ¿Qué tipo de aplicaciones utilizas en tu ordenador/tableta/móvil? (Respuesta múltiple) [5. Aplicaciones de vídeo (Youtube, Vimeo, etc.).] expresada como valor / cantidad\n"
     ]
    },
    {
     "data": {
      "text/plain": [
       "0    33\n",
       "1     4\n",
       "Name: ¿Qué tipo de aplicaciones utilizas en tu ordenador/tableta/móvil? (Respuesta múltiple) [5. Aplicaciones de vídeo (Youtube, Vimeo, etc.).], dtype: int64"
      ]
     },
     "metadata": {},
     "output_type": "display_data"
    },
    {
     "name": "stdout",
     "output_type": "stream",
     "text": [
      "Porcentaje de cada valor en ¿Qué tipo de aplicaciones utilizas en tu ordenador/tableta/móvil? (Respuesta múltiple) [5. Aplicaciones de vídeo (Youtube, Vimeo, etc.).] expresado como valor / porcentaje\n"
     ]
    },
    {
     "data": {
      "text/plain": [
       "0    89.19\n",
       "1    10.81\n",
       "Name: ¿Qué tipo de aplicaciones utilizas en tu ordenador/tableta/móvil? (Respuesta múltiple) [5. Aplicaciones de vídeo (Youtube, Vimeo, etc.).], dtype: float64"
      ]
     },
     "metadata": {},
     "output_type": "display_data"
    },
    {
     "data": {
      "application/vnd.plotly.v1+json": {
       "config": {
        "linkText": "Export to plot.ly",
        "plotlyServerURL": "https://plot.ly",
        "showLink": false
       },
       "data": [
        {
         "marker": {
          "color": [
           "rgb(213,62,79)",
           "rgb(252,141,89)",
           "rgb(254,224,139)",
           "rgb(230,245,152)",
           "rgb(153,213,148)",
           "rgb(50,136,189)"
          ]
         },
         "type": "bar",
         "uid": "b375b9e5-d555-4e1e-8133-ce27ac3ddb75",
         "x": [
          0,
          1
         ],
         "y": [
          33,
          4
         ]
        }
       ],
       "layout": {
        "bargap": 0.2,
        "xaxis": {
         "ticktext": [
          "No",
          "Sí"
         ],
         "tickvals": [
          0,
          1
         ]
        }
       }
      },
      "text/html": [
       "<div id=\"6ba60293-b2e9-4fde-89e6-6bce6718a419\" style=\"height: 525px; width: 100%;\" class=\"plotly-graph-div\"></div><script type=\"text/javascript\">require([\"plotly\"], function(Plotly) { window.PLOTLYENV=window.PLOTLYENV || {};window.PLOTLYENV.BASE_URL=\"https://plot.ly\";\n",
       "if (document.getElementById(\"6ba60293-b2e9-4fde-89e6-6bce6718a419\")) {\n",
       "    Plotly.newPlot(\"6ba60293-b2e9-4fde-89e6-6bce6718a419\", [{\"marker\": {\"color\": [\"rgb(213,62,79)\", \"rgb(252,141,89)\", \"rgb(254,224,139)\", \"rgb(230,245,152)\", \"rgb(153,213,148)\", \"rgb(50,136,189)\"]}, \"x\": [0, 1], \"y\": [33, 4], \"type\": \"bar\", \"uid\": \"b375b9e5-d555-4e1e-8133-ce27ac3ddb75\"}], {\"bargap\": 0.2, \"xaxis\": {\"ticktext\": [\"No\", \"S\\u00ed\"], \"tickvals\": [0, 1]}}, {\"showLink\": false, \"linkText\": \"Export to plot.ly\", \"plotlyServerURL\": \"https://plot.ly\"}); \n",
       "}\n",
       "});</script><script type=\"text/javascript\">window.addEventListener(\"resize\", function(){if (document.getElementById(\"6ba60293-b2e9-4fde-89e6-6bce6718a419\")) {window._Plotly.Plots.resize(document.getElementById(\"6ba60293-b2e9-4fde-89e6-6bce6718a419\"));};})</script>"
      ],
      "text/vnd.plotly.v1+html": [
       "<div id=\"6ba60293-b2e9-4fde-89e6-6bce6718a419\" style=\"height: 525px; width: 100%;\" class=\"plotly-graph-div\"></div><script type=\"text/javascript\">require([\"plotly\"], function(Plotly) { window.PLOTLYENV=window.PLOTLYENV || {};window.PLOTLYENV.BASE_URL=\"https://plot.ly\";\n",
       "if (document.getElementById(\"6ba60293-b2e9-4fde-89e6-6bce6718a419\")) {\n",
       "    Plotly.newPlot(\"6ba60293-b2e9-4fde-89e6-6bce6718a419\", [{\"marker\": {\"color\": [\"rgb(213,62,79)\", \"rgb(252,141,89)\", \"rgb(254,224,139)\", \"rgb(230,245,152)\", \"rgb(153,213,148)\", \"rgb(50,136,189)\"]}, \"x\": [0, 1], \"y\": [33, 4], \"type\": \"bar\", \"uid\": \"b375b9e5-d555-4e1e-8133-ce27ac3ddb75\"}], {\"bargap\": 0.2, \"xaxis\": {\"ticktext\": [\"No\", \"S\\u00ed\"], \"tickvals\": [0, 1]}}, {\"showLink\": false, \"linkText\": \"Export to plot.ly\", \"plotlyServerURL\": \"https://plot.ly\"}); \n",
       "}\n",
       "});</script><script type=\"text/javascript\">window.addEventListener(\"resize\", function(){if (document.getElementById(\"6ba60293-b2e9-4fde-89e6-6bce6718a419\")) {window._Plotly.Plots.resize(document.getElementById(\"6ba60293-b2e9-4fde-89e6-6bce6718a419\"));};})</script>"
      ]
     },
     "metadata": {},
     "output_type": "display_data"
    },
    {
     "name": "stdout",
     "output_type": "stream",
     "text": [
      "\n",
      "\n",
      "Cluster 1 || variable: ¿Qué tipo de aplicaciones utilizas en tu ordenador/tableta/móvil? (Respuesta múltiple) [Otro]\n",
      "Describiendo la pregunta ¿Qué tipo de aplicaciones utilizas en tu ordenador/tableta/móvil? (Respuesta múltiple) [Otro]\n",
      "\n",
      "\n",
      "Cluster 1 || variable: Durante ese uso, ¿cuántas imágenes consumes (ves y compartes)?\n",
      "Describiendo la pregunta Durante ese uso, ¿cuántas imágenes consumes (ves y compartes)?\n",
      "Valores numéricos asociados a las respuestas [1, 2, 3, 4, 5]\n",
      "Respuestas posibles a la pregunta/variable ['1. Ninguna', '2. Pocas', '3. Ni muchas ni pocas', '4. Bastantes', '5. Recibo y envio imágenes de forma constante']\n"
     ]
    },
    {
     "data": {
      "text/plain": [
       "count    37.000000\n",
       "mean      3.081081\n",
       "std       0.862116\n",
       "min       1.000000\n",
       "25%       3.000000\n",
       "50%       3.000000\n",
       "75%       4.000000\n",
       "max       5.000000\n",
       "Name: Durante ese uso, ¿cuántas imágenes consumes (ves y compartes)?, dtype: float64"
      ]
     },
     "metadata": {},
     "output_type": "display_data"
    },
    {
     "name": "stdout",
     "output_type": "stream",
     "text": [
      "Conteo de cada valor en Durante ese uso, ¿cuántas imágenes consumes (ves y compartes)? expresada como valor / cantidad\n"
     ]
    },
    {
     "data": {
      "text/plain": [
       "1     1\n",
       "2     8\n",
       "3    16\n",
       "4    11\n",
       "5     1\n",
       "Name: Durante ese uso, ¿cuántas imágenes consumes (ves y compartes)?, dtype: int64"
      ]
     },
     "metadata": {},
     "output_type": "display_data"
    },
    {
     "name": "stdout",
     "output_type": "stream",
     "text": [
      "Porcentaje de cada valor en Durante ese uso, ¿cuántas imágenes consumes (ves y compartes)? expresado como valor / porcentaje\n"
     ]
    },
    {
     "data": {
      "text/plain": [
       "1     2.70\n",
       "2    21.62\n",
       "3    43.24\n",
       "4    29.73\n",
       "5     2.70\n",
       "Name: Durante ese uso, ¿cuántas imágenes consumes (ves y compartes)?, dtype: float64"
      ]
     },
     "metadata": {},
     "output_type": "display_data"
    },
    {
     "data": {
      "application/vnd.plotly.v1+json": {
       "config": {
        "linkText": "Export to plot.ly",
        "plotlyServerURL": "https://plot.ly",
        "showLink": false
       },
       "data": [
        {
         "marker": {
          "color": [
           "rgb(213,62,79)",
           "rgb(252,141,89)",
           "rgb(254,224,139)",
           "rgb(230,245,152)",
           "rgb(153,213,148)",
           "rgb(50,136,189)"
          ]
         },
         "type": "bar",
         "uid": "cd9fb8a2-36ec-47d9-aedd-daec83766b9e",
         "x": [
          1,
          2,
          3,
          4,
          5
         ],
         "y": [
          1,
          8,
          16,
          11,
          1
         ]
        }
       ],
       "layout": {
        "bargap": 0.2,
        "xaxis": {
         "ticktext": [
          "1. Ninguna",
          "2. Pocas",
          "3. Ni muchas ni pocas",
          "4. Bastantes",
          "5. Recibo y envio imágenes de forma constante"
         ],
         "tickvals": [
          1,
          2,
          3,
          4,
          5
         ]
        }
       }
      },
      "text/html": [
       "<div id=\"58d1152a-3e7e-4c9d-b2ae-216409a62f4a\" style=\"height: 525px; width: 100%;\" class=\"plotly-graph-div\"></div><script type=\"text/javascript\">require([\"plotly\"], function(Plotly) { window.PLOTLYENV=window.PLOTLYENV || {};window.PLOTLYENV.BASE_URL=\"https://plot.ly\";\n",
       "if (document.getElementById(\"58d1152a-3e7e-4c9d-b2ae-216409a62f4a\")) {\n",
       "    Plotly.newPlot(\"58d1152a-3e7e-4c9d-b2ae-216409a62f4a\", [{\"marker\": {\"color\": [\"rgb(213,62,79)\", \"rgb(252,141,89)\", \"rgb(254,224,139)\", \"rgb(230,245,152)\", \"rgb(153,213,148)\", \"rgb(50,136,189)\"]}, \"x\": [1, 2, 3, 4, 5], \"y\": [1, 8, 16, 11, 1], \"type\": \"bar\", \"uid\": \"cd9fb8a2-36ec-47d9-aedd-daec83766b9e\"}], {\"bargap\": 0.2, \"xaxis\": {\"ticktext\": [\"1. Ninguna\", \"2. Pocas\", \"3. Ni muchas ni pocas\", \"4. Bastantes\", \"5. Recibo y envio im\\u00e1genes de forma constante\"], \"tickvals\": [1, 2, 3, 4, 5]}}, {\"showLink\": false, \"linkText\": \"Export to plot.ly\", \"plotlyServerURL\": \"https://plot.ly\"}); \n",
       "}\n",
       "});</script><script type=\"text/javascript\">window.addEventListener(\"resize\", function(){if (document.getElementById(\"58d1152a-3e7e-4c9d-b2ae-216409a62f4a\")) {window._Plotly.Plots.resize(document.getElementById(\"58d1152a-3e7e-4c9d-b2ae-216409a62f4a\"));};})</script>"
      ],
      "text/vnd.plotly.v1+html": [
       "<div id=\"58d1152a-3e7e-4c9d-b2ae-216409a62f4a\" style=\"height: 525px; width: 100%;\" class=\"plotly-graph-div\"></div><script type=\"text/javascript\">require([\"plotly\"], function(Plotly) { window.PLOTLYENV=window.PLOTLYENV || {};window.PLOTLYENV.BASE_URL=\"https://plot.ly\";\n",
       "if (document.getElementById(\"58d1152a-3e7e-4c9d-b2ae-216409a62f4a\")) {\n",
       "    Plotly.newPlot(\"58d1152a-3e7e-4c9d-b2ae-216409a62f4a\", [{\"marker\": {\"color\": [\"rgb(213,62,79)\", \"rgb(252,141,89)\", \"rgb(254,224,139)\", \"rgb(230,245,152)\", \"rgb(153,213,148)\", \"rgb(50,136,189)\"]}, \"x\": [1, 2, 3, 4, 5], \"y\": [1, 8, 16, 11, 1], \"type\": \"bar\", \"uid\": \"cd9fb8a2-36ec-47d9-aedd-daec83766b9e\"}], {\"bargap\": 0.2, \"xaxis\": {\"ticktext\": [\"1. Ninguna\", \"2. Pocas\", \"3. Ni muchas ni pocas\", \"4. Bastantes\", \"5. Recibo y envio im\\u00e1genes de forma constante\"], \"tickvals\": [1, 2, 3, 4, 5]}}, {\"showLink\": false, \"linkText\": \"Export to plot.ly\", \"plotlyServerURL\": \"https://plot.ly\"}); \n",
       "}\n",
       "});</script><script type=\"text/javascript\">window.addEventListener(\"resize\", function(){if (document.getElementById(\"58d1152a-3e7e-4c9d-b2ae-216409a62f4a\")) {window._Plotly.Plots.resize(document.getElementById(\"58d1152a-3e7e-4c9d-b2ae-216409a62f4a\"));};})</script>"
      ]
     },
     "metadata": {},
     "output_type": "display_data"
    },
    {
     "name": "stdout",
     "output_type": "stream",
     "text": [
      "\n",
      "\n",
      "Cluster 1 || variable: ¿Cuál es tu herramienta habitual de consumo de imágenes?\n",
      "Describiendo la pregunta ¿Cuál es tu herramienta habitual de consumo de imágenes?\n",
      "Valores numéricos asociados a las respuestas [1, 2, 3, 4, 5]\n",
      "Respuestas posibles a la pregunta/variable ['1. Móvil', '2. Televisión', '3. Ordenador', '4. Tableta', '5. Otros (Libros y periódicos en papel, marquesinas, museos...)']\n"
     ]
    },
    {
     "data": {
      "text/plain": [
       "count    37.000000\n",
       "mean      2.459459\n",
       "std       0.900450\n",
       "min       1.000000\n",
       "25%       2.000000\n",
       "50%       3.000000\n",
       "75%       3.000000\n",
       "max       4.000000\n",
       "Name: ¿Cuál es tu herramienta habitual de consumo de imágenes?, dtype: float64"
      ]
     },
     "metadata": {},
     "output_type": "display_data"
    },
    {
     "name": "stdout",
     "output_type": "stream",
     "text": [
      "Conteo de cada valor en ¿Cuál es tu herramienta habitual de consumo de imágenes? expresada como valor / cantidad\n"
     ]
    },
    {
     "data": {
      "text/plain": [
       "1     8\n",
       "2     6\n",
       "3    21\n",
       "4     2\n",
       "Name: ¿Cuál es tu herramienta habitual de consumo de imágenes?, dtype: int64"
      ]
     },
     "metadata": {},
     "output_type": "display_data"
    },
    {
     "name": "stdout",
     "output_type": "stream",
     "text": [
      "Porcentaje de cada valor en ¿Cuál es tu herramienta habitual de consumo de imágenes? expresado como valor / porcentaje\n"
     ]
    },
    {
     "data": {
      "text/plain": [
       "1    21.62\n",
       "2    16.22\n",
       "3    56.76\n",
       "4     5.41\n",
       "Name: ¿Cuál es tu herramienta habitual de consumo de imágenes?, dtype: float64"
      ]
     },
     "metadata": {},
     "output_type": "display_data"
    },
    {
     "data": {
      "application/vnd.plotly.v1+json": {
       "config": {
        "linkText": "Export to plot.ly",
        "plotlyServerURL": "https://plot.ly",
        "showLink": false
       },
       "data": [
        {
         "marker": {
          "color": [
           "rgb(213,62,79)",
           "rgb(252,141,89)",
           "rgb(254,224,139)",
           "rgb(230,245,152)",
           "rgb(153,213,148)",
           "rgb(50,136,189)"
          ]
         },
         "type": "bar",
         "uid": "e7d5629b-9890-4e17-a163-ee221b39deaa",
         "x": [
          1,
          2,
          3,
          4
         ],
         "y": [
          8,
          6,
          21,
          2
         ]
        }
       ],
       "layout": {
        "bargap": 0.2,
        "xaxis": {
         "ticktext": [
          "1. Móvil",
          "2. Televisión",
          "3. Ordenador",
          "4. Tableta",
          "5. Otros (Libros y periódicos en papel, marquesinas, museos...)"
         ],
         "tickvals": [
          1,
          2,
          3,
          4,
          5
         ]
        }
       }
      },
      "text/html": [
       "<div id=\"0c835edf-4fbb-454b-8ce5-58256c3f184d\" style=\"height: 525px; width: 100%;\" class=\"plotly-graph-div\"></div><script type=\"text/javascript\">require([\"plotly\"], function(Plotly) { window.PLOTLYENV=window.PLOTLYENV || {};window.PLOTLYENV.BASE_URL=\"https://plot.ly\";\n",
       "if (document.getElementById(\"0c835edf-4fbb-454b-8ce5-58256c3f184d\")) {\n",
       "    Plotly.newPlot(\"0c835edf-4fbb-454b-8ce5-58256c3f184d\", [{\"marker\": {\"color\": [\"rgb(213,62,79)\", \"rgb(252,141,89)\", \"rgb(254,224,139)\", \"rgb(230,245,152)\", \"rgb(153,213,148)\", \"rgb(50,136,189)\"]}, \"x\": [1, 2, 3, 4], \"y\": [8, 6, 21, 2], \"type\": \"bar\", \"uid\": \"e7d5629b-9890-4e17-a163-ee221b39deaa\"}], {\"bargap\": 0.2, \"xaxis\": {\"ticktext\": [\"1. M\\u00f3vil\", \"2. Televisi\\u00f3n\", \"3. Ordenador\", \"4. Tableta\", \"5. Otros (Libros y peri\\u00f3dicos en papel, marquesinas, museos...)\"], \"tickvals\": [1, 2, 3, 4, 5]}}, {\"showLink\": false, \"linkText\": \"Export to plot.ly\", \"plotlyServerURL\": \"https://plot.ly\"}); \n",
       "}\n",
       "});</script><script type=\"text/javascript\">window.addEventListener(\"resize\", function(){if (document.getElementById(\"0c835edf-4fbb-454b-8ce5-58256c3f184d\")) {window._Plotly.Plots.resize(document.getElementById(\"0c835edf-4fbb-454b-8ce5-58256c3f184d\"));};})</script>"
      ],
      "text/vnd.plotly.v1+html": [
       "<div id=\"0c835edf-4fbb-454b-8ce5-58256c3f184d\" style=\"height: 525px; width: 100%;\" class=\"plotly-graph-div\"></div><script type=\"text/javascript\">require([\"plotly\"], function(Plotly) { window.PLOTLYENV=window.PLOTLYENV || {};window.PLOTLYENV.BASE_URL=\"https://plot.ly\";\n",
       "if (document.getElementById(\"0c835edf-4fbb-454b-8ce5-58256c3f184d\")) {\n",
       "    Plotly.newPlot(\"0c835edf-4fbb-454b-8ce5-58256c3f184d\", [{\"marker\": {\"color\": [\"rgb(213,62,79)\", \"rgb(252,141,89)\", \"rgb(254,224,139)\", \"rgb(230,245,152)\", \"rgb(153,213,148)\", \"rgb(50,136,189)\"]}, \"x\": [1, 2, 3, 4], \"y\": [8, 6, 21, 2], \"type\": \"bar\", \"uid\": \"e7d5629b-9890-4e17-a163-ee221b39deaa\"}], {\"bargap\": 0.2, \"xaxis\": {\"ticktext\": [\"1. M\\u00f3vil\", \"2. Televisi\\u00f3n\", \"3. Ordenador\", \"4. Tableta\", \"5. Otros (Libros y peri\\u00f3dicos en papel, marquesinas, museos...)\"], \"tickvals\": [1, 2, 3, 4, 5]}}, {\"showLink\": false, \"linkText\": \"Export to plot.ly\", \"plotlyServerURL\": \"https://plot.ly\"}); \n",
       "}\n",
       "});</script><script type=\"text/javascript\">window.addEventListener(\"resize\", function(){if (document.getElementById(\"0c835edf-4fbb-454b-8ce5-58256c3f184d\")) {window._Plotly.Plots.resize(document.getElementById(\"0c835edf-4fbb-454b-8ce5-58256c3f184d\"));};})</script>"
      ]
     },
     "metadata": {},
     "output_type": "display_data"
    },
    {
     "name": "stdout",
     "output_type": "stream",
     "text": [
      "\n",
      "\n",
      "Cluster 1 || variable: ¿Cada cuánto tiempo consumes imágenes?\n",
      "Describiendo la pregunta ¿Cada cuánto tiempo consumes imágenes?\n",
      "Valores numéricos asociados a las respuestas [1, 2, 3, 4]\n",
      "Respuestas posibles a la pregunta/variable ['1. Nunca', '2. Dos o tres veces por semana', '3. Casi todos los días', '4. A diario']\n"
     ]
    },
    {
     "data": {
      "text/plain": [
       "count    37.000000\n",
       "mean      2.297297\n",
       "std       0.661012\n",
       "min       1.000000\n",
       "25%       2.000000\n",
       "50%       2.000000\n",
       "75%       3.000000\n",
       "max       4.000000\n",
       "Name: ¿Cada cuánto tiempo consumes imágenes?, dtype: float64"
      ]
     },
     "metadata": {},
     "output_type": "display_data"
    },
    {
     "name": "stdout",
     "output_type": "stream",
     "text": [
      "Conteo de cada valor en ¿Cada cuánto tiempo consumes imágenes? expresada como valor / cantidad\n"
     ]
    },
    {
     "data": {
      "text/plain": [
       "1     3\n",
       "2    21\n",
       "3    12\n",
       "4     1\n",
       "Name: ¿Cada cuánto tiempo consumes imágenes?, dtype: int64"
      ]
     },
     "metadata": {},
     "output_type": "display_data"
    },
    {
     "name": "stdout",
     "output_type": "stream",
     "text": [
      "Porcentaje de cada valor en ¿Cada cuánto tiempo consumes imágenes? expresado como valor / porcentaje\n"
     ]
    },
    {
     "data": {
      "text/plain": [
       "1     8.11\n",
       "2    56.76\n",
       "3    32.43\n",
       "4     2.70\n",
       "Name: ¿Cada cuánto tiempo consumes imágenes?, dtype: float64"
      ]
     },
     "metadata": {},
     "output_type": "display_data"
    },
    {
     "data": {
      "application/vnd.plotly.v1+json": {
       "config": {
        "linkText": "Export to plot.ly",
        "plotlyServerURL": "https://plot.ly",
        "showLink": false
       },
       "data": [
        {
         "marker": {
          "color": [
           "rgb(213,62,79)",
           "rgb(252,141,89)",
           "rgb(254,224,139)",
           "rgb(230,245,152)",
           "rgb(153,213,148)",
           "rgb(50,136,189)"
          ]
         },
         "type": "bar",
         "uid": "1e537d18-12a6-49fa-b56b-0157d0aa635a",
         "x": [
          1,
          2,
          3,
          4
         ],
         "y": [
          3,
          21,
          12,
          1
         ]
        }
       ],
       "layout": {
        "bargap": 0.2,
        "xaxis": {
         "ticktext": [
          "1. Nunca",
          "2. Dos o tres veces por semana",
          "3. Casi todos los días",
          "4. A diario"
         ],
         "tickvals": [
          1,
          2,
          3,
          4
         ]
        }
       }
      },
      "text/html": [
       "<div id=\"54ad7fc1-622f-4355-b2a3-3d64c6a52a0d\" style=\"height: 525px; width: 100%;\" class=\"plotly-graph-div\"></div><script type=\"text/javascript\">require([\"plotly\"], function(Plotly) { window.PLOTLYENV=window.PLOTLYENV || {};window.PLOTLYENV.BASE_URL=\"https://plot.ly\";\n",
       "if (document.getElementById(\"54ad7fc1-622f-4355-b2a3-3d64c6a52a0d\")) {\n",
       "    Plotly.newPlot(\"54ad7fc1-622f-4355-b2a3-3d64c6a52a0d\", [{\"marker\": {\"color\": [\"rgb(213,62,79)\", \"rgb(252,141,89)\", \"rgb(254,224,139)\", \"rgb(230,245,152)\", \"rgb(153,213,148)\", \"rgb(50,136,189)\"]}, \"x\": [1, 2, 3, 4], \"y\": [3, 21, 12, 1], \"type\": \"bar\", \"uid\": \"1e537d18-12a6-49fa-b56b-0157d0aa635a\"}], {\"bargap\": 0.2, \"xaxis\": {\"ticktext\": [\"1. Nunca\", \"2. Dos o tres veces por semana\", \"3. Casi todos los d\\u00edas\", \"4. A diario\"], \"tickvals\": [1, 2, 3, 4]}}, {\"showLink\": false, \"linkText\": \"Export to plot.ly\", \"plotlyServerURL\": \"https://plot.ly\"}); \n",
       "}\n",
       "});</script><script type=\"text/javascript\">window.addEventListener(\"resize\", function(){if (document.getElementById(\"54ad7fc1-622f-4355-b2a3-3d64c6a52a0d\")) {window._Plotly.Plots.resize(document.getElementById(\"54ad7fc1-622f-4355-b2a3-3d64c6a52a0d\"));};})</script>"
      ],
      "text/vnd.plotly.v1+html": [
       "<div id=\"54ad7fc1-622f-4355-b2a3-3d64c6a52a0d\" style=\"height: 525px; width: 100%;\" class=\"plotly-graph-div\"></div><script type=\"text/javascript\">require([\"plotly\"], function(Plotly) { window.PLOTLYENV=window.PLOTLYENV || {};window.PLOTLYENV.BASE_URL=\"https://plot.ly\";\n",
       "if (document.getElementById(\"54ad7fc1-622f-4355-b2a3-3d64c6a52a0d\")) {\n",
       "    Plotly.newPlot(\"54ad7fc1-622f-4355-b2a3-3d64c6a52a0d\", [{\"marker\": {\"color\": [\"rgb(213,62,79)\", \"rgb(252,141,89)\", \"rgb(254,224,139)\", \"rgb(230,245,152)\", \"rgb(153,213,148)\", \"rgb(50,136,189)\"]}, \"x\": [1, 2, 3, 4], \"y\": [3, 21, 12, 1], \"type\": \"bar\", \"uid\": \"1e537d18-12a6-49fa-b56b-0157d0aa635a\"}], {\"bargap\": 0.2, \"xaxis\": {\"ticktext\": [\"1. Nunca\", \"2. Dos o tres veces por semana\", \"3. Casi todos los d\\u00edas\", \"4. A diario\"], \"tickvals\": [1, 2, 3, 4]}}, {\"showLink\": false, \"linkText\": \"Export to plot.ly\", \"plotlyServerURL\": \"https://plot.ly\"}); \n",
       "}\n",
       "});</script><script type=\"text/javascript\">window.addEventListener(\"resize\", function(){if (document.getElementById(\"54ad7fc1-622f-4355-b2a3-3d64c6a52a0d\")) {window._Plotly.Plots.resize(document.getElementById(\"54ad7fc1-622f-4355-b2a3-3d64c6a52a0d\"));};})</script>"
      ]
     },
     "metadata": {},
     "output_type": "display_data"
    }
   ],
   "source": [
    "visualize_reception_images_by_prosume_clusters_esp(dataframe_with_clusters_esp)"
   ]
  },
  {
   "cell_type": "code",
   "execution_count": 10,
   "metadata": {
    "scrolled": false
   },
   "outputs": [],
   "source": [
    "# visualize_reception_images_by_prosume_clusters_en(dataframe_with_clusters_en)"
   ]
  },
  {
   "cell_type": "code",
   "execution_count": 11,
   "metadata": {
    "scrolled": false
   },
   "outputs": [
    {
     "name": "stdout",
     "output_type": "stream",
     "text": [
      "Comparando la pregunta Clasifica tu grado de visión\n"
     ]
    },
    {
     "data": {
      "application/vnd.plotly.v1+json": {
       "config": {
        "linkText": "Export to plot.ly",
        "plotlyServerURL": "https://plot.ly",
        "showLink": false
       },
       "data": [
        {
         "hovertemplate": "Clasifica tu grado de visión=1. Muy malo<br>counts=%{r}<br>prosume_cluster=%{theta}<extra></extra>",
         "legendgroup": "Clasifica tu grado de visión=1. Muy malo",
         "marker": {
          "color": "rgb(213,62,79)"
         },
         "name": "Clasifica tu grado de visión=1. Muy malo",
         "r": [
          2,
          2
         ],
         "showlegend": true,
         "theta": [
          "cluster_2",
          "cluster_4"
         ],
         "type": "barpolar",
         "uid": "0eb0e71f-8777-4439-bfee-50294da93f16"
        },
        {
         "hovertemplate": "Clasifica tu grado de visión=2. Malo<br>counts=%{r}<br>prosume_cluster=%{theta}<extra></extra>",
         "legendgroup": "Clasifica tu grado de visión=2. Malo",
         "marker": {
          "color": "rgb(252,141,89)"
         },
         "name": "Clasifica tu grado de visión=2. Malo",
         "r": [
          4,
          16,
          8
         ],
         "showlegend": true,
         "theta": [
          "cluster_2",
          "cluster_4",
          "cluster_5"
         ],
         "type": "barpolar",
         "uid": "cf641a8d-b063-45e1-af64-0f893a9923f1"
        },
        {
         "hovertemplate": "Clasifica tu grado de visión=3. Regular<br>counts=%{r}<br>prosume_cluster=%{theta}<extra></extra>",
         "legendgroup": "Clasifica tu grado de visión=3. Regular",
         "marker": {
          "color": "rgb(254,224,139)"
         },
         "name": "Clasifica tu grado de visión=3. Regular",
         "r": [
          9,
          45,
          7,
          26,
          68
         ],
         "showlegend": true,
         "theta": [
          "cluster_1",
          "cluster_2",
          "cluster_3",
          "cluster_4",
          "cluster_5"
         ],
         "type": "barpolar",
         "uid": "fca874ca-b366-4ae3-ab49-d5079f5d2bcb"
        },
        {
         "hovertemplate": "Clasifica tu grado de visión=4. Bueno<br>counts=%{r}<br>prosume_cluster=%{theta}<extra></extra>",
         "legendgroup": "Clasifica tu grado de visión=4. Bueno",
         "marker": {
          "color": "rgb(230,245,152)"
         },
         "name": "Clasifica tu grado de visión=4. Bueno",
         "r": [
          24,
          87,
          40,
          34,
          149
         ],
         "showlegend": true,
         "theta": [
          "cluster_1",
          "cluster_2",
          "cluster_3",
          "cluster_4",
          "cluster_5"
         ],
         "type": "barpolar",
         "uid": "d095a63c-b000-4da7-960b-5afe130feb26"
        },
        {
         "hovertemplate": "Clasifica tu grado de visión=5. Muy bueno<br>counts=%{r}<br>prosume_cluster=%{theta}<extra></extra>",
         "legendgroup": "Clasifica tu grado de visión=5. Muy bueno",
         "marker": {
          "color": "rgb(153,213,148)"
         },
         "name": "Clasifica tu grado de visión=5. Muy bueno",
         "r": [
          4,
          58,
          53,
          20,
          111
         ],
         "showlegend": true,
         "theta": [
          "cluster_1",
          "cluster_2",
          "cluster_3",
          "cluster_4",
          "cluster_5"
         ],
         "type": "barpolar",
         "uid": "ea50a37b-dcc4-4273-9a87-bcbebf8b2fbe"
        }
       ],
       "layout": {
        "barmode": "group",
        "barnorm": "",
        "height": 600,
        "legend": {
         "tracegroupgap": 0
        },
        "margin": {
         "t": 60
        },
        "polar": {
         "angularaxis": {
          "direction": "clockwise",
          "rotation": 90
         }
        },
        "template": {
         "data": {
          "bar": [
           {
            "marker": {
             "line": {
              "color": "#E5ECF6",
              "width": 0.5
             }
            },
            "type": "bar"
           }
          ],
          "barpolar": [
           {
            "marker": {
             "line": {
              "color": "#E5ECF6",
              "width": 0.5
             }
            },
            "type": "barpolar"
           }
          ],
          "carpet": [
           {
            "aaxis": {
             "endlinecolor": "#2a3f5f",
             "gridcolor": "white",
             "linecolor": "white",
             "minorgridcolor": "white",
             "startlinecolor": "#2a3f5f"
            },
            "baxis": {
             "endlinecolor": "#2a3f5f",
             "gridcolor": "white",
             "linecolor": "white",
             "minorgridcolor": "white",
             "startlinecolor": "#2a3f5f"
            },
            "type": "carpet"
           }
          ],
          "choropleth": [
           {
            "colorbar": {
             "outlinewidth": 0,
             "ticks": ""
            },
            "type": "choropleth"
           }
          ],
          "contour": [
           {
            "autocolorscale": true,
            "colorbar": {
             "outlinewidth": 0,
             "ticks": ""
            },
            "type": "contour"
           }
          ],
          "contourcarpet": [
           {
            "colorbar": {
             "outlinewidth": 0,
             "ticks": ""
            },
            "type": "contourcarpet"
           }
          ],
          "heatmap": [
           {
            "autocolorscale": true,
            "colorbar": {
             "outlinewidth": 0,
             "ticks": ""
            },
            "type": "heatmap"
           }
          ],
          "heatmapgl": [
           {
            "colorbar": {
             "outlinewidth": 0,
             "ticks": ""
            },
            "type": "heatmapgl"
           }
          ],
          "histogram": [
           {
            "marker": {
             "colorbar": {
              "outlinewidth": 0,
              "ticks": ""
             }
            },
            "type": "histogram"
           }
          ],
          "histogram2d": [
           {
            "autocolorscale": true,
            "colorbar": {
             "outlinewidth": 0,
             "ticks": ""
            },
            "type": "histogram2d"
           }
          ],
          "histogram2dcontour": [
           {
            "autocolorscale": true,
            "colorbar": {
             "outlinewidth": 0,
             "ticks": ""
            },
            "type": "histogram2dcontour"
           }
          ],
          "mesh3d": [
           {
            "colorbar": {
             "outlinewidth": 0,
             "ticks": ""
            },
            "type": "mesh3d"
           }
          ],
          "parcoords": [
           {
            "line": {
             "colorbar": {
              "outlinewidth": 0,
              "ticks": ""
             }
            },
            "type": "parcoords"
           }
          ],
          "scatter": [
           {
            "marker": {
             "colorbar": {
              "outlinewidth": 0,
              "ticks": ""
             }
            },
            "type": "scatter"
           }
          ],
          "scatter3d": [
           {
            "marker": {
             "colorbar": {
              "outlinewidth": 0,
              "ticks": ""
             }
            },
            "type": "scatter3d"
           }
          ],
          "scattercarpet": [
           {
            "marker": {
             "colorbar": {
              "outlinewidth": 0,
              "ticks": ""
             }
            },
            "type": "scattercarpet"
           }
          ],
          "scattergeo": [
           {
            "marker": {
             "colorbar": {
              "outlinewidth": 0,
              "ticks": ""
             }
            },
            "type": "scattergeo"
           }
          ],
          "scattergl": [
           {
            "marker": {
             "colorbar": {
              "outlinewidth": 0,
              "ticks": ""
             }
            },
            "type": "scattergl"
           }
          ],
          "scattermapbox": [
           {
            "marker": {
             "colorbar": {
              "outlinewidth": 0,
              "ticks": ""
             }
            },
            "type": "scattermapbox"
           }
          ],
          "scatterpolar": [
           {
            "marker": {
             "colorbar": {
              "outlinewidth": 0,
              "ticks": ""
             }
            },
            "type": "scatterpolar"
           }
          ],
          "scatterpolargl": [
           {
            "marker": {
             "colorbar": {
              "outlinewidth": 0,
              "ticks": ""
             }
            },
            "type": "scatterpolargl"
           }
          ],
          "scatterternary": [
           {
            "marker": {
             "colorbar": {
              "outlinewidth": 0,
              "ticks": ""
             }
            },
            "type": "scatterternary"
           }
          ],
          "surface": [
           {
            "colorbar": {
             "outlinewidth": 0,
             "ticks": ""
            },
            "type": "surface"
           }
          ],
          "table": [
           {
            "cells": {
             "fill": {
              "color": "#EBF0F8"
             },
             "line": {
              "color": "white"
             }
            },
            "header": {
             "fill": {
              "color": "#C8D4E3"
             },
             "line": {
              "color": "white"
             }
            },
            "type": "table"
           }
          ]
         },
         "layout": {
          "annotationdefaults": {
           "arrowcolor": "#506784",
           "arrowhead": 0,
           "arrowwidth": 1
          },
          "colorscale": {
           "diverging": [
            [
             0,
             "#8e0152"
            ],
            [
             0.1,
             "#c51b7d"
            ],
            [
             0.2,
             "#de77ae"
            ],
            [
             0.3,
             "#f1b6da"
            ],
            [
             0.4,
             "#fde0ef"
            ],
            [
             0.5,
             "#f7f7f7"
            ],
            [
             0.6,
             "#e6f5d0"
            ],
            [
             0.7,
             "#b8e186"
            ],
            [
             0.8,
             "#7fbc41"
            ],
            [
             0.9,
             "#4d9221"
            ],
            [
             1,
             "#276419"
            ]
           ],
           "sequential": [
            [
             0,
             "#0508b8"
            ],
            [
             0.0893854748603352,
             "#1910d8"
            ],
            [
             0.1787709497206704,
             "#3c19f0"
            ],
            [
             0.2681564245810056,
             "#6b1cfb"
            ],
            [
             0.3575418994413408,
             "#981cfd"
            ],
            [
             0.44692737430167595,
             "#bf1cfd"
            ],
            [
             0.5363128491620112,
             "#dd2bfd"
            ],
            [
             0.6256983240223464,
             "#f246fe"
            ],
            [
             0.7150837988826816,
             "#fc67fd"
            ],
            [
             0.8044692737430168,
             "#fe88fc"
            ],
            [
             0.8938547486033519,
             "#fea5fd"
            ],
            [
             0.9832402234636871,
             "#febefe"
            ],
            [
             1,
             "#fec3fe"
            ]
           ],
           "sequentialminus": [
            [
             0,
             "#0508b8"
            ],
            [
             0.0893854748603352,
             "#1910d8"
            ],
            [
             0.1787709497206704,
             "#3c19f0"
            ],
            [
             0.2681564245810056,
             "#6b1cfb"
            ],
            [
             0.3575418994413408,
             "#981cfd"
            ],
            [
             0.44692737430167595,
             "#bf1cfd"
            ],
            [
             0.5363128491620112,
             "#dd2bfd"
            ],
            [
             0.6256983240223464,
             "#f246fe"
            ],
            [
             0.7150837988826816,
             "#fc67fd"
            ],
            [
             0.8044692737430168,
             "#fe88fc"
            ],
            [
             0.8938547486033519,
             "#fea5fd"
            ],
            [
             0.9832402234636871,
             "#febefe"
            ],
            [
             1,
             "#fec3fe"
            ]
           ]
          },
          "colorway": [
           "#636efa",
           "#EF553B",
           "#00cc96",
           "#ab63fa",
           "#19d3f3",
           "#e763fa",
           "#FECB52",
           "#FFA15A",
           "#FF6692",
           "#B6E880"
          ],
          "font": {
           "color": "#2a3f5f"
          },
          "geo": {
           "bgcolor": "white",
           "lakecolor": "white",
           "landcolor": "#E5ECF6",
           "showlakes": true,
           "showland": true,
           "subunitcolor": "white"
          },
          "hovermode": "closest",
          "mapbox": {
           "style": "light"
          },
          "paper_bgcolor": "white",
          "plot_bgcolor": "#E5ECF6",
          "polar": {
           "angularaxis": {
            "gridcolor": "white",
            "linecolor": "white",
            "ticks": ""
           },
           "bgcolor": "#E5ECF6",
           "radialaxis": {
            "gridcolor": "white",
            "linecolor": "white",
            "ticks": ""
           }
          },
          "scene": {
           "xaxis": {
            "backgroundcolor": "#E5ECF6",
            "gridcolor": "white",
            "gridwidth": 2,
            "linecolor": "white",
            "showbackground": true,
            "ticks": "",
            "zerolinecolor": "white"
           },
           "yaxis": {
            "backgroundcolor": "#E5ECF6",
            "gridcolor": "white",
            "gridwidth": 2,
            "linecolor": "white",
            "showbackground": true,
            "ticks": "",
            "zerolinecolor": "white"
           },
           "zaxis": {
            "backgroundcolor": "#E5ECF6",
            "gridcolor": "white",
            "gridwidth": 2,
            "linecolor": "white",
            "showbackground": true,
            "ticks": "",
            "zerolinecolor": "white"
           }
          },
          "shapedefaults": {
           "fillcolor": "#506784",
           "line": {
            "width": 0
           },
           "opacity": 0.4
          },
          "ternary": {
           "aaxis": {
            "gridcolor": "white",
            "linecolor": "white",
            "ticks": ""
           },
           "baxis": {
            "gridcolor": "white",
            "linecolor": "white",
            "ticks": ""
           },
           "bgcolor": "#E5ECF6",
           "caxis": {
            "gridcolor": "white",
            "linecolor": "white",
            "ticks": ""
           }
          },
          "title": {
           "x": 0.05
          },
          "xaxis": {
           "automargin": true,
           "gridcolor": "white",
           "linecolor": "white",
           "ticks": "",
           "zerolinecolor": "white",
           "zerolinewidth": 2
          },
          "yaxis": {
           "automargin": true,
           "gridcolor": "white",
           "linecolor": "white",
           "ticks": "",
           "zerolinecolor": "white",
           "zerolinewidth": 2
          }
         }
        }
       }
      },
      "text/html": [
       "<div id=\"a9bf229c-7a4a-4b78-9221-fe8fa28066ec\" style=\"height: 600px; width: 100%;\" class=\"plotly-graph-div\"></div><script type=\"text/javascript\">require([\"plotly\"], function(Plotly) { window.PLOTLYENV=window.PLOTLYENV || {};window.PLOTLYENV.BASE_URL=\"https://plot.ly\";\n",
       "if (document.getElementById(\"a9bf229c-7a4a-4b78-9221-fe8fa28066ec\")) {\n",
       "    Plotly.newPlot(\"a9bf229c-7a4a-4b78-9221-fe8fa28066ec\", [{\"hovertemplate\": \"Clasifica tu grado de visi\\u00f3n=1. Muy malo<br>counts=%{r}<br>prosume_cluster=%{theta}<extra></extra>\", \"legendgroup\": \"Clasifica tu grado de visi\\u00f3n=1. Muy malo\", \"marker\": {\"color\": \"rgb(213,62,79)\"}, \"name\": \"Clasifica tu grado de visi\\u00f3n=1. Muy malo\", \"r\": [2, 2], \"showlegend\": true, \"theta\": [\"cluster_2\", \"cluster_4\"], \"type\": \"barpolar\", \"uid\": \"0eb0e71f-8777-4439-bfee-50294da93f16\"}, {\"hovertemplate\": \"Clasifica tu grado de visi\\u00f3n=2. Malo<br>counts=%{r}<br>prosume_cluster=%{theta}<extra></extra>\", \"legendgroup\": \"Clasifica tu grado de visi\\u00f3n=2. Malo\", \"marker\": {\"color\": \"rgb(252,141,89)\"}, \"name\": \"Clasifica tu grado de visi\\u00f3n=2. Malo\", \"r\": [4, 16, 8], \"showlegend\": true, \"theta\": [\"cluster_2\", \"cluster_4\", \"cluster_5\"], \"type\": \"barpolar\", \"uid\": \"cf641a8d-b063-45e1-af64-0f893a9923f1\"}, {\"hovertemplate\": \"Clasifica tu grado de visi\\u00f3n=3. Regular<br>counts=%{r}<br>prosume_cluster=%{theta}<extra></extra>\", \"legendgroup\": \"Clasifica tu grado de visi\\u00f3n=3. Regular\", \"marker\": {\"color\": \"rgb(254,224,139)\"}, \"name\": \"Clasifica tu grado de visi\\u00f3n=3. Regular\", \"r\": [9, 45, 7, 26, 68], \"showlegend\": true, \"theta\": [\"cluster_1\", \"cluster_2\", \"cluster_3\", \"cluster_4\", \"cluster_5\"], \"type\": \"barpolar\", \"uid\": \"fca874ca-b366-4ae3-ab49-d5079f5d2bcb\"}, {\"hovertemplate\": \"Clasifica tu grado de visi\\u00f3n=4. Bueno<br>counts=%{r}<br>prosume_cluster=%{theta}<extra></extra>\", \"legendgroup\": \"Clasifica tu grado de visi\\u00f3n=4. Bueno\", \"marker\": {\"color\": \"rgb(230,245,152)\"}, \"name\": \"Clasifica tu grado de visi\\u00f3n=4. Bueno\", \"r\": [24, 87, 40, 34, 149], \"showlegend\": true, \"theta\": [\"cluster_1\", \"cluster_2\", \"cluster_3\", \"cluster_4\", \"cluster_5\"], \"type\": \"barpolar\", \"uid\": \"d095a63c-b000-4da7-960b-5afe130feb26\"}, {\"hovertemplate\": \"Clasifica tu grado de visi\\u00f3n=5. Muy bueno<br>counts=%{r}<br>prosume_cluster=%{theta}<extra></extra>\", \"legendgroup\": \"Clasifica tu grado de visi\\u00f3n=5. Muy bueno\", \"marker\": {\"color\": \"rgb(153,213,148)\"}, \"name\": \"Clasifica tu grado de visi\\u00f3n=5. Muy bueno\", \"r\": [4, 58, 53, 20, 111], \"showlegend\": true, \"theta\": [\"cluster_1\", \"cluster_2\", \"cluster_3\", \"cluster_4\", \"cluster_5\"], \"type\": \"barpolar\", \"uid\": \"ea50a37b-dcc4-4273-9a87-bcbebf8b2fbe\"}], {\"barmode\": \"group\", \"barnorm\": \"\", \"height\": 600, \"legend\": {\"tracegroupgap\": 0}, \"margin\": {\"t\": 60}, \"template\": {\"data\": {\"barpolar\": [{\"marker\": {\"line\": {\"color\": \"#E5ECF6\", \"width\": 0.5}}, \"type\": \"barpolar\"}], \"bar\": [{\"marker\": {\"line\": {\"color\": \"#E5ECF6\", \"width\": 0.5}}, \"type\": \"bar\"}], \"carpet\": [{\"aaxis\": {\"endlinecolor\": \"#2a3f5f\", \"gridcolor\": \"white\", \"linecolor\": \"white\", \"minorgridcolor\": \"white\", \"startlinecolor\": \"#2a3f5f\"}, \"baxis\": {\"endlinecolor\": \"#2a3f5f\", \"gridcolor\": \"white\", \"linecolor\": \"white\", \"minorgridcolor\": \"white\", \"startlinecolor\": \"#2a3f5f\"}, \"type\": \"carpet\"}], \"choropleth\": [{\"colorbar\": {\"outlinewidth\": 0, \"ticks\": \"\"}, \"type\": \"choropleth\"}], \"contourcarpet\": [{\"colorbar\": {\"outlinewidth\": 0, \"ticks\": \"\"}, \"type\": \"contourcarpet\"}], \"contour\": [{\"autocolorscale\": true, \"colorbar\": {\"outlinewidth\": 0, \"ticks\": \"\"}, \"type\": \"contour\"}], \"heatmapgl\": [{\"colorbar\": {\"outlinewidth\": 0, \"ticks\": \"\"}, \"type\": \"heatmapgl\"}], \"heatmap\": [{\"autocolorscale\": true, \"colorbar\": {\"outlinewidth\": 0, \"ticks\": \"\"}, \"type\": \"heatmap\"}], \"histogram2dcontour\": [{\"autocolorscale\": true, \"colorbar\": {\"outlinewidth\": 0, \"ticks\": \"\"}, \"type\": \"histogram2dcontour\"}], \"histogram2d\": [{\"autocolorscale\": true, \"colorbar\": {\"outlinewidth\": 0, \"ticks\": \"\"}, \"type\": \"histogram2d\"}], \"histogram\": [{\"marker\": {\"colorbar\": {\"outlinewidth\": 0, \"ticks\": \"\"}}, \"type\": \"histogram\"}], \"mesh3d\": [{\"colorbar\": {\"outlinewidth\": 0, \"ticks\": \"\"}, \"type\": \"mesh3d\"}], \"parcoords\": [{\"line\": {\"colorbar\": {\"outlinewidth\": 0, \"ticks\": \"\"}}, \"type\": \"parcoords\"}], \"scatter3d\": [{\"marker\": {\"colorbar\": {\"outlinewidth\": 0, \"ticks\": \"\"}}, \"type\": \"scatter3d\"}], \"scattercarpet\": [{\"marker\": {\"colorbar\": {\"outlinewidth\": 0, \"ticks\": \"\"}}, \"type\": \"scattercarpet\"}], \"scattergeo\": [{\"marker\": {\"colorbar\": {\"outlinewidth\": 0, \"ticks\": \"\"}}, \"type\": \"scattergeo\"}], \"scattergl\": [{\"marker\": {\"colorbar\": {\"outlinewidth\": 0, \"ticks\": \"\"}}, \"type\": \"scattergl\"}], \"scattermapbox\": [{\"marker\": {\"colorbar\": {\"outlinewidth\": 0, \"ticks\": \"\"}}, \"type\": \"scattermapbox\"}], \"scatterpolargl\": [{\"marker\": {\"colorbar\": {\"outlinewidth\": 0, \"ticks\": \"\"}}, \"type\": \"scatterpolargl\"}], \"scatterpolar\": [{\"marker\": {\"colorbar\": {\"outlinewidth\": 0, \"ticks\": \"\"}}, \"type\": \"scatterpolar\"}], \"scatter\": [{\"marker\": {\"colorbar\": {\"outlinewidth\": 0, \"ticks\": \"\"}}, \"type\": \"scatter\"}], \"scatterternary\": [{\"marker\": {\"colorbar\": {\"outlinewidth\": 0, \"ticks\": \"\"}}, \"type\": \"scatterternary\"}], \"surface\": [{\"colorbar\": {\"outlinewidth\": 0, \"ticks\": \"\"}, \"type\": \"surface\"}], \"table\": [{\"cells\": {\"fill\": {\"color\": \"#EBF0F8\"}, \"line\": {\"color\": \"white\"}}, \"header\": {\"fill\": {\"color\": \"#C8D4E3\"}, \"line\": {\"color\": \"white\"}}, \"type\": \"table\"}]}, \"layout\": {\"annotationdefaults\": {\"arrowcolor\": \"#506784\", \"arrowhead\": 0, \"arrowwidth\": 1}, \"colorscale\": {\"diverging\": [[0, \"#8e0152\"], [0.1, \"#c51b7d\"], [0.2, \"#de77ae\"], [0.3, \"#f1b6da\"], [0.4, \"#fde0ef\"], [0.5, \"#f7f7f7\"], [0.6, \"#e6f5d0\"], [0.7, \"#b8e186\"], [0.8, \"#7fbc41\"], [0.9, \"#4d9221\"], [1, \"#276419\"]], \"sequential\": [[0.0, \"#0508b8\"], [0.0893854748603352, \"#1910d8\"], [0.1787709497206704, \"#3c19f0\"], [0.2681564245810056, \"#6b1cfb\"], [0.3575418994413408, \"#981cfd\"], [0.44692737430167595, \"#bf1cfd\"], [0.5363128491620112, \"#dd2bfd\"], [0.6256983240223464, \"#f246fe\"], [0.7150837988826816, \"#fc67fd\"], [0.8044692737430168, \"#fe88fc\"], [0.8938547486033519, \"#fea5fd\"], [0.9832402234636871, \"#febefe\"], [1.0, \"#fec3fe\"]], \"sequentialminus\": [[0.0, \"#0508b8\"], [0.0893854748603352, \"#1910d8\"], [0.1787709497206704, \"#3c19f0\"], [0.2681564245810056, \"#6b1cfb\"], [0.3575418994413408, \"#981cfd\"], [0.44692737430167595, \"#bf1cfd\"], [0.5363128491620112, \"#dd2bfd\"], [0.6256983240223464, \"#f246fe\"], [0.7150837988826816, \"#fc67fd\"], [0.8044692737430168, \"#fe88fc\"], [0.8938547486033519, \"#fea5fd\"], [0.9832402234636871, \"#febefe\"], [1.0, \"#fec3fe\"]]}, \"colorway\": [\"#636efa\", \"#EF553B\", \"#00cc96\", \"#ab63fa\", \"#19d3f3\", \"#e763fa\", \"#FECB52\", \"#FFA15A\", \"#FF6692\", \"#B6E880\"], \"font\": {\"color\": \"#2a3f5f\"}, \"geo\": {\"bgcolor\": \"white\", \"lakecolor\": \"white\", \"landcolor\": \"#E5ECF6\", \"showlakes\": true, \"showland\": true, \"subunitcolor\": \"white\"}, \"hovermode\": \"closest\", \"mapbox\": {\"style\": \"light\"}, \"paper_bgcolor\": \"white\", \"plot_bgcolor\": \"#E5ECF6\", \"polar\": {\"angularaxis\": {\"gridcolor\": \"white\", \"linecolor\": \"white\", \"ticks\": \"\"}, \"bgcolor\": \"#E5ECF6\", \"radialaxis\": {\"gridcolor\": \"white\", \"linecolor\": \"white\", \"ticks\": \"\"}}, \"scene\": {\"xaxis\": {\"backgroundcolor\": \"#E5ECF6\", \"gridcolor\": \"white\", \"gridwidth\": 2, \"linecolor\": \"white\", \"showbackground\": true, \"ticks\": \"\", \"zerolinecolor\": \"white\"}, \"yaxis\": {\"backgroundcolor\": \"#E5ECF6\", \"gridcolor\": \"white\", \"gridwidth\": 2, \"linecolor\": \"white\", \"showbackground\": true, \"ticks\": \"\", \"zerolinecolor\": \"white\"}, \"zaxis\": {\"backgroundcolor\": \"#E5ECF6\", \"gridcolor\": \"white\", \"gridwidth\": 2, \"linecolor\": \"white\", \"showbackground\": true, \"ticks\": \"\", \"zerolinecolor\": \"white\"}}, \"shapedefaults\": {\"fillcolor\": \"#506784\", \"line\": {\"width\": 0}, \"opacity\": 0.4}, \"ternary\": {\"aaxis\": {\"gridcolor\": \"white\", \"linecolor\": \"white\", \"ticks\": \"\"}, \"baxis\": {\"gridcolor\": \"white\", \"linecolor\": \"white\", \"ticks\": \"\"}, \"bgcolor\": \"#E5ECF6\", \"caxis\": {\"gridcolor\": \"white\", \"linecolor\": \"white\", \"ticks\": \"\"}}, \"title\": {\"x\": 0.05}, \"xaxis\": {\"automargin\": true, \"gridcolor\": \"white\", \"linecolor\": \"white\", \"ticks\": \"\", \"zerolinecolor\": \"white\", \"zerolinewidth\": 2}, \"yaxis\": {\"automargin\": true, \"gridcolor\": \"white\", \"linecolor\": \"white\", \"ticks\": \"\", \"zerolinecolor\": \"white\", \"zerolinewidth\": 2}}}, \"polar\": {\"angularaxis\": {\"direction\": \"clockwise\", \"rotation\": 90}}}, {\"showLink\": false, \"linkText\": \"Export to plot.ly\", \"plotlyServerURL\": \"https://plot.ly\"}); \n",
       "}\n",
       "});</script><script type=\"text/javascript\">window.addEventListener(\"resize\", function(){if (document.getElementById(\"a9bf229c-7a4a-4b78-9221-fe8fa28066ec\")) {window._Plotly.Plots.resize(document.getElementById(\"a9bf229c-7a4a-4b78-9221-fe8fa28066ec\"));};})</script>"
      ],
      "text/vnd.plotly.v1+html": [
       "<div id=\"a9bf229c-7a4a-4b78-9221-fe8fa28066ec\" style=\"height: 600px; width: 100%;\" class=\"plotly-graph-div\"></div><script type=\"text/javascript\">require([\"plotly\"], function(Plotly) { window.PLOTLYENV=window.PLOTLYENV || {};window.PLOTLYENV.BASE_URL=\"https://plot.ly\";\n",
       "if (document.getElementById(\"a9bf229c-7a4a-4b78-9221-fe8fa28066ec\")) {\n",
       "    Plotly.newPlot(\"a9bf229c-7a4a-4b78-9221-fe8fa28066ec\", [{\"hovertemplate\": \"Clasifica tu grado de visi\\u00f3n=1. Muy malo<br>counts=%{r}<br>prosume_cluster=%{theta}<extra></extra>\", \"legendgroup\": \"Clasifica tu grado de visi\\u00f3n=1. Muy malo\", \"marker\": {\"color\": \"rgb(213,62,79)\"}, \"name\": \"Clasifica tu grado de visi\\u00f3n=1. Muy malo\", \"r\": [2, 2], \"showlegend\": true, \"theta\": [\"cluster_2\", \"cluster_4\"], \"type\": \"barpolar\", \"uid\": \"0eb0e71f-8777-4439-bfee-50294da93f16\"}, {\"hovertemplate\": \"Clasifica tu grado de visi\\u00f3n=2. Malo<br>counts=%{r}<br>prosume_cluster=%{theta}<extra></extra>\", \"legendgroup\": \"Clasifica tu grado de visi\\u00f3n=2. Malo\", \"marker\": {\"color\": \"rgb(252,141,89)\"}, \"name\": \"Clasifica tu grado de visi\\u00f3n=2. Malo\", \"r\": [4, 16, 8], \"showlegend\": true, \"theta\": [\"cluster_2\", \"cluster_4\", \"cluster_5\"], \"type\": \"barpolar\", \"uid\": \"cf641a8d-b063-45e1-af64-0f893a9923f1\"}, {\"hovertemplate\": \"Clasifica tu grado de visi\\u00f3n=3. Regular<br>counts=%{r}<br>prosume_cluster=%{theta}<extra></extra>\", \"legendgroup\": \"Clasifica tu grado de visi\\u00f3n=3. Regular\", \"marker\": {\"color\": \"rgb(254,224,139)\"}, \"name\": \"Clasifica tu grado de visi\\u00f3n=3. Regular\", \"r\": [9, 45, 7, 26, 68], \"showlegend\": true, \"theta\": [\"cluster_1\", \"cluster_2\", \"cluster_3\", \"cluster_4\", \"cluster_5\"], \"type\": \"barpolar\", \"uid\": \"fca874ca-b366-4ae3-ab49-d5079f5d2bcb\"}, {\"hovertemplate\": \"Clasifica tu grado de visi\\u00f3n=4. Bueno<br>counts=%{r}<br>prosume_cluster=%{theta}<extra></extra>\", \"legendgroup\": \"Clasifica tu grado de visi\\u00f3n=4. Bueno\", \"marker\": {\"color\": \"rgb(230,245,152)\"}, \"name\": \"Clasifica tu grado de visi\\u00f3n=4. Bueno\", \"r\": [24, 87, 40, 34, 149], \"showlegend\": true, \"theta\": [\"cluster_1\", \"cluster_2\", \"cluster_3\", \"cluster_4\", \"cluster_5\"], \"type\": \"barpolar\", \"uid\": \"d095a63c-b000-4da7-960b-5afe130feb26\"}, {\"hovertemplate\": \"Clasifica tu grado de visi\\u00f3n=5. Muy bueno<br>counts=%{r}<br>prosume_cluster=%{theta}<extra></extra>\", \"legendgroup\": \"Clasifica tu grado de visi\\u00f3n=5. Muy bueno\", \"marker\": {\"color\": \"rgb(153,213,148)\"}, \"name\": \"Clasifica tu grado de visi\\u00f3n=5. Muy bueno\", \"r\": [4, 58, 53, 20, 111], \"showlegend\": true, \"theta\": [\"cluster_1\", \"cluster_2\", \"cluster_3\", \"cluster_4\", \"cluster_5\"], \"type\": \"barpolar\", \"uid\": \"ea50a37b-dcc4-4273-9a87-bcbebf8b2fbe\"}], {\"barmode\": \"group\", \"barnorm\": \"\", \"height\": 600, \"legend\": {\"tracegroupgap\": 0}, \"margin\": {\"t\": 60}, \"template\": {\"data\": {\"barpolar\": [{\"marker\": {\"line\": {\"color\": \"#E5ECF6\", \"width\": 0.5}}, \"type\": \"barpolar\"}], \"bar\": [{\"marker\": {\"line\": {\"color\": \"#E5ECF6\", \"width\": 0.5}}, \"type\": \"bar\"}], \"carpet\": [{\"aaxis\": {\"endlinecolor\": \"#2a3f5f\", \"gridcolor\": \"white\", \"linecolor\": \"white\", \"minorgridcolor\": \"white\", \"startlinecolor\": \"#2a3f5f\"}, \"baxis\": {\"endlinecolor\": \"#2a3f5f\", \"gridcolor\": \"white\", \"linecolor\": \"white\", \"minorgridcolor\": \"white\", \"startlinecolor\": \"#2a3f5f\"}, \"type\": \"carpet\"}], \"choropleth\": [{\"colorbar\": {\"outlinewidth\": 0, \"ticks\": \"\"}, \"type\": \"choropleth\"}], \"contourcarpet\": [{\"colorbar\": {\"outlinewidth\": 0, \"ticks\": \"\"}, \"type\": \"contourcarpet\"}], \"contour\": [{\"autocolorscale\": true, \"colorbar\": {\"outlinewidth\": 0, \"ticks\": \"\"}, \"type\": \"contour\"}], \"heatmapgl\": [{\"colorbar\": {\"outlinewidth\": 0, \"ticks\": \"\"}, \"type\": \"heatmapgl\"}], \"heatmap\": [{\"autocolorscale\": true, \"colorbar\": {\"outlinewidth\": 0, \"ticks\": \"\"}, \"type\": \"heatmap\"}], \"histogram2dcontour\": [{\"autocolorscale\": true, \"colorbar\": {\"outlinewidth\": 0, \"ticks\": \"\"}, \"type\": \"histogram2dcontour\"}], \"histogram2d\": [{\"autocolorscale\": true, \"colorbar\": {\"outlinewidth\": 0, \"ticks\": \"\"}, \"type\": \"histogram2d\"}], \"histogram\": [{\"marker\": {\"colorbar\": {\"outlinewidth\": 0, \"ticks\": \"\"}}, \"type\": \"histogram\"}], \"mesh3d\": [{\"colorbar\": {\"outlinewidth\": 0, \"ticks\": \"\"}, \"type\": \"mesh3d\"}], \"parcoords\": [{\"line\": {\"colorbar\": {\"outlinewidth\": 0, \"ticks\": \"\"}}, \"type\": \"parcoords\"}], \"scatter3d\": [{\"marker\": {\"colorbar\": {\"outlinewidth\": 0, \"ticks\": \"\"}}, \"type\": \"scatter3d\"}], \"scattercarpet\": [{\"marker\": {\"colorbar\": {\"outlinewidth\": 0, \"ticks\": \"\"}}, \"type\": \"scattercarpet\"}], \"scattergeo\": [{\"marker\": {\"colorbar\": {\"outlinewidth\": 0, \"ticks\": \"\"}}, \"type\": \"scattergeo\"}], \"scattergl\": [{\"marker\": {\"colorbar\": {\"outlinewidth\": 0, \"ticks\": \"\"}}, \"type\": \"scattergl\"}], \"scattermapbox\": [{\"marker\": {\"colorbar\": {\"outlinewidth\": 0, \"ticks\": \"\"}}, \"type\": \"scattermapbox\"}], \"scatterpolargl\": [{\"marker\": {\"colorbar\": {\"outlinewidth\": 0, \"ticks\": \"\"}}, \"type\": \"scatterpolargl\"}], \"scatterpolar\": [{\"marker\": {\"colorbar\": {\"outlinewidth\": 0, \"ticks\": \"\"}}, \"type\": \"scatterpolar\"}], \"scatter\": [{\"marker\": {\"colorbar\": {\"outlinewidth\": 0, \"ticks\": \"\"}}, \"type\": \"scatter\"}], \"scatterternary\": [{\"marker\": {\"colorbar\": {\"outlinewidth\": 0, \"ticks\": \"\"}}, \"type\": \"scatterternary\"}], \"surface\": [{\"colorbar\": {\"outlinewidth\": 0, \"ticks\": \"\"}, \"type\": \"surface\"}], \"table\": [{\"cells\": {\"fill\": {\"color\": \"#EBF0F8\"}, \"line\": {\"color\": \"white\"}}, \"header\": {\"fill\": {\"color\": \"#C8D4E3\"}, \"line\": {\"color\": \"white\"}}, \"type\": \"table\"}]}, \"layout\": {\"annotationdefaults\": {\"arrowcolor\": \"#506784\", \"arrowhead\": 0, \"arrowwidth\": 1}, \"colorscale\": {\"diverging\": [[0, \"#8e0152\"], [0.1, \"#c51b7d\"], [0.2, \"#de77ae\"], [0.3, \"#f1b6da\"], [0.4, \"#fde0ef\"], [0.5, \"#f7f7f7\"], [0.6, \"#e6f5d0\"], [0.7, \"#b8e186\"], [0.8, \"#7fbc41\"], [0.9, \"#4d9221\"], [1, \"#276419\"]], \"sequential\": [[0.0, \"#0508b8\"], [0.0893854748603352, \"#1910d8\"], [0.1787709497206704, \"#3c19f0\"], [0.2681564245810056, \"#6b1cfb\"], [0.3575418994413408, \"#981cfd\"], [0.44692737430167595, \"#bf1cfd\"], [0.5363128491620112, \"#dd2bfd\"], [0.6256983240223464, \"#f246fe\"], [0.7150837988826816, \"#fc67fd\"], [0.8044692737430168, \"#fe88fc\"], [0.8938547486033519, \"#fea5fd\"], [0.9832402234636871, \"#febefe\"], [1.0, \"#fec3fe\"]], \"sequentialminus\": [[0.0, \"#0508b8\"], [0.0893854748603352, \"#1910d8\"], [0.1787709497206704, \"#3c19f0\"], [0.2681564245810056, \"#6b1cfb\"], [0.3575418994413408, \"#981cfd\"], [0.44692737430167595, \"#bf1cfd\"], [0.5363128491620112, \"#dd2bfd\"], [0.6256983240223464, \"#f246fe\"], [0.7150837988826816, \"#fc67fd\"], [0.8044692737430168, \"#fe88fc\"], [0.8938547486033519, \"#fea5fd\"], [0.9832402234636871, \"#febefe\"], [1.0, \"#fec3fe\"]]}, \"colorway\": [\"#636efa\", \"#EF553B\", \"#00cc96\", \"#ab63fa\", \"#19d3f3\", \"#e763fa\", \"#FECB52\", \"#FFA15A\", \"#FF6692\", \"#B6E880\"], \"font\": {\"color\": \"#2a3f5f\"}, \"geo\": {\"bgcolor\": \"white\", \"lakecolor\": \"white\", \"landcolor\": \"#E5ECF6\", \"showlakes\": true, \"showland\": true, \"subunitcolor\": \"white\"}, \"hovermode\": \"closest\", \"mapbox\": {\"style\": \"light\"}, \"paper_bgcolor\": \"white\", \"plot_bgcolor\": \"#E5ECF6\", \"polar\": {\"angularaxis\": {\"gridcolor\": \"white\", \"linecolor\": \"white\", \"ticks\": \"\"}, \"bgcolor\": \"#E5ECF6\", \"radialaxis\": {\"gridcolor\": \"white\", \"linecolor\": \"white\", \"ticks\": \"\"}}, \"scene\": {\"xaxis\": {\"backgroundcolor\": \"#E5ECF6\", \"gridcolor\": \"white\", \"gridwidth\": 2, \"linecolor\": \"white\", \"showbackground\": true, \"ticks\": \"\", \"zerolinecolor\": \"white\"}, \"yaxis\": {\"backgroundcolor\": \"#E5ECF6\", \"gridcolor\": \"white\", \"gridwidth\": 2, \"linecolor\": \"white\", \"showbackground\": true, \"ticks\": \"\", \"zerolinecolor\": \"white\"}, \"zaxis\": {\"backgroundcolor\": \"#E5ECF6\", \"gridcolor\": \"white\", \"gridwidth\": 2, \"linecolor\": \"white\", \"showbackground\": true, \"ticks\": \"\", \"zerolinecolor\": \"white\"}}, \"shapedefaults\": {\"fillcolor\": \"#506784\", \"line\": {\"width\": 0}, \"opacity\": 0.4}, \"ternary\": {\"aaxis\": {\"gridcolor\": \"white\", \"linecolor\": \"white\", \"ticks\": \"\"}, \"baxis\": {\"gridcolor\": \"white\", \"linecolor\": \"white\", \"ticks\": \"\"}, \"bgcolor\": \"#E5ECF6\", \"caxis\": {\"gridcolor\": \"white\", \"linecolor\": \"white\", \"ticks\": \"\"}}, \"title\": {\"x\": 0.05}, \"xaxis\": {\"automargin\": true, \"gridcolor\": \"white\", \"linecolor\": \"white\", \"ticks\": \"\", \"zerolinecolor\": \"white\", \"zerolinewidth\": 2}, \"yaxis\": {\"automargin\": true, \"gridcolor\": \"white\", \"linecolor\": \"white\", \"ticks\": \"\", \"zerolinecolor\": \"white\", \"zerolinewidth\": 2}}}, \"polar\": {\"angularaxis\": {\"direction\": \"clockwise\", \"rotation\": 90}}}, {\"showLink\": false, \"linkText\": \"Export to plot.ly\", \"plotlyServerURL\": \"https://plot.ly\"}); \n",
       "}\n",
       "});</script><script type=\"text/javascript\">window.addEventListener(\"resize\", function(){if (document.getElementById(\"a9bf229c-7a4a-4b78-9221-fe8fa28066ec\")) {window._Plotly.Plots.resize(document.getElementById(\"a9bf229c-7a4a-4b78-9221-fe8fa28066ec\"));};})</script>"
      ]
     },
     "metadata": {},
     "output_type": "display_data"
    },
    {
     "name": "stdout",
     "output_type": "stream",
     "text": [
      "Comparando la pregunta ¿Utilizas gafas o lentes de contacto?\n"
     ]
    },
    {
     "data": {
      "application/vnd.plotly.v1+json": {
       "config": {
        "linkText": "Export to plot.ly",
        "plotlyServerURL": "https://plot.ly",
        "showLink": false
       },
       "data": [
        {
         "hovertemplate": "¿Utilizas gafas o lentes de contacto?=No<br>counts=%{r}<br>prosume_cluster=%{theta}<extra></extra>",
         "legendgroup": "¿Utilizas gafas o lentes de contacto?=No",
         "marker": {
          "color": "rgb(213,62,79)"
         },
         "name": "¿Utilizas gafas o lentes de contacto?=No",
         "r": [
          19,
          114,
          67,
          24,
          146
         ],
         "showlegend": true,
         "theta": [
          "cluster_1",
          "cluster_2",
          "cluster_3",
          "cluster_4",
          "cluster_5"
         ],
         "type": "barpolar",
         "uid": "eded2b2d-7fc1-4688-91d4-f3cbffeb8600"
        },
        {
         "hovertemplate": "¿Utilizas gafas o lentes de contacto?=Sí<br>counts=%{r}<br>prosume_cluster=%{theta}<extra></extra>",
         "legendgroup": "¿Utilizas gafas o lentes de contacto?=Sí",
         "marker": {
          "color": "rgb(252,141,89)"
         },
         "name": "¿Utilizas gafas o lentes de contacto?=Sí",
         "r": [
          18,
          82,
          33,
          74,
          190
         ],
         "showlegend": true,
         "theta": [
          "cluster_1",
          "cluster_2",
          "cluster_3",
          "cluster_4",
          "cluster_5"
         ],
         "type": "barpolar",
         "uid": "6c4225f4-28aa-4a48-981c-e8519eafb902"
        }
       ],
       "layout": {
        "barmode": "group",
        "barnorm": "",
        "height": 600,
        "legend": {
         "tracegroupgap": 0
        },
        "margin": {
         "t": 60
        },
        "polar": {
         "angularaxis": {
          "direction": "clockwise",
          "rotation": 90
         }
        },
        "template": {
         "data": {
          "bar": [
           {
            "marker": {
             "line": {
              "color": "#E5ECF6",
              "width": 0.5
             }
            },
            "type": "bar"
           }
          ],
          "barpolar": [
           {
            "marker": {
             "line": {
              "color": "#E5ECF6",
              "width": 0.5
             }
            },
            "type": "barpolar"
           }
          ],
          "carpet": [
           {
            "aaxis": {
             "endlinecolor": "#2a3f5f",
             "gridcolor": "white",
             "linecolor": "white",
             "minorgridcolor": "white",
             "startlinecolor": "#2a3f5f"
            },
            "baxis": {
             "endlinecolor": "#2a3f5f",
             "gridcolor": "white",
             "linecolor": "white",
             "minorgridcolor": "white",
             "startlinecolor": "#2a3f5f"
            },
            "type": "carpet"
           }
          ],
          "choropleth": [
           {
            "colorbar": {
             "outlinewidth": 0,
             "ticks": ""
            },
            "type": "choropleth"
           }
          ],
          "contour": [
           {
            "autocolorscale": true,
            "colorbar": {
             "outlinewidth": 0,
             "ticks": ""
            },
            "type": "contour"
           }
          ],
          "contourcarpet": [
           {
            "colorbar": {
             "outlinewidth": 0,
             "ticks": ""
            },
            "type": "contourcarpet"
           }
          ],
          "heatmap": [
           {
            "autocolorscale": true,
            "colorbar": {
             "outlinewidth": 0,
             "ticks": ""
            },
            "type": "heatmap"
           }
          ],
          "heatmapgl": [
           {
            "colorbar": {
             "outlinewidth": 0,
             "ticks": ""
            },
            "type": "heatmapgl"
           }
          ],
          "histogram": [
           {
            "marker": {
             "colorbar": {
              "outlinewidth": 0,
              "ticks": ""
             }
            },
            "type": "histogram"
           }
          ],
          "histogram2d": [
           {
            "autocolorscale": true,
            "colorbar": {
             "outlinewidth": 0,
             "ticks": ""
            },
            "type": "histogram2d"
           }
          ],
          "histogram2dcontour": [
           {
            "autocolorscale": true,
            "colorbar": {
             "outlinewidth": 0,
             "ticks": ""
            },
            "type": "histogram2dcontour"
           }
          ],
          "mesh3d": [
           {
            "colorbar": {
             "outlinewidth": 0,
             "ticks": ""
            },
            "type": "mesh3d"
           }
          ],
          "parcoords": [
           {
            "line": {
             "colorbar": {
              "outlinewidth": 0,
              "ticks": ""
             }
            },
            "type": "parcoords"
           }
          ],
          "scatter": [
           {
            "marker": {
             "colorbar": {
              "outlinewidth": 0,
              "ticks": ""
             }
            },
            "type": "scatter"
           }
          ],
          "scatter3d": [
           {
            "marker": {
             "colorbar": {
              "outlinewidth": 0,
              "ticks": ""
             }
            },
            "type": "scatter3d"
           }
          ],
          "scattercarpet": [
           {
            "marker": {
             "colorbar": {
              "outlinewidth": 0,
              "ticks": ""
             }
            },
            "type": "scattercarpet"
           }
          ],
          "scattergeo": [
           {
            "marker": {
             "colorbar": {
              "outlinewidth": 0,
              "ticks": ""
             }
            },
            "type": "scattergeo"
           }
          ],
          "scattergl": [
           {
            "marker": {
             "colorbar": {
              "outlinewidth": 0,
              "ticks": ""
             }
            },
            "type": "scattergl"
           }
          ],
          "scattermapbox": [
           {
            "marker": {
             "colorbar": {
              "outlinewidth": 0,
              "ticks": ""
             }
            },
            "type": "scattermapbox"
           }
          ],
          "scatterpolar": [
           {
            "marker": {
             "colorbar": {
              "outlinewidth": 0,
              "ticks": ""
             }
            },
            "type": "scatterpolar"
           }
          ],
          "scatterpolargl": [
           {
            "marker": {
             "colorbar": {
              "outlinewidth": 0,
              "ticks": ""
             }
            },
            "type": "scatterpolargl"
           }
          ],
          "scatterternary": [
           {
            "marker": {
             "colorbar": {
              "outlinewidth": 0,
              "ticks": ""
             }
            },
            "type": "scatterternary"
           }
          ],
          "surface": [
           {
            "colorbar": {
             "outlinewidth": 0,
             "ticks": ""
            },
            "type": "surface"
           }
          ],
          "table": [
           {
            "cells": {
             "fill": {
              "color": "#EBF0F8"
             },
             "line": {
              "color": "white"
             }
            },
            "header": {
             "fill": {
              "color": "#C8D4E3"
             },
             "line": {
              "color": "white"
             }
            },
            "type": "table"
           }
          ]
         },
         "layout": {
          "annotationdefaults": {
           "arrowcolor": "#506784",
           "arrowhead": 0,
           "arrowwidth": 1
          },
          "colorscale": {
           "diverging": [
            [
             0,
             "#8e0152"
            ],
            [
             0.1,
             "#c51b7d"
            ],
            [
             0.2,
             "#de77ae"
            ],
            [
             0.3,
             "#f1b6da"
            ],
            [
             0.4,
             "#fde0ef"
            ],
            [
             0.5,
             "#f7f7f7"
            ],
            [
             0.6,
             "#e6f5d0"
            ],
            [
             0.7,
             "#b8e186"
            ],
            [
             0.8,
             "#7fbc41"
            ],
            [
             0.9,
             "#4d9221"
            ],
            [
             1,
             "#276419"
            ]
           ],
           "sequential": [
            [
             0,
             "#0508b8"
            ],
            [
             0.0893854748603352,
             "#1910d8"
            ],
            [
             0.1787709497206704,
             "#3c19f0"
            ],
            [
             0.2681564245810056,
             "#6b1cfb"
            ],
            [
             0.3575418994413408,
             "#981cfd"
            ],
            [
             0.44692737430167595,
             "#bf1cfd"
            ],
            [
             0.5363128491620112,
             "#dd2bfd"
            ],
            [
             0.6256983240223464,
             "#f246fe"
            ],
            [
             0.7150837988826816,
             "#fc67fd"
            ],
            [
             0.8044692737430168,
             "#fe88fc"
            ],
            [
             0.8938547486033519,
             "#fea5fd"
            ],
            [
             0.9832402234636871,
             "#febefe"
            ],
            [
             1,
             "#fec3fe"
            ]
           ],
           "sequentialminus": [
            [
             0,
             "#0508b8"
            ],
            [
             0.0893854748603352,
             "#1910d8"
            ],
            [
             0.1787709497206704,
             "#3c19f0"
            ],
            [
             0.2681564245810056,
             "#6b1cfb"
            ],
            [
             0.3575418994413408,
             "#981cfd"
            ],
            [
             0.44692737430167595,
             "#bf1cfd"
            ],
            [
             0.5363128491620112,
             "#dd2bfd"
            ],
            [
             0.6256983240223464,
             "#f246fe"
            ],
            [
             0.7150837988826816,
             "#fc67fd"
            ],
            [
             0.8044692737430168,
             "#fe88fc"
            ],
            [
             0.8938547486033519,
             "#fea5fd"
            ],
            [
             0.9832402234636871,
             "#febefe"
            ],
            [
             1,
             "#fec3fe"
            ]
           ]
          },
          "colorway": [
           "#636efa",
           "#EF553B",
           "#00cc96",
           "#ab63fa",
           "#19d3f3",
           "#e763fa",
           "#FECB52",
           "#FFA15A",
           "#FF6692",
           "#B6E880"
          ],
          "font": {
           "color": "#2a3f5f"
          },
          "geo": {
           "bgcolor": "white",
           "lakecolor": "white",
           "landcolor": "#E5ECF6",
           "showlakes": true,
           "showland": true,
           "subunitcolor": "white"
          },
          "hovermode": "closest",
          "mapbox": {
           "style": "light"
          },
          "paper_bgcolor": "white",
          "plot_bgcolor": "#E5ECF6",
          "polar": {
           "angularaxis": {
            "gridcolor": "white",
            "linecolor": "white",
            "ticks": ""
           },
           "bgcolor": "#E5ECF6",
           "radialaxis": {
            "gridcolor": "white",
            "linecolor": "white",
            "ticks": ""
           }
          },
          "scene": {
           "xaxis": {
            "backgroundcolor": "#E5ECF6",
            "gridcolor": "white",
            "gridwidth": 2,
            "linecolor": "white",
            "showbackground": true,
            "ticks": "",
            "zerolinecolor": "white"
           },
           "yaxis": {
            "backgroundcolor": "#E5ECF6",
            "gridcolor": "white",
            "gridwidth": 2,
            "linecolor": "white",
            "showbackground": true,
            "ticks": "",
            "zerolinecolor": "white"
           },
           "zaxis": {
            "backgroundcolor": "#E5ECF6",
            "gridcolor": "white",
            "gridwidth": 2,
            "linecolor": "white",
            "showbackground": true,
            "ticks": "",
            "zerolinecolor": "white"
           }
          },
          "shapedefaults": {
           "fillcolor": "#506784",
           "line": {
            "width": 0
           },
           "opacity": 0.4
          },
          "ternary": {
           "aaxis": {
            "gridcolor": "white",
            "linecolor": "white",
            "ticks": ""
           },
           "baxis": {
            "gridcolor": "white",
            "linecolor": "white",
            "ticks": ""
           },
           "bgcolor": "#E5ECF6",
           "caxis": {
            "gridcolor": "white",
            "linecolor": "white",
            "ticks": ""
           }
          },
          "title": {
           "x": 0.05
          },
          "xaxis": {
           "automargin": true,
           "gridcolor": "white",
           "linecolor": "white",
           "ticks": "",
           "zerolinecolor": "white",
           "zerolinewidth": 2
          },
          "yaxis": {
           "automargin": true,
           "gridcolor": "white",
           "linecolor": "white",
           "ticks": "",
           "zerolinecolor": "white",
           "zerolinewidth": 2
          }
         }
        }
       }
      },
      "text/html": [
       "<div id=\"ff3af18f-64d5-45a9-b9ec-46cf5fa72680\" style=\"height: 600px; width: 100%;\" class=\"plotly-graph-div\"></div><script type=\"text/javascript\">require([\"plotly\"], function(Plotly) { window.PLOTLYENV=window.PLOTLYENV || {};window.PLOTLYENV.BASE_URL=\"https://plot.ly\";\n",
       "if (document.getElementById(\"ff3af18f-64d5-45a9-b9ec-46cf5fa72680\")) {\n",
       "    Plotly.newPlot(\"ff3af18f-64d5-45a9-b9ec-46cf5fa72680\", [{\"hovertemplate\": \"\\u00bfUtilizas gafas o lentes de contacto?=No<br>counts=%{r}<br>prosume_cluster=%{theta}<extra></extra>\", \"legendgroup\": \"\\u00bfUtilizas gafas o lentes de contacto?=No\", \"marker\": {\"color\": \"rgb(213,62,79)\"}, \"name\": \"\\u00bfUtilizas gafas o lentes de contacto?=No\", \"r\": [19, 114, 67, 24, 146], \"showlegend\": true, \"theta\": [\"cluster_1\", \"cluster_2\", \"cluster_3\", \"cluster_4\", \"cluster_5\"], \"type\": \"barpolar\", \"uid\": \"eded2b2d-7fc1-4688-91d4-f3cbffeb8600\"}, {\"hovertemplate\": \"\\u00bfUtilizas gafas o lentes de contacto?=S\\u00ed<br>counts=%{r}<br>prosume_cluster=%{theta}<extra></extra>\", \"legendgroup\": \"\\u00bfUtilizas gafas o lentes de contacto?=S\\u00ed\", \"marker\": {\"color\": \"rgb(252,141,89)\"}, \"name\": \"\\u00bfUtilizas gafas o lentes de contacto?=S\\u00ed\", \"r\": [18, 82, 33, 74, 190], \"showlegend\": true, \"theta\": [\"cluster_1\", \"cluster_2\", \"cluster_3\", \"cluster_4\", \"cluster_5\"], \"type\": \"barpolar\", \"uid\": \"6c4225f4-28aa-4a48-981c-e8519eafb902\"}], {\"barmode\": \"group\", \"barnorm\": \"\", \"height\": 600, \"legend\": {\"tracegroupgap\": 0}, \"margin\": {\"t\": 60}, \"template\": {\"data\": {\"barpolar\": [{\"marker\": {\"line\": {\"color\": \"#E5ECF6\", \"width\": 0.5}}, \"type\": \"barpolar\"}], \"bar\": [{\"marker\": {\"line\": {\"color\": \"#E5ECF6\", \"width\": 0.5}}, \"type\": \"bar\"}], \"carpet\": [{\"aaxis\": {\"endlinecolor\": \"#2a3f5f\", \"gridcolor\": \"white\", \"linecolor\": \"white\", \"minorgridcolor\": \"white\", \"startlinecolor\": \"#2a3f5f\"}, \"baxis\": {\"endlinecolor\": \"#2a3f5f\", \"gridcolor\": \"white\", \"linecolor\": \"white\", \"minorgridcolor\": \"white\", \"startlinecolor\": \"#2a3f5f\"}, \"type\": \"carpet\"}], \"choropleth\": [{\"colorbar\": {\"outlinewidth\": 0, \"ticks\": \"\"}, \"type\": \"choropleth\"}], \"contourcarpet\": [{\"colorbar\": {\"outlinewidth\": 0, \"ticks\": \"\"}, \"type\": \"contourcarpet\"}], \"contour\": [{\"autocolorscale\": true, \"colorbar\": {\"outlinewidth\": 0, \"ticks\": \"\"}, \"type\": \"contour\"}], \"heatmapgl\": [{\"colorbar\": {\"outlinewidth\": 0, \"ticks\": \"\"}, \"type\": \"heatmapgl\"}], \"heatmap\": [{\"autocolorscale\": true, \"colorbar\": {\"outlinewidth\": 0, \"ticks\": \"\"}, \"type\": \"heatmap\"}], \"histogram2dcontour\": [{\"autocolorscale\": true, \"colorbar\": {\"outlinewidth\": 0, \"ticks\": \"\"}, \"type\": \"histogram2dcontour\"}], \"histogram2d\": [{\"autocolorscale\": true, \"colorbar\": {\"outlinewidth\": 0, \"ticks\": \"\"}, \"type\": \"histogram2d\"}], \"histogram\": [{\"marker\": {\"colorbar\": {\"outlinewidth\": 0, \"ticks\": \"\"}}, \"type\": \"histogram\"}], \"mesh3d\": [{\"colorbar\": {\"outlinewidth\": 0, \"ticks\": \"\"}, \"type\": \"mesh3d\"}], \"parcoords\": [{\"line\": {\"colorbar\": {\"outlinewidth\": 0, \"ticks\": \"\"}}, \"type\": \"parcoords\"}], \"scatter3d\": [{\"marker\": {\"colorbar\": {\"outlinewidth\": 0, \"ticks\": \"\"}}, \"type\": \"scatter3d\"}], \"scattercarpet\": [{\"marker\": {\"colorbar\": {\"outlinewidth\": 0, \"ticks\": \"\"}}, \"type\": \"scattercarpet\"}], \"scattergeo\": [{\"marker\": {\"colorbar\": {\"outlinewidth\": 0, \"ticks\": \"\"}}, \"type\": \"scattergeo\"}], \"scattergl\": [{\"marker\": {\"colorbar\": {\"outlinewidth\": 0, \"ticks\": \"\"}}, \"type\": \"scattergl\"}], \"scattermapbox\": [{\"marker\": {\"colorbar\": {\"outlinewidth\": 0, \"ticks\": \"\"}}, \"type\": \"scattermapbox\"}], \"scatterpolargl\": [{\"marker\": {\"colorbar\": {\"outlinewidth\": 0, \"ticks\": \"\"}}, \"type\": \"scatterpolargl\"}], \"scatterpolar\": [{\"marker\": {\"colorbar\": {\"outlinewidth\": 0, \"ticks\": \"\"}}, \"type\": \"scatterpolar\"}], \"scatter\": [{\"marker\": {\"colorbar\": {\"outlinewidth\": 0, \"ticks\": \"\"}}, \"type\": \"scatter\"}], \"scatterternary\": [{\"marker\": {\"colorbar\": {\"outlinewidth\": 0, \"ticks\": \"\"}}, \"type\": \"scatterternary\"}], \"surface\": [{\"colorbar\": {\"outlinewidth\": 0, \"ticks\": \"\"}, \"type\": \"surface\"}], \"table\": [{\"cells\": {\"fill\": {\"color\": \"#EBF0F8\"}, \"line\": {\"color\": \"white\"}}, \"header\": {\"fill\": {\"color\": \"#C8D4E3\"}, \"line\": {\"color\": \"white\"}}, \"type\": \"table\"}]}, \"layout\": {\"annotationdefaults\": {\"arrowcolor\": \"#506784\", \"arrowhead\": 0, \"arrowwidth\": 1}, \"colorscale\": {\"diverging\": [[0, \"#8e0152\"], [0.1, \"#c51b7d\"], [0.2, \"#de77ae\"], [0.3, \"#f1b6da\"], [0.4, \"#fde0ef\"], [0.5, \"#f7f7f7\"], [0.6, \"#e6f5d0\"], [0.7, \"#b8e186\"], [0.8, \"#7fbc41\"], [0.9, \"#4d9221\"], [1, \"#276419\"]], \"sequential\": [[0.0, \"#0508b8\"], [0.0893854748603352, \"#1910d8\"], [0.1787709497206704, \"#3c19f0\"], [0.2681564245810056, \"#6b1cfb\"], [0.3575418994413408, \"#981cfd\"], [0.44692737430167595, \"#bf1cfd\"], [0.5363128491620112, \"#dd2bfd\"], [0.6256983240223464, \"#f246fe\"], [0.7150837988826816, \"#fc67fd\"], [0.8044692737430168, \"#fe88fc\"], [0.8938547486033519, \"#fea5fd\"], [0.9832402234636871, \"#febefe\"], [1.0, \"#fec3fe\"]], \"sequentialminus\": [[0.0, \"#0508b8\"], [0.0893854748603352, \"#1910d8\"], [0.1787709497206704, \"#3c19f0\"], [0.2681564245810056, \"#6b1cfb\"], [0.3575418994413408, \"#981cfd\"], [0.44692737430167595, \"#bf1cfd\"], [0.5363128491620112, \"#dd2bfd\"], [0.6256983240223464, \"#f246fe\"], [0.7150837988826816, \"#fc67fd\"], [0.8044692737430168, \"#fe88fc\"], [0.8938547486033519, \"#fea5fd\"], [0.9832402234636871, \"#febefe\"], [1.0, \"#fec3fe\"]]}, \"colorway\": [\"#636efa\", \"#EF553B\", \"#00cc96\", \"#ab63fa\", \"#19d3f3\", \"#e763fa\", \"#FECB52\", \"#FFA15A\", \"#FF6692\", \"#B6E880\"], \"font\": {\"color\": \"#2a3f5f\"}, \"geo\": {\"bgcolor\": \"white\", \"lakecolor\": \"white\", \"landcolor\": \"#E5ECF6\", \"showlakes\": true, \"showland\": true, \"subunitcolor\": \"white\"}, \"hovermode\": \"closest\", \"mapbox\": {\"style\": \"light\"}, \"paper_bgcolor\": \"white\", \"plot_bgcolor\": \"#E5ECF6\", \"polar\": {\"angularaxis\": {\"gridcolor\": \"white\", \"linecolor\": \"white\", \"ticks\": \"\"}, \"bgcolor\": \"#E5ECF6\", \"radialaxis\": {\"gridcolor\": \"white\", \"linecolor\": \"white\", \"ticks\": \"\"}}, \"scene\": {\"xaxis\": {\"backgroundcolor\": \"#E5ECF6\", \"gridcolor\": \"white\", \"gridwidth\": 2, \"linecolor\": \"white\", \"showbackground\": true, \"ticks\": \"\", \"zerolinecolor\": \"white\"}, \"yaxis\": {\"backgroundcolor\": \"#E5ECF6\", \"gridcolor\": \"white\", \"gridwidth\": 2, \"linecolor\": \"white\", \"showbackground\": true, \"ticks\": \"\", \"zerolinecolor\": \"white\"}, \"zaxis\": {\"backgroundcolor\": \"#E5ECF6\", \"gridcolor\": \"white\", \"gridwidth\": 2, \"linecolor\": \"white\", \"showbackground\": true, \"ticks\": \"\", \"zerolinecolor\": \"white\"}}, \"shapedefaults\": {\"fillcolor\": \"#506784\", \"line\": {\"width\": 0}, \"opacity\": 0.4}, \"ternary\": {\"aaxis\": {\"gridcolor\": \"white\", \"linecolor\": \"white\", \"ticks\": \"\"}, \"baxis\": {\"gridcolor\": \"white\", \"linecolor\": \"white\", \"ticks\": \"\"}, \"bgcolor\": \"#E5ECF6\", \"caxis\": {\"gridcolor\": \"white\", \"linecolor\": \"white\", \"ticks\": \"\"}}, \"title\": {\"x\": 0.05}, \"xaxis\": {\"automargin\": true, \"gridcolor\": \"white\", \"linecolor\": \"white\", \"ticks\": \"\", \"zerolinecolor\": \"white\", \"zerolinewidth\": 2}, \"yaxis\": {\"automargin\": true, \"gridcolor\": \"white\", \"linecolor\": \"white\", \"ticks\": \"\", \"zerolinecolor\": \"white\", \"zerolinewidth\": 2}}}, \"polar\": {\"angularaxis\": {\"direction\": \"clockwise\", \"rotation\": 90}}}, {\"showLink\": false, \"linkText\": \"Export to plot.ly\", \"plotlyServerURL\": \"https://plot.ly\"}); \n",
       "}\n",
       "});</script><script type=\"text/javascript\">window.addEventListener(\"resize\", function(){if (document.getElementById(\"ff3af18f-64d5-45a9-b9ec-46cf5fa72680\")) {window._Plotly.Plots.resize(document.getElementById(\"ff3af18f-64d5-45a9-b9ec-46cf5fa72680\"));};})</script>"
      ],
      "text/vnd.plotly.v1+html": [
       "<div id=\"ff3af18f-64d5-45a9-b9ec-46cf5fa72680\" style=\"height: 600px; width: 100%;\" class=\"plotly-graph-div\"></div><script type=\"text/javascript\">require([\"plotly\"], function(Plotly) { window.PLOTLYENV=window.PLOTLYENV || {};window.PLOTLYENV.BASE_URL=\"https://plot.ly\";\n",
       "if (document.getElementById(\"ff3af18f-64d5-45a9-b9ec-46cf5fa72680\")) {\n",
       "    Plotly.newPlot(\"ff3af18f-64d5-45a9-b9ec-46cf5fa72680\", [{\"hovertemplate\": \"\\u00bfUtilizas gafas o lentes de contacto?=No<br>counts=%{r}<br>prosume_cluster=%{theta}<extra></extra>\", \"legendgroup\": \"\\u00bfUtilizas gafas o lentes de contacto?=No\", \"marker\": {\"color\": \"rgb(213,62,79)\"}, \"name\": \"\\u00bfUtilizas gafas o lentes de contacto?=No\", \"r\": [19, 114, 67, 24, 146], \"showlegend\": true, \"theta\": [\"cluster_1\", \"cluster_2\", \"cluster_3\", \"cluster_4\", \"cluster_5\"], \"type\": \"barpolar\", \"uid\": \"eded2b2d-7fc1-4688-91d4-f3cbffeb8600\"}, {\"hovertemplate\": \"\\u00bfUtilizas gafas o lentes de contacto?=S\\u00ed<br>counts=%{r}<br>prosume_cluster=%{theta}<extra></extra>\", \"legendgroup\": \"\\u00bfUtilizas gafas o lentes de contacto?=S\\u00ed\", \"marker\": {\"color\": \"rgb(252,141,89)\"}, \"name\": \"\\u00bfUtilizas gafas o lentes de contacto?=S\\u00ed\", \"r\": [18, 82, 33, 74, 190], \"showlegend\": true, \"theta\": [\"cluster_1\", \"cluster_2\", \"cluster_3\", \"cluster_4\", \"cluster_5\"], \"type\": \"barpolar\", \"uid\": \"6c4225f4-28aa-4a48-981c-e8519eafb902\"}], {\"barmode\": \"group\", \"barnorm\": \"\", \"height\": 600, \"legend\": {\"tracegroupgap\": 0}, \"margin\": {\"t\": 60}, \"template\": {\"data\": {\"barpolar\": [{\"marker\": {\"line\": {\"color\": \"#E5ECF6\", \"width\": 0.5}}, \"type\": \"barpolar\"}], \"bar\": [{\"marker\": {\"line\": {\"color\": \"#E5ECF6\", \"width\": 0.5}}, \"type\": \"bar\"}], \"carpet\": [{\"aaxis\": {\"endlinecolor\": \"#2a3f5f\", \"gridcolor\": \"white\", \"linecolor\": \"white\", \"minorgridcolor\": \"white\", \"startlinecolor\": \"#2a3f5f\"}, \"baxis\": {\"endlinecolor\": \"#2a3f5f\", \"gridcolor\": \"white\", \"linecolor\": \"white\", \"minorgridcolor\": \"white\", \"startlinecolor\": \"#2a3f5f\"}, \"type\": \"carpet\"}], \"choropleth\": [{\"colorbar\": {\"outlinewidth\": 0, \"ticks\": \"\"}, \"type\": \"choropleth\"}], \"contourcarpet\": [{\"colorbar\": {\"outlinewidth\": 0, \"ticks\": \"\"}, \"type\": \"contourcarpet\"}], \"contour\": [{\"autocolorscale\": true, \"colorbar\": {\"outlinewidth\": 0, \"ticks\": \"\"}, \"type\": \"contour\"}], \"heatmapgl\": [{\"colorbar\": {\"outlinewidth\": 0, \"ticks\": \"\"}, \"type\": \"heatmapgl\"}], \"heatmap\": [{\"autocolorscale\": true, \"colorbar\": {\"outlinewidth\": 0, \"ticks\": \"\"}, \"type\": \"heatmap\"}], \"histogram2dcontour\": [{\"autocolorscale\": true, \"colorbar\": {\"outlinewidth\": 0, \"ticks\": \"\"}, \"type\": \"histogram2dcontour\"}], \"histogram2d\": [{\"autocolorscale\": true, \"colorbar\": {\"outlinewidth\": 0, \"ticks\": \"\"}, \"type\": \"histogram2d\"}], \"histogram\": [{\"marker\": {\"colorbar\": {\"outlinewidth\": 0, \"ticks\": \"\"}}, \"type\": \"histogram\"}], \"mesh3d\": [{\"colorbar\": {\"outlinewidth\": 0, \"ticks\": \"\"}, \"type\": \"mesh3d\"}], \"parcoords\": [{\"line\": {\"colorbar\": {\"outlinewidth\": 0, \"ticks\": \"\"}}, \"type\": \"parcoords\"}], \"scatter3d\": [{\"marker\": {\"colorbar\": {\"outlinewidth\": 0, \"ticks\": \"\"}}, \"type\": \"scatter3d\"}], \"scattercarpet\": [{\"marker\": {\"colorbar\": {\"outlinewidth\": 0, \"ticks\": \"\"}}, \"type\": \"scattercarpet\"}], \"scattergeo\": [{\"marker\": {\"colorbar\": {\"outlinewidth\": 0, \"ticks\": \"\"}}, \"type\": \"scattergeo\"}], \"scattergl\": [{\"marker\": {\"colorbar\": {\"outlinewidth\": 0, \"ticks\": \"\"}}, \"type\": \"scattergl\"}], \"scattermapbox\": [{\"marker\": {\"colorbar\": {\"outlinewidth\": 0, \"ticks\": \"\"}}, \"type\": \"scattermapbox\"}], \"scatterpolargl\": [{\"marker\": {\"colorbar\": {\"outlinewidth\": 0, \"ticks\": \"\"}}, \"type\": \"scatterpolargl\"}], \"scatterpolar\": [{\"marker\": {\"colorbar\": {\"outlinewidth\": 0, \"ticks\": \"\"}}, \"type\": \"scatterpolar\"}], \"scatter\": [{\"marker\": {\"colorbar\": {\"outlinewidth\": 0, \"ticks\": \"\"}}, \"type\": \"scatter\"}], \"scatterternary\": [{\"marker\": {\"colorbar\": {\"outlinewidth\": 0, \"ticks\": \"\"}}, \"type\": \"scatterternary\"}], \"surface\": [{\"colorbar\": {\"outlinewidth\": 0, \"ticks\": \"\"}, \"type\": \"surface\"}], \"table\": [{\"cells\": {\"fill\": {\"color\": \"#EBF0F8\"}, \"line\": {\"color\": \"white\"}}, \"header\": {\"fill\": {\"color\": \"#C8D4E3\"}, \"line\": {\"color\": \"white\"}}, \"type\": \"table\"}]}, \"layout\": {\"annotationdefaults\": {\"arrowcolor\": \"#506784\", \"arrowhead\": 0, \"arrowwidth\": 1}, \"colorscale\": {\"diverging\": [[0, \"#8e0152\"], [0.1, \"#c51b7d\"], [0.2, \"#de77ae\"], [0.3, \"#f1b6da\"], [0.4, \"#fde0ef\"], [0.5, \"#f7f7f7\"], [0.6, \"#e6f5d0\"], [0.7, \"#b8e186\"], [0.8, \"#7fbc41\"], [0.9, \"#4d9221\"], [1, \"#276419\"]], \"sequential\": [[0.0, \"#0508b8\"], [0.0893854748603352, \"#1910d8\"], [0.1787709497206704, \"#3c19f0\"], [0.2681564245810056, \"#6b1cfb\"], [0.3575418994413408, \"#981cfd\"], [0.44692737430167595, \"#bf1cfd\"], [0.5363128491620112, \"#dd2bfd\"], [0.6256983240223464, \"#f246fe\"], [0.7150837988826816, \"#fc67fd\"], [0.8044692737430168, \"#fe88fc\"], [0.8938547486033519, \"#fea5fd\"], [0.9832402234636871, \"#febefe\"], [1.0, \"#fec3fe\"]], \"sequentialminus\": [[0.0, \"#0508b8\"], [0.0893854748603352, \"#1910d8\"], [0.1787709497206704, \"#3c19f0\"], [0.2681564245810056, \"#6b1cfb\"], [0.3575418994413408, \"#981cfd\"], [0.44692737430167595, \"#bf1cfd\"], [0.5363128491620112, \"#dd2bfd\"], [0.6256983240223464, \"#f246fe\"], [0.7150837988826816, \"#fc67fd\"], [0.8044692737430168, \"#fe88fc\"], [0.8938547486033519, \"#fea5fd\"], [0.9832402234636871, \"#febefe\"], [1.0, \"#fec3fe\"]]}, \"colorway\": [\"#636efa\", \"#EF553B\", \"#00cc96\", \"#ab63fa\", \"#19d3f3\", \"#e763fa\", \"#FECB52\", \"#FFA15A\", \"#FF6692\", \"#B6E880\"], \"font\": {\"color\": \"#2a3f5f\"}, \"geo\": {\"bgcolor\": \"white\", \"lakecolor\": \"white\", \"landcolor\": \"#E5ECF6\", \"showlakes\": true, \"showland\": true, \"subunitcolor\": \"white\"}, \"hovermode\": \"closest\", \"mapbox\": {\"style\": \"light\"}, \"paper_bgcolor\": \"white\", \"plot_bgcolor\": \"#E5ECF6\", \"polar\": {\"angularaxis\": {\"gridcolor\": \"white\", \"linecolor\": \"white\", \"ticks\": \"\"}, \"bgcolor\": \"#E5ECF6\", \"radialaxis\": {\"gridcolor\": \"white\", \"linecolor\": \"white\", \"ticks\": \"\"}}, \"scene\": {\"xaxis\": {\"backgroundcolor\": \"#E5ECF6\", \"gridcolor\": \"white\", \"gridwidth\": 2, \"linecolor\": \"white\", \"showbackground\": true, \"ticks\": \"\", \"zerolinecolor\": \"white\"}, \"yaxis\": {\"backgroundcolor\": \"#E5ECF6\", \"gridcolor\": \"white\", \"gridwidth\": 2, \"linecolor\": \"white\", \"showbackground\": true, \"ticks\": \"\", \"zerolinecolor\": \"white\"}, \"zaxis\": {\"backgroundcolor\": \"#E5ECF6\", \"gridcolor\": \"white\", \"gridwidth\": 2, \"linecolor\": \"white\", \"showbackground\": true, \"ticks\": \"\", \"zerolinecolor\": \"white\"}}, \"shapedefaults\": {\"fillcolor\": \"#506784\", \"line\": {\"width\": 0}, \"opacity\": 0.4}, \"ternary\": {\"aaxis\": {\"gridcolor\": \"white\", \"linecolor\": \"white\", \"ticks\": \"\"}, \"baxis\": {\"gridcolor\": \"white\", \"linecolor\": \"white\", \"ticks\": \"\"}, \"bgcolor\": \"#E5ECF6\", \"caxis\": {\"gridcolor\": \"white\", \"linecolor\": \"white\", \"ticks\": \"\"}}, \"title\": {\"x\": 0.05}, \"xaxis\": {\"automargin\": true, \"gridcolor\": \"white\", \"linecolor\": \"white\", \"ticks\": \"\", \"zerolinecolor\": \"white\", \"zerolinewidth\": 2}, \"yaxis\": {\"automargin\": true, \"gridcolor\": \"white\", \"linecolor\": \"white\", \"ticks\": \"\", \"zerolinecolor\": \"white\", \"zerolinewidth\": 2}}}, \"polar\": {\"angularaxis\": {\"direction\": \"clockwise\", \"rotation\": 90}}}, {\"showLink\": false, \"linkText\": \"Export to plot.ly\", \"plotlyServerURL\": \"https://plot.ly\"}); \n",
       "}\n",
       "});</script><script type=\"text/javascript\">window.addEventListener(\"resize\", function(){if (document.getElementById(\"ff3af18f-64d5-45a9-b9ec-46cf5fa72680\")) {window._Plotly.Plots.resize(document.getElementById(\"ff3af18f-64d5-45a9-b9ec-46cf5fa72680\"));};})</script>"
      ]
     },
     "metadata": {},
     "output_type": "display_data"
    },
    {
     "name": "stdout",
     "output_type": "stream",
     "text": [
      "Comparando la pregunta ¿Tienes alguna carencia visual que afecte a la recepción de formas, colores, distancias, etc.?\n"
     ]
    },
    {
     "data": {
      "application/vnd.plotly.v1+json": {
       "config": {
        "linkText": "Export to plot.ly",
        "plotlyServerURL": "https://plot.ly",
        "showLink": false
       },
       "data": [
        {
         "hovertemplate": "¿Tienes alguna carencia visual que afecte a la recepción de formas, colores, distancias, etc.?=No<br>counts=%{r}<br>prosume_cluster=%{theta}<extra></extra>",
         "legendgroup": "¿Tienes alguna carencia visual que afecte a la recepción de formas, colores, distancias, etc.?=No",
         "marker": {
          "color": "rgb(213,62,79)"
         },
         "name": "¿Tienes alguna carencia visual que afecte a la recepción de formas, colores, distancias, etc.?=No",
         "r": [
          19,
          182,
          84,
          57,
          305
         ],
         "showlegend": true,
         "theta": [
          "cluster_1",
          "cluster_2",
          "cluster_3",
          "cluster_4",
          "cluster_5"
         ],
         "type": "barpolar",
         "uid": "d813b05a-9370-442e-b69f-b2894c25a89e"
        },
        {
         "hovertemplate": "¿Tienes alguna carencia visual que afecte a la recepción de formas, colores, distancias, etc.?=Sí<br>counts=%{r}<br>prosume_cluster=%{theta}<extra></extra>",
         "legendgroup": "¿Tienes alguna carencia visual que afecte a la recepción de formas, colores, distancias, etc.?=Sí",
         "marker": {
          "color": "rgb(252,141,89)"
         },
         "name": "¿Tienes alguna carencia visual que afecte a la recepción de formas, colores, distancias, etc.?=Sí",
         "r": [
          18,
          14,
          16,
          41,
          31
         ],
         "showlegend": true,
         "theta": [
          "cluster_1",
          "cluster_2",
          "cluster_3",
          "cluster_4",
          "cluster_5"
         ],
         "type": "barpolar",
         "uid": "51acf7d3-df36-4b35-ac75-299e4ccc1ee8"
        }
       ],
       "layout": {
        "barmode": "group",
        "barnorm": "",
        "height": 600,
        "legend": {
         "tracegroupgap": 0
        },
        "margin": {
         "t": 60
        },
        "polar": {
         "angularaxis": {
          "direction": "clockwise",
          "rotation": 90
         }
        },
        "template": {
         "data": {
          "bar": [
           {
            "marker": {
             "line": {
              "color": "#E5ECF6",
              "width": 0.5
             }
            },
            "type": "bar"
           }
          ],
          "barpolar": [
           {
            "marker": {
             "line": {
              "color": "#E5ECF6",
              "width": 0.5
             }
            },
            "type": "barpolar"
           }
          ],
          "carpet": [
           {
            "aaxis": {
             "endlinecolor": "#2a3f5f",
             "gridcolor": "white",
             "linecolor": "white",
             "minorgridcolor": "white",
             "startlinecolor": "#2a3f5f"
            },
            "baxis": {
             "endlinecolor": "#2a3f5f",
             "gridcolor": "white",
             "linecolor": "white",
             "minorgridcolor": "white",
             "startlinecolor": "#2a3f5f"
            },
            "type": "carpet"
           }
          ],
          "choropleth": [
           {
            "colorbar": {
             "outlinewidth": 0,
             "ticks": ""
            },
            "type": "choropleth"
           }
          ],
          "contour": [
           {
            "autocolorscale": true,
            "colorbar": {
             "outlinewidth": 0,
             "ticks": ""
            },
            "type": "contour"
           }
          ],
          "contourcarpet": [
           {
            "colorbar": {
             "outlinewidth": 0,
             "ticks": ""
            },
            "type": "contourcarpet"
           }
          ],
          "heatmap": [
           {
            "autocolorscale": true,
            "colorbar": {
             "outlinewidth": 0,
             "ticks": ""
            },
            "type": "heatmap"
           }
          ],
          "heatmapgl": [
           {
            "colorbar": {
             "outlinewidth": 0,
             "ticks": ""
            },
            "type": "heatmapgl"
           }
          ],
          "histogram": [
           {
            "marker": {
             "colorbar": {
              "outlinewidth": 0,
              "ticks": ""
             }
            },
            "type": "histogram"
           }
          ],
          "histogram2d": [
           {
            "autocolorscale": true,
            "colorbar": {
             "outlinewidth": 0,
             "ticks": ""
            },
            "type": "histogram2d"
           }
          ],
          "histogram2dcontour": [
           {
            "autocolorscale": true,
            "colorbar": {
             "outlinewidth": 0,
             "ticks": ""
            },
            "type": "histogram2dcontour"
           }
          ],
          "mesh3d": [
           {
            "colorbar": {
             "outlinewidth": 0,
             "ticks": ""
            },
            "type": "mesh3d"
           }
          ],
          "parcoords": [
           {
            "line": {
             "colorbar": {
              "outlinewidth": 0,
              "ticks": ""
             }
            },
            "type": "parcoords"
           }
          ],
          "scatter": [
           {
            "marker": {
             "colorbar": {
              "outlinewidth": 0,
              "ticks": ""
             }
            },
            "type": "scatter"
           }
          ],
          "scatter3d": [
           {
            "marker": {
             "colorbar": {
              "outlinewidth": 0,
              "ticks": ""
             }
            },
            "type": "scatter3d"
           }
          ],
          "scattercarpet": [
           {
            "marker": {
             "colorbar": {
              "outlinewidth": 0,
              "ticks": ""
             }
            },
            "type": "scattercarpet"
           }
          ],
          "scattergeo": [
           {
            "marker": {
             "colorbar": {
              "outlinewidth": 0,
              "ticks": ""
             }
            },
            "type": "scattergeo"
           }
          ],
          "scattergl": [
           {
            "marker": {
             "colorbar": {
              "outlinewidth": 0,
              "ticks": ""
             }
            },
            "type": "scattergl"
           }
          ],
          "scattermapbox": [
           {
            "marker": {
             "colorbar": {
              "outlinewidth": 0,
              "ticks": ""
             }
            },
            "type": "scattermapbox"
           }
          ],
          "scatterpolar": [
           {
            "marker": {
             "colorbar": {
              "outlinewidth": 0,
              "ticks": ""
             }
            },
            "type": "scatterpolar"
           }
          ],
          "scatterpolargl": [
           {
            "marker": {
             "colorbar": {
              "outlinewidth": 0,
              "ticks": ""
             }
            },
            "type": "scatterpolargl"
           }
          ],
          "scatterternary": [
           {
            "marker": {
             "colorbar": {
              "outlinewidth": 0,
              "ticks": ""
             }
            },
            "type": "scatterternary"
           }
          ],
          "surface": [
           {
            "colorbar": {
             "outlinewidth": 0,
             "ticks": ""
            },
            "type": "surface"
           }
          ],
          "table": [
           {
            "cells": {
             "fill": {
              "color": "#EBF0F8"
             },
             "line": {
              "color": "white"
             }
            },
            "header": {
             "fill": {
              "color": "#C8D4E3"
             },
             "line": {
              "color": "white"
             }
            },
            "type": "table"
           }
          ]
         },
         "layout": {
          "annotationdefaults": {
           "arrowcolor": "#506784",
           "arrowhead": 0,
           "arrowwidth": 1
          },
          "colorscale": {
           "diverging": [
            [
             0,
             "#8e0152"
            ],
            [
             0.1,
             "#c51b7d"
            ],
            [
             0.2,
             "#de77ae"
            ],
            [
             0.3,
             "#f1b6da"
            ],
            [
             0.4,
             "#fde0ef"
            ],
            [
             0.5,
             "#f7f7f7"
            ],
            [
             0.6,
             "#e6f5d0"
            ],
            [
             0.7,
             "#b8e186"
            ],
            [
             0.8,
             "#7fbc41"
            ],
            [
             0.9,
             "#4d9221"
            ],
            [
             1,
             "#276419"
            ]
           ],
           "sequential": [
            [
             0,
             "#0508b8"
            ],
            [
             0.0893854748603352,
             "#1910d8"
            ],
            [
             0.1787709497206704,
             "#3c19f0"
            ],
            [
             0.2681564245810056,
             "#6b1cfb"
            ],
            [
             0.3575418994413408,
             "#981cfd"
            ],
            [
             0.44692737430167595,
             "#bf1cfd"
            ],
            [
             0.5363128491620112,
             "#dd2bfd"
            ],
            [
             0.6256983240223464,
             "#f246fe"
            ],
            [
             0.7150837988826816,
             "#fc67fd"
            ],
            [
             0.8044692737430168,
             "#fe88fc"
            ],
            [
             0.8938547486033519,
             "#fea5fd"
            ],
            [
             0.9832402234636871,
             "#febefe"
            ],
            [
             1,
             "#fec3fe"
            ]
           ],
           "sequentialminus": [
            [
             0,
             "#0508b8"
            ],
            [
             0.0893854748603352,
             "#1910d8"
            ],
            [
             0.1787709497206704,
             "#3c19f0"
            ],
            [
             0.2681564245810056,
             "#6b1cfb"
            ],
            [
             0.3575418994413408,
             "#981cfd"
            ],
            [
             0.44692737430167595,
             "#bf1cfd"
            ],
            [
             0.5363128491620112,
             "#dd2bfd"
            ],
            [
             0.6256983240223464,
             "#f246fe"
            ],
            [
             0.7150837988826816,
             "#fc67fd"
            ],
            [
             0.8044692737430168,
             "#fe88fc"
            ],
            [
             0.8938547486033519,
             "#fea5fd"
            ],
            [
             0.9832402234636871,
             "#febefe"
            ],
            [
             1,
             "#fec3fe"
            ]
           ]
          },
          "colorway": [
           "#636efa",
           "#EF553B",
           "#00cc96",
           "#ab63fa",
           "#19d3f3",
           "#e763fa",
           "#FECB52",
           "#FFA15A",
           "#FF6692",
           "#B6E880"
          ],
          "font": {
           "color": "#2a3f5f"
          },
          "geo": {
           "bgcolor": "white",
           "lakecolor": "white",
           "landcolor": "#E5ECF6",
           "showlakes": true,
           "showland": true,
           "subunitcolor": "white"
          },
          "hovermode": "closest",
          "mapbox": {
           "style": "light"
          },
          "paper_bgcolor": "white",
          "plot_bgcolor": "#E5ECF6",
          "polar": {
           "angularaxis": {
            "gridcolor": "white",
            "linecolor": "white",
            "ticks": ""
           },
           "bgcolor": "#E5ECF6",
           "radialaxis": {
            "gridcolor": "white",
            "linecolor": "white",
            "ticks": ""
           }
          },
          "scene": {
           "xaxis": {
            "backgroundcolor": "#E5ECF6",
            "gridcolor": "white",
            "gridwidth": 2,
            "linecolor": "white",
            "showbackground": true,
            "ticks": "",
            "zerolinecolor": "white"
           },
           "yaxis": {
            "backgroundcolor": "#E5ECF6",
            "gridcolor": "white",
            "gridwidth": 2,
            "linecolor": "white",
            "showbackground": true,
            "ticks": "",
            "zerolinecolor": "white"
           },
           "zaxis": {
            "backgroundcolor": "#E5ECF6",
            "gridcolor": "white",
            "gridwidth": 2,
            "linecolor": "white",
            "showbackground": true,
            "ticks": "",
            "zerolinecolor": "white"
           }
          },
          "shapedefaults": {
           "fillcolor": "#506784",
           "line": {
            "width": 0
           },
           "opacity": 0.4
          },
          "ternary": {
           "aaxis": {
            "gridcolor": "white",
            "linecolor": "white",
            "ticks": ""
           },
           "baxis": {
            "gridcolor": "white",
            "linecolor": "white",
            "ticks": ""
           },
           "bgcolor": "#E5ECF6",
           "caxis": {
            "gridcolor": "white",
            "linecolor": "white",
            "ticks": ""
           }
          },
          "title": {
           "x": 0.05
          },
          "xaxis": {
           "automargin": true,
           "gridcolor": "white",
           "linecolor": "white",
           "ticks": "",
           "zerolinecolor": "white",
           "zerolinewidth": 2
          },
          "yaxis": {
           "automargin": true,
           "gridcolor": "white",
           "linecolor": "white",
           "ticks": "",
           "zerolinecolor": "white",
           "zerolinewidth": 2
          }
         }
        }
       }
      },
      "text/html": [
       "<div id=\"cfa01ca3-d87b-4b34-8616-21cbebc768f8\" style=\"height: 600px; width: 100%;\" class=\"plotly-graph-div\"></div><script type=\"text/javascript\">require([\"plotly\"], function(Plotly) { window.PLOTLYENV=window.PLOTLYENV || {};window.PLOTLYENV.BASE_URL=\"https://plot.ly\";\n",
       "if (document.getElementById(\"cfa01ca3-d87b-4b34-8616-21cbebc768f8\")) {\n",
       "    Plotly.newPlot(\"cfa01ca3-d87b-4b34-8616-21cbebc768f8\", [{\"hovertemplate\": \"\\u00bfTienes alguna carencia visual que afecte a la recepci\\u00f3n de formas, colores, distancias, etc.?=No<br>counts=%{r}<br>prosume_cluster=%{theta}<extra></extra>\", \"legendgroup\": \"\\u00bfTienes alguna carencia visual que afecte a la recepci\\u00f3n de formas, colores, distancias, etc.?=No\", \"marker\": {\"color\": \"rgb(213,62,79)\"}, \"name\": \"\\u00bfTienes alguna carencia visual que afecte a la recepci\\u00f3n de formas, colores, distancias, etc.?=No\", \"r\": [19, 182, 84, 57, 305], \"showlegend\": true, \"theta\": [\"cluster_1\", \"cluster_2\", \"cluster_3\", \"cluster_4\", \"cluster_5\"], \"type\": \"barpolar\", \"uid\": \"d813b05a-9370-442e-b69f-b2894c25a89e\"}, {\"hovertemplate\": \"\\u00bfTienes alguna carencia visual que afecte a la recepci\\u00f3n de formas, colores, distancias, etc.?=S\\u00ed<br>counts=%{r}<br>prosume_cluster=%{theta}<extra></extra>\", \"legendgroup\": \"\\u00bfTienes alguna carencia visual que afecte a la recepci\\u00f3n de formas, colores, distancias, etc.?=S\\u00ed\", \"marker\": {\"color\": \"rgb(252,141,89)\"}, \"name\": \"\\u00bfTienes alguna carencia visual que afecte a la recepci\\u00f3n de formas, colores, distancias, etc.?=S\\u00ed\", \"r\": [18, 14, 16, 41, 31], \"showlegend\": true, \"theta\": [\"cluster_1\", \"cluster_2\", \"cluster_3\", \"cluster_4\", \"cluster_5\"], \"type\": \"barpolar\", \"uid\": \"51acf7d3-df36-4b35-ac75-299e4ccc1ee8\"}], {\"barmode\": \"group\", \"barnorm\": \"\", \"height\": 600, \"legend\": {\"tracegroupgap\": 0}, \"margin\": {\"t\": 60}, \"template\": {\"data\": {\"barpolar\": [{\"marker\": {\"line\": {\"color\": \"#E5ECF6\", \"width\": 0.5}}, \"type\": \"barpolar\"}], \"bar\": [{\"marker\": {\"line\": {\"color\": \"#E5ECF6\", \"width\": 0.5}}, \"type\": \"bar\"}], \"carpet\": [{\"aaxis\": {\"endlinecolor\": \"#2a3f5f\", \"gridcolor\": \"white\", \"linecolor\": \"white\", \"minorgridcolor\": \"white\", \"startlinecolor\": \"#2a3f5f\"}, \"baxis\": {\"endlinecolor\": \"#2a3f5f\", \"gridcolor\": \"white\", \"linecolor\": \"white\", \"minorgridcolor\": \"white\", \"startlinecolor\": \"#2a3f5f\"}, \"type\": \"carpet\"}], \"choropleth\": [{\"colorbar\": {\"outlinewidth\": 0, \"ticks\": \"\"}, \"type\": \"choropleth\"}], \"contourcarpet\": [{\"colorbar\": {\"outlinewidth\": 0, \"ticks\": \"\"}, \"type\": \"contourcarpet\"}], \"contour\": [{\"autocolorscale\": true, \"colorbar\": {\"outlinewidth\": 0, \"ticks\": \"\"}, \"type\": \"contour\"}], \"heatmapgl\": [{\"colorbar\": {\"outlinewidth\": 0, \"ticks\": \"\"}, \"type\": \"heatmapgl\"}], \"heatmap\": [{\"autocolorscale\": true, \"colorbar\": {\"outlinewidth\": 0, \"ticks\": \"\"}, \"type\": \"heatmap\"}], \"histogram2dcontour\": [{\"autocolorscale\": true, \"colorbar\": {\"outlinewidth\": 0, \"ticks\": \"\"}, \"type\": \"histogram2dcontour\"}], \"histogram2d\": [{\"autocolorscale\": true, \"colorbar\": {\"outlinewidth\": 0, \"ticks\": \"\"}, \"type\": \"histogram2d\"}], \"histogram\": [{\"marker\": {\"colorbar\": {\"outlinewidth\": 0, \"ticks\": \"\"}}, \"type\": \"histogram\"}], \"mesh3d\": [{\"colorbar\": {\"outlinewidth\": 0, \"ticks\": \"\"}, \"type\": \"mesh3d\"}], \"parcoords\": [{\"line\": {\"colorbar\": {\"outlinewidth\": 0, \"ticks\": \"\"}}, \"type\": \"parcoords\"}], \"scatter3d\": [{\"marker\": {\"colorbar\": {\"outlinewidth\": 0, \"ticks\": \"\"}}, \"type\": \"scatter3d\"}], \"scattercarpet\": [{\"marker\": {\"colorbar\": {\"outlinewidth\": 0, \"ticks\": \"\"}}, \"type\": \"scattercarpet\"}], \"scattergeo\": [{\"marker\": {\"colorbar\": {\"outlinewidth\": 0, \"ticks\": \"\"}}, \"type\": \"scattergeo\"}], \"scattergl\": [{\"marker\": {\"colorbar\": {\"outlinewidth\": 0, \"ticks\": \"\"}}, \"type\": \"scattergl\"}], \"scattermapbox\": [{\"marker\": {\"colorbar\": {\"outlinewidth\": 0, \"ticks\": \"\"}}, \"type\": \"scattermapbox\"}], \"scatterpolargl\": [{\"marker\": {\"colorbar\": {\"outlinewidth\": 0, \"ticks\": \"\"}}, \"type\": \"scatterpolargl\"}], \"scatterpolar\": [{\"marker\": {\"colorbar\": {\"outlinewidth\": 0, \"ticks\": \"\"}}, \"type\": \"scatterpolar\"}], \"scatter\": [{\"marker\": {\"colorbar\": {\"outlinewidth\": 0, \"ticks\": \"\"}}, \"type\": \"scatter\"}], \"scatterternary\": [{\"marker\": {\"colorbar\": {\"outlinewidth\": 0, \"ticks\": \"\"}}, \"type\": \"scatterternary\"}], \"surface\": [{\"colorbar\": {\"outlinewidth\": 0, \"ticks\": \"\"}, \"type\": \"surface\"}], \"table\": [{\"cells\": {\"fill\": {\"color\": \"#EBF0F8\"}, \"line\": {\"color\": \"white\"}}, \"header\": {\"fill\": {\"color\": \"#C8D4E3\"}, \"line\": {\"color\": \"white\"}}, \"type\": \"table\"}]}, \"layout\": {\"annotationdefaults\": {\"arrowcolor\": \"#506784\", \"arrowhead\": 0, \"arrowwidth\": 1}, \"colorscale\": {\"diverging\": [[0, \"#8e0152\"], [0.1, \"#c51b7d\"], [0.2, \"#de77ae\"], [0.3, \"#f1b6da\"], [0.4, \"#fde0ef\"], [0.5, \"#f7f7f7\"], [0.6, \"#e6f5d0\"], [0.7, \"#b8e186\"], [0.8, \"#7fbc41\"], [0.9, \"#4d9221\"], [1, \"#276419\"]], \"sequential\": [[0.0, \"#0508b8\"], [0.0893854748603352, \"#1910d8\"], [0.1787709497206704, \"#3c19f0\"], [0.2681564245810056, \"#6b1cfb\"], [0.3575418994413408, \"#981cfd\"], [0.44692737430167595, \"#bf1cfd\"], [0.5363128491620112, \"#dd2bfd\"], [0.6256983240223464, \"#f246fe\"], [0.7150837988826816, \"#fc67fd\"], [0.8044692737430168, \"#fe88fc\"], [0.8938547486033519, \"#fea5fd\"], [0.9832402234636871, \"#febefe\"], [1.0, \"#fec3fe\"]], \"sequentialminus\": [[0.0, \"#0508b8\"], [0.0893854748603352, \"#1910d8\"], [0.1787709497206704, \"#3c19f0\"], [0.2681564245810056, \"#6b1cfb\"], [0.3575418994413408, \"#981cfd\"], [0.44692737430167595, \"#bf1cfd\"], [0.5363128491620112, \"#dd2bfd\"], [0.6256983240223464, \"#f246fe\"], [0.7150837988826816, \"#fc67fd\"], [0.8044692737430168, \"#fe88fc\"], [0.8938547486033519, \"#fea5fd\"], [0.9832402234636871, \"#febefe\"], [1.0, \"#fec3fe\"]]}, \"colorway\": [\"#636efa\", \"#EF553B\", \"#00cc96\", \"#ab63fa\", \"#19d3f3\", \"#e763fa\", \"#FECB52\", \"#FFA15A\", \"#FF6692\", \"#B6E880\"], \"font\": {\"color\": \"#2a3f5f\"}, \"geo\": {\"bgcolor\": \"white\", \"lakecolor\": \"white\", \"landcolor\": \"#E5ECF6\", \"showlakes\": true, \"showland\": true, \"subunitcolor\": \"white\"}, \"hovermode\": \"closest\", \"mapbox\": {\"style\": \"light\"}, \"paper_bgcolor\": \"white\", \"plot_bgcolor\": \"#E5ECF6\", \"polar\": {\"angularaxis\": {\"gridcolor\": \"white\", \"linecolor\": \"white\", \"ticks\": \"\"}, \"bgcolor\": \"#E5ECF6\", \"radialaxis\": {\"gridcolor\": \"white\", \"linecolor\": \"white\", \"ticks\": \"\"}}, \"scene\": {\"xaxis\": {\"backgroundcolor\": \"#E5ECF6\", \"gridcolor\": \"white\", \"gridwidth\": 2, \"linecolor\": \"white\", \"showbackground\": true, \"ticks\": \"\", \"zerolinecolor\": \"white\"}, \"yaxis\": {\"backgroundcolor\": \"#E5ECF6\", \"gridcolor\": \"white\", \"gridwidth\": 2, \"linecolor\": \"white\", \"showbackground\": true, \"ticks\": \"\", \"zerolinecolor\": \"white\"}, \"zaxis\": {\"backgroundcolor\": \"#E5ECF6\", \"gridcolor\": \"white\", \"gridwidth\": 2, \"linecolor\": \"white\", \"showbackground\": true, \"ticks\": \"\", \"zerolinecolor\": \"white\"}}, \"shapedefaults\": {\"fillcolor\": \"#506784\", \"line\": {\"width\": 0}, \"opacity\": 0.4}, \"ternary\": {\"aaxis\": {\"gridcolor\": \"white\", \"linecolor\": \"white\", \"ticks\": \"\"}, \"baxis\": {\"gridcolor\": \"white\", \"linecolor\": \"white\", \"ticks\": \"\"}, \"bgcolor\": \"#E5ECF6\", \"caxis\": {\"gridcolor\": \"white\", \"linecolor\": \"white\", \"ticks\": \"\"}}, \"title\": {\"x\": 0.05}, \"xaxis\": {\"automargin\": true, \"gridcolor\": \"white\", \"linecolor\": \"white\", \"ticks\": \"\", \"zerolinecolor\": \"white\", \"zerolinewidth\": 2}, \"yaxis\": {\"automargin\": true, \"gridcolor\": \"white\", \"linecolor\": \"white\", \"ticks\": \"\", \"zerolinecolor\": \"white\", \"zerolinewidth\": 2}}}, \"polar\": {\"angularaxis\": {\"direction\": \"clockwise\", \"rotation\": 90}}}, {\"showLink\": false, \"linkText\": \"Export to plot.ly\", \"plotlyServerURL\": \"https://plot.ly\"}); \n",
       "}\n",
       "});</script><script type=\"text/javascript\">window.addEventListener(\"resize\", function(){if (document.getElementById(\"cfa01ca3-d87b-4b34-8616-21cbebc768f8\")) {window._Plotly.Plots.resize(document.getElementById(\"cfa01ca3-d87b-4b34-8616-21cbebc768f8\"));};})</script>"
      ],
      "text/vnd.plotly.v1+html": [
       "<div id=\"cfa01ca3-d87b-4b34-8616-21cbebc768f8\" style=\"height: 600px; width: 100%;\" class=\"plotly-graph-div\"></div><script type=\"text/javascript\">require([\"plotly\"], function(Plotly) { window.PLOTLYENV=window.PLOTLYENV || {};window.PLOTLYENV.BASE_URL=\"https://plot.ly\";\n",
       "if (document.getElementById(\"cfa01ca3-d87b-4b34-8616-21cbebc768f8\")) {\n",
       "    Plotly.newPlot(\"cfa01ca3-d87b-4b34-8616-21cbebc768f8\", [{\"hovertemplate\": \"\\u00bfTienes alguna carencia visual que afecte a la recepci\\u00f3n de formas, colores, distancias, etc.?=No<br>counts=%{r}<br>prosume_cluster=%{theta}<extra></extra>\", \"legendgroup\": \"\\u00bfTienes alguna carencia visual que afecte a la recepci\\u00f3n de formas, colores, distancias, etc.?=No\", \"marker\": {\"color\": \"rgb(213,62,79)\"}, \"name\": \"\\u00bfTienes alguna carencia visual que afecte a la recepci\\u00f3n de formas, colores, distancias, etc.?=No\", \"r\": [19, 182, 84, 57, 305], \"showlegend\": true, \"theta\": [\"cluster_1\", \"cluster_2\", \"cluster_3\", \"cluster_4\", \"cluster_5\"], \"type\": \"barpolar\", \"uid\": \"d813b05a-9370-442e-b69f-b2894c25a89e\"}, {\"hovertemplate\": \"\\u00bfTienes alguna carencia visual que afecte a la recepci\\u00f3n de formas, colores, distancias, etc.?=S\\u00ed<br>counts=%{r}<br>prosume_cluster=%{theta}<extra></extra>\", \"legendgroup\": \"\\u00bfTienes alguna carencia visual que afecte a la recepci\\u00f3n de formas, colores, distancias, etc.?=S\\u00ed\", \"marker\": {\"color\": \"rgb(252,141,89)\"}, \"name\": \"\\u00bfTienes alguna carencia visual que afecte a la recepci\\u00f3n de formas, colores, distancias, etc.?=S\\u00ed\", \"r\": [18, 14, 16, 41, 31], \"showlegend\": true, \"theta\": [\"cluster_1\", \"cluster_2\", \"cluster_3\", \"cluster_4\", \"cluster_5\"], \"type\": \"barpolar\", \"uid\": \"51acf7d3-df36-4b35-ac75-299e4ccc1ee8\"}], {\"barmode\": \"group\", \"barnorm\": \"\", \"height\": 600, \"legend\": {\"tracegroupgap\": 0}, \"margin\": {\"t\": 60}, \"template\": {\"data\": {\"barpolar\": [{\"marker\": {\"line\": {\"color\": \"#E5ECF6\", \"width\": 0.5}}, \"type\": \"barpolar\"}], \"bar\": [{\"marker\": {\"line\": {\"color\": \"#E5ECF6\", \"width\": 0.5}}, \"type\": \"bar\"}], \"carpet\": [{\"aaxis\": {\"endlinecolor\": \"#2a3f5f\", \"gridcolor\": \"white\", \"linecolor\": \"white\", \"minorgridcolor\": \"white\", \"startlinecolor\": \"#2a3f5f\"}, \"baxis\": {\"endlinecolor\": \"#2a3f5f\", \"gridcolor\": \"white\", \"linecolor\": \"white\", \"minorgridcolor\": \"white\", \"startlinecolor\": \"#2a3f5f\"}, \"type\": \"carpet\"}], \"choropleth\": [{\"colorbar\": {\"outlinewidth\": 0, \"ticks\": \"\"}, \"type\": \"choropleth\"}], \"contourcarpet\": [{\"colorbar\": {\"outlinewidth\": 0, \"ticks\": \"\"}, \"type\": \"contourcarpet\"}], \"contour\": [{\"autocolorscale\": true, \"colorbar\": {\"outlinewidth\": 0, \"ticks\": \"\"}, \"type\": \"contour\"}], \"heatmapgl\": [{\"colorbar\": {\"outlinewidth\": 0, \"ticks\": \"\"}, \"type\": \"heatmapgl\"}], \"heatmap\": [{\"autocolorscale\": true, \"colorbar\": {\"outlinewidth\": 0, \"ticks\": \"\"}, \"type\": \"heatmap\"}], \"histogram2dcontour\": [{\"autocolorscale\": true, \"colorbar\": {\"outlinewidth\": 0, \"ticks\": \"\"}, \"type\": \"histogram2dcontour\"}], \"histogram2d\": [{\"autocolorscale\": true, \"colorbar\": {\"outlinewidth\": 0, \"ticks\": \"\"}, \"type\": \"histogram2d\"}], \"histogram\": [{\"marker\": {\"colorbar\": {\"outlinewidth\": 0, \"ticks\": \"\"}}, \"type\": \"histogram\"}], \"mesh3d\": [{\"colorbar\": {\"outlinewidth\": 0, \"ticks\": \"\"}, \"type\": \"mesh3d\"}], \"parcoords\": [{\"line\": {\"colorbar\": {\"outlinewidth\": 0, \"ticks\": \"\"}}, \"type\": \"parcoords\"}], \"scatter3d\": [{\"marker\": {\"colorbar\": {\"outlinewidth\": 0, \"ticks\": \"\"}}, \"type\": \"scatter3d\"}], \"scattercarpet\": [{\"marker\": {\"colorbar\": {\"outlinewidth\": 0, \"ticks\": \"\"}}, \"type\": \"scattercarpet\"}], \"scattergeo\": [{\"marker\": {\"colorbar\": {\"outlinewidth\": 0, \"ticks\": \"\"}}, \"type\": \"scattergeo\"}], \"scattergl\": [{\"marker\": {\"colorbar\": {\"outlinewidth\": 0, \"ticks\": \"\"}}, \"type\": \"scattergl\"}], \"scattermapbox\": [{\"marker\": {\"colorbar\": {\"outlinewidth\": 0, \"ticks\": \"\"}}, \"type\": \"scattermapbox\"}], \"scatterpolargl\": [{\"marker\": {\"colorbar\": {\"outlinewidth\": 0, \"ticks\": \"\"}}, \"type\": \"scatterpolargl\"}], \"scatterpolar\": [{\"marker\": {\"colorbar\": {\"outlinewidth\": 0, \"ticks\": \"\"}}, \"type\": \"scatterpolar\"}], \"scatter\": [{\"marker\": {\"colorbar\": {\"outlinewidth\": 0, \"ticks\": \"\"}}, \"type\": \"scatter\"}], \"scatterternary\": [{\"marker\": {\"colorbar\": {\"outlinewidth\": 0, \"ticks\": \"\"}}, \"type\": \"scatterternary\"}], \"surface\": [{\"colorbar\": {\"outlinewidth\": 0, \"ticks\": \"\"}, \"type\": \"surface\"}], \"table\": [{\"cells\": {\"fill\": {\"color\": \"#EBF0F8\"}, \"line\": {\"color\": \"white\"}}, \"header\": {\"fill\": {\"color\": \"#C8D4E3\"}, \"line\": {\"color\": \"white\"}}, \"type\": \"table\"}]}, \"layout\": {\"annotationdefaults\": {\"arrowcolor\": \"#506784\", \"arrowhead\": 0, \"arrowwidth\": 1}, \"colorscale\": {\"diverging\": [[0, \"#8e0152\"], [0.1, \"#c51b7d\"], [0.2, \"#de77ae\"], [0.3, \"#f1b6da\"], [0.4, \"#fde0ef\"], [0.5, \"#f7f7f7\"], [0.6, \"#e6f5d0\"], [0.7, \"#b8e186\"], [0.8, \"#7fbc41\"], [0.9, \"#4d9221\"], [1, \"#276419\"]], \"sequential\": [[0.0, \"#0508b8\"], [0.0893854748603352, \"#1910d8\"], [0.1787709497206704, \"#3c19f0\"], [0.2681564245810056, \"#6b1cfb\"], [0.3575418994413408, \"#981cfd\"], [0.44692737430167595, \"#bf1cfd\"], [0.5363128491620112, \"#dd2bfd\"], [0.6256983240223464, \"#f246fe\"], [0.7150837988826816, \"#fc67fd\"], [0.8044692737430168, \"#fe88fc\"], [0.8938547486033519, \"#fea5fd\"], [0.9832402234636871, \"#febefe\"], [1.0, \"#fec3fe\"]], \"sequentialminus\": [[0.0, \"#0508b8\"], [0.0893854748603352, \"#1910d8\"], [0.1787709497206704, \"#3c19f0\"], [0.2681564245810056, \"#6b1cfb\"], [0.3575418994413408, \"#981cfd\"], [0.44692737430167595, \"#bf1cfd\"], [0.5363128491620112, \"#dd2bfd\"], [0.6256983240223464, \"#f246fe\"], [0.7150837988826816, \"#fc67fd\"], [0.8044692737430168, \"#fe88fc\"], [0.8938547486033519, \"#fea5fd\"], [0.9832402234636871, \"#febefe\"], [1.0, \"#fec3fe\"]]}, \"colorway\": [\"#636efa\", \"#EF553B\", \"#00cc96\", \"#ab63fa\", \"#19d3f3\", \"#e763fa\", \"#FECB52\", \"#FFA15A\", \"#FF6692\", \"#B6E880\"], \"font\": {\"color\": \"#2a3f5f\"}, \"geo\": {\"bgcolor\": \"white\", \"lakecolor\": \"white\", \"landcolor\": \"#E5ECF6\", \"showlakes\": true, \"showland\": true, \"subunitcolor\": \"white\"}, \"hovermode\": \"closest\", \"mapbox\": {\"style\": \"light\"}, \"paper_bgcolor\": \"white\", \"plot_bgcolor\": \"#E5ECF6\", \"polar\": {\"angularaxis\": {\"gridcolor\": \"white\", \"linecolor\": \"white\", \"ticks\": \"\"}, \"bgcolor\": \"#E5ECF6\", \"radialaxis\": {\"gridcolor\": \"white\", \"linecolor\": \"white\", \"ticks\": \"\"}}, \"scene\": {\"xaxis\": {\"backgroundcolor\": \"#E5ECF6\", \"gridcolor\": \"white\", \"gridwidth\": 2, \"linecolor\": \"white\", \"showbackground\": true, \"ticks\": \"\", \"zerolinecolor\": \"white\"}, \"yaxis\": {\"backgroundcolor\": \"#E5ECF6\", \"gridcolor\": \"white\", \"gridwidth\": 2, \"linecolor\": \"white\", \"showbackground\": true, \"ticks\": \"\", \"zerolinecolor\": \"white\"}, \"zaxis\": {\"backgroundcolor\": \"#E5ECF6\", \"gridcolor\": \"white\", \"gridwidth\": 2, \"linecolor\": \"white\", \"showbackground\": true, \"ticks\": \"\", \"zerolinecolor\": \"white\"}}, \"shapedefaults\": {\"fillcolor\": \"#506784\", \"line\": {\"width\": 0}, \"opacity\": 0.4}, \"ternary\": {\"aaxis\": {\"gridcolor\": \"white\", \"linecolor\": \"white\", \"ticks\": \"\"}, \"baxis\": {\"gridcolor\": \"white\", \"linecolor\": \"white\", \"ticks\": \"\"}, \"bgcolor\": \"#E5ECF6\", \"caxis\": {\"gridcolor\": \"white\", \"linecolor\": \"white\", \"ticks\": \"\"}}, \"title\": {\"x\": 0.05}, \"xaxis\": {\"automargin\": true, \"gridcolor\": \"white\", \"linecolor\": \"white\", \"ticks\": \"\", \"zerolinecolor\": \"white\", \"zerolinewidth\": 2}, \"yaxis\": {\"automargin\": true, \"gridcolor\": \"white\", \"linecolor\": \"white\", \"ticks\": \"\", \"zerolinecolor\": \"white\", \"zerolinewidth\": 2}}}, \"polar\": {\"angularaxis\": {\"direction\": \"clockwise\", \"rotation\": 90}}}, {\"showLink\": false, \"linkText\": \"Export to plot.ly\", \"plotlyServerURL\": \"https://plot.ly\"}); \n",
       "}\n",
       "});</script><script type=\"text/javascript\">window.addEventListener(\"resize\", function(){if (document.getElementById(\"cfa01ca3-d87b-4b34-8616-21cbebc768f8\")) {window._Plotly.Plots.resize(document.getElementById(\"cfa01ca3-d87b-4b34-8616-21cbebc768f8\"));};})</script>"
      ]
     },
     "metadata": {},
     "output_type": "display_data"
    },
    {
     "name": "stdout",
     "output_type": "stream",
     "text": [
      "Comparando la pregunta ¿Tienes acceso a dispositivos (ordenador, móvil, tablet, etc.) conectados a Internet habitualmente?\n"
     ]
    },
    {
     "data": {
      "application/vnd.plotly.v1+json": {
       "config": {
        "linkText": "Export to plot.ly",
        "plotlyServerURL": "https://plot.ly",
        "showLink": false
       },
       "data": [
        {
         "hovertemplate": "¿Tienes acceso a dispositivos (ordenador, móvil, tablet, etc.) conectados a Internet habitualmente?=1. Nunca<br>counts=%{r}<br>prosume_cluster=%{theta}<extra></extra>",
         "legendgroup": "¿Tienes acceso a dispositivos (ordenador, móvil, tablet, etc.) conectados a Internet habitualmente?=1. Nunca",
         "marker": {
          "color": "rgb(213,62,79)"
         },
         "name": "¿Tienes acceso a dispositivos (ordenador, móvil, tablet, etc.) conectados a Internet habitualmente?=1. Nunca",
         "r": [
          1
         ],
         "showlegend": true,
         "theta": [
          "cluster_1"
         ],
         "type": "barpolar",
         "uid": "05c5b2a9-ebd4-4666-9614-e6b3ef2dec83"
        },
        {
         "hovertemplate": "¿Tienes acceso a dispositivos (ordenador, móvil, tablet, etc.) conectados a Internet habitualmente?=2. Ocasionalmente<br>counts=%{r}<br>prosume_cluster=%{theta}<extra></extra>",
         "legendgroup": "¿Tienes acceso a dispositivos (ordenador, móvil, tablet, etc.) conectados a Internet habitualmente?=2. Ocasionalmente",
         "marker": {
          "color": "rgb(252,141,89)"
         },
         "name": "¿Tienes acceso a dispositivos (ordenador, móvil, tablet, etc.) conectados a Internet habitualmente?=2. Ocasionalmente",
         "r": [
          4,
          4
         ],
         "showlegend": true,
         "theta": [
          "cluster_1",
          "cluster_2"
         ],
         "type": "barpolar",
         "uid": "c2dccb20-37c5-4792-afd0-fd0daf79984d"
        },
        {
         "hovertemplate": "¿Tienes acceso a dispositivos (ordenador, móvil, tablet, etc.) conectados a Internet habitualmente?=3. Semanalmente<br>counts=%{r}<br>prosume_cluster=%{theta}<extra></extra>",
         "legendgroup": "¿Tienes acceso a dispositivos (ordenador, móvil, tablet, etc.) conectados a Internet habitualmente?=3. Semanalmente",
         "marker": {
          "color": "rgb(254,224,139)"
         },
         "name": "¿Tienes acceso a dispositivos (ordenador, móvil, tablet, etc.) conectados a Internet habitualmente?=3. Semanalmente",
         "r": [
          15,
          9,
          4
         ],
         "showlegend": true,
         "theta": [
          "cluster_1",
          "cluster_2",
          "cluster_3"
         ],
         "type": "barpolar",
         "uid": "80868485-e513-4edd-aae5-de7a288b1ff5"
        },
        {
         "hovertemplate": "¿Tienes acceso a dispositivos (ordenador, móvil, tablet, etc.) conectados a Internet habitualmente?=4. Diariamente<br>counts=%{r}<br>prosume_cluster=%{theta}<extra></extra>",
         "legendgroup": "¿Tienes acceso a dispositivos (ordenador, móvil, tablet, etc.) conectados a Internet habitualmente?=4. Diariamente",
         "marker": {
          "color": "rgb(230,245,152)"
         },
         "name": "¿Tienes acceso a dispositivos (ordenador, móvil, tablet, etc.) conectados a Internet habitualmente?=4. Diariamente",
         "r": [
          16,
          71,
          47,
          10,
          26
         ],
         "showlegend": true,
         "theta": [
          "cluster_1",
          "cluster_2",
          "cluster_3",
          "cluster_4",
          "cluster_5"
         ],
         "type": "barpolar",
         "uid": "4748b0aa-187a-4b82-95b7-dacf92834d46"
        },
        {
         "hovertemplate": "¿Tienes acceso a dispositivos (ordenador, móvil, tablet, etc.) conectados a Internet habitualmente?=5. Varias veces al día<br>counts=%{r}<br>prosume_cluster=%{theta}<extra></extra>",
         "legendgroup": "¿Tienes acceso a dispositivos (ordenador, móvil, tablet, etc.) conectados a Internet habitualmente?=5. Varias veces al día",
         "marker": {
          "color": "rgb(153,213,148)"
         },
         "name": "¿Tienes acceso a dispositivos (ordenador, móvil, tablet, etc.) conectados a Internet habitualmente?=5. Varias veces al día",
         "r": [
          1,
          112,
          49,
          88,
          310
         ],
         "showlegend": true,
         "theta": [
          "cluster_1",
          "cluster_2",
          "cluster_3",
          "cluster_4",
          "cluster_5"
         ],
         "type": "barpolar",
         "uid": "f66aada7-e6de-4f63-af9e-2b99041cb929"
        }
       ],
       "layout": {
        "barmode": "group",
        "barnorm": "",
        "height": 600,
        "legend": {
         "tracegroupgap": 0
        },
        "margin": {
         "t": 60
        },
        "polar": {
         "angularaxis": {
          "direction": "clockwise",
          "rotation": 90
         }
        },
        "template": {
         "data": {
          "bar": [
           {
            "marker": {
             "line": {
              "color": "#E5ECF6",
              "width": 0.5
             }
            },
            "type": "bar"
           }
          ],
          "barpolar": [
           {
            "marker": {
             "line": {
              "color": "#E5ECF6",
              "width": 0.5
             }
            },
            "type": "barpolar"
           }
          ],
          "carpet": [
           {
            "aaxis": {
             "endlinecolor": "#2a3f5f",
             "gridcolor": "white",
             "linecolor": "white",
             "minorgridcolor": "white",
             "startlinecolor": "#2a3f5f"
            },
            "baxis": {
             "endlinecolor": "#2a3f5f",
             "gridcolor": "white",
             "linecolor": "white",
             "minorgridcolor": "white",
             "startlinecolor": "#2a3f5f"
            },
            "type": "carpet"
           }
          ],
          "choropleth": [
           {
            "colorbar": {
             "outlinewidth": 0,
             "ticks": ""
            },
            "type": "choropleth"
           }
          ],
          "contour": [
           {
            "autocolorscale": true,
            "colorbar": {
             "outlinewidth": 0,
             "ticks": ""
            },
            "type": "contour"
           }
          ],
          "contourcarpet": [
           {
            "colorbar": {
             "outlinewidth": 0,
             "ticks": ""
            },
            "type": "contourcarpet"
           }
          ],
          "heatmap": [
           {
            "autocolorscale": true,
            "colorbar": {
             "outlinewidth": 0,
             "ticks": ""
            },
            "type": "heatmap"
           }
          ],
          "heatmapgl": [
           {
            "colorbar": {
             "outlinewidth": 0,
             "ticks": ""
            },
            "type": "heatmapgl"
           }
          ],
          "histogram": [
           {
            "marker": {
             "colorbar": {
              "outlinewidth": 0,
              "ticks": ""
             }
            },
            "type": "histogram"
           }
          ],
          "histogram2d": [
           {
            "autocolorscale": true,
            "colorbar": {
             "outlinewidth": 0,
             "ticks": ""
            },
            "type": "histogram2d"
           }
          ],
          "histogram2dcontour": [
           {
            "autocolorscale": true,
            "colorbar": {
             "outlinewidth": 0,
             "ticks": ""
            },
            "type": "histogram2dcontour"
           }
          ],
          "mesh3d": [
           {
            "colorbar": {
             "outlinewidth": 0,
             "ticks": ""
            },
            "type": "mesh3d"
           }
          ],
          "parcoords": [
           {
            "line": {
             "colorbar": {
              "outlinewidth": 0,
              "ticks": ""
             }
            },
            "type": "parcoords"
           }
          ],
          "scatter": [
           {
            "marker": {
             "colorbar": {
              "outlinewidth": 0,
              "ticks": ""
             }
            },
            "type": "scatter"
           }
          ],
          "scatter3d": [
           {
            "marker": {
             "colorbar": {
              "outlinewidth": 0,
              "ticks": ""
             }
            },
            "type": "scatter3d"
           }
          ],
          "scattercarpet": [
           {
            "marker": {
             "colorbar": {
              "outlinewidth": 0,
              "ticks": ""
             }
            },
            "type": "scattercarpet"
           }
          ],
          "scattergeo": [
           {
            "marker": {
             "colorbar": {
              "outlinewidth": 0,
              "ticks": ""
             }
            },
            "type": "scattergeo"
           }
          ],
          "scattergl": [
           {
            "marker": {
             "colorbar": {
              "outlinewidth": 0,
              "ticks": ""
             }
            },
            "type": "scattergl"
           }
          ],
          "scattermapbox": [
           {
            "marker": {
             "colorbar": {
              "outlinewidth": 0,
              "ticks": ""
             }
            },
            "type": "scattermapbox"
           }
          ],
          "scatterpolar": [
           {
            "marker": {
             "colorbar": {
              "outlinewidth": 0,
              "ticks": ""
             }
            },
            "type": "scatterpolar"
           }
          ],
          "scatterpolargl": [
           {
            "marker": {
             "colorbar": {
              "outlinewidth": 0,
              "ticks": ""
             }
            },
            "type": "scatterpolargl"
           }
          ],
          "scatterternary": [
           {
            "marker": {
             "colorbar": {
              "outlinewidth": 0,
              "ticks": ""
             }
            },
            "type": "scatterternary"
           }
          ],
          "surface": [
           {
            "colorbar": {
             "outlinewidth": 0,
             "ticks": ""
            },
            "type": "surface"
           }
          ],
          "table": [
           {
            "cells": {
             "fill": {
              "color": "#EBF0F8"
             },
             "line": {
              "color": "white"
             }
            },
            "header": {
             "fill": {
              "color": "#C8D4E3"
             },
             "line": {
              "color": "white"
             }
            },
            "type": "table"
           }
          ]
         },
         "layout": {
          "annotationdefaults": {
           "arrowcolor": "#506784",
           "arrowhead": 0,
           "arrowwidth": 1
          },
          "colorscale": {
           "diverging": [
            [
             0,
             "#8e0152"
            ],
            [
             0.1,
             "#c51b7d"
            ],
            [
             0.2,
             "#de77ae"
            ],
            [
             0.3,
             "#f1b6da"
            ],
            [
             0.4,
             "#fde0ef"
            ],
            [
             0.5,
             "#f7f7f7"
            ],
            [
             0.6,
             "#e6f5d0"
            ],
            [
             0.7,
             "#b8e186"
            ],
            [
             0.8,
             "#7fbc41"
            ],
            [
             0.9,
             "#4d9221"
            ],
            [
             1,
             "#276419"
            ]
           ],
           "sequential": [
            [
             0,
             "#0508b8"
            ],
            [
             0.0893854748603352,
             "#1910d8"
            ],
            [
             0.1787709497206704,
             "#3c19f0"
            ],
            [
             0.2681564245810056,
             "#6b1cfb"
            ],
            [
             0.3575418994413408,
             "#981cfd"
            ],
            [
             0.44692737430167595,
             "#bf1cfd"
            ],
            [
             0.5363128491620112,
             "#dd2bfd"
            ],
            [
             0.6256983240223464,
             "#f246fe"
            ],
            [
             0.7150837988826816,
             "#fc67fd"
            ],
            [
             0.8044692737430168,
             "#fe88fc"
            ],
            [
             0.8938547486033519,
             "#fea5fd"
            ],
            [
             0.9832402234636871,
             "#febefe"
            ],
            [
             1,
             "#fec3fe"
            ]
           ],
           "sequentialminus": [
            [
             0,
             "#0508b8"
            ],
            [
             0.0893854748603352,
             "#1910d8"
            ],
            [
             0.1787709497206704,
             "#3c19f0"
            ],
            [
             0.2681564245810056,
             "#6b1cfb"
            ],
            [
             0.3575418994413408,
             "#981cfd"
            ],
            [
             0.44692737430167595,
             "#bf1cfd"
            ],
            [
             0.5363128491620112,
             "#dd2bfd"
            ],
            [
             0.6256983240223464,
             "#f246fe"
            ],
            [
             0.7150837988826816,
             "#fc67fd"
            ],
            [
             0.8044692737430168,
             "#fe88fc"
            ],
            [
             0.8938547486033519,
             "#fea5fd"
            ],
            [
             0.9832402234636871,
             "#febefe"
            ],
            [
             1,
             "#fec3fe"
            ]
           ]
          },
          "colorway": [
           "#636efa",
           "#EF553B",
           "#00cc96",
           "#ab63fa",
           "#19d3f3",
           "#e763fa",
           "#FECB52",
           "#FFA15A",
           "#FF6692",
           "#B6E880"
          ],
          "font": {
           "color": "#2a3f5f"
          },
          "geo": {
           "bgcolor": "white",
           "lakecolor": "white",
           "landcolor": "#E5ECF6",
           "showlakes": true,
           "showland": true,
           "subunitcolor": "white"
          },
          "hovermode": "closest",
          "mapbox": {
           "style": "light"
          },
          "paper_bgcolor": "white",
          "plot_bgcolor": "#E5ECF6",
          "polar": {
           "angularaxis": {
            "gridcolor": "white",
            "linecolor": "white",
            "ticks": ""
           },
           "bgcolor": "#E5ECF6",
           "radialaxis": {
            "gridcolor": "white",
            "linecolor": "white",
            "ticks": ""
           }
          },
          "scene": {
           "xaxis": {
            "backgroundcolor": "#E5ECF6",
            "gridcolor": "white",
            "gridwidth": 2,
            "linecolor": "white",
            "showbackground": true,
            "ticks": "",
            "zerolinecolor": "white"
           },
           "yaxis": {
            "backgroundcolor": "#E5ECF6",
            "gridcolor": "white",
            "gridwidth": 2,
            "linecolor": "white",
            "showbackground": true,
            "ticks": "",
            "zerolinecolor": "white"
           },
           "zaxis": {
            "backgroundcolor": "#E5ECF6",
            "gridcolor": "white",
            "gridwidth": 2,
            "linecolor": "white",
            "showbackground": true,
            "ticks": "",
            "zerolinecolor": "white"
           }
          },
          "shapedefaults": {
           "fillcolor": "#506784",
           "line": {
            "width": 0
           },
           "opacity": 0.4
          },
          "ternary": {
           "aaxis": {
            "gridcolor": "white",
            "linecolor": "white",
            "ticks": ""
           },
           "baxis": {
            "gridcolor": "white",
            "linecolor": "white",
            "ticks": ""
           },
           "bgcolor": "#E5ECF6",
           "caxis": {
            "gridcolor": "white",
            "linecolor": "white",
            "ticks": ""
           }
          },
          "title": {
           "x": 0.05
          },
          "xaxis": {
           "automargin": true,
           "gridcolor": "white",
           "linecolor": "white",
           "ticks": "",
           "zerolinecolor": "white",
           "zerolinewidth": 2
          },
          "yaxis": {
           "automargin": true,
           "gridcolor": "white",
           "linecolor": "white",
           "ticks": "",
           "zerolinecolor": "white",
           "zerolinewidth": 2
          }
         }
        }
       }
      },
      "text/html": [
       "<div id=\"ddfb0229-d48c-4e10-9716-7fa2d05971a5\" style=\"height: 600px; width: 100%;\" class=\"plotly-graph-div\"></div><script type=\"text/javascript\">require([\"plotly\"], function(Plotly) { window.PLOTLYENV=window.PLOTLYENV || {};window.PLOTLYENV.BASE_URL=\"https://plot.ly\";\n",
       "if (document.getElementById(\"ddfb0229-d48c-4e10-9716-7fa2d05971a5\")) {\n",
       "    Plotly.newPlot(\"ddfb0229-d48c-4e10-9716-7fa2d05971a5\", [{\"hovertemplate\": \"\\u00bfTienes acceso a dispositivos (ordenador, m\\u00f3vil, tablet, etc.) conectados a Internet habitualmente?=1. Nunca<br>counts=%{r}<br>prosume_cluster=%{theta}<extra></extra>\", \"legendgroup\": \"\\u00bfTienes acceso a dispositivos (ordenador, m\\u00f3vil, tablet, etc.) conectados a Internet habitualmente?=1. Nunca\", \"marker\": {\"color\": \"rgb(213,62,79)\"}, \"name\": \"\\u00bfTienes acceso a dispositivos (ordenador, m\\u00f3vil, tablet, etc.) conectados a Internet habitualmente?=1. Nunca\", \"r\": [1], \"showlegend\": true, \"theta\": [\"cluster_1\"], \"type\": \"barpolar\", \"uid\": \"05c5b2a9-ebd4-4666-9614-e6b3ef2dec83\"}, {\"hovertemplate\": \"\\u00bfTienes acceso a dispositivos (ordenador, m\\u00f3vil, tablet, etc.) conectados a Internet habitualmente?=2. Ocasionalmente<br>counts=%{r}<br>prosume_cluster=%{theta}<extra></extra>\", \"legendgroup\": \"\\u00bfTienes acceso a dispositivos (ordenador, m\\u00f3vil, tablet, etc.) conectados a Internet habitualmente?=2. Ocasionalmente\", \"marker\": {\"color\": \"rgb(252,141,89)\"}, \"name\": \"\\u00bfTienes acceso a dispositivos (ordenador, m\\u00f3vil, tablet, etc.) conectados a Internet habitualmente?=2. Ocasionalmente\", \"r\": [4, 4], \"showlegend\": true, \"theta\": [\"cluster_1\", \"cluster_2\"], \"type\": \"barpolar\", \"uid\": \"c2dccb20-37c5-4792-afd0-fd0daf79984d\"}, {\"hovertemplate\": \"\\u00bfTienes acceso a dispositivos (ordenador, m\\u00f3vil, tablet, etc.) conectados a Internet habitualmente?=3. Semanalmente<br>counts=%{r}<br>prosume_cluster=%{theta}<extra></extra>\", \"legendgroup\": \"\\u00bfTienes acceso a dispositivos (ordenador, m\\u00f3vil, tablet, etc.) conectados a Internet habitualmente?=3. Semanalmente\", \"marker\": {\"color\": \"rgb(254,224,139)\"}, \"name\": \"\\u00bfTienes acceso a dispositivos (ordenador, m\\u00f3vil, tablet, etc.) conectados a Internet habitualmente?=3. Semanalmente\", \"r\": [15, 9, 4], \"showlegend\": true, \"theta\": [\"cluster_1\", \"cluster_2\", \"cluster_3\"], \"type\": \"barpolar\", \"uid\": \"80868485-e513-4edd-aae5-de7a288b1ff5\"}, {\"hovertemplate\": \"\\u00bfTienes acceso a dispositivos (ordenador, m\\u00f3vil, tablet, etc.) conectados a Internet habitualmente?=4. Diariamente<br>counts=%{r}<br>prosume_cluster=%{theta}<extra></extra>\", \"legendgroup\": \"\\u00bfTienes acceso a dispositivos (ordenador, m\\u00f3vil, tablet, etc.) conectados a Internet habitualmente?=4. Diariamente\", \"marker\": {\"color\": \"rgb(230,245,152)\"}, \"name\": \"\\u00bfTienes acceso a dispositivos (ordenador, m\\u00f3vil, tablet, etc.) conectados a Internet habitualmente?=4. Diariamente\", \"r\": [16, 71, 47, 10, 26], \"showlegend\": true, \"theta\": [\"cluster_1\", \"cluster_2\", \"cluster_3\", \"cluster_4\", \"cluster_5\"], \"type\": \"barpolar\", \"uid\": \"4748b0aa-187a-4b82-95b7-dacf92834d46\"}, {\"hovertemplate\": \"\\u00bfTienes acceso a dispositivos (ordenador, m\\u00f3vil, tablet, etc.) conectados a Internet habitualmente?=5. Varias veces al d\\u00eda<br>counts=%{r}<br>prosume_cluster=%{theta}<extra></extra>\", \"legendgroup\": \"\\u00bfTienes acceso a dispositivos (ordenador, m\\u00f3vil, tablet, etc.) conectados a Internet habitualmente?=5. Varias veces al d\\u00eda\", \"marker\": {\"color\": \"rgb(153,213,148)\"}, \"name\": \"\\u00bfTienes acceso a dispositivos (ordenador, m\\u00f3vil, tablet, etc.) conectados a Internet habitualmente?=5. Varias veces al d\\u00eda\", \"r\": [1, 112, 49, 88, 310], \"showlegend\": true, \"theta\": [\"cluster_1\", \"cluster_2\", \"cluster_3\", \"cluster_4\", \"cluster_5\"], \"type\": \"barpolar\", \"uid\": \"f66aada7-e6de-4f63-af9e-2b99041cb929\"}], {\"barmode\": \"group\", \"barnorm\": \"\", \"height\": 600, \"legend\": {\"tracegroupgap\": 0}, \"margin\": {\"t\": 60}, \"template\": {\"data\": {\"barpolar\": [{\"marker\": {\"line\": {\"color\": \"#E5ECF6\", \"width\": 0.5}}, \"type\": \"barpolar\"}], \"bar\": [{\"marker\": {\"line\": {\"color\": \"#E5ECF6\", \"width\": 0.5}}, \"type\": \"bar\"}], \"carpet\": [{\"aaxis\": {\"endlinecolor\": \"#2a3f5f\", \"gridcolor\": \"white\", \"linecolor\": \"white\", \"minorgridcolor\": \"white\", \"startlinecolor\": \"#2a3f5f\"}, \"baxis\": {\"endlinecolor\": \"#2a3f5f\", \"gridcolor\": \"white\", \"linecolor\": \"white\", \"minorgridcolor\": \"white\", \"startlinecolor\": \"#2a3f5f\"}, \"type\": \"carpet\"}], \"choropleth\": [{\"colorbar\": {\"outlinewidth\": 0, \"ticks\": \"\"}, \"type\": \"choropleth\"}], \"contourcarpet\": [{\"colorbar\": {\"outlinewidth\": 0, \"ticks\": \"\"}, \"type\": \"contourcarpet\"}], \"contour\": [{\"autocolorscale\": true, \"colorbar\": {\"outlinewidth\": 0, \"ticks\": \"\"}, \"type\": \"contour\"}], \"heatmapgl\": [{\"colorbar\": {\"outlinewidth\": 0, \"ticks\": \"\"}, \"type\": \"heatmapgl\"}], \"heatmap\": [{\"autocolorscale\": true, \"colorbar\": {\"outlinewidth\": 0, \"ticks\": \"\"}, \"type\": \"heatmap\"}], \"histogram2dcontour\": [{\"autocolorscale\": true, \"colorbar\": {\"outlinewidth\": 0, \"ticks\": \"\"}, \"type\": \"histogram2dcontour\"}], \"histogram2d\": [{\"autocolorscale\": true, \"colorbar\": {\"outlinewidth\": 0, \"ticks\": \"\"}, \"type\": \"histogram2d\"}], \"histogram\": [{\"marker\": {\"colorbar\": {\"outlinewidth\": 0, \"ticks\": \"\"}}, \"type\": \"histogram\"}], \"mesh3d\": [{\"colorbar\": {\"outlinewidth\": 0, \"ticks\": \"\"}, \"type\": \"mesh3d\"}], \"parcoords\": [{\"line\": {\"colorbar\": {\"outlinewidth\": 0, \"ticks\": \"\"}}, \"type\": \"parcoords\"}], \"scatter3d\": [{\"marker\": {\"colorbar\": {\"outlinewidth\": 0, \"ticks\": \"\"}}, \"type\": \"scatter3d\"}], \"scattercarpet\": [{\"marker\": {\"colorbar\": {\"outlinewidth\": 0, \"ticks\": \"\"}}, \"type\": \"scattercarpet\"}], \"scattergeo\": [{\"marker\": {\"colorbar\": {\"outlinewidth\": 0, \"ticks\": \"\"}}, \"type\": \"scattergeo\"}], \"scattergl\": [{\"marker\": {\"colorbar\": {\"outlinewidth\": 0, \"ticks\": \"\"}}, \"type\": \"scattergl\"}], \"scattermapbox\": [{\"marker\": {\"colorbar\": {\"outlinewidth\": 0, \"ticks\": \"\"}}, \"type\": \"scattermapbox\"}], \"scatterpolargl\": [{\"marker\": {\"colorbar\": {\"outlinewidth\": 0, \"ticks\": \"\"}}, \"type\": \"scatterpolargl\"}], \"scatterpolar\": [{\"marker\": {\"colorbar\": {\"outlinewidth\": 0, \"ticks\": \"\"}}, \"type\": \"scatterpolar\"}], \"scatter\": [{\"marker\": {\"colorbar\": {\"outlinewidth\": 0, \"ticks\": \"\"}}, \"type\": \"scatter\"}], \"scatterternary\": [{\"marker\": {\"colorbar\": {\"outlinewidth\": 0, \"ticks\": \"\"}}, \"type\": \"scatterternary\"}], \"surface\": [{\"colorbar\": {\"outlinewidth\": 0, \"ticks\": \"\"}, \"type\": \"surface\"}], \"table\": [{\"cells\": {\"fill\": {\"color\": \"#EBF0F8\"}, \"line\": {\"color\": \"white\"}}, \"header\": {\"fill\": {\"color\": \"#C8D4E3\"}, \"line\": {\"color\": \"white\"}}, \"type\": \"table\"}]}, \"layout\": {\"annotationdefaults\": {\"arrowcolor\": \"#506784\", \"arrowhead\": 0, \"arrowwidth\": 1}, \"colorscale\": {\"diverging\": [[0, \"#8e0152\"], [0.1, \"#c51b7d\"], [0.2, \"#de77ae\"], [0.3, \"#f1b6da\"], [0.4, \"#fde0ef\"], [0.5, \"#f7f7f7\"], [0.6, \"#e6f5d0\"], [0.7, \"#b8e186\"], [0.8, \"#7fbc41\"], [0.9, \"#4d9221\"], [1, \"#276419\"]], \"sequential\": [[0.0, \"#0508b8\"], [0.0893854748603352, \"#1910d8\"], [0.1787709497206704, \"#3c19f0\"], [0.2681564245810056, \"#6b1cfb\"], [0.3575418994413408, \"#981cfd\"], [0.44692737430167595, \"#bf1cfd\"], [0.5363128491620112, \"#dd2bfd\"], [0.6256983240223464, \"#f246fe\"], [0.7150837988826816, \"#fc67fd\"], [0.8044692737430168, \"#fe88fc\"], [0.8938547486033519, \"#fea5fd\"], [0.9832402234636871, \"#febefe\"], [1.0, \"#fec3fe\"]], \"sequentialminus\": [[0.0, \"#0508b8\"], [0.0893854748603352, \"#1910d8\"], [0.1787709497206704, \"#3c19f0\"], [0.2681564245810056, \"#6b1cfb\"], [0.3575418994413408, \"#981cfd\"], [0.44692737430167595, \"#bf1cfd\"], [0.5363128491620112, \"#dd2bfd\"], [0.6256983240223464, \"#f246fe\"], [0.7150837988826816, \"#fc67fd\"], [0.8044692737430168, \"#fe88fc\"], [0.8938547486033519, \"#fea5fd\"], [0.9832402234636871, \"#febefe\"], [1.0, \"#fec3fe\"]]}, \"colorway\": [\"#636efa\", \"#EF553B\", \"#00cc96\", \"#ab63fa\", \"#19d3f3\", \"#e763fa\", \"#FECB52\", \"#FFA15A\", \"#FF6692\", \"#B6E880\"], \"font\": {\"color\": \"#2a3f5f\"}, \"geo\": {\"bgcolor\": \"white\", \"lakecolor\": \"white\", \"landcolor\": \"#E5ECF6\", \"showlakes\": true, \"showland\": true, \"subunitcolor\": \"white\"}, \"hovermode\": \"closest\", \"mapbox\": {\"style\": \"light\"}, \"paper_bgcolor\": \"white\", \"plot_bgcolor\": \"#E5ECF6\", \"polar\": {\"angularaxis\": {\"gridcolor\": \"white\", \"linecolor\": \"white\", \"ticks\": \"\"}, \"bgcolor\": \"#E5ECF6\", \"radialaxis\": {\"gridcolor\": \"white\", \"linecolor\": \"white\", \"ticks\": \"\"}}, \"scene\": {\"xaxis\": {\"backgroundcolor\": \"#E5ECF6\", \"gridcolor\": \"white\", \"gridwidth\": 2, \"linecolor\": \"white\", \"showbackground\": true, \"ticks\": \"\", \"zerolinecolor\": \"white\"}, \"yaxis\": {\"backgroundcolor\": \"#E5ECF6\", \"gridcolor\": \"white\", \"gridwidth\": 2, \"linecolor\": \"white\", \"showbackground\": true, \"ticks\": \"\", \"zerolinecolor\": \"white\"}, \"zaxis\": {\"backgroundcolor\": \"#E5ECF6\", \"gridcolor\": \"white\", \"gridwidth\": 2, \"linecolor\": \"white\", \"showbackground\": true, \"ticks\": \"\", \"zerolinecolor\": \"white\"}}, \"shapedefaults\": {\"fillcolor\": \"#506784\", \"line\": {\"width\": 0}, \"opacity\": 0.4}, \"ternary\": {\"aaxis\": {\"gridcolor\": \"white\", \"linecolor\": \"white\", \"ticks\": \"\"}, \"baxis\": {\"gridcolor\": \"white\", \"linecolor\": \"white\", \"ticks\": \"\"}, \"bgcolor\": \"#E5ECF6\", \"caxis\": {\"gridcolor\": \"white\", \"linecolor\": \"white\", \"ticks\": \"\"}}, \"title\": {\"x\": 0.05}, \"xaxis\": {\"automargin\": true, \"gridcolor\": \"white\", \"linecolor\": \"white\", \"ticks\": \"\", \"zerolinecolor\": \"white\", \"zerolinewidth\": 2}, \"yaxis\": {\"automargin\": true, \"gridcolor\": \"white\", \"linecolor\": \"white\", \"ticks\": \"\", \"zerolinecolor\": \"white\", \"zerolinewidth\": 2}}}, \"polar\": {\"angularaxis\": {\"direction\": \"clockwise\", \"rotation\": 90}}}, {\"showLink\": false, \"linkText\": \"Export to plot.ly\", \"plotlyServerURL\": \"https://plot.ly\"}); \n",
       "}\n",
       "});</script><script type=\"text/javascript\">window.addEventListener(\"resize\", function(){if (document.getElementById(\"ddfb0229-d48c-4e10-9716-7fa2d05971a5\")) {window._Plotly.Plots.resize(document.getElementById(\"ddfb0229-d48c-4e10-9716-7fa2d05971a5\"));};})</script>"
      ],
      "text/vnd.plotly.v1+html": [
       "<div id=\"ddfb0229-d48c-4e10-9716-7fa2d05971a5\" style=\"height: 600px; width: 100%;\" class=\"plotly-graph-div\"></div><script type=\"text/javascript\">require([\"plotly\"], function(Plotly) { window.PLOTLYENV=window.PLOTLYENV || {};window.PLOTLYENV.BASE_URL=\"https://plot.ly\";\n",
       "if (document.getElementById(\"ddfb0229-d48c-4e10-9716-7fa2d05971a5\")) {\n",
       "    Plotly.newPlot(\"ddfb0229-d48c-4e10-9716-7fa2d05971a5\", [{\"hovertemplate\": \"\\u00bfTienes acceso a dispositivos (ordenador, m\\u00f3vil, tablet, etc.) conectados a Internet habitualmente?=1. Nunca<br>counts=%{r}<br>prosume_cluster=%{theta}<extra></extra>\", \"legendgroup\": \"\\u00bfTienes acceso a dispositivos (ordenador, m\\u00f3vil, tablet, etc.) conectados a Internet habitualmente?=1. Nunca\", \"marker\": {\"color\": \"rgb(213,62,79)\"}, \"name\": \"\\u00bfTienes acceso a dispositivos (ordenador, m\\u00f3vil, tablet, etc.) conectados a Internet habitualmente?=1. Nunca\", \"r\": [1], \"showlegend\": true, \"theta\": [\"cluster_1\"], \"type\": \"barpolar\", \"uid\": \"05c5b2a9-ebd4-4666-9614-e6b3ef2dec83\"}, {\"hovertemplate\": \"\\u00bfTienes acceso a dispositivos (ordenador, m\\u00f3vil, tablet, etc.) conectados a Internet habitualmente?=2. Ocasionalmente<br>counts=%{r}<br>prosume_cluster=%{theta}<extra></extra>\", \"legendgroup\": \"\\u00bfTienes acceso a dispositivos (ordenador, m\\u00f3vil, tablet, etc.) conectados a Internet habitualmente?=2. Ocasionalmente\", \"marker\": {\"color\": \"rgb(252,141,89)\"}, \"name\": \"\\u00bfTienes acceso a dispositivos (ordenador, m\\u00f3vil, tablet, etc.) conectados a Internet habitualmente?=2. Ocasionalmente\", \"r\": [4, 4], \"showlegend\": true, \"theta\": [\"cluster_1\", \"cluster_2\"], \"type\": \"barpolar\", \"uid\": \"c2dccb20-37c5-4792-afd0-fd0daf79984d\"}, {\"hovertemplate\": \"\\u00bfTienes acceso a dispositivos (ordenador, m\\u00f3vil, tablet, etc.) conectados a Internet habitualmente?=3. Semanalmente<br>counts=%{r}<br>prosume_cluster=%{theta}<extra></extra>\", \"legendgroup\": \"\\u00bfTienes acceso a dispositivos (ordenador, m\\u00f3vil, tablet, etc.) conectados a Internet habitualmente?=3. Semanalmente\", \"marker\": {\"color\": \"rgb(254,224,139)\"}, \"name\": \"\\u00bfTienes acceso a dispositivos (ordenador, m\\u00f3vil, tablet, etc.) conectados a Internet habitualmente?=3. Semanalmente\", \"r\": [15, 9, 4], \"showlegend\": true, \"theta\": [\"cluster_1\", \"cluster_2\", \"cluster_3\"], \"type\": \"barpolar\", \"uid\": \"80868485-e513-4edd-aae5-de7a288b1ff5\"}, {\"hovertemplate\": \"\\u00bfTienes acceso a dispositivos (ordenador, m\\u00f3vil, tablet, etc.) conectados a Internet habitualmente?=4. Diariamente<br>counts=%{r}<br>prosume_cluster=%{theta}<extra></extra>\", \"legendgroup\": \"\\u00bfTienes acceso a dispositivos (ordenador, m\\u00f3vil, tablet, etc.) conectados a Internet habitualmente?=4. Diariamente\", \"marker\": {\"color\": \"rgb(230,245,152)\"}, \"name\": \"\\u00bfTienes acceso a dispositivos (ordenador, m\\u00f3vil, tablet, etc.) conectados a Internet habitualmente?=4. Diariamente\", \"r\": [16, 71, 47, 10, 26], \"showlegend\": true, \"theta\": [\"cluster_1\", \"cluster_2\", \"cluster_3\", \"cluster_4\", \"cluster_5\"], \"type\": \"barpolar\", \"uid\": \"4748b0aa-187a-4b82-95b7-dacf92834d46\"}, {\"hovertemplate\": \"\\u00bfTienes acceso a dispositivos (ordenador, m\\u00f3vil, tablet, etc.) conectados a Internet habitualmente?=5. Varias veces al d\\u00eda<br>counts=%{r}<br>prosume_cluster=%{theta}<extra></extra>\", \"legendgroup\": \"\\u00bfTienes acceso a dispositivos (ordenador, m\\u00f3vil, tablet, etc.) conectados a Internet habitualmente?=5. Varias veces al d\\u00eda\", \"marker\": {\"color\": \"rgb(153,213,148)\"}, \"name\": \"\\u00bfTienes acceso a dispositivos (ordenador, m\\u00f3vil, tablet, etc.) conectados a Internet habitualmente?=5. Varias veces al d\\u00eda\", \"r\": [1, 112, 49, 88, 310], \"showlegend\": true, \"theta\": [\"cluster_1\", \"cluster_2\", \"cluster_3\", \"cluster_4\", \"cluster_5\"], \"type\": \"barpolar\", \"uid\": \"f66aada7-e6de-4f63-af9e-2b99041cb929\"}], {\"barmode\": \"group\", \"barnorm\": \"\", \"height\": 600, \"legend\": {\"tracegroupgap\": 0}, \"margin\": {\"t\": 60}, \"template\": {\"data\": {\"barpolar\": [{\"marker\": {\"line\": {\"color\": \"#E5ECF6\", \"width\": 0.5}}, \"type\": \"barpolar\"}], \"bar\": [{\"marker\": {\"line\": {\"color\": \"#E5ECF6\", \"width\": 0.5}}, \"type\": \"bar\"}], \"carpet\": [{\"aaxis\": {\"endlinecolor\": \"#2a3f5f\", \"gridcolor\": \"white\", \"linecolor\": \"white\", \"minorgridcolor\": \"white\", \"startlinecolor\": \"#2a3f5f\"}, \"baxis\": {\"endlinecolor\": \"#2a3f5f\", \"gridcolor\": \"white\", \"linecolor\": \"white\", \"minorgridcolor\": \"white\", \"startlinecolor\": \"#2a3f5f\"}, \"type\": \"carpet\"}], \"choropleth\": [{\"colorbar\": {\"outlinewidth\": 0, \"ticks\": \"\"}, \"type\": \"choropleth\"}], \"contourcarpet\": [{\"colorbar\": {\"outlinewidth\": 0, \"ticks\": \"\"}, \"type\": \"contourcarpet\"}], \"contour\": [{\"autocolorscale\": true, \"colorbar\": {\"outlinewidth\": 0, \"ticks\": \"\"}, \"type\": \"contour\"}], \"heatmapgl\": [{\"colorbar\": {\"outlinewidth\": 0, \"ticks\": \"\"}, \"type\": \"heatmapgl\"}], \"heatmap\": [{\"autocolorscale\": true, \"colorbar\": {\"outlinewidth\": 0, \"ticks\": \"\"}, \"type\": \"heatmap\"}], \"histogram2dcontour\": [{\"autocolorscale\": true, \"colorbar\": {\"outlinewidth\": 0, \"ticks\": \"\"}, \"type\": \"histogram2dcontour\"}], \"histogram2d\": [{\"autocolorscale\": true, \"colorbar\": {\"outlinewidth\": 0, \"ticks\": \"\"}, \"type\": \"histogram2d\"}], \"histogram\": [{\"marker\": {\"colorbar\": {\"outlinewidth\": 0, \"ticks\": \"\"}}, \"type\": \"histogram\"}], \"mesh3d\": [{\"colorbar\": {\"outlinewidth\": 0, \"ticks\": \"\"}, \"type\": \"mesh3d\"}], \"parcoords\": [{\"line\": {\"colorbar\": {\"outlinewidth\": 0, \"ticks\": \"\"}}, \"type\": \"parcoords\"}], \"scatter3d\": [{\"marker\": {\"colorbar\": {\"outlinewidth\": 0, \"ticks\": \"\"}}, \"type\": \"scatter3d\"}], \"scattercarpet\": [{\"marker\": {\"colorbar\": {\"outlinewidth\": 0, \"ticks\": \"\"}}, \"type\": \"scattercarpet\"}], \"scattergeo\": [{\"marker\": {\"colorbar\": {\"outlinewidth\": 0, \"ticks\": \"\"}}, \"type\": \"scattergeo\"}], \"scattergl\": [{\"marker\": {\"colorbar\": {\"outlinewidth\": 0, \"ticks\": \"\"}}, \"type\": \"scattergl\"}], \"scattermapbox\": [{\"marker\": {\"colorbar\": {\"outlinewidth\": 0, \"ticks\": \"\"}}, \"type\": \"scattermapbox\"}], \"scatterpolargl\": [{\"marker\": {\"colorbar\": {\"outlinewidth\": 0, \"ticks\": \"\"}}, \"type\": \"scatterpolargl\"}], \"scatterpolar\": [{\"marker\": {\"colorbar\": {\"outlinewidth\": 0, \"ticks\": \"\"}}, \"type\": \"scatterpolar\"}], \"scatter\": [{\"marker\": {\"colorbar\": {\"outlinewidth\": 0, \"ticks\": \"\"}}, \"type\": \"scatter\"}], \"scatterternary\": [{\"marker\": {\"colorbar\": {\"outlinewidth\": 0, \"ticks\": \"\"}}, \"type\": \"scatterternary\"}], \"surface\": [{\"colorbar\": {\"outlinewidth\": 0, \"ticks\": \"\"}, \"type\": \"surface\"}], \"table\": [{\"cells\": {\"fill\": {\"color\": \"#EBF0F8\"}, \"line\": {\"color\": \"white\"}}, \"header\": {\"fill\": {\"color\": \"#C8D4E3\"}, \"line\": {\"color\": \"white\"}}, \"type\": \"table\"}]}, \"layout\": {\"annotationdefaults\": {\"arrowcolor\": \"#506784\", \"arrowhead\": 0, \"arrowwidth\": 1}, \"colorscale\": {\"diverging\": [[0, \"#8e0152\"], [0.1, \"#c51b7d\"], [0.2, \"#de77ae\"], [0.3, \"#f1b6da\"], [0.4, \"#fde0ef\"], [0.5, \"#f7f7f7\"], [0.6, \"#e6f5d0\"], [0.7, \"#b8e186\"], [0.8, \"#7fbc41\"], [0.9, \"#4d9221\"], [1, \"#276419\"]], \"sequential\": [[0.0, \"#0508b8\"], [0.0893854748603352, \"#1910d8\"], [0.1787709497206704, \"#3c19f0\"], [0.2681564245810056, \"#6b1cfb\"], [0.3575418994413408, \"#981cfd\"], [0.44692737430167595, \"#bf1cfd\"], [0.5363128491620112, \"#dd2bfd\"], [0.6256983240223464, \"#f246fe\"], [0.7150837988826816, \"#fc67fd\"], [0.8044692737430168, \"#fe88fc\"], [0.8938547486033519, \"#fea5fd\"], [0.9832402234636871, \"#febefe\"], [1.0, \"#fec3fe\"]], \"sequentialminus\": [[0.0, \"#0508b8\"], [0.0893854748603352, \"#1910d8\"], [0.1787709497206704, \"#3c19f0\"], [0.2681564245810056, \"#6b1cfb\"], [0.3575418994413408, \"#981cfd\"], [0.44692737430167595, \"#bf1cfd\"], [0.5363128491620112, \"#dd2bfd\"], [0.6256983240223464, \"#f246fe\"], [0.7150837988826816, \"#fc67fd\"], [0.8044692737430168, \"#fe88fc\"], [0.8938547486033519, \"#fea5fd\"], [0.9832402234636871, \"#febefe\"], [1.0, \"#fec3fe\"]]}, \"colorway\": [\"#636efa\", \"#EF553B\", \"#00cc96\", \"#ab63fa\", \"#19d3f3\", \"#e763fa\", \"#FECB52\", \"#FFA15A\", \"#FF6692\", \"#B6E880\"], \"font\": {\"color\": \"#2a3f5f\"}, \"geo\": {\"bgcolor\": \"white\", \"lakecolor\": \"white\", \"landcolor\": \"#E5ECF6\", \"showlakes\": true, \"showland\": true, \"subunitcolor\": \"white\"}, \"hovermode\": \"closest\", \"mapbox\": {\"style\": \"light\"}, \"paper_bgcolor\": \"white\", \"plot_bgcolor\": \"#E5ECF6\", \"polar\": {\"angularaxis\": {\"gridcolor\": \"white\", \"linecolor\": \"white\", \"ticks\": \"\"}, \"bgcolor\": \"#E5ECF6\", \"radialaxis\": {\"gridcolor\": \"white\", \"linecolor\": \"white\", \"ticks\": \"\"}}, \"scene\": {\"xaxis\": {\"backgroundcolor\": \"#E5ECF6\", \"gridcolor\": \"white\", \"gridwidth\": 2, \"linecolor\": \"white\", \"showbackground\": true, \"ticks\": \"\", \"zerolinecolor\": \"white\"}, \"yaxis\": {\"backgroundcolor\": \"#E5ECF6\", \"gridcolor\": \"white\", \"gridwidth\": 2, \"linecolor\": \"white\", \"showbackground\": true, \"ticks\": \"\", \"zerolinecolor\": \"white\"}, \"zaxis\": {\"backgroundcolor\": \"#E5ECF6\", \"gridcolor\": \"white\", \"gridwidth\": 2, \"linecolor\": \"white\", \"showbackground\": true, \"ticks\": \"\", \"zerolinecolor\": \"white\"}}, \"shapedefaults\": {\"fillcolor\": \"#506784\", \"line\": {\"width\": 0}, \"opacity\": 0.4}, \"ternary\": {\"aaxis\": {\"gridcolor\": \"white\", \"linecolor\": \"white\", \"ticks\": \"\"}, \"baxis\": {\"gridcolor\": \"white\", \"linecolor\": \"white\", \"ticks\": \"\"}, \"bgcolor\": \"#E5ECF6\", \"caxis\": {\"gridcolor\": \"white\", \"linecolor\": \"white\", \"ticks\": \"\"}}, \"title\": {\"x\": 0.05}, \"xaxis\": {\"automargin\": true, \"gridcolor\": \"white\", \"linecolor\": \"white\", \"ticks\": \"\", \"zerolinecolor\": \"white\", \"zerolinewidth\": 2}, \"yaxis\": {\"automargin\": true, \"gridcolor\": \"white\", \"linecolor\": \"white\", \"ticks\": \"\", \"zerolinecolor\": \"white\", \"zerolinewidth\": 2}}}, \"polar\": {\"angularaxis\": {\"direction\": \"clockwise\", \"rotation\": 90}}}, {\"showLink\": false, \"linkText\": \"Export to plot.ly\", \"plotlyServerURL\": \"https://plot.ly\"}); \n",
       "}\n",
       "});</script><script type=\"text/javascript\">window.addEventListener(\"resize\", function(){if (document.getElementById(\"ddfb0229-d48c-4e10-9716-7fa2d05971a5\")) {window._Plotly.Plots.resize(document.getElementById(\"ddfb0229-d48c-4e10-9716-7fa2d05971a5\"));};})</script>"
      ]
     },
     "metadata": {},
     "output_type": "display_data"
    },
    {
     "name": "stdout",
     "output_type": "stream",
     "text": [
      "Comparando la pregunta ¿Cuánto tiempo al día usas el móvil/tableta/ordenador/TV?\n"
     ]
    },
    {
     "data": {
      "application/vnd.plotly.v1+json": {
       "config": {
        "linkText": "Export to plot.ly",
        "plotlyServerURL": "https://plot.ly",
        "showLink": false
       },
       "data": [
        {
         "hovertemplate": "¿Cuánto tiempo al día usas el móvil/tableta/ordenador/TV?=1. Nada<br>counts=%{r}<br>prosume_cluster=%{theta}<extra></extra>",
         "legendgroup": "¿Cuánto tiempo al día usas el móvil/tableta/ordenador/TV?=1. Nada",
         "marker": {
          "color": "rgb(213,62,79)"
         },
         "name": "¿Cuánto tiempo al día usas el móvil/tableta/ordenador/TV?=1. Nada",
         "r": [
          1
         ],
         "showlegend": true,
         "theta": [
          "cluster_1"
         ],
         "type": "barpolar",
         "uid": "16f251d7-38da-478c-9031-4739369145db"
        },
        {
         "hovertemplate": "¿Cuánto tiempo al día usas el móvil/tableta/ordenador/TV?=2. Menos de una hora<br>counts=%{r}<br>prosume_cluster=%{theta}<extra></extra>",
         "legendgroup": "¿Cuánto tiempo al día usas el móvil/tableta/ordenador/TV?=2. Menos de una hora",
         "marker": {
          "color": "rgb(252,141,89)"
         },
         "name": "¿Cuánto tiempo al día usas el móvil/tableta/ordenador/TV?=2. Menos de una hora",
         "r": [
          1,
          4,
          1
         ],
         "showlegend": true,
         "theta": [
          "cluster_1",
          "cluster_2",
          "cluster_5"
         ],
         "type": "barpolar",
         "uid": "a0b0b8cf-a1e1-41f2-91dd-f460b8ad6dad"
        },
        {
         "hovertemplate": "¿Cuánto tiempo al día usas el móvil/tableta/ordenador/TV?=3. 1-2 horas<br>counts=%{r}<br>prosume_cluster=%{theta}<extra></extra>",
         "legendgroup": "¿Cuánto tiempo al día usas el móvil/tableta/ordenador/TV?=3. 1-2 horas",
         "marker": {
          "color": "rgb(254,224,139)"
         },
         "name": "¿Cuánto tiempo al día usas el móvil/tableta/ordenador/TV?=3. 1-2 horas",
         "r": [
          23,
          32,
          10,
          5,
          12
         ],
         "showlegend": true,
         "theta": [
          "cluster_1",
          "cluster_2",
          "cluster_3",
          "cluster_4",
          "cluster_5"
         ],
         "type": "barpolar",
         "uid": "a5fa487c-9fa1-4649-8659-d29f8b4b3d9e"
        },
        {
         "hovertemplate": "¿Cuánto tiempo al día usas el móvil/tableta/ordenador/TV?=4. 2-4 horas<br>counts=%{r}<br>prosume_cluster=%{theta}<extra></extra>",
         "legendgroup": "¿Cuánto tiempo al día usas el móvil/tableta/ordenador/TV?=4. 2-4 horas",
         "marker": {
          "color": "rgb(230,245,152)"
         },
         "name": "¿Cuánto tiempo al día usas el móvil/tableta/ordenador/TV?=4. 2-4 horas",
         "r": [
          7,
          61,
          16,
          25,
          57
         ],
         "showlegend": true,
         "theta": [
          "cluster_1",
          "cluster_2",
          "cluster_3",
          "cluster_4",
          "cluster_5"
         ],
         "type": "barpolar",
         "uid": "e1067aa7-3ec4-4298-9369-3fbbdc3d2190"
        },
        {
         "hovertemplate": "¿Cuánto tiempo al día usas el móvil/tableta/ordenador/TV?=5. 4-6 horas<br>counts=%{r}<br>prosume_cluster=%{theta}<extra></extra>",
         "legendgroup": "¿Cuánto tiempo al día usas el móvil/tableta/ordenador/TV?=5. 4-6 horas",
         "marker": {
          "color": "rgb(153,213,148)"
         },
         "name": "¿Cuánto tiempo al día usas el móvil/tableta/ordenador/TV?=5. 4-6 horas",
         "r": [
          4,
          48,
          24,
          30,
          90
         ],
         "showlegend": true,
         "theta": [
          "cluster_1",
          "cluster_2",
          "cluster_3",
          "cluster_4",
          "cluster_5"
         ],
         "type": "barpolar",
         "uid": "071f61db-19fd-42a9-b3fb-c01f05aeedb4"
        },
        {
         "hovertemplate": "¿Cuánto tiempo al día usas el móvil/tableta/ordenador/TV?=6. Más de 6 horas<br>counts=%{r}<br>prosume_cluster=%{theta}<extra></extra>",
         "legendgroup": "¿Cuánto tiempo al día usas el móvil/tableta/ordenador/TV?=6. Más de 6 horas",
         "marker": {
          "color": "rgb(50,136,189)"
         },
         "name": "¿Cuánto tiempo al día usas el móvil/tableta/ordenador/TV?=6. Más de 6 horas",
         "r": [
          1,
          51,
          50,
          38,
          176
         ],
         "showlegend": true,
         "theta": [
          "cluster_1",
          "cluster_2",
          "cluster_3",
          "cluster_4",
          "cluster_5"
         ],
         "type": "barpolar",
         "uid": "270be60e-2c8e-4ee5-85c1-a621e13e283e"
        }
       ],
       "layout": {
        "barmode": "group",
        "barnorm": "",
        "height": 600,
        "legend": {
         "tracegroupgap": 0
        },
        "margin": {
         "t": 60
        },
        "polar": {
         "angularaxis": {
          "direction": "clockwise",
          "rotation": 90
         }
        },
        "template": {
         "data": {
          "bar": [
           {
            "marker": {
             "line": {
              "color": "#E5ECF6",
              "width": 0.5
             }
            },
            "type": "bar"
           }
          ],
          "barpolar": [
           {
            "marker": {
             "line": {
              "color": "#E5ECF6",
              "width": 0.5
             }
            },
            "type": "barpolar"
           }
          ],
          "carpet": [
           {
            "aaxis": {
             "endlinecolor": "#2a3f5f",
             "gridcolor": "white",
             "linecolor": "white",
             "minorgridcolor": "white",
             "startlinecolor": "#2a3f5f"
            },
            "baxis": {
             "endlinecolor": "#2a3f5f",
             "gridcolor": "white",
             "linecolor": "white",
             "minorgridcolor": "white",
             "startlinecolor": "#2a3f5f"
            },
            "type": "carpet"
           }
          ],
          "choropleth": [
           {
            "colorbar": {
             "outlinewidth": 0,
             "ticks": ""
            },
            "type": "choropleth"
           }
          ],
          "contour": [
           {
            "autocolorscale": true,
            "colorbar": {
             "outlinewidth": 0,
             "ticks": ""
            },
            "type": "contour"
           }
          ],
          "contourcarpet": [
           {
            "colorbar": {
             "outlinewidth": 0,
             "ticks": ""
            },
            "type": "contourcarpet"
           }
          ],
          "heatmap": [
           {
            "autocolorscale": true,
            "colorbar": {
             "outlinewidth": 0,
             "ticks": ""
            },
            "type": "heatmap"
           }
          ],
          "heatmapgl": [
           {
            "colorbar": {
             "outlinewidth": 0,
             "ticks": ""
            },
            "type": "heatmapgl"
           }
          ],
          "histogram": [
           {
            "marker": {
             "colorbar": {
              "outlinewidth": 0,
              "ticks": ""
             }
            },
            "type": "histogram"
           }
          ],
          "histogram2d": [
           {
            "autocolorscale": true,
            "colorbar": {
             "outlinewidth": 0,
             "ticks": ""
            },
            "type": "histogram2d"
           }
          ],
          "histogram2dcontour": [
           {
            "autocolorscale": true,
            "colorbar": {
             "outlinewidth": 0,
             "ticks": ""
            },
            "type": "histogram2dcontour"
           }
          ],
          "mesh3d": [
           {
            "colorbar": {
             "outlinewidth": 0,
             "ticks": ""
            },
            "type": "mesh3d"
           }
          ],
          "parcoords": [
           {
            "line": {
             "colorbar": {
              "outlinewidth": 0,
              "ticks": ""
             }
            },
            "type": "parcoords"
           }
          ],
          "scatter": [
           {
            "marker": {
             "colorbar": {
              "outlinewidth": 0,
              "ticks": ""
             }
            },
            "type": "scatter"
           }
          ],
          "scatter3d": [
           {
            "marker": {
             "colorbar": {
              "outlinewidth": 0,
              "ticks": ""
             }
            },
            "type": "scatter3d"
           }
          ],
          "scattercarpet": [
           {
            "marker": {
             "colorbar": {
              "outlinewidth": 0,
              "ticks": ""
             }
            },
            "type": "scattercarpet"
           }
          ],
          "scattergeo": [
           {
            "marker": {
             "colorbar": {
              "outlinewidth": 0,
              "ticks": ""
             }
            },
            "type": "scattergeo"
           }
          ],
          "scattergl": [
           {
            "marker": {
             "colorbar": {
              "outlinewidth": 0,
              "ticks": ""
             }
            },
            "type": "scattergl"
           }
          ],
          "scattermapbox": [
           {
            "marker": {
             "colorbar": {
              "outlinewidth": 0,
              "ticks": ""
             }
            },
            "type": "scattermapbox"
           }
          ],
          "scatterpolar": [
           {
            "marker": {
             "colorbar": {
              "outlinewidth": 0,
              "ticks": ""
             }
            },
            "type": "scatterpolar"
           }
          ],
          "scatterpolargl": [
           {
            "marker": {
             "colorbar": {
              "outlinewidth": 0,
              "ticks": ""
             }
            },
            "type": "scatterpolargl"
           }
          ],
          "scatterternary": [
           {
            "marker": {
             "colorbar": {
              "outlinewidth": 0,
              "ticks": ""
             }
            },
            "type": "scatterternary"
           }
          ],
          "surface": [
           {
            "colorbar": {
             "outlinewidth": 0,
             "ticks": ""
            },
            "type": "surface"
           }
          ],
          "table": [
           {
            "cells": {
             "fill": {
              "color": "#EBF0F8"
             },
             "line": {
              "color": "white"
             }
            },
            "header": {
             "fill": {
              "color": "#C8D4E3"
             },
             "line": {
              "color": "white"
             }
            },
            "type": "table"
           }
          ]
         },
         "layout": {
          "annotationdefaults": {
           "arrowcolor": "#506784",
           "arrowhead": 0,
           "arrowwidth": 1
          },
          "colorscale": {
           "diverging": [
            [
             0,
             "#8e0152"
            ],
            [
             0.1,
             "#c51b7d"
            ],
            [
             0.2,
             "#de77ae"
            ],
            [
             0.3,
             "#f1b6da"
            ],
            [
             0.4,
             "#fde0ef"
            ],
            [
             0.5,
             "#f7f7f7"
            ],
            [
             0.6,
             "#e6f5d0"
            ],
            [
             0.7,
             "#b8e186"
            ],
            [
             0.8,
             "#7fbc41"
            ],
            [
             0.9,
             "#4d9221"
            ],
            [
             1,
             "#276419"
            ]
           ],
           "sequential": [
            [
             0,
             "#0508b8"
            ],
            [
             0.0893854748603352,
             "#1910d8"
            ],
            [
             0.1787709497206704,
             "#3c19f0"
            ],
            [
             0.2681564245810056,
             "#6b1cfb"
            ],
            [
             0.3575418994413408,
             "#981cfd"
            ],
            [
             0.44692737430167595,
             "#bf1cfd"
            ],
            [
             0.5363128491620112,
             "#dd2bfd"
            ],
            [
             0.6256983240223464,
             "#f246fe"
            ],
            [
             0.7150837988826816,
             "#fc67fd"
            ],
            [
             0.8044692737430168,
             "#fe88fc"
            ],
            [
             0.8938547486033519,
             "#fea5fd"
            ],
            [
             0.9832402234636871,
             "#febefe"
            ],
            [
             1,
             "#fec3fe"
            ]
           ],
           "sequentialminus": [
            [
             0,
             "#0508b8"
            ],
            [
             0.0893854748603352,
             "#1910d8"
            ],
            [
             0.1787709497206704,
             "#3c19f0"
            ],
            [
             0.2681564245810056,
             "#6b1cfb"
            ],
            [
             0.3575418994413408,
             "#981cfd"
            ],
            [
             0.44692737430167595,
             "#bf1cfd"
            ],
            [
             0.5363128491620112,
             "#dd2bfd"
            ],
            [
             0.6256983240223464,
             "#f246fe"
            ],
            [
             0.7150837988826816,
             "#fc67fd"
            ],
            [
             0.8044692737430168,
             "#fe88fc"
            ],
            [
             0.8938547486033519,
             "#fea5fd"
            ],
            [
             0.9832402234636871,
             "#febefe"
            ],
            [
             1,
             "#fec3fe"
            ]
           ]
          },
          "colorway": [
           "#636efa",
           "#EF553B",
           "#00cc96",
           "#ab63fa",
           "#19d3f3",
           "#e763fa",
           "#FECB52",
           "#FFA15A",
           "#FF6692",
           "#B6E880"
          ],
          "font": {
           "color": "#2a3f5f"
          },
          "geo": {
           "bgcolor": "white",
           "lakecolor": "white",
           "landcolor": "#E5ECF6",
           "showlakes": true,
           "showland": true,
           "subunitcolor": "white"
          },
          "hovermode": "closest",
          "mapbox": {
           "style": "light"
          },
          "paper_bgcolor": "white",
          "plot_bgcolor": "#E5ECF6",
          "polar": {
           "angularaxis": {
            "gridcolor": "white",
            "linecolor": "white",
            "ticks": ""
           },
           "bgcolor": "#E5ECF6",
           "radialaxis": {
            "gridcolor": "white",
            "linecolor": "white",
            "ticks": ""
           }
          },
          "scene": {
           "xaxis": {
            "backgroundcolor": "#E5ECF6",
            "gridcolor": "white",
            "gridwidth": 2,
            "linecolor": "white",
            "showbackground": true,
            "ticks": "",
            "zerolinecolor": "white"
           },
           "yaxis": {
            "backgroundcolor": "#E5ECF6",
            "gridcolor": "white",
            "gridwidth": 2,
            "linecolor": "white",
            "showbackground": true,
            "ticks": "",
            "zerolinecolor": "white"
           },
           "zaxis": {
            "backgroundcolor": "#E5ECF6",
            "gridcolor": "white",
            "gridwidth": 2,
            "linecolor": "white",
            "showbackground": true,
            "ticks": "",
            "zerolinecolor": "white"
           }
          },
          "shapedefaults": {
           "fillcolor": "#506784",
           "line": {
            "width": 0
           },
           "opacity": 0.4
          },
          "ternary": {
           "aaxis": {
            "gridcolor": "white",
            "linecolor": "white",
            "ticks": ""
           },
           "baxis": {
            "gridcolor": "white",
            "linecolor": "white",
            "ticks": ""
           },
           "bgcolor": "#E5ECF6",
           "caxis": {
            "gridcolor": "white",
            "linecolor": "white",
            "ticks": ""
           }
          },
          "title": {
           "x": 0.05
          },
          "xaxis": {
           "automargin": true,
           "gridcolor": "white",
           "linecolor": "white",
           "ticks": "",
           "zerolinecolor": "white",
           "zerolinewidth": 2
          },
          "yaxis": {
           "automargin": true,
           "gridcolor": "white",
           "linecolor": "white",
           "ticks": "",
           "zerolinecolor": "white",
           "zerolinewidth": 2
          }
         }
        }
       }
      },
      "text/html": [
       "<div id=\"1ca95e7d-490d-43c7-a5d5-05082549ff3c\" style=\"height: 600px; width: 100%;\" class=\"plotly-graph-div\"></div><script type=\"text/javascript\">require([\"plotly\"], function(Plotly) { window.PLOTLYENV=window.PLOTLYENV || {};window.PLOTLYENV.BASE_URL=\"https://plot.ly\";\n",
       "if (document.getElementById(\"1ca95e7d-490d-43c7-a5d5-05082549ff3c\")) {\n",
       "    Plotly.newPlot(\"1ca95e7d-490d-43c7-a5d5-05082549ff3c\", [{\"hovertemplate\": \"\\u00bfCu\\u00e1nto tiempo al d\\u00eda usas el m\\u00f3vil/tableta/ordenador/TV?=1. Nada<br>counts=%{r}<br>prosume_cluster=%{theta}<extra></extra>\", \"legendgroup\": \"\\u00bfCu\\u00e1nto tiempo al d\\u00eda usas el m\\u00f3vil/tableta/ordenador/TV?=1. Nada\", \"marker\": {\"color\": \"rgb(213,62,79)\"}, \"name\": \"\\u00bfCu\\u00e1nto tiempo al d\\u00eda usas el m\\u00f3vil/tableta/ordenador/TV?=1. Nada\", \"r\": [1], \"showlegend\": true, \"theta\": [\"cluster_1\"], \"type\": \"barpolar\", \"uid\": \"16f251d7-38da-478c-9031-4739369145db\"}, {\"hovertemplate\": \"\\u00bfCu\\u00e1nto tiempo al d\\u00eda usas el m\\u00f3vil/tableta/ordenador/TV?=2. Menos de una hora<br>counts=%{r}<br>prosume_cluster=%{theta}<extra></extra>\", \"legendgroup\": \"\\u00bfCu\\u00e1nto tiempo al d\\u00eda usas el m\\u00f3vil/tableta/ordenador/TV?=2. Menos de una hora\", \"marker\": {\"color\": \"rgb(252,141,89)\"}, \"name\": \"\\u00bfCu\\u00e1nto tiempo al d\\u00eda usas el m\\u00f3vil/tableta/ordenador/TV?=2. Menos de una hora\", \"r\": [1, 4, 1], \"showlegend\": true, \"theta\": [\"cluster_1\", \"cluster_2\", \"cluster_5\"], \"type\": \"barpolar\", \"uid\": \"a0b0b8cf-a1e1-41f2-91dd-f460b8ad6dad\"}, {\"hovertemplate\": \"\\u00bfCu\\u00e1nto tiempo al d\\u00eda usas el m\\u00f3vil/tableta/ordenador/TV?=3. 1-2 horas<br>counts=%{r}<br>prosume_cluster=%{theta}<extra></extra>\", \"legendgroup\": \"\\u00bfCu\\u00e1nto tiempo al d\\u00eda usas el m\\u00f3vil/tableta/ordenador/TV?=3. 1-2 horas\", \"marker\": {\"color\": \"rgb(254,224,139)\"}, \"name\": \"\\u00bfCu\\u00e1nto tiempo al d\\u00eda usas el m\\u00f3vil/tableta/ordenador/TV?=3. 1-2 horas\", \"r\": [23, 32, 10, 5, 12], \"showlegend\": true, \"theta\": [\"cluster_1\", \"cluster_2\", \"cluster_3\", \"cluster_4\", \"cluster_5\"], \"type\": \"barpolar\", \"uid\": \"a5fa487c-9fa1-4649-8659-d29f8b4b3d9e\"}, {\"hovertemplate\": \"\\u00bfCu\\u00e1nto tiempo al d\\u00eda usas el m\\u00f3vil/tableta/ordenador/TV?=4. 2-4 horas<br>counts=%{r}<br>prosume_cluster=%{theta}<extra></extra>\", \"legendgroup\": \"\\u00bfCu\\u00e1nto tiempo al d\\u00eda usas el m\\u00f3vil/tableta/ordenador/TV?=4. 2-4 horas\", \"marker\": {\"color\": \"rgb(230,245,152)\"}, \"name\": \"\\u00bfCu\\u00e1nto tiempo al d\\u00eda usas el m\\u00f3vil/tableta/ordenador/TV?=4. 2-4 horas\", \"r\": [7, 61, 16, 25, 57], \"showlegend\": true, \"theta\": [\"cluster_1\", \"cluster_2\", \"cluster_3\", \"cluster_4\", \"cluster_5\"], \"type\": \"barpolar\", \"uid\": \"e1067aa7-3ec4-4298-9369-3fbbdc3d2190\"}, {\"hovertemplate\": \"\\u00bfCu\\u00e1nto tiempo al d\\u00eda usas el m\\u00f3vil/tableta/ordenador/TV?=5. 4-6 horas<br>counts=%{r}<br>prosume_cluster=%{theta}<extra></extra>\", \"legendgroup\": \"\\u00bfCu\\u00e1nto tiempo al d\\u00eda usas el m\\u00f3vil/tableta/ordenador/TV?=5. 4-6 horas\", \"marker\": {\"color\": \"rgb(153,213,148)\"}, \"name\": \"\\u00bfCu\\u00e1nto tiempo al d\\u00eda usas el m\\u00f3vil/tableta/ordenador/TV?=5. 4-6 horas\", \"r\": [4, 48, 24, 30, 90], \"showlegend\": true, \"theta\": [\"cluster_1\", \"cluster_2\", \"cluster_3\", \"cluster_4\", \"cluster_5\"], \"type\": \"barpolar\", \"uid\": \"071f61db-19fd-42a9-b3fb-c01f05aeedb4\"}, {\"hovertemplate\": \"\\u00bfCu\\u00e1nto tiempo al d\\u00eda usas el m\\u00f3vil/tableta/ordenador/TV?=6. M\\u00e1s de 6 horas<br>counts=%{r}<br>prosume_cluster=%{theta}<extra></extra>\", \"legendgroup\": \"\\u00bfCu\\u00e1nto tiempo al d\\u00eda usas el m\\u00f3vil/tableta/ordenador/TV?=6. M\\u00e1s de 6 horas\", \"marker\": {\"color\": \"rgb(50,136,189)\"}, \"name\": \"\\u00bfCu\\u00e1nto tiempo al d\\u00eda usas el m\\u00f3vil/tableta/ordenador/TV?=6. M\\u00e1s de 6 horas\", \"r\": [1, 51, 50, 38, 176], \"showlegend\": true, \"theta\": [\"cluster_1\", \"cluster_2\", \"cluster_3\", \"cluster_4\", \"cluster_5\"], \"type\": \"barpolar\", \"uid\": \"270be60e-2c8e-4ee5-85c1-a621e13e283e\"}], {\"barmode\": \"group\", \"barnorm\": \"\", \"height\": 600, \"legend\": {\"tracegroupgap\": 0}, \"margin\": {\"t\": 60}, \"template\": {\"data\": {\"barpolar\": [{\"marker\": {\"line\": {\"color\": \"#E5ECF6\", \"width\": 0.5}}, \"type\": \"barpolar\"}], \"bar\": [{\"marker\": {\"line\": {\"color\": \"#E5ECF6\", \"width\": 0.5}}, \"type\": \"bar\"}], \"carpet\": [{\"aaxis\": {\"endlinecolor\": \"#2a3f5f\", \"gridcolor\": \"white\", \"linecolor\": \"white\", \"minorgridcolor\": \"white\", \"startlinecolor\": \"#2a3f5f\"}, \"baxis\": {\"endlinecolor\": \"#2a3f5f\", \"gridcolor\": \"white\", \"linecolor\": \"white\", \"minorgridcolor\": \"white\", \"startlinecolor\": \"#2a3f5f\"}, \"type\": \"carpet\"}], \"choropleth\": [{\"colorbar\": {\"outlinewidth\": 0, \"ticks\": \"\"}, \"type\": \"choropleth\"}], \"contourcarpet\": [{\"colorbar\": {\"outlinewidth\": 0, \"ticks\": \"\"}, \"type\": \"contourcarpet\"}], \"contour\": [{\"autocolorscale\": true, \"colorbar\": {\"outlinewidth\": 0, \"ticks\": \"\"}, \"type\": \"contour\"}], \"heatmapgl\": [{\"colorbar\": {\"outlinewidth\": 0, \"ticks\": \"\"}, \"type\": \"heatmapgl\"}], \"heatmap\": [{\"autocolorscale\": true, \"colorbar\": {\"outlinewidth\": 0, \"ticks\": \"\"}, \"type\": \"heatmap\"}], \"histogram2dcontour\": [{\"autocolorscale\": true, \"colorbar\": {\"outlinewidth\": 0, \"ticks\": \"\"}, \"type\": \"histogram2dcontour\"}], \"histogram2d\": [{\"autocolorscale\": true, \"colorbar\": {\"outlinewidth\": 0, \"ticks\": \"\"}, \"type\": \"histogram2d\"}], \"histogram\": [{\"marker\": {\"colorbar\": {\"outlinewidth\": 0, \"ticks\": \"\"}}, \"type\": \"histogram\"}], \"mesh3d\": [{\"colorbar\": {\"outlinewidth\": 0, \"ticks\": \"\"}, \"type\": \"mesh3d\"}], \"parcoords\": [{\"line\": {\"colorbar\": {\"outlinewidth\": 0, \"ticks\": \"\"}}, \"type\": \"parcoords\"}], \"scatter3d\": [{\"marker\": {\"colorbar\": {\"outlinewidth\": 0, \"ticks\": \"\"}}, \"type\": \"scatter3d\"}], \"scattercarpet\": [{\"marker\": {\"colorbar\": {\"outlinewidth\": 0, \"ticks\": \"\"}}, \"type\": \"scattercarpet\"}], \"scattergeo\": [{\"marker\": {\"colorbar\": {\"outlinewidth\": 0, \"ticks\": \"\"}}, \"type\": \"scattergeo\"}], \"scattergl\": [{\"marker\": {\"colorbar\": {\"outlinewidth\": 0, \"ticks\": \"\"}}, \"type\": \"scattergl\"}], \"scattermapbox\": [{\"marker\": {\"colorbar\": {\"outlinewidth\": 0, \"ticks\": \"\"}}, \"type\": \"scattermapbox\"}], \"scatterpolargl\": [{\"marker\": {\"colorbar\": {\"outlinewidth\": 0, \"ticks\": \"\"}}, \"type\": \"scatterpolargl\"}], \"scatterpolar\": [{\"marker\": {\"colorbar\": {\"outlinewidth\": 0, \"ticks\": \"\"}}, \"type\": \"scatterpolar\"}], \"scatter\": [{\"marker\": {\"colorbar\": {\"outlinewidth\": 0, \"ticks\": \"\"}}, \"type\": \"scatter\"}], \"scatterternary\": [{\"marker\": {\"colorbar\": {\"outlinewidth\": 0, \"ticks\": \"\"}}, \"type\": \"scatterternary\"}], \"surface\": [{\"colorbar\": {\"outlinewidth\": 0, \"ticks\": \"\"}, \"type\": \"surface\"}], \"table\": [{\"cells\": {\"fill\": {\"color\": \"#EBF0F8\"}, \"line\": {\"color\": \"white\"}}, \"header\": {\"fill\": {\"color\": \"#C8D4E3\"}, \"line\": {\"color\": \"white\"}}, \"type\": \"table\"}]}, \"layout\": {\"annotationdefaults\": {\"arrowcolor\": \"#506784\", \"arrowhead\": 0, \"arrowwidth\": 1}, \"colorscale\": {\"diverging\": [[0, \"#8e0152\"], [0.1, \"#c51b7d\"], [0.2, \"#de77ae\"], [0.3, \"#f1b6da\"], [0.4, \"#fde0ef\"], [0.5, \"#f7f7f7\"], [0.6, \"#e6f5d0\"], [0.7, \"#b8e186\"], [0.8, \"#7fbc41\"], [0.9, \"#4d9221\"], [1, \"#276419\"]], \"sequential\": [[0.0, \"#0508b8\"], [0.0893854748603352, \"#1910d8\"], [0.1787709497206704, \"#3c19f0\"], [0.2681564245810056, \"#6b1cfb\"], [0.3575418994413408, \"#981cfd\"], [0.44692737430167595, \"#bf1cfd\"], [0.5363128491620112, \"#dd2bfd\"], [0.6256983240223464, \"#f246fe\"], [0.7150837988826816, \"#fc67fd\"], [0.8044692737430168, \"#fe88fc\"], [0.8938547486033519, \"#fea5fd\"], [0.9832402234636871, \"#febefe\"], [1.0, \"#fec3fe\"]], \"sequentialminus\": [[0.0, \"#0508b8\"], [0.0893854748603352, \"#1910d8\"], [0.1787709497206704, \"#3c19f0\"], [0.2681564245810056, \"#6b1cfb\"], [0.3575418994413408, \"#981cfd\"], [0.44692737430167595, \"#bf1cfd\"], [0.5363128491620112, \"#dd2bfd\"], [0.6256983240223464, \"#f246fe\"], [0.7150837988826816, \"#fc67fd\"], [0.8044692737430168, \"#fe88fc\"], [0.8938547486033519, \"#fea5fd\"], [0.9832402234636871, \"#febefe\"], [1.0, \"#fec3fe\"]]}, \"colorway\": [\"#636efa\", \"#EF553B\", \"#00cc96\", \"#ab63fa\", \"#19d3f3\", \"#e763fa\", \"#FECB52\", \"#FFA15A\", \"#FF6692\", \"#B6E880\"], \"font\": {\"color\": \"#2a3f5f\"}, \"geo\": {\"bgcolor\": \"white\", \"lakecolor\": \"white\", \"landcolor\": \"#E5ECF6\", \"showlakes\": true, \"showland\": true, \"subunitcolor\": \"white\"}, \"hovermode\": \"closest\", \"mapbox\": {\"style\": \"light\"}, \"paper_bgcolor\": \"white\", \"plot_bgcolor\": \"#E5ECF6\", \"polar\": {\"angularaxis\": {\"gridcolor\": \"white\", \"linecolor\": \"white\", \"ticks\": \"\"}, \"bgcolor\": \"#E5ECF6\", \"radialaxis\": {\"gridcolor\": \"white\", \"linecolor\": \"white\", \"ticks\": \"\"}}, \"scene\": {\"xaxis\": {\"backgroundcolor\": \"#E5ECF6\", \"gridcolor\": \"white\", \"gridwidth\": 2, \"linecolor\": \"white\", \"showbackground\": true, \"ticks\": \"\", \"zerolinecolor\": \"white\"}, \"yaxis\": {\"backgroundcolor\": \"#E5ECF6\", \"gridcolor\": \"white\", \"gridwidth\": 2, \"linecolor\": \"white\", \"showbackground\": true, \"ticks\": \"\", \"zerolinecolor\": \"white\"}, \"zaxis\": {\"backgroundcolor\": \"#E5ECF6\", \"gridcolor\": \"white\", \"gridwidth\": 2, \"linecolor\": \"white\", \"showbackground\": true, \"ticks\": \"\", \"zerolinecolor\": \"white\"}}, \"shapedefaults\": {\"fillcolor\": \"#506784\", \"line\": {\"width\": 0}, \"opacity\": 0.4}, \"ternary\": {\"aaxis\": {\"gridcolor\": \"white\", \"linecolor\": \"white\", \"ticks\": \"\"}, \"baxis\": {\"gridcolor\": \"white\", \"linecolor\": \"white\", \"ticks\": \"\"}, \"bgcolor\": \"#E5ECF6\", \"caxis\": {\"gridcolor\": \"white\", \"linecolor\": \"white\", \"ticks\": \"\"}}, \"title\": {\"x\": 0.05}, \"xaxis\": {\"automargin\": true, \"gridcolor\": \"white\", \"linecolor\": \"white\", \"ticks\": \"\", \"zerolinecolor\": \"white\", \"zerolinewidth\": 2}, \"yaxis\": {\"automargin\": true, \"gridcolor\": \"white\", \"linecolor\": \"white\", \"ticks\": \"\", \"zerolinecolor\": \"white\", \"zerolinewidth\": 2}}}, \"polar\": {\"angularaxis\": {\"direction\": \"clockwise\", \"rotation\": 90}}}, {\"showLink\": false, \"linkText\": \"Export to plot.ly\", \"plotlyServerURL\": \"https://plot.ly\"}); \n",
       "}\n",
       "});</script><script type=\"text/javascript\">window.addEventListener(\"resize\", function(){if (document.getElementById(\"1ca95e7d-490d-43c7-a5d5-05082549ff3c\")) {window._Plotly.Plots.resize(document.getElementById(\"1ca95e7d-490d-43c7-a5d5-05082549ff3c\"));};})</script>"
      ],
      "text/vnd.plotly.v1+html": [
       "<div id=\"1ca95e7d-490d-43c7-a5d5-05082549ff3c\" style=\"height: 600px; width: 100%;\" class=\"plotly-graph-div\"></div><script type=\"text/javascript\">require([\"plotly\"], function(Plotly) { window.PLOTLYENV=window.PLOTLYENV || {};window.PLOTLYENV.BASE_URL=\"https://plot.ly\";\n",
       "if (document.getElementById(\"1ca95e7d-490d-43c7-a5d5-05082549ff3c\")) {\n",
       "    Plotly.newPlot(\"1ca95e7d-490d-43c7-a5d5-05082549ff3c\", [{\"hovertemplate\": \"\\u00bfCu\\u00e1nto tiempo al d\\u00eda usas el m\\u00f3vil/tableta/ordenador/TV?=1. Nada<br>counts=%{r}<br>prosume_cluster=%{theta}<extra></extra>\", \"legendgroup\": \"\\u00bfCu\\u00e1nto tiempo al d\\u00eda usas el m\\u00f3vil/tableta/ordenador/TV?=1. Nada\", \"marker\": {\"color\": \"rgb(213,62,79)\"}, \"name\": \"\\u00bfCu\\u00e1nto tiempo al d\\u00eda usas el m\\u00f3vil/tableta/ordenador/TV?=1. Nada\", \"r\": [1], \"showlegend\": true, \"theta\": [\"cluster_1\"], \"type\": \"barpolar\", \"uid\": \"16f251d7-38da-478c-9031-4739369145db\"}, {\"hovertemplate\": \"\\u00bfCu\\u00e1nto tiempo al d\\u00eda usas el m\\u00f3vil/tableta/ordenador/TV?=2. Menos de una hora<br>counts=%{r}<br>prosume_cluster=%{theta}<extra></extra>\", \"legendgroup\": \"\\u00bfCu\\u00e1nto tiempo al d\\u00eda usas el m\\u00f3vil/tableta/ordenador/TV?=2. Menos de una hora\", \"marker\": {\"color\": \"rgb(252,141,89)\"}, \"name\": \"\\u00bfCu\\u00e1nto tiempo al d\\u00eda usas el m\\u00f3vil/tableta/ordenador/TV?=2. Menos de una hora\", \"r\": [1, 4, 1], \"showlegend\": true, \"theta\": [\"cluster_1\", \"cluster_2\", \"cluster_5\"], \"type\": \"barpolar\", \"uid\": \"a0b0b8cf-a1e1-41f2-91dd-f460b8ad6dad\"}, {\"hovertemplate\": \"\\u00bfCu\\u00e1nto tiempo al d\\u00eda usas el m\\u00f3vil/tableta/ordenador/TV?=3. 1-2 horas<br>counts=%{r}<br>prosume_cluster=%{theta}<extra></extra>\", \"legendgroup\": \"\\u00bfCu\\u00e1nto tiempo al d\\u00eda usas el m\\u00f3vil/tableta/ordenador/TV?=3. 1-2 horas\", \"marker\": {\"color\": \"rgb(254,224,139)\"}, \"name\": \"\\u00bfCu\\u00e1nto tiempo al d\\u00eda usas el m\\u00f3vil/tableta/ordenador/TV?=3. 1-2 horas\", \"r\": [23, 32, 10, 5, 12], \"showlegend\": true, \"theta\": [\"cluster_1\", \"cluster_2\", \"cluster_3\", \"cluster_4\", \"cluster_5\"], \"type\": \"barpolar\", \"uid\": \"a5fa487c-9fa1-4649-8659-d29f8b4b3d9e\"}, {\"hovertemplate\": \"\\u00bfCu\\u00e1nto tiempo al d\\u00eda usas el m\\u00f3vil/tableta/ordenador/TV?=4. 2-4 horas<br>counts=%{r}<br>prosume_cluster=%{theta}<extra></extra>\", \"legendgroup\": \"\\u00bfCu\\u00e1nto tiempo al d\\u00eda usas el m\\u00f3vil/tableta/ordenador/TV?=4. 2-4 horas\", \"marker\": {\"color\": \"rgb(230,245,152)\"}, \"name\": \"\\u00bfCu\\u00e1nto tiempo al d\\u00eda usas el m\\u00f3vil/tableta/ordenador/TV?=4. 2-4 horas\", \"r\": [7, 61, 16, 25, 57], \"showlegend\": true, \"theta\": [\"cluster_1\", \"cluster_2\", \"cluster_3\", \"cluster_4\", \"cluster_5\"], \"type\": \"barpolar\", \"uid\": \"e1067aa7-3ec4-4298-9369-3fbbdc3d2190\"}, {\"hovertemplate\": \"\\u00bfCu\\u00e1nto tiempo al d\\u00eda usas el m\\u00f3vil/tableta/ordenador/TV?=5. 4-6 horas<br>counts=%{r}<br>prosume_cluster=%{theta}<extra></extra>\", \"legendgroup\": \"\\u00bfCu\\u00e1nto tiempo al d\\u00eda usas el m\\u00f3vil/tableta/ordenador/TV?=5. 4-6 horas\", \"marker\": {\"color\": \"rgb(153,213,148)\"}, \"name\": \"\\u00bfCu\\u00e1nto tiempo al d\\u00eda usas el m\\u00f3vil/tableta/ordenador/TV?=5. 4-6 horas\", \"r\": [4, 48, 24, 30, 90], \"showlegend\": true, \"theta\": [\"cluster_1\", \"cluster_2\", \"cluster_3\", \"cluster_4\", \"cluster_5\"], \"type\": \"barpolar\", \"uid\": \"071f61db-19fd-42a9-b3fb-c01f05aeedb4\"}, {\"hovertemplate\": \"\\u00bfCu\\u00e1nto tiempo al d\\u00eda usas el m\\u00f3vil/tableta/ordenador/TV?=6. M\\u00e1s de 6 horas<br>counts=%{r}<br>prosume_cluster=%{theta}<extra></extra>\", \"legendgroup\": \"\\u00bfCu\\u00e1nto tiempo al d\\u00eda usas el m\\u00f3vil/tableta/ordenador/TV?=6. M\\u00e1s de 6 horas\", \"marker\": {\"color\": \"rgb(50,136,189)\"}, \"name\": \"\\u00bfCu\\u00e1nto tiempo al d\\u00eda usas el m\\u00f3vil/tableta/ordenador/TV?=6. M\\u00e1s de 6 horas\", \"r\": [1, 51, 50, 38, 176], \"showlegend\": true, \"theta\": [\"cluster_1\", \"cluster_2\", \"cluster_3\", \"cluster_4\", \"cluster_5\"], \"type\": \"barpolar\", \"uid\": \"270be60e-2c8e-4ee5-85c1-a621e13e283e\"}], {\"barmode\": \"group\", \"barnorm\": \"\", \"height\": 600, \"legend\": {\"tracegroupgap\": 0}, \"margin\": {\"t\": 60}, \"template\": {\"data\": {\"barpolar\": [{\"marker\": {\"line\": {\"color\": \"#E5ECF6\", \"width\": 0.5}}, \"type\": \"barpolar\"}], \"bar\": [{\"marker\": {\"line\": {\"color\": \"#E5ECF6\", \"width\": 0.5}}, \"type\": \"bar\"}], \"carpet\": [{\"aaxis\": {\"endlinecolor\": \"#2a3f5f\", \"gridcolor\": \"white\", \"linecolor\": \"white\", \"minorgridcolor\": \"white\", \"startlinecolor\": \"#2a3f5f\"}, \"baxis\": {\"endlinecolor\": \"#2a3f5f\", \"gridcolor\": \"white\", \"linecolor\": \"white\", \"minorgridcolor\": \"white\", \"startlinecolor\": \"#2a3f5f\"}, \"type\": \"carpet\"}], \"choropleth\": [{\"colorbar\": {\"outlinewidth\": 0, \"ticks\": \"\"}, \"type\": \"choropleth\"}], \"contourcarpet\": [{\"colorbar\": {\"outlinewidth\": 0, \"ticks\": \"\"}, \"type\": \"contourcarpet\"}], \"contour\": [{\"autocolorscale\": true, \"colorbar\": {\"outlinewidth\": 0, \"ticks\": \"\"}, \"type\": \"contour\"}], \"heatmapgl\": [{\"colorbar\": {\"outlinewidth\": 0, \"ticks\": \"\"}, \"type\": \"heatmapgl\"}], \"heatmap\": [{\"autocolorscale\": true, \"colorbar\": {\"outlinewidth\": 0, \"ticks\": \"\"}, \"type\": \"heatmap\"}], \"histogram2dcontour\": [{\"autocolorscale\": true, \"colorbar\": {\"outlinewidth\": 0, \"ticks\": \"\"}, \"type\": \"histogram2dcontour\"}], \"histogram2d\": [{\"autocolorscale\": true, \"colorbar\": {\"outlinewidth\": 0, \"ticks\": \"\"}, \"type\": \"histogram2d\"}], \"histogram\": [{\"marker\": {\"colorbar\": {\"outlinewidth\": 0, \"ticks\": \"\"}}, \"type\": \"histogram\"}], \"mesh3d\": [{\"colorbar\": {\"outlinewidth\": 0, \"ticks\": \"\"}, \"type\": \"mesh3d\"}], \"parcoords\": [{\"line\": {\"colorbar\": {\"outlinewidth\": 0, \"ticks\": \"\"}}, \"type\": \"parcoords\"}], \"scatter3d\": [{\"marker\": {\"colorbar\": {\"outlinewidth\": 0, \"ticks\": \"\"}}, \"type\": \"scatter3d\"}], \"scattercarpet\": [{\"marker\": {\"colorbar\": {\"outlinewidth\": 0, \"ticks\": \"\"}}, \"type\": \"scattercarpet\"}], \"scattergeo\": [{\"marker\": {\"colorbar\": {\"outlinewidth\": 0, \"ticks\": \"\"}}, \"type\": \"scattergeo\"}], \"scattergl\": [{\"marker\": {\"colorbar\": {\"outlinewidth\": 0, \"ticks\": \"\"}}, \"type\": \"scattergl\"}], \"scattermapbox\": [{\"marker\": {\"colorbar\": {\"outlinewidth\": 0, \"ticks\": \"\"}}, \"type\": \"scattermapbox\"}], \"scatterpolargl\": [{\"marker\": {\"colorbar\": {\"outlinewidth\": 0, \"ticks\": \"\"}}, \"type\": \"scatterpolargl\"}], \"scatterpolar\": [{\"marker\": {\"colorbar\": {\"outlinewidth\": 0, \"ticks\": \"\"}}, \"type\": \"scatterpolar\"}], \"scatter\": [{\"marker\": {\"colorbar\": {\"outlinewidth\": 0, \"ticks\": \"\"}}, \"type\": \"scatter\"}], \"scatterternary\": [{\"marker\": {\"colorbar\": {\"outlinewidth\": 0, \"ticks\": \"\"}}, \"type\": \"scatterternary\"}], \"surface\": [{\"colorbar\": {\"outlinewidth\": 0, \"ticks\": \"\"}, \"type\": \"surface\"}], \"table\": [{\"cells\": {\"fill\": {\"color\": \"#EBF0F8\"}, \"line\": {\"color\": \"white\"}}, \"header\": {\"fill\": {\"color\": \"#C8D4E3\"}, \"line\": {\"color\": \"white\"}}, \"type\": \"table\"}]}, \"layout\": {\"annotationdefaults\": {\"arrowcolor\": \"#506784\", \"arrowhead\": 0, \"arrowwidth\": 1}, \"colorscale\": {\"diverging\": [[0, \"#8e0152\"], [0.1, \"#c51b7d\"], [0.2, \"#de77ae\"], [0.3, \"#f1b6da\"], [0.4, \"#fde0ef\"], [0.5, \"#f7f7f7\"], [0.6, \"#e6f5d0\"], [0.7, \"#b8e186\"], [0.8, \"#7fbc41\"], [0.9, \"#4d9221\"], [1, \"#276419\"]], \"sequential\": [[0.0, \"#0508b8\"], [0.0893854748603352, \"#1910d8\"], [0.1787709497206704, \"#3c19f0\"], [0.2681564245810056, \"#6b1cfb\"], [0.3575418994413408, \"#981cfd\"], [0.44692737430167595, \"#bf1cfd\"], [0.5363128491620112, \"#dd2bfd\"], [0.6256983240223464, \"#f246fe\"], [0.7150837988826816, \"#fc67fd\"], [0.8044692737430168, \"#fe88fc\"], [0.8938547486033519, \"#fea5fd\"], [0.9832402234636871, \"#febefe\"], [1.0, \"#fec3fe\"]], \"sequentialminus\": [[0.0, \"#0508b8\"], [0.0893854748603352, \"#1910d8\"], [0.1787709497206704, \"#3c19f0\"], [0.2681564245810056, \"#6b1cfb\"], [0.3575418994413408, \"#981cfd\"], [0.44692737430167595, \"#bf1cfd\"], [0.5363128491620112, \"#dd2bfd\"], [0.6256983240223464, \"#f246fe\"], [0.7150837988826816, \"#fc67fd\"], [0.8044692737430168, \"#fe88fc\"], [0.8938547486033519, \"#fea5fd\"], [0.9832402234636871, \"#febefe\"], [1.0, \"#fec3fe\"]]}, \"colorway\": [\"#636efa\", \"#EF553B\", \"#00cc96\", \"#ab63fa\", \"#19d3f3\", \"#e763fa\", \"#FECB52\", \"#FFA15A\", \"#FF6692\", \"#B6E880\"], \"font\": {\"color\": \"#2a3f5f\"}, \"geo\": {\"bgcolor\": \"white\", \"lakecolor\": \"white\", \"landcolor\": \"#E5ECF6\", \"showlakes\": true, \"showland\": true, \"subunitcolor\": \"white\"}, \"hovermode\": \"closest\", \"mapbox\": {\"style\": \"light\"}, \"paper_bgcolor\": \"white\", \"plot_bgcolor\": \"#E5ECF6\", \"polar\": {\"angularaxis\": {\"gridcolor\": \"white\", \"linecolor\": \"white\", \"ticks\": \"\"}, \"bgcolor\": \"#E5ECF6\", \"radialaxis\": {\"gridcolor\": \"white\", \"linecolor\": \"white\", \"ticks\": \"\"}}, \"scene\": {\"xaxis\": {\"backgroundcolor\": \"#E5ECF6\", \"gridcolor\": \"white\", \"gridwidth\": 2, \"linecolor\": \"white\", \"showbackground\": true, \"ticks\": \"\", \"zerolinecolor\": \"white\"}, \"yaxis\": {\"backgroundcolor\": \"#E5ECF6\", \"gridcolor\": \"white\", \"gridwidth\": 2, \"linecolor\": \"white\", \"showbackground\": true, \"ticks\": \"\", \"zerolinecolor\": \"white\"}, \"zaxis\": {\"backgroundcolor\": \"#E5ECF6\", \"gridcolor\": \"white\", \"gridwidth\": 2, \"linecolor\": \"white\", \"showbackground\": true, \"ticks\": \"\", \"zerolinecolor\": \"white\"}}, \"shapedefaults\": {\"fillcolor\": \"#506784\", \"line\": {\"width\": 0}, \"opacity\": 0.4}, \"ternary\": {\"aaxis\": {\"gridcolor\": \"white\", \"linecolor\": \"white\", \"ticks\": \"\"}, \"baxis\": {\"gridcolor\": \"white\", \"linecolor\": \"white\", \"ticks\": \"\"}, \"bgcolor\": \"#E5ECF6\", \"caxis\": {\"gridcolor\": \"white\", \"linecolor\": \"white\", \"ticks\": \"\"}}, \"title\": {\"x\": 0.05}, \"xaxis\": {\"automargin\": true, \"gridcolor\": \"white\", \"linecolor\": \"white\", \"ticks\": \"\", \"zerolinecolor\": \"white\", \"zerolinewidth\": 2}, \"yaxis\": {\"automargin\": true, \"gridcolor\": \"white\", \"linecolor\": \"white\", \"ticks\": \"\", \"zerolinecolor\": \"white\", \"zerolinewidth\": 2}}}, \"polar\": {\"angularaxis\": {\"direction\": \"clockwise\", \"rotation\": 90}}}, {\"showLink\": false, \"linkText\": \"Export to plot.ly\", \"plotlyServerURL\": \"https://plot.ly\"}); \n",
       "}\n",
       "});</script><script type=\"text/javascript\">window.addEventListener(\"resize\", function(){if (document.getElementById(\"1ca95e7d-490d-43c7-a5d5-05082549ff3c\")) {window._Plotly.Plots.resize(document.getElementById(\"1ca95e7d-490d-43c7-a5d5-05082549ff3c\"));};})</script>"
      ]
     },
     "metadata": {},
     "output_type": "display_data"
    },
    {
     "name": "stdout",
     "output_type": "stream",
     "text": [
      "Comparando la pregunta ¿Qué tipo de aplicaciones utilizas en tu ordenador/tableta/móvil? (Respuesta múltiple) [1. Apps de contenidos audiovisuales (Netflix, HBO, etc.)]\n"
     ]
    },
    {
     "data": {
      "application/vnd.plotly.v1+json": {
       "config": {
        "linkText": "Export to plot.ly",
        "plotlyServerURL": "https://plot.ly",
        "showLink": false
       },
       "data": [
        {
         "hovertemplate": "¿Qué tipo de aplicaciones utilizas en tu ordenador/tableta/móvil? (Respuesta múltiple) [1. Apps de contenidos audiovisuales (Netflix, HBO, etc.)]=No<br>counts=%{r}<br>prosume_cluster=%{theta}<extra></extra>",
         "legendgroup": "¿Qué tipo de aplicaciones utilizas en tu ordenador/tableta/móvil? (Respuesta múltiple) [1. Apps de contenidos audiovisuales (Netflix, HBO, etc.)]=No",
         "marker": {
          "color": "rgb(213,62,79)"
         },
         "name": "¿Qué tipo de aplicaciones utilizas en tu ordenador/tableta/móvil? (Respuesta múltiple) [1. Apps de contenidos audiovisuales (Netflix, HBO, etc.)]=No",
         "r": [
          32,
          130,
          57,
          23,
          98
         ],
         "showlegend": true,
         "theta": [
          "cluster_1",
          "cluster_2",
          "cluster_3",
          "cluster_4",
          "cluster_5"
         ],
         "type": "barpolar",
         "uid": "079c4fa6-00fa-47d5-abae-d0f2ecfc0a82"
        },
        {
         "hovertemplate": "¿Qué tipo de aplicaciones utilizas en tu ordenador/tableta/móvil? (Respuesta múltiple) [1. Apps de contenidos audiovisuales (Netflix, HBO, etc.)]=Sí<br>counts=%{r}<br>prosume_cluster=%{theta}<extra></extra>",
         "legendgroup": "¿Qué tipo de aplicaciones utilizas en tu ordenador/tableta/móvil? (Respuesta múltiple) [1. Apps de contenidos audiovisuales (Netflix, HBO, etc.)]=Sí",
         "marker": {
          "color": "rgb(252,141,89)"
         },
         "name": "¿Qué tipo de aplicaciones utilizas en tu ordenador/tableta/móvil? (Respuesta múltiple) [1. Apps de contenidos audiovisuales (Netflix, HBO, etc.)]=Sí",
         "r": [
          5,
          66,
          43,
          75,
          238
         ],
         "showlegend": true,
         "theta": [
          "cluster_1",
          "cluster_2",
          "cluster_3",
          "cluster_4",
          "cluster_5"
         ],
         "type": "barpolar",
         "uid": "19c0d763-88b4-4c1e-9bad-fd7a13765a51"
        }
       ],
       "layout": {
        "barmode": "group",
        "barnorm": "",
        "height": 600,
        "legend": {
         "tracegroupgap": 0
        },
        "margin": {
         "t": 60
        },
        "polar": {
         "angularaxis": {
          "direction": "clockwise",
          "rotation": 90
         }
        },
        "template": {
         "data": {
          "bar": [
           {
            "marker": {
             "line": {
              "color": "#E5ECF6",
              "width": 0.5
             }
            },
            "type": "bar"
           }
          ],
          "barpolar": [
           {
            "marker": {
             "line": {
              "color": "#E5ECF6",
              "width": 0.5
             }
            },
            "type": "barpolar"
           }
          ],
          "carpet": [
           {
            "aaxis": {
             "endlinecolor": "#2a3f5f",
             "gridcolor": "white",
             "linecolor": "white",
             "minorgridcolor": "white",
             "startlinecolor": "#2a3f5f"
            },
            "baxis": {
             "endlinecolor": "#2a3f5f",
             "gridcolor": "white",
             "linecolor": "white",
             "minorgridcolor": "white",
             "startlinecolor": "#2a3f5f"
            },
            "type": "carpet"
           }
          ],
          "choropleth": [
           {
            "colorbar": {
             "outlinewidth": 0,
             "ticks": ""
            },
            "type": "choropleth"
           }
          ],
          "contour": [
           {
            "autocolorscale": true,
            "colorbar": {
             "outlinewidth": 0,
             "ticks": ""
            },
            "type": "contour"
           }
          ],
          "contourcarpet": [
           {
            "colorbar": {
             "outlinewidth": 0,
             "ticks": ""
            },
            "type": "contourcarpet"
           }
          ],
          "heatmap": [
           {
            "autocolorscale": true,
            "colorbar": {
             "outlinewidth": 0,
             "ticks": ""
            },
            "type": "heatmap"
           }
          ],
          "heatmapgl": [
           {
            "colorbar": {
             "outlinewidth": 0,
             "ticks": ""
            },
            "type": "heatmapgl"
           }
          ],
          "histogram": [
           {
            "marker": {
             "colorbar": {
              "outlinewidth": 0,
              "ticks": ""
             }
            },
            "type": "histogram"
           }
          ],
          "histogram2d": [
           {
            "autocolorscale": true,
            "colorbar": {
             "outlinewidth": 0,
             "ticks": ""
            },
            "type": "histogram2d"
           }
          ],
          "histogram2dcontour": [
           {
            "autocolorscale": true,
            "colorbar": {
             "outlinewidth": 0,
             "ticks": ""
            },
            "type": "histogram2dcontour"
           }
          ],
          "mesh3d": [
           {
            "colorbar": {
             "outlinewidth": 0,
             "ticks": ""
            },
            "type": "mesh3d"
           }
          ],
          "parcoords": [
           {
            "line": {
             "colorbar": {
              "outlinewidth": 0,
              "ticks": ""
             }
            },
            "type": "parcoords"
           }
          ],
          "scatter": [
           {
            "marker": {
             "colorbar": {
              "outlinewidth": 0,
              "ticks": ""
             }
            },
            "type": "scatter"
           }
          ],
          "scatter3d": [
           {
            "marker": {
             "colorbar": {
              "outlinewidth": 0,
              "ticks": ""
             }
            },
            "type": "scatter3d"
           }
          ],
          "scattercarpet": [
           {
            "marker": {
             "colorbar": {
              "outlinewidth": 0,
              "ticks": ""
             }
            },
            "type": "scattercarpet"
           }
          ],
          "scattergeo": [
           {
            "marker": {
             "colorbar": {
              "outlinewidth": 0,
              "ticks": ""
             }
            },
            "type": "scattergeo"
           }
          ],
          "scattergl": [
           {
            "marker": {
             "colorbar": {
              "outlinewidth": 0,
              "ticks": ""
             }
            },
            "type": "scattergl"
           }
          ],
          "scattermapbox": [
           {
            "marker": {
             "colorbar": {
              "outlinewidth": 0,
              "ticks": ""
             }
            },
            "type": "scattermapbox"
           }
          ],
          "scatterpolar": [
           {
            "marker": {
             "colorbar": {
              "outlinewidth": 0,
              "ticks": ""
             }
            },
            "type": "scatterpolar"
           }
          ],
          "scatterpolargl": [
           {
            "marker": {
             "colorbar": {
              "outlinewidth": 0,
              "ticks": ""
             }
            },
            "type": "scatterpolargl"
           }
          ],
          "scatterternary": [
           {
            "marker": {
             "colorbar": {
              "outlinewidth": 0,
              "ticks": ""
             }
            },
            "type": "scatterternary"
           }
          ],
          "surface": [
           {
            "colorbar": {
             "outlinewidth": 0,
             "ticks": ""
            },
            "type": "surface"
           }
          ],
          "table": [
           {
            "cells": {
             "fill": {
              "color": "#EBF0F8"
             },
             "line": {
              "color": "white"
             }
            },
            "header": {
             "fill": {
              "color": "#C8D4E3"
             },
             "line": {
              "color": "white"
             }
            },
            "type": "table"
           }
          ]
         },
         "layout": {
          "annotationdefaults": {
           "arrowcolor": "#506784",
           "arrowhead": 0,
           "arrowwidth": 1
          },
          "colorscale": {
           "diverging": [
            [
             0,
             "#8e0152"
            ],
            [
             0.1,
             "#c51b7d"
            ],
            [
             0.2,
             "#de77ae"
            ],
            [
             0.3,
             "#f1b6da"
            ],
            [
             0.4,
             "#fde0ef"
            ],
            [
             0.5,
             "#f7f7f7"
            ],
            [
             0.6,
             "#e6f5d0"
            ],
            [
             0.7,
             "#b8e186"
            ],
            [
             0.8,
             "#7fbc41"
            ],
            [
             0.9,
             "#4d9221"
            ],
            [
             1,
             "#276419"
            ]
           ],
           "sequential": [
            [
             0,
             "#0508b8"
            ],
            [
             0.0893854748603352,
             "#1910d8"
            ],
            [
             0.1787709497206704,
             "#3c19f0"
            ],
            [
             0.2681564245810056,
             "#6b1cfb"
            ],
            [
             0.3575418994413408,
             "#981cfd"
            ],
            [
             0.44692737430167595,
             "#bf1cfd"
            ],
            [
             0.5363128491620112,
             "#dd2bfd"
            ],
            [
             0.6256983240223464,
             "#f246fe"
            ],
            [
             0.7150837988826816,
             "#fc67fd"
            ],
            [
             0.8044692737430168,
             "#fe88fc"
            ],
            [
             0.8938547486033519,
             "#fea5fd"
            ],
            [
             0.9832402234636871,
             "#febefe"
            ],
            [
             1,
             "#fec3fe"
            ]
           ],
           "sequentialminus": [
            [
             0,
             "#0508b8"
            ],
            [
             0.0893854748603352,
             "#1910d8"
            ],
            [
             0.1787709497206704,
             "#3c19f0"
            ],
            [
             0.2681564245810056,
             "#6b1cfb"
            ],
            [
             0.3575418994413408,
             "#981cfd"
            ],
            [
             0.44692737430167595,
             "#bf1cfd"
            ],
            [
             0.5363128491620112,
             "#dd2bfd"
            ],
            [
             0.6256983240223464,
             "#f246fe"
            ],
            [
             0.7150837988826816,
             "#fc67fd"
            ],
            [
             0.8044692737430168,
             "#fe88fc"
            ],
            [
             0.8938547486033519,
             "#fea5fd"
            ],
            [
             0.9832402234636871,
             "#febefe"
            ],
            [
             1,
             "#fec3fe"
            ]
           ]
          },
          "colorway": [
           "#636efa",
           "#EF553B",
           "#00cc96",
           "#ab63fa",
           "#19d3f3",
           "#e763fa",
           "#FECB52",
           "#FFA15A",
           "#FF6692",
           "#B6E880"
          ],
          "font": {
           "color": "#2a3f5f"
          },
          "geo": {
           "bgcolor": "white",
           "lakecolor": "white",
           "landcolor": "#E5ECF6",
           "showlakes": true,
           "showland": true,
           "subunitcolor": "white"
          },
          "hovermode": "closest",
          "mapbox": {
           "style": "light"
          },
          "paper_bgcolor": "white",
          "plot_bgcolor": "#E5ECF6",
          "polar": {
           "angularaxis": {
            "gridcolor": "white",
            "linecolor": "white",
            "ticks": ""
           },
           "bgcolor": "#E5ECF6",
           "radialaxis": {
            "gridcolor": "white",
            "linecolor": "white",
            "ticks": ""
           }
          },
          "scene": {
           "xaxis": {
            "backgroundcolor": "#E5ECF6",
            "gridcolor": "white",
            "gridwidth": 2,
            "linecolor": "white",
            "showbackground": true,
            "ticks": "",
            "zerolinecolor": "white"
           },
           "yaxis": {
            "backgroundcolor": "#E5ECF6",
            "gridcolor": "white",
            "gridwidth": 2,
            "linecolor": "white",
            "showbackground": true,
            "ticks": "",
            "zerolinecolor": "white"
           },
           "zaxis": {
            "backgroundcolor": "#E5ECF6",
            "gridcolor": "white",
            "gridwidth": 2,
            "linecolor": "white",
            "showbackground": true,
            "ticks": "",
            "zerolinecolor": "white"
           }
          },
          "shapedefaults": {
           "fillcolor": "#506784",
           "line": {
            "width": 0
           },
           "opacity": 0.4
          },
          "ternary": {
           "aaxis": {
            "gridcolor": "white",
            "linecolor": "white",
            "ticks": ""
           },
           "baxis": {
            "gridcolor": "white",
            "linecolor": "white",
            "ticks": ""
           },
           "bgcolor": "#E5ECF6",
           "caxis": {
            "gridcolor": "white",
            "linecolor": "white",
            "ticks": ""
           }
          },
          "title": {
           "x": 0.05
          },
          "xaxis": {
           "automargin": true,
           "gridcolor": "white",
           "linecolor": "white",
           "ticks": "",
           "zerolinecolor": "white",
           "zerolinewidth": 2
          },
          "yaxis": {
           "automargin": true,
           "gridcolor": "white",
           "linecolor": "white",
           "ticks": "",
           "zerolinecolor": "white",
           "zerolinewidth": 2
          }
         }
        }
       }
      },
      "text/html": [
       "<div id=\"56e5dc8b-7a02-4ec7-8c1b-1953c43952de\" style=\"height: 600px; width: 100%;\" class=\"plotly-graph-div\"></div><script type=\"text/javascript\">require([\"plotly\"], function(Plotly) { window.PLOTLYENV=window.PLOTLYENV || {};window.PLOTLYENV.BASE_URL=\"https://plot.ly\";\n",
       "if (document.getElementById(\"56e5dc8b-7a02-4ec7-8c1b-1953c43952de\")) {\n",
       "    Plotly.newPlot(\"56e5dc8b-7a02-4ec7-8c1b-1953c43952de\", [{\"hovertemplate\": \"\\u00bfQu\\u00e9 tipo de aplicaciones utilizas en tu ordenador/tableta/m\\u00f3vil? (Respuesta m\\u00faltiple) [1. Apps de contenidos audiovisuales (Netflix, HBO, etc.)]=No<br>counts=%{r}<br>prosume_cluster=%{theta}<extra></extra>\", \"legendgroup\": \"\\u00bfQu\\u00e9 tipo de aplicaciones utilizas en tu ordenador/tableta/m\\u00f3vil? (Respuesta m\\u00faltiple) [1. Apps de contenidos audiovisuales (Netflix, HBO, etc.)]=No\", \"marker\": {\"color\": \"rgb(213,62,79)\"}, \"name\": \"\\u00bfQu\\u00e9 tipo de aplicaciones utilizas en tu ordenador/tableta/m\\u00f3vil? (Respuesta m\\u00faltiple) [1. Apps de contenidos audiovisuales (Netflix, HBO, etc.)]=No\", \"r\": [32, 130, 57, 23, 98], \"showlegend\": true, \"theta\": [\"cluster_1\", \"cluster_2\", \"cluster_3\", \"cluster_4\", \"cluster_5\"], \"type\": \"barpolar\", \"uid\": \"079c4fa6-00fa-47d5-abae-d0f2ecfc0a82\"}, {\"hovertemplate\": \"\\u00bfQu\\u00e9 tipo de aplicaciones utilizas en tu ordenador/tableta/m\\u00f3vil? (Respuesta m\\u00faltiple) [1. Apps de contenidos audiovisuales (Netflix, HBO, etc.)]=S\\u00ed<br>counts=%{r}<br>prosume_cluster=%{theta}<extra></extra>\", \"legendgroup\": \"\\u00bfQu\\u00e9 tipo de aplicaciones utilizas en tu ordenador/tableta/m\\u00f3vil? (Respuesta m\\u00faltiple) [1. Apps de contenidos audiovisuales (Netflix, HBO, etc.)]=S\\u00ed\", \"marker\": {\"color\": \"rgb(252,141,89)\"}, \"name\": \"\\u00bfQu\\u00e9 tipo de aplicaciones utilizas en tu ordenador/tableta/m\\u00f3vil? (Respuesta m\\u00faltiple) [1. Apps de contenidos audiovisuales (Netflix, HBO, etc.)]=S\\u00ed\", \"r\": [5, 66, 43, 75, 238], \"showlegend\": true, \"theta\": [\"cluster_1\", \"cluster_2\", \"cluster_3\", \"cluster_4\", \"cluster_5\"], \"type\": \"barpolar\", \"uid\": \"19c0d763-88b4-4c1e-9bad-fd7a13765a51\"}], {\"barmode\": \"group\", \"barnorm\": \"\", \"height\": 600, \"legend\": {\"tracegroupgap\": 0}, \"margin\": {\"t\": 60}, \"template\": {\"data\": {\"barpolar\": [{\"marker\": {\"line\": {\"color\": \"#E5ECF6\", \"width\": 0.5}}, \"type\": \"barpolar\"}], \"bar\": [{\"marker\": {\"line\": {\"color\": \"#E5ECF6\", \"width\": 0.5}}, \"type\": \"bar\"}], \"carpet\": [{\"aaxis\": {\"endlinecolor\": \"#2a3f5f\", \"gridcolor\": \"white\", \"linecolor\": \"white\", \"minorgridcolor\": \"white\", \"startlinecolor\": \"#2a3f5f\"}, \"baxis\": {\"endlinecolor\": \"#2a3f5f\", \"gridcolor\": \"white\", \"linecolor\": \"white\", \"minorgridcolor\": \"white\", \"startlinecolor\": \"#2a3f5f\"}, \"type\": \"carpet\"}], \"choropleth\": [{\"colorbar\": {\"outlinewidth\": 0, \"ticks\": \"\"}, \"type\": \"choropleth\"}], \"contourcarpet\": [{\"colorbar\": {\"outlinewidth\": 0, \"ticks\": \"\"}, \"type\": \"contourcarpet\"}], \"contour\": [{\"autocolorscale\": true, \"colorbar\": {\"outlinewidth\": 0, \"ticks\": \"\"}, \"type\": \"contour\"}], \"heatmapgl\": [{\"colorbar\": {\"outlinewidth\": 0, \"ticks\": \"\"}, \"type\": \"heatmapgl\"}], \"heatmap\": [{\"autocolorscale\": true, \"colorbar\": {\"outlinewidth\": 0, \"ticks\": \"\"}, \"type\": \"heatmap\"}], \"histogram2dcontour\": [{\"autocolorscale\": true, \"colorbar\": {\"outlinewidth\": 0, \"ticks\": \"\"}, \"type\": \"histogram2dcontour\"}], \"histogram2d\": [{\"autocolorscale\": true, \"colorbar\": {\"outlinewidth\": 0, \"ticks\": \"\"}, \"type\": \"histogram2d\"}], \"histogram\": [{\"marker\": {\"colorbar\": {\"outlinewidth\": 0, \"ticks\": \"\"}}, \"type\": \"histogram\"}], \"mesh3d\": [{\"colorbar\": {\"outlinewidth\": 0, \"ticks\": \"\"}, \"type\": \"mesh3d\"}], \"parcoords\": [{\"line\": {\"colorbar\": {\"outlinewidth\": 0, \"ticks\": \"\"}}, \"type\": \"parcoords\"}], \"scatter3d\": [{\"marker\": {\"colorbar\": {\"outlinewidth\": 0, \"ticks\": \"\"}}, \"type\": \"scatter3d\"}], \"scattercarpet\": [{\"marker\": {\"colorbar\": {\"outlinewidth\": 0, \"ticks\": \"\"}}, \"type\": \"scattercarpet\"}], \"scattergeo\": [{\"marker\": {\"colorbar\": {\"outlinewidth\": 0, \"ticks\": \"\"}}, \"type\": \"scattergeo\"}], \"scattergl\": [{\"marker\": {\"colorbar\": {\"outlinewidth\": 0, \"ticks\": \"\"}}, \"type\": \"scattergl\"}], \"scattermapbox\": [{\"marker\": {\"colorbar\": {\"outlinewidth\": 0, \"ticks\": \"\"}}, \"type\": \"scattermapbox\"}], \"scatterpolargl\": [{\"marker\": {\"colorbar\": {\"outlinewidth\": 0, \"ticks\": \"\"}}, \"type\": \"scatterpolargl\"}], \"scatterpolar\": [{\"marker\": {\"colorbar\": {\"outlinewidth\": 0, \"ticks\": \"\"}}, \"type\": \"scatterpolar\"}], \"scatter\": [{\"marker\": {\"colorbar\": {\"outlinewidth\": 0, \"ticks\": \"\"}}, \"type\": \"scatter\"}], \"scatterternary\": [{\"marker\": {\"colorbar\": {\"outlinewidth\": 0, \"ticks\": \"\"}}, \"type\": \"scatterternary\"}], \"surface\": [{\"colorbar\": {\"outlinewidth\": 0, \"ticks\": \"\"}, \"type\": \"surface\"}], \"table\": [{\"cells\": {\"fill\": {\"color\": \"#EBF0F8\"}, \"line\": {\"color\": \"white\"}}, \"header\": {\"fill\": {\"color\": \"#C8D4E3\"}, \"line\": {\"color\": \"white\"}}, \"type\": \"table\"}]}, \"layout\": {\"annotationdefaults\": {\"arrowcolor\": \"#506784\", \"arrowhead\": 0, \"arrowwidth\": 1}, \"colorscale\": {\"diverging\": [[0, \"#8e0152\"], [0.1, \"#c51b7d\"], [0.2, \"#de77ae\"], [0.3, \"#f1b6da\"], [0.4, \"#fde0ef\"], [0.5, \"#f7f7f7\"], [0.6, \"#e6f5d0\"], [0.7, \"#b8e186\"], [0.8, \"#7fbc41\"], [0.9, \"#4d9221\"], [1, \"#276419\"]], \"sequential\": [[0.0, \"#0508b8\"], [0.0893854748603352, \"#1910d8\"], [0.1787709497206704, \"#3c19f0\"], [0.2681564245810056, \"#6b1cfb\"], [0.3575418994413408, \"#981cfd\"], [0.44692737430167595, \"#bf1cfd\"], [0.5363128491620112, \"#dd2bfd\"], [0.6256983240223464, \"#f246fe\"], [0.7150837988826816, \"#fc67fd\"], [0.8044692737430168, \"#fe88fc\"], [0.8938547486033519, \"#fea5fd\"], [0.9832402234636871, \"#febefe\"], [1.0, \"#fec3fe\"]], \"sequentialminus\": [[0.0, \"#0508b8\"], [0.0893854748603352, \"#1910d8\"], [0.1787709497206704, \"#3c19f0\"], [0.2681564245810056, \"#6b1cfb\"], [0.3575418994413408, \"#981cfd\"], [0.44692737430167595, \"#bf1cfd\"], [0.5363128491620112, \"#dd2bfd\"], [0.6256983240223464, \"#f246fe\"], [0.7150837988826816, \"#fc67fd\"], [0.8044692737430168, \"#fe88fc\"], [0.8938547486033519, \"#fea5fd\"], [0.9832402234636871, \"#febefe\"], [1.0, \"#fec3fe\"]]}, \"colorway\": [\"#636efa\", \"#EF553B\", \"#00cc96\", \"#ab63fa\", \"#19d3f3\", \"#e763fa\", \"#FECB52\", \"#FFA15A\", \"#FF6692\", \"#B6E880\"], \"font\": {\"color\": \"#2a3f5f\"}, \"geo\": {\"bgcolor\": \"white\", \"lakecolor\": \"white\", \"landcolor\": \"#E5ECF6\", \"showlakes\": true, \"showland\": true, \"subunitcolor\": \"white\"}, \"hovermode\": \"closest\", \"mapbox\": {\"style\": \"light\"}, \"paper_bgcolor\": \"white\", \"plot_bgcolor\": \"#E5ECF6\", \"polar\": {\"angularaxis\": {\"gridcolor\": \"white\", \"linecolor\": \"white\", \"ticks\": \"\"}, \"bgcolor\": \"#E5ECF6\", \"radialaxis\": {\"gridcolor\": \"white\", \"linecolor\": \"white\", \"ticks\": \"\"}}, \"scene\": {\"xaxis\": {\"backgroundcolor\": \"#E5ECF6\", \"gridcolor\": \"white\", \"gridwidth\": 2, \"linecolor\": \"white\", \"showbackground\": true, \"ticks\": \"\", \"zerolinecolor\": \"white\"}, \"yaxis\": {\"backgroundcolor\": \"#E5ECF6\", \"gridcolor\": \"white\", \"gridwidth\": 2, \"linecolor\": \"white\", \"showbackground\": true, \"ticks\": \"\", \"zerolinecolor\": \"white\"}, \"zaxis\": {\"backgroundcolor\": \"#E5ECF6\", \"gridcolor\": \"white\", \"gridwidth\": 2, \"linecolor\": \"white\", \"showbackground\": true, \"ticks\": \"\", \"zerolinecolor\": \"white\"}}, \"shapedefaults\": {\"fillcolor\": \"#506784\", \"line\": {\"width\": 0}, \"opacity\": 0.4}, \"ternary\": {\"aaxis\": {\"gridcolor\": \"white\", \"linecolor\": \"white\", \"ticks\": \"\"}, \"baxis\": {\"gridcolor\": \"white\", \"linecolor\": \"white\", \"ticks\": \"\"}, \"bgcolor\": \"#E5ECF6\", \"caxis\": {\"gridcolor\": \"white\", \"linecolor\": \"white\", \"ticks\": \"\"}}, \"title\": {\"x\": 0.05}, \"xaxis\": {\"automargin\": true, \"gridcolor\": \"white\", \"linecolor\": \"white\", \"ticks\": \"\", \"zerolinecolor\": \"white\", \"zerolinewidth\": 2}, \"yaxis\": {\"automargin\": true, \"gridcolor\": \"white\", \"linecolor\": \"white\", \"ticks\": \"\", \"zerolinecolor\": \"white\", \"zerolinewidth\": 2}}}, \"polar\": {\"angularaxis\": {\"direction\": \"clockwise\", \"rotation\": 90}}}, {\"showLink\": false, \"linkText\": \"Export to plot.ly\", \"plotlyServerURL\": \"https://plot.ly\"}); \n",
       "}\n",
       "});</script><script type=\"text/javascript\">window.addEventListener(\"resize\", function(){if (document.getElementById(\"56e5dc8b-7a02-4ec7-8c1b-1953c43952de\")) {window._Plotly.Plots.resize(document.getElementById(\"56e5dc8b-7a02-4ec7-8c1b-1953c43952de\"));};})</script>"
      ],
      "text/vnd.plotly.v1+html": [
       "<div id=\"56e5dc8b-7a02-4ec7-8c1b-1953c43952de\" style=\"height: 600px; width: 100%;\" class=\"plotly-graph-div\"></div><script type=\"text/javascript\">require([\"plotly\"], function(Plotly) { window.PLOTLYENV=window.PLOTLYENV || {};window.PLOTLYENV.BASE_URL=\"https://plot.ly\";\n",
       "if (document.getElementById(\"56e5dc8b-7a02-4ec7-8c1b-1953c43952de\")) {\n",
       "    Plotly.newPlot(\"56e5dc8b-7a02-4ec7-8c1b-1953c43952de\", [{\"hovertemplate\": \"\\u00bfQu\\u00e9 tipo de aplicaciones utilizas en tu ordenador/tableta/m\\u00f3vil? (Respuesta m\\u00faltiple) [1. Apps de contenidos audiovisuales (Netflix, HBO, etc.)]=No<br>counts=%{r}<br>prosume_cluster=%{theta}<extra></extra>\", \"legendgroup\": \"\\u00bfQu\\u00e9 tipo de aplicaciones utilizas en tu ordenador/tableta/m\\u00f3vil? (Respuesta m\\u00faltiple) [1. Apps de contenidos audiovisuales (Netflix, HBO, etc.)]=No\", \"marker\": {\"color\": \"rgb(213,62,79)\"}, \"name\": \"\\u00bfQu\\u00e9 tipo de aplicaciones utilizas en tu ordenador/tableta/m\\u00f3vil? (Respuesta m\\u00faltiple) [1. Apps de contenidos audiovisuales (Netflix, HBO, etc.)]=No\", \"r\": [32, 130, 57, 23, 98], \"showlegend\": true, \"theta\": [\"cluster_1\", \"cluster_2\", \"cluster_3\", \"cluster_4\", \"cluster_5\"], \"type\": \"barpolar\", \"uid\": \"079c4fa6-00fa-47d5-abae-d0f2ecfc0a82\"}, {\"hovertemplate\": \"\\u00bfQu\\u00e9 tipo de aplicaciones utilizas en tu ordenador/tableta/m\\u00f3vil? (Respuesta m\\u00faltiple) [1. Apps de contenidos audiovisuales (Netflix, HBO, etc.)]=S\\u00ed<br>counts=%{r}<br>prosume_cluster=%{theta}<extra></extra>\", \"legendgroup\": \"\\u00bfQu\\u00e9 tipo de aplicaciones utilizas en tu ordenador/tableta/m\\u00f3vil? (Respuesta m\\u00faltiple) [1. Apps de contenidos audiovisuales (Netflix, HBO, etc.)]=S\\u00ed\", \"marker\": {\"color\": \"rgb(252,141,89)\"}, \"name\": \"\\u00bfQu\\u00e9 tipo de aplicaciones utilizas en tu ordenador/tableta/m\\u00f3vil? (Respuesta m\\u00faltiple) [1. Apps de contenidos audiovisuales (Netflix, HBO, etc.)]=S\\u00ed\", \"r\": [5, 66, 43, 75, 238], \"showlegend\": true, \"theta\": [\"cluster_1\", \"cluster_2\", \"cluster_3\", \"cluster_4\", \"cluster_5\"], \"type\": \"barpolar\", \"uid\": \"19c0d763-88b4-4c1e-9bad-fd7a13765a51\"}], {\"barmode\": \"group\", \"barnorm\": \"\", \"height\": 600, \"legend\": {\"tracegroupgap\": 0}, \"margin\": {\"t\": 60}, \"template\": {\"data\": {\"barpolar\": [{\"marker\": {\"line\": {\"color\": \"#E5ECF6\", \"width\": 0.5}}, \"type\": \"barpolar\"}], \"bar\": [{\"marker\": {\"line\": {\"color\": \"#E5ECF6\", \"width\": 0.5}}, \"type\": \"bar\"}], \"carpet\": [{\"aaxis\": {\"endlinecolor\": \"#2a3f5f\", \"gridcolor\": \"white\", \"linecolor\": \"white\", \"minorgridcolor\": \"white\", \"startlinecolor\": \"#2a3f5f\"}, \"baxis\": {\"endlinecolor\": \"#2a3f5f\", \"gridcolor\": \"white\", \"linecolor\": \"white\", \"minorgridcolor\": \"white\", \"startlinecolor\": \"#2a3f5f\"}, \"type\": \"carpet\"}], \"choropleth\": [{\"colorbar\": {\"outlinewidth\": 0, \"ticks\": \"\"}, \"type\": \"choropleth\"}], \"contourcarpet\": [{\"colorbar\": {\"outlinewidth\": 0, \"ticks\": \"\"}, \"type\": \"contourcarpet\"}], \"contour\": [{\"autocolorscale\": true, \"colorbar\": {\"outlinewidth\": 0, \"ticks\": \"\"}, \"type\": \"contour\"}], \"heatmapgl\": [{\"colorbar\": {\"outlinewidth\": 0, \"ticks\": \"\"}, \"type\": \"heatmapgl\"}], \"heatmap\": [{\"autocolorscale\": true, \"colorbar\": {\"outlinewidth\": 0, \"ticks\": \"\"}, \"type\": \"heatmap\"}], \"histogram2dcontour\": [{\"autocolorscale\": true, \"colorbar\": {\"outlinewidth\": 0, \"ticks\": \"\"}, \"type\": \"histogram2dcontour\"}], \"histogram2d\": [{\"autocolorscale\": true, \"colorbar\": {\"outlinewidth\": 0, \"ticks\": \"\"}, \"type\": \"histogram2d\"}], \"histogram\": [{\"marker\": {\"colorbar\": {\"outlinewidth\": 0, \"ticks\": \"\"}}, \"type\": \"histogram\"}], \"mesh3d\": [{\"colorbar\": {\"outlinewidth\": 0, \"ticks\": \"\"}, \"type\": \"mesh3d\"}], \"parcoords\": [{\"line\": {\"colorbar\": {\"outlinewidth\": 0, \"ticks\": \"\"}}, \"type\": \"parcoords\"}], \"scatter3d\": [{\"marker\": {\"colorbar\": {\"outlinewidth\": 0, \"ticks\": \"\"}}, \"type\": \"scatter3d\"}], \"scattercarpet\": [{\"marker\": {\"colorbar\": {\"outlinewidth\": 0, \"ticks\": \"\"}}, \"type\": \"scattercarpet\"}], \"scattergeo\": [{\"marker\": {\"colorbar\": {\"outlinewidth\": 0, \"ticks\": \"\"}}, \"type\": \"scattergeo\"}], \"scattergl\": [{\"marker\": {\"colorbar\": {\"outlinewidth\": 0, \"ticks\": \"\"}}, \"type\": \"scattergl\"}], \"scattermapbox\": [{\"marker\": {\"colorbar\": {\"outlinewidth\": 0, \"ticks\": \"\"}}, \"type\": \"scattermapbox\"}], \"scatterpolargl\": [{\"marker\": {\"colorbar\": {\"outlinewidth\": 0, \"ticks\": \"\"}}, \"type\": \"scatterpolargl\"}], \"scatterpolar\": [{\"marker\": {\"colorbar\": {\"outlinewidth\": 0, \"ticks\": \"\"}}, \"type\": \"scatterpolar\"}], \"scatter\": [{\"marker\": {\"colorbar\": {\"outlinewidth\": 0, \"ticks\": \"\"}}, \"type\": \"scatter\"}], \"scatterternary\": [{\"marker\": {\"colorbar\": {\"outlinewidth\": 0, \"ticks\": \"\"}}, \"type\": \"scatterternary\"}], \"surface\": [{\"colorbar\": {\"outlinewidth\": 0, \"ticks\": \"\"}, \"type\": \"surface\"}], \"table\": [{\"cells\": {\"fill\": {\"color\": \"#EBF0F8\"}, \"line\": {\"color\": \"white\"}}, \"header\": {\"fill\": {\"color\": \"#C8D4E3\"}, \"line\": {\"color\": \"white\"}}, \"type\": \"table\"}]}, \"layout\": {\"annotationdefaults\": {\"arrowcolor\": \"#506784\", \"arrowhead\": 0, \"arrowwidth\": 1}, \"colorscale\": {\"diverging\": [[0, \"#8e0152\"], [0.1, \"#c51b7d\"], [0.2, \"#de77ae\"], [0.3, \"#f1b6da\"], [0.4, \"#fde0ef\"], [0.5, \"#f7f7f7\"], [0.6, \"#e6f5d0\"], [0.7, \"#b8e186\"], [0.8, \"#7fbc41\"], [0.9, \"#4d9221\"], [1, \"#276419\"]], \"sequential\": [[0.0, \"#0508b8\"], [0.0893854748603352, \"#1910d8\"], [0.1787709497206704, \"#3c19f0\"], [0.2681564245810056, \"#6b1cfb\"], [0.3575418994413408, \"#981cfd\"], [0.44692737430167595, \"#bf1cfd\"], [0.5363128491620112, \"#dd2bfd\"], [0.6256983240223464, \"#f246fe\"], [0.7150837988826816, \"#fc67fd\"], [0.8044692737430168, \"#fe88fc\"], [0.8938547486033519, \"#fea5fd\"], [0.9832402234636871, \"#febefe\"], [1.0, \"#fec3fe\"]], \"sequentialminus\": [[0.0, \"#0508b8\"], [0.0893854748603352, \"#1910d8\"], [0.1787709497206704, \"#3c19f0\"], [0.2681564245810056, \"#6b1cfb\"], [0.3575418994413408, \"#981cfd\"], [0.44692737430167595, \"#bf1cfd\"], [0.5363128491620112, \"#dd2bfd\"], [0.6256983240223464, \"#f246fe\"], [0.7150837988826816, \"#fc67fd\"], [0.8044692737430168, \"#fe88fc\"], [0.8938547486033519, \"#fea5fd\"], [0.9832402234636871, \"#febefe\"], [1.0, \"#fec3fe\"]]}, \"colorway\": [\"#636efa\", \"#EF553B\", \"#00cc96\", \"#ab63fa\", \"#19d3f3\", \"#e763fa\", \"#FECB52\", \"#FFA15A\", \"#FF6692\", \"#B6E880\"], \"font\": {\"color\": \"#2a3f5f\"}, \"geo\": {\"bgcolor\": \"white\", \"lakecolor\": \"white\", \"landcolor\": \"#E5ECF6\", \"showlakes\": true, \"showland\": true, \"subunitcolor\": \"white\"}, \"hovermode\": \"closest\", \"mapbox\": {\"style\": \"light\"}, \"paper_bgcolor\": \"white\", \"plot_bgcolor\": \"#E5ECF6\", \"polar\": {\"angularaxis\": {\"gridcolor\": \"white\", \"linecolor\": \"white\", \"ticks\": \"\"}, \"bgcolor\": \"#E5ECF6\", \"radialaxis\": {\"gridcolor\": \"white\", \"linecolor\": \"white\", \"ticks\": \"\"}}, \"scene\": {\"xaxis\": {\"backgroundcolor\": \"#E5ECF6\", \"gridcolor\": \"white\", \"gridwidth\": 2, \"linecolor\": \"white\", \"showbackground\": true, \"ticks\": \"\", \"zerolinecolor\": \"white\"}, \"yaxis\": {\"backgroundcolor\": \"#E5ECF6\", \"gridcolor\": \"white\", \"gridwidth\": 2, \"linecolor\": \"white\", \"showbackground\": true, \"ticks\": \"\", \"zerolinecolor\": \"white\"}, \"zaxis\": {\"backgroundcolor\": \"#E5ECF6\", \"gridcolor\": \"white\", \"gridwidth\": 2, \"linecolor\": \"white\", \"showbackground\": true, \"ticks\": \"\", \"zerolinecolor\": \"white\"}}, \"shapedefaults\": {\"fillcolor\": \"#506784\", \"line\": {\"width\": 0}, \"opacity\": 0.4}, \"ternary\": {\"aaxis\": {\"gridcolor\": \"white\", \"linecolor\": \"white\", \"ticks\": \"\"}, \"baxis\": {\"gridcolor\": \"white\", \"linecolor\": \"white\", \"ticks\": \"\"}, \"bgcolor\": \"#E5ECF6\", \"caxis\": {\"gridcolor\": \"white\", \"linecolor\": \"white\", \"ticks\": \"\"}}, \"title\": {\"x\": 0.05}, \"xaxis\": {\"automargin\": true, \"gridcolor\": \"white\", \"linecolor\": \"white\", \"ticks\": \"\", \"zerolinecolor\": \"white\", \"zerolinewidth\": 2}, \"yaxis\": {\"automargin\": true, \"gridcolor\": \"white\", \"linecolor\": \"white\", \"ticks\": \"\", \"zerolinecolor\": \"white\", \"zerolinewidth\": 2}}}, \"polar\": {\"angularaxis\": {\"direction\": \"clockwise\", \"rotation\": 90}}}, {\"showLink\": false, \"linkText\": \"Export to plot.ly\", \"plotlyServerURL\": \"https://plot.ly\"}); \n",
       "}\n",
       "});</script><script type=\"text/javascript\">window.addEventListener(\"resize\", function(){if (document.getElementById(\"56e5dc8b-7a02-4ec7-8c1b-1953c43952de\")) {window._Plotly.Plots.resize(document.getElementById(\"56e5dc8b-7a02-4ec7-8c1b-1953c43952de\"));};})</script>"
      ]
     },
     "metadata": {},
     "output_type": "display_data"
    },
    {
     "name": "stdout",
     "output_type": "stream",
     "text": [
      "Comparando la pregunta ¿Qué tipo de aplicaciones utilizas en tu ordenador/tableta/móvil? (Respuesta múltiple) [2. Aplicaciones de mensajería (Whatsapp, Facebook Messenger, etc.)]\n"
     ]
    },
    {
     "data": {
      "application/vnd.plotly.v1+json": {
       "config": {
        "linkText": "Export to plot.ly",
        "plotlyServerURL": "https://plot.ly",
        "showLink": false
       },
       "data": [
        {
         "hovertemplate": "¿Qué tipo de aplicaciones utilizas en tu ordenador/tableta/móvil? (Respuesta múltiple) [2. Aplicaciones de mensajería (Whatsapp, Facebook Messenger, etc.)]=No<br>counts=%{r}<br>prosume_cluster=%{theta}<extra></extra>",
         "legendgroup": "¿Qué tipo de aplicaciones utilizas en tu ordenador/tableta/móvil? (Respuesta múltiple) [2. Aplicaciones de mensajería (Whatsapp, Facebook Messenger, etc.)]=No",
         "marker": {
          "color": "rgb(213,62,79)"
         },
         "name": "¿Qué tipo de aplicaciones utilizas en tu ordenador/tableta/móvil? (Respuesta múltiple) [2. Aplicaciones de mensajería (Whatsapp, Facebook Messenger, etc.)]=No",
         "r": [
          20,
          64,
          26,
          3,
          48
         ],
         "showlegend": true,
         "theta": [
          "cluster_1",
          "cluster_2",
          "cluster_3",
          "cluster_4",
          "cluster_5"
         ],
         "type": "barpolar",
         "uid": "333e0644-7c6c-47ae-9617-8b4e72d00706"
        },
        {
         "hovertemplate": "¿Qué tipo de aplicaciones utilizas en tu ordenador/tableta/móvil? (Respuesta múltiple) [2. Aplicaciones de mensajería (Whatsapp, Facebook Messenger, etc.)]=Sí<br>counts=%{r}<br>prosume_cluster=%{theta}<extra></extra>",
         "legendgroup": "¿Qué tipo de aplicaciones utilizas en tu ordenador/tableta/móvil? (Respuesta múltiple) [2. Aplicaciones de mensajería (Whatsapp, Facebook Messenger, etc.)]=Sí",
         "marker": {
          "color": "rgb(252,141,89)"
         },
         "name": "¿Qué tipo de aplicaciones utilizas en tu ordenador/tableta/móvil? (Respuesta múltiple) [2. Aplicaciones de mensajería (Whatsapp, Facebook Messenger, etc.)]=Sí",
         "r": [
          17,
          132,
          74,
          95,
          288
         ],
         "showlegend": true,
         "theta": [
          "cluster_1",
          "cluster_2",
          "cluster_3",
          "cluster_4",
          "cluster_5"
         ],
         "type": "barpolar",
         "uid": "0c4a9dc6-ff44-4540-a77f-de85bb05bad6"
        }
       ],
       "layout": {
        "barmode": "group",
        "barnorm": "",
        "height": 600,
        "legend": {
         "tracegroupgap": 0
        },
        "margin": {
         "t": 60
        },
        "polar": {
         "angularaxis": {
          "direction": "clockwise",
          "rotation": 90
         }
        },
        "template": {
         "data": {
          "bar": [
           {
            "marker": {
             "line": {
              "color": "#E5ECF6",
              "width": 0.5
             }
            },
            "type": "bar"
           }
          ],
          "barpolar": [
           {
            "marker": {
             "line": {
              "color": "#E5ECF6",
              "width": 0.5
             }
            },
            "type": "barpolar"
           }
          ],
          "carpet": [
           {
            "aaxis": {
             "endlinecolor": "#2a3f5f",
             "gridcolor": "white",
             "linecolor": "white",
             "minorgridcolor": "white",
             "startlinecolor": "#2a3f5f"
            },
            "baxis": {
             "endlinecolor": "#2a3f5f",
             "gridcolor": "white",
             "linecolor": "white",
             "minorgridcolor": "white",
             "startlinecolor": "#2a3f5f"
            },
            "type": "carpet"
           }
          ],
          "choropleth": [
           {
            "colorbar": {
             "outlinewidth": 0,
             "ticks": ""
            },
            "type": "choropleth"
           }
          ],
          "contour": [
           {
            "autocolorscale": true,
            "colorbar": {
             "outlinewidth": 0,
             "ticks": ""
            },
            "type": "contour"
           }
          ],
          "contourcarpet": [
           {
            "colorbar": {
             "outlinewidth": 0,
             "ticks": ""
            },
            "type": "contourcarpet"
           }
          ],
          "heatmap": [
           {
            "autocolorscale": true,
            "colorbar": {
             "outlinewidth": 0,
             "ticks": ""
            },
            "type": "heatmap"
           }
          ],
          "heatmapgl": [
           {
            "colorbar": {
             "outlinewidth": 0,
             "ticks": ""
            },
            "type": "heatmapgl"
           }
          ],
          "histogram": [
           {
            "marker": {
             "colorbar": {
              "outlinewidth": 0,
              "ticks": ""
             }
            },
            "type": "histogram"
           }
          ],
          "histogram2d": [
           {
            "autocolorscale": true,
            "colorbar": {
             "outlinewidth": 0,
             "ticks": ""
            },
            "type": "histogram2d"
           }
          ],
          "histogram2dcontour": [
           {
            "autocolorscale": true,
            "colorbar": {
             "outlinewidth": 0,
             "ticks": ""
            },
            "type": "histogram2dcontour"
           }
          ],
          "mesh3d": [
           {
            "colorbar": {
             "outlinewidth": 0,
             "ticks": ""
            },
            "type": "mesh3d"
           }
          ],
          "parcoords": [
           {
            "line": {
             "colorbar": {
              "outlinewidth": 0,
              "ticks": ""
             }
            },
            "type": "parcoords"
           }
          ],
          "scatter": [
           {
            "marker": {
             "colorbar": {
              "outlinewidth": 0,
              "ticks": ""
             }
            },
            "type": "scatter"
           }
          ],
          "scatter3d": [
           {
            "marker": {
             "colorbar": {
              "outlinewidth": 0,
              "ticks": ""
             }
            },
            "type": "scatter3d"
           }
          ],
          "scattercarpet": [
           {
            "marker": {
             "colorbar": {
              "outlinewidth": 0,
              "ticks": ""
             }
            },
            "type": "scattercarpet"
           }
          ],
          "scattergeo": [
           {
            "marker": {
             "colorbar": {
              "outlinewidth": 0,
              "ticks": ""
             }
            },
            "type": "scattergeo"
           }
          ],
          "scattergl": [
           {
            "marker": {
             "colorbar": {
              "outlinewidth": 0,
              "ticks": ""
             }
            },
            "type": "scattergl"
           }
          ],
          "scattermapbox": [
           {
            "marker": {
             "colorbar": {
              "outlinewidth": 0,
              "ticks": ""
             }
            },
            "type": "scattermapbox"
           }
          ],
          "scatterpolar": [
           {
            "marker": {
             "colorbar": {
              "outlinewidth": 0,
              "ticks": ""
             }
            },
            "type": "scatterpolar"
           }
          ],
          "scatterpolargl": [
           {
            "marker": {
             "colorbar": {
              "outlinewidth": 0,
              "ticks": ""
             }
            },
            "type": "scatterpolargl"
           }
          ],
          "scatterternary": [
           {
            "marker": {
             "colorbar": {
              "outlinewidth": 0,
              "ticks": ""
             }
            },
            "type": "scatterternary"
           }
          ],
          "surface": [
           {
            "colorbar": {
             "outlinewidth": 0,
             "ticks": ""
            },
            "type": "surface"
           }
          ],
          "table": [
           {
            "cells": {
             "fill": {
              "color": "#EBF0F8"
             },
             "line": {
              "color": "white"
             }
            },
            "header": {
             "fill": {
              "color": "#C8D4E3"
             },
             "line": {
              "color": "white"
             }
            },
            "type": "table"
           }
          ]
         },
         "layout": {
          "annotationdefaults": {
           "arrowcolor": "#506784",
           "arrowhead": 0,
           "arrowwidth": 1
          },
          "colorscale": {
           "diverging": [
            [
             0,
             "#8e0152"
            ],
            [
             0.1,
             "#c51b7d"
            ],
            [
             0.2,
             "#de77ae"
            ],
            [
             0.3,
             "#f1b6da"
            ],
            [
             0.4,
             "#fde0ef"
            ],
            [
             0.5,
             "#f7f7f7"
            ],
            [
             0.6,
             "#e6f5d0"
            ],
            [
             0.7,
             "#b8e186"
            ],
            [
             0.8,
             "#7fbc41"
            ],
            [
             0.9,
             "#4d9221"
            ],
            [
             1,
             "#276419"
            ]
           ],
           "sequential": [
            [
             0,
             "#0508b8"
            ],
            [
             0.0893854748603352,
             "#1910d8"
            ],
            [
             0.1787709497206704,
             "#3c19f0"
            ],
            [
             0.2681564245810056,
             "#6b1cfb"
            ],
            [
             0.3575418994413408,
             "#981cfd"
            ],
            [
             0.44692737430167595,
             "#bf1cfd"
            ],
            [
             0.5363128491620112,
             "#dd2bfd"
            ],
            [
             0.6256983240223464,
             "#f246fe"
            ],
            [
             0.7150837988826816,
             "#fc67fd"
            ],
            [
             0.8044692737430168,
             "#fe88fc"
            ],
            [
             0.8938547486033519,
             "#fea5fd"
            ],
            [
             0.9832402234636871,
             "#febefe"
            ],
            [
             1,
             "#fec3fe"
            ]
           ],
           "sequentialminus": [
            [
             0,
             "#0508b8"
            ],
            [
             0.0893854748603352,
             "#1910d8"
            ],
            [
             0.1787709497206704,
             "#3c19f0"
            ],
            [
             0.2681564245810056,
             "#6b1cfb"
            ],
            [
             0.3575418994413408,
             "#981cfd"
            ],
            [
             0.44692737430167595,
             "#bf1cfd"
            ],
            [
             0.5363128491620112,
             "#dd2bfd"
            ],
            [
             0.6256983240223464,
             "#f246fe"
            ],
            [
             0.7150837988826816,
             "#fc67fd"
            ],
            [
             0.8044692737430168,
             "#fe88fc"
            ],
            [
             0.8938547486033519,
             "#fea5fd"
            ],
            [
             0.9832402234636871,
             "#febefe"
            ],
            [
             1,
             "#fec3fe"
            ]
           ]
          },
          "colorway": [
           "#636efa",
           "#EF553B",
           "#00cc96",
           "#ab63fa",
           "#19d3f3",
           "#e763fa",
           "#FECB52",
           "#FFA15A",
           "#FF6692",
           "#B6E880"
          ],
          "font": {
           "color": "#2a3f5f"
          },
          "geo": {
           "bgcolor": "white",
           "lakecolor": "white",
           "landcolor": "#E5ECF6",
           "showlakes": true,
           "showland": true,
           "subunitcolor": "white"
          },
          "hovermode": "closest",
          "mapbox": {
           "style": "light"
          },
          "paper_bgcolor": "white",
          "plot_bgcolor": "#E5ECF6",
          "polar": {
           "angularaxis": {
            "gridcolor": "white",
            "linecolor": "white",
            "ticks": ""
           },
           "bgcolor": "#E5ECF6",
           "radialaxis": {
            "gridcolor": "white",
            "linecolor": "white",
            "ticks": ""
           }
          },
          "scene": {
           "xaxis": {
            "backgroundcolor": "#E5ECF6",
            "gridcolor": "white",
            "gridwidth": 2,
            "linecolor": "white",
            "showbackground": true,
            "ticks": "",
            "zerolinecolor": "white"
           },
           "yaxis": {
            "backgroundcolor": "#E5ECF6",
            "gridcolor": "white",
            "gridwidth": 2,
            "linecolor": "white",
            "showbackground": true,
            "ticks": "",
            "zerolinecolor": "white"
           },
           "zaxis": {
            "backgroundcolor": "#E5ECF6",
            "gridcolor": "white",
            "gridwidth": 2,
            "linecolor": "white",
            "showbackground": true,
            "ticks": "",
            "zerolinecolor": "white"
           }
          },
          "shapedefaults": {
           "fillcolor": "#506784",
           "line": {
            "width": 0
           },
           "opacity": 0.4
          },
          "ternary": {
           "aaxis": {
            "gridcolor": "white",
            "linecolor": "white",
            "ticks": ""
           },
           "baxis": {
            "gridcolor": "white",
            "linecolor": "white",
            "ticks": ""
           },
           "bgcolor": "#E5ECF6",
           "caxis": {
            "gridcolor": "white",
            "linecolor": "white",
            "ticks": ""
           }
          },
          "title": {
           "x": 0.05
          },
          "xaxis": {
           "automargin": true,
           "gridcolor": "white",
           "linecolor": "white",
           "ticks": "",
           "zerolinecolor": "white",
           "zerolinewidth": 2
          },
          "yaxis": {
           "automargin": true,
           "gridcolor": "white",
           "linecolor": "white",
           "ticks": "",
           "zerolinecolor": "white",
           "zerolinewidth": 2
          }
         }
        }
       }
      },
      "text/html": [
       "<div id=\"a28cb066-f26e-4e6e-9ac1-416d5c95c963\" style=\"height: 600px; width: 100%;\" class=\"plotly-graph-div\"></div><script type=\"text/javascript\">require([\"plotly\"], function(Plotly) { window.PLOTLYENV=window.PLOTLYENV || {};window.PLOTLYENV.BASE_URL=\"https://plot.ly\";\n",
       "if (document.getElementById(\"a28cb066-f26e-4e6e-9ac1-416d5c95c963\")) {\n",
       "    Plotly.newPlot(\"a28cb066-f26e-4e6e-9ac1-416d5c95c963\", [{\"hovertemplate\": \"\\u00bfQu\\u00e9 tipo de aplicaciones utilizas en tu ordenador/tableta/m\\u00f3vil? (Respuesta m\\u00faltiple) [2. Aplicaciones de mensajer\\u00eda (Whatsapp, Facebook Messenger, etc.)]=No<br>counts=%{r}<br>prosume_cluster=%{theta}<extra></extra>\", \"legendgroup\": \"\\u00bfQu\\u00e9 tipo de aplicaciones utilizas en tu ordenador/tableta/m\\u00f3vil? (Respuesta m\\u00faltiple) [2. Aplicaciones de mensajer\\u00eda (Whatsapp, Facebook Messenger, etc.)]=No\", \"marker\": {\"color\": \"rgb(213,62,79)\"}, \"name\": \"\\u00bfQu\\u00e9 tipo de aplicaciones utilizas en tu ordenador/tableta/m\\u00f3vil? (Respuesta m\\u00faltiple) [2. Aplicaciones de mensajer\\u00eda (Whatsapp, Facebook Messenger, etc.)]=No\", \"r\": [20, 64, 26, 3, 48], \"showlegend\": true, \"theta\": [\"cluster_1\", \"cluster_2\", \"cluster_3\", \"cluster_4\", \"cluster_5\"], \"type\": \"barpolar\", \"uid\": \"333e0644-7c6c-47ae-9617-8b4e72d00706\"}, {\"hovertemplate\": \"\\u00bfQu\\u00e9 tipo de aplicaciones utilizas en tu ordenador/tableta/m\\u00f3vil? (Respuesta m\\u00faltiple) [2. Aplicaciones de mensajer\\u00eda (Whatsapp, Facebook Messenger, etc.)]=S\\u00ed<br>counts=%{r}<br>prosume_cluster=%{theta}<extra></extra>\", \"legendgroup\": \"\\u00bfQu\\u00e9 tipo de aplicaciones utilizas en tu ordenador/tableta/m\\u00f3vil? (Respuesta m\\u00faltiple) [2. Aplicaciones de mensajer\\u00eda (Whatsapp, Facebook Messenger, etc.)]=S\\u00ed\", \"marker\": {\"color\": \"rgb(252,141,89)\"}, \"name\": \"\\u00bfQu\\u00e9 tipo de aplicaciones utilizas en tu ordenador/tableta/m\\u00f3vil? (Respuesta m\\u00faltiple) [2. Aplicaciones de mensajer\\u00eda (Whatsapp, Facebook Messenger, etc.)]=S\\u00ed\", \"r\": [17, 132, 74, 95, 288], \"showlegend\": true, \"theta\": [\"cluster_1\", \"cluster_2\", \"cluster_3\", \"cluster_4\", \"cluster_5\"], \"type\": \"barpolar\", \"uid\": \"0c4a9dc6-ff44-4540-a77f-de85bb05bad6\"}], {\"barmode\": \"group\", \"barnorm\": \"\", \"height\": 600, \"legend\": {\"tracegroupgap\": 0}, \"margin\": {\"t\": 60}, \"template\": {\"data\": {\"barpolar\": [{\"marker\": {\"line\": {\"color\": \"#E5ECF6\", \"width\": 0.5}}, \"type\": \"barpolar\"}], \"bar\": [{\"marker\": {\"line\": {\"color\": \"#E5ECF6\", \"width\": 0.5}}, \"type\": \"bar\"}], \"carpet\": [{\"aaxis\": {\"endlinecolor\": \"#2a3f5f\", \"gridcolor\": \"white\", \"linecolor\": \"white\", \"minorgridcolor\": \"white\", \"startlinecolor\": \"#2a3f5f\"}, \"baxis\": {\"endlinecolor\": \"#2a3f5f\", \"gridcolor\": \"white\", \"linecolor\": \"white\", \"minorgridcolor\": \"white\", \"startlinecolor\": \"#2a3f5f\"}, \"type\": \"carpet\"}], \"choropleth\": [{\"colorbar\": {\"outlinewidth\": 0, \"ticks\": \"\"}, \"type\": \"choropleth\"}], \"contourcarpet\": [{\"colorbar\": {\"outlinewidth\": 0, \"ticks\": \"\"}, \"type\": \"contourcarpet\"}], \"contour\": [{\"autocolorscale\": true, \"colorbar\": {\"outlinewidth\": 0, \"ticks\": \"\"}, \"type\": \"contour\"}], \"heatmapgl\": [{\"colorbar\": {\"outlinewidth\": 0, \"ticks\": \"\"}, \"type\": \"heatmapgl\"}], \"heatmap\": [{\"autocolorscale\": true, \"colorbar\": {\"outlinewidth\": 0, \"ticks\": \"\"}, \"type\": \"heatmap\"}], \"histogram2dcontour\": [{\"autocolorscale\": true, \"colorbar\": {\"outlinewidth\": 0, \"ticks\": \"\"}, \"type\": \"histogram2dcontour\"}], \"histogram2d\": [{\"autocolorscale\": true, \"colorbar\": {\"outlinewidth\": 0, \"ticks\": \"\"}, \"type\": \"histogram2d\"}], \"histogram\": [{\"marker\": {\"colorbar\": {\"outlinewidth\": 0, \"ticks\": \"\"}}, \"type\": \"histogram\"}], \"mesh3d\": [{\"colorbar\": {\"outlinewidth\": 0, \"ticks\": \"\"}, \"type\": \"mesh3d\"}], \"parcoords\": [{\"line\": {\"colorbar\": {\"outlinewidth\": 0, \"ticks\": \"\"}}, \"type\": \"parcoords\"}], \"scatter3d\": [{\"marker\": {\"colorbar\": {\"outlinewidth\": 0, \"ticks\": \"\"}}, \"type\": \"scatter3d\"}], \"scattercarpet\": [{\"marker\": {\"colorbar\": {\"outlinewidth\": 0, \"ticks\": \"\"}}, \"type\": \"scattercarpet\"}], \"scattergeo\": [{\"marker\": {\"colorbar\": {\"outlinewidth\": 0, \"ticks\": \"\"}}, \"type\": \"scattergeo\"}], \"scattergl\": [{\"marker\": {\"colorbar\": {\"outlinewidth\": 0, \"ticks\": \"\"}}, \"type\": \"scattergl\"}], \"scattermapbox\": [{\"marker\": {\"colorbar\": {\"outlinewidth\": 0, \"ticks\": \"\"}}, \"type\": \"scattermapbox\"}], \"scatterpolargl\": [{\"marker\": {\"colorbar\": {\"outlinewidth\": 0, \"ticks\": \"\"}}, \"type\": \"scatterpolargl\"}], \"scatterpolar\": [{\"marker\": {\"colorbar\": {\"outlinewidth\": 0, \"ticks\": \"\"}}, \"type\": \"scatterpolar\"}], \"scatter\": [{\"marker\": {\"colorbar\": {\"outlinewidth\": 0, \"ticks\": \"\"}}, \"type\": \"scatter\"}], \"scatterternary\": [{\"marker\": {\"colorbar\": {\"outlinewidth\": 0, \"ticks\": \"\"}}, \"type\": \"scatterternary\"}], \"surface\": [{\"colorbar\": {\"outlinewidth\": 0, \"ticks\": \"\"}, \"type\": \"surface\"}], \"table\": [{\"cells\": {\"fill\": {\"color\": \"#EBF0F8\"}, \"line\": {\"color\": \"white\"}}, \"header\": {\"fill\": {\"color\": \"#C8D4E3\"}, \"line\": {\"color\": \"white\"}}, \"type\": \"table\"}]}, \"layout\": {\"annotationdefaults\": {\"arrowcolor\": \"#506784\", \"arrowhead\": 0, \"arrowwidth\": 1}, \"colorscale\": {\"diverging\": [[0, \"#8e0152\"], [0.1, \"#c51b7d\"], [0.2, \"#de77ae\"], [0.3, \"#f1b6da\"], [0.4, \"#fde0ef\"], [0.5, \"#f7f7f7\"], [0.6, \"#e6f5d0\"], [0.7, \"#b8e186\"], [0.8, \"#7fbc41\"], [0.9, \"#4d9221\"], [1, \"#276419\"]], \"sequential\": [[0.0, \"#0508b8\"], [0.0893854748603352, \"#1910d8\"], [0.1787709497206704, \"#3c19f0\"], [0.2681564245810056, \"#6b1cfb\"], [0.3575418994413408, \"#981cfd\"], [0.44692737430167595, \"#bf1cfd\"], [0.5363128491620112, \"#dd2bfd\"], [0.6256983240223464, \"#f246fe\"], [0.7150837988826816, \"#fc67fd\"], [0.8044692737430168, \"#fe88fc\"], [0.8938547486033519, \"#fea5fd\"], [0.9832402234636871, \"#febefe\"], [1.0, \"#fec3fe\"]], \"sequentialminus\": [[0.0, \"#0508b8\"], [0.0893854748603352, \"#1910d8\"], [0.1787709497206704, \"#3c19f0\"], [0.2681564245810056, \"#6b1cfb\"], [0.3575418994413408, \"#981cfd\"], [0.44692737430167595, \"#bf1cfd\"], [0.5363128491620112, \"#dd2bfd\"], [0.6256983240223464, \"#f246fe\"], [0.7150837988826816, \"#fc67fd\"], [0.8044692737430168, \"#fe88fc\"], [0.8938547486033519, \"#fea5fd\"], [0.9832402234636871, \"#febefe\"], [1.0, \"#fec3fe\"]]}, \"colorway\": [\"#636efa\", \"#EF553B\", \"#00cc96\", \"#ab63fa\", \"#19d3f3\", \"#e763fa\", \"#FECB52\", \"#FFA15A\", \"#FF6692\", \"#B6E880\"], \"font\": {\"color\": \"#2a3f5f\"}, \"geo\": {\"bgcolor\": \"white\", \"lakecolor\": \"white\", \"landcolor\": \"#E5ECF6\", \"showlakes\": true, \"showland\": true, \"subunitcolor\": \"white\"}, \"hovermode\": \"closest\", \"mapbox\": {\"style\": \"light\"}, \"paper_bgcolor\": \"white\", \"plot_bgcolor\": \"#E5ECF6\", \"polar\": {\"angularaxis\": {\"gridcolor\": \"white\", \"linecolor\": \"white\", \"ticks\": \"\"}, \"bgcolor\": \"#E5ECF6\", \"radialaxis\": {\"gridcolor\": \"white\", \"linecolor\": \"white\", \"ticks\": \"\"}}, \"scene\": {\"xaxis\": {\"backgroundcolor\": \"#E5ECF6\", \"gridcolor\": \"white\", \"gridwidth\": 2, \"linecolor\": \"white\", \"showbackground\": true, \"ticks\": \"\", \"zerolinecolor\": \"white\"}, \"yaxis\": {\"backgroundcolor\": \"#E5ECF6\", \"gridcolor\": \"white\", \"gridwidth\": 2, \"linecolor\": \"white\", \"showbackground\": true, \"ticks\": \"\", \"zerolinecolor\": \"white\"}, \"zaxis\": {\"backgroundcolor\": \"#E5ECF6\", \"gridcolor\": \"white\", \"gridwidth\": 2, \"linecolor\": \"white\", \"showbackground\": true, \"ticks\": \"\", \"zerolinecolor\": \"white\"}}, \"shapedefaults\": {\"fillcolor\": \"#506784\", \"line\": {\"width\": 0}, \"opacity\": 0.4}, \"ternary\": {\"aaxis\": {\"gridcolor\": \"white\", \"linecolor\": \"white\", \"ticks\": \"\"}, \"baxis\": {\"gridcolor\": \"white\", \"linecolor\": \"white\", \"ticks\": \"\"}, \"bgcolor\": \"#E5ECF6\", \"caxis\": {\"gridcolor\": \"white\", \"linecolor\": \"white\", \"ticks\": \"\"}}, \"title\": {\"x\": 0.05}, \"xaxis\": {\"automargin\": true, \"gridcolor\": \"white\", \"linecolor\": \"white\", \"ticks\": \"\", \"zerolinecolor\": \"white\", \"zerolinewidth\": 2}, \"yaxis\": {\"automargin\": true, \"gridcolor\": \"white\", \"linecolor\": \"white\", \"ticks\": \"\", \"zerolinecolor\": \"white\", \"zerolinewidth\": 2}}}, \"polar\": {\"angularaxis\": {\"direction\": \"clockwise\", \"rotation\": 90}}}, {\"showLink\": false, \"linkText\": \"Export to plot.ly\", \"plotlyServerURL\": \"https://plot.ly\"}); \n",
       "}\n",
       "});</script><script type=\"text/javascript\">window.addEventListener(\"resize\", function(){if (document.getElementById(\"a28cb066-f26e-4e6e-9ac1-416d5c95c963\")) {window._Plotly.Plots.resize(document.getElementById(\"a28cb066-f26e-4e6e-9ac1-416d5c95c963\"));};})</script>"
      ],
      "text/vnd.plotly.v1+html": [
       "<div id=\"a28cb066-f26e-4e6e-9ac1-416d5c95c963\" style=\"height: 600px; width: 100%;\" class=\"plotly-graph-div\"></div><script type=\"text/javascript\">require([\"plotly\"], function(Plotly) { window.PLOTLYENV=window.PLOTLYENV || {};window.PLOTLYENV.BASE_URL=\"https://plot.ly\";\n",
       "if (document.getElementById(\"a28cb066-f26e-4e6e-9ac1-416d5c95c963\")) {\n",
       "    Plotly.newPlot(\"a28cb066-f26e-4e6e-9ac1-416d5c95c963\", [{\"hovertemplate\": \"\\u00bfQu\\u00e9 tipo de aplicaciones utilizas en tu ordenador/tableta/m\\u00f3vil? (Respuesta m\\u00faltiple) [2. Aplicaciones de mensajer\\u00eda (Whatsapp, Facebook Messenger, etc.)]=No<br>counts=%{r}<br>prosume_cluster=%{theta}<extra></extra>\", \"legendgroup\": \"\\u00bfQu\\u00e9 tipo de aplicaciones utilizas en tu ordenador/tableta/m\\u00f3vil? (Respuesta m\\u00faltiple) [2. Aplicaciones de mensajer\\u00eda (Whatsapp, Facebook Messenger, etc.)]=No\", \"marker\": {\"color\": \"rgb(213,62,79)\"}, \"name\": \"\\u00bfQu\\u00e9 tipo de aplicaciones utilizas en tu ordenador/tableta/m\\u00f3vil? (Respuesta m\\u00faltiple) [2. Aplicaciones de mensajer\\u00eda (Whatsapp, Facebook Messenger, etc.)]=No\", \"r\": [20, 64, 26, 3, 48], \"showlegend\": true, \"theta\": [\"cluster_1\", \"cluster_2\", \"cluster_3\", \"cluster_4\", \"cluster_5\"], \"type\": \"barpolar\", \"uid\": \"333e0644-7c6c-47ae-9617-8b4e72d00706\"}, {\"hovertemplate\": \"\\u00bfQu\\u00e9 tipo de aplicaciones utilizas en tu ordenador/tableta/m\\u00f3vil? (Respuesta m\\u00faltiple) [2. Aplicaciones de mensajer\\u00eda (Whatsapp, Facebook Messenger, etc.)]=S\\u00ed<br>counts=%{r}<br>prosume_cluster=%{theta}<extra></extra>\", \"legendgroup\": \"\\u00bfQu\\u00e9 tipo de aplicaciones utilizas en tu ordenador/tableta/m\\u00f3vil? (Respuesta m\\u00faltiple) [2. Aplicaciones de mensajer\\u00eda (Whatsapp, Facebook Messenger, etc.)]=S\\u00ed\", \"marker\": {\"color\": \"rgb(252,141,89)\"}, \"name\": \"\\u00bfQu\\u00e9 tipo de aplicaciones utilizas en tu ordenador/tableta/m\\u00f3vil? (Respuesta m\\u00faltiple) [2. Aplicaciones de mensajer\\u00eda (Whatsapp, Facebook Messenger, etc.)]=S\\u00ed\", \"r\": [17, 132, 74, 95, 288], \"showlegend\": true, \"theta\": [\"cluster_1\", \"cluster_2\", \"cluster_3\", \"cluster_4\", \"cluster_5\"], \"type\": \"barpolar\", \"uid\": \"0c4a9dc6-ff44-4540-a77f-de85bb05bad6\"}], {\"barmode\": \"group\", \"barnorm\": \"\", \"height\": 600, \"legend\": {\"tracegroupgap\": 0}, \"margin\": {\"t\": 60}, \"template\": {\"data\": {\"barpolar\": [{\"marker\": {\"line\": {\"color\": \"#E5ECF6\", \"width\": 0.5}}, \"type\": \"barpolar\"}], \"bar\": [{\"marker\": {\"line\": {\"color\": \"#E5ECF6\", \"width\": 0.5}}, \"type\": \"bar\"}], \"carpet\": [{\"aaxis\": {\"endlinecolor\": \"#2a3f5f\", \"gridcolor\": \"white\", \"linecolor\": \"white\", \"minorgridcolor\": \"white\", \"startlinecolor\": \"#2a3f5f\"}, \"baxis\": {\"endlinecolor\": \"#2a3f5f\", \"gridcolor\": \"white\", \"linecolor\": \"white\", \"minorgridcolor\": \"white\", \"startlinecolor\": \"#2a3f5f\"}, \"type\": \"carpet\"}], \"choropleth\": [{\"colorbar\": {\"outlinewidth\": 0, \"ticks\": \"\"}, \"type\": \"choropleth\"}], \"contourcarpet\": [{\"colorbar\": {\"outlinewidth\": 0, \"ticks\": \"\"}, \"type\": \"contourcarpet\"}], \"contour\": [{\"autocolorscale\": true, \"colorbar\": {\"outlinewidth\": 0, \"ticks\": \"\"}, \"type\": \"contour\"}], \"heatmapgl\": [{\"colorbar\": {\"outlinewidth\": 0, \"ticks\": \"\"}, \"type\": \"heatmapgl\"}], \"heatmap\": [{\"autocolorscale\": true, \"colorbar\": {\"outlinewidth\": 0, \"ticks\": \"\"}, \"type\": \"heatmap\"}], \"histogram2dcontour\": [{\"autocolorscale\": true, \"colorbar\": {\"outlinewidth\": 0, \"ticks\": \"\"}, \"type\": \"histogram2dcontour\"}], \"histogram2d\": [{\"autocolorscale\": true, \"colorbar\": {\"outlinewidth\": 0, \"ticks\": \"\"}, \"type\": \"histogram2d\"}], \"histogram\": [{\"marker\": {\"colorbar\": {\"outlinewidth\": 0, \"ticks\": \"\"}}, \"type\": \"histogram\"}], \"mesh3d\": [{\"colorbar\": {\"outlinewidth\": 0, \"ticks\": \"\"}, \"type\": \"mesh3d\"}], \"parcoords\": [{\"line\": {\"colorbar\": {\"outlinewidth\": 0, \"ticks\": \"\"}}, \"type\": \"parcoords\"}], \"scatter3d\": [{\"marker\": {\"colorbar\": {\"outlinewidth\": 0, \"ticks\": \"\"}}, \"type\": \"scatter3d\"}], \"scattercarpet\": [{\"marker\": {\"colorbar\": {\"outlinewidth\": 0, \"ticks\": \"\"}}, \"type\": \"scattercarpet\"}], \"scattergeo\": [{\"marker\": {\"colorbar\": {\"outlinewidth\": 0, \"ticks\": \"\"}}, \"type\": \"scattergeo\"}], \"scattergl\": [{\"marker\": {\"colorbar\": {\"outlinewidth\": 0, \"ticks\": \"\"}}, \"type\": \"scattergl\"}], \"scattermapbox\": [{\"marker\": {\"colorbar\": {\"outlinewidth\": 0, \"ticks\": \"\"}}, \"type\": \"scattermapbox\"}], \"scatterpolargl\": [{\"marker\": {\"colorbar\": {\"outlinewidth\": 0, \"ticks\": \"\"}}, \"type\": \"scatterpolargl\"}], \"scatterpolar\": [{\"marker\": {\"colorbar\": {\"outlinewidth\": 0, \"ticks\": \"\"}}, \"type\": \"scatterpolar\"}], \"scatter\": [{\"marker\": {\"colorbar\": {\"outlinewidth\": 0, \"ticks\": \"\"}}, \"type\": \"scatter\"}], \"scatterternary\": [{\"marker\": {\"colorbar\": {\"outlinewidth\": 0, \"ticks\": \"\"}}, \"type\": \"scatterternary\"}], \"surface\": [{\"colorbar\": {\"outlinewidth\": 0, \"ticks\": \"\"}, \"type\": \"surface\"}], \"table\": [{\"cells\": {\"fill\": {\"color\": \"#EBF0F8\"}, \"line\": {\"color\": \"white\"}}, \"header\": {\"fill\": {\"color\": \"#C8D4E3\"}, \"line\": {\"color\": \"white\"}}, \"type\": \"table\"}]}, \"layout\": {\"annotationdefaults\": {\"arrowcolor\": \"#506784\", \"arrowhead\": 0, \"arrowwidth\": 1}, \"colorscale\": {\"diverging\": [[0, \"#8e0152\"], [0.1, \"#c51b7d\"], [0.2, \"#de77ae\"], [0.3, \"#f1b6da\"], [0.4, \"#fde0ef\"], [0.5, \"#f7f7f7\"], [0.6, \"#e6f5d0\"], [0.7, \"#b8e186\"], [0.8, \"#7fbc41\"], [0.9, \"#4d9221\"], [1, \"#276419\"]], \"sequential\": [[0.0, \"#0508b8\"], [0.0893854748603352, \"#1910d8\"], [0.1787709497206704, \"#3c19f0\"], [0.2681564245810056, \"#6b1cfb\"], [0.3575418994413408, \"#981cfd\"], [0.44692737430167595, \"#bf1cfd\"], [0.5363128491620112, \"#dd2bfd\"], [0.6256983240223464, \"#f246fe\"], [0.7150837988826816, \"#fc67fd\"], [0.8044692737430168, \"#fe88fc\"], [0.8938547486033519, \"#fea5fd\"], [0.9832402234636871, \"#febefe\"], [1.0, \"#fec3fe\"]], \"sequentialminus\": [[0.0, \"#0508b8\"], [0.0893854748603352, \"#1910d8\"], [0.1787709497206704, \"#3c19f0\"], [0.2681564245810056, \"#6b1cfb\"], [0.3575418994413408, \"#981cfd\"], [0.44692737430167595, \"#bf1cfd\"], [0.5363128491620112, \"#dd2bfd\"], [0.6256983240223464, \"#f246fe\"], [0.7150837988826816, \"#fc67fd\"], [0.8044692737430168, \"#fe88fc\"], [0.8938547486033519, \"#fea5fd\"], [0.9832402234636871, \"#febefe\"], [1.0, \"#fec3fe\"]]}, \"colorway\": [\"#636efa\", \"#EF553B\", \"#00cc96\", \"#ab63fa\", \"#19d3f3\", \"#e763fa\", \"#FECB52\", \"#FFA15A\", \"#FF6692\", \"#B6E880\"], \"font\": {\"color\": \"#2a3f5f\"}, \"geo\": {\"bgcolor\": \"white\", \"lakecolor\": \"white\", \"landcolor\": \"#E5ECF6\", \"showlakes\": true, \"showland\": true, \"subunitcolor\": \"white\"}, \"hovermode\": \"closest\", \"mapbox\": {\"style\": \"light\"}, \"paper_bgcolor\": \"white\", \"plot_bgcolor\": \"#E5ECF6\", \"polar\": {\"angularaxis\": {\"gridcolor\": \"white\", \"linecolor\": \"white\", \"ticks\": \"\"}, \"bgcolor\": \"#E5ECF6\", \"radialaxis\": {\"gridcolor\": \"white\", \"linecolor\": \"white\", \"ticks\": \"\"}}, \"scene\": {\"xaxis\": {\"backgroundcolor\": \"#E5ECF6\", \"gridcolor\": \"white\", \"gridwidth\": 2, \"linecolor\": \"white\", \"showbackground\": true, \"ticks\": \"\", \"zerolinecolor\": \"white\"}, \"yaxis\": {\"backgroundcolor\": \"#E5ECF6\", \"gridcolor\": \"white\", \"gridwidth\": 2, \"linecolor\": \"white\", \"showbackground\": true, \"ticks\": \"\", \"zerolinecolor\": \"white\"}, \"zaxis\": {\"backgroundcolor\": \"#E5ECF6\", \"gridcolor\": \"white\", \"gridwidth\": 2, \"linecolor\": \"white\", \"showbackground\": true, \"ticks\": \"\", \"zerolinecolor\": \"white\"}}, \"shapedefaults\": {\"fillcolor\": \"#506784\", \"line\": {\"width\": 0}, \"opacity\": 0.4}, \"ternary\": {\"aaxis\": {\"gridcolor\": \"white\", \"linecolor\": \"white\", \"ticks\": \"\"}, \"baxis\": {\"gridcolor\": \"white\", \"linecolor\": \"white\", \"ticks\": \"\"}, \"bgcolor\": \"#E5ECF6\", \"caxis\": {\"gridcolor\": \"white\", \"linecolor\": \"white\", \"ticks\": \"\"}}, \"title\": {\"x\": 0.05}, \"xaxis\": {\"automargin\": true, \"gridcolor\": \"white\", \"linecolor\": \"white\", \"ticks\": \"\", \"zerolinecolor\": \"white\", \"zerolinewidth\": 2}, \"yaxis\": {\"automargin\": true, \"gridcolor\": \"white\", \"linecolor\": \"white\", \"ticks\": \"\", \"zerolinecolor\": \"white\", \"zerolinewidth\": 2}}}, \"polar\": {\"angularaxis\": {\"direction\": \"clockwise\", \"rotation\": 90}}}, {\"showLink\": false, \"linkText\": \"Export to plot.ly\", \"plotlyServerURL\": \"https://plot.ly\"}); \n",
       "}\n",
       "});</script><script type=\"text/javascript\">window.addEventListener(\"resize\", function(){if (document.getElementById(\"a28cb066-f26e-4e6e-9ac1-416d5c95c963\")) {window._Plotly.Plots.resize(document.getElementById(\"a28cb066-f26e-4e6e-9ac1-416d5c95c963\"));};})</script>"
      ]
     },
     "metadata": {},
     "output_type": "display_data"
    },
    {
     "name": "stdout",
     "output_type": "stream",
     "text": [
      "Comparando la pregunta ¿Qué tipo de aplicaciones utilizas en tu ordenador/tableta/móvil? (Respuesta múltiple) [3. Bibliotecas de fotos online (Google Photos, iPhoto, etc.)]\n"
     ]
    },
    {
     "data": {
      "application/vnd.plotly.v1+json": {
       "config": {
        "linkText": "Export to plot.ly",
        "plotlyServerURL": "https://plot.ly",
        "showLink": false
       },
       "data": [
        {
         "hovertemplate": "¿Qué tipo de aplicaciones utilizas en tu ordenador/tableta/móvil? (Respuesta múltiple) [3. Bibliotecas de fotos online (Google Photos, iPhoto, etc.)]=No<br>counts=%{r}<br>prosume_cluster=%{theta}<extra></extra>",
         "legendgroup": "¿Qué tipo de aplicaciones utilizas en tu ordenador/tableta/móvil? (Respuesta múltiple) [3. Bibliotecas de fotos online (Google Photos, iPhoto, etc.)]=No",
         "marker": {
          "color": "rgb(213,62,79)"
         },
         "name": "¿Qué tipo de aplicaciones utilizas en tu ordenador/tableta/móvil? (Respuesta múltiple) [3. Bibliotecas de fotos online (Google Photos, iPhoto, etc.)]=No",
         "r": [
          17,
          146,
          31,
          49,
          143
         ],
         "showlegend": true,
         "theta": [
          "cluster_1",
          "cluster_2",
          "cluster_3",
          "cluster_4",
          "cluster_5"
         ],
         "type": "barpolar",
         "uid": "97d97265-13eb-493b-a761-69e3a432abcf"
        },
        {
         "hovertemplate": "¿Qué tipo de aplicaciones utilizas en tu ordenador/tableta/móvil? (Respuesta múltiple) [3. Bibliotecas de fotos online (Google Photos, iPhoto, etc.)]=Sí<br>counts=%{r}<br>prosume_cluster=%{theta}<extra></extra>",
         "legendgroup": "¿Qué tipo de aplicaciones utilizas en tu ordenador/tableta/móvil? (Respuesta múltiple) [3. Bibliotecas de fotos online (Google Photos, iPhoto, etc.)]=Sí",
         "marker": {
          "color": "rgb(252,141,89)"
         },
         "name": "¿Qué tipo de aplicaciones utilizas en tu ordenador/tableta/móvil? (Respuesta múltiple) [3. Bibliotecas de fotos online (Google Photos, iPhoto, etc.)]=Sí",
         "r": [
          20,
          50,
          69,
          49,
          193
         ],
         "showlegend": true,
         "theta": [
          "cluster_1",
          "cluster_2",
          "cluster_3",
          "cluster_4",
          "cluster_5"
         ],
         "type": "barpolar",
         "uid": "5d2ee7a1-676f-4aec-b17a-4aa54ce62472"
        }
       ],
       "layout": {
        "barmode": "group",
        "barnorm": "",
        "height": 600,
        "legend": {
         "tracegroupgap": 0
        },
        "margin": {
         "t": 60
        },
        "polar": {
         "angularaxis": {
          "direction": "clockwise",
          "rotation": 90
         }
        },
        "template": {
         "data": {
          "bar": [
           {
            "marker": {
             "line": {
              "color": "#E5ECF6",
              "width": 0.5
             }
            },
            "type": "bar"
           }
          ],
          "barpolar": [
           {
            "marker": {
             "line": {
              "color": "#E5ECF6",
              "width": 0.5
             }
            },
            "type": "barpolar"
           }
          ],
          "carpet": [
           {
            "aaxis": {
             "endlinecolor": "#2a3f5f",
             "gridcolor": "white",
             "linecolor": "white",
             "minorgridcolor": "white",
             "startlinecolor": "#2a3f5f"
            },
            "baxis": {
             "endlinecolor": "#2a3f5f",
             "gridcolor": "white",
             "linecolor": "white",
             "minorgridcolor": "white",
             "startlinecolor": "#2a3f5f"
            },
            "type": "carpet"
           }
          ],
          "choropleth": [
           {
            "colorbar": {
             "outlinewidth": 0,
             "ticks": ""
            },
            "type": "choropleth"
           }
          ],
          "contour": [
           {
            "autocolorscale": true,
            "colorbar": {
             "outlinewidth": 0,
             "ticks": ""
            },
            "type": "contour"
           }
          ],
          "contourcarpet": [
           {
            "colorbar": {
             "outlinewidth": 0,
             "ticks": ""
            },
            "type": "contourcarpet"
           }
          ],
          "heatmap": [
           {
            "autocolorscale": true,
            "colorbar": {
             "outlinewidth": 0,
             "ticks": ""
            },
            "type": "heatmap"
           }
          ],
          "heatmapgl": [
           {
            "colorbar": {
             "outlinewidth": 0,
             "ticks": ""
            },
            "type": "heatmapgl"
           }
          ],
          "histogram": [
           {
            "marker": {
             "colorbar": {
              "outlinewidth": 0,
              "ticks": ""
             }
            },
            "type": "histogram"
           }
          ],
          "histogram2d": [
           {
            "autocolorscale": true,
            "colorbar": {
             "outlinewidth": 0,
             "ticks": ""
            },
            "type": "histogram2d"
           }
          ],
          "histogram2dcontour": [
           {
            "autocolorscale": true,
            "colorbar": {
             "outlinewidth": 0,
             "ticks": ""
            },
            "type": "histogram2dcontour"
           }
          ],
          "mesh3d": [
           {
            "colorbar": {
             "outlinewidth": 0,
             "ticks": ""
            },
            "type": "mesh3d"
           }
          ],
          "parcoords": [
           {
            "line": {
             "colorbar": {
              "outlinewidth": 0,
              "ticks": ""
             }
            },
            "type": "parcoords"
           }
          ],
          "scatter": [
           {
            "marker": {
             "colorbar": {
              "outlinewidth": 0,
              "ticks": ""
             }
            },
            "type": "scatter"
           }
          ],
          "scatter3d": [
           {
            "marker": {
             "colorbar": {
              "outlinewidth": 0,
              "ticks": ""
             }
            },
            "type": "scatter3d"
           }
          ],
          "scattercarpet": [
           {
            "marker": {
             "colorbar": {
              "outlinewidth": 0,
              "ticks": ""
             }
            },
            "type": "scattercarpet"
           }
          ],
          "scattergeo": [
           {
            "marker": {
             "colorbar": {
              "outlinewidth": 0,
              "ticks": ""
             }
            },
            "type": "scattergeo"
           }
          ],
          "scattergl": [
           {
            "marker": {
             "colorbar": {
              "outlinewidth": 0,
              "ticks": ""
             }
            },
            "type": "scattergl"
           }
          ],
          "scattermapbox": [
           {
            "marker": {
             "colorbar": {
              "outlinewidth": 0,
              "ticks": ""
             }
            },
            "type": "scattermapbox"
           }
          ],
          "scatterpolar": [
           {
            "marker": {
             "colorbar": {
              "outlinewidth": 0,
              "ticks": ""
             }
            },
            "type": "scatterpolar"
           }
          ],
          "scatterpolargl": [
           {
            "marker": {
             "colorbar": {
              "outlinewidth": 0,
              "ticks": ""
             }
            },
            "type": "scatterpolargl"
           }
          ],
          "scatterternary": [
           {
            "marker": {
             "colorbar": {
              "outlinewidth": 0,
              "ticks": ""
             }
            },
            "type": "scatterternary"
           }
          ],
          "surface": [
           {
            "colorbar": {
             "outlinewidth": 0,
             "ticks": ""
            },
            "type": "surface"
           }
          ],
          "table": [
           {
            "cells": {
             "fill": {
              "color": "#EBF0F8"
             },
             "line": {
              "color": "white"
             }
            },
            "header": {
             "fill": {
              "color": "#C8D4E3"
             },
             "line": {
              "color": "white"
             }
            },
            "type": "table"
           }
          ]
         },
         "layout": {
          "annotationdefaults": {
           "arrowcolor": "#506784",
           "arrowhead": 0,
           "arrowwidth": 1
          },
          "colorscale": {
           "diverging": [
            [
             0,
             "#8e0152"
            ],
            [
             0.1,
             "#c51b7d"
            ],
            [
             0.2,
             "#de77ae"
            ],
            [
             0.3,
             "#f1b6da"
            ],
            [
             0.4,
             "#fde0ef"
            ],
            [
             0.5,
             "#f7f7f7"
            ],
            [
             0.6,
             "#e6f5d0"
            ],
            [
             0.7,
             "#b8e186"
            ],
            [
             0.8,
             "#7fbc41"
            ],
            [
             0.9,
             "#4d9221"
            ],
            [
             1,
             "#276419"
            ]
           ],
           "sequential": [
            [
             0,
             "#0508b8"
            ],
            [
             0.0893854748603352,
             "#1910d8"
            ],
            [
             0.1787709497206704,
             "#3c19f0"
            ],
            [
             0.2681564245810056,
             "#6b1cfb"
            ],
            [
             0.3575418994413408,
             "#981cfd"
            ],
            [
             0.44692737430167595,
             "#bf1cfd"
            ],
            [
             0.5363128491620112,
             "#dd2bfd"
            ],
            [
             0.6256983240223464,
             "#f246fe"
            ],
            [
             0.7150837988826816,
             "#fc67fd"
            ],
            [
             0.8044692737430168,
             "#fe88fc"
            ],
            [
             0.8938547486033519,
             "#fea5fd"
            ],
            [
             0.9832402234636871,
             "#febefe"
            ],
            [
             1,
             "#fec3fe"
            ]
           ],
           "sequentialminus": [
            [
             0,
             "#0508b8"
            ],
            [
             0.0893854748603352,
             "#1910d8"
            ],
            [
             0.1787709497206704,
             "#3c19f0"
            ],
            [
             0.2681564245810056,
             "#6b1cfb"
            ],
            [
             0.3575418994413408,
             "#981cfd"
            ],
            [
             0.44692737430167595,
             "#bf1cfd"
            ],
            [
             0.5363128491620112,
             "#dd2bfd"
            ],
            [
             0.6256983240223464,
             "#f246fe"
            ],
            [
             0.7150837988826816,
             "#fc67fd"
            ],
            [
             0.8044692737430168,
             "#fe88fc"
            ],
            [
             0.8938547486033519,
             "#fea5fd"
            ],
            [
             0.9832402234636871,
             "#febefe"
            ],
            [
             1,
             "#fec3fe"
            ]
           ]
          },
          "colorway": [
           "#636efa",
           "#EF553B",
           "#00cc96",
           "#ab63fa",
           "#19d3f3",
           "#e763fa",
           "#FECB52",
           "#FFA15A",
           "#FF6692",
           "#B6E880"
          ],
          "font": {
           "color": "#2a3f5f"
          },
          "geo": {
           "bgcolor": "white",
           "lakecolor": "white",
           "landcolor": "#E5ECF6",
           "showlakes": true,
           "showland": true,
           "subunitcolor": "white"
          },
          "hovermode": "closest",
          "mapbox": {
           "style": "light"
          },
          "paper_bgcolor": "white",
          "plot_bgcolor": "#E5ECF6",
          "polar": {
           "angularaxis": {
            "gridcolor": "white",
            "linecolor": "white",
            "ticks": ""
           },
           "bgcolor": "#E5ECF6",
           "radialaxis": {
            "gridcolor": "white",
            "linecolor": "white",
            "ticks": ""
           }
          },
          "scene": {
           "xaxis": {
            "backgroundcolor": "#E5ECF6",
            "gridcolor": "white",
            "gridwidth": 2,
            "linecolor": "white",
            "showbackground": true,
            "ticks": "",
            "zerolinecolor": "white"
           },
           "yaxis": {
            "backgroundcolor": "#E5ECF6",
            "gridcolor": "white",
            "gridwidth": 2,
            "linecolor": "white",
            "showbackground": true,
            "ticks": "",
            "zerolinecolor": "white"
           },
           "zaxis": {
            "backgroundcolor": "#E5ECF6",
            "gridcolor": "white",
            "gridwidth": 2,
            "linecolor": "white",
            "showbackground": true,
            "ticks": "",
            "zerolinecolor": "white"
           }
          },
          "shapedefaults": {
           "fillcolor": "#506784",
           "line": {
            "width": 0
           },
           "opacity": 0.4
          },
          "ternary": {
           "aaxis": {
            "gridcolor": "white",
            "linecolor": "white",
            "ticks": ""
           },
           "baxis": {
            "gridcolor": "white",
            "linecolor": "white",
            "ticks": ""
           },
           "bgcolor": "#E5ECF6",
           "caxis": {
            "gridcolor": "white",
            "linecolor": "white",
            "ticks": ""
           }
          },
          "title": {
           "x": 0.05
          },
          "xaxis": {
           "automargin": true,
           "gridcolor": "white",
           "linecolor": "white",
           "ticks": "",
           "zerolinecolor": "white",
           "zerolinewidth": 2
          },
          "yaxis": {
           "automargin": true,
           "gridcolor": "white",
           "linecolor": "white",
           "ticks": "",
           "zerolinecolor": "white",
           "zerolinewidth": 2
          }
         }
        }
       }
      },
      "text/html": [
       "<div id=\"d14a6129-a126-4554-8966-4d4299816701\" style=\"height: 600px; width: 100%;\" class=\"plotly-graph-div\"></div><script type=\"text/javascript\">require([\"plotly\"], function(Plotly) { window.PLOTLYENV=window.PLOTLYENV || {};window.PLOTLYENV.BASE_URL=\"https://plot.ly\";\n",
       "if (document.getElementById(\"d14a6129-a126-4554-8966-4d4299816701\")) {\n",
       "    Plotly.newPlot(\"d14a6129-a126-4554-8966-4d4299816701\", [{\"hovertemplate\": \"\\u00bfQu\\u00e9 tipo de aplicaciones utilizas en tu ordenador/tableta/m\\u00f3vil? (Respuesta m\\u00faltiple) [3. Bibliotecas de fotos online (Google Photos, iPhoto, etc.)]=No<br>counts=%{r}<br>prosume_cluster=%{theta}<extra></extra>\", \"legendgroup\": \"\\u00bfQu\\u00e9 tipo de aplicaciones utilizas en tu ordenador/tableta/m\\u00f3vil? (Respuesta m\\u00faltiple) [3. Bibliotecas de fotos online (Google Photos, iPhoto, etc.)]=No\", \"marker\": {\"color\": \"rgb(213,62,79)\"}, \"name\": \"\\u00bfQu\\u00e9 tipo de aplicaciones utilizas en tu ordenador/tableta/m\\u00f3vil? (Respuesta m\\u00faltiple) [3. Bibliotecas de fotos online (Google Photos, iPhoto, etc.)]=No\", \"r\": [17, 146, 31, 49, 143], \"showlegend\": true, \"theta\": [\"cluster_1\", \"cluster_2\", \"cluster_3\", \"cluster_4\", \"cluster_5\"], \"type\": \"barpolar\", \"uid\": \"97d97265-13eb-493b-a761-69e3a432abcf\"}, {\"hovertemplate\": \"\\u00bfQu\\u00e9 tipo de aplicaciones utilizas en tu ordenador/tableta/m\\u00f3vil? (Respuesta m\\u00faltiple) [3. Bibliotecas de fotos online (Google Photos, iPhoto, etc.)]=S\\u00ed<br>counts=%{r}<br>prosume_cluster=%{theta}<extra></extra>\", \"legendgroup\": \"\\u00bfQu\\u00e9 tipo de aplicaciones utilizas en tu ordenador/tableta/m\\u00f3vil? (Respuesta m\\u00faltiple) [3. Bibliotecas de fotos online (Google Photos, iPhoto, etc.)]=S\\u00ed\", \"marker\": {\"color\": \"rgb(252,141,89)\"}, \"name\": \"\\u00bfQu\\u00e9 tipo de aplicaciones utilizas en tu ordenador/tableta/m\\u00f3vil? (Respuesta m\\u00faltiple) [3. Bibliotecas de fotos online (Google Photos, iPhoto, etc.)]=S\\u00ed\", \"r\": [20, 50, 69, 49, 193], \"showlegend\": true, \"theta\": [\"cluster_1\", \"cluster_2\", \"cluster_3\", \"cluster_4\", \"cluster_5\"], \"type\": \"barpolar\", \"uid\": \"5d2ee7a1-676f-4aec-b17a-4aa54ce62472\"}], {\"barmode\": \"group\", \"barnorm\": \"\", \"height\": 600, \"legend\": {\"tracegroupgap\": 0}, \"margin\": {\"t\": 60}, \"template\": {\"data\": {\"barpolar\": [{\"marker\": {\"line\": {\"color\": \"#E5ECF6\", \"width\": 0.5}}, \"type\": \"barpolar\"}], \"bar\": [{\"marker\": {\"line\": {\"color\": \"#E5ECF6\", \"width\": 0.5}}, \"type\": \"bar\"}], \"carpet\": [{\"aaxis\": {\"endlinecolor\": \"#2a3f5f\", \"gridcolor\": \"white\", \"linecolor\": \"white\", \"minorgridcolor\": \"white\", \"startlinecolor\": \"#2a3f5f\"}, \"baxis\": {\"endlinecolor\": \"#2a3f5f\", \"gridcolor\": \"white\", \"linecolor\": \"white\", \"minorgridcolor\": \"white\", \"startlinecolor\": \"#2a3f5f\"}, \"type\": \"carpet\"}], \"choropleth\": [{\"colorbar\": {\"outlinewidth\": 0, \"ticks\": \"\"}, \"type\": \"choropleth\"}], \"contourcarpet\": [{\"colorbar\": {\"outlinewidth\": 0, \"ticks\": \"\"}, \"type\": \"contourcarpet\"}], \"contour\": [{\"autocolorscale\": true, \"colorbar\": {\"outlinewidth\": 0, \"ticks\": \"\"}, \"type\": \"contour\"}], \"heatmapgl\": [{\"colorbar\": {\"outlinewidth\": 0, \"ticks\": \"\"}, \"type\": \"heatmapgl\"}], \"heatmap\": [{\"autocolorscale\": true, \"colorbar\": {\"outlinewidth\": 0, \"ticks\": \"\"}, \"type\": \"heatmap\"}], \"histogram2dcontour\": [{\"autocolorscale\": true, \"colorbar\": {\"outlinewidth\": 0, \"ticks\": \"\"}, \"type\": \"histogram2dcontour\"}], \"histogram2d\": [{\"autocolorscale\": true, \"colorbar\": {\"outlinewidth\": 0, \"ticks\": \"\"}, \"type\": \"histogram2d\"}], \"histogram\": [{\"marker\": {\"colorbar\": {\"outlinewidth\": 0, \"ticks\": \"\"}}, \"type\": \"histogram\"}], \"mesh3d\": [{\"colorbar\": {\"outlinewidth\": 0, \"ticks\": \"\"}, \"type\": \"mesh3d\"}], \"parcoords\": [{\"line\": {\"colorbar\": {\"outlinewidth\": 0, \"ticks\": \"\"}}, \"type\": \"parcoords\"}], \"scatter3d\": [{\"marker\": {\"colorbar\": {\"outlinewidth\": 0, \"ticks\": \"\"}}, \"type\": \"scatter3d\"}], \"scattercarpet\": [{\"marker\": {\"colorbar\": {\"outlinewidth\": 0, \"ticks\": \"\"}}, \"type\": \"scattercarpet\"}], \"scattergeo\": [{\"marker\": {\"colorbar\": {\"outlinewidth\": 0, \"ticks\": \"\"}}, \"type\": \"scattergeo\"}], \"scattergl\": [{\"marker\": {\"colorbar\": {\"outlinewidth\": 0, \"ticks\": \"\"}}, \"type\": \"scattergl\"}], \"scattermapbox\": [{\"marker\": {\"colorbar\": {\"outlinewidth\": 0, \"ticks\": \"\"}}, \"type\": \"scattermapbox\"}], \"scatterpolargl\": [{\"marker\": {\"colorbar\": {\"outlinewidth\": 0, \"ticks\": \"\"}}, \"type\": \"scatterpolargl\"}], \"scatterpolar\": [{\"marker\": {\"colorbar\": {\"outlinewidth\": 0, \"ticks\": \"\"}}, \"type\": \"scatterpolar\"}], \"scatter\": [{\"marker\": {\"colorbar\": {\"outlinewidth\": 0, \"ticks\": \"\"}}, \"type\": \"scatter\"}], \"scatterternary\": [{\"marker\": {\"colorbar\": {\"outlinewidth\": 0, \"ticks\": \"\"}}, \"type\": \"scatterternary\"}], \"surface\": [{\"colorbar\": {\"outlinewidth\": 0, \"ticks\": \"\"}, \"type\": \"surface\"}], \"table\": [{\"cells\": {\"fill\": {\"color\": \"#EBF0F8\"}, \"line\": {\"color\": \"white\"}}, \"header\": {\"fill\": {\"color\": \"#C8D4E3\"}, \"line\": {\"color\": \"white\"}}, \"type\": \"table\"}]}, \"layout\": {\"annotationdefaults\": {\"arrowcolor\": \"#506784\", \"arrowhead\": 0, \"arrowwidth\": 1}, \"colorscale\": {\"diverging\": [[0, \"#8e0152\"], [0.1, \"#c51b7d\"], [0.2, \"#de77ae\"], [0.3, \"#f1b6da\"], [0.4, \"#fde0ef\"], [0.5, \"#f7f7f7\"], [0.6, \"#e6f5d0\"], [0.7, \"#b8e186\"], [0.8, \"#7fbc41\"], [0.9, \"#4d9221\"], [1, \"#276419\"]], \"sequential\": [[0.0, \"#0508b8\"], [0.0893854748603352, \"#1910d8\"], [0.1787709497206704, \"#3c19f0\"], [0.2681564245810056, \"#6b1cfb\"], [0.3575418994413408, \"#981cfd\"], [0.44692737430167595, \"#bf1cfd\"], [0.5363128491620112, \"#dd2bfd\"], [0.6256983240223464, \"#f246fe\"], [0.7150837988826816, \"#fc67fd\"], [0.8044692737430168, \"#fe88fc\"], [0.8938547486033519, \"#fea5fd\"], [0.9832402234636871, \"#febefe\"], [1.0, \"#fec3fe\"]], \"sequentialminus\": [[0.0, \"#0508b8\"], [0.0893854748603352, \"#1910d8\"], [0.1787709497206704, \"#3c19f0\"], [0.2681564245810056, \"#6b1cfb\"], [0.3575418994413408, \"#981cfd\"], [0.44692737430167595, \"#bf1cfd\"], [0.5363128491620112, \"#dd2bfd\"], [0.6256983240223464, \"#f246fe\"], [0.7150837988826816, \"#fc67fd\"], [0.8044692737430168, \"#fe88fc\"], [0.8938547486033519, \"#fea5fd\"], [0.9832402234636871, \"#febefe\"], [1.0, \"#fec3fe\"]]}, \"colorway\": [\"#636efa\", \"#EF553B\", \"#00cc96\", \"#ab63fa\", \"#19d3f3\", \"#e763fa\", \"#FECB52\", \"#FFA15A\", \"#FF6692\", \"#B6E880\"], \"font\": {\"color\": \"#2a3f5f\"}, \"geo\": {\"bgcolor\": \"white\", \"lakecolor\": \"white\", \"landcolor\": \"#E5ECF6\", \"showlakes\": true, \"showland\": true, \"subunitcolor\": \"white\"}, \"hovermode\": \"closest\", \"mapbox\": {\"style\": \"light\"}, \"paper_bgcolor\": \"white\", \"plot_bgcolor\": \"#E5ECF6\", \"polar\": {\"angularaxis\": {\"gridcolor\": \"white\", \"linecolor\": \"white\", \"ticks\": \"\"}, \"bgcolor\": \"#E5ECF6\", \"radialaxis\": {\"gridcolor\": \"white\", \"linecolor\": \"white\", \"ticks\": \"\"}}, \"scene\": {\"xaxis\": {\"backgroundcolor\": \"#E5ECF6\", \"gridcolor\": \"white\", \"gridwidth\": 2, \"linecolor\": \"white\", \"showbackground\": true, \"ticks\": \"\", \"zerolinecolor\": \"white\"}, \"yaxis\": {\"backgroundcolor\": \"#E5ECF6\", \"gridcolor\": \"white\", \"gridwidth\": 2, \"linecolor\": \"white\", \"showbackground\": true, \"ticks\": \"\", \"zerolinecolor\": \"white\"}, \"zaxis\": {\"backgroundcolor\": \"#E5ECF6\", \"gridcolor\": \"white\", \"gridwidth\": 2, \"linecolor\": \"white\", \"showbackground\": true, \"ticks\": \"\", \"zerolinecolor\": \"white\"}}, \"shapedefaults\": {\"fillcolor\": \"#506784\", \"line\": {\"width\": 0}, \"opacity\": 0.4}, \"ternary\": {\"aaxis\": {\"gridcolor\": \"white\", \"linecolor\": \"white\", \"ticks\": \"\"}, \"baxis\": {\"gridcolor\": \"white\", \"linecolor\": \"white\", \"ticks\": \"\"}, \"bgcolor\": \"#E5ECF6\", \"caxis\": {\"gridcolor\": \"white\", \"linecolor\": \"white\", \"ticks\": \"\"}}, \"title\": {\"x\": 0.05}, \"xaxis\": {\"automargin\": true, \"gridcolor\": \"white\", \"linecolor\": \"white\", \"ticks\": \"\", \"zerolinecolor\": \"white\", \"zerolinewidth\": 2}, \"yaxis\": {\"automargin\": true, \"gridcolor\": \"white\", \"linecolor\": \"white\", \"ticks\": \"\", \"zerolinecolor\": \"white\", \"zerolinewidth\": 2}}}, \"polar\": {\"angularaxis\": {\"direction\": \"clockwise\", \"rotation\": 90}}}, {\"showLink\": false, \"linkText\": \"Export to plot.ly\", \"plotlyServerURL\": \"https://plot.ly\"}); \n",
       "}\n",
       "});</script><script type=\"text/javascript\">window.addEventListener(\"resize\", function(){if (document.getElementById(\"d14a6129-a126-4554-8966-4d4299816701\")) {window._Plotly.Plots.resize(document.getElementById(\"d14a6129-a126-4554-8966-4d4299816701\"));};})</script>"
      ],
      "text/vnd.plotly.v1+html": [
       "<div id=\"d14a6129-a126-4554-8966-4d4299816701\" style=\"height: 600px; width: 100%;\" class=\"plotly-graph-div\"></div><script type=\"text/javascript\">require([\"plotly\"], function(Plotly) { window.PLOTLYENV=window.PLOTLYENV || {};window.PLOTLYENV.BASE_URL=\"https://plot.ly\";\n",
       "if (document.getElementById(\"d14a6129-a126-4554-8966-4d4299816701\")) {\n",
       "    Plotly.newPlot(\"d14a6129-a126-4554-8966-4d4299816701\", [{\"hovertemplate\": \"\\u00bfQu\\u00e9 tipo de aplicaciones utilizas en tu ordenador/tableta/m\\u00f3vil? (Respuesta m\\u00faltiple) [3. Bibliotecas de fotos online (Google Photos, iPhoto, etc.)]=No<br>counts=%{r}<br>prosume_cluster=%{theta}<extra></extra>\", \"legendgroup\": \"\\u00bfQu\\u00e9 tipo de aplicaciones utilizas en tu ordenador/tableta/m\\u00f3vil? (Respuesta m\\u00faltiple) [3. Bibliotecas de fotos online (Google Photos, iPhoto, etc.)]=No\", \"marker\": {\"color\": \"rgb(213,62,79)\"}, \"name\": \"\\u00bfQu\\u00e9 tipo de aplicaciones utilizas en tu ordenador/tableta/m\\u00f3vil? (Respuesta m\\u00faltiple) [3. Bibliotecas de fotos online (Google Photos, iPhoto, etc.)]=No\", \"r\": [17, 146, 31, 49, 143], \"showlegend\": true, \"theta\": [\"cluster_1\", \"cluster_2\", \"cluster_3\", \"cluster_4\", \"cluster_5\"], \"type\": \"barpolar\", \"uid\": \"97d97265-13eb-493b-a761-69e3a432abcf\"}, {\"hovertemplate\": \"\\u00bfQu\\u00e9 tipo de aplicaciones utilizas en tu ordenador/tableta/m\\u00f3vil? (Respuesta m\\u00faltiple) [3. Bibliotecas de fotos online (Google Photos, iPhoto, etc.)]=S\\u00ed<br>counts=%{r}<br>prosume_cluster=%{theta}<extra></extra>\", \"legendgroup\": \"\\u00bfQu\\u00e9 tipo de aplicaciones utilizas en tu ordenador/tableta/m\\u00f3vil? (Respuesta m\\u00faltiple) [3. Bibliotecas de fotos online (Google Photos, iPhoto, etc.)]=S\\u00ed\", \"marker\": {\"color\": \"rgb(252,141,89)\"}, \"name\": \"\\u00bfQu\\u00e9 tipo de aplicaciones utilizas en tu ordenador/tableta/m\\u00f3vil? (Respuesta m\\u00faltiple) [3. Bibliotecas de fotos online (Google Photos, iPhoto, etc.)]=S\\u00ed\", \"r\": [20, 50, 69, 49, 193], \"showlegend\": true, \"theta\": [\"cluster_1\", \"cluster_2\", \"cluster_3\", \"cluster_4\", \"cluster_5\"], \"type\": \"barpolar\", \"uid\": \"5d2ee7a1-676f-4aec-b17a-4aa54ce62472\"}], {\"barmode\": \"group\", \"barnorm\": \"\", \"height\": 600, \"legend\": {\"tracegroupgap\": 0}, \"margin\": {\"t\": 60}, \"template\": {\"data\": {\"barpolar\": [{\"marker\": {\"line\": {\"color\": \"#E5ECF6\", \"width\": 0.5}}, \"type\": \"barpolar\"}], \"bar\": [{\"marker\": {\"line\": {\"color\": \"#E5ECF6\", \"width\": 0.5}}, \"type\": \"bar\"}], \"carpet\": [{\"aaxis\": {\"endlinecolor\": \"#2a3f5f\", \"gridcolor\": \"white\", \"linecolor\": \"white\", \"minorgridcolor\": \"white\", \"startlinecolor\": \"#2a3f5f\"}, \"baxis\": {\"endlinecolor\": \"#2a3f5f\", \"gridcolor\": \"white\", \"linecolor\": \"white\", \"minorgridcolor\": \"white\", \"startlinecolor\": \"#2a3f5f\"}, \"type\": \"carpet\"}], \"choropleth\": [{\"colorbar\": {\"outlinewidth\": 0, \"ticks\": \"\"}, \"type\": \"choropleth\"}], \"contourcarpet\": [{\"colorbar\": {\"outlinewidth\": 0, \"ticks\": \"\"}, \"type\": \"contourcarpet\"}], \"contour\": [{\"autocolorscale\": true, \"colorbar\": {\"outlinewidth\": 0, \"ticks\": \"\"}, \"type\": \"contour\"}], \"heatmapgl\": [{\"colorbar\": {\"outlinewidth\": 0, \"ticks\": \"\"}, \"type\": \"heatmapgl\"}], \"heatmap\": [{\"autocolorscale\": true, \"colorbar\": {\"outlinewidth\": 0, \"ticks\": \"\"}, \"type\": \"heatmap\"}], \"histogram2dcontour\": [{\"autocolorscale\": true, \"colorbar\": {\"outlinewidth\": 0, \"ticks\": \"\"}, \"type\": \"histogram2dcontour\"}], \"histogram2d\": [{\"autocolorscale\": true, \"colorbar\": {\"outlinewidth\": 0, \"ticks\": \"\"}, \"type\": \"histogram2d\"}], \"histogram\": [{\"marker\": {\"colorbar\": {\"outlinewidth\": 0, \"ticks\": \"\"}}, \"type\": \"histogram\"}], \"mesh3d\": [{\"colorbar\": {\"outlinewidth\": 0, \"ticks\": \"\"}, \"type\": \"mesh3d\"}], \"parcoords\": [{\"line\": {\"colorbar\": {\"outlinewidth\": 0, \"ticks\": \"\"}}, \"type\": \"parcoords\"}], \"scatter3d\": [{\"marker\": {\"colorbar\": {\"outlinewidth\": 0, \"ticks\": \"\"}}, \"type\": \"scatter3d\"}], \"scattercarpet\": [{\"marker\": {\"colorbar\": {\"outlinewidth\": 0, \"ticks\": \"\"}}, \"type\": \"scattercarpet\"}], \"scattergeo\": [{\"marker\": {\"colorbar\": {\"outlinewidth\": 0, \"ticks\": \"\"}}, \"type\": \"scattergeo\"}], \"scattergl\": [{\"marker\": {\"colorbar\": {\"outlinewidth\": 0, \"ticks\": \"\"}}, \"type\": \"scattergl\"}], \"scattermapbox\": [{\"marker\": {\"colorbar\": {\"outlinewidth\": 0, \"ticks\": \"\"}}, \"type\": \"scattermapbox\"}], \"scatterpolargl\": [{\"marker\": {\"colorbar\": {\"outlinewidth\": 0, \"ticks\": \"\"}}, \"type\": \"scatterpolargl\"}], \"scatterpolar\": [{\"marker\": {\"colorbar\": {\"outlinewidth\": 0, \"ticks\": \"\"}}, \"type\": \"scatterpolar\"}], \"scatter\": [{\"marker\": {\"colorbar\": {\"outlinewidth\": 0, \"ticks\": \"\"}}, \"type\": \"scatter\"}], \"scatterternary\": [{\"marker\": {\"colorbar\": {\"outlinewidth\": 0, \"ticks\": \"\"}}, \"type\": \"scatterternary\"}], \"surface\": [{\"colorbar\": {\"outlinewidth\": 0, \"ticks\": \"\"}, \"type\": \"surface\"}], \"table\": [{\"cells\": {\"fill\": {\"color\": \"#EBF0F8\"}, \"line\": {\"color\": \"white\"}}, \"header\": {\"fill\": {\"color\": \"#C8D4E3\"}, \"line\": {\"color\": \"white\"}}, \"type\": \"table\"}]}, \"layout\": {\"annotationdefaults\": {\"arrowcolor\": \"#506784\", \"arrowhead\": 0, \"arrowwidth\": 1}, \"colorscale\": {\"diverging\": [[0, \"#8e0152\"], [0.1, \"#c51b7d\"], [0.2, \"#de77ae\"], [0.3, \"#f1b6da\"], [0.4, \"#fde0ef\"], [0.5, \"#f7f7f7\"], [0.6, \"#e6f5d0\"], [0.7, \"#b8e186\"], [0.8, \"#7fbc41\"], [0.9, \"#4d9221\"], [1, \"#276419\"]], \"sequential\": [[0.0, \"#0508b8\"], [0.0893854748603352, \"#1910d8\"], [0.1787709497206704, \"#3c19f0\"], [0.2681564245810056, \"#6b1cfb\"], [0.3575418994413408, \"#981cfd\"], [0.44692737430167595, \"#bf1cfd\"], [0.5363128491620112, \"#dd2bfd\"], [0.6256983240223464, \"#f246fe\"], [0.7150837988826816, \"#fc67fd\"], [0.8044692737430168, \"#fe88fc\"], [0.8938547486033519, \"#fea5fd\"], [0.9832402234636871, \"#febefe\"], [1.0, \"#fec3fe\"]], \"sequentialminus\": [[0.0, \"#0508b8\"], [0.0893854748603352, \"#1910d8\"], [0.1787709497206704, \"#3c19f0\"], [0.2681564245810056, \"#6b1cfb\"], [0.3575418994413408, \"#981cfd\"], [0.44692737430167595, \"#bf1cfd\"], [0.5363128491620112, \"#dd2bfd\"], [0.6256983240223464, \"#f246fe\"], [0.7150837988826816, \"#fc67fd\"], [0.8044692737430168, \"#fe88fc\"], [0.8938547486033519, \"#fea5fd\"], [0.9832402234636871, \"#febefe\"], [1.0, \"#fec3fe\"]]}, \"colorway\": [\"#636efa\", \"#EF553B\", \"#00cc96\", \"#ab63fa\", \"#19d3f3\", \"#e763fa\", \"#FECB52\", \"#FFA15A\", \"#FF6692\", \"#B6E880\"], \"font\": {\"color\": \"#2a3f5f\"}, \"geo\": {\"bgcolor\": \"white\", \"lakecolor\": \"white\", \"landcolor\": \"#E5ECF6\", \"showlakes\": true, \"showland\": true, \"subunitcolor\": \"white\"}, \"hovermode\": \"closest\", \"mapbox\": {\"style\": \"light\"}, \"paper_bgcolor\": \"white\", \"plot_bgcolor\": \"#E5ECF6\", \"polar\": {\"angularaxis\": {\"gridcolor\": \"white\", \"linecolor\": \"white\", \"ticks\": \"\"}, \"bgcolor\": \"#E5ECF6\", \"radialaxis\": {\"gridcolor\": \"white\", \"linecolor\": \"white\", \"ticks\": \"\"}}, \"scene\": {\"xaxis\": {\"backgroundcolor\": \"#E5ECF6\", \"gridcolor\": \"white\", \"gridwidth\": 2, \"linecolor\": \"white\", \"showbackground\": true, \"ticks\": \"\", \"zerolinecolor\": \"white\"}, \"yaxis\": {\"backgroundcolor\": \"#E5ECF6\", \"gridcolor\": \"white\", \"gridwidth\": 2, \"linecolor\": \"white\", \"showbackground\": true, \"ticks\": \"\", \"zerolinecolor\": \"white\"}, \"zaxis\": {\"backgroundcolor\": \"#E5ECF6\", \"gridcolor\": \"white\", \"gridwidth\": 2, \"linecolor\": \"white\", \"showbackground\": true, \"ticks\": \"\", \"zerolinecolor\": \"white\"}}, \"shapedefaults\": {\"fillcolor\": \"#506784\", \"line\": {\"width\": 0}, \"opacity\": 0.4}, \"ternary\": {\"aaxis\": {\"gridcolor\": \"white\", \"linecolor\": \"white\", \"ticks\": \"\"}, \"baxis\": {\"gridcolor\": \"white\", \"linecolor\": \"white\", \"ticks\": \"\"}, \"bgcolor\": \"#E5ECF6\", \"caxis\": {\"gridcolor\": \"white\", \"linecolor\": \"white\", \"ticks\": \"\"}}, \"title\": {\"x\": 0.05}, \"xaxis\": {\"automargin\": true, \"gridcolor\": \"white\", \"linecolor\": \"white\", \"ticks\": \"\", \"zerolinecolor\": \"white\", \"zerolinewidth\": 2}, \"yaxis\": {\"automargin\": true, \"gridcolor\": \"white\", \"linecolor\": \"white\", \"ticks\": \"\", \"zerolinecolor\": \"white\", \"zerolinewidth\": 2}}}, \"polar\": {\"angularaxis\": {\"direction\": \"clockwise\", \"rotation\": 90}}}, {\"showLink\": false, \"linkText\": \"Export to plot.ly\", \"plotlyServerURL\": \"https://plot.ly\"}); \n",
       "}\n",
       "});</script><script type=\"text/javascript\">window.addEventListener(\"resize\", function(){if (document.getElementById(\"d14a6129-a126-4554-8966-4d4299816701\")) {window._Plotly.Plots.resize(document.getElementById(\"d14a6129-a126-4554-8966-4d4299816701\"));};})</script>"
      ]
     },
     "metadata": {},
     "output_type": "display_data"
    },
    {
     "name": "stdout",
     "output_type": "stream",
     "text": [
      "Comparando la pregunta ¿Qué tipo de aplicaciones utilizas en tu ordenador/tableta/móvil? (Respuesta múltiple) [4. Redes sociales (Facebook, Instagram, Twitter, etc.).]\n"
     ]
    },
    {
     "data": {
      "application/vnd.plotly.v1+json": {
       "config": {
        "linkText": "Export to plot.ly",
        "plotlyServerURL": "https://plot.ly",
        "showLink": false
       },
       "data": [
        {
         "hovertemplate": "¿Qué tipo de aplicaciones utilizas en tu ordenador/tableta/móvil? (Respuesta múltiple) [4. Redes sociales (Facebook, Instagram, Twitter, etc.).]=No<br>counts=%{r}<br>prosume_cluster=%{theta}<extra></extra>",
         "legendgroup": "¿Qué tipo de aplicaciones utilizas en tu ordenador/tableta/móvil? (Respuesta múltiple) [4. Redes sociales (Facebook, Instagram, Twitter, etc.).]=No",
         "marker": {
          "color": "rgb(213,62,79)"
         },
         "name": "¿Qué tipo de aplicaciones utilizas en tu ordenador/tableta/móvil? (Respuesta múltiple) [4. Redes sociales (Facebook, Instagram, Twitter, etc.).]=No",
         "r": [
          27,
          67,
          11,
          3,
          38
         ],
         "showlegend": true,
         "theta": [
          "cluster_1",
          "cluster_2",
          "cluster_3",
          "cluster_4",
          "cluster_5"
         ],
         "type": "barpolar",
         "uid": "0a56bbe2-a79e-4114-b4a8-3ba8018a3a7a"
        },
        {
         "hovertemplate": "¿Qué tipo de aplicaciones utilizas en tu ordenador/tableta/móvil? (Respuesta múltiple) [4. Redes sociales (Facebook, Instagram, Twitter, etc.).]=Sí<br>counts=%{r}<br>prosume_cluster=%{theta}<extra></extra>",
         "legendgroup": "¿Qué tipo de aplicaciones utilizas en tu ordenador/tableta/móvil? (Respuesta múltiple) [4. Redes sociales (Facebook, Instagram, Twitter, etc.).]=Sí",
         "marker": {
          "color": "rgb(252,141,89)"
         },
         "name": "¿Qué tipo de aplicaciones utilizas en tu ordenador/tableta/móvil? (Respuesta múltiple) [4. Redes sociales (Facebook, Instagram, Twitter, etc.).]=Sí",
         "r": [
          10,
          129,
          89,
          95,
          298
         ],
         "showlegend": true,
         "theta": [
          "cluster_1",
          "cluster_2",
          "cluster_3",
          "cluster_4",
          "cluster_5"
         ],
         "type": "barpolar",
         "uid": "167e4151-c923-4f30-8530-3f3358cfbe9d"
        }
       ],
       "layout": {
        "barmode": "group",
        "barnorm": "",
        "height": 600,
        "legend": {
         "tracegroupgap": 0
        },
        "margin": {
         "t": 60
        },
        "polar": {
         "angularaxis": {
          "direction": "clockwise",
          "rotation": 90
         }
        },
        "template": {
         "data": {
          "bar": [
           {
            "marker": {
             "line": {
              "color": "#E5ECF6",
              "width": 0.5
             }
            },
            "type": "bar"
           }
          ],
          "barpolar": [
           {
            "marker": {
             "line": {
              "color": "#E5ECF6",
              "width": 0.5
             }
            },
            "type": "barpolar"
           }
          ],
          "carpet": [
           {
            "aaxis": {
             "endlinecolor": "#2a3f5f",
             "gridcolor": "white",
             "linecolor": "white",
             "minorgridcolor": "white",
             "startlinecolor": "#2a3f5f"
            },
            "baxis": {
             "endlinecolor": "#2a3f5f",
             "gridcolor": "white",
             "linecolor": "white",
             "minorgridcolor": "white",
             "startlinecolor": "#2a3f5f"
            },
            "type": "carpet"
           }
          ],
          "choropleth": [
           {
            "colorbar": {
             "outlinewidth": 0,
             "ticks": ""
            },
            "type": "choropleth"
           }
          ],
          "contour": [
           {
            "autocolorscale": true,
            "colorbar": {
             "outlinewidth": 0,
             "ticks": ""
            },
            "type": "contour"
           }
          ],
          "contourcarpet": [
           {
            "colorbar": {
             "outlinewidth": 0,
             "ticks": ""
            },
            "type": "contourcarpet"
           }
          ],
          "heatmap": [
           {
            "autocolorscale": true,
            "colorbar": {
             "outlinewidth": 0,
             "ticks": ""
            },
            "type": "heatmap"
           }
          ],
          "heatmapgl": [
           {
            "colorbar": {
             "outlinewidth": 0,
             "ticks": ""
            },
            "type": "heatmapgl"
           }
          ],
          "histogram": [
           {
            "marker": {
             "colorbar": {
              "outlinewidth": 0,
              "ticks": ""
             }
            },
            "type": "histogram"
           }
          ],
          "histogram2d": [
           {
            "autocolorscale": true,
            "colorbar": {
             "outlinewidth": 0,
             "ticks": ""
            },
            "type": "histogram2d"
           }
          ],
          "histogram2dcontour": [
           {
            "autocolorscale": true,
            "colorbar": {
             "outlinewidth": 0,
             "ticks": ""
            },
            "type": "histogram2dcontour"
           }
          ],
          "mesh3d": [
           {
            "colorbar": {
             "outlinewidth": 0,
             "ticks": ""
            },
            "type": "mesh3d"
           }
          ],
          "parcoords": [
           {
            "line": {
             "colorbar": {
              "outlinewidth": 0,
              "ticks": ""
             }
            },
            "type": "parcoords"
           }
          ],
          "scatter": [
           {
            "marker": {
             "colorbar": {
              "outlinewidth": 0,
              "ticks": ""
             }
            },
            "type": "scatter"
           }
          ],
          "scatter3d": [
           {
            "marker": {
             "colorbar": {
              "outlinewidth": 0,
              "ticks": ""
             }
            },
            "type": "scatter3d"
           }
          ],
          "scattercarpet": [
           {
            "marker": {
             "colorbar": {
              "outlinewidth": 0,
              "ticks": ""
             }
            },
            "type": "scattercarpet"
           }
          ],
          "scattergeo": [
           {
            "marker": {
             "colorbar": {
              "outlinewidth": 0,
              "ticks": ""
             }
            },
            "type": "scattergeo"
           }
          ],
          "scattergl": [
           {
            "marker": {
             "colorbar": {
              "outlinewidth": 0,
              "ticks": ""
             }
            },
            "type": "scattergl"
           }
          ],
          "scattermapbox": [
           {
            "marker": {
             "colorbar": {
              "outlinewidth": 0,
              "ticks": ""
             }
            },
            "type": "scattermapbox"
           }
          ],
          "scatterpolar": [
           {
            "marker": {
             "colorbar": {
              "outlinewidth": 0,
              "ticks": ""
             }
            },
            "type": "scatterpolar"
           }
          ],
          "scatterpolargl": [
           {
            "marker": {
             "colorbar": {
              "outlinewidth": 0,
              "ticks": ""
             }
            },
            "type": "scatterpolargl"
           }
          ],
          "scatterternary": [
           {
            "marker": {
             "colorbar": {
              "outlinewidth": 0,
              "ticks": ""
             }
            },
            "type": "scatterternary"
           }
          ],
          "surface": [
           {
            "colorbar": {
             "outlinewidth": 0,
             "ticks": ""
            },
            "type": "surface"
           }
          ],
          "table": [
           {
            "cells": {
             "fill": {
              "color": "#EBF0F8"
             },
             "line": {
              "color": "white"
             }
            },
            "header": {
             "fill": {
              "color": "#C8D4E3"
             },
             "line": {
              "color": "white"
             }
            },
            "type": "table"
           }
          ]
         },
         "layout": {
          "annotationdefaults": {
           "arrowcolor": "#506784",
           "arrowhead": 0,
           "arrowwidth": 1
          },
          "colorscale": {
           "diverging": [
            [
             0,
             "#8e0152"
            ],
            [
             0.1,
             "#c51b7d"
            ],
            [
             0.2,
             "#de77ae"
            ],
            [
             0.3,
             "#f1b6da"
            ],
            [
             0.4,
             "#fde0ef"
            ],
            [
             0.5,
             "#f7f7f7"
            ],
            [
             0.6,
             "#e6f5d0"
            ],
            [
             0.7,
             "#b8e186"
            ],
            [
             0.8,
             "#7fbc41"
            ],
            [
             0.9,
             "#4d9221"
            ],
            [
             1,
             "#276419"
            ]
           ],
           "sequential": [
            [
             0,
             "#0508b8"
            ],
            [
             0.0893854748603352,
             "#1910d8"
            ],
            [
             0.1787709497206704,
             "#3c19f0"
            ],
            [
             0.2681564245810056,
             "#6b1cfb"
            ],
            [
             0.3575418994413408,
             "#981cfd"
            ],
            [
             0.44692737430167595,
             "#bf1cfd"
            ],
            [
             0.5363128491620112,
             "#dd2bfd"
            ],
            [
             0.6256983240223464,
             "#f246fe"
            ],
            [
             0.7150837988826816,
             "#fc67fd"
            ],
            [
             0.8044692737430168,
             "#fe88fc"
            ],
            [
             0.8938547486033519,
             "#fea5fd"
            ],
            [
             0.9832402234636871,
             "#febefe"
            ],
            [
             1,
             "#fec3fe"
            ]
           ],
           "sequentialminus": [
            [
             0,
             "#0508b8"
            ],
            [
             0.0893854748603352,
             "#1910d8"
            ],
            [
             0.1787709497206704,
             "#3c19f0"
            ],
            [
             0.2681564245810056,
             "#6b1cfb"
            ],
            [
             0.3575418994413408,
             "#981cfd"
            ],
            [
             0.44692737430167595,
             "#bf1cfd"
            ],
            [
             0.5363128491620112,
             "#dd2bfd"
            ],
            [
             0.6256983240223464,
             "#f246fe"
            ],
            [
             0.7150837988826816,
             "#fc67fd"
            ],
            [
             0.8044692737430168,
             "#fe88fc"
            ],
            [
             0.8938547486033519,
             "#fea5fd"
            ],
            [
             0.9832402234636871,
             "#febefe"
            ],
            [
             1,
             "#fec3fe"
            ]
           ]
          },
          "colorway": [
           "#636efa",
           "#EF553B",
           "#00cc96",
           "#ab63fa",
           "#19d3f3",
           "#e763fa",
           "#FECB52",
           "#FFA15A",
           "#FF6692",
           "#B6E880"
          ],
          "font": {
           "color": "#2a3f5f"
          },
          "geo": {
           "bgcolor": "white",
           "lakecolor": "white",
           "landcolor": "#E5ECF6",
           "showlakes": true,
           "showland": true,
           "subunitcolor": "white"
          },
          "hovermode": "closest",
          "mapbox": {
           "style": "light"
          },
          "paper_bgcolor": "white",
          "plot_bgcolor": "#E5ECF6",
          "polar": {
           "angularaxis": {
            "gridcolor": "white",
            "linecolor": "white",
            "ticks": ""
           },
           "bgcolor": "#E5ECF6",
           "radialaxis": {
            "gridcolor": "white",
            "linecolor": "white",
            "ticks": ""
           }
          },
          "scene": {
           "xaxis": {
            "backgroundcolor": "#E5ECF6",
            "gridcolor": "white",
            "gridwidth": 2,
            "linecolor": "white",
            "showbackground": true,
            "ticks": "",
            "zerolinecolor": "white"
           },
           "yaxis": {
            "backgroundcolor": "#E5ECF6",
            "gridcolor": "white",
            "gridwidth": 2,
            "linecolor": "white",
            "showbackground": true,
            "ticks": "",
            "zerolinecolor": "white"
           },
           "zaxis": {
            "backgroundcolor": "#E5ECF6",
            "gridcolor": "white",
            "gridwidth": 2,
            "linecolor": "white",
            "showbackground": true,
            "ticks": "",
            "zerolinecolor": "white"
           }
          },
          "shapedefaults": {
           "fillcolor": "#506784",
           "line": {
            "width": 0
           },
           "opacity": 0.4
          },
          "ternary": {
           "aaxis": {
            "gridcolor": "white",
            "linecolor": "white",
            "ticks": ""
           },
           "baxis": {
            "gridcolor": "white",
            "linecolor": "white",
            "ticks": ""
           },
           "bgcolor": "#E5ECF6",
           "caxis": {
            "gridcolor": "white",
            "linecolor": "white",
            "ticks": ""
           }
          },
          "title": {
           "x": 0.05
          },
          "xaxis": {
           "automargin": true,
           "gridcolor": "white",
           "linecolor": "white",
           "ticks": "",
           "zerolinecolor": "white",
           "zerolinewidth": 2
          },
          "yaxis": {
           "automargin": true,
           "gridcolor": "white",
           "linecolor": "white",
           "ticks": "",
           "zerolinecolor": "white",
           "zerolinewidth": 2
          }
         }
        }
       }
      },
      "text/html": [
       "<div id=\"320898e5-078f-4eb7-a137-641af971daed\" style=\"height: 600px; width: 100%;\" class=\"plotly-graph-div\"></div><script type=\"text/javascript\">require([\"plotly\"], function(Plotly) { window.PLOTLYENV=window.PLOTLYENV || {};window.PLOTLYENV.BASE_URL=\"https://plot.ly\";\n",
       "if (document.getElementById(\"320898e5-078f-4eb7-a137-641af971daed\")) {\n",
       "    Plotly.newPlot(\"320898e5-078f-4eb7-a137-641af971daed\", [{\"hovertemplate\": \"\\u00bfQu\\u00e9 tipo de aplicaciones utilizas en tu ordenador/tableta/m\\u00f3vil? (Respuesta m\\u00faltiple) [4. Redes sociales (Facebook, Instagram, Twitter, etc.).]=No<br>counts=%{r}<br>prosume_cluster=%{theta}<extra></extra>\", \"legendgroup\": \"\\u00bfQu\\u00e9 tipo de aplicaciones utilizas en tu ordenador/tableta/m\\u00f3vil? (Respuesta m\\u00faltiple) [4. Redes sociales (Facebook, Instagram, Twitter, etc.).]=No\", \"marker\": {\"color\": \"rgb(213,62,79)\"}, \"name\": \"\\u00bfQu\\u00e9 tipo de aplicaciones utilizas en tu ordenador/tableta/m\\u00f3vil? (Respuesta m\\u00faltiple) [4. Redes sociales (Facebook, Instagram, Twitter, etc.).]=No\", \"r\": [27, 67, 11, 3, 38], \"showlegend\": true, \"theta\": [\"cluster_1\", \"cluster_2\", \"cluster_3\", \"cluster_4\", \"cluster_5\"], \"type\": \"barpolar\", \"uid\": \"0a56bbe2-a79e-4114-b4a8-3ba8018a3a7a\"}, {\"hovertemplate\": \"\\u00bfQu\\u00e9 tipo de aplicaciones utilizas en tu ordenador/tableta/m\\u00f3vil? (Respuesta m\\u00faltiple) [4. Redes sociales (Facebook, Instagram, Twitter, etc.).]=S\\u00ed<br>counts=%{r}<br>prosume_cluster=%{theta}<extra></extra>\", \"legendgroup\": \"\\u00bfQu\\u00e9 tipo de aplicaciones utilizas en tu ordenador/tableta/m\\u00f3vil? (Respuesta m\\u00faltiple) [4. Redes sociales (Facebook, Instagram, Twitter, etc.).]=S\\u00ed\", \"marker\": {\"color\": \"rgb(252,141,89)\"}, \"name\": \"\\u00bfQu\\u00e9 tipo de aplicaciones utilizas en tu ordenador/tableta/m\\u00f3vil? (Respuesta m\\u00faltiple) [4. Redes sociales (Facebook, Instagram, Twitter, etc.).]=S\\u00ed\", \"r\": [10, 129, 89, 95, 298], \"showlegend\": true, \"theta\": [\"cluster_1\", \"cluster_2\", \"cluster_3\", \"cluster_4\", \"cluster_5\"], \"type\": \"barpolar\", \"uid\": \"167e4151-c923-4f30-8530-3f3358cfbe9d\"}], {\"barmode\": \"group\", \"barnorm\": \"\", \"height\": 600, \"legend\": {\"tracegroupgap\": 0}, \"margin\": {\"t\": 60}, \"template\": {\"data\": {\"barpolar\": [{\"marker\": {\"line\": {\"color\": \"#E5ECF6\", \"width\": 0.5}}, \"type\": \"barpolar\"}], \"bar\": [{\"marker\": {\"line\": {\"color\": \"#E5ECF6\", \"width\": 0.5}}, \"type\": \"bar\"}], \"carpet\": [{\"aaxis\": {\"endlinecolor\": \"#2a3f5f\", \"gridcolor\": \"white\", \"linecolor\": \"white\", \"minorgridcolor\": \"white\", \"startlinecolor\": \"#2a3f5f\"}, \"baxis\": {\"endlinecolor\": \"#2a3f5f\", \"gridcolor\": \"white\", \"linecolor\": \"white\", \"minorgridcolor\": \"white\", \"startlinecolor\": \"#2a3f5f\"}, \"type\": \"carpet\"}], \"choropleth\": [{\"colorbar\": {\"outlinewidth\": 0, \"ticks\": \"\"}, \"type\": \"choropleth\"}], \"contourcarpet\": [{\"colorbar\": {\"outlinewidth\": 0, \"ticks\": \"\"}, \"type\": \"contourcarpet\"}], \"contour\": [{\"autocolorscale\": true, \"colorbar\": {\"outlinewidth\": 0, \"ticks\": \"\"}, \"type\": \"contour\"}], \"heatmapgl\": [{\"colorbar\": {\"outlinewidth\": 0, \"ticks\": \"\"}, \"type\": \"heatmapgl\"}], \"heatmap\": [{\"autocolorscale\": true, \"colorbar\": {\"outlinewidth\": 0, \"ticks\": \"\"}, \"type\": \"heatmap\"}], \"histogram2dcontour\": [{\"autocolorscale\": true, \"colorbar\": {\"outlinewidth\": 0, \"ticks\": \"\"}, \"type\": \"histogram2dcontour\"}], \"histogram2d\": [{\"autocolorscale\": true, \"colorbar\": {\"outlinewidth\": 0, \"ticks\": \"\"}, \"type\": \"histogram2d\"}], \"histogram\": [{\"marker\": {\"colorbar\": {\"outlinewidth\": 0, \"ticks\": \"\"}}, \"type\": \"histogram\"}], \"mesh3d\": [{\"colorbar\": {\"outlinewidth\": 0, \"ticks\": \"\"}, \"type\": \"mesh3d\"}], \"parcoords\": [{\"line\": {\"colorbar\": {\"outlinewidth\": 0, \"ticks\": \"\"}}, \"type\": \"parcoords\"}], \"scatter3d\": [{\"marker\": {\"colorbar\": {\"outlinewidth\": 0, \"ticks\": \"\"}}, \"type\": \"scatter3d\"}], \"scattercarpet\": [{\"marker\": {\"colorbar\": {\"outlinewidth\": 0, \"ticks\": \"\"}}, \"type\": \"scattercarpet\"}], \"scattergeo\": [{\"marker\": {\"colorbar\": {\"outlinewidth\": 0, \"ticks\": \"\"}}, \"type\": \"scattergeo\"}], \"scattergl\": [{\"marker\": {\"colorbar\": {\"outlinewidth\": 0, \"ticks\": \"\"}}, \"type\": \"scattergl\"}], \"scattermapbox\": [{\"marker\": {\"colorbar\": {\"outlinewidth\": 0, \"ticks\": \"\"}}, \"type\": \"scattermapbox\"}], \"scatterpolargl\": [{\"marker\": {\"colorbar\": {\"outlinewidth\": 0, \"ticks\": \"\"}}, \"type\": \"scatterpolargl\"}], \"scatterpolar\": [{\"marker\": {\"colorbar\": {\"outlinewidth\": 0, \"ticks\": \"\"}}, \"type\": \"scatterpolar\"}], \"scatter\": [{\"marker\": {\"colorbar\": {\"outlinewidth\": 0, \"ticks\": \"\"}}, \"type\": \"scatter\"}], \"scatterternary\": [{\"marker\": {\"colorbar\": {\"outlinewidth\": 0, \"ticks\": \"\"}}, \"type\": \"scatterternary\"}], \"surface\": [{\"colorbar\": {\"outlinewidth\": 0, \"ticks\": \"\"}, \"type\": \"surface\"}], \"table\": [{\"cells\": {\"fill\": {\"color\": \"#EBF0F8\"}, \"line\": {\"color\": \"white\"}}, \"header\": {\"fill\": {\"color\": \"#C8D4E3\"}, \"line\": {\"color\": \"white\"}}, \"type\": \"table\"}]}, \"layout\": {\"annotationdefaults\": {\"arrowcolor\": \"#506784\", \"arrowhead\": 0, \"arrowwidth\": 1}, \"colorscale\": {\"diverging\": [[0, \"#8e0152\"], [0.1, \"#c51b7d\"], [0.2, \"#de77ae\"], [0.3, \"#f1b6da\"], [0.4, \"#fde0ef\"], [0.5, \"#f7f7f7\"], [0.6, \"#e6f5d0\"], [0.7, \"#b8e186\"], [0.8, \"#7fbc41\"], [0.9, \"#4d9221\"], [1, \"#276419\"]], \"sequential\": [[0.0, \"#0508b8\"], [0.0893854748603352, \"#1910d8\"], [0.1787709497206704, \"#3c19f0\"], [0.2681564245810056, \"#6b1cfb\"], [0.3575418994413408, \"#981cfd\"], [0.44692737430167595, \"#bf1cfd\"], [0.5363128491620112, \"#dd2bfd\"], [0.6256983240223464, \"#f246fe\"], [0.7150837988826816, \"#fc67fd\"], [0.8044692737430168, \"#fe88fc\"], [0.8938547486033519, \"#fea5fd\"], [0.9832402234636871, \"#febefe\"], [1.0, \"#fec3fe\"]], \"sequentialminus\": [[0.0, \"#0508b8\"], [0.0893854748603352, \"#1910d8\"], [0.1787709497206704, \"#3c19f0\"], [0.2681564245810056, \"#6b1cfb\"], [0.3575418994413408, \"#981cfd\"], [0.44692737430167595, \"#bf1cfd\"], [0.5363128491620112, \"#dd2bfd\"], [0.6256983240223464, \"#f246fe\"], [0.7150837988826816, \"#fc67fd\"], [0.8044692737430168, \"#fe88fc\"], [0.8938547486033519, \"#fea5fd\"], [0.9832402234636871, \"#febefe\"], [1.0, \"#fec3fe\"]]}, \"colorway\": [\"#636efa\", \"#EF553B\", \"#00cc96\", \"#ab63fa\", \"#19d3f3\", \"#e763fa\", \"#FECB52\", \"#FFA15A\", \"#FF6692\", \"#B6E880\"], \"font\": {\"color\": \"#2a3f5f\"}, \"geo\": {\"bgcolor\": \"white\", \"lakecolor\": \"white\", \"landcolor\": \"#E5ECF6\", \"showlakes\": true, \"showland\": true, \"subunitcolor\": \"white\"}, \"hovermode\": \"closest\", \"mapbox\": {\"style\": \"light\"}, \"paper_bgcolor\": \"white\", \"plot_bgcolor\": \"#E5ECF6\", \"polar\": {\"angularaxis\": {\"gridcolor\": \"white\", \"linecolor\": \"white\", \"ticks\": \"\"}, \"bgcolor\": \"#E5ECF6\", \"radialaxis\": {\"gridcolor\": \"white\", \"linecolor\": \"white\", \"ticks\": \"\"}}, \"scene\": {\"xaxis\": {\"backgroundcolor\": \"#E5ECF6\", \"gridcolor\": \"white\", \"gridwidth\": 2, \"linecolor\": \"white\", \"showbackground\": true, \"ticks\": \"\", \"zerolinecolor\": \"white\"}, \"yaxis\": {\"backgroundcolor\": \"#E5ECF6\", \"gridcolor\": \"white\", \"gridwidth\": 2, \"linecolor\": \"white\", \"showbackground\": true, \"ticks\": \"\", \"zerolinecolor\": \"white\"}, \"zaxis\": {\"backgroundcolor\": \"#E5ECF6\", \"gridcolor\": \"white\", \"gridwidth\": 2, \"linecolor\": \"white\", \"showbackground\": true, \"ticks\": \"\", \"zerolinecolor\": \"white\"}}, \"shapedefaults\": {\"fillcolor\": \"#506784\", \"line\": {\"width\": 0}, \"opacity\": 0.4}, \"ternary\": {\"aaxis\": {\"gridcolor\": \"white\", \"linecolor\": \"white\", \"ticks\": \"\"}, \"baxis\": {\"gridcolor\": \"white\", \"linecolor\": \"white\", \"ticks\": \"\"}, \"bgcolor\": \"#E5ECF6\", \"caxis\": {\"gridcolor\": \"white\", \"linecolor\": \"white\", \"ticks\": \"\"}}, \"title\": {\"x\": 0.05}, \"xaxis\": {\"automargin\": true, \"gridcolor\": \"white\", \"linecolor\": \"white\", \"ticks\": \"\", \"zerolinecolor\": \"white\", \"zerolinewidth\": 2}, \"yaxis\": {\"automargin\": true, \"gridcolor\": \"white\", \"linecolor\": \"white\", \"ticks\": \"\", \"zerolinecolor\": \"white\", \"zerolinewidth\": 2}}}, \"polar\": {\"angularaxis\": {\"direction\": \"clockwise\", \"rotation\": 90}}}, {\"showLink\": false, \"linkText\": \"Export to plot.ly\", \"plotlyServerURL\": \"https://plot.ly\"}); \n",
       "}\n",
       "});</script><script type=\"text/javascript\">window.addEventListener(\"resize\", function(){if (document.getElementById(\"320898e5-078f-4eb7-a137-641af971daed\")) {window._Plotly.Plots.resize(document.getElementById(\"320898e5-078f-4eb7-a137-641af971daed\"));};})</script>"
      ],
      "text/vnd.plotly.v1+html": [
       "<div id=\"320898e5-078f-4eb7-a137-641af971daed\" style=\"height: 600px; width: 100%;\" class=\"plotly-graph-div\"></div><script type=\"text/javascript\">require([\"plotly\"], function(Plotly) { window.PLOTLYENV=window.PLOTLYENV || {};window.PLOTLYENV.BASE_URL=\"https://plot.ly\";\n",
       "if (document.getElementById(\"320898e5-078f-4eb7-a137-641af971daed\")) {\n",
       "    Plotly.newPlot(\"320898e5-078f-4eb7-a137-641af971daed\", [{\"hovertemplate\": \"\\u00bfQu\\u00e9 tipo de aplicaciones utilizas en tu ordenador/tableta/m\\u00f3vil? (Respuesta m\\u00faltiple) [4. Redes sociales (Facebook, Instagram, Twitter, etc.).]=No<br>counts=%{r}<br>prosume_cluster=%{theta}<extra></extra>\", \"legendgroup\": \"\\u00bfQu\\u00e9 tipo de aplicaciones utilizas en tu ordenador/tableta/m\\u00f3vil? (Respuesta m\\u00faltiple) [4. Redes sociales (Facebook, Instagram, Twitter, etc.).]=No\", \"marker\": {\"color\": \"rgb(213,62,79)\"}, \"name\": \"\\u00bfQu\\u00e9 tipo de aplicaciones utilizas en tu ordenador/tableta/m\\u00f3vil? (Respuesta m\\u00faltiple) [4. Redes sociales (Facebook, Instagram, Twitter, etc.).]=No\", \"r\": [27, 67, 11, 3, 38], \"showlegend\": true, \"theta\": [\"cluster_1\", \"cluster_2\", \"cluster_3\", \"cluster_4\", \"cluster_5\"], \"type\": \"barpolar\", \"uid\": \"0a56bbe2-a79e-4114-b4a8-3ba8018a3a7a\"}, {\"hovertemplate\": \"\\u00bfQu\\u00e9 tipo de aplicaciones utilizas en tu ordenador/tableta/m\\u00f3vil? (Respuesta m\\u00faltiple) [4. Redes sociales (Facebook, Instagram, Twitter, etc.).]=S\\u00ed<br>counts=%{r}<br>prosume_cluster=%{theta}<extra></extra>\", \"legendgroup\": \"\\u00bfQu\\u00e9 tipo de aplicaciones utilizas en tu ordenador/tableta/m\\u00f3vil? (Respuesta m\\u00faltiple) [4. Redes sociales (Facebook, Instagram, Twitter, etc.).]=S\\u00ed\", \"marker\": {\"color\": \"rgb(252,141,89)\"}, \"name\": \"\\u00bfQu\\u00e9 tipo de aplicaciones utilizas en tu ordenador/tableta/m\\u00f3vil? (Respuesta m\\u00faltiple) [4. Redes sociales (Facebook, Instagram, Twitter, etc.).]=S\\u00ed\", \"r\": [10, 129, 89, 95, 298], \"showlegend\": true, \"theta\": [\"cluster_1\", \"cluster_2\", \"cluster_3\", \"cluster_4\", \"cluster_5\"], \"type\": \"barpolar\", \"uid\": \"167e4151-c923-4f30-8530-3f3358cfbe9d\"}], {\"barmode\": \"group\", \"barnorm\": \"\", \"height\": 600, \"legend\": {\"tracegroupgap\": 0}, \"margin\": {\"t\": 60}, \"template\": {\"data\": {\"barpolar\": [{\"marker\": {\"line\": {\"color\": \"#E5ECF6\", \"width\": 0.5}}, \"type\": \"barpolar\"}], \"bar\": [{\"marker\": {\"line\": {\"color\": \"#E5ECF6\", \"width\": 0.5}}, \"type\": \"bar\"}], \"carpet\": [{\"aaxis\": {\"endlinecolor\": \"#2a3f5f\", \"gridcolor\": \"white\", \"linecolor\": \"white\", \"minorgridcolor\": \"white\", \"startlinecolor\": \"#2a3f5f\"}, \"baxis\": {\"endlinecolor\": \"#2a3f5f\", \"gridcolor\": \"white\", \"linecolor\": \"white\", \"minorgridcolor\": \"white\", \"startlinecolor\": \"#2a3f5f\"}, \"type\": \"carpet\"}], \"choropleth\": [{\"colorbar\": {\"outlinewidth\": 0, \"ticks\": \"\"}, \"type\": \"choropleth\"}], \"contourcarpet\": [{\"colorbar\": {\"outlinewidth\": 0, \"ticks\": \"\"}, \"type\": \"contourcarpet\"}], \"contour\": [{\"autocolorscale\": true, \"colorbar\": {\"outlinewidth\": 0, \"ticks\": \"\"}, \"type\": \"contour\"}], \"heatmapgl\": [{\"colorbar\": {\"outlinewidth\": 0, \"ticks\": \"\"}, \"type\": \"heatmapgl\"}], \"heatmap\": [{\"autocolorscale\": true, \"colorbar\": {\"outlinewidth\": 0, \"ticks\": \"\"}, \"type\": \"heatmap\"}], \"histogram2dcontour\": [{\"autocolorscale\": true, \"colorbar\": {\"outlinewidth\": 0, \"ticks\": \"\"}, \"type\": \"histogram2dcontour\"}], \"histogram2d\": [{\"autocolorscale\": true, \"colorbar\": {\"outlinewidth\": 0, \"ticks\": \"\"}, \"type\": \"histogram2d\"}], \"histogram\": [{\"marker\": {\"colorbar\": {\"outlinewidth\": 0, \"ticks\": \"\"}}, \"type\": \"histogram\"}], \"mesh3d\": [{\"colorbar\": {\"outlinewidth\": 0, \"ticks\": \"\"}, \"type\": \"mesh3d\"}], \"parcoords\": [{\"line\": {\"colorbar\": {\"outlinewidth\": 0, \"ticks\": \"\"}}, \"type\": \"parcoords\"}], \"scatter3d\": [{\"marker\": {\"colorbar\": {\"outlinewidth\": 0, \"ticks\": \"\"}}, \"type\": \"scatter3d\"}], \"scattercarpet\": [{\"marker\": {\"colorbar\": {\"outlinewidth\": 0, \"ticks\": \"\"}}, \"type\": \"scattercarpet\"}], \"scattergeo\": [{\"marker\": {\"colorbar\": {\"outlinewidth\": 0, \"ticks\": \"\"}}, \"type\": \"scattergeo\"}], \"scattergl\": [{\"marker\": {\"colorbar\": {\"outlinewidth\": 0, \"ticks\": \"\"}}, \"type\": \"scattergl\"}], \"scattermapbox\": [{\"marker\": {\"colorbar\": {\"outlinewidth\": 0, \"ticks\": \"\"}}, \"type\": \"scattermapbox\"}], \"scatterpolargl\": [{\"marker\": {\"colorbar\": {\"outlinewidth\": 0, \"ticks\": \"\"}}, \"type\": \"scatterpolargl\"}], \"scatterpolar\": [{\"marker\": {\"colorbar\": {\"outlinewidth\": 0, \"ticks\": \"\"}}, \"type\": \"scatterpolar\"}], \"scatter\": [{\"marker\": {\"colorbar\": {\"outlinewidth\": 0, \"ticks\": \"\"}}, \"type\": \"scatter\"}], \"scatterternary\": [{\"marker\": {\"colorbar\": {\"outlinewidth\": 0, \"ticks\": \"\"}}, \"type\": \"scatterternary\"}], \"surface\": [{\"colorbar\": {\"outlinewidth\": 0, \"ticks\": \"\"}, \"type\": \"surface\"}], \"table\": [{\"cells\": {\"fill\": {\"color\": \"#EBF0F8\"}, \"line\": {\"color\": \"white\"}}, \"header\": {\"fill\": {\"color\": \"#C8D4E3\"}, \"line\": {\"color\": \"white\"}}, \"type\": \"table\"}]}, \"layout\": {\"annotationdefaults\": {\"arrowcolor\": \"#506784\", \"arrowhead\": 0, \"arrowwidth\": 1}, \"colorscale\": {\"diverging\": [[0, \"#8e0152\"], [0.1, \"#c51b7d\"], [0.2, \"#de77ae\"], [0.3, \"#f1b6da\"], [0.4, \"#fde0ef\"], [0.5, \"#f7f7f7\"], [0.6, \"#e6f5d0\"], [0.7, \"#b8e186\"], [0.8, \"#7fbc41\"], [0.9, \"#4d9221\"], [1, \"#276419\"]], \"sequential\": [[0.0, \"#0508b8\"], [0.0893854748603352, \"#1910d8\"], [0.1787709497206704, \"#3c19f0\"], [0.2681564245810056, \"#6b1cfb\"], [0.3575418994413408, \"#981cfd\"], [0.44692737430167595, \"#bf1cfd\"], [0.5363128491620112, \"#dd2bfd\"], [0.6256983240223464, \"#f246fe\"], [0.7150837988826816, \"#fc67fd\"], [0.8044692737430168, \"#fe88fc\"], [0.8938547486033519, \"#fea5fd\"], [0.9832402234636871, \"#febefe\"], [1.0, \"#fec3fe\"]], \"sequentialminus\": [[0.0, \"#0508b8\"], [0.0893854748603352, \"#1910d8\"], [0.1787709497206704, \"#3c19f0\"], [0.2681564245810056, \"#6b1cfb\"], [0.3575418994413408, \"#981cfd\"], [0.44692737430167595, \"#bf1cfd\"], [0.5363128491620112, \"#dd2bfd\"], [0.6256983240223464, \"#f246fe\"], [0.7150837988826816, \"#fc67fd\"], [0.8044692737430168, \"#fe88fc\"], [0.8938547486033519, \"#fea5fd\"], [0.9832402234636871, \"#febefe\"], [1.0, \"#fec3fe\"]]}, \"colorway\": [\"#636efa\", \"#EF553B\", \"#00cc96\", \"#ab63fa\", \"#19d3f3\", \"#e763fa\", \"#FECB52\", \"#FFA15A\", \"#FF6692\", \"#B6E880\"], \"font\": {\"color\": \"#2a3f5f\"}, \"geo\": {\"bgcolor\": \"white\", \"lakecolor\": \"white\", \"landcolor\": \"#E5ECF6\", \"showlakes\": true, \"showland\": true, \"subunitcolor\": \"white\"}, \"hovermode\": \"closest\", \"mapbox\": {\"style\": \"light\"}, \"paper_bgcolor\": \"white\", \"plot_bgcolor\": \"#E5ECF6\", \"polar\": {\"angularaxis\": {\"gridcolor\": \"white\", \"linecolor\": \"white\", \"ticks\": \"\"}, \"bgcolor\": \"#E5ECF6\", \"radialaxis\": {\"gridcolor\": \"white\", \"linecolor\": \"white\", \"ticks\": \"\"}}, \"scene\": {\"xaxis\": {\"backgroundcolor\": \"#E5ECF6\", \"gridcolor\": \"white\", \"gridwidth\": 2, \"linecolor\": \"white\", \"showbackground\": true, \"ticks\": \"\", \"zerolinecolor\": \"white\"}, \"yaxis\": {\"backgroundcolor\": \"#E5ECF6\", \"gridcolor\": \"white\", \"gridwidth\": 2, \"linecolor\": \"white\", \"showbackground\": true, \"ticks\": \"\", \"zerolinecolor\": \"white\"}, \"zaxis\": {\"backgroundcolor\": \"#E5ECF6\", \"gridcolor\": \"white\", \"gridwidth\": 2, \"linecolor\": \"white\", \"showbackground\": true, \"ticks\": \"\", \"zerolinecolor\": \"white\"}}, \"shapedefaults\": {\"fillcolor\": \"#506784\", \"line\": {\"width\": 0}, \"opacity\": 0.4}, \"ternary\": {\"aaxis\": {\"gridcolor\": \"white\", \"linecolor\": \"white\", \"ticks\": \"\"}, \"baxis\": {\"gridcolor\": \"white\", \"linecolor\": \"white\", \"ticks\": \"\"}, \"bgcolor\": \"#E5ECF6\", \"caxis\": {\"gridcolor\": \"white\", \"linecolor\": \"white\", \"ticks\": \"\"}}, \"title\": {\"x\": 0.05}, \"xaxis\": {\"automargin\": true, \"gridcolor\": \"white\", \"linecolor\": \"white\", \"ticks\": \"\", \"zerolinecolor\": \"white\", \"zerolinewidth\": 2}, \"yaxis\": {\"automargin\": true, \"gridcolor\": \"white\", \"linecolor\": \"white\", \"ticks\": \"\", \"zerolinecolor\": \"white\", \"zerolinewidth\": 2}}}, \"polar\": {\"angularaxis\": {\"direction\": \"clockwise\", \"rotation\": 90}}}, {\"showLink\": false, \"linkText\": \"Export to plot.ly\", \"plotlyServerURL\": \"https://plot.ly\"}); \n",
       "}\n",
       "});</script><script type=\"text/javascript\">window.addEventListener(\"resize\", function(){if (document.getElementById(\"320898e5-078f-4eb7-a137-641af971daed\")) {window._Plotly.Plots.resize(document.getElementById(\"320898e5-078f-4eb7-a137-641af971daed\"));};})</script>"
      ]
     },
     "metadata": {},
     "output_type": "display_data"
    },
    {
     "name": "stdout",
     "output_type": "stream",
     "text": [
      "Comparando la pregunta ¿Qué tipo de aplicaciones utilizas en tu ordenador/tableta/móvil? (Respuesta múltiple) [5. Aplicaciones de vídeo (Youtube, Vimeo, etc.).]\n"
     ]
    },
    {
     "data": {
      "application/vnd.plotly.v1+json": {
       "config": {
        "linkText": "Export to plot.ly",
        "plotlyServerURL": "https://plot.ly",
        "showLink": false
       },
       "data": [
        {
         "hovertemplate": "¿Qué tipo de aplicaciones utilizas en tu ordenador/tableta/móvil? (Respuesta múltiple) [5. Aplicaciones de vídeo (Youtube, Vimeo, etc.).]=No<br>counts=%{r}<br>prosume_cluster=%{theta}<extra></extra>",
         "legendgroup": "¿Qué tipo de aplicaciones utilizas en tu ordenador/tableta/móvil? (Respuesta múltiple) [5. Aplicaciones de vídeo (Youtube, Vimeo, etc.).]=No",
         "marker": {
          "color": "rgb(213,62,79)"
         },
         "name": "¿Qué tipo de aplicaciones utilizas en tu ordenador/tableta/móvil? (Respuesta múltiple) [5. Aplicaciones de vídeo (Youtube, Vimeo, etc.).]=No",
         "r": [
          33,
          89,
          46,
          7,
          38
         ],
         "showlegend": true,
         "theta": [
          "cluster_1",
          "cluster_2",
          "cluster_3",
          "cluster_4",
          "cluster_5"
         ],
         "type": "barpolar",
         "uid": "249b0757-632d-441a-8c52-e6b030ac81f2"
        },
        {
         "hovertemplate": "¿Qué tipo de aplicaciones utilizas en tu ordenador/tableta/móvil? (Respuesta múltiple) [5. Aplicaciones de vídeo (Youtube, Vimeo, etc.).]=Sí<br>counts=%{r}<br>prosume_cluster=%{theta}<extra></extra>",
         "legendgroup": "¿Qué tipo de aplicaciones utilizas en tu ordenador/tableta/móvil? (Respuesta múltiple) [5. Aplicaciones de vídeo (Youtube, Vimeo, etc.).]=Sí",
         "marker": {
          "color": "rgb(252,141,89)"
         },
         "name": "¿Qué tipo de aplicaciones utilizas en tu ordenador/tableta/móvil? (Respuesta múltiple) [5. Aplicaciones de vídeo (Youtube, Vimeo, etc.).]=Sí",
         "r": [
          4,
          107,
          54,
          91,
          298
         ],
         "showlegend": true,
         "theta": [
          "cluster_1",
          "cluster_2",
          "cluster_3",
          "cluster_4",
          "cluster_5"
         ],
         "type": "barpolar",
         "uid": "db784bf8-7daa-41f9-bc5d-2cefe887d3b8"
        }
       ],
       "layout": {
        "barmode": "group",
        "barnorm": "",
        "height": 600,
        "legend": {
         "tracegroupgap": 0
        },
        "margin": {
         "t": 60
        },
        "polar": {
         "angularaxis": {
          "direction": "clockwise",
          "rotation": 90
         }
        },
        "template": {
         "data": {
          "bar": [
           {
            "marker": {
             "line": {
              "color": "#E5ECF6",
              "width": 0.5
             }
            },
            "type": "bar"
           }
          ],
          "barpolar": [
           {
            "marker": {
             "line": {
              "color": "#E5ECF6",
              "width": 0.5
             }
            },
            "type": "barpolar"
           }
          ],
          "carpet": [
           {
            "aaxis": {
             "endlinecolor": "#2a3f5f",
             "gridcolor": "white",
             "linecolor": "white",
             "minorgridcolor": "white",
             "startlinecolor": "#2a3f5f"
            },
            "baxis": {
             "endlinecolor": "#2a3f5f",
             "gridcolor": "white",
             "linecolor": "white",
             "minorgridcolor": "white",
             "startlinecolor": "#2a3f5f"
            },
            "type": "carpet"
           }
          ],
          "choropleth": [
           {
            "colorbar": {
             "outlinewidth": 0,
             "ticks": ""
            },
            "type": "choropleth"
           }
          ],
          "contour": [
           {
            "autocolorscale": true,
            "colorbar": {
             "outlinewidth": 0,
             "ticks": ""
            },
            "type": "contour"
           }
          ],
          "contourcarpet": [
           {
            "colorbar": {
             "outlinewidth": 0,
             "ticks": ""
            },
            "type": "contourcarpet"
           }
          ],
          "heatmap": [
           {
            "autocolorscale": true,
            "colorbar": {
             "outlinewidth": 0,
             "ticks": ""
            },
            "type": "heatmap"
           }
          ],
          "heatmapgl": [
           {
            "colorbar": {
             "outlinewidth": 0,
             "ticks": ""
            },
            "type": "heatmapgl"
           }
          ],
          "histogram": [
           {
            "marker": {
             "colorbar": {
              "outlinewidth": 0,
              "ticks": ""
             }
            },
            "type": "histogram"
           }
          ],
          "histogram2d": [
           {
            "autocolorscale": true,
            "colorbar": {
             "outlinewidth": 0,
             "ticks": ""
            },
            "type": "histogram2d"
           }
          ],
          "histogram2dcontour": [
           {
            "autocolorscale": true,
            "colorbar": {
             "outlinewidth": 0,
             "ticks": ""
            },
            "type": "histogram2dcontour"
           }
          ],
          "mesh3d": [
           {
            "colorbar": {
             "outlinewidth": 0,
             "ticks": ""
            },
            "type": "mesh3d"
           }
          ],
          "parcoords": [
           {
            "line": {
             "colorbar": {
              "outlinewidth": 0,
              "ticks": ""
             }
            },
            "type": "parcoords"
           }
          ],
          "scatter": [
           {
            "marker": {
             "colorbar": {
              "outlinewidth": 0,
              "ticks": ""
             }
            },
            "type": "scatter"
           }
          ],
          "scatter3d": [
           {
            "marker": {
             "colorbar": {
              "outlinewidth": 0,
              "ticks": ""
             }
            },
            "type": "scatter3d"
           }
          ],
          "scattercarpet": [
           {
            "marker": {
             "colorbar": {
              "outlinewidth": 0,
              "ticks": ""
             }
            },
            "type": "scattercarpet"
           }
          ],
          "scattergeo": [
           {
            "marker": {
             "colorbar": {
              "outlinewidth": 0,
              "ticks": ""
             }
            },
            "type": "scattergeo"
           }
          ],
          "scattergl": [
           {
            "marker": {
             "colorbar": {
              "outlinewidth": 0,
              "ticks": ""
             }
            },
            "type": "scattergl"
           }
          ],
          "scattermapbox": [
           {
            "marker": {
             "colorbar": {
              "outlinewidth": 0,
              "ticks": ""
             }
            },
            "type": "scattermapbox"
           }
          ],
          "scatterpolar": [
           {
            "marker": {
             "colorbar": {
              "outlinewidth": 0,
              "ticks": ""
             }
            },
            "type": "scatterpolar"
           }
          ],
          "scatterpolargl": [
           {
            "marker": {
             "colorbar": {
              "outlinewidth": 0,
              "ticks": ""
             }
            },
            "type": "scatterpolargl"
           }
          ],
          "scatterternary": [
           {
            "marker": {
             "colorbar": {
              "outlinewidth": 0,
              "ticks": ""
             }
            },
            "type": "scatterternary"
           }
          ],
          "surface": [
           {
            "colorbar": {
             "outlinewidth": 0,
             "ticks": ""
            },
            "type": "surface"
           }
          ],
          "table": [
           {
            "cells": {
             "fill": {
              "color": "#EBF0F8"
             },
             "line": {
              "color": "white"
             }
            },
            "header": {
             "fill": {
              "color": "#C8D4E3"
             },
             "line": {
              "color": "white"
             }
            },
            "type": "table"
           }
          ]
         },
         "layout": {
          "annotationdefaults": {
           "arrowcolor": "#506784",
           "arrowhead": 0,
           "arrowwidth": 1
          },
          "colorscale": {
           "diverging": [
            [
             0,
             "#8e0152"
            ],
            [
             0.1,
             "#c51b7d"
            ],
            [
             0.2,
             "#de77ae"
            ],
            [
             0.3,
             "#f1b6da"
            ],
            [
             0.4,
             "#fde0ef"
            ],
            [
             0.5,
             "#f7f7f7"
            ],
            [
             0.6,
             "#e6f5d0"
            ],
            [
             0.7,
             "#b8e186"
            ],
            [
             0.8,
             "#7fbc41"
            ],
            [
             0.9,
             "#4d9221"
            ],
            [
             1,
             "#276419"
            ]
           ],
           "sequential": [
            [
             0,
             "#0508b8"
            ],
            [
             0.0893854748603352,
             "#1910d8"
            ],
            [
             0.1787709497206704,
             "#3c19f0"
            ],
            [
             0.2681564245810056,
             "#6b1cfb"
            ],
            [
             0.3575418994413408,
             "#981cfd"
            ],
            [
             0.44692737430167595,
             "#bf1cfd"
            ],
            [
             0.5363128491620112,
             "#dd2bfd"
            ],
            [
             0.6256983240223464,
             "#f246fe"
            ],
            [
             0.7150837988826816,
             "#fc67fd"
            ],
            [
             0.8044692737430168,
             "#fe88fc"
            ],
            [
             0.8938547486033519,
             "#fea5fd"
            ],
            [
             0.9832402234636871,
             "#febefe"
            ],
            [
             1,
             "#fec3fe"
            ]
           ],
           "sequentialminus": [
            [
             0,
             "#0508b8"
            ],
            [
             0.0893854748603352,
             "#1910d8"
            ],
            [
             0.1787709497206704,
             "#3c19f0"
            ],
            [
             0.2681564245810056,
             "#6b1cfb"
            ],
            [
             0.3575418994413408,
             "#981cfd"
            ],
            [
             0.44692737430167595,
             "#bf1cfd"
            ],
            [
             0.5363128491620112,
             "#dd2bfd"
            ],
            [
             0.6256983240223464,
             "#f246fe"
            ],
            [
             0.7150837988826816,
             "#fc67fd"
            ],
            [
             0.8044692737430168,
             "#fe88fc"
            ],
            [
             0.8938547486033519,
             "#fea5fd"
            ],
            [
             0.9832402234636871,
             "#febefe"
            ],
            [
             1,
             "#fec3fe"
            ]
           ]
          },
          "colorway": [
           "#636efa",
           "#EF553B",
           "#00cc96",
           "#ab63fa",
           "#19d3f3",
           "#e763fa",
           "#FECB52",
           "#FFA15A",
           "#FF6692",
           "#B6E880"
          ],
          "font": {
           "color": "#2a3f5f"
          },
          "geo": {
           "bgcolor": "white",
           "lakecolor": "white",
           "landcolor": "#E5ECF6",
           "showlakes": true,
           "showland": true,
           "subunitcolor": "white"
          },
          "hovermode": "closest",
          "mapbox": {
           "style": "light"
          },
          "paper_bgcolor": "white",
          "plot_bgcolor": "#E5ECF6",
          "polar": {
           "angularaxis": {
            "gridcolor": "white",
            "linecolor": "white",
            "ticks": ""
           },
           "bgcolor": "#E5ECF6",
           "radialaxis": {
            "gridcolor": "white",
            "linecolor": "white",
            "ticks": ""
           }
          },
          "scene": {
           "xaxis": {
            "backgroundcolor": "#E5ECF6",
            "gridcolor": "white",
            "gridwidth": 2,
            "linecolor": "white",
            "showbackground": true,
            "ticks": "",
            "zerolinecolor": "white"
           },
           "yaxis": {
            "backgroundcolor": "#E5ECF6",
            "gridcolor": "white",
            "gridwidth": 2,
            "linecolor": "white",
            "showbackground": true,
            "ticks": "",
            "zerolinecolor": "white"
           },
           "zaxis": {
            "backgroundcolor": "#E5ECF6",
            "gridcolor": "white",
            "gridwidth": 2,
            "linecolor": "white",
            "showbackground": true,
            "ticks": "",
            "zerolinecolor": "white"
           }
          },
          "shapedefaults": {
           "fillcolor": "#506784",
           "line": {
            "width": 0
           },
           "opacity": 0.4
          },
          "ternary": {
           "aaxis": {
            "gridcolor": "white",
            "linecolor": "white",
            "ticks": ""
           },
           "baxis": {
            "gridcolor": "white",
            "linecolor": "white",
            "ticks": ""
           },
           "bgcolor": "#E5ECF6",
           "caxis": {
            "gridcolor": "white",
            "linecolor": "white",
            "ticks": ""
           }
          },
          "title": {
           "x": 0.05
          },
          "xaxis": {
           "automargin": true,
           "gridcolor": "white",
           "linecolor": "white",
           "ticks": "",
           "zerolinecolor": "white",
           "zerolinewidth": 2
          },
          "yaxis": {
           "automargin": true,
           "gridcolor": "white",
           "linecolor": "white",
           "ticks": "",
           "zerolinecolor": "white",
           "zerolinewidth": 2
          }
         }
        }
       }
      },
      "text/html": [
       "<div id=\"f9106bd8-30ca-4324-8f7e-26da2ae9fa78\" style=\"height: 600px; width: 100%;\" class=\"plotly-graph-div\"></div><script type=\"text/javascript\">require([\"plotly\"], function(Plotly) { window.PLOTLYENV=window.PLOTLYENV || {};window.PLOTLYENV.BASE_URL=\"https://plot.ly\";\n",
       "if (document.getElementById(\"f9106bd8-30ca-4324-8f7e-26da2ae9fa78\")) {\n",
       "    Plotly.newPlot(\"f9106bd8-30ca-4324-8f7e-26da2ae9fa78\", [{\"hovertemplate\": \"\\u00bfQu\\u00e9 tipo de aplicaciones utilizas en tu ordenador/tableta/m\\u00f3vil? (Respuesta m\\u00faltiple) [5. Aplicaciones de v\\u00eddeo (Youtube, Vimeo, etc.).]=No<br>counts=%{r}<br>prosume_cluster=%{theta}<extra></extra>\", \"legendgroup\": \"\\u00bfQu\\u00e9 tipo de aplicaciones utilizas en tu ordenador/tableta/m\\u00f3vil? (Respuesta m\\u00faltiple) [5. Aplicaciones de v\\u00eddeo (Youtube, Vimeo, etc.).]=No\", \"marker\": {\"color\": \"rgb(213,62,79)\"}, \"name\": \"\\u00bfQu\\u00e9 tipo de aplicaciones utilizas en tu ordenador/tableta/m\\u00f3vil? (Respuesta m\\u00faltiple) [5. Aplicaciones de v\\u00eddeo (Youtube, Vimeo, etc.).]=No\", \"r\": [33, 89, 46, 7, 38], \"showlegend\": true, \"theta\": [\"cluster_1\", \"cluster_2\", \"cluster_3\", \"cluster_4\", \"cluster_5\"], \"type\": \"barpolar\", \"uid\": \"249b0757-632d-441a-8c52-e6b030ac81f2\"}, {\"hovertemplate\": \"\\u00bfQu\\u00e9 tipo de aplicaciones utilizas en tu ordenador/tableta/m\\u00f3vil? (Respuesta m\\u00faltiple) [5. Aplicaciones de v\\u00eddeo (Youtube, Vimeo, etc.).]=S\\u00ed<br>counts=%{r}<br>prosume_cluster=%{theta}<extra></extra>\", \"legendgroup\": \"\\u00bfQu\\u00e9 tipo de aplicaciones utilizas en tu ordenador/tableta/m\\u00f3vil? (Respuesta m\\u00faltiple) [5. Aplicaciones de v\\u00eddeo (Youtube, Vimeo, etc.).]=S\\u00ed\", \"marker\": {\"color\": \"rgb(252,141,89)\"}, \"name\": \"\\u00bfQu\\u00e9 tipo de aplicaciones utilizas en tu ordenador/tableta/m\\u00f3vil? (Respuesta m\\u00faltiple) [5. Aplicaciones de v\\u00eddeo (Youtube, Vimeo, etc.).]=S\\u00ed\", \"r\": [4, 107, 54, 91, 298], \"showlegend\": true, \"theta\": [\"cluster_1\", \"cluster_2\", \"cluster_3\", \"cluster_4\", \"cluster_5\"], \"type\": \"barpolar\", \"uid\": \"db784bf8-7daa-41f9-bc5d-2cefe887d3b8\"}], {\"barmode\": \"group\", \"barnorm\": \"\", \"height\": 600, \"legend\": {\"tracegroupgap\": 0}, \"margin\": {\"t\": 60}, \"template\": {\"data\": {\"barpolar\": [{\"marker\": {\"line\": {\"color\": \"#E5ECF6\", \"width\": 0.5}}, \"type\": \"barpolar\"}], \"bar\": [{\"marker\": {\"line\": {\"color\": \"#E5ECF6\", \"width\": 0.5}}, \"type\": \"bar\"}], \"carpet\": [{\"aaxis\": {\"endlinecolor\": \"#2a3f5f\", \"gridcolor\": \"white\", \"linecolor\": \"white\", \"minorgridcolor\": \"white\", \"startlinecolor\": \"#2a3f5f\"}, \"baxis\": {\"endlinecolor\": \"#2a3f5f\", \"gridcolor\": \"white\", \"linecolor\": \"white\", \"minorgridcolor\": \"white\", \"startlinecolor\": \"#2a3f5f\"}, \"type\": \"carpet\"}], \"choropleth\": [{\"colorbar\": {\"outlinewidth\": 0, \"ticks\": \"\"}, \"type\": \"choropleth\"}], \"contourcarpet\": [{\"colorbar\": {\"outlinewidth\": 0, \"ticks\": \"\"}, \"type\": \"contourcarpet\"}], \"contour\": [{\"autocolorscale\": true, \"colorbar\": {\"outlinewidth\": 0, \"ticks\": \"\"}, \"type\": \"contour\"}], \"heatmapgl\": [{\"colorbar\": {\"outlinewidth\": 0, \"ticks\": \"\"}, \"type\": \"heatmapgl\"}], \"heatmap\": [{\"autocolorscale\": true, \"colorbar\": {\"outlinewidth\": 0, \"ticks\": \"\"}, \"type\": \"heatmap\"}], \"histogram2dcontour\": [{\"autocolorscale\": true, \"colorbar\": {\"outlinewidth\": 0, \"ticks\": \"\"}, \"type\": \"histogram2dcontour\"}], \"histogram2d\": [{\"autocolorscale\": true, \"colorbar\": {\"outlinewidth\": 0, \"ticks\": \"\"}, \"type\": \"histogram2d\"}], \"histogram\": [{\"marker\": {\"colorbar\": {\"outlinewidth\": 0, \"ticks\": \"\"}}, \"type\": \"histogram\"}], \"mesh3d\": [{\"colorbar\": {\"outlinewidth\": 0, \"ticks\": \"\"}, \"type\": \"mesh3d\"}], \"parcoords\": [{\"line\": {\"colorbar\": {\"outlinewidth\": 0, \"ticks\": \"\"}}, \"type\": \"parcoords\"}], \"scatter3d\": [{\"marker\": {\"colorbar\": {\"outlinewidth\": 0, \"ticks\": \"\"}}, \"type\": \"scatter3d\"}], \"scattercarpet\": [{\"marker\": {\"colorbar\": {\"outlinewidth\": 0, \"ticks\": \"\"}}, \"type\": \"scattercarpet\"}], \"scattergeo\": [{\"marker\": {\"colorbar\": {\"outlinewidth\": 0, \"ticks\": \"\"}}, \"type\": \"scattergeo\"}], \"scattergl\": [{\"marker\": {\"colorbar\": {\"outlinewidth\": 0, \"ticks\": \"\"}}, \"type\": \"scattergl\"}], \"scattermapbox\": [{\"marker\": {\"colorbar\": {\"outlinewidth\": 0, \"ticks\": \"\"}}, \"type\": \"scattermapbox\"}], \"scatterpolargl\": [{\"marker\": {\"colorbar\": {\"outlinewidth\": 0, \"ticks\": \"\"}}, \"type\": \"scatterpolargl\"}], \"scatterpolar\": [{\"marker\": {\"colorbar\": {\"outlinewidth\": 0, \"ticks\": \"\"}}, \"type\": \"scatterpolar\"}], \"scatter\": [{\"marker\": {\"colorbar\": {\"outlinewidth\": 0, \"ticks\": \"\"}}, \"type\": \"scatter\"}], \"scatterternary\": [{\"marker\": {\"colorbar\": {\"outlinewidth\": 0, \"ticks\": \"\"}}, \"type\": \"scatterternary\"}], \"surface\": [{\"colorbar\": {\"outlinewidth\": 0, \"ticks\": \"\"}, \"type\": \"surface\"}], \"table\": [{\"cells\": {\"fill\": {\"color\": \"#EBF0F8\"}, \"line\": {\"color\": \"white\"}}, \"header\": {\"fill\": {\"color\": \"#C8D4E3\"}, \"line\": {\"color\": \"white\"}}, \"type\": \"table\"}]}, \"layout\": {\"annotationdefaults\": {\"arrowcolor\": \"#506784\", \"arrowhead\": 0, \"arrowwidth\": 1}, \"colorscale\": {\"diverging\": [[0, \"#8e0152\"], [0.1, \"#c51b7d\"], [0.2, \"#de77ae\"], [0.3, \"#f1b6da\"], [0.4, \"#fde0ef\"], [0.5, \"#f7f7f7\"], [0.6, \"#e6f5d0\"], [0.7, \"#b8e186\"], [0.8, \"#7fbc41\"], [0.9, \"#4d9221\"], [1, \"#276419\"]], \"sequential\": [[0.0, \"#0508b8\"], [0.0893854748603352, \"#1910d8\"], [0.1787709497206704, \"#3c19f0\"], [0.2681564245810056, \"#6b1cfb\"], [0.3575418994413408, \"#981cfd\"], [0.44692737430167595, \"#bf1cfd\"], [0.5363128491620112, \"#dd2bfd\"], [0.6256983240223464, \"#f246fe\"], [0.7150837988826816, \"#fc67fd\"], [0.8044692737430168, \"#fe88fc\"], [0.8938547486033519, \"#fea5fd\"], [0.9832402234636871, \"#febefe\"], [1.0, \"#fec3fe\"]], \"sequentialminus\": [[0.0, \"#0508b8\"], [0.0893854748603352, \"#1910d8\"], [0.1787709497206704, \"#3c19f0\"], [0.2681564245810056, \"#6b1cfb\"], [0.3575418994413408, \"#981cfd\"], [0.44692737430167595, \"#bf1cfd\"], [0.5363128491620112, \"#dd2bfd\"], [0.6256983240223464, \"#f246fe\"], [0.7150837988826816, \"#fc67fd\"], [0.8044692737430168, \"#fe88fc\"], [0.8938547486033519, \"#fea5fd\"], [0.9832402234636871, \"#febefe\"], [1.0, \"#fec3fe\"]]}, \"colorway\": [\"#636efa\", \"#EF553B\", \"#00cc96\", \"#ab63fa\", \"#19d3f3\", \"#e763fa\", \"#FECB52\", \"#FFA15A\", \"#FF6692\", \"#B6E880\"], \"font\": {\"color\": \"#2a3f5f\"}, \"geo\": {\"bgcolor\": \"white\", \"lakecolor\": \"white\", \"landcolor\": \"#E5ECF6\", \"showlakes\": true, \"showland\": true, \"subunitcolor\": \"white\"}, \"hovermode\": \"closest\", \"mapbox\": {\"style\": \"light\"}, \"paper_bgcolor\": \"white\", \"plot_bgcolor\": \"#E5ECF6\", \"polar\": {\"angularaxis\": {\"gridcolor\": \"white\", \"linecolor\": \"white\", \"ticks\": \"\"}, \"bgcolor\": \"#E5ECF6\", \"radialaxis\": {\"gridcolor\": \"white\", \"linecolor\": \"white\", \"ticks\": \"\"}}, \"scene\": {\"xaxis\": {\"backgroundcolor\": \"#E5ECF6\", \"gridcolor\": \"white\", \"gridwidth\": 2, \"linecolor\": \"white\", \"showbackground\": true, \"ticks\": \"\", \"zerolinecolor\": \"white\"}, \"yaxis\": {\"backgroundcolor\": \"#E5ECF6\", \"gridcolor\": \"white\", \"gridwidth\": 2, \"linecolor\": \"white\", \"showbackground\": true, \"ticks\": \"\", \"zerolinecolor\": \"white\"}, \"zaxis\": {\"backgroundcolor\": \"#E5ECF6\", \"gridcolor\": \"white\", \"gridwidth\": 2, \"linecolor\": \"white\", \"showbackground\": true, \"ticks\": \"\", \"zerolinecolor\": \"white\"}}, \"shapedefaults\": {\"fillcolor\": \"#506784\", \"line\": {\"width\": 0}, \"opacity\": 0.4}, \"ternary\": {\"aaxis\": {\"gridcolor\": \"white\", \"linecolor\": \"white\", \"ticks\": \"\"}, \"baxis\": {\"gridcolor\": \"white\", \"linecolor\": \"white\", \"ticks\": \"\"}, \"bgcolor\": \"#E5ECF6\", \"caxis\": {\"gridcolor\": \"white\", \"linecolor\": \"white\", \"ticks\": \"\"}}, \"title\": {\"x\": 0.05}, \"xaxis\": {\"automargin\": true, \"gridcolor\": \"white\", \"linecolor\": \"white\", \"ticks\": \"\", \"zerolinecolor\": \"white\", \"zerolinewidth\": 2}, \"yaxis\": {\"automargin\": true, \"gridcolor\": \"white\", \"linecolor\": \"white\", \"ticks\": \"\", \"zerolinecolor\": \"white\", \"zerolinewidth\": 2}}}, \"polar\": {\"angularaxis\": {\"direction\": \"clockwise\", \"rotation\": 90}}}, {\"showLink\": false, \"linkText\": \"Export to plot.ly\", \"plotlyServerURL\": \"https://plot.ly\"}); \n",
       "}\n",
       "});</script><script type=\"text/javascript\">window.addEventListener(\"resize\", function(){if (document.getElementById(\"f9106bd8-30ca-4324-8f7e-26da2ae9fa78\")) {window._Plotly.Plots.resize(document.getElementById(\"f9106bd8-30ca-4324-8f7e-26da2ae9fa78\"));};})</script>"
      ],
      "text/vnd.plotly.v1+html": [
       "<div id=\"f9106bd8-30ca-4324-8f7e-26da2ae9fa78\" style=\"height: 600px; width: 100%;\" class=\"plotly-graph-div\"></div><script type=\"text/javascript\">require([\"plotly\"], function(Plotly) { window.PLOTLYENV=window.PLOTLYENV || {};window.PLOTLYENV.BASE_URL=\"https://plot.ly\";\n",
       "if (document.getElementById(\"f9106bd8-30ca-4324-8f7e-26da2ae9fa78\")) {\n",
       "    Plotly.newPlot(\"f9106bd8-30ca-4324-8f7e-26da2ae9fa78\", [{\"hovertemplate\": \"\\u00bfQu\\u00e9 tipo de aplicaciones utilizas en tu ordenador/tableta/m\\u00f3vil? (Respuesta m\\u00faltiple) [5. Aplicaciones de v\\u00eddeo (Youtube, Vimeo, etc.).]=No<br>counts=%{r}<br>prosume_cluster=%{theta}<extra></extra>\", \"legendgroup\": \"\\u00bfQu\\u00e9 tipo de aplicaciones utilizas en tu ordenador/tableta/m\\u00f3vil? (Respuesta m\\u00faltiple) [5. Aplicaciones de v\\u00eddeo (Youtube, Vimeo, etc.).]=No\", \"marker\": {\"color\": \"rgb(213,62,79)\"}, \"name\": \"\\u00bfQu\\u00e9 tipo de aplicaciones utilizas en tu ordenador/tableta/m\\u00f3vil? (Respuesta m\\u00faltiple) [5. Aplicaciones de v\\u00eddeo (Youtube, Vimeo, etc.).]=No\", \"r\": [33, 89, 46, 7, 38], \"showlegend\": true, \"theta\": [\"cluster_1\", \"cluster_2\", \"cluster_3\", \"cluster_4\", \"cluster_5\"], \"type\": \"barpolar\", \"uid\": \"249b0757-632d-441a-8c52-e6b030ac81f2\"}, {\"hovertemplate\": \"\\u00bfQu\\u00e9 tipo de aplicaciones utilizas en tu ordenador/tableta/m\\u00f3vil? (Respuesta m\\u00faltiple) [5. Aplicaciones de v\\u00eddeo (Youtube, Vimeo, etc.).]=S\\u00ed<br>counts=%{r}<br>prosume_cluster=%{theta}<extra></extra>\", \"legendgroup\": \"\\u00bfQu\\u00e9 tipo de aplicaciones utilizas en tu ordenador/tableta/m\\u00f3vil? (Respuesta m\\u00faltiple) [5. Aplicaciones de v\\u00eddeo (Youtube, Vimeo, etc.).]=S\\u00ed\", \"marker\": {\"color\": \"rgb(252,141,89)\"}, \"name\": \"\\u00bfQu\\u00e9 tipo de aplicaciones utilizas en tu ordenador/tableta/m\\u00f3vil? (Respuesta m\\u00faltiple) [5. Aplicaciones de v\\u00eddeo (Youtube, Vimeo, etc.).]=S\\u00ed\", \"r\": [4, 107, 54, 91, 298], \"showlegend\": true, \"theta\": [\"cluster_1\", \"cluster_2\", \"cluster_3\", \"cluster_4\", \"cluster_5\"], \"type\": \"barpolar\", \"uid\": \"db784bf8-7daa-41f9-bc5d-2cefe887d3b8\"}], {\"barmode\": \"group\", \"barnorm\": \"\", \"height\": 600, \"legend\": {\"tracegroupgap\": 0}, \"margin\": {\"t\": 60}, \"template\": {\"data\": {\"barpolar\": [{\"marker\": {\"line\": {\"color\": \"#E5ECF6\", \"width\": 0.5}}, \"type\": \"barpolar\"}], \"bar\": [{\"marker\": {\"line\": {\"color\": \"#E5ECF6\", \"width\": 0.5}}, \"type\": \"bar\"}], \"carpet\": [{\"aaxis\": {\"endlinecolor\": \"#2a3f5f\", \"gridcolor\": \"white\", \"linecolor\": \"white\", \"minorgridcolor\": \"white\", \"startlinecolor\": \"#2a3f5f\"}, \"baxis\": {\"endlinecolor\": \"#2a3f5f\", \"gridcolor\": \"white\", \"linecolor\": \"white\", \"minorgridcolor\": \"white\", \"startlinecolor\": \"#2a3f5f\"}, \"type\": \"carpet\"}], \"choropleth\": [{\"colorbar\": {\"outlinewidth\": 0, \"ticks\": \"\"}, \"type\": \"choropleth\"}], \"contourcarpet\": [{\"colorbar\": {\"outlinewidth\": 0, \"ticks\": \"\"}, \"type\": \"contourcarpet\"}], \"contour\": [{\"autocolorscale\": true, \"colorbar\": {\"outlinewidth\": 0, \"ticks\": \"\"}, \"type\": \"contour\"}], \"heatmapgl\": [{\"colorbar\": {\"outlinewidth\": 0, \"ticks\": \"\"}, \"type\": \"heatmapgl\"}], \"heatmap\": [{\"autocolorscale\": true, \"colorbar\": {\"outlinewidth\": 0, \"ticks\": \"\"}, \"type\": \"heatmap\"}], \"histogram2dcontour\": [{\"autocolorscale\": true, \"colorbar\": {\"outlinewidth\": 0, \"ticks\": \"\"}, \"type\": \"histogram2dcontour\"}], \"histogram2d\": [{\"autocolorscale\": true, \"colorbar\": {\"outlinewidth\": 0, \"ticks\": \"\"}, \"type\": \"histogram2d\"}], \"histogram\": [{\"marker\": {\"colorbar\": {\"outlinewidth\": 0, \"ticks\": \"\"}}, \"type\": \"histogram\"}], \"mesh3d\": [{\"colorbar\": {\"outlinewidth\": 0, \"ticks\": \"\"}, \"type\": \"mesh3d\"}], \"parcoords\": [{\"line\": {\"colorbar\": {\"outlinewidth\": 0, \"ticks\": \"\"}}, \"type\": \"parcoords\"}], \"scatter3d\": [{\"marker\": {\"colorbar\": {\"outlinewidth\": 0, \"ticks\": \"\"}}, \"type\": \"scatter3d\"}], \"scattercarpet\": [{\"marker\": {\"colorbar\": {\"outlinewidth\": 0, \"ticks\": \"\"}}, \"type\": \"scattercarpet\"}], \"scattergeo\": [{\"marker\": {\"colorbar\": {\"outlinewidth\": 0, \"ticks\": \"\"}}, \"type\": \"scattergeo\"}], \"scattergl\": [{\"marker\": {\"colorbar\": {\"outlinewidth\": 0, \"ticks\": \"\"}}, \"type\": \"scattergl\"}], \"scattermapbox\": [{\"marker\": {\"colorbar\": {\"outlinewidth\": 0, \"ticks\": \"\"}}, \"type\": \"scattermapbox\"}], \"scatterpolargl\": [{\"marker\": {\"colorbar\": {\"outlinewidth\": 0, \"ticks\": \"\"}}, \"type\": \"scatterpolargl\"}], \"scatterpolar\": [{\"marker\": {\"colorbar\": {\"outlinewidth\": 0, \"ticks\": \"\"}}, \"type\": \"scatterpolar\"}], \"scatter\": [{\"marker\": {\"colorbar\": {\"outlinewidth\": 0, \"ticks\": \"\"}}, \"type\": \"scatter\"}], \"scatterternary\": [{\"marker\": {\"colorbar\": {\"outlinewidth\": 0, \"ticks\": \"\"}}, \"type\": \"scatterternary\"}], \"surface\": [{\"colorbar\": {\"outlinewidth\": 0, \"ticks\": \"\"}, \"type\": \"surface\"}], \"table\": [{\"cells\": {\"fill\": {\"color\": \"#EBF0F8\"}, \"line\": {\"color\": \"white\"}}, \"header\": {\"fill\": {\"color\": \"#C8D4E3\"}, \"line\": {\"color\": \"white\"}}, \"type\": \"table\"}]}, \"layout\": {\"annotationdefaults\": {\"arrowcolor\": \"#506784\", \"arrowhead\": 0, \"arrowwidth\": 1}, \"colorscale\": {\"diverging\": [[0, \"#8e0152\"], [0.1, \"#c51b7d\"], [0.2, \"#de77ae\"], [0.3, \"#f1b6da\"], [0.4, \"#fde0ef\"], [0.5, \"#f7f7f7\"], [0.6, \"#e6f5d0\"], [0.7, \"#b8e186\"], [0.8, \"#7fbc41\"], [0.9, \"#4d9221\"], [1, \"#276419\"]], \"sequential\": [[0.0, \"#0508b8\"], [0.0893854748603352, \"#1910d8\"], [0.1787709497206704, \"#3c19f0\"], [0.2681564245810056, \"#6b1cfb\"], [0.3575418994413408, \"#981cfd\"], [0.44692737430167595, \"#bf1cfd\"], [0.5363128491620112, \"#dd2bfd\"], [0.6256983240223464, \"#f246fe\"], [0.7150837988826816, \"#fc67fd\"], [0.8044692737430168, \"#fe88fc\"], [0.8938547486033519, \"#fea5fd\"], [0.9832402234636871, \"#febefe\"], [1.0, \"#fec3fe\"]], \"sequentialminus\": [[0.0, \"#0508b8\"], [0.0893854748603352, \"#1910d8\"], [0.1787709497206704, \"#3c19f0\"], [0.2681564245810056, \"#6b1cfb\"], [0.3575418994413408, \"#981cfd\"], [0.44692737430167595, \"#bf1cfd\"], [0.5363128491620112, \"#dd2bfd\"], [0.6256983240223464, \"#f246fe\"], [0.7150837988826816, \"#fc67fd\"], [0.8044692737430168, \"#fe88fc\"], [0.8938547486033519, \"#fea5fd\"], [0.9832402234636871, \"#febefe\"], [1.0, \"#fec3fe\"]]}, \"colorway\": [\"#636efa\", \"#EF553B\", \"#00cc96\", \"#ab63fa\", \"#19d3f3\", \"#e763fa\", \"#FECB52\", \"#FFA15A\", \"#FF6692\", \"#B6E880\"], \"font\": {\"color\": \"#2a3f5f\"}, \"geo\": {\"bgcolor\": \"white\", \"lakecolor\": \"white\", \"landcolor\": \"#E5ECF6\", \"showlakes\": true, \"showland\": true, \"subunitcolor\": \"white\"}, \"hovermode\": \"closest\", \"mapbox\": {\"style\": \"light\"}, \"paper_bgcolor\": \"white\", \"plot_bgcolor\": \"#E5ECF6\", \"polar\": {\"angularaxis\": {\"gridcolor\": \"white\", \"linecolor\": \"white\", \"ticks\": \"\"}, \"bgcolor\": \"#E5ECF6\", \"radialaxis\": {\"gridcolor\": \"white\", \"linecolor\": \"white\", \"ticks\": \"\"}}, \"scene\": {\"xaxis\": {\"backgroundcolor\": \"#E5ECF6\", \"gridcolor\": \"white\", \"gridwidth\": 2, \"linecolor\": \"white\", \"showbackground\": true, \"ticks\": \"\", \"zerolinecolor\": \"white\"}, \"yaxis\": {\"backgroundcolor\": \"#E5ECF6\", \"gridcolor\": \"white\", \"gridwidth\": 2, \"linecolor\": \"white\", \"showbackground\": true, \"ticks\": \"\", \"zerolinecolor\": \"white\"}, \"zaxis\": {\"backgroundcolor\": \"#E5ECF6\", \"gridcolor\": \"white\", \"gridwidth\": 2, \"linecolor\": \"white\", \"showbackground\": true, \"ticks\": \"\", \"zerolinecolor\": \"white\"}}, \"shapedefaults\": {\"fillcolor\": \"#506784\", \"line\": {\"width\": 0}, \"opacity\": 0.4}, \"ternary\": {\"aaxis\": {\"gridcolor\": \"white\", \"linecolor\": \"white\", \"ticks\": \"\"}, \"baxis\": {\"gridcolor\": \"white\", \"linecolor\": \"white\", \"ticks\": \"\"}, \"bgcolor\": \"#E5ECF6\", \"caxis\": {\"gridcolor\": \"white\", \"linecolor\": \"white\", \"ticks\": \"\"}}, \"title\": {\"x\": 0.05}, \"xaxis\": {\"automargin\": true, \"gridcolor\": \"white\", \"linecolor\": \"white\", \"ticks\": \"\", \"zerolinecolor\": \"white\", \"zerolinewidth\": 2}, \"yaxis\": {\"automargin\": true, \"gridcolor\": \"white\", \"linecolor\": \"white\", \"ticks\": \"\", \"zerolinecolor\": \"white\", \"zerolinewidth\": 2}}}, \"polar\": {\"angularaxis\": {\"direction\": \"clockwise\", \"rotation\": 90}}}, {\"showLink\": false, \"linkText\": \"Export to plot.ly\", \"plotlyServerURL\": \"https://plot.ly\"}); \n",
       "}\n",
       "});</script><script type=\"text/javascript\">window.addEventListener(\"resize\", function(){if (document.getElementById(\"f9106bd8-30ca-4324-8f7e-26da2ae9fa78\")) {window._Plotly.Plots.resize(document.getElementById(\"f9106bd8-30ca-4324-8f7e-26da2ae9fa78\"));};})</script>"
      ]
     },
     "metadata": {},
     "output_type": "display_data"
    },
    {
     "name": "stdout",
     "output_type": "stream",
     "text": [
      "Comparando la pregunta Durante ese uso, ¿cuántas imágenes consumes (ves y compartes)?\n"
     ]
    },
    {
     "data": {
      "application/vnd.plotly.v1+json": {
       "config": {
        "linkText": "Export to plot.ly",
        "plotlyServerURL": "https://plot.ly",
        "showLink": false
       },
       "data": [
        {
         "hovertemplate": "Durante ese uso, ¿cuántas imágenes consumes (ves y compartes)?=1. Ninguna<br>counts=%{r}<br>prosume_cluster=%{theta}<extra></extra>",
         "legendgroup": "Durante ese uso, ¿cuántas imágenes consumes (ves y compartes)?=1. Ninguna",
         "marker": {
          "color": "rgb(213,62,79)"
         },
         "name": "Durante ese uso, ¿cuántas imágenes consumes (ves y compartes)?=1. Ninguna",
         "r": [
          1,
          6,
          1
         ],
         "showlegend": true,
         "theta": [
          "cluster_1",
          "cluster_2",
          "cluster_3"
         ],
         "type": "barpolar",
         "uid": "8c6c14ec-4e44-43fa-a343-d7fb8d6428d8"
        },
        {
         "hovertemplate": "Durante ese uso, ¿cuántas imágenes consumes (ves y compartes)?=2. Pocas<br>counts=%{r}<br>prosume_cluster=%{theta}<extra></extra>",
         "legendgroup": "Durante ese uso, ¿cuántas imágenes consumes (ves y compartes)?=2. Pocas",
         "marker": {
          "color": "rgb(252,141,89)"
         },
         "name": "Durante ese uso, ¿cuántas imágenes consumes (ves y compartes)?=2. Pocas",
         "r": [
          8,
          39,
          3,
          2,
          10
         ],
         "showlegend": true,
         "theta": [
          "cluster_1",
          "cluster_2",
          "cluster_3",
          "cluster_4",
          "cluster_5"
         ],
         "type": "barpolar",
         "uid": "96112385-06e6-48ac-9068-063e94adb660"
        },
        {
         "hovertemplate": "Durante ese uso, ¿cuántas imágenes consumes (ves y compartes)?=3. Ni muchas ni pocas<br>counts=%{r}<br>prosume_cluster=%{theta}<extra></extra>",
         "legendgroup": "Durante ese uso, ¿cuántas imágenes consumes (ves y compartes)?=3. Ni muchas ni pocas",
         "marker": {
          "color": "rgb(254,224,139)"
         },
         "name": "Durante ese uso, ¿cuántas imágenes consumes (ves y compartes)?=3. Ni muchas ni pocas",
         "r": [
          16,
          56,
          7,
          15,
          41
         ],
         "showlegend": true,
         "theta": [
          "cluster_1",
          "cluster_2",
          "cluster_3",
          "cluster_4",
          "cluster_5"
         ],
         "type": "barpolar",
         "uid": "51d2d7b8-cd25-4cf0-ac98-9ac97dd51da2"
        },
        {
         "hovertemplate": "Durante ese uso, ¿cuántas imágenes consumes (ves y compartes)?=4. Bastantes<br>counts=%{r}<br>prosume_cluster=%{theta}<extra></extra>",
         "legendgroup": "Durante ese uso, ¿cuántas imágenes consumes (ves y compartes)?=4. Bastantes",
         "marker": {
          "color": "rgb(230,245,152)"
         },
         "name": "Durante ese uso, ¿cuántas imágenes consumes (ves y compartes)?=4. Bastantes",
         "r": [
          11,
          77,
          61,
          52,
          190
         ],
         "showlegend": true,
         "theta": [
          "cluster_1",
          "cluster_2",
          "cluster_3",
          "cluster_4",
          "cluster_5"
         ],
         "type": "barpolar",
         "uid": "6b4f3675-8b27-4eb3-b451-7af8dcae1328"
        },
        {
         "hovertemplate": "Durante ese uso, ¿cuántas imágenes consumes (ves y compartes)?=5. Recibo y envio imágenes de forma constante<br>counts=%{r}<br>prosume_cluster=%{theta}<extra></extra>",
         "legendgroup": "Durante ese uso, ¿cuántas imágenes consumes (ves y compartes)?=5. Recibo y envio imágenes de forma constante",
         "marker": {
          "color": "rgb(153,213,148)"
         },
         "name": "Durante ese uso, ¿cuántas imágenes consumes (ves y compartes)?=5. Recibo y envio imágenes de forma constante",
         "r": [
          1,
          18,
          28,
          29,
          95
         ],
         "showlegend": true,
         "theta": [
          "cluster_1",
          "cluster_2",
          "cluster_3",
          "cluster_4",
          "cluster_5"
         ],
         "type": "barpolar",
         "uid": "f1f977b0-b5b4-4a57-8a7c-0f8844ab3f71"
        }
       ],
       "layout": {
        "barmode": "group",
        "barnorm": "",
        "height": 600,
        "legend": {
         "tracegroupgap": 0
        },
        "margin": {
         "t": 60
        },
        "polar": {
         "angularaxis": {
          "direction": "clockwise",
          "rotation": 90
         }
        },
        "template": {
         "data": {
          "bar": [
           {
            "marker": {
             "line": {
              "color": "#E5ECF6",
              "width": 0.5
             }
            },
            "type": "bar"
           }
          ],
          "barpolar": [
           {
            "marker": {
             "line": {
              "color": "#E5ECF6",
              "width": 0.5
             }
            },
            "type": "barpolar"
           }
          ],
          "carpet": [
           {
            "aaxis": {
             "endlinecolor": "#2a3f5f",
             "gridcolor": "white",
             "linecolor": "white",
             "minorgridcolor": "white",
             "startlinecolor": "#2a3f5f"
            },
            "baxis": {
             "endlinecolor": "#2a3f5f",
             "gridcolor": "white",
             "linecolor": "white",
             "minorgridcolor": "white",
             "startlinecolor": "#2a3f5f"
            },
            "type": "carpet"
           }
          ],
          "choropleth": [
           {
            "colorbar": {
             "outlinewidth": 0,
             "ticks": ""
            },
            "type": "choropleth"
           }
          ],
          "contour": [
           {
            "autocolorscale": true,
            "colorbar": {
             "outlinewidth": 0,
             "ticks": ""
            },
            "type": "contour"
           }
          ],
          "contourcarpet": [
           {
            "colorbar": {
             "outlinewidth": 0,
             "ticks": ""
            },
            "type": "contourcarpet"
           }
          ],
          "heatmap": [
           {
            "autocolorscale": true,
            "colorbar": {
             "outlinewidth": 0,
             "ticks": ""
            },
            "type": "heatmap"
           }
          ],
          "heatmapgl": [
           {
            "colorbar": {
             "outlinewidth": 0,
             "ticks": ""
            },
            "type": "heatmapgl"
           }
          ],
          "histogram": [
           {
            "marker": {
             "colorbar": {
              "outlinewidth": 0,
              "ticks": ""
             }
            },
            "type": "histogram"
           }
          ],
          "histogram2d": [
           {
            "autocolorscale": true,
            "colorbar": {
             "outlinewidth": 0,
             "ticks": ""
            },
            "type": "histogram2d"
           }
          ],
          "histogram2dcontour": [
           {
            "autocolorscale": true,
            "colorbar": {
             "outlinewidth": 0,
             "ticks": ""
            },
            "type": "histogram2dcontour"
           }
          ],
          "mesh3d": [
           {
            "colorbar": {
             "outlinewidth": 0,
             "ticks": ""
            },
            "type": "mesh3d"
           }
          ],
          "parcoords": [
           {
            "line": {
             "colorbar": {
              "outlinewidth": 0,
              "ticks": ""
             }
            },
            "type": "parcoords"
           }
          ],
          "scatter": [
           {
            "marker": {
             "colorbar": {
              "outlinewidth": 0,
              "ticks": ""
             }
            },
            "type": "scatter"
           }
          ],
          "scatter3d": [
           {
            "marker": {
             "colorbar": {
              "outlinewidth": 0,
              "ticks": ""
             }
            },
            "type": "scatter3d"
           }
          ],
          "scattercarpet": [
           {
            "marker": {
             "colorbar": {
              "outlinewidth": 0,
              "ticks": ""
             }
            },
            "type": "scattercarpet"
           }
          ],
          "scattergeo": [
           {
            "marker": {
             "colorbar": {
              "outlinewidth": 0,
              "ticks": ""
             }
            },
            "type": "scattergeo"
           }
          ],
          "scattergl": [
           {
            "marker": {
             "colorbar": {
              "outlinewidth": 0,
              "ticks": ""
             }
            },
            "type": "scattergl"
           }
          ],
          "scattermapbox": [
           {
            "marker": {
             "colorbar": {
              "outlinewidth": 0,
              "ticks": ""
             }
            },
            "type": "scattermapbox"
           }
          ],
          "scatterpolar": [
           {
            "marker": {
             "colorbar": {
              "outlinewidth": 0,
              "ticks": ""
             }
            },
            "type": "scatterpolar"
           }
          ],
          "scatterpolargl": [
           {
            "marker": {
             "colorbar": {
              "outlinewidth": 0,
              "ticks": ""
             }
            },
            "type": "scatterpolargl"
           }
          ],
          "scatterternary": [
           {
            "marker": {
             "colorbar": {
              "outlinewidth": 0,
              "ticks": ""
             }
            },
            "type": "scatterternary"
           }
          ],
          "surface": [
           {
            "colorbar": {
             "outlinewidth": 0,
             "ticks": ""
            },
            "type": "surface"
           }
          ],
          "table": [
           {
            "cells": {
             "fill": {
              "color": "#EBF0F8"
             },
             "line": {
              "color": "white"
             }
            },
            "header": {
             "fill": {
              "color": "#C8D4E3"
             },
             "line": {
              "color": "white"
             }
            },
            "type": "table"
           }
          ]
         },
         "layout": {
          "annotationdefaults": {
           "arrowcolor": "#506784",
           "arrowhead": 0,
           "arrowwidth": 1
          },
          "colorscale": {
           "diverging": [
            [
             0,
             "#8e0152"
            ],
            [
             0.1,
             "#c51b7d"
            ],
            [
             0.2,
             "#de77ae"
            ],
            [
             0.3,
             "#f1b6da"
            ],
            [
             0.4,
             "#fde0ef"
            ],
            [
             0.5,
             "#f7f7f7"
            ],
            [
             0.6,
             "#e6f5d0"
            ],
            [
             0.7,
             "#b8e186"
            ],
            [
             0.8,
             "#7fbc41"
            ],
            [
             0.9,
             "#4d9221"
            ],
            [
             1,
             "#276419"
            ]
           ],
           "sequential": [
            [
             0,
             "#0508b8"
            ],
            [
             0.0893854748603352,
             "#1910d8"
            ],
            [
             0.1787709497206704,
             "#3c19f0"
            ],
            [
             0.2681564245810056,
             "#6b1cfb"
            ],
            [
             0.3575418994413408,
             "#981cfd"
            ],
            [
             0.44692737430167595,
             "#bf1cfd"
            ],
            [
             0.5363128491620112,
             "#dd2bfd"
            ],
            [
             0.6256983240223464,
             "#f246fe"
            ],
            [
             0.7150837988826816,
             "#fc67fd"
            ],
            [
             0.8044692737430168,
             "#fe88fc"
            ],
            [
             0.8938547486033519,
             "#fea5fd"
            ],
            [
             0.9832402234636871,
             "#febefe"
            ],
            [
             1,
             "#fec3fe"
            ]
           ],
           "sequentialminus": [
            [
             0,
             "#0508b8"
            ],
            [
             0.0893854748603352,
             "#1910d8"
            ],
            [
             0.1787709497206704,
             "#3c19f0"
            ],
            [
             0.2681564245810056,
             "#6b1cfb"
            ],
            [
             0.3575418994413408,
             "#981cfd"
            ],
            [
             0.44692737430167595,
             "#bf1cfd"
            ],
            [
             0.5363128491620112,
             "#dd2bfd"
            ],
            [
             0.6256983240223464,
             "#f246fe"
            ],
            [
             0.7150837988826816,
             "#fc67fd"
            ],
            [
             0.8044692737430168,
             "#fe88fc"
            ],
            [
             0.8938547486033519,
             "#fea5fd"
            ],
            [
             0.9832402234636871,
             "#febefe"
            ],
            [
             1,
             "#fec3fe"
            ]
           ]
          },
          "colorway": [
           "#636efa",
           "#EF553B",
           "#00cc96",
           "#ab63fa",
           "#19d3f3",
           "#e763fa",
           "#FECB52",
           "#FFA15A",
           "#FF6692",
           "#B6E880"
          ],
          "font": {
           "color": "#2a3f5f"
          },
          "geo": {
           "bgcolor": "white",
           "lakecolor": "white",
           "landcolor": "#E5ECF6",
           "showlakes": true,
           "showland": true,
           "subunitcolor": "white"
          },
          "hovermode": "closest",
          "mapbox": {
           "style": "light"
          },
          "paper_bgcolor": "white",
          "plot_bgcolor": "#E5ECF6",
          "polar": {
           "angularaxis": {
            "gridcolor": "white",
            "linecolor": "white",
            "ticks": ""
           },
           "bgcolor": "#E5ECF6",
           "radialaxis": {
            "gridcolor": "white",
            "linecolor": "white",
            "ticks": ""
           }
          },
          "scene": {
           "xaxis": {
            "backgroundcolor": "#E5ECF6",
            "gridcolor": "white",
            "gridwidth": 2,
            "linecolor": "white",
            "showbackground": true,
            "ticks": "",
            "zerolinecolor": "white"
           },
           "yaxis": {
            "backgroundcolor": "#E5ECF6",
            "gridcolor": "white",
            "gridwidth": 2,
            "linecolor": "white",
            "showbackground": true,
            "ticks": "",
            "zerolinecolor": "white"
           },
           "zaxis": {
            "backgroundcolor": "#E5ECF6",
            "gridcolor": "white",
            "gridwidth": 2,
            "linecolor": "white",
            "showbackground": true,
            "ticks": "",
            "zerolinecolor": "white"
           }
          },
          "shapedefaults": {
           "fillcolor": "#506784",
           "line": {
            "width": 0
           },
           "opacity": 0.4
          },
          "ternary": {
           "aaxis": {
            "gridcolor": "white",
            "linecolor": "white",
            "ticks": ""
           },
           "baxis": {
            "gridcolor": "white",
            "linecolor": "white",
            "ticks": ""
           },
           "bgcolor": "#E5ECF6",
           "caxis": {
            "gridcolor": "white",
            "linecolor": "white",
            "ticks": ""
           }
          },
          "title": {
           "x": 0.05
          },
          "xaxis": {
           "automargin": true,
           "gridcolor": "white",
           "linecolor": "white",
           "ticks": "",
           "zerolinecolor": "white",
           "zerolinewidth": 2
          },
          "yaxis": {
           "automargin": true,
           "gridcolor": "white",
           "linecolor": "white",
           "ticks": "",
           "zerolinecolor": "white",
           "zerolinewidth": 2
          }
         }
        }
       }
      },
      "text/html": [
       "<div id=\"a0599a31-ee9e-48c7-b8e5-6f474f8926c3\" style=\"height: 600px; width: 100%;\" class=\"plotly-graph-div\"></div><script type=\"text/javascript\">require([\"plotly\"], function(Plotly) { window.PLOTLYENV=window.PLOTLYENV || {};window.PLOTLYENV.BASE_URL=\"https://plot.ly\";\n",
       "if (document.getElementById(\"a0599a31-ee9e-48c7-b8e5-6f474f8926c3\")) {\n",
       "    Plotly.newPlot(\"a0599a31-ee9e-48c7-b8e5-6f474f8926c3\", [{\"hovertemplate\": \"Durante ese uso, \\u00bfcu\\u00e1ntas im\\u00e1genes consumes (ves y compartes)?=1. Ninguna<br>counts=%{r}<br>prosume_cluster=%{theta}<extra></extra>\", \"legendgroup\": \"Durante ese uso, \\u00bfcu\\u00e1ntas im\\u00e1genes consumes (ves y compartes)?=1. Ninguna\", \"marker\": {\"color\": \"rgb(213,62,79)\"}, \"name\": \"Durante ese uso, \\u00bfcu\\u00e1ntas im\\u00e1genes consumes (ves y compartes)?=1. Ninguna\", \"r\": [1, 6, 1], \"showlegend\": true, \"theta\": [\"cluster_1\", \"cluster_2\", \"cluster_3\"], \"type\": \"barpolar\", \"uid\": \"8c6c14ec-4e44-43fa-a343-d7fb8d6428d8\"}, {\"hovertemplate\": \"Durante ese uso, \\u00bfcu\\u00e1ntas im\\u00e1genes consumes (ves y compartes)?=2. Pocas<br>counts=%{r}<br>prosume_cluster=%{theta}<extra></extra>\", \"legendgroup\": \"Durante ese uso, \\u00bfcu\\u00e1ntas im\\u00e1genes consumes (ves y compartes)?=2. Pocas\", \"marker\": {\"color\": \"rgb(252,141,89)\"}, \"name\": \"Durante ese uso, \\u00bfcu\\u00e1ntas im\\u00e1genes consumes (ves y compartes)?=2. Pocas\", \"r\": [8, 39, 3, 2, 10], \"showlegend\": true, \"theta\": [\"cluster_1\", \"cluster_2\", \"cluster_3\", \"cluster_4\", \"cluster_5\"], \"type\": \"barpolar\", \"uid\": \"96112385-06e6-48ac-9068-063e94adb660\"}, {\"hovertemplate\": \"Durante ese uso, \\u00bfcu\\u00e1ntas im\\u00e1genes consumes (ves y compartes)?=3. Ni muchas ni pocas<br>counts=%{r}<br>prosume_cluster=%{theta}<extra></extra>\", \"legendgroup\": \"Durante ese uso, \\u00bfcu\\u00e1ntas im\\u00e1genes consumes (ves y compartes)?=3. Ni muchas ni pocas\", \"marker\": {\"color\": \"rgb(254,224,139)\"}, \"name\": \"Durante ese uso, \\u00bfcu\\u00e1ntas im\\u00e1genes consumes (ves y compartes)?=3. Ni muchas ni pocas\", \"r\": [16, 56, 7, 15, 41], \"showlegend\": true, \"theta\": [\"cluster_1\", \"cluster_2\", \"cluster_3\", \"cluster_4\", \"cluster_5\"], \"type\": \"barpolar\", \"uid\": \"51d2d7b8-cd25-4cf0-ac98-9ac97dd51da2\"}, {\"hovertemplate\": \"Durante ese uso, \\u00bfcu\\u00e1ntas im\\u00e1genes consumes (ves y compartes)?=4. Bastantes<br>counts=%{r}<br>prosume_cluster=%{theta}<extra></extra>\", \"legendgroup\": \"Durante ese uso, \\u00bfcu\\u00e1ntas im\\u00e1genes consumes (ves y compartes)?=4. Bastantes\", \"marker\": {\"color\": \"rgb(230,245,152)\"}, \"name\": \"Durante ese uso, \\u00bfcu\\u00e1ntas im\\u00e1genes consumes (ves y compartes)?=4. Bastantes\", \"r\": [11, 77, 61, 52, 190], \"showlegend\": true, \"theta\": [\"cluster_1\", \"cluster_2\", \"cluster_3\", \"cluster_4\", \"cluster_5\"], \"type\": \"barpolar\", \"uid\": \"6b4f3675-8b27-4eb3-b451-7af8dcae1328\"}, {\"hovertemplate\": \"Durante ese uso, \\u00bfcu\\u00e1ntas im\\u00e1genes consumes (ves y compartes)?=5. Recibo y envio im\\u00e1genes de forma constante<br>counts=%{r}<br>prosume_cluster=%{theta}<extra></extra>\", \"legendgroup\": \"Durante ese uso, \\u00bfcu\\u00e1ntas im\\u00e1genes consumes (ves y compartes)?=5. Recibo y envio im\\u00e1genes de forma constante\", \"marker\": {\"color\": \"rgb(153,213,148)\"}, \"name\": \"Durante ese uso, \\u00bfcu\\u00e1ntas im\\u00e1genes consumes (ves y compartes)?=5. Recibo y envio im\\u00e1genes de forma constante\", \"r\": [1, 18, 28, 29, 95], \"showlegend\": true, \"theta\": [\"cluster_1\", \"cluster_2\", \"cluster_3\", \"cluster_4\", \"cluster_5\"], \"type\": \"barpolar\", \"uid\": \"f1f977b0-b5b4-4a57-8a7c-0f8844ab3f71\"}], {\"barmode\": \"group\", \"barnorm\": \"\", \"height\": 600, \"legend\": {\"tracegroupgap\": 0}, \"margin\": {\"t\": 60}, \"template\": {\"data\": {\"barpolar\": [{\"marker\": {\"line\": {\"color\": \"#E5ECF6\", \"width\": 0.5}}, \"type\": \"barpolar\"}], \"bar\": [{\"marker\": {\"line\": {\"color\": \"#E5ECF6\", \"width\": 0.5}}, \"type\": \"bar\"}], \"carpet\": [{\"aaxis\": {\"endlinecolor\": \"#2a3f5f\", \"gridcolor\": \"white\", \"linecolor\": \"white\", \"minorgridcolor\": \"white\", \"startlinecolor\": \"#2a3f5f\"}, \"baxis\": {\"endlinecolor\": \"#2a3f5f\", \"gridcolor\": \"white\", \"linecolor\": \"white\", \"minorgridcolor\": \"white\", \"startlinecolor\": \"#2a3f5f\"}, \"type\": \"carpet\"}], \"choropleth\": [{\"colorbar\": {\"outlinewidth\": 0, \"ticks\": \"\"}, \"type\": \"choropleth\"}], \"contourcarpet\": [{\"colorbar\": {\"outlinewidth\": 0, \"ticks\": \"\"}, \"type\": \"contourcarpet\"}], \"contour\": [{\"autocolorscale\": true, \"colorbar\": {\"outlinewidth\": 0, \"ticks\": \"\"}, \"type\": \"contour\"}], \"heatmapgl\": [{\"colorbar\": {\"outlinewidth\": 0, \"ticks\": \"\"}, \"type\": \"heatmapgl\"}], \"heatmap\": [{\"autocolorscale\": true, \"colorbar\": {\"outlinewidth\": 0, \"ticks\": \"\"}, \"type\": \"heatmap\"}], \"histogram2dcontour\": [{\"autocolorscale\": true, \"colorbar\": {\"outlinewidth\": 0, \"ticks\": \"\"}, \"type\": \"histogram2dcontour\"}], \"histogram2d\": [{\"autocolorscale\": true, \"colorbar\": {\"outlinewidth\": 0, \"ticks\": \"\"}, \"type\": \"histogram2d\"}], \"histogram\": [{\"marker\": {\"colorbar\": {\"outlinewidth\": 0, \"ticks\": \"\"}}, \"type\": \"histogram\"}], \"mesh3d\": [{\"colorbar\": {\"outlinewidth\": 0, \"ticks\": \"\"}, \"type\": \"mesh3d\"}], \"parcoords\": [{\"line\": {\"colorbar\": {\"outlinewidth\": 0, \"ticks\": \"\"}}, \"type\": \"parcoords\"}], \"scatter3d\": [{\"marker\": {\"colorbar\": {\"outlinewidth\": 0, \"ticks\": \"\"}}, \"type\": \"scatter3d\"}], \"scattercarpet\": [{\"marker\": {\"colorbar\": {\"outlinewidth\": 0, \"ticks\": \"\"}}, \"type\": \"scattercarpet\"}], \"scattergeo\": [{\"marker\": {\"colorbar\": {\"outlinewidth\": 0, \"ticks\": \"\"}}, \"type\": \"scattergeo\"}], \"scattergl\": [{\"marker\": {\"colorbar\": {\"outlinewidth\": 0, \"ticks\": \"\"}}, \"type\": \"scattergl\"}], \"scattermapbox\": [{\"marker\": {\"colorbar\": {\"outlinewidth\": 0, \"ticks\": \"\"}}, \"type\": \"scattermapbox\"}], \"scatterpolargl\": [{\"marker\": {\"colorbar\": {\"outlinewidth\": 0, \"ticks\": \"\"}}, \"type\": \"scatterpolargl\"}], \"scatterpolar\": [{\"marker\": {\"colorbar\": {\"outlinewidth\": 0, \"ticks\": \"\"}}, \"type\": \"scatterpolar\"}], \"scatter\": [{\"marker\": {\"colorbar\": {\"outlinewidth\": 0, \"ticks\": \"\"}}, \"type\": \"scatter\"}], \"scatterternary\": [{\"marker\": {\"colorbar\": {\"outlinewidth\": 0, \"ticks\": \"\"}}, \"type\": \"scatterternary\"}], \"surface\": [{\"colorbar\": {\"outlinewidth\": 0, \"ticks\": \"\"}, \"type\": \"surface\"}], \"table\": [{\"cells\": {\"fill\": {\"color\": \"#EBF0F8\"}, \"line\": {\"color\": \"white\"}}, \"header\": {\"fill\": {\"color\": \"#C8D4E3\"}, \"line\": {\"color\": \"white\"}}, \"type\": \"table\"}]}, \"layout\": {\"annotationdefaults\": {\"arrowcolor\": \"#506784\", \"arrowhead\": 0, \"arrowwidth\": 1}, \"colorscale\": {\"diverging\": [[0, \"#8e0152\"], [0.1, \"#c51b7d\"], [0.2, \"#de77ae\"], [0.3, \"#f1b6da\"], [0.4, \"#fde0ef\"], [0.5, \"#f7f7f7\"], [0.6, \"#e6f5d0\"], [0.7, \"#b8e186\"], [0.8, \"#7fbc41\"], [0.9, \"#4d9221\"], [1, \"#276419\"]], \"sequential\": [[0.0, \"#0508b8\"], [0.0893854748603352, \"#1910d8\"], [0.1787709497206704, \"#3c19f0\"], [0.2681564245810056, \"#6b1cfb\"], [0.3575418994413408, \"#981cfd\"], [0.44692737430167595, \"#bf1cfd\"], [0.5363128491620112, \"#dd2bfd\"], [0.6256983240223464, \"#f246fe\"], [0.7150837988826816, \"#fc67fd\"], [0.8044692737430168, \"#fe88fc\"], [0.8938547486033519, \"#fea5fd\"], [0.9832402234636871, \"#febefe\"], [1.0, \"#fec3fe\"]], \"sequentialminus\": [[0.0, \"#0508b8\"], [0.0893854748603352, \"#1910d8\"], [0.1787709497206704, \"#3c19f0\"], [0.2681564245810056, \"#6b1cfb\"], [0.3575418994413408, \"#981cfd\"], [0.44692737430167595, \"#bf1cfd\"], [0.5363128491620112, \"#dd2bfd\"], [0.6256983240223464, \"#f246fe\"], [0.7150837988826816, \"#fc67fd\"], [0.8044692737430168, \"#fe88fc\"], [0.8938547486033519, \"#fea5fd\"], [0.9832402234636871, \"#febefe\"], [1.0, \"#fec3fe\"]]}, \"colorway\": [\"#636efa\", \"#EF553B\", \"#00cc96\", \"#ab63fa\", \"#19d3f3\", \"#e763fa\", \"#FECB52\", \"#FFA15A\", \"#FF6692\", \"#B6E880\"], \"font\": {\"color\": \"#2a3f5f\"}, \"geo\": {\"bgcolor\": \"white\", \"lakecolor\": \"white\", \"landcolor\": \"#E5ECF6\", \"showlakes\": true, \"showland\": true, \"subunitcolor\": \"white\"}, \"hovermode\": \"closest\", \"mapbox\": {\"style\": \"light\"}, \"paper_bgcolor\": \"white\", \"plot_bgcolor\": \"#E5ECF6\", \"polar\": {\"angularaxis\": {\"gridcolor\": \"white\", \"linecolor\": \"white\", \"ticks\": \"\"}, \"bgcolor\": \"#E5ECF6\", \"radialaxis\": {\"gridcolor\": \"white\", \"linecolor\": \"white\", \"ticks\": \"\"}}, \"scene\": {\"xaxis\": {\"backgroundcolor\": \"#E5ECF6\", \"gridcolor\": \"white\", \"gridwidth\": 2, \"linecolor\": \"white\", \"showbackground\": true, \"ticks\": \"\", \"zerolinecolor\": \"white\"}, \"yaxis\": {\"backgroundcolor\": \"#E5ECF6\", \"gridcolor\": \"white\", \"gridwidth\": 2, \"linecolor\": \"white\", \"showbackground\": true, \"ticks\": \"\", \"zerolinecolor\": \"white\"}, \"zaxis\": {\"backgroundcolor\": \"#E5ECF6\", \"gridcolor\": \"white\", \"gridwidth\": 2, \"linecolor\": \"white\", \"showbackground\": true, \"ticks\": \"\", \"zerolinecolor\": \"white\"}}, \"shapedefaults\": {\"fillcolor\": \"#506784\", \"line\": {\"width\": 0}, \"opacity\": 0.4}, \"ternary\": {\"aaxis\": {\"gridcolor\": \"white\", \"linecolor\": \"white\", \"ticks\": \"\"}, \"baxis\": {\"gridcolor\": \"white\", \"linecolor\": \"white\", \"ticks\": \"\"}, \"bgcolor\": \"#E5ECF6\", \"caxis\": {\"gridcolor\": \"white\", \"linecolor\": \"white\", \"ticks\": \"\"}}, \"title\": {\"x\": 0.05}, \"xaxis\": {\"automargin\": true, \"gridcolor\": \"white\", \"linecolor\": \"white\", \"ticks\": \"\", \"zerolinecolor\": \"white\", \"zerolinewidth\": 2}, \"yaxis\": {\"automargin\": true, \"gridcolor\": \"white\", \"linecolor\": \"white\", \"ticks\": \"\", \"zerolinecolor\": \"white\", \"zerolinewidth\": 2}}}, \"polar\": {\"angularaxis\": {\"direction\": \"clockwise\", \"rotation\": 90}}}, {\"showLink\": false, \"linkText\": \"Export to plot.ly\", \"plotlyServerURL\": \"https://plot.ly\"}); \n",
       "}\n",
       "});</script><script type=\"text/javascript\">window.addEventListener(\"resize\", function(){if (document.getElementById(\"a0599a31-ee9e-48c7-b8e5-6f474f8926c3\")) {window._Plotly.Plots.resize(document.getElementById(\"a0599a31-ee9e-48c7-b8e5-6f474f8926c3\"));};})</script>"
      ],
      "text/vnd.plotly.v1+html": [
       "<div id=\"a0599a31-ee9e-48c7-b8e5-6f474f8926c3\" style=\"height: 600px; width: 100%;\" class=\"plotly-graph-div\"></div><script type=\"text/javascript\">require([\"plotly\"], function(Plotly) { window.PLOTLYENV=window.PLOTLYENV || {};window.PLOTLYENV.BASE_URL=\"https://plot.ly\";\n",
       "if (document.getElementById(\"a0599a31-ee9e-48c7-b8e5-6f474f8926c3\")) {\n",
       "    Plotly.newPlot(\"a0599a31-ee9e-48c7-b8e5-6f474f8926c3\", [{\"hovertemplate\": \"Durante ese uso, \\u00bfcu\\u00e1ntas im\\u00e1genes consumes (ves y compartes)?=1. Ninguna<br>counts=%{r}<br>prosume_cluster=%{theta}<extra></extra>\", \"legendgroup\": \"Durante ese uso, \\u00bfcu\\u00e1ntas im\\u00e1genes consumes (ves y compartes)?=1. Ninguna\", \"marker\": {\"color\": \"rgb(213,62,79)\"}, \"name\": \"Durante ese uso, \\u00bfcu\\u00e1ntas im\\u00e1genes consumes (ves y compartes)?=1. Ninguna\", \"r\": [1, 6, 1], \"showlegend\": true, \"theta\": [\"cluster_1\", \"cluster_2\", \"cluster_3\"], \"type\": \"barpolar\", \"uid\": \"8c6c14ec-4e44-43fa-a343-d7fb8d6428d8\"}, {\"hovertemplate\": \"Durante ese uso, \\u00bfcu\\u00e1ntas im\\u00e1genes consumes (ves y compartes)?=2. Pocas<br>counts=%{r}<br>prosume_cluster=%{theta}<extra></extra>\", \"legendgroup\": \"Durante ese uso, \\u00bfcu\\u00e1ntas im\\u00e1genes consumes (ves y compartes)?=2. Pocas\", \"marker\": {\"color\": \"rgb(252,141,89)\"}, \"name\": \"Durante ese uso, \\u00bfcu\\u00e1ntas im\\u00e1genes consumes (ves y compartes)?=2. Pocas\", \"r\": [8, 39, 3, 2, 10], \"showlegend\": true, \"theta\": [\"cluster_1\", \"cluster_2\", \"cluster_3\", \"cluster_4\", \"cluster_5\"], \"type\": \"barpolar\", \"uid\": \"96112385-06e6-48ac-9068-063e94adb660\"}, {\"hovertemplate\": \"Durante ese uso, \\u00bfcu\\u00e1ntas im\\u00e1genes consumes (ves y compartes)?=3. Ni muchas ni pocas<br>counts=%{r}<br>prosume_cluster=%{theta}<extra></extra>\", \"legendgroup\": \"Durante ese uso, \\u00bfcu\\u00e1ntas im\\u00e1genes consumes (ves y compartes)?=3. Ni muchas ni pocas\", \"marker\": {\"color\": \"rgb(254,224,139)\"}, \"name\": \"Durante ese uso, \\u00bfcu\\u00e1ntas im\\u00e1genes consumes (ves y compartes)?=3. Ni muchas ni pocas\", \"r\": [16, 56, 7, 15, 41], \"showlegend\": true, \"theta\": [\"cluster_1\", \"cluster_2\", \"cluster_3\", \"cluster_4\", \"cluster_5\"], \"type\": \"barpolar\", \"uid\": \"51d2d7b8-cd25-4cf0-ac98-9ac97dd51da2\"}, {\"hovertemplate\": \"Durante ese uso, \\u00bfcu\\u00e1ntas im\\u00e1genes consumes (ves y compartes)?=4. Bastantes<br>counts=%{r}<br>prosume_cluster=%{theta}<extra></extra>\", \"legendgroup\": \"Durante ese uso, \\u00bfcu\\u00e1ntas im\\u00e1genes consumes (ves y compartes)?=4. Bastantes\", \"marker\": {\"color\": \"rgb(230,245,152)\"}, \"name\": \"Durante ese uso, \\u00bfcu\\u00e1ntas im\\u00e1genes consumes (ves y compartes)?=4. Bastantes\", \"r\": [11, 77, 61, 52, 190], \"showlegend\": true, \"theta\": [\"cluster_1\", \"cluster_2\", \"cluster_3\", \"cluster_4\", \"cluster_5\"], \"type\": \"barpolar\", \"uid\": \"6b4f3675-8b27-4eb3-b451-7af8dcae1328\"}, {\"hovertemplate\": \"Durante ese uso, \\u00bfcu\\u00e1ntas im\\u00e1genes consumes (ves y compartes)?=5. Recibo y envio im\\u00e1genes de forma constante<br>counts=%{r}<br>prosume_cluster=%{theta}<extra></extra>\", \"legendgroup\": \"Durante ese uso, \\u00bfcu\\u00e1ntas im\\u00e1genes consumes (ves y compartes)?=5. Recibo y envio im\\u00e1genes de forma constante\", \"marker\": {\"color\": \"rgb(153,213,148)\"}, \"name\": \"Durante ese uso, \\u00bfcu\\u00e1ntas im\\u00e1genes consumes (ves y compartes)?=5. Recibo y envio im\\u00e1genes de forma constante\", \"r\": [1, 18, 28, 29, 95], \"showlegend\": true, \"theta\": [\"cluster_1\", \"cluster_2\", \"cluster_3\", \"cluster_4\", \"cluster_5\"], \"type\": \"barpolar\", \"uid\": \"f1f977b0-b5b4-4a57-8a7c-0f8844ab3f71\"}], {\"barmode\": \"group\", \"barnorm\": \"\", \"height\": 600, \"legend\": {\"tracegroupgap\": 0}, \"margin\": {\"t\": 60}, \"template\": {\"data\": {\"barpolar\": [{\"marker\": {\"line\": {\"color\": \"#E5ECF6\", \"width\": 0.5}}, \"type\": \"barpolar\"}], \"bar\": [{\"marker\": {\"line\": {\"color\": \"#E5ECF6\", \"width\": 0.5}}, \"type\": \"bar\"}], \"carpet\": [{\"aaxis\": {\"endlinecolor\": \"#2a3f5f\", \"gridcolor\": \"white\", \"linecolor\": \"white\", \"minorgridcolor\": \"white\", \"startlinecolor\": \"#2a3f5f\"}, \"baxis\": {\"endlinecolor\": \"#2a3f5f\", \"gridcolor\": \"white\", \"linecolor\": \"white\", \"minorgridcolor\": \"white\", \"startlinecolor\": \"#2a3f5f\"}, \"type\": \"carpet\"}], \"choropleth\": [{\"colorbar\": {\"outlinewidth\": 0, \"ticks\": \"\"}, \"type\": \"choropleth\"}], \"contourcarpet\": [{\"colorbar\": {\"outlinewidth\": 0, \"ticks\": \"\"}, \"type\": \"contourcarpet\"}], \"contour\": [{\"autocolorscale\": true, \"colorbar\": {\"outlinewidth\": 0, \"ticks\": \"\"}, \"type\": \"contour\"}], \"heatmapgl\": [{\"colorbar\": {\"outlinewidth\": 0, \"ticks\": \"\"}, \"type\": \"heatmapgl\"}], \"heatmap\": [{\"autocolorscale\": true, \"colorbar\": {\"outlinewidth\": 0, \"ticks\": \"\"}, \"type\": \"heatmap\"}], \"histogram2dcontour\": [{\"autocolorscale\": true, \"colorbar\": {\"outlinewidth\": 0, \"ticks\": \"\"}, \"type\": \"histogram2dcontour\"}], \"histogram2d\": [{\"autocolorscale\": true, \"colorbar\": {\"outlinewidth\": 0, \"ticks\": \"\"}, \"type\": \"histogram2d\"}], \"histogram\": [{\"marker\": {\"colorbar\": {\"outlinewidth\": 0, \"ticks\": \"\"}}, \"type\": \"histogram\"}], \"mesh3d\": [{\"colorbar\": {\"outlinewidth\": 0, \"ticks\": \"\"}, \"type\": \"mesh3d\"}], \"parcoords\": [{\"line\": {\"colorbar\": {\"outlinewidth\": 0, \"ticks\": \"\"}}, \"type\": \"parcoords\"}], \"scatter3d\": [{\"marker\": {\"colorbar\": {\"outlinewidth\": 0, \"ticks\": \"\"}}, \"type\": \"scatter3d\"}], \"scattercarpet\": [{\"marker\": {\"colorbar\": {\"outlinewidth\": 0, \"ticks\": \"\"}}, \"type\": \"scattercarpet\"}], \"scattergeo\": [{\"marker\": {\"colorbar\": {\"outlinewidth\": 0, \"ticks\": \"\"}}, \"type\": \"scattergeo\"}], \"scattergl\": [{\"marker\": {\"colorbar\": {\"outlinewidth\": 0, \"ticks\": \"\"}}, \"type\": \"scattergl\"}], \"scattermapbox\": [{\"marker\": {\"colorbar\": {\"outlinewidth\": 0, \"ticks\": \"\"}}, \"type\": \"scattermapbox\"}], \"scatterpolargl\": [{\"marker\": {\"colorbar\": {\"outlinewidth\": 0, \"ticks\": \"\"}}, \"type\": \"scatterpolargl\"}], \"scatterpolar\": [{\"marker\": {\"colorbar\": {\"outlinewidth\": 0, \"ticks\": \"\"}}, \"type\": \"scatterpolar\"}], \"scatter\": [{\"marker\": {\"colorbar\": {\"outlinewidth\": 0, \"ticks\": \"\"}}, \"type\": \"scatter\"}], \"scatterternary\": [{\"marker\": {\"colorbar\": {\"outlinewidth\": 0, \"ticks\": \"\"}}, \"type\": \"scatterternary\"}], \"surface\": [{\"colorbar\": {\"outlinewidth\": 0, \"ticks\": \"\"}, \"type\": \"surface\"}], \"table\": [{\"cells\": {\"fill\": {\"color\": \"#EBF0F8\"}, \"line\": {\"color\": \"white\"}}, \"header\": {\"fill\": {\"color\": \"#C8D4E3\"}, \"line\": {\"color\": \"white\"}}, \"type\": \"table\"}]}, \"layout\": {\"annotationdefaults\": {\"arrowcolor\": \"#506784\", \"arrowhead\": 0, \"arrowwidth\": 1}, \"colorscale\": {\"diverging\": [[0, \"#8e0152\"], [0.1, \"#c51b7d\"], [0.2, \"#de77ae\"], [0.3, \"#f1b6da\"], [0.4, \"#fde0ef\"], [0.5, \"#f7f7f7\"], [0.6, \"#e6f5d0\"], [0.7, \"#b8e186\"], [0.8, \"#7fbc41\"], [0.9, \"#4d9221\"], [1, \"#276419\"]], \"sequential\": [[0.0, \"#0508b8\"], [0.0893854748603352, \"#1910d8\"], [0.1787709497206704, \"#3c19f0\"], [0.2681564245810056, \"#6b1cfb\"], [0.3575418994413408, \"#981cfd\"], [0.44692737430167595, \"#bf1cfd\"], [0.5363128491620112, \"#dd2bfd\"], [0.6256983240223464, \"#f246fe\"], [0.7150837988826816, \"#fc67fd\"], [0.8044692737430168, \"#fe88fc\"], [0.8938547486033519, \"#fea5fd\"], [0.9832402234636871, \"#febefe\"], [1.0, \"#fec3fe\"]], \"sequentialminus\": [[0.0, \"#0508b8\"], [0.0893854748603352, \"#1910d8\"], [0.1787709497206704, \"#3c19f0\"], [0.2681564245810056, \"#6b1cfb\"], [0.3575418994413408, \"#981cfd\"], [0.44692737430167595, \"#bf1cfd\"], [0.5363128491620112, \"#dd2bfd\"], [0.6256983240223464, \"#f246fe\"], [0.7150837988826816, \"#fc67fd\"], [0.8044692737430168, \"#fe88fc\"], [0.8938547486033519, \"#fea5fd\"], [0.9832402234636871, \"#febefe\"], [1.0, \"#fec3fe\"]]}, \"colorway\": [\"#636efa\", \"#EF553B\", \"#00cc96\", \"#ab63fa\", \"#19d3f3\", \"#e763fa\", \"#FECB52\", \"#FFA15A\", \"#FF6692\", \"#B6E880\"], \"font\": {\"color\": \"#2a3f5f\"}, \"geo\": {\"bgcolor\": \"white\", \"lakecolor\": \"white\", \"landcolor\": \"#E5ECF6\", \"showlakes\": true, \"showland\": true, \"subunitcolor\": \"white\"}, \"hovermode\": \"closest\", \"mapbox\": {\"style\": \"light\"}, \"paper_bgcolor\": \"white\", \"plot_bgcolor\": \"#E5ECF6\", \"polar\": {\"angularaxis\": {\"gridcolor\": \"white\", \"linecolor\": \"white\", \"ticks\": \"\"}, \"bgcolor\": \"#E5ECF6\", \"radialaxis\": {\"gridcolor\": \"white\", \"linecolor\": \"white\", \"ticks\": \"\"}}, \"scene\": {\"xaxis\": {\"backgroundcolor\": \"#E5ECF6\", \"gridcolor\": \"white\", \"gridwidth\": 2, \"linecolor\": \"white\", \"showbackground\": true, \"ticks\": \"\", \"zerolinecolor\": \"white\"}, \"yaxis\": {\"backgroundcolor\": \"#E5ECF6\", \"gridcolor\": \"white\", \"gridwidth\": 2, \"linecolor\": \"white\", \"showbackground\": true, \"ticks\": \"\", \"zerolinecolor\": \"white\"}, \"zaxis\": {\"backgroundcolor\": \"#E5ECF6\", \"gridcolor\": \"white\", \"gridwidth\": 2, \"linecolor\": \"white\", \"showbackground\": true, \"ticks\": \"\", \"zerolinecolor\": \"white\"}}, \"shapedefaults\": {\"fillcolor\": \"#506784\", \"line\": {\"width\": 0}, \"opacity\": 0.4}, \"ternary\": {\"aaxis\": {\"gridcolor\": \"white\", \"linecolor\": \"white\", \"ticks\": \"\"}, \"baxis\": {\"gridcolor\": \"white\", \"linecolor\": \"white\", \"ticks\": \"\"}, \"bgcolor\": \"#E5ECF6\", \"caxis\": {\"gridcolor\": \"white\", \"linecolor\": \"white\", \"ticks\": \"\"}}, \"title\": {\"x\": 0.05}, \"xaxis\": {\"automargin\": true, \"gridcolor\": \"white\", \"linecolor\": \"white\", \"ticks\": \"\", \"zerolinecolor\": \"white\", \"zerolinewidth\": 2}, \"yaxis\": {\"automargin\": true, \"gridcolor\": \"white\", \"linecolor\": \"white\", \"ticks\": \"\", \"zerolinecolor\": \"white\", \"zerolinewidth\": 2}}}, \"polar\": {\"angularaxis\": {\"direction\": \"clockwise\", \"rotation\": 90}}}, {\"showLink\": false, \"linkText\": \"Export to plot.ly\", \"plotlyServerURL\": \"https://plot.ly\"}); \n",
       "}\n",
       "});</script><script type=\"text/javascript\">window.addEventListener(\"resize\", function(){if (document.getElementById(\"a0599a31-ee9e-48c7-b8e5-6f474f8926c3\")) {window._Plotly.Plots.resize(document.getElementById(\"a0599a31-ee9e-48c7-b8e5-6f474f8926c3\"));};})</script>"
      ]
     },
     "metadata": {},
     "output_type": "display_data"
    },
    {
     "name": "stdout",
     "output_type": "stream",
     "text": [
      "Comparando la pregunta ¿Cuál es tu herramienta habitual de consumo de imágenes?\n"
     ]
    },
    {
     "data": {
      "application/vnd.plotly.v1+json": {
       "config": {
        "linkText": "Export to plot.ly",
        "plotlyServerURL": "https://plot.ly",
        "showLink": false
       },
       "data": [
        {
         "hovertemplate": "¿Cuál es tu herramienta habitual de consumo de imágenes?=1. Móvil<br>counts=%{r}<br>prosume_cluster=%{theta}<extra></extra>",
         "legendgroup": "¿Cuál es tu herramienta habitual de consumo de imágenes?=1. Móvil",
         "marker": {
          "color": "rgb(213,62,79)"
         },
         "name": "¿Cuál es tu herramienta habitual de consumo de imágenes?=1. Móvil",
         "r": [
          8,
          124,
          39,
          64,
          187
         ],
         "showlegend": true,
         "theta": [
          "cluster_1",
          "cluster_2",
          "cluster_3",
          "cluster_4",
          "cluster_5"
         ],
         "type": "barpolar",
         "uid": "2cb29dcb-cb5f-4ed1-bbc0-bc9393741ca3"
        },
        {
         "hovertemplate": "¿Cuál es tu herramienta habitual de consumo de imágenes?=2. Televisión<br>counts=%{r}<br>prosume_cluster=%{theta}<extra></extra>",
         "legendgroup": "¿Cuál es tu herramienta habitual de consumo de imágenes?=2. Televisión",
         "marker": {
          "color": "rgb(252,141,89)"
         },
         "name": "¿Cuál es tu herramienta habitual de consumo de imágenes?=2. Televisión",
         "r": [
          6,
          14,
          4,
          5,
          22
         ],
         "showlegend": true,
         "theta": [
          "cluster_1",
          "cluster_2",
          "cluster_3",
          "cluster_4",
          "cluster_5"
         ],
         "type": "barpolar",
         "uid": "66f33a94-a72d-4ea2-bbfa-b14b81ee4ebc"
        },
        {
         "hovertemplate": "¿Cuál es tu herramienta habitual de consumo de imágenes?=3. Ordenador<br>counts=%{r}<br>prosume_cluster=%{theta}<extra></extra>",
         "legendgroup": "¿Cuál es tu herramienta habitual de consumo de imágenes?=3. Ordenador",
         "marker": {
          "color": "rgb(254,224,139)"
         },
         "name": "¿Cuál es tu herramienta habitual de consumo de imágenes?=3. Ordenador",
         "r": [
          21,
          51,
          53,
          26,
          113
         ],
         "showlegend": true,
         "theta": [
          "cluster_1",
          "cluster_2",
          "cluster_3",
          "cluster_4",
          "cluster_5"
         ],
         "type": "barpolar",
         "uid": "403c81b1-b2ac-42db-9106-415c21f50a93"
        },
        {
         "hovertemplate": "¿Cuál es tu herramienta habitual de consumo de imágenes?=4. Tableta<br>counts=%{r}<br>prosume_cluster=%{theta}<extra></extra>",
         "legendgroup": "¿Cuál es tu herramienta habitual de consumo de imágenes?=4. Tableta",
         "marker": {
          "color": "rgb(230,245,152)"
         },
         "name": "¿Cuál es tu herramienta habitual de consumo de imágenes?=4. Tableta",
         "r": [
          2,
          6,
          4,
          3,
          14
         ],
         "showlegend": true,
         "theta": [
          "cluster_1",
          "cluster_2",
          "cluster_3",
          "cluster_4",
          "cluster_5"
         ],
         "type": "barpolar",
         "uid": "1b88f3cc-ce7f-4f1a-bc81-a37bdb5454a3"
        },
        {
         "hovertemplate": "¿Cuál es tu herramienta habitual de consumo de imágenes?=5. Otros (Libros y periódicos en papel, marquesinas, museos...)<br>counts=%{r}<br>prosume_cluster=%{theta}<extra></extra>",
         "legendgroup": "¿Cuál es tu herramienta habitual de consumo de imágenes?=5. Otros (Libros y periódicos en papel, marquesinas, museos...)",
         "marker": {
          "color": "rgb(153,213,148)"
         },
         "name": "¿Cuál es tu herramienta habitual de consumo de imágenes?=5. Otros (Libros y periódicos en papel, marquesinas, museos...)",
         "r": [
          1
         ],
         "showlegend": true,
         "theta": [
          "cluster_2"
         ],
         "type": "barpolar",
         "uid": "6102d6fd-025f-424c-b547-e479196fd444"
        }
       ],
       "layout": {
        "barmode": "group",
        "barnorm": "",
        "height": 600,
        "legend": {
         "tracegroupgap": 0
        },
        "margin": {
         "t": 60
        },
        "polar": {
         "angularaxis": {
          "direction": "clockwise",
          "rotation": 90
         }
        },
        "template": {
         "data": {
          "bar": [
           {
            "marker": {
             "line": {
              "color": "#E5ECF6",
              "width": 0.5
             }
            },
            "type": "bar"
           }
          ],
          "barpolar": [
           {
            "marker": {
             "line": {
              "color": "#E5ECF6",
              "width": 0.5
             }
            },
            "type": "barpolar"
           }
          ],
          "carpet": [
           {
            "aaxis": {
             "endlinecolor": "#2a3f5f",
             "gridcolor": "white",
             "linecolor": "white",
             "minorgridcolor": "white",
             "startlinecolor": "#2a3f5f"
            },
            "baxis": {
             "endlinecolor": "#2a3f5f",
             "gridcolor": "white",
             "linecolor": "white",
             "minorgridcolor": "white",
             "startlinecolor": "#2a3f5f"
            },
            "type": "carpet"
           }
          ],
          "choropleth": [
           {
            "colorbar": {
             "outlinewidth": 0,
             "ticks": ""
            },
            "type": "choropleth"
           }
          ],
          "contour": [
           {
            "autocolorscale": true,
            "colorbar": {
             "outlinewidth": 0,
             "ticks": ""
            },
            "type": "contour"
           }
          ],
          "contourcarpet": [
           {
            "colorbar": {
             "outlinewidth": 0,
             "ticks": ""
            },
            "type": "contourcarpet"
           }
          ],
          "heatmap": [
           {
            "autocolorscale": true,
            "colorbar": {
             "outlinewidth": 0,
             "ticks": ""
            },
            "type": "heatmap"
           }
          ],
          "heatmapgl": [
           {
            "colorbar": {
             "outlinewidth": 0,
             "ticks": ""
            },
            "type": "heatmapgl"
           }
          ],
          "histogram": [
           {
            "marker": {
             "colorbar": {
              "outlinewidth": 0,
              "ticks": ""
             }
            },
            "type": "histogram"
           }
          ],
          "histogram2d": [
           {
            "autocolorscale": true,
            "colorbar": {
             "outlinewidth": 0,
             "ticks": ""
            },
            "type": "histogram2d"
           }
          ],
          "histogram2dcontour": [
           {
            "autocolorscale": true,
            "colorbar": {
             "outlinewidth": 0,
             "ticks": ""
            },
            "type": "histogram2dcontour"
           }
          ],
          "mesh3d": [
           {
            "colorbar": {
             "outlinewidth": 0,
             "ticks": ""
            },
            "type": "mesh3d"
           }
          ],
          "parcoords": [
           {
            "line": {
             "colorbar": {
              "outlinewidth": 0,
              "ticks": ""
             }
            },
            "type": "parcoords"
           }
          ],
          "scatter": [
           {
            "marker": {
             "colorbar": {
              "outlinewidth": 0,
              "ticks": ""
             }
            },
            "type": "scatter"
           }
          ],
          "scatter3d": [
           {
            "marker": {
             "colorbar": {
              "outlinewidth": 0,
              "ticks": ""
             }
            },
            "type": "scatter3d"
           }
          ],
          "scattercarpet": [
           {
            "marker": {
             "colorbar": {
              "outlinewidth": 0,
              "ticks": ""
             }
            },
            "type": "scattercarpet"
           }
          ],
          "scattergeo": [
           {
            "marker": {
             "colorbar": {
              "outlinewidth": 0,
              "ticks": ""
             }
            },
            "type": "scattergeo"
           }
          ],
          "scattergl": [
           {
            "marker": {
             "colorbar": {
              "outlinewidth": 0,
              "ticks": ""
             }
            },
            "type": "scattergl"
           }
          ],
          "scattermapbox": [
           {
            "marker": {
             "colorbar": {
              "outlinewidth": 0,
              "ticks": ""
             }
            },
            "type": "scattermapbox"
           }
          ],
          "scatterpolar": [
           {
            "marker": {
             "colorbar": {
              "outlinewidth": 0,
              "ticks": ""
             }
            },
            "type": "scatterpolar"
           }
          ],
          "scatterpolargl": [
           {
            "marker": {
             "colorbar": {
              "outlinewidth": 0,
              "ticks": ""
             }
            },
            "type": "scatterpolargl"
           }
          ],
          "scatterternary": [
           {
            "marker": {
             "colorbar": {
              "outlinewidth": 0,
              "ticks": ""
             }
            },
            "type": "scatterternary"
           }
          ],
          "surface": [
           {
            "colorbar": {
             "outlinewidth": 0,
             "ticks": ""
            },
            "type": "surface"
           }
          ],
          "table": [
           {
            "cells": {
             "fill": {
              "color": "#EBF0F8"
             },
             "line": {
              "color": "white"
             }
            },
            "header": {
             "fill": {
              "color": "#C8D4E3"
             },
             "line": {
              "color": "white"
             }
            },
            "type": "table"
           }
          ]
         },
         "layout": {
          "annotationdefaults": {
           "arrowcolor": "#506784",
           "arrowhead": 0,
           "arrowwidth": 1
          },
          "colorscale": {
           "diverging": [
            [
             0,
             "#8e0152"
            ],
            [
             0.1,
             "#c51b7d"
            ],
            [
             0.2,
             "#de77ae"
            ],
            [
             0.3,
             "#f1b6da"
            ],
            [
             0.4,
             "#fde0ef"
            ],
            [
             0.5,
             "#f7f7f7"
            ],
            [
             0.6,
             "#e6f5d0"
            ],
            [
             0.7,
             "#b8e186"
            ],
            [
             0.8,
             "#7fbc41"
            ],
            [
             0.9,
             "#4d9221"
            ],
            [
             1,
             "#276419"
            ]
           ],
           "sequential": [
            [
             0,
             "#0508b8"
            ],
            [
             0.0893854748603352,
             "#1910d8"
            ],
            [
             0.1787709497206704,
             "#3c19f0"
            ],
            [
             0.2681564245810056,
             "#6b1cfb"
            ],
            [
             0.3575418994413408,
             "#981cfd"
            ],
            [
             0.44692737430167595,
             "#bf1cfd"
            ],
            [
             0.5363128491620112,
             "#dd2bfd"
            ],
            [
             0.6256983240223464,
             "#f246fe"
            ],
            [
             0.7150837988826816,
             "#fc67fd"
            ],
            [
             0.8044692737430168,
             "#fe88fc"
            ],
            [
             0.8938547486033519,
             "#fea5fd"
            ],
            [
             0.9832402234636871,
             "#febefe"
            ],
            [
             1,
             "#fec3fe"
            ]
           ],
           "sequentialminus": [
            [
             0,
             "#0508b8"
            ],
            [
             0.0893854748603352,
             "#1910d8"
            ],
            [
             0.1787709497206704,
             "#3c19f0"
            ],
            [
             0.2681564245810056,
             "#6b1cfb"
            ],
            [
             0.3575418994413408,
             "#981cfd"
            ],
            [
             0.44692737430167595,
             "#bf1cfd"
            ],
            [
             0.5363128491620112,
             "#dd2bfd"
            ],
            [
             0.6256983240223464,
             "#f246fe"
            ],
            [
             0.7150837988826816,
             "#fc67fd"
            ],
            [
             0.8044692737430168,
             "#fe88fc"
            ],
            [
             0.8938547486033519,
             "#fea5fd"
            ],
            [
             0.9832402234636871,
             "#febefe"
            ],
            [
             1,
             "#fec3fe"
            ]
           ]
          },
          "colorway": [
           "#636efa",
           "#EF553B",
           "#00cc96",
           "#ab63fa",
           "#19d3f3",
           "#e763fa",
           "#FECB52",
           "#FFA15A",
           "#FF6692",
           "#B6E880"
          ],
          "font": {
           "color": "#2a3f5f"
          },
          "geo": {
           "bgcolor": "white",
           "lakecolor": "white",
           "landcolor": "#E5ECF6",
           "showlakes": true,
           "showland": true,
           "subunitcolor": "white"
          },
          "hovermode": "closest",
          "mapbox": {
           "style": "light"
          },
          "paper_bgcolor": "white",
          "plot_bgcolor": "#E5ECF6",
          "polar": {
           "angularaxis": {
            "gridcolor": "white",
            "linecolor": "white",
            "ticks": ""
           },
           "bgcolor": "#E5ECF6",
           "radialaxis": {
            "gridcolor": "white",
            "linecolor": "white",
            "ticks": ""
           }
          },
          "scene": {
           "xaxis": {
            "backgroundcolor": "#E5ECF6",
            "gridcolor": "white",
            "gridwidth": 2,
            "linecolor": "white",
            "showbackground": true,
            "ticks": "",
            "zerolinecolor": "white"
           },
           "yaxis": {
            "backgroundcolor": "#E5ECF6",
            "gridcolor": "white",
            "gridwidth": 2,
            "linecolor": "white",
            "showbackground": true,
            "ticks": "",
            "zerolinecolor": "white"
           },
           "zaxis": {
            "backgroundcolor": "#E5ECF6",
            "gridcolor": "white",
            "gridwidth": 2,
            "linecolor": "white",
            "showbackground": true,
            "ticks": "",
            "zerolinecolor": "white"
           }
          },
          "shapedefaults": {
           "fillcolor": "#506784",
           "line": {
            "width": 0
           },
           "opacity": 0.4
          },
          "ternary": {
           "aaxis": {
            "gridcolor": "white",
            "linecolor": "white",
            "ticks": ""
           },
           "baxis": {
            "gridcolor": "white",
            "linecolor": "white",
            "ticks": ""
           },
           "bgcolor": "#E5ECF6",
           "caxis": {
            "gridcolor": "white",
            "linecolor": "white",
            "ticks": ""
           }
          },
          "title": {
           "x": 0.05
          },
          "xaxis": {
           "automargin": true,
           "gridcolor": "white",
           "linecolor": "white",
           "ticks": "",
           "zerolinecolor": "white",
           "zerolinewidth": 2
          },
          "yaxis": {
           "automargin": true,
           "gridcolor": "white",
           "linecolor": "white",
           "ticks": "",
           "zerolinecolor": "white",
           "zerolinewidth": 2
          }
         }
        }
       }
      },
      "text/html": [
       "<div id=\"7b7e8cbb-58dd-47c6-aefc-4e1d527c14b2\" style=\"height: 600px; width: 100%;\" class=\"plotly-graph-div\"></div><script type=\"text/javascript\">require([\"plotly\"], function(Plotly) { window.PLOTLYENV=window.PLOTLYENV || {};window.PLOTLYENV.BASE_URL=\"https://plot.ly\";\n",
       "if (document.getElementById(\"7b7e8cbb-58dd-47c6-aefc-4e1d527c14b2\")) {\n",
       "    Plotly.newPlot(\"7b7e8cbb-58dd-47c6-aefc-4e1d527c14b2\", [{\"hovertemplate\": \"\\u00bfCu\\u00e1l es tu herramienta habitual de consumo de im\\u00e1genes?=1. M\\u00f3vil<br>counts=%{r}<br>prosume_cluster=%{theta}<extra></extra>\", \"legendgroup\": \"\\u00bfCu\\u00e1l es tu herramienta habitual de consumo de im\\u00e1genes?=1. M\\u00f3vil\", \"marker\": {\"color\": \"rgb(213,62,79)\"}, \"name\": \"\\u00bfCu\\u00e1l es tu herramienta habitual de consumo de im\\u00e1genes?=1. M\\u00f3vil\", \"r\": [8, 124, 39, 64, 187], \"showlegend\": true, \"theta\": [\"cluster_1\", \"cluster_2\", \"cluster_3\", \"cluster_4\", \"cluster_5\"], \"type\": \"barpolar\", \"uid\": \"2cb29dcb-cb5f-4ed1-bbc0-bc9393741ca3\"}, {\"hovertemplate\": \"\\u00bfCu\\u00e1l es tu herramienta habitual de consumo de im\\u00e1genes?=2. Televisi\\u00f3n<br>counts=%{r}<br>prosume_cluster=%{theta}<extra></extra>\", \"legendgroup\": \"\\u00bfCu\\u00e1l es tu herramienta habitual de consumo de im\\u00e1genes?=2. Televisi\\u00f3n\", \"marker\": {\"color\": \"rgb(252,141,89)\"}, \"name\": \"\\u00bfCu\\u00e1l es tu herramienta habitual de consumo de im\\u00e1genes?=2. Televisi\\u00f3n\", \"r\": [6, 14, 4, 5, 22], \"showlegend\": true, \"theta\": [\"cluster_1\", \"cluster_2\", \"cluster_3\", \"cluster_4\", \"cluster_5\"], \"type\": \"barpolar\", \"uid\": \"66f33a94-a72d-4ea2-bbfa-b14b81ee4ebc\"}, {\"hovertemplate\": \"\\u00bfCu\\u00e1l es tu herramienta habitual de consumo de im\\u00e1genes?=3. Ordenador<br>counts=%{r}<br>prosume_cluster=%{theta}<extra></extra>\", \"legendgroup\": \"\\u00bfCu\\u00e1l es tu herramienta habitual de consumo de im\\u00e1genes?=3. Ordenador\", \"marker\": {\"color\": \"rgb(254,224,139)\"}, \"name\": \"\\u00bfCu\\u00e1l es tu herramienta habitual de consumo de im\\u00e1genes?=3. Ordenador\", \"r\": [21, 51, 53, 26, 113], \"showlegend\": true, \"theta\": [\"cluster_1\", \"cluster_2\", \"cluster_3\", \"cluster_4\", \"cluster_5\"], \"type\": \"barpolar\", \"uid\": \"403c81b1-b2ac-42db-9106-415c21f50a93\"}, {\"hovertemplate\": \"\\u00bfCu\\u00e1l es tu herramienta habitual de consumo de im\\u00e1genes?=4. Tableta<br>counts=%{r}<br>prosume_cluster=%{theta}<extra></extra>\", \"legendgroup\": \"\\u00bfCu\\u00e1l es tu herramienta habitual de consumo de im\\u00e1genes?=4. Tableta\", \"marker\": {\"color\": \"rgb(230,245,152)\"}, \"name\": \"\\u00bfCu\\u00e1l es tu herramienta habitual de consumo de im\\u00e1genes?=4. Tableta\", \"r\": [2, 6, 4, 3, 14], \"showlegend\": true, \"theta\": [\"cluster_1\", \"cluster_2\", \"cluster_3\", \"cluster_4\", \"cluster_5\"], \"type\": \"barpolar\", \"uid\": \"1b88f3cc-ce7f-4f1a-bc81-a37bdb5454a3\"}, {\"hovertemplate\": \"\\u00bfCu\\u00e1l es tu herramienta habitual de consumo de im\\u00e1genes?=5. Otros (Libros y peri\\u00f3dicos en papel, marquesinas, museos...)<br>counts=%{r}<br>prosume_cluster=%{theta}<extra></extra>\", \"legendgroup\": \"\\u00bfCu\\u00e1l es tu herramienta habitual de consumo de im\\u00e1genes?=5. Otros (Libros y peri\\u00f3dicos en papel, marquesinas, museos...)\", \"marker\": {\"color\": \"rgb(153,213,148)\"}, \"name\": \"\\u00bfCu\\u00e1l es tu herramienta habitual de consumo de im\\u00e1genes?=5. Otros (Libros y peri\\u00f3dicos en papel, marquesinas, museos...)\", \"r\": [1], \"showlegend\": true, \"theta\": [\"cluster_2\"], \"type\": \"barpolar\", \"uid\": \"6102d6fd-025f-424c-b547-e479196fd444\"}], {\"barmode\": \"group\", \"barnorm\": \"\", \"height\": 600, \"legend\": {\"tracegroupgap\": 0}, \"margin\": {\"t\": 60}, \"template\": {\"data\": {\"barpolar\": [{\"marker\": {\"line\": {\"color\": \"#E5ECF6\", \"width\": 0.5}}, \"type\": \"barpolar\"}], \"bar\": [{\"marker\": {\"line\": {\"color\": \"#E5ECF6\", \"width\": 0.5}}, \"type\": \"bar\"}], \"carpet\": [{\"aaxis\": {\"endlinecolor\": \"#2a3f5f\", \"gridcolor\": \"white\", \"linecolor\": \"white\", \"minorgridcolor\": \"white\", \"startlinecolor\": \"#2a3f5f\"}, \"baxis\": {\"endlinecolor\": \"#2a3f5f\", \"gridcolor\": \"white\", \"linecolor\": \"white\", \"minorgridcolor\": \"white\", \"startlinecolor\": \"#2a3f5f\"}, \"type\": \"carpet\"}], \"choropleth\": [{\"colorbar\": {\"outlinewidth\": 0, \"ticks\": \"\"}, \"type\": \"choropleth\"}], \"contourcarpet\": [{\"colorbar\": {\"outlinewidth\": 0, \"ticks\": \"\"}, \"type\": \"contourcarpet\"}], \"contour\": [{\"autocolorscale\": true, \"colorbar\": {\"outlinewidth\": 0, \"ticks\": \"\"}, \"type\": \"contour\"}], \"heatmapgl\": [{\"colorbar\": {\"outlinewidth\": 0, \"ticks\": \"\"}, \"type\": \"heatmapgl\"}], \"heatmap\": [{\"autocolorscale\": true, \"colorbar\": {\"outlinewidth\": 0, \"ticks\": \"\"}, \"type\": \"heatmap\"}], \"histogram2dcontour\": [{\"autocolorscale\": true, \"colorbar\": {\"outlinewidth\": 0, \"ticks\": \"\"}, \"type\": \"histogram2dcontour\"}], \"histogram2d\": [{\"autocolorscale\": true, \"colorbar\": {\"outlinewidth\": 0, \"ticks\": \"\"}, \"type\": \"histogram2d\"}], \"histogram\": [{\"marker\": {\"colorbar\": {\"outlinewidth\": 0, \"ticks\": \"\"}}, \"type\": \"histogram\"}], \"mesh3d\": [{\"colorbar\": {\"outlinewidth\": 0, \"ticks\": \"\"}, \"type\": \"mesh3d\"}], \"parcoords\": [{\"line\": {\"colorbar\": {\"outlinewidth\": 0, \"ticks\": \"\"}}, \"type\": \"parcoords\"}], \"scatter3d\": [{\"marker\": {\"colorbar\": {\"outlinewidth\": 0, \"ticks\": \"\"}}, \"type\": \"scatter3d\"}], \"scattercarpet\": [{\"marker\": {\"colorbar\": {\"outlinewidth\": 0, \"ticks\": \"\"}}, \"type\": \"scattercarpet\"}], \"scattergeo\": [{\"marker\": {\"colorbar\": {\"outlinewidth\": 0, \"ticks\": \"\"}}, \"type\": \"scattergeo\"}], \"scattergl\": [{\"marker\": {\"colorbar\": {\"outlinewidth\": 0, \"ticks\": \"\"}}, \"type\": \"scattergl\"}], \"scattermapbox\": [{\"marker\": {\"colorbar\": {\"outlinewidth\": 0, \"ticks\": \"\"}}, \"type\": \"scattermapbox\"}], \"scatterpolargl\": [{\"marker\": {\"colorbar\": {\"outlinewidth\": 0, \"ticks\": \"\"}}, \"type\": \"scatterpolargl\"}], \"scatterpolar\": [{\"marker\": {\"colorbar\": {\"outlinewidth\": 0, \"ticks\": \"\"}}, \"type\": \"scatterpolar\"}], \"scatter\": [{\"marker\": {\"colorbar\": {\"outlinewidth\": 0, \"ticks\": \"\"}}, \"type\": \"scatter\"}], \"scatterternary\": [{\"marker\": {\"colorbar\": {\"outlinewidth\": 0, \"ticks\": \"\"}}, \"type\": \"scatterternary\"}], \"surface\": [{\"colorbar\": {\"outlinewidth\": 0, \"ticks\": \"\"}, \"type\": \"surface\"}], \"table\": [{\"cells\": {\"fill\": {\"color\": \"#EBF0F8\"}, \"line\": {\"color\": \"white\"}}, \"header\": {\"fill\": {\"color\": \"#C8D4E3\"}, \"line\": {\"color\": \"white\"}}, \"type\": \"table\"}]}, \"layout\": {\"annotationdefaults\": {\"arrowcolor\": \"#506784\", \"arrowhead\": 0, \"arrowwidth\": 1}, \"colorscale\": {\"diverging\": [[0, \"#8e0152\"], [0.1, \"#c51b7d\"], [0.2, \"#de77ae\"], [0.3, \"#f1b6da\"], [0.4, \"#fde0ef\"], [0.5, \"#f7f7f7\"], [0.6, \"#e6f5d0\"], [0.7, \"#b8e186\"], [0.8, \"#7fbc41\"], [0.9, \"#4d9221\"], [1, \"#276419\"]], \"sequential\": [[0.0, \"#0508b8\"], [0.0893854748603352, \"#1910d8\"], [0.1787709497206704, \"#3c19f0\"], [0.2681564245810056, \"#6b1cfb\"], [0.3575418994413408, \"#981cfd\"], [0.44692737430167595, \"#bf1cfd\"], [0.5363128491620112, \"#dd2bfd\"], [0.6256983240223464, \"#f246fe\"], [0.7150837988826816, \"#fc67fd\"], [0.8044692737430168, \"#fe88fc\"], [0.8938547486033519, \"#fea5fd\"], [0.9832402234636871, \"#febefe\"], [1.0, \"#fec3fe\"]], \"sequentialminus\": [[0.0, \"#0508b8\"], [0.0893854748603352, \"#1910d8\"], [0.1787709497206704, \"#3c19f0\"], [0.2681564245810056, \"#6b1cfb\"], [0.3575418994413408, \"#981cfd\"], [0.44692737430167595, \"#bf1cfd\"], [0.5363128491620112, \"#dd2bfd\"], [0.6256983240223464, \"#f246fe\"], [0.7150837988826816, \"#fc67fd\"], [0.8044692737430168, \"#fe88fc\"], [0.8938547486033519, \"#fea5fd\"], [0.9832402234636871, \"#febefe\"], [1.0, \"#fec3fe\"]]}, \"colorway\": [\"#636efa\", \"#EF553B\", \"#00cc96\", \"#ab63fa\", \"#19d3f3\", \"#e763fa\", \"#FECB52\", \"#FFA15A\", \"#FF6692\", \"#B6E880\"], \"font\": {\"color\": \"#2a3f5f\"}, \"geo\": {\"bgcolor\": \"white\", \"lakecolor\": \"white\", \"landcolor\": \"#E5ECF6\", \"showlakes\": true, \"showland\": true, \"subunitcolor\": \"white\"}, \"hovermode\": \"closest\", \"mapbox\": {\"style\": \"light\"}, \"paper_bgcolor\": \"white\", \"plot_bgcolor\": \"#E5ECF6\", \"polar\": {\"angularaxis\": {\"gridcolor\": \"white\", \"linecolor\": \"white\", \"ticks\": \"\"}, \"bgcolor\": \"#E5ECF6\", \"radialaxis\": {\"gridcolor\": \"white\", \"linecolor\": \"white\", \"ticks\": \"\"}}, \"scene\": {\"xaxis\": {\"backgroundcolor\": \"#E5ECF6\", \"gridcolor\": \"white\", \"gridwidth\": 2, \"linecolor\": \"white\", \"showbackground\": true, \"ticks\": \"\", \"zerolinecolor\": \"white\"}, \"yaxis\": {\"backgroundcolor\": \"#E5ECF6\", \"gridcolor\": \"white\", \"gridwidth\": 2, \"linecolor\": \"white\", \"showbackground\": true, \"ticks\": \"\", \"zerolinecolor\": \"white\"}, \"zaxis\": {\"backgroundcolor\": \"#E5ECF6\", \"gridcolor\": \"white\", \"gridwidth\": 2, \"linecolor\": \"white\", \"showbackground\": true, \"ticks\": \"\", \"zerolinecolor\": \"white\"}}, \"shapedefaults\": {\"fillcolor\": \"#506784\", \"line\": {\"width\": 0}, \"opacity\": 0.4}, \"ternary\": {\"aaxis\": {\"gridcolor\": \"white\", \"linecolor\": \"white\", \"ticks\": \"\"}, \"baxis\": {\"gridcolor\": \"white\", \"linecolor\": \"white\", \"ticks\": \"\"}, \"bgcolor\": \"#E5ECF6\", \"caxis\": {\"gridcolor\": \"white\", \"linecolor\": \"white\", \"ticks\": \"\"}}, \"title\": {\"x\": 0.05}, \"xaxis\": {\"automargin\": true, \"gridcolor\": \"white\", \"linecolor\": \"white\", \"ticks\": \"\", \"zerolinecolor\": \"white\", \"zerolinewidth\": 2}, \"yaxis\": {\"automargin\": true, \"gridcolor\": \"white\", \"linecolor\": \"white\", \"ticks\": \"\", \"zerolinecolor\": \"white\", \"zerolinewidth\": 2}}}, \"polar\": {\"angularaxis\": {\"direction\": \"clockwise\", \"rotation\": 90}}}, {\"showLink\": false, \"linkText\": \"Export to plot.ly\", \"plotlyServerURL\": \"https://plot.ly\"}); \n",
       "}\n",
       "});</script><script type=\"text/javascript\">window.addEventListener(\"resize\", function(){if (document.getElementById(\"7b7e8cbb-58dd-47c6-aefc-4e1d527c14b2\")) {window._Plotly.Plots.resize(document.getElementById(\"7b7e8cbb-58dd-47c6-aefc-4e1d527c14b2\"));};})</script>"
      ],
      "text/vnd.plotly.v1+html": [
       "<div id=\"7b7e8cbb-58dd-47c6-aefc-4e1d527c14b2\" style=\"height: 600px; width: 100%;\" class=\"plotly-graph-div\"></div><script type=\"text/javascript\">require([\"plotly\"], function(Plotly) { window.PLOTLYENV=window.PLOTLYENV || {};window.PLOTLYENV.BASE_URL=\"https://plot.ly\";\n",
       "if (document.getElementById(\"7b7e8cbb-58dd-47c6-aefc-4e1d527c14b2\")) {\n",
       "    Plotly.newPlot(\"7b7e8cbb-58dd-47c6-aefc-4e1d527c14b2\", [{\"hovertemplate\": \"\\u00bfCu\\u00e1l es tu herramienta habitual de consumo de im\\u00e1genes?=1. M\\u00f3vil<br>counts=%{r}<br>prosume_cluster=%{theta}<extra></extra>\", \"legendgroup\": \"\\u00bfCu\\u00e1l es tu herramienta habitual de consumo de im\\u00e1genes?=1. M\\u00f3vil\", \"marker\": {\"color\": \"rgb(213,62,79)\"}, \"name\": \"\\u00bfCu\\u00e1l es tu herramienta habitual de consumo de im\\u00e1genes?=1. M\\u00f3vil\", \"r\": [8, 124, 39, 64, 187], \"showlegend\": true, \"theta\": [\"cluster_1\", \"cluster_2\", \"cluster_3\", \"cluster_4\", \"cluster_5\"], \"type\": \"barpolar\", \"uid\": \"2cb29dcb-cb5f-4ed1-bbc0-bc9393741ca3\"}, {\"hovertemplate\": \"\\u00bfCu\\u00e1l es tu herramienta habitual de consumo de im\\u00e1genes?=2. Televisi\\u00f3n<br>counts=%{r}<br>prosume_cluster=%{theta}<extra></extra>\", \"legendgroup\": \"\\u00bfCu\\u00e1l es tu herramienta habitual de consumo de im\\u00e1genes?=2. Televisi\\u00f3n\", \"marker\": {\"color\": \"rgb(252,141,89)\"}, \"name\": \"\\u00bfCu\\u00e1l es tu herramienta habitual de consumo de im\\u00e1genes?=2. Televisi\\u00f3n\", \"r\": [6, 14, 4, 5, 22], \"showlegend\": true, \"theta\": [\"cluster_1\", \"cluster_2\", \"cluster_3\", \"cluster_4\", \"cluster_5\"], \"type\": \"barpolar\", \"uid\": \"66f33a94-a72d-4ea2-bbfa-b14b81ee4ebc\"}, {\"hovertemplate\": \"\\u00bfCu\\u00e1l es tu herramienta habitual de consumo de im\\u00e1genes?=3. Ordenador<br>counts=%{r}<br>prosume_cluster=%{theta}<extra></extra>\", \"legendgroup\": \"\\u00bfCu\\u00e1l es tu herramienta habitual de consumo de im\\u00e1genes?=3. Ordenador\", \"marker\": {\"color\": \"rgb(254,224,139)\"}, \"name\": \"\\u00bfCu\\u00e1l es tu herramienta habitual de consumo de im\\u00e1genes?=3. Ordenador\", \"r\": [21, 51, 53, 26, 113], \"showlegend\": true, \"theta\": [\"cluster_1\", \"cluster_2\", \"cluster_3\", \"cluster_4\", \"cluster_5\"], \"type\": \"barpolar\", \"uid\": \"403c81b1-b2ac-42db-9106-415c21f50a93\"}, {\"hovertemplate\": \"\\u00bfCu\\u00e1l es tu herramienta habitual de consumo de im\\u00e1genes?=4. Tableta<br>counts=%{r}<br>prosume_cluster=%{theta}<extra></extra>\", \"legendgroup\": \"\\u00bfCu\\u00e1l es tu herramienta habitual de consumo de im\\u00e1genes?=4. Tableta\", \"marker\": {\"color\": \"rgb(230,245,152)\"}, \"name\": \"\\u00bfCu\\u00e1l es tu herramienta habitual de consumo de im\\u00e1genes?=4. Tableta\", \"r\": [2, 6, 4, 3, 14], \"showlegend\": true, \"theta\": [\"cluster_1\", \"cluster_2\", \"cluster_3\", \"cluster_4\", \"cluster_5\"], \"type\": \"barpolar\", \"uid\": \"1b88f3cc-ce7f-4f1a-bc81-a37bdb5454a3\"}, {\"hovertemplate\": \"\\u00bfCu\\u00e1l es tu herramienta habitual de consumo de im\\u00e1genes?=5. Otros (Libros y peri\\u00f3dicos en papel, marquesinas, museos...)<br>counts=%{r}<br>prosume_cluster=%{theta}<extra></extra>\", \"legendgroup\": \"\\u00bfCu\\u00e1l es tu herramienta habitual de consumo de im\\u00e1genes?=5. Otros (Libros y peri\\u00f3dicos en papel, marquesinas, museos...)\", \"marker\": {\"color\": \"rgb(153,213,148)\"}, \"name\": \"\\u00bfCu\\u00e1l es tu herramienta habitual de consumo de im\\u00e1genes?=5. Otros (Libros y peri\\u00f3dicos en papel, marquesinas, museos...)\", \"r\": [1], \"showlegend\": true, \"theta\": [\"cluster_2\"], \"type\": \"barpolar\", \"uid\": \"6102d6fd-025f-424c-b547-e479196fd444\"}], {\"barmode\": \"group\", \"barnorm\": \"\", \"height\": 600, \"legend\": {\"tracegroupgap\": 0}, \"margin\": {\"t\": 60}, \"template\": {\"data\": {\"barpolar\": [{\"marker\": {\"line\": {\"color\": \"#E5ECF6\", \"width\": 0.5}}, \"type\": \"barpolar\"}], \"bar\": [{\"marker\": {\"line\": {\"color\": \"#E5ECF6\", \"width\": 0.5}}, \"type\": \"bar\"}], \"carpet\": [{\"aaxis\": {\"endlinecolor\": \"#2a3f5f\", \"gridcolor\": \"white\", \"linecolor\": \"white\", \"minorgridcolor\": \"white\", \"startlinecolor\": \"#2a3f5f\"}, \"baxis\": {\"endlinecolor\": \"#2a3f5f\", \"gridcolor\": \"white\", \"linecolor\": \"white\", \"minorgridcolor\": \"white\", \"startlinecolor\": \"#2a3f5f\"}, \"type\": \"carpet\"}], \"choropleth\": [{\"colorbar\": {\"outlinewidth\": 0, \"ticks\": \"\"}, \"type\": \"choropleth\"}], \"contourcarpet\": [{\"colorbar\": {\"outlinewidth\": 0, \"ticks\": \"\"}, \"type\": \"contourcarpet\"}], \"contour\": [{\"autocolorscale\": true, \"colorbar\": {\"outlinewidth\": 0, \"ticks\": \"\"}, \"type\": \"contour\"}], \"heatmapgl\": [{\"colorbar\": {\"outlinewidth\": 0, \"ticks\": \"\"}, \"type\": \"heatmapgl\"}], \"heatmap\": [{\"autocolorscale\": true, \"colorbar\": {\"outlinewidth\": 0, \"ticks\": \"\"}, \"type\": \"heatmap\"}], \"histogram2dcontour\": [{\"autocolorscale\": true, \"colorbar\": {\"outlinewidth\": 0, \"ticks\": \"\"}, \"type\": \"histogram2dcontour\"}], \"histogram2d\": [{\"autocolorscale\": true, \"colorbar\": {\"outlinewidth\": 0, \"ticks\": \"\"}, \"type\": \"histogram2d\"}], \"histogram\": [{\"marker\": {\"colorbar\": {\"outlinewidth\": 0, \"ticks\": \"\"}}, \"type\": \"histogram\"}], \"mesh3d\": [{\"colorbar\": {\"outlinewidth\": 0, \"ticks\": \"\"}, \"type\": \"mesh3d\"}], \"parcoords\": [{\"line\": {\"colorbar\": {\"outlinewidth\": 0, \"ticks\": \"\"}}, \"type\": \"parcoords\"}], \"scatter3d\": [{\"marker\": {\"colorbar\": {\"outlinewidth\": 0, \"ticks\": \"\"}}, \"type\": \"scatter3d\"}], \"scattercarpet\": [{\"marker\": {\"colorbar\": {\"outlinewidth\": 0, \"ticks\": \"\"}}, \"type\": \"scattercarpet\"}], \"scattergeo\": [{\"marker\": {\"colorbar\": {\"outlinewidth\": 0, \"ticks\": \"\"}}, \"type\": \"scattergeo\"}], \"scattergl\": [{\"marker\": {\"colorbar\": {\"outlinewidth\": 0, \"ticks\": \"\"}}, \"type\": \"scattergl\"}], \"scattermapbox\": [{\"marker\": {\"colorbar\": {\"outlinewidth\": 0, \"ticks\": \"\"}}, \"type\": \"scattermapbox\"}], \"scatterpolargl\": [{\"marker\": {\"colorbar\": {\"outlinewidth\": 0, \"ticks\": \"\"}}, \"type\": \"scatterpolargl\"}], \"scatterpolar\": [{\"marker\": {\"colorbar\": {\"outlinewidth\": 0, \"ticks\": \"\"}}, \"type\": \"scatterpolar\"}], \"scatter\": [{\"marker\": {\"colorbar\": {\"outlinewidth\": 0, \"ticks\": \"\"}}, \"type\": \"scatter\"}], \"scatterternary\": [{\"marker\": {\"colorbar\": {\"outlinewidth\": 0, \"ticks\": \"\"}}, \"type\": \"scatterternary\"}], \"surface\": [{\"colorbar\": {\"outlinewidth\": 0, \"ticks\": \"\"}, \"type\": \"surface\"}], \"table\": [{\"cells\": {\"fill\": {\"color\": \"#EBF0F8\"}, \"line\": {\"color\": \"white\"}}, \"header\": {\"fill\": {\"color\": \"#C8D4E3\"}, \"line\": {\"color\": \"white\"}}, \"type\": \"table\"}]}, \"layout\": {\"annotationdefaults\": {\"arrowcolor\": \"#506784\", \"arrowhead\": 0, \"arrowwidth\": 1}, \"colorscale\": {\"diverging\": [[0, \"#8e0152\"], [0.1, \"#c51b7d\"], [0.2, \"#de77ae\"], [0.3, \"#f1b6da\"], [0.4, \"#fde0ef\"], [0.5, \"#f7f7f7\"], [0.6, \"#e6f5d0\"], [0.7, \"#b8e186\"], [0.8, \"#7fbc41\"], [0.9, \"#4d9221\"], [1, \"#276419\"]], \"sequential\": [[0.0, \"#0508b8\"], [0.0893854748603352, \"#1910d8\"], [0.1787709497206704, \"#3c19f0\"], [0.2681564245810056, \"#6b1cfb\"], [0.3575418994413408, \"#981cfd\"], [0.44692737430167595, \"#bf1cfd\"], [0.5363128491620112, \"#dd2bfd\"], [0.6256983240223464, \"#f246fe\"], [0.7150837988826816, \"#fc67fd\"], [0.8044692737430168, \"#fe88fc\"], [0.8938547486033519, \"#fea5fd\"], [0.9832402234636871, \"#febefe\"], [1.0, \"#fec3fe\"]], \"sequentialminus\": [[0.0, \"#0508b8\"], [0.0893854748603352, \"#1910d8\"], [0.1787709497206704, \"#3c19f0\"], [0.2681564245810056, \"#6b1cfb\"], [0.3575418994413408, \"#981cfd\"], [0.44692737430167595, \"#bf1cfd\"], [0.5363128491620112, \"#dd2bfd\"], [0.6256983240223464, \"#f246fe\"], [0.7150837988826816, \"#fc67fd\"], [0.8044692737430168, \"#fe88fc\"], [0.8938547486033519, \"#fea5fd\"], [0.9832402234636871, \"#febefe\"], [1.0, \"#fec3fe\"]]}, \"colorway\": [\"#636efa\", \"#EF553B\", \"#00cc96\", \"#ab63fa\", \"#19d3f3\", \"#e763fa\", \"#FECB52\", \"#FFA15A\", \"#FF6692\", \"#B6E880\"], \"font\": {\"color\": \"#2a3f5f\"}, \"geo\": {\"bgcolor\": \"white\", \"lakecolor\": \"white\", \"landcolor\": \"#E5ECF6\", \"showlakes\": true, \"showland\": true, \"subunitcolor\": \"white\"}, \"hovermode\": \"closest\", \"mapbox\": {\"style\": \"light\"}, \"paper_bgcolor\": \"white\", \"plot_bgcolor\": \"#E5ECF6\", \"polar\": {\"angularaxis\": {\"gridcolor\": \"white\", \"linecolor\": \"white\", \"ticks\": \"\"}, \"bgcolor\": \"#E5ECF6\", \"radialaxis\": {\"gridcolor\": \"white\", \"linecolor\": \"white\", \"ticks\": \"\"}}, \"scene\": {\"xaxis\": {\"backgroundcolor\": \"#E5ECF6\", \"gridcolor\": \"white\", \"gridwidth\": 2, \"linecolor\": \"white\", \"showbackground\": true, \"ticks\": \"\", \"zerolinecolor\": \"white\"}, \"yaxis\": {\"backgroundcolor\": \"#E5ECF6\", \"gridcolor\": \"white\", \"gridwidth\": 2, \"linecolor\": \"white\", \"showbackground\": true, \"ticks\": \"\", \"zerolinecolor\": \"white\"}, \"zaxis\": {\"backgroundcolor\": \"#E5ECF6\", \"gridcolor\": \"white\", \"gridwidth\": 2, \"linecolor\": \"white\", \"showbackground\": true, \"ticks\": \"\", \"zerolinecolor\": \"white\"}}, \"shapedefaults\": {\"fillcolor\": \"#506784\", \"line\": {\"width\": 0}, \"opacity\": 0.4}, \"ternary\": {\"aaxis\": {\"gridcolor\": \"white\", \"linecolor\": \"white\", \"ticks\": \"\"}, \"baxis\": {\"gridcolor\": \"white\", \"linecolor\": \"white\", \"ticks\": \"\"}, \"bgcolor\": \"#E5ECF6\", \"caxis\": {\"gridcolor\": \"white\", \"linecolor\": \"white\", \"ticks\": \"\"}}, \"title\": {\"x\": 0.05}, \"xaxis\": {\"automargin\": true, \"gridcolor\": \"white\", \"linecolor\": \"white\", \"ticks\": \"\", \"zerolinecolor\": \"white\", \"zerolinewidth\": 2}, \"yaxis\": {\"automargin\": true, \"gridcolor\": \"white\", \"linecolor\": \"white\", \"ticks\": \"\", \"zerolinecolor\": \"white\", \"zerolinewidth\": 2}}}, \"polar\": {\"angularaxis\": {\"direction\": \"clockwise\", \"rotation\": 90}}}, {\"showLink\": false, \"linkText\": \"Export to plot.ly\", \"plotlyServerURL\": \"https://plot.ly\"}); \n",
       "}\n",
       "});</script><script type=\"text/javascript\">window.addEventListener(\"resize\", function(){if (document.getElementById(\"7b7e8cbb-58dd-47c6-aefc-4e1d527c14b2\")) {window._Plotly.Plots.resize(document.getElementById(\"7b7e8cbb-58dd-47c6-aefc-4e1d527c14b2\"));};})</script>"
      ]
     },
     "metadata": {},
     "output_type": "display_data"
    },
    {
     "name": "stdout",
     "output_type": "stream",
     "text": [
      "Comparando la pregunta ¿Cada cuánto tiempo consumes imágenes?\n"
     ]
    },
    {
     "data": {
      "application/vnd.plotly.v1+json": {
       "config": {
        "linkText": "Export to plot.ly",
        "plotlyServerURL": "https://plot.ly",
        "showLink": false
       },
       "data": [
        {
         "hovertemplate": "¿Cada cuánto tiempo consumes imágenes?=1. Nunca<br>counts=%{r}<br>prosume_cluster=%{theta}<extra></extra>",
         "legendgroup": "¿Cada cuánto tiempo consumes imágenes?=1. Nunca",
         "marker": {
          "color": "rgb(213,62,79)"
         },
         "name": "¿Cada cuánto tiempo consumes imágenes?=1. Nunca",
         "r": [
          3,
          10
         ],
         "showlegend": true,
         "theta": [
          "cluster_1",
          "cluster_2"
         ],
         "type": "barpolar",
         "uid": "7ef90f77-00cf-4d81-95ab-4b019dafeed8"
        },
        {
         "hovertemplate": "¿Cada cuánto tiempo consumes imágenes?=2. Dos o tres veces por semana<br>counts=%{r}<br>prosume_cluster=%{theta}<extra></extra>",
         "legendgroup": "¿Cada cuánto tiempo consumes imágenes?=2. Dos o tres veces por semana",
         "marker": {
          "color": "rgb(252,141,89)"
         },
         "name": "¿Cada cuánto tiempo consumes imágenes?=2. Dos o tres veces por semana",
         "r": [
          21,
          51,
          10,
          3,
          16
         ],
         "showlegend": true,
         "theta": [
          "cluster_1",
          "cluster_2",
          "cluster_3",
          "cluster_4",
          "cluster_5"
         ],
         "type": "barpolar",
         "uid": "9e61adf7-5ff9-4fcb-80b1-7c5120013e0f"
        },
        {
         "hovertemplate": "¿Cada cuánto tiempo consumes imágenes?=3. Casi todos los días<br>counts=%{r}<br>prosume_cluster=%{theta}<extra></extra>",
         "legendgroup": "¿Cada cuánto tiempo consumes imágenes?=3. Casi todos los días",
         "marker": {
          "color": "rgb(254,224,139)"
         },
         "name": "¿Cada cuánto tiempo consumes imágenes?=3. Casi todos los días",
         "r": [
          12,
          68,
          52,
          17,
          71
         ],
         "showlegend": true,
         "theta": [
          "cluster_1",
          "cluster_2",
          "cluster_3",
          "cluster_4",
          "cluster_5"
         ],
         "type": "barpolar",
         "uid": "71ca3bae-cc23-4f89-b4ce-a5894bc282fc"
        },
        {
         "hovertemplate": "¿Cada cuánto tiempo consumes imágenes?=4. A diario<br>counts=%{r}<br>prosume_cluster=%{theta}<extra></extra>",
         "legendgroup": "¿Cada cuánto tiempo consumes imágenes?=4. A diario",
         "marker": {
          "color": "rgb(230,245,152)"
         },
         "name": "¿Cada cuánto tiempo consumes imágenes?=4. A diario",
         "r": [
          1,
          67,
          38,
          78,
          249
         ],
         "showlegend": true,
         "theta": [
          "cluster_1",
          "cluster_2",
          "cluster_3",
          "cluster_4",
          "cluster_5"
         ],
         "type": "barpolar",
         "uid": "8c865bc3-c288-4459-a259-58e89f4ac037"
        }
       ],
       "layout": {
        "barmode": "group",
        "barnorm": "",
        "height": 600,
        "legend": {
         "tracegroupgap": 0
        },
        "margin": {
         "t": 60
        },
        "polar": {
         "angularaxis": {
          "direction": "clockwise",
          "rotation": 90
         }
        },
        "template": {
         "data": {
          "bar": [
           {
            "marker": {
             "line": {
              "color": "#E5ECF6",
              "width": 0.5
             }
            },
            "type": "bar"
           }
          ],
          "barpolar": [
           {
            "marker": {
             "line": {
              "color": "#E5ECF6",
              "width": 0.5
             }
            },
            "type": "barpolar"
           }
          ],
          "carpet": [
           {
            "aaxis": {
             "endlinecolor": "#2a3f5f",
             "gridcolor": "white",
             "linecolor": "white",
             "minorgridcolor": "white",
             "startlinecolor": "#2a3f5f"
            },
            "baxis": {
             "endlinecolor": "#2a3f5f",
             "gridcolor": "white",
             "linecolor": "white",
             "minorgridcolor": "white",
             "startlinecolor": "#2a3f5f"
            },
            "type": "carpet"
           }
          ],
          "choropleth": [
           {
            "colorbar": {
             "outlinewidth": 0,
             "ticks": ""
            },
            "type": "choropleth"
           }
          ],
          "contour": [
           {
            "autocolorscale": true,
            "colorbar": {
             "outlinewidth": 0,
             "ticks": ""
            },
            "type": "contour"
           }
          ],
          "contourcarpet": [
           {
            "colorbar": {
             "outlinewidth": 0,
             "ticks": ""
            },
            "type": "contourcarpet"
           }
          ],
          "heatmap": [
           {
            "autocolorscale": true,
            "colorbar": {
             "outlinewidth": 0,
             "ticks": ""
            },
            "type": "heatmap"
           }
          ],
          "heatmapgl": [
           {
            "colorbar": {
             "outlinewidth": 0,
             "ticks": ""
            },
            "type": "heatmapgl"
           }
          ],
          "histogram": [
           {
            "marker": {
             "colorbar": {
              "outlinewidth": 0,
              "ticks": ""
             }
            },
            "type": "histogram"
           }
          ],
          "histogram2d": [
           {
            "autocolorscale": true,
            "colorbar": {
             "outlinewidth": 0,
             "ticks": ""
            },
            "type": "histogram2d"
           }
          ],
          "histogram2dcontour": [
           {
            "autocolorscale": true,
            "colorbar": {
             "outlinewidth": 0,
             "ticks": ""
            },
            "type": "histogram2dcontour"
           }
          ],
          "mesh3d": [
           {
            "colorbar": {
             "outlinewidth": 0,
             "ticks": ""
            },
            "type": "mesh3d"
           }
          ],
          "parcoords": [
           {
            "line": {
             "colorbar": {
              "outlinewidth": 0,
              "ticks": ""
             }
            },
            "type": "parcoords"
           }
          ],
          "scatter": [
           {
            "marker": {
             "colorbar": {
              "outlinewidth": 0,
              "ticks": ""
             }
            },
            "type": "scatter"
           }
          ],
          "scatter3d": [
           {
            "marker": {
             "colorbar": {
              "outlinewidth": 0,
              "ticks": ""
             }
            },
            "type": "scatter3d"
           }
          ],
          "scattercarpet": [
           {
            "marker": {
             "colorbar": {
              "outlinewidth": 0,
              "ticks": ""
             }
            },
            "type": "scattercarpet"
           }
          ],
          "scattergeo": [
           {
            "marker": {
             "colorbar": {
              "outlinewidth": 0,
              "ticks": ""
             }
            },
            "type": "scattergeo"
           }
          ],
          "scattergl": [
           {
            "marker": {
             "colorbar": {
              "outlinewidth": 0,
              "ticks": ""
             }
            },
            "type": "scattergl"
           }
          ],
          "scattermapbox": [
           {
            "marker": {
             "colorbar": {
              "outlinewidth": 0,
              "ticks": ""
             }
            },
            "type": "scattermapbox"
           }
          ],
          "scatterpolar": [
           {
            "marker": {
             "colorbar": {
              "outlinewidth": 0,
              "ticks": ""
             }
            },
            "type": "scatterpolar"
           }
          ],
          "scatterpolargl": [
           {
            "marker": {
             "colorbar": {
              "outlinewidth": 0,
              "ticks": ""
             }
            },
            "type": "scatterpolargl"
           }
          ],
          "scatterternary": [
           {
            "marker": {
             "colorbar": {
              "outlinewidth": 0,
              "ticks": ""
             }
            },
            "type": "scatterternary"
           }
          ],
          "surface": [
           {
            "colorbar": {
             "outlinewidth": 0,
             "ticks": ""
            },
            "type": "surface"
           }
          ],
          "table": [
           {
            "cells": {
             "fill": {
              "color": "#EBF0F8"
             },
             "line": {
              "color": "white"
             }
            },
            "header": {
             "fill": {
              "color": "#C8D4E3"
             },
             "line": {
              "color": "white"
             }
            },
            "type": "table"
           }
          ]
         },
         "layout": {
          "annotationdefaults": {
           "arrowcolor": "#506784",
           "arrowhead": 0,
           "arrowwidth": 1
          },
          "colorscale": {
           "diverging": [
            [
             0,
             "#8e0152"
            ],
            [
             0.1,
             "#c51b7d"
            ],
            [
             0.2,
             "#de77ae"
            ],
            [
             0.3,
             "#f1b6da"
            ],
            [
             0.4,
             "#fde0ef"
            ],
            [
             0.5,
             "#f7f7f7"
            ],
            [
             0.6,
             "#e6f5d0"
            ],
            [
             0.7,
             "#b8e186"
            ],
            [
             0.8,
             "#7fbc41"
            ],
            [
             0.9,
             "#4d9221"
            ],
            [
             1,
             "#276419"
            ]
           ],
           "sequential": [
            [
             0,
             "#0508b8"
            ],
            [
             0.0893854748603352,
             "#1910d8"
            ],
            [
             0.1787709497206704,
             "#3c19f0"
            ],
            [
             0.2681564245810056,
             "#6b1cfb"
            ],
            [
             0.3575418994413408,
             "#981cfd"
            ],
            [
             0.44692737430167595,
             "#bf1cfd"
            ],
            [
             0.5363128491620112,
             "#dd2bfd"
            ],
            [
             0.6256983240223464,
             "#f246fe"
            ],
            [
             0.7150837988826816,
             "#fc67fd"
            ],
            [
             0.8044692737430168,
             "#fe88fc"
            ],
            [
             0.8938547486033519,
             "#fea5fd"
            ],
            [
             0.9832402234636871,
             "#febefe"
            ],
            [
             1,
             "#fec3fe"
            ]
           ],
           "sequentialminus": [
            [
             0,
             "#0508b8"
            ],
            [
             0.0893854748603352,
             "#1910d8"
            ],
            [
             0.1787709497206704,
             "#3c19f0"
            ],
            [
             0.2681564245810056,
             "#6b1cfb"
            ],
            [
             0.3575418994413408,
             "#981cfd"
            ],
            [
             0.44692737430167595,
             "#bf1cfd"
            ],
            [
             0.5363128491620112,
             "#dd2bfd"
            ],
            [
             0.6256983240223464,
             "#f246fe"
            ],
            [
             0.7150837988826816,
             "#fc67fd"
            ],
            [
             0.8044692737430168,
             "#fe88fc"
            ],
            [
             0.8938547486033519,
             "#fea5fd"
            ],
            [
             0.9832402234636871,
             "#febefe"
            ],
            [
             1,
             "#fec3fe"
            ]
           ]
          },
          "colorway": [
           "#636efa",
           "#EF553B",
           "#00cc96",
           "#ab63fa",
           "#19d3f3",
           "#e763fa",
           "#FECB52",
           "#FFA15A",
           "#FF6692",
           "#B6E880"
          ],
          "font": {
           "color": "#2a3f5f"
          },
          "geo": {
           "bgcolor": "white",
           "lakecolor": "white",
           "landcolor": "#E5ECF6",
           "showlakes": true,
           "showland": true,
           "subunitcolor": "white"
          },
          "hovermode": "closest",
          "mapbox": {
           "style": "light"
          },
          "paper_bgcolor": "white",
          "plot_bgcolor": "#E5ECF6",
          "polar": {
           "angularaxis": {
            "gridcolor": "white",
            "linecolor": "white",
            "ticks": ""
           },
           "bgcolor": "#E5ECF6",
           "radialaxis": {
            "gridcolor": "white",
            "linecolor": "white",
            "ticks": ""
           }
          },
          "scene": {
           "xaxis": {
            "backgroundcolor": "#E5ECF6",
            "gridcolor": "white",
            "gridwidth": 2,
            "linecolor": "white",
            "showbackground": true,
            "ticks": "",
            "zerolinecolor": "white"
           },
           "yaxis": {
            "backgroundcolor": "#E5ECF6",
            "gridcolor": "white",
            "gridwidth": 2,
            "linecolor": "white",
            "showbackground": true,
            "ticks": "",
            "zerolinecolor": "white"
           },
           "zaxis": {
            "backgroundcolor": "#E5ECF6",
            "gridcolor": "white",
            "gridwidth": 2,
            "linecolor": "white",
            "showbackground": true,
            "ticks": "",
            "zerolinecolor": "white"
           }
          },
          "shapedefaults": {
           "fillcolor": "#506784",
           "line": {
            "width": 0
           },
           "opacity": 0.4
          },
          "ternary": {
           "aaxis": {
            "gridcolor": "white",
            "linecolor": "white",
            "ticks": ""
           },
           "baxis": {
            "gridcolor": "white",
            "linecolor": "white",
            "ticks": ""
           },
           "bgcolor": "#E5ECF6",
           "caxis": {
            "gridcolor": "white",
            "linecolor": "white",
            "ticks": ""
           }
          },
          "title": {
           "x": 0.05
          },
          "xaxis": {
           "automargin": true,
           "gridcolor": "white",
           "linecolor": "white",
           "ticks": "",
           "zerolinecolor": "white",
           "zerolinewidth": 2
          },
          "yaxis": {
           "automargin": true,
           "gridcolor": "white",
           "linecolor": "white",
           "ticks": "",
           "zerolinecolor": "white",
           "zerolinewidth": 2
          }
         }
        }
       }
      },
      "text/html": [
       "<div id=\"ac9e2d5e-ab5e-4238-957b-bd4a3f8b3427\" style=\"height: 600px; width: 100%;\" class=\"plotly-graph-div\"></div><script type=\"text/javascript\">require([\"plotly\"], function(Plotly) { window.PLOTLYENV=window.PLOTLYENV || {};window.PLOTLYENV.BASE_URL=\"https://plot.ly\";\n",
       "if (document.getElementById(\"ac9e2d5e-ab5e-4238-957b-bd4a3f8b3427\")) {\n",
       "    Plotly.newPlot(\"ac9e2d5e-ab5e-4238-957b-bd4a3f8b3427\", [{\"hovertemplate\": \"\\u00bfCada cu\\u00e1nto tiempo consumes im\\u00e1genes?=1. Nunca<br>counts=%{r}<br>prosume_cluster=%{theta}<extra></extra>\", \"legendgroup\": \"\\u00bfCada cu\\u00e1nto tiempo consumes im\\u00e1genes?=1. Nunca\", \"marker\": {\"color\": \"rgb(213,62,79)\"}, \"name\": \"\\u00bfCada cu\\u00e1nto tiempo consumes im\\u00e1genes?=1. Nunca\", \"r\": [3, 10], \"showlegend\": true, \"theta\": [\"cluster_1\", \"cluster_2\"], \"type\": \"barpolar\", \"uid\": \"7ef90f77-00cf-4d81-95ab-4b019dafeed8\"}, {\"hovertemplate\": \"\\u00bfCada cu\\u00e1nto tiempo consumes im\\u00e1genes?=2. Dos o tres veces por semana<br>counts=%{r}<br>prosume_cluster=%{theta}<extra></extra>\", \"legendgroup\": \"\\u00bfCada cu\\u00e1nto tiempo consumes im\\u00e1genes?=2. Dos o tres veces por semana\", \"marker\": {\"color\": \"rgb(252,141,89)\"}, \"name\": \"\\u00bfCada cu\\u00e1nto tiempo consumes im\\u00e1genes?=2. Dos o tres veces por semana\", \"r\": [21, 51, 10, 3, 16], \"showlegend\": true, \"theta\": [\"cluster_1\", \"cluster_2\", \"cluster_3\", \"cluster_4\", \"cluster_5\"], \"type\": \"barpolar\", \"uid\": \"9e61adf7-5ff9-4fcb-80b1-7c5120013e0f\"}, {\"hovertemplate\": \"\\u00bfCada cu\\u00e1nto tiempo consumes im\\u00e1genes?=3. Casi todos los d\\u00edas<br>counts=%{r}<br>prosume_cluster=%{theta}<extra></extra>\", \"legendgroup\": \"\\u00bfCada cu\\u00e1nto tiempo consumes im\\u00e1genes?=3. Casi todos los d\\u00edas\", \"marker\": {\"color\": \"rgb(254,224,139)\"}, \"name\": \"\\u00bfCada cu\\u00e1nto tiempo consumes im\\u00e1genes?=3. Casi todos los d\\u00edas\", \"r\": [12, 68, 52, 17, 71], \"showlegend\": true, \"theta\": [\"cluster_1\", \"cluster_2\", \"cluster_3\", \"cluster_4\", \"cluster_5\"], \"type\": \"barpolar\", \"uid\": \"71ca3bae-cc23-4f89-b4ce-a5894bc282fc\"}, {\"hovertemplate\": \"\\u00bfCada cu\\u00e1nto tiempo consumes im\\u00e1genes?=4. A diario<br>counts=%{r}<br>prosume_cluster=%{theta}<extra></extra>\", \"legendgroup\": \"\\u00bfCada cu\\u00e1nto tiempo consumes im\\u00e1genes?=4. A diario\", \"marker\": {\"color\": \"rgb(230,245,152)\"}, \"name\": \"\\u00bfCada cu\\u00e1nto tiempo consumes im\\u00e1genes?=4. A diario\", \"r\": [1, 67, 38, 78, 249], \"showlegend\": true, \"theta\": [\"cluster_1\", \"cluster_2\", \"cluster_3\", \"cluster_4\", \"cluster_5\"], \"type\": \"barpolar\", \"uid\": \"8c865bc3-c288-4459-a259-58e89f4ac037\"}], {\"barmode\": \"group\", \"barnorm\": \"\", \"height\": 600, \"legend\": {\"tracegroupgap\": 0}, \"margin\": {\"t\": 60}, \"template\": {\"data\": {\"barpolar\": [{\"marker\": {\"line\": {\"color\": \"#E5ECF6\", \"width\": 0.5}}, \"type\": \"barpolar\"}], \"bar\": [{\"marker\": {\"line\": {\"color\": \"#E5ECF6\", \"width\": 0.5}}, \"type\": \"bar\"}], \"carpet\": [{\"aaxis\": {\"endlinecolor\": \"#2a3f5f\", \"gridcolor\": \"white\", \"linecolor\": \"white\", \"minorgridcolor\": \"white\", \"startlinecolor\": \"#2a3f5f\"}, \"baxis\": {\"endlinecolor\": \"#2a3f5f\", \"gridcolor\": \"white\", \"linecolor\": \"white\", \"minorgridcolor\": \"white\", \"startlinecolor\": \"#2a3f5f\"}, \"type\": \"carpet\"}], \"choropleth\": [{\"colorbar\": {\"outlinewidth\": 0, \"ticks\": \"\"}, \"type\": \"choropleth\"}], \"contourcarpet\": [{\"colorbar\": {\"outlinewidth\": 0, \"ticks\": \"\"}, \"type\": \"contourcarpet\"}], \"contour\": [{\"autocolorscale\": true, \"colorbar\": {\"outlinewidth\": 0, \"ticks\": \"\"}, \"type\": \"contour\"}], \"heatmapgl\": [{\"colorbar\": {\"outlinewidth\": 0, \"ticks\": \"\"}, \"type\": \"heatmapgl\"}], \"heatmap\": [{\"autocolorscale\": true, \"colorbar\": {\"outlinewidth\": 0, \"ticks\": \"\"}, \"type\": \"heatmap\"}], \"histogram2dcontour\": [{\"autocolorscale\": true, \"colorbar\": {\"outlinewidth\": 0, \"ticks\": \"\"}, \"type\": \"histogram2dcontour\"}], \"histogram2d\": [{\"autocolorscale\": true, \"colorbar\": {\"outlinewidth\": 0, \"ticks\": \"\"}, \"type\": \"histogram2d\"}], \"histogram\": [{\"marker\": {\"colorbar\": {\"outlinewidth\": 0, \"ticks\": \"\"}}, \"type\": \"histogram\"}], \"mesh3d\": [{\"colorbar\": {\"outlinewidth\": 0, \"ticks\": \"\"}, \"type\": \"mesh3d\"}], \"parcoords\": [{\"line\": {\"colorbar\": {\"outlinewidth\": 0, \"ticks\": \"\"}}, \"type\": \"parcoords\"}], \"scatter3d\": [{\"marker\": {\"colorbar\": {\"outlinewidth\": 0, \"ticks\": \"\"}}, \"type\": \"scatter3d\"}], \"scattercarpet\": [{\"marker\": {\"colorbar\": {\"outlinewidth\": 0, \"ticks\": \"\"}}, \"type\": \"scattercarpet\"}], \"scattergeo\": [{\"marker\": {\"colorbar\": {\"outlinewidth\": 0, \"ticks\": \"\"}}, \"type\": \"scattergeo\"}], \"scattergl\": [{\"marker\": {\"colorbar\": {\"outlinewidth\": 0, \"ticks\": \"\"}}, \"type\": \"scattergl\"}], \"scattermapbox\": [{\"marker\": {\"colorbar\": {\"outlinewidth\": 0, \"ticks\": \"\"}}, \"type\": \"scattermapbox\"}], \"scatterpolargl\": [{\"marker\": {\"colorbar\": {\"outlinewidth\": 0, \"ticks\": \"\"}}, \"type\": \"scatterpolargl\"}], \"scatterpolar\": [{\"marker\": {\"colorbar\": {\"outlinewidth\": 0, \"ticks\": \"\"}}, \"type\": \"scatterpolar\"}], \"scatter\": [{\"marker\": {\"colorbar\": {\"outlinewidth\": 0, \"ticks\": \"\"}}, \"type\": \"scatter\"}], \"scatterternary\": [{\"marker\": {\"colorbar\": {\"outlinewidth\": 0, \"ticks\": \"\"}}, \"type\": \"scatterternary\"}], \"surface\": [{\"colorbar\": {\"outlinewidth\": 0, \"ticks\": \"\"}, \"type\": \"surface\"}], \"table\": [{\"cells\": {\"fill\": {\"color\": \"#EBF0F8\"}, \"line\": {\"color\": \"white\"}}, \"header\": {\"fill\": {\"color\": \"#C8D4E3\"}, \"line\": {\"color\": \"white\"}}, \"type\": \"table\"}]}, \"layout\": {\"annotationdefaults\": {\"arrowcolor\": \"#506784\", \"arrowhead\": 0, \"arrowwidth\": 1}, \"colorscale\": {\"diverging\": [[0, \"#8e0152\"], [0.1, \"#c51b7d\"], [0.2, \"#de77ae\"], [0.3, \"#f1b6da\"], [0.4, \"#fde0ef\"], [0.5, \"#f7f7f7\"], [0.6, \"#e6f5d0\"], [0.7, \"#b8e186\"], [0.8, \"#7fbc41\"], [0.9, \"#4d9221\"], [1, \"#276419\"]], \"sequential\": [[0.0, \"#0508b8\"], [0.0893854748603352, \"#1910d8\"], [0.1787709497206704, \"#3c19f0\"], [0.2681564245810056, \"#6b1cfb\"], [0.3575418994413408, \"#981cfd\"], [0.44692737430167595, \"#bf1cfd\"], [0.5363128491620112, \"#dd2bfd\"], [0.6256983240223464, \"#f246fe\"], [0.7150837988826816, \"#fc67fd\"], [0.8044692737430168, \"#fe88fc\"], [0.8938547486033519, \"#fea5fd\"], [0.9832402234636871, \"#febefe\"], [1.0, \"#fec3fe\"]], \"sequentialminus\": [[0.0, \"#0508b8\"], [0.0893854748603352, \"#1910d8\"], [0.1787709497206704, \"#3c19f0\"], [0.2681564245810056, \"#6b1cfb\"], [0.3575418994413408, \"#981cfd\"], [0.44692737430167595, \"#bf1cfd\"], [0.5363128491620112, \"#dd2bfd\"], [0.6256983240223464, \"#f246fe\"], [0.7150837988826816, \"#fc67fd\"], [0.8044692737430168, \"#fe88fc\"], [0.8938547486033519, \"#fea5fd\"], [0.9832402234636871, \"#febefe\"], [1.0, \"#fec3fe\"]]}, \"colorway\": [\"#636efa\", \"#EF553B\", \"#00cc96\", \"#ab63fa\", \"#19d3f3\", \"#e763fa\", \"#FECB52\", \"#FFA15A\", \"#FF6692\", \"#B6E880\"], \"font\": {\"color\": \"#2a3f5f\"}, \"geo\": {\"bgcolor\": \"white\", \"lakecolor\": \"white\", \"landcolor\": \"#E5ECF6\", \"showlakes\": true, \"showland\": true, \"subunitcolor\": \"white\"}, \"hovermode\": \"closest\", \"mapbox\": {\"style\": \"light\"}, \"paper_bgcolor\": \"white\", \"plot_bgcolor\": \"#E5ECF6\", \"polar\": {\"angularaxis\": {\"gridcolor\": \"white\", \"linecolor\": \"white\", \"ticks\": \"\"}, \"bgcolor\": \"#E5ECF6\", \"radialaxis\": {\"gridcolor\": \"white\", \"linecolor\": \"white\", \"ticks\": \"\"}}, \"scene\": {\"xaxis\": {\"backgroundcolor\": \"#E5ECF6\", \"gridcolor\": \"white\", \"gridwidth\": 2, \"linecolor\": \"white\", \"showbackground\": true, \"ticks\": \"\", \"zerolinecolor\": \"white\"}, \"yaxis\": {\"backgroundcolor\": \"#E5ECF6\", \"gridcolor\": \"white\", \"gridwidth\": 2, \"linecolor\": \"white\", \"showbackground\": true, \"ticks\": \"\", \"zerolinecolor\": \"white\"}, \"zaxis\": {\"backgroundcolor\": \"#E5ECF6\", \"gridcolor\": \"white\", \"gridwidth\": 2, \"linecolor\": \"white\", \"showbackground\": true, \"ticks\": \"\", \"zerolinecolor\": \"white\"}}, \"shapedefaults\": {\"fillcolor\": \"#506784\", \"line\": {\"width\": 0}, \"opacity\": 0.4}, \"ternary\": {\"aaxis\": {\"gridcolor\": \"white\", \"linecolor\": \"white\", \"ticks\": \"\"}, \"baxis\": {\"gridcolor\": \"white\", \"linecolor\": \"white\", \"ticks\": \"\"}, \"bgcolor\": \"#E5ECF6\", \"caxis\": {\"gridcolor\": \"white\", \"linecolor\": \"white\", \"ticks\": \"\"}}, \"title\": {\"x\": 0.05}, \"xaxis\": {\"automargin\": true, \"gridcolor\": \"white\", \"linecolor\": \"white\", \"ticks\": \"\", \"zerolinecolor\": \"white\", \"zerolinewidth\": 2}, \"yaxis\": {\"automargin\": true, \"gridcolor\": \"white\", \"linecolor\": \"white\", \"ticks\": \"\", \"zerolinecolor\": \"white\", \"zerolinewidth\": 2}}}, \"polar\": {\"angularaxis\": {\"direction\": \"clockwise\", \"rotation\": 90}}}, {\"showLink\": false, \"linkText\": \"Export to plot.ly\", \"plotlyServerURL\": \"https://plot.ly\"}); \n",
       "}\n",
       "});</script><script type=\"text/javascript\">window.addEventListener(\"resize\", function(){if (document.getElementById(\"ac9e2d5e-ab5e-4238-957b-bd4a3f8b3427\")) {window._Plotly.Plots.resize(document.getElementById(\"ac9e2d5e-ab5e-4238-957b-bd4a3f8b3427\"));};})</script>"
      ],
      "text/vnd.plotly.v1+html": [
       "<div id=\"ac9e2d5e-ab5e-4238-957b-bd4a3f8b3427\" style=\"height: 600px; width: 100%;\" class=\"plotly-graph-div\"></div><script type=\"text/javascript\">require([\"plotly\"], function(Plotly) { window.PLOTLYENV=window.PLOTLYENV || {};window.PLOTLYENV.BASE_URL=\"https://plot.ly\";\n",
       "if (document.getElementById(\"ac9e2d5e-ab5e-4238-957b-bd4a3f8b3427\")) {\n",
       "    Plotly.newPlot(\"ac9e2d5e-ab5e-4238-957b-bd4a3f8b3427\", [{\"hovertemplate\": \"\\u00bfCada cu\\u00e1nto tiempo consumes im\\u00e1genes?=1. Nunca<br>counts=%{r}<br>prosume_cluster=%{theta}<extra></extra>\", \"legendgroup\": \"\\u00bfCada cu\\u00e1nto tiempo consumes im\\u00e1genes?=1. Nunca\", \"marker\": {\"color\": \"rgb(213,62,79)\"}, \"name\": \"\\u00bfCada cu\\u00e1nto tiempo consumes im\\u00e1genes?=1. Nunca\", \"r\": [3, 10], \"showlegend\": true, \"theta\": [\"cluster_1\", \"cluster_2\"], \"type\": \"barpolar\", \"uid\": \"7ef90f77-00cf-4d81-95ab-4b019dafeed8\"}, {\"hovertemplate\": \"\\u00bfCada cu\\u00e1nto tiempo consumes im\\u00e1genes?=2. Dos o tres veces por semana<br>counts=%{r}<br>prosume_cluster=%{theta}<extra></extra>\", \"legendgroup\": \"\\u00bfCada cu\\u00e1nto tiempo consumes im\\u00e1genes?=2. Dos o tres veces por semana\", \"marker\": {\"color\": \"rgb(252,141,89)\"}, \"name\": \"\\u00bfCada cu\\u00e1nto tiempo consumes im\\u00e1genes?=2. Dos o tres veces por semana\", \"r\": [21, 51, 10, 3, 16], \"showlegend\": true, \"theta\": [\"cluster_1\", \"cluster_2\", \"cluster_3\", \"cluster_4\", \"cluster_5\"], \"type\": \"barpolar\", \"uid\": \"9e61adf7-5ff9-4fcb-80b1-7c5120013e0f\"}, {\"hovertemplate\": \"\\u00bfCada cu\\u00e1nto tiempo consumes im\\u00e1genes?=3. Casi todos los d\\u00edas<br>counts=%{r}<br>prosume_cluster=%{theta}<extra></extra>\", \"legendgroup\": \"\\u00bfCada cu\\u00e1nto tiempo consumes im\\u00e1genes?=3. Casi todos los d\\u00edas\", \"marker\": {\"color\": \"rgb(254,224,139)\"}, \"name\": \"\\u00bfCada cu\\u00e1nto tiempo consumes im\\u00e1genes?=3. Casi todos los d\\u00edas\", \"r\": [12, 68, 52, 17, 71], \"showlegend\": true, \"theta\": [\"cluster_1\", \"cluster_2\", \"cluster_3\", \"cluster_4\", \"cluster_5\"], \"type\": \"barpolar\", \"uid\": \"71ca3bae-cc23-4f89-b4ce-a5894bc282fc\"}, {\"hovertemplate\": \"\\u00bfCada cu\\u00e1nto tiempo consumes im\\u00e1genes?=4. A diario<br>counts=%{r}<br>prosume_cluster=%{theta}<extra></extra>\", \"legendgroup\": \"\\u00bfCada cu\\u00e1nto tiempo consumes im\\u00e1genes?=4. A diario\", \"marker\": {\"color\": \"rgb(230,245,152)\"}, \"name\": \"\\u00bfCada cu\\u00e1nto tiempo consumes im\\u00e1genes?=4. A diario\", \"r\": [1, 67, 38, 78, 249], \"showlegend\": true, \"theta\": [\"cluster_1\", \"cluster_2\", \"cluster_3\", \"cluster_4\", \"cluster_5\"], \"type\": \"barpolar\", \"uid\": \"8c865bc3-c288-4459-a259-58e89f4ac037\"}], {\"barmode\": \"group\", \"barnorm\": \"\", \"height\": 600, \"legend\": {\"tracegroupgap\": 0}, \"margin\": {\"t\": 60}, \"template\": {\"data\": {\"barpolar\": [{\"marker\": {\"line\": {\"color\": \"#E5ECF6\", \"width\": 0.5}}, \"type\": \"barpolar\"}], \"bar\": [{\"marker\": {\"line\": {\"color\": \"#E5ECF6\", \"width\": 0.5}}, \"type\": \"bar\"}], \"carpet\": [{\"aaxis\": {\"endlinecolor\": \"#2a3f5f\", \"gridcolor\": \"white\", \"linecolor\": \"white\", \"minorgridcolor\": \"white\", \"startlinecolor\": \"#2a3f5f\"}, \"baxis\": {\"endlinecolor\": \"#2a3f5f\", \"gridcolor\": \"white\", \"linecolor\": \"white\", \"minorgridcolor\": \"white\", \"startlinecolor\": \"#2a3f5f\"}, \"type\": \"carpet\"}], \"choropleth\": [{\"colorbar\": {\"outlinewidth\": 0, \"ticks\": \"\"}, \"type\": \"choropleth\"}], \"contourcarpet\": [{\"colorbar\": {\"outlinewidth\": 0, \"ticks\": \"\"}, \"type\": \"contourcarpet\"}], \"contour\": [{\"autocolorscale\": true, \"colorbar\": {\"outlinewidth\": 0, \"ticks\": \"\"}, \"type\": \"contour\"}], \"heatmapgl\": [{\"colorbar\": {\"outlinewidth\": 0, \"ticks\": \"\"}, \"type\": \"heatmapgl\"}], \"heatmap\": [{\"autocolorscale\": true, \"colorbar\": {\"outlinewidth\": 0, \"ticks\": \"\"}, \"type\": \"heatmap\"}], \"histogram2dcontour\": [{\"autocolorscale\": true, \"colorbar\": {\"outlinewidth\": 0, \"ticks\": \"\"}, \"type\": \"histogram2dcontour\"}], \"histogram2d\": [{\"autocolorscale\": true, \"colorbar\": {\"outlinewidth\": 0, \"ticks\": \"\"}, \"type\": \"histogram2d\"}], \"histogram\": [{\"marker\": {\"colorbar\": {\"outlinewidth\": 0, \"ticks\": \"\"}}, \"type\": \"histogram\"}], \"mesh3d\": [{\"colorbar\": {\"outlinewidth\": 0, \"ticks\": \"\"}, \"type\": \"mesh3d\"}], \"parcoords\": [{\"line\": {\"colorbar\": {\"outlinewidth\": 0, \"ticks\": \"\"}}, \"type\": \"parcoords\"}], \"scatter3d\": [{\"marker\": {\"colorbar\": {\"outlinewidth\": 0, \"ticks\": \"\"}}, \"type\": \"scatter3d\"}], \"scattercarpet\": [{\"marker\": {\"colorbar\": {\"outlinewidth\": 0, \"ticks\": \"\"}}, \"type\": \"scattercarpet\"}], \"scattergeo\": [{\"marker\": {\"colorbar\": {\"outlinewidth\": 0, \"ticks\": \"\"}}, \"type\": \"scattergeo\"}], \"scattergl\": [{\"marker\": {\"colorbar\": {\"outlinewidth\": 0, \"ticks\": \"\"}}, \"type\": \"scattergl\"}], \"scattermapbox\": [{\"marker\": {\"colorbar\": {\"outlinewidth\": 0, \"ticks\": \"\"}}, \"type\": \"scattermapbox\"}], \"scatterpolargl\": [{\"marker\": {\"colorbar\": {\"outlinewidth\": 0, \"ticks\": \"\"}}, \"type\": \"scatterpolargl\"}], \"scatterpolar\": [{\"marker\": {\"colorbar\": {\"outlinewidth\": 0, \"ticks\": \"\"}}, \"type\": \"scatterpolar\"}], \"scatter\": [{\"marker\": {\"colorbar\": {\"outlinewidth\": 0, \"ticks\": \"\"}}, \"type\": \"scatter\"}], \"scatterternary\": [{\"marker\": {\"colorbar\": {\"outlinewidth\": 0, \"ticks\": \"\"}}, \"type\": \"scatterternary\"}], \"surface\": [{\"colorbar\": {\"outlinewidth\": 0, \"ticks\": \"\"}, \"type\": \"surface\"}], \"table\": [{\"cells\": {\"fill\": {\"color\": \"#EBF0F8\"}, \"line\": {\"color\": \"white\"}}, \"header\": {\"fill\": {\"color\": \"#C8D4E3\"}, \"line\": {\"color\": \"white\"}}, \"type\": \"table\"}]}, \"layout\": {\"annotationdefaults\": {\"arrowcolor\": \"#506784\", \"arrowhead\": 0, \"arrowwidth\": 1}, \"colorscale\": {\"diverging\": [[0, \"#8e0152\"], [0.1, \"#c51b7d\"], [0.2, \"#de77ae\"], [0.3, \"#f1b6da\"], [0.4, \"#fde0ef\"], [0.5, \"#f7f7f7\"], [0.6, \"#e6f5d0\"], [0.7, \"#b8e186\"], [0.8, \"#7fbc41\"], [0.9, \"#4d9221\"], [1, \"#276419\"]], \"sequential\": [[0.0, \"#0508b8\"], [0.0893854748603352, \"#1910d8\"], [0.1787709497206704, \"#3c19f0\"], [0.2681564245810056, \"#6b1cfb\"], [0.3575418994413408, \"#981cfd\"], [0.44692737430167595, \"#bf1cfd\"], [0.5363128491620112, \"#dd2bfd\"], [0.6256983240223464, \"#f246fe\"], [0.7150837988826816, \"#fc67fd\"], [0.8044692737430168, \"#fe88fc\"], [0.8938547486033519, \"#fea5fd\"], [0.9832402234636871, \"#febefe\"], [1.0, \"#fec3fe\"]], \"sequentialminus\": [[0.0, \"#0508b8\"], [0.0893854748603352, \"#1910d8\"], [0.1787709497206704, \"#3c19f0\"], [0.2681564245810056, \"#6b1cfb\"], [0.3575418994413408, \"#981cfd\"], [0.44692737430167595, \"#bf1cfd\"], [0.5363128491620112, \"#dd2bfd\"], [0.6256983240223464, \"#f246fe\"], [0.7150837988826816, \"#fc67fd\"], [0.8044692737430168, \"#fe88fc\"], [0.8938547486033519, \"#fea5fd\"], [0.9832402234636871, \"#febefe\"], [1.0, \"#fec3fe\"]]}, \"colorway\": [\"#636efa\", \"#EF553B\", \"#00cc96\", \"#ab63fa\", \"#19d3f3\", \"#e763fa\", \"#FECB52\", \"#FFA15A\", \"#FF6692\", \"#B6E880\"], \"font\": {\"color\": \"#2a3f5f\"}, \"geo\": {\"bgcolor\": \"white\", \"lakecolor\": \"white\", \"landcolor\": \"#E5ECF6\", \"showlakes\": true, \"showland\": true, \"subunitcolor\": \"white\"}, \"hovermode\": \"closest\", \"mapbox\": {\"style\": \"light\"}, \"paper_bgcolor\": \"white\", \"plot_bgcolor\": \"#E5ECF6\", \"polar\": {\"angularaxis\": {\"gridcolor\": \"white\", \"linecolor\": \"white\", \"ticks\": \"\"}, \"bgcolor\": \"#E5ECF6\", \"radialaxis\": {\"gridcolor\": \"white\", \"linecolor\": \"white\", \"ticks\": \"\"}}, \"scene\": {\"xaxis\": {\"backgroundcolor\": \"#E5ECF6\", \"gridcolor\": \"white\", \"gridwidth\": 2, \"linecolor\": \"white\", \"showbackground\": true, \"ticks\": \"\", \"zerolinecolor\": \"white\"}, \"yaxis\": {\"backgroundcolor\": \"#E5ECF6\", \"gridcolor\": \"white\", \"gridwidth\": 2, \"linecolor\": \"white\", \"showbackground\": true, \"ticks\": \"\", \"zerolinecolor\": \"white\"}, \"zaxis\": {\"backgroundcolor\": \"#E5ECF6\", \"gridcolor\": \"white\", \"gridwidth\": 2, \"linecolor\": \"white\", \"showbackground\": true, \"ticks\": \"\", \"zerolinecolor\": \"white\"}}, \"shapedefaults\": {\"fillcolor\": \"#506784\", \"line\": {\"width\": 0}, \"opacity\": 0.4}, \"ternary\": {\"aaxis\": {\"gridcolor\": \"white\", \"linecolor\": \"white\", \"ticks\": \"\"}, \"baxis\": {\"gridcolor\": \"white\", \"linecolor\": \"white\", \"ticks\": \"\"}, \"bgcolor\": \"#E5ECF6\", \"caxis\": {\"gridcolor\": \"white\", \"linecolor\": \"white\", \"ticks\": \"\"}}, \"title\": {\"x\": 0.05}, \"xaxis\": {\"automargin\": true, \"gridcolor\": \"white\", \"linecolor\": \"white\", \"ticks\": \"\", \"zerolinecolor\": \"white\", \"zerolinewidth\": 2}, \"yaxis\": {\"automargin\": true, \"gridcolor\": \"white\", \"linecolor\": \"white\", \"ticks\": \"\", \"zerolinecolor\": \"white\", \"zerolinewidth\": 2}}}, \"polar\": {\"angularaxis\": {\"direction\": \"clockwise\", \"rotation\": 90}}}, {\"showLink\": false, \"linkText\": \"Export to plot.ly\", \"plotlyServerURL\": \"https://plot.ly\"}); \n",
       "}\n",
       "});</script><script type=\"text/javascript\">window.addEventListener(\"resize\", function(){if (document.getElementById(\"ac9e2d5e-ab5e-4238-957b-bd4a3f8b3427\")) {window._Plotly.Plots.resize(document.getElementById(\"ac9e2d5e-ab5e-4238-957b-bd4a3f8b3427\"));};})</script>"
      ]
     },
     "metadata": {},
     "output_type": "display_data"
    }
   ],
   "source": [
    "compare_reception_images_by_prosume_clusters_esp(dataframe_with_clusters_esp)"
   ]
  },
  {
   "cell_type": "code",
   "execution_count": 12,
   "metadata": {},
   "outputs": [],
   "source": [
    "#compare_reception_images_by_prosume_clusters_en(dataframe_with_clusters_en)"
   ]
  }
 ],
 "metadata": {
  "kernelspec": {
   "display_name": "Python 3",
   "language": "python",
   "name": "python3"
  },
  "language_info": {
   "codemirror_mode": {
    "name": "ipython",
    "version": 3
   },
   "file_extension": ".py",
   "mimetype": "text/x-python",
   "name": "python",
   "nbconvert_exporter": "python",
   "pygments_lexer": "ipython3",
   "version": "3.6.8"
  }
 },
 "nbformat": 4,
 "nbformat_minor": 2
}

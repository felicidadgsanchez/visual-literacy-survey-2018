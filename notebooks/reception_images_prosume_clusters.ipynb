{
 "cells": [
  {
   "cell_type": "code",
   "execution_count": 1,
   "metadata": {},
   "outputs": [
    {
     "name": "stdout",
     "output_type": "stream",
     "text": [
      "Importing Jupyter notebook from data_preparation.ipynb\n",
      "Importing Jupyter notebook from prosume_clustering.ipynb\n"
     ]
    }
   ],
   "source": [
    "import nbimporter\n",
    "from data_preparation import *\n",
    "from prosume_clustering import * "
   ]
  },
  {
   "cell_type": "code",
   "execution_count": 2,
   "metadata": {},
   "outputs": [
    {
     "data": {
      "text/html": [
       "<script type=\"text/javascript\">window.PlotlyConfig = {MathJaxConfig: 'local'};</script><script type=\"text/javascript\">if (window.MathJax) {MathJax.Hub.Config({SVG: {font: \"STIX-Web\"}});}</script><script>requirejs.config({paths: { 'plotly': ['https://cdn.plot.ly/plotly-latest.min']},});if(!window._Plotly) {require(['plotly'],function(plotly) {window._Plotly=plotly;});}</script>"
      ],
      "text/vnd.plotly.v1+html": [
       "<script type=\"text/javascript\">window.PlotlyConfig = {MathJaxConfig: 'local'};</script><script type=\"text/javascript\">if (window.MathJax) {MathJax.Hub.Config({SVG: {font: \"STIX-Web\"}});}</script><script>requirejs.config({paths: { 'plotly': ['https://cdn.plot.ly/plotly-latest.min']},});if(!window._Plotly) {require(['plotly'],function(plotly) {window._Plotly=plotly;});}</script>"
      ]
     },
     "metadata": {},
     "output_type": "display_data"
    }
   ],
   "source": [
    "# import matplotlib.pyplot as plt\n",
    "# plt.style.use('fivethirtyeight')\n",
    "import colorlover as cl\n",
    "\n",
    "import plotly_express as px\n",
    "\n",
    "from plotly.offline import download_plotlyjs, init_notebook_mode, plot, iplot\n",
    "import plotly.graph_objs as go\n",
    "init_notebook_mode(connected=True)"
   ]
  },
  {
   "cell_type": "code",
   "execution_count": 3,
   "metadata": {},
   "outputs": [
    {
     "name": "stderr",
     "output_type": "stream",
     "text": [
      "prosume_clustering.ipynb:17: DataConversionWarning:\n",
      "\n",
      "Data with input dtype int64 were all converted to float64 by the scale function.\n",
      "\n"
     ]
    },
    {
     "data": {
      "text/html": [
       "<div>\n",
       "<style scoped>\n",
       "    .dataframe tbody tr th:only-of-type {\n",
       "        vertical-align: middle;\n",
       "    }\n",
       "\n",
       "    .dataframe tbody tr th {\n",
       "        vertical-align: top;\n",
       "    }\n",
       "\n",
       "    .dataframe thead th {\n",
       "        text-align: right;\n",
       "    }\n",
       "</style>\n",
       "<table border=\"1\" class=\"dataframe\">\n",
       "  <thead>\n",
       "    <tr style=\"text-align: right;\">\n",
       "      <th></th>\n",
       "      <th>Cuando compartes imágenes, ¿habitualmente las envías a otras personas?</th>\n",
       "      <th>Cuando compartes imágenes, ¿habitualmente las produces tú?</th>\n",
       "      <th>Cuando compartes imágenes, ¿habitualmente las recibes de otras personas?</th>\n",
       "      <th>Cuando generas una imagen, ¿qué tipo de dispositivo usas? (Respuesta múltiple) [1. Cámara de fotos]</th>\n",
       "      <th>Cuando generas una imagen, ¿qué tipo de dispositivo usas? (Respuesta múltiple) [2. Teléfono móvil]</th>\n",
       "      <th>Cuando generas una imagen, ¿qué tipo de dispositivo usas? (Respuesta múltiple) [3. Tableta]</th>\n",
       "      <th>Cuando produces imágenes, ¿cuánto tiempo dedicas a prepararlas? (minutos)</th>\n",
       "      <th>Cuando produces imágenes, ¿piensas en la imagen que quieres crear antes de hacerla?</th>\n",
       "      <th>Dentro de tus redes sociales o aplicaciones móviles, ¿se comparte información visual que tú no buscas (campañas de concienciación social, chistes, publicidad, etc.)?</th>\n",
       "      <th>En tu entorno, ¿las personas que utilizan la tecnología crean imágenes y las comparten?</th>\n",
       "      <th>...</th>\n",
       "      <th>¿Qué tipo de aplicaciones utilizas en tu ordenador/tableta/móvil? (Respuesta múltiple) [1. Apps de contenidos audiovisuales (Netflix, HBO, etc.)]</th>\n",
       "      <th>¿Qué tipo de aplicaciones utilizas en tu ordenador/tableta/móvil? (Respuesta múltiple) [2. Aplicaciones de mensajería (Whatsapp, Facebook Messenger, etc.)]</th>\n",
       "      <th>¿Qué tipo de aplicaciones utilizas en tu ordenador/tableta/móvil? (Respuesta múltiple) [3. Bibliotecas de fotos online (Google Photos, iPhoto, etc.)]</th>\n",
       "      <th>¿Qué tipo de aplicaciones utilizas en tu ordenador/tableta/móvil? (Respuesta múltiple) [4. Redes sociales (Facebook, Instagram, Twitter, etc.).]</th>\n",
       "      <th>¿Qué tipo de aplicaciones utilizas en tu ordenador/tableta/móvil? (Respuesta múltiple) [5. Aplicaciones de vídeo (Youtube, Vimeo, etc.).]</th>\n",
       "      <th>¿Te gusta seguir a personas que admiras en redes sociales? ¿Eres fan o follower de alguna? ¿En ocasiones escribes comentarios en sus publicaciones?</th>\n",
       "      <th>¿Tienes acceso a dispositivos (ordenador, móvil, tablet, etc.) conectados a Internet habitualmente?</th>\n",
       "      <th>¿Tienes alguna carencia visual que afecte a la recepción de formas, colores, distancias, etc.?</th>\n",
       "      <th>¿Utilizas gafas o lentes de contacto?</th>\n",
       "      <th>prosume_cluster</th>\n",
       "    </tr>\n",
       "  </thead>\n",
       "  <tbody>\n",
       "    <tr>\n",
       "      <th>0</th>\n",
       "      <td>3</td>\n",
       "      <td>4</td>\n",
       "      <td>3</td>\n",
       "      <td>0</td>\n",
       "      <td>1</td>\n",
       "      <td>0</td>\n",
       "      <td>1.0</td>\n",
       "      <td>3</td>\n",
       "      <td>4</td>\n",
       "      <td>4</td>\n",
       "      <td>...</td>\n",
       "      <td>1</td>\n",
       "      <td>1</td>\n",
       "      <td>1</td>\n",
       "      <td>1</td>\n",
       "      <td>1</td>\n",
       "      <td>3</td>\n",
       "      <td>5</td>\n",
       "      <td>0</td>\n",
       "      <td>1</td>\n",
       "      <td>5</td>\n",
       "    </tr>\n",
       "    <tr>\n",
       "      <th>1</th>\n",
       "      <td>5</td>\n",
       "      <td>4</td>\n",
       "      <td>5</td>\n",
       "      <td>0</td>\n",
       "      <td>1</td>\n",
       "      <td>0</td>\n",
       "      <td>1.0</td>\n",
       "      <td>5</td>\n",
       "      <td>5</td>\n",
       "      <td>5</td>\n",
       "      <td>...</td>\n",
       "      <td>1</td>\n",
       "      <td>1</td>\n",
       "      <td>0</td>\n",
       "      <td>0</td>\n",
       "      <td>1</td>\n",
       "      <td>1</td>\n",
       "      <td>5</td>\n",
       "      <td>0</td>\n",
       "      <td>1</td>\n",
       "      <td>5</td>\n",
       "    </tr>\n",
       "    <tr>\n",
       "      <th>2</th>\n",
       "      <td>3</td>\n",
       "      <td>4</td>\n",
       "      <td>4</td>\n",
       "      <td>0</td>\n",
       "      <td>1</td>\n",
       "      <td>0</td>\n",
       "      <td>1.0</td>\n",
       "      <td>5</td>\n",
       "      <td>4</td>\n",
       "      <td>4</td>\n",
       "      <td>...</td>\n",
       "      <td>1</td>\n",
       "      <td>1</td>\n",
       "      <td>1</td>\n",
       "      <td>1</td>\n",
       "      <td>1</td>\n",
       "      <td>3</td>\n",
       "      <td>5</td>\n",
       "      <td>0</td>\n",
       "      <td>1</td>\n",
       "      <td>5</td>\n",
       "    </tr>\n",
       "    <tr>\n",
       "      <th>3</th>\n",
       "      <td>4</td>\n",
       "      <td>4</td>\n",
       "      <td>2</td>\n",
       "      <td>1</td>\n",
       "      <td>1</td>\n",
       "      <td>0</td>\n",
       "      <td>10.0</td>\n",
       "      <td>5</td>\n",
       "      <td>1</td>\n",
       "      <td>4</td>\n",
       "      <td>...</td>\n",
       "      <td>0</td>\n",
       "      <td>1</td>\n",
       "      <td>1</td>\n",
       "      <td>1</td>\n",
       "      <td>1</td>\n",
       "      <td>3</td>\n",
       "      <td>5</td>\n",
       "      <td>0</td>\n",
       "      <td>1</td>\n",
       "      <td>5</td>\n",
       "    </tr>\n",
       "    <tr>\n",
       "      <th>4</th>\n",
       "      <td>4</td>\n",
       "      <td>3</td>\n",
       "      <td>4</td>\n",
       "      <td>1</td>\n",
       "      <td>1</td>\n",
       "      <td>0</td>\n",
       "      <td>10.0</td>\n",
       "      <td>3</td>\n",
       "      <td>3</td>\n",
       "      <td>5</td>\n",
       "      <td>...</td>\n",
       "      <td>0</td>\n",
       "      <td>1</td>\n",
       "      <td>0</td>\n",
       "      <td>1</td>\n",
       "      <td>1</td>\n",
       "      <td>2</td>\n",
       "      <td>5</td>\n",
       "      <td>0</td>\n",
       "      <td>1</td>\n",
       "      <td>2</td>\n",
       "    </tr>\n",
       "  </tbody>\n",
       "</table>\n",
       "<p>5 rows × 79 columns</p>\n",
       "</div>"
      ],
      "text/plain": [
       "   Cuando compartes imágenes, ¿habitualmente las envías a otras personas?  \\\n",
       "0                                                  3                        \n",
       "1                                                  5                        \n",
       "2                                                  3                        \n",
       "3                                                  4                        \n",
       "4                                                  4                        \n",
       "\n",
       "   Cuando compartes imágenes, ¿habitualmente las produces tú?  \\\n",
       "0                                                  4            \n",
       "1                                                  4            \n",
       "2                                                  4            \n",
       "3                                                  4            \n",
       "4                                                  3            \n",
       "\n",
       "   Cuando compartes imágenes, ¿habitualmente las recibes de otras personas?  \\\n",
       "0                                                  3                          \n",
       "1                                                  5                          \n",
       "2                                                  4                          \n",
       "3                                                  2                          \n",
       "4                                                  4                          \n",
       "\n",
       "   Cuando generas una imagen, ¿qué tipo de dispositivo usas? (Respuesta múltiple) [1. Cámara de fotos]  \\\n",
       "0                                                  0                                                     \n",
       "1                                                  0                                                     \n",
       "2                                                  0                                                     \n",
       "3                                                  1                                                     \n",
       "4                                                  1                                                     \n",
       "\n",
       "   Cuando generas una imagen, ¿qué tipo de dispositivo usas? (Respuesta múltiple) [2. Teléfono móvil]  \\\n",
       "0                                                  1                                                    \n",
       "1                                                  1                                                    \n",
       "2                                                  1                                                    \n",
       "3                                                  1                                                    \n",
       "4                                                  1                                                    \n",
       "\n",
       "   Cuando generas una imagen, ¿qué tipo de dispositivo usas? (Respuesta múltiple) [3. Tableta]  \\\n",
       "0                                                  0                                             \n",
       "1                                                  0                                             \n",
       "2                                                  0                                             \n",
       "3                                                  0                                             \n",
       "4                                                  0                                             \n",
       "\n",
       "   Cuando produces imágenes, ¿cuánto tiempo dedicas a prepararlas? (minutos)  \\\n",
       "0                                                1.0                           \n",
       "1                                                1.0                           \n",
       "2                                                1.0                           \n",
       "3                                               10.0                           \n",
       "4                                               10.0                           \n",
       "\n",
       "   Cuando produces imágenes, ¿piensas en la imagen que quieres crear antes de hacerla?  \\\n",
       "0                                                  3                                     \n",
       "1                                                  5                                     \n",
       "2                                                  5                                     \n",
       "3                                                  5                                     \n",
       "4                                                  3                                     \n",
       "\n",
       "   Dentro de tus redes sociales o aplicaciones móviles, ¿se comparte información visual que tú no buscas (campañas de concienciación social, chistes, publicidad, etc.)?  \\\n",
       "0                                                  4                                                                                                                       \n",
       "1                                                  5                                                                                                                       \n",
       "2                                                  4                                                                                                                       \n",
       "3                                                  1                                                                                                                       \n",
       "4                                                  3                                                                                                                       \n",
       "\n",
       "   En tu entorno, ¿las personas que utilizan la tecnología crean imágenes y las comparten?  \\\n",
       "0                                                  4                                         \n",
       "1                                                  5                                         \n",
       "2                                                  4                                         \n",
       "3                                                  4                                         \n",
       "4                                                  5                                         \n",
       "\n",
       "        ...         \\\n",
       "0       ...          \n",
       "1       ...          \n",
       "2       ...          \n",
       "3       ...          \n",
       "4       ...          \n",
       "\n",
       "   ¿Qué tipo de aplicaciones utilizas en tu ordenador/tableta/móvil? (Respuesta múltiple) [1. Apps de contenidos audiovisuales (Netflix, HBO, etc.)]  \\\n",
       "0                                                  1                                                                                                   \n",
       "1                                                  1                                                                                                   \n",
       "2                                                  1                                                                                                   \n",
       "3                                                  0                                                                                                   \n",
       "4                                                  0                                                                                                   \n",
       "\n",
       "   ¿Qué tipo de aplicaciones utilizas en tu ordenador/tableta/móvil? (Respuesta múltiple) [2. Aplicaciones de mensajería (Whatsapp, Facebook Messenger, etc.)]  \\\n",
       "0                                                  1                                                                                                             \n",
       "1                                                  1                                                                                                             \n",
       "2                                                  1                                                                                                             \n",
       "3                                                  1                                                                                                             \n",
       "4                                                  1                                                                                                             \n",
       "\n",
       "   ¿Qué tipo de aplicaciones utilizas en tu ordenador/tableta/móvil? (Respuesta múltiple) [3. Bibliotecas de fotos online (Google Photos, iPhoto, etc.)]  \\\n",
       "0                                                  1                                                                                                       \n",
       "1                                                  0                                                                                                       \n",
       "2                                                  1                                                                                                       \n",
       "3                                                  1                                                                                                       \n",
       "4                                                  0                                                                                                       \n",
       "\n",
       "   ¿Qué tipo de aplicaciones utilizas en tu ordenador/tableta/móvil? (Respuesta múltiple) [4. Redes sociales (Facebook, Instagram, Twitter, etc.).]  \\\n",
       "0                                                  1                                                                                                  \n",
       "1                                                  0                                                                                                  \n",
       "2                                                  1                                                                                                  \n",
       "3                                                  1                                                                                                  \n",
       "4                                                  1                                                                                                  \n",
       "\n",
       "   ¿Qué tipo de aplicaciones utilizas en tu ordenador/tableta/móvil? (Respuesta múltiple) [5. Aplicaciones de vídeo (Youtube, Vimeo, etc.).]  \\\n",
       "0                                                  1                                                                                           \n",
       "1                                                  1                                                                                           \n",
       "2                                                  1                                                                                           \n",
       "3                                                  1                                                                                           \n",
       "4                                                  1                                                                                           \n",
       "\n",
       "   ¿Te gusta seguir a personas que admiras en redes sociales? ¿Eres fan o follower de alguna? ¿En ocasiones escribes comentarios en sus publicaciones?  \\\n",
       "0                                                  3                                                                                                     \n",
       "1                                                  1                                                                                                     \n",
       "2                                                  3                                                                                                     \n",
       "3                                                  3                                                                                                     \n",
       "4                                                  2                                                                                                     \n",
       "\n",
       "   ¿Tienes acceso a dispositivos (ordenador, móvil, tablet, etc.) conectados a Internet habitualmente?  \\\n",
       "0                                                  5                                                     \n",
       "1                                                  5                                                     \n",
       "2                                                  5                                                     \n",
       "3                                                  5                                                     \n",
       "4                                                  5                                                     \n",
       "\n",
       "   ¿Tienes alguna carencia visual que afecte a la recepción de formas, colores, distancias, etc.?  \\\n",
       "0                                                  0                                                \n",
       "1                                                  0                                                \n",
       "2                                                  0                                                \n",
       "3                                                  0                                                \n",
       "4                                                  0                                                \n",
       "\n",
       "   ¿Utilizas gafas o lentes de contacto?  prosume_cluster  \n",
       "0                                      1                5  \n",
       "1                                      1                5  \n",
       "2                                      1                5  \n",
       "3                                      1                5  \n",
       "4                                      1                2  \n",
       "\n",
       "[5 rows x 79 columns]"
      ]
     },
     "execution_count": 3,
     "metadata": {},
     "output_type": "execute_result"
    }
   ],
   "source": [
    "dataframe_with_clusters_esp = get_dataframe_with_clusters_esp(get_dataframe_analysis_esp(True), 32)\n",
    "dataframe_with_clusters_esp.head()"
   ]
  },
  {
   "cell_type": "code",
   "execution_count": 4,
   "metadata": {},
   "outputs": [
    {
     "name": "stderr",
     "output_type": "stream",
     "text": [
      "prosume_clustering.ipynb:17: DataConversionWarning:\n",
      "\n",
      "Data with input dtype int64 were all converted to float64 by the scale function.\n",
      "\n"
     ]
    },
    {
     "data": {
      "text/html": [
       "<div>\n",
       "<style scoped>\n",
       "    .dataframe tbody tr th:only-of-type {\n",
       "        vertical-align: middle;\n",
       "    }\n",
       "\n",
       "    .dataframe tbody tr th {\n",
       "        vertical-align: top;\n",
       "    }\n",
       "\n",
       "    .dataframe thead th {\n",
       "        text-align: right;\n",
       "    }\n",
       "</style>\n",
       "<table border=\"1\" class=\"dataframe\">\n",
       "  <thead>\n",
       "    <tr style=\"text-align: right;\">\n",
       "      <th></th>\n",
       "      <th>Do you repeat the images until you get the expected result?</th>\n",
       "      <th>How much of your consumption of digital images comes from digital media (digital press, internet, television,etc.) and how much by analogical means?</th>\n",
       "      <th>How often do you produce images?</th>\n",
       "      <th>If you answered that you NEVER produce or consume images, why do not you use them? (Multiple answer) [1. I do not like]</th>\n",
       "      <th>If you answered that you NEVER produce or consume images, why do not you use them? (Multiple answer) [2. I do not know how they are made]</th>\n",
       "      <th>If you answered that you NEVER produce or consume images, why do not you use them? (Multiple answer) [3. I do not use technology]</th>\n",
       "      <th>If you answered that you NEVER produce or consume images, why do not you use them? (Multiple answer) [4. When I share them, I do not know what they mean]</th>\n",
       "      <th>If you answered that you NEVER produce or consume images, why do not you use them? (Multiple answer) [5. Because they take up a lot of space]</th>\n",
       "      <th>If you answered that you NEVER produce or consume images, why do not you use them? (Multiple answer) [6. I find it useless]</th>\n",
       "      <th>If you find that suggested information, what is your attitude?</th>\n",
       "      <th>...</th>\n",
       "      <th>When you receive/ consume images... (select the option / options with which you identify yourself) [2. I wonder if they mean something to me]</th>\n",
       "      <th>When you receive/ consume images... (select the option / options with which you identify yourself) [3. I observe the moment and context in which they appear]</th>\n",
       "      <th>When you share images on social networks, do the text companions follow the indications suggested by the applications (labeling, explanation of the image, inspiring text, etc.)?</th>\n",
       "      <th>When you take photos from any of the media at your fingertips, do the process facilitate the options offered by the applications (filter application, cuts, graphic editing, etc.)?</th>\n",
       "      <th>When you use social networks, do you consider that being accepted as a member of a group is more important than having autonomy and independence?</th>\n",
       "      <th>Which of the paired images do you find most attractive? 1/2 2/2.1</th>\n",
       "      <th>Which of the paired images do you find most attractive? 1/2 2/2.2</th>\n",
       "      <th>Which of the paired images do you find most attractive? 1/2 2/2.3</th>\n",
       "      <th>Which of the paired images do you find most attractive? 1/2 2/2.4</th>\n",
       "      <th>prosume_cluster</th>\n",
       "    </tr>\n",
       "  </thead>\n",
       "  <tbody>\n",
       "    <tr>\n",
       "      <th>0</th>\n",
       "      <td>1</td>\n",
       "      <td>3</td>\n",
       "      <td>5</td>\n",
       "      <td>0</td>\n",
       "      <td>0</td>\n",
       "      <td>0</td>\n",
       "      <td>0</td>\n",
       "      <td>0</td>\n",
       "      <td>0</td>\n",
       "      <td>1</td>\n",
       "      <td>...</td>\n",
       "      <td>1</td>\n",
       "      <td>0</td>\n",
       "      <td>1</td>\n",
       "      <td>3</td>\n",
       "      <td>1</td>\n",
       "      <td>1</td>\n",
       "      <td>2</td>\n",
       "      <td>2</td>\n",
       "      <td>2</td>\n",
       "      <td>5</td>\n",
       "    </tr>\n",
       "    <tr>\n",
       "      <th>1</th>\n",
       "      <td>0</td>\n",
       "      <td>3</td>\n",
       "      <td>5</td>\n",
       "      <td>0</td>\n",
       "      <td>0</td>\n",
       "      <td>0</td>\n",
       "      <td>0</td>\n",
       "      <td>0</td>\n",
       "      <td>0</td>\n",
       "      <td>1</td>\n",
       "      <td>...</td>\n",
       "      <td>1</td>\n",
       "      <td>0</td>\n",
       "      <td>3</td>\n",
       "      <td>3</td>\n",
       "      <td>2</td>\n",
       "      <td>2</td>\n",
       "      <td>2</td>\n",
       "      <td>2</td>\n",
       "      <td>2</td>\n",
       "      <td>5</td>\n",
       "    </tr>\n",
       "    <tr>\n",
       "      <th>2</th>\n",
       "      <td>1</td>\n",
       "      <td>1</td>\n",
       "      <td>4</td>\n",
       "      <td>0</td>\n",
       "      <td>0</td>\n",
       "      <td>0</td>\n",
       "      <td>0</td>\n",
       "      <td>0</td>\n",
       "      <td>0</td>\n",
       "      <td>1</td>\n",
       "      <td>...</td>\n",
       "      <td>1</td>\n",
       "      <td>1</td>\n",
       "      <td>3</td>\n",
       "      <td>5</td>\n",
       "      <td>2</td>\n",
       "      <td>1</td>\n",
       "      <td>1</td>\n",
       "      <td>2</td>\n",
       "      <td>2</td>\n",
       "      <td>5</td>\n",
       "    </tr>\n",
       "    <tr>\n",
       "      <th>3</th>\n",
       "      <td>1</td>\n",
       "      <td>2</td>\n",
       "      <td>4</td>\n",
       "      <td>0</td>\n",
       "      <td>0</td>\n",
       "      <td>0</td>\n",
       "      <td>0</td>\n",
       "      <td>0</td>\n",
       "      <td>0</td>\n",
       "      <td>1</td>\n",
       "      <td>...</td>\n",
       "      <td>0</td>\n",
       "      <td>1</td>\n",
       "      <td>5</td>\n",
       "      <td>5</td>\n",
       "      <td>2</td>\n",
       "      <td>1</td>\n",
       "      <td>2</td>\n",
       "      <td>2</td>\n",
       "      <td>1</td>\n",
       "      <td>5</td>\n",
       "    </tr>\n",
       "    <tr>\n",
       "      <th>4</th>\n",
       "      <td>1</td>\n",
       "      <td>2</td>\n",
       "      <td>5</td>\n",
       "      <td>0</td>\n",
       "      <td>0</td>\n",
       "      <td>0</td>\n",
       "      <td>0</td>\n",
       "      <td>0</td>\n",
       "      <td>0</td>\n",
       "      <td>1</td>\n",
       "      <td>...</td>\n",
       "      <td>0</td>\n",
       "      <td>1</td>\n",
       "      <td>4</td>\n",
       "      <td>3</td>\n",
       "      <td>2</td>\n",
       "      <td>1</td>\n",
       "      <td>2</td>\n",
       "      <td>2</td>\n",
       "      <td>2</td>\n",
       "      <td>2</td>\n",
       "    </tr>\n",
       "  </tbody>\n",
       "</table>\n",
       "<p>5 rows × 79 columns</p>\n",
       "</div>"
      ],
      "text/plain": [
       "   Do you repeat the images until you get the expected result?  \\\n",
       "0                                                  1             \n",
       "1                                                  0             \n",
       "2                                                  1             \n",
       "3                                                  1             \n",
       "4                                                  1             \n",
       "\n",
       "   How much of your consumption of digital images comes from digital media (digital press, internet, television,etc.) and how much by analogical means?  \\\n",
       "0                                                  3                                                                                                      \n",
       "1                                                  3                                                                                                      \n",
       "2                                                  1                                                                                                      \n",
       "3                                                  2                                                                                                      \n",
       "4                                                  2                                                                                                      \n",
       "\n",
       "   How often do you produce images?  \\\n",
       "0                                 5   \n",
       "1                                 5   \n",
       "2                                 4   \n",
       "3                                 4   \n",
       "4                                 5   \n",
       "\n",
       "   If you answered that you NEVER produce or consume images, why do not you use them? (Multiple answer) [1. I do not like]  \\\n",
       "0                                                  0                                                                         \n",
       "1                                                  0                                                                         \n",
       "2                                                  0                                                                         \n",
       "3                                                  0                                                                         \n",
       "4                                                  0                                                                         \n",
       "\n",
       "   If you answered that you NEVER produce or consume images, why do not you use them? (Multiple answer) [2. I do not know how they are made]  \\\n",
       "0                                                  0                                                                                           \n",
       "1                                                  0                                                                                           \n",
       "2                                                  0                                                                                           \n",
       "3                                                  0                                                                                           \n",
       "4                                                  0                                                                                           \n",
       "\n",
       "   If you answered that you NEVER produce or consume images, why do not you use them? (Multiple answer) [3. I do not use technology]  \\\n",
       "0                                                  0                                                                                   \n",
       "1                                                  0                                                                                   \n",
       "2                                                  0                                                                                   \n",
       "3                                                  0                                                                                   \n",
       "4                                                  0                                                                                   \n",
       "\n",
       "   If you answered that you NEVER produce or consume images, why do not you use them? (Multiple answer) [4. When I share them, I do not know what they mean]  \\\n",
       "0                                                  0                                                                                                           \n",
       "1                                                  0                                                                                                           \n",
       "2                                                  0                                                                                                           \n",
       "3                                                  0                                                                                                           \n",
       "4                                                  0                                                                                                           \n",
       "\n",
       "   If you answered that you NEVER produce or consume images, why do not you use them? (Multiple answer) [5. Because they take up a lot of space]  \\\n",
       "0                                                  0                                                                                               \n",
       "1                                                  0                                                                                               \n",
       "2                                                  0                                                                                               \n",
       "3                                                  0                                                                                               \n",
       "4                                                  0                                                                                               \n",
       "\n",
       "   If you answered that you NEVER produce or consume images, why do not you use them? (Multiple answer) [6. I find it useless]  \\\n",
       "0                                                  0                                                                             \n",
       "1                                                  0                                                                             \n",
       "2                                                  0                                                                             \n",
       "3                                                  0                                                                             \n",
       "4                                                  0                                                                             \n",
       "\n",
       "   If you find that suggested information, what is your attitude?  \\\n",
       "0                                                  1                \n",
       "1                                                  1                \n",
       "2                                                  1                \n",
       "3                                                  1                \n",
       "4                                                  1                \n",
       "\n",
       "        ...         \\\n",
       "0       ...          \n",
       "1       ...          \n",
       "2       ...          \n",
       "3       ...          \n",
       "4       ...          \n",
       "\n",
       "   When you receive/ consume images... (select the option / options with which you identify yourself) [2. I wonder if they mean something to me]  \\\n",
       "0                                                  1                                                                                               \n",
       "1                                                  1                                                                                               \n",
       "2                                                  1                                                                                               \n",
       "3                                                  0                                                                                               \n",
       "4                                                  0                                                                                               \n",
       "\n",
       "   When you receive/ consume images... (select the option / options with which you identify yourself) [3. I observe the moment and context in which they appear]  \\\n",
       "0                                                  0                                                                                                               \n",
       "1                                                  0                                                                                                               \n",
       "2                                                  1                                                                                                               \n",
       "3                                                  1                                                                                                               \n",
       "4                                                  1                                                                                                               \n",
       "\n",
       "   When you share images on social networks, do the text companions follow the indications suggested by the applications (labeling, explanation of the image, inspiring text, etc.)?  \\\n",
       "0                                                  1                                                                                                                                   \n",
       "1                                                  3                                                                                                                                   \n",
       "2                                                  3                                                                                                                                   \n",
       "3                                                  5                                                                                                                                   \n",
       "4                                                  4                                                                                                                                   \n",
       "\n",
       "   When you take photos from any of the media at your fingertips, do the process facilitate the options offered by the applications (filter application, cuts, graphic editing, etc.)?  \\\n",
       "0                                                  3                                                                                                                                     \n",
       "1                                                  3                                                                                                                                     \n",
       "2                                                  5                                                                                                                                     \n",
       "3                                                  5                                                                                                                                     \n",
       "4                                                  3                                                                                                                                     \n",
       "\n",
       "   When you use social networks, do you consider that being accepted as a member of a group is more important than having autonomy and independence?  \\\n",
       "0                                                  1                                                                                                   \n",
       "1                                                  2                                                                                                   \n",
       "2                                                  2                                                                                                   \n",
       "3                                                  2                                                                                                   \n",
       "4                                                  2                                                                                                   \n",
       "\n",
       "   Which of the paired images do you find most attractive? 1/2 2/2.1  \\\n",
       "0                                                  1                   \n",
       "1                                                  2                   \n",
       "2                                                  1                   \n",
       "3                                                  1                   \n",
       "4                                                  1                   \n",
       "\n",
       "   Which of the paired images do you find most attractive? 1/2 2/2.2  \\\n",
       "0                                                  2                   \n",
       "1                                                  2                   \n",
       "2                                                  1                   \n",
       "3                                                  2                   \n",
       "4                                                  2                   \n",
       "\n",
       "   Which of the paired images do you find most attractive? 1/2 2/2.3  \\\n",
       "0                                                  2                   \n",
       "1                                                  2                   \n",
       "2                                                  2                   \n",
       "3                                                  2                   \n",
       "4                                                  2                   \n",
       "\n",
       "   Which of the paired images do you find most attractive? 1/2 2/2.4  \\\n",
       "0                                                  2                   \n",
       "1                                                  2                   \n",
       "2                                                  2                   \n",
       "3                                                  1                   \n",
       "4                                                  2                   \n",
       "\n",
       "   prosume_cluster  \n",
       "0                5  \n",
       "1                5  \n",
       "2                5  \n",
       "3                5  \n",
       "4                2  \n",
       "\n",
       "[5 rows x 79 columns]"
      ]
     },
     "execution_count": 4,
     "metadata": {},
     "output_type": "execute_result"
    }
   ],
   "source": [
    "dataframe_with_clusters_en = get_dataframe_with_clusters_en(get_dataframe_analysis_en(True), 32)\n",
    "dataframe_with_clusters_en.head()"
   ]
  },
  {
   "cell_type": "code",
   "execution_count": 5,
   "metadata": {},
   "outputs": [],
   "source": [
    "def visualize_reception_images_by_prosume_clusters_esp(dataframe):\n",
    "\n",
    "    for selected_cluster in dataframe['prosume_cluster'].unique():\n",
    "        for column in get_reception_image_items_esp():\n",
    "            try:\n",
    "                print(\"\\n\\nCluster \"+str(selected_cluster) +\n",
    "                      \" || variable: \"+str(column))\n",
    "                print(f'Describiendo la pregunta {column}')\n",
    "                dict_item = get_data_replacements(str(column))\n",
    "                if dict_item:\n",
    "                    print(\n",
    "                        f'Valores numéricos asociados a las respuestas {list(dict_item.keys())}')\n",
    "                    print(\n",
    "                        f'Respuestas posibles a la pregunta/variable {list(dict_item.values())}')\n",
    "                display(dataframe.loc[dataframe['prosume_cluster']\n",
    "                                      == selected_cluster][column].describe())\n",
    "                print(\n",
    "                    f'Conteo de cada valor en {column} expresada como valor / cantidad')\n",
    "                display(dataframe.loc[dataframe['prosume_cluster'] ==\n",
    "                                      selected_cluster][column].value_counts().sort_index())\n",
    "                print(\n",
    "                    f'Porcentaje de cada valor en {column} expresado como valor / porcentaje')\n",
    "                display(dataframe.loc[dataframe['prosume_cluster'] == selected_cluster][column].value_counts(\n",
    "                    normalize=True).sort_index().round(4) * 100)\n",
    "                # sns.distplot(workCleanDummiesCluster.loc[workCleanDummiesCluster['cluster'] == selected_cluster][column], kde=False, rug=True);\n",
    "                data = [go.Bar(x=sorted(dataframe.loc[dataframe['prosume_cluster'] == selected_cluster][column].unique()),\n",
    "                               y=dataframe.loc[dataframe['prosume_cluster'] == selected_cluster][column].value_counts().reindex(\n",
    "                                   dataframe.loc[dataframe['prosume_cluster'] == selected_cluster][column].unique(), fill_value=0).sort_index(),\n",
    "                               marker=dict(color=cl.scales['6']['div']['Spectral']))]\n",
    "\n",
    "                if dict_item:\n",
    "                    layout = go.Layout(\n",
    "                        xaxis=go.layout.XAxis(\n",
    "                            ticktext=list(dict_item.values()),\n",
    "                            tickvals=list(dict_item.keys()),\n",
    "                        ),\n",
    "                        bargap=0.2,\n",
    "                    )\n",
    "                    fig = go.Figure(data, layout)\n",
    "                    iplot(fig)\n",
    "                else:\n",
    "                    iplot(data)\n",
    "                # plt.show()\n",
    "            except BaseException:\n",
    "                pass"
   ]
  },
  {
   "cell_type": "code",
   "execution_count": 6,
   "metadata": {},
   "outputs": [],
   "source": [
    "def visualize_reception_images_by_prosume_clusters_en(dataframe):\n",
    "    \n",
    "    for selected_cluster in dataframe['prosume_cluster'].unique():\n",
    "        for column in get_reception_image_items_en():\n",
    "            try:\n",
    "                print(\"\\n\\nCluster \"+str(selected_cluster) +\n",
    "                      \" || feature: \"+str(column))\n",
    "\n",
    "                print(f'Describing the feature {column}')\n",
    "                dict_item = get_data_replacements(str(column))\n",
    "                if dict_item:\n",
    "                    print(\n",
    "                        f'Numeric values associated to the responses {list(dict_item.keys())}')\n",
    "                    print(\n",
    "                        f'Possible responses to the question/variable {list(dict_item.values())}')\n",
    "                display(dataframe.loc[dataframe['prosume_cluster']\n",
    "                                      == selected_cluster][column].describe())\n",
    "                print(\n",
    "                    f'Count of each value in {column} expresed as value / amount')\n",
    "                display(dataframe.loc[dataframe['prosume_cluster'] ==\n",
    "                                      selected_cluster][column].value_counts().sort_index())\n",
    "                print(\n",
    "                    f'Percentage of each value in {column} expresed as value / percentage')\n",
    "                display(dataframe.loc[dataframe['prosume_cluster'] == selected_cluster][column].value_counts(\n",
    "                    normalize=True).sort_index().round(4) * 100)\n",
    "                # sns.distplot(workCleanDummiesCluster.loc[workCleanDummiesCluster['cluster'] == selected_cluster][column], kde=False, rug=True);\n",
    "                data = [go.Bar(x=sorted(dataframe.loc[dataframe['prosume_cluster'] == selected_cluster][column].unique()),\n",
    "                               y=dataframe.loc[dataframe['prosume_cluster'] == selected_cluster][column].value_counts().reindex(\n",
    "                                   dataframe.loc[dataframe['prosume_cluster'] == selected_cluster][column].unique(), fill_value=0).sort_index(),\n",
    "                               marker=dict(color=cl.scales['6']['div']['Spectral']))]\n",
    "\n",
    "                if dict_item:\n",
    "                    layout = go.Layout(\n",
    "                        xaxis=go.layout.XAxis(\n",
    "                            ticktext=list(dict_item.values()),\n",
    "                            tickvals=list(dict_item.keys()),\n",
    "                        ),\n",
    "                        bargap=0.2,\n",
    "                    )\n",
    "                    fig = go.Figure(data, layout)\n",
    "                    iplot(fig)\n",
    "                else:\n",
    "                    iplot(data)\n",
    "                # plt.show()\n",
    "            except BaseException:\n",
    "                pass"
   ]
  },
  {
   "cell_type": "code",
   "execution_count": 7,
   "metadata": {
    "scrolled": false
   },
   "outputs": [],
   "source": [
    "def compare_reception_images_by_prosume_clusters_esp(dataframe):\n",
    "    temp_dataframe = dataframe.copy()\n",
    "    temp_dataframe['prosume_cluster'] = temp_dataframe['prosume_cluster'].apply({0: 'cluster_0', 1: 'cluster_1', 2: 'cluster_2',3: 'cluster_3',4: 'cluster_4',5: 'cluster_5'}.get)\n",
    "    for column in get_reception_image_items_esp():\n",
    "        try:\n",
    "            newDataframe = pd.DataFrame(temp_dataframe.groupby('prosume_cluster')[column].value_counts(dropna=True, sort=True).reset_index(name='counts'))\n",
    "            newDataframe[column] = newDataframe[column].apply(get_data_replacements(str(column)).get)\n",
    "            print(f'Comparando la pregunta {column}')\n",
    "            iplot(px.bar_polar(newDataframe, r='counts', theta=\"prosume_cluster\", color=column,\n",
    "            color_discrete_sequence= cl.scales['6']['div']['Spectral'], barmode=\"group\"))\n",
    "            # plt.show()\n",
    "        except KeyError:\n",
    "            pass"
   ]
  },
  {
   "cell_type": "code",
   "execution_count": 8,
   "metadata": {},
   "outputs": [],
   "source": [
    "def compare_reception_images_by_prosume_clusters_en(dataframe):\n",
    "    temp_dataframe = dataframe.copy()\n",
    "    temp_dataframe['prosume_cluster'] = temp_dataframe['prosume_cluster'].apply({0: 'cluster_0', 1: 'cluster_1', 2: 'cluster_2',3: 'cluster_3',4: 'cluster_4',5: 'cluster_5'}.get)\n",
    "    for column in get_reception_image_items_esp():\n",
    "        try:\n",
    "            newDataframe = pd.DataFrame(temp_dataframe.groupby('prosume_cluster')[column].value_counts(dropna=True, sort=True).reset_index(name='counts'))\n",
    "            newDataframe[column] = newDataframe[column].apply(get_data_replacements(str(column)).get)\n",
    "            print(f'Comparing the feature {column}')\n",
    "            iplot(px.bar_polar(newDataframe, r='counts', theta=\"prosume_cluster\", color=column,\n",
    "            color_discrete_sequence= cl.scales['6']['div']['Spectral'], barmode=\"group\"))\n",
    "            # plt.show()\n",
    "        except KeyError:\n",
    "            pass"
   ]
  },
  {
   "cell_type": "code",
   "execution_count": 9,
   "metadata": {
    "scrolled": false
   },
   "outputs": [
    {
     "name": "stdout",
     "output_type": "stream",
     "text": [
      "\n",
      "\n",
      "Cluster 5 || variable: Clasifica tu grado de visión\n",
      "Describiendo la pregunta Clasifica tu grado de visión\n",
      "Valores numéricos asociados a las respuestas [1, 2, 3, 4, 5]\n",
      "Respuestas posibles a la pregunta/variable ['1. Muy malo', '2. Malo', '3. Regular', '4. Bueno', '5. Muy bueno']\n"
     ]
    },
    {
     "data": {
      "text/plain": [
       "count    336.000000\n",
       "mean       4.080357\n",
       "std        0.789540\n",
       "min        2.000000\n",
       "25%        4.000000\n",
       "50%        4.000000\n",
       "75%        5.000000\n",
       "max        5.000000\n",
       "Name: Clasifica tu grado de visión, dtype: float64"
      ]
     },
     "metadata": {},
     "output_type": "display_data"
    },
    {
     "name": "stdout",
     "output_type": "stream",
     "text": [
      "Conteo de cada valor en Clasifica tu grado de visión expresada como valor / cantidad\n"
     ]
    },
    {
     "data": {
      "text/plain": [
       "2      8\n",
       "3     68\n",
       "4    149\n",
       "5    111\n",
       "Name: Clasifica tu grado de visión, dtype: int64"
      ]
     },
     "metadata": {},
     "output_type": "display_data"
    },
    {
     "name": "stdout",
     "output_type": "stream",
     "text": [
      "Porcentaje de cada valor en Clasifica tu grado de visión expresado como valor / porcentaje\n"
     ]
    },
    {
     "data": {
      "text/plain": [
       "2     2.38\n",
       "3    20.24\n",
       "4    44.35\n",
       "5    33.04\n",
       "Name: Clasifica tu grado de visión, dtype: float64"
      ]
     },
     "metadata": {},
     "output_type": "display_data"
    },
    {
     "data": {
      "application/vnd.plotly.v1+json": {
       "config": {
        "linkText": "Export to plot.ly",
        "plotlyServerURL": "https://plot.ly",
        "showLink": false
       },
       "data": [
        {
         "marker": {
          "color": [
           "rgb(213,62,79)",
           "rgb(252,141,89)",
           "rgb(254,224,139)",
           "rgb(230,245,152)",
           "rgb(153,213,148)",
           "rgb(50,136,189)"
          ]
         },
         "type": "bar",
         "uid": "47e41d33-7b78-41cf-a959-4c643eb6416e",
         "x": [
          2,
          3,
          4,
          5
         ],
         "y": [
          8,
          68,
          149,
          111
         ]
        }
       ],
       "layout": {
        "bargap": 0.2,
        "xaxis": {
         "ticktext": [
          "1. Muy malo",
          "2. Malo",
          "3. Regular",
          "4. Bueno",
          "5. Muy bueno"
         ],
         "tickvals": [
          1,
          2,
          3,
          4,
          5
         ]
        }
       }
      },
      "text/html": [
       "<div id=\"2e505b52-81ec-4e5a-b7cf-d1807d8fb2a6\" style=\"height: 525px; width: 100%;\" class=\"plotly-graph-div\"></div><script type=\"text/javascript\">require([\"plotly\"], function(Plotly) { window.PLOTLYENV=window.PLOTLYENV || {};window.PLOTLYENV.BASE_URL=\"https://plot.ly\";\n",
       "if (document.getElementById(\"2e505b52-81ec-4e5a-b7cf-d1807d8fb2a6\")) {\n",
       "    Plotly.newPlot(\"2e505b52-81ec-4e5a-b7cf-d1807d8fb2a6\", [{\"marker\": {\"color\": [\"rgb(213,62,79)\", \"rgb(252,141,89)\", \"rgb(254,224,139)\", \"rgb(230,245,152)\", \"rgb(153,213,148)\", \"rgb(50,136,189)\"]}, \"x\": [2, 3, 4, 5], \"y\": [8, 68, 149, 111], \"type\": \"bar\", \"uid\": \"47e41d33-7b78-41cf-a959-4c643eb6416e\"}], {\"bargap\": 0.2, \"xaxis\": {\"ticktext\": [\"1. Muy malo\", \"2. Malo\", \"3. Regular\", \"4. Bueno\", \"5. Muy bueno\"], \"tickvals\": [1, 2, 3, 4, 5]}}, {\"showLink\": false, \"linkText\": \"Export to plot.ly\", \"plotlyServerURL\": \"https://plot.ly\"}); \n",
       "}\n",
       "});</script><script type=\"text/javascript\">window.addEventListener(\"resize\", function(){if (document.getElementById(\"2e505b52-81ec-4e5a-b7cf-d1807d8fb2a6\")) {window._Plotly.Plots.resize(document.getElementById(\"2e505b52-81ec-4e5a-b7cf-d1807d8fb2a6\"));};})</script>"
      ],
      "text/vnd.plotly.v1+html": [
       "<div id=\"2e505b52-81ec-4e5a-b7cf-d1807d8fb2a6\" style=\"height: 525px; width: 100%;\" class=\"plotly-graph-div\"></div><script type=\"text/javascript\">require([\"plotly\"], function(Plotly) { window.PLOTLYENV=window.PLOTLYENV || {};window.PLOTLYENV.BASE_URL=\"https://plot.ly\";\n",
       "if (document.getElementById(\"2e505b52-81ec-4e5a-b7cf-d1807d8fb2a6\")) {\n",
       "    Plotly.newPlot(\"2e505b52-81ec-4e5a-b7cf-d1807d8fb2a6\", [{\"marker\": {\"color\": [\"rgb(213,62,79)\", \"rgb(252,141,89)\", \"rgb(254,224,139)\", \"rgb(230,245,152)\", \"rgb(153,213,148)\", \"rgb(50,136,189)\"]}, \"x\": [2, 3, 4, 5], \"y\": [8, 68, 149, 111], \"type\": \"bar\", \"uid\": \"47e41d33-7b78-41cf-a959-4c643eb6416e\"}], {\"bargap\": 0.2, \"xaxis\": {\"ticktext\": [\"1. Muy malo\", \"2. Malo\", \"3. Regular\", \"4. Bueno\", \"5. Muy bueno\"], \"tickvals\": [1, 2, 3, 4, 5]}}, {\"showLink\": false, \"linkText\": \"Export to plot.ly\", \"plotlyServerURL\": \"https://plot.ly\"}); \n",
       "}\n",
       "});</script><script type=\"text/javascript\">window.addEventListener(\"resize\", function(){if (document.getElementById(\"2e505b52-81ec-4e5a-b7cf-d1807d8fb2a6\")) {window._Plotly.Plots.resize(document.getElementById(\"2e505b52-81ec-4e5a-b7cf-d1807d8fb2a6\"));};})</script>"
      ]
     },
     "metadata": {},
     "output_type": "display_data"
    },
    {
     "name": "stdout",
     "output_type": "stream",
     "text": [
      "\n",
      "\n",
      "Cluster 5 || variable: ¿Utilizas gafas o lentes de contacto?\n",
      "Describiendo la pregunta ¿Utilizas gafas o lentes de contacto?\n",
      "Valores numéricos asociados a las respuestas [0, 1]\n",
      "Respuestas posibles a la pregunta/variable ['No', 'Sí']\n"
     ]
    },
    {
     "data": {
      "text/plain": [
       "count    336.000000\n",
       "mean       0.565476\n",
       "std        0.496434\n",
       "min        0.000000\n",
       "25%        0.000000\n",
       "50%        1.000000\n",
       "75%        1.000000\n",
       "max        1.000000\n",
       "Name: ¿Utilizas gafas o lentes de contacto?, dtype: float64"
      ]
     },
     "metadata": {},
     "output_type": "display_data"
    },
    {
     "name": "stdout",
     "output_type": "stream",
     "text": [
      "Conteo de cada valor en ¿Utilizas gafas o lentes de contacto? expresada como valor / cantidad\n"
     ]
    },
    {
     "data": {
      "text/plain": [
       "0    146\n",
       "1    190\n",
       "Name: ¿Utilizas gafas o lentes de contacto?, dtype: int64"
      ]
     },
     "metadata": {},
     "output_type": "display_data"
    },
    {
     "name": "stdout",
     "output_type": "stream",
     "text": [
      "Porcentaje de cada valor en ¿Utilizas gafas o lentes de contacto? expresado como valor / porcentaje\n"
     ]
    },
    {
     "data": {
      "text/plain": [
       "0    43.45\n",
       "1    56.55\n",
       "Name: ¿Utilizas gafas o lentes de contacto?, dtype: float64"
      ]
     },
     "metadata": {},
     "output_type": "display_data"
    },
    {
     "data": {
      "application/vnd.plotly.v1+json": {
       "config": {
        "linkText": "Export to plot.ly",
        "plotlyServerURL": "https://plot.ly",
        "showLink": false
       },
       "data": [
        {
         "marker": {
          "color": [
           "rgb(213,62,79)",
           "rgb(252,141,89)",
           "rgb(254,224,139)",
           "rgb(230,245,152)",
           "rgb(153,213,148)",
           "rgb(50,136,189)"
          ]
         },
         "type": "bar",
         "uid": "5491fd26-7e45-4269-b0b9-e6499d4965bd",
         "x": [
          0,
          1
         ],
         "y": [
          146,
          190
         ]
        }
       ],
       "layout": {
        "bargap": 0.2,
        "xaxis": {
         "ticktext": [
          "No",
          "Sí"
         ],
         "tickvals": [
          0,
          1
         ]
        }
       }
      },
      "text/html": [
       "<div id=\"f88ebd81-69f1-45cc-ac26-bd6f312f3b63\" style=\"height: 525px; width: 100%;\" class=\"plotly-graph-div\"></div><script type=\"text/javascript\">require([\"plotly\"], function(Plotly) { window.PLOTLYENV=window.PLOTLYENV || {};window.PLOTLYENV.BASE_URL=\"https://plot.ly\";\n",
       "if (document.getElementById(\"f88ebd81-69f1-45cc-ac26-bd6f312f3b63\")) {\n",
       "    Plotly.newPlot(\"f88ebd81-69f1-45cc-ac26-bd6f312f3b63\", [{\"marker\": {\"color\": [\"rgb(213,62,79)\", \"rgb(252,141,89)\", \"rgb(254,224,139)\", \"rgb(230,245,152)\", \"rgb(153,213,148)\", \"rgb(50,136,189)\"]}, \"x\": [0, 1], \"y\": [146, 190], \"type\": \"bar\", \"uid\": \"5491fd26-7e45-4269-b0b9-e6499d4965bd\"}], {\"bargap\": 0.2, \"xaxis\": {\"ticktext\": [\"No\", \"S\\u00ed\"], \"tickvals\": [0, 1]}}, {\"showLink\": false, \"linkText\": \"Export to plot.ly\", \"plotlyServerURL\": \"https://plot.ly\"}); \n",
       "}\n",
       "});</script><script type=\"text/javascript\">window.addEventListener(\"resize\", function(){if (document.getElementById(\"f88ebd81-69f1-45cc-ac26-bd6f312f3b63\")) {window._Plotly.Plots.resize(document.getElementById(\"f88ebd81-69f1-45cc-ac26-bd6f312f3b63\"));};})</script>"
      ],
      "text/vnd.plotly.v1+html": [
       "<div id=\"f88ebd81-69f1-45cc-ac26-bd6f312f3b63\" style=\"height: 525px; width: 100%;\" class=\"plotly-graph-div\"></div><script type=\"text/javascript\">require([\"plotly\"], function(Plotly) { window.PLOTLYENV=window.PLOTLYENV || {};window.PLOTLYENV.BASE_URL=\"https://plot.ly\";\n",
       "if (document.getElementById(\"f88ebd81-69f1-45cc-ac26-bd6f312f3b63\")) {\n",
       "    Plotly.newPlot(\"f88ebd81-69f1-45cc-ac26-bd6f312f3b63\", [{\"marker\": {\"color\": [\"rgb(213,62,79)\", \"rgb(252,141,89)\", \"rgb(254,224,139)\", \"rgb(230,245,152)\", \"rgb(153,213,148)\", \"rgb(50,136,189)\"]}, \"x\": [0, 1], \"y\": [146, 190], \"type\": \"bar\", \"uid\": \"5491fd26-7e45-4269-b0b9-e6499d4965bd\"}], {\"bargap\": 0.2, \"xaxis\": {\"ticktext\": [\"No\", \"S\\u00ed\"], \"tickvals\": [0, 1]}}, {\"showLink\": false, \"linkText\": \"Export to plot.ly\", \"plotlyServerURL\": \"https://plot.ly\"}); \n",
       "}\n",
       "});</script><script type=\"text/javascript\">window.addEventListener(\"resize\", function(){if (document.getElementById(\"f88ebd81-69f1-45cc-ac26-bd6f312f3b63\")) {window._Plotly.Plots.resize(document.getElementById(\"f88ebd81-69f1-45cc-ac26-bd6f312f3b63\"));};})</script>"
      ]
     },
     "metadata": {},
     "output_type": "display_data"
    },
    {
     "name": "stdout",
     "output_type": "stream",
     "text": [
      "\n",
      "\n",
      "Cluster 5 || variable: ¿Tienes alguna carencia visual que afecte a la recepción de formas, colores, distancias, etc.?\n",
      "Describiendo la pregunta ¿Tienes alguna carencia visual que afecte a la recepción de formas, colores, distancias, etc.?\n",
      "Valores numéricos asociados a las respuestas [0, 1]\n",
      "Respuestas posibles a la pregunta/variable ['No', 'Sí']\n"
     ]
    },
    {
     "data": {
      "text/plain": [
       "count    336.000000\n",
       "mean       0.092262\n",
       "std        0.289827\n",
       "min        0.000000\n",
       "25%        0.000000\n",
       "50%        0.000000\n",
       "75%        0.000000\n",
       "max        1.000000\n",
       "Name: ¿Tienes alguna carencia visual que afecte a la recepción de formas, colores, distancias, etc.?, dtype: float64"
      ]
     },
     "metadata": {},
     "output_type": "display_data"
    },
    {
     "name": "stdout",
     "output_type": "stream",
     "text": [
      "Conteo de cada valor en ¿Tienes alguna carencia visual que afecte a la recepción de formas, colores, distancias, etc.? expresada como valor / cantidad\n"
     ]
    },
    {
     "data": {
      "text/plain": [
       "0    305\n",
       "1     31\n",
       "Name: ¿Tienes alguna carencia visual que afecte a la recepción de formas, colores, distancias, etc.?, dtype: int64"
      ]
     },
     "metadata": {},
     "output_type": "display_data"
    },
    {
     "name": "stdout",
     "output_type": "stream",
     "text": [
      "Porcentaje de cada valor en ¿Tienes alguna carencia visual que afecte a la recepción de formas, colores, distancias, etc.? expresado como valor / porcentaje\n"
     ]
    },
    {
     "data": {
      "text/plain": [
       "0    90.77\n",
       "1     9.23\n",
       "Name: ¿Tienes alguna carencia visual que afecte a la recepción de formas, colores, distancias, etc.?, dtype: float64"
      ]
     },
     "metadata": {},
     "output_type": "display_data"
    },
    {
     "data": {
      "application/vnd.plotly.v1+json": {
       "config": {
        "linkText": "Export to plot.ly",
        "plotlyServerURL": "https://plot.ly",
        "showLink": false
       },
       "data": [
        {
         "marker": {
          "color": [
           "rgb(213,62,79)",
           "rgb(252,141,89)",
           "rgb(254,224,139)",
           "rgb(230,245,152)",
           "rgb(153,213,148)",
           "rgb(50,136,189)"
          ]
         },
         "type": "bar",
         "uid": "8296d6d4-0217-4f0b-8252-60960cc1c083",
         "x": [
          0,
          1
         ],
         "y": [
          305,
          31
         ]
        }
       ],
       "layout": {
        "bargap": 0.2,
        "xaxis": {
         "ticktext": [
          "No",
          "Sí"
         ],
         "tickvals": [
          0,
          1
         ]
        }
       }
      },
      "text/html": [
       "<div id=\"3e721515-806f-4028-85e2-5ac600eae144\" style=\"height: 525px; width: 100%;\" class=\"plotly-graph-div\"></div><script type=\"text/javascript\">require([\"plotly\"], function(Plotly) { window.PLOTLYENV=window.PLOTLYENV || {};window.PLOTLYENV.BASE_URL=\"https://plot.ly\";\n",
       "if (document.getElementById(\"3e721515-806f-4028-85e2-5ac600eae144\")) {\n",
       "    Plotly.newPlot(\"3e721515-806f-4028-85e2-5ac600eae144\", [{\"marker\": {\"color\": [\"rgb(213,62,79)\", \"rgb(252,141,89)\", \"rgb(254,224,139)\", \"rgb(230,245,152)\", \"rgb(153,213,148)\", \"rgb(50,136,189)\"]}, \"x\": [0, 1], \"y\": [305, 31], \"type\": \"bar\", \"uid\": \"8296d6d4-0217-4f0b-8252-60960cc1c083\"}], {\"bargap\": 0.2, \"xaxis\": {\"ticktext\": [\"No\", \"S\\u00ed\"], \"tickvals\": [0, 1]}}, {\"showLink\": false, \"linkText\": \"Export to plot.ly\", \"plotlyServerURL\": \"https://plot.ly\"}); \n",
       "}\n",
       "});</script><script type=\"text/javascript\">window.addEventListener(\"resize\", function(){if (document.getElementById(\"3e721515-806f-4028-85e2-5ac600eae144\")) {window._Plotly.Plots.resize(document.getElementById(\"3e721515-806f-4028-85e2-5ac600eae144\"));};})</script>"
      ],
      "text/vnd.plotly.v1+html": [
       "<div id=\"3e721515-806f-4028-85e2-5ac600eae144\" style=\"height: 525px; width: 100%;\" class=\"plotly-graph-div\"></div><script type=\"text/javascript\">require([\"plotly\"], function(Plotly) { window.PLOTLYENV=window.PLOTLYENV || {};window.PLOTLYENV.BASE_URL=\"https://plot.ly\";\n",
       "if (document.getElementById(\"3e721515-806f-4028-85e2-5ac600eae144\")) {\n",
       "    Plotly.newPlot(\"3e721515-806f-4028-85e2-5ac600eae144\", [{\"marker\": {\"color\": [\"rgb(213,62,79)\", \"rgb(252,141,89)\", \"rgb(254,224,139)\", \"rgb(230,245,152)\", \"rgb(153,213,148)\", \"rgb(50,136,189)\"]}, \"x\": [0, 1], \"y\": [305, 31], \"type\": \"bar\", \"uid\": \"8296d6d4-0217-4f0b-8252-60960cc1c083\"}], {\"bargap\": 0.2, \"xaxis\": {\"ticktext\": [\"No\", \"S\\u00ed\"], \"tickvals\": [0, 1]}}, {\"showLink\": false, \"linkText\": \"Export to plot.ly\", \"plotlyServerURL\": \"https://plot.ly\"}); \n",
       "}\n",
       "});</script><script type=\"text/javascript\">window.addEventListener(\"resize\", function(){if (document.getElementById(\"3e721515-806f-4028-85e2-5ac600eae144\")) {window._Plotly.Plots.resize(document.getElementById(\"3e721515-806f-4028-85e2-5ac600eae144\"));};})</script>"
      ]
     },
     "metadata": {},
     "output_type": "display_data"
    },
    {
     "name": "stdout",
     "output_type": "stream",
     "text": [
      "\n",
      "\n",
      "Cluster 5 || variable: ¿Tienes acceso a dispositivos (ordenador, móvil, tablet, etc.) conectados a Internet habitualmente?\n",
      "Describiendo la pregunta ¿Tienes acceso a dispositivos (ordenador, móvil, tablet, etc.) conectados a Internet habitualmente?\n",
      "Valores numéricos asociados a las respuestas [1, 2, 3, 4, 5]\n",
      "Respuestas posibles a la pregunta/variable ['1. Nunca', '2. Ocasionalmente', '3. Semanalmente', '4. Diariamente', '5. Varias veces al día']\n"
     ]
    },
    {
     "data": {
      "text/plain": [
       "count    336.000000\n",
       "mean       4.922619\n",
       "std        0.267593\n",
       "min        4.000000\n",
       "25%        5.000000\n",
       "50%        5.000000\n",
       "75%        5.000000\n",
       "max        5.000000\n",
       "Name: ¿Tienes acceso a dispositivos (ordenador, móvil, tablet, etc.) conectados a Internet habitualmente?, dtype: float64"
      ]
     },
     "metadata": {},
     "output_type": "display_data"
    },
    {
     "name": "stdout",
     "output_type": "stream",
     "text": [
      "Conteo de cada valor en ¿Tienes acceso a dispositivos (ordenador, móvil, tablet, etc.) conectados a Internet habitualmente? expresada como valor / cantidad\n"
     ]
    },
    {
     "data": {
      "text/plain": [
       "4     26\n",
       "5    310\n",
       "Name: ¿Tienes acceso a dispositivos (ordenador, móvil, tablet, etc.) conectados a Internet habitualmente?, dtype: int64"
      ]
     },
     "metadata": {},
     "output_type": "display_data"
    },
    {
     "name": "stdout",
     "output_type": "stream",
     "text": [
      "Porcentaje de cada valor en ¿Tienes acceso a dispositivos (ordenador, móvil, tablet, etc.) conectados a Internet habitualmente? expresado como valor / porcentaje\n"
     ]
    },
    {
     "data": {
      "text/plain": [
       "4     7.74\n",
       "5    92.26\n",
       "Name: ¿Tienes acceso a dispositivos (ordenador, móvil, tablet, etc.) conectados a Internet habitualmente?, dtype: float64"
      ]
     },
     "metadata": {},
     "output_type": "display_data"
    },
    {
     "data": {
      "application/vnd.plotly.v1+json": {
       "config": {
        "linkText": "Export to plot.ly",
        "plotlyServerURL": "https://plot.ly",
        "showLink": false
       },
       "data": [
        {
         "marker": {
          "color": [
           "rgb(213,62,79)",
           "rgb(252,141,89)",
           "rgb(254,224,139)",
           "rgb(230,245,152)",
           "rgb(153,213,148)",
           "rgb(50,136,189)"
          ]
         },
         "type": "bar",
         "uid": "e953cd03-d4b7-4ca7-8c04-77c21eca0689",
         "x": [
          4,
          5
         ],
         "y": [
          26,
          310
         ]
        }
       ],
       "layout": {
        "bargap": 0.2,
        "xaxis": {
         "ticktext": [
          "1. Nunca",
          "2. Ocasionalmente",
          "3. Semanalmente",
          "4. Diariamente",
          "5. Varias veces al día"
         ],
         "tickvals": [
          1,
          2,
          3,
          4,
          5
         ]
        }
       }
      },
      "text/html": [
       "<div id=\"4e5ffe86-e7fd-4d89-92d1-37be7ee607de\" style=\"height: 525px; width: 100%;\" class=\"plotly-graph-div\"></div><script type=\"text/javascript\">require([\"plotly\"], function(Plotly) { window.PLOTLYENV=window.PLOTLYENV || {};window.PLOTLYENV.BASE_URL=\"https://plot.ly\";\n",
       "if (document.getElementById(\"4e5ffe86-e7fd-4d89-92d1-37be7ee607de\")) {\n",
       "    Plotly.newPlot(\"4e5ffe86-e7fd-4d89-92d1-37be7ee607de\", [{\"marker\": {\"color\": [\"rgb(213,62,79)\", \"rgb(252,141,89)\", \"rgb(254,224,139)\", \"rgb(230,245,152)\", \"rgb(153,213,148)\", \"rgb(50,136,189)\"]}, \"x\": [4, 5], \"y\": [26, 310], \"type\": \"bar\", \"uid\": \"e953cd03-d4b7-4ca7-8c04-77c21eca0689\"}], {\"bargap\": 0.2, \"xaxis\": {\"ticktext\": [\"1. Nunca\", \"2. Ocasionalmente\", \"3. Semanalmente\", \"4. Diariamente\", \"5. Varias veces al d\\u00eda\"], \"tickvals\": [1, 2, 3, 4, 5]}}, {\"showLink\": false, \"linkText\": \"Export to plot.ly\", \"plotlyServerURL\": \"https://plot.ly\"}); \n",
       "}\n",
       "});</script><script type=\"text/javascript\">window.addEventListener(\"resize\", function(){if (document.getElementById(\"4e5ffe86-e7fd-4d89-92d1-37be7ee607de\")) {window._Plotly.Plots.resize(document.getElementById(\"4e5ffe86-e7fd-4d89-92d1-37be7ee607de\"));};})</script>"
      ],
      "text/vnd.plotly.v1+html": [
       "<div id=\"4e5ffe86-e7fd-4d89-92d1-37be7ee607de\" style=\"height: 525px; width: 100%;\" class=\"plotly-graph-div\"></div><script type=\"text/javascript\">require([\"plotly\"], function(Plotly) { window.PLOTLYENV=window.PLOTLYENV || {};window.PLOTLYENV.BASE_URL=\"https://plot.ly\";\n",
       "if (document.getElementById(\"4e5ffe86-e7fd-4d89-92d1-37be7ee607de\")) {\n",
       "    Plotly.newPlot(\"4e5ffe86-e7fd-4d89-92d1-37be7ee607de\", [{\"marker\": {\"color\": [\"rgb(213,62,79)\", \"rgb(252,141,89)\", \"rgb(254,224,139)\", \"rgb(230,245,152)\", \"rgb(153,213,148)\", \"rgb(50,136,189)\"]}, \"x\": [4, 5], \"y\": [26, 310], \"type\": \"bar\", \"uid\": \"e953cd03-d4b7-4ca7-8c04-77c21eca0689\"}], {\"bargap\": 0.2, \"xaxis\": {\"ticktext\": [\"1. Nunca\", \"2. Ocasionalmente\", \"3. Semanalmente\", \"4. Diariamente\", \"5. Varias veces al d\\u00eda\"], \"tickvals\": [1, 2, 3, 4, 5]}}, {\"showLink\": false, \"linkText\": \"Export to plot.ly\", \"plotlyServerURL\": \"https://plot.ly\"}); \n",
       "}\n",
       "});</script><script type=\"text/javascript\">window.addEventListener(\"resize\", function(){if (document.getElementById(\"4e5ffe86-e7fd-4d89-92d1-37be7ee607de\")) {window._Plotly.Plots.resize(document.getElementById(\"4e5ffe86-e7fd-4d89-92d1-37be7ee607de\"));};})</script>"
      ]
     },
     "metadata": {},
     "output_type": "display_data"
    },
    {
     "name": "stdout",
     "output_type": "stream",
     "text": [
      "\n",
      "\n",
      "Cluster 5 || variable: ¿Cuánto tiempo al día usas el móvil/tableta/ordenador/TV?\n",
      "Describiendo la pregunta ¿Cuánto tiempo al día usas el móvil/tableta/ordenador/TV?\n",
      "Valores numéricos asociados a las respuestas [1, 2, 3, 4, 5, 6]\n",
      "Respuestas posibles a la pregunta/variable ['1. Nada', '2. Menos de una hora', '3. 1-2 horas', '4. 2-4 horas', '5. 4-6 horas', '6. Más de 6 horas']\n"
     ]
    },
    {
     "data": {
      "text/plain": [
       "count    336.000000\n",
       "mean       5.273810\n",
       "std        0.889087\n",
       "min        2.000000\n",
       "25%        5.000000\n",
       "50%        6.000000\n",
       "75%        6.000000\n",
       "max        6.000000\n",
       "Name: ¿Cuánto tiempo al día usas el móvil/tableta/ordenador/TV?, dtype: float64"
      ]
     },
     "metadata": {},
     "output_type": "display_data"
    },
    {
     "name": "stdout",
     "output_type": "stream",
     "text": [
      "Conteo de cada valor en ¿Cuánto tiempo al día usas el móvil/tableta/ordenador/TV? expresada como valor / cantidad\n"
     ]
    },
    {
     "data": {
      "text/plain": [
       "2      1\n",
       "3     12\n",
       "4     57\n",
       "5     90\n",
       "6    176\n",
       "Name: ¿Cuánto tiempo al día usas el móvil/tableta/ordenador/TV?, dtype: int64"
      ]
     },
     "metadata": {},
     "output_type": "display_data"
    },
    {
     "name": "stdout",
     "output_type": "stream",
     "text": [
      "Porcentaje de cada valor en ¿Cuánto tiempo al día usas el móvil/tableta/ordenador/TV? expresado como valor / porcentaje\n"
     ]
    },
    {
     "data": {
      "text/plain": [
       "2     0.30\n",
       "3     3.57\n",
       "4    16.96\n",
       "5    26.79\n",
       "6    52.38\n",
       "Name: ¿Cuánto tiempo al día usas el móvil/tableta/ordenador/TV?, dtype: float64"
      ]
     },
     "metadata": {},
     "output_type": "display_data"
    },
    {
     "data": {
      "application/vnd.plotly.v1+json": {
       "config": {
        "linkText": "Export to plot.ly",
        "plotlyServerURL": "https://plot.ly",
        "showLink": false
       },
       "data": [
        {
         "marker": {
          "color": [
           "rgb(213,62,79)",
           "rgb(252,141,89)",
           "rgb(254,224,139)",
           "rgb(230,245,152)",
           "rgb(153,213,148)",
           "rgb(50,136,189)"
          ]
         },
         "type": "bar",
         "uid": "23169396-1fb1-4a0f-8672-3d7887bd91ff",
         "x": [
          2,
          3,
          4,
          5,
          6
         ],
         "y": [
          1,
          12,
          57,
          90,
          176
         ]
        }
       ],
       "layout": {
        "bargap": 0.2,
        "xaxis": {
         "ticktext": [
          "1. Nada",
          "2. Menos de una hora",
          "3. 1-2 horas",
          "4. 2-4 horas",
          "5. 4-6 horas",
          "6. Más de 6 horas"
         ],
         "tickvals": [
          1,
          2,
          3,
          4,
          5,
          6
         ]
        }
       }
      },
      "text/html": [
       "<div id=\"783fb1f0-afdd-4c14-9c43-edc470865223\" style=\"height: 525px; width: 100%;\" class=\"plotly-graph-div\"></div><script type=\"text/javascript\">require([\"plotly\"], function(Plotly) { window.PLOTLYENV=window.PLOTLYENV || {};window.PLOTLYENV.BASE_URL=\"https://plot.ly\";\n",
       "if (document.getElementById(\"783fb1f0-afdd-4c14-9c43-edc470865223\")) {\n",
       "    Plotly.newPlot(\"783fb1f0-afdd-4c14-9c43-edc470865223\", [{\"marker\": {\"color\": [\"rgb(213,62,79)\", \"rgb(252,141,89)\", \"rgb(254,224,139)\", \"rgb(230,245,152)\", \"rgb(153,213,148)\", \"rgb(50,136,189)\"]}, \"x\": [2, 3, 4, 5, 6], \"y\": [1, 12, 57, 90, 176], \"type\": \"bar\", \"uid\": \"23169396-1fb1-4a0f-8672-3d7887bd91ff\"}], {\"bargap\": 0.2, \"xaxis\": {\"ticktext\": [\"1. Nada\", \"2. Menos de una hora\", \"3. 1-2 horas\", \"4. 2-4 horas\", \"5. 4-6 horas\", \"6. M\\u00e1s de 6 horas\"], \"tickvals\": [1, 2, 3, 4, 5, 6]}}, {\"showLink\": false, \"linkText\": \"Export to plot.ly\", \"plotlyServerURL\": \"https://plot.ly\"}); \n",
       "}\n",
       "});</script><script type=\"text/javascript\">window.addEventListener(\"resize\", function(){if (document.getElementById(\"783fb1f0-afdd-4c14-9c43-edc470865223\")) {window._Plotly.Plots.resize(document.getElementById(\"783fb1f0-afdd-4c14-9c43-edc470865223\"));};})</script>"
      ],
      "text/vnd.plotly.v1+html": [
       "<div id=\"783fb1f0-afdd-4c14-9c43-edc470865223\" style=\"height: 525px; width: 100%;\" class=\"plotly-graph-div\"></div><script type=\"text/javascript\">require([\"plotly\"], function(Plotly) { window.PLOTLYENV=window.PLOTLYENV || {};window.PLOTLYENV.BASE_URL=\"https://plot.ly\";\n",
       "if (document.getElementById(\"783fb1f0-afdd-4c14-9c43-edc470865223\")) {\n",
       "    Plotly.newPlot(\"783fb1f0-afdd-4c14-9c43-edc470865223\", [{\"marker\": {\"color\": [\"rgb(213,62,79)\", \"rgb(252,141,89)\", \"rgb(254,224,139)\", \"rgb(230,245,152)\", \"rgb(153,213,148)\", \"rgb(50,136,189)\"]}, \"x\": [2, 3, 4, 5, 6], \"y\": [1, 12, 57, 90, 176], \"type\": \"bar\", \"uid\": \"23169396-1fb1-4a0f-8672-3d7887bd91ff\"}], {\"bargap\": 0.2, \"xaxis\": {\"ticktext\": [\"1. Nada\", \"2. Menos de una hora\", \"3. 1-2 horas\", \"4. 2-4 horas\", \"5. 4-6 horas\", \"6. M\\u00e1s de 6 horas\"], \"tickvals\": [1, 2, 3, 4, 5, 6]}}, {\"showLink\": false, \"linkText\": \"Export to plot.ly\", \"plotlyServerURL\": \"https://plot.ly\"}); \n",
       "}\n",
       "});</script><script type=\"text/javascript\">window.addEventListener(\"resize\", function(){if (document.getElementById(\"783fb1f0-afdd-4c14-9c43-edc470865223\")) {window._Plotly.Plots.resize(document.getElementById(\"783fb1f0-afdd-4c14-9c43-edc470865223\"));};})</script>"
      ]
     },
     "metadata": {},
     "output_type": "display_data"
    },
    {
     "name": "stdout",
     "output_type": "stream",
     "text": [
      "\n",
      "\n",
      "Cluster 5 || variable: ¿Qué tipo de aplicaciones utilizas en tu ordenador/tableta/móvil? (Respuesta múltiple) [1. Apps de contenidos audiovisuales (Netflix, HBO, etc.)]\n",
      "Describiendo la pregunta ¿Qué tipo de aplicaciones utilizas en tu ordenador/tableta/móvil? (Respuesta múltiple) [1. Apps de contenidos audiovisuales (Netflix, HBO, etc.)]\n",
      "Valores numéricos asociados a las respuestas [0, 1]\n",
      "Respuestas posibles a la pregunta/variable ['No', 'Sí']\n"
     ]
    },
    {
     "data": {
      "text/plain": [
       "count    336.000000\n",
       "mean       0.708333\n",
       "std        0.455208\n",
       "min        0.000000\n",
       "25%        0.000000\n",
       "50%        1.000000\n",
       "75%        1.000000\n",
       "max        1.000000\n",
       "Name: ¿Qué tipo de aplicaciones utilizas en tu ordenador/tableta/móvil? (Respuesta múltiple) [1. Apps de contenidos audiovisuales (Netflix, HBO, etc.)], dtype: float64"
      ]
     },
     "metadata": {},
     "output_type": "display_data"
    },
    {
     "name": "stdout",
     "output_type": "stream",
     "text": [
      "Conteo de cada valor en ¿Qué tipo de aplicaciones utilizas en tu ordenador/tableta/móvil? (Respuesta múltiple) [1. Apps de contenidos audiovisuales (Netflix, HBO, etc.)] expresada como valor / cantidad\n"
     ]
    },
    {
     "data": {
      "text/plain": [
       "0     98\n",
       "1    238\n",
       "Name: ¿Qué tipo de aplicaciones utilizas en tu ordenador/tableta/móvil? (Respuesta múltiple) [1. Apps de contenidos audiovisuales (Netflix, HBO, etc.)], dtype: int64"
      ]
     },
     "metadata": {},
     "output_type": "display_data"
    },
    {
     "name": "stdout",
     "output_type": "stream",
     "text": [
      "Porcentaje de cada valor en ¿Qué tipo de aplicaciones utilizas en tu ordenador/tableta/móvil? (Respuesta múltiple) [1. Apps de contenidos audiovisuales (Netflix, HBO, etc.)] expresado como valor / porcentaje\n"
     ]
    },
    {
     "data": {
      "text/plain": [
       "0    29.17\n",
       "1    70.83\n",
       "Name: ¿Qué tipo de aplicaciones utilizas en tu ordenador/tableta/móvil? (Respuesta múltiple) [1. Apps de contenidos audiovisuales (Netflix, HBO, etc.)], dtype: float64"
      ]
     },
     "metadata": {},
     "output_type": "display_data"
    },
    {
     "data": {
      "application/vnd.plotly.v1+json": {
       "config": {
        "linkText": "Export to plot.ly",
        "plotlyServerURL": "https://plot.ly",
        "showLink": false
       },
       "data": [
        {
         "marker": {
          "color": [
           "rgb(213,62,79)",
           "rgb(252,141,89)",
           "rgb(254,224,139)",
           "rgb(230,245,152)",
           "rgb(153,213,148)",
           "rgb(50,136,189)"
          ]
         },
         "type": "bar",
         "uid": "d47df21c-0109-4dd4-9b14-1070d621e4c5",
         "x": [
          0,
          1
         ],
         "y": [
          98,
          238
         ]
        }
       ],
       "layout": {
        "bargap": 0.2,
        "xaxis": {
         "ticktext": [
          "No",
          "Sí"
         ],
         "tickvals": [
          0,
          1
         ]
        }
       }
      },
      "text/html": [
       "<div id=\"2fdf8dfc-2139-4f3b-8add-27d5ca984d04\" style=\"height: 525px; width: 100%;\" class=\"plotly-graph-div\"></div><script type=\"text/javascript\">require([\"plotly\"], function(Plotly) { window.PLOTLYENV=window.PLOTLYENV || {};window.PLOTLYENV.BASE_URL=\"https://plot.ly\";\n",
       "if (document.getElementById(\"2fdf8dfc-2139-4f3b-8add-27d5ca984d04\")) {\n",
       "    Plotly.newPlot(\"2fdf8dfc-2139-4f3b-8add-27d5ca984d04\", [{\"marker\": {\"color\": [\"rgb(213,62,79)\", \"rgb(252,141,89)\", \"rgb(254,224,139)\", \"rgb(230,245,152)\", \"rgb(153,213,148)\", \"rgb(50,136,189)\"]}, \"x\": [0, 1], \"y\": [98, 238], \"type\": \"bar\", \"uid\": \"d47df21c-0109-4dd4-9b14-1070d621e4c5\"}], {\"bargap\": 0.2, \"xaxis\": {\"ticktext\": [\"No\", \"S\\u00ed\"], \"tickvals\": [0, 1]}}, {\"showLink\": false, \"linkText\": \"Export to plot.ly\", \"plotlyServerURL\": \"https://plot.ly\"}); \n",
       "}\n",
       "});</script><script type=\"text/javascript\">window.addEventListener(\"resize\", function(){if (document.getElementById(\"2fdf8dfc-2139-4f3b-8add-27d5ca984d04\")) {window._Plotly.Plots.resize(document.getElementById(\"2fdf8dfc-2139-4f3b-8add-27d5ca984d04\"));};})</script>"
      ],
      "text/vnd.plotly.v1+html": [
       "<div id=\"2fdf8dfc-2139-4f3b-8add-27d5ca984d04\" style=\"height: 525px; width: 100%;\" class=\"plotly-graph-div\"></div><script type=\"text/javascript\">require([\"plotly\"], function(Plotly) { window.PLOTLYENV=window.PLOTLYENV || {};window.PLOTLYENV.BASE_URL=\"https://plot.ly\";\n",
       "if (document.getElementById(\"2fdf8dfc-2139-4f3b-8add-27d5ca984d04\")) {\n",
       "    Plotly.newPlot(\"2fdf8dfc-2139-4f3b-8add-27d5ca984d04\", [{\"marker\": {\"color\": [\"rgb(213,62,79)\", \"rgb(252,141,89)\", \"rgb(254,224,139)\", \"rgb(230,245,152)\", \"rgb(153,213,148)\", \"rgb(50,136,189)\"]}, \"x\": [0, 1], \"y\": [98, 238], \"type\": \"bar\", \"uid\": \"d47df21c-0109-4dd4-9b14-1070d621e4c5\"}], {\"bargap\": 0.2, \"xaxis\": {\"ticktext\": [\"No\", \"S\\u00ed\"], \"tickvals\": [0, 1]}}, {\"showLink\": false, \"linkText\": \"Export to plot.ly\", \"plotlyServerURL\": \"https://plot.ly\"}); \n",
       "}\n",
       "});</script><script type=\"text/javascript\">window.addEventListener(\"resize\", function(){if (document.getElementById(\"2fdf8dfc-2139-4f3b-8add-27d5ca984d04\")) {window._Plotly.Plots.resize(document.getElementById(\"2fdf8dfc-2139-4f3b-8add-27d5ca984d04\"));};})</script>"
      ]
     },
     "metadata": {},
     "output_type": "display_data"
    },
    {
     "name": "stdout",
     "output_type": "stream",
     "text": [
      "\n",
      "\n",
      "Cluster 5 || variable: ¿Qué tipo de aplicaciones utilizas en tu ordenador/tableta/móvil? (Respuesta múltiple) [2. Aplicaciones de mensajería (Whatsapp, Facebook Messenger, etc.)]\n",
      "Describiendo la pregunta ¿Qué tipo de aplicaciones utilizas en tu ordenador/tableta/móvil? (Respuesta múltiple) [2. Aplicaciones de mensajería (Whatsapp, Facebook Messenger, etc.)]\n",
      "Valores numéricos asociados a las respuestas [0, 1]\n",
      "Respuestas posibles a la pregunta/variable ['No', 'Sí']\n"
     ]
    },
    {
     "data": {
      "text/plain": [
       "count    336.000000\n",
       "mean       0.857143\n",
       "std        0.350449\n",
       "min        0.000000\n",
       "25%        1.000000\n",
       "50%        1.000000\n",
       "75%        1.000000\n",
       "max        1.000000\n",
       "Name: ¿Qué tipo de aplicaciones utilizas en tu ordenador/tableta/móvil? (Respuesta múltiple) [2. Aplicaciones de mensajería (Whatsapp, Facebook Messenger, etc.)], dtype: float64"
      ]
     },
     "metadata": {},
     "output_type": "display_data"
    },
    {
     "name": "stdout",
     "output_type": "stream",
     "text": [
      "Conteo de cada valor en ¿Qué tipo de aplicaciones utilizas en tu ordenador/tableta/móvil? (Respuesta múltiple) [2. Aplicaciones de mensajería (Whatsapp, Facebook Messenger, etc.)] expresada como valor / cantidad\n"
     ]
    },
    {
     "data": {
      "text/plain": [
       "0     48\n",
       "1    288\n",
       "Name: ¿Qué tipo de aplicaciones utilizas en tu ordenador/tableta/móvil? (Respuesta múltiple) [2. Aplicaciones de mensajería (Whatsapp, Facebook Messenger, etc.)], dtype: int64"
      ]
     },
     "metadata": {},
     "output_type": "display_data"
    },
    {
     "name": "stdout",
     "output_type": "stream",
     "text": [
      "Porcentaje de cada valor en ¿Qué tipo de aplicaciones utilizas en tu ordenador/tableta/móvil? (Respuesta múltiple) [2. Aplicaciones de mensajería (Whatsapp, Facebook Messenger, etc.)] expresado como valor / porcentaje\n"
     ]
    },
    {
     "data": {
      "text/plain": [
       "0    14.29\n",
       "1    85.71\n",
       "Name: ¿Qué tipo de aplicaciones utilizas en tu ordenador/tableta/móvil? (Respuesta múltiple) [2. Aplicaciones de mensajería (Whatsapp, Facebook Messenger, etc.)], dtype: float64"
      ]
     },
     "metadata": {},
     "output_type": "display_data"
    },
    {
     "data": {
      "application/vnd.plotly.v1+json": {
       "config": {
        "linkText": "Export to plot.ly",
        "plotlyServerURL": "https://plot.ly",
        "showLink": false
       },
       "data": [
        {
         "marker": {
          "color": [
           "rgb(213,62,79)",
           "rgb(252,141,89)",
           "rgb(254,224,139)",
           "rgb(230,245,152)",
           "rgb(153,213,148)",
           "rgb(50,136,189)"
          ]
         },
         "type": "bar",
         "uid": "557e2017-5436-4521-85bb-d5c215aa4e17",
         "x": [
          0,
          1
         ],
         "y": [
          48,
          288
         ]
        }
       ],
       "layout": {
        "bargap": 0.2,
        "xaxis": {
         "ticktext": [
          "No",
          "Sí"
         ],
         "tickvals": [
          0,
          1
         ]
        }
       }
      },
      "text/html": [
       "<div id=\"b49cab2d-6868-41d4-a088-96664ac220b7\" style=\"height: 525px; width: 100%;\" class=\"plotly-graph-div\"></div><script type=\"text/javascript\">require([\"plotly\"], function(Plotly) { window.PLOTLYENV=window.PLOTLYENV || {};window.PLOTLYENV.BASE_URL=\"https://plot.ly\";\n",
       "if (document.getElementById(\"b49cab2d-6868-41d4-a088-96664ac220b7\")) {\n",
       "    Plotly.newPlot(\"b49cab2d-6868-41d4-a088-96664ac220b7\", [{\"marker\": {\"color\": [\"rgb(213,62,79)\", \"rgb(252,141,89)\", \"rgb(254,224,139)\", \"rgb(230,245,152)\", \"rgb(153,213,148)\", \"rgb(50,136,189)\"]}, \"x\": [0, 1], \"y\": [48, 288], \"type\": \"bar\", \"uid\": \"557e2017-5436-4521-85bb-d5c215aa4e17\"}], {\"bargap\": 0.2, \"xaxis\": {\"ticktext\": [\"No\", \"S\\u00ed\"], \"tickvals\": [0, 1]}}, {\"showLink\": false, \"linkText\": \"Export to plot.ly\", \"plotlyServerURL\": \"https://plot.ly\"}); \n",
       "}\n",
       "});</script><script type=\"text/javascript\">window.addEventListener(\"resize\", function(){if (document.getElementById(\"b49cab2d-6868-41d4-a088-96664ac220b7\")) {window._Plotly.Plots.resize(document.getElementById(\"b49cab2d-6868-41d4-a088-96664ac220b7\"));};})</script>"
      ],
      "text/vnd.plotly.v1+html": [
       "<div id=\"b49cab2d-6868-41d4-a088-96664ac220b7\" style=\"height: 525px; width: 100%;\" class=\"plotly-graph-div\"></div><script type=\"text/javascript\">require([\"plotly\"], function(Plotly) { window.PLOTLYENV=window.PLOTLYENV || {};window.PLOTLYENV.BASE_URL=\"https://plot.ly\";\n",
       "if (document.getElementById(\"b49cab2d-6868-41d4-a088-96664ac220b7\")) {\n",
       "    Plotly.newPlot(\"b49cab2d-6868-41d4-a088-96664ac220b7\", [{\"marker\": {\"color\": [\"rgb(213,62,79)\", \"rgb(252,141,89)\", \"rgb(254,224,139)\", \"rgb(230,245,152)\", \"rgb(153,213,148)\", \"rgb(50,136,189)\"]}, \"x\": [0, 1], \"y\": [48, 288], \"type\": \"bar\", \"uid\": \"557e2017-5436-4521-85bb-d5c215aa4e17\"}], {\"bargap\": 0.2, \"xaxis\": {\"ticktext\": [\"No\", \"S\\u00ed\"], \"tickvals\": [0, 1]}}, {\"showLink\": false, \"linkText\": \"Export to plot.ly\", \"plotlyServerURL\": \"https://plot.ly\"}); \n",
       "}\n",
       "});</script><script type=\"text/javascript\">window.addEventListener(\"resize\", function(){if (document.getElementById(\"b49cab2d-6868-41d4-a088-96664ac220b7\")) {window._Plotly.Plots.resize(document.getElementById(\"b49cab2d-6868-41d4-a088-96664ac220b7\"));};})</script>"
      ]
     },
     "metadata": {},
     "output_type": "display_data"
    },
    {
     "name": "stdout",
     "output_type": "stream",
     "text": [
      "\n",
      "\n",
      "Cluster 5 || variable: ¿Qué tipo de aplicaciones utilizas en tu ordenador/tableta/móvil? (Respuesta múltiple) [3. Bibliotecas de fotos online (Google Photos, iPhoto, etc.)]\n",
      "Describiendo la pregunta ¿Qué tipo de aplicaciones utilizas en tu ordenador/tableta/móvil? (Respuesta múltiple) [3. Bibliotecas de fotos online (Google Photos, iPhoto, etc.)]\n",
      "Valores numéricos asociados a las respuestas [0, 1]\n",
      "Respuestas posibles a la pregunta/variable ['No', 'Sí']\n"
     ]
    },
    {
     "data": {
      "text/plain": [
       "count    336.000000\n",
       "mean       0.574405\n",
       "std        0.495170\n",
       "min        0.000000\n",
       "25%        0.000000\n",
       "50%        1.000000\n",
       "75%        1.000000\n",
       "max        1.000000\n",
       "Name: ¿Qué tipo de aplicaciones utilizas en tu ordenador/tableta/móvil? (Respuesta múltiple) [3. Bibliotecas de fotos online (Google Photos, iPhoto, etc.)], dtype: float64"
      ]
     },
     "metadata": {},
     "output_type": "display_data"
    },
    {
     "name": "stdout",
     "output_type": "stream",
     "text": [
      "Conteo de cada valor en ¿Qué tipo de aplicaciones utilizas en tu ordenador/tableta/móvil? (Respuesta múltiple) [3. Bibliotecas de fotos online (Google Photos, iPhoto, etc.)] expresada como valor / cantidad\n"
     ]
    },
    {
     "data": {
      "text/plain": [
       "0    143\n",
       "1    193\n",
       "Name: ¿Qué tipo de aplicaciones utilizas en tu ordenador/tableta/móvil? (Respuesta múltiple) [3. Bibliotecas de fotos online (Google Photos, iPhoto, etc.)], dtype: int64"
      ]
     },
     "metadata": {},
     "output_type": "display_data"
    },
    {
     "name": "stdout",
     "output_type": "stream",
     "text": [
      "Porcentaje de cada valor en ¿Qué tipo de aplicaciones utilizas en tu ordenador/tableta/móvil? (Respuesta múltiple) [3. Bibliotecas de fotos online (Google Photos, iPhoto, etc.)] expresado como valor / porcentaje\n"
     ]
    },
    {
     "data": {
      "text/plain": [
       "0    42.56\n",
       "1    57.44\n",
       "Name: ¿Qué tipo de aplicaciones utilizas en tu ordenador/tableta/móvil? (Respuesta múltiple) [3. Bibliotecas de fotos online (Google Photos, iPhoto, etc.)], dtype: float64"
      ]
     },
     "metadata": {},
     "output_type": "display_data"
    },
    {
     "data": {
      "application/vnd.plotly.v1+json": {
       "config": {
        "linkText": "Export to plot.ly",
        "plotlyServerURL": "https://plot.ly",
        "showLink": false
       },
       "data": [
        {
         "marker": {
          "color": [
           "rgb(213,62,79)",
           "rgb(252,141,89)",
           "rgb(254,224,139)",
           "rgb(230,245,152)",
           "rgb(153,213,148)",
           "rgb(50,136,189)"
          ]
         },
         "type": "bar",
         "uid": "a487406b-68dd-44df-9ccb-a4e67a2c9f56",
         "x": [
          0,
          1
         ],
         "y": [
          143,
          193
         ]
        }
       ],
       "layout": {
        "bargap": 0.2,
        "xaxis": {
         "ticktext": [
          "No",
          "Sí"
         ],
         "tickvals": [
          0,
          1
         ]
        }
       }
      },
      "text/html": [
       "<div id=\"b47a66b2-ca93-43ab-b274-d0eed74a5dfa\" style=\"height: 525px; width: 100%;\" class=\"plotly-graph-div\"></div><script type=\"text/javascript\">require([\"plotly\"], function(Plotly) { window.PLOTLYENV=window.PLOTLYENV || {};window.PLOTLYENV.BASE_URL=\"https://plot.ly\";\n",
       "if (document.getElementById(\"b47a66b2-ca93-43ab-b274-d0eed74a5dfa\")) {\n",
       "    Plotly.newPlot(\"b47a66b2-ca93-43ab-b274-d0eed74a5dfa\", [{\"marker\": {\"color\": [\"rgb(213,62,79)\", \"rgb(252,141,89)\", \"rgb(254,224,139)\", \"rgb(230,245,152)\", \"rgb(153,213,148)\", \"rgb(50,136,189)\"]}, \"x\": [0, 1], \"y\": [143, 193], \"type\": \"bar\", \"uid\": \"a487406b-68dd-44df-9ccb-a4e67a2c9f56\"}], {\"bargap\": 0.2, \"xaxis\": {\"ticktext\": [\"No\", \"S\\u00ed\"], \"tickvals\": [0, 1]}}, {\"showLink\": false, \"linkText\": \"Export to plot.ly\", \"plotlyServerURL\": \"https://plot.ly\"}); \n",
       "}\n",
       "});</script><script type=\"text/javascript\">window.addEventListener(\"resize\", function(){if (document.getElementById(\"b47a66b2-ca93-43ab-b274-d0eed74a5dfa\")) {window._Plotly.Plots.resize(document.getElementById(\"b47a66b2-ca93-43ab-b274-d0eed74a5dfa\"));};})</script>"
      ],
      "text/vnd.plotly.v1+html": [
       "<div id=\"b47a66b2-ca93-43ab-b274-d0eed74a5dfa\" style=\"height: 525px; width: 100%;\" class=\"plotly-graph-div\"></div><script type=\"text/javascript\">require([\"plotly\"], function(Plotly) { window.PLOTLYENV=window.PLOTLYENV || {};window.PLOTLYENV.BASE_URL=\"https://plot.ly\";\n",
       "if (document.getElementById(\"b47a66b2-ca93-43ab-b274-d0eed74a5dfa\")) {\n",
       "    Plotly.newPlot(\"b47a66b2-ca93-43ab-b274-d0eed74a5dfa\", [{\"marker\": {\"color\": [\"rgb(213,62,79)\", \"rgb(252,141,89)\", \"rgb(254,224,139)\", \"rgb(230,245,152)\", \"rgb(153,213,148)\", \"rgb(50,136,189)\"]}, \"x\": [0, 1], \"y\": [143, 193], \"type\": \"bar\", \"uid\": \"a487406b-68dd-44df-9ccb-a4e67a2c9f56\"}], {\"bargap\": 0.2, \"xaxis\": {\"ticktext\": [\"No\", \"S\\u00ed\"], \"tickvals\": [0, 1]}}, {\"showLink\": false, \"linkText\": \"Export to plot.ly\", \"plotlyServerURL\": \"https://plot.ly\"}); \n",
       "}\n",
       "});</script><script type=\"text/javascript\">window.addEventListener(\"resize\", function(){if (document.getElementById(\"b47a66b2-ca93-43ab-b274-d0eed74a5dfa\")) {window._Plotly.Plots.resize(document.getElementById(\"b47a66b2-ca93-43ab-b274-d0eed74a5dfa\"));};})</script>"
      ]
     },
     "metadata": {},
     "output_type": "display_data"
    },
    {
     "name": "stdout",
     "output_type": "stream",
     "text": [
      "\n",
      "\n",
      "Cluster 5 || variable: ¿Qué tipo de aplicaciones utilizas en tu ordenador/tableta/móvil? (Respuesta múltiple) [4. Redes sociales (Facebook, Instagram, Twitter, etc.).]\n",
      "Describiendo la pregunta ¿Qué tipo de aplicaciones utilizas en tu ordenador/tableta/móvil? (Respuesta múltiple) [4. Redes sociales (Facebook, Instagram, Twitter, etc.).]\n",
      "Valores numéricos asociados a las respuestas [0, 1]\n",
      "Respuestas posibles a la pregunta/variable ['No', 'Sí']\n"
     ]
    },
    {
     "data": {
      "text/plain": [
       "count    336.000000\n",
       "mean       0.886905\n",
       "std        0.317182\n",
       "min        0.000000\n",
       "25%        1.000000\n",
       "50%        1.000000\n",
       "75%        1.000000\n",
       "max        1.000000\n",
       "Name: ¿Qué tipo de aplicaciones utilizas en tu ordenador/tableta/móvil? (Respuesta múltiple) [4. Redes sociales (Facebook, Instagram, Twitter, etc.).], dtype: float64"
      ]
     },
     "metadata": {},
     "output_type": "display_data"
    },
    {
     "name": "stdout",
     "output_type": "stream",
     "text": [
      "Conteo de cada valor en ¿Qué tipo de aplicaciones utilizas en tu ordenador/tableta/móvil? (Respuesta múltiple) [4. Redes sociales (Facebook, Instagram, Twitter, etc.).] expresada como valor / cantidad\n"
     ]
    },
    {
     "data": {
      "text/plain": [
       "0     38\n",
       "1    298\n",
       "Name: ¿Qué tipo de aplicaciones utilizas en tu ordenador/tableta/móvil? (Respuesta múltiple) [4. Redes sociales (Facebook, Instagram, Twitter, etc.).], dtype: int64"
      ]
     },
     "metadata": {},
     "output_type": "display_data"
    },
    {
     "name": "stdout",
     "output_type": "stream",
     "text": [
      "Porcentaje de cada valor en ¿Qué tipo de aplicaciones utilizas en tu ordenador/tableta/móvil? (Respuesta múltiple) [4. Redes sociales (Facebook, Instagram, Twitter, etc.).] expresado como valor / porcentaje\n"
     ]
    },
    {
     "data": {
      "text/plain": [
       "0    11.31\n",
       "1    88.69\n",
       "Name: ¿Qué tipo de aplicaciones utilizas en tu ordenador/tableta/móvil? (Respuesta múltiple) [4. Redes sociales (Facebook, Instagram, Twitter, etc.).], dtype: float64"
      ]
     },
     "metadata": {},
     "output_type": "display_data"
    },
    {
     "data": {
      "application/vnd.plotly.v1+json": {
       "config": {
        "linkText": "Export to plot.ly",
        "plotlyServerURL": "https://plot.ly",
        "showLink": false
       },
       "data": [
        {
         "marker": {
          "color": [
           "rgb(213,62,79)",
           "rgb(252,141,89)",
           "rgb(254,224,139)",
           "rgb(230,245,152)",
           "rgb(153,213,148)",
           "rgb(50,136,189)"
          ]
         },
         "type": "bar",
         "uid": "bdb7fa76-553e-41c1-a5c9-14f205039184",
         "x": [
          0,
          1
         ],
         "y": [
          38,
          298
         ]
        }
       ],
       "layout": {
        "bargap": 0.2,
        "xaxis": {
         "ticktext": [
          "No",
          "Sí"
         ],
         "tickvals": [
          0,
          1
         ]
        }
       }
      },
      "text/html": [
       "<div id=\"c1a645d7-b1f4-434b-b97c-332741a1bd1e\" style=\"height: 525px; width: 100%;\" class=\"plotly-graph-div\"></div><script type=\"text/javascript\">require([\"plotly\"], function(Plotly) { window.PLOTLYENV=window.PLOTLYENV || {};window.PLOTLYENV.BASE_URL=\"https://plot.ly\";\n",
       "if (document.getElementById(\"c1a645d7-b1f4-434b-b97c-332741a1bd1e\")) {\n",
       "    Plotly.newPlot(\"c1a645d7-b1f4-434b-b97c-332741a1bd1e\", [{\"marker\": {\"color\": [\"rgb(213,62,79)\", \"rgb(252,141,89)\", \"rgb(254,224,139)\", \"rgb(230,245,152)\", \"rgb(153,213,148)\", \"rgb(50,136,189)\"]}, \"x\": [0, 1], \"y\": [38, 298], \"type\": \"bar\", \"uid\": \"bdb7fa76-553e-41c1-a5c9-14f205039184\"}], {\"bargap\": 0.2, \"xaxis\": {\"ticktext\": [\"No\", \"S\\u00ed\"], \"tickvals\": [0, 1]}}, {\"showLink\": false, \"linkText\": \"Export to plot.ly\", \"plotlyServerURL\": \"https://plot.ly\"}); \n",
       "}\n",
       "});</script><script type=\"text/javascript\">window.addEventListener(\"resize\", function(){if (document.getElementById(\"c1a645d7-b1f4-434b-b97c-332741a1bd1e\")) {window._Plotly.Plots.resize(document.getElementById(\"c1a645d7-b1f4-434b-b97c-332741a1bd1e\"));};})</script>"
      ],
      "text/vnd.plotly.v1+html": [
       "<div id=\"c1a645d7-b1f4-434b-b97c-332741a1bd1e\" style=\"height: 525px; width: 100%;\" class=\"plotly-graph-div\"></div><script type=\"text/javascript\">require([\"plotly\"], function(Plotly) { window.PLOTLYENV=window.PLOTLYENV || {};window.PLOTLYENV.BASE_URL=\"https://plot.ly\";\n",
       "if (document.getElementById(\"c1a645d7-b1f4-434b-b97c-332741a1bd1e\")) {\n",
       "    Plotly.newPlot(\"c1a645d7-b1f4-434b-b97c-332741a1bd1e\", [{\"marker\": {\"color\": [\"rgb(213,62,79)\", \"rgb(252,141,89)\", \"rgb(254,224,139)\", \"rgb(230,245,152)\", \"rgb(153,213,148)\", \"rgb(50,136,189)\"]}, \"x\": [0, 1], \"y\": [38, 298], \"type\": \"bar\", \"uid\": \"bdb7fa76-553e-41c1-a5c9-14f205039184\"}], {\"bargap\": 0.2, \"xaxis\": {\"ticktext\": [\"No\", \"S\\u00ed\"], \"tickvals\": [0, 1]}}, {\"showLink\": false, \"linkText\": \"Export to plot.ly\", \"plotlyServerURL\": \"https://plot.ly\"}); \n",
       "}\n",
       "});</script><script type=\"text/javascript\">window.addEventListener(\"resize\", function(){if (document.getElementById(\"c1a645d7-b1f4-434b-b97c-332741a1bd1e\")) {window._Plotly.Plots.resize(document.getElementById(\"c1a645d7-b1f4-434b-b97c-332741a1bd1e\"));};})</script>"
      ]
     },
     "metadata": {},
     "output_type": "display_data"
    },
    {
     "name": "stdout",
     "output_type": "stream",
     "text": [
      "\n",
      "\n",
      "Cluster 5 || variable: ¿Qué tipo de aplicaciones utilizas en tu ordenador/tableta/móvil? (Respuesta múltiple) [5. Aplicaciones de vídeo (Youtube, Vimeo, etc.).]\n",
      "Describiendo la pregunta ¿Qué tipo de aplicaciones utilizas en tu ordenador/tableta/móvil? (Respuesta múltiple) [5. Aplicaciones de vídeo (Youtube, Vimeo, etc.).]\n",
      "Valores numéricos asociados a las respuestas [0, 1]\n",
      "Respuestas posibles a la pregunta/variable ['No', 'Sí']\n"
     ]
    },
    {
     "data": {
      "text/plain": [
       "count    336.000000\n",
       "mean       0.886905\n",
       "std        0.317182\n",
       "min        0.000000\n",
       "25%        1.000000\n",
       "50%        1.000000\n",
       "75%        1.000000\n",
       "max        1.000000\n",
       "Name: ¿Qué tipo de aplicaciones utilizas en tu ordenador/tableta/móvil? (Respuesta múltiple) [5. Aplicaciones de vídeo (Youtube, Vimeo, etc.).], dtype: float64"
      ]
     },
     "metadata": {},
     "output_type": "display_data"
    },
    {
     "name": "stdout",
     "output_type": "stream",
     "text": [
      "Conteo de cada valor en ¿Qué tipo de aplicaciones utilizas en tu ordenador/tableta/móvil? (Respuesta múltiple) [5. Aplicaciones de vídeo (Youtube, Vimeo, etc.).] expresada como valor / cantidad\n"
     ]
    },
    {
     "data": {
      "text/plain": [
       "0     38\n",
       "1    298\n",
       "Name: ¿Qué tipo de aplicaciones utilizas en tu ordenador/tableta/móvil? (Respuesta múltiple) [5. Aplicaciones de vídeo (Youtube, Vimeo, etc.).], dtype: int64"
      ]
     },
     "metadata": {},
     "output_type": "display_data"
    },
    {
     "name": "stdout",
     "output_type": "stream",
     "text": [
      "Porcentaje de cada valor en ¿Qué tipo de aplicaciones utilizas en tu ordenador/tableta/móvil? (Respuesta múltiple) [5. Aplicaciones de vídeo (Youtube, Vimeo, etc.).] expresado como valor / porcentaje\n"
     ]
    },
    {
     "data": {
      "text/plain": [
       "0    11.31\n",
       "1    88.69\n",
       "Name: ¿Qué tipo de aplicaciones utilizas en tu ordenador/tableta/móvil? (Respuesta múltiple) [5. Aplicaciones de vídeo (Youtube, Vimeo, etc.).], dtype: float64"
      ]
     },
     "metadata": {},
     "output_type": "display_data"
    },
    {
     "data": {
      "application/vnd.plotly.v1+json": {
       "config": {
        "linkText": "Export to plot.ly",
        "plotlyServerURL": "https://plot.ly",
        "showLink": false
       },
       "data": [
        {
         "marker": {
          "color": [
           "rgb(213,62,79)",
           "rgb(252,141,89)",
           "rgb(254,224,139)",
           "rgb(230,245,152)",
           "rgb(153,213,148)",
           "rgb(50,136,189)"
          ]
         },
         "type": "bar",
         "uid": "807eb3e9-9d3a-463d-95dc-5869813b5df4",
         "x": [
          0,
          1
         ],
         "y": [
          38,
          298
         ]
        }
       ],
       "layout": {
        "bargap": 0.2,
        "xaxis": {
         "ticktext": [
          "No",
          "Sí"
         ],
         "tickvals": [
          0,
          1
         ]
        }
       }
      },
      "text/html": [
       "<div id=\"c4d76a04-d139-4617-ab1e-cf8cd5cc5de5\" style=\"height: 525px; width: 100%;\" class=\"plotly-graph-div\"></div><script type=\"text/javascript\">require([\"plotly\"], function(Plotly) { window.PLOTLYENV=window.PLOTLYENV || {};window.PLOTLYENV.BASE_URL=\"https://plot.ly\";\n",
       "if (document.getElementById(\"c4d76a04-d139-4617-ab1e-cf8cd5cc5de5\")) {\n",
       "    Plotly.newPlot(\"c4d76a04-d139-4617-ab1e-cf8cd5cc5de5\", [{\"marker\": {\"color\": [\"rgb(213,62,79)\", \"rgb(252,141,89)\", \"rgb(254,224,139)\", \"rgb(230,245,152)\", \"rgb(153,213,148)\", \"rgb(50,136,189)\"]}, \"x\": [0, 1], \"y\": [38, 298], \"type\": \"bar\", \"uid\": \"807eb3e9-9d3a-463d-95dc-5869813b5df4\"}], {\"bargap\": 0.2, \"xaxis\": {\"ticktext\": [\"No\", \"S\\u00ed\"], \"tickvals\": [0, 1]}}, {\"showLink\": false, \"linkText\": \"Export to plot.ly\", \"plotlyServerURL\": \"https://plot.ly\"}); \n",
       "}\n",
       "});</script><script type=\"text/javascript\">window.addEventListener(\"resize\", function(){if (document.getElementById(\"c4d76a04-d139-4617-ab1e-cf8cd5cc5de5\")) {window._Plotly.Plots.resize(document.getElementById(\"c4d76a04-d139-4617-ab1e-cf8cd5cc5de5\"));};})</script>"
      ],
      "text/vnd.plotly.v1+html": [
       "<div id=\"c4d76a04-d139-4617-ab1e-cf8cd5cc5de5\" style=\"height: 525px; width: 100%;\" class=\"plotly-graph-div\"></div><script type=\"text/javascript\">require([\"plotly\"], function(Plotly) { window.PLOTLYENV=window.PLOTLYENV || {};window.PLOTLYENV.BASE_URL=\"https://plot.ly\";\n",
       "if (document.getElementById(\"c4d76a04-d139-4617-ab1e-cf8cd5cc5de5\")) {\n",
       "    Plotly.newPlot(\"c4d76a04-d139-4617-ab1e-cf8cd5cc5de5\", [{\"marker\": {\"color\": [\"rgb(213,62,79)\", \"rgb(252,141,89)\", \"rgb(254,224,139)\", \"rgb(230,245,152)\", \"rgb(153,213,148)\", \"rgb(50,136,189)\"]}, \"x\": [0, 1], \"y\": [38, 298], \"type\": \"bar\", \"uid\": \"807eb3e9-9d3a-463d-95dc-5869813b5df4\"}], {\"bargap\": 0.2, \"xaxis\": {\"ticktext\": [\"No\", \"S\\u00ed\"], \"tickvals\": [0, 1]}}, {\"showLink\": false, \"linkText\": \"Export to plot.ly\", \"plotlyServerURL\": \"https://plot.ly\"}); \n",
       "}\n",
       "});</script><script type=\"text/javascript\">window.addEventListener(\"resize\", function(){if (document.getElementById(\"c4d76a04-d139-4617-ab1e-cf8cd5cc5de5\")) {window._Plotly.Plots.resize(document.getElementById(\"c4d76a04-d139-4617-ab1e-cf8cd5cc5de5\"));};})</script>"
      ]
     },
     "metadata": {},
     "output_type": "display_data"
    },
    {
     "name": "stdout",
     "output_type": "stream",
     "text": [
      "\n",
      "\n",
      "Cluster 5 || variable: ¿Qué tipo de aplicaciones utilizas en tu ordenador/tableta/móvil? (Respuesta múltiple) [Otro]\n",
      "Describiendo la pregunta ¿Qué tipo de aplicaciones utilizas en tu ordenador/tableta/móvil? (Respuesta múltiple) [Otro]\n",
      "\n",
      "\n",
      "Cluster 5 || variable: Durante ese uso, ¿cuántas imágenes consumes (ves y compartes)?\n",
      "Describiendo la pregunta Durante ese uso, ¿cuántas imágenes consumes (ves y compartes)?\n",
      "Valores numéricos asociados a las respuestas [1, 2, 3, 4, 5]\n",
      "Respuestas posibles a la pregunta/variable ['1. Ninguna', '2. Pocas', '3. Ni muchas ni pocas', '4. Bastantes', '5. Recibo y envio imágenes de forma constante']\n"
     ]
    },
    {
     "data": {
      "text/plain": [
       "count    336.000000\n",
       "mean       4.101190\n",
       "std        0.717707\n",
       "min        2.000000\n",
       "25%        4.000000\n",
       "50%        4.000000\n",
       "75%        5.000000\n",
       "max        5.000000\n",
       "Name: Durante ese uso, ¿cuántas imágenes consumes (ves y compartes)?, dtype: float64"
      ]
     },
     "metadata": {},
     "output_type": "display_data"
    },
    {
     "name": "stdout",
     "output_type": "stream",
     "text": [
      "Conteo de cada valor en Durante ese uso, ¿cuántas imágenes consumes (ves y compartes)? expresada como valor / cantidad\n"
     ]
    },
    {
     "data": {
      "text/plain": [
       "2     10\n",
       "3     41\n",
       "4    190\n",
       "5     95\n",
       "Name: Durante ese uso, ¿cuántas imágenes consumes (ves y compartes)?, dtype: int64"
      ]
     },
     "metadata": {},
     "output_type": "display_data"
    },
    {
     "name": "stdout",
     "output_type": "stream",
     "text": [
      "Porcentaje de cada valor en Durante ese uso, ¿cuántas imágenes consumes (ves y compartes)? expresado como valor / porcentaje\n"
     ]
    },
    {
     "data": {
      "text/plain": [
       "2     2.98\n",
       "3    12.20\n",
       "4    56.55\n",
       "5    28.27\n",
       "Name: Durante ese uso, ¿cuántas imágenes consumes (ves y compartes)?, dtype: float64"
      ]
     },
     "metadata": {},
     "output_type": "display_data"
    },
    {
     "data": {
      "application/vnd.plotly.v1+json": {
       "config": {
        "linkText": "Export to plot.ly",
        "plotlyServerURL": "https://plot.ly",
        "showLink": false
       },
       "data": [
        {
         "marker": {
          "color": [
           "rgb(213,62,79)",
           "rgb(252,141,89)",
           "rgb(254,224,139)",
           "rgb(230,245,152)",
           "rgb(153,213,148)",
           "rgb(50,136,189)"
          ]
         },
         "type": "bar",
         "uid": "40c9b59c-f900-49de-9254-1690777afebc",
         "x": [
          2,
          3,
          4,
          5
         ],
         "y": [
          10,
          41,
          190,
          95
         ]
        }
       ],
       "layout": {
        "bargap": 0.2,
        "xaxis": {
         "ticktext": [
          "1. Ninguna",
          "2. Pocas",
          "3. Ni muchas ni pocas",
          "4. Bastantes",
          "5. Recibo y envio imágenes de forma constante"
         ],
         "tickvals": [
          1,
          2,
          3,
          4,
          5
         ]
        }
       }
      },
      "text/html": [
       "<div id=\"5d57efec-c31e-464d-9b14-b828cdcb6cf2\" style=\"height: 525px; width: 100%;\" class=\"plotly-graph-div\"></div><script type=\"text/javascript\">require([\"plotly\"], function(Plotly) { window.PLOTLYENV=window.PLOTLYENV || {};window.PLOTLYENV.BASE_URL=\"https://plot.ly\";\n",
       "if (document.getElementById(\"5d57efec-c31e-464d-9b14-b828cdcb6cf2\")) {\n",
       "    Plotly.newPlot(\"5d57efec-c31e-464d-9b14-b828cdcb6cf2\", [{\"marker\": {\"color\": [\"rgb(213,62,79)\", \"rgb(252,141,89)\", \"rgb(254,224,139)\", \"rgb(230,245,152)\", \"rgb(153,213,148)\", \"rgb(50,136,189)\"]}, \"x\": [2, 3, 4, 5], \"y\": [10, 41, 190, 95], \"type\": \"bar\", \"uid\": \"40c9b59c-f900-49de-9254-1690777afebc\"}], {\"bargap\": 0.2, \"xaxis\": {\"ticktext\": [\"1. Ninguna\", \"2. Pocas\", \"3. Ni muchas ni pocas\", \"4. Bastantes\", \"5. Recibo y envio im\\u00e1genes de forma constante\"], \"tickvals\": [1, 2, 3, 4, 5]}}, {\"showLink\": false, \"linkText\": \"Export to plot.ly\", \"plotlyServerURL\": \"https://plot.ly\"}); \n",
       "}\n",
       "});</script><script type=\"text/javascript\">window.addEventListener(\"resize\", function(){if (document.getElementById(\"5d57efec-c31e-464d-9b14-b828cdcb6cf2\")) {window._Plotly.Plots.resize(document.getElementById(\"5d57efec-c31e-464d-9b14-b828cdcb6cf2\"));};})</script>"
      ],
      "text/vnd.plotly.v1+html": [
       "<div id=\"5d57efec-c31e-464d-9b14-b828cdcb6cf2\" style=\"height: 525px; width: 100%;\" class=\"plotly-graph-div\"></div><script type=\"text/javascript\">require([\"plotly\"], function(Plotly) { window.PLOTLYENV=window.PLOTLYENV || {};window.PLOTLYENV.BASE_URL=\"https://plot.ly\";\n",
       "if (document.getElementById(\"5d57efec-c31e-464d-9b14-b828cdcb6cf2\")) {\n",
       "    Plotly.newPlot(\"5d57efec-c31e-464d-9b14-b828cdcb6cf2\", [{\"marker\": {\"color\": [\"rgb(213,62,79)\", \"rgb(252,141,89)\", \"rgb(254,224,139)\", \"rgb(230,245,152)\", \"rgb(153,213,148)\", \"rgb(50,136,189)\"]}, \"x\": [2, 3, 4, 5], \"y\": [10, 41, 190, 95], \"type\": \"bar\", \"uid\": \"40c9b59c-f900-49de-9254-1690777afebc\"}], {\"bargap\": 0.2, \"xaxis\": {\"ticktext\": [\"1. Ninguna\", \"2. Pocas\", \"3. Ni muchas ni pocas\", \"4. Bastantes\", \"5. Recibo y envio im\\u00e1genes de forma constante\"], \"tickvals\": [1, 2, 3, 4, 5]}}, {\"showLink\": false, \"linkText\": \"Export to plot.ly\", \"plotlyServerURL\": \"https://plot.ly\"}); \n",
       "}\n",
       "});</script><script type=\"text/javascript\">window.addEventListener(\"resize\", function(){if (document.getElementById(\"5d57efec-c31e-464d-9b14-b828cdcb6cf2\")) {window._Plotly.Plots.resize(document.getElementById(\"5d57efec-c31e-464d-9b14-b828cdcb6cf2\"));};})</script>"
      ]
     },
     "metadata": {},
     "output_type": "display_data"
    },
    {
     "name": "stdout",
     "output_type": "stream",
     "text": [
      "\n",
      "\n",
      "Cluster 5 || variable: ¿Cuál es tu herramienta habitual de consumo de imágenes?\n",
      "Describiendo la pregunta ¿Cuál es tu herramienta habitual de consumo de imágenes?\n",
      "Valores numéricos asociados a las respuestas [1, 2, 3, 4, 5]\n",
      "Respuestas posibles a la pregunta/variable ['1. Móvil', '2. Televisión', '3. Ordenador', '4. Tableta', '5. Otros (Libros y periódicos en papel, marquesinas, museos...)']\n"
     ]
    },
    {
     "data": {
      "text/plain": [
       "count    336.000000\n",
       "mean       1.863095\n",
       "std        1.021708\n",
       "min        1.000000\n",
       "25%        1.000000\n",
       "50%        1.000000\n",
       "75%        3.000000\n",
       "max        4.000000\n",
       "Name: ¿Cuál es tu herramienta habitual de consumo de imágenes?, dtype: float64"
      ]
     },
     "metadata": {},
     "output_type": "display_data"
    },
    {
     "name": "stdout",
     "output_type": "stream",
     "text": [
      "Conteo de cada valor en ¿Cuál es tu herramienta habitual de consumo de imágenes? expresada como valor / cantidad\n"
     ]
    },
    {
     "data": {
      "text/plain": [
       "1    187\n",
       "2     22\n",
       "3    113\n",
       "4     14\n",
       "Name: ¿Cuál es tu herramienta habitual de consumo de imágenes?, dtype: int64"
      ]
     },
     "metadata": {},
     "output_type": "display_data"
    },
    {
     "name": "stdout",
     "output_type": "stream",
     "text": [
      "Porcentaje de cada valor en ¿Cuál es tu herramienta habitual de consumo de imágenes? expresado como valor / porcentaje\n"
     ]
    },
    {
     "data": {
      "text/plain": [
       "1    55.65\n",
       "2     6.55\n",
       "3    33.63\n",
       "4     4.17\n",
       "Name: ¿Cuál es tu herramienta habitual de consumo de imágenes?, dtype: float64"
      ]
     },
     "metadata": {},
     "output_type": "display_data"
    },
    {
     "data": {
      "application/vnd.plotly.v1+json": {
       "config": {
        "linkText": "Export to plot.ly",
        "plotlyServerURL": "https://plot.ly",
        "showLink": false
       },
       "data": [
        {
         "marker": {
          "color": [
           "rgb(213,62,79)",
           "rgb(252,141,89)",
           "rgb(254,224,139)",
           "rgb(230,245,152)",
           "rgb(153,213,148)",
           "rgb(50,136,189)"
          ]
         },
         "type": "bar",
         "uid": "27bb78bf-c05b-49e6-b1de-b94d0ccc1605",
         "x": [
          1,
          2,
          3,
          4
         ],
         "y": [
          187,
          22,
          113,
          14
         ]
        }
       ],
       "layout": {
        "bargap": 0.2,
        "xaxis": {
         "ticktext": [
          "1. Móvil",
          "2. Televisión",
          "3. Ordenador",
          "4. Tableta",
          "5. Otros (Libros y periódicos en papel, marquesinas, museos...)"
         ],
         "tickvals": [
          1,
          2,
          3,
          4,
          5
         ]
        }
       }
      },
      "text/html": [
       "<div id=\"949c0cb2-7607-4f23-95a1-13aff85286b5\" style=\"height: 525px; width: 100%;\" class=\"plotly-graph-div\"></div><script type=\"text/javascript\">require([\"plotly\"], function(Plotly) { window.PLOTLYENV=window.PLOTLYENV || {};window.PLOTLYENV.BASE_URL=\"https://plot.ly\";\n",
       "if (document.getElementById(\"949c0cb2-7607-4f23-95a1-13aff85286b5\")) {\n",
       "    Plotly.newPlot(\"949c0cb2-7607-4f23-95a1-13aff85286b5\", [{\"marker\": {\"color\": [\"rgb(213,62,79)\", \"rgb(252,141,89)\", \"rgb(254,224,139)\", \"rgb(230,245,152)\", \"rgb(153,213,148)\", \"rgb(50,136,189)\"]}, \"x\": [1, 2, 3, 4], \"y\": [187, 22, 113, 14], \"type\": \"bar\", \"uid\": \"27bb78bf-c05b-49e6-b1de-b94d0ccc1605\"}], {\"bargap\": 0.2, \"xaxis\": {\"ticktext\": [\"1. M\\u00f3vil\", \"2. Televisi\\u00f3n\", \"3. Ordenador\", \"4. Tableta\", \"5. Otros (Libros y peri\\u00f3dicos en papel, marquesinas, museos...)\"], \"tickvals\": [1, 2, 3, 4, 5]}}, {\"showLink\": false, \"linkText\": \"Export to plot.ly\", \"plotlyServerURL\": \"https://plot.ly\"}); \n",
       "}\n",
       "});</script><script type=\"text/javascript\">window.addEventListener(\"resize\", function(){if (document.getElementById(\"949c0cb2-7607-4f23-95a1-13aff85286b5\")) {window._Plotly.Plots.resize(document.getElementById(\"949c0cb2-7607-4f23-95a1-13aff85286b5\"));};})</script>"
      ],
      "text/vnd.plotly.v1+html": [
       "<div id=\"949c0cb2-7607-4f23-95a1-13aff85286b5\" style=\"height: 525px; width: 100%;\" class=\"plotly-graph-div\"></div><script type=\"text/javascript\">require([\"plotly\"], function(Plotly) { window.PLOTLYENV=window.PLOTLYENV || {};window.PLOTLYENV.BASE_URL=\"https://plot.ly\";\n",
       "if (document.getElementById(\"949c0cb2-7607-4f23-95a1-13aff85286b5\")) {\n",
       "    Plotly.newPlot(\"949c0cb2-7607-4f23-95a1-13aff85286b5\", [{\"marker\": {\"color\": [\"rgb(213,62,79)\", \"rgb(252,141,89)\", \"rgb(254,224,139)\", \"rgb(230,245,152)\", \"rgb(153,213,148)\", \"rgb(50,136,189)\"]}, \"x\": [1, 2, 3, 4], \"y\": [187, 22, 113, 14], \"type\": \"bar\", \"uid\": \"27bb78bf-c05b-49e6-b1de-b94d0ccc1605\"}], {\"bargap\": 0.2, \"xaxis\": {\"ticktext\": [\"1. M\\u00f3vil\", \"2. Televisi\\u00f3n\", \"3. Ordenador\", \"4. Tableta\", \"5. Otros (Libros y peri\\u00f3dicos en papel, marquesinas, museos...)\"], \"tickvals\": [1, 2, 3, 4, 5]}}, {\"showLink\": false, \"linkText\": \"Export to plot.ly\", \"plotlyServerURL\": \"https://plot.ly\"}); \n",
       "}\n",
       "});</script><script type=\"text/javascript\">window.addEventListener(\"resize\", function(){if (document.getElementById(\"949c0cb2-7607-4f23-95a1-13aff85286b5\")) {window._Plotly.Plots.resize(document.getElementById(\"949c0cb2-7607-4f23-95a1-13aff85286b5\"));};})</script>"
      ]
     },
     "metadata": {},
     "output_type": "display_data"
    },
    {
     "name": "stdout",
     "output_type": "stream",
     "text": [
      "\n",
      "\n",
      "Cluster 5 || variable: ¿Cada cuánto tiempo consumes imágenes?\n",
      "Describiendo la pregunta ¿Cada cuánto tiempo consumes imágenes?\n",
      "Valores numéricos asociados a las respuestas [1, 2, 3, 4]\n",
      "Respuestas posibles a la pregunta/variable ['1. Nunca', '2. Dos o tres veces por semana', '3. Casi todos los días', '4. A diario']\n"
     ]
    },
    {
     "data": {
      "text/plain": [
       "count    336.000000\n",
       "mean       3.693452\n",
       "std        0.555638\n",
       "min        2.000000\n",
       "25%        3.000000\n",
       "50%        4.000000\n",
       "75%        4.000000\n",
       "max        4.000000\n",
       "Name: ¿Cada cuánto tiempo consumes imágenes?, dtype: float64"
      ]
     },
     "metadata": {},
     "output_type": "display_data"
    },
    {
     "name": "stdout",
     "output_type": "stream",
     "text": [
      "Conteo de cada valor en ¿Cada cuánto tiempo consumes imágenes? expresada como valor / cantidad\n"
     ]
    },
    {
     "data": {
      "text/plain": [
       "2     16\n",
       "3     71\n",
       "4    249\n",
       "Name: ¿Cada cuánto tiempo consumes imágenes?, dtype: int64"
      ]
     },
     "metadata": {},
     "output_type": "display_data"
    },
    {
     "name": "stdout",
     "output_type": "stream",
     "text": [
      "Porcentaje de cada valor en ¿Cada cuánto tiempo consumes imágenes? expresado como valor / porcentaje\n"
     ]
    },
    {
     "data": {
      "text/plain": [
       "2     4.76\n",
       "3    21.13\n",
       "4    74.11\n",
       "Name: ¿Cada cuánto tiempo consumes imágenes?, dtype: float64"
      ]
     },
     "metadata": {},
     "output_type": "display_data"
    },
    {
     "data": {
      "application/vnd.plotly.v1+json": {
       "config": {
        "linkText": "Export to plot.ly",
        "plotlyServerURL": "https://plot.ly",
        "showLink": false
       },
       "data": [
        {
         "marker": {
          "color": [
           "rgb(213,62,79)",
           "rgb(252,141,89)",
           "rgb(254,224,139)",
           "rgb(230,245,152)",
           "rgb(153,213,148)",
           "rgb(50,136,189)"
          ]
         },
         "type": "bar",
         "uid": "acdb6910-0ca6-4857-bd2a-f4a2a050b4d2",
         "x": [
          2,
          3,
          4
         ],
         "y": [
          16,
          71,
          249
         ]
        }
       ],
       "layout": {
        "bargap": 0.2,
        "xaxis": {
         "ticktext": [
          "1. Nunca",
          "2. Dos o tres veces por semana",
          "3. Casi todos los días",
          "4. A diario"
         ],
         "tickvals": [
          1,
          2,
          3,
          4
         ]
        }
       }
      },
      "text/html": [
       "<div id=\"a318ebe1-d308-46de-a111-d66bef3aa9aa\" style=\"height: 525px; width: 100%;\" class=\"plotly-graph-div\"></div><script type=\"text/javascript\">require([\"plotly\"], function(Plotly) { window.PLOTLYENV=window.PLOTLYENV || {};window.PLOTLYENV.BASE_URL=\"https://plot.ly\";\n",
       "if (document.getElementById(\"a318ebe1-d308-46de-a111-d66bef3aa9aa\")) {\n",
       "    Plotly.newPlot(\"a318ebe1-d308-46de-a111-d66bef3aa9aa\", [{\"marker\": {\"color\": [\"rgb(213,62,79)\", \"rgb(252,141,89)\", \"rgb(254,224,139)\", \"rgb(230,245,152)\", \"rgb(153,213,148)\", \"rgb(50,136,189)\"]}, \"x\": [2, 3, 4], \"y\": [16, 71, 249], \"type\": \"bar\", \"uid\": \"acdb6910-0ca6-4857-bd2a-f4a2a050b4d2\"}], {\"bargap\": 0.2, \"xaxis\": {\"ticktext\": [\"1. Nunca\", \"2. Dos o tres veces por semana\", \"3. Casi todos los d\\u00edas\", \"4. A diario\"], \"tickvals\": [1, 2, 3, 4]}}, {\"showLink\": false, \"linkText\": \"Export to plot.ly\", \"plotlyServerURL\": \"https://plot.ly\"}); \n",
       "}\n",
       "});</script><script type=\"text/javascript\">window.addEventListener(\"resize\", function(){if (document.getElementById(\"a318ebe1-d308-46de-a111-d66bef3aa9aa\")) {window._Plotly.Plots.resize(document.getElementById(\"a318ebe1-d308-46de-a111-d66bef3aa9aa\"));};})</script>"
      ],
      "text/vnd.plotly.v1+html": [
       "<div id=\"a318ebe1-d308-46de-a111-d66bef3aa9aa\" style=\"height: 525px; width: 100%;\" class=\"plotly-graph-div\"></div><script type=\"text/javascript\">require([\"plotly\"], function(Plotly) { window.PLOTLYENV=window.PLOTLYENV || {};window.PLOTLYENV.BASE_URL=\"https://plot.ly\";\n",
       "if (document.getElementById(\"a318ebe1-d308-46de-a111-d66bef3aa9aa\")) {\n",
       "    Plotly.newPlot(\"a318ebe1-d308-46de-a111-d66bef3aa9aa\", [{\"marker\": {\"color\": [\"rgb(213,62,79)\", \"rgb(252,141,89)\", \"rgb(254,224,139)\", \"rgb(230,245,152)\", \"rgb(153,213,148)\", \"rgb(50,136,189)\"]}, \"x\": [2, 3, 4], \"y\": [16, 71, 249], \"type\": \"bar\", \"uid\": \"acdb6910-0ca6-4857-bd2a-f4a2a050b4d2\"}], {\"bargap\": 0.2, \"xaxis\": {\"ticktext\": [\"1. Nunca\", \"2. Dos o tres veces por semana\", \"3. Casi todos los d\\u00edas\", \"4. A diario\"], \"tickvals\": [1, 2, 3, 4]}}, {\"showLink\": false, \"linkText\": \"Export to plot.ly\", \"plotlyServerURL\": \"https://plot.ly\"}); \n",
       "}\n",
       "});</script><script type=\"text/javascript\">window.addEventListener(\"resize\", function(){if (document.getElementById(\"a318ebe1-d308-46de-a111-d66bef3aa9aa\")) {window._Plotly.Plots.resize(document.getElementById(\"a318ebe1-d308-46de-a111-d66bef3aa9aa\"));};})</script>"
      ]
     },
     "metadata": {},
     "output_type": "display_data"
    },
    {
     "name": "stdout",
     "output_type": "stream",
     "text": [
      "\n",
      "\n",
      "Cluster 2 || variable: Clasifica tu grado de visión\n",
      "Describiendo la pregunta Clasifica tu grado de visión\n",
      "Valores numéricos asociados a las respuestas [1, 2, 3, 4, 5]\n",
      "Respuestas posibles a la pregunta/variable ['1. Muy malo', '2. Malo', '3. Regular', '4. Bueno', '5. Muy bueno']\n"
     ]
    },
    {
     "data": {
      "text/plain": [
       "count    196.000000\n",
       "mean       3.994898\n",
       "std        0.838175\n",
       "min        1.000000\n",
       "25%        3.000000\n",
       "50%        4.000000\n",
       "75%        5.000000\n",
       "max        5.000000\n",
       "Name: Clasifica tu grado de visión, dtype: float64"
      ]
     },
     "metadata": {},
     "output_type": "display_data"
    },
    {
     "name": "stdout",
     "output_type": "stream",
     "text": [
      "Conteo de cada valor en Clasifica tu grado de visión expresada como valor / cantidad\n"
     ]
    },
    {
     "data": {
      "text/plain": [
       "1     2\n",
       "2     4\n",
       "3    45\n",
       "4    87\n",
       "5    58\n",
       "Name: Clasifica tu grado de visión, dtype: int64"
      ]
     },
     "metadata": {},
     "output_type": "display_data"
    },
    {
     "name": "stdout",
     "output_type": "stream",
     "text": [
      "Porcentaje de cada valor en Clasifica tu grado de visión expresado como valor / porcentaje\n"
     ]
    },
    {
     "data": {
      "text/plain": [
       "1     1.02\n",
       "2     2.04\n",
       "3    22.96\n",
       "4    44.39\n",
       "5    29.59\n",
       "Name: Clasifica tu grado de visión, dtype: float64"
      ]
     },
     "metadata": {},
     "output_type": "display_data"
    },
    {
     "data": {
      "application/vnd.plotly.v1+json": {
       "config": {
        "linkText": "Export to plot.ly",
        "plotlyServerURL": "https://plot.ly",
        "showLink": false
       },
       "data": [
        {
         "marker": {
          "color": [
           "rgb(213,62,79)",
           "rgb(252,141,89)",
           "rgb(254,224,139)",
           "rgb(230,245,152)",
           "rgb(153,213,148)",
           "rgb(50,136,189)"
          ]
         },
         "type": "bar",
         "uid": "9d2f9a18-4be5-405a-bd9e-6ca76234e6d4",
         "x": [
          1,
          2,
          3,
          4,
          5
         ],
         "y": [
          2,
          4,
          45,
          87,
          58
         ]
        }
       ],
       "layout": {
        "bargap": 0.2,
        "xaxis": {
         "ticktext": [
          "1. Muy malo",
          "2. Malo",
          "3. Regular",
          "4. Bueno",
          "5. Muy bueno"
         ],
         "tickvals": [
          1,
          2,
          3,
          4,
          5
         ]
        }
       }
      },
      "text/html": [
       "<div id=\"b98a0d44-ecfb-4171-ac65-fbab1ec79aeb\" style=\"height: 525px; width: 100%;\" class=\"plotly-graph-div\"></div><script type=\"text/javascript\">require([\"plotly\"], function(Plotly) { window.PLOTLYENV=window.PLOTLYENV || {};window.PLOTLYENV.BASE_URL=\"https://plot.ly\";\n",
       "if (document.getElementById(\"b98a0d44-ecfb-4171-ac65-fbab1ec79aeb\")) {\n",
       "    Plotly.newPlot(\"b98a0d44-ecfb-4171-ac65-fbab1ec79aeb\", [{\"marker\": {\"color\": [\"rgb(213,62,79)\", \"rgb(252,141,89)\", \"rgb(254,224,139)\", \"rgb(230,245,152)\", \"rgb(153,213,148)\", \"rgb(50,136,189)\"]}, \"x\": [1, 2, 3, 4, 5], \"y\": [2, 4, 45, 87, 58], \"type\": \"bar\", \"uid\": \"9d2f9a18-4be5-405a-bd9e-6ca76234e6d4\"}], {\"bargap\": 0.2, \"xaxis\": {\"ticktext\": [\"1. Muy malo\", \"2. Malo\", \"3. Regular\", \"4. Bueno\", \"5. Muy bueno\"], \"tickvals\": [1, 2, 3, 4, 5]}}, {\"showLink\": false, \"linkText\": \"Export to plot.ly\", \"plotlyServerURL\": \"https://plot.ly\"}); \n",
       "}\n",
       "});</script><script type=\"text/javascript\">window.addEventListener(\"resize\", function(){if (document.getElementById(\"b98a0d44-ecfb-4171-ac65-fbab1ec79aeb\")) {window._Plotly.Plots.resize(document.getElementById(\"b98a0d44-ecfb-4171-ac65-fbab1ec79aeb\"));};})</script>"
      ],
      "text/vnd.plotly.v1+html": [
       "<div id=\"b98a0d44-ecfb-4171-ac65-fbab1ec79aeb\" style=\"height: 525px; width: 100%;\" class=\"plotly-graph-div\"></div><script type=\"text/javascript\">require([\"plotly\"], function(Plotly) { window.PLOTLYENV=window.PLOTLYENV || {};window.PLOTLYENV.BASE_URL=\"https://plot.ly\";\n",
       "if (document.getElementById(\"b98a0d44-ecfb-4171-ac65-fbab1ec79aeb\")) {\n",
       "    Plotly.newPlot(\"b98a0d44-ecfb-4171-ac65-fbab1ec79aeb\", [{\"marker\": {\"color\": [\"rgb(213,62,79)\", \"rgb(252,141,89)\", \"rgb(254,224,139)\", \"rgb(230,245,152)\", \"rgb(153,213,148)\", \"rgb(50,136,189)\"]}, \"x\": [1, 2, 3, 4, 5], \"y\": [2, 4, 45, 87, 58], \"type\": \"bar\", \"uid\": \"9d2f9a18-4be5-405a-bd9e-6ca76234e6d4\"}], {\"bargap\": 0.2, \"xaxis\": {\"ticktext\": [\"1. Muy malo\", \"2. Malo\", \"3. Regular\", \"4. Bueno\", \"5. Muy bueno\"], \"tickvals\": [1, 2, 3, 4, 5]}}, {\"showLink\": false, \"linkText\": \"Export to plot.ly\", \"plotlyServerURL\": \"https://plot.ly\"}); \n",
       "}\n",
       "});</script><script type=\"text/javascript\">window.addEventListener(\"resize\", function(){if (document.getElementById(\"b98a0d44-ecfb-4171-ac65-fbab1ec79aeb\")) {window._Plotly.Plots.resize(document.getElementById(\"b98a0d44-ecfb-4171-ac65-fbab1ec79aeb\"));};})</script>"
      ]
     },
     "metadata": {},
     "output_type": "display_data"
    },
    {
     "name": "stdout",
     "output_type": "stream",
     "text": [
      "\n",
      "\n",
      "Cluster 2 || variable: ¿Utilizas gafas o lentes de contacto?\n",
      "Describiendo la pregunta ¿Utilizas gafas o lentes de contacto?\n",
      "Valores numéricos asociados a las respuestas [0, 1]\n",
      "Respuestas posibles a la pregunta/variable ['No', 'Sí']\n"
     ]
    },
    {
     "data": {
      "text/plain": [
       "count    196.000000\n",
       "mean       0.418367\n",
       "std        0.494554\n",
       "min        0.000000\n",
       "25%        0.000000\n",
       "50%        0.000000\n",
       "75%        1.000000\n",
       "max        1.000000\n",
       "Name: ¿Utilizas gafas o lentes de contacto?, dtype: float64"
      ]
     },
     "metadata": {},
     "output_type": "display_data"
    },
    {
     "name": "stdout",
     "output_type": "stream",
     "text": [
      "Conteo de cada valor en ¿Utilizas gafas o lentes de contacto? expresada como valor / cantidad\n"
     ]
    },
    {
     "data": {
      "text/plain": [
       "0    114\n",
       "1     82\n",
       "Name: ¿Utilizas gafas o lentes de contacto?, dtype: int64"
      ]
     },
     "metadata": {},
     "output_type": "display_data"
    },
    {
     "name": "stdout",
     "output_type": "stream",
     "text": [
      "Porcentaje de cada valor en ¿Utilizas gafas o lentes de contacto? expresado como valor / porcentaje\n"
     ]
    },
    {
     "data": {
      "text/plain": [
       "0    58.16\n",
       "1    41.84\n",
       "Name: ¿Utilizas gafas o lentes de contacto?, dtype: float64"
      ]
     },
     "metadata": {},
     "output_type": "display_data"
    },
    {
     "data": {
      "application/vnd.plotly.v1+json": {
       "config": {
        "linkText": "Export to plot.ly",
        "plotlyServerURL": "https://plot.ly",
        "showLink": false
       },
       "data": [
        {
         "marker": {
          "color": [
           "rgb(213,62,79)",
           "rgb(252,141,89)",
           "rgb(254,224,139)",
           "rgb(230,245,152)",
           "rgb(153,213,148)",
           "rgb(50,136,189)"
          ]
         },
         "type": "bar",
         "uid": "a55ef42c-3d72-4a8c-a59d-c559866929d5",
         "x": [
          0,
          1
         ],
         "y": [
          114,
          82
         ]
        }
       ],
       "layout": {
        "bargap": 0.2,
        "xaxis": {
         "ticktext": [
          "No",
          "Sí"
         ],
         "tickvals": [
          0,
          1
         ]
        }
       }
      },
      "text/html": [
       "<div id=\"fe34eba7-4e62-40ce-aa9c-19e8e24cac82\" style=\"height: 525px; width: 100%;\" class=\"plotly-graph-div\"></div><script type=\"text/javascript\">require([\"plotly\"], function(Plotly) { window.PLOTLYENV=window.PLOTLYENV || {};window.PLOTLYENV.BASE_URL=\"https://plot.ly\";\n",
       "if (document.getElementById(\"fe34eba7-4e62-40ce-aa9c-19e8e24cac82\")) {\n",
       "    Plotly.newPlot(\"fe34eba7-4e62-40ce-aa9c-19e8e24cac82\", [{\"marker\": {\"color\": [\"rgb(213,62,79)\", \"rgb(252,141,89)\", \"rgb(254,224,139)\", \"rgb(230,245,152)\", \"rgb(153,213,148)\", \"rgb(50,136,189)\"]}, \"x\": [0, 1], \"y\": [114, 82], \"type\": \"bar\", \"uid\": \"a55ef42c-3d72-4a8c-a59d-c559866929d5\"}], {\"bargap\": 0.2, \"xaxis\": {\"ticktext\": [\"No\", \"S\\u00ed\"], \"tickvals\": [0, 1]}}, {\"showLink\": false, \"linkText\": \"Export to plot.ly\", \"plotlyServerURL\": \"https://plot.ly\"}); \n",
       "}\n",
       "});</script><script type=\"text/javascript\">window.addEventListener(\"resize\", function(){if (document.getElementById(\"fe34eba7-4e62-40ce-aa9c-19e8e24cac82\")) {window._Plotly.Plots.resize(document.getElementById(\"fe34eba7-4e62-40ce-aa9c-19e8e24cac82\"));};})</script>"
      ],
      "text/vnd.plotly.v1+html": [
       "<div id=\"fe34eba7-4e62-40ce-aa9c-19e8e24cac82\" style=\"height: 525px; width: 100%;\" class=\"plotly-graph-div\"></div><script type=\"text/javascript\">require([\"plotly\"], function(Plotly) { window.PLOTLYENV=window.PLOTLYENV || {};window.PLOTLYENV.BASE_URL=\"https://plot.ly\";\n",
       "if (document.getElementById(\"fe34eba7-4e62-40ce-aa9c-19e8e24cac82\")) {\n",
       "    Plotly.newPlot(\"fe34eba7-4e62-40ce-aa9c-19e8e24cac82\", [{\"marker\": {\"color\": [\"rgb(213,62,79)\", \"rgb(252,141,89)\", \"rgb(254,224,139)\", \"rgb(230,245,152)\", \"rgb(153,213,148)\", \"rgb(50,136,189)\"]}, \"x\": [0, 1], \"y\": [114, 82], \"type\": \"bar\", \"uid\": \"a55ef42c-3d72-4a8c-a59d-c559866929d5\"}], {\"bargap\": 0.2, \"xaxis\": {\"ticktext\": [\"No\", \"S\\u00ed\"], \"tickvals\": [0, 1]}}, {\"showLink\": false, \"linkText\": \"Export to plot.ly\", \"plotlyServerURL\": \"https://plot.ly\"}); \n",
       "}\n",
       "});</script><script type=\"text/javascript\">window.addEventListener(\"resize\", function(){if (document.getElementById(\"fe34eba7-4e62-40ce-aa9c-19e8e24cac82\")) {window._Plotly.Plots.resize(document.getElementById(\"fe34eba7-4e62-40ce-aa9c-19e8e24cac82\"));};})</script>"
      ]
     },
     "metadata": {},
     "output_type": "display_data"
    },
    {
     "name": "stdout",
     "output_type": "stream",
     "text": [
      "\n",
      "\n",
      "Cluster 2 || variable: ¿Tienes alguna carencia visual que afecte a la recepción de formas, colores, distancias, etc.?\n",
      "Describiendo la pregunta ¿Tienes alguna carencia visual que afecte a la recepción de formas, colores, distancias, etc.?\n",
      "Valores numéricos asociados a las respuestas [0, 1]\n",
      "Respuestas posibles a la pregunta/variable ['No', 'Sí']\n"
     ]
    },
    {
     "data": {
      "text/plain": [
       "count    196.000000\n",
       "mean       0.071429\n",
       "std        0.258199\n",
       "min        0.000000\n",
       "25%        0.000000\n",
       "50%        0.000000\n",
       "75%        0.000000\n",
       "max        1.000000\n",
       "Name: ¿Tienes alguna carencia visual que afecte a la recepción de formas, colores, distancias, etc.?, dtype: float64"
      ]
     },
     "metadata": {},
     "output_type": "display_data"
    },
    {
     "name": "stdout",
     "output_type": "stream",
     "text": [
      "Conteo de cada valor en ¿Tienes alguna carencia visual que afecte a la recepción de formas, colores, distancias, etc.? expresada como valor / cantidad\n"
     ]
    },
    {
     "data": {
      "text/plain": [
       "0    182\n",
       "1     14\n",
       "Name: ¿Tienes alguna carencia visual que afecte a la recepción de formas, colores, distancias, etc.?, dtype: int64"
      ]
     },
     "metadata": {},
     "output_type": "display_data"
    },
    {
     "name": "stdout",
     "output_type": "stream",
     "text": [
      "Porcentaje de cada valor en ¿Tienes alguna carencia visual que afecte a la recepción de formas, colores, distancias, etc.? expresado como valor / porcentaje\n"
     ]
    },
    {
     "data": {
      "text/plain": [
       "0    92.86\n",
       "1     7.14\n",
       "Name: ¿Tienes alguna carencia visual que afecte a la recepción de formas, colores, distancias, etc.?, dtype: float64"
      ]
     },
     "metadata": {},
     "output_type": "display_data"
    },
    {
     "data": {
      "application/vnd.plotly.v1+json": {
       "config": {
        "linkText": "Export to plot.ly",
        "plotlyServerURL": "https://plot.ly",
        "showLink": false
       },
       "data": [
        {
         "marker": {
          "color": [
           "rgb(213,62,79)",
           "rgb(252,141,89)",
           "rgb(254,224,139)",
           "rgb(230,245,152)",
           "rgb(153,213,148)",
           "rgb(50,136,189)"
          ]
         },
         "type": "bar",
         "uid": "0b98f574-0f94-40fd-8028-deb4455d8a6c",
         "x": [
          0,
          1
         ],
         "y": [
          182,
          14
         ]
        }
       ],
       "layout": {
        "bargap": 0.2,
        "xaxis": {
         "ticktext": [
          "No",
          "Sí"
         ],
         "tickvals": [
          0,
          1
         ]
        }
       }
      },
      "text/html": [
       "<div id=\"a8080694-821d-4144-a6c1-bb9f42aa5581\" style=\"height: 525px; width: 100%;\" class=\"plotly-graph-div\"></div><script type=\"text/javascript\">require([\"plotly\"], function(Plotly) { window.PLOTLYENV=window.PLOTLYENV || {};window.PLOTLYENV.BASE_URL=\"https://plot.ly\";\n",
       "if (document.getElementById(\"a8080694-821d-4144-a6c1-bb9f42aa5581\")) {\n",
       "    Plotly.newPlot(\"a8080694-821d-4144-a6c1-bb9f42aa5581\", [{\"marker\": {\"color\": [\"rgb(213,62,79)\", \"rgb(252,141,89)\", \"rgb(254,224,139)\", \"rgb(230,245,152)\", \"rgb(153,213,148)\", \"rgb(50,136,189)\"]}, \"x\": [0, 1], \"y\": [182, 14], \"type\": \"bar\", \"uid\": \"0b98f574-0f94-40fd-8028-deb4455d8a6c\"}], {\"bargap\": 0.2, \"xaxis\": {\"ticktext\": [\"No\", \"S\\u00ed\"], \"tickvals\": [0, 1]}}, {\"showLink\": false, \"linkText\": \"Export to plot.ly\", \"plotlyServerURL\": \"https://plot.ly\"}); \n",
       "}\n",
       "});</script><script type=\"text/javascript\">window.addEventListener(\"resize\", function(){if (document.getElementById(\"a8080694-821d-4144-a6c1-bb9f42aa5581\")) {window._Plotly.Plots.resize(document.getElementById(\"a8080694-821d-4144-a6c1-bb9f42aa5581\"));};})</script>"
      ],
      "text/vnd.plotly.v1+html": [
       "<div id=\"a8080694-821d-4144-a6c1-bb9f42aa5581\" style=\"height: 525px; width: 100%;\" class=\"plotly-graph-div\"></div><script type=\"text/javascript\">require([\"plotly\"], function(Plotly) { window.PLOTLYENV=window.PLOTLYENV || {};window.PLOTLYENV.BASE_URL=\"https://plot.ly\";\n",
       "if (document.getElementById(\"a8080694-821d-4144-a6c1-bb9f42aa5581\")) {\n",
       "    Plotly.newPlot(\"a8080694-821d-4144-a6c1-bb9f42aa5581\", [{\"marker\": {\"color\": [\"rgb(213,62,79)\", \"rgb(252,141,89)\", \"rgb(254,224,139)\", \"rgb(230,245,152)\", \"rgb(153,213,148)\", \"rgb(50,136,189)\"]}, \"x\": [0, 1], \"y\": [182, 14], \"type\": \"bar\", \"uid\": \"0b98f574-0f94-40fd-8028-deb4455d8a6c\"}], {\"bargap\": 0.2, \"xaxis\": {\"ticktext\": [\"No\", \"S\\u00ed\"], \"tickvals\": [0, 1]}}, {\"showLink\": false, \"linkText\": \"Export to plot.ly\", \"plotlyServerURL\": \"https://plot.ly\"}); \n",
       "}\n",
       "});</script><script type=\"text/javascript\">window.addEventListener(\"resize\", function(){if (document.getElementById(\"a8080694-821d-4144-a6c1-bb9f42aa5581\")) {window._Plotly.Plots.resize(document.getElementById(\"a8080694-821d-4144-a6c1-bb9f42aa5581\"));};})</script>"
      ]
     },
     "metadata": {},
     "output_type": "display_data"
    },
    {
     "name": "stdout",
     "output_type": "stream",
     "text": [
      "\n",
      "\n",
      "Cluster 2 || variable: ¿Tienes acceso a dispositivos (ordenador, móvil, tablet, etc.) conectados a Internet habitualmente?\n",
      "Describiendo la pregunta ¿Tienes acceso a dispositivos (ordenador, móvil, tablet, etc.) conectados a Internet habitualmente?\n",
      "Valores numéricos asociados a las respuestas [1, 2, 3, 4, 5]\n",
      "Respuestas posibles a la pregunta/variable ['1. Nunca', '2. Ocasionalmente', '3. Semanalmente', '4. Diariamente', '5. Varias veces al día']\n"
     ]
    },
    {
     "data": {
      "text/plain": [
       "count    196.000000\n",
       "mean       4.484694\n",
       "std        0.682958\n",
       "min        2.000000\n",
       "25%        4.000000\n",
       "50%        5.000000\n",
       "75%        5.000000\n",
       "max        5.000000\n",
       "Name: ¿Tienes acceso a dispositivos (ordenador, móvil, tablet, etc.) conectados a Internet habitualmente?, dtype: float64"
      ]
     },
     "metadata": {},
     "output_type": "display_data"
    },
    {
     "name": "stdout",
     "output_type": "stream",
     "text": [
      "Conteo de cada valor en ¿Tienes acceso a dispositivos (ordenador, móvil, tablet, etc.) conectados a Internet habitualmente? expresada como valor / cantidad\n"
     ]
    },
    {
     "data": {
      "text/plain": [
       "2      4\n",
       "3      9\n",
       "4     71\n",
       "5    112\n",
       "Name: ¿Tienes acceso a dispositivos (ordenador, móvil, tablet, etc.) conectados a Internet habitualmente?, dtype: int64"
      ]
     },
     "metadata": {},
     "output_type": "display_data"
    },
    {
     "name": "stdout",
     "output_type": "stream",
     "text": [
      "Porcentaje de cada valor en ¿Tienes acceso a dispositivos (ordenador, móvil, tablet, etc.) conectados a Internet habitualmente? expresado como valor / porcentaje\n"
     ]
    },
    {
     "data": {
      "text/plain": [
       "2     2.04\n",
       "3     4.59\n",
       "4    36.22\n",
       "5    57.14\n",
       "Name: ¿Tienes acceso a dispositivos (ordenador, móvil, tablet, etc.) conectados a Internet habitualmente?, dtype: float64"
      ]
     },
     "metadata": {},
     "output_type": "display_data"
    },
    {
     "data": {
      "application/vnd.plotly.v1+json": {
       "config": {
        "linkText": "Export to plot.ly",
        "plotlyServerURL": "https://plot.ly",
        "showLink": false
       },
       "data": [
        {
         "marker": {
          "color": [
           "rgb(213,62,79)",
           "rgb(252,141,89)",
           "rgb(254,224,139)",
           "rgb(230,245,152)",
           "rgb(153,213,148)",
           "rgb(50,136,189)"
          ]
         },
         "type": "bar",
         "uid": "6088322f-211c-4ceb-8dec-ad1ee693fc42",
         "x": [
          2,
          3,
          4,
          5
         ],
         "y": [
          4,
          9,
          71,
          112
         ]
        }
       ],
       "layout": {
        "bargap": 0.2,
        "xaxis": {
         "ticktext": [
          "1. Nunca",
          "2. Ocasionalmente",
          "3. Semanalmente",
          "4. Diariamente",
          "5. Varias veces al día"
         ],
         "tickvals": [
          1,
          2,
          3,
          4,
          5
         ]
        }
       }
      },
      "text/html": [
       "<div id=\"3752d3c7-f38d-4176-83db-5c8888034f64\" style=\"height: 525px; width: 100%;\" class=\"plotly-graph-div\"></div><script type=\"text/javascript\">require([\"plotly\"], function(Plotly) { window.PLOTLYENV=window.PLOTLYENV || {};window.PLOTLYENV.BASE_URL=\"https://plot.ly\";\n",
       "if (document.getElementById(\"3752d3c7-f38d-4176-83db-5c8888034f64\")) {\n",
       "    Plotly.newPlot(\"3752d3c7-f38d-4176-83db-5c8888034f64\", [{\"marker\": {\"color\": [\"rgb(213,62,79)\", \"rgb(252,141,89)\", \"rgb(254,224,139)\", \"rgb(230,245,152)\", \"rgb(153,213,148)\", \"rgb(50,136,189)\"]}, \"x\": [2, 3, 4, 5], \"y\": [4, 9, 71, 112], \"type\": \"bar\", \"uid\": \"6088322f-211c-4ceb-8dec-ad1ee693fc42\"}], {\"bargap\": 0.2, \"xaxis\": {\"ticktext\": [\"1. Nunca\", \"2. Ocasionalmente\", \"3. Semanalmente\", \"4. Diariamente\", \"5. Varias veces al d\\u00eda\"], \"tickvals\": [1, 2, 3, 4, 5]}}, {\"showLink\": false, \"linkText\": \"Export to plot.ly\", \"plotlyServerURL\": \"https://plot.ly\"}); \n",
       "}\n",
       "});</script><script type=\"text/javascript\">window.addEventListener(\"resize\", function(){if (document.getElementById(\"3752d3c7-f38d-4176-83db-5c8888034f64\")) {window._Plotly.Plots.resize(document.getElementById(\"3752d3c7-f38d-4176-83db-5c8888034f64\"));};})</script>"
      ],
      "text/vnd.plotly.v1+html": [
       "<div id=\"3752d3c7-f38d-4176-83db-5c8888034f64\" style=\"height: 525px; width: 100%;\" class=\"plotly-graph-div\"></div><script type=\"text/javascript\">require([\"plotly\"], function(Plotly) { window.PLOTLYENV=window.PLOTLYENV || {};window.PLOTLYENV.BASE_URL=\"https://plot.ly\";\n",
       "if (document.getElementById(\"3752d3c7-f38d-4176-83db-5c8888034f64\")) {\n",
       "    Plotly.newPlot(\"3752d3c7-f38d-4176-83db-5c8888034f64\", [{\"marker\": {\"color\": [\"rgb(213,62,79)\", \"rgb(252,141,89)\", \"rgb(254,224,139)\", \"rgb(230,245,152)\", \"rgb(153,213,148)\", \"rgb(50,136,189)\"]}, \"x\": [2, 3, 4, 5], \"y\": [4, 9, 71, 112], \"type\": \"bar\", \"uid\": \"6088322f-211c-4ceb-8dec-ad1ee693fc42\"}], {\"bargap\": 0.2, \"xaxis\": {\"ticktext\": [\"1. Nunca\", \"2. Ocasionalmente\", \"3. Semanalmente\", \"4. Diariamente\", \"5. Varias veces al d\\u00eda\"], \"tickvals\": [1, 2, 3, 4, 5]}}, {\"showLink\": false, \"linkText\": \"Export to plot.ly\", \"plotlyServerURL\": \"https://plot.ly\"}); \n",
       "}\n",
       "});</script><script type=\"text/javascript\">window.addEventListener(\"resize\", function(){if (document.getElementById(\"3752d3c7-f38d-4176-83db-5c8888034f64\")) {window._Plotly.Plots.resize(document.getElementById(\"3752d3c7-f38d-4176-83db-5c8888034f64\"));};})</script>"
      ]
     },
     "metadata": {},
     "output_type": "display_data"
    },
    {
     "name": "stdout",
     "output_type": "stream",
     "text": [
      "\n",
      "\n",
      "Cluster 2 || variable: ¿Cuánto tiempo al día usas el móvil/tableta/ordenador/TV?\n",
      "Describiendo la pregunta ¿Cuánto tiempo al día usas el móvil/tableta/ordenador/TV?\n",
      "Valores numéricos asociados a las respuestas [1, 2, 3, 4, 5, 6]\n",
      "Respuestas posibles a la pregunta/variable ['1. Nada', '2. Menos de una hora', '3. 1-2 horas', '4. 2-4 horas', '5. 4-6 horas', '6. Más de 6 horas']\n"
     ]
    },
    {
     "data": {
      "text/plain": [
       "count    196.000000\n",
       "mean       4.561224\n",
       "std        1.105384\n",
       "min        2.000000\n",
       "25%        4.000000\n",
       "50%        5.000000\n",
       "75%        6.000000\n",
       "max        6.000000\n",
       "Name: ¿Cuánto tiempo al día usas el móvil/tableta/ordenador/TV?, dtype: float64"
      ]
     },
     "metadata": {},
     "output_type": "display_data"
    },
    {
     "name": "stdout",
     "output_type": "stream",
     "text": [
      "Conteo de cada valor en ¿Cuánto tiempo al día usas el móvil/tableta/ordenador/TV? expresada como valor / cantidad\n"
     ]
    },
    {
     "data": {
      "text/plain": [
       "2     4\n",
       "3    32\n",
       "4    61\n",
       "5    48\n",
       "6    51\n",
       "Name: ¿Cuánto tiempo al día usas el móvil/tableta/ordenador/TV?, dtype: int64"
      ]
     },
     "metadata": {},
     "output_type": "display_data"
    },
    {
     "name": "stdout",
     "output_type": "stream",
     "text": [
      "Porcentaje de cada valor en ¿Cuánto tiempo al día usas el móvil/tableta/ordenador/TV? expresado como valor / porcentaje\n"
     ]
    },
    {
     "data": {
      "text/plain": [
       "2     2.04\n",
       "3    16.33\n",
       "4    31.12\n",
       "5    24.49\n",
       "6    26.02\n",
       "Name: ¿Cuánto tiempo al día usas el móvil/tableta/ordenador/TV?, dtype: float64"
      ]
     },
     "metadata": {},
     "output_type": "display_data"
    },
    {
     "data": {
      "application/vnd.plotly.v1+json": {
       "config": {
        "linkText": "Export to plot.ly",
        "plotlyServerURL": "https://plot.ly",
        "showLink": false
       },
       "data": [
        {
         "marker": {
          "color": [
           "rgb(213,62,79)",
           "rgb(252,141,89)",
           "rgb(254,224,139)",
           "rgb(230,245,152)",
           "rgb(153,213,148)",
           "rgb(50,136,189)"
          ]
         },
         "type": "bar",
         "uid": "457c34c3-3211-480e-8311-f9fc62db87ea",
         "x": [
          2,
          3,
          4,
          5,
          6
         ],
         "y": [
          4,
          32,
          61,
          48,
          51
         ]
        }
       ],
       "layout": {
        "bargap": 0.2,
        "xaxis": {
         "ticktext": [
          "1. Nada",
          "2. Menos de una hora",
          "3. 1-2 horas",
          "4. 2-4 horas",
          "5. 4-6 horas",
          "6. Más de 6 horas"
         ],
         "tickvals": [
          1,
          2,
          3,
          4,
          5,
          6
         ]
        }
       }
      },
      "text/html": [
       "<div id=\"00a0668c-1388-404a-8c8b-8832fc40b1c2\" style=\"height: 525px; width: 100%;\" class=\"plotly-graph-div\"></div><script type=\"text/javascript\">require([\"plotly\"], function(Plotly) { window.PLOTLYENV=window.PLOTLYENV || {};window.PLOTLYENV.BASE_URL=\"https://plot.ly\";\n",
       "if (document.getElementById(\"00a0668c-1388-404a-8c8b-8832fc40b1c2\")) {\n",
       "    Plotly.newPlot(\"00a0668c-1388-404a-8c8b-8832fc40b1c2\", [{\"marker\": {\"color\": [\"rgb(213,62,79)\", \"rgb(252,141,89)\", \"rgb(254,224,139)\", \"rgb(230,245,152)\", \"rgb(153,213,148)\", \"rgb(50,136,189)\"]}, \"x\": [2, 3, 4, 5, 6], \"y\": [4, 32, 61, 48, 51], \"type\": \"bar\", \"uid\": \"457c34c3-3211-480e-8311-f9fc62db87ea\"}], {\"bargap\": 0.2, \"xaxis\": {\"ticktext\": [\"1. Nada\", \"2. Menos de una hora\", \"3. 1-2 horas\", \"4. 2-4 horas\", \"5. 4-6 horas\", \"6. M\\u00e1s de 6 horas\"], \"tickvals\": [1, 2, 3, 4, 5, 6]}}, {\"showLink\": false, \"linkText\": \"Export to plot.ly\", \"plotlyServerURL\": \"https://plot.ly\"}); \n",
       "}\n",
       "});</script><script type=\"text/javascript\">window.addEventListener(\"resize\", function(){if (document.getElementById(\"00a0668c-1388-404a-8c8b-8832fc40b1c2\")) {window._Plotly.Plots.resize(document.getElementById(\"00a0668c-1388-404a-8c8b-8832fc40b1c2\"));};})</script>"
      ],
      "text/vnd.plotly.v1+html": [
       "<div id=\"00a0668c-1388-404a-8c8b-8832fc40b1c2\" style=\"height: 525px; width: 100%;\" class=\"plotly-graph-div\"></div><script type=\"text/javascript\">require([\"plotly\"], function(Plotly) { window.PLOTLYENV=window.PLOTLYENV || {};window.PLOTLYENV.BASE_URL=\"https://plot.ly\";\n",
       "if (document.getElementById(\"00a0668c-1388-404a-8c8b-8832fc40b1c2\")) {\n",
       "    Plotly.newPlot(\"00a0668c-1388-404a-8c8b-8832fc40b1c2\", [{\"marker\": {\"color\": [\"rgb(213,62,79)\", \"rgb(252,141,89)\", \"rgb(254,224,139)\", \"rgb(230,245,152)\", \"rgb(153,213,148)\", \"rgb(50,136,189)\"]}, \"x\": [2, 3, 4, 5, 6], \"y\": [4, 32, 61, 48, 51], \"type\": \"bar\", \"uid\": \"457c34c3-3211-480e-8311-f9fc62db87ea\"}], {\"bargap\": 0.2, \"xaxis\": {\"ticktext\": [\"1. Nada\", \"2. Menos de una hora\", \"3. 1-2 horas\", \"4. 2-4 horas\", \"5. 4-6 horas\", \"6. M\\u00e1s de 6 horas\"], \"tickvals\": [1, 2, 3, 4, 5, 6]}}, {\"showLink\": false, \"linkText\": \"Export to plot.ly\", \"plotlyServerURL\": \"https://plot.ly\"}); \n",
       "}\n",
       "});</script><script type=\"text/javascript\">window.addEventListener(\"resize\", function(){if (document.getElementById(\"00a0668c-1388-404a-8c8b-8832fc40b1c2\")) {window._Plotly.Plots.resize(document.getElementById(\"00a0668c-1388-404a-8c8b-8832fc40b1c2\"));};})</script>"
      ]
     },
     "metadata": {},
     "output_type": "display_data"
    },
    {
     "name": "stdout",
     "output_type": "stream",
     "text": [
      "\n",
      "\n",
      "Cluster 2 || variable: ¿Qué tipo de aplicaciones utilizas en tu ordenador/tableta/móvil? (Respuesta múltiple) [1. Apps de contenidos audiovisuales (Netflix, HBO, etc.)]\n",
      "Describiendo la pregunta ¿Qué tipo de aplicaciones utilizas en tu ordenador/tableta/móvil? (Respuesta múltiple) [1. Apps de contenidos audiovisuales (Netflix, HBO, etc.)]\n",
      "Valores numéricos asociados a las respuestas [0, 1]\n",
      "Respuestas posibles a la pregunta/variable ['No', 'Sí']\n"
     ]
    },
    {
     "data": {
      "text/plain": [
       "count    196.000000\n",
       "mean       0.336735\n",
       "std        0.473804\n",
       "min        0.000000\n",
       "25%        0.000000\n",
       "50%        0.000000\n",
       "75%        1.000000\n",
       "max        1.000000\n",
       "Name: ¿Qué tipo de aplicaciones utilizas en tu ordenador/tableta/móvil? (Respuesta múltiple) [1. Apps de contenidos audiovisuales (Netflix, HBO, etc.)], dtype: float64"
      ]
     },
     "metadata": {},
     "output_type": "display_data"
    },
    {
     "name": "stdout",
     "output_type": "stream",
     "text": [
      "Conteo de cada valor en ¿Qué tipo de aplicaciones utilizas en tu ordenador/tableta/móvil? (Respuesta múltiple) [1. Apps de contenidos audiovisuales (Netflix, HBO, etc.)] expresada como valor / cantidad\n"
     ]
    },
    {
     "data": {
      "text/plain": [
       "0    130\n",
       "1     66\n",
       "Name: ¿Qué tipo de aplicaciones utilizas en tu ordenador/tableta/móvil? (Respuesta múltiple) [1. Apps de contenidos audiovisuales (Netflix, HBO, etc.)], dtype: int64"
      ]
     },
     "metadata": {},
     "output_type": "display_data"
    },
    {
     "name": "stdout",
     "output_type": "stream",
     "text": [
      "Porcentaje de cada valor en ¿Qué tipo de aplicaciones utilizas en tu ordenador/tableta/móvil? (Respuesta múltiple) [1. Apps de contenidos audiovisuales (Netflix, HBO, etc.)] expresado como valor / porcentaje\n"
     ]
    },
    {
     "data": {
      "text/plain": [
       "0    66.33\n",
       "1    33.67\n",
       "Name: ¿Qué tipo de aplicaciones utilizas en tu ordenador/tableta/móvil? (Respuesta múltiple) [1. Apps de contenidos audiovisuales (Netflix, HBO, etc.)], dtype: float64"
      ]
     },
     "metadata": {},
     "output_type": "display_data"
    },
    {
     "data": {
      "application/vnd.plotly.v1+json": {
       "config": {
        "linkText": "Export to plot.ly",
        "plotlyServerURL": "https://plot.ly",
        "showLink": false
       },
       "data": [
        {
         "marker": {
          "color": [
           "rgb(213,62,79)",
           "rgb(252,141,89)",
           "rgb(254,224,139)",
           "rgb(230,245,152)",
           "rgb(153,213,148)",
           "rgb(50,136,189)"
          ]
         },
         "type": "bar",
         "uid": "bee50fe7-e8f7-4a7b-b63a-340f3436b9e3",
         "x": [
          0,
          1
         ],
         "y": [
          130,
          66
         ]
        }
       ],
       "layout": {
        "bargap": 0.2,
        "xaxis": {
         "ticktext": [
          "No",
          "Sí"
         ],
         "tickvals": [
          0,
          1
         ]
        }
       }
      },
      "text/html": [
       "<div id=\"a67725bc-420e-4afe-aed7-b77cc62085c7\" style=\"height: 525px; width: 100%;\" class=\"plotly-graph-div\"></div><script type=\"text/javascript\">require([\"plotly\"], function(Plotly) { window.PLOTLYENV=window.PLOTLYENV || {};window.PLOTLYENV.BASE_URL=\"https://plot.ly\";\n",
       "if (document.getElementById(\"a67725bc-420e-4afe-aed7-b77cc62085c7\")) {\n",
       "    Plotly.newPlot(\"a67725bc-420e-4afe-aed7-b77cc62085c7\", [{\"marker\": {\"color\": [\"rgb(213,62,79)\", \"rgb(252,141,89)\", \"rgb(254,224,139)\", \"rgb(230,245,152)\", \"rgb(153,213,148)\", \"rgb(50,136,189)\"]}, \"x\": [0, 1], \"y\": [130, 66], \"type\": \"bar\", \"uid\": \"bee50fe7-e8f7-4a7b-b63a-340f3436b9e3\"}], {\"bargap\": 0.2, \"xaxis\": {\"ticktext\": [\"No\", \"S\\u00ed\"], \"tickvals\": [0, 1]}}, {\"showLink\": false, \"linkText\": \"Export to plot.ly\", \"plotlyServerURL\": \"https://plot.ly\"}); \n",
       "}\n",
       "});</script><script type=\"text/javascript\">window.addEventListener(\"resize\", function(){if (document.getElementById(\"a67725bc-420e-4afe-aed7-b77cc62085c7\")) {window._Plotly.Plots.resize(document.getElementById(\"a67725bc-420e-4afe-aed7-b77cc62085c7\"));};})</script>"
      ],
      "text/vnd.plotly.v1+html": [
       "<div id=\"a67725bc-420e-4afe-aed7-b77cc62085c7\" style=\"height: 525px; width: 100%;\" class=\"plotly-graph-div\"></div><script type=\"text/javascript\">require([\"plotly\"], function(Plotly) { window.PLOTLYENV=window.PLOTLYENV || {};window.PLOTLYENV.BASE_URL=\"https://plot.ly\";\n",
       "if (document.getElementById(\"a67725bc-420e-4afe-aed7-b77cc62085c7\")) {\n",
       "    Plotly.newPlot(\"a67725bc-420e-4afe-aed7-b77cc62085c7\", [{\"marker\": {\"color\": [\"rgb(213,62,79)\", \"rgb(252,141,89)\", \"rgb(254,224,139)\", \"rgb(230,245,152)\", \"rgb(153,213,148)\", \"rgb(50,136,189)\"]}, \"x\": [0, 1], \"y\": [130, 66], \"type\": \"bar\", \"uid\": \"bee50fe7-e8f7-4a7b-b63a-340f3436b9e3\"}], {\"bargap\": 0.2, \"xaxis\": {\"ticktext\": [\"No\", \"S\\u00ed\"], \"tickvals\": [0, 1]}}, {\"showLink\": false, \"linkText\": \"Export to plot.ly\", \"plotlyServerURL\": \"https://plot.ly\"}); \n",
       "}\n",
       "});</script><script type=\"text/javascript\">window.addEventListener(\"resize\", function(){if (document.getElementById(\"a67725bc-420e-4afe-aed7-b77cc62085c7\")) {window._Plotly.Plots.resize(document.getElementById(\"a67725bc-420e-4afe-aed7-b77cc62085c7\"));};})</script>"
      ]
     },
     "metadata": {},
     "output_type": "display_data"
    },
    {
     "name": "stdout",
     "output_type": "stream",
     "text": [
      "\n",
      "\n",
      "Cluster 2 || variable: ¿Qué tipo de aplicaciones utilizas en tu ordenador/tableta/móvil? (Respuesta múltiple) [2. Aplicaciones de mensajería (Whatsapp, Facebook Messenger, etc.)]\n",
      "Describiendo la pregunta ¿Qué tipo de aplicaciones utilizas en tu ordenador/tableta/móvil? (Respuesta múltiple) [2. Aplicaciones de mensajería (Whatsapp, Facebook Messenger, etc.)]\n",
      "Valores numéricos asociados a las respuestas [0, 1]\n",
      "Respuestas posibles a la pregunta/variable ['No', 'Sí']\n"
     ]
    },
    {
     "data": {
      "text/plain": [
       "count    196.000000\n",
       "mean       0.673469\n",
       "std        0.470145\n",
       "min        0.000000\n",
       "25%        0.000000\n",
       "50%        1.000000\n",
       "75%        1.000000\n",
       "max        1.000000\n",
       "Name: ¿Qué tipo de aplicaciones utilizas en tu ordenador/tableta/móvil? (Respuesta múltiple) [2. Aplicaciones de mensajería (Whatsapp, Facebook Messenger, etc.)], dtype: float64"
      ]
     },
     "metadata": {},
     "output_type": "display_data"
    },
    {
     "name": "stdout",
     "output_type": "stream",
     "text": [
      "Conteo de cada valor en ¿Qué tipo de aplicaciones utilizas en tu ordenador/tableta/móvil? (Respuesta múltiple) [2. Aplicaciones de mensajería (Whatsapp, Facebook Messenger, etc.)] expresada como valor / cantidad\n"
     ]
    },
    {
     "data": {
      "text/plain": [
       "0     64\n",
       "1    132\n",
       "Name: ¿Qué tipo de aplicaciones utilizas en tu ordenador/tableta/móvil? (Respuesta múltiple) [2. Aplicaciones de mensajería (Whatsapp, Facebook Messenger, etc.)], dtype: int64"
      ]
     },
     "metadata": {},
     "output_type": "display_data"
    },
    {
     "name": "stdout",
     "output_type": "stream",
     "text": [
      "Porcentaje de cada valor en ¿Qué tipo de aplicaciones utilizas en tu ordenador/tableta/móvil? (Respuesta múltiple) [2. Aplicaciones de mensajería (Whatsapp, Facebook Messenger, etc.)] expresado como valor / porcentaje\n"
     ]
    },
    {
     "data": {
      "text/plain": [
       "0    32.65\n",
       "1    67.35\n",
       "Name: ¿Qué tipo de aplicaciones utilizas en tu ordenador/tableta/móvil? (Respuesta múltiple) [2. Aplicaciones de mensajería (Whatsapp, Facebook Messenger, etc.)], dtype: float64"
      ]
     },
     "metadata": {},
     "output_type": "display_data"
    },
    {
     "data": {
      "application/vnd.plotly.v1+json": {
       "config": {
        "linkText": "Export to plot.ly",
        "plotlyServerURL": "https://plot.ly",
        "showLink": false
       },
       "data": [
        {
         "marker": {
          "color": [
           "rgb(213,62,79)",
           "rgb(252,141,89)",
           "rgb(254,224,139)",
           "rgb(230,245,152)",
           "rgb(153,213,148)",
           "rgb(50,136,189)"
          ]
         },
         "type": "bar",
         "uid": "a18e1625-c660-485c-aaba-010c494f9bd5",
         "x": [
          0,
          1
         ],
         "y": [
          64,
          132
         ]
        }
       ],
       "layout": {
        "bargap": 0.2,
        "xaxis": {
         "ticktext": [
          "No",
          "Sí"
         ],
         "tickvals": [
          0,
          1
         ]
        }
       }
      },
      "text/html": [
       "<div id=\"68f575bf-baf5-44dd-a544-d068cfa6f056\" style=\"height: 525px; width: 100%;\" class=\"plotly-graph-div\"></div><script type=\"text/javascript\">require([\"plotly\"], function(Plotly) { window.PLOTLYENV=window.PLOTLYENV || {};window.PLOTLYENV.BASE_URL=\"https://plot.ly\";\n",
       "if (document.getElementById(\"68f575bf-baf5-44dd-a544-d068cfa6f056\")) {\n",
       "    Plotly.newPlot(\"68f575bf-baf5-44dd-a544-d068cfa6f056\", [{\"marker\": {\"color\": [\"rgb(213,62,79)\", \"rgb(252,141,89)\", \"rgb(254,224,139)\", \"rgb(230,245,152)\", \"rgb(153,213,148)\", \"rgb(50,136,189)\"]}, \"x\": [0, 1], \"y\": [64, 132], \"type\": \"bar\", \"uid\": \"a18e1625-c660-485c-aaba-010c494f9bd5\"}], {\"bargap\": 0.2, \"xaxis\": {\"ticktext\": [\"No\", \"S\\u00ed\"], \"tickvals\": [0, 1]}}, {\"showLink\": false, \"linkText\": \"Export to plot.ly\", \"plotlyServerURL\": \"https://plot.ly\"}); \n",
       "}\n",
       "});</script><script type=\"text/javascript\">window.addEventListener(\"resize\", function(){if (document.getElementById(\"68f575bf-baf5-44dd-a544-d068cfa6f056\")) {window._Plotly.Plots.resize(document.getElementById(\"68f575bf-baf5-44dd-a544-d068cfa6f056\"));};})</script>"
      ],
      "text/vnd.plotly.v1+html": [
       "<div id=\"68f575bf-baf5-44dd-a544-d068cfa6f056\" style=\"height: 525px; width: 100%;\" class=\"plotly-graph-div\"></div><script type=\"text/javascript\">require([\"plotly\"], function(Plotly) { window.PLOTLYENV=window.PLOTLYENV || {};window.PLOTLYENV.BASE_URL=\"https://plot.ly\";\n",
       "if (document.getElementById(\"68f575bf-baf5-44dd-a544-d068cfa6f056\")) {\n",
       "    Plotly.newPlot(\"68f575bf-baf5-44dd-a544-d068cfa6f056\", [{\"marker\": {\"color\": [\"rgb(213,62,79)\", \"rgb(252,141,89)\", \"rgb(254,224,139)\", \"rgb(230,245,152)\", \"rgb(153,213,148)\", \"rgb(50,136,189)\"]}, \"x\": [0, 1], \"y\": [64, 132], \"type\": \"bar\", \"uid\": \"a18e1625-c660-485c-aaba-010c494f9bd5\"}], {\"bargap\": 0.2, \"xaxis\": {\"ticktext\": [\"No\", \"S\\u00ed\"], \"tickvals\": [0, 1]}}, {\"showLink\": false, \"linkText\": \"Export to plot.ly\", \"plotlyServerURL\": \"https://plot.ly\"}); \n",
       "}\n",
       "});</script><script type=\"text/javascript\">window.addEventListener(\"resize\", function(){if (document.getElementById(\"68f575bf-baf5-44dd-a544-d068cfa6f056\")) {window._Plotly.Plots.resize(document.getElementById(\"68f575bf-baf5-44dd-a544-d068cfa6f056\"));};})</script>"
      ]
     },
     "metadata": {},
     "output_type": "display_data"
    },
    {
     "name": "stdout",
     "output_type": "stream",
     "text": [
      "\n",
      "\n",
      "Cluster 2 || variable: ¿Qué tipo de aplicaciones utilizas en tu ordenador/tableta/móvil? (Respuesta múltiple) [3. Bibliotecas de fotos online (Google Photos, iPhoto, etc.)]\n",
      "Describiendo la pregunta ¿Qué tipo de aplicaciones utilizas en tu ordenador/tableta/móvil? (Respuesta múltiple) [3. Bibliotecas de fotos online (Google Photos, iPhoto, etc.)]\n",
      "Valores numéricos asociados a las respuestas [0, 1]\n",
      "Respuestas posibles a la pregunta/variable ['No', 'Sí']\n"
     ]
    },
    {
     "data": {
      "text/plain": [
       "count    196.000000\n",
       "mean       0.255102\n",
       "std        0.437035\n",
       "min        0.000000\n",
       "25%        0.000000\n",
       "50%        0.000000\n",
       "75%        1.000000\n",
       "max        1.000000\n",
       "Name: ¿Qué tipo de aplicaciones utilizas en tu ordenador/tableta/móvil? (Respuesta múltiple) [3. Bibliotecas de fotos online (Google Photos, iPhoto, etc.)], dtype: float64"
      ]
     },
     "metadata": {},
     "output_type": "display_data"
    },
    {
     "name": "stdout",
     "output_type": "stream",
     "text": [
      "Conteo de cada valor en ¿Qué tipo de aplicaciones utilizas en tu ordenador/tableta/móvil? (Respuesta múltiple) [3. Bibliotecas de fotos online (Google Photos, iPhoto, etc.)] expresada como valor / cantidad\n"
     ]
    },
    {
     "data": {
      "text/plain": [
       "0    146\n",
       "1     50\n",
       "Name: ¿Qué tipo de aplicaciones utilizas en tu ordenador/tableta/móvil? (Respuesta múltiple) [3. Bibliotecas de fotos online (Google Photos, iPhoto, etc.)], dtype: int64"
      ]
     },
     "metadata": {},
     "output_type": "display_data"
    },
    {
     "name": "stdout",
     "output_type": "stream",
     "text": [
      "Porcentaje de cada valor en ¿Qué tipo de aplicaciones utilizas en tu ordenador/tableta/móvil? (Respuesta múltiple) [3. Bibliotecas de fotos online (Google Photos, iPhoto, etc.)] expresado como valor / porcentaje\n"
     ]
    },
    {
     "data": {
      "text/plain": [
       "0    74.49\n",
       "1    25.51\n",
       "Name: ¿Qué tipo de aplicaciones utilizas en tu ordenador/tableta/móvil? (Respuesta múltiple) [3. Bibliotecas de fotos online (Google Photos, iPhoto, etc.)], dtype: float64"
      ]
     },
     "metadata": {},
     "output_type": "display_data"
    },
    {
     "data": {
      "application/vnd.plotly.v1+json": {
       "config": {
        "linkText": "Export to plot.ly",
        "plotlyServerURL": "https://plot.ly",
        "showLink": false
       },
       "data": [
        {
         "marker": {
          "color": [
           "rgb(213,62,79)",
           "rgb(252,141,89)",
           "rgb(254,224,139)",
           "rgb(230,245,152)",
           "rgb(153,213,148)",
           "rgb(50,136,189)"
          ]
         },
         "type": "bar",
         "uid": "fa20185e-0619-4d5f-b1bb-83ddd30854d7",
         "x": [
          0,
          1
         ],
         "y": [
          146,
          50
         ]
        }
       ],
       "layout": {
        "bargap": 0.2,
        "xaxis": {
         "ticktext": [
          "No",
          "Sí"
         ],
         "tickvals": [
          0,
          1
         ]
        }
       }
      },
      "text/html": [
       "<div id=\"fe55e149-c29b-4c27-bd09-2bceeb6188c9\" style=\"height: 525px; width: 100%;\" class=\"plotly-graph-div\"></div><script type=\"text/javascript\">require([\"plotly\"], function(Plotly) { window.PLOTLYENV=window.PLOTLYENV || {};window.PLOTLYENV.BASE_URL=\"https://plot.ly\";\n",
       "if (document.getElementById(\"fe55e149-c29b-4c27-bd09-2bceeb6188c9\")) {\n",
       "    Plotly.newPlot(\"fe55e149-c29b-4c27-bd09-2bceeb6188c9\", [{\"marker\": {\"color\": [\"rgb(213,62,79)\", \"rgb(252,141,89)\", \"rgb(254,224,139)\", \"rgb(230,245,152)\", \"rgb(153,213,148)\", \"rgb(50,136,189)\"]}, \"x\": [0, 1], \"y\": [146, 50], \"type\": \"bar\", \"uid\": \"fa20185e-0619-4d5f-b1bb-83ddd30854d7\"}], {\"bargap\": 0.2, \"xaxis\": {\"ticktext\": [\"No\", \"S\\u00ed\"], \"tickvals\": [0, 1]}}, {\"showLink\": false, \"linkText\": \"Export to plot.ly\", \"plotlyServerURL\": \"https://plot.ly\"}); \n",
       "}\n",
       "});</script><script type=\"text/javascript\">window.addEventListener(\"resize\", function(){if (document.getElementById(\"fe55e149-c29b-4c27-bd09-2bceeb6188c9\")) {window._Plotly.Plots.resize(document.getElementById(\"fe55e149-c29b-4c27-bd09-2bceeb6188c9\"));};})</script>"
      ],
      "text/vnd.plotly.v1+html": [
       "<div id=\"fe55e149-c29b-4c27-bd09-2bceeb6188c9\" style=\"height: 525px; width: 100%;\" class=\"plotly-graph-div\"></div><script type=\"text/javascript\">require([\"plotly\"], function(Plotly) { window.PLOTLYENV=window.PLOTLYENV || {};window.PLOTLYENV.BASE_URL=\"https://plot.ly\";\n",
       "if (document.getElementById(\"fe55e149-c29b-4c27-bd09-2bceeb6188c9\")) {\n",
       "    Plotly.newPlot(\"fe55e149-c29b-4c27-bd09-2bceeb6188c9\", [{\"marker\": {\"color\": [\"rgb(213,62,79)\", \"rgb(252,141,89)\", \"rgb(254,224,139)\", \"rgb(230,245,152)\", \"rgb(153,213,148)\", \"rgb(50,136,189)\"]}, \"x\": [0, 1], \"y\": [146, 50], \"type\": \"bar\", \"uid\": \"fa20185e-0619-4d5f-b1bb-83ddd30854d7\"}], {\"bargap\": 0.2, \"xaxis\": {\"ticktext\": [\"No\", \"S\\u00ed\"], \"tickvals\": [0, 1]}}, {\"showLink\": false, \"linkText\": \"Export to plot.ly\", \"plotlyServerURL\": \"https://plot.ly\"}); \n",
       "}\n",
       "});</script><script type=\"text/javascript\">window.addEventListener(\"resize\", function(){if (document.getElementById(\"fe55e149-c29b-4c27-bd09-2bceeb6188c9\")) {window._Plotly.Plots.resize(document.getElementById(\"fe55e149-c29b-4c27-bd09-2bceeb6188c9\"));};})</script>"
      ]
     },
     "metadata": {},
     "output_type": "display_data"
    },
    {
     "name": "stdout",
     "output_type": "stream",
     "text": [
      "\n",
      "\n",
      "Cluster 2 || variable: ¿Qué tipo de aplicaciones utilizas en tu ordenador/tableta/móvil? (Respuesta múltiple) [4. Redes sociales (Facebook, Instagram, Twitter, etc.).]\n",
      "Describiendo la pregunta ¿Qué tipo de aplicaciones utilizas en tu ordenador/tableta/móvil? (Respuesta múltiple) [4. Redes sociales (Facebook, Instagram, Twitter, etc.).]\n",
      "Valores numéricos asociados a las respuestas [0, 1]\n",
      "Respuestas posibles a la pregunta/variable ['No', 'Sí']\n"
     ]
    },
    {
     "data": {
      "text/plain": [
       "count    196.000000\n",
       "mean       0.658163\n",
       "std        0.475540\n",
       "min        0.000000\n",
       "25%        0.000000\n",
       "50%        1.000000\n",
       "75%        1.000000\n",
       "max        1.000000\n",
       "Name: ¿Qué tipo de aplicaciones utilizas en tu ordenador/tableta/móvil? (Respuesta múltiple) [4. Redes sociales (Facebook, Instagram, Twitter, etc.).], dtype: float64"
      ]
     },
     "metadata": {},
     "output_type": "display_data"
    },
    {
     "name": "stdout",
     "output_type": "stream",
     "text": [
      "Conteo de cada valor en ¿Qué tipo de aplicaciones utilizas en tu ordenador/tableta/móvil? (Respuesta múltiple) [4. Redes sociales (Facebook, Instagram, Twitter, etc.).] expresada como valor / cantidad\n"
     ]
    },
    {
     "data": {
      "text/plain": [
       "0     67\n",
       "1    129\n",
       "Name: ¿Qué tipo de aplicaciones utilizas en tu ordenador/tableta/móvil? (Respuesta múltiple) [4. Redes sociales (Facebook, Instagram, Twitter, etc.).], dtype: int64"
      ]
     },
     "metadata": {},
     "output_type": "display_data"
    },
    {
     "name": "stdout",
     "output_type": "stream",
     "text": [
      "Porcentaje de cada valor en ¿Qué tipo de aplicaciones utilizas en tu ordenador/tableta/móvil? (Respuesta múltiple) [4. Redes sociales (Facebook, Instagram, Twitter, etc.).] expresado como valor / porcentaje\n"
     ]
    },
    {
     "data": {
      "text/plain": [
       "0    34.18\n",
       "1    65.82\n",
       "Name: ¿Qué tipo de aplicaciones utilizas en tu ordenador/tableta/móvil? (Respuesta múltiple) [4. Redes sociales (Facebook, Instagram, Twitter, etc.).], dtype: float64"
      ]
     },
     "metadata": {},
     "output_type": "display_data"
    },
    {
     "data": {
      "application/vnd.plotly.v1+json": {
       "config": {
        "linkText": "Export to plot.ly",
        "plotlyServerURL": "https://plot.ly",
        "showLink": false
       },
       "data": [
        {
         "marker": {
          "color": [
           "rgb(213,62,79)",
           "rgb(252,141,89)",
           "rgb(254,224,139)",
           "rgb(230,245,152)",
           "rgb(153,213,148)",
           "rgb(50,136,189)"
          ]
         },
         "type": "bar",
         "uid": "006ca839-852d-4396-8b85-e81757e06363",
         "x": [
          0,
          1
         ],
         "y": [
          67,
          129
         ]
        }
       ],
       "layout": {
        "bargap": 0.2,
        "xaxis": {
         "ticktext": [
          "No",
          "Sí"
         ],
         "tickvals": [
          0,
          1
         ]
        }
       }
      },
      "text/html": [
       "<div id=\"337783e8-972f-468b-8f83-450029f790b4\" style=\"height: 525px; width: 100%;\" class=\"plotly-graph-div\"></div><script type=\"text/javascript\">require([\"plotly\"], function(Plotly) { window.PLOTLYENV=window.PLOTLYENV || {};window.PLOTLYENV.BASE_URL=\"https://plot.ly\";\n",
       "if (document.getElementById(\"337783e8-972f-468b-8f83-450029f790b4\")) {\n",
       "    Plotly.newPlot(\"337783e8-972f-468b-8f83-450029f790b4\", [{\"marker\": {\"color\": [\"rgb(213,62,79)\", \"rgb(252,141,89)\", \"rgb(254,224,139)\", \"rgb(230,245,152)\", \"rgb(153,213,148)\", \"rgb(50,136,189)\"]}, \"x\": [0, 1], \"y\": [67, 129], \"type\": \"bar\", \"uid\": \"006ca839-852d-4396-8b85-e81757e06363\"}], {\"bargap\": 0.2, \"xaxis\": {\"ticktext\": [\"No\", \"S\\u00ed\"], \"tickvals\": [0, 1]}}, {\"showLink\": false, \"linkText\": \"Export to plot.ly\", \"plotlyServerURL\": \"https://plot.ly\"}); \n",
       "}\n",
       "});</script><script type=\"text/javascript\">window.addEventListener(\"resize\", function(){if (document.getElementById(\"337783e8-972f-468b-8f83-450029f790b4\")) {window._Plotly.Plots.resize(document.getElementById(\"337783e8-972f-468b-8f83-450029f790b4\"));};})</script>"
      ],
      "text/vnd.plotly.v1+html": [
       "<div id=\"337783e8-972f-468b-8f83-450029f790b4\" style=\"height: 525px; width: 100%;\" class=\"plotly-graph-div\"></div><script type=\"text/javascript\">require([\"plotly\"], function(Plotly) { window.PLOTLYENV=window.PLOTLYENV || {};window.PLOTLYENV.BASE_URL=\"https://plot.ly\";\n",
       "if (document.getElementById(\"337783e8-972f-468b-8f83-450029f790b4\")) {\n",
       "    Plotly.newPlot(\"337783e8-972f-468b-8f83-450029f790b4\", [{\"marker\": {\"color\": [\"rgb(213,62,79)\", \"rgb(252,141,89)\", \"rgb(254,224,139)\", \"rgb(230,245,152)\", \"rgb(153,213,148)\", \"rgb(50,136,189)\"]}, \"x\": [0, 1], \"y\": [67, 129], \"type\": \"bar\", \"uid\": \"006ca839-852d-4396-8b85-e81757e06363\"}], {\"bargap\": 0.2, \"xaxis\": {\"ticktext\": [\"No\", \"S\\u00ed\"], \"tickvals\": [0, 1]}}, {\"showLink\": false, \"linkText\": \"Export to plot.ly\", \"plotlyServerURL\": \"https://plot.ly\"}); \n",
       "}\n",
       "});</script><script type=\"text/javascript\">window.addEventListener(\"resize\", function(){if (document.getElementById(\"337783e8-972f-468b-8f83-450029f790b4\")) {window._Plotly.Plots.resize(document.getElementById(\"337783e8-972f-468b-8f83-450029f790b4\"));};})</script>"
      ]
     },
     "metadata": {},
     "output_type": "display_data"
    },
    {
     "name": "stdout",
     "output_type": "stream",
     "text": [
      "\n",
      "\n",
      "Cluster 2 || variable: ¿Qué tipo de aplicaciones utilizas en tu ordenador/tableta/móvil? (Respuesta múltiple) [5. Aplicaciones de vídeo (Youtube, Vimeo, etc.).]\n",
      "Describiendo la pregunta ¿Qué tipo de aplicaciones utilizas en tu ordenador/tableta/móvil? (Respuesta múltiple) [5. Aplicaciones de vídeo (Youtube, Vimeo, etc.).]\n",
      "Valores numéricos asociados a las respuestas [0, 1]\n",
      "Respuestas posibles a la pregunta/variable ['No', 'Sí']\n"
     ]
    },
    {
     "data": {
      "text/plain": [
       "count    196.000000\n",
       "mean       0.545918\n",
       "std        0.499162\n",
       "min        0.000000\n",
       "25%        0.000000\n",
       "50%        1.000000\n",
       "75%        1.000000\n",
       "max        1.000000\n",
       "Name: ¿Qué tipo de aplicaciones utilizas en tu ordenador/tableta/móvil? (Respuesta múltiple) [5. Aplicaciones de vídeo (Youtube, Vimeo, etc.).], dtype: float64"
      ]
     },
     "metadata": {},
     "output_type": "display_data"
    },
    {
     "name": "stdout",
     "output_type": "stream",
     "text": [
      "Conteo de cada valor en ¿Qué tipo de aplicaciones utilizas en tu ordenador/tableta/móvil? (Respuesta múltiple) [5. Aplicaciones de vídeo (Youtube, Vimeo, etc.).] expresada como valor / cantidad\n"
     ]
    },
    {
     "data": {
      "text/plain": [
       "0     89\n",
       "1    107\n",
       "Name: ¿Qué tipo de aplicaciones utilizas en tu ordenador/tableta/móvil? (Respuesta múltiple) [5. Aplicaciones de vídeo (Youtube, Vimeo, etc.).], dtype: int64"
      ]
     },
     "metadata": {},
     "output_type": "display_data"
    },
    {
     "name": "stdout",
     "output_type": "stream",
     "text": [
      "Porcentaje de cada valor en ¿Qué tipo de aplicaciones utilizas en tu ordenador/tableta/móvil? (Respuesta múltiple) [5. Aplicaciones de vídeo (Youtube, Vimeo, etc.).] expresado como valor / porcentaje\n"
     ]
    },
    {
     "data": {
      "text/plain": [
       "0    45.41\n",
       "1    54.59\n",
       "Name: ¿Qué tipo de aplicaciones utilizas en tu ordenador/tableta/móvil? (Respuesta múltiple) [5. Aplicaciones de vídeo (Youtube, Vimeo, etc.).], dtype: float64"
      ]
     },
     "metadata": {},
     "output_type": "display_data"
    },
    {
     "data": {
      "application/vnd.plotly.v1+json": {
       "config": {
        "linkText": "Export to plot.ly",
        "plotlyServerURL": "https://plot.ly",
        "showLink": false
       },
       "data": [
        {
         "marker": {
          "color": [
           "rgb(213,62,79)",
           "rgb(252,141,89)",
           "rgb(254,224,139)",
           "rgb(230,245,152)",
           "rgb(153,213,148)",
           "rgb(50,136,189)"
          ]
         },
         "type": "bar",
         "uid": "313587c1-29a7-4961-91a1-1a7aeb247afd",
         "x": [
          0,
          1
         ],
         "y": [
          89,
          107
         ]
        }
       ],
       "layout": {
        "bargap": 0.2,
        "xaxis": {
         "ticktext": [
          "No",
          "Sí"
         ],
         "tickvals": [
          0,
          1
         ]
        }
       }
      },
      "text/html": [
       "<div id=\"ea224cf4-e278-485c-b871-33fdaae6de97\" style=\"height: 525px; width: 100%;\" class=\"plotly-graph-div\"></div><script type=\"text/javascript\">require([\"plotly\"], function(Plotly) { window.PLOTLYENV=window.PLOTLYENV || {};window.PLOTLYENV.BASE_URL=\"https://plot.ly\";\n",
       "if (document.getElementById(\"ea224cf4-e278-485c-b871-33fdaae6de97\")) {\n",
       "    Plotly.newPlot(\"ea224cf4-e278-485c-b871-33fdaae6de97\", [{\"marker\": {\"color\": [\"rgb(213,62,79)\", \"rgb(252,141,89)\", \"rgb(254,224,139)\", \"rgb(230,245,152)\", \"rgb(153,213,148)\", \"rgb(50,136,189)\"]}, \"x\": [0, 1], \"y\": [89, 107], \"type\": \"bar\", \"uid\": \"313587c1-29a7-4961-91a1-1a7aeb247afd\"}], {\"bargap\": 0.2, \"xaxis\": {\"ticktext\": [\"No\", \"S\\u00ed\"], \"tickvals\": [0, 1]}}, {\"showLink\": false, \"linkText\": \"Export to plot.ly\", \"plotlyServerURL\": \"https://plot.ly\"}); \n",
       "}\n",
       "});</script><script type=\"text/javascript\">window.addEventListener(\"resize\", function(){if (document.getElementById(\"ea224cf4-e278-485c-b871-33fdaae6de97\")) {window._Plotly.Plots.resize(document.getElementById(\"ea224cf4-e278-485c-b871-33fdaae6de97\"));};})</script>"
      ],
      "text/vnd.plotly.v1+html": [
       "<div id=\"ea224cf4-e278-485c-b871-33fdaae6de97\" style=\"height: 525px; width: 100%;\" class=\"plotly-graph-div\"></div><script type=\"text/javascript\">require([\"plotly\"], function(Plotly) { window.PLOTLYENV=window.PLOTLYENV || {};window.PLOTLYENV.BASE_URL=\"https://plot.ly\";\n",
       "if (document.getElementById(\"ea224cf4-e278-485c-b871-33fdaae6de97\")) {\n",
       "    Plotly.newPlot(\"ea224cf4-e278-485c-b871-33fdaae6de97\", [{\"marker\": {\"color\": [\"rgb(213,62,79)\", \"rgb(252,141,89)\", \"rgb(254,224,139)\", \"rgb(230,245,152)\", \"rgb(153,213,148)\", \"rgb(50,136,189)\"]}, \"x\": [0, 1], \"y\": [89, 107], \"type\": \"bar\", \"uid\": \"313587c1-29a7-4961-91a1-1a7aeb247afd\"}], {\"bargap\": 0.2, \"xaxis\": {\"ticktext\": [\"No\", \"S\\u00ed\"], \"tickvals\": [0, 1]}}, {\"showLink\": false, \"linkText\": \"Export to plot.ly\", \"plotlyServerURL\": \"https://plot.ly\"}); \n",
       "}\n",
       "});</script><script type=\"text/javascript\">window.addEventListener(\"resize\", function(){if (document.getElementById(\"ea224cf4-e278-485c-b871-33fdaae6de97\")) {window._Plotly.Plots.resize(document.getElementById(\"ea224cf4-e278-485c-b871-33fdaae6de97\"));};})</script>"
      ]
     },
     "metadata": {},
     "output_type": "display_data"
    },
    {
     "name": "stdout",
     "output_type": "stream",
     "text": [
      "\n",
      "\n",
      "Cluster 2 || variable: ¿Qué tipo de aplicaciones utilizas en tu ordenador/tableta/móvil? (Respuesta múltiple) [Otro]\n",
      "Describiendo la pregunta ¿Qué tipo de aplicaciones utilizas en tu ordenador/tableta/móvil? (Respuesta múltiple) [Otro]\n",
      "\n",
      "\n",
      "Cluster 2 || variable: Durante ese uso, ¿cuántas imágenes consumes (ves y compartes)?\n",
      "Describiendo la pregunta Durante ese uso, ¿cuántas imágenes consumes (ves y compartes)?\n",
      "Valores numéricos asociados a las respuestas [1, 2, 3, 4, 5]\n",
      "Respuestas posibles a la pregunta/variable ['1. Ninguna', '2. Pocas', '3. Ni muchas ni pocas', '4. Bastantes', '5. Recibo y envio imágenes de forma constante']\n"
     ]
    },
    {
     "data": {
      "text/plain": [
       "count    196.000000\n",
       "mean       3.316327\n",
       "std        0.993279\n",
       "min        1.000000\n",
       "25%        3.000000\n",
       "50%        3.000000\n",
       "75%        4.000000\n",
       "max        5.000000\n",
       "Name: Durante ese uso, ¿cuántas imágenes consumes (ves y compartes)?, dtype: float64"
      ]
     },
     "metadata": {},
     "output_type": "display_data"
    },
    {
     "name": "stdout",
     "output_type": "stream",
     "text": [
      "Conteo de cada valor en Durante ese uso, ¿cuántas imágenes consumes (ves y compartes)? expresada como valor / cantidad\n"
     ]
    },
    {
     "data": {
      "text/plain": [
       "1     6\n",
       "2    39\n",
       "3    56\n",
       "4    77\n",
       "5    18\n",
       "Name: Durante ese uso, ¿cuántas imágenes consumes (ves y compartes)?, dtype: int64"
      ]
     },
     "metadata": {},
     "output_type": "display_data"
    },
    {
     "name": "stdout",
     "output_type": "stream",
     "text": [
      "Porcentaje de cada valor en Durante ese uso, ¿cuántas imágenes consumes (ves y compartes)? expresado como valor / porcentaje\n"
     ]
    },
    {
     "data": {
      "text/plain": [
       "1     3.06\n",
       "2    19.90\n",
       "3    28.57\n",
       "4    39.29\n",
       "5     9.18\n",
       "Name: Durante ese uso, ¿cuántas imágenes consumes (ves y compartes)?, dtype: float64"
      ]
     },
     "metadata": {},
     "output_type": "display_data"
    },
    {
     "data": {
      "application/vnd.plotly.v1+json": {
       "config": {
        "linkText": "Export to plot.ly",
        "plotlyServerURL": "https://plot.ly",
        "showLink": false
       },
       "data": [
        {
         "marker": {
          "color": [
           "rgb(213,62,79)",
           "rgb(252,141,89)",
           "rgb(254,224,139)",
           "rgb(230,245,152)",
           "rgb(153,213,148)",
           "rgb(50,136,189)"
          ]
         },
         "type": "bar",
         "uid": "10750e8b-0b43-4835-a139-d051e964f623",
         "x": [
          1,
          2,
          3,
          4,
          5
         ],
         "y": [
          6,
          39,
          56,
          77,
          18
         ]
        }
       ],
       "layout": {
        "bargap": 0.2,
        "xaxis": {
         "ticktext": [
          "1. Ninguna",
          "2. Pocas",
          "3. Ni muchas ni pocas",
          "4. Bastantes",
          "5. Recibo y envio imágenes de forma constante"
         ],
         "tickvals": [
          1,
          2,
          3,
          4,
          5
         ]
        }
       }
      },
      "text/html": [
       "<div id=\"12b9e3c8-4b0f-491a-96b4-bf6cfaa2ea7b\" style=\"height: 525px; width: 100%;\" class=\"plotly-graph-div\"></div><script type=\"text/javascript\">require([\"plotly\"], function(Plotly) { window.PLOTLYENV=window.PLOTLYENV || {};window.PLOTLYENV.BASE_URL=\"https://plot.ly\";\n",
       "if (document.getElementById(\"12b9e3c8-4b0f-491a-96b4-bf6cfaa2ea7b\")) {\n",
       "    Plotly.newPlot(\"12b9e3c8-4b0f-491a-96b4-bf6cfaa2ea7b\", [{\"marker\": {\"color\": [\"rgb(213,62,79)\", \"rgb(252,141,89)\", \"rgb(254,224,139)\", \"rgb(230,245,152)\", \"rgb(153,213,148)\", \"rgb(50,136,189)\"]}, \"x\": [1, 2, 3, 4, 5], \"y\": [6, 39, 56, 77, 18], \"type\": \"bar\", \"uid\": \"10750e8b-0b43-4835-a139-d051e964f623\"}], {\"bargap\": 0.2, \"xaxis\": {\"ticktext\": [\"1. Ninguna\", \"2. Pocas\", \"3. Ni muchas ni pocas\", \"4. Bastantes\", \"5. Recibo y envio im\\u00e1genes de forma constante\"], \"tickvals\": [1, 2, 3, 4, 5]}}, {\"showLink\": false, \"linkText\": \"Export to plot.ly\", \"plotlyServerURL\": \"https://plot.ly\"}); \n",
       "}\n",
       "});</script><script type=\"text/javascript\">window.addEventListener(\"resize\", function(){if (document.getElementById(\"12b9e3c8-4b0f-491a-96b4-bf6cfaa2ea7b\")) {window._Plotly.Plots.resize(document.getElementById(\"12b9e3c8-4b0f-491a-96b4-bf6cfaa2ea7b\"));};})</script>"
      ],
      "text/vnd.plotly.v1+html": [
       "<div id=\"12b9e3c8-4b0f-491a-96b4-bf6cfaa2ea7b\" style=\"height: 525px; width: 100%;\" class=\"plotly-graph-div\"></div><script type=\"text/javascript\">require([\"plotly\"], function(Plotly) { window.PLOTLYENV=window.PLOTLYENV || {};window.PLOTLYENV.BASE_URL=\"https://plot.ly\";\n",
       "if (document.getElementById(\"12b9e3c8-4b0f-491a-96b4-bf6cfaa2ea7b\")) {\n",
       "    Plotly.newPlot(\"12b9e3c8-4b0f-491a-96b4-bf6cfaa2ea7b\", [{\"marker\": {\"color\": [\"rgb(213,62,79)\", \"rgb(252,141,89)\", \"rgb(254,224,139)\", \"rgb(230,245,152)\", \"rgb(153,213,148)\", \"rgb(50,136,189)\"]}, \"x\": [1, 2, 3, 4, 5], \"y\": [6, 39, 56, 77, 18], \"type\": \"bar\", \"uid\": \"10750e8b-0b43-4835-a139-d051e964f623\"}], {\"bargap\": 0.2, \"xaxis\": {\"ticktext\": [\"1. Ninguna\", \"2. Pocas\", \"3. Ni muchas ni pocas\", \"4. Bastantes\", \"5. Recibo y envio im\\u00e1genes de forma constante\"], \"tickvals\": [1, 2, 3, 4, 5]}}, {\"showLink\": false, \"linkText\": \"Export to plot.ly\", \"plotlyServerURL\": \"https://plot.ly\"}); \n",
       "}\n",
       "});</script><script type=\"text/javascript\">window.addEventListener(\"resize\", function(){if (document.getElementById(\"12b9e3c8-4b0f-491a-96b4-bf6cfaa2ea7b\")) {window._Plotly.Plots.resize(document.getElementById(\"12b9e3c8-4b0f-491a-96b4-bf6cfaa2ea7b\"));};})</script>"
      ]
     },
     "metadata": {},
     "output_type": "display_data"
    },
    {
     "name": "stdout",
     "output_type": "stream",
     "text": [
      "\n",
      "\n",
      "Cluster 2 || variable: ¿Cuál es tu herramienta habitual de consumo de imágenes?\n",
      "Describiendo la pregunta ¿Cuál es tu herramienta habitual de consumo de imágenes?\n",
      "Valores numéricos asociados a las respuestas [1, 2, 3, 4, 5]\n",
      "Respuestas posibles a la pregunta/variable ['1. Móvil', '2. Televisión', '3. Ordenador', '4. Tableta', '5. Otros (Libros y periódicos en papel, marquesinas, museos...)']\n"
     ]
    },
    {
     "data": {
      "text/plain": [
       "count    196.000000\n",
       "mean       1.704082\n",
       "std        0.989267\n",
       "min        1.000000\n",
       "25%        1.000000\n",
       "50%        1.000000\n",
       "75%        3.000000\n",
       "max        5.000000\n",
       "Name: ¿Cuál es tu herramienta habitual de consumo de imágenes?, dtype: float64"
      ]
     },
     "metadata": {},
     "output_type": "display_data"
    },
    {
     "name": "stdout",
     "output_type": "stream",
     "text": [
      "Conteo de cada valor en ¿Cuál es tu herramienta habitual de consumo de imágenes? expresada como valor / cantidad\n"
     ]
    },
    {
     "data": {
      "text/plain": [
       "1    124\n",
       "2     14\n",
       "3     51\n",
       "4      6\n",
       "5      1\n",
       "Name: ¿Cuál es tu herramienta habitual de consumo de imágenes?, dtype: int64"
      ]
     },
     "metadata": {},
     "output_type": "display_data"
    },
    {
     "name": "stdout",
     "output_type": "stream",
     "text": [
      "Porcentaje de cada valor en ¿Cuál es tu herramienta habitual de consumo de imágenes? expresado como valor / porcentaje\n"
     ]
    },
    {
     "data": {
      "text/plain": [
       "1    63.27\n",
       "2     7.14\n",
       "3    26.02\n",
       "4     3.06\n",
       "5     0.51\n",
       "Name: ¿Cuál es tu herramienta habitual de consumo de imágenes?, dtype: float64"
      ]
     },
     "metadata": {},
     "output_type": "display_data"
    },
    {
     "data": {
      "application/vnd.plotly.v1+json": {
       "config": {
        "linkText": "Export to plot.ly",
        "plotlyServerURL": "https://plot.ly",
        "showLink": false
       },
       "data": [
        {
         "marker": {
          "color": [
           "rgb(213,62,79)",
           "rgb(252,141,89)",
           "rgb(254,224,139)",
           "rgb(230,245,152)",
           "rgb(153,213,148)",
           "rgb(50,136,189)"
          ]
         },
         "type": "bar",
         "uid": "9c597fd4-0257-4a79-b493-9e89cf09cdd3",
         "x": [
          1,
          2,
          3,
          4,
          5
         ],
         "y": [
          124,
          14,
          51,
          6,
          1
         ]
        }
       ],
       "layout": {
        "bargap": 0.2,
        "xaxis": {
         "ticktext": [
          "1. Móvil",
          "2. Televisión",
          "3. Ordenador",
          "4. Tableta",
          "5. Otros (Libros y periódicos en papel, marquesinas, museos...)"
         ],
         "tickvals": [
          1,
          2,
          3,
          4,
          5
         ]
        }
       }
      },
      "text/html": [
       "<div id=\"73bf9906-6eeb-411a-96e0-71e5d956d723\" style=\"height: 525px; width: 100%;\" class=\"plotly-graph-div\"></div><script type=\"text/javascript\">require([\"plotly\"], function(Plotly) { window.PLOTLYENV=window.PLOTLYENV || {};window.PLOTLYENV.BASE_URL=\"https://plot.ly\";\n",
       "if (document.getElementById(\"73bf9906-6eeb-411a-96e0-71e5d956d723\")) {\n",
       "    Plotly.newPlot(\"73bf9906-6eeb-411a-96e0-71e5d956d723\", [{\"marker\": {\"color\": [\"rgb(213,62,79)\", \"rgb(252,141,89)\", \"rgb(254,224,139)\", \"rgb(230,245,152)\", \"rgb(153,213,148)\", \"rgb(50,136,189)\"]}, \"x\": [1, 2, 3, 4, 5], \"y\": [124, 14, 51, 6, 1], \"type\": \"bar\", \"uid\": \"9c597fd4-0257-4a79-b493-9e89cf09cdd3\"}], {\"bargap\": 0.2, \"xaxis\": {\"ticktext\": [\"1. M\\u00f3vil\", \"2. Televisi\\u00f3n\", \"3. Ordenador\", \"4. Tableta\", \"5. Otros (Libros y peri\\u00f3dicos en papel, marquesinas, museos...)\"], \"tickvals\": [1, 2, 3, 4, 5]}}, {\"showLink\": false, \"linkText\": \"Export to plot.ly\", \"plotlyServerURL\": \"https://plot.ly\"}); \n",
       "}\n",
       "});</script><script type=\"text/javascript\">window.addEventListener(\"resize\", function(){if (document.getElementById(\"73bf9906-6eeb-411a-96e0-71e5d956d723\")) {window._Plotly.Plots.resize(document.getElementById(\"73bf9906-6eeb-411a-96e0-71e5d956d723\"));};})</script>"
      ],
      "text/vnd.plotly.v1+html": [
       "<div id=\"73bf9906-6eeb-411a-96e0-71e5d956d723\" style=\"height: 525px; width: 100%;\" class=\"plotly-graph-div\"></div><script type=\"text/javascript\">require([\"plotly\"], function(Plotly) { window.PLOTLYENV=window.PLOTLYENV || {};window.PLOTLYENV.BASE_URL=\"https://plot.ly\";\n",
       "if (document.getElementById(\"73bf9906-6eeb-411a-96e0-71e5d956d723\")) {\n",
       "    Plotly.newPlot(\"73bf9906-6eeb-411a-96e0-71e5d956d723\", [{\"marker\": {\"color\": [\"rgb(213,62,79)\", \"rgb(252,141,89)\", \"rgb(254,224,139)\", \"rgb(230,245,152)\", \"rgb(153,213,148)\", \"rgb(50,136,189)\"]}, \"x\": [1, 2, 3, 4, 5], \"y\": [124, 14, 51, 6, 1], \"type\": \"bar\", \"uid\": \"9c597fd4-0257-4a79-b493-9e89cf09cdd3\"}], {\"bargap\": 0.2, \"xaxis\": {\"ticktext\": [\"1. M\\u00f3vil\", \"2. Televisi\\u00f3n\", \"3. Ordenador\", \"4. Tableta\", \"5. Otros (Libros y peri\\u00f3dicos en papel, marquesinas, museos...)\"], \"tickvals\": [1, 2, 3, 4, 5]}}, {\"showLink\": false, \"linkText\": \"Export to plot.ly\", \"plotlyServerURL\": \"https://plot.ly\"}); \n",
       "}\n",
       "});</script><script type=\"text/javascript\">window.addEventListener(\"resize\", function(){if (document.getElementById(\"73bf9906-6eeb-411a-96e0-71e5d956d723\")) {window._Plotly.Plots.resize(document.getElementById(\"73bf9906-6eeb-411a-96e0-71e5d956d723\"));};})</script>"
      ]
     },
     "metadata": {},
     "output_type": "display_data"
    },
    {
     "name": "stdout",
     "output_type": "stream",
     "text": [
      "\n",
      "\n",
      "Cluster 2 || variable: ¿Cada cuánto tiempo consumes imágenes?\n",
      "Describiendo la pregunta ¿Cada cuánto tiempo consumes imágenes?\n",
      "Valores numéricos asociados a las respuestas [1, 2, 3, 4]\n",
      "Respuestas posibles a la pregunta/variable ['1. Nunca', '2. Dos o tres veces por semana', '3. Casi todos los días', '4. A diario']\n"
     ]
    },
    {
     "data": {
      "text/plain": [
       "count    196.000000\n",
       "mean       2.979592\n",
       "std        0.899910\n",
       "min        1.000000\n",
       "25%        2.000000\n",
       "50%        3.000000\n",
       "75%        4.000000\n",
       "max        4.000000\n",
       "Name: ¿Cada cuánto tiempo consumes imágenes?, dtype: float64"
      ]
     },
     "metadata": {},
     "output_type": "display_data"
    },
    {
     "name": "stdout",
     "output_type": "stream",
     "text": [
      "Conteo de cada valor en ¿Cada cuánto tiempo consumes imágenes? expresada como valor / cantidad\n"
     ]
    },
    {
     "data": {
      "text/plain": [
       "1    10\n",
       "2    51\n",
       "3    68\n",
       "4    67\n",
       "Name: ¿Cada cuánto tiempo consumes imágenes?, dtype: int64"
      ]
     },
     "metadata": {},
     "output_type": "display_data"
    },
    {
     "name": "stdout",
     "output_type": "stream",
     "text": [
      "Porcentaje de cada valor en ¿Cada cuánto tiempo consumes imágenes? expresado como valor / porcentaje\n"
     ]
    },
    {
     "data": {
      "text/plain": [
       "1     5.10\n",
       "2    26.02\n",
       "3    34.69\n",
       "4    34.18\n",
       "Name: ¿Cada cuánto tiempo consumes imágenes?, dtype: float64"
      ]
     },
     "metadata": {},
     "output_type": "display_data"
    },
    {
     "data": {
      "application/vnd.plotly.v1+json": {
       "config": {
        "linkText": "Export to plot.ly",
        "plotlyServerURL": "https://plot.ly",
        "showLink": false
       },
       "data": [
        {
         "marker": {
          "color": [
           "rgb(213,62,79)",
           "rgb(252,141,89)",
           "rgb(254,224,139)",
           "rgb(230,245,152)",
           "rgb(153,213,148)",
           "rgb(50,136,189)"
          ]
         },
         "type": "bar",
         "uid": "c8500fbb-d47a-42c9-b18c-ac82e19e5e75",
         "x": [
          1,
          2,
          3,
          4
         ],
         "y": [
          10,
          51,
          68,
          67
         ]
        }
       ],
       "layout": {
        "bargap": 0.2,
        "xaxis": {
         "ticktext": [
          "1. Nunca",
          "2. Dos o tres veces por semana",
          "3. Casi todos los días",
          "4. A diario"
         ],
         "tickvals": [
          1,
          2,
          3,
          4
         ]
        }
       }
      },
      "text/html": [
       "<div id=\"ab6a51fd-bb9d-4be0-9191-b4887f60d98d\" style=\"height: 525px; width: 100%;\" class=\"plotly-graph-div\"></div><script type=\"text/javascript\">require([\"plotly\"], function(Plotly) { window.PLOTLYENV=window.PLOTLYENV || {};window.PLOTLYENV.BASE_URL=\"https://plot.ly\";\n",
       "if (document.getElementById(\"ab6a51fd-bb9d-4be0-9191-b4887f60d98d\")) {\n",
       "    Plotly.newPlot(\"ab6a51fd-bb9d-4be0-9191-b4887f60d98d\", [{\"marker\": {\"color\": [\"rgb(213,62,79)\", \"rgb(252,141,89)\", \"rgb(254,224,139)\", \"rgb(230,245,152)\", \"rgb(153,213,148)\", \"rgb(50,136,189)\"]}, \"x\": [1, 2, 3, 4], \"y\": [10, 51, 68, 67], \"type\": \"bar\", \"uid\": \"c8500fbb-d47a-42c9-b18c-ac82e19e5e75\"}], {\"bargap\": 0.2, \"xaxis\": {\"ticktext\": [\"1. Nunca\", \"2. Dos o tres veces por semana\", \"3. Casi todos los d\\u00edas\", \"4. A diario\"], \"tickvals\": [1, 2, 3, 4]}}, {\"showLink\": false, \"linkText\": \"Export to plot.ly\", \"plotlyServerURL\": \"https://plot.ly\"}); \n",
       "}\n",
       "});</script><script type=\"text/javascript\">window.addEventListener(\"resize\", function(){if (document.getElementById(\"ab6a51fd-bb9d-4be0-9191-b4887f60d98d\")) {window._Plotly.Plots.resize(document.getElementById(\"ab6a51fd-bb9d-4be0-9191-b4887f60d98d\"));};})</script>"
      ],
      "text/vnd.plotly.v1+html": [
       "<div id=\"ab6a51fd-bb9d-4be0-9191-b4887f60d98d\" style=\"height: 525px; width: 100%;\" class=\"plotly-graph-div\"></div><script type=\"text/javascript\">require([\"plotly\"], function(Plotly) { window.PLOTLYENV=window.PLOTLYENV || {};window.PLOTLYENV.BASE_URL=\"https://plot.ly\";\n",
       "if (document.getElementById(\"ab6a51fd-bb9d-4be0-9191-b4887f60d98d\")) {\n",
       "    Plotly.newPlot(\"ab6a51fd-bb9d-4be0-9191-b4887f60d98d\", [{\"marker\": {\"color\": [\"rgb(213,62,79)\", \"rgb(252,141,89)\", \"rgb(254,224,139)\", \"rgb(230,245,152)\", \"rgb(153,213,148)\", \"rgb(50,136,189)\"]}, \"x\": [1, 2, 3, 4], \"y\": [10, 51, 68, 67], \"type\": \"bar\", \"uid\": \"c8500fbb-d47a-42c9-b18c-ac82e19e5e75\"}], {\"bargap\": 0.2, \"xaxis\": {\"ticktext\": [\"1. Nunca\", \"2. Dos o tres veces por semana\", \"3. Casi todos los d\\u00edas\", \"4. A diario\"], \"tickvals\": [1, 2, 3, 4]}}, {\"showLink\": false, \"linkText\": \"Export to plot.ly\", \"plotlyServerURL\": \"https://plot.ly\"}); \n",
       "}\n",
       "});</script><script type=\"text/javascript\">window.addEventListener(\"resize\", function(){if (document.getElementById(\"ab6a51fd-bb9d-4be0-9191-b4887f60d98d\")) {window._Plotly.Plots.resize(document.getElementById(\"ab6a51fd-bb9d-4be0-9191-b4887f60d98d\"));};})</script>"
      ]
     },
     "metadata": {},
     "output_type": "display_data"
    },
    {
     "name": "stdout",
     "output_type": "stream",
     "text": [
      "\n",
      "\n",
      "Cluster 4 || variable: Clasifica tu grado de visión\n",
      "Describiendo la pregunta Clasifica tu grado de visión\n",
      "Valores numéricos asociados a las respuestas [1, 2, 3, 4, 5]\n",
      "Respuestas posibles a la pregunta/variable ['1. Muy malo', '2. Malo', '3. Regular', '4. Bueno', '5. Muy bueno']\n"
     ]
    },
    {
     "data": {
      "text/plain": [
       "count    98.000000\n",
       "mean      3.551020\n",
       "std       1.056374\n",
       "min       1.000000\n",
       "25%       3.000000\n",
       "50%       4.000000\n",
       "75%       4.000000\n",
       "max       5.000000\n",
       "Name: Clasifica tu grado de visión, dtype: float64"
      ]
     },
     "metadata": {},
     "output_type": "display_data"
    },
    {
     "name": "stdout",
     "output_type": "stream",
     "text": [
      "Conteo de cada valor en Clasifica tu grado de visión expresada como valor / cantidad\n"
     ]
    },
    {
     "data": {
      "text/plain": [
       "1     2\n",
       "2    16\n",
       "3    26\n",
       "4    34\n",
       "5    20\n",
       "Name: Clasifica tu grado de visión, dtype: int64"
      ]
     },
     "metadata": {},
     "output_type": "display_data"
    },
    {
     "name": "stdout",
     "output_type": "stream",
     "text": [
      "Porcentaje de cada valor en Clasifica tu grado de visión expresado como valor / porcentaje\n"
     ]
    },
    {
     "data": {
      "text/plain": [
       "1     2.04\n",
       "2    16.33\n",
       "3    26.53\n",
       "4    34.69\n",
       "5    20.41\n",
       "Name: Clasifica tu grado de visión, dtype: float64"
      ]
     },
     "metadata": {},
     "output_type": "display_data"
    },
    {
     "data": {
      "application/vnd.plotly.v1+json": {
       "config": {
        "linkText": "Export to plot.ly",
        "plotlyServerURL": "https://plot.ly",
        "showLink": false
       },
       "data": [
        {
         "marker": {
          "color": [
           "rgb(213,62,79)",
           "rgb(252,141,89)",
           "rgb(254,224,139)",
           "rgb(230,245,152)",
           "rgb(153,213,148)",
           "rgb(50,136,189)"
          ]
         },
         "type": "bar",
         "uid": "07a4334a-21cd-4903-9141-7f049c7fe649",
         "x": [
          1,
          2,
          3,
          4,
          5
         ],
         "y": [
          2,
          16,
          26,
          34,
          20
         ]
        }
       ],
       "layout": {
        "bargap": 0.2,
        "xaxis": {
         "ticktext": [
          "1. Muy malo",
          "2. Malo",
          "3. Regular",
          "4. Bueno",
          "5. Muy bueno"
         ],
         "tickvals": [
          1,
          2,
          3,
          4,
          5
         ]
        }
       }
      },
      "text/html": [
       "<div id=\"e8467589-88c4-45cb-969a-99c67eab7c54\" style=\"height: 525px; width: 100%;\" class=\"plotly-graph-div\"></div><script type=\"text/javascript\">require([\"plotly\"], function(Plotly) { window.PLOTLYENV=window.PLOTLYENV || {};window.PLOTLYENV.BASE_URL=\"https://plot.ly\";\n",
       "if (document.getElementById(\"e8467589-88c4-45cb-969a-99c67eab7c54\")) {\n",
       "    Plotly.newPlot(\"e8467589-88c4-45cb-969a-99c67eab7c54\", [{\"marker\": {\"color\": [\"rgb(213,62,79)\", \"rgb(252,141,89)\", \"rgb(254,224,139)\", \"rgb(230,245,152)\", \"rgb(153,213,148)\", \"rgb(50,136,189)\"]}, \"x\": [1, 2, 3, 4, 5], \"y\": [2, 16, 26, 34, 20], \"type\": \"bar\", \"uid\": \"07a4334a-21cd-4903-9141-7f049c7fe649\"}], {\"bargap\": 0.2, \"xaxis\": {\"ticktext\": [\"1. Muy malo\", \"2. Malo\", \"3. Regular\", \"4. Bueno\", \"5. Muy bueno\"], \"tickvals\": [1, 2, 3, 4, 5]}}, {\"showLink\": false, \"linkText\": \"Export to plot.ly\", \"plotlyServerURL\": \"https://plot.ly\"}); \n",
       "}\n",
       "});</script><script type=\"text/javascript\">window.addEventListener(\"resize\", function(){if (document.getElementById(\"e8467589-88c4-45cb-969a-99c67eab7c54\")) {window._Plotly.Plots.resize(document.getElementById(\"e8467589-88c4-45cb-969a-99c67eab7c54\"));};})</script>"
      ],
      "text/vnd.plotly.v1+html": [
       "<div id=\"e8467589-88c4-45cb-969a-99c67eab7c54\" style=\"height: 525px; width: 100%;\" class=\"plotly-graph-div\"></div><script type=\"text/javascript\">require([\"plotly\"], function(Plotly) { window.PLOTLYENV=window.PLOTLYENV || {};window.PLOTLYENV.BASE_URL=\"https://plot.ly\";\n",
       "if (document.getElementById(\"e8467589-88c4-45cb-969a-99c67eab7c54\")) {\n",
       "    Plotly.newPlot(\"e8467589-88c4-45cb-969a-99c67eab7c54\", [{\"marker\": {\"color\": [\"rgb(213,62,79)\", \"rgb(252,141,89)\", \"rgb(254,224,139)\", \"rgb(230,245,152)\", \"rgb(153,213,148)\", \"rgb(50,136,189)\"]}, \"x\": [1, 2, 3, 4, 5], \"y\": [2, 16, 26, 34, 20], \"type\": \"bar\", \"uid\": \"07a4334a-21cd-4903-9141-7f049c7fe649\"}], {\"bargap\": 0.2, \"xaxis\": {\"ticktext\": [\"1. Muy malo\", \"2. Malo\", \"3. Regular\", \"4. Bueno\", \"5. Muy bueno\"], \"tickvals\": [1, 2, 3, 4, 5]}}, {\"showLink\": false, \"linkText\": \"Export to plot.ly\", \"plotlyServerURL\": \"https://plot.ly\"}); \n",
       "}\n",
       "});</script><script type=\"text/javascript\">window.addEventListener(\"resize\", function(){if (document.getElementById(\"e8467589-88c4-45cb-969a-99c67eab7c54\")) {window._Plotly.Plots.resize(document.getElementById(\"e8467589-88c4-45cb-969a-99c67eab7c54\"));};})</script>"
      ]
     },
     "metadata": {},
     "output_type": "display_data"
    },
    {
     "name": "stdout",
     "output_type": "stream",
     "text": [
      "\n",
      "\n",
      "Cluster 4 || variable: ¿Utilizas gafas o lentes de contacto?\n",
      "Describiendo la pregunta ¿Utilizas gafas o lentes de contacto?\n",
      "Valores numéricos asociados a las respuestas [0, 1]\n",
      "Respuestas posibles a la pregunta/variable ['No', 'Sí']\n"
     ]
    },
    {
     "data": {
      "text/plain": [
       "count    98.000000\n",
       "mean      0.755102\n",
       "std       0.432238\n",
       "min       0.000000\n",
       "25%       1.000000\n",
       "50%       1.000000\n",
       "75%       1.000000\n",
       "max       1.000000\n",
       "Name: ¿Utilizas gafas o lentes de contacto?, dtype: float64"
      ]
     },
     "metadata": {},
     "output_type": "display_data"
    },
    {
     "name": "stdout",
     "output_type": "stream",
     "text": [
      "Conteo de cada valor en ¿Utilizas gafas o lentes de contacto? expresada como valor / cantidad\n"
     ]
    },
    {
     "data": {
      "text/plain": [
       "0    24\n",
       "1    74\n",
       "Name: ¿Utilizas gafas o lentes de contacto?, dtype: int64"
      ]
     },
     "metadata": {},
     "output_type": "display_data"
    },
    {
     "name": "stdout",
     "output_type": "stream",
     "text": [
      "Porcentaje de cada valor en ¿Utilizas gafas o lentes de contacto? expresado como valor / porcentaje\n"
     ]
    },
    {
     "data": {
      "text/plain": [
       "0    24.49\n",
       "1    75.51\n",
       "Name: ¿Utilizas gafas o lentes de contacto?, dtype: float64"
      ]
     },
     "metadata": {},
     "output_type": "display_data"
    },
    {
     "data": {
      "application/vnd.plotly.v1+json": {
       "config": {
        "linkText": "Export to plot.ly",
        "plotlyServerURL": "https://plot.ly",
        "showLink": false
       },
       "data": [
        {
         "marker": {
          "color": [
           "rgb(213,62,79)",
           "rgb(252,141,89)",
           "rgb(254,224,139)",
           "rgb(230,245,152)",
           "rgb(153,213,148)",
           "rgb(50,136,189)"
          ]
         },
         "type": "bar",
         "uid": "7a9e4bf0-fbc9-4ff9-aaae-4d71d7b84f99",
         "x": [
          0,
          1
         ],
         "y": [
          24,
          74
         ]
        }
       ],
       "layout": {
        "bargap": 0.2,
        "xaxis": {
         "ticktext": [
          "No",
          "Sí"
         ],
         "tickvals": [
          0,
          1
         ]
        }
       }
      },
      "text/html": [
       "<div id=\"8243d2f7-fc2c-48ea-bbfd-fe84e63d406f\" style=\"height: 525px; width: 100%;\" class=\"plotly-graph-div\"></div><script type=\"text/javascript\">require([\"plotly\"], function(Plotly) { window.PLOTLYENV=window.PLOTLYENV || {};window.PLOTLYENV.BASE_URL=\"https://plot.ly\";\n",
       "if (document.getElementById(\"8243d2f7-fc2c-48ea-bbfd-fe84e63d406f\")) {\n",
       "    Plotly.newPlot(\"8243d2f7-fc2c-48ea-bbfd-fe84e63d406f\", [{\"marker\": {\"color\": [\"rgb(213,62,79)\", \"rgb(252,141,89)\", \"rgb(254,224,139)\", \"rgb(230,245,152)\", \"rgb(153,213,148)\", \"rgb(50,136,189)\"]}, \"x\": [0, 1], \"y\": [24, 74], \"type\": \"bar\", \"uid\": \"7a9e4bf0-fbc9-4ff9-aaae-4d71d7b84f99\"}], {\"bargap\": 0.2, \"xaxis\": {\"ticktext\": [\"No\", \"S\\u00ed\"], \"tickvals\": [0, 1]}}, {\"showLink\": false, \"linkText\": \"Export to plot.ly\", \"plotlyServerURL\": \"https://plot.ly\"}); \n",
       "}\n",
       "});</script><script type=\"text/javascript\">window.addEventListener(\"resize\", function(){if (document.getElementById(\"8243d2f7-fc2c-48ea-bbfd-fe84e63d406f\")) {window._Plotly.Plots.resize(document.getElementById(\"8243d2f7-fc2c-48ea-bbfd-fe84e63d406f\"));};})</script>"
      ],
      "text/vnd.plotly.v1+html": [
       "<div id=\"8243d2f7-fc2c-48ea-bbfd-fe84e63d406f\" style=\"height: 525px; width: 100%;\" class=\"plotly-graph-div\"></div><script type=\"text/javascript\">require([\"plotly\"], function(Plotly) { window.PLOTLYENV=window.PLOTLYENV || {};window.PLOTLYENV.BASE_URL=\"https://plot.ly\";\n",
       "if (document.getElementById(\"8243d2f7-fc2c-48ea-bbfd-fe84e63d406f\")) {\n",
       "    Plotly.newPlot(\"8243d2f7-fc2c-48ea-bbfd-fe84e63d406f\", [{\"marker\": {\"color\": [\"rgb(213,62,79)\", \"rgb(252,141,89)\", \"rgb(254,224,139)\", \"rgb(230,245,152)\", \"rgb(153,213,148)\", \"rgb(50,136,189)\"]}, \"x\": [0, 1], \"y\": [24, 74], \"type\": \"bar\", \"uid\": \"7a9e4bf0-fbc9-4ff9-aaae-4d71d7b84f99\"}], {\"bargap\": 0.2, \"xaxis\": {\"ticktext\": [\"No\", \"S\\u00ed\"], \"tickvals\": [0, 1]}}, {\"showLink\": false, \"linkText\": \"Export to plot.ly\", \"plotlyServerURL\": \"https://plot.ly\"}); \n",
       "}\n",
       "});</script><script type=\"text/javascript\">window.addEventListener(\"resize\", function(){if (document.getElementById(\"8243d2f7-fc2c-48ea-bbfd-fe84e63d406f\")) {window._Plotly.Plots.resize(document.getElementById(\"8243d2f7-fc2c-48ea-bbfd-fe84e63d406f\"));};})</script>"
      ]
     },
     "metadata": {},
     "output_type": "display_data"
    },
    {
     "name": "stdout",
     "output_type": "stream",
     "text": [
      "\n",
      "\n",
      "Cluster 4 || variable: ¿Tienes alguna carencia visual que afecte a la recepción de formas, colores, distancias, etc.?\n",
      "Describiendo la pregunta ¿Tienes alguna carencia visual que afecte a la recepción de formas, colores, distancias, etc.?\n",
      "Valores numéricos asociados a las respuestas [0, 1]\n",
      "Respuestas posibles a la pregunta/variable ['No', 'Sí']\n"
     ]
    },
    {
     "data": {
      "text/plain": [
       "count    98.000000\n",
       "mean      0.418367\n",
       "std       0.495827\n",
       "min       0.000000\n",
       "25%       0.000000\n",
       "50%       0.000000\n",
       "75%       1.000000\n",
       "max       1.000000\n",
       "Name: ¿Tienes alguna carencia visual que afecte a la recepción de formas, colores, distancias, etc.?, dtype: float64"
      ]
     },
     "metadata": {},
     "output_type": "display_data"
    },
    {
     "name": "stdout",
     "output_type": "stream",
     "text": [
      "Conteo de cada valor en ¿Tienes alguna carencia visual que afecte a la recepción de formas, colores, distancias, etc.? expresada como valor / cantidad\n"
     ]
    },
    {
     "data": {
      "text/plain": [
       "0    57\n",
       "1    41\n",
       "Name: ¿Tienes alguna carencia visual que afecte a la recepción de formas, colores, distancias, etc.?, dtype: int64"
      ]
     },
     "metadata": {},
     "output_type": "display_data"
    },
    {
     "name": "stdout",
     "output_type": "stream",
     "text": [
      "Porcentaje de cada valor en ¿Tienes alguna carencia visual que afecte a la recepción de formas, colores, distancias, etc.? expresado como valor / porcentaje\n"
     ]
    },
    {
     "data": {
      "text/plain": [
       "0    58.16\n",
       "1    41.84\n",
       "Name: ¿Tienes alguna carencia visual que afecte a la recepción de formas, colores, distancias, etc.?, dtype: float64"
      ]
     },
     "metadata": {},
     "output_type": "display_data"
    },
    {
     "data": {
      "application/vnd.plotly.v1+json": {
       "config": {
        "linkText": "Export to plot.ly",
        "plotlyServerURL": "https://plot.ly",
        "showLink": false
       },
       "data": [
        {
         "marker": {
          "color": [
           "rgb(213,62,79)",
           "rgb(252,141,89)",
           "rgb(254,224,139)",
           "rgb(230,245,152)",
           "rgb(153,213,148)",
           "rgb(50,136,189)"
          ]
         },
         "type": "bar",
         "uid": "ea97bc2f-f24c-4871-a58d-97588817940a",
         "x": [
          0,
          1
         ],
         "y": [
          57,
          41
         ]
        }
       ],
       "layout": {
        "bargap": 0.2,
        "xaxis": {
         "ticktext": [
          "No",
          "Sí"
         ],
         "tickvals": [
          0,
          1
         ]
        }
       }
      },
      "text/html": [
       "<div id=\"4ab0a240-dcc5-44a4-b8db-522205e07355\" style=\"height: 525px; width: 100%;\" class=\"plotly-graph-div\"></div><script type=\"text/javascript\">require([\"plotly\"], function(Plotly) { window.PLOTLYENV=window.PLOTLYENV || {};window.PLOTLYENV.BASE_URL=\"https://plot.ly\";\n",
       "if (document.getElementById(\"4ab0a240-dcc5-44a4-b8db-522205e07355\")) {\n",
       "    Plotly.newPlot(\"4ab0a240-dcc5-44a4-b8db-522205e07355\", [{\"marker\": {\"color\": [\"rgb(213,62,79)\", \"rgb(252,141,89)\", \"rgb(254,224,139)\", \"rgb(230,245,152)\", \"rgb(153,213,148)\", \"rgb(50,136,189)\"]}, \"x\": [0, 1], \"y\": [57, 41], \"type\": \"bar\", \"uid\": \"ea97bc2f-f24c-4871-a58d-97588817940a\"}], {\"bargap\": 0.2, \"xaxis\": {\"ticktext\": [\"No\", \"S\\u00ed\"], \"tickvals\": [0, 1]}}, {\"showLink\": false, \"linkText\": \"Export to plot.ly\", \"plotlyServerURL\": \"https://plot.ly\"}); \n",
       "}\n",
       "});</script><script type=\"text/javascript\">window.addEventListener(\"resize\", function(){if (document.getElementById(\"4ab0a240-dcc5-44a4-b8db-522205e07355\")) {window._Plotly.Plots.resize(document.getElementById(\"4ab0a240-dcc5-44a4-b8db-522205e07355\"));};})</script>"
      ],
      "text/vnd.plotly.v1+html": [
       "<div id=\"4ab0a240-dcc5-44a4-b8db-522205e07355\" style=\"height: 525px; width: 100%;\" class=\"plotly-graph-div\"></div><script type=\"text/javascript\">require([\"plotly\"], function(Plotly) { window.PLOTLYENV=window.PLOTLYENV || {};window.PLOTLYENV.BASE_URL=\"https://plot.ly\";\n",
       "if (document.getElementById(\"4ab0a240-dcc5-44a4-b8db-522205e07355\")) {\n",
       "    Plotly.newPlot(\"4ab0a240-dcc5-44a4-b8db-522205e07355\", [{\"marker\": {\"color\": [\"rgb(213,62,79)\", \"rgb(252,141,89)\", \"rgb(254,224,139)\", \"rgb(230,245,152)\", \"rgb(153,213,148)\", \"rgb(50,136,189)\"]}, \"x\": [0, 1], \"y\": [57, 41], \"type\": \"bar\", \"uid\": \"ea97bc2f-f24c-4871-a58d-97588817940a\"}], {\"bargap\": 0.2, \"xaxis\": {\"ticktext\": [\"No\", \"S\\u00ed\"], \"tickvals\": [0, 1]}}, {\"showLink\": false, \"linkText\": \"Export to plot.ly\", \"plotlyServerURL\": \"https://plot.ly\"}); \n",
       "}\n",
       "});</script><script type=\"text/javascript\">window.addEventListener(\"resize\", function(){if (document.getElementById(\"4ab0a240-dcc5-44a4-b8db-522205e07355\")) {window._Plotly.Plots.resize(document.getElementById(\"4ab0a240-dcc5-44a4-b8db-522205e07355\"));};})</script>"
      ]
     },
     "metadata": {},
     "output_type": "display_data"
    },
    {
     "name": "stdout",
     "output_type": "stream",
     "text": [
      "\n",
      "\n",
      "Cluster 4 || variable: ¿Tienes acceso a dispositivos (ordenador, móvil, tablet, etc.) conectados a Internet habitualmente?\n",
      "Describiendo la pregunta ¿Tienes acceso a dispositivos (ordenador, móvil, tablet, etc.) conectados a Internet habitualmente?\n",
      "Valores numéricos asociados a las respuestas [1, 2, 3, 4, 5]\n",
      "Respuestas posibles a la pregunta/variable ['1. Nunca', '2. Ocasionalmente', '3. Semanalmente', '4. Diariamente', '5. Varias veces al día']\n"
     ]
    },
    {
     "data": {
      "text/plain": [
       "count    98.000000\n",
       "mean      4.897959\n",
       "std       0.304258\n",
       "min       4.000000\n",
       "25%       5.000000\n",
       "50%       5.000000\n",
       "75%       5.000000\n",
       "max       5.000000\n",
       "Name: ¿Tienes acceso a dispositivos (ordenador, móvil, tablet, etc.) conectados a Internet habitualmente?, dtype: float64"
      ]
     },
     "metadata": {},
     "output_type": "display_data"
    },
    {
     "name": "stdout",
     "output_type": "stream",
     "text": [
      "Conteo de cada valor en ¿Tienes acceso a dispositivos (ordenador, móvil, tablet, etc.) conectados a Internet habitualmente? expresada como valor / cantidad\n"
     ]
    },
    {
     "data": {
      "text/plain": [
       "4    10\n",
       "5    88\n",
       "Name: ¿Tienes acceso a dispositivos (ordenador, móvil, tablet, etc.) conectados a Internet habitualmente?, dtype: int64"
      ]
     },
     "metadata": {},
     "output_type": "display_data"
    },
    {
     "name": "stdout",
     "output_type": "stream",
     "text": [
      "Porcentaje de cada valor en ¿Tienes acceso a dispositivos (ordenador, móvil, tablet, etc.) conectados a Internet habitualmente? expresado como valor / porcentaje\n"
     ]
    },
    {
     "data": {
      "text/plain": [
       "4    10.2\n",
       "5    89.8\n",
       "Name: ¿Tienes acceso a dispositivos (ordenador, móvil, tablet, etc.) conectados a Internet habitualmente?, dtype: float64"
      ]
     },
     "metadata": {},
     "output_type": "display_data"
    },
    {
     "data": {
      "application/vnd.plotly.v1+json": {
       "config": {
        "linkText": "Export to plot.ly",
        "plotlyServerURL": "https://plot.ly",
        "showLink": false
       },
       "data": [
        {
         "marker": {
          "color": [
           "rgb(213,62,79)",
           "rgb(252,141,89)",
           "rgb(254,224,139)",
           "rgb(230,245,152)",
           "rgb(153,213,148)",
           "rgb(50,136,189)"
          ]
         },
         "type": "bar",
         "uid": "7653296e-27e5-444c-8b49-8ea878991e3c",
         "x": [
          4,
          5
         ],
         "y": [
          10,
          88
         ]
        }
       ],
       "layout": {
        "bargap": 0.2,
        "xaxis": {
         "ticktext": [
          "1. Nunca",
          "2. Ocasionalmente",
          "3. Semanalmente",
          "4. Diariamente",
          "5. Varias veces al día"
         ],
         "tickvals": [
          1,
          2,
          3,
          4,
          5
         ]
        }
       }
      },
      "text/html": [
       "<div id=\"bc524088-5e99-4be8-a2a2-cc2bad4cbd6e\" style=\"height: 525px; width: 100%;\" class=\"plotly-graph-div\"></div><script type=\"text/javascript\">require([\"plotly\"], function(Plotly) { window.PLOTLYENV=window.PLOTLYENV || {};window.PLOTLYENV.BASE_URL=\"https://plot.ly\";\n",
       "if (document.getElementById(\"bc524088-5e99-4be8-a2a2-cc2bad4cbd6e\")) {\n",
       "    Plotly.newPlot(\"bc524088-5e99-4be8-a2a2-cc2bad4cbd6e\", [{\"marker\": {\"color\": [\"rgb(213,62,79)\", \"rgb(252,141,89)\", \"rgb(254,224,139)\", \"rgb(230,245,152)\", \"rgb(153,213,148)\", \"rgb(50,136,189)\"]}, \"x\": [4, 5], \"y\": [10, 88], \"type\": \"bar\", \"uid\": \"7653296e-27e5-444c-8b49-8ea878991e3c\"}], {\"bargap\": 0.2, \"xaxis\": {\"ticktext\": [\"1. Nunca\", \"2. Ocasionalmente\", \"3. Semanalmente\", \"4. Diariamente\", \"5. Varias veces al d\\u00eda\"], \"tickvals\": [1, 2, 3, 4, 5]}}, {\"showLink\": false, \"linkText\": \"Export to plot.ly\", \"plotlyServerURL\": \"https://plot.ly\"}); \n",
       "}\n",
       "});</script><script type=\"text/javascript\">window.addEventListener(\"resize\", function(){if (document.getElementById(\"bc524088-5e99-4be8-a2a2-cc2bad4cbd6e\")) {window._Plotly.Plots.resize(document.getElementById(\"bc524088-5e99-4be8-a2a2-cc2bad4cbd6e\"));};})</script>"
      ],
      "text/vnd.plotly.v1+html": [
       "<div id=\"bc524088-5e99-4be8-a2a2-cc2bad4cbd6e\" style=\"height: 525px; width: 100%;\" class=\"plotly-graph-div\"></div><script type=\"text/javascript\">require([\"plotly\"], function(Plotly) { window.PLOTLYENV=window.PLOTLYENV || {};window.PLOTLYENV.BASE_URL=\"https://plot.ly\";\n",
       "if (document.getElementById(\"bc524088-5e99-4be8-a2a2-cc2bad4cbd6e\")) {\n",
       "    Plotly.newPlot(\"bc524088-5e99-4be8-a2a2-cc2bad4cbd6e\", [{\"marker\": {\"color\": [\"rgb(213,62,79)\", \"rgb(252,141,89)\", \"rgb(254,224,139)\", \"rgb(230,245,152)\", \"rgb(153,213,148)\", \"rgb(50,136,189)\"]}, \"x\": [4, 5], \"y\": [10, 88], \"type\": \"bar\", \"uid\": \"7653296e-27e5-444c-8b49-8ea878991e3c\"}], {\"bargap\": 0.2, \"xaxis\": {\"ticktext\": [\"1. Nunca\", \"2. Ocasionalmente\", \"3. Semanalmente\", \"4. Diariamente\", \"5. Varias veces al d\\u00eda\"], \"tickvals\": [1, 2, 3, 4, 5]}}, {\"showLink\": false, \"linkText\": \"Export to plot.ly\", \"plotlyServerURL\": \"https://plot.ly\"}); \n",
       "}\n",
       "});</script><script type=\"text/javascript\">window.addEventListener(\"resize\", function(){if (document.getElementById(\"bc524088-5e99-4be8-a2a2-cc2bad4cbd6e\")) {window._Plotly.Plots.resize(document.getElementById(\"bc524088-5e99-4be8-a2a2-cc2bad4cbd6e\"));};})</script>"
      ]
     },
     "metadata": {},
     "output_type": "display_data"
    },
    {
     "name": "stdout",
     "output_type": "stream",
     "text": [
      "\n",
      "\n",
      "Cluster 4 || variable: ¿Cuánto tiempo al día usas el móvil/tableta/ordenador/TV?\n",
      "Describiendo la pregunta ¿Cuánto tiempo al día usas el móvil/tableta/ordenador/TV?\n",
      "Valores numéricos asociados a las respuestas [1, 2, 3, 4, 5, 6]\n",
      "Respuestas posibles a la pregunta/variable ['1. Nada', '2. Menos de una hora', '3. 1-2 horas', '4. 2-4 horas', '5. 4-6 horas', '6. Más de 6 horas']\n"
     ]
    },
    {
     "data": {
      "text/plain": [
       "count    98.000000\n",
       "mean      5.030612\n",
       "std       0.924512\n",
       "min       3.000000\n",
       "25%       4.000000\n",
       "50%       5.000000\n",
       "75%       6.000000\n",
       "max       6.000000\n",
       "Name: ¿Cuánto tiempo al día usas el móvil/tableta/ordenador/TV?, dtype: float64"
      ]
     },
     "metadata": {},
     "output_type": "display_data"
    },
    {
     "name": "stdout",
     "output_type": "stream",
     "text": [
      "Conteo de cada valor en ¿Cuánto tiempo al día usas el móvil/tableta/ordenador/TV? expresada como valor / cantidad\n"
     ]
    },
    {
     "data": {
      "text/plain": [
       "3     5\n",
       "4    25\n",
       "5    30\n",
       "6    38\n",
       "Name: ¿Cuánto tiempo al día usas el móvil/tableta/ordenador/TV?, dtype: int64"
      ]
     },
     "metadata": {},
     "output_type": "display_data"
    },
    {
     "name": "stdout",
     "output_type": "stream",
     "text": [
      "Porcentaje de cada valor en ¿Cuánto tiempo al día usas el móvil/tableta/ordenador/TV? expresado como valor / porcentaje\n"
     ]
    },
    {
     "data": {
      "text/plain": [
       "3     5.10\n",
       "4    25.51\n",
       "5    30.61\n",
       "6    38.78\n",
       "Name: ¿Cuánto tiempo al día usas el móvil/tableta/ordenador/TV?, dtype: float64"
      ]
     },
     "metadata": {},
     "output_type": "display_data"
    },
    {
     "data": {
      "application/vnd.plotly.v1+json": {
       "config": {
        "linkText": "Export to plot.ly",
        "plotlyServerURL": "https://plot.ly",
        "showLink": false
       },
       "data": [
        {
         "marker": {
          "color": [
           "rgb(213,62,79)",
           "rgb(252,141,89)",
           "rgb(254,224,139)",
           "rgb(230,245,152)",
           "rgb(153,213,148)",
           "rgb(50,136,189)"
          ]
         },
         "type": "bar",
         "uid": "7565c76d-f966-464b-9bdd-7bac455ba46e",
         "x": [
          3,
          4,
          5,
          6
         ],
         "y": [
          5,
          25,
          30,
          38
         ]
        }
       ],
       "layout": {
        "bargap": 0.2,
        "xaxis": {
         "ticktext": [
          "1. Nada",
          "2. Menos de una hora",
          "3. 1-2 horas",
          "4. 2-4 horas",
          "5. 4-6 horas",
          "6. Más de 6 horas"
         ],
         "tickvals": [
          1,
          2,
          3,
          4,
          5,
          6
         ]
        }
       }
      },
      "text/html": [
       "<div id=\"f80bd5d0-388a-4453-b58e-8b447fe6aa35\" style=\"height: 525px; width: 100%;\" class=\"plotly-graph-div\"></div><script type=\"text/javascript\">require([\"plotly\"], function(Plotly) { window.PLOTLYENV=window.PLOTLYENV || {};window.PLOTLYENV.BASE_URL=\"https://plot.ly\";\n",
       "if (document.getElementById(\"f80bd5d0-388a-4453-b58e-8b447fe6aa35\")) {\n",
       "    Plotly.newPlot(\"f80bd5d0-388a-4453-b58e-8b447fe6aa35\", [{\"marker\": {\"color\": [\"rgb(213,62,79)\", \"rgb(252,141,89)\", \"rgb(254,224,139)\", \"rgb(230,245,152)\", \"rgb(153,213,148)\", \"rgb(50,136,189)\"]}, \"x\": [3, 4, 5, 6], \"y\": [5, 25, 30, 38], \"type\": \"bar\", \"uid\": \"7565c76d-f966-464b-9bdd-7bac455ba46e\"}], {\"bargap\": 0.2, \"xaxis\": {\"ticktext\": [\"1. Nada\", \"2. Menos de una hora\", \"3. 1-2 horas\", \"4. 2-4 horas\", \"5. 4-6 horas\", \"6. M\\u00e1s de 6 horas\"], \"tickvals\": [1, 2, 3, 4, 5, 6]}}, {\"showLink\": false, \"linkText\": \"Export to plot.ly\", \"plotlyServerURL\": \"https://plot.ly\"}); \n",
       "}\n",
       "});</script><script type=\"text/javascript\">window.addEventListener(\"resize\", function(){if (document.getElementById(\"f80bd5d0-388a-4453-b58e-8b447fe6aa35\")) {window._Plotly.Plots.resize(document.getElementById(\"f80bd5d0-388a-4453-b58e-8b447fe6aa35\"));};})</script>"
      ],
      "text/vnd.plotly.v1+html": [
       "<div id=\"f80bd5d0-388a-4453-b58e-8b447fe6aa35\" style=\"height: 525px; width: 100%;\" class=\"plotly-graph-div\"></div><script type=\"text/javascript\">require([\"plotly\"], function(Plotly) { window.PLOTLYENV=window.PLOTLYENV || {};window.PLOTLYENV.BASE_URL=\"https://plot.ly\";\n",
       "if (document.getElementById(\"f80bd5d0-388a-4453-b58e-8b447fe6aa35\")) {\n",
       "    Plotly.newPlot(\"f80bd5d0-388a-4453-b58e-8b447fe6aa35\", [{\"marker\": {\"color\": [\"rgb(213,62,79)\", \"rgb(252,141,89)\", \"rgb(254,224,139)\", \"rgb(230,245,152)\", \"rgb(153,213,148)\", \"rgb(50,136,189)\"]}, \"x\": [3, 4, 5, 6], \"y\": [5, 25, 30, 38], \"type\": \"bar\", \"uid\": \"7565c76d-f966-464b-9bdd-7bac455ba46e\"}], {\"bargap\": 0.2, \"xaxis\": {\"ticktext\": [\"1. Nada\", \"2. Menos de una hora\", \"3. 1-2 horas\", \"4. 2-4 horas\", \"5. 4-6 horas\", \"6. M\\u00e1s de 6 horas\"], \"tickvals\": [1, 2, 3, 4, 5, 6]}}, {\"showLink\": false, \"linkText\": \"Export to plot.ly\", \"plotlyServerURL\": \"https://plot.ly\"}); \n",
       "}\n",
       "});</script><script type=\"text/javascript\">window.addEventListener(\"resize\", function(){if (document.getElementById(\"f80bd5d0-388a-4453-b58e-8b447fe6aa35\")) {window._Plotly.Plots.resize(document.getElementById(\"f80bd5d0-388a-4453-b58e-8b447fe6aa35\"));};})</script>"
      ]
     },
     "metadata": {},
     "output_type": "display_data"
    },
    {
     "name": "stdout",
     "output_type": "stream",
     "text": [
      "\n",
      "\n",
      "Cluster 4 || variable: ¿Qué tipo de aplicaciones utilizas en tu ordenador/tableta/móvil? (Respuesta múltiple) [1. Apps de contenidos audiovisuales (Netflix, HBO, etc.)]\n",
      "Describiendo la pregunta ¿Qué tipo de aplicaciones utilizas en tu ordenador/tableta/móvil? (Respuesta múltiple) [1. Apps de contenidos audiovisuales (Netflix, HBO, etc.)]\n",
      "Valores numéricos asociados a las respuestas [0, 1]\n",
      "Respuestas posibles a la pregunta/variable ['No', 'Sí']\n"
     ]
    },
    {
     "data": {
      "text/plain": [
       "count    98.000000\n",
       "mean      0.765306\n",
       "std       0.425986\n",
       "min       0.000000\n",
       "25%       1.000000\n",
       "50%       1.000000\n",
       "75%       1.000000\n",
       "max       1.000000\n",
       "Name: ¿Qué tipo de aplicaciones utilizas en tu ordenador/tableta/móvil? (Respuesta múltiple) [1. Apps de contenidos audiovisuales (Netflix, HBO, etc.)], dtype: float64"
      ]
     },
     "metadata": {},
     "output_type": "display_data"
    },
    {
     "name": "stdout",
     "output_type": "stream",
     "text": [
      "Conteo de cada valor en ¿Qué tipo de aplicaciones utilizas en tu ordenador/tableta/móvil? (Respuesta múltiple) [1. Apps de contenidos audiovisuales (Netflix, HBO, etc.)] expresada como valor / cantidad\n"
     ]
    },
    {
     "data": {
      "text/plain": [
       "0    23\n",
       "1    75\n",
       "Name: ¿Qué tipo de aplicaciones utilizas en tu ordenador/tableta/móvil? (Respuesta múltiple) [1. Apps de contenidos audiovisuales (Netflix, HBO, etc.)], dtype: int64"
      ]
     },
     "metadata": {},
     "output_type": "display_data"
    },
    {
     "name": "stdout",
     "output_type": "stream",
     "text": [
      "Porcentaje de cada valor en ¿Qué tipo de aplicaciones utilizas en tu ordenador/tableta/móvil? (Respuesta múltiple) [1. Apps de contenidos audiovisuales (Netflix, HBO, etc.)] expresado como valor / porcentaje\n"
     ]
    },
    {
     "data": {
      "text/plain": [
       "0    23.47\n",
       "1    76.53\n",
       "Name: ¿Qué tipo de aplicaciones utilizas en tu ordenador/tableta/móvil? (Respuesta múltiple) [1. Apps de contenidos audiovisuales (Netflix, HBO, etc.)], dtype: float64"
      ]
     },
     "metadata": {},
     "output_type": "display_data"
    },
    {
     "data": {
      "application/vnd.plotly.v1+json": {
       "config": {
        "linkText": "Export to plot.ly",
        "plotlyServerURL": "https://plot.ly",
        "showLink": false
       },
       "data": [
        {
         "marker": {
          "color": [
           "rgb(213,62,79)",
           "rgb(252,141,89)",
           "rgb(254,224,139)",
           "rgb(230,245,152)",
           "rgb(153,213,148)",
           "rgb(50,136,189)"
          ]
         },
         "type": "bar",
         "uid": "3606acbf-e8e4-4df9-8415-3ddf92c9d70d",
         "x": [
          0,
          1
         ],
         "y": [
          23,
          75
         ]
        }
       ],
       "layout": {
        "bargap": 0.2,
        "xaxis": {
         "ticktext": [
          "No",
          "Sí"
         ],
         "tickvals": [
          0,
          1
         ]
        }
       }
      },
      "text/html": [
       "<div id=\"d45605c6-4ae6-44d0-92b6-e85b9ef8e2a3\" style=\"height: 525px; width: 100%;\" class=\"plotly-graph-div\"></div><script type=\"text/javascript\">require([\"plotly\"], function(Plotly) { window.PLOTLYENV=window.PLOTLYENV || {};window.PLOTLYENV.BASE_URL=\"https://plot.ly\";\n",
       "if (document.getElementById(\"d45605c6-4ae6-44d0-92b6-e85b9ef8e2a3\")) {\n",
       "    Plotly.newPlot(\"d45605c6-4ae6-44d0-92b6-e85b9ef8e2a3\", [{\"marker\": {\"color\": [\"rgb(213,62,79)\", \"rgb(252,141,89)\", \"rgb(254,224,139)\", \"rgb(230,245,152)\", \"rgb(153,213,148)\", \"rgb(50,136,189)\"]}, \"x\": [0, 1], \"y\": [23, 75], \"type\": \"bar\", \"uid\": \"3606acbf-e8e4-4df9-8415-3ddf92c9d70d\"}], {\"bargap\": 0.2, \"xaxis\": {\"ticktext\": [\"No\", \"S\\u00ed\"], \"tickvals\": [0, 1]}}, {\"showLink\": false, \"linkText\": \"Export to plot.ly\", \"plotlyServerURL\": \"https://plot.ly\"}); \n",
       "}\n",
       "});</script><script type=\"text/javascript\">window.addEventListener(\"resize\", function(){if (document.getElementById(\"d45605c6-4ae6-44d0-92b6-e85b9ef8e2a3\")) {window._Plotly.Plots.resize(document.getElementById(\"d45605c6-4ae6-44d0-92b6-e85b9ef8e2a3\"));};})</script>"
      ],
      "text/vnd.plotly.v1+html": [
       "<div id=\"d45605c6-4ae6-44d0-92b6-e85b9ef8e2a3\" style=\"height: 525px; width: 100%;\" class=\"plotly-graph-div\"></div><script type=\"text/javascript\">require([\"plotly\"], function(Plotly) { window.PLOTLYENV=window.PLOTLYENV || {};window.PLOTLYENV.BASE_URL=\"https://plot.ly\";\n",
       "if (document.getElementById(\"d45605c6-4ae6-44d0-92b6-e85b9ef8e2a3\")) {\n",
       "    Plotly.newPlot(\"d45605c6-4ae6-44d0-92b6-e85b9ef8e2a3\", [{\"marker\": {\"color\": [\"rgb(213,62,79)\", \"rgb(252,141,89)\", \"rgb(254,224,139)\", \"rgb(230,245,152)\", \"rgb(153,213,148)\", \"rgb(50,136,189)\"]}, \"x\": [0, 1], \"y\": [23, 75], \"type\": \"bar\", \"uid\": \"3606acbf-e8e4-4df9-8415-3ddf92c9d70d\"}], {\"bargap\": 0.2, \"xaxis\": {\"ticktext\": [\"No\", \"S\\u00ed\"], \"tickvals\": [0, 1]}}, {\"showLink\": false, \"linkText\": \"Export to plot.ly\", \"plotlyServerURL\": \"https://plot.ly\"}); \n",
       "}\n",
       "});</script><script type=\"text/javascript\">window.addEventListener(\"resize\", function(){if (document.getElementById(\"d45605c6-4ae6-44d0-92b6-e85b9ef8e2a3\")) {window._Plotly.Plots.resize(document.getElementById(\"d45605c6-4ae6-44d0-92b6-e85b9ef8e2a3\"));};})</script>"
      ]
     },
     "metadata": {},
     "output_type": "display_data"
    },
    {
     "name": "stdout",
     "output_type": "stream",
     "text": [
      "\n",
      "\n",
      "Cluster 4 || variable: ¿Qué tipo de aplicaciones utilizas en tu ordenador/tableta/móvil? (Respuesta múltiple) [2. Aplicaciones de mensajería (Whatsapp, Facebook Messenger, etc.)]\n",
      "Describiendo la pregunta ¿Qué tipo de aplicaciones utilizas en tu ordenador/tableta/móvil? (Respuesta múltiple) [2. Aplicaciones de mensajería (Whatsapp, Facebook Messenger, etc.)]\n",
      "Valores numéricos asociados a las respuestas [0, 1]\n",
      "Respuestas posibles a la pregunta/variable ['No', 'Sí']\n"
     ]
    },
    {
     "data": {
      "text/plain": [
       "count    98.000000\n",
       "mean      0.969388\n",
       "std       0.173150\n",
       "min       0.000000\n",
       "25%       1.000000\n",
       "50%       1.000000\n",
       "75%       1.000000\n",
       "max       1.000000\n",
       "Name: ¿Qué tipo de aplicaciones utilizas en tu ordenador/tableta/móvil? (Respuesta múltiple) [2. Aplicaciones de mensajería (Whatsapp, Facebook Messenger, etc.)], dtype: float64"
      ]
     },
     "metadata": {},
     "output_type": "display_data"
    },
    {
     "name": "stdout",
     "output_type": "stream",
     "text": [
      "Conteo de cada valor en ¿Qué tipo de aplicaciones utilizas en tu ordenador/tableta/móvil? (Respuesta múltiple) [2. Aplicaciones de mensajería (Whatsapp, Facebook Messenger, etc.)] expresada como valor / cantidad\n"
     ]
    },
    {
     "data": {
      "text/plain": [
       "0     3\n",
       "1    95\n",
       "Name: ¿Qué tipo de aplicaciones utilizas en tu ordenador/tableta/móvil? (Respuesta múltiple) [2. Aplicaciones de mensajería (Whatsapp, Facebook Messenger, etc.)], dtype: int64"
      ]
     },
     "metadata": {},
     "output_type": "display_data"
    },
    {
     "name": "stdout",
     "output_type": "stream",
     "text": [
      "Porcentaje de cada valor en ¿Qué tipo de aplicaciones utilizas en tu ordenador/tableta/móvil? (Respuesta múltiple) [2. Aplicaciones de mensajería (Whatsapp, Facebook Messenger, etc.)] expresado como valor / porcentaje\n"
     ]
    },
    {
     "data": {
      "text/plain": [
       "0     3.06\n",
       "1    96.94\n",
       "Name: ¿Qué tipo de aplicaciones utilizas en tu ordenador/tableta/móvil? (Respuesta múltiple) [2. Aplicaciones de mensajería (Whatsapp, Facebook Messenger, etc.)], dtype: float64"
      ]
     },
     "metadata": {},
     "output_type": "display_data"
    },
    {
     "data": {
      "application/vnd.plotly.v1+json": {
       "config": {
        "linkText": "Export to plot.ly",
        "plotlyServerURL": "https://plot.ly",
        "showLink": false
       },
       "data": [
        {
         "marker": {
          "color": [
           "rgb(213,62,79)",
           "rgb(252,141,89)",
           "rgb(254,224,139)",
           "rgb(230,245,152)",
           "rgb(153,213,148)",
           "rgb(50,136,189)"
          ]
         },
         "type": "bar",
         "uid": "6adf81db-d04f-4278-bfdd-def488dadc5c",
         "x": [
          0,
          1
         ],
         "y": [
          3,
          95
         ]
        }
       ],
       "layout": {
        "bargap": 0.2,
        "xaxis": {
         "ticktext": [
          "No",
          "Sí"
         ],
         "tickvals": [
          0,
          1
         ]
        }
       }
      },
      "text/html": [
       "<div id=\"62b10ff2-504d-474f-8298-507746b7a57b\" style=\"height: 525px; width: 100%;\" class=\"plotly-graph-div\"></div><script type=\"text/javascript\">require([\"plotly\"], function(Plotly) { window.PLOTLYENV=window.PLOTLYENV || {};window.PLOTLYENV.BASE_URL=\"https://plot.ly\";\n",
       "if (document.getElementById(\"62b10ff2-504d-474f-8298-507746b7a57b\")) {\n",
       "    Plotly.newPlot(\"62b10ff2-504d-474f-8298-507746b7a57b\", [{\"marker\": {\"color\": [\"rgb(213,62,79)\", \"rgb(252,141,89)\", \"rgb(254,224,139)\", \"rgb(230,245,152)\", \"rgb(153,213,148)\", \"rgb(50,136,189)\"]}, \"x\": [0, 1], \"y\": [3, 95], \"type\": \"bar\", \"uid\": \"6adf81db-d04f-4278-bfdd-def488dadc5c\"}], {\"bargap\": 0.2, \"xaxis\": {\"ticktext\": [\"No\", \"S\\u00ed\"], \"tickvals\": [0, 1]}}, {\"showLink\": false, \"linkText\": \"Export to plot.ly\", \"plotlyServerURL\": \"https://plot.ly\"}); \n",
       "}\n",
       "});</script><script type=\"text/javascript\">window.addEventListener(\"resize\", function(){if (document.getElementById(\"62b10ff2-504d-474f-8298-507746b7a57b\")) {window._Plotly.Plots.resize(document.getElementById(\"62b10ff2-504d-474f-8298-507746b7a57b\"));};})</script>"
      ],
      "text/vnd.plotly.v1+html": [
       "<div id=\"62b10ff2-504d-474f-8298-507746b7a57b\" style=\"height: 525px; width: 100%;\" class=\"plotly-graph-div\"></div><script type=\"text/javascript\">require([\"plotly\"], function(Plotly) { window.PLOTLYENV=window.PLOTLYENV || {};window.PLOTLYENV.BASE_URL=\"https://plot.ly\";\n",
       "if (document.getElementById(\"62b10ff2-504d-474f-8298-507746b7a57b\")) {\n",
       "    Plotly.newPlot(\"62b10ff2-504d-474f-8298-507746b7a57b\", [{\"marker\": {\"color\": [\"rgb(213,62,79)\", \"rgb(252,141,89)\", \"rgb(254,224,139)\", \"rgb(230,245,152)\", \"rgb(153,213,148)\", \"rgb(50,136,189)\"]}, \"x\": [0, 1], \"y\": [3, 95], \"type\": \"bar\", \"uid\": \"6adf81db-d04f-4278-bfdd-def488dadc5c\"}], {\"bargap\": 0.2, \"xaxis\": {\"ticktext\": [\"No\", \"S\\u00ed\"], \"tickvals\": [0, 1]}}, {\"showLink\": false, \"linkText\": \"Export to plot.ly\", \"plotlyServerURL\": \"https://plot.ly\"}); \n",
       "}\n",
       "});</script><script type=\"text/javascript\">window.addEventListener(\"resize\", function(){if (document.getElementById(\"62b10ff2-504d-474f-8298-507746b7a57b\")) {window._Plotly.Plots.resize(document.getElementById(\"62b10ff2-504d-474f-8298-507746b7a57b\"));};})</script>"
      ]
     },
     "metadata": {},
     "output_type": "display_data"
    },
    {
     "name": "stdout",
     "output_type": "stream",
     "text": [
      "\n",
      "\n",
      "Cluster 4 || variable: ¿Qué tipo de aplicaciones utilizas en tu ordenador/tableta/móvil? (Respuesta múltiple) [3. Bibliotecas de fotos online (Google Photos, iPhoto, etc.)]\n",
      "Describiendo la pregunta ¿Qué tipo de aplicaciones utilizas en tu ordenador/tableta/móvil? (Respuesta múltiple) [3. Bibliotecas de fotos online (Google Photos, iPhoto, etc.)]\n",
      "Valores numéricos asociados a las respuestas [0, 1]\n",
      "Respuestas posibles a la pregunta/variable ['No', 'Sí']\n"
     ]
    },
    {
     "data": {
      "text/plain": [
       "count    98.000000\n",
       "mean      0.500000\n",
       "std       0.502571\n",
       "min       0.000000\n",
       "25%       0.000000\n",
       "50%       0.500000\n",
       "75%       1.000000\n",
       "max       1.000000\n",
       "Name: ¿Qué tipo de aplicaciones utilizas en tu ordenador/tableta/móvil? (Respuesta múltiple) [3. Bibliotecas de fotos online (Google Photos, iPhoto, etc.)], dtype: float64"
      ]
     },
     "metadata": {},
     "output_type": "display_data"
    },
    {
     "name": "stdout",
     "output_type": "stream",
     "text": [
      "Conteo de cada valor en ¿Qué tipo de aplicaciones utilizas en tu ordenador/tableta/móvil? (Respuesta múltiple) [3. Bibliotecas de fotos online (Google Photos, iPhoto, etc.)] expresada como valor / cantidad\n"
     ]
    },
    {
     "data": {
      "text/plain": [
       "0    49\n",
       "1    49\n",
       "Name: ¿Qué tipo de aplicaciones utilizas en tu ordenador/tableta/móvil? (Respuesta múltiple) [3. Bibliotecas de fotos online (Google Photos, iPhoto, etc.)], dtype: int64"
      ]
     },
     "metadata": {},
     "output_type": "display_data"
    },
    {
     "name": "stdout",
     "output_type": "stream",
     "text": [
      "Porcentaje de cada valor en ¿Qué tipo de aplicaciones utilizas en tu ordenador/tableta/móvil? (Respuesta múltiple) [3. Bibliotecas de fotos online (Google Photos, iPhoto, etc.)] expresado como valor / porcentaje\n"
     ]
    },
    {
     "data": {
      "text/plain": [
       "0    50.0\n",
       "1    50.0\n",
       "Name: ¿Qué tipo de aplicaciones utilizas en tu ordenador/tableta/móvil? (Respuesta múltiple) [3. Bibliotecas de fotos online (Google Photos, iPhoto, etc.)], dtype: float64"
      ]
     },
     "metadata": {},
     "output_type": "display_data"
    },
    {
     "data": {
      "application/vnd.plotly.v1+json": {
       "config": {
        "linkText": "Export to plot.ly",
        "plotlyServerURL": "https://plot.ly",
        "showLink": false
       },
       "data": [
        {
         "marker": {
          "color": [
           "rgb(213,62,79)",
           "rgb(252,141,89)",
           "rgb(254,224,139)",
           "rgb(230,245,152)",
           "rgb(153,213,148)",
           "rgb(50,136,189)"
          ]
         },
         "type": "bar",
         "uid": "8f381492-d7f6-4b1b-a5e7-a29e0ac9ebd6",
         "x": [
          0,
          1
         ],
         "y": [
          49,
          49
         ]
        }
       ],
       "layout": {
        "bargap": 0.2,
        "xaxis": {
         "ticktext": [
          "No",
          "Sí"
         ],
         "tickvals": [
          0,
          1
         ]
        }
       }
      },
      "text/html": [
       "<div id=\"caf852dd-8f2b-467e-8ee4-857b2c6b3b1e\" style=\"height: 525px; width: 100%;\" class=\"plotly-graph-div\"></div><script type=\"text/javascript\">require([\"plotly\"], function(Plotly) { window.PLOTLYENV=window.PLOTLYENV || {};window.PLOTLYENV.BASE_URL=\"https://plot.ly\";\n",
       "if (document.getElementById(\"caf852dd-8f2b-467e-8ee4-857b2c6b3b1e\")) {\n",
       "    Plotly.newPlot(\"caf852dd-8f2b-467e-8ee4-857b2c6b3b1e\", [{\"marker\": {\"color\": [\"rgb(213,62,79)\", \"rgb(252,141,89)\", \"rgb(254,224,139)\", \"rgb(230,245,152)\", \"rgb(153,213,148)\", \"rgb(50,136,189)\"]}, \"x\": [0, 1], \"y\": [49, 49], \"type\": \"bar\", \"uid\": \"8f381492-d7f6-4b1b-a5e7-a29e0ac9ebd6\"}], {\"bargap\": 0.2, \"xaxis\": {\"ticktext\": [\"No\", \"S\\u00ed\"], \"tickvals\": [0, 1]}}, {\"showLink\": false, \"linkText\": \"Export to plot.ly\", \"plotlyServerURL\": \"https://plot.ly\"}); \n",
       "}\n",
       "});</script><script type=\"text/javascript\">window.addEventListener(\"resize\", function(){if (document.getElementById(\"caf852dd-8f2b-467e-8ee4-857b2c6b3b1e\")) {window._Plotly.Plots.resize(document.getElementById(\"caf852dd-8f2b-467e-8ee4-857b2c6b3b1e\"));};})</script>"
      ],
      "text/vnd.plotly.v1+html": [
       "<div id=\"caf852dd-8f2b-467e-8ee4-857b2c6b3b1e\" style=\"height: 525px; width: 100%;\" class=\"plotly-graph-div\"></div><script type=\"text/javascript\">require([\"plotly\"], function(Plotly) { window.PLOTLYENV=window.PLOTLYENV || {};window.PLOTLYENV.BASE_URL=\"https://plot.ly\";\n",
       "if (document.getElementById(\"caf852dd-8f2b-467e-8ee4-857b2c6b3b1e\")) {\n",
       "    Plotly.newPlot(\"caf852dd-8f2b-467e-8ee4-857b2c6b3b1e\", [{\"marker\": {\"color\": [\"rgb(213,62,79)\", \"rgb(252,141,89)\", \"rgb(254,224,139)\", \"rgb(230,245,152)\", \"rgb(153,213,148)\", \"rgb(50,136,189)\"]}, \"x\": [0, 1], \"y\": [49, 49], \"type\": \"bar\", \"uid\": \"8f381492-d7f6-4b1b-a5e7-a29e0ac9ebd6\"}], {\"bargap\": 0.2, \"xaxis\": {\"ticktext\": [\"No\", \"S\\u00ed\"], \"tickvals\": [0, 1]}}, {\"showLink\": false, \"linkText\": \"Export to plot.ly\", \"plotlyServerURL\": \"https://plot.ly\"}); \n",
       "}\n",
       "});</script><script type=\"text/javascript\">window.addEventListener(\"resize\", function(){if (document.getElementById(\"caf852dd-8f2b-467e-8ee4-857b2c6b3b1e\")) {window._Plotly.Plots.resize(document.getElementById(\"caf852dd-8f2b-467e-8ee4-857b2c6b3b1e\"));};})</script>"
      ]
     },
     "metadata": {},
     "output_type": "display_data"
    },
    {
     "name": "stdout",
     "output_type": "stream",
     "text": [
      "\n",
      "\n",
      "Cluster 4 || variable: ¿Qué tipo de aplicaciones utilizas en tu ordenador/tableta/móvil? (Respuesta múltiple) [4. Redes sociales (Facebook, Instagram, Twitter, etc.).]\n",
      "Describiendo la pregunta ¿Qué tipo de aplicaciones utilizas en tu ordenador/tableta/móvil? (Respuesta múltiple) [4. Redes sociales (Facebook, Instagram, Twitter, etc.).]\n",
      "Valores numéricos asociados a las respuestas [0, 1]\n",
      "Respuestas posibles a la pregunta/variable ['No', 'Sí']\n"
     ]
    },
    {
     "data": {
      "text/plain": [
       "count    98.000000\n",
       "mean      0.969388\n",
       "std       0.173150\n",
       "min       0.000000\n",
       "25%       1.000000\n",
       "50%       1.000000\n",
       "75%       1.000000\n",
       "max       1.000000\n",
       "Name: ¿Qué tipo de aplicaciones utilizas en tu ordenador/tableta/móvil? (Respuesta múltiple) [4. Redes sociales (Facebook, Instagram, Twitter, etc.).], dtype: float64"
      ]
     },
     "metadata": {},
     "output_type": "display_data"
    },
    {
     "name": "stdout",
     "output_type": "stream",
     "text": [
      "Conteo de cada valor en ¿Qué tipo de aplicaciones utilizas en tu ordenador/tableta/móvil? (Respuesta múltiple) [4. Redes sociales (Facebook, Instagram, Twitter, etc.).] expresada como valor / cantidad\n"
     ]
    },
    {
     "data": {
      "text/plain": [
       "0     3\n",
       "1    95\n",
       "Name: ¿Qué tipo de aplicaciones utilizas en tu ordenador/tableta/móvil? (Respuesta múltiple) [4. Redes sociales (Facebook, Instagram, Twitter, etc.).], dtype: int64"
      ]
     },
     "metadata": {},
     "output_type": "display_data"
    },
    {
     "name": "stdout",
     "output_type": "stream",
     "text": [
      "Porcentaje de cada valor en ¿Qué tipo de aplicaciones utilizas en tu ordenador/tableta/móvil? (Respuesta múltiple) [4. Redes sociales (Facebook, Instagram, Twitter, etc.).] expresado como valor / porcentaje\n"
     ]
    },
    {
     "data": {
      "text/plain": [
       "0     3.06\n",
       "1    96.94\n",
       "Name: ¿Qué tipo de aplicaciones utilizas en tu ordenador/tableta/móvil? (Respuesta múltiple) [4. Redes sociales (Facebook, Instagram, Twitter, etc.).], dtype: float64"
      ]
     },
     "metadata": {},
     "output_type": "display_data"
    },
    {
     "data": {
      "application/vnd.plotly.v1+json": {
       "config": {
        "linkText": "Export to plot.ly",
        "plotlyServerURL": "https://plot.ly",
        "showLink": false
       },
       "data": [
        {
         "marker": {
          "color": [
           "rgb(213,62,79)",
           "rgb(252,141,89)",
           "rgb(254,224,139)",
           "rgb(230,245,152)",
           "rgb(153,213,148)",
           "rgb(50,136,189)"
          ]
         },
         "type": "bar",
         "uid": "54163120-9fec-44f9-b4ca-2b542a0d8d07",
         "x": [
          0,
          1
         ],
         "y": [
          3,
          95
         ]
        }
       ],
       "layout": {
        "bargap": 0.2,
        "xaxis": {
         "ticktext": [
          "No",
          "Sí"
         ],
         "tickvals": [
          0,
          1
         ]
        }
       }
      },
      "text/html": [
       "<div id=\"35e09398-19a0-42b5-a21d-02f61466b1d4\" style=\"height: 525px; width: 100%;\" class=\"plotly-graph-div\"></div><script type=\"text/javascript\">require([\"plotly\"], function(Plotly) { window.PLOTLYENV=window.PLOTLYENV || {};window.PLOTLYENV.BASE_URL=\"https://plot.ly\";\n",
       "if (document.getElementById(\"35e09398-19a0-42b5-a21d-02f61466b1d4\")) {\n",
       "    Plotly.newPlot(\"35e09398-19a0-42b5-a21d-02f61466b1d4\", [{\"marker\": {\"color\": [\"rgb(213,62,79)\", \"rgb(252,141,89)\", \"rgb(254,224,139)\", \"rgb(230,245,152)\", \"rgb(153,213,148)\", \"rgb(50,136,189)\"]}, \"x\": [0, 1], \"y\": [3, 95], \"type\": \"bar\", \"uid\": \"54163120-9fec-44f9-b4ca-2b542a0d8d07\"}], {\"bargap\": 0.2, \"xaxis\": {\"ticktext\": [\"No\", \"S\\u00ed\"], \"tickvals\": [0, 1]}}, {\"showLink\": false, \"linkText\": \"Export to plot.ly\", \"plotlyServerURL\": \"https://plot.ly\"}); \n",
       "}\n",
       "});</script><script type=\"text/javascript\">window.addEventListener(\"resize\", function(){if (document.getElementById(\"35e09398-19a0-42b5-a21d-02f61466b1d4\")) {window._Plotly.Plots.resize(document.getElementById(\"35e09398-19a0-42b5-a21d-02f61466b1d4\"));};})</script>"
      ],
      "text/vnd.plotly.v1+html": [
       "<div id=\"35e09398-19a0-42b5-a21d-02f61466b1d4\" style=\"height: 525px; width: 100%;\" class=\"plotly-graph-div\"></div><script type=\"text/javascript\">require([\"plotly\"], function(Plotly) { window.PLOTLYENV=window.PLOTLYENV || {};window.PLOTLYENV.BASE_URL=\"https://plot.ly\";\n",
       "if (document.getElementById(\"35e09398-19a0-42b5-a21d-02f61466b1d4\")) {\n",
       "    Plotly.newPlot(\"35e09398-19a0-42b5-a21d-02f61466b1d4\", [{\"marker\": {\"color\": [\"rgb(213,62,79)\", \"rgb(252,141,89)\", \"rgb(254,224,139)\", \"rgb(230,245,152)\", \"rgb(153,213,148)\", \"rgb(50,136,189)\"]}, \"x\": [0, 1], \"y\": [3, 95], \"type\": \"bar\", \"uid\": \"54163120-9fec-44f9-b4ca-2b542a0d8d07\"}], {\"bargap\": 0.2, \"xaxis\": {\"ticktext\": [\"No\", \"S\\u00ed\"], \"tickvals\": [0, 1]}}, {\"showLink\": false, \"linkText\": \"Export to plot.ly\", \"plotlyServerURL\": \"https://plot.ly\"}); \n",
       "}\n",
       "});</script><script type=\"text/javascript\">window.addEventListener(\"resize\", function(){if (document.getElementById(\"35e09398-19a0-42b5-a21d-02f61466b1d4\")) {window._Plotly.Plots.resize(document.getElementById(\"35e09398-19a0-42b5-a21d-02f61466b1d4\"));};})</script>"
      ]
     },
     "metadata": {},
     "output_type": "display_data"
    },
    {
     "name": "stdout",
     "output_type": "stream",
     "text": [
      "\n",
      "\n",
      "Cluster 4 || variable: ¿Qué tipo de aplicaciones utilizas en tu ordenador/tableta/móvil? (Respuesta múltiple) [5. Aplicaciones de vídeo (Youtube, Vimeo, etc.).]\n",
      "Describiendo la pregunta ¿Qué tipo de aplicaciones utilizas en tu ordenador/tableta/móvil? (Respuesta múltiple) [5. Aplicaciones de vídeo (Youtube, Vimeo, etc.).]\n",
      "Valores numéricos asociados a las respuestas [0, 1]\n",
      "Respuestas posibles a la pregunta/variable ['No', 'Sí']\n"
     ]
    },
    {
     "data": {
      "text/plain": [
       "count    98.000000\n",
       "mean      0.928571\n",
       "std       0.258863\n",
       "min       0.000000\n",
       "25%       1.000000\n",
       "50%       1.000000\n",
       "75%       1.000000\n",
       "max       1.000000\n",
       "Name: ¿Qué tipo de aplicaciones utilizas en tu ordenador/tableta/móvil? (Respuesta múltiple) [5. Aplicaciones de vídeo (Youtube, Vimeo, etc.).], dtype: float64"
      ]
     },
     "metadata": {},
     "output_type": "display_data"
    },
    {
     "name": "stdout",
     "output_type": "stream",
     "text": [
      "Conteo de cada valor en ¿Qué tipo de aplicaciones utilizas en tu ordenador/tableta/móvil? (Respuesta múltiple) [5. Aplicaciones de vídeo (Youtube, Vimeo, etc.).] expresada como valor / cantidad\n"
     ]
    },
    {
     "data": {
      "text/plain": [
       "0     7\n",
       "1    91\n",
       "Name: ¿Qué tipo de aplicaciones utilizas en tu ordenador/tableta/móvil? (Respuesta múltiple) [5. Aplicaciones de vídeo (Youtube, Vimeo, etc.).], dtype: int64"
      ]
     },
     "metadata": {},
     "output_type": "display_data"
    },
    {
     "name": "stdout",
     "output_type": "stream",
     "text": [
      "Porcentaje de cada valor en ¿Qué tipo de aplicaciones utilizas en tu ordenador/tableta/móvil? (Respuesta múltiple) [5. Aplicaciones de vídeo (Youtube, Vimeo, etc.).] expresado como valor / porcentaje\n"
     ]
    },
    {
     "data": {
      "text/plain": [
       "0     7.14\n",
       "1    92.86\n",
       "Name: ¿Qué tipo de aplicaciones utilizas en tu ordenador/tableta/móvil? (Respuesta múltiple) [5. Aplicaciones de vídeo (Youtube, Vimeo, etc.).], dtype: float64"
      ]
     },
     "metadata": {},
     "output_type": "display_data"
    },
    {
     "data": {
      "application/vnd.plotly.v1+json": {
       "config": {
        "linkText": "Export to plot.ly",
        "plotlyServerURL": "https://plot.ly",
        "showLink": false
       },
       "data": [
        {
         "marker": {
          "color": [
           "rgb(213,62,79)",
           "rgb(252,141,89)",
           "rgb(254,224,139)",
           "rgb(230,245,152)",
           "rgb(153,213,148)",
           "rgb(50,136,189)"
          ]
         },
         "type": "bar",
         "uid": "b35ca1b2-f1e2-4be0-b437-2b09f604fa83",
         "x": [
          0,
          1
         ],
         "y": [
          7,
          91
         ]
        }
       ],
       "layout": {
        "bargap": 0.2,
        "xaxis": {
         "ticktext": [
          "No",
          "Sí"
         ],
         "tickvals": [
          0,
          1
         ]
        }
       }
      },
      "text/html": [
       "<div id=\"361ee06d-dd5b-4245-a3a3-c569ae0ca307\" style=\"height: 525px; width: 100%;\" class=\"plotly-graph-div\"></div><script type=\"text/javascript\">require([\"plotly\"], function(Plotly) { window.PLOTLYENV=window.PLOTLYENV || {};window.PLOTLYENV.BASE_URL=\"https://plot.ly\";\n",
       "if (document.getElementById(\"361ee06d-dd5b-4245-a3a3-c569ae0ca307\")) {\n",
       "    Plotly.newPlot(\"361ee06d-dd5b-4245-a3a3-c569ae0ca307\", [{\"marker\": {\"color\": [\"rgb(213,62,79)\", \"rgb(252,141,89)\", \"rgb(254,224,139)\", \"rgb(230,245,152)\", \"rgb(153,213,148)\", \"rgb(50,136,189)\"]}, \"x\": [0, 1], \"y\": [7, 91], \"type\": \"bar\", \"uid\": \"b35ca1b2-f1e2-4be0-b437-2b09f604fa83\"}], {\"bargap\": 0.2, \"xaxis\": {\"ticktext\": [\"No\", \"S\\u00ed\"], \"tickvals\": [0, 1]}}, {\"showLink\": false, \"linkText\": \"Export to plot.ly\", \"plotlyServerURL\": \"https://plot.ly\"}); \n",
       "}\n",
       "});</script><script type=\"text/javascript\">window.addEventListener(\"resize\", function(){if (document.getElementById(\"361ee06d-dd5b-4245-a3a3-c569ae0ca307\")) {window._Plotly.Plots.resize(document.getElementById(\"361ee06d-dd5b-4245-a3a3-c569ae0ca307\"));};})</script>"
      ],
      "text/vnd.plotly.v1+html": [
       "<div id=\"361ee06d-dd5b-4245-a3a3-c569ae0ca307\" style=\"height: 525px; width: 100%;\" class=\"plotly-graph-div\"></div><script type=\"text/javascript\">require([\"plotly\"], function(Plotly) { window.PLOTLYENV=window.PLOTLYENV || {};window.PLOTLYENV.BASE_URL=\"https://plot.ly\";\n",
       "if (document.getElementById(\"361ee06d-dd5b-4245-a3a3-c569ae0ca307\")) {\n",
       "    Plotly.newPlot(\"361ee06d-dd5b-4245-a3a3-c569ae0ca307\", [{\"marker\": {\"color\": [\"rgb(213,62,79)\", \"rgb(252,141,89)\", \"rgb(254,224,139)\", \"rgb(230,245,152)\", \"rgb(153,213,148)\", \"rgb(50,136,189)\"]}, \"x\": [0, 1], \"y\": [7, 91], \"type\": \"bar\", \"uid\": \"b35ca1b2-f1e2-4be0-b437-2b09f604fa83\"}], {\"bargap\": 0.2, \"xaxis\": {\"ticktext\": [\"No\", \"S\\u00ed\"], \"tickvals\": [0, 1]}}, {\"showLink\": false, \"linkText\": \"Export to plot.ly\", \"plotlyServerURL\": \"https://plot.ly\"}); \n",
       "}\n",
       "});</script><script type=\"text/javascript\">window.addEventListener(\"resize\", function(){if (document.getElementById(\"361ee06d-dd5b-4245-a3a3-c569ae0ca307\")) {window._Plotly.Plots.resize(document.getElementById(\"361ee06d-dd5b-4245-a3a3-c569ae0ca307\"));};})</script>"
      ]
     },
     "metadata": {},
     "output_type": "display_data"
    },
    {
     "name": "stdout",
     "output_type": "stream",
     "text": [
      "\n",
      "\n",
      "Cluster 4 || variable: ¿Qué tipo de aplicaciones utilizas en tu ordenador/tableta/móvil? (Respuesta múltiple) [Otro]\n",
      "Describiendo la pregunta ¿Qué tipo de aplicaciones utilizas en tu ordenador/tableta/móvil? (Respuesta múltiple) [Otro]\n",
      "\n",
      "\n",
      "Cluster 4 || variable: Durante ese uso, ¿cuántas imágenes consumes (ves y compartes)?\n",
      "Describiendo la pregunta Durante ese uso, ¿cuántas imágenes consumes (ves y compartes)?\n",
      "Valores numéricos asociados a las respuestas [1, 2, 3, 4, 5]\n",
      "Respuestas posibles a la pregunta/variable ['1. Ninguna', '2. Pocas', '3. Ni muchas ni pocas', '4. Bastantes', '5. Recibo y envio imágenes de forma constante']\n"
     ]
    },
    {
     "data": {
      "text/plain": [
       "count    98.000000\n",
       "mean      4.102041\n",
       "std       0.724957\n",
       "min       2.000000\n",
       "25%       4.000000\n",
       "50%       4.000000\n",
       "75%       5.000000\n",
       "max       5.000000\n",
       "Name: Durante ese uso, ¿cuántas imágenes consumes (ves y compartes)?, dtype: float64"
      ]
     },
     "metadata": {},
     "output_type": "display_data"
    },
    {
     "name": "stdout",
     "output_type": "stream",
     "text": [
      "Conteo de cada valor en Durante ese uso, ¿cuántas imágenes consumes (ves y compartes)? expresada como valor / cantidad\n"
     ]
    },
    {
     "data": {
      "text/plain": [
       "2     2\n",
       "3    15\n",
       "4    52\n",
       "5    29\n",
       "Name: Durante ese uso, ¿cuántas imágenes consumes (ves y compartes)?, dtype: int64"
      ]
     },
     "metadata": {},
     "output_type": "display_data"
    },
    {
     "name": "stdout",
     "output_type": "stream",
     "text": [
      "Porcentaje de cada valor en Durante ese uso, ¿cuántas imágenes consumes (ves y compartes)? expresado como valor / porcentaje\n"
     ]
    },
    {
     "data": {
      "text/plain": [
       "2     2.04\n",
       "3    15.31\n",
       "4    53.06\n",
       "5    29.59\n",
       "Name: Durante ese uso, ¿cuántas imágenes consumes (ves y compartes)?, dtype: float64"
      ]
     },
     "metadata": {},
     "output_type": "display_data"
    },
    {
     "data": {
      "application/vnd.plotly.v1+json": {
       "config": {
        "linkText": "Export to plot.ly",
        "plotlyServerURL": "https://plot.ly",
        "showLink": false
       },
       "data": [
        {
         "marker": {
          "color": [
           "rgb(213,62,79)",
           "rgb(252,141,89)",
           "rgb(254,224,139)",
           "rgb(230,245,152)",
           "rgb(153,213,148)",
           "rgb(50,136,189)"
          ]
         },
         "type": "bar",
         "uid": "741fb5c6-a5f0-4fac-b698-dc1038f264fa",
         "x": [
          2,
          3,
          4,
          5
         ],
         "y": [
          2,
          15,
          52,
          29
         ]
        }
       ],
       "layout": {
        "bargap": 0.2,
        "xaxis": {
         "ticktext": [
          "1. Ninguna",
          "2. Pocas",
          "3. Ni muchas ni pocas",
          "4. Bastantes",
          "5. Recibo y envio imágenes de forma constante"
         ],
         "tickvals": [
          1,
          2,
          3,
          4,
          5
         ]
        }
       }
      },
      "text/html": [
       "<div id=\"30b0aacb-16cd-4fe5-ac1b-5145799f76a9\" style=\"height: 525px; width: 100%;\" class=\"plotly-graph-div\"></div><script type=\"text/javascript\">require([\"plotly\"], function(Plotly) { window.PLOTLYENV=window.PLOTLYENV || {};window.PLOTLYENV.BASE_URL=\"https://plot.ly\";\n",
       "if (document.getElementById(\"30b0aacb-16cd-4fe5-ac1b-5145799f76a9\")) {\n",
       "    Plotly.newPlot(\"30b0aacb-16cd-4fe5-ac1b-5145799f76a9\", [{\"marker\": {\"color\": [\"rgb(213,62,79)\", \"rgb(252,141,89)\", \"rgb(254,224,139)\", \"rgb(230,245,152)\", \"rgb(153,213,148)\", \"rgb(50,136,189)\"]}, \"x\": [2, 3, 4, 5], \"y\": [2, 15, 52, 29], \"type\": \"bar\", \"uid\": \"741fb5c6-a5f0-4fac-b698-dc1038f264fa\"}], {\"bargap\": 0.2, \"xaxis\": {\"ticktext\": [\"1. Ninguna\", \"2. Pocas\", \"3. Ni muchas ni pocas\", \"4. Bastantes\", \"5. Recibo y envio im\\u00e1genes de forma constante\"], \"tickvals\": [1, 2, 3, 4, 5]}}, {\"showLink\": false, \"linkText\": \"Export to plot.ly\", \"plotlyServerURL\": \"https://plot.ly\"}); \n",
       "}\n",
       "});</script><script type=\"text/javascript\">window.addEventListener(\"resize\", function(){if (document.getElementById(\"30b0aacb-16cd-4fe5-ac1b-5145799f76a9\")) {window._Plotly.Plots.resize(document.getElementById(\"30b0aacb-16cd-4fe5-ac1b-5145799f76a9\"));};})</script>"
      ],
      "text/vnd.plotly.v1+html": [
       "<div id=\"30b0aacb-16cd-4fe5-ac1b-5145799f76a9\" style=\"height: 525px; width: 100%;\" class=\"plotly-graph-div\"></div><script type=\"text/javascript\">require([\"plotly\"], function(Plotly) { window.PLOTLYENV=window.PLOTLYENV || {};window.PLOTLYENV.BASE_URL=\"https://plot.ly\";\n",
       "if (document.getElementById(\"30b0aacb-16cd-4fe5-ac1b-5145799f76a9\")) {\n",
       "    Plotly.newPlot(\"30b0aacb-16cd-4fe5-ac1b-5145799f76a9\", [{\"marker\": {\"color\": [\"rgb(213,62,79)\", \"rgb(252,141,89)\", \"rgb(254,224,139)\", \"rgb(230,245,152)\", \"rgb(153,213,148)\", \"rgb(50,136,189)\"]}, \"x\": [2, 3, 4, 5], \"y\": [2, 15, 52, 29], \"type\": \"bar\", \"uid\": \"741fb5c6-a5f0-4fac-b698-dc1038f264fa\"}], {\"bargap\": 0.2, \"xaxis\": {\"ticktext\": [\"1. Ninguna\", \"2. Pocas\", \"3. Ni muchas ni pocas\", \"4. Bastantes\", \"5. Recibo y envio im\\u00e1genes de forma constante\"], \"tickvals\": [1, 2, 3, 4, 5]}}, {\"showLink\": false, \"linkText\": \"Export to plot.ly\", \"plotlyServerURL\": \"https://plot.ly\"}); \n",
       "}\n",
       "});</script><script type=\"text/javascript\">window.addEventListener(\"resize\", function(){if (document.getElementById(\"30b0aacb-16cd-4fe5-ac1b-5145799f76a9\")) {window._Plotly.Plots.resize(document.getElementById(\"30b0aacb-16cd-4fe5-ac1b-5145799f76a9\"));};})</script>"
      ]
     },
     "metadata": {},
     "output_type": "display_data"
    },
    {
     "name": "stdout",
     "output_type": "stream",
     "text": [
      "\n",
      "\n",
      "Cluster 4 || variable: ¿Cuál es tu herramienta habitual de consumo de imágenes?\n",
      "Describiendo la pregunta ¿Cuál es tu herramienta habitual de consumo de imágenes?\n",
      "Valores numéricos asociados a las respuestas [1, 2, 3, 4, 5]\n",
      "Respuestas posibles a la pregunta/variable ['1. Móvil', '2. Televisión', '3. Ordenador', '4. Tableta', '5. Otros (Libros y periódicos en papel, marquesinas, museos...)']\n"
     ]
    },
    {
     "data": {
      "text/plain": [
       "count    98.000000\n",
       "mean      1.673469\n",
       "std       0.971507\n",
       "min       1.000000\n",
       "25%       1.000000\n",
       "50%       1.000000\n",
       "75%       3.000000\n",
       "max       4.000000\n",
       "Name: ¿Cuál es tu herramienta habitual de consumo de imágenes?, dtype: float64"
      ]
     },
     "metadata": {},
     "output_type": "display_data"
    },
    {
     "name": "stdout",
     "output_type": "stream",
     "text": [
      "Conteo de cada valor en ¿Cuál es tu herramienta habitual de consumo de imágenes? expresada como valor / cantidad\n"
     ]
    },
    {
     "data": {
      "text/plain": [
       "1    64\n",
       "2     5\n",
       "3    26\n",
       "4     3\n",
       "Name: ¿Cuál es tu herramienta habitual de consumo de imágenes?, dtype: int64"
      ]
     },
     "metadata": {},
     "output_type": "display_data"
    },
    {
     "name": "stdout",
     "output_type": "stream",
     "text": [
      "Porcentaje de cada valor en ¿Cuál es tu herramienta habitual de consumo de imágenes? expresado como valor / porcentaje\n"
     ]
    },
    {
     "data": {
      "text/plain": [
       "1    65.31\n",
       "2     5.10\n",
       "3    26.53\n",
       "4     3.06\n",
       "Name: ¿Cuál es tu herramienta habitual de consumo de imágenes?, dtype: float64"
      ]
     },
     "metadata": {},
     "output_type": "display_data"
    },
    {
     "data": {
      "application/vnd.plotly.v1+json": {
       "config": {
        "linkText": "Export to plot.ly",
        "plotlyServerURL": "https://plot.ly",
        "showLink": false
       },
       "data": [
        {
         "marker": {
          "color": [
           "rgb(213,62,79)",
           "rgb(252,141,89)",
           "rgb(254,224,139)",
           "rgb(230,245,152)",
           "rgb(153,213,148)",
           "rgb(50,136,189)"
          ]
         },
         "type": "bar",
         "uid": "564b8691-3858-4dbb-bf99-41f3321afce5",
         "x": [
          1,
          2,
          3,
          4
         ],
         "y": [
          64,
          5,
          26,
          3
         ]
        }
       ],
       "layout": {
        "bargap": 0.2,
        "xaxis": {
         "ticktext": [
          "1. Móvil",
          "2. Televisión",
          "3. Ordenador",
          "4. Tableta",
          "5. Otros (Libros y periódicos en papel, marquesinas, museos...)"
         ],
         "tickvals": [
          1,
          2,
          3,
          4,
          5
         ]
        }
       }
      },
      "text/html": [
       "<div id=\"656e34a3-ed2f-4711-850e-b45a4c6b44fd\" style=\"height: 525px; width: 100%;\" class=\"plotly-graph-div\"></div><script type=\"text/javascript\">require([\"plotly\"], function(Plotly) { window.PLOTLYENV=window.PLOTLYENV || {};window.PLOTLYENV.BASE_URL=\"https://plot.ly\";\n",
       "if (document.getElementById(\"656e34a3-ed2f-4711-850e-b45a4c6b44fd\")) {\n",
       "    Plotly.newPlot(\"656e34a3-ed2f-4711-850e-b45a4c6b44fd\", [{\"marker\": {\"color\": [\"rgb(213,62,79)\", \"rgb(252,141,89)\", \"rgb(254,224,139)\", \"rgb(230,245,152)\", \"rgb(153,213,148)\", \"rgb(50,136,189)\"]}, \"x\": [1, 2, 3, 4], \"y\": [64, 5, 26, 3], \"type\": \"bar\", \"uid\": \"564b8691-3858-4dbb-bf99-41f3321afce5\"}], {\"bargap\": 0.2, \"xaxis\": {\"ticktext\": [\"1. M\\u00f3vil\", \"2. Televisi\\u00f3n\", \"3. Ordenador\", \"4. Tableta\", \"5. Otros (Libros y peri\\u00f3dicos en papel, marquesinas, museos...)\"], \"tickvals\": [1, 2, 3, 4, 5]}}, {\"showLink\": false, \"linkText\": \"Export to plot.ly\", \"plotlyServerURL\": \"https://plot.ly\"}); \n",
       "}\n",
       "});</script><script type=\"text/javascript\">window.addEventListener(\"resize\", function(){if (document.getElementById(\"656e34a3-ed2f-4711-850e-b45a4c6b44fd\")) {window._Plotly.Plots.resize(document.getElementById(\"656e34a3-ed2f-4711-850e-b45a4c6b44fd\"));};})</script>"
      ],
      "text/vnd.plotly.v1+html": [
       "<div id=\"656e34a3-ed2f-4711-850e-b45a4c6b44fd\" style=\"height: 525px; width: 100%;\" class=\"plotly-graph-div\"></div><script type=\"text/javascript\">require([\"plotly\"], function(Plotly) { window.PLOTLYENV=window.PLOTLYENV || {};window.PLOTLYENV.BASE_URL=\"https://plot.ly\";\n",
       "if (document.getElementById(\"656e34a3-ed2f-4711-850e-b45a4c6b44fd\")) {\n",
       "    Plotly.newPlot(\"656e34a3-ed2f-4711-850e-b45a4c6b44fd\", [{\"marker\": {\"color\": [\"rgb(213,62,79)\", \"rgb(252,141,89)\", \"rgb(254,224,139)\", \"rgb(230,245,152)\", \"rgb(153,213,148)\", \"rgb(50,136,189)\"]}, \"x\": [1, 2, 3, 4], \"y\": [64, 5, 26, 3], \"type\": \"bar\", \"uid\": \"564b8691-3858-4dbb-bf99-41f3321afce5\"}], {\"bargap\": 0.2, \"xaxis\": {\"ticktext\": [\"1. M\\u00f3vil\", \"2. Televisi\\u00f3n\", \"3. Ordenador\", \"4. Tableta\", \"5. Otros (Libros y peri\\u00f3dicos en papel, marquesinas, museos...)\"], \"tickvals\": [1, 2, 3, 4, 5]}}, {\"showLink\": false, \"linkText\": \"Export to plot.ly\", \"plotlyServerURL\": \"https://plot.ly\"}); \n",
       "}\n",
       "});</script><script type=\"text/javascript\">window.addEventListener(\"resize\", function(){if (document.getElementById(\"656e34a3-ed2f-4711-850e-b45a4c6b44fd\")) {window._Plotly.Plots.resize(document.getElementById(\"656e34a3-ed2f-4711-850e-b45a4c6b44fd\"));};})</script>"
      ]
     },
     "metadata": {},
     "output_type": "display_data"
    },
    {
     "name": "stdout",
     "output_type": "stream",
     "text": [
      "\n",
      "\n",
      "Cluster 4 || variable: ¿Cada cuánto tiempo consumes imágenes?\n",
      "Describiendo la pregunta ¿Cada cuánto tiempo consumes imágenes?\n",
      "Valores numéricos asociados a las respuestas [1, 2, 3, 4]\n",
      "Respuestas posibles a la pregunta/variable ['1. Nunca', '2. Dos o tres veces por semana', '3. Casi todos los días', '4. A diario']\n"
     ]
    },
    {
     "data": {
      "text/plain": [
       "count    98.000000\n",
       "mean      3.765306\n",
       "std       0.493275\n",
       "min       2.000000\n",
       "25%       4.000000\n",
       "50%       4.000000\n",
       "75%       4.000000\n",
       "max       4.000000\n",
       "Name: ¿Cada cuánto tiempo consumes imágenes?, dtype: float64"
      ]
     },
     "metadata": {},
     "output_type": "display_data"
    },
    {
     "name": "stdout",
     "output_type": "stream",
     "text": [
      "Conteo de cada valor en ¿Cada cuánto tiempo consumes imágenes? expresada como valor / cantidad\n"
     ]
    },
    {
     "data": {
      "text/plain": [
       "2     3\n",
       "3    17\n",
       "4    78\n",
       "Name: ¿Cada cuánto tiempo consumes imágenes?, dtype: int64"
      ]
     },
     "metadata": {},
     "output_type": "display_data"
    },
    {
     "name": "stdout",
     "output_type": "stream",
     "text": [
      "Porcentaje de cada valor en ¿Cada cuánto tiempo consumes imágenes? expresado como valor / porcentaje\n"
     ]
    },
    {
     "data": {
      "text/plain": [
       "2     3.06\n",
       "3    17.35\n",
       "4    79.59\n",
       "Name: ¿Cada cuánto tiempo consumes imágenes?, dtype: float64"
      ]
     },
     "metadata": {},
     "output_type": "display_data"
    },
    {
     "data": {
      "application/vnd.plotly.v1+json": {
       "config": {
        "linkText": "Export to plot.ly",
        "plotlyServerURL": "https://plot.ly",
        "showLink": false
       },
       "data": [
        {
         "marker": {
          "color": [
           "rgb(213,62,79)",
           "rgb(252,141,89)",
           "rgb(254,224,139)",
           "rgb(230,245,152)",
           "rgb(153,213,148)",
           "rgb(50,136,189)"
          ]
         },
         "type": "bar",
         "uid": "6a4372f2-1139-48dd-a81a-af860af2892d",
         "x": [
          2,
          3,
          4
         ],
         "y": [
          3,
          17,
          78
         ]
        }
       ],
       "layout": {
        "bargap": 0.2,
        "xaxis": {
         "ticktext": [
          "1. Nunca",
          "2. Dos o tres veces por semana",
          "3. Casi todos los días",
          "4. A diario"
         ],
         "tickvals": [
          1,
          2,
          3,
          4
         ]
        }
       }
      },
      "text/html": [
       "<div id=\"ab18c049-2d16-4097-8718-99e3a4f9bce8\" style=\"height: 525px; width: 100%;\" class=\"plotly-graph-div\"></div><script type=\"text/javascript\">require([\"plotly\"], function(Plotly) { window.PLOTLYENV=window.PLOTLYENV || {};window.PLOTLYENV.BASE_URL=\"https://plot.ly\";\n",
       "if (document.getElementById(\"ab18c049-2d16-4097-8718-99e3a4f9bce8\")) {\n",
       "    Plotly.newPlot(\"ab18c049-2d16-4097-8718-99e3a4f9bce8\", [{\"marker\": {\"color\": [\"rgb(213,62,79)\", \"rgb(252,141,89)\", \"rgb(254,224,139)\", \"rgb(230,245,152)\", \"rgb(153,213,148)\", \"rgb(50,136,189)\"]}, \"x\": [2, 3, 4], \"y\": [3, 17, 78], \"type\": \"bar\", \"uid\": \"6a4372f2-1139-48dd-a81a-af860af2892d\"}], {\"bargap\": 0.2, \"xaxis\": {\"ticktext\": [\"1. Nunca\", \"2. Dos o tres veces por semana\", \"3. Casi todos los d\\u00edas\", \"4. A diario\"], \"tickvals\": [1, 2, 3, 4]}}, {\"showLink\": false, \"linkText\": \"Export to plot.ly\", \"plotlyServerURL\": \"https://plot.ly\"}); \n",
       "}\n",
       "});</script><script type=\"text/javascript\">window.addEventListener(\"resize\", function(){if (document.getElementById(\"ab18c049-2d16-4097-8718-99e3a4f9bce8\")) {window._Plotly.Plots.resize(document.getElementById(\"ab18c049-2d16-4097-8718-99e3a4f9bce8\"));};})</script>"
      ],
      "text/vnd.plotly.v1+html": [
       "<div id=\"ab18c049-2d16-4097-8718-99e3a4f9bce8\" style=\"height: 525px; width: 100%;\" class=\"plotly-graph-div\"></div><script type=\"text/javascript\">require([\"plotly\"], function(Plotly) { window.PLOTLYENV=window.PLOTLYENV || {};window.PLOTLYENV.BASE_URL=\"https://plot.ly\";\n",
       "if (document.getElementById(\"ab18c049-2d16-4097-8718-99e3a4f9bce8\")) {\n",
       "    Plotly.newPlot(\"ab18c049-2d16-4097-8718-99e3a4f9bce8\", [{\"marker\": {\"color\": [\"rgb(213,62,79)\", \"rgb(252,141,89)\", \"rgb(254,224,139)\", \"rgb(230,245,152)\", \"rgb(153,213,148)\", \"rgb(50,136,189)\"]}, \"x\": [2, 3, 4], \"y\": [3, 17, 78], \"type\": \"bar\", \"uid\": \"6a4372f2-1139-48dd-a81a-af860af2892d\"}], {\"bargap\": 0.2, \"xaxis\": {\"ticktext\": [\"1. Nunca\", \"2. Dos o tres veces por semana\", \"3. Casi todos los d\\u00edas\", \"4. A diario\"], \"tickvals\": [1, 2, 3, 4]}}, {\"showLink\": false, \"linkText\": \"Export to plot.ly\", \"plotlyServerURL\": \"https://plot.ly\"}); \n",
       "}\n",
       "});</script><script type=\"text/javascript\">window.addEventListener(\"resize\", function(){if (document.getElementById(\"ab18c049-2d16-4097-8718-99e3a4f9bce8\")) {window._Plotly.Plots.resize(document.getElementById(\"ab18c049-2d16-4097-8718-99e3a4f9bce8\"));};})</script>"
      ]
     },
     "metadata": {},
     "output_type": "display_data"
    },
    {
     "name": "stdout",
     "output_type": "stream",
     "text": [
      "\n",
      "\n",
      "Cluster 3 || variable: Clasifica tu grado de visión\n",
      "Describiendo la pregunta Clasifica tu grado de visión\n",
      "Valores numéricos asociados a las respuestas [1, 2, 3, 4, 5]\n",
      "Respuestas posibles a la pregunta/variable ['1. Muy malo', '2. Malo', '3. Regular', '4. Bueno', '5. Muy bueno']\n"
     ]
    },
    {
     "data": {
      "text/plain": [
       "count    100.000000\n",
       "mean       4.460000\n",
       "std        0.626357\n",
       "min        3.000000\n",
       "25%        4.000000\n",
       "50%        5.000000\n",
       "75%        5.000000\n",
       "max        5.000000\n",
       "Name: Clasifica tu grado de visión, dtype: float64"
      ]
     },
     "metadata": {},
     "output_type": "display_data"
    },
    {
     "name": "stdout",
     "output_type": "stream",
     "text": [
      "Conteo de cada valor en Clasifica tu grado de visión expresada como valor / cantidad\n"
     ]
    },
    {
     "data": {
      "text/plain": [
       "3     7\n",
       "4    40\n",
       "5    53\n",
       "Name: Clasifica tu grado de visión, dtype: int64"
      ]
     },
     "metadata": {},
     "output_type": "display_data"
    },
    {
     "name": "stdout",
     "output_type": "stream",
     "text": [
      "Porcentaje de cada valor en Clasifica tu grado de visión expresado como valor / porcentaje\n"
     ]
    },
    {
     "data": {
      "text/plain": [
       "3     7.0\n",
       "4    40.0\n",
       "5    53.0\n",
       "Name: Clasifica tu grado de visión, dtype: float64"
      ]
     },
     "metadata": {},
     "output_type": "display_data"
    },
    {
     "data": {
      "application/vnd.plotly.v1+json": {
       "config": {
        "linkText": "Export to plot.ly",
        "plotlyServerURL": "https://plot.ly",
        "showLink": false
       },
       "data": [
        {
         "marker": {
          "color": [
           "rgb(213,62,79)",
           "rgb(252,141,89)",
           "rgb(254,224,139)",
           "rgb(230,245,152)",
           "rgb(153,213,148)",
           "rgb(50,136,189)"
          ]
         },
         "type": "bar",
         "uid": "e5447690-0c55-47cf-bde6-f80dfa730678",
         "x": [
          3,
          4,
          5
         ],
         "y": [
          7,
          40,
          53
         ]
        }
       ],
       "layout": {
        "bargap": 0.2,
        "xaxis": {
         "ticktext": [
          "1. Muy malo",
          "2. Malo",
          "3. Regular",
          "4. Bueno",
          "5. Muy bueno"
         ],
         "tickvals": [
          1,
          2,
          3,
          4,
          5
         ]
        }
       }
      },
      "text/html": [
       "<div id=\"58c0f360-11e4-4e75-853a-f4acb93aad06\" style=\"height: 525px; width: 100%;\" class=\"plotly-graph-div\"></div><script type=\"text/javascript\">require([\"plotly\"], function(Plotly) { window.PLOTLYENV=window.PLOTLYENV || {};window.PLOTLYENV.BASE_URL=\"https://plot.ly\";\n",
       "if (document.getElementById(\"58c0f360-11e4-4e75-853a-f4acb93aad06\")) {\n",
       "    Plotly.newPlot(\"58c0f360-11e4-4e75-853a-f4acb93aad06\", [{\"marker\": {\"color\": [\"rgb(213,62,79)\", \"rgb(252,141,89)\", \"rgb(254,224,139)\", \"rgb(230,245,152)\", \"rgb(153,213,148)\", \"rgb(50,136,189)\"]}, \"x\": [3, 4, 5], \"y\": [7, 40, 53], \"type\": \"bar\", \"uid\": \"e5447690-0c55-47cf-bde6-f80dfa730678\"}], {\"bargap\": 0.2, \"xaxis\": {\"ticktext\": [\"1. Muy malo\", \"2. Malo\", \"3. Regular\", \"4. Bueno\", \"5. Muy bueno\"], \"tickvals\": [1, 2, 3, 4, 5]}}, {\"showLink\": false, \"linkText\": \"Export to plot.ly\", \"plotlyServerURL\": \"https://plot.ly\"}); \n",
       "}\n",
       "});</script><script type=\"text/javascript\">window.addEventListener(\"resize\", function(){if (document.getElementById(\"58c0f360-11e4-4e75-853a-f4acb93aad06\")) {window._Plotly.Plots.resize(document.getElementById(\"58c0f360-11e4-4e75-853a-f4acb93aad06\"));};})</script>"
      ],
      "text/vnd.plotly.v1+html": [
       "<div id=\"58c0f360-11e4-4e75-853a-f4acb93aad06\" style=\"height: 525px; width: 100%;\" class=\"plotly-graph-div\"></div><script type=\"text/javascript\">require([\"plotly\"], function(Plotly) { window.PLOTLYENV=window.PLOTLYENV || {};window.PLOTLYENV.BASE_URL=\"https://plot.ly\";\n",
       "if (document.getElementById(\"58c0f360-11e4-4e75-853a-f4acb93aad06\")) {\n",
       "    Plotly.newPlot(\"58c0f360-11e4-4e75-853a-f4acb93aad06\", [{\"marker\": {\"color\": [\"rgb(213,62,79)\", \"rgb(252,141,89)\", \"rgb(254,224,139)\", \"rgb(230,245,152)\", \"rgb(153,213,148)\", \"rgb(50,136,189)\"]}, \"x\": [3, 4, 5], \"y\": [7, 40, 53], \"type\": \"bar\", \"uid\": \"e5447690-0c55-47cf-bde6-f80dfa730678\"}], {\"bargap\": 0.2, \"xaxis\": {\"ticktext\": [\"1. Muy malo\", \"2. Malo\", \"3. Regular\", \"4. Bueno\", \"5. Muy bueno\"], \"tickvals\": [1, 2, 3, 4, 5]}}, {\"showLink\": false, \"linkText\": \"Export to plot.ly\", \"plotlyServerURL\": \"https://plot.ly\"}); \n",
       "}\n",
       "});</script><script type=\"text/javascript\">window.addEventListener(\"resize\", function(){if (document.getElementById(\"58c0f360-11e4-4e75-853a-f4acb93aad06\")) {window._Plotly.Plots.resize(document.getElementById(\"58c0f360-11e4-4e75-853a-f4acb93aad06\"));};})</script>"
      ]
     },
     "metadata": {},
     "output_type": "display_data"
    },
    {
     "name": "stdout",
     "output_type": "stream",
     "text": [
      "\n",
      "\n",
      "Cluster 3 || variable: ¿Utilizas gafas o lentes de contacto?\n",
      "Describiendo la pregunta ¿Utilizas gafas o lentes de contacto?\n",
      "Valores numéricos asociados a las respuestas [0, 1]\n",
      "Respuestas posibles a la pregunta/variable ['No', 'Sí']\n"
     ]
    },
    {
     "data": {
      "text/plain": [
       "count    100.000000\n",
       "mean       0.330000\n",
       "std        0.472582\n",
       "min        0.000000\n",
       "25%        0.000000\n",
       "50%        0.000000\n",
       "75%        1.000000\n",
       "max        1.000000\n",
       "Name: ¿Utilizas gafas o lentes de contacto?, dtype: float64"
      ]
     },
     "metadata": {},
     "output_type": "display_data"
    },
    {
     "name": "stdout",
     "output_type": "stream",
     "text": [
      "Conteo de cada valor en ¿Utilizas gafas o lentes de contacto? expresada como valor / cantidad\n"
     ]
    },
    {
     "data": {
      "text/plain": [
       "0    67\n",
       "1    33\n",
       "Name: ¿Utilizas gafas o lentes de contacto?, dtype: int64"
      ]
     },
     "metadata": {},
     "output_type": "display_data"
    },
    {
     "name": "stdout",
     "output_type": "stream",
     "text": [
      "Porcentaje de cada valor en ¿Utilizas gafas o lentes de contacto? expresado como valor / porcentaje\n"
     ]
    },
    {
     "data": {
      "text/plain": [
       "0    67.0\n",
       "1    33.0\n",
       "Name: ¿Utilizas gafas o lentes de contacto?, dtype: float64"
      ]
     },
     "metadata": {},
     "output_type": "display_data"
    },
    {
     "data": {
      "application/vnd.plotly.v1+json": {
       "config": {
        "linkText": "Export to plot.ly",
        "plotlyServerURL": "https://plot.ly",
        "showLink": false
       },
       "data": [
        {
         "marker": {
          "color": [
           "rgb(213,62,79)",
           "rgb(252,141,89)",
           "rgb(254,224,139)",
           "rgb(230,245,152)",
           "rgb(153,213,148)",
           "rgb(50,136,189)"
          ]
         },
         "type": "bar",
         "uid": "c22feb80-cde0-45f3-814b-9ecb777637a6",
         "x": [
          0,
          1
         ],
         "y": [
          67,
          33
         ]
        }
       ],
       "layout": {
        "bargap": 0.2,
        "xaxis": {
         "ticktext": [
          "No",
          "Sí"
         ],
         "tickvals": [
          0,
          1
         ]
        }
       }
      },
      "text/html": [
       "<div id=\"cb3dbe40-954f-4caf-bc2d-da97f5e4f086\" style=\"height: 525px; width: 100%;\" class=\"plotly-graph-div\"></div><script type=\"text/javascript\">require([\"plotly\"], function(Plotly) { window.PLOTLYENV=window.PLOTLYENV || {};window.PLOTLYENV.BASE_URL=\"https://plot.ly\";\n",
       "if (document.getElementById(\"cb3dbe40-954f-4caf-bc2d-da97f5e4f086\")) {\n",
       "    Plotly.newPlot(\"cb3dbe40-954f-4caf-bc2d-da97f5e4f086\", [{\"marker\": {\"color\": [\"rgb(213,62,79)\", \"rgb(252,141,89)\", \"rgb(254,224,139)\", \"rgb(230,245,152)\", \"rgb(153,213,148)\", \"rgb(50,136,189)\"]}, \"x\": [0, 1], \"y\": [67, 33], \"type\": \"bar\", \"uid\": \"c22feb80-cde0-45f3-814b-9ecb777637a6\"}], {\"bargap\": 0.2, \"xaxis\": {\"ticktext\": [\"No\", \"S\\u00ed\"], \"tickvals\": [0, 1]}}, {\"showLink\": false, \"linkText\": \"Export to plot.ly\", \"plotlyServerURL\": \"https://plot.ly\"}); \n",
       "}\n",
       "});</script><script type=\"text/javascript\">window.addEventListener(\"resize\", function(){if (document.getElementById(\"cb3dbe40-954f-4caf-bc2d-da97f5e4f086\")) {window._Plotly.Plots.resize(document.getElementById(\"cb3dbe40-954f-4caf-bc2d-da97f5e4f086\"));};})</script>"
      ],
      "text/vnd.plotly.v1+html": [
       "<div id=\"cb3dbe40-954f-4caf-bc2d-da97f5e4f086\" style=\"height: 525px; width: 100%;\" class=\"plotly-graph-div\"></div><script type=\"text/javascript\">require([\"plotly\"], function(Plotly) { window.PLOTLYENV=window.PLOTLYENV || {};window.PLOTLYENV.BASE_URL=\"https://plot.ly\";\n",
       "if (document.getElementById(\"cb3dbe40-954f-4caf-bc2d-da97f5e4f086\")) {\n",
       "    Plotly.newPlot(\"cb3dbe40-954f-4caf-bc2d-da97f5e4f086\", [{\"marker\": {\"color\": [\"rgb(213,62,79)\", \"rgb(252,141,89)\", \"rgb(254,224,139)\", \"rgb(230,245,152)\", \"rgb(153,213,148)\", \"rgb(50,136,189)\"]}, \"x\": [0, 1], \"y\": [67, 33], \"type\": \"bar\", \"uid\": \"c22feb80-cde0-45f3-814b-9ecb777637a6\"}], {\"bargap\": 0.2, \"xaxis\": {\"ticktext\": [\"No\", \"S\\u00ed\"], \"tickvals\": [0, 1]}}, {\"showLink\": false, \"linkText\": \"Export to plot.ly\", \"plotlyServerURL\": \"https://plot.ly\"}); \n",
       "}\n",
       "});</script><script type=\"text/javascript\">window.addEventListener(\"resize\", function(){if (document.getElementById(\"cb3dbe40-954f-4caf-bc2d-da97f5e4f086\")) {window._Plotly.Plots.resize(document.getElementById(\"cb3dbe40-954f-4caf-bc2d-da97f5e4f086\"));};})</script>"
      ]
     },
     "metadata": {},
     "output_type": "display_data"
    },
    {
     "name": "stdout",
     "output_type": "stream",
     "text": [
      "\n",
      "\n",
      "Cluster 3 || variable: ¿Tienes alguna carencia visual que afecte a la recepción de formas, colores, distancias, etc.?\n",
      "Describiendo la pregunta ¿Tienes alguna carencia visual que afecte a la recepción de formas, colores, distancias, etc.?\n",
      "Valores numéricos asociados a las respuestas [0, 1]\n",
      "Respuestas posibles a la pregunta/variable ['No', 'Sí']\n"
     ]
    },
    {
     "data": {
      "text/plain": [
       "count    100.000000\n",
       "mean       0.160000\n",
       "std        0.368453\n",
       "min        0.000000\n",
       "25%        0.000000\n",
       "50%        0.000000\n",
       "75%        0.000000\n",
       "max        1.000000\n",
       "Name: ¿Tienes alguna carencia visual que afecte a la recepción de formas, colores, distancias, etc.?, dtype: float64"
      ]
     },
     "metadata": {},
     "output_type": "display_data"
    },
    {
     "name": "stdout",
     "output_type": "stream",
     "text": [
      "Conteo de cada valor en ¿Tienes alguna carencia visual que afecte a la recepción de formas, colores, distancias, etc.? expresada como valor / cantidad\n"
     ]
    },
    {
     "data": {
      "text/plain": [
       "0    84\n",
       "1    16\n",
       "Name: ¿Tienes alguna carencia visual que afecte a la recepción de formas, colores, distancias, etc.?, dtype: int64"
      ]
     },
     "metadata": {},
     "output_type": "display_data"
    },
    {
     "name": "stdout",
     "output_type": "stream",
     "text": [
      "Porcentaje de cada valor en ¿Tienes alguna carencia visual que afecte a la recepción de formas, colores, distancias, etc.? expresado como valor / porcentaje\n"
     ]
    },
    {
     "data": {
      "text/plain": [
       "0    84.0\n",
       "1    16.0\n",
       "Name: ¿Tienes alguna carencia visual que afecte a la recepción de formas, colores, distancias, etc.?, dtype: float64"
      ]
     },
     "metadata": {},
     "output_type": "display_data"
    },
    {
     "data": {
      "application/vnd.plotly.v1+json": {
       "config": {
        "linkText": "Export to plot.ly",
        "plotlyServerURL": "https://plot.ly",
        "showLink": false
       },
       "data": [
        {
         "marker": {
          "color": [
           "rgb(213,62,79)",
           "rgb(252,141,89)",
           "rgb(254,224,139)",
           "rgb(230,245,152)",
           "rgb(153,213,148)",
           "rgb(50,136,189)"
          ]
         },
         "type": "bar",
         "uid": "fd3e13e5-7234-4a05-a1ef-d489661c410c",
         "x": [
          0,
          1
         ],
         "y": [
          84,
          16
         ]
        }
       ],
       "layout": {
        "bargap": 0.2,
        "xaxis": {
         "ticktext": [
          "No",
          "Sí"
         ],
         "tickvals": [
          0,
          1
         ]
        }
       }
      },
      "text/html": [
       "<div id=\"a71148f6-6f8a-4680-a67f-2378724fedcf\" style=\"height: 525px; width: 100%;\" class=\"plotly-graph-div\"></div><script type=\"text/javascript\">require([\"plotly\"], function(Plotly) { window.PLOTLYENV=window.PLOTLYENV || {};window.PLOTLYENV.BASE_URL=\"https://plot.ly\";\n",
       "if (document.getElementById(\"a71148f6-6f8a-4680-a67f-2378724fedcf\")) {\n",
       "    Plotly.newPlot(\"a71148f6-6f8a-4680-a67f-2378724fedcf\", [{\"marker\": {\"color\": [\"rgb(213,62,79)\", \"rgb(252,141,89)\", \"rgb(254,224,139)\", \"rgb(230,245,152)\", \"rgb(153,213,148)\", \"rgb(50,136,189)\"]}, \"x\": [0, 1], \"y\": [84, 16], \"type\": \"bar\", \"uid\": \"fd3e13e5-7234-4a05-a1ef-d489661c410c\"}], {\"bargap\": 0.2, \"xaxis\": {\"ticktext\": [\"No\", \"S\\u00ed\"], \"tickvals\": [0, 1]}}, {\"showLink\": false, \"linkText\": \"Export to plot.ly\", \"plotlyServerURL\": \"https://plot.ly\"}); \n",
       "}\n",
       "});</script><script type=\"text/javascript\">window.addEventListener(\"resize\", function(){if (document.getElementById(\"a71148f6-6f8a-4680-a67f-2378724fedcf\")) {window._Plotly.Plots.resize(document.getElementById(\"a71148f6-6f8a-4680-a67f-2378724fedcf\"));};})</script>"
      ],
      "text/vnd.plotly.v1+html": [
       "<div id=\"a71148f6-6f8a-4680-a67f-2378724fedcf\" style=\"height: 525px; width: 100%;\" class=\"plotly-graph-div\"></div><script type=\"text/javascript\">require([\"plotly\"], function(Plotly) { window.PLOTLYENV=window.PLOTLYENV || {};window.PLOTLYENV.BASE_URL=\"https://plot.ly\";\n",
       "if (document.getElementById(\"a71148f6-6f8a-4680-a67f-2378724fedcf\")) {\n",
       "    Plotly.newPlot(\"a71148f6-6f8a-4680-a67f-2378724fedcf\", [{\"marker\": {\"color\": [\"rgb(213,62,79)\", \"rgb(252,141,89)\", \"rgb(254,224,139)\", \"rgb(230,245,152)\", \"rgb(153,213,148)\", \"rgb(50,136,189)\"]}, \"x\": [0, 1], \"y\": [84, 16], \"type\": \"bar\", \"uid\": \"fd3e13e5-7234-4a05-a1ef-d489661c410c\"}], {\"bargap\": 0.2, \"xaxis\": {\"ticktext\": [\"No\", \"S\\u00ed\"], \"tickvals\": [0, 1]}}, {\"showLink\": false, \"linkText\": \"Export to plot.ly\", \"plotlyServerURL\": \"https://plot.ly\"}); \n",
       "}\n",
       "});</script><script type=\"text/javascript\">window.addEventListener(\"resize\", function(){if (document.getElementById(\"a71148f6-6f8a-4680-a67f-2378724fedcf\")) {window._Plotly.Plots.resize(document.getElementById(\"a71148f6-6f8a-4680-a67f-2378724fedcf\"));};})</script>"
      ]
     },
     "metadata": {},
     "output_type": "display_data"
    },
    {
     "name": "stdout",
     "output_type": "stream",
     "text": [
      "\n",
      "\n",
      "Cluster 3 || variable: ¿Tienes acceso a dispositivos (ordenador, móvil, tablet, etc.) conectados a Internet habitualmente?\n",
      "Describiendo la pregunta ¿Tienes acceso a dispositivos (ordenador, móvil, tablet, etc.) conectados a Internet habitualmente?\n",
      "Valores numéricos asociados a las respuestas [1, 2, 3, 4, 5]\n",
      "Respuestas posibles a la pregunta/variable ['1. Nunca', '2. Ocasionalmente', '3. Semanalmente', '4. Diariamente', '5. Varias veces al día']\n"
     ]
    },
    {
     "data": {
      "text/plain": [
       "count    100.000000\n",
       "mean       4.450000\n",
       "std        0.575159\n",
       "min        3.000000\n",
       "25%        4.000000\n",
       "50%        4.000000\n",
       "75%        5.000000\n",
       "max        5.000000\n",
       "Name: ¿Tienes acceso a dispositivos (ordenador, móvil, tablet, etc.) conectados a Internet habitualmente?, dtype: float64"
      ]
     },
     "metadata": {},
     "output_type": "display_data"
    },
    {
     "name": "stdout",
     "output_type": "stream",
     "text": [
      "Conteo de cada valor en ¿Tienes acceso a dispositivos (ordenador, móvil, tablet, etc.) conectados a Internet habitualmente? expresada como valor / cantidad\n"
     ]
    },
    {
     "data": {
      "text/plain": [
       "3     4\n",
       "4    47\n",
       "5    49\n",
       "Name: ¿Tienes acceso a dispositivos (ordenador, móvil, tablet, etc.) conectados a Internet habitualmente?, dtype: int64"
      ]
     },
     "metadata": {},
     "output_type": "display_data"
    },
    {
     "name": "stdout",
     "output_type": "stream",
     "text": [
      "Porcentaje de cada valor en ¿Tienes acceso a dispositivos (ordenador, móvil, tablet, etc.) conectados a Internet habitualmente? expresado como valor / porcentaje\n"
     ]
    },
    {
     "data": {
      "text/plain": [
       "3     4.0\n",
       "4    47.0\n",
       "5    49.0\n",
       "Name: ¿Tienes acceso a dispositivos (ordenador, móvil, tablet, etc.) conectados a Internet habitualmente?, dtype: float64"
      ]
     },
     "metadata": {},
     "output_type": "display_data"
    },
    {
     "data": {
      "application/vnd.plotly.v1+json": {
       "config": {
        "linkText": "Export to plot.ly",
        "plotlyServerURL": "https://plot.ly",
        "showLink": false
       },
       "data": [
        {
         "marker": {
          "color": [
           "rgb(213,62,79)",
           "rgb(252,141,89)",
           "rgb(254,224,139)",
           "rgb(230,245,152)",
           "rgb(153,213,148)",
           "rgb(50,136,189)"
          ]
         },
         "type": "bar",
         "uid": "52f070a1-4684-4081-8833-2684315462e1",
         "x": [
          3,
          4,
          5
         ],
         "y": [
          4,
          47,
          49
         ]
        }
       ],
       "layout": {
        "bargap": 0.2,
        "xaxis": {
         "ticktext": [
          "1. Nunca",
          "2. Ocasionalmente",
          "3. Semanalmente",
          "4. Diariamente",
          "5. Varias veces al día"
         ],
         "tickvals": [
          1,
          2,
          3,
          4,
          5
         ]
        }
       }
      },
      "text/html": [
       "<div id=\"3e260bf2-dc49-4c0b-bfda-869a391caabc\" style=\"height: 525px; width: 100%;\" class=\"plotly-graph-div\"></div><script type=\"text/javascript\">require([\"plotly\"], function(Plotly) { window.PLOTLYENV=window.PLOTLYENV || {};window.PLOTLYENV.BASE_URL=\"https://plot.ly\";\n",
       "if (document.getElementById(\"3e260bf2-dc49-4c0b-bfda-869a391caabc\")) {\n",
       "    Plotly.newPlot(\"3e260bf2-dc49-4c0b-bfda-869a391caabc\", [{\"marker\": {\"color\": [\"rgb(213,62,79)\", \"rgb(252,141,89)\", \"rgb(254,224,139)\", \"rgb(230,245,152)\", \"rgb(153,213,148)\", \"rgb(50,136,189)\"]}, \"x\": [3, 4, 5], \"y\": [4, 47, 49], \"type\": \"bar\", \"uid\": \"52f070a1-4684-4081-8833-2684315462e1\"}], {\"bargap\": 0.2, \"xaxis\": {\"ticktext\": [\"1. Nunca\", \"2. Ocasionalmente\", \"3. Semanalmente\", \"4. Diariamente\", \"5. Varias veces al d\\u00eda\"], \"tickvals\": [1, 2, 3, 4, 5]}}, {\"showLink\": false, \"linkText\": \"Export to plot.ly\", \"plotlyServerURL\": \"https://plot.ly\"}); \n",
       "}\n",
       "});</script><script type=\"text/javascript\">window.addEventListener(\"resize\", function(){if (document.getElementById(\"3e260bf2-dc49-4c0b-bfda-869a391caabc\")) {window._Plotly.Plots.resize(document.getElementById(\"3e260bf2-dc49-4c0b-bfda-869a391caabc\"));};})</script>"
      ],
      "text/vnd.plotly.v1+html": [
       "<div id=\"3e260bf2-dc49-4c0b-bfda-869a391caabc\" style=\"height: 525px; width: 100%;\" class=\"plotly-graph-div\"></div><script type=\"text/javascript\">require([\"plotly\"], function(Plotly) { window.PLOTLYENV=window.PLOTLYENV || {};window.PLOTLYENV.BASE_URL=\"https://plot.ly\";\n",
       "if (document.getElementById(\"3e260bf2-dc49-4c0b-bfda-869a391caabc\")) {\n",
       "    Plotly.newPlot(\"3e260bf2-dc49-4c0b-bfda-869a391caabc\", [{\"marker\": {\"color\": [\"rgb(213,62,79)\", \"rgb(252,141,89)\", \"rgb(254,224,139)\", \"rgb(230,245,152)\", \"rgb(153,213,148)\", \"rgb(50,136,189)\"]}, \"x\": [3, 4, 5], \"y\": [4, 47, 49], \"type\": \"bar\", \"uid\": \"52f070a1-4684-4081-8833-2684315462e1\"}], {\"bargap\": 0.2, \"xaxis\": {\"ticktext\": [\"1. Nunca\", \"2. Ocasionalmente\", \"3. Semanalmente\", \"4. Diariamente\", \"5. Varias veces al d\\u00eda\"], \"tickvals\": [1, 2, 3, 4, 5]}}, {\"showLink\": false, \"linkText\": \"Export to plot.ly\", \"plotlyServerURL\": \"https://plot.ly\"}); \n",
       "}\n",
       "});</script><script type=\"text/javascript\">window.addEventListener(\"resize\", function(){if (document.getElementById(\"3e260bf2-dc49-4c0b-bfda-869a391caabc\")) {window._Plotly.Plots.resize(document.getElementById(\"3e260bf2-dc49-4c0b-bfda-869a391caabc\"));};})</script>"
      ]
     },
     "metadata": {},
     "output_type": "display_data"
    },
    {
     "name": "stdout",
     "output_type": "stream",
     "text": [
      "\n",
      "\n",
      "Cluster 3 || variable: ¿Cuánto tiempo al día usas el móvil/tableta/ordenador/TV?\n",
      "Describiendo la pregunta ¿Cuánto tiempo al día usas el móvil/tableta/ordenador/TV?\n",
      "Valores numéricos asociados a las respuestas [1, 2, 3, 4, 5, 6]\n",
      "Respuestas posibles a la pregunta/variable ['1. Nada', '2. Menos de una hora', '3. 1-2 horas', '4. 2-4 horas', '5. 4-6 horas', '6. Más de 6 horas']\n"
     ]
    },
    {
     "data": {
      "text/plain": [
       "count    100.000000\n",
       "mean       5.140000\n",
       "std        1.025139\n",
       "min        3.000000\n",
       "25%        4.000000\n",
       "50%        5.500000\n",
       "75%        6.000000\n",
       "max        6.000000\n",
       "Name: ¿Cuánto tiempo al día usas el móvil/tableta/ordenador/TV?, dtype: float64"
      ]
     },
     "metadata": {},
     "output_type": "display_data"
    },
    {
     "name": "stdout",
     "output_type": "stream",
     "text": [
      "Conteo de cada valor en ¿Cuánto tiempo al día usas el móvil/tableta/ordenador/TV? expresada como valor / cantidad\n"
     ]
    },
    {
     "data": {
      "text/plain": [
       "3    10\n",
       "4    16\n",
       "5    24\n",
       "6    50\n",
       "Name: ¿Cuánto tiempo al día usas el móvil/tableta/ordenador/TV?, dtype: int64"
      ]
     },
     "metadata": {},
     "output_type": "display_data"
    },
    {
     "name": "stdout",
     "output_type": "stream",
     "text": [
      "Porcentaje de cada valor en ¿Cuánto tiempo al día usas el móvil/tableta/ordenador/TV? expresado como valor / porcentaje\n"
     ]
    },
    {
     "data": {
      "text/plain": [
       "3    10.0\n",
       "4    16.0\n",
       "5    24.0\n",
       "6    50.0\n",
       "Name: ¿Cuánto tiempo al día usas el móvil/tableta/ordenador/TV?, dtype: float64"
      ]
     },
     "metadata": {},
     "output_type": "display_data"
    },
    {
     "data": {
      "application/vnd.plotly.v1+json": {
       "config": {
        "linkText": "Export to plot.ly",
        "plotlyServerURL": "https://plot.ly",
        "showLink": false
       },
       "data": [
        {
         "marker": {
          "color": [
           "rgb(213,62,79)",
           "rgb(252,141,89)",
           "rgb(254,224,139)",
           "rgb(230,245,152)",
           "rgb(153,213,148)",
           "rgb(50,136,189)"
          ]
         },
         "type": "bar",
         "uid": "523e96a2-4afc-423b-98fe-363ab69eb313",
         "x": [
          3,
          4,
          5,
          6
         ],
         "y": [
          10,
          16,
          24,
          50
         ]
        }
       ],
       "layout": {
        "bargap": 0.2,
        "xaxis": {
         "ticktext": [
          "1. Nada",
          "2. Menos de una hora",
          "3. 1-2 horas",
          "4. 2-4 horas",
          "5. 4-6 horas",
          "6. Más de 6 horas"
         ],
         "tickvals": [
          1,
          2,
          3,
          4,
          5,
          6
         ]
        }
       }
      },
      "text/html": [
       "<div id=\"57add12b-2697-42e8-b998-ef467236f454\" style=\"height: 525px; width: 100%;\" class=\"plotly-graph-div\"></div><script type=\"text/javascript\">require([\"plotly\"], function(Plotly) { window.PLOTLYENV=window.PLOTLYENV || {};window.PLOTLYENV.BASE_URL=\"https://plot.ly\";\n",
       "if (document.getElementById(\"57add12b-2697-42e8-b998-ef467236f454\")) {\n",
       "    Plotly.newPlot(\"57add12b-2697-42e8-b998-ef467236f454\", [{\"marker\": {\"color\": [\"rgb(213,62,79)\", \"rgb(252,141,89)\", \"rgb(254,224,139)\", \"rgb(230,245,152)\", \"rgb(153,213,148)\", \"rgb(50,136,189)\"]}, \"x\": [3, 4, 5, 6], \"y\": [10, 16, 24, 50], \"type\": \"bar\", \"uid\": \"523e96a2-4afc-423b-98fe-363ab69eb313\"}], {\"bargap\": 0.2, \"xaxis\": {\"ticktext\": [\"1. Nada\", \"2. Menos de una hora\", \"3. 1-2 horas\", \"4. 2-4 horas\", \"5. 4-6 horas\", \"6. M\\u00e1s de 6 horas\"], \"tickvals\": [1, 2, 3, 4, 5, 6]}}, {\"showLink\": false, \"linkText\": \"Export to plot.ly\", \"plotlyServerURL\": \"https://plot.ly\"}); \n",
       "}\n",
       "});</script><script type=\"text/javascript\">window.addEventListener(\"resize\", function(){if (document.getElementById(\"57add12b-2697-42e8-b998-ef467236f454\")) {window._Plotly.Plots.resize(document.getElementById(\"57add12b-2697-42e8-b998-ef467236f454\"));};})</script>"
      ],
      "text/vnd.plotly.v1+html": [
       "<div id=\"57add12b-2697-42e8-b998-ef467236f454\" style=\"height: 525px; width: 100%;\" class=\"plotly-graph-div\"></div><script type=\"text/javascript\">require([\"plotly\"], function(Plotly) { window.PLOTLYENV=window.PLOTLYENV || {};window.PLOTLYENV.BASE_URL=\"https://plot.ly\";\n",
       "if (document.getElementById(\"57add12b-2697-42e8-b998-ef467236f454\")) {\n",
       "    Plotly.newPlot(\"57add12b-2697-42e8-b998-ef467236f454\", [{\"marker\": {\"color\": [\"rgb(213,62,79)\", \"rgb(252,141,89)\", \"rgb(254,224,139)\", \"rgb(230,245,152)\", \"rgb(153,213,148)\", \"rgb(50,136,189)\"]}, \"x\": [3, 4, 5, 6], \"y\": [10, 16, 24, 50], \"type\": \"bar\", \"uid\": \"523e96a2-4afc-423b-98fe-363ab69eb313\"}], {\"bargap\": 0.2, \"xaxis\": {\"ticktext\": [\"1. Nada\", \"2. Menos de una hora\", \"3. 1-2 horas\", \"4. 2-4 horas\", \"5. 4-6 horas\", \"6. M\\u00e1s de 6 horas\"], \"tickvals\": [1, 2, 3, 4, 5, 6]}}, {\"showLink\": false, \"linkText\": \"Export to plot.ly\", \"plotlyServerURL\": \"https://plot.ly\"}); \n",
       "}\n",
       "});</script><script type=\"text/javascript\">window.addEventListener(\"resize\", function(){if (document.getElementById(\"57add12b-2697-42e8-b998-ef467236f454\")) {window._Plotly.Plots.resize(document.getElementById(\"57add12b-2697-42e8-b998-ef467236f454\"));};})</script>"
      ]
     },
     "metadata": {},
     "output_type": "display_data"
    },
    {
     "name": "stdout",
     "output_type": "stream",
     "text": [
      "\n",
      "\n",
      "Cluster 3 || variable: ¿Qué tipo de aplicaciones utilizas en tu ordenador/tableta/móvil? (Respuesta múltiple) [1. Apps de contenidos audiovisuales (Netflix, HBO, etc.)]\n",
      "Describiendo la pregunta ¿Qué tipo de aplicaciones utilizas en tu ordenador/tableta/móvil? (Respuesta múltiple) [1. Apps de contenidos audiovisuales (Netflix, HBO, etc.)]\n",
      "Valores numéricos asociados a las respuestas [0, 1]\n",
      "Respuestas posibles a la pregunta/variable ['No', 'Sí']\n"
     ]
    },
    {
     "data": {
      "text/plain": [
       "count    100.00000\n",
       "mean       0.43000\n",
       "std        0.49757\n",
       "min        0.00000\n",
       "25%        0.00000\n",
       "50%        0.00000\n",
       "75%        1.00000\n",
       "max        1.00000\n",
       "Name: ¿Qué tipo de aplicaciones utilizas en tu ordenador/tableta/móvil? (Respuesta múltiple) [1. Apps de contenidos audiovisuales (Netflix, HBO, etc.)], dtype: float64"
      ]
     },
     "metadata": {},
     "output_type": "display_data"
    },
    {
     "name": "stdout",
     "output_type": "stream",
     "text": [
      "Conteo de cada valor en ¿Qué tipo de aplicaciones utilizas en tu ordenador/tableta/móvil? (Respuesta múltiple) [1. Apps de contenidos audiovisuales (Netflix, HBO, etc.)] expresada como valor / cantidad\n"
     ]
    },
    {
     "data": {
      "text/plain": [
       "0    57\n",
       "1    43\n",
       "Name: ¿Qué tipo de aplicaciones utilizas en tu ordenador/tableta/móvil? (Respuesta múltiple) [1. Apps de contenidos audiovisuales (Netflix, HBO, etc.)], dtype: int64"
      ]
     },
     "metadata": {},
     "output_type": "display_data"
    },
    {
     "name": "stdout",
     "output_type": "stream",
     "text": [
      "Porcentaje de cada valor en ¿Qué tipo de aplicaciones utilizas en tu ordenador/tableta/móvil? (Respuesta múltiple) [1. Apps de contenidos audiovisuales (Netflix, HBO, etc.)] expresado como valor / porcentaje\n"
     ]
    },
    {
     "data": {
      "text/plain": [
       "0    57.0\n",
       "1    43.0\n",
       "Name: ¿Qué tipo de aplicaciones utilizas en tu ordenador/tableta/móvil? (Respuesta múltiple) [1. Apps de contenidos audiovisuales (Netflix, HBO, etc.)], dtype: float64"
      ]
     },
     "metadata": {},
     "output_type": "display_data"
    },
    {
     "data": {
      "application/vnd.plotly.v1+json": {
       "config": {
        "linkText": "Export to plot.ly",
        "plotlyServerURL": "https://plot.ly",
        "showLink": false
       },
       "data": [
        {
         "marker": {
          "color": [
           "rgb(213,62,79)",
           "rgb(252,141,89)",
           "rgb(254,224,139)",
           "rgb(230,245,152)",
           "rgb(153,213,148)",
           "rgb(50,136,189)"
          ]
         },
         "type": "bar",
         "uid": "ed5c6905-569c-482f-84aa-4b3b9e60630c",
         "x": [
          0,
          1
         ],
         "y": [
          57,
          43
         ]
        }
       ],
       "layout": {
        "bargap": 0.2,
        "xaxis": {
         "ticktext": [
          "No",
          "Sí"
         ],
         "tickvals": [
          0,
          1
         ]
        }
       }
      },
      "text/html": [
       "<div id=\"1ec7b659-ee9f-42e7-93a5-5434c7f21ebb\" style=\"height: 525px; width: 100%;\" class=\"plotly-graph-div\"></div><script type=\"text/javascript\">require([\"plotly\"], function(Plotly) { window.PLOTLYENV=window.PLOTLYENV || {};window.PLOTLYENV.BASE_URL=\"https://plot.ly\";\n",
       "if (document.getElementById(\"1ec7b659-ee9f-42e7-93a5-5434c7f21ebb\")) {\n",
       "    Plotly.newPlot(\"1ec7b659-ee9f-42e7-93a5-5434c7f21ebb\", [{\"marker\": {\"color\": [\"rgb(213,62,79)\", \"rgb(252,141,89)\", \"rgb(254,224,139)\", \"rgb(230,245,152)\", \"rgb(153,213,148)\", \"rgb(50,136,189)\"]}, \"x\": [0, 1], \"y\": [57, 43], \"type\": \"bar\", \"uid\": \"ed5c6905-569c-482f-84aa-4b3b9e60630c\"}], {\"bargap\": 0.2, \"xaxis\": {\"ticktext\": [\"No\", \"S\\u00ed\"], \"tickvals\": [0, 1]}}, {\"showLink\": false, \"linkText\": \"Export to plot.ly\", \"plotlyServerURL\": \"https://plot.ly\"}); \n",
       "}\n",
       "});</script><script type=\"text/javascript\">window.addEventListener(\"resize\", function(){if (document.getElementById(\"1ec7b659-ee9f-42e7-93a5-5434c7f21ebb\")) {window._Plotly.Plots.resize(document.getElementById(\"1ec7b659-ee9f-42e7-93a5-5434c7f21ebb\"));};})</script>"
      ],
      "text/vnd.plotly.v1+html": [
       "<div id=\"1ec7b659-ee9f-42e7-93a5-5434c7f21ebb\" style=\"height: 525px; width: 100%;\" class=\"plotly-graph-div\"></div><script type=\"text/javascript\">require([\"plotly\"], function(Plotly) { window.PLOTLYENV=window.PLOTLYENV || {};window.PLOTLYENV.BASE_URL=\"https://plot.ly\";\n",
       "if (document.getElementById(\"1ec7b659-ee9f-42e7-93a5-5434c7f21ebb\")) {\n",
       "    Plotly.newPlot(\"1ec7b659-ee9f-42e7-93a5-5434c7f21ebb\", [{\"marker\": {\"color\": [\"rgb(213,62,79)\", \"rgb(252,141,89)\", \"rgb(254,224,139)\", \"rgb(230,245,152)\", \"rgb(153,213,148)\", \"rgb(50,136,189)\"]}, \"x\": [0, 1], \"y\": [57, 43], \"type\": \"bar\", \"uid\": \"ed5c6905-569c-482f-84aa-4b3b9e60630c\"}], {\"bargap\": 0.2, \"xaxis\": {\"ticktext\": [\"No\", \"S\\u00ed\"], \"tickvals\": [0, 1]}}, {\"showLink\": false, \"linkText\": \"Export to plot.ly\", \"plotlyServerURL\": \"https://plot.ly\"}); \n",
       "}\n",
       "});</script><script type=\"text/javascript\">window.addEventListener(\"resize\", function(){if (document.getElementById(\"1ec7b659-ee9f-42e7-93a5-5434c7f21ebb\")) {window._Plotly.Plots.resize(document.getElementById(\"1ec7b659-ee9f-42e7-93a5-5434c7f21ebb\"));};})</script>"
      ]
     },
     "metadata": {},
     "output_type": "display_data"
    },
    {
     "name": "stdout",
     "output_type": "stream",
     "text": [
      "\n",
      "\n",
      "Cluster 3 || variable: ¿Qué tipo de aplicaciones utilizas en tu ordenador/tableta/móvil? (Respuesta múltiple) [2. Aplicaciones de mensajería (Whatsapp, Facebook Messenger, etc.)]\n",
      "Describiendo la pregunta ¿Qué tipo de aplicaciones utilizas en tu ordenador/tableta/móvil? (Respuesta múltiple) [2. Aplicaciones de mensajería (Whatsapp, Facebook Messenger, etc.)]\n",
      "Valores numéricos asociados a las respuestas [0, 1]\n",
      "Respuestas posibles a la pregunta/variable ['No', 'Sí']\n"
     ]
    },
    {
     "data": {
      "text/plain": [
       "count    100.000000\n",
       "mean       0.740000\n",
       "std        0.440844\n",
       "min        0.000000\n",
       "25%        0.000000\n",
       "50%        1.000000\n",
       "75%        1.000000\n",
       "max        1.000000\n",
       "Name: ¿Qué tipo de aplicaciones utilizas en tu ordenador/tableta/móvil? (Respuesta múltiple) [2. Aplicaciones de mensajería (Whatsapp, Facebook Messenger, etc.)], dtype: float64"
      ]
     },
     "metadata": {},
     "output_type": "display_data"
    },
    {
     "name": "stdout",
     "output_type": "stream",
     "text": [
      "Conteo de cada valor en ¿Qué tipo de aplicaciones utilizas en tu ordenador/tableta/móvil? (Respuesta múltiple) [2. Aplicaciones de mensajería (Whatsapp, Facebook Messenger, etc.)] expresada como valor / cantidad\n"
     ]
    },
    {
     "data": {
      "text/plain": [
       "0    26\n",
       "1    74\n",
       "Name: ¿Qué tipo de aplicaciones utilizas en tu ordenador/tableta/móvil? (Respuesta múltiple) [2. Aplicaciones de mensajería (Whatsapp, Facebook Messenger, etc.)], dtype: int64"
      ]
     },
     "metadata": {},
     "output_type": "display_data"
    },
    {
     "name": "stdout",
     "output_type": "stream",
     "text": [
      "Porcentaje de cada valor en ¿Qué tipo de aplicaciones utilizas en tu ordenador/tableta/móvil? (Respuesta múltiple) [2. Aplicaciones de mensajería (Whatsapp, Facebook Messenger, etc.)] expresado como valor / porcentaje\n"
     ]
    },
    {
     "data": {
      "text/plain": [
       "0    26.0\n",
       "1    74.0\n",
       "Name: ¿Qué tipo de aplicaciones utilizas en tu ordenador/tableta/móvil? (Respuesta múltiple) [2. Aplicaciones de mensajería (Whatsapp, Facebook Messenger, etc.)], dtype: float64"
      ]
     },
     "metadata": {},
     "output_type": "display_data"
    },
    {
     "data": {
      "application/vnd.plotly.v1+json": {
       "config": {
        "linkText": "Export to plot.ly",
        "plotlyServerURL": "https://plot.ly",
        "showLink": false
       },
       "data": [
        {
         "marker": {
          "color": [
           "rgb(213,62,79)",
           "rgb(252,141,89)",
           "rgb(254,224,139)",
           "rgb(230,245,152)",
           "rgb(153,213,148)",
           "rgb(50,136,189)"
          ]
         },
         "type": "bar",
         "uid": "f88bc1fc-ccf4-4d5e-a2cf-c89453c70a59",
         "x": [
          0,
          1
         ],
         "y": [
          26,
          74
         ]
        }
       ],
       "layout": {
        "bargap": 0.2,
        "xaxis": {
         "ticktext": [
          "No",
          "Sí"
         ],
         "tickvals": [
          0,
          1
         ]
        }
       }
      },
      "text/html": [
       "<div id=\"f4f0da10-b17b-4c8f-9be2-90b2b2a484e8\" style=\"height: 525px; width: 100%;\" class=\"plotly-graph-div\"></div><script type=\"text/javascript\">require([\"plotly\"], function(Plotly) { window.PLOTLYENV=window.PLOTLYENV || {};window.PLOTLYENV.BASE_URL=\"https://plot.ly\";\n",
       "if (document.getElementById(\"f4f0da10-b17b-4c8f-9be2-90b2b2a484e8\")) {\n",
       "    Plotly.newPlot(\"f4f0da10-b17b-4c8f-9be2-90b2b2a484e8\", [{\"marker\": {\"color\": [\"rgb(213,62,79)\", \"rgb(252,141,89)\", \"rgb(254,224,139)\", \"rgb(230,245,152)\", \"rgb(153,213,148)\", \"rgb(50,136,189)\"]}, \"x\": [0, 1], \"y\": [26, 74], \"type\": \"bar\", \"uid\": \"f88bc1fc-ccf4-4d5e-a2cf-c89453c70a59\"}], {\"bargap\": 0.2, \"xaxis\": {\"ticktext\": [\"No\", \"S\\u00ed\"], \"tickvals\": [0, 1]}}, {\"showLink\": false, \"linkText\": \"Export to plot.ly\", \"plotlyServerURL\": \"https://plot.ly\"}); \n",
       "}\n",
       "});</script><script type=\"text/javascript\">window.addEventListener(\"resize\", function(){if (document.getElementById(\"f4f0da10-b17b-4c8f-9be2-90b2b2a484e8\")) {window._Plotly.Plots.resize(document.getElementById(\"f4f0da10-b17b-4c8f-9be2-90b2b2a484e8\"));};})</script>"
      ],
      "text/vnd.plotly.v1+html": [
       "<div id=\"f4f0da10-b17b-4c8f-9be2-90b2b2a484e8\" style=\"height: 525px; width: 100%;\" class=\"plotly-graph-div\"></div><script type=\"text/javascript\">require([\"plotly\"], function(Plotly) { window.PLOTLYENV=window.PLOTLYENV || {};window.PLOTLYENV.BASE_URL=\"https://plot.ly\";\n",
       "if (document.getElementById(\"f4f0da10-b17b-4c8f-9be2-90b2b2a484e8\")) {\n",
       "    Plotly.newPlot(\"f4f0da10-b17b-4c8f-9be2-90b2b2a484e8\", [{\"marker\": {\"color\": [\"rgb(213,62,79)\", \"rgb(252,141,89)\", \"rgb(254,224,139)\", \"rgb(230,245,152)\", \"rgb(153,213,148)\", \"rgb(50,136,189)\"]}, \"x\": [0, 1], \"y\": [26, 74], \"type\": \"bar\", \"uid\": \"f88bc1fc-ccf4-4d5e-a2cf-c89453c70a59\"}], {\"bargap\": 0.2, \"xaxis\": {\"ticktext\": [\"No\", \"S\\u00ed\"], \"tickvals\": [0, 1]}}, {\"showLink\": false, \"linkText\": \"Export to plot.ly\", \"plotlyServerURL\": \"https://plot.ly\"}); \n",
       "}\n",
       "});</script><script type=\"text/javascript\">window.addEventListener(\"resize\", function(){if (document.getElementById(\"f4f0da10-b17b-4c8f-9be2-90b2b2a484e8\")) {window._Plotly.Plots.resize(document.getElementById(\"f4f0da10-b17b-4c8f-9be2-90b2b2a484e8\"));};})</script>"
      ]
     },
     "metadata": {},
     "output_type": "display_data"
    },
    {
     "name": "stdout",
     "output_type": "stream",
     "text": [
      "\n",
      "\n",
      "Cluster 3 || variable: ¿Qué tipo de aplicaciones utilizas en tu ordenador/tableta/móvil? (Respuesta múltiple) [3. Bibliotecas de fotos online (Google Photos, iPhoto, etc.)]\n",
      "Describiendo la pregunta ¿Qué tipo de aplicaciones utilizas en tu ordenador/tableta/móvil? (Respuesta múltiple) [3. Bibliotecas de fotos online (Google Photos, iPhoto, etc.)]\n",
      "Valores numéricos asociados a las respuestas [0, 1]\n",
      "Respuestas posibles a la pregunta/variable ['No', 'Sí']\n"
     ]
    },
    {
     "data": {
      "text/plain": [
       "count    100.000000\n",
       "mean       0.690000\n",
       "std        0.464823\n",
       "min        0.000000\n",
       "25%        0.000000\n",
       "50%        1.000000\n",
       "75%        1.000000\n",
       "max        1.000000\n",
       "Name: ¿Qué tipo de aplicaciones utilizas en tu ordenador/tableta/móvil? (Respuesta múltiple) [3. Bibliotecas de fotos online (Google Photos, iPhoto, etc.)], dtype: float64"
      ]
     },
     "metadata": {},
     "output_type": "display_data"
    },
    {
     "name": "stdout",
     "output_type": "stream",
     "text": [
      "Conteo de cada valor en ¿Qué tipo de aplicaciones utilizas en tu ordenador/tableta/móvil? (Respuesta múltiple) [3. Bibliotecas de fotos online (Google Photos, iPhoto, etc.)] expresada como valor / cantidad\n"
     ]
    },
    {
     "data": {
      "text/plain": [
       "0    31\n",
       "1    69\n",
       "Name: ¿Qué tipo de aplicaciones utilizas en tu ordenador/tableta/móvil? (Respuesta múltiple) [3. Bibliotecas de fotos online (Google Photos, iPhoto, etc.)], dtype: int64"
      ]
     },
     "metadata": {},
     "output_type": "display_data"
    },
    {
     "name": "stdout",
     "output_type": "stream",
     "text": [
      "Porcentaje de cada valor en ¿Qué tipo de aplicaciones utilizas en tu ordenador/tableta/móvil? (Respuesta múltiple) [3. Bibliotecas de fotos online (Google Photos, iPhoto, etc.)] expresado como valor / porcentaje\n"
     ]
    },
    {
     "data": {
      "text/plain": [
       "0    31.0\n",
       "1    69.0\n",
       "Name: ¿Qué tipo de aplicaciones utilizas en tu ordenador/tableta/móvil? (Respuesta múltiple) [3. Bibliotecas de fotos online (Google Photos, iPhoto, etc.)], dtype: float64"
      ]
     },
     "metadata": {},
     "output_type": "display_data"
    },
    {
     "data": {
      "application/vnd.plotly.v1+json": {
       "config": {
        "linkText": "Export to plot.ly",
        "plotlyServerURL": "https://plot.ly",
        "showLink": false
       },
       "data": [
        {
         "marker": {
          "color": [
           "rgb(213,62,79)",
           "rgb(252,141,89)",
           "rgb(254,224,139)",
           "rgb(230,245,152)",
           "rgb(153,213,148)",
           "rgb(50,136,189)"
          ]
         },
         "type": "bar",
         "uid": "d32677e1-c116-45ce-854e-9062b80f39f3",
         "x": [
          0,
          1
         ],
         "y": [
          31,
          69
         ]
        }
       ],
       "layout": {
        "bargap": 0.2,
        "xaxis": {
         "ticktext": [
          "No",
          "Sí"
         ],
         "tickvals": [
          0,
          1
         ]
        }
       }
      },
      "text/html": [
       "<div id=\"a70ff15f-da5b-47be-82ec-73f6982f4a6f\" style=\"height: 525px; width: 100%;\" class=\"plotly-graph-div\"></div><script type=\"text/javascript\">require([\"plotly\"], function(Plotly) { window.PLOTLYENV=window.PLOTLYENV || {};window.PLOTLYENV.BASE_URL=\"https://plot.ly\";\n",
       "if (document.getElementById(\"a70ff15f-da5b-47be-82ec-73f6982f4a6f\")) {\n",
       "    Plotly.newPlot(\"a70ff15f-da5b-47be-82ec-73f6982f4a6f\", [{\"marker\": {\"color\": [\"rgb(213,62,79)\", \"rgb(252,141,89)\", \"rgb(254,224,139)\", \"rgb(230,245,152)\", \"rgb(153,213,148)\", \"rgb(50,136,189)\"]}, \"x\": [0, 1], \"y\": [31, 69], \"type\": \"bar\", \"uid\": \"d32677e1-c116-45ce-854e-9062b80f39f3\"}], {\"bargap\": 0.2, \"xaxis\": {\"ticktext\": [\"No\", \"S\\u00ed\"], \"tickvals\": [0, 1]}}, {\"showLink\": false, \"linkText\": \"Export to plot.ly\", \"plotlyServerURL\": \"https://plot.ly\"}); \n",
       "}\n",
       "});</script><script type=\"text/javascript\">window.addEventListener(\"resize\", function(){if (document.getElementById(\"a70ff15f-da5b-47be-82ec-73f6982f4a6f\")) {window._Plotly.Plots.resize(document.getElementById(\"a70ff15f-da5b-47be-82ec-73f6982f4a6f\"));};})</script>"
      ],
      "text/vnd.plotly.v1+html": [
       "<div id=\"a70ff15f-da5b-47be-82ec-73f6982f4a6f\" style=\"height: 525px; width: 100%;\" class=\"plotly-graph-div\"></div><script type=\"text/javascript\">require([\"plotly\"], function(Plotly) { window.PLOTLYENV=window.PLOTLYENV || {};window.PLOTLYENV.BASE_URL=\"https://plot.ly\";\n",
       "if (document.getElementById(\"a70ff15f-da5b-47be-82ec-73f6982f4a6f\")) {\n",
       "    Plotly.newPlot(\"a70ff15f-da5b-47be-82ec-73f6982f4a6f\", [{\"marker\": {\"color\": [\"rgb(213,62,79)\", \"rgb(252,141,89)\", \"rgb(254,224,139)\", \"rgb(230,245,152)\", \"rgb(153,213,148)\", \"rgb(50,136,189)\"]}, \"x\": [0, 1], \"y\": [31, 69], \"type\": \"bar\", \"uid\": \"d32677e1-c116-45ce-854e-9062b80f39f3\"}], {\"bargap\": 0.2, \"xaxis\": {\"ticktext\": [\"No\", \"S\\u00ed\"], \"tickvals\": [0, 1]}}, {\"showLink\": false, \"linkText\": \"Export to plot.ly\", \"plotlyServerURL\": \"https://plot.ly\"}); \n",
       "}\n",
       "});</script><script type=\"text/javascript\">window.addEventListener(\"resize\", function(){if (document.getElementById(\"a70ff15f-da5b-47be-82ec-73f6982f4a6f\")) {window._Plotly.Plots.resize(document.getElementById(\"a70ff15f-da5b-47be-82ec-73f6982f4a6f\"));};})</script>"
      ]
     },
     "metadata": {},
     "output_type": "display_data"
    },
    {
     "name": "stdout",
     "output_type": "stream",
     "text": [
      "\n",
      "\n",
      "Cluster 3 || variable: ¿Qué tipo de aplicaciones utilizas en tu ordenador/tableta/móvil? (Respuesta múltiple) [4. Redes sociales (Facebook, Instagram, Twitter, etc.).]\n",
      "Describiendo la pregunta ¿Qué tipo de aplicaciones utilizas en tu ordenador/tableta/móvil? (Respuesta múltiple) [4. Redes sociales (Facebook, Instagram, Twitter, etc.).]\n",
      "Valores numéricos asociados a las respuestas [0, 1]\n",
      "Respuestas posibles a la pregunta/variable ['No', 'Sí']\n"
     ]
    },
    {
     "data": {
      "text/plain": [
       "count    100.000000\n",
       "mean       0.890000\n",
       "std        0.314466\n",
       "min        0.000000\n",
       "25%        1.000000\n",
       "50%        1.000000\n",
       "75%        1.000000\n",
       "max        1.000000\n",
       "Name: ¿Qué tipo de aplicaciones utilizas en tu ordenador/tableta/móvil? (Respuesta múltiple) [4. Redes sociales (Facebook, Instagram, Twitter, etc.).], dtype: float64"
      ]
     },
     "metadata": {},
     "output_type": "display_data"
    },
    {
     "name": "stdout",
     "output_type": "stream",
     "text": [
      "Conteo de cada valor en ¿Qué tipo de aplicaciones utilizas en tu ordenador/tableta/móvil? (Respuesta múltiple) [4. Redes sociales (Facebook, Instagram, Twitter, etc.).] expresada como valor / cantidad\n"
     ]
    },
    {
     "data": {
      "text/plain": [
       "0    11\n",
       "1    89\n",
       "Name: ¿Qué tipo de aplicaciones utilizas en tu ordenador/tableta/móvil? (Respuesta múltiple) [4. Redes sociales (Facebook, Instagram, Twitter, etc.).], dtype: int64"
      ]
     },
     "metadata": {},
     "output_type": "display_data"
    },
    {
     "name": "stdout",
     "output_type": "stream",
     "text": [
      "Porcentaje de cada valor en ¿Qué tipo de aplicaciones utilizas en tu ordenador/tableta/móvil? (Respuesta múltiple) [4. Redes sociales (Facebook, Instagram, Twitter, etc.).] expresado como valor / porcentaje\n"
     ]
    },
    {
     "data": {
      "text/plain": [
       "0    11.0\n",
       "1    89.0\n",
       "Name: ¿Qué tipo de aplicaciones utilizas en tu ordenador/tableta/móvil? (Respuesta múltiple) [4. Redes sociales (Facebook, Instagram, Twitter, etc.).], dtype: float64"
      ]
     },
     "metadata": {},
     "output_type": "display_data"
    },
    {
     "data": {
      "application/vnd.plotly.v1+json": {
       "config": {
        "linkText": "Export to plot.ly",
        "plotlyServerURL": "https://plot.ly",
        "showLink": false
       },
       "data": [
        {
         "marker": {
          "color": [
           "rgb(213,62,79)",
           "rgb(252,141,89)",
           "rgb(254,224,139)",
           "rgb(230,245,152)",
           "rgb(153,213,148)",
           "rgb(50,136,189)"
          ]
         },
         "type": "bar",
         "uid": "eaf69901-ec7b-40bd-bd8d-ae8ef2d80a42",
         "x": [
          0,
          1
         ],
         "y": [
          11,
          89
         ]
        }
       ],
       "layout": {
        "bargap": 0.2,
        "xaxis": {
         "ticktext": [
          "No",
          "Sí"
         ],
         "tickvals": [
          0,
          1
         ]
        }
       }
      },
      "text/html": [
       "<div id=\"1d8de48c-c1a2-41f6-81c3-00b1560aa8ad\" style=\"height: 525px; width: 100%;\" class=\"plotly-graph-div\"></div><script type=\"text/javascript\">require([\"plotly\"], function(Plotly) { window.PLOTLYENV=window.PLOTLYENV || {};window.PLOTLYENV.BASE_URL=\"https://plot.ly\";\n",
       "if (document.getElementById(\"1d8de48c-c1a2-41f6-81c3-00b1560aa8ad\")) {\n",
       "    Plotly.newPlot(\"1d8de48c-c1a2-41f6-81c3-00b1560aa8ad\", [{\"marker\": {\"color\": [\"rgb(213,62,79)\", \"rgb(252,141,89)\", \"rgb(254,224,139)\", \"rgb(230,245,152)\", \"rgb(153,213,148)\", \"rgb(50,136,189)\"]}, \"x\": [0, 1], \"y\": [11, 89], \"type\": \"bar\", \"uid\": \"eaf69901-ec7b-40bd-bd8d-ae8ef2d80a42\"}], {\"bargap\": 0.2, \"xaxis\": {\"ticktext\": [\"No\", \"S\\u00ed\"], \"tickvals\": [0, 1]}}, {\"showLink\": false, \"linkText\": \"Export to plot.ly\", \"plotlyServerURL\": \"https://plot.ly\"}); \n",
       "}\n",
       "});</script><script type=\"text/javascript\">window.addEventListener(\"resize\", function(){if (document.getElementById(\"1d8de48c-c1a2-41f6-81c3-00b1560aa8ad\")) {window._Plotly.Plots.resize(document.getElementById(\"1d8de48c-c1a2-41f6-81c3-00b1560aa8ad\"));};})</script>"
      ],
      "text/vnd.plotly.v1+html": [
       "<div id=\"1d8de48c-c1a2-41f6-81c3-00b1560aa8ad\" style=\"height: 525px; width: 100%;\" class=\"plotly-graph-div\"></div><script type=\"text/javascript\">require([\"plotly\"], function(Plotly) { window.PLOTLYENV=window.PLOTLYENV || {};window.PLOTLYENV.BASE_URL=\"https://plot.ly\";\n",
       "if (document.getElementById(\"1d8de48c-c1a2-41f6-81c3-00b1560aa8ad\")) {\n",
       "    Plotly.newPlot(\"1d8de48c-c1a2-41f6-81c3-00b1560aa8ad\", [{\"marker\": {\"color\": [\"rgb(213,62,79)\", \"rgb(252,141,89)\", \"rgb(254,224,139)\", \"rgb(230,245,152)\", \"rgb(153,213,148)\", \"rgb(50,136,189)\"]}, \"x\": [0, 1], \"y\": [11, 89], \"type\": \"bar\", \"uid\": \"eaf69901-ec7b-40bd-bd8d-ae8ef2d80a42\"}], {\"bargap\": 0.2, \"xaxis\": {\"ticktext\": [\"No\", \"S\\u00ed\"], \"tickvals\": [0, 1]}}, {\"showLink\": false, \"linkText\": \"Export to plot.ly\", \"plotlyServerURL\": \"https://plot.ly\"}); \n",
       "}\n",
       "});</script><script type=\"text/javascript\">window.addEventListener(\"resize\", function(){if (document.getElementById(\"1d8de48c-c1a2-41f6-81c3-00b1560aa8ad\")) {window._Plotly.Plots.resize(document.getElementById(\"1d8de48c-c1a2-41f6-81c3-00b1560aa8ad\"));};})</script>"
      ]
     },
     "metadata": {},
     "output_type": "display_data"
    },
    {
     "name": "stdout",
     "output_type": "stream",
     "text": [
      "\n",
      "\n",
      "Cluster 3 || variable: ¿Qué tipo de aplicaciones utilizas en tu ordenador/tableta/móvil? (Respuesta múltiple) [5. Aplicaciones de vídeo (Youtube, Vimeo, etc.).]\n",
      "Describiendo la pregunta ¿Qué tipo de aplicaciones utilizas en tu ordenador/tableta/móvil? (Respuesta múltiple) [5. Aplicaciones de vídeo (Youtube, Vimeo, etc.).]\n",
      "Valores numéricos asociados a las respuestas [0, 1]\n",
      "Respuestas posibles a la pregunta/variable ['No', 'Sí']\n"
     ]
    },
    {
     "data": {
      "text/plain": [
       "count    100.000000\n",
       "mean       0.540000\n",
       "std        0.500908\n",
       "min        0.000000\n",
       "25%        0.000000\n",
       "50%        1.000000\n",
       "75%        1.000000\n",
       "max        1.000000\n",
       "Name: ¿Qué tipo de aplicaciones utilizas en tu ordenador/tableta/móvil? (Respuesta múltiple) [5. Aplicaciones de vídeo (Youtube, Vimeo, etc.).], dtype: float64"
      ]
     },
     "metadata": {},
     "output_type": "display_data"
    },
    {
     "name": "stdout",
     "output_type": "stream",
     "text": [
      "Conteo de cada valor en ¿Qué tipo de aplicaciones utilizas en tu ordenador/tableta/móvil? (Respuesta múltiple) [5. Aplicaciones de vídeo (Youtube, Vimeo, etc.).] expresada como valor / cantidad\n"
     ]
    },
    {
     "data": {
      "text/plain": [
       "0    46\n",
       "1    54\n",
       "Name: ¿Qué tipo de aplicaciones utilizas en tu ordenador/tableta/móvil? (Respuesta múltiple) [5. Aplicaciones de vídeo (Youtube, Vimeo, etc.).], dtype: int64"
      ]
     },
     "metadata": {},
     "output_type": "display_data"
    },
    {
     "name": "stdout",
     "output_type": "stream",
     "text": [
      "Porcentaje de cada valor en ¿Qué tipo de aplicaciones utilizas en tu ordenador/tableta/móvil? (Respuesta múltiple) [5. Aplicaciones de vídeo (Youtube, Vimeo, etc.).] expresado como valor / porcentaje\n"
     ]
    },
    {
     "data": {
      "text/plain": [
       "0    46.0\n",
       "1    54.0\n",
       "Name: ¿Qué tipo de aplicaciones utilizas en tu ordenador/tableta/móvil? (Respuesta múltiple) [5. Aplicaciones de vídeo (Youtube, Vimeo, etc.).], dtype: float64"
      ]
     },
     "metadata": {},
     "output_type": "display_data"
    },
    {
     "data": {
      "application/vnd.plotly.v1+json": {
       "config": {
        "linkText": "Export to plot.ly",
        "plotlyServerURL": "https://plot.ly",
        "showLink": false
       },
       "data": [
        {
         "marker": {
          "color": [
           "rgb(213,62,79)",
           "rgb(252,141,89)",
           "rgb(254,224,139)",
           "rgb(230,245,152)",
           "rgb(153,213,148)",
           "rgb(50,136,189)"
          ]
         },
         "type": "bar",
         "uid": "365d69a4-da2c-4837-9c09-f564b51a7208",
         "x": [
          0,
          1
         ],
         "y": [
          46,
          54
         ]
        }
       ],
       "layout": {
        "bargap": 0.2,
        "xaxis": {
         "ticktext": [
          "No",
          "Sí"
         ],
         "tickvals": [
          0,
          1
         ]
        }
       }
      },
      "text/html": [
       "<div id=\"c5e7562f-170a-4c64-b2bf-8ec60a0ae1aa\" style=\"height: 525px; width: 100%;\" class=\"plotly-graph-div\"></div><script type=\"text/javascript\">require([\"plotly\"], function(Plotly) { window.PLOTLYENV=window.PLOTLYENV || {};window.PLOTLYENV.BASE_URL=\"https://plot.ly\";\n",
       "if (document.getElementById(\"c5e7562f-170a-4c64-b2bf-8ec60a0ae1aa\")) {\n",
       "    Plotly.newPlot(\"c5e7562f-170a-4c64-b2bf-8ec60a0ae1aa\", [{\"marker\": {\"color\": [\"rgb(213,62,79)\", \"rgb(252,141,89)\", \"rgb(254,224,139)\", \"rgb(230,245,152)\", \"rgb(153,213,148)\", \"rgb(50,136,189)\"]}, \"x\": [0, 1], \"y\": [46, 54], \"type\": \"bar\", \"uid\": \"365d69a4-da2c-4837-9c09-f564b51a7208\"}], {\"bargap\": 0.2, \"xaxis\": {\"ticktext\": [\"No\", \"S\\u00ed\"], \"tickvals\": [0, 1]}}, {\"showLink\": false, \"linkText\": \"Export to plot.ly\", \"plotlyServerURL\": \"https://plot.ly\"}); \n",
       "}\n",
       "});</script><script type=\"text/javascript\">window.addEventListener(\"resize\", function(){if (document.getElementById(\"c5e7562f-170a-4c64-b2bf-8ec60a0ae1aa\")) {window._Plotly.Plots.resize(document.getElementById(\"c5e7562f-170a-4c64-b2bf-8ec60a0ae1aa\"));};})</script>"
      ],
      "text/vnd.plotly.v1+html": [
       "<div id=\"c5e7562f-170a-4c64-b2bf-8ec60a0ae1aa\" style=\"height: 525px; width: 100%;\" class=\"plotly-graph-div\"></div><script type=\"text/javascript\">require([\"plotly\"], function(Plotly) { window.PLOTLYENV=window.PLOTLYENV || {};window.PLOTLYENV.BASE_URL=\"https://plot.ly\";\n",
       "if (document.getElementById(\"c5e7562f-170a-4c64-b2bf-8ec60a0ae1aa\")) {\n",
       "    Plotly.newPlot(\"c5e7562f-170a-4c64-b2bf-8ec60a0ae1aa\", [{\"marker\": {\"color\": [\"rgb(213,62,79)\", \"rgb(252,141,89)\", \"rgb(254,224,139)\", \"rgb(230,245,152)\", \"rgb(153,213,148)\", \"rgb(50,136,189)\"]}, \"x\": [0, 1], \"y\": [46, 54], \"type\": \"bar\", \"uid\": \"365d69a4-da2c-4837-9c09-f564b51a7208\"}], {\"bargap\": 0.2, \"xaxis\": {\"ticktext\": [\"No\", \"S\\u00ed\"], \"tickvals\": [0, 1]}}, {\"showLink\": false, \"linkText\": \"Export to plot.ly\", \"plotlyServerURL\": \"https://plot.ly\"}); \n",
       "}\n",
       "});</script><script type=\"text/javascript\">window.addEventListener(\"resize\", function(){if (document.getElementById(\"c5e7562f-170a-4c64-b2bf-8ec60a0ae1aa\")) {window._Plotly.Plots.resize(document.getElementById(\"c5e7562f-170a-4c64-b2bf-8ec60a0ae1aa\"));};})</script>"
      ]
     },
     "metadata": {},
     "output_type": "display_data"
    },
    {
     "name": "stdout",
     "output_type": "stream",
     "text": [
      "\n",
      "\n",
      "Cluster 3 || variable: ¿Qué tipo de aplicaciones utilizas en tu ordenador/tableta/móvil? (Respuesta múltiple) [Otro]\n",
      "Describiendo la pregunta ¿Qué tipo de aplicaciones utilizas en tu ordenador/tableta/móvil? (Respuesta múltiple) [Otro]\n",
      "\n",
      "\n",
      "Cluster 3 || variable: Durante ese uso, ¿cuántas imágenes consumes (ves y compartes)?\n",
      "Describiendo la pregunta Durante ese uso, ¿cuántas imágenes consumes (ves y compartes)?\n",
      "Valores numéricos asociados a las respuestas [1, 2, 3, 4, 5]\n",
      "Respuestas posibles a la pregunta/variable ['1. Ninguna', '2. Pocas', '3. Ni muchas ni pocas', '4. Bastantes', '5. Recibo y envio imágenes de forma constante']\n"
     ]
    },
    {
     "data": {
      "text/plain": [
       "count    100.000000\n",
       "mean       4.120000\n",
       "std        0.742369\n",
       "min        1.000000\n",
       "25%        4.000000\n",
       "50%        4.000000\n",
       "75%        5.000000\n",
       "max        5.000000\n",
       "Name: Durante ese uso, ¿cuántas imágenes consumes (ves y compartes)?, dtype: float64"
      ]
     },
     "metadata": {},
     "output_type": "display_data"
    },
    {
     "name": "stdout",
     "output_type": "stream",
     "text": [
      "Conteo de cada valor en Durante ese uso, ¿cuántas imágenes consumes (ves y compartes)? expresada como valor / cantidad\n"
     ]
    },
    {
     "data": {
      "text/plain": [
       "1     1\n",
       "2     3\n",
       "3     7\n",
       "4    61\n",
       "5    28\n",
       "Name: Durante ese uso, ¿cuántas imágenes consumes (ves y compartes)?, dtype: int64"
      ]
     },
     "metadata": {},
     "output_type": "display_data"
    },
    {
     "name": "stdout",
     "output_type": "stream",
     "text": [
      "Porcentaje de cada valor en Durante ese uso, ¿cuántas imágenes consumes (ves y compartes)? expresado como valor / porcentaje\n"
     ]
    },
    {
     "data": {
      "text/plain": [
       "1     1.0\n",
       "2     3.0\n",
       "3     7.0\n",
       "4    61.0\n",
       "5    28.0\n",
       "Name: Durante ese uso, ¿cuántas imágenes consumes (ves y compartes)?, dtype: float64"
      ]
     },
     "metadata": {},
     "output_type": "display_data"
    },
    {
     "data": {
      "application/vnd.plotly.v1+json": {
       "config": {
        "linkText": "Export to plot.ly",
        "plotlyServerURL": "https://plot.ly",
        "showLink": false
       },
       "data": [
        {
         "marker": {
          "color": [
           "rgb(213,62,79)",
           "rgb(252,141,89)",
           "rgb(254,224,139)",
           "rgb(230,245,152)",
           "rgb(153,213,148)",
           "rgb(50,136,189)"
          ]
         },
         "type": "bar",
         "uid": "cc58e644-4f41-414b-bd2b-1a4b720a1ce1",
         "x": [
          1,
          2,
          3,
          4,
          5
         ],
         "y": [
          1,
          3,
          7,
          61,
          28
         ]
        }
       ],
       "layout": {
        "bargap": 0.2,
        "xaxis": {
         "ticktext": [
          "1. Ninguna",
          "2. Pocas",
          "3. Ni muchas ni pocas",
          "4. Bastantes",
          "5. Recibo y envio imágenes de forma constante"
         ],
         "tickvals": [
          1,
          2,
          3,
          4,
          5
         ]
        }
       }
      },
      "text/html": [
       "<div id=\"6c96a60b-a0e0-45aa-aa46-4e26aa81e41a\" style=\"height: 525px; width: 100%;\" class=\"plotly-graph-div\"></div><script type=\"text/javascript\">require([\"plotly\"], function(Plotly) { window.PLOTLYENV=window.PLOTLYENV || {};window.PLOTLYENV.BASE_URL=\"https://plot.ly\";\n",
       "if (document.getElementById(\"6c96a60b-a0e0-45aa-aa46-4e26aa81e41a\")) {\n",
       "    Plotly.newPlot(\"6c96a60b-a0e0-45aa-aa46-4e26aa81e41a\", [{\"marker\": {\"color\": [\"rgb(213,62,79)\", \"rgb(252,141,89)\", \"rgb(254,224,139)\", \"rgb(230,245,152)\", \"rgb(153,213,148)\", \"rgb(50,136,189)\"]}, \"x\": [1, 2, 3, 4, 5], \"y\": [1, 3, 7, 61, 28], \"type\": \"bar\", \"uid\": \"cc58e644-4f41-414b-bd2b-1a4b720a1ce1\"}], {\"bargap\": 0.2, \"xaxis\": {\"ticktext\": [\"1. Ninguna\", \"2. Pocas\", \"3. Ni muchas ni pocas\", \"4. Bastantes\", \"5. Recibo y envio im\\u00e1genes de forma constante\"], \"tickvals\": [1, 2, 3, 4, 5]}}, {\"showLink\": false, \"linkText\": \"Export to plot.ly\", \"plotlyServerURL\": \"https://plot.ly\"}); \n",
       "}\n",
       "});</script><script type=\"text/javascript\">window.addEventListener(\"resize\", function(){if (document.getElementById(\"6c96a60b-a0e0-45aa-aa46-4e26aa81e41a\")) {window._Plotly.Plots.resize(document.getElementById(\"6c96a60b-a0e0-45aa-aa46-4e26aa81e41a\"));};})</script>"
      ],
      "text/vnd.plotly.v1+html": [
       "<div id=\"6c96a60b-a0e0-45aa-aa46-4e26aa81e41a\" style=\"height: 525px; width: 100%;\" class=\"plotly-graph-div\"></div><script type=\"text/javascript\">require([\"plotly\"], function(Plotly) { window.PLOTLYENV=window.PLOTLYENV || {};window.PLOTLYENV.BASE_URL=\"https://plot.ly\";\n",
       "if (document.getElementById(\"6c96a60b-a0e0-45aa-aa46-4e26aa81e41a\")) {\n",
       "    Plotly.newPlot(\"6c96a60b-a0e0-45aa-aa46-4e26aa81e41a\", [{\"marker\": {\"color\": [\"rgb(213,62,79)\", \"rgb(252,141,89)\", \"rgb(254,224,139)\", \"rgb(230,245,152)\", \"rgb(153,213,148)\", \"rgb(50,136,189)\"]}, \"x\": [1, 2, 3, 4, 5], \"y\": [1, 3, 7, 61, 28], \"type\": \"bar\", \"uid\": \"cc58e644-4f41-414b-bd2b-1a4b720a1ce1\"}], {\"bargap\": 0.2, \"xaxis\": {\"ticktext\": [\"1. Ninguna\", \"2. Pocas\", \"3. Ni muchas ni pocas\", \"4. Bastantes\", \"5. Recibo y envio im\\u00e1genes de forma constante\"], \"tickvals\": [1, 2, 3, 4, 5]}}, {\"showLink\": false, \"linkText\": \"Export to plot.ly\", \"plotlyServerURL\": \"https://plot.ly\"}); \n",
       "}\n",
       "});</script><script type=\"text/javascript\">window.addEventListener(\"resize\", function(){if (document.getElementById(\"6c96a60b-a0e0-45aa-aa46-4e26aa81e41a\")) {window._Plotly.Plots.resize(document.getElementById(\"6c96a60b-a0e0-45aa-aa46-4e26aa81e41a\"));};})</script>"
      ]
     },
     "metadata": {},
     "output_type": "display_data"
    },
    {
     "name": "stdout",
     "output_type": "stream",
     "text": [
      "\n",
      "\n",
      "Cluster 3 || variable: ¿Cuál es tu herramienta habitual de consumo de imágenes?\n",
      "Describiendo la pregunta ¿Cuál es tu herramienta habitual de consumo de imágenes?\n",
      "Valores numéricos asociados a las respuestas [1, 2, 3, 4, 5]\n",
      "Respuestas posibles a la pregunta/variable ['1. Móvil', '2. Televisión', '3. Ordenador', '4. Tableta', '5. Otros (Libros y periódicos en papel, marquesinas, museos...)']\n"
     ]
    },
    {
     "data": {
      "text/plain": [
       "count    100.000000\n",
       "mean       2.220000\n",
       "std        1.020794\n",
       "min        1.000000\n",
       "25%        1.000000\n",
       "50%        3.000000\n",
       "75%        3.000000\n",
       "max        4.000000\n",
       "Name: ¿Cuál es tu herramienta habitual de consumo de imágenes?, dtype: float64"
      ]
     },
     "metadata": {},
     "output_type": "display_data"
    },
    {
     "name": "stdout",
     "output_type": "stream",
     "text": [
      "Conteo de cada valor en ¿Cuál es tu herramienta habitual de consumo de imágenes? expresada como valor / cantidad\n"
     ]
    },
    {
     "data": {
      "text/plain": [
       "1    39\n",
       "2     4\n",
       "3    53\n",
       "4     4\n",
       "Name: ¿Cuál es tu herramienta habitual de consumo de imágenes?, dtype: int64"
      ]
     },
     "metadata": {},
     "output_type": "display_data"
    },
    {
     "name": "stdout",
     "output_type": "stream",
     "text": [
      "Porcentaje de cada valor en ¿Cuál es tu herramienta habitual de consumo de imágenes? expresado como valor / porcentaje\n"
     ]
    },
    {
     "data": {
      "text/plain": [
       "1    39.0\n",
       "2     4.0\n",
       "3    53.0\n",
       "4     4.0\n",
       "Name: ¿Cuál es tu herramienta habitual de consumo de imágenes?, dtype: float64"
      ]
     },
     "metadata": {},
     "output_type": "display_data"
    },
    {
     "data": {
      "application/vnd.plotly.v1+json": {
       "config": {
        "linkText": "Export to plot.ly",
        "plotlyServerURL": "https://plot.ly",
        "showLink": false
       },
       "data": [
        {
         "marker": {
          "color": [
           "rgb(213,62,79)",
           "rgb(252,141,89)",
           "rgb(254,224,139)",
           "rgb(230,245,152)",
           "rgb(153,213,148)",
           "rgb(50,136,189)"
          ]
         },
         "type": "bar",
         "uid": "f2391960-9b22-4e44-a00e-f72fd925c805",
         "x": [
          1,
          2,
          3,
          4
         ],
         "y": [
          39,
          4,
          53,
          4
         ]
        }
       ],
       "layout": {
        "bargap": 0.2,
        "xaxis": {
         "ticktext": [
          "1. Móvil",
          "2. Televisión",
          "3. Ordenador",
          "4. Tableta",
          "5. Otros (Libros y periódicos en papel, marquesinas, museos...)"
         ],
         "tickvals": [
          1,
          2,
          3,
          4,
          5
         ]
        }
       }
      },
      "text/html": [
       "<div id=\"85458d65-bf6d-406b-856a-e59b4a455650\" style=\"height: 525px; width: 100%;\" class=\"plotly-graph-div\"></div><script type=\"text/javascript\">require([\"plotly\"], function(Plotly) { window.PLOTLYENV=window.PLOTLYENV || {};window.PLOTLYENV.BASE_URL=\"https://plot.ly\";\n",
       "if (document.getElementById(\"85458d65-bf6d-406b-856a-e59b4a455650\")) {\n",
       "    Plotly.newPlot(\"85458d65-bf6d-406b-856a-e59b4a455650\", [{\"marker\": {\"color\": [\"rgb(213,62,79)\", \"rgb(252,141,89)\", \"rgb(254,224,139)\", \"rgb(230,245,152)\", \"rgb(153,213,148)\", \"rgb(50,136,189)\"]}, \"x\": [1, 2, 3, 4], \"y\": [39, 4, 53, 4], \"type\": \"bar\", \"uid\": \"f2391960-9b22-4e44-a00e-f72fd925c805\"}], {\"bargap\": 0.2, \"xaxis\": {\"ticktext\": [\"1. M\\u00f3vil\", \"2. Televisi\\u00f3n\", \"3. Ordenador\", \"4. Tableta\", \"5. Otros (Libros y peri\\u00f3dicos en papel, marquesinas, museos...)\"], \"tickvals\": [1, 2, 3, 4, 5]}}, {\"showLink\": false, \"linkText\": \"Export to plot.ly\", \"plotlyServerURL\": \"https://plot.ly\"}); \n",
       "}\n",
       "});</script><script type=\"text/javascript\">window.addEventListener(\"resize\", function(){if (document.getElementById(\"85458d65-bf6d-406b-856a-e59b4a455650\")) {window._Plotly.Plots.resize(document.getElementById(\"85458d65-bf6d-406b-856a-e59b4a455650\"));};})</script>"
      ],
      "text/vnd.plotly.v1+html": [
       "<div id=\"85458d65-bf6d-406b-856a-e59b4a455650\" style=\"height: 525px; width: 100%;\" class=\"plotly-graph-div\"></div><script type=\"text/javascript\">require([\"plotly\"], function(Plotly) { window.PLOTLYENV=window.PLOTLYENV || {};window.PLOTLYENV.BASE_URL=\"https://plot.ly\";\n",
       "if (document.getElementById(\"85458d65-bf6d-406b-856a-e59b4a455650\")) {\n",
       "    Plotly.newPlot(\"85458d65-bf6d-406b-856a-e59b4a455650\", [{\"marker\": {\"color\": [\"rgb(213,62,79)\", \"rgb(252,141,89)\", \"rgb(254,224,139)\", \"rgb(230,245,152)\", \"rgb(153,213,148)\", \"rgb(50,136,189)\"]}, \"x\": [1, 2, 3, 4], \"y\": [39, 4, 53, 4], \"type\": \"bar\", \"uid\": \"f2391960-9b22-4e44-a00e-f72fd925c805\"}], {\"bargap\": 0.2, \"xaxis\": {\"ticktext\": [\"1. M\\u00f3vil\", \"2. Televisi\\u00f3n\", \"3. Ordenador\", \"4. Tableta\", \"5. Otros (Libros y peri\\u00f3dicos en papel, marquesinas, museos...)\"], \"tickvals\": [1, 2, 3, 4, 5]}}, {\"showLink\": false, \"linkText\": \"Export to plot.ly\", \"plotlyServerURL\": \"https://plot.ly\"}); \n",
       "}\n",
       "});</script><script type=\"text/javascript\">window.addEventListener(\"resize\", function(){if (document.getElementById(\"85458d65-bf6d-406b-856a-e59b4a455650\")) {window._Plotly.Plots.resize(document.getElementById(\"85458d65-bf6d-406b-856a-e59b4a455650\"));};})</script>"
      ]
     },
     "metadata": {},
     "output_type": "display_data"
    },
    {
     "name": "stdout",
     "output_type": "stream",
     "text": [
      "\n",
      "\n",
      "Cluster 3 || variable: ¿Cada cuánto tiempo consumes imágenes?\n",
      "Describiendo la pregunta ¿Cada cuánto tiempo consumes imágenes?\n",
      "Valores numéricos asociados a las respuestas [1, 2, 3, 4]\n",
      "Respuestas posibles a la pregunta/variable ['1. Nunca', '2. Dos o tres veces por semana', '3. Casi todos los días', '4. A diario']\n"
     ]
    },
    {
     "data": {
      "text/plain": [
       "count    100.000000\n",
       "mean       3.280000\n",
       "std        0.636912\n",
       "min        2.000000\n",
       "25%        3.000000\n",
       "50%        3.000000\n",
       "75%        4.000000\n",
       "max        4.000000\n",
       "Name: ¿Cada cuánto tiempo consumes imágenes?, dtype: float64"
      ]
     },
     "metadata": {},
     "output_type": "display_data"
    },
    {
     "name": "stdout",
     "output_type": "stream",
     "text": [
      "Conteo de cada valor en ¿Cada cuánto tiempo consumes imágenes? expresada como valor / cantidad\n"
     ]
    },
    {
     "data": {
      "text/plain": [
       "2    10\n",
       "3    52\n",
       "4    38\n",
       "Name: ¿Cada cuánto tiempo consumes imágenes?, dtype: int64"
      ]
     },
     "metadata": {},
     "output_type": "display_data"
    },
    {
     "name": "stdout",
     "output_type": "stream",
     "text": [
      "Porcentaje de cada valor en ¿Cada cuánto tiempo consumes imágenes? expresado como valor / porcentaje\n"
     ]
    },
    {
     "data": {
      "text/plain": [
       "2    10.0\n",
       "3    52.0\n",
       "4    38.0\n",
       "Name: ¿Cada cuánto tiempo consumes imágenes?, dtype: float64"
      ]
     },
     "metadata": {},
     "output_type": "display_data"
    },
    {
     "data": {
      "application/vnd.plotly.v1+json": {
       "config": {
        "linkText": "Export to plot.ly",
        "plotlyServerURL": "https://plot.ly",
        "showLink": false
       },
       "data": [
        {
         "marker": {
          "color": [
           "rgb(213,62,79)",
           "rgb(252,141,89)",
           "rgb(254,224,139)",
           "rgb(230,245,152)",
           "rgb(153,213,148)",
           "rgb(50,136,189)"
          ]
         },
         "type": "bar",
         "uid": "483bf6c7-1fc1-49c1-905b-69f6aaaa97f9",
         "x": [
          2,
          3,
          4
         ],
         "y": [
          10,
          52,
          38
         ]
        }
       ],
       "layout": {
        "bargap": 0.2,
        "xaxis": {
         "ticktext": [
          "1. Nunca",
          "2. Dos o tres veces por semana",
          "3. Casi todos los días",
          "4. A diario"
         ],
         "tickvals": [
          1,
          2,
          3,
          4
         ]
        }
       }
      },
      "text/html": [
       "<div id=\"509847f5-8c42-4fb5-a7b6-ea6ceb569cdc\" style=\"height: 525px; width: 100%;\" class=\"plotly-graph-div\"></div><script type=\"text/javascript\">require([\"plotly\"], function(Plotly) { window.PLOTLYENV=window.PLOTLYENV || {};window.PLOTLYENV.BASE_URL=\"https://plot.ly\";\n",
       "if (document.getElementById(\"509847f5-8c42-4fb5-a7b6-ea6ceb569cdc\")) {\n",
       "    Plotly.newPlot(\"509847f5-8c42-4fb5-a7b6-ea6ceb569cdc\", [{\"marker\": {\"color\": [\"rgb(213,62,79)\", \"rgb(252,141,89)\", \"rgb(254,224,139)\", \"rgb(230,245,152)\", \"rgb(153,213,148)\", \"rgb(50,136,189)\"]}, \"x\": [2, 3, 4], \"y\": [10, 52, 38], \"type\": \"bar\", \"uid\": \"483bf6c7-1fc1-49c1-905b-69f6aaaa97f9\"}], {\"bargap\": 0.2, \"xaxis\": {\"ticktext\": [\"1. Nunca\", \"2. Dos o tres veces por semana\", \"3. Casi todos los d\\u00edas\", \"4. A diario\"], \"tickvals\": [1, 2, 3, 4]}}, {\"showLink\": false, \"linkText\": \"Export to plot.ly\", \"plotlyServerURL\": \"https://plot.ly\"}); \n",
       "}\n",
       "});</script><script type=\"text/javascript\">window.addEventListener(\"resize\", function(){if (document.getElementById(\"509847f5-8c42-4fb5-a7b6-ea6ceb569cdc\")) {window._Plotly.Plots.resize(document.getElementById(\"509847f5-8c42-4fb5-a7b6-ea6ceb569cdc\"));};})</script>"
      ],
      "text/vnd.plotly.v1+html": [
       "<div id=\"509847f5-8c42-4fb5-a7b6-ea6ceb569cdc\" style=\"height: 525px; width: 100%;\" class=\"plotly-graph-div\"></div><script type=\"text/javascript\">require([\"plotly\"], function(Plotly) { window.PLOTLYENV=window.PLOTLYENV || {};window.PLOTLYENV.BASE_URL=\"https://plot.ly\";\n",
       "if (document.getElementById(\"509847f5-8c42-4fb5-a7b6-ea6ceb569cdc\")) {\n",
       "    Plotly.newPlot(\"509847f5-8c42-4fb5-a7b6-ea6ceb569cdc\", [{\"marker\": {\"color\": [\"rgb(213,62,79)\", \"rgb(252,141,89)\", \"rgb(254,224,139)\", \"rgb(230,245,152)\", \"rgb(153,213,148)\", \"rgb(50,136,189)\"]}, \"x\": [2, 3, 4], \"y\": [10, 52, 38], \"type\": \"bar\", \"uid\": \"483bf6c7-1fc1-49c1-905b-69f6aaaa97f9\"}], {\"bargap\": 0.2, \"xaxis\": {\"ticktext\": [\"1. Nunca\", \"2. Dos o tres veces por semana\", \"3. Casi todos los d\\u00edas\", \"4. A diario\"], \"tickvals\": [1, 2, 3, 4]}}, {\"showLink\": false, \"linkText\": \"Export to plot.ly\", \"plotlyServerURL\": \"https://plot.ly\"}); \n",
       "}\n",
       "});</script><script type=\"text/javascript\">window.addEventListener(\"resize\", function(){if (document.getElementById(\"509847f5-8c42-4fb5-a7b6-ea6ceb569cdc\")) {window._Plotly.Plots.resize(document.getElementById(\"509847f5-8c42-4fb5-a7b6-ea6ceb569cdc\"));};})</script>"
      ]
     },
     "metadata": {},
     "output_type": "display_data"
    },
    {
     "name": "stdout",
     "output_type": "stream",
     "text": [
      "\n",
      "\n",
      "Cluster 1 || variable: Clasifica tu grado de visión\n",
      "Describiendo la pregunta Clasifica tu grado de visión\n",
      "Valores numéricos asociados a las respuestas [1, 2, 3, 4, 5]\n",
      "Respuestas posibles a la pregunta/variable ['1. Muy malo', '2. Malo', '3. Regular', '4. Bueno', '5. Muy bueno']\n"
     ]
    },
    {
     "data": {
      "text/plain": [
       "count    37.000000\n",
       "mean      3.864865\n",
       "std       0.585100\n",
       "min       3.000000\n",
       "25%       4.000000\n",
       "50%       4.000000\n",
       "75%       4.000000\n",
       "max       5.000000\n",
       "Name: Clasifica tu grado de visión, dtype: float64"
      ]
     },
     "metadata": {},
     "output_type": "display_data"
    },
    {
     "name": "stdout",
     "output_type": "stream",
     "text": [
      "Conteo de cada valor en Clasifica tu grado de visión expresada como valor / cantidad\n"
     ]
    },
    {
     "data": {
      "text/plain": [
       "3     9\n",
       "4    24\n",
       "5     4\n",
       "Name: Clasifica tu grado de visión, dtype: int64"
      ]
     },
     "metadata": {},
     "output_type": "display_data"
    },
    {
     "name": "stdout",
     "output_type": "stream",
     "text": [
      "Porcentaje de cada valor en Clasifica tu grado de visión expresado como valor / porcentaje\n"
     ]
    },
    {
     "data": {
      "text/plain": [
       "3    24.32\n",
       "4    64.86\n",
       "5    10.81\n",
       "Name: Clasifica tu grado de visión, dtype: float64"
      ]
     },
     "metadata": {},
     "output_type": "display_data"
    },
    {
     "data": {
      "application/vnd.plotly.v1+json": {
       "config": {
        "linkText": "Export to plot.ly",
        "plotlyServerURL": "https://plot.ly",
        "showLink": false
       },
       "data": [
        {
         "marker": {
          "color": [
           "rgb(213,62,79)",
           "rgb(252,141,89)",
           "rgb(254,224,139)",
           "rgb(230,245,152)",
           "rgb(153,213,148)",
           "rgb(50,136,189)"
          ]
         },
         "type": "bar",
         "uid": "309269cd-fcac-4ae2-998a-83a1c777b88b",
         "x": [
          3,
          4,
          5
         ],
         "y": [
          9,
          24,
          4
         ]
        }
       ],
       "layout": {
        "bargap": 0.2,
        "xaxis": {
         "ticktext": [
          "1. Muy malo",
          "2. Malo",
          "3. Regular",
          "4. Bueno",
          "5. Muy bueno"
         ],
         "tickvals": [
          1,
          2,
          3,
          4,
          5
         ]
        }
       }
      },
      "text/html": [
       "<div id=\"e7adf70e-a755-4e55-8efd-22d8707c2735\" style=\"height: 525px; width: 100%;\" class=\"plotly-graph-div\"></div><script type=\"text/javascript\">require([\"plotly\"], function(Plotly) { window.PLOTLYENV=window.PLOTLYENV || {};window.PLOTLYENV.BASE_URL=\"https://plot.ly\";\n",
       "if (document.getElementById(\"e7adf70e-a755-4e55-8efd-22d8707c2735\")) {\n",
       "    Plotly.newPlot(\"e7adf70e-a755-4e55-8efd-22d8707c2735\", [{\"marker\": {\"color\": [\"rgb(213,62,79)\", \"rgb(252,141,89)\", \"rgb(254,224,139)\", \"rgb(230,245,152)\", \"rgb(153,213,148)\", \"rgb(50,136,189)\"]}, \"x\": [3, 4, 5], \"y\": [9, 24, 4], \"type\": \"bar\", \"uid\": \"309269cd-fcac-4ae2-998a-83a1c777b88b\"}], {\"bargap\": 0.2, \"xaxis\": {\"ticktext\": [\"1. Muy malo\", \"2. Malo\", \"3. Regular\", \"4. Bueno\", \"5. Muy bueno\"], \"tickvals\": [1, 2, 3, 4, 5]}}, {\"showLink\": false, \"linkText\": \"Export to plot.ly\", \"plotlyServerURL\": \"https://plot.ly\"}); \n",
       "}\n",
       "});</script><script type=\"text/javascript\">window.addEventListener(\"resize\", function(){if (document.getElementById(\"e7adf70e-a755-4e55-8efd-22d8707c2735\")) {window._Plotly.Plots.resize(document.getElementById(\"e7adf70e-a755-4e55-8efd-22d8707c2735\"));};})</script>"
      ],
      "text/vnd.plotly.v1+html": [
       "<div id=\"e7adf70e-a755-4e55-8efd-22d8707c2735\" style=\"height: 525px; width: 100%;\" class=\"plotly-graph-div\"></div><script type=\"text/javascript\">require([\"plotly\"], function(Plotly) { window.PLOTLYENV=window.PLOTLYENV || {};window.PLOTLYENV.BASE_URL=\"https://plot.ly\";\n",
       "if (document.getElementById(\"e7adf70e-a755-4e55-8efd-22d8707c2735\")) {\n",
       "    Plotly.newPlot(\"e7adf70e-a755-4e55-8efd-22d8707c2735\", [{\"marker\": {\"color\": [\"rgb(213,62,79)\", \"rgb(252,141,89)\", \"rgb(254,224,139)\", \"rgb(230,245,152)\", \"rgb(153,213,148)\", \"rgb(50,136,189)\"]}, \"x\": [3, 4, 5], \"y\": [9, 24, 4], \"type\": \"bar\", \"uid\": \"309269cd-fcac-4ae2-998a-83a1c777b88b\"}], {\"bargap\": 0.2, \"xaxis\": {\"ticktext\": [\"1. Muy malo\", \"2. Malo\", \"3. Regular\", \"4. Bueno\", \"5. Muy bueno\"], \"tickvals\": [1, 2, 3, 4, 5]}}, {\"showLink\": false, \"linkText\": \"Export to plot.ly\", \"plotlyServerURL\": \"https://plot.ly\"}); \n",
       "}\n",
       "});</script><script type=\"text/javascript\">window.addEventListener(\"resize\", function(){if (document.getElementById(\"e7adf70e-a755-4e55-8efd-22d8707c2735\")) {window._Plotly.Plots.resize(document.getElementById(\"e7adf70e-a755-4e55-8efd-22d8707c2735\"));};})</script>"
      ]
     },
     "metadata": {},
     "output_type": "display_data"
    },
    {
     "name": "stdout",
     "output_type": "stream",
     "text": [
      "\n",
      "\n",
      "Cluster 1 || variable: ¿Utilizas gafas o lentes de contacto?\n",
      "Describiendo la pregunta ¿Utilizas gafas o lentes de contacto?\n",
      "Valores numéricos asociados a las respuestas [0, 1]\n",
      "Respuestas posibles a la pregunta/variable ['No', 'Sí']\n"
     ]
    },
    {
     "data": {
      "text/plain": [
       "count    37.000000\n",
       "mean      0.486486\n",
       "std       0.506712\n",
       "min       0.000000\n",
       "25%       0.000000\n",
       "50%       0.000000\n",
       "75%       1.000000\n",
       "max       1.000000\n",
       "Name: ¿Utilizas gafas o lentes de contacto?, dtype: float64"
      ]
     },
     "metadata": {},
     "output_type": "display_data"
    },
    {
     "name": "stdout",
     "output_type": "stream",
     "text": [
      "Conteo de cada valor en ¿Utilizas gafas o lentes de contacto? expresada como valor / cantidad\n"
     ]
    },
    {
     "data": {
      "text/plain": [
       "0    19\n",
       "1    18\n",
       "Name: ¿Utilizas gafas o lentes de contacto?, dtype: int64"
      ]
     },
     "metadata": {},
     "output_type": "display_data"
    },
    {
     "name": "stdout",
     "output_type": "stream",
     "text": [
      "Porcentaje de cada valor en ¿Utilizas gafas o lentes de contacto? expresado como valor / porcentaje\n"
     ]
    },
    {
     "data": {
      "text/plain": [
       "0    51.35\n",
       "1    48.65\n",
       "Name: ¿Utilizas gafas o lentes de contacto?, dtype: float64"
      ]
     },
     "metadata": {},
     "output_type": "display_data"
    },
    {
     "data": {
      "application/vnd.plotly.v1+json": {
       "config": {
        "linkText": "Export to plot.ly",
        "plotlyServerURL": "https://plot.ly",
        "showLink": false
       },
       "data": [
        {
         "marker": {
          "color": [
           "rgb(213,62,79)",
           "rgb(252,141,89)",
           "rgb(254,224,139)",
           "rgb(230,245,152)",
           "rgb(153,213,148)",
           "rgb(50,136,189)"
          ]
         },
         "type": "bar",
         "uid": "23a1685e-c188-4d16-be58-ff8b3bfb2770",
         "x": [
          0,
          1
         ],
         "y": [
          19,
          18
         ]
        }
       ],
       "layout": {
        "bargap": 0.2,
        "xaxis": {
         "ticktext": [
          "No",
          "Sí"
         ],
         "tickvals": [
          0,
          1
         ]
        }
       }
      },
      "text/html": [
       "<div id=\"21da330d-8874-4190-bacf-30e746443603\" style=\"height: 525px; width: 100%;\" class=\"plotly-graph-div\"></div><script type=\"text/javascript\">require([\"plotly\"], function(Plotly) { window.PLOTLYENV=window.PLOTLYENV || {};window.PLOTLYENV.BASE_URL=\"https://plot.ly\";\n",
       "if (document.getElementById(\"21da330d-8874-4190-bacf-30e746443603\")) {\n",
       "    Plotly.newPlot(\"21da330d-8874-4190-bacf-30e746443603\", [{\"marker\": {\"color\": [\"rgb(213,62,79)\", \"rgb(252,141,89)\", \"rgb(254,224,139)\", \"rgb(230,245,152)\", \"rgb(153,213,148)\", \"rgb(50,136,189)\"]}, \"x\": [0, 1], \"y\": [19, 18], \"type\": \"bar\", \"uid\": \"23a1685e-c188-4d16-be58-ff8b3bfb2770\"}], {\"bargap\": 0.2, \"xaxis\": {\"ticktext\": [\"No\", \"S\\u00ed\"], \"tickvals\": [0, 1]}}, {\"showLink\": false, \"linkText\": \"Export to plot.ly\", \"plotlyServerURL\": \"https://plot.ly\"}); \n",
       "}\n",
       "});</script><script type=\"text/javascript\">window.addEventListener(\"resize\", function(){if (document.getElementById(\"21da330d-8874-4190-bacf-30e746443603\")) {window._Plotly.Plots.resize(document.getElementById(\"21da330d-8874-4190-bacf-30e746443603\"));};})</script>"
      ],
      "text/vnd.plotly.v1+html": [
       "<div id=\"21da330d-8874-4190-bacf-30e746443603\" style=\"height: 525px; width: 100%;\" class=\"plotly-graph-div\"></div><script type=\"text/javascript\">require([\"plotly\"], function(Plotly) { window.PLOTLYENV=window.PLOTLYENV || {};window.PLOTLYENV.BASE_URL=\"https://plot.ly\";\n",
       "if (document.getElementById(\"21da330d-8874-4190-bacf-30e746443603\")) {\n",
       "    Plotly.newPlot(\"21da330d-8874-4190-bacf-30e746443603\", [{\"marker\": {\"color\": [\"rgb(213,62,79)\", \"rgb(252,141,89)\", \"rgb(254,224,139)\", \"rgb(230,245,152)\", \"rgb(153,213,148)\", \"rgb(50,136,189)\"]}, \"x\": [0, 1], \"y\": [19, 18], \"type\": \"bar\", \"uid\": \"23a1685e-c188-4d16-be58-ff8b3bfb2770\"}], {\"bargap\": 0.2, \"xaxis\": {\"ticktext\": [\"No\", \"S\\u00ed\"], \"tickvals\": [0, 1]}}, {\"showLink\": false, \"linkText\": \"Export to plot.ly\", \"plotlyServerURL\": \"https://plot.ly\"}); \n",
       "}\n",
       "});</script><script type=\"text/javascript\">window.addEventListener(\"resize\", function(){if (document.getElementById(\"21da330d-8874-4190-bacf-30e746443603\")) {window._Plotly.Plots.resize(document.getElementById(\"21da330d-8874-4190-bacf-30e746443603\"));};})</script>"
      ]
     },
     "metadata": {},
     "output_type": "display_data"
    },
    {
     "name": "stdout",
     "output_type": "stream",
     "text": [
      "\n",
      "\n",
      "Cluster 1 || variable: ¿Tienes alguna carencia visual que afecte a la recepción de formas, colores, distancias, etc.?\n",
      "Describiendo la pregunta ¿Tienes alguna carencia visual que afecte a la recepción de formas, colores, distancias, etc.?\n",
      "Valores numéricos asociados a las respuestas [0, 1]\n",
      "Respuestas posibles a la pregunta/variable ['No', 'Sí']\n"
     ]
    },
    {
     "data": {
      "text/plain": [
       "count    37.000000\n",
       "mean      0.486486\n",
       "std       0.506712\n",
       "min       0.000000\n",
       "25%       0.000000\n",
       "50%       0.000000\n",
       "75%       1.000000\n",
       "max       1.000000\n",
       "Name: ¿Tienes alguna carencia visual que afecte a la recepción de formas, colores, distancias, etc.?, dtype: float64"
      ]
     },
     "metadata": {},
     "output_type": "display_data"
    },
    {
     "name": "stdout",
     "output_type": "stream",
     "text": [
      "Conteo de cada valor en ¿Tienes alguna carencia visual que afecte a la recepción de formas, colores, distancias, etc.? expresada como valor / cantidad\n"
     ]
    },
    {
     "data": {
      "text/plain": [
       "0    19\n",
       "1    18\n",
       "Name: ¿Tienes alguna carencia visual que afecte a la recepción de formas, colores, distancias, etc.?, dtype: int64"
      ]
     },
     "metadata": {},
     "output_type": "display_data"
    },
    {
     "name": "stdout",
     "output_type": "stream",
     "text": [
      "Porcentaje de cada valor en ¿Tienes alguna carencia visual que afecte a la recepción de formas, colores, distancias, etc.? expresado como valor / porcentaje\n"
     ]
    },
    {
     "data": {
      "text/plain": [
       "0    51.35\n",
       "1    48.65\n",
       "Name: ¿Tienes alguna carencia visual que afecte a la recepción de formas, colores, distancias, etc.?, dtype: float64"
      ]
     },
     "metadata": {},
     "output_type": "display_data"
    },
    {
     "data": {
      "application/vnd.plotly.v1+json": {
       "config": {
        "linkText": "Export to plot.ly",
        "plotlyServerURL": "https://plot.ly",
        "showLink": false
       },
       "data": [
        {
         "marker": {
          "color": [
           "rgb(213,62,79)",
           "rgb(252,141,89)",
           "rgb(254,224,139)",
           "rgb(230,245,152)",
           "rgb(153,213,148)",
           "rgb(50,136,189)"
          ]
         },
         "type": "bar",
         "uid": "4a862fb0-4334-4e99-a194-8cd106ec0807",
         "x": [
          0,
          1
         ],
         "y": [
          19,
          18
         ]
        }
       ],
       "layout": {
        "bargap": 0.2,
        "xaxis": {
         "ticktext": [
          "No",
          "Sí"
         ],
         "tickvals": [
          0,
          1
         ]
        }
       }
      },
      "text/html": [
       "<div id=\"2ad4e94f-e05a-4658-984f-8dc21ecc0e53\" style=\"height: 525px; width: 100%;\" class=\"plotly-graph-div\"></div><script type=\"text/javascript\">require([\"plotly\"], function(Plotly) { window.PLOTLYENV=window.PLOTLYENV || {};window.PLOTLYENV.BASE_URL=\"https://plot.ly\";\n",
       "if (document.getElementById(\"2ad4e94f-e05a-4658-984f-8dc21ecc0e53\")) {\n",
       "    Plotly.newPlot(\"2ad4e94f-e05a-4658-984f-8dc21ecc0e53\", [{\"marker\": {\"color\": [\"rgb(213,62,79)\", \"rgb(252,141,89)\", \"rgb(254,224,139)\", \"rgb(230,245,152)\", \"rgb(153,213,148)\", \"rgb(50,136,189)\"]}, \"x\": [0, 1], \"y\": [19, 18], \"type\": \"bar\", \"uid\": \"4a862fb0-4334-4e99-a194-8cd106ec0807\"}], {\"bargap\": 0.2, \"xaxis\": {\"ticktext\": [\"No\", \"S\\u00ed\"], \"tickvals\": [0, 1]}}, {\"showLink\": false, \"linkText\": \"Export to plot.ly\", \"plotlyServerURL\": \"https://plot.ly\"}); \n",
       "}\n",
       "});</script><script type=\"text/javascript\">window.addEventListener(\"resize\", function(){if (document.getElementById(\"2ad4e94f-e05a-4658-984f-8dc21ecc0e53\")) {window._Plotly.Plots.resize(document.getElementById(\"2ad4e94f-e05a-4658-984f-8dc21ecc0e53\"));};})</script>"
      ],
      "text/vnd.plotly.v1+html": [
       "<div id=\"2ad4e94f-e05a-4658-984f-8dc21ecc0e53\" style=\"height: 525px; width: 100%;\" class=\"plotly-graph-div\"></div><script type=\"text/javascript\">require([\"plotly\"], function(Plotly) { window.PLOTLYENV=window.PLOTLYENV || {};window.PLOTLYENV.BASE_URL=\"https://plot.ly\";\n",
       "if (document.getElementById(\"2ad4e94f-e05a-4658-984f-8dc21ecc0e53\")) {\n",
       "    Plotly.newPlot(\"2ad4e94f-e05a-4658-984f-8dc21ecc0e53\", [{\"marker\": {\"color\": [\"rgb(213,62,79)\", \"rgb(252,141,89)\", \"rgb(254,224,139)\", \"rgb(230,245,152)\", \"rgb(153,213,148)\", \"rgb(50,136,189)\"]}, \"x\": [0, 1], \"y\": [19, 18], \"type\": \"bar\", \"uid\": \"4a862fb0-4334-4e99-a194-8cd106ec0807\"}], {\"bargap\": 0.2, \"xaxis\": {\"ticktext\": [\"No\", \"S\\u00ed\"], \"tickvals\": [0, 1]}}, {\"showLink\": false, \"linkText\": \"Export to plot.ly\", \"plotlyServerURL\": \"https://plot.ly\"}); \n",
       "}\n",
       "});</script><script type=\"text/javascript\">window.addEventListener(\"resize\", function(){if (document.getElementById(\"2ad4e94f-e05a-4658-984f-8dc21ecc0e53\")) {window._Plotly.Plots.resize(document.getElementById(\"2ad4e94f-e05a-4658-984f-8dc21ecc0e53\"));};})</script>"
      ]
     },
     "metadata": {},
     "output_type": "display_data"
    },
    {
     "name": "stdout",
     "output_type": "stream",
     "text": [
      "\n",
      "\n",
      "Cluster 1 || variable: ¿Tienes acceso a dispositivos (ordenador, móvil, tablet, etc.) conectados a Internet habitualmente?\n",
      "Describiendo la pregunta ¿Tienes acceso a dispositivos (ordenador, móvil, tablet, etc.) conectados a Internet habitualmente?\n",
      "Valores numéricos asociados a las respuestas [1, 2, 3, 4, 5]\n",
      "Respuestas posibles a la pregunta/variable ['1. Nunca', '2. Ocasionalmente', '3. Semanalmente', '4. Diariamente', '5. Varias veces al día']\n"
     ]
    },
    {
     "data": {
      "text/plain": [
       "count    37.000000\n",
       "mean      3.324324\n",
       "std       0.818333\n",
       "min       1.000000\n",
       "25%       3.000000\n",
       "50%       3.000000\n",
       "75%       4.000000\n",
       "max       5.000000\n",
       "Name: ¿Tienes acceso a dispositivos (ordenador, móvil, tablet, etc.) conectados a Internet habitualmente?, dtype: float64"
      ]
     },
     "metadata": {},
     "output_type": "display_data"
    },
    {
     "name": "stdout",
     "output_type": "stream",
     "text": [
      "Conteo de cada valor en ¿Tienes acceso a dispositivos (ordenador, móvil, tablet, etc.) conectados a Internet habitualmente? expresada como valor / cantidad\n"
     ]
    },
    {
     "data": {
      "text/plain": [
       "1     1\n",
       "2     4\n",
       "3    15\n",
       "4    16\n",
       "5     1\n",
       "Name: ¿Tienes acceso a dispositivos (ordenador, móvil, tablet, etc.) conectados a Internet habitualmente?, dtype: int64"
      ]
     },
     "metadata": {},
     "output_type": "display_data"
    },
    {
     "name": "stdout",
     "output_type": "stream",
     "text": [
      "Porcentaje de cada valor en ¿Tienes acceso a dispositivos (ordenador, móvil, tablet, etc.) conectados a Internet habitualmente? expresado como valor / porcentaje\n"
     ]
    },
    {
     "data": {
      "text/plain": [
       "1     2.70\n",
       "2    10.81\n",
       "3    40.54\n",
       "4    43.24\n",
       "5     2.70\n",
       "Name: ¿Tienes acceso a dispositivos (ordenador, móvil, tablet, etc.) conectados a Internet habitualmente?, dtype: float64"
      ]
     },
     "metadata": {},
     "output_type": "display_data"
    },
    {
     "data": {
      "application/vnd.plotly.v1+json": {
       "config": {
        "linkText": "Export to plot.ly",
        "plotlyServerURL": "https://plot.ly",
        "showLink": false
       },
       "data": [
        {
         "marker": {
          "color": [
           "rgb(213,62,79)",
           "rgb(252,141,89)",
           "rgb(254,224,139)",
           "rgb(230,245,152)",
           "rgb(153,213,148)",
           "rgb(50,136,189)"
          ]
         },
         "type": "bar",
         "uid": "fbd1b0e7-6add-47ea-8465-08b216e87532",
         "x": [
          1,
          2,
          3,
          4,
          5
         ],
         "y": [
          1,
          4,
          15,
          16,
          1
         ]
        }
       ],
       "layout": {
        "bargap": 0.2,
        "xaxis": {
         "ticktext": [
          "1. Nunca",
          "2. Ocasionalmente",
          "3. Semanalmente",
          "4. Diariamente",
          "5. Varias veces al día"
         ],
         "tickvals": [
          1,
          2,
          3,
          4,
          5
         ]
        }
       }
      },
      "text/html": [
       "<div id=\"2ae9c2cd-2041-4816-b24c-93215860b6cf\" style=\"height: 525px; width: 100%;\" class=\"plotly-graph-div\"></div><script type=\"text/javascript\">require([\"plotly\"], function(Plotly) { window.PLOTLYENV=window.PLOTLYENV || {};window.PLOTLYENV.BASE_URL=\"https://plot.ly\";\n",
       "if (document.getElementById(\"2ae9c2cd-2041-4816-b24c-93215860b6cf\")) {\n",
       "    Plotly.newPlot(\"2ae9c2cd-2041-4816-b24c-93215860b6cf\", [{\"marker\": {\"color\": [\"rgb(213,62,79)\", \"rgb(252,141,89)\", \"rgb(254,224,139)\", \"rgb(230,245,152)\", \"rgb(153,213,148)\", \"rgb(50,136,189)\"]}, \"x\": [1, 2, 3, 4, 5], \"y\": [1, 4, 15, 16, 1], \"type\": \"bar\", \"uid\": \"fbd1b0e7-6add-47ea-8465-08b216e87532\"}], {\"bargap\": 0.2, \"xaxis\": {\"ticktext\": [\"1. Nunca\", \"2. Ocasionalmente\", \"3. Semanalmente\", \"4. Diariamente\", \"5. Varias veces al d\\u00eda\"], \"tickvals\": [1, 2, 3, 4, 5]}}, {\"showLink\": false, \"linkText\": \"Export to plot.ly\", \"plotlyServerURL\": \"https://plot.ly\"}); \n",
       "}\n",
       "});</script><script type=\"text/javascript\">window.addEventListener(\"resize\", function(){if (document.getElementById(\"2ae9c2cd-2041-4816-b24c-93215860b6cf\")) {window._Plotly.Plots.resize(document.getElementById(\"2ae9c2cd-2041-4816-b24c-93215860b6cf\"));};})</script>"
      ],
      "text/vnd.plotly.v1+html": [
       "<div id=\"2ae9c2cd-2041-4816-b24c-93215860b6cf\" style=\"height: 525px; width: 100%;\" class=\"plotly-graph-div\"></div><script type=\"text/javascript\">require([\"plotly\"], function(Plotly) { window.PLOTLYENV=window.PLOTLYENV || {};window.PLOTLYENV.BASE_URL=\"https://plot.ly\";\n",
       "if (document.getElementById(\"2ae9c2cd-2041-4816-b24c-93215860b6cf\")) {\n",
       "    Plotly.newPlot(\"2ae9c2cd-2041-4816-b24c-93215860b6cf\", [{\"marker\": {\"color\": [\"rgb(213,62,79)\", \"rgb(252,141,89)\", \"rgb(254,224,139)\", \"rgb(230,245,152)\", \"rgb(153,213,148)\", \"rgb(50,136,189)\"]}, \"x\": [1, 2, 3, 4, 5], \"y\": [1, 4, 15, 16, 1], \"type\": \"bar\", \"uid\": \"fbd1b0e7-6add-47ea-8465-08b216e87532\"}], {\"bargap\": 0.2, \"xaxis\": {\"ticktext\": [\"1. Nunca\", \"2. Ocasionalmente\", \"3. Semanalmente\", \"4. Diariamente\", \"5. Varias veces al d\\u00eda\"], \"tickvals\": [1, 2, 3, 4, 5]}}, {\"showLink\": false, \"linkText\": \"Export to plot.ly\", \"plotlyServerURL\": \"https://plot.ly\"}); \n",
       "}\n",
       "});</script><script type=\"text/javascript\">window.addEventListener(\"resize\", function(){if (document.getElementById(\"2ae9c2cd-2041-4816-b24c-93215860b6cf\")) {window._Plotly.Plots.resize(document.getElementById(\"2ae9c2cd-2041-4816-b24c-93215860b6cf\"));};})</script>"
      ]
     },
     "metadata": {},
     "output_type": "display_data"
    },
    {
     "name": "stdout",
     "output_type": "stream",
     "text": [
      "\n",
      "\n",
      "Cluster 1 || variable: ¿Cuánto tiempo al día usas el móvil/tableta/ordenador/TV?\n",
      "Describiendo la pregunta ¿Cuánto tiempo al día usas el móvil/tableta/ordenador/TV?\n",
      "Valores numéricos asociados a las respuestas [1, 2, 3, 4, 5, 6]\n",
      "Respuestas posibles a la pregunta/variable ['1. Nada', '2. Menos de una hora', '3. 1-2 horas', '4. 2-4 horas', '5. 4-6 horas', '6. Más de 6 horas']\n"
     ]
    },
    {
     "data": {
      "text/plain": [
       "count    37.000000\n",
       "mean      3.405405\n",
       "std       0.926746\n",
       "min       1.000000\n",
       "25%       3.000000\n",
       "50%       3.000000\n",
       "75%       4.000000\n",
       "max       6.000000\n",
       "Name: ¿Cuánto tiempo al día usas el móvil/tableta/ordenador/TV?, dtype: float64"
      ]
     },
     "metadata": {},
     "output_type": "display_data"
    },
    {
     "name": "stdout",
     "output_type": "stream",
     "text": [
      "Conteo de cada valor en ¿Cuánto tiempo al día usas el móvil/tableta/ordenador/TV? expresada como valor / cantidad\n"
     ]
    },
    {
     "data": {
      "text/plain": [
       "1     1\n",
       "2     1\n",
       "3    23\n",
       "4     7\n",
       "5     4\n",
       "6     1\n",
       "Name: ¿Cuánto tiempo al día usas el móvil/tableta/ordenador/TV?, dtype: int64"
      ]
     },
     "metadata": {},
     "output_type": "display_data"
    },
    {
     "name": "stdout",
     "output_type": "stream",
     "text": [
      "Porcentaje de cada valor en ¿Cuánto tiempo al día usas el móvil/tableta/ordenador/TV? expresado como valor / porcentaje\n"
     ]
    },
    {
     "data": {
      "text/plain": [
       "1     2.70\n",
       "2     2.70\n",
       "3    62.16\n",
       "4    18.92\n",
       "5    10.81\n",
       "6     2.70\n",
       "Name: ¿Cuánto tiempo al día usas el móvil/tableta/ordenador/TV?, dtype: float64"
      ]
     },
     "metadata": {},
     "output_type": "display_data"
    },
    {
     "data": {
      "application/vnd.plotly.v1+json": {
       "config": {
        "linkText": "Export to plot.ly",
        "plotlyServerURL": "https://plot.ly",
        "showLink": false
       },
       "data": [
        {
         "marker": {
          "color": [
           "rgb(213,62,79)",
           "rgb(252,141,89)",
           "rgb(254,224,139)",
           "rgb(230,245,152)",
           "rgb(153,213,148)",
           "rgb(50,136,189)"
          ]
         },
         "type": "bar",
         "uid": "99f79a4b-dae3-4d87-aac1-460e18dbf4b6",
         "x": [
          1,
          2,
          3,
          4,
          5,
          6
         ],
         "y": [
          1,
          1,
          23,
          7,
          4,
          1
         ]
        }
       ],
       "layout": {
        "bargap": 0.2,
        "xaxis": {
         "ticktext": [
          "1. Nada",
          "2. Menos de una hora",
          "3. 1-2 horas",
          "4. 2-4 horas",
          "5. 4-6 horas",
          "6. Más de 6 horas"
         ],
         "tickvals": [
          1,
          2,
          3,
          4,
          5,
          6
         ]
        }
       }
      },
      "text/html": [
       "<div id=\"790f3ddd-0a24-4737-a02b-39bf1deb9727\" style=\"height: 525px; width: 100%;\" class=\"plotly-graph-div\"></div><script type=\"text/javascript\">require([\"plotly\"], function(Plotly) { window.PLOTLYENV=window.PLOTLYENV || {};window.PLOTLYENV.BASE_URL=\"https://plot.ly\";\n",
       "if (document.getElementById(\"790f3ddd-0a24-4737-a02b-39bf1deb9727\")) {\n",
       "    Plotly.newPlot(\"790f3ddd-0a24-4737-a02b-39bf1deb9727\", [{\"marker\": {\"color\": [\"rgb(213,62,79)\", \"rgb(252,141,89)\", \"rgb(254,224,139)\", \"rgb(230,245,152)\", \"rgb(153,213,148)\", \"rgb(50,136,189)\"]}, \"x\": [1, 2, 3, 4, 5, 6], \"y\": [1, 1, 23, 7, 4, 1], \"type\": \"bar\", \"uid\": \"99f79a4b-dae3-4d87-aac1-460e18dbf4b6\"}], {\"bargap\": 0.2, \"xaxis\": {\"ticktext\": [\"1. Nada\", \"2. Menos de una hora\", \"3. 1-2 horas\", \"4. 2-4 horas\", \"5. 4-6 horas\", \"6. M\\u00e1s de 6 horas\"], \"tickvals\": [1, 2, 3, 4, 5, 6]}}, {\"showLink\": false, \"linkText\": \"Export to plot.ly\", \"plotlyServerURL\": \"https://plot.ly\"}); \n",
       "}\n",
       "});</script><script type=\"text/javascript\">window.addEventListener(\"resize\", function(){if (document.getElementById(\"790f3ddd-0a24-4737-a02b-39bf1deb9727\")) {window._Plotly.Plots.resize(document.getElementById(\"790f3ddd-0a24-4737-a02b-39bf1deb9727\"));};})</script>"
      ],
      "text/vnd.plotly.v1+html": [
       "<div id=\"790f3ddd-0a24-4737-a02b-39bf1deb9727\" style=\"height: 525px; width: 100%;\" class=\"plotly-graph-div\"></div><script type=\"text/javascript\">require([\"plotly\"], function(Plotly) { window.PLOTLYENV=window.PLOTLYENV || {};window.PLOTLYENV.BASE_URL=\"https://plot.ly\";\n",
       "if (document.getElementById(\"790f3ddd-0a24-4737-a02b-39bf1deb9727\")) {\n",
       "    Plotly.newPlot(\"790f3ddd-0a24-4737-a02b-39bf1deb9727\", [{\"marker\": {\"color\": [\"rgb(213,62,79)\", \"rgb(252,141,89)\", \"rgb(254,224,139)\", \"rgb(230,245,152)\", \"rgb(153,213,148)\", \"rgb(50,136,189)\"]}, \"x\": [1, 2, 3, 4, 5, 6], \"y\": [1, 1, 23, 7, 4, 1], \"type\": \"bar\", \"uid\": \"99f79a4b-dae3-4d87-aac1-460e18dbf4b6\"}], {\"bargap\": 0.2, \"xaxis\": {\"ticktext\": [\"1. Nada\", \"2. Menos de una hora\", \"3. 1-2 horas\", \"4. 2-4 horas\", \"5. 4-6 horas\", \"6. M\\u00e1s de 6 horas\"], \"tickvals\": [1, 2, 3, 4, 5, 6]}}, {\"showLink\": false, \"linkText\": \"Export to plot.ly\", \"plotlyServerURL\": \"https://plot.ly\"}); \n",
       "}\n",
       "});</script><script type=\"text/javascript\">window.addEventListener(\"resize\", function(){if (document.getElementById(\"790f3ddd-0a24-4737-a02b-39bf1deb9727\")) {window._Plotly.Plots.resize(document.getElementById(\"790f3ddd-0a24-4737-a02b-39bf1deb9727\"));};})</script>"
      ]
     },
     "metadata": {},
     "output_type": "display_data"
    },
    {
     "name": "stdout",
     "output_type": "stream",
     "text": [
      "\n",
      "\n",
      "Cluster 1 || variable: ¿Qué tipo de aplicaciones utilizas en tu ordenador/tableta/móvil? (Respuesta múltiple) [1. Apps de contenidos audiovisuales (Netflix, HBO, etc.)]\n",
      "Describiendo la pregunta ¿Qué tipo de aplicaciones utilizas en tu ordenador/tableta/móvil? (Respuesta múltiple) [1. Apps de contenidos audiovisuales (Netflix, HBO, etc.)]\n",
      "Valores numéricos asociados a las respuestas [0, 1]\n",
      "Respuestas posibles a la pregunta/variable ['No', 'Sí']\n"
     ]
    },
    {
     "data": {
      "text/plain": [
       "count    37.000000\n",
       "mean      0.135135\n",
       "std       0.346583\n",
       "min       0.000000\n",
       "25%       0.000000\n",
       "50%       0.000000\n",
       "75%       0.000000\n",
       "max       1.000000\n",
       "Name: ¿Qué tipo de aplicaciones utilizas en tu ordenador/tableta/móvil? (Respuesta múltiple) [1. Apps de contenidos audiovisuales (Netflix, HBO, etc.)], dtype: float64"
      ]
     },
     "metadata": {},
     "output_type": "display_data"
    },
    {
     "name": "stdout",
     "output_type": "stream",
     "text": [
      "Conteo de cada valor en ¿Qué tipo de aplicaciones utilizas en tu ordenador/tableta/móvil? (Respuesta múltiple) [1. Apps de contenidos audiovisuales (Netflix, HBO, etc.)] expresada como valor / cantidad\n"
     ]
    },
    {
     "data": {
      "text/plain": [
       "0    32\n",
       "1     5\n",
       "Name: ¿Qué tipo de aplicaciones utilizas en tu ordenador/tableta/móvil? (Respuesta múltiple) [1. Apps de contenidos audiovisuales (Netflix, HBO, etc.)], dtype: int64"
      ]
     },
     "metadata": {},
     "output_type": "display_data"
    },
    {
     "name": "stdout",
     "output_type": "stream",
     "text": [
      "Porcentaje de cada valor en ¿Qué tipo de aplicaciones utilizas en tu ordenador/tableta/móvil? (Respuesta múltiple) [1. Apps de contenidos audiovisuales (Netflix, HBO, etc.)] expresado como valor / porcentaje\n"
     ]
    },
    {
     "data": {
      "text/plain": [
       "0    86.49\n",
       "1    13.51\n",
       "Name: ¿Qué tipo de aplicaciones utilizas en tu ordenador/tableta/móvil? (Respuesta múltiple) [1. Apps de contenidos audiovisuales (Netflix, HBO, etc.)], dtype: float64"
      ]
     },
     "metadata": {},
     "output_type": "display_data"
    },
    {
     "data": {
      "application/vnd.plotly.v1+json": {
       "config": {
        "linkText": "Export to plot.ly",
        "plotlyServerURL": "https://plot.ly",
        "showLink": false
       },
       "data": [
        {
         "marker": {
          "color": [
           "rgb(213,62,79)",
           "rgb(252,141,89)",
           "rgb(254,224,139)",
           "rgb(230,245,152)",
           "rgb(153,213,148)",
           "rgb(50,136,189)"
          ]
         },
         "type": "bar",
         "uid": "2d2eb066-92f5-418f-8a7f-eb5cd602ec6f",
         "x": [
          0,
          1
         ],
         "y": [
          32,
          5
         ]
        }
       ],
       "layout": {
        "bargap": 0.2,
        "xaxis": {
         "ticktext": [
          "No",
          "Sí"
         ],
         "tickvals": [
          0,
          1
         ]
        }
       }
      },
      "text/html": [
       "<div id=\"3a83ffb7-9583-41db-b7af-f656a8b59138\" style=\"height: 525px; width: 100%;\" class=\"plotly-graph-div\"></div><script type=\"text/javascript\">require([\"plotly\"], function(Plotly) { window.PLOTLYENV=window.PLOTLYENV || {};window.PLOTLYENV.BASE_URL=\"https://plot.ly\";\n",
       "if (document.getElementById(\"3a83ffb7-9583-41db-b7af-f656a8b59138\")) {\n",
       "    Plotly.newPlot(\"3a83ffb7-9583-41db-b7af-f656a8b59138\", [{\"marker\": {\"color\": [\"rgb(213,62,79)\", \"rgb(252,141,89)\", \"rgb(254,224,139)\", \"rgb(230,245,152)\", \"rgb(153,213,148)\", \"rgb(50,136,189)\"]}, \"x\": [0, 1], \"y\": [32, 5], \"type\": \"bar\", \"uid\": \"2d2eb066-92f5-418f-8a7f-eb5cd602ec6f\"}], {\"bargap\": 0.2, \"xaxis\": {\"ticktext\": [\"No\", \"S\\u00ed\"], \"tickvals\": [0, 1]}}, {\"showLink\": false, \"linkText\": \"Export to plot.ly\", \"plotlyServerURL\": \"https://plot.ly\"}); \n",
       "}\n",
       "});</script><script type=\"text/javascript\">window.addEventListener(\"resize\", function(){if (document.getElementById(\"3a83ffb7-9583-41db-b7af-f656a8b59138\")) {window._Plotly.Plots.resize(document.getElementById(\"3a83ffb7-9583-41db-b7af-f656a8b59138\"));};})</script>"
      ],
      "text/vnd.plotly.v1+html": [
       "<div id=\"3a83ffb7-9583-41db-b7af-f656a8b59138\" style=\"height: 525px; width: 100%;\" class=\"plotly-graph-div\"></div><script type=\"text/javascript\">require([\"plotly\"], function(Plotly) { window.PLOTLYENV=window.PLOTLYENV || {};window.PLOTLYENV.BASE_URL=\"https://plot.ly\";\n",
       "if (document.getElementById(\"3a83ffb7-9583-41db-b7af-f656a8b59138\")) {\n",
       "    Plotly.newPlot(\"3a83ffb7-9583-41db-b7af-f656a8b59138\", [{\"marker\": {\"color\": [\"rgb(213,62,79)\", \"rgb(252,141,89)\", \"rgb(254,224,139)\", \"rgb(230,245,152)\", \"rgb(153,213,148)\", \"rgb(50,136,189)\"]}, \"x\": [0, 1], \"y\": [32, 5], \"type\": \"bar\", \"uid\": \"2d2eb066-92f5-418f-8a7f-eb5cd602ec6f\"}], {\"bargap\": 0.2, \"xaxis\": {\"ticktext\": [\"No\", \"S\\u00ed\"], \"tickvals\": [0, 1]}}, {\"showLink\": false, \"linkText\": \"Export to plot.ly\", \"plotlyServerURL\": \"https://plot.ly\"}); \n",
       "}\n",
       "});</script><script type=\"text/javascript\">window.addEventListener(\"resize\", function(){if (document.getElementById(\"3a83ffb7-9583-41db-b7af-f656a8b59138\")) {window._Plotly.Plots.resize(document.getElementById(\"3a83ffb7-9583-41db-b7af-f656a8b59138\"));};})</script>"
      ]
     },
     "metadata": {},
     "output_type": "display_data"
    },
    {
     "name": "stdout",
     "output_type": "stream",
     "text": [
      "\n",
      "\n",
      "Cluster 1 || variable: ¿Qué tipo de aplicaciones utilizas en tu ordenador/tableta/móvil? (Respuesta múltiple) [2. Aplicaciones de mensajería (Whatsapp, Facebook Messenger, etc.)]\n",
      "Describiendo la pregunta ¿Qué tipo de aplicaciones utilizas en tu ordenador/tableta/móvil? (Respuesta múltiple) [2. Aplicaciones de mensajería (Whatsapp, Facebook Messenger, etc.)]\n",
      "Valores numéricos asociados a las respuestas [0, 1]\n",
      "Respuestas posibles a la pregunta/variable ['No', 'Sí']\n"
     ]
    },
    {
     "data": {
      "text/plain": [
       "count    37.000000\n",
       "mean      0.459459\n",
       "std       0.505228\n",
       "min       0.000000\n",
       "25%       0.000000\n",
       "50%       0.000000\n",
       "75%       1.000000\n",
       "max       1.000000\n",
       "Name: ¿Qué tipo de aplicaciones utilizas en tu ordenador/tableta/móvil? (Respuesta múltiple) [2. Aplicaciones de mensajería (Whatsapp, Facebook Messenger, etc.)], dtype: float64"
      ]
     },
     "metadata": {},
     "output_type": "display_data"
    },
    {
     "name": "stdout",
     "output_type": "stream",
     "text": [
      "Conteo de cada valor en ¿Qué tipo de aplicaciones utilizas en tu ordenador/tableta/móvil? (Respuesta múltiple) [2. Aplicaciones de mensajería (Whatsapp, Facebook Messenger, etc.)] expresada como valor / cantidad\n"
     ]
    },
    {
     "data": {
      "text/plain": [
       "0    20\n",
       "1    17\n",
       "Name: ¿Qué tipo de aplicaciones utilizas en tu ordenador/tableta/móvil? (Respuesta múltiple) [2. Aplicaciones de mensajería (Whatsapp, Facebook Messenger, etc.)], dtype: int64"
      ]
     },
     "metadata": {},
     "output_type": "display_data"
    },
    {
     "name": "stdout",
     "output_type": "stream",
     "text": [
      "Porcentaje de cada valor en ¿Qué tipo de aplicaciones utilizas en tu ordenador/tableta/móvil? (Respuesta múltiple) [2. Aplicaciones de mensajería (Whatsapp, Facebook Messenger, etc.)] expresado como valor / porcentaje\n"
     ]
    },
    {
     "data": {
      "text/plain": [
       "0    54.05\n",
       "1    45.95\n",
       "Name: ¿Qué tipo de aplicaciones utilizas en tu ordenador/tableta/móvil? (Respuesta múltiple) [2. Aplicaciones de mensajería (Whatsapp, Facebook Messenger, etc.)], dtype: float64"
      ]
     },
     "metadata": {},
     "output_type": "display_data"
    },
    {
     "data": {
      "application/vnd.plotly.v1+json": {
       "config": {
        "linkText": "Export to plot.ly",
        "plotlyServerURL": "https://plot.ly",
        "showLink": false
       },
       "data": [
        {
         "marker": {
          "color": [
           "rgb(213,62,79)",
           "rgb(252,141,89)",
           "rgb(254,224,139)",
           "rgb(230,245,152)",
           "rgb(153,213,148)",
           "rgb(50,136,189)"
          ]
         },
         "type": "bar",
         "uid": "e80e3cfe-1627-4ca8-90d6-140506bb4378",
         "x": [
          0,
          1
         ],
         "y": [
          20,
          17
         ]
        }
       ],
       "layout": {
        "bargap": 0.2,
        "xaxis": {
         "ticktext": [
          "No",
          "Sí"
         ],
         "tickvals": [
          0,
          1
         ]
        }
       }
      },
      "text/html": [
       "<div id=\"da11b833-a16e-421d-9a72-8a7777280856\" style=\"height: 525px; width: 100%;\" class=\"plotly-graph-div\"></div><script type=\"text/javascript\">require([\"plotly\"], function(Plotly) { window.PLOTLYENV=window.PLOTLYENV || {};window.PLOTLYENV.BASE_URL=\"https://plot.ly\";\n",
       "if (document.getElementById(\"da11b833-a16e-421d-9a72-8a7777280856\")) {\n",
       "    Plotly.newPlot(\"da11b833-a16e-421d-9a72-8a7777280856\", [{\"marker\": {\"color\": [\"rgb(213,62,79)\", \"rgb(252,141,89)\", \"rgb(254,224,139)\", \"rgb(230,245,152)\", \"rgb(153,213,148)\", \"rgb(50,136,189)\"]}, \"x\": [0, 1], \"y\": [20, 17], \"type\": \"bar\", \"uid\": \"e80e3cfe-1627-4ca8-90d6-140506bb4378\"}], {\"bargap\": 0.2, \"xaxis\": {\"ticktext\": [\"No\", \"S\\u00ed\"], \"tickvals\": [0, 1]}}, {\"showLink\": false, \"linkText\": \"Export to plot.ly\", \"plotlyServerURL\": \"https://plot.ly\"}); \n",
       "}\n",
       "});</script><script type=\"text/javascript\">window.addEventListener(\"resize\", function(){if (document.getElementById(\"da11b833-a16e-421d-9a72-8a7777280856\")) {window._Plotly.Plots.resize(document.getElementById(\"da11b833-a16e-421d-9a72-8a7777280856\"));};})</script>"
      ],
      "text/vnd.plotly.v1+html": [
       "<div id=\"da11b833-a16e-421d-9a72-8a7777280856\" style=\"height: 525px; width: 100%;\" class=\"plotly-graph-div\"></div><script type=\"text/javascript\">require([\"plotly\"], function(Plotly) { window.PLOTLYENV=window.PLOTLYENV || {};window.PLOTLYENV.BASE_URL=\"https://plot.ly\";\n",
       "if (document.getElementById(\"da11b833-a16e-421d-9a72-8a7777280856\")) {\n",
       "    Plotly.newPlot(\"da11b833-a16e-421d-9a72-8a7777280856\", [{\"marker\": {\"color\": [\"rgb(213,62,79)\", \"rgb(252,141,89)\", \"rgb(254,224,139)\", \"rgb(230,245,152)\", \"rgb(153,213,148)\", \"rgb(50,136,189)\"]}, \"x\": [0, 1], \"y\": [20, 17], \"type\": \"bar\", \"uid\": \"e80e3cfe-1627-4ca8-90d6-140506bb4378\"}], {\"bargap\": 0.2, \"xaxis\": {\"ticktext\": [\"No\", \"S\\u00ed\"], \"tickvals\": [0, 1]}}, {\"showLink\": false, \"linkText\": \"Export to plot.ly\", \"plotlyServerURL\": \"https://plot.ly\"}); \n",
       "}\n",
       "});</script><script type=\"text/javascript\">window.addEventListener(\"resize\", function(){if (document.getElementById(\"da11b833-a16e-421d-9a72-8a7777280856\")) {window._Plotly.Plots.resize(document.getElementById(\"da11b833-a16e-421d-9a72-8a7777280856\"));};})</script>"
      ]
     },
     "metadata": {},
     "output_type": "display_data"
    },
    {
     "name": "stdout",
     "output_type": "stream",
     "text": [
      "\n",
      "\n",
      "Cluster 1 || variable: ¿Qué tipo de aplicaciones utilizas en tu ordenador/tableta/móvil? (Respuesta múltiple) [3. Bibliotecas de fotos online (Google Photos, iPhoto, etc.)]\n",
      "Describiendo la pregunta ¿Qué tipo de aplicaciones utilizas en tu ordenador/tableta/móvil? (Respuesta múltiple) [3. Bibliotecas de fotos online (Google Photos, iPhoto, etc.)]\n",
      "Valores numéricos asociados a las respuestas [0, 1]\n",
      "Respuestas posibles a la pregunta/variable ['No', 'Sí']\n"
     ]
    },
    {
     "data": {
      "text/plain": [
       "count    37.000000\n",
       "mean      0.540541\n",
       "std       0.505228\n",
       "min       0.000000\n",
       "25%       0.000000\n",
       "50%       1.000000\n",
       "75%       1.000000\n",
       "max       1.000000\n",
       "Name: ¿Qué tipo de aplicaciones utilizas en tu ordenador/tableta/móvil? (Respuesta múltiple) [3. Bibliotecas de fotos online (Google Photos, iPhoto, etc.)], dtype: float64"
      ]
     },
     "metadata": {},
     "output_type": "display_data"
    },
    {
     "name": "stdout",
     "output_type": "stream",
     "text": [
      "Conteo de cada valor en ¿Qué tipo de aplicaciones utilizas en tu ordenador/tableta/móvil? (Respuesta múltiple) [3. Bibliotecas de fotos online (Google Photos, iPhoto, etc.)] expresada como valor / cantidad\n"
     ]
    },
    {
     "data": {
      "text/plain": [
       "0    17\n",
       "1    20\n",
       "Name: ¿Qué tipo de aplicaciones utilizas en tu ordenador/tableta/móvil? (Respuesta múltiple) [3. Bibliotecas de fotos online (Google Photos, iPhoto, etc.)], dtype: int64"
      ]
     },
     "metadata": {},
     "output_type": "display_data"
    },
    {
     "name": "stdout",
     "output_type": "stream",
     "text": [
      "Porcentaje de cada valor en ¿Qué tipo de aplicaciones utilizas en tu ordenador/tableta/móvil? (Respuesta múltiple) [3. Bibliotecas de fotos online (Google Photos, iPhoto, etc.)] expresado como valor / porcentaje\n"
     ]
    },
    {
     "data": {
      "text/plain": [
       "0    45.95\n",
       "1    54.05\n",
       "Name: ¿Qué tipo de aplicaciones utilizas en tu ordenador/tableta/móvil? (Respuesta múltiple) [3. Bibliotecas de fotos online (Google Photos, iPhoto, etc.)], dtype: float64"
      ]
     },
     "metadata": {},
     "output_type": "display_data"
    },
    {
     "data": {
      "application/vnd.plotly.v1+json": {
       "config": {
        "linkText": "Export to plot.ly",
        "plotlyServerURL": "https://plot.ly",
        "showLink": false
       },
       "data": [
        {
         "marker": {
          "color": [
           "rgb(213,62,79)",
           "rgb(252,141,89)",
           "rgb(254,224,139)",
           "rgb(230,245,152)",
           "rgb(153,213,148)",
           "rgb(50,136,189)"
          ]
         },
         "type": "bar",
         "uid": "a3ad1a04-7039-4c8e-87ec-23debc1f510b",
         "x": [
          0,
          1
         ],
         "y": [
          17,
          20
         ]
        }
       ],
       "layout": {
        "bargap": 0.2,
        "xaxis": {
         "ticktext": [
          "No",
          "Sí"
         ],
         "tickvals": [
          0,
          1
         ]
        }
       }
      },
      "text/html": [
       "<div id=\"264e3d21-b05c-4e71-ba57-f27c825a7726\" style=\"height: 525px; width: 100%;\" class=\"plotly-graph-div\"></div><script type=\"text/javascript\">require([\"plotly\"], function(Plotly) { window.PLOTLYENV=window.PLOTLYENV || {};window.PLOTLYENV.BASE_URL=\"https://plot.ly\";\n",
       "if (document.getElementById(\"264e3d21-b05c-4e71-ba57-f27c825a7726\")) {\n",
       "    Plotly.newPlot(\"264e3d21-b05c-4e71-ba57-f27c825a7726\", [{\"marker\": {\"color\": [\"rgb(213,62,79)\", \"rgb(252,141,89)\", \"rgb(254,224,139)\", \"rgb(230,245,152)\", \"rgb(153,213,148)\", \"rgb(50,136,189)\"]}, \"x\": [0, 1], \"y\": [17, 20], \"type\": \"bar\", \"uid\": \"a3ad1a04-7039-4c8e-87ec-23debc1f510b\"}], {\"bargap\": 0.2, \"xaxis\": {\"ticktext\": [\"No\", \"S\\u00ed\"], \"tickvals\": [0, 1]}}, {\"showLink\": false, \"linkText\": \"Export to plot.ly\", \"plotlyServerURL\": \"https://plot.ly\"}); \n",
       "}\n",
       "});</script><script type=\"text/javascript\">window.addEventListener(\"resize\", function(){if (document.getElementById(\"264e3d21-b05c-4e71-ba57-f27c825a7726\")) {window._Plotly.Plots.resize(document.getElementById(\"264e3d21-b05c-4e71-ba57-f27c825a7726\"));};})</script>"
      ],
      "text/vnd.plotly.v1+html": [
       "<div id=\"264e3d21-b05c-4e71-ba57-f27c825a7726\" style=\"height: 525px; width: 100%;\" class=\"plotly-graph-div\"></div><script type=\"text/javascript\">require([\"plotly\"], function(Plotly) { window.PLOTLYENV=window.PLOTLYENV || {};window.PLOTLYENV.BASE_URL=\"https://plot.ly\";\n",
       "if (document.getElementById(\"264e3d21-b05c-4e71-ba57-f27c825a7726\")) {\n",
       "    Plotly.newPlot(\"264e3d21-b05c-4e71-ba57-f27c825a7726\", [{\"marker\": {\"color\": [\"rgb(213,62,79)\", \"rgb(252,141,89)\", \"rgb(254,224,139)\", \"rgb(230,245,152)\", \"rgb(153,213,148)\", \"rgb(50,136,189)\"]}, \"x\": [0, 1], \"y\": [17, 20], \"type\": \"bar\", \"uid\": \"a3ad1a04-7039-4c8e-87ec-23debc1f510b\"}], {\"bargap\": 0.2, \"xaxis\": {\"ticktext\": [\"No\", \"S\\u00ed\"], \"tickvals\": [0, 1]}}, {\"showLink\": false, \"linkText\": \"Export to plot.ly\", \"plotlyServerURL\": \"https://plot.ly\"}); \n",
       "}\n",
       "});</script><script type=\"text/javascript\">window.addEventListener(\"resize\", function(){if (document.getElementById(\"264e3d21-b05c-4e71-ba57-f27c825a7726\")) {window._Plotly.Plots.resize(document.getElementById(\"264e3d21-b05c-4e71-ba57-f27c825a7726\"));};})</script>"
      ]
     },
     "metadata": {},
     "output_type": "display_data"
    },
    {
     "name": "stdout",
     "output_type": "stream",
     "text": [
      "\n",
      "\n",
      "Cluster 1 || variable: ¿Qué tipo de aplicaciones utilizas en tu ordenador/tableta/móvil? (Respuesta múltiple) [4. Redes sociales (Facebook, Instagram, Twitter, etc.).]\n",
      "Describiendo la pregunta ¿Qué tipo de aplicaciones utilizas en tu ordenador/tableta/móvil? (Respuesta múltiple) [4. Redes sociales (Facebook, Instagram, Twitter, etc.).]\n",
      "Valores numéricos asociados a las respuestas [0, 1]\n",
      "Respuestas posibles a la pregunta/variable ['No', 'Sí']\n"
     ]
    },
    {
     "data": {
      "text/plain": [
       "count    37.000000\n",
       "mean      0.270270\n",
       "std       0.450225\n",
       "min       0.000000\n",
       "25%       0.000000\n",
       "50%       0.000000\n",
       "75%       1.000000\n",
       "max       1.000000\n",
       "Name: ¿Qué tipo de aplicaciones utilizas en tu ordenador/tableta/móvil? (Respuesta múltiple) [4. Redes sociales (Facebook, Instagram, Twitter, etc.).], dtype: float64"
      ]
     },
     "metadata": {},
     "output_type": "display_data"
    },
    {
     "name": "stdout",
     "output_type": "stream",
     "text": [
      "Conteo de cada valor en ¿Qué tipo de aplicaciones utilizas en tu ordenador/tableta/móvil? (Respuesta múltiple) [4. Redes sociales (Facebook, Instagram, Twitter, etc.).] expresada como valor / cantidad\n"
     ]
    },
    {
     "data": {
      "text/plain": [
       "0    27\n",
       "1    10\n",
       "Name: ¿Qué tipo de aplicaciones utilizas en tu ordenador/tableta/móvil? (Respuesta múltiple) [4. Redes sociales (Facebook, Instagram, Twitter, etc.).], dtype: int64"
      ]
     },
     "metadata": {},
     "output_type": "display_data"
    },
    {
     "name": "stdout",
     "output_type": "stream",
     "text": [
      "Porcentaje de cada valor en ¿Qué tipo de aplicaciones utilizas en tu ordenador/tableta/móvil? (Respuesta múltiple) [4. Redes sociales (Facebook, Instagram, Twitter, etc.).] expresado como valor / porcentaje\n"
     ]
    },
    {
     "data": {
      "text/plain": [
       "0    72.97\n",
       "1    27.03\n",
       "Name: ¿Qué tipo de aplicaciones utilizas en tu ordenador/tableta/móvil? (Respuesta múltiple) [4. Redes sociales (Facebook, Instagram, Twitter, etc.).], dtype: float64"
      ]
     },
     "metadata": {},
     "output_type": "display_data"
    },
    {
     "data": {
      "application/vnd.plotly.v1+json": {
       "config": {
        "linkText": "Export to plot.ly",
        "plotlyServerURL": "https://plot.ly",
        "showLink": false
       },
       "data": [
        {
         "marker": {
          "color": [
           "rgb(213,62,79)",
           "rgb(252,141,89)",
           "rgb(254,224,139)",
           "rgb(230,245,152)",
           "rgb(153,213,148)",
           "rgb(50,136,189)"
          ]
         },
         "type": "bar",
         "uid": "279f45f3-83de-4c58-a64c-d43982aece26",
         "x": [
          0,
          1
         ],
         "y": [
          27,
          10
         ]
        }
       ],
       "layout": {
        "bargap": 0.2,
        "xaxis": {
         "ticktext": [
          "No",
          "Sí"
         ],
         "tickvals": [
          0,
          1
         ]
        }
       }
      },
      "text/html": [
       "<div id=\"a9ea1244-263f-4994-a2bd-8ba4fda00ff9\" style=\"height: 525px; width: 100%;\" class=\"plotly-graph-div\"></div><script type=\"text/javascript\">require([\"plotly\"], function(Plotly) { window.PLOTLYENV=window.PLOTLYENV || {};window.PLOTLYENV.BASE_URL=\"https://plot.ly\";\n",
       "if (document.getElementById(\"a9ea1244-263f-4994-a2bd-8ba4fda00ff9\")) {\n",
       "    Plotly.newPlot(\"a9ea1244-263f-4994-a2bd-8ba4fda00ff9\", [{\"marker\": {\"color\": [\"rgb(213,62,79)\", \"rgb(252,141,89)\", \"rgb(254,224,139)\", \"rgb(230,245,152)\", \"rgb(153,213,148)\", \"rgb(50,136,189)\"]}, \"x\": [0, 1], \"y\": [27, 10], \"type\": \"bar\", \"uid\": \"279f45f3-83de-4c58-a64c-d43982aece26\"}], {\"bargap\": 0.2, \"xaxis\": {\"ticktext\": [\"No\", \"S\\u00ed\"], \"tickvals\": [0, 1]}}, {\"showLink\": false, \"linkText\": \"Export to plot.ly\", \"plotlyServerURL\": \"https://plot.ly\"}); \n",
       "}\n",
       "});</script><script type=\"text/javascript\">window.addEventListener(\"resize\", function(){if (document.getElementById(\"a9ea1244-263f-4994-a2bd-8ba4fda00ff9\")) {window._Plotly.Plots.resize(document.getElementById(\"a9ea1244-263f-4994-a2bd-8ba4fda00ff9\"));};})</script>"
      ],
      "text/vnd.plotly.v1+html": [
       "<div id=\"a9ea1244-263f-4994-a2bd-8ba4fda00ff9\" style=\"height: 525px; width: 100%;\" class=\"plotly-graph-div\"></div><script type=\"text/javascript\">require([\"plotly\"], function(Plotly) { window.PLOTLYENV=window.PLOTLYENV || {};window.PLOTLYENV.BASE_URL=\"https://plot.ly\";\n",
       "if (document.getElementById(\"a9ea1244-263f-4994-a2bd-8ba4fda00ff9\")) {\n",
       "    Plotly.newPlot(\"a9ea1244-263f-4994-a2bd-8ba4fda00ff9\", [{\"marker\": {\"color\": [\"rgb(213,62,79)\", \"rgb(252,141,89)\", \"rgb(254,224,139)\", \"rgb(230,245,152)\", \"rgb(153,213,148)\", \"rgb(50,136,189)\"]}, \"x\": [0, 1], \"y\": [27, 10], \"type\": \"bar\", \"uid\": \"279f45f3-83de-4c58-a64c-d43982aece26\"}], {\"bargap\": 0.2, \"xaxis\": {\"ticktext\": [\"No\", \"S\\u00ed\"], \"tickvals\": [0, 1]}}, {\"showLink\": false, \"linkText\": \"Export to plot.ly\", \"plotlyServerURL\": \"https://plot.ly\"}); \n",
       "}\n",
       "});</script><script type=\"text/javascript\">window.addEventListener(\"resize\", function(){if (document.getElementById(\"a9ea1244-263f-4994-a2bd-8ba4fda00ff9\")) {window._Plotly.Plots.resize(document.getElementById(\"a9ea1244-263f-4994-a2bd-8ba4fda00ff9\"));};})</script>"
      ]
     },
     "metadata": {},
     "output_type": "display_data"
    },
    {
     "name": "stdout",
     "output_type": "stream",
     "text": [
      "\n",
      "\n",
      "Cluster 1 || variable: ¿Qué tipo de aplicaciones utilizas en tu ordenador/tableta/móvil? (Respuesta múltiple) [5. Aplicaciones de vídeo (Youtube, Vimeo, etc.).]\n",
      "Describiendo la pregunta ¿Qué tipo de aplicaciones utilizas en tu ordenador/tableta/móvil? (Respuesta múltiple) [5. Aplicaciones de vídeo (Youtube, Vimeo, etc.).]\n",
      "Valores numéricos asociados a las respuestas [0, 1]\n",
      "Respuestas posibles a la pregunta/variable ['No', 'Sí']\n"
     ]
    },
    {
     "data": {
      "text/plain": [
       "count    37.000000\n",
       "mean      0.108108\n",
       "std       0.314800\n",
       "min       0.000000\n",
       "25%       0.000000\n",
       "50%       0.000000\n",
       "75%       0.000000\n",
       "max       1.000000\n",
       "Name: ¿Qué tipo de aplicaciones utilizas en tu ordenador/tableta/móvil? (Respuesta múltiple) [5. Aplicaciones de vídeo (Youtube, Vimeo, etc.).], dtype: float64"
      ]
     },
     "metadata": {},
     "output_type": "display_data"
    },
    {
     "name": "stdout",
     "output_type": "stream",
     "text": [
      "Conteo de cada valor en ¿Qué tipo de aplicaciones utilizas en tu ordenador/tableta/móvil? (Respuesta múltiple) [5. Aplicaciones de vídeo (Youtube, Vimeo, etc.).] expresada como valor / cantidad\n"
     ]
    },
    {
     "data": {
      "text/plain": [
       "0    33\n",
       "1     4\n",
       "Name: ¿Qué tipo de aplicaciones utilizas en tu ordenador/tableta/móvil? (Respuesta múltiple) [5. Aplicaciones de vídeo (Youtube, Vimeo, etc.).], dtype: int64"
      ]
     },
     "metadata": {},
     "output_type": "display_data"
    },
    {
     "name": "stdout",
     "output_type": "stream",
     "text": [
      "Porcentaje de cada valor en ¿Qué tipo de aplicaciones utilizas en tu ordenador/tableta/móvil? (Respuesta múltiple) [5. Aplicaciones de vídeo (Youtube, Vimeo, etc.).] expresado como valor / porcentaje\n"
     ]
    },
    {
     "data": {
      "text/plain": [
       "0    89.19\n",
       "1    10.81\n",
       "Name: ¿Qué tipo de aplicaciones utilizas en tu ordenador/tableta/móvil? (Respuesta múltiple) [5. Aplicaciones de vídeo (Youtube, Vimeo, etc.).], dtype: float64"
      ]
     },
     "metadata": {},
     "output_type": "display_data"
    },
    {
     "data": {
      "application/vnd.plotly.v1+json": {
       "config": {
        "linkText": "Export to plot.ly",
        "plotlyServerURL": "https://plot.ly",
        "showLink": false
       },
       "data": [
        {
         "marker": {
          "color": [
           "rgb(213,62,79)",
           "rgb(252,141,89)",
           "rgb(254,224,139)",
           "rgb(230,245,152)",
           "rgb(153,213,148)",
           "rgb(50,136,189)"
          ]
         },
         "type": "bar",
         "uid": "4e7d8a21-ec2e-4925-b7bb-8ed799bd7f7d",
         "x": [
          0,
          1
         ],
         "y": [
          33,
          4
         ]
        }
       ],
       "layout": {
        "bargap": 0.2,
        "xaxis": {
         "ticktext": [
          "No",
          "Sí"
         ],
         "tickvals": [
          0,
          1
         ]
        }
       }
      },
      "text/html": [
       "<div id=\"0bff56e9-0209-4453-84a7-2f2982e72e09\" style=\"height: 525px; width: 100%;\" class=\"plotly-graph-div\"></div><script type=\"text/javascript\">require([\"plotly\"], function(Plotly) { window.PLOTLYENV=window.PLOTLYENV || {};window.PLOTLYENV.BASE_URL=\"https://plot.ly\";\n",
       "if (document.getElementById(\"0bff56e9-0209-4453-84a7-2f2982e72e09\")) {\n",
       "    Plotly.newPlot(\"0bff56e9-0209-4453-84a7-2f2982e72e09\", [{\"marker\": {\"color\": [\"rgb(213,62,79)\", \"rgb(252,141,89)\", \"rgb(254,224,139)\", \"rgb(230,245,152)\", \"rgb(153,213,148)\", \"rgb(50,136,189)\"]}, \"x\": [0, 1], \"y\": [33, 4], \"type\": \"bar\", \"uid\": \"4e7d8a21-ec2e-4925-b7bb-8ed799bd7f7d\"}], {\"bargap\": 0.2, \"xaxis\": {\"ticktext\": [\"No\", \"S\\u00ed\"], \"tickvals\": [0, 1]}}, {\"showLink\": false, \"linkText\": \"Export to plot.ly\", \"plotlyServerURL\": \"https://plot.ly\"}); \n",
       "}\n",
       "});</script><script type=\"text/javascript\">window.addEventListener(\"resize\", function(){if (document.getElementById(\"0bff56e9-0209-4453-84a7-2f2982e72e09\")) {window._Plotly.Plots.resize(document.getElementById(\"0bff56e9-0209-4453-84a7-2f2982e72e09\"));};})</script>"
      ],
      "text/vnd.plotly.v1+html": [
       "<div id=\"0bff56e9-0209-4453-84a7-2f2982e72e09\" style=\"height: 525px; width: 100%;\" class=\"plotly-graph-div\"></div><script type=\"text/javascript\">require([\"plotly\"], function(Plotly) { window.PLOTLYENV=window.PLOTLYENV || {};window.PLOTLYENV.BASE_URL=\"https://plot.ly\";\n",
       "if (document.getElementById(\"0bff56e9-0209-4453-84a7-2f2982e72e09\")) {\n",
       "    Plotly.newPlot(\"0bff56e9-0209-4453-84a7-2f2982e72e09\", [{\"marker\": {\"color\": [\"rgb(213,62,79)\", \"rgb(252,141,89)\", \"rgb(254,224,139)\", \"rgb(230,245,152)\", \"rgb(153,213,148)\", \"rgb(50,136,189)\"]}, \"x\": [0, 1], \"y\": [33, 4], \"type\": \"bar\", \"uid\": \"4e7d8a21-ec2e-4925-b7bb-8ed799bd7f7d\"}], {\"bargap\": 0.2, \"xaxis\": {\"ticktext\": [\"No\", \"S\\u00ed\"], \"tickvals\": [0, 1]}}, {\"showLink\": false, \"linkText\": \"Export to plot.ly\", \"plotlyServerURL\": \"https://plot.ly\"}); \n",
       "}\n",
       "});</script><script type=\"text/javascript\">window.addEventListener(\"resize\", function(){if (document.getElementById(\"0bff56e9-0209-4453-84a7-2f2982e72e09\")) {window._Plotly.Plots.resize(document.getElementById(\"0bff56e9-0209-4453-84a7-2f2982e72e09\"));};})</script>"
      ]
     },
     "metadata": {},
     "output_type": "display_data"
    },
    {
     "name": "stdout",
     "output_type": "stream",
     "text": [
      "\n",
      "\n",
      "Cluster 1 || variable: ¿Qué tipo de aplicaciones utilizas en tu ordenador/tableta/móvil? (Respuesta múltiple) [Otro]\n",
      "Describiendo la pregunta ¿Qué tipo de aplicaciones utilizas en tu ordenador/tableta/móvil? (Respuesta múltiple) [Otro]\n",
      "\n",
      "\n",
      "Cluster 1 || variable: Durante ese uso, ¿cuántas imágenes consumes (ves y compartes)?\n",
      "Describiendo la pregunta Durante ese uso, ¿cuántas imágenes consumes (ves y compartes)?\n",
      "Valores numéricos asociados a las respuestas [1, 2, 3, 4, 5]\n",
      "Respuestas posibles a la pregunta/variable ['1. Ninguna', '2. Pocas', '3. Ni muchas ni pocas', '4. Bastantes', '5. Recibo y envio imágenes de forma constante']\n"
     ]
    },
    {
     "data": {
      "text/plain": [
       "count    37.000000\n",
       "mean      3.081081\n",
       "std       0.862116\n",
       "min       1.000000\n",
       "25%       3.000000\n",
       "50%       3.000000\n",
       "75%       4.000000\n",
       "max       5.000000\n",
       "Name: Durante ese uso, ¿cuántas imágenes consumes (ves y compartes)?, dtype: float64"
      ]
     },
     "metadata": {},
     "output_type": "display_data"
    },
    {
     "name": "stdout",
     "output_type": "stream",
     "text": [
      "Conteo de cada valor en Durante ese uso, ¿cuántas imágenes consumes (ves y compartes)? expresada como valor / cantidad\n"
     ]
    },
    {
     "data": {
      "text/plain": [
       "1     1\n",
       "2     8\n",
       "3    16\n",
       "4    11\n",
       "5     1\n",
       "Name: Durante ese uso, ¿cuántas imágenes consumes (ves y compartes)?, dtype: int64"
      ]
     },
     "metadata": {},
     "output_type": "display_data"
    },
    {
     "name": "stdout",
     "output_type": "stream",
     "text": [
      "Porcentaje de cada valor en Durante ese uso, ¿cuántas imágenes consumes (ves y compartes)? expresado como valor / porcentaje\n"
     ]
    },
    {
     "data": {
      "text/plain": [
       "1     2.70\n",
       "2    21.62\n",
       "3    43.24\n",
       "4    29.73\n",
       "5     2.70\n",
       "Name: Durante ese uso, ¿cuántas imágenes consumes (ves y compartes)?, dtype: float64"
      ]
     },
     "metadata": {},
     "output_type": "display_data"
    },
    {
     "data": {
      "application/vnd.plotly.v1+json": {
       "config": {
        "linkText": "Export to plot.ly",
        "plotlyServerURL": "https://plot.ly",
        "showLink": false
       },
       "data": [
        {
         "marker": {
          "color": [
           "rgb(213,62,79)",
           "rgb(252,141,89)",
           "rgb(254,224,139)",
           "rgb(230,245,152)",
           "rgb(153,213,148)",
           "rgb(50,136,189)"
          ]
         },
         "type": "bar",
         "uid": "bb90f1ef-2d4e-4cfb-a3ec-9b7c94713b52",
         "x": [
          1,
          2,
          3,
          4,
          5
         ],
         "y": [
          1,
          8,
          16,
          11,
          1
         ]
        }
       ],
       "layout": {
        "bargap": 0.2,
        "xaxis": {
         "ticktext": [
          "1. Ninguna",
          "2. Pocas",
          "3. Ni muchas ni pocas",
          "4. Bastantes",
          "5. Recibo y envio imágenes de forma constante"
         ],
         "tickvals": [
          1,
          2,
          3,
          4,
          5
         ]
        }
       }
      },
      "text/html": [
       "<div id=\"1c05a449-7c4b-4e9f-a6b6-9842aff457ec\" style=\"height: 525px; width: 100%;\" class=\"plotly-graph-div\"></div><script type=\"text/javascript\">require([\"plotly\"], function(Plotly) { window.PLOTLYENV=window.PLOTLYENV || {};window.PLOTLYENV.BASE_URL=\"https://plot.ly\";\n",
       "if (document.getElementById(\"1c05a449-7c4b-4e9f-a6b6-9842aff457ec\")) {\n",
       "    Plotly.newPlot(\"1c05a449-7c4b-4e9f-a6b6-9842aff457ec\", [{\"marker\": {\"color\": [\"rgb(213,62,79)\", \"rgb(252,141,89)\", \"rgb(254,224,139)\", \"rgb(230,245,152)\", \"rgb(153,213,148)\", \"rgb(50,136,189)\"]}, \"x\": [1, 2, 3, 4, 5], \"y\": [1, 8, 16, 11, 1], \"type\": \"bar\", \"uid\": \"bb90f1ef-2d4e-4cfb-a3ec-9b7c94713b52\"}], {\"bargap\": 0.2, \"xaxis\": {\"ticktext\": [\"1. Ninguna\", \"2. Pocas\", \"3. Ni muchas ni pocas\", \"4. Bastantes\", \"5. Recibo y envio im\\u00e1genes de forma constante\"], \"tickvals\": [1, 2, 3, 4, 5]}}, {\"showLink\": false, \"linkText\": \"Export to plot.ly\", \"plotlyServerURL\": \"https://plot.ly\"}); \n",
       "}\n",
       "});</script><script type=\"text/javascript\">window.addEventListener(\"resize\", function(){if (document.getElementById(\"1c05a449-7c4b-4e9f-a6b6-9842aff457ec\")) {window._Plotly.Plots.resize(document.getElementById(\"1c05a449-7c4b-4e9f-a6b6-9842aff457ec\"));};})</script>"
      ],
      "text/vnd.plotly.v1+html": [
       "<div id=\"1c05a449-7c4b-4e9f-a6b6-9842aff457ec\" style=\"height: 525px; width: 100%;\" class=\"plotly-graph-div\"></div><script type=\"text/javascript\">require([\"plotly\"], function(Plotly) { window.PLOTLYENV=window.PLOTLYENV || {};window.PLOTLYENV.BASE_URL=\"https://plot.ly\";\n",
       "if (document.getElementById(\"1c05a449-7c4b-4e9f-a6b6-9842aff457ec\")) {\n",
       "    Plotly.newPlot(\"1c05a449-7c4b-4e9f-a6b6-9842aff457ec\", [{\"marker\": {\"color\": [\"rgb(213,62,79)\", \"rgb(252,141,89)\", \"rgb(254,224,139)\", \"rgb(230,245,152)\", \"rgb(153,213,148)\", \"rgb(50,136,189)\"]}, \"x\": [1, 2, 3, 4, 5], \"y\": [1, 8, 16, 11, 1], \"type\": \"bar\", \"uid\": \"bb90f1ef-2d4e-4cfb-a3ec-9b7c94713b52\"}], {\"bargap\": 0.2, \"xaxis\": {\"ticktext\": [\"1. Ninguna\", \"2. Pocas\", \"3. Ni muchas ni pocas\", \"4. Bastantes\", \"5. Recibo y envio im\\u00e1genes de forma constante\"], \"tickvals\": [1, 2, 3, 4, 5]}}, {\"showLink\": false, \"linkText\": \"Export to plot.ly\", \"plotlyServerURL\": \"https://plot.ly\"}); \n",
       "}\n",
       "});</script><script type=\"text/javascript\">window.addEventListener(\"resize\", function(){if (document.getElementById(\"1c05a449-7c4b-4e9f-a6b6-9842aff457ec\")) {window._Plotly.Plots.resize(document.getElementById(\"1c05a449-7c4b-4e9f-a6b6-9842aff457ec\"));};})</script>"
      ]
     },
     "metadata": {},
     "output_type": "display_data"
    },
    {
     "name": "stdout",
     "output_type": "stream",
     "text": [
      "\n",
      "\n",
      "Cluster 1 || variable: ¿Cuál es tu herramienta habitual de consumo de imágenes?\n",
      "Describiendo la pregunta ¿Cuál es tu herramienta habitual de consumo de imágenes?\n",
      "Valores numéricos asociados a las respuestas [1, 2, 3, 4, 5]\n",
      "Respuestas posibles a la pregunta/variable ['1. Móvil', '2. Televisión', '3. Ordenador', '4. Tableta', '5. Otros (Libros y periódicos en papel, marquesinas, museos...)']\n"
     ]
    },
    {
     "data": {
      "text/plain": [
       "count    37.000000\n",
       "mean      2.459459\n",
       "std       0.900450\n",
       "min       1.000000\n",
       "25%       2.000000\n",
       "50%       3.000000\n",
       "75%       3.000000\n",
       "max       4.000000\n",
       "Name: ¿Cuál es tu herramienta habitual de consumo de imágenes?, dtype: float64"
      ]
     },
     "metadata": {},
     "output_type": "display_data"
    },
    {
     "name": "stdout",
     "output_type": "stream",
     "text": [
      "Conteo de cada valor en ¿Cuál es tu herramienta habitual de consumo de imágenes? expresada como valor / cantidad\n"
     ]
    },
    {
     "data": {
      "text/plain": [
       "1     8\n",
       "2     6\n",
       "3    21\n",
       "4     2\n",
       "Name: ¿Cuál es tu herramienta habitual de consumo de imágenes?, dtype: int64"
      ]
     },
     "metadata": {},
     "output_type": "display_data"
    },
    {
     "name": "stdout",
     "output_type": "stream",
     "text": [
      "Porcentaje de cada valor en ¿Cuál es tu herramienta habitual de consumo de imágenes? expresado como valor / porcentaje\n"
     ]
    },
    {
     "data": {
      "text/plain": [
       "1    21.62\n",
       "2    16.22\n",
       "3    56.76\n",
       "4     5.41\n",
       "Name: ¿Cuál es tu herramienta habitual de consumo de imágenes?, dtype: float64"
      ]
     },
     "metadata": {},
     "output_type": "display_data"
    },
    {
     "data": {
      "application/vnd.plotly.v1+json": {
       "config": {
        "linkText": "Export to plot.ly",
        "plotlyServerURL": "https://plot.ly",
        "showLink": false
       },
       "data": [
        {
         "marker": {
          "color": [
           "rgb(213,62,79)",
           "rgb(252,141,89)",
           "rgb(254,224,139)",
           "rgb(230,245,152)",
           "rgb(153,213,148)",
           "rgb(50,136,189)"
          ]
         },
         "type": "bar",
         "uid": "8b093bdb-10b5-40b5-ad5e-ba6210e58344",
         "x": [
          1,
          2,
          3,
          4
         ],
         "y": [
          8,
          6,
          21,
          2
         ]
        }
       ],
       "layout": {
        "bargap": 0.2,
        "xaxis": {
         "ticktext": [
          "1. Móvil",
          "2. Televisión",
          "3. Ordenador",
          "4. Tableta",
          "5. Otros (Libros y periódicos en papel, marquesinas, museos...)"
         ],
         "tickvals": [
          1,
          2,
          3,
          4,
          5
         ]
        }
       }
      },
      "text/html": [
       "<div id=\"5262a48f-0782-4e02-95bb-e74bac8fef06\" style=\"height: 525px; width: 100%;\" class=\"plotly-graph-div\"></div><script type=\"text/javascript\">require([\"plotly\"], function(Plotly) { window.PLOTLYENV=window.PLOTLYENV || {};window.PLOTLYENV.BASE_URL=\"https://plot.ly\";\n",
       "if (document.getElementById(\"5262a48f-0782-4e02-95bb-e74bac8fef06\")) {\n",
       "    Plotly.newPlot(\"5262a48f-0782-4e02-95bb-e74bac8fef06\", [{\"marker\": {\"color\": [\"rgb(213,62,79)\", \"rgb(252,141,89)\", \"rgb(254,224,139)\", \"rgb(230,245,152)\", \"rgb(153,213,148)\", \"rgb(50,136,189)\"]}, \"x\": [1, 2, 3, 4], \"y\": [8, 6, 21, 2], \"type\": \"bar\", \"uid\": \"8b093bdb-10b5-40b5-ad5e-ba6210e58344\"}], {\"bargap\": 0.2, \"xaxis\": {\"ticktext\": [\"1. M\\u00f3vil\", \"2. Televisi\\u00f3n\", \"3. Ordenador\", \"4. Tableta\", \"5. Otros (Libros y peri\\u00f3dicos en papel, marquesinas, museos...)\"], \"tickvals\": [1, 2, 3, 4, 5]}}, {\"showLink\": false, \"linkText\": \"Export to plot.ly\", \"plotlyServerURL\": \"https://plot.ly\"}); \n",
       "}\n",
       "});</script><script type=\"text/javascript\">window.addEventListener(\"resize\", function(){if (document.getElementById(\"5262a48f-0782-4e02-95bb-e74bac8fef06\")) {window._Plotly.Plots.resize(document.getElementById(\"5262a48f-0782-4e02-95bb-e74bac8fef06\"));};})</script>"
      ],
      "text/vnd.plotly.v1+html": [
       "<div id=\"5262a48f-0782-4e02-95bb-e74bac8fef06\" style=\"height: 525px; width: 100%;\" class=\"plotly-graph-div\"></div><script type=\"text/javascript\">require([\"plotly\"], function(Plotly) { window.PLOTLYENV=window.PLOTLYENV || {};window.PLOTLYENV.BASE_URL=\"https://plot.ly\";\n",
       "if (document.getElementById(\"5262a48f-0782-4e02-95bb-e74bac8fef06\")) {\n",
       "    Plotly.newPlot(\"5262a48f-0782-4e02-95bb-e74bac8fef06\", [{\"marker\": {\"color\": [\"rgb(213,62,79)\", \"rgb(252,141,89)\", \"rgb(254,224,139)\", \"rgb(230,245,152)\", \"rgb(153,213,148)\", \"rgb(50,136,189)\"]}, \"x\": [1, 2, 3, 4], \"y\": [8, 6, 21, 2], \"type\": \"bar\", \"uid\": \"8b093bdb-10b5-40b5-ad5e-ba6210e58344\"}], {\"bargap\": 0.2, \"xaxis\": {\"ticktext\": [\"1. M\\u00f3vil\", \"2. Televisi\\u00f3n\", \"3. Ordenador\", \"4. Tableta\", \"5. Otros (Libros y peri\\u00f3dicos en papel, marquesinas, museos...)\"], \"tickvals\": [1, 2, 3, 4, 5]}}, {\"showLink\": false, \"linkText\": \"Export to plot.ly\", \"plotlyServerURL\": \"https://plot.ly\"}); \n",
       "}\n",
       "});</script><script type=\"text/javascript\">window.addEventListener(\"resize\", function(){if (document.getElementById(\"5262a48f-0782-4e02-95bb-e74bac8fef06\")) {window._Plotly.Plots.resize(document.getElementById(\"5262a48f-0782-4e02-95bb-e74bac8fef06\"));};})</script>"
      ]
     },
     "metadata": {},
     "output_type": "display_data"
    },
    {
     "name": "stdout",
     "output_type": "stream",
     "text": [
      "\n",
      "\n",
      "Cluster 1 || variable: ¿Cada cuánto tiempo consumes imágenes?\n",
      "Describiendo la pregunta ¿Cada cuánto tiempo consumes imágenes?\n",
      "Valores numéricos asociados a las respuestas [1, 2, 3, 4]\n",
      "Respuestas posibles a la pregunta/variable ['1. Nunca', '2. Dos o tres veces por semana', '3. Casi todos los días', '4. A diario']\n"
     ]
    },
    {
     "data": {
      "text/plain": [
       "count    37.000000\n",
       "mean      2.297297\n",
       "std       0.661012\n",
       "min       1.000000\n",
       "25%       2.000000\n",
       "50%       2.000000\n",
       "75%       3.000000\n",
       "max       4.000000\n",
       "Name: ¿Cada cuánto tiempo consumes imágenes?, dtype: float64"
      ]
     },
     "metadata": {},
     "output_type": "display_data"
    },
    {
     "name": "stdout",
     "output_type": "stream",
     "text": [
      "Conteo de cada valor en ¿Cada cuánto tiempo consumes imágenes? expresada como valor / cantidad\n"
     ]
    },
    {
     "data": {
      "text/plain": [
       "1     3\n",
       "2    21\n",
       "3    12\n",
       "4     1\n",
       "Name: ¿Cada cuánto tiempo consumes imágenes?, dtype: int64"
      ]
     },
     "metadata": {},
     "output_type": "display_data"
    },
    {
     "name": "stdout",
     "output_type": "stream",
     "text": [
      "Porcentaje de cada valor en ¿Cada cuánto tiempo consumes imágenes? expresado como valor / porcentaje\n"
     ]
    },
    {
     "data": {
      "text/plain": [
       "1     8.11\n",
       "2    56.76\n",
       "3    32.43\n",
       "4     2.70\n",
       "Name: ¿Cada cuánto tiempo consumes imágenes?, dtype: float64"
      ]
     },
     "metadata": {},
     "output_type": "display_data"
    },
    {
     "data": {
      "application/vnd.plotly.v1+json": {
       "config": {
        "linkText": "Export to plot.ly",
        "plotlyServerURL": "https://plot.ly",
        "showLink": false
       },
       "data": [
        {
         "marker": {
          "color": [
           "rgb(213,62,79)",
           "rgb(252,141,89)",
           "rgb(254,224,139)",
           "rgb(230,245,152)",
           "rgb(153,213,148)",
           "rgb(50,136,189)"
          ]
         },
         "type": "bar",
         "uid": "1cb7b4f0-df87-48cd-a5ca-62d09997fbdb",
         "x": [
          1,
          2,
          3,
          4
         ],
         "y": [
          3,
          21,
          12,
          1
         ]
        }
       ],
       "layout": {
        "bargap": 0.2,
        "xaxis": {
         "ticktext": [
          "1. Nunca",
          "2. Dos o tres veces por semana",
          "3. Casi todos los días",
          "4. A diario"
         ],
         "tickvals": [
          1,
          2,
          3,
          4
         ]
        }
       }
      },
      "text/html": [
       "<div id=\"384f4f79-355b-4da4-beae-f9cac20646ad\" style=\"height: 525px; width: 100%;\" class=\"plotly-graph-div\"></div><script type=\"text/javascript\">require([\"plotly\"], function(Plotly) { window.PLOTLYENV=window.PLOTLYENV || {};window.PLOTLYENV.BASE_URL=\"https://plot.ly\";\n",
       "if (document.getElementById(\"384f4f79-355b-4da4-beae-f9cac20646ad\")) {\n",
       "    Plotly.newPlot(\"384f4f79-355b-4da4-beae-f9cac20646ad\", [{\"marker\": {\"color\": [\"rgb(213,62,79)\", \"rgb(252,141,89)\", \"rgb(254,224,139)\", \"rgb(230,245,152)\", \"rgb(153,213,148)\", \"rgb(50,136,189)\"]}, \"x\": [1, 2, 3, 4], \"y\": [3, 21, 12, 1], \"type\": \"bar\", \"uid\": \"1cb7b4f0-df87-48cd-a5ca-62d09997fbdb\"}], {\"bargap\": 0.2, \"xaxis\": {\"ticktext\": [\"1. Nunca\", \"2. Dos o tres veces por semana\", \"3. Casi todos los d\\u00edas\", \"4. A diario\"], \"tickvals\": [1, 2, 3, 4]}}, {\"showLink\": false, \"linkText\": \"Export to plot.ly\", \"plotlyServerURL\": \"https://plot.ly\"}); \n",
       "}\n",
       "});</script><script type=\"text/javascript\">window.addEventListener(\"resize\", function(){if (document.getElementById(\"384f4f79-355b-4da4-beae-f9cac20646ad\")) {window._Plotly.Plots.resize(document.getElementById(\"384f4f79-355b-4da4-beae-f9cac20646ad\"));};})</script>"
      ],
      "text/vnd.plotly.v1+html": [
       "<div id=\"384f4f79-355b-4da4-beae-f9cac20646ad\" style=\"height: 525px; width: 100%;\" class=\"plotly-graph-div\"></div><script type=\"text/javascript\">require([\"plotly\"], function(Plotly) { window.PLOTLYENV=window.PLOTLYENV || {};window.PLOTLYENV.BASE_URL=\"https://plot.ly\";\n",
       "if (document.getElementById(\"384f4f79-355b-4da4-beae-f9cac20646ad\")) {\n",
       "    Plotly.newPlot(\"384f4f79-355b-4da4-beae-f9cac20646ad\", [{\"marker\": {\"color\": [\"rgb(213,62,79)\", \"rgb(252,141,89)\", \"rgb(254,224,139)\", \"rgb(230,245,152)\", \"rgb(153,213,148)\", \"rgb(50,136,189)\"]}, \"x\": [1, 2, 3, 4], \"y\": [3, 21, 12, 1], \"type\": \"bar\", \"uid\": \"1cb7b4f0-df87-48cd-a5ca-62d09997fbdb\"}], {\"bargap\": 0.2, \"xaxis\": {\"ticktext\": [\"1. Nunca\", \"2. Dos o tres veces por semana\", \"3. Casi todos los d\\u00edas\", \"4. A diario\"], \"tickvals\": [1, 2, 3, 4]}}, {\"showLink\": false, \"linkText\": \"Export to plot.ly\", \"plotlyServerURL\": \"https://plot.ly\"}); \n",
       "}\n",
       "});</script><script type=\"text/javascript\">window.addEventListener(\"resize\", function(){if (document.getElementById(\"384f4f79-355b-4da4-beae-f9cac20646ad\")) {window._Plotly.Plots.resize(document.getElementById(\"384f4f79-355b-4da4-beae-f9cac20646ad\"));};})</script>"
      ]
     },
     "metadata": {},
     "output_type": "display_data"
    }
   ],
   "source": [
    "visualize_reception_images_by_prosume_clusters_esp(dataframe_with_clusters_esp)"
   ]
  },
  {
   "cell_type": "code",
   "execution_count": 10,
   "metadata": {
    "scrolled": false
   },
   "outputs": [],
   "source": [
    "# visualize_reception_images_by_prosume_clusters_en(dataframe_with_clusters_en)"
   ]
  },
  {
   "cell_type": "code",
   "execution_count": 11,
   "metadata": {
    "scrolled": false
   },
   "outputs": [
    {
     "name": "stdout",
     "output_type": "stream",
     "text": [
      "Comparando la pregunta Clasifica tu grado de visión\n"
     ]
    },
    {
     "data": {
      "application/vnd.plotly.v1+json": {
       "config": {
        "linkText": "Export to plot.ly",
        "plotlyServerURL": "https://plot.ly",
        "showLink": false
       },
       "data": [
        {
         "hovertemplate": "Clasifica tu grado de visión=1. Muy malo<br>counts=%{r}<br>prosume_cluster=%{theta}<extra></extra>",
         "legendgroup": "Clasifica tu grado de visión=1. Muy malo",
         "marker": {
          "color": "rgb(213,62,79)"
         },
         "name": "Clasifica tu grado de visión=1. Muy malo",
         "r": [
          2,
          2
         ],
         "showlegend": true,
         "theta": [
          "cluster_2",
          "cluster_4"
         ],
         "type": "barpolar",
         "uid": "66fb9d10-ab79-4aa6-83cc-2be5da12c47e"
        },
        {
         "hovertemplate": "Clasifica tu grado de visión=2. Malo<br>counts=%{r}<br>prosume_cluster=%{theta}<extra></extra>",
         "legendgroup": "Clasifica tu grado de visión=2. Malo",
         "marker": {
          "color": "rgb(252,141,89)"
         },
         "name": "Clasifica tu grado de visión=2. Malo",
         "r": [
          4,
          16,
          8
         ],
         "showlegend": true,
         "theta": [
          "cluster_2",
          "cluster_4",
          "cluster_5"
         ],
         "type": "barpolar",
         "uid": "80e64b10-cb0a-4c5f-ba53-13846f867e56"
        },
        {
         "hovertemplate": "Clasifica tu grado de visión=3. Regular<br>counts=%{r}<br>prosume_cluster=%{theta}<extra></extra>",
         "legendgroup": "Clasifica tu grado de visión=3. Regular",
         "marker": {
          "color": "rgb(254,224,139)"
         },
         "name": "Clasifica tu grado de visión=3. Regular",
         "r": [
          9,
          45,
          7,
          26,
          68
         ],
         "showlegend": true,
         "theta": [
          "cluster_1",
          "cluster_2",
          "cluster_3",
          "cluster_4",
          "cluster_5"
         ],
         "type": "barpolar",
         "uid": "23087c5a-a003-46f0-8d4d-ab035941638b"
        },
        {
         "hovertemplate": "Clasifica tu grado de visión=4. Bueno<br>counts=%{r}<br>prosume_cluster=%{theta}<extra></extra>",
         "legendgroup": "Clasifica tu grado de visión=4. Bueno",
         "marker": {
          "color": "rgb(230,245,152)"
         },
         "name": "Clasifica tu grado de visión=4. Bueno",
         "r": [
          24,
          87,
          40,
          34,
          149
         ],
         "showlegend": true,
         "theta": [
          "cluster_1",
          "cluster_2",
          "cluster_3",
          "cluster_4",
          "cluster_5"
         ],
         "type": "barpolar",
         "uid": "f25271bb-788a-4c25-8306-d73e77fd703c"
        },
        {
         "hovertemplate": "Clasifica tu grado de visión=5. Muy bueno<br>counts=%{r}<br>prosume_cluster=%{theta}<extra></extra>",
         "legendgroup": "Clasifica tu grado de visión=5. Muy bueno",
         "marker": {
          "color": "rgb(153,213,148)"
         },
         "name": "Clasifica tu grado de visión=5. Muy bueno",
         "r": [
          4,
          58,
          53,
          20,
          111
         ],
         "showlegend": true,
         "theta": [
          "cluster_1",
          "cluster_2",
          "cluster_3",
          "cluster_4",
          "cluster_5"
         ],
         "type": "barpolar",
         "uid": "a41782bf-8a35-4cbd-9568-1a2c35690f87"
        }
       ],
       "layout": {
        "barmode": "group",
        "barnorm": "",
        "height": 600,
        "legend": {
         "tracegroupgap": 0
        },
        "margin": {
         "t": 60
        },
        "polar": {
         "angularaxis": {
          "direction": "clockwise",
          "rotation": 90
         }
        },
        "template": {
         "data": {
          "bar": [
           {
            "marker": {
             "line": {
              "color": "#E5ECF6",
              "width": 0.5
             }
            },
            "type": "bar"
           }
          ],
          "barpolar": [
           {
            "marker": {
             "line": {
              "color": "#E5ECF6",
              "width": 0.5
             }
            },
            "type": "barpolar"
           }
          ],
          "carpet": [
           {
            "aaxis": {
             "endlinecolor": "#2a3f5f",
             "gridcolor": "white",
             "linecolor": "white",
             "minorgridcolor": "white",
             "startlinecolor": "#2a3f5f"
            },
            "baxis": {
             "endlinecolor": "#2a3f5f",
             "gridcolor": "white",
             "linecolor": "white",
             "minorgridcolor": "white",
             "startlinecolor": "#2a3f5f"
            },
            "type": "carpet"
           }
          ],
          "choropleth": [
           {
            "colorbar": {
             "outlinewidth": 0,
             "ticks": ""
            },
            "type": "choropleth"
           }
          ],
          "contour": [
           {
            "autocolorscale": true,
            "colorbar": {
             "outlinewidth": 0,
             "ticks": ""
            },
            "type": "contour"
           }
          ],
          "contourcarpet": [
           {
            "colorbar": {
             "outlinewidth": 0,
             "ticks": ""
            },
            "type": "contourcarpet"
           }
          ],
          "heatmap": [
           {
            "autocolorscale": true,
            "colorbar": {
             "outlinewidth": 0,
             "ticks": ""
            },
            "type": "heatmap"
           }
          ],
          "heatmapgl": [
           {
            "colorbar": {
             "outlinewidth": 0,
             "ticks": ""
            },
            "type": "heatmapgl"
           }
          ],
          "histogram": [
           {
            "marker": {
             "colorbar": {
              "outlinewidth": 0,
              "ticks": ""
             }
            },
            "type": "histogram"
           }
          ],
          "histogram2d": [
           {
            "autocolorscale": true,
            "colorbar": {
             "outlinewidth": 0,
             "ticks": ""
            },
            "type": "histogram2d"
           }
          ],
          "histogram2dcontour": [
           {
            "autocolorscale": true,
            "colorbar": {
             "outlinewidth": 0,
             "ticks": ""
            },
            "type": "histogram2dcontour"
           }
          ],
          "mesh3d": [
           {
            "colorbar": {
             "outlinewidth": 0,
             "ticks": ""
            },
            "type": "mesh3d"
           }
          ],
          "parcoords": [
           {
            "line": {
             "colorbar": {
              "outlinewidth": 0,
              "ticks": ""
             }
            },
            "type": "parcoords"
           }
          ],
          "scatter": [
           {
            "marker": {
             "colorbar": {
              "outlinewidth": 0,
              "ticks": ""
             }
            },
            "type": "scatter"
           }
          ],
          "scatter3d": [
           {
            "marker": {
             "colorbar": {
              "outlinewidth": 0,
              "ticks": ""
             }
            },
            "type": "scatter3d"
           }
          ],
          "scattercarpet": [
           {
            "marker": {
             "colorbar": {
              "outlinewidth": 0,
              "ticks": ""
             }
            },
            "type": "scattercarpet"
           }
          ],
          "scattergeo": [
           {
            "marker": {
             "colorbar": {
              "outlinewidth": 0,
              "ticks": ""
             }
            },
            "type": "scattergeo"
           }
          ],
          "scattergl": [
           {
            "marker": {
             "colorbar": {
              "outlinewidth": 0,
              "ticks": ""
             }
            },
            "type": "scattergl"
           }
          ],
          "scattermapbox": [
           {
            "marker": {
             "colorbar": {
              "outlinewidth": 0,
              "ticks": ""
             }
            },
            "type": "scattermapbox"
           }
          ],
          "scatterpolar": [
           {
            "marker": {
             "colorbar": {
              "outlinewidth": 0,
              "ticks": ""
             }
            },
            "type": "scatterpolar"
           }
          ],
          "scatterpolargl": [
           {
            "marker": {
             "colorbar": {
              "outlinewidth": 0,
              "ticks": ""
             }
            },
            "type": "scatterpolargl"
           }
          ],
          "scatterternary": [
           {
            "marker": {
             "colorbar": {
              "outlinewidth": 0,
              "ticks": ""
             }
            },
            "type": "scatterternary"
           }
          ],
          "surface": [
           {
            "colorbar": {
             "outlinewidth": 0,
             "ticks": ""
            },
            "type": "surface"
           }
          ],
          "table": [
           {
            "cells": {
             "fill": {
              "color": "#EBF0F8"
             },
             "line": {
              "color": "white"
             }
            },
            "header": {
             "fill": {
              "color": "#C8D4E3"
             },
             "line": {
              "color": "white"
             }
            },
            "type": "table"
           }
          ]
         },
         "layout": {
          "annotationdefaults": {
           "arrowcolor": "#506784",
           "arrowhead": 0,
           "arrowwidth": 1
          },
          "colorscale": {
           "diverging": [
            [
             0,
             "#8e0152"
            ],
            [
             0.1,
             "#c51b7d"
            ],
            [
             0.2,
             "#de77ae"
            ],
            [
             0.3,
             "#f1b6da"
            ],
            [
             0.4,
             "#fde0ef"
            ],
            [
             0.5,
             "#f7f7f7"
            ],
            [
             0.6,
             "#e6f5d0"
            ],
            [
             0.7,
             "#b8e186"
            ],
            [
             0.8,
             "#7fbc41"
            ],
            [
             0.9,
             "#4d9221"
            ],
            [
             1,
             "#276419"
            ]
           ],
           "sequential": [
            [
             0,
             "#0508b8"
            ],
            [
             0.0893854748603352,
             "#1910d8"
            ],
            [
             0.1787709497206704,
             "#3c19f0"
            ],
            [
             0.2681564245810056,
             "#6b1cfb"
            ],
            [
             0.3575418994413408,
             "#981cfd"
            ],
            [
             0.44692737430167595,
             "#bf1cfd"
            ],
            [
             0.5363128491620112,
             "#dd2bfd"
            ],
            [
             0.6256983240223464,
             "#f246fe"
            ],
            [
             0.7150837988826816,
             "#fc67fd"
            ],
            [
             0.8044692737430168,
             "#fe88fc"
            ],
            [
             0.8938547486033519,
             "#fea5fd"
            ],
            [
             0.9832402234636871,
             "#febefe"
            ],
            [
             1,
             "#fec3fe"
            ]
           ],
           "sequentialminus": [
            [
             0,
             "#0508b8"
            ],
            [
             0.0893854748603352,
             "#1910d8"
            ],
            [
             0.1787709497206704,
             "#3c19f0"
            ],
            [
             0.2681564245810056,
             "#6b1cfb"
            ],
            [
             0.3575418994413408,
             "#981cfd"
            ],
            [
             0.44692737430167595,
             "#bf1cfd"
            ],
            [
             0.5363128491620112,
             "#dd2bfd"
            ],
            [
             0.6256983240223464,
             "#f246fe"
            ],
            [
             0.7150837988826816,
             "#fc67fd"
            ],
            [
             0.8044692737430168,
             "#fe88fc"
            ],
            [
             0.8938547486033519,
             "#fea5fd"
            ],
            [
             0.9832402234636871,
             "#febefe"
            ],
            [
             1,
             "#fec3fe"
            ]
           ]
          },
          "colorway": [
           "#636efa",
           "#EF553B",
           "#00cc96",
           "#ab63fa",
           "#19d3f3",
           "#e763fa",
           "#FECB52",
           "#FFA15A",
           "#FF6692",
           "#B6E880"
          ],
          "font": {
           "color": "#2a3f5f"
          },
          "geo": {
           "bgcolor": "white",
           "lakecolor": "white",
           "landcolor": "#E5ECF6",
           "showlakes": true,
           "showland": true,
           "subunitcolor": "white"
          },
          "hovermode": "closest",
          "mapbox": {
           "style": "light"
          },
          "paper_bgcolor": "white",
          "plot_bgcolor": "#E5ECF6",
          "polar": {
           "angularaxis": {
            "gridcolor": "white",
            "linecolor": "white",
            "ticks": ""
           },
           "bgcolor": "#E5ECF6",
           "radialaxis": {
            "gridcolor": "white",
            "linecolor": "white",
            "ticks": ""
           }
          },
          "scene": {
           "xaxis": {
            "backgroundcolor": "#E5ECF6",
            "gridcolor": "white",
            "gridwidth": 2,
            "linecolor": "white",
            "showbackground": true,
            "ticks": "",
            "zerolinecolor": "white"
           },
           "yaxis": {
            "backgroundcolor": "#E5ECF6",
            "gridcolor": "white",
            "gridwidth": 2,
            "linecolor": "white",
            "showbackground": true,
            "ticks": "",
            "zerolinecolor": "white"
           },
           "zaxis": {
            "backgroundcolor": "#E5ECF6",
            "gridcolor": "white",
            "gridwidth": 2,
            "linecolor": "white",
            "showbackground": true,
            "ticks": "",
            "zerolinecolor": "white"
           }
          },
          "shapedefaults": {
           "fillcolor": "#506784",
           "line": {
            "width": 0
           },
           "opacity": 0.4
          },
          "ternary": {
           "aaxis": {
            "gridcolor": "white",
            "linecolor": "white",
            "ticks": ""
           },
           "baxis": {
            "gridcolor": "white",
            "linecolor": "white",
            "ticks": ""
           },
           "bgcolor": "#E5ECF6",
           "caxis": {
            "gridcolor": "white",
            "linecolor": "white",
            "ticks": ""
           }
          },
          "title": {
           "x": 0.05
          },
          "xaxis": {
           "automargin": true,
           "gridcolor": "white",
           "linecolor": "white",
           "ticks": "",
           "zerolinecolor": "white",
           "zerolinewidth": 2
          },
          "yaxis": {
           "automargin": true,
           "gridcolor": "white",
           "linecolor": "white",
           "ticks": "",
           "zerolinecolor": "white",
           "zerolinewidth": 2
          }
         }
        }
       }
      },
      "text/html": [
       "<div id=\"7f3dbec1-33d6-4be8-a5c7-5c67188dfd6e\" style=\"height: 600px; width: 100%;\" class=\"plotly-graph-div\"></div><script type=\"text/javascript\">require([\"plotly\"], function(Plotly) { window.PLOTLYENV=window.PLOTLYENV || {};window.PLOTLYENV.BASE_URL=\"https://plot.ly\";\n",
       "if (document.getElementById(\"7f3dbec1-33d6-4be8-a5c7-5c67188dfd6e\")) {\n",
       "    Plotly.newPlot(\"7f3dbec1-33d6-4be8-a5c7-5c67188dfd6e\", [{\"hovertemplate\": \"Clasifica tu grado de visi\\u00f3n=1. Muy malo<br>counts=%{r}<br>prosume_cluster=%{theta}<extra></extra>\", \"legendgroup\": \"Clasifica tu grado de visi\\u00f3n=1. Muy malo\", \"marker\": {\"color\": \"rgb(213,62,79)\"}, \"name\": \"Clasifica tu grado de visi\\u00f3n=1. Muy malo\", \"r\": [2, 2], \"showlegend\": true, \"theta\": [\"cluster_2\", \"cluster_4\"], \"type\": \"barpolar\", \"uid\": \"66fb9d10-ab79-4aa6-83cc-2be5da12c47e\"}, {\"hovertemplate\": \"Clasifica tu grado de visi\\u00f3n=2. Malo<br>counts=%{r}<br>prosume_cluster=%{theta}<extra></extra>\", \"legendgroup\": \"Clasifica tu grado de visi\\u00f3n=2. Malo\", \"marker\": {\"color\": \"rgb(252,141,89)\"}, \"name\": \"Clasifica tu grado de visi\\u00f3n=2. Malo\", \"r\": [4, 16, 8], \"showlegend\": true, \"theta\": [\"cluster_2\", \"cluster_4\", \"cluster_5\"], \"type\": \"barpolar\", \"uid\": \"80e64b10-cb0a-4c5f-ba53-13846f867e56\"}, {\"hovertemplate\": \"Clasifica tu grado de visi\\u00f3n=3. Regular<br>counts=%{r}<br>prosume_cluster=%{theta}<extra></extra>\", \"legendgroup\": \"Clasifica tu grado de visi\\u00f3n=3. Regular\", \"marker\": {\"color\": \"rgb(254,224,139)\"}, \"name\": \"Clasifica tu grado de visi\\u00f3n=3. Regular\", \"r\": [9, 45, 7, 26, 68], \"showlegend\": true, \"theta\": [\"cluster_1\", \"cluster_2\", \"cluster_3\", \"cluster_4\", \"cluster_5\"], \"type\": \"barpolar\", \"uid\": \"23087c5a-a003-46f0-8d4d-ab035941638b\"}, {\"hovertemplate\": \"Clasifica tu grado de visi\\u00f3n=4. Bueno<br>counts=%{r}<br>prosume_cluster=%{theta}<extra></extra>\", \"legendgroup\": \"Clasifica tu grado de visi\\u00f3n=4. Bueno\", \"marker\": {\"color\": \"rgb(230,245,152)\"}, \"name\": \"Clasifica tu grado de visi\\u00f3n=4. Bueno\", \"r\": [24, 87, 40, 34, 149], \"showlegend\": true, \"theta\": [\"cluster_1\", \"cluster_2\", \"cluster_3\", \"cluster_4\", \"cluster_5\"], \"type\": \"barpolar\", \"uid\": \"f25271bb-788a-4c25-8306-d73e77fd703c\"}, {\"hovertemplate\": \"Clasifica tu grado de visi\\u00f3n=5. Muy bueno<br>counts=%{r}<br>prosume_cluster=%{theta}<extra></extra>\", \"legendgroup\": \"Clasifica tu grado de visi\\u00f3n=5. Muy bueno\", \"marker\": {\"color\": \"rgb(153,213,148)\"}, \"name\": \"Clasifica tu grado de visi\\u00f3n=5. Muy bueno\", \"r\": [4, 58, 53, 20, 111], \"showlegend\": true, \"theta\": [\"cluster_1\", \"cluster_2\", \"cluster_3\", \"cluster_4\", \"cluster_5\"], \"type\": \"barpolar\", \"uid\": \"a41782bf-8a35-4cbd-9568-1a2c35690f87\"}], {\"barmode\": \"group\", \"barnorm\": \"\", \"height\": 600, \"legend\": {\"tracegroupgap\": 0}, \"margin\": {\"t\": 60}, \"template\": {\"data\": {\"barpolar\": [{\"marker\": {\"line\": {\"color\": \"#E5ECF6\", \"width\": 0.5}}, \"type\": \"barpolar\"}], \"bar\": [{\"marker\": {\"line\": {\"color\": \"#E5ECF6\", \"width\": 0.5}}, \"type\": \"bar\"}], \"carpet\": [{\"aaxis\": {\"endlinecolor\": \"#2a3f5f\", \"gridcolor\": \"white\", \"linecolor\": \"white\", \"minorgridcolor\": \"white\", \"startlinecolor\": \"#2a3f5f\"}, \"baxis\": {\"endlinecolor\": \"#2a3f5f\", \"gridcolor\": \"white\", \"linecolor\": \"white\", \"minorgridcolor\": \"white\", \"startlinecolor\": \"#2a3f5f\"}, \"type\": \"carpet\"}], \"choropleth\": [{\"colorbar\": {\"outlinewidth\": 0, \"ticks\": \"\"}, \"type\": \"choropleth\"}], \"contourcarpet\": [{\"colorbar\": {\"outlinewidth\": 0, \"ticks\": \"\"}, \"type\": \"contourcarpet\"}], \"contour\": [{\"autocolorscale\": true, \"colorbar\": {\"outlinewidth\": 0, \"ticks\": \"\"}, \"type\": \"contour\"}], \"heatmapgl\": [{\"colorbar\": {\"outlinewidth\": 0, \"ticks\": \"\"}, \"type\": \"heatmapgl\"}], \"heatmap\": [{\"autocolorscale\": true, \"colorbar\": {\"outlinewidth\": 0, \"ticks\": \"\"}, \"type\": \"heatmap\"}], \"histogram2dcontour\": [{\"autocolorscale\": true, \"colorbar\": {\"outlinewidth\": 0, \"ticks\": \"\"}, \"type\": \"histogram2dcontour\"}], \"histogram2d\": [{\"autocolorscale\": true, \"colorbar\": {\"outlinewidth\": 0, \"ticks\": \"\"}, \"type\": \"histogram2d\"}], \"histogram\": [{\"marker\": {\"colorbar\": {\"outlinewidth\": 0, \"ticks\": \"\"}}, \"type\": \"histogram\"}], \"mesh3d\": [{\"colorbar\": {\"outlinewidth\": 0, \"ticks\": \"\"}, \"type\": \"mesh3d\"}], \"parcoords\": [{\"line\": {\"colorbar\": {\"outlinewidth\": 0, \"ticks\": \"\"}}, \"type\": \"parcoords\"}], \"scatter3d\": [{\"marker\": {\"colorbar\": {\"outlinewidth\": 0, \"ticks\": \"\"}}, \"type\": \"scatter3d\"}], \"scattercarpet\": [{\"marker\": {\"colorbar\": {\"outlinewidth\": 0, \"ticks\": \"\"}}, \"type\": \"scattercarpet\"}], \"scattergeo\": [{\"marker\": {\"colorbar\": {\"outlinewidth\": 0, \"ticks\": \"\"}}, \"type\": \"scattergeo\"}], \"scattergl\": [{\"marker\": {\"colorbar\": {\"outlinewidth\": 0, \"ticks\": \"\"}}, \"type\": \"scattergl\"}], \"scattermapbox\": [{\"marker\": {\"colorbar\": {\"outlinewidth\": 0, \"ticks\": \"\"}}, \"type\": \"scattermapbox\"}], \"scatterpolargl\": [{\"marker\": {\"colorbar\": {\"outlinewidth\": 0, \"ticks\": \"\"}}, \"type\": \"scatterpolargl\"}], \"scatterpolar\": [{\"marker\": {\"colorbar\": {\"outlinewidth\": 0, \"ticks\": \"\"}}, \"type\": \"scatterpolar\"}], \"scatter\": [{\"marker\": {\"colorbar\": {\"outlinewidth\": 0, \"ticks\": \"\"}}, \"type\": \"scatter\"}], \"scatterternary\": [{\"marker\": {\"colorbar\": {\"outlinewidth\": 0, \"ticks\": \"\"}}, \"type\": \"scatterternary\"}], \"surface\": [{\"colorbar\": {\"outlinewidth\": 0, \"ticks\": \"\"}, \"type\": \"surface\"}], \"table\": [{\"cells\": {\"fill\": {\"color\": \"#EBF0F8\"}, \"line\": {\"color\": \"white\"}}, \"header\": {\"fill\": {\"color\": \"#C8D4E3\"}, \"line\": {\"color\": \"white\"}}, \"type\": \"table\"}]}, \"layout\": {\"annotationdefaults\": {\"arrowcolor\": \"#506784\", \"arrowhead\": 0, \"arrowwidth\": 1}, \"colorscale\": {\"diverging\": [[0, \"#8e0152\"], [0.1, \"#c51b7d\"], [0.2, \"#de77ae\"], [0.3, \"#f1b6da\"], [0.4, \"#fde0ef\"], [0.5, \"#f7f7f7\"], [0.6, \"#e6f5d0\"], [0.7, \"#b8e186\"], [0.8, \"#7fbc41\"], [0.9, \"#4d9221\"], [1, \"#276419\"]], \"sequential\": [[0.0, \"#0508b8\"], [0.0893854748603352, \"#1910d8\"], [0.1787709497206704, \"#3c19f0\"], [0.2681564245810056, \"#6b1cfb\"], [0.3575418994413408, \"#981cfd\"], [0.44692737430167595, \"#bf1cfd\"], [0.5363128491620112, \"#dd2bfd\"], [0.6256983240223464, \"#f246fe\"], [0.7150837988826816, \"#fc67fd\"], [0.8044692737430168, \"#fe88fc\"], [0.8938547486033519, \"#fea5fd\"], [0.9832402234636871, \"#febefe\"], [1.0, \"#fec3fe\"]], \"sequentialminus\": [[0.0, \"#0508b8\"], [0.0893854748603352, \"#1910d8\"], [0.1787709497206704, \"#3c19f0\"], [0.2681564245810056, \"#6b1cfb\"], [0.3575418994413408, \"#981cfd\"], [0.44692737430167595, \"#bf1cfd\"], [0.5363128491620112, \"#dd2bfd\"], [0.6256983240223464, \"#f246fe\"], [0.7150837988826816, \"#fc67fd\"], [0.8044692737430168, \"#fe88fc\"], [0.8938547486033519, \"#fea5fd\"], [0.9832402234636871, \"#febefe\"], [1.0, \"#fec3fe\"]]}, \"colorway\": [\"#636efa\", \"#EF553B\", \"#00cc96\", \"#ab63fa\", \"#19d3f3\", \"#e763fa\", \"#FECB52\", \"#FFA15A\", \"#FF6692\", \"#B6E880\"], \"font\": {\"color\": \"#2a3f5f\"}, \"geo\": {\"bgcolor\": \"white\", \"lakecolor\": \"white\", \"landcolor\": \"#E5ECF6\", \"showlakes\": true, \"showland\": true, \"subunitcolor\": \"white\"}, \"hovermode\": \"closest\", \"mapbox\": {\"style\": \"light\"}, \"paper_bgcolor\": \"white\", \"plot_bgcolor\": \"#E5ECF6\", \"polar\": {\"angularaxis\": {\"gridcolor\": \"white\", \"linecolor\": \"white\", \"ticks\": \"\"}, \"bgcolor\": \"#E5ECF6\", \"radialaxis\": {\"gridcolor\": \"white\", \"linecolor\": \"white\", \"ticks\": \"\"}}, \"scene\": {\"xaxis\": {\"backgroundcolor\": \"#E5ECF6\", \"gridcolor\": \"white\", \"gridwidth\": 2, \"linecolor\": \"white\", \"showbackground\": true, \"ticks\": \"\", \"zerolinecolor\": \"white\"}, \"yaxis\": {\"backgroundcolor\": \"#E5ECF6\", \"gridcolor\": \"white\", \"gridwidth\": 2, \"linecolor\": \"white\", \"showbackground\": true, \"ticks\": \"\", \"zerolinecolor\": \"white\"}, \"zaxis\": {\"backgroundcolor\": \"#E5ECF6\", \"gridcolor\": \"white\", \"gridwidth\": 2, \"linecolor\": \"white\", \"showbackground\": true, \"ticks\": \"\", \"zerolinecolor\": \"white\"}}, \"shapedefaults\": {\"fillcolor\": \"#506784\", \"line\": {\"width\": 0}, \"opacity\": 0.4}, \"ternary\": {\"aaxis\": {\"gridcolor\": \"white\", \"linecolor\": \"white\", \"ticks\": \"\"}, \"baxis\": {\"gridcolor\": \"white\", \"linecolor\": \"white\", \"ticks\": \"\"}, \"bgcolor\": \"#E5ECF6\", \"caxis\": {\"gridcolor\": \"white\", \"linecolor\": \"white\", \"ticks\": \"\"}}, \"title\": {\"x\": 0.05}, \"xaxis\": {\"automargin\": true, \"gridcolor\": \"white\", \"linecolor\": \"white\", \"ticks\": \"\", \"zerolinecolor\": \"white\", \"zerolinewidth\": 2}, \"yaxis\": {\"automargin\": true, \"gridcolor\": \"white\", \"linecolor\": \"white\", \"ticks\": \"\", \"zerolinecolor\": \"white\", \"zerolinewidth\": 2}}}, \"polar\": {\"angularaxis\": {\"direction\": \"clockwise\", \"rotation\": 90}}}, {\"showLink\": false, \"linkText\": \"Export to plot.ly\", \"plotlyServerURL\": \"https://plot.ly\"}); \n",
       "}\n",
       "});</script><script type=\"text/javascript\">window.addEventListener(\"resize\", function(){if (document.getElementById(\"7f3dbec1-33d6-4be8-a5c7-5c67188dfd6e\")) {window._Plotly.Plots.resize(document.getElementById(\"7f3dbec1-33d6-4be8-a5c7-5c67188dfd6e\"));};})</script>"
      ],
      "text/vnd.plotly.v1+html": [
       "<div id=\"7f3dbec1-33d6-4be8-a5c7-5c67188dfd6e\" style=\"height: 600px; width: 100%;\" class=\"plotly-graph-div\"></div><script type=\"text/javascript\">require([\"plotly\"], function(Plotly) { window.PLOTLYENV=window.PLOTLYENV || {};window.PLOTLYENV.BASE_URL=\"https://plot.ly\";\n",
       "if (document.getElementById(\"7f3dbec1-33d6-4be8-a5c7-5c67188dfd6e\")) {\n",
       "    Plotly.newPlot(\"7f3dbec1-33d6-4be8-a5c7-5c67188dfd6e\", [{\"hovertemplate\": \"Clasifica tu grado de visi\\u00f3n=1. Muy malo<br>counts=%{r}<br>prosume_cluster=%{theta}<extra></extra>\", \"legendgroup\": \"Clasifica tu grado de visi\\u00f3n=1. Muy malo\", \"marker\": {\"color\": \"rgb(213,62,79)\"}, \"name\": \"Clasifica tu grado de visi\\u00f3n=1. Muy malo\", \"r\": [2, 2], \"showlegend\": true, \"theta\": [\"cluster_2\", \"cluster_4\"], \"type\": \"barpolar\", \"uid\": \"66fb9d10-ab79-4aa6-83cc-2be5da12c47e\"}, {\"hovertemplate\": \"Clasifica tu grado de visi\\u00f3n=2. Malo<br>counts=%{r}<br>prosume_cluster=%{theta}<extra></extra>\", \"legendgroup\": \"Clasifica tu grado de visi\\u00f3n=2. Malo\", \"marker\": {\"color\": \"rgb(252,141,89)\"}, \"name\": \"Clasifica tu grado de visi\\u00f3n=2. Malo\", \"r\": [4, 16, 8], \"showlegend\": true, \"theta\": [\"cluster_2\", \"cluster_4\", \"cluster_5\"], \"type\": \"barpolar\", \"uid\": \"80e64b10-cb0a-4c5f-ba53-13846f867e56\"}, {\"hovertemplate\": \"Clasifica tu grado de visi\\u00f3n=3. Regular<br>counts=%{r}<br>prosume_cluster=%{theta}<extra></extra>\", \"legendgroup\": \"Clasifica tu grado de visi\\u00f3n=3. Regular\", \"marker\": {\"color\": \"rgb(254,224,139)\"}, \"name\": \"Clasifica tu grado de visi\\u00f3n=3. Regular\", \"r\": [9, 45, 7, 26, 68], \"showlegend\": true, \"theta\": [\"cluster_1\", \"cluster_2\", \"cluster_3\", \"cluster_4\", \"cluster_5\"], \"type\": \"barpolar\", \"uid\": \"23087c5a-a003-46f0-8d4d-ab035941638b\"}, {\"hovertemplate\": \"Clasifica tu grado de visi\\u00f3n=4. Bueno<br>counts=%{r}<br>prosume_cluster=%{theta}<extra></extra>\", \"legendgroup\": \"Clasifica tu grado de visi\\u00f3n=4. Bueno\", \"marker\": {\"color\": \"rgb(230,245,152)\"}, \"name\": \"Clasifica tu grado de visi\\u00f3n=4. Bueno\", \"r\": [24, 87, 40, 34, 149], \"showlegend\": true, \"theta\": [\"cluster_1\", \"cluster_2\", \"cluster_3\", \"cluster_4\", \"cluster_5\"], \"type\": \"barpolar\", \"uid\": \"f25271bb-788a-4c25-8306-d73e77fd703c\"}, {\"hovertemplate\": \"Clasifica tu grado de visi\\u00f3n=5. Muy bueno<br>counts=%{r}<br>prosume_cluster=%{theta}<extra></extra>\", \"legendgroup\": \"Clasifica tu grado de visi\\u00f3n=5. Muy bueno\", \"marker\": {\"color\": \"rgb(153,213,148)\"}, \"name\": \"Clasifica tu grado de visi\\u00f3n=5. Muy bueno\", \"r\": [4, 58, 53, 20, 111], \"showlegend\": true, \"theta\": [\"cluster_1\", \"cluster_2\", \"cluster_3\", \"cluster_4\", \"cluster_5\"], \"type\": \"barpolar\", \"uid\": \"a41782bf-8a35-4cbd-9568-1a2c35690f87\"}], {\"barmode\": \"group\", \"barnorm\": \"\", \"height\": 600, \"legend\": {\"tracegroupgap\": 0}, \"margin\": {\"t\": 60}, \"template\": {\"data\": {\"barpolar\": [{\"marker\": {\"line\": {\"color\": \"#E5ECF6\", \"width\": 0.5}}, \"type\": \"barpolar\"}], \"bar\": [{\"marker\": {\"line\": {\"color\": \"#E5ECF6\", \"width\": 0.5}}, \"type\": \"bar\"}], \"carpet\": [{\"aaxis\": {\"endlinecolor\": \"#2a3f5f\", \"gridcolor\": \"white\", \"linecolor\": \"white\", \"minorgridcolor\": \"white\", \"startlinecolor\": \"#2a3f5f\"}, \"baxis\": {\"endlinecolor\": \"#2a3f5f\", \"gridcolor\": \"white\", \"linecolor\": \"white\", \"minorgridcolor\": \"white\", \"startlinecolor\": \"#2a3f5f\"}, \"type\": \"carpet\"}], \"choropleth\": [{\"colorbar\": {\"outlinewidth\": 0, \"ticks\": \"\"}, \"type\": \"choropleth\"}], \"contourcarpet\": [{\"colorbar\": {\"outlinewidth\": 0, \"ticks\": \"\"}, \"type\": \"contourcarpet\"}], \"contour\": [{\"autocolorscale\": true, \"colorbar\": {\"outlinewidth\": 0, \"ticks\": \"\"}, \"type\": \"contour\"}], \"heatmapgl\": [{\"colorbar\": {\"outlinewidth\": 0, \"ticks\": \"\"}, \"type\": \"heatmapgl\"}], \"heatmap\": [{\"autocolorscale\": true, \"colorbar\": {\"outlinewidth\": 0, \"ticks\": \"\"}, \"type\": \"heatmap\"}], \"histogram2dcontour\": [{\"autocolorscale\": true, \"colorbar\": {\"outlinewidth\": 0, \"ticks\": \"\"}, \"type\": \"histogram2dcontour\"}], \"histogram2d\": [{\"autocolorscale\": true, \"colorbar\": {\"outlinewidth\": 0, \"ticks\": \"\"}, \"type\": \"histogram2d\"}], \"histogram\": [{\"marker\": {\"colorbar\": {\"outlinewidth\": 0, \"ticks\": \"\"}}, \"type\": \"histogram\"}], \"mesh3d\": [{\"colorbar\": {\"outlinewidth\": 0, \"ticks\": \"\"}, \"type\": \"mesh3d\"}], \"parcoords\": [{\"line\": {\"colorbar\": {\"outlinewidth\": 0, \"ticks\": \"\"}}, \"type\": \"parcoords\"}], \"scatter3d\": [{\"marker\": {\"colorbar\": {\"outlinewidth\": 0, \"ticks\": \"\"}}, \"type\": \"scatter3d\"}], \"scattercarpet\": [{\"marker\": {\"colorbar\": {\"outlinewidth\": 0, \"ticks\": \"\"}}, \"type\": \"scattercarpet\"}], \"scattergeo\": [{\"marker\": {\"colorbar\": {\"outlinewidth\": 0, \"ticks\": \"\"}}, \"type\": \"scattergeo\"}], \"scattergl\": [{\"marker\": {\"colorbar\": {\"outlinewidth\": 0, \"ticks\": \"\"}}, \"type\": \"scattergl\"}], \"scattermapbox\": [{\"marker\": {\"colorbar\": {\"outlinewidth\": 0, \"ticks\": \"\"}}, \"type\": \"scattermapbox\"}], \"scatterpolargl\": [{\"marker\": {\"colorbar\": {\"outlinewidth\": 0, \"ticks\": \"\"}}, \"type\": \"scatterpolargl\"}], \"scatterpolar\": [{\"marker\": {\"colorbar\": {\"outlinewidth\": 0, \"ticks\": \"\"}}, \"type\": \"scatterpolar\"}], \"scatter\": [{\"marker\": {\"colorbar\": {\"outlinewidth\": 0, \"ticks\": \"\"}}, \"type\": \"scatter\"}], \"scatterternary\": [{\"marker\": {\"colorbar\": {\"outlinewidth\": 0, \"ticks\": \"\"}}, \"type\": \"scatterternary\"}], \"surface\": [{\"colorbar\": {\"outlinewidth\": 0, \"ticks\": \"\"}, \"type\": \"surface\"}], \"table\": [{\"cells\": {\"fill\": {\"color\": \"#EBF0F8\"}, \"line\": {\"color\": \"white\"}}, \"header\": {\"fill\": {\"color\": \"#C8D4E3\"}, \"line\": {\"color\": \"white\"}}, \"type\": \"table\"}]}, \"layout\": {\"annotationdefaults\": {\"arrowcolor\": \"#506784\", \"arrowhead\": 0, \"arrowwidth\": 1}, \"colorscale\": {\"diverging\": [[0, \"#8e0152\"], [0.1, \"#c51b7d\"], [0.2, \"#de77ae\"], [0.3, \"#f1b6da\"], [0.4, \"#fde0ef\"], [0.5, \"#f7f7f7\"], [0.6, \"#e6f5d0\"], [0.7, \"#b8e186\"], [0.8, \"#7fbc41\"], [0.9, \"#4d9221\"], [1, \"#276419\"]], \"sequential\": [[0.0, \"#0508b8\"], [0.0893854748603352, \"#1910d8\"], [0.1787709497206704, \"#3c19f0\"], [0.2681564245810056, \"#6b1cfb\"], [0.3575418994413408, \"#981cfd\"], [0.44692737430167595, \"#bf1cfd\"], [0.5363128491620112, \"#dd2bfd\"], [0.6256983240223464, \"#f246fe\"], [0.7150837988826816, \"#fc67fd\"], [0.8044692737430168, \"#fe88fc\"], [0.8938547486033519, \"#fea5fd\"], [0.9832402234636871, \"#febefe\"], [1.0, \"#fec3fe\"]], \"sequentialminus\": [[0.0, \"#0508b8\"], [0.0893854748603352, \"#1910d8\"], [0.1787709497206704, \"#3c19f0\"], [0.2681564245810056, \"#6b1cfb\"], [0.3575418994413408, \"#981cfd\"], [0.44692737430167595, \"#bf1cfd\"], [0.5363128491620112, \"#dd2bfd\"], [0.6256983240223464, \"#f246fe\"], [0.7150837988826816, \"#fc67fd\"], [0.8044692737430168, \"#fe88fc\"], [0.8938547486033519, \"#fea5fd\"], [0.9832402234636871, \"#febefe\"], [1.0, \"#fec3fe\"]]}, \"colorway\": [\"#636efa\", \"#EF553B\", \"#00cc96\", \"#ab63fa\", \"#19d3f3\", \"#e763fa\", \"#FECB52\", \"#FFA15A\", \"#FF6692\", \"#B6E880\"], \"font\": {\"color\": \"#2a3f5f\"}, \"geo\": {\"bgcolor\": \"white\", \"lakecolor\": \"white\", \"landcolor\": \"#E5ECF6\", \"showlakes\": true, \"showland\": true, \"subunitcolor\": \"white\"}, \"hovermode\": \"closest\", \"mapbox\": {\"style\": \"light\"}, \"paper_bgcolor\": \"white\", \"plot_bgcolor\": \"#E5ECF6\", \"polar\": {\"angularaxis\": {\"gridcolor\": \"white\", \"linecolor\": \"white\", \"ticks\": \"\"}, \"bgcolor\": \"#E5ECF6\", \"radialaxis\": {\"gridcolor\": \"white\", \"linecolor\": \"white\", \"ticks\": \"\"}}, \"scene\": {\"xaxis\": {\"backgroundcolor\": \"#E5ECF6\", \"gridcolor\": \"white\", \"gridwidth\": 2, \"linecolor\": \"white\", \"showbackground\": true, \"ticks\": \"\", \"zerolinecolor\": \"white\"}, \"yaxis\": {\"backgroundcolor\": \"#E5ECF6\", \"gridcolor\": \"white\", \"gridwidth\": 2, \"linecolor\": \"white\", \"showbackground\": true, \"ticks\": \"\", \"zerolinecolor\": \"white\"}, \"zaxis\": {\"backgroundcolor\": \"#E5ECF6\", \"gridcolor\": \"white\", \"gridwidth\": 2, \"linecolor\": \"white\", \"showbackground\": true, \"ticks\": \"\", \"zerolinecolor\": \"white\"}}, \"shapedefaults\": {\"fillcolor\": \"#506784\", \"line\": {\"width\": 0}, \"opacity\": 0.4}, \"ternary\": {\"aaxis\": {\"gridcolor\": \"white\", \"linecolor\": \"white\", \"ticks\": \"\"}, \"baxis\": {\"gridcolor\": \"white\", \"linecolor\": \"white\", \"ticks\": \"\"}, \"bgcolor\": \"#E5ECF6\", \"caxis\": {\"gridcolor\": \"white\", \"linecolor\": \"white\", \"ticks\": \"\"}}, \"title\": {\"x\": 0.05}, \"xaxis\": {\"automargin\": true, \"gridcolor\": \"white\", \"linecolor\": \"white\", \"ticks\": \"\", \"zerolinecolor\": \"white\", \"zerolinewidth\": 2}, \"yaxis\": {\"automargin\": true, \"gridcolor\": \"white\", \"linecolor\": \"white\", \"ticks\": \"\", \"zerolinecolor\": \"white\", \"zerolinewidth\": 2}}}, \"polar\": {\"angularaxis\": {\"direction\": \"clockwise\", \"rotation\": 90}}}, {\"showLink\": false, \"linkText\": \"Export to plot.ly\", \"plotlyServerURL\": \"https://plot.ly\"}); \n",
       "}\n",
       "});</script><script type=\"text/javascript\">window.addEventListener(\"resize\", function(){if (document.getElementById(\"7f3dbec1-33d6-4be8-a5c7-5c67188dfd6e\")) {window._Plotly.Plots.resize(document.getElementById(\"7f3dbec1-33d6-4be8-a5c7-5c67188dfd6e\"));};})</script>"
      ]
     },
     "metadata": {},
     "output_type": "display_data"
    },
    {
     "name": "stdout",
     "output_type": "stream",
     "text": [
      "Comparando la pregunta ¿Utilizas gafas o lentes de contacto?\n"
     ]
    },
    {
     "data": {
      "application/vnd.plotly.v1+json": {
       "config": {
        "linkText": "Export to plot.ly",
        "plotlyServerURL": "https://plot.ly",
        "showLink": false
       },
       "data": [
        {
         "hovertemplate": "¿Utilizas gafas o lentes de contacto?=No<br>counts=%{r}<br>prosume_cluster=%{theta}<extra></extra>",
         "legendgroup": "¿Utilizas gafas o lentes de contacto?=No",
         "marker": {
          "color": "rgb(213,62,79)"
         },
         "name": "¿Utilizas gafas o lentes de contacto?=No",
         "r": [
          19,
          114,
          67,
          24,
          146
         ],
         "showlegend": true,
         "theta": [
          "cluster_1",
          "cluster_2",
          "cluster_3",
          "cluster_4",
          "cluster_5"
         ],
         "type": "barpolar",
         "uid": "0c1837cc-74a5-4efe-afd5-cad9efd9ce15"
        },
        {
         "hovertemplate": "¿Utilizas gafas o lentes de contacto?=Sí<br>counts=%{r}<br>prosume_cluster=%{theta}<extra></extra>",
         "legendgroup": "¿Utilizas gafas o lentes de contacto?=Sí",
         "marker": {
          "color": "rgb(252,141,89)"
         },
         "name": "¿Utilizas gafas o lentes de contacto?=Sí",
         "r": [
          18,
          82,
          33,
          74,
          190
         ],
         "showlegend": true,
         "theta": [
          "cluster_1",
          "cluster_2",
          "cluster_3",
          "cluster_4",
          "cluster_5"
         ],
         "type": "barpolar",
         "uid": "ff6fd878-7de5-4d70-8c7d-6f00807637a0"
        }
       ],
       "layout": {
        "barmode": "group",
        "barnorm": "",
        "height": 600,
        "legend": {
         "tracegroupgap": 0
        },
        "margin": {
         "t": 60
        },
        "polar": {
         "angularaxis": {
          "direction": "clockwise",
          "rotation": 90
         }
        },
        "template": {
         "data": {
          "bar": [
           {
            "marker": {
             "line": {
              "color": "#E5ECF6",
              "width": 0.5
             }
            },
            "type": "bar"
           }
          ],
          "barpolar": [
           {
            "marker": {
             "line": {
              "color": "#E5ECF6",
              "width": 0.5
             }
            },
            "type": "barpolar"
           }
          ],
          "carpet": [
           {
            "aaxis": {
             "endlinecolor": "#2a3f5f",
             "gridcolor": "white",
             "linecolor": "white",
             "minorgridcolor": "white",
             "startlinecolor": "#2a3f5f"
            },
            "baxis": {
             "endlinecolor": "#2a3f5f",
             "gridcolor": "white",
             "linecolor": "white",
             "minorgridcolor": "white",
             "startlinecolor": "#2a3f5f"
            },
            "type": "carpet"
           }
          ],
          "choropleth": [
           {
            "colorbar": {
             "outlinewidth": 0,
             "ticks": ""
            },
            "type": "choropleth"
           }
          ],
          "contour": [
           {
            "autocolorscale": true,
            "colorbar": {
             "outlinewidth": 0,
             "ticks": ""
            },
            "type": "contour"
           }
          ],
          "contourcarpet": [
           {
            "colorbar": {
             "outlinewidth": 0,
             "ticks": ""
            },
            "type": "contourcarpet"
           }
          ],
          "heatmap": [
           {
            "autocolorscale": true,
            "colorbar": {
             "outlinewidth": 0,
             "ticks": ""
            },
            "type": "heatmap"
           }
          ],
          "heatmapgl": [
           {
            "colorbar": {
             "outlinewidth": 0,
             "ticks": ""
            },
            "type": "heatmapgl"
           }
          ],
          "histogram": [
           {
            "marker": {
             "colorbar": {
              "outlinewidth": 0,
              "ticks": ""
             }
            },
            "type": "histogram"
           }
          ],
          "histogram2d": [
           {
            "autocolorscale": true,
            "colorbar": {
             "outlinewidth": 0,
             "ticks": ""
            },
            "type": "histogram2d"
           }
          ],
          "histogram2dcontour": [
           {
            "autocolorscale": true,
            "colorbar": {
             "outlinewidth": 0,
             "ticks": ""
            },
            "type": "histogram2dcontour"
           }
          ],
          "mesh3d": [
           {
            "colorbar": {
             "outlinewidth": 0,
             "ticks": ""
            },
            "type": "mesh3d"
           }
          ],
          "parcoords": [
           {
            "line": {
             "colorbar": {
              "outlinewidth": 0,
              "ticks": ""
             }
            },
            "type": "parcoords"
           }
          ],
          "scatter": [
           {
            "marker": {
             "colorbar": {
              "outlinewidth": 0,
              "ticks": ""
             }
            },
            "type": "scatter"
           }
          ],
          "scatter3d": [
           {
            "marker": {
             "colorbar": {
              "outlinewidth": 0,
              "ticks": ""
             }
            },
            "type": "scatter3d"
           }
          ],
          "scattercarpet": [
           {
            "marker": {
             "colorbar": {
              "outlinewidth": 0,
              "ticks": ""
             }
            },
            "type": "scattercarpet"
           }
          ],
          "scattergeo": [
           {
            "marker": {
             "colorbar": {
              "outlinewidth": 0,
              "ticks": ""
             }
            },
            "type": "scattergeo"
           }
          ],
          "scattergl": [
           {
            "marker": {
             "colorbar": {
              "outlinewidth": 0,
              "ticks": ""
             }
            },
            "type": "scattergl"
           }
          ],
          "scattermapbox": [
           {
            "marker": {
             "colorbar": {
              "outlinewidth": 0,
              "ticks": ""
             }
            },
            "type": "scattermapbox"
           }
          ],
          "scatterpolar": [
           {
            "marker": {
             "colorbar": {
              "outlinewidth": 0,
              "ticks": ""
             }
            },
            "type": "scatterpolar"
           }
          ],
          "scatterpolargl": [
           {
            "marker": {
             "colorbar": {
              "outlinewidth": 0,
              "ticks": ""
             }
            },
            "type": "scatterpolargl"
           }
          ],
          "scatterternary": [
           {
            "marker": {
             "colorbar": {
              "outlinewidth": 0,
              "ticks": ""
             }
            },
            "type": "scatterternary"
           }
          ],
          "surface": [
           {
            "colorbar": {
             "outlinewidth": 0,
             "ticks": ""
            },
            "type": "surface"
           }
          ],
          "table": [
           {
            "cells": {
             "fill": {
              "color": "#EBF0F8"
             },
             "line": {
              "color": "white"
             }
            },
            "header": {
             "fill": {
              "color": "#C8D4E3"
             },
             "line": {
              "color": "white"
             }
            },
            "type": "table"
           }
          ]
         },
         "layout": {
          "annotationdefaults": {
           "arrowcolor": "#506784",
           "arrowhead": 0,
           "arrowwidth": 1
          },
          "colorscale": {
           "diverging": [
            [
             0,
             "#8e0152"
            ],
            [
             0.1,
             "#c51b7d"
            ],
            [
             0.2,
             "#de77ae"
            ],
            [
             0.3,
             "#f1b6da"
            ],
            [
             0.4,
             "#fde0ef"
            ],
            [
             0.5,
             "#f7f7f7"
            ],
            [
             0.6,
             "#e6f5d0"
            ],
            [
             0.7,
             "#b8e186"
            ],
            [
             0.8,
             "#7fbc41"
            ],
            [
             0.9,
             "#4d9221"
            ],
            [
             1,
             "#276419"
            ]
           ],
           "sequential": [
            [
             0,
             "#0508b8"
            ],
            [
             0.0893854748603352,
             "#1910d8"
            ],
            [
             0.1787709497206704,
             "#3c19f0"
            ],
            [
             0.2681564245810056,
             "#6b1cfb"
            ],
            [
             0.3575418994413408,
             "#981cfd"
            ],
            [
             0.44692737430167595,
             "#bf1cfd"
            ],
            [
             0.5363128491620112,
             "#dd2bfd"
            ],
            [
             0.6256983240223464,
             "#f246fe"
            ],
            [
             0.7150837988826816,
             "#fc67fd"
            ],
            [
             0.8044692737430168,
             "#fe88fc"
            ],
            [
             0.8938547486033519,
             "#fea5fd"
            ],
            [
             0.9832402234636871,
             "#febefe"
            ],
            [
             1,
             "#fec3fe"
            ]
           ],
           "sequentialminus": [
            [
             0,
             "#0508b8"
            ],
            [
             0.0893854748603352,
             "#1910d8"
            ],
            [
             0.1787709497206704,
             "#3c19f0"
            ],
            [
             0.2681564245810056,
             "#6b1cfb"
            ],
            [
             0.3575418994413408,
             "#981cfd"
            ],
            [
             0.44692737430167595,
             "#bf1cfd"
            ],
            [
             0.5363128491620112,
             "#dd2bfd"
            ],
            [
             0.6256983240223464,
             "#f246fe"
            ],
            [
             0.7150837988826816,
             "#fc67fd"
            ],
            [
             0.8044692737430168,
             "#fe88fc"
            ],
            [
             0.8938547486033519,
             "#fea5fd"
            ],
            [
             0.9832402234636871,
             "#febefe"
            ],
            [
             1,
             "#fec3fe"
            ]
           ]
          },
          "colorway": [
           "#636efa",
           "#EF553B",
           "#00cc96",
           "#ab63fa",
           "#19d3f3",
           "#e763fa",
           "#FECB52",
           "#FFA15A",
           "#FF6692",
           "#B6E880"
          ],
          "font": {
           "color": "#2a3f5f"
          },
          "geo": {
           "bgcolor": "white",
           "lakecolor": "white",
           "landcolor": "#E5ECF6",
           "showlakes": true,
           "showland": true,
           "subunitcolor": "white"
          },
          "hovermode": "closest",
          "mapbox": {
           "style": "light"
          },
          "paper_bgcolor": "white",
          "plot_bgcolor": "#E5ECF6",
          "polar": {
           "angularaxis": {
            "gridcolor": "white",
            "linecolor": "white",
            "ticks": ""
           },
           "bgcolor": "#E5ECF6",
           "radialaxis": {
            "gridcolor": "white",
            "linecolor": "white",
            "ticks": ""
           }
          },
          "scene": {
           "xaxis": {
            "backgroundcolor": "#E5ECF6",
            "gridcolor": "white",
            "gridwidth": 2,
            "linecolor": "white",
            "showbackground": true,
            "ticks": "",
            "zerolinecolor": "white"
           },
           "yaxis": {
            "backgroundcolor": "#E5ECF6",
            "gridcolor": "white",
            "gridwidth": 2,
            "linecolor": "white",
            "showbackground": true,
            "ticks": "",
            "zerolinecolor": "white"
           },
           "zaxis": {
            "backgroundcolor": "#E5ECF6",
            "gridcolor": "white",
            "gridwidth": 2,
            "linecolor": "white",
            "showbackground": true,
            "ticks": "",
            "zerolinecolor": "white"
           }
          },
          "shapedefaults": {
           "fillcolor": "#506784",
           "line": {
            "width": 0
           },
           "opacity": 0.4
          },
          "ternary": {
           "aaxis": {
            "gridcolor": "white",
            "linecolor": "white",
            "ticks": ""
           },
           "baxis": {
            "gridcolor": "white",
            "linecolor": "white",
            "ticks": ""
           },
           "bgcolor": "#E5ECF6",
           "caxis": {
            "gridcolor": "white",
            "linecolor": "white",
            "ticks": ""
           }
          },
          "title": {
           "x": 0.05
          },
          "xaxis": {
           "automargin": true,
           "gridcolor": "white",
           "linecolor": "white",
           "ticks": "",
           "zerolinecolor": "white",
           "zerolinewidth": 2
          },
          "yaxis": {
           "automargin": true,
           "gridcolor": "white",
           "linecolor": "white",
           "ticks": "",
           "zerolinecolor": "white",
           "zerolinewidth": 2
          }
         }
        }
       }
      },
      "text/html": [
       "<div id=\"80c9ac1f-7f67-4980-8534-8e5ad673f950\" style=\"height: 600px; width: 100%;\" class=\"plotly-graph-div\"></div><script type=\"text/javascript\">require([\"plotly\"], function(Plotly) { window.PLOTLYENV=window.PLOTLYENV || {};window.PLOTLYENV.BASE_URL=\"https://plot.ly\";\n",
       "if (document.getElementById(\"80c9ac1f-7f67-4980-8534-8e5ad673f950\")) {\n",
       "    Plotly.newPlot(\"80c9ac1f-7f67-4980-8534-8e5ad673f950\", [{\"hovertemplate\": \"\\u00bfUtilizas gafas o lentes de contacto?=No<br>counts=%{r}<br>prosume_cluster=%{theta}<extra></extra>\", \"legendgroup\": \"\\u00bfUtilizas gafas o lentes de contacto?=No\", \"marker\": {\"color\": \"rgb(213,62,79)\"}, \"name\": \"\\u00bfUtilizas gafas o lentes de contacto?=No\", \"r\": [19, 114, 67, 24, 146], \"showlegend\": true, \"theta\": [\"cluster_1\", \"cluster_2\", \"cluster_3\", \"cluster_4\", \"cluster_5\"], \"type\": \"barpolar\", \"uid\": \"0c1837cc-74a5-4efe-afd5-cad9efd9ce15\"}, {\"hovertemplate\": \"\\u00bfUtilizas gafas o lentes de contacto?=S\\u00ed<br>counts=%{r}<br>prosume_cluster=%{theta}<extra></extra>\", \"legendgroup\": \"\\u00bfUtilizas gafas o lentes de contacto?=S\\u00ed\", \"marker\": {\"color\": \"rgb(252,141,89)\"}, \"name\": \"\\u00bfUtilizas gafas o lentes de contacto?=S\\u00ed\", \"r\": [18, 82, 33, 74, 190], \"showlegend\": true, \"theta\": [\"cluster_1\", \"cluster_2\", \"cluster_3\", \"cluster_4\", \"cluster_5\"], \"type\": \"barpolar\", \"uid\": \"ff6fd878-7de5-4d70-8c7d-6f00807637a0\"}], {\"barmode\": \"group\", \"barnorm\": \"\", \"height\": 600, \"legend\": {\"tracegroupgap\": 0}, \"margin\": {\"t\": 60}, \"template\": {\"data\": {\"barpolar\": [{\"marker\": {\"line\": {\"color\": \"#E5ECF6\", \"width\": 0.5}}, \"type\": \"barpolar\"}], \"bar\": [{\"marker\": {\"line\": {\"color\": \"#E5ECF6\", \"width\": 0.5}}, \"type\": \"bar\"}], \"carpet\": [{\"aaxis\": {\"endlinecolor\": \"#2a3f5f\", \"gridcolor\": \"white\", \"linecolor\": \"white\", \"minorgridcolor\": \"white\", \"startlinecolor\": \"#2a3f5f\"}, \"baxis\": {\"endlinecolor\": \"#2a3f5f\", \"gridcolor\": \"white\", \"linecolor\": \"white\", \"minorgridcolor\": \"white\", \"startlinecolor\": \"#2a3f5f\"}, \"type\": \"carpet\"}], \"choropleth\": [{\"colorbar\": {\"outlinewidth\": 0, \"ticks\": \"\"}, \"type\": \"choropleth\"}], \"contourcarpet\": [{\"colorbar\": {\"outlinewidth\": 0, \"ticks\": \"\"}, \"type\": \"contourcarpet\"}], \"contour\": [{\"autocolorscale\": true, \"colorbar\": {\"outlinewidth\": 0, \"ticks\": \"\"}, \"type\": \"contour\"}], \"heatmapgl\": [{\"colorbar\": {\"outlinewidth\": 0, \"ticks\": \"\"}, \"type\": \"heatmapgl\"}], \"heatmap\": [{\"autocolorscale\": true, \"colorbar\": {\"outlinewidth\": 0, \"ticks\": \"\"}, \"type\": \"heatmap\"}], \"histogram2dcontour\": [{\"autocolorscale\": true, \"colorbar\": {\"outlinewidth\": 0, \"ticks\": \"\"}, \"type\": \"histogram2dcontour\"}], \"histogram2d\": [{\"autocolorscale\": true, \"colorbar\": {\"outlinewidth\": 0, \"ticks\": \"\"}, \"type\": \"histogram2d\"}], \"histogram\": [{\"marker\": {\"colorbar\": {\"outlinewidth\": 0, \"ticks\": \"\"}}, \"type\": \"histogram\"}], \"mesh3d\": [{\"colorbar\": {\"outlinewidth\": 0, \"ticks\": \"\"}, \"type\": \"mesh3d\"}], \"parcoords\": [{\"line\": {\"colorbar\": {\"outlinewidth\": 0, \"ticks\": \"\"}}, \"type\": \"parcoords\"}], \"scatter3d\": [{\"marker\": {\"colorbar\": {\"outlinewidth\": 0, \"ticks\": \"\"}}, \"type\": \"scatter3d\"}], \"scattercarpet\": [{\"marker\": {\"colorbar\": {\"outlinewidth\": 0, \"ticks\": \"\"}}, \"type\": \"scattercarpet\"}], \"scattergeo\": [{\"marker\": {\"colorbar\": {\"outlinewidth\": 0, \"ticks\": \"\"}}, \"type\": \"scattergeo\"}], \"scattergl\": [{\"marker\": {\"colorbar\": {\"outlinewidth\": 0, \"ticks\": \"\"}}, \"type\": \"scattergl\"}], \"scattermapbox\": [{\"marker\": {\"colorbar\": {\"outlinewidth\": 0, \"ticks\": \"\"}}, \"type\": \"scattermapbox\"}], \"scatterpolargl\": [{\"marker\": {\"colorbar\": {\"outlinewidth\": 0, \"ticks\": \"\"}}, \"type\": \"scatterpolargl\"}], \"scatterpolar\": [{\"marker\": {\"colorbar\": {\"outlinewidth\": 0, \"ticks\": \"\"}}, \"type\": \"scatterpolar\"}], \"scatter\": [{\"marker\": {\"colorbar\": {\"outlinewidth\": 0, \"ticks\": \"\"}}, \"type\": \"scatter\"}], \"scatterternary\": [{\"marker\": {\"colorbar\": {\"outlinewidth\": 0, \"ticks\": \"\"}}, \"type\": \"scatterternary\"}], \"surface\": [{\"colorbar\": {\"outlinewidth\": 0, \"ticks\": \"\"}, \"type\": \"surface\"}], \"table\": [{\"cells\": {\"fill\": {\"color\": \"#EBF0F8\"}, \"line\": {\"color\": \"white\"}}, \"header\": {\"fill\": {\"color\": \"#C8D4E3\"}, \"line\": {\"color\": \"white\"}}, \"type\": \"table\"}]}, \"layout\": {\"annotationdefaults\": {\"arrowcolor\": \"#506784\", \"arrowhead\": 0, \"arrowwidth\": 1}, \"colorscale\": {\"diverging\": [[0, \"#8e0152\"], [0.1, \"#c51b7d\"], [0.2, \"#de77ae\"], [0.3, \"#f1b6da\"], [0.4, \"#fde0ef\"], [0.5, \"#f7f7f7\"], [0.6, \"#e6f5d0\"], [0.7, \"#b8e186\"], [0.8, \"#7fbc41\"], [0.9, \"#4d9221\"], [1, \"#276419\"]], \"sequential\": [[0.0, \"#0508b8\"], [0.0893854748603352, \"#1910d8\"], [0.1787709497206704, \"#3c19f0\"], [0.2681564245810056, \"#6b1cfb\"], [0.3575418994413408, \"#981cfd\"], [0.44692737430167595, \"#bf1cfd\"], [0.5363128491620112, \"#dd2bfd\"], [0.6256983240223464, \"#f246fe\"], [0.7150837988826816, \"#fc67fd\"], [0.8044692737430168, \"#fe88fc\"], [0.8938547486033519, \"#fea5fd\"], [0.9832402234636871, \"#febefe\"], [1.0, \"#fec3fe\"]], \"sequentialminus\": [[0.0, \"#0508b8\"], [0.0893854748603352, \"#1910d8\"], [0.1787709497206704, \"#3c19f0\"], [0.2681564245810056, \"#6b1cfb\"], [0.3575418994413408, \"#981cfd\"], [0.44692737430167595, \"#bf1cfd\"], [0.5363128491620112, \"#dd2bfd\"], [0.6256983240223464, \"#f246fe\"], [0.7150837988826816, \"#fc67fd\"], [0.8044692737430168, \"#fe88fc\"], [0.8938547486033519, \"#fea5fd\"], [0.9832402234636871, \"#febefe\"], [1.0, \"#fec3fe\"]]}, \"colorway\": [\"#636efa\", \"#EF553B\", \"#00cc96\", \"#ab63fa\", \"#19d3f3\", \"#e763fa\", \"#FECB52\", \"#FFA15A\", \"#FF6692\", \"#B6E880\"], \"font\": {\"color\": \"#2a3f5f\"}, \"geo\": {\"bgcolor\": \"white\", \"lakecolor\": \"white\", \"landcolor\": \"#E5ECF6\", \"showlakes\": true, \"showland\": true, \"subunitcolor\": \"white\"}, \"hovermode\": \"closest\", \"mapbox\": {\"style\": \"light\"}, \"paper_bgcolor\": \"white\", \"plot_bgcolor\": \"#E5ECF6\", \"polar\": {\"angularaxis\": {\"gridcolor\": \"white\", \"linecolor\": \"white\", \"ticks\": \"\"}, \"bgcolor\": \"#E5ECF6\", \"radialaxis\": {\"gridcolor\": \"white\", \"linecolor\": \"white\", \"ticks\": \"\"}}, \"scene\": {\"xaxis\": {\"backgroundcolor\": \"#E5ECF6\", \"gridcolor\": \"white\", \"gridwidth\": 2, \"linecolor\": \"white\", \"showbackground\": true, \"ticks\": \"\", \"zerolinecolor\": \"white\"}, \"yaxis\": {\"backgroundcolor\": \"#E5ECF6\", \"gridcolor\": \"white\", \"gridwidth\": 2, \"linecolor\": \"white\", \"showbackground\": true, \"ticks\": \"\", \"zerolinecolor\": \"white\"}, \"zaxis\": {\"backgroundcolor\": \"#E5ECF6\", \"gridcolor\": \"white\", \"gridwidth\": 2, \"linecolor\": \"white\", \"showbackground\": true, \"ticks\": \"\", \"zerolinecolor\": \"white\"}}, \"shapedefaults\": {\"fillcolor\": \"#506784\", \"line\": {\"width\": 0}, \"opacity\": 0.4}, \"ternary\": {\"aaxis\": {\"gridcolor\": \"white\", \"linecolor\": \"white\", \"ticks\": \"\"}, \"baxis\": {\"gridcolor\": \"white\", \"linecolor\": \"white\", \"ticks\": \"\"}, \"bgcolor\": \"#E5ECF6\", \"caxis\": {\"gridcolor\": \"white\", \"linecolor\": \"white\", \"ticks\": \"\"}}, \"title\": {\"x\": 0.05}, \"xaxis\": {\"automargin\": true, \"gridcolor\": \"white\", \"linecolor\": \"white\", \"ticks\": \"\", \"zerolinecolor\": \"white\", \"zerolinewidth\": 2}, \"yaxis\": {\"automargin\": true, \"gridcolor\": \"white\", \"linecolor\": \"white\", \"ticks\": \"\", \"zerolinecolor\": \"white\", \"zerolinewidth\": 2}}}, \"polar\": {\"angularaxis\": {\"direction\": \"clockwise\", \"rotation\": 90}}}, {\"showLink\": false, \"linkText\": \"Export to plot.ly\", \"plotlyServerURL\": \"https://plot.ly\"}); \n",
       "}\n",
       "});</script><script type=\"text/javascript\">window.addEventListener(\"resize\", function(){if (document.getElementById(\"80c9ac1f-7f67-4980-8534-8e5ad673f950\")) {window._Plotly.Plots.resize(document.getElementById(\"80c9ac1f-7f67-4980-8534-8e5ad673f950\"));};})</script>"
      ],
      "text/vnd.plotly.v1+html": [
       "<div id=\"80c9ac1f-7f67-4980-8534-8e5ad673f950\" style=\"height: 600px; width: 100%;\" class=\"plotly-graph-div\"></div><script type=\"text/javascript\">require([\"plotly\"], function(Plotly) { window.PLOTLYENV=window.PLOTLYENV || {};window.PLOTLYENV.BASE_URL=\"https://plot.ly\";\n",
       "if (document.getElementById(\"80c9ac1f-7f67-4980-8534-8e5ad673f950\")) {\n",
       "    Plotly.newPlot(\"80c9ac1f-7f67-4980-8534-8e5ad673f950\", [{\"hovertemplate\": \"\\u00bfUtilizas gafas o lentes de contacto?=No<br>counts=%{r}<br>prosume_cluster=%{theta}<extra></extra>\", \"legendgroup\": \"\\u00bfUtilizas gafas o lentes de contacto?=No\", \"marker\": {\"color\": \"rgb(213,62,79)\"}, \"name\": \"\\u00bfUtilizas gafas o lentes de contacto?=No\", \"r\": [19, 114, 67, 24, 146], \"showlegend\": true, \"theta\": [\"cluster_1\", \"cluster_2\", \"cluster_3\", \"cluster_4\", \"cluster_5\"], \"type\": \"barpolar\", \"uid\": \"0c1837cc-74a5-4efe-afd5-cad9efd9ce15\"}, {\"hovertemplate\": \"\\u00bfUtilizas gafas o lentes de contacto?=S\\u00ed<br>counts=%{r}<br>prosume_cluster=%{theta}<extra></extra>\", \"legendgroup\": \"\\u00bfUtilizas gafas o lentes de contacto?=S\\u00ed\", \"marker\": {\"color\": \"rgb(252,141,89)\"}, \"name\": \"\\u00bfUtilizas gafas o lentes de contacto?=S\\u00ed\", \"r\": [18, 82, 33, 74, 190], \"showlegend\": true, \"theta\": [\"cluster_1\", \"cluster_2\", \"cluster_3\", \"cluster_4\", \"cluster_5\"], \"type\": \"barpolar\", \"uid\": \"ff6fd878-7de5-4d70-8c7d-6f00807637a0\"}], {\"barmode\": \"group\", \"barnorm\": \"\", \"height\": 600, \"legend\": {\"tracegroupgap\": 0}, \"margin\": {\"t\": 60}, \"template\": {\"data\": {\"barpolar\": [{\"marker\": {\"line\": {\"color\": \"#E5ECF6\", \"width\": 0.5}}, \"type\": \"barpolar\"}], \"bar\": [{\"marker\": {\"line\": {\"color\": \"#E5ECF6\", \"width\": 0.5}}, \"type\": \"bar\"}], \"carpet\": [{\"aaxis\": {\"endlinecolor\": \"#2a3f5f\", \"gridcolor\": \"white\", \"linecolor\": \"white\", \"minorgridcolor\": \"white\", \"startlinecolor\": \"#2a3f5f\"}, \"baxis\": {\"endlinecolor\": \"#2a3f5f\", \"gridcolor\": \"white\", \"linecolor\": \"white\", \"minorgridcolor\": \"white\", \"startlinecolor\": \"#2a3f5f\"}, \"type\": \"carpet\"}], \"choropleth\": [{\"colorbar\": {\"outlinewidth\": 0, \"ticks\": \"\"}, \"type\": \"choropleth\"}], \"contourcarpet\": [{\"colorbar\": {\"outlinewidth\": 0, \"ticks\": \"\"}, \"type\": \"contourcarpet\"}], \"contour\": [{\"autocolorscale\": true, \"colorbar\": {\"outlinewidth\": 0, \"ticks\": \"\"}, \"type\": \"contour\"}], \"heatmapgl\": [{\"colorbar\": {\"outlinewidth\": 0, \"ticks\": \"\"}, \"type\": \"heatmapgl\"}], \"heatmap\": [{\"autocolorscale\": true, \"colorbar\": {\"outlinewidth\": 0, \"ticks\": \"\"}, \"type\": \"heatmap\"}], \"histogram2dcontour\": [{\"autocolorscale\": true, \"colorbar\": {\"outlinewidth\": 0, \"ticks\": \"\"}, \"type\": \"histogram2dcontour\"}], \"histogram2d\": [{\"autocolorscale\": true, \"colorbar\": {\"outlinewidth\": 0, \"ticks\": \"\"}, \"type\": \"histogram2d\"}], \"histogram\": [{\"marker\": {\"colorbar\": {\"outlinewidth\": 0, \"ticks\": \"\"}}, \"type\": \"histogram\"}], \"mesh3d\": [{\"colorbar\": {\"outlinewidth\": 0, \"ticks\": \"\"}, \"type\": \"mesh3d\"}], \"parcoords\": [{\"line\": {\"colorbar\": {\"outlinewidth\": 0, \"ticks\": \"\"}}, \"type\": \"parcoords\"}], \"scatter3d\": [{\"marker\": {\"colorbar\": {\"outlinewidth\": 0, \"ticks\": \"\"}}, \"type\": \"scatter3d\"}], \"scattercarpet\": [{\"marker\": {\"colorbar\": {\"outlinewidth\": 0, \"ticks\": \"\"}}, \"type\": \"scattercarpet\"}], \"scattergeo\": [{\"marker\": {\"colorbar\": {\"outlinewidth\": 0, \"ticks\": \"\"}}, \"type\": \"scattergeo\"}], \"scattergl\": [{\"marker\": {\"colorbar\": {\"outlinewidth\": 0, \"ticks\": \"\"}}, \"type\": \"scattergl\"}], \"scattermapbox\": [{\"marker\": {\"colorbar\": {\"outlinewidth\": 0, \"ticks\": \"\"}}, \"type\": \"scattermapbox\"}], \"scatterpolargl\": [{\"marker\": {\"colorbar\": {\"outlinewidth\": 0, \"ticks\": \"\"}}, \"type\": \"scatterpolargl\"}], \"scatterpolar\": [{\"marker\": {\"colorbar\": {\"outlinewidth\": 0, \"ticks\": \"\"}}, \"type\": \"scatterpolar\"}], \"scatter\": [{\"marker\": {\"colorbar\": {\"outlinewidth\": 0, \"ticks\": \"\"}}, \"type\": \"scatter\"}], \"scatterternary\": [{\"marker\": {\"colorbar\": {\"outlinewidth\": 0, \"ticks\": \"\"}}, \"type\": \"scatterternary\"}], \"surface\": [{\"colorbar\": {\"outlinewidth\": 0, \"ticks\": \"\"}, \"type\": \"surface\"}], \"table\": [{\"cells\": {\"fill\": {\"color\": \"#EBF0F8\"}, \"line\": {\"color\": \"white\"}}, \"header\": {\"fill\": {\"color\": \"#C8D4E3\"}, \"line\": {\"color\": \"white\"}}, \"type\": \"table\"}]}, \"layout\": {\"annotationdefaults\": {\"arrowcolor\": \"#506784\", \"arrowhead\": 0, \"arrowwidth\": 1}, \"colorscale\": {\"diverging\": [[0, \"#8e0152\"], [0.1, \"#c51b7d\"], [0.2, \"#de77ae\"], [0.3, \"#f1b6da\"], [0.4, \"#fde0ef\"], [0.5, \"#f7f7f7\"], [0.6, \"#e6f5d0\"], [0.7, \"#b8e186\"], [0.8, \"#7fbc41\"], [0.9, \"#4d9221\"], [1, \"#276419\"]], \"sequential\": [[0.0, \"#0508b8\"], [0.0893854748603352, \"#1910d8\"], [0.1787709497206704, \"#3c19f0\"], [0.2681564245810056, \"#6b1cfb\"], [0.3575418994413408, \"#981cfd\"], [0.44692737430167595, \"#bf1cfd\"], [0.5363128491620112, \"#dd2bfd\"], [0.6256983240223464, \"#f246fe\"], [0.7150837988826816, \"#fc67fd\"], [0.8044692737430168, \"#fe88fc\"], [0.8938547486033519, \"#fea5fd\"], [0.9832402234636871, \"#febefe\"], [1.0, \"#fec3fe\"]], \"sequentialminus\": [[0.0, \"#0508b8\"], [0.0893854748603352, \"#1910d8\"], [0.1787709497206704, \"#3c19f0\"], [0.2681564245810056, \"#6b1cfb\"], [0.3575418994413408, \"#981cfd\"], [0.44692737430167595, \"#bf1cfd\"], [0.5363128491620112, \"#dd2bfd\"], [0.6256983240223464, \"#f246fe\"], [0.7150837988826816, \"#fc67fd\"], [0.8044692737430168, \"#fe88fc\"], [0.8938547486033519, \"#fea5fd\"], [0.9832402234636871, \"#febefe\"], [1.0, \"#fec3fe\"]]}, \"colorway\": [\"#636efa\", \"#EF553B\", \"#00cc96\", \"#ab63fa\", \"#19d3f3\", \"#e763fa\", \"#FECB52\", \"#FFA15A\", \"#FF6692\", \"#B6E880\"], \"font\": {\"color\": \"#2a3f5f\"}, \"geo\": {\"bgcolor\": \"white\", \"lakecolor\": \"white\", \"landcolor\": \"#E5ECF6\", \"showlakes\": true, \"showland\": true, \"subunitcolor\": \"white\"}, \"hovermode\": \"closest\", \"mapbox\": {\"style\": \"light\"}, \"paper_bgcolor\": \"white\", \"plot_bgcolor\": \"#E5ECF6\", \"polar\": {\"angularaxis\": {\"gridcolor\": \"white\", \"linecolor\": \"white\", \"ticks\": \"\"}, \"bgcolor\": \"#E5ECF6\", \"radialaxis\": {\"gridcolor\": \"white\", \"linecolor\": \"white\", \"ticks\": \"\"}}, \"scene\": {\"xaxis\": {\"backgroundcolor\": \"#E5ECF6\", \"gridcolor\": \"white\", \"gridwidth\": 2, \"linecolor\": \"white\", \"showbackground\": true, \"ticks\": \"\", \"zerolinecolor\": \"white\"}, \"yaxis\": {\"backgroundcolor\": \"#E5ECF6\", \"gridcolor\": \"white\", \"gridwidth\": 2, \"linecolor\": \"white\", \"showbackground\": true, \"ticks\": \"\", \"zerolinecolor\": \"white\"}, \"zaxis\": {\"backgroundcolor\": \"#E5ECF6\", \"gridcolor\": \"white\", \"gridwidth\": 2, \"linecolor\": \"white\", \"showbackground\": true, \"ticks\": \"\", \"zerolinecolor\": \"white\"}}, \"shapedefaults\": {\"fillcolor\": \"#506784\", \"line\": {\"width\": 0}, \"opacity\": 0.4}, \"ternary\": {\"aaxis\": {\"gridcolor\": \"white\", \"linecolor\": \"white\", \"ticks\": \"\"}, \"baxis\": {\"gridcolor\": \"white\", \"linecolor\": \"white\", \"ticks\": \"\"}, \"bgcolor\": \"#E5ECF6\", \"caxis\": {\"gridcolor\": \"white\", \"linecolor\": \"white\", \"ticks\": \"\"}}, \"title\": {\"x\": 0.05}, \"xaxis\": {\"automargin\": true, \"gridcolor\": \"white\", \"linecolor\": \"white\", \"ticks\": \"\", \"zerolinecolor\": \"white\", \"zerolinewidth\": 2}, \"yaxis\": {\"automargin\": true, \"gridcolor\": \"white\", \"linecolor\": \"white\", \"ticks\": \"\", \"zerolinecolor\": \"white\", \"zerolinewidth\": 2}}}, \"polar\": {\"angularaxis\": {\"direction\": \"clockwise\", \"rotation\": 90}}}, {\"showLink\": false, \"linkText\": \"Export to plot.ly\", \"plotlyServerURL\": \"https://plot.ly\"}); \n",
       "}\n",
       "});</script><script type=\"text/javascript\">window.addEventListener(\"resize\", function(){if (document.getElementById(\"80c9ac1f-7f67-4980-8534-8e5ad673f950\")) {window._Plotly.Plots.resize(document.getElementById(\"80c9ac1f-7f67-4980-8534-8e5ad673f950\"));};})</script>"
      ]
     },
     "metadata": {},
     "output_type": "display_data"
    },
    {
     "name": "stdout",
     "output_type": "stream",
     "text": [
      "Comparando la pregunta ¿Tienes alguna carencia visual que afecte a la recepción de formas, colores, distancias, etc.?\n"
     ]
    },
    {
     "data": {
      "application/vnd.plotly.v1+json": {
       "config": {
        "linkText": "Export to plot.ly",
        "plotlyServerURL": "https://plot.ly",
        "showLink": false
       },
       "data": [
        {
         "hovertemplate": "¿Tienes alguna carencia visual que afecte a la recepción de formas, colores, distancias, etc.?=No<br>counts=%{r}<br>prosume_cluster=%{theta}<extra></extra>",
         "legendgroup": "¿Tienes alguna carencia visual que afecte a la recepción de formas, colores, distancias, etc.?=No",
         "marker": {
          "color": "rgb(213,62,79)"
         },
         "name": "¿Tienes alguna carencia visual que afecte a la recepción de formas, colores, distancias, etc.?=No",
         "r": [
          19,
          182,
          84,
          57,
          305
         ],
         "showlegend": true,
         "theta": [
          "cluster_1",
          "cluster_2",
          "cluster_3",
          "cluster_4",
          "cluster_5"
         ],
         "type": "barpolar",
         "uid": "91885e31-ffa5-4cfb-86a5-658fcc0e4b7f"
        },
        {
         "hovertemplate": "¿Tienes alguna carencia visual que afecte a la recepción de formas, colores, distancias, etc.?=Sí<br>counts=%{r}<br>prosume_cluster=%{theta}<extra></extra>",
         "legendgroup": "¿Tienes alguna carencia visual que afecte a la recepción de formas, colores, distancias, etc.?=Sí",
         "marker": {
          "color": "rgb(252,141,89)"
         },
         "name": "¿Tienes alguna carencia visual que afecte a la recepción de formas, colores, distancias, etc.?=Sí",
         "r": [
          18,
          14,
          16,
          41,
          31
         ],
         "showlegend": true,
         "theta": [
          "cluster_1",
          "cluster_2",
          "cluster_3",
          "cluster_4",
          "cluster_5"
         ],
         "type": "barpolar",
         "uid": "711ecdc5-dd1d-46ef-a215-7451e89d50df"
        }
       ],
       "layout": {
        "barmode": "group",
        "barnorm": "",
        "height": 600,
        "legend": {
         "tracegroupgap": 0
        },
        "margin": {
         "t": 60
        },
        "polar": {
         "angularaxis": {
          "direction": "clockwise",
          "rotation": 90
         }
        },
        "template": {
         "data": {
          "bar": [
           {
            "marker": {
             "line": {
              "color": "#E5ECF6",
              "width": 0.5
             }
            },
            "type": "bar"
           }
          ],
          "barpolar": [
           {
            "marker": {
             "line": {
              "color": "#E5ECF6",
              "width": 0.5
             }
            },
            "type": "barpolar"
           }
          ],
          "carpet": [
           {
            "aaxis": {
             "endlinecolor": "#2a3f5f",
             "gridcolor": "white",
             "linecolor": "white",
             "minorgridcolor": "white",
             "startlinecolor": "#2a3f5f"
            },
            "baxis": {
             "endlinecolor": "#2a3f5f",
             "gridcolor": "white",
             "linecolor": "white",
             "minorgridcolor": "white",
             "startlinecolor": "#2a3f5f"
            },
            "type": "carpet"
           }
          ],
          "choropleth": [
           {
            "colorbar": {
             "outlinewidth": 0,
             "ticks": ""
            },
            "type": "choropleth"
           }
          ],
          "contour": [
           {
            "autocolorscale": true,
            "colorbar": {
             "outlinewidth": 0,
             "ticks": ""
            },
            "type": "contour"
           }
          ],
          "contourcarpet": [
           {
            "colorbar": {
             "outlinewidth": 0,
             "ticks": ""
            },
            "type": "contourcarpet"
           }
          ],
          "heatmap": [
           {
            "autocolorscale": true,
            "colorbar": {
             "outlinewidth": 0,
             "ticks": ""
            },
            "type": "heatmap"
           }
          ],
          "heatmapgl": [
           {
            "colorbar": {
             "outlinewidth": 0,
             "ticks": ""
            },
            "type": "heatmapgl"
           }
          ],
          "histogram": [
           {
            "marker": {
             "colorbar": {
              "outlinewidth": 0,
              "ticks": ""
             }
            },
            "type": "histogram"
           }
          ],
          "histogram2d": [
           {
            "autocolorscale": true,
            "colorbar": {
             "outlinewidth": 0,
             "ticks": ""
            },
            "type": "histogram2d"
           }
          ],
          "histogram2dcontour": [
           {
            "autocolorscale": true,
            "colorbar": {
             "outlinewidth": 0,
             "ticks": ""
            },
            "type": "histogram2dcontour"
           }
          ],
          "mesh3d": [
           {
            "colorbar": {
             "outlinewidth": 0,
             "ticks": ""
            },
            "type": "mesh3d"
           }
          ],
          "parcoords": [
           {
            "line": {
             "colorbar": {
              "outlinewidth": 0,
              "ticks": ""
             }
            },
            "type": "parcoords"
           }
          ],
          "scatter": [
           {
            "marker": {
             "colorbar": {
              "outlinewidth": 0,
              "ticks": ""
             }
            },
            "type": "scatter"
           }
          ],
          "scatter3d": [
           {
            "marker": {
             "colorbar": {
              "outlinewidth": 0,
              "ticks": ""
             }
            },
            "type": "scatter3d"
           }
          ],
          "scattercarpet": [
           {
            "marker": {
             "colorbar": {
              "outlinewidth": 0,
              "ticks": ""
             }
            },
            "type": "scattercarpet"
           }
          ],
          "scattergeo": [
           {
            "marker": {
             "colorbar": {
              "outlinewidth": 0,
              "ticks": ""
             }
            },
            "type": "scattergeo"
           }
          ],
          "scattergl": [
           {
            "marker": {
             "colorbar": {
              "outlinewidth": 0,
              "ticks": ""
             }
            },
            "type": "scattergl"
           }
          ],
          "scattermapbox": [
           {
            "marker": {
             "colorbar": {
              "outlinewidth": 0,
              "ticks": ""
             }
            },
            "type": "scattermapbox"
           }
          ],
          "scatterpolar": [
           {
            "marker": {
             "colorbar": {
              "outlinewidth": 0,
              "ticks": ""
             }
            },
            "type": "scatterpolar"
           }
          ],
          "scatterpolargl": [
           {
            "marker": {
             "colorbar": {
              "outlinewidth": 0,
              "ticks": ""
             }
            },
            "type": "scatterpolargl"
           }
          ],
          "scatterternary": [
           {
            "marker": {
             "colorbar": {
              "outlinewidth": 0,
              "ticks": ""
             }
            },
            "type": "scatterternary"
           }
          ],
          "surface": [
           {
            "colorbar": {
             "outlinewidth": 0,
             "ticks": ""
            },
            "type": "surface"
           }
          ],
          "table": [
           {
            "cells": {
             "fill": {
              "color": "#EBF0F8"
             },
             "line": {
              "color": "white"
             }
            },
            "header": {
             "fill": {
              "color": "#C8D4E3"
             },
             "line": {
              "color": "white"
             }
            },
            "type": "table"
           }
          ]
         },
         "layout": {
          "annotationdefaults": {
           "arrowcolor": "#506784",
           "arrowhead": 0,
           "arrowwidth": 1
          },
          "colorscale": {
           "diverging": [
            [
             0,
             "#8e0152"
            ],
            [
             0.1,
             "#c51b7d"
            ],
            [
             0.2,
             "#de77ae"
            ],
            [
             0.3,
             "#f1b6da"
            ],
            [
             0.4,
             "#fde0ef"
            ],
            [
             0.5,
             "#f7f7f7"
            ],
            [
             0.6,
             "#e6f5d0"
            ],
            [
             0.7,
             "#b8e186"
            ],
            [
             0.8,
             "#7fbc41"
            ],
            [
             0.9,
             "#4d9221"
            ],
            [
             1,
             "#276419"
            ]
           ],
           "sequential": [
            [
             0,
             "#0508b8"
            ],
            [
             0.0893854748603352,
             "#1910d8"
            ],
            [
             0.1787709497206704,
             "#3c19f0"
            ],
            [
             0.2681564245810056,
             "#6b1cfb"
            ],
            [
             0.3575418994413408,
             "#981cfd"
            ],
            [
             0.44692737430167595,
             "#bf1cfd"
            ],
            [
             0.5363128491620112,
             "#dd2bfd"
            ],
            [
             0.6256983240223464,
             "#f246fe"
            ],
            [
             0.7150837988826816,
             "#fc67fd"
            ],
            [
             0.8044692737430168,
             "#fe88fc"
            ],
            [
             0.8938547486033519,
             "#fea5fd"
            ],
            [
             0.9832402234636871,
             "#febefe"
            ],
            [
             1,
             "#fec3fe"
            ]
           ],
           "sequentialminus": [
            [
             0,
             "#0508b8"
            ],
            [
             0.0893854748603352,
             "#1910d8"
            ],
            [
             0.1787709497206704,
             "#3c19f0"
            ],
            [
             0.2681564245810056,
             "#6b1cfb"
            ],
            [
             0.3575418994413408,
             "#981cfd"
            ],
            [
             0.44692737430167595,
             "#bf1cfd"
            ],
            [
             0.5363128491620112,
             "#dd2bfd"
            ],
            [
             0.6256983240223464,
             "#f246fe"
            ],
            [
             0.7150837988826816,
             "#fc67fd"
            ],
            [
             0.8044692737430168,
             "#fe88fc"
            ],
            [
             0.8938547486033519,
             "#fea5fd"
            ],
            [
             0.9832402234636871,
             "#febefe"
            ],
            [
             1,
             "#fec3fe"
            ]
           ]
          },
          "colorway": [
           "#636efa",
           "#EF553B",
           "#00cc96",
           "#ab63fa",
           "#19d3f3",
           "#e763fa",
           "#FECB52",
           "#FFA15A",
           "#FF6692",
           "#B6E880"
          ],
          "font": {
           "color": "#2a3f5f"
          },
          "geo": {
           "bgcolor": "white",
           "lakecolor": "white",
           "landcolor": "#E5ECF6",
           "showlakes": true,
           "showland": true,
           "subunitcolor": "white"
          },
          "hovermode": "closest",
          "mapbox": {
           "style": "light"
          },
          "paper_bgcolor": "white",
          "plot_bgcolor": "#E5ECF6",
          "polar": {
           "angularaxis": {
            "gridcolor": "white",
            "linecolor": "white",
            "ticks": ""
           },
           "bgcolor": "#E5ECF6",
           "radialaxis": {
            "gridcolor": "white",
            "linecolor": "white",
            "ticks": ""
           }
          },
          "scene": {
           "xaxis": {
            "backgroundcolor": "#E5ECF6",
            "gridcolor": "white",
            "gridwidth": 2,
            "linecolor": "white",
            "showbackground": true,
            "ticks": "",
            "zerolinecolor": "white"
           },
           "yaxis": {
            "backgroundcolor": "#E5ECF6",
            "gridcolor": "white",
            "gridwidth": 2,
            "linecolor": "white",
            "showbackground": true,
            "ticks": "",
            "zerolinecolor": "white"
           },
           "zaxis": {
            "backgroundcolor": "#E5ECF6",
            "gridcolor": "white",
            "gridwidth": 2,
            "linecolor": "white",
            "showbackground": true,
            "ticks": "",
            "zerolinecolor": "white"
           }
          },
          "shapedefaults": {
           "fillcolor": "#506784",
           "line": {
            "width": 0
           },
           "opacity": 0.4
          },
          "ternary": {
           "aaxis": {
            "gridcolor": "white",
            "linecolor": "white",
            "ticks": ""
           },
           "baxis": {
            "gridcolor": "white",
            "linecolor": "white",
            "ticks": ""
           },
           "bgcolor": "#E5ECF6",
           "caxis": {
            "gridcolor": "white",
            "linecolor": "white",
            "ticks": ""
           }
          },
          "title": {
           "x": 0.05
          },
          "xaxis": {
           "automargin": true,
           "gridcolor": "white",
           "linecolor": "white",
           "ticks": "",
           "zerolinecolor": "white",
           "zerolinewidth": 2
          },
          "yaxis": {
           "automargin": true,
           "gridcolor": "white",
           "linecolor": "white",
           "ticks": "",
           "zerolinecolor": "white",
           "zerolinewidth": 2
          }
         }
        }
       }
      },
      "text/html": [
       "<div id=\"817dcac7-d690-4b67-b5e6-84206cd9deb6\" style=\"height: 600px; width: 100%;\" class=\"plotly-graph-div\"></div><script type=\"text/javascript\">require([\"plotly\"], function(Plotly) { window.PLOTLYENV=window.PLOTLYENV || {};window.PLOTLYENV.BASE_URL=\"https://plot.ly\";\n",
       "if (document.getElementById(\"817dcac7-d690-4b67-b5e6-84206cd9deb6\")) {\n",
       "    Plotly.newPlot(\"817dcac7-d690-4b67-b5e6-84206cd9deb6\", [{\"hovertemplate\": \"\\u00bfTienes alguna carencia visual que afecte a la recepci\\u00f3n de formas, colores, distancias, etc.?=No<br>counts=%{r}<br>prosume_cluster=%{theta}<extra></extra>\", \"legendgroup\": \"\\u00bfTienes alguna carencia visual que afecte a la recepci\\u00f3n de formas, colores, distancias, etc.?=No\", \"marker\": {\"color\": \"rgb(213,62,79)\"}, \"name\": \"\\u00bfTienes alguna carencia visual que afecte a la recepci\\u00f3n de formas, colores, distancias, etc.?=No\", \"r\": [19, 182, 84, 57, 305], \"showlegend\": true, \"theta\": [\"cluster_1\", \"cluster_2\", \"cluster_3\", \"cluster_4\", \"cluster_5\"], \"type\": \"barpolar\", \"uid\": \"91885e31-ffa5-4cfb-86a5-658fcc0e4b7f\"}, {\"hovertemplate\": \"\\u00bfTienes alguna carencia visual que afecte a la recepci\\u00f3n de formas, colores, distancias, etc.?=S\\u00ed<br>counts=%{r}<br>prosume_cluster=%{theta}<extra></extra>\", \"legendgroup\": \"\\u00bfTienes alguna carencia visual que afecte a la recepci\\u00f3n de formas, colores, distancias, etc.?=S\\u00ed\", \"marker\": {\"color\": \"rgb(252,141,89)\"}, \"name\": \"\\u00bfTienes alguna carencia visual que afecte a la recepci\\u00f3n de formas, colores, distancias, etc.?=S\\u00ed\", \"r\": [18, 14, 16, 41, 31], \"showlegend\": true, \"theta\": [\"cluster_1\", \"cluster_2\", \"cluster_3\", \"cluster_4\", \"cluster_5\"], \"type\": \"barpolar\", \"uid\": \"711ecdc5-dd1d-46ef-a215-7451e89d50df\"}], {\"barmode\": \"group\", \"barnorm\": \"\", \"height\": 600, \"legend\": {\"tracegroupgap\": 0}, \"margin\": {\"t\": 60}, \"template\": {\"data\": {\"barpolar\": [{\"marker\": {\"line\": {\"color\": \"#E5ECF6\", \"width\": 0.5}}, \"type\": \"barpolar\"}], \"bar\": [{\"marker\": {\"line\": {\"color\": \"#E5ECF6\", \"width\": 0.5}}, \"type\": \"bar\"}], \"carpet\": [{\"aaxis\": {\"endlinecolor\": \"#2a3f5f\", \"gridcolor\": \"white\", \"linecolor\": \"white\", \"minorgridcolor\": \"white\", \"startlinecolor\": \"#2a3f5f\"}, \"baxis\": {\"endlinecolor\": \"#2a3f5f\", \"gridcolor\": \"white\", \"linecolor\": \"white\", \"minorgridcolor\": \"white\", \"startlinecolor\": \"#2a3f5f\"}, \"type\": \"carpet\"}], \"choropleth\": [{\"colorbar\": {\"outlinewidth\": 0, \"ticks\": \"\"}, \"type\": \"choropleth\"}], \"contourcarpet\": [{\"colorbar\": {\"outlinewidth\": 0, \"ticks\": \"\"}, \"type\": \"contourcarpet\"}], \"contour\": [{\"autocolorscale\": true, \"colorbar\": {\"outlinewidth\": 0, \"ticks\": \"\"}, \"type\": \"contour\"}], \"heatmapgl\": [{\"colorbar\": {\"outlinewidth\": 0, \"ticks\": \"\"}, \"type\": \"heatmapgl\"}], \"heatmap\": [{\"autocolorscale\": true, \"colorbar\": {\"outlinewidth\": 0, \"ticks\": \"\"}, \"type\": \"heatmap\"}], \"histogram2dcontour\": [{\"autocolorscale\": true, \"colorbar\": {\"outlinewidth\": 0, \"ticks\": \"\"}, \"type\": \"histogram2dcontour\"}], \"histogram2d\": [{\"autocolorscale\": true, \"colorbar\": {\"outlinewidth\": 0, \"ticks\": \"\"}, \"type\": \"histogram2d\"}], \"histogram\": [{\"marker\": {\"colorbar\": {\"outlinewidth\": 0, \"ticks\": \"\"}}, \"type\": \"histogram\"}], \"mesh3d\": [{\"colorbar\": {\"outlinewidth\": 0, \"ticks\": \"\"}, \"type\": \"mesh3d\"}], \"parcoords\": [{\"line\": {\"colorbar\": {\"outlinewidth\": 0, \"ticks\": \"\"}}, \"type\": \"parcoords\"}], \"scatter3d\": [{\"marker\": {\"colorbar\": {\"outlinewidth\": 0, \"ticks\": \"\"}}, \"type\": \"scatter3d\"}], \"scattercarpet\": [{\"marker\": {\"colorbar\": {\"outlinewidth\": 0, \"ticks\": \"\"}}, \"type\": \"scattercarpet\"}], \"scattergeo\": [{\"marker\": {\"colorbar\": {\"outlinewidth\": 0, \"ticks\": \"\"}}, \"type\": \"scattergeo\"}], \"scattergl\": [{\"marker\": {\"colorbar\": {\"outlinewidth\": 0, \"ticks\": \"\"}}, \"type\": \"scattergl\"}], \"scattermapbox\": [{\"marker\": {\"colorbar\": {\"outlinewidth\": 0, \"ticks\": \"\"}}, \"type\": \"scattermapbox\"}], \"scatterpolargl\": [{\"marker\": {\"colorbar\": {\"outlinewidth\": 0, \"ticks\": \"\"}}, \"type\": \"scatterpolargl\"}], \"scatterpolar\": [{\"marker\": {\"colorbar\": {\"outlinewidth\": 0, \"ticks\": \"\"}}, \"type\": \"scatterpolar\"}], \"scatter\": [{\"marker\": {\"colorbar\": {\"outlinewidth\": 0, \"ticks\": \"\"}}, \"type\": \"scatter\"}], \"scatterternary\": [{\"marker\": {\"colorbar\": {\"outlinewidth\": 0, \"ticks\": \"\"}}, \"type\": \"scatterternary\"}], \"surface\": [{\"colorbar\": {\"outlinewidth\": 0, \"ticks\": \"\"}, \"type\": \"surface\"}], \"table\": [{\"cells\": {\"fill\": {\"color\": \"#EBF0F8\"}, \"line\": {\"color\": \"white\"}}, \"header\": {\"fill\": {\"color\": \"#C8D4E3\"}, \"line\": {\"color\": \"white\"}}, \"type\": \"table\"}]}, \"layout\": {\"annotationdefaults\": {\"arrowcolor\": \"#506784\", \"arrowhead\": 0, \"arrowwidth\": 1}, \"colorscale\": {\"diverging\": [[0, \"#8e0152\"], [0.1, \"#c51b7d\"], [0.2, \"#de77ae\"], [0.3, \"#f1b6da\"], [0.4, \"#fde0ef\"], [0.5, \"#f7f7f7\"], [0.6, \"#e6f5d0\"], [0.7, \"#b8e186\"], [0.8, \"#7fbc41\"], [0.9, \"#4d9221\"], [1, \"#276419\"]], \"sequential\": [[0.0, \"#0508b8\"], [0.0893854748603352, \"#1910d8\"], [0.1787709497206704, \"#3c19f0\"], [0.2681564245810056, \"#6b1cfb\"], [0.3575418994413408, \"#981cfd\"], [0.44692737430167595, \"#bf1cfd\"], [0.5363128491620112, \"#dd2bfd\"], [0.6256983240223464, \"#f246fe\"], [0.7150837988826816, \"#fc67fd\"], [0.8044692737430168, \"#fe88fc\"], [0.8938547486033519, \"#fea5fd\"], [0.9832402234636871, \"#febefe\"], [1.0, \"#fec3fe\"]], \"sequentialminus\": [[0.0, \"#0508b8\"], [0.0893854748603352, \"#1910d8\"], [0.1787709497206704, \"#3c19f0\"], [0.2681564245810056, \"#6b1cfb\"], [0.3575418994413408, \"#981cfd\"], [0.44692737430167595, \"#bf1cfd\"], [0.5363128491620112, \"#dd2bfd\"], [0.6256983240223464, \"#f246fe\"], [0.7150837988826816, \"#fc67fd\"], [0.8044692737430168, \"#fe88fc\"], [0.8938547486033519, \"#fea5fd\"], [0.9832402234636871, \"#febefe\"], [1.0, \"#fec3fe\"]]}, \"colorway\": [\"#636efa\", \"#EF553B\", \"#00cc96\", \"#ab63fa\", \"#19d3f3\", \"#e763fa\", \"#FECB52\", \"#FFA15A\", \"#FF6692\", \"#B6E880\"], \"font\": {\"color\": \"#2a3f5f\"}, \"geo\": {\"bgcolor\": \"white\", \"lakecolor\": \"white\", \"landcolor\": \"#E5ECF6\", \"showlakes\": true, \"showland\": true, \"subunitcolor\": \"white\"}, \"hovermode\": \"closest\", \"mapbox\": {\"style\": \"light\"}, \"paper_bgcolor\": \"white\", \"plot_bgcolor\": \"#E5ECF6\", \"polar\": {\"angularaxis\": {\"gridcolor\": \"white\", \"linecolor\": \"white\", \"ticks\": \"\"}, \"bgcolor\": \"#E5ECF6\", \"radialaxis\": {\"gridcolor\": \"white\", \"linecolor\": \"white\", \"ticks\": \"\"}}, \"scene\": {\"xaxis\": {\"backgroundcolor\": \"#E5ECF6\", \"gridcolor\": \"white\", \"gridwidth\": 2, \"linecolor\": \"white\", \"showbackground\": true, \"ticks\": \"\", \"zerolinecolor\": \"white\"}, \"yaxis\": {\"backgroundcolor\": \"#E5ECF6\", \"gridcolor\": \"white\", \"gridwidth\": 2, \"linecolor\": \"white\", \"showbackground\": true, \"ticks\": \"\", \"zerolinecolor\": \"white\"}, \"zaxis\": {\"backgroundcolor\": \"#E5ECF6\", \"gridcolor\": \"white\", \"gridwidth\": 2, \"linecolor\": \"white\", \"showbackground\": true, \"ticks\": \"\", \"zerolinecolor\": \"white\"}}, \"shapedefaults\": {\"fillcolor\": \"#506784\", \"line\": {\"width\": 0}, \"opacity\": 0.4}, \"ternary\": {\"aaxis\": {\"gridcolor\": \"white\", \"linecolor\": \"white\", \"ticks\": \"\"}, \"baxis\": {\"gridcolor\": \"white\", \"linecolor\": \"white\", \"ticks\": \"\"}, \"bgcolor\": \"#E5ECF6\", \"caxis\": {\"gridcolor\": \"white\", \"linecolor\": \"white\", \"ticks\": \"\"}}, \"title\": {\"x\": 0.05}, \"xaxis\": {\"automargin\": true, \"gridcolor\": \"white\", \"linecolor\": \"white\", \"ticks\": \"\", \"zerolinecolor\": \"white\", \"zerolinewidth\": 2}, \"yaxis\": {\"automargin\": true, \"gridcolor\": \"white\", \"linecolor\": \"white\", \"ticks\": \"\", \"zerolinecolor\": \"white\", \"zerolinewidth\": 2}}}, \"polar\": {\"angularaxis\": {\"direction\": \"clockwise\", \"rotation\": 90}}}, {\"showLink\": false, \"linkText\": \"Export to plot.ly\", \"plotlyServerURL\": \"https://plot.ly\"}); \n",
       "}\n",
       "});</script><script type=\"text/javascript\">window.addEventListener(\"resize\", function(){if (document.getElementById(\"817dcac7-d690-4b67-b5e6-84206cd9deb6\")) {window._Plotly.Plots.resize(document.getElementById(\"817dcac7-d690-4b67-b5e6-84206cd9deb6\"));};})</script>"
      ],
      "text/vnd.plotly.v1+html": [
       "<div id=\"817dcac7-d690-4b67-b5e6-84206cd9deb6\" style=\"height: 600px; width: 100%;\" class=\"plotly-graph-div\"></div><script type=\"text/javascript\">require([\"plotly\"], function(Plotly) { window.PLOTLYENV=window.PLOTLYENV || {};window.PLOTLYENV.BASE_URL=\"https://plot.ly\";\n",
       "if (document.getElementById(\"817dcac7-d690-4b67-b5e6-84206cd9deb6\")) {\n",
       "    Plotly.newPlot(\"817dcac7-d690-4b67-b5e6-84206cd9deb6\", [{\"hovertemplate\": \"\\u00bfTienes alguna carencia visual que afecte a la recepci\\u00f3n de formas, colores, distancias, etc.?=No<br>counts=%{r}<br>prosume_cluster=%{theta}<extra></extra>\", \"legendgroup\": \"\\u00bfTienes alguna carencia visual que afecte a la recepci\\u00f3n de formas, colores, distancias, etc.?=No\", \"marker\": {\"color\": \"rgb(213,62,79)\"}, \"name\": \"\\u00bfTienes alguna carencia visual que afecte a la recepci\\u00f3n de formas, colores, distancias, etc.?=No\", \"r\": [19, 182, 84, 57, 305], \"showlegend\": true, \"theta\": [\"cluster_1\", \"cluster_2\", \"cluster_3\", \"cluster_4\", \"cluster_5\"], \"type\": \"barpolar\", \"uid\": \"91885e31-ffa5-4cfb-86a5-658fcc0e4b7f\"}, {\"hovertemplate\": \"\\u00bfTienes alguna carencia visual que afecte a la recepci\\u00f3n de formas, colores, distancias, etc.?=S\\u00ed<br>counts=%{r}<br>prosume_cluster=%{theta}<extra></extra>\", \"legendgroup\": \"\\u00bfTienes alguna carencia visual que afecte a la recepci\\u00f3n de formas, colores, distancias, etc.?=S\\u00ed\", \"marker\": {\"color\": \"rgb(252,141,89)\"}, \"name\": \"\\u00bfTienes alguna carencia visual que afecte a la recepci\\u00f3n de formas, colores, distancias, etc.?=S\\u00ed\", \"r\": [18, 14, 16, 41, 31], \"showlegend\": true, \"theta\": [\"cluster_1\", \"cluster_2\", \"cluster_3\", \"cluster_4\", \"cluster_5\"], \"type\": \"barpolar\", \"uid\": \"711ecdc5-dd1d-46ef-a215-7451e89d50df\"}], {\"barmode\": \"group\", \"barnorm\": \"\", \"height\": 600, \"legend\": {\"tracegroupgap\": 0}, \"margin\": {\"t\": 60}, \"template\": {\"data\": {\"barpolar\": [{\"marker\": {\"line\": {\"color\": \"#E5ECF6\", \"width\": 0.5}}, \"type\": \"barpolar\"}], \"bar\": [{\"marker\": {\"line\": {\"color\": \"#E5ECF6\", \"width\": 0.5}}, \"type\": \"bar\"}], \"carpet\": [{\"aaxis\": {\"endlinecolor\": \"#2a3f5f\", \"gridcolor\": \"white\", \"linecolor\": \"white\", \"minorgridcolor\": \"white\", \"startlinecolor\": \"#2a3f5f\"}, \"baxis\": {\"endlinecolor\": \"#2a3f5f\", \"gridcolor\": \"white\", \"linecolor\": \"white\", \"minorgridcolor\": \"white\", \"startlinecolor\": \"#2a3f5f\"}, \"type\": \"carpet\"}], \"choropleth\": [{\"colorbar\": {\"outlinewidth\": 0, \"ticks\": \"\"}, \"type\": \"choropleth\"}], \"contourcarpet\": [{\"colorbar\": {\"outlinewidth\": 0, \"ticks\": \"\"}, \"type\": \"contourcarpet\"}], \"contour\": [{\"autocolorscale\": true, \"colorbar\": {\"outlinewidth\": 0, \"ticks\": \"\"}, \"type\": \"contour\"}], \"heatmapgl\": [{\"colorbar\": {\"outlinewidth\": 0, \"ticks\": \"\"}, \"type\": \"heatmapgl\"}], \"heatmap\": [{\"autocolorscale\": true, \"colorbar\": {\"outlinewidth\": 0, \"ticks\": \"\"}, \"type\": \"heatmap\"}], \"histogram2dcontour\": [{\"autocolorscale\": true, \"colorbar\": {\"outlinewidth\": 0, \"ticks\": \"\"}, \"type\": \"histogram2dcontour\"}], \"histogram2d\": [{\"autocolorscale\": true, \"colorbar\": {\"outlinewidth\": 0, \"ticks\": \"\"}, \"type\": \"histogram2d\"}], \"histogram\": [{\"marker\": {\"colorbar\": {\"outlinewidth\": 0, \"ticks\": \"\"}}, \"type\": \"histogram\"}], \"mesh3d\": [{\"colorbar\": {\"outlinewidth\": 0, \"ticks\": \"\"}, \"type\": \"mesh3d\"}], \"parcoords\": [{\"line\": {\"colorbar\": {\"outlinewidth\": 0, \"ticks\": \"\"}}, \"type\": \"parcoords\"}], \"scatter3d\": [{\"marker\": {\"colorbar\": {\"outlinewidth\": 0, \"ticks\": \"\"}}, \"type\": \"scatter3d\"}], \"scattercarpet\": [{\"marker\": {\"colorbar\": {\"outlinewidth\": 0, \"ticks\": \"\"}}, \"type\": \"scattercarpet\"}], \"scattergeo\": [{\"marker\": {\"colorbar\": {\"outlinewidth\": 0, \"ticks\": \"\"}}, \"type\": \"scattergeo\"}], \"scattergl\": [{\"marker\": {\"colorbar\": {\"outlinewidth\": 0, \"ticks\": \"\"}}, \"type\": \"scattergl\"}], \"scattermapbox\": [{\"marker\": {\"colorbar\": {\"outlinewidth\": 0, \"ticks\": \"\"}}, \"type\": \"scattermapbox\"}], \"scatterpolargl\": [{\"marker\": {\"colorbar\": {\"outlinewidth\": 0, \"ticks\": \"\"}}, \"type\": \"scatterpolargl\"}], \"scatterpolar\": [{\"marker\": {\"colorbar\": {\"outlinewidth\": 0, \"ticks\": \"\"}}, \"type\": \"scatterpolar\"}], \"scatter\": [{\"marker\": {\"colorbar\": {\"outlinewidth\": 0, \"ticks\": \"\"}}, \"type\": \"scatter\"}], \"scatterternary\": [{\"marker\": {\"colorbar\": {\"outlinewidth\": 0, \"ticks\": \"\"}}, \"type\": \"scatterternary\"}], \"surface\": [{\"colorbar\": {\"outlinewidth\": 0, \"ticks\": \"\"}, \"type\": \"surface\"}], \"table\": [{\"cells\": {\"fill\": {\"color\": \"#EBF0F8\"}, \"line\": {\"color\": \"white\"}}, \"header\": {\"fill\": {\"color\": \"#C8D4E3\"}, \"line\": {\"color\": \"white\"}}, \"type\": \"table\"}]}, \"layout\": {\"annotationdefaults\": {\"arrowcolor\": \"#506784\", \"arrowhead\": 0, \"arrowwidth\": 1}, \"colorscale\": {\"diverging\": [[0, \"#8e0152\"], [0.1, \"#c51b7d\"], [0.2, \"#de77ae\"], [0.3, \"#f1b6da\"], [0.4, \"#fde0ef\"], [0.5, \"#f7f7f7\"], [0.6, \"#e6f5d0\"], [0.7, \"#b8e186\"], [0.8, \"#7fbc41\"], [0.9, \"#4d9221\"], [1, \"#276419\"]], \"sequential\": [[0.0, \"#0508b8\"], [0.0893854748603352, \"#1910d8\"], [0.1787709497206704, \"#3c19f0\"], [0.2681564245810056, \"#6b1cfb\"], [0.3575418994413408, \"#981cfd\"], [0.44692737430167595, \"#bf1cfd\"], [0.5363128491620112, \"#dd2bfd\"], [0.6256983240223464, \"#f246fe\"], [0.7150837988826816, \"#fc67fd\"], [0.8044692737430168, \"#fe88fc\"], [0.8938547486033519, \"#fea5fd\"], [0.9832402234636871, \"#febefe\"], [1.0, \"#fec3fe\"]], \"sequentialminus\": [[0.0, \"#0508b8\"], [0.0893854748603352, \"#1910d8\"], [0.1787709497206704, \"#3c19f0\"], [0.2681564245810056, \"#6b1cfb\"], [0.3575418994413408, \"#981cfd\"], [0.44692737430167595, \"#bf1cfd\"], [0.5363128491620112, \"#dd2bfd\"], [0.6256983240223464, \"#f246fe\"], [0.7150837988826816, \"#fc67fd\"], [0.8044692737430168, \"#fe88fc\"], [0.8938547486033519, \"#fea5fd\"], [0.9832402234636871, \"#febefe\"], [1.0, \"#fec3fe\"]]}, \"colorway\": [\"#636efa\", \"#EF553B\", \"#00cc96\", \"#ab63fa\", \"#19d3f3\", \"#e763fa\", \"#FECB52\", \"#FFA15A\", \"#FF6692\", \"#B6E880\"], \"font\": {\"color\": \"#2a3f5f\"}, \"geo\": {\"bgcolor\": \"white\", \"lakecolor\": \"white\", \"landcolor\": \"#E5ECF6\", \"showlakes\": true, \"showland\": true, \"subunitcolor\": \"white\"}, \"hovermode\": \"closest\", \"mapbox\": {\"style\": \"light\"}, \"paper_bgcolor\": \"white\", \"plot_bgcolor\": \"#E5ECF6\", \"polar\": {\"angularaxis\": {\"gridcolor\": \"white\", \"linecolor\": \"white\", \"ticks\": \"\"}, \"bgcolor\": \"#E5ECF6\", \"radialaxis\": {\"gridcolor\": \"white\", \"linecolor\": \"white\", \"ticks\": \"\"}}, \"scene\": {\"xaxis\": {\"backgroundcolor\": \"#E5ECF6\", \"gridcolor\": \"white\", \"gridwidth\": 2, \"linecolor\": \"white\", \"showbackground\": true, \"ticks\": \"\", \"zerolinecolor\": \"white\"}, \"yaxis\": {\"backgroundcolor\": \"#E5ECF6\", \"gridcolor\": \"white\", \"gridwidth\": 2, \"linecolor\": \"white\", \"showbackground\": true, \"ticks\": \"\", \"zerolinecolor\": \"white\"}, \"zaxis\": {\"backgroundcolor\": \"#E5ECF6\", \"gridcolor\": \"white\", \"gridwidth\": 2, \"linecolor\": \"white\", \"showbackground\": true, \"ticks\": \"\", \"zerolinecolor\": \"white\"}}, \"shapedefaults\": {\"fillcolor\": \"#506784\", \"line\": {\"width\": 0}, \"opacity\": 0.4}, \"ternary\": {\"aaxis\": {\"gridcolor\": \"white\", \"linecolor\": \"white\", \"ticks\": \"\"}, \"baxis\": {\"gridcolor\": \"white\", \"linecolor\": \"white\", \"ticks\": \"\"}, \"bgcolor\": \"#E5ECF6\", \"caxis\": {\"gridcolor\": \"white\", \"linecolor\": \"white\", \"ticks\": \"\"}}, \"title\": {\"x\": 0.05}, \"xaxis\": {\"automargin\": true, \"gridcolor\": \"white\", \"linecolor\": \"white\", \"ticks\": \"\", \"zerolinecolor\": \"white\", \"zerolinewidth\": 2}, \"yaxis\": {\"automargin\": true, \"gridcolor\": \"white\", \"linecolor\": \"white\", \"ticks\": \"\", \"zerolinecolor\": \"white\", \"zerolinewidth\": 2}}}, \"polar\": {\"angularaxis\": {\"direction\": \"clockwise\", \"rotation\": 90}}}, {\"showLink\": false, \"linkText\": \"Export to plot.ly\", \"plotlyServerURL\": \"https://plot.ly\"}); \n",
       "}\n",
       "});</script><script type=\"text/javascript\">window.addEventListener(\"resize\", function(){if (document.getElementById(\"817dcac7-d690-4b67-b5e6-84206cd9deb6\")) {window._Plotly.Plots.resize(document.getElementById(\"817dcac7-d690-4b67-b5e6-84206cd9deb6\"));};})</script>"
      ]
     },
     "metadata": {},
     "output_type": "display_data"
    },
    {
     "name": "stdout",
     "output_type": "stream",
     "text": [
      "Comparando la pregunta ¿Tienes acceso a dispositivos (ordenador, móvil, tablet, etc.) conectados a Internet habitualmente?\n"
     ]
    },
    {
     "data": {
      "application/vnd.plotly.v1+json": {
       "config": {
        "linkText": "Export to plot.ly",
        "plotlyServerURL": "https://plot.ly",
        "showLink": false
       },
       "data": [
        {
         "hovertemplate": "¿Tienes acceso a dispositivos (ordenador, móvil, tablet, etc.) conectados a Internet habitualmente?=1. Nunca<br>counts=%{r}<br>prosume_cluster=%{theta}<extra></extra>",
         "legendgroup": "¿Tienes acceso a dispositivos (ordenador, móvil, tablet, etc.) conectados a Internet habitualmente?=1. Nunca",
         "marker": {
          "color": "rgb(213,62,79)"
         },
         "name": "¿Tienes acceso a dispositivos (ordenador, móvil, tablet, etc.) conectados a Internet habitualmente?=1. Nunca",
         "r": [
          1
         ],
         "showlegend": true,
         "theta": [
          "cluster_1"
         ],
         "type": "barpolar",
         "uid": "d7db212b-e8ee-4a4a-a437-49707e84d2cc"
        },
        {
         "hovertemplate": "¿Tienes acceso a dispositivos (ordenador, móvil, tablet, etc.) conectados a Internet habitualmente?=2. Ocasionalmente<br>counts=%{r}<br>prosume_cluster=%{theta}<extra></extra>",
         "legendgroup": "¿Tienes acceso a dispositivos (ordenador, móvil, tablet, etc.) conectados a Internet habitualmente?=2. Ocasionalmente",
         "marker": {
          "color": "rgb(252,141,89)"
         },
         "name": "¿Tienes acceso a dispositivos (ordenador, móvil, tablet, etc.) conectados a Internet habitualmente?=2. Ocasionalmente",
         "r": [
          4,
          4
         ],
         "showlegend": true,
         "theta": [
          "cluster_1",
          "cluster_2"
         ],
         "type": "barpolar",
         "uid": "f3400c4f-f642-4a97-bc0e-899a3d674dab"
        },
        {
         "hovertemplate": "¿Tienes acceso a dispositivos (ordenador, móvil, tablet, etc.) conectados a Internet habitualmente?=3. Semanalmente<br>counts=%{r}<br>prosume_cluster=%{theta}<extra></extra>",
         "legendgroup": "¿Tienes acceso a dispositivos (ordenador, móvil, tablet, etc.) conectados a Internet habitualmente?=3. Semanalmente",
         "marker": {
          "color": "rgb(254,224,139)"
         },
         "name": "¿Tienes acceso a dispositivos (ordenador, móvil, tablet, etc.) conectados a Internet habitualmente?=3. Semanalmente",
         "r": [
          15,
          9,
          4
         ],
         "showlegend": true,
         "theta": [
          "cluster_1",
          "cluster_2",
          "cluster_3"
         ],
         "type": "barpolar",
         "uid": "d83af31d-6b48-474d-8132-92438ec9c441"
        },
        {
         "hovertemplate": "¿Tienes acceso a dispositivos (ordenador, móvil, tablet, etc.) conectados a Internet habitualmente?=4. Diariamente<br>counts=%{r}<br>prosume_cluster=%{theta}<extra></extra>",
         "legendgroup": "¿Tienes acceso a dispositivos (ordenador, móvil, tablet, etc.) conectados a Internet habitualmente?=4. Diariamente",
         "marker": {
          "color": "rgb(230,245,152)"
         },
         "name": "¿Tienes acceso a dispositivos (ordenador, móvil, tablet, etc.) conectados a Internet habitualmente?=4. Diariamente",
         "r": [
          16,
          71,
          47,
          10,
          26
         ],
         "showlegend": true,
         "theta": [
          "cluster_1",
          "cluster_2",
          "cluster_3",
          "cluster_4",
          "cluster_5"
         ],
         "type": "barpolar",
         "uid": "5baf55e5-1ebd-496a-a675-e532e2387f87"
        },
        {
         "hovertemplate": "¿Tienes acceso a dispositivos (ordenador, móvil, tablet, etc.) conectados a Internet habitualmente?=5. Varias veces al día<br>counts=%{r}<br>prosume_cluster=%{theta}<extra></extra>",
         "legendgroup": "¿Tienes acceso a dispositivos (ordenador, móvil, tablet, etc.) conectados a Internet habitualmente?=5. Varias veces al día",
         "marker": {
          "color": "rgb(153,213,148)"
         },
         "name": "¿Tienes acceso a dispositivos (ordenador, móvil, tablet, etc.) conectados a Internet habitualmente?=5. Varias veces al día",
         "r": [
          1,
          112,
          49,
          88,
          310
         ],
         "showlegend": true,
         "theta": [
          "cluster_1",
          "cluster_2",
          "cluster_3",
          "cluster_4",
          "cluster_5"
         ],
         "type": "barpolar",
         "uid": "d858f0e8-1fc6-4a5a-a806-80db2f5124a6"
        }
       ],
       "layout": {
        "barmode": "group",
        "barnorm": "",
        "height": 600,
        "legend": {
         "tracegroupgap": 0
        },
        "margin": {
         "t": 60
        },
        "polar": {
         "angularaxis": {
          "direction": "clockwise",
          "rotation": 90
         }
        },
        "template": {
         "data": {
          "bar": [
           {
            "marker": {
             "line": {
              "color": "#E5ECF6",
              "width": 0.5
             }
            },
            "type": "bar"
           }
          ],
          "barpolar": [
           {
            "marker": {
             "line": {
              "color": "#E5ECF6",
              "width": 0.5
             }
            },
            "type": "barpolar"
           }
          ],
          "carpet": [
           {
            "aaxis": {
             "endlinecolor": "#2a3f5f",
             "gridcolor": "white",
             "linecolor": "white",
             "minorgridcolor": "white",
             "startlinecolor": "#2a3f5f"
            },
            "baxis": {
             "endlinecolor": "#2a3f5f",
             "gridcolor": "white",
             "linecolor": "white",
             "minorgridcolor": "white",
             "startlinecolor": "#2a3f5f"
            },
            "type": "carpet"
           }
          ],
          "choropleth": [
           {
            "colorbar": {
             "outlinewidth": 0,
             "ticks": ""
            },
            "type": "choropleth"
           }
          ],
          "contour": [
           {
            "autocolorscale": true,
            "colorbar": {
             "outlinewidth": 0,
             "ticks": ""
            },
            "type": "contour"
           }
          ],
          "contourcarpet": [
           {
            "colorbar": {
             "outlinewidth": 0,
             "ticks": ""
            },
            "type": "contourcarpet"
           }
          ],
          "heatmap": [
           {
            "autocolorscale": true,
            "colorbar": {
             "outlinewidth": 0,
             "ticks": ""
            },
            "type": "heatmap"
           }
          ],
          "heatmapgl": [
           {
            "colorbar": {
             "outlinewidth": 0,
             "ticks": ""
            },
            "type": "heatmapgl"
           }
          ],
          "histogram": [
           {
            "marker": {
             "colorbar": {
              "outlinewidth": 0,
              "ticks": ""
             }
            },
            "type": "histogram"
           }
          ],
          "histogram2d": [
           {
            "autocolorscale": true,
            "colorbar": {
             "outlinewidth": 0,
             "ticks": ""
            },
            "type": "histogram2d"
           }
          ],
          "histogram2dcontour": [
           {
            "autocolorscale": true,
            "colorbar": {
             "outlinewidth": 0,
             "ticks": ""
            },
            "type": "histogram2dcontour"
           }
          ],
          "mesh3d": [
           {
            "colorbar": {
             "outlinewidth": 0,
             "ticks": ""
            },
            "type": "mesh3d"
           }
          ],
          "parcoords": [
           {
            "line": {
             "colorbar": {
              "outlinewidth": 0,
              "ticks": ""
             }
            },
            "type": "parcoords"
           }
          ],
          "scatter": [
           {
            "marker": {
             "colorbar": {
              "outlinewidth": 0,
              "ticks": ""
             }
            },
            "type": "scatter"
           }
          ],
          "scatter3d": [
           {
            "marker": {
             "colorbar": {
              "outlinewidth": 0,
              "ticks": ""
             }
            },
            "type": "scatter3d"
           }
          ],
          "scattercarpet": [
           {
            "marker": {
             "colorbar": {
              "outlinewidth": 0,
              "ticks": ""
             }
            },
            "type": "scattercarpet"
           }
          ],
          "scattergeo": [
           {
            "marker": {
             "colorbar": {
              "outlinewidth": 0,
              "ticks": ""
             }
            },
            "type": "scattergeo"
           }
          ],
          "scattergl": [
           {
            "marker": {
             "colorbar": {
              "outlinewidth": 0,
              "ticks": ""
             }
            },
            "type": "scattergl"
           }
          ],
          "scattermapbox": [
           {
            "marker": {
             "colorbar": {
              "outlinewidth": 0,
              "ticks": ""
             }
            },
            "type": "scattermapbox"
           }
          ],
          "scatterpolar": [
           {
            "marker": {
             "colorbar": {
              "outlinewidth": 0,
              "ticks": ""
             }
            },
            "type": "scatterpolar"
           }
          ],
          "scatterpolargl": [
           {
            "marker": {
             "colorbar": {
              "outlinewidth": 0,
              "ticks": ""
             }
            },
            "type": "scatterpolargl"
           }
          ],
          "scatterternary": [
           {
            "marker": {
             "colorbar": {
              "outlinewidth": 0,
              "ticks": ""
             }
            },
            "type": "scatterternary"
           }
          ],
          "surface": [
           {
            "colorbar": {
             "outlinewidth": 0,
             "ticks": ""
            },
            "type": "surface"
           }
          ],
          "table": [
           {
            "cells": {
             "fill": {
              "color": "#EBF0F8"
             },
             "line": {
              "color": "white"
             }
            },
            "header": {
             "fill": {
              "color": "#C8D4E3"
             },
             "line": {
              "color": "white"
             }
            },
            "type": "table"
           }
          ]
         },
         "layout": {
          "annotationdefaults": {
           "arrowcolor": "#506784",
           "arrowhead": 0,
           "arrowwidth": 1
          },
          "colorscale": {
           "diverging": [
            [
             0,
             "#8e0152"
            ],
            [
             0.1,
             "#c51b7d"
            ],
            [
             0.2,
             "#de77ae"
            ],
            [
             0.3,
             "#f1b6da"
            ],
            [
             0.4,
             "#fde0ef"
            ],
            [
             0.5,
             "#f7f7f7"
            ],
            [
             0.6,
             "#e6f5d0"
            ],
            [
             0.7,
             "#b8e186"
            ],
            [
             0.8,
             "#7fbc41"
            ],
            [
             0.9,
             "#4d9221"
            ],
            [
             1,
             "#276419"
            ]
           ],
           "sequential": [
            [
             0,
             "#0508b8"
            ],
            [
             0.0893854748603352,
             "#1910d8"
            ],
            [
             0.1787709497206704,
             "#3c19f0"
            ],
            [
             0.2681564245810056,
             "#6b1cfb"
            ],
            [
             0.3575418994413408,
             "#981cfd"
            ],
            [
             0.44692737430167595,
             "#bf1cfd"
            ],
            [
             0.5363128491620112,
             "#dd2bfd"
            ],
            [
             0.6256983240223464,
             "#f246fe"
            ],
            [
             0.7150837988826816,
             "#fc67fd"
            ],
            [
             0.8044692737430168,
             "#fe88fc"
            ],
            [
             0.8938547486033519,
             "#fea5fd"
            ],
            [
             0.9832402234636871,
             "#febefe"
            ],
            [
             1,
             "#fec3fe"
            ]
           ],
           "sequentialminus": [
            [
             0,
             "#0508b8"
            ],
            [
             0.0893854748603352,
             "#1910d8"
            ],
            [
             0.1787709497206704,
             "#3c19f0"
            ],
            [
             0.2681564245810056,
             "#6b1cfb"
            ],
            [
             0.3575418994413408,
             "#981cfd"
            ],
            [
             0.44692737430167595,
             "#bf1cfd"
            ],
            [
             0.5363128491620112,
             "#dd2bfd"
            ],
            [
             0.6256983240223464,
             "#f246fe"
            ],
            [
             0.7150837988826816,
             "#fc67fd"
            ],
            [
             0.8044692737430168,
             "#fe88fc"
            ],
            [
             0.8938547486033519,
             "#fea5fd"
            ],
            [
             0.9832402234636871,
             "#febefe"
            ],
            [
             1,
             "#fec3fe"
            ]
           ]
          },
          "colorway": [
           "#636efa",
           "#EF553B",
           "#00cc96",
           "#ab63fa",
           "#19d3f3",
           "#e763fa",
           "#FECB52",
           "#FFA15A",
           "#FF6692",
           "#B6E880"
          ],
          "font": {
           "color": "#2a3f5f"
          },
          "geo": {
           "bgcolor": "white",
           "lakecolor": "white",
           "landcolor": "#E5ECF6",
           "showlakes": true,
           "showland": true,
           "subunitcolor": "white"
          },
          "hovermode": "closest",
          "mapbox": {
           "style": "light"
          },
          "paper_bgcolor": "white",
          "plot_bgcolor": "#E5ECF6",
          "polar": {
           "angularaxis": {
            "gridcolor": "white",
            "linecolor": "white",
            "ticks": ""
           },
           "bgcolor": "#E5ECF6",
           "radialaxis": {
            "gridcolor": "white",
            "linecolor": "white",
            "ticks": ""
           }
          },
          "scene": {
           "xaxis": {
            "backgroundcolor": "#E5ECF6",
            "gridcolor": "white",
            "gridwidth": 2,
            "linecolor": "white",
            "showbackground": true,
            "ticks": "",
            "zerolinecolor": "white"
           },
           "yaxis": {
            "backgroundcolor": "#E5ECF6",
            "gridcolor": "white",
            "gridwidth": 2,
            "linecolor": "white",
            "showbackground": true,
            "ticks": "",
            "zerolinecolor": "white"
           },
           "zaxis": {
            "backgroundcolor": "#E5ECF6",
            "gridcolor": "white",
            "gridwidth": 2,
            "linecolor": "white",
            "showbackground": true,
            "ticks": "",
            "zerolinecolor": "white"
           }
          },
          "shapedefaults": {
           "fillcolor": "#506784",
           "line": {
            "width": 0
           },
           "opacity": 0.4
          },
          "ternary": {
           "aaxis": {
            "gridcolor": "white",
            "linecolor": "white",
            "ticks": ""
           },
           "baxis": {
            "gridcolor": "white",
            "linecolor": "white",
            "ticks": ""
           },
           "bgcolor": "#E5ECF6",
           "caxis": {
            "gridcolor": "white",
            "linecolor": "white",
            "ticks": ""
           }
          },
          "title": {
           "x": 0.05
          },
          "xaxis": {
           "automargin": true,
           "gridcolor": "white",
           "linecolor": "white",
           "ticks": "",
           "zerolinecolor": "white",
           "zerolinewidth": 2
          },
          "yaxis": {
           "automargin": true,
           "gridcolor": "white",
           "linecolor": "white",
           "ticks": "",
           "zerolinecolor": "white",
           "zerolinewidth": 2
          }
         }
        }
       }
      },
      "text/html": [
       "<div id=\"b2546e5c-807c-40a4-aa33-8fa221250135\" style=\"height: 600px; width: 100%;\" class=\"plotly-graph-div\"></div><script type=\"text/javascript\">require([\"plotly\"], function(Plotly) { window.PLOTLYENV=window.PLOTLYENV || {};window.PLOTLYENV.BASE_URL=\"https://plot.ly\";\n",
       "if (document.getElementById(\"b2546e5c-807c-40a4-aa33-8fa221250135\")) {\n",
       "    Plotly.newPlot(\"b2546e5c-807c-40a4-aa33-8fa221250135\", [{\"hovertemplate\": \"\\u00bfTienes acceso a dispositivos (ordenador, m\\u00f3vil, tablet, etc.) conectados a Internet habitualmente?=1. Nunca<br>counts=%{r}<br>prosume_cluster=%{theta}<extra></extra>\", \"legendgroup\": \"\\u00bfTienes acceso a dispositivos (ordenador, m\\u00f3vil, tablet, etc.) conectados a Internet habitualmente?=1. Nunca\", \"marker\": {\"color\": \"rgb(213,62,79)\"}, \"name\": \"\\u00bfTienes acceso a dispositivos (ordenador, m\\u00f3vil, tablet, etc.) conectados a Internet habitualmente?=1. Nunca\", \"r\": [1], \"showlegend\": true, \"theta\": [\"cluster_1\"], \"type\": \"barpolar\", \"uid\": \"d7db212b-e8ee-4a4a-a437-49707e84d2cc\"}, {\"hovertemplate\": \"\\u00bfTienes acceso a dispositivos (ordenador, m\\u00f3vil, tablet, etc.) conectados a Internet habitualmente?=2. Ocasionalmente<br>counts=%{r}<br>prosume_cluster=%{theta}<extra></extra>\", \"legendgroup\": \"\\u00bfTienes acceso a dispositivos (ordenador, m\\u00f3vil, tablet, etc.) conectados a Internet habitualmente?=2. Ocasionalmente\", \"marker\": {\"color\": \"rgb(252,141,89)\"}, \"name\": \"\\u00bfTienes acceso a dispositivos (ordenador, m\\u00f3vil, tablet, etc.) conectados a Internet habitualmente?=2. Ocasionalmente\", \"r\": [4, 4], \"showlegend\": true, \"theta\": [\"cluster_1\", \"cluster_2\"], \"type\": \"barpolar\", \"uid\": \"f3400c4f-f642-4a97-bc0e-899a3d674dab\"}, {\"hovertemplate\": \"\\u00bfTienes acceso a dispositivos (ordenador, m\\u00f3vil, tablet, etc.) conectados a Internet habitualmente?=3. Semanalmente<br>counts=%{r}<br>prosume_cluster=%{theta}<extra></extra>\", \"legendgroup\": \"\\u00bfTienes acceso a dispositivos (ordenador, m\\u00f3vil, tablet, etc.) conectados a Internet habitualmente?=3. Semanalmente\", \"marker\": {\"color\": \"rgb(254,224,139)\"}, \"name\": \"\\u00bfTienes acceso a dispositivos (ordenador, m\\u00f3vil, tablet, etc.) conectados a Internet habitualmente?=3. Semanalmente\", \"r\": [15, 9, 4], \"showlegend\": true, \"theta\": [\"cluster_1\", \"cluster_2\", \"cluster_3\"], \"type\": \"barpolar\", \"uid\": \"d83af31d-6b48-474d-8132-92438ec9c441\"}, {\"hovertemplate\": \"\\u00bfTienes acceso a dispositivos (ordenador, m\\u00f3vil, tablet, etc.) conectados a Internet habitualmente?=4. Diariamente<br>counts=%{r}<br>prosume_cluster=%{theta}<extra></extra>\", \"legendgroup\": \"\\u00bfTienes acceso a dispositivos (ordenador, m\\u00f3vil, tablet, etc.) conectados a Internet habitualmente?=4. Diariamente\", \"marker\": {\"color\": \"rgb(230,245,152)\"}, \"name\": \"\\u00bfTienes acceso a dispositivos (ordenador, m\\u00f3vil, tablet, etc.) conectados a Internet habitualmente?=4. Diariamente\", \"r\": [16, 71, 47, 10, 26], \"showlegend\": true, \"theta\": [\"cluster_1\", \"cluster_2\", \"cluster_3\", \"cluster_4\", \"cluster_5\"], \"type\": \"barpolar\", \"uid\": \"5baf55e5-1ebd-496a-a675-e532e2387f87\"}, {\"hovertemplate\": \"\\u00bfTienes acceso a dispositivos (ordenador, m\\u00f3vil, tablet, etc.) conectados a Internet habitualmente?=5. Varias veces al d\\u00eda<br>counts=%{r}<br>prosume_cluster=%{theta}<extra></extra>\", \"legendgroup\": \"\\u00bfTienes acceso a dispositivos (ordenador, m\\u00f3vil, tablet, etc.) conectados a Internet habitualmente?=5. Varias veces al d\\u00eda\", \"marker\": {\"color\": \"rgb(153,213,148)\"}, \"name\": \"\\u00bfTienes acceso a dispositivos (ordenador, m\\u00f3vil, tablet, etc.) conectados a Internet habitualmente?=5. Varias veces al d\\u00eda\", \"r\": [1, 112, 49, 88, 310], \"showlegend\": true, \"theta\": [\"cluster_1\", \"cluster_2\", \"cluster_3\", \"cluster_4\", \"cluster_5\"], \"type\": \"barpolar\", \"uid\": \"d858f0e8-1fc6-4a5a-a806-80db2f5124a6\"}], {\"barmode\": \"group\", \"barnorm\": \"\", \"height\": 600, \"legend\": {\"tracegroupgap\": 0}, \"margin\": {\"t\": 60}, \"template\": {\"data\": {\"barpolar\": [{\"marker\": {\"line\": {\"color\": \"#E5ECF6\", \"width\": 0.5}}, \"type\": \"barpolar\"}], \"bar\": [{\"marker\": {\"line\": {\"color\": \"#E5ECF6\", \"width\": 0.5}}, \"type\": \"bar\"}], \"carpet\": [{\"aaxis\": {\"endlinecolor\": \"#2a3f5f\", \"gridcolor\": \"white\", \"linecolor\": \"white\", \"minorgridcolor\": \"white\", \"startlinecolor\": \"#2a3f5f\"}, \"baxis\": {\"endlinecolor\": \"#2a3f5f\", \"gridcolor\": \"white\", \"linecolor\": \"white\", \"minorgridcolor\": \"white\", \"startlinecolor\": \"#2a3f5f\"}, \"type\": \"carpet\"}], \"choropleth\": [{\"colorbar\": {\"outlinewidth\": 0, \"ticks\": \"\"}, \"type\": \"choropleth\"}], \"contourcarpet\": [{\"colorbar\": {\"outlinewidth\": 0, \"ticks\": \"\"}, \"type\": \"contourcarpet\"}], \"contour\": [{\"autocolorscale\": true, \"colorbar\": {\"outlinewidth\": 0, \"ticks\": \"\"}, \"type\": \"contour\"}], \"heatmapgl\": [{\"colorbar\": {\"outlinewidth\": 0, \"ticks\": \"\"}, \"type\": \"heatmapgl\"}], \"heatmap\": [{\"autocolorscale\": true, \"colorbar\": {\"outlinewidth\": 0, \"ticks\": \"\"}, \"type\": \"heatmap\"}], \"histogram2dcontour\": [{\"autocolorscale\": true, \"colorbar\": {\"outlinewidth\": 0, \"ticks\": \"\"}, \"type\": \"histogram2dcontour\"}], \"histogram2d\": [{\"autocolorscale\": true, \"colorbar\": {\"outlinewidth\": 0, \"ticks\": \"\"}, \"type\": \"histogram2d\"}], \"histogram\": [{\"marker\": {\"colorbar\": {\"outlinewidth\": 0, \"ticks\": \"\"}}, \"type\": \"histogram\"}], \"mesh3d\": [{\"colorbar\": {\"outlinewidth\": 0, \"ticks\": \"\"}, \"type\": \"mesh3d\"}], \"parcoords\": [{\"line\": {\"colorbar\": {\"outlinewidth\": 0, \"ticks\": \"\"}}, \"type\": \"parcoords\"}], \"scatter3d\": [{\"marker\": {\"colorbar\": {\"outlinewidth\": 0, \"ticks\": \"\"}}, \"type\": \"scatter3d\"}], \"scattercarpet\": [{\"marker\": {\"colorbar\": {\"outlinewidth\": 0, \"ticks\": \"\"}}, \"type\": \"scattercarpet\"}], \"scattergeo\": [{\"marker\": {\"colorbar\": {\"outlinewidth\": 0, \"ticks\": \"\"}}, \"type\": \"scattergeo\"}], \"scattergl\": [{\"marker\": {\"colorbar\": {\"outlinewidth\": 0, \"ticks\": \"\"}}, \"type\": \"scattergl\"}], \"scattermapbox\": [{\"marker\": {\"colorbar\": {\"outlinewidth\": 0, \"ticks\": \"\"}}, \"type\": \"scattermapbox\"}], \"scatterpolargl\": [{\"marker\": {\"colorbar\": {\"outlinewidth\": 0, \"ticks\": \"\"}}, \"type\": \"scatterpolargl\"}], \"scatterpolar\": [{\"marker\": {\"colorbar\": {\"outlinewidth\": 0, \"ticks\": \"\"}}, \"type\": \"scatterpolar\"}], \"scatter\": [{\"marker\": {\"colorbar\": {\"outlinewidth\": 0, \"ticks\": \"\"}}, \"type\": \"scatter\"}], \"scatterternary\": [{\"marker\": {\"colorbar\": {\"outlinewidth\": 0, \"ticks\": \"\"}}, \"type\": \"scatterternary\"}], \"surface\": [{\"colorbar\": {\"outlinewidth\": 0, \"ticks\": \"\"}, \"type\": \"surface\"}], \"table\": [{\"cells\": {\"fill\": {\"color\": \"#EBF0F8\"}, \"line\": {\"color\": \"white\"}}, \"header\": {\"fill\": {\"color\": \"#C8D4E3\"}, \"line\": {\"color\": \"white\"}}, \"type\": \"table\"}]}, \"layout\": {\"annotationdefaults\": {\"arrowcolor\": \"#506784\", \"arrowhead\": 0, \"arrowwidth\": 1}, \"colorscale\": {\"diverging\": [[0, \"#8e0152\"], [0.1, \"#c51b7d\"], [0.2, \"#de77ae\"], [0.3, \"#f1b6da\"], [0.4, \"#fde0ef\"], [0.5, \"#f7f7f7\"], [0.6, \"#e6f5d0\"], [0.7, \"#b8e186\"], [0.8, \"#7fbc41\"], [0.9, \"#4d9221\"], [1, \"#276419\"]], \"sequential\": [[0.0, \"#0508b8\"], [0.0893854748603352, \"#1910d8\"], [0.1787709497206704, \"#3c19f0\"], [0.2681564245810056, \"#6b1cfb\"], [0.3575418994413408, \"#981cfd\"], [0.44692737430167595, \"#bf1cfd\"], [0.5363128491620112, \"#dd2bfd\"], [0.6256983240223464, \"#f246fe\"], [0.7150837988826816, \"#fc67fd\"], [0.8044692737430168, \"#fe88fc\"], [0.8938547486033519, \"#fea5fd\"], [0.9832402234636871, \"#febefe\"], [1.0, \"#fec3fe\"]], \"sequentialminus\": [[0.0, \"#0508b8\"], [0.0893854748603352, \"#1910d8\"], [0.1787709497206704, \"#3c19f0\"], [0.2681564245810056, \"#6b1cfb\"], [0.3575418994413408, \"#981cfd\"], [0.44692737430167595, \"#bf1cfd\"], [0.5363128491620112, \"#dd2bfd\"], [0.6256983240223464, \"#f246fe\"], [0.7150837988826816, \"#fc67fd\"], [0.8044692737430168, \"#fe88fc\"], [0.8938547486033519, \"#fea5fd\"], [0.9832402234636871, \"#febefe\"], [1.0, \"#fec3fe\"]]}, \"colorway\": [\"#636efa\", \"#EF553B\", \"#00cc96\", \"#ab63fa\", \"#19d3f3\", \"#e763fa\", \"#FECB52\", \"#FFA15A\", \"#FF6692\", \"#B6E880\"], \"font\": {\"color\": \"#2a3f5f\"}, \"geo\": {\"bgcolor\": \"white\", \"lakecolor\": \"white\", \"landcolor\": \"#E5ECF6\", \"showlakes\": true, \"showland\": true, \"subunitcolor\": \"white\"}, \"hovermode\": \"closest\", \"mapbox\": {\"style\": \"light\"}, \"paper_bgcolor\": \"white\", \"plot_bgcolor\": \"#E5ECF6\", \"polar\": {\"angularaxis\": {\"gridcolor\": \"white\", \"linecolor\": \"white\", \"ticks\": \"\"}, \"bgcolor\": \"#E5ECF6\", \"radialaxis\": {\"gridcolor\": \"white\", \"linecolor\": \"white\", \"ticks\": \"\"}}, \"scene\": {\"xaxis\": {\"backgroundcolor\": \"#E5ECF6\", \"gridcolor\": \"white\", \"gridwidth\": 2, \"linecolor\": \"white\", \"showbackground\": true, \"ticks\": \"\", \"zerolinecolor\": \"white\"}, \"yaxis\": {\"backgroundcolor\": \"#E5ECF6\", \"gridcolor\": \"white\", \"gridwidth\": 2, \"linecolor\": \"white\", \"showbackground\": true, \"ticks\": \"\", \"zerolinecolor\": \"white\"}, \"zaxis\": {\"backgroundcolor\": \"#E5ECF6\", \"gridcolor\": \"white\", \"gridwidth\": 2, \"linecolor\": \"white\", \"showbackground\": true, \"ticks\": \"\", \"zerolinecolor\": \"white\"}}, \"shapedefaults\": {\"fillcolor\": \"#506784\", \"line\": {\"width\": 0}, \"opacity\": 0.4}, \"ternary\": {\"aaxis\": {\"gridcolor\": \"white\", \"linecolor\": \"white\", \"ticks\": \"\"}, \"baxis\": {\"gridcolor\": \"white\", \"linecolor\": \"white\", \"ticks\": \"\"}, \"bgcolor\": \"#E5ECF6\", \"caxis\": {\"gridcolor\": \"white\", \"linecolor\": \"white\", \"ticks\": \"\"}}, \"title\": {\"x\": 0.05}, \"xaxis\": {\"automargin\": true, \"gridcolor\": \"white\", \"linecolor\": \"white\", \"ticks\": \"\", \"zerolinecolor\": \"white\", \"zerolinewidth\": 2}, \"yaxis\": {\"automargin\": true, \"gridcolor\": \"white\", \"linecolor\": \"white\", \"ticks\": \"\", \"zerolinecolor\": \"white\", \"zerolinewidth\": 2}}}, \"polar\": {\"angularaxis\": {\"direction\": \"clockwise\", \"rotation\": 90}}}, {\"showLink\": false, \"linkText\": \"Export to plot.ly\", \"plotlyServerURL\": \"https://plot.ly\"}); \n",
       "}\n",
       "});</script><script type=\"text/javascript\">window.addEventListener(\"resize\", function(){if (document.getElementById(\"b2546e5c-807c-40a4-aa33-8fa221250135\")) {window._Plotly.Plots.resize(document.getElementById(\"b2546e5c-807c-40a4-aa33-8fa221250135\"));};})</script>"
      ],
      "text/vnd.plotly.v1+html": [
       "<div id=\"b2546e5c-807c-40a4-aa33-8fa221250135\" style=\"height: 600px; width: 100%;\" class=\"plotly-graph-div\"></div><script type=\"text/javascript\">require([\"plotly\"], function(Plotly) { window.PLOTLYENV=window.PLOTLYENV || {};window.PLOTLYENV.BASE_URL=\"https://plot.ly\";\n",
       "if (document.getElementById(\"b2546e5c-807c-40a4-aa33-8fa221250135\")) {\n",
       "    Plotly.newPlot(\"b2546e5c-807c-40a4-aa33-8fa221250135\", [{\"hovertemplate\": \"\\u00bfTienes acceso a dispositivos (ordenador, m\\u00f3vil, tablet, etc.) conectados a Internet habitualmente?=1. Nunca<br>counts=%{r}<br>prosume_cluster=%{theta}<extra></extra>\", \"legendgroup\": \"\\u00bfTienes acceso a dispositivos (ordenador, m\\u00f3vil, tablet, etc.) conectados a Internet habitualmente?=1. Nunca\", \"marker\": {\"color\": \"rgb(213,62,79)\"}, \"name\": \"\\u00bfTienes acceso a dispositivos (ordenador, m\\u00f3vil, tablet, etc.) conectados a Internet habitualmente?=1. Nunca\", \"r\": [1], \"showlegend\": true, \"theta\": [\"cluster_1\"], \"type\": \"barpolar\", \"uid\": \"d7db212b-e8ee-4a4a-a437-49707e84d2cc\"}, {\"hovertemplate\": \"\\u00bfTienes acceso a dispositivos (ordenador, m\\u00f3vil, tablet, etc.) conectados a Internet habitualmente?=2. Ocasionalmente<br>counts=%{r}<br>prosume_cluster=%{theta}<extra></extra>\", \"legendgroup\": \"\\u00bfTienes acceso a dispositivos (ordenador, m\\u00f3vil, tablet, etc.) conectados a Internet habitualmente?=2. Ocasionalmente\", \"marker\": {\"color\": \"rgb(252,141,89)\"}, \"name\": \"\\u00bfTienes acceso a dispositivos (ordenador, m\\u00f3vil, tablet, etc.) conectados a Internet habitualmente?=2. Ocasionalmente\", \"r\": [4, 4], \"showlegend\": true, \"theta\": [\"cluster_1\", \"cluster_2\"], \"type\": \"barpolar\", \"uid\": \"f3400c4f-f642-4a97-bc0e-899a3d674dab\"}, {\"hovertemplate\": \"\\u00bfTienes acceso a dispositivos (ordenador, m\\u00f3vil, tablet, etc.) conectados a Internet habitualmente?=3. Semanalmente<br>counts=%{r}<br>prosume_cluster=%{theta}<extra></extra>\", \"legendgroup\": \"\\u00bfTienes acceso a dispositivos (ordenador, m\\u00f3vil, tablet, etc.) conectados a Internet habitualmente?=3. Semanalmente\", \"marker\": {\"color\": \"rgb(254,224,139)\"}, \"name\": \"\\u00bfTienes acceso a dispositivos (ordenador, m\\u00f3vil, tablet, etc.) conectados a Internet habitualmente?=3. Semanalmente\", \"r\": [15, 9, 4], \"showlegend\": true, \"theta\": [\"cluster_1\", \"cluster_2\", \"cluster_3\"], \"type\": \"barpolar\", \"uid\": \"d83af31d-6b48-474d-8132-92438ec9c441\"}, {\"hovertemplate\": \"\\u00bfTienes acceso a dispositivos (ordenador, m\\u00f3vil, tablet, etc.) conectados a Internet habitualmente?=4. Diariamente<br>counts=%{r}<br>prosume_cluster=%{theta}<extra></extra>\", \"legendgroup\": \"\\u00bfTienes acceso a dispositivos (ordenador, m\\u00f3vil, tablet, etc.) conectados a Internet habitualmente?=4. Diariamente\", \"marker\": {\"color\": \"rgb(230,245,152)\"}, \"name\": \"\\u00bfTienes acceso a dispositivos (ordenador, m\\u00f3vil, tablet, etc.) conectados a Internet habitualmente?=4. Diariamente\", \"r\": [16, 71, 47, 10, 26], \"showlegend\": true, \"theta\": [\"cluster_1\", \"cluster_2\", \"cluster_3\", \"cluster_4\", \"cluster_5\"], \"type\": \"barpolar\", \"uid\": \"5baf55e5-1ebd-496a-a675-e532e2387f87\"}, {\"hovertemplate\": \"\\u00bfTienes acceso a dispositivos (ordenador, m\\u00f3vil, tablet, etc.) conectados a Internet habitualmente?=5. Varias veces al d\\u00eda<br>counts=%{r}<br>prosume_cluster=%{theta}<extra></extra>\", \"legendgroup\": \"\\u00bfTienes acceso a dispositivos (ordenador, m\\u00f3vil, tablet, etc.) conectados a Internet habitualmente?=5. Varias veces al d\\u00eda\", \"marker\": {\"color\": \"rgb(153,213,148)\"}, \"name\": \"\\u00bfTienes acceso a dispositivos (ordenador, m\\u00f3vil, tablet, etc.) conectados a Internet habitualmente?=5. Varias veces al d\\u00eda\", \"r\": [1, 112, 49, 88, 310], \"showlegend\": true, \"theta\": [\"cluster_1\", \"cluster_2\", \"cluster_3\", \"cluster_4\", \"cluster_5\"], \"type\": \"barpolar\", \"uid\": \"d858f0e8-1fc6-4a5a-a806-80db2f5124a6\"}], {\"barmode\": \"group\", \"barnorm\": \"\", \"height\": 600, \"legend\": {\"tracegroupgap\": 0}, \"margin\": {\"t\": 60}, \"template\": {\"data\": {\"barpolar\": [{\"marker\": {\"line\": {\"color\": \"#E5ECF6\", \"width\": 0.5}}, \"type\": \"barpolar\"}], \"bar\": [{\"marker\": {\"line\": {\"color\": \"#E5ECF6\", \"width\": 0.5}}, \"type\": \"bar\"}], \"carpet\": [{\"aaxis\": {\"endlinecolor\": \"#2a3f5f\", \"gridcolor\": \"white\", \"linecolor\": \"white\", \"minorgridcolor\": \"white\", \"startlinecolor\": \"#2a3f5f\"}, \"baxis\": {\"endlinecolor\": \"#2a3f5f\", \"gridcolor\": \"white\", \"linecolor\": \"white\", \"minorgridcolor\": \"white\", \"startlinecolor\": \"#2a3f5f\"}, \"type\": \"carpet\"}], \"choropleth\": [{\"colorbar\": {\"outlinewidth\": 0, \"ticks\": \"\"}, \"type\": \"choropleth\"}], \"contourcarpet\": [{\"colorbar\": {\"outlinewidth\": 0, \"ticks\": \"\"}, \"type\": \"contourcarpet\"}], \"contour\": [{\"autocolorscale\": true, \"colorbar\": {\"outlinewidth\": 0, \"ticks\": \"\"}, \"type\": \"contour\"}], \"heatmapgl\": [{\"colorbar\": {\"outlinewidth\": 0, \"ticks\": \"\"}, \"type\": \"heatmapgl\"}], \"heatmap\": [{\"autocolorscale\": true, \"colorbar\": {\"outlinewidth\": 0, \"ticks\": \"\"}, \"type\": \"heatmap\"}], \"histogram2dcontour\": [{\"autocolorscale\": true, \"colorbar\": {\"outlinewidth\": 0, \"ticks\": \"\"}, \"type\": \"histogram2dcontour\"}], \"histogram2d\": [{\"autocolorscale\": true, \"colorbar\": {\"outlinewidth\": 0, \"ticks\": \"\"}, \"type\": \"histogram2d\"}], \"histogram\": [{\"marker\": {\"colorbar\": {\"outlinewidth\": 0, \"ticks\": \"\"}}, \"type\": \"histogram\"}], \"mesh3d\": [{\"colorbar\": {\"outlinewidth\": 0, \"ticks\": \"\"}, \"type\": \"mesh3d\"}], \"parcoords\": [{\"line\": {\"colorbar\": {\"outlinewidth\": 0, \"ticks\": \"\"}}, \"type\": \"parcoords\"}], \"scatter3d\": [{\"marker\": {\"colorbar\": {\"outlinewidth\": 0, \"ticks\": \"\"}}, \"type\": \"scatter3d\"}], \"scattercarpet\": [{\"marker\": {\"colorbar\": {\"outlinewidth\": 0, \"ticks\": \"\"}}, \"type\": \"scattercarpet\"}], \"scattergeo\": [{\"marker\": {\"colorbar\": {\"outlinewidth\": 0, \"ticks\": \"\"}}, \"type\": \"scattergeo\"}], \"scattergl\": [{\"marker\": {\"colorbar\": {\"outlinewidth\": 0, \"ticks\": \"\"}}, \"type\": \"scattergl\"}], \"scattermapbox\": [{\"marker\": {\"colorbar\": {\"outlinewidth\": 0, \"ticks\": \"\"}}, \"type\": \"scattermapbox\"}], \"scatterpolargl\": [{\"marker\": {\"colorbar\": {\"outlinewidth\": 0, \"ticks\": \"\"}}, \"type\": \"scatterpolargl\"}], \"scatterpolar\": [{\"marker\": {\"colorbar\": {\"outlinewidth\": 0, \"ticks\": \"\"}}, \"type\": \"scatterpolar\"}], \"scatter\": [{\"marker\": {\"colorbar\": {\"outlinewidth\": 0, \"ticks\": \"\"}}, \"type\": \"scatter\"}], \"scatterternary\": [{\"marker\": {\"colorbar\": {\"outlinewidth\": 0, \"ticks\": \"\"}}, \"type\": \"scatterternary\"}], \"surface\": [{\"colorbar\": {\"outlinewidth\": 0, \"ticks\": \"\"}, \"type\": \"surface\"}], \"table\": [{\"cells\": {\"fill\": {\"color\": \"#EBF0F8\"}, \"line\": {\"color\": \"white\"}}, \"header\": {\"fill\": {\"color\": \"#C8D4E3\"}, \"line\": {\"color\": \"white\"}}, \"type\": \"table\"}]}, \"layout\": {\"annotationdefaults\": {\"arrowcolor\": \"#506784\", \"arrowhead\": 0, \"arrowwidth\": 1}, \"colorscale\": {\"diverging\": [[0, \"#8e0152\"], [0.1, \"#c51b7d\"], [0.2, \"#de77ae\"], [0.3, \"#f1b6da\"], [0.4, \"#fde0ef\"], [0.5, \"#f7f7f7\"], [0.6, \"#e6f5d0\"], [0.7, \"#b8e186\"], [0.8, \"#7fbc41\"], [0.9, \"#4d9221\"], [1, \"#276419\"]], \"sequential\": [[0.0, \"#0508b8\"], [0.0893854748603352, \"#1910d8\"], [0.1787709497206704, \"#3c19f0\"], [0.2681564245810056, \"#6b1cfb\"], [0.3575418994413408, \"#981cfd\"], [0.44692737430167595, \"#bf1cfd\"], [0.5363128491620112, \"#dd2bfd\"], [0.6256983240223464, \"#f246fe\"], [0.7150837988826816, \"#fc67fd\"], [0.8044692737430168, \"#fe88fc\"], [0.8938547486033519, \"#fea5fd\"], [0.9832402234636871, \"#febefe\"], [1.0, \"#fec3fe\"]], \"sequentialminus\": [[0.0, \"#0508b8\"], [0.0893854748603352, \"#1910d8\"], [0.1787709497206704, \"#3c19f0\"], [0.2681564245810056, \"#6b1cfb\"], [0.3575418994413408, \"#981cfd\"], [0.44692737430167595, \"#bf1cfd\"], [0.5363128491620112, \"#dd2bfd\"], [0.6256983240223464, \"#f246fe\"], [0.7150837988826816, \"#fc67fd\"], [0.8044692737430168, \"#fe88fc\"], [0.8938547486033519, \"#fea5fd\"], [0.9832402234636871, \"#febefe\"], [1.0, \"#fec3fe\"]]}, \"colorway\": [\"#636efa\", \"#EF553B\", \"#00cc96\", \"#ab63fa\", \"#19d3f3\", \"#e763fa\", \"#FECB52\", \"#FFA15A\", \"#FF6692\", \"#B6E880\"], \"font\": {\"color\": \"#2a3f5f\"}, \"geo\": {\"bgcolor\": \"white\", \"lakecolor\": \"white\", \"landcolor\": \"#E5ECF6\", \"showlakes\": true, \"showland\": true, \"subunitcolor\": \"white\"}, \"hovermode\": \"closest\", \"mapbox\": {\"style\": \"light\"}, \"paper_bgcolor\": \"white\", \"plot_bgcolor\": \"#E5ECF6\", \"polar\": {\"angularaxis\": {\"gridcolor\": \"white\", \"linecolor\": \"white\", \"ticks\": \"\"}, \"bgcolor\": \"#E5ECF6\", \"radialaxis\": {\"gridcolor\": \"white\", \"linecolor\": \"white\", \"ticks\": \"\"}}, \"scene\": {\"xaxis\": {\"backgroundcolor\": \"#E5ECF6\", \"gridcolor\": \"white\", \"gridwidth\": 2, \"linecolor\": \"white\", \"showbackground\": true, \"ticks\": \"\", \"zerolinecolor\": \"white\"}, \"yaxis\": {\"backgroundcolor\": \"#E5ECF6\", \"gridcolor\": \"white\", \"gridwidth\": 2, \"linecolor\": \"white\", \"showbackground\": true, \"ticks\": \"\", \"zerolinecolor\": \"white\"}, \"zaxis\": {\"backgroundcolor\": \"#E5ECF6\", \"gridcolor\": \"white\", \"gridwidth\": 2, \"linecolor\": \"white\", \"showbackground\": true, \"ticks\": \"\", \"zerolinecolor\": \"white\"}}, \"shapedefaults\": {\"fillcolor\": \"#506784\", \"line\": {\"width\": 0}, \"opacity\": 0.4}, \"ternary\": {\"aaxis\": {\"gridcolor\": \"white\", \"linecolor\": \"white\", \"ticks\": \"\"}, \"baxis\": {\"gridcolor\": \"white\", \"linecolor\": \"white\", \"ticks\": \"\"}, \"bgcolor\": \"#E5ECF6\", \"caxis\": {\"gridcolor\": \"white\", \"linecolor\": \"white\", \"ticks\": \"\"}}, \"title\": {\"x\": 0.05}, \"xaxis\": {\"automargin\": true, \"gridcolor\": \"white\", \"linecolor\": \"white\", \"ticks\": \"\", \"zerolinecolor\": \"white\", \"zerolinewidth\": 2}, \"yaxis\": {\"automargin\": true, \"gridcolor\": \"white\", \"linecolor\": \"white\", \"ticks\": \"\", \"zerolinecolor\": \"white\", \"zerolinewidth\": 2}}}, \"polar\": {\"angularaxis\": {\"direction\": \"clockwise\", \"rotation\": 90}}}, {\"showLink\": false, \"linkText\": \"Export to plot.ly\", \"plotlyServerURL\": \"https://plot.ly\"}); \n",
       "}\n",
       "});</script><script type=\"text/javascript\">window.addEventListener(\"resize\", function(){if (document.getElementById(\"b2546e5c-807c-40a4-aa33-8fa221250135\")) {window._Plotly.Plots.resize(document.getElementById(\"b2546e5c-807c-40a4-aa33-8fa221250135\"));};})</script>"
      ]
     },
     "metadata": {},
     "output_type": "display_data"
    },
    {
     "name": "stdout",
     "output_type": "stream",
     "text": [
      "Comparando la pregunta ¿Cuánto tiempo al día usas el móvil/tableta/ordenador/TV?\n"
     ]
    },
    {
     "data": {
      "application/vnd.plotly.v1+json": {
       "config": {
        "linkText": "Export to plot.ly",
        "plotlyServerURL": "https://plot.ly",
        "showLink": false
       },
       "data": [
        {
         "hovertemplate": "¿Cuánto tiempo al día usas el móvil/tableta/ordenador/TV?=1. Nada<br>counts=%{r}<br>prosume_cluster=%{theta}<extra></extra>",
         "legendgroup": "¿Cuánto tiempo al día usas el móvil/tableta/ordenador/TV?=1. Nada",
         "marker": {
          "color": "rgb(213,62,79)"
         },
         "name": "¿Cuánto tiempo al día usas el móvil/tableta/ordenador/TV?=1. Nada",
         "r": [
          1
         ],
         "showlegend": true,
         "theta": [
          "cluster_1"
         ],
         "type": "barpolar",
         "uid": "7c16c1fa-317e-4ef6-902a-18ce57a7359e"
        },
        {
         "hovertemplate": "¿Cuánto tiempo al día usas el móvil/tableta/ordenador/TV?=2. Menos de una hora<br>counts=%{r}<br>prosume_cluster=%{theta}<extra></extra>",
         "legendgroup": "¿Cuánto tiempo al día usas el móvil/tableta/ordenador/TV?=2. Menos de una hora",
         "marker": {
          "color": "rgb(252,141,89)"
         },
         "name": "¿Cuánto tiempo al día usas el móvil/tableta/ordenador/TV?=2. Menos de una hora",
         "r": [
          1,
          4,
          1
         ],
         "showlegend": true,
         "theta": [
          "cluster_1",
          "cluster_2",
          "cluster_5"
         ],
         "type": "barpolar",
         "uid": "a1a888d7-6dab-4ac2-8e34-6ebf81503c1d"
        },
        {
         "hovertemplate": "¿Cuánto tiempo al día usas el móvil/tableta/ordenador/TV?=3. 1-2 horas<br>counts=%{r}<br>prosume_cluster=%{theta}<extra></extra>",
         "legendgroup": "¿Cuánto tiempo al día usas el móvil/tableta/ordenador/TV?=3. 1-2 horas",
         "marker": {
          "color": "rgb(254,224,139)"
         },
         "name": "¿Cuánto tiempo al día usas el móvil/tableta/ordenador/TV?=3. 1-2 horas",
         "r": [
          23,
          32,
          10,
          5,
          12
         ],
         "showlegend": true,
         "theta": [
          "cluster_1",
          "cluster_2",
          "cluster_3",
          "cluster_4",
          "cluster_5"
         ],
         "type": "barpolar",
         "uid": "965eacd9-b46e-4f50-8404-37e53eb53018"
        },
        {
         "hovertemplate": "¿Cuánto tiempo al día usas el móvil/tableta/ordenador/TV?=4. 2-4 horas<br>counts=%{r}<br>prosume_cluster=%{theta}<extra></extra>",
         "legendgroup": "¿Cuánto tiempo al día usas el móvil/tableta/ordenador/TV?=4. 2-4 horas",
         "marker": {
          "color": "rgb(230,245,152)"
         },
         "name": "¿Cuánto tiempo al día usas el móvil/tableta/ordenador/TV?=4. 2-4 horas",
         "r": [
          7,
          61,
          16,
          25,
          57
         ],
         "showlegend": true,
         "theta": [
          "cluster_1",
          "cluster_2",
          "cluster_3",
          "cluster_4",
          "cluster_5"
         ],
         "type": "barpolar",
         "uid": "1d58b17b-13d6-46eb-94d0-7dccde96800c"
        },
        {
         "hovertemplate": "¿Cuánto tiempo al día usas el móvil/tableta/ordenador/TV?=5. 4-6 horas<br>counts=%{r}<br>prosume_cluster=%{theta}<extra></extra>",
         "legendgroup": "¿Cuánto tiempo al día usas el móvil/tableta/ordenador/TV?=5. 4-6 horas",
         "marker": {
          "color": "rgb(153,213,148)"
         },
         "name": "¿Cuánto tiempo al día usas el móvil/tableta/ordenador/TV?=5. 4-6 horas",
         "r": [
          4,
          48,
          24,
          30,
          90
         ],
         "showlegend": true,
         "theta": [
          "cluster_1",
          "cluster_2",
          "cluster_3",
          "cluster_4",
          "cluster_5"
         ],
         "type": "barpolar",
         "uid": "874406d6-00b2-4ff8-83d2-9ce24935ad8e"
        },
        {
         "hovertemplate": "¿Cuánto tiempo al día usas el móvil/tableta/ordenador/TV?=6. Más de 6 horas<br>counts=%{r}<br>prosume_cluster=%{theta}<extra></extra>",
         "legendgroup": "¿Cuánto tiempo al día usas el móvil/tableta/ordenador/TV?=6. Más de 6 horas",
         "marker": {
          "color": "rgb(50,136,189)"
         },
         "name": "¿Cuánto tiempo al día usas el móvil/tableta/ordenador/TV?=6. Más de 6 horas",
         "r": [
          1,
          51,
          50,
          38,
          176
         ],
         "showlegend": true,
         "theta": [
          "cluster_1",
          "cluster_2",
          "cluster_3",
          "cluster_4",
          "cluster_5"
         ],
         "type": "barpolar",
         "uid": "d1c1be0e-61a2-4151-82ef-c86a7d177542"
        }
       ],
       "layout": {
        "barmode": "group",
        "barnorm": "",
        "height": 600,
        "legend": {
         "tracegroupgap": 0
        },
        "margin": {
         "t": 60
        },
        "polar": {
         "angularaxis": {
          "direction": "clockwise",
          "rotation": 90
         }
        },
        "template": {
         "data": {
          "bar": [
           {
            "marker": {
             "line": {
              "color": "#E5ECF6",
              "width": 0.5
             }
            },
            "type": "bar"
           }
          ],
          "barpolar": [
           {
            "marker": {
             "line": {
              "color": "#E5ECF6",
              "width": 0.5
             }
            },
            "type": "barpolar"
           }
          ],
          "carpet": [
           {
            "aaxis": {
             "endlinecolor": "#2a3f5f",
             "gridcolor": "white",
             "linecolor": "white",
             "minorgridcolor": "white",
             "startlinecolor": "#2a3f5f"
            },
            "baxis": {
             "endlinecolor": "#2a3f5f",
             "gridcolor": "white",
             "linecolor": "white",
             "minorgridcolor": "white",
             "startlinecolor": "#2a3f5f"
            },
            "type": "carpet"
           }
          ],
          "choropleth": [
           {
            "colorbar": {
             "outlinewidth": 0,
             "ticks": ""
            },
            "type": "choropleth"
           }
          ],
          "contour": [
           {
            "autocolorscale": true,
            "colorbar": {
             "outlinewidth": 0,
             "ticks": ""
            },
            "type": "contour"
           }
          ],
          "contourcarpet": [
           {
            "colorbar": {
             "outlinewidth": 0,
             "ticks": ""
            },
            "type": "contourcarpet"
           }
          ],
          "heatmap": [
           {
            "autocolorscale": true,
            "colorbar": {
             "outlinewidth": 0,
             "ticks": ""
            },
            "type": "heatmap"
           }
          ],
          "heatmapgl": [
           {
            "colorbar": {
             "outlinewidth": 0,
             "ticks": ""
            },
            "type": "heatmapgl"
           }
          ],
          "histogram": [
           {
            "marker": {
             "colorbar": {
              "outlinewidth": 0,
              "ticks": ""
             }
            },
            "type": "histogram"
           }
          ],
          "histogram2d": [
           {
            "autocolorscale": true,
            "colorbar": {
             "outlinewidth": 0,
             "ticks": ""
            },
            "type": "histogram2d"
           }
          ],
          "histogram2dcontour": [
           {
            "autocolorscale": true,
            "colorbar": {
             "outlinewidth": 0,
             "ticks": ""
            },
            "type": "histogram2dcontour"
           }
          ],
          "mesh3d": [
           {
            "colorbar": {
             "outlinewidth": 0,
             "ticks": ""
            },
            "type": "mesh3d"
           }
          ],
          "parcoords": [
           {
            "line": {
             "colorbar": {
              "outlinewidth": 0,
              "ticks": ""
             }
            },
            "type": "parcoords"
           }
          ],
          "scatter": [
           {
            "marker": {
             "colorbar": {
              "outlinewidth": 0,
              "ticks": ""
             }
            },
            "type": "scatter"
           }
          ],
          "scatter3d": [
           {
            "marker": {
             "colorbar": {
              "outlinewidth": 0,
              "ticks": ""
             }
            },
            "type": "scatter3d"
           }
          ],
          "scattercarpet": [
           {
            "marker": {
             "colorbar": {
              "outlinewidth": 0,
              "ticks": ""
             }
            },
            "type": "scattercarpet"
           }
          ],
          "scattergeo": [
           {
            "marker": {
             "colorbar": {
              "outlinewidth": 0,
              "ticks": ""
             }
            },
            "type": "scattergeo"
           }
          ],
          "scattergl": [
           {
            "marker": {
             "colorbar": {
              "outlinewidth": 0,
              "ticks": ""
             }
            },
            "type": "scattergl"
           }
          ],
          "scattermapbox": [
           {
            "marker": {
             "colorbar": {
              "outlinewidth": 0,
              "ticks": ""
             }
            },
            "type": "scattermapbox"
           }
          ],
          "scatterpolar": [
           {
            "marker": {
             "colorbar": {
              "outlinewidth": 0,
              "ticks": ""
             }
            },
            "type": "scatterpolar"
           }
          ],
          "scatterpolargl": [
           {
            "marker": {
             "colorbar": {
              "outlinewidth": 0,
              "ticks": ""
             }
            },
            "type": "scatterpolargl"
           }
          ],
          "scatterternary": [
           {
            "marker": {
             "colorbar": {
              "outlinewidth": 0,
              "ticks": ""
             }
            },
            "type": "scatterternary"
           }
          ],
          "surface": [
           {
            "colorbar": {
             "outlinewidth": 0,
             "ticks": ""
            },
            "type": "surface"
           }
          ],
          "table": [
           {
            "cells": {
             "fill": {
              "color": "#EBF0F8"
             },
             "line": {
              "color": "white"
             }
            },
            "header": {
             "fill": {
              "color": "#C8D4E3"
             },
             "line": {
              "color": "white"
             }
            },
            "type": "table"
           }
          ]
         },
         "layout": {
          "annotationdefaults": {
           "arrowcolor": "#506784",
           "arrowhead": 0,
           "arrowwidth": 1
          },
          "colorscale": {
           "diverging": [
            [
             0,
             "#8e0152"
            ],
            [
             0.1,
             "#c51b7d"
            ],
            [
             0.2,
             "#de77ae"
            ],
            [
             0.3,
             "#f1b6da"
            ],
            [
             0.4,
             "#fde0ef"
            ],
            [
             0.5,
             "#f7f7f7"
            ],
            [
             0.6,
             "#e6f5d0"
            ],
            [
             0.7,
             "#b8e186"
            ],
            [
             0.8,
             "#7fbc41"
            ],
            [
             0.9,
             "#4d9221"
            ],
            [
             1,
             "#276419"
            ]
           ],
           "sequential": [
            [
             0,
             "#0508b8"
            ],
            [
             0.0893854748603352,
             "#1910d8"
            ],
            [
             0.1787709497206704,
             "#3c19f0"
            ],
            [
             0.2681564245810056,
             "#6b1cfb"
            ],
            [
             0.3575418994413408,
             "#981cfd"
            ],
            [
             0.44692737430167595,
             "#bf1cfd"
            ],
            [
             0.5363128491620112,
             "#dd2bfd"
            ],
            [
             0.6256983240223464,
             "#f246fe"
            ],
            [
             0.7150837988826816,
             "#fc67fd"
            ],
            [
             0.8044692737430168,
             "#fe88fc"
            ],
            [
             0.8938547486033519,
             "#fea5fd"
            ],
            [
             0.9832402234636871,
             "#febefe"
            ],
            [
             1,
             "#fec3fe"
            ]
           ],
           "sequentialminus": [
            [
             0,
             "#0508b8"
            ],
            [
             0.0893854748603352,
             "#1910d8"
            ],
            [
             0.1787709497206704,
             "#3c19f0"
            ],
            [
             0.2681564245810056,
             "#6b1cfb"
            ],
            [
             0.3575418994413408,
             "#981cfd"
            ],
            [
             0.44692737430167595,
             "#bf1cfd"
            ],
            [
             0.5363128491620112,
             "#dd2bfd"
            ],
            [
             0.6256983240223464,
             "#f246fe"
            ],
            [
             0.7150837988826816,
             "#fc67fd"
            ],
            [
             0.8044692737430168,
             "#fe88fc"
            ],
            [
             0.8938547486033519,
             "#fea5fd"
            ],
            [
             0.9832402234636871,
             "#febefe"
            ],
            [
             1,
             "#fec3fe"
            ]
           ]
          },
          "colorway": [
           "#636efa",
           "#EF553B",
           "#00cc96",
           "#ab63fa",
           "#19d3f3",
           "#e763fa",
           "#FECB52",
           "#FFA15A",
           "#FF6692",
           "#B6E880"
          ],
          "font": {
           "color": "#2a3f5f"
          },
          "geo": {
           "bgcolor": "white",
           "lakecolor": "white",
           "landcolor": "#E5ECF6",
           "showlakes": true,
           "showland": true,
           "subunitcolor": "white"
          },
          "hovermode": "closest",
          "mapbox": {
           "style": "light"
          },
          "paper_bgcolor": "white",
          "plot_bgcolor": "#E5ECF6",
          "polar": {
           "angularaxis": {
            "gridcolor": "white",
            "linecolor": "white",
            "ticks": ""
           },
           "bgcolor": "#E5ECF6",
           "radialaxis": {
            "gridcolor": "white",
            "linecolor": "white",
            "ticks": ""
           }
          },
          "scene": {
           "xaxis": {
            "backgroundcolor": "#E5ECF6",
            "gridcolor": "white",
            "gridwidth": 2,
            "linecolor": "white",
            "showbackground": true,
            "ticks": "",
            "zerolinecolor": "white"
           },
           "yaxis": {
            "backgroundcolor": "#E5ECF6",
            "gridcolor": "white",
            "gridwidth": 2,
            "linecolor": "white",
            "showbackground": true,
            "ticks": "",
            "zerolinecolor": "white"
           },
           "zaxis": {
            "backgroundcolor": "#E5ECF6",
            "gridcolor": "white",
            "gridwidth": 2,
            "linecolor": "white",
            "showbackground": true,
            "ticks": "",
            "zerolinecolor": "white"
           }
          },
          "shapedefaults": {
           "fillcolor": "#506784",
           "line": {
            "width": 0
           },
           "opacity": 0.4
          },
          "ternary": {
           "aaxis": {
            "gridcolor": "white",
            "linecolor": "white",
            "ticks": ""
           },
           "baxis": {
            "gridcolor": "white",
            "linecolor": "white",
            "ticks": ""
           },
           "bgcolor": "#E5ECF6",
           "caxis": {
            "gridcolor": "white",
            "linecolor": "white",
            "ticks": ""
           }
          },
          "title": {
           "x": 0.05
          },
          "xaxis": {
           "automargin": true,
           "gridcolor": "white",
           "linecolor": "white",
           "ticks": "",
           "zerolinecolor": "white",
           "zerolinewidth": 2
          },
          "yaxis": {
           "automargin": true,
           "gridcolor": "white",
           "linecolor": "white",
           "ticks": "",
           "zerolinecolor": "white",
           "zerolinewidth": 2
          }
         }
        }
       }
      },
      "text/html": [
       "<div id=\"4a8c9637-495f-425c-afe4-a3bc7d493a55\" style=\"height: 600px; width: 100%;\" class=\"plotly-graph-div\"></div><script type=\"text/javascript\">require([\"plotly\"], function(Plotly) { window.PLOTLYENV=window.PLOTLYENV || {};window.PLOTLYENV.BASE_URL=\"https://plot.ly\";\n",
       "if (document.getElementById(\"4a8c9637-495f-425c-afe4-a3bc7d493a55\")) {\n",
       "    Plotly.newPlot(\"4a8c9637-495f-425c-afe4-a3bc7d493a55\", [{\"hovertemplate\": \"\\u00bfCu\\u00e1nto tiempo al d\\u00eda usas el m\\u00f3vil/tableta/ordenador/TV?=1. Nada<br>counts=%{r}<br>prosume_cluster=%{theta}<extra></extra>\", \"legendgroup\": \"\\u00bfCu\\u00e1nto tiempo al d\\u00eda usas el m\\u00f3vil/tableta/ordenador/TV?=1. Nada\", \"marker\": {\"color\": \"rgb(213,62,79)\"}, \"name\": \"\\u00bfCu\\u00e1nto tiempo al d\\u00eda usas el m\\u00f3vil/tableta/ordenador/TV?=1. Nada\", \"r\": [1], \"showlegend\": true, \"theta\": [\"cluster_1\"], \"type\": \"barpolar\", \"uid\": \"7c16c1fa-317e-4ef6-902a-18ce57a7359e\"}, {\"hovertemplate\": \"\\u00bfCu\\u00e1nto tiempo al d\\u00eda usas el m\\u00f3vil/tableta/ordenador/TV?=2. Menos de una hora<br>counts=%{r}<br>prosume_cluster=%{theta}<extra></extra>\", \"legendgroup\": \"\\u00bfCu\\u00e1nto tiempo al d\\u00eda usas el m\\u00f3vil/tableta/ordenador/TV?=2. Menos de una hora\", \"marker\": {\"color\": \"rgb(252,141,89)\"}, \"name\": \"\\u00bfCu\\u00e1nto tiempo al d\\u00eda usas el m\\u00f3vil/tableta/ordenador/TV?=2. Menos de una hora\", \"r\": [1, 4, 1], \"showlegend\": true, \"theta\": [\"cluster_1\", \"cluster_2\", \"cluster_5\"], \"type\": \"barpolar\", \"uid\": \"a1a888d7-6dab-4ac2-8e34-6ebf81503c1d\"}, {\"hovertemplate\": \"\\u00bfCu\\u00e1nto tiempo al d\\u00eda usas el m\\u00f3vil/tableta/ordenador/TV?=3. 1-2 horas<br>counts=%{r}<br>prosume_cluster=%{theta}<extra></extra>\", \"legendgroup\": \"\\u00bfCu\\u00e1nto tiempo al d\\u00eda usas el m\\u00f3vil/tableta/ordenador/TV?=3. 1-2 horas\", \"marker\": {\"color\": \"rgb(254,224,139)\"}, \"name\": \"\\u00bfCu\\u00e1nto tiempo al d\\u00eda usas el m\\u00f3vil/tableta/ordenador/TV?=3. 1-2 horas\", \"r\": [23, 32, 10, 5, 12], \"showlegend\": true, \"theta\": [\"cluster_1\", \"cluster_2\", \"cluster_3\", \"cluster_4\", \"cluster_5\"], \"type\": \"barpolar\", \"uid\": \"965eacd9-b46e-4f50-8404-37e53eb53018\"}, {\"hovertemplate\": \"\\u00bfCu\\u00e1nto tiempo al d\\u00eda usas el m\\u00f3vil/tableta/ordenador/TV?=4. 2-4 horas<br>counts=%{r}<br>prosume_cluster=%{theta}<extra></extra>\", \"legendgroup\": \"\\u00bfCu\\u00e1nto tiempo al d\\u00eda usas el m\\u00f3vil/tableta/ordenador/TV?=4. 2-4 horas\", \"marker\": {\"color\": \"rgb(230,245,152)\"}, \"name\": \"\\u00bfCu\\u00e1nto tiempo al d\\u00eda usas el m\\u00f3vil/tableta/ordenador/TV?=4. 2-4 horas\", \"r\": [7, 61, 16, 25, 57], \"showlegend\": true, \"theta\": [\"cluster_1\", \"cluster_2\", \"cluster_3\", \"cluster_4\", \"cluster_5\"], \"type\": \"barpolar\", \"uid\": \"1d58b17b-13d6-46eb-94d0-7dccde96800c\"}, {\"hovertemplate\": \"\\u00bfCu\\u00e1nto tiempo al d\\u00eda usas el m\\u00f3vil/tableta/ordenador/TV?=5. 4-6 horas<br>counts=%{r}<br>prosume_cluster=%{theta}<extra></extra>\", \"legendgroup\": \"\\u00bfCu\\u00e1nto tiempo al d\\u00eda usas el m\\u00f3vil/tableta/ordenador/TV?=5. 4-6 horas\", \"marker\": {\"color\": \"rgb(153,213,148)\"}, \"name\": \"\\u00bfCu\\u00e1nto tiempo al d\\u00eda usas el m\\u00f3vil/tableta/ordenador/TV?=5. 4-6 horas\", \"r\": [4, 48, 24, 30, 90], \"showlegend\": true, \"theta\": [\"cluster_1\", \"cluster_2\", \"cluster_3\", \"cluster_4\", \"cluster_5\"], \"type\": \"barpolar\", \"uid\": \"874406d6-00b2-4ff8-83d2-9ce24935ad8e\"}, {\"hovertemplate\": \"\\u00bfCu\\u00e1nto tiempo al d\\u00eda usas el m\\u00f3vil/tableta/ordenador/TV?=6. M\\u00e1s de 6 horas<br>counts=%{r}<br>prosume_cluster=%{theta}<extra></extra>\", \"legendgroup\": \"\\u00bfCu\\u00e1nto tiempo al d\\u00eda usas el m\\u00f3vil/tableta/ordenador/TV?=6. M\\u00e1s de 6 horas\", \"marker\": {\"color\": \"rgb(50,136,189)\"}, \"name\": \"\\u00bfCu\\u00e1nto tiempo al d\\u00eda usas el m\\u00f3vil/tableta/ordenador/TV?=6. M\\u00e1s de 6 horas\", \"r\": [1, 51, 50, 38, 176], \"showlegend\": true, \"theta\": [\"cluster_1\", \"cluster_2\", \"cluster_3\", \"cluster_4\", \"cluster_5\"], \"type\": \"barpolar\", \"uid\": \"d1c1be0e-61a2-4151-82ef-c86a7d177542\"}], {\"barmode\": \"group\", \"barnorm\": \"\", \"height\": 600, \"legend\": {\"tracegroupgap\": 0}, \"margin\": {\"t\": 60}, \"template\": {\"data\": {\"barpolar\": [{\"marker\": {\"line\": {\"color\": \"#E5ECF6\", \"width\": 0.5}}, \"type\": \"barpolar\"}], \"bar\": [{\"marker\": {\"line\": {\"color\": \"#E5ECF6\", \"width\": 0.5}}, \"type\": \"bar\"}], \"carpet\": [{\"aaxis\": {\"endlinecolor\": \"#2a3f5f\", \"gridcolor\": \"white\", \"linecolor\": \"white\", \"minorgridcolor\": \"white\", \"startlinecolor\": \"#2a3f5f\"}, \"baxis\": {\"endlinecolor\": \"#2a3f5f\", \"gridcolor\": \"white\", \"linecolor\": \"white\", \"minorgridcolor\": \"white\", \"startlinecolor\": \"#2a3f5f\"}, \"type\": \"carpet\"}], \"choropleth\": [{\"colorbar\": {\"outlinewidth\": 0, \"ticks\": \"\"}, \"type\": \"choropleth\"}], \"contourcarpet\": [{\"colorbar\": {\"outlinewidth\": 0, \"ticks\": \"\"}, \"type\": \"contourcarpet\"}], \"contour\": [{\"autocolorscale\": true, \"colorbar\": {\"outlinewidth\": 0, \"ticks\": \"\"}, \"type\": \"contour\"}], \"heatmapgl\": [{\"colorbar\": {\"outlinewidth\": 0, \"ticks\": \"\"}, \"type\": \"heatmapgl\"}], \"heatmap\": [{\"autocolorscale\": true, \"colorbar\": {\"outlinewidth\": 0, \"ticks\": \"\"}, \"type\": \"heatmap\"}], \"histogram2dcontour\": [{\"autocolorscale\": true, \"colorbar\": {\"outlinewidth\": 0, \"ticks\": \"\"}, \"type\": \"histogram2dcontour\"}], \"histogram2d\": [{\"autocolorscale\": true, \"colorbar\": {\"outlinewidth\": 0, \"ticks\": \"\"}, \"type\": \"histogram2d\"}], \"histogram\": [{\"marker\": {\"colorbar\": {\"outlinewidth\": 0, \"ticks\": \"\"}}, \"type\": \"histogram\"}], \"mesh3d\": [{\"colorbar\": {\"outlinewidth\": 0, \"ticks\": \"\"}, \"type\": \"mesh3d\"}], \"parcoords\": [{\"line\": {\"colorbar\": {\"outlinewidth\": 0, \"ticks\": \"\"}}, \"type\": \"parcoords\"}], \"scatter3d\": [{\"marker\": {\"colorbar\": {\"outlinewidth\": 0, \"ticks\": \"\"}}, \"type\": \"scatter3d\"}], \"scattercarpet\": [{\"marker\": {\"colorbar\": {\"outlinewidth\": 0, \"ticks\": \"\"}}, \"type\": \"scattercarpet\"}], \"scattergeo\": [{\"marker\": {\"colorbar\": {\"outlinewidth\": 0, \"ticks\": \"\"}}, \"type\": \"scattergeo\"}], \"scattergl\": [{\"marker\": {\"colorbar\": {\"outlinewidth\": 0, \"ticks\": \"\"}}, \"type\": \"scattergl\"}], \"scattermapbox\": [{\"marker\": {\"colorbar\": {\"outlinewidth\": 0, \"ticks\": \"\"}}, \"type\": \"scattermapbox\"}], \"scatterpolargl\": [{\"marker\": {\"colorbar\": {\"outlinewidth\": 0, \"ticks\": \"\"}}, \"type\": \"scatterpolargl\"}], \"scatterpolar\": [{\"marker\": {\"colorbar\": {\"outlinewidth\": 0, \"ticks\": \"\"}}, \"type\": \"scatterpolar\"}], \"scatter\": [{\"marker\": {\"colorbar\": {\"outlinewidth\": 0, \"ticks\": \"\"}}, \"type\": \"scatter\"}], \"scatterternary\": [{\"marker\": {\"colorbar\": {\"outlinewidth\": 0, \"ticks\": \"\"}}, \"type\": \"scatterternary\"}], \"surface\": [{\"colorbar\": {\"outlinewidth\": 0, \"ticks\": \"\"}, \"type\": \"surface\"}], \"table\": [{\"cells\": {\"fill\": {\"color\": \"#EBF0F8\"}, \"line\": {\"color\": \"white\"}}, \"header\": {\"fill\": {\"color\": \"#C8D4E3\"}, \"line\": {\"color\": \"white\"}}, \"type\": \"table\"}]}, \"layout\": {\"annotationdefaults\": {\"arrowcolor\": \"#506784\", \"arrowhead\": 0, \"arrowwidth\": 1}, \"colorscale\": {\"diverging\": [[0, \"#8e0152\"], [0.1, \"#c51b7d\"], [0.2, \"#de77ae\"], [0.3, \"#f1b6da\"], [0.4, \"#fde0ef\"], [0.5, \"#f7f7f7\"], [0.6, \"#e6f5d0\"], [0.7, \"#b8e186\"], [0.8, \"#7fbc41\"], [0.9, \"#4d9221\"], [1, \"#276419\"]], \"sequential\": [[0.0, \"#0508b8\"], [0.0893854748603352, \"#1910d8\"], [0.1787709497206704, \"#3c19f0\"], [0.2681564245810056, \"#6b1cfb\"], [0.3575418994413408, \"#981cfd\"], [0.44692737430167595, \"#bf1cfd\"], [0.5363128491620112, \"#dd2bfd\"], [0.6256983240223464, \"#f246fe\"], [0.7150837988826816, \"#fc67fd\"], [0.8044692737430168, \"#fe88fc\"], [0.8938547486033519, \"#fea5fd\"], [0.9832402234636871, \"#febefe\"], [1.0, \"#fec3fe\"]], \"sequentialminus\": [[0.0, \"#0508b8\"], [0.0893854748603352, \"#1910d8\"], [0.1787709497206704, \"#3c19f0\"], [0.2681564245810056, \"#6b1cfb\"], [0.3575418994413408, \"#981cfd\"], [0.44692737430167595, \"#bf1cfd\"], [0.5363128491620112, \"#dd2bfd\"], [0.6256983240223464, \"#f246fe\"], [0.7150837988826816, \"#fc67fd\"], [0.8044692737430168, \"#fe88fc\"], [0.8938547486033519, \"#fea5fd\"], [0.9832402234636871, \"#febefe\"], [1.0, \"#fec3fe\"]]}, \"colorway\": [\"#636efa\", \"#EF553B\", \"#00cc96\", \"#ab63fa\", \"#19d3f3\", \"#e763fa\", \"#FECB52\", \"#FFA15A\", \"#FF6692\", \"#B6E880\"], \"font\": {\"color\": \"#2a3f5f\"}, \"geo\": {\"bgcolor\": \"white\", \"lakecolor\": \"white\", \"landcolor\": \"#E5ECF6\", \"showlakes\": true, \"showland\": true, \"subunitcolor\": \"white\"}, \"hovermode\": \"closest\", \"mapbox\": {\"style\": \"light\"}, \"paper_bgcolor\": \"white\", \"plot_bgcolor\": \"#E5ECF6\", \"polar\": {\"angularaxis\": {\"gridcolor\": \"white\", \"linecolor\": \"white\", \"ticks\": \"\"}, \"bgcolor\": \"#E5ECF6\", \"radialaxis\": {\"gridcolor\": \"white\", \"linecolor\": \"white\", \"ticks\": \"\"}}, \"scene\": {\"xaxis\": {\"backgroundcolor\": \"#E5ECF6\", \"gridcolor\": \"white\", \"gridwidth\": 2, \"linecolor\": \"white\", \"showbackground\": true, \"ticks\": \"\", \"zerolinecolor\": \"white\"}, \"yaxis\": {\"backgroundcolor\": \"#E5ECF6\", \"gridcolor\": \"white\", \"gridwidth\": 2, \"linecolor\": \"white\", \"showbackground\": true, \"ticks\": \"\", \"zerolinecolor\": \"white\"}, \"zaxis\": {\"backgroundcolor\": \"#E5ECF6\", \"gridcolor\": \"white\", \"gridwidth\": 2, \"linecolor\": \"white\", \"showbackground\": true, \"ticks\": \"\", \"zerolinecolor\": \"white\"}}, \"shapedefaults\": {\"fillcolor\": \"#506784\", \"line\": {\"width\": 0}, \"opacity\": 0.4}, \"ternary\": {\"aaxis\": {\"gridcolor\": \"white\", \"linecolor\": \"white\", \"ticks\": \"\"}, \"baxis\": {\"gridcolor\": \"white\", \"linecolor\": \"white\", \"ticks\": \"\"}, \"bgcolor\": \"#E5ECF6\", \"caxis\": {\"gridcolor\": \"white\", \"linecolor\": \"white\", \"ticks\": \"\"}}, \"title\": {\"x\": 0.05}, \"xaxis\": {\"automargin\": true, \"gridcolor\": \"white\", \"linecolor\": \"white\", \"ticks\": \"\", \"zerolinecolor\": \"white\", \"zerolinewidth\": 2}, \"yaxis\": {\"automargin\": true, \"gridcolor\": \"white\", \"linecolor\": \"white\", \"ticks\": \"\", \"zerolinecolor\": \"white\", \"zerolinewidth\": 2}}}, \"polar\": {\"angularaxis\": {\"direction\": \"clockwise\", \"rotation\": 90}}}, {\"showLink\": false, \"linkText\": \"Export to plot.ly\", \"plotlyServerURL\": \"https://plot.ly\"}); \n",
       "}\n",
       "});</script><script type=\"text/javascript\">window.addEventListener(\"resize\", function(){if (document.getElementById(\"4a8c9637-495f-425c-afe4-a3bc7d493a55\")) {window._Plotly.Plots.resize(document.getElementById(\"4a8c9637-495f-425c-afe4-a3bc7d493a55\"));};})</script>"
      ],
      "text/vnd.plotly.v1+html": [
       "<div id=\"4a8c9637-495f-425c-afe4-a3bc7d493a55\" style=\"height: 600px; width: 100%;\" class=\"plotly-graph-div\"></div><script type=\"text/javascript\">require([\"plotly\"], function(Plotly) { window.PLOTLYENV=window.PLOTLYENV || {};window.PLOTLYENV.BASE_URL=\"https://plot.ly\";\n",
       "if (document.getElementById(\"4a8c9637-495f-425c-afe4-a3bc7d493a55\")) {\n",
       "    Plotly.newPlot(\"4a8c9637-495f-425c-afe4-a3bc7d493a55\", [{\"hovertemplate\": \"\\u00bfCu\\u00e1nto tiempo al d\\u00eda usas el m\\u00f3vil/tableta/ordenador/TV?=1. Nada<br>counts=%{r}<br>prosume_cluster=%{theta}<extra></extra>\", \"legendgroup\": \"\\u00bfCu\\u00e1nto tiempo al d\\u00eda usas el m\\u00f3vil/tableta/ordenador/TV?=1. Nada\", \"marker\": {\"color\": \"rgb(213,62,79)\"}, \"name\": \"\\u00bfCu\\u00e1nto tiempo al d\\u00eda usas el m\\u00f3vil/tableta/ordenador/TV?=1. Nada\", \"r\": [1], \"showlegend\": true, \"theta\": [\"cluster_1\"], \"type\": \"barpolar\", \"uid\": \"7c16c1fa-317e-4ef6-902a-18ce57a7359e\"}, {\"hovertemplate\": \"\\u00bfCu\\u00e1nto tiempo al d\\u00eda usas el m\\u00f3vil/tableta/ordenador/TV?=2. Menos de una hora<br>counts=%{r}<br>prosume_cluster=%{theta}<extra></extra>\", \"legendgroup\": \"\\u00bfCu\\u00e1nto tiempo al d\\u00eda usas el m\\u00f3vil/tableta/ordenador/TV?=2. Menos de una hora\", \"marker\": {\"color\": \"rgb(252,141,89)\"}, \"name\": \"\\u00bfCu\\u00e1nto tiempo al d\\u00eda usas el m\\u00f3vil/tableta/ordenador/TV?=2. Menos de una hora\", \"r\": [1, 4, 1], \"showlegend\": true, \"theta\": [\"cluster_1\", \"cluster_2\", \"cluster_5\"], \"type\": \"barpolar\", \"uid\": \"a1a888d7-6dab-4ac2-8e34-6ebf81503c1d\"}, {\"hovertemplate\": \"\\u00bfCu\\u00e1nto tiempo al d\\u00eda usas el m\\u00f3vil/tableta/ordenador/TV?=3. 1-2 horas<br>counts=%{r}<br>prosume_cluster=%{theta}<extra></extra>\", \"legendgroup\": \"\\u00bfCu\\u00e1nto tiempo al d\\u00eda usas el m\\u00f3vil/tableta/ordenador/TV?=3. 1-2 horas\", \"marker\": {\"color\": \"rgb(254,224,139)\"}, \"name\": \"\\u00bfCu\\u00e1nto tiempo al d\\u00eda usas el m\\u00f3vil/tableta/ordenador/TV?=3. 1-2 horas\", \"r\": [23, 32, 10, 5, 12], \"showlegend\": true, \"theta\": [\"cluster_1\", \"cluster_2\", \"cluster_3\", \"cluster_4\", \"cluster_5\"], \"type\": \"barpolar\", \"uid\": \"965eacd9-b46e-4f50-8404-37e53eb53018\"}, {\"hovertemplate\": \"\\u00bfCu\\u00e1nto tiempo al d\\u00eda usas el m\\u00f3vil/tableta/ordenador/TV?=4. 2-4 horas<br>counts=%{r}<br>prosume_cluster=%{theta}<extra></extra>\", \"legendgroup\": \"\\u00bfCu\\u00e1nto tiempo al d\\u00eda usas el m\\u00f3vil/tableta/ordenador/TV?=4. 2-4 horas\", \"marker\": {\"color\": \"rgb(230,245,152)\"}, \"name\": \"\\u00bfCu\\u00e1nto tiempo al d\\u00eda usas el m\\u00f3vil/tableta/ordenador/TV?=4. 2-4 horas\", \"r\": [7, 61, 16, 25, 57], \"showlegend\": true, \"theta\": [\"cluster_1\", \"cluster_2\", \"cluster_3\", \"cluster_4\", \"cluster_5\"], \"type\": \"barpolar\", \"uid\": \"1d58b17b-13d6-46eb-94d0-7dccde96800c\"}, {\"hovertemplate\": \"\\u00bfCu\\u00e1nto tiempo al d\\u00eda usas el m\\u00f3vil/tableta/ordenador/TV?=5. 4-6 horas<br>counts=%{r}<br>prosume_cluster=%{theta}<extra></extra>\", \"legendgroup\": \"\\u00bfCu\\u00e1nto tiempo al d\\u00eda usas el m\\u00f3vil/tableta/ordenador/TV?=5. 4-6 horas\", \"marker\": {\"color\": \"rgb(153,213,148)\"}, \"name\": \"\\u00bfCu\\u00e1nto tiempo al d\\u00eda usas el m\\u00f3vil/tableta/ordenador/TV?=5. 4-6 horas\", \"r\": [4, 48, 24, 30, 90], \"showlegend\": true, \"theta\": [\"cluster_1\", \"cluster_2\", \"cluster_3\", \"cluster_4\", \"cluster_5\"], \"type\": \"barpolar\", \"uid\": \"874406d6-00b2-4ff8-83d2-9ce24935ad8e\"}, {\"hovertemplate\": \"\\u00bfCu\\u00e1nto tiempo al d\\u00eda usas el m\\u00f3vil/tableta/ordenador/TV?=6. M\\u00e1s de 6 horas<br>counts=%{r}<br>prosume_cluster=%{theta}<extra></extra>\", \"legendgroup\": \"\\u00bfCu\\u00e1nto tiempo al d\\u00eda usas el m\\u00f3vil/tableta/ordenador/TV?=6. M\\u00e1s de 6 horas\", \"marker\": {\"color\": \"rgb(50,136,189)\"}, \"name\": \"\\u00bfCu\\u00e1nto tiempo al d\\u00eda usas el m\\u00f3vil/tableta/ordenador/TV?=6. M\\u00e1s de 6 horas\", \"r\": [1, 51, 50, 38, 176], \"showlegend\": true, \"theta\": [\"cluster_1\", \"cluster_2\", \"cluster_3\", \"cluster_4\", \"cluster_5\"], \"type\": \"barpolar\", \"uid\": \"d1c1be0e-61a2-4151-82ef-c86a7d177542\"}], {\"barmode\": \"group\", \"barnorm\": \"\", \"height\": 600, \"legend\": {\"tracegroupgap\": 0}, \"margin\": {\"t\": 60}, \"template\": {\"data\": {\"barpolar\": [{\"marker\": {\"line\": {\"color\": \"#E5ECF6\", \"width\": 0.5}}, \"type\": \"barpolar\"}], \"bar\": [{\"marker\": {\"line\": {\"color\": \"#E5ECF6\", \"width\": 0.5}}, \"type\": \"bar\"}], \"carpet\": [{\"aaxis\": {\"endlinecolor\": \"#2a3f5f\", \"gridcolor\": \"white\", \"linecolor\": \"white\", \"minorgridcolor\": \"white\", \"startlinecolor\": \"#2a3f5f\"}, \"baxis\": {\"endlinecolor\": \"#2a3f5f\", \"gridcolor\": \"white\", \"linecolor\": \"white\", \"minorgridcolor\": \"white\", \"startlinecolor\": \"#2a3f5f\"}, \"type\": \"carpet\"}], \"choropleth\": [{\"colorbar\": {\"outlinewidth\": 0, \"ticks\": \"\"}, \"type\": \"choropleth\"}], \"contourcarpet\": [{\"colorbar\": {\"outlinewidth\": 0, \"ticks\": \"\"}, \"type\": \"contourcarpet\"}], \"contour\": [{\"autocolorscale\": true, \"colorbar\": {\"outlinewidth\": 0, \"ticks\": \"\"}, \"type\": \"contour\"}], \"heatmapgl\": [{\"colorbar\": {\"outlinewidth\": 0, \"ticks\": \"\"}, \"type\": \"heatmapgl\"}], \"heatmap\": [{\"autocolorscale\": true, \"colorbar\": {\"outlinewidth\": 0, \"ticks\": \"\"}, \"type\": \"heatmap\"}], \"histogram2dcontour\": [{\"autocolorscale\": true, \"colorbar\": {\"outlinewidth\": 0, \"ticks\": \"\"}, \"type\": \"histogram2dcontour\"}], \"histogram2d\": [{\"autocolorscale\": true, \"colorbar\": {\"outlinewidth\": 0, \"ticks\": \"\"}, \"type\": \"histogram2d\"}], \"histogram\": [{\"marker\": {\"colorbar\": {\"outlinewidth\": 0, \"ticks\": \"\"}}, \"type\": \"histogram\"}], \"mesh3d\": [{\"colorbar\": {\"outlinewidth\": 0, \"ticks\": \"\"}, \"type\": \"mesh3d\"}], \"parcoords\": [{\"line\": {\"colorbar\": {\"outlinewidth\": 0, \"ticks\": \"\"}}, \"type\": \"parcoords\"}], \"scatter3d\": [{\"marker\": {\"colorbar\": {\"outlinewidth\": 0, \"ticks\": \"\"}}, \"type\": \"scatter3d\"}], \"scattercarpet\": [{\"marker\": {\"colorbar\": {\"outlinewidth\": 0, \"ticks\": \"\"}}, \"type\": \"scattercarpet\"}], \"scattergeo\": [{\"marker\": {\"colorbar\": {\"outlinewidth\": 0, \"ticks\": \"\"}}, \"type\": \"scattergeo\"}], \"scattergl\": [{\"marker\": {\"colorbar\": {\"outlinewidth\": 0, \"ticks\": \"\"}}, \"type\": \"scattergl\"}], \"scattermapbox\": [{\"marker\": {\"colorbar\": {\"outlinewidth\": 0, \"ticks\": \"\"}}, \"type\": \"scattermapbox\"}], \"scatterpolargl\": [{\"marker\": {\"colorbar\": {\"outlinewidth\": 0, \"ticks\": \"\"}}, \"type\": \"scatterpolargl\"}], \"scatterpolar\": [{\"marker\": {\"colorbar\": {\"outlinewidth\": 0, \"ticks\": \"\"}}, \"type\": \"scatterpolar\"}], \"scatter\": [{\"marker\": {\"colorbar\": {\"outlinewidth\": 0, \"ticks\": \"\"}}, \"type\": \"scatter\"}], \"scatterternary\": [{\"marker\": {\"colorbar\": {\"outlinewidth\": 0, \"ticks\": \"\"}}, \"type\": \"scatterternary\"}], \"surface\": [{\"colorbar\": {\"outlinewidth\": 0, \"ticks\": \"\"}, \"type\": \"surface\"}], \"table\": [{\"cells\": {\"fill\": {\"color\": \"#EBF0F8\"}, \"line\": {\"color\": \"white\"}}, \"header\": {\"fill\": {\"color\": \"#C8D4E3\"}, \"line\": {\"color\": \"white\"}}, \"type\": \"table\"}]}, \"layout\": {\"annotationdefaults\": {\"arrowcolor\": \"#506784\", \"arrowhead\": 0, \"arrowwidth\": 1}, \"colorscale\": {\"diverging\": [[0, \"#8e0152\"], [0.1, \"#c51b7d\"], [0.2, \"#de77ae\"], [0.3, \"#f1b6da\"], [0.4, \"#fde0ef\"], [0.5, \"#f7f7f7\"], [0.6, \"#e6f5d0\"], [0.7, \"#b8e186\"], [0.8, \"#7fbc41\"], [0.9, \"#4d9221\"], [1, \"#276419\"]], \"sequential\": [[0.0, \"#0508b8\"], [0.0893854748603352, \"#1910d8\"], [0.1787709497206704, \"#3c19f0\"], [0.2681564245810056, \"#6b1cfb\"], [0.3575418994413408, \"#981cfd\"], [0.44692737430167595, \"#bf1cfd\"], [0.5363128491620112, \"#dd2bfd\"], [0.6256983240223464, \"#f246fe\"], [0.7150837988826816, \"#fc67fd\"], [0.8044692737430168, \"#fe88fc\"], [0.8938547486033519, \"#fea5fd\"], [0.9832402234636871, \"#febefe\"], [1.0, \"#fec3fe\"]], \"sequentialminus\": [[0.0, \"#0508b8\"], [0.0893854748603352, \"#1910d8\"], [0.1787709497206704, \"#3c19f0\"], [0.2681564245810056, \"#6b1cfb\"], [0.3575418994413408, \"#981cfd\"], [0.44692737430167595, \"#bf1cfd\"], [0.5363128491620112, \"#dd2bfd\"], [0.6256983240223464, \"#f246fe\"], [0.7150837988826816, \"#fc67fd\"], [0.8044692737430168, \"#fe88fc\"], [0.8938547486033519, \"#fea5fd\"], [0.9832402234636871, \"#febefe\"], [1.0, \"#fec3fe\"]]}, \"colorway\": [\"#636efa\", \"#EF553B\", \"#00cc96\", \"#ab63fa\", \"#19d3f3\", \"#e763fa\", \"#FECB52\", \"#FFA15A\", \"#FF6692\", \"#B6E880\"], \"font\": {\"color\": \"#2a3f5f\"}, \"geo\": {\"bgcolor\": \"white\", \"lakecolor\": \"white\", \"landcolor\": \"#E5ECF6\", \"showlakes\": true, \"showland\": true, \"subunitcolor\": \"white\"}, \"hovermode\": \"closest\", \"mapbox\": {\"style\": \"light\"}, \"paper_bgcolor\": \"white\", \"plot_bgcolor\": \"#E5ECF6\", \"polar\": {\"angularaxis\": {\"gridcolor\": \"white\", \"linecolor\": \"white\", \"ticks\": \"\"}, \"bgcolor\": \"#E5ECF6\", \"radialaxis\": {\"gridcolor\": \"white\", \"linecolor\": \"white\", \"ticks\": \"\"}}, \"scene\": {\"xaxis\": {\"backgroundcolor\": \"#E5ECF6\", \"gridcolor\": \"white\", \"gridwidth\": 2, \"linecolor\": \"white\", \"showbackground\": true, \"ticks\": \"\", \"zerolinecolor\": \"white\"}, \"yaxis\": {\"backgroundcolor\": \"#E5ECF6\", \"gridcolor\": \"white\", \"gridwidth\": 2, \"linecolor\": \"white\", \"showbackground\": true, \"ticks\": \"\", \"zerolinecolor\": \"white\"}, \"zaxis\": {\"backgroundcolor\": \"#E5ECF6\", \"gridcolor\": \"white\", \"gridwidth\": 2, \"linecolor\": \"white\", \"showbackground\": true, \"ticks\": \"\", \"zerolinecolor\": \"white\"}}, \"shapedefaults\": {\"fillcolor\": \"#506784\", \"line\": {\"width\": 0}, \"opacity\": 0.4}, \"ternary\": {\"aaxis\": {\"gridcolor\": \"white\", \"linecolor\": \"white\", \"ticks\": \"\"}, \"baxis\": {\"gridcolor\": \"white\", \"linecolor\": \"white\", \"ticks\": \"\"}, \"bgcolor\": \"#E5ECF6\", \"caxis\": {\"gridcolor\": \"white\", \"linecolor\": \"white\", \"ticks\": \"\"}}, \"title\": {\"x\": 0.05}, \"xaxis\": {\"automargin\": true, \"gridcolor\": \"white\", \"linecolor\": \"white\", \"ticks\": \"\", \"zerolinecolor\": \"white\", \"zerolinewidth\": 2}, \"yaxis\": {\"automargin\": true, \"gridcolor\": \"white\", \"linecolor\": \"white\", \"ticks\": \"\", \"zerolinecolor\": \"white\", \"zerolinewidth\": 2}}}, \"polar\": {\"angularaxis\": {\"direction\": \"clockwise\", \"rotation\": 90}}}, {\"showLink\": false, \"linkText\": \"Export to plot.ly\", \"plotlyServerURL\": \"https://plot.ly\"}); \n",
       "}\n",
       "});</script><script type=\"text/javascript\">window.addEventListener(\"resize\", function(){if (document.getElementById(\"4a8c9637-495f-425c-afe4-a3bc7d493a55\")) {window._Plotly.Plots.resize(document.getElementById(\"4a8c9637-495f-425c-afe4-a3bc7d493a55\"));};})</script>"
      ]
     },
     "metadata": {},
     "output_type": "display_data"
    },
    {
     "name": "stdout",
     "output_type": "stream",
     "text": [
      "Comparando la pregunta ¿Qué tipo de aplicaciones utilizas en tu ordenador/tableta/móvil? (Respuesta múltiple) [1. Apps de contenidos audiovisuales (Netflix, HBO, etc.)]\n"
     ]
    },
    {
     "data": {
      "application/vnd.plotly.v1+json": {
       "config": {
        "linkText": "Export to plot.ly",
        "plotlyServerURL": "https://plot.ly",
        "showLink": false
       },
       "data": [
        {
         "hovertemplate": "¿Qué tipo de aplicaciones utilizas en tu ordenador/tableta/móvil? (Respuesta múltiple) [1. Apps de contenidos audiovisuales (Netflix, HBO, etc.)]=No<br>counts=%{r}<br>prosume_cluster=%{theta}<extra></extra>",
         "legendgroup": "¿Qué tipo de aplicaciones utilizas en tu ordenador/tableta/móvil? (Respuesta múltiple) [1. Apps de contenidos audiovisuales (Netflix, HBO, etc.)]=No",
         "marker": {
          "color": "rgb(213,62,79)"
         },
         "name": "¿Qué tipo de aplicaciones utilizas en tu ordenador/tableta/móvil? (Respuesta múltiple) [1. Apps de contenidos audiovisuales (Netflix, HBO, etc.)]=No",
         "r": [
          32,
          130,
          57,
          23,
          98
         ],
         "showlegend": true,
         "theta": [
          "cluster_1",
          "cluster_2",
          "cluster_3",
          "cluster_4",
          "cluster_5"
         ],
         "type": "barpolar",
         "uid": "9cfb6471-fbac-4c2e-a1d2-c843bcc58b9f"
        },
        {
         "hovertemplate": "¿Qué tipo de aplicaciones utilizas en tu ordenador/tableta/móvil? (Respuesta múltiple) [1. Apps de contenidos audiovisuales (Netflix, HBO, etc.)]=Sí<br>counts=%{r}<br>prosume_cluster=%{theta}<extra></extra>",
         "legendgroup": "¿Qué tipo de aplicaciones utilizas en tu ordenador/tableta/móvil? (Respuesta múltiple) [1. Apps de contenidos audiovisuales (Netflix, HBO, etc.)]=Sí",
         "marker": {
          "color": "rgb(252,141,89)"
         },
         "name": "¿Qué tipo de aplicaciones utilizas en tu ordenador/tableta/móvil? (Respuesta múltiple) [1. Apps de contenidos audiovisuales (Netflix, HBO, etc.)]=Sí",
         "r": [
          5,
          66,
          43,
          75,
          238
         ],
         "showlegend": true,
         "theta": [
          "cluster_1",
          "cluster_2",
          "cluster_3",
          "cluster_4",
          "cluster_5"
         ],
         "type": "barpolar",
         "uid": "b7dde1db-e5db-4661-9170-1e3b20b70b6f"
        }
       ],
       "layout": {
        "barmode": "group",
        "barnorm": "",
        "height": 600,
        "legend": {
         "tracegroupgap": 0
        },
        "margin": {
         "t": 60
        },
        "polar": {
         "angularaxis": {
          "direction": "clockwise",
          "rotation": 90
         }
        },
        "template": {
         "data": {
          "bar": [
           {
            "marker": {
             "line": {
              "color": "#E5ECF6",
              "width": 0.5
             }
            },
            "type": "bar"
           }
          ],
          "barpolar": [
           {
            "marker": {
             "line": {
              "color": "#E5ECF6",
              "width": 0.5
             }
            },
            "type": "barpolar"
           }
          ],
          "carpet": [
           {
            "aaxis": {
             "endlinecolor": "#2a3f5f",
             "gridcolor": "white",
             "linecolor": "white",
             "minorgridcolor": "white",
             "startlinecolor": "#2a3f5f"
            },
            "baxis": {
             "endlinecolor": "#2a3f5f",
             "gridcolor": "white",
             "linecolor": "white",
             "minorgridcolor": "white",
             "startlinecolor": "#2a3f5f"
            },
            "type": "carpet"
           }
          ],
          "choropleth": [
           {
            "colorbar": {
             "outlinewidth": 0,
             "ticks": ""
            },
            "type": "choropleth"
           }
          ],
          "contour": [
           {
            "autocolorscale": true,
            "colorbar": {
             "outlinewidth": 0,
             "ticks": ""
            },
            "type": "contour"
           }
          ],
          "contourcarpet": [
           {
            "colorbar": {
             "outlinewidth": 0,
             "ticks": ""
            },
            "type": "contourcarpet"
           }
          ],
          "heatmap": [
           {
            "autocolorscale": true,
            "colorbar": {
             "outlinewidth": 0,
             "ticks": ""
            },
            "type": "heatmap"
           }
          ],
          "heatmapgl": [
           {
            "colorbar": {
             "outlinewidth": 0,
             "ticks": ""
            },
            "type": "heatmapgl"
           }
          ],
          "histogram": [
           {
            "marker": {
             "colorbar": {
              "outlinewidth": 0,
              "ticks": ""
             }
            },
            "type": "histogram"
           }
          ],
          "histogram2d": [
           {
            "autocolorscale": true,
            "colorbar": {
             "outlinewidth": 0,
             "ticks": ""
            },
            "type": "histogram2d"
           }
          ],
          "histogram2dcontour": [
           {
            "autocolorscale": true,
            "colorbar": {
             "outlinewidth": 0,
             "ticks": ""
            },
            "type": "histogram2dcontour"
           }
          ],
          "mesh3d": [
           {
            "colorbar": {
             "outlinewidth": 0,
             "ticks": ""
            },
            "type": "mesh3d"
           }
          ],
          "parcoords": [
           {
            "line": {
             "colorbar": {
              "outlinewidth": 0,
              "ticks": ""
             }
            },
            "type": "parcoords"
           }
          ],
          "scatter": [
           {
            "marker": {
             "colorbar": {
              "outlinewidth": 0,
              "ticks": ""
             }
            },
            "type": "scatter"
           }
          ],
          "scatter3d": [
           {
            "marker": {
             "colorbar": {
              "outlinewidth": 0,
              "ticks": ""
             }
            },
            "type": "scatter3d"
           }
          ],
          "scattercarpet": [
           {
            "marker": {
             "colorbar": {
              "outlinewidth": 0,
              "ticks": ""
             }
            },
            "type": "scattercarpet"
           }
          ],
          "scattergeo": [
           {
            "marker": {
             "colorbar": {
              "outlinewidth": 0,
              "ticks": ""
             }
            },
            "type": "scattergeo"
           }
          ],
          "scattergl": [
           {
            "marker": {
             "colorbar": {
              "outlinewidth": 0,
              "ticks": ""
             }
            },
            "type": "scattergl"
           }
          ],
          "scattermapbox": [
           {
            "marker": {
             "colorbar": {
              "outlinewidth": 0,
              "ticks": ""
             }
            },
            "type": "scattermapbox"
           }
          ],
          "scatterpolar": [
           {
            "marker": {
             "colorbar": {
              "outlinewidth": 0,
              "ticks": ""
             }
            },
            "type": "scatterpolar"
           }
          ],
          "scatterpolargl": [
           {
            "marker": {
             "colorbar": {
              "outlinewidth": 0,
              "ticks": ""
             }
            },
            "type": "scatterpolargl"
           }
          ],
          "scatterternary": [
           {
            "marker": {
             "colorbar": {
              "outlinewidth": 0,
              "ticks": ""
             }
            },
            "type": "scatterternary"
           }
          ],
          "surface": [
           {
            "colorbar": {
             "outlinewidth": 0,
             "ticks": ""
            },
            "type": "surface"
           }
          ],
          "table": [
           {
            "cells": {
             "fill": {
              "color": "#EBF0F8"
             },
             "line": {
              "color": "white"
             }
            },
            "header": {
             "fill": {
              "color": "#C8D4E3"
             },
             "line": {
              "color": "white"
             }
            },
            "type": "table"
           }
          ]
         },
         "layout": {
          "annotationdefaults": {
           "arrowcolor": "#506784",
           "arrowhead": 0,
           "arrowwidth": 1
          },
          "colorscale": {
           "diverging": [
            [
             0,
             "#8e0152"
            ],
            [
             0.1,
             "#c51b7d"
            ],
            [
             0.2,
             "#de77ae"
            ],
            [
             0.3,
             "#f1b6da"
            ],
            [
             0.4,
             "#fde0ef"
            ],
            [
             0.5,
             "#f7f7f7"
            ],
            [
             0.6,
             "#e6f5d0"
            ],
            [
             0.7,
             "#b8e186"
            ],
            [
             0.8,
             "#7fbc41"
            ],
            [
             0.9,
             "#4d9221"
            ],
            [
             1,
             "#276419"
            ]
           ],
           "sequential": [
            [
             0,
             "#0508b8"
            ],
            [
             0.0893854748603352,
             "#1910d8"
            ],
            [
             0.1787709497206704,
             "#3c19f0"
            ],
            [
             0.2681564245810056,
             "#6b1cfb"
            ],
            [
             0.3575418994413408,
             "#981cfd"
            ],
            [
             0.44692737430167595,
             "#bf1cfd"
            ],
            [
             0.5363128491620112,
             "#dd2bfd"
            ],
            [
             0.6256983240223464,
             "#f246fe"
            ],
            [
             0.7150837988826816,
             "#fc67fd"
            ],
            [
             0.8044692737430168,
             "#fe88fc"
            ],
            [
             0.8938547486033519,
             "#fea5fd"
            ],
            [
             0.9832402234636871,
             "#febefe"
            ],
            [
             1,
             "#fec3fe"
            ]
           ],
           "sequentialminus": [
            [
             0,
             "#0508b8"
            ],
            [
             0.0893854748603352,
             "#1910d8"
            ],
            [
             0.1787709497206704,
             "#3c19f0"
            ],
            [
             0.2681564245810056,
             "#6b1cfb"
            ],
            [
             0.3575418994413408,
             "#981cfd"
            ],
            [
             0.44692737430167595,
             "#bf1cfd"
            ],
            [
             0.5363128491620112,
             "#dd2bfd"
            ],
            [
             0.6256983240223464,
             "#f246fe"
            ],
            [
             0.7150837988826816,
             "#fc67fd"
            ],
            [
             0.8044692737430168,
             "#fe88fc"
            ],
            [
             0.8938547486033519,
             "#fea5fd"
            ],
            [
             0.9832402234636871,
             "#febefe"
            ],
            [
             1,
             "#fec3fe"
            ]
           ]
          },
          "colorway": [
           "#636efa",
           "#EF553B",
           "#00cc96",
           "#ab63fa",
           "#19d3f3",
           "#e763fa",
           "#FECB52",
           "#FFA15A",
           "#FF6692",
           "#B6E880"
          ],
          "font": {
           "color": "#2a3f5f"
          },
          "geo": {
           "bgcolor": "white",
           "lakecolor": "white",
           "landcolor": "#E5ECF6",
           "showlakes": true,
           "showland": true,
           "subunitcolor": "white"
          },
          "hovermode": "closest",
          "mapbox": {
           "style": "light"
          },
          "paper_bgcolor": "white",
          "plot_bgcolor": "#E5ECF6",
          "polar": {
           "angularaxis": {
            "gridcolor": "white",
            "linecolor": "white",
            "ticks": ""
           },
           "bgcolor": "#E5ECF6",
           "radialaxis": {
            "gridcolor": "white",
            "linecolor": "white",
            "ticks": ""
           }
          },
          "scene": {
           "xaxis": {
            "backgroundcolor": "#E5ECF6",
            "gridcolor": "white",
            "gridwidth": 2,
            "linecolor": "white",
            "showbackground": true,
            "ticks": "",
            "zerolinecolor": "white"
           },
           "yaxis": {
            "backgroundcolor": "#E5ECF6",
            "gridcolor": "white",
            "gridwidth": 2,
            "linecolor": "white",
            "showbackground": true,
            "ticks": "",
            "zerolinecolor": "white"
           },
           "zaxis": {
            "backgroundcolor": "#E5ECF6",
            "gridcolor": "white",
            "gridwidth": 2,
            "linecolor": "white",
            "showbackground": true,
            "ticks": "",
            "zerolinecolor": "white"
           }
          },
          "shapedefaults": {
           "fillcolor": "#506784",
           "line": {
            "width": 0
           },
           "opacity": 0.4
          },
          "ternary": {
           "aaxis": {
            "gridcolor": "white",
            "linecolor": "white",
            "ticks": ""
           },
           "baxis": {
            "gridcolor": "white",
            "linecolor": "white",
            "ticks": ""
           },
           "bgcolor": "#E5ECF6",
           "caxis": {
            "gridcolor": "white",
            "linecolor": "white",
            "ticks": ""
           }
          },
          "title": {
           "x": 0.05
          },
          "xaxis": {
           "automargin": true,
           "gridcolor": "white",
           "linecolor": "white",
           "ticks": "",
           "zerolinecolor": "white",
           "zerolinewidth": 2
          },
          "yaxis": {
           "automargin": true,
           "gridcolor": "white",
           "linecolor": "white",
           "ticks": "",
           "zerolinecolor": "white",
           "zerolinewidth": 2
          }
         }
        }
       }
      },
      "text/html": [
       "<div id=\"bc4b7ee9-bfb9-4390-ae62-37ce82be0f76\" style=\"height: 600px; width: 100%;\" class=\"plotly-graph-div\"></div><script type=\"text/javascript\">require([\"plotly\"], function(Plotly) { window.PLOTLYENV=window.PLOTLYENV || {};window.PLOTLYENV.BASE_URL=\"https://plot.ly\";\n",
       "if (document.getElementById(\"bc4b7ee9-bfb9-4390-ae62-37ce82be0f76\")) {\n",
       "    Plotly.newPlot(\"bc4b7ee9-bfb9-4390-ae62-37ce82be0f76\", [{\"hovertemplate\": \"\\u00bfQu\\u00e9 tipo de aplicaciones utilizas en tu ordenador/tableta/m\\u00f3vil? (Respuesta m\\u00faltiple) [1. Apps de contenidos audiovisuales (Netflix, HBO, etc.)]=No<br>counts=%{r}<br>prosume_cluster=%{theta}<extra></extra>\", \"legendgroup\": \"\\u00bfQu\\u00e9 tipo de aplicaciones utilizas en tu ordenador/tableta/m\\u00f3vil? (Respuesta m\\u00faltiple) [1. Apps de contenidos audiovisuales (Netflix, HBO, etc.)]=No\", \"marker\": {\"color\": \"rgb(213,62,79)\"}, \"name\": \"\\u00bfQu\\u00e9 tipo de aplicaciones utilizas en tu ordenador/tableta/m\\u00f3vil? (Respuesta m\\u00faltiple) [1. Apps de contenidos audiovisuales (Netflix, HBO, etc.)]=No\", \"r\": [32, 130, 57, 23, 98], \"showlegend\": true, \"theta\": [\"cluster_1\", \"cluster_2\", \"cluster_3\", \"cluster_4\", \"cluster_5\"], \"type\": \"barpolar\", \"uid\": \"9cfb6471-fbac-4c2e-a1d2-c843bcc58b9f\"}, {\"hovertemplate\": \"\\u00bfQu\\u00e9 tipo de aplicaciones utilizas en tu ordenador/tableta/m\\u00f3vil? (Respuesta m\\u00faltiple) [1. Apps de contenidos audiovisuales (Netflix, HBO, etc.)]=S\\u00ed<br>counts=%{r}<br>prosume_cluster=%{theta}<extra></extra>\", \"legendgroup\": \"\\u00bfQu\\u00e9 tipo de aplicaciones utilizas en tu ordenador/tableta/m\\u00f3vil? (Respuesta m\\u00faltiple) [1. Apps de contenidos audiovisuales (Netflix, HBO, etc.)]=S\\u00ed\", \"marker\": {\"color\": \"rgb(252,141,89)\"}, \"name\": \"\\u00bfQu\\u00e9 tipo de aplicaciones utilizas en tu ordenador/tableta/m\\u00f3vil? (Respuesta m\\u00faltiple) [1. Apps de contenidos audiovisuales (Netflix, HBO, etc.)]=S\\u00ed\", \"r\": [5, 66, 43, 75, 238], \"showlegend\": true, \"theta\": [\"cluster_1\", \"cluster_2\", \"cluster_3\", \"cluster_4\", \"cluster_5\"], \"type\": \"barpolar\", \"uid\": \"b7dde1db-e5db-4661-9170-1e3b20b70b6f\"}], {\"barmode\": \"group\", \"barnorm\": \"\", \"height\": 600, \"legend\": {\"tracegroupgap\": 0}, \"margin\": {\"t\": 60}, \"template\": {\"data\": {\"barpolar\": [{\"marker\": {\"line\": {\"color\": \"#E5ECF6\", \"width\": 0.5}}, \"type\": \"barpolar\"}], \"bar\": [{\"marker\": {\"line\": {\"color\": \"#E5ECF6\", \"width\": 0.5}}, \"type\": \"bar\"}], \"carpet\": [{\"aaxis\": {\"endlinecolor\": \"#2a3f5f\", \"gridcolor\": \"white\", \"linecolor\": \"white\", \"minorgridcolor\": \"white\", \"startlinecolor\": \"#2a3f5f\"}, \"baxis\": {\"endlinecolor\": \"#2a3f5f\", \"gridcolor\": \"white\", \"linecolor\": \"white\", \"minorgridcolor\": \"white\", \"startlinecolor\": \"#2a3f5f\"}, \"type\": \"carpet\"}], \"choropleth\": [{\"colorbar\": {\"outlinewidth\": 0, \"ticks\": \"\"}, \"type\": \"choropleth\"}], \"contourcarpet\": [{\"colorbar\": {\"outlinewidth\": 0, \"ticks\": \"\"}, \"type\": \"contourcarpet\"}], \"contour\": [{\"autocolorscale\": true, \"colorbar\": {\"outlinewidth\": 0, \"ticks\": \"\"}, \"type\": \"contour\"}], \"heatmapgl\": [{\"colorbar\": {\"outlinewidth\": 0, \"ticks\": \"\"}, \"type\": \"heatmapgl\"}], \"heatmap\": [{\"autocolorscale\": true, \"colorbar\": {\"outlinewidth\": 0, \"ticks\": \"\"}, \"type\": \"heatmap\"}], \"histogram2dcontour\": [{\"autocolorscale\": true, \"colorbar\": {\"outlinewidth\": 0, \"ticks\": \"\"}, \"type\": \"histogram2dcontour\"}], \"histogram2d\": [{\"autocolorscale\": true, \"colorbar\": {\"outlinewidth\": 0, \"ticks\": \"\"}, \"type\": \"histogram2d\"}], \"histogram\": [{\"marker\": {\"colorbar\": {\"outlinewidth\": 0, \"ticks\": \"\"}}, \"type\": \"histogram\"}], \"mesh3d\": [{\"colorbar\": {\"outlinewidth\": 0, \"ticks\": \"\"}, \"type\": \"mesh3d\"}], \"parcoords\": [{\"line\": {\"colorbar\": {\"outlinewidth\": 0, \"ticks\": \"\"}}, \"type\": \"parcoords\"}], \"scatter3d\": [{\"marker\": {\"colorbar\": {\"outlinewidth\": 0, \"ticks\": \"\"}}, \"type\": \"scatter3d\"}], \"scattercarpet\": [{\"marker\": {\"colorbar\": {\"outlinewidth\": 0, \"ticks\": \"\"}}, \"type\": \"scattercarpet\"}], \"scattergeo\": [{\"marker\": {\"colorbar\": {\"outlinewidth\": 0, \"ticks\": \"\"}}, \"type\": \"scattergeo\"}], \"scattergl\": [{\"marker\": {\"colorbar\": {\"outlinewidth\": 0, \"ticks\": \"\"}}, \"type\": \"scattergl\"}], \"scattermapbox\": [{\"marker\": {\"colorbar\": {\"outlinewidth\": 0, \"ticks\": \"\"}}, \"type\": \"scattermapbox\"}], \"scatterpolargl\": [{\"marker\": {\"colorbar\": {\"outlinewidth\": 0, \"ticks\": \"\"}}, \"type\": \"scatterpolargl\"}], \"scatterpolar\": [{\"marker\": {\"colorbar\": {\"outlinewidth\": 0, \"ticks\": \"\"}}, \"type\": \"scatterpolar\"}], \"scatter\": [{\"marker\": {\"colorbar\": {\"outlinewidth\": 0, \"ticks\": \"\"}}, \"type\": \"scatter\"}], \"scatterternary\": [{\"marker\": {\"colorbar\": {\"outlinewidth\": 0, \"ticks\": \"\"}}, \"type\": \"scatterternary\"}], \"surface\": [{\"colorbar\": {\"outlinewidth\": 0, \"ticks\": \"\"}, \"type\": \"surface\"}], \"table\": [{\"cells\": {\"fill\": {\"color\": \"#EBF0F8\"}, \"line\": {\"color\": \"white\"}}, \"header\": {\"fill\": {\"color\": \"#C8D4E3\"}, \"line\": {\"color\": \"white\"}}, \"type\": \"table\"}]}, \"layout\": {\"annotationdefaults\": {\"arrowcolor\": \"#506784\", \"arrowhead\": 0, \"arrowwidth\": 1}, \"colorscale\": {\"diverging\": [[0, \"#8e0152\"], [0.1, \"#c51b7d\"], [0.2, \"#de77ae\"], [0.3, \"#f1b6da\"], [0.4, \"#fde0ef\"], [0.5, \"#f7f7f7\"], [0.6, \"#e6f5d0\"], [0.7, \"#b8e186\"], [0.8, \"#7fbc41\"], [0.9, \"#4d9221\"], [1, \"#276419\"]], \"sequential\": [[0.0, \"#0508b8\"], [0.0893854748603352, \"#1910d8\"], [0.1787709497206704, \"#3c19f0\"], [0.2681564245810056, \"#6b1cfb\"], [0.3575418994413408, \"#981cfd\"], [0.44692737430167595, \"#bf1cfd\"], [0.5363128491620112, \"#dd2bfd\"], [0.6256983240223464, \"#f246fe\"], [0.7150837988826816, \"#fc67fd\"], [0.8044692737430168, \"#fe88fc\"], [0.8938547486033519, \"#fea5fd\"], [0.9832402234636871, \"#febefe\"], [1.0, \"#fec3fe\"]], \"sequentialminus\": [[0.0, \"#0508b8\"], [0.0893854748603352, \"#1910d8\"], [0.1787709497206704, \"#3c19f0\"], [0.2681564245810056, \"#6b1cfb\"], [0.3575418994413408, \"#981cfd\"], [0.44692737430167595, \"#bf1cfd\"], [0.5363128491620112, \"#dd2bfd\"], [0.6256983240223464, \"#f246fe\"], [0.7150837988826816, \"#fc67fd\"], [0.8044692737430168, \"#fe88fc\"], [0.8938547486033519, \"#fea5fd\"], [0.9832402234636871, \"#febefe\"], [1.0, \"#fec3fe\"]]}, \"colorway\": [\"#636efa\", \"#EF553B\", \"#00cc96\", \"#ab63fa\", \"#19d3f3\", \"#e763fa\", \"#FECB52\", \"#FFA15A\", \"#FF6692\", \"#B6E880\"], \"font\": {\"color\": \"#2a3f5f\"}, \"geo\": {\"bgcolor\": \"white\", \"lakecolor\": \"white\", \"landcolor\": \"#E5ECF6\", \"showlakes\": true, \"showland\": true, \"subunitcolor\": \"white\"}, \"hovermode\": \"closest\", \"mapbox\": {\"style\": \"light\"}, \"paper_bgcolor\": \"white\", \"plot_bgcolor\": \"#E5ECF6\", \"polar\": {\"angularaxis\": {\"gridcolor\": \"white\", \"linecolor\": \"white\", \"ticks\": \"\"}, \"bgcolor\": \"#E5ECF6\", \"radialaxis\": {\"gridcolor\": \"white\", \"linecolor\": \"white\", \"ticks\": \"\"}}, \"scene\": {\"xaxis\": {\"backgroundcolor\": \"#E5ECF6\", \"gridcolor\": \"white\", \"gridwidth\": 2, \"linecolor\": \"white\", \"showbackground\": true, \"ticks\": \"\", \"zerolinecolor\": \"white\"}, \"yaxis\": {\"backgroundcolor\": \"#E5ECF6\", \"gridcolor\": \"white\", \"gridwidth\": 2, \"linecolor\": \"white\", \"showbackground\": true, \"ticks\": \"\", \"zerolinecolor\": \"white\"}, \"zaxis\": {\"backgroundcolor\": \"#E5ECF6\", \"gridcolor\": \"white\", \"gridwidth\": 2, \"linecolor\": \"white\", \"showbackground\": true, \"ticks\": \"\", \"zerolinecolor\": \"white\"}}, \"shapedefaults\": {\"fillcolor\": \"#506784\", \"line\": {\"width\": 0}, \"opacity\": 0.4}, \"ternary\": {\"aaxis\": {\"gridcolor\": \"white\", \"linecolor\": \"white\", \"ticks\": \"\"}, \"baxis\": {\"gridcolor\": \"white\", \"linecolor\": \"white\", \"ticks\": \"\"}, \"bgcolor\": \"#E5ECF6\", \"caxis\": {\"gridcolor\": \"white\", \"linecolor\": \"white\", \"ticks\": \"\"}}, \"title\": {\"x\": 0.05}, \"xaxis\": {\"automargin\": true, \"gridcolor\": \"white\", \"linecolor\": \"white\", \"ticks\": \"\", \"zerolinecolor\": \"white\", \"zerolinewidth\": 2}, \"yaxis\": {\"automargin\": true, \"gridcolor\": \"white\", \"linecolor\": \"white\", \"ticks\": \"\", \"zerolinecolor\": \"white\", \"zerolinewidth\": 2}}}, \"polar\": {\"angularaxis\": {\"direction\": \"clockwise\", \"rotation\": 90}}}, {\"showLink\": false, \"linkText\": \"Export to plot.ly\", \"plotlyServerURL\": \"https://plot.ly\"}); \n",
       "}\n",
       "});</script><script type=\"text/javascript\">window.addEventListener(\"resize\", function(){if (document.getElementById(\"bc4b7ee9-bfb9-4390-ae62-37ce82be0f76\")) {window._Plotly.Plots.resize(document.getElementById(\"bc4b7ee9-bfb9-4390-ae62-37ce82be0f76\"));};})</script>"
      ],
      "text/vnd.plotly.v1+html": [
       "<div id=\"bc4b7ee9-bfb9-4390-ae62-37ce82be0f76\" style=\"height: 600px; width: 100%;\" class=\"plotly-graph-div\"></div><script type=\"text/javascript\">require([\"plotly\"], function(Plotly) { window.PLOTLYENV=window.PLOTLYENV || {};window.PLOTLYENV.BASE_URL=\"https://plot.ly\";\n",
       "if (document.getElementById(\"bc4b7ee9-bfb9-4390-ae62-37ce82be0f76\")) {\n",
       "    Plotly.newPlot(\"bc4b7ee9-bfb9-4390-ae62-37ce82be0f76\", [{\"hovertemplate\": \"\\u00bfQu\\u00e9 tipo de aplicaciones utilizas en tu ordenador/tableta/m\\u00f3vil? (Respuesta m\\u00faltiple) [1. Apps de contenidos audiovisuales (Netflix, HBO, etc.)]=No<br>counts=%{r}<br>prosume_cluster=%{theta}<extra></extra>\", \"legendgroup\": \"\\u00bfQu\\u00e9 tipo de aplicaciones utilizas en tu ordenador/tableta/m\\u00f3vil? (Respuesta m\\u00faltiple) [1. Apps de contenidos audiovisuales (Netflix, HBO, etc.)]=No\", \"marker\": {\"color\": \"rgb(213,62,79)\"}, \"name\": \"\\u00bfQu\\u00e9 tipo de aplicaciones utilizas en tu ordenador/tableta/m\\u00f3vil? (Respuesta m\\u00faltiple) [1. Apps de contenidos audiovisuales (Netflix, HBO, etc.)]=No\", \"r\": [32, 130, 57, 23, 98], \"showlegend\": true, \"theta\": [\"cluster_1\", \"cluster_2\", \"cluster_3\", \"cluster_4\", \"cluster_5\"], \"type\": \"barpolar\", \"uid\": \"9cfb6471-fbac-4c2e-a1d2-c843bcc58b9f\"}, {\"hovertemplate\": \"\\u00bfQu\\u00e9 tipo de aplicaciones utilizas en tu ordenador/tableta/m\\u00f3vil? (Respuesta m\\u00faltiple) [1. Apps de contenidos audiovisuales (Netflix, HBO, etc.)]=S\\u00ed<br>counts=%{r}<br>prosume_cluster=%{theta}<extra></extra>\", \"legendgroup\": \"\\u00bfQu\\u00e9 tipo de aplicaciones utilizas en tu ordenador/tableta/m\\u00f3vil? (Respuesta m\\u00faltiple) [1. Apps de contenidos audiovisuales (Netflix, HBO, etc.)]=S\\u00ed\", \"marker\": {\"color\": \"rgb(252,141,89)\"}, \"name\": \"\\u00bfQu\\u00e9 tipo de aplicaciones utilizas en tu ordenador/tableta/m\\u00f3vil? (Respuesta m\\u00faltiple) [1. Apps de contenidos audiovisuales (Netflix, HBO, etc.)]=S\\u00ed\", \"r\": [5, 66, 43, 75, 238], \"showlegend\": true, \"theta\": [\"cluster_1\", \"cluster_2\", \"cluster_3\", \"cluster_4\", \"cluster_5\"], \"type\": \"barpolar\", \"uid\": \"b7dde1db-e5db-4661-9170-1e3b20b70b6f\"}], {\"barmode\": \"group\", \"barnorm\": \"\", \"height\": 600, \"legend\": {\"tracegroupgap\": 0}, \"margin\": {\"t\": 60}, \"template\": {\"data\": {\"barpolar\": [{\"marker\": {\"line\": {\"color\": \"#E5ECF6\", \"width\": 0.5}}, \"type\": \"barpolar\"}], \"bar\": [{\"marker\": {\"line\": {\"color\": \"#E5ECF6\", \"width\": 0.5}}, \"type\": \"bar\"}], \"carpet\": [{\"aaxis\": {\"endlinecolor\": \"#2a3f5f\", \"gridcolor\": \"white\", \"linecolor\": \"white\", \"minorgridcolor\": \"white\", \"startlinecolor\": \"#2a3f5f\"}, \"baxis\": {\"endlinecolor\": \"#2a3f5f\", \"gridcolor\": \"white\", \"linecolor\": \"white\", \"minorgridcolor\": \"white\", \"startlinecolor\": \"#2a3f5f\"}, \"type\": \"carpet\"}], \"choropleth\": [{\"colorbar\": {\"outlinewidth\": 0, \"ticks\": \"\"}, \"type\": \"choropleth\"}], \"contourcarpet\": [{\"colorbar\": {\"outlinewidth\": 0, \"ticks\": \"\"}, \"type\": \"contourcarpet\"}], \"contour\": [{\"autocolorscale\": true, \"colorbar\": {\"outlinewidth\": 0, \"ticks\": \"\"}, \"type\": \"contour\"}], \"heatmapgl\": [{\"colorbar\": {\"outlinewidth\": 0, \"ticks\": \"\"}, \"type\": \"heatmapgl\"}], \"heatmap\": [{\"autocolorscale\": true, \"colorbar\": {\"outlinewidth\": 0, \"ticks\": \"\"}, \"type\": \"heatmap\"}], \"histogram2dcontour\": [{\"autocolorscale\": true, \"colorbar\": {\"outlinewidth\": 0, \"ticks\": \"\"}, \"type\": \"histogram2dcontour\"}], \"histogram2d\": [{\"autocolorscale\": true, \"colorbar\": {\"outlinewidth\": 0, \"ticks\": \"\"}, \"type\": \"histogram2d\"}], \"histogram\": [{\"marker\": {\"colorbar\": {\"outlinewidth\": 0, \"ticks\": \"\"}}, \"type\": \"histogram\"}], \"mesh3d\": [{\"colorbar\": {\"outlinewidth\": 0, \"ticks\": \"\"}, \"type\": \"mesh3d\"}], \"parcoords\": [{\"line\": {\"colorbar\": {\"outlinewidth\": 0, \"ticks\": \"\"}}, \"type\": \"parcoords\"}], \"scatter3d\": [{\"marker\": {\"colorbar\": {\"outlinewidth\": 0, \"ticks\": \"\"}}, \"type\": \"scatter3d\"}], \"scattercarpet\": [{\"marker\": {\"colorbar\": {\"outlinewidth\": 0, \"ticks\": \"\"}}, \"type\": \"scattercarpet\"}], \"scattergeo\": [{\"marker\": {\"colorbar\": {\"outlinewidth\": 0, \"ticks\": \"\"}}, \"type\": \"scattergeo\"}], \"scattergl\": [{\"marker\": {\"colorbar\": {\"outlinewidth\": 0, \"ticks\": \"\"}}, \"type\": \"scattergl\"}], \"scattermapbox\": [{\"marker\": {\"colorbar\": {\"outlinewidth\": 0, \"ticks\": \"\"}}, \"type\": \"scattermapbox\"}], \"scatterpolargl\": [{\"marker\": {\"colorbar\": {\"outlinewidth\": 0, \"ticks\": \"\"}}, \"type\": \"scatterpolargl\"}], \"scatterpolar\": [{\"marker\": {\"colorbar\": {\"outlinewidth\": 0, \"ticks\": \"\"}}, \"type\": \"scatterpolar\"}], \"scatter\": [{\"marker\": {\"colorbar\": {\"outlinewidth\": 0, \"ticks\": \"\"}}, \"type\": \"scatter\"}], \"scatterternary\": [{\"marker\": {\"colorbar\": {\"outlinewidth\": 0, \"ticks\": \"\"}}, \"type\": \"scatterternary\"}], \"surface\": [{\"colorbar\": {\"outlinewidth\": 0, \"ticks\": \"\"}, \"type\": \"surface\"}], \"table\": [{\"cells\": {\"fill\": {\"color\": \"#EBF0F8\"}, \"line\": {\"color\": \"white\"}}, \"header\": {\"fill\": {\"color\": \"#C8D4E3\"}, \"line\": {\"color\": \"white\"}}, \"type\": \"table\"}]}, \"layout\": {\"annotationdefaults\": {\"arrowcolor\": \"#506784\", \"arrowhead\": 0, \"arrowwidth\": 1}, \"colorscale\": {\"diverging\": [[0, \"#8e0152\"], [0.1, \"#c51b7d\"], [0.2, \"#de77ae\"], [0.3, \"#f1b6da\"], [0.4, \"#fde0ef\"], [0.5, \"#f7f7f7\"], [0.6, \"#e6f5d0\"], [0.7, \"#b8e186\"], [0.8, \"#7fbc41\"], [0.9, \"#4d9221\"], [1, \"#276419\"]], \"sequential\": [[0.0, \"#0508b8\"], [0.0893854748603352, \"#1910d8\"], [0.1787709497206704, \"#3c19f0\"], [0.2681564245810056, \"#6b1cfb\"], [0.3575418994413408, \"#981cfd\"], [0.44692737430167595, \"#bf1cfd\"], [0.5363128491620112, \"#dd2bfd\"], [0.6256983240223464, \"#f246fe\"], [0.7150837988826816, \"#fc67fd\"], [0.8044692737430168, \"#fe88fc\"], [0.8938547486033519, \"#fea5fd\"], [0.9832402234636871, \"#febefe\"], [1.0, \"#fec3fe\"]], \"sequentialminus\": [[0.0, \"#0508b8\"], [0.0893854748603352, \"#1910d8\"], [0.1787709497206704, \"#3c19f0\"], [0.2681564245810056, \"#6b1cfb\"], [0.3575418994413408, \"#981cfd\"], [0.44692737430167595, \"#bf1cfd\"], [0.5363128491620112, \"#dd2bfd\"], [0.6256983240223464, \"#f246fe\"], [0.7150837988826816, \"#fc67fd\"], [0.8044692737430168, \"#fe88fc\"], [0.8938547486033519, \"#fea5fd\"], [0.9832402234636871, \"#febefe\"], [1.0, \"#fec3fe\"]]}, \"colorway\": [\"#636efa\", \"#EF553B\", \"#00cc96\", \"#ab63fa\", \"#19d3f3\", \"#e763fa\", \"#FECB52\", \"#FFA15A\", \"#FF6692\", \"#B6E880\"], \"font\": {\"color\": \"#2a3f5f\"}, \"geo\": {\"bgcolor\": \"white\", \"lakecolor\": \"white\", \"landcolor\": \"#E5ECF6\", \"showlakes\": true, \"showland\": true, \"subunitcolor\": \"white\"}, \"hovermode\": \"closest\", \"mapbox\": {\"style\": \"light\"}, \"paper_bgcolor\": \"white\", \"plot_bgcolor\": \"#E5ECF6\", \"polar\": {\"angularaxis\": {\"gridcolor\": \"white\", \"linecolor\": \"white\", \"ticks\": \"\"}, \"bgcolor\": \"#E5ECF6\", \"radialaxis\": {\"gridcolor\": \"white\", \"linecolor\": \"white\", \"ticks\": \"\"}}, \"scene\": {\"xaxis\": {\"backgroundcolor\": \"#E5ECF6\", \"gridcolor\": \"white\", \"gridwidth\": 2, \"linecolor\": \"white\", \"showbackground\": true, \"ticks\": \"\", \"zerolinecolor\": \"white\"}, \"yaxis\": {\"backgroundcolor\": \"#E5ECF6\", \"gridcolor\": \"white\", \"gridwidth\": 2, \"linecolor\": \"white\", \"showbackground\": true, \"ticks\": \"\", \"zerolinecolor\": \"white\"}, \"zaxis\": {\"backgroundcolor\": \"#E5ECF6\", \"gridcolor\": \"white\", \"gridwidth\": 2, \"linecolor\": \"white\", \"showbackground\": true, \"ticks\": \"\", \"zerolinecolor\": \"white\"}}, \"shapedefaults\": {\"fillcolor\": \"#506784\", \"line\": {\"width\": 0}, \"opacity\": 0.4}, \"ternary\": {\"aaxis\": {\"gridcolor\": \"white\", \"linecolor\": \"white\", \"ticks\": \"\"}, \"baxis\": {\"gridcolor\": \"white\", \"linecolor\": \"white\", \"ticks\": \"\"}, \"bgcolor\": \"#E5ECF6\", \"caxis\": {\"gridcolor\": \"white\", \"linecolor\": \"white\", \"ticks\": \"\"}}, \"title\": {\"x\": 0.05}, \"xaxis\": {\"automargin\": true, \"gridcolor\": \"white\", \"linecolor\": \"white\", \"ticks\": \"\", \"zerolinecolor\": \"white\", \"zerolinewidth\": 2}, \"yaxis\": {\"automargin\": true, \"gridcolor\": \"white\", \"linecolor\": \"white\", \"ticks\": \"\", \"zerolinecolor\": \"white\", \"zerolinewidth\": 2}}}, \"polar\": {\"angularaxis\": {\"direction\": \"clockwise\", \"rotation\": 90}}}, {\"showLink\": false, \"linkText\": \"Export to plot.ly\", \"plotlyServerURL\": \"https://plot.ly\"}); \n",
       "}\n",
       "});</script><script type=\"text/javascript\">window.addEventListener(\"resize\", function(){if (document.getElementById(\"bc4b7ee9-bfb9-4390-ae62-37ce82be0f76\")) {window._Plotly.Plots.resize(document.getElementById(\"bc4b7ee9-bfb9-4390-ae62-37ce82be0f76\"));};})</script>"
      ]
     },
     "metadata": {},
     "output_type": "display_data"
    },
    {
     "name": "stdout",
     "output_type": "stream",
     "text": [
      "Comparando la pregunta ¿Qué tipo de aplicaciones utilizas en tu ordenador/tableta/móvil? (Respuesta múltiple) [2. Aplicaciones de mensajería (Whatsapp, Facebook Messenger, etc.)]\n"
     ]
    },
    {
     "data": {
      "application/vnd.plotly.v1+json": {
       "config": {
        "linkText": "Export to plot.ly",
        "plotlyServerURL": "https://plot.ly",
        "showLink": false
       },
       "data": [
        {
         "hovertemplate": "¿Qué tipo de aplicaciones utilizas en tu ordenador/tableta/móvil? (Respuesta múltiple) [2. Aplicaciones de mensajería (Whatsapp, Facebook Messenger, etc.)]=No<br>counts=%{r}<br>prosume_cluster=%{theta}<extra></extra>",
         "legendgroup": "¿Qué tipo de aplicaciones utilizas en tu ordenador/tableta/móvil? (Respuesta múltiple) [2. Aplicaciones de mensajería (Whatsapp, Facebook Messenger, etc.)]=No",
         "marker": {
          "color": "rgb(213,62,79)"
         },
         "name": "¿Qué tipo de aplicaciones utilizas en tu ordenador/tableta/móvil? (Respuesta múltiple) [2. Aplicaciones de mensajería (Whatsapp, Facebook Messenger, etc.)]=No",
         "r": [
          20,
          64,
          26,
          3,
          48
         ],
         "showlegend": true,
         "theta": [
          "cluster_1",
          "cluster_2",
          "cluster_3",
          "cluster_4",
          "cluster_5"
         ],
         "type": "barpolar",
         "uid": "75cc8e5c-4aa5-473d-8836-d1fd37ab792c"
        },
        {
         "hovertemplate": "¿Qué tipo de aplicaciones utilizas en tu ordenador/tableta/móvil? (Respuesta múltiple) [2. Aplicaciones de mensajería (Whatsapp, Facebook Messenger, etc.)]=Sí<br>counts=%{r}<br>prosume_cluster=%{theta}<extra></extra>",
         "legendgroup": "¿Qué tipo de aplicaciones utilizas en tu ordenador/tableta/móvil? (Respuesta múltiple) [2. Aplicaciones de mensajería (Whatsapp, Facebook Messenger, etc.)]=Sí",
         "marker": {
          "color": "rgb(252,141,89)"
         },
         "name": "¿Qué tipo de aplicaciones utilizas en tu ordenador/tableta/móvil? (Respuesta múltiple) [2. Aplicaciones de mensajería (Whatsapp, Facebook Messenger, etc.)]=Sí",
         "r": [
          17,
          132,
          74,
          95,
          288
         ],
         "showlegend": true,
         "theta": [
          "cluster_1",
          "cluster_2",
          "cluster_3",
          "cluster_4",
          "cluster_5"
         ],
         "type": "barpolar",
         "uid": "23a1f09e-c259-4710-9b21-d3be5cf66471"
        }
       ],
       "layout": {
        "barmode": "group",
        "barnorm": "",
        "height": 600,
        "legend": {
         "tracegroupgap": 0
        },
        "margin": {
         "t": 60
        },
        "polar": {
         "angularaxis": {
          "direction": "clockwise",
          "rotation": 90
         }
        },
        "template": {
         "data": {
          "bar": [
           {
            "marker": {
             "line": {
              "color": "#E5ECF6",
              "width": 0.5
             }
            },
            "type": "bar"
           }
          ],
          "barpolar": [
           {
            "marker": {
             "line": {
              "color": "#E5ECF6",
              "width": 0.5
             }
            },
            "type": "barpolar"
           }
          ],
          "carpet": [
           {
            "aaxis": {
             "endlinecolor": "#2a3f5f",
             "gridcolor": "white",
             "linecolor": "white",
             "minorgridcolor": "white",
             "startlinecolor": "#2a3f5f"
            },
            "baxis": {
             "endlinecolor": "#2a3f5f",
             "gridcolor": "white",
             "linecolor": "white",
             "minorgridcolor": "white",
             "startlinecolor": "#2a3f5f"
            },
            "type": "carpet"
           }
          ],
          "choropleth": [
           {
            "colorbar": {
             "outlinewidth": 0,
             "ticks": ""
            },
            "type": "choropleth"
           }
          ],
          "contour": [
           {
            "autocolorscale": true,
            "colorbar": {
             "outlinewidth": 0,
             "ticks": ""
            },
            "type": "contour"
           }
          ],
          "contourcarpet": [
           {
            "colorbar": {
             "outlinewidth": 0,
             "ticks": ""
            },
            "type": "contourcarpet"
           }
          ],
          "heatmap": [
           {
            "autocolorscale": true,
            "colorbar": {
             "outlinewidth": 0,
             "ticks": ""
            },
            "type": "heatmap"
           }
          ],
          "heatmapgl": [
           {
            "colorbar": {
             "outlinewidth": 0,
             "ticks": ""
            },
            "type": "heatmapgl"
           }
          ],
          "histogram": [
           {
            "marker": {
             "colorbar": {
              "outlinewidth": 0,
              "ticks": ""
             }
            },
            "type": "histogram"
           }
          ],
          "histogram2d": [
           {
            "autocolorscale": true,
            "colorbar": {
             "outlinewidth": 0,
             "ticks": ""
            },
            "type": "histogram2d"
           }
          ],
          "histogram2dcontour": [
           {
            "autocolorscale": true,
            "colorbar": {
             "outlinewidth": 0,
             "ticks": ""
            },
            "type": "histogram2dcontour"
           }
          ],
          "mesh3d": [
           {
            "colorbar": {
             "outlinewidth": 0,
             "ticks": ""
            },
            "type": "mesh3d"
           }
          ],
          "parcoords": [
           {
            "line": {
             "colorbar": {
              "outlinewidth": 0,
              "ticks": ""
             }
            },
            "type": "parcoords"
           }
          ],
          "scatter": [
           {
            "marker": {
             "colorbar": {
              "outlinewidth": 0,
              "ticks": ""
             }
            },
            "type": "scatter"
           }
          ],
          "scatter3d": [
           {
            "marker": {
             "colorbar": {
              "outlinewidth": 0,
              "ticks": ""
             }
            },
            "type": "scatter3d"
           }
          ],
          "scattercarpet": [
           {
            "marker": {
             "colorbar": {
              "outlinewidth": 0,
              "ticks": ""
             }
            },
            "type": "scattercarpet"
           }
          ],
          "scattergeo": [
           {
            "marker": {
             "colorbar": {
              "outlinewidth": 0,
              "ticks": ""
             }
            },
            "type": "scattergeo"
           }
          ],
          "scattergl": [
           {
            "marker": {
             "colorbar": {
              "outlinewidth": 0,
              "ticks": ""
             }
            },
            "type": "scattergl"
           }
          ],
          "scattermapbox": [
           {
            "marker": {
             "colorbar": {
              "outlinewidth": 0,
              "ticks": ""
             }
            },
            "type": "scattermapbox"
           }
          ],
          "scatterpolar": [
           {
            "marker": {
             "colorbar": {
              "outlinewidth": 0,
              "ticks": ""
             }
            },
            "type": "scatterpolar"
           }
          ],
          "scatterpolargl": [
           {
            "marker": {
             "colorbar": {
              "outlinewidth": 0,
              "ticks": ""
             }
            },
            "type": "scatterpolargl"
           }
          ],
          "scatterternary": [
           {
            "marker": {
             "colorbar": {
              "outlinewidth": 0,
              "ticks": ""
             }
            },
            "type": "scatterternary"
           }
          ],
          "surface": [
           {
            "colorbar": {
             "outlinewidth": 0,
             "ticks": ""
            },
            "type": "surface"
           }
          ],
          "table": [
           {
            "cells": {
             "fill": {
              "color": "#EBF0F8"
             },
             "line": {
              "color": "white"
             }
            },
            "header": {
             "fill": {
              "color": "#C8D4E3"
             },
             "line": {
              "color": "white"
             }
            },
            "type": "table"
           }
          ]
         },
         "layout": {
          "annotationdefaults": {
           "arrowcolor": "#506784",
           "arrowhead": 0,
           "arrowwidth": 1
          },
          "colorscale": {
           "diverging": [
            [
             0,
             "#8e0152"
            ],
            [
             0.1,
             "#c51b7d"
            ],
            [
             0.2,
             "#de77ae"
            ],
            [
             0.3,
             "#f1b6da"
            ],
            [
             0.4,
             "#fde0ef"
            ],
            [
             0.5,
             "#f7f7f7"
            ],
            [
             0.6,
             "#e6f5d0"
            ],
            [
             0.7,
             "#b8e186"
            ],
            [
             0.8,
             "#7fbc41"
            ],
            [
             0.9,
             "#4d9221"
            ],
            [
             1,
             "#276419"
            ]
           ],
           "sequential": [
            [
             0,
             "#0508b8"
            ],
            [
             0.0893854748603352,
             "#1910d8"
            ],
            [
             0.1787709497206704,
             "#3c19f0"
            ],
            [
             0.2681564245810056,
             "#6b1cfb"
            ],
            [
             0.3575418994413408,
             "#981cfd"
            ],
            [
             0.44692737430167595,
             "#bf1cfd"
            ],
            [
             0.5363128491620112,
             "#dd2bfd"
            ],
            [
             0.6256983240223464,
             "#f246fe"
            ],
            [
             0.7150837988826816,
             "#fc67fd"
            ],
            [
             0.8044692737430168,
             "#fe88fc"
            ],
            [
             0.8938547486033519,
             "#fea5fd"
            ],
            [
             0.9832402234636871,
             "#febefe"
            ],
            [
             1,
             "#fec3fe"
            ]
           ],
           "sequentialminus": [
            [
             0,
             "#0508b8"
            ],
            [
             0.0893854748603352,
             "#1910d8"
            ],
            [
             0.1787709497206704,
             "#3c19f0"
            ],
            [
             0.2681564245810056,
             "#6b1cfb"
            ],
            [
             0.3575418994413408,
             "#981cfd"
            ],
            [
             0.44692737430167595,
             "#bf1cfd"
            ],
            [
             0.5363128491620112,
             "#dd2bfd"
            ],
            [
             0.6256983240223464,
             "#f246fe"
            ],
            [
             0.7150837988826816,
             "#fc67fd"
            ],
            [
             0.8044692737430168,
             "#fe88fc"
            ],
            [
             0.8938547486033519,
             "#fea5fd"
            ],
            [
             0.9832402234636871,
             "#febefe"
            ],
            [
             1,
             "#fec3fe"
            ]
           ]
          },
          "colorway": [
           "#636efa",
           "#EF553B",
           "#00cc96",
           "#ab63fa",
           "#19d3f3",
           "#e763fa",
           "#FECB52",
           "#FFA15A",
           "#FF6692",
           "#B6E880"
          ],
          "font": {
           "color": "#2a3f5f"
          },
          "geo": {
           "bgcolor": "white",
           "lakecolor": "white",
           "landcolor": "#E5ECF6",
           "showlakes": true,
           "showland": true,
           "subunitcolor": "white"
          },
          "hovermode": "closest",
          "mapbox": {
           "style": "light"
          },
          "paper_bgcolor": "white",
          "plot_bgcolor": "#E5ECF6",
          "polar": {
           "angularaxis": {
            "gridcolor": "white",
            "linecolor": "white",
            "ticks": ""
           },
           "bgcolor": "#E5ECF6",
           "radialaxis": {
            "gridcolor": "white",
            "linecolor": "white",
            "ticks": ""
           }
          },
          "scene": {
           "xaxis": {
            "backgroundcolor": "#E5ECF6",
            "gridcolor": "white",
            "gridwidth": 2,
            "linecolor": "white",
            "showbackground": true,
            "ticks": "",
            "zerolinecolor": "white"
           },
           "yaxis": {
            "backgroundcolor": "#E5ECF6",
            "gridcolor": "white",
            "gridwidth": 2,
            "linecolor": "white",
            "showbackground": true,
            "ticks": "",
            "zerolinecolor": "white"
           },
           "zaxis": {
            "backgroundcolor": "#E5ECF6",
            "gridcolor": "white",
            "gridwidth": 2,
            "linecolor": "white",
            "showbackground": true,
            "ticks": "",
            "zerolinecolor": "white"
           }
          },
          "shapedefaults": {
           "fillcolor": "#506784",
           "line": {
            "width": 0
           },
           "opacity": 0.4
          },
          "ternary": {
           "aaxis": {
            "gridcolor": "white",
            "linecolor": "white",
            "ticks": ""
           },
           "baxis": {
            "gridcolor": "white",
            "linecolor": "white",
            "ticks": ""
           },
           "bgcolor": "#E5ECF6",
           "caxis": {
            "gridcolor": "white",
            "linecolor": "white",
            "ticks": ""
           }
          },
          "title": {
           "x": 0.05
          },
          "xaxis": {
           "automargin": true,
           "gridcolor": "white",
           "linecolor": "white",
           "ticks": "",
           "zerolinecolor": "white",
           "zerolinewidth": 2
          },
          "yaxis": {
           "automargin": true,
           "gridcolor": "white",
           "linecolor": "white",
           "ticks": "",
           "zerolinecolor": "white",
           "zerolinewidth": 2
          }
         }
        }
       }
      },
      "text/html": [
       "<div id=\"ecb96152-958f-40ff-9efb-32c280a7da1a\" style=\"height: 600px; width: 100%;\" class=\"plotly-graph-div\"></div><script type=\"text/javascript\">require([\"plotly\"], function(Plotly) { window.PLOTLYENV=window.PLOTLYENV || {};window.PLOTLYENV.BASE_URL=\"https://plot.ly\";\n",
       "if (document.getElementById(\"ecb96152-958f-40ff-9efb-32c280a7da1a\")) {\n",
       "    Plotly.newPlot(\"ecb96152-958f-40ff-9efb-32c280a7da1a\", [{\"hovertemplate\": \"\\u00bfQu\\u00e9 tipo de aplicaciones utilizas en tu ordenador/tableta/m\\u00f3vil? (Respuesta m\\u00faltiple) [2. Aplicaciones de mensajer\\u00eda (Whatsapp, Facebook Messenger, etc.)]=No<br>counts=%{r}<br>prosume_cluster=%{theta}<extra></extra>\", \"legendgroup\": \"\\u00bfQu\\u00e9 tipo de aplicaciones utilizas en tu ordenador/tableta/m\\u00f3vil? (Respuesta m\\u00faltiple) [2. Aplicaciones de mensajer\\u00eda (Whatsapp, Facebook Messenger, etc.)]=No\", \"marker\": {\"color\": \"rgb(213,62,79)\"}, \"name\": \"\\u00bfQu\\u00e9 tipo de aplicaciones utilizas en tu ordenador/tableta/m\\u00f3vil? (Respuesta m\\u00faltiple) [2. Aplicaciones de mensajer\\u00eda (Whatsapp, Facebook Messenger, etc.)]=No\", \"r\": [20, 64, 26, 3, 48], \"showlegend\": true, \"theta\": [\"cluster_1\", \"cluster_2\", \"cluster_3\", \"cluster_4\", \"cluster_5\"], \"type\": \"barpolar\", \"uid\": \"75cc8e5c-4aa5-473d-8836-d1fd37ab792c\"}, {\"hovertemplate\": \"\\u00bfQu\\u00e9 tipo de aplicaciones utilizas en tu ordenador/tableta/m\\u00f3vil? (Respuesta m\\u00faltiple) [2. Aplicaciones de mensajer\\u00eda (Whatsapp, Facebook Messenger, etc.)]=S\\u00ed<br>counts=%{r}<br>prosume_cluster=%{theta}<extra></extra>\", \"legendgroup\": \"\\u00bfQu\\u00e9 tipo de aplicaciones utilizas en tu ordenador/tableta/m\\u00f3vil? (Respuesta m\\u00faltiple) [2. Aplicaciones de mensajer\\u00eda (Whatsapp, Facebook Messenger, etc.)]=S\\u00ed\", \"marker\": {\"color\": \"rgb(252,141,89)\"}, \"name\": \"\\u00bfQu\\u00e9 tipo de aplicaciones utilizas en tu ordenador/tableta/m\\u00f3vil? (Respuesta m\\u00faltiple) [2. Aplicaciones de mensajer\\u00eda (Whatsapp, Facebook Messenger, etc.)]=S\\u00ed\", \"r\": [17, 132, 74, 95, 288], \"showlegend\": true, \"theta\": [\"cluster_1\", \"cluster_2\", \"cluster_3\", \"cluster_4\", \"cluster_5\"], \"type\": \"barpolar\", \"uid\": \"23a1f09e-c259-4710-9b21-d3be5cf66471\"}], {\"barmode\": \"group\", \"barnorm\": \"\", \"height\": 600, \"legend\": {\"tracegroupgap\": 0}, \"margin\": {\"t\": 60}, \"template\": {\"data\": {\"barpolar\": [{\"marker\": {\"line\": {\"color\": \"#E5ECF6\", \"width\": 0.5}}, \"type\": \"barpolar\"}], \"bar\": [{\"marker\": {\"line\": {\"color\": \"#E5ECF6\", \"width\": 0.5}}, \"type\": \"bar\"}], \"carpet\": [{\"aaxis\": {\"endlinecolor\": \"#2a3f5f\", \"gridcolor\": \"white\", \"linecolor\": \"white\", \"minorgridcolor\": \"white\", \"startlinecolor\": \"#2a3f5f\"}, \"baxis\": {\"endlinecolor\": \"#2a3f5f\", \"gridcolor\": \"white\", \"linecolor\": \"white\", \"minorgridcolor\": \"white\", \"startlinecolor\": \"#2a3f5f\"}, \"type\": \"carpet\"}], \"choropleth\": [{\"colorbar\": {\"outlinewidth\": 0, \"ticks\": \"\"}, \"type\": \"choropleth\"}], \"contourcarpet\": [{\"colorbar\": {\"outlinewidth\": 0, \"ticks\": \"\"}, \"type\": \"contourcarpet\"}], \"contour\": [{\"autocolorscale\": true, \"colorbar\": {\"outlinewidth\": 0, \"ticks\": \"\"}, \"type\": \"contour\"}], \"heatmapgl\": [{\"colorbar\": {\"outlinewidth\": 0, \"ticks\": \"\"}, \"type\": \"heatmapgl\"}], \"heatmap\": [{\"autocolorscale\": true, \"colorbar\": {\"outlinewidth\": 0, \"ticks\": \"\"}, \"type\": \"heatmap\"}], \"histogram2dcontour\": [{\"autocolorscale\": true, \"colorbar\": {\"outlinewidth\": 0, \"ticks\": \"\"}, \"type\": \"histogram2dcontour\"}], \"histogram2d\": [{\"autocolorscale\": true, \"colorbar\": {\"outlinewidth\": 0, \"ticks\": \"\"}, \"type\": \"histogram2d\"}], \"histogram\": [{\"marker\": {\"colorbar\": {\"outlinewidth\": 0, \"ticks\": \"\"}}, \"type\": \"histogram\"}], \"mesh3d\": [{\"colorbar\": {\"outlinewidth\": 0, \"ticks\": \"\"}, \"type\": \"mesh3d\"}], \"parcoords\": [{\"line\": {\"colorbar\": {\"outlinewidth\": 0, \"ticks\": \"\"}}, \"type\": \"parcoords\"}], \"scatter3d\": [{\"marker\": {\"colorbar\": {\"outlinewidth\": 0, \"ticks\": \"\"}}, \"type\": \"scatter3d\"}], \"scattercarpet\": [{\"marker\": {\"colorbar\": {\"outlinewidth\": 0, \"ticks\": \"\"}}, \"type\": \"scattercarpet\"}], \"scattergeo\": [{\"marker\": {\"colorbar\": {\"outlinewidth\": 0, \"ticks\": \"\"}}, \"type\": \"scattergeo\"}], \"scattergl\": [{\"marker\": {\"colorbar\": {\"outlinewidth\": 0, \"ticks\": \"\"}}, \"type\": \"scattergl\"}], \"scattermapbox\": [{\"marker\": {\"colorbar\": {\"outlinewidth\": 0, \"ticks\": \"\"}}, \"type\": \"scattermapbox\"}], \"scatterpolargl\": [{\"marker\": {\"colorbar\": {\"outlinewidth\": 0, \"ticks\": \"\"}}, \"type\": \"scatterpolargl\"}], \"scatterpolar\": [{\"marker\": {\"colorbar\": {\"outlinewidth\": 0, \"ticks\": \"\"}}, \"type\": \"scatterpolar\"}], \"scatter\": [{\"marker\": {\"colorbar\": {\"outlinewidth\": 0, \"ticks\": \"\"}}, \"type\": \"scatter\"}], \"scatterternary\": [{\"marker\": {\"colorbar\": {\"outlinewidth\": 0, \"ticks\": \"\"}}, \"type\": \"scatterternary\"}], \"surface\": [{\"colorbar\": {\"outlinewidth\": 0, \"ticks\": \"\"}, \"type\": \"surface\"}], \"table\": [{\"cells\": {\"fill\": {\"color\": \"#EBF0F8\"}, \"line\": {\"color\": \"white\"}}, \"header\": {\"fill\": {\"color\": \"#C8D4E3\"}, \"line\": {\"color\": \"white\"}}, \"type\": \"table\"}]}, \"layout\": {\"annotationdefaults\": {\"arrowcolor\": \"#506784\", \"arrowhead\": 0, \"arrowwidth\": 1}, \"colorscale\": {\"diverging\": [[0, \"#8e0152\"], [0.1, \"#c51b7d\"], [0.2, \"#de77ae\"], [0.3, \"#f1b6da\"], [0.4, \"#fde0ef\"], [0.5, \"#f7f7f7\"], [0.6, \"#e6f5d0\"], [0.7, \"#b8e186\"], [0.8, \"#7fbc41\"], [0.9, \"#4d9221\"], [1, \"#276419\"]], \"sequential\": [[0.0, \"#0508b8\"], [0.0893854748603352, \"#1910d8\"], [0.1787709497206704, \"#3c19f0\"], [0.2681564245810056, \"#6b1cfb\"], [0.3575418994413408, \"#981cfd\"], [0.44692737430167595, \"#bf1cfd\"], [0.5363128491620112, \"#dd2bfd\"], [0.6256983240223464, \"#f246fe\"], [0.7150837988826816, \"#fc67fd\"], [0.8044692737430168, \"#fe88fc\"], [0.8938547486033519, \"#fea5fd\"], [0.9832402234636871, \"#febefe\"], [1.0, \"#fec3fe\"]], \"sequentialminus\": [[0.0, \"#0508b8\"], [0.0893854748603352, \"#1910d8\"], [0.1787709497206704, \"#3c19f0\"], [0.2681564245810056, \"#6b1cfb\"], [0.3575418994413408, \"#981cfd\"], [0.44692737430167595, \"#bf1cfd\"], [0.5363128491620112, \"#dd2bfd\"], [0.6256983240223464, \"#f246fe\"], [0.7150837988826816, \"#fc67fd\"], [0.8044692737430168, \"#fe88fc\"], [0.8938547486033519, \"#fea5fd\"], [0.9832402234636871, \"#febefe\"], [1.0, \"#fec3fe\"]]}, \"colorway\": [\"#636efa\", \"#EF553B\", \"#00cc96\", \"#ab63fa\", \"#19d3f3\", \"#e763fa\", \"#FECB52\", \"#FFA15A\", \"#FF6692\", \"#B6E880\"], \"font\": {\"color\": \"#2a3f5f\"}, \"geo\": {\"bgcolor\": \"white\", \"lakecolor\": \"white\", \"landcolor\": \"#E5ECF6\", \"showlakes\": true, \"showland\": true, \"subunitcolor\": \"white\"}, \"hovermode\": \"closest\", \"mapbox\": {\"style\": \"light\"}, \"paper_bgcolor\": \"white\", \"plot_bgcolor\": \"#E5ECF6\", \"polar\": {\"angularaxis\": {\"gridcolor\": \"white\", \"linecolor\": \"white\", \"ticks\": \"\"}, \"bgcolor\": \"#E5ECF6\", \"radialaxis\": {\"gridcolor\": \"white\", \"linecolor\": \"white\", \"ticks\": \"\"}}, \"scene\": {\"xaxis\": {\"backgroundcolor\": \"#E5ECF6\", \"gridcolor\": \"white\", \"gridwidth\": 2, \"linecolor\": \"white\", \"showbackground\": true, \"ticks\": \"\", \"zerolinecolor\": \"white\"}, \"yaxis\": {\"backgroundcolor\": \"#E5ECF6\", \"gridcolor\": \"white\", \"gridwidth\": 2, \"linecolor\": \"white\", \"showbackground\": true, \"ticks\": \"\", \"zerolinecolor\": \"white\"}, \"zaxis\": {\"backgroundcolor\": \"#E5ECF6\", \"gridcolor\": \"white\", \"gridwidth\": 2, \"linecolor\": \"white\", \"showbackground\": true, \"ticks\": \"\", \"zerolinecolor\": \"white\"}}, \"shapedefaults\": {\"fillcolor\": \"#506784\", \"line\": {\"width\": 0}, \"opacity\": 0.4}, \"ternary\": {\"aaxis\": {\"gridcolor\": \"white\", \"linecolor\": \"white\", \"ticks\": \"\"}, \"baxis\": {\"gridcolor\": \"white\", \"linecolor\": \"white\", \"ticks\": \"\"}, \"bgcolor\": \"#E5ECF6\", \"caxis\": {\"gridcolor\": \"white\", \"linecolor\": \"white\", \"ticks\": \"\"}}, \"title\": {\"x\": 0.05}, \"xaxis\": {\"automargin\": true, \"gridcolor\": \"white\", \"linecolor\": \"white\", \"ticks\": \"\", \"zerolinecolor\": \"white\", \"zerolinewidth\": 2}, \"yaxis\": {\"automargin\": true, \"gridcolor\": \"white\", \"linecolor\": \"white\", \"ticks\": \"\", \"zerolinecolor\": \"white\", \"zerolinewidth\": 2}}}, \"polar\": {\"angularaxis\": {\"direction\": \"clockwise\", \"rotation\": 90}}}, {\"showLink\": false, \"linkText\": \"Export to plot.ly\", \"plotlyServerURL\": \"https://plot.ly\"}); \n",
       "}\n",
       "});</script><script type=\"text/javascript\">window.addEventListener(\"resize\", function(){if (document.getElementById(\"ecb96152-958f-40ff-9efb-32c280a7da1a\")) {window._Plotly.Plots.resize(document.getElementById(\"ecb96152-958f-40ff-9efb-32c280a7da1a\"));};})</script>"
      ],
      "text/vnd.plotly.v1+html": [
       "<div id=\"ecb96152-958f-40ff-9efb-32c280a7da1a\" style=\"height: 600px; width: 100%;\" class=\"plotly-graph-div\"></div><script type=\"text/javascript\">require([\"plotly\"], function(Plotly) { window.PLOTLYENV=window.PLOTLYENV || {};window.PLOTLYENV.BASE_URL=\"https://plot.ly\";\n",
       "if (document.getElementById(\"ecb96152-958f-40ff-9efb-32c280a7da1a\")) {\n",
       "    Plotly.newPlot(\"ecb96152-958f-40ff-9efb-32c280a7da1a\", [{\"hovertemplate\": \"\\u00bfQu\\u00e9 tipo de aplicaciones utilizas en tu ordenador/tableta/m\\u00f3vil? (Respuesta m\\u00faltiple) [2. Aplicaciones de mensajer\\u00eda (Whatsapp, Facebook Messenger, etc.)]=No<br>counts=%{r}<br>prosume_cluster=%{theta}<extra></extra>\", \"legendgroup\": \"\\u00bfQu\\u00e9 tipo de aplicaciones utilizas en tu ordenador/tableta/m\\u00f3vil? (Respuesta m\\u00faltiple) [2. Aplicaciones de mensajer\\u00eda (Whatsapp, Facebook Messenger, etc.)]=No\", \"marker\": {\"color\": \"rgb(213,62,79)\"}, \"name\": \"\\u00bfQu\\u00e9 tipo de aplicaciones utilizas en tu ordenador/tableta/m\\u00f3vil? (Respuesta m\\u00faltiple) [2. Aplicaciones de mensajer\\u00eda (Whatsapp, Facebook Messenger, etc.)]=No\", \"r\": [20, 64, 26, 3, 48], \"showlegend\": true, \"theta\": [\"cluster_1\", \"cluster_2\", \"cluster_3\", \"cluster_4\", \"cluster_5\"], \"type\": \"barpolar\", \"uid\": \"75cc8e5c-4aa5-473d-8836-d1fd37ab792c\"}, {\"hovertemplate\": \"\\u00bfQu\\u00e9 tipo de aplicaciones utilizas en tu ordenador/tableta/m\\u00f3vil? (Respuesta m\\u00faltiple) [2. Aplicaciones de mensajer\\u00eda (Whatsapp, Facebook Messenger, etc.)]=S\\u00ed<br>counts=%{r}<br>prosume_cluster=%{theta}<extra></extra>\", \"legendgroup\": \"\\u00bfQu\\u00e9 tipo de aplicaciones utilizas en tu ordenador/tableta/m\\u00f3vil? (Respuesta m\\u00faltiple) [2. Aplicaciones de mensajer\\u00eda (Whatsapp, Facebook Messenger, etc.)]=S\\u00ed\", \"marker\": {\"color\": \"rgb(252,141,89)\"}, \"name\": \"\\u00bfQu\\u00e9 tipo de aplicaciones utilizas en tu ordenador/tableta/m\\u00f3vil? (Respuesta m\\u00faltiple) [2. Aplicaciones de mensajer\\u00eda (Whatsapp, Facebook Messenger, etc.)]=S\\u00ed\", \"r\": [17, 132, 74, 95, 288], \"showlegend\": true, \"theta\": [\"cluster_1\", \"cluster_2\", \"cluster_3\", \"cluster_4\", \"cluster_5\"], \"type\": \"barpolar\", \"uid\": \"23a1f09e-c259-4710-9b21-d3be5cf66471\"}], {\"barmode\": \"group\", \"barnorm\": \"\", \"height\": 600, \"legend\": {\"tracegroupgap\": 0}, \"margin\": {\"t\": 60}, \"template\": {\"data\": {\"barpolar\": [{\"marker\": {\"line\": {\"color\": \"#E5ECF6\", \"width\": 0.5}}, \"type\": \"barpolar\"}], \"bar\": [{\"marker\": {\"line\": {\"color\": \"#E5ECF6\", \"width\": 0.5}}, \"type\": \"bar\"}], \"carpet\": [{\"aaxis\": {\"endlinecolor\": \"#2a3f5f\", \"gridcolor\": \"white\", \"linecolor\": \"white\", \"minorgridcolor\": \"white\", \"startlinecolor\": \"#2a3f5f\"}, \"baxis\": {\"endlinecolor\": \"#2a3f5f\", \"gridcolor\": \"white\", \"linecolor\": \"white\", \"minorgridcolor\": \"white\", \"startlinecolor\": \"#2a3f5f\"}, \"type\": \"carpet\"}], \"choropleth\": [{\"colorbar\": {\"outlinewidth\": 0, \"ticks\": \"\"}, \"type\": \"choropleth\"}], \"contourcarpet\": [{\"colorbar\": {\"outlinewidth\": 0, \"ticks\": \"\"}, \"type\": \"contourcarpet\"}], \"contour\": [{\"autocolorscale\": true, \"colorbar\": {\"outlinewidth\": 0, \"ticks\": \"\"}, \"type\": \"contour\"}], \"heatmapgl\": [{\"colorbar\": {\"outlinewidth\": 0, \"ticks\": \"\"}, \"type\": \"heatmapgl\"}], \"heatmap\": [{\"autocolorscale\": true, \"colorbar\": {\"outlinewidth\": 0, \"ticks\": \"\"}, \"type\": \"heatmap\"}], \"histogram2dcontour\": [{\"autocolorscale\": true, \"colorbar\": {\"outlinewidth\": 0, \"ticks\": \"\"}, \"type\": \"histogram2dcontour\"}], \"histogram2d\": [{\"autocolorscale\": true, \"colorbar\": {\"outlinewidth\": 0, \"ticks\": \"\"}, \"type\": \"histogram2d\"}], \"histogram\": [{\"marker\": {\"colorbar\": {\"outlinewidth\": 0, \"ticks\": \"\"}}, \"type\": \"histogram\"}], \"mesh3d\": [{\"colorbar\": {\"outlinewidth\": 0, \"ticks\": \"\"}, \"type\": \"mesh3d\"}], \"parcoords\": [{\"line\": {\"colorbar\": {\"outlinewidth\": 0, \"ticks\": \"\"}}, \"type\": \"parcoords\"}], \"scatter3d\": [{\"marker\": {\"colorbar\": {\"outlinewidth\": 0, \"ticks\": \"\"}}, \"type\": \"scatter3d\"}], \"scattercarpet\": [{\"marker\": {\"colorbar\": {\"outlinewidth\": 0, \"ticks\": \"\"}}, \"type\": \"scattercarpet\"}], \"scattergeo\": [{\"marker\": {\"colorbar\": {\"outlinewidth\": 0, \"ticks\": \"\"}}, \"type\": \"scattergeo\"}], \"scattergl\": [{\"marker\": {\"colorbar\": {\"outlinewidth\": 0, \"ticks\": \"\"}}, \"type\": \"scattergl\"}], \"scattermapbox\": [{\"marker\": {\"colorbar\": {\"outlinewidth\": 0, \"ticks\": \"\"}}, \"type\": \"scattermapbox\"}], \"scatterpolargl\": [{\"marker\": {\"colorbar\": {\"outlinewidth\": 0, \"ticks\": \"\"}}, \"type\": \"scatterpolargl\"}], \"scatterpolar\": [{\"marker\": {\"colorbar\": {\"outlinewidth\": 0, \"ticks\": \"\"}}, \"type\": \"scatterpolar\"}], \"scatter\": [{\"marker\": {\"colorbar\": {\"outlinewidth\": 0, \"ticks\": \"\"}}, \"type\": \"scatter\"}], \"scatterternary\": [{\"marker\": {\"colorbar\": {\"outlinewidth\": 0, \"ticks\": \"\"}}, \"type\": \"scatterternary\"}], \"surface\": [{\"colorbar\": {\"outlinewidth\": 0, \"ticks\": \"\"}, \"type\": \"surface\"}], \"table\": [{\"cells\": {\"fill\": {\"color\": \"#EBF0F8\"}, \"line\": {\"color\": \"white\"}}, \"header\": {\"fill\": {\"color\": \"#C8D4E3\"}, \"line\": {\"color\": \"white\"}}, \"type\": \"table\"}]}, \"layout\": {\"annotationdefaults\": {\"arrowcolor\": \"#506784\", \"arrowhead\": 0, \"arrowwidth\": 1}, \"colorscale\": {\"diverging\": [[0, \"#8e0152\"], [0.1, \"#c51b7d\"], [0.2, \"#de77ae\"], [0.3, \"#f1b6da\"], [0.4, \"#fde0ef\"], [0.5, \"#f7f7f7\"], [0.6, \"#e6f5d0\"], [0.7, \"#b8e186\"], [0.8, \"#7fbc41\"], [0.9, \"#4d9221\"], [1, \"#276419\"]], \"sequential\": [[0.0, \"#0508b8\"], [0.0893854748603352, \"#1910d8\"], [0.1787709497206704, \"#3c19f0\"], [0.2681564245810056, \"#6b1cfb\"], [0.3575418994413408, \"#981cfd\"], [0.44692737430167595, \"#bf1cfd\"], [0.5363128491620112, \"#dd2bfd\"], [0.6256983240223464, \"#f246fe\"], [0.7150837988826816, \"#fc67fd\"], [0.8044692737430168, \"#fe88fc\"], [0.8938547486033519, \"#fea5fd\"], [0.9832402234636871, \"#febefe\"], [1.0, \"#fec3fe\"]], \"sequentialminus\": [[0.0, \"#0508b8\"], [0.0893854748603352, \"#1910d8\"], [0.1787709497206704, \"#3c19f0\"], [0.2681564245810056, \"#6b1cfb\"], [0.3575418994413408, \"#981cfd\"], [0.44692737430167595, \"#bf1cfd\"], [0.5363128491620112, \"#dd2bfd\"], [0.6256983240223464, \"#f246fe\"], [0.7150837988826816, \"#fc67fd\"], [0.8044692737430168, \"#fe88fc\"], [0.8938547486033519, \"#fea5fd\"], [0.9832402234636871, \"#febefe\"], [1.0, \"#fec3fe\"]]}, \"colorway\": [\"#636efa\", \"#EF553B\", \"#00cc96\", \"#ab63fa\", \"#19d3f3\", \"#e763fa\", \"#FECB52\", \"#FFA15A\", \"#FF6692\", \"#B6E880\"], \"font\": {\"color\": \"#2a3f5f\"}, \"geo\": {\"bgcolor\": \"white\", \"lakecolor\": \"white\", \"landcolor\": \"#E5ECF6\", \"showlakes\": true, \"showland\": true, \"subunitcolor\": \"white\"}, \"hovermode\": \"closest\", \"mapbox\": {\"style\": \"light\"}, \"paper_bgcolor\": \"white\", \"plot_bgcolor\": \"#E5ECF6\", \"polar\": {\"angularaxis\": {\"gridcolor\": \"white\", \"linecolor\": \"white\", \"ticks\": \"\"}, \"bgcolor\": \"#E5ECF6\", \"radialaxis\": {\"gridcolor\": \"white\", \"linecolor\": \"white\", \"ticks\": \"\"}}, \"scene\": {\"xaxis\": {\"backgroundcolor\": \"#E5ECF6\", \"gridcolor\": \"white\", \"gridwidth\": 2, \"linecolor\": \"white\", \"showbackground\": true, \"ticks\": \"\", \"zerolinecolor\": \"white\"}, \"yaxis\": {\"backgroundcolor\": \"#E5ECF6\", \"gridcolor\": \"white\", \"gridwidth\": 2, \"linecolor\": \"white\", \"showbackground\": true, \"ticks\": \"\", \"zerolinecolor\": \"white\"}, \"zaxis\": {\"backgroundcolor\": \"#E5ECF6\", \"gridcolor\": \"white\", \"gridwidth\": 2, \"linecolor\": \"white\", \"showbackground\": true, \"ticks\": \"\", \"zerolinecolor\": \"white\"}}, \"shapedefaults\": {\"fillcolor\": \"#506784\", \"line\": {\"width\": 0}, \"opacity\": 0.4}, \"ternary\": {\"aaxis\": {\"gridcolor\": \"white\", \"linecolor\": \"white\", \"ticks\": \"\"}, \"baxis\": {\"gridcolor\": \"white\", \"linecolor\": \"white\", \"ticks\": \"\"}, \"bgcolor\": \"#E5ECF6\", \"caxis\": {\"gridcolor\": \"white\", \"linecolor\": \"white\", \"ticks\": \"\"}}, \"title\": {\"x\": 0.05}, \"xaxis\": {\"automargin\": true, \"gridcolor\": \"white\", \"linecolor\": \"white\", \"ticks\": \"\", \"zerolinecolor\": \"white\", \"zerolinewidth\": 2}, \"yaxis\": {\"automargin\": true, \"gridcolor\": \"white\", \"linecolor\": \"white\", \"ticks\": \"\", \"zerolinecolor\": \"white\", \"zerolinewidth\": 2}}}, \"polar\": {\"angularaxis\": {\"direction\": \"clockwise\", \"rotation\": 90}}}, {\"showLink\": false, \"linkText\": \"Export to plot.ly\", \"plotlyServerURL\": \"https://plot.ly\"}); \n",
       "}\n",
       "});</script><script type=\"text/javascript\">window.addEventListener(\"resize\", function(){if (document.getElementById(\"ecb96152-958f-40ff-9efb-32c280a7da1a\")) {window._Plotly.Plots.resize(document.getElementById(\"ecb96152-958f-40ff-9efb-32c280a7da1a\"));};})</script>"
      ]
     },
     "metadata": {},
     "output_type": "display_data"
    },
    {
     "name": "stdout",
     "output_type": "stream",
     "text": [
      "Comparando la pregunta ¿Qué tipo de aplicaciones utilizas en tu ordenador/tableta/móvil? (Respuesta múltiple) [3. Bibliotecas de fotos online (Google Photos, iPhoto, etc.)]\n"
     ]
    },
    {
     "data": {
      "application/vnd.plotly.v1+json": {
       "config": {
        "linkText": "Export to plot.ly",
        "plotlyServerURL": "https://plot.ly",
        "showLink": false
       },
       "data": [
        {
         "hovertemplate": "¿Qué tipo de aplicaciones utilizas en tu ordenador/tableta/móvil? (Respuesta múltiple) [3. Bibliotecas de fotos online (Google Photos, iPhoto, etc.)]=No<br>counts=%{r}<br>prosume_cluster=%{theta}<extra></extra>",
         "legendgroup": "¿Qué tipo de aplicaciones utilizas en tu ordenador/tableta/móvil? (Respuesta múltiple) [3. Bibliotecas de fotos online (Google Photos, iPhoto, etc.)]=No",
         "marker": {
          "color": "rgb(213,62,79)"
         },
         "name": "¿Qué tipo de aplicaciones utilizas en tu ordenador/tableta/móvil? (Respuesta múltiple) [3. Bibliotecas de fotos online (Google Photos, iPhoto, etc.)]=No",
         "r": [
          17,
          146,
          31,
          49,
          143
         ],
         "showlegend": true,
         "theta": [
          "cluster_1",
          "cluster_2",
          "cluster_3",
          "cluster_4",
          "cluster_5"
         ],
         "type": "barpolar",
         "uid": "04edc216-98fc-46cf-9f87-bf90041fdeb7"
        },
        {
         "hovertemplate": "¿Qué tipo de aplicaciones utilizas en tu ordenador/tableta/móvil? (Respuesta múltiple) [3. Bibliotecas de fotos online (Google Photos, iPhoto, etc.)]=Sí<br>counts=%{r}<br>prosume_cluster=%{theta}<extra></extra>",
         "legendgroup": "¿Qué tipo de aplicaciones utilizas en tu ordenador/tableta/móvil? (Respuesta múltiple) [3. Bibliotecas de fotos online (Google Photos, iPhoto, etc.)]=Sí",
         "marker": {
          "color": "rgb(252,141,89)"
         },
         "name": "¿Qué tipo de aplicaciones utilizas en tu ordenador/tableta/móvil? (Respuesta múltiple) [3. Bibliotecas de fotos online (Google Photos, iPhoto, etc.)]=Sí",
         "r": [
          20,
          50,
          69,
          49,
          193
         ],
         "showlegend": true,
         "theta": [
          "cluster_1",
          "cluster_2",
          "cluster_3",
          "cluster_4",
          "cluster_5"
         ],
         "type": "barpolar",
         "uid": "30222f19-12b1-4938-83c7-b44998a6d6b4"
        }
       ],
       "layout": {
        "barmode": "group",
        "barnorm": "",
        "height": 600,
        "legend": {
         "tracegroupgap": 0
        },
        "margin": {
         "t": 60
        },
        "polar": {
         "angularaxis": {
          "direction": "clockwise",
          "rotation": 90
         }
        },
        "template": {
         "data": {
          "bar": [
           {
            "marker": {
             "line": {
              "color": "#E5ECF6",
              "width": 0.5
             }
            },
            "type": "bar"
           }
          ],
          "barpolar": [
           {
            "marker": {
             "line": {
              "color": "#E5ECF6",
              "width": 0.5
             }
            },
            "type": "barpolar"
           }
          ],
          "carpet": [
           {
            "aaxis": {
             "endlinecolor": "#2a3f5f",
             "gridcolor": "white",
             "linecolor": "white",
             "minorgridcolor": "white",
             "startlinecolor": "#2a3f5f"
            },
            "baxis": {
             "endlinecolor": "#2a3f5f",
             "gridcolor": "white",
             "linecolor": "white",
             "minorgridcolor": "white",
             "startlinecolor": "#2a3f5f"
            },
            "type": "carpet"
           }
          ],
          "choropleth": [
           {
            "colorbar": {
             "outlinewidth": 0,
             "ticks": ""
            },
            "type": "choropleth"
           }
          ],
          "contour": [
           {
            "autocolorscale": true,
            "colorbar": {
             "outlinewidth": 0,
             "ticks": ""
            },
            "type": "contour"
           }
          ],
          "contourcarpet": [
           {
            "colorbar": {
             "outlinewidth": 0,
             "ticks": ""
            },
            "type": "contourcarpet"
           }
          ],
          "heatmap": [
           {
            "autocolorscale": true,
            "colorbar": {
             "outlinewidth": 0,
             "ticks": ""
            },
            "type": "heatmap"
           }
          ],
          "heatmapgl": [
           {
            "colorbar": {
             "outlinewidth": 0,
             "ticks": ""
            },
            "type": "heatmapgl"
           }
          ],
          "histogram": [
           {
            "marker": {
             "colorbar": {
              "outlinewidth": 0,
              "ticks": ""
             }
            },
            "type": "histogram"
           }
          ],
          "histogram2d": [
           {
            "autocolorscale": true,
            "colorbar": {
             "outlinewidth": 0,
             "ticks": ""
            },
            "type": "histogram2d"
           }
          ],
          "histogram2dcontour": [
           {
            "autocolorscale": true,
            "colorbar": {
             "outlinewidth": 0,
             "ticks": ""
            },
            "type": "histogram2dcontour"
           }
          ],
          "mesh3d": [
           {
            "colorbar": {
             "outlinewidth": 0,
             "ticks": ""
            },
            "type": "mesh3d"
           }
          ],
          "parcoords": [
           {
            "line": {
             "colorbar": {
              "outlinewidth": 0,
              "ticks": ""
             }
            },
            "type": "parcoords"
           }
          ],
          "scatter": [
           {
            "marker": {
             "colorbar": {
              "outlinewidth": 0,
              "ticks": ""
             }
            },
            "type": "scatter"
           }
          ],
          "scatter3d": [
           {
            "marker": {
             "colorbar": {
              "outlinewidth": 0,
              "ticks": ""
             }
            },
            "type": "scatter3d"
           }
          ],
          "scattercarpet": [
           {
            "marker": {
             "colorbar": {
              "outlinewidth": 0,
              "ticks": ""
             }
            },
            "type": "scattercarpet"
           }
          ],
          "scattergeo": [
           {
            "marker": {
             "colorbar": {
              "outlinewidth": 0,
              "ticks": ""
             }
            },
            "type": "scattergeo"
           }
          ],
          "scattergl": [
           {
            "marker": {
             "colorbar": {
              "outlinewidth": 0,
              "ticks": ""
             }
            },
            "type": "scattergl"
           }
          ],
          "scattermapbox": [
           {
            "marker": {
             "colorbar": {
              "outlinewidth": 0,
              "ticks": ""
             }
            },
            "type": "scattermapbox"
           }
          ],
          "scatterpolar": [
           {
            "marker": {
             "colorbar": {
              "outlinewidth": 0,
              "ticks": ""
             }
            },
            "type": "scatterpolar"
           }
          ],
          "scatterpolargl": [
           {
            "marker": {
             "colorbar": {
              "outlinewidth": 0,
              "ticks": ""
             }
            },
            "type": "scatterpolargl"
           }
          ],
          "scatterternary": [
           {
            "marker": {
             "colorbar": {
              "outlinewidth": 0,
              "ticks": ""
             }
            },
            "type": "scatterternary"
           }
          ],
          "surface": [
           {
            "colorbar": {
             "outlinewidth": 0,
             "ticks": ""
            },
            "type": "surface"
           }
          ],
          "table": [
           {
            "cells": {
             "fill": {
              "color": "#EBF0F8"
             },
             "line": {
              "color": "white"
             }
            },
            "header": {
             "fill": {
              "color": "#C8D4E3"
             },
             "line": {
              "color": "white"
             }
            },
            "type": "table"
           }
          ]
         },
         "layout": {
          "annotationdefaults": {
           "arrowcolor": "#506784",
           "arrowhead": 0,
           "arrowwidth": 1
          },
          "colorscale": {
           "diverging": [
            [
             0,
             "#8e0152"
            ],
            [
             0.1,
             "#c51b7d"
            ],
            [
             0.2,
             "#de77ae"
            ],
            [
             0.3,
             "#f1b6da"
            ],
            [
             0.4,
             "#fde0ef"
            ],
            [
             0.5,
             "#f7f7f7"
            ],
            [
             0.6,
             "#e6f5d0"
            ],
            [
             0.7,
             "#b8e186"
            ],
            [
             0.8,
             "#7fbc41"
            ],
            [
             0.9,
             "#4d9221"
            ],
            [
             1,
             "#276419"
            ]
           ],
           "sequential": [
            [
             0,
             "#0508b8"
            ],
            [
             0.0893854748603352,
             "#1910d8"
            ],
            [
             0.1787709497206704,
             "#3c19f0"
            ],
            [
             0.2681564245810056,
             "#6b1cfb"
            ],
            [
             0.3575418994413408,
             "#981cfd"
            ],
            [
             0.44692737430167595,
             "#bf1cfd"
            ],
            [
             0.5363128491620112,
             "#dd2bfd"
            ],
            [
             0.6256983240223464,
             "#f246fe"
            ],
            [
             0.7150837988826816,
             "#fc67fd"
            ],
            [
             0.8044692737430168,
             "#fe88fc"
            ],
            [
             0.8938547486033519,
             "#fea5fd"
            ],
            [
             0.9832402234636871,
             "#febefe"
            ],
            [
             1,
             "#fec3fe"
            ]
           ],
           "sequentialminus": [
            [
             0,
             "#0508b8"
            ],
            [
             0.0893854748603352,
             "#1910d8"
            ],
            [
             0.1787709497206704,
             "#3c19f0"
            ],
            [
             0.2681564245810056,
             "#6b1cfb"
            ],
            [
             0.3575418994413408,
             "#981cfd"
            ],
            [
             0.44692737430167595,
             "#bf1cfd"
            ],
            [
             0.5363128491620112,
             "#dd2bfd"
            ],
            [
             0.6256983240223464,
             "#f246fe"
            ],
            [
             0.7150837988826816,
             "#fc67fd"
            ],
            [
             0.8044692737430168,
             "#fe88fc"
            ],
            [
             0.8938547486033519,
             "#fea5fd"
            ],
            [
             0.9832402234636871,
             "#febefe"
            ],
            [
             1,
             "#fec3fe"
            ]
           ]
          },
          "colorway": [
           "#636efa",
           "#EF553B",
           "#00cc96",
           "#ab63fa",
           "#19d3f3",
           "#e763fa",
           "#FECB52",
           "#FFA15A",
           "#FF6692",
           "#B6E880"
          ],
          "font": {
           "color": "#2a3f5f"
          },
          "geo": {
           "bgcolor": "white",
           "lakecolor": "white",
           "landcolor": "#E5ECF6",
           "showlakes": true,
           "showland": true,
           "subunitcolor": "white"
          },
          "hovermode": "closest",
          "mapbox": {
           "style": "light"
          },
          "paper_bgcolor": "white",
          "plot_bgcolor": "#E5ECF6",
          "polar": {
           "angularaxis": {
            "gridcolor": "white",
            "linecolor": "white",
            "ticks": ""
           },
           "bgcolor": "#E5ECF6",
           "radialaxis": {
            "gridcolor": "white",
            "linecolor": "white",
            "ticks": ""
           }
          },
          "scene": {
           "xaxis": {
            "backgroundcolor": "#E5ECF6",
            "gridcolor": "white",
            "gridwidth": 2,
            "linecolor": "white",
            "showbackground": true,
            "ticks": "",
            "zerolinecolor": "white"
           },
           "yaxis": {
            "backgroundcolor": "#E5ECF6",
            "gridcolor": "white",
            "gridwidth": 2,
            "linecolor": "white",
            "showbackground": true,
            "ticks": "",
            "zerolinecolor": "white"
           },
           "zaxis": {
            "backgroundcolor": "#E5ECF6",
            "gridcolor": "white",
            "gridwidth": 2,
            "linecolor": "white",
            "showbackground": true,
            "ticks": "",
            "zerolinecolor": "white"
           }
          },
          "shapedefaults": {
           "fillcolor": "#506784",
           "line": {
            "width": 0
           },
           "opacity": 0.4
          },
          "ternary": {
           "aaxis": {
            "gridcolor": "white",
            "linecolor": "white",
            "ticks": ""
           },
           "baxis": {
            "gridcolor": "white",
            "linecolor": "white",
            "ticks": ""
           },
           "bgcolor": "#E5ECF6",
           "caxis": {
            "gridcolor": "white",
            "linecolor": "white",
            "ticks": ""
           }
          },
          "title": {
           "x": 0.05
          },
          "xaxis": {
           "automargin": true,
           "gridcolor": "white",
           "linecolor": "white",
           "ticks": "",
           "zerolinecolor": "white",
           "zerolinewidth": 2
          },
          "yaxis": {
           "automargin": true,
           "gridcolor": "white",
           "linecolor": "white",
           "ticks": "",
           "zerolinecolor": "white",
           "zerolinewidth": 2
          }
         }
        }
       }
      },
      "text/html": [
       "<div id=\"1189d84b-6681-4d9b-bd82-b99503b51756\" style=\"height: 600px; width: 100%;\" class=\"plotly-graph-div\"></div><script type=\"text/javascript\">require([\"plotly\"], function(Plotly) { window.PLOTLYENV=window.PLOTLYENV || {};window.PLOTLYENV.BASE_URL=\"https://plot.ly\";\n",
       "if (document.getElementById(\"1189d84b-6681-4d9b-bd82-b99503b51756\")) {\n",
       "    Plotly.newPlot(\"1189d84b-6681-4d9b-bd82-b99503b51756\", [{\"hovertemplate\": \"\\u00bfQu\\u00e9 tipo de aplicaciones utilizas en tu ordenador/tableta/m\\u00f3vil? (Respuesta m\\u00faltiple) [3. Bibliotecas de fotos online (Google Photos, iPhoto, etc.)]=No<br>counts=%{r}<br>prosume_cluster=%{theta}<extra></extra>\", \"legendgroup\": \"\\u00bfQu\\u00e9 tipo de aplicaciones utilizas en tu ordenador/tableta/m\\u00f3vil? (Respuesta m\\u00faltiple) [3. Bibliotecas de fotos online (Google Photos, iPhoto, etc.)]=No\", \"marker\": {\"color\": \"rgb(213,62,79)\"}, \"name\": \"\\u00bfQu\\u00e9 tipo de aplicaciones utilizas en tu ordenador/tableta/m\\u00f3vil? (Respuesta m\\u00faltiple) [3. Bibliotecas de fotos online (Google Photos, iPhoto, etc.)]=No\", \"r\": [17, 146, 31, 49, 143], \"showlegend\": true, \"theta\": [\"cluster_1\", \"cluster_2\", \"cluster_3\", \"cluster_4\", \"cluster_5\"], \"type\": \"barpolar\", \"uid\": \"04edc216-98fc-46cf-9f87-bf90041fdeb7\"}, {\"hovertemplate\": \"\\u00bfQu\\u00e9 tipo de aplicaciones utilizas en tu ordenador/tableta/m\\u00f3vil? (Respuesta m\\u00faltiple) [3. Bibliotecas de fotos online (Google Photos, iPhoto, etc.)]=S\\u00ed<br>counts=%{r}<br>prosume_cluster=%{theta}<extra></extra>\", \"legendgroup\": \"\\u00bfQu\\u00e9 tipo de aplicaciones utilizas en tu ordenador/tableta/m\\u00f3vil? (Respuesta m\\u00faltiple) [3. Bibliotecas de fotos online (Google Photos, iPhoto, etc.)]=S\\u00ed\", \"marker\": {\"color\": \"rgb(252,141,89)\"}, \"name\": \"\\u00bfQu\\u00e9 tipo de aplicaciones utilizas en tu ordenador/tableta/m\\u00f3vil? (Respuesta m\\u00faltiple) [3. Bibliotecas de fotos online (Google Photos, iPhoto, etc.)]=S\\u00ed\", \"r\": [20, 50, 69, 49, 193], \"showlegend\": true, \"theta\": [\"cluster_1\", \"cluster_2\", \"cluster_3\", \"cluster_4\", \"cluster_5\"], \"type\": \"barpolar\", \"uid\": \"30222f19-12b1-4938-83c7-b44998a6d6b4\"}], {\"barmode\": \"group\", \"barnorm\": \"\", \"height\": 600, \"legend\": {\"tracegroupgap\": 0}, \"margin\": {\"t\": 60}, \"template\": {\"data\": {\"barpolar\": [{\"marker\": {\"line\": {\"color\": \"#E5ECF6\", \"width\": 0.5}}, \"type\": \"barpolar\"}], \"bar\": [{\"marker\": {\"line\": {\"color\": \"#E5ECF6\", \"width\": 0.5}}, \"type\": \"bar\"}], \"carpet\": [{\"aaxis\": {\"endlinecolor\": \"#2a3f5f\", \"gridcolor\": \"white\", \"linecolor\": \"white\", \"minorgridcolor\": \"white\", \"startlinecolor\": \"#2a3f5f\"}, \"baxis\": {\"endlinecolor\": \"#2a3f5f\", \"gridcolor\": \"white\", \"linecolor\": \"white\", \"minorgridcolor\": \"white\", \"startlinecolor\": \"#2a3f5f\"}, \"type\": \"carpet\"}], \"choropleth\": [{\"colorbar\": {\"outlinewidth\": 0, \"ticks\": \"\"}, \"type\": \"choropleth\"}], \"contourcarpet\": [{\"colorbar\": {\"outlinewidth\": 0, \"ticks\": \"\"}, \"type\": \"contourcarpet\"}], \"contour\": [{\"autocolorscale\": true, \"colorbar\": {\"outlinewidth\": 0, \"ticks\": \"\"}, \"type\": \"contour\"}], \"heatmapgl\": [{\"colorbar\": {\"outlinewidth\": 0, \"ticks\": \"\"}, \"type\": \"heatmapgl\"}], \"heatmap\": [{\"autocolorscale\": true, \"colorbar\": {\"outlinewidth\": 0, \"ticks\": \"\"}, \"type\": \"heatmap\"}], \"histogram2dcontour\": [{\"autocolorscale\": true, \"colorbar\": {\"outlinewidth\": 0, \"ticks\": \"\"}, \"type\": \"histogram2dcontour\"}], \"histogram2d\": [{\"autocolorscale\": true, \"colorbar\": {\"outlinewidth\": 0, \"ticks\": \"\"}, \"type\": \"histogram2d\"}], \"histogram\": [{\"marker\": {\"colorbar\": {\"outlinewidth\": 0, \"ticks\": \"\"}}, \"type\": \"histogram\"}], \"mesh3d\": [{\"colorbar\": {\"outlinewidth\": 0, \"ticks\": \"\"}, \"type\": \"mesh3d\"}], \"parcoords\": [{\"line\": {\"colorbar\": {\"outlinewidth\": 0, \"ticks\": \"\"}}, \"type\": \"parcoords\"}], \"scatter3d\": [{\"marker\": {\"colorbar\": {\"outlinewidth\": 0, \"ticks\": \"\"}}, \"type\": \"scatter3d\"}], \"scattercarpet\": [{\"marker\": {\"colorbar\": {\"outlinewidth\": 0, \"ticks\": \"\"}}, \"type\": \"scattercarpet\"}], \"scattergeo\": [{\"marker\": {\"colorbar\": {\"outlinewidth\": 0, \"ticks\": \"\"}}, \"type\": \"scattergeo\"}], \"scattergl\": [{\"marker\": {\"colorbar\": {\"outlinewidth\": 0, \"ticks\": \"\"}}, \"type\": \"scattergl\"}], \"scattermapbox\": [{\"marker\": {\"colorbar\": {\"outlinewidth\": 0, \"ticks\": \"\"}}, \"type\": \"scattermapbox\"}], \"scatterpolargl\": [{\"marker\": {\"colorbar\": {\"outlinewidth\": 0, \"ticks\": \"\"}}, \"type\": \"scatterpolargl\"}], \"scatterpolar\": [{\"marker\": {\"colorbar\": {\"outlinewidth\": 0, \"ticks\": \"\"}}, \"type\": \"scatterpolar\"}], \"scatter\": [{\"marker\": {\"colorbar\": {\"outlinewidth\": 0, \"ticks\": \"\"}}, \"type\": \"scatter\"}], \"scatterternary\": [{\"marker\": {\"colorbar\": {\"outlinewidth\": 0, \"ticks\": \"\"}}, \"type\": \"scatterternary\"}], \"surface\": [{\"colorbar\": {\"outlinewidth\": 0, \"ticks\": \"\"}, \"type\": \"surface\"}], \"table\": [{\"cells\": {\"fill\": {\"color\": \"#EBF0F8\"}, \"line\": {\"color\": \"white\"}}, \"header\": {\"fill\": {\"color\": \"#C8D4E3\"}, \"line\": {\"color\": \"white\"}}, \"type\": \"table\"}]}, \"layout\": {\"annotationdefaults\": {\"arrowcolor\": \"#506784\", \"arrowhead\": 0, \"arrowwidth\": 1}, \"colorscale\": {\"diverging\": [[0, \"#8e0152\"], [0.1, \"#c51b7d\"], [0.2, \"#de77ae\"], [0.3, \"#f1b6da\"], [0.4, \"#fde0ef\"], [0.5, \"#f7f7f7\"], [0.6, \"#e6f5d0\"], [0.7, \"#b8e186\"], [0.8, \"#7fbc41\"], [0.9, \"#4d9221\"], [1, \"#276419\"]], \"sequential\": [[0.0, \"#0508b8\"], [0.0893854748603352, \"#1910d8\"], [0.1787709497206704, \"#3c19f0\"], [0.2681564245810056, \"#6b1cfb\"], [0.3575418994413408, \"#981cfd\"], [0.44692737430167595, \"#bf1cfd\"], [0.5363128491620112, \"#dd2bfd\"], [0.6256983240223464, \"#f246fe\"], [0.7150837988826816, \"#fc67fd\"], [0.8044692737430168, \"#fe88fc\"], [0.8938547486033519, \"#fea5fd\"], [0.9832402234636871, \"#febefe\"], [1.0, \"#fec3fe\"]], \"sequentialminus\": [[0.0, \"#0508b8\"], [0.0893854748603352, \"#1910d8\"], [0.1787709497206704, \"#3c19f0\"], [0.2681564245810056, \"#6b1cfb\"], [0.3575418994413408, \"#981cfd\"], [0.44692737430167595, \"#bf1cfd\"], [0.5363128491620112, \"#dd2bfd\"], [0.6256983240223464, \"#f246fe\"], [0.7150837988826816, \"#fc67fd\"], [0.8044692737430168, \"#fe88fc\"], [0.8938547486033519, \"#fea5fd\"], [0.9832402234636871, \"#febefe\"], [1.0, \"#fec3fe\"]]}, \"colorway\": [\"#636efa\", \"#EF553B\", \"#00cc96\", \"#ab63fa\", \"#19d3f3\", \"#e763fa\", \"#FECB52\", \"#FFA15A\", \"#FF6692\", \"#B6E880\"], \"font\": {\"color\": \"#2a3f5f\"}, \"geo\": {\"bgcolor\": \"white\", \"lakecolor\": \"white\", \"landcolor\": \"#E5ECF6\", \"showlakes\": true, \"showland\": true, \"subunitcolor\": \"white\"}, \"hovermode\": \"closest\", \"mapbox\": {\"style\": \"light\"}, \"paper_bgcolor\": \"white\", \"plot_bgcolor\": \"#E5ECF6\", \"polar\": {\"angularaxis\": {\"gridcolor\": \"white\", \"linecolor\": \"white\", \"ticks\": \"\"}, \"bgcolor\": \"#E5ECF6\", \"radialaxis\": {\"gridcolor\": \"white\", \"linecolor\": \"white\", \"ticks\": \"\"}}, \"scene\": {\"xaxis\": {\"backgroundcolor\": \"#E5ECF6\", \"gridcolor\": \"white\", \"gridwidth\": 2, \"linecolor\": \"white\", \"showbackground\": true, \"ticks\": \"\", \"zerolinecolor\": \"white\"}, \"yaxis\": {\"backgroundcolor\": \"#E5ECF6\", \"gridcolor\": \"white\", \"gridwidth\": 2, \"linecolor\": \"white\", \"showbackground\": true, \"ticks\": \"\", \"zerolinecolor\": \"white\"}, \"zaxis\": {\"backgroundcolor\": \"#E5ECF6\", \"gridcolor\": \"white\", \"gridwidth\": 2, \"linecolor\": \"white\", \"showbackground\": true, \"ticks\": \"\", \"zerolinecolor\": \"white\"}}, \"shapedefaults\": {\"fillcolor\": \"#506784\", \"line\": {\"width\": 0}, \"opacity\": 0.4}, \"ternary\": {\"aaxis\": {\"gridcolor\": \"white\", \"linecolor\": \"white\", \"ticks\": \"\"}, \"baxis\": {\"gridcolor\": \"white\", \"linecolor\": \"white\", \"ticks\": \"\"}, \"bgcolor\": \"#E5ECF6\", \"caxis\": {\"gridcolor\": \"white\", \"linecolor\": \"white\", \"ticks\": \"\"}}, \"title\": {\"x\": 0.05}, \"xaxis\": {\"automargin\": true, \"gridcolor\": \"white\", \"linecolor\": \"white\", \"ticks\": \"\", \"zerolinecolor\": \"white\", \"zerolinewidth\": 2}, \"yaxis\": {\"automargin\": true, \"gridcolor\": \"white\", \"linecolor\": \"white\", \"ticks\": \"\", \"zerolinecolor\": \"white\", \"zerolinewidth\": 2}}}, \"polar\": {\"angularaxis\": {\"direction\": \"clockwise\", \"rotation\": 90}}}, {\"showLink\": false, \"linkText\": \"Export to plot.ly\", \"plotlyServerURL\": \"https://plot.ly\"}); \n",
       "}\n",
       "});</script><script type=\"text/javascript\">window.addEventListener(\"resize\", function(){if (document.getElementById(\"1189d84b-6681-4d9b-bd82-b99503b51756\")) {window._Plotly.Plots.resize(document.getElementById(\"1189d84b-6681-4d9b-bd82-b99503b51756\"));};})</script>"
      ],
      "text/vnd.plotly.v1+html": [
       "<div id=\"1189d84b-6681-4d9b-bd82-b99503b51756\" style=\"height: 600px; width: 100%;\" class=\"plotly-graph-div\"></div><script type=\"text/javascript\">require([\"plotly\"], function(Plotly) { window.PLOTLYENV=window.PLOTLYENV || {};window.PLOTLYENV.BASE_URL=\"https://plot.ly\";\n",
       "if (document.getElementById(\"1189d84b-6681-4d9b-bd82-b99503b51756\")) {\n",
       "    Plotly.newPlot(\"1189d84b-6681-4d9b-bd82-b99503b51756\", [{\"hovertemplate\": \"\\u00bfQu\\u00e9 tipo de aplicaciones utilizas en tu ordenador/tableta/m\\u00f3vil? (Respuesta m\\u00faltiple) [3. Bibliotecas de fotos online (Google Photos, iPhoto, etc.)]=No<br>counts=%{r}<br>prosume_cluster=%{theta}<extra></extra>\", \"legendgroup\": \"\\u00bfQu\\u00e9 tipo de aplicaciones utilizas en tu ordenador/tableta/m\\u00f3vil? (Respuesta m\\u00faltiple) [3. Bibliotecas de fotos online (Google Photos, iPhoto, etc.)]=No\", \"marker\": {\"color\": \"rgb(213,62,79)\"}, \"name\": \"\\u00bfQu\\u00e9 tipo de aplicaciones utilizas en tu ordenador/tableta/m\\u00f3vil? (Respuesta m\\u00faltiple) [3. Bibliotecas de fotos online (Google Photos, iPhoto, etc.)]=No\", \"r\": [17, 146, 31, 49, 143], \"showlegend\": true, \"theta\": [\"cluster_1\", \"cluster_2\", \"cluster_3\", \"cluster_4\", \"cluster_5\"], \"type\": \"barpolar\", \"uid\": \"04edc216-98fc-46cf-9f87-bf90041fdeb7\"}, {\"hovertemplate\": \"\\u00bfQu\\u00e9 tipo de aplicaciones utilizas en tu ordenador/tableta/m\\u00f3vil? (Respuesta m\\u00faltiple) [3. Bibliotecas de fotos online (Google Photos, iPhoto, etc.)]=S\\u00ed<br>counts=%{r}<br>prosume_cluster=%{theta}<extra></extra>\", \"legendgroup\": \"\\u00bfQu\\u00e9 tipo de aplicaciones utilizas en tu ordenador/tableta/m\\u00f3vil? (Respuesta m\\u00faltiple) [3. Bibliotecas de fotos online (Google Photos, iPhoto, etc.)]=S\\u00ed\", \"marker\": {\"color\": \"rgb(252,141,89)\"}, \"name\": \"\\u00bfQu\\u00e9 tipo de aplicaciones utilizas en tu ordenador/tableta/m\\u00f3vil? (Respuesta m\\u00faltiple) [3. Bibliotecas de fotos online (Google Photos, iPhoto, etc.)]=S\\u00ed\", \"r\": [20, 50, 69, 49, 193], \"showlegend\": true, \"theta\": [\"cluster_1\", \"cluster_2\", \"cluster_3\", \"cluster_4\", \"cluster_5\"], \"type\": \"barpolar\", \"uid\": \"30222f19-12b1-4938-83c7-b44998a6d6b4\"}], {\"barmode\": \"group\", \"barnorm\": \"\", \"height\": 600, \"legend\": {\"tracegroupgap\": 0}, \"margin\": {\"t\": 60}, \"template\": {\"data\": {\"barpolar\": [{\"marker\": {\"line\": {\"color\": \"#E5ECF6\", \"width\": 0.5}}, \"type\": \"barpolar\"}], \"bar\": [{\"marker\": {\"line\": {\"color\": \"#E5ECF6\", \"width\": 0.5}}, \"type\": \"bar\"}], \"carpet\": [{\"aaxis\": {\"endlinecolor\": \"#2a3f5f\", \"gridcolor\": \"white\", \"linecolor\": \"white\", \"minorgridcolor\": \"white\", \"startlinecolor\": \"#2a3f5f\"}, \"baxis\": {\"endlinecolor\": \"#2a3f5f\", \"gridcolor\": \"white\", \"linecolor\": \"white\", \"minorgridcolor\": \"white\", \"startlinecolor\": \"#2a3f5f\"}, \"type\": \"carpet\"}], \"choropleth\": [{\"colorbar\": {\"outlinewidth\": 0, \"ticks\": \"\"}, \"type\": \"choropleth\"}], \"contourcarpet\": [{\"colorbar\": {\"outlinewidth\": 0, \"ticks\": \"\"}, \"type\": \"contourcarpet\"}], \"contour\": [{\"autocolorscale\": true, \"colorbar\": {\"outlinewidth\": 0, \"ticks\": \"\"}, \"type\": \"contour\"}], \"heatmapgl\": [{\"colorbar\": {\"outlinewidth\": 0, \"ticks\": \"\"}, \"type\": \"heatmapgl\"}], \"heatmap\": [{\"autocolorscale\": true, \"colorbar\": {\"outlinewidth\": 0, \"ticks\": \"\"}, \"type\": \"heatmap\"}], \"histogram2dcontour\": [{\"autocolorscale\": true, \"colorbar\": {\"outlinewidth\": 0, \"ticks\": \"\"}, \"type\": \"histogram2dcontour\"}], \"histogram2d\": [{\"autocolorscale\": true, \"colorbar\": {\"outlinewidth\": 0, \"ticks\": \"\"}, \"type\": \"histogram2d\"}], \"histogram\": [{\"marker\": {\"colorbar\": {\"outlinewidth\": 0, \"ticks\": \"\"}}, \"type\": \"histogram\"}], \"mesh3d\": [{\"colorbar\": {\"outlinewidth\": 0, \"ticks\": \"\"}, \"type\": \"mesh3d\"}], \"parcoords\": [{\"line\": {\"colorbar\": {\"outlinewidth\": 0, \"ticks\": \"\"}}, \"type\": \"parcoords\"}], \"scatter3d\": [{\"marker\": {\"colorbar\": {\"outlinewidth\": 0, \"ticks\": \"\"}}, \"type\": \"scatter3d\"}], \"scattercarpet\": [{\"marker\": {\"colorbar\": {\"outlinewidth\": 0, \"ticks\": \"\"}}, \"type\": \"scattercarpet\"}], \"scattergeo\": [{\"marker\": {\"colorbar\": {\"outlinewidth\": 0, \"ticks\": \"\"}}, \"type\": \"scattergeo\"}], \"scattergl\": [{\"marker\": {\"colorbar\": {\"outlinewidth\": 0, \"ticks\": \"\"}}, \"type\": \"scattergl\"}], \"scattermapbox\": [{\"marker\": {\"colorbar\": {\"outlinewidth\": 0, \"ticks\": \"\"}}, \"type\": \"scattermapbox\"}], \"scatterpolargl\": [{\"marker\": {\"colorbar\": {\"outlinewidth\": 0, \"ticks\": \"\"}}, \"type\": \"scatterpolargl\"}], \"scatterpolar\": [{\"marker\": {\"colorbar\": {\"outlinewidth\": 0, \"ticks\": \"\"}}, \"type\": \"scatterpolar\"}], \"scatter\": [{\"marker\": {\"colorbar\": {\"outlinewidth\": 0, \"ticks\": \"\"}}, \"type\": \"scatter\"}], \"scatterternary\": [{\"marker\": {\"colorbar\": {\"outlinewidth\": 0, \"ticks\": \"\"}}, \"type\": \"scatterternary\"}], \"surface\": [{\"colorbar\": {\"outlinewidth\": 0, \"ticks\": \"\"}, \"type\": \"surface\"}], \"table\": [{\"cells\": {\"fill\": {\"color\": \"#EBF0F8\"}, \"line\": {\"color\": \"white\"}}, \"header\": {\"fill\": {\"color\": \"#C8D4E3\"}, \"line\": {\"color\": \"white\"}}, \"type\": \"table\"}]}, \"layout\": {\"annotationdefaults\": {\"arrowcolor\": \"#506784\", \"arrowhead\": 0, \"arrowwidth\": 1}, \"colorscale\": {\"diverging\": [[0, \"#8e0152\"], [0.1, \"#c51b7d\"], [0.2, \"#de77ae\"], [0.3, \"#f1b6da\"], [0.4, \"#fde0ef\"], [0.5, \"#f7f7f7\"], [0.6, \"#e6f5d0\"], [0.7, \"#b8e186\"], [0.8, \"#7fbc41\"], [0.9, \"#4d9221\"], [1, \"#276419\"]], \"sequential\": [[0.0, \"#0508b8\"], [0.0893854748603352, \"#1910d8\"], [0.1787709497206704, \"#3c19f0\"], [0.2681564245810056, \"#6b1cfb\"], [0.3575418994413408, \"#981cfd\"], [0.44692737430167595, \"#bf1cfd\"], [0.5363128491620112, \"#dd2bfd\"], [0.6256983240223464, \"#f246fe\"], [0.7150837988826816, \"#fc67fd\"], [0.8044692737430168, \"#fe88fc\"], [0.8938547486033519, \"#fea5fd\"], [0.9832402234636871, \"#febefe\"], [1.0, \"#fec3fe\"]], \"sequentialminus\": [[0.0, \"#0508b8\"], [0.0893854748603352, \"#1910d8\"], [0.1787709497206704, \"#3c19f0\"], [0.2681564245810056, \"#6b1cfb\"], [0.3575418994413408, \"#981cfd\"], [0.44692737430167595, \"#bf1cfd\"], [0.5363128491620112, \"#dd2bfd\"], [0.6256983240223464, \"#f246fe\"], [0.7150837988826816, \"#fc67fd\"], [0.8044692737430168, \"#fe88fc\"], [0.8938547486033519, \"#fea5fd\"], [0.9832402234636871, \"#febefe\"], [1.0, \"#fec3fe\"]]}, \"colorway\": [\"#636efa\", \"#EF553B\", \"#00cc96\", \"#ab63fa\", \"#19d3f3\", \"#e763fa\", \"#FECB52\", \"#FFA15A\", \"#FF6692\", \"#B6E880\"], \"font\": {\"color\": \"#2a3f5f\"}, \"geo\": {\"bgcolor\": \"white\", \"lakecolor\": \"white\", \"landcolor\": \"#E5ECF6\", \"showlakes\": true, \"showland\": true, \"subunitcolor\": \"white\"}, \"hovermode\": \"closest\", \"mapbox\": {\"style\": \"light\"}, \"paper_bgcolor\": \"white\", \"plot_bgcolor\": \"#E5ECF6\", \"polar\": {\"angularaxis\": {\"gridcolor\": \"white\", \"linecolor\": \"white\", \"ticks\": \"\"}, \"bgcolor\": \"#E5ECF6\", \"radialaxis\": {\"gridcolor\": \"white\", \"linecolor\": \"white\", \"ticks\": \"\"}}, \"scene\": {\"xaxis\": {\"backgroundcolor\": \"#E5ECF6\", \"gridcolor\": \"white\", \"gridwidth\": 2, \"linecolor\": \"white\", \"showbackground\": true, \"ticks\": \"\", \"zerolinecolor\": \"white\"}, \"yaxis\": {\"backgroundcolor\": \"#E5ECF6\", \"gridcolor\": \"white\", \"gridwidth\": 2, \"linecolor\": \"white\", \"showbackground\": true, \"ticks\": \"\", \"zerolinecolor\": \"white\"}, \"zaxis\": {\"backgroundcolor\": \"#E5ECF6\", \"gridcolor\": \"white\", \"gridwidth\": 2, \"linecolor\": \"white\", \"showbackground\": true, \"ticks\": \"\", \"zerolinecolor\": \"white\"}}, \"shapedefaults\": {\"fillcolor\": \"#506784\", \"line\": {\"width\": 0}, \"opacity\": 0.4}, \"ternary\": {\"aaxis\": {\"gridcolor\": \"white\", \"linecolor\": \"white\", \"ticks\": \"\"}, \"baxis\": {\"gridcolor\": \"white\", \"linecolor\": \"white\", \"ticks\": \"\"}, \"bgcolor\": \"#E5ECF6\", \"caxis\": {\"gridcolor\": \"white\", \"linecolor\": \"white\", \"ticks\": \"\"}}, \"title\": {\"x\": 0.05}, \"xaxis\": {\"automargin\": true, \"gridcolor\": \"white\", \"linecolor\": \"white\", \"ticks\": \"\", \"zerolinecolor\": \"white\", \"zerolinewidth\": 2}, \"yaxis\": {\"automargin\": true, \"gridcolor\": \"white\", \"linecolor\": \"white\", \"ticks\": \"\", \"zerolinecolor\": \"white\", \"zerolinewidth\": 2}}}, \"polar\": {\"angularaxis\": {\"direction\": \"clockwise\", \"rotation\": 90}}}, {\"showLink\": false, \"linkText\": \"Export to plot.ly\", \"plotlyServerURL\": \"https://plot.ly\"}); \n",
       "}\n",
       "});</script><script type=\"text/javascript\">window.addEventListener(\"resize\", function(){if (document.getElementById(\"1189d84b-6681-4d9b-bd82-b99503b51756\")) {window._Plotly.Plots.resize(document.getElementById(\"1189d84b-6681-4d9b-bd82-b99503b51756\"));};})</script>"
      ]
     },
     "metadata": {},
     "output_type": "display_data"
    },
    {
     "name": "stdout",
     "output_type": "stream",
     "text": [
      "Comparando la pregunta ¿Qué tipo de aplicaciones utilizas en tu ordenador/tableta/móvil? (Respuesta múltiple) [4. Redes sociales (Facebook, Instagram, Twitter, etc.).]\n"
     ]
    },
    {
     "data": {
      "application/vnd.plotly.v1+json": {
       "config": {
        "linkText": "Export to plot.ly",
        "plotlyServerURL": "https://plot.ly",
        "showLink": false
       },
       "data": [
        {
         "hovertemplate": "¿Qué tipo de aplicaciones utilizas en tu ordenador/tableta/móvil? (Respuesta múltiple) [4. Redes sociales (Facebook, Instagram, Twitter, etc.).]=No<br>counts=%{r}<br>prosume_cluster=%{theta}<extra></extra>",
         "legendgroup": "¿Qué tipo de aplicaciones utilizas en tu ordenador/tableta/móvil? (Respuesta múltiple) [4. Redes sociales (Facebook, Instagram, Twitter, etc.).]=No",
         "marker": {
          "color": "rgb(213,62,79)"
         },
         "name": "¿Qué tipo de aplicaciones utilizas en tu ordenador/tableta/móvil? (Respuesta múltiple) [4. Redes sociales (Facebook, Instagram, Twitter, etc.).]=No",
         "r": [
          27,
          67,
          11,
          3,
          38
         ],
         "showlegend": true,
         "theta": [
          "cluster_1",
          "cluster_2",
          "cluster_3",
          "cluster_4",
          "cluster_5"
         ],
         "type": "barpolar",
         "uid": "b49df5c8-4399-4334-8574-d033c8b780f9"
        },
        {
         "hovertemplate": "¿Qué tipo de aplicaciones utilizas en tu ordenador/tableta/móvil? (Respuesta múltiple) [4. Redes sociales (Facebook, Instagram, Twitter, etc.).]=Sí<br>counts=%{r}<br>prosume_cluster=%{theta}<extra></extra>",
         "legendgroup": "¿Qué tipo de aplicaciones utilizas en tu ordenador/tableta/móvil? (Respuesta múltiple) [4. Redes sociales (Facebook, Instagram, Twitter, etc.).]=Sí",
         "marker": {
          "color": "rgb(252,141,89)"
         },
         "name": "¿Qué tipo de aplicaciones utilizas en tu ordenador/tableta/móvil? (Respuesta múltiple) [4. Redes sociales (Facebook, Instagram, Twitter, etc.).]=Sí",
         "r": [
          10,
          129,
          89,
          95,
          298
         ],
         "showlegend": true,
         "theta": [
          "cluster_1",
          "cluster_2",
          "cluster_3",
          "cluster_4",
          "cluster_5"
         ],
         "type": "barpolar",
         "uid": "cc16ae4e-b7ec-4431-8a1b-b1f92bd5413a"
        }
       ],
       "layout": {
        "barmode": "group",
        "barnorm": "",
        "height": 600,
        "legend": {
         "tracegroupgap": 0
        },
        "margin": {
         "t": 60
        },
        "polar": {
         "angularaxis": {
          "direction": "clockwise",
          "rotation": 90
         }
        },
        "template": {
         "data": {
          "bar": [
           {
            "marker": {
             "line": {
              "color": "#E5ECF6",
              "width": 0.5
             }
            },
            "type": "bar"
           }
          ],
          "barpolar": [
           {
            "marker": {
             "line": {
              "color": "#E5ECF6",
              "width": 0.5
             }
            },
            "type": "barpolar"
           }
          ],
          "carpet": [
           {
            "aaxis": {
             "endlinecolor": "#2a3f5f",
             "gridcolor": "white",
             "linecolor": "white",
             "minorgridcolor": "white",
             "startlinecolor": "#2a3f5f"
            },
            "baxis": {
             "endlinecolor": "#2a3f5f",
             "gridcolor": "white",
             "linecolor": "white",
             "minorgridcolor": "white",
             "startlinecolor": "#2a3f5f"
            },
            "type": "carpet"
           }
          ],
          "choropleth": [
           {
            "colorbar": {
             "outlinewidth": 0,
             "ticks": ""
            },
            "type": "choropleth"
           }
          ],
          "contour": [
           {
            "autocolorscale": true,
            "colorbar": {
             "outlinewidth": 0,
             "ticks": ""
            },
            "type": "contour"
           }
          ],
          "contourcarpet": [
           {
            "colorbar": {
             "outlinewidth": 0,
             "ticks": ""
            },
            "type": "contourcarpet"
           }
          ],
          "heatmap": [
           {
            "autocolorscale": true,
            "colorbar": {
             "outlinewidth": 0,
             "ticks": ""
            },
            "type": "heatmap"
           }
          ],
          "heatmapgl": [
           {
            "colorbar": {
             "outlinewidth": 0,
             "ticks": ""
            },
            "type": "heatmapgl"
           }
          ],
          "histogram": [
           {
            "marker": {
             "colorbar": {
              "outlinewidth": 0,
              "ticks": ""
             }
            },
            "type": "histogram"
           }
          ],
          "histogram2d": [
           {
            "autocolorscale": true,
            "colorbar": {
             "outlinewidth": 0,
             "ticks": ""
            },
            "type": "histogram2d"
           }
          ],
          "histogram2dcontour": [
           {
            "autocolorscale": true,
            "colorbar": {
             "outlinewidth": 0,
             "ticks": ""
            },
            "type": "histogram2dcontour"
           }
          ],
          "mesh3d": [
           {
            "colorbar": {
             "outlinewidth": 0,
             "ticks": ""
            },
            "type": "mesh3d"
           }
          ],
          "parcoords": [
           {
            "line": {
             "colorbar": {
              "outlinewidth": 0,
              "ticks": ""
             }
            },
            "type": "parcoords"
           }
          ],
          "scatter": [
           {
            "marker": {
             "colorbar": {
              "outlinewidth": 0,
              "ticks": ""
             }
            },
            "type": "scatter"
           }
          ],
          "scatter3d": [
           {
            "marker": {
             "colorbar": {
              "outlinewidth": 0,
              "ticks": ""
             }
            },
            "type": "scatter3d"
           }
          ],
          "scattercarpet": [
           {
            "marker": {
             "colorbar": {
              "outlinewidth": 0,
              "ticks": ""
             }
            },
            "type": "scattercarpet"
           }
          ],
          "scattergeo": [
           {
            "marker": {
             "colorbar": {
              "outlinewidth": 0,
              "ticks": ""
             }
            },
            "type": "scattergeo"
           }
          ],
          "scattergl": [
           {
            "marker": {
             "colorbar": {
              "outlinewidth": 0,
              "ticks": ""
             }
            },
            "type": "scattergl"
           }
          ],
          "scattermapbox": [
           {
            "marker": {
             "colorbar": {
              "outlinewidth": 0,
              "ticks": ""
             }
            },
            "type": "scattermapbox"
           }
          ],
          "scatterpolar": [
           {
            "marker": {
             "colorbar": {
              "outlinewidth": 0,
              "ticks": ""
             }
            },
            "type": "scatterpolar"
           }
          ],
          "scatterpolargl": [
           {
            "marker": {
             "colorbar": {
              "outlinewidth": 0,
              "ticks": ""
             }
            },
            "type": "scatterpolargl"
           }
          ],
          "scatterternary": [
           {
            "marker": {
             "colorbar": {
              "outlinewidth": 0,
              "ticks": ""
             }
            },
            "type": "scatterternary"
           }
          ],
          "surface": [
           {
            "colorbar": {
             "outlinewidth": 0,
             "ticks": ""
            },
            "type": "surface"
           }
          ],
          "table": [
           {
            "cells": {
             "fill": {
              "color": "#EBF0F8"
             },
             "line": {
              "color": "white"
             }
            },
            "header": {
             "fill": {
              "color": "#C8D4E3"
             },
             "line": {
              "color": "white"
             }
            },
            "type": "table"
           }
          ]
         },
         "layout": {
          "annotationdefaults": {
           "arrowcolor": "#506784",
           "arrowhead": 0,
           "arrowwidth": 1
          },
          "colorscale": {
           "diverging": [
            [
             0,
             "#8e0152"
            ],
            [
             0.1,
             "#c51b7d"
            ],
            [
             0.2,
             "#de77ae"
            ],
            [
             0.3,
             "#f1b6da"
            ],
            [
             0.4,
             "#fde0ef"
            ],
            [
             0.5,
             "#f7f7f7"
            ],
            [
             0.6,
             "#e6f5d0"
            ],
            [
             0.7,
             "#b8e186"
            ],
            [
             0.8,
             "#7fbc41"
            ],
            [
             0.9,
             "#4d9221"
            ],
            [
             1,
             "#276419"
            ]
           ],
           "sequential": [
            [
             0,
             "#0508b8"
            ],
            [
             0.0893854748603352,
             "#1910d8"
            ],
            [
             0.1787709497206704,
             "#3c19f0"
            ],
            [
             0.2681564245810056,
             "#6b1cfb"
            ],
            [
             0.3575418994413408,
             "#981cfd"
            ],
            [
             0.44692737430167595,
             "#bf1cfd"
            ],
            [
             0.5363128491620112,
             "#dd2bfd"
            ],
            [
             0.6256983240223464,
             "#f246fe"
            ],
            [
             0.7150837988826816,
             "#fc67fd"
            ],
            [
             0.8044692737430168,
             "#fe88fc"
            ],
            [
             0.8938547486033519,
             "#fea5fd"
            ],
            [
             0.9832402234636871,
             "#febefe"
            ],
            [
             1,
             "#fec3fe"
            ]
           ],
           "sequentialminus": [
            [
             0,
             "#0508b8"
            ],
            [
             0.0893854748603352,
             "#1910d8"
            ],
            [
             0.1787709497206704,
             "#3c19f0"
            ],
            [
             0.2681564245810056,
             "#6b1cfb"
            ],
            [
             0.3575418994413408,
             "#981cfd"
            ],
            [
             0.44692737430167595,
             "#bf1cfd"
            ],
            [
             0.5363128491620112,
             "#dd2bfd"
            ],
            [
             0.6256983240223464,
             "#f246fe"
            ],
            [
             0.7150837988826816,
             "#fc67fd"
            ],
            [
             0.8044692737430168,
             "#fe88fc"
            ],
            [
             0.8938547486033519,
             "#fea5fd"
            ],
            [
             0.9832402234636871,
             "#febefe"
            ],
            [
             1,
             "#fec3fe"
            ]
           ]
          },
          "colorway": [
           "#636efa",
           "#EF553B",
           "#00cc96",
           "#ab63fa",
           "#19d3f3",
           "#e763fa",
           "#FECB52",
           "#FFA15A",
           "#FF6692",
           "#B6E880"
          ],
          "font": {
           "color": "#2a3f5f"
          },
          "geo": {
           "bgcolor": "white",
           "lakecolor": "white",
           "landcolor": "#E5ECF6",
           "showlakes": true,
           "showland": true,
           "subunitcolor": "white"
          },
          "hovermode": "closest",
          "mapbox": {
           "style": "light"
          },
          "paper_bgcolor": "white",
          "plot_bgcolor": "#E5ECF6",
          "polar": {
           "angularaxis": {
            "gridcolor": "white",
            "linecolor": "white",
            "ticks": ""
           },
           "bgcolor": "#E5ECF6",
           "radialaxis": {
            "gridcolor": "white",
            "linecolor": "white",
            "ticks": ""
           }
          },
          "scene": {
           "xaxis": {
            "backgroundcolor": "#E5ECF6",
            "gridcolor": "white",
            "gridwidth": 2,
            "linecolor": "white",
            "showbackground": true,
            "ticks": "",
            "zerolinecolor": "white"
           },
           "yaxis": {
            "backgroundcolor": "#E5ECF6",
            "gridcolor": "white",
            "gridwidth": 2,
            "linecolor": "white",
            "showbackground": true,
            "ticks": "",
            "zerolinecolor": "white"
           },
           "zaxis": {
            "backgroundcolor": "#E5ECF6",
            "gridcolor": "white",
            "gridwidth": 2,
            "linecolor": "white",
            "showbackground": true,
            "ticks": "",
            "zerolinecolor": "white"
           }
          },
          "shapedefaults": {
           "fillcolor": "#506784",
           "line": {
            "width": 0
           },
           "opacity": 0.4
          },
          "ternary": {
           "aaxis": {
            "gridcolor": "white",
            "linecolor": "white",
            "ticks": ""
           },
           "baxis": {
            "gridcolor": "white",
            "linecolor": "white",
            "ticks": ""
           },
           "bgcolor": "#E5ECF6",
           "caxis": {
            "gridcolor": "white",
            "linecolor": "white",
            "ticks": ""
           }
          },
          "title": {
           "x": 0.05
          },
          "xaxis": {
           "automargin": true,
           "gridcolor": "white",
           "linecolor": "white",
           "ticks": "",
           "zerolinecolor": "white",
           "zerolinewidth": 2
          },
          "yaxis": {
           "automargin": true,
           "gridcolor": "white",
           "linecolor": "white",
           "ticks": "",
           "zerolinecolor": "white",
           "zerolinewidth": 2
          }
         }
        }
       }
      },
      "text/html": [
       "<div id=\"69f1d733-3d13-4a5c-b1d2-bc96d24df39e\" style=\"height: 600px; width: 100%;\" class=\"plotly-graph-div\"></div><script type=\"text/javascript\">require([\"plotly\"], function(Plotly) { window.PLOTLYENV=window.PLOTLYENV || {};window.PLOTLYENV.BASE_URL=\"https://plot.ly\";\n",
       "if (document.getElementById(\"69f1d733-3d13-4a5c-b1d2-bc96d24df39e\")) {\n",
       "    Plotly.newPlot(\"69f1d733-3d13-4a5c-b1d2-bc96d24df39e\", [{\"hovertemplate\": \"\\u00bfQu\\u00e9 tipo de aplicaciones utilizas en tu ordenador/tableta/m\\u00f3vil? (Respuesta m\\u00faltiple) [4. Redes sociales (Facebook, Instagram, Twitter, etc.).]=No<br>counts=%{r}<br>prosume_cluster=%{theta}<extra></extra>\", \"legendgroup\": \"\\u00bfQu\\u00e9 tipo de aplicaciones utilizas en tu ordenador/tableta/m\\u00f3vil? (Respuesta m\\u00faltiple) [4. Redes sociales (Facebook, Instagram, Twitter, etc.).]=No\", \"marker\": {\"color\": \"rgb(213,62,79)\"}, \"name\": \"\\u00bfQu\\u00e9 tipo de aplicaciones utilizas en tu ordenador/tableta/m\\u00f3vil? (Respuesta m\\u00faltiple) [4. Redes sociales (Facebook, Instagram, Twitter, etc.).]=No\", \"r\": [27, 67, 11, 3, 38], \"showlegend\": true, \"theta\": [\"cluster_1\", \"cluster_2\", \"cluster_3\", \"cluster_4\", \"cluster_5\"], \"type\": \"barpolar\", \"uid\": \"b49df5c8-4399-4334-8574-d033c8b780f9\"}, {\"hovertemplate\": \"\\u00bfQu\\u00e9 tipo de aplicaciones utilizas en tu ordenador/tableta/m\\u00f3vil? (Respuesta m\\u00faltiple) [4. Redes sociales (Facebook, Instagram, Twitter, etc.).]=S\\u00ed<br>counts=%{r}<br>prosume_cluster=%{theta}<extra></extra>\", \"legendgroup\": \"\\u00bfQu\\u00e9 tipo de aplicaciones utilizas en tu ordenador/tableta/m\\u00f3vil? (Respuesta m\\u00faltiple) [4. Redes sociales (Facebook, Instagram, Twitter, etc.).]=S\\u00ed\", \"marker\": {\"color\": \"rgb(252,141,89)\"}, \"name\": \"\\u00bfQu\\u00e9 tipo de aplicaciones utilizas en tu ordenador/tableta/m\\u00f3vil? (Respuesta m\\u00faltiple) [4. Redes sociales (Facebook, Instagram, Twitter, etc.).]=S\\u00ed\", \"r\": [10, 129, 89, 95, 298], \"showlegend\": true, \"theta\": [\"cluster_1\", \"cluster_2\", \"cluster_3\", \"cluster_4\", \"cluster_5\"], \"type\": \"barpolar\", \"uid\": \"cc16ae4e-b7ec-4431-8a1b-b1f92bd5413a\"}], {\"barmode\": \"group\", \"barnorm\": \"\", \"height\": 600, \"legend\": {\"tracegroupgap\": 0}, \"margin\": {\"t\": 60}, \"template\": {\"data\": {\"barpolar\": [{\"marker\": {\"line\": {\"color\": \"#E5ECF6\", \"width\": 0.5}}, \"type\": \"barpolar\"}], \"bar\": [{\"marker\": {\"line\": {\"color\": \"#E5ECF6\", \"width\": 0.5}}, \"type\": \"bar\"}], \"carpet\": [{\"aaxis\": {\"endlinecolor\": \"#2a3f5f\", \"gridcolor\": \"white\", \"linecolor\": \"white\", \"minorgridcolor\": \"white\", \"startlinecolor\": \"#2a3f5f\"}, \"baxis\": {\"endlinecolor\": \"#2a3f5f\", \"gridcolor\": \"white\", \"linecolor\": \"white\", \"minorgridcolor\": \"white\", \"startlinecolor\": \"#2a3f5f\"}, \"type\": \"carpet\"}], \"choropleth\": [{\"colorbar\": {\"outlinewidth\": 0, \"ticks\": \"\"}, \"type\": \"choropleth\"}], \"contourcarpet\": [{\"colorbar\": {\"outlinewidth\": 0, \"ticks\": \"\"}, \"type\": \"contourcarpet\"}], \"contour\": [{\"autocolorscale\": true, \"colorbar\": {\"outlinewidth\": 0, \"ticks\": \"\"}, \"type\": \"contour\"}], \"heatmapgl\": [{\"colorbar\": {\"outlinewidth\": 0, \"ticks\": \"\"}, \"type\": \"heatmapgl\"}], \"heatmap\": [{\"autocolorscale\": true, \"colorbar\": {\"outlinewidth\": 0, \"ticks\": \"\"}, \"type\": \"heatmap\"}], \"histogram2dcontour\": [{\"autocolorscale\": true, \"colorbar\": {\"outlinewidth\": 0, \"ticks\": \"\"}, \"type\": \"histogram2dcontour\"}], \"histogram2d\": [{\"autocolorscale\": true, \"colorbar\": {\"outlinewidth\": 0, \"ticks\": \"\"}, \"type\": \"histogram2d\"}], \"histogram\": [{\"marker\": {\"colorbar\": {\"outlinewidth\": 0, \"ticks\": \"\"}}, \"type\": \"histogram\"}], \"mesh3d\": [{\"colorbar\": {\"outlinewidth\": 0, \"ticks\": \"\"}, \"type\": \"mesh3d\"}], \"parcoords\": [{\"line\": {\"colorbar\": {\"outlinewidth\": 0, \"ticks\": \"\"}}, \"type\": \"parcoords\"}], \"scatter3d\": [{\"marker\": {\"colorbar\": {\"outlinewidth\": 0, \"ticks\": \"\"}}, \"type\": \"scatter3d\"}], \"scattercarpet\": [{\"marker\": {\"colorbar\": {\"outlinewidth\": 0, \"ticks\": \"\"}}, \"type\": \"scattercarpet\"}], \"scattergeo\": [{\"marker\": {\"colorbar\": {\"outlinewidth\": 0, \"ticks\": \"\"}}, \"type\": \"scattergeo\"}], \"scattergl\": [{\"marker\": {\"colorbar\": {\"outlinewidth\": 0, \"ticks\": \"\"}}, \"type\": \"scattergl\"}], \"scattermapbox\": [{\"marker\": {\"colorbar\": {\"outlinewidth\": 0, \"ticks\": \"\"}}, \"type\": \"scattermapbox\"}], \"scatterpolargl\": [{\"marker\": {\"colorbar\": {\"outlinewidth\": 0, \"ticks\": \"\"}}, \"type\": \"scatterpolargl\"}], \"scatterpolar\": [{\"marker\": {\"colorbar\": {\"outlinewidth\": 0, \"ticks\": \"\"}}, \"type\": \"scatterpolar\"}], \"scatter\": [{\"marker\": {\"colorbar\": {\"outlinewidth\": 0, \"ticks\": \"\"}}, \"type\": \"scatter\"}], \"scatterternary\": [{\"marker\": {\"colorbar\": {\"outlinewidth\": 0, \"ticks\": \"\"}}, \"type\": \"scatterternary\"}], \"surface\": [{\"colorbar\": {\"outlinewidth\": 0, \"ticks\": \"\"}, \"type\": \"surface\"}], \"table\": [{\"cells\": {\"fill\": {\"color\": \"#EBF0F8\"}, \"line\": {\"color\": \"white\"}}, \"header\": {\"fill\": {\"color\": \"#C8D4E3\"}, \"line\": {\"color\": \"white\"}}, \"type\": \"table\"}]}, \"layout\": {\"annotationdefaults\": {\"arrowcolor\": \"#506784\", \"arrowhead\": 0, \"arrowwidth\": 1}, \"colorscale\": {\"diverging\": [[0, \"#8e0152\"], [0.1, \"#c51b7d\"], [0.2, \"#de77ae\"], [0.3, \"#f1b6da\"], [0.4, \"#fde0ef\"], [0.5, \"#f7f7f7\"], [0.6, \"#e6f5d0\"], [0.7, \"#b8e186\"], [0.8, \"#7fbc41\"], [0.9, \"#4d9221\"], [1, \"#276419\"]], \"sequential\": [[0.0, \"#0508b8\"], [0.0893854748603352, \"#1910d8\"], [0.1787709497206704, \"#3c19f0\"], [0.2681564245810056, \"#6b1cfb\"], [0.3575418994413408, \"#981cfd\"], [0.44692737430167595, \"#bf1cfd\"], [0.5363128491620112, \"#dd2bfd\"], [0.6256983240223464, \"#f246fe\"], [0.7150837988826816, \"#fc67fd\"], [0.8044692737430168, \"#fe88fc\"], [0.8938547486033519, \"#fea5fd\"], [0.9832402234636871, \"#febefe\"], [1.0, \"#fec3fe\"]], \"sequentialminus\": [[0.0, \"#0508b8\"], [0.0893854748603352, \"#1910d8\"], [0.1787709497206704, \"#3c19f0\"], [0.2681564245810056, \"#6b1cfb\"], [0.3575418994413408, \"#981cfd\"], [0.44692737430167595, \"#bf1cfd\"], [0.5363128491620112, \"#dd2bfd\"], [0.6256983240223464, \"#f246fe\"], [0.7150837988826816, \"#fc67fd\"], [0.8044692737430168, \"#fe88fc\"], [0.8938547486033519, \"#fea5fd\"], [0.9832402234636871, \"#febefe\"], [1.0, \"#fec3fe\"]]}, \"colorway\": [\"#636efa\", \"#EF553B\", \"#00cc96\", \"#ab63fa\", \"#19d3f3\", \"#e763fa\", \"#FECB52\", \"#FFA15A\", \"#FF6692\", \"#B6E880\"], \"font\": {\"color\": \"#2a3f5f\"}, \"geo\": {\"bgcolor\": \"white\", \"lakecolor\": \"white\", \"landcolor\": \"#E5ECF6\", \"showlakes\": true, \"showland\": true, \"subunitcolor\": \"white\"}, \"hovermode\": \"closest\", \"mapbox\": {\"style\": \"light\"}, \"paper_bgcolor\": \"white\", \"plot_bgcolor\": \"#E5ECF6\", \"polar\": {\"angularaxis\": {\"gridcolor\": \"white\", \"linecolor\": \"white\", \"ticks\": \"\"}, \"bgcolor\": \"#E5ECF6\", \"radialaxis\": {\"gridcolor\": \"white\", \"linecolor\": \"white\", \"ticks\": \"\"}}, \"scene\": {\"xaxis\": {\"backgroundcolor\": \"#E5ECF6\", \"gridcolor\": \"white\", \"gridwidth\": 2, \"linecolor\": \"white\", \"showbackground\": true, \"ticks\": \"\", \"zerolinecolor\": \"white\"}, \"yaxis\": {\"backgroundcolor\": \"#E5ECF6\", \"gridcolor\": \"white\", \"gridwidth\": 2, \"linecolor\": \"white\", \"showbackground\": true, \"ticks\": \"\", \"zerolinecolor\": \"white\"}, \"zaxis\": {\"backgroundcolor\": \"#E5ECF6\", \"gridcolor\": \"white\", \"gridwidth\": 2, \"linecolor\": \"white\", \"showbackground\": true, \"ticks\": \"\", \"zerolinecolor\": \"white\"}}, \"shapedefaults\": {\"fillcolor\": \"#506784\", \"line\": {\"width\": 0}, \"opacity\": 0.4}, \"ternary\": {\"aaxis\": {\"gridcolor\": \"white\", \"linecolor\": \"white\", \"ticks\": \"\"}, \"baxis\": {\"gridcolor\": \"white\", \"linecolor\": \"white\", \"ticks\": \"\"}, \"bgcolor\": \"#E5ECF6\", \"caxis\": {\"gridcolor\": \"white\", \"linecolor\": \"white\", \"ticks\": \"\"}}, \"title\": {\"x\": 0.05}, \"xaxis\": {\"automargin\": true, \"gridcolor\": \"white\", \"linecolor\": \"white\", \"ticks\": \"\", \"zerolinecolor\": \"white\", \"zerolinewidth\": 2}, \"yaxis\": {\"automargin\": true, \"gridcolor\": \"white\", \"linecolor\": \"white\", \"ticks\": \"\", \"zerolinecolor\": \"white\", \"zerolinewidth\": 2}}}, \"polar\": {\"angularaxis\": {\"direction\": \"clockwise\", \"rotation\": 90}}}, {\"showLink\": false, \"linkText\": \"Export to plot.ly\", \"plotlyServerURL\": \"https://plot.ly\"}); \n",
       "}\n",
       "});</script><script type=\"text/javascript\">window.addEventListener(\"resize\", function(){if (document.getElementById(\"69f1d733-3d13-4a5c-b1d2-bc96d24df39e\")) {window._Plotly.Plots.resize(document.getElementById(\"69f1d733-3d13-4a5c-b1d2-bc96d24df39e\"));};})</script>"
      ],
      "text/vnd.plotly.v1+html": [
       "<div id=\"69f1d733-3d13-4a5c-b1d2-bc96d24df39e\" style=\"height: 600px; width: 100%;\" class=\"plotly-graph-div\"></div><script type=\"text/javascript\">require([\"plotly\"], function(Plotly) { window.PLOTLYENV=window.PLOTLYENV || {};window.PLOTLYENV.BASE_URL=\"https://plot.ly\";\n",
       "if (document.getElementById(\"69f1d733-3d13-4a5c-b1d2-bc96d24df39e\")) {\n",
       "    Plotly.newPlot(\"69f1d733-3d13-4a5c-b1d2-bc96d24df39e\", [{\"hovertemplate\": \"\\u00bfQu\\u00e9 tipo de aplicaciones utilizas en tu ordenador/tableta/m\\u00f3vil? (Respuesta m\\u00faltiple) [4. Redes sociales (Facebook, Instagram, Twitter, etc.).]=No<br>counts=%{r}<br>prosume_cluster=%{theta}<extra></extra>\", \"legendgroup\": \"\\u00bfQu\\u00e9 tipo de aplicaciones utilizas en tu ordenador/tableta/m\\u00f3vil? (Respuesta m\\u00faltiple) [4. Redes sociales (Facebook, Instagram, Twitter, etc.).]=No\", \"marker\": {\"color\": \"rgb(213,62,79)\"}, \"name\": \"\\u00bfQu\\u00e9 tipo de aplicaciones utilizas en tu ordenador/tableta/m\\u00f3vil? (Respuesta m\\u00faltiple) [4. Redes sociales (Facebook, Instagram, Twitter, etc.).]=No\", \"r\": [27, 67, 11, 3, 38], \"showlegend\": true, \"theta\": [\"cluster_1\", \"cluster_2\", \"cluster_3\", \"cluster_4\", \"cluster_5\"], \"type\": \"barpolar\", \"uid\": \"b49df5c8-4399-4334-8574-d033c8b780f9\"}, {\"hovertemplate\": \"\\u00bfQu\\u00e9 tipo de aplicaciones utilizas en tu ordenador/tableta/m\\u00f3vil? (Respuesta m\\u00faltiple) [4. Redes sociales (Facebook, Instagram, Twitter, etc.).]=S\\u00ed<br>counts=%{r}<br>prosume_cluster=%{theta}<extra></extra>\", \"legendgroup\": \"\\u00bfQu\\u00e9 tipo de aplicaciones utilizas en tu ordenador/tableta/m\\u00f3vil? (Respuesta m\\u00faltiple) [4. Redes sociales (Facebook, Instagram, Twitter, etc.).]=S\\u00ed\", \"marker\": {\"color\": \"rgb(252,141,89)\"}, \"name\": \"\\u00bfQu\\u00e9 tipo de aplicaciones utilizas en tu ordenador/tableta/m\\u00f3vil? (Respuesta m\\u00faltiple) [4. Redes sociales (Facebook, Instagram, Twitter, etc.).]=S\\u00ed\", \"r\": [10, 129, 89, 95, 298], \"showlegend\": true, \"theta\": [\"cluster_1\", \"cluster_2\", \"cluster_3\", \"cluster_4\", \"cluster_5\"], \"type\": \"barpolar\", \"uid\": \"cc16ae4e-b7ec-4431-8a1b-b1f92bd5413a\"}], {\"barmode\": \"group\", \"barnorm\": \"\", \"height\": 600, \"legend\": {\"tracegroupgap\": 0}, \"margin\": {\"t\": 60}, \"template\": {\"data\": {\"barpolar\": [{\"marker\": {\"line\": {\"color\": \"#E5ECF6\", \"width\": 0.5}}, \"type\": \"barpolar\"}], \"bar\": [{\"marker\": {\"line\": {\"color\": \"#E5ECF6\", \"width\": 0.5}}, \"type\": \"bar\"}], \"carpet\": [{\"aaxis\": {\"endlinecolor\": \"#2a3f5f\", \"gridcolor\": \"white\", \"linecolor\": \"white\", \"minorgridcolor\": \"white\", \"startlinecolor\": \"#2a3f5f\"}, \"baxis\": {\"endlinecolor\": \"#2a3f5f\", \"gridcolor\": \"white\", \"linecolor\": \"white\", \"minorgridcolor\": \"white\", \"startlinecolor\": \"#2a3f5f\"}, \"type\": \"carpet\"}], \"choropleth\": [{\"colorbar\": {\"outlinewidth\": 0, \"ticks\": \"\"}, \"type\": \"choropleth\"}], \"contourcarpet\": [{\"colorbar\": {\"outlinewidth\": 0, \"ticks\": \"\"}, \"type\": \"contourcarpet\"}], \"contour\": [{\"autocolorscale\": true, \"colorbar\": {\"outlinewidth\": 0, \"ticks\": \"\"}, \"type\": \"contour\"}], \"heatmapgl\": [{\"colorbar\": {\"outlinewidth\": 0, \"ticks\": \"\"}, \"type\": \"heatmapgl\"}], \"heatmap\": [{\"autocolorscale\": true, \"colorbar\": {\"outlinewidth\": 0, \"ticks\": \"\"}, \"type\": \"heatmap\"}], \"histogram2dcontour\": [{\"autocolorscale\": true, \"colorbar\": {\"outlinewidth\": 0, \"ticks\": \"\"}, \"type\": \"histogram2dcontour\"}], \"histogram2d\": [{\"autocolorscale\": true, \"colorbar\": {\"outlinewidth\": 0, \"ticks\": \"\"}, \"type\": \"histogram2d\"}], \"histogram\": [{\"marker\": {\"colorbar\": {\"outlinewidth\": 0, \"ticks\": \"\"}}, \"type\": \"histogram\"}], \"mesh3d\": [{\"colorbar\": {\"outlinewidth\": 0, \"ticks\": \"\"}, \"type\": \"mesh3d\"}], \"parcoords\": [{\"line\": {\"colorbar\": {\"outlinewidth\": 0, \"ticks\": \"\"}}, \"type\": \"parcoords\"}], \"scatter3d\": [{\"marker\": {\"colorbar\": {\"outlinewidth\": 0, \"ticks\": \"\"}}, \"type\": \"scatter3d\"}], \"scattercarpet\": [{\"marker\": {\"colorbar\": {\"outlinewidth\": 0, \"ticks\": \"\"}}, \"type\": \"scattercarpet\"}], \"scattergeo\": [{\"marker\": {\"colorbar\": {\"outlinewidth\": 0, \"ticks\": \"\"}}, \"type\": \"scattergeo\"}], \"scattergl\": [{\"marker\": {\"colorbar\": {\"outlinewidth\": 0, \"ticks\": \"\"}}, \"type\": \"scattergl\"}], \"scattermapbox\": [{\"marker\": {\"colorbar\": {\"outlinewidth\": 0, \"ticks\": \"\"}}, \"type\": \"scattermapbox\"}], \"scatterpolargl\": [{\"marker\": {\"colorbar\": {\"outlinewidth\": 0, \"ticks\": \"\"}}, \"type\": \"scatterpolargl\"}], \"scatterpolar\": [{\"marker\": {\"colorbar\": {\"outlinewidth\": 0, \"ticks\": \"\"}}, \"type\": \"scatterpolar\"}], \"scatter\": [{\"marker\": {\"colorbar\": {\"outlinewidth\": 0, \"ticks\": \"\"}}, \"type\": \"scatter\"}], \"scatterternary\": [{\"marker\": {\"colorbar\": {\"outlinewidth\": 0, \"ticks\": \"\"}}, \"type\": \"scatterternary\"}], \"surface\": [{\"colorbar\": {\"outlinewidth\": 0, \"ticks\": \"\"}, \"type\": \"surface\"}], \"table\": [{\"cells\": {\"fill\": {\"color\": \"#EBF0F8\"}, \"line\": {\"color\": \"white\"}}, \"header\": {\"fill\": {\"color\": \"#C8D4E3\"}, \"line\": {\"color\": \"white\"}}, \"type\": \"table\"}]}, \"layout\": {\"annotationdefaults\": {\"arrowcolor\": \"#506784\", \"arrowhead\": 0, \"arrowwidth\": 1}, \"colorscale\": {\"diverging\": [[0, \"#8e0152\"], [0.1, \"#c51b7d\"], [0.2, \"#de77ae\"], [0.3, \"#f1b6da\"], [0.4, \"#fde0ef\"], [0.5, \"#f7f7f7\"], [0.6, \"#e6f5d0\"], [0.7, \"#b8e186\"], [0.8, \"#7fbc41\"], [0.9, \"#4d9221\"], [1, \"#276419\"]], \"sequential\": [[0.0, \"#0508b8\"], [0.0893854748603352, \"#1910d8\"], [0.1787709497206704, \"#3c19f0\"], [0.2681564245810056, \"#6b1cfb\"], [0.3575418994413408, \"#981cfd\"], [0.44692737430167595, \"#bf1cfd\"], [0.5363128491620112, \"#dd2bfd\"], [0.6256983240223464, \"#f246fe\"], [0.7150837988826816, \"#fc67fd\"], [0.8044692737430168, \"#fe88fc\"], [0.8938547486033519, \"#fea5fd\"], [0.9832402234636871, \"#febefe\"], [1.0, \"#fec3fe\"]], \"sequentialminus\": [[0.0, \"#0508b8\"], [0.0893854748603352, \"#1910d8\"], [0.1787709497206704, \"#3c19f0\"], [0.2681564245810056, \"#6b1cfb\"], [0.3575418994413408, \"#981cfd\"], [0.44692737430167595, \"#bf1cfd\"], [0.5363128491620112, \"#dd2bfd\"], [0.6256983240223464, \"#f246fe\"], [0.7150837988826816, \"#fc67fd\"], [0.8044692737430168, \"#fe88fc\"], [0.8938547486033519, \"#fea5fd\"], [0.9832402234636871, \"#febefe\"], [1.0, \"#fec3fe\"]]}, \"colorway\": [\"#636efa\", \"#EF553B\", \"#00cc96\", \"#ab63fa\", \"#19d3f3\", \"#e763fa\", \"#FECB52\", \"#FFA15A\", \"#FF6692\", \"#B6E880\"], \"font\": {\"color\": \"#2a3f5f\"}, \"geo\": {\"bgcolor\": \"white\", \"lakecolor\": \"white\", \"landcolor\": \"#E5ECF6\", \"showlakes\": true, \"showland\": true, \"subunitcolor\": \"white\"}, \"hovermode\": \"closest\", \"mapbox\": {\"style\": \"light\"}, \"paper_bgcolor\": \"white\", \"plot_bgcolor\": \"#E5ECF6\", \"polar\": {\"angularaxis\": {\"gridcolor\": \"white\", \"linecolor\": \"white\", \"ticks\": \"\"}, \"bgcolor\": \"#E5ECF6\", \"radialaxis\": {\"gridcolor\": \"white\", \"linecolor\": \"white\", \"ticks\": \"\"}}, \"scene\": {\"xaxis\": {\"backgroundcolor\": \"#E5ECF6\", \"gridcolor\": \"white\", \"gridwidth\": 2, \"linecolor\": \"white\", \"showbackground\": true, \"ticks\": \"\", \"zerolinecolor\": \"white\"}, \"yaxis\": {\"backgroundcolor\": \"#E5ECF6\", \"gridcolor\": \"white\", \"gridwidth\": 2, \"linecolor\": \"white\", \"showbackground\": true, \"ticks\": \"\", \"zerolinecolor\": \"white\"}, \"zaxis\": {\"backgroundcolor\": \"#E5ECF6\", \"gridcolor\": \"white\", \"gridwidth\": 2, \"linecolor\": \"white\", \"showbackground\": true, \"ticks\": \"\", \"zerolinecolor\": \"white\"}}, \"shapedefaults\": {\"fillcolor\": \"#506784\", \"line\": {\"width\": 0}, \"opacity\": 0.4}, \"ternary\": {\"aaxis\": {\"gridcolor\": \"white\", \"linecolor\": \"white\", \"ticks\": \"\"}, \"baxis\": {\"gridcolor\": \"white\", \"linecolor\": \"white\", \"ticks\": \"\"}, \"bgcolor\": \"#E5ECF6\", \"caxis\": {\"gridcolor\": \"white\", \"linecolor\": \"white\", \"ticks\": \"\"}}, \"title\": {\"x\": 0.05}, \"xaxis\": {\"automargin\": true, \"gridcolor\": \"white\", \"linecolor\": \"white\", \"ticks\": \"\", \"zerolinecolor\": \"white\", \"zerolinewidth\": 2}, \"yaxis\": {\"automargin\": true, \"gridcolor\": \"white\", \"linecolor\": \"white\", \"ticks\": \"\", \"zerolinecolor\": \"white\", \"zerolinewidth\": 2}}}, \"polar\": {\"angularaxis\": {\"direction\": \"clockwise\", \"rotation\": 90}}}, {\"showLink\": false, \"linkText\": \"Export to plot.ly\", \"plotlyServerURL\": \"https://plot.ly\"}); \n",
       "}\n",
       "});</script><script type=\"text/javascript\">window.addEventListener(\"resize\", function(){if (document.getElementById(\"69f1d733-3d13-4a5c-b1d2-bc96d24df39e\")) {window._Plotly.Plots.resize(document.getElementById(\"69f1d733-3d13-4a5c-b1d2-bc96d24df39e\"));};})</script>"
      ]
     },
     "metadata": {},
     "output_type": "display_data"
    },
    {
     "name": "stdout",
     "output_type": "stream",
     "text": [
      "Comparando la pregunta ¿Qué tipo de aplicaciones utilizas en tu ordenador/tableta/móvil? (Respuesta múltiple) [5. Aplicaciones de vídeo (Youtube, Vimeo, etc.).]\n"
     ]
    },
    {
     "data": {
      "application/vnd.plotly.v1+json": {
       "config": {
        "linkText": "Export to plot.ly",
        "plotlyServerURL": "https://plot.ly",
        "showLink": false
       },
       "data": [
        {
         "hovertemplate": "¿Qué tipo de aplicaciones utilizas en tu ordenador/tableta/móvil? (Respuesta múltiple) [5. Aplicaciones de vídeo (Youtube, Vimeo, etc.).]=No<br>counts=%{r}<br>prosume_cluster=%{theta}<extra></extra>",
         "legendgroup": "¿Qué tipo de aplicaciones utilizas en tu ordenador/tableta/móvil? (Respuesta múltiple) [5. Aplicaciones de vídeo (Youtube, Vimeo, etc.).]=No",
         "marker": {
          "color": "rgb(213,62,79)"
         },
         "name": "¿Qué tipo de aplicaciones utilizas en tu ordenador/tableta/móvil? (Respuesta múltiple) [5. Aplicaciones de vídeo (Youtube, Vimeo, etc.).]=No",
         "r": [
          33,
          89,
          46,
          7,
          38
         ],
         "showlegend": true,
         "theta": [
          "cluster_1",
          "cluster_2",
          "cluster_3",
          "cluster_4",
          "cluster_5"
         ],
         "type": "barpolar",
         "uid": "460600d5-c95d-4900-92c8-78f8eb288067"
        },
        {
         "hovertemplate": "¿Qué tipo de aplicaciones utilizas en tu ordenador/tableta/móvil? (Respuesta múltiple) [5. Aplicaciones de vídeo (Youtube, Vimeo, etc.).]=Sí<br>counts=%{r}<br>prosume_cluster=%{theta}<extra></extra>",
         "legendgroup": "¿Qué tipo de aplicaciones utilizas en tu ordenador/tableta/móvil? (Respuesta múltiple) [5. Aplicaciones de vídeo (Youtube, Vimeo, etc.).]=Sí",
         "marker": {
          "color": "rgb(252,141,89)"
         },
         "name": "¿Qué tipo de aplicaciones utilizas en tu ordenador/tableta/móvil? (Respuesta múltiple) [5. Aplicaciones de vídeo (Youtube, Vimeo, etc.).]=Sí",
         "r": [
          4,
          107,
          54,
          91,
          298
         ],
         "showlegend": true,
         "theta": [
          "cluster_1",
          "cluster_2",
          "cluster_3",
          "cluster_4",
          "cluster_5"
         ],
         "type": "barpolar",
         "uid": "eab56274-c874-4a5f-aa8f-70657199342c"
        }
       ],
       "layout": {
        "barmode": "group",
        "barnorm": "",
        "height": 600,
        "legend": {
         "tracegroupgap": 0
        },
        "margin": {
         "t": 60
        },
        "polar": {
         "angularaxis": {
          "direction": "clockwise",
          "rotation": 90
         }
        },
        "template": {
         "data": {
          "bar": [
           {
            "marker": {
             "line": {
              "color": "#E5ECF6",
              "width": 0.5
             }
            },
            "type": "bar"
           }
          ],
          "barpolar": [
           {
            "marker": {
             "line": {
              "color": "#E5ECF6",
              "width": 0.5
             }
            },
            "type": "barpolar"
           }
          ],
          "carpet": [
           {
            "aaxis": {
             "endlinecolor": "#2a3f5f",
             "gridcolor": "white",
             "linecolor": "white",
             "minorgridcolor": "white",
             "startlinecolor": "#2a3f5f"
            },
            "baxis": {
             "endlinecolor": "#2a3f5f",
             "gridcolor": "white",
             "linecolor": "white",
             "minorgridcolor": "white",
             "startlinecolor": "#2a3f5f"
            },
            "type": "carpet"
           }
          ],
          "choropleth": [
           {
            "colorbar": {
             "outlinewidth": 0,
             "ticks": ""
            },
            "type": "choropleth"
           }
          ],
          "contour": [
           {
            "autocolorscale": true,
            "colorbar": {
             "outlinewidth": 0,
             "ticks": ""
            },
            "type": "contour"
           }
          ],
          "contourcarpet": [
           {
            "colorbar": {
             "outlinewidth": 0,
             "ticks": ""
            },
            "type": "contourcarpet"
           }
          ],
          "heatmap": [
           {
            "autocolorscale": true,
            "colorbar": {
             "outlinewidth": 0,
             "ticks": ""
            },
            "type": "heatmap"
           }
          ],
          "heatmapgl": [
           {
            "colorbar": {
             "outlinewidth": 0,
             "ticks": ""
            },
            "type": "heatmapgl"
           }
          ],
          "histogram": [
           {
            "marker": {
             "colorbar": {
              "outlinewidth": 0,
              "ticks": ""
             }
            },
            "type": "histogram"
           }
          ],
          "histogram2d": [
           {
            "autocolorscale": true,
            "colorbar": {
             "outlinewidth": 0,
             "ticks": ""
            },
            "type": "histogram2d"
           }
          ],
          "histogram2dcontour": [
           {
            "autocolorscale": true,
            "colorbar": {
             "outlinewidth": 0,
             "ticks": ""
            },
            "type": "histogram2dcontour"
           }
          ],
          "mesh3d": [
           {
            "colorbar": {
             "outlinewidth": 0,
             "ticks": ""
            },
            "type": "mesh3d"
           }
          ],
          "parcoords": [
           {
            "line": {
             "colorbar": {
              "outlinewidth": 0,
              "ticks": ""
             }
            },
            "type": "parcoords"
           }
          ],
          "scatter": [
           {
            "marker": {
             "colorbar": {
              "outlinewidth": 0,
              "ticks": ""
             }
            },
            "type": "scatter"
           }
          ],
          "scatter3d": [
           {
            "marker": {
             "colorbar": {
              "outlinewidth": 0,
              "ticks": ""
             }
            },
            "type": "scatter3d"
           }
          ],
          "scattercarpet": [
           {
            "marker": {
             "colorbar": {
              "outlinewidth": 0,
              "ticks": ""
             }
            },
            "type": "scattercarpet"
           }
          ],
          "scattergeo": [
           {
            "marker": {
             "colorbar": {
              "outlinewidth": 0,
              "ticks": ""
             }
            },
            "type": "scattergeo"
           }
          ],
          "scattergl": [
           {
            "marker": {
             "colorbar": {
              "outlinewidth": 0,
              "ticks": ""
             }
            },
            "type": "scattergl"
           }
          ],
          "scattermapbox": [
           {
            "marker": {
             "colorbar": {
              "outlinewidth": 0,
              "ticks": ""
             }
            },
            "type": "scattermapbox"
           }
          ],
          "scatterpolar": [
           {
            "marker": {
             "colorbar": {
              "outlinewidth": 0,
              "ticks": ""
             }
            },
            "type": "scatterpolar"
           }
          ],
          "scatterpolargl": [
           {
            "marker": {
             "colorbar": {
              "outlinewidth": 0,
              "ticks": ""
             }
            },
            "type": "scatterpolargl"
           }
          ],
          "scatterternary": [
           {
            "marker": {
             "colorbar": {
              "outlinewidth": 0,
              "ticks": ""
             }
            },
            "type": "scatterternary"
           }
          ],
          "surface": [
           {
            "colorbar": {
             "outlinewidth": 0,
             "ticks": ""
            },
            "type": "surface"
           }
          ],
          "table": [
           {
            "cells": {
             "fill": {
              "color": "#EBF0F8"
             },
             "line": {
              "color": "white"
             }
            },
            "header": {
             "fill": {
              "color": "#C8D4E3"
             },
             "line": {
              "color": "white"
             }
            },
            "type": "table"
           }
          ]
         },
         "layout": {
          "annotationdefaults": {
           "arrowcolor": "#506784",
           "arrowhead": 0,
           "arrowwidth": 1
          },
          "colorscale": {
           "diverging": [
            [
             0,
             "#8e0152"
            ],
            [
             0.1,
             "#c51b7d"
            ],
            [
             0.2,
             "#de77ae"
            ],
            [
             0.3,
             "#f1b6da"
            ],
            [
             0.4,
             "#fde0ef"
            ],
            [
             0.5,
             "#f7f7f7"
            ],
            [
             0.6,
             "#e6f5d0"
            ],
            [
             0.7,
             "#b8e186"
            ],
            [
             0.8,
             "#7fbc41"
            ],
            [
             0.9,
             "#4d9221"
            ],
            [
             1,
             "#276419"
            ]
           ],
           "sequential": [
            [
             0,
             "#0508b8"
            ],
            [
             0.0893854748603352,
             "#1910d8"
            ],
            [
             0.1787709497206704,
             "#3c19f0"
            ],
            [
             0.2681564245810056,
             "#6b1cfb"
            ],
            [
             0.3575418994413408,
             "#981cfd"
            ],
            [
             0.44692737430167595,
             "#bf1cfd"
            ],
            [
             0.5363128491620112,
             "#dd2bfd"
            ],
            [
             0.6256983240223464,
             "#f246fe"
            ],
            [
             0.7150837988826816,
             "#fc67fd"
            ],
            [
             0.8044692737430168,
             "#fe88fc"
            ],
            [
             0.8938547486033519,
             "#fea5fd"
            ],
            [
             0.9832402234636871,
             "#febefe"
            ],
            [
             1,
             "#fec3fe"
            ]
           ],
           "sequentialminus": [
            [
             0,
             "#0508b8"
            ],
            [
             0.0893854748603352,
             "#1910d8"
            ],
            [
             0.1787709497206704,
             "#3c19f0"
            ],
            [
             0.2681564245810056,
             "#6b1cfb"
            ],
            [
             0.3575418994413408,
             "#981cfd"
            ],
            [
             0.44692737430167595,
             "#bf1cfd"
            ],
            [
             0.5363128491620112,
             "#dd2bfd"
            ],
            [
             0.6256983240223464,
             "#f246fe"
            ],
            [
             0.7150837988826816,
             "#fc67fd"
            ],
            [
             0.8044692737430168,
             "#fe88fc"
            ],
            [
             0.8938547486033519,
             "#fea5fd"
            ],
            [
             0.9832402234636871,
             "#febefe"
            ],
            [
             1,
             "#fec3fe"
            ]
           ]
          },
          "colorway": [
           "#636efa",
           "#EF553B",
           "#00cc96",
           "#ab63fa",
           "#19d3f3",
           "#e763fa",
           "#FECB52",
           "#FFA15A",
           "#FF6692",
           "#B6E880"
          ],
          "font": {
           "color": "#2a3f5f"
          },
          "geo": {
           "bgcolor": "white",
           "lakecolor": "white",
           "landcolor": "#E5ECF6",
           "showlakes": true,
           "showland": true,
           "subunitcolor": "white"
          },
          "hovermode": "closest",
          "mapbox": {
           "style": "light"
          },
          "paper_bgcolor": "white",
          "plot_bgcolor": "#E5ECF6",
          "polar": {
           "angularaxis": {
            "gridcolor": "white",
            "linecolor": "white",
            "ticks": ""
           },
           "bgcolor": "#E5ECF6",
           "radialaxis": {
            "gridcolor": "white",
            "linecolor": "white",
            "ticks": ""
           }
          },
          "scene": {
           "xaxis": {
            "backgroundcolor": "#E5ECF6",
            "gridcolor": "white",
            "gridwidth": 2,
            "linecolor": "white",
            "showbackground": true,
            "ticks": "",
            "zerolinecolor": "white"
           },
           "yaxis": {
            "backgroundcolor": "#E5ECF6",
            "gridcolor": "white",
            "gridwidth": 2,
            "linecolor": "white",
            "showbackground": true,
            "ticks": "",
            "zerolinecolor": "white"
           },
           "zaxis": {
            "backgroundcolor": "#E5ECF6",
            "gridcolor": "white",
            "gridwidth": 2,
            "linecolor": "white",
            "showbackground": true,
            "ticks": "",
            "zerolinecolor": "white"
           }
          },
          "shapedefaults": {
           "fillcolor": "#506784",
           "line": {
            "width": 0
           },
           "opacity": 0.4
          },
          "ternary": {
           "aaxis": {
            "gridcolor": "white",
            "linecolor": "white",
            "ticks": ""
           },
           "baxis": {
            "gridcolor": "white",
            "linecolor": "white",
            "ticks": ""
           },
           "bgcolor": "#E5ECF6",
           "caxis": {
            "gridcolor": "white",
            "linecolor": "white",
            "ticks": ""
           }
          },
          "title": {
           "x": 0.05
          },
          "xaxis": {
           "automargin": true,
           "gridcolor": "white",
           "linecolor": "white",
           "ticks": "",
           "zerolinecolor": "white",
           "zerolinewidth": 2
          },
          "yaxis": {
           "automargin": true,
           "gridcolor": "white",
           "linecolor": "white",
           "ticks": "",
           "zerolinecolor": "white",
           "zerolinewidth": 2
          }
         }
        }
       }
      },
      "text/html": [
       "<div id=\"cf5f8af4-4bed-4be1-a25d-f5e82d407d1f\" style=\"height: 600px; width: 100%;\" class=\"plotly-graph-div\"></div><script type=\"text/javascript\">require([\"plotly\"], function(Plotly) { window.PLOTLYENV=window.PLOTLYENV || {};window.PLOTLYENV.BASE_URL=\"https://plot.ly\";\n",
       "if (document.getElementById(\"cf5f8af4-4bed-4be1-a25d-f5e82d407d1f\")) {\n",
       "    Plotly.newPlot(\"cf5f8af4-4bed-4be1-a25d-f5e82d407d1f\", [{\"hovertemplate\": \"\\u00bfQu\\u00e9 tipo de aplicaciones utilizas en tu ordenador/tableta/m\\u00f3vil? (Respuesta m\\u00faltiple) [5. Aplicaciones de v\\u00eddeo (Youtube, Vimeo, etc.).]=No<br>counts=%{r}<br>prosume_cluster=%{theta}<extra></extra>\", \"legendgroup\": \"\\u00bfQu\\u00e9 tipo de aplicaciones utilizas en tu ordenador/tableta/m\\u00f3vil? (Respuesta m\\u00faltiple) [5. Aplicaciones de v\\u00eddeo (Youtube, Vimeo, etc.).]=No\", \"marker\": {\"color\": \"rgb(213,62,79)\"}, \"name\": \"\\u00bfQu\\u00e9 tipo de aplicaciones utilizas en tu ordenador/tableta/m\\u00f3vil? (Respuesta m\\u00faltiple) [5. Aplicaciones de v\\u00eddeo (Youtube, Vimeo, etc.).]=No\", \"r\": [33, 89, 46, 7, 38], \"showlegend\": true, \"theta\": [\"cluster_1\", \"cluster_2\", \"cluster_3\", \"cluster_4\", \"cluster_5\"], \"type\": \"barpolar\", \"uid\": \"460600d5-c95d-4900-92c8-78f8eb288067\"}, {\"hovertemplate\": \"\\u00bfQu\\u00e9 tipo de aplicaciones utilizas en tu ordenador/tableta/m\\u00f3vil? (Respuesta m\\u00faltiple) [5. Aplicaciones de v\\u00eddeo (Youtube, Vimeo, etc.).]=S\\u00ed<br>counts=%{r}<br>prosume_cluster=%{theta}<extra></extra>\", \"legendgroup\": \"\\u00bfQu\\u00e9 tipo de aplicaciones utilizas en tu ordenador/tableta/m\\u00f3vil? (Respuesta m\\u00faltiple) [5. Aplicaciones de v\\u00eddeo (Youtube, Vimeo, etc.).]=S\\u00ed\", \"marker\": {\"color\": \"rgb(252,141,89)\"}, \"name\": \"\\u00bfQu\\u00e9 tipo de aplicaciones utilizas en tu ordenador/tableta/m\\u00f3vil? (Respuesta m\\u00faltiple) [5. Aplicaciones de v\\u00eddeo (Youtube, Vimeo, etc.).]=S\\u00ed\", \"r\": [4, 107, 54, 91, 298], \"showlegend\": true, \"theta\": [\"cluster_1\", \"cluster_2\", \"cluster_3\", \"cluster_4\", \"cluster_5\"], \"type\": \"barpolar\", \"uid\": \"eab56274-c874-4a5f-aa8f-70657199342c\"}], {\"barmode\": \"group\", \"barnorm\": \"\", \"height\": 600, \"legend\": {\"tracegroupgap\": 0}, \"margin\": {\"t\": 60}, \"template\": {\"data\": {\"barpolar\": [{\"marker\": {\"line\": {\"color\": \"#E5ECF6\", \"width\": 0.5}}, \"type\": \"barpolar\"}], \"bar\": [{\"marker\": {\"line\": {\"color\": \"#E5ECF6\", \"width\": 0.5}}, \"type\": \"bar\"}], \"carpet\": [{\"aaxis\": {\"endlinecolor\": \"#2a3f5f\", \"gridcolor\": \"white\", \"linecolor\": \"white\", \"minorgridcolor\": \"white\", \"startlinecolor\": \"#2a3f5f\"}, \"baxis\": {\"endlinecolor\": \"#2a3f5f\", \"gridcolor\": \"white\", \"linecolor\": \"white\", \"minorgridcolor\": \"white\", \"startlinecolor\": \"#2a3f5f\"}, \"type\": \"carpet\"}], \"choropleth\": [{\"colorbar\": {\"outlinewidth\": 0, \"ticks\": \"\"}, \"type\": \"choropleth\"}], \"contourcarpet\": [{\"colorbar\": {\"outlinewidth\": 0, \"ticks\": \"\"}, \"type\": \"contourcarpet\"}], \"contour\": [{\"autocolorscale\": true, \"colorbar\": {\"outlinewidth\": 0, \"ticks\": \"\"}, \"type\": \"contour\"}], \"heatmapgl\": [{\"colorbar\": {\"outlinewidth\": 0, \"ticks\": \"\"}, \"type\": \"heatmapgl\"}], \"heatmap\": [{\"autocolorscale\": true, \"colorbar\": {\"outlinewidth\": 0, \"ticks\": \"\"}, \"type\": \"heatmap\"}], \"histogram2dcontour\": [{\"autocolorscale\": true, \"colorbar\": {\"outlinewidth\": 0, \"ticks\": \"\"}, \"type\": \"histogram2dcontour\"}], \"histogram2d\": [{\"autocolorscale\": true, \"colorbar\": {\"outlinewidth\": 0, \"ticks\": \"\"}, \"type\": \"histogram2d\"}], \"histogram\": [{\"marker\": {\"colorbar\": {\"outlinewidth\": 0, \"ticks\": \"\"}}, \"type\": \"histogram\"}], \"mesh3d\": [{\"colorbar\": {\"outlinewidth\": 0, \"ticks\": \"\"}, \"type\": \"mesh3d\"}], \"parcoords\": [{\"line\": {\"colorbar\": {\"outlinewidth\": 0, \"ticks\": \"\"}}, \"type\": \"parcoords\"}], \"scatter3d\": [{\"marker\": {\"colorbar\": {\"outlinewidth\": 0, \"ticks\": \"\"}}, \"type\": \"scatter3d\"}], \"scattercarpet\": [{\"marker\": {\"colorbar\": {\"outlinewidth\": 0, \"ticks\": \"\"}}, \"type\": \"scattercarpet\"}], \"scattergeo\": [{\"marker\": {\"colorbar\": {\"outlinewidth\": 0, \"ticks\": \"\"}}, \"type\": \"scattergeo\"}], \"scattergl\": [{\"marker\": {\"colorbar\": {\"outlinewidth\": 0, \"ticks\": \"\"}}, \"type\": \"scattergl\"}], \"scattermapbox\": [{\"marker\": {\"colorbar\": {\"outlinewidth\": 0, \"ticks\": \"\"}}, \"type\": \"scattermapbox\"}], \"scatterpolargl\": [{\"marker\": {\"colorbar\": {\"outlinewidth\": 0, \"ticks\": \"\"}}, \"type\": \"scatterpolargl\"}], \"scatterpolar\": [{\"marker\": {\"colorbar\": {\"outlinewidth\": 0, \"ticks\": \"\"}}, \"type\": \"scatterpolar\"}], \"scatter\": [{\"marker\": {\"colorbar\": {\"outlinewidth\": 0, \"ticks\": \"\"}}, \"type\": \"scatter\"}], \"scatterternary\": [{\"marker\": {\"colorbar\": {\"outlinewidth\": 0, \"ticks\": \"\"}}, \"type\": \"scatterternary\"}], \"surface\": [{\"colorbar\": {\"outlinewidth\": 0, \"ticks\": \"\"}, \"type\": \"surface\"}], \"table\": [{\"cells\": {\"fill\": {\"color\": \"#EBF0F8\"}, \"line\": {\"color\": \"white\"}}, \"header\": {\"fill\": {\"color\": \"#C8D4E3\"}, \"line\": {\"color\": \"white\"}}, \"type\": \"table\"}]}, \"layout\": {\"annotationdefaults\": {\"arrowcolor\": \"#506784\", \"arrowhead\": 0, \"arrowwidth\": 1}, \"colorscale\": {\"diverging\": [[0, \"#8e0152\"], [0.1, \"#c51b7d\"], [0.2, \"#de77ae\"], [0.3, \"#f1b6da\"], [0.4, \"#fde0ef\"], [0.5, \"#f7f7f7\"], [0.6, \"#e6f5d0\"], [0.7, \"#b8e186\"], [0.8, \"#7fbc41\"], [0.9, \"#4d9221\"], [1, \"#276419\"]], \"sequential\": [[0.0, \"#0508b8\"], [0.0893854748603352, \"#1910d8\"], [0.1787709497206704, \"#3c19f0\"], [0.2681564245810056, \"#6b1cfb\"], [0.3575418994413408, \"#981cfd\"], [0.44692737430167595, \"#bf1cfd\"], [0.5363128491620112, \"#dd2bfd\"], [0.6256983240223464, \"#f246fe\"], [0.7150837988826816, \"#fc67fd\"], [0.8044692737430168, \"#fe88fc\"], [0.8938547486033519, \"#fea5fd\"], [0.9832402234636871, \"#febefe\"], [1.0, \"#fec3fe\"]], \"sequentialminus\": [[0.0, \"#0508b8\"], [0.0893854748603352, \"#1910d8\"], [0.1787709497206704, \"#3c19f0\"], [0.2681564245810056, \"#6b1cfb\"], [0.3575418994413408, \"#981cfd\"], [0.44692737430167595, \"#bf1cfd\"], [0.5363128491620112, \"#dd2bfd\"], [0.6256983240223464, \"#f246fe\"], [0.7150837988826816, \"#fc67fd\"], [0.8044692737430168, \"#fe88fc\"], [0.8938547486033519, \"#fea5fd\"], [0.9832402234636871, \"#febefe\"], [1.0, \"#fec3fe\"]]}, \"colorway\": [\"#636efa\", \"#EF553B\", \"#00cc96\", \"#ab63fa\", \"#19d3f3\", \"#e763fa\", \"#FECB52\", \"#FFA15A\", \"#FF6692\", \"#B6E880\"], \"font\": {\"color\": \"#2a3f5f\"}, \"geo\": {\"bgcolor\": \"white\", \"lakecolor\": \"white\", \"landcolor\": \"#E5ECF6\", \"showlakes\": true, \"showland\": true, \"subunitcolor\": \"white\"}, \"hovermode\": \"closest\", \"mapbox\": {\"style\": \"light\"}, \"paper_bgcolor\": \"white\", \"plot_bgcolor\": \"#E5ECF6\", \"polar\": {\"angularaxis\": {\"gridcolor\": \"white\", \"linecolor\": \"white\", \"ticks\": \"\"}, \"bgcolor\": \"#E5ECF6\", \"radialaxis\": {\"gridcolor\": \"white\", \"linecolor\": \"white\", \"ticks\": \"\"}}, \"scene\": {\"xaxis\": {\"backgroundcolor\": \"#E5ECF6\", \"gridcolor\": \"white\", \"gridwidth\": 2, \"linecolor\": \"white\", \"showbackground\": true, \"ticks\": \"\", \"zerolinecolor\": \"white\"}, \"yaxis\": {\"backgroundcolor\": \"#E5ECF6\", \"gridcolor\": \"white\", \"gridwidth\": 2, \"linecolor\": \"white\", \"showbackground\": true, \"ticks\": \"\", \"zerolinecolor\": \"white\"}, \"zaxis\": {\"backgroundcolor\": \"#E5ECF6\", \"gridcolor\": \"white\", \"gridwidth\": 2, \"linecolor\": \"white\", \"showbackground\": true, \"ticks\": \"\", \"zerolinecolor\": \"white\"}}, \"shapedefaults\": {\"fillcolor\": \"#506784\", \"line\": {\"width\": 0}, \"opacity\": 0.4}, \"ternary\": {\"aaxis\": {\"gridcolor\": \"white\", \"linecolor\": \"white\", \"ticks\": \"\"}, \"baxis\": {\"gridcolor\": \"white\", \"linecolor\": \"white\", \"ticks\": \"\"}, \"bgcolor\": \"#E5ECF6\", \"caxis\": {\"gridcolor\": \"white\", \"linecolor\": \"white\", \"ticks\": \"\"}}, \"title\": {\"x\": 0.05}, \"xaxis\": {\"automargin\": true, \"gridcolor\": \"white\", \"linecolor\": \"white\", \"ticks\": \"\", \"zerolinecolor\": \"white\", \"zerolinewidth\": 2}, \"yaxis\": {\"automargin\": true, \"gridcolor\": \"white\", \"linecolor\": \"white\", \"ticks\": \"\", \"zerolinecolor\": \"white\", \"zerolinewidth\": 2}}}, \"polar\": {\"angularaxis\": {\"direction\": \"clockwise\", \"rotation\": 90}}}, {\"showLink\": false, \"linkText\": \"Export to plot.ly\", \"plotlyServerURL\": \"https://plot.ly\"}); \n",
       "}\n",
       "});</script><script type=\"text/javascript\">window.addEventListener(\"resize\", function(){if (document.getElementById(\"cf5f8af4-4bed-4be1-a25d-f5e82d407d1f\")) {window._Plotly.Plots.resize(document.getElementById(\"cf5f8af4-4bed-4be1-a25d-f5e82d407d1f\"));};})</script>"
      ],
      "text/vnd.plotly.v1+html": [
       "<div id=\"cf5f8af4-4bed-4be1-a25d-f5e82d407d1f\" style=\"height: 600px; width: 100%;\" class=\"plotly-graph-div\"></div><script type=\"text/javascript\">require([\"plotly\"], function(Plotly) { window.PLOTLYENV=window.PLOTLYENV || {};window.PLOTLYENV.BASE_URL=\"https://plot.ly\";\n",
       "if (document.getElementById(\"cf5f8af4-4bed-4be1-a25d-f5e82d407d1f\")) {\n",
       "    Plotly.newPlot(\"cf5f8af4-4bed-4be1-a25d-f5e82d407d1f\", [{\"hovertemplate\": \"\\u00bfQu\\u00e9 tipo de aplicaciones utilizas en tu ordenador/tableta/m\\u00f3vil? (Respuesta m\\u00faltiple) [5. Aplicaciones de v\\u00eddeo (Youtube, Vimeo, etc.).]=No<br>counts=%{r}<br>prosume_cluster=%{theta}<extra></extra>\", \"legendgroup\": \"\\u00bfQu\\u00e9 tipo de aplicaciones utilizas en tu ordenador/tableta/m\\u00f3vil? (Respuesta m\\u00faltiple) [5. Aplicaciones de v\\u00eddeo (Youtube, Vimeo, etc.).]=No\", \"marker\": {\"color\": \"rgb(213,62,79)\"}, \"name\": \"\\u00bfQu\\u00e9 tipo de aplicaciones utilizas en tu ordenador/tableta/m\\u00f3vil? (Respuesta m\\u00faltiple) [5. Aplicaciones de v\\u00eddeo (Youtube, Vimeo, etc.).]=No\", \"r\": [33, 89, 46, 7, 38], \"showlegend\": true, \"theta\": [\"cluster_1\", \"cluster_2\", \"cluster_3\", \"cluster_4\", \"cluster_5\"], \"type\": \"barpolar\", \"uid\": \"460600d5-c95d-4900-92c8-78f8eb288067\"}, {\"hovertemplate\": \"\\u00bfQu\\u00e9 tipo de aplicaciones utilizas en tu ordenador/tableta/m\\u00f3vil? (Respuesta m\\u00faltiple) [5. Aplicaciones de v\\u00eddeo (Youtube, Vimeo, etc.).]=S\\u00ed<br>counts=%{r}<br>prosume_cluster=%{theta}<extra></extra>\", \"legendgroup\": \"\\u00bfQu\\u00e9 tipo de aplicaciones utilizas en tu ordenador/tableta/m\\u00f3vil? (Respuesta m\\u00faltiple) [5. Aplicaciones de v\\u00eddeo (Youtube, Vimeo, etc.).]=S\\u00ed\", \"marker\": {\"color\": \"rgb(252,141,89)\"}, \"name\": \"\\u00bfQu\\u00e9 tipo de aplicaciones utilizas en tu ordenador/tableta/m\\u00f3vil? (Respuesta m\\u00faltiple) [5. Aplicaciones de v\\u00eddeo (Youtube, Vimeo, etc.).]=S\\u00ed\", \"r\": [4, 107, 54, 91, 298], \"showlegend\": true, \"theta\": [\"cluster_1\", \"cluster_2\", \"cluster_3\", \"cluster_4\", \"cluster_5\"], \"type\": \"barpolar\", \"uid\": \"eab56274-c874-4a5f-aa8f-70657199342c\"}], {\"barmode\": \"group\", \"barnorm\": \"\", \"height\": 600, \"legend\": {\"tracegroupgap\": 0}, \"margin\": {\"t\": 60}, \"template\": {\"data\": {\"barpolar\": [{\"marker\": {\"line\": {\"color\": \"#E5ECF6\", \"width\": 0.5}}, \"type\": \"barpolar\"}], \"bar\": [{\"marker\": {\"line\": {\"color\": \"#E5ECF6\", \"width\": 0.5}}, \"type\": \"bar\"}], \"carpet\": [{\"aaxis\": {\"endlinecolor\": \"#2a3f5f\", \"gridcolor\": \"white\", \"linecolor\": \"white\", \"minorgridcolor\": \"white\", \"startlinecolor\": \"#2a3f5f\"}, \"baxis\": {\"endlinecolor\": \"#2a3f5f\", \"gridcolor\": \"white\", \"linecolor\": \"white\", \"minorgridcolor\": \"white\", \"startlinecolor\": \"#2a3f5f\"}, \"type\": \"carpet\"}], \"choropleth\": [{\"colorbar\": {\"outlinewidth\": 0, \"ticks\": \"\"}, \"type\": \"choropleth\"}], \"contourcarpet\": [{\"colorbar\": {\"outlinewidth\": 0, \"ticks\": \"\"}, \"type\": \"contourcarpet\"}], \"contour\": [{\"autocolorscale\": true, \"colorbar\": {\"outlinewidth\": 0, \"ticks\": \"\"}, \"type\": \"contour\"}], \"heatmapgl\": [{\"colorbar\": {\"outlinewidth\": 0, \"ticks\": \"\"}, \"type\": \"heatmapgl\"}], \"heatmap\": [{\"autocolorscale\": true, \"colorbar\": {\"outlinewidth\": 0, \"ticks\": \"\"}, \"type\": \"heatmap\"}], \"histogram2dcontour\": [{\"autocolorscale\": true, \"colorbar\": {\"outlinewidth\": 0, \"ticks\": \"\"}, \"type\": \"histogram2dcontour\"}], \"histogram2d\": [{\"autocolorscale\": true, \"colorbar\": {\"outlinewidth\": 0, \"ticks\": \"\"}, \"type\": \"histogram2d\"}], \"histogram\": [{\"marker\": {\"colorbar\": {\"outlinewidth\": 0, \"ticks\": \"\"}}, \"type\": \"histogram\"}], \"mesh3d\": [{\"colorbar\": {\"outlinewidth\": 0, \"ticks\": \"\"}, \"type\": \"mesh3d\"}], \"parcoords\": [{\"line\": {\"colorbar\": {\"outlinewidth\": 0, \"ticks\": \"\"}}, \"type\": \"parcoords\"}], \"scatter3d\": [{\"marker\": {\"colorbar\": {\"outlinewidth\": 0, \"ticks\": \"\"}}, \"type\": \"scatter3d\"}], \"scattercarpet\": [{\"marker\": {\"colorbar\": {\"outlinewidth\": 0, \"ticks\": \"\"}}, \"type\": \"scattercarpet\"}], \"scattergeo\": [{\"marker\": {\"colorbar\": {\"outlinewidth\": 0, \"ticks\": \"\"}}, \"type\": \"scattergeo\"}], \"scattergl\": [{\"marker\": {\"colorbar\": {\"outlinewidth\": 0, \"ticks\": \"\"}}, \"type\": \"scattergl\"}], \"scattermapbox\": [{\"marker\": {\"colorbar\": {\"outlinewidth\": 0, \"ticks\": \"\"}}, \"type\": \"scattermapbox\"}], \"scatterpolargl\": [{\"marker\": {\"colorbar\": {\"outlinewidth\": 0, \"ticks\": \"\"}}, \"type\": \"scatterpolargl\"}], \"scatterpolar\": [{\"marker\": {\"colorbar\": {\"outlinewidth\": 0, \"ticks\": \"\"}}, \"type\": \"scatterpolar\"}], \"scatter\": [{\"marker\": {\"colorbar\": {\"outlinewidth\": 0, \"ticks\": \"\"}}, \"type\": \"scatter\"}], \"scatterternary\": [{\"marker\": {\"colorbar\": {\"outlinewidth\": 0, \"ticks\": \"\"}}, \"type\": \"scatterternary\"}], \"surface\": [{\"colorbar\": {\"outlinewidth\": 0, \"ticks\": \"\"}, \"type\": \"surface\"}], \"table\": [{\"cells\": {\"fill\": {\"color\": \"#EBF0F8\"}, \"line\": {\"color\": \"white\"}}, \"header\": {\"fill\": {\"color\": \"#C8D4E3\"}, \"line\": {\"color\": \"white\"}}, \"type\": \"table\"}]}, \"layout\": {\"annotationdefaults\": {\"arrowcolor\": \"#506784\", \"arrowhead\": 0, \"arrowwidth\": 1}, \"colorscale\": {\"diverging\": [[0, \"#8e0152\"], [0.1, \"#c51b7d\"], [0.2, \"#de77ae\"], [0.3, \"#f1b6da\"], [0.4, \"#fde0ef\"], [0.5, \"#f7f7f7\"], [0.6, \"#e6f5d0\"], [0.7, \"#b8e186\"], [0.8, \"#7fbc41\"], [0.9, \"#4d9221\"], [1, \"#276419\"]], \"sequential\": [[0.0, \"#0508b8\"], [0.0893854748603352, \"#1910d8\"], [0.1787709497206704, \"#3c19f0\"], [0.2681564245810056, \"#6b1cfb\"], [0.3575418994413408, \"#981cfd\"], [0.44692737430167595, \"#bf1cfd\"], [0.5363128491620112, \"#dd2bfd\"], [0.6256983240223464, \"#f246fe\"], [0.7150837988826816, \"#fc67fd\"], [0.8044692737430168, \"#fe88fc\"], [0.8938547486033519, \"#fea5fd\"], [0.9832402234636871, \"#febefe\"], [1.0, \"#fec3fe\"]], \"sequentialminus\": [[0.0, \"#0508b8\"], [0.0893854748603352, \"#1910d8\"], [0.1787709497206704, \"#3c19f0\"], [0.2681564245810056, \"#6b1cfb\"], [0.3575418994413408, \"#981cfd\"], [0.44692737430167595, \"#bf1cfd\"], [0.5363128491620112, \"#dd2bfd\"], [0.6256983240223464, \"#f246fe\"], [0.7150837988826816, \"#fc67fd\"], [0.8044692737430168, \"#fe88fc\"], [0.8938547486033519, \"#fea5fd\"], [0.9832402234636871, \"#febefe\"], [1.0, \"#fec3fe\"]]}, \"colorway\": [\"#636efa\", \"#EF553B\", \"#00cc96\", \"#ab63fa\", \"#19d3f3\", \"#e763fa\", \"#FECB52\", \"#FFA15A\", \"#FF6692\", \"#B6E880\"], \"font\": {\"color\": \"#2a3f5f\"}, \"geo\": {\"bgcolor\": \"white\", \"lakecolor\": \"white\", \"landcolor\": \"#E5ECF6\", \"showlakes\": true, \"showland\": true, \"subunitcolor\": \"white\"}, \"hovermode\": \"closest\", \"mapbox\": {\"style\": \"light\"}, \"paper_bgcolor\": \"white\", \"plot_bgcolor\": \"#E5ECF6\", \"polar\": {\"angularaxis\": {\"gridcolor\": \"white\", \"linecolor\": \"white\", \"ticks\": \"\"}, \"bgcolor\": \"#E5ECF6\", \"radialaxis\": {\"gridcolor\": \"white\", \"linecolor\": \"white\", \"ticks\": \"\"}}, \"scene\": {\"xaxis\": {\"backgroundcolor\": \"#E5ECF6\", \"gridcolor\": \"white\", \"gridwidth\": 2, \"linecolor\": \"white\", \"showbackground\": true, \"ticks\": \"\", \"zerolinecolor\": \"white\"}, \"yaxis\": {\"backgroundcolor\": \"#E5ECF6\", \"gridcolor\": \"white\", \"gridwidth\": 2, \"linecolor\": \"white\", \"showbackground\": true, \"ticks\": \"\", \"zerolinecolor\": \"white\"}, \"zaxis\": {\"backgroundcolor\": \"#E5ECF6\", \"gridcolor\": \"white\", \"gridwidth\": 2, \"linecolor\": \"white\", \"showbackground\": true, \"ticks\": \"\", \"zerolinecolor\": \"white\"}}, \"shapedefaults\": {\"fillcolor\": \"#506784\", \"line\": {\"width\": 0}, \"opacity\": 0.4}, \"ternary\": {\"aaxis\": {\"gridcolor\": \"white\", \"linecolor\": \"white\", \"ticks\": \"\"}, \"baxis\": {\"gridcolor\": \"white\", \"linecolor\": \"white\", \"ticks\": \"\"}, \"bgcolor\": \"#E5ECF6\", \"caxis\": {\"gridcolor\": \"white\", \"linecolor\": \"white\", \"ticks\": \"\"}}, \"title\": {\"x\": 0.05}, \"xaxis\": {\"automargin\": true, \"gridcolor\": \"white\", \"linecolor\": \"white\", \"ticks\": \"\", \"zerolinecolor\": \"white\", \"zerolinewidth\": 2}, \"yaxis\": {\"automargin\": true, \"gridcolor\": \"white\", \"linecolor\": \"white\", \"ticks\": \"\", \"zerolinecolor\": \"white\", \"zerolinewidth\": 2}}}, \"polar\": {\"angularaxis\": {\"direction\": \"clockwise\", \"rotation\": 90}}}, {\"showLink\": false, \"linkText\": \"Export to plot.ly\", \"plotlyServerURL\": \"https://plot.ly\"}); \n",
       "}\n",
       "});</script><script type=\"text/javascript\">window.addEventListener(\"resize\", function(){if (document.getElementById(\"cf5f8af4-4bed-4be1-a25d-f5e82d407d1f\")) {window._Plotly.Plots.resize(document.getElementById(\"cf5f8af4-4bed-4be1-a25d-f5e82d407d1f\"));};})</script>"
      ]
     },
     "metadata": {},
     "output_type": "display_data"
    },
    {
     "name": "stdout",
     "output_type": "stream",
     "text": [
      "Comparando la pregunta Durante ese uso, ¿cuántas imágenes consumes (ves y compartes)?\n"
     ]
    },
    {
     "data": {
      "application/vnd.plotly.v1+json": {
       "config": {
        "linkText": "Export to plot.ly",
        "plotlyServerURL": "https://plot.ly",
        "showLink": false
       },
       "data": [
        {
         "hovertemplate": "Durante ese uso, ¿cuántas imágenes consumes (ves y compartes)?=1. Ninguna<br>counts=%{r}<br>prosume_cluster=%{theta}<extra></extra>",
         "legendgroup": "Durante ese uso, ¿cuántas imágenes consumes (ves y compartes)?=1. Ninguna",
         "marker": {
          "color": "rgb(213,62,79)"
         },
         "name": "Durante ese uso, ¿cuántas imágenes consumes (ves y compartes)?=1. Ninguna",
         "r": [
          1,
          6,
          1
         ],
         "showlegend": true,
         "theta": [
          "cluster_1",
          "cluster_2",
          "cluster_3"
         ],
         "type": "barpolar",
         "uid": "a073626a-04f7-462f-8025-197cb60a5040"
        },
        {
         "hovertemplate": "Durante ese uso, ¿cuántas imágenes consumes (ves y compartes)?=2. Pocas<br>counts=%{r}<br>prosume_cluster=%{theta}<extra></extra>",
         "legendgroup": "Durante ese uso, ¿cuántas imágenes consumes (ves y compartes)?=2. Pocas",
         "marker": {
          "color": "rgb(252,141,89)"
         },
         "name": "Durante ese uso, ¿cuántas imágenes consumes (ves y compartes)?=2. Pocas",
         "r": [
          8,
          39,
          3,
          2,
          10
         ],
         "showlegend": true,
         "theta": [
          "cluster_1",
          "cluster_2",
          "cluster_3",
          "cluster_4",
          "cluster_5"
         ],
         "type": "barpolar",
         "uid": "72533b89-319d-47c6-9846-e0603c3d7d09"
        },
        {
         "hovertemplate": "Durante ese uso, ¿cuántas imágenes consumes (ves y compartes)?=3. Ni muchas ni pocas<br>counts=%{r}<br>prosume_cluster=%{theta}<extra></extra>",
         "legendgroup": "Durante ese uso, ¿cuántas imágenes consumes (ves y compartes)?=3. Ni muchas ni pocas",
         "marker": {
          "color": "rgb(254,224,139)"
         },
         "name": "Durante ese uso, ¿cuántas imágenes consumes (ves y compartes)?=3. Ni muchas ni pocas",
         "r": [
          16,
          56,
          7,
          15,
          41
         ],
         "showlegend": true,
         "theta": [
          "cluster_1",
          "cluster_2",
          "cluster_3",
          "cluster_4",
          "cluster_5"
         ],
         "type": "barpolar",
         "uid": "d630e500-9479-477a-9937-ae2393898069"
        },
        {
         "hovertemplate": "Durante ese uso, ¿cuántas imágenes consumes (ves y compartes)?=4. Bastantes<br>counts=%{r}<br>prosume_cluster=%{theta}<extra></extra>",
         "legendgroup": "Durante ese uso, ¿cuántas imágenes consumes (ves y compartes)?=4. Bastantes",
         "marker": {
          "color": "rgb(230,245,152)"
         },
         "name": "Durante ese uso, ¿cuántas imágenes consumes (ves y compartes)?=4. Bastantes",
         "r": [
          11,
          77,
          61,
          52,
          190
         ],
         "showlegend": true,
         "theta": [
          "cluster_1",
          "cluster_2",
          "cluster_3",
          "cluster_4",
          "cluster_5"
         ],
         "type": "barpolar",
         "uid": "8247ea3d-71e9-4f16-a2e7-cdfb4fc059ff"
        },
        {
         "hovertemplate": "Durante ese uso, ¿cuántas imágenes consumes (ves y compartes)?=5. Recibo y envio imágenes de forma constante<br>counts=%{r}<br>prosume_cluster=%{theta}<extra></extra>",
         "legendgroup": "Durante ese uso, ¿cuántas imágenes consumes (ves y compartes)?=5. Recibo y envio imágenes de forma constante",
         "marker": {
          "color": "rgb(153,213,148)"
         },
         "name": "Durante ese uso, ¿cuántas imágenes consumes (ves y compartes)?=5. Recibo y envio imágenes de forma constante",
         "r": [
          1,
          18,
          28,
          29,
          95
         ],
         "showlegend": true,
         "theta": [
          "cluster_1",
          "cluster_2",
          "cluster_3",
          "cluster_4",
          "cluster_5"
         ],
         "type": "barpolar",
         "uid": "397def8a-60bd-43a4-a5ef-68cc2628eb6b"
        }
       ],
       "layout": {
        "barmode": "group",
        "barnorm": "",
        "height": 600,
        "legend": {
         "tracegroupgap": 0
        },
        "margin": {
         "t": 60
        },
        "polar": {
         "angularaxis": {
          "direction": "clockwise",
          "rotation": 90
         }
        },
        "template": {
         "data": {
          "bar": [
           {
            "marker": {
             "line": {
              "color": "#E5ECF6",
              "width": 0.5
             }
            },
            "type": "bar"
           }
          ],
          "barpolar": [
           {
            "marker": {
             "line": {
              "color": "#E5ECF6",
              "width": 0.5
             }
            },
            "type": "barpolar"
           }
          ],
          "carpet": [
           {
            "aaxis": {
             "endlinecolor": "#2a3f5f",
             "gridcolor": "white",
             "linecolor": "white",
             "minorgridcolor": "white",
             "startlinecolor": "#2a3f5f"
            },
            "baxis": {
             "endlinecolor": "#2a3f5f",
             "gridcolor": "white",
             "linecolor": "white",
             "minorgridcolor": "white",
             "startlinecolor": "#2a3f5f"
            },
            "type": "carpet"
           }
          ],
          "choropleth": [
           {
            "colorbar": {
             "outlinewidth": 0,
             "ticks": ""
            },
            "type": "choropleth"
           }
          ],
          "contour": [
           {
            "autocolorscale": true,
            "colorbar": {
             "outlinewidth": 0,
             "ticks": ""
            },
            "type": "contour"
           }
          ],
          "contourcarpet": [
           {
            "colorbar": {
             "outlinewidth": 0,
             "ticks": ""
            },
            "type": "contourcarpet"
           }
          ],
          "heatmap": [
           {
            "autocolorscale": true,
            "colorbar": {
             "outlinewidth": 0,
             "ticks": ""
            },
            "type": "heatmap"
           }
          ],
          "heatmapgl": [
           {
            "colorbar": {
             "outlinewidth": 0,
             "ticks": ""
            },
            "type": "heatmapgl"
           }
          ],
          "histogram": [
           {
            "marker": {
             "colorbar": {
              "outlinewidth": 0,
              "ticks": ""
             }
            },
            "type": "histogram"
           }
          ],
          "histogram2d": [
           {
            "autocolorscale": true,
            "colorbar": {
             "outlinewidth": 0,
             "ticks": ""
            },
            "type": "histogram2d"
           }
          ],
          "histogram2dcontour": [
           {
            "autocolorscale": true,
            "colorbar": {
             "outlinewidth": 0,
             "ticks": ""
            },
            "type": "histogram2dcontour"
           }
          ],
          "mesh3d": [
           {
            "colorbar": {
             "outlinewidth": 0,
             "ticks": ""
            },
            "type": "mesh3d"
           }
          ],
          "parcoords": [
           {
            "line": {
             "colorbar": {
              "outlinewidth": 0,
              "ticks": ""
             }
            },
            "type": "parcoords"
           }
          ],
          "scatter": [
           {
            "marker": {
             "colorbar": {
              "outlinewidth": 0,
              "ticks": ""
             }
            },
            "type": "scatter"
           }
          ],
          "scatter3d": [
           {
            "marker": {
             "colorbar": {
              "outlinewidth": 0,
              "ticks": ""
             }
            },
            "type": "scatter3d"
           }
          ],
          "scattercarpet": [
           {
            "marker": {
             "colorbar": {
              "outlinewidth": 0,
              "ticks": ""
             }
            },
            "type": "scattercarpet"
           }
          ],
          "scattergeo": [
           {
            "marker": {
             "colorbar": {
              "outlinewidth": 0,
              "ticks": ""
             }
            },
            "type": "scattergeo"
           }
          ],
          "scattergl": [
           {
            "marker": {
             "colorbar": {
              "outlinewidth": 0,
              "ticks": ""
             }
            },
            "type": "scattergl"
           }
          ],
          "scattermapbox": [
           {
            "marker": {
             "colorbar": {
              "outlinewidth": 0,
              "ticks": ""
             }
            },
            "type": "scattermapbox"
           }
          ],
          "scatterpolar": [
           {
            "marker": {
             "colorbar": {
              "outlinewidth": 0,
              "ticks": ""
             }
            },
            "type": "scatterpolar"
           }
          ],
          "scatterpolargl": [
           {
            "marker": {
             "colorbar": {
              "outlinewidth": 0,
              "ticks": ""
             }
            },
            "type": "scatterpolargl"
           }
          ],
          "scatterternary": [
           {
            "marker": {
             "colorbar": {
              "outlinewidth": 0,
              "ticks": ""
             }
            },
            "type": "scatterternary"
           }
          ],
          "surface": [
           {
            "colorbar": {
             "outlinewidth": 0,
             "ticks": ""
            },
            "type": "surface"
           }
          ],
          "table": [
           {
            "cells": {
             "fill": {
              "color": "#EBF0F8"
             },
             "line": {
              "color": "white"
             }
            },
            "header": {
             "fill": {
              "color": "#C8D4E3"
             },
             "line": {
              "color": "white"
             }
            },
            "type": "table"
           }
          ]
         },
         "layout": {
          "annotationdefaults": {
           "arrowcolor": "#506784",
           "arrowhead": 0,
           "arrowwidth": 1
          },
          "colorscale": {
           "diverging": [
            [
             0,
             "#8e0152"
            ],
            [
             0.1,
             "#c51b7d"
            ],
            [
             0.2,
             "#de77ae"
            ],
            [
             0.3,
             "#f1b6da"
            ],
            [
             0.4,
             "#fde0ef"
            ],
            [
             0.5,
             "#f7f7f7"
            ],
            [
             0.6,
             "#e6f5d0"
            ],
            [
             0.7,
             "#b8e186"
            ],
            [
             0.8,
             "#7fbc41"
            ],
            [
             0.9,
             "#4d9221"
            ],
            [
             1,
             "#276419"
            ]
           ],
           "sequential": [
            [
             0,
             "#0508b8"
            ],
            [
             0.0893854748603352,
             "#1910d8"
            ],
            [
             0.1787709497206704,
             "#3c19f0"
            ],
            [
             0.2681564245810056,
             "#6b1cfb"
            ],
            [
             0.3575418994413408,
             "#981cfd"
            ],
            [
             0.44692737430167595,
             "#bf1cfd"
            ],
            [
             0.5363128491620112,
             "#dd2bfd"
            ],
            [
             0.6256983240223464,
             "#f246fe"
            ],
            [
             0.7150837988826816,
             "#fc67fd"
            ],
            [
             0.8044692737430168,
             "#fe88fc"
            ],
            [
             0.8938547486033519,
             "#fea5fd"
            ],
            [
             0.9832402234636871,
             "#febefe"
            ],
            [
             1,
             "#fec3fe"
            ]
           ],
           "sequentialminus": [
            [
             0,
             "#0508b8"
            ],
            [
             0.0893854748603352,
             "#1910d8"
            ],
            [
             0.1787709497206704,
             "#3c19f0"
            ],
            [
             0.2681564245810056,
             "#6b1cfb"
            ],
            [
             0.3575418994413408,
             "#981cfd"
            ],
            [
             0.44692737430167595,
             "#bf1cfd"
            ],
            [
             0.5363128491620112,
             "#dd2bfd"
            ],
            [
             0.6256983240223464,
             "#f246fe"
            ],
            [
             0.7150837988826816,
             "#fc67fd"
            ],
            [
             0.8044692737430168,
             "#fe88fc"
            ],
            [
             0.8938547486033519,
             "#fea5fd"
            ],
            [
             0.9832402234636871,
             "#febefe"
            ],
            [
             1,
             "#fec3fe"
            ]
           ]
          },
          "colorway": [
           "#636efa",
           "#EF553B",
           "#00cc96",
           "#ab63fa",
           "#19d3f3",
           "#e763fa",
           "#FECB52",
           "#FFA15A",
           "#FF6692",
           "#B6E880"
          ],
          "font": {
           "color": "#2a3f5f"
          },
          "geo": {
           "bgcolor": "white",
           "lakecolor": "white",
           "landcolor": "#E5ECF6",
           "showlakes": true,
           "showland": true,
           "subunitcolor": "white"
          },
          "hovermode": "closest",
          "mapbox": {
           "style": "light"
          },
          "paper_bgcolor": "white",
          "plot_bgcolor": "#E5ECF6",
          "polar": {
           "angularaxis": {
            "gridcolor": "white",
            "linecolor": "white",
            "ticks": ""
           },
           "bgcolor": "#E5ECF6",
           "radialaxis": {
            "gridcolor": "white",
            "linecolor": "white",
            "ticks": ""
           }
          },
          "scene": {
           "xaxis": {
            "backgroundcolor": "#E5ECF6",
            "gridcolor": "white",
            "gridwidth": 2,
            "linecolor": "white",
            "showbackground": true,
            "ticks": "",
            "zerolinecolor": "white"
           },
           "yaxis": {
            "backgroundcolor": "#E5ECF6",
            "gridcolor": "white",
            "gridwidth": 2,
            "linecolor": "white",
            "showbackground": true,
            "ticks": "",
            "zerolinecolor": "white"
           },
           "zaxis": {
            "backgroundcolor": "#E5ECF6",
            "gridcolor": "white",
            "gridwidth": 2,
            "linecolor": "white",
            "showbackground": true,
            "ticks": "",
            "zerolinecolor": "white"
           }
          },
          "shapedefaults": {
           "fillcolor": "#506784",
           "line": {
            "width": 0
           },
           "opacity": 0.4
          },
          "ternary": {
           "aaxis": {
            "gridcolor": "white",
            "linecolor": "white",
            "ticks": ""
           },
           "baxis": {
            "gridcolor": "white",
            "linecolor": "white",
            "ticks": ""
           },
           "bgcolor": "#E5ECF6",
           "caxis": {
            "gridcolor": "white",
            "linecolor": "white",
            "ticks": ""
           }
          },
          "title": {
           "x": 0.05
          },
          "xaxis": {
           "automargin": true,
           "gridcolor": "white",
           "linecolor": "white",
           "ticks": "",
           "zerolinecolor": "white",
           "zerolinewidth": 2
          },
          "yaxis": {
           "automargin": true,
           "gridcolor": "white",
           "linecolor": "white",
           "ticks": "",
           "zerolinecolor": "white",
           "zerolinewidth": 2
          }
         }
        }
       }
      },
      "text/html": [
       "<div id=\"601abe93-2c67-4d7d-b951-31cb617091e8\" style=\"height: 600px; width: 100%;\" class=\"plotly-graph-div\"></div><script type=\"text/javascript\">require([\"plotly\"], function(Plotly) { window.PLOTLYENV=window.PLOTLYENV || {};window.PLOTLYENV.BASE_URL=\"https://plot.ly\";\n",
       "if (document.getElementById(\"601abe93-2c67-4d7d-b951-31cb617091e8\")) {\n",
       "    Plotly.newPlot(\"601abe93-2c67-4d7d-b951-31cb617091e8\", [{\"hovertemplate\": \"Durante ese uso, \\u00bfcu\\u00e1ntas im\\u00e1genes consumes (ves y compartes)?=1. Ninguna<br>counts=%{r}<br>prosume_cluster=%{theta}<extra></extra>\", \"legendgroup\": \"Durante ese uso, \\u00bfcu\\u00e1ntas im\\u00e1genes consumes (ves y compartes)?=1. Ninguna\", \"marker\": {\"color\": \"rgb(213,62,79)\"}, \"name\": \"Durante ese uso, \\u00bfcu\\u00e1ntas im\\u00e1genes consumes (ves y compartes)?=1. Ninguna\", \"r\": [1, 6, 1], \"showlegend\": true, \"theta\": [\"cluster_1\", \"cluster_2\", \"cluster_3\"], \"type\": \"barpolar\", \"uid\": \"a073626a-04f7-462f-8025-197cb60a5040\"}, {\"hovertemplate\": \"Durante ese uso, \\u00bfcu\\u00e1ntas im\\u00e1genes consumes (ves y compartes)?=2. Pocas<br>counts=%{r}<br>prosume_cluster=%{theta}<extra></extra>\", \"legendgroup\": \"Durante ese uso, \\u00bfcu\\u00e1ntas im\\u00e1genes consumes (ves y compartes)?=2. Pocas\", \"marker\": {\"color\": \"rgb(252,141,89)\"}, \"name\": \"Durante ese uso, \\u00bfcu\\u00e1ntas im\\u00e1genes consumes (ves y compartes)?=2. Pocas\", \"r\": [8, 39, 3, 2, 10], \"showlegend\": true, \"theta\": [\"cluster_1\", \"cluster_2\", \"cluster_3\", \"cluster_4\", \"cluster_5\"], \"type\": \"barpolar\", \"uid\": \"72533b89-319d-47c6-9846-e0603c3d7d09\"}, {\"hovertemplate\": \"Durante ese uso, \\u00bfcu\\u00e1ntas im\\u00e1genes consumes (ves y compartes)?=3. Ni muchas ni pocas<br>counts=%{r}<br>prosume_cluster=%{theta}<extra></extra>\", \"legendgroup\": \"Durante ese uso, \\u00bfcu\\u00e1ntas im\\u00e1genes consumes (ves y compartes)?=3. Ni muchas ni pocas\", \"marker\": {\"color\": \"rgb(254,224,139)\"}, \"name\": \"Durante ese uso, \\u00bfcu\\u00e1ntas im\\u00e1genes consumes (ves y compartes)?=3. Ni muchas ni pocas\", \"r\": [16, 56, 7, 15, 41], \"showlegend\": true, \"theta\": [\"cluster_1\", \"cluster_2\", \"cluster_3\", \"cluster_4\", \"cluster_5\"], \"type\": \"barpolar\", \"uid\": \"d630e500-9479-477a-9937-ae2393898069\"}, {\"hovertemplate\": \"Durante ese uso, \\u00bfcu\\u00e1ntas im\\u00e1genes consumes (ves y compartes)?=4. Bastantes<br>counts=%{r}<br>prosume_cluster=%{theta}<extra></extra>\", \"legendgroup\": \"Durante ese uso, \\u00bfcu\\u00e1ntas im\\u00e1genes consumes (ves y compartes)?=4. Bastantes\", \"marker\": {\"color\": \"rgb(230,245,152)\"}, \"name\": \"Durante ese uso, \\u00bfcu\\u00e1ntas im\\u00e1genes consumes (ves y compartes)?=4. Bastantes\", \"r\": [11, 77, 61, 52, 190], \"showlegend\": true, \"theta\": [\"cluster_1\", \"cluster_2\", \"cluster_3\", \"cluster_4\", \"cluster_5\"], \"type\": \"barpolar\", \"uid\": \"8247ea3d-71e9-4f16-a2e7-cdfb4fc059ff\"}, {\"hovertemplate\": \"Durante ese uso, \\u00bfcu\\u00e1ntas im\\u00e1genes consumes (ves y compartes)?=5. Recibo y envio im\\u00e1genes de forma constante<br>counts=%{r}<br>prosume_cluster=%{theta}<extra></extra>\", \"legendgroup\": \"Durante ese uso, \\u00bfcu\\u00e1ntas im\\u00e1genes consumes (ves y compartes)?=5. Recibo y envio im\\u00e1genes de forma constante\", \"marker\": {\"color\": \"rgb(153,213,148)\"}, \"name\": \"Durante ese uso, \\u00bfcu\\u00e1ntas im\\u00e1genes consumes (ves y compartes)?=5. Recibo y envio im\\u00e1genes de forma constante\", \"r\": [1, 18, 28, 29, 95], \"showlegend\": true, \"theta\": [\"cluster_1\", \"cluster_2\", \"cluster_3\", \"cluster_4\", \"cluster_5\"], \"type\": \"barpolar\", \"uid\": \"397def8a-60bd-43a4-a5ef-68cc2628eb6b\"}], {\"barmode\": \"group\", \"barnorm\": \"\", \"height\": 600, \"legend\": {\"tracegroupgap\": 0}, \"margin\": {\"t\": 60}, \"template\": {\"data\": {\"barpolar\": [{\"marker\": {\"line\": {\"color\": \"#E5ECF6\", \"width\": 0.5}}, \"type\": \"barpolar\"}], \"bar\": [{\"marker\": {\"line\": {\"color\": \"#E5ECF6\", \"width\": 0.5}}, \"type\": \"bar\"}], \"carpet\": [{\"aaxis\": {\"endlinecolor\": \"#2a3f5f\", \"gridcolor\": \"white\", \"linecolor\": \"white\", \"minorgridcolor\": \"white\", \"startlinecolor\": \"#2a3f5f\"}, \"baxis\": {\"endlinecolor\": \"#2a3f5f\", \"gridcolor\": \"white\", \"linecolor\": \"white\", \"minorgridcolor\": \"white\", \"startlinecolor\": \"#2a3f5f\"}, \"type\": \"carpet\"}], \"choropleth\": [{\"colorbar\": {\"outlinewidth\": 0, \"ticks\": \"\"}, \"type\": \"choropleth\"}], \"contourcarpet\": [{\"colorbar\": {\"outlinewidth\": 0, \"ticks\": \"\"}, \"type\": \"contourcarpet\"}], \"contour\": [{\"autocolorscale\": true, \"colorbar\": {\"outlinewidth\": 0, \"ticks\": \"\"}, \"type\": \"contour\"}], \"heatmapgl\": [{\"colorbar\": {\"outlinewidth\": 0, \"ticks\": \"\"}, \"type\": \"heatmapgl\"}], \"heatmap\": [{\"autocolorscale\": true, \"colorbar\": {\"outlinewidth\": 0, \"ticks\": \"\"}, \"type\": \"heatmap\"}], \"histogram2dcontour\": [{\"autocolorscale\": true, \"colorbar\": {\"outlinewidth\": 0, \"ticks\": \"\"}, \"type\": \"histogram2dcontour\"}], \"histogram2d\": [{\"autocolorscale\": true, \"colorbar\": {\"outlinewidth\": 0, \"ticks\": \"\"}, \"type\": \"histogram2d\"}], \"histogram\": [{\"marker\": {\"colorbar\": {\"outlinewidth\": 0, \"ticks\": \"\"}}, \"type\": \"histogram\"}], \"mesh3d\": [{\"colorbar\": {\"outlinewidth\": 0, \"ticks\": \"\"}, \"type\": \"mesh3d\"}], \"parcoords\": [{\"line\": {\"colorbar\": {\"outlinewidth\": 0, \"ticks\": \"\"}}, \"type\": \"parcoords\"}], \"scatter3d\": [{\"marker\": {\"colorbar\": {\"outlinewidth\": 0, \"ticks\": \"\"}}, \"type\": \"scatter3d\"}], \"scattercarpet\": [{\"marker\": {\"colorbar\": {\"outlinewidth\": 0, \"ticks\": \"\"}}, \"type\": \"scattercarpet\"}], \"scattergeo\": [{\"marker\": {\"colorbar\": {\"outlinewidth\": 0, \"ticks\": \"\"}}, \"type\": \"scattergeo\"}], \"scattergl\": [{\"marker\": {\"colorbar\": {\"outlinewidth\": 0, \"ticks\": \"\"}}, \"type\": \"scattergl\"}], \"scattermapbox\": [{\"marker\": {\"colorbar\": {\"outlinewidth\": 0, \"ticks\": \"\"}}, \"type\": \"scattermapbox\"}], \"scatterpolargl\": [{\"marker\": {\"colorbar\": {\"outlinewidth\": 0, \"ticks\": \"\"}}, \"type\": \"scatterpolargl\"}], \"scatterpolar\": [{\"marker\": {\"colorbar\": {\"outlinewidth\": 0, \"ticks\": \"\"}}, \"type\": \"scatterpolar\"}], \"scatter\": [{\"marker\": {\"colorbar\": {\"outlinewidth\": 0, \"ticks\": \"\"}}, \"type\": \"scatter\"}], \"scatterternary\": [{\"marker\": {\"colorbar\": {\"outlinewidth\": 0, \"ticks\": \"\"}}, \"type\": \"scatterternary\"}], \"surface\": [{\"colorbar\": {\"outlinewidth\": 0, \"ticks\": \"\"}, \"type\": \"surface\"}], \"table\": [{\"cells\": {\"fill\": {\"color\": \"#EBF0F8\"}, \"line\": {\"color\": \"white\"}}, \"header\": {\"fill\": {\"color\": \"#C8D4E3\"}, \"line\": {\"color\": \"white\"}}, \"type\": \"table\"}]}, \"layout\": {\"annotationdefaults\": {\"arrowcolor\": \"#506784\", \"arrowhead\": 0, \"arrowwidth\": 1}, \"colorscale\": {\"diverging\": [[0, \"#8e0152\"], [0.1, \"#c51b7d\"], [0.2, \"#de77ae\"], [0.3, \"#f1b6da\"], [0.4, \"#fde0ef\"], [0.5, \"#f7f7f7\"], [0.6, \"#e6f5d0\"], [0.7, \"#b8e186\"], [0.8, \"#7fbc41\"], [0.9, \"#4d9221\"], [1, \"#276419\"]], \"sequential\": [[0.0, \"#0508b8\"], [0.0893854748603352, \"#1910d8\"], [0.1787709497206704, \"#3c19f0\"], [0.2681564245810056, \"#6b1cfb\"], [0.3575418994413408, \"#981cfd\"], [0.44692737430167595, \"#bf1cfd\"], [0.5363128491620112, \"#dd2bfd\"], [0.6256983240223464, \"#f246fe\"], [0.7150837988826816, \"#fc67fd\"], [0.8044692737430168, \"#fe88fc\"], [0.8938547486033519, \"#fea5fd\"], [0.9832402234636871, \"#febefe\"], [1.0, \"#fec3fe\"]], \"sequentialminus\": [[0.0, \"#0508b8\"], [0.0893854748603352, \"#1910d8\"], [0.1787709497206704, \"#3c19f0\"], [0.2681564245810056, \"#6b1cfb\"], [0.3575418994413408, \"#981cfd\"], [0.44692737430167595, \"#bf1cfd\"], [0.5363128491620112, \"#dd2bfd\"], [0.6256983240223464, \"#f246fe\"], [0.7150837988826816, \"#fc67fd\"], [0.8044692737430168, \"#fe88fc\"], [0.8938547486033519, \"#fea5fd\"], [0.9832402234636871, \"#febefe\"], [1.0, \"#fec3fe\"]]}, \"colorway\": [\"#636efa\", \"#EF553B\", \"#00cc96\", \"#ab63fa\", \"#19d3f3\", \"#e763fa\", \"#FECB52\", \"#FFA15A\", \"#FF6692\", \"#B6E880\"], \"font\": {\"color\": \"#2a3f5f\"}, \"geo\": {\"bgcolor\": \"white\", \"lakecolor\": \"white\", \"landcolor\": \"#E5ECF6\", \"showlakes\": true, \"showland\": true, \"subunitcolor\": \"white\"}, \"hovermode\": \"closest\", \"mapbox\": {\"style\": \"light\"}, \"paper_bgcolor\": \"white\", \"plot_bgcolor\": \"#E5ECF6\", \"polar\": {\"angularaxis\": {\"gridcolor\": \"white\", \"linecolor\": \"white\", \"ticks\": \"\"}, \"bgcolor\": \"#E5ECF6\", \"radialaxis\": {\"gridcolor\": \"white\", \"linecolor\": \"white\", \"ticks\": \"\"}}, \"scene\": {\"xaxis\": {\"backgroundcolor\": \"#E5ECF6\", \"gridcolor\": \"white\", \"gridwidth\": 2, \"linecolor\": \"white\", \"showbackground\": true, \"ticks\": \"\", \"zerolinecolor\": \"white\"}, \"yaxis\": {\"backgroundcolor\": \"#E5ECF6\", \"gridcolor\": \"white\", \"gridwidth\": 2, \"linecolor\": \"white\", \"showbackground\": true, \"ticks\": \"\", \"zerolinecolor\": \"white\"}, \"zaxis\": {\"backgroundcolor\": \"#E5ECF6\", \"gridcolor\": \"white\", \"gridwidth\": 2, \"linecolor\": \"white\", \"showbackground\": true, \"ticks\": \"\", \"zerolinecolor\": \"white\"}}, \"shapedefaults\": {\"fillcolor\": \"#506784\", \"line\": {\"width\": 0}, \"opacity\": 0.4}, \"ternary\": {\"aaxis\": {\"gridcolor\": \"white\", \"linecolor\": \"white\", \"ticks\": \"\"}, \"baxis\": {\"gridcolor\": \"white\", \"linecolor\": \"white\", \"ticks\": \"\"}, \"bgcolor\": \"#E5ECF6\", \"caxis\": {\"gridcolor\": \"white\", \"linecolor\": \"white\", \"ticks\": \"\"}}, \"title\": {\"x\": 0.05}, \"xaxis\": {\"automargin\": true, \"gridcolor\": \"white\", \"linecolor\": \"white\", \"ticks\": \"\", \"zerolinecolor\": \"white\", \"zerolinewidth\": 2}, \"yaxis\": {\"automargin\": true, \"gridcolor\": \"white\", \"linecolor\": \"white\", \"ticks\": \"\", \"zerolinecolor\": \"white\", \"zerolinewidth\": 2}}}, \"polar\": {\"angularaxis\": {\"direction\": \"clockwise\", \"rotation\": 90}}}, {\"showLink\": false, \"linkText\": \"Export to plot.ly\", \"plotlyServerURL\": \"https://plot.ly\"}); \n",
       "}\n",
       "});</script><script type=\"text/javascript\">window.addEventListener(\"resize\", function(){if (document.getElementById(\"601abe93-2c67-4d7d-b951-31cb617091e8\")) {window._Plotly.Plots.resize(document.getElementById(\"601abe93-2c67-4d7d-b951-31cb617091e8\"));};})</script>"
      ],
      "text/vnd.plotly.v1+html": [
       "<div id=\"601abe93-2c67-4d7d-b951-31cb617091e8\" style=\"height: 600px; width: 100%;\" class=\"plotly-graph-div\"></div><script type=\"text/javascript\">require([\"plotly\"], function(Plotly) { window.PLOTLYENV=window.PLOTLYENV || {};window.PLOTLYENV.BASE_URL=\"https://plot.ly\";\n",
       "if (document.getElementById(\"601abe93-2c67-4d7d-b951-31cb617091e8\")) {\n",
       "    Plotly.newPlot(\"601abe93-2c67-4d7d-b951-31cb617091e8\", [{\"hovertemplate\": \"Durante ese uso, \\u00bfcu\\u00e1ntas im\\u00e1genes consumes (ves y compartes)?=1. Ninguna<br>counts=%{r}<br>prosume_cluster=%{theta}<extra></extra>\", \"legendgroup\": \"Durante ese uso, \\u00bfcu\\u00e1ntas im\\u00e1genes consumes (ves y compartes)?=1. Ninguna\", \"marker\": {\"color\": \"rgb(213,62,79)\"}, \"name\": \"Durante ese uso, \\u00bfcu\\u00e1ntas im\\u00e1genes consumes (ves y compartes)?=1. Ninguna\", \"r\": [1, 6, 1], \"showlegend\": true, \"theta\": [\"cluster_1\", \"cluster_2\", \"cluster_3\"], \"type\": \"barpolar\", \"uid\": \"a073626a-04f7-462f-8025-197cb60a5040\"}, {\"hovertemplate\": \"Durante ese uso, \\u00bfcu\\u00e1ntas im\\u00e1genes consumes (ves y compartes)?=2. Pocas<br>counts=%{r}<br>prosume_cluster=%{theta}<extra></extra>\", \"legendgroup\": \"Durante ese uso, \\u00bfcu\\u00e1ntas im\\u00e1genes consumes (ves y compartes)?=2. Pocas\", \"marker\": {\"color\": \"rgb(252,141,89)\"}, \"name\": \"Durante ese uso, \\u00bfcu\\u00e1ntas im\\u00e1genes consumes (ves y compartes)?=2. Pocas\", \"r\": [8, 39, 3, 2, 10], \"showlegend\": true, \"theta\": [\"cluster_1\", \"cluster_2\", \"cluster_3\", \"cluster_4\", \"cluster_5\"], \"type\": \"barpolar\", \"uid\": \"72533b89-319d-47c6-9846-e0603c3d7d09\"}, {\"hovertemplate\": \"Durante ese uso, \\u00bfcu\\u00e1ntas im\\u00e1genes consumes (ves y compartes)?=3. Ni muchas ni pocas<br>counts=%{r}<br>prosume_cluster=%{theta}<extra></extra>\", \"legendgroup\": \"Durante ese uso, \\u00bfcu\\u00e1ntas im\\u00e1genes consumes (ves y compartes)?=3. Ni muchas ni pocas\", \"marker\": {\"color\": \"rgb(254,224,139)\"}, \"name\": \"Durante ese uso, \\u00bfcu\\u00e1ntas im\\u00e1genes consumes (ves y compartes)?=3. Ni muchas ni pocas\", \"r\": [16, 56, 7, 15, 41], \"showlegend\": true, \"theta\": [\"cluster_1\", \"cluster_2\", \"cluster_3\", \"cluster_4\", \"cluster_5\"], \"type\": \"barpolar\", \"uid\": \"d630e500-9479-477a-9937-ae2393898069\"}, {\"hovertemplate\": \"Durante ese uso, \\u00bfcu\\u00e1ntas im\\u00e1genes consumes (ves y compartes)?=4. Bastantes<br>counts=%{r}<br>prosume_cluster=%{theta}<extra></extra>\", \"legendgroup\": \"Durante ese uso, \\u00bfcu\\u00e1ntas im\\u00e1genes consumes (ves y compartes)?=4. Bastantes\", \"marker\": {\"color\": \"rgb(230,245,152)\"}, \"name\": \"Durante ese uso, \\u00bfcu\\u00e1ntas im\\u00e1genes consumes (ves y compartes)?=4. Bastantes\", \"r\": [11, 77, 61, 52, 190], \"showlegend\": true, \"theta\": [\"cluster_1\", \"cluster_2\", \"cluster_3\", \"cluster_4\", \"cluster_5\"], \"type\": \"barpolar\", \"uid\": \"8247ea3d-71e9-4f16-a2e7-cdfb4fc059ff\"}, {\"hovertemplate\": \"Durante ese uso, \\u00bfcu\\u00e1ntas im\\u00e1genes consumes (ves y compartes)?=5. Recibo y envio im\\u00e1genes de forma constante<br>counts=%{r}<br>prosume_cluster=%{theta}<extra></extra>\", \"legendgroup\": \"Durante ese uso, \\u00bfcu\\u00e1ntas im\\u00e1genes consumes (ves y compartes)?=5. Recibo y envio im\\u00e1genes de forma constante\", \"marker\": {\"color\": \"rgb(153,213,148)\"}, \"name\": \"Durante ese uso, \\u00bfcu\\u00e1ntas im\\u00e1genes consumes (ves y compartes)?=5. Recibo y envio im\\u00e1genes de forma constante\", \"r\": [1, 18, 28, 29, 95], \"showlegend\": true, \"theta\": [\"cluster_1\", \"cluster_2\", \"cluster_3\", \"cluster_4\", \"cluster_5\"], \"type\": \"barpolar\", \"uid\": \"397def8a-60bd-43a4-a5ef-68cc2628eb6b\"}], {\"barmode\": \"group\", \"barnorm\": \"\", \"height\": 600, \"legend\": {\"tracegroupgap\": 0}, \"margin\": {\"t\": 60}, \"template\": {\"data\": {\"barpolar\": [{\"marker\": {\"line\": {\"color\": \"#E5ECF6\", \"width\": 0.5}}, \"type\": \"barpolar\"}], \"bar\": [{\"marker\": {\"line\": {\"color\": \"#E5ECF6\", \"width\": 0.5}}, \"type\": \"bar\"}], \"carpet\": [{\"aaxis\": {\"endlinecolor\": \"#2a3f5f\", \"gridcolor\": \"white\", \"linecolor\": \"white\", \"minorgridcolor\": \"white\", \"startlinecolor\": \"#2a3f5f\"}, \"baxis\": {\"endlinecolor\": \"#2a3f5f\", \"gridcolor\": \"white\", \"linecolor\": \"white\", \"minorgridcolor\": \"white\", \"startlinecolor\": \"#2a3f5f\"}, \"type\": \"carpet\"}], \"choropleth\": [{\"colorbar\": {\"outlinewidth\": 0, \"ticks\": \"\"}, \"type\": \"choropleth\"}], \"contourcarpet\": [{\"colorbar\": {\"outlinewidth\": 0, \"ticks\": \"\"}, \"type\": \"contourcarpet\"}], \"contour\": [{\"autocolorscale\": true, \"colorbar\": {\"outlinewidth\": 0, \"ticks\": \"\"}, \"type\": \"contour\"}], \"heatmapgl\": [{\"colorbar\": {\"outlinewidth\": 0, \"ticks\": \"\"}, \"type\": \"heatmapgl\"}], \"heatmap\": [{\"autocolorscale\": true, \"colorbar\": {\"outlinewidth\": 0, \"ticks\": \"\"}, \"type\": \"heatmap\"}], \"histogram2dcontour\": [{\"autocolorscale\": true, \"colorbar\": {\"outlinewidth\": 0, \"ticks\": \"\"}, \"type\": \"histogram2dcontour\"}], \"histogram2d\": [{\"autocolorscale\": true, \"colorbar\": {\"outlinewidth\": 0, \"ticks\": \"\"}, \"type\": \"histogram2d\"}], \"histogram\": [{\"marker\": {\"colorbar\": {\"outlinewidth\": 0, \"ticks\": \"\"}}, \"type\": \"histogram\"}], \"mesh3d\": [{\"colorbar\": {\"outlinewidth\": 0, \"ticks\": \"\"}, \"type\": \"mesh3d\"}], \"parcoords\": [{\"line\": {\"colorbar\": {\"outlinewidth\": 0, \"ticks\": \"\"}}, \"type\": \"parcoords\"}], \"scatter3d\": [{\"marker\": {\"colorbar\": {\"outlinewidth\": 0, \"ticks\": \"\"}}, \"type\": \"scatter3d\"}], \"scattercarpet\": [{\"marker\": {\"colorbar\": {\"outlinewidth\": 0, \"ticks\": \"\"}}, \"type\": \"scattercarpet\"}], \"scattergeo\": [{\"marker\": {\"colorbar\": {\"outlinewidth\": 0, \"ticks\": \"\"}}, \"type\": \"scattergeo\"}], \"scattergl\": [{\"marker\": {\"colorbar\": {\"outlinewidth\": 0, \"ticks\": \"\"}}, \"type\": \"scattergl\"}], \"scattermapbox\": [{\"marker\": {\"colorbar\": {\"outlinewidth\": 0, \"ticks\": \"\"}}, \"type\": \"scattermapbox\"}], \"scatterpolargl\": [{\"marker\": {\"colorbar\": {\"outlinewidth\": 0, \"ticks\": \"\"}}, \"type\": \"scatterpolargl\"}], \"scatterpolar\": [{\"marker\": {\"colorbar\": {\"outlinewidth\": 0, \"ticks\": \"\"}}, \"type\": \"scatterpolar\"}], \"scatter\": [{\"marker\": {\"colorbar\": {\"outlinewidth\": 0, \"ticks\": \"\"}}, \"type\": \"scatter\"}], \"scatterternary\": [{\"marker\": {\"colorbar\": {\"outlinewidth\": 0, \"ticks\": \"\"}}, \"type\": \"scatterternary\"}], \"surface\": [{\"colorbar\": {\"outlinewidth\": 0, \"ticks\": \"\"}, \"type\": \"surface\"}], \"table\": [{\"cells\": {\"fill\": {\"color\": \"#EBF0F8\"}, \"line\": {\"color\": \"white\"}}, \"header\": {\"fill\": {\"color\": \"#C8D4E3\"}, \"line\": {\"color\": \"white\"}}, \"type\": \"table\"}]}, \"layout\": {\"annotationdefaults\": {\"arrowcolor\": \"#506784\", \"arrowhead\": 0, \"arrowwidth\": 1}, \"colorscale\": {\"diverging\": [[0, \"#8e0152\"], [0.1, \"#c51b7d\"], [0.2, \"#de77ae\"], [0.3, \"#f1b6da\"], [0.4, \"#fde0ef\"], [0.5, \"#f7f7f7\"], [0.6, \"#e6f5d0\"], [0.7, \"#b8e186\"], [0.8, \"#7fbc41\"], [0.9, \"#4d9221\"], [1, \"#276419\"]], \"sequential\": [[0.0, \"#0508b8\"], [0.0893854748603352, \"#1910d8\"], [0.1787709497206704, \"#3c19f0\"], [0.2681564245810056, \"#6b1cfb\"], [0.3575418994413408, \"#981cfd\"], [0.44692737430167595, \"#bf1cfd\"], [0.5363128491620112, \"#dd2bfd\"], [0.6256983240223464, \"#f246fe\"], [0.7150837988826816, \"#fc67fd\"], [0.8044692737430168, \"#fe88fc\"], [0.8938547486033519, \"#fea5fd\"], [0.9832402234636871, \"#febefe\"], [1.0, \"#fec3fe\"]], \"sequentialminus\": [[0.0, \"#0508b8\"], [0.0893854748603352, \"#1910d8\"], [0.1787709497206704, \"#3c19f0\"], [0.2681564245810056, \"#6b1cfb\"], [0.3575418994413408, \"#981cfd\"], [0.44692737430167595, \"#bf1cfd\"], [0.5363128491620112, \"#dd2bfd\"], [0.6256983240223464, \"#f246fe\"], [0.7150837988826816, \"#fc67fd\"], [0.8044692737430168, \"#fe88fc\"], [0.8938547486033519, \"#fea5fd\"], [0.9832402234636871, \"#febefe\"], [1.0, \"#fec3fe\"]]}, \"colorway\": [\"#636efa\", \"#EF553B\", \"#00cc96\", \"#ab63fa\", \"#19d3f3\", \"#e763fa\", \"#FECB52\", \"#FFA15A\", \"#FF6692\", \"#B6E880\"], \"font\": {\"color\": \"#2a3f5f\"}, \"geo\": {\"bgcolor\": \"white\", \"lakecolor\": \"white\", \"landcolor\": \"#E5ECF6\", \"showlakes\": true, \"showland\": true, \"subunitcolor\": \"white\"}, \"hovermode\": \"closest\", \"mapbox\": {\"style\": \"light\"}, \"paper_bgcolor\": \"white\", \"plot_bgcolor\": \"#E5ECF6\", \"polar\": {\"angularaxis\": {\"gridcolor\": \"white\", \"linecolor\": \"white\", \"ticks\": \"\"}, \"bgcolor\": \"#E5ECF6\", \"radialaxis\": {\"gridcolor\": \"white\", \"linecolor\": \"white\", \"ticks\": \"\"}}, \"scene\": {\"xaxis\": {\"backgroundcolor\": \"#E5ECF6\", \"gridcolor\": \"white\", \"gridwidth\": 2, \"linecolor\": \"white\", \"showbackground\": true, \"ticks\": \"\", \"zerolinecolor\": \"white\"}, \"yaxis\": {\"backgroundcolor\": \"#E5ECF6\", \"gridcolor\": \"white\", \"gridwidth\": 2, \"linecolor\": \"white\", \"showbackground\": true, \"ticks\": \"\", \"zerolinecolor\": \"white\"}, \"zaxis\": {\"backgroundcolor\": \"#E5ECF6\", \"gridcolor\": \"white\", \"gridwidth\": 2, \"linecolor\": \"white\", \"showbackground\": true, \"ticks\": \"\", \"zerolinecolor\": \"white\"}}, \"shapedefaults\": {\"fillcolor\": \"#506784\", \"line\": {\"width\": 0}, \"opacity\": 0.4}, \"ternary\": {\"aaxis\": {\"gridcolor\": \"white\", \"linecolor\": \"white\", \"ticks\": \"\"}, \"baxis\": {\"gridcolor\": \"white\", \"linecolor\": \"white\", \"ticks\": \"\"}, \"bgcolor\": \"#E5ECF6\", \"caxis\": {\"gridcolor\": \"white\", \"linecolor\": \"white\", \"ticks\": \"\"}}, \"title\": {\"x\": 0.05}, \"xaxis\": {\"automargin\": true, \"gridcolor\": \"white\", \"linecolor\": \"white\", \"ticks\": \"\", \"zerolinecolor\": \"white\", \"zerolinewidth\": 2}, \"yaxis\": {\"automargin\": true, \"gridcolor\": \"white\", \"linecolor\": \"white\", \"ticks\": \"\", \"zerolinecolor\": \"white\", \"zerolinewidth\": 2}}}, \"polar\": {\"angularaxis\": {\"direction\": \"clockwise\", \"rotation\": 90}}}, {\"showLink\": false, \"linkText\": \"Export to plot.ly\", \"plotlyServerURL\": \"https://plot.ly\"}); \n",
       "}\n",
       "});</script><script type=\"text/javascript\">window.addEventListener(\"resize\", function(){if (document.getElementById(\"601abe93-2c67-4d7d-b951-31cb617091e8\")) {window._Plotly.Plots.resize(document.getElementById(\"601abe93-2c67-4d7d-b951-31cb617091e8\"));};})</script>"
      ]
     },
     "metadata": {},
     "output_type": "display_data"
    },
    {
     "name": "stdout",
     "output_type": "stream",
     "text": [
      "Comparando la pregunta ¿Cuál es tu herramienta habitual de consumo de imágenes?\n"
     ]
    },
    {
     "data": {
      "application/vnd.plotly.v1+json": {
       "config": {
        "linkText": "Export to plot.ly",
        "plotlyServerURL": "https://plot.ly",
        "showLink": false
       },
       "data": [
        {
         "hovertemplate": "¿Cuál es tu herramienta habitual de consumo de imágenes?=1. Móvil<br>counts=%{r}<br>prosume_cluster=%{theta}<extra></extra>",
         "legendgroup": "¿Cuál es tu herramienta habitual de consumo de imágenes?=1. Móvil",
         "marker": {
          "color": "rgb(213,62,79)"
         },
         "name": "¿Cuál es tu herramienta habitual de consumo de imágenes?=1. Móvil",
         "r": [
          8,
          124,
          39,
          64,
          187
         ],
         "showlegend": true,
         "theta": [
          "cluster_1",
          "cluster_2",
          "cluster_3",
          "cluster_4",
          "cluster_5"
         ],
         "type": "barpolar",
         "uid": "84e77816-d58f-4678-bf88-c891d05b827f"
        },
        {
         "hovertemplate": "¿Cuál es tu herramienta habitual de consumo de imágenes?=2. Televisión<br>counts=%{r}<br>prosume_cluster=%{theta}<extra></extra>",
         "legendgroup": "¿Cuál es tu herramienta habitual de consumo de imágenes?=2. Televisión",
         "marker": {
          "color": "rgb(252,141,89)"
         },
         "name": "¿Cuál es tu herramienta habitual de consumo de imágenes?=2. Televisión",
         "r": [
          6,
          14,
          4,
          5,
          22
         ],
         "showlegend": true,
         "theta": [
          "cluster_1",
          "cluster_2",
          "cluster_3",
          "cluster_4",
          "cluster_5"
         ],
         "type": "barpolar",
         "uid": "27f4b219-98bd-4950-94b2-b85f0fec0d00"
        },
        {
         "hovertemplate": "¿Cuál es tu herramienta habitual de consumo de imágenes?=3. Ordenador<br>counts=%{r}<br>prosume_cluster=%{theta}<extra></extra>",
         "legendgroup": "¿Cuál es tu herramienta habitual de consumo de imágenes?=3. Ordenador",
         "marker": {
          "color": "rgb(254,224,139)"
         },
         "name": "¿Cuál es tu herramienta habitual de consumo de imágenes?=3. Ordenador",
         "r": [
          21,
          51,
          53,
          26,
          113
         ],
         "showlegend": true,
         "theta": [
          "cluster_1",
          "cluster_2",
          "cluster_3",
          "cluster_4",
          "cluster_5"
         ],
         "type": "barpolar",
         "uid": "06813a74-a84b-447c-8bba-d0c0f23bf28a"
        },
        {
         "hovertemplate": "¿Cuál es tu herramienta habitual de consumo de imágenes?=4. Tableta<br>counts=%{r}<br>prosume_cluster=%{theta}<extra></extra>",
         "legendgroup": "¿Cuál es tu herramienta habitual de consumo de imágenes?=4. Tableta",
         "marker": {
          "color": "rgb(230,245,152)"
         },
         "name": "¿Cuál es tu herramienta habitual de consumo de imágenes?=4. Tableta",
         "r": [
          2,
          6,
          4,
          3,
          14
         ],
         "showlegend": true,
         "theta": [
          "cluster_1",
          "cluster_2",
          "cluster_3",
          "cluster_4",
          "cluster_5"
         ],
         "type": "barpolar",
         "uid": "221eb671-2d78-4dc8-9f94-e41bdbcea7fb"
        },
        {
         "hovertemplate": "¿Cuál es tu herramienta habitual de consumo de imágenes?=5. Otros (Libros y periódicos en papel, marquesinas, museos...)<br>counts=%{r}<br>prosume_cluster=%{theta}<extra></extra>",
         "legendgroup": "¿Cuál es tu herramienta habitual de consumo de imágenes?=5. Otros (Libros y periódicos en papel, marquesinas, museos...)",
         "marker": {
          "color": "rgb(153,213,148)"
         },
         "name": "¿Cuál es tu herramienta habitual de consumo de imágenes?=5. Otros (Libros y periódicos en papel, marquesinas, museos...)",
         "r": [
          1
         ],
         "showlegend": true,
         "theta": [
          "cluster_2"
         ],
         "type": "barpolar",
         "uid": "2f924f79-0de6-42b8-ab40-7ff5cac5047d"
        }
       ],
       "layout": {
        "barmode": "group",
        "barnorm": "",
        "height": 600,
        "legend": {
         "tracegroupgap": 0
        },
        "margin": {
         "t": 60
        },
        "polar": {
         "angularaxis": {
          "direction": "clockwise",
          "rotation": 90
         }
        },
        "template": {
         "data": {
          "bar": [
           {
            "marker": {
             "line": {
              "color": "#E5ECF6",
              "width": 0.5
             }
            },
            "type": "bar"
           }
          ],
          "barpolar": [
           {
            "marker": {
             "line": {
              "color": "#E5ECF6",
              "width": 0.5
             }
            },
            "type": "barpolar"
           }
          ],
          "carpet": [
           {
            "aaxis": {
             "endlinecolor": "#2a3f5f",
             "gridcolor": "white",
             "linecolor": "white",
             "minorgridcolor": "white",
             "startlinecolor": "#2a3f5f"
            },
            "baxis": {
             "endlinecolor": "#2a3f5f",
             "gridcolor": "white",
             "linecolor": "white",
             "minorgridcolor": "white",
             "startlinecolor": "#2a3f5f"
            },
            "type": "carpet"
           }
          ],
          "choropleth": [
           {
            "colorbar": {
             "outlinewidth": 0,
             "ticks": ""
            },
            "type": "choropleth"
           }
          ],
          "contour": [
           {
            "autocolorscale": true,
            "colorbar": {
             "outlinewidth": 0,
             "ticks": ""
            },
            "type": "contour"
           }
          ],
          "contourcarpet": [
           {
            "colorbar": {
             "outlinewidth": 0,
             "ticks": ""
            },
            "type": "contourcarpet"
           }
          ],
          "heatmap": [
           {
            "autocolorscale": true,
            "colorbar": {
             "outlinewidth": 0,
             "ticks": ""
            },
            "type": "heatmap"
           }
          ],
          "heatmapgl": [
           {
            "colorbar": {
             "outlinewidth": 0,
             "ticks": ""
            },
            "type": "heatmapgl"
           }
          ],
          "histogram": [
           {
            "marker": {
             "colorbar": {
              "outlinewidth": 0,
              "ticks": ""
             }
            },
            "type": "histogram"
           }
          ],
          "histogram2d": [
           {
            "autocolorscale": true,
            "colorbar": {
             "outlinewidth": 0,
             "ticks": ""
            },
            "type": "histogram2d"
           }
          ],
          "histogram2dcontour": [
           {
            "autocolorscale": true,
            "colorbar": {
             "outlinewidth": 0,
             "ticks": ""
            },
            "type": "histogram2dcontour"
           }
          ],
          "mesh3d": [
           {
            "colorbar": {
             "outlinewidth": 0,
             "ticks": ""
            },
            "type": "mesh3d"
           }
          ],
          "parcoords": [
           {
            "line": {
             "colorbar": {
              "outlinewidth": 0,
              "ticks": ""
             }
            },
            "type": "parcoords"
           }
          ],
          "scatter": [
           {
            "marker": {
             "colorbar": {
              "outlinewidth": 0,
              "ticks": ""
             }
            },
            "type": "scatter"
           }
          ],
          "scatter3d": [
           {
            "marker": {
             "colorbar": {
              "outlinewidth": 0,
              "ticks": ""
             }
            },
            "type": "scatter3d"
           }
          ],
          "scattercarpet": [
           {
            "marker": {
             "colorbar": {
              "outlinewidth": 0,
              "ticks": ""
             }
            },
            "type": "scattercarpet"
           }
          ],
          "scattergeo": [
           {
            "marker": {
             "colorbar": {
              "outlinewidth": 0,
              "ticks": ""
             }
            },
            "type": "scattergeo"
           }
          ],
          "scattergl": [
           {
            "marker": {
             "colorbar": {
              "outlinewidth": 0,
              "ticks": ""
             }
            },
            "type": "scattergl"
           }
          ],
          "scattermapbox": [
           {
            "marker": {
             "colorbar": {
              "outlinewidth": 0,
              "ticks": ""
             }
            },
            "type": "scattermapbox"
           }
          ],
          "scatterpolar": [
           {
            "marker": {
             "colorbar": {
              "outlinewidth": 0,
              "ticks": ""
             }
            },
            "type": "scatterpolar"
           }
          ],
          "scatterpolargl": [
           {
            "marker": {
             "colorbar": {
              "outlinewidth": 0,
              "ticks": ""
             }
            },
            "type": "scatterpolargl"
           }
          ],
          "scatterternary": [
           {
            "marker": {
             "colorbar": {
              "outlinewidth": 0,
              "ticks": ""
             }
            },
            "type": "scatterternary"
           }
          ],
          "surface": [
           {
            "colorbar": {
             "outlinewidth": 0,
             "ticks": ""
            },
            "type": "surface"
           }
          ],
          "table": [
           {
            "cells": {
             "fill": {
              "color": "#EBF0F8"
             },
             "line": {
              "color": "white"
             }
            },
            "header": {
             "fill": {
              "color": "#C8D4E3"
             },
             "line": {
              "color": "white"
             }
            },
            "type": "table"
           }
          ]
         },
         "layout": {
          "annotationdefaults": {
           "arrowcolor": "#506784",
           "arrowhead": 0,
           "arrowwidth": 1
          },
          "colorscale": {
           "diverging": [
            [
             0,
             "#8e0152"
            ],
            [
             0.1,
             "#c51b7d"
            ],
            [
             0.2,
             "#de77ae"
            ],
            [
             0.3,
             "#f1b6da"
            ],
            [
             0.4,
             "#fde0ef"
            ],
            [
             0.5,
             "#f7f7f7"
            ],
            [
             0.6,
             "#e6f5d0"
            ],
            [
             0.7,
             "#b8e186"
            ],
            [
             0.8,
             "#7fbc41"
            ],
            [
             0.9,
             "#4d9221"
            ],
            [
             1,
             "#276419"
            ]
           ],
           "sequential": [
            [
             0,
             "#0508b8"
            ],
            [
             0.0893854748603352,
             "#1910d8"
            ],
            [
             0.1787709497206704,
             "#3c19f0"
            ],
            [
             0.2681564245810056,
             "#6b1cfb"
            ],
            [
             0.3575418994413408,
             "#981cfd"
            ],
            [
             0.44692737430167595,
             "#bf1cfd"
            ],
            [
             0.5363128491620112,
             "#dd2bfd"
            ],
            [
             0.6256983240223464,
             "#f246fe"
            ],
            [
             0.7150837988826816,
             "#fc67fd"
            ],
            [
             0.8044692737430168,
             "#fe88fc"
            ],
            [
             0.8938547486033519,
             "#fea5fd"
            ],
            [
             0.9832402234636871,
             "#febefe"
            ],
            [
             1,
             "#fec3fe"
            ]
           ],
           "sequentialminus": [
            [
             0,
             "#0508b8"
            ],
            [
             0.0893854748603352,
             "#1910d8"
            ],
            [
             0.1787709497206704,
             "#3c19f0"
            ],
            [
             0.2681564245810056,
             "#6b1cfb"
            ],
            [
             0.3575418994413408,
             "#981cfd"
            ],
            [
             0.44692737430167595,
             "#bf1cfd"
            ],
            [
             0.5363128491620112,
             "#dd2bfd"
            ],
            [
             0.6256983240223464,
             "#f246fe"
            ],
            [
             0.7150837988826816,
             "#fc67fd"
            ],
            [
             0.8044692737430168,
             "#fe88fc"
            ],
            [
             0.8938547486033519,
             "#fea5fd"
            ],
            [
             0.9832402234636871,
             "#febefe"
            ],
            [
             1,
             "#fec3fe"
            ]
           ]
          },
          "colorway": [
           "#636efa",
           "#EF553B",
           "#00cc96",
           "#ab63fa",
           "#19d3f3",
           "#e763fa",
           "#FECB52",
           "#FFA15A",
           "#FF6692",
           "#B6E880"
          ],
          "font": {
           "color": "#2a3f5f"
          },
          "geo": {
           "bgcolor": "white",
           "lakecolor": "white",
           "landcolor": "#E5ECF6",
           "showlakes": true,
           "showland": true,
           "subunitcolor": "white"
          },
          "hovermode": "closest",
          "mapbox": {
           "style": "light"
          },
          "paper_bgcolor": "white",
          "plot_bgcolor": "#E5ECF6",
          "polar": {
           "angularaxis": {
            "gridcolor": "white",
            "linecolor": "white",
            "ticks": ""
           },
           "bgcolor": "#E5ECF6",
           "radialaxis": {
            "gridcolor": "white",
            "linecolor": "white",
            "ticks": ""
           }
          },
          "scene": {
           "xaxis": {
            "backgroundcolor": "#E5ECF6",
            "gridcolor": "white",
            "gridwidth": 2,
            "linecolor": "white",
            "showbackground": true,
            "ticks": "",
            "zerolinecolor": "white"
           },
           "yaxis": {
            "backgroundcolor": "#E5ECF6",
            "gridcolor": "white",
            "gridwidth": 2,
            "linecolor": "white",
            "showbackground": true,
            "ticks": "",
            "zerolinecolor": "white"
           },
           "zaxis": {
            "backgroundcolor": "#E5ECF6",
            "gridcolor": "white",
            "gridwidth": 2,
            "linecolor": "white",
            "showbackground": true,
            "ticks": "",
            "zerolinecolor": "white"
           }
          },
          "shapedefaults": {
           "fillcolor": "#506784",
           "line": {
            "width": 0
           },
           "opacity": 0.4
          },
          "ternary": {
           "aaxis": {
            "gridcolor": "white",
            "linecolor": "white",
            "ticks": ""
           },
           "baxis": {
            "gridcolor": "white",
            "linecolor": "white",
            "ticks": ""
           },
           "bgcolor": "#E5ECF6",
           "caxis": {
            "gridcolor": "white",
            "linecolor": "white",
            "ticks": ""
           }
          },
          "title": {
           "x": 0.05
          },
          "xaxis": {
           "automargin": true,
           "gridcolor": "white",
           "linecolor": "white",
           "ticks": "",
           "zerolinecolor": "white",
           "zerolinewidth": 2
          },
          "yaxis": {
           "automargin": true,
           "gridcolor": "white",
           "linecolor": "white",
           "ticks": "",
           "zerolinecolor": "white",
           "zerolinewidth": 2
          }
         }
        }
       }
      },
      "text/html": [
       "<div id=\"7e9449f9-dd9e-44b8-aeb2-1d7363b72f43\" style=\"height: 600px; width: 100%;\" class=\"plotly-graph-div\"></div><script type=\"text/javascript\">require([\"plotly\"], function(Plotly) { window.PLOTLYENV=window.PLOTLYENV || {};window.PLOTLYENV.BASE_URL=\"https://plot.ly\";\n",
       "if (document.getElementById(\"7e9449f9-dd9e-44b8-aeb2-1d7363b72f43\")) {\n",
       "    Plotly.newPlot(\"7e9449f9-dd9e-44b8-aeb2-1d7363b72f43\", [{\"hovertemplate\": \"\\u00bfCu\\u00e1l es tu herramienta habitual de consumo de im\\u00e1genes?=1. M\\u00f3vil<br>counts=%{r}<br>prosume_cluster=%{theta}<extra></extra>\", \"legendgroup\": \"\\u00bfCu\\u00e1l es tu herramienta habitual de consumo de im\\u00e1genes?=1. M\\u00f3vil\", \"marker\": {\"color\": \"rgb(213,62,79)\"}, \"name\": \"\\u00bfCu\\u00e1l es tu herramienta habitual de consumo de im\\u00e1genes?=1. M\\u00f3vil\", \"r\": [8, 124, 39, 64, 187], \"showlegend\": true, \"theta\": [\"cluster_1\", \"cluster_2\", \"cluster_3\", \"cluster_4\", \"cluster_5\"], \"type\": \"barpolar\", \"uid\": \"84e77816-d58f-4678-bf88-c891d05b827f\"}, {\"hovertemplate\": \"\\u00bfCu\\u00e1l es tu herramienta habitual de consumo de im\\u00e1genes?=2. Televisi\\u00f3n<br>counts=%{r}<br>prosume_cluster=%{theta}<extra></extra>\", \"legendgroup\": \"\\u00bfCu\\u00e1l es tu herramienta habitual de consumo de im\\u00e1genes?=2. Televisi\\u00f3n\", \"marker\": {\"color\": \"rgb(252,141,89)\"}, \"name\": \"\\u00bfCu\\u00e1l es tu herramienta habitual de consumo de im\\u00e1genes?=2. Televisi\\u00f3n\", \"r\": [6, 14, 4, 5, 22], \"showlegend\": true, \"theta\": [\"cluster_1\", \"cluster_2\", \"cluster_3\", \"cluster_4\", \"cluster_5\"], \"type\": \"barpolar\", \"uid\": \"27f4b219-98bd-4950-94b2-b85f0fec0d00\"}, {\"hovertemplate\": \"\\u00bfCu\\u00e1l es tu herramienta habitual de consumo de im\\u00e1genes?=3. Ordenador<br>counts=%{r}<br>prosume_cluster=%{theta}<extra></extra>\", \"legendgroup\": \"\\u00bfCu\\u00e1l es tu herramienta habitual de consumo de im\\u00e1genes?=3. Ordenador\", \"marker\": {\"color\": \"rgb(254,224,139)\"}, \"name\": \"\\u00bfCu\\u00e1l es tu herramienta habitual de consumo de im\\u00e1genes?=3. Ordenador\", \"r\": [21, 51, 53, 26, 113], \"showlegend\": true, \"theta\": [\"cluster_1\", \"cluster_2\", \"cluster_3\", \"cluster_4\", \"cluster_5\"], \"type\": \"barpolar\", \"uid\": \"06813a74-a84b-447c-8bba-d0c0f23bf28a\"}, {\"hovertemplate\": \"\\u00bfCu\\u00e1l es tu herramienta habitual de consumo de im\\u00e1genes?=4. Tableta<br>counts=%{r}<br>prosume_cluster=%{theta}<extra></extra>\", \"legendgroup\": \"\\u00bfCu\\u00e1l es tu herramienta habitual de consumo de im\\u00e1genes?=4. Tableta\", \"marker\": {\"color\": \"rgb(230,245,152)\"}, \"name\": \"\\u00bfCu\\u00e1l es tu herramienta habitual de consumo de im\\u00e1genes?=4. Tableta\", \"r\": [2, 6, 4, 3, 14], \"showlegend\": true, \"theta\": [\"cluster_1\", \"cluster_2\", \"cluster_3\", \"cluster_4\", \"cluster_5\"], \"type\": \"barpolar\", \"uid\": \"221eb671-2d78-4dc8-9f94-e41bdbcea7fb\"}, {\"hovertemplate\": \"\\u00bfCu\\u00e1l es tu herramienta habitual de consumo de im\\u00e1genes?=5. Otros (Libros y peri\\u00f3dicos en papel, marquesinas, museos...)<br>counts=%{r}<br>prosume_cluster=%{theta}<extra></extra>\", \"legendgroup\": \"\\u00bfCu\\u00e1l es tu herramienta habitual de consumo de im\\u00e1genes?=5. Otros (Libros y peri\\u00f3dicos en papel, marquesinas, museos...)\", \"marker\": {\"color\": \"rgb(153,213,148)\"}, \"name\": \"\\u00bfCu\\u00e1l es tu herramienta habitual de consumo de im\\u00e1genes?=5. Otros (Libros y peri\\u00f3dicos en papel, marquesinas, museos...)\", \"r\": [1], \"showlegend\": true, \"theta\": [\"cluster_2\"], \"type\": \"barpolar\", \"uid\": \"2f924f79-0de6-42b8-ab40-7ff5cac5047d\"}], {\"barmode\": \"group\", \"barnorm\": \"\", \"height\": 600, \"legend\": {\"tracegroupgap\": 0}, \"margin\": {\"t\": 60}, \"template\": {\"data\": {\"barpolar\": [{\"marker\": {\"line\": {\"color\": \"#E5ECF6\", \"width\": 0.5}}, \"type\": \"barpolar\"}], \"bar\": [{\"marker\": {\"line\": {\"color\": \"#E5ECF6\", \"width\": 0.5}}, \"type\": \"bar\"}], \"carpet\": [{\"aaxis\": {\"endlinecolor\": \"#2a3f5f\", \"gridcolor\": \"white\", \"linecolor\": \"white\", \"minorgridcolor\": \"white\", \"startlinecolor\": \"#2a3f5f\"}, \"baxis\": {\"endlinecolor\": \"#2a3f5f\", \"gridcolor\": \"white\", \"linecolor\": \"white\", \"minorgridcolor\": \"white\", \"startlinecolor\": \"#2a3f5f\"}, \"type\": \"carpet\"}], \"choropleth\": [{\"colorbar\": {\"outlinewidth\": 0, \"ticks\": \"\"}, \"type\": \"choropleth\"}], \"contourcarpet\": [{\"colorbar\": {\"outlinewidth\": 0, \"ticks\": \"\"}, \"type\": \"contourcarpet\"}], \"contour\": [{\"autocolorscale\": true, \"colorbar\": {\"outlinewidth\": 0, \"ticks\": \"\"}, \"type\": \"contour\"}], \"heatmapgl\": [{\"colorbar\": {\"outlinewidth\": 0, \"ticks\": \"\"}, \"type\": \"heatmapgl\"}], \"heatmap\": [{\"autocolorscale\": true, \"colorbar\": {\"outlinewidth\": 0, \"ticks\": \"\"}, \"type\": \"heatmap\"}], \"histogram2dcontour\": [{\"autocolorscale\": true, \"colorbar\": {\"outlinewidth\": 0, \"ticks\": \"\"}, \"type\": \"histogram2dcontour\"}], \"histogram2d\": [{\"autocolorscale\": true, \"colorbar\": {\"outlinewidth\": 0, \"ticks\": \"\"}, \"type\": \"histogram2d\"}], \"histogram\": [{\"marker\": {\"colorbar\": {\"outlinewidth\": 0, \"ticks\": \"\"}}, \"type\": \"histogram\"}], \"mesh3d\": [{\"colorbar\": {\"outlinewidth\": 0, \"ticks\": \"\"}, \"type\": \"mesh3d\"}], \"parcoords\": [{\"line\": {\"colorbar\": {\"outlinewidth\": 0, \"ticks\": \"\"}}, \"type\": \"parcoords\"}], \"scatter3d\": [{\"marker\": {\"colorbar\": {\"outlinewidth\": 0, \"ticks\": \"\"}}, \"type\": \"scatter3d\"}], \"scattercarpet\": [{\"marker\": {\"colorbar\": {\"outlinewidth\": 0, \"ticks\": \"\"}}, \"type\": \"scattercarpet\"}], \"scattergeo\": [{\"marker\": {\"colorbar\": {\"outlinewidth\": 0, \"ticks\": \"\"}}, \"type\": \"scattergeo\"}], \"scattergl\": [{\"marker\": {\"colorbar\": {\"outlinewidth\": 0, \"ticks\": \"\"}}, \"type\": \"scattergl\"}], \"scattermapbox\": [{\"marker\": {\"colorbar\": {\"outlinewidth\": 0, \"ticks\": \"\"}}, \"type\": \"scattermapbox\"}], \"scatterpolargl\": [{\"marker\": {\"colorbar\": {\"outlinewidth\": 0, \"ticks\": \"\"}}, \"type\": \"scatterpolargl\"}], \"scatterpolar\": [{\"marker\": {\"colorbar\": {\"outlinewidth\": 0, \"ticks\": \"\"}}, \"type\": \"scatterpolar\"}], \"scatter\": [{\"marker\": {\"colorbar\": {\"outlinewidth\": 0, \"ticks\": \"\"}}, \"type\": \"scatter\"}], \"scatterternary\": [{\"marker\": {\"colorbar\": {\"outlinewidth\": 0, \"ticks\": \"\"}}, \"type\": \"scatterternary\"}], \"surface\": [{\"colorbar\": {\"outlinewidth\": 0, \"ticks\": \"\"}, \"type\": \"surface\"}], \"table\": [{\"cells\": {\"fill\": {\"color\": \"#EBF0F8\"}, \"line\": {\"color\": \"white\"}}, \"header\": {\"fill\": {\"color\": \"#C8D4E3\"}, \"line\": {\"color\": \"white\"}}, \"type\": \"table\"}]}, \"layout\": {\"annotationdefaults\": {\"arrowcolor\": \"#506784\", \"arrowhead\": 0, \"arrowwidth\": 1}, \"colorscale\": {\"diverging\": [[0, \"#8e0152\"], [0.1, \"#c51b7d\"], [0.2, \"#de77ae\"], [0.3, \"#f1b6da\"], [0.4, \"#fde0ef\"], [0.5, \"#f7f7f7\"], [0.6, \"#e6f5d0\"], [0.7, \"#b8e186\"], [0.8, \"#7fbc41\"], [0.9, \"#4d9221\"], [1, \"#276419\"]], \"sequential\": [[0.0, \"#0508b8\"], [0.0893854748603352, \"#1910d8\"], [0.1787709497206704, \"#3c19f0\"], [0.2681564245810056, \"#6b1cfb\"], [0.3575418994413408, \"#981cfd\"], [0.44692737430167595, \"#bf1cfd\"], [0.5363128491620112, \"#dd2bfd\"], [0.6256983240223464, \"#f246fe\"], [0.7150837988826816, \"#fc67fd\"], [0.8044692737430168, \"#fe88fc\"], [0.8938547486033519, \"#fea5fd\"], [0.9832402234636871, \"#febefe\"], [1.0, \"#fec3fe\"]], \"sequentialminus\": [[0.0, \"#0508b8\"], [0.0893854748603352, \"#1910d8\"], [0.1787709497206704, \"#3c19f0\"], [0.2681564245810056, \"#6b1cfb\"], [0.3575418994413408, \"#981cfd\"], [0.44692737430167595, \"#bf1cfd\"], [0.5363128491620112, \"#dd2bfd\"], [0.6256983240223464, \"#f246fe\"], [0.7150837988826816, \"#fc67fd\"], [0.8044692737430168, \"#fe88fc\"], [0.8938547486033519, \"#fea5fd\"], [0.9832402234636871, \"#febefe\"], [1.0, \"#fec3fe\"]]}, \"colorway\": [\"#636efa\", \"#EF553B\", \"#00cc96\", \"#ab63fa\", \"#19d3f3\", \"#e763fa\", \"#FECB52\", \"#FFA15A\", \"#FF6692\", \"#B6E880\"], \"font\": {\"color\": \"#2a3f5f\"}, \"geo\": {\"bgcolor\": \"white\", \"lakecolor\": \"white\", \"landcolor\": \"#E5ECF6\", \"showlakes\": true, \"showland\": true, \"subunitcolor\": \"white\"}, \"hovermode\": \"closest\", \"mapbox\": {\"style\": \"light\"}, \"paper_bgcolor\": \"white\", \"plot_bgcolor\": \"#E5ECF6\", \"polar\": {\"angularaxis\": {\"gridcolor\": \"white\", \"linecolor\": \"white\", \"ticks\": \"\"}, \"bgcolor\": \"#E5ECF6\", \"radialaxis\": {\"gridcolor\": \"white\", \"linecolor\": \"white\", \"ticks\": \"\"}}, \"scene\": {\"xaxis\": {\"backgroundcolor\": \"#E5ECF6\", \"gridcolor\": \"white\", \"gridwidth\": 2, \"linecolor\": \"white\", \"showbackground\": true, \"ticks\": \"\", \"zerolinecolor\": \"white\"}, \"yaxis\": {\"backgroundcolor\": \"#E5ECF6\", \"gridcolor\": \"white\", \"gridwidth\": 2, \"linecolor\": \"white\", \"showbackground\": true, \"ticks\": \"\", \"zerolinecolor\": \"white\"}, \"zaxis\": {\"backgroundcolor\": \"#E5ECF6\", \"gridcolor\": \"white\", \"gridwidth\": 2, \"linecolor\": \"white\", \"showbackground\": true, \"ticks\": \"\", \"zerolinecolor\": \"white\"}}, \"shapedefaults\": {\"fillcolor\": \"#506784\", \"line\": {\"width\": 0}, \"opacity\": 0.4}, \"ternary\": {\"aaxis\": {\"gridcolor\": \"white\", \"linecolor\": \"white\", \"ticks\": \"\"}, \"baxis\": {\"gridcolor\": \"white\", \"linecolor\": \"white\", \"ticks\": \"\"}, \"bgcolor\": \"#E5ECF6\", \"caxis\": {\"gridcolor\": \"white\", \"linecolor\": \"white\", \"ticks\": \"\"}}, \"title\": {\"x\": 0.05}, \"xaxis\": {\"automargin\": true, \"gridcolor\": \"white\", \"linecolor\": \"white\", \"ticks\": \"\", \"zerolinecolor\": \"white\", \"zerolinewidth\": 2}, \"yaxis\": {\"automargin\": true, \"gridcolor\": \"white\", \"linecolor\": \"white\", \"ticks\": \"\", \"zerolinecolor\": \"white\", \"zerolinewidth\": 2}}}, \"polar\": {\"angularaxis\": {\"direction\": \"clockwise\", \"rotation\": 90}}}, {\"showLink\": false, \"linkText\": \"Export to plot.ly\", \"plotlyServerURL\": \"https://plot.ly\"}); \n",
       "}\n",
       "});</script><script type=\"text/javascript\">window.addEventListener(\"resize\", function(){if (document.getElementById(\"7e9449f9-dd9e-44b8-aeb2-1d7363b72f43\")) {window._Plotly.Plots.resize(document.getElementById(\"7e9449f9-dd9e-44b8-aeb2-1d7363b72f43\"));};})</script>"
      ],
      "text/vnd.plotly.v1+html": [
       "<div id=\"7e9449f9-dd9e-44b8-aeb2-1d7363b72f43\" style=\"height: 600px; width: 100%;\" class=\"plotly-graph-div\"></div><script type=\"text/javascript\">require([\"plotly\"], function(Plotly) { window.PLOTLYENV=window.PLOTLYENV || {};window.PLOTLYENV.BASE_URL=\"https://plot.ly\";\n",
       "if (document.getElementById(\"7e9449f9-dd9e-44b8-aeb2-1d7363b72f43\")) {\n",
       "    Plotly.newPlot(\"7e9449f9-dd9e-44b8-aeb2-1d7363b72f43\", [{\"hovertemplate\": \"\\u00bfCu\\u00e1l es tu herramienta habitual de consumo de im\\u00e1genes?=1. M\\u00f3vil<br>counts=%{r}<br>prosume_cluster=%{theta}<extra></extra>\", \"legendgroup\": \"\\u00bfCu\\u00e1l es tu herramienta habitual de consumo de im\\u00e1genes?=1. M\\u00f3vil\", \"marker\": {\"color\": \"rgb(213,62,79)\"}, \"name\": \"\\u00bfCu\\u00e1l es tu herramienta habitual de consumo de im\\u00e1genes?=1. M\\u00f3vil\", \"r\": [8, 124, 39, 64, 187], \"showlegend\": true, \"theta\": [\"cluster_1\", \"cluster_2\", \"cluster_3\", \"cluster_4\", \"cluster_5\"], \"type\": \"barpolar\", \"uid\": \"84e77816-d58f-4678-bf88-c891d05b827f\"}, {\"hovertemplate\": \"\\u00bfCu\\u00e1l es tu herramienta habitual de consumo de im\\u00e1genes?=2. Televisi\\u00f3n<br>counts=%{r}<br>prosume_cluster=%{theta}<extra></extra>\", \"legendgroup\": \"\\u00bfCu\\u00e1l es tu herramienta habitual de consumo de im\\u00e1genes?=2. Televisi\\u00f3n\", \"marker\": {\"color\": \"rgb(252,141,89)\"}, \"name\": \"\\u00bfCu\\u00e1l es tu herramienta habitual de consumo de im\\u00e1genes?=2. Televisi\\u00f3n\", \"r\": [6, 14, 4, 5, 22], \"showlegend\": true, \"theta\": [\"cluster_1\", \"cluster_2\", \"cluster_3\", \"cluster_4\", \"cluster_5\"], \"type\": \"barpolar\", \"uid\": \"27f4b219-98bd-4950-94b2-b85f0fec0d00\"}, {\"hovertemplate\": \"\\u00bfCu\\u00e1l es tu herramienta habitual de consumo de im\\u00e1genes?=3. Ordenador<br>counts=%{r}<br>prosume_cluster=%{theta}<extra></extra>\", \"legendgroup\": \"\\u00bfCu\\u00e1l es tu herramienta habitual de consumo de im\\u00e1genes?=3. Ordenador\", \"marker\": {\"color\": \"rgb(254,224,139)\"}, \"name\": \"\\u00bfCu\\u00e1l es tu herramienta habitual de consumo de im\\u00e1genes?=3. Ordenador\", \"r\": [21, 51, 53, 26, 113], \"showlegend\": true, \"theta\": [\"cluster_1\", \"cluster_2\", \"cluster_3\", \"cluster_4\", \"cluster_5\"], \"type\": \"barpolar\", \"uid\": \"06813a74-a84b-447c-8bba-d0c0f23bf28a\"}, {\"hovertemplate\": \"\\u00bfCu\\u00e1l es tu herramienta habitual de consumo de im\\u00e1genes?=4. Tableta<br>counts=%{r}<br>prosume_cluster=%{theta}<extra></extra>\", \"legendgroup\": \"\\u00bfCu\\u00e1l es tu herramienta habitual de consumo de im\\u00e1genes?=4. Tableta\", \"marker\": {\"color\": \"rgb(230,245,152)\"}, \"name\": \"\\u00bfCu\\u00e1l es tu herramienta habitual de consumo de im\\u00e1genes?=4. Tableta\", \"r\": [2, 6, 4, 3, 14], \"showlegend\": true, \"theta\": [\"cluster_1\", \"cluster_2\", \"cluster_3\", \"cluster_4\", \"cluster_5\"], \"type\": \"barpolar\", \"uid\": \"221eb671-2d78-4dc8-9f94-e41bdbcea7fb\"}, {\"hovertemplate\": \"\\u00bfCu\\u00e1l es tu herramienta habitual de consumo de im\\u00e1genes?=5. Otros (Libros y peri\\u00f3dicos en papel, marquesinas, museos...)<br>counts=%{r}<br>prosume_cluster=%{theta}<extra></extra>\", \"legendgroup\": \"\\u00bfCu\\u00e1l es tu herramienta habitual de consumo de im\\u00e1genes?=5. Otros (Libros y peri\\u00f3dicos en papel, marquesinas, museos...)\", \"marker\": {\"color\": \"rgb(153,213,148)\"}, \"name\": \"\\u00bfCu\\u00e1l es tu herramienta habitual de consumo de im\\u00e1genes?=5. Otros (Libros y peri\\u00f3dicos en papel, marquesinas, museos...)\", \"r\": [1], \"showlegend\": true, \"theta\": [\"cluster_2\"], \"type\": \"barpolar\", \"uid\": \"2f924f79-0de6-42b8-ab40-7ff5cac5047d\"}], {\"barmode\": \"group\", \"barnorm\": \"\", \"height\": 600, \"legend\": {\"tracegroupgap\": 0}, \"margin\": {\"t\": 60}, \"template\": {\"data\": {\"barpolar\": [{\"marker\": {\"line\": {\"color\": \"#E5ECF6\", \"width\": 0.5}}, \"type\": \"barpolar\"}], \"bar\": [{\"marker\": {\"line\": {\"color\": \"#E5ECF6\", \"width\": 0.5}}, \"type\": \"bar\"}], \"carpet\": [{\"aaxis\": {\"endlinecolor\": \"#2a3f5f\", \"gridcolor\": \"white\", \"linecolor\": \"white\", \"minorgridcolor\": \"white\", \"startlinecolor\": \"#2a3f5f\"}, \"baxis\": {\"endlinecolor\": \"#2a3f5f\", \"gridcolor\": \"white\", \"linecolor\": \"white\", \"minorgridcolor\": \"white\", \"startlinecolor\": \"#2a3f5f\"}, \"type\": \"carpet\"}], \"choropleth\": [{\"colorbar\": {\"outlinewidth\": 0, \"ticks\": \"\"}, \"type\": \"choropleth\"}], \"contourcarpet\": [{\"colorbar\": {\"outlinewidth\": 0, \"ticks\": \"\"}, \"type\": \"contourcarpet\"}], \"contour\": [{\"autocolorscale\": true, \"colorbar\": {\"outlinewidth\": 0, \"ticks\": \"\"}, \"type\": \"contour\"}], \"heatmapgl\": [{\"colorbar\": {\"outlinewidth\": 0, \"ticks\": \"\"}, \"type\": \"heatmapgl\"}], \"heatmap\": [{\"autocolorscale\": true, \"colorbar\": {\"outlinewidth\": 0, \"ticks\": \"\"}, \"type\": \"heatmap\"}], \"histogram2dcontour\": [{\"autocolorscale\": true, \"colorbar\": {\"outlinewidth\": 0, \"ticks\": \"\"}, \"type\": \"histogram2dcontour\"}], \"histogram2d\": [{\"autocolorscale\": true, \"colorbar\": {\"outlinewidth\": 0, \"ticks\": \"\"}, \"type\": \"histogram2d\"}], \"histogram\": [{\"marker\": {\"colorbar\": {\"outlinewidth\": 0, \"ticks\": \"\"}}, \"type\": \"histogram\"}], \"mesh3d\": [{\"colorbar\": {\"outlinewidth\": 0, \"ticks\": \"\"}, \"type\": \"mesh3d\"}], \"parcoords\": [{\"line\": {\"colorbar\": {\"outlinewidth\": 0, \"ticks\": \"\"}}, \"type\": \"parcoords\"}], \"scatter3d\": [{\"marker\": {\"colorbar\": {\"outlinewidth\": 0, \"ticks\": \"\"}}, \"type\": \"scatter3d\"}], \"scattercarpet\": [{\"marker\": {\"colorbar\": {\"outlinewidth\": 0, \"ticks\": \"\"}}, \"type\": \"scattercarpet\"}], \"scattergeo\": [{\"marker\": {\"colorbar\": {\"outlinewidth\": 0, \"ticks\": \"\"}}, \"type\": \"scattergeo\"}], \"scattergl\": [{\"marker\": {\"colorbar\": {\"outlinewidth\": 0, \"ticks\": \"\"}}, \"type\": \"scattergl\"}], \"scattermapbox\": [{\"marker\": {\"colorbar\": {\"outlinewidth\": 0, \"ticks\": \"\"}}, \"type\": \"scattermapbox\"}], \"scatterpolargl\": [{\"marker\": {\"colorbar\": {\"outlinewidth\": 0, \"ticks\": \"\"}}, \"type\": \"scatterpolargl\"}], \"scatterpolar\": [{\"marker\": {\"colorbar\": {\"outlinewidth\": 0, \"ticks\": \"\"}}, \"type\": \"scatterpolar\"}], \"scatter\": [{\"marker\": {\"colorbar\": {\"outlinewidth\": 0, \"ticks\": \"\"}}, \"type\": \"scatter\"}], \"scatterternary\": [{\"marker\": {\"colorbar\": {\"outlinewidth\": 0, \"ticks\": \"\"}}, \"type\": \"scatterternary\"}], \"surface\": [{\"colorbar\": {\"outlinewidth\": 0, \"ticks\": \"\"}, \"type\": \"surface\"}], \"table\": [{\"cells\": {\"fill\": {\"color\": \"#EBF0F8\"}, \"line\": {\"color\": \"white\"}}, \"header\": {\"fill\": {\"color\": \"#C8D4E3\"}, \"line\": {\"color\": \"white\"}}, \"type\": \"table\"}]}, \"layout\": {\"annotationdefaults\": {\"arrowcolor\": \"#506784\", \"arrowhead\": 0, \"arrowwidth\": 1}, \"colorscale\": {\"diverging\": [[0, \"#8e0152\"], [0.1, \"#c51b7d\"], [0.2, \"#de77ae\"], [0.3, \"#f1b6da\"], [0.4, \"#fde0ef\"], [0.5, \"#f7f7f7\"], [0.6, \"#e6f5d0\"], [0.7, \"#b8e186\"], [0.8, \"#7fbc41\"], [0.9, \"#4d9221\"], [1, \"#276419\"]], \"sequential\": [[0.0, \"#0508b8\"], [0.0893854748603352, \"#1910d8\"], [0.1787709497206704, \"#3c19f0\"], [0.2681564245810056, \"#6b1cfb\"], [0.3575418994413408, \"#981cfd\"], [0.44692737430167595, \"#bf1cfd\"], [0.5363128491620112, \"#dd2bfd\"], [0.6256983240223464, \"#f246fe\"], [0.7150837988826816, \"#fc67fd\"], [0.8044692737430168, \"#fe88fc\"], [0.8938547486033519, \"#fea5fd\"], [0.9832402234636871, \"#febefe\"], [1.0, \"#fec3fe\"]], \"sequentialminus\": [[0.0, \"#0508b8\"], [0.0893854748603352, \"#1910d8\"], [0.1787709497206704, \"#3c19f0\"], [0.2681564245810056, \"#6b1cfb\"], [0.3575418994413408, \"#981cfd\"], [0.44692737430167595, \"#bf1cfd\"], [0.5363128491620112, \"#dd2bfd\"], [0.6256983240223464, \"#f246fe\"], [0.7150837988826816, \"#fc67fd\"], [0.8044692737430168, \"#fe88fc\"], [0.8938547486033519, \"#fea5fd\"], [0.9832402234636871, \"#febefe\"], [1.0, \"#fec3fe\"]]}, \"colorway\": [\"#636efa\", \"#EF553B\", \"#00cc96\", \"#ab63fa\", \"#19d3f3\", \"#e763fa\", \"#FECB52\", \"#FFA15A\", \"#FF6692\", \"#B6E880\"], \"font\": {\"color\": \"#2a3f5f\"}, \"geo\": {\"bgcolor\": \"white\", \"lakecolor\": \"white\", \"landcolor\": \"#E5ECF6\", \"showlakes\": true, \"showland\": true, \"subunitcolor\": \"white\"}, \"hovermode\": \"closest\", \"mapbox\": {\"style\": \"light\"}, \"paper_bgcolor\": \"white\", \"plot_bgcolor\": \"#E5ECF6\", \"polar\": {\"angularaxis\": {\"gridcolor\": \"white\", \"linecolor\": \"white\", \"ticks\": \"\"}, \"bgcolor\": \"#E5ECF6\", \"radialaxis\": {\"gridcolor\": \"white\", \"linecolor\": \"white\", \"ticks\": \"\"}}, \"scene\": {\"xaxis\": {\"backgroundcolor\": \"#E5ECF6\", \"gridcolor\": \"white\", \"gridwidth\": 2, \"linecolor\": \"white\", \"showbackground\": true, \"ticks\": \"\", \"zerolinecolor\": \"white\"}, \"yaxis\": {\"backgroundcolor\": \"#E5ECF6\", \"gridcolor\": \"white\", \"gridwidth\": 2, \"linecolor\": \"white\", \"showbackground\": true, \"ticks\": \"\", \"zerolinecolor\": \"white\"}, \"zaxis\": {\"backgroundcolor\": \"#E5ECF6\", \"gridcolor\": \"white\", \"gridwidth\": 2, \"linecolor\": \"white\", \"showbackground\": true, \"ticks\": \"\", \"zerolinecolor\": \"white\"}}, \"shapedefaults\": {\"fillcolor\": \"#506784\", \"line\": {\"width\": 0}, \"opacity\": 0.4}, \"ternary\": {\"aaxis\": {\"gridcolor\": \"white\", \"linecolor\": \"white\", \"ticks\": \"\"}, \"baxis\": {\"gridcolor\": \"white\", \"linecolor\": \"white\", \"ticks\": \"\"}, \"bgcolor\": \"#E5ECF6\", \"caxis\": {\"gridcolor\": \"white\", \"linecolor\": \"white\", \"ticks\": \"\"}}, \"title\": {\"x\": 0.05}, \"xaxis\": {\"automargin\": true, \"gridcolor\": \"white\", \"linecolor\": \"white\", \"ticks\": \"\", \"zerolinecolor\": \"white\", \"zerolinewidth\": 2}, \"yaxis\": {\"automargin\": true, \"gridcolor\": \"white\", \"linecolor\": \"white\", \"ticks\": \"\", \"zerolinecolor\": \"white\", \"zerolinewidth\": 2}}}, \"polar\": {\"angularaxis\": {\"direction\": \"clockwise\", \"rotation\": 90}}}, {\"showLink\": false, \"linkText\": \"Export to plot.ly\", \"plotlyServerURL\": \"https://plot.ly\"}); \n",
       "}\n",
       "});</script><script type=\"text/javascript\">window.addEventListener(\"resize\", function(){if (document.getElementById(\"7e9449f9-dd9e-44b8-aeb2-1d7363b72f43\")) {window._Plotly.Plots.resize(document.getElementById(\"7e9449f9-dd9e-44b8-aeb2-1d7363b72f43\"));};})</script>"
      ]
     },
     "metadata": {},
     "output_type": "display_data"
    },
    {
     "name": "stdout",
     "output_type": "stream",
     "text": [
      "Comparando la pregunta ¿Cada cuánto tiempo consumes imágenes?\n"
     ]
    },
    {
     "data": {
      "application/vnd.plotly.v1+json": {
       "config": {
        "linkText": "Export to plot.ly",
        "plotlyServerURL": "https://plot.ly",
        "showLink": false
       },
       "data": [
        {
         "hovertemplate": "¿Cada cuánto tiempo consumes imágenes?=1. Nunca<br>counts=%{r}<br>prosume_cluster=%{theta}<extra></extra>",
         "legendgroup": "¿Cada cuánto tiempo consumes imágenes?=1. Nunca",
         "marker": {
          "color": "rgb(213,62,79)"
         },
         "name": "¿Cada cuánto tiempo consumes imágenes?=1. Nunca",
         "r": [
          3,
          10
         ],
         "showlegend": true,
         "theta": [
          "cluster_1",
          "cluster_2"
         ],
         "type": "barpolar",
         "uid": "0298d0be-d6ce-45d5-af2d-abd52724e925"
        },
        {
         "hovertemplate": "¿Cada cuánto tiempo consumes imágenes?=2. Dos o tres veces por semana<br>counts=%{r}<br>prosume_cluster=%{theta}<extra></extra>",
         "legendgroup": "¿Cada cuánto tiempo consumes imágenes?=2. Dos o tres veces por semana",
         "marker": {
          "color": "rgb(252,141,89)"
         },
         "name": "¿Cada cuánto tiempo consumes imágenes?=2. Dos o tres veces por semana",
         "r": [
          21,
          51,
          10,
          3,
          16
         ],
         "showlegend": true,
         "theta": [
          "cluster_1",
          "cluster_2",
          "cluster_3",
          "cluster_4",
          "cluster_5"
         ],
         "type": "barpolar",
         "uid": "c965fd6a-deb2-4289-854a-71772a3dd6b5"
        },
        {
         "hovertemplate": "¿Cada cuánto tiempo consumes imágenes?=3. Casi todos los días<br>counts=%{r}<br>prosume_cluster=%{theta}<extra></extra>",
         "legendgroup": "¿Cada cuánto tiempo consumes imágenes?=3. Casi todos los días",
         "marker": {
          "color": "rgb(254,224,139)"
         },
         "name": "¿Cada cuánto tiempo consumes imágenes?=3. Casi todos los días",
         "r": [
          12,
          68,
          52,
          17,
          71
         ],
         "showlegend": true,
         "theta": [
          "cluster_1",
          "cluster_2",
          "cluster_3",
          "cluster_4",
          "cluster_5"
         ],
         "type": "barpolar",
         "uid": "ca8c7378-8066-4e25-a33f-293982a98611"
        },
        {
         "hovertemplate": "¿Cada cuánto tiempo consumes imágenes?=4. A diario<br>counts=%{r}<br>prosume_cluster=%{theta}<extra></extra>",
         "legendgroup": "¿Cada cuánto tiempo consumes imágenes?=4. A diario",
         "marker": {
          "color": "rgb(230,245,152)"
         },
         "name": "¿Cada cuánto tiempo consumes imágenes?=4. A diario",
         "r": [
          1,
          67,
          38,
          78,
          249
         ],
         "showlegend": true,
         "theta": [
          "cluster_1",
          "cluster_2",
          "cluster_3",
          "cluster_4",
          "cluster_5"
         ],
         "type": "barpolar",
         "uid": "525c332e-1f70-49f3-b814-755c0844afc6"
        }
       ],
       "layout": {
        "barmode": "group",
        "barnorm": "",
        "height": 600,
        "legend": {
         "tracegroupgap": 0
        },
        "margin": {
         "t": 60
        },
        "polar": {
         "angularaxis": {
          "direction": "clockwise",
          "rotation": 90
         }
        },
        "template": {
         "data": {
          "bar": [
           {
            "marker": {
             "line": {
              "color": "#E5ECF6",
              "width": 0.5
             }
            },
            "type": "bar"
           }
          ],
          "barpolar": [
           {
            "marker": {
             "line": {
              "color": "#E5ECF6",
              "width": 0.5
             }
            },
            "type": "barpolar"
           }
          ],
          "carpet": [
           {
            "aaxis": {
             "endlinecolor": "#2a3f5f",
             "gridcolor": "white",
             "linecolor": "white",
             "minorgridcolor": "white",
             "startlinecolor": "#2a3f5f"
            },
            "baxis": {
             "endlinecolor": "#2a3f5f",
             "gridcolor": "white",
             "linecolor": "white",
             "minorgridcolor": "white",
             "startlinecolor": "#2a3f5f"
            },
            "type": "carpet"
           }
          ],
          "choropleth": [
           {
            "colorbar": {
             "outlinewidth": 0,
             "ticks": ""
            },
            "type": "choropleth"
           }
          ],
          "contour": [
           {
            "autocolorscale": true,
            "colorbar": {
             "outlinewidth": 0,
             "ticks": ""
            },
            "type": "contour"
           }
          ],
          "contourcarpet": [
           {
            "colorbar": {
             "outlinewidth": 0,
             "ticks": ""
            },
            "type": "contourcarpet"
           }
          ],
          "heatmap": [
           {
            "autocolorscale": true,
            "colorbar": {
             "outlinewidth": 0,
             "ticks": ""
            },
            "type": "heatmap"
           }
          ],
          "heatmapgl": [
           {
            "colorbar": {
             "outlinewidth": 0,
             "ticks": ""
            },
            "type": "heatmapgl"
           }
          ],
          "histogram": [
           {
            "marker": {
             "colorbar": {
              "outlinewidth": 0,
              "ticks": ""
             }
            },
            "type": "histogram"
           }
          ],
          "histogram2d": [
           {
            "autocolorscale": true,
            "colorbar": {
             "outlinewidth": 0,
             "ticks": ""
            },
            "type": "histogram2d"
           }
          ],
          "histogram2dcontour": [
           {
            "autocolorscale": true,
            "colorbar": {
             "outlinewidth": 0,
             "ticks": ""
            },
            "type": "histogram2dcontour"
           }
          ],
          "mesh3d": [
           {
            "colorbar": {
             "outlinewidth": 0,
             "ticks": ""
            },
            "type": "mesh3d"
           }
          ],
          "parcoords": [
           {
            "line": {
             "colorbar": {
              "outlinewidth": 0,
              "ticks": ""
             }
            },
            "type": "parcoords"
           }
          ],
          "scatter": [
           {
            "marker": {
             "colorbar": {
              "outlinewidth": 0,
              "ticks": ""
             }
            },
            "type": "scatter"
           }
          ],
          "scatter3d": [
           {
            "marker": {
             "colorbar": {
              "outlinewidth": 0,
              "ticks": ""
             }
            },
            "type": "scatter3d"
           }
          ],
          "scattercarpet": [
           {
            "marker": {
             "colorbar": {
              "outlinewidth": 0,
              "ticks": ""
             }
            },
            "type": "scattercarpet"
           }
          ],
          "scattergeo": [
           {
            "marker": {
             "colorbar": {
              "outlinewidth": 0,
              "ticks": ""
             }
            },
            "type": "scattergeo"
           }
          ],
          "scattergl": [
           {
            "marker": {
             "colorbar": {
              "outlinewidth": 0,
              "ticks": ""
             }
            },
            "type": "scattergl"
           }
          ],
          "scattermapbox": [
           {
            "marker": {
             "colorbar": {
              "outlinewidth": 0,
              "ticks": ""
             }
            },
            "type": "scattermapbox"
           }
          ],
          "scatterpolar": [
           {
            "marker": {
             "colorbar": {
              "outlinewidth": 0,
              "ticks": ""
             }
            },
            "type": "scatterpolar"
           }
          ],
          "scatterpolargl": [
           {
            "marker": {
             "colorbar": {
              "outlinewidth": 0,
              "ticks": ""
             }
            },
            "type": "scatterpolargl"
           }
          ],
          "scatterternary": [
           {
            "marker": {
             "colorbar": {
              "outlinewidth": 0,
              "ticks": ""
             }
            },
            "type": "scatterternary"
           }
          ],
          "surface": [
           {
            "colorbar": {
             "outlinewidth": 0,
             "ticks": ""
            },
            "type": "surface"
           }
          ],
          "table": [
           {
            "cells": {
             "fill": {
              "color": "#EBF0F8"
             },
             "line": {
              "color": "white"
             }
            },
            "header": {
             "fill": {
              "color": "#C8D4E3"
             },
             "line": {
              "color": "white"
             }
            },
            "type": "table"
           }
          ]
         },
         "layout": {
          "annotationdefaults": {
           "arrowcolor": "#506784",
           "arrowhead": 0,
           "arrowwidth": 1
          },
          "colorscale": {
           "diverging": [
            [
             0,
             "#8e0152"
            ],
            [
             0.1,
             "#c51b7d"
            ],
            [
             0.2,
             "#de77ae"
            ],
            [
             0.3,
             "#f1b6da"
            ],
            [
             0.4,
             "#fde0ef"
            ],
            [
             0.5,
             "#f7f7f7"
            ],
            [
             0.6,
             "#e6f5d0"
            ],
            [
             0.7,
             "#b8e186"
            ],
            [
             0.8,
             "#7fbc41"
            ],
            [
             0.9,
             "#4d9221"
            ],
            [
             1,
             "#276419"
            ]
           ],
           "sequential": [
            [
             0,
             "#0508b8"
            ],
            [
             0.0893854748603352,
             "#1910d8"
            ],
            [
             0.1787709497206704,
             "#3c19f0"
            ],
            [
             0.2681564245810056,
             "#6b1cfb"
            ],
            [
             0.3575418994413408,
             "#981cfd"
            ],
            [
             0.44692737430167595,
             "#bf1cfd"
            ],
            [
             0.5363128491620112,
             "#dd2bfd"
            ],
            [
             0.6256983240223464,
             "#f246fe"
            ],
            [
             0.7150837988826816,
             "#fc67fd"
            ],
            [
             0.8044692737430168,
             "#fe88fc"
            ],
            [
             0.8938547486033519,
             "#fea5fd"
            ],
            [
             0.9832402234636871,
             "#febefe"
            ],
            [
             1,
             "#fec3fe"
            ]
           ],
           "sequentialminus": [
            [
             0,
             "#0508b8"
            ],
            [
             0.0893854748603352,
             "#1910d8"
            ],
            [
             0.1787709497206704,
             "#3c19f0"
            ],
            [
             0.2681564245810056,
             "#6b1cfb"
            ],
            [
             0.3575418994413408,
             "#981cfd"
            ],
            [
             0.44692737430167595,
             "#bf1cfd"
            ],
            [
             0.5363128491620112,
             "#dd2bfd"
            ],
            [
             0.6256983240223464,
             "#f246fe"
            ],
            [
             0.7150837988826816,
             "#fc67fd"
            ],
            [
             0.8044692737430168,
             "#fe88fc"
            ],
            [
             0.8938547486033519,
             "#fea5fd"
            ],
            [
             0.9832402234636871,
             "#febefe"
            ],
            [
             1,
             "#fec3fe"
            ]
           ]
          },
          "colorway": [
           "#636efa",
           "#EF553B",
           "#00cc96",
           "#ab63fa",
           "#19d3f3",
           "#e763fa",
           "#FECB52",
           "#FFA15A",
           "#FF6692",
           "#B6E880"
          ],
          "font": {
           "color": "#2a3f5f"
          },
          "geo": {
           "bgcolor": "white",
           "lakecolor": "white",
           "landcolor": "#E5ECF6",
           "showlakes": true,
           "showland": true,
           "subunitcolor": "white"
          },
          "hovermode": "closest",
          "mapbox": {
           "style": "light"
          },
          "paper_bgcolor": "white",
          "plot_bgcolor": "#E5ECF6",
          "polar": {
           "angularaxis": {
            "gridcolor": "white",
            "linecolor": "white",
            "ticks": ""
           },
           "bgcolor": "#E5ECF6",
           "radialaxis": {
            "gridcolor": "white",
            "linecolor": "white",
            "ticks": ""
           }
          },
          "scene": {
           "xaxis": {
            "backgroundcolor": "#E5ECF6",
            "gridcolor": "white",
            "gridwidth": 2,
            "linecolor": "white",
            "showbackground": true,
            "ticks": "",
            "zerolinecolor": "white"
           },
           "yaxis": {
            "backgroundcolor": "#E5ECF6",
            "gridcolor": "white",
            "gridwidth": 2,
            "linecolor": "white",
            "showbackground": true,
            "ticks": "",
            "zerolinecolor": "white"
           },
           "zaxis": {
            "backgroundcolor": "#E5ECF6",
            "gridcolor": "white",
            "gridwidth": 2,
            "linecolor": "white",
            "showbackground": true,
            "ticks": "",
            "zerolinecolor": "white"
           }
          },
          "shapedefaults": {
           "fillcolor": "#506784",
           "line": {
            "width": 0
           },
           "opacity": 0.4
          },
          "ternary": {
           "aaxis": {
            "gridcolor": "white",
            "linecolor": "white",
            "ticks": ""
           },
           "baxis": {
            "gridcolor": "white",
            "linecolor": "white",
            "ticks": ""
           },
           "bgcolor": "#E5ECF6",
           "caxis": {
            "gridcolor": "white",
            "linecolor": "white",
            "ticks": ""
           }
          },
          "title": {
           "x": 0.05
          },
          "xaxis": {
           "automargin": true,
           "gridcolor": "white",
           "linecolor": "white",
           "ticks": "",
           "zerolinecolor": "white",
           "zerolinewidth": 2
          },
          "yaxis": {
           "automargin": true,
           "gridcolor": "white",
           "linecolor": "white",
           "ticks": "",
           "zerolinecolor": "white",
           "zerolinewidth": 2
          }
         }
        }
       }
      },
      "text/html": [
       "<div id=\"34158b11-512b-4b42-8a66-d0baa7af1030\" style=\"height: 600px; width: 100%;\" class=\"plotly-graph-div\"></div><script type=\"text/javascript\">require([\"plotly\"], function(Plotly) { window.PLOTLYENV=window.PLOTLYENV || {};window.PLOTLYENV.BASE_URL=\"https://plot.ly\";\n",
       "if (document.getElementById(\"34158b11-512b-4b42-8a66-d0baa7af1030\")) {\n",
       "    Plotly.newPlot(\"34158b11-512b-4b42-8a66-d0baa7af1030\", [{\"hovertemplate\": \"\\u00bfCada cu\\u00e1nto tiempo consumes im\\u00e1genes?=1. Nunca<br>counts=%{r}<br>prosume_cluster=%{theta}<extra></extra>\", \"legendgroup\": \"\\u00bfCada cu\\u00e1nto tiempo consumes im\\u00e1genes?=1. Nunca\", \"marker\": {\"color\": \"rgb(213,62,79)\"}, \"name\": \"\\u00bfCada cu\\u00e1nto tiempo consumes im\\u00e1genes?=1. Nunca\", \"r\": [3, 10], \"showlegend\": true, \"theta\": [\"cluster_1\", \"cluster_2\"], \"type\": \"barpolar\", \"uid\": \"0298d0be-d6ce-45d5-af2d-abd52724e925\"}, {\"hovertemplate\": \"\\u00bfCada cu\\u00e1nto tiempo consumes im\\u00e1genes?=2. Dos o tres veces por semana<br>counts=%{r}<br>prosume_cluster=%{theta}<extra></extra>\", \"legendgroup\": \"\\u00bfCada cu\\u00e1nto tiempo consumes im\\u00e1genes?=2. Dos o tres veces por semana\", \"marker\": {\"color\": \"rgb(252,141,89)\"}, \"name\": \"\\u00bfCada cu\\u00e1nto tiempo consumes im\\u00e1genes?=2. Dos o tres veces por semana\", \"r\": [21, 51, 10, 3, 16], \"showlegend\": true, \"theta\": [\"cluster_1\", \"cluster_2\", \"cluster_3\", \"cluster_4\", \"cluster_5\"], \"type\": \"barpolar\", \"uid\": \"c965fd6a-deb2-4289-854a-71772a3dd6b5\"}, {\"hovertemplate\": \"\\u00bfCada cu\\u00e1nto tiempo consumes im\\u00e1genes?=3. Casi todos los d\\u00edas<br>counts=%{r}<br>prosume_cluster=%{theta}<extra></extra>\", \"legendgroup\": \"\\u00bfCada cu\\u00e1nto tiempo consumes im\\u00e1genes?=3. Casi todos los d\\u00edas\", \"marker\": {\"color\": \"rgb(254,224,139)\"}, \"name\": \"\\u00bfCada cu\\u00e1nto tiempo consumes im\\u00e1genes?=3. Casi todos los d\\u00edas\", \"r\": [12, 68, 52, 17, 71], \"showlegend\": true, \"theta\": [\"cluster_1\", \"cluster_2\", \"cluster_3\", \"cluster_4\", \"cluster_5\"], \"type\": \"barpolar\", \"uid\": \"ca8c7378-8066-4e25-a33f-293982a98611\"}, {\"hovertemplate\": \"\\u00bfCada cu\\u00e1nto tiempo consumes im\\u00e1genes?=4. A diario<br>counts=%{r}<br>prosume_cluster=%{theta}<extra></extra>\", \"legendgroup\": \"\\u00bfCada cu\\u00e1nto tiempo consumes im\\u00e1genes?=4. A diario\", \"marker\": {\"color\": \"rgb(230,245,152)\"}, \"name\": \"\\u00bfCada cu\\u00e1nto tiempo consumes im\\u00e1genes?=4. A diario\", \"r\": [1, 67, 38, 78, 249], \"showlegend\": true, \"theta\": [\"cluster_1\", \"cluster_2\", \"cluster_3\", \"cluster_4\", \"cluster_5\"], \"type\": \"barpolar\", \"uid\": \"525c332e-1f70-49f3-b814-755c0844afc6\"}], {\"barmode\": \"group\", \"barnorm\": \"\", \"height\": 600, \"legend\": {\"tracegroupgap\": 0}, \"margin\": {\"t\": 60}, \"template\": {\"data\": {\"barpolar\": [{\"marker\": {\"line\": {\"color\": \"#E5ECF6\", \"width\": 0.5}}, \"type\": \"barpolar\"}], \"bar\": [{\"marker\": {\"line\": {\"color\": \"#E5ECF6\", \"width\": 0.5}}, \"type\": \"bar\"}], \"carpet\": [{\"aaxis\": {\"endlinecolor\": \"#2a3f5f\", \"gridcolor\": \"white\", \"linecolor\": \"white\", \"minorgridcolor\": \"white\", \"startlinecolor\": \"#2a3f5f\"}, \"baxis\": {\"endlinecolor\": \"#2a3f5f\", \"gridcolor\": \"white\", \"linecolor\": \"white\", \"minorgridcolor\": \"white\", \"startlinecolor\": \"#2a3f5f\"}, \"type\": \"carpet\"}], \"choropleth\": [{\"colorbar\": {\"outlinewidth\": 0, \"ticks\": \"\"}, \"type\": \"choropleth\"}], \"contourcarpet\": [{\"colorbar\": {\"outlinewidth\": 0, \"ticks\": \"\"}, \"type\": \"contourcarpet\"}], \"contour\": [{\"autocolorscale\": true, \"colorbar\": {\"outlinewidth\": 0, \"ticks\": \"\"}, \"type\": \"contour\"}], \"heatmapgl\": [{\"colorbar\": {\"outlinewidth\": 0, \"ticks\": \"\"}, \"type\": \"heatmapgl\"}], \"heatmap\": [{\"autocolorscale\": true, \"colorbar\": {\"outlinewidth\": 0, \"ticks\": \"\"}, \"type\": \"heatmap\"}], \"histogram2dcontour\": [{\"autocolorscale\": true, \"colorbar\": {\"outlinewidth\": 0, \"ticks\": \"\"}, \"type\": \"histogram2dcontour\"}], \"histogram2d\": [{\"autocolorscale\": true, \"colorbar\": {\"outlinewidth\": 0, \"ticks\": \"\"}, \"type\": \"histogram2d\"}], \"histogram\": [{\"marker\": {\"colorbar\": {\"outlinewidth\": 0, \"ticks\": \"\"}}, \"type\": \"histogram\"}], \"mesh3d\": [{\"colorbar\": {\"outlinewidth\": 0, \"ticks\": \"\"}, \"type\": \"mesh3d\"}], \"parcoords\": [{\"line\": {\"colorbar\": {\"outlinewidth\": 0, \"ticks\": \"\"}}, \"type\": \"parcoords\"}], \"scatter3d\": [{\"marker\": {\"colorbar\": {\"outlinewidth\": 0, \"ticks\": \"\"}}, \"type\": \"scatter3d\"}], \"scattercarpet\": [{\"marker\": {\"colorbar\": {\"outlinewidth\": 0, \"ticks\": \"\"}}, \"type\": \"scattercarpet\"}], \"scattergeo\": [{\"marker\": {\"colorbar\": {\"outlinewidth\": 0, \"ticks\": \"\"}}, \"type\": \"scattergeo\"}], \"scattergl\": [{\"marker\": {\"colorbar\": {\"outlinewidth\": 0, \"ticks\": \"\"}}, \"type\": \"scattergl\"}], \"scattermapbox\": [{\"marker\": {\"colorbar\": {\"outlinewidth\": 0, \"ticks\": \"\"}}, \"type\": \"scattermapbox\"}], \"scatterpolargl\": [{\"marker\": {\"colorbar\": {\"outlinewidth\": 0, \"ticks\": \"\"}}, \"type\": \"scatterpolargl\"}], \"scatterpolar\": [{\"marker\": {\"colorbar\": {\"outlinewidth\": 0, \"ticks\": \"\"}}, \"type\": \"scatterpolar\"}], \"scatter\": [{\"marker\": {\"colorbar\": {\"outlinewidth\": 0, \"ticks\": \"\"}}, \"type\": \"scatter\"}], \"scatterternary\": [{\"marker\": {\"colorbar\": {\"outlinewidth\": 0, \"ticks\": \"\"}}, \"type\": \"scatterternary\"}], \"surface\": [{\"colorbar\": {\"outlinewidth\": 0, \"ticks\": \"\"}, \"type\": \"surface\"}], \"table\": [{\"cells\": {\"fill\": {\"color\": \"#EBF0F8\"}, \"line\": {\"color\": \"white\"}}, \"header\": {\"fill\": {\"color\": \"#C8D4E3\"}, \"line\": {\"color\": \"white\"}}, \"type\": \"table\"}]}, \"layout\": {\"annotationdefaults\": {\"arrowcolor\": \"#506784\", \"arrowhead\": 0, \"arrowwidth\": 1}, \"colorscale\": {\"diverging\": [[0, \"#8e0152\"], [0.1, \"#c51b7d\"], [0.2, \"#de77ae\"], [0.3, \"#f1b6da\"], [0.4, \"#fde0ef\"], [0.5, \"#f7f7f7\"], [0.6, \"#e6f5d0\"], [0.7, \"#b8e186\"], [0.8, \"#7fbc41\"], [0.9, \"#4d9221\"], [1, \"#276419\"]], \"sequential\": [[0.0, \"#0508b8\"], [0.0893854748603352, \"#1910d8\"], [0.1787709497206704, \"#3c19f0\"], [0.2681564245810056, \"#6b1cfb\"], [0.3575418994413408, \"#981cfd\"], [0.44692737430167595, \"#bf1cfd\"], [0.5363128491620112, \"#dd2bfd\"], [0.6256983240223464, \"#f246fe\"], [0.7150837988826816, \"#fc67fd\"], [0.8044692737430168, \"#fe88fc\"], [0.8938547486033519, \"#fea5fd\"], [0.9832402234636871, \"#febefe\"], [1.0, \"#fec3fe\"]], \"sequentialminus\": [[0.0, \"#0508b8\"], [0.0893854748603352, \"#1910d8\"], [0.1787709497206704, \"#3c19f0\"], [0.2681564245810056, \"#6b1cfb\"], [0.3575418994413408, \"#981cfd\"], [0.44692737430167595, \"#bf1cfd\"], [0.5363128491620112, \"#dd2bfd\"], [0.6256983240223464, \"#f246fe\"], [0.7150837988826816, \"#fc67fd\"], [0.8044692737430168, \"#fe88fc\"], [0.8938547486033519, \"#fea5fd\"], [0.9832402234636871, \"#febefe\"], [1.0, \"#fec3fe\"]]}, \"colorway\": [\"#636efa\", \"#EF553B\", \"#00cc96\", \"#ab63fa\", \"#19d3f3\", \"#e763fa\", \"#FECB52\", \"#FFA15A\", \"#FF6692\", \"#B6E880\"], \"font\": {\"color\": \"#2a3f5f\"}, \"geo\": {\"bgcolor\": \"white\", \"lakecolor\": \"white\", \"landcolor\": \"#E5ECF6\", \"showlakes\": true, \"showland\": true, \"subunitcolor\": \"white\"}, \"hovermode\": \"closest\", \"mapbox\": {\"style\": \"light\"}, \"paper_bgcolor\": \"white\", \"plot_bgcolor\": \"#E5ECF6\", \"polar\": {\"angularaxis\": {\"gridcolor\": \"white\", \"linecolor\": \"white\", \"ticks\": \"\"}, \"bgcolor\": \"#E5ECF6\", \"radialaxis\": {\"gridcolor\": \"white\", \"linecolor\": \"white\", \"ticks\": \"\"}}, \"scene\": {\"xaxis\": {\"backgroundcolor\": \"#E5ECF6\", \"gridcolor\": \"white\", \"gridwidth\": 2, \"linecolor\": \"white\", \"showbackground\": true, \"ticks\": \"\", \"zerolinecolor\": \"white\"}, \"yaxis\": {\"backgroundcolor\": \"#E5ECF6\", \"gridcolor\": \"white\", \"gridwidth\": 2, \"linecolor\": \"white\", \"showbackground\": true, \"ticks\": \"\", \"zerolinecolor\": \"white\"}, \"zaxis\": {\"backgroundcolor\": \"#E5ECF6\", \"gridcolor\": \"white\", \"gridwidth\": 2, \"linecolor\": \"white\", \"showbackground\": true, \"ticks\": \"\", \"zerolinecolor\": \"white\"}}, \"shapedefaults\": {\"fillcolor\": \"#506784\", \"line\": {\"width\": 0}, \"opacity\": 0.4}, \"ternary\": {\"aaxis\": {\"gridcolor\": \"white\", \"linecolor\": \"white\", \"ticks\": \"\"}, \"baxis\": {\"gridcolor\": \"white\", \"linecolor\": \"white\", \"ticks\": \"\"}, \"bgcolor\": \"#E5ECF6\", \"caxis\": {\"gridcolor\": \"white\", \"linecolor\": \"white\", \"ticks\": \"\"}}, \"title\": {\"x\": 0.05}, \"xaxis\": {\"automargin\": true, \"gridcolor\": \"white\", \"linecolor\": \"white\", \"ticks\": \"\", \"zerolinecolor\": \"white\", \"zerolinewidth\": 2}, \"yaxis\": {\"automargin\": true, \"gridcolor\": \"white\", \"linecolor\": \"white\", \"ticks\": \"\", \"zerolinecolor\": \"white\", \"zerolinewidth\": 2}}}, \"polar\": {\"angularaxis\": {\"direction\": \"clockwise\", \"rotation\": 90}}}, {\"showLink\": false, \"linkText\": \"Export to plot.ly\", \"plotlyServerURL\": \"https://plot.ly\"}); \n",
       "}\n",
       "});</script><script type=\"text/javascript\">window.addEventListener(\"resize\", function(){if (document.getElementById(\"34158b11-512b-4b42-8a66-d0baa7af1030\")) {window._Plotly.Plots.resize(document.getElementById(\"34158b11-512b-4b42-8a66-d0baa7af1030\"));};})</script>"
      ],
      "text/vnd.plotly.v1+html": [
       "<div id=\"34158b11-512b-4b42-8a66-d0baa7af1030\" style=\"height: 600px; width: 100%;\" class=\"plotly-graph-div\"></div><script type=\"text/javascript\">require([\"plotly\"], function(Plotly) { window.PLOTLYENV=window.PLOTLYENV || {};window.PLOTLYENV.BASE_URL=\"https://plot.ly\";\n",
       "if (document.getElementById(\"34158b11-512b-4b42-8a66-d0baa7af1030\")) {\n",
       "    Plotly.newPlot(\"34158b11-512b-4b42-8a66-d0baa7af1030\", [{\"hovertemplate\": \"\\u00bfCada cu\\u00e1nto tiempo consumes im\\u00e1genes?=1. Nunca<br>counts=%{r}<br>prosume_cluster=%{theta}<extra></extra>\", \"legendgroup\": \"\\u00bfCada cu\\u00e1nto tiempo consumes im\\u00e1genes?=1. Nunca\", \"marker\": {\"color\": \"rgb(213,62,79)\"}, \"name\": \"\\u00bfCada cu\\u00e1nto tiempo consumes im\\u00e1genes?=1. Nunca\", \"r\": [3, 10], \"showlegend\": true, \"theta\": [\"cluster_1\", \"cluster_2\"], \"type\": \"barpolar\", \"uid\": \"0298d0be-d6ce-45d5-af2d-abd52724e925\"}, {\"hovertemplate\": \"\\u00bfCada cu\\u00e1nto tiempo consumes im\\u00e1genes?=2. Dos o tres veces por semana<br>counts=%{r}<br>prosume_cluster=%{theta}<extra></extra>\", \"legendgroup\": \"\\u00bfCada cu\\u00e1nto tiempo consumes im\\u00e1genes?=2. Dos o tres veces por semana\", \"marker\": {\"color\": \"rgb(252,141,89)\"}, \"name\": \"\\u00bfCada cu\\u00e1nto tiempo consumes im\\u00e1genes?=2. Dos o tres veces por semana\", \"r\": [21, 51, 10, 3, 16], \"showlegend\": true, \"theta\": [\"cluster_1\", \"cluster_2\", \"cluster_3\", \"cluster_4\", \"cluster_5\"], \"type\": \"barpolar\", \"uid\": \"c965fd6a-deb2-4289-854a-71772a3dd6b5\"}, {\"hovertemplate\": \"\\u00bfCada cu\\u00e1nto tiempo consumes im\\u00e1genes?=3. Casi todos los d\\u00edas<br>counts=%{r}<br>prosume_cluster=%{theta}<extra></extra>\", \"legendgroup\": \"\\u00bfCada cu\\u00e1nto tiempo consumes im\\u00e1genes?=3. Casi todos los d\\u00edas\", \"marker\": {\"color\": \"rgb(254,224,139)\"}, \"name\": \"\\u00bfCada cu\\u00e1nto tiempo consumes im\\u00e1genes?=3. Casi todos los d\\u00edas\", \"r\": [12, 68, 52, 17, 71], \"showlegend\": true, \"theta\": [\"cluster_1\", \"cluster_2\", \"cluster_3\", \"cluster_4\", \"cluster_5\"], \"type\": \"barpolar\", \"uid\": \"ca8c7378-8066-4e25-a33f-293982a98611\"}, {\"hovertemplate\": \"\\u00bfCada cu\\u00e1nto tiempo consumes im\\u00e1genes?=4. A diario<br>counts=%{r}<br>prosume_cluster=%{theta}<extra></extra>\", \"legendgroup\": \"\\u00bfCada cu\\u00e1nto tiempo consumes im\\u00e1genes?=4. A diario\", \"marker\": {\"color\": \"rgb(230,245,152)\"}, \"name\": \"\\u00bfCada cu\\u00e1nto tiempo consumes im\\u00e1genes?=4. A diario\", \"r\": [1, 67, 38, 78, 249], \"showlegend\": true, \"theta\": [\"cluster_1\", \"cluster_2\", \"cluster_3\", \"cluster_4\", \"cluster_5\"], \"type\": \"barpolar\", \"uid\": \"525c332e-1f70-49f3-b814-755c0844afc6\"}], {\"barmode\": \"group\", \"barnorm\": \"\", \"height\": 600, \"legend\": {\"tracegroupgap\": 0}, \"margin\": {\"t\": 60}, \"template\": {\"data\": {\"barpolar\": [{\"marker\": {\"line\": {\"color\": \"#E5ECF6\", \"width\": 0.5}}, \"type\": \"barpolar\"}], \"bar\": [{\"marker\": {\"line\": {\"color\": \"#E5ECF6\", \"width\": 0.5}}, \"type\": \"bar\"}], \"carpet\": [{\"aaxis\": {\"endlinecolor\": \"#2a3f5f\", \"gridcolor\": \"white\", \"linecolor\": \"white\", \"minorgridcolor\": \"white\", \"startlinecolor\": \"#2a3f5f\"}, \"baxis\": {\"endlinecolor\": \"#2a3f5f\", \"gridcolor\": \"white\", \"linecolor\": \"white\", \"minorgridcolor\": \"white\", \"startlinecolor\": \"#2a3f5f\"}, \"type\": \"carpet\"}], \"choropleth\": [{\"colorbar\": {\"outlinewidth\": 0, \"ticks\": \"\"}, \"type\": \"choropleth\"}], \"contourcarpet\": [{\"colorbar\": {\"outlinewidth\": 0, \"ticks\": \"\"}, \"type\": \"contourcarpet\"}], \"contour\": [{\"autocolorscale\": true, \"colorbar\": {\"outlinewidth\": 0, \"ticks\": \"\"}, \"type\": \"contour\"}], \"heatmapgl\": [{\"colorbar\": {\"outlinewidth\": 0, \"ticks\": \"\"}, \"type\": \"heatmapgl\"}], \"heatmap\": [{\"autocolorscale\": true, \"colorbar\": {\"outlinewidth\": 0, \"ticks\": \"\"}, \"type\": \"heatmap\"}], \"histogram2dcontour\": [{\"autocolorscale\": true, \"colorbar\": {\"outlinewidth\": 0, \"ticks\": \"\"}, \"type\": \"histogram2dcontour\"}], \"histogram2d\": [{\"autocolorscale\": true, \"colorbar\": {\"outlinewidth\": 0, \"ticks\": \"\"}, \"type\": \"histogram2d\"}], \"histogram\": [{\"marker\": {\"colorbar\": {\"outlinewidth\": 0, \"ticks\": \"\"}}, \"type\": \"histogram\"}], \"mesh3d\": [{\"colorbar\": {\"outlinewidth\": 0, \"ticks\": \"\"}, \"type\": \"mesh3d\"}], \"parcoords\": [{\"line\": {\"colorbar\": {\"outlinewidth\": 0, \"ticks\": \"\"}}, \"type\": \"parcoords\"}], \"scatter3d\": [{\"marker\": {\"colorbar\": {\"outlinewidth\": 0, \"ticks\": \"\"}}, \"type\": \"scatter3d\"}], \"scattercarpet\": [{\"marker\": {\"colorbar\": {\"outlinewidth\": 0, \"ticks\": \"\"}}, \"type\": \"scattercarpet\"}], \"scattergeo\": [{\"marker\": {\"colorbar\": {\"outlinewidth\": 0, \"ticks\": \"\"}}, \"type\": \"scattergeo\"}], \"scattergl\": [{\"marker\": {\"colorbar\": {\"outlinewidth\": 0, \"ticks\": \"\"}}, \"type\": \"scattergl\"}], \"scattermapbox\": [{\"marker\": {\"colorbar\": {\"outlinewidth\": 0, \"ticks\": \"\"}}, \"type\": \"scattermapbox\"}], \"scatterpolargl\": [{\"marker\": {\"colorbar\": {\"outlinewidth\": 0, \"ticks\": \"\"}}, \"type\": \"scatterpolargl\"}], \"scatterpolar\": [{\"marker\": {\"colorbar\": {\"outlinewidth\": 0, \"ticks\": \"\"}}, \"type\": \"scatterpolar\"}], \"scatter\": [{\"marker\": {\"colorbar\": {\"outlinewidth\": 0, \"ticks\": \"\"}}, \"type\": \"scatter\"}], \"scatterternary\": [{\"marker\": {\"colorbar\": {\"outlinewidth\": 0, \"ticks\": \"\"}}, \"type\": \"scatterternary\"}], \"surface\": [{\"colorbar\": {\"outlinewidth\": 0, \"ticks\": \"\"}, \"type\": \"surface\"}], \"table\": [{\"cells\": {\"fill\": {\"color\": \"#EBF0F8\"}, \"line\": {\"color\": \"white\"}}, \"header\": {\"fill\": {\"color\": \"#C8D4E3\"}, \"line\": {\"color\": \"white\"}}, \"type\": \"table\"}]}, \"layout\": {\"annotationdefaults\": {\"arrowcolor\": \"#506784\", \"arrowhead\": 0, \"arrowwidth\": 1}, \"colorscale\": {\"diverging\": [[0, \"#8e0152\"], [0.1, \"#c51b7d\"], [0.2, \"#de77ae\"], [0.3, \"#f1b6da\"], [0.4, \"#fde0ef\"], [0.5, \"#f7f7f7\"], [0.6, \"#e6f5d0\"], [0.7, \"#b8e186\"], [0.8, \"#7fbc41\"], [0.9, \"#4d9221\"], [1, \"#276419\"]], \"sequential\": [[0.0, \"#0508b8\"], [0.0893854748603352, \"#1910d8\"], [0.1787709497206704, \"#3c19f0\"], [0.2681564245810056, \"#6b1cfb\"], [0.3575418994413408, \"#981cfd\"], [0.44692737430167595, \"#bf1cfd\"], [0.5363128491620112, \"#dd2bfd\"], [0.6256983240223464, \"#f246fe\"], [0.7150837988826816, \"#fc67fd\"], [0.8044692737430168, \"#fe88fc\"], [0.8938547486033519, \"#fea5fd\"], [0.9832402234636871, \"#febefe\"], [1.0, \"#fec3fe\"]], \"sequentialminus\": [[0.0, \"#0508b8\"], [0.0893854748603352, \"#1910d8\"], [0.1787709497206704, \"#3c19f0\"], [0.2681564245810056, \"#6b1cfb\"], [0.3575418994413408, \"#981cfd\"], [0.44692737430167595, \"#bf1cfd\"], [0.5363128491620112, \"#dd2bfd\"], [0.6256983240223464, \"#f246fe\"], [0.7150837988826816, \"#fc67fd\"], [0.8044692737430168, \"#fe88fc\"], [0.8938547486033519, \"#fea5fd\"], [0.9832402234636871, \"#febefe\"], [1.0, \"#fec3fe\"]]}, \"colorway\": [\"#636efa\", \"#EF553B\", \"#00cc96\", \"#ab63fa\", \"#19d3f3\", \"#e763fa\", \"#FECB52\", \"#FFA15A\", \"#FF6692\", \"#B6E880\"], \"font\": {\"color\": \"#2a3f5f\"}, \"geo\": {\"bgcolor\": \"white\", \"lakecolor\": \"white\", \"landcolor\": \"#E5ECF6\", \"showlakes\": true, \"showland\": true, \"subunitcolor\": \"white\"}, \"hovermode\": \"closest\", \"mapbox\": {\"style\": \"light\"}, \"paper_bgcolor\": \"white\", \"plot_bgcolor\": \"#E5ECF6\", \"polar\": {\"angularaxis\": {\"gridcolor\": \"white\", \"linecolor\": \"white\", \"ticks\": \"\"}, \"bgcolor\": \"#E5ECF6\", \"radialaxis\": {\"gridcolor\": \"white\", \"linecolor\": \"white\", \"ticks\": \"\"}}, \"scene\": {\"xaxis\": {\"backgroundcolor\": \"#E5ECF6\", \"gridcolor\": \"white\", \"gridwidth\": 2, \"linecolor\": \"white\", \"showbackground\": true, \"ticks\": \"\", \"zerolinecolor\": \"white\"}, \"yaxis\": {\"backgroundcolor\": \"#E5ECF6\", \"gridcolor\": \"white\", \"gridwidth\": 2, \"linecolor\": \"white\", \"showbackground\": true, \"ticks\": \"\", \"zerolinecolor\": \"white\"}, \"zaxis\": {\"backgroundcolor\": \"#E5ECF6\", \"gridcolor\": \"white\", \"gridwidth\": 2, \"linecolor\": \"white\", \"showbackground\": true, \"ticks\": \"\", \"zerolinecolor\": \"white\"}}, \"shapedefaults\": {\"fillcolor\": \"#506784\", \"line\": {\"width\": 0}, \"opacity\": 0.4}, \"ternary\": {\"aaxis\": {\"gridcolor\": \"white\", \"linecolor\": \"white\", \"ticks\": \"\"}, \"baxis\": {\"gridcolor\": \"white\", \"linecolor\": \"white\", \"ticks\": \"\"}, \"bgcolor\": \"#E5ECF6\", \"caxis\": {\"gridcolor\": \"white\", \"linecolor\": \"white\", \"ticks\": \"\"}}, \"title\": {\"x\": 0.05}, \"xaxis\": {\"automargin\": true, \"gridcolor\": \"white\", \"linecolor\": \"white\", \"ticks\": \"\", \"zerolinecolor\": \"white\", \"zerolinewidth\": 2}, \"yaxis\": {\"automargin\": true, \"gridcolor\": \"white\", \"linecolor\": \"white\", \"ticks\": \"\", \"zerolinecolor\": \"white\", \"zerolinewidth\": 2}}}, \"polar\": {\"angularaxis\": {\"direction\": \"clockwise\", \"rotation\": 90}}}, {\"showLink\": false, \"linkText\": \"Export to plot.ly\", \"plotlyServerURL\": \"https://plot.ly\"}); \n",
       "}\n",
       "});</script><script type=\"text/javascript\">window.addEventListener(\"resize\", function(){if (document.getElementById(\"34158b11-512b-4b42-8a66-d0baa7af1030\")) {window._Plotly.Plots.resize(document.getElementById(\"34158b11-512b-4b42-8a66-d0baa7af1030\"));};})</script>"
      ]
     },
     "metadata": {},
     "output_type": "display_data"
    }
   ],
   "source": [
    "compare_reception_images_by_prosume_clusters_esp(dataframe_with_clusters_esp)"
   ]
  },
  {
   "cell_type": "code",
   "execution_count": 12,
   "metadata": {},
   "outputs": [],
   "source": [
    "#compare_reception_images_by_prosume_clusters_en(dataframe_with_clusters_en)"
   ]
  }
 ],
 "metadata": {
  "kernelspec": {
   "display_name": "Python 3",
   "language": "python",
   "name": "python3"
  },
  "language_info": {
   "codemirror_mode": {
    "name": "ipython",
    "version": 3
   },
   "file_extension": ".py",
   "mimetype": "text/x-python",
   "name": "python",
   "nbconvert_exporter": "python",
   "pygments_lexer": "ipython3",
   "version": "3.6.8"
  }
 },
 "nbformat": 4,
 "nbformat_minor": 2
}
